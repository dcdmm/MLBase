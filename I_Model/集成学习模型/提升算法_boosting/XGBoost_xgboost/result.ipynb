{
 "cells": [
  {
   "cell_type": "code",
   "execution_count": 66,
   "metadata": {
    "collapsed": true
   },
   "outputs": [],
   "source": [
    "import xgboost as xgb\n",
    "from sklearn import datasets\n",
    "from sklearn.model_selection import train_test_split\n",
    "import numpy as np\n",
    "from sklearn.preprocessing import OrdinalEncoder"
   ]
  },
  {
   "cell_type": "code",
   "execution_count": 67,
   "outputs": [
    {
     "name": "stdout",
     "output_type": "stream",
     "text": [
      "(2025, 54) (2025,)\n",
      "[1 2 3 4 5 6 7]\n"
     ]
    }
   ],
   "source": [
    "X = datasets.fetch_covtype().data[:3000]\n",
    "y = datasets.fetch_covtype().target[:3000]\n",
    "X_1, X_test, y_1, y_test = train_test_split(X, y, test_size=0.1)\n",
    "X_train, X_va, y_train, y_va = train_test_split(X_1, y_1)\n",
    "\n",
    "print(X_train.shape, y_train.shape)\n",
    "print(np.unique(y_train))  # 7分类任务"
   ],
   "metadata": {
    "collapsed": false,
    "pycharm": {
     "name": "#%%\n"
    }
   }
  },
  {
   "cell_type": "code",
   "execution_count": 68,
   "outputs": [
    {
     "name": "stdout",
     "output_type": "stream",
     "text": [
      "[0. 1. 2. 3. 4. 5. 6.]\n",
      "(2025, 1)\n"
     ]
    }
   ],
   "source": [
    "enc = OrdinalEncoder()\n",
    "y_train_enc = enc.fit_transform(y_train.reshape(-1, 1))\n",
    "y_test_enc = enc.transform(y_test.reshape(-1, 1))\n",
    "y_va_enc = enc.fit_transform(y_va.reshape(-1, 1))\n",
    "print(np.unique(y_train_enc))\n",
    "print(y_train_enc.shape)"
   ],
   "metadata": {
    "collapsed": false,
    "pycharm": {
     "name": "#%%\n"
    }
   }
  },
  {
   "cell_type": "code",
   "execution_count": 69,
   "outputs": [],
   "source": [
    "# 标签格式要求:label.shape = (num_sample, 1)\n",
    "train_dataset = xgb.DMatrix(data=X_train, label=y_train_enc)\n",
    "val_dataset = xgb.DMatrix(data=X_va, label=y_va_enc)\n",
    "test_dataset = xgb.DMatrix(data=X_test)"
   ],
   "metadata": {
    "collapsed": false,
    "pycharm": {
     "name": "#%%\n"
    }
   }
  },
  {
   "cell_type": "code",
   "execution_count": 70,
   "outputs": [],
   "source": [
    "params = {'objective': 'multi:softmax',\n",
    "          \"eval_metric\": 'mlogloss',\n",
    "          \"verbosity\": 0,\n",
    "          \"max_depth\": 3,\n",
    "          'num_class': 7}\n",
    "\n",
    "# train_dataset的名称为train_,val_dataset的名称定义为val_\n",
    "eval_set = [(train_dataset, \"train_\"), (val_dataset, \"val_\")]\n",
    "evals_result = {}  # 储存评估指标(内置和自定义)结果"
   ],
   "metadata": {
    "collapsed": false,
    "pycharm": {
     "name": "#%%\n"
    }
   }
  },
  {
   "cell_type": "code",
   "execution_count": 71,
   "outputs": [],
   "source": [
    "from sklearn.metrics import log_loss\n",
    "\n",
    "\n",
    "def my_xgb_loss(y_pred, y_true):\n",
    "    \"\"\"xgboost自定义验证数据集损失函数格式\"\"\"\n",
    "    loss = log_loss(y_true.get_label(), y_pred)\n",
    "    return 'MY_GBM_LOSS', loss"
   ],
   "metadata": {
    "collapsed": false,
    "pycharm": {
     "name": "#%%\n"
    }
   }
  },
  {
   "cell_type": "code",
   "execution_count": 72,
   "outputs": [
    {
     "name": "stdout",
     "output_type": "stream",
     "text": [
      "[0]\ttrain_-mlogloss:1.50301\ttrain_-MY_GBM_LOSS:1.37300\tval_-mlogloss:1.52248\tval_-MY_GBM_LOSS:1.40228\n",
      "[20]\ttrain_-mlogloss:0.42090\ttrain_-MY_GBM_LOSS:0.74937\tval_-mlogloss:0.54136\tval_-MY_GBM_LOSS:1.14210\n",
      "[40]\ttrain_-mlogloss:0.28880\ttrain_-MY_GBM_LOSS:0.60300\tval_-mlogloss:0.47181\tval_-MY_GBM_LOSS:1.12613\n",
      "[60]\ttrain_-mlogloss:0.22168\ttrain_-MY_GBM_LOSS:0.55916\tval_-mlogloss:0.45836\tval_-MY_GBM_LOSS:1.57441\n",
      "[80]\ttrain_-mlogloss:0.17178\ttrain_-MY_GBM_LOSS:0.49661\tval_-mlogloss:0.44062\tval_-MY_GBM_LOSS:1.54414\n",
      "[100]\ttrain_-mlogloss:0.13673\ttrain_-MY_GBM_LOSS:0.45855\tval_-mlogloss:0.42927\tval_-MY_GBM_LOSS:1.46680\n",
      "[102]\ttrain_-mlogloss:0.13370\ttrain_-MY_GBM_LOSS:0.45466\tval_-mlogloss:0.42765\tval_-MY_GBM_LOSS:1.46217\n"
     ]
    }
   ],
   "source": [
    "model = xgb.train(params=params,\n",
    "                  dtrain=train_dataset,\n",
    "                  # num_boost_round (int) – Number of boosting iterations.\n",
    "                  # 默认num_boost_round=10\n",
    "                  num_boost_round=200,\n",
    "                  # List of validation sets for which metrics will evaluated during training.\n",
    "                  evals=eval_set,\n",
    "                  early_stopping_rounds=100,\n",
    "                  # verbose_eval (bool or int) – Requires at least one item in evals.\n",
    "                  # If verbose_eval is True then the evaluation metric on the validation set is printed at each boosting stage.\n",
    "                  # If verbose_eval is an integer then the evaluation metric on the validation set is printed at every given verbose_eval boosting stage.\n",
    "                  # The last boosting stage / the boosting stage found by using\n",
    "                  verbose_eval=20,  # 默认verbose_eval=True\n",
    "                  evals_result=evals_result,\n",
    "                  feval=my_xgb_loss,\n",
    "                  )"
   ],
   "metadata": {
    "collapsed": false,
    "pycharm": {
     "name": "#%%\n"
    }
   }
  },
  {
   "cell_type": "code",
   "execution_count": 73,
   "outputs": [
    {
     "data": {
      "text/plain": "(300,)"
     },
     "execution_count": 73,
     "metadata": {},
     "output_type": "execute_result"
    }
   ],
   "source": [
    "# 预测结果为概率向量(多分类)\n",
    "# test_dataset:The dmatrix storing the input\n",
    "model.predict(test_dataset).shape"
   ],
   "metadata": {
    "collapsed": false,
    "pycharm": {
     "name": "#%%\n"
    }
   }
  },
  {
   "cell_type": "code",
   "execution_count": 74,
   "outputs": [
    {
     "data": {
      "text/plain": "{'train_': OrderedDict([('mlogloss',\n               [1.503009,\n                1.251437,\n                1.087687,\n                0.968982,\n                0.866905,\n                0.796426,\n                0.736344,\n                0.688435,\n                0.646976,\n                0.609742,\n                0.580633,\n                0.552472,\n                0.532816,\n                0.510992,\n                0.491823,\n                0.476475,\n                0.462055,\n                0.449604,\n                0.439608,\n                0.428629,\n                0.420898,\n                0.411746,\n                0.400924,\n                0.391963,\n                0.38417,\n                0.375829,\n                0.370084,\n                0.363102,\n                0.356112,\n                0.348809,\n                0.34321,\n                0.3368,\n                0.331415,\n                0.326187,\n                0.320882,\n                0.315857,\n                0.308966,\n                0.303636,\n                0.299234,\n                0.293576,\n                0.288797,\n                0.2852,\n                0.281027,\n                0.275753,\n                0.272204,\n                0.268747,\n                0.265116,\n                0.260805,\n                0.257993,\n                0.254601,\n                0.251304,\n                0.248333,\n                0.245377,\n                0.242258,\n                0.239601,\n                0.236681,\n                0.234186,\n                0.229869,\n                0.227391,\n                0.2248,\n                0.22168,\n                0.2186,\n                0.216509,\n                0.213568,\n                0.209923,\n                0.208059,\n                0.205771,\n                0.203996,\n                0.202319,\n                0.199252,\n                0.197078,\n                0.194696,\n                0.19232,\n                0.18921,\n                0.186517,\n                0.182977,\n                0.180427,\n                0.178734,\n                0.176121,\n                0.173711,\n                0.171782,\n                0.16986,\n                0.167517,\n                0.166153,\n                0.164058,\n                0.162491,\n                0.16138,\n                0.15944,\n                0.157002,\n                0.155447,\n                0.154013,\n                0.152271,\n                0.150104,\n                0.14833,\n                0.146862,\n                0.145062,\n                0.143251,\n                0.141612,\n                0.139809,\n                0.137856,\n                0.136734,\n                0.135344,\n                0.1337]),\n              ('MY_GBM_LOSS',\n               [1.372998,\n                1.081986,\n                0.797165,\n                0.951026,\n                0.858113,\n                0.914555,\n                0.838574,\n                0.87165,\n                0.864904,\n                0.831149,\n                0.829979,\n                0.823698,\n                0.819533,\n                0.8152,\n                0.813244,\n                0.809468,\n                0.781765,\n                0.776451,\n                0.775266,\n                0.754764,\n                0.749366,\n                0.74759,\n                0.742307,\n                0.732022,\n                0.726733,\n                0.686589,\n                0.682524,\n                0.676286,\n                0.672485,\n                0.667588,\n                0.677007,\n                0.671504,\n                0.651907,\n                0.648508,\n                0.644135,\n                0.640607,\n                0.633959,\n                0.616456,\n                0.612639,\n                0.606474,\n                0.603002,\n                0.601293,\n                0.596144,\n                0.591519,\n                0.587017,\n                0.585017,\n                0.579818,\n                0.576611,\n                0.574597,\n                0.571181,\n                0.571072,\n                0.56866,\n                0.566646,\n                0.563225,\n                0.559707,\n                0.557454,\n                0.554564,\n                0.550559,\n                0.547975,\n                0.545863,\n                0.559157,\n                0.556107,\n                0.553353,\n                0.551023,\n                0.549381,\n                0.547689,\n                0.544627,\n                0.54305,\n                0.542382,\n                0.538961,\n                0.53779,\n                0.534709,\n                0.532716,\n                0.514952,\n                0.512385,\n                0.508395,\n                0.506307,\n                0.505442,\n                0.502853,\n                0.499604,\n                0.496614,\n                0.494367,\n                0.491101,\n                0.48954,\n                0.486605,\n                0.486246,\n                0.485638,\n                0.483856,\n                0.481185,\n                0.479274,\n                0.477596,\n                0.475759,\n                0.473556,\n                0.47184,\n                0.470006,\n                0.46725,\n                0.464842,\n                0.463763,\n                0.462769,\n                0.459745,\n                0.45855,\n                0.457304,\n                0.454658])]),\n 'val_': OrderedDict([('mlogloss',\n               [1.522478,\n                1.286658,\n                1.133894,\n                1.022727,\n                0.928823,\n                0.860489,\n                0.803898,\n                0.763367,\n                0.724012,\n                0.68974,\n                0.664393,\n                0.642566,\n                0.627305,\n                0.609052,\n                0.59358,\n                0.581557,\n                0.571311,\n                0.560412,\n                0.554361,\n                0.54516,\n                0.541358,\n                0.533061,\n                0.526774,\n                0.521576,\n                0.51745,\n                0.511297,\n                0.508552,\n                0.506122,\n                0.503594,\n                0.49899,\n                0.495603,\n                0.493302,\n                0.491707,\n                0.488419,\n                0.486399,\n                0.48346,\n                0.478867,\n                0.47782,\n                0.47809,\n                0.473838,\n                0.471806,\n                0.471404,\n                0.470198,\n                0.468544,\n                0.468479,\n                0.467687,\n                0.468323,\n                0.466422,\n                0.465632,\n                0.466436,\n                0.464204,\n                0.463367,\n                0.463856,\n                0.462536,\n                0.461727,\n                0.462591,\n                0.462819,\n                0.460818,\n                0.458992,\n                0.458599,\n                0.458358,\n                0.455097,\n                0.455479,\n                0.454574,\n                0.450869,\n                0.452226,\n                0.451999,\n                0.45122,\n                0.45157,\n                0.451047,\n                0.450806,\n                0.450299,\n                0.44987,\n                0.449823,\n                0.450189,\n                0.446381,\n                0.446017,\n                0.445667,\n                0.445262,\n                0.441399,\n                0.440622,\n                0.439459,\n                0.43858,\n                0.438717,\n                0.439724,\n                0.439571,\n                0.438681,\n                0.438351,\n                0.436676,\n                0.437023,\n                0.434773,\n                0.436024,\n                0.435831,\n                0.434768,\n                0.433827,\n                0.432803,\n                0.43277,\n                0.431682,\n                0.431258,\n                0.430119,\n                0.429274,\n                0.429056,\n                0.427649]),\n              ('MY_GBM_LOSS',\n               [1.402277,\n                1.111756,\n                0.934871,\n                1.379281,\n                1.236516,\n                1.267417,\n                1.163289,\n                1.208382,\n                1.197638,\n                1.192348,\n                1.143652,\n                1.134655,\n                1.132153,\n                1.126965,\n                1.126178,\n                1.124627,\n                1.109913,\n                1.107159,\n                1.104696,\n                1.146482,\n                1.142105,\n                1.140662,\n                1.136731,\n                1.127623,\n                1.120922,\n                1.116831,\n                1.113326,\n                1.16017,\n                1.202801,\n                1.106064,\n                1.10065,\n                1.19188,\n                1.102204,\n                1.09441,\n                1.092089,\n                1.092836,\n                1.091353,\n                1.0887,\n                1.086704,\n                1.127498,\n                1.126125,\n                1.171854,\n                1.169628,\n                1.16813,\n                1.260573,\n                1.215989,\n                1.266963,\n                1.309743,\n                1.354345,\n                1.399419,\n                1.400619,\n                1.490839,\n                1.447443,\n                1.44424,\n                1.443354,\n                1.447966,\n                1.443112,\n                1.48238,\n                1.528324,\n                1.52853,\n                1.574405,\n                1.524464,\n                1.526656,\n                1.478394,\n                1.522137,\n                1.522072,\n                1.56594,\n                1.517447,\n                1.564827,\n                1.562509,\n                1.560501,\n                1.555226,\n                1.553004,\n                1.598135,\n                1.59768,\n                1.595437,\n                1.593551,\n                1.593274,\n                1.545531,\n                1.545511,\n                1.544142,\n                1.540127,\n                1.538092,\n                1.535996,\n                1.534217,\n                1.533545,\n                1.532497,\n                1.53072,\n                1.574122,\n                1.575384,\n                1.574023,\n                1.618026,\n                1.574835,\n                1.6161,\n                1.569171,\n                1.47873,\n                1.478101,\n                1.475003,\n                1.47323,\n                1.468716,\n                1.466795,\n                1.46713,\n                1.462172])])}"
     },
     "execution_count": 74,
     "metadata": {},
     "output_type": "execute_result"
    }
   ],
   "source": [
    "evals_result"
   ],
   "metadata": {
    "collapsed": false,
    "pycharm": {
     "name": "#%%\n"
    }
   }
  },
  {
   "cell_type": "code",
   "execution_count": 75,
   "outputs": [
    {
     "data": {
      "text/plain": "odict_keys(['mlogloss', 'MY_GBM_LOSS'])"
     },
     "execution_count": 75,
     "metadata": {},
     "output_type": "execute_result"
    }
   ],
   "source": [
    "evals_result['train_'].keys()"
   ],
   "metadata": {
    "collapsed": false,
    "pycharm": {
     "name": "#%%\n"
    }
   }
  },
  {
   "cell_type": "code",
   "execution_count": 76,
   "outputs": [
    {
     "data": {
      "text/plain": "<AxesSubplot:title={'center':'Feature importance'}, xlabel='F score', ylabel='Features'>"
     },
     "execution_count": 76,
     "metadata": {},
     "output_type": "execute_result"
    },
    {
     "data": {
      "text/plain": "<Figure size 432x288 with 1 Axes>",
      "image/png": "[encoded data removed]"
     },
     "metadata": {
      "needs_background": "light"
     },
     "output_type": "display_data"
    }
   ],
   "source": [
    "# 绘制特征的相对重要性\n",
    "xgb.plot_importance(model)"
   ],
   "metadata": {
    "collapsed": false,
    "pycharm": {
     "name": "#%%\n"
    }
   }
  },
  {
   "cell_type": "code",
   "execution_count": 77,
   "outputs": [
    {
     "data": {
      "image/svg+xml": "<?xml version=\"1.0\" encoding=\"UTF-8\" standalone=\"no\"?>\n<!DOCTYPE svg PUBLIC \"-//W3C//DTD SVG 1.1//EN\"\n \"http://www.w3.org/Graphics/SVG/1.1/DTD/svg11.dtd\">\n<!-- Generated by graphviz version 3.0.0 (20220226.1711)\n -->\n<!-- Pages: 1 -->\n<svg width=\"1376pt\" height=\"305pt\"\n viewBox=\"0.00 0.00 1376.39 305.00\" xmlns=\"http://www.w3.org/2000/svg\" xmlns:xlink=\"http://www.w3.org/1999/xlink\">\n<g id=\"graph0\" class=\"graph\" transform=\"scale(1 1) rotate(0) translate(4 301)\">\n<polygon fill=\"white\" stroke=\"transparent\" points=\"-4,4 -4,-301 1372.39,-301 1372.39,4 -4,4\"/>\n<!-- 0 -->\n<g id=\"node1\" class=\"node\">\n<title>0</title>\n<ellipse fill=\"none\" stroke=\"black\" cx=\"626.99\" cy=\"-279\" rx=\"48.19\" ry=\"18\"/>\n<text text-anchor=\"middle\" x=\"626.99\" y=\"-275.3\" font-family=\"Times New Roman,serif\" font-size=\"14.00\">f0&lt;3004.5</text>\n</g>\n<!-- 1 -->\n<g id=\"node2\" class=\"node\">\n<title>1</title>\n<ellipse fill=\"none\" stroke=\"black\" cx=\"542.99\" cy=\"-192\" rx=\"48.19\" ry=\"18\"/>\n<text text-anchor=\"middle\" x=\"542.99\" y=\"-188.3\" font-family=\"Times New Roman,serif\" font-size=\"14.00\">f5&lt;2878.5</text>\n</g>\n<!-- 0&#45;&gt;1 -->\n<g id=\"edge1\" class=\"edge\">\n<title>0&#45;&gt;1</title>\n<path fill=\"none\" stroke=\"#0000ff\" d=\"M610.8,-261.61C598.05,-248.71 580.12,-230.57 565.9,-216.18\"/>\n<polygon fill=\"#0000ff\" stroke=\"#0000ff\" points=\"568.37,-213.7 558.85,-209.05 563.39,-218.62 568.37,-213.7\"/>\n<text text-anchor=\"middle\" x=\"625.49\" y=\"-231.8\" font-family=\"Times New Roman,serif\" font-size=\"14.00\">yes, missing</text>\n</g>\n<!-- 2 -->\n<g id=\"node3\" class=\"node\">\n<title>2</title>\n<ellipse fill=\"none\" stroke=\"black\" cx=\"840.99\" cy=\"-192\" rx=\"40.89\" ry=\"18\"/>\n<text text-anchor=\"middle\" x=\"840.99\" y=\"-188.3\" font-family=\"Times New Roman,serif\" font-size=\"14.00\">f5&lt;2997</text>\n</g>\n<!-- 0&#45;&gt;2 -->\n<g id=\"edge2\" class=\"edge\">\n<title>0&#45;&gt;2</title>\n<path fill=\"none\" stroke=\"#ff0000\" d=\"M659.03,-265.27C697.24,-250.1 761.09,-224.74 802.1,-208.45\"/>\n<polygon fill=\"#ff0000\" stroke=\"#ff0000\" points=\"803.49,-211.66 811.5,-204.72 800.91,-205.16 803.49,-211.66\"/>\n<text text-anchor=\"middle\" x=\"754.49\" y=\"-231.8\" font-family=\"Times New Roman,serif\" font-size=\"14.00\">no</text>\n</g>\n<!-- 3 -->\n<g id=\"node4\" class=\"node\">\n<title>3</title>\n<ellipse fill=\"none\" stroke=\"black\" cx=\"252.99\" cy=\"-105\" rx=\"40.89\" ry=\"18\"/>\n<text text-anchor=\"middle\" x=\"252.99\" y=\"-101.3\" font-family=\"Times New Roman,serif\" font-size=\"14.00\">f0&lt;2932</text>\n</g>\n<!-- 1&#45;&gt;3 -->\n<g id=\"edge3\" class=\"edge\">\n<title>1&#45;&gt;3</title>\n<path fill=\"none\" stroke=\"#0000ff\" d=\"M506.26,-180.23C452.63,-164.52 353.1,-135.34 296.08,-118.63\"/>\n<polygon fill=\"#0000ff\" stroke=\"#0000ff\" points=\"296.87,-115.21 286.29,-115.76 294.9,-121.93 296.87,-115.21\"/>\n<text text-anchor=\"middle\" x=\"450.49\" y=\"-144.8\" font-family=\"Times New Roman,serif\" font-size=\"14.00\">yes, missing</text>\n</g>\n<!-- 4 -->\n<g id=\"node5\" class=\"node\">\n<title>4</title>\n<ellipse fill=\"none\" stroke=\"black\" cx=\"542.99\" cy=\"-105\" rx=\"40.89\" ry=\"18\"/>\n<text text-anchor=\"middle\" x=\"542.99\" y=\"-101.3\" font-family=\"Times New Roman,serif\" font-size=\"14.00\">f9&lt;2245</text>\n</g>\n<!-- 1&#45;&gt;4 -->\n<g id=\"edge4\" class=\"edge\">\n<title>1&#45;&gt;4</title>\n<path fill=\"none\" stroke=\"#ff0000\" d=\"M542.99,-173.8C542.99,-162.16 542.99,-146.55 542.99,-133.24\"/>\n<polygon fill=\"#ff0000\" stroke=\"#ff0000\" points=\"546.49,-133.18 542.99,-123.18 539.49,-133.18 546.49,-133.18\"/>\n<text text-anchor=\"middle\" x=\"550.49\" y=\"-144.8\" font-family=\"Times New Roman,serif\" font-size=\"14.00\">no</text>\n</g>\n<!-- 5 -->\n<g id=\"node10\" class=\"node\">\n<title>5</title>\n<ellipse fill=\"none\" stroke=\"black\" cx=\"840.99\" cy=\"-105\" rx=\"48.19\" ry=\"18\"/>\n<text text-anchor=\"middle\" x=\"840.99\" y=\"-101.3\" font-family=\"Times New Roman,serif\" font-size=\"14.00\">f9&lt;2160.5</text>\n</g>\n<!-- 2&#45;&gt;5 -->\n<g id=\"edge9\" class=\"edge\">\n<title>2&#45;&gt;5</title>\n<path fill=\"none\" stroke=\"#0000ff\" d=\"M840.99,-173.8C840.99,-162.16 840.99,-146.55 840.99,-133.24\"/>\n<polygon fill=\"#0000ff\" stroke=\"#0000ff\" points=\"844.49,-133.18 840.99,-123.18 837.49,-133.18 844.49,-133.18\"/>\n<text text-anchor=\"middle\" x=\"875.49\" y=\"-144.8\" font-family=\"Times New Roman,serif\" font-size=\"14.00\">yes, missing</text>\n</g>\n<!-- 6 -->\n<g id=\"node11\" class=\"node\">\n<title>6</title>\n<ellipse fill=\"none\" stroke=\"black\" cx=\"1123.99\" cy=\"-105\" rx=\"38.99\" ry=\"18\"/>\n<text text-anchor=\"middle\" x=\"1123.99\" y=\"-101.3\" font-family=\"Times New Roman,serif\" font-size=\"14.00\">f4&lt;39.5</text>\n</g>\n<!-- 2&#45;&gt;6 -->\n<g id=\"edge10\" class=\"edge\">\n<title>2&#45;&gt;6</title>\n<path fill=\"none\" stroke=\"#ff0000\" d=\"M873.73,-181.17C925.34,-165.67 1025.55,-135.57 1082.26,-118.54\"/>\n<polygon fill=\"#ff0000\" stroke=\"#ff0000\" points=\"1083.41,-121.84 1091.98,-115.61 1081.4,-115.14 1083.41,-121.84\"/>\n<text text-anchor=\"middle\" x=\"1007.49\" y=\"-144.8\" font-family=\"Times New Roman,serif\" font-size=\"14.00\">no</text>\n</g>\n<!-- 7 -->\n<g id=\"node6\" class=\"node\">\n<title>7</title>\n<ellipse fill=\"none\" stroke=\"black\" cx=\"77.99\" cy=\"-18\" rx=\"77.99\" ry=\"18\"/>\n<text text-anchor=\"middle\" x=\"77.99\" y=\"-14.3\" font-family=\"Times New Roman,serif\" font-size=\"14.00\">leaf=&#45;0.150947064</text>\n</g>\n<!-- 3&#45;&gt;7 -->\n<g id=\"edge5\" class=\"edge\">\n<title>3&#45;&gt;7</title>\n<path fill=\"none\" stroke=\"#0000ff\" d=\"M226.27,-91.26C212.44,-84.64 195.3,-76.42 179.99,-69 159.8,-59.21 137.41,-48.25 118.76,-39.09\"/>\n<polygon fill=\"#0000ff\" stroke=\"#0000ff\" points=\"120.18,-35.88 109.66,-34.61 117.09,-42.16 120.18,-35.88\"/>\n<text text-anchor=\"middle\" x=\"214.49\" y=\"-57.8\" font-family=\"Times New Roman,serif\" font-size=\"14.00\">yes, missing</text>\n</g>\n<!-- 8 -->\n<g id=\"node7\" class=\"node\">\n<title>8</title>\n<ellipse fill=\"none\" stroke=\"black\" cx=\"252.99\" cy=\"-18\" rx=\"79.09\" ry=\"18\"/>\n<text text-anchor=\"middle\" x=\"252.99\" y=\"-14.3\" font-family=\"Times New Roman,serif\" font-size=\"14.00\">leaf=0.0308319684</text>\n</g>\n<!-- 3&#45;&gt;8 -->\n<g id=\"edge6\" class=\"edge\">\n<title>3&#45;&gt;8</title>\n<path fill=\"none\" stroke=\"#ff0000\" d=\"M252.99,-86.8C252.99,-75.16 252.99,-59.55 252.99,-46.24\"/>\n<polygon fill=\"#ff0000\" stroke=\"#ff0000\" points=\"256.49,-46.18 252.99,-36.18 249.49,-46.18 256.49,-46.18\"/>\n<text text-anchor=\"middle\" x=\"260.49\" y=\"-57.8\" font-family=\"Times New Roman,serif\" font-size=\"14.00\">no</text>\n</g>\n<!-- 9 -->\n<g id=\"node8\" class=\"node\">\n<title>9</title>\n<ellipse fill=\"none\" stroke=\"black\" cx=\"432.99\" cy=\"-18\" rx=\"82.59\" ry=\"18\"/>\n<text text-anchor=\"middle\" x=\"432.99\" y=\"-14.3\" font-family=\"Times New Roman,serif\" font-size=\"14.00\">leaf=&#45;0.0830997527</text>\n</g>\n<!-- 4&#45;&gt;9 -->\n<g id=\"edge7\" class=\"edge\">\n<title>4&#45;&gt;9</title>\n<path fill=\"none\" stroke=\"#0000ff\" d=\"M523.58,-89C506.63,-75.9 481.79,-56.71 462.4,-41.73\"/>\n<polygon fill=\"#0000ff\" stroke=\"#0000ff\" points=\"464.52,-38.94 454.47,-35.59 460.24,-44.48 464.52,-38.94\"/>\n<text text-anchor=\"middle\" x=\"529.49\" y=\"-57.8\" font-family=\"Times New Roman,serif\" font-size=\"14.00\">yes, missing</text>\n</g>\n<!-- 10 -->\n<g id=\"node9\" class=\"node\">\n<title>10</title>\n<ellipse fill=\"none\" stroke=\"black\" cx=\"608.99\" cy=\"-18\" rx=\"75.29\" ry=\"18\"/>\n<text text-anchor=\"middle\" x=\"608.99\" y=\"-14.3\" font-family=\"Times New Roman,serif\" font-size=\"14.00\">leaf=0.158636168</text>\n</g>\n<!-- 4&#45;&gt;10 -->\n<g id=\"edge8\" class=\"edge\">\n<title>4&#45;&gt;10</title>\n<path fill=\"none\" stroke=\"#ff0000\" d=\"M555.72,-87.61C565.27,-75.31 578.53,-58.23 589.43,-44.2\"/>\n<polygon fill=\"#ff0000\" stroke=\"#ff0000\" points=\"592.49,-45.97 595.85,-35.92 586.96,-41.67 592.49,-45.97\"/>\n<text text-anchor=\"middle\" x=\"587.49\" y=\"-57.8\" font-family=\"Times New Roman,serif\" font-size=\"14.00\">no</text>\n</g>\n<!-- 11 -->\n<g id=\"node12\" class=\"node\">\n<title>11</title>\n<ellipse fill=\"none\" stroke=\"black\" cx=\"777.99\" cy=\"-18\" rx=\"75.29\" ry=\"18\"/>\n<text text-anchor=\"middle\" x=\"777.99\" y=\"-14.3\" font-family=\"Times New Roman,serif\" font-size=\"14.00\">leaf=0.478552282</text>\n</g>\n<!-- 5&#45;&gt;11 -->\n<g id=\"edge11\" class=\"edge\">\n<title>5&#45;&gt;11</title>\n<path fill=\"none\" stroke=\"#0000ff\" d=\"M828.55,-87.21C819.4,-74.87 806.82,-57.89 796.5,-43.97\"/>\n<polygon fill=\"#0000ff\" stroke=\"#0000ff\" points=\"799.18,-41.71 790.41,-35.76 793.56,-45.88 799.18,-41.71\"/>\n<text text-anchor=\"middle\" x=\"848.49\" y=\"-57.8\" font-family=\"Times New Roman,serif\" font-size=\"14.00\">yes, missing</text>\n</g>\n<!-- 12 -->\n<g id=\"node13\" class=\"node\">\n<title>12</title>\n<ellipse fill=\"none\" stroke=\"black\" cx=\"950.99\" cy=\"-18\" rx=\"79.09\" ry=\"18\"/>\n<text text-anchor=\"middle\" x=\"950.99\" y=\"-14.3\" font-family=\"Times New Roman,serif\" font-size=\"14.00\">leaf=0.0449197777</text>\n</g>\n<!-- 5&#45;&gt;12 -->\n<g id=\"edge12\" class=\"edge\">\n<title>5&#45;&gt;12</title>\n<path fill=\"none\" stroke=\"#ff0000\" d=\"M861.64,-88.38C869.59,-82.34 878.73,-75.37 886.99,-69 898.47,-60.15 911.05,-50.35 922,-41.78\"/>\n<polygon fill=\"#ff0000\" stroke=\"#ff0000\" points=\"924.29,-44.43 930,-35.51 919.97,-38.92 924.29,-44.43\"/>\n<text text-anchor=\"middle\" x=\"912.49\" y=\"-57.8\" font-family=\"Times New Roman,serif\" font-size=\"14.00\">no</text>\n</g>\n<!-- 13 -->\n<g id=\"node14\" class=\"node\">\n<title>13</title>\n<ellipse fill=\"none\" stroke=\"black\" cx=\"1123.99\" cy=\"-18\" rx=\"75.29\" ry=\"18\"/>\n<text text-anchor=\"middle\" x=\"1123.99\" y=\"-14.3\" font-family=\"Times New Roman,serif\" font-size=\"14.00\">leaf=0.670594454</text>\n</g>\n<!-- 6&#45;&gt;13 -->\n<g id=\"edge13\" class=\"edge\">\n<title>6&#45;&gt;13</title>\n<path fill=\"none\" stroke=\"#0000ff\" d=\"M1123.99,-86.8C1123.99,-75.16 1123.99,-59.55 1123.99,-46.24\"/>\n<polygon fill=\"#0000ff\" stroke=\"#0000ff\" points=\"1127.49,-46.18 1123.99,-36.18 1120.49,-46.18 1127.49,-46.18\"/>\n<text text-anchor=\"middle\" x=\"1158.49\" y=\"-57.8\" font-family=\"Times New Roman,serif\" font-size=\"14.00\">yes, missing</text>\n</g>\n<!-- 14 -->\n<g id=\"node15\" class=\"node\">\n<title>14</title>\n<ellipse fill=\"none\" stroke=\"black\" cx=\"1292.99\" cy=\"-18\" rx=\"75.29\" ry=\"18\"/>\n<text text-anchor=\"middle\" x=\"1292.99\" y=\"-14.3\" font-family=\"Times New Roman,serif\" font-size=\"14.00\">leaf=0.335888922</text>\n</g>\n<!-- 6&#45;&gt;14 -->\n<g id=\"edge14\" class=\"edge\">\n<title>6&#45;&gt;14</title>\n<path fill=\"none\" stroke=\"#ff0000\" d=\"M1150.45,-91.57C1164.36,-84.98 1181.66,-76.67 1196.99,-69 1215.85,-59.57 1236.63,-48.8 1254.01,-39.68\"/>\n<polygon fill=\"#ff0000\" stroke=\"#ff0000\" points=\"1256.07,-42.55 1263.29,-34.8 1252.81,-36.35 1256.07,-42.55\"/>\n<text text-anchor=\"middle\" x=\"1233.49\" y=\"-57.8\" font-family=\"Times New Roman,serif\" font-size=\"14.00\">no</text>\n</g>\n</g>\n</svg>\n",
      "text/plain": "<graphviz.sources.Source at 0x1b581c99790>"
     },
     "execution_count": 77,
     "metadata": {},
     "output_type": "execute_result"
    }
   ],
   "source": [
    "# 可视化lgb分割过程\n",
    "img = xgb.to_graphviz(model,\n",
    "                      # 目标函数是所有树的预测值相加等于预测值\n",
    "                      num_trees=0)\n",
    "# leaf=-0.15269695\n",
    "# leaf=0.056757\n",
    "# leaf=-0.125725\n",
    "# leaf=-0.160423\n",
    "# ......\n",
    "# 表示xgboost论文中的$ \\mathcal{L}_split $(决定特征的最佳分裂点)\n",
    "img"
   ],
   "metadata": {
    "collapsed": false,
    "pycharm": {
     "name": "#%%\n"
    }
   }
  },
  {
   "cell_type": "code",
   "execution_count": 78,
   "outputs": [
    {
     "data": {
      "text/plain": "graphviz.sources.Source"
     },
     "execution_count": 78,
     "metadata": {},
     "output_type": "execute_result"
    }
   ],
   "source": [
    "# 数据类型graphviz.files.Source\n",
    "type(img)"
   ],
   "metadata": {
    "collapsed": false,
    "pycharm": {
     "name": "#%%\n"
    }
   }
  },
  {
   "cell_type": "code",
   "execution_count": 79,
   "outputs": [
    {
     "data": {
      "text/plain": "   Tree  Node   ID Feature   Split  Yes    No Missing        Gain       Cover  \\\n0     0     0  0-0      f0  3004.5  0-1   0-2     0-1  304.968781  495.918396   \n1     0     1  0-1      f5  2878.5  0-3   0-4     0-3   32.896564  377.387787   \n2     0     2  0-2      f5  2997.0  0-5   0-6     0-5   43.799103  118.530624   \n3     0     3  0-3      f0  2932.0  0-7   0-8     0-7    4.176102  304.653076   \n4     0     4  0-4      f9  2245.0  0-9  0-10     0-9   10.679663   72.734695   \n\n   Category  \n0       NaN  \n1       NaN  \n2       NaN  \n3       NaN  \n4       NaN  ",
      "text/html": "<div>\n<style scoped>\n    .dataframe tbody tr th:only-of-type {\n        vertical-align: middle;\n    }\n\n    .dataframe tbody tr th {\n        vertical-align: top;\n    }\n\n    .dataframe thead th {\n        text-align: right;\n    }\n</style>\n<table border=\"1\" class=\"dataframe\">\n  <thead>\n    <tr style=\"text-align: right;\">\n      <th></th>\n      <th>Tree</th>\n      <th>Node</th>\n      <th>ID</th>\n      <th>Feature</th>\n      <th>Split</th>\n      <th>Yes</th>\n      <th>No</th>\n      <th>Missing</th>\n      <th>Gain</th>\n      <th>Cover</th>\n      <th>Category</th>\n    </tr>\n  </thead>\n  <tbody>\n    <tr>\n      <th>0</th>\n      <td>0</td>\n      <td>0</td>\n      <td>0-0</td>\n      <td>f0</td>\n      <td>3004.5</td>\n      <td>0-1</td>\n      <td>0-2</td>\n      <td>0-1</td>\n      <td>304.968781</td>\n      <td>495.918396</td>\n      <td>NaN</td>\n    </tr>\n    <tr>\n      <th>1</th>\n      <td>0</td>\n      <td>1</td>\n      <td>0-1</td>\n      <td>f5</td>\n      <td>2878.5</td>\n      <td>0-3</td>\n      <td>0-4</td>\n      <td>0-3</td>\n      <td>32.896564</td>\n      <td>377.387787</td>\n      <td>NaN</td>\n    </tr>\n    <tr>\n      <th>2</th>\n      <td>0</td>\n      <td>2</td>\n      <td>0-2</td>\n      <td>f5</td>\n      <td>2997.0</td>\n      <td>0-5</td>\n      <td>0-6</td>\n      <td>0-5</td>\n      <td>43.799103</td>\n      <td>118.530624</td>\n      <td>NaN</td>\n    </tr>\n    <tr>\n      <th>3</th>\n      <td>0</td>\n      <td>3</td>\n      <td>0-3</td>\n      <td>f0</td>\n      <td>2932.0</td>\n      <td>0-7</td>\n      <td>0-8</td>\n      <td>0-7</td>\n      <td>4.176102</td>\n      <td>304.653076</td>\n      <td>NaN</td>\n    </tr>\n    <tr>\n      <th>4</th>\n      <td>0</td>\n      <td>4</td>\n      <td>0-4</td>\n      <td>f9</td>\n      <td>2245.0</td>\n      <td>0-9</td>\n      <td>0-10</td>\n      <td>0-9</td>\n      <td>10.679663</td>\n      <td>72.734695</td>\n      <td>NaN</td>\n    </tr>\n  </tbody>\n</table>\n</div>"
     },
     "execution_count": 79,
     "metadata": {},
     "output_type": "execute_result"
    }
   ],
   "source": [
    "# Parse a boosted tree model text dump into a pandas DataFrame structure.\n",
    "# This feature is only defined when the decision tree model is chosen as base learner (booster in {gbtree, dart}).\n",
    "df = model.trees_to_dataframe()\n",
    "df.head()"
   ],
   "metadata": {
    "collapsed": false,
    "pycharm": {
     "name": "#%%\n"
    }
   }
  },
  {
   "cell_type": "code",
   "execution_count": 80,
   "outputs": [
    {
     "data": {
      "text/plain": "    Tree  Node    ID Feature   Split   Yes    No Missing        Gain  \\\n0      0     0   0-0      f0  3004.5   0-1   0-2     0-1  304.968781   \n1      0     1   0-1      f5  2878.5   0-3   0-4     0-3   32.896564   \n2      0     2   0-2      f5  2997.0   0-5   0-6     0-5   43.799103   \n3      0     3   0-3      f0  2932.0   0-7   0-8     0-7    4.176102   \n4      0     4   0-4      f9  2245.0   0-9  0-10     0-9   10.679663   \n5      0     5   0-5      f9  2160.5  0-11  0-12    0-11   12.149552   \n6      0     6   0-6      f4    39.5  0-13  0-14    0-13   21.537933   \n7      0     7   0-7    Leaf     NaN   NaN   NaN     NaN   -0.150947   \n8      0     8   0-8    Leaf     NaN   NaN   NaN     NaN    0.030832   \n9      0     9   0-9    Leaf     NaN   NaN   NaN     NaN   -0.083100   \n10     0    10  0-10    Leaf     NaN   NaN   NaN     NaN    0.158636   \n11     0    11  0-11    Leaf     NaN   NaN   NaN     NaN    0.478552   \n12     0    12  0-12    Leaf     NaN   NaN   NaN     NaN    0.044920   \n13     0    13  0-13    Leaf     NaN   NaN   NaN     NaN    0.670594   \n14     0    14  0-14    Leaf     NaN   NaN   NaN     NaN    0.335889   \n\n         Cover  Category  \n0   495.918396       NaN  \n1   377.387787       NaN  \n2   118.530624       NaN  \n3   304.653076       NaN  \n4    72.734695       NaN  \n5    32.326534       NaN  \n6    86.204086       NaN  \n7   293.142883       NaN  \n8    11.510205       NaN  \n9    23.755104       NaN  \n10   48.979595       NaN  \n11    6.612246       NaN  \n12   25.714287       NaN  \n13   56.326534       NaN  \n14   29.877554       NaN  ",
      "text/html": "<div>\n<style scoped>\n    .dataframe tbody tr th:only-of-type {\n        vertical-align: middle;\n    }\n\n    .dataframe tbody tr th {\n        vertical-align: top;\n    }\n\n    .dataframe thead th {\n        text-align: right;\n    }\n</style>\n<table border=\"1\" class=\"dataframe\">\n  <thead>\n    <tr style=\"text-align: right;\">\n      <th></th>\n      <th>Tree</th>\n      <th>Node</th>\n      <th>ID</th>\n      <th>Feature</th>\n      <th>Split</th>\n      <th>Yes</th>\n      <th>No</th>\n      <th>Missing</th>\n      <th>Gain</th>\n      <th>Cover</th>\n      <th>Category</th>\n    </tr>\n  </thead>\n  <tbody>\n    <tr>\n      <th>0</th>\n      <td>0</td>\n      <td>0</td>\n      <td>0-0</td>\n      <td>f0</td>\n      <td>3004.5</td>\n      <td>0-1</td>\n      <td>0-2</td>\n      <td>0-1</td>\n      <td>304.968781</td>\n      <td>495.918396</td>\n      <td>NaN</td>\n    </tr>\n    <tr>\n      <th>1</th>\n      <td>0</td>\n      <td>1</td>\n      <td>0-1</td>\n      <td>f5</td>\n      <td>2878.5</td>\n      <td>0-3</td>\n      <td>0-4</td>\n      <td>0-3</td>\n      <td>32.896564</td>\n      <td>377.387787</td>\n      <td>NaN</td>\n    </tr>\n    <tr>\n      <th>2</th>\n      <td>0</td>\n      <td>2</td>\n      <td>0-2</td>\n      <td>f5</td>\n      <td>2997.0</td>\n      <td>0-5</td>\n      <td>0-6</td>\n      <td>0-5</td>\n      <td>43.799103</td>\n      <td>118.530624</td>\n      <td>NaN</td>\n    </tr>\n    <tr>\n      <th>3</th>\n      <td>0</td>\n      <td>3</td>\n      <td>0-3</td>\n      <td>f0</td>\n      <td>2932.0</td>\n      <td>0-7</td>\n      <td>0-8</td>\n      <td>0-7</td>\n      <td>4.176102</td>\n      <td>304.653076</td>\n      <td>NaN</td>\n    </tr>\n    <tr>\n      <th>4</th>\n      <td>0</td>\n      <td>4</td>\n      <td>0-4</td>\n      <td>f9</td>\n      <td>2245.0</td>\n      <td>0-9</td>\n      <td>0-10</td>\n      <td>0-9</td>\n      <td>10.679663</td>\n      <td>72.734695</td>\n      <td>NaN</td>\n    </tr>\n    <tr>\n      <th>5</th>\n      <td>0</td>\n      <td>5</td>\n      <td>0-5</td>\n      <td>f9</td>\n      <td>2160.5</td>\n      <td>0-11</td>\n      <td>0-12</td>\n      <td>0-11</td>\n      <td>12.149552</td>\n      <td>32.326534</td>\n      <td>NaN</td>\n    </tr>\n    <tr>\n      <th>6</th>\n      <td>0</td>\n      <td>6</td>\n      <td>0-6</td>\n      <td>f4</td>\n      <td>39.5</td>\n      <td>0-13</td>\n      <td>0-14</td>\n      <td>0-13</td>\n      <td>21.537933</td>\n      <td>86.204086</td>\n      <td>NaN</td>\n    </tr>\n    <tr>\n      <th>7</th>\n      <td>0</td>\n      <td>7</td>\n      <td>0-7</td>\n      <td>Leaf</td>\n      <td>NaN</td>\n      <td>NaN</td>\n      <td>NaN</td>\n      <td>NaN</td>\n      <td>-0.150947</td>\n      <td>293.142883</td>\n      <td>NaN</td>\n    </tr>\n    <tr>\n      <th>8</th>\n      <td>0</td>\n      <td>8</td>\n      <td>0-8</td>\n      <td>Leaf</td>\n      <td>NaN</td>\n      <td>NaN</td>\n      <td>NaN</td>\n      <td>NaN</td>\n      <td>0.030832</td>\n      <td>11.510205</td>\n      <td>NaN</td>\n    </tr>\n    <tr>\n      <th>9</th>\n      <td>0</td>\n      <td>9</td>\n      <td>0-9</td>\n      <td>Leaf</td>\n      <td>NaN</td>\n      <td>NaN</td>\n      <td>NaN</td>\n      <td>NaN</td>\n      <td>-0.083100</td>\n      <td>23.755104</td>\n      <td>NaN</td>\n    </tr>\n    <tr>\n      <th>10</th>\n      <td>0</td>\n      <td>10</td>\n      <td>0-10</td>\n      <td>Leaf</td>\n      <td>NaN</td>\n      <td>NaN</td>\n      <td>NaN</td>\n      <td>NaN</td>\n      <td>0.158636</td>\n      <td>48.979595</td>\n      <td>NaN</td>\n    </tr>\n    <tr>\n      <th>11</th>\n      <td>0</td>\n      <td>11</td>\n      <td>0-11</td>\n      <td>Leaf</td>\n      <td>NaN</td>\n      <td>NaN</td>\n      <td>NaN</td>\n      <td>NaN</td>\n      <td>0.478552</td>\n      <td>6.612246</td>\n      <td>NaN</td>\n    </tr>\n    <tr>\n      <th>12</th>\n      <td>0</td>\n      <td>12</td>\n      <td>0-12</td>\n      <td>Leaf</td>\n      <td>NaN</td>\n      <td>NaN</td>\n      <td>NaN</td>\n      <td>NaN</td>\n      <td>0.044920</td>\n      <td>25.714287</td>\n      <td>NaN</td>\n    </tr>\n    <tr>\n      <th>13</th>\n      <td>0</td>\n      <td>13</td>\n      <td>0-13</td>\n      <td>Leaf</td>\n      <td>NaN</td>\n      <td>NaN</td>\n      <td>NaN</td>\n      <td>NaN</td>\n      <td>0.670594</td>\n      <td>56.326534</td>\n      <td>NaN</td>\n    </tr>\n    <tr>\n      <th>14</th>\n      <td>0</td>\n      <td>14</td>\n      <td>0-14</td>\n      <td>Leaf</td>\n      <td>NaN</td>\n      <td>NaN</td>\n      <td>NaN</td>\n      <td>NaN</td>\n      <td>0.335889</td>\n      <td>29.877554</td>\n      <td>NaN</td>\n    </tr>\n  </tbody>\n</table>\n</div>"
     },
     "execution_count": 80,
     "metadata": {},
     "output_type": "execute_result"
    }
   ],
   "source": [
    "# 决策路径\n",
    "df[df['Tree'] == 0]"
   ],
   "metadata": {
    "collapsed": false,
    "pycharm": {
     "name": "#%%\n"
    }
   }
  }
 ],
 "metadata": {
  "kernelspec": {
   "display_name": "Python 3",
   "language": "python",
   "name": "python3"
  },
  "language_info": {
   "codemirror_mode": {
    "name": "ipython",
    "version": 2
   },
   "file_extension": ".py",
   "mimetype": "text/x-python",
   "name": "python",
   "nbconvert_exporter": "python",
   "pygments_lexer": "ipython2",
   "version": "2.7.6"
  }
 },
 "nbformat": 4,
 "nbformat_minor": 0
}