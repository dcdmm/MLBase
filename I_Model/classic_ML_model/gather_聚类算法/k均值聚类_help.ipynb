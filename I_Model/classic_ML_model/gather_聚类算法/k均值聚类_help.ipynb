{
 "cells": [
  {
   "cell_type": "markdown",
   "metadata": {
    "pycharm": {
     "name": "#%% md\n"
    }
   },
   "source": [
    "&emsp;&emsp;假设我们有⼀个数据集$ \\{ \\mathbf{x}_1,\\cdots, \\mathbf{x}_N \\} $,它由$ D $维欧几里得空间中的随机变量$ x $的$ N $次观测组成.\n",
    "我们的目标是将数据集划分为$ K $个类别.这里我们假定$ K $的值是给定的.直观上讲,我们会认为由⼀组数据点构成的⼀个聚类中,\n",
    "聚类内部点之间的距离应该小于数据点与聚类外部的点之间的距离.我们可以形式化地说明这个概念.引入⼀组$ D $维向量$\\mu_k$,\n",
    "其中$ k = 1,\\cdots,,K $,且$ \\mu_k $是与第$ k $个聚类关联的⼀个代表.正如我们下面将看到的那样,我们可以认为$\\mu_k$表示了聚类的中心.\n",
    "我们的目标是找到数据点分别属于的聚类,以及⼀组向量$\\{ \\mu_k \\}$,使得每个数据点和与它最近的向量$\\mu_k$之间的距离的平方和最小.        \n",
    "&emsp;&emsp;比较方便的做法是定义⼀些记号来描述数据点的聚类情况.对于每个数据点$ \\mathbf{x}_n $,\n",
    "我们引入⼀组对应的二值指示变量$ r_{nk} \\in \\{0,1\\} $,其中$ k = 1,\\cdots,K $表⽰数据点$ \\mathbf{x}_n $属于$ K $个聚类中的哪⼀个,\n",
    "从而如果数据点$ \\mathbf{x}_n $被分配到类别$ k $,那么$ r_{nk} = 1 $,若$ j \\neq k $,则有$ r_{nj} = 0 $.这被称为“1-of-K”表示方法.\n",
    "之后我们可以定义⼀个目标函数,有时被称为失真度量(distortion measure),形式为         \n",
    "$$ J = \\sum_{n=1}^{N} \\sum_{k=1}^K r_{nk} || \\mathbf{x}_n - \\mu_k ||^2 \\tag{1} $$            \n",
    "它表示每个数据点与它被分配的向量$ \\mu_k $之间的距离(欧式距离)的平方和.我们的目标是找到$\\{r_{nk} \\}$和$ \\{ \\mu_k \\} $的值,\n",
    "使得$ J $达到最小值.我们可以用⼀种迭代的方法完成这件事,其中每次迭代涉及到两个连续的步骤,分别对应$ r_{nk} $的最优化和$ \\mu_k $的最优化.\n",
    "首先,我们为$ \\mu_k $选择⼀些初始值.然后,在第⼀阶段,我们关于$ r_{nk} $最小化$ J $,保持$ \\mu_k $固定.\n",
    "在第二阶段,我们关于$ \\mu_k $最小化$ J $,保持$ r_{nk} $固定.不断重复这个二阶段优化直到收敛.可以看到,\n",
    "更新$ r_{nk} $和更新$ \\mu_k $的两个阶段分别对应于EM算法中的E(期望)步骤和M(最大化)步骤.                  \n",
    "&emsp;&emsp;首先考虑确定$ r_{nk} $.由于公式(1)给出的$ J $是$ r_{nk} $的⼀个线性函数,因此最优化过程可以很容易地进行.\n",
    "由于不同的$ n $相关的项是独立的,因此我们可以对每个$ n $相关项分别进行最优化,即只要$ k $的值使$ ||\\mathbf{x}_n - \\mu_k|| $最小,\n",
    "我们就令$ r_{nk} $等于1.换句话说,我们可以简单地将数据点的聚类设置为最近的聚类中心,更形式化地,这可以表达为        \n",
    "\n",
    "$$\n",
    "r_{nk}=\\begin{cases}\n",
    "\t\t1, & \\text{if} \\quad  k = \\mathrm{arg}\\min_j || \\mathbf{x}_n - \\mu_j ||^2 \\\\\n",
    "        0, & \\text{if} \\quad \\text{otherwise}\n",
    "     \\end{cases}\n",
    "$$\n",
    "\n",
    "&emsp;&emsp;现在考虑$ r_{nk} $固定时,关于$ \\mu_k $的最优化.目标函数$ J $是$ \\mu_k $的⼀个二次函数,令它关于$ \\mu_k $的导数等于零,即可达到最小值,即     \n",
    "$$ 2 \\sum_{n=1}^N r_{nk} ( \\mathbf{x}_n - \\mu_k ) = 0 $$      \n",
    "可以很容易地解出$\\mu_k$,结果为     \n",
    "$$ \\mu_k = \\frac{\\sum_{n} r_{nk} \\mathbf{x}_n}{\\sum_{n} r_{nk}} $$        \n",
    "这个表达式的分母等于聚类$ k $中数据点的数量,因此这个结果有⼀个简单的含义,即令$ \\mu_k $等于类别$ k $的所有数据点的均值.因此,上述步骤被称为$ K $均值(K-means)算法.      \n",
    "\n",
    "\n",
    "\n",
    "<font color='red' size=4>算法特征</font>        \n",
    "1. $ k $均值聚类属于启发式方法,不能保证收敛到全局最优,初始中心的选择会直接影响聚类结果.初始中心的选择可以用层次聚类对样本进行聚类,\n",
    "得到$k$个类时停止.然后从每个类中选择一个与中心距离最近的点.       \n",
    "\n",
    "2. $ k $均值聚类中的类别数$ k $值需要预先指定,而在实际应用中最优的$ k $值是不知道的,解决这个问题的一个方法是尝试不同的$ k $值聚类,\n",
    "检验各自的到聚类结果的质量,推测最优的$ k $值.聚类的质量可以用类的平均直径来衡量.一般地,类别数变小时,平均直径会增加;\n",
    "类别数变大超过某个值以后,平均直径会不变;而这个值正是最优的$ k $值.\n",
    "下图说明类别数与平均直径的关系.实验时,可以采用二分查找,快速找到最优的$ k $值.            \n",
    "\n",
    "\n",
    "<img src=\"../../../Other/img/k_means.png\" style=\"widht:500px;height:450px\">\n",
    "\n",
    "\n",
    "***\n",
    "\n",
    "1. 类的均值$ \\mathbf{\\bar{x}}_G $,又称类的中心       \n",
    "$$\\mathbf{\\bar{x}}_G  = \\frac{1}{n_G} \\sum_{i=1}^{n_G} \\mathbf{x}_i $$    \n",
    "\n",
    "2. 类的直径(diameter)$D_G$     \n",
    "&emsp;&emsp;类的直径$D_G$是类中任意两个样本之间的最大距离,即    \n",
    "$$  D_G  = \\max_{\\mathbf{x}_i, \\mathbf{x}_j \\in G} d_{ij} $$    \n",
    "$d_{ij}$表示样本$ \\mathbf{x}_i $与样本$ \\mathbf{x}_j $之间的距离      \n",
    "***"
   ]
  },
  {
   "cell_type": "code",
   "execution_count": null,
   "outputs": [],
   "source": [],
   "metadata": {
    "collapsed": false
   }
  }
 ],
 "metadata": {
  "kernelspec": {
   "display_name": "Python 3.8.12 ('pytorch_env')",
   "language": "python",
   "name": "python3"
  },
  "language_info": {
   "codemirror_mode": {
    "name": "ipython",
    "version": 3
   },
   "file_extension": ".py",
   "mimetype": "text/x-python",
   "name": "python",
   "nbconvert_exporter": "python",
   "pygments_lexer": "ipython3",
   "version": "3.8.12"
  },
  "toc": {
   "base_numbering": 1,
   "nav_menu": {},
   "number_sections": true,
   "sideBar": true,
   "skip_h1_title": false,
   "title_cell": "Table of Contents",
   "title_sidebar": "Contents",
   "toc_cell": false,
   "toc_position": {},
   "toc_section_display": true,
   "toc_window_display": false
  },
  "vscode": {
   "interpreter": {
    "hash": "0886a02735466d80c36da7d0d184a8055779d3e497a063b4720b0317b8699033"
   }
  }
 },
 "nbformat": 4,
 "nbformat_minor": 4
}
