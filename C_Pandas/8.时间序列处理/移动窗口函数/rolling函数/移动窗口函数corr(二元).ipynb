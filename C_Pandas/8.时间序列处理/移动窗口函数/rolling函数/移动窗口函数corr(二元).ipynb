{
 "cells": [
  {
   "cell_type": "code",
   "execution_count": 1,
   "outputs": [],
   "source": [
    "import pandas as pd\n",
    "import numpy as np"
   ],
   "metadata": {
    "collapsed": false,
    "pycharm": {
     "name": "#%%\n"
    }
   }
  },
  {
   "cell_type": "code",
   "execution_count": 2,
   "outputs": [
    {
     "data": {
      "text/plain": "                    A          B          C          D\n2000-01-01   0.599661   1.955920   0.902330  -0.464754\n2000-01-02   2.191576   1.889285   0.429161  -1.735085\n2000-01-03   2.109386   1.409622  -1.009975  -1.484571\n2000-01-04   3.671248   1.447874  -0.604315  -0.618862\n2000-01-05   2.643638  -0.005747  -0.246538  -0.937903\n...               ...        ...        ...        ...\n2002-09-22  14.173756  33.636322  34.610573  37.165176\n2002-09-23  13.881934  33.713171  34.949423  38.673282\n2002-09-24  15.343079  33.848993  35.879691  38.484594\n2002-09-25  12.928506  34.213690  36.409062  36.897276\n2002-09-26  13.307155  34.413964  35.492193  36.856935\n\n[1000 rows x 4 columns]",
      "text/html": "<div>\n<style scoped>\n    .dataframe tbody tr th:only-of-type {\n        vertical-align: middle;\n    }\n\n    .dataframe tbody tr th {\n        vertical-align: top;\n    }\n\n    .dataframe thead th {\n        text-align: right;\n    }\n</style>\n<table border=\"1\" class=\"dataframe\">\n  <thead>\n    <tr style=\"text-align: right;\">\n      <th></th>\n      <th>A</th>\n      <th>B</th>\n      <th>C</th>\n      <th>D</th>\n    </tr>\n  </thead>\n  <tbody>\n    <tr>\n      <th>2000-01-01</th>\n      <td>0.599661</td>\n      <td>1.955920</td>\n      <td>0.902330</td>\n      <td>-0.464754</td>\n    </tr>\n    <tr>\n      <th>2000-01-02</th>\n      <td>2.191576</td>\n      <td>1.889285</td>\n      <td>0.429161</td>\n      <td>-1.735085</td>\n    </tr>\n    <tr>\n      <th>2000-01-03</th>\n      <td>2.109386</td>\n      <td>1.409622</td>\n      <td>-1.009975</td>\n      <td>-1.484571</td>\n    </tr>\n    <tr>\n      <th>2000-01-04</th>\n      <td>3.671248</td>\n      <td>1.447874</td>\n      <td>-0.604315</td>\n      <td>-0.618862</td>\n    </tr>\n    <tr>\n      <th>2000-01-05</th>\n      <td>2.643638</td>\n      <td>-0.005747</td>\n      <td>-0.246538</td>\n      <td>-0.937903</td>\n    </tr>\n    <tr>\n      <th>...</th>\n      <td>...</td>\n      <td>...</td>\n      <td>...</td>\n      <td>...</td>\n    </tr>\n    <tr>\n      <th>2002-09-22</th>\n      <td>14.173756</td>\n      <td>33.636322</td>\n      <td>34.610573</td>\n      <td>37.165176</td>\n    </tr>\n    <tr>\n      <th>2002-09-23</th>\n      <td>13.881934</td>\n      <td>33.713171</td>\n      <td>34.949423</td>\n      <td>38.673282</td>\n    </tr>\n    <tr>\n      <th>2002-09-24</th>\n      <td>15.343079</td>\n      <td>33.848993</td>\n      <td>35.879691</td>\n      <td>38.484594</td>\n    </tr>\n    <tr>\n      <th>2002-09-25</th>\n      <td>12.928506</td>\n      <td>34.213690</td>\n      <td>36.409062</td>\n      <td>36.897276</td>\n    </tr>\n    <tr>\n      <th>2002-09-26</th>\n      <td>13.307155</td>\n      <td>34.413964</td>\n      <td>35.492193</td>\n      <td>36.856935</td>\n    </tr>\n  </tbody>\n</table>\n<p>1000 rows × 4 columns</p>\n</div>"
     },
     "execution_count": 2,
     "metadata": {},
     "output_type": "execute_result"
    }
   ],
   "source": [
    "df = pd.DataFrame(np.random.randn(1000, 4),\n",
    "                   index=pd.date_range('1/1/2000', periods=1000),\n",
    "                   columns=['A', 'B', 'C', 'D'])\n",
    "df = df.cumsum()\n",
    "df"
   ],
   "metadata": {
    "pycharm": {
     "metadata": false,
     "name": "#%%\n"
    }
   }
  },
  {
   "cell_type": "code",
   "execution_count": 3,
   "outputs": [
    {
     "data": {
      "text/plain": "                   A         B         C         D\n2000-01-01  0.599661  1.955920  0.902330 -0.464754\n2000-01-02  2.191576  1.889285  0.429161 -1.735085\n2000-01-03  2.109386  1.409622 -1.009975 -1.484571\n2000-01-04  3.671248  1.447874 -0.604315 -0.618862\n2000-01-05  2.643638 -0.005747 -0.246538 -0.937903\n2000-01-06  2.099462 -0.722937  3.673270 -0.147521\n2000-01-07  1.288865 -0.594614  2.593199 -1.496812\n2000-01-08  0.908267 -0.556250  1.934506 -3.510854\n2000-01-09 -1.161760 -1.767196  1.111445 -2.623212\n2000-01-10  0.010924 -2.130556  0.903252 -3.494533\n2000-01-11  0.525155 -3.419245  0.926649 -4.939135\n2000-01-12  0.043734 -3.487827  2.166198 -4.287290\n2000-01-13  1.492647 -5.021771  0.518284 -3.956368\n2000-01-14  0.961215 -6.134818  0.878571 -4.498288\n2000-01-15 -0.541940 -6.066056  2.368872 -4.606789\n2000-01-16 -0.439704 -5.852342  2.652357 -3.506632\n2000-01-17 -0.247483 -7.105736  3.114309 -3.338202\n2000-01-18 -0.459164 -6.222750  3.051629 -3.490874\n2000-01-19 -2.054006 -6.448128  2.873152 -4.221284\n2000-01-20 -2.142233 -5.401916  3.229647 -5.155165",
      "text/html": "<div>\n<style scoped>\n    .dataframe tbody tr th:only-of-type {\n        vertical-align: middle;\n    }\n\n    .dataframe tbody tr th {\n        vertical-align: top;\n    }\n\n    .dataframe thead th {\n        text-align: right;\n    }\n</style>\n<table border=\"1\" class=\"dataframe\">\n  <thead>\n    <tr style=\"text-align: right;\">\n      <th></th>\n      <th>A</th>\n      <th>B</th>\n      <th>C</th>\n      <th>D</th>\n    </tr>\n  </thead>\n  <tbody>\n    <tr>\n      <th>2000-01-01</th>\n      <td>0.599661</td>\n      <td>1.955920</td>\n      <td>0.902330</td>\n      <td>-0.464754</td>\n    </tr>\n    <tr>\n      <th>2000-01-02</th>\n      <td>2.191576</td>\n      <td>1.889285</td>\n      <td>0.429161</td>\n      <td>-1.735085</td>\n    </tr>\n    <tr>\n      <th>2000-01-03</th>\n      <td>2.109386</td>\n      <td>1.409622</td>\n      <td>-1.009975</td>\n      <td>-1.484571</td>\n    </tr>\n    <tr>\n      <th>2000-01-04</th>\n      <td>3.671248</td>\n      <td>1.447874</td>\n      <td>-0.604315</td>\n      <td>-0.618862</td>\n    </tr>\n    <tr>\n      <th>2000-01-05</th>\n      <td>2.643638</td>\n      <td>-0.005747</td>\n      <td>-0.246538</td>\n      <td>-0.937903</td>\n    </tr>\n    <tr>\n      <th>2000-01-06</th>\n      <td>2.099462</td>\n      <td>-0.722937</td>\n      <td>3.673270</td>\n      <td>-0.147521</td>\n    </tr>\n    <tr>\n      <th>2000-01-07</th>\n      <td>1.288865</td>\n      <td>-0.594614</td>\n      <td>2.593199</td>\n      <td>-1.496812</td>\n    </tr>\n    <tr>\n      <th>2000-01-08</th>\n      <td>0.908267</td>\n      <td>-0.556250</td>\n      <td>1.934506</td>\n      <td>-3.510854</td>\n    </tr>\n    <tr>\n      <th>2000-01-09</th>\n      <td>-1.161760</td>\n      <td>-1.767196</td>\n      <td>1.111445</td>\n      <td>-2.623212</td>\n    </tr>\n    <tr>\n      <th>2000-01-10</th>\n      <td>0.010924</td>\n      <td>-2.130556</td>\n      <td>0.903252</td>\n      <td>-3.494533</td>\n    </tr>\n    <tr>\n      <th>2000-01-11</th>\n      <td>0.525155</td>\n      <td>-3.419245</td>\n      <td>0.926649</td>\n      <td>-4.939135</td>\n    </tr>\n    <tr>\n      <th>2000-01-12</th>\n      <td>0.043734</td>\n      <td>-3.487827</td>\n      <td>2.166198</td>\n      <td>-4.287290</td>\n    </tr>\n    <tr>\n      <th>2000-01-13</th>\n      <td>1.492647</td>\n      <td>-5.021771</td>\n      <td>0.518284</td>\n      <td>-3.956368</td>\n    </tr>\n    <tr>\n      <th>2000-01-14</th>\n      <td>0.961215</td>\n      <td>-6.134818</td>\n      <td>0.878571</td>\n      <td>-4.498288</td>\n    </tr>\n    <tr>\n      <th>2000-01-15</th>\n      <td>-0.541940</td>\n      <td>-6.066056</td>\n      <td>2.368872</td>\n      <td>-4.606789</td>\n    </tr>\n    <tr>\n      <th>2000-01-16</th>\n      <td>-0.439704</td>\n      <td>-5.852342</td>\n      <td>2.652357</td>\n      <td>-3.506632</td>\n    </tr>\n    <tr>\n      <th>2000-01-17</th>\n      <td>-0.247483</td>\n      <td>-7.105736</td>\n      <td>3.114309</td>\n      <td>-3.338202</td>\n    </tr>\n    <tr>\n      <th>2000-01-18</th>\n      <td>-0.459164</td>\n      <td>-6.222750</td>\n      <td>3.051629</td>\n      <td>-3.490874</td>\n    </tr>\n    <tr>\n      <th>2000-01-19</th>\n      <td>-2.054006</td>\n      <td>-6.448128</td>\n      <td>2.873152</td>\n      <td>-4.221284</td>\n    </tr>\n    <tr>\n      <th>2000-01-20</th>\n      <td>-2.142233</td>\n      <td>-5.401916</td>\n      <td>3.229647</td>\n      <td>-5.155165</td>\n    </tr>\n  </tbody>\n</table>\n</div>"
     },
     "execution_count": 3,
     "metadata": {},
     "output_type": "execute_result"
    }
   ],
   "source": [
    "df2 = df.iloc[:20]\n",
    "df2"
   ],
   "metadata": {
    "pycharm": {
     "metadata": false,
     "name": "#%%\n"
    }
   }
  },
  {
   "cell_type": "code",
   "execution_count": 4,
   "outputs": [
    {
     "data": {
      "text/plain": "2000-01-01         NaN\n2000-01-02         NaN\n2000-01-03   -0.556160\n2000-01-04   -0.394036\n2000-01-05    0.202078\n2000-01-06    0.999844\n2000-01-07    0.692955\n2000-01-08   -0.995339\n2000-01-09    0.985129\n2000-01-10    0.680412\n2000-01-11   -0.860564\n2000-01-12   -0.510487\n2000-01-13   -0.932278\n2000-01-14   -0.694539\n2000-01-15    0.661630\n2000-01-16   -0.642892\n2000-01-17   -0.873230\n2000-01-18   -0.930511\n2000-01-19   -0.373531\n2000-01-20   -0.356081\nFreq: D, dtype: float64"
     },
     "execution_count": 4,
     "metadata": {},
     "output_type": "execute_result"
    }
   ],
   "source": [
    "# 第一个数据的计算:pd.Series([df['A'][0], df['A'][1], df['A'][2]]).corr(pd.Series([df['B'][0], df['B'][1], df['B'][2]]))\n",
    "# 第二个数据的计算:pd.Series([df['A'][1], df['A'][2], df['A'][3]]).corr(pd.Series([df['B'][1], df['B'][2], df['B'][3]]))\n",
    "# 第三个数据的计算:pd.Series([df['A'][2], df['A'][3], df['A'][4]]).corr(pd.Series([df['B'][2], df['B'][3], df['B'][4]]))\n",
    "# ......\n",
    "df2['A'].rolling(window=3).corr(df2['B'])"
   ],
   "metadata": {
    "pycharm": {
     "metadata": false,
     "name": "#%%\n"
    }
   }
  },
  {
   "cell_type": "code",
   "execution_count": 5,
   "metadata": {},
   "outputs": [],
   "source": [
    "close_px_all = pd.read_csv('stock_px_2.csv',\n",
    "                           parse_dates=True, index_col=0)\n"
   ]
  },
  {
   "cell_type": "code",
   "execution_count": 6,
   "metadata": {},
   "outputs": [
    {
     "data": {
      "text/plain": "            AAPL   MSFT    XOM     SPX\n2003-01-02  7.40  21.11  29.22  909.03\n2003-01-03  7.45  21.14  29.24  908.59\n2003-01-06  7.45  21.52  29.96  929.01\n2003-01-07  7.43  21.93  28.95  922.93\n2003-01-08  7.28  21.31  28.83  909.93",
      "text/html": "<div>\n<style scoped>\n    .dataframe tbody tr th:only-of-type {\n        vertical-align: middle;\n    }\n\n    .dataframe tbody tr th {\n        vertical-align: top;\n    }\n\n    .dataframe thead th {\n        text-align: right;\n    }\n</style>\n<table border=\"1\" class=\"dataframe\">\n  <thead>\n    <tr style=\"text-align: right;\">\n      <th></th>\n      <th>AAPL</th>\n      <th>MSFT</th>\n      <th>XOM</th>\n      <th>SPX</th>\n    </tr>\n  </thead>\n  <tbody>\n    <tr>\n      <th>2003-01-02</th>\n      <td>7.40</td>\n      <td>21.11</td>\n      <td>29.22</td>\n      <td>909.03</td>\n    </tr>\n    <tr>\n      <th>2003-01-03</th>\n      <td>7.45</td>\n      <td>21.14</td>\n      <td>29.24</td>\n      <td>908.59</td>\n    </tr>\n    <tr>\n      <th>2003-01-06</th>\n      <td>7.45</td>\n      <td>21.52</td>\n      <td>29.96</td>\n      <td>929.01</td>\n    </tr>\n    <tr>\n      <th>2003-01-07</th>\n      <td>7.43</td>\n      <td>21.93</td>\n      <td>28.95</td>\n      <td>922.93</td>\n    </tr>\n    <tr>\n      <th>2003-01-08</th>\n      <td>7.28</td>\n      <td>21.31</td>\n      <td>28.83</td>\n      <td>909.93</td>\n    </tr>\n  </tbody>\n</table>\n</div>"
     },
     "execution_count": 6,
     "metadata": {},
     "output_type": "execute_result"
    }
   ],
   "source": [
    "close_px_all.head()"
   ]
  },
  {
   "cell_type": "code",
   "execution_count": 7,
   "metadata": {},
   "outputs": [],
   "source": [
    "spx_px = close_px_all['SPX']"
   ]
  },
  {
   "cell_type": "code",
   "execution_count": 8,
   "metadata": {},
   "outputs": [
    {
     "data": {
      "text/plain": "2003-01-02         NaN\n2003-01-03   -0.000484\n2003-01-06    0.022474\n2003-01-07   -0.006545\n2003-01-08   -0.014086\nName: SPX, dtype: float64"
     },
     "execution_count": 8,
     "metadata": {},
     "output_type": "execute_result"
    }
   ],
   "source": [
    "spx_rets = spx_px.pct_change() # 前元素和先前元素之间的百分比变化\n",
    "spx_rets.head()"
   ]
  },
  {
   "cell_type": "code",
   "execution_count": 9,
   "metadata": {},
   "outputs": [
    {
     "data": {
      "text/plain": "                AAPL      MSFT       XOM\n2003-01-02       NaN       NaN       NaN\n2003-01-03  0.006757  0.001421  0.000684\n2003-01-06  0.000000  0.017975  0.024624\n2003-01-07 -0.002685  0.019052 -0.033712\n2003-01-08 -0.020188 -0.028272 -0.004145",
      "text/html": "<div>\n<style scoped>\n    .dataframe tbody tr th:only-of-type {\n        vertical-align: middle;\n    }\n\n    .dataframe tbody tr th {\n        vertical-align: top;\n    }\n\n    .dataframe thead th {\n        text-align: right;\n    }\n</style>\n<table border=\"1\" class=\"dataframe\">\n  <thead>\n    <tr style=\"text-align: right;\">\n      <th></th>\n      <th>AAPL</th>\n      <th>MSFT</th>\n      <th>XOM</th>\n    </tr>\n  </thead>\n  <tbody>\n    <tr>\n      <th>2003-01-02</th>\n      <td>NaN</td>\n      <td>NaN</td>\n      <td>NaN</td>\n    </tr>\n    <tr>\n      <th>2003-01-03</th>\n      <td>0.006757</td>\n      <td>0.001421</td>\n      <td>0.000684</td>\n    </tr>\n    <tr>\n      <th>2003-01-06</th>\n      <td>0.000000</td>\n      <td>0.017975</td>\n      <td>0.024624</td>\n    </tr>\n    <tr>\n      <th>2003-01-07</th>\n      <td>-0.002685</td>\n      <td>0.019052</td>\n      <td>-0.033712</td>\n    </tr>\n    <tr>\n      <th>2003-01-08</th>\n      <td>-0.020188</td>\n      <td>-0.028272</td>\n      <td>-0.004145</td>\n    </tr>\n  </tbody>\n</table>\n</div>"
     },
     "execution_count": 9,
     "metadata": {},
     "output_type": "execute_result"
    }
   ],
   "source": [
    "close_px = close_px_all[['AAPL', 'MSFT', 'XOM']]\n",
    "returns = close_px.pct_change()\n",
    "returns.head()"
   ]
  },
  {
   "cell_type": "code",
   "execution_count": null,
   "metadata": {
    "pycharm": {
     "is_executing": true
    }
   },
   "outputs": [
    {
     "data": {
      "text/plain": "<AxesSubplot:>"
     },
     "execution_count": 10,
     "metadata": {},
     "output_type": "execute_result"
    }
   ],
   "source": [
    "# 计算滚动相关性\n",
    "relate = returns.AAPL.rolling(125, min_periods=100).corr(spx_rets)\n",
    "relate.plot()"
   ]
  },
  {
   "cell_type": "code",
   "execution_count": null,
   "outputs": [],
   "source": [
    "# 一次计算多个滚动相关性\n",
    "relate1 = returns.rolling(125, min_periods=100).corr(spx_rets)\n",
    "relate1.plot()"
   ],
   "metadata": {
    "pycharm": {
     "metadata": false,
     "name": "#%% \n",
     "is_executing": true
    }
   }
  },
  {
   "cell_type": "code",
   "execution_count": null,
   "outputs": [],
   "source": "\n",
   "metadata": {
    "pycharm": {
     "metadata": false,
     "name": "#%%\n",
     "is_executing": true
    }
   }
  }
 ],
 "metadata": {
  "kernelspec": {
   "name": "python3",
   "language": "python",
   "display_name": "Python 3"
  },
  "language_info": {
   "codemirror_mode": {
    "name": "ipython",
    "version": 2
   },
   "file_extension": ".py",
   "mimetype": "text/x-python",
   "name": "python",
   "nbconvert_exporter": "python",
   "pygments_lexer": "ipython2",
   "version": "2.7.6"
  }
 },
 "nbformat": 4,
 "nbformat_minor": 0
}