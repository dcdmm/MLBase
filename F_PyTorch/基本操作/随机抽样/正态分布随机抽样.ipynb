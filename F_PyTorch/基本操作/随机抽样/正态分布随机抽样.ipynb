{
 "cells": [
  {
   "cell_type": "code",
   "execution_count": 103,
   "outputs": [
    {
     "data": {
      "text/plain": "tensor([[-1.6053,  0.2325,  2.2399],\n        [ 0.8473,  1.2006, -0.4016]])"
     },
     "execution_count": 103,
     "metadata": {},
     "output_type": "execute_result"
    }
   ],
   "source": [
    "import torch\n",
    "\n",
    "generator_state = torch.Generator().manual_seed(4)\n",
    "\n",
    "# 标准正态分布抽样\n",
    "torch.randn(2, 3,\n",
    "            generator=generator_state) # 作用类似于numpy中的random_state"
   ],
   "metadata": {
    "collapsed": false,
    "pycharm": {
     "name": "#%%\n"
    }
   }
  },
  {
   "cell_type": "code",
   "execution_count": 104,
   "outputs": [
    {
     "data": {
      "text/plain": "tensor([ 0.7611,  0.6183, -0.2994, -0.1878,  1.9159,  0.6902, -2.3217, -1.1964,\n         0.2408, -1.3962,  0.1136,  1.1047, -1.3952,  0.4751, -0.8137,  0.9242,\n         1.5735,  0.7814,  0.9874, -1.4878,  0.5867,  0.1583,  0.1102, -0.8188,\n        -1.1894, -1.1959,  1.3119, -0.2098,  0.7817,  0.9897,  0.4147, -1.5090,\n        -0.2871,  1.0216,  0.4386, -0.0107,  1.3384, -0.2794, -0.5518, -2.8891,\n        -1.5100,  1.0241,  0.1954, -0.7371,  1.7001,  0.3462,  0.9711,  1.4503,\n        -0.0519, -0.6284])"
     },
     "execution_count": 104,
     "metadata": {},
     "output_type": "execute_result"
    }
   ],
   "source": [
    "torch.randn(50)"
   ],
   "metadata": {
    "collapsed": false,
    "pycharm": {
     "name": "#%%\n"
    }
   }
  },
  {
   "cell_type": "code",
   "execution_count": 105,
   "outputs": [
    {
     "data": {
      "text/plain": "tensor([[-2.2781,  4.7118,  4.5671,  4.0666],\n        [ 4.6550,  7.3119,  1.7572,  2.1538]])"
     },
     "execution_count": 105,
     "metadata": {},
     "output_type": "execute_result"
    }
   ],
   "source": [
    "torch.normal(mean=2, std=3, size=(2, 4), generator=generator_state) # 从均值为2,标准差为3的正态分布抽样"
   ],
   "metadata": {
    "collapsed": false,
    "pycharm": {
     "name": "#%%\n"
    }
   }
  },
  {
   "cell_type": "code",
   "execution_count": 106,
   "outputs": [
    {
     "data": {
      "text/plain": "tensor([[-0.0882,  2.0040,  3.1862,  3.4259,  4.5926],\n        [ 6.7125,  7.7859,  8.2304,  9.3980, 10.0718]])"
     },
     "execution_count": 106,
     "metadata": {},
     "output_type": "execute_result"
    }
   ],
   "source": [
    "torch.normal(mean=torch.arange(1., 11.).reshape(2, 5), # 每个元素的均值\n",
    "             std=torch.arange(1, 0, -0.1).reshape(2, 5)) # 每个元素的标准差"
   ],
   "metadata": {
    "collapsed": false,
    "pycharm": {
     "name": "#%%\n"
    }
   }
  },
  {
   "cell_type": "code",
   "execution_count": 107,
   "outputs": [
    {
     "data": {
      "text/plain": "tensor([  1.0239,   0.9361,   0.6876,   3.0924,   0.3031,  -4.3088,  -2.9688,\n         -2.3921, -18.0304,   5.8402,  -5.3893,  -9.8640, -11.2895,  -7.7857,\n          2.7618, -16.1584, -19.1510,  -5.2001,  18.3657, -22.4391,  17.1498,\n          2.3310,  10.2244, -44.3499])"
     },
     "execution_count": 107,
     "metadata": {},
     "output_type": "execute_result"
    }
   ],
   "source": [
    "torch.normal(mean=0.5, std=torch.arange(1., 25.)) # 所有元素均值相同(不同标准差)"
   ],
   "metadata": {
    "collapsed": false,
    "pycharm": {
     "name": "#%%\n"
    }
   }
  },
  {
   "cell_type": "code",
   "execution_count": 108,
   "outputs": [
    {
     "data": {
      "text/plain": "tensor([[ 0.9193,  1.0199,  3.0605,  3.5110,  3.4229,  6.3609],\n        [ 5.6467,  7.7929,  9.4201, 11.1290, 11.4264, 10.8639],\n        [12.8708, 13.9454, 15.4083, 17.1264, 16.3921, 17.6375],\n        [17.4928, 19.4913, 19.7574, 23.2845, 23.2438, 24.5304]])"
     },
     "execution_count": 108,
     "metadata": {},
     "output_type": "execute_result"
    }
   ],
   "source": [
    "torch.normal(mean=torch.arange(1., 25.).reshape(4, 6), std=1) # 所有元素标准差相同(不同均值)"
   ],
   "metadata": {
    "collapsed": false,
    "pycharm": {
     "name": "#%%\n"
    }
   }
  }
 ],
 "metadata": {
  "kernelspec": {
   "display_name": "Python 3",
   "language": "python",
   "name": "python3"
  },
  "language_info": {
   "codemirror_mode": {
    "name": "ipython",
    "version": 2
   },
   "file_extension": ".py",
   "mimetype": "text/x-python",
   "name": "python",
   "nbconvert_exporter": "python",
   "pygments_lexer": "ipython2",
   "version": "2.7.6"
  }
 },
 "nbformat": 4,
 "nbformat_minor": 0
}