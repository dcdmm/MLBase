{
 "cells": [
  {
   "cell_type": "code",
   "execution_count": 1,
   "metadata": {
    "collapsed": true,
    "pycharm": {
     "name": "#%%\n"
    }
   },
   "outputs": [],
   "source": [
    "from sklearn import datasets\n",
    "from sklearn.model_selection import train_test_split\n",
    "import numpy as np\n",
    "from sklearn.preprocessing import OrdinalEncoder\n",
    "from sklearn.model_selection import KFold\n",
    "from sklearn.metrics import accuracy_score\n",
    "import lightgbm as lgb\n",
    "\n",
    "from lightgbm_model import MyLightGBM\n",
    "from catboost_model import MyCatboost\n",
    "from xgboost_model import MyXgboost\n",
    "%run lightgbm_model.py\n",
    "%run catboost_model.py\n",
    "%run xgboost_model.py"
   ]
  },
  {
   "cell_type": "code",
   "execution_count": 2,
   "outputs": [
    {
     "name": "stdout",
     "output_type": "stream",
     "text": [
      "(2700, 54) (300,)\n",
      "[1 2 3 4 5 6 7]\n"
     ]
    }
   ],
   "source": [
    "X = datasets.fetch_covtype().data[:3000]\n",
    "y = datasets.fetch_covtype().target[:3000]\n",
    "X_train, X_test, y_train, y_test = train_test_split(X, y, test_size=0.1)\n",
    "\n",
    "print(X_train.shape, y_test.shape)\n",
    "print(np.unique(y_train))  # 7分类任务"
   ],
   "metadata": {
    "collapsed": false,
    "pycharm": {
     "name": "#%%\n"
    }
   }
  },
  {
   "cell_type": "code",
   "execution_count": 3,
   "outputs": [
    {
     "name": "stdout",
     "output_type": "stream",
     "text": [
      "[0. 1. 2. 3. 4. 5. 6.]\n",
      "(2700,)\n"
     ]
    }
   ],
   "source": [
    "enc = OrdinalEncoder()\n",
    "y_train_enc = enc.fit_transform(y_train.reshape(-1, 1)).reshape(-1, )\n",
    "y_test_enc = enc.transform(y_test.reshape(-1, 1)).reshape(-1, )\n",
    "print(np.unique(y_train_enc))\n",
    "print(y_train_enc.shape)"
   ],
   "metadata": {
    "collapsed": false,
    "pycharm": {
     "name": "#%%\n"
    }
   }
  },
  {
   "cell_type": "code",
   "execution_count": 4,
   "outputs": [],
   "source": [
    "kfold = KFold(n_splits=5, shuffle=True, random_state=1)\n",
    "es_func = lgb.early_stopping(stopping_rounds=200)\n",
    "le_func = lgb.log_evaluation(100)\n",
    "\n",
    "lgb_params = {\"objective\": \"multiclass\",\n",
    "              \"num_class\": 7,\n",
    "              \"verbose\": -4, \"metric\": (\"multi_logloss\",)}\n",
    "\n",
    "cat_params = {\"loss_function\": \"MultiClass\",\n",
    "              \"eval_metric\": \"MultiClass\",\n",
    "              \"allow_writing_files\": False,\n",
    "              \"verbose\": True,\n",
    "              \"thread_count\": -1,\n",
    "              \"use_best_model\": True\n",
    "              }\n",
    "\n",
    "xgb_params = {'objective': 'multi:softprob',\n",
    "              \"eval_metric\": 'mlogloss',\n",
    "              \"verbosity\": 0,\n",
    "              'num_class': 7}"
   ],
   "metadata": {
    "collapsed": false,
    "pycharm": {
     "name": "#%%\n"
    }
   }
  },
  {
   "cell_type": "markdown",
   "source": [
    "### lightgbm测试"
   ],
   "metadata": {
    "collapsed": false,
    "pycharm": {
     "name": "#%% md\n"
    }
   }
  },
  {
   "cell_type": "code",
   "execution_count": 5,
   "outputs": [
    {
     "name": "stdout",
     "output_type": "stream",
     "text": [
      "Training fold 1\n",
      "Training until validation scores don't improve for 200 rounds\n",
      "[100]\ttraining's multi_logloss: 0.00631386\tvalid_1's multi_logloss: 0.410958\n",
      "[200]\ttraining's multi_logloss: 0.000125528\tvalid_1's multi_logloss: 0.572702\n",
      "Early stopping, best iteration is:\n",
      "[57]\ttraining's multi_logloss: 0.0389058\tvalid_1's multi_logloss: 0.365149\n",
      "Training fold 2\n",
      "[100]\ttraining's multi_logloss: 0.0063706\tvalid_1's multi_logloss: 0.471962\n",
      "[200]\ttraining's multi_logloss: 0.000145456\tvalid_1's multi_logloss: 0.639968\n",
      "Early stopping, best iteration is:\n",
      "[57]\ttraining's multi_logloss: 0.0389058\tvalid_1's multi_logloss: 0.365149\n",
      "Training fold 3\n",
      "[100]\ttraining's multi_logloss: 0.00611773\tvalid_1's multi_logloss: 0.414265\n",
      "[200]\ttraining's multi_logloss: 0.000132297\tvalid_1's multi_logloss: 0.552665\n",
      "Early stopping, best iteration is:\n",
      "[57]\ttraining's multi_logloss: 0.0389058\tvalid_1's multi_logloss: 0.365149\n",
      "Training fold 4\n",
      "[100]\ttraining's multi_logloss: 0.00556595\tvalid_1's multi_logloss: 0.591573\n",
      "[200]\ttraining's multi_logloss: 0.000108531\tvalid_1's multi_logloss: 0.834441\n",
      "Early stopping, best iteration is:\n",
      "[57]\ttraining's multi_logloss: 0.0389058\tvalid_1's multi_logloss: 0.365149\n",
      "Training fold 5\n",
      "[100]\ttraining's multi_logloss: 0.00718205\tvalid_1's multi_logloss: 0.349682\n",
      "[200]\ttraining's multi_logloss: 0.000172885\tvalid_1's multi_logloss: 0.448546\n",
      "Early stopping, best iteration is:\n",
      "[59]\ttraining's multi_logloss: 0.0374302\tvalid_1's multi_logloss: 0.324068\n"
     ]
    }
   ],
   "source": [
    "\n",
    "lgb_train_pre, lgb_test_pre, lgb_model_list = MyLightGBM(X_train_data=X_train,\n",
    "                                                         y_train_data=y_train_enc,\n",
    "                                                         X_test_data=X_test,\n",
    "                                                         kfold=kfold,\n",
    "                                                         params=lgb_params,\n",
    "                                                         callbacks=[es_func, le_func],\n",
    "                                                         feval=None, fweight=None, categorical_feature=\"auto\")"
   ],
   "metadata": {
    "collapsed": false,
    "pycharm": {
     "name": "#%%\n"
    }
   }
  },
  {
   "cell_type": "code",
   "execution_count": 6,
   "outputs": [
    {
     "name": "stdout",
     "output_type": "stream",
     "text": [
      "(2700, 7)\n",
      "(300, 7)\n",
      "[<lightgbm.basic.Booster object at 0x0000020F441D48E0>, <lightgbm.basic.Booster object at 0x0000020F066CC9D0>, <lightgbm.basic.Booster object at 0x0000020F066CC670>, <lightgbm.basic.Booster object at 0x0000020F066CCB20>, <lightgbm.basic.Booster object at 0x0000020F066CC790>]\n"
     ]
    }
   ],
   "source": [
    "print(lgb_train_pre.shape)\n",
    "print(lgb_test_pre.shape)\n",
    "print(lgb_model_list)"
   ],
   "metadata": {
    "collapsed": false,
    "pycharm": {
     "name": "#%%\n"
    }
   }
  },
  {
   "cell_type": "markdown",
   "source": [
    "### catboost测试"
   ],
   "metadata": {
    "collapsed": false,
    "pycharm": {
     "name": "#%% md\n"
    }
   }
  },
  {
   "cell_type": "code",
   "execution_count": 7,
   "outputs": [
    {
     "name": "stdout",
     "output_type": "stream",
     "text": [
      "Training fold 1\n",
      "Learning rate set to 0.109652\n",
      "0:\tlearn: 1.7067987\ttest: 1.7135182\tbest: 1.7135182 (0)\ttotal: 152ms\tremaining: 2m 31s\n",
      "200:\tlearn: 0.2907832\ttest: 0.4345651\tbest: 0.4345651 (200)\ttotal: 1.63s\tremaining: 6.46s\n",
      "400:\tlearn: 0.1757640\ttest: 0.3791633\tbest: 0.3788905 (398)\ttotal: 3.31s\tremaining: 4.94s\n",
      "600:\tlearn: 0.1178662\ttest: 0.3627976\tbest: 0.3622846 (595)\ttotal: 4.87s\tremaining: 3.23s\n",
      "800:\tlearn: 0.0846530\ttest: 0.3559992\tbest: 0.3555747 (787)\ttotal: 6.32s\tremaining: 1.57s\n",
      "999:\tlearn: 0.0647781\ttest: 0.3538373\tbest: 0.3524478 (933)\ttotal: 7.74s\tremaining: 0us\n",
      "\n",
      "bestTest = 0.3524477958\n",
      "bestIteration = 933\n",
      "\n",
      "Shrink model to first 934 iterations.\n",
      "Training fold 2\n",
      "Learning rate set to 0.109652\n",
      "0:\tlearn: 1.7442836\ttest: 1.7360204\tbest: 1.7360204 (0)\ttotal: 7.79ms\tremaining: 7.79s\n",
      "200:\tlearn: 0.2789115\ttest: 0.4312189\tbest: 0.4312189 (200)\ttotal: 1.4s\tremaining: 5.55s\n",
      "400:\tlearn: 0.1704427\ttest: 0.3955532\tbest: 0.3955532 (400)\ttotal: 2.83s\tremaining: 4.23s\n",
      "600:\tlearn: 0.1154508\ttest: 0.3856245\tbest: 0.3848819 (585)\ttotal: 4.26s\tremaining: 2.83s\n",
      "Stopped by overfitting detector  (100 iterations wait)\n",
      "\n",
      "bestTest = 0.3831730183\n",
      "bestIteration = 628\n",
      "\n",
      "Shrink model to first 629 iterations.\n",
      "Training fold 3\n",
      "Learning rate set to 0.109652\n",
      "0:\tlearn: 1.7159506\ttest: 1.7271861\tbest: 1.7271861 (0)\ttotal: 22.6ms\tremaining: 22.5s\n",
      "200:\tlearn: 0.2828455\ttest: 0.4337355\tbest: 0.4337355 (200)\ttotal: 1.43s\tremaining: 5.68s\n",
      "400:\tlearn: 0.1705586\ttest: 0.3898151\tbest: 0.3897786 (399)\ttotal: 2.84s\tremaining: 4.24s\n",
      "600:\tlearn: 0.1171621\ttest: 0.3749634\tbest: 0.3748411 (597)\ttotal: 4.24s\tremaining: 2.81s\n",
      "800:\tlearn: 0.0851341\ttest: 0.3721079\tbest: 0.3705024 (756)\ttotal: 5.64s\tremaining: 1.4s\n",
      "999:\tlearn: 0.0648777\ttest: 0.3709927\tbest: 0.3691842 (902)\ttotal: 7.04s\tremaining: 0us\n",
      "\n",
      "bestTest = 0.3691842262\n",
      "bestIteration = 902\n",
      "\n",
      "Shrink model to first 903 iterations.\n",
      "Training fold 4\n",
      "Learning rate set to 0.109652\n",
      "0:\tlearn: 1.7377921\ttest: 1.7485404\tbest: 1.7485404 (0)\ttotal: 7.54ms\tremaining: 7.53s\n",
      "200:\tlearn: 0.2708941\ttest: 0.5106122\tbest: 0.5106122 (200)\ttotal: 1.44s\tremaining: 5.72s\n",
      "400:\tlearn: 0.1654761\ttest: 0.4677713\tbest: 0.4677528 (398)\ttotal: 2.86s\tremaining: 4.27s\n",
      "600:\tlearn: 0.1122571\ttest: 0.4560574\tbest: 0.4560574 (600)\ttotal: 4.3s\tremaining: 2.85s\n",
      "800:\tlearn: 0.0809241\ttest: 0.4512345\tbest: 0.4504795 (779)\ttotal: 5.74s\tremaining: 1.42s\n",
      "Stopped by overfitting detector  (100 iterations wait)\n",
      "\n",
      "bestTest = 0.449511357\n",
      "bestIteration = 875\n",
      "\n",
      "Shrink model to first 876 iterations.\n",
      "Training fold 5\n",
      "Learning rate set to 0.109652\n",
      "0:\tlearn: 1.7377525\ttest: 1.7469966\tbest: 1.7469966 (0)\ttotal: 19.8ms\tremaining: 19.7s\n",
      "200:\tlearn: 0.2882338\ttest: 0.3839567\tbest: 0.3839567 (200)\ttotal: 1.45s\tremaining: 5.75s\n",
      "400:\tlearn: 0.1751009\ttest: 0.3300814\tbest: 0.3298909 (398)\ttotal: 2.85s\tremaining: 4.25s\n",
      "600:\tlearn: 0.1196015\ttest: 0.3077017\tbest: 0.3073409 (599)\ttotal: 4.25s\tremaining: 2.82s\n",
      "800:\tlearn: 0.0879359\ttest: 0.2952451\tbest: 0.2952451 (800)\ttotal: 5.66s\tremaining: 1.41s\n",
      "999:\tlearn: 0.0661947\ttest: 0.2900156\tbest: 0.2891705 (985)\ttotal: 7.11s\tremaining: 0us\n",
      "\n",
      "bestTest = 0.2891704879\n",
      "bestIteration = 985\n",
      "\n",
      "Shrink model to first 986 iterations.\n"
     ]
    }
   ],
   "source": [
    "cat_train_pre, cat_test_pre, cat_model_list = MyCatboost(X_train_data=X_train,\n",
    "                                                         y_train_data=y_train_enc,\n",
    "                                                         X_test_data=X_test,\n",
    "                                                         kfold=kfold,\n",
    "                                                         params=cat_params,\n",
    "                                                         num_class=7,\n",
    "                                                         early_stopping_rounds=100,\n",
    "                                                         verbose_eval=200,\n",
    "                                                         fweight=None)"
   ],
   "metadata": {
    "collapsed": false,
    "pycharm": {
     "name": "#%%\n"
    }
   }
  },
  {
   "cell_type": "code",
   "execution_count": 8,
   "outputs": [
    {
     "name": "stdout",
     "output_type": "stream",
     "text": [
      "(2700, 7)\n",
      "(300, 7)\n",
      "[<catboost.core.CatBoost object at 0x0000020F441D4D60>, <catboost.core.CatBoost object at 0x0000020F441D45B0>, <catboost.core.CatBoost object at 0x0000020F441D4B20>, <catboost.core.CatBoost object at 0x0000020F066ED160>, <catboost.core.CatBoost object at 0x0000020F066ED130>]\n"
     ]
    }
   ],
   "source": [
    "print(cat_train_pre.shape)\n",
    "print(cat_test_pre.shape)\n",
    "print(cat_model_list)"
   ],
   "metadata": {
    "collapsed": false,
    "pycharm": {
     "name": "#%%\n"
    }
   }
  },
  {
   "cell_type": "markdown",
   "source": [
    "### xgboost测试"
   ],
   "metadata": {
    "collapsed": false,
    "pycharm": {
     "name": "#%% md\n"
    }
   }
  },
  {
   "cell_type": "code",
   "execution_count": 9,
   "outputs": [
    {
     "name": "stdout",
     "output_type": "stream",
     "text": [
      "Training fold 1\n",
      "[0]\ttrain_-mlogloss:1.34951\tval_-mlogloss:1.39749\n",
      "[9]\ttrain_-mlogloss:0.36473\tval_-mlogloss:0.55932\n",
      "Training fold 2\n",
      "[0]\ttrain_-mlogloss:1.35962\tval_-mlogloss:1.40953\n",
      "[9]\ttrain_-mlogloss:0.36721\tval_-mlogloss:0.54961\n",
      "Training fold 3\n",
      "[0]\ttrain_-mlogloss:1.35524\tval_-mlogloss:1.43400\n",
      "[9]\ttrain_-mlogloss:0.36018\tval_-mlogloss:0.57457\n",
      "Training fold 4\n",
      "[0]\ttrain_-mlogloss:1.34930\tval_-mlogloss:1.43231\n",
      "[9]\ttrain_-mlogloss:0.36314\tval_-mlogloss:0.60919\n",
      "Training fold 5\n",
      "[0]\ttrain_-mlogloss:1.34789\tval_-mlogloss:1.39165\n",
      "[9]\ttrain_-mlogloss:0.37150\tval_-mlogloss:0.52809\n"
     ]
    }
   ],
   "source": [
    "xgb_train_pre, xgb_test_pre, xgb_model_list = MyXgboost(X_train_data=X_train,\n",
    "                                                        y_train_data=y_train_enc,\n",
    "                                                        X_test_data=X_test,\n",
    "                                                        kfold=kfold,\n",
    "                                                        params=xgb_params,\n",
    "                                                        early_stopping_rounds=100,\n",
    "                                                        verbose_eval=200,\n",
    "                                                        feval=None,\n",
    "                                                        fweight=None)"
   ],
   "metadata": {
    "collapsed": false,
    "pycharm": {
     "name": "#%%\n"
    }
   }
  },
  {
   "cell_type": "code",
   "execution_count": 10,
   "outputs": [
    {
     "name": "stdout",
     "output_type": "stream",
     "text": [
      "(2700, 7)\n",
      "(300, 7)\n",
      "[<xgboost.core.Booster object at 0x0000020F066ED8E0>, <xgboost.core.Booster object at 0x0000020F066EDAF0>, <xgboost.core.Booster object at 0x0000020F066ED580>, <xgboost.core.Booster object at 0x0000020F066EDBE0>, <xgboost.core.Booster object at 0x0000020F066ED550>]\n"
     ]
    }
   ],
   "source": [
    "print(xgb_train_pre.shape)\n",
    "print(xgb_test_pre.shape)\n",
    "print(xgb_model_list)"
   ],
   "metadata": {
    "collapsed": false,
    "pycharm": {
     "name": "#%%\n"
    }
   }
  },
  {
   "cell_type": "code",
   "execution_count": 11,
   "outputs": [
    {
     "name": "stdout",
     "output_type": "stream",
     "text": [
      "xgb score: 0.8366666666666667\n",
      "lgb score: 0.87\n",
      "cat score 0.8733333333333333\n"
     ]
    }
   ],
   "source": [
    "xgb_score = accuracy_score(y_test_enc, np.argmax(xgb_test_pre, axis=1))\n",
    "lgb_score = accuracy_score(y_test_enc, np.argmax(lgb_test_pre, axis=1))\n",
    "cat_score = accuracy_score(y_test_enc, np.argmax(cat_test_pre, axis=1))\n",
    "\n",
    "print(\"xgb score:\", xgb_score)\n",
    "print(\"lgb score:\", lgb_score)\n",
    "print(\"cat score\", cat_score)"
   ],
   "metadata": {
    "collapsed": false,
    "pycharm": {
     "name": "#%%\n"
    }
   }
  },
  {
   "cell_type": "code",
   "execution_count": 11,
   "outputs": [],
   "source": [],
   "metadata": {
    "collapsed": false,
    "pycharm": {
     "name": "#%%\n"
    }
   }
  }
 ],
 "metadata": {
  "kernelspec": {
   "display_name": "Python 3",
   "language": "python",
   "name": "python3"
  },
  "language_info": {
   "codemirror_mode": {
    "name": "ipython",
    "version": 2
   },
   "file_extension": ".py",
   "mimetype": "text/x-python",
   "name": "python",
   "nbconvert_exporter": "python",
   "pygments_lexer": "ipython2",
   "version": "2.7.6"
  }
 },
 "nbformat": 4,
 "nbformat_minor": 0
}