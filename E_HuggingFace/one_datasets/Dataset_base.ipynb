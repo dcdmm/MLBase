{
 "cells": [
  {
   "cell_type": "code",
   "execution_count": 1,
   "metadata": {},
   "outputs": [],
   "source": [
    "from datasets import load_dataset\n",
    "from datasets import Dataset\n",
    "import pyarrow as pa"
   ]
  },
  {
   "cell_type": "code",
   "execution_count": 2,
   "metadata": {},
   "outputs": [
    {
     "name": "stderr",
     "output_type": "stream",
     "text": [
      "Using the latest cached version of the dataset since dair-ai/emotion couldn't be found on the Hugging Face Hub\n",
      "Found the latest cached dataset configuration 'split' at C:\\Users\\duanm\\.cache\\huggingface\\datasets\\dair-ai___emotion\\split\\0.0.0\\cab853a1dbdf4c42c2b3ef2173804746df8825fe (last modified on Thu Dec 19 15:18:36 2024).\n"
     ]
    },
    {
     "data": {
      "text/plain": [
       "DatasetDict({\n",
       "    train: Dataset({\n",
       "        features: ['text', 'label'],\n",
       "        num_rows: 16000\n",
       "    })\n",
       "    validation: Dataset({\n",
       "        features: ['text', 'label'],\n",
       "        num_rows: 2000\n",
       "    })\n",
       "    test: Dataset({\n",
       "        features: ['text', 'label'],\n",
       "        num_rows: 2000\n",
       "    })\n",
       "})"
      ]
     },
     "execution_count": 2,
     "metadata": {},
     "output_type": "execute_result"
    }
   ],
   "source": [
    "dataset_all = load_dataset(path='dair-ai/emotion')\n",
    "dataset_all"
   ]
  },
  {
   "cell_type": "code",
   "execution_count": 3,
   "metadata": {},
   "outputs": [
    {
     "data": {
      "text/plain": [
       "Dataset({\n",
       "    features: ['text', 'label'],\n",
       "    num_rows: 16000\n",
       "})"
      ]
     },
     "execution_count": 3,
     "metadata": {},
     "output_type": "execute_result"
    }
   ],
   "source": [
    "dataset_train = dataset_all['train']\n",
    "dataset_train  # 类型:datasets.arrow_dataset.Dataset"
   ]
  },
  {
   "cell_type": "code",
   "execution_count": 4,
   "metadata": {},
   "outputs": [
    {
     "name": "stdout",
     "output_type": "stream",
     "text": [
      "16000\n",
      "{'text': 'i didnt feel humiliated', 'label': 0}\n",
      "{'text': ['i didnt feel humiliated', 'i can go from feeling so hopeless to so damned hopeful just from being around someone who cares and is awake', 'im grabbing a minute to post i feel greedy wrong'], 'label': [0, 0, 3]}\n",
      "{'text': 'i didnt feel humiliated', 'label': 0}\n",
      "['text', 'label']\n",
      "{'text': Value(dtype='string', id=None), 'label': ClassLabel(names=['sadness', 'joy', 'love', 'anger', 'fear', 'surprise'], id=None)}\n"
     ]
    }
   ],
   "source": [
    "# 长度\n",
    "print(len(dataset_train))\n",
    "\n",
    "# 索引\n",
    "print(dataset_train[0])  # {k0: v0, k1: v1, ......}\n",
    "\n",
    "# 切片\n",
    "print(dataset_train[0: 3])  # {k0: [k0v0, k0v1, ......], k1: [k1v0, k1v1, ......], ......}\n",
    "\n",
    "for i in dataset_train:\n",
    "    print(i)  # {k0: v0, k1: v1, ......}\n",
    "    break\n",
    "\n",
    "# 列名(对应每条数据的键)\n",
    "print(dataset_train.column_names)\n",
    "\n",
    "# 数据类型\n",
    "print(dataset_train.features)"
   ]
  },
  {
   "cell_type": "code",
   "execution_count": 5,
   "metadata": {},
   "outputs": [
    {
     "name": "stdout",
     "output_type": "stream",
     "text": [
      "pyarrow.Table\n",
      "text: string\n",
      "label: int64\n",
      "----\n",
      "text: [[\"i didnt feel humiliated\",\"i can go from feeling so hopeless to so damned hopeful just from being around someone who cares and is awake\",\"im grabbing a minute to post i feel greedy wrong\",\"i am ever feeling nostalgic about the fireplace i will know that it is still on the property\",\"i am feeling grouchy\",\"ive been feeling a little burdened lately wasnt sure why that was\",\"ive been taking or milligrams or times recommended amount and ive fallen asleep a lot faster but i also feel like so funny\",\"i feel as confused about life as a teenager or as jaded as a year old man\",\"i have been with petronas for years i feel that petronas has performed well and made a huge profit\",\"i feel romantic too\"]]\n",
      "label: [[0,0,3,2,3,0,5,4,1,2]]\n",
      "Dataset({\n",
      "    features: ['text', 'label'],\n",
      "    num_rows: 10\n",
      "})\n"
     ]
    }
   ],
   "source": [
    "section_arrow = pa.Table.from_pydict(dataset_train[:10])\n",
    "print(section_arrow)\n",
    "\n",
    "# 新的Dataset\n",
    "section_dataset = Dataset(section_arrow)\n",
    "print(section_dataset)"
   ]
  },
  {
   "cell_type": "code",
   "execution_count": 6,
   "metadata": {},
   "outputs": [
    {
     "name": "stdout",
     "output_type": "stream",
     "text": [
      "<class 'list'>\n",
      "<class 'list'>\n",
      "['i didnt feel humiliated', 'i can go from feeling so hopeless to so damned hopeful just from being around someone who cares and is awake', 'im grabbing a minute to post i feel greedy wrong', 'i am ever feeling nostalgic about the fireplace i will know that it is still on the property', 'i am feeling grouchy']\n",
      "[0, 0, 3, 2, 3]\n"
     ]
    }
   ],
   "source": [
    "print(type(dataset_train['text']))\n",
    "print(type(dataset_train['label']))\n",
    "\n",
    "print(dataset_train['text'][:5])\n",
    "print(dataset_train['label'][:5])"
   ]
  }
 ],
 "metadata": {
  "kernelspec": {
   "display_name": "llm",
   "language": "python",
   "name": "python3"
  },
  "language_info": {
   "codemirror_mode": {
    "name": "ipython",
    "version": 3
   },
   "file_extension": ".py",
   "mimetype": "text/x-python",
   "name": "python",
   "nbconvert_exporter": "python",
   "pygments_lexer": "ipython3",
   "version": "3.10.12"
  }
 },
 "nbformat": 4,
 "nbformat_minor": 2
}
