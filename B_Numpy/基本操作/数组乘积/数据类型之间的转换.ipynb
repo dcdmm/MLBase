{
 "cells": [
  {
   "cell_type": "code",
   "metadata": {
    "collapsed": true,
    "pycharm": {
     "name": "#%% \n"
    }
   },
   "source": [
    "import numpy as np\n",
    "\n",
    "arr_scalar_vetor = np.array(10, ndmin=1) # 标量转向量(法一)\n",
    "arr_scalar_vetor.shape"
   ],
   "execution_count": 20,
   "outputs": [
    {
     "data": {
      "text/plain": "(1,)"
     },
     "execution_count": 20,
     "metadata": {},
     "output_type": "execute_result"
    }
   ]
  },
  {
   "cell_type": "code",
   "execution_count": 21,
   "outputs": [
    {
     "data": {
      "text/plain": "(1,)"
     },
     "execution_count": 21,
     "metadata": {},
     "output_type": "execute_result"
    }
   ],
   "source": [
    "arr_scalar_vetor1 = np.array(10).reshape(1) # 标量转向量(法二)\n",
    "arr_scalar_vetor1.shape"
   ],
   "metadata": {
    "collapsed": false,
    "pycharm": {
     "name": "#%%\n"
    }
   }
  },
  {
   "cell_type": "code",
   "execution_count": 22,
   "outputs": [
    {
     "data": {
      "text/plain": "(1, 1)"
     },
     "execution_count": 22,
     "metadata": {},
     "output_type": "execute_result"
    }
   ],
   "source": [
    "arr_scalar_matrix = np.array(10, ndmin=2) # 标量转矩阵(法一)\n",
    "arr_scalar_matrix.shape"
   ],
   "metadata": {
    "collapsed": false,
    "pycharm": {
     "name": "#%%\n"
    }
   }
  },
  {
   "cell_type": "code",
   "execution_count": 23,
   "outputs": [
    {
     "name": "stdout",
     "output_type": "stream",
     "text": [
      "(1, 1)\n",
      "[[10]]\n"
     ]
    }
   ],
   "source": [
    "arr_scalar_matrix1 = np.array(10).reshape(1, 1) # 标量转矩阵(法二)\n",
    "print(arr_scalar_matrix.shape) # (0维度尺寸=1, 1维度尺寸=1)\n",
    "print(arr_scalar_matrix)"
   ],
   "metadata": {
    "collapsed": false,
    "pycharm": {
     "name": "#%%\n"
    }
   }
  },
  {
   "cell_type": "code",
   "execution_count": 24,
   "outputs": [
    {
     "name": "stdout",
     "output_type": "stream",
     "text": [
      "(1, 3)\n",
      "[[1 2 3]]\n"
     ]
    }
   ],
   "source": [
    "arr_vector_matrix = np.array([1, 2, 3], ndmin=2) # 向量转矩阵(法一)\n",
    "print(arr_vector_matrix.shape) # (0维度尺寸=1, 1维度尺寸=3)--->数学中的行向量\n",
    "print(arr_vector_matrix)"
   ],
   "metadata": {
    "collapsed": false,
    "pycharm": {
     "name": "#%%\n"
    }
   }
  },
  {
   "cell_type": "code",
   "execution_count": 25,
   "outputs": [
    {
     "name": "stdout",
     "output_type": "stream",
     "text": [
      "(1, 3)\n",
      "[[1 2 3]]\n"
     ]
    }
   ],
   "source": [
    "arr_vector_matrix1 = np.array([1, 2, 3]).reshape(1, 3) # 向量转矩阵(法二)\n",
    "print(arr_vector_matrix1.shape) # (0维度尺寸=1, 1维度尺寸=3)--->数学中的行向量\n",
    "print(arr_vector_matrix1)"
   ],
   "metadata": {
    "collapsed": false,
    "pycharm": {
     "name": "#%%\n"
    }
   }
  },
  {
   "cell_type": "code",
   "execution_count": 26,
   "outputs": [
    {
     "data": {
      "text/plain": "array([[[[[1]],\n\n         [[2]],\n\n         [[3]]]]])"
     },
     "execution_count": 26,
     "metadata": {},
     "output_type": "execute_result"
    }
   ],
   "source": [
    "arr_vector_mul_matrix = np.array([1, 2, 3]).reshape(1, 1, 3, 1, 1) # 高维矩阵\n",
    "arr_vector_mul_matrix\n"
   ],
   "metadata": {
    "collapsed": false,
    "pycharm": {
     "name": "#%%\n"
    }
   }
  }
 ],
 "metadata": {
  "kernelspec": {
   "display_name": "Python 3",
   "language": "python",
   "name": "python3"
  },
  "language_info": {
   "codemirror_mode": {
    "name": "ipython",
    "version": 2
   },
   "file_extension": ".py",
   "mimetype": "text/x-python",
   "name": "python",
   "nbconvert_exporter": "python",
   "pygments_lexer": "ipython2",
   "version": "2.7.6"
  }
 },
 "nbformat": 4,
 "nbformat_minor": 0
}