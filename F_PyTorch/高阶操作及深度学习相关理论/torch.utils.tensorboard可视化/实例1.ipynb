{
 "cells": [
  {
   "cell_type": "code",
   "execution_count": 76,
   "metadata": {
    "collapsed": true
   },
   "outputs": [],
   "source": [
    "from PIL import Image\n",
    "import torchvision.transforms as transforms\n",
    "from torch.utils.tensorboard import SummaryWriter\n",
    "import torchvision.utils as vutils\n",
    "import torchvision.models as models"
   ]
  },
  {
   "cell_type": "code",
   "execution_count": 77,
   "metadata": {
    "pycharm": {
     "name": "#%%\n"
    }
   },
   "outputs": [],
   "source": [
    "writer = SummaryWriter(log_dir='./data/实例1', filename_suffix=\"tb\")\n",
    "alexnet = models.alexnet(pretrained=True) # 预训练好的Alexnet模型\n",
    "\n",
    "path_img = \"test_picture.png\"\n",
    "normMean = [0.49139968, 0.48215827, 0.44653124]\n",
    "normStd = [0.24703233, 0.24348505, 0.26158768]\n",
    "\n",
    "norm_transform = transforms.Normalize(normMean, normStd)\n",
    "img_transforms = transforms.Compose([\n",
    "    transforms.Resize((224, 224)),\n",
    "    transforms.ToTensor(),\n",
    "    norm_transform\n",
    "])"
   ]
  },
  {
   "cell_type": "code",
   "execution_count": 78,
   "metadata": {
    "pycharm": {
     "name": "#%%\n"
    }
   },
   "outputs": [
    {
     "data": {
      "text/plain": [
       "torch.Size([1, 64, 55, 55])"
      ]
     },
     "execution_count": 78,
     "metadata": {},
     "output_type": "execute_result"
    }
   ],
   "source": [
    "img_pil = Image.open(path_img).convert('RGB')\n",
    "img_tensor = img_transforms(img_pil)\n",
    "img_tensor.unsqueeze_(0)  # CHW --> BCHW\n",
    "\n",
    "convlayer1 = alexnet.features[0] # AlexNet的第一个卷积层\n",
    "fmap_1 = convlayer1(img_tensor) # 64个卷积对应的特征图\n",
    "fmap_1.shape"
   ]
  },
  {
   "cell_type": "code",
   "execution_count": 79,
   "metadata": {
    "pycharm": {
     "name": "#%%\n"
    }
   },
   "outputs": [],
   "source": [
    "fmap_1.transpose_(0, 1)  # BCHW=(1, 64, 55, 55) --> (64, 1, 55, 55)\n",
    "fmap_1_grid = vutils.make_grid(fmap_1, normalize=True, scale_each=True, nrow=8)\n",
    "\n",
    "writer.add_image('feature map in conv1', fmap_1_grid, global_step=0, dataformats='CHW') # 保存特征图\n",
    "writer.close()\n",
    "\n"
   ]
  }
 ],
 "metadata": {
  "kernelspec": {
   "display_name": "Python 3",
   "language": "python",
   "name": "python3"
  },
  "language_info": {
   "codemirror_mode": {
    "name": "ipython",
    "version": 3
   },
   "file_extension": ".py",
   "mimetype": "text/x-python",
   "name": "python",
   "nbconvert_exporter": "python",
   "pygments_lexer": "ipython3",
   "version": "3.7.7"
  },
  "toc": {
   "base_numbering": 1,
   "nav_menu": {},
   "number_sections": true,
   "sideBar": true,
   "skip_h1_title": false,
   "title_cell": "Table of Contents",
   "title_sidebar": "Contents",
   "toc_cell": false,
   "toc_position": {},
   "toc_section_display": true,
   "toc_window_display": false
  }
 },
 "nbformat": 4,
 "nbformat_minor": 1
}