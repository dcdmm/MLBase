{
 "cells": [
  {
   "cell_type": "code",
   "execution_count": 1,
   "metadata": {
    "collapsed": true,
    "pycharm": {
     "is_executing": false
    }
   },
   "outputs": [],
   "source": [
    "from sklearn import datasets\n",
    "from sklearn.model_selection import train_test_split\n",
    "from knn import KNNClassifier"
   ]
  },
  {
   "cell_type": "code",
   "execution_count": 2,
   "outputs": [
    {
     "data": {
      "text/plain": "dict_keys(['data', 'target', 'target_names', 'images', 'DESCR'])"
     },
     "metadata": {},
     "output_type": "execute_result",
     "execution_count": 2
    }
   ],
   "source": [
    "digits = datasets.load_digits() # 手写数字数据集\n",
    "digits.keys()"
   ],
   "metadata": {
    "collapsed": false,
    "pycharm": {
     "name": "#%%\n",
     "is_executing": false
    }
   }
  },
  {
   "cell_type": "code",
   "execution_count": 3,
   "outputs": [
    {
     "data": {
      "text/plain": "array([0, 1, 2, 3, 4, 5, 6, 7, 8, 9])"
     },
     "metadata": {},
     "output_type": "execute_result",
     "execution_count": 3
    }
   ],
   "source": [
    "digits.target_names # 数据集类别"
   ],
   "metadata": {
    "collapsed": false,
    "pycharm": {
     "name": "#%%\n",
     "is_executing": false
    }
   }
  },
  {
   "cell_type": "code",
   "execution_count": 4,
   "outputs": [
    {
     "data": {
      "text/plain": "(1797, 64)"
     },
     "metadata": {},
     "output_type": "execute_result",
     "execution_count": 4
    }
   ],
   "source": [
    "X = digits.data\n",
    "X.shape"
   ],
   "metadata": {
    "collapsed": false,
    "pycharm": {
     "name": "#%%\n",
     "is_executing": false
    }
   }
  },
  {
   "cell_type": "code",
   "execution_count": 5,
   "outputs": [
    {
     "data": {
      "text/plain": "(1797,)"
     },
     "metadata": {},
     "output_type": "execute_result",
     "execution_count": 5
    }
   ],
   "source": [
    "y = digits.target\n",
    "y.shape"
   ],
   "metadata": {
    "collapsed": false,
    "pycharm": {
     "name": "#%%\n",
     "is_executing": false
    }
   }
  },
  {
   "cell_type": "code",
   "execution_count": 6,
   "outputs": [
    {
     "data": {
      "text/plain": "<Figure size 432x288 with 1 Axes>",
      "image/png": "[encoded data removed]"
     },
     "metadata": {
      "needs_background": "light"
     },
     "output_type": "display_data"
    },
    {
     "data": {
      "text/plain": "<Figure size 432x288 with 1 Axes>",
      "image/png": "[encoded data removed]"
     },
     "metadata": {
      "needs_background": "light"
     },
     "output_type": "display_data"
    },
    {
     "data": {
      "text/plain": "<Figure size 432x288 with 1 Axes>",
      "image/png": "[encoded data removed]"
     },
     "metadata": {
      "needs_background": "light"
     },
     "output_type": "display_data"
    }
   ],
   "source": [
    "import  matplotlib.pyplot as plt\n",
    "import matplotlib\n",
    "\n",
    "for i in range(3):\n",
    "    some_digit = X[i].reshape(8, 8)\n",
    "    plt.imshow(some_digit, cmap=matplotlib.cm.RdYlGn) # 将数组转换为图像\n",
    "    plt.show()"
   ],
   "metadata": {
    "collapsed": false,
    "pycharm": {
     "name": "#%%\n",
     "is_executing": false
    }
   }
  },
  {
   "cell_type": "code",
   "execution_count": 7,
   "outputs": [],
   "source": [
    "X_train, X_test, y_train, y_test = train_test_split(X, y, test_size=0.2) # 留出法划分数据集"
   ],
   "metadata": {
    "collapsed": false,
    "pycharm": {
     "name": "#%%\n",
     "is_executing": false
    }
   }
  },
  {
   "cell_type": "code",
   "execution_count": 8,
   "outputs": [
    {
     "data": {
      "text/plain": "<knn.KNNClassifier at 0x1f97b37ed48>"
     },
     "metadata": {},
     "output_type": "execute_result",
     "execution_count": 8
    }
   ],
   "source": [
    "my_knn_clf = KNNClassifier(n_neighbors=6, p=2)\n",
    "my_knn_clf.fit(X_train, y_train)"
   ],
   "metadata": {
    "collapsed": false,
    "pycharm": {
     "name": "#%%\n",
     "is_executing": false
    }
   }
  },
  {
   "cell_type": "code",
   "execution_count": 9,
   "outputs": [
    {
     "data": {
      "text/plain": "array([9, 2, 6, 2, 7, 8, 5, 9, 8, 8, 3, 0, 1, 4, 0, 8, 9, 0, 7, 3, 8, 1,\n       6, 5, 0, 5, 9, 7, 0, 9, 4, 6, 5, 0, 3, 8, 2, 5, 2, 5, 1, 7, 1, 5,\n       6, 3, 4, 4, 3, 2, 6, 5, 3, 2, 0, 4, 5, 4, 6, 2, 7, 9, 5, 3, 3, 1,\n       0, 6, 1, 0, 3, 6, 7, 7, 0, 4, 0, 9, 1, 7, 1, 7, 0, 0, 0, 0, 8, 8,\n       8, 9, 0, 2, 5, 7, 0, 3, 4, 3, 0, 6, 4, 6, 9, 8, 7, 4, 4, 2, 4, 8,\n       9, 5, 7, 1, 8, 7, 1, 1, 3, 6, 0, 3, 5, 7, 8, 8, 2, 7, 9, 8, 8, 2,\n       2, 3, 4, 3, 9, 5, 5, 1, 7, 6, 6, 2, 0, 1, 8, 7, 7, 3, 5, 3, 7, 1,\n       9, 6, 9, 7, 4, 3, 3, 9, 0, 0, 9, 9, 1, 3, 5, 9, 6, 2, 1, 2, 7, 3,\n       0, 4, 2, 6, 3, 2, 0, 2, 5, 3, 1, 3, 1, 4, 3, 8, 1, 5, 7, 3, 6, 7,\n       5, 8, 4, 7, 0, 4, 5, 3, 6, 7, 9, 6, 2, 7, 1, 3, 1, 1, 2, 7, 0, 2,\n       7, 4, 7, 1, 8, 2, 6, 4, 9, 3, 2, 8, 8, 9, 0, 0, 3, 7, 1, 0, 1, 5,\n       1, 5, 9, 7, 0, 2, 2, 9, 5, 9, 5, 6, 3, 0, 6, 0, 0, 7, 2, 8, 6, 8,\n       4, 7, 8, 1, 2, 5, 5, 4, 2, 5, 6, 9, 2, 3, 9, 0, 2, 4, 7, 1, 0, 1,\n       3, 2, 1, 7, 9, 2, 4, 7, 4, 6, 8, 3, 1, 4, 4, 6, 7, 9, 8, 5, 9, 4,\n       3, 5, 2, 8, 3, 0, 9, 9, 8, 1, 3, 1, 6, 7, 4, 4, 5, 6, 7, 4, 5, 0,\n       8, 9, 0, 0, 9, 4, 5, 0, 1, 4, 6, 0, 3, 8, 4, 4, 0, 5, 3, 1, 8, 8,\n       7, 2, 7, 8, 2, 5, 0, 6])"
     },
     "metadata": {},
     "output_type": "execute_result",
     "execution_count": 9
    }
   ],
   "source": [
    "my_knn_clf.predict(X_test) # 预测的测试数据集的所属的类"
   ],
   "metadata": {
    "collapsed": false,
    "pycharm": {
     "name": "#%%\n",
     "is_executing": false
    }
   }
  },
  {
   "cell_type": "code",
   "execution_count": 10,
   "outputs": [
    {
     "data": {
      "text/plain": "0.9861111111111112"
     },
     "metadata": {},
     "output_type": "execute_result",
     "execution_count": 10
    }
   ],
   "source": [
    "my_knn_clf.score(X_test, y_test) # 分类正确率"
   ],
   "metadata": {
    "collapsed": false,
    "pycharm": {
     "name": "#%%\n",
     "is_executing": false
    }
   }
  },
  {
   "cell_type": "code",
   "execution_count": null,
   "outputs": [],
   "source": [
    "\n"
   ],
   "metadata": {
    "collapsed": false,
    "pycharm": {
     "name": "#%%\n"
    }
   }
  }
 ],
 "metadata": {
  "kernelspec": {
   "display_name": "Python 3",
   "language": "python",
   "name": "python3"
  },
  "language_info": {
   "codemirror_mode": {
    "name": "ipython",
    "version": 2
   },
   "file_extension": ".py",
   "mimetype": "text/x-python",
   "name": "python",
   "nbconvert_exporter": "python",
   "pygments_lexer": "ipython2",
   "version": "2.7.6"
  }
 },
 "nbformat": 4,
 "nbformat_minor": 0
}