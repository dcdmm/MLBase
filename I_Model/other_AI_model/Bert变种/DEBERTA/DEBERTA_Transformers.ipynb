{
 "cells": [
  {
   "cell_type": "code",
   "execution_count": 19,
   "outputs": [],
   "source": [
    "from transformers import AutoModel, AutoTokenizer"
   ],
   "metadata": {
    "collapsed": false,
    "pycharm": {
     "name": "#%%\n"
    }
   }
  },
  {
   "cell_type": "code",
   "execution_count": 20,
   "outputs": [
    {
     "name": "stderr",
     "output_type": "stream",
     "text": [
      "Special tokens have been added in the vocabulary, make sure the associated word embeddings are fine-tuned or trained.\n"
     ]
    },
    {
     "name": "stdout",
     "output_type": "stream",
     "text": [
      "['input_ids', 'token_type_ids', 'attention_mask']\n",
      "['[CLS]', '[SEP]', '[UNK]', '[PAD]', '[MASK]']\n"
     ]
    }
   ],
   "source": [
    "'''\n",
    "主要预训练模型:\n",
    "'microsoft/deberta-v3-base'\n",
    "'microsoft/deberta-v3-large'\n",
    "'''\n",
    "tokenizer = AutoTokenizer.from_pretrained('microsoft/deberta-v3-base')  # 需安装sentencepiece(pip install sentencepiece)\n",
    "print(tokenizer.model_input_names)\n",
    "print(tokenizer.all_special_tokens)"
   ],
   "metadata": {
    "collapsed": false,
    "pycharm": {
     "name": "#%%\n"
    }
   }
  },
  {
   "cell_type": "code",
   "execution_count": 21,
   "outputs": [
    {
     "data": {
      "text/plain": "('deberta-v3-base-tokenizer\\\\tokenizer_config.json',\n 'deberta-v3-base-tokenizer\\\\special_tokens_map.json',\n 'deberta-v3-base-tokenizer\\\\spm.model',\n 'deberta-v3-base-tokenizer\\\\added_tokens.json')"
     },
     "execution_count": 21,
     "metadata": {},
     "output_type": "execute_result"
    }
   ],
   "source": [
    "# 保存分词器(包括新添加的tokens)\n",
    "tokenizer.save_pretrained(\"deberta-v3-base-tokenizer\")"
   ],
   "metadata": {
    "collapsed": false,
    "pycharm": {
     "name": "#%%\n"
    }
   }
  },
  {
   "cell_type": "code",
   "execution_count": 22,
   "outputs": [
    {
     "data": {
      "text/plain": "PreTrainedTokenizer(name_or_path='deberta-v3-base-tokenizer/', vocab_size=128000, model_max_len=1000000000000000019884624838656, is_fast=False, padding_side='right', truncation_side='right', special_tokens={'bos_token': '[CLS]', 'eos_token': '[SEP]', 'unk_token': '[UNK]', 'sep_token': '[SEP]', 'pad_token': '[PAD]', 'cls_token': '[CLS]', 'mask_token': '[MASK]'})"
     },
     "execution_count": 22,
     "metadata": {},
     "output_type": "execute_result"
    }
   ],
   "source": [
    "# 从本地加载\n",
    "AutoTokenizer.from_pretrained('deberta-v3-base-tokenizer/')"
   ],
   "metadata": {
    "collapsed": false,
    "pycharm": {
     "name": "#%%\n"
    }
   }
  },
  {
   "cell_type": "code",
   "execution_count": 23,
   "outputs": [
    {
     "name": "stderr",
     "output_type": "stream",
     "text": [
      "Some weights of the model checkpoint at microsoft/deberta-v3-base were not used when initializing DebertaV2Model: ['mask_predictions.classifier.weight', 'mask_predictions.LayerNorm.bias', 'lm_predictions.lm_head.bias', 'mask_predictions.classifier.bias', 'lm_predictions.lm_head.dense.bias', 'mask_predictions.dense.weight', 'mask_predictions.dense.bias', 'lm_predictions.lm_head.LayerNorm.bias', 'lm_predictions.lm_head.LayerNorm.weight', 'lm_predictions.lm_head.dense.weight', 'mask_predictions.LayerNorm.weight']\n",
      "- This IS expected if you are initializing DebertaV2Model from the checkpoint of a model trained on another task or with another architecture (e.g. initializing a BertForSequenceClassification model from a BertForPreTraining model).\n",
      "- This IS NOT expected if you are initializing DebertaV2Model from the checkpoint of a model that you expect to be exactly identical (initializing a BertForSequenceClassification model from a BertForSequenceClassification model).\n"
     ]
    },
    {
     "data": {
      "text/plain": "DebertaV2Model(\n  (embeddings): DebertaV2Embeddings(\n    (word_embeddings): Embedding(128100, 768, padding_idx=0)\n    (LayerNorm): LayerNorm((768,), eps=1e-07, elementwise_affine=True)\n    (dropout): StableDropout()\n  )\n  (encoder): DebertaV2Encoder(\n    (layer): ModuleList(\n      (0): DebertaV2Layer(\n        (attention): DebertaV2Attention(\n          (self): DisentangledSelfAttention(\n            (query_proj): Linear(in_features=768, out_features=768, bias=True)\n            (key_proj): Linear(in_features=768, out_features=768, bias=True)\n            (value_proj): Linear(in_features=768, out_features=768, bias=True)\n            (pos_dropout): StableDropout()\n            (dropout): StableDropout()\n          )\n          (output): DebertaV2SelfOutput(\n            (dense): Linear(in_features=768, out_features=768, bias=True)\n            (LayerNorm): LayerNorm((768,), eps=1e-07, elementwise_affine=True)\n            (dropout): StableDropout()\n          )\n        )\n        (intermediate): DebertaV2Intermediate(\n          (dense): Linear(in_features=768, out_features=3072, bias=True)\n          (intermediate_act_fn): GELUActivation()\n        )\n        (output): DebertaV2Output(\n          (dense): Linear(in_features=3072, out_features=768, bias=True)\n          (LayerNorm): LayerNorm((768,), eps=1e-07, elementwise_affine=True)\n          (dropout): StableDropout()\n        )\n      )\n      (1): DebertaV2Layer(\n        (attention): DebertaV2Attention(\n          (self): DisentangledSelfAttention(\n            (query_proj): Linear(in_features=768, out_features=768, bias=True)\n            (key_proj): Linear(in_features=768, out_features=768, bias=True)\n            (value_proj): Linear(in_features=768, out_features=768, bias=True)\n            (pos_dropout): StableDropout()\n            (dropout): StableDropout()\n          )\n          (output): DebertaV2SelfOutput(\n            (dense): Linear(in_features=768, out_features=768, bias=True)\n            (LayerNorm): LayerNorm((768,), eps=1e-07, elementwise_affine=True)\n            (dropout): StableDropout()\n          )\n        )\n        (intermediate): DebertaV2Intermediate(\n          (dense): Linear(in_features=768, out_features=3072, bias=True)\n          (intermediate_act_fn): GELUActivation()\n        )\n        (output): DebertaV2Output(\n          (dense): Linear(in_features=3072, out_features=768, bias=True)\n          (LayerNorm): LayerNorm((768,), eps=1e-07, elementwise_affine=True)\n          (dropout): StableDropout()\n        )\n      )\n      (2): DebertaV2Layer(\n        (attention): DebertaV2Attention(\n          (self): DisentangledSelfAttention(\n            (query_proj): Linear(in_features=768, out_features=768, bias=True)\n            (key_proj): Linear(in_features=768, out_features=768, bias=True)\n            (value_proj): Linear(in_features=768, out_features=768, bias=True)\n            (pos_dropout): StableDropout()\n            (dropout): StableDropout()\n          )\n          (output): DebertaV2SelfOutput(\n            (dense): Linear(in_features=768, out_features=768, bias=True)\n            (LayerNorm): LayerNorm((768,), eps=1e-07, elementwise_affine=True)\n            (dropout): StableDropout()\n          )\n        )\n        (intermediate): DebertaV2Intermediate(\n          (dense): Linear(in_features=768, out_features=3072, bias=True)\n          (intermediate_act_fn): GELUActivation()\n        )\n        (output): DebertaV2Output(\n          (dense): Linear(in_features=3072, out_features=768, bias=True)\n          (LayerNorm): LayerNorm((768,), eps=1e-07, elementwise_affine=True)\n          (dropout): StableDropout()\n        )\n      )\n      (3): DebertaV2Layer(\n        (attention): DebertaV2Attention(\n          (self): DisentangledSelfAttention(\n            (query_proj): Linear(in_features=768, out_features=768, bias=True)\n            (key_proj): Linear(in_features=768, out_features=768, bias=True)\n            (value_proj): Linear(in_features=768, out_features=768, bias=True)\n            (pos_dropout): StableDropout()\n            (dropout): StableDropout()\n          )\n          (output): DebertaV2SelfOutput(\n            (dense): Linear(in_features=768, out_features=768, bias=True)\n            (LayerNorm): LayerNorm((768,), eps=1e-07, elementwise_affine=True)\n            (dropout): StableDropout()\n          )\n        )\n        (intermediate): DebertaV2Intermediate(\n          (dense): Linear(in_features=768, out_features=3072, bias=True)\n          (intermediate_act_fn): GELUActivation()\n        )\n        (output): DebertaV2Output(\n          (dense): Linear(in_features=3072, out_features=768, bias=True)\n          (LayerNorm): LayerNorm((768,), eps=1e-07, elementwise_affine=True)\n          (dropout): StableDropout()\n        )\n      )\n      (4): DebertaV2Layer(\n        (attention): DebertaV2Attention(\n          (self): DisentangledSelfAttention(\n            (query_proj): Linear(in_features=768, out_features=768, bias=True)\n            (key_proj): Linear(in_features=768, out_features=768, bias=True)\n            (value_proj): Linear(in_features=768, out_features=768, bias=True)\n            (pos_dropout): StableDropout()\n            (dropout): StableDropout()\n          )\n          (output): DebertaV2SelfOutput(\n            (dense): Linear(in_features=768, out_features=768, bias=True)\n            (LayerNorm): LayerNorm((768,), eps=1e-07, elementwise_affine=True)\n            (dropout): StableDropout()\n          )\n        )\n        (intermediate): DebertaV2Intermediate(\n          (dense): Linear(in_features=768, out_features=3072, bias=True)\n          (intermediate_act_fn): GELUActivation()\n        )\n        (output): DebertaV2Output(\n          (dense): Linear(in_features=3072, out_features=768, bias=True)\n          (LayerNorm): LayerNorm((768,), eps=1e-07, elementwise_affine=True)\n          (dropout): StableDropout()\n        )\n      )\n      (5): DebertaV2Layer(\n        (attention): DebertaV2Attention(\n          (self): DisentangledSelfAttention(\n            (query_proj): Linear(in_features=768, out_features=768, bias=True)\n            (key_proj): Linear(in_features=768, out_features=768, bias=True)\n            (value_proj): Linear(in_features=768, out_features=768, bias=True)\n            (pos_dropout): StableDropout()\n            (dropout): StableDropout()\n          )\n          (output): DebertaV2SelfOutput(\n            (dense): Linear(in_features=768, out_features=768, bias=True)\n            (LayerNorm): LayerNorm((768,), eps=1e-07, elementwise_affine=True)\n            (dropout): StableDropout()\n          )\n        )\n        (intermediate): DebertaV2Intermediate(\n          (dense): Linear(in_features=768, out_features=3072, bias=True)\n          (intermediate_act_fn): GELUActivation()\n        )\n        (output): DebertaV2Output(\n          (dense): Linear(in_features=3072, out_features=768, bias=True)\n          (LayerNorm): LayerNorm((768,), eps=1e-07, elementwise_affine=True)\n          (dropout): StableDropout()\n        )\n      )\n      (6): DebertaV2Layer(\n        (attention): DebertaV2Attention(\n          (self): DisentangledSelfAttention(\n            (query_proj): Linear(in_features=768, out_features=768, bias=True)\n            (key_proj): Linear(in_features=768, out_features=768, bias=True)\n            (value_proj): Linear(in_features=768, out_features=768, bias=True)\n            (pos_dropout): StableDropout()\n            (dropout): StableDropout()\n          )\n          (output): DebertaV2SelfOutput(\n            (dense): Linear(in_features=768, out_features=768, bias=True)\n            (LayerNorm): LayerNorm((768,), eps=1e-07, elementwise_affine=True)\n            (dropout): StableDropout()\n          )\n        )\n        (intermediate): DebertaV2Intermediate(\n          (dense): Linear(in_features=768, out_features=3072, bias=True)\n          (intermediate_act_fn): GELUActivation()\n        )\n        (output): DebertaV2Output(\n          (dense): Linear(in_features=3072, out_features=768, bias=True)\n          (LayerNorm): LayerNorm((768,), eps=1e-07, elementwise_affine=True)\n          (dropout): StableDropout()\n        )\n      )\n      (7): DebertaV2Layer(\n        (attention): DebertaV2Attention(\n          (self): DisentangledSelfAttention(\n            (query_proj): Linear(in_features=768, out_features=768, bias=True)\n            (key_proj): Linear(in_features=768, out_features=768, bias=True)\n            (value_proj): Linear(in_features=768, out_features=768, bias=True)\n            (pos_dropout): StableDropout()\n            (dropout): StableDropout()\n          )\n          (output): DebertaV2SelfOutput(\n            (dense): Linear(in_features=768, out_features=768, bias=True)\n            (LayerNorm): LayerNorm((768,), eps=1e-07, elementwise_affine=True)\n            (dropout): StableDropout()\n          )\n        )\n        (intermediate): DebertaV2Intermediate(\n          (dense): Linear(in_features=768, out_features=3072, bias=True)\n          (intermediate_act_fn): GELUActivation()\n        )\n        (output): DebertaV2Output(\n          (dense): Linear(in_features=3072, out_features=768, bias=True)\n          (LayerNorm): LayerNorm((768,), eps=1e-07, elementwise_affine=True)\n          (dropout): StableDropout()\n        )\n      )\n      (8): DebertaV2Layer(\n        (attention): DebertaV2Attention(\n          (self): DisentangledSelfAttention(\n            (query_proj): Linear(in_features=768, out_features=768, bias=True)\n            (key_proj): Linear(in_features=768, out_features=768, bias=True)\n            (value_proj): Linear(in_features=768, out_features=768, bias=True)\n            (pos_dropout): StableDropout()\n            (dropout): StableDropout()\n          )\n          (output): DebertaV2SelfOutput(\n            (dense): Linear(in_features=768, out_features=768, bias=True)\n            (LayerNorm): LayerNorm((768,), eps=1e-07, elementwise_affine=True)\n            (dropout): StableDropout()\n          )\n        )\n        (intermediate): DebertaV2Intermediate(\n          (dense): Linear(in_features=768, out_features=3072, bias=True)\n          (intermediate_act_fn): GELUActivation()\n        )\n        (output): DebertaV2Output(\n          (dense): Linear(in_features=3072, out_features=768, bias=True)\n          (LayerNorm): LayerNorm((768,), eps=1e-07, elementwise_affine=True)\n          (dropout): StableDropout()\n        )\n      )\n      (9): DebertaV2Layer(\n        (attention): DebertaV2Attention(\n          (self): DisentangledSelfAttention(\n            (query_proj): Linear(in_features=768, out_features=768, bias=True)\n            (key_proj): Linear(in_features=768, out_features=768, bias=True)\n            (value_proj): Linear(in_features=768, out_features=768, bias=True)\n            (pos_dropout): StableDropout()\n            (dropout): StableDropout()\n          )\n          (output): DebertaV2SelfOutput(\n            (dense): Linear(in_features=768, out_features=768, bias=True)\n            (LayerNorm): LayerNorm((768,), eps=1e-07, elementwise_affine=True)\n            (dropout): StableDropout()\n          )\n        )\n        (intermediate): DebertaV2Intermediate(\n          (dense): Linear(in_features=768, out_features=3072, bias=True)\n          (intermediate_act_fn): GELUActivation()\n        )\n        (output): DebertaV2Output(\n          (dense): Linear(in_features=3072, out_features=768, bias=True)\n          (LayerNorm): LayerNorm((768,), eps=1e-07, elementwise_affine=True)\n          (dropout): StableDropout()\n        )\n      )\n      (10): DebertaV2Layer(\n        (attention): DebertaV2Attention(\n          (self): DisentangledSelfAttention(\n            (query_proj): Linear(in_features=768, out_features=768, bias=True)\n            (key_proj): Linear(in_features=768, out_features=768, bias=True)\n            (value_proj): Linear(in_features=768, out_features=768, bias=True)\n            (pos_dropout): StableDropout()\n            (dropout): StableDropout()\n          )\n          (output): DebertaV2SelfOutput(\n            (dense): Linear(in_features=768, out_features=768, bias=True)\n            (LayerNorm): LayerNorm((768,), eps=1e-07, elementwise_affine=True)\n            (dropout): StableDropout()\n          )\n        )\n        (intermediate): DebertaV2Intermediate(\n          (dense): Linear(in_features=768, out_features=3072, bias=True)\n          (intermediate_act_fn): GELUActivation()\n        )\n        (output): DebertaV2Output(\n          (dense): Linear(in_features=3072, out_features=768, bias=True)\n          (LayerNorm): LayerNorm((768,), eps=1e-07, elementwise_affine=True)\n          (dropout): StableDropout()\n        )\n      )\n      (11): DebertaV2Layer(\n        (attention): DebertaV2Attention(\n          (self): DisentangledSelfAttention(\n            (query_proj): Linear(in_features=768, out_features=768, bias=True)\n            (key_proj): Linear(in_features=768, out_features=768, bias=True)\n            (value_proj): Linear(in_features=768, out_features=768, bias=True)\n            (pos_dropout): StableDropout()\n            (dropout): StableDropout()\n          )\n          (output): DebertaV2SelfOutput(\n            (dense): Linear(in_features=768, out_features=768, bias=True)\n            (LayerNorm): LayerNorm((768,), eps=1e-07, elementwise_affine=True)\n            (dropout): StableDropout()\n          )\n        )\n        (intermediate): DebertaV2Intermediate(\n          (dense): Linear(in_features=768, out_features=3072, bias=True)\n          (intermediate_act_fn): GELUActivation()\n        )\n        (output): DebertaV2Output(\n          (dense): Linear(in_features=3072, out_features=768, bias=True)\n          (LayerNorm): LayerNorm((768,), eps=1e-07, elementwise_affine=True)\n          (dropout): StableDropout()\n        )\n      )\n    )\n    (rel_embeddings): Embedding(512, 768)\n    (LayerNorm): LayerNorm((768,), eps=1e-07, elementwise_affine=True)\n  )\n)"
     },
     "execution_count": 23,
     "metadata": {},
     "output_type": "execute_result"
    }
   ],
   "source": [
    "model = AutoModel.from_pretrained(\"microsoft/deberta-v3-base\")\n",
    "model"
   ],
   "metadata": {
    "collapsed": false,
    "pycharm": {
     "name": "#%%\n"
    }
   }
  },
  {
   "cell_type": "code",
   "execution_count": 24,
   "outputs": [
    {
     "data": {
      "text/plain": "DebertaV2Config {\n  \"_name_or_path\": \"microsoft/deberta-v3-base\",\n  \"attention_probs_dropout_prob\": 0.1,\n  \"hidden_act\": \"gelu\",\n  \"hidden_dropout_prob\": 0.1,\n  \"hidden_size\": 768,\n  \"initializer_range\": 0.02,\n  \"intermediate_size\": 3072,\n  \"layer_norm_eps\": 1e-07,\n  \"max_position_embeddings\": 512,\n  \"max_relative_positions\": -1,\n  \"model_type\": \"deberta-v2\",\n  \"norm_rel_ebd\": \"layer_norm\",\n  \"num_attention_heads\": 12,\n  \"num_hidden_layers\": 12,\n  \"pad_token_id\": 0,\n  \"pooler_dropout\": 0,\n  \"pooler_hidden_act\": \"gelu\",\n  \"pooler_hidden_size\": 768,\n  \"pos_att_type\": [\n    \"p2c\",\n    \"c2p\"\n  ],\n  \"position_biased_input\": false,\n  \"position_buckets\": 256,\n  \"relative_attention\": true,\n  \"share_att_key\": true,\n  \"transformers_version\": \"4.17.0\",\n  \"type_vocab_size\": 0,\n  \"vocab_size\": 128100\n}"
     },
     "execution_count": 24,
     "metadata": {},
     "output_type": "execute_result"
    }
   ],
   "source": [
    "model.config"
   ],
   "metadata": {
    "collapsed": false,
    "pycharm": {
     "name": "#%%\n"
    }
   }
  },
  {
   "cell_type": "code",
   "execution_count": 25,
   "outputs": [
    {
     "name": "stdout",
     "output_type": "stream",
     "text": [
      "{'input_ids': tensor([[    1, 19574,   351,  ...,   334,   260,     2]]), 'token_type_ids': tensor([[0, 0, 0,  ..., 0, 0, 0]]), 'attention_mask': tensor([[1, 1, 1,  ..., 1, 1, 1]])}\n",
      "dict_keys(['input_ids', 'token_type_ids', 'attention_mask'])\n",
      "Replace me by any text you'd like.Replace me by any text you'd like.Replace me by any text you'd like.Replace me by any text you'd like.Replace me by any text you'd like.Replace me by any text you'd like.Replace me by any text you'd like.Replace me by any text you'd like.Replace me by any text you'd like.Replace me by any text you'd like.Replace me by any text you'd like.Replace me by any text you'd like.Replace me by any text you'd like.Replace me by any text you'd like.Replace me by any text you'd like.Replace me by any text you'd like.Replace me by any text you'd like.Replace me by any text you'd like.Replace me by any text you'd like.Replace me by any text you'd like.Replace me by any text you'd like.Replace me by any text you'd like.Replace me by any text you'd like.Replace me by any text you'd like.Replace me by any text you'd like.Replace me by any text you'd like.Replace me by any text you'd like.Replace me by any text you'd like.Replace me by any text you'd like.Replace me by any text you'd like.Replace me by any text you'd like.Replace me by any text you'd like.Replace me by any text you'd like.Replace me by any text you'd like.Replace me by any text you'd like.Replace me by any text you'd like.Replace me by any text you'd like.Replace me by any text you'd like.Replace me by any text you'd like.Replace me by any text you'd like.Replace me by any text you'd like.Replace me by any text you'd like.Replace me by any text you'd like.Replace me by any text you'd like.Replace me by any text you'd like.Replace me by any text you'd like.Replace me by any text you'd like.Replace me by any text you'd like.Replace me by any text you'd like.Replace me by any text you'd like.Replace me by any text you'd like.Replace me by any text you'd like.Replace me by any text you'd like.Replace me by any text you'd like.Replace me by any text you'd like.Replace me by any text you'd like.Replace me by any text you'd like.Replace me by any text you'd like.Replace me by any text you'd like.Replace me by any text you'd like.Replace me by any text you'd like.Replace me by any text you'd like.Replace me by any text you'd like.Replace me by any text you'd like.Replace me by any text you'd like.Replace me by any text you'd like.Replace me by any text you'd like.Replace me by any text you'd like.Replace me by any text you'd like.Replace me by any text you'd like.Replace me by any text you'd like.Replace me by any text you'd like.Replace me by any text you'd like.Replace me by any text you'd like.Replace me by any text you'd like.Replace me by any text you'd like.Replace me by any text you'd like.Replace me by any text you'd like.Replace me by any text you'd like.Replace me by any text you'd like.Replace me by any text you'd like.Replace me by any text you'd like.Replace me by any text you'd like.Replace me by any text you'd like.Replace me by any text you'd like.Replace me by any text you'd like.Replace me by any text you'd like.Replace me by any text you'd like.Replace me by any text you'd like.Replace me by any text you'd like.Replace me by any text you'd like.Replace me by any text you'd like.Replace me by any text you'd like.Replace me by any text you'd like.Replace me by any text you'd like.Replace me by any text you'd like.Replace me by any text you'd like.Replace me by any text you'd like.Replace me by any text you'd like.Replace me by any text you'd like.Replace me by any text you'd like.Replace me by any text you'd like.Replace me by any text you'd like.Replace me by any text you'd like.Replace me by any text you'd like.Replace me by any text you'd like.Replace me by any text you'd like.Replace me by any text you'd like.Replace me by any text you'd like.Replace me by any text you'd like.Replace me by any text you'd like.Replace me by any text you'd like.Replace me by any text you'd like.Replace me by any text you'd like.Replace me by any text you'd like.Replace me by any text you'd like.Replace me by any text you'd like.Replace me by any text you'd like.Replace me by any text you'd like.Replace me by any text you'd like.Replace me by any text you'd like.Replace me by any text you'd like.Replace me by any text you'd like.Replace me by any text you'd like.Replace me by any text you'd like.Replace me by any text you'd like.Replace me by any text you'd like.Replace me by any text you'd like.Replace me by any text you'd like.Replace me by any text you'd like.Replace me by any text you'd like.Replace me by any text you'd like.Replace me by any text you'd like.Replace me by any text you'd like.Replace me by any text you'd like.Replace me by any text you'd like.Replace me by any text you'd like.Replace me by any text you'd like.Replace me by any text you'd like.Replace me by any text you'd like.Replace me by any text you'd like.Replace me by any text you'd like.Replace me by any text you'd like.Replace me by any text you'd like.Replace me by any text you'd like.Replace me by any text you'd like.Replace me by any text you'd like.Replace me by any text you'd like.Replace me by any text you'd like.Replace me by any text you'd like.Replace me by any text you'd like.Replace me by any text you'd like.Replace me by any text you'd like.Replace me by any text you'd like.Replace me by any text you'd like.Replace me by any text you'd like.Replace me by any text you'd like.Replace me by any text you'd like.Replace me by any text you'd like.Replace me by any text you'd like.Replace me by any text you'd like.Replace me by any text you'd like.Replace me by any text you'd like.Replace me by any text you'd like.Replace me by any text you'd like.Replace me by any text you'd like.Replace me by any text you'd like.Replace me by any text you'd like.Replace me by any text you'd like.Replace me by any text you'd like.Replace me by any text you'd like.Replace me by any text you'd like.Replace me by any text you'd like.Replace me by any text you'd like.Replace me by any text you'd like.Replace me by any text you'd like.Replace me by any text you'd like.Replace me by any text you'd like.Replace me by any text you'd like.Replace me by any text you'd like.Replace me by any text you'd like.Replace me by any text you'd like.Replace me by any text you'd like.Replace me by any text you'd like.Replace me by any text you'd like.Replace me by any text you'd like.Replace me by any text you'd like.Replace me by any text you'd like.Replace me by any text you'd like.Replace me by any text you'd like.Replace me by any text you'd like.Replace me by any text you'd like.Replace me by any text you'd like.Replace me by any text you'd like.Replace me by any text you'd like.Replace me by any text you'd like.Replace me by any text you'd like.Replace me by any text you'd like.Replace me by any text you'd like.Replace me by any text you'd like.Replace me by any text you'd like.Replace me by any text you'd like.Replace me by any text you'd like.Replace me by any text you'd like.Replace me by any text you'd like.Replace me by any text you'd like.Replace me by any text you'd like.Replace me by any text you'd like.Replace me by any text you'd like.Replace me by any text you'd like.Replace me by any text you'd like.Replace me by any text you'd like.Replace me by any text you'd like.Replace me by any text you'd like.Replace me by any text you'd like.Replace me by any text you'd like.Replace me by any text you'd like.Replace me by any text you'd like.Replace me by any text you'd like.Replace me by any text you'd like.Replace me by any text you'd like.Replace me by any text you'd like.Replace me by any text you'd like.Replace me by any text you'd like.Replace me by any text you'd like.Replace me by any text you'd like.Replace me by any text you'd like.Replace me by any text you'd like.Replace me by any text you'd like.Replace me by any text you'd like.Replace me by any text you'd like.Replace me by any text you'd like.Replace me by any text you'd like.Replace me by any text you'd like.Replace me by any text you'd like.Replace me by any text you'd like.Replace me by any text you'd like.Replace me by any text you'd like.Replace me by any text you'd like.Replace me by any text you'd like.Replace me by any text you'd like.Replace me by any text you'd like.Replace me by any text you'd like.Replace me by any text you'd like.Replace me by any text you'd like.Replace me by any text you'd like.Replace me by any text you'd like.Replace me by any text you'd like.Replace me by any text you'd like.Replace me by any text you'd like.Replace me by any text you'd like.Replace me by any text you'd like.Replace me by any text you'd like.Replace me by any text you'd like.Replace me by any text you'd like.Replace me by any text you'd like.Replace me by any text you'd like.Replace me by any text you'd like.Replace me by any text you'd like.Replace me by any text you'd like.Replace me by any text you'd like.Replace me by any text you'd like.Replace me by any text you'd like.Replace me by any text you'd like.Replace me by any text you'd like.Replace me by any text you'd like.Replace me by any text you'd like.Replace me by any text you'd like.Replace me by any text you'd like.Replace me by any text you'd like.Replace me by any text you'd like.Replace me by any text you'd like.Replace me by any text you'd like.Replace me by any text you'd like.Replace me by any text you'd like.Replace me by any text you'd like.Replace me by any text you'd like.Replace me by any text you'd like.Replace me by any text you'd like.Replace me by any text you'd like.Replace me by any text you'd like.Replace me by any text you'd like.Replace me by any text you'd like.Replace me by any text you'd like.Replace me by any text you'd like.Replace me by any text you'd like.Replace me by any text you'd like.Replace me by any text you'd like.Replace me by any text you'd like.Replace me by any text you'd like.Replace me by any text you'd like.Replace me by any text you'd like.Replace me by any text you'd like.Replace me by any text you'd like.Replace me by any text you'd like.Replace me by any text you'd like.Replace me by any text you'd like.Replace me by any text you'd like.Replace me by any text you'd like.Replace me by any text you'd like.Replace me by any text you'd like.Replace me by any text you'd like.Replace me by any text you'd like.Replace me by any text you'd like.Replace me by any text you'd like.Replace me by any text you'd like.Replace me by any text you'd like.Replace me by any text you'd like.Replace me by any text you'd like.Replace me by any text you'd like.Replace me by any text you'd like.Replace me by any text you'd like.Replace me by any text you'd like.Replace me by any text you'd like.Replace me by any text you'd like.Replace me by any text you'd like.Replace me by any text you'd like.Replace me by any text you'd like.Replace me by any text you'd like.Replace me by any text you'd like.Replace me by any text you'd like.Replace me by any text you'd like.Replace me by any text you'd like.Replace me by any text you'd like.Replace me by any text you'd like.Replace me by any text you'd like.Replace me by any text you'd like.Replace me by any text you'd like.Replace me by any text you'd like.Replace me by any text you'd like.Replace me by any text you'd like.Replace me by any text you'd like.Replace me by any text you'd like.Replace me by any text you'd like.Replace me by any text you'd like.Replace me by any text you'd like.Replace me by any text you'd like.Replace me by any text you'd like.Replace me by any text you'd like.Replace me by any text you'd like.Replace me by any text you'd like.Replace me by any text you'd like.Replace me by any text you'd like.Replace me by any text you'd like.Replace me by any text you'd like.Replace me by any text you'd like.Replace me by any text you'd like.Replace me by any text you'd like.Replace me by any text you'd like.Replace me by any text you'd like.Replace me by any text you'd like.Replace me by any text you'd like.Replace me by any text you'd like.Replace me by any text you'd like.Replace me by any text you'd like.Replace me by any text you'd like.Replace me by any text you'd like.Replace me by any text you'd like.Replace me by any text you'd like.Replace me by any text you'd like.Replace me by any text you'd like.Replace me by any text you'd like.Replace me by any text you'd like.Replace me by any text you'd like.Replace me by any text you'd like.Replace me by any text you'd like.Replace me by any text you'd like.Replace me by any text you'd like.Replace me by any text you'd like.Replace me by any text you'd like.Replace me by any text you'd like.Replace me by any text you'd like.Replace me by any text you'd like.Replace me by any text you'd like.Replace me by any text you'd like.Replace me by any text you'd like.Replace me by any text you'd like.Replace me by any text you'd like.Replace me by any text you'd like.Replace me by any text you'd like.Replace me by any text you'd like.Replace me by any text you'd like.Replace me by any text you'd like.Replace me by any text you'd like.Replace me by any text you'd like.Replace me by any text you'd like.Replace me by any text you'd like.Replace me by any text you'd like.Replace me by any text you'd like.Replace me by any text you'd like.Replace me by any text you'd like.Replace me by any text you'd like.Replace me by any text you'd like.Replace me by any text you'd like.Replace me by any text you'd like.Replace me by any text you'd like.Replace me by any text you'd like.Replace me by any text you'd like.Replace me by any text you'd like.Replace me by any text you'd like.Replace me by any text you'd like.Replace me by any text you'd like.Replace me by any text you'd like.Replace me by any text you'd like.Replace me by any text you'd like.Replace me by any text you'd like.Replace me by any text you'd like.Replace me by any text you'd like.Replace me by any text you'd like.Replace me by any text you'd like.Replace me by any text you'd like.Replace me by any text you'd like.Replace me by any text you'd like.Replace me by any text you'd like.Replace me by any text you'd like.Replace me by any text you'd like.Replace me by any text you'd like.Replace me by any text you'd like.Replace me by any text you'd like.Replace me by any text you'd like.Replace me by any text you'd like.Replace me by any text you'd like.Replace me by any text you'd like.Replace me by any text you'd like.Replace me by any text you'd like.Replace me by any text you'd like.Replace me by any text you'd like.Replace me by any text you'd like.Replace me by any text you'd like.Replace me by any text you'd like.Replace me by any text you'd like.Replace me by any text you'd like.Replace me by any text you'd like.Replace me by any text you'd like.Replace me by any text you'd like.Replace me by any text you'd like.Replace me by any text you'd like.Replace me by any text you'd like.Replace me by any text you'd like.Replace me by any text you'd like.Replace me by any text you'd like.Replace me by any text you'd like.Replace me by any text you'd like.Replace me by any text you'd like.Replace me by any text you'd like.Replace me by any text you'd like.Replace me by any text you'd like.Replace me by any text you'd like.Replace me by any text you'd like.Replace me by any text you'd like.Replace me by any text you'd like.Replace me by any text you'd like.Replace me by any text you'd like.Replace me by any text you'd like.Replace me by any text you'd like.Replace me by any text you'd like.Replace me by any text you'd like.Replace me by any text you'd like.Replace me by any text you'd like.Replace me by any text you'd like.Replace me by any text you'd like.Replace me by any text you'd like.Replace me by any text you'd like.Replace me by any text you'd like.Replace me by any text you'd like.Replace me by any text you'd like.Replace me by any text you'd like.Replace me by any text you'd like.Replace me by any text you'd like.Replace me by any text you'd like.Replace me by any text you'd like.Replace me by any text you'd like.Replace me by any text you'd like.Replace me by any text you'd like.Replace me by any text you'd like.Replace me by any text you'd like.Replace me by any text you'd like.Replace me by any text you'd like.Replace me by any text you'd like.Replace me by any text you'd like.Replace me by any text you'd like.Replace me by any text you'd like.Replace me by any text you'd like.Replace me by any text you'd like.Replace me by any text you'd like.Replace me by any text you'd like.Replace me by any text you'd like.Replace me by any text you'd like.Replace me by any text you'd like.Replace me by any text you'd like.Replace me by any text you'd like.Replace me by any text you'd like.Replace me by any text you'd like.Replace me by any text you'd like.Replace me by any text you'd like.Replace me by any text you'd like.Replace me by any text you'd like.Replace me by any text you'd like.Replace me by any text you'd like.Replace me by any text you'd like.\n"
     ]
    }
   ],
   "source": [
    "# 长文本\n",
    "text = \"Replace me by any text you'd like.\"\n",
    "text = text * 500\n",
    "\n",
    "encoded_input = tokenizer(text, return_tensors='pt')\n",
    "print(encoded_input)\n",
    "print(encoded_input.keys())\n",
    "print(tokenizer.decode(encoded_input['input_ids'].tolist()[0]))"
   ],
   "metadata": {
    "collapsed": false,
    "pycharm": {
     "name": "#%%\n"
    }
   }
  },
  {
   "cell_type": "code",
   "execution_count": 26,
   "outputs": [
    {
     "name": "stdout",
     "output_type": "stream",
     "text": [
      "tensor([[[ 0.0239,  0.1704, -0.0316,  ..., -0.1247,  0.0810,  0.0192],\n",
      "         [ 0.4834,  0.1078,  0.0750,  ...,  0.8623,  0.4400, -0.2494],\n",
      "         [ 0.7394,  0.0288,  0.0800,  ...,  0.7303,  0.3650, -0.0103],\n",
      "         ...,\n",
      "         [ 0.6291,  0.7503,  0.4901,  ...,  0.0150, -0.2836,  0.4169],\n",
      "         [-0.0024,  0.7096,  0.5085,  ...,  0.9686, -0.4418, -0.1343],\n",
      "         [ 0.0770,  0.1935, -0.0307,  ..., -0.1302,  0.0821,  0.0261]]],\n",
      "       grad_fn=<NativeLayerNormBackward0>)\n"
     ]
    }
   ],
   "source": [
    "result = model(**encoded_input)\n",
    "print(result.last_hidden_state)"
   ],
   "metadata": {
    "collapsed": false,
    "pycharm": {
     "name": "#%%\n"
    }
   }
  },
  {
   "cell_type": "code",
   "execution_count": 27,
   "outputs": [
    {
     "data": {
      "text/plain": "torch.Size([1, 5002, 768])"
     },
     "execution_count": 27,
     "metadata": {},
     "output_type": "execute_result"
    }
   ],
   "source": [
    "result.last_hidden_state.shape"
   ],
   "metadata": {
    "collapsed": false,
    "pycharm": {
     "name": "#%%\n"
    }
   }
  },
  {
   "cell_type": "code",
   "execution_count": 27,
   "outputs": [],
   "source": [],
   "metadata": {
    "collapsed": false,
    "pycharm": {
     "name": "#%%\n"
    }
   }
  }
 ],
 "metadata": {
  "kernelspec": {
   "display_name": "Python 3",
   "language": "python",
   "name": "python3"
  },
  "language_info": {
   "codemirror_mode": {
    "name": "ipython",
    "version": 2
   },
   "file_extension": ".py",
   "mimetype": "text/x-python",
   "name": "python",
   "nbconvert_exporter": "python",
   "pygments_lexer": "ipython2",
   "version": "2.7.6"
  }
 },
 "nbformat": 4,
 "nbformat_minor": 0
}