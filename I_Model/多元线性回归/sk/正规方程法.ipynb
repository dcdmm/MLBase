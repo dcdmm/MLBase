{
 "cells": [
  {
   "cell_type": "code",
   "execution_count": 1,
   "metadata": {
    "pycharm": {
     "is_executing": false,
     "name": "#%%\n"
    }
   },
   "outputs": [],
   "source": [
    "import numpy as np\n",
    "from sklearn import datasets\n",
    "from sklearn.model_selection import  train_test_split\n",
    "from sklearn.linear_model import  LinearRegression"
   ]
  },
  {
   "cell_type": "code",
   "execution_count": 2,
   "metadata": {
    "pycharm": {
     "is_executing": false,
     "name": "#%%\n"
    }
   },
   "outputs": [],
   "source": [
    "boston = datasets.load_boston() # 波士顿房产数据集\n",
    "\n",
    "X = boston.data\n",
    "y = boston.target\n",
    "\n",
    "X = X[y < 50.0]\n",
    "y = y[y < 50.0] # 剔除异常值(上限点)"
   ]
  },
  {
   "cell_type": "code",
   "execution_count": 3,
   "metadata": {
    "pycharm": {
     "is_executing": false,
     "name": "#%%\n"
    }
   },
   "outputs": [
    {
     "data": {
      "text/plain": [
       "(490, 13)"
      ]
     },
     "execution_count": 3,
     "metadata": {},
     "output_type": "execute_result"
    }
   ],
   "source": [
    "X.shape"
   ]
  },
  {
   "cell_type": "code",
   "execution_count": 13,
   "metadata": {
    "pycharm": {
     "is_executing": false,
     "name": "#%%\n"
    }
   },
   "outputs": [
    {
     "data": {
      "text/plain": [
       "(490,)"
      ]
     },
     "execution_count": 13,
     "metadata": {},
     "output_type": "execute_result"
    }
   ],
   "source": [
    "y.shape"
   ]
  },
  {
   "cell_type": "code",
   "execution_count": 4,
   "metadata": {
    "pycharm": {
     "is_executing": false,
     "name": "#%%\n"
    }
   },
   "outputs": [],
   "source": [
    "X_train, X_test, y_train, y_test = train_test_split(X, y, test_size=0.333)"
   ]
  },
  {
   "cell_type": "code",
   "execution_count": 5,
   "metadata": {
    "pycharm": {
     "is_executing": false,
     "name": "#%%\n"
    }
   },
   "outputs": [
    {
     "data": {
      "text/plain": [
       "LinearRegression(copy_X=True, fit_intercept=True, n_jobs=None, normalize=False)"
      ]
     },
     "execution_count": 5,
     "metadata": {},
     "output_type": "execute_result"
    }
   ],
   "source": [
    "lin_reg = LinearRegression(n_jobs=-1) # 多元线性回归\n",
    "lin_reg.fit(X_train, y_train)"
   ]
  },
  {
   "cell_type": "code",
   "execution_count": 6,
   "metadata": {
    "pycharm": {
     "is_executing": false,
     "name": "#%%\n"
    }
   },
   "outputs": [
    {
     "data": {
      "text/plain": [
       "array([-9.92856151e-02,  4.61416564e-02, -1.71870780e-02, -2.69334762e-01,\n",
       "       -9.71471629e+00,  3.71257623e+00, -3.40431851e-02, -1.25568474e+00,\n",
       "        2.43212574e-01, -1.51248394e-02, -6.43148736e-01,  9.68896579e-03,\n",
       "       -3.34079079e-01])"
      ]
     },
     "execution_count": 6,
     "metadata": {},
     "output_type": "execute_result"
    }
   ],
   "source": [
    "lin_reg.coef_ # 解释变量系数(多元线性方程形如:y=ax+b)"
   ]
  },
  {
   "cell_type": "code",
   "execution_count": 7,
   "metadata": {
    "pycharm": {
     "is_executing": false,
     "name": "#%%\n"
    }
   },
   "outputs": [
    {
     "data": {
      "text/plain": [
       "array([11,  9,  2,  6,  1,  0,  8,  3, 12, 10,  7,  5,  4], dtype=int64)"
      ]
     },
     "execution_count": 7,
     "metadata": {},
     "output_type": "execute_result"
    }
   ],
   "source": [
    "correlation= np.argsort(abs(lin_reg.coef_)) # 解释变量相关性排序\n",
    "correlation"
   ]
  },
  {
   "cell_type": "code",
   "execution_count": 8,
   "metadata": {
    "pycharm": {
     "is_executing": false,
     "name": "#%%\n"
    }
   },
   "outputs": [
    {
     "data": {
      "text/plain": [
       "array(['CRIM', 'ZN', 'INDUS', 'CHAS', 'NOX', 'RM', 'AGE', 'DIS', 'RAD',\n",
       "       'TAX', 'PTRATIO', 'B', 'LSTAT'], dtype='<U7')"
      ]
     },
     "execution_count": 8,
     "metadata": {},
     "output_type": "execute_result"
    }
   ],
   "source": [
    "boston.feature_names # 数据集所有的特征"
   ]
  },
  {
   "cell_type": "code",
   "execution_count": 9,
   "metadata": {
    "pycharm": {
     "is_executing": false,
     "name": "#%%\n"
    }
   },
   "outputs": [
    {
     "data": {
      "text/plain": [
       "array(['B', 'TAX', 'INDUS', 'AGE', 'ZN', 'CRIM', 'RAD', 'CHAS', 'LSTAT',\n",
       "       'PTRATIO', 'DIS', 'RM', 'NOX'], dtype='<U7')"
      ]
     },
     "execution_count": 9,
     "metadata": {},
     "output_type": "execute_result"
    }
   ],
   "source": [
    "boston.feature_names[correlation] # 按照解释变量相关性对数据集的特征进行排序(线性回归具有可解释性)"
   ]
  },
  {
   "cell_type": "code",
   "execution_count": 10,
   "metadata": {
    "pycharm": {
     "is_executing": false,
     "name": "#%%\n"
    }
   },
   "outputs": [
    {
     "data": {
      "text/plain": [
       "27.67807615829516"
      ]
     },
     "execution_count": 10,
     "metadata": {},
     "output_type": "execute_result"
    }
   ],
   "source": [
    "lin_reg.intercept_ # 截距项"
   ]
  },
  {
   "cell_type": "code",
   "execution_count": 11,
   "metadata": {
    "pycharm": {
     "is_executing": false,
     "name": "#%%\n"
    }
   },
   "outputs": [
    {
     "data": {
      "text/plain": [
       "0.7995219970074476"
      ]
     },
     "execution_count": 11,
     "metadata": {},
     "output_type": "execute_result"
    }
   ],
   "source": [
    "lin_reg.score(X_test, y_test) # 模型的可决系数R平方"
   ]
  },
  {
   "cell_type": "code",
   "execution_count": 12,
   "metadata": {
    "pycharm": {
     "is_executing": false,
     "name": "#%%\n"
    }
   },
   "outputs": [
    {
     "data": {
      "text/plain": [
       "array([22.07854147, 22.28066198, 28.62204763, 25.7706585 , 31.78689176,\n",
       "       17.39965117, 14.28214238, 17.02168021, 23.87505835, 23.07038237,\n",
       "       17.0320314 , 17.0839638 , 24.08801533, 19.06883787, 11.85669081,\n",
       "       18.15847895, 23.10650584, 17.94816455, 20.3193119 , 16.62895394,\n",
       "       21.62884567, 21.77301947, 12.63764547, 20.49389559, 21.00993234,\n",
       "       21.05690724, 12.87995269, 23.95353488, 34.7121938 , 25.97417333,\n",
       "       14.46214418, 32.96263134, 12.45344049, 21.44099076, 17.1464691 ,\n",
       "       35.12582581, 29.96005797, 29.19330619, 20.84878274, 30.06149777,\n",
       "       31.61833596, 13.96254948, 24.95473633, 19.84018356, 21.83789403,\n",
       "       31.93001931, 19.33371013, 35.49134706, 10.62770666, 23.50697769,\n",
       "       31.30349768, 17.75881753, 11.43715452, 21.83810829, 16.24200964,\n",
       "       27.49238565, 19.50155802,  8.19522699, 32.88754628, 32.93351131,\n",
       "       18.91701325, 25.42163883,  8.52737421, 27.75141997, 17.45251127,\n",
       "       16.69542569, 26.54912697, 23.33743344,  7.94916852, 14.87143551,\n",
       "       18.87635571, 19.64177015, 32.35384348, 24.08321727, 21.56380483,\n",
       "       31.65330227, 13.86331563, 12.94025188, 23.25018638, 31.97148279,\n",
       "       24.04618507, 18.30403904, 19.5497056 , 28.23922921, 17.5980349 ,\n",
       "       20.96338902, 27.97322391, 12.5875494 , 19.16579479, 19.63001262,\n",
       "       26.61769756, 20.99631438, -1.3432461 , 23.93461002, 33.85628139,\n",
       "        9.72930481, 12.55294875, 24.7846826 , 17.29143117, 13.84474748,\n",
       "       20.00332714, 22.21346508, 18.35819702, 30.09164063, 22.80786024,\n",
       "       14.67175496, 16.70722857, 32.52331096, 31.87499053, 23.1937801 ,\n",
       "       19.68739106, 17.39590357, 15.25271962, 22.47727006, 23.45670899,\n",
       "       18.90778751, 28.21304955, 17.76268921, 21.63476166,  7.86322104,\n",
       "       34.00416753, 21.98236324, 19.76532086, 24.34616242, 18.95742885,\n",
       "       16.70105521, 15.71747098, 13.88366014, 30.26409703,  7.65074387,\n",
       "       18.22991969, 18.70327481, 13.14226911, 27.36961385, 38.02127953,\n",
       "       21.42991246, 25.33440144, 25.68674249, 32.12352055, 26.009423  ,\n",
       "       17.67610148, 19.89092614, 20.66314573, 19.48540686, 18.19024631,\n",
       "       22.4293547 , 28.73173026, 34.58208418, 24.90805999, 20.22969952,\n",
       "       13.56151903, 18.73055623, 24.07623313, 23.64915874, 14.95525255,\n",
       "       33.03720184, 27.95617883, 21.2383894 , 17.79004519, 13.82820168,\n",
       "       18.27475806, 18.19666405, 22.559603  , 12.81243148])"
      ]
     },
     "execution_count": 12,
     "metadata": {},
     "output_type": "execute_result"
    }
   ],
   "source": [
    "lin_reg.predict(X_test) # Predict using the linear model"
   ]
  },
  {
   "cell_type": "code",
   "execution_count": 12,
   "metadata": {
    "pycharm": {
     "is_executing": false,
     "name": "#%%\n"
    }
   },
   "outputs": [],
   "source": [
    "\n"
   ]
  }
 ],
 "metadata": {
  "kernelspec": {
   "display_name": "Python 3",
   "language": "python",
   "name": "python3"
  },
  "language_info": {
   "codemirror_mode": {
    "name": "ipython",
    "version": 3
   },
   "file_extension": ".py",
   "mimetype": "text/x-python",
   "name": "python",
   "nbconvert_exporter": "python",
   "pygments_lexer": "ipython3",
   "version": "3.7.4"
  },
  "pycharm": {
   "stem_cell": {
    "cell_type": "raw",
    "source": [],
    "metadata": {
     "collapsed": false
    }
   }
  },
  "toc": {
   "base_numbering": 1,
   "nav_menu": {},
   "number_sections": true,
   "sideBar": true,
   "skip_h1_title": false,
   "title_cell": "Table of Contents",
   "title_sidebar": "Contents",
   "toc_cell": false,
   "toc_position": {},
   "toc_section_display": true,
   "toc_window_display": false
  }
 },
 "nbformat": 4,
 "nbformat_minor": 1
}