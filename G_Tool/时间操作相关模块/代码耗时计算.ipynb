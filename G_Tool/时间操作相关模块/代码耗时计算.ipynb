{
 "cells": [
  {
   "cell_type": "code",
   "execution_count": 19,
   "metadata": {
    "collapsed": true,
    "pycharm": {
     "name": "#%%\n"
    }
   },
   "outputs": [],
   "source": [
    "import timeit  # 更加精确\n",
    "import time"
   ]
  },
  {
   "cell_type": "code",
   "execution_count": 20,
   "outputs": [
    {
     "name": "stdout",
     "output_type": "stream",
     "text": [
      "3.3254537000000113\n"
     ]
    }
   ],
   "source": [
    "# stmt:测试的代码或者语句\n",
    "# number:被测试的函数或语句执行的次数\n",
    "print(timeit.timeit(stmt=\"[i for i in range(1000)]\", number=100000))  # 测试语句"
   ],
   "metadata": {
    "collapsed": false,
    "pycharm": {
     "name": "#%%\n"
    }
   }
  },
  {
   "cell_type": "code",
   "execution_count": 21,
   "outputs": [],
   "source": [
    "def add():\n",
    "    \"\"\"待测试函数\"\"\"\n",
    "    return sum(range(111))"
   ],
   "metadata": {
    "collapsed": false,
    "pycharm": {
     "name": "#%%\n"
    }
   }
  },
  {
   "cell_type": "code",
   "execution_count": 22,
   "outputs": [
    {
     "name": "stdout",
     "output_type": "stream",
     "text": [
      "0.11661470000001373\n"
     ]
    }
   ],
   "source": [
    "t = timeit.timeit(stmt=add, number=100000)  # 测试函数\n",
    "print(t)"
   ],
   "metadata": {
    "collapsed": false,
    "pycharm": {
     "name": "#%%\n"
    }
   }
  },
  {
   "cell_type": "code",
   "execution_count": 23,
   "outputs": [
    {
     "name": "stdout",
     "output_type": "stream",
     "text": [
      "[0.11728380000000982, 0.11215409999999792, 0.11517829999999663, 0.11737420000000043, 0.11622219999999572, 0.11425570000000107, 0.11344390000000715, 0.11959469999999328, 0.11569330000000377, 0.11273319999999387]\n"
     ]
    }
   ],
   "source": [
    "# repeat:重复测试的次数\n",
    "t = timeit.repeat(stmt=add, number=100000, repeat=10)  # 重复测试10次\n",
    "print(t)"
   ],
   "metadata": {
    "collapsed": false,
    "pycharm": {
     "name": "#%%\n"
    }
   }
  },
  {
   "cell_type": "code",
   "execution_count": 24,
   "outputs": [
    {
     "name": "stdout",
     "output_type": "stream",
     "text": [
      "1677744083.016153\n",
      "2023-03-02 16:01:23.016153\n",
      "4999999950000000\n",
      "1677744097.0765505\n",
      "2023-03-02 16:01:37.076550\n",
      "time()方法用时：14.060397386550903s\n",
      "测试完毕\n"
     ]
    }
   ],
   "source": [
    "from datetime import datetime\n",
    "\n",
    "t0 = time.time()  # 代码开始执行时间\n",
    "print(t0)\n",
    "print(datetime.fromtimestamp(t0))\n",
    "\n",
    "r = 0\n",
    "for i in range(100000000):\n",
    "    r += i\n",
    "print(r)\n",
    "\n",
    "t1 = time.time()  # 代码结束执行时间\n",
    "print(t1)\n",
    "print(datetime.fromtimestamp(t1))\n",
    "\n",
    "spend1 = t1 - t0\n",
    "\n",
    "print(\"time()方法用时：{}s\".format(spend1))\n",
    "print(\"测试完毕\")"
   ],
   "metadata": {
    "collapsed": false,
    "pycharm": {
     "name": "#%%\n"
    }
   }
  },
  {
   "cell_type": "code",
   "execution_count": 24,
   "outputs": [],
   "source": [],
   "metadata": {
    "collapsed": false,
    "pycharm": {
     "name": "#%%\n"
    }
   }
  }
 ],
 "metadata": {
  "kernelspec": {
   "display_name": "Python 3",
   "language": "python",
   "name": "python3"
  },
  "language_info": {
   "codemirror_mode": {
    "name": "ipython",
    "version": 2
   },
   "file_extension": ".py",
   "mimetype": "text/x-python",
   "name": "python",
   "nbconvert_exporter": "python",
   "pygments_lexer": "ipython2",
   "version": "2.7.6"
  }
 },
 "nbformat": 4,
 "nbformat_minor": 0
}