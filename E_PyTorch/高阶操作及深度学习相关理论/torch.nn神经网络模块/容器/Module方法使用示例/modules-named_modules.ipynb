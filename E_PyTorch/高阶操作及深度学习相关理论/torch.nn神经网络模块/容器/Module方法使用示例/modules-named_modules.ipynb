{
 "cells": [
  {
   "cell_type": "code",
   "execution_count": 21,
   "outputs": [
    {
     "data": {
      "text/plain": "LeNet1(\n  (featrues): Sequential(\n    (conv1): Conv2d(1, 6, kernel_size=(3, 3), stride=(1, 1))\n    (relu1): ReLU()\n    (pool1): MaxPool2d(kernel_size=2, stride=2, padding=0, dilation=1, ceil_mode=False)\n    (conv2): Conv2d(6, 16, kernel_size=(3, 3), stride=(1, 1))\n    (relu2): ReLU()\n    (pool2): MaxPool2d(kernel_size=2, stride=2, padding=0, dilation=1, ceil_mode=False)\n  )\n  (classifier): Sequential(\n    (line1): Linear(in_features=576, out_features=120, bias=True)\n    (relu1): ReLU()\n    (line2): Linear(in_features=120, out_features=84, bias=True)\n    (relu2): ReLU()\n    (line3): Linear(in_features=84, out_features=10, bias=True)\n  )\n)"
     },
     "execution_count": 21,
     "metadata": {},
     "output_type": "execute_result"
    }
   ],
   "source": [
    "import torch.nn as nn\n",
    "from collections import OrderedDict\n",
    "\n",
    "\n",
    "class LeNet1(nn.Module):\n",
    "    def __init__(self):\n",
    "        super(LeNet1, self).__init__()\n",
    "        self.featrues = nn.Sequential(OrderedDict({ # 有序字典\n",
    "            'conv1': nn.Conv2d(1, 6, 3), # 通过有序字典指定各模块的名称\n",
    "            'relu1': nn.ReLU(),\n",
    "            'pool1': nn.MaxPool2d(2, 2),\n",
    "            'conv2': nn.Conv2d(6, 16, 3),\n",
    "            'relu2': nn.ReLU(),\n",
    "            'pool2': nn.MaxPool2d(2, 2)\n",
    "        }))\n",
    "        self.classifier = nn.Sequential(OrderedDict({\n",
    "            'line1': nn.Linear(16*6*6, 120),\n",
    "            'relu1': nn.ReLU(),\n",
    "            'line2': nn.Linear(120, 84),\n",
    "            'relu2': nn.ReLU(),\n",
    "            'line3': nn.Linear(84, 10),\n",
    "        }))\n",
    "\n",
    "    def forward(self, x):\n",
    "        x = self.featrues(x)\n",
    "        x = x.reshape(x.size()[0], -1)\n",
    "        x = self.classifier(x)\n",
    "        return x\n",
    "\n",
    "net = LeNet1()\n",
    "net"
   ],
   "metadata": {
    "collapsed": false,
    "pycharm": {
     "name": "#%%\n"
    }
   }
  },
  {
   "cell_type": "code",
   "execution_count": 22,
   "outputs": [
    {
     "name": "stdout",
     "output_type": "stream",
     "text": [
      "LeNet1(\n",
      "  (featrues): Sequential(\n",
      "    (conv1): Conv2d(1, 6, kernel_size=(3, 3), stride=(1, 1))\n",
      "    (relu1): ReLU()\n",
      "    (pool1): MaxPool2d(kernel_size=2, stride=2, padding=0, dilation=1, ceil_mode=False)\n",
      "    (conv2): Conv2d(6, 16, kernel_size=(3, 3), stride=(1, 1))\n",
      "    (relu2): ReLU()\n",
      "    (pool2): MaxPool2d(kernel_size=2, stride=2, padding=0, dilation=1, ceil_mode=False)\n",
      "  )\n",
      "  (classifier): Sequential(\n",
      "    (line1): Linear(in_features=576, out_features=120, bias=True)\n",
      "    (relu1): ReLU()\n",
      "    (line2): Linear(in_features=120, out_features=84, bias=True)\n",
      "    (relu2): ReLU()\n",
      "    (line3): Linear(in_features=84, out_features=10, bias=True)\n",
      "  )\n",
      ")\n",
      "Sequential(\n",
      "  (conv1): Conv2d(1, 6, kernel_size=(3, 3), stride=(1, 1))\n",
      "  (relu1): ReLU()\n",
      "  (pool1): MaxPool2d(kernel_size=2, stride=2, padding=0, dilation=1, ceil_mode=False)\n",
      "  (conv2): Conv2d(6, 16, kernel_size=(3, 3), stride=(1, 1))\n",
      "  (relu2): ReLU()\n",
      "  (pool2): MaxPool2d(kernel_size=2, stride=2, padding=0, dilation=1, ceil_mode=False)\n",
      ")\n",
      "Conv2d(1, 6, kernel_size=(3, 3), stride=(1, 1))\n",
      "ReLU()\n",
      "MaxPool2d(kernel_size=2, stride=2, padding=0, dilation=1, ceil_mode=False)\n",
      "Conv2d(6, 16, kernel_size=(3, 3), stride=(1, 1))\n",
      "ReLU()\n",
      "MaxPool2d(kernel_size=2, stride=2, padding=0, dilation=1, ceil_mode=False)\n",
      "Sequential(\n",
      "  (line1): Linear(in_features=576, out_features=120, bias=True)\n",
      "  (relu1): ReLU()\n",
      "  (line2): Linear(in_features=120, out_features=84, bias=True)\n",
      "  (relu2): ReLU()\n",
      "  (line3): Linear(in_features=84, out_features=10, bias=True)\n",
      ")\n",
      "Linear(in_features=576, out_features=120, bias=True)\n",
      "ReLU()\n",
      "Linear(in_features=120, out_features=84, bias=True)\n",
      "ReLU()\n",
      "Linear(in_features=84, out_features=10, bias=True)\n"
     ]
    }
   ],
   "source": [
    "# 顺序为:LeNet1 --> featrues --> classifier --> featrues下的module --> classifier下的module\n",
    "for i in net.modules(): # Returns an iterator over all modules in the network.\n",
    "    \"\"\"所有的子孙module(包括自己)\"\"\"\n",
    "    print(i)"
   ],
   "metadata": {
    "collapsed": false,
    "pycharm": {
     "name": "#%%\n"
    }
   }
  },
  {
   "cell_type": "code",
   "execution_count": 23,
   "outputs": [
    {
     "name": "stdout",
     "output_type": "stream",
     "text": [
      "('', LeNet1(\n",
      "  (featrues): Sequential(\n",
      "    (conv1): Conv2d(1, 6, kernel_size=(3, 3), stride=(1, 1))\n",
      "    (relu1): ReLU()\n",
      "    (pool1): MaxPool2d(kernel_size=2, stride=2, padding=0, dilation=1, ceil_mode=False)\n",
      "    (conv2): Conv2d(6, 16, kernel_size=(3, 3), stride=(1, 1))\n",
      "    (relu2): ReLU()\n",
      "    (pool2): MaxPool2d(kernel_size=2, stride=2, padding=0, dilation=1, ceil_mode=False)\n",
      "  )\n",
      "  (classifier): Sequential(\n",
      "    (line1): Linear(in_features=576, out_features=120, bias=True)\n",
      "    (relu1): ReLU()\n",
      "    (line2): Linear(in_features=120, out_features=84, bias=True)\n",
      "    (relu2): ReLU()\n",
      "    (line3): Linear(in_features=84, out_features=10, bias=True)\n",
      "  )\n",
      "))\n",
      "('featrues', Sequential(\n",
      "  (conv1): Conv2d(1, 6, kernel_size=(3, 3), stride=(1, 1))\n",
      "  (relu1): ReLU()\n",
      "  (pool1): MaxPool2d(kernel_size=2, stride=2, padding=0, dilation=1, ceil_mode=False)\n",
      "  (conv2): Conv2d(6, 16, kernel_size=(3, 3), stride=(1, 1))\n",
      "  (relu2): ReLU()\n",
      "  (pool2): MaxPool2d(kernel_size=2, stride=2, padding=0, dilation=1, ceil_mode=False)\n",
      "))\n",
      "('featrues.conv1', Conv2d(1, 6, kernel_size=(3, 3), stride=(1, 1)))\n",
      "('featrues.relu1', ReLU())\n",
      "('featrues.pool1', MaxPool2d(kernel_size=2, stride=2, padding=0, dilation=1, ceil_mode=False))\n",
      "('featrues.conv2', Conv2d(6, 16, kernel_size=(3, 3), stride=(1, 1)))\n",
      "('featrues.relu2', ReLU())\n",
      "('featrues.pool2', MaxPool2d(kernel_size=2, stride=2, padding=0, dilation=1, ceil_mode=False))\n",
      "('classifier', Sequential(\n",
      "  (line1): Linear(in_features=576, out_features=120, bias=True)\n",
      "  (relu1): ReLU()\n",
      "  (line2): Linear(in_features=120, out_features=84, bias=True)\n",
      "  (relu2): ReLU()\n",
      "  (line3): Linear(in_features=84, out_features=10, bias=True)\n",
      "))\n",
      "('classifier.line1', Linear(in_features=576, out_features=120, bias=True))\n",
      "('classifier.relu1', ReLU())\n",
      "('classifier.line2', Linear(in_features=120, out_features=84, bias=True))\n",
      "('classifier.relu2', ReLU())\n",
      "('classifier.line3', Linear(in_features=84, out_features=10, bias=True))\n"
     ]
    }
   ],
   "source": [
    "for j in net.named_modules(): # Returns an iterator over immediate children modules, yielding both the name of the module as well as the module itself.\n",
    "    print(j)"
   ],
   "metadata": {
    "collapsed": false,
    "pycharm": {
     "name": "#%%\n"
    }
   }
  }
 ],
 "metadata": {
  "kernelspec": {
   "display_name": "Python 3",
   "language": "python",
   "name": "python3"
  },
  "language_info": {
   "codemirror_mode": {
    "name": "ipython",
    "version": 2
   },
   "file_extension": ".py",
   "mimetype": "text/x-python",
   "name": "python",
   "nbconvert_exporter": "python",
   "pygments_lexer": "ipython2",
   "version": "2.7.6"
  }
 },
 "nbformat": 4,
 "nbformat_minor": 0
}