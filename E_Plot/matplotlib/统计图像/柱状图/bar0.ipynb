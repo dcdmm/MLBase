{
 "cells": [
  {
   "cell_type": "code",
   "execution_count": 10,
   "outputs": [
    {
     "name": "stdout",
     "output_type": "stream",
     "text": [
      "[0 1 2 3 4 5 6 7 8 9]\n",
      "[Text(0, 0, 'd'), Text(1, 0, 'u'), Text(2, 0, 'a'), Text(3, 0, 'n'), Text(4, 0, 'c'), Text(5, 0, 'i'), Text(6, 0, 's'), Text(7, 0, 's'), Text(8, 0, 'b'), Text(9, 0, '?')]\n"
     ]
    },
    {
     "data": {
      "text/plain": "<matplotlib.legend.Legend at 0x172f5b31190>"
     },
     "execution_count": 10,
     "metadata": {},
     "output_type": "execute_result"
    },
    {
     "data": {
      "text/plain": "<Figure size 720x720 with 2 Axes>",
      "image/png": "[encoded data removed]"
     },
     "metadata": {
      "needs_background": "light"
     },
     "output_type": "display_data"
    }
   ],
   "source": [
    "import  numpy as np\n",
    "import  pandas as pd\n",
    "import  matplotlib.pyplot as plt\n",
    "\n",
    "fig, axes = plt.subplots(2, 1, figsize=(10, 10))\n",
    "s = pd.Series(np.random.randint(0, 10, 16), index=list('abcdefghijklmnop'))\n",
    "df = pd.DataFrame(np.random.randint(3, 8, size=(10, 3)), columns=list('ABC'))\n",
    "axes[0].bar(s.index, s, linewidth=3, edgecolor='r', facecolor='g')\n",
    "axes[1].set_xticks(df.index)\n",
    "axes[1].set_xticklabels(['d', 'u', 'a', 'n', 'c',\n",
    "                         'i', 's', 's', 'b', '?'])\n",
    "axes[1].bar([i - 0.3 for i in df.index], df['A'], width=0.3,\n",
    "            color=plt.cm.tab10(np.linspace(0, 1, 10)), # color, sequence, or sequence of color\n",
    "            label=\"A\", yerr=df['A']*0.1) # color,sq\n",
    "axes[1].bar([i + 0 for i in df.index], df['B'], width=0.3,\n",
    "            color='red', label=\"B\", yerr=df['A']*0.1)\n",
    "axes[1].bar([i + 0.3 for i in df.index], df['C'], width=0.3,\n",
    "            color='green', label=\"C\", yerr=df['A']*0.1)\n",
    "print(axes[1].get_xticks())\n",
    "print(list(axes[1].get_xticklabels()))\n",
    "'''\n",
    "x : sequence of scalars\n",
    "    The x coordinates of the bars. See also bars. See also align for the alignment of the bars to the coordinates.\n",
    "\n",
    "width : scalar or array-like, optional\n",
    "    The width(s) of the bars (default: 0.8).bars (default: 0.8).\n",
    "    \n",
    "xerr, yerr : scalar or array-like of shape(N,) or shape(2,N), optional\n",
    "    If not None, add horizontal / vertical errorbars to the bar tips. \n",
    "\n",
    "linewidth : scalar or array-like, optional\n",
    "    Width of the bar edge(s). If 0, don't draw edges.bar edge(s). If 0, don't draw edges.\n",
    "\n",
    "color:Set both the edgecolor and the facecolor.\n",
    "facecolor:Set the patch face color.\n",
    "edgecolor:Set the patch edge color.\n",
    "label:Set the label to s for auto legend.\n",
    "'''\n",
    "for i, j in zip(df.index, df['A']):\n",
    "    axes[1].text(i-0.34, j-1 , j, color='b')\n",
    "for k, s in zip(df.index, df['B']):\n",
    "    axes[1].text(k-0.04, s-1 , s, color='g')\n",
    "for n, m in zip(df.index, df['C']):\n",
    "    axes[1].text(n+0.26, m-1 , m, color='r')\n",
    "axes[1].legend(loc='best')"
   ],
   "metadata": {
    "collapsed": false,
    "pycharm": {
     "name": "#%%\n"
    }
   }
  },
  {
   "cell_type": "code",
   "execution_count": null,
   "outputs": [],
   "source": [],
   "metadata": {
    "collapsed": false,
    "pycharm": {
     "name": "#%%\n"
    }
   }
  }
 ],
 "metadata": {
  "language_info": {
   "codemirror_mode": {
    "name": "ipython",
    "version": 2
   },
   "file_extension": ".py",
   "mimetype": "text/x-python",
   "name": "python",
   "nbconvert_exporter": "python",
   "pygments_lexer": "ipython2",
   "version": "2.7.6"
  },
  "kernelspec": {
   "name": "python3",
   "language": "python",
   "display_name": "Python 3"
  },
  "stem_cell": {
   "cell_type": "raw",
   "source": "",
   "metadata": {
    "pycharm": {
     "metadata": false
    }
   }
  }
 },
 "nbformat": 4,
 "nbformat_minor": 0
}