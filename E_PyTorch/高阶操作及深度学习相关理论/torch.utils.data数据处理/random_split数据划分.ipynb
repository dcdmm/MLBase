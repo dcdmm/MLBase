{
 "cells": [
  {
   "cell_type": "code",
   "execution_count": 1,
   "metadata": {
    "collapsed": true
   },
   "outputs": [
    {
     "data": {
      "text/plain": "100"
     },
     "execution_count": 1,
     "metadata": {},
     "output_type": "execute_result"
    }
   ],
   "source": [
    "import torch\n",
    "import torch.utils.data as Data\n",
    "\n",
    "BATCH_SIZE = 4\n",
    "\n",
    "x = torch.linspace(0.01, 0.1, 100)\n",
    "y = torch.linspace(1, 10, 100)\n",
    "\n",
    "torch_dataset = Data.TensorDataset(x, y)  # 包装数据集\n",
    "len(torch_dataset)"
   ]
  },
  {
   "cell_type": "code",
   "execution_count": 2,
   "outputs": [],
   "source": [
    "# Randomly split a dataset into non-overlapping new datasets of given lengths.\n",
    "train_data, test_data = Data.random_split(torch_dataset, [60, 40],\n",
    "                                          generator=torch.Generator().manual_seed(3))  # 60+40=100;训练数据为60,测试数据为40"
   ],
   "metadata": {
    "collapsed": false,
    "pycharm": {
     "name": "#%%\n"
    }
   }
  },
  {
   "cell_type": "code",
   "execution_count": 3,
   "outputs": [
    {
     "name": "stdout",
     "output_type": "stream",
     "text": [
      "(tensor(0.0882), tensor(8.8182))\n",
      "(tensor(0.0482), tensor(4.8182))\n",
      "(tensor(0.0909), tensor(9.0909))\n",
      "(tensor(0.0936), tensor(9.3636))\n",
      "(tensor(0.0127), tensor(1.2727))\n",
      "(tensor(0.0282), tensor(2.8182))\n",
      "(tensor(0.0300), tensor(3.))\n",
      "(tensor(0.0536), tensor(5.3636))\n",
      "(tensor(0.0327), tensor(3.2727))\n",
      "(tensor(0.0945), tensor(9.4545))\n",
      "(tensor(0.0500), tensor(5.0000))\n",
      "(tensor(0.0682), tensor(6.8182))\n",
      "(tensor(0.0218), tensor(2.1818))\n",
      "(tensor(0.0618), tensor(6.1818))\n",
      "(tensor(0.0318), tensor(3.1818))\n",
      "(tensor(0.0773), tensor(7.7273))\n",
      "(tensor(0.0491), tensor(4.9091))\n",
      "(tensor(0.0445), tensor(4.4545))\n",
      "(tensor(0.0573), tensor(5.7273))\n",
      "(tensor(0.0591), tensor(5.9091))\n",
      "(tensor(0.0973), tensor(9.7273))\n",
      "(tensor(0.0655), tensor(6.5455))\n",
      "(tensor(0.0927), tensor(9.2727))\n",
      "(tensor(0.0191), tensor(1.9091))\n",
      "(tensor(0.0145), tensor(1.4545))\n",
      "(tensor(0.0182), tensor(1.8182))\n",
      "(tensor(0.0209), tensor(2.0909))\n",
      "(tensor(0.0727), tensor(7.2727))\n",
      "(tensor(0.0555), tensor(5.5455))\n",
      "(tensor(0.0391), tensor(3.9091))\n",
      "(tensor(0.0918), tensor(9.1818))\n",
      "(tensor(0.0691), tensor(6.9091))\n",
      "(tensor(0.0718), tensor(7.1818))\n",
      "(tensor(0.0155), tensor(1.5455))\n",
      "(tensor(0.0436), tensor(4.3636))\n",
      "(tensor(0.0409), tensor(4.0909))\n",
      "(tensor(0.0473), tensor(4.7273))\n",
      "(tensor(0.0582), tensor(5.8182))\n",
      "(tensor(0.0809), tensor(8.0909))\n",
      "(tensor(0.0964), tensor(9.6364))\n",
      "(tensor(0.0418), tensor(4.1818))\n",
      "(tensor(0.0645), tensor(6.4545))\n",
      "(tensor(0.0264), tensor(2.6364))\n",
      "(tensor(0.0955), tensor(9.5455))\n",
      "(tensor(0.0627), tensor(6.2727))\n",
      "(tensor(0.0836), tensor(8.3636))\n",
      "(tensor(0.0664), tensor(6.6364))\n",
      "(tensor(0.0745), tensor(7.4545))\n",
      "(tensor(0.0464), tensor(4.6364))\n",
      "(tensor(0.0900), tensor(9.))\n",
      "(tensor(0.0855), tensor(8.5455))\n",
      "(tensor(0.0364), tensor(3.6364))\n",
      "(tensor(0.0118), tensor(1.1818))\n",
      "(tensor(0.0164), tensor(1.6364))\n",
      "(tensor(0.0736), tensor(7.3636))\n",
      "(tensor(0.0455), tensor(4.5455))\n",
      "(tensor(0.0173), tensor(1.7273))\n",
      "(tensor(0.0100), tensor(1.))\n",
      "(tensor(0.0136), tensor(1.3636))\n",
      "(tensor(0.0764), tensor(7.6364))\n"
     ]
    }
   ],
   "source": [
    "for i in train_data:\n",
    "    print(i)"
   ],
   "metadata": {
    "collapsed": false,
    "pycharm": {
     "name": "#%%\n"
    }
   }
  },
  {
   "cell_type": "code",
   "execution_count": 4,
   "outputs": [
    {
     "data": {
      "text/plain": "1.5"
     },
     "execution_count": 4,
     "metadata": {},
     "output_type": "execute_result"
    }
   ],
   "source": [
    "len(train_data) / len(test_data)  # 60/40=1.5"
   ],
   "metadata": {
    "collapsed": false,
    "pycharm": {
     "name": "#%%\n"
    }
   }
  },
  {
   "cell_type": "code",
   "execution_count": 5,
   "outputs": [],
   "source": [
    "train_loader = Data.DataLoader(dataset=train_data, batch_size=BATCH_SIZE)\n",
    "test_loader = Data.DataLoader(dataset=test_data, batch_size=BATCH_SIZE)\n",
    "\n",
    "\n",
    "def show_batch(dataset):\n",
    "    for epoch in range(3):\n",
    "        for step, batch_data in enumerate(dataset):\n",
    "            print(\"batch:{}, batch_data:{}\".format(step, batch_data))  # tensor长度为batch_size\n",
    "        print()"
   ],
   "metadata": {
    "collapsed": false,
    "pycharm": {
     "name": "#%%\n"
    }
   }
  },
  {
   "cell_type": "code",
   "execution_count": 6,
   "outputs": [
    {
     "name": "stdout",
     "output_type": "stream",
     "text": [
      "batch:0, batch_data:(tensor(0.0882), tensor(8.8182))\n",
      "batch:1, batch_data:(tensor(0.0482), tensor(4.8182))\n",
      "batch:2, batch_data:(tensor(0.0909), tensor(9.0909))\n",
      "batch:3, batch_data:(tensor(0.0936), tensor(9.3636))\n",
      "batch:4, batch_data:(tensor(0.0127), tensor(1.2727))\n",
      "batch:5, batch_data:(tensor(0.0282), tensor(2.8182))\n",
      "batch:6, batch_data:(tensor(0.0300), tensor(3.))\n",
      "batch:7, batch_data:(tensor(0.0536), tensor(5.3636))\n",
      "batch:8, batch_data:(tensor(0.0327), tensor(3.2727))\n",
      "batch:9, batch_data:(tensor(0.0945), tensor(9.4545))\n",
      "batch:10, batch_data:(tensor(0.0500), tensor(5.0000))\n",
      "batch:11, batch_data:(tensor(0.0682), tensor(6.8182))\n",
      "batch:12, batch_data:(tensor(0.0218), tensor(2.1818))\n",
      "batch:13, batch_data:(tensor(0.0618), tensor(6.1818))\n",
      "batch:14, batch_data:(tensor(0.0318), tensor(3.1818))\n",
      "batch:15, batch_data:(tensor(0.0773), tensor(7.7273))\n",
      "batch:16, batch_data:(tensor(0.0491), tensor(4.9091))\n",
      "batch:17, batch_data:(tensor(0.0445), tensor(4.4545))\n",
      "batch:18, batch_data:(tensor(0.0573), tensor(5.7273))\n",
      "batch:19, batch_data:(tensor(0.0591), tensor(5.9091))\n",
      "batch:20, batch_data:(tensor(0.0973), tensor(9.7273))\n",
      "batch:21, batch_data:(tensor(0.0655), tensor(6.5455))\n",
      "batch:22, batch_data:(tensor(0.0927), tensor(9.2727))\n",
      "batch:23, batch_data:(tensor(0.0191), tensor(1.9091))\n",
      "batch:24, batch_data:(tensor(0.0145), tensor(1.4545))\n",
      "batch:25, batch_data:(tensor(0.0182), tensor(1.8182))\n",
      "batch:26, batch_data:(tensor(0.0209), tensor(2.0909))\n",
      "batch:27, batch_data:(tensor(0.0727), tensor(7.2727))\n",
      "batch:28, batch_data:(tensor(0.0555), tensor(5.5455))\n",
      "batch:29, batch_data:(tensor(0.0391), tensor(3.9091))\n",
      "batch:30, batch_data:(tensor(0.0918), tensor(9.1818))\n",
      "batch:31, batch_data:(tensor(0.0691), tensor(6.9091))\n",
      "batch:32, batch_data:(tensor(0.0718), tensor(7.1818))\n",
      "batch:33, batch_data:(tensor(0.0155), tensor(1.5455))\n",
      "batch:34, batch_data:(tensor(0.0436), tensor(4.3636))\n",
      "batch:35, batch_data:(tensor(0.0409), tensor(4.0909))\n",
      "batch:36, batch_data:(tensor(0.0473), tensor(4.7273))\n",
      "batch:37, batch_data:(tensor(0.0582), tensor(5.8182))\n",
      "batch:38, batch_data:(tensor(0.0809), tensor(8.0909))\n",
      "batch:39, batch_data:(tensor(0.0964), tensor(9.6364))\n",
      "batch:40, batch_data:(tensor(0.0418), tensor(4.1818))\n",
      "batch:41, batch_data:(tensor(0.0645), tensor(6.4545))\n",
      "batch:42, batch_data:(tensor(0.0264), tensor(2.6364))\n",
      "batch:43, batch_data:(tensor(0.0955), tensor(9.5455))\n",
      "batch:44, batch_data:(tensor(0.0627), tensor(6.2727))\n",
      "batch:45, batch_data:(tensor(0.0836), tensor(8.3636))\n",
      "batch:46, batch_data:(tensor(0.0664), tensor(6.6364))\n",
      "batch:47, batch_data:(tensor(0.0745), tensor(7.4545))\n",
      "batch:48, batch_data:(tensor(0.0464), tensor(4.6364))\n",
      "batch:49, batch_data:(tensor(0.0900), tensor(9.))\n",
      "batch:50, batch_data:(tensor(0.0855), tensor(8.5455))\n",
      "batch:51, batch_data:(tensor(0.0364), tensor(3.6364))\n",
      "batch:52, batch_data:(tensor(0.0118), tensor(1.1818))\n",
      "batch:53, batch_data:(tensor(0.0164), tensor(1.6364))\n",
      "batch:54, batch_data:(tensor(0.0736), tensor(7.3636))\n",
      "batch:55, batch_data:(tensor(0.0455), tensor(4.5455))\n",
      "batch:56, batch_data:(tensor(0.0173), tensor(1.7273))\n",
      "batch:57, batch_data:(tensor(0.0100), tensor(1.))\n",
      "batch:58, batch_data:(tensor(0.0136), tensor(1.3636))\n",
      "batch:59, batch_data:(tensor(0.0764), tensor(7.6364))\n",
      "\n",
      "batch:0, batch_data:(tensor(0.0882), tensor(8.8182))\n",
      "batch:1, batch_data:(tensor(0.0482), tensor(4.8182))\n",
      "batch:2, batch_data:(tensor(0.0909), tensor(9.0909))\n",
      "batch:3, batch_data:(tensor(0.0936), tensor(9.3636))\n",
      "batch:4, batch_data:(tensor(0.0127), tensor(1.2727))\n",
      "batch:5, batch_data:(tensor(0.0282), tensor(2.8182))\n",
      "batch:6, batch_data:(tensor(0.0300), tensor(3.))\n",
      "batch:7, batch_data:(tensor(0.0536), tensor(5.3636))\n",
      "batch:8, batch_data:(tensor(0.0327), tensor(3.2727))\n",
      "batch:9, batch_data:(tensor(0.0945), tensor(9.4545))\n",
      "batch:10, batch_data:(tensor(0.0500), tensor(5.0000))\n",
      "batch:11, batch_data:(tensor(0.0682), tensor(6.8182))\n",
      "batch:12, batch_data:(tensor(0.0218), tensor(2.1818))\n",
      "batch:13, batch_data:(tensor(0.0618), tensor(6.1818))\n",
      "batch:14, batch_data:(tensor(0.0318), tensor(3.1818))\n",
      "batch:15, batch_data:(tensor(0.0773), tensor(7.7273))\n",
      "batch:16, batch_data:(tensor(0.0491), tensor(4.9091))\n",
      "batch:17, batch_data:(tensor(0.0445), tensor(4.4545))\n",
      "batch:18, batch_data:(tensor(0.0573), tensor(5.7273))\n",
      "batch:19, batch_data:(tensor(0.0591), tensor(5.9091))\n",
      "batch:20, batch_data:(tensor(0.0973), tensor(9.7273))\n",
      "batch:21, batch_data:(tensor(0.0655), tensor(6.5455))\n",
      "batch:22, batch_data:(tensor(0.0927), tensor(9.2727))\n",
      "batch:23, batch_data:(tensor(0.0191), tensor(1.9091))\n",
      "batch:24, batch_data:(tensor(0.0145), tensor(1.4545))\n",
      "batch:25, batch_data:(tensor(0.0182), tensor(1.8182))\n",
      "batch:26, batch_data:(tensor(0.0209), tensor(2.0909))\n",
      "batch:27, batch_data:(tensor(0.0727), tensor(7.2727))\n",
      "batch:28, batch_data:(tensor(0.0555), tensor(5.5455))\n",
      "batch:29, batch_data:(tensor(0.0391), tensor(3.9091))\n",
      "batch:30, batch_data:(tensor(0.0918), tensor(9.1818))\n",
      "batch:31, batch_data:(tensor(0.0691), tensor(6.9091))\n",
      "batch:32, batch_data:(tensor(0.0718), tensor(7.1818))\n",
      "batch:33, batch_data:(tensor(0.0155), tensor(1.5455))\n",
      "batch:34, batch_data:(tensor(0.0436), tensor(4.3636))\n",
      "batch:35, batch_data:(tensor(0.0409), tensor(4.0909))\n",
      "batch:36, batch_data:(tensor(0.0473), tensor(4.7273))\n",
      "batch:37, batch_data:(tensor(0.0582), tensor(5.8182))\n",
      "batch:38, batch_data:(tensor(0.0809), tensor(8.0909))\n",
      "batch:39, batch_data:(tensor(0.0964), tensor(9.6364))\n",
      "batch:40, batch_data:(tensor(0.0418), tensor(4.1818))\n",
      "batch:41, batch_data:(tensor(0.0645), tensor(6.4545))\n",
      "batch:42, batch_data:(tensor(0.0264), tensor(2.6364))\n",
      "batch:43, batch_data:(tensor(0.0955), tensor(9.5455))\n",
      "batch:44, batch_data:(tensor(0.0627), tensor(6.2727))\n",
      "batch:45, batch_data:(tensor(0.0836), tensor(8.3636))\n",
      "batch:46, batch_data:(tensor(0.0664), tensor(6.6364))\n",
      "batch:47, batch_data:(tensor(0.0745), tensor(7.4545))\n",
      "batch:48, batch_data:(tensor(0.0464), tensor(4.6364))\n",
      "batch:49, batch_data:(tensor(0.0900), tensor(9.))\n",
      "batch:50, batch_data:(tensor(0.0855), tensor(8.5455))\n",
      "batch:51, batch_data:(tensor(0.0364), tensor(3.6364))\n",
      "batch:52, batch_data:(tensor(0.0118), tensor(1.1818))\n",
      "batch:53, batch_data:(tensor(0.0164), tensor(1.6364))\n",
      "batch:54, batch_data:(tensor(0.0736), tensor(7.3636))\n",
      "batch:55, batch_data:(tensor(0.0455), tensor(4.5455))\n",
      "batch:56, batch_data:(tensor(0.0173), tensor(1.7273))\n",
      "batch:57, batch_data:(tensor(0.0100), tensor(1.))\n",
      "batch:58, batch_data:(tensor(0.0136), tensor(1.3636))\n",
      "batch:59, batch_data:(tensor(0.0764), tensor(7.6364))\n",
      "\n",
      "batch:0, batch_data:(tensor(0.0882), tensor(8.8182))\n",
      "batch:1, batch_data:(tensor(0.0482), tensor(4.8182))\n",
      "batch:2, batch_data:(tensor(0.0909), tensor(9.0909))\n",
      "batch:3, batch_data:(tensor(0.0936), tensor(9.3636))\n",
      "batch:4, batch_data:(tensor(0.0127), tensor(1.2727))\n",
      "batch:5, batch_data:(tensor(0.0282), tensor(2.8182))\n",
      "batch:6, batch_data:(tensor(0.0300), tensor(3.))\n",
      "batch:7, batch_data:(tensor(0.0536), tensor(5.3636))\n",
      "batch:8, batch_data:(tensor(0.0327), tensor(3.2727))\n",
      "batch:9, batch_data:(tensor(0.0945), tensor(9.4545))\n",
      "batch:10, batch_data:(tensor(0.0500), tensor(5.0000))\n",
      "batch:11, batch_data:(tensor(0.0682), tensor(6.8182))\n",
      "batch:12, batch_data:(tensor(0.0218), tensor(2.1818))\n",
      "batch:13, batch_data:(tensor(0.0618), tensor(6.1818))\n",
      "batch:14, batch_data:(tensor(0.0318), tensor(3.1818))\n",
      "batch:15, batch_data:(tensor(0.0773), tensor(7.7273))\n",
      "batch:16, batch_data:(tensor(0.0491), tensor(4.9091))\n",
      "batch:17, batch_data:(tensor(0.0445), tensor(4.4545))\n",
      "batch:18, batch_data:(tensor(0.0573), tensor(5.7273))\n",
      "batch:19, batch_data:(tensor(0.0591), tensor(5.9091))\n",
      "batch:20, batch_data:(tensor(0.0973), tensor(9.7273))\n",
      "batch:21, batch_data:(tensor(0.0655), tensor(6.5455))\n",
      "batch:22, batch_data:(tensor(0.0927), tensor(9.2727))\n",
      "batch:23, batch_data:(tensor(0.0191), tensor(1.9091))\n",
      "batch:24, batch_data:(tensor(0.0145), tensor(1.4545))\n",
      "batch:25, batch_data:(tensor(0.0182), tensor(1.8182))\n",
      "batch:26, batch_data:(tensor(0.0209), tensor(2.0909))\n",
      "batch:27, batch_data:(tensor(0.0727), tensor(7.2727))\n",
      "batch:28, batch_data:(tensor(0.0555), tensor(5.5455))\n",
      "batch:29, batch_data:(tensor(0.0391), tensor(3.9091))\n",
      "batch:30, batch_data:(tensor(0.0918), tensor(9.1818))\n",
      "batch:31, batch_data:(tensor(0.0691), tensor(6.9091))\n",
      "batch:32, batch_data:(tensor(0.0718), tensor(7.1818))\n",
      "batch:33, batch_data:(tensor(0.0155), tensor(1.5455))\n",
      "batch:34, batch_data:(tensor(0.0436), tensor(4.3636))\n",
      "batch:35, batch_data:(tensor(0.0409), tensor(4.0909))\n",
      "batch:36, batch_data:(tensor(0.0473), tensor(4.7273))\n",
      "batch:37, batch_data:(tensor(0.0582), tensor(5.8182))\n",
      "batch:38, batch_data:(tensor(0.0809), tensor(8.0909))\n",
      "batch:39, batch_data:(tensor(0.0964), tensor(9.6364))\n",
      "batch:40, batch_data:(tensor(0.0418), tensor(4.1818))\n",
      "batch:41, batch_data:(tensor(0.0645), tensor(6.4545))\n",
      "batch:42, batch_data:(tensor(0.0264), tensor(2.6364))\n",
      "batch:43, batch_data:(tensor(0.0955), tensor(9.5455))\n",
      "batch:44, batch_data:(tensor(0.0627), tensor(6.2727))\n",
      "batch:45, batch_data:(tensor(0.0836), tensor(8.3636))\n",
      "batch:46, batch_data:(tensor(0.0664), tensor(6.6364))\n",
      "batch:47, batch_data:(tensor(0.0745), tensor(7.4545))\n",
      "batch:48, batch_data:(tensor(0.0464), tensor(4.6364))\n",
      "batch:49, batch_data:(tensor(0.0900), tensor(9.))\n",
      "batch:50, batch_data:(tensor(0.0855), tensor(8.5455))\n",
      "batch:51, batch_data:(tensor(0.0364), tensor(3.6364))\n",
      "batch:52, batch_data:(tensor(0.0118), tensor(1.1818))\n",
      "batch:53, batch_data:(tensor(0.0164), tensor(1.6364))\n",
      "batch:54, batch_data:(tensor(0.0736), tensor(7.3636))\n",
      "batch:55, batch_data:(tensor(0.0455), tensor(4.5455))\n",
      "batch:56, batch_data:(tensor(0.0173), tensor(1.7273))\n",
      "batch:57, batch_data:(tensor(0.0100), tensor(1.))\n",
      "batch:58, batch_data:(tensor(0.0136), tensor(1.3636))\n",
      "batch:59, batch_data:(tensor(0.0764), tensor(7.6364))\n",
      "\n"
     ]
    }
   ],
   "source": [
    "show_batch(train_data)"
   ],
   "metadata": {
    "collapsed": false,
    "pycharm": {
     "name": "#%%\n"
    }
   }
  },
  {
   "cell_type": "code",
   "execution_count": 7,
   "outputs": [
    {
     "name": "stdout",
     "output_type": "stream",
     "text": [
      "batch:0, batch_data:[tensor([0.0200, 0.0891, 0.0236, 0.0273]), tensor([2.0000, 8.9091, 2.3636, 2.7273])]\n",
      "batch:1, batch_data:[tensor([0.0427, 0.0709, 0.0373, 0.0345]), tensor([4.2727, 7.0909, 3.7273, 3.4545])]\n",
      "batch:2, batch_data:[tensor([0.1000, 0.0382, 0.0545, 0.0518]), tensor([10.0000,  3.8182,  5.4545,  5.1818])]\n",
      "batch:3, batch_data:[tensor([0.0355, 0.0309, 0.0873, 0.0782]), tensor([3.5455, 3.0909, 8.7273, 7.8182])]\n",
      "batch:4, batch_data:[tensor([0.0609, 0.0600, 0.0755, 0.0227]), tensor([6.0909, 6.0000, 7.5455, 2.2727])]\n",
      "batch:5, batch_data:[tensor([0.0109, 0.0636, 0.0845, 0.0245]), tensor([1.0909, 6.3636, 8.4545, 2.4545])]\n",
      "batch:6, batch_data:[tensor([0.0818, 0.0800, 0.0982, 0.0700]), tensor([8.1818, 8.0000, 9.8182, 7.0000])]\n",
      "batch:7, batch_data:[tensor([0.0864, 0.0291, 0.0991, 0.0527]), tensor([8.6364, 2.9091, 9.9091, 5.2727])]\n",
      "batch:8, batch_data:[tensor([0.0509, 0.0564, 0.0255, 0.0827]), tensor([5.0909, 5.6364, 2.5455, 8.2727])]\n",
      "batch:9, batch_data:[tensor([0.0791, 0.0336, 0.0673, 0.0400]), tensor([7.9091, 3.3636, 6.7273, 4.0000])]\n",
      "\n",
      "batch:0, batch_data:[tensor([0.0200, 0.0891, 0.0236, 0.0273]), tensor([2.0000, 8.9091, 2.3636, 2.7273])]\n",
      "batch:1, batch_data:[tensor([0.0427, 0.0709, 0.0373, 0.0345]), tensor([4.2727, 7.0909, 3.7273, 3.4545])]\n",
      "batch:2, batch_data:[tensor([0.1000, 0.0382, 0.0545, 0.0518]), tensor([10.0000,  3.8182,  5.4545,  5.1818])]\n",
      "batch:3, batch_data:[tensor([0.0355, 0.0309, 0.0873, 0.0782]), tensor([3.5455, 3.0909, 8.7273, 7.8182])]\n",
      "batch:4, batch_data:[tensor([0.0609, 0.0600, 0.0755, 0.0227]), tensor([6.0909, 6.0000, 7.5455, 2.2727])]\n",
      "batch:5, batch_data:[tensor([0.0109, 0.0636, 0.0845, 0.0245]), tensor([1.0909, 6.3636, 8.4545, 2.4545])]\n",
      "batch:6, batch_data:[tensor([0.0818, 0.0800, 0.0982, 0.0700]), tensor([8.1818, 8.0000, 9.8182, 7.0000])]\n",
      "batch:7, batch_data:[tensor([0.0864, 0.0291, 0.0991, 0.0527]), tensor([8.6364, 2.9091, 9.9091, 5.2727])]\n",
      "batch:8, batch_data:[tensor([0.0509, 0.0564, 0.0255, 0.0827]), tensor([5.0909, 5.6364, 2.5455, 8.2727])]\n",
      "batch:9, batch_data:[tensor([0.0791, 0.0336, 0.0673, 0.0400]), tensor([7.9091, 3.3636, 6.7273, 4.0000])]\n",
      "\n",
      "batch:0, batch_data:[tensor([0.0200, 0.0891, 0.0236, 0.0273]), tensor([2.0000, 8.9091, 2.3636, 2.7273])]\n",
      "batch:1, batch_data:[tensor([0.0427, 0.0709, 0.0373, 0.0345]), tensor([4.2727, 7.0909, 3.7273, 3.4545])]\n",
      "batch:2, batch_data:[tensor([0.1000, 0.0382, 0.0545, 0.0518]), tensor([10.0000,  3.8182,  5.4545,  5.1818])]\n",
      "batch:3, batch_data:[tensor([0.0355, 0.0309, 0.0873, 0.0782]), tensor([3.5455, 3.0909, 8.7273, 7.8182])]\n",
      "batch:4, batch_data:[tensor([0.0609, 0.0600, 0.0755, 0.0227]), tensor([6.0909, 6.0000, 7.5455, 2.2727])]\n",
      "batch:5, batch_data:[tensor([0.0109, 0.0636, 0.0845, 0.0245]), tensor([1.0909, 6.3636, 8.4545, 2.4545])]\n",
      "batch:6, batch_data:[tensor([0.0818, 0.0800, 0.0982, 0.0700]), tensor([8.1818, 8.0000, 9.8182, 7.0000])]\n",
      "batch:7, batch_data:[tensor([0.0864, 0.0291, 0.0991, 0.0527]), tensor([8.6364, 2.9091, 9.9091, 5.2727])]\n",
      "batch:8, batch_data:[tensor([0.0509, 0.0564, 0.0255, 0.0827]), tensor([5.0909, 5.6364, 2.5455, 8.2727])]\n",
      "batch:9, batch_data:[tensor([0.0791, 0.0336, 0.0673, 0.0400]), tensor([7.9091, 3.3636, 6.7273, 4.0000])]\n",
      "\n"
     ]
    }
   ],
   "source": [
    "show_batch(test_loader)\n"
   ],
   "metadata": {
    "collapsed": false,
    "pycharm": {
     "name": "#%%\n"
    }
   }
  }
 ],
 "metadata": {
  "kernelspec": {
   "display_name": "Python 3",
   "language": "python",
   "name": "python3"
  },
  "language_info": {
   "codemirror_mode": {
    "name": "ipython",
    "version": 2
   },
   "file_extension": ".py",
   "mimetype": "text/x-python",
   "name": "python",
   "nbconvert_exporter": "python",
   "pygments_lexer": "ipython2",
   "version": "2.7.6"
  }
 },
 "nbformat": 4,
 "nbformat_minor": 0
}