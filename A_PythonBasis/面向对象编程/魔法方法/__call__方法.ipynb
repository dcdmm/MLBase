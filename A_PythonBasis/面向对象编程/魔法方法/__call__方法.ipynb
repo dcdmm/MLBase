{
 "cells": [
  {
   "cell_type": "code",
   "execution_count": 5,
   "outputs": [
    {
     "name": "stdout",
     "output_type": "stream",
     "text": [
      "__call__ called, print x:  123\n",
      "__call__ called, print x:  123\n"
     ]
    }
   ],
   "source": [
    "# __call__()方法能够让类的实例对象,像函数一样被调用\n",
    "class A(object):\n",
    "    def __call__(self, x):\n",
    "        print('__call__ called, print x: ', x)\n",
    "\n",
    "a = A()\n",
    "a.__call__(123)\n",
    "a(123) # 与上等价"
   ],
   "metadata": {
    "collapsed": false,
    "pycharm": {
     "name": "#%%\n"
    }
   }
  },
  {
   "cell_type": "code",
   "execution_count": 6,
   "outputs": [
    {
     "name": "stdout",
     "output_type": "stream",
     "text": [
      "进入__init__函数\n",
      "__call__被调用\n",
      "__call__被调用\n",
      "__call__被调用\n",
      "__call__被调用\n",
      "__call__被调用\n",
      "__call__被调用\n",
      "__call__被调用\n",
      "__call__被调用\n",
      "__call__被调用\n",
      "__call__被调用\n",
      "10\n",
      "<class '__main__.Counter'>\n"
     ]
    }
   ],
   "source": [
    "class Counter:\n",
    "    def __init__(self, func):\n",
    "        print('进入__init__函数')\n",
    "        self.func = func\n",
    "        self.count = 0\n",
    "\n",
    "    def __call__(self, *args, **kwargs):\n",
    "        print('__call__被调用')\n",
    "        self.count += 1\n",
    "        return self.func(*args, **kwargs)\n",
    "\n",
    "@Counter\n",
    "def foo(): # 等同于Counter(foo)\n",
    "    pass\n",
    "\n",
    "for i in range(10):\n",
    "    foo()\n",
    "\n",
    "print(foo.count)\n",
    "print(type(foo)) # foo为一个Counter对象"
   ],
   "metadata": {
    "pycharm": {
     "metadata": false,
     "name": "#%%\n"
    }
   }
  },
  {
   "cell_type": "code",
   "execution_count": 6,
   "outputs": [],
   "source": "\n",
   "metadata": {
    "pycharm": {
     "metadata": false,
     "name": "#%%\n"
    }
   }
  }
 ],
 "metadata": {
  "language_info": {
   "codemirror_mode": {
    "name": "ipython",
    "version": 2
   },
   "file_extension": ".py",
   "mimetype": "text/x-python",
   "name": "python",
   "nbconvert_exporter": "python",
   "pygments_lexer": "ipython2",
   "version": "2.7.6"
  },
  "kernelspec": {
   "name": "python3",
   "language": "python",
   "display_name": "Python 3"
  }
 },
 "nbformat": 4,
 "nbformat_minor": 0
}