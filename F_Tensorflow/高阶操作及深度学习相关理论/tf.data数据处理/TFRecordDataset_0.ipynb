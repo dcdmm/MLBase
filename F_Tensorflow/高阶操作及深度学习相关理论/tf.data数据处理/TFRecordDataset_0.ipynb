{
 "cells": [
  {
   "cell_type": "code",
   "execution_count": 53,
   "metadata": {
    "collapsed": true
   },
   "outputs": [],
   "source": [
    "import tensorflow as tf\n",
    "import os\n",
    "import numpy as np\n",
    "import tempfile\n",
    "\n",
    "example_path = os.path.join(tempfile.gettempdir(), \"example.tfrecords\")  # 临时文件夹\n",
    "np.random.seed(0)"
   ]
  },
  {
   "cell_type": "markdown",
   "source": [
    "* TFRecord是Google官方推荐的一种数据格式,是Google专门为TensorFlow设计的一种数据格式\n",
    "* TFRecord内部使用了“Protocol Buffer”二进制数据编码方案,它只占用一个内存块,只需要一次性加载一个二进制文件的方式即可,简单,快速,尤其对大型训练数据很友好\n",
    "* 除了\"快\",还有另外一个优点就是,在多模态学习(比如视频+音频+文案作为特征)中可以将各种形式的特征预处理后统一放在TFRecord中,避免了读取数据时候的麻烦\n",
    "\n",
    "\n",
    "The tf.train.Feature message type can accept one of the following three types (See the .proto file for reference). Most other generic types can be coerced into one of these:\n",
    "\n",
    "1. tf.train.BytesList (the following types can be coerced)\n",
    "    * string\n",
    "    * byte\n",
    "\n",
    "2. tf.train.FloatList (the following types can be coerced)\n",
    "    * float (float32)\n",
    "    * double (float64)\n",
    "\n",
    "3. tf.train.Int64List (the following types can be coerced)\n",
    "    * bool\n",
    "    * enum\n",
    "    * int32\n",
    "    * uint32\n",
    "    * int64\n",
    "    * uint64"
   ],
   "metadata": {
    "collapsed": false,
    "pycharm": {
     "name": "#%% md\n"
    }
   }
  },
  {
   "cell_type": "markdown",
   "source": [
    "### 实例一"
   ],
   "metadata": {
    "collapsed": false,
    "pycharm": {
     "name": "#%% md\n"
    }
   }
  },
  {
   "cell_type": "markdown",
   "source": [
    "#### 写入"
   ],
   "metadata": {
    "collapsed": false,
    "pycharm": {
     "name": "#%% md\n"
    }
   }
  },
  {
   "cell_type": "code",
   "execution_count": null,
   "outputs": [],
   "source": [
    "with tf.io.TFRecordWriter(example_path) as file_writer:\n",
    "    for _ in range(4):\n",
    "        # 1,数据x,y\n",
    "        x, y = np.random.random(), np.random.randint(0, 9)\n",
    "\n",
    "        # 2,Features字典\n",
    "        features = tf.train.Features(feature={\n",
    "            \"x\": tf.train.Feature(float_list=tf.train.FloatList(value=[x])),  # value必须为list向量\n",
    "            \"y\": tf.train.Feature(int64_list=tf.train.Int64List(value=[y])),\n",
    "        })\n",
    "\n",
    "        # 3,Features字典转换为Example对象并序列化\n",
    "        record_bytes = tf.train.Example(features=features).SerializeToString()\n",
    "\n",
    "        # 4,写入到TFRecord文件\n",
    "        file_writer.write(record_bytes)"
   ],
   "metadata": {
    "collapsed": false,
    "pycharm": {
     "name": "#%%\n"
    }
   }
  },
  {
   "cell_type": "markdown",
   "source": [
    "#### 加载"
   ],
   "metadata": {
    "collapsed": false,
    "pycharm": {
     "name": "#%% md\n"
    }
   }
  },
  {
   "cell_type": "code",
   "execution_count": null,
   "outputs": [],
   "source": [
    "def decode_fn(record_bytes):\n",
    "    # 2,定义Feature结构,告诉解码器每个Feature的类型是什么\n",
    "    features = {\"x\": tf.io.FixedLenFeature([], dtype=tf.float32),\n",
    "                \"y\": tf.io.FixedLenFeature([], dtype=tf.int64)}\n",
    "\n",
    "    # 3,将TFRecord文件中的每一个序列化的tf.train.Example解码\n",
    "    result = tf.io.parse_single_example(record_bytes, features)\n",
    "    return result"
   ],
   "metadata": {
    "collapsed": false,
    "pycharm": {
     "name": "#%%\n"
    }
   }
  },
  {
   "cell_type": "code",
   "execution_count": 56,
   "outputs": [
    {
     "name": "stdout",
     "output_type": "stream",
     "text": [
      "{'x': <tf.Tensor 'ParseSingleExample/ParseExample/ParseExampleV2:0' shape=() dtype=float32>, 'y': <tf.Tensor 'ParseSingleExample/ParseExample/ParseExampleV2:1' shape=() dtype=int64>}\n",
      "x = 0.5488,  y = 5.0000\n",
      "x = 0.8443,  y = 3.0000\n",
      "x = 0.8473,  y = 3.0000\n",
      "x = 0.6459,  y = 4.0000\n"
     ]
    }
   ],
   "source": [
    "dataset = tf.data.TFRecordDataset([example_path])  # 1. 读取TFRecore文件\n",
    "\n",
    "# 数据处理方法含义与tf.data.Dataset相同\n",
    "for batch in dataset.map(decode_fn):\n",
    "    print(\"x = {x:.4f},  y = {y:.4f}\".format(**batch))"
   ],
   "metadata": {
    "collapsed": false,
    "pycharm": {
     "name": "#%%\n"
    }
   }
  },
  {
   "cell_type": "code",
   "source": [],
   "metadata": {
    "collapsed": false,
    "pycharm": {
     "name": "#%%\n"
    }
   },
   "execution_count": null,
   "outputs": []
  }
 ],
 "metadata": {
  "kernelspec": {
   "display_name": "Python 3",
   "language": "python",
   "name": "python3"
  },
  "language_info": {
   "codemirror_mode": {
    "name": "ipython",
    "version": 2
   },
   "file_extension": ".py",
   "mimetype": "text/x-python",
   "name": "python",
   "nbconvert_exporter": "python",
   "pygments_lexer": "ipython2",
   "version": "2.7.6"
  }
 },
 "nbformat": 4,
 "nbformat_minor": 0
}