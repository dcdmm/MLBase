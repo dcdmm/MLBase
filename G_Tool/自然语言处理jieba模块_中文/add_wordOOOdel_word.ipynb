{
 "cells": [
  {
   "cell_type": "code",
   "execution_count": 2,
   "metadata": {},
   "outputs": [
    {
     "name": "stdout",
     "output_type": "stream",
     "text": [
      "Full Mode: 李小福/ 是/ 创新/ 办/ 主任/ 也/ 是/ 云/ 计算/ 方面/ 的/ 专家\n"
     ]
    }
   ],
   "source": [
    "import jieba\n",
    "\n",
    "seg_gen1 = jieba.cut(\"李小福是创新办主任也是云计算方面的专家\",\n",
    "                     cut_all=False)\n",
    "print(\"Full Mode: \" + \"/ \".join(seg_gen1))  # 此时创新办和云计算得到正确分割\n"
   ]
  },
  {
   "cell_type": "code",
   "execution_count": 3,
   "metadata": {
    "pycharm": {
     "name": "#%%\n"
    }
   },
   "outputs": [],
   "source": [
    "# 使用add_word(word, freq=None, tag=None)和del_word(word)可在程序中动态修改词典(临时有效)\n",
    "jieba.add_word('创新办', 3, 'i')"
   ]
  },
  {
   "cell_type": "code",
   "execution_count": 4,
   "metadata": {
    "pycharm": {
     "name": "#%%\n"
    }
   },
   "outputs": [
    {
     "name": "stdout",
     "output_type": "stream",
     "text": [
      "Full Mode: 李小福/ 是/ 创新办/ 主任/ 也/ 是/ 云/ 计算/ 方面/ 的/ 专家\n"
     ]
    }
   ],
   "source": [
    "seg_gen2 = jieba.cut(\"李小福是创新办主任也是云计算方面的专家\",\n",
    "                     cut_all=False)\n",
    "print(\"Full Mode: \" + \"/ \".join(seg_gen2))  # 此时创新办正确分割"
   ]
  },
  {
   "cell_type": "code",
   "execution_count": null,
   "metadata": {},
   "outputs": [],
   "source": []
  }
 ],
 "metadata": {
  "kernelspec": {
   "display_name": "Python 3",
   "language": "python",
   "name": "python3"
  },
  "language_info": {
   "codemirror_mode": {
    "name": "ipython",
    "version": 3
   },
   "file_extension": ".py",
   "mimetype": "text/x-python",
   "name": "python",
   "nbconvert_exporter": "python",
   "pygments_lexer": "ipython3",
   "version": "3.7.7"
  },
  "toc": {
   "base_numbering": 1,
   "nav_menu": {},
   "number_sections": true,
   "sideBar": true,
   "skip_h1_title": false,
   "title_cell": "Table of Contents",
   "title_sidebar": "Contents",
   "toc_cell": false,
   "toc_position": {},
   "toc_section_display": true,
   "toc_window_display": false
  }
 },
 "nbformat": 4,
 "nbformat_minor": 1
}