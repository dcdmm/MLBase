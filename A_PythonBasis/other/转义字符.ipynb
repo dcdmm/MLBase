{
 "cells": [
  {
   "cell_type": "markdown",
   "metadata": {
    "collapsed": false,
    "pycharm": {
     "name": "#%% md\n"
    }
   },
   "source": [
    "| 转义字符 | 含义 |\n",
    "| :---: | :---: |\n",
    "| `\\`<newline> | \tBackslash and newline ignored |\n",
    "| `\\\\` | Backslash (`\\`) |\n",
    "| `\\'` | Single quote (`'`) |\n",
    "| `\\\"` | Double quote (`\"`) |\n",
    "| `\\a` | SCII Bell (BEL) |\n",
    "| `\\b` | ASCII Backspace (BS) |\n",
    "| `\\n` | ASCII Linefeed (LF) |\n",
    "| `\\v` | CII Vertical Tab (VT)|\n",
    "| `\\t` | SCII Horizontal Tab (TAB) |\n",
    "| `\\r` | ASCII Carriage Return (CR) |\n",
    "| `\\f` | ASCII Carriage Return (CR) |\n",
    "| `\\ooo` | Character with octal value ooo |\n",
    "| `\\xhh` | Character with hex value hh|"
   ]
  },
  {
   "cell_type": "code",
   "execution_count": 32,
   "metadata": {},
   "outputs": [
    {
     "data": {
      "text/plain": [
       "'This string will not include backslashes or newline characters.'"
      ]
     },
     "execution_count": 32,
     "metadata": {},
     "output_type": "execute_result"
    }
   ],
   "source": [
    "# Backslash and newline ignored\n",
    "a = 'This string will not include \\\n",
    "backslashes or newline characters.'\n",
    "a"
   ]
  },
  {
   "cell_type": "code",
   "execution_count": 33,
   "metadata": {},
   "outputs": [
    {
     "name": "stdout",
     "output_type": "stream",
     "text": [
      "c:\\now\n",
      "c:\\nowgood\\\n",
      "c:\\nowgood\\\n"
     ]
    }
   ],
   "source": [
    "the_str = r\"c:\\now\" # 字符串前加r(或R)表示原始字符串,作用:字符串内的反斜杠(末尾反斜杠除外)不再表示转义\n",
    "print(the_str)\n",
    "\n",
    "# 字符串若要输出末尾字符串\n",
    "# print(r\"c:\\nowgood\\\")  # SyntaxError: unterminated string literal (detected at line 5)\n",
    "print('c:\\\\nowgood\\\\') # print->\\nowgood\\\n",
    "print(r'c:\\nowgood' + '\\\\') # print->\\nowgood\\"
   ]
  }
 ],
 "metadata": {
  "kernelspec": {
   "display_name": "Python 3",
   "language": "python",
   "name": "python3"
  },
  "language_info": {
   "codemirror_mode": {
    "name": "ipython",
    "version": 3
   },
   "file_extension": ".py",
   "mimetype": "text/x-python",
   "name": "python",
   "nbconvert_exporter": "python",
   "pygments_lexer": "ipython3",
   "version": "3.11.7"
  },
  "pycharm": {
   "stem_cell": {
    "cell_type": "raw",
    "metadata": {
     "collapsed": false
    },
    "source": []
   }
  }
 },
 "nbformat": 4,
 "nbformat_minor": 0
}
