{
 "cells": [
  {
   "cell_type": "code",
   "execution_count": null,
   "outputs": [],
   "source": [
    "import  numpy as np\n",
    "import  pandas as pd"
   ],
   "metadata": {
    "collapsed": false,
    "pycharm": {
     "name": "#%%\n"
    }
   }
  },
  {
   "cell_type": "code",
   "execution_count": 2,
   "metadata": {
    "pycharm": {
     "is_executing": false
    }
   },
   "outputs": [
    {
     "data": {
      "text/plain": "  key1 key2     data1     data2\n0    a  one -0.423832 -0.483271\n1    a  two  0.580287 -0.451399\n2    b  one -0.624898 -0.729430\n3    b  two  0.237497  0.020941\n4    a  one -0.050832 -1.602746",
      "text/html": "<div>\n<style scoped>\n    .dataframe tbody tr th:only-of-type {\n        vertical-align: middle;\n    }\n\n    .dataframe tbody tr th {\n        vertical-align: top;\n    }\n\n    .dataframe thead th {\n        text-align: right;\n    }\n</style>\n<table border=\"1\" class=\"dataframe\">\n  <thead>\n    <tr style=\"text-align: right;\">\n      <th></th>\n      <th>key1</th>\n      <th>key2</th>\n      <th>data1</th>\n      <th>data2</th>\n    </tr>\n  </thead>\n  <tbody>\n    <tr>\n      <th>0</th>\n      <td>a</td>\n      <td>one</td>\n      <td>-0.423832</td>\n      <td>-0.483271</td>\n    </tr>\n    <tr>\n      <th>1</th>\n      <td>a</td>\n      <td>two</td>\n      <td>0.580287</td>\n      <td>-0.451399</td>\n    </tr>\n    <tr>\n      <th>2</th>\n      <td>b</td>\n      <td>one</td>\n      <td>-0.624898</td>\n      <td>-0.729430</td>\n    </tr>\n    <tr>\n      <th>3</th>\n      <td>b</td>\n      <td>two</td>\n      <td>0.237497</td>\n      <td>0.020941</td>\n    </tr>\n    <tr>\n      <th>4</th>\n      <td>a</td>\n      <td>one</td>\n      <td>-0.050832</td>\n      <td>-1.602746</td>\n    </tr>\n  </tbody>\n</table>\n</div>"
     },
     "metadata": {},
     "output_type": "execute_result",
     "execution_count": 2
    }
   ],
   "source": [
    "df = pd.DataFrame({'key1' : ['a', 'a', 'b', 'b', 'a'],\n",
    "                   'key2' : ['one', 'two', 'one', 'two', 'one'],\n",
    "                   'data1' : np.random.randn(5),\n",
    "                   'data2' : np.random.randn(5)})\n",
    "df"
   ]
  },
  {
   "cell_type": "code",
   "execution_count": 3,
   "metadata": {
    "pycharm": {
     "is_executing": false
    }
   },
   "outputs": [
    {
     "name": "stdout",
     "text": [
      "a\n  key1 key2     data1     data2\n0    a  one -0.423832 -0.483271\n1    a  two  0.580287 -0.451399\n4    a  one -0.050832 -1.602746\nb\n  key1 key2     data1     data2\n2    b  one -0.624898 -0.729430\n3    b  two  0.237497  0.020941\n"
     ],
     "output_type": "stream"
    }
   ],
   "source": "# 通过for循环遍历\nfor name, group in df.groupby(df['key1']):\n\t# GroupBy对象支持迭代,返回一个包含组名和数据块的2为元组序列\n    print(name)\n    print(group)"
  },
  {
   "cell_type": "code",
   "execution_count": 4,
   "metadata": {
    "pycharm": {
     "is_executing": false
    }
   },
   "outputs": [
    {
     "name": "stdout",
     "text": [
      "('a', 'one')\n  key1 key2     data1     data2\n0    a  one -0.423832 -0.483271\n4    a  one -0.050832 -1.602746\n('a', 'two')\n  key1 key2     data1     data2\n1    a  two  0.580287 -0.451399\n('b', 'one')\n  key1 key2     data1    data2\n2    b  one -0.624898 -0.72943\n('b', 'two')\n  key1 key2     data1     data2\n3    b  two  0.237497  0.020941\n"
     ],
     "output_type": "stream"
    }
   ],
   "source": "for (k1, k2), group in df.groupby([df['key1'], df['key2']]): # 多个分组健\n    print((k1, k2))\n    print(group)"
  },
  {
   "cell_type": "code",
   "execution_count": 5,
   "outputs": [
    {
     "name": "stdout",
     "text": [
      "[('a',   key1 key2     data1     data2\n0    a  one -0.423832 -0.483271\n1    a  two  0.580287 -0.451399\n4    a  one -0.050832 -1.602746), ('b',   key1 key2     data1     data2\n2    b  one -0.624898 -0.729430\n3    b  two  0.237497  0.020941)]\n"
     ],
     "output_type": "stream"
    }
   ],
   "source": "# 通过列表进行遍历\nprint(list(df.groupby(df['key1']))) # 2个元组组成的列表",
   "metadata": {
    "pycharm": {
     "metadata": false,
     "name": "#%%\n",
     "is_executing": false
    }
   }
  },
  {
   "cell_type": "code",
   "execution_count": 6,
   "metadata": {
    "pycharm": {
     "is_executing": false
    }
   },
   "outputs": [
    {
     "name": "stdout",
     "text": [
      "{'a':   key1 key2     data1     data2\n0    a  one -0.423832 -0.483271\n1    a  two  0.580287 -0.451399\n4    a  one -0.050832 -1.602746, 'b':   key1 key2     data1     data2\n2    b  one -0.624898 -0.729430\n3    b  two  0.237497  0.020941}\n  key1 key2     data1     data2\n0    a  one -0.423832 -0.483271\n1    a  two  0.580287 -0.451399\n4    a  one -0.050832 -1.602746\n"
     ],
     "output_type": "stream"
    }
   ],
   "source": "# 通过字典进行遍历\npieces = dict(list(df.groupby(df['key1']))) # 运用了字典的构造方法\nprint(pieces)\nprint(pieces['a'])"
  },
  {
   "cell_type": "code",
   "execution_count": 7,
   "outputs": [
    {
     "data": {
      "text/plain": "key1      object\nkey2      object\ndata1    float64\ndata2    float64\ndtype: object"
     },
     "metadata": {},
     "output_type": "execute_result",
     "execution_count": 7
    }
   ],
   "source": "df.dtypes",
   "metadata": {
    "pycharm": {
     "metadata": false,
     "name": "#%%\n",
     "is_executing": false
    }
   }
  },
  {
   "cell_type": "code",
   "execution_count": 8,
   "outputs": [],
   "source": "grouped = df.groupby(df.dtypes, axis=1) # 默认axis=0",
   "metadata": {
    "pycharm": {
     "metadata": false,
     "name": "#%%\n",
     "is_executing": false
    }
   }
  },
  {
   "cell_type": "code",
   "execution_count": 9,
   "metadata": {
    "pycharm": {
     "is_executing": false
    }
   },
   "outputs": [
    {
     "name": "stdout",
     "text": [
      "float64\n      data1     data2\n0 -0.423832 -0.483271\n1  0.580287 -0.451399\n2 -0.624898 -0.729430\n3  0.237497  0.020941\n4 -0.050832 -1.602746\nobject\n  key1 key2\n0    a  one\n1    a  two\n2    b  one\n3    b  two\n4    a  one\n"
     ],
     "output_type": "stream"
    }
   ],
   "source": "for dtype, group in grouped:\n\tprint(dtype)\n\tprint(group)"
  },
  {
   "cell_type": "code",
   "execution_count": 10,
   "outputs": [
    {
     "data": {
      "text/plain": "float64    2\nobject     2\ndtype: int64"
     },
     "metadata": {},
     "output_type": "execute_result",
     "execution_count": 10
    }
   ],
   "source": "grouped.size()",
   "metadata": {
    "pycharm": {
     "metadata": false,
     "name": "#%%\n",
     "is_executing": false
    }
   }
  },
  {
   "cell_type": "code",
   "execution_count": null,
   "outputs": [],
   "source": "\n",
   "metadata": {
    "pycharm": {
     "metadata": false,
     "name": "#%%\n"
    }
   }
  }
 ],
 "metadata": {
  "kernelspec": {
   "name": "python3",
   "language": "python",
   "display_name": "Python 3"
  },
  "language_info": {
   "codemirror_mode": {
    "name": "ipython",
    "version": 2
   },
   "file_extension": ".py",
   "mimetype": "text/x-python",
   "name": "python",
   "nbconvert_exporter": "python",
   "pygments_lexer": "ipython2",
   "version": "2.7.6"
  },
  "pycharm": {
   "stem_cell": {
    "cell_type": "raw",
    "source": [],
    "metadata": {
     "collapsed": false
    }
   }
  }
 },
 "nbformat": 4,
 "nbformat_minor": 0
}