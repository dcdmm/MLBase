{
 "cells": [
  {
   "cell_type": "markdown",
   "metadata": {
    "collapsed": true,
    "pycharm": {
     "name": "#%% md\n"
    }
   },
   "source": [
    "<font color='red' size=4>算法:</font>   \n",
    "输入:训练数据集    \n",
    "$$ T = \\{ (\\mathbf{x}_1,y_1), (\\mathbf{x}_2,y_2), \\dots ,(\\mathbf{x}_N, \\mathbf{x}_N) \\} $$   \n",
    "其中, $ \\mathbf{x}_i \\in \\mathcal{X}  \\subseteq \\mathbb{R}^n$为实例的特征向量, $ y_i \\in \\mathcal{Y}=\\{c_1, c_2, ..., c_K\\}$为\n",
    "实例的类别,$ i=1,2,\\dots,N $;实例特征向量$ \\mathbf{x} $;  \n",
    "输出:实例$ \\mathbf{x} $所属的类$ y$   \n",
    "1. 根据给定的距离度量,在训练集$ T $中找出与$ \\mathbf{x}$ 最邻近的$ k $个点,涵盖这$ k $个点的领域叫做 $ N_k(\\mathbf{x}) $\n",
    "2. 在$ N_k(\\mathbf{x}) $中根据分类决策规则(如多数表决)决定$\\mathbf{x} $的类别$y$    \n",
    "$$ y=\\mathrm{arg} \\max \\limits _{c_j} \\sum \\limits _{x_i \\in N_k(\\mathbf{x})}  I(y_i = c_j), i=1,2, \\dots, N; j=1,2,\\dots,K$$,其中$ I $为指示函数  \n",
    "&emsp;&emsp;$ k$近邻法的特殊情况是$ k=1 $的情况,称为最近邻算法.对于输入的实例点(特征向量)$ \\mathbf{x} $ ,最邻近法将训练数据集中与 $ \\mathbf{x}$最\n",
    "邻近的类作为$ \\mathbf{x}$ 的类.   \n",
    "\n",
    "\n",
    "<font color='red' size=4>$ k $近邻算法的缺点: </font>    \n",
    "1. 计算量太大,尤其当样本非常多时.每一个待分类实例都要计算它到全体已知样本的距离,才能得到最邻近的$ k $个样本点 \n",
    "2. 样本不平衡的时候,对稀有类别的预测准确率低.当样本不平衡时,如一个类的样本容量很大,而其他类样本容量很小时,有可能导致当输入一个待分类实例时,该实例的$ k $ 个最近邻点中大量类样本占多数 \n",
    "3. 对训练数据的容错性太差.如果训练数据集中有几个样本点是错误的,恰好又分布在待分类实例的周围,这样很可能会导致预测的结果产生错误 \n",
    "4. 没有显式的学习过程\"懒惰学习\",预测结果不具备可解释性,预测结果只是从待分类实例最邻近的$k$个点中选出出现频率最高的类\n",
    "5. 维度灾难,随着数据维度的增加,看似\"非常接近\"的两个点之间的距离会越来越远\n",
    "\n",
    "\n",
    "<font color='red' size=4>注意:</font>   \n",
    "&emsp;&emsp;当特征取值具有不同取值范围时,差值较大的特征对计算结果的影响较大,如果认为这些特征是同等重要的,则需要对特征进行归一化处理     \n",
    "&emsp;&emsp;例:样本点$ A(0, 20000, 1.1) $,样本点$ B(67, 32000, 0,1) $,则样本点$ A $ 与$ B $之间的距离为     \n",
    "$$  \\sqrt{(0-67)^2 + (20000 - 32000)^2 + (1.1 - 0.1)^2} $$    \n",
    "容易看出上式数字差值最大的属性对计算结果的影响最大,如果认为这三种特征是同等重要的,则第二个特征对结算结果影响过大         "
   ]
  }
 ],
 "metadata": {
  "kernelspec": {
   "display_name": "Python 3",
   "language": "python",
   "name": "python3"
  },
  "language_info": {
   "codemirror_mode": {
    "name": "ipython",
    "version": 3
   },
   "file_extension": ".py",
   "mimetype": "text/x-python",
   "name": "python",
   "nbconvert_exporter": "python",
   "pygments_lexer": "ipython3",
   "version": "3.7.7"
  },
  "pycharm": {
   "stem_cell": {
    "cell_type": "raw",
    "metadata": {
     "collapsed": false
    },
    "source": []
   }
  },
  "toc": {
   "base_numbering": 1,
   "nav_menu": {},
   "number_sections": true,
   "sideBar": true,
   "skip_h1_title": false,
   "title_cell": "Table of Contents",
   "title_sidebar": "Contents",
   "toc_cell": false,
   "toc_position": {},
   "toc_section_display": true,
   "toc_window_display": false
  }
 },
 "nbformat": 4,
 "nbformat_minor": 1
}
