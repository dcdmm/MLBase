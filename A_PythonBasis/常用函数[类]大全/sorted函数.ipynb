{
 "cells": [
  {
   "cell_type": "code",
   "execution_count": 24,
   "metadata": {
    "collapsed": true
   },
   "outputs": [
    {
     "name": "stdout",
     "output_type": "stream",
     "text": [
      "[1, 2, 3, 5, 7, 25, 53, 61]\n",
      "[61, 53, 25, 7, 5, 3, 2, 1]\n"
     ]
    }
   ],
   "source": [
    "lst = [3, 2, 1, 5, 61, 53, 25, 7]\n",
    "#  Return a new list containing all items from the iterable(可迭代对象) in ascending order\n",
    "print(sorted(lst))\n",
    "print(sorted(lst, reverse=True))  # 若reverse=True,则为降序排列"
   ]
  },
  {
   "cell_type": "code",
   "execution_count": 25,
   "metadata": {
    "collapsed": false,
    "pycharm": {
     "name": "#%%\n"
    }
   },
   "outputs": [
    {
     "data": {
      "text/plain": [
       "[[8, 1], [7, 2], [2, 3, 1], [5, 4], [9, 6], [4, 7]]"
      ]
     },
     "execution_count": 25,
     "metadata": {},
     "output_type": "execute_result"
    }
   ],
   "source": [
    "data = [[2, 3, 1], [5, 4], [9, 6], [4, 7], [8, 1], [7, 2]]\n",
    "sorted(data, key=lambda x : x[1])  # 使用列表元素(列表)的第二个元素进行排序"
   ]
  },
  {
   "cell_type": "code",
   "execution_count": 26,
   "metadata": {},
   "outputs": [
    {
     "name": "stdout",
     "output_type": "stream",
     "text": [
      "1\n",
      "2\n",
      "3\n"
     ]
    }
   ],
   "source": [
    "class A:\n",
    "    def __init__(self, v: int) -> None:\n",
    "        self.v = v\n",
    "\n",
    "\n",
    "lst = [A(2), A(1), A(3)]\n",
    "lst_sort = sorted(lst, key=lambda a: a.v)  # 使用列表(类A对象)的实例属性v进行排序\n",
    "for ls in lst_sort:\n",
    "    print(ls.v)"
   ]
  },
  {
   "cell_type": "code",
   "execution_count": 27,
   "metadata": {
    "collapsed": false,
    "pycharm": {
     "name": "#%%\n"
    }
   },
   "outputs": [
    {
     "data": {
      "text/plain": [
       "[' ',\n",
       " ' ',\n",
       " 'a',\n",
       " 'a',\n",
       " 'c',\n",
       " 'c',\n",
       " 'd',\n",
       " 'e',\n",
       " 'h',\n",
       " 'm',\n",
       " 'n',\n",
       " 'n',\n",
       " 'o',\n",
       " 'o',\n",
       " 'o',\n",
       " 'u']"
      ]
     },
     "execution_count": 27,
     "metadata": {},
     "output_type": "execute_result"
    }
   ],
   "source": [
    "string = 'duanchao come on'\n",
    "sorted(string)  # 对字符串进行排序"
   ]
  },
  {
   "cell_type": "code",
   "execution_count": 28,
   "metadata": {
    "collapsed": false,
    "pycharm": {
     "name": "#%%\n"
    }
   },
   "outputs": [
    {
     "data": {
      "text/plain": [
       "[1, 2, 3, 5, 7, 25, 53, 61]"
      ]
     },
     "execution_count": 28,
     "metadata": {},
     "output_type": "execute_result"
    }
   ],
   "source": [
    "tuple_ = (3, 2, 1, 5, 61, 53, 25, 7)\n",
    "sorted(tuple_)  # 对元组进行排序"
   ]
  }
 ],
 "metadata": {
  "kernelspec": {
   "display_name": "Python 3",
   "language": "python",
   "name": "python3"
  },
  "language_info": {
   "codemirror_mode": {
    "name": "ipython",
    "version": 3
   },
   "file_extension": ".py",
   "mimetype": "text/x-python",
   "name": "python",
   "nbconvert_exporter": "python",
   "pygments_lexer": "ipython3",
   "version": "3.10.12"
  }
 },
 "nbformat": 4,
 "nbformat_minor": 0
}
