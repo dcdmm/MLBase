{
 "cells": [
  {
   "cell_type": "markdown",
   "metadata": {
    "collapsed": true,
    "pycharm": {
     "name": "#%% md\n"
    }
   },
   "source": [
    "it was pretrained with three objectives:\n",
    "\n",
    "* Distillation loss: the model was trained to return the same probabilities as the BERT base model.\n",
    "* Masked language modeling (MLM): this is part of the original training loss of the BERT base model. When taking a sentence, the model randomly masks 15% of the words in the input then run the entire masked sentence through the model and has to predict the masked words. This is different from traditional recurrent neural networks (RNNs) that usually see the words one after the other, or from autoregressive models like GPT which internally mask the future tokens. It allows the model to learn a bidirectional representation of the sentence.\n",
    "* Cosine embedding loss: the model was also trained to generate hidden states as close as possible as the BERT base model."
   ]
  },
  {
   "cell_type": "code",
   "execution_count": 10,
   "outputs": [],
   "source": [
    "from transformers import DistilBertTokenizer, DistilBertModel"
   ],
   "metadata": {
    "collapsed": false,
    "pycharm": {
     "name": "#%%\n"
    }
   }
  },
  {
   "cell_type": "code",
   "execution_count": 11,
   "outputs": [
    {
     "name": "stdout",
     "output_type": "stream",
     "text": [
      "['input_ids', 'attention_mask']\n",
      "['[UNK]', '[SEP]', '[PAD]', '[CLS]', '[MASK]']\n"
     ]
    }
   ],
   "source": [
    "tokenizer = DistilBertTokenizer.from_pretrained('distilbert-base-uncased')\n",
    "print(tokenizer.model_input_names)\n",
    "print(tokenizer.all_special_tokens)"
   ],
   "metadata": {
    "collapsed": false,
    "pycharm": {
     "name": "#%%\n"
    }
   }
  },
  {
   "cell_type": "code",
   "execution_count": 12,
   "outputs": [
    {
     "name": "stderr",
     "output_type": "stream",
     "text": [
      "You are using a model of type bert to instantiate a model of type distilbert. This is not supported for all configurations of models and can yield errors.\n",
      "Some weights of the model checkpoint at bert-base-uncased were not used when initializing DistilBertModel: ['bert.embeddings.LayerNorm.bias', 'bert.encoder.layer.11.attention.self.key.weight', 'bert.encoder.layer.0.attention.output.dense.bias', 'bert.encoder.layer.6.attention.output.dense.weight', 'bert.encoder.layer.4.attention.self.query.bias', 'bert.encoder.layer.1.attention.self.value.bias', 'bert.encoder.layer.10.output.LayerNorm.bias', 'bert.encoder.layer.3.attention.self.key.weight', 'bert.encoder.layer.2.attention.self.query.weight', 'bert.encoder.layer.4.attention.self.query.weight', 'bert.encoder.layer.5.attention.self.key.bias', 'bert.encoder.layer.6.attention.self.value.weight', 'bert.encoder.layer.6.attention.output.LayerNorm.weight', 'bert.encoder.layer.1.attention.output.dense.bias', 'bert.encoder.layer.4.attention.self.key.bias', 'bert.encoder.layer.4.attention.self.value.weight', 'bert.encoder.layer.3.output.LayerNorm.bias', 'bert.encoder.layer.7.output.LayerNorm.weight', 'bert.encoder.layer.0.attention.self.value.bias', 'bert.encoder.layer.9.intermediate.dense.bias', 'bert.encoder.layer.1.intermediate.dense.bias', 'bert.encoder.layer.0.output.LayerNorm.weight', 'bert.encoder.layer.5.output.LayerNorm.weight', 'bert.encoder.layer.11.attention.self.query.weight', 'bert.encoder.layer.5.intermediate.dense.weight', 'bert.encoder.layer.2.output.LayerNorm.weight', 'bert.encoder.layer.5.output.LayerNorm.bias', 'bert.encoder.layer.3.attention.self.key.bias', 'bert.encoder.layer.11.attention.output.dense.weight', 'bert.encoder.layer.4.attention.self.value.bias', 'bert.encoder.layer.3.attention.output.dense.weight', 'bert.encoder.layer.2.attention.self.key.weight', 'bert.encoder.layer.2.output.LayerNorm.bias', 'bert.encoder.layer.10.attention.self.value.weight', 'bert.encoder.layer.11.attention.output.dense.bias', 'bert.encoder.layer.7.attention.self.query.weight', 'bert.encoder.layer.10.attention.output.LayerNorm.weight', 'bert.encoder.layer.8.attention.output.LayerNorm.weight', 'bert.encoder.layer.4.output.LayerNorm.bias', 'bert.encoder.layer.5.attention.self.value.bias', 'bert.encoder.layer.11.intermediate.dense.bias', 'bert.encoder.layer.6.attention.self.query.bias', 'bert.encoder.layer.9.output.LayerNorm.weight', 'bert.encoder.layer.3.intermediate.dense.weight', 'bert.encoder.layer.0.intermediate.dense.bias', 'bert.encoder.layer.9.attention.self.key.weight', 'bert.encoder.layer.10.intermediate.dense.weight', 'bert.encoder.layer.6.attention.self.key.weight', 'bert.encoder.layer.4.attention.output.dense.weight', 'bert.encoder.layer.7.intermediate.dense.weight', 'bert.embeddings.LayerNorm.weight', 'bert.encoder.layer.8.attention.output.LayerNorm.bias', 'bert.encoder.layer.6.attention.self.query.weight', 'bert.encoder.layer.5.attention.self.value.weight', 'bert.encoder.layer.10.attention.output.dense.bias', 'bert.encoder.layer.3.attention.output.dense.bias', 'bert.encoder.layer.2.attention.output.LayerNorm.bias', 'bert.encoder.layer.0.attention.self.query.weight', 'bert.pooler.dense.weight', 'bert.encoder.layer.7.attention.self.key.weight', 'bert.encoder.layer.9.output.LayerNorm.bias', 'cls.predictions.transform.LayerNorm.weight', 'bert.encoder.layer.3.attention.output.LayerNorm.weight', 'bert.encoder.layer.7.attention.self.key.bias', 'bert.encoder.layer.3.output.dense.weight', 'bert.encoder.layer.1.output.LayerNorm.bias', 'bert.encoder.layer.2.attention.self.value.bias', 'bert.encoder.layer.8.attention.self.query.weight', 'bert.encoder.layer.8.attention.self.value.weight', 'bert.encoder.layer.9.attention.self.query.bias', 'bert.encoder.layer.1.attention.output.dense.weight', 'cls.predictions.transform.dense.bias', 'cls.predictions.transform.LayerNorm.bias', 'bert.encoder.layer.0.output.LayerNorm.bias', 'bert.encoder.layer.6.intermediate.dense.weight', 'bert.encoder.layer.2.attention.self.value.weight', 'bert.encoder.layer.7.intermediate.dense.bias', 'bert.encoder.layer.11.output.dense.bias', 'bert.encoder.layer.6.output.LayerNorm.bias', 'bert.encoder.layer.2.intermediate.dense.bias', 'bert.encoder.layer.11.output.dense.weight', 'bert.encoder.layer.11.output.LayerNorm.weight', 'bert.encoder.layer.8.attention.self.query.bias', 'bert.encoder.layer.4.attention.output.LayerNorm.bias', 'bert.encoder.layer.0.output.dense.bias', 'bert.encoder.layer.3.attention.self.value.bias', 'bert.encoder.layer.0.output.dense.weight', 'bert.encoder.layer.9.attention.self.key.bias', 'bert.encoder.layer.5.output.dense.weight', 'bert.encoder.layer.10.attention.self.value.bias', 'bert.encoder.layer.6.attention.output.LayerNorm.bias', 'cls.seq_relationship.weight', 'bert.encoder.layer.1.attention.self.query.weight', 'bert.encoder.layer.4.output.LayerNorm.weight', 'cls.predictions.transform.dense.weight', 'bert.encoder.layer.3.attention.self.value.weight', 'bert.encoder.layer.11.intermediate.dense.weight', 'bert.encoder.layer.2.attention.self.query.bias', 'bert.encoder.layer.11.attention.self.value.weight', 'bert.encoder.layer.7.attention.output.dense.weight', 'bert.encoder.layer.10.output.LayerNorm.weight', 'bert.encoder.layer.6.attention.output.dense.bias', 'bert.encoder.layer.5.attention.output.dense.weight', 'bert.encoder.layer.4.attention.self.key.weight', 'bert.encoder.layer.5.attention.self.query.weight', 'bert.encoder.layer.1.attention.output.LayerNorm.weight', 'bert.encoder.layer.1.attention.self.key.weight', 'bert.encoder.layer.2.intermediate.dense.weight', 'bert.encoder.layer.10.attention.self.key.weight', 'bert.encoder.layer.2.attention.output.LayerNorm.weight', 'bert.encoder.layer.6.attention.self.key.bias', 'bert.encoder.layer.0.attention.output.LayerNorm.bias', 'bert.encoder.layer.9.attention.self.value.weight', 'bert.encoder.layer.5.attention.output.LayerNorm.weight', 'bert.encoder.layer.10.attention.output.LayerNorm.bias', 'bert.embeddings.word_embeddings.weight', 'bert.encoder.layer.9.output.dense.bias', 'bert.encoder.layer.6.output.LayerNorm.weight', 'bert.encoder.layer.2.output.dense.bias', 'bert.encoder.layer.0.attention.self.key.bias', 'bert.encoder.layer.8.attention.output.dense.bias', 'bert.encoder.layer.11.attention.self.value.bias', 'bert.encoder.layer.3.attention.output.LayerNorm.bias', 'bert.encoder.layer.8.output.LayerNorm.weight', 'bert.encoder.layer.8.attention.output.dense.weight', 'bert.encoder.layer.4.attention.output.dense.bias', 'bert.encoder.layer.3.attention.self.query.weight', 'bert.encoder.layer.4.intermediate.dense.bias', 'bert.encoder.layer.9.attention.self.value.bias', 'bert.encoder.layer.9.attention.output.dense.bias', 'bert.encoder.layer.5.output.dense.bias', 'bert.encoder.layer.8.attention.self.key.bias', 'bert.encoder.layer.1.attention.self.value.weight', 'cls.seq_relationship.bias', 'bert.encoder.layer.10.attention.self.key.bias', 'bert.encoder.layer.9.intermediate.dense.weight', 'bert.encoder.layer.1.attention.self.query.bias', 'bert.encoder.layer.5.attention.output.dense.bias', 'bert.encoder.layer.10.attention.self.query.weight', 'bert.encoder.layer.1.output.dense.bias', 'bert.encoder.layer.10.attention.self.query.bias', 'bert.encoder.layer.1.attention.self.key.bias', 'bert.encoder.layer.7.attention.self.value.weight', 'bert.encoder.layer.9.attention.output.dense.weight', 'bert.encoder.layer.8.attention.self.key.weight', 'bert.encoder.layer.11.attention.self.key.bias', 'bert.encoder.layer.5.intermediate.dense.bias', 'bert.encoder.layer.3.intermediate.dense.bias', 'bert.encoder.layer.4.output.dense.bias', 'bert.encoder.layer.9.attention.output.LayerNorm.bias', 'bert.encoder.layer.4.output.dense.weight', 'bert.encoder.layer.11.output.LayerNorm.bias', 'bert.encoder.layer.7.attention.output.dense.bias', 'bert.encoder.layer.10.output.dense.weight', 'bert.embeddings.position_embeddings.weight', 'bert.encoder.layer.8.attention.self.value.bias', 'bert.pooler.dense.bias', 'bert.encoder.layer.10.output.dense.bias', 'bert.encoder.layer.7.output.dense.bias', 'bert.encoder.layer.11.attention.self.query.bias', 'bert.encoder.layer.6.output.dense.weight', 'bert.encoder.layer.8.intermediate.dense.weight', 'bert.encoder.layer.6.intermediate.dense.bias', 'bert.encoder.layer.9.output.dense.weight', 'bert.encoder.layer.8.output.LayerNorm.bias', 'bert.encoder.layer.2.attention.self.key.bias', 'bert.encoder.layer.9.attention.output.LayerNorm.weight', 'bert.encoder.layer.8.output.dense.weight', 'bert.encoder.layer.0.attention.self.query.bias', 'bert.embeddings.token_type_embeddings.weight', 'bert.encoder.layer.5.attention.self.key.weight', 'bert.encoder.layer.6.attention.self.value.bias', 'bert.encoder.layer.5.attention.output.LayerNorm.bias', 'bert.encoder.layer.0.attention.output.LayerNorm.weight', 'bert.encoder.layer.7.output.dense.weight', 'bert.encoder.layer.1.intermediate.dense.weight', 'bert.encoder.layer.2.attention.output.dense.bias', 'bert.encoder.layer.2.attention.output.dense.weight', 'bert.encoder.layer.7.attention.output.LayerNorm.weight', 'bert.encoder.layer.10.intermediate.dense.bias', 'bert.encoder.layer.4.attention.output.LayerNorm.weight', 'bert.encoder.layer.7.output.LayerNorm.bias', 'bert.encoder.layer.10.attention.output.dense.weight', 'bert.encoder.layer.6.output.dense.bias', 'cls.predictions.bias', 'bert.encoder.layer.9.attention.self.query.weight', 'bert.encoder.layer.0.attention.output.dense.weight', 'cls.predictions.decoder.weight', 'bert.encoder.layer.4.intermediate.dense.weight', 'bert.encoder.layer.5.attention.self.query.bias', 'bert.encoder.layer.7.attention.self.value.bias', 'bert.encoder.layer.1.attention.output.LayerNorm.bias', 'bert.encoder.layer.7.attention.output.LayerNorm.bias', 'bert.encoder.layer.11.attention.output.LayerNorm.weight', 'bert.encoder.layer.11.attention.output.LayerNorm.bias', 'bert.encoder.layer.0.attention.self.value.weight', 'bert.encoder.layer.0.attention.self.key.weight', 'bert.encoder.layer.3.attention.self.query.bias', 'bert.encoder.layer.3.output.LayerNorm.weight', 'bert.encoder.layer.7.attention.self.query.bias', 'bert.encoder.layer.1.output.LayerNorm.weight', 'bert.encoder.layer.0.intermediate.dense.weight', 'bert.encoder.layer.2.output.dense.weight', 'bert.encoder.layer.8.output.dense.bias', 'bert.encoder.layer.3.output.dense.bias', 'bert.encoder.layer.8.intermediate.dense.bias', 'bert.encoder.layer.1.output.dense.weight']\n",
      "- This IS expected if you are initializing DistilBertModel from the checkpoint of a model trained on another task or with another architecture (e.g. initializing a BertForSequenceClassification model from a BertForPreTraining model).\n",
      "- This IS NOT expected if you are initializing DistilBertModel from the checkpoint of a model that you expect to be exactly identical (initializing a BertForSequenceClassification model from a BertForSequenceClassification model).\n",
      "Some weights of DistilBertModel were not initialized from the model checkpoint at bert-base-uncased and are newly initialized: ['transformer.layer.10.ffn.lin2.weight', 'transformer.layer.8.sa_layer_norm.bias', 'transformer.layer.2.ffn.lin2.bias', 'transformer.layer.2.sa_layer_norm.weight', 'transformer.layer.4.output_layer_norm.weight', 'transformer.layer.3.output_layer_norm.bias', 'transformer.layer.2.attention.q_lin.bias', 'transformer.layer.8.attention.q_lin.weight', 'transformer.layer.10.sa_layer_norm.weight', 'transformer.layer.4.output_layer_norm.bias', 'transformer.layer.11.attention.k_lin.bias', 'transformer.layer.4.ffn.lin1.weight', 'transformer.layer.11.ffn.lin2.weight', 'transformer.layer.11.sa_layer_norm.bias', 'transformer.layer.1.output_layer_norm.bias', 'transformer.layer.0.attention.k_lin.bias', 'transformer.layer.8.ffn.lin1.bias', 'transformer.layer.11.attention.v_lin.weight', 'transformer.layer.5.attention.k_lin.weight', 'transformer.layer.10.ffn.lin2.bias', 'transformer.layer.1.ffn.lin1.weight', 'transformer.layer.3.ffn.lin2.weight', 'transformer.layer.3.attention.out_lin.weight', 'transformer.layer.5.ffn.lin1.bias', 'transformer.layer.8.attention.q_lin.bias', 'transformer.layer.9.attention.out_lin.weight', 'transformer.layer.0.ffn.lin1.bias', 'transformer.layer.10.attention.out_lin.weight', 'transformer.layer.10.attention.q_lin.bias', 'transformer.layer.0.attention.q_lin.bias', 'transformer.layer.1.attention.v_lin.bias', 'transformer.layer.6.ffn.lin2.weight', 'transformer.layer.5.ffn.lin1.weight', 'transformer.layer.10.attention.out_lin.bias', 'transformer.layer.2.ffn.lin1.bias', 'transformer.layer.8.attention.v_lin.bias', 'transformer.layer.3.output_layer_norm.weight', 'transformer.layer.0.sa_layer_norm.weight', 'transformer.layer.6.attention.v_lin.bias', 'transformer.layer.6.ffn.lin1.bias', 'transformer.layer.0.output_layer_norm.weight', 'transformer.layer.5.attention.v_lin.weight', 'transformer.layer.5.attention.out_lin.weight', 'transformer.layer.8.ffn.lin2.weight', 'transformer.layer.0.sa_layer_norm.bias', 'transformer.layer.1.attention.q_lin.weight', 'transformer.layer.2.ffn.lin2.weight', 'transformer.layer.7.sa_layer_norm.weight', 'transformer.layer.7.output_layer_norm.bias', 'transformer.layer.3.ffn.lin2.bias', 'transformer.layer.4.sa_layer_norm.weight', 'transformer.layer.4.attention.k_lin.bias', 'transformer.layer.8.attention.out_lin.bias', 'transformer.layer.9.attention.q_lin.weight', 'transformer.layer.1.attention.k_lin.weight', 'transformer.layer.11.attention.q_lin.weight', 'transformer.layer.5.attention.q_lin.bias', 'transformer.layer.8.output_layer_norm.weight', 'transformer.layer.11.ffn.lin2.bias', 'transformer.layer.6.sa_layer_norm.weight', 'transformer.layer.7.ffn.lin2.weight', 'transformer.layer.2.attention.k_lin.weight', 'transformer.layer.7.ffn.lin1.bias', 'transformer.layer.5.ffn.lin2.bias', 'transformer.layer.2.sa_layer_norm.bias', 'transformer.layer.7.attention.q_lin.bias', 'transformer.layer.1.attention.k_lin.bias', 'transformer.layer.11.attention.out_lin.weight', 'transformer.layer.5.output_layer_norm.bias', 'transformer.layer.8.attention.out_lin.weight', 'transformer.layer.6.attention.q_lin.bias', 'transformer.layer.10.sa_layer_norm.bias', 'transformer.layer.8.attention.v_lin.weight', 'transformer.layer.1.ffn.lin2.weight', 'transformer.layer.0.ffn.lin2.weight', 'transformer.layer.2.attention.k_lin.bias', 'transformer.layer.3.sa_layer_norm.weight', 'transformer.layer.11.output_layer_norm.bias', 'transformer.layer.3.attention.v_lin.bias', 'transformer.layer.0.ffn.lin1.weight', 'embeddings.position_embeddings.weight', 'transformer.layer.11.attention.out_lin.bias', 'transformer.layer.5.sa_layer_norm.bias', 'transformer.layer.8.attention.k_lin.bias', 'transformer.layer.6.ffn.lin2.bias', 'transformer.layer.11.ffn.lin1.bias', 'transformer.layer.1.attention.out_lin.bias', 'transformer.layer.5.attention.v_lin.bias', 'transformer.layer.2.output_layer_norm.weight', 'transformer.layer.3.ffn.lin1.weight', 'transformer.layer.6.ffn.lin1.weight', 'transformer.layer.4.ffn.lin1.bias', 'transformer.layer.0.attention.out_lin.bias', 'transformer.layer.4.attention.k_lin.weight', 'transformer.layer.9.ffn.lin1.bias', 'transformer.layer.3.attention.q_lin.bias', 'transformer.layer.9.sa_layer_norm.weight', 'transformer.layer.7.attention.k_lin.bias', 'transformer.layer.2.output_layer_norm.bias', 'transformer.layer.10.output_layer_norm.bias', 'transformer.layer.1.output_layer_norm.weight', 'embeddings.LayerNorm.bias', 'transformer.layer.7.ffn.lin1.weight', 'transformer.layer.0.attention.v_lin.weight', 'transformer.layer.1.ffn.lin2.bias', 'transformer.layer.0.attention.q_lin.weight', 'transformer.layer.10.attention.q_lin.weight', 'transformer.layer.6.output_layer_norm.bias', 'transformer.layer.4.sa_layer_norm.bias', 'transformer.layer.3.sa_layer_norm.bias', 'transformer.layer.1.ffn.lin1.bias', 'transformer.layer.10.ffn.lin1.bias', 'transformer.layer.7.sa_layer_norm.bias', 'transformer.layer.0.attention.out_lin.weight', 'transformer.layer.1.attention.v_lin.weight', 'transformer.layer.6.attention.out_lin.bias', 'transformer.layer.8.sa_layer_norm.weight', 'transformer.layer.9.output_layer_norm.bias', 'transformer.layer.10.attention.k_lin.weight', 'transformer.layer.2.attention.out_lin.weight', 'transformer.layer.6.sa_layer_norm.bias', 'transformer.layer.11.attention.k_lin.weight', 'transformer.layer.3.attention.q_lin.weight', 'transformer.layer.3.attention.out_lin.bias', 'transformer.layer.4.ffn.lin2.bias', 'transformer.layer.7.attention.k_lin.weight', 'embeddings.word_embeddings.weight', 'transformer.layer.2.attention.v_lin.weight', 'transformer.layer.4.attention.v_lin.weight', 'transformer.layer.6.attention.q_lin.weight', 'transformer.layer.4.attention.out_lin.bias', 'transformer.layer.8.ffn.lin2.bias', 'transformer.layer.7.attention.q_lin.weight', 'transformer.layer.0.ffn.lin2.bias', 'transformer.layer.7.attention.out_lin.bias', 'transformer.layer.11.attention.q_lin.bias', 'transformer.layer.11.attention.v_lin.bias', 'transformer.layer.7.attention.out_lin.weight', 'transformer.layer.7.attention.v_lin.bias', 'transformer.layer.2.attention.v_lin.bias', 'transformer.layer.9.attention.q_lin.bias', 'transformer.layer.2.attention.q_lin.weight', 'transformer.layer.10.attention.v_lin.weight', 'transformer.layer.11.ffn.lin1.weight', 'transformer.layer.1.sa_layer_norm.bias', 'transformer.layer.7.output_layer_norm.weight', 'transformer.layer.9.attention.v_lin.weight', 'transformer.layer.9.ffn.lin2.bias', 'transformer.layer.10.attention.k_lin.bias', 'transformer.layer.2.ffn.lin1.weight', 'transformer.layer.9.attention.v_lin.bias', 'transformer.layer.9.attention.out_lin.bias', 'transformer.layer.6.attention.v_lin.weight', 'transformer.layer.2.attention.out_lin.bias', 'transformer.layer.10.ffn.lin1.weight', 'transformer.layer.11.sa_layer_norm.weight', 'transformer.layer.5.attention.out_lin.bias', 'transformer.layer.10.output_layer_norm.weight', 'transformer.layer.3.attention.k_lin.weight', 'transformer.layer.8.attention.k_lin.weight', 'transformer.layer.11.output_layer_norm.weight', 'transformer.layer.8.output_layer_norm.bias', 'transformer.layer.3.attention.k_lin.bias', 'transformer.layer.10.attention.v_lin.bias', 'transformer.layer.3.attention.v_lin.weight', 'transformer.layer.4.ffn.lin2.weight', 'transformer.layer.6.attention.k_lin.weight', 'transformer.layer.6.attention.out_lin.weight', 'transformer.layer.9.output_layer_norm.weight', 'transformer.layer.1.attention.q_lin.bias', 'transformer.layer.9.ffn.lin1.weight', 'transformer.layer.1.sa_layer_norm.weight', 'transformer.layer.0.output_layer_norm.bias', 'transformer.layer.5.ffn.lin2.weight', 'transformer.layer.1.attention.out_lin.weight', 'transformer.layer.5.attention.k_lin.bias', 'transformer.layer.9.attention.k_lin.weight', 'transformer.layer.8.ffn.lin1.weight', 'transformer.layer.6.attention.k_lin.bias', 'transformer.layer.0.attention.k_lin.weight', 'transformer.layer.6.output_layer_norm.weight', 'transformer.layer.7.ffn.lin2.bias', 'transformer.layer.4.attention.v_lin.bias', 'transformer.layer.9.ffn.lin2.weight', 'transformer.layer.5.sa_layer_norm.weight', 'embeddings.LayerNorm.weight', 'transformer.layer.9.attention.k_lin.bias', 'transformer.layer.5.output_layer_norm.weight', 'transformer.layer.3.ffn.lin1.bias', 'transformer.layer.4.attention.out_lin.weight', 'transformer.layer.0.attention.v_lin.bias', 'transformer.layer.4.attention.q_lin.weight', 'transformer.layer.9.sa_layer_norm.bias', 'transformer.layer.4.attention.q_lin.bias', 'transformer.layer.5.attention.q_lin.weight', 'transformer.layer.7.attention.v_lin.weight']\n",
      "You should probably TRAIN this model on a down-stream task to be able to use it for predictions and inference.\n"
     ]
    },
    {
     "data": {
      "text/plain": "DistilBertModel(\n  (embeddings): Embeddings(\n    (word_embeddings): Embedding(30522, 768, padding_idx=0)\n    (position_embeddings): Embedding(512, 768)\n    (LayerNorm): LayerNorm((768,), eps=1e-12, elementwise_affine=True)\n    (dropout): Dropout(p=0.1, inplace=False)\n  )\n  (transformer): Transformer(\n    (layer): ModuleList(\n      (0): TransformerBlock(\n        (attention): MultiHeadSelfAttention(\n          (dropout): Dropout(p=0.1, inplace=False)\n          (q_lin): Linear(in_features=768, out_features=768, bias=True)\n          (k_lin): Linear(in_features=768, out_features=768, bias=True)\n          (v_lin): Linear(in_features=768, out_features=768, bias=True)\n          (out_lin): Linear(in_features=768, out_features=768, bias=True)\n        )\n        (sa_layer_norm): LayerNorm((768,), eps=1e-12, elementwise_affine=True)\n        (ffn): FFN(\n          (dropout): Dropout(p=0.1, inplace=False)\n          (lin1): Linear(in_features=768, out_features=3072, bias=True)\n          (lin2): Linear(in_features=3072, out_features=768, bias=True)\n          (activation): GELUActivation()\n        )\n        (output_layer_norm): LayerNorm((768,), eps=1e-12, elementwise_affine=True)\n      )\n      (1): TransformerBlock(\n        (attention): MultiHeadSelfAttention(\n          (dropout): Dropout(p=0.1, inplace=False)\n          (q_lin): Linear(in_features=768, out_features=768, bias=True)\n          (k_lin): Linear(in_features=768, out_features=768, bias=True)\n          (v_lin): Linear(in_features=768, out_features=768, bias=True)\n          (out_lin): Linear(in_features=768, out_features=768, bias=True)\n        )\n        (sa_layer_norm): LayerNorm((768,), eps=1e-12, elementwise_affine=True)\n        (ffn): FFN(\n          (dropout): Dropout(p=0.1, inplace=False)\n          (lin1): Linear(in_features=768, out_features=3072, bias=True)\n          (lin2): Linear(in_features=3072, out_features=768, bias=True)\n          (activation): GELUActivation()\n        )\n        (output_layer_norm): LayerNorm((768,), eps=1e-12, elementwise_affine=True)\n      )\n      (2): TransformerBlock(\n        (attention): MultiHeadSelfAttention(\n          (dropout): Dropout(p=0.1, inplace=False)\n          (q_lin): Linear(in_features=768, out_features=768, bias=True)\n          (k_lin): Linear(in_features=768, out_features=768, bias=True)\n          (v_lin): Linear(in_features=768, out_features=768, bias=True)\n          (out_lin): Linear(in_features=768, out_features=768, bias=True)\n        )\n        (sa_layer_norm): LayerNorm((768,), eps=1e-12, elementwise_affine=True)\n        (ffn): FFN(\n          (dropout): Dropout(p=0.1, inplace=False)\n          (lin1): Linear(in_features=768, out_features=3072, bias=True)\n          (lin2): Linear(in_features=3072, out_features=768, bias=True)\n          (activation): GELUActivation()\n        )\n        (output_layer_norm): LayerNorm((768,), eps=1e-12, elementwise_affine=True)\n      )\n      (3): TransformerBlock(\n        (attention): MultiHeadSelfAttention(\n          (dropout): Dropout(p=0.1, inplace=False)\n          (q_lin): Linear(in_features=768, out_features=768, bias=True)\n          (k_lin): Linear(in_features=768, out_features=768, bias=True)\n          (v_lin): Linear(in_features=768, out_features=768, bias=True)\n          (out_lin): Linear(in_features=768, out_features=768, bias=True)\n        )\n        (sa_layer_norm): LayerNorm((768,), eps=1e-12, elementwise_affine=True)\n        (ffn): FFN(\n          (dropout): Dropout(p=0.1, inplace=False)\n          (lin1): Linear(in_features=768, out_features=3072, bias=True)\n          (lin2): Linear(in_features=3072, out_features=768, bias=True)\n          (activation): GELUActivation()\n        )\n        (output_layer_norm): LayerNorm((768,), eps=1e-12, elementwise_affine=True)\n      )\n      (4): TransformerBlock(\n        (attention): MultiHeadSelfAttention(\n          (dropout): Dropout(p=0.1, inplace=False)\n          (q_lin): Linear(in_features=768, out_features=768, bias=True)\n          (k_lin): Linear(in_features=768, out_features=768, bias=True)\n          (v_lin): Linear(in_features=768, out_features=768, bias=True)\n          (out_lin): Linear(in_features=768, out_features=768, bias=True)\n        )\n        (sa_layer_norm): LayerNorm((768,), eps=1e-12, elementwise_affine=True)\n        (ffn): FFN(\n          (dropout): Dropout(p=0.1, inplace=False)\n          (lin1): Linear(in_features=768, out_features=3072, bias=True)\n          (lin2): Linear(in_features=3072, out_features=768, bias=True)\n          (activation): GELUActivation()\n        )\n        (output_layer_norm): LayerNorm((768,), eps=1e-12, elementwise_affine=True)\n      )\n      (5): TransformerBlock(\n        (attention): MultiHeadSelfAttention(\n          (dropout): Dropout(p=0.1, inplace=False)\n          (q_lin): Linear(in_features=768, out_features=768, bias=True)\n          (k_lin): Linear(in_features=768, out_features=768, bias=True)\n          (v_lin): Linear(in_features=768, out_features=768, bias=True)\n          (out_lin): Linear(in_features=768, out_features=768, bias=True)\n        )\n        (sa_layer_norm): LayerNorm((768,), eps=1e-12, elementwise_affine=True)\n        (ffn): FFN(\n          (dropout): Dropout(p=0.1, inplace=False)\n          (lin1): Linear(in_features=768, out_features=3072, bias=True)\n          (lin2): Linear(in_features=3072, out_features=768, bias=True)\n          (activation): GELUActivation()\n        )\n        (output_layer_norm): LayerNorm((768,), eps=1e-12, elementwise_affine=True)\n      )\n      (6): TransformerBlock(\n        (attention): MultiHeadSelfAttention(\n          (dropout): Dropout(p=0.1, inplace=False)\n          (q_lin): Linear(in_features=768, out_features=768, bias=True)\n          (k_lin): Linear(in_features=768, out_features=768, bias=True)\n          (v_lin): Linear(in_features=768, out_features=768, bias=True)\n          (out_lin): Linear(in_features=768, out_features=768, bias=True)\n        )\n        (sa_layer_norm): LayerNorm((768,), eps=1e-12, elementwise_affine=True)\n        (ffn): FFN(\n          (dropout): Dropout(p=0.1, inplace=False)\n          (lin1): Linear(in_features=768, out_features=3072, bias=True)\n          (lin2): Linear(in_features=3072, out_features=768, bias=True)\n          (activation): GELUActivation()\n        )\n        (output_layer_norm): LayerNorm((768,), eps=1e-12, elementwise_affine=True)\n      )\n      (7): TransformerBlock(\n        (attention): MultiHeadSelfAttention(\n          (dropout): Dropout(p=0.1, inplace=False)\n          (q_lin): Linear(in_features=768, out_features=768, bias=True)\n          (k_lin): Linear(in_features=768, out_features=768, bias=True)\n          (v_lin): Linear(in_features=768, out_features=768, bias=True)\n          (out_lin): Linear(in_features=768, out_features=768, bias=True)\n        )\n        (sa_layer_norm): LayerNorm((768,), eps=1e-12, elementwise_affine=True)\n        (ffn): FFN(\n          (dropout): Dropout(p=0.1, inplace=False)\n          (lin1): Linear(in_features=768, out_features=3072, bias=True)\n          (lin2): Linear(in_features=3072, out_features=768, bias=True)\n          (activation): GELUActivation()\n        )\n        (output_layer_norm): LayerNorm((768,), eps=1e-12, elementwise_affine=True)\n      )\n      (8): TransformerBlock(\n        (attention): MultiHeadSelfAttention(\n          (dropout): Dropout(p=0.1, inplace=False)\n          (q_lin): Linear(in_features=768, out_features=768, bias=True)\n          (k_lin): Linear(in_features=768, out_features=768, bias=True)\n          (v_lin): Linear(in_features=768, out_features=768, bias=True)\n          (out_lin): Linear(in_features=768, out_features=768, bias=True)\n        )\n        (sa_layer_norm): LayerNorm((768,), eps=1e-12, elementwise_affine=True)\n        (ffn): FFN(\n          (dropout): Dropout(p=0.1, inplace=False)\n          (lin1): Linear(in_features=768, out_features=3072, bias=True)\n          (lin2): Linear(in_features=3072, out_features=768, bias=True)\n          (activation): GELUActivation()\n        )\n        (output_layer_norm): LayerNorm((768,), eps=1e-12, elementwise_affine=True)\n      )\n      (9): TransformerBlock(\n        (attention): MultiHeadSelfAttention(\n          (dropout): Dropout(p=0.1, inplace=False)\n          (q_lin): Linear(in_features=768, out_features=768, bias=True)\n          (k_lin): Linear(in_features=768, out_features=768, bias=True)\n          (v_lin): Linear(in_features=768, out_features=768, bias=True)\n          (out_lin): Linear(in_features=768, out_features=768, bias=True)\n        )\n        (sa_layer_norm): LayerNorm((768,), eps=1e-12, elementwise_affine=True)\n        (ffn): FFN(\n          (dropout): Dropout(p=0.1, inplace=False)\n          (lin1): Linear(in_features=768, out_features=3072, bias=True)\n          (lin2): Linear(in_features=3072, out_features=768, bias=True)\n          (activation): GELUActivation()\n        )\n        (output_layer_norm): LayerNorm((768,), eps=1e-12, elementwise_affine=True)\n      )\n      (10): TransformerBlock(\n        (attention): MultiHeadSelfAttention(\n          (dropout): Dropout(p=0.1, inplace=False)\n          (q_lin): Linear(in_features=768, out_features=768, bias=True)\n          (k_lin): Linear(in_features=768, out_features=768, bias=True)\n          (v_lin): Linear(in_features=768, out_features=768, bias=True)\n          (out_lin): Linear(in_features=768, out_features=768, bias=True)\n        )\n        (sa_layer_norm): LayerNorm((768,), eps=1e-12, elementwise_affine=True)\n        (ffn): FFN(\n          (dropout): Dropout(p=0.1, inplace=False)\n          (lin1): Linear(in_features=768, out_features=3072, bias=True)\n          (lin2): Linear(in_features=3072, out_features=768, bias=True)\n          (activation): GELUActivation()\n        )\n        (output_layer_norm): LayerNorm((768,), eps=1e-12, elementwise_affine=True)\n      )\n      (11): TransformerBlock(\n        (attention): MultiHeadSelfAttention(\n          (dropout): Dropout(p=0.1, inplace=False)\n          (q_lin): Linear(in_features=768, out_features=768, bias=True)\n          (k_lin): Linear(in_features=768, out_features=768, bias=True)\n          (v_lin): Linear(in_features=768, out_features=768, bias=True)\n          (out_lin): Linear(in_features=768, out_features=768, bias=True)\n        )\n        (sa_layer_norm): LayerNorm((768,), eps=1e-12, elementwise_affine=True)\n        (ffn): FFN(\n          (dropout): Dropout(p=0.1, inplace=False)\n          (lin1): Linear(in_features=768, out_features=3072, bias=True)\n          (lin2): Linear(in_features=3072, out_features=768, bias=True)\n          (activation): GELUActivation()\n        )\n        (output_layer_norm): LayerNorm((768,), eps=1e-12, elementwise_affine=True)\n      )\n    )\n  )\n)"
     },
     "execution_count": 12,
     "metadata": {},
     "output_type": "execute_result"
    }
   ],
   "source": [
    "model = DistilBertModel.from_pretrained(\"bert-base-uncased\")\n",
    "model"
   ],
   "metadata": {
    "collapsed": false,
    "pycharm": {
     "name": "#%%\n"
    }
   }
  },
  {
   "cell_type": "code",
   "execution_count": 13,
   "outputs": [
    {
     "data": {
      "text/plain": "DistilBertConfig {\n  \"_name_or_path\": \"bert-base-uncased\",\n  \"activation\": \"gelu\",\n  \"architectures\": [\n    \"BertForMaskedLM\"\n  ],\n  \"attention_dropout\": 0.1,\n  \"attention_probs_dropout_prob\": 0.1,\n  \"dim\": 768,\n  \"dropout\": 0.1,\n  \"gradient_checkpointing\": false,\n  \"hidden_act\": \"gelu\",\n  \"hidden_dim\": 3072,\n  \"hidden_dropout_prob\": 0.1,\n  \"initializer_range\": 0.02,\n  \"intermediate_size\": 3072,\n  \"layer_norm_eps\": 1e-12,\n  \"max_position_embeddings\": 512,\n  \"model_type\": \"distilbert\",\n  \"n_heads\": 12,\n  \"n_layers\": 12,\n  \"pad_token_id\": 0,\n  \"position_embedding_type\": \"absolute\",\n  \"qa_dropout\": 0.1,\n  \"seq_classif_dropout\": 0.2,\n  \"sinusoidal_pos_embds\": false,\n  \"transformers_version\": \"4.17.0\",\n  \"type_vocab_size\": 2,\n  \"use_cache\": true,\n  \"vocab_size\": 30522\n}"
     },
     "execution_count": 13,
     "metadata": {},
     "output_type": "execute_result"
    }
   ],
   "source": [
    "model.config"
   ],
   "metadata": {
    "collapsed": false,
    "pycharm": {
     "name": "#%%\n"
    }
   }
  },
  {
   "cell_type": "code",
   "execution_count": 14,
   "outputs": [
    {
     "name": "stdout",
     "output_type": "stream",
     "text": [
      "embeddings.word_embeddings.weight\n",
      "embeddings.position_embeddings.weight\n",
      "embeddings.LayerNorm.weight\n",
      "embeddings.LayerNorm.bias\n",
      "transformer.layer.0.attention.q_lin.weight\n",
      "transformer.layer.0.attention.q_lin.bias\n",
      "transformer.layer.0.attention.k_lin.weight\n",
      "transformer.layer.0.attention.k_lin.bias\n",
      "transformer.layer.0.attention.v_lin.weight\n",
      "transformer.layer.0.attention.v_lin.bias\n",
      "transformer.layer.0.attention.out_lin.weight\n",
      "transformer.layer.0.attention.out_lin.bias\n",
      "transformer.layer.0.sa_layer_norm.weight\n",
      "transformer.layer.0.sa_layer_norm.bias\n",
      "transformer.layer.0.ffn.lin1.weight\n",
      "transformer.layer.0.ffn.lin1.bias\n",
      "transformer.layer.0.ffn.lin2.weight\n",
      "transformer.layer.0.ffn.lin2.bias\n",
      "transformer.layer.0.output_layer_norm.weight\n",
      "transformer.layer.0.output_layer_norm.bias\n",
      "transformer.layer.1.attention.q_lin.weight\n",
      "transformer.layer.1.attention.q_lin.bias\n",
      "transformer.layer.1.attention.k_lin.weight\n",
      "transformer.layer.1.attention.k_lin.bias\n",
      "transformer.layer.1.attention.v_lin.weight\n",
      "transformer.layer.1.attention.v_lin.bias\n",
      "transformer.layer.1.attention.out_lin.weight\n",
      "transformer.layer.1.attention.out_lin.bias\n",
      "transformer.layer.1.sa_layer_norm.weight\n",
      "transformer.layer.1.sa_layer_norm.bias\n",
      "transformer.layer.1.ffn.lin1.weight\n",
      "transformer.layer.1.ffn.lin1.bias\n",
      "transformer.layer.1.ffn.lin2.weight\n",
      "transformer.layer.1.ffn.lin2.bias\n",
      "transformer.layer.1.output_layer_norm.weight\n",
      "transformer.layer.1.output_layer_norm.bias\n",
      "transformer.layer.2.attention.q_lin.weight\n",
      "transformer.layer.2.attention.q_lin.bias\n",
      "transformer.layer.2.attention.k_lin.weight\n",
      "transformer.layer.2.attention.k_lin.bias\n",
      "transformer.layer.2.attention.v_lin.weight\n",
      "transformer.layer.2.attention.v_lin.bias\n",
      "transformer.layer.2.attention.out_lin.weight\n",
      "transformer.layer.2.attention.out_lin.bias\n",
      "transformer.layer.2.sa_layer_norm.weight\n",
      "transformer.layer.2.sa_layer_norm.bias\n",
      "transformer.layer.2.ffn.lin1.weight\n",
      "transformer.layer.2.ffn.lin1.bias\n",
      "transformer.layer.2.ffn.lin2.weight\n",
      "transformer.layer.2.ffn.lin2.bias\n",
      "transformer.layer.2.output_layer_norm.weight\n",
      "transformer.layer.2.output_layer_norm.bias\n",
      "transformer.layer.3.attention.q_lin.weight\n",
      "transformer.layer.3.attention.q_lin.bias\n",
      "transformer.layer.3.attention.k_lin.weight\n",
      "transformer.layer.3.attention.k_lin.bias\n",
      "transformer.layer.3.attention.v_lin.weight\n",
      "transformer.layer.3.attention.v_lin.bias\n",
      "transformer.layer.3.attention.out_lin.weight\n",
      "transformer.layer.3.attention.out_lin.bias\n",
      "transformer.layer.3.sa_layer_norm.weight\n",
      "transformer.layer.3.sa_layer_norm.bias\n",
      "transformer.layer.3.ffn.lin1.weight\n",
      "transformer.layer.3.ffn.lin1.bias\n",
      "transformer.layer.3.ffn.lin2.weight\n",
      "transformer.layer.3.ffn.lin2.bias\n",
      "transformer.layer.3.output_layer_norm.weight\n",
      "transformer.layer.3.output_layer_norm.bias\n",
      "transformer.layer.4.attention.q_lin.weight\n",
      "transformer.layer.4.attention.q_lin.bias\n",
      "transformer.layer.4.attention.k_lin.weight\n",
      "transformer.layer.4.attention.k_lin.bias\n",
      "transformer.layer.4.attention.v_lin.weight\n",
      "transformer.layer.4.attention.v_lin.bias\n",
      "transformer.layer.4.attention.out_lin.weight\n",
      "transformer.layer.4.attention.out_lin.bias\n",
      "transformer.layer.4.sa_layer_norm.weight\n",
      "transformer.layer.4.sa_layer_norm.bias\n",
      "transformer.layer.4.ffn.lin1.weight\n",
      "transformer.layer.4.ffn.lin1.bias\n",
      "transformer.layer.4.ffn.lin2.weight\n",
      "transformer.layer.4.ffn.lin2.bias\n",
      "transformer.layer.4.output_layer_norm.weight\n",
      "transformer.layer.4.output_layer_norm.bias\n",
      "transformer.layer.5.attention.q_lin.weight\n",
      "transformer.layer.5.attention.q_lin.bias\n",
      "transformer.layer.5.attention.k_lin.weight\n",
      "transformer.layer.5.attention.k_lin.bias\n",
      "transformer.layer.5.attention.v_lin.weight\n",
      "transformer.layer.5.attention.v_lin.bias\n",
      "transformer.layer.5.attention.out_lin.weight\n",
      "transformer.layer.5.attention.out_lin.bias\n",
      "transformer.layer.5.sa_layer_norm.weight\n",
      "transformer.layer.5.sa_layer_norm.bias\n",
      "transformer.layer.5.ffn.lin1.weight\n",
      "transformer.layer.5.ffn.lin1.bias\n",
      "transformer.layer.5.ffn.lin2.weight\n",
      "transformer.layer.5.ffn.lin2.bias\n",
      "transformer.layer.5.output_layer_norm.weight\n",
      "transformer.layer.5.output_layer_norm.bias\n",
      "transformer.layer.6.attention.q_lin.weight\n",
      "transformer.layer.6.attention.q_lin.bias\n",
      "transformer.layer.6.attention.k_lin.weight\n",
      "transformer.layer.6.attention.k_lin.bias\n",
      "transformer.layer.6.attention.v_lin.weight\n",
      "transformer.layer.6.attention.v_lin.bias\n",
      "transformer.layer.6.attention.out_lin.weight\n",
      "transformer.layer.6.attention.out_lin.bias\n",
      "transformer.layer.6.sa_layer_norm.weight\n",
      "transformer.layer.6.sa_layer_norm.bias\n",
      "transformer.layer.6.ffn.lin1.weight\n",
      "transformer.layer.6.ffn.lin1.bias\n",
      "transformer.layer.6.ffn.lin2.weight\n",
      "transformer.layer.6.ffn.lin2.bias\n",
      "transformer.layer.6.output_layer_norm.weight\n",
      "transformer.layer.6.output_layer_norm.bias\n",
      "transformer.layer.7.attention.q_lin.weight\n",
      "transformer.layer.7.attention.q_lin.bias\n",
      "transformer.layer.7.attention.k_lin.weight\n",
      "transformer.layer.7.attention.k_lin.bias\n",
      "transformer.layer.7.attention.v_lin.weight\n",
      "transformer.layer.7.attention.v_lin.bias\n",
      "transformer.layer.7.attention.out_lin.weight\n",
      "transformer.layer.7.attention.out_lin.bias\n",
      "transformer.layer.7.sa_layer_norm.weight\n",
      "transformer.layer.7.sa_layer_norm.bias\n",
      "transformer.layer.7.ffn.lin1.weight\n",
      "transformer.layer.7.ffn.lin1.bias\n",
      "transformer.layer.7.ffn.lin2.weight\n",
      "transformer.layer.7.ffn.lin2.bias\n",
      "transformer.layer.7.output_layer_norm.weight\n",
      "transformer.layer.7.output_layer_norm.bias\n",
      "transformer.layer.8.attention.q_lin.weight\n",
      "transformer.layer.8.attention.q_lin.bias\n",
      "transformer.layer.8.attention.k_lin.weight\n",
      "transformer.layer.8.attention.k_lin.bias\n",
      "transformer.layer.8.attention.v_lin.weight\n",
      "transformer.layer.8.attention.v_lin.bias\n",
      "transformer.layer.8.attention.out_lin.weight\n",
      "transformer.layer.8.attention.out_lin.bias\n",
      "transformer.layer.8.sa_layer_norm.weight\n",
      "transformer.layer.8.sa_layer_norm.bias\n",
      "transformer.layer.8.ffn.lin1.weight\n",
      "transformer.layer.8.ffn.lin1.bias\n",
      "transformer.layer.8.ffn.lin2.weight\n",
      "transformer.layer.8.ffn.lin2.bias\n",
      "transformer.layer.8.output_layer_norm.weight\n",
      "transformer.layer.8.output_layer_norm.bias\n",
      "transformer.layer.9.attention.q_lin.weight\n",
      "transformer.layer.9.attention.q_lin.bias\n",
      "transformer.layer.9.attention.k_lin.weight\n",
      "transformer.layer.9.attention.k_lin.bias\n",
      "transformer.layer.9.attention.v_lin.weight\n",
      "transformer.layer.9.attention.v_lin.bias\n",
      "transformer.layer.9.attention.out_lin.weight\n",
      "transformer.layer.9.attention.out_lin.bias\n",
      "transformer.layer.9.sa_layer_norm.weight\n",
      "transformer.layer.9.sa_layer_norm.bias\n",
      "transformer.layer.9.ffn.lin1.weight\n",
      "transformer.layer.9.ffn.lin1.bias\n",
      "transformer.layer.9.ffn.lin2.weight\n",
      "transformer.layer.9.ffn.lin2.bias\n",
      "transformer.layer.9.output_layer_norm.weight\n",
      "transformer.layer.9.output_layer_norm.bias\n",
      "transformer.layer.10.attention.q_lin.weight\n",
      "transformer.layer.10.attention.q_lin.bias\n",
      "transformer.layer.10.attention.k_lin.weight\n",
      "transformer.layer.10.attention.k_lin.bias\n",
      "transformer.layer.10.attention.v_lin.weight\n",
      "transformer.layer.10.attention.v_lin.bias\n",
      "transformer.layer.10.attention.out_lin.weight\n",
      "transformer.layer.10.attention.out_lin.bias\n",
      "transformer.layer.10.sa_layer_norm.weight\n",
      "transformer.layer.10.sa_layer_norm.bias\n",
      "transformer.layer.10.ffn.lin1.weight\n",
      "transformer.layer.10.ffn.lin1.bias\n",
      "transformer.layer.10.ffn.lin2.weight\n",
      "transformer.layer.10.ffn.lin2.bias\n",
      "transformer.layer.10.output_layer_norm.weight\n",
      "transformer.layer.10.output_layer_norm.bias\n",
      "transformer.layer.11.attention.q_lin.weight\n",
      "transformer.layer.11.attention.q_lin.bias\n",
      "transformer.layer.11.attention.k_lin.weight\n",
      "transformer.layer.11.attention.k_lin.bias\n",
      "transformer.layer.11.attention.v_lin.weight\n",
      "transformer.layer.11.attention.v_lin.bias\n",
      "transformer.layer.11.attention.out_lin.weight\n",
      "transformer.layer.11.attention.out_lin.bias\n",
      "transformer.layer.11.sa_layer_norm.weight\n",
      "transformer.layer.11.sa_layer_norm.bias\n",
      "transformer.layer.11.ffn.lin1.weight\n",
      "transformer.layer.11.ffn.lin1.bias\n",
      "transformer.layer.11.ffn.lin2.weight\n",
      "transformer.layer.11.ffn.lin2.bias\n",
      "transformer.layer.11.output_layer_norm.weight\n",
      "transformer.layer.11.output_layer_norm.bias\n"
     ]
    }
   ],
   "source": [
    "for name, para in model.named_parameters():\n",
    "    print(name)"
   ],
   "metadata": {
    "collapsed": false,
    "pycharm": {
     "name": "#%%\n"
    }
   }
  },
  {
   "cell_type": "code",
   "execution_count": 15,
   "outputs": [
    {
     "name": "stdout",
     "output_type": "stream",
     "text": [
      "{'input_ids': tensor([[ 101, 5672, 2033, 2011, 2151, 3793, 2017, 1005, 1040, 2066, 1012,  102]]), 'attention_mask': tensor([[1, 1, 1, 1, 1, 1, 1, 1, 1, 1, 1, 1]])}\n",
      "dict_keys(['input_ids', 'attention_mask'])\n",
      "torch.Size([1, 12])\n"
     ]
    }
   ],
   "source": [
    "text = \"Replace me by any text you'd like.\"\n",
    "encoded_input = tokenizer(text, return_tensors='pt')\n",
    "print(encoded_input)\n",
    "print(encoded_input.keys())\n",
    "print(encoded_input['input_ids'].shape)  # [1, 12]"
   ],
   "metadata": {
    "collapsed": false,
    "pycharm": {
     "name": "#%%\n"
    }
   }
  },
  {
   "cell_type": "code",
   "execution_count": 16,
   "outputs": [
    {
     "name": "stdout",
     "output_type": "stream",
     "text": [
      "torch.Size([1, 12, 768])\n",
      "tensor([[[ 0.7310,  1.0497,  1.0116,  ...,  1.4013, -2.2519,  1.4625],\n",
      "         [ 0.4230, -0.5819, -0.6813,  ...,  0.6490, -1.5736,  1.3549],\n",
      "         [ 0.6843,  0.8295,  0.5275,  ..., -0.5573, -0.3812,  1.5138],\n",
      "         ...,\n",
      "         [ 0.3765,  0.5286,  0.8991,  ..., -0.1424, -0.7444,  1.7031],\n",
      "         [ 0.6490, -1.4208,  0.8058,  ..., -0.7703, -0.8962,  0.6566],\n",
      "         [ 0.2249,  0.5368,  1.2544,  ..., -0.5541,  0.7447,  1.2399]]],\n",
      "       grad_fn=<NativeLayerNormBackward0>)\n"
     ]
    }
   ],
   "source": [
    "result = model(**encoded_input)\n",
    "print(result.last_hidden_state.shape)  # # [1, 12, 768](限制input_ids最大长度为512)\n",
    "print(result.last_hidden_state)\n",
    "\n"
   ],
   "metadata": {
    "collapsed": false,
    "pycharm": {
     "name": "#%%\n"
    }
   }
  }
 ],
 "metadata": {
  "kernelspec": {
   "display_name": "Python 3",
   "language": "python",
   "name": "python3"
  },
  "language_info": {
   "codemirror_mode": {
    "name": "ipython",
    "version": 2
   },
   "file_extension": ".py",
   "mimetype": "text/x-python",
   "name": "python",
   "nbconvert_exporter": "python",
   "pygments_lexer": "ipython2",
   "version": "2.7.6"
  }
 },
 "nbformat": 4,
 "nbformat_minor": 0
}