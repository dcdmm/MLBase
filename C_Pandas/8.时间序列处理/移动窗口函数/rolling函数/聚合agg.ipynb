{
 "cells": [
  {
   "cell_type": "markdown",
   "metadata": {
    "collapsed": true,
    "pycharm": {
     "name": "#%% md\n"
    }
   },
   "source": [
    "These operations are similar to the aggregating API, groupby API, and resample API."
   ]
  },
  {
   "cell_type": "code",
   "execution_count": 17,
   "outputs": [
    {
     "data": {
      "text/plain": "                   A         B          C\n2000-01-01  0.591287  2.616835  -1.048788\n2000-01-02 -1.105139  3.692414  -2.727002\n2000-01-03 -1.846302  3.753926  -3.831583\n2000-01-04 -5.018668  3.051826  -2.416274\n2000-01-05 -4.198409  0.406115  -1.398464\n...              ...       ...        ...\n2002-09-22 -3.379810 -3.302368  17.447068\n2002-09-23 -4.037562 -2.789437  18.438230\n2002-09-24 -3.146883 -3.049729  16.041003\n2002-09-25 -3.984339 -5.073081  17.616523\n2002-09-26 -3.936488 -6.329460  17.679299\n\n[1000 rows x 3 columns]",
      "text/html": "<div>\n<style scoped>\n    .dataframe tbody tr th:only-of-type {\n        vertical-align: middle;\n    }\n\n    .dataframe tbody tr th {\n        vertical-align: top;\n    }\n\n    .dataframe thead th {\n        text-align: right;\n    }\n</style>\n<table border=\"1\" class=\"dataframe\">\n  <thead>\n    <tr style=\"text-align: right;\">\n      <th></th>\n      <th>A</th>\n      <th>B</th>\n      <th>C</th>\n    </tr>\n  </thead>\n  <tbody>\n    <tr>\n      <th>2000-01-01</th>\n      <td>0.591287</td>\n      <td>2.616835</td>\n      <td>-1.048788</td>\n    </tr>\n    <tr>\n      <th>2000-01-02</th>\n      <td>-1.105139</td>\n      <td>3.692414</td>\n      <td>-2.727002</td>\n    </tr>\n    <tr>\n      <th>2000-01-03</th>\n      <td>-1.846302</td>\n      <td>3.753926</td>\n      <td>-3.831583</td>\n    </tr>\n    <tr>\n      <th>2000-01-04</th>\n      <td>-5.018668</td>\n      <td>3.051826</td>\n      <td>-2.416274</td>\n    </tr>\n    <tr>\n      <th>2000-01-05</th>\n      <td>-4.198409</td>\n      <td>0.406115</td>\n      <td>-1.398464</td>\n    </tr>\n    <tr>\n      <th>...</th>\n      <td>...</td>\n      <td>...</td>\n      <td>...</td>\n    </tr>\n    <tr>\n      <th>2002-09-22</th>\n      <td>-3.379810</td>\n      <td>-3.302368</td>\n      <td>17.447068</td>\n    </tr>\n    <tr>\n      <th>2002-09-23</th>\n      <td>-4.037562</td>\n      <td>-2.789437</td>\n      <td>18.438230</td>\n    </tr>\n    <tr>\n      <th>2002-09-24</th>\n      <td>-3.146883</td>\n      <td>-3.049729</td>\n      <td>16.041003</td>\n    </tr>\n    <tr>\n      <th>2002-09-25</th>\n      <td>-3.984339</td>\n      <td>-5.073081</td>\n      <td>17.616523</td>\n    </tr>\n    <tr>\n      <th>2002-09-26</th>\n      <td>-3.936488</td>\n      <td>-6.329460</td>\n      <td>17.679299</td>\n    </tr>\n  </tbody>\n</table>\n<p>1000 rows × 3 columns</p>\n</div>"
     },
     "execution_count": 17,
     "metadata": {},
     "output_type": "execute_result"
    }
   ],
   "source": [
    "import  pandas as pd\n",
    "import numpy as np\n",
    "\n",
    "\n",
    "dfa = pd.DataFrame(np.random.randn(1000, 3),\n",
    "                    index=pd.date_range('1/1/2000', periods=1000),\n",
    "                    columns=['A', 'B', 'C'])\n",
    "r = dfa.rolling(window=60, min_periods=1)\n",
    "r.sum()"
   ],
   "metadata": {
    "pycharm": {
     "metadata": false,
     "name": "#%%\n"
    }
   }
  },
  {
   "cell_type": "code",
   "execution_count": 18,
   "outputs": [
    {
     "data": {
      "text/plain": "                   A         B          C\n2000-01-01  0.591287  2.616835  -1.048788\n2000-01-02 -1.105139  3.692414  -2.727002\n2000-01-03 -1.846302  3.753926  -3.831583\n2000-01-04 -5.018668  3.051826  -2.416274\n2000-01-05 -4.198409  0.406115  -1.398464\n...              ...       ...        ...\n2002-09-22 -3.379810 -3.302368  17.447068\n2002-09-23 -4.037562 -2.789437  18.438230\n2002-09-24 -3.146883 -3.049729  16.041003\n2002-09-25 -3.984339 -5.073081  17.616523\n2002-09-26 -3.936488 -6.329460  17.679299\n\n[1000 rows x 3 columns]",
      "text/html": "<div>\n<style scoped>\n    .dataframe tbody tr th:only-of-type {\n        vertical-align: middle;\n    }\n\n    .dataframe tbody tr th {\n        vertical-align: top;\n    }\n\n    .dataframe thead th {\n        text-align: right;\n    }\n</style>\n<table border=\"1\" class=\"dataframe\">\n  <thead>\n    <tr style=\"text-align: right;\">\n      <th></th>\n      <th>A</th>\n      <th>B</th>\n      <th>C</th>\n    </tr>\n  </thead>\n  <tbody>\n    <tr>\n      <th>2000-01-01</th>\n      <td>0.591287</td>\n      <td>2.616835</td>\n      <td>-1.048788</td>\n    </tr>\n    <tr>\n      <th>2000-01-02</th>\n      <td>-1.105139</td>\n      <td>3.692414</td>\n      <td>-2.727002</td>\n    </tr>\n    <tr>\n      <th>2000-01-03</th>\n      <td>-1.846302</td>\n      <td>3.753926</td>\n      <td>-3.831583</td>\n    </tr>\n    <tr>\n      <th>2000-01-04</th>\n      <td>-5.018668</td>\n      <td>3.051826</td>\n      <td>-2.416274</td>\n    </tr>\n    <tr>\n      <th>2000-01-05</th>\n      <td>-4.198409</td>\n      <td>0.406115</td>\n      <td>-1.398464</td>\n    </tr>\n    <tr>\n      <th>...</th>\n      <td>...</td>\n      <td>...</td>\n      <td>...</td>\n    </tr>\n    <tr>\n      <th>2002-09-22</th>\n      <td>-3.379810</td>\n      <td>-3.302368</td>\n      <td>17.447068</td>\n    </tr>\n    <tr>\n      <th>2002-09-23</th>\n      <td>-4.037562</td>\n      <td>-2.789437</td>\n      <td>18.438230</td>\n    </tr>\n    <tr>\n      <th>2002-09-24</th>\n      <td>-3.146883</td>\n      <td>-3.049729</td>\n      <td>16.041003</td>\n    </tr>\n    <tr>\n      <th>2002-09-25</th>\n      <td>-3.984339</td>\n      <td>-5.073081</td>\n      <td>17.616523</td>\n    </tr>\n    <tr>\n      <th>2002-09-26</th>\n      <td>-3.936488</td>\n      <td>-6.329460</td>\n      <td>17.679299</td>\n    </tr>\n  </tbody>\n</table>\n<p>1000 rows × 3 columns</p>\n</div>"
     },
     "execution_count": 18,
     "metadata": {},
     "output_type": "execute_result"
    }
   ],
   "source": [
    "r.agg('sum') # 与上等价"
   ],
   "metadata": {
    "pycharm": {
     "metadata": false,
     "name": "#%%\n"
    }
   }
  },
  {
   "cell_type": "code",
   "execution_count": 19,
   "outputs": [
    {
     "data": {
      "text/plain": "2000-01-01    0.591287\n2000-01-02   -1.105139\n2000-01-03   -1.846302\n2000-01-04   -5.018668\n2000-01-05   -4.198409\n                ...   \n2002-09-22   -3.379810\n2002-09-23   -4.037562\n2002-09-24   -3.146883\n2002-09-25   -3.984339\n2002-09-26   -3.936488\nFreq: D, Name: A, Length: 1000, dtype: float64"
     },
     "execution_count": 19,
     "metadata": {},
     "output_type": "execute_result"
    }
   ],
   "source": [
    "r['A'].agg(np.sum)"
   ],
   "metadata": {
    "pycharm": {
     "metadata": false,
     "name": "#%%\n"
    }
   }
  },
  {
   "cell_type": "code",
   "execution_count": 20,
   "outputs": [
    {
     "data": {
      "text/plain": "2000-01-01    0.591287\n2000-01-02   -1.105139\n2000-01-03   -1.846302\n2000-01-04   -5.018668\n2000-01-05   -4.198409\n                ...   \n2002-09-22   -3.379810\n2002-09-23   -4.037562\n2002-09-24   -3.146883\n2002-09-25   -3.984339\n2002-09-26   -3.936488\nFreq: D, Name: A, Length: 1000, dtype: float64"
     },
     "execution_count": 20,
     "metadata": {},
     "output_type": "execute_result"
    }
   ],
   "source": [
    "r.agg(np.sum)['A'] # 与上等价"
   ],
   "metadata": {
    "pycharm": {
     "metadata": false,
     "name": "#%%\n"
    }
   }
  },
  {
   "cell_type": "code",
   "execution_count": 21,
   "outputs": [
    {
     "data": {
      "text/plain": "                 sum      mean       std\n2000-01-01  0.591287  0.591287       NaN\n2000-01-02 -1.105139 -0.552569  1.617657\n2000-01-03 -1.846302 -0.615434  1.149027\n2000-01-04 -5.018668 -1.254667  1.585765\n2000-01-05 -4.198409 -0.839682  1.657423\n...              ...       ...       ...\n2002-09-22 -3.379810 -0.056330  0.947566\n2002-09-23 -4.037562 -0.067293  0.943405\n2002-09-24 -3.146883 -0.052448  0.937897\n2002-09-25 -3.984339 -0.066406  0.935964\n2002-09-26 -3.936488 -0.065608  0.935132\n\n[1000 rows x 3 columns]",
      "text/html": "<div>\n<style scoped>\n    .dataframe tbody tr th:only-of-type {\n        vertical-align: middle;\n    }\n\n    .dataframe tbody tr th {\n        vertical-align: top;\n    }\n\n    .dataframe thead th {\n        text-align: right;\n    }\n</style>\n<table border=\"1\" class=\"dataframe\">\n  <thead>\n    <tr style=\"text-align: right;\">\n      <th></th>\n      <th>sum</th>\n      <th>mean</th>\n      <th>std</th>\n    </tr>\n  </thead>\n  <tbody>\n    <tr>\n      <th>2000-01-01</th>\n      <td>0.591287</td>\n      <td>0.591287</td>\n      <td>NaN</td>\n    </tr>\n    <tr>\n      <th>2000-01-02</th>\n      <td>-1.105139</td>\n      <td>-0.552569</td>\n      <td>1.617657</td>\n    </tr>\n    <tr>\n      <th>2000-01-03</th>\n      <td>-1.846302</td>\n      <td>-0.615434</td>\n      <td>1.149027</td>\n    </tr>\n    <tr>\n      <th>2000-01-04</th>\n      <td>-5.018668</td>\n      <td>-1.254667</td>\n      <td>1.585765</td>\n    </tr>\n    <tr>\n      <th>2000-01-05</th>\n      <td>-4.198409</td>\n      <td>-0.839682</td>\n      <td>1.657423</td>\n    </tr>\n    <tr>\n      <th>...</th>\n      <td>...</td>\n      <td>...</td>\n      <td>...</td>\n    </tr>\n    <tr>\n      <th>2002-09-22</th>\n      <td>-3.379810</td>\n      <td>-0.056330</td>\n      <td>0.947566</td>\n    </tr>\n    <tr>\n      <th>2002-09-23</th>\n      <td>-4.037562</td>\n      <td>-0.067293</td>\n      <td>0.943405</td>\n    </tr>\n    <tr>\n      <th>2002-09-24</th>\n      <td>-3.146883</td>\n      <td>-0.052448</td>\n      <td>0.937897</td>\n    </tr>\n    <tr>\n      <th>2002-09-25</th>\n      <td>-3.984339</td>\n      <td>-0.066406</td>\n      <td>0.935964</td>\n    </tr>\n    <tr>\n      <th>2002-09-26</th>\n      <td>-3.936488</td>\n      <td>-0.065608</td>\n      <td>0.935132</td>\n    </tr>\n  </tbody>\n</table>\n<p>1000 rows × 3 columns</p>\n</div>"
     },
     "execution_count": 21,
     "metadata": {},
     "output_type": "execute_result"
    }
   ],
   "source": [
    "# 如果传输的是函数或函数名的列表,将得到一个列名是这些函数名的DataFrame\n",
    "r['A'].agg([np.sum, np.mean, np.std]) # Applying multiple functions"
   ],
   "metadata": {
    "pycharm": {
     "metadata": false,
     "name": "#%%\n"
    }
   }
  },
  {
   "cell_type": "code",
   "execution_count": 22,
   "outputs": [
    {
     "data": {
      "text/plain": "                   A         B\n2000-01-01  0.591287       NaN\n2000-01-02 -1.105139  1.089833\n2000-01-03 -1.846302  1.286694\n2000-01-04 -5.018668  1.434459\n2000-01-05 -4.198409  1.966483\n...              ...       ...\n2002-09-22 -3.379810  0.933815\n2002-09-23 -4.037562  0.924942\n2002-09-24 -3.146883  0.919777\n2002-09-25 -3.984339  0.957136\n2002-09-26 -3.936488  0.942168\n\n[1000 rows x 2 columns]",
      "text/html": "<div>\n<style scoped>\n    .dataframe tbody tr th:only-of-type {\n        vertical-align: middle;\n    }\n\n    .dataframe tbody tr th {\n        vertical-align: top;\n    }\n\n    .dataframe thead th {\n        text-align: right;\n    }\n</style>\n<table border=\"1\" class=\"dataframe\">\n  <thead>\n    <tr style=\"text-align: right;\">\n      <th></th>\n      <th>A</th>\n      <th>B</th>\n    </tr>\n  </thead>\n  <tbody>\n    <tr>\n      <th>2000-01-01</th>\n      <td>0.591287</td>\n      <td>NaN</td>\n    </tr>\n    <tr>\n      <th>2000-01-02</th>\n      <td>-1.105139</td>\n      <td>1.089833</td>\n    </tr>\n    <tr>\n      <th>2000-01-03</th>\n      <td>-1.846302</td>\n      <td>1.286694</td>\n    </tr>\n    <tr>\n      <th>2000-01-04</th>\n      <td>-5.018668</td>\n      <td>1.434459</td>\n    </tr>\n    <tr>\n      <th>2000-01-05</th>\n      <td>-4.198409</td>\n      <td>1.966483</td>\n    </tr>\n    <tr>\n      <th>...</th>\n      <td>...</td>\n      <td>...</td>\n    </tr>\n    <tr>\n      <th>2002-09-22</th>\n      <td>-3.379810</td>\n      <td>0.933815</td>\n    </tr>\n    <tr>\n      <th>2002-09-23</th>\n      <td>-4.037562</td>\n      <td>0.924942</td>\n    </tr>\n    <tr>\n      <th>2002-09-24</th>\n      <td>-3.146883</td>\n      <td>0.919777</td>\n    </tr>\n    <tr>\n      <th>2002-09-25</th>\n      <td>-3.984339</td>\n      <td>0.957136</td>\n    </tr>\n    <tr>\n      <th>2002-09-26</th>\n      <td>-3.936488</td>\n      <td>0.942168</td>\n    </tr>\n  </tbody>\n</table>\n<p>1000 rows × 2 columns</p>\n</div>"
     },
     "execution_count": 22,
     "metadata": {},
     "output_type": "execute_result"
    }
   ],
   "source": [
    "r.agg({'A': np.sum, 'B': lambda x: np.std(x, ddof=1)}) # 不同的函数应用到不同的列中"
   ],
   "metadata": {
    "pycharm": {
     "metadata": false,
     "name": "#%%\n"
    }
   }
  },
  {
   "cell_type": "code",
   "execution_count": 23,
   "outputs": [
    {
     "data": {
      "text/plain": "                   A         B\n2000-01-01  0.591287       NaN\n2000-01-02 -1.105139  1.089833\n2000-01-03 -1.846302  1.286694\n2000-01-04 -5.018668  1.434459\n2000-01-05 -4.198409  1.966483\n...              ...       ...\n2002-09-22 -3.379810  0.933815\n2002-09-23 -4.037562  0.924942\n2002-09-24 -3.146883  0.919777\n2002-09-25 -3.984339  0.957136\n2002-09-26 -3.936488  0.942168\n\n[1000 rows x 2 columns]",
      "text/html": "<div>\n<style scoped>\n    .dataframe tbody tr th:only-of-type {\n        vertical-align: middle;\n    }\n\n    .dataframe tbody tr th {\n        vertical-align: top;\n    }\n\n    .dataframe thead th {\n        text-align: right;\n    }\n</style>\n<table border=\"1\" class=\"dataframe\">\n  <thead>\n    <tr style=\"text-align: right;\">\n      <th></th>\n      <th>A</th>\n      <th>B</th>\n    </tr>\n  </thead>\n  <tbody>\n    <tr>\n      <th>2000-01-01</th>\n      <td>0.591287</td>\n      <td>NaN</td>\n    </tr>\n    <tr>\n      <th>2000-01-02</th>\n      <td>-1.105139</td>\n      <td>1.089833</td>\n    </tr>\n    <tr>\n      <th>2000-01-03</th>\n      <td>-1.846302</td>\n      <td>1.286694</td>\n    </tr>\n    <tr>\n      <th>2000-01-04</th>\n      <td>-5.018668</td>\n      <td>1.434459</td>\n    </tr>\n    <tr>\n      <th>2000-01-05</th>\n      <td>-4.198409</td>\n      <td>1.966483</td>\n    </tr>\n    <tr>\n      <th>...</th>\n      <td>...</td>\n      <td>...</td>\n    </tr>\n    <tr>\n      <th>2002-09-22</th>\n      <td>-3.379810</td>\n      <td>0.933815</td>\n    </tr>\n    <tr>\n      <th>2002-09-23</th>\n      <td>-4.037562</td>\n      <td>0.924942</td>\n    </tr>\n    <tr>\n      <th>2002-09-24</th>\n      <td>-3.146883</td>\n      <td>0.919777</td>\n    </tr>\n    <tr>\n      <th>2002-09-25</th>\n      <td>-3.984339</td>\n      <td>0.957136</td>\n    </tr>\n    <tr>\n      <th>2002-09-26</th>\n      <td>-3.936488</td>\n      <td>0.942168</td>\n    </tr>\n  </tbody>\n</table>\n<p>1000 rows × 2 columns</p>\n</div>"
     },
     "execution_count": 23,
     "metadata": {},
     "output_type": "execute_result"
    }
   ],
   "source": [
    "r.agg({'A': 'sum', 'B': 'std'}) # 自带的聚合函数要加上''"
   ],
   "metadata": {
    "pycharm": {
     "metadata": false,
     "name": "#%%\n"
    }
   }
  },
  {
   "cell_type": "code",
   "execution_count": 24,
   "outputs": [
    {
     "data": {
      "text/plain": "                   A                   B          \n                 sum       std      mean       std\n2000-01-01  0.591287       NaN  2.616835       NaN\n2000-01-02 -1.105139  1.617657  1.846207  1.089833\n2000-01-03 -1.846302  1.149027  1.251309  1.286694\n2000-01-04 -5.018668  1.585765  0.762956  1.434459\n2000-01-05 -4.198409  1.657423  0.081223  1.966483\n...              ...       ...       ...       ...\n2002-09-22 -3.379810  0.947566 -0.055039  0.933815\n2002-09-23 -4.037562  0.943405 -0.046491  0.924942\n2002-09-24 -3.146883  0.937897 -0.050829  0.919777\n2002-09-25 -3.984339  0.935964 -0.084551  0.957136\n2002-09-26 -3.936488  0.935132 -0.105491  0.942168\n\n[1000 rows x 4 columns]",
      "text/html": "<div>\n<style scoped>\n    .dataframe tbody tr th:only-of-type {\n        vertical-align: middle;\n    }\n\n    .dataframe tbody tr th {\n        vertical-align: top;\n    }\n\n    .dataframe thead tr th {\n        text-align: left;\n    }\n</style>\n<table border=\"1\" class=\"dataframe\">\n  <thead>\n    <tr>\n      <th></th>\n      <th colspan=\"2\" halign=\"left\">A</th>\n      <th colspan=\"2\" halign=\"left\">B</th>\n    </tr>\n    <tr>\n      <th></th>\n      <th>sum</th>\n      <th>std</th>\n      <th>mean</th>\n      <th>std</th>\n    </tr>\n  </thead>\n  <tbody>\n    <tr>\n      <th>2000-01-01</th>\n      <td>0.591287</td>\n      <td>NaN</td>\n      <td>2.616835</td>\n      <td>NaN</td>\n    </tr>\n    <tr>\n      <th>2000-01-02</th>\n      <td>-1.105139</td>\n      <td>1.617657</td>\n      <td>1.846207</td>\n      <td>1.089833</td>\n    </tr>\n    <tr>\n      <th>2000-01-03</th>\n      <td>-1.846302</td>\n      <td>1.149027</td>\n      <td>1.251309</td>\n      <td>1.286694</td>\n    </tr>\n    <tr>\n      <th>2000-01-04</th>\n      <td>-5.018668</td>\n      <td>1.585765</td>\n      <td>0.762956</td>\n      <td>1.434459</td>\n    </tr>\n    <tr>\n      <th>2000-01-05</th>\n      <td>-4.198409</td>\n      <td>1.657423</td>\n      <td>0.081223</td>\n      <td>1.966483</td>\n    </tr>\n    <tr>\n      <th>...</th>\n      <td>...</td>\n      <td>...</td>\n      <td>...</td>\n      <td>...</td>\n    </tr>\n    <tr>\n      <th>2002-09-22</th>\n      <td>-3.379810</td>\n      <td>0.947566</td>\n      <td>-0.055039</td>\n      <td>0.933815</td>\n    </tr>\n    <tr>\n      <th>2002-09-23</th>\n      <td>-4.037562</td>\n      <td>0.943405</td>\n      <td>-0.046491</td>\n      <td>0.924942</td>\n    </tr>\n    <tr>\n      <th>2002-09-24</th>\n      <td>-3.146883</td>\n      <td>0.937897</td>\n      <td>-0.050829</td>\n      <td>0.919777</td>\n    </tr>\n    <tr>\n      <th>2002-09-25</th>\n      <td>-3.984339</td>\n      <td>0.935964</td>\n      <td>-0.084551</td>\n      <td>0.957136</td>\n    </tr>\n    <tr>\n      <th>2002-09-26</th>\n      <td>-3.936488</td>\n      <td>0.935132</td>\n      <td>-0.105491</td>\n      <td>0.942168</td>\n    </tr>\n  </tbody>\n</table>\n<p>1000 rows × 4 columns</p>\n</div>"
     },
     "execution_count": 24,
     "metadata": {},
     "output_type": "execute_result"
    }
   ],
   "source": "r.agg({'A': ['sum', 'std'], 'B': ['mean', 'std']})\n\n",
   "metadata": {
    "pycharm": {
     "metadata": false,
     "name": "#%%\n"
    }
   }
  }
 ],
 "metadata": {
  "language_info": {
   "codemirror_mode": {
    "name": "ipython",
    "version": 2
   },
   "file_extension": ".py",
   "mimetype": "text/x-python",
   "name": "python",
   "nbconvert_exporter": "python",
   "pygments_lexer": "ipython2",
   "version": "2.7.6"
  },
  "kernelspec": {
   "name": "python3",
   "language": "python",
   "display_name": "Python 3"
  }
 },
 "nbformat": 4,
 "nbformat_minor": 0
}