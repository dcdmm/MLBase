{
 "cells": [
  {
   "cell_type": "markdown",
   "metadata": {
    "collapsed": true
   },
   "source": [
    "* 多分类问题概率分布\n",
    "\n",
    "$$\n",
    "q_{i}= \\begin{cases} 1 & \\text { if } i=y \\\\ 0 & \\text { otherwise }\\end{cases}\n",
    "$$\n",
    "\n",
    "* 进行label smoothing后的概率分布(其中$\\varepsilon$为一个很小的常数,即平滑系数)\n",
    "\n",
    "$$\n",
    "q_{i}= \\begin{cases}1-\\varepsilon & \\text { if } i=y \\\\ \\varepsilon /(K-1) & \\text { otherwise }\\end{cases}\n",
    "$$\n",
    "\n",
    "理解: 将真实标签减去一个很小的数,然后平均分配到其他类上,实现了标签软化\n",
    "\n",
    "***\n",
    "\n",
    "| Predicted prob(p)    | 0.3  | 0.6  | 0.001 | 0.001 | 0.05 | 0.03   |\n",
    "| -------------------- | ---- | ---- | ----- | ----- | ---- | ------ |\n",
    "| **Label one-hot(y)** | 0    | 1    | 0     | 0     | 0    | 0      |\n",
    "| **Label name:**      | 飞机 | 鸟   | 猫    | 狗    | 汽车 | 拖拉机 |\n",
    "\n",
    "缺点(one-hot只是对真实情况的一种简化):\n",
    "* 真实标签跟其他标签之间的关系被忽略了,很多有用的知识无法学到;比如:\"鸟\"和\"飞机\"本来也比较像,因此如果模型预测觉得二者更接近,那么应该给予更小的loss\n",
    "* 倾向于让模型更加\"武断\",成为一个\"非黑即白\"的模型,导致泛化性能差\n",
    "* 面对易混淆的分类任务、有噪音(误打标)的数据集时,更容易受影响\n",
    "\n",
    "\n",
    "| Predicted prob(p)    | 0.3  | 0.6  | 0.001 | 0.001 | 0.05 | 0.03   |\n",
    "| -------------------- | ---- | ---- | ----- | ----- | ---- | ------ |\n",
    "| **Label one-hot(y)** | 0    | 1    | 0     | 0     | 0    | 0      |\n",
    "| **Smoothed label(y)** | 0.05    | 0.75    | 0.05    | 0.05     | 0.05   | 0.05     |\n",
    "| **Label name:**      | 飞机 | 鸟   | 猫    | 狗    | 汽车 | 拖拉机 |\n",
    "\n",
    "***\n",
    "\n",
    "Label Smoothing的优势(可能增强了模型泛化能力):\n",
    "* 一定程度上,可以缓解模型过于武断的问题,也有一定的抗噪能力\n",
    "* 提供了训练数据中类别之间的关系(数据增强)\n",
    "\n",
    "Label Smoothing的劣势:\n",
    "* 单纯地添加随机噪音,也无法反映标签之间的关系,因此对模型的提升有限,甚至有欠拟合的风险\n",
    "* 它对构建将来作为教师的网络没有用处,hard目标训练将产生一个更好的教师神经网络"
   ]
  },
  {
   "cell_type": "code",
   "execution_count": 8,
   "metadata": {},
   "outputs": [],
   "source": [
    "import torch.nn as nn\n",
    "import torch.nn.functional as F\n",
    "\n",
    "\n",
    "class LabelSmoothingCrossEntropy(nn.Module):\n",
    "    def __init__(self, eps=0.1, reduction='mean', ignore_index=-100):\n",
    "        super(LabelSmoothingCrossEntropy, self).__init__()\n",
    "        self.eps = eps\n",
    "        self.reduction = reduction\n",
    "        self.ignore_index = ignore_index\n",
    "\n",
    "    def forward(self, input, target):\n",
    "        c = input.size()[-1]  # 类别数\n",
    "        log_preds = F.log_softmax(input, dim=-1)\n",
    "        if self.reduction == 'sum':\n",
    "            loss = -log_preds.sum()\n",
    "        else:\n",
    "            loss = -log_preds.sum(dim=-1)\n",
    "            if self.reduction == 'mean':\n",
    "                loss = loss.mean()\n",
    "        # 交叉熵损失\n",
    "        cross_entropy_loss = F.nll_loss(log_preds, target, reduction=self.reduction, ignore_index=self.ignore_index)\n",
    "        return loss * self.eps / c + (1 - self.eps) * cross_entropy_loss"
   ]
  },
  {
   "cell_type": "code",
   "execution_count": 9,
   "outputs": [
    {
     "name": "stdout",
     "output_type": "stream",
     "text": [
      "tensor(1.1576)\n",
      "tensor(1.1576)\n",
      "tensor(1.1826)\n",
      "tensor(4.7304)\n",
      "tensor([2.3076, 0.5076, 1.4076, 0.5076])\n"
     ]
    }
   ],
   "source": [
    "import torch\n",
    "\n",
    "x_input = torch.arange(12, dtype=torch.float32).reshape(4, 3)\n",
    "y_target = torch.tensor([0, 2, 1, 2])\n",
    "\n",
    "print(nn.CrossEntropyLoss()(x_input, y_target))\n",
    "print(LabelSmoothingCrossEntropy(eps=0)(x_input, y_target))  # eps等于0时退化为交叉熵损失\n",
    "\n",
    "print(LabelSmoothingCrossEntropy()(x_input, y_target))\n",
    "print(LabelSmoothingCrossEntropy(reduction='sum')(x_input, y_target))\n",
    "print(LabelSmoothingCrossEntropy(reduction='none')(x_input, y_target))"
   ],
   "metadata": {
    "collapsed": false,
    "pycharm": {
     "name": "#%%\n"
    }
   }
  },
  {
   "cell_type": "code",
   "execution_count": 9,
   "outputs": [],
   "source": [],
   "metadata": {
    "collapsed": false,
    "pycharm": {
     "name": "#%%\n"
    }
   }
  }
 ],
 "metadata": {
  "kernelspec": {
   "display_name": "Python 3.8.12 ('pytorch_env')",
   "language": "python",
   "name": "python3"
  },
  "language_info": {
   "codemirror_mode": {
    "name": "ipython",
    "version": 2
   },
   "file_extension": ".py",
   "mimetype": "text/x-python",
   "name": "python",
   "nbconvert_exporter": "python",
   "pygments_lexer": "ipython2",
   "version": "3.8.12"
  },
  "vscode": {
   "interpreter": {
    "hash": "0886a02735466d80c36da7d0d184a8055779d3e497a063b4720b0317b8699033"
   }
  }
 },
 "nbformat": 4,
 "nbformat_minor": 0
}