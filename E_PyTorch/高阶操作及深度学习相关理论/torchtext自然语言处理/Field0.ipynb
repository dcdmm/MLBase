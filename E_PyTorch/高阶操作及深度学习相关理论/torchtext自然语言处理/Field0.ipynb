{
 "cells": [
  {
   "cell_type": "code",
   "execution_count": 1,
   "metadata": {},
   "outputs": [],
   "source": [
    "from torchtext.datasets import LanguageModelingDataset\n",
    "import torchtext.data as data "
   ]
  },
  {
   "cell_type": "code",
   "execution_count": 2,
   "outputs": [
    {
     "data": {
      "text/plain": "['became',\n 'a',\n 'searcher',\n ',',\n 'wanting',\n 'to',\n 'find',\n 'out',\n 'who',\n 'i',\n 'was',\n 'and',\n 'what',\n 'made',\n 'me',\n 'unique',\n '.',\n 'my',\n 'view',\n 'of',\n 'myself',\n 'was',\n 'changing',\n '.',\n 'i',\n 'wanted',\n 'a',\n 'solid',\n 'base',\n 'to',\n 'start',\n 'from',\n '.',\n 'i',\n 'started',\n 'to',\n 'resist3',\n 'pressure',\n 'to',\n 'act',\n 'in',\n 'ways',\n 'that',\n 'i',\n 'didn’t',\n 'like',\n 'any',\n 'more',\n ',',\n 'and',\n 'i',\n 'was',\n 'delighted',\n 'by',\n 'who',\n 'i',\n 'really',\n 'was',\n '.',\n 'i',\n 'came',\n 'to',\n 'feel',\n 'much',\n 'more',\n 'sure',\n 'that',\n 'no',\n 'one',\n 'can',\n 'ever',\n 'take',\n 'my',\n 'place.each',\n 'of',\n 'us',\n 'holds',\n 'a',\n 'unique',\n 'place',\n 'in',\n 'the',\n 'world',\n '.',\n 'you',\n 'are',\n 'special',\n ',',\n 'no',\n 'matter',\n 'what',\n 'others',\n 'say',\n 'or',\n 'what',\n 'you',\n 'may',\n 'think',\n '.',\n 'so',\n 'forget',\n 'about',\n 'being',\n 'replaced',\n '.',\n 'you',\n 'can’t',\n 'be',\n '.',\n '段超写于2020年8月18日!',\n '<eos>']"
     },
     "execution_count": 2,
     "metadata": {},
     "output_type": "execute_result"
    }
   ],
   "source": [
    "TEXT_seq = data.Field(sequential=True, # Whether the datatype represents sequential data. If False, no tokenization is applied. Default: True.\n",
    "                      lower=True, # Whether to lowercase the text in this field. Default: False.\n",
    "                      pad_token='<pad>', # The string token used as padding. Default: “<pad>”.\n",
    "                      unk_token='<unk>') # The string token used to represent OOV words. Default: “<unk>”.\n",
    "train, test = LanguageModelingDataset.splits(path=\"test_text/\", # 存放文件的文件夹路径(.表示当前目录)\n",
    "                                             train=\"train.txt\",\n",
    "                                             test=\"test.txt\",\n",
    "                                             text_field=TEXT_seq)\n",
    "train.examples[0].text"
   ],
   "metadata": {
    "collapsed": false,
    "pycharm": {
     "name": "#%%\n"
    }
   }
  },
  {
   "cell_type": "code",
   "execution_count": 3,
   "outputs": [
    {
     "data": {
      "text/plain": "['B',\n 'e',\n 'c',\n 'a',\n 'm',\n 'e',\n ' ',\n 'a',\n ' ',\n 's',\n 'e',\n 'a',\n 'r',\n 'c',\n 'h',\n 'e',\n 'r',\n ' ',\n ',',\n ' ',\n ' ',\n ' ',\n ' ',\n ' ',\n ' ',\n 'w',\n 'a',\n 'n',\n 't',\n 'i',\n 'n',\n 'g',\n ' ',\n 't',\n 'o',\n ' ',\n 'f',\n 'i',\n 'n',\n 'd',\n ' ',\n 'o',\n 'u',\n 't',\n ' ',\n 'w',\n 'h',\n 'o',\n ' ',\n 'I',\n ' ',\n 'w',\n 'a',\n 's',\n ' ',\n 'a',\n 'n',\n 'd',\n ' ',\n 'w',\n 'h',\n 'a',\n 't',\n ' ',\n 'm',\n 'a',\n 'd',\n 'e',\n ' ',\n 'm',\n 'e',\n ' ',\n 'u',\n 'n',\n 'i',\n 'q',\n 'u',\n 'e',\n ' ',\n '.',\n ' ',\n 'M',\n 'y',\n ' ',\n 'v',\n 'i',\n 'e',\n 'w',\n ' ',\n 'o',\n 'f',\n ' ',\n 'm',\n 'y',\n 's',\n 'e',\n 'l',\n 'f',\n ' ',\n 'w',\n 'a',\n 's',\n ' ',\n 'c',\n 'h',\n 'a',\n 'n',\n 'g',\n 'i',\n 'n',\n 'g',\n ' ',\n '.',\n ' ',\n 'I',\n ' ',\n 'w',\n 'a',\n 'n',\n 't',\n 'e',\n 'd',\n ' ',\n 'a',\n ' ',\n 's',\n 'o',\n 'l',\n 'i',\n 'd',\n ' ',\n 'b',\n 'a',\n 's',\n 'e',\n ' ',\n 't',\n 'o',\n ' ',\n 's',\n 't',\n 'a',\n 'r',\n 't',\n ' ',\n 'f',\n 'r',\n 'o',\n 'm',\n ' ',\n '.',\n ' ',\n 'I',\n ' ',\n 's',\n 't',\n 'a',\n 'r',\n 't',\n 'e',\n 'd',\n ' ',\n 't',\n 'o',\n ' ',\n 'r',\n 'e',\n 's',\n 'i',\n 's',\n 't',\n '3',\n ' ',\n 'p',\n 'r',\n 'e',\n 's',\n 's',\n 'u',\n 'r',\n 'e',\n ' ',\n 't',\n 'o',\n ' ',\n 'a',\n 'c',\n 't',\n ' ',\n 'i',\n 'n',\n ' ',\n 'w',\n 'a',\n 'y',\n 's',\n ' ',\n 't',\n 'h',\n 'a',\n 't',\n ' ',\n 'I',\n ' ',\n 'd',\n 'i',\n 'd',\n 'n',\n '’',\n 't',\n ' ',\n 'l',\n 'i',\n 'k',\n 'e',\n ' ',\n 'a',\n 'n',\n 'y',\n ' ',\n 'm',\n 'o',\n 'r',\n 'e',\n ' ',\n ',',\n ' ',\n 'a',\n 'n',\n 'd',\n ' ',\n 'I',\n ' ',\n 'w',\n 'a',\n 's',\n ' ',\n 'd',\n 'e',\n 'l',\n 'i',\n 'g',\n 'h',\n 't',\n 'e',\n 'd',\n ' ',\n 'b',\n 'y',\n ' ',\n 'w',\n 'h',\n 'o',\n ' ',\n 'I',\n ' ',\n 'r',\n 'e',\n 'a',\n 'l',\n 'l',\n 'y',\n ' ',\n 'w',\n 'a',\n 's',\n ' ',\n '.',\n ' ',\n 'I',\n ' ',\n 'c',\n 'a',\n 'm',\n 'e',\n ' ',\n 't',\n 'o',\n ' ',\n 'f',\n 'e',\n 'e',\n 'l',\n ' ',\n 'm',\n 'u',\n 'c',\n 'h',\n ' ',\n 'm',\n 'o',\n 'r',\n 'e',\n ' ',\n 's',\n 'u',\n 'r',\n 'e',\n ' ',\n 't',\n 'h',\n 'a',\n 't',\n ' ',\n 'n',\n 'o',\n ' ',\n 'o',\n 'n',\n 'e',\n ' ',\n 'c',\n 'a',\n 'n',\n ' ',\n 'e',\n 'v',\n 'e',\n 'r',\n ' ',\n 't',\n 'a',\n 'k',\n 'e',\n ' ',\n 'm',\n 'y',\n ' ',\n 'p',\n 'l',\n 'a',\n 'c',\n 'e',\n '.',\n 'E',\n 'a',\n 'c',\n 'h',\n ' ',\n 'o',\n 'f',\n ' ',\n 'u',\n 's',\n ' ',\n 'h',\n 'o',\n 'l',\n 'd',\n 's',\n ' ',\n 'a',\n ' ',\n 'u',\n 'n',\n 'i',\n 'q',\n 'u',\n 'e',\n ' ',\n 'p',\n 'l',\n 'a',\n 'c',\n 'e',\n ' ',\n 'i',\n 'n',\n ' ',\n 't',\n 'h',\n 'e',\n ' ',\n 'w',\n 'o',\n 'r',\n 'l',\n 'd',\n ' ',\n '.',\n ' ',\n 'Y',\n 'o',\n 'u',\n ' ',\n 'a',\n 'r',\n 'e',\n ' ',\n 's',\n 'p',\n 'e',\n 'c',\n 'i',\n 'a',\n 'l',\n ' ',\n ',',\n ' ',\n 'n',\n 'o',\n ' ',\n 'm',\n 'a',\n 't',\n 't',\n 'e',\n 'r',\n ' ',\n 'w',\n 'h',\n 'a',\n 't',\n ' ',\n 'o',\n 't',\n 'h',\n 'e',\n 'r',\n 's',\n ' ',\n 's',\n 'a',\n 'y',\n ' ',\n 'o',\n 'r',\n ' ',\n 'w',\n 'h',\n 'a',\n 't',\n ' ',\n 'y',\n 'o',\n 'u',\n ' ',\n 'm',\n 'a',\n 'y',\n ' ',\n 't',\n 'h',\n 'i',\n 'n',\n 'k',\n ' ',\n '.',\n ' ',\n 'S',\n 'o',\n ' ',\n 'f',\n 'o',\n 'r',\n 'g',\n 'e',\n 't',\n ' ',\n 'a',\n 'b',\n 'o',\n 'u',\n 't',\n ' ',\n 'b',\n 'e',\n 'i',\n 'n',\n 'g',\n ' ',\n 'r',\n 'e',\n 'p',\n 'l',\n 'a',\n 'c',\n 'e',\n 'd',\n ' ',\n '.',\n ' ',\n 'Y',\n 'o',\n 'u',\n ' ',\n 'c',\n 'a',\n 'n',\n '’',\n 't',\n ' ',\n 'b',\n 'e',\n ' ',\n '.',\n ' ',\n '段',\n '超',\n '写',\n '于',\n '2',\n '0',\n '2',\n '0',\n '年',\n '8',\n '月',\n '1',\n '8',\n '日',\n '!',\n '<eos>']"
     },
     "execution_count": 3,
     "metadata": {},
     "output_type": "execute_result"
    }
   ],
   "source": [
    "TEXT_no_seq = data.Field(sequential=False)\n",
    "train_no_seq, test_no_seq = LanguageModelingDataset.splits(path=\"test_text/\", # 存放文件的文件夹路径(.表示当前目录)\n",
    "                                                           train=\"train.txt\",\n",
    "                                                           test=\"test.txt\",\n",
    "                                                           text_field=TEXT_no_seq)\n",
    "train_no_seq.examples[0].text # 此时英文被拆分为字母,中文被拆分为单个的字,空格也将被表示\n"
   ],
   "metadata": {
    "collapsed": false,
    "pycharm": {
     "name": "#%%\n"
    }
   }
  }
 ],
 "metadata": {
  "kernelspec": {
   "display_name": "Python 3",
   "language": "python",
   "name": "python3"
  },
  "language_info": {
   "codemirror_mode": {
    "name": "ipython",
    "version": 3
   },
   "file_extension": ".py",
   "mimetype": "text/x-python",
   "name": "python",
   "nbconvert_exporter": "python",
   "pygments_lexer": "ipython3",
   "version": "3.7.7"
  },
  "toc": {
   "base_numbering": 1,
   "nav_menu": {},
   "number_sections": true,
   "sideBar": true,
   "skip_h1_title": false,
   "title_cell": "Table of Contents",
   "title_sidebar": "Contents",
   "toc_cell": false,
   "toc_position": {},
   "toc_section_display": true,
   "toc_window_display": false
  }
 },
 "nbformat": 4,
 "nbformat_minor": 1
}