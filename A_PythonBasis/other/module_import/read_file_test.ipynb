{
 "cells": [
  {
   "cell_type": "code",
   "execution_count": 9,
   "metadata": {
    "collapsed": true
   },
   "outputs": [],
   "source": [
    "import os\n",
    "\n",
    "from file_operate.read_csv_file import read_csv_file, read_csv_file_"
   ]
  },
  {
   "cell_type": "code",
   "execution_count": 10,
   "outputs": [
    {
     "name": "stdout",
     "output_type": "stream",
     "text": [
      "  something  a   b     c   d message\n",
      "A       one  1   2   3.0   4     NaN\n",
      "B       two  5   6   NaN   8   world\n",
      "C     three  9  10  11.0  12     foo\n"
     ]
    }
   ],
   "source": [
    "# module_import\\dir_relative_read\\data\\data.csv与module_import\\relative_read_file_test.ipynb的相对位置\n",
    "path = 'file_operate/data/data.csv'\n",
    "dataframe = read_csv_file(path)\n",
    "print(dataframe)"
   ],
   "metadata": {
    "collapsed": false,
    "pycharm": {
     "name": "#%%\n"
    }
   }
  },
  {
   "cell_type": "code",
   "execution_count": 11,
   "outputs": [
    {
     "name": "stdout",
     "output_type": "stream",
     "text": [
      "  something  a   b     c   d message\n",
      "A       one  1   2   3.0   4     NaN\n",
      "B       two  5   6   NaN   8   world\n",
      "C     three  9  10  11.0  12     foo\n"
     ]
    }
   ],
   "source": [
    "dataframe_ = read_csv_file_()\n",
    "print(dataframe_)"
   ],
   "metadata": {
    "collapsed": false,
    "pycharm": {
     "name": "#%%\n"
    }
   }
  }
 ],
 "metadata": {
  "kernelspec": {
   "display_name": "Python 3",
   "language": "python",
   "name": "python3"
  },
  "language_info": {
   "codemirror_mode": {
    "name": "ipython",
    "version": 2
   },
   "file_extension": ".py",
   "mimetype": "text/x-python",
   "name": "python",
   "nbconvert_exporter": "python",
   "pygments_lexer": "ipython2",
   "version": "2.7.6"
  }
 },
 "nbformat": 4,
 "nbformat_minor": 0
}