{
 "cells": [
  {
   "cell_type": "code",
   "execution_count": 12,
   "outputs": [
    {
     "name": "stdout",
     "output_type": "stream",
     "text": [
      "tensor(0.1050)\n",
      "tensor([0.5000, 0.3500, 0.0700, 0.1050])\n"
     ]
    }
   ],
   "source": [
    "import torch\n",
    "\n",
    "# 类似numpy.prod/cumprod\n",
    "print(torch.prod(torch.tensor([0.5, 0.7, 0.2, 1.5]))) # 求和\n",
    "print(torch.cumprod(torch.tensor([0.5, 0.7, 0.2, 1.5]), dim=0)) # 累和"
   ],
   "metadata": {
    "collapsed": false,
    "pycharm": {
     "name": "#%%\n"
    }
   }
  },
  {
   "cell_type": "code",
   "execution_count": 13,
   "metadata": {
    "pycharm": {
     "metadata": false,
     "name": "#%%\n"
    }
   },
   "outputs": [
    {
     "name": "stdout",
     "output_type": "stream",
     "text": [
      "tensor(720)\n",
      "tensor([[ 1,  2,  3],\n",
      "        [ 4, 10, 18]])\n"
     ]
    }
   ],
   "source": [
    "a = torch.tensor([[1, 2, 3],\n",
    "                  [4, 5, 6]])\n",
    "print(torch.prod(a))\n",
    "print(torch.cumprod(a, dim=0)) # 必须指定dim"
   ]
  },
  {
   "cell_type": "code",
   "execution_count": 14,
   "metadata": {
    "pycharm": {
     "metadata": false,
     "name": "#%%\n"
    }
   },
   "outputs": [
    {
     "name": "stdout",
     "output_type": "stream",
     "text": [
      "tensor([[  1,   2,   6],\n",
      "        [  4,  20, 120]])\n"
     ]
    }
   ],
   "source": [
    "print(torch.cumprod(a, dim=1))"
   ]
  },
  {
   "cell_type": "code",
   "execution_count": 15,
   "metadata": {
    "pycharm": {
     "metadata": false,
     "name": "#%%\n"
    }
   },
   "outputs": [
    {
     "name": "stdout",
     "output_type": "stream",
     "text": [
      "tensor([  1,   2,   6,  24, 120, 720])\n"
     ]
    }
   ],
   "source": [
    "print(torch.cumprod(a.flatten(), dim=0))\n"
   ]
  }
 ],
 "metadata": {
  "kernelspec": {
   "display_name": "Python 3",
   "language": "python",
   "name": "python3"
  },
  "language_info": {
   "codemirror_mode": {
    "name": "ipython",
    "version": 3
   },
   "file_extension": ".py",
   "mimetype": "text/x-python",
   "name": "python",
   "nbconvert_exporter": "python",
   "pygments_lexer": "ipython3",
   "version": "3.7.3"
  }
 },
 "nbformat": 4,
 "nbformat_minor": 1
}