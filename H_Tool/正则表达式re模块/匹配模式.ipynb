{
 "cells": [
  {
   "cell_type": "markdown",
   "metadata": {
    "collapsed": true,
    "pycharm": {
     "name": "#%% md\n"
    }
   },
   "source": [
    "|修饰符|描述|\n",
    "|:---:|:---:|\n",
    "|re.I|\t使匹配对大小写不敏感|\n",
    "|re.M| \t多行匹配,影响 ^ 和 $|\n",
    "|re.S|  使.匹配包括换行在内的所有字符|"
   ]
  },
  {
   "cell_type": "code",
   "execution_count": 43,
   "outputs": [
    {
     "name": "stdout",
     "text": [
      "con\n"
     ],
     "output_type": "stream"
    }
   ],
   "source": [
    "import re\n",
    "\n",
    "S1 = 'CoN'  \n",
    "S2 = 'www.xiao.con' \n",
    "print(re.search(S1, S2, re.I).group())  # 不区分大小写"
   ],
   "metadata": {
    "collapsed": false,
    "pycharm": {
     "name": "#%%\n",
     "is_executing": false
    }
   }
  },
  {
   "cell_type": "code",
   "execution_count": 44,
   "outputs": [
    {
     "name": "stdout",
     "text": [
      "['girl', 'boy', 'friends', 'game']\n"
     ],
     "output_type": "stream"
    }
   ],
   "source": [
    "S3 = '''I am girl\n",
    "        you are boy\n",
    "        we are friends\n",
    "        play game'''\n",
    "print(re.findall(r\"\\w+$\", S3, re.M)) # 输出的每行最后一个字符串"
   ],
   "metadata": {
    "collapsed": false,
    "pycharm": {
     "name": "#%%\n",
     "is_executing": false
    }
   }
  },
  {
   "cell_type": "code",
   "execution_count": 45,
   "outputs": [
    {
     "name": "stdout",
     "text": [
      "['world：    \\n        11630\\n        ']",
      "\n"
     ],
     "output_type": "stream"
    }
   ],
   "source": [
    "s4 = '''jduedhhelloworld：    \n",
    "        11630\n",
    "        passgrthgdg\n",
    "        '''                     \n",
    "c = re.findall('hello(.*?)pass', s4, re.S) # S匹配包括换行在内的所有字符\n",
    "print(c) "
   ],
   "metadata": {
    "collapsed": false,
    "pycharm": {
     "name": "#%%\n",
     "is_executing": false
    }
   }
  },
  {
   "cell_type": "code",
   "execution_count": null,
   "outputs": [],
   "source": [
    "\n"
   ],
   "metadata": {
    "collapsed": false,
    "pycharm": {
     "name": "#%%\n"
    }
   }
  }
 ],
 "metadata": {
  "kernelspec": {
   "display_name": "Python 3",
   "language": "python",
   "name": "python3"
  },
  "language_info": {
   "codemirror_mode": {
    "name": "ipython",
    "version": 2
   },
   "file_extension": ".py",
   "mimetype": "text/x-python",
   "name": "python",
   "nbconvert_exporter": "python",
   "pygments_lexer": "ipython2",
   "version": "2.7.6"
  },
  "pycharm": {
   "stem_cell": {
    "cell_type": "raw",
    "source": [],
    "metadata": {
     "collapsed": false
    }
   }
  }
 },
 "nbformat": 4,
 "nbformat_minor": 0
}