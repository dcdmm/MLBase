{
 "cells": [
  {
   "cell_type": "code",
   "execution_count": 126,
   "metadata": {
    "collapsed": true
   },
   "outputs": [],
   "source": [
    "import torch.optim as optim\n",
    "import torch\n",
    "\n",
    "loss_value = 0.5 # 损失值\n",
    "LR = 1 # 学习率\n",
    "iteration = 10\n",
    "max_epoch = 200\n",
    "weights = torch.tensor(1, requires_grad=True, dtype=torch.float32)\n",
    "target = torch.zeros(1)\n",
    "\n",
    "optimizer = optim.SGD([weights], lr=LR, momentum=0.9)\n",
    "\n",
    "# Reduce learning rate when a metric has stopped improving\n",
    "scheduler_lr = optim.lr_scheduler.ReduceLROnPlateau(optimizer, # 调节的是优化器lr参数\n",
    "                                                    factor=0.1, # factor (float) – Factor by which the learning rate will be reduced. new_lr = lr * factor. Default: 0.1.\n",
    "                                                    mode='min', # mode=min通用用于损失类指标,mode=max通用用于精度类指标\n",
    "                                                    patience=5,\n",
    "                                                    cooldown=5,\n",
    "                                                    min_lr=0, # 学习率下限\n",
    "                                                    eps=1e-12, # eps (float) – Minimal decay applied to lr. If the difference between new and old lr is smaller than eps, the update is ignored. Default: 1e-8.\n",
    "                                                    verbose=True) # If True, prints a message to stdout for each update. Default: False"
   ]
  },
  {
   "cell_type": "code",
   "execution_count": 127,
   "outputs": [
    {
     "name": "stdout",
     "output_type": "stream",
     "text": [
      "Epoch     9: reducing learning rate of group 0 to 1.0000e-01.\n",
      "Epoch    20: reducing learning rate of group 0 to 1.0000e-02.\n",
      "Epoch    31: reducing learning rate of group 0 to 1.0000e-03.\n",
      "Epoch    42: reducing learning rate of group 0 to 1.0000e-04.\n",
      "Epoch    53: reducing learning rate of group 0 to 1.0000e-05.\n",
      "Epoch    64: reducing learning rate of group 0 to 1.0000e-06.\n",
      "Epoch    75: reducing learning rate of group 0 to 1.0000e-07.\n",
      "Epoch    86: reducing learning rate of group 0 to 1.0000e-08.\n",
      "Epoch    97: reducing learning rate of group 0 to 1.0000e-09.\n",
      "Epoch   108: reducing learning rate of group 0 to 1.0000e-10.\n",
      "Epoch   119: reducing learning rate of group 0 to 1.0000e-11.\n",
      "Epoch   130: reducing learning rate of group 0 to 1.0000e-12.\n"
     ]
    }
   ],
   "source": [
    "'''\n",
    "mode (str) –\n",
    "    One of min, max. In min mode, lr will be reduced when the quantity monitored has stopped decreasing;\n",
    "    in max mode it will be reduced when the quantity monitored has stopped increasing. Default: ‘min’.\n",
    "\n",
    "patience (int) –\n",
    "    Number of epochs with no improvement after which learning rate will be reduced.\n",
    "    For example, if patience = 2, then we will ignore the first 2 epochs with no improvement,\n",
    "    and will only decrease the LR after the 3rd epoch if the loss still hasn’t improved then. Default: 10.\n",
    "\n",
    "cooldown (int) –\n",
    "    Number of epochs to wait before resuming normal operation after lr has been reduced. Default: 0.\n",
    "\n",
    "min_lr (float or list) –\n",
    "    A scalar or a list of scalars.\n",
    "    A lower bound on the learning rate of all param groups or each group respectively. Default: 0.\n",
    "'''\n",
    "\n",
    "for epoch in range(max_epoch):\n",
    "    for i in range(iteration):\n",
    "        optimizer.step()\n",
    "        optimizer.zero_grad()\n",
    "\n",
    "    if epoch==2:\n",
    "       loss_value=0.1\n",
    "\n",
    "    # 输出Epoch从1开始\n",
    "    scheduler_lr.step(loss_value) # 传入监控指标"
   ],
   "metadata": {
    "collapsed": false,
    "pycharm": {
     "name": "#%%\n"
    }
   }
  },
  {
   "cell_type": "code",
   "execution_count": 128,
   "outputs": [],
   "source": [
    "# 运行结果解析:\n",
    "# 第1轮loss=0.5\n",
    "# 第3轮时loss=0.1,loss下降\n",
    "# 第4, 5, 6, 7, 8轮时loss=0.1,loss不变\n",
    "# 由于patience=5,故第9轮时学习率下降,即学习率=学习率*factor\n",
    "# 第10, 11, 12, 13, 14轮loss仍然不变\n",
    "# 第15, 16, 17, 18, 19轮loos仍然不变\n",
    "# 由于patience=5,cooldown=5,故第20轮时学习率下降\n",
    "# ......\n",
    "# ......\n",
    "# ......\n",
    "# 若学习率继续下降,第Epoch130轮学习率与下一次学习率差值将小于eps,故此后学习率将不再下降"
   ],
   "metadata": {
    "collapsed": false,
    "pycharm": {
     "name": "#%%\n"
    }
   }
  }
 ],
 "metadata": {
  "kernelspec": {
   "display_name": "Python 3",
   "language": "python",
   "name": "python3"
  },
  "language_info": {
   "codemirror_mode": {
    "name": "ipython",
    "version": 2
   },
   "file_extension": ".py",
   "mimetype": "text/x-python",
   "name": "python",
   "nbconvert_exporter": "python",
   "pygments_lexer": "ipython2",
   "version": "2.7.6"
  }
 },
 "nbformat": 4,
 "nbformat_minor": 0
}