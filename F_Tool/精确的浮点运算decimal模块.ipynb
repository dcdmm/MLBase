{
 "cells": [
  {
   "cell_type": "code",
   "execution_count": 2,
   "outputs": [
    {
     "data": {
      "text/plain": "4.440892098500626e-16"
     },
     "metadata": {},
     "output_type": "execute_result",
     "execution_count": 2
    }
   ],
   "source": [
    "a = 4.2\n",
    "b = 2.1\n",
    "a + b - a - b # 机器进行二进制计算引入的误差"
   ],
   "metadata": {
    "collapsed": false,
    "pycharm": {
     "name": "#%%\n",
     "is_executing": false
    }
   }
  },
  {
   "cell_type": "code",
   "execution_count": 120,
   "outputs": [
    {
     "name": "stdout",
     "text": [
      "1.2199999999999999733546474089962430298328399658203125\n1.2199999999999999733546474089962430298328399658203125\n"
     ],
     "output_type": "stream"
    }
   ],
   "source": [
    "from decimal import  *\n",
    "print(Decimal(1.22)) # Decimal函数并不建议传入浮点型数据,因为浮点型数据本身就是不精确的\n",
    "print(Decimal.from_float(1.22))"
   ],
   "metadata": {
    "pycharm": {
     "metadata": false,
     "name": "#%%\n",
     "is_executing": false
    }
   }
  },
  {
   "cell_type": "code",
   "execution_count": 121,
   "outputs": [
    {
     "data": {
      "text/plain": "Decimal('6.3')"
     },
     "metadata": {},
     "output_type": "execute_result",
     "execution_count": 121
    }
   ],
   "source": "a = Decimal('4.2') # Decimal函数传入的浮点数必须加引号(”),表示成字符串形式(否则不精确)\nb = Decimal('2.1')\na + b",
   "metadata": {
    "pycharm": {
     "metadata": false,
     "name": "#%%\n",
     "is_executing": false
    }
   }
  },
  {
   "cell_type": "code",
   "execution_count": 122,
   "outputs": [
    {
     "name": "stdout",
     "text": [
      "1.293\n1.291787040858439950474618242\n"
     ],
     "output_type": "stream"
    }
   ],
   "source": "getcontext().prec = 28 # 设定全局小数点精度(默认为28)\nwith localcontext() as ctx:\n    ctx.prec = 4 # 局部设置,用with做代码块区分\n    print(Decimal('3.13') / Decimal('2.42'))\n\nprint(Decimal('3.13') / Decimal('2.423')) # 退出with块时,将自动恢复选项值",
   "metadata": {
    "pycharm": {
     "metadata": false,
     "name": "#%%\n",
     "is_executing": false
    }
   }
  },
  {
   "cell_type": "code",
   "execution_count": 123,
   "outputs": [
    {
     "name": "stdout",
     "text": [
      "<class 'decimal.Decimal'>\n4\n"
     ],
     "output_type": "stream"
    }
   ],
   "source": "c = Decimal(3) # 传入整数时不用加\nd = Decimal(1)\nprint(type(c + d)) # 类型是decimal.Decimal\nprint(c + d)",
   "metadata": {
    "pycharm": {
     "metadata": false,
     "name": "#%%\n",
     "is_executing": false
    }
   }
  },
  {
   "cell_type": "code",
   "execution_count": 130,
   "outputs": [
    {
     "data": {
      "text/plain": "Decimal('0.3333333')"
     },
     "metadata": {},
     "output_type": "execute_result",
     "execution_count": 130
    }
   ],
   "source": "getcontext().prec = 7 \nDecimal('1') / Decimal('3')",
   "metadata": {
    "pycharm": {
     "metadata": false,
     "name": "#%%\n",
     "is_executing": false
    }
   }
  },
  {
   "cell_type": "code",
   "execution_count": 128,
   "outputs": [
    {
     "name": "stdout",
     "text": [
      "1.236\n"
     ],
     "output_type": "stream"
    }
   ],
   "source": "print(Decimal('1.2356568355').quantize(Decimal('0.000'))) # 设定小数位数(不能高于getcontext().prec,否指报错)",
   "metadata": {
    "pycharm": {
     "metadata": false,
     "name": "#%%\n",
     "is_executing": false
    }
   }
  },
  {
   "cell_type": "code",
   "execution_count": 50,
   "outputs": [
    {
     "data": {
      "text/plain": "Decimal('1.23')"
     },
     "metadata": {},
     "output_type": "execute_result",
     "execution_count": 50
    }
   ],
   "source": "float(Decimal('1.2346568355').quantize(Decimal('0.00'))) # 转换成字符串(float)格式",
   "metadata": {
    "pycharm": {
     "metadata": false,
     "name": "#%%\n",
     "is_executing": false
    }
   }
  },
  {
   "cell_type": "code",
   "execution_count": 97,
   "outputs": [
    {
     "data": {
      "text/plain": "'1.23'"
     },
     "metadata": {},
     "output_type": "execute_result",
     "execution_count": 97
    }
   ],
   "source": "str(Decimal('1.2346568355').quantize(Decimal('0.00')))# 转换成字符串(string)格式",
   "metadata": {
    "pycharm": {
     "metadata": false,
     "name": "#%%\n",
     "is_executing": false
    }
   }
  },
  {
   "cell_type": "code",
   "execution_count": 131,
   "outputs": [
    {
     "data": {
      "text/plain": "-2"
     },
     "metadata": {},
     "output_type": "execute_result",
     "execution_count": 131
    }
   ],
   "source": "-7 // 4",
   "metadata": {
    "pycharm": {
     "metadata": false,
     "name": "#%%\n",
     "is_executing": false
    }
   }
  },
  {
   "cell_type": "code",
   "execution_count": 132,
   "outputs": [
    {
     "data": {
      "text/plain": "Decimal('-1')"
     },
     "metadata": {},
     "output_type": "execute_result",
     "execution_count": 132
    }
   ],
   "source": "Decimal(-7) // Decimal(4) # 返回真商的整数部分",
   "metadata": {
    "pycharm": {
     "metadata": false,
     "name": "#%%\n",
     "is_executing": false
    }
   }
  },
  {
   "cell_type": "code",
   "execution_count": null,
   "outputs": [],
   "source": "\n",
   "metadata": {
    "pycharm": {
     "metadata": false,
     "name": "#%%\n"
    }
   }
  }
 ],
 "metadata": {
  "language_info": {
   "codemirror_mode": {
    "name": "ipython",
    "version": 2
   },
   "file_extension": ".py",
   "mimetype": "text/x-python",
   "name": "python",
   "nbconvert_exporter": "python",
   "pygments_lexer": "ipython2",
   "version": "2.7.6"
  },
  "kernelspec": {
   "name": "python3",
   "language": "python",
   "display_name": "Python 3"
  },
  "pycharm": {
   "stem_cell": {
    "cell_type": "raw",
    "source": [],
    "metadata": {
     "collapsed": false
    }
   }
  }
 },
 "nbformat": 4,
 "nbformat_minor": 0
}