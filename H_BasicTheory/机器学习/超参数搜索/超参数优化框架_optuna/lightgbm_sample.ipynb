{
 "cells": [
  {
   "cell_type": "code",
   "execution_count": 8,
   "metadata": {
    "collapsed": true
   },
   "outputs": [],
   "source": [
    "import numpy as np\n",
    "import optuna\n",
    "import lightgbm as lgb\n",
    "import sklearn.datasets\n",
    "import sklearn.metrics\n",
    "from sklearn.model_selection import train_test_split"
   ]
  },
  {
   "cell_type": "code",
   "execution_count": 9,
   "outputs": [
    {
     "name": "stdout",
     "output_type": "stream",
     "text": [
      "(569, 30)\n"
     ]
    }
   ],
   "source": [
    "# 二分类问题\n",
    "data, target = sklearn.datasets.load_breast_cancer(return_X_y=True)\n",
    "print(data.shape)"
   ],
   "metadata": {
    "collapsed": false,
    "pycharm": {
     "name": "#%%\n"
    }
   }
  },
  {
   "cell_type": "code",
   "execution_count": 10,
   "outputs": [],
   "source": [
    "# 第一个参数必须为trial\n",
    "def objective(trial, data, target):\n",
    "    train_x, valid_x, train_y, valid_y = train_test_split(data, target, test_size=0.25)\n",
    "    dtrain = lgb.Dataset(train_x, label=train_y)\n",
    "\n",
    "    param = {\n",
    "        \"objective\": \"binary\",\n",
    "        \"metric\": \"binary_logloss\",\n",
    "        \"verbosity\": -1,\n",
    "        \"boosting_type\": \"gbdt\",\n",
    "        \"lambda_l1\": trial.suggest_float(\"lambda_l1\", 1e-8, 10.0, log=True),\n",
    "        \"lambda_l2\": trial.suggest_float(\"lambda_l2\", 1e-8, 10.0, log=True),\n",
    "        \"num_leaves\": trial.suggest_int(\"num_leaves\", 2, 256),\n",
    "        \"feature_fraction\": trial.suggest_float(\"feature_fraction\", 0.4, 1.0),\n",
    "        \"bagging_fraction\": trial.suggest_float(\"bagging_fraction\", 0.4, 1.0),\n",
    "        \"bagging_freq\": trial.suggest_int(\"bagging_freq\", 1, 7),\n",
    "        \"min_child_samples\": trial.suggest_int(\"min_child_samples\", 5, 100),\n",
    "    }\n",
    "\n",
    "    # 也可在次进行交叉验证\n",
    "    gbm = lgb.train(param, dtrain)\n",
    "    preds = gbm.predict(valid_x)\n",
    "    pred_labels = np.around(preds)\n",
    "    accuracy = sklearn.metrics.accuracy_score(valid_y, pred_labels)\n",
    "    return accuracy"
   ],
   "metadata": {
    "collapsed": false,
    "pycharm": {
     "name": "#%%\n"
    }
   }
  },
  {
   "cell_type": "code",
   "execution_count": 11,
   "outputs": [
    {
     "name": "stderr",
     "output_type": "stream",
     "text": [
      "\u001B[32m[I 2021-09-18 18:08:47,506]\u001B[0m A new study created in memory with name: no-name-c10caea5-1dd3-4bbb-ae6c-34942de0e17f\u001B[0m\n",
      "\u001B[32m[I 2021-09-18 18:08:47,520]\u001B[0m Trial 0 finished with value: 0.9300699300699301 and parameters: {'lambda_l1': 5.675834596634304e-07, 'lambda_l2': 1.0011856405278337, 'num_leaves': 67, 'feature_fraction': 0.8310439132276943, 'bagging_fraction': 0.4275888039757475, 'bagging_freq': 7, 'min_child_samples': 67}. Best is trial 0 with value: 0.9300699300699301.\u001B[0m\n",
      "\u001B[32m[I 2021-09-18 18:08:47,550]\u001B[0m Trial 1 finished with value: 0.972027972027972 and parameters: {'lambda_l1': 1.8543911147991013e-07, 'lambda_l2': 1.2505699236880075, 'num_leaves': 237, 'feature_fraction': 0.7446835580561992, 'bagging_fraction': 0.7219321158928171, 'bagging_freq': 5, 'min_child_samples': 7}. Best is trial 1 with value: 0.972027972027972.\u001B[0m\n",
      "\u001B[32m[I 2021-09-18 18:08:47,573]\u001B[0m Trial 2 finished with value: 0.9440559440559441 and parameters: {'lambda_l1': 0.005629420531695931, 'lambda_l2': 1.3655909619471152, 'num_leaves': 223, 'feature_fraction': 0.9618342816494255, 'bagging_fraction': 0.41863967322333107, 'bagging_freq': 6, 'min_child_samples': 21}. Best is trial 1 with value: 0.972027972027972.\u001B[0m\n",
      "\u001B[32m[I 2021-09-18 18:08:47,591]\u001B[0m Trial 3 finished with value: 0.9370629370629371 and parameters: {'lambda_l1': 4.640812567439005, 'lambda_l2': 2.0528219647504002, 'num_leaves': 8, 'feature_fraction': 0.5497264790953346, 'bagging_fraction': 0.6359959831899162, 'bagging_freq': 7, 'min_child_samples': 20}. Best is trial 1 with value: 0.972027972027972.\u001B[0m\n",
      "\u001B[32m[I 2021-09-18 18:08:47,623]\u001B[0m Trial 4 finished with value: 0.9790209790209791 and parameters: {'lambda_l1': 0.40919955825296006, 'lambda_l2': 6.799553835474429e-06, 'num_leaves': 188, 'feature_fraction': 0.41739755628099323, 'bagging_fraction': 0.9766938347256185, 'bagging_freq': 4, 'min_child_samples': 9}. Best is trial 4 with value: 0.9790209790209791.\u001B[0m\n",
      "\u001B[32m[I 2021-09-18 18:08:47,641]\u001B[0m Trial 5 finished with value: 0.972027972027972 and parameters: {'lambda_l1': 0.013235900791380338, 'lambda_l2': 5.439041859201574e-07, 'num_leaves': 103, 'feature_fraction': 0.4664729728729936, 'bagging_fraction': 0.6932663707006151, 'bagging_freq': 3, 'min_child_samples': 83}. Best is trial 4 with value: 0.9790209790209791.\u001B[0m\n",
      "\u001B[32m[I 2021-09-18 18:08:47,662]\u001B[0m Trial 6 finished with value: 0.958041958041958 and parameters: {'lambda_l1': 0.002013714043570829, 'lambda_l2': 0.003629449340627034, 'num_leaves': 184, 'feature_fraction': 0.4285893677587344, 'bagging_fraction': 0.7527423743023338, 'bagging_freq': 2, 'min_child_samples': 57}. Best is trial 4 with value: 0.9790209790209791.\u001B[0m\n",
      "\u001B[32m[I 2021-09-18 18:08:47,683]\u001B[0m Trial 7 finished with value: 0.965034965034965 and parameters: {'lambda_l1': 1.7441225807244096e-05, 'lambda_l2': 0.009090416581294988, 'num_leaves': 102, 'feature_fraction': 0.5952569838133405, 'bagging_fraction': 0.937789931340214, 'bagging_freq': 4, 'min_child_samples': 83}. Best is trial 4 with value: 0.9790209790209791.\u001B[0m\n",
      "\u001B[32m[I 2021-09-18 18:08:47,704]\u001B[0m Trial 8 finished with value: 0.965034965034965 and parameters: {'lambda_l1': 2.18354893057666e-06, 'lambda_l2': 0.028324144722263734, 'num_leaves': 207, 'feature_fraction': 0.9106606416077978, 'bagging_fraction': 0.6215987350368616, 'bagging_freq': 4, 'min_child_samples': 93}. Best is trial 4 with value: 0.9790209790209791.\u001B[0m\n",
      "\u001B[32m[I 2021-09-18 18:08:47,722]\u001B[0m Trial 9 finished with value: 0.9790209790209791 and parameters: {'lambda_l1': 0.2555308556640104, 'lambda_l2': 2.715648777176934e-08, 'num_leaves': 149, 'feature_fraction': 0.8371589256582211, 'bagging_fraction': 0.5139508700700821, 'bagging_freq': 2, 'min_child_samples': 59}. Best is trial 4 with value: 0.9790209790209791.\u001B[0m\n",
      "\u001B[32m[I 2021-09-18 18:08:47,765]\u001B[0m Trial 10 finished with value: 0.972027972027972 and parameters: {'lambda_l1': 4.149775111399331, 'lambda_l2': 1.508875794255297e-05, 'num_leaves': 157, 'feature_fraction': 0.656915994986025, 'bagging_fraction': 0.9981405766185691, 'bagging_freq': 1, 'min_child_samples': 37}. Best is trial 4 with value: 0.9790209790209791.\u001B[0m\n",
      "\u001B[32m[I 2021-09-18 18:08:47,823]\u001B[0m Trial 11 finished with value: 0.972027972027972 and parameters: {'lambda_l1': 0.08864581760115123, 'lambda_l2': 1.3655518451440382e-08, 'num_leaves': 155, 'feature_fraction': 0.7810076972614428, 'bagging_fraction': 0.8525379346304657, 'bagging_freq': 2, 'min_child_samples': 44}. Best is trial 4 with value: 0.9790209790209791.\u001B[0m\n",
      "\u001B[32m[I 2021-09-18 18:08:47,871]\u001B[0m Trial 12 finished with value: 0.972027972027972 and parameters: {'lambda_l1': 0.16448372625193777, 'lambda_l2': 6.187899539223924e-06, 'num_leaves': 255, 'feature_fraction': 0.8733713344625947, 'bagging_fraction': 0.5377355920233707, 'bagging_freq': 3, 'min_child_samples': 58}. Best is trial 4 with value: 0.9790209790209791.\u001B[0m\n",
      "\u001B[32m[I 2021-09-18 18:08:47,919]\u001B[0m Trial 13 finished with value: 0.9790209790209791 and parameters: {'lambda_l1': 0.317556072211771, 'lambda_l2': 2.2064682392295095e-08, 'num_leaves': 182, 'feature_fraction': 0.6569590297051018, 'bagging_fraction': 0.8491690784703302, 'bagging_freq': 1, 'min_child_samples': 36}. Best is trial 4 with value: 0.9790209790209791.\u001B[0m\n",
      "\u001B[32m[I 2021-09-18 18:08:47,957]\u001B[0m Trial 14 finished with value: 0.9790209790209791 and parameters: {'lambda_l1': 0.00015469581001045598, 'lambda_l2': 6.25468201610337e-07, 'num_leaves': 127, 'feature_fraction': 0.9993928230577538, 'bagging_fraction': 0.5214646015213974, 'bagging_freq': 5, 'min_child_samples': 69}. Best is trial 4 with value: 0.9790209790209791.\u001B[0m\n",
      "\u001B[32m[I 2021-09-18 18:08:48,015]\u001B[0m Trial 15 finished with value: 0.951048951048951 and parameters: {'lambda_l1': 1.8554155777453305e-08, 'lambda_l2': 8.406650157413762e-05, 'num_leaves': 57, 'feature_fraction': 0.5210529392138776, 'bagging_fraction': 0.5200253147564344, 'bagging_freq': 3, 'min_child_samples': 8}. Best is trial 4 with value: 0.9790209790209791.\u001B[0m\n",
      "\u001B[32m[I 2021-09-18 18:08:48,057]\u001B[0m Trial 16 finished with value: 0.972027972027972 and parameters: {'lambda_l1': 9.778714864539449, 'lambda_l2': 1.9477380787061406e-07, 'num_leaves': 191, 'feature_fraction': 0.7100999308913821, 'bagging_fraction': 0.8041367392926102, 'bagging_freq': 2, 'min_child_samples': 25}. Best is trial 4 with value: 0.9790209790209791.\u001B[0m\n",
      "\u001B[32m[I 2021-09-18 18:08:48,106]\u001B[0m Trial 17 finished with value: 0.958041958041958 and parameters: {'lambda_l1': 0.0001549235675763998, 'lambda_l2': 3.365696535012728e-07, 'num_leaves': 136, 'feature_fraction': 0.6446455306042149, 'bagging_fraction': 0.8610814185037663, 'bagging_freq': 5, 'min_child_samples': 70}. Best is trial 4 with value: 0.9790209790209791.\u001B[0m\n",
      "\u001B[32m[I 2021-09-18 18:08:48,176]\u001B[0m Trial 18 finished with value: 0.972027972027972 and parameters: {'lambda_l1': 0.00016351402851101724, 'lambda_l2': 9.06368051532769e-08, 'num_leaves': 95, 'feature_fraction': 0.955897967314902, 'bagging_fraction': 0.8909626529300629, 'bagging_freq': 1, 'min_child_samples': 41}. Best is trial 4 with value: 0.9790209790209791.\u001B[0m\n",
      "\u001B[32m[I 2021-09-18 18:08:48,218]\u001B[0m Trial 19 finished with value: 0.972027972027972 and parameters: {'lambda_l1': 3.26193536245836e-05, 'lambda_l2': 1.7750059827635704e-06, 'num_leaves': 134, 'feature_fraction': 0.9831311245710486, 'bagging_fraction': 0.4996893780523368, 'bagging_freq': 5, 'min_child_samples': 70}. Best is trial 4 with value: 0.9790209790209791.\u001B[0m\n",
      "\u001B[32m[I 2021-09-18 18:08:48,257]\u001B[0m Trial 20 finished with value: 0.9790209790209791 and parameters: {'lambda_l1': 0.001117875029519398, 'lambda_l2': 0.0002864417559812807, 'num_leaves': 43, 'feature_fraction': 0.8555176523072807, 'bagging_fraction': 0.6108952274464348, 'bagging_freq': 6, 'min_child_samples': 97}. Best is trial 4 with value: 0.9790209790209791.\u001B[0m\n",
      "\u001B[32m[I 2021-09-18 18:08:48,294]\u001B[0m Trial 21 finished with value: 0.9370629370629371 and parameters: {'lambda_l1': 0.000594664453989641, 'lambda_l2': 0.00027741630854707895, 'num_leaves': 14, 'feature_fraction': 0.9003196197562533, 'bagging_fraction': 0.6086150580308589, 'bagging_freq': 6, 'min_child_samples': 99}. Best is trial 4 with value: 0.9790209790209791.\u001B[0m\n",
      "\u001B[32m[I 2021-09-18 18:08:48,340]\u001B[0m Trial 22 finished with value: 0.965034965034965 and parameters: {'lambda_l1': 0.015251692996701968, 'lambda_l2': 1.4373221536418284e-08, 'num_leaves': 163, 'feature_fraction': 0.8052370406361288, 'bagging_fraction': 0.4707255205076745, 'bagging_freq': 1, 'min_child_samples': 48}. Best is trial 4 with value: 0.9790209790209791.\u001B[0m\n",
      "\u001B[32m[I 2021-09-18 18:08:48,378]\u001B[0m Trial 23 finished with value: 0.986013986013986 and parameters: {'lambda_l1': 1.3276202069012623e-05, 'lambda_l2': 2.3756407575927856e-05, 'num_leaves': 56, 'feature_fraction': 0.9930008038189703, 'bagging_fraction': 0.5835506684752874, 'bagging_freq': 6, 'min_child_samples': 83}. Best is trial 23 with value: 0.986013986013986.\u001B[0m\n",
      "\u001B[32m[I 2021-09-18 18:08:48,415]\u001B[0m Trial 24 finished with value: 0.958041958041958 and parameters: {'lambda_l1': 1.2193279034851553e-05, 'lambda_l2': 4.673799473359572e-05, 'num_leaves': 38, 'feature_fraction': 0.9238458188602662, 'bagging_fraction': 0.5807624978951249, 'bagging_freq': 6, 'min_child_samples': 83}. Best is trial 23 with value: 0.986013986013986.\u001B[0m\n",
      "\u001B[32m[I 2021-09-18 18:08:48,455]\u001B[0m Trial 25 finished with value: 0.958041958041958 and parameters: {'lambda_l1': 6.2663249666853206e-06, 'lambda_l2': 8.075079502993674e-07, 'num_leaves': 72, 'feature_fraction': 0.9925759070098296, 'bagging_fraction': 0.6714864273064299, 'bagging_freq': 5, 'min_child_samples': 76}. Best is trial 23 with value: 0.986013986013986.\u001B[0m\n",
      "\u001B[32m[I 2021-09-18 18:08:48,494]\u001B[0m Trial 26 finished with value: 0.965034965034965 and parameters: {'lambda_l1': 0.00011710014552381782, 'lambda_l2': 6.770008943089282e-08, 'num_leaves': 111, 'feature_fraction': 0.6474830467529827, 'bagging_fraction': 0.7738770676386455, 'bagging_freq': 7, 'min_child_samples': 88}. Best is trial 23 with value: 0.986013986013986.\u001B[0m\n",
      "\u001B[32m[I 2021-09-18 18:08:48,538]\u001B[0m Trial 27 finished with value: 0.9440559440559441 and parameters: {'lambda_l1': 1.0081343898933857, 'lambda_l2': 5.934835097145864e-06, 'num_leaves': 182, 'feature_fraction': 0.5040966028317653, 'bagging_fraction': 0.9875808580019337, 'bagging_freq': 4, 'min_child_samples': 34}. Best is trial 23 with value: 0.986013986013986.\u001B[0m\n",
      "\u001B[32m[I 2021-09-18 18:08:48,574]\u001B[0m Trial 28 finished with value: 0.9790209790209791 and parameters: {'lambda_l1': 0.04291312091556515, 'lambda_l2': 0.0004317132848742402, 'num_leaves': 35, 'feature_fraction': 0.7486796836394655, 'bagging_fraction': 0.5750353530158772, 'bagging_freq': 6, 'min_child_samples': 99}. Best is trial 23 with value: 0.986013986013986.\u001B[0m\n",
      "\u001B[32m[I 2021-09-18 18:08:48,614]\u001B[0m Trial 29 finished with value: 0.965034965034965 and parameters: {'lambda_l1': 5.414199197540656e-07, 'lambda_l2': 0.2215307885763171, 'num_leaves': 67, 'feature_fraction': 0.8525596242481955, 'bagging_fraction': 0.47371695976902933, 'bagging_freq': 7, 'min_child_samples': 77}. Best is trial 23 with value: 0.986013986013986.\u001B[0m\n",
      "\u001B[32m[I 2021-09-18 18:08:48,651]\u001B[0m Trial 30 finished with value: 0.965034965034965 and parameters: {'lambda_l1': 0.04144752162106954, 'lambda_l2': 4.900807833113259e-05, 'num_leaves': 25, 'feature_fraction': 0.7710074820210242, 'bagging_fraction': 0.565011822515648, 'bagging_freq': 6, 'min_child_samples': 92}. Best is trial 23 with value: 0.986013986013986.\u001B[0m\n",
      "\u001B[32m[I 2021-09-18 18:08:48,690]\u001B[0m Trial 31 finished with value: 0.972027972027972 and parameters: {'lambda_l1': 0.0012579301073122333, 'lambda_l2': 0.000814664540441983, 'num_leaves': 49, 'feature_fraction': 0.7232458940223905, 'bagging_fraction': 0.6442626312458318, 'bagging_freq': 6, 'min_child_samples': 100}. Best is trial 23 with value: 0.986013986013986.\u001B[0m\n",
      "\u001B[32m[I 2021-09-18 18:08:48,728]\u001B[0m Trial 32 finished with value: 0.958041958041958 and parameters: {'lambda_l1': 0.9585685735520171, 'lambda_l2': 0.00037735815029389745, 'num_leaves': 83, 'feature_fraction': 0.813888795022131, 'bagging_fraction': 0.5829909397441725, 'bagging_freq': 4, 'min_child_samples': 94}. Best is trial 23 with value: 0.986013986013986.\u001B[0m\n",
      "\u001B[32m[I 2021-09-18 18:08:48,765]\u001B[0m Trial 33 finished with value: 0.972027972027972 and parameters: {'lambda_l1': 0.0047481901603629055, 'lambda_l2': 0.0019435198930712594, 'num_leaves': 33, 'feature_fraction': 0.7462431288241307, 'bagging_fraction': 0.7113207128858904, 'bagging_freq': 7, 'min_child_samples': 100}. Best is trial 23 with value: 0.986013986013986.\u001B[0m\n",
      "\u001B[32m[I 2021-09-18 18:08:48,804]\u001B[0m Trial 34 finished with value: 0.9790209790209791 and parameters: {'lambda_l1': 0.0299874696523677, 'lambda_l2': 0.0001948173125265778, 'num_leaves': 3, 'feature_fraction': 0.9410582987029594, 'bagging_fraction': 0.40740563496899296, 'bagging_freq': 6, 'min_child_samples': 88}. Best is trial 23 with value: 0.986013986013986.\u001B[0m\n",
      "\u001B[32m[I 2021-09-18 18:08:48,842]\u001B[0m Trial 35 finished with value: 0.951048951048951 and parameters: {'lambda_l1': 0.025434714060460346, 'lambda_l2': 0.00023682442550291815, 'num_leaves': 5, 'feature_fraction': 0.9432793047821355, 'bagging_fraction': 0.4228928396092458, 'bagging_freq': 6, 'min_child_samples': 88}. Best is trial 23 with value: 0.986013986013986.\u001B[0m\n",
      "\u001B[32m[I 2021-09-18 18:08:48,880]\u001B[0m Trial 36 finished with value: 0.9790209790209791 and parameters: {'lambda_l1': 3.73548221598662e-05, 'lambda_l2': 1.6577872533948466e-06, 'num_leaves': 18, 'feature_fraction': 0.8836248344797475, 'bagging_fraction': 0.46514389344555807, 'bagging_freq': 5, 'min_child_samples': 65}. Best is trial 23 with value: 0.986013986013986.\u001B[0m\n",
      "\u001B[32m[I 2021-09-18 18:08:48,918]\u001B[0m Trial 37 finished with value: 0.972027972027972 and parameters: {'lambda_l1': 2.555191711165827e-06, 'lambda_l2': 3.091243558955261e-06, 'num_leaves': 20, 'feature_fraction': 0.8871632423132946, 'bagging_fraction': 0.4631684059139334, 'bagging_freq': 5, 'min_child_samples': 78}. Best is trial 23 with value: 0.986013986013986.\u001B[0m\n",
      "\u001B[32m[I 2021-09-18 18:08:48,966]\u001B[0m Trial 38 finished with value: 0.9440559440559441 and parameters: {'lambda_l1': 0.7759600741148944, 'lambda_l2': 2.0823944322544376e-05, 'num_leaves': 59, 'feature_fraction': 0.4017768548864749, 'bagging_fraction': 0.40453717700004593, 'bagging_freq': 7, 'min_child_samples': 11}. Best is trial 23 with value: 0.986013986013986.\u001B[0m\n",
      "\u001B[32m[I 2021-09-18 18:08:49,009]\u001B[0m Trial 39 finished with value: 0.958041958041958 and parameters: {'lambda_l1': 8.13279075787976e-08, 'lambda_l2': 0.030430553106464586, 'num_leaves': 227, 'feature_fraction': 0.5816240807756086, 'bagging_fraction': 0.6622860432837946, 'bagging_freq': 4, 'min_child_samples': 61}. Best is trial 23 with value: 0.986013986013986.\u001B[0m\n",
      "\u001B[32m[I 2021-09-18 18:08:49,057]\u001B[0m Trial 40 finished with value: 0.958041958041958 and parameters: {'lambda_l1': 5.284303930950768e-05, 'lambda_l2': 1.7348154574794433e-06, 'num_leaves': 47, 'feature_fraction': 0.6765040866542003, 'bagging_fraction': 0.758813281261251, 'bagging_freq': 5, 'min_child_samples': 52}. Best is trial 23 with value: 0.986013986013986.\u001B[0m\n",
      "\u001B[32m[I 2021-09-18 18:08:49,096]\u001B[0m Trial 41 finished with value: 0.958041958041958 and parameters: {'lambda_l1': 0.004201872989735311, 'lambda_l2': 7.515328773309871e-08, 'num_leaves': 121, 'feature_fraction': 0.8540571722887798, 'bagging_fraction': 0.5433679381581281, 'bagging_freq': 6, 'min_child_samples': 68}. Best is trial 23 with value: 0.986013986013986.\u001B[0m\n",
      "\u001B[32m[I 2021-09-18 18:08:49,135]\u001B[0m Trial 42 finished with value: 0.972027972027972 and parameters: {'lambda_l1': 0.0005117572324669016, 'lambda_l2': 0.0001230371714755776, 'num_leaves': 2, 'feature_fraction': 0.9998621651859012, 'bagging_fraction': 0.4459663679567436, 'bagging_freq': 6, 'min_child_samples': 74}. Best is trial 23 with value: 0.986013986013986.\u001B[0m\n",
      "\u001B[32m[I 2021-09-18 18:08:49,172]\u001B[0m Trial 43 finished with value: 0.951048951048951 and parameters: {'lambda_l1': 0.06612811282914847, 'lambda_l2': 1.8282963607965548e-05, 'num_leaves': 30, 'feature_fraction': 0.929097391521271, 'bagging_fraction': 0.44902878223785, 'bagging_freq': 5, 'min_child_samples': 86}. Best is trial 23 with value: 0.986013986013986.\u001B[0m\n",
      "\u001B[32m[I 2021-09-18 18:08:49,213]\u001B[0m Trial 44 finished with value: 0.951048951048951 and parameters: {'lambda_l1': 0.010742723503291607, 'lambda_l2': 0.0018071368118925053, 'num_leaves': 81, 'feature_fraction': 0.96717024163905, 'bagging_fraction': 0.5057808025828298, 'bagging_freq': 7, 'min_child_samples': 80}. Best is trial 23 with value: 0.986013986013986.\u001B[0m\n",
      "\u001B[32m[I 2021-09-18 18:08:49,254]\u001B[0m Trial 45 finished with value: 0.958041958041958 and parameters: {'lambda_l1': 6.212200057490349e-07, 'lambda_l2': 1.014991984480731e-06, 'num_leaves': 46, 'feature_fraction': 0.6105370397387595, 'bagging_fraction': 0.619904727855822, 'bagging_freq': 5, 'min_child_samples': 64}. Best is trial 23 with value: 0.986013986013986.\u001B[0m\n",
      "\u001B[32m[I 2021-09-18 18:08:49,296]\u001B[0m Trial 46 finished with value: 0.972027972027972 and parameters: {'lambda_l1': 0.1514246506778101, 'lambda_l2': 0.004535308846125989, 'num_leaves': 39, 'feature_fraction': 0.7960381000886986, 'bagging_fraction': 0.6893967770335372, 'bagging_freq': 6, 'min_child_samples': 93}. Best is trial 23 with value: 0.986013986013986.\u001B[0m\n",
      "\u001B[32m[I 2021-09-18 18:08:49,337]\u001B[0m Trial 47 finished with value: 0.972027972027972 and parameters: {'lambda_l1': 2.4614865324000865, 'lambda_l2': 7.157151181335936e-06, 'num_leaves': 15, 'feature_fraction': 0.4747483543633155, 'bagging_fraction': 0.4319063641131796, 'bagging_freq': 4, 'min_child_samples': 27}. Best is trial 23 with value: 0.986013986013986.\u001B[0m\n",
      "\u001B[32m[I 2021-09-18 18:08:49,376]\u001B[0m Trial 48 finished with value: 0.9790209790209791 and parameters: {'lambda_l1': 4.003615219279744e-06, 'lambda_l2': 6.955940341215298e-05, 'num_leaves': 25, 'feature_fraction': 0.9109558676214218, 'bagging_fraction': 0.4895086756218753, 'bagging_freq': 3, 'min_child_samples': 54}. Best is trial 23 with value: 0.986013986013986.\u001B[0m\n",
      "\u001B[32m[I 2021-09-18 18:08:49,419]\u001B[0m Trial 49 finished with value: 0.9790209790209791 and parameters: {'lambda_l1': 6.938789557655168e-06, 'lambda_l2': 4.350756175463156, 'num_leaves': 200, 'feature_fraction': 0.8857559295986697, 'bagging_fraction': 0.5537862945439537, 'bagging_freq': 3, 'min_child_samples': 53}. Best is trial 23 with value: 0.986013986013986.\u001B[0m\n",
      "\u001B[32m[I 2021-09-18 18:08:49,465]\u001B[0m Trial 50 finished with value: 0.9790209790209791 and parameters: {'lambda_l1': 2.381343339828021e-06, 'lambda_l2': 3.5738231733711556, 'num_leaves': 207, 'feature_fraction': 0.9092088349332466, 'bagging_fraction': 0.549812238218362, 'bagging_freq': 3, 'min_child_samples': 52}. Best is trial 23 with value: 0.986013986013986.\u001B[0m\n",
      "\u001B[32m[I 2021-09-18 18:08:49,506]\u001B[0m Trial 51 finished with value: 0.965034965034965 and parameters: {'lambda_l1': 3.0088747629904593e-07, 'lambda_l2': 6.739594730437999, 'num_leaves': 211, 'feature_fraction': 0.8369493078167414, 'bagging_fraction': 0.5509237231917999, 'bagging_freq': 3, 'min_child_samples': 85}. Best is trial 23 with value: 0.986013986013986.\u001B[0m\n",
      "\u001B[32m[I 2021-09-18 18:08:49,550]\u001B[0m Trial 52 finished with value: 0.986013986013986 and parameters: {'lambda_l1': 7.031573751881495e-05, 'lambda_l2': 3.232684548437601e-08, 'num_leaves': 173, 'feature_fraction': 0.9633678264063477, 'bagging_fraction': 0.5134373345825677, 'bagging_freq': 1, 'min_child_samples': 62}. Best is trial 23 with value: 0.986013986013986.\u001B[0m\n",
      "\u001B[32m[I 2021-09-18 18:08:49,591]\u001B[0m Trial 53 finished with value: 0.972027972027972 and parameters: {'lambda_l1': 5.2760687359548575e-05, 'lambda_l2': 4.1822134076216645e-08, 'num_leaves': 174, 'feature_fraction': 0.95300719068327, 'bagging_fraction': 0.404318393046959, 'bagging_freq': 1, 'min_child_samples': 63}. Best is trial 23 with value: 0.986013986013986.\u001B[0m\n",
      "\u001B[32m[I 2021-09-18 18:08:49,635]\u001B[0m Trial 54 finished with value: 0.972027972027972 and parameters: {'lambda_l1': 0.0006821904221761631, 'lambda_l2': 3.5855086760325487e-07, 'num_leaves': 148, 'feature_fraction': 0.9780219904007328, 'bagging_fraction': 0.9431953528431614, 'bagging_freq': 2, 'min_child_samples': 96}. Best is trial 23 with value: 0.986013986013986.\u001B[0m\n",
      "\u001B[32m[I 2021-09-18 18:08:49,677]\u001B[0m Trial 55 finished with value: 0.986013986013986 and parameters: {'lambda_l1': 0.0002498479852869929, 'lambda_l2': 2.0535320059206728e-07, 'num_leaves': 175, 'feature_fraction': 0.6188267264906646, 'bagging_fraction': 0.4873449713697995, 'bagging_freq': 1, 'min_child_samples': 56}. Best is trial 23 with value: 0.986013986013986.\u001B[0m\n",
      "\u001B[32m[I 2021-09-18 18:08:49,725]\u001B[0m Trial 56 finished with value: 0.9440559440559441 and parameters: {'lambda_l1': 2.0922696185916316e-05, 'lambda_l2': 1.4680880120499576e-07, 'num_leaves': 241, 'feature_fraction': 0.9359502865228737, 'bagging_fraction': 0.5295430935856723, 'bagging_freq': 2, 'min_child_samples': 47}. Best is trial 23 with value: 0.986013986013986.\u001B[0m\n",
      "\u001B[32m[I 2021-09-18 18:08:49,769]\u001B[0m Trial 57 finished with value: 0.9790209790209791 and parameters: {'lambda_l1': 8.167411542768961e-05, 'lambda_l2': 0.42839726972450287, 'num_leaves': 168, 'feature_fraction': 0.5570423767727037, 'bagging_fraction': 0.5891789192538023, 'bagging_freq': 1, 'min_child_samples': 57}. Best is trial 23 with value: 0.986013986013986.\u001B[0m\n",
      "\u001B[32m[I 2021-09-18 18:08:49,813]\u001B[0m Trial 58 finished with value: 0.958041958041958 and parameters: {'lambda_l1': 1.2782354374415968e-06, 'lambda_l2': 4.512417967010694, 'num_leaves': 202, 'feature_fraction': 0.611633513782541, 'bagging_fraction': 0.5628444602256591, 'bagging_freq': 2, 'min_child_samples': 51}. Best is trial 23 with value: 0.986013986013986.\u001B[0m\n",
      "\u001B[32m[I 2021-09-18 18:08:49,852]\u001B[0m Trial 59 finished with value: 0.958041958041958 and parameters: {'lambda_l1': 0.00025028328895262855, 'lambda_l2': 0.3292623163348958, 'num_leaves': 171, 'feature_fraction': 0.563357504073982, 'bagging_fraction': 0.6038703013632403, 'bagging_freq': 1, 'min_child_samples': 73}. Best is trial 23 with value: 0.986013986013986.\u001B[0m\n",
      "\u001B[32m[I 2021-09-18 18:08:49,893]\u001B[0m Trial 60 finished with value: 0.9230769230769231 and parameters: {'lambda_l1': 7.44138979798993e-05, 'lambda_l2': 2.695462010326077e-08, 'num_leaves': 149, 'feature_fraction': 0.5372401959158895, 'bagging_fraction': 0.5881605657631956, 'bagging_freq': 1, 'min_child_samples': 59}. Best is trial 23 with value: 0.986013986013986.\u001B[0m\n",
      "\u001B[32m[I 2021-09-18 18:08:49,936]\u001B[0m Trial 61 finished with value: 0.972027972027972 and parameters: {'lambda_l1': 8.65590267751186e-06, 'lambda_l2': 1.745741815883009, 'num_leaves': 199, 'feature_fraction': 0.9706185968756426, 'bagging_fraction': 0.5101519750196057, 'bagging_freq': 2, 'min_child_samples': 55}. Best is trial 23 with value: 0.986013986013986.\u001B[0m\n",
      "\u001B[32m[I 2021-09-18 18:08:49,986]\u001B[0m Trial 62 finished with value: 0.965034965034965 and parameters: {'lambda_l1': 2.0112743395379255e-06, 'lambda_l2': 4.1683996125316734e-08, 'num_leaves': 217, 'feature_fraction': 0.9964072373708699, 'bagging_fraction': 0.49133458884843284, 'bagging_freq': 3, 'min_child_samples': 41}. Best is trial 23 with value: 0.986013986013986.\u001B[0m\n",
      "\u001B[32m[I 2021-09-18 18:08:50,031]\u001B[0m Trial 63 finished with value: 0.965034965034965 and parameters: {'lambda_l1': 2.212218414716769e-05, 'lambda_l2': 1.650744392136473e-08, 'num_leaves': 138, 'feature_fraction': 0.9108079250417445, 'bagging_fraction': 0.5250568015932746, 'bagging_freq': 2, 'min_child_samples': 46}. Best is trial 23 with value: 0.986013986013986.\u001B[0m\n",
      "\u001B[32m[I 2021-09-18 18:08:50,072]\u001B[0m Trial 64 finished with value: 0.972027972027972 and parameters: {'lambda_l1': 0.00028254592125667017, 'lambda_l2': 1.3833967550222438e-07, 'num_leaves': 195, 'feature_fraction': 0.9584890234613318, 'bagging_fraction': 0.4813246170195548, 'bagging_freq': 2, 'min_child_samples': 69}. Best is trial 23 with value: 0.986013986013986.\u001B[0m\n",
      "\u001B[32m[I 2021-09-18 18:08:50,117]\u001B[0m Trial 65 finished with value: 0.958041958041958 and parameters: {'lambda_l1': 0.5582401477860428, 'lambda_l2': 2.9814721200269467e-05, 'num_leaves': 185, 'feature_fraction': 0.7420856241042262, 'bagging_fraction': 0.6523419182387336, 'bagging_freq': 6, 'min_child_samples': 66}. Best is trial 23 with value: 0.986013986013986.\u001B[0m\n",
      "\u001B[32m[I 2021-09-18 18:08:50,164]\u001B[0m Trial 66 finished with value: 0.972027972027972 and parameters: {'lambda_l1': 3.480575343649305e-05, 'lambda_l2': 1.002053132543809e-08, 'num_leaves': 159, 'feature_fraction': 0.6722443960628476, 'bagging_fraction': 0.45016425353656825, 'bagging_freq': 1, 'min_child_samples': 35}. Best is trial 23 with value: 0.986013986013986.\u001B[0m\n",
      "\u001B[32m[I 2021-09-18 18:08:50,202]\u001B[0m Trial 67 finished with value: 0.986013986013986 and parameters: {'lambda_l1': 0.0020090422518685654, 'lambda_l2': 8.284769622088052e-06, 'num_leaves': 14, 'feature_fraction': 0.8649820909356621, 'bagging_fraction': 0.4884453603577922, 'bagging_freq': 6, 'min_child_samples': 89}. Best is trial 23 with value: 0.986013986013986.\u001B[0m\n",
      "\u001B[32m[I 2021-09-18 18:08:50,243]\u001B[0m Trial 68 finished with value: 0.965034965034965 and parameters: {'lambda_l1': 0.0016781664052745592, 'lambda_l2': 9.017876289289126e-06, 'num_leaves': 10, 'feature_fraction': 0.8708143168234619, 'bagging_fraction': 0.4280037881236365, 'bagging_freq': 6, 'min_child_samples': 91}. Best is trial 23 with value: 0.986013986013986.\u001B[0m\n",
      "\u001B[32m[I 2021-09-18 18:08:50,283]\u001B[0m Trial 69 finished with value: 0.972027972027972 and parameters: {'lambda_l1': 0.003135715415914, 'lambda_l2': 2.960738055944945e-06, 'num_leaves': 165, 'feature_fraction': 0.6252530250177147, 'bagging_fraction': 0.4600938977807035, 'bagging_freq': 1, 'min_child_samples': 81}. Best is trial 23 with value: 0.986013986013986.\u001B[0m\n",
      "\u001B[32m[I 2021-09-18 18:08:50,321]\u001B[0m Trial 70 finished with value: 0.9790209790209791 and parameters: {'lambda_l1': 0.0014458419945457598, 'lambda_l2': 0.00017908486257656452, 'num_leaves': 12, 'feature_fraction': 0.8572380476517525, 'bagging_fraction': 0.4747086268430981, 'bagging_freq': 5, 'min_child_samples': 95}. Best is trial 23 with value: 0.986013986013986.\u001B[0m\n",
      "\u001B[32m[I 2021-09-18 18:08:50,358]\u001B[0m Trial 71 finished with value: 0.965034965034965 and parameters: {'lambda_l1': 0.0008147607055119587, 'lambda_l2': 0.0005267189493438996, 'num_leaves': 27, 'feature_fraction': 0.9063733405257265, 'bagging_fraction': 0.5718353933683554, 'bagging_freq': 3, 'min_child_samples': 91}. Best is trial 23 with value: 0.986013986013986.\u001B[0m\n",
      "\u001B[32m[I 2021-09-18 18:08:50,404]\u001B[0m Trial 72 finished with value: 0.9440559440559441 and parameters: {'lambda_l1': 5.4064841462679586e-06, 'lambda_l2': 8.041307286960115e-05, 'num_leaves': 221, 'feature_fraction': 0.9218610849755673, 'bagging_fraction': 0.5442003343402806, 'bagging_freq': 3, 'min_child_samples': 55}. Best is trial 23 with value: 0.986013986013986.\u001B[0m\n",
      "\u001B[32m[I 2021-09-18 18:08:50,445]\u001B[0m Trial 73 finished with value: 0.951048951048951 and parameters: {'lambda_l1': 0.00015198677180667164, 'lambda_l2': 5.762596977076556e-05, 'num_leaves': 23, 'feature_fraction': 0.9428293212222593, 'bagging_fraction': 0.49312584865390374, 'bagging_freq': 6, 'min_child_samples': 88}. Best is trial 23 with value: 0.986013986013986.\u001B[0m\n",
      "\u001B[32m[I 2021-09-18 18:08:50,491]\u001B[0m Trial 74 finished with value: 0.9790209790209791 and parameters: {'lambda_l1': 3.867239427656407e-06, 'lambda_l2': 0.061488926588879764, 'num_leaves': 240, 'feature_fraction': 0.818267129775583, 'bagging_fraction': 0.6238837435068363, 'bagging_freq': 3, 'min_child_samples': 49}. Best is trial 23 with value: 0.986013986013986.\u001B[0m\n",
      "\u001B[32m[I 2021-09-18 18:08:50,535]\u001B[0m Trial 75 finished with value: 0.972027972027972 and parameters: {'lambda_l1': 0.009757060378957719, 'lambda_l2': 0.02221389867552721, 'num_leaves': 252, 'feature_fraction': 0.828407079628137, 'bagging_fraction': 0.6072721699829885, 'bagging_freq': 6, 'min_child_samples': 72}. Best is trial 23 with value: 0.986013986013986.\u001B[0m\n",
      "\u001B[32m[I 2021-09-18 18:08:50,577]\u001B[0m Trial 76 finished with value: 0.9440559440559441 and parameters: {'lambda_l1': 1.1134546168638247e-06, 'lambda_l2': 3.397748478906231, 'num_leaves': 56, 'feature_fraction': 0.8909013951655181, 'bagging_fraction': 0.561080471910368, 'bagging_freq': 4, 'min_child_samples': 44}. Best is trial 23 with value: 0.986013986013986.\u001B[0m\n",
      "\u001B[32m[I 2021-09-18 18:08:50,615]\u001B[0m Trial 77 finished with value: 0.951048951048951 and parameters: {'lambda_l1': 1.2342385986828337e-05, 'lambda_l2': 3.5194052173059725e-07, 'num_leaves': 21, 'feature_fraction': 0.8928182786794276, 'bagging_fraction': 0.43506297458770943, 'bagging_freq': 4, 'min_child_samples': 63}. Best is trial 23 with value: 0.986013986013986.\u001B[0m\n",
      "\u001B[32m[I 2021-09-18 18:08:50,657]\u001B[0m Trial 78 finished with value: 0.9790209790209791 and parameters: {'lambda_l1': 0.0004161405819262736, 'lambda_l2': 2.894046877591754e-06, 'num_leaves': 2, 'feature_fraction': 0.9492899250760061, 'bagging_fraction': 0.5145362219485374, 'bagging_freq': 7, 'min_child_samples': 55}. Best is trial 23 with value: 0.986013986013986.\u001B[0m\n",
      "\u001B[32m[I 2021-09-18 18:08:50,696]\u001B[0m Trial 79 finished with value: 0.9440559440559441 and parameters: {'lambda_l1': 0.002422241763368832, 'lambda_l2': 1.1112102428630894e-05, 'num_leaves': 4, 'feature_fraction': 0.8710647659059245, 'bagging_fraction': 0.5096132430664562, 'bagging_freq': 7, 'min_child_samples': 96}. Best is trial 23 with value: 0.986013986013986.\u001B[0m\n",
      "\u001B[32m[I 2021-09-18 18:08:50,731]\u001B[0m Trial 80 finished with value: 0.9230769230769231 and parameters: {'lambda_l1': 0.0319390778704928, 'lambda_l2': 0.00014176054285335935, 'num_leaves': 39, 'feature_fraction': 0.848177041268881, 'bagging_fraction': 0.4140495990998955, 'bagging_freq': 5, 'min_child_samples': 97}. Best is trial 23 with value: 0.986013986013986.\u001B[0m\n",
      "\u001B[32m[I 2021-09-18 18:08:50,774]\u001B[0m Trial 81 finished with value: 0.9790209790209791 and parameters: {'lambda_l1': 1.1279948540413615e-05, 'lambda_l2': 2.6160012408586494e-05, 'num_leaves': 32, 'feature_fraction': 0.7698334617162951, 'bagging_fraction': 0.48901798280135994, 'bagging_freq': 6, 'min_child_samples': 61}. Best is trial 23 with value: 0.986013986013986.\u001B[0m\n",
      "\u001B[32m[I 2021-09-18 18:08:50,813]\u001B[0m Trial 82 finished with value: 0.951048951048951 and parameters: {'lambda_l1': 0.0012471902233244327, 'lambda_l2': 0.00016580393302189503, 'num_leaves': 16, 'feature_fraction': 0.6972352340132066, 'bagging_fraction': 0.4704072964252282, 'bagging_freq': 5, 'min_child_samples': 90}. Best is trial 23 with value: 0.986013986013986.\u001B[0m\n",
      "\u001B[32m[I 2021-09-18 18:08:50,853]\u001B[0m Trial 83 finished with value: 0.972027972027972 and parameters: {'lambda_l1': 3.3458861981345174e-06, 'lambda_l2': 0.13153441939143704, 'num_leaves': 240, 'feature_fraction': 0.9227731769507962, 'bagging_fraction': 0.619310390735693, 'bagging_freq': 6, 'min_child_samples': 85}. Best is trial 23 with value: 0.986013986013986.\u001B[0m\n",
      "\u001B[32m[I 2021-09-18 18:08:50,897]\u001B[0m Trial 84 finished with value: 0.972027972027972 and parameters: {'lambda_l1': 9.220979797571903e-05, 'lambda_l2': 3.690565677967486e-06, 'num_leaves': 189, 'feature_fraction': 0.44539175581957385, 'bagging_fraction': 0.5302868626589475, 'bagging_freq': 7, 'min_child_samples': 59}. Best is trial 23 with value: 0.986013986013986.\u001B[0m\n",
      "\u001B[32m[I 2021-09-18 18:08:50,963]\u001B[0m Trial 85 finished with value: 0.9090909090909091 and parameters: {'lambda_l1': 1.509675197577282e-05, 'lambda_l2': 3.0518911104203505e-05, 'num_leaves': 178, 'feature_fraction': 0.7880798634233117, 'bagging_fraction': 0.8242604535769658, 'bagging_freq': 4, 'min_child_samples': 15}. Best is trial 23 with value: 0.986013986013986.\u001B[0m\n",
      "\u001B[32m[I 2021-09-18 18:08:51,006]\u001B[0m Trial 86 finished with value: 0.958041958041958 and parameters: {'lambda_l1': 5.981726825166052e-06, 'lambda_l2': 1.2270643845086817, 'num_leaves': 209, 'feature_fraction': 0.9119185843444586, 'bagging_fraction': 0.538518431612974, 'bagging_freq': 3, 'min_child_samples': 50}. Best is trial 23 with value: 0.986013986013986.\u001B[0m\n",
      "\u001B[32m[I 2021-09-18 18:08:51,045]\u001B[0m Trial 87 finished with value: 0.993006993006993 and parameters: {'lambda_l1': 0.0003941552022533914, 'lambda_l2': 1.1321651347121915e-06, 'num_leaves': 31, 'feature_fraction': 0.7523348778238667, 'bagging_fraction': 0.5169975361622172, 'bagging_freq': 7, 'min_child_samples': 81}. Best is trial 87 with value: 0.993006993006993.\u001B[0m\n",
      "\u001B[32m[I 2021-09-18 18:08:51,088]\u001B[0m Trial 88 finished with value: 0.972027972027972 and parameters: {'lambda_l1': 0.00022814043661504863, 'lambda_l2': 0.42708120992851345, 'num_leaves': 168, 'feature_fraction': 0.5078430409707496, 'bagging_fraction': 0.592898612755805, 'bagging_freq': 1, 'min_child_samples': 53}. Best is trial 87 with value: 0.993006993006993.\u001B[0m\n",
      "\u001B[32m[I 2021-09-18 18:08:51,127]\u001B[0m Trial 89 finished with value: 0.9790209790209791 and parameters: {'lambda_l1': 0.007119739288424021, 'lambda_l2': 1.102603973277206e-06, 'num_leaves': 10, 'feature_fraction': 0.715437111967762, 'bagging_fraction': 0.4746511517455264, 'bagging_freq': 7, 'min_child_samples': 79}. Best is trial 87 with value: 0.993006993006993.\u001B[0m\n",
      "\u001B[32m[I 2021-09-18 18:08:51,167]\u001B[0m Trial 90 finished with value: 0.951048951048951 and parameters: {'lambda_l1': 0.020966263031677288, 'lambda_l2': 1.1272194002918016e-06, 'num_leaves': 33, 'feature_fraction': 0.728589486471402, 'bagging_fraction': 0.4992907061864705, 'bagging_freq': 7, 'min_child_samples': 80}. Best is trial 87 with value: 0.993006993006993.\u001B[0m\n",
      "\u001B[32m[I 2021-09-18 18:08:51,208]\u001B[0m Trial 91 finished with value: 0.951048951048951 and parameters: {'lambda_l1': 0.00044877134017720156, 'lambda_l2': 4.651517158770217e-06, 'num_leaves': 54, 'feature_fraction': 0.7686455368408215, 'bagging_fraction': 0.4876258631690769, 'bagging_freq': 7, 'min_child_samples': 56}. Best is trial 87 with value: 0.993006993006993.\u001B[0m\n",
      "\u001B[32m[I 2021-09-18 18:08:51,248]\u001B[0m Trial 92 finished with value: 0.972027972027972 and parameters: {'lambda_l1': 0.000373215546666493, 'lambda_l2': 1.1919703357193615e-05, 'num_leaves': 25, 'feature_fraction': 0.9772632834580482, 'bagging_fraction': 0.5172279799879014, 'bagging_freq': 7, 'min_child_samples': 62}. Best is trial 87 with value: 0.993006993006993.\u001B[0m\n",
      "\u001B[32m[I 2021-09-18 18:08:51,290]\u001B[0m Trial 93 finished with value: 0.951048951048951 and parameters: {'lambda_l1': 0.05615424003440152, 'lambda_l2': 0.0010273455044150941, 'num_leaves': 41, 'feature_fraction': 0.5801176976272295, 'bagging_fraction': 0.5835750434918633, 'bagging_freq': 6, 'min_child_samples': 98}. Best is trial 87 with value: 0.993006993006993.\u001B[0m\n",
      "\u001B[32m[I 2021-09-18 18:08:51,339]\u001B[0m Trial 94 finished with value: 0.951048951048951 and parameters: {'lambda_l1': 4.535380459292306e-06, 'lambda_l2': 0.09919426589897987, 'num_leaves': 70, 'feature_fraction': 0.8124009898397875, 'bagging_fraction': 0.6313745021983573, 'bagging_freq': 3, 'min_child_samples': 39}. Best is trial 87 with value: 0.993006993006993.\u001B[0m\n",
      "\u001B[32m[I 2021-09-18 18:08:51,380]\u001B[0m Trial 95 finished with value: 0.9370629370629371 and parameters: {'lambda_l1': 0.006521150939077987, 'lambda_l2': 7.876272672864397e-07, 'num_leaves': 20, 'feature_fraction': 0.7075636749364828, 'bagging_fraction': 0.4519773639712939, 'bagging_freq': 7, 'min_child_samples': 66}. Best is trial 87 with value: 0.993006993006993.\u001B[0m\n",
      "\u001B[32m[I 2021-09-18 18:08:51,421]\u001B[0m Trial 96 finished with value: 0.986013986013986 and parameters: {'lambda_l1': 0.0009642775691004749, 'lambda_l2': 5.109344339515207e-07, 'num_leaves': 63, 'feature_fraction': 0.7571970558018135, 'bagging_fraction': 0.5618673301064935, 'bagging_freq': 7, 'min_child_samples': 78}. Best is trial 87 with value: 0.993006993006993.\u001B[0m\n",
      "\u001B[32m[I 2021-09-18 18:08:51,462]\u001B[0m Trial 97 finished with value: 0.972027972027972 and parameters: {'lambda_l1': 3.8068589874868144e-05, 'lambda_l2': 2.167549625609774e-07, 'num_leaves': 51, 'feature_fraction': 0.6927883540261587, 'bagging_fraction': 0.5306138717783931, 'bagging_freq': 6, 'min_child_samples': 76}. Best is trial 87 with value: 0.993006993006993.\u001B[0m\n",
      "\u001B[32m[I 2021-09-18 18:08:51,502]\u001B[0m Trial 98 finished with value: 0.965034965034965 and parameters: {'lambda_l1': 1.2361542035810642e-07, 'lambda_l2': 5.080727751493995e-07, 'num_leaves': 64, 'feature_fraction': 0.938843895568711, 'bagging_fraction': 0.5553458917006201, 'bagging_freq': 2, 'min_child_samples': 82}. Best is trial 87 with value: 0.993006993006993.\u001B[0m\n",
      "\u001B[32m[I 2021-09-18 18:08:51,545]\u001B[0m Trial 99 finished with value: 0.951048951048951 and parameters: {'lambda_l1': 7.981733730365332e-05, 'lambda_l2': 1.8216573007650698e-06, 'num_leaves': 93, 'feature_fraction': 0.7680422497202394, 'bagging_fraction': 0.4416161331436319, 'bagging_freq': 1, 'min_child_samples': 84}. Best is trial 87 with value: 0.993006993006993.\u001B[0m\n"
     ]
    }
   ],
   "source": [
    "study = optuna.create_study(direction=\"maximize\")\n",
    "func = lambda trial: objective(trial, data, target)\n",
    "study.optimize(func, n_trials=100)"
   ],
   "metadata": {
    "collapsed": false,
    "pycharm": {
     "name": "#%%\n"
    }
   }
  },
  {
   "cell_type": "code",
   "execution_count": 12,
   "outputs": [
    {
     "name": "stdout",
     "output_type": "stream",
     "text": [
      "0.993006993006993\n",
      "{'lambda_l1': 0.0003941552022533914, 'lambda_l2': 1.1321651347121915e-06, 'num_leaves': 31, 'feature_fraction': 0.7523348778238667, 'bagging_fraction': 0.5169975361622172, 'bagging_freq': 7, 'min_child_samples': 81}\n"
     ]
    }
   ],
   "source": [
    "# 最优结果\n",
    "print(study.best_value)\n",
    "\n",
    "# 最优参数\n",
    "print(study.best_params)"
   ],
   "metadata": {
    "collapsed": false,
    "pycharm": {
     "name": "#%%\n"
    }
   }
  }
 ],
 "metadata": {
  "kernelspec": {
   "display_name": "Python 3",
   "language": "python",
   "name": "python3"
  },
  "language_info": {
   "codemirror_mode": {
    "name": "ipython",
    "version": 2
   },
   "file_extension": ".py",
   "mimetype": "text/x-python",
   "name": "python",
   "nbconvert_exporter": "python",
   "pygments_lexer": "ipython2",
   "version": "2.7.6"
  }
 },
 "nbformat": 4,
 "nbformat_minor": 0
}