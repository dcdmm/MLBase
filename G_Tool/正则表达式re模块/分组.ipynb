{
 "cells": [
  {
   "cell_type": "code",
   "execution_count": 19,
   "metadata": {
    "collapsed": false,
    "pycharm": {
     "name": "#%%\n"
    }
   },
   "outputs": [],
   "source": [
    "import re"
   ]
  },
  {
   "cell_type": "code",
   "execution_count": 20,
   "metadata": {
    "collapsed": false,
    "pycharm": {
     "name": "#%%\n"
    }
   },
   "outputs": [
    {
     "name": "stdout",
     "output_type": "stream",
     "text": [
      "[('-', '1', '.', '01'), ('-', '1', '.', '02')]\n",
      "*******************************************\n",
      "-1.01\n",
      "('-', '1', '.', '01')\n",
      "-\n",
      "1\n",
      ".\n",
      "01\n",
      "*******************************************\n",
      "-1.01\n",
      "('-', '1', '.', '01')\n",
      "-\n",
      "1\n",
      ".\n",
      "01\n"
     ]
    }
   ],
   "source": [
    "kid_group_find = re.findall('([+-]?)(\\d+)(\\.?)(\\d*)', \"-1.01 -1.02\")  # 使用()进行分组\n",
    "print(kid_group_find)  # 每个分组结果组成的列表\n",
    "print(\"*******************************************\")\n",
    "\n",
    "kid_group_search = re.search('([+-]?)(\\d+)(\\.?)(\\d*)', \"-1.01\")  # 使用()进行分组\n",
    "print(kid_group_search.group())\n",
    "print(kid_group_search.groups())\n",
    "print(kid_group_search.group(1))\n",
    "print(kid_group_search.group(2))\n",
    "print(kid_group_search.group(3))\n",
    "print(kid_group_search.group(4))\n",
    "print(\"*******************************************\")\n",
    "\n",
    "kid_group_1 = re.match('([+-]?)(\\d+)(\\.?)(\\d*)', \"-1.01\")  # 使用()进行分组\n",
    "print(kid_group_1.group())  # ([+-]?)(\\d+)(\\.?)(\\d*)\n",
    "print(kid_group_1.groups())\n",
    "print(kid_group_1.group(1))  # 表示:[+-]?\n",
    "print(kid_group_1.group(2))  # 表示:(\\d+)\n",
    "print(kid_group_1.group(3))  # 表示:(\\.?)\n",
    "print(kid_group_1.group(4))  # 表示:(\\d*)"
   ]
  },
  {
   "cell_type": "code",
   "execution_count": 21,
   "metadata": {
    "collapsed": false,
    "pycharm": {
     "name": "#%%\n"
    }
   },
   "outputs": [
    {
     "name": "stdout",
     "output_type": "stream",
     "text": [
      "2008-12-11\n",
      "2008\n",
      "12-11\n",
      "11\n"
     ]
    }
   ],
   "source": [
    "kid_group_2 = re.match('(\\d{4})-(\\d{2}-(\\d\\d))', '2008-12-11')\n",
    "print(kid_group_2.group())  # \\d{4})-(\\d{2}-(\\d\\d))\n",
    "print(kid_group_2.group(1))  # \\d{4}\n",
    "print(kid_group_2.group(2))  # (\\d{2}-(\\d\\d))\n",
    "print(kid_group_2.group(3))  # (\\d\\d)"
   ]
  },
  {
   "cell_type": "code",
   "execution_count": 22,
   "metadata": {
    "collapsed": false,
    "pycharm": {
     "name": "#%%\n"
    }
   },
   "outputs": [
    {
     "data": {
      "text/plain": [
       "'230.192.168.78'"
      ]
     },
     "execution_count": 22,
     "metadata": {},
     "output_type": "execute_result"
    }
   ],
   "source": [
    "s = \"ip='230.192.168.78',version='1.0.0'\"\n",
    "# 命名分组的格式:(?P<name>正则表达式)\n",
    "res = re.search(r\"ip='(?P<ip>\\d+\\.\\d+\\.\\d+\\.\\d+).*\", s)\n",
    "res.group('ip')  # 通过命名分组引用分组"
   ]
  },
  {
   "cell_type": "code",
   "execution_count": 23,
   "metadata": {
    "collapsed": false,
    "pycharm": {
     "name": "#%%\n"
    }
   },
   "outputs": [
    {
     "name": "stdout",
     "output_type": "stream",
     "text": [
      "first name is: Eric\n",
      "last name is: Brown\n"
     ]
    }
   ],
   "source": [
    "print('first name is:', re.match('(?P<first_name>\\w+) (?P<last_name>\\w+)',\n",
    "                                 'Eric Brown').group('first_name'))\n",
    "\n",
    "print(\"last name is:\", re.match('(?P<first_name>\\w+) (?P<last_name>\\w+)',\n",
    "                                'Eric Brown').group('last_name'))"
   ]
  },
  {
   "cell_type": "code",
   "execution_count": 24,
   "metadata": {
    "collapsed": false,
    "pycharm": {
     "name": "#%%\n"
    }
   },
   "outputs": [
    {
     "name": "stdout",
     "output_type": "stream",
     "text": [
      "[('2017-07-10', '2017-07', '2017', '20', '00')]\n",
      "2017-07-10 20:00\n",
      "2017-07-10\n",
      "2017-07\n",
      "2017\n",
      "20\n",
      "00\n"
     ]
    }
   ],
   "source": [
    "# 嵌套分组\n",
    "time = '2017-07-10 20:00'\n",
    "p = re.compile(r'(((\\d{4})-\\d{2})-\\d{2}) (\\d{2}):(\\d{2})')\n",
    "\n",
    "print(re.findall(p, time))\n",
    "\n",
    "kid_group_3 = re.search(p, time)\n",
    "\n",
    "# 整个匹配的子串\n",
    "print(kid_group_3.group())  # (((\\d{4})-\\d{2})-\\d{2}) (\\d{2}):(\\d{2})\n",
    "\n",
    "# 首先是最外层分组\n",
    "print(kid_group_3.group(1))  # (((\\d{4})-\\d{2})-\\d{2})\n",
    "print(kid_group_3.group(2))  # ((\\d{4})-\\d{2})\n",
    "\n",
    "# 若()里面还有分组就递归下去匹配分组\n",
    "print(kid_group_3.group(3))  # (\\d{4})\n",
    "print(kid_group_3.group(4))  # (\\d{2})\n",
    "print(kid_group_3.group(5))  # (\\d{2})\n"
   ]
  }
 ],
 "metadata": {
  "kernelspec": {
   "display_name": "Python 3",
   "language": "python",
   "name": "python3"
  },
  "language_info": {
   "codemirror_mode": {
    "name": "ipython",
    "version": 3
   },
   "file_extension": ".py",
   "mimetype": "text/x-python",
   "name": "python",
   "nbconvert_exporter": "python",
   "pygments_lexer": "ipython3",
   "version": "3.11.7"
  }
 },
 "nbformat": 4,
 "nbformat_minor": 0
}
