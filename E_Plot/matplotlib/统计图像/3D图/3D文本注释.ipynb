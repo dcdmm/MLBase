{
 "cells": [
  {
   "cell_type": "code",
   "execution_count": 43,
   "metadata": {
    "collapsed": true,
    "pycharm": {
     "is_executing": false,
     "name": "#%%\n"
    }
   },
   "outputs": [],
   "source": [
    "%matplotlib qt5\n",
    "from mpl_toolkits.mplot3d import Axes3D\n",
    "import matplotlib.pyplot as plt\n",
    "\n",
    "fig = plt.figure(figsize=(20, 9))\n",
    "ax = fig.add_subplot(1, 2, 1, projection='3d')\n",
    "\n",
    "zdirs = (None, 'x', 'y', 'z', (1, 1, 0), (1, 1, 1))\n",
    "xs = (1, 4, 4, 9, 4, 1)\n",
    "ys = (2, 5, 8, 10, 1, 2)\n",
    "zs = (10, 3, 8, 9, 1, 8)\n",
    "\n",
    "for zdir, x, y, z in zip(zdirs, xs, ys, zs):\n",
    "    label = '(%d, %d, %d), dir=%s' % (x, y, z, zdir)\n",
    "    ax.text3D(x, y, z, label, zdir, size=20)\n",
    "    '''\n",
    "    x, y, z\n",
    "        The position of the text.\n",
    "\n",
    "    text : str\n",
    "        The text string to display.\n",
    "\n",
    "    zdir : {'x', 'y', 'z', None, 3-tuple}\n",
    "        The direction of the text\n",
    "        Possible values are: - 'x': equivalent to (1, 0, 0) \n",
    "                             - 'y': equivalent to (0, 1, 0) \n",
    "                             - 'z': equivalent to (0, 0, 1) \n",
    "                             - None: equivalent to (0, 0, 0) \n",
    "                             - an iterable (x, y, z) is returned unchanged.\n",
    "    '''\n",
    "ax.text3D(9, 0, 0, \"red\", color='red', size=15)\n",
    "ax.set_xlim(0, 10)\n",
    "ax.set_ylim(0, 10)\n",
    "ax.set_zlim(0, 10)\n",
    "'''\n",
    "Set 3D z limits.\n",
    "\n",
    "See :meth:`matplotlib.axes.Axes.set_ylim` for full documentation\n",
    "'''\n",
    "ax.set_xlabel('X axis')\n",
    "ax.set_ylabel('Y axis')\n",
    "ax.set_zlabel('Z axis') # Set zlabel.  See doc for :meth:`set_ylabel` for description.\n",
    "ax.set_title('Text annotations in 3D', size=30, color='red')\n",
    "plt.show()\n"
   ]
  },
  {
   "cell_type": "code",
   "execution_count": null,
   "outputs": [],
   "source": [
    "\n"
   ],
   "metadata": {
    "collapsed": false,
    "pycharm": {
     "name": "#%%\n"
    }
   }
  }
 ],
 "metadata": {
  "language_info": {
   "codemirror_mode": {
    "name": "ipython",
    "version": 2
   },
   "file_extension": ".py",
   "mimetype": "text/x-python",
   "name": "python",
   "nbconvert_exporter": "python",
   "pygments_lexer": "ipython2",
   "version": "2.7.6"
  },
  "kernelspec": {
   "name": "python3",
   "language": "python",
   "display_name": "Python 3"
  },
  "pycharm": {
   "stem_cell": {
    "cell_type": "raw",
    "source": [],
    "metadata": {
     "collapsed": false
    }
   }
  }
 },
 "nbformat": 4,
 "nbformat_minor": 0
}