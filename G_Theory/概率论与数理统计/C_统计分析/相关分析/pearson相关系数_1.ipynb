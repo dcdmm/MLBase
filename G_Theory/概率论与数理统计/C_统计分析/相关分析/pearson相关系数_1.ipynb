{
 "cells": [
  {
   "cell_type": "markdown",
   "source": [
    "## 相关系数(线性关系)\n",
    "\n",
    "<font color='red' size='4'>定义:</font>    \n",
    "随机变量$ X $ 和$ Y$ 的相关系数定义为:\n",
    "$$ \\rho_{XY} = \\frac{Cov(X,Y)}{\\sigma_X \\sigma_Y} $$\n",
    "\n",
    "<font color='red' size='4'>性质:</font>  \n",
    "设$ X $ 和 $ Y $ 是任意随机变量,\n",
    "1. $ -1 \\leq \\rho_{XY} \\leq 1  $\n",
    "2. $ |\\rho_{XY}| =1 $当且仅当存在数$ a \\neq 0 $ 以及 $ b $ 使得 $ P(Y = aX +b)=1 $.\n",
    "若$ \\rho_{XY}=1 $,则$ a>0 $, 若$ \\rho_{XY}=-1 $,则$ a<0 $\n",
    "\n",
    "## 相关阵\n",
    "&emsp;&emsp;若$X=(X_{1},X_{2},...,X_{1})$的协差阵存在,且每个分量的方差大于零<br/>\n",
    "则称随机向量$X$的相关阵为$R=(r_{ij})_{p \\times p}$,其中，<br/>\n",
    "$$ r_{ji}=\\frac{ Cov(X_{i}, X_{j}) } {\\sqrt{Var(X_{i})} \\sqrt{Var(X_{j})}} \\quad j,i=1,...p$$  \n",
    "为相关系数"
   ],
   "metadata": {
    "pycharm": {
     "metadata": false,
     "name": "#%% md\n"
    }
   }
  },
  {
   "cell_type": "code",
   "execution_count": 27,
   "metadata": {
    "collapsed": true
   },
   "outputs": [],
   "source": [
    "import numpy as np\n",
    "# np.corrcoef(x, y)--> x : array_like, y : array_like, optional"
   ]
  },
  {
   "cell_type": "code",
   "execution_count": 28,
   "outputs": [
    {
     "name": "stdout",
     "output_type": "stream",
     "text": [
      "[[-2.1  -1.    4.3   3.    5.  ]\n",
      " [ 3.    1.1   0.12  5.   32.  ]]\n",
      "\n",
      "[[1.         0.53744663]\n",
      " [0.53744663 1.        ]]\n",
      "\n",
      "[[1.         0.53744663]\n",
      " [0.53744663 1.        ]]\n"
     ]
    }
   ],
   "source": [
    "a = [-2.1, -1, 4.3, 3, 5]\n",
    "b = [3, 1.1, 0.12, 5, 32]\n",
    "c = np.array([a, b])\n",
    "print(c, end='\\n\\n')\n",
    "print(np.corrcoef(a, b), end='\\n\\n')\n",
    "'''\n",
    "rowvar : bool, optional\n",
    "    If `rowvar` is True (default), then each row represents a\n",
    "    variable, with observations in the columns. Otherwise, the relationship\n",
    "    is transposed: each column represents a variable, while the rows\n",
    "    contain observations.\n",
    "'''\n",
    "# 每行表示一个变量\n",
    "print(np.corrcoef(c, rowvar=True))  # 与上等价"
   ],
   "metadata": {
    "pycharm": {
     "metadata": false,
     "name": "#%%\n"
    }
   }
  },
  {
   "cell_type": "code",
   "execution_count": 29,
   "outputs": [
    {
     "data": {
      "text/plain": "array([[1.        , 0.53744663],\n       [0.53744663, 1.        ]])"
     },
     "execution_count": 29,
     "metadata": {},
     "output_type": "execute_result"
    }
   ],
   "source": [
    "# 每列表示一个变量\n",
    "np.corrcoef(c.transpose(), rowvar=False)\n"
   ],
   "metadata": {
    "pycharm": {
     "metadata": false,
     "name": "#%%\n"
    }
   }
  }
 ],
 "metadata": {
  "language_info": {
   "codemirror_mode": {
    "name": "ipython",
    "version": 2
   },
   "file_extension": ".py",
   "mimetype": "text/x-python",
   "name": "python",
   "nbconvert_exporter": "python",
   "pygments_lexer": "ipython2",
   "version": "2.7.6"
  },
  "kernelspec": {
   "name": "python3",
   "language": "python",
   "display_name": "Python 3"
  },
  "stem_cell": {
   "cell_type": "raw",
   "source": "",
   "metadata": {
    "pycharm": {
     "metadata": false
    }
   }
  }
 },
 "nbformat": 4,
 "nbformat_minor": 0
}