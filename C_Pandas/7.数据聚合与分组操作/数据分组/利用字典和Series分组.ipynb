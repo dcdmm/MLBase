{
 "cells": [
  {
   "cell_type": "code",
   "execution_count": 1,
   "outputs": [],
   "source": [
    "import numpy as np\n",
    "import  pandas as pd"
   ],
   "metadata": {
    "collapsed": false,
    "pycharm": {
     "name": "#%%\n",
     "is_executing": false
    }
   }
  },
  {
   "cell_type": "code",
   "execution_count": 2,
   "metadata": {
    "pycharm": {
     "is_executing": false
    }
   },
   "outputs": [],
   "source": [
    "people = pd.DataFrame(np.random.randn(5, 5),\n",
    "                      columns=['a', 'b', 'c', 'd', 'e'],\n",
    "                      index=['Joe', 'Steve', 'Wes', 'Jim', 'Travis'])\n",
    "people.iloc[2:3, [1, 2]] = np.nan # Add a few NA values"
   ]
  },
  {
   "cell_type": "code",
   "execution_count": 3,
   "outputs": [
    {
     "data": {
      "text/plain": "               a         b         c         d         e\nJoe     0.370474 -0.707567  0.715353 -0.724899  0.393255\nSteve   0.052887  0.855273 -0.571003 -0.706867  0.219943\nWes    -0.548363       NaN       NaN  0.197286 -1.197262\nJim     1.589774  0.032303  0.737815  0.417670  1.253697\nTravis -0.068376 -1.598937 -1.471771  1.032636  0.621574",
      "text/html": "<div>\n<style scoped>\n    .dataframe tbody tr th:only-of-type {\n        vertical-align: middle;\n    }\n\n    .dataframe tbody tr th {\n        vertical-align: top;\n    }\n\n    .dataframe thead th {\n        text-align: right;\n    }\n</style>\n<table border=\"1\" class=\"dataframe\">\n  <thead>\n    <tr style=\"text-align: right;\">\n      <th></th>\n      <th>a</th>\n      <th>b</th>\n      <th>c</th>\n      <th>d</th>\n      <th>e</th>\n    </tr>\n  </thead>\n  <tbody>\n    <tr>\n      <th>Joe</th>\n      <td>0.370474</td>\n      <td>-0.707567</td>\n      <td>0.715353</td>\n      <td>-0.724899</td>\n      <td>0.393255</td>\n    </tr>\n    <tr>\n      <th>Steve</th>\n      <td>0.052887</td>\n      <td>0.855273</td>\n      <td>-0.571003</td>\n      <td>-0.706867</td>\n      <td>0.219943</td>\n    </tr>\n    <tr>\n      <th>Wes</th>\n      <td>-0.548363</td>\n      <td>NaN</td>\n      <td>NaN</td>\n      <td>0.197286</td>\n      <td>-1.197262</td>\n    </tr>\n    <tr>\n      <th>Jim</th>\n      <td>1.589774</td>\n      <td>0.032303</td>\n      <td>0.737815</td>\n      <td>0.417670</td>\n      <td>1.253697</td>\n    </tr>\n    <tr>\n      <th>Travis</th>\n      <td>-0.068376</td>\n      <td>-1.598937</td>\n      <td>-1.471771</td>\n      <td>1.032636</td>\n      <td>0.621574</td>\n    </tr>\n  </tbody>\n</table>\n</div>"
     },
     "metadata": {},
     "output_type": "execute_result",
     "execution_count": 3
    }
   ],
   "source": [
    "people"
   ],
   "metadata": {
    "pycharm": {
     "metadata": false,
     "name": "#%%\n",
     "is_executing": false
    }
   }
  },
  {
   "cell_type": "code",
   "execution_count": 4,
   "metadata": {
    "pycharm": {
     "is_executing": false
    }
   },
   "outputs": [],
   "source": [
    "mapping = {'a': 'red', 'b': 'red', 'c': 'blue',\n",
    "           'd': 'blue', 'e': 'red', 'f' : 'orange'}"
   ]
  },
  {
   "cell_type": "code",
   "execution_count": 14,
   "metadata": {
    "pycharm": {
     "is_executing": false
    }
   },
   "outputs": [],
   "source": [
    "by_column = people.groupby(mapping, axis=1) # 利用字典的映射关系进行分组(对列进行分组)"
   ]
  },
  {
   "cell_type": "code",
   "execution_count": 15,
   "metadata": {
    "pycharm": {
     "is_executing": false
    }
   },
   "outputs": [
    {
     "data": {
      "text/plain": "            blue       red\nJoe    -0.009546  0.056162\nSteve  -1.277871  1.128103\nWes     0.197286 -1.745625\nJim     1.155485  2.875774\nTravis -0.439135 -1.045740",
      "text/html": "<div>\n<style scoped>\n    .dataframe tbody tr th:only-of-type {\n        vertical-align: middle;\n    }\n\n    .dataframe tbody tr th {\n        vertical-align: top;\n    }\n\n    .dataframe thead th {\n        text-align: right;\n    }\n</style>\n<table border=\"1\" class=\"dataframe\">\n  <thead>\n    <tr style=\"text-align: right;\">\n      <th></th>\n      <th>blue</th>\n      <th>red</th>\n    </tr>\n  </thead>\n  <tbody>\n    <tr>\n      <th>Joe</th>\n      <td>-0.009546</td>\n      <td>0.056162</td>\n    </tr>\n    <tr>\n      <th>Steve</th>\n      <td>-1.277871</td>\n      <td>1.128103</td>\n    </tr>\n    <tr>\n      <th>Wes</th>\n      <td>0.197286</td>\n      <td>-1.745625</td>\n    </tr>\n    <tr>\n      <th>Jim</th>\n      <td>1.155485</td>\n      <td>2.875774</td>\n    </tr>\n    <tr>\n      <th>Travis</th>\n      <td>-0.439135</td>\n      <td>-1.045740</td>\n    </tr>\n  </tbody>\n</table>\n</div>"
     },
     "metadata": {},
     "output_type": "execute_result",
     "execution_count": 15
    }
   ],
   "source": [
    "by_column.sum()"
   ]
  },
  {
   "cell_type": "code",
   "execution_count": 21,
   "metadata": {
    "pycharm": {
     "is_executing": false
    }
   },
   "outputs": [],
   "source": [
    "mapping1 = {'Joe': 'good', 'Steve': 'just so so', 'Wes': 'just so so',\n",
    "           'Jim': 'good', 'Travis': 'just so so'}"
   ]
  },
  {
   "cell_type": "code",
   "execution_count": 24,
   "outputs": [],
   "source": [
    "by_column1 = people.groupby(mapping1, axis=0) # 对行进行分组"
   ],
   "metadata": {
    "collapsed": false,
    "pycharm": {
     "name": "#%%\n",
     "is_executing": false
    }
   }
  },
  {
   "cell_type": "code",
   "execution_count": 25,
   "outputs": [
    {
     "data": {
      "text/plain": "                   a         b         c         d         e\ngood        1.960248 -0.675264  1.453167 -0.307229  1.646952\njust so so -0.563852 -0.743664 -2.042774  0.523055 -0.355745",
      "text/html": "<div>\n<style scoped>\n    .dataframe tbody tr th:only-of-type {\n        vertical-align: middle;\n    }\n\n    .dataframe tbody tr th {\n        vertical-align: top;\n    }\n\n    .dataframe thead th {\n        text-align: right;\n    }\n</style>\n<table border=\"1\" class=\"dataframe\">\n  <thead>\n    <tr style=\"text-align: right;\">\n      <th></th>\n      <th>a</th>\n      <th>b</th>\n      <th>c</th>\n      <th>d</th>\n      <th>e</th>\n    </tr>\n  </thead>\n  <tbody>\n    <tr>\n      <th>good</th>\n      <td>1.960248</td>\n      <td>-0.675264</td>\n      <td>1.453167</td>\n      <td>-0.307229</td>\n      <td>1.646952</td>\n    </tr>\n    <tr>\n      <th>just so so</th>\n      <td>-0.563852</td>\n      <td>-0.743664</td>\n      <td>-2.042774</td>\n      <td>0.523055</td>\n      <td>-0.355745</td>\n    </tr>\n  </tbody>\n</table>\n</div>"
     },
     "metadata": {},
     "output_type": "execute_result",
     "execution_count": 25
    }
   ],
   "source": [
    "by_column1.sum()"
   ],
   "metadata": {
    "collapsed": false,
    "pycharm": {
     "name": "#%%\n",
     "is_executing": false
    }
   }
  },
  {
   "cell_type": "code",
   "execution_count": null,
   "outputs": [],
   "source": [
    "# Series与字典类似(即也存在映射关系)\n",
    "map_series = pd.Series(mapping)"
   ],
   "metadata": {
    "collapsed": false,
    "pycharm": {
     "name": "#%%\n"
    }
   }
  },
  {
   "cell_type": "code",
   "execution_count": 17,
   "metadata": {
    "pycharm": {
     "is_executing": false
    }
   },
   "outputs": [
    {
     "data": {
      "text/plain": "a       red\nb       red\nc      blue\nd      blue\ne       red\nf    orange\ndtype: object"
     },
     "metadata": {},
     "output_type": "execute_result",
     "execution_count": 17
    }
   ],
   "source": [
    "map_series"
   ]
  },
  {
   "cell_type": "code",
   "execution_count": 18,
   "metadata": {
    "pycharm": {
     "is_executing": false
    }
   },
   "outputs": [
    {
     "data": {
      "text/plain": "            blue       red\nJoe    -0.009546  0.056162\nSteve  -1.277871  1.128103\nWes     0.197286 -1.745625\nJim     1.155485  2.875774\nTravis -0.439135 -1.045740",
      "text/html": "<div>\n<style scoped>\n    .dataframe tbody tr th:only-of-type {\n        vertical-align: middle;\n    }\n\n    .dataframe tbody tr th {\n        vertical-align: top;\n    }\n\n    .dataframe thead th {\n        text-align: right;\n    }\n</style>\n<table border=\"1\" class=\"dataframe\">\n  <thead>\n    <tr style=\"text-align: right;\">\n      <th></th>\n      <th>blue</th>\n      <th>red</th>\n    </tr>\n  </thead>\n  <tbody>\n    <tr>\n      <th>Joe</th>\n      <td>-0.009546</td>\n      <td>0.056162</td>\n    </tr>\n    <tr>\n      <th>Steve</th>\n      <td>-1.277871</td>\n      <td>1.128103</td>\n    </tr>\n    <tr>\n      <th>Wes</th>\n      <td>0.197286</td>\n      <td>-1.745625</td>\n    </tr>\n    <tr>\n      <th>Jim</th>\n      <td>1.155485</td>\n      <td>2.875774</td>\n    </tr>\n    <tr>\n      <th>Travis</th>\n      <td>-0.439135</td>\n      <td>-1.045740</td>\n    </tr>\n  </tbody>\n</table>\n</div>"
     },
     "metadata": {},
     "output_type": "execute_result",
     "execution_count": 18
    }
   ],
   "source": "people.groupby(map_series, axis=1).sum() # If a dict or Series is passed, the Series or dict VALUES will be used to determine the groups"
  },
  {
   "cell_type": "code",
   "execution_count": 19,
   "metadata": {
    "pycharm": {
     "is_executing": false
    }
   },
   "outputs": [
    {
     "data": {
      "text/plain": "        blue  red\nJoe        2    3\nSteve      2    3\nWes        1    2\nJim        2    3\nTravis     2    3",
      "text/html": "<div>\n<style scoped>\n    .dataframe tbody tr th:only-of-type {\n        vertical-align: middle;\n    }\n\n    .dataframe tbody tr th {\n        vertical-align: top;\n    }\n\n    .dataframe thead th {\n        text-align: right;\n    }\n</style>\n<table border=\"1\" class=\"dataframe\">\n  <thead>\n    <tr style=\"text-align: right;\">\n      <th></th>\n      <th>blue</th>\n      <th>red</th>\n    </tr>\n  </thead>\n  <tbody>\n    <tr>\n      <th>Joe</th>\n      <td>2</td>\n      <td>3</td>\n    </tr>\n    <tr>\n      <th>Steve</th>\n      <td>2</td>\n      <td>3</td>\n    </tr>\n    <tr>\n      <th>Wes</th>\n      <td>1</td>\n      <td>2</td>\n    </tr>\n    <tr>\n      <th>Jim</th>\n      <td>2</td>\n      <td>3</td>\n    </tr>\n    <tr>\n      <th>Travis</th>\n      <td>2</td>\n      <td>3</td>\n    </tr>\n  </tbody>\n</table>\n</div>"
     },
     "metadata": {},
     "output_type": "execute_result",
     "execution_count": 19
    }
   ],
   "source": [
    "people.groupby(map_series, axis=1).count()"
   ]
  },
  {
   "cell_type": "code",
   "execution_count": 20,
   "metadata": {
    "pycharm": {
     "is_executing": false
    }
   },
   "outputs": [
    {
     "data": {
      "text/plain": "            blue       red\nJoe    -0.009546  0.056162\nSteve  -1.277871  1.128103\nWes     0.197286 -1.745625\nJim     1.155485  2.875774\nTravis -0.439135 -1.045740",
      "text/html": "<div>\n<style scoped>\n    .dataframe tbody tr th:only-of-type {\n        vertical-align: middle;\n    }\n\n    .dataframe tbody tr th {\n        vertical-align: top;\n    }\n\n    .dataframe thead th {\n        text-align: right;\n    }\n</style>\n<table border=\"1\" class=\"dataframe\">\n  <thead>\n    <tr style=\"text-align: right;\">\n      <th></th>\n      <th>blue</th>\n      <th>red</th>\n    </tr>\n  </thead>\n  <tbody>\n    <tr>\n      <th>Joe</th>\n      <td>-0.009546</td>\n      <td>0.056162</td>\n    </tr>\n    <tr>\n      <th>Steve</th>\n      <td>-1.277871</td>\n      <td>1.128103</td>\n    </tr>\n    <tr>\n      <th>Wes</th>\n      <td>0.197286</td>\n      <td>-1.745625</td>\n    </tr>\n    <tr>\n      <th>Jim</th>\n      <td>1.155485</td>\n      <td>2.875774</td>\n    </tr>\n    <tr>\n      <th>Travis</th>\n      <td>-0.439135</td>\n      <td>-1.045740</td>\n    </tr>\n  </tbody>\n</table>\n</div>"
     },
     "metadata": {},
     "output_type": "execute_result",
     "execution_count": 20
    }
   ],
   "source": "arr = np.array(['red', 'red', 'blue', 'blue', 'red'])\nby_column1 = people.groupby(arr, axis=1)\nby_column1.sum()"
  },
  {
   "cell_type": "code",
   "execution_count": null,
   "outputs": [],
   "source": "\n",
   "metadata": {
    "pycharm": {
     "metadata": false,
     "name": "#%%\n"
    }
   }
  }
 ],
 "metadata": {
  "kernelspec": {
   "name": "python3",
   "language": "python",
   "display_name": "Python 3"
  },
  "language_info": {
   "codemirror_mode": {
    "name": "ipython",
    "version": 2
   },
   "file_extension": ".py",
   "mimetype": "text/x-python",
   "name": "python",
   "nbconvert_exporter": "python",
   "pygments_lexer": "ipython2",
   "version": "2.7.6"
  },
  "stem_cell": {
   "cell_type": "raw",
   "source": "",
   "metadata": {
    "pycharm": {
     "metadata": false
    }
   }
  },
  "pycharm": {
   "stem_cell": {
    "cell_type": "raw",
    "source": [],
    "metadata": {
     "collapsed": false
    }
   }
  }
 },
 "nbformat": 4,
 "nbformat_minor": 0
}