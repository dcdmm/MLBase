{
 "cells": [
  {
   "cell_type": "code",
   "execution_count": 15,
   "outputs": [],
   "source": [
    "import sys\n",
    "\n",
    "sys.setrecursionlimit(300)  # 设置递归深度"
   ],
   "metadata": {
    "collapsed": false,
    "pycharm": {
     "name": "#%%\n"
    }
   }
  },
  {
   "cell_type": "code",
   "execution_count": 16,
   "metadata": {},
   "outputs": [
    {
     "name": "stdout",
     "output_type": "stream",
     "text": [
      "5的阶乘是:120递归实现\n"
     ]
    }
   ],
   "source": [
    "# 递归实现阶乘\n",
    "# 时间复杂度为O(n)\n",
    "def recursion(n):\n",
    "    if n == 1:\n",
    "        return 1\n",
    "\n",
    "    return n * recursion(n - 1)\n",
    "\n",
    "\n",
    "print('%d的阶乘是:%d递归实现' % (5, recursion(5)))"
   ]
  },
  {
   "cell_type": "code",
   "execution_count": 17,
   "outputs": [
    {
     "name": "stdout",
     "output_type": "stream",
     "text": [
      "5的阶乘是:120非递归实现\n"
     ]
    }
   ],
   "source": [
    "# 非递归实现阶乘\n",
    "def norecursion(n):\n",
    "    s = n\n",
    "    for i in range(1, n):\n",
    "        s = s * i\n",
    "\n",
    "    return s\n",
    "\n",
    "\n",
    "print('%d的阶乘是:%d非递归实现' % (5, norecursion(5)))"
   ],
   "metadata": {
    "pycharm": {
     "metadata": false,
     "name": "#%%\n"
    }
   }
  },
  {
   "cell_type": "code",
   "execution_count": 18,
   "metadata": {},
   "outputs": [
    {
     "name": "stdout",
     "output_type": "stream",
     "text": [
      "12个月后小兔子的数量为: 144\n"
     ]
    }
   ],
   "source": [
    "# 斐波拉契数列的递归实现\n",
    "# 时间复杂度为指数级\n",
    "def FibonaccRecursion(the_month):\n",
    "    \"\"\"\n",
    "    第n个斐波那契数却决于前两个值,即F_{n-2}和F_{n-1}.\n",
    "    但是,计算出F_{n-2}后,计算F_{n-1}的调用需要其自身递归调用以计算F_{n-2},\n",
    "    因为它不知道先前级别的调用中被计算的F_{n-2}的值.这是一个重复的操作.\n",
    "    \"\"\"\n",
    "    if the_month < 1:\n",
    "        print(\"你的输入有误\")\n",
    "        return -1\n",
    "    if the_month == 1 or the_month == 2:\n",
    "        return 1\n",
    "\n",
    "    return FibonaccRecursion(the_month - 1) +\n",
    "           FibonaccRecursion(the_month - 2)  # 当一个函数执行两个递归调用时,我们就说它使用了二路递归\n",
    "\n",
    "\n",
    "this_numbers = FibonaccRecursion(12)\n",
    "print(\"12个月后小兔子的数量为:\", this_numbers)"
   ]
  },
  {
   "cell_type": "code",
   "execution_count": 19,
   "metadata": {},
   "outputs": [],
   "source": [
    "# 使用线性递归(每个调用至多执行一个新的递归调用)计算第n个斐波那契数\n",
    "# 此时时间复杂度为O(n)\n",
    "def good_fibonacci(n):\n",
    "    \"\"\"Return pair of Fibonacci number,F(n) and F(n-1)\"\"\"\n",
    "    if n <= 1:\n",
    "        return n, 0\n",
    "    else:\n",
    "        a, b = good_fibonacci(n - 1)\n",
    "        return a + b, a  # 避免了重复计算"
   ]
  },
  {
   "cell_type": "code",
   "execution_count": 21,
   "outputs": [
    {
     "name": "stdout",
     "output_type": "stream",
     "text": [
      "x --> z\n",
      "x --> y\n",
      "z --> y\n",
      "x --> z\n",
      "y --> x\n",
      "y --> z\n",
      "x --> z\n"
     ]
    }
   ],
   "source": [
    "# 汉诺塔的递归实现\n",
    "def hanoi(n, x, y, z):\n",
    "    if n == 1:\n",
    "        print(x, '-->', z)\n",
    "    else:\n",
    "        hanoi(n - 1, x, z, y)  # 将前n-1个盘子移动从x移动到y上\n",
    "        print(x, '-->', z)  # 将最底下的盘子从x移动到z上\n",
    "        hanoi(n - 1, y, x, z)  # 将y上的n-1个盘子移动到z上\n",
    "\n",
    "\n",
    "layer = 3\n",
    "hanoi(layer, 'x', 'y', 'z')"
   ],
   "metadata": {
    "collapsed": false,
    "pycharm": {
     "name": "#%%\n"
    }
   }
  },
  {
   "cell_type": "code",
   "execution_count": 20,
   "outputs": [],
   "source": [
    "\n"
   ],
   "metadata": {
    "pycharm": {
     "metadata": false,
     "name": "#%%\n"
    }
   }
  }
 ],
 "metadata": {
  "kernelspec": {
   "name": "python3",
   "language": "python",
   "display_name": "Python 3"
  },
  "language_info": {
   "codemirror_mode": {
    "name": "ipython",
    "version": 2
   },
   "file_extension": ".py",
   "mimetype": "text/x-python",
   "name": "python",
   "nbconvert_exporter": "python",
   "pygments_lexer": "ipython2",
   "version": "2.7.6"
  }
 },
 "nbformat": 4,
 "nbformat_minor": 0
}