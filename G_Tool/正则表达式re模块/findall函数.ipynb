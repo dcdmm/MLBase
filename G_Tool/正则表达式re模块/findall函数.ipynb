{
 "cells": [
  {
   "cell_type": "code",
   "execution_count": 62,
   "metadata": {
    "collapsed": true
   },
   "outputs": [],
   "source": [
    "import re"
   ]
  },
  {
   "cell_type": "code",
   "execution_count": 63,
   "outputs": [
    {
     "name": "stdout",
     "output_type": "stream",
     "text": [
      "['123', '456']\n"
     ]
    }
   ],
   "source": [
    "# 在字符串中找到正则表达式所匹配的所有子组(★★★★★注意:是子组),并返回一个列表,如果没有找到匹配的,则返回空列表\n",
    "# 如果没有子组,匹配整个正则表达式\n",
    "pattern = re.compile(r'\\d+')  # 没有子组\n",
    "result1 = re.findall(pattern, 'school 123 google 456')  # 用于匹配至少一个数字\n",
    "print(result1)"
   ],
   "metadata": {
    "collapsed": false,
    "pycharm": {
     "name": "#%%\n"
    }
   }
  },
  {
   "cell_type": "code",
   "execution_count": 64,
   "outputs": [
    {
     "name": "stdout",
     "output_type": "stream",
     "text": [
      "[':', '/', '/', '.', '.', '/', '/', '/', '.', '.']\n"
     ]
    }
   ],
   "source": [
    "result2 = re.findall(r\"\\W\", \"https://docs.python.org/3/whatsnew/3.6.html\")  # 匹配除了字母与数字以外的特殊符号\n",
    "print(result2)"
   ],
   "metadata": {
    "collapsed": false,
    "pycharm": {
     "name": "#%%\n"
    }
   }
  },
  {
   "cell_type": "code",
   "execution_count": 65,
   "outputs": [
    {
     "name": "stdout",
     "output_type": "stream",
     "text": [
      "[('2017-07-10', '2017-07', '2017', '20', '00')]\n"
     ]
    }
   ],
   "source": [
    "time = '2017-07-10 20:00'\n",
    "p = re.compile(r'(((\\d{4})-\\d{2})-\\d{2}) (\\d{2}):(\\d{2})')\n",
    "print(re.findall(p, time))  # 只匹配子组"
   ],
   "metadata": {
    "collapsed": false,
    "pycharm": {
     "name": "#%%\n"
    }
   }
  },
  {
   "cell_type": "code",
   "execution_count": 66,
   "outputs": [
    {
     "name": "stdout",
     "output_type": "stream",
     "text": [
      "[('2017-07-10 20:00', '2017-07-10', '2017-07', '2017', '20', '00')]\n"
     ]
    }
   ],
   "source": [
    "time = '2017-07-10 20:00'\n",
    "p = re.compile(r'((((\\d{4})-\\d{2})-\\d{2}) (\\d{2}):(\\d{2}))')  # 整个匹配项也作为一个子组(使用括号包含)\n",
    "print(re.findall(p, time))"
   ],
   "metadata": {
    "collapsed": false,
    "pycharm": {
     "name": "#%%\n"
    }
   }
  },
  {
   "cell_type": "code",
   "execution_count": 66,
   "outputs": [],
   "source": [],
   "metadata": {
    "collapsed": false,
    "pycharm": {
     "name": "#%%\n"
    }
   }
  }
 ],
 "metadata": {
  "kernelspec": {
   "display_name": "Python 3",
   "language": "python",
   "name": "python3"
  },
  "language_info": {
   "codemirror_mode": {
    "name": "ipython",
    "version": 2
   },
   "file_extension": ".py",
   "mimetype": "text/x-python",
   "name": "python",
   "nbconvert_exporter": "python",
   "pygments_lexer": "ipython2",
   "version": "2.7.6"
  }
 },
 "nbformat": 4,
 "nbformat_minor": 0
}