{
 "cells": [
  {
   "cell_type": "code",
   "execution_count": 28,
   "metadata": {
    "collapsed": true,
    "pycharm": {
     "name": "#%%\n"
    }
   },
   "outputs": [],
   "source": [
    "import numpy as np\n",
    "from scipy.sparse import csc_matrix, csr_matrix, bsr_matrix\n",
    "import joblib"
   ]
  },
  {
   "cell_type": "code",
   "execution_count": 29,
   "outputs": [
    {
     "data": {
      "text/plain": "<6x6 sparse matrix of type '<class 'numpy.intc'>'\n\twith 24 stored elements (blocksize = 2x2) in Block Sparse Row format>"
     },
     "execution_count": 29,
     "metadata": {},
     "output_type": "execute_result"
    }
   ],
   "source": [
    "bsr_array = np.array([[1, 1, 0, 0, 2, 2],\n",
    "                      [1, 1, 0, 0, 2, 2],\n",
    "                      [0, 0, 0, 0, 3, 3],\n",
    "                      [0, 0, 0, 0, 3, 3],\n",
    "                      [4, 4, 5, 5, 6, 6],\n",
    "                      [4, 4, 5, 5, 6, 6]])\n",
    "# Block Sparse Row array\n",
    "bsr = bsr_matrix(bsr_array)\n",
    "bsr"
   ],
   "metadata": {
    "collapsed": false,
    "pycharm": {
     "name": "#%%\n"
    }
   }
  },
  {
   "cell_type": "code",
   "execution_count": 30,
   "outputs": [
    {
     "data": {
      "text/plain": "(6, 6)"
     },
     "execution_count": 30,
     "metadata": {},
     "output_type": "execute_result"
    }
   ],
   "source": [
    "bsr.shape"
   ],
   "metadata": {
    "collapsed": false,
    "pycharm": {
     "name": "#%%\n"
    }
   }
  },
  {
   "cell_type": "code",
   "execution_count": 31,
   "outputs": [
    {
     "data": {
      "text/plain": "array([[1, 1, 0, 0, 2, 2],\n       [1, 1, 0, 0, 2, 2],\n       [0, 0, 0, 0, 3, 3],\n       [0, 0, 0, 0, 3, 3],\n       [4, 4, 5, 5, 6, 6],\n       [4, 4, 5, 5, 6, 6]], dtype=int32)"
     },
     "execution_count": 31,
     "metadata": {},
     "output_type": "execute_result"
    }
   ],
   "source": [
    "bsr.toarray()"
   ],
   "metadata": {
    "collapsed": false,
    "pycharm": {
     "name": "#%%\n"
    }
   }
  },
  {
   "cell_type": "code",
   "execution_count": 32,
   "outputs": [
    {
     "data": {
      "text/plain": "<3x3 sparse matrix of type '<class 'numpy.intc'>'\n\twith 6 stored elements in Compressed Sparse Column format>"
     },
     "execution_count": 32,
     "metadata": {},
     "output_type": "execute_result"
    }
   ],
   "source": [
    "csc_array = np.array([[1, 0, 4],\n",
    "                      [0, 0, 5],\n",
    "                      [2, 3, 6]])\n",
    "# Compressed Sparse Column array\n",
    "csc = csc_matrix(csc_array)\n",
    "csc"
   ],
   "metadata": {
    "collapsed": false,
    "pycharm": {
     "name": "#%%\n"
    }
   }
  },
  {
   "cell_type": "code",
   "execution_count": 33,
   "outputs": [
    {
     "data": {
      "text/plain": "<2x4 sparse matrix of type '<class 'numpy.intc'>'\n\twith 5 stored elements in Compressed Sparse Row format>"
     },
     "execution_count": 33,
     "metadata": {},
     "output_type": "execute_result"
    }
   ],
   "source": [
    "csr_array = np.array([[2, 1, 0, 0],\n",
    "                      [0, 1, 1, 1]])\n",
    "# Compressed Sparse Row array\n",
    "csr = csr_matrix(csr_array)\n",
    "csr"
   ],
   "metadata": {
    "collapsed": false,
    "pycharm": {
     "name": "#%%\n"
    }
   }
  },
  {
   "cell_type": "markdown",
   "source": [
    "### 稀疏矩阵的保存与加载"
   ],
   "metadata": {
    "collapsed": false,
    "pycharm": {
     "name": "#%% md\n"
    }
   }
  },
  {
   "cell_type": "code",
   "execution_count": 35,
   "outputs": [
    {
     "data": {
      "text/plain": "['csr.pkl']"
     },
     "execution_count": 35,
     "metadata": {},
     "output_type": "execute_result"
    }
   ],
   "source": [
    "# 保存\n",
    "joblib.dump(csr, 'csr.pkl')"
   ],
   "metadata": {
    "collapsed": false,
    "pycharm": {
     "name": "#%%\n"
    }
   }
  },
  {
   "cell_type": "code",
   "execution_count": 36,
   "outputs": [
    {
     "data": {
      "text/plain": "<2x4 sparse matrix of type '<class 'numpy.int32'>'\n\twith 5 stored elements in Compressed Sparse Row format>"
     },
     "execution_count": 36,
     "metadata": {},
     "output_type": "execute_result"
    }
   ],
   "source": [
    "# 加载\n",
    "csr_load = joblib.load('csr.pkl')\n",
    "csr_load"
   ],
   "metadata": {
    "collapsed": false,
    "pycharm": {
     "name": "#%%\n"
    }
   }
  },
  {
   "cell_type": "code",
   "execution_count": 37,
   "outputs": [
    {
     "data": {
      "text/plain": "array([[2, 1, 0, 0],\n       [0, 1, 1, 1]])"
     },
     "execution_count": 37,
     "metadata": {},
     "output_type": "execute_result"
    }
   ],
   "source": [
    "csr_load.toarray()"
   ],
   "metadata": {
    "collapsed": false,
    "pycharm": {
     "name": "#%%\n"
    }
   }
  },
  {
   "cell_type": "code",
   "execution_count": null,
   "outputs": [],
   "source": [],
   "metadata": {
    "collapsed": false,
    "pycharm": {
     "name": "#%%\n"
    }
   }
  }
 ],
 "metadata": {
  "kernelspec": {
   "display_name": "Python 3",
   "language": "python",
   "name": "python3"
  },
  "language_info": {
   "codemirror_mode": {
    "name": "ipython",
    "version": 2
   },
   "file_extension": ".py",
   "mimetype": "text/x-python",
   "name": "python",
   "nbconvert_exporter": "python",
   "pygments_lexer": "ipython2",
   "version": "2.7.6"
  }
 },
 "nbformat": 4,
 "nbformat_minor": 0
}