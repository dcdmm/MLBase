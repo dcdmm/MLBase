{
 "cells": [
  {
   "cell_type": "code",
   "execution_count": 18,
   "metadata": {
    "collapsed": true
   },
   "outputs": [
    {
     "data": {
      "text/plain": "array([[0., 1., 2.],\n       [3., 4., 5.],\n       [6., 7., 8.]])"
     },
     "execution_count": 18,
     "metadata": {},
     "output_type": "execute_result"
    }
   ],
   "source": [
    "import  numpy as np\n",
    "'''\n",
    "numpy.where(condition[, x, y])\n",
    "    Return elements chosen from x or y depending on condition.\n",
    "\n",
    "    Parameters:\n",
    "    condition : array_like, bool\n",
    "        Where True, yield x, otherwise yield y.\n",
    "\n",
    "    x, y : array_like\n",
    "        Values from which to choose. x, y and condition need to be broadcastable to some shape.\n",
    "\n",
    "    Returns:\n",
    "    out : ndarray\n",
    "        An array with elements from x where condition is True, and elements from y elsewhere.\n",
    "'''\n",
    "x = np.arange(9.).reshape(3, 3)\n",
    "x"
   ]
  },
  {
   "cell_type": "code",
   "execution_count": 19,
   "outputs": [
    {
     "data": {
      "text/plain": "array([[0., 0., 0.],\n       [0., 0., 1.],\n       [1., 1., 1.]])"
     },
     "execution_count": 19,
     "metadata": {},
     "output_type": "execute_result"
    }
   ],
   "source": [
    "np.where(x < 5, 0, 1.0)"
   ],
   "metadata": {
    "pycharm": {
     "metadata": false,
     "name": "#%%\n"
    }
   }
  },
  {
   "cell_type": "code",
   "execution_count": 20,
   "outputs": [
    {
     "data": {
      "text/plain": "array([[ 0.,  1.,  2.],\n       [ 3.,  4., -1.],\n       [-1., -1., -1.]])"
     },
     "execution_count": 20,
     "metadata": {},
     "output_type": "execute_result"
    }
   ],
   "source": [
    "np.where(x < 5, x, -1)"
   ],
   "metadata": {
    "pycharm": {
     "metadata": false,
     "name": "#%%\n"
    }
   }
  },
  {
   "cell_type": "code",
   "execution_count": 21,
   "outputs": [
    {
     "data": {
      "text/plain": "array([[  0., 100.,   2.],\n       [  3.,   4.,   5.],\n       [  6.,   7.,   8.]])"
     },
     "execution_count": 21,
     "metadata": {},
     "output_type": "execute_result"
    }
   ],
   "source": [
    "np.where(x == 1, 100, x)"
   ],
   "metadata": {
    "pycharm": {
     "metadata": false,
     "name": "#%%\n"
    }
   }
  },
  {
   "cell_type": "code",
   "execution_count": 22,
   "outputs": [
    {
     "data": {
      "text/plain": "array([[  0., 100.,   2.],\n       [  3.,   4.,   5.],\n       [  6.,   7.,   8.]])"
     },
     "execution_count": 22,
     "metadata": {},
     "output_type": "execute_result"
    }
   ],
   "source": [
    "np.where(x ==1, np.full_like(x, 100), x) # 于上等价"
   ],
   "metadata": {
    "collapsed": false,
    "pycharm": {
     "name": "#%%\n"
    }
   }
  },
  {
   "cell_type": "code",
   "execution_count": 23,
   "outputs": [
    {
     "data": {
      "text/plain": "array([[0., 1., 2.],\n       [3., 4., 5.],\n       [6., 7., 8.]])"
     },
     "execution_count": 23,
     "metadata": {},
     "output_type": "execute_result"
    }
   ],
   "source": [
    "x # x不发生改变"
   ],
   "metadata": {
    "pycharm": {
     "metadata": false,
     "name": "#%%\n"
    }
   }
  },
  {
   "cell_type": "code",
   "execution_count": 23,
   "outputs": [],
   "source": "",
   "metadata": {
    "pycharm": {
     "metadata": false,
     "name": "#%%"
    }
   }
  }
 ],
 "metadata": {
  "language_info": {
   "codemirror_mode": {
    "name": "ipython",
    "version": 2
   },
   "file_extension": ".py",
   "mimetype": "text/x-python",
   "name": "python",
   "nbconvert_exporter": "python",
   "pygments_lexer": "ipython2",
   "version": "2.7.6"
  },
  "kernelspec": {
   "name": "python3",
   "language": "python",
   "display_name": "Python 3"
  }
 },
 "nbformat": 4,
 "nbformat_minor": 0
}