{
 "cells": [
  {
   "cell_type": "code",
   "execution_count": 1,
   "metadata": {
    "collapsed": true
   },
   "outputs": [],
   "source": [
    "from datasets import load_dataset\n",
    "from transformers import AutoTokenizer\n",
    "from datasets import Dataset"
   ]
  },
  {
   "cell_type": "code",
   "execution_count": 2,
   "metadata": {
    "collapsed": false,
    "pycharm": {
     "name": "#%%\n"
    }
   },
   "outputs": [
    {
     "data": {
      "text/plain": [
       "Dataset({\n",
       "    features: ['text', 'label'],\n",
       "    num_rows: 16000\n",
       "})"
      ]
     },
     "execution_count": 2,
     "metadata": {},
     "output_type": "execute_result"
    }
   ],
   "source": [
    "dataset_all = load_dataset(path='dair-ai/emotion')\n",
    "dataset_train = dataset_all['train']\n",
    "dataset_train  # 类型:datasets.arrow_dataset.Dataset"
   ]
  },
  {
   "cell_type": "markdown",
   "metadata": {
    "collapsed": false
   },
   "source": [
    "### filter"
   ]
  },
  {
   "cell_type": "code",
   "execution_count": 3,
   "metadata": {
    "collapsed": false,
    "pycharm": {
     "name": "#%%\n"
    }
   },
   "outputs": [
    {
     "name": "stdout",
     "output_type": "stream",
     "text": [
      "Dataset({\n",
      "    features: ['text', 'label'],\n",
      "    num_rows: 100\n",
      "})\n",
      "100 ['i feel as confused about life as a teenager or as jaded as a year old man', 'i feel as a child innocent feelings illustrating a', 'i feel as if i was abused in some way', 'i feel as if i should be punished for neglecting you', 'i feel as though ive reached a point in my career where im highly respected there', 'i feel as if i must blog constantly for all my loyal fans the baker thia sandwich the scruncher and of course mini t rex', 'i feel as if this opportunity to return to moz is gods gracious gracious way of giving me that heat desire despite my own self doubt and uncertainty in the past', 'i feel as if the leaders of countries do not depict the people of their countries because for the love of god i hope no one thought at all i was in any way supportive or like george w', 'i feel assured that my mind is not one', 'i feel as though i am being a little neglectful of my fellow bloggers', 'i feel as though i cant bear the motion of quilting it even though the idea of it delighted me so only a few days ago', 'i feel as though the concept of lifestyle change rather than weight loss has been beaten to death but it really is something that i believe in and am currently experiencing', 'i feel ashamed to have not read it yet', 'i feel assured the world around me seems brighter', 'i feel ashamed that i so readily turn it aside', 'i feel ashamed that i again let it come that far', 'i feel as though you are determined to annoy me you know i dont want you listening to the radio', 'i feel as if im in some strange catholic vortex', 'i feel assured that it was the right answer', 'i feel as messy as my room', 'i feel as though the rest of my year will be jaded due to my love for this first', 'i feel as one with the trail without being totally punished by it', 'i feel ashamed i wasted years of my life partying and wasting time', 'i feel as if i have had enough sleep and have much more vital energy than i have ever had before taking it', 'i feel assaulted when i hear the radio ad', 'i feel as though the art of the romantic comedy has deteriorated as of late and i am drawn to movies like sabrina notting hill and love actually', 'i feel as though i am living on an island as i put the delicious moisturiser on a sample which is lasting a very very long time used twice a day and the rest of the products are so gentle yet cleansing and moisturising', 'i feel as dirty as fuck', 'i feel as though sometimes i can be more clever than average', 'i feel ashamed oh how romantic', 'i feel as though i have a blank canvas and can pick any theme i want', 'i feel as though at least in the range of age being doubtful or not believing in religion is not so uncommon while my mother who was born in sees being an atheist means you cannot be a moral person', 'i feel as if it was a way of distracting me from my positive thoughts and i had to work really hard to switch my thoughts around today but i did it', 'i feel as i did when i was troubled easily agitated and indecisive', 'i feel as if her call was not a sincere apology', 'i feel as defeated as i did today i wonder if im doing this parenting thing all wrong', 'i feel as if she isnt faithful but i dont have a reason to should approach her or just wait until i have a reason to approach her', 'i feel as the author is very passionate about his poem because when he wrote his poem he wrote from his feeling and history', 'i feel as though there has been some divine intervention on my behalf', 'i feel assaulted the new kid whined', 'i feel as if i am completely worthless', 'i feel as though my capacity to love others to show love to be loved and share it has grown dramatically', 'i feel ashamed when i log out and leave these problems behind', 'i feel as though i don t write about them often enough but they are just cruising through life in their own equally special ways', 'i feel as though im becoming jaded to the point of numbness', 'i feel as if i m one of the stubborn ones', 'i feel as if anything less than points is acceptable and that we can forgive the team for losing at old trafford or stamford bridge', 'i feel as if it only engrains these prejudiced ideas more', 'i feel as though my body is damaged like everything has just stopped and ive became a little girl again', 'i feel as if i am on hold somehow that ive been given a time for contemplation consolidation and it is a most curious feeling', 'i feel as though i am living the world of opposites where a long cold winter is a sign of global warming free speech is only free as long as it is practiced in the echo chamber of political correctness and the u', 'i feel as though satan doesnt want these one here so im going to be that much more determined to get this out', 'i feel as sweet as a centuries old cake', 'i feel assured saying the world could have one heck of a pacesetter on their hands', 'i feel as much disturbed as much a fool as as that dealer in love philters paaker', 'i feel as fantastic as a beauty and beast moment would have been i did not go through any magical dramatically lit transformations as i exited the first trimester and emerged in the second', 'i feel as if i had an unfortunate run in with tyler durden and his fight club', 'i feel assured that foods that are grown organic free from pesticides in soil and water that aren t contaminated that s good for us', 'i feel as if i could speak volumes and be ignored', 'i feel as weird criticizing this game as much as i feel weird praising it', 'i feel ashamed youre perfectly fine granting', 'i feel as though my own snowglobe is being shaken and im still flying through the air', 'i feel as if i am going to sneeze but do not and therefore my beloved is about to think of me but does not', 'i feel as if i prepare for hurricanes every day of the week and at the end of the night these three precious storms leave their trail throughout my home', 'i feel ashamed of my unproductive days', 'i feel ashamed to tell somebody that', 'i feel as though im the most hated kid in school the biggest bitch and other times i just feel popular and loved by everyone', 'i feel as though i gush on an on about the gorgeous colors of the produce we receive through our farm share and i have to do it again this week', 'i feel as though i need to say hi my name is cathy lovely to meet you', 'i feel as a person and a politician i cannot allow dogs to run around on our streets that are more dangerous than others', 'i feel as though this class will still be useful because in the end when owning a business you have to spread the word of what your business is about and trying to sell or get done', 'i feel ashamed of my lack of empathy at times', 'i feel ashamed because i was doing the very thing that the bible taught against', 'i feel as if im a doomed to fail b setting myself up to think that im doomed to fail', 'i feel assured that the future of online entertainment rests in good hands', 'i feel as if someone has bumbed my delicate set up', 'i feel as rich as solomon', 'i feel as though the past two months have been a strange waking hour upon the even stranger dream of everything my years in wisconsin were and were not', 'i feel assured that this is gods plan for me', 'i feel as though ive been robbed because much of my summer was not so pleasant and although i started with grand ideas about projects that would be done and structure that would be kept and clever new places that we would go', 'i feel as if i havent been very productive over the past six months', 'i feel as though this was a project we missed in february or last years february', 'i feel as if work that doesnt have a sort of depth to it isnt nearly as successful as work that is created with a meaning and leaves the viewer wanting to know more about the subject that the artist presented', 'i feel ashamed that i hadn t even made root mousse in about a year this was a recipe that my swedish grandfather would make for the family though i hear the most authentic version calls for turnips which are not in season right now', 'i feel as though i am going to be victimized', 'i feel as if these words are petty so i am telling you now that my actions are going to speak louder than my words ever will be able to', 'i feel as if my husband s life is valued and the duty of care towards him is taken seriously', 'i feel as though i fucked up so majorly this summer that im cast off into an alternate universe that i went the wrong way on a timeline and im stuck in a world that the same as the one i knew in all but one way', 'i feel as though my sub arguments are stronger and i support my claims better than i did in the beginning', 'i feel as if im trying to be so considerate of others', 'i feel as though im supposed to be sympathetic but im having a hard time feeling that way im finding the repetition more annoying than anything else and im afraid its showing', 'i feel assured that i am properly preparing crystal for her spanish sojourn', 'i feel as it is imprinted in my brain by now how vital stress in the college community', 'i feel as though i broke the plane if he is there then ill be aware and use my faith to wish him gone', 'i feel ashamed that you would forget that and forget us', 'i feel assured thankk god', 'i feel ashamed and embarrassed every time someone is executed in the us', 'i feel as though canadians are coming complacent with the workings of our country because of how well weve fared in the recession', 'i feel ashamed that my two bags look like theyve erupted exploded natural disastered all over my hosts spotless stylish living room', 'i feel ashamed afraid to let people come over to see my messy house afraid i ll be pulled over and my car towed for my unpaid ticket afraid that blood work will come back with a diagnosis of imminent death']\n"
     ]
    }
   ],
   "source": [
    "def filter_func(data):\n",
    "    print('data:', data)\n",
    "    return data['text'].startswith('i feel as')  # 返回`text`字段以'i'开头的所有数据\n",
    "\n",
    "\n",
    "# Apply a filter function to all the elements in the table in batches and update the table so that the dataset only includes examples according to the filter function.\n",
    "start_with_ar = dataset_train.filter(filter_func)\n",
    "print(start_with_ar)  # 类型:datasets.arrow_dataset.Dataset\n",
    "print(len(start_with_ar), start_with_ar['text'])"
   ]
  },
  {
   "cell_type": "markdown",
   "metadata": {
    "collapsed": false
   },
   "source": [
    "### map"
   ]
  },
  {
   "cell_type": "code",
   "execution_count": 4,
   "metadata": {
    "collapsed": false,
    "pycharm": {
     "name": "#%%\n"
    }
   },
   "outputs": [],
   "source": [
    "model_ckpt = \"distilbert-base-uncased\"\n",
    "tokenizer = AutoTokenizer.from_pretrained(model_ckpt)\n",
    "\n",
    "\n",
    "def map_func(data, name='hello'):\n",
    "    print('data: ', data)\n",
    "    return tokenizer(data[\"text\"], padding=True, truncation=True)"
   ]
  },
  {
   "cell_type": "code",
   "execution_count": null,
   "metadata": {
    "collapsed": false,
    "pycharm": {
     "name": "#%%\n"
    }
   },
   "outputs": [
    {
     "name": "stdout",
     "output_type": "stream",
     "text": [
      "Dataset({\n",
      "    features: ['text', 'label', 'input_ids', 'attention_mask'],\n",
      "    num_rows: 16000\n",
      "})\n",
      "7\n",
      "23\n",
      "12\n",
      "22\n",
      "8\n",
      "17\n",
      "30\n",
      "20\n",
      "25\n",
      "6\n"
     ]
    }
   ],
   "source": [
    "# Apply a function to all the elements in the table (individually or in batches) and update the table (if function does update examples).\n",
    "datatset_map = dataset_train.map(map_func,\n",
    "                                 # 数据集中的每条样本单独处理\n",
    "                                 batched=False  # 默认batched=False\n",
    "                                 # Max number of processes when generating cache.\n",
    "                                 num_proc=8  # 默认num_proc=1\n",
    "                                 )\n",
    "# 原有数据与map函数新增数据的联合\n",
    "print(datatset_map)  # 类型:datasets.arrow_dataset.Dataset\n",
    "for i in datatset_map['input_ids'][:10]:\n",
    "    print(len(i))  # 样本长度不一"
   ]
  },
  {
   "cell_type": "code",
   "execution_count": 6,
   "metadata": {
    "collapsed": false,
    "pycharm": {
     "name": "#%%\n"
    }
   },
   "outputs": [
    {
     "name": "stdout",
     "output_type": "stream",
     "text": [
      "Dataset({\n",
      "    features: ['text', 'label', 'input_ids', 'attention_mask'],\n",
      "    num_rows: 16000\n",
      "})\n",
      "23\n",
      "23\n",
      "22\n",
      "22\n",
      "17\n",
      "17\n",
      "30\n",
      "30\n",
      "25\n",
      "25\n",
      "23\n",
      "23\n",
      "14\n",
      "14\n",
      "44\n",
      "44\n",
      "10\n",
      "10\n",
      "25\n",
      "25\n",
      "46\n",
      "46\n",
      "31\n",
      "31\n",
      "57\n",
      "57\n",
      "20\n",
      "20\n",
      "25\n",
      "25\n"
     ]
    }
   ],
   "source": [
    "datatset_map_batched_10 = dataset_train.map(map_func,\n",
    "                                            # 批次处理,每次处理数据集中的2条样本(默认batch_size=1000)\n",
    "                                            batched=True, batch_size=2, \n",
    "                                            fn_kwargs={\"name\": 'hello jave!'})\n",
    "print(datatset_map_batched_10)\n",
    "for i in datatset_map_batched_10['input_ids'][:30]:\n",
    "    print(len(i))  # 样本长度每2条相等"
   ]
  },
  {
   "cell_type": "code",
   "execution_count": 7,
   "metadata": {
    "collapsed": false,
    "pycharm": {
     "name": "#%%\n"
    }
   },
   "outputs": [
    {
     "name": "stdout",
     "output_type": "stream",
     "text": [
      "87\n",
      "87\n",
      "87\n",
      "87\n",
      "87\n",
      "87\n",
      "87\n",
      "87\n",
      "87\n",
      "87\n",
      "87\n",
      "87\n",
      "87\n",
      "87\n",
      "87\n",
      "87\n",
      "87\n",
      "87\n",
      "87\n",
      "87\n",
      "87\n",
      "87\n",
      "87\n",
      "87\n",
      "87\n",
      "87\n",
      "87\n",
      "87\n",
      "87\n",
      "87\n",
      "87\n",
      "87\n",
      "87\n",
      "87\n",
      "87\n",
      "87\n",
      "87\n",
      "87\n",
      "87\n",
      "87\n",
      "87\n",
      "87\n",
      "87\n",
      "87\n",
      "87\n",
      "87\n",
      "87\n",
      "87\n",
      "87\n",
      "87\n"
     ]
    }
   ],
   "source": [
    "datatset_map_batched_all = dataset_train.map(map_func,\n",
    "                                             # 批次处理,整个数据集同时进行处理\n",
    "                                             batched=True, batch_size=None)\n",
    "for i in datatset_map_batched_all['input_ids'][:50]:\n",
    "    print(len(i))  # 所有样本等长"
   ]
  },
  {
   "cell_type": "code",
   "execution_count": 8,
   "metadata": {},
   "outputs": [
    {
     "data": {
      "text/plain": [
       "Dataset({\n",
       "    features: ['a', 'b'],\n",
       "    num_rows: 4\n",
       "})"
      ]
     },
     "execution_count": 8,
     "metadata": {},
     "output_type": "execute_result"
    }
   ],
   "source": [
    "def not_eq_len(data):\n",
    "    print(\"data: \", data)\n",
    "    return {\"c\": data[\"a\"][: 2]} \n",
    "\n",
    "dataset = Dataset.from_dict({\"a\": [0, 1, 2, 4], \"b\": [3, 4, 5, 6]})\n",
    "\n",
    "dataset"
   ]
  },
  {
   "cell_type": "code",
   "execution_count": 9,
   "metadata": {},
   "outputs": [
    {
     "data": {
      "application/vnd.jupyter.widget-view+json": {
       "model_id": "3ff29c1cf1834095b7f5e3101440e1ec",
       "version_major": 2,
       "version_minor": 0
      },
      "text/plain": [
       "Map:   0%|          | 0/4 [00:00<?, ? examples/s]"
      ]
     },
     "metadata": {},
     "output_type": "display_data"
    },
    {
     "name": "stdout",
     "output_type": "stream",
     "text": [
      "data:  {'a': [0, 1, 2, 4], 'b': [3, 4, 5, 6]}\n"
     ]
    },
    {
     "ename": "ArrowInvalid",
     "evalue": "Column 2 named c expected length 4 but got length 2",
     "output_type": "error",
     "traceback": [
      "\u001b[1;31m---------------------------------------------------------------------------\u001b[0m",
      "\u001b[1;31mArrowInvalid\u001b[0m                              Traceback (most recent call last)",
      "Cell \u001b[1;32mIn[9], line 1\u001b[0m\n\u001b[1;32m----> 1\u001b[0m \u001b[43mdataset\u001b[49m\u001b[38;5;241;43m.\u001b[39;49m\u001b[43mmap\u001b[49m\u001b[43m(\u001b[49m\u001b[43mnot_eq_len\u001b[49m\u001b[43m,\u001b[49m\u001b[43m \u001b[49m\u001b[43mbatched\u001b[49m\u001b[38;5;241;43m=\u001b[39;49m\u001b[38;5;28;43;01mTrue\u001b[39;49;00m\u001b[43m)\u001b[49m\n",
      "File \u001b[1;32mc:\\Users\\duanm\\anaconda3\\envs\\llm\\lib\\site-packages\\datasets\\arrow_dataset.py:560\u001b[0m, in \u001b[0;36mtransmit_format.<locals>.wrapper\u001b[1;34m(*args, **kwargs)\u001b[0m\n\u001b[0;32m    553\u001b[0m self_format \u001b[38;5;241m=\u001b[39m {\n\u001b[0;32m    554\u001b[0m     \u001b[38;5;124m\"\u001b[39m\u001b[38;5;124mtype\u001b[39m\u001b[38;5;124m\"\u001b[39m: \u001b[38;5;28mself\u001b[39m\u001b[38;5;241m.\u001b[39m_format_type,\n\u001b[0;32m    555\u001b[0m     \u001b[38;5;124m\"\u001b[39m\u001b[38;5;124mformat_kwargs\u001b[39m\u001b[38;5;124m\"\u001b[39m: \u001b[38;5;28mself\u001b[39m\u001b[38;5;241m.\u001b[39m_format_kwargs,\n\u001b[0;32m    556\u001b[0m     \u001b[38;5;124m\"\u001b[39m\u001b[38;5;124mcolumns\u001b[39m\u001b[38;5;124m\"\u001b[39m: \u001b[38;5;28mself\u001b[39m\u001b[38;5;241m.\u001b[39m_format_columns,\n\u001b[0;32m    557\u001b[0m     \u001b[38;5;124m\"\u001b[39m\u001b[38;5;124moutput_all_columns\u001b[39m\u001b[38;5;124m\"\u001b[39m: \u001b[38;5;28mself\u001b[39m\u001b[38;5;241m.\u001b[39m_output_all_columns,\n\u001b[0;32m    558\u001b[0m }\n\u001b[0;32m    559\u001b[0m \u001b[38;5;66;03m# apply actual function\u001b[39;00m\n\u001b[1;32m--> 560\u001b[0m out: Union[\u001b[38;5;124m\"\u001b[39m\u001b[38;5;124mDataset\u001b[39m\u001b[38;5;124m\"\u001b[39m, \u001b[38;5;124m\"\u001b[39m\u001b[38;5;124mDatasetDict\u001b[39m\u001b[38;5;124m\"\u001b[39m] \u001b[38;5;241m=\u001b[39m func(\u001b[38;5;28mself\u001b[39m, \u001b[38;5;241m*\u001b[39margs, \u001b[38;5;241m*\u001b[39m\u001b[38;5;241m*\u001b[39mkwargs)\n\u001b[0;32m    561\u001b[0m datasets: List[\u001b[38;5;124m\"\u001b[39m\u001b[38;5;124mDataset\u001b[39m\u001b[38;5;124m\"\u001b[39m] \u001b[38;5;241m=\u001b[39m \u001b[38;5;28mlist\u001b[39m(out\u001b[38;5;241m.\u001b[39mvalues()) \u001b[38;5;28;01mif\u001b[39;00m \u001b[38;5;28misinstance\u001b[39m(out, \u001b[38;5;28mdict\u001b[39m) \u001b[38;5;28;01melse\u001b[39;00m [out]\n\u001b[0;32m    562\u001b[0m \u001b[38;5;66;03m# re-apply format to the output\u001b[39;00m\n",
      "File \u001b[1;32mc:\\Users\\duanm\\anaconda3\\envs\\llm\\lib\\site-packages\\datasets\\arrow_dataset.py:3035\u001b[0m, in \u001b[0;36mDataset.map\u001b[1;34m(self, function, with_indices, with_rank, input_columns, batched, batch_size, drop_last_batch, remove_columns, keep_in_memory, load_from_cache_file, cache_file_name, writer_batch_size, features, disable_nullable, fn_kwargs, num_proc, suffix_template, new_fingerprint, desc)\u001b[0m\n\u001b[0;32m   3029\u001b[0m \u001b[38;5;28;01mif\u001b[39;00m transformed_dataset \u001b[38;5;129;01mis\u001b[39;00m \u001b[38;5;28;01mNone\u001b[39;00m:\n\u001b[0;32m   3030\u001b[0m     \u001b[38;5;28;01mwith\u001b[39;00m hf_tqdm(\n\u001b[0;32m   3031\u001b[0m         unit\u001b[38;5;241m=\u001b[39m\u001b[38;5;124m\"\u001b[39m\u001b[38;5;124m examples\u001b[39m\u001b[38;5;124m\"\u001b[39m,\n\u001b[0;32m   3032\u001b[0m         total\u001b[38;5;241m=\u001b[39mpbar_total,\n\u001b[0;32m   3033\u001b[0m         desc\u001b[38;5;241m=\u001b[39mdesc \u001b[38;5;129;01mor\u001b[39;00m \u001b[38;5;124m\"\u001b[39m\u001b[38;5;124mMap\u001b[39m\u001b[38;5;124m\"\u001b[39m,\n\u001b[0;32m   3034\u001b[0m     ) \u001b[38;5;28;01mas\u001b[39;00m pbar:\n\u001b[1;32m-> 3035\u001b[0m         \u001b[38;5;28;01mfor\u001b[39;00m rank, done, content \u001b[38;5;129;01min\u001b[39;00m Dataset\u001b[38;5;241m.\u001b[39m_map_single(\u001b[38;5;241m*\u001b[39m\u001b[38;5;241m*\u001b[39mdataset_kwargs):\n\u001b[0;32m   3036\u001b[0m             \u001b[38;5;28;01mif\u001b[39;00m done:\n\u001b[0;32m   3037\u001b[0m                 shards_done \u001b[38;5;241m+\u001b[39m\u001b[38;5;241m=\u001b[39m \u001b[38;5;241m1\u001b[39m\n",
      "File \u001b[1;32mc:\\Users\\duanm\\anaconda3\\envs\\llm\\lib\\site-packages\\datasets\\arrow_dataset.py:3461\u001b[0m, in \u001b[0;36mDataset._map_single\u001b[1;34m(shard, function, with_indices, with_rank, input_columns, batched, batch_size, drop_last_batch, remove_columns, keep_in_memory, cache_file_name, writer_batch_size, features, disable_nullable, fn_kwargs, new_fingerprint, rank, offset)\u001b[0m\n\u001b[0;32m   3459\u001b[0m         writer\u001b[38;5;241m.\u001b[39mwrite_table(batch\u001b[38;5;241m.\u001b[39mto_arrow())\n\u001b[0;32m   3460\u001b[0m     \u001b[38;5;28;01melse\u001b[39;00m:\n\u001b[1;32m-> 3461\u001b[0m         \u001b[43mwriter\u001b[49m\u001b[38;5;241;43m.\u001b[39;49m\u001b[43mwrite_batch\u001b[49m\u001b[43m(\u001b[49m\u001b[43mbatch\u001b[49m\u001b[43m)\u001b[49m\n\u001b[0;32m   3462\u001b[0m num_examples_progress_update \u001b[38;5;241m+\u001b[39m\u001b[38;5;241m=\u001b[39m num_examples_in_batch\n\u001b[0;32m   3463\u001b[0m \u001b[38;5;28;01mif\u001b[39;00m time\u001b[38;5;241m.\u001b[39mtime() \u001b[38;5;241m>\u001b[39m _time \u001b[38;5;241m+\u001b[39m config\u001b[38;5;241m.\u001b[39mPBAR_REFRESH_TIME_INTERVAL:\n",
      "File \u001b[1;32mc:\\Users\\duanm\\anaconda3\\envs\\llm\\lib\\site-packages\\datasets\\arrow_writer.py:566\u001b[0m, in \u001b[0;36mArrowWriter.write_batch\u001b[1;34m(self, batch_examples, writer_batch_size)\u001b[0m\n\u001b[0;32m    564\u001b[0m         inferred_features[col] \u001b[38;5;241m=\u001b[39m typed_sequence\u001b[38;5;241m.\u001b[39mget_inferred_type()\n\u001b[0;32m    565\u001b[0m schema \u001b[38;5;241m=\u001b[39m inferred_features\u001b[38;5;241m.\u001b[39marrow_schema \u001b[38;5;28;01mif\u001b[39;00m \u001b[38;5;28mself\u001b[39m\u001b[38;5;241m.\u001b[39mpa_writer \u001b[38;5;129;01mis\u001b[39;00m \u001b[38;5;28;01mNone\u001b[39;00m \u001b[38;5;28;01melse\u001b[39;00m \u001b[38;5;28mself\u001b[39m\u001b[38;5;241m.\u001b[39mschema\n\u001b[1;32m--> 566\u001b[0m pa_table \u001b[38;5;241m=\u001b[39m \u001b[43mpa\u001b[49m\u001b[38;5;241;43m.\u001b[39;49m\u001b[43mTable\u001b[49m\u001b[38;5;241;43m.\u001b[39;49m\u001b[43mfrom_arrays\u001b[49m\u001b[43m(\u001b[49m\u001b[43marrays\u001b[49m\u001b[43m,\u001b[49m\u001b[43m \u001b[49m\u001b[43mschema\u001b[49m\u001b[38;5;241;43m=\u001b[39;49m\u001b[43mschema\u001b[49m\u001b[43m)\u001b[49m\n\u001b[0;32m    567\u001b[0m \u001b[38;5;28mself\u001b[39m\u001b[38;5;241m.\u001b[39mwrite_table(pa_table, writer_batch_size)\n",
      "File \u001b[1;32mc:\\Users\\duanm\\anaconda3\\envs\\llm\\lib\\site-packages\\pyarrow\\table.pxi:4740\u001b[0m, in \u001b[0;36mpyarrow.lib.Table.from_arrays\u001b[1;34m()\u001b[0m\n",
      "File \u001b[1;32mc:\\Users\\duanm\\anaconda3\\envs\\llm\\lib\\site-packages\\pyarrow\\table.pxi:4092\u001b[0m, in \u001b[0;36mpyarrow.lib.Table.validate\u001b[1;34m()\u001b[0m\n",
      "File \u001b[1;32mc:\\Users\\duanm\\anaconda3\\envs\\llm\\lib\\site-packages\\pyarrow\\error.pxi:92\u001b[0m, in \u001b[0;36mpyarrow.lib.check_status\u001b[1;34m()\u001b[0m\n",
      "\u001b[1;31mArrowInvalid\u001b[0m: Column 2 named c expected length 4 but got length 2"
     ]
    }
   ],
   "source": [
    "dataset.map(not_eq_len, batched=True)  # 列a、列b的长度为4,列c的长度为2,报错"
   ]
  },
  {
   "cell_type": "code",
   "execution_count": 10,
   "metadata": {},
   "outputs": [
    {
     "data": {
      "application/vnd.jupyter.widget-view+json": {
       "model_id": "c4643084ba714a089d40f791afb6ad67",
       "version_major": 2,
       "version_minor": 0
      },
      "text/plain": [
       "Map:   0%|          | 0/4 [00:00<?, ? examples/s]"
      ]
     },
     "metadata": {},
     "output_type": "display_data"
    },
    {
     "name": "stdout",
     "output_type": "stream",
     "text": [
      "data:  {'a': [0, 1, 2, 4], 'b': [3, 4, 5, 6]}\n"
     ]
    },
    {
     "data": {
      "text/plain": [
       "Dataset({\n",
       "    features: ['c'],\n",
       "    num_rows: 2\n",
       "})"
      ]
     },
     "execution_count": 10,
     "metadata": {},
     "output_type": "execute_result"
    }
   ],
   "source": [
    "dataset.map(not_eq_len, batched=True, \n",
    "            # Remove a selection of columns while doing the mapping.\n",
    "            remove_columns=[\"a\", \"b\"]\n",
    "            )"
   ]
  }
 ],
 "metadata": {
  "kernelspec": {
   "display_name": "llm",
   "language": "python",
   "name": "python3"
  },
  "language_info": {
   "codemirror_mode": {
    "name": "ipython",
    "version": 3
   },
   "file_extension": ".py",
   "mimetype": "text/x-python",
   "name": "python",
   "nbconvert_exporter": "python",
   "pygments_lexer": "ipython3",
   "version": "3.10.12"
  }
 },
 "nbformat": 4,
 "nbformat_minor": 0
}
