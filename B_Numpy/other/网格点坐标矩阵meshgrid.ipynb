{
 "cells": [
  {
   "cell_type": "code",
   "execution_count": 1,
   "metadata": {
    "collapsed": true,
    "pycharm": {
     "is_executing": false
    }
   },
   "outputs": [
    {
     "name": "stdout",
     "text": [
      "Using matplotlib backend: Qt5Agg\n",
      "[[0.  0.5 1. ]\n",
      " [0.  0.5 1. ]\n",
      " [0.  0.5 1. ]\n",
      " [0.  0.5 1. ]]\n",
      "[[0.         0.         0.        ]\n",
      " [0.66666667 0.66666667 0.66666667]\n",
      " [1.33333333 1.33333333 1.33333333]\n",
      " [2.         2.         2.        ]]\n"
     ],
     "output_type": "stream"
    }
   ],
   "source": [
    "%matplotlib\n",
    "import numpy as np\n",
    "\n",
    "nx, ny = (3, 4)\n",
    "x = np.linspace(0, 1, nx)\n",
    "y = np.linspace(0, 2, ny)\n",
    "xv, yv = np.meshgrid(x, y, indexing='xy') # Return coordinate matrices from coordinate vectors.\n",
    "'''\n",
    "x1, x2,…, xn : array_like\n",
    "    1-D arrays representing the coordinates of a grid.\n",
    "    \n",
    "indexing : {‘xy’, ‘ij’}, optional\n",
    "    Cartesian (‘xy’, default) or matrix (‘ij’) indexing of output. \n",
    "'''\n",
    "print(xv)\n",
    "print(yv)"
   ]
  },
  {
   "cell_type": "code",
   "execution_count": 2,
   "outputs": [
    {
     "name": "stdout",
     "text": [
      "[[-5.  -4.9 -4.8 ...  4.7  4.8  4.9]\n",
      " [-5.  -4.9 -4.8 ...  4.7  4.8  4.9]\n",
      " [-5.  -4.9 -4.8 ...  4.7  4.8  4.9]\n",
      " ...\n",
      " [-5.  -4.9 -4.8 ...  4.7  4.8  4.9]\n",
      " [-5.  -4.9 -4.8 ...  4.7  4.8  4.9]\n",
      " [-5.  -4.9 -4.8 ...  4.7  4.8  4.9]]\n",
      "[[-5.  -5.  -5.  ... -5.  -5.  -5. ]\n",
      " [-4.9 -4.9 -4.9 ... -4.9 -4.9 -4.9]\n",
      " [-4.8 -4.8 -4.8 ... -4.8 -4.8 -4.8]\n",
      " ...\n",
      " [ 4.7  4.7  4.7 ...  4.7  4.7  4.7]\n",
      " [ 4.8  4.8  4.8 ...  4.8  4.8  4.8]\n",
      " [ 4.9  4.9  4.9 ...  4.9  4.9  4.9]]\n",
      "[[50.   49.01 48.04 ... 47.09 48.04 49.01]\n",
      " [49.01 48.02 47.05 ... 46.1  47.05 48.02]\n",
      " [48.04 47.05 46.08 ... 45.13 46.08 47.05]\n",
      " ...\n",
      " [47.09 46.1  45.13 ... 44.18 45.13 46.1 ]\n",
      " [48.04 47.05 46.08 ... 45.13 46.08 47.05]\n",
      " [49.01 48.02 47.05 ... 46.1  47.05 48.02]]\n"
     ],
     "output_type": "stream"
    }
   ],
   "source": "import matplotlib.pyplot as plt\nfrom mpl_toolkits.mplot3d import Axes3D\n \nx = np.arange(-5, 5, 0.1)\ny = np.arange(-5, 5, 0.1)\nxx, yy = np.meshgrid(x, y )  # 转换成二维的矩阵坐标\nprint(xx)\nprint(yy)\n \nfig = plt.figure(1, figsize=(12, 8))\nzz =  (xx**2 + yy**2)\nprint(zz)\nax = fig.add_subplot(2, 2, 1, projection='3d')\nax.set_top_view()\n \nax.plot_surface(xx, yy, zz, rstride=1, cstride=1, cmap='rainbow')\nplt.show()",
   "metadata": {
    "pycharm": {
     "metadata": false,
     "name": "#%%\n",
     "is_executing": false
    }
   }
  },
  {
   "cell_type": "code",
   "execution_count": 2,
   "outputs": [],
   "source": "\n",
   "metadata": {
    "pycharm": {
     "metadata": false,
     "name": "#%%\n",
     "is_executing": false
    }
   }
  }
 ],
 "metadata": {
  "language_info": {
   "codemirror_mode": {
    "name": "ipython",
    "version": 2
   },
   "file_extension": ".py",
   "mimetype": "text/x-python",
   "name": "python",
   "nbconvert_exporter": "python",
   "pygments_lexer": "ipython2",
   "version": "2.7.6"
  },
  "kernelspec": {
   "name": "python3",
   "language": "python",
   "display_name": "Python 3"
  },
  "pycharm": {
   "stem_cell": {
    "cell_type": "raw",
    "source": [],
    "metadata": {
     "collapsed": false
    }
   }
  }
 },
 "nbformat": 4,
 "nbformat_minor": 0
}