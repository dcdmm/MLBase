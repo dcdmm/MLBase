{
 "cells": [
  {
   "cell_type": "code",
   "execution_count": 3,
   "metadata": {},
   "outputs": [],
   "source": [
    "import tensorflow as tf\n",
    "import numpy as np\n",
    "import matplotlib.pyplot as plt\n",
    "from tensorflow.python.keras import layers\n",
    "from tensorflow.python.keras.models import Sequential"
   ]
  },
  {
   "cell_type": "markdown",
   "metadata": {},
   "source": [
    "### 参考torch.optim.Adam"
   ]
  },
  {
   "cell_type": "code",
   "execution_count": 4,
   "metadata": {
    "pycharm": {
     "name": "#%%\n"
    }
   },
   "outputs": [],
   "source": [
    "mnist = np.load(\"../../../../../Other/datasets/NumPy/mnist.npz\")\n",
    "X_train, y_train, X_test, y_test = tf.cast(tf.expand_dims(tf.constant(mnist['x_train']), -1), tf.float32), tf.constant(mnist['y_train']), tf.cast(\n",
    "    tf.expand_dims(\n",
    "        tf.constant(mnist['x_test']), -1), tf.float32), tf.constant(mnist['y_test'])\n",
    "\n",
    "# 归一化\n",
    "X_train, X_test = X_train / 255.0, X_test / 255.0"
   ]
  },
  {
   "cell_type": "code",
   "execution_count": 5,
   "metadata": {
    "pycharm": {
     "name": "#%%\n"
    }
   },
   "outputs": [],
   "source": [
    "model = Sequential([\n",
    "    layers.Conv2D(6, 3, activation='relu'),\n",
    "    layers.MaxPooling2D(pool_size=2, strides=2),\n",
    "    layers.Conv2D(16, 3, activation='relu'),\n",
    "    layers.MaxPooling2D(pool_size=2, strides=2),\n",
    "    layers.Flatten(),\n",
    "    layers.Dense(120, activation='relu'),\n",
    "    layers.Dense(84, activation='relu'),\n",
    "    layers.Dense(10, activation='relu'),\n",
    "])"
   ]
  },
  {
   "cell_type": "code",
   "execution_count": 6,
   "metadata": {
    "pycharm": {
     "name": "#%%\n"
    }
   },
   "outputs": [],
   "source": [
    "'''\n",
    "Adam默认参数:\n",
    "tf.keras.optimizers.Adam(\n",
    "    learning_rate=0.001, beta_1=0.9, beta_2=0.999, epsilon=1e-07, amsgrad=False,\n",
    "    name='Adam', **kwargs\n",
    ")\n",
    "'''\n",
    "model.compile(optimizer=tf.keras.optimizers.Adam(learning_rate=0.001,  # 对应torch.optim.Adam lr参数\n",
    "                                                 beta_1=0.9, beta_2=0.999,  # 对应torch.optim.Adam betas参数\n",
    "                                                 epsilon=1e-07),  # 对应torch.optim.Adam eps参数\n",
    "              loss=tf.keras.losses.SparseCategoricalCrossentropy(from_logits=True), metrics=['accuracy'])"
   ]
  },
  {
   "cell_type": "code",
   "execution_count": 7,
   "metadata": {
    "pycharm": {
     "name": "#%%\n"
    }
   },
   "outputs": [
    {
     "name": "stdout",
     "output_type": "stream",
     "text": [
      "Epoch 1/15\n",
      "1875/1875 [==============================] - 10s 5ms/step - loss: 0.7244 - accuracy: 0.7228 - val_loss: 0.5072 - val_accuracy: 0.7929\n",
      "Epoch 2/15\n",
      "1875/1875 [==============================] - 10s 5ms/step - loss: 0.5122 - accuracy: 0.7904 - val_loss: 0.5040 - val_accuracy: 0.7918\n",
      "Epoch 3/15\n",
      "1875/1875 [==============================] - 11s 6ms/step - loss: 0.4961 - accuracy: 0.7937 - val_loss: 0.4902 - val_accuracy: 0.7967\n",
      "Epoch 4/15\n",
      "1875/1875 [==============================] - 11s 6ms/step - loss: 0.4867 - accuracy: 0.7956 - val_loss: 0.4870 - val_accuracy: 0.7977\n",
      "Epoch 5/15\n",
      "1875/1875 [==============================] - 12s 6ms/step - loss: 0.4799 - accuracy: 0.7972 - val_loss: 0.4740 - val_accuracy: 0.7999\n",
      "Epoch 6/15\n",
      "1875/1875 [==============================] - 13s 7ms/step - loss: 0.4757 - accuracy: 0.7983 - val_loss: 0.4812 - val_accuracy: 0.7992\n",
      "Epoch 7/15\n",
      "1875/1875 [==============================] - 12s 7ms/step - loss: 0.4725 - accuracy: 0.7987 - val_loss: 0.4849 - val_accuracy: 0.7985\n",
      "Epoch 8/15\n",
      "1875/1875 [==============================] - 23s 12ms/step - loss: 0.4698 - accuracy: 0.7994 - val_loss: 0.4901 - val_accuracy: 0.7956\n",
      "Epoch 9/15\n",
      "1875/1875 [==============================] - 21s 11ms/step - loss: 0.4670 - accuracy: 0.7998 - val_loss: 0.4746 - val_accuracy: 0.7995\n",
      "Epoch 10/15\n",
      "1875/1875 [==============================] - 22s 12ms/step - loss: 0.4663 - accuracy: 0.8002 - val_loss: 0.4818 - val_accuracy: 0.7992\n",
      "Epoch 11/15\n",
      "1875/1875 [==============================] - 22s 12ms/step - loss: 0.4643 - accuracy: 0.8006 - val_loss: 0.4749 - val_accuracy: 0.8004\n",
      "Epoch 12/15\n",
      "1875/1875 [==============================] - 22s 11ms/step - loss: 0.4636 - accuracy: 0.8009 - val_loss: 0.4873 - val_accuracy: 0.7975\n",
      "Epoch 13/15\n",
      "1875/1875 [==============================] - 23s 12ms/step - loss: 0.4623 - accuracy: 0.8011 - val_loss: 0.4784 - val_accuracy: 0.8004\n",
      "Epoch 14/15\n",
      "1875/1875 [==============================] - 23s 12ms/step - loss: 0.4621 - accuracy: 0.8012 - val_loss: 0.4825 - val_accuracy: 0.7986\n",
      "Epoch 15/15\n",
      "1875/1875 [==============================] - 18s 9ms/step - loss: 0.4601 - accuracy: 0.8017 - val_loss: 0.4911 - val_accuracy: 0.7975\n"
     ]
    }
   ],
   "source": [
    "history = model.fit(X_train, y_train, epochs=15, validation_data=(X_test, y_test))"
   ]
  },
  {
   "cell_type": "code",
   "execution_count": 8,
   "metadata": {
    "pycharm": {
     "name": "#%%\n"
    }
   },
   "outputs": [
    {
     "data": {
      "text/plain": "<Figure size 432x288 with 1 Axes>",
      "image/png": "[encoded data removed]"
     },
     "metadata": {
      "needs_background": "light"
     },
     "output_type": "display_data"
    }
   ],
   "source": [
    "plt.plot(history.history['accuracy'], label='accuracy')\n",
    "plt.plot(history.history['val_accuracy'], label='val_accuracy')\n",
    "plt.xlabel('Epoch')\n",
    "plt.ylabel('Accuracy')\n",
    "plt.legend(loc='lower right')\n",
    "plt.show()"
   ]
  },
  {
   "cell_type": "code",
   "execution_count": 9,
   "metadata": {
    "pycharm": {
     "name": "#%%\n"
    }
   },
   "outputs": [
    {
     "name": "stdout",
     "output_type": "stream",
     "text": [
      "Model: \"sequential\"\n",
      "_________________________________________________________________\n",
      " Layer (type)                Output Shape              Param #   \n",
      "=================================================================\n",
      " conv2d (Conv2D)             (None, 26, 26, 6)         60        \n",
      "                                                                 \n",
      " max_pooling2d (MaxPooling2D  (None, 13, 13, 6)        0         \n",
      " )                                                               \n",
      "                                                                 \n",
      " conv2d_1 (Conv2D)           (None, 11, 11, 16)        880       \n",
      "                                                                 \n",
      " max_pooling2d_1 (MaxPooling  (None, 5, 5, 16)         0         \n",
      " 2D)                                                             \n",
      "                                                                 \n",
      " flatten (Flatten)           (None, 400)               0         \n",
      "                                                                 \n",
      " dense (Dense)               (None, 120)               48120     \n",
      "                                                                 \n",
      " dense_1 (Dense)             (None, 84)                10164     \n",
      "                                                                 \n",
      " dense_2 (Dense)             (None, 10)                850       \n",
      "                                                                 \n",
      "=================================================================\n",
      "Total params: 60,074\n",
      "Trainable params: 60,074\n",
      "Non-trainable params: 0\n",
      "_________________________________________________________________\n"
     ]
    }
   ],
   "source": [
    "model.summary()"
   ]
  },
  {
   "cell_type": "code",
   "execution_count": 9,
   "metadata": {
    "collapsed": false,
    "pycharm": {
     "name": "#%%\n"
    }
   },
   "outputs": [],
   "source": []
  }
 ],
 "metadata": {
  "interpreter": {
   "hash": "7f42f7985a9e76d558e128652df079bec508149d1eda9cc3ea1ae8669a21bab3"
  },
  "kernelspec": {
   "display_name": "Python 3.8.12 64-bit ('base': conda)",
   "name": "python3"
  },
  "language_info": {
   "codemirror_mode": {
    "name": "ipython",
    "version": 3
   },
   "file_extension": ".py",
   "mimetype": "text/x-python",
   "name": "python",
   "nbconvert_exporter": "python",
   "pygments_lexer": "ipython3",
   "version": "3.8.8"
  }
 },
 "nbformat": 4,
 "nbformat_minor": 1
}