{
 "cells": [
  {
   "cell_type": "code",
   "execution_count": 60,
   "metadata": {
    "collapsed": true
   },
   "outputs": [
    {
     "name": "stdout",
     "output_type": "stream",
     "text": [
      "tensor([1., 2., 3., 4.], requires_grad=True) 2127003274592 True True\n",
      "tensor([[1., 2.],\n",
      "        [3., 4.]], requires_grad=True) 2127003274592 True True\n",
      "tensor([[ 1.,  4.],\n",
      "        [ 9., 16.]], grad_fn=<PowBackward0>)\n"
     ]
    }
   ],
   "source": [
    "import torch\n",
    "\n",
    "x = torch.tensor([1., 2., 3., 4.], requires_grad=True)\n",
    "print(x, id(x), x.is_leaf, x.requires_grad)\n",
    "\n",
    "# 计算图确定前,可以通过此方式修改x的初始值(也可以通过detach函数),从而改变x.grad\n",
    "x.data = x.reshape(2, 2)\n",
    "print(x, id(x), x.is_leaf, x.requires_grad)\n",
    "\n",
    "y = x ** 2  # 计算图确定后,x.grad已经被计算\n",
    "print(y)\n",
    "\n",
    "# 计算图确定后,通过detach函数或x.data修改x的值,都将会报错\n",
    "# s = x.detach()\n",
    "# s.fill_(10)\n",
    "#\n",
    "# x.data = x.reshape(1, -1)"
   ]
  },
  {
   "cell_type": "code",
   "execution_count": 61,
   "outputs": [
    {
     "name": "stdout",
     "output_type": "stream",
     "text": [
      "tensor([[2., 4.],\n",
      "        [6., 8.]])\n"
     ]
    }
   ],
   "source": [
    "# ★★★★★若y不为标量,则必须指定权重向量gradient\n",
    "y.backward(gradient=torch.ones_like(y, dtype=torch.float32))\n",
    "print(x.grad)"
   ],
   "metadata": {
    "collapsed": false,
    "pycharm": {
     "name": "#%%\n"
    }
   }
  },
  {
   "cell_type": "code",
   "execution_count": 62,
   "outputs": [
    {
     "data": {
      "text/plain": "tensor([[2., 3.],\n        [4., 5.]])"
     },
     "execution_count": 62,
     "metadata": {},
     "output_type": "execute_result"
    }
   ],
   "source": [
    "x.data.add_(1)"
   ],
   "metadata": {
    "collapsed": false,
    "pycharm": {
     "name": "#%%\n"
    }
   }
  },
  {
   "cell_type": "code",
   "execution_count": 63,
   "outputs": [],
   "source": [
    "y1 = x  # 新的计算题"
   ],
   "metadata": {
    "collapsed": false,
    "pycharm": {
     "name": "#%%\n"
    }
   }
  },
  {
   "cell_type": "code",
   "execution_count": 64,
   "outputs": [
    {
     "data": {
      "text/plain": "tensor([[3., 5.],\n        [7., 9.]])"
     },
     "execution_count": 64,
     "metadata": {},
     "output_type": "execute_result"
    }
   ],
   "source": [
    "y1.backward(gradient=torch.ones_like(y, dtype=torch.float32))\n",
    "x.grad  # 梯度累加"
   ],
   "metadata": {
    "collapsed": false,
    "pycharm": {
     "name": "#%%\n"
    }
   }
  }
 ],
 "metadata": {
  "kernelspec": {
   "display_name": "Python 3",
   "language": "python",
   "name": "python3"
  },
  "language_info": {
   "codemirror_mode": {
    "name": "ipython",
    "version": 2
   },
   "file_extension": ".py",
   "mimetype": "text/x-python",
   "name": "python",
   "nbconvert_exporter": "python",
   "pygments_lexer": "ipython2",
   "version": "2.7.6"
  }
 },
 "nbformat": 4,
 "nbformat_minor": 0
}