{
 "cells": [
  {
   "cell_type": "code",
   "execution_count": 397,
   "outputs": [],
   "source": [
    "import pandas as pd\n",
    "import numpy as np\n",
    "\n",
    "# 参考array的修改与共享内存.ipynb"
   ],
   "metadata": {
    "collapsed": false,
    "pycharm": {
     "name": "#%%%\n"
    }
   }
  },
  {
   "cell_type": "code",
   "execution_count": 398,
   "outputs": [
    {
     "data": {
      "text/plain": "        state  year  pop\none      Ohio  2000  1.5\ntwo      Ohio  2001  1.7\nthree    Ohio  2002  3.6\nfour   Nevada  2001  2.4\nfive   Nevada  2002  2.9\nsix    Nevada  2003  3.2",
      "text/html": "<div>\n<style scoped>\n    .dataframe tbody tr th:only-of-type {\n        vertical-align: middle;\n    }\n\n    .dataframe tbody tr th {\n        vertical-align: top;\n    }\n\n    .dataframe thead th {\n        text-align: right;\n    }\n</style>\n<table border=\"1\" class=\"dataframe\">\n  <thead>\n    <tr style=\"text-align: right;\">\n      <th></th>\n      <th>state</th>\n      <th>year</th>\n      <th>pop</th>\n    </tr>\n  </thead>\n  <tbody>\n    <tr>\n      <th>one</th>\n      <td>Ohio</td>\n      <td>2000</td>\n      <td>1.5</td>\n    </tr>\n    <tr>\n      <th>two</th>\n      <td>Ohio</td>\n      <td>2001</td>\n      <td>1.7</td>\n    </tr>\n    <tr>\n      <th>three</th>\n      <td>Ohio</td>\n      <td>2002</td>\n      <td>3.6</td>\n    </tr>\n    <tr>\n      <th>four</th>\n      <td>Nevada</td>\n      <td>2001</td>\n      <td>2.4</td>\n    </tr>\n    <tr>\n      <th>five</th>\n      <td>Nevada</td>\n      <td>2002</td>\n      <td>2.9</td>\n    </tr>\n    <tr>\n      <th>six</th>\n      <td>Nevada</td>\n      <td>2003</td>\n      <td>3.2</td>\n    </tr>\n  </tbody>\n</table>\n</div>"
     },
     "execution_count": 398,
     "metadata": {},
     "output_type": "execute_result"
    }
   ],
   "source": [
    "data = {'state': ['Ohio', 'Ohio', 'Ohio', 'Nevada', 'Nevada', 'Nevada'],\n",
    "        'year': [2000, 2001, 2002, 2001, 2002, 2003],\n",
    "        'pop': [1.5, 1.7, 3.6, 2.4, 2.9, 3.2]}\n",
    "df = pd.DataFrame(data)\n",
    "df.index = ['one', 'two', 'three', 'four', 'five', 'six']\n",
    "df"
   ],
   "metadata": {
    "collapsed": false,
    "pycharm": {
     "name": "#%%\n"
    }
   }
  },
  {
   "cell_type": "code",
   "execution_count": 399,
   "outputs": [
    {
     "data": {
      "text/plain": "        state  year  pop  debt\none      Ohio  2000  1.5  16.5\ntwo      Ohio  2001  1.7  16.5\nthree    Ohio  2002  3.6  16.5\nfour   Nevada  2001  2.4  16.5\nfive   Nevada  2002  2.9  16.5\nsix    Nevada  2003  3.2  16.5",
      "text/html": "<div>\n<style scoped>\n    .dataframe tbody tr th:only-of-type {\n        vertical-align: middle;\n    }\n\n    .dataframe tbody tr th {\n        vertical-align: top;\n    }\n\n    .dataframe thead th {\n        text-align: right;\n    }\n</style>\n<table border=\"1\" class=\"dataframe\">\n  <thead>\n    <tr style=\"text-align: right;\">\n      <th></th>\n      <th>state</th>\n      <th>year</th>\n      <th>pop</th>\n      <th>debt</th>\n    </tr>\n  </thead>\n  <tbody>\n    <tr>\n      <th>one</th>\n      <td>Ohio</td>\n      <td>2000</td>\n      <td>1.5</td>\n      <td>16.5</td>\n    </tr>\n    <tr>\n      <th>two</th>\n      <td>Ohio</td>\n      <td>2001</td>\n      <td>1.7</td>\n      <td>16.5</td>\n    </tr>\n    <tr>\n      <th>three</th>\n      <td>Ohio</td>\n      <td>2002</td>\n      <td>3.6</td>\n      <td>16.5</td>\n    </tr>\n    <tr>\n      <th>four</th>\n      <td>Nevada</td>\n      <td>2001</td>\n      <td>2.4</td>\n      <td>16.5</td>\n    </tr>\n    <tr>\n      <th>five</th>\n      <td>Nevada</td>\n      <td>2002</td>\n      <td>2.9</td>\n      <td>16.5</td>\n    </tr>\n    <tr>\n      <th>six</th>\n      <td>Nevada</td>\n      <td>2003</td>\n      <td>3.2</td>\n      <td>16.5</td>\n    </tr>\n  </tbody>\n</table>\n</div>"
     },
     "execution_count": 399,
     "metadata": {},
     "output_type": "execute_result"
    }
   ],
   "source": [
    "df.loc[:, 'debt'] = 16.5  # 增加一列(标量)\n",
    "df  # frame发生了改变"
   ],
   "metadata": {
    "pycharm": {
     "metadata": false,
     "name": "#%%\n"
    }
   }
  },
  {
   "cell_type": "code",
   "execution_count": 400,
   "outputs": [
    {
     "data": {
      "text/plain": "        state  year  pop  debt  debt_1\none      Ohio  2000  1.5  16.5       1\ntwo      Ohio  2001  1.7  16.5       2\nthree    Ohio  2002  3.6  16.5       3\nfour   Nevada  2001  2.4  16.5       4\nfive   Nevada  2002  2.9  16.5       5\nsix    Nevada  2003  3.2  16.5       6",
      "text/html": "<div>\n<style scoped>\n    .dataframe tbody tr th:only-of-type {\n        vertical-align: middle;\n    }\n\n    .dataframe tbody tr th {\n        vertical-align: top;\n    }\n\n    .dataframe thead th {\n        text-align: right;\n    }\n</style>\n<table border=\"1\" class=\"dataframe\">\n  <thead>\n    <tr style=\"text-align: right;\">\n      <th></th>\n      <th>state</th>\n      <th>year</th>\n      <th>pop</th>\n      <th>debt</th>\n      <th>debt_1</th>\n    </tr>\n  </thead>\n  <tbody>\n    <tr>\n      <th>one</th>\n      <td>Ohio</td>\n      <td>2000</td>\n      <td>1.5</td>\n      <td>16.5</td>\n      <td>1</td>\n    </tr>\n    <tr>\n      <th>two</th>\n      <td>Ohio</td>\n      <td>2001</td>\n      <td>1.7</td>\n      <td>16.5</td>\n      <td>2</td>\n    </tr>\n    <tr>\n      <th>three</th>\n      <td>Ohio</td>\n      <td>2002</td>\n      <td>3.6</td>\n      <td>16.5</td>\n      <td>3</td>\n    </tr>\n    <tr>\n      <th>four</th>\n      <td>Nevada</td>\n      <td>2001</td>\n      <td>2.4</td>\n      <td>16.5</td>\n      <td>4</td>\n    </tr>\n    <tr>\n      <th>five</th>\n      <td>Nevada</td>\n      <td>2002</td>\n      <td>2.9</td>\n      <td>16.5</td>\n      <td>5</td>\n    </tr>\n    <tr>\n      <th>six</th>\n      <td>Nevada</td>\n      <td>2003</td>\n      <td>3.2</td>\n      <td>16.5</td>\n      <td>6</td>\n    </tr>\n  </tbody>\n</table>\n</div>"
     },
     "execution_count": 400,
     "metadata": {},
     "output_type": "execute_result"
    }
   ],
   "source": [
    "df['debt_1'] = [1, 2, 3, 4, 5, 6]  # 增加一列(长度必须相等)\n",
    "df"
   ],
   "metadata": {
    "collapsed": false,
    "pycharm": {
     "name": "#%%\n"
    }
   }
  },
  {
   "cell_type": "code",
   "execution_count": 401,
   "outputs": [
    {
     "data": {
      "text/plain": "        state  year  pop  debt  debt_1  eastern\none      Ohio  2000  1.5  16.5       1     True\ntwo      Ohio  2001  1.7  16.5       2     True\nthree    Ohio  2002  3.6  16.5       3     True\nfour   Nevada  2001  2.4  16.5       4    False\nfive   Nevada  2002  2.9  16.5       5    False\nsix    Nevada  2003  3.2  16.5       6    False",
      "text/html": "<div>\n<style scoped>\n    .dataframe tbody tr th:only-of-type {\n        vertical-align: middle;\n    }\n\n    .dataframe tbody tr th {\n        vertical-align: top;\n    }\n\n    .dataframe thead th {\n        text-align: right;\n    }\n</style>\n<table border=\"1\" class=\"dataframe\">\n  <thead>\n    <tr style=\"text-align: right;\">\n      <th></th>\n      <th>state</th>\n      <th>year</th>\n      <th>pop</th>\n      <th>debt</th>\n      <th>debt_1</th>\n      <th>eastern</th>\n    </tr>\n  </thead>\n  <tbody>\n    <tr>\n      <th>one</th>\n      <td>Ohio</td>\n      <td>2000</td>\n      <td>1.5</td>\n      <td>16.5</td>\n      <td>1</td>\n      <td>True</td>\n    </tr>\n    <tr>\n      <th>two</th>\n      <td>Ohio</td>\n      <td>2001</td>\n      <td>1.7</td>\n      <td>16.5</td>\n      <td>2</td>\n      <td>True</td>\n    </tr>\n    <tr>\n      <th>three</th>\n      <td>Ohio</td>\n      <td>2002</td>\n      <td>3.6</td>\n      <td>16.5</td>\n      <td>3</td>\n      <td>True</td>\n    </tr>\n    <tr>\n      <th>four</th>\n      <td>Nevada</td>\n      <td>2001</td>\n      <td>2.4</td>\n      <td>16.5</td>\n      <td>4</td>\n      <td>False</td>\n    </tr>\n    <tr>\n      <th>five</th>\n      <td>Nevada</td>\n      <td>2002</td>\n      <td>2.9</td>\n      <td>16.5</td>\n      <td>5</td>\n      <td>False</td>\n    </tr>\n    <tr>\n      <th>six</th>\n      <td>Nevada</td>\n      <td>2003</td>\n      <td>3.2</td>\n      <td>16.5</td>\n      <td>6</td>\n      <td>False</td>\n    </tr>\n  </tbody>\n</table>\n</div>"
     },
     "execution_count": 401,
     "metadata": {},
     "output_type": "execute_result"
    }
   ],
   "source": [
    "df['eastern'] = (df.state == 'Ohio')\n",
    "df"
   ],
   "metadata": {
    "collapsed": false,
    "pycharm": {
     "name": "#%%\n"
    }
   }
  },
  {
   "cell_type": "code",
   "execution_count": 402,
   "outputs": [
    {
     "data": {
      "text/plain": "        state  year  pop  debt  debt_1  eastern\none      Ohio  2000  1.5  16.5     0.0     True\ntwo      Ohio  2001  1.7  16.5     1.0     True\nthree    Ohio  2002  3.6  16.5     2.0     True\nfour   Nevada  2001  2.4  16.5     3.0    False\nfive   Nevada  2002  2.9  16.5     4.0    False\nsix    Nevada  2003  3.2  16.5     5.0    False",
      "text/html": "<div>\n<style scoped>\n    .dataframe tbody tr th:only-of-type {\n        vertical-align: middle;\n    }\n\n    .dataframe tbody tr th {\n        vertical-align: top;\n    }\n\n    .dataframe thead th {\n        text-align: right;\n    }\n</style>\n<table border=\"1\" class=\"dataframe\">\n  <thead>\n    <tr style=\"text-align: right;\">\n      <th></th>\n      <th>state</th>\n      <th>year</th>\n      <th>pop</th>\n      <th>debt</th>\n      <th>debt_1</th>\n      <th>eastern</th>\n    </tr>\n  </thead>\n  <tbody>\n    <tr>\n      <th>one</th>\n      <td>Ohio</td>\n      <td>2000</td>\n      <td>1.5</td>\n      <td>16.5</td>\n      <td>0.0</td>\n      <td>True</td>\n    </tr>\n    <tr>\n      <th>two</th>\n      <td>Ohio</td>\n      <td>2001</td>\n      <td>1.7</td>\n      <td>16.5</td>\n      <td>1.0</td>\n      <td>True</td>\n    </tr>\n    <tr>\n      <th>three</th>\n      <td>Ohio</td>\n      <td>2002</td>\n      <td>3.6</td>\n      <td>16.5</td>\n      <td>2.0</td>\n      <td>True</td>\n    </tr>\n    <tr>\n      <th>four</th>\n      <td>Nevada</td>\n      <td>2001</td>\n      <td>2.4</td>\n      <td>16.5</td>\n      <td>3.0</td>\n      <td>False</td>\n    </tr>\n    <tr>\n      <th>five</th>\n      <td>Nevada</td>\n      <td>2002</td>\n      <td>2.9</td>\n      <td>16.5</td>\n      <td>4.0</td>\n      <td>False</td>\n    </tr>\n    <tr>\n      <th>six</th>\n      <td>Nevada</td>\n      <td>2003</td>\n      <td>3.2</td>\n      <td>16.5</td>\n      <td>5.0</td>\n      <td>False</td>\n    </tr>\n  </tbody>\n</table>\n</div>"
     },
     "execution_count": 402,
     "metadata": {},
     "output_type": "execute_result"
    }
   ],
   "source": [
    "df['debt_1'] = np.arange(6.)  # 修改一列(长度必须相等)\n",
    "df"
   ],
   "metadata": {
    "pycharm": {
     "metadata": false,
     "name": "#%%\n"
    }
   }
  },
  {
   "cell_type": "code",
   "execution_count": 403,
   "outputs": [
    {
     "data": {
      "text/plain": "        state  year  pop  debt  debt_1  eastern  debt_2\none      Ohio  2000  1.5  16.5     0.0     True     NaN\ntwo      Ohio  2001  1.7  16.5     1.0     True    -1.2\nthree    Ohio  2002  3.6  16.5     2.0     True     NaN\nfour   Nevada  2001  2.4  16.5     3.0    False    -1.5\nfive   Nevada  2002  2.9  16.5     4.0    False    -1.7\nsix    Nevada  2003  3.2  16.5     5.0    False     NaN",
      "text/html": "<div>\n<style scoped>\n    .dataframe tbody tr th:only-of-type {\n        vertical-align: middle;\n    }\n\n    .dataframe tbody tr th {\n        vertical-align: top;\n    }\n\n    .dataframe thead th {\n        text-align: right;\n    }\n</style>\n<table border=\"1\" class=\"dataframe\">\n  <thead>\n    <tr style=\"text-align: right;\">\n      <th></th>\n      <th>state</th>\n      <th>year</th>\n      <th>pop</th>\n      <th>debt</th>\n      <th>debt_1</th>\n      <th>eastern</th>\n      <th>debt_2</th>\n    </tr>\n  </thead>\n  <tbody>\n    <tr>\n      <th>one</th>\n      <td>Ohio</td>\n      <td>2000</td>\n      <td>1.5</td>\n      <td>16.5</td>\n      <td>0.0</td>\n      <td>True</td>\n      <td>NaN</td>\n    </tr>\n    <tr>\n      <th>two</th>\n      <td>Ohio</td>\n      <td>2001</td>\n      <td>1.7</td>\n      <td>16.5</td>\n      <td>1.0</td>\n      <td>True</td>\n      <td>-1.2</td>\n    </tr>\n    <tr>\n      <th>three</th>\n      <td>Ohio</td>\n      <td>2002</td>\n      <td>3.6</td>\n      <td>16.5</td>\n      <td>2.0</td>\n      <td>True</td>\n      <td>NaN</td>\n    </tr>\n    <tr>\n      <th>four</th>\n      <td>Nevada</td>\n      <td>2001</td>\n      <td>2.4</td>\n      <td>16.5</td>\n      <td>3.0</td>\n      <td>False</td>\n      <td>-1.5</td>\n    </tr>\n    <tr>\n      <th>five</th>\n      <td>Nevada</td>\n      <td>2002</td>\n      <td>2.9</td>\n      <td>16.5</td>\n      <td>4.0</td>\n      <td>False</td>\n      <td>-1.7</td>\n    </tr>\n    <tr>\n      <th>six</th>\n      <td>Nevada</td>\n      <td>2003</td>\n      <td>3.2</td>\n      <td>16.5</td>\n      <td>5.0</td>\n      <td>False</td>\n      <td>NaN</td>\n    </tr>\n  </tbody>\n</table>\n</div>"
     },
     "execution_count": 403,
     "metadata": {},
     "output_type": "execute_result"
    }
   ],
   "source": [
    "val = pd.Series([-1.2, -1.5, -1.7, 3],\n",
    "                index=['two', 'four', 'five', 'severn'])\n",
    "# 增加一列(Series只在Series.index和DataFrame.index交集处赋值,其余位置为NaN)\n",
    "df['debt_2'] = val\n",
    "df"
   ],
   "metadata": {
    "pycharm": {
     "metadata": false,
     "name": "#%%\n"
    }
   }
  },
  {
   "cell_type": "code",
   "execution_count": 404,
   "outputs": [
    {
     "data": {
      "text/plain": "        state  year     pop  debt  debt_1  eastern  debt_2\none      Ohio  2000     1.5  16.5     0.0     True     NaN\ntwo      Ohio  2001     1.7  16.5     1.0     True    -1.2\nthree    Ohio  2019  2019.0  16.5     2.0     True     NaN\nfour   Nevada  2019  2019.0  16.5     3.0    False    -1.5\nfive   Nevada  2002     2.9  16.5     4.0    False    -1.7\nsix    Nevada  2003     3.2  16.5     5.0    False     NaN",
      "text/html": "<div>\n<style scoped>\n    .dataframe tbody tr th:only-of-type {\n        vertical-align: middle;\n    }\n\n    .dataframe tbody tr th {\n        vertical-align: top;\n    }\n\n    .dataframe thead th {\n        text-align: right;\n    }\n</style>\n<table border=\"1\" class=\"dataframe\">\n  <thead>\n    <tr style=\"text-align: right;\">\n      <th></th>\n      <th>state</th>\n      <th>year</th>\n      <th>pop</th>\n      <th>debt</th>\n      <th>debt_1</th>\n      <th>eastern</th>\n      <th>debt_2</th>\n    </tr>\n  </thead>\n  <tbody>\n    <tr>\n      <th>one</th>\n      <td>Ohio</td>\n      <td>2000</td>\n      <td>1.5</td>\n      <td>16.5</td>\n      <td>0.0</td>\n      <td>True</td>\n      <td>NaN</td>\n    </tr>\n    <tr>\n      <th>two</th>\n      <td>Ohio</td>\n      <td>2001</td>\n      <td>1.7</td>\n      <td>16.5</td>\n      <td>1.0</td>\n      <td>True</td>\n      <td>-1.2</td>\n    </tr>\n    <tr>\n      <th>three</th>\n      <td>Ohio</td>\n      <td>2019</td>\n      <td>2019.0</td>\n      <td>16.5</td>\n      <td>2.0</td>\n      <td>True</td>\n      <td>NaN</td>\n    </tr>\n    <tr>\n      <th>four</th>\n      <td>Nevada</td>\n      <td>2019</td>\n      <td>2019.0</td>\n      <td>16.5</td>\n      <td>3.0</td>\n      <td>False</td>\n      <td>-1.5</td>\n    </tr>\n    <tr>\n      <th>five</th>\n      <td>Nevada</td>\n      <td>2002</td>\n      <td>2.9</td>\n      <td>16.5</td>\n      <td>4.0</td>\n      <td>False</td>\n      <td>-1.7</td>\n    </tr>\n    <tr>\n      <th>six</th>\n      <td>Nevada</td>\n      <td>2003</td>\n      <td>3.2</td>\n      <td>16.5</td>\n      <td>5.0</td>\n      <td>False</td>\n      <td>NaN</td>\n    </tr>\n  </tbody>\n</table>\n</div>"
     },
     "execution_count": 404,
     "metadata": {},
     "output_type": "execute_result"
    }
   ],
   "source": [
    "df.iloc[2:4, 1:3] = 2019  # 利用切片同时修改多行或多列\n",
    "df"
   ],
   "metadata": {
    "pycharm": {
     "metadata": false,
     "name": "#%%\n"
    }
   }
  },
  {
   "cell_type": "code",
   "execution_count": 405,
   "outputs": [
    {
     "data": {
      "text/plain": "Index(['state', 'year', 'pop', 'debt', 'debt_1', 'debt_2'], dtype='object')"
     },
     "execution_count": 405,
     "metadata": {},
     "output_type": "execute_result"
    }
   ],
   "source": [
    "del df['eastern']  # 删除某列(del关键字)\n",
    "df.columns"
   ],
   "metadata": {
    "pycharm": {
     "metadata": false,
     "name": "#%%\n"
    }
   }
  },
  {
   "cell_type": "code",
   "execution_count": 406,
   "outputs": [
    {
     "data": {
      "text/plain": "          one  two  three  four\nOhio        0    1      2     3\nColorado    4    5      6     7\nUtah        8    9     10    11\nNew York   12   13     14    15",
      "text/html": "<div>\n<style scoped>\n    .dataframe tbody tr th:only-of-type {\n        vertical-align: middle;\n    }\n\n    .dataframe tbody tr th {\n        vertical-align: top;\n    }\n\n    .dataframe thead th {\n        text-align: right;\n    }\n</style>\n<table border=\"1\" class=\"dataframe\">\n  <thead>\n    <tr style=\"text-align: right;\">\n      <th></th>\n      <th>one</th>\n      <th>two</th>\n      <th>three</th>\n      <th>four</th>\n    </tr>\n  </thead>\n  <tbody>\n    <tr>\n      <th>Ohio</th>\n      <td>0</td>\n      <td>1</td>\n      <td>2</td>\n      <td>3</td>\n    </tr>\n    <tr>\n      <th>Colorado</th>\n      <td>4</td>\n      <td>5</td>\n      <td>6</td>\n      <td>7</td>\n    </tr>\n    <tr>\n      <th>Utah</th>\n      <td>8</td>\n      <td>9</td>\n      <td>10</td>\n      <td>11</td>\n    </tr>\n    <tr>\n      <th>New York</th>\n      <td>12</td>\n      <td>13</td>\n      <td>14</td>\n      <td>15</td>\n    </tr>\n  </tbody>\n</table>\n</div>"
     },
     "execution_count": 406,
     "metadata": {},
     "output_type": "execute_result"
    }
   ],
   "source": [
    "frame = pd.DataFrame(np.arange(16).reshape((4, 4)),\n",
    "                     index=['Ohio', 'Colorado', 'Utah', 'New York'],\n",
    "                     columns=['one', 'two', 'three', 'four'])\n",
    "frame"
   ],
   "metadata": {
    "collapsed": false,
    "pycharm": {
     "name": "#%%\n"
    }
   }
  },
  {
   "cell_type": "code",
   "execution_count": 407,
   "outputs": [
    {
     "data": {
      "text/plain": "Ohio         2\nColorado     6\nUtah        10\nNew York    14\nName: three, dtype: int32"
     },
     "execution_count": 407,
     "metadata": {},
     "output_type": "execute_result"
    }
   ],
   "source": [
    "ser = frame.iloc[:, 2]\n",
    "ser"
   ],
   "metadata": {
    "collapsed": false,
    "pycharm": {
     "name": "#%%\n"
    }
   }
  },
  {
   "cell_type": "code",
   "execution_count": 408,
   "outputs": [
    {
     "data": {
      "text/plain": "Ohio           2\nColorado       6\nUtah       -1000\nNew York      14\nName: three, dtype: int32"
     },
     "execution_count": 408,
     "metadata": {},
     "output_type": "execute_result"
    }
   ],
   "source": [
    "ser[2] = -1000\n",
    "ser"
   ],
   "metadata": {
    "collapsed": false,
    "pycharm": {
     "name": "#%%\n"
    }
   }
  },
  {
   "cell_type": "code",
   "execution_count": 409,
   "outputs": [
    {
     "data": {
      "text/plain": "          one  two  three  four\nOhio        0    1      2     3\nColorado    4    5      6     7\nUtah        8    9  -1000    11\nNew York   12   13     14    15",
      "text/html": "<div>\n<style scoped>\n    .dataframe tbody tr th:only-of-type {\n        vertical-align: middle;\n    }\n\n    .dataframe tbody tr th {\n        vertical-align: top;\n    }\n\n    .dataframe thead th {\n        text-align: right;\n    }\n</style>\n<table border=\"1\" class=\"dataframe\">\n  <thead>\n    <tr style=\"text-align: right;\">\n      <th></th>\n      <th>one</th>\n      <th>two</th>\n      <th>three</th>\n      <th>four</th>\n    </tr>\n  </thead>\n  <tbody>\n    <tr>\n      <th>Ohio</th>\n      <td>0</td>\n      <td>1</td>\n      <td>2</td>\n      <td>3</td>\n    </tr>\n    <tr>\n      <th>Colorado</th>\n      <td>4</td>\n      <td>5</td>\n      <td>6</td>\n      <td>7</td>\n    </tr>\n    <tr>\n      <th>Utah</th>\n      <td>8</td>\n      <td>9</td>\n      <td>-1000</td>\n      <td>11</td>\n    </tr>\n    <tr>\n      <th>New York</th>\n      <td>12</td>\n      <td>13</td>\n      <td>14</td>\n      <td>15</td>\n    </tr>\n  </tbody>\n</table>\n</div>"
     },
     "execution_count": 409,
     "metadata": {},
     "output_type": "execute_result"
    }
   ],
   "source": [
    "frame  # frame对应位置发生了改变\n"
   ],
   "metadata": {
    "collapsed": false,
    "pycharm": {
     "name": "#%%\n"
    }
   }
  }
 ],
 "metadata": {
  "language_info": {
   "codemirror_mode": {
    "name": "ipython",
    "version": 2
   },
   "file_extension": ".py",
   "mimetype": "text/x-python",
   "name": "python",
   "nbconvert_exporter": "python",
   "pygments_lexer": "ipython2",
   "version": "2.7.6"
  },
  "kernelspec": {
   "name": "python3",
   "language": "python",
   "display_name": "Python 3"
  }
 },
 "nbformat": 4,
 "nbformat_minor": 0
}