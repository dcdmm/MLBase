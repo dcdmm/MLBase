{
 "cells": [
  {
   "cell_type": "code",
   "execution_count": 3,
   "metadata": {
    "collapsed": false,
    "pycharm": {
     "name": "#%%\n"
    }
   },
   "outputs": [
    {
     "name": "stdout",
     "output_type": "stream",
     "text": [
      "<enumerate object at 0x0000018D62D52D00>\n",
      "(0, 'd')\n",
      "(1, 'u')\n",
      "(2, 'a')\n",
      "(3, 'n')\n",
      "(4, 'c')\n",
      "(5, 'h')\n",
      "(6, 'a')\n",
      "(7, 'o')\n",
      "(1000, 'd')\n",
      "(1001, 'u')\n",
      "(1002, 'a')\n",
      "(1003, 'n')\n",
      "(1004, 'c')\n",
      "(1005, 'h')\n",
      "(1006, 'a')\n",
      "(1007, 'o')\n"
     ]
    }
   ],
   "source": [
    "\"\"\"\n",
    "enumerate(iterable[, start]) -> iterator for index, value of iterable\n",
    "\n",
    "Return an enumerate object.  iterable must be another object that supports\n",
    "iteration.  The enumerate object yields pairs containing a count (from\n",
    "start, which defaults to zero) and a value yielded by the iterable argument.\n",
    "enumerate is useful for obtaining an indexed list:\n",
    "    (0, seq[0]), (1, seq[1]), (2, seq[2]), ...\n",
    "\"\"\"\n",
    "name = 'duanchao'\n",
    "print(enumerate(name))  # 可迭代对象\n",
    "\n",
    "for each in enumerate(name):  # (i, value)元组的序列,其中values是元素的值,i是元素的索引\n",
    "    print(each)\n",
    "\n",
    "for each in enumerate(name, start=1000):  # 默认start=0\n",
    "    print(each)"
   ]
  },
  {
   "cell_type": "code",
   "execution_count": 4,
   "metadata": {
    "pycharm": {
     "metadata": false,
     "name": "#%%\n"
    }
   },
   "outputs": [
    {
     "data": {
      "text/plain": [
       "[(0, 'Spring'), (1, 'Summer'), (2, 'Fall'), (3, 'Winter')]"
      ]
     },
     "execution_count": 4,
     "metadata": {},
     "output_type": "execute_result"
    }
   ],
   "source": [
    "seasons = ['Spring', 'Summer', 'Fall', 'Winter']\n",
    "list(enumerate(seasons))"
   ]
  },
  {
   "cell_type": "code",
   "execution_count": 4,
   "metadata": {
    "collapsed": false,
    "pycharm": {
     "name": "#%%\n"
    }
   },
   "outputs": [],
   "source": [
    "\n"
   ]
  }
 ],
 "metadata": {
  "kernelspec": {
   "display_name": "Python 3.8.12 ('pytorch_env')",
   "language": "python",
   "name": "python3"
  },
  "language_info": {
   "codemirror_mode": {
    "name": "ipython",
    "version": 2
   },
   "file_extension": ".py",
   "mimetype": "text/x-python",
   "name": "python",
   "nbconvert_exporter": "python",
   "pygments_lexer": "ipython2",
   "version": "3.8.12"
  },
  "vscode": {
   "interpreter": {
    "hash": "0886a02735466d80c36da7d0d184a8055779d3e497a063b4720b0317b8699033"
   }
  }
 },
 "nbformat": 4,
 "nbformat_minor": 0
}
