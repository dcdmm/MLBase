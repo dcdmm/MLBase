{
 "cells": [
  {
   "cell_type": "markdown",
   "metadata": {
    "collapsed": true,
    "pycharm": {
     "is_executing": false,
     "name": "#%% md\n"
    }
   },
   "source": [
    "## 左逆矩阵与右逆矩阵\n",
    "<font color='red' size=4>定义:</font>   \n",
    "&emsp;&emsp;满足 $ LA=I $,但不满足$ AL=I$的矩阵$ L$称为矩阵$ A $ 的左逆矩阵.\n",
    "类似的,满足$ AR=I$ 但不满足 $ RA=I $的矩阵$ R $称为矩阵$ A $的右逆矩阵.    \n",
    "1. 仅当 $ m \\geq n $ 时,矩阵$ A \\in C^{m \\times n} $可能有左逆矩阵\n",
    "2. 仅当 $ m \\leq n $ 时,矩阵$ A \\in C^{m \\times n} $可能有右逆矩阵\n",
    "\n",
    "&emsp;&emsp;对于给定的$ m \\times n $的矩阵$A$,当$ m > n $时,可能存在多个$ n \\times m $矩阵 $L$使得$ LA=I_n $;而\n",
    "当$ m<n $时,则可能有多个$ n \\times m $矩阵$R$满足$AR=I_m$,即一个矩阵的左逆矩阵或右逆矩阵往往并非唯一  \n",
    "\n",
    "&emsp;&emsp;考察$ m > n$并且$ A$ 具有满列秩($ \\mathrm{rank}(A) =n$)的情况.此时,$ n \\times n $矩阵 $ A^H A$\n",
    "是可逆的.容易验证    \n",
    "$$ L = (A^HA)^{-1} A^H $$    \n",
    "满足左逆矩阵的定义$ LA=I$.这种左逆矩阵是唯一确定的,常称为左伪逆矩阵   \n",
    "&emsp;&emsp;再考察$ m < n$并且$ A$ 具有满行秩($ \\mathrm{rank}(A) =m$)的情况.此时,$ m \\times m $矩阵 $ A A^H$\n",
    "是可逆的.定义         \n",
    "$$ R = A^H(AA^H)^{-1}$$    \n",
    "不难验证,它满足右逆矩阵的定义$ AR=I$.这一特殊的右逆矩阵也是唯一确定的,常称为右伪逆矩阵      \n",
    "&emsp;&emsp;左伪逆矩阵与超定方程$ (m > n) $的最小二乘解密切相关,而右伪逆矩阵则与欠定方程$ (m < n) $的最小二乘最小范数解密切联系在一起.  \n",
    "\n",
    "\n",
    "## Moore-Penrose 逆矩阵(广义逆)\n",
    "<font color='red' size=4>定义:</font>        \n",
    "令$ A $ 是任意$ m \\times n $矩阵,称矩阵$ A^+ $是矩阵 $ A $的广义逆矩阵,若$ A^+ $满足下列四个条件   \n",
    "1.  $ A A^+ A = A $\n",
    "2. $ A^+ A A^+ = A+ $\n",
    "3. $ AA^+ $为Hermitian矩阵,即$ AA^+ = (AA^+)^H $\n",
    "4. $ A^+A $为Hermitian矩阵,即$ A^+A = (A^+A)^H $\n",
    "\n",
    "\n",
    "根据满足的Moore-Penrose 四个条件的多少,可以对广义逆矩阵进行分类:\n",
    "* 满足全部四个条件的矩阵$ A^+$ 称为$A$的Moore-Penrose 逆矩阵\n",
    "* 只满足条件1和2的矩阵$ G=A^+$ 称为$A$的自反广义逆矩阵\n",
    "* 满足条件1,2和3的矩阵$ A^+$ 称为$A$的正规化广义逆矩阵\n",
    "* 满足条件1,2和4的矩阵$ A^+$ 称为$A$的弱广义逆矩阵\n",
    "\n",
    "\n",
    "&emsp;&emsp;于逆矩阵$ A_{-1} $,左伪逆矩阵$ (A^H A)^{-1}A^H $和右逆矩阵$ A^H(AA^H)^{-1} $均是唯一\n",
    "确定的一样,Moore-Penrose逆矩阵也是唯一定义的.      \n",
    "&emsp;&emsp;任意一个$ m \\times n $矩阵$A$的Moore-Penrose矩阵都可以由         \n",
    "$$ A^{+} = (A^H A)^{+} A^H  \\quad (\\text{若}m \\geq n, \\text{此时}A^H A\\text{可逆}) $$     \n",
    "或者     \n",
    "$$ A^{+} = A^H(AA^H)^{+}  \\quad (若m \\leq n) $$      \n",
    "确定.可以验证$ A^{+} = (A^H A)^{+} A^H  和 A^{+} = (A^H A)^{+} A^H  $分别满足Moore-Penrose逆矩阵的四个条件     \n",
    "\n",
    "\n",
    "<font color='red' size=4>Moore-Penrose 逆矩阵$ A^+$ 具有的性质:</font>\n",
    "1. Moore-Penrose 逆矩阵$ A^+$ 是唯一的\n",
    "2. 矩阵共轭转置的Moore-Penrose 逆矩阵$ (A^H)^+ = (A^+)^H $\n",
    "3. Moore-Penrose 逆矩阵的广义逆矩阵等于原矩阵,即$(A^+)^+ = A$\n",
    "4. 若$ c \\neq 0 $, 则$(cA)^+ =  \\frac{1}{c} A^+$\n",
    "5. $ D = \\mathrm{diag}(d_{11}, ...,d_{nn}) $为$ n \\times n $对角矩阵,则$ D^+ = diag(d_{11}^+,...,d_{nn}^+) $\n",
    "其中,$ d_{ii}^+ = d_{ii}^{-1} $ (若$ d_{ii} \\neq 0 $),或者$ d_{ii}^+ = 0 $(若 $ d_{ii} =0 $)\n",
    "6. 零矩阵$ O_{m \\times n} $ 的广义逆矩阵为$ n \\times m $ 零矩阵,即有$ O_{m \\times n}^+ = O_{m \\times n}$\n",
    "7. 向量 $ x $的Moore-Penrose 逆矩阵为:$ x^+ = (x^H x)^{-1} x^H $ \n",
    "8. 任意矩阵$ A_{m \\times n}$的Moore-Penrose 逆矩阵都可以由$ A^+ = (A^H A)^+ A^H$ 或$ A^+=A^H(AA^H)^+$ 确定.\n",
    "特别地,满秩矩阵的Moore-Penrose 逆矩阵如下:\n",
    "    1. 若$ A$ 列满秩,则$ A^+= (A^HA)^{-1}A^H$,即列满秩矩阵$A $的Moore-Penrose 逆矩阵退化为$A$的左伪逆矩阵 \n",
    "    2. 若$ A$ 行满秩,则$ A^+= A^H(AA^H)^{-1}$,即行满秩矩阵$A $的Moore-Penrose 逆矩阵退化为$A$的右伪逆矩阵\n",
    "    3. 若$ A $ 为非奇异的正方矩阵,则$A^+= A^{-1}$,即非奇异矩阵$A $的Moore-Penrose 逆矩阵退化为A 的逆矩阵\n",
    "9. 对矩阵$ A_{m \\times n}$,虽然$AA^+ \\neq I_m$,$ A^+A \\neq I_m$,$  A^H(A^H)^+ \\neq I_n $和$ (A^H)^+ A^H \\neq I_n $ 但下列结果为真:  \n",
    "    1. $ A^+AA^H = A^H $ 和 $ A^HA A^+ =A^H $\n",
    "    2. $ AA^+(A^+)^H = (A^+)^H $和 $ (A^H)^+A^+A = (A^+)^H $\n",
    "    3. $ (A^H)^+AA =A $和 $AA^H(A^H)^+ = A $ \n",
    "    4. $ A^H(A^+)^H A^+ = A^+ $和 $ A^+(A^+)^H A^H = A^+$\n",
    "10. 若$ A=BC $ ,并且$ B$ 满列秩,$ c $满行秩, 则  \n",
    "$$ A^+ = B^+ C^+ = C^H(CC^H)^{-1}(B^HB)^{-1}B^H $$\n",
    "11. 若$ A^H=A$,并且$ A^2=A$, 则$ A^+=A$\n",
    "12. $ (AA^H)^+ = (A^+)^HA^+$ 和$ (AA^H)^+(AA^H) = AA^+$\n",
    "13. 若矩阵$ A_i $ 相互正交, 即$ A_i^HA_j = 0, i \\neq j $ , 则$ (A_1 ＋...＋ A_m)^+ = A_1^+ + ... + A_m^+ $\n",
    "14. 关于广义逆矩阵的秩, 有$ \\mathrm{rank}(A^+) = \\mathrm{rank}(A) = \\mathrm{rank}(A^H) = \\mathrm{rank}(A^+A) = \\mathrm{rank}(AA^+) = \\mathrm{rank}(AA^+A) = \\mathrm{rank}(A^+AA^+)$"
   ]
  },
  {
   "cell_type": "code",
   "execution_count": 1,
   "outputs": [
    {
     "data": {
      "text/plain": "array([[-0.01567256,  0.08532037, -0.05542274,  0.12603578, -0.06290906,\n         0.13625757, -0.01109447, -0.24987076,  0.18522738],\n       [-0.28879688, -0.01456873,  0.04822711,  0.11765966, -0.26162585,\n        -0.03369911,  0.09425877,  0.14371487, -0.10254988],\n       [-0.15132361,  0.19182854, -0.05446807, -0.14757004,  0.02192718,\n         0.26111809,  0.27627202,  0.17627683,  0.11445867],\n       [-0.32084584, -0.08142555,  0.09900954,  0.05105117, -0.26048285,\n        -0.30262776,  0.38872816, -0.09261704,  0.14887551],\n       [-0.04325327,  0.23015419,  0.12902675, -0.00928643, -0.11994695,\n        -0.02736215, -0.04037501,  0.08522837, -0.06752086],\n       [-0.00905108, -0.00589837,  0.26336286, -0.08696159,  0.12610294,\n         0.18663049, -0.20460381,  0.08015709, -0.0920818 ]])"
     },
     "metadata": {},
     "output_type": "execute_result",
     "execution_count": 1
    }
   ],
   "source": [
    "import numpy as np\n",
    "\n",
    "a = np.random.randn(9, 6)\n",
    "\n",
    "b = np.linalg.pinv(a)\n",
    "b"
   ],
   "metadata": {
    "collapsed": false,
    "pycharm": {
     "name": "#%%\n",
     "is_executing": false
    }
   }
  },
  {
   "cell_type": "code",
   "execution_count": 6,
   "outputs": [
    {
     "name": "stdout",
     "text": [
      "2\n[[ 0.34615385 -0.13076923 -0.26153846]\n [ 0.36538462 -0.12692308 -0.25384615]\n [-0.28846154  0.14230769  0.28461538]]\n"
     ],
     "output_type": "stream"
    }
   ],
   "source": [
    "c = np.array([[3, 7, 9], [1, 3, 5], [2, 6, 10]])\n",
    "from numpy.linalg import matrix_rank\n",
    "print(matrix_rank(c))\n",
    "d = np.linalg.pinv(c)\n",
    "print(d) # Moore-Penrose 逆矩阵 "
   ],
   "metadata": {
    "collapsed": false,
    "pycharm": {
     "name": "#%%\n",
     "is_executing": false
    }
   }
  },
  {
   "cell_type": "code",
   "execution_count": null,
   "outputs": [],
   "source": [
    "\n"
   ],
   "metadata": {
    "collapsed": false,
    "pycharm": {
     "name": "#%%\n"
    }
   }
  }
 ],
 "metadata": {
  "kernelspec": {
   "display_name": "Python 3",
   "language": "python",
   "name": "python3"
  },
  "language_info": {
   "codemirror_mode": {
    "name": "ipython",
    "version": 2
   },
   "file_extension": ".py",
   "mimetype": "text/x-python",
   "name": "python",
   "nbconvert_exporter": "python",
   "pygments_lexer": "ipython2",
   "version": "2.7.6"
  }
 },
 "nbformat": 4,
 "nbformat_minor": 0
}