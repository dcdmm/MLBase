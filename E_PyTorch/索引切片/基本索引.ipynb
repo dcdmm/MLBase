{
 "cells": [
  {
   "cell_type": "code",
   "source": [
    "import torch"
   ],
   "metadata": {
    "collapsed": false,
    "pycharm": {
     "name": "#%%\n"
    }
   },
   "execution_count": 45,
   "outputs": []
  },
  {
   "cell_type": "markdown",
   "source": [
    "### 参考numpy索引切片"
   ],
   "metadata": {
    "collapsed": false,
    "pycharm": {
     "name": "#%% md\n"
    }
   }
  },
  {
   "cell_type": "code",
   "execution_count": 46,
   "outputs": [
    {
     "data": {
      "text/plain": "tensor([[[-1.4768, -0.6350, -1.3025, -0.2932],\n         [-1.4520,  1.6642,  1.6535,  0.4967],\n         [-0.0514,  1.8107, -0.6424,  0.9632],\n         [-0.8048,  1.3048, -0.4318, -0.6461],\n         [ 1.6761, -0.1257, -0.1079,  0.6039],\n         [ 0.8677,  0.7432,  0.0617,  0.8543],\n         [ 0.6777, -2.5085,  2.5443,  1.8222]],\n\n        [[ 0.6246, -0.7943,  0.1869,  1.7707],\n         [ 1.8650, -1.0464, -3.0572, -0.1820],\n         [ 0.9994, -0.0818, -0.6412, -0.0693],\n         [-0.8873,  0.4963, -0.3783, -1.5144],\n         [-1.8019,  0.2209, -0.0665, -0.9460],\n         [-0.9932, -0.3168, -0.7448, -0.6168],\n         [ 1.0877, -0.8348, -0.2445, -1.0626]],\n\n        [[-0.2841, -0.0668,  0.0650,  1.0861],\n         [ 1.7238,  0.1338, -0.9160,  1.4335],\n         [ 0.1646,  0.3121,  0.3804,  0.4523],\n         [ 0.9429, -0.3309,  2.0832,  0.0271],\n         [ 0.2542,  1.1734,  1.9814, -0.1633],\n         [ 2.1096,  0.3188,  1.0980,  0.4120],\n         [-1.0183, -1.6139,  0.2055, -0.6006]],\n\n        [[-0.8974, -0.7335, -2.4909, -0.0924],\n         [-0.6415, -0.8071,  0.6285, -0.0314],\n         [ 0.8229, -0.2513,  0.6861, -0.2019],\n         [-1.6669,  0.4752, -0.3698, -0.5550],\n         [-0.4534,  0.4400,  0.2313, -0.0793],\n         [-0.7613, -0.6141,  0.6577, -1.5000],\n         [ 0.9108, -0.9223, -0.1266,  1.0275]],\n\n        [[-1.7904, -0.3652, -0.1886,  0.0518],\n         [ 1.0328, -1.4706,  0.9406, -0.3073],\n         [-0.9175,  0.3860, -0.0361,  1.0389],\n         [-0.8546, -1.7850,  0.5537,  0.1157],\n         [ 0.2377,  0.4881,  0.6676,  0.2176],\n         [-1.6435,  1.2605,  1.8255,  0.6331],\n         [ 1.7128, -0.8149, -0.8403,  1.3795]]])"
     },
     "execution_count": 46,
     "metadata": {},
     "output_type": "execute_result"
    }
   ],
   "source": [
    "tor_mul = torch.randn(5, 7, 4)\n",
    "tor_mul"
   ],
   "metadata": {
    "collapsed": false,
    "pycharm": {
     "name": "#%%\n"
    }
   }
  },
  {
   "cell_type": "code",
   "execution_count": 47,
   "outputs": [
    {
     "data": {
      "text/plain": "tensor(1.6642)"
     },
     "execution_count": 47,
     "metadata": {},
     "output_type": "execute_result"
    }
   ],
   "source": [
    "tor_mul[0, 1, 1]  # 索引,返回tensor"
   ],
   "metadata": {
    "collapsed": false,
    "pycharm": {
     "name": "#%%\n"
    }
   }
  },
  {
   "cell_type": "code",
   "execution_count": 48,
   "outputs": [
    {
     "data": {
      "text/plain": "tensor([[-1.4768, -0.6350, -1.3025, -0.2932],\n        [-1.4520,  1.6642,  1.6535,  0.4967],\n        [-0.0514,  1.8107, -0.6424,  0.9632],\n        [-0.8048,  1.3048, -0.4318, -0.6461],\n        [ 1.6761, -0.1257, -0.1079,  0.6039],\n        [ 0.8677,  0.7432,  0.0617,  0.8543],\n        [ 0.6777, -2.5085,  2.5443,  1.8222]])"
     },
     "execution_count": 48,
     "metadata": {},
     "output_type": "execute_result"
    }
   ],
   "source": [
    "tor_mul[0]  # 从第零个维度开始索引切片(DataFrame从列开始进行索引切片)"
   ],
   "metadata": {
    "collapsed": false,
    "pycharm": {
     "name": "#%%\n"
    }
   }
  },
  {
   "cell_type": "code",
   "execution_count": 49,
   "outputs": [
    {
     "data": {
      "text/plain": "tensor(-0.2932)"
     },
     "execution_count": 49,
     "metadata": {},
     "output_type": "execute_result"
    }
   ],
   "source": [
    "tor_mul[0, 0, -1]  # 索引,返回tensor.支持负数索引"
   ],
   "metadata": {
    "collapsed": false,
    "pycharm": {
     "name": "#%%\n"
    }
   }
  },
  {
   "cell_type": "code",
   "execution_count": 50,
   "outputs": [
    {
     "data": {
      "text/plain": "tensor([[[-1.4768, -0.6350, -1.3025, -0.2932],\n         [-1.4520,  1.6642,  1.6535,  0.4967],\n         [-0.0514,  1.8107, -0.6424,  0.9632],\n         [-0.8048,  1.3048, -0.4318, -0.6461],\n         [ 1.6761, -0.1257, -0.1079,  0.6039],\n         [ 0.8677,  0.7432,  0.0617,  0.8543],\n         [ 0.6777, -2.5085,  2.5443,  1.8222]],\n\n        [[ 0.6246, -0.7943,  0.1869,  1.7707],\n         [ 1.8650, -1.0464, -3.0572, -0.1820],\n         [ 0.9994, -0.0818, -0.6412, -0.0693],\n         [-0.8873,  0.4963, -0.3783, -1.5144],\n         [-1.8019,  0.2209, -0.0665, -0.9460],\n         [-0.9932, -0.3168, -0.7448, -0.6168],\n         [ 1.0877, -0.8348, -0.2445, -1.0626]]])"
     },
     "execution_count": 50,
     "metadata": {},
     "output_type": "execute_result"
    }
   ],
   "source": [
    "tor_mul[0:2]  # 切片,返回tensor"
   ],
   "metadata": {
    "collapsed": false,
    "pycharm": {
     "name": "#%%\n"
    }
   }
  },
  {
   "cell_type": "code",
   "execution_count": 51,
   "outputs": [
    {
     "data": {
      "text/plain": "tensor([[-1.4768, -1.4520, -0.0514],\n        [ 0.6246,  1.8650,  0.9994]])"
     },
     "execution_count": 51,
     "metadata": {},
     "output_type": "execute_result"
    }
   ],
   "source": [
    "tor_mul[0:2, 0:3, 0]  # 在多个维度上索引切片"
   ],
   "metadata": {
    "collapsed": false,
    "pycharm": {
     "name": "#%%\n"
    }
   }
  },
  {
   "cell_type": "code",
   "execution_count": 52,
   "outputs": [
    {
     "name": "stdout",
     "output_type": "stream",
     "text": [
      "tensor([0, 1, 2, 3, 4, 5, 6, 7, 8, 9])\n",
      "tensor([0, 2, 4, 6, 8])\n",
      "tensor([1, 3, 5, 7, 9])\n",
      "tensor([2, 5])\n"
     ]
    }
   ],
   "source": [
    "temp = torch.arange(10)\n",
    "print(temp)\n",
    "print(temp[::2])\n",
    "print(temp[1::2])\n",
    "print(temp[2:8:3])"
   ],
   "metadata": {
    "collapsed": false,
    "pycharm": {
     "name": "#%%\n"
    }
   }
  },
  {
   "cell_type": "code",
   "execution_count": 53,
   "outputs": [
    {
     "data": {
      "text/plain": "tensor([[-1.3025, -0.6424, -0.1079],\n        [ 0.1869, -0.6412, -0.0665]])"
     },
     "execution_count": 53,
     "metadata": {},
     "output_type": "execute_result"
    }
   ],
   "source": [
    "tor_mul[0:2, 0:6:2, 2]  # 第一个维度上的切片步长为2(不支持步长为负数),切片范围为0-6"
   ],
   "metadata": {
    "collapsed": false,
    "pycharm": {
     "name": "#%%\n"
    }
   }
  },
  {
   "cell_type": "code",
   "execution_count": 54,
   "outputs": [
    {
     "data": {
      "text/plain": "tensor([[[-1.4768, -0.6350, -1.3025, -0.2932],\n         [-1.4520,  1.6642,  1.6535,  0.4967],\n         [-0.0514,  1.8107, -0.6424,  0.9632],\n         [-0.8048,  1.3048, -0.4318, -0.6461],\n         [ 1.6761, -0.1257, -0.1079,  0.6039],\n         [ 0.8677,  0.7432,  0.0617,  0.8543],\n         [ 0.6777, -2.5085,  2.5443,  1.8222]],\n\n        [[ 0.6246, -0.7943,  0.1869,  1.7707],\n         [ 1.8650, -1.0464, -3.0572, -0.1820],\n         [ 0.9994, -0.0818, -0.6412, -0.0693],\n         [-0.8873,  0.4963, -0.3783, -1.5144],\n         [-1.8019,  0.2209, -0.0665, -0.9460],\n         [-0.9932, -0.3168, -0.7448, -0.6168],\n         [ 1.0877, -0.8348, -0.2445, -1.0626]],\n\n        [[-0.2841, -0.0668,  0.0650,  1.0861],\n         [ 1.7238,  0.1338, -0.9160,  1.4335],\n         [ 0.1646,  0.3121,  0.3804,  0.4523],\n         [ 0.9429, -0.3309,  2.0832,  0.0271],\n         [ 0.2542,  1.1734,  1.9814, -0.1633],\n         [ 2.1096,  0.3188,  1.0980,  0.4120],\n         [-1.0183, -1.6139,  0.2055, -0.6006]],\n\n        [[-0.8974, -0.7335, -2.4909, -0.0924],\n         [-0.6415, -0.8071,  0.6285, -0.0314],\n         [ 0.8229, -0.2513,  0.6861, -0.2019],\n         [-1.6669,  0.4752, -0.3698, -0.5550],\n         [-0.4534,  0.4400,  0.2313, -0.0793],\n         [-0.7613, -0.6141,  0.6577, -1.5000],\n         [ 0.9108, -0.9223, -0.1266,  1.0275]],\n\n        [[-1.7904, -0.3652, -0.1886,  0.0518],\n         [ 1.0328, -1.4706,  0.9406, -0.3073],\n         [-0.9175,  0.3860, -0.0361,  1.0389],\n         [-0.8546, -1.7850,  0.5537,  0.1157],\n         [ 0.2377,  0.4881,  0.6676,  0.2176],\n         [-1.6435,  1.2605,  1.8255,  0.6331],\n         [ 1.7128, -0.8149, -0.8403,  1.3795]]])"
     },
     "execution_count": 54,
     "metadata": {},
     "output_type": "execute_result"
    }
   ],
   "source": [
    "tor_mul[:]  # 等价于tor_mul[:, :, :]"
   ],
   "metadata": {
    "collapsed": false,
    "pycharm": {
     "name": "#%%\n"
    }
   }
  },
  {
   "cell_type": "code",
   "execution_count": 55,
   "outputs": [
    {
     "data": {
      "text/plain": "tensor([[[-1.4768, -0.6350, -1.3025, -0.2932],\n         [-1.4520,  1.6642,  1.6535,  0.4967],\n         [-0.0514,  1.8107, -0.6424,  0.9632],\n         [-0.8048,  1.3048, -0.4318, -0.6461],\n         [ 1.6761, -0.1257, -0.1079,  0.6039],\n         [ 0.8677,  0.7432,  0.0617,  0.8543],\n         [ 0.6777, -2.5085,  2.5443,  1.8222]],\n\n        [[-0.2841, -0.0668,  0.0650,  1.0861],\n         [ 1.7238,  0.1338, -0.9160,  1.4335],\n         [ 0.1646,  0.3121,  0.3804,  0.4523],\n         [ 0.9429, -0.3309,  2.0832,  0.0271],\n         [ 0.2542,  1.1734,  1.9814, -0.1633],\n         [ 2.1096,  0.3188,  1.0980,  0.4120],\n         [-1.0183, -1.6139,  0.2055, -0.6006]],\n\n        [[-1.7904, -0.3652, -0.1886,  0.0518],\n         [ 1.0328, -1.4706,  0.9406, -0.3073],\n         [-0.9175,  0.3860, -0.0361,  1.0389],\n         [-0.8546, -1.7850,  0.5537,  0.1157],\n         [ 0.2377,  0.4881,  0.6676,  0.2176],\n         [-1.6435,  1.2605,  1.8255,  0.6331],\n         [ 1.7128, -0.8149, -0.8403,  1.3795]]])"
     },
     "execution_count": 55,
     "metadata": {},
     "output_type": "execute_result"
    }
   ],
   "source": [
    "tor_mul[::2]  # 第一个维度上切片步长为2,范围为整个维度;等价于tor_mul[::2, :, :]"
   ],
   "metadata": {
    "collapsed": false,
    "pycharm": {
     "name": "#%%\n"
    }
   }
  },
  {
   "cell_type": "code",
   "execution_count": 56,
   "outputs": [
    {
     "data": {
      "text/plain": "torch.Size([12, 7, 8, 10, 9, 15, 14])"
     },
     "execution_count": 56,
     "metadata": {},
     "output_type": "execute_result"
    }
   ],
   "source": [
    "tor_complex = torch.randn(12, 7, 8, 10, 9, 15, 14)\n",
    "tor_complex.shape"
   ],
   "metadata": {
    "collapsed": false,
    "pycharm": {
     "name": "#%%\n"
    }
   }
  },
  {
   "cell_type": "code",
   "execution_count": 57,
   "outputs": [
    {
     "name": "stdout",
     "output_type": "stream",
     "text": [
      "torch.Size([4, 7, 8, 10, 9, 15, 14])\n",
      "torch.Size([4, 7, 8, 10, 9, 15, 14])\n",
      "torch.Size([4, 7, 8, 10, 9, 15, 14])\n"
     ]
    }
   ],
   "source": [
    "print(tor_complex[1:5].shape)\n",
    "print(tor_complex[1:5, :, :, :, :, :].shape)\n",
    "print(tor_complex[1:5, ...].shape)  # ...:剩余维度上所有数据"
   ],
   "metadata": {
    "collapsed": false,
    "pycharm": {
     "name": "#%%\n"
    }
   }
  },
  {
   "cell_type": "code",
   "execution_count": 58,
   "outputs": [
    {
     "name": "stdout",
     "output_type": "stream",
     "text": [
      "torch.Size([12, 7, 8, 10, 9, 15, 2])\n",
      "torch.Size([12, 7, 8, 10, 9, 15, 2])\n"
     ]
    }
   ],
   "source": [
    "print(tor_complex[:, :, :, :, :, :, 2:4].shape)\n",
    "print(tor_complex[..., 2:4].shape)"
   ],
   "metadata": {
    "collapsed": false,
    "pycharm": {
     "name": "#%%\n"
    }
   }
  },
  {
   "cell_type": "code",
   "execution_count": 59,
   "outputs": [
    {
     "name": "stdout",
     "output_type": "stream",
     "text": [
      "torch.Size([5, 7, 8, 10, 9, 15])\n",
      "torch.Size([5, 7, 8, 10, 9, 15])\n"
     ]
    }
   ],
   "source": [
    "print(tor_complex[2:7, :, :, :, :, :, 4].shape)\n",
    "print(tor_complex[2:7, ..., 4].shape)\n"
   ],
   "metadata": {
    "collapsed": false,
    "pycharm": {
     "name": "#%%\n"
    }
   }
  }
 ],
 "metadata": {
  "kernelspec": {
   "display_name": "Python 3",
   "language": "python",
   "name": "python3"
  },
  "language_info": {
   "codemirror_mode": {
    "name": "ipython",
    "version": 2
   },
   "file_extension": ".py",
   "mimetype": "text/x-python",
   "name": "python",
   "nbconvert_exporter": "python",
   "pygments_lexer": "ipython2",
   "version": "2.7.6"
  }
 },
 "nbformat": 4,
 "nbformat_minor": 0
}