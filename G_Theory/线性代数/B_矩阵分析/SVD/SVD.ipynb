{
 "cells": [
  {
   "cell_type": "code",
   "execution_count": 6,
   "metadata": {
    "collapsed": true
   },
   "outputs": [
    {
     "name": "stdout",
     "output_type": "stream",
     "text": [
      "[[ 0.          0.         -0.4472136   0.         -0.89442719]\n",
      " [-1.          0.          0.          0.          0.        ]\n",
      " [ 0.         -1.          0.          0.          0.        ]\n",
      " [ 0.          0.          0.          1.          0.        ]\n",
      " [ 0.          0.         -0.89442719  0.          0.4472136 ]]\n",
      "[4.         3.         2.23606798 0.        ]\n",
      "[[-0. -0. -0. -1.]\n",
      " [-0. -1. -0. -0.]\n",
      " [-1. -0. -0. -0.]\n",
      " [-0. -0. -1. -0.]]\n"
     ]
    }
   ],
   "source": [
    "import numpy as np\n",
    "\n",
    "a = np.array([[1, 0, 0, 0],\n",
    "              [0, 0, 0, 4],\n",
    "              [0, 3, 0, 0],\n",
    "              [0, 0, 0, 0],\n",
    "              [2, 0, 0, 0]]) # a.shape = (5, 4)\n",
    "\n",
    "u, s, v = np.linalg.svd(a)\n",
    "print(u) # u.shape = (5, 5)\n",
    "print(s)\n",
    "print(v) # v.shape=(4, 4)"
   ]
  },
  {
   "cell_type": "code",
   "execution_count": 11,
   "outputs": [
    {
     "data": {
      "text/plain": "array([[4.        , 0.        , 0.        , 0.        ],\n       [0.        , 3.        , 0.        , 0.        ],\n       [0.        , 0.        , 2.23606798, 0.        ],\n       [0.        , 0.        , 0.        , 0.        ],\n       [0.        , 0.        , 0.        , 0.        ]])"
     },
     "execution_count": 11,
     "metadata": {},
     "output_type": "execute_result"
    }
   ],
   "source": [
    "t_u = np.concatenate((np.diag(s), np.zeros((1, 4))), axis=0)\n",
    "t_u # t_u.shape = (5, 4)"
   ],
   "metadata": {
    "collapsed": false,
    "pycharm": {
     "name": "#%%\n"
    }
   }
  },
  {
   "cell_type": "code",
   "execution_count": null,
   "outputs": [],
   "source": [
    "\n"
   ],
   "metadata": {
    "collapsed": false,
    "pycharm": {
     "name": "#%%\n"
    }
   }
  }
 ],
 "metadata": {
  "kernelspec": {
   "display_name": "Python 3",
   "language": "python",
   "name": "python3"
  },
  "language_info": {
   "codemirror_mode": {
    "name": "ipython",
    "version": 2
   },
   "file_extension": ".py",
   "mimetype": "text/x-python",
   "name": "python",
   "nbconvert_exporter": "python",
   "pygments_lexer": "ipython2",
   "version": "2.7.6"
  }
 },
 "nbformat": 4,
 "nbformat_minor": 0
}