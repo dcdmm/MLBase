{
 "cells": [
  {
   "cell_type": "code",
   "execution_count": null,
   "outputs": [],
   "source": [
    "import numpy as np\n",
    "from scipy.stats import binom\n",
    "import matplotlib.pyplot as plt\n",
    "import matplotlib.style as style\n",
    "\n",
    "style.use('classic')\n",
    "fig = plt.figure(figsize=(14, 7), dpi=100)\n",
    "ax  = plt.subplot(111)\n",
    "\n",
    "# draw a single sample\n",
    "np.random.seed(42)\n",
    "print(binom.rvs(p=0.3, n=10), end=\"\\n\\n\")\n",
    "# rvs(n, p, loc=0, size=1, random_state=None)\tRandom variates.\n",
    "\n",
    "# draw 10 samples\n",
    "print(binom.rvs(p=0.3, n=10, size=10), end=\"\\n\\n\")\n",
    "\n"
   ],
   "metadata": {
    "collapsed": false,
    "pycharm": {
     "name": "#%%\n"
    }
   }
  }
 ],
 "metadata": {
  "language_info": {
   "codemirror_mode": {
    "name": "ipython",
    "version": 2
   },
   "file_extension": ".py",
   "mimetype": "text/x-python",
   "name": "python",
   "nbconvert_exporter": "python",
   "pygments_lexer": "ipython2",
   "version": "2.7.6"
  },
  "kernelspec": {
   "name": "python3",
   "language": "python",
   "display_name": "Python 3"
  },
  "pycharm": {
   "stem_cell": {
    "cell_type": "raw",
    "source": [],
    "metadata": {
     "collapsed": false
    }
   }
  }
 },
 "nbformat": 4,
 "nbformat_minor": 0
}