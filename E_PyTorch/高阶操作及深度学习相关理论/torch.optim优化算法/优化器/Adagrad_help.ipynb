{
 "cells": [
  {
   "cell_type": "markdown",
   "metadata": {
    "pycharm": {
     "name": "#%% md\n"
    }
   },
   "source": [
    "**Require**: 学习率$\\epsilon $\n",
    "\n",
    "**Require**: 初始参数$\\boldsymbol{\\theta_0}$\n",
    "\n",
    "**Require**: 小常数$\\delta$,为了数值稳定大约设为$10^{-10}$\n",
    "\n",
    "&emsp;&emsp;初始化梯度累计变量$\\boldsymbol{r_0}=0$\n",
    "\n",
    "&emsp;&emsp;初始时间步$ t \\leftarrow 0$ \n",
    "\n",
    "&emsp;&emsp;**while** 停止准则未满足 **do**\n",
    "\n",
    "&emsp;&emsp;&emsp;&emsp;从训练集中随机选取$m$个样本(小批量)$\\{ \\mathbf{x^{1}},\\mathbf{x^{2}}, \\cdots, \\mathbf{x^{m}} \\}$,其中$\\mathbf{x^{i}}$对应目标为$y^{i}$\n",
    "\n",
    "&emsp;&emsp;&emsp;&emsp;计算梯度:$\\boldsymbol{g_t} \\leftarrow \\frac{1}{m} \\nabla_{\\boldsymbol{\\theta_t}} \\sum_i L\\left(f(\\mathbf{x^{i}};\\boldsymbol{\\theta_t}), y^i \\right)$\n",
    "\n",
    "&emsp;&emsp;&emsp;&emsp;$t \\leftarrow t+1$\n",
    "\n",
    "&emsp;&emsp;&emsp;&emsp;累计梯度平方:$\\boldsymbol{r_t} \\leftarrow \\boldsymbol{r_{t-1}} + \\sum \\boldsymbol{g_t} \\odot \\boldsymbol{g_t}$\n",
    "\n",
    "&emsp;&emsp;&emsp;&emsp;计算更新:$\\Delta \\boldsymbol{\\theta_{t-1}}  \\leftarrow \\frac{\\epsilon}{\\delta+ \\sqrt{\\boldsymbol{r_t}}} \\odot \\boldsymbol{g_t}$\n",
    "\n",
    "&emsp;&emsp;&emsp;&emsp;参数更新:$\\boldsymbol{\\theta_{t}} \\leftarrow \\boldsymbol{\\theta_{t-1}} + \\Delta \\boldsymbol{\\theta_{t-1}} $\n",
    "\n",
    "&emsp;&emsp;**end while**\n",
    "\n",
    "其中$\\odot$表示逐元素相乘\n",
    "\n",
    "&emsp;&emsp;在AdaGrad 算法中,如果某个参数的偏导数累积比较大,其学习率相对较小;相反,如果其偏导数累积较小,其学习率相对较大.但整体是随着迭代次数的增加,学习率逐渐缩小(<font color='red' size=4>学习率调整</font>).AdaGrad 算法的缺点是在经过一定次数的迭代依然没有找到最优点时,由于这时的学习率已经非常小,很难再继续找到最优点．"
   ]
  },
  {
   "cell_type": "code",
   "execution_count": null,
   "metadata": {},
   "outputs": [],
   "source": []
  }
 ],
 "metadata": {
  "kernelspec": {
   "display_name": "Python 3",
   "language": "python",
   "name": "python3"
  },
  "language_info": {
   "codemirror_mode": {
    "name": "ipython",
    "version": 3
   },
   "file_extension": ".py",
   "mimetype": "text/x-python",
   "name": "python",
   "nbconvert_exporter": "python",
   "pygments_lexer": "ipython3",
   "version": "3.7.7"
  },
  "toc": {
   "base_numbering": 1,
   "nav_menu": {},
   "number_sections": true,
   "sideBar": true,
   "skip_h1_title": false,
   "title_cell": "Table of Contents",
   "title_sidebar": "Contents",
   "toc_cell": false,
   "toc_position": {},
   "toc_section_display": true,
   "toc_window_display": false
  }
 },
 "nbformat": 4,
 "nbformat_minor": 1
}