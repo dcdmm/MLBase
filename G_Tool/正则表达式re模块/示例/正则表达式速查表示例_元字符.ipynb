{
 "cells": [
  {
   "cell_type": "code",
   "execution_count": 46,
   "outputs": [],
   "source": [
    "import re"
   ],
   "metadata": {
    "collapsed": false,
    "pycharm": {
     "name": "#%%\n"
    }
   }
  },
  {
   "cell_type": "markdown",
   "source": [
    "### [...]举例"
   ],
   "metadata": {
    "collapsed": false,
    "pycharm": {
     "name": "#%% md\n"
    }
   }
  },
  {
   "cell_type": "code",
   "execution_count": 47,
   "outputs": [
    {
     "name": "stdout",
     "output_type": "stream",
     "text": [
      "a\n"
     ]
    }
   ],
   "source": [
    "sb_1 = re.match('[aeiou]', 'abc')  # 匹配a 、e 、i 、o 或u任意一个字符\n",
    "print(sb_1.group())"
   ],
   "metadata": {
    "collapsed": false,
    "pycharm": {
     "name": "#%%\n"
    }
   }
  },
  {
   "cell_type": "code",
   "execution_count": 48,
   "outputs": [
    {
     "name": "stdout",
     "output_type": "stream",
     "text": [
      "['b', 'c', '7', '7', '9']\n"
     ]
    }
   ],
   "source": [
    "sb_2 = re.findall(r'[^aeiou]', 'abc779')  # 匹配除a 、e 、i 、o 、u之外的任意字符(以^开头)\n",
    "print(sb_2)"
   ],
   "metadata": {
    "collapsed": false,
    "pycharm": {
     "name": "#%%\n"
    }
   }
  },
  {
   "cell_type": "code",
   "execution_count": 49,
   "outputs": [
    {
     "name": "stdout",
     "output_type": "stream",
     "text": [
      "['1-1314']\n"
     ]
    }
   ],
   "source": [
    "sb_3 = re.findall(r\"1-[1-4]*\", '1-1314+')  # \"-\"表示一组字符范围(若不是用在字符集“[...]”里,仅表示普通字符,即减号)\n",
    "print(sb_3)"
   ],
   "metadata": {
    "collapsed": false,
    "pycharm": {
     "name": "#%%\n"
    }
   }
  },
  {
   "cell_type": "markdown",
   "source": [
    "### *举例"
   ],
   "metadata": {
    "collapsed": false,
    "pycharm": {
     "name": "#%% md\n"
    }
   }
  },
  {
   "cell_type": "code",
   "execution_count": 50,
   "outputs": [
    {
     "name": "stdout",
     "output_type": "stream",
     "text": [
      "abc\n"
     ]
    }
   ],
   "source": [
    "ak_1 = re.match('[^^]*', 'abc^abc')  # 匹配除字符^外的任何字符\n",
    "print(ak_1.group())"
   ],
   "metadata": {
    "collapsed": false,
    "pycharm": {
     "name": "#%%\n"
    }
   }
  },
  {
   "cell_type": "code",
   "execution_count": 51,
   "outputs": [
    {
     "name": "stdout",
     "output_type": "stream",
     "text": [
      "wowoooow\n"
     ]
    }
   ],
   "source": [
    "ak_2 = re.match('w.*w', 'wowoooow')\n",
    "print(ak_2.group())"
   ],
   "metadata": {
    "collapsed": false,
    "pycharm": {
     "name": "#%%\n"
    }
   }
  },
  {
   "cell_type": "code",
   "execution_count": 52,
   "outputs": [
    {
     "name": "stdout",
     "output_type": "stream",
     "text": [
      "wow\n"
     ]
    }
   ],
   "source": [
    "ak_3 = re.match('w.*?w', 'wowoooow')  # 取消*号贪婪模式\n",
    "print(ak_3.group())"
   ],
   "metadata": {
    "collapsed": false,
    "pycharm": {
     "name": "#%%\n"
    }
   }
  },
  {
   "cell_type": "markdown",
   "source": [
    "### ?举例"
   ],
   "metadata": {
    "collapsed": false,
    "pycharm": {
     "name": "#%% md\n"
    }
   }
  },
  {
   "cell_type": "code",
   "execution_count": 53,
   "outputs": [
    {
     "name": "stdout",
     "output_type": "stream",
     "text": [
      "goodjob\n"
     ]
    }
   ],
   "source": [
    "qm_1 = re.match('good-?job', 'goodjob')  # 前一个正则(前一个字符)是可选的\n",
    "print(qm_1.group())"
   ],
   "metadata": {
    "collapsed": false,
    "pycharm": {
     "name": "#%%\n"
    }
   }
  },
  {
   "cell_type": "code",
   "execution_count": 54,
   "outputs": [
    {
     "name": "stdout",
     "output_type": "stream",
     "text": [
      "goodjob\n"
     ]
    }
   ],
   "source": [
    "qm_2 = re.match('good-?job', 'goodjob')\n",
    "print(qm_2.group())"
   ],
   "metadata": {
    "collapsed": false,
    "pycharm": {
     "name": "#%%\n"
    }
   }
  },
  {
   "cell_type": "markdown",
   "source": [
    "### |举例"
   ],
   "metadata": {
    "collapsed": false,
    "pycharm": {
     "name": "#%% md\n"
    }
   }
  },
  {
   "cell_type": "code",
   "execution_count": 55,
   "outputs": [
    {
     "name": "stdout",
     "output_type": "stream",
     "text": [
      "['abcdefga']\n",
      "['32456546545']\n",
      "['adfasf', '32456546545']\n",
      "['2356', 'safdsfa']\n"
     ]
    }
   ],
   "source": [
    "print(re.findall('[a-z]+|[2-9]+', 'abcdefga'))\n",
    "\n",
    "print(re.findall('[a-z]+|[2-9]+', '32456546545'))\n",
    "\n",
    "print(re.findall('[a-z]+|[2-9]+', 'adfasf32456546545'))\n",
    "\n",
    "print(re.findall('[a-z]+|[2-9]+', '2356safdsfa'))"
   ],
   "metadata": {
    "collapsed": false,
    "pycharm": {
     "name": "#%%\n"
    }
   }
  },
  {
   "cell_type": "markdown",
   "source": [
    "### 匹配次数限定符举例"
   ],
   "metadata": {
    "collapsed": false,
    "pycharm": {
     "name": "#%% md\n"
    }
   }
  },
  {
   "cell_type": "code",
   "execution_count": 56,
   "outputs": [
    {
     "name": "stdout",
     "output_type": "stream",
     "text": [
      "['A', 'AA', 'AA', 'AAA']\n",
      "['A', 'A', 'A', 'A', 'A', 'A', 'A', 'A']\n"
     ]
    }
   ],
   "source": [
    "limit = \"a aAx aAAy bAAz cAAAk\"\n",
    "# {0,1} 等价于?\n",
    "# {0,} 等价于*\n",
    "# {1,} 等价于+\n",
    "print(re.findall(r\"A{1,3}\", limit))\n",
    "print(re.findall(r\"A{1,3}?\", limit))  # 非贪婪模式"
   ],
   "metadata": {
    "collapsed": false,
    "pycharm": {
     "name": "#%%\n"
    }
   }
  },
  {
   "cell_type": "markdown",
   "source": [
    "### 反斜杠(\\\\)举例"
   ],
   "metadata": {
    "collapsed": false,
    "pycharm": {
     "name": "#%% md\n"
    }
   }
  },
  {
   "cell_type": "code",
   "execution_count": 57,
   "outputs": [
    {
     "data": {
      "text/plain": "'\\\\'"
     },
     "execution_count": 57,
     "metadata": {},
     "output_type": "execute_result"
    }
   ],
   "source": [
    "re.match('\\\\\\\\', '\\\\123').group()  # 匹配反斜杠(使用\\进行转移)"
   ],
   "metadata": {
    "collapsed": false,
    "pycharm": {
     "name": "#%%\n"
    }
   }
  },
  {
   "cell_type": "code",
   "execution_count": 58,
   "outputs": [
    {
     "data": {
      "text/plain": "'\\\\'"
     },
     "execution_count": 58,
     "metadata": {},
     "output_type": "execute_result"
    }
   ],
   "source": [
    "re.match(r'\\\\', '\\\\123').group()  # 匹配反斜杠(使用原始字符串)"
   ],
   "metadata": {
    "collapsed": false,
    "pycharm": {
     "name": "#%%\n"
    }
   }
  },
  {
   "cell_type": "markdown",
   "source": [
    "### 字符边界举例"
   ],
   "metadata": {
    "collapsed": false,
    "pycharm": {
     "name": "#%% md\n"
    }
   }
  },
  {
   "cell_type": "code",
   "execution_count": 59,
   "outputs": [
    {
     "name": "stdout",
     "output_type": "stream",
     "text": [
      "[]\n"
     ]
    }
   ],
   "source": [
    "by_1 = re.findall(r'^aaa', 'xxx aaa bbb')  # \"aaa\"位于字符串的开头的时候,\"^aaa\"才能匹配\n",
    "print(by_1)"
   ],
   "metadata": {
    "collapsed": false,
    "pycharm": {
     "name": "#%%\n"
    }
   }
  },
  {
   "cell_type": "code",
   "execution_count": 60,
   "outputs": [
    {
     "name": "stdout",
     "output_type": "stream",
     "text": [
      "[]\n"
     ]
    }
   ],
   "source": [
    "by_2 = re.findall(r'aaa$', 'xxx aaa bbb')  # \"aaa\" 位于字符串的结尾的时候,\"aaa$\"才能匹配\n",
    "print(by_2)"
   ],
   "metadata": {
    "collapsed": false,
    "pycharm": {
     "name": "#%%\n"
    }
   }
  },
  {
   "cell_type": "code",
   "execution_count": 61,
   "outputs": [
    {
     "name": "stdout",
     "output_type": "stream",
     "text": [
      "['end']\n"
     ]
    }
   ],
   "source": [
    "by_3 = re.findall(r'\\bend\\b', 'weekend,endfor,end')\n",
    "print(by_3)"
   ],
   "metadata": {
    "collapsed": false,
    "pycharm": {
     "name": "#%%\n"
    }
   }
  },
  {
   "cell_type": "code",
   "execution_count": 62,
   "outputs": [
    {
     "name": "stdout",
     "output_type": "stream",
     "text": [
      "['phone']\n"
     ]
    }
   ],
   "source": [
    "by_4 = re.findall(r'^.+?\\b', 'phone no : 12345')\n",
    "print(by_4)"
   ],
   "metadata": {
    "collapsed": false,
    "pycharm": {
     "name": "#%%\n"
    }
   }
  },
  {
   "cell_type": "code",
   "execution_count": 63,
   "outputs": [
    {
     "name": "stdout",
     "output_type": "stream",
     "text": [
      "['234']\n"
     ]
    }
   ],
   "source": [
    "by_5 = re.findall(r'.34\\B', 'phone no : 12345')  # 非单词边界\n",
    "print(by_5)\n"
   ],
   "metadata": {
    "collapsed": false,
    "pycharm": {
     "name": "#%%\n"
    }
   }
  }
 ],
 "metadata": {
  "kernelspec": {
   "display_name": "Python 3",
   "language": "python",
   "name": "python3"
  },
  "language_info": {
   "codemirror_mode": {
    "name": "ipython",
    "version": 2
   },
   "file_extension": ".py",
   "mimetype": "text/x-python",
   "name": "python",
   "nbconvert_exporter": "python",
   "pygments_lexer": "ipython2",
   "version": "2.7.6"
  }
 },
 "nbformat": 4,
 "nbformat_minor": 0
}