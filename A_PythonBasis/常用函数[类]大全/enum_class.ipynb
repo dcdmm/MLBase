{
 "cells": [
  {
   "metadata": {
    "ExecuteTime": {
     "end_time": "2024-08-09T01:52:23.637509Z",
     "start_time": "2024-08-09T01:52:23.621883Z"
    }
   },
   "cell_type": "code",
   "source": [
    "from enum import Enum\n",
    "\n",
    "\n",
    "class Day(Enum):\n",
    "    # 枚举成员值最好是int/str类型\n",
    "    SUNDAY = 2\n",
    "    MONDAY = 1\n",
    "    TUESDAY = 3\n",
    "    WEDNESDAY = 4\n",
    "    THURSDAY = 5\n",
    "    FRIDAY = 6\n",
    "    SATURDAY = 7"
   ],
   "id": "fdaf1407c125f0ad",
   "outputs": [],
   "execution_count": 44
  },
  {
   "metadata": {
    "ExecuteTime": {
     "end_time": "2024-08-09T01:52:23.653134Z",
     "start_time": "2024-08-09T01:52:23.637509Z"
    }
   },
   "cell_type": "code",
   "source": [
    "print(Day.MONDAY)\n",
    "print(Day.MONDAY.name, type(Day.MONDAY.name))  # print->MONDAY <class 'str'>\n",
    "print(Day.MONDAY.value, type(Day.MONDAY.value))  # print->2 <class 'int'>"
   ],
   "id": "7dd6abf3d88249b2",
   "outputs": [
    {
     "name": "stdout",
     "output_type": "stream",
     "text": [
      "Day.MONDAY\n",
      "MONDAY <class 'str'>\n",
      "1 <class 'int'>\n"
     ]
    }
   ],
   "execution_count": 45
  },
  {
   "metadata": {
    "ExecuteTime": {
     "end_time": "2024-08-09T01:52:23.658148Z",
     "start_time": "2024-08-09T01:52:23.653134Z"
    }
   },
   "cell_type": "code",
   "source": [
    "def is_weekend(day):\n",
    "    return day in (Day.SATURDAY, Day.SUNDAY)\n",
    "\n",
    "\n",
    "print(is_weekend(Day.SATURDAY))  # print->True\n",
    "print(is_weekend(Day.WEDNESDAY))  # print->False"
   ],
   "id": "c77db94ba68a3cf4",
   "outputs": [
    {
     "name": "stdout",
     "output_type": "stream",
     "text": [
      "True\n",
      "False\n"
     ]
    }
   ],
   "execution_count": 46
  },
  {
   "metadata": {
    "ExecuteTime": {
     "end_time": "2024-08-09T01:52:23.673775Z",
     "start_time": "2024-08-09T01:52:23.658148Z"
    }
   },
   "cell_type": "code",
   "source": [
    "# 枚举值遍历\n",
    "for i in Day:\n",
    "    print(i, i.name, i.value)"
   ],
   "id": "3b845aa16b02fef4",
   "outputs": [
    {
     "name": "stdout",
     "output_type": "stream",
     "text": [
      "Day.SUNDAY SUNDAY 2\n",
      "Day.MONDAY MONDAY 1\n",
      "Day.TUESDAY TUESDAY 3\n",
      "Day.WEDNESDAY WEDNESDAY 4\n",
      "Day.THURSDAY THURSDAY 5\n",
      "Day.FRIDAY FRIDAY 6\n",
      "Day.SATURDAY SATURDAY 7\n"
     ]
    }
   ],
   "execution_count": 47
  },
  {
   "metadata": {
    "ExecuteTime": {
     "end_time": "2024-08-09T01:52:23.692209Z",
     "start_time": "2024-08-09T01:52:23.673775Z"
    }
   },
   "cell_type": "code",
   "source": [
    "# 枚举类不能修改类属性\n",
    "Day.MONDAY = 2  "
   ],
   "id": "fe146991c113abd",
   "outputs": [
    {
     "ename": "AttributeError",
     "evalue": "Cannot reassign members.",
     "output_type": "error",
     "traceback": [
      "\u001B[1;31m---------------------------------------------------------------------------\u001B[0m",
      "\u001B[1;31mAttributeError\u001B[0m                            Traceback (most recent call last)",
      "Cell \u001B[1;32mIn[48], line 2\u001B[0m\n\u001B[0;32m      1\u001B[0m \u001B[38;5;66;03m# 枚举类不能修改类属性\u001B[39;00m\n\u001B[1;32m----> 2\u001B[0m \u001B[43mDay\u001B[49m\u001B[38;5;241;43m.\u001B[39;49m\u001B[43mMONDAY\u001B[49m \u001B[38;5;241m=\u001B[39m \u001B[38;5;241m2\u001B[39m  \n",
      "File \u001B[1;32m~\\anaconda3\\envs\\ml\\lib\\enum.py:480\u001B[0m, in \u001B[0;36mEnumMeta.__setattr__\u001B[1;34m(cls, name, value)\u001B[0m\n\u001B[0;32m    478\u001B[0m member_map \u001B[38;5;241m=\u001B[39m \u001B[38;5;28mcls\u001B[39m\u001B[38;5;241m.\u001B[39m\u001B[38;5;18m__dict__\u001B[39m\u001B[38;5;241m.\u001B[39mget(\u001B[38;5;124m'\u001B[39m\u001B[38;5;124m_member_map_\u001B[39m\u001B[38;5;124m'\u001B[39m, {})\n\u001B[0;32m    479\u001B[0m \u001B[38;5;28;01mif\u001B[39;00m name \u001B[38;5;129;01min\u001B[39;00m member_map:\n\u001B[1;32m--> 480\u001B[0m     \u001B[38;5;28;01mraise\u001B[39;00m \u001B[38;5;167;01mAttributeError\u001B[39;00m(\u001B[38;5;124m'\u001B[39m\u001B[38;5;124mCannot reassign members.\u001B[39m\u001B[38;5;124m'\u001B[39m)\n\u001B[0;32m    481\u001B[0m \u001B[38;5;28msuper\u001B[39m()\u001B[38;5;241m.\u001B[39m\u001B[38;5;21m__setattr__\u001B[39m(name, value)\n",
      "\u001B[1;31mAttributeError\u001B[0m: Cannot reassign members."
     ]
    }
   ],
   "execution_count": 48
  }
 ],
 "metadata": {
  "kernelspec": {
   "display_name": "Python 3",
   "language": "python",
   "name": "python3"
  },
  "language_info": {
   "codemirror_mode": {
    "name": "ipython",
    "version": 2
   },
   "file_extension": ".py",
   "mimetype": "text/x-python",
   "name": "python",
   "nbconvert_exporter": "python",
   "pygments_lexer": "ipython2",
   "version": "2.7.6"
  }
 },
 "nbformat": 4,
 "nbformat_minor": 5
}
