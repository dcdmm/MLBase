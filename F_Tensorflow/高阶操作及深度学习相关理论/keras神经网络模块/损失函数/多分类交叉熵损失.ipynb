{
 "cells": [
  {
   "cell_type": "code",
   "execution_count": 116,
   "metadata": {
    "collapsed": true
   },
   "outputs": [],
   "source": [
    "import tensorflow as tf"
   ]
  },
  {
   "cell_type": "markdown",
   "source": [
    "### 多分类交叉熵损失函数\n",
    "### 参考nn.CrossEntropyLoss===>对应from_logits=True"
   ],
   "metadata": {
    "collapsed": false,
    "pycharm": {
     "name": "#%% md\n"
    }
   }
  },
  {
   "cell_type": "code",
   "execution_count": 117,
   "outputs": [
    {
     "data": {
      "text/plain": "<tf.Tensor: shape=(4, 3), dtype=float32, numpy=\narray([[ 0.,  1.,  2.],\n       [ 3.,  4.,  5.],\n       [ 6.,  7.,  8.],\n       [ 9., 10., 11.]], dtype=float32)>"
     },
     "execution_count": 117,
     "metadata": {},
     "output_type": "execute_result"
    }
   ],
   "source": [
    "y_pred = tf.reshape(tf.range(12, dtype=tf.float32), (4, 3))\n",
    "y_pred"
   ],
   "metadata": {
    "collapsed": false,
    "pycharm": {
     "name": "#%%\n"
    }
   }
  },
  {
   "cell_type": "code",
   "execution_count": 118,
   "outputs": [
    {
     "data": {
      "text/plain": "<tf.Tensor: shape=(4,), dtype=int32, numpy=array([1, 2, 0, 2])>"
     },
     "execution_count": 118,
     "metadata": {},
     "output_type": "execute_result"
    }
   ],
   "source": [
    "y_true_scc = tf.constant([1, 2, 0, 2])\n",
    "y_true_scc"
   ],
   "metadata": {
    "collapsed": false,
    "pycharm": {
     "name": "#%%\n"
    }
   }
  },
  {
   "cell_type": "code",
   "execution_count": 119,
   "outputs": [
    {
     "name": "stdout",
     "output_type": "stream",
     "text": [
      "sparse_categorical_crossentropy\n",
      "1.1576061\n"
     ]
    }
   ],
   "source": [
    "# reduction参数参考tf.keras.losses.BinaryCrossentropy\n",
    "scc = tf.keras.losses.SparseCategoricalCrossentropy(from_logits=True,  # Recommended Usage: (set from_logits=True)\n",
    "                                                    name='sparse_categorical_crossentropy')\n",
    "print(scc.name)\n",
    "print(scc(y_true=y_true_scc,  # 整数向量形式\n",
    "          y_pred=y_pred).numpy())"
   ],
   "metadata": {
    "collapsed": false,
    "pycharm": {
     "name": "#%%\n"
    }
   }
  },
  {
   "cell_type": "code",
   "execution_count": 120,
   "outputs": [
    {
     "data": {
      "text/plain": "<tf.Tensor: shape=(4, 3), dtype=float32, numpy=\narray([[0., 1., 0.],\n       [0., 0., 1.],\n       [1., 0., 0.],\n       [0., 0., 1.]], dtype=float32)>"
     },
     "execution_count": 120,
     "metadata": {},
     "output_type": "execute_result"
    }
   ],
   "source": [
    "y_true_cc = tf.one_hot(y_true_scc, depth=3)\n",
    "y_true_cc"
   ],
   "metadata": {
    "collapsed": false,
    "pycharm": {
     "name": "#%%\n"
    }
   }
  },
  {
   "cell_type": "code",
   "execution_count": 121,
   "outputs": [
    {
     "name": "stdout",
     "output_type": "stream",
     "text": [
      "categorical_crossentropy\n",
      "1.1576061\n"
     ]
    }
   ],
   "source": [
    "# reduction参数参考tf.keras.losses.BinaryCrossentropy\n",
    "cc = tf.keras.losses.CategoricalCrossentropy(from_logits=True,  # Recommended Usage: (set from_logits=True)\n",
    "                                             name='categorical_crossentropy')\n",
    "print(cc.name)\n",
    "print(cc(y_true=y_true_cc,  # 独热编码形式\n",
    "         y_pred=y_pred).numpy())\n"
   ],
   "metadata": {
    "collapsed": false,
    "pycharm": {
     "name": "#%%\n"
    }
   }
  }
 ],
 "metadata": {
  "kernelspec": {
   "display_name": "Python 3",
   "language": "python",
   "name": "python3"
  },
  "language_info": {
   "codemirror_mode": {
    "name": "ipython",
    "version": 2
   },
   "file_extension": ".py",
   "mimetype": "text/x-python",
   "name": "python",
   "nbconvert_exporter": "python",
   "pygments_lexer": "ipython2",
   "version": "2.7.6"
  }
 },
 "nbformat": 4,
 "nbformat_minor": 0
}