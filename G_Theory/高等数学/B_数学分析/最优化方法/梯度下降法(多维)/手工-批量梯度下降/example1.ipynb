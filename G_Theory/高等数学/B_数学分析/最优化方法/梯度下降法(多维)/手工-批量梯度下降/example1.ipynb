{
 "cells": [
  {
   "cell_type": "code",
   "execution_count": 1,
   "metadata": {
    "pycharm": {
     "name": "#%%\n"
    }
   },
   "outputs": [],
   "source": [
    "%matplotlib qt5\n",
    "import matplotlib.pyplot as plt\n",
    "from matplotlib import cm\n",
    "import numpy as np\n",
    "from mpl_toolkits.mplot3d import Axes3D\n",
    "import matplotlib.animation as animation"
   ]
  },
  {
   "cell_type": "code",
   "execution_count": 2,
   "metadata": {
    "pycharm": {
     "name": "#%%\n"
    }
   },
   "outputs": [],
   "source": [
    "fig1 = plt.figure(figsize=plt.figaspect(1))\n",
    "ax1 = fig1.add_subplot(1, 1, 1, projection='3d')\n",
    "\n",
    "X = np.arange(-4, 4.25, 0.125)\n",
    "Y = np.arange(-4, 4.25, 0.125)\n",
    "X, Y = np.meshgrid(X, Y)\n",
    "R = X**2 + Y**2 # 目标函数(凸函数),只有一个批次\n",
    "surf = ax1.plot_surface(X, Y, R, cmap=cm.coolwarm)\n",
    "plt.tight_layout()\n",
    "plt.show()"
   ]
  },
  {
   "cell_type": "code",
   "execution_count": 3,
   "metadata": {
    "pycharm": {
     "name": "#%%\n"
    }
   },
   "outputs": [
    {
     "name": "stdout",
     "output_type": "stream",
     "text": [
      "2*x\n",
      "2*y\n"
     ]
    }
   ],
   "source": [
    "from sympy import *\n",
    "from sympy.abc import x, y\n",
    "\n",
    "\n",
    "z = x**2 + y**2\n",
    "dz_x = diff(z, x) # 对x求偏导\n",
    "dz_y = diff(z, y) # 对y求偏导\n",
    "print(dz_x)\n",
    "print(dz_y)"
   ]
  },
  {
   "cell_type": "code",
   "execution_count": 4,
   "metadata": {
    "pycharm": {
     "metadata": false,
     "name": "#%%\n"
    }
   },
   "outputs": [],
   "source": [
    "grad = np.empty((2, *X.shape))\n",
    "for i in range(X.shape[0]):\n",
    "    for j in range(X.shape[1]):\n",
    "        grad[0, i, j] = dz_x.subs({x: X[i][j]})\n",
    "        grad[1, i, j] = dz_y.subs({y: Y[i][j]})"
   ]
  },
  {
   "cell_type": "code",
   "execution_count": 5,
   "metadata": {
    "pycharm": {
     "metadata": false,
     "name": "#%%\n"
    }
   },
   "outputs": [
    {
     "data": {
      "text/plain": "array([[[-8.  , -7.75, -7.5 , ...,  7.75,  8.  ,  8.25],\n        [-8.  , -7.75, -7.5 , ...,  7.75,  8.  ,  8.25],\n        [-8.  , -7.75, -7.5 , ...,  7.75,  8.  ,  8.25],\n        ...,\n        [-8.  , -7.75, -7.5 , ...,  7.75,  8.  ,  8.25],\n        [-8.  , -7.75, -7.5 , ...,  7.75,  8.  ,  8.25],\n        [-8.  , -7.75, -7.5 , ...,  7.75,  8.  ,  8.25]],\n\n       [[-8.  , -8.  , -8.  , ..., -8.  , -8.  , -8.  ],\n        [-7.75, -7.75, -7.75, ..., -7.75, -7.75, -7.75],\n        [-7.5 , -7.5 , -7.5 , ..., -7.5 , -7.5 , -7.5 ],\n        ...,\n        [ 7.75,  7.75,  7.75, ...,  7.75,  7.75,  7.75],\n        [ 8.  ,  8.  ,  8.  , ...,  8.  ,  8.  ,  8.  ],\n        [ 8.25,  8.25,  8.25, ...,  8.25,  8.25,  8.25]]])"
     },
     "execution_count": 5,
     "metadata": {},
     "output_type": "execute_result"
    }
   ],
   "source": [
    "grad # 各点处的梯度"
   ]
  },
  {
   "cell_type": "code",
   "execution_count": 6,
   "metadata": {
    "pycharm": {
     "metadata": false,
     "name": "#%%\n"
    }
   },
   "outputs": [
    {
     "data": {
      "text/plain": "array([-6.,  8.])"
     },
     "execution_count": 6,
     "metadata": {},
     "output_type": "execute_result"
    }
   ],
   "source": [
    "def function():\n",
    "    \"\"\"函数func\"\"\"\n",
    "    a, b = symbols('a, b')\n",
    "    return a**2 + b**2 # 凸函数\n",
    "\n",
    "def numerical_gradient(func, point):\n",
    "    \"\"\"求函数func在点point处的梯度\"\"\"\n",
    "    a, b = symbols('a, b')\n",
    "    dz_a = diff(func, a).subs({a: point[0]})\n",
    "    dz_b = diff(func, b).subs({b: point[1]})\n",
    "    return np.array([float(dz_a), float(dz_b)])\n",
    "\n",
    "\n",
    "numerical_gradient(function(), (-3, 4))"
   ]
  },
  {
   "cell_type": "code",
   "execution_count": 7,
   "metadata": {
    "pycharm": {
     "metadata": false,
     "name": "#%%\n"
    }
   },
   "outputs": [
    {
     "name": "stdout",
     "output_type": "stream",
     "text": [
      "[[-4.          4.        ]\n",
      " [-3.92        3.92      ]\n",
      " [-3.8416      3.8416    ]\n",
      " [-3.764768    3.764768  ]\n",
      " [-3.68947264  3.68947264]\n",
      " [-3.61568319  3.61568319]\n",
      " [-3.54336952  3.54336952]\n",
      " [-3.47250213  3.47250213]\n",
      " [-3.40305209  3.40305209]\n",
      " [-3.33499105  3.33499105]\n",
      " [-3.26829123  3.26829123]\n",
      " [-3.2029254   3.2029254 ]\n",
      " [-3.13886689  3.13886689]\n",
      " [-3.07608956  3.07608956]\n",
      " [-3.01456777  3.01456777]\n",
      " [-2.95427641  2.95427641]\n",
      " [-2.89519088  2.89519088]\n",
      " [-2.83728706  2.83728706]\n",
      " [-2.78054132  2.78054132]\n",
      " [-2.7249305   2.7249305 ]\n",
      " [-2.67043189  2.67043189]\n",
      " [-2.61702325  2.61702325]\n",
      " [-2.56468278  2.56468278]\n",
      " [-2.51338913  2.51338913]\n",
      " [-2.46312135  2.46312135]\n",
      " [-2.41385892  2.41385892]\n",
      " [-2.36558174  2.36558174]\n",
      " [-2.31827011  2.31827011]\n",
      " [-2.2719047   2.2719047 ]\n",
      " [-2.22646661  2.22646661]\n",
      " [-2.18193728  2.18193728]\n",
      " [-2.13829853  2.13829853]\n",
      " [-2.09553256  2.09553256]\n",
      " [-2.05362191  2.05362191]\n",
      " [-2.01254947  2.01254947]\n",
      " [-1.97229848  1.97229848]\n",
      " [-1.93285251  1.93285251]\n",
      " [-1.89419546  1.89419546]\n",
      " [-1.85631155  1.85631155]\n",
      " [-1.81918532  1.81918532]\n",
      " [-1.78280162  1.78280162]\n",
      " [-1.74714558  1.74714558]\n",
      " [-1.71220267  1.71220267]\n",
      " [-1.67795862  1.67795862]\n",
      " [-1.64439945  1.64439945]\n",
      " [-1.61151146  1.61151146]\n",
      " [-1.57928123  1.57928123]\n",
      " [-1.5476956   1.5476956 ]\n",
      " [-1.51674169  1.51674169]\n",
      " [-1.48640686  1.48640686]\n",
      " [-1.45667872  1.45667872]\n",
      " [-1.42754515  1.42754515]\n",
      " [-1.39899424  1.39899424]\n",
      " [-1.37101436  1.37101436]\n",
      " [-1.34359407  1.34359407]\n",
      " [-1.31672219  1.31672219]\n",
      " [-1.29038775  1.29038775]\n",
      " [-1.26457999  1.26457999]\n",
      " [-1.23928839  1.23928839]\n",
      " [-1.21450262  1.21450262]\n",
      " [-1.19021257  1.19021257]\n",
      " [-1.16640832  1.16640832]\n",
      " [-1.14308015  1.14308015]\n",
      " [-1.12021855  1.12021855]\n",
      " [-1.09781418  1.09781418]\n",
      " [-1.0758579   1.0758579 ]\n",
      " [-1.05434074  1.05434074]\n",
      " [-1.03325392  1.03325392]\n",
      " [-1.01258884  1.01258884]\n",
      " [-0.99233707  0.99233707]\n",
      " [-0.97249033  0.97249033]\n",
      " [-0.95304052  0.95304052]\n",
      " [-0.93397971  0.93397971]\n",
      " [-0.91530011  0.91530011]\n",
      " [-0.89699411  0.89699411]\n",
      " [-0.87905423  0.87905423]\n",
      " [-0.86147315  0.86147315]\n",
      " [-0.84424368  0.84424368]\n",
      " [-0.82735881  0.82735881]\n",
      " [-0.81081163  0.81081163]\n",
      " [-0.7945954   0.7945954 ]\n",
      " [-0.77870349  0.77870349]\n",
      " [-0.76312942  0.76312942]\n",
      " [-0.74786683  0.74786683]\n",
      " [-0.7329095   0.7329095 ]\n",
      " [-0.71825131  0.71825131]\n",
      " [-0.70388628  0.70388628]\n",
      " [-0.68980856  0.68980856]\n",
      " [-0.67601238  0.67601238]\n",
      " [-0.66249214  0.66249214]\n",
      " [-0.64924229  0.64924229]\n",
      " [-0.63625745  0.63625745]\n",
      " [-0.6235323   0.6235323 ]\n",
      " [-0.61106165  0.61106165]\n",
      " [-0.59884042  0.59884042]\n",
      " [-0.58686361  0.58686361]\n",
      " [-0.57512634  0.57512634]\n",
      " [-0.56362381  0.56362381]\n",
      " [-0.55235134  0.55235134]\n",
      " [-0.54130431  0.54130431]]\n"
     ]
    }
   ],
   "source": [
    "def gradient_descent(f, init_x, lr=0.01, step_num=10000):\n",
    "    x = init_x\n",
    "    x_history = []\n",
    "\n",
    "    for _ in range(step_num):\n",
    "        x_history.append(x.copy())\n",
    "        gradient = numerical_gradient(f, x)\n",
    "        x -= lr * gradient # 迭代值更新过程\n",
    "    \n",
    "    return  np.array(x_history)\n",
    "\n",
    "\n",
    "init_x = np.array([-4.0, 4.0])  # 初始值   \n",
    "\n",
    "lr = 0.01 # 学习率不能过大或过小(没有对学习率进行一维搜索)\n",
    "step_num = 100\n",
    "x_history =  gradient_descent(function(), init_x, lr=lr, step_num=step_num)\n",
    "print(x_history)"
   ]
  },
  {
   "cell_type": "code",
   "execution_count": 8,
   "metadata": {
    "pycharm": {
     "name": "#%%\n"
    }
   },
   "outputs": [],
   "source": [
    "fig2 = plt.figure()\n",
    "ax2 = fig2.add_subplot(1, 1, 1) \n",
    "ax2.quiver(X, Y, -grad[0], -grad[1], color='b')\n",
    "ax2.plot(x_history[:,0], x_history[:,1], color='red', linestyle='--')\n",
    "'''\n",
    "X,Y:箭头位置\n",
    "color:箭头颜色\n",
    "-grad[0], -grad[1]:箭头方向\n",
    "'''\n",
    "plt.xlim([-4, 4])\n",
    "plt.ylim([-4, 4])\n",
    "plt.xlabel('x')\n",
    "plt.ylabel('y')\n",
    "plt.grid()\n",
    "plt.show()"
   ]
  },
  {
   "cell_type": "code",
   "execution_count": 9,
   "metadata": {
    "pycharm": {
     "name": "#%%\n"
    }
   },
   "outputs": [],
   "source": [
    "fig_dynamic = plt.figure()\n",
    "ax_dynamic = fig_dynamic.gca(projection='3d')\n",
    "ax_dynamic.plot_wireframe(X, Y, R, cmap=cm.coolwarm)\n",
    "route_z = x_history[:, 0]**2 + x_history[:, 1]**2\n",
    "ims = []\n",
    "x_data, y_data, z_data = [], [], []\n",
    "\n",
    "for i in range(len(route_z)):\n",
    "    x_data.append(x_history[i, 0])\n",
    "    y_data.append(x_history[i, 1])\n",
    "    z_data.append(route_z[i])\n",
    "    im = ax_dynamic.scatter(x_data, y_data, z_data,\n",
    "                            marker='*', color='red') # 没有set_data_3d方法,故采用ArtistAnimation进行动态图绘制\n",
    "    ims.append([im]) # 必须是[im]\n",
    "\n",
    "line_ani = animation.ArtistAnimation(fig_dynamic, artists=ims, interval=100, \n",
    "                                   blit=False) # 尝试将blit设置为True or False,选择较合适的效果"
   ]
  },
  {
   "cell_type": "code",
   "execution_count": 9,
   "outputs": [],
   "source": [
    "\n"
   ],
   "metadata": {
    "collapsed": false,
    "pycharm": {
     "name": "#%%\n"
    }
   }
  }
 ],
 "metadata": {
  "kernelspec": {
   "display_name": "Python 3",
   "language": "python",
   "name": "python3"
  },
  "language_info": {
   "codemirror_mode": {
    "name": "ipython",
    "version": 3
   },
   "file_extension": ".py",
   "mimetype": "text/x-python",
   "name": "python",
   "nbconvert_exporter": "python",
   "pygments_lexer": "ipython3",
   "version": "3.7.4"
  }
 },
 "nbformat": 4,
 "nbformat_minor": 1
}