{
 "cells": [
  {
   "cell_type": "code",
   "execution_count": 4,
   "metadata": {
    "collapsed": true
   },
   "outputs": [],
   "source": [
    "import numpy as np\n",
    "import optuna\n",
    "import lightgbm as lgb\n",
    "import sklearn.datasets\n",
    "import sklearn.metrics\n",
    "from sklearn.model_selection import train_test_split"
   ]
  },
  {
   "cell_type": "code",
   "execution_count": 5,
   "outputs": [
    {
     "name": "stdout",
     "output_type": "stream",
     "text": [
      "(569, 30)\n"
     ]
    }
   ],
   "source": [
    "# 二分类问题\n",
    "data, target = sklearn.datasets.load_breast_cancer(return_X_y=True)\n",
    "print(data.shape)"
   ],
   "metadata": {
    "collapsed": false,
    "pycharm": {
     "name": "#%%\n"
    }
   }
  },
  {
   "cell_type": "code",
   "execution_count": 6,
   "outputs": [],
   "source": [
    "def objective(trial, data, target):\n",
    "    train_x, valid_x, train_y, valid_y = train_test_split(data, target, test_size=0.25)\n",
    "    dtrain = lgb.Dataset(train_x, label=train_y)\n",
    "    dvalid = lgb.Dataset(valid_x, label=valid_y)\n",
    "\n",
    "    param = {\n",
    "        \"objective\": \"binary\",\n",
    "        \"metric\": \"auc\",\n",
    "        \"verbosity\": -1,\n",
    "        \"boosting_type\": \"gbdt\",\n",
    "        \"lambda_l1\": trial.suggest_float(\"lambda_l1\", 1e-8, 10.0, log=True),\n",
    "        \"lambda_l2\": trial.suggest_float(\"lambda_l2\", 1e-8, 10.0, log=True),\n",
    "        \"num_leaves\": trial.suggest_int(\"num_leaves\", 2, 256),\n",
    "        \"feature_fraction\": trial.suggest_float(\"feature_fraction\", 0.4, 1.0),\n",
    "        \"bagging_fraction\": trial.suggest_float(\"bagging_fraction\", 0.4, 1.0),\n",
    "        \"bagging_freq\": trial.suggest_int(\"bagging_freq\", 1, 7),\n",
    "        \"min_child_samples\": trial.suggest_int(\"min_child_samples\", 5, 100),\n",
    "    }\n",
    "\n",
    "    # Callback for LightGBM to prune unpromising trials.\n",
    "    pruning_callback = optuna.integration.LightGBMPruningCallback(trial,\n",
    "                                                                  # An evaluation metric for pruning\n",
    "                                                                  # 可选值为:lightgbm模型的\"eval_metric\"参数的值\n",
    "                                                                  metric=\"auc\")\n",
    "    # 也可在次进行交叉验证\n",
    "    gbm = lgb.train(\n",
    "        param, dtrain, valid_sets=[dvalid], verbose_eval=False, callbacks=[pruning_callback]\n",
    "    )\n",
    "\n",
    "    preds = gbm.predict(valid_x)\n",
    "    pred_labels = np.rint(preds)\n",
    "    accuracy = sklearn.metrics.accuracy_score(valid_y, pred_labels)\n",
    "    return accuracy"
   ],
   "metadata": {
    "collapsed": false,
    "pycharm": {
     "name": "#%%\n"
    }
   }
  },
  {
   "cell_type": "code",
   "execution_count": 7,
   "outputs": [
    {
     "name": "stderr",
     "output_type": "stream",
     "text": [
      "\u001B[32m[I 2021-09-18 18:16:54,622]\u001B[0m A new study created in memory with name: no-name-91656330-2cd2-494f-b8f4-76d7229bc82e\u001B[0m\n",
      "\u001B[32m[I 2021-09-18 18:16:54,648]\u001B[0m Trial 0 finished with value: 0.951048951048951 and parameters: {'lambda_l1': 0.00042281538890241954, 'lambda_l2': 0.13408528834551092, 'num_leaves': 2, 'feature_fraction': 0.9100359925351242, 'bagging_fraction': 0.6020221115814497, 'bagging_freq': 3, 'min_child_samples': 83}. Best is trial 0 with value: 0.951048951048951.\u001B[0m\n",
      "\u001B[32m[I 2021-09-18 18:16:54,697]\u001B[0m Trial 1 finished with value: 0.965034965034965 and parameters: {'lambda_l1': 7.997944230061634e-07, 'lambda_l2': 8.564839081699405e-05, 'num_leaves': 248, 'feature_fraction': 0.7656811624516968, 'bagging_fraction': 0.6077217497535875, 'bagging_freq': 6, 'min_child_samples': 23}. Best is trial 1 with value: 0.965034965034965.\u001B[0m\n",
      "\u001B[32m[I 2021-09-18 18:16:54,732]\u001B[0m Trial 2 finished with value: 0.9440559440559441 and parameters: {'lambda_l1': 2.116978327079616e-06, 'lambda_l2': 3.346249697698698e-06, 'num_leaves': 26, 'feature_fraction': 0.7311688178492484, 'bagging_fraction': 0.6519037445309692, 'bagging_freq': 5, 'min_child_samples': 36}. Best is trial 1 with value: 0.965034965034965.\u001B[0m\n",
      "\u001B[32m[I 2021-09-18 18:16:54,760]\u001B[0m Trial 3 finished with value: 0.965034965034965 and parameters: {'lambda_l1': 2.7985764442877926e-05, 'lambda_l2': 2.3556901920281304e-07, 'num_leaves': 187, 'feature_fraction': 0.7998806370014471, 'bagging_fraction': 0.595324804997615, 'bagging_freq': 7, 'min_child_samples': 88}. Best is trial 1 with value: 0.965034965034965.\u001B[0m\n",
      "\u001B[32m[I 2021-09-18 18:16:54,796]\u001B[0m Trial 4 finished with value: 0.958041958041958 and parameters: {'lambda_l1': 0.8182170338922151, 'lambda_l2': 0.000680049139380289, 'num_leaves': 129, 'feature_fraction': 0.4516206923879996, 'bagging_fraction': 0.847479599477599, 'bagging_freq': 7, 'min_child_samples': 37}. Best is trial 1 with value: 0.965034965034965.\u001B[0m\n",
      "\u001B[32m[I 2021-09-18 18:16:54,805]\u001B[0m Trial 5 pruned. Trial was pruned at iteration 10.\u001B[0m\n",
      "\u001B[32m[I 2021-09-18 18:16:54,860]\u001B[0m Trial 6 finished with value: 0.958041958041958 and parameters: {'lambda_l1': 6.221048061862577e-08, 'lambda_l2': 0.7007521623051984, 'num_leaves': 72, 'feature_fraction': 0.4993301285942644, 'bagging_fraction': 0.48379557222897, 'bagging_freq': 4, 'min_child_samples': 26}. Best is trial 1 with value: 0.965034965034965.\u001B[0m\n",
      "\u001B[32m[I 2021-09-18 18:16:54,873]\u001B[0m Trial 7 pruned. Trial was pruned at iteration 10.\u001B[0m\n",
      "\u001B[32m[I 2021-09-18 18:16:54,885]\u001B[0m Trial 8 pruned. Trial was pruned at iteration 10.\u001B[0m\n",
      "\u001B[32m[I 2021-09-18 18:16:54,897]\u001B[0m Trial 9 pruned. Trial was pruned at iteration 10.\u001B[0m\n",
      "\u001B[32m[I 2021-09-18 18:16:55,012]\u001B[0m Trial 10 finished with value: 0.965034965034965 and parameters: {'lambda_l1': 1.214500752915833e-08, 'lambda_l2': 7.56444538063455e-05, 'num_leaves': 248, 'feature_fraction': 0.5823609590709393, 'bagging_fraction': 0.9618792991209529, 'bagging_freq': 1, 'min_child_samples': 9}. Best is trial 1 with value: 0.965034965034965.\u001B[0m\n",
      "\u001B[32m[I 2021-09-18 18:16:55,048]\u001B[0m Trial 11 pruned. Trial was pruned at iteration 10.\u001B[0m\n",
      "\u001B[32m[I 2021-09-18 18:16:55,183]\u001B[0m Trial 12 finished with value: 0.986013986013986 and parameters: {'lambda_l1': 1.74935710090403e-06, 'lambda_l2': 2.2824305859429848e-08, 'num_leaves': 196, 'feature_fraction': 0.6427836480969609, 'bagging_fraction': 0.5186115630303876, 'bagging_freq': 6, 'min_child_samples': 5}. Best is trial 12 with value: 0.986013986013986.\u001B[0m\n",
      "\u001B[32m[I 2021-09-18 18:16:55,226]\u001B[0m Trial 13 pruned. Trial was pruned at iteration 10.\u001B[0m\n",
      "\u001B[32m[I 2021-09-18 18:16:55,266]\u001B[0m Trial 14 pruned. Trial was pruned at iteration 10.\u001B[0m\n",
      "\u001B[32m[I 2021-09-18 18:16:55,309]\u001B[0m Trial 15 pruned. Trial was pruned at iteration 31.\u001B[0m\n",
      "\u001B[32m[I 2021-09-18 18:16:55,346]\u001B[0m Trial 16 pruned. Trial was pruned at iteration 10.\u001B[0m\n",
      "\u001B[32m[I 2021-09-18 18:16:55,383]\u001B[0m Trial 17 pruned. Trial was pruned at iteration 10.\u001B[0m\n",
      "\u001B[32m[I 2021-09-18 18:16:55,419]\u001B[0m Trial 18 pruned. Trial was pruned at iteration 20.\u001B[0m\n",
      "\u001B[32m[I 2021-09-18 18:16:55,456]\u001B[0m Trial 19 pruned. Trial was pruned at iteration 10.\u001B[0m\n",
      "\u001B[32m[I 2021-09-18 18:16:55,499]\u001B[0m Trial 20 pruned. Trial was pruned at iteration 10.\u001B[0m\n",
      "\u001B[32m[I 2021-09-18 18:16:55,606]\u001B[0m Trial 21 finished with value: 0.9790209790209791 and parameters: {'lambda_l1': 1.6719835626059234e-08, 'lambda_l2': 3.0903510015807214e-05, 'num_leaves': 235, 'feature_fraction': 0.579797041187625, 'bagging_fraction': 0.992533726944471, 'bagging_freq': 1, 'min_child_samples': 5}. Best is trial 12 with value: 0.986013986013986.\u001B[0m\n",
      "\u001B[32m[I 2021-09-18 18:16:55,637]\u001B[0m Trial 22 pruned. Trial was pruned at iteration 10.\u001B[0m\n",
      "\u001B[32m[I 2021-09-18 18:16:55,674]\u001B[0m Trial 23 pruned. Trial was pruned at iteration 10.\u001B[0m\n",
      "\u001B[32m[I 2021-09-18 18:16:55,778]\u001B[0m Trial 24 finished with value: 0.986013986013986 and parameters: {'lambda_l1': 2.9194751433347877e-08, 'lambda_l2': 2.079570659773817e-05, 'num_leaves': 203, 'feature_fraction': 0.6803778931174157, 'bagging_fraction': 0.6475103040598132, 'bagging_freq': 3, 'min_child_samples': 12}. Best is trial 12 with value: 0.986013986013986.\u001B[0m\n",
      "\u001B[32m[I 2021-09-18 18:16:55,815]\u001B[0m Trial 25 pruned. Trial was pruned at iteration 10.\u001B[0m\n",
      "\u001B[32m[I 2021-09-18 18:16:55,852]\u001B[0m Trial 26 pruned. Trial was pruned at iteration 10.\u001B[0m\n",
      "\u001B[32m[I 2021-09-18 18:16:55,890]\u001B[0m Trial 27 pruned. Trial was pruned at iteration 10.\u001B[0m\n",
      "\u001B[32m[I 2021-09-18 18:16:55,985]\u001B[0m Trial 28 finished with value: 0.972027972027972 and parameters: {'lambda_l1': 3.8872810946986044e-08, 'lambda_l2': 0.0002611159339890457, 'num_leaves': 173, 'feature_fraction': 0.5572645557804905, 'bagging_fraction': 0.5562722558542511, 'bagging_freq': 2, 'min_child_samples': 11}. Best is trial 12 with value: 0.986013986013986.\u001B[0m\n",
      "\u001B[32m[I 2021-09-18 18:16:56,018]\u001B[0m Trial 29 pruned. Trial was pruned at iteration 10.\u001B[0m\n",
      "\u001B[32m[I 2021-09-18 18:16:56,079]\u001B[0m Trial 30 pruned. Trial was pruned at iteration 60.\u001B[0m\n",
      "\u001B[32m[I 2021-09-18 18:16:56,114]\u001B[0m Trial 31 pruned. Trial was pruned at iteration 10.\u001B[0m\n",
      "\u001B[32m[I 2021-09-18 18:16:56,225]\u001B[0m Trial 32 finished with value: 0.9790209790209791 and parameters: {'lambda_l1': 4.941485812488764e-06, 'lambda_l2': 0.00022210490259475484, 'num_leaves': 230, 'feature_fraction': 0.7154541926215289, 'bagging_fraction': 0.5417661437301664, 'bagging_freq': 2, 'min_child_samples': 6}. Best is trial 12 with value: 0.986013986013986.\u001B[0m\n",
      "\u001B[32m[I 2021-09-18 18:16:56,344]\u001B[0m Trial 33 finished with value: 0.993006993006993 and parameters: {'lambda_l1': 5.993215913610334e-06, 'lambda_l2': 4.4362869026817765e-05, 'num_leaves': 235, 'feature_fraction': 0.7072297993919034, 'bagging_fraction': 0.6510799386579774, 'bagging_freq': 1, 'min_child_samples': 5}. Best is trial 33 with value: 0.993006993006993.\u001B[0m\n",
      "\u001B[32m[I 2021-09-18 18:16:56,380]\u001B[0m Trial 34 pruned. Trial was pruned at iteration 10.\u001B[0m\n",
      "\u001B[32m[I 2021-09-18 18:16:56,417]\u001B[0m Trial 35 pruned. Trial was pruned at iteration 10.\u001B[0m\n",
      "\u001B[32m[I 2021-09-18 18:16:56,453]\u001B[0m Trial 36 pruned. Trial was pruned at iteration 10.\u001B[0m\n",
      "\u001B[32m[I 2021-09-18 18:16:56,487]\u001B[0m Trial 37 pruned. Trial was pruned at iteration 10.\u001B[0m\n",
      "\u001B[32m[I 2021-09-18 18:16:56,521]\u001B[0m Trial 38 pruned. Trial was pruned at iteration 10.\u001B[0m\n",
      "\u001B[32m[I 2021-09-18 18:16:56,557]\u001B[0m Trial 39 pruned. Trial was pruned at iteration 10.\u001B[0m\n",
      "\u001B[32m[I 2021-09-18 18:16:56,672]\u001B[0m Trial 40 finished with value: 0.9790209790209791 and parameters: {'lambda_l1': 4.531063972059755e-06, 'lambda_l2': 0.0009412134297025054, 'num_leaves': 213, 'feature_fraction': 0.742298822056038, 'bagging_fraction': 0.6224186857710545, 'bagging_freq': 3, 'min_child_samples': 10}. Best is trial 33 with value: 0.993006993006993.\u001B[0m\n",
      "\u001B[32m[I 2021-09-18 18:16:56,707]\u001B[0m Trial 41 pruned. Trial was pruned at iteration 10.\u001B[0m\n",
      "\u001B[32m[I 2021-09-18 18:16:56,742]\u001B[0m Trial 42 pruned. Trial was pruned at iteration 10.\u001B[0m\n",
      "\u001B[32m[I 2021-09-18 18:16:56,778]\u001B[0m Trial 43 pruned. Trial was pruned at iteration 10.\u001B[0m\n",
      "\u001B[32m[I 2021-09-18 18:16:56,815]\u001B[0m Trial 44 pruned. Trial was pruned at iteration 10.\u001B[0m\n",
      "\u001B[32m[I 2021-09-18 18:16:56,861]\u001B[0m Trial 45 pruned. Trial was pruned at iteration 10.\u001B[0m\n",
      "\u001B[32m[I 2021-09-18 18:16:56,899]\u001B[0m Trial 46 pruned. Trial was pruned at iteration 10.\u001B[0m\n",
      "\u001B[32m[I 2021-09-18 18:16:56,936]\u001B[0m Trial 47 pruned. Trial was pruned at iteration 10.\u001B[0m\n",
      "\u001B[32m[I 2021-09-18 18:16:56,968]\u001B[0m Trial 48 pruned. Trial was pruned at iteration 10.\u001B[0m\n",
      "\u001B[32m[I 2021-09-18 18:16:57,002]\u001B[0m Trial 49 pruned. Trial was pruned at iteration 10.\u001B[0m\n",
      "\u001B[32m[I 2021-09-18 18:16:57,040]\u001B[0m Trial 50 pruned. Trial was pruned at iteration 10.\u001B[0m\n",
      "\u001B[32m[I 2021-09-18 18:16:57,082]\u001B[0m Trial 51 pruned. Trial was pruned at iteration 13.\u001B[0m\n",
      "\u001B[32m[I 2021-09-18 18:16:57,134]\u001B[0m Trial 52 pruned. Trial was pruned at iteration 10.\u001B[0m\n",
      "\u001B[32m[I 2021-09-18 18:16:57,171]\u001B[0m Trial 53 pruned. Trial was pruned at iteration 10.\u001B[0m\n",
      "\u001B[32m[I 2021-09-18 18:16:57,209]\u001B[0m Trial 54 pruned. Trial was pruned at iteration 10.\u001B[0m\n",
      "\u001B[32m[I 2021-09-18 18:16:57,245]\u001B[0m Trial 55 pruned. Trial was pruned at iteration 10.\u001B[0m\n",
      "\u001B[32m[I 2021-09-18 18:16:57,281]\u001B[0m Trial 56 pruned. Trial was pruned at iteration 10.\u001B[0m\n",
      "\u001B[32m[I 2021-09-18 18:16:57,319]\u001B[0m Trial 57 pruned. Trial was pruned at iteration 10.\u001B[0m\n",
      "\u001B[32m[I 2021-09-18 18:16:57,355]\u001B[0m Trial 58 pruned. Trial was pruned at iteration 10.\u001B[0m\n",
      "\u001B[32m[I 2021-09-18 18:16:57,403]\u001B[0m Trial 59 pruned. Trial was pruned at iteration 10.\u001B[0m\n",
      "\u001B[32m[I 2021-09-18 18:16:57,473]\u001B[0m Trial 60 pruned. Trial was pruned at iteration 47.\u001B[0m\n",
      "\u001B[32m[I 2021-09-18 18:16:57,509]\u001B[0m Trial 61 pruned. Trial was pruned at iteration 10.\u001B[0m\n",
      "\u001B[32m[I 2021-09-18 18:16:57,546]\u001B[0m Trial 62 pruned. Trial was pruned at iteration 10.\u001B[0m\n",
      "\u001B[32m[I 2021-09-18 18:16:57,606]\u001B[0m Trial 63 pruned. Trial was pruned at iteration 35.\u001B[0m\n",
      "\u001B[32m[I 2021-09-18 18:16:57,651]\u001B[0m Trial 64 pruned. Trial was pruned at iteration 10.\u001B[0m\n",
      "\u001B[32m[I 2021-09-18 18:16:57,690]\u001B[0m Trial 65 pruned. Trial was pruned at iteration 10.\u001B[0m\n",
      "\u001B[32m[I 2021-09-18 18:16:57,728]\u001B[0m Trial 66 pruned. Trial was pruned at iteration 10.\u001B[0m\n",
      "\u001B[32m[I 2021-09-18 18:16:57,767]\u001B[0m Trial 67 pruned. Trial was pruned at iteration 10.\u001B[0m\n",
      "\u001B[32m[I 2021-09-18 18:16:57,808]\u001B[0m Trial 68 pruned. Trial was pruned at iteration 10.\u001B[0m\n",
      "\u001B[32m[I 2021-09-18 18:16:57,850]\u001B[0m Trial 69 pruned. Trial was pruned at iteration 10.\u001B[0m\n",
      "\u001B[32m[I 2021-09-18 18:16:57,898]\u001B[0m Trial 70 pruned. Trial was pruned at iteration 27.\u001B[0m\n",
      "\u001B[32m[I 2021-09-18 18:16:57,948]\u001B[0m Trial 71 pruned. Trial was pruned at iteration 10.\u001B[0m\n",
      "\u001B[32m[I 2021-09-18 18:16:57,986]\u001B[0m Trial 72 pruned. Trial was pruned at iteration 10.\u001B[0m\n",
      "\u001B[32m[I 2021-09-18 18:16:58,024]\u001B[0m Trial 73 pruned. Trial was pruned at iteration 10.\u001B[0m\n",
      "\u001B[32m[I 2021-09-18 18:16:58,064]\u001B[0m Trial 74 pruned. Trial was pruned at iteration 10.\u001B[0m\n",
      "\u001B[32m[I 2021-09-18 18:16:58,104]\u001B[0m Trial 75 pruned. Trial was pruned at iteration 10.\u001B[0m\n",
      "\u001B[32m[I 2021-09-18 18:16:58,141]\u001B[0m Trial 76 pruned. Trial was pruned at iteration 10.\u001B[0m\n",
      "\u001B[32m[I 2021-09-18 18:16:58,181]\u001B[0m Trial 77 pruned. Trial was pruned at iteration 10.\u001B[0m\n",
      "\u001B[32m[I 2021-09-18 18:16:58,232]\u001B[0m Trial 78 pruned. Trial was pruned at iteration 10.\u001B[0m\n",
      "\u001B[32m[I 2021-09-18 18:16:58,331]\u001B[0m Trial 79 finished with value: 0.965034965034965 and parameters: {'lambda_l1': 4.436722238779576e-08, 'lambda_l2': 5.753623376002032e-05, 'num_leaves': 237, 'feature_fraction': 0.5729697356558308, 'bagging_fraction': 0.9799334159803389, 'bagging_freq': 1, 'min_child_samples': 15}. Best is trial 33 with value: 0.993006993006993.\u001B[0m\n",
      "\u001B[32m[I 2021-09-18 18:16:58,383]\u001B[0m Trial 80 pruned. Trial was pruned at iteration 10.\u001B[0m\n",
      "\u001B[32m[I 2021-09-18 18:16:58,426]\u001B[0m Trial 81 pruned. Trial was pruned at iteration 10.\u001B[0m\n",
      "\u001B[32m[I 2021-09-18 18:16:58,474]\u001B[0m Trial 82 pruned. Trial was pruned at iteration 10.\u001B[0m\n",
      "\u001B[32m[I 2021-09-18 18:16:58,524]\u001B[0m Trial 83 pruned. Trial was pruned at iteration 10.\u001B[0m\n",
      "\u001B[32m[I 2021-09-18 18:16:58,563]\u001B[0m Trial 84 pruned. Trial was pruned at iteration 10.\u001B[0m\n",
      "\u001B[32m[I 2021-09-18 18:16:58,611]\u001B[0m Trial 85 pruned. Trial was pruned at iteration 10.\u001B[0m\n",
      "\u001B[32m[I 2021-09-18 18:16:58,649]\u001B[0m Trial 86 pruned. Trial was pruned at iteration 10.\u001B[0m\n",
      "\u001B[32m[I 2021-09-18 18:16:58,689]\u001B[0m Trial 87 pruned. Trial was pruned at iteration 10.\u001B[0m\n",
      "\u001B[32m[I 2021-09-18 18:16:58,728]\u001B[0m Trial 88 pruned. Trial was pruned at iteration 10.\u001B[0m\n",
      "\u001B[32m[I 2021-09-18 18:16:58,766]\u001B[0m Trial 89 pruned. Trial was pruned at iteration 10.\u001B[0m\n",
      "\u001B[32m[I 2021-09-18 18:16:58,815]\u001B[0m Trial 90 pruned. Trial was pruned at iteration 10.\u001B[0m\n",
      "\u001B[32m[I 2021-09-18 18:16:58,856]\u001B[0m Trial 91 pruned. Trial was pruned at iteration 10.\u001B[0m\n",
      "\u001B[32m[I 2021-09-18 18:16:58,898]\u001B[0m Trial 92 pruned. Trial was pruned at iteration 10.\u001B[0m\n",
      "\u001B[32m[I 2021-09-18 18:16:58,961]\u001B[0m Trial 93 pruned. Trial was pruned at iteration 40.\u001B[0m\n",
      "\u001B[32m[I 2021-09-18 18:16:59,007]\u001B[0m Trial 94 pruned. Trial was pruned at iteration 10.\u001B[0m\n",
      "\u001B[32m[I 2021-09-18 18:16:59,052]\u001B[0m Trial 95 pruned. Trial was pruned at iteration 10.\u001B[0m\n",
      "\u001B[32m[I 2021-09-18 18:16:59,098]\u001B[0m Trial 96 pruned. Trial was pruned at iteration 10.\u001B[0m\n",
      "\u001B[32m[I 2021-09-18 18:16:59,139]\u001B[0m Trial 97 pruned. Trial was pruned at iteration 10.\u001B[0m\n",
      "\u001B[32m[I 2021-09-18 18:16:59,252]\u001B[0m Trial 98 finished with value: 0.986013986013986 and parameters: {'lambda_l1': 1.7803832059760709e-06, 'lambda_l2': 0.0005209085954234416, 'num_leaves': 242, 'feature_fraction': 0.6934341105558866, 'bagging_fraction': 0.6329209151540692, 'bagging_freq': 2, 'min_child_samples': 9}. Best is trial 33 with value: 0.993006993006993.\u001B[0m\n",
      "\u001B[32m[I 2021-09-18 18:16:59,292]\u001B[0m Trial 99 pruned. Trial was pruned at iteration 10.\u001B[0m\n"
     ]
    }
   ],
   "source": [
    "study = optuna.create_study(\n",
    "        # Pruner using the median stopping rule.\n",
    "        # Prune if the trial’s best intermediate result is worse than median of intermediate results of previous trials at the sa\n",
    "        pruner=optuna.pruners.MedianPruner(\n",
    "            # n_startup_trials – Pruning is disabled until the given number of trials finish in the same study.\n",
    "            n_startup_trials=5,  # 默认n_startup_trials=5\n",
    "            # n_warmup_steps – Pruning is disabled until the trial exceeds the given number of step.\n",
    "            n_warmup_steps=10,  # 默认n_warmup_steps=0\n",
    "        ), direction=\"maximize\")\n",
    "func = lambda trial: objective(trial, data, target)\n",
    "study.optimize(func, n_trials=100)"
   ],
   "metadata": {
    "collapsed": false,
    "pycharm": {
     "name": "#%%\n"
    }
   }
  },
  {
   "cell_type": "code",
   "execution_count": 8,
   "outputs": [
    {
     "name": "stdout",
     "output_type": "stream",
     "text": [
      "0.993006993006993\n",
      "{'lambda_l1': 5.993215913610334e-06, 'lambda_l2': 4.4362869026817765e-05, 'num_leaves': 235, 'feature_fraction': 0.7072297993919034, 'bagging_fraction': 0.6510799386579774, 'bagging_freq': 1, 'min_child_samples': 5}\n"
     ]
    }
   ],
   "source": [
    "# 最优结果\n",
    "print(study.best_value)\n",
    "\n",
    "# 最优参数\n",
    "print(study.best_params)\n"
   ],
   "metadata": {
    "collapsed": false,
    "pycharm": {
     "name": "#%%\n"
    }
   }
  }
 ],
 "metadata": {
  "kernelspec": {
   "display_name": "Python 3",
   "language": "python",
   "name": "python3"
  },
  "language_info": {
   "codemirror_mode": {
    "name": "ipython",
    "version": 2
   },
   "file_extension": ".py",
   "mimetype": "text/x-python",
   "name": "python",
   "nbconvert_exporter": "python",
   "pygments_lexer": "ipython2",
   "version": "2.7.6"
  }
 },
 "nbformat": 4,
 "nbformat_minor": 0
}