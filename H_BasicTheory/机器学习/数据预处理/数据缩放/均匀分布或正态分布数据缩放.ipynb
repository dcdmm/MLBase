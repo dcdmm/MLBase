{
 "cells": [
  {
   "cell_type": "code",
   "execution_count": 25,
   "metadata": {
    "pycharm": {
     "name": "#%%\n"
    }
   },
   "outputs": [],
   "source": [
    "import numpy as np\n",
    "from sklearn.preprocessing import QuantileTransformer\n",
    "from sklearn.datasets import load_iris\n",
    "from sklearn.model_selection import train_test_split"
   ]
  },
  {
   "cell_type": "code",
   "execution_count": 26,
   "metadata": {
    "pycharm": {
     "name": "#%%\n"
    }
   },
   "outputs": [],
   "source": [
    "X, y = load_iris(return_X_y=True)\n",
    "X_train, X_test, y_train, y_test = train_test_split(X, y, random_state=0)"
   ]
  },
  {
   "cell_type": "code",
   "execution_count": 27,
   "metadata": {
    "pycharm": {
     "name": "#%%\n"
    }
   },
   "outputs": [
    {
     "name": "stderr",
     "output_type": "stream",
     "text": [
      "C:\\Users\\duanm\\anaconda3\\lib\\site-packages\\sklearn\\preprocessing\\_data.py:2612: UserWarning: n_quantiles (150) is greater than the total number of samples (112). n_quantiles is set to n_samples.\n",
      "  warnings.warn(\"n_quantiles (%s) is greater than the total number \"\n"
     ]
    }
   ],
   "source": [
    "'''\n",
    "n_quantilesint, default=1000 or n_samples\n",
    "    Number of quantiles to be computed.\n",
    "    It corresponds to the number of landmarks used to discretize the cumulative distribution function.\n",
    "    If n_quantiles is larger than the number of samples, n_quantiles is set to the number of samples as a larger number of quantiles does not give a better approximation of the cumulative distribution function estimator.\n",
    "\n",
    "output_distribution{‘uniform’, ‘normal’}, default=’uniform’\n",
    "    Marginal distribution for the transformed data.\n",
    "    The choices are ‘uniform’ (default) or ‘normal’.\n",
    "'''\n",
    "'''\n",
    "The transformation is applied on each feature independently.\n",
    "First an estimate of the cumulative distribution function of a feature is used to map the original values to a uniform distribution.\n",
    "The obtained values are then mapped to the desired output distribution using the associated quantile function.\n",
    "Features values of new/unseen data that fall below or above the fitted range will be mapped to the bounds of the output distribution.\n",
    "Note that this transform is non-linear.\n",
    "It may distort linear correlations between variables measured at the same scale but renders variables measured at different scales more directly comparable.\n",
    "'''\n",
    "# 对每列数据进行均匀分布或正态分布数据缩放\n",
    "quantile_transformer = QuantileTransformer(n_quantiles=150,\n",
    "                                           output_distribution='normal',  # 正态分布\n",
    "                                           random_state=0)\n",
    "\"\"\"\n",
    "X : array-like of shape (n_samples, n_features)\n",
    "            Input samples.\n",
    "\"\"\"\n",
    "X_train_trans = quantile_transformer.fit_transform(X=X_train)\n",
    "X_test_trans = quantile_transformer.transform(X_test)"
   ]
  },
  {
   "cell_type": "code",
   "execution_count": 28,
   "metadata": {
    "pycharm": {
     "name": "#%%\n"
    }
   },
   "outputs": [
    {
     "name": "stdout",
     "output_type": "stream",
     "text": [
      "[4.3   4.4   4.422 4.533 4.6   4.6   4.666 4.7   4.788 4.8   4.81  4.9\n",
      " 4.9   4.9   4.9   4.965 5.    5.    5.    5.    5.02  5.1   5.1   5.1\n",
      " 5.1   5.1   5.1   5.1   5.2   5.219 5.33  5.4   5.4   5.4   5.474 5.5\n",
      " 5.5   5.5   5.518 5.6   5.6   5.6   5.662 5.7   5.7   5.7   5.7   5.7\n",
      " 5.728 5.8   5.8   5.8   5.8   5.8   5.894 5.9   5.916 6.    6.    6.049\n",
      " 6.16  6.2   6.282 6.3   6.3   6.3   6.3   6.3   6.3   6.359 6.4   6.4\n",
      " 6.4   6.5   6.5   6.5   6.536 6.6   6.658 6.7   6.7   6.7   6.7   6.7\n",
      " 6.724 6.8   6.846 6.9   6.9   6.9   6.99  7.101 7.2   7.2   7.268 7.49\n",
      " 7.656 7.7   7.7   7.7  ]\n",
      "[-5.19933758 -2.21112724 -2.14848794 -1.8500146  -1.69492268 -1.69492268\n",
      " -1.56241595 -1.49415491 -1.358675   -1.34020047 -1.32067002 -1.14489597\n",
      " -1.14489597 -1.14489597 -1.14489597 -1.00649494 -0.93197131 -0.93197131\n",
      " -0.93197131 -0.93197131 -0.88765016 -0.71036555 -0.71036555 -0.71036555\n",
      " -0.71036555 -0.71036555 -0.71036555 -0.71036555 -0.57163753 -0.56414244\n",
      " -0.51299362 -0.4682027  -0.4682027  -0.4682027  -0.38627954 -0.35749573\n",
      " -0.35749573 -0.35749573 -0.33832937 -0.25101592 -0.25101592 -0.25101592\n",
      " -0.17965067 -0.13591068 -0.13591068 -0.13591068 -0.13591068 -0.13591068\n",
      " -0.09153213  0.02258416  0.02258416  0.02258416  0.02258416  0.02258416\n",
      "  0.11840701  0.12452337  0.13550253  0.19314317  0.19314317  0.21579929\n",
      "  0.26038696  0.27439149  0.37234535  0.39384742  0.39384742  0.39384742\n",
      "  0.39384742  0.39384742  0.39384742  0.47546938  0.53218973  0.53218973\n",
      "  0.53218973  0.65337661  0.65337661  0.65337661  0.68446643  0.73973722\n",
      "  0.81202136  0.86436505  0.86436505  0.86436505  0.86436505  0.86436505\n",
      "  0.90705665  1.04224674  1.0995958   1.1669186   1.1669186   1.1669186\n",
      "  1.2747236   1.34140377  1.46053118  1.46053118  1.5102473   1.64643049\n",
      "  1.86813678  2.00423358  2.00423358  2.00423358]\n"
     ]
    },
    {
     "data": {
      "text/plain": "<Figure size 432x288 with 1 Axes>",
      "image/png": "[encoded data removed]"
     },
     "metadata": {
      "needs_background": "light"
     },
     "output_type": "display_data"
    },
    {
     "name": "stdout",
     "output_type": "stream",
     "text": [
      "****************************************************************************************************\n",
      "[2.    2.2   2.222 2.3   2.3   2.355 2.4   2.4   2.488 2.5   2.5   2.5\n",
      " 2.5   2.5   2.5   2.565 2.6   2.6   2.698 2.7   2.7   2.7   2.7   2.7\n",
      " 2.764 2.8   2.8   2.8   2.8   2.819 2.9   2.9   2.9   2.9   2.974 3.\n",
      " 3.    3.    3.    3.    3.    3.    3.    3.    3.    3.    3.    3.\n",
      " 3.    3.    3.    3.    3.    3.    3.094 3.1   3.1   3.1   3.1   3.1\n",
      " 3.1   3.1   3.182 3.2   3.2   3.2   3.2   3.2   3.2   3.2   3.2   3.2\n",
      " 3.2   3.3   3.3   3.3   3.3   3.347 3.4   3.4   3.4   3.4   3.4   3.4\n",
      " 3.4   3.435 3.5   3.5   3.5   3.579 3.6   3.7   3.7   3.723 3.8   3.8\n",
      " 3.8   3.867 3.978 4.089]\n",
      "[-5.19933758 -2.21112724 -2.12038501 -1.79866258 -1.79866258 -1.65065516\n",
      " -1.52955819 -1.52955819 -1.25076742 -1.2127505  -1.2127505  -1.2127505\n",
      " -1.2127505  -1.2127505  -1.2127505  -1.06510945 -0.98561042 -0.98561042\n",
      " -0.8195391  -0.81614989 -0.81614989 -0.81614989 -0.81614989 -0.81614989\n",
      " -0.69424265 -0.62566982 -0.62566982 -0.62566982 -0.62566982 -0.59815205\n",
      " -0.48083942 -0.48083942 -0.48083942 -0.48083942 -0.24248571 -0.15873981\n",
      " -0.15873981 -0.15873981 -0.15873981 -0.15873981 -0.15873981 -0.15873981\n",
      " -0.15873981 -0.15873981 -0.15873981 -0.15873981 -0.15873981 -0.15873981\n",
      " -0.15873981 -0.15873981 -0.15873981 -0.15873981 -0.15873981 -0.15873981\n",
      "  0.17203019  0.19314317  0.19314317  0.19314317  0.19314317  0.19314317\n",
      "  0.19314317  0.19314317  0.38796216  0.4307273   0.4307273   0.4307273\n",
      "  0.4307273   0.4307273   0.4307273   0.4307273   0.4307273   0.4307273\n",
      "  0.4307273   0.66741904  0.66741904  0.66741904  0.66741904  0.76774951\n",
      "  0.88088812  0.88088812  0.88088812  0.88088812  0.88088812  0.88088812\n",
      "  0.88088812  0.96577254  1.12341505  1.12341505  1.12341505  1.23233006\n",
      "  1.26128216  1.36845029  1.36845029  1.43303123  1.64923696  1.64923696\n",
      "  1.64923696  1.83493831  2.05909475  2.33568767]\n"
     ]
    },
    {
     "data": {
      "text/plain": "<Figure size 432x288 with 1 Axes>",
      "image/png": "[encoded data removed]"
     },
     "metadata": {
      "needs_background": "light"
     },
     "output_type": "display_data"
    },
    {
     "name": "stdout",
     "output_type": "stream",
     "text": [
      "****************************************************************************************************\n",
      "[1.1   1.2   1.222 1.3   1.3   1.3   1.3   1.377 1.4   1.4   1.4   1.4\n",
      " 1.4   1.4   1.4   1.465 1.5   1.5   1.5   1.5   1.5   1.5   1.5   1.5\n",
      " 1.5   1.575 1.6   1.6   1.6   1.6   1.63  1.7   1.7   2.519 3.222 3.47\n",
      " 3.5   3.607 3.718 3.829 3.9   3.951 4.    4.    4.084 4.1   4.106 4.2\n",
      " 4.2   4.2   4.25  4.361 4.4   4.4   4.494 4.5   4.5   4.527 4.6   4.649\n",
      " 4.7   4.771 4.8   4.893 4.9   4.915 5.    5.    5.    5.059 5.1   5.1\n",
      " 5.1   5.1   5.114 5.2   5.236 5.3   5.358 5.4   5.48  5.5   5.6   5.6\n",
      " 5.6   5.635 5.7   5.7   5.768 5.8   5.8   5.9   5.912 6.023 6.1   6.1\n",
      " 6.268 6.534 6.678 6.7  ]\n",
      "[-5.19933758 -2.21112724 -2.09756224 -1.69492268 -1.69492268 -1.69492268\n",
      " -1.69492268 -1.34205444 -1.23665224 -1.23665224 -1.23665224 -1.23665224\n",
      " -1.23665224 -1.23665224 -1.23665224 -0.98407681 -0.84807465 -0.84807465\n",
      " -0.84807465 -0.84807465 -0.84807465 -0.84807465 -0.84807465 -0.84807465\n",
      " -0.84807465 -0.65075657 -0.58498388 -0.58498388 -0.58498388 -0.58498388\n",
      " -0.55374054 -0.48083942 -0.48083942 -0.44926878 -0.41248743 -0.38533528\n",
      " -0.38167465 -0.33185934 -0.30549316 -0.27595042 -0.25101592 -0.22150082\n",
      " -0.19314317 -0.19314317 -0.13550253 -0.12452337 -0.11976275 -0.04517984\n",
      " -0.04517984 -0.04517984 -0.01694424  0.03885985  0.05648561  0.05648561\n",
      "  0.13114518  0.13591068  0.13591068  0.15447297  0.20465992  0.22737436\n",
      "  0.25101592  0.28431638  0.29791798  0.35332529  0.35749573  0.37034379\n",
      "  0.44314942  0.44314942  0.44314942  0.5189574   0.57163753  0.57163753\n",
      "  0.57163753  0.57163753  0.58703148  0.68159434  0.70252578  0.73973722\n",
      "  0.77497737  0.8004961   0.85159126  0.86436505  0.96742157  0.96742157\n",
      "  0.96742157  1.01467815  1.10244037  1.10244037  1.19370444  1.23665224\n",
      "  1.23665224  1.36845029  1.3795      1.48501662  1.56698962  1.56698962\n",
      "  1.69672648  1.88424876  2.14848794  2.21112724]\n"
     ]
    },
    {
     "data": {
      "text/plain": "<Figure size 432x288 with 1 Axes>",
      "image/png": "[encoded data removed]"
     },
     "metadata": {
      "needs_background": "light"
     },
     "output_type": "display_data"
    },
    {
     "name": "stdout",
     "output_type": "stream",
     "text": [
      "****************************************************************************************************\n",
      "[0.1   0.1   0.1   0.133 0.2   0.2   0.2   0.2   0.2   0.2   0.2   0.2\n",
      " 0.2   0.2   0.2   0.2   0.2   0.2   0.2   0.2   0.2   0.2   0.2   0.2\n",
      " 0.264 0.3   0.3   0.3   0.4   0.4   0.4   0.441 0.552 0.852 1.    1.\n",
      " 1.    1.007 1.1   1.1   1.14  1.2   1.2   1.273 1.3   1.3   1.3   1.3\n",
      " 1.3   1.3   1.3   1.3   1.3   1.383 1.4   1.4   1.416 1.5   1.5   1.5\n",
      " 1.5   1.5   1.582 1.6   1.604 1.7   1.726 1.8   1.8   1.8   1.8   1.8\n",
      " 1.8   1.803 1.9   1.9   1.9   1.9   1.958 2.    2.    2.    2.002 2.1\n",
      " 2.1   2.1   2.1   2.1   2.168 2.2   2.29  2.3   2.3   2.3   2.3   2.3\n",
      " 2.3   2.367 2.4   2.489]\n",
      "[-5.19933758 -5.19933758 -5.19933758 -3.8473615  -1.10244037 -1.10244037\n",
      " -1.10244037 -1.10244037 -1.10244037 -1.10244037 -1.10244037 -1.10244037\n",
      " -1.10244037 -1.10244037 -1.10244037 -1.10244037 -1.10244037 -1.10244037\n",
      " -1.10244037 -1.10244037 -1.10244037 -1.10244037 -1.10244037 -1.10244037\n",
      " -0.81503956 -0.65337661 -0.65337661 -0.65337661 -0.53218973 -0.53218973\n",
      " -0.53218973 -0.5111361  -0.46773589 -0.40140857 -0.36955819 -0.36955819\n",
      " -0.36955819 -0.36371856 -0.28613494 -0.28613494 -0.25816251 -0.21620388\n",
      " -0.21620388 -0.09960955 -0.05648561 -0.05648561 -0.05648561 -0.05648561\n",
      " -0.05648561 -0.05648561 -0.05648561 -0.05648561 -0.05648561  0.08431375\n",
      "  0.11315218  0.11315218  0.1314921   0.22777673  0.22777673  0.22777673\n",
      "  0.22777673  0.22777673  0.31448953  0.33352405  0.33593698  0.39384742\n",
      "  0.42981642  0.53218973  0.53218973  0.53218973  0.53218973  0.53218973\n",
      "  0.53218973  0.53710128  0.69590794  0.69590794  0.69590794  0.69590794\n",
      "  0.78416463  0.84807465  0.84807465  0.84807465  0.8519581   1.04224674\n",
      "  1.04224674  1.04224674  1.04224674  1.04224674  1.1581893   1.2127505\n",
      "  1.46601447  1.49415491  1.49415491  1.49415491  1.49415491  1.49415491\n",
      "  1.49415491  1.83590762  2.00423358  4.84787614]\n"
     ]
    },
    {
     "data": {
      "text/plain": "<Figure size 432x288 with 1 Axes>",
      "image/png": "[encoded data removed]"
     },
     "metadata": {
      "needs_background": "light"
     },
     "output_type": "display_data"
    },
    {
     "name": "stdout",
     "output_type": "stream",
     "text": [
      "****************************************************************************************************\n"
     ]
    }
   ],
   "source": [
    "import matplotlib.pyplot as plt\n",
    "\n",
    "for i in range(4):\n",
    "    print(np.percentile(X_train[:, i], range(0, 100, 1)))\n",
    "    print(np.percentile(X_train_trans[:, i], range(0, 100, 1)))\n",
    "    plt.hist(np.percentile(X_train_trans[:, i], range(0, 100, 2)), bins=20)  # 趋向正态分布\n",
    "    plt.show()\n",
    "    print(\"*\" * 100)"
   ]
  },
  {
   "cell_type": "code",
   "execution_count": 28,
   "outputs": [],
   "source": [],
   "metadata": {
    "collapsed": false,
    "pycharm": {
     "name": "#%%\n"
    }
   }
  }
 ],
 "metadata": {
  "kernelspec": {
   "display_name": "Python 3 (ipykernel)",
   "language": "python",
   "name": "python3"
  },
  "language_info": {
   "codemirror_mode": {
    "name": "ipython",
    "version": 3
   },
   "file_extension": ".py",
   "mimetype": "text/x-python",
   "name": "python",
   "nbconvert_exporter": "python",
   "pygments_lexer": "ipython3",
   "version": "3.8.11"
  }
 },
 "nbformat": 4,
 "nbformat_minor": 1
}