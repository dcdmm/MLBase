{
 "cells": [
  {
   "cell_type": "code",
   "execution_count": 1,
   "outputs": [
    {
     "name": "stdout",
     "text": [
      "检查统计量为: 2.095059428100749\nP值为: 0.3508032640105389\n"
     ],
     "output_type": "stream"
    }
   ],
   "source": [
    "import  numpy as np\n",
    "import  scipy.stats as stats\n",
    "\n",
    "\n",
    "inFile = 'altman_910.txt'\n",
    "data = np.genfromtxt(inFile, delimiter=',')\n",
    "    \n",
    "group1 = data[data[:,1]==1,0]\n",
    "group2 = data[data[:,1]==2,0]\n",
    "group3 = data[data[:,1]==3,0]\n",
    "\n",
    "(W, p) = stats.bartlett(group1, group2, group3)\n",
    "'''\n",
    "    Perform Bartlett's test for equal variances\n",
    "\n",
    "    Bartlett's test tests the null hypothesis that all input samples\n",
    "    are from populations with equal variances.  For samples\n",
    "    from significantly non-normal populations, Levene's test\n",
    "    `levene` is more robust.\n",
    "\n",
    "    Parameters\n",
    "    ----------\n",
    "    sample1, sample2,... : array_like\n",
    "        arrays of sample data.  Only 1d arrays are accepted, they may have\n",
    "        different lengths.\n",
    "\n",
    "    Returns\n",
    "    -------\n",
    "    statistic : float\n",
    "        The test statistic.\n",
    "    pvalue : float\n",
    "        The p-value of the test.\n",
    "'''\n",
    "print('检查统计量为:', W)\n",
    "print('P值为:', p)"
   ],
   "metadata": {
    "collapsed": false,
    "pycharm": {
     "name": "#%%\n",
     "is_executing": false
    }
   }
  },
  {
   "cell_type": "code",
   "execution_count": null,
   "outputs": [],
   "source": [
    "\n"
   ],
   "metadata": {
    "collapsed": false,
    "pycharm": {
     "name": "#%%\n"
    }
   }
  }
 ],
 "metadata": {
  "language_info": {
   "codemirror_mode": {
    "name": "ipython",
    "version": 2
   },
   "file_extension": ".py",
   "mimetype": "text/x-python",
   "name": "python",
   "nbconvert_exporter": "python",
   "pygments_lexer": "ipython2",
   "version": "2.7.6"
  },
  "kernelspec": {
   "name": "python3",
   "language": "python",
   "display_name": "Python 3"
  },
  "pycharm": {
   "stem_cell": {
    "cell_type": "raw",
    "source": [],
    "metadata": {
     "collapsed": false
    }
   }
  }
 },
 "nbformat": 4,
 "nbformat_minor": 0
}