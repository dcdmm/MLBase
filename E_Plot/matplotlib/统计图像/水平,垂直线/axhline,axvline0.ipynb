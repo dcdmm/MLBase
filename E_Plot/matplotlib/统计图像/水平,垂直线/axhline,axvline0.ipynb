{
 "cells": [
  {
   "cell_type": "markdown",
   "metadata": {
    "collapsed": true,
    "pycharm": {
     "name": "#%% md\n"
    }
   },
   "source": [
    "1. Axes.axhline\n",
    "2. Axes.axvline"
   ]
  },
  {
   "cell_type": "code",
   "execution_count": 9,
   "outputs": [
    {
     "data": {
      "text/plain": "<Figure size 432x288 with 4 Axes>",
      "image/png": "[encoded data removed]"
     },
     "metadata": {
      "needs_background": "light"
     },
     "output_type": "display_data"
    }
   ],
   "source": [
    "import numpy as np\n",
    "import matplotlib.pyplot as plt\n",
    "\n",
    "colors = plt.cm.Set1(np.linspace(0, 1, 10))\n",
    "\n",
    "lwbase = plt.rcParams['lines.linewidth']\n",
    "thin = lwbase / 2\n",
    "thick = lwbase * 3\n",
    "\n",
    "fig, axs = plt.subplots(nrows=2, ncols=2, sharex=True, sharey=True)\n",
    "for icol in range(2):\n",
    "    if icol == 0:\n",
    "        lwx, lwy = thin, lwbase\n",
    "    else:\n",
    "        lwx, lwy = lwbase, thick\n",
    "    for irow in range(2):\n",
    "        for i, color in enumerate(colors):\n",
    "            axs[irow, icol].axhline(i, color=color, lw=lwx) # 在轴上添加水平线\n",
    "            axs[irow, icol].axvline(i, color=color, lw=lwy) # 在轴上添加垂直线\n",
    "            '''\n",
    "            y : scalar, optional, default: 0\n",
    "                y position in data coordinates of the horizontal line.\n",
    "            \n",
    "            color:Set the color of the line\n",
    "                linewidth:Set the line width in points\n",
    "            '''\n",
    "\n",
    "    axs[1, icol].set_facecolor('k')\n",
    "    axs[1, icol].xaxis.set_ticks(np.arange(0, 10, 2))\n",
    "    axs[0, icol].set_title('line widths (pts): %g, %g' % (lwx, lwy),\n",
    "                           fontsize='medium')\n",
    "\n",
    "for irow in range(2):\n",
    "    axs[irow, 0].yaxis.set_ticks(np.arange(0, 10, 2))\n",
    "\n",
    "plt.show()"
   ],
   "metadata": {
    "pycharm": {
     "metadata": false,
     "name": "#%%\n",
     "is_executing": false
    }
   }
  },
  {
   "cell_type": "code",
   "execution_count": null,
   "outputs": [],
   "source": "\n",
   "metadata": {
    "pycharm": {
     "metadata": false,
     "name": "#%%\n"
    }
   }
  }
 ],
 "metadata": {
  "language_info": {
   "codemirror_mode": {
    "name": "ipython",
    "version": 2
   },
   "file_extension": ".py",
   "mimetype": "text/x-python",
   "name": "python",
   "nbconvert_exporter": "python",
   "pygments_lexer": "ipython2",
   "version": "2.7.6"
  },
  "kernelspec": {
   "name": "python3",
   "language": "python",
   "display_name": "Python 3"
  },
  "pycharm": {
   "stem_cell": {
    "cell_type": "raw",
    "source": [],
    "metadata": {
     "collapsed": false
    }
   }
  }
 },
 "nbformat": 4,
 "nbformat_minor": 0
}