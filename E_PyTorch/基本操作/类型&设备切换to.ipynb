{
 "cells": [
  {
   "cell_type": "code",
   "execution_count": 13,
   "metadata": {
    "colab": {
     "base_uri": "https://localhost:8080/",
     "height": 52
    },
    "colab_type": "code",
    "collapsed": true,
    "id": "tO0pzB4F41W6",
    "outputId": "cba7a003-f315-4e06-ba2f-54f9fc789d16"
   },
   "outputs": [
    {
     "name": "stdout",
     "output_type": "stream",
     "text": [
      "torch.int64\n"
     ]
    }
   ],
   "source": [
    "import torch\n",
    "\n",
    "tor = torch.arange(64).reshape(8, 8)\n",
    "print(tor.dtype)"
   ]
  },
  {
   "cell_type": "code",
   "execution_count": 14,
   "metadata": {
    "colab": {
     "base_uri": "https://localhost:8080/",
     "height": 52
    },
    "colab_type": "code",
    "id": "a6TTJsPO41XA",
    "outputId": "f7099316-cbba-493b-bd51-90d40c56f541",
    "pycharm": {
     "name": "#%%\n"
    }
   },
   "outputs": [],
   "source": [
    "# torch常见数据类型\n",
    "# torch.float(torch.float32)\n",
    "# torch.double(torch.float64)\n",
    "# torch.bool\n",
    "# torch.int(torch.int32)\n",
    "# torch.long(torch.int64)"
   ]
  },
  {
   "cell_type": "code",
   "execution_count": 15,
   "metadata": {
    "collapsed": false,
    "pycharm": {
     "name": "#%%\n"
    }
   },
   "outputs": [
    {
     "data": {
      "text/plain": [
       "torch.int64"
      ]
     },
     "execution_count": 15,
     "metadata": {},
     "output_type": "execute_result"
    }
   ],
   "source": [
    "tor.to(dtype=torch.float64)  # 数据类型转换\n",
    "tor.dtype  # tor不变"
   ]
  },
  {
   "cell_type": "code",
   "execution_count": 16,
   "metadata": {
    "colab": {
     "base_uri": "https://localhost:8080/",
     "height": 104
    },
    "colab_type": "code",
    "id": "__demMvL41XG",
    "outputId": "69769dae-c6c8-4a80-d628-11d100bd79d7",
    "pycharm": {
     "name": "#%%\n"
    }
   },
   "outputs": [
    {
     "name": "stdout",
     "output_type": "stream",
     "text": [
      "cpu\n",
      "0\n",
      "cuda:0\n",
      "tensor([2, 3, 4, 5], device='cuda:0')\n",
      "cpu\n",
      "torch.float64\n"
     ]
    }
   ],
   "source": [
    "x = torch.tensor([1, 2, 3, 4])\n",
    "print(x.device)\n",
    "\n",
    "if torch.cuda.is_available():  # Returns a bool indicating if CUDA is currently available\n",
    "    print(torch.cuda.current_device())\n",
    "    # A torch.device is an object representing the device on which a torch.Tensor is or will be allocated.\n",
    "    # The torch.device contains a device type ('cpu' or 'cuda') and optional device ordinal for the device type.\n",
    "    # torch.device('cuda')  # current cuda device\n",
    "    device = torch.device('cuda', 0)  # 使用到的GPU索引为0\n",
    "    y = torch.ones_like(x, device=device)  # 建立一个在GPU上的Tensor\n",
    "    print(y.device)\n",
    "\n",
    "    x = x.to(device)  # 等价于x.to('cuda')\n",
    "    z = x + y\n",
    "    print(z)\n",
    "\n",
    "    m = z.to(device='cpu', dtype=torch.double)\n",
    "    print(m.device)\n",
    "    print(m.dtype)"
   ]
  },
  {
   "cell_type": "code",
   "execution_count": null,
   "metadata": {
    "collapsed": false,
    "pycharm": {
     "name": "#%%\n"
    }
   },
   "outputs": [],
   "source": []
  }
 ],
 "metadata": {
  "accelerator": "GPU",
  "colab": {
   "collapsed_sections": [],
   "name": "类型设备转换to.ipynb",
   "provenance": []
  },
  "kernelspec": {
   "display_name": "llm",
   "language": "python",
   "name": "python3"
  },
  "language_info": {
   "codemirror_mode": {
    "name": "ipython",
    "version": 3
   },
   "file_extension": ".py",
   "mimetype": "text/x-python",
   "name": "python",
   "nbconvert_exporter": "python",
   "pygments_lexer": "ipython3",
   "version": "3.10.12"
  }
 },
 "nbformat": 4,
 "nbformat_minor": 0
}
