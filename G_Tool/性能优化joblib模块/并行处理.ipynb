{
 "cells": [
  {
   "cell_type": "code",
   "execution_count": 15,
   "metadata": {
    "collapsed": true
   },
   "outputs": [],
   "source": [
    "from joblib import Parallel, delayed\n",
    "import time, math"
   ]
  },
  {
   "cell_type": "code",
   "execution_count": 16,
   "outputs": [],
   "source": [
    "def my_fun1p(i):\n",
    "    time.sleep(1)\n",
    "    return math.sqrt(i ** 2)"
   ],
   "metadata": {
    "collapsed": false,
    "pycharm": {
     "name": "#%%\n"
    }
   }
  },
  {
   "cell_type": "code",
   "execution_count": 17,
   "outputs": [
    {
     "name": "stdout",
     "output_type": "stream",
     "text": [
      "10.0451 s\n"
     ]
    }
   ],
   "source": [
    "num = 10\n",
    "start = time.time()\n",
    "for i in range(num):\n",
    "    my_fun1p(i)\n",
    "\n",
    "end = time.time()\n",
    "\n",
    "print('{:.4f} s'.format(end - start))"
   ],
   "metadata": {
    "collapsed": false,
    "pycharm": {
     "name": "#%%\n"
    }
   }
  },
  {
   "cell_type": "code",
   "execution_count": 18,
   "outputs": [
    {
     "name": "stdout",
     "output_type": "stream",
     "text": [
      "[0.0, 1.0, 2.0, 3.0, 4.0, 5.0, 6.0, 7.0, 8.0, 9.0]\n",
      "2.5394 s\n"
     ]
    }
   ],
   "source": [
    "start = time.time()\n",
    "# njobs:The maximum number of concurrently running jobs, If -1 all CPUs are used\n",
    "# 注:notebook中要求my_fun1p位于当前notebook或可以通过>import<的方式导入,即不能与当前notebook处于不同文件夹\n",
    "'''\n",
    "backend: str, ParallelBackendBase instance or None, default: ‘loky’\n",
    "    Specify the parallelization backend implementation. Supported backends are:\n",
    "\n",
    "    * “loky” used by default, can induce some communication and memory overhead when exchanging input and output data with the worker Python processes. On some rare systems (such as Pyiodide), the loky backend may not be available.\n",
    "    * “multiprocessing” previous process-based backend based on multiprocessing.Pool. Less robust than loky.\n",
    "    * “threading” is a very low-overhead backend but it suffers from the Python Global Interpreter Lock if the called function relies a lot on Python objects. “threading” is mostly useful when the execution bottleneck is a compiled extension that explicitly releases the GIL (for instance a Cython loop wrapped in a “with nogil” block or an expensive call to a library such as NumPy).\n",
    "'''\n",
    "# 并行执行多个函数\n",
    "result = Parallel(n_jobs=8, backend='loky')(delayed(my_fun1p)(i) for i in range(num))  # 函数my_fun1的参数为i\n",
    "# result = Parallel(n_jobs=8)([delayed(my_fun1p)(0), delayed(my_fun1p)(1), delayed(my_fun1p)(2), ..., delayed(my_fun1p)(num-1)])  # 与上等价\n",
    "print(result)  # 所有函数返回值结果被打包为一个列表\n",
    "end = time.time()\n",
    "print('{:.4f} s'.format(end - start))"
   ],
   "metadata": {
    "collapsed": false,
    "pycharm": {
     "name": "#%%\n"
    }
   }
  },
  {
   "cell_type": "code",
   "execution_count": 19,
   "outputs": [],
   "source": [
    "def my_fun_2p(i, j):\n",
    "    time.sleep(1)\n",
    "    return math.sqrt(i ** j)"
   ],
   "metadata": {
    "collapsed": false,
    "pycharm": {
     "name": "#%%\n"
    }
   }
  },
  {
   "cell_type": "code",
   "execution_count": 20,
   "outputs": [
    {
     "name": "stdout",
     "output_type": "stream",
     "text": [
      "30.1022 s\n"
     ]
    }
   ],
   "source": [
    "j_num = 3\n",
    "num = 10\n",
    "start = time.time()\n",
    "for i in range(num):\n",
    "    for j in range(j_num):\n",
    "        my_fun_2p(i, j)\n",
    "\n",
    "end = time.time()\n",
    "print('{:.4f} s'.format(end - start))"
   ],
   "metadata": {
    "collapsed": false,
    "pycharm": {
     "name": "#%%\n"
    }
   }
  },
  {
   "cell_type": "code",
   "execution_count": 21,
   "outputs": [
    {
     "name": "stderr",
     "output_type": "stream",
     "text": [
      "[Parallel(n_jobs=8)]: Using backend LokyBackend with 8 concurrent workers.\n",
      "[Parallel(n_jobs=8)]: Done   2 tasks      | elapsed:    0.9s\n",
      "[Parallel(n_jobs=8)]: Done   9 tasks      | elapsed:    1.9s\n",
      "[Parallel(n_jobs=8)]: Done  19 out of  30 | elapsed:    2.9s remaining:    1.7s\n",
      "[Parallel(n_jobs=8)]: Done  23 out of  30 | elapsed:    2.9s remaining:    0.8s\n"
     ]
    },
    {
     "name": "stdout",
     "output_type": "stream",
     "text": [
      "4.0401 s\n"
     ]
    },
    {
     "name": "stderr",
     "output_type": "stream",
     "text": [
      "[Parallel(n_jobs=8)]: Done  27 out of  30 | elapsed:    3.9s remaining:    0.3s\n",
      "[Parallel(n_jobs=8)]: Done  30 out of  30 | elapsed:    3.9s finished\n"
     ]
    }
   ],
   "source": [
    "\"\"\"\n",
    "verbose: int, optional\n",
    "    The verbosity level:\n",
    "    if non zero, progress messages are printed.\n",
    "    Above 50, the output is sent to stdout.\n",
    "    The frequency of the messages increases with the verbosity level.\n",
    "    If it more than 10, all iterations are reported.\n",
    "\"\"\"\n",
    "start = time.time()\n",
    "# 函数my_fun_2p的参数为(i, j)\n",
    "Parallel(n_jobs=8, verbose=10)(delayed(my_fun_2p)(i, j) for i in range(num) for j in range(j_num))\n",
    "end = time.time()\n",
    "print('{:.4f} s'.format(end - start))"
   ],
   "metadata": {
    "collapsed": false,
    "pycharm": {
     "name": "#%%\n"
    }
   }
  }
 ],
 "metadata": {
  "kernelspec": {
   "display_name": "Python 3",
   "language": "python",
   "name": "python3"
  },
  "language_info": {
   "codemirror_mode": {
    "name": "ipython",
    "version": 2
   },
   "file_extension": ".py",
   "mimetype": "text/x-python",
   "name": "python",
   "nbconvert_exporter": "python",
   "pygments_lexer": "ipython2",
   "version": "2.7.6"
  }
 },
 "nbformat": 4,
 "nbformat_minor": 0
}