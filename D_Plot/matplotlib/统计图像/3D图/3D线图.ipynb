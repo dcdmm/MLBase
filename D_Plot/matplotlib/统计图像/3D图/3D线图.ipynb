{
 "cells": [
  {
   "cell_type": "code",
   "execution_count": 3,
   "metadata": {
    "collapsed": true,
    "pycharm": {
     "is_executing": false
    }
   },
   "outputs": [
    {
     "name": "stdout",
     "text": [
      "[<mpl_toolkits.mplot3d.art3d.Line3D object at 0x0000022DE4E1DA48>]\n"
     ],
     "output_type": "stream"
    }
   ],
   "source": [
    "%matplotlib qt5\n",
    "from mpl_toolkits.mplot3d import Axes3D\n",
    "import numpy as np\n",
    "import matplotlib.pyplot as plt\n",
    "\n",
    "fig = plt.figure()\n",
    "ax = fig.gca(projection='3d') # Get the current axes, creating one if necessary.\n",
    "\n",
    "theta = np.linspace(-4 * np.pi, 4 * np.pi, 100)\n",
    "z = np.linspace(-2, 2, 100)\n",
    "r = z**2 + 1\n",
    "x = r * np.sin(theta)\n",
    "y = r * np.cos(theta)\n",
    "\n",
    "line_3d = ax.plot(x, y, z, label='parametric curve', color='red', marker='.', linestyle='-.')\n",
    "'''\n",
    "xs : 1D array-like\n",
    "    x coordinates of vertices.\n",
    "\n",
    "ys : 1D array-like\n",
    "    y coordinates of vertices.\n",
    "\n",
    "zs : scalar or 1D array-like\n",
    "    z coordinates of vertices; either one for all points or one for each point.\n",
    "'''\n",
    "ax.legend()\n",
    "plt.show()\n",
    "print(line_3d)"
   ]
  },
  {
   "cell_type": "code",
   "execution_count": 3,
   "outputs": [],
   "source": [
    "\n"
   ],
   "metadata": {
    "collapsed": false,
    "pycharm": {
     "name": "#%%\n",
     "is_executing": false
    }
   }
  }
 ],
 "metadata": {
  "kernelspec": {
   "display_name": "Python 3",
   "language": "python",
   "name": "python3"
  },
  "language_info": {
   "codemirror_mode": {
    "name": "ipython",
    "version": 2
   },
   "file_extension": ".py",
   "mimetype": "text/x-python",
   "name": "python",
   "nbconvert_exporter": "python",
   "pygments_lexer": "ipython2",
   "version": "2.7.6"
  },
  "pycharm": {
   "stem_cell": {
    "cell_type": "raw",
    "source": [],
    "metadata": {
     "collapsed": false
    }
   }
  }
 },
 "nbformat": 4,
 "nbformat_minor": 0
}