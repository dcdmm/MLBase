{
 "cells": [
  {
   "cell_type": "markdown",
   "source": [
    "<font color='red' size=4>定义:</font>   \n",
    "&emsp;&emsp;标准误,即样本均值的标准差,是描述均数抽样分布的离散程度及衡量均数抽样误差大小的尺度,反映的是样本均值之间的变异.标准误差定义为各测量值误差的平方和的平均值的平方根,故又称为均方根误差.  \n",
    "\n",
    "<font color='red' size=4>计算:</font>  \n",
    "$ s.e =  \\sigma / \\sqrt{n} $  "
   ],
   "metadata": {
    "pycharm": {
     "metadata": false
    }
   }
  },
  {
   "cell_type": "code",
   "execution_count": 3,
   "metadata": {
    "collapsed": true,
    "pycharm": {
     "is_executing": false
    }
   },
   "outputs": [
    {
     "name": "stdout",
     "text": [
      "0.12311072252245132\n0.12311072252245132\n"
     ],
     "output_type": "stream"
    }
   ],
   "source": "import numpy as np\nfrom scipy import  stats\n\ndata = np.array([6.5, 6.8, 6.8, 7, 7.1, 7.2, 7.2, 7.4, \n        7.4, 7.5, 7.5, 7.5, 7.6, 7.8, 8, 8.5])\n# 标准误差计算方法1\nsm1 = stats.sem(data)\nprint(sm1)\n\n# 标准误差计算方法2\nlength = len(data)\nstd = np.std(data, ddof=1)\nsm2 = std / np.sqrt(length)\nprint(sm2)"
  },
  {
   "cell_type": "code",
   "execution_count": null,
   "outputs": [],
   "source": "    ",
   "metadata": {
    "pycharm": {
     "metadata": false,
     "name": "#%%\n"
    }
   }
  }
 ],
 "metadata": {
  "language_info": {
   "codemirror_mode": {
    "name": "ipython",
    "version": 2
   },
   "file_extension": ".py",
   "mimetype": "text/x-python",
   "name": "python",
   "nbconvert_exporter": "python",
   "pygments_lexer": "ipython2",
   "version": "2.7.6"
  },
  "kernelspec": {
   "name": "python3",
   "language": "python",
   "display_name": "Python 3"
  },
  "stem_cell": {
   "cell_type": "raw",
   "source": "",
   "metadata": {
    "pycharm": {
     "metadata": false
    }
   }
  },
  "pycharm": {
   "stem_cell": {
    "cell_type": "raw",
    "source": [],
    "metadata": {
     "collapsed": false
    }
   }
  }
 },
 "nbformat": 4,
 "nbformat_minor": 0
}