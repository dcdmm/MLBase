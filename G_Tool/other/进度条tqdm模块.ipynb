{
 "cells": [
  {
   "cell_type": "code",
   "execution_count": 1,
   "metadata": {},
   "outputs": [],
   "source": [
    "import time\n",
    "from tqdm import tqdm\n",
    "from tqdm.notebook import tqdm as tqdm1\n",
    "import math"
   ]
  },
  {
   "cell_type": "markdown",
   "source": [
    "```python\n",
    "class tqdm.notebook.tqdm(tqdm.tqdm):\n",
    "    \"\"\"IPython/Jupyter Notebook widget.\"\"\"\n",
    "\n",
    "class tqdm.auto.tqdm(tqdm.tqdm):\n",
    "    \"\"\"Automatically chooses beween `tqdm.notebook` and `tqdm.tqdm`.\"\"\"\n",
    "```"
   ],
   "metadata": {
    "collapsed": false,
    "pycharm": {
     "name": "#%% md\n"
    }
   }
  },
  {
   "cell_type": "code",
   "execution_count": 2,
   "metadata": {
    "pycharm": {
     "name": "#%%\n"
    }
   },
   "outputs": [
    {
     "name": "stderr",
     "output_type": "stream",
     "text": [
      "Processing 9: 100%|██████████| 10/10 [00:10<00:00,  1.01s/it, accuray=0.9, loss=3]  \n"
     ]
    }
   ],
   "source": [
    "my_range = range(0, 10)\n",
    "pbar = tqdm(my_range)\n",
    "for char in pbar:\n",
    "    pbar.set_description(\"Processing %d\" % char)  # 在进度条前面设置描述\n",
    "    pbar.set_postfix(loss=math.sqrt(char), accuray=char / 10)  # 在进度条最后设置其他显示\n",
    "    time.sleep(1)"
   ]
  },
  {
   "cell_type": "code",
   "execution_count": 3,
   "outputs": [
    {
     "data": {
      "text/plain": "  0%|          | 0/10 [00:00<?, ?it/s]",
      "application/vnd.jupyter.widget-view+json": {
       "version_major": 2,
       "version_minor": 0,
       "model_id": "457bdbd0a3284d90b0a1e60ea81301d6"
      }
     },
     "metadata": {},
     "output_type": "display_data"
    }
   ],
   "source": [
    "my_range = range(0, 10)\n",
    "pbar = tqdm1(my_range)\n",
    "for char in pbar:\n",
    "    pbar.set_description(\"Processing %d\" % char)  # 在进度条前面设置描述\n",
    "    pbar.set_postfix(loss=math.sqrt(char), accuray=char / 10)  # 在进度条最后设置其他显示\n",
    "    time.sleep(1)\n"
   ],
   "metadata": {
    "collapsed": false,
    "pycharm": {
     "name": "#%%\n"
    }
   }
  },
  {
   "cell_type": "code",
   "execution_count": 4,
   "metadata": {},
   "outputs": [
    {
     "name": "stderr",
     "output_type": "stream",
     "text": [
      "Epoch 0:  95%|█████████▌| 20/21 [00:02<00:00,  9.24it/s]\n",
      "Epoch 1:  95%|█████████▌| 20/21 [00:02<00:00,  9.25it/s]\n",
      "Epoch 2:  95%|█████████▌| 20/21 [00:02<00:00,  9.25it/s]\n",
      "Epoch 3:  95%|█████████▌| 20/21 [00:02<00:00,  9.16it/s]\n",
      "Epoch 4:  95%|█████████▌| 20/21 [00:02<00:00,  9.20it/s]\n"
     ]
    }
   ],
   "source": [
    "train_loader = range(0, 20)\n",
    "for epoch in range(5):\n",
    "    pbar = tqdm(train_loader,\n",
    "                # The number of expected iterations. If unspecified, len(iterable) is used if possible.\n",
    "                total=21,\n",
    "                desc=f\"Epoch {epoch}\")\n",
    "    for i in pbar:\n",
    "        time.sleep(0.1)"
   ]
  },
  {
   "cell_type": "code",
   "execution_count": 5,
   "outputs": [
    {
     "data": {
      "text/plain": "Epoch 0:   0%|          | 0/21 [00:00<?, ?it/s]",
      "application/vnd.jupyter.widget-view+json": {
       "version_major": 2,
       "version_minor": 0,
       "model_id": "00592c59c7904ad2abdc0330c2e7850b"
      }
     },
     "metadata": {},
     "output_type": "display_data"
    },
    {
     "data": {
      "text/plain": "Epoch 1:   0%|          | 0/21 [00:00<?, ?it/s]",
      "application/vnd.jupyter.widget-view+json": {
       "version_major": 2,
       "version_minor": 0,
       "model_id": "a15455197cd549d58fd0f96d39e8ef37"
      }
     },
     "metadata": {},
     "output_type": "display_data"
    },
    {
     "data": {
      "text/plain": "Epoch 2:   0%|          | 0/21 [00:00<?, ?it/s]",
      "application/vnd.jupyter.widget-view+json": {
       "version_major": 2,
       "version_minor": 0,
       "model_id": "808b2839abd94817b9cd0a549743c3d6"
      }
     },
     "metadata": {},
     "output_type": "display_data"
    },
    {
     "data": {
      "text/plain": "Epoch 3:   0%|          | 0/21 [00:00<?, ?it/s]",
      "application/vnd.jupyter.widget-view+json": {
       "version_major": 2,
       "version_minor": 0,
       "model_id": "0edec69dd8884d33bda664550b212ca6"
      }
     },
     "metadata": {},
     "output_type": "display_data"
    },
    {
     "data": {
      "text/plain": "Epoch 4:   0%|          | 0/21 [00:00<?, ?it/s]",
      "application/vnd.jupyter.widget-view+json": {
       "version_major": 2,
       "version_minor": 0,
       "model_id": "ddd01dd3e9a04c589991f8e5579d56df"
      }
     },
     "metadata": {},
     "output_type": "display_data"
    }
   ],
   "source": [
    "train_loader = range(0, 20)\n",
    "for epoch in range(5):\n",
    "    pbar = tqdm1(train_loader,\n",
    "                # The number of expected iterations. If unspecified, len(iterable) is used if possible.\n",
    "                total=21,\n",
    "                desc=f\"Epoch {epoch}\")\n",
    "    for i in pbar:\n",
    "        time.sleep(0.1)"
   ],
   "metadata": {
    "collapsed": false,
    "pycharm": {
     "name": "#%%\n"
    }
   }
  },
  {
   "cell_type": "code",
   "execution_count": 6,
   "metadata": {
    "pycharm": {
     "name": "#%%\n"
    }
   },
   "outputs": [
    {
     "name": "stderr",
     "output_type": "stream",
     "text": [
      "Processing 2:  10%|█         | 2/20 [00:00<00:02,  8.90it/s, accuray=0.2, loss=1.41]"
     ]
    },
    {
     "name": "stdout",
     "output_type": "stream",
     "text": [
      "char is 0\n",
      "char is 1\n"
     ]
    },
    {
     "name": "stderr",
     "output_type": "stream",
     "text": [
      "Processing 4:  20%|██        | 4/20 [00:00<00:01,  8.97it/s, accuray=0.4, loss=2]   "
     ]
    },
    {
     "name": "stdout",
     "output_type": "stream",
     "text": [
      "char is 2\n",
      "char is 3\n"
     ]
    },
    {
     "name": "stderr",
     "output_type": "stream",
     "text": [
      "Processing 6:  30%|███       | 6/20 [00:00<00:01,  9.06it/s, accuray=0.6, loss=2.45]"
     ]
    },
    {
     "name": "stdout",
     "output_type": "stream",
     "text": [
      "char is 4\n",
      "char is 5\n"
     ]
    },
    {
     "name": "stderr",
     "output_type": "stream",
     "text": [
      "Processing 8:  40%|████      | 8/20 [00:00<00:01,  9.20it/s, accuray=0.8, loss=2.83]"
     ]
    },
    {
     "name": "stdout",
     "output_type": "stream",
     "text": [
      "char is 6\n",
      "char is 7\n"
     ]
    },
    {
     "name": "stderr",
     "output_type": "stream",
     "text": [
      "Processing 10:  50%|█████     | 10/20 [00:01<00:01,  9.29it/s, accuray=1, loss=3.16]"
     ]
    },
    {
     "name": "stdout",
     "output_type": "stream",
     "text": [
      "char is 8\n",
      "char is 9\n"
     ]
    },
    {
     "name": "stderr",
     "output_type": "stream",
     "text": [
      "Processing 12:  60%|██████    | 12/20 [00:01<00:00,  9.29it/s, accuray=1.2, loss=3.46]"
     ]
    },
    {
     "name": "stdout",
     "output_type": "stream",
     "text": [
      "char is 10\n",
      "char is 11\n"
     ]
    },
    {
     "name": "stderr",
     "output_type": "stream",
     "text": [
      "Processing 14:  70%|███████   | 14/20 [00:01<00:00,  9.26it/s, accuray=1.4, loss=3.74]"
     ]
    },
    {
     "name": "stdout",
     "output_type": "stream",
     "text": [
      "char is 12\n",
      "char is 13\n"
     ]
    },
    {
     "name": "stderr",
     "output_type": "stream",
     "text": [
      "Processing 16:  80%|████████  | 16/20 [00:01<00:00,  9.21it/s, accuray=1.6, loss=4]   "
     ]
    },
    {
     "name": "stdout",
     "output_type": "stream",
     "text": [
      "char is 14\n",
      "char is 15\n"
     ]
    },
    {
     "name": "stderr",
     "output_type": "stream",
     "text": [
      "Processing 18:  90%|█████████ | 18/20 [00:01<00:00,  9.13it/s, accuray=1.8, loss=4.24]"
     ]
    },
    {
     "name": "stdout",
     "output_type": "stream",
     "text": [
      "char is 16\n",
      "char is 17\n"
     ]
    },
    {
     "name": "stderr",
     "output_type": "stream",
     "text": [
      "Processing 19: 100%|██████████| 20/20 [00:02<00:00,  9.16it/s, accuray=1.9, loss=4.36]"
     ]
    },
    {
     "name": "stdout",
     "output_type": "stream",
     "text": [
      "char is 18\n",
      "char is 19\n"
     ]
    },
    {
     "name": "stderr",
     "output_type": "stream",
     "text": [
      "\n"
     ]
    }
   ],
   "source": [
    "# 展示进度条的过程(方式一:)\n",
    "my_range = range(0, 20)\n",
    "pbar = tqdm(my_range)\n",
    "for char in pbar:\n",
    "    pbar.set_description(\"Processing %d\" % char)\n",
    "    pbar.set_postfix(loss=math.sqrt(char), accuray=char / 10)\n",
    "    time.sleep(0.1)\n",
    "    print(\"char is\", char)  # ★★★★★进行打印操作"
   ]
  },
  {
   "cell_type": "code",
   "execution_count": 7,
   "metadata": {
    "pycharm": {
     "name": "#%%\n"
    }
   },
   "outputs": [
    {
     "name": "stderr",
     "output_type": "stream",
     "text": [
      "  0%|          | 0/2 [00:00<?, ?it/s]\n",
      "  0%|          | 0/10 [00:00<?, ?it/s]\u001B[A\n",
      "Processing 0:   0%|          | 0/10 [00:00<?, ?it/s]\u001B[A\n",
      "Processing 0:   0%|          | 0/10 [00:00<?, ?it/s, accuray=0, loss=1]\u001B[A\n",
      "Processing 0:  10%|█         | 1/10 [00:00<00:02,  3.17it/s, accuray=0, loss=1]\u001B[A\n",
      "Processing 10:  10%|█         | 1/10 [00:00<00:02,  3.17it/s, accuray=0, loss=1]\u001B[A\n",
      "Processing 10:  10%|█         | 1/10 [00:00<00:02,  3.17it/s, accuray=0.1, loss=3.32]\u001B[A\n",
      "Processing 10:  20%|██        | 2/10 [00:00<00:02,  3.20it/s, accuray=0.1, loss=3.32]\u001B[A\n",
      "Processing 20:  20%|██        | 2/10 [00:00<00:02,  3.20it/s, accuray=0.1, loss=3.32]\u001B[A\n",
      "Processing 20:  20%|██        | 2/10 [00:00<00:02,  3.20it/s, accuray=0.2, loss=4.58]\u001B[A\n",
      "Processing 20:  30%|███       | 3/10 [00:00<00:02,  3.21it/s, accuray=0.2, loss=4.58]\u001B[A\n",
      "Processing 30:  30%|███       | 3/10 [00:00<00:02,  3.21it/s, accuray=0.2, loss=4.58]\u001B[A\n",
      "Processing 30:  30%|███       | 3/10 [00:00<00:02,  3.21it/s, accuray=0.3, loss=5.57]\u001B[A\n",
      "Processing 30:  40%|████      | 4/10 [00:01<00:01,  3.22it/s, accuray=0.3, loss=5.57]\u001B[A\n",
      "Processing 40:  40%|████      | 4/10 [00:01<00:01,  3.22it/s, accuray=0.3, loss=5.57]\u001B[A\n",
      "Processing 40:  40%|████      | 4/10 [00:01<00:01,  3.22it/s, accuray=0.4, loss=6.4] \u001B[A\n",
      "Processing 40:  50%|█████     | 5/10 [00:01<00:01,  3.22it/s, accuray=0.4, loss=6.4]\u001B[A\n",
      "Processing 50:  50%|█████     | 5/10 [00:01<00:01,  3.22it/s, accuray=0.4, loss=6.4]\u001B[A\n",
      "Processing 50:  50%|█████     | 5/10 [00:01<00:01,  3.22it/s, accuray=0.5, loss=7.14]\u001B[A\n",
      "Processing 50:  60%|██████    | 6/10 [00:01<00:01,  3.23it/s, accuray=0.5, loss=7.14]\u001B[A\n",
      "Processing 60:  60%|██████    | 6/10 [00:01<00:01,  3.23it/s, accuray=0.5, loss=7.14]\u001B[A\n",
      "Processing 60:  60%|██████    | 6/10 [00:01<00:01,  3.23it/s, accuray=0.6, loss=7.81]\u001B[A\n",
      "Processing 60:  70%|███████   | 7/10 [00:02<00:00,  3.22it/s, accuray=0.6, loss=7.81]\u001B[A\n",
      "Processing 70:  70%|███████   | 7/10 [00:02<00:00,  3.22it/s, accuray=0.6, loss=7.81]\u001B[A\n",
      "Processing 70:  70%|███████   | 7/10 [00:02<00:00,  3.22it/s, accuray=0.7, loss=8.43]\u001B[A\n",
      "Processing 70:  80%|████████  | 8/10 [00:02<00:00,  3.22it/s, accuray=0.7, loss=8.43]\u001B[A\n",
      "Processing 80:  80%|████████  | 8/10 [00:02<00:00,  3.22it/s, accuray=0.7, loss=8.43]\u001B[A\n",
      "Processing 80:  80%|████████  | 8/10 [00:02<00:00,  3.22it/s, accuray=0.8, loss=9]   \u001B[A\n",
      "Processing 80:  90%|█████████ | 9/10 [00:02<00:00,  3.22it/s, accuray=0.8, loss=9]\u001B[A\n",
      "Processing 90:  90%|█████████ | 9/10 [00:02<00:00,  3.22it/s, accuray=0.8, loss=9]\u001B[A\n",
      "Processing 90:  90%|█████████ | 9/10 [00:02<00:00,  3.22it/s, accuray=0.9, loss=9.54]\u001B[A\n",
      "Processing 90: 100%|██████████| 10/10 [00:03<00:00,  3.22it/s, accuray=0.9, loss=9.54]\u001B[A\n",
      " 50%|█████     | 1/2 [00:03<00:03,  3.11s/it]\n",
      "  0%|          | 0/10 [00:00<?, ?it/s]\u001B[A\n",
      "Processing 0:   0%|          | 0/10 [00:00<?, ?it/s]\u001B[A\n",
      "Processing 0:   0%|          | 0/10 [00:00<?, ?it/s, accuray=0, loss=1]\u001B[A\n",
      "Processing 0:  10%|█         | 1/10 [00:00<00:02,  3.29it/s, accuray=0, loss=1]\u001B[A\n",
      "Processing 10:  10%|█         | 1/10 [00:00<00:02,  3.29it/s, accuray=0, loss=1]\u001B[A\n",
      "Processing 10:  10%|█         | 1/10 [00:00<00:02,  3.29it/s, accuray=0.1, loss=3.32]\u001B[A\n",
      "Processing 10:  20%|██        | 2/10 [00:00<00:02,  3.24it/s, accuray=0.1, loss=3.32]\u001B[A\n",
      "Processing 20:  20%|██        | 2/10 [00:00<00:02,  3.24it/s, accuray=0.1, loss=3.32]\u001B[A\n",
      "Processing 20:  20%|██        | 2/10 [00:00<00:02,  3.24it/s, accuray=0.2, loss=4.58]\u001B[A\n",
      "Processing 20:  30%|███       | 3/10 [00:00<00:02,  3.23it/s, accuray=0.2, loss=4.58]\u001B[A\n",
      "Processing 30:  30%|███       | 3/10 [00:00<00:02,  3.23it/s, accuray=0.2, loss=4.58]\u001B[A\n",
      "Processing 30:  30%|███       | 3/10 [00:00<00:02,  3.23it/s, accuray=0.3, loss=5.57]\u001B[A\n",
      "Processing 30:  40%|████      | 4/10 [00:01<00:01,  3.22it/s, accuray=0.3, loss=5.57]\u001B[A\n",
      "Processing 40:  40%|████      | 4/10 [00:01<00:01,  3.22it/s, accuray=0.3, loss=5.57]\u001B[A\n",
      "Processing 40:  40%|████      | 4/10 [00:01<00:01,  3.22it/s, accuray=0.4, loss=6.4] \u001B[A\n",
      "Processing 40:  50%|█████     | 5/10 [00:01<00:01,  3.22it/s, accuray=0.4, loss=6.4]\u001B[A\n",
      "Processing 50:  50%|█████     | 5/10 [00:01<00:01,  3.22it/s, accuray=0.4, loss=6.4]\u001B[A\n",
      "Processing 50:  50%|█████     | 5/10 [00:01<00:01,  3.22it/s, accuray=0.5, loss=7.14]\u001B[A\n",
      "Processing 50:  60%|██████    | 6/10 [00:01<00:01,  3.23it/s, accuray=0.5, loss=7.14]\u001B[A\n",
      "Processing 60:  60%|██████    | 6/10 [00:01<00:01,  3.23it/s, accuray=0.5, loss=7.14]\u001B[A\n",
      "Processing 60:  60%|██████    | 6/10 [00:01<00:01,  3.23it/s, accuray=0.6, loss=7.81]\u001B[A\n",
      "Processing 60:  70%|███████   | 7/10 [00:02<00:00,  3.23it/s, accuray=0.6, loss=7.81]\u001B[A\n",
      "Processing 70:  70%|███████   | 7/10 [00:02<00:00,  3.23it/s, accuray=0.6, loss=7.81]\u001B[A\n",
      "Processing 70:  70%|███████   | 7/10 [00:02<00:00,  3.23it/s, accuray=0.7, loss=8.43]\u001B[A\n",
      "Processing 70:  80%|████████  | 8/10 [00:02<00:00,  3.23it/s, accuray=0.7, loss=8.43]\u001B[A\n",
      "Processing 80:  80%|████████  | 8/10 [00:02<00:00,  3.23it/s, accuray=0.7, loss=8.43]\u001B[A\n",
      "Processing 80:  80%|████████  | 8/10 [00:02<00:00,  3.23it/s, accuray=0.8, loss=9]   \u001B[A\n",
      "Processing 80:  90%|█████████ | 9/10 [00:02<00:00,  3.22it/s, accuray=0.8, loss=9]\u001B[A\n",
      "Processing 90:  90%|█████████ | 9/10 [00:02<00:00,  3.22it/s, accuray=0.8, loss=9]\u001B[A\n",
      "Processing 90:  90%|█████████ | 9/10 [00:02<00:00,  3.22it/s, accuray=0.9, loss=9.54]\u001B[A\n",
      "Processing 90: 100%|██████████| 10/10 [00:03<00:00,  3.22it/s, accuray=0.9, loss=9.54]\u001B[A\n",
      "100%|██████████| 2/2 [00:06<00:00,  3.11s/it]\n"
     ]
    }
   ],
   "source": [
    "# 展示进度条的过程(方式二:)\n",
    "for i in tqdm(range(2)):  # ★★★★★tqdm嵌套循环\n",
    "    a = tqdm(range(0, 100, 10))\n",
    "    for j in a:\n",
    "        a.set_description(\"Processing %d\" % j)\n",
    "        a.set_postfix(loss=math.sqrt(j + 1), accuray=j / 100)\n",
    "        time.sleep(0.3)"
   ]
  },
  {
   "cell_type": "code",
   "execution_count": 7,
   "metadata": {
    "pycharm": {
     "name": "#%%\n"
    }
   },
   "outputs": [],
   "source": []
  }
 ],
 "metadata": {
  "kernelspec": {
   "display_name": "Python 3 (ipykernel)",
   "language": "python",
   "name": "python3"
  },
  "language_info": {
   "codemirror_mode": {
    "name": "ipython",
    "version": 3
   },
   "file_extension": ".py",
   "mimetype": "text/x-python",
   "name": "python",
   "nbconvert_exporter": "python",
   "pygments_lexer": "ipython3",
   "version": "3.8.12"
  },
  "toc": {
   "base_numbering": 1,
   "nav_menu": {},
   "number_sections": true,
   "sideBar": true,
   "skip_h1_title": false,
   "title_cell": "Table of Contents",
   "title_sidebar": "Contents",
   "toc_cell": false,
   "toc_position": {},
   "toc_section_display": true,
   "toc_window_display": false
  }
 },
 "nbformat": 4,
 "nbformat_minor": 1
}