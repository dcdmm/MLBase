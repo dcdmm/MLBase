{
 "cells": [
  {
   "cell_type": "code",
   "id": "699515ebc5735933",
   "metadata": {},
   "source": [
    "%%capture\n",
    "\n",
    "import os\n",
    "\n",
    "# 分情况执行不同文件\n",
    "if os.getcwd().endswith('ipython_scripy_test'):\n",
    "    get_ipython().run_line_magic('run', 'a.ipynb')  # 相当于%run a.ipynb\n",
    "else:\n",
    "    %run ipython_scripy_test/a.ipynb\n",
    "    get_ipython().run_line_magic('run', 'ipython_scripy_test/a.ipynb')"
   ],
   "outputs": [],
   "execution_count": null
  },
  {
   "cell_type": "code",
   "id": "d90b578a45b61a00",
   "metadata": {},
   "source": [
    "def testb():\n",
    "    a_value = testa()\n",
    "    return a + a_value"
   ],
   "outputs": [],
   "execution_count": null
  },
  {
   "cell_type": "code",
   "id": "3801c8b636180c32",
   "metadata": {},
   "source": [
    "b = testb()\n",
    "b"
   ],
   "outputs": [],
   "execution_count": null
  }
 ],
 "metadata": {
  "kernelspec": {
   "display_name": "Python 3",
   "language": "python",
   "name": "python3"
  },
  "language_info": {
   "codemirror_mode": {
    "name": "ipython",
    "version": 3
   },
   "file_extension": ".py",
   "mimetype": "text/x-python",
   "name": "python",
   "nbconvert_exporter": "python",
   "pygments_lexer": "ipython3",
   "version": "3.10.12"
  }
 },
 "nbformat": 4,
 "nbformat_minor": 5
}
