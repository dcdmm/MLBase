{
 "cells": [
  {
   "cell_type": "code",
   "execution_count": null,
   "outputs": [],
   "source": [
    "\"\"\"\n",
    "Return whether 'cls' is a derived from another class or is the same class.\n",
    "\n",
    "A tuple, as in ``issubclass(x, (A, B, ...))``, may be given as the target to\n",
    "check against. This is equivalent to ``issubclass(x, A) or issubclass(x, B)\n",
    "or ...`` etc.\n",
    "\"\"\""
   ],
   "metadata": {
    "collapsed": false,
    "pycharm": {
     "name": "#%%\n"
    }
   }
  },
  {
   "cell_type": "code",
   "execution_count": 3,
   "metadata": {
    "collapsed": true,
    "pycharm": {
     "is_executing": false
    }
   },
   "outputs": [
    {
     "name": "stdout",
     "text": [
      "True\nTrue\nTrue\nFalse\nTrue\n"
     ],
     "output_type": "stream"
    }
   ],
   "source": [
    "class A:\n",
    "\tpass\n",
    "\n",
    "class B(A):\n",
    "\tpass\n",
    "\t\n",
    "class C:\n",
    "\tpass\n",
    "\n",
    "print(issubclass(B, A))\n",
    "print(issubclass(B, B))\n",
    "print(issubclass(B, object))\n",
    "print(issubclass(B, C))\n",
    "print(issubclass(B, (A, C)))"
   ]
  },
  {
   "cell_type": "code",
   "execution_count": null,
   "metadata": {
    "pycharm": {}
   },
   "outputs": [],
   "source": []
  }
 ],
 "metadata": {
  "kernelspec": {
   "name": "python3",
   "language": "python",
   "display_name": "Python 3"
  },
  "language_info": {
   "codemirror_mode": {
    "name": "ipython",
    "version": 2
   },
   "file_extension": ".py",
   "mimetype": "text/x-python",
   "name": "python",
   "nbconvert_exporter": "python",
   "pygments_lexer": "ipython2",
   "version": "2.7.6"
  },
  "pycharm": {
   "stem_cell": {
    "cell_type": "raw",
    "source": [],
    "metadata": {
     "collapsed": false
    }
   }
  }
 },
 "nbformat": 4,
 "nbformat_minor": 0
}