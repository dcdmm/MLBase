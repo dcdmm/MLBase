{
 "cells": [
  {
   "cell_type": "markdown",
   "metadata": {
    "collapsed": true
   },
   "source": [
    "* input:$(N, C_{in}, D_{in}, H_{in}, W_{in})$\n",
    "\n",
    "* output:$(N, C_{out}, D_{out}, H_{out}, W_{out})$\n",
    "\n",
    "$$ D_{out} = \\left \\lfloor \\frac{D_{in} + 2 \\times padding[0] - dilation[0] \\times(kernel\\_size[0]-1)-1}{stride[0]} +1  \\right \\rfloor \\\\ $$\n",
    "\n",
    "$$ H_{out} = \\left \\lfloor \\frac{H_{in} + 2 \\times padding[1] - dilation[1] \\times(kernel\\_size[1]-1)-1}{stride[1]} +1  \\right \\rfloor \\\\ $$\n",
    "\n",
    "$$ D_{out} = \\left \\lfloor \\frac{W_{in} + 2 \\times padding[2] - dilation[2] \\times(kernel\\_size[2]-1)-1}{stride[2]} +1  \\right \\rfloor \\\\ $$"
   ]
  },
  {
   "cell_type": "code",
   "execution_count": 9,
   "metadata": {},
   "outputs": [],
   "source": [
    "import torch\n",
    "import torch.nn.functional as F\n",
    "import torch.nn as nn"
   ]
  },
  {
   "cell_type": "code",
   "execution_count": 10,
   "metadata": {
    "pycharm": {
     "name": "#%%\n"
    }
   },
   "outputs": [
    {
     "data": {
      "text/plain": "torch.Size([100, 16, 10, 50, 100])"
     },
     "execution_count": 10,
     "metadata": {},
     "output_type": "execute_result"
    }
   ],
   "source": [
    "entry = torch.randn(100, 16, 10, 50, 100)\n",
    "entry.shape"
   ]
  },
  {
   "cell_type": "code",
   "execution_count": 11,
   "metadata": {
    "pycharm": {
     "name": "#%%\n"
    }
   },
   "outputs": [
    {
     "data": {
      "text/plain": "torch.Size([11, 16, 3, 3, 5])"
     },
     "execution_count": 11,
     "metadata": {},
     "output_type": "execute_result"
    }
   ],
   "source": [
    "weight = torch.empty((11, 16, 3, 3, 5))\n",
    "nn.init.kaiming_normal_(weight)\n",
    "weight.shape"
   ]
  },
  {
   "cell_type": "code",
   "execution_count": 12,
   "metadata": {
    "pycharm": {
     "name": "#%%\n"
    }
   },
   "outputs": [],
   "source": [
    "bias = torch.randn(11)"
   ]
  },
  {
   "cell_type": "code",
   "execution_count": 13,
   "metadata": {
    "pycharm": {
     "name": "#%%\n"
    }
   },
   "outputs": [
    {
     "data": {
      "text/plain": "torch.Size([100, 11, 8, 24, 32])"
     },
     "execution_count": 13,
     "metadata": {},
     "output_type": "execute_result"
    }
   ],
   "source": [
    "'''\n",
    "input –\n",
    "    input tensor of shape (minibatch, in_channels, iT, iH, iW)\n",
    "weight –\n",
    "    sfilters of shape (out_channels, in_channels/groups, kT, kH, kW)\n",
    "bias –\n",
    "    optional bias tensor of shape (out_channels) . Default: None\n",
    "'''\n",
    "con3d_f = F.conv3d(input=entry, weight=weight, bias=bias,\n",
    "                   stride=(1, 2, 3),  # D, H, W三个方向上的步幅\n",
    "                   padding=0, dilation=1)\n",
    "con3d_f.shape"
   ]
  },
  {
   "cell_type": "code",
   "execution_count": 14,
   "metadata": {
    "pycharm": {
     "name": "#%%\n"
    }
   },
   "outputs": [
    {
     "data": {
      "text/plain": "torch.Size([100, 33, 15, 52, 102])"
     },
     "execution_count": 14,
     "metadata": {},
     "output_type": "execute_result"
    }
   ],
   "source": [
    "con3d_c = nn.Conv3d(in_channels=16,  # 即C_in\n",
    "                    out_channels=33,  # 即C_out\n",
    "                    kernel_size=(2, 3, 1),\n",
    "                    bias=True, stride=1, padding=(3, 2, 1), groups=1)\n",
    "output = con3d_c(entry)\n",
    "output.shape"
   ]
  },
  {
   "cell_type": "code",
   "execution_count": 15,
   "metadata": {
    "pycharm": {
     "name": "#%%\n"
    }
   },
   "outputs": [
    {
     "data": {
      "text/plain": "torch.Size([33, 16, 2, 3, 1])"
     },
     "execution_count": 15,
     "metadata": {},
     "output_type": "execute_result"
    }
   ],
   "source": [
    "con3d_c.weight.shape  # 形状为(out_channels,in_channels,kH,KW,kD);内部默认实现了:init.kaiming_uniform_(self.weight, a=math.sqrt(5))"
   ]
  },
  {
   "cell_type": "code",
   "execution_count": 16,
   "metadata": {
    "pycharm": {
     "name": "#%%\n"
    }
   },
   "outputs": [
    {
     "data": {
      "text/plain": "Parameter containing:\ntensor([ 0.0523,  0.0704, -0.0795,  0.0530,  0.0414,  0.0342, -0.0915, -0.0028,\n        -0.0133,  0.0041,  0.0052,  0.0786,  0.0338, -0.0551,  0.0126, -0.0141,\n        -0.0130,  0.0791,  0.0141, -0.1016,  0.0845,  0.0825,  0.0352, -0.0375,\n        -0.0543,  0.0887, -0.0979, -0.0759,  0.0264,  0.0768, -0.0179,  0.0022,\n         0.0495], requires_grad=True)"
     },
     "execution_count": 16,
     "metadata": {},
     "output_type": "execute_result"
    }
   ],
   "source": [
    "con3d_c.bias  # 内部默认进行了kaiming_uniform_初始化"
   ]
  },
  {
   "cell_type": "code",
   "execution_count": 16,
   "metadata": {
    "pycharm": {
     "name": "#%%\n"
    }
   },
   "outputs": [],
   "source": [
    "\n"
   ]
  }
 ],
 "metadata": {
  "kernelspec": {
   "display_name": "Python 3",
   "language": "python",
   "name": "python3"
  },
  "language_info": {
   "codemirror_mode": {
    "name": "ipython",
    "version": 3
   },
   "file_extension": ".py",
   "mimetype": "text/x-python",
   "name": "python",
   "nbconvert_exporter": "python",
   "pygments_lexer": "ipython3",
   "version": "3.7.7"
  },
  "toc": {
   "base_numbering": 1,
   "nav_menu": {},
   "number_sections": true,
   "sideBar": true,
   "skip_h1_title": false,
   "title_cell": "Table of Contents",
   "title_sidebar": "Contents",
   "toc_cell": false,
   "toc_position": {},
   "toc_section_display": true,
   "toc_window_display": false
  }
 },
 "nbformat": 4,
 "nbformat_minor": 1
}