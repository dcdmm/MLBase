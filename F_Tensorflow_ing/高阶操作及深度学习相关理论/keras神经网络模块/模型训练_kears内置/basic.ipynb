{
 "cells": [
  {
   "cell_type": "code",
   "execution_count": 61,
   "metadata": {
    "collapsed": true
   },
   "outputs": [],
   "source": [
    "from sklearn import datasets\n",
    "from sklearn.model_selection import train_test_split\n",
    "import numpy as np\n",
    "import tensorflow as tf\n",
    "from sklearn.preprocessing import OrdinalEncoder"
   ]
  },
  {
   "cell_type": "code",
   "execution_count": 62,
   "outputs": [
    {
     "name": "stdout",
     "output_type": "stream",
     "text": [
      "(4500, 54) (4500,)\n",
      "[0. 1. 2. 3. 4. 5. 6.]\n"
     ]
    }
   ],
   "source": [
    "X = datasets.fetch_covtype().data[:5000]\n",
    "y = datasets.fetch_covtype().target[:5000]\n",
    "X_train, X_test, y_train, y_test = train_test_split(X, y, test_size=0.1)\n",
    "\n",
    "print(X_train.shape, y_train.shape)\n",
    "\n",
    "enc = OrdinalEncoder()\n",
    "y_train = enc.fit_transform(y_train.reshape(-1, 1)).reshape(-1, )\n",
    "y_test = enc.transform(y_test.reshape(-1, 1)).reshape(-1, )\n",
    "print(np.unique(y_train))  # 7分类任务\n",
    "\n",
    "X_train, X_test, y_train, y_test = tf.constant(X_train), tf.constant(X_test), tf.constant(y_train), tf.constant(y_test)"
   ],
   "metadata": {
    "collapsed": false,
    "pycharm": {
     "name": "#%%\n"
    }
   }
  },
  {
   "cell_type": "code",
   "execution_count": 63,
   "outputs": [
    {
     "name": "stdout",
     "output_type": "stream",
     "text": [
      "Model: \"model_10\"\n",
      "_________________________________________________________________\n",
      " Layer (type)                Output Shape              Param #   \n",
      "=================================================================\n",
      " input_11 (InputLayer)       [(None, 54)]              0         \n",
      "                                                                 \n",
      " dense_40 (Dense)            (None, 256)               14080     \n",
      "                                                                 \n",
      " dropout_10 (Dropout)        (None, 256)               0         \n",
      "                                                                 \n",
      " dense_41 (Dense)            (None, 128)               32896     \n",
      "                                                                 \n",
      " dense_42 (Dense)            (None, 128)               16512     \n",
      "                                                                 \n",
      " dense_43 (Dense)            (None, 7)                 903       \n",
      "                                                                 \n",
      "=================================================================\n",
      "Total params: 64,391\n",
      "Trainable params: 64,391\n",
      "Non-trainable params: 0\n",
      "_________________________________________________________________\n"
     ]
    }
   ],
   "source": [
    "inputs = tf.keras.Input(shape=(54,))\n",
    "x = tf.keras.layers.Dense(256, activation='tanh')(inputs)\n",
    "x = tf.keras.layers.Dropout(0.2)(x)\n",
    "x = tf.keras.layers.Dense(128, activation='relu')(x)\n",
    "x = tf.keras.layers.Dense(128)(x)\n",
    "predictions = tf.keras.layers.Dense(7)(x)\n",
    "model = tf.keras.Model(inputs=inputs, outputs=predictions)\n",
    "\n",
    "model.summary()"
   ],
   "metadata": {
    "collapsed": false,
    "pycharm": {
     "name": "#%%\n"
    }
   }
  },
  {
   "cell_type": "code",
   "execution_count": 64,
   "outputs": [],
   "source": [
    "# Configures the model for training.\n",
    "model.compile(optimizer=tf.keras.optimizers.Adam(learning_rate=0.001),  # 优化器\n",
    "              loss=tf.keras.losses.SparseCategoricalCrossentropy(from_logits=True),  # 损失函数\n",
    "              metrics=[tf.keras.metrics.SparseCategoricalAccuracy()])  # 评估函数(根据模型的输入与输出选择)"
   ],
   "metadata": {
    "collapsed": false,
    "pycharm": {
     "name": "#%%\n"
    }
   }
  },
  {
   "cell_type": "code",
   "execution_count": 65,
   "outputs": [
    {
     "name": "stdout",
     "output_type": "stream",
     "text": [
      "Epoch 1/10\n",
      "71/71 - 1s - loss: 1.4232 - sparse_categorical_accuracy: 0.4276 - val_loss: 1.2295 - val_sparse_categorical_accuracy: 0.4940 - 558ms/epoch - 8ms/step\n",
      "Epoch 2/10\n",
      "71/71 - 0s - loss: 1.2620 - sparse_categorical_accuracy: 0.4864 - val_loss: 1.1793 - val_sparse_categorical_accuracy: 0.5280 - 186ms/epoch - 3ms/step\n",
      "Epoch 3/10\n",
      "71/71 - 0s - loss: 1.2100 - sparse_categorical_accuracy: 0.5131 - val_loss: 1.1325 - val_sparse_categorical_accuracy: 0.5180 - 200ms/epoch - 3ms/step\n",
      "Epoch 4/10\n",
      "71/71 - 0s - loss: 1.1626 - sparse_categorical_accuracy: 0.5309 - val_loss: 1.1076 - val_sparse_categorical_accuracy: 0.5400 - 185ms/epoch - 3ms/step\n",
      "Epoch 5/10\n",
      "71/71 - 0s - loss: 1.1721 - sparse_categorical_accuracy: 0.5258 - val_loss: 1.0949 - val_sparse_categorical_accuracy: 0.5420 - 178ms/epoch - 3ms/step\n",
      "Epoch 6/10\n",
      "71/71 - 0s - loss: 1.1304 - sparse_categorical_accuracy: 0.5509 - val_loss: 1.0657 - val_sparse_categorical_accuracy: 0.5480 - 179ms/epoch - 3ms/step\n",
      "Epoch 7/10\n",
      "71/71 - 0s - loss: 1.1248 - sparse_categorical_accuracy: 0.5382 - val_loss: 1.0530 - val_sparse_categorical_accuracy: 0.5560 - 180ms/epoch - 3ms/step\n",
      "Epoch 8/10\n",
      "71/71 - 0s - loss: 1.1090 - sparse_categorical_accuracy: 0.5531 - val_loss: 1.0130 - val_sparse_categorical_accuracy: 0.5740 - 186ms/epoch - 3ms/step\n",
      "Epoch 9/10\n",
      "71/71 - 0s - loss: 1.0672 - sparse_categorical_accuracy: 0.5671 - val_loss: 1.0785 - val_sparse_categorical_accuracy: 0.5580 - 189ms/epoch - 3ms/step\n",
      "Epoch 10/10\n",
      "71/71 - 0s - loss: 1.1209 - sparse_categorical_accuracy: 0.5398 - val_loss: 1.0709 - val_sparse_categorical_accuracy: 0.5460 - 184ms/epoch - 3ms/step\n"
     ]
    },
    {
     "data": {
      "text/plain": "<keras.callbacks.History at 0x23826a5d5e0>"
     },
     "execution_count": 65,
     "metadata": {},
     "output_type": "execute_result"
    }
   ],
   "source": [
    "# Trains the model for a fixed number of epochs (iterations on a dataset).\n",
    "model.fit(X_train,  # Input data\n",
    "          y_train,  # Target data\n",
    "          # x是生成器或 tf.data.Dataset 的对象时,将忽略此参数\n",
    "          # Boolean (whether to shuffle the training data before each epoch) or str (for 'batch'). This argument is ignored when x is a generator or an object of tf.data.\n",
    "          shuffle=True,\n",
    "          # Integer or None. Number of samples per gradient update. If unspecified, batch_size will default to 32.\n",
    "          batch_size=64,\n",
    "          epochs=10,  # Integer. Number of epochs to train the model.\n",
    "          # 'auto', 0, 1, or 2. Verbosity mode. 0 = silent, 1 = progress bar, 2 = one line per epoch. 'auto' defaults to 1 for most cases\n",
    "          verbose=2,\n",
    "          # Data on which to evaluate the loss and any model metrics at the end of each epoch. The model will not be trained on this data.\n",
    "          validation_data=(X_test, y_test),\n",
    "          # Float between 0 and 1. Fraction of the training data to be used as validation data. The model will set apart this fraction of the training data, will not train on it, and will evaluate the loss and any model metrics on this data at the end of each epoch.\n",
    "          # validation_split=0.2 # 验证数据集占训练数据集的比例,取值范围为0~1\n",
    "          )"
   ],
   "metadata": {
    "collapsed": false,
    "pycharm": {
     "name": "#%%\n"
    }
   }
  },
  {
   "cell_type": "code",
   "execution_count": 66,
   "outputs": [
    {
     "data": {
      "text/plain": "dict_items([('loss', [1.4232184886932373, 1.2620054483413696, 1.209990382194519, 1.1626187562942505, 1.172075867652893, 1.1303749084472656, 1.1248104572296143, 1.1090272665023804, 1.0671584606170654, 1.1208525896072388]), ('sparse_categorical_accuracy', [0.42755556106567383, 0.4864444434642792, 0.5131111145019531, 0.5308889150619507, 0.5257777571678162, 0.5508888959884644, 0.5382221937179565, 0.5531111359596252, 0.5671111345291138, 0.5397777557373047]), ('val_loss', [1.2295498847961426, 1.179253339767456, 1.1325305700302124, 1.1075630187988281, 1.094923734664917, 1.0657413005828857, 1.053030014038086, 1.0130200386047363, 1.0785350799560547, 1.070927619934082]), ('val_sparse_categorical_accuracy', [0.49399998784065247, 0.527999997138977, 0.5180000066757202, 0.5400000214576721, 0.5419999957084656, 0.5479999780654907, 0.5559999942779541, 0.5740000009536743, 0.5580000281333923, 0.5460000038146973])])"
     },
     "execution_count": 66,
     "metadata": {},
     "output_type": "execute_result"
    }
   ],
   "source": [
    "model.history.history.items()"
   ],
   "metadata": {
    "collapsed": false,
    "pycharm": {
     "name": "#%%\n"
    }
   }
  },
  {
   "cell_type": "code",
   "execution_count": 67,
   "outputs": [
    {
     "name": "stdout",
     "output_type": "stream",
     "text": [
      "test loss: 1.070927619934082\n",
      "test acc: 0.5460000038146973\n"
     ]
    }
   ],
   "source": [
    "# Returns the loss value & metrics values for the model in test mode.\n",
    "'''\n",
    "batch_size:Integer or None. Number of samples per batch of computation. If unspecified, batch_size will default to 32. Do not specify the batch_size if your data is in the form of a dataset, generators, or keras.utils.Sequence instances (since they generate batches).\n",
    "verbose:0 or 1. Verbosity mode. 0 = silent, 1 = progress bar.\n",
    "'''\n",
    "loss, metric = model.evaluate(X_test, y_test, batch_size=32, verbose=0)\n",
    "\n",
    "print(\"test loss:\", loss)\n",
    "print(\"test acc:\", metric)"
   ],
   "metadata": {
    "collapsed": false,
    "pycharm": {
     "name": "#%%\n"
    }
   }
  },
  {
   "cell_type": "code",
   "execution_count": 68,
   "outputs": [
    {
     "name": "stdout",
     "output_type": "stream",
     "text": [
      "predictions shape: [[-1.1223283  -0.11800709  0.9677631   3.5925333   1.7195494   1.3187754\n",
      "  -4.568822  ]\n",
      " [-1.5133486  -0.04070579  1.2694695   2.8417776   1.5223855   1.6578128\n",
      "  -4.661986  ]\n",
      " [ 0.03818861  3.1082284  -2.4105046  -2.596511    8.074043   -0.9691935\n",
      "  -3.7565541 ]\n",
      " [ 4.8502693   5.601515   -4.8249006  -4.016908    1.7941378  -4.814265\n",
      "   0.26392996]\n",
      " [-0.80915546  0.7353264   0.4899541   2.7188685   0.08082309  0.9276882\n",
      "  -4.697406  ]\n",
      " [-3.4095166  -0.66610247  3.6717043   2.869455    2.0083973   2.7781773\n",
      "  -6.022371  ]\n",
      " [ 2.475797    2.521732   -3.3034635  -2.0285652   0.27793413 -2.165133\n",
      "   2.3084633 ]\n",
      " [-0.92090034  0.21772142  0.9033706   2.197664    1.6636268   1.2595314\n",
      "  -3.9238727 ]\n",
      " [-0.57327616  1.0557333   0.46287307  3.0685923   0.14112385  0.7818373\n",
      "  -4.731491  ]\n",
      " [-0.47078878  0.52693015  0.09100114  2.5435739   1.3250715   0.80692154\n",
      "  -3.128163  ]]\n"
     ]
    }
   ],
   "source": [
    "# Generates output predictions for the input samples.\n",
    "'''\n",
    "batch_size:Integer or None. Number of samples per batch. If unspecified, batch_size will default to 32. Do not specify the batch_size if your data is in the form of dataset, generators, or keras.utils.Sequence instances (since they generate batches).\n",
    "verbose:Verbosity mode, 0 or 1.\n",
    "'''\n",
    "predictions = model.predict(X_test[:10],  # 预测10条样本\n",
    "                            batch_size=32, verbose=0)\n",
    "print('predictions shape:', predictions)"
   ],
   "metadata": {
    "collapsed": false,
    "pycharm": {
     "name": "#%%\n"
    }
   }
  },
  {
   "cell_type": "code",
   "execution_count": 68,
   "outputs": [],
   "source": [],
   "metadata": {
    "collapsed": false,
    "pycharm": {
     "name": "#%%\n"
    }
   }
  }
 ],
 "metadata": {
  "kernelspec": {
   "display_name": "Python 3",
   "language": "python",
   "name": "python3"
  },
  "language_info": {
   "codemirror_mode": {
    "name": "ipython",
    "version": 2
   },
   "file_extension": ".py",
   "mimetype": "text/x-python",
   "name": "python",
   "nbconvert_exporter": "python",
   "pygments_lexer": "ipython2",
   "version": "2.7.6"
  }
 },
 "nbformat": 4,
 "nbformat_minor": 0
}