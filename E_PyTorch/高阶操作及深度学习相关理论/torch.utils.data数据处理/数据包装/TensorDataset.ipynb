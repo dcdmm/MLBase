{
 "cells": [
  {
   "cell_type": "code",
   "execution_count": 5,
   "metadata": {},
   "outputs": [
    {
     "data": {
      "text/plain": "25"
     },
     "execution_count": 5,
     "metadata": {},
     "output_type": "execute_result"
    }
   ],
   "source": [
    "import torch\n",
    "import torch.utils.data as Data\n",
    "\n",
    "x = torch.linspace(0.01, 0.1, 25)\n",
    "y = torch.linspace(1, 25, 25)\n",
    "z = torch.arange(1000, 1025)\n",
    "\n",
    "# 继承Dataset类\n",
    "# 先将数据集x,y,z(必须为tensor)打包成元组\n",
    "torch_dataset = Data.TensorDataset(x, y, z)\n",
    "len(torch_dataset)  # 调用了__len__方法"
   ]
  },
  {
   "cell_type": "code",
   "execution_count": 6,
   "outputs": [
    {
     "data": {
      "text/plain": "(tensor([0.0100, 0.0137, 0.0175, 0.0213, 0.0250, 0.0288, 0.0325, 0.0363, 0.0400,\n         0.0437, 0.0475, 0.0512, 0.0550, 0.0587, 0.0625, 0.0662, 0.0700, 0.0738,\n         0.0775, 0.0812, 0.0850, 0.0888, 0.0925, 0.0962, 0.1000]),\n tensor([ 1.,  2.,  3.,  4.,  5.,  6.,  7.,  8.,  9., 10., 11., 12., 13., 14.,\n         15., 16., 17., 18., 19., 20., 21., 22., 23., 24., 25.]),\n tensor([1000, 1001, 1002, 1003, 1004, 1005, 1006, 1007, 1008, 1009, 1010, 1011,\n         1012, 1013, 1014, 1015, 1016, 1017, 1018, 1019, 1020, 1021, 1022, 1023,\n         1024]))"
     },
     "execution_count": 6,
     "metadata": {},
     "output_type": "execute_result"
    }
   ],
   "source": [
    "torch_dataset.tensors"
   ],
   "metadata": {
    "collapsed": false,
    "pycharm": {
     "name": "#%%\n"
    }
   }
  },
  {
   "cell_type": "code",
   "execution_count": 7,
   "metadata": {
    "pycharm": {
     "name": "#%%\n"
    }
   },
   "outputs": [
    {
     "name": "stdout",
     "output_type": "stream",
     "text": [
      "(tensor(0.0100), tensor(1.), tensor(1000))\n",
      "(tensor(0.0137), tensor(2.), tensor(1001))\n",
      "(tensor(0.0175), tensor(3.), tensor(1002))\n",
      "(tensor(0.0213), tensor(4.), tensor(1003))\n",
      "(tensor(0.0250), tensor(5.), tensor(1004))\n",
      "(tensor(0.0288), tensor(6.), tensor(1005))\n",
      "(tensor(0.0325), tensor(7.), tensor(1006))\n",
      "(tensor(0.0363), tensor(8.), tensor(1007))\n",
      "(tensor(0.0400), tensor(9.), tensor(1008))\n",
      "(tensor(0.0437), tensor(10.), tensor(1009))\n",
      "(tensor(0.0475), tensor(11.), tensor(1010))\n",
      "(tensor(0.0512), tensor(12.), tensor(1011))\n",
      "(tensor(0.0550), tensor(13.), tensor(1012))\n",
      "(tensor(0.0587), tensor(14.), tensor(1013))\n",
      "(tensor(0.0625), tensor(15.), tensor(1014))\n",
      "(tensor(0.0662), tensor(16.), tensor(1015))\n",
      "(tensor(0.0700), tensor(17.), tensor(1016))\n",
      "(tensor(0.0738), tensor(18.), tensor(1017))\n",
      "(tensor(0.0775), tensor(19.), tensor(1018))\n",
      "(tensor(0.0812), tensor(20.), tensor(1019))\n",
      "(tensor(0.0850), tensor(21.), tensor(1020))\n",
      "(tensor(0.0888), tensor(22.), tensor(1021))\n",
      "(tensor(0.0925), tensor(23.), tensor(1022))\n",
      "(tensor(0.0962), tensor(24.), tensor(1023))\n",
      "(tensor(0.1000), tensor(25.), tensor(1024))\n"
     ]
    }
   ],
   "source": [
    "'''\n",
    "TensorDataset内部实现\n",
    "def __getitem__(self, index):\n",
    "    return tuple(tensor[index] for tensor in self.tensors)  # 第一个维度的索引\n",
    "'''\n",
    "for i in torch_dataset:\n",
    "    print(i)  # 调用了__getitem__方法"
   ]
  },
  {
   "cell_type": "code",
   "execution_count": 8,
   "metadata": {
    "pycharm": {
     "name": "#%%\n"
    }
   },
   "outputs": [
    {
     "data": {
      "text/plain": "(tensor([0.0100, 0.0137, 0.0175, 0.0213, 0.0250, 0.0288, 0.0325]),\n tensor([1., 2., 3., 4., 5., 6., 7.]),\n tensor([1000, 1001, 1002, 1003, 1004, 1005, 1006]))"
     },
     "execution_count": 8,
     "metadata": {},
     "output_type": "execute_result"
    }
   ],
   "source": [
    "torch_dataset[:7]  # x,y,z的前7组数据"
   ]
  },
  {
   "cell_type": "code",
   "execution_count": 9,
   "metadata": {
    "pycharm": {
     "name": "#%%\n"
    }
   },
   "outputs": [
    {
     "name": "stdout",
     "output_type": "stream",
     "text": [
      "(tensor(0.0100),)\n",
      "(tensor(0.0137),)\n",
      "(tensor(0.0175),)\n",
      "(tensor(0.0213),)\n",
      "(tensor(0.0250),)\n",
      "(tensor(0.0288),)\n",
      "(tensor(0.0325),)\n",
      "(tensor(0.0363),)\n",
      "(tensor(0.0400),)\n",
      "(tensor(0.0437),)\n",
      "(tensor(0.0475),)\n",
      "(tensor(0.0512),)\n",
      "(tensor(0.0550),)\n",
      "(tensor(0.0587),)\n",
      "(tensor(0.0625),)\n",
      "(tensor(0.0662),)\n",
      "(tensor(0.0700),)\n",
      "(tensor(0.0738),)\n",
      "(tensor(0.0775),)\n",
      "(tensor(0.0812),)\n",
      "(tensor(0.0850),)\n",
      "(tensor(0.0888),)\n",
      "(tensor(0.0925),)\n",
      "(tensor(0.0962),)\n",
      "(tensor(0.1000),)\n"
     ]
    }
   ],
   "source": [
    "torch_dataset_x = Data.TensorDataset(x)\n",
    "\n",
    "for i in torch_dataset_x:\n",
    "    print(i)  # 单个数据集也被打包成元组\n"
   ]
  }
 ],
 "metadata": {
  "kernelspec": {
   "display_name": "Python 3",
   "language": "python",
   "name": "python3"
  },
  "language_info": {
   "codemirror_mode": {
    "name": "ipython",
    "version": 3
   },
   "file_extension": ".py",
   "mimetype": "text/x-python",
   "name": "python",
   "nbconvert_exporter": "python",
   "pygments_lexer": "ipython3",
   "version": "3.7.7"
  },
  "toc": {
   "base_numbering": 1,
   "nav_menu": {},
   "number_sections": true,
   "sideBar": true,
   "skip_h1_title": false,
   "title_cell": "Table of Contents",
   "title_sidebar": "Contents",
   "toc_cell": false,
   "toc_position": {},
   "toc_section_display": true,
   "toc_window_display": false
  }
 },
 "nbformat": 4,
 "nbformat_minor": 1
}