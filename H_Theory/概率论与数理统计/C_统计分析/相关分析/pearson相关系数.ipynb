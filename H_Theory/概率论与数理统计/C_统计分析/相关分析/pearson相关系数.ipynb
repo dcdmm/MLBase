{
 "cells": [
  {
   "cell_type": "markdown",
   "source": [
    "<font color='red' size=4>适用条件:</font>    \n",
    "1. 两变量均应由测量得到的连续变量\n",
    "2. 两变量所来自的总体都应是正态分布,或接近正态的单峰对称分布\n",
    "3. 变量必须是成对的数据\n",
    "4. 两变量间为线性关系\n",
    "\n",
    "<font color='red' size=4>计算公式:</font>   \n",
    "$$ r = \\frac{{\\sum {\\left( {X - \\overline X } \\right)} \\left( {Y - \\overline Y } \\right)}}{{\\sqrt[{}]{{\\sum {{{\\left( {X - \\overline X } \\right)}^2}\\sum {{{\\left( {Y - \\overline Y } \\right)}^2}} } }}}} = \\frac{{{l_{XY}}}}{{\\sqrt[{}]{{{l_{XX}}{l_{YY}}}}}}$$   \n",
    "$X$ 的离均差平方和:&ensp;&ensp;&nbsp;    ${l_{XX}} = {\\sum {\\left( {X - \\overline X } \\right)} ^2}$   \n",
    "$Y$ 的离均差平方和:&ensp;&ensp;&nbsp;    ${l_{YY}} = {\\sum {\\left( {Y - \\overline Y } \\right)} ^2}$   \n",
    "$X$ 与 $Y$ 的离均差积和: ${l_{XY}} = \\sum {\\left( {X - \\overline X } \\right)} \\left( {Y - \\overline Y } \\right)$\n",
    "\n",
    "<font color='red' size=4>检验统计量:</font>    \n",
    "$$ t= \\frac{r\\sqrt{n-2}}{\\sqrt{1-r^2}} \\quad v=t-2 $$"
   ],
   "metadata": {
    "pycharm": {
     "metadata": false,
     "name": "#%% md\n"
    }
   }
  },
  {
   "cell_type": "code",
   "execution_count": 2,
   "outputs": [
    {
     "name": "stdout",
     "text": [
      "correlation 0.9891763198690562\npvalue 5.926875946481138e-08\n"
     ],
     "output_type": "stream"
    }
   ],
   "source": "import scipy.stats as stats  \nx = [10.35, 6.24, 3.18, 8.46, 3.21, 7.65, 4.32, 8.66, 9.12, 10.31]  \ny = [5.1, 3.15, 1.67, 4.33, 1.76, 4.11, 2.11, 4.88, 4.99, 5.12]  \ncorrelation, pvalue = stats.stats.pearsonr(x, y) \nprint ('correlation', correlation)\nprint ('pvalue', pvalue)",
   "metadata": {
    "pycharm": {
     "metadata": false,
     "name": "#%%\n",
     "is_executing": false
    }
   }
  },
  {
   "cell_type": "code",
   "execution_count": 3,
   "outputs": [
    {
     "data": {
      "text/plain": "<Figure size 432x288 with 1 Axes>",
      "image/png": "[encoded data removed]"
     },
     "metadata": {
      "needs_background": "light"
     },
     "output_type": "display_data"
    }
   ],
   "source": "import matplotlib.pyplot as plt\nplt.scatter(x,y)\nplt.show()",
   "metadata": {
    "pycharm": {
     "metadata": false,
     "name": "#%%\n",
     "is_executing": false
    }
   }
  }
 ],
 "metadata": {
  "language_info": {
   "codemirror_mode": {
    "name": "ipython",
    "version": 2
   },
   "file_extension": ".py",
   "mimetype": "text/x-python",
   "name": "python",
   "nbconvert_exporter": "python",
   "pygments_lexer": "ipython2",
   "version": "2.7.6"
  },
  "kernelspec": {
   "name": "python3",
   "language": "python",
   "display_name": "Python 3"
  },
  "stem_cell": {
   "cell_type": "raw",
   "source": "",
   "metadata": {
    "pycharm": {
     "metadata": false
    }
   }
  },
  "pycharm": {
   "stem_cell": {
    "cell_type": "raw",
    "source": [],
    "metadata": {
     "collapsed": false
    }
   }
  }
 },
 "nbformat": 4,
 "nbformat_minor": 0
}