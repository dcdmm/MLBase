{
 "cells": [
  {
   "cell_type": "code",
   "execution_count": 22,
   "metadata": {},
   "outputs": [],
   "source": [
    "import torch\n",
    "from torchtext import data"
   ]
  },
  {
   "cell_type": "code",
   "execution_count": 23,
   "metadata": {
    "pycharm": {
     "name": "#%%\n"
    }
   },
   "outputs": [],
   "source": [
    "device = torch.device('cuda' if torch.cuda.is_available() else 'cpu')\n",
    "LABEL = data.Field(sequential=False, use_vocab=False)\n",
    "TEXT = data.Field(sequential=True, lower=True)\n",
    "\n",
    "train, val = data.TabularDataset.splits(path='test_text', train='train.csv', validation='val.csv',\n",
    "                                        format='csv', skip_header=True,\n",
    "                                        fields=[('PhraseId', None), ('SentenceId', None),\n",
    "                                                ('Phrase', TEXT), ('Sentiment', LABEL)])\n",
    "\n",
    "TEXT.build_vocab(train, vectors='glove.6B.100d', vectors_cache='vector_cache/')"
   ]
  },
  {
   "cell_type": "markdown",
   "metadata": {
    "pycharm": {
     "name": "#%% md\n"
    }
   },
   "source": [
    "### 与Iterator的<font color='red'>唯一</font>区别,如下:(其他<font color='red'>完全</font>相同)"
   ]
  },
  {
   "cell_type": "code",
   "execution_count": 24,
   "outputs": [
    {
     "name": "stdout",
     "output_type": "stream",
     "text": [
      "<class 'torchtext.data.batch.Batch'>\n",
      "\n",
      "\n",
      "[torchtext.data.batch.Batch of size 12]\n",
      "\t[.Phrase]:[torch.LongTensor of size 13x12]\n",
      "\t[.Sentiment]:[torch.LongTensor of size 12]\n",
      "\n",
      "tensor([[   13,   143, 10316,    11,    66,   256,  1087,    29,    60,     5,\n",
      "           231,    23],\n",
      "        [    9,   104,  1486,     4,   147,    26,    22,  3839,   248,   130,\n",
      "            44,    14],\n",
      "        [  184,   154,    11,    18,   228,   137,   867,  3764,     2,    48,\n",
      "           150,   406],\n",
      "        [   33,   241,     4,    12,    11,    27, 14767,   158,    20,  1439,\n",
      "           188,    14],\n",
      "        [  365,    29,  2172,   267,   431,  9198,     6,    30, 14711,    16,\n",
      "            13,    21],\n",
      "        [   35,   949,  3554,     4,     5,     5, 10678,    48,   107,    13,\n",
      "            72,    32],\n",
      "        [10495,   129,     3,   573,     4,    38,    16,    85,    17,     6,\n",
      "            33,    11],\n",
      "        [   92,    44,     6,    10,  2705,   130,    17,    11,  1010,   130,\n",
      "           536,    10],\n",
      "        [   16,    95,    85,   921,   528,  2033,   680,    35,   537,    48,\n",
      "             7,   133],\n",
      "        [ 1059,    10,     9,     5,     6,   173,    25,    48,    15,   818,\n",
      "          8167,  4791],\n",
      "        [  485,     4,    32,  1675,     2,    36,     4,    85,   335,     7,\n",
      "            47,  1137],\n",
      "        [   37,   744,    95,     6,  2070,     2,  3755,    96,  4016,   116,\n",
      "             2,    17],\n",
      "        [   33,    20,  3707,   836,     3,   266,   490,   175,     8,    13,\n",
      "          2127,  1019]])\n",
      "\n",
      "torch.Size([13, 12])\n",
      "\n",
      "tensor([1, 1, 3, 3, 2, 2, 3, 1, 3, 2, 3, 2])\n"
     ]
    },
    {
     "name": "stderr",
     "output_type": "stream",
     "text": [
      "C:\\Users\\duanm\\anaconda3\\lib\\site-packages\\torchtext\\data\\batch.py:23: UserWarning: Batch class will be retired in the 0.8.0 release and moved to torchtext.legacy. Please see 0.7.0 release notes for further information.\n",
      "  warnings.warn('{} class will be retired in the 0.8.0 release and moved to torchtext.legacy. Please see 0.7.0 release notes for further information.'.format(self.__class__.__name__), UserWarning)\n"
     ]
    }
   ],
   "source": [
    "'''\n",
    "Defines an iterator that batches examples of similar lengths together\n",
    "在文本处理中经常需要将每一批样本长度补齐为当前批中最长序列的长度(fix_length=None),因此当样本长度差别较大时,使用BucketIerator可以带来填充效率的提高.\n",
    "'''\n",
    "# 继承自Iterator;也可以使用splits进行构建\n",
    "train_iterator_com = data.BucketIterator(dataset=train, device=device, batch_size=12,\n",
    "                                         shuffle=True, # 这里看需求选择是否打乱\n",
    "                                         sort_key=lambda x: len(x.Phrase),\n",
    "                                         sort_within_batch=True)\n",
    "for batch in train_iterator_com:\n",
    "    print(type(batch), end='\\n\\n')\n",
    "    print(batch, end='\\n\\n')\n",
    "    print(batch.Phrase, end='\\n\\n') # 该批次内样本长度基本完全相同\n",
    "    print(batch.Phrase.shape, end='\\n\\n')\n",
    "    print(batch.Sentiment)\n",
    "    break"
   ],
   "metadata": {
    "collapsed": false,
    "pycharm": {
     "name": "#%%\n"
    }
   }
  }
 ],
 "metadata": {
  "kernelspec": {
   "display_name": "Python 3",
   "language": "python",
   "name": "python3"
  },
  "language_info": {
   "codemirror_mode": {
    "name": "ipython",
    "version": 3
   },
   "file_extension": ".py",
   "mimetype": "text/x-python",
   "name": "python",
   "nbconvert_exporter": "python",
   "pygments_lexer": "ipython3",
   "version": "3.7.7"
  },
  "toc": {
   "base_numbering": 1,
   "nav_menu": {},
   "number_sections": true,
   "sideBar": true,
   "skip_h1_title": false,
   "title_cell": "Table of Contents",
   "title_sidebar": "Contents",
   "toc_cell": false,
   "toc_position": {},
   "toc_section_display": true,
   "toc_window_display": false
  }
 },
 "nbformat": 4,
 "nbformat_minor": 1
}