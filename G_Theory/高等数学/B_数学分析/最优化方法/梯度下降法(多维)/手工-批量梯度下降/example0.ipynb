{
 "cells": [
  {
   "cell_type": "code",
   "execution_count": 10,
   "metadata": {
    "collapsed": true,
    "pycharm": {
     "is_executing": false
    }
   },
   "outputs": [],
   "source": [
    "import matplotlib.pyplot as plt\n",
    "import numpy as np\n",
    "from sympy import *"
   ]
  },
  {
   "cell_type": "code",
   "execution_count": 11,
   "outputs": [
    {
     "data": {
      "text/plain": "array([-1.  , -0.95, -0.9 , -0.85, -0.8 , -0.75, -0.7 , -0.65, -0.6 ,\n       -0.55, -0.5 , -0.45, -0.4 , -0.35, -0.3 , -0.25, -0.2 , -0.15,\n       -0.1 , -0.05,  0.  ,  0.05,  0.1 ,  0.15,  0.2 ,  0.25,  0.3 ,\n        0.35,  0.4 ,  0.45,  0.5 ,  0.55,  0.6 ,  0.65,  0.7 ,  0.75,\n        0.8 ,  0.85,  0.9 ,  0.95,  1.  ,  1.05,  1.1 ,  1.15,  1.2 ,\n        1.25,  1.3 ,  1.35,  1.4 ,  1.45,  1.5 ,  1.55,  1.6 ,  1.65,\n        1.7 ,  1.75,  1.8 ,  1.85,  1.9 ,  1.95,  2.  ,  2.05,  2.1 ,\n        2.15,  2.2 ,  2.25,  2.3 ,  2.35,  2.4 ,  2.45,  2.5 ,  2.55,\n        2.6 ,  2.65,  2.7 ,  2.75,  2.8 ,  2.85,  2.9 ,  2.95,  3.  ,\n        3.05,  3.1 ,  3.15,  3.2 ,  3.25,  3.3 ,  3.35,  3.4 ,  3.45,\n        3.5 ,  3.55,  3.6 ,  3.65,  3.7 ,  3.75,  3.8 ,  3.85,  3.9 ,\n        3.95,  4.  ,  4.05,  4.1 ,  4.15,  4.2 ,  4.25,  4.3 ,  4.35,\n        4.4 ,  4.45,  4.5 ,  4.55,  4.6 ,  4.65,  4.7 ,  4.75,  4.8 ,\n        4.85,  4.9 ,  4.95,  5.  ,  5.05,  5.1 ,  5.15,  5.2 ,  5.25,\n        5.3 ,  5.35,  5.4 ,  5.45,  5.5 ,  5.55,  5.6 ,  5.65,  5.7 ,\n        5.75,  5.8 ,  5.85,  5.9 ,  5.95,  6.  ])"
     },
     "metadata": {},
     "output_type": "execute_result",
     "execution_count": 11
    }
   ],
   "source": [
    "plot_x = np.linspace(-1., 6., 141)\n",
    "plot_x"
   ],
   "metadata": {
    "collapsed": false,
    "pycharm": {
     "name": "#%%\n",
     "is_executing": false
    }
   }
  },
  {
   "cell_type": "code",
   "execution_count": 12,
   "outputs": [
    {
     "data": {
      "text/plain": "array([24.24472554, 23.40603562, 22.52231307, 21.5990063 , 20.64173921,\n       19.65626399, 18.64841317, 17.62405136, 16.58902721, 15.54912589,\n       14.5100227 , 13.47723815, 12.45609494, 11.45167727, 10.46879283,\n        9.51193786,  8.58526549,  7.69255779,  6.83720165,  6.0221688 ,\n        5.25      ,  4.52279372,  3.84219915,  3.20941381,  2.62518557,\n        2.08981908,  1.60318663,  1.16474305,  0.77354467,  0.42827213,\n        0.12725654, -0.13149098, -0.350247  , -0.53154081, -0.67811745,\n       -0.79289881, -0.87894351, -0.93940585, -0.97749422, -0.99642952,\n       -0.99940401, -0.98954091, -0.96985537, -0.94321701, -0.91231457,\n       -0.87962302, -0.84737339, -0.81752573, -0.79174542, -0.77138312,\n       -0.75745856, -0.75064829, -0.75127755, -0.75931646, -0.77438029,\n       -0.79573411, -0.82230159, -0.8526779 , -0.88514661, -0.91770036,\n       -0.94806511, -0.97372777, -0.9919668 , -0.99988559, -0.99444814,\n       -0.97251686, -0.93089181, -0.86635131, -0.77569313, -0.65577619,\n       -0.503562  , -0.3161556 , -0.0908456 ,  0.17485737,  0.48318385,\n        0.83607113,  1.23513129,  1.68162228,  2.17642224,  2.72000735,\n        3.31243359,  3.95332239,  4.64185063,  5.37674485,  6.15628002,\n        6.9782827 ,  7.84013875,  8.73880541,  9.67082782, 10.63235974,\n       11.61918827, 12.62676251, 13.65022573, 14.6844509 , 15.72407914,\n       16.76356085, 17.79719907, 18.81919468, 19.823693  , 20.80483143,\n       21.75678758, 22.67382751, 23.55035354, 24.38095132, 25.16043553,\n       25.88389394, 26.54672926, 27.14469857, 27.67394967, 28.13105435,\n       28.51303794, 28.81740509, 29.04216135, 29.18583055, 29.24746755,\n       29.22666654, 29.12356448, 28.93884   , 28.67370741, 28.32990623,\n       27.909686  , 27.41578684, 26.85141567, 26.2202185 , 25.52624899,\n       24.77393358, 23.96803349, 23.11360411, 22.21595189, 21.28058949,\n       20.31318924, 19.31953574, 18.30547768, 17.27687966, 16.23957424,\n       15.19931475, 14.16172936, 13.13227674, 12.11620382, 11.11850589,\n       10.14388966])"
     },
     "metadata": {},
     "output_type": "execute_result",
     "execution_count": 12
    }
   ],
   "source": [
    "x = symbols('x')\n",
    "f_x = (3*sin(x) - 2.5)**2 - 1 # 目标函数\n",
    "\n",
    "def computer_value(func, x_socre):\n",
    "    \"\"\"计算函数func在x_score上的取值\"\"\"\n",
    "    output = np.zeros_like(x_socre)\n",
    "    for i in range(len(x_socre)):\n",
    "        output[i] = func.subs({x:x_socre[i]})\n",
    "    \n",
    "    return output\n",
    "    \n",
    "plot_y = computer_value(f_x, plot_x)\n",
    "plot_y"
   ],
   "metadata": {
    "collapsed": false,
    "pycharm": {
     "name": "#%%\n",
     "is_executing": false
    }
   }
  },
  {
   "cell_type": "code",
   "execution_count": 13,
   "outputs": [
    {
     "data": {
      "text/plain": "<Figure size 432x288 with 1 Axes>",
      "image/png": "[encoded data removed]"
     },
     "metadata": {
      "needs_background": "light"
     },
     "output_type": "display_data"
    }
   ],
   "source": [
    "plt.plot(plot_x, plot_y, color='b') # 绘制目标函数\n",
    "plt.show()"
   ],
   "metadata": {
    "collapsed": false,
    "pycharm": {
     "name": "#%%\n",
     "is_executing": false
    }
   }
  },
  {
   "cell_type": "code",
   "execution_count": 14,
   "outputs": [],
   "source": [
    "def gradient_descent(func, initial_value, lr, epsilon=1e-8, n_iters = 1e5):\n",
    "    \"\"\"\n",
    "    计算函数func梯度下降过程中所有的迭代值\n",
    "    :param initial_value: 初始值\n",
    "    :param lr: 学习率(没有对学习率进行一维搜索)\n",
    "    :param epsilon: 迭代结束时必须满足的精度\n",
    "    :param n_iters: 迭代的最高轮数\n",
    "    :return: 所有迭代值所组成的数组\n",
    "    \"\"\"\n",
    "    value_history = []\n",
    "    value = initial_value\n",
    "    value_history.append(value)\n",
    "    i_iter = 0\n",
    "    while i_iter < n_iters:\n",
    "        gradient = float(diff(func, x).subs({x:value}))\n",
    "        last_value = value\n",
    "        value = value - lr * gradient # 迭代值更新过程(导数方向是函数值下降最快的方向,由泰勒展开可的)\n",
    "        value_history.append(value)\n",
    "    \n",
    "        if abs(float(func.subs({x:value})) - \n",
    "               float(func.subs({x:last_value}))) < epsilon: # 比较2次迭代值的差异,达到精度要求时跳出循环\n",
    "            break\n",
    "        \n",
    "        i_iter += 1\n",
    "    \n",
    "    return value_history\n",
    "            \n",
    "            \n",
    "def plot_value_history(value_history):\n",
    "    plt.plot(plot_x, plot_y)\n",
    "    plt.plot(np.array(value_history), computer_value(f_x, value_history),\n",
    "           color=\"r\", marker='+') # 绘制所有迭代值的运行轨迹\n",
    "    plt.show()"
   ],
   "metadata": {
    "collapsed": false,
    "pycharm": {
     "name": "#%%\n",
     "is_executing": false
    }
   }
  },
  {
   "cell_type": "code",
   "execution_count": 21,
   "outputs": [
    {
     "data": {
      "text/plain": "<Figure size 432x288 with 1 Axes>",
      "image/png": "[encoded data removed]"
     },
     "metadata": {
      "needs_background": "light"
     },
     "output_type": "display_data"
    }
   ],
   "source": [
    "lr = 0.192\n",
    "value_history = gradient_descent(f_x, -0.2, lr)\n",
    "plot_value_history(value_history)"
   ],
   "metadata": {
    "collapsed": false,
    "pycharm": {
     "name": "#%%\n",
     "is_executing": false
    }
   }
  },
  {
   "cell_type": "code",
   "execution_count": 15,
   "outputs": [],
   "source": [
    "\n"
   ],
   "metadata": {
    "collapsed": false,
    "pycharm": {
     "name": "#%%\n",
     "is_executing": false
    }
   }
  }
 ],
 "metadata": {
  "kernelspec": {
   "display_name": "Python 3",
   "language": "python",
   "name": "python3"
  },
  "language_info": {
   "codemirror_mode": {
    "name": "ipython",
    "version": 2
   },
   "file_extension": ".py",
   "mimetype": "text/x-python",
   "name": "python",
   "nbconvert_exporter": "python",
   "pygments_lexer": "ipython2",
   "version": "2.7.6"
  },
  "pycharm": {
   "stem_cell": {
    "cell_type": "raw",
    "source": [],
    "metadata": {
     "collapsed": false
    }
   }
  }
 },
 "nbformat": 4,
 "nbformat_minor": 0
}