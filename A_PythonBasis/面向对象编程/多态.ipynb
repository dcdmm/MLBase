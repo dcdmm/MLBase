{
 "cells": [
  {
   "cell_type": "markdown",
   "source": [
    "多态:不同的类,做相同的调用,产生不同的结果"
   ],
   "metadata": {
    "collapsed": false,
    "pycharm": {
     "name": "#%% md\n"
    }
   }
  },
  {
   "cell_type": "code",
   "execution_count": 12,
   "outputs": [
    {
     "name": "stdout",
     "text": [
      "--开始绘图--\n在<__main__.Canvas object at 0x00000274DB676940>上绘制矩形\n--开始绘图--\n在<__main__.Canvas object at 0x00000274DB676940>上绘制三角形\n--开始绘图--\n在<__main__.Canvas object at 0x00000274DB676940>上绘制圆形\n"
     ],
     "output_type": "stream"
    }
   ],
   "source": [
    "class Canvas:\n",
    "    def draw_pic(self, shape):\n",
    "        print('--开始绘图--')\n",
    "        shape.draw(self)     \n",
    "        \n",
    "class Rectangle:\n",
    "    def draw(self, canvas):\n",
    "        print('在%s上绘制矩形' % canvas)  \n",
    "        \n",
    "class Triangle:\n",
    "    def draw(self, canvas):\n",
    "        print('在%s上绘制三角形' % canvas)      \n",
    "        \n",
    "class Circle:\n",
    "    def draw(self, canvas):\n",
    "        print('在%s上绘制圆形' % canvas)\n",
    "        \n",
    "        \n",
    "c = Canvas()\n",
    "# 传入Rectangle参数，绘制矩形\n",
    "c.draw_pic(Rectangle())\n",
    "\n",
    "# 传入Triangle参数，绘制三角形\n",
    "c.draw_pic(Triangle())\n",
    "\n",
    "# 传入Circle参数，绘制圆形\n",
    "c.draw_pic(Circle())"
   ],
   "metadata": {
    "pycharm": {
     "metadata": false,
     "name": "#%%\n",
     "is_executing": false
    }
   }
  },
  {
   "cell_type": "code",
   "execution_count": 14,
   "outputs": [
    {
     "name": "stdout",
     "text": [
      "呱呱呱！\n这个鸭子拥有灰白灰白的羽毛。\n你才是鸭子你们全家人是鸭子！\n这个人穿着一件鸭绒大衣。\n"
     ],
     "output_type": "stream"
    },
    {
     "data": {
      "text/plain": "'\\nin_the_forest()函数对参数duck只有一个要求:就是可以实现quack()和feathers()\\n方法然而Duck类和Person类都实现了quack()和feathers()方法,因此它们的实例对象\\ndonald 和john都可以用作in_the_forest()的参数.这就是鸭子类型\\n'"
     },
     "metadata": {},
     "output_type": "execute_result",
     "execution_count": 14
    }
   ],
   "source": "# 鸭子类型(如果走起路来像鸭子,叫起来也像鸭子,那么它就是鸭子(If it walks like a duck and quacks like a duck, it must be a duck)\n# 鸭子类型例一:\nclass Duck:\n    def quack(self):\n        print(\"呱呱呱！\")\n    def feathers(self):\n        print(\"这个鸭子拥有灰白灰白的羽毛。\")\n\nclass Person:\n    def quack(self):\n        print(\"你才是鸭子你们全家人是鸭子！\")\n    def feathers(self):\n        print(\"这个人穿着一件鸭绒大衣。\")\n\ndef in_the_forest(duck):\n    duck.quack()\n    duck.feathers()\n\ndef game():\n    donald = Duck()\n    john = Person()\n    in_the_forest(donald)\n    in_the_forest(john)\n\ngame()",
   "metadata": {
    "pycharm": {
     "metadata": false,
     "name": "#%%\n",
     "is_executing": false
    }
   }
  },
  {
   "cell_type": "code",
   "execution_count": 16,
   "outputs": [
    {
     "name": "stdout",
     "text": [
      "True\nTrue\n"
     ],
     "output_type": "stream"
    }
   ],
   "source": "# 鸭子类型例二:\nclass Foo: # 任何实现了__iter__和__next__方法的对象都可称之为迭代器,但对象本身是什么类型不受限制,可以自定义为任何类\n    def __iter__(self):\n        pass\n\n    def __next__(self):\n        pass\n\nfrom collections.abc import Iterable\nfrom collections.abc import Iterator\n\nprint(isinstance(Foo(), Iterable)) # True\nprint(isinstance(Foo(), Iterator)) # True",
   "metadata": {
    "pycharm": {
     "metadata": false,
     "name": "#%%\n",
     "is_executing": false
    }
   }
  },
  {
   "cell_type": "code",
   "execution_count": null,
   "outputs": [],
   "source": "\n",
   "metadata": {
    "pycharm": {
     "metadata": false,
     "name": "#%%\n"
    }
   }
  }
 ],
 "metadata": {
  "language_info": {
   "codemirror_mode": {
    "name": "ipython",
    "version": 2
   },
   "file_extension": ".py",
   "mimetype": "text/x-python",
   "name": "python",
   "nbconvert_exporter": "python",
   "pygments_lexer": "ipython2",
   "version": "2.7.6"
  },
  "kernelspec": {
   "name": "python3",
   "language": "python",
   "display_name": "Python 3"
  },
  "pycharm": {
   "stem_cell": {
    "cell_type": "raw",
    "source": [],
    "metadata": {
     "collapsed": false
    }
   }
  }
 },
 "nbformat": 4,
 "nbformat_minor": 0
}