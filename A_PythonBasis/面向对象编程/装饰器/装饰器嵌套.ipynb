{
 "cells": [
  {
   "cell_type": "code",
   "execution_count": null,
   "metadata": {
    "pycharm": {
     "name": "#%%\n"
    }
   },
   "outputs": [],
   "source": [
    "# 装饰器嵌套(函数)\n",
    "def makeBold(fun):\n",
    "    print('----a----')\n",
    "    def inner():\n",
    "        print('----1----')\n",
    "        return '<b>' + fun() + '</b>'\n",
    "    \n",
    "    return inner\n",
    "\n",
    "def makeItalic(fun):\n",
    "    print('----b----')\n",
    "    def inner():\n",
    "        print('----2----')\n",
    "        return '<i>' + fun() + '</i>'\n",
    "    \n",
    "    return inner\n",
    "\n",
    "@makeBold\n",
    "@makeItalic \n",
    "def test(): # 等同于makeBold(makeItalic(test))\n",
    "    print('----c----')  \n",
    "    \n",
    "    return 'hello python decorator'\n",
    "    \n",
    "test()"
   ]
  },
  {
   "cell_type": "code",
   "execution_count": 148,
   "metadata": {
    "pycharm": {
     "is_executing": false,
     "metadata": false,
     "name": "#%%\n"
    }
   },
   "outputs": [
    {
     "name": "stdout",
     "output_type": "stream",
     "text": [
      "进入__init__方法\n",
      "b\n",
      "进入__init__方法\n",
      "i\n",
      "进入__call__方法\n",
      "<function hello at 0x000001F174617840>\n",
      "进入__call__方法\n",
      "<function makeHtmlTagClass.__call__.<locals>.wrapped at 0x000001F174617B70>\n",
      "进入wrapp方法\n",
      "进入wrapp方法\n",
      "进入hello方法\n",
      "now is: Hello, duanchao\n",
      "进入hello方法\n",
      "now is: <i class='italic_css'>Hello, duanchao</i>\n",
      "进入wrapp方法\n",
      "进入hello方法\n",
      "now is: Hello, duanchao\n",
      "进入hello方法\n"
     ]
    },
    {
     "data": {
      "text/plain": [
       "\"<b class='bold_css'><i class='italic_css'>Hello, duanchao</i></b>\""
      ]
     },
     "execution_count": 148,
     "metadata": {},
     "output_type": "execute_result"
    }
   ],
   "source": [
    "# 装饰器嵌套(类)\n",
    "class makeHtmlTagClass(object):\n",
    "    def __init__(self, tag, css_class=\"\"):\n",
    "        print('进入__init__方法')\n",
    "        print(tag)\n",
    "        self._tag = tag\n",
    "        self._css_class = \" class='{0}'\".format(css_class) if \\\n",
    "            css_class != \"\" else \"\"\n",
    "    \n",
    "    def __call__(self, fn):\n",
    "        print('进入__call__方法')\n",
    "        print(fn)\n",
    "        def wrapped(*args, **kwargs):\n",
    "            print('进入wrapp方法')\n",
    "            print('now is:', fn(*args, **kwargs))\n",
    "            return \"<\" + self._tag + self._css_class + \">\" \\\n",
    "\t\t\t\t   + fn(*args, **kwargs) + \"</\" + self._tag + \">\"\n",
    "    \n",
    "        return wrapped\n",
    "\n",
    "@makeHtmlTagClass(tag=\"b\", css_class=\"bold_css\")\n",
    "@makeHtmlTagClass(tag=\"i\", css_class=\"italic_css\")\n",
    "def hello(name):  \n",
    "    # 等同于:makeHtmlTagClass(tag=\"b\", css_class=\"bold_css\")(makeHtmlTagClass(tag=\"i\", css_class=\"italic_css\")(hello))\n",
    "    print('进入hello方法')\n",
    "    return \"Hello, {0}\".format(name)\n",
    "\n",
    "hello('duanchao') # 等同于:makeHtmlTagClass(tag=\"b\", css_class=\"bold_css\")(makeHtmlTagClass(tag=\"i\", css_class=\"italic_css\")(hello))('duanchao')('duanchao')"
   ]
  },
  {
   "cell_type": "code",
   "execution_count": null,
   "metadata": {
    "pycharm": {
     "metadata": false,
     "name": "#%%\n"
    }
   },
   "outputs": [],
   "source": [
    "\n"
   ]
  }
 ],
 "metadata": {
  "kernelspec": {
   "display_name": "Python 3",
   "language": "python",
   "name": "python3"
  },
  "language_info": {
   "codemirror_mode": {
    "name": "ipython",
    "version": 3
   },
   "file_extension": ".py",
   "mimetype": "text/x-python",
   "name": "python",
   "nbconvert_exporter": "python",
   "pygments_lexer": "ipython3",
   "version": "3.7.7"
  },
  "pycharm": {
   "stem_cell": {
    "cell_type": "raw",
    "metadata": {
     "collapsed": false
    },
    "source": []
   }
  },
  "toc": {
   "base_numbering": 1,
   "nav_menu": {},
   "number_sections": true,
   "sideBar": true,
   "skip_h1_title": false,
   "title_cell": "Table of Contents",
   "title_sidebar": "Contents",
   "toc_cell": false,
   "toc_position": {},
   "toc_section_display": true,
   "toc_window_display": false
  }
 },
 "nbformat": 4,
 "nbformat_minor": 1
}
