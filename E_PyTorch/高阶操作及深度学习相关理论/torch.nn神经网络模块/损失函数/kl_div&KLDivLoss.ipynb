{
 "cells": [
  {
   "cell_type": "markdown",
   "metadata": {
    "collapsed": true,
    "pycharm": {
     "name": "#%% md\n"
    }
   },
   "source": [
    "For tensors of the same shape $y_{\\text{pred}},\\ y_{\\text{true}} $, where $y_{\\text{pred}}$ is the input\n",
    "and $ y_{\\text{true}} $ is the target, we define the pointwise KL-divergence as\n",
    "\n",
    "$$ L\\left(y_{\\text {pred }}, y_{\\text {true }}\\right)=y_{\\text {true }} \\cdot \\log \\frac{y_{\\text {true }}}{y_{\\text {pred }}}=y_{\\text {true }} \\cdot\\left(\\log y_{\\text {true }}-\\log y_{\\text {pred }}\\right) $$\n",
    "\n",
    "To summarise, this function is roughly equivalent to computing\n",
    "\n",
    "```python\n",
    "if not log_target: # default\n",
    "    loss_pointwise = target * (target.log() - input)\n",
    "else:\n",
    "    loss_pointwise = target.exp() * (target - input)\n",
    "```\n",
    "\n",
    "and then reducing this result depending on the argument reduction as\n",
    "\n",
    "```python\n",
    "if reduction == \"mean\":  # default\n",
    "    loss = loss_pointwise.mean()\n",
    "elif reduction == \"batchmean\":  # mathematically correct\n",
    "    loss = loss_pointwise.sum() / input.size(0)\n",
    "elif reduction == \"sum\":\n",
    "    loss = loss_pointwise.sum()\n",
    "else:  # reduction == \"none\"\n",
    "    loss = loss_pointwise\n",
    "```"
   ]
  },
  {
   "cell_type": "code",
   "execution_count": 28,
   "outputs": [],
   "source": [
    "import torch.nn as nn\n",
    "import torch.nn.functional as F\n",
    "import torch"
   ],
   "metadata": {
    "collapsed": false,
    "pycharm": {
     "name": "#%%\n"
    }
   }
  },
  {
   "cell_type": "code",
   "execution_count": 29,
   "outputs": [],
   "source": [
    "input = F.log_softmax(torch.randn(3, 5), dim=1)\n",
    "target = F.softmax(torch.rand(3, 5), dim=1)"
   ],
   "metadata": {
    "collapsed": false,
    "pycharm": {
     "name": "#%%\n"
    }
   }
  },
  {
   "cell_type": "code",
   "execution_count": 30,
   "outputs": [
    {
     "data": {
      "text/plain": "tensor(0.5952)"
     },
     "execution_count": 30,
     "metadata": {},
     "output_type": "execute_result"
    }
   ],
   "source": [
    "# KL散度\n",
    "F.kl_div(input=input, target=target, reduction='batchmean',\n",
    "         log_target=True)  # 默认log_target=False"
   ],
   "metadata": {
    "collapsed": false,
    "pycharm": {
     "name": "#%%\n"
    }
   }
  },
  {
   "cell_type": "code",
   "execution_count": 31,
   "outputs": [
    {
     "data": {
      "text/plain": "tensor(0.5952)"
     },
     "execution_count": 31,
     "metadata": {},
     "output_type": "execute_result"
    }
   ],
   "source": [
    "kl_loss = nn.KLDivLoss(reduction=\"batchmean\")\n",
    "output_nn = kl_loss(input, target)\n",
    "output_nn"
   ],
   "metadata": {
    "collapsed": false,
    "pycharm": {
     "name": "#%%\n"
    }
   }
  }
 ],
 "metadata": {
  "kernelspec": {
   "display_name": "Python 3",
   "language": "python",
   "name": "python3"
  },
  "language_info": {
   "codemirror_mode": {
    "name": "ipython",
    "version": 2
   },
   "file_extension": ".py",
   "mimetype": "text/x-python",
   "name": "python",
   "nbconvert_exporter": "python",
   "pygments_lexer": "ipython2",
   "version": "2.7.6"
  }
 },
 "nbformat": 4,
 "nbformat_minor": 0
}