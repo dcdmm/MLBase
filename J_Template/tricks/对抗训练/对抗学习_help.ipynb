{
 "cells": [
  {
   "cell_type": "markdown",
   "metadata": {
    "collapsed": true,
    "pycharm": {
     "name": "#%% md\n"
    }
   },
   "source": [
    "### 对抗训练的基本概念\n",
    "\n",
    "GAN之父Ian J. Goodfellow在论文EXPLAINING AND HARNESSING ADVERSARIAL EXAMPLES(ICLR 2015)第一次提出了对抗训练的概念,\n",
    "简而言之,就是在原始输入样本$x$上加一个扰动$\\Delta x$,得到对抗样本后,用其进行训练.用模型表示为:\n",
    "\n",
    "$$ \\max _{\\theta} P(y \\mid x+\\Delta x ; \\theta) $$\n",
    "\n",
    "其中,$y$为ground truth,$\\theta$为模型参数.\n",
    "\n",
    "Goodfellow认为:神经网络由于其线性的特点,很容易受到线性扰动的攻击.于是,该论文提出了Fast Gradinet Sign Method(FGSM),来计算输入样本的扰动.扰动的定义为:\n",
    "\n",
    "$$ \\Delta x=\\epsilon \\cdot \\operatorname{sign}\\left(\\nabla_{x} L(x, y ; \\theta)\\right) $$\n",
    "\n",
    "其中,$\\operatorname{sign}$为符号函数,$L$为损失函数.\n",
    "\n",
    "### Min-Max 公式\n",
    "\n",
    "Madry在论文Towards Deep Learning Models Resistant to Adversarial Attacks(ICLR 2018)中总结了之前的工作.总的来说,对抗训练可以统一写成如下格式:\n",
    "\n",
    "$$ \\min _{\\theta} \\mathbb{E}_{(x, y) \\sim \\mathcal{D}}\\left[\\max _{\\Delta x \\in \\Omega} L(x+\\Delta x, y ; \\theta)\\right] $$\n",
    "\n",
    "其中$\\mathcal{D}$代表数据集,$x$代表输入,$y$代表标签,$\\theta$是模型参数,$L(x, y, \\theta)$是单个样本的loss,$\\Delta$是扰动,$\\Omega$是扰动空间.\n",
    "\n",
    "### Fast Gradient Method(FGM)\n",
    "\n",
    "Goodfellow在论文ADVERSARIAL TRAINING METHODS FOR SEMI-SUPERVISED TEXT CLASSIFICATION(ICLR 2017)对FGSM中计算扰动的部分做了一点简单的修改.\n",
    "假设输入文本序列的Embedding vectors $\\left[v_{1}, v_{2}, \\ldots, v_{T}\\right] $为$X$,Embedding的扰动为\n",
    "\n",
    "$$\n",
    "\\begin{aligned}\n",
    "\\Delta x &=\\epsilon \\cdot \\frac{g}{\\|g\\|_{2}} \\\\\n",
    "g &=\\nabla_{x} L(x, y ; \\theta)\n",
    "\\end{aligned}\n",
    "$$\n",
    "\n",
    "实际上就是取消了符号函数,用二范式做了一个scale.\n",
    "\n",
    "### Projected Gradient Descent(FGD)\n",
    "\n",
    "Aleksander Madry在论文Towards Deep Learning Models Resistant to Adversarial Attacks(ICLR 2018)中提出了Projected Gradient Descent(PGD)方法,\n",
    "简单的说,就是\"小步走,多走几步\",如果走出了扰动半径为$\\epsilon$的空间(即扰动的二范数小于$\\epsilon$),就重新映射回\"球面\"上,以保证扰动不要过大.\n",
    "\n",
    "$$\n",
    "\\begin{aligned}\n",
    "x_{t+1} &=\\prod_{x+S}\\left(x_{t}+\\alpha \\frac{g\\left(x_{t}\\right)}{\\left\\|g\\left(x_{t}\\right)\\right\\|_{2}}\\right) \\\\\n",
    "g\\left(x_{t}\\right) &=\\nabla_{x} L\\left(x_{t}, y ; \\theta\\right)\n",
    "\\end{aligned}\n",
    "$$\n",
    "\n",
    "其中$S=\\left\\{r \\in \\mathbb{R}^{d}:\\|r\\|_{2} \\leq \\epsilon\\right\\}$为扰动的约束空间,$\\alpha$为小步的步长\n"
   ]
  }
 ],
 "metadata": {
  "kernelspec": {
   "display_name": "Python 3",
   "language": "python",
   "name": "python3"
  },
  "language_info": {
   "codemirror_mode": {
    "name": "ipython",
    "version": 2
   },
   "file_extension": ".py",
   "mimetype": "text/x-python",
   "name": "python",
   "nbconvert_exporter": "python",
   "pygments_lexer": "ipython2",
   "version": "2.7.6"
  }
 },
 "nbformat": 4,
 "nbformat_minor": 0
}