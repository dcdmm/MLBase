{
 "cells": [
  {
   "cell_type": "code",
   "execution_count": 98,
   "metadata": {
    "collapsed": true
   },
   "outputs": [],
   "source": [
    "import tensorflow as tf"
   ]
  },
  {
   "cell_type": "code",
   "execution_count": 102,
   "outputs": [],
   "source": [
    "class Linear_0(tf.keras.layers.Layer):  # 继承自:tf.keras.layers.Layer\n",
    "    \"\"\"自定义全连接层方法一\"\"\"\n",
    "\n",
    "    def __init__(self, units, input_dim, name='dcdmm'):\n",
    "        super(Linear_0, self).__init__(name=name)\n",
    "        w_init = tf.random_normal_initializer()\n",
    "        self.w = tf.Variable(initial_value=w_init(shape=(input_dim, units),\n",
    "                                                  dtype=tf.float32),\n",
    "                             trainable=True)\n",
    "        b_init = tf.zeros_initializer()\n",
    "        self.b = tf.Variable(initial_value=b_init(shape=(units,),\n",
    "                                                  dtype=tf.float32),\n",
    "                             trainable=True)\n",
    "\n",
    "    def call(self, inputs):\n",
    "        return tf.matmul(inputs, self.w) + self.b\n",
    "\n",
    "\n",
    "class Linear_1(tf.keras.layers.Layer):\n",
    "    \"\"\"自定义全连接层方式二\"\"\"\n",
    "\n",
    "    def __init__(self, units, input_dim, name='dcdmm'):\n",
    "        super(Linear_1, self).__init__(name=name)\n",
    "        # Adds a new variable to the layer.\n",
    "        self.w = self.add_weight(shape=(input_dim, units),\n",
    "                                 initializer=tf.random_normal_initializer,\n",
    "                                 trainable=True)\n",
    "        self.b = self.add_weight(shape=(units,),\n",
    "                                 initializer=tf.zeros_initializer,\n",
    "                                 trainable=True)\n",
    "\n",
    "    def call(self, inputs):\n",
    "        return tf.matmul(inputs, self.w) + self.b\n",
    "\n",
    "\n",
    "class Linear_2(tf.keras.layers.Layer):\n",
    "    \"\"\"自定义全连接层方式三\"\"\"\n",
    "\n",
    "    def __init__(self, units, name=\"dcdmm\"):\n",
    "        \"\"\"__init__ , where you can do all input-independent initialization\"\"\"\n",
    "        super(Linear_2, self).__init__(name=name)\n",
    "        self.units = units\n",
    "\n",
    "    def build(self, input_shape):\n",
    "        \"\"\"build, where you know the shapes of the input tensors and can do the rest of the initialization\"\"\"\n",
    "        print(\"input_shape:\", input_shape)\n",
    "        self.w = self.add_weight(shape=(input_shape[-1], self.units),\n",
    "                                 initializer='random_normal',\n",
    "                                 trainable=True)\n",
    "        self.b = self.add_weight(shape=(self.units,),\n",
    "                                 initializer='random_normal',\n",
    "                                 trainable=True)\n",
    "\n",
    "    def call(self, inputs):\n",
    "        \"\"\"call, where you do the forward computation\"\"\"\n",
    "        return tf.matmul(inputs, self.w) + self.b"
   ],
   "metadata": {
    "collapsed": false,
    "pycharm": {
     "name": "#%%\n"
    }
   }
  },
  {
   "cell_type": "code",
   "execution_count": 103,
   "outputs": [
    {
     "name": "stdout",
     "output_type": "stream",
     "text": [
      "tf.Tensor(\n",
      "[[ 0.05823753  0.02533753 -0.06461746 -0.00608682]\n",
      " [ 0.05823753  0.02533753 -0.06461746 -0.00608682]], shape=(2, 4), dtype=float32)\n",
      "\n",
      "tf.Tensor(\n",
      "[[ 0.00143165 -0.06142656  0.02683384 -0.09348118]\n",
      " [ 0.00143165 -0.06142656  0.02683384 -0.09348118]], shape=(2, 4), dtype=float32)\n",
      "\n",
      "input_shape: (2, 2)\n",
      "23\n",
      "tf.Tensor(\n",
      "[[0.02280284 0.13814521 0.04022688 0.04280937]\n",
      " [0.02280284 0.13814521 0.04022688 0.04280937]], shape=(2, 4), dtype=float32)\n",
      "\n",
      "input_shape: (None, 2)\n"
     ]
    }
   ],
   "source": [
    "x = tf.ones((2, 2))\n",
    "\n",
    "linear_layer_0 = Linear_0(4, 2)\n",
    "y_0 = linear_layer_0(x)\n",
    "print(y_0, end='\\n\\n')\n",
    "\n",
    "linear_layer_1 = Linear_1(4, 2)\n",
    "y_1 = linear_layer_1(x)\n",
    "print(y_1, end='\\n\\n')\n",
    "\n",
    "linear_layer_2 = Linear_2(4)\n",
    "y_2 = linear_layer_2(x)  # 进入build函数\n",
    "print(y_2, end='\\n\\n')\n",
    "\n",
    "linear_layer_2_1 = Linear_2(4)\n",
    "linear_layer_2_1.build(input_shape=(None, 2))  # 进入build函数"
   ],
   "metadata": {
    "collapsed": false,
    "pycharm": {
     "name": "#%%\n"
    }
   }
  },
  {
   "cell_type": "code",
   "execution_count": 101,
   "outputs": [
    {
     "name": "stdout",
     "output_type": "stream",
     "text": [
      "weight: [<tf.Variable 'dcdmm/Variable:0' shape=(2, 4) dtype=float32, numpy=\n",
      "array([[ 0.07897102, -0.01195054,  0.00275214, -0.0507881 ],\n",
      "       [-0.07438576, -0.00409146,  0.03593483, -0.02142463]],\n",
      "      dtype=float32)>, <tf.Variable 'dcdmm/Variable:0' shape=(4,) dtype=float32, numpy=array([0.00342475, 0.0139913 , 0.0307123 , 0.07513855], dtype=float32)>]\n",
      "non-trainable weight: []\n",
      "trainable weight: [<tf.Variable 'dcdmm/Variable:0' shape=(2, 4) dtype=float32, numpy=\n",
      "array([[ 0.07897102, -0.01195054,  0.00275214, -0.0507881 ],\n",
      "       [-0.07438576, -0.00409146,  0.03593483, -0.02142463]],\n",
      "      dtype=float32)>, <tf.Variable 'dcdmm/Variable:0' shape=(4,) dtype=float32, numpy=array([0.00342475, 0.0139913 , 0.0307123 , 0.07513855], dtype=float32)>]\n",
      "name: dcdmm\n"
     ]
    }
   ],
   "source": [
    "# The concatenation of the lists trainable_weights and non_trainable_weights (in this order).\n",
    "print('weight:', linear_layer_2.weights)\n",
    "# List of variables that should not be included in backprop.\n",
    "print('non-trainable weight:', linear_layer_2.non_trainable_weights)\n",
    "# List of variables to be included in backprop.\n",
    "print('trainable weight:', linear_layer_2.trainable_weights)\n",
    "# The name of the layer (string).\n",
    "print('name:', linear_layer_2.name)"
   ],
   "metadata": {
    "collapsed": false,
    "pycharm": {
     "name": "#%%\n"
    }
   }
  },
  {
   "cell_type": "code",
   "execution_count": 101,
   "outputs": [],
   "source": [],
   "metadata": {
    "collapsed": false,
    "pycharm": {
     "name": "#%%\n"
    }
   }
  }
 ],
 "metadata": {
  "kernelspec": {
   "display_name": "Python 3",
   "language": "python",
   "name": "python3"
  },
  "language_info": {
   "codemirror_mode": {
    "name": "ipython",
    "version": 2
   },
   "file_extension": ".py",
   "mimetype": "text/x-python",
   "name": "python",
   "nbconvert_exporter": "python",
   "pygments_lexer": "ipython2",
   "version": "2.7.6"
  }
 },
 "nbformat": 4,
 "nbformat_minor": 0
}