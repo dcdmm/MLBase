{
 "cells": [
  {
   "cell_type": "code",
   "execution_count": 1,
   "outputs": [],
   "source": [
    "import numpy as np\n",
    "import  pandas as pd"
   ],
   "metadata": {
    "collapsed": false,
    "pycharm": {
     "name": "#%%\n"
    }
   }
  },
  {
   "cell_type": "code",
   "execution_count": 2,
   "outputs": [
    {
     "data": {
      "text/plain": "         class  max_speed\nfalcon    bird      389.0\nparrot    bird       24.0\nlion    mammal       80.5\nmonkey  mammal        NaN",
      "text/html": "<div>\n<style scoped>\n    .dataframe tbody tr th:only-of-type {\n        vertical-align: middle;\n    }\n\n    .dataframe tbody tr th {\n        vertical-align: top;\n    }\n\n    .dataframe thead th {\n        text-align: right;\n    }\n</style>\n<table border=\"1\" class=\"dataframe\">\n  <thead>\n    <tr style=\"text-align: right;\">\n      <th></th>\n      <th>class</th>\n      <th>max_speed</th>\n    </tr>\n  </thead>\n  <tbody>\n    <tr>\n      <th>falcon</th>\n      <td>bird</td>\n      <td>389.0</td>\n    </tr>\n    <tr>\n      <th>parrot</th>\n      <td>bird</td>\n      <td>24.0</td>\n    </tr>\n    <tr>\n      <th>lion</th>\n      <td>mammal</td>\n      <td>80.5</td>\n    </tr>\n    <tr>\n      <th>monkey</th>\n      <td>mammal</td>\n      <td>NaN</td>\n    </tr>\n  </tbody>\n</table>\n</div>"
     },
     "execution_count": 2,
     "metadata": {},
     "output_type": "execute_result"
    }
   ],
   "source": [
    "df = pd.DataFrame([('bird', 389.0),\n",
    "                    ('bird', 24.0),\n",
    "                    ('mammal', 80.5),\n",
    "                    ('mammal', np.nan)],\n",
    "                   index=['falcon', 'parrot', 'lion', 'monkey'],\n",
    "                   columns=('class', 'max_speed'))\n",
    "df"
   ],
   "metadata": {
    "collapsed": false,
    "pycharm": {
     "name": "#%%\n"
    }
   }
  },
  {
   "cell_type": "code",
   "execution_count": 3,
   "outputs": [
    {
     "data": {
      "text/plain": "    index   class  max_speed\n0  falcon    bird      389.0\n1  parrot    bird       24.0\n2    lion  mammal       80.5\n3  monkey  mammal        NaN",
      "text/html": "<div>\n<style scoped>\n    .dataframe tbody tr th:only-of-type {\n        vertical-align: middle;\n    }\n\n    .dataframe tbody tr th {\n        vertical-align: top;\n    }\n\n    .dataframe thead th {\n        text-align: right;\n    }\n</style>\n<table border=\"1\" class=\"dataframe\">\n  <thead>\n    <tr style=\"text-align: right;\">\n      <th></th>\n      <th>index</th>\n      <th>class</th>\n      <th>max_speed</th>\n    </tr>\n  </thead>\n  <tbody>\n    <tr>\n      <th>0</th>\n      <td>falcon</td>\n      <td>bird</td>\n      <td>389.0</td>\n    </tr>\n    <tr>\n      <th>1</th>\n      <td>parrot</td>\n      <td>bird</td>\n      <td>24.0</td>\n    </tr>\n    <tr>\n      <th>2</th>\n      <td>lion</td>\n      <td>mammal</td>\n      <td>80.5</td>\n    </tr>\n    <tr>\n      <th>3</th>\n      <td>monkey</td>\n      <td>mammal</td>\n      <td>NaN</td>\n    </tr>\n  </tbody>\n</table>\n</div>"
     },
     "execution_count": 3,
     "metadata": {},
     "output_type": "execute_result"
    }
   ],
   "source": [
    "df.reset_index()"
   ],
   "metadata": {
    "pycharm": {
     "metadata": false,
     "name": "#%%\n"
    }
   }
  },
  {
   "cell_type": "code",
   "execution_count": 4,
   "outputs": [
    {
     "data": {
      "text/plain": "    class  max_speed\n0    bird      389.0\n1    bird       24.0\n2  mammal       80.5\n3  mammal        NaN",
      "text/html": "<div>\n<style scoped>\n    .dataframe tbody tr th:only-of-type {\n        vertical-align: middle;\n    }\n\n    .dataframe tbody tr th {\n        vertical-align: top;\n    }\n\n    .dataframe thead th {\n        text-align: right;\n    }\n</style>\n<table border=\"1\" class=\"dataframe\">\n  <thead>\n    <tr style=\"text-align: right;\">\n      <th></th>\n      <th>class</th>\n      <th>max_speed</th>\n    </tr>\n  </thead>\n  <tbody>\n    <tr>\n      <th>0</th>\n      <td>bird</td>\n      <td>389.0</td>\n    </tr>\n    <tr>\n      <th>1</th>\n      <td>bird</td>\n      <td>24.0</td>\n    </tr>\n    <tr>\n      <th>2</th>\n      <td>mammal</td>\n      <td>80.5</td>\n    </tr>\n    <tr>\n      <th>3</th>\n      <td>mammal</td>\n      <td>NaN</td>\n    </tr>\n  </tbody>\n</table>\n</div>"
     },
     "execution_count": 4,
     "metadata": {},
     "output_type": "execute_result"
    }
   ],
   "source": [
    "'''\n",
    "drop : bool, default False\n",
    "    Do not try to insert index into dataframe columns. This resets\n",
    "    the index to the default integer index.\n",
    "'''\n",
    "df.reset_index(drop=True)"
   ],
   "metadata": {
    "pycharm": {
     "metadata": false,
     "name": "#%%\n"
    }
   }
  },
  {
   "cell_type": "code",
   "execution_count": 5,
   "outputs": [
    {
     "data": {
      "text/plain": "                speed   max\n              species  type\nclass  name                \nbird   falcon   389.0   fly\n       parrot    24.0   fly\nmammal lion      80.5   run\n       monkey     NaN  jump",
      "text/html": "<div>\n<style scoped>\n    .dataframe tbody tr th:only-of-type {\n        vertical-align: middle;\n    }\n\n    .dataframe tbody tr th {\n        vertical-align: top;\n    }\n\n    .dataframe thead tr th {\n        text-align: left;\n    }\n\n    .dataframe thead tr:last-of-type th {\n        text-align: right;\n    }\n</style>\n<table border=\"1\" class=\"dataframe\">\n  <thead>\n    <tr>\n      <th></th>\n      <th></th>\n      <th>speed</th>\n      <th>max</th>\n    </tr>\n    <tr>\n      <th></th>\n      <th></th>\n      <th>species</th>\n      <th>type</th>\n    </tr>\n    <tr>\n      <th>class</th>\n      <th>name</th>\n      <th></th>\n      <th></th>\n    </tr>\n  </thead>\n  <tbody>\n    <tr>\n      <th rowspan=\"2\" valign=\"top\">bird</th>\n      <th>falcon</th>\n      <td>389.0</td>\n      <td>fly</td>\n    </tr>\n    <tr>\n      <th>parrot</th>\n      <td>24.0</td>\n      <td>fly</td>\n    </tr>\n    <tr>\n      <th rowspan=\"2\" valign=\"top\">mammal</th>\n      <th>lion</th>\n      <td>80.5</td>\n      <td>run</td>\n    </tr>\n    <tr>\n      <th>monkey</th>\n      <td>NaN</td>\n      <td>jump</td>\n    </tr>\n  </tbody>\n</table>\n</div>"
     },
     "execution_count": 5,
     "metadata": {},
     "output_type": "execute_result"
    }
   ],
   "source": [
    "index = pd.MultiIndex.from_arrays([['bird', 'bird', 'mammal', 'mammal'],\n",
    "                                   ['falcon', 'parrot', 'lion', 'monkey']],\n",
    "                                   names=['class', 'name'])\n",
    "columns = pd.MultiIndex.from_arrays([['speed', 'max'],\n",
    "                                      ['species', 'type']])\n",
    "df1 = pd.DataFrame([(389.0, 'fly'),\n",
    "                    ( 24.0, 'fly'),\n",
    "                    ( 80.5, 'run'),\n",
    "                    (np.nan, 'jump')],\n",
    "                   index=index,\n",
    "                   columns=columns)\n",
    "df1"
   ],
   "metadata": {
    "pycharm": {
     "metadata": false,
     "name": "#%%\n"
    }
   }
  },
  {
   "cell_type": "code",
   "execution_count": 6,
   "outputs": [
    {
     "data": {
      "text/plain": "MultiIndex([('class',        ''),\n            ( 'name',        ''),\n            ('speed', 'species'),\n            (  'max',    'type')],\n           )"
     },
     "execution_count": 6,
     "metadata": {},
     "output_type": "execute_result"
    }
   ],
   "source": [
    "df1.reset_index().columns "
   ],
   "metadata": {
    "pycharm": {
     "metadata": false,
     "name": "#%%\n"
    }
   }
  },
  {
   "cell_type": "code",
   "execution_count": 7,
   "outputs": [
    {
     "data": {
      "text/plain": "    class    name   speed   max\n                  species  type\n0    bird  falcon   389.0   fly\n1    bird  parrot    24.0   fly\n2  mammal    lion    80.5   run\n3  mammal  monkey     NaN  jump",
      "text/html": "<div>\n<style scoped>\n    .dataframe tbody tr th:only-of-type {\n        vertical-align: middle;\n    }\n\n    .dataframe tbody tr th {\n        vertical-align: top;\n    }\n\n    .dataframe thead tr th {\n        text-align: left;\n    }\n</style>\n<table border=\"1\" class=\"dataframe\">\n  <thead>\n    <tr>\n      <th></th>\n      <th>class</th>\n      <th>name</th>\n      <th>speed</th>\n      <th>max</th>\n    </tr>\n    <tr>\n      <th></th>\n      <th></th>\n      <th></th>\n      <th>species</th>\n      <th>type</th>\n    </tr>\n  </thead>\n  <tbody>\n    <tr>\n      <th>0</th>\n      <td>bird</td>\n      <td>falcon</td>\n      <td>389.0</td>\n      <td>fly</td>\n    </tr>\n    <tr>\n      <th>1</th>\n      <td>bird</td>\n      <td>parrot</td>\n      <td>24.0</td>\n      <td>fly</td>\n    </tr>\n    <tr>\n      <th>2</th>\n      <td>mammal</td>\n      <td>lion</td>\n      <td>80.5</td>\n      <td>run</td>\n    </tr>\n    <tr>\n      <th>3</th>\n      <td>mammal</td>\n      <td>monkey</td>\n      <td>NaN</td>\n      <td>jump</td>\n    </tr>\n  </tbody>\n</table>\n</div>"
     },
     "execution_count": 7,
     "metadata": {},
     "output_type": "execute_result"
    }
   ],
   "source": [
    "df1.reset_index()"
   ],
   "metadata": {
    "pycharm": {
     "metadata": false,
     "name": "#%%\n"
    }
   }
  },
  {
   "cell_type": "code",
   "execution_count": 8,
   "outputs": [
    {
     "data": {
      "text/plain": "         class   speed   max\n               species  type\nname                        \nfalcon    bird   389.0   fly\nparrot    bird    24.0   fly\nlion    mammal    80.5   run\nmonkey  mammal     NaN  jump",
      "text/html": "<div>\n<style scoped>\n    .dataframe tbody tr th:only-of-type {\n        vertical-align: middle;\n    }\n\n    .dataframe tbody tr th {\n        vertical-align: top;\n    }\n\n    .dataframe thead tr th {\n        text-align: left;\n    }\n\n    .dataframe thead tr:last-of-type th {\n        text-align: right;\n    }\n</style>\n<table border=\"1\" class=\"dataframe\">\n  <thead>\n    <tr>\n      <th></th>\n      <th>class</th>\n      <th>speed</th>\n      <th>max</th>\n    </tr>\n    <tr>\n      <th></th>\n      <th></th>\n      <th>species</th>\n      <th>type</th>\n    </tr>\n    <tr>\n      <th>name</th>\n      <th></th>\n      <th></th>\n      <th></th>\n    </tr>\n  </thead>\n  <tbody>\n    <tr>\n      <th>falcon</th>\n      <td>bird</td>\n      <td>389.0</td>\n      <td>fly</td>\n    </tr>\n    <tr>\n      <th>parrot</th>\n      <td>bird</td>\n      <td>24.0</td>\n      <td>fly</td>\n    </tr>\n    <tr>\n      <th>lion</th>\n      <td>mammal</td>\n      <td>80.5</td>\n      <td>run</td>\n    </tr>\n    <tr>\n      <th>monkey</th>\n      <td>mammal</td>\n      <td>NaN</td>\n      <td>jump</td>\n    </tr>\n  </tbody>\n</table>\n</div>"
     },
     "execution_count": 8,
     "metadata": {},
     "output_type": "execute_result"
    }
   ],
   "source": [
    "'''\n",
    "level : int, str, tuple, or list, default None\n",
    "    Only remove the given levels from the index. Removes all levels by\n",
    "    default.\n",
    "'''\n",
    "df1.reset_index(level='class')"
   ],
   "metadata": {
    "pycharm": {
     "metadata": false,
     "name": "#%%\n"
    }
   }
  },
  {
   "cell_type": "code",
   "execution_count": 9,
   "outputs": [
    {
     "data": {
      "text/plain": "          name   speed   max\n               species  type\nclass                       \nbird    falcon   389.0   fly\nbird    parrot    24.0   fly\nmammal    lion    80.5   run\nmammal  monkey     NaN  jump",
      "text/html": "<div>\n<style scoped>\n    .dataframe tbody tr th:only-of-type {\n        vertical-align: middle;\n    }\n\n    .dataframe tbody tr th {\n        vertical-align: top;\n    }\n\n    .dataframe thead tr th {\n        text-align: left;\n    }\n\n    .dataframe thead tr:last-of-type th {\n        text-align: right;\n    }\n</style>\n<table border=\"1\" class=\"dataframe\">\n  <thead>\n    <tr>\n      <th></th>\n      <th>name</th>\n      <th>speed</th>\n      <th>max</th>\n    </tr>\n    <tr>\n      <th></th>\n      <th></th>\n      <th>species</th>\n      <th>type</th>\n    </tr>\n    <tr>\n      <th>class</th>\n      <th></th>\n      <th></th>\n      <th></th>\n    </tr>\n  </thead>\n  <tbody>\n    <tr>\n      <th>bird</th>\n      <td>falcon</td>\n      <td>389.0</td>\n      <td>fly</td>\n    </tr>\n    <tr>\n      <th>bird</th>\n      <td>parrot</td>\n      <td>24.0</td>\n      <td>fly</td>\n    </tr>\n    <tr>\n      <th>mammal</th>\n      <td>lion</td>\n      <td>80.5</td>\n      <td>run</td>\n    </tr>\n    <tr>\n      <th>mammal</th>\n      <td>monkey</td>\n      <td>NaN</td>\n      <td>jump</td>\n    </tr>\n  </tbody>\n</table>\n</div>"
     },
     "execution_count": 9,
     "metadata": {},
     "output_type": "execute_result"
    }
   ],
   "source": [
    "df1.reset_index(level='name')"
   ],
   "metadata": {
    "pycharm": {
     "metadata": false,
     "name": "#%%\n"
    }
   }
  },
  {
   "cell_type": "code",
   "execution_count": 10,
   "outputs": [
    {
     "name": "stdout",
     "output_type": "stream",
     "text": [
      "         class   speed   max\n",
      "               species  type\n",
      "name                        \n",
      "falcon    bird   389.0   fly\n",
      "parrot    bird    24.0   fly\n",
      "lion    mammal    80.5   run\n",
      "monkey  mammal     NaN  jump\n",
      "\n",
      "MultiIndex([('class',        ''),\n",
      "            ('speed', 'species'),\n",
      "            (  'max',    'type')],\n",
      "           )\n",
      "\n",
      "         class   speed   max\n",
      "       species species  type\n",
      "name                        \n",
      "falcon    bird   389.0   fly\n",
      "parrot    bird    24.0   fly\n",
      "lion    mammal    80.5   run\n",
      "monkey  mammal     NaN  jump\n"
     ]
    }
   ],
   "source": [
    "'''\n",
    "inplace : bool, default False\n",
    "    Modify the DataFrame in place (do not create a new object).\n",
    "\n",
    "col_level : int or str, default 0\n",
    "    If the columns have multiple levels, determines which level the\n",
    "    labels are inserted into. By default it is inserted into the first\n",
    "    level.\n",
    "\n",
    "col_fill : object, default ''\n",
    "    If the columns have multiple levels, determines how the other\n",
    "    levels are named. If None then the index name is repeated.\n",
    "'''\n",
    "df2 = df1.reset_index(level='class', col_level=0)\n",
    "print(df2, end='\\n\\n')\n",
    "print(df2.columns, end='\\n\\n')\n",
    "print(df1.reset_index(level='class', col_level=0, col_fill='species'))"
   ],
   "metadata": {
    "pycharm": {
     "metadata": false,
     "name": "#%%\n"
    }
   }
  },
  {
   "cell_type": "code",
   "execution_count": 10,
   "outputs": [],
   "source": "\n",
   "metadata": {
    "pycharm": {
     "metadata": false,
     "name": "#%%\n"
    }
   }
  }
 ],
 "metadata": {
  "language_info": {
   "codemirror_mode": {
    "name": "ipython",
    "version": 2
   },
   "file_extension": ".py",
   "mimetype": "text/x-python",
   "name": "python",
   "nbconvert_exporter": "python",
   "pygments_lexer": "ipython2",
   "version": "2.7.6"
  },
  "kernelspec": {
   "name": "python3",
   "language": "python",
   "display_name": "Python 3"
  },
  "stem_cell": {
   "cell_type": "raw",
   "source": "",
   "metadata": {
    "pycharm": {
     "metadata": false
    }
   }
  },
  "pycharm": {
   "stem_cell": {
    "cell_type": "raw",
    "source": [],
    "metadata": {
     "collapsed": false
    }
   }
  }
 },
 "nbformat": 4,
 "nbformat_minor": 0
}