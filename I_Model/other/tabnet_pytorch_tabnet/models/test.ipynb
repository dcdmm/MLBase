{
 "cells": [
  {
   "cell_type": "code",
   "execution_count": 2,
   "id": "fa3af4de",
   "metadata": {
    "execution": {
     "iopub.execute_input": "2021-11-02T14:31:48.546558Z",
     "iopub.status.busy": "2021-11-02T14:31:48.542957Z",
     "iopub.status.idle": "2021-11-02T14:31:50.747997Z",
     "shell.execute_reply": "2021-11-02T14:31:50.747509Z",
     "shell.execute_reply.started": "2021-11-02T14:22:03.009474Z"
    },
    "papermill": {
     "duration": 2.215814,
     "end_time": "2021-11-02T14:31:50.748141",
     "exception": false,
     "start_time": "2021-11-02T14:31:48.532327",
     "status": "completed"
    },
    "tags": [],
    "pycharm": {
     "name": "#%%\n"
    }
   },
   "outputs": [],
   "source": [
    "from sklearn.model_selection import KFold\n",
    "from pytorch_tabnet.metrics import Metric\n",
    "import torch\n",
    "from sklearn.preprocessing import LabelEncoder\n",
    "from sklearn.preprocessing import StandardScaler\n",
    "import pandas as pd\n",
    "from torch.optim import Adam\n",
    "from torch.optim.lr_scheduler import CosineAnnealingWarmRestarts\n",
    "from tabnet_model import MyTabnet\n",
    "import numpy as np"
   ]
  },
  {
   "cell_type": "code",
   "execution_count": 4,
   "id": "e43302a5",
   "metadata": {
    "collapsed": false,
    "execution": {
     "iopub.execute_input": "2021-11-02T14:31:50.813896Z",
     "iopub.status.busy": "2021-11-02T14:31:50.807262Z",
     "iopub.status.idle": "2021-11-02T14:31:50.816089Z",
     "shell.execute_reply": "2021-11-02T14:31:50.815644Z",
     "shell.execute_reply.started": "2021-11-02T14:22:05.492256Z"
    },
    "jupyter": {
     "outputs_hidden": false
    },
    "papermill": {
     "duration": 0.024857,
     "end_time": "2021-11-02T14:31:50.816206",
     "exception": false,
     "start_time": "2021-11-02T14:31:50.791349",
     "status": "completed"
    },
    "pycharm": {
     "name": "#%%\n"
    },
    "tags": []
   },
   "outputs": [],
   "source": [
    "class RMSPE(Metric):\n",
    "    \"\"\"自定义评估指标\"\"\"\n",
    "\n",
    "    def __init__(self):\n",
    "        self._name = \"rmspe\"\n",
    "        self._maximize = False\n",
    "\n",
    "    def __call__(self, y_true, y_score):\n",
    "        return np.sqrt(np.mean(np.square((y_true - y_score) / y_true)))\n",
    "\n",
    "\n",
    "def RMSPELoss(y_pred, y_true):\n",
    "    \"\"\"自定义损失函数\"\"\"\n",
    "    return torch.sqrt(torch.mean(((y_true - y_pred) / y_true) ** 2)).clone()\n",
    "\n",
    "\n",
    "def process_tabnet_data(train, test):\n",
    "    \"\"\"Function to process features as input to TabNet model\"\"\"\n",
    "    # 对缺失值和无穷值的处理\n",
    "    train.replace([np.inf, -np.inf], np.nan, inplace=True)\n",
    "    test.replace([np.inf, -np.inf], np.nan, inplace=True)\n",
    "    for col in train.columns.to_list()[4:]:\n",
    "        train[col] = train[col].fillna(train[col].mean())\n",
    "        train = train.fillna(0)\n",
    "    for col in test.columns.to_list()[3:]:\n",
    "        test[col] = test[col].fillna(test[col].mean())\n",
    "        test = test.fillna(0)\n",
    "\n",
    "    X_train = train.drop(['row_id', 'target', 'time_id'], axis=1)  # 训练数据集特征\n",
    "    y_train = train['target']  # 训练数据集标签\n",
    "\n",
    "    X_test = test.drop(['time_id', 'row_id'], axis=1)\n",
    "\n",
    "    categorical_columns = []\n",
    "    categorical_dims = {}\n",
    "\n",
    "    # 数据预处理:标签编码与数据缩放\n",
    "    for col in X_train.columns:\n",
    "        if col == 'stock_id':\n",
    "            l_enc = LabelEncoder()\n",
    "            X_train[col] = l_enc.fit_transform(X_train[col].values)\n",
    "            X_test[col] = l_enc.transform(X_test[col].values)\n",
    "            categorical_columns.append(col)\n",
    "            categorical_dims[col] = len(l_enc.classes_)\n",
    "        else:\n",
    "            scaler = StandardScaler()\n",
    "            X_train[col] = scaler.fit_transform(X_train[col].values.reshape(-1, 1))\n",
    "            X_test[col] = scaler.transform(X_test[col].values.reshape(-1, 1))\n",
    "\n",
    "    cat_idxs = [i for i, f in enumerate(X_train.columns.tolist()) if f in categorical_columns]\n",
    "\n",
    "    cat_dims = [categorical_dims[f] for i, f in enumerate(X_train.columns.tolist()) if f in categorical_columns]\n",
    "\n",
    "    return X_train, y_train, X_test, cat_idxs, cat_dims"
   ]
  },
  {
   "cell_type": "code",
   "execution_count": 5,
   "id": "1ed3ebc7",
   "metadata": {
    "collapsed": false,
    "execution": {
     "iopub.execute_input": "2021-11-02T14:31:50.838058Z",
     "iopub.status.busy": "2021-11-02T14:31:50.837546Z",
     "iopub.status.idle": "2021-11-02T14:31:52.488531Z",
     "shell.execute_reply": "2021-11-02T14:31:52.487595Z",
     "shell.execute_reply.started": "2021-11-02T14:22:05.528894Z"
    },
    "jupyter": {
     "outputs_hidden": false
    },
    "papermill": {
     "duration": 1.663968,
     "end_time": "2021-11-02T14:31:52.488687",
     "exception": false,
     "start_time": "2021-11-02T14:31:50.824719",
     "status": "completed"
    },
    "pycharm": {
     "name": "#%%\n"
    },
    "tags": []
   },
   "outputs": [],
   "source": [
    "# 数据来源:kaggle Optiver_Realized_Volatility_Prediction比赛特征加工数据(从中随机选取10000条)\n",
    "train_data = pd.read_csv(\"train_dataset.csv\")\n",
    "test_data = pd.read_csv(\"test_dataset.csv\")\n",
    "\n",
    "X_train, y_train, X_test, cat_idxs, cat_dims = process_tabnet_data(train_data, test_data)\n",
    "X_train = X_train.values\n",
    "y_train = y_train.values\n",
    "X_test = X_test.values"
   ]
  },
  {
   "cell_type": "code",
   "execution_count": 6,
   "id": "85d68746",
   "metadata": {
    "collapsed": false,
    "execution": {
     "iopub.execute_input": "2021-11-02T14:31:52.516057Z",
     "iopub.status.busy": "2021-11-02T14:31:52.514415Z",
     "iopub.status.idle": "2021-11-02T14:31:52.516634Z",
     "shell.execute_reply": "2021-11-02T14:31:52.517056Z",
     "shell.execute_reply.started": "2021-11-02T14:22:07.345625Z"
    },
    "jupyter": {
     "outputs_hidden": false
    },
    "papermill": {
     "duration": 0.019523,
     "end_time": "2021-11-02T14:31:52.517196",
     "exception": false,
     "start_time": "2021-11-02T14:31:52.497673",
     "status": "completed"
    },
    "pycharm": {
     "name": "#%%\n"
    },
    "tags": []
   },
   "outputs": [],
   "source": [
    "tabnet_params = dict(\n",
    "    cat_idxs=cat_idxs,\n",
    "    cat_dims=cat_dims,\n",
    "    cat_emb_dim=8,\n",
    "    n_d=16,\n",
    "    n_a=16,\n",
    "    n_steps=2,\n",
    "    gamma=1.3,\n",
    "    n_independent=2,\n",
    "    n_shared=2,\n",
    "    lambda_sparse=0,\n",
    "    optimizer_fn=Adam,\n",
    "    optimizer_params=dict(lr=2e-2, weight_decay=1e-5),\n",
    "    mask_type=\"entmax\",\n",
    "    scheduler_params=dict(T_0=200, T_mult=1, eta_min=1e-4, last_epoch=-1, verbose=False),\n",
    "    scheduler_fn=CosineAnnealingWarmRestarts,\n",
    "    seed=23,\n",
    "    verbose=10)\n",
    "tabnet_fit_params = dict(max_epochs=200,\n",
    "                         patience=50,\n",
    "                         batch_size=1024 * 10,\n",
    "                         virtual_batch_size=128 * 10,\n",
    "                         num_workers=2,\n",
    "                         drop_last=False,\n",
    "                         eval_metric=[RMSPE],\n",
    "                         loss_fn=RMSPELoss)\n",
    "kfold = KFold(n_splits=5, shuffle=True, random_state=1)"
   ]
  },
  {
   "cell_type": "code",
   "execution_count": 7,
   "id": "3a3cab78",
   "metadata": {
    "collapsed": false,
    "execution": {
     "iopub.execute_input": "2021-11-02T14:31:52.539006Z",
     "iopub.status.busy": "2021-11-02T14:31:52.538375Z",
     "iopub.status.idle": "2021-11-02T14:37:09.171432Z",
     "shell.execute_reply": "2021-11-02T14:37:09.172105Z",
     "shell.execute_reply.started": "2021-11-02T14:22:07.356584Z"
    },
    "jupyter": {
     "outputs_hidden": false
    },
    "papermill": {
     "duration": 316.646364,
     "end_time": "2021-11-02T14:37:09.172292",
     "exception": false,
     "start_time": "2021-11-02T14:31:52.525928",
     "status": "completed"
    },
    "pycharm": {
     "is_executing": true,
     "name": "#%%\n"
    },
    "tags": []
   },
   "outputs": [
    {
     "name": "stdout",
     "output_type": "stream",
     "text": [
      "Training fold 1\n",
      "Device used : cuda\n",
      "epoch 0  | loss: 320.59845| val_0_rmspe: 238.38251|  0:00:01s\n",
      "epoch 10 | loss: 42.26109| val_0_rmspe: 692.1362|  0:00:04s\n",
      "epoch 20 | loss: 16.61687| val_0_rmspe: 255.57201|  0:00:07s\n",
      "epoch 30 | loss: 11.67211| val_0_rmspe: 202.42849|  0:00:10s\n",
      "epoch 40 | loss: 5.51693 | val_0_rmspe: 8.06346 |  0:00:13s\n",
      "epoch 50 | loss: 3.73243 | val_0_rmspe: 4.3262  |  0:00:16s\n",
      "epoch 60 | loss: 2.62438 | val_0_rmspe: 2.53799 |  0:00:20s\n",
      "epoch 70 | loss: 1.6475  | val_0_rmspe: 3.3993  |  0:00:23s\n",
      "epoch 80 | loss: 1.52509 | val_0_rmspe: 1.72744 |  0:00:26s\n",
      "epoch 90 | loss: 0.96968 | val_0_rmspe: 1.2624  |  0:00:29s\n",
      "epoch 100| loss: 0.82148 | val_0_rmspe: 1.03171 |  0:00:32s\n",
      "epoch 110| loss: 0.59156 | val_0_rmspe: 0.91138 |  0:00:35s\n",
      "epoch 120| loss: 0.53538 | val_0_rmspe: 0.78263 |  0:00:38s\n",
      "epoch 130| loss: 0.50592 | val_0_rmspe: 0.81045 |  0:00:42s\n",
      "epoch 140| loss: 0.75363 | val_0_rmspe: 0.68072 |  0:00:45s\n",
      "epoch 150| loss: 0.4546  | val_0_rmspe: 0.74015 |  0:00:48s\n",
      "epoch 160| loss: 0.40502 | val_0_rmspe: 0.72856 |  0:00:51s\n",
      "epoch 170| loss: 0.37886 | val_0_rmspe: 0.68828 |  0:00:54s\n",
      "epoch 180| loss: 0.40122 | val_0_rmspe: 0.6563  |  0:00:57s\n",
      "epoch 190| loss: 0.36964 | val_0_rmspe: 0.63562 |  0:01:00s\n",
      "\n",
      "Early stopping occurred at epoch 191 with best_epoch = 141 and best_val_0_rmspe = 0.61821\n",
      "Best weights from best epoch are automatically used!\n",
      "Training fold 2\n",
      "Device used : cuda\n",
      "epoch 0  | loss: 319.28198| val_0_rmspe: 206.76764|  0:00:00s\n",
      "epoch 10 | loss: 66.22321| val_0_rmspe: 74.34086|  0:00:03s\n",
      "epoch 20 | loss: 23.64156| val_0_rmspe: 22.112  |  0:00:06s\n",
      "epoch 30 | loss: 6.7776  | val_0_rmspe: 12.21571|  0:00:09s\n",
      "epoch 40 | loss: 6.57154 | val_0_rmspe: 8.27424 |  0:00:12s\n",
      "epoch 50 | loss: 3.06281 | val_0_rmspe: 5.50219 |  0:00:16s\n",
      "epoch 60 | loss: 3.97389 | val_0_rmspe: 3.02775 |  0:00:19s\n",
      "epoch 70 | loss: 2.81456 | val_0_rmspe: 2.97644 |  0:00:22s\n",
      "epoch 80 | loss: 2.57801 | val_0_rmspe: 1.72326 |  0:00:25s\n",
      "epoch 90 | loss: 1.30034 | val_0_rmspe: 2.67956 |  0:00:28s\n",
      "epoch 100| loss: 1.77419 | val_0_rmspe: 1.96871 |  0:00:31s\n",
      "epoch 110| loss: 1.53709 | val_0_rmspe: 1.71706 |  0:00:34s\n",
      "epoch 120| loss: 1.12589 | val_0_rmspe: 0.96904 |  0:00:37s\n",
      "epoch 130| loss: 1.16049 | val_0_rmspe: 0.74775 |  0:00:40s\n",
      "epoch 140| loss: 0.95709 | val_0_rmspe: 0.77754 |  0:00:43s\n",
      "epoch 150| loss: 0.81593 | val_0_rmspe: 0.59333 |  0:00:47s\n",
      "epoch 160| loss: 0.71164 | val_0_rmspe: 0.9701  |  0:00:50s\n",
      "epoch 170| loss: 0.94355 | val_0_rmspe: 0.57429 |  0:00:53s\n",
      "epoch 180| loss: 0.68085 | val_0_rmspe: 0.53628 |  0:00:56s\n",
      "epoch 190| loss: 0.59909 | val_0_rmspe: 0.53173 |  0:00:59s\n",
      "Stop training because you reached max_epochs = 200 with best_epoch = 199 and best_val_0_rmspe = 0.47096\n",
      "Best weights from best epoch are automatically used!\n",
      "Training fold 3\n",
      "Device used : cuda\n",
      "epoch 0  | loss: 340.58173| val_0_rmspe: 220.15275|  0:00:00s\n",
      "epoch 10 | loss: 50.54731| val_0_rmspe: 24.98566|  0:00:03s\n",
      "epoch 20 | loss: 15.55428| val_0_rmspe: 13.29962|  0:00:06s\n",
      "epoch 30 | loss: 8.59655 | val_0_rmspe: 8.87394 |  0:00:09s\n",
      "epoch 40 | loss: 4.2188  | val_0_rmspe: 4.24647 |  0:00:12s\n",
      "epoch 50 | loss: 2.04198 | val_0_rmspe: 2.34522 |  0:00:16s\n",
      "epoch 60 | loss: 1.5365  | val_0_rmspe: 3.16422 |  0:00:19s\n",
      "epoch 70 | loss: 1.12444 | val_0_rmspe: 1.0779  |  0:00:22s\n",
      "epoch 80 | loss: 0.65586 | val_0_rmspe: 0.88407 |  0:00:25s\n",
      "epoch 90 | loss: 0.55076 | val_0_rmspe: 0.50836 |  0:00:28s\n",
      "epoch 100| loss: 1.01199 | val_0_rmspe: 0.97705 |  0:00:31s\n",
      "epoch 110| loss: 0.68631 | val_0_rmspe: 0.4061  |  0:00:34s\n",
      "epoch 120| loss: 0.40428 | val_0_rmspe: 0.50467 |  0:00:37s\n",
      "epoch 130| loss: 0.40391 | val_0_rmspe: 0.47543 |  0:00:41s\n",
      "epoch 140| loss: 0.37878 | val_0_rmspe: 0.32313 |  0:00:44s\n",
      "epoch 150| loss: 0.31194 | val_0_rmspe: 0.31743 |  0:00:47s\n",
      "epoch 160| loss: 0.34085 | val_0_rmspe: 0.30793 |  0:00:50s\n",
      "epoch 170| loss: 0.32515 | val_0_rmspe: 0.30801 |  0:00:53s\n",
      "epoch 180| loss: 0.30125 | val_0_rmspe: 0.30359 |  0:00:56s\n",
      "epoch 190| loss: 0.30281 | val_0_rmspe: 0.29883 |  0:00:59s\n",
      "Stop training because you reached max_epochs = 200 with best_epoch = 199 and best_val_0_rmspe = 0.2949\n",
      "Best weights from best epoch are automatically used!\n",
      "Training fold 4\n",
      "Device used : cuda\n",
      "epoch 0  | loss: 362.08661| val_0_rmspe: 212.59631|  0:00:00s\n",
      "epoch 10 | loss: 39.0829 | val_0_rmspe: 15.37752|  0:00:03s\n",
      "epoch 20 | loss: 15.22844| val_0_rmspe: 13.49734|  0:00:06s\n",
      "epoch 30 | loss: 7.55976 | val_0_rmspe: 6.13682 |  0:00:09s\n",
      "epoch 40 | loss: 4.17806 | val_0_rmspe: 5.23554 |  0:00:12s\n",
      "epoch 50 | loss: 2.06448 | val_0_rmspe: 1.84065 |  0:00:16s\n",
      "epoch 60 | loss: 3.6242  | val_0_rmspe: 2.23268 |  0:00:19s\n",
      "epoch 70 | loss: 2.02376 | val_0_rmspe: 3.38084 |  0:00:22s\n",
      "epoch 80 | loss: 1.72546 | val_0_rmspe: 2.41737 |  0:00:25s\n",
      "epoch 90 | loss: 2.4599  | val_0_rmspe: 2.50869 |  0:00:28s\n",
      "epoch 100| loss: 0.85123 | val_0_rmspe: 1.73337 |  0:00:32s\n",
      "epoch 110| loss: 1.66037 | val_0_rmspe: 1.75744 |  0:00:35s\n",
      "epoch 120| loss: 0.72857 | val_0_rmspe: 0.90679 |  0:00:38s\n",
      "epoch 130| loss: 0.88064 | val_0_rmspe: 0.73666 |  0:00:41s\n",
      "epoch 140| loss: 0.54532 | val_0_rmspe: 0.49135 |  0:00:44s\n",
      "epoch 150| loss: 0.56327 | val_0_rmspe: 0.47351 |  0:00:47s\n",
      "epoch 160| loss: 0.50342 | val_0_rmspe: 0.49084 |  0:00:50s\n",
      "epoch 170| loss: 0.48489 | val_0_rmspe: 0.43915 |  0:00:54s\n",
      "epoch 180| loss: 0.45518 | val_0_rmspe: 0.38631 |  0:00:57s\n",
      "epoch 190| loss: 0.47576 | val_0_rmspe: 0.41419 |  0:01:00s\n",
      "Stop training because you reached max_epochs = 200 with best_epoch = 179 and best_val_0_rmspe = 0.38125\n",
      "Best weights from best epoch are automatically used!\n",
      "Training fold 5\n",
      "Device used : cuda\n",
      "epoch 0  | loss: 302.40063| val_0_rmspe: 183.71541|  0:00:00s\n",
      "epoch 10 | loss: 60.82905| val_0_rmspe: 30.99164|  0:00:03s\n",
      "epoch 20 | loss: 16.66117| val_0_rmspe: 10.92676|  0:00:06s\n",
      "epoch 30 | loss: 6.86655 | val_0_rmspe: 5.90965 |  0:00:09s\n",
      "epoch 40 | loss: 3.38506 | val_0_rmspe: 3.66533 |  0:00:13s\n",
      "epoch 50 | loss: 1.55651 | val_0_rmspe: 1.39768 |  0:00:16s\n",
      "epoch 60 | loss: 1.09616 | val_0_rmspe: 1.14618 |  0:00:19s\n",
      "epoch 70 | loss: 0.97772 | val_0_rmspe: 0.61065 |  0:00:22s\n",
      "epoch 80 | loss: 0.72178 | val_0_rmspe: 0.72976 |  0:00:26s\n",
      "epoch 90 | loss: 0.57367 | val_0_rmspe: 0.62898 |  0:00:29s\n",
      "epoch 100| loss: 0.65339 | val_0_rmspe: 0.7287  |  0:00:32s\n",
      "epoch 110| loss: 0.59228 | val_0_rmspe: 0.45631 |  0:00:35s\n",
      "epoch 120| loss: 0.50342 | val_0_rmspe: 0.43228 |  0:00:38s\n",
      "epoch 130| loss: 0.42362 | val_0_rmspe: 0.38502 |  0:00:41s\n",
      "epoch 140| loss: 0.35162 | val_0_rmspe: 0.36418 |  0:00:44s\n",
      "epoch 150| loss: 0.31211 | val_0_rmspe: 0.36933 |  0:00:47s\n",
      "epoch 160| loss: 0.32865 | val_0_rmspe: 0.30757 |  0:00:50s\n",
      "epoch 170| loss: 0.31508 | val_0_rmspe: 0.30166 |  0:00:54s\n",
      "epoch 180| loss: 0.28775 | val_0_rmspe: 0.28893 |  0:00:57s\n",
      "epoch 190| loss: 0.29634 | val_0_rmspe: 0.28397 |  0:01:00s\n",
      "Stop training because you reached max_epochs = 200 with best_epoch = 195 and best_val_0_rmspe = 0.28049\n",
      "Best weights from best epoch are automatically used!\n",
      "[-0.01092176  0.00821704  0.00821704]\n"
     ]
    }
   ],
   "source": [
    "test_predictions, oof_predictions, model_list = MyTabnet(X_train, y_train, X_test, kfold, tabnet_params,\n",
    "                                                         tabnet_fit_params)\n",
    "print(test_predictions)"
   ]
  },
  {
   "cell_type": "code",
   "execution_count": 8,
   "id": "71315866",
   "metadata": {
    "execution": {
     "iopub.execute_input": "2021-11-02T14:37:09.252551Z",
     "iopub.status.busy": "2021-11-02T14:37:09.251751Z",
     "iopub.status.idle": "2021-11-02T14:37:09.254879Z",
     "shell.execute_reply": "2021-11-02T14:37:09.255312Z",
     "shell.execute_reply.started": "2021-11-02T14:28:23.65631Z"
    },
    "papermill": {
     "duration": 0.044441,
     "end_time": "2021-11-02T14:37:09.255442",
     "exception": false,
     "start_time": "2021-11-02T14:37:09.211001",
     "status": "completed"
    },
    "pycharm": {
     "is_executing": true,
     "name": "#%%\n"
    },
    "tags": []
   },
   "outputs": [
    {
     "name": "stdout",
     "output_type": "stream",
     "text": [
      "[TabNetRegressor(n_d=16, n_a=16, n_steps=2, gamma=1.3, cat_idxs=[0], cat_dims=[112], cat_emb_dim=8, n_independent=2, n_shared=2, epsilon=1e-15, momentum=0.02, lambda_sparse=0, seed=23, clip_value=1, verbose=10, optimizer_fn=<class 'torch.optim.adam.Adam'>, optimizer_params={'lr': 0.02, 'weight_decay': 1e-05}, scheduler_fn=<class 'torch.optim.lr_scheduler.CosineAnnealingWarmRestarts'>, scheduler_params={'T_0': 200, 'T_mult': 1, 'eta_min': 0.0001, 'last_epoch': -1, 'verbose': False}, mask_type='entmax', input_dim=157, output_dim=1, device_name='auto'), TabNetRegressor(n_d=16, n_a=16, n_steps=2, gamma=1.3, cat_idxs=[0], cat_dims=[112], cat_emb_dim=8, n_independent=2, n_shared=2, epsilon=1e-15, momentum=0.02, lambda_sparse=0, seed=23, clip_value=1, verbose=10, optimizer_fn=<class 'torch.optim.adam.Adam'>, optimizer_params={'lr': 0.02, 'weight_decay': 1e-05}, scheduler_fn=<class 'torch.optim.lr_scheduler.CosineAnnealingWarmRestarts'>, scheduler_params={'T_0': 200, 'T_mult': 1, 'eta_min': 0.0001, 'last_epoch': -1, 'verbose': False}, mask_type='entmax', input_dim=157, output_dim=1, device_name='auto'), TabNetRegressor(n_d=16, n_a=16, n_steps=2, gamma=1.3, cat_idxs=[0], cat_dims=[112], cat_emb_dim=8, n_independent=2, n_shared=2, epsilon=1e-15, momentum=0.02, lambda_sparse=0, seed=23, clip_value=1, verbose=10, optimizer_fn=<class 'torch.optim.adam.Adam'>, optimizer_params={'lr': 0.02, 'weight_decay': 1e-05}, scheduler_fn=<class 'torch.optim.lr_scheduler.CosineAnnealingWarmRestarts'>, scheduler_params={'T_0': 200, 'T_mult': 1, 'eta_min': 0.0001, 'last_epoch': -1, 'verbose': False}, mask_type='entmax', input_dim=157, output_dim=1, device_name='auto'), TabNetRegressor(n_d=16, n_a=16, n_steps=2, gamma=1.3, cat_idxs=[0], cat_dims=[112], cat_emb_dim=8, n_independent=2, n_shared=2, epsilon=1e-15, momentum=0.02, lambda_sparse=0, seed=23, clip_value=1, verbose=10, optimizer_fn=<class 'torch.optim.adam.Adam'>, optimizer_params={'lr': 0.02, 'weight_decay': 1e-05}, scheduler_fn=<class 'torch.optim.lr_scheduler.CosineAnnealingWarmRestarts'>, scheduler_params={'T_0': 200, 'T_mult': 1, 'eta_min': 0.0001, 'last_epoch': -1, 'verbose': False}, mask_type='entmax', input_dim=157, output_dim=1, device_name='auto'), TabNetRegressor(n_d=16, n_a=16, n_steps=2, gamma=1.3, cat_idxs=[0], cat_dims=[112], cat_emb_dim=8, n_independent=2, n_shared=2, epsilon=1e-15, momentum=0.02, lambda_sparse=0, seed=23, clip_value=1, verbose=10, optimizer_fn=<class 'torch.optim.adam.Adam'>, optimizer_params={'lr': 0.02, 'weight_decay': 1e-05}, scheduler_fn=<class 'torch.optim.lr_scheduler.CosineAnnealingWarmRestarts'>, scheduler_params={'T_0': 200, 'T_mult': 1, 'eta_min': 0.0001, 'last_epoch': -1, 'verbose': False}, mask_type='entmax', input_dim=157, output_dim=1, device_name='auto')]\n"
     ]
    }
   ],
   "source": [
    "print(model_list)"
   ]
  }
 ],
 "metadata": {
  "kernelspec": {
   "display_name": "Python 3",
   "language": "python",
   "name": "python3"
  },
  "language_info": {
   "codemirror_mode": {
    "name": "ipython",
    "version": 3
   },
   "file_extension": ".py",
   "mimetype": "text/x-python",
   "name": "python",
   "nbconvert_exporter": "python",
   "pygments_lexer": "ipython3",
   "version": "3.7.10"
  },
  "papermill": {
   "default_parameters": {},
   "duration": 339.710982,
   "end_time": "2021-11-02T14:37:10.402343",
   "environment_variables": {},
   "exception": null,
   "input_path": "__notebook__.ipynb",
   "output_path": "__notebook__.ipynb",
   "parameters": {},
   "start_time": "2021-11-02T14:31:30.691361",
   "version": "2.3.3"
  }
 },
 "nbformat": 4,
 "nbformat_minor": 5
}