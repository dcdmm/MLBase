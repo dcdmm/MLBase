{
 "cells": [
  {
   "cell_type": "code",
   "execution_count": 1,
   "outputs": [],
   "source": [
    "import torch.nn as nn\n",
    "import torch.optim as optim\n",
    "import numpy as np\n",
    "import torch.utils.data as Data\n",
    "import torch\n",
    "import matplotlib.pyplot as plt"
   ],
   "metadata": {
    "collapsed": false,
    "pycharm": {
     "name": "#%%\n"
    }
   }
  },
  {
   "cell_type": "code",
   "execution_count": 2,
   "outputs": [],
   "source": [
    "# 手写数字训练数据集\n",
    "mnist = np.load(\"../../../../Other/datasets/NumPy/mnist.npz\")\n",
    "X_train, y_train, X_val, y_val = torch.unsqueeze(torch.tensor(mnist['x_train']), 1).to(dtype=torch.float32),\\\n",
    "                                 torch.tensor(mnist['y_train']).to(dtype=torch.long),\\\n",
    "                                 torch.unsqueeze(torch.tensor(mnist['x_test']), 1).to(dtype=torch.float32),\\\n",
    "                                 torch.tensor(mnist['y_test']).to(dtype=torch.long)\n",
    "X_train, X_val = X_train / 255.0, X_val / 255.0"
   ],
   "metadata": {
    "collapsed": false,
    "pycharm": {
     "name": "#%%\n"
    }
   }
  },
  {
   "cell_type": "code",
   "execution_count": 3,
   "outputs": [],
   "source": [
    "batch_size = 200\n",
    "train_data = Data.TensorDataset(X_train, y_train)\n",
    "train_loader = Data.DataLoader(dataset=train_data,\n",
    "                               batch_size=batch_size,\n",
    "                               shuffle=True)\n",
    "val_data = Data.TensorDataset(X_val, y_val)\n",
    "val_loader = Data.DataLoader(dataset=val_data, batch_size=batch_size)\n"
   ],
   "metadata": {
    "collapsed": false,
    "pycharm": {
     "name": "#%%\n"
    }
   }
  },
  {
   "cell_type": "code",
   "execution_count": 4,
   "outputs": [],
   "source": [
    "class LeNet(nn.Module):\n",
    "    def __init__(self):\n",
    "        super(LeNet, self).__init__()\n",
    "        self.featrues = nn.Sequential(  # 内部实现了forward函数;各模块顺序执行\n",
    "            nn.Conv2d(1, 6, 3),\n",
    "            nn.ReLU(),\n",
    "            nn.MaxPool2d(2, 2),\n",
    "            nn.Conv2d(6, 16, 3),\n",
    "            nn.ReLU(),\n",
    "            nn.MaxPool2d(2, 2)\n",
    "        )\n",
    "        self.classifier = nn.Sequential(\n",
    "            nn.Linear(400, 120),\n",
    "            nn.ReLU(),\n",
    "            nn.Linear(120, 84),\n",
    "            nn.ReLU(),\n",
    "            nn.Linear(84, 10),  # 10分类问题\n",
    "        )\n",
    "\n",
    "    def forward(self, x):\n",
    "        x = self.featrues(x)\n",
    "        x = x.reshape(x.size()[0], -1)\n",
    "        x = self.classifier(x)\n",
    "        return x\n"
   ],
   "metadata": {
    "collapsed": false,
    "pycharm": {
     "name": "#%%\n"
    }
   }
  },
  {
   "cell_type": "code",
   "execution_count": 5,
   "outputs": [],
   "source": [
    "device = torch.device(\"cuda\" if torch.cuda.is_available() else \"cpu\")\n",
    "criteon = nn.CrossEntropyLoss()  # 定义损失函数为交叉熵\n",
    "net = LeNet()\n",
    "lenet = net.to(device)  # 模型设备切换必须在优化器定义前执行\n",
    "\n",
    "# Adadelta优化器\n",
    "optimizer = optim.Adadelta(net.parameters(),\n",
    "                           rho=0.9,  # 衰减速率\\rho\n",
    "                           lr=0.99,  # 缩放系数\\epsilon(default: 1.0)\n",
    "                           eps=1e-6)  # 分母中的小常数\\delta"
   ],
   "metadata": {
    "collapsed": false,
    "pycharm": {
     "name": "#%%\n"
    }
   }
  },
  {
   "cell_type": "code",
   "execution_count": 6,
   "outputs": [],
   "source": [
    "from J_Template.assembly.模型训练与评估封装_torch.train_evaluate import Trainer\n",
    "\n",
    "t_and_v = Trainer(model=lenet, optimizer=optimizer, criterion=criteon, epochs=10)"
   ],
   "metadata": {
    "collapsed": false,
    "pycharm": {
     "name": "#%%\n"
    }
   }
  },
  {
   "cell_type": "code",
   "execution_count": 7,
   "outputs": [
    {
     "name": "stdout",
     "output_type": "stream",
     "text": [
      "Train Epoch: 0  [0    /60000 (0  %)]\tLoss: 2.304129\n",
      "Train Epoch: 0  [4000 /60000 (7  %)]\tLoss: 2.154078\n",
      "Train Epoch: 0  [8000 /60000 (13 %)]\tLoss: 1.242593\n",
      "Train Epoch: 0  [12000/60000 (20 %)]\tLoss: 0.551948\n",
      "Train Epoch: 0  [16000/60000 (27 %)]\tLoss: 0.352235\n",
      "Train Epoch: 0  [20000/60000 (33 %)]\tLoss: 0.339751\n",
      "Train Epoch: 0  [24000/60000 (40 %)]\tLoss: 0.276487\n",
      "Train Epoch: 0  [28000/60000 (47 %)]\tLoss: 0.110977\n",
      "Train Epoch: 0  [32000/60000 (53 %)]\tLoss: 0.303801\n",
      "Train Epoch: 0  [36000/60000 (60 %)]\tLoss: 0.215374\n",
      "Train Epoch: 0  [40000/60000 (67 %)]\tLoss: 0.102446\n",
      "Train Epoch: 0  [44000/60000 (73 %)]\tLoss: 0.196506\n",
      "Train Epoch: 0  [48000/60000 (80 %)]\tLoss: 0.105478\n",
      "Train Epoch: 0  [52000/60000 (87 %)]\tLoss: 0.077581\n",
      "Train Epoch: 0  [56000/60000 (93 %)]\tLoss: 0.146274\n",
      "Train Epoch: 0  [60000/60000 (100%)]\tLoss: 0.076028\n",
      "----------------------------------------------------------------------------------------------------\n",
      "Train Epoch: 1  [0    /60000 (0  %)]\tLoss: 0.096186\n",
      "Train Epoch: 1  [4000 /60000 (7  %)]\tLoss: 0.118630\n",
      "Train Epoch: 1  [8000 /60000 (13 %)]\tLoss: 0.078547\n",
      "Train Epoch: 1  [12000/60000 (20 %)]\tLoss: 0.062456\n",
      "Train Epoch: 1  [16000/60000 (27 %)]\tLoss: 0.041410\n",
      "Train Epoch: 1  [20000/60000 (33 %)]\tLoss: 0.090691\n",
      "Train Epoch: 1  [24000/60000 (40 %)]\tLoss: 0.198253\n",
      "Train Epoch: 1  [28000/60000 (47 %)]\tLoss: 0.049783\n",
      "Train Epoch: 1  [32000/60000 (53 %)]\tLoss: 0.088301\n",
      "Train Epoch: 1  [36000/60000 (60 %)]\tLoss: 0.085570\n",
      "Train Epoch: 1  [40000/60000 (67 %)]\tLoss: 0.086551\n",
      "Train Epoch: 1  [44000/60000 (73 %)]\tLoss: 0.091203\n",
      "Train Epoch: 1  [48000/60000 (80 %)]\tLoss: 0.072779\n",
      "Train Epoch: 1  [52000/60000 (87 %)]\tLoss: 0.081780\n",
      "Train Epoch: 1  [56000/60000 (93 %)]\tLoss: 0.039551\n",
      "Train Epoch: 1  [60000/60000 (100%)]\tLoss: 0.044103\n",
      "----------------------------------------------------------------------------------------------------\n",
      "Train Epoch: 2  [0    /60000 (0  %)]\tLoss: 0.115537\n",
      "Train Epoch: 2  [4000 /60000 (7  %)]\tLoss: 0.074725\n",
      "Train Epoch: 2  [8000 /60000 (13 %)]\tLoss: 0.046450\n",
      "Train Epoch: 2  [12000/60000 (20 %)]\tLoss: 0.048209\n",
      "Train Epoch: 2  [16000/60000 (27 %)]\tLoss: 0.042616\n",
      "Train Epoch: 2  [20000/60000 (33 %)]\tLoss: 0.035341\n",
      "Train Epoch: 2  [24000/60000 (40 %)]\tLoss: 0.030282\n",
      "Train Epoch: 2  [28000/60000 (47 %)]\tLoss: 0.070290\n",
      "Train Epoch: 2  [32000/60000 (53 %)]\tLoss: 0.043909\n",
      "Train Epoch: 2  [36000/60000 (60 %)]\tLoss: 0.067038\n",
      "Train Epoch: 2  [40000/60000 (67 %)]\tLoss: 0.065593\n",
      "Train Epoch: 2  [44000/60000 (73 %)]\tLoss: 0.039431\n",
      "Train Epoch: 2  [48000/60000 (80 %)]\tLoss: 0.068561\n",
      "Train Epoch: 2  [52000/60000 (87 %)]\tLoss: 0.057867\n",
      "Train Epoch: 2  [56000/60000 (93 %)]\tLoss: 0.093870\n",
      "Train Epoch: 2  [60000/60000 (100%)]\tLoss: 0.027146\n",
      "----------------------------------------------------------------------------------------------------\n",
      "Train Epoch: 3  [0    /60000 (0  %)]\tLoss: 0.044091\n",
      "Train Epoch: 3  [4000 /60000 (7  %)]\tLoss: 0.046092\n",
      "Train Epoch: 3  [8000 /60000 (13 %)]\tLoss: 0.077728\n",
      "Train Epoch: 3  [12000/60000 (20 %)]\tLoss: 0.051843\n",
      "Train Epoch: 3  [16000/60000 (27 %)]\tLoss: 0.049704\n",
      "Train Epoch: 3  [20000/60000 (33 %)]\tLoss: 0.014011\n",
      "Train Epoch: 3  [24000/60000 (40 %)]\tLoss: 0.020282\n",
      "Train Epoch: 3  [28000/60000 (47 %)]\tLoss: 0.032861\n",
      "Train Epoch: 3  [32000/60000 (53 %)]\tLoss: 0.011059\n",
      "Train Epoch: 3  [36000/60000 (60 %)]\tLoss: 0.068858\n",
      "Train Epoch: 3  [40000/60000 (67 %)]\tLoss: 0.048821\n",
      "Train Epoch: 3  [44000/60000 (73 %)]\tLoss: 0.067957\n",
      "Train Epoch: 3  [48000/60000 (80 %)]\tLoss: 0.035273\n",
      "Train Epoch: 3  [52000/60000 (87 %)]\tLoss: 0.062814\n",
      "Train Epoch: 3  [56000/60000 (93 %)]\tLoss: 0.027001\n",
      "Train Epoch: 3  [60000/60000 (100%)]\tLoss: 0.046752\n",
      "----------------------------------------------------------------------------------------------------\n",
      "Train Epoch: 4  [0    /60000 (0  %)]\tLoss: 0.030467\n",
      "Train Epoch: 4  [4000 /60000 (7  %)]\tLoss: 0.101309\n",
      "Train Epoch: 4  [8000 /60000 (13 %)]\tLoss: 0.009523\n",
      "Train Epoch: 4  [12000/60000 (20 %)]\tLoss: 0.013016\n",
      "Train Epoch: 4  [16000/60000 (27 %)]\tLoss: 0.048300\n",
      "Train Epoch: 4  [20000/60000 (33 %)]\tLoss: 0.019466\n",
      "Train Epoch: 4  [24000/60000 (40 %)]\tLoss: 0.021137\n",
      "Train Epoch: 4  [28000/60000 (47 %)]\tLoss: 0.045739\n",
      "Train Epoch: 4  [32000/60000 (53 %)]\tLoss: 0.049904\n",
      "Train Epoch: 4  [36000/60000 (60 %)]\tLoss: 0.027234\n",
      "Train Epoch: 4  [40000/60000 (67 %)]\tLoss: 0.013354\n",
      "Train Epoch: 4  [44000/60000 (73 %)]\tLoss: 0.083239\n",
      "Train Epoch: 4  [48000/60000 (80 %)]\tLoss: 0.037560\n",
      "Train Epoch: 4  [52000/60000 (87 %)]\tLoss: 0.029276\n",
      "Train Epoch: 4  [56000/60000 (93 %)]\tLoss: 0.068673\n",
      "Train Epoch: 4  [60000/60000 (100%)]\tLoss: 0.014247\n",
      "----------------------------------------------------------------------------------------------------\n",
      "Train Epoch: 5  [0    /60000 (0  %)]\tLoss: 0.008417\n",
      "Train Epoch: 5  [4000 /60000 (7  %)]\tLoss: 0.031498\n",
      "Train Epoch: 5  [8000 /60000 (13 %)]\tLoss: 0.017395\n",
      "Train Epoch: 5  [12000/60000 (20 %)]\tLoss: 0.016497\n",
      "Train Epoch: 5  [16000/60000 (27 %)]\tLoss: 0.059587\n",
      "Train Epoch: 5  [20000/60000 (33 %)]\tLoss: 0.023370\n",
      "Train Epoch: 5  [24000/60000 (40 %)]\tLoss: 0.010065\n",
      "Train Epoch: 5  [28000/60000 (47 %)]\tLoss: 0.018421\n",
      "Train Epoch: 5  [32000/60000 (53 %)]\tLoss: 0.055033\n",
      "Train Epoch: 5  [36000/60000 (60 %)]\tLoss: 0.047049\n",
      "Train Epoch: 5  [40000/60000 (67 %)]\tLoss: 0.047223\n",
      "Train Epoch: 5  [44000/60000 (73 %)]\tLoss: 0.057960\n",
      "Train Epoch: 5  [48000/60000 (80 %)]\tLoss: 0.032008\n",
      "Train Epoch: 5  [52000/60000 (87 %)]\tLoss: 0.008171\n",
      "Train Epoch: 5  [56000/60000 (93 %)]\tLoss: 0.014857\n",
      "Train Epoch: 5  [60000/60000 (100%)]\tLoss: 0.008075\n",
      "----------------------------------------------------------------------------------------------------\n",
      "Train Epoch: 6  [0    /60000 (0  %)]\tLoss: 0.009872\n",
      "Train Epoch: 6  [4000 /60000 (7  %)]\tLoss: 0.003220\n",
      "Train Epoch: 6  [8000 /60000 (13 %)]\tLoss: 0.045972\n",
      "Train Epoch: 6  [12000/60000 (20 %)]\tLoss: 0.010164\n",
      "Train Epoch: 6  [16000/60000 (27 %)]\tLoss: 0.013593\n",
      "Train Epoch: 6  [20000/60000 (33 %)]\tLoss: 0.029803\n",
      "Train Epoch: 6  [24000/60000 (40 %)]\tLoss: 0.038846\n",
      "Train Epoch: 6  [28000/60000 (47 %)]\tLoss: 0.025925\n",
      "Train Epoch: 6  [32000/60000 (53 %)]\tLoss: 0.043316\n",
      "Train Epoch: 6  [36000/60000 (60 %)]\tLoss: 0.117570\n",
      "Train Epoch: 6  [40000/60000 (67 %)]\tLoss: 0.004680\n",
      "Train Epoch: 6  [44000/60000 (73 %)]\tLoss: 0.052547\n",
      "Train Epoch: 6  [48000/60000 (80 %)]\tLoss: 0.008592\n",
      "Train Epoch: 6  [52000/60000 (87 %)]\tLoss: 0.013711\n",
      "Train Epoch: 6  [56000/60000 (93 %)]\tLoss: 0.029749\n",
      "Train Epoch: 6  [60000/60000 (100%)]\tLoss: 0.001868\n",
      "----------------------------------------------------------------------------------------------------\n",
      "Train Epoch: 7  [0    /60000 (0  %)]\tLoss: 0.002592\n",
      "Train Epoch: 7  [4000 /60000 (7  %)]\tLoss: 0.009634\n",
      "Train Epoch: 7  [8000 /60000 (13 %)]\tLoss: 0.009526\n",
      "Train Epoch: 7  [12000/60000 (20 %)]\tLoss: 0.034979\n",
      "Train Epoch: 7  [16000/60000 (27 %)]\tLoss: 0.018247\n",
      "Train Epoch: 7  [20000/60000 (33 %)]\tLoss: 0.023845\n",
      "Train Epoch: 7  [24000/60000 (40 %)]\tLoss: 0.024676\n",
      "Train Epoch: 7  [28000/60000 (47 %)]\tLoss: 0.017566\n",
      "Train Epoch: 7  [32000/60000 (53 %)]\tLoss: 0.024873\n",
      "Train Epoch: 7  [36000/60000 (60 %)]\tLoss: 0.009716\n",
      "Train Epoch: 7  [40000/60000 (67 %)]\tLoss: 0.018099\n",
      "Train Epoch: 7  [44000/60000 (73 %)]\tLoss: 0.009463\n",
      "Train Epoch: 7  [48000/60000 (80 %)]\tLoss: 0.004753\n",
      "Train Epoch: 7  [52000/60000 (87 %)]\tLoss: 0.060551\n",
      "Train Epoch: 7  [56000/60000 (93 %)]\tLoss: 0.002984\n",
      "Train Epoch: 7  [60000/60000 (100%)]\tLoss: 0.013149\n",
      "----------------------------------------------------------------------------------------------------\n",
      "Train Epoch: 8  [0    /60000 (0  %)]\tLoss: 0.008543\n",
      "Train Epoch: 8  [4000 /60000 (7  %)]\tLoss: 0.008602\n",
      "Train Epoch: 8  [8000 /60000 (13 %)]\tLoss: 0.008608\n",
      "Train Epoch: 8  [12000/60000 (20 %)]\tLoss: 0.004622\n",
      "Train Epoch: 8  [16000/60000 (27 %)]\tLoss: 0.022374\n",
      "Train Epoch: 8  [20000/60000 (33 %)]\tLoss: 0.010373\n",
      "Train Epoch: 8  [24000/60000 (40 %)]\tLoss: 0.003640\n",
      "Train Epoch: 8  [28000/60000 (47 %)]\tLoss: 0.017064\n",
      "Train Epoch: 8  [32000/60000 (53 %)]\tLoss: 0.020179\n",
      "Train Epoch: 8  [36000/60000 (60 %)]\tLoss: 0.014646\n",
      "Train Epoch: 8  [40000/60000 (67 %)]\tLoss: 0.005693\n",
      "Train Epoch: 8  [44000/60000 (73 %)]\tLoss: 0.024456\n",
      "Train Epoch: 8  [48000/60000 (80 %)]\tLoss: 0.018408\n",
      "Train Epoch: 8  [52000/60000 (87 %)]\tLoss: 0.019913\n",
      "Train Epoch: 8  [56000/60000 (93 %)]\tLoss: 0.005322\n",
      "Train Epoch: 8  [60000/60000 (100%)]\tLoss: 0.020497\n",
      "----------------------------------------------------------------------------------------------------\n",
      "Train Epoch: 9  [0    /60000 (0  %)]\tLoss: 0.017013\n",
      "Train Epoch: 9  [4000 /60000 (7  %)]\tLoss: 0.007152\n",
      "Train Epoch: 9  [8000 /60000 (13 %)]\tLoss: 0.013253\n",
      "Train Epoch: 9  [12000/60000 (20 %)]\tLoss: 0.000535\n",
      "Train Epoch: 9  [16000/60000 (27 %)]\tLoss: 0.001221\n",
      "Train Epoch: 9  [20000/60000 (33 %)]\tLoss: 0.040055\n",
      "Train Epoch: 9  [24000/60000 (40 %)]\tLoss: 0.020496\n",
      "Train Epoch: 9  [28000/60000 (47 %)]\tLoss: 0.008009\n",
      "Train Epoch: 9  [32000/60000 (53 %)]\tLoss: 0.006055\n",
      "Train Epoch: 9  [36000/60000 (60 %)]\tLoss: 0.005259\n",
      "Train Epoch: 9  [40000/60000 (67 %)]\tLoss: 0.006798\n",
      "Train Epoch: 9  [44000/60000 (73 %)]\tLoss: 0.022771\n",
      "Train Epoch: 9  [48000/60000 (80 %)]\tLoss: 0.029472\n",
      "Train Epoch: 9  [52000/60000 (87 %)]\tLoss: 0.010153\n",
      "Train Epoch: 9  [56000/60000 (93 %)]\tLoss: 0.018132\n",
      "Train Epoch: 9  [60000/60000 (100%)]\tLoss: 0.014852\n",
      "----------------------------------------------------------------------------------------------------\n",
      "{'Training loss': [0.10828516632318497, 0.060880132019519806, 0.038977283984422684, 0.029835836961865425, 0.02167270891368389, 0.020958924666047096, 0.014921735972166061, 0.012201507575809956, 0.010603692382574081, 0.0094106774777174], 'Validation loss': [0.10342150926589966, 0.061373021453619, 0.04308217391371727, 0.0384327732026577, 0.030080270022153854, 0.03581194579601288, 0.030819159001111984, 0.030650299042463303, 0.030685339123010635, 0.035218723118305206]}\n"
     ]
    }
   ],
   "source": [
    "metric_reslut = t_and_v.train(train_loader=train_loader, valid_loader=val_loader)\n",
    "print(metric_reslut)  # 每一轮验证数据集的损失值"
   ],
   "metadata": {
    "collapsed": false,
    "pycharm": {
     "name": "#%%\n"
    }
   }
  },
  {
   "cell_type": "code",
   "execution_count": 9,
   "outputs": [
    {
     "data": {
      "text/plain": "<Figure size 432x288 with 1 Axes>",
      "image/png": "[encoded data removed]"
     },
     "metadata": {
      "needs_background": "light"
     },
     "output_type": "display_data"
    }
   ],
   "source": [
    "plt.plot(metric_reslut['Validation loss'], label=\"val\")\n",
    "plt.plot(metric_reslut['Training loss'], label='train')\n",
    "plt.legend()\n",
    "plt.show()"
   ],
   "metadata": {
    "collapsed": false,
    "pycharm": {
     "name": "#%%\n"
    }
   }
  },
  {
   "cell_type": "code",
   "execution_count": null,
   "outputs": [],
   "source": [],
   "metadata": {
    "collapsed": false,
    "pycharm": {
     "name": "#%%\n"
    }
   }
  }
 ],
 "metadata": {
  "kernelspec": {
   "display_name": "Python 3",
   "language": "python",
   "name": "python3"
  },
  "language_info": {
   "codemirror_mode": {
    "name": "ipython",
    "version": 2
   },
   "file_extension": ".py",
   "mimetype": "text/x-python",
   "name": "python",
   "nbconvert_exporter": "python",
   "pygments_lexer": "ipython2",
   "version": "2.7.6"
  }
 },
 "nbformat": 4,
 "nbformat_minor": 0
}