{
 "cells": [
  {
   "cell_type": "markdown",
   "metadata": {
    "collapsed": true,
    "pycharm": {
     "name": "#%% md\n"
    }
   },
   "source": [
    "## 标量 $ \\times $ 标量 "
   ]
  },
  {
   "cell_type": "code",
   "execution_count": 275,
   "metadata": {
    "pycharm": {
     "name": "#%%\n"
    }
   },
   "outputs": [
    {
     "name": "stdout",
     "output_type": "stream",
     "text": [
      "12\n"
     ]
    }
   ],
   "source": [
    "import numpy as np\n",
    "\n",
    "scalar1 = np.array(3) # 可以看作一个数(number)\n",
    "scalar2 = np.array(4)\n",
    "\n",
    "print(scalar1 * scalar2) # 等价于 3 * 4"
   ]
  },
  {
   "cell_type": "markdown",
   "metadata": {
    "pycharm": {
     "is_executing": false,
     "name": "#%% md\n"
    }
   },
   "source": [
    "## 标量 $ \\times $ 向量"
   ]
  },
  {
   "cell_type": "code",
   "execution_count": 276,
   "metadata": {
    "pycharm": {
     "name": "#%%\n"
    }
   },
   "outputs": [
    {
     "name": "stdout",
     "output_type": "stream",
     "text": [
      "[ 3  6  9 12]\n"
     ]
    }
   ],
   "source": [
    "vector1 = np.array([1, 2, 3, 4])\n",
    "print(scalar1 * vector1) # 等价于3 * vector1(广播)"
   ]
  },
  {
   "cell_type": "markdown",
   "metadata": {
    "pycharm": {
     "name": "#%% md\n"
    }
   },
   "source": [
    "## 标量 $ \\times $ 矩阵"
   ]
  },
  {
   "cell_type": "code",
   "execution_count": 277,
   "metadata": {
    "pycharm": {
     "name": "#%%\n"
    }
   },
   "outputs": [
    {
     "name": "stdout",
     "output_type": "stream",
     "text": [
      "[[ 3  6  9 12]\n",
      " [ 6  9 12 15]]\n"
     ]
    }
   ],
   "source": [
    "martrix1 = np.array([[1, 2, 3, 4], [2, 3, 4, 5]])\n",
    "print(scalar1 * martrix1) # 等价于 3 * martrix1(广播)"
   ]
  },
  {
   "cell_type": "markdown",
   "metadata": {
    "pycharm": {
     "name": "#%% md\n"
    }
   },
   "source": [
    "## 向量 $ \\times @ $ 向量"
   ]
  },
  {
   "cell_type": "code",
   "execution_count": 278,
   "metadata": {
    "pycharm": {
     "name": "#%%\n"
    }
   },
   "outputs": [
    {
     "data": {
      "text/plain": "array([ 2,  6, 12, 20])"
     },
     "execution_count": 278,
     "metadata": {},
     "output_type": "execute_result"
    }
   ],
   "source": [
    "vector1 = np.array([1, 2, 3, 4])\n",
    "vector2 = np.array([2, 3, 4, 5])\n",
    "vector1 * vector2 # 对应元素相乘"
   ]
  },
  {
   "cell_type": "code",
   "execution_count": 279,
   "metadata": {
    "pycharm": {
     "name": "#%%\n"
    }
   },
   "outputs": [
    {
     "data": {
      "text/plain": "40"
     },
     "execution_count": 279,
     "metadata": {},
     "output_type": "execute_result"
    }
   ],
   "source": [
    "vector1 @ vector2 # ★★★★★向量的内积(点积)"
   ]
  },
  {
   "cell_type": "code",
   "execution_count": 280,
   "metadata": {
    "pycharm": {
     "name": "#%%\n"
    }
   },
   "outputs": [
    {
     "data": {
      "text/plain": "40"
     },
     "execution_count": 280,
     "metadata": {},
     "output_type": "execute_result"
    }
   ],
   "source": [
    "np.dot(vector1, vector2) # 于上等价"
   ]
  },
  {
   "cell_type": "code",
   "execution_count": 281,
   "metadata": {
    "pycharm": {
     "name": "#%%\n"
    }
   },
   "outputs": [
    {
     "data": {
      "text/plain": "array([[ 2,  3,  4,  5],\n       [ 4,  6,  8, 10],\n       [ 6,  9, 12, 15],\n       [ 8, 12, 16, 20]])"
     },
     "execution_count": 281,
     "metadata": {},
     "output_type": "execute_result"
    }
   ],
   "source": [
    "vector1.reshape(4, 1) @ vector2.reshape(1, 4) # [4, 1] @ [1, 4] --> [4, 4](矩阵代数)"
   ]
  },
  {
   "cell_type": "markdown",
   "metadata": {
    "pycharm": {
     "name": "#%% md\n"
    }
   },
   "source": [
    "## 向量 $ \\times @ $ 矩阵"
   ]
  },
  {
   "cell_type": "code",
   "execution_count": 282,
   "metadata": {
    "pycharm": {
     "name": "#%%\n"
    }
   },
   "outputs": [
    {
     "name": "stdout",
     "output_type": "stream",
     "text": [
      "[[ 1  4  9 16]\n",
      " [ 2  6 12 20]]\n",
      "[[ 1  4  9 16]\n",
      " [ 2  6 12 20]]\n"
     ]
    }
   ],
   "source": [
    "martrix1 = np.array([[1, 2, 3, 4],\n",
    "                     [2, 3, 4, 5]])\n",
    "print(vector1 * martrix1) # 广播机制[2, 4] broadcasting [4] --> [2, 4]\n",
    "print(martrix1 * vector1) # 可交换顺序"
   ]
  },
  {
   "cell_type": "code",
   "execution_count": 283,
   "metadata": {
    "pycharm": {
     "name": "#%%\n"
    }
   },
   "outputs": [
    {
     "data": {
      "text/plain": "array([ 5,  8, 11, 14])"
     },
     "execution_count": 283,
     "metadata": {},
     "output_type": "execute_result"
    }
   ],
   "source": [
    "np.array([1, 2]) @ martrix1 # [2] @ [2, 4] --> [4]"
   ]
  },
  {
   "cell_type": "code",
   "execution_count": 284,
   "outputs": [
    {
     "data": {
      "text/plain": "array([30, 40])"
     },
     "execution_count": 284,
     "metadata": {},
     "output_type": "execute_result"
    }
   ],
   "source": [
    "martrix1 @ vector1 # [2, 4] @ [4] --> [2]"
   ],
   "metadata": {
    "collapsed": false,
    "pycharm": {
     "name": "#%%\n"
    }
   }
  },
  {
   "cell_type": "code",
   "execution_count": 285,
   "metadata": {
    "pycharm": {
     "name": "#%%\n"
    }
   },
   "outputs": [
    {
     "data": {
      "text/plain": "array([30, 40])"
     },
     "execution_count": 285,
     "metadata": {},
     "output_type": "execute_result"
    }
   ],
   "source": [
    "np.dot(martrix1, vector1) # 于上等价"
   ]
  },
  {
   "cell_type": "code",
   "execution_count": 286,
   "metadata": {
    "pycharm": {
     "name": "#%%\n"
    }
   },
   "outputs": [
    {
     "data": {
      "text/plain": "array([[30],\n       [40]])"
     },
     "execution_count": 286,
     "metadata": {},
     "output_type": "execute_result"
    }
   ],
   "source": [
    "martrix1 @ vector1.reshape(4, 1) # [2, 4] @ [4, 1] --> [2, 1](矩阵代数)"
   ]
  },
  {
   "cell_type": "markdown",
   "metadata": {
    "pycharm": {
     "is_executing": false,
     "name": "#%% md\n"
    }
   },
   "source": [
    "## 矩阵 $ \\times @ $ 矩阵"
   ]
  },
  {
   "cell_type": "code",
   "execution_count": 287,
   "metadata": {
    "pycharm": {
     "name": "#%%\n"
    }
   },
   "outputs": [
    {
     "data": {
      "text/plain": "array([[0, 0, 0, 0],\n       [2, 3, 4, 5]])"
     },
     "execution_count": 287,
     "metadata": {},
     "output_type": "execute_result"
    }
   ],
   "source": [
    "martrix1 = np.array([[1, 2, 3, 4],\n",
    "                     [2, 3, 4, 5]])\n",
    "martrix2 = np.array([[0, 0, 0, 0],\n",
    "                     [1, 1, 1, 1]])\n",
    "\n",
    "martrix1 * martrix2 # 对应元素相乘"
   ]
  },
  {
   "cell_type": "code",
   "execution_count": 288,
   "metadata": {
    "pycharm": {
     "name": "#%%\n"
    }
   },
   "outputs": [
    {
     "data": {
      "text/plain": "array([[7, 7],\n       [9, 9]])"
     },
     "execution_count": 288,
     "metadata": {},
     "output_type": "execute_result"
    }
   ],
   "source": [
    "martrix1 @ martrix2.reshape(4, 2) # 必须满足矩阵代数运算法则"
   ]
  },
  {
   "cell_type": "code",
   "execution_count": 289,
   "metadata": {
    "pycharm": {
     "name": "#%%\n"
    }
   },
   "outputs": [
    {
     "data": {
      "text/plain": "array([[7, 7],\n       [9, 9]])"
     },
     "execution_count": 289,
     "metadata": {},
     "output_type": "execute_result"
    }
   ],
   "source": [
    "np.dot(martrix1, martrix2.reshape(4, 2))"
   ]
  },
  {
   "cell_type": "markdown",
   "source": [
    "### 高维矩阵 @ 高维矩阵"
   ],
   "metadata": {
    "collapsed": false,
    "pycharm": {
     "name": "#%% md\n"
    }
   }
  },
  {
   "cell_type": "code",
   "execution_count": 290,
   "outputs": [],
   "source": [
    "a = np.random.randn(4, 3, 5, 28, 64)\n",
    "b = np.random.randn(4, 3, 5, 64, 32)"
   ],
   "metadata": {
    "collapsed": false,
    "pycharm": {
     "name": "#%%\n"
    }
   }
  },
  {
   "cell_type": "code",
   "execution_count": 291,
   "outputs": [
    {
     "data": {
      "text/plain": "(4, 3, 5, 28, 32)"
     },
     "execution_count": 291,
     "metadata": {},
     "output_type": "execute_result"
    }
   ],
   "source": [
    "out = a @ b\n",
    "# [4, 3, 5, 28, 64] @ [4, 3, 5, 64, 32] -->\n",
    "# 1. [4, 3, 5] 不变\n",
    "# 2. [28, 64] @ [64, 32] --> [28, 64]\n",
    "# 3. [4, 3, 5, 28, 64]\n",
    "out.shape"
   ],
   "metadata": {
    "collapsed": false,
    "pycharm": {
     "name": "#%%\n"
    }
   }
  },
  {
   "cell_type": "code",
   "execution_count": 292,
   "outputs": [
    {
     "data": {
      "text/plain": "(4, 3, 5, 28, 32)"
     },
     "execution_count": 292,
     "metadata": {},
     "output_type": "execute_result"
    }
   ],
   "source": [
    "c = np.random.randn(4, 1, 5, 64, 32)\n",
    "# [4, 3, 5, 28, 64] @ [4, 1, 5, 64, 32] -->\n",
    "# 1. [4, 3, 5] broadcasting [4, 1, 5] --> [4, 3, 5]\n",
    "# 2. [28, 64] @ [64, 32] --> [28, 64]\n",
    "# 3. [4, 3, 5, 28, 64]\n",
    "out1 = a @ c\n",
    "out1.shape"
   ],
   "metadata": {
    "collapsed": false,
    "pycharm": {
     "name": "#%%\n"
    }
   }
  },
  {
   "cell_type": "code",
   "execution_count": 293,
   "outputs": [
    {
     "data": {
      "text/plain": "(4, 3, 5, 28, 32)"
     },
     "execution_count": 293,
     "metadata": {},
     "output_type": "execute_result"
    }
   ],
   "source": [
    "a1 = np.random.randn(4, 1, 5, 28, 64)\n",
    "b1 = np.random.randn(1, 3, 1, 64, 32)\n",
    "# [4, 1, 5, 28, 64] @ [1, 3, 1, 64, 32] -->\n",
    "# 1. [4, 1, 5] broadcasting [1, 3, 1] --> [4, 3, 5]\n",
    "# 2. [28, 64] @ [64, 32] --> [28, 64]\n",
    "# 3. [4, 3, 5, 28, 64]\n",
    "out2 = a1 @ b1\n",
    "out2.shape"
   ],
   "metadata": {
    "collapsed": false,
    "pycharm": {
     "name": "#%%\n"
    }
   }
  },
  {
   "cell_type": "code",
   "execution_count": 294,
   "outputs": [
    {
     "data": {
      "text/plain": "(4, 1, 5, 28, 1, 3, 1, 32)"
     },
     "execution_count": 294,
     "metadata": {},
     "output_type": "execute_result"
    }
   ],
   "source": [
    "np.dot(a1, b1).shape # 不再等价于a1 @ b1"
   ],
   "metadata": {
    "collapsed": false,
    "pycharm": {
     "name": "#%%\n"
    }
   }
  },
  {
   "cell_type": "code",
   "execution_count": 294,
   "outputs": [],
   "source": [
    "\n"
   ],
   "metadata": {
    "collapsed": false,
    "pycharm": {
     "name": "#%%\n"
    }
   }
  }
 ],
 "metadata": {
  "kernelspec": {
   "display_name": "Python 3",
   "language": "python",
   "name": "python3"
  },
  "language_info": {
   "codemirror_mode": {
    "name": "ipython",
    "version": 3
   },
   "file_extension": ".py",
   "mimetype": "text/x-python",
   "name": "python",
   "nbconvert_exporter": "python",
   "pygments_lexer": "ipython3",
   "version": "3.7.4"
  },
  "toc": {
   "base_numbering": "",
   "nav_menu": {},
   "number_sections": false,
   "sideBar": true,
   "skip_h1_title": false,
   "title_cell": "Table of Contents",
   "title_sidebar": "Contents",
   "toc_cell": false,
   "toc_position": {
    "height": "calc(100% - 180px)",
    "left": "10px",
    "top": "150px",
    "width": "188.667px"
   },
   "toc_section_display": true,
   "toc_window_display": true
  }
 },
 "nbformat": 4,
 "nbformat_minor": 1
}