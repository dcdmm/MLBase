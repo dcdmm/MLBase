{
 "cells": [
  {
   "cell_type": "code",
   "execution_count": 7,
   "metadata": {
    "collapsed": true
   },
   "outputs": [],
   "source": [
    "from datasets import Dataset\n",
    "import pandas as pd\n",
    "import numpy as np"
   ]
  },
  {
   "cell_type": "markdown",
   "source": [
    "### from_pandas"
   ],
   "metadata": {
    "collapsed": false,
    "pycharm": {
     "name": "#%% md\n"
    }
   }
  },
  {
   "cell_type": "code",
   "execution_count": 8,
   "outputs": [
    {
     "data": {
      "text/plain": "    state  year  pop\n0    Ohio  2000  1.5\n1    Ohio  2001  1.7\n2    Ohio  2002  3.6\n3  Nevada  2001  2.4\n4  Nevada  2002  2.9\n5  Nevada  2003  3.2",
      "text/html": "<div>\n<style scoped>\n    .dataframe tbody tr th:only-of-type {\n        vertical-align: middle;\n    }\n\n    .dataframe tbody tr th {\n        vertical-align: top;\n    }\n\n    .dataframe thead th {\n        text-align: right;\n    }\n</style>\n<table border=\"1\" class=\"dataframe\">\n  <thead>\n    <tr style=\"text-align: right;\">\n      <th></th>\n      <th>state</th>\n      <th>year</th>\n      <th>pop</th>\n    </tr>\n  </thead>\n  <tbody>\n    <tr>\n      <th>0</th>\n      <td>Ohio</td>\n      <td>2000</td>\n      <td>1.5</td>\n    </tr>\n    <tr>\n      <th>1</th>\n      <td>Ohio</td>\n      <td>2001</td>\n      <td>1.7</td>\n    </tr>\n    <tr>\n      <th>2</th>\n      <td>Ohio</td>\n      <td>2002</td>\n      <td>3.6</td>\n    </tr>\n    <tr>\n      <th>3</th>\n      <td>Nevada</td>\n      <td>2001</td>\n      <td>2.4</td>\n    </tr>\n    <tr>\n      <th>4</th>\n      <td>Nevada</td>\n      <td>2002</td>\n      <td>2.9</td>\n    </tr>\n    <tr>\n      <th>5</th>\n      <td>Nevada</td>\n      <td>2003</td>\n      <td>3.2</td>\n    </tr>\n  </tbody>\n</table>\n</div>"
     },
     "execution_count": 2,
     "metadata": {},
     "output_type": "execute_result"
    },
    {
     "data": {
      "text/plain": "    state  year  pop\n0    Ohio  2000  1.5\n1    Ohio  2001  1.7\n2    Ohio  2002  3.6\n3  Nevada  2001  2.4\n4  Nevada  2002  2.9\n5  Nevada  2003  3.2",
      "text/html": "<div>\n<style scoped>\n    .dataframe tbody tr th:only-of-type {\n        vertical-align: middle;\n    }\n\n    .dataframe tbody tr th {\n        vertical-align: top;\n    }\n\n    .dataframe thead th {\n        text-align: right;\n    }\n</style>\n<table border=\"1\" class=\"dataframe\">\n  <thead>\n    <tr style=\"text-align: right;\">\n      <th></th>\n      <th>state</th>\n      <th>year</th>\n      <th>pop</th>\n    </tr>\n  </thead>\n  <tbody>\n    <tr>\n      <th>0</th>\n      <td>Ohio</td>\n      <td>2000</td>\n      <td>1.5</td>\n    </tr>\n    <tr>\n      <th>1</th>\n      <td>Ohio</td>\n      <td>2001</td>\n      <td>1.7</td>\n    </tr>\n    <tr>\n      <th>2</th>\n      <td>Ohio</td>\n      <td>2002</td>\n      <td>3.6</td>\n    </tr>\n    <tr>\n      <th>3</th>\n      <td>Nevada</td>\n      <td>2001</td>\n      <td>2.4</td>\n    </tr>\n    <tr>\n      <th>4</th>\n      <td>Nevada</td>\n      <td>2002</td>\n      <td>2.9</td>\n    </tr>\n    <tr>\n      <th>5</th>\n      <td>Nevada</td>\n      <td>2003</td>\n      <td>3.2</td>\n    </tr>\n  </tbody>\n</table>\n</div>"
     },
     "execution_count": 8,
     "metadata": {},
     "output_type": "execute_result"
    }
   ],
   "source": [
    "data = {'state': ['Ohio', 'Ohio', 'Ohio', 'Nevada', 'Nevada', 'Nevada'],\n",
    "        'year': [2000, 2001, 2002, 2001, 2002, 2003],\n",
    "        'pop': np.array([1.5, 1.7, 3.6, 2.4, 2.9, 3.2])}\n",
    "frame1 = pd.DataFrame(data)\n",
    "frame1"
   ],
   "metadata": {
    "collapsed": false,
    "pycharm": {
     "name": "#%%\n"
    }
   }
  },
  {
   "cell_type": "code",
   "execution_count": 9,
   "outputs": [
    {
     "data": {
      "text/plain": "Dataset({\n    features: ['state', 'year', 'pop'],\n    num_rows: 6\n})"
     },
     "execution_count": 3,
     "metadata": {},
     "output_type": "execute_result"
    },
    {
     "data": {
      "text/plain": "Dataset({\n    features: ['state', 'year', 'pop'],\n    num_rows: 6\n})"
     },
     "execution_count": 9,
     "metadata": {},
     "output_type": "execute_result"
    }
   ],
   "source": [
    "Dataset.from_pandas(frame1)  # 类型:datasets.arrow_dataset.Dataset;不含索引"
   ],
   "metadata": {
    "collapsed": false,
    "pycharm": {
     "name": "#%%\n"
    }
   }
  },
  {
   "cell_type": "markdown",
   "source": [
    "### from_text"
   ],
   "metadata": {
    "collapsed": false,
    "pycharm": {
     "name": "#%% md\n"
    }
   }
  },
  {
   "cell_type": "code",
   "execution_count": 10,
   "outputs": [
    {
     "name": "stderr",
     "output_type": "stream",
     "text": [
      "Using custom data configuration default-f0fbe8c8ce9a363f\n",
      "Reusing dataset text (C:\\Users\\dcdmm\\.cache\\huggingface\\datasets\\text\\default-f0fbe8c8ce9a363f\\0.0.0)\n"
     ]
    },
    {
     "data": {
      "text/plain": "Dataset({\n    features: ['text'],\n    num_rows: 16001\n})"
     },
     "execution_count": 4,
     "metadata": {},
     "output_type": "execute_result"
    },
    {
     "name": "stderr",
     "output_type": "stream",
     "text": [
      "Using custom data configuration default-f0fbe8c8ce9a363f\n",
      "Reusing dataset text (C:\\Users\\dcdmm\\.cache\\huggingface\\datasets\\text\\default-f0fbe8c8ce9a363f\\0.0.0)\n"
     ]
    },
    {
     "data": {
      "text/plain": "Dataset({\n    features: ['text'],\n    num_rows: 16001\n})"
     },
     "execution_count": 10,
     "metadata": {},
     "output_type": "execute_result"
    }
   ],
   "source": [
    "# path_or_paths: Union[PathLike, List[PathLike]]\n",
    "text = Dataset.from_text(path_or_paths='extra_dataset/from_xxx/train.txt')\n",
    "text  # 类型:datasets.arrow_dataset.Dataset"
   ],
   "metadata": {
    "collapsed": false,
    "pycharm": {
     "name": "#%%\n"
    }
   }
  },
  {
   "cell_type": "code",
   "execution_count": 11,
   "outputs": [
    {
     "data": {
      "text/plain": "{'text': ['i didnt feel humiliated;sadness',\n  '',\n  'i can go from feeling so hopeless to so damned hopeful just from being around someone who cares and is awake;sadness',\n  'im grabbing a minute to post i feel greedy wrong;anger',\n  'i am ever feeling nostalgic about the fireplace i will know that it is still on the property;love',\n  'i am feeling grouchy;anger',\n  'ive been feeling a little burdened lately wasnt sure why that was;sadness',\n  'ive been taking or milligrams or times recommended amount and ive fallen asleep a lot faster but i also feel like so funny;surprise',\n  'i feel as confused about life as a teenager or as jaded as a year old man;fear',\n  'i have been with petronas for years i feel that petronas has performed well and made a huge profit;joy',\n  'i feel romantic too;love',\n  'i feel like i have to make the suffering i m seeing mean something;sadness',\n  'i do feel that running is a divine experience and that i can expect to have some type of spiritual encounter;joy',\n  'i think it s the easiest time of year to feel dissatisfied;anger',\n  'i feel low energy i m just thirsty;sadness',\n  'i have immense sympathy with the general point but as a possible proto writer trying to find time to write in the corners of life and with no sign of an agent let alone a publishing contract this feels a little precious;joy',\n  'i do not feel reassured anxiety is on each side;joy',\n  'i didnt really feel that embarrassed;sadness',\n  'i feel pretty pathetic most of the time;sadness',\n  'i started feeling sentimental about dolls i had as a child and so began a collection of vintage barbie dolls from the sixties;sadness',\n  'i now feel compromised and skeptical of the value of every unit of work i put in;fear',\n  'i feel irritated and rejected without anyone doing anything or saying anything;anger',\n  'i am feeling completely overwhelmed i have two strategies that help me to feel grounded pour my heart out in my journal in the form of a letter to god and then end with a list of five things i am most grateful for;fear',\n  'i have the feeling she was amused and delighted;joy',\n  'i was able to help chai lifeline with your support and encouragement is a great feeling and i am so glad you were able to help me;joy',\n  'i already feel like i fucked up though because i dont usually eat at all in the morning;anger',\n  'i still love my so and wish the best for him i can no longer tolerate the effect that bm has on our lives and the fact that is has turned my so into a bitter angry person who is not always particularly kind to the people around him when he is feeling stressed;sadness',\n  'i feel so inhibited in someone elses kitchen like im painting on someone elses picture;sadness',\n  'i become overwhelmed and feel defeated;sadness',\n  'i feel kinda appalled that she feels like she needs to explain in wide and lenghth her body measures etc pp;anger',\n  'i feel more superior dead chicken or grieving child;joy',\n  'i get giddy over feeling elegant in a perfectly fitted pencil skirt;joy',\n  'i remember feeling acutely distressed for a few days;fear',\n  'i have seen heard and read over the past couple of days i am left feeling impressed by more than a few companies;surprise',\n  'i climbed the hill feeling frustrated that id pretty much paced entirely wrong for this course and that a factor that has never ever hampered me had made such a dent in the day;anger',\n  'i can t imagine a real life scenario where i would be emotionally connected enough with someone to feel totally accepted and safe where it it morally acceptable for me to have close and prolonged physical contact and where sex won t be expected subsequently;joy',\n  'i am not sure what would make me feel content if anything;joy',\n  'i have been feeling the need to be creative;joy',\n  'i do however want you to know that if something someone is causing you to feel less then your splendid self step away from them;joy',\n  'i feel a bit rude writing to an elderly gentleman to ask for gifts because i feel a bit greedy but what is christmas about if not mild greed;anger',\n  'i need you i need someone i need to be protected and feel safe i am small now i find myself in a season of no words;joy',\n  'i plan to share my everyday life stories traveling adventures inspirations and handmade creations with you and hope you will also feel inspired;joy',\n  'i already have my christmas trees up i got two and am feeling festive which i m sure is spurring me to get started on this book;joy',\n  'ive worn it once on its own with a little concealer and for the days im feeling brave but dont want to be pale then its perfect;joy',\n  'i feel very strongly passionate about when some jerk off decides to poke and make fun of us;joy',\n  'i was feeling so discouraged we are already robbing peter to pay paul to get our cow this year but we cant afford to not get the cow this way;sadness',\n  'i was feeling listless from the need of new things something different;sadness',\n  'i lost my special mind but don t worry i m still sane i just wanted you to feel what i felt while reading this book i don t know how many times it was said that sam was special but i can guarantee you it was many more times than what i used in that paragraph did i tell you she was special;joy',\n  'i can t let go of that sad feeling that i want to be accepted here in this first home of mine;love',\n  'on a boat trip to denmark;joy',\n  'i stopped feeling cold and began feeling hot;anger',\n  'i need to feel the dough to make sure its just perfect;joy',\n  'i found myself feeling a little discouraged that morning;sadness',\n  'i feel selfish and spoiled;anger',\n  'i was stymied a little bit as i wrote feeling unsure that i might go somewhere with the story unintended;fear',\n  'i bag qaf look who s cryin now jacynthe lookin good feelin gorgeous rupaul the skins scissor sisters valentine the sun fed up kayle who s your daddy gerling awake the unkind u;joy',\n  'i feel you know basically like a fake in the realm of science fiction;sadness',\n  'i hate living under my dads roof because it gives him an excuse to be an asshole to me because hes providing for me to live here i think he feels that he needs to make me feel as unwelcome as possible so ill leave;sadness',\n  'i keep feeling pleasantly surprised at his supportiveness and also his ease in new situations;surprise',\n  'i have this feeling that if i have anymore vigorous sexual activity in the coming yes i misspelt that as cumming days parts of me will begin to fall off;joy',\n  'i feel my mom s graceful warm loving smile as i rob the time to nurture myself and heal;joy',\n  'i feel in they talk the brother in law is extremely popular the one that had no me to think is so stiff;joy',\n  'i ate i could feel a gentle tingle throughout almost as if i was feeling the healing taking place at a cellular level;love',\n  'i feel like we are pressured into being young beautiful thin and depending on the trend having the girls rejuvenated or butt implants;fear',\n  'i began having them several times a week feeling tortured by the hallucinations moving people and figures sounds and vibrations;fear',\n  'i am now nearly finished the week detox and i feel amazing;surprise',\n  'i feel selfish as i read back to my former posts how i have never asked for prayers for others how i never considered that there may be others out there that deserve their prayers answered before my own;anger',\n  'i know the pain parents feel when an enraged child becomes violent;anger',\n  'i have been on a roller coaster of emotions over these supposed feelings that something unpleasant was coming;sadness',\n  'i suppose my own truth needs to be shared i havent been feeling very faithful lately ive dwelled more in doubt and uncertainty than i have in faith;love',\n  'i was feeling brave when i bought it and clearly when i was doing my makeup;joy',\n  'i am feeling miserable but c i am also the proudest mum on earth;sadness',\n  'i figure my family loves us no matter what but around anyone else i feel embarrassed when michelle goes ballistic;sadness',\n  'i don t necessarily think f bombs and sex are necessary in all stories but i feel reassured when i see them in print journals;joy',\n  'i can feel my ovaries aching talking to me as i like to put it;sadness',\n  'i didn t feel like doing much chris and i mostly just took too many pictures of unimportant stuff;sadness',\n  'im tired of the book and ready to have it out of here and finding out that i was given unsuitable images and then feeling blamed for the result did not sit well;sadness',\n  'i did successfully manage to stretch a mxm canvas i feel that this is an achievement in itself for me and was a worthwhile usage of my money and time i will use the canvas for future briefs;joy',\n  'i think feelings are one of nay the most important things we have;joy',\n  'i feel completely honored to be an influence to this young talented fully alive beautiful girl woman;joy',\n  'i feel angered and firey;anger',\n  'i feel like a miserable piece of garbage;sadness',\n  'i feel like i need to make a list leanne would be appalled at the thought so that i dont miss anything;anger',\n  'i drove dannika to school i was feeling a little bit rushed and this is what greeted me as i turned the corner;anger',\n  'i remember feeling so hellip furious with the shooter;anger',\n  'i feel very happy and excited since i learned so many things;joy',\n  'i feel that at shows and around show horses people are trusting and relaxed because most show horses are safe and quiet and are handled frequently;joy',\n  'i only have a couple of things left to make and at the start of december i am done and feeling smug;joy',\n  'i think about how u could make me feel and realize that everything will be ok;joy',\n  'i feel so worthless during those times i was struggling finding work;sadness',\n  'i will be able to lay on my bed in the dark and not feel terrified at least for a while;fear',\n  'i was ready to meet mom in the airport and feel her ever supportive arms around me;love',\n  'im feeling bitter today my mood has been strange the entire day so i guess its that;anger',\n  'when my mums brother passed away after having been involved in a car accident he was bringing me a present as i had passed my form five exams with flying colours;sadness',\n  'i am letting go of the animosity that is towards anyone that i feel has wronged me;anger',\n  'i talk to dogs as i feel they cannot understand words but they can read emotions and know how to be supportive i decided i should go home;love',\n  'i feel like throwing away the shitty piece of shit paper;sadness',\n  'im starting to feel wryly amused at the banal comedy of errors my life is turning into;joy',\n  'i find every body beautiful and only want people to feel vital in their bodies;joy',\n  'i hear are owners who feel victimized by their associations the associations attorneys or the property manager;sadness']}"
     },
     "execution_count": 5,
     "metadata": {},
     "output_type": "execute_result"
    },
    {
     "data": {
      "text/plain": "{'text': ['i didnt feel humiliated;sadness',\n  '',\n  'i can go from feeling so hopeless to so damned hopeful just from being around someone who cares and is awake;sadness',\n  'im grabbing a minute to post i feel greedy wrong;anger',\n  'i am ever feeling nostalgic about the fireplace i will know that it is still on the property;love',\n  'i am feeling grouchy;anger',\n  'ive been feeling a little burdened lately wasnt sure why that was;sadness',\n  'ive been taking or milligrams or times recommended amount and ive fallen asleep a lot faster but i also feel like so funny;surprise',\n  'i feel as confused about life as a teenager or as jaded as a year old man;fear',\n  'i have been with petronas for years i feel that petronas has performed well and made a huge profit;joy',\n  'i feel romantic too;love',\n  'i feel like i have to make the suffering i m seeing mean something;sadness',\n  'i do feel that running is a divine experience and that i can expect to have some type of spiritual encounter;joy',\n  'i think it s the easiest time of year to feel dissatisfied;anger',\n  'i feel low energy i m just thirsty;sadness',\n  'i have immense sympathy with the general point but as a possible proto writer trying to find time to write in the corners of life and with no sign of an agent let alone a publishing contract this feels a little precious;joy',\n  'i do not feel reassured anxiety is on each side;joy',\n  'i didnt really feel that embarrassed;sadness',\n  'i feel pretty pathetic most of the time;sadness',\n  'i started feeling sentimental about dolls i had as a child and so began a collection of vintage barbie dolls from the sixties;sadness',\n  'i now feel compromised and skeptical of the value of every unit of work i put in;fear',\n  'i feel irritated and rejected without anyone doing anything or saying anything;anger',\n  'i am feeling completely overwhelmed i have two strategies that help me to feel grounded pour my heart out in my journal in the form of a letter to god and then end with a list of five things i am most grateful for;fear',\n  'i have the feeling she was amused and delighted;joy',\n  'i was able to help chai lifeline with your support and encouragement is a great feeling and i am so glad you were able to help me;joy',\n  'i already feel like i fucked up though because i dont usually eat at all in the morning;anger',\n  'i still love my so and wish the best for him i can no longer tolerate the effect that bm has on our lives and the fact that is has turned my so into a bitter angry person who is not always particularly kind to the people around him when he is feeling stressed;sadness',\n  'i feel so inhibited in someone elses kitchen like im painting on someone elses picture;sadness',\n  'i become overwhelmed and feel defeated;sadness',\n  'i feel kinda appalled that she feels like she needs to explain in wide and lenghth her body measures etc pp;anger',\n  'i feel more superior dead chicken or grieving child;joy',\n  'i get giddy over feeling elegant in a perfectly fitted pencil skirt;joy',\n  'i remember feeling acutely distressed for a few days;fear',\n  'i have seen heard and read over the past couple of days i am left feeling impressed by more than a few companies;surprise',\n  'i climbed the hill feeling frustrated that id pretty much paced entirely wrong for this course and that a factor that has never ever hampered me had made such a dent in the day;anger',\n  'i can t imagine a real life scenario where i would be emotionally connected enough with someone to feel totally accepted and safe where it it morally acceptable for me to have close and prolonged physical contact and where sex won t be expected subsequently;joy',\n  'i am not sure what would make me feel content if anything;joy',\n  'i have been feeling the need to be creative;joy',\n  'i do however want you to know that if something someone is causing you to feel less then your splendid self step away from them;joy',\n  'i feel a bit rude writing to an elderly gentleman to ask for gifts because i feel a bit greedy but what is christmas about if not mild greed;anger',\n  'i need you i need someone i need to be protected and feel safe i am small now i find myself in a season of no words;joy',\n  'i plan to share my everyday life stories traveling adventures inspirations and handmade creations with you and hope you will also feel inspired;joy',\n  'i already have my christmas trees up i got two and am feeling festive which i m sure is spurring me to get started on this book;joy',\n  'ive worn it once on its own with a little concealer and for the days im feeling brave but dont want to be pale then its perfect;joy',\n  'i feel very strongly passionate about when some jerk off decides to poke and make fun of us;joy',\n  'i was feeling so discouraged we are already robbing peter to pay paul to get our cow this year but we cant afford to not get the cow this way;sadness',\n  'i was feeling listless from the need of new things something different;sadness',\n  'i lost my special mind but don t worry i m still sane i just wanted you to feel what i felt while reading this book i don t know how many times it was said that sam was special but i can guarantee you it was many more times than what i used in that paragraph did i tell you she was special;joy',\n  'i can t let go of that sad feeling that i want to be accepted here in this first home of mine;love',\n  'on a boat trip to denmark;joy',\n  'i stopped feeling cold and began feeling hot;anger',\n  'i need to feel the dough to make sure its just perfect;joy',\n  'i found myself feeling a little discouraged that morning;sadness',\n  'i feel selfish and spoiled;anger',\n  'i was stymied a little bit as i wrote feeling unsure that i might go somewhere with the story unintended;fear',\n  'i bag qaf look who s cryin now jacynthe lookin good feelin gorgeous rupaul the skins scissor sisters valentine the sun fed up kayle who s your daddy gerling awake the unkind u;joy',\n  'i feel you know basically like a fake in the realm of science fiction;sadness',\n  'i hate living under my dads roof because it gives him an excuse to be an asshole to me because hes providing for me to live here i think he feels that he needs to make me feel as unwelcome as possible so ill leave;sadness',\n  'i keep feeling pleasantly surprised at his supportiveness and also his ease in new situations;surprise',\n  'i have this feeling that if i have anymore vigorous sexual activity in the coming yes i misspelt that as cumming days parts of me will begin to fall off;joy',\n  'i feel my mom s graceful warm loving smile as i rob the time to nurture myself and heal;joy',\n  'i feel in they talk the brother in law is extremely popular the one that had no me to think is so stiff;joy',\n  'i ate i could feel a gentle tingle throughout almost as if i was feeling the healing taking place at a cellular level;love',\n  'i feel like we are pressured into being young beautiful thin and depending on the trend having the girls rejuvenated or butt implants;fear',\n  'i began having them several times a week feeling tortured by the hallucinations moving people and figures sounds and vibrations;fear',\n  'i am now nearly finished the week detox and i feel amazing;surprise',\n  'i feel selfish as i read back to my former posts how i have never asked for prayers for others how i never considered that there may be others out there that deserve their prayers answered before my own;anger',\n  'i know the pain parents feel when an enraged child becomes violent;anger',\n  'i have been on a roller coaster of emotions over these supposed feelings that something unpleasant was coming;sadness',\n  'i suppose my own truth needs to be shared i havent been feeling very faithful lately ive dwelled more in doubt and uncertainty than i have in faith;love',\n  'i was feeling brave when i bought it and clearly when i was doing my makeup;joy',\n  'i am feeling miserable but c i am also the proudest mum on earth;sadness',\n  'i figure my family loves us no matter what but around anyone else i feel embarrassed when michelle goes ballistic;sadness',\n  'i don t necessarily think f bombs and sex are necessary in all stories but i feel reassured when i see them in print journals;joy',\n  'i can feel my ovaries aching talking to me as i like to put it;sadness',\n  'i didn t feel like doing much chris and i mostly just took too many pictures of unimportant stuff;sadness',\n  'im tired of the book and ready to have it out of here and finding out that i was given unsuitable images and then feeling blamed for the result did not sit well;sadness',\n  'i did successfully manage to stretch a mxm canvas i feel that this is an achievement in itself for me and was a worthwhile usage of my money and time i will use the canvas for future briefs;joy',\n  'i think feelings are one of nay the most important things we have;joy',\n  'i feel completely honored to be an influence to this young talented fully alive beautiful girl woman;joy',\n  'i feel angered and firey;anger',\n  'i feel like a miserable piece of garbage;sadness',\n  'i feel like i need to make a list leanne would be appalled at the thought so that i dont miss anything;anger',\n  'i drove dannika to school i was feeling a little bit rushed and this is what greeted me as i turned the corner;anger',\n  'i remember feeling so hellip furious with the shooter;anger',\n  'i feel very happy and excited since i learned so many things;joy',\n  'i feel that at shows and around show horses people are trusting and relaxed because most show horses are safe and quiet and are handled frequently;joy',\n  'i only have a couple of things left to make and at the start of december i am done and feeling smug;joy',\n  'i think about how u could make me feel and realize that everything will be ok;joy',\n  'i feel so worthless during those times i was struggling finding work;sadness',\n  'i will be able to lay on my bed in the dark and not feel terrified at least for a while;fear',\n  'i was ready to meet mom in the airport and feel her ever supportive arms around me;love',\n  'im feeling bitter today my mood has been strange the entire day so i guess its that;anger',\n  'when my mums brother passed away after having been involved in a car accident he was bringing me a present as i had passed my form five exams with flying colours;sadness',\n  'i am letting go of the animosity that is towards anyone that i feel has wronged me;anger',\n  'i talk to dogs as i feel they cannot understand words but they can read emotions and know how to be supportive i decided i should go home;love',\n  'i feel like throwing away the shitty piece of shit paper;sadness',\n  'im starting to feel wryly amused at the banal comedy of errors my life is turning into;joy',\n  'i find every body beautiful and only want people to feel vital in their bodies;joy',\n  'i hear are owners who feel victimized by their associations the associations attorneys or the property manager;sadness']}"
     },
     "execution_count": 11,
     "metadata": {},
     "output_type": "execute_result"
    }
   ],
   "source": [
    "text[:100]"
   ],
   "metadata": {
    "collapsed": false,
    "pycharm": {
     "name": "#%%\n"
    }
   }
  },
  {
   "cell_type": "code",
   "execution_count": 12,
   "outputs": [
    {
     "name": "stderr",
     "output_type": "stream",
     "text": [
      "Using custom data configuration default-77e930b2e61be284\n",
      "Reusing dataset text (C:\\Users\\dcdmm\\.cache\\huggingface\\datasets\\text\\default-77e930b2e61be284\\0.0.0)\n"
     ]
    },
    {
     "data": {
      "text/plain": "Dataset({\n    features: ['text'],\n    num_rows: 48003\n})"
     },
     "execution_count": 6,
     "metadata": {},
     "output_type": "execute_result"
    },
    {
     "name": "stderr",
     "output_type": "stream",
     "text": [
      "Using custom data configuration default-77e930b2e61be284\n",
      "Reusing dataset text (C:\\Users\\dcdmm\\.cache\\huggingface\\datasets\\text\\default-77e930b2e61be284\\0.0.0)\n"
     ]
    },
    {
     "data": {
      "text/plain": "Dataset({\n    features: ['text'],\n    num_rows: 48003\n})"
     },
     "execution_count": 12,
     "metadata": {},
     "output_type": "execute_result"
    }
   ],
   "source": [
    "Dataset.from_text(['extra_dataset/from_xxx/train.txt'] * 3)  # 类型:datasets.arrow_dataset.Dataset"
   ],
   "metadata": {
    "collapsed": false,
    "pycharm": {
     "name": "#%%\n"
    }
   }
  }
 ],
 "metadata": {
  "kernelspec": {
   "display_name": "Python 3",
   "language": "python",
   "name": "python3"
  },
  "language_info": {
   "codemirror_mode": {
    "name": "ipython",
    "version": 2
   },
   "file_extension": ".py",
   "mimetype": "text/x-python",
   "name": "python",
   "nbconvert_exporter": "python",
   "pygments_lexer": "ipython2",
   "version": "2.7.6"
  }
 },
 "nbformat": 4,
 "nbformat_minor": 0
}