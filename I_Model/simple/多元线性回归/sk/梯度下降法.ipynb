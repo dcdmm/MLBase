{
 "cells": [
  {
   "cell_type": "code",
   "execution_count": 1,
   "metadata": {
    "collapsed": true,
    "pycharm": {
     "name": "#%%\n"
    }
   },
   "outputs": [],
   "source": [
    "from sklearn.linear_model import SGDRegressor\n",
    "from sklearn import datasets\n",
    "from sklearn.model_selection import train_test_split\n",
    "from sklearn.preprocessing import StandardScaler"
   ]
  },
  {
   "cell_type": "code",
   "execution_count": 2,
   "outputs": [],
   "source": [
    "boston = datasets.load_boston() # 波士顿房产数据集\n",
    "X = boston.data\n",
    "y = boston.target\n",
    "X = X[y < 50.0]\n",
    "y = y[y < 50.0]\n",
    "X_train, X_test, y_train, y_test = train_test_split(X, y, test_size=0.3333)"
   ],
   "metadata": {
    "collapsed": false,
    "pycharm": {
     "name": "#%%\n"
    }
   }
  },
  {
   "cell_type": "code",
   "execution_count": 3,
   "outputs": [],
   "source": [
    "standardScaler = StandardScaler()\n",
    "standardScaler.fit(X_train)\n",
    "X_train_standard = standardScaler.transform(X_train) # 数据归一化\n",
    "X_test_standard = standardScaler.transform(X_test)"
   ],
   "metadata": {
    "collapsed": false,
    "pycharm": {
     "name": "#%%\n"
    }
   }
  },
  {
   "cell_type": "code",
   "execution_count": 4,
   "outputs": [
    {
     "name": "stdout",
     "output_type": "stream",
     "text": [
      "Wall time: 3.99 ms\n"
     ]
    },
    {
     "data": {
      "text/plain": "SGDRegressor(max_iter=100)"
     },
     "execution_count": 4,
     "metadata": {},
     "output_type": "execute_result"
    }
   ],
   "source": [
    "sgd_reg = SGDRegressor(max_iter=100)\n",
    "# max_iter:训练的最大轮数\n",
    "%time sgd_reg.fit(X_train_standard, y_train)"
   ],
   "metadata": {
    "collapsed": false,
    "pycharm": {
     "name": "#%%\n"
    }
   }
  },
  {
   "cell_type": "code",
   "execution_count": 5,
   "outputs": [
    {
     "data": {
      "text/plain": "0.7988073736136009"
     },
     "execution_count": 5,
     "metadata": {},
     "output_type": "execute_result"
    }
   ],
   "source": [
    "sgd_reg.score(X_test_standard, y_test) # 模型的可决系数R平方"
   ],
   "metadata": {
    "collapsed": false,
    "pycharm": {
     "name": "#%%\n"
    }
   }
  },
  {
   "cell_type": "code",
   "execution_count": 6,
   "outputs": [
    {
     "data": {
      "text/plain": "array([ -414.44425488,  -353.55349184,  -327.78320624,  -359.6281609 ,\n        -321.09126684,  -356.28091766,  -368.76998109,  -368.43135034,\n        -317.06178375, -1337.00402073,  -511.90019966,  -335.50074714,\n        -320.19773099,  -333.82341029,  -212.92937892,  -237.70411132,\n        -351.40641862,  -674.99094339,  -323.21093216,  -333.43471383,\n        -253.21448857,  -355.66261224,  -547.68550193,  -472.39862811,\n        -461.96190802, -1272.98673763, -1360.35636899,  -321.35929525,\n        -278.53883841,  -286.87117264, -1043.82335133,  -569.10455031,\n        -383.00934728, -1100.91892513,  -413.6283232 ,  -326.17500433,\n        -386.06531659,  -224.66682403,  -464.89401742, -1087.59619755,\n        -657.27643502,  -321.66475427, -1301.72798683,  -361.34852357,\n       -1019.16949772,  -363.07525027,  -576.42801384, -1097.84180126,\n        -552.41567132,  -428.30014784, -1092.73885975,  -664.23904792,\n        -299.005422  ,  -386.10844366, -1052.91127755, -1063.80960129,\n        -156.15875034,  -522.89466713, -1110.18980545,  -433.78842   ,\n        -537.63800551,  -529.39475306,  -238.59850123,  -503.39021657,\n        -405.89791536,  -654.99984059,  -319.74939538,  -300.05036069,\n        -241.74225758, -1073.78204957,  -306.80149642,  -195.71725698,\n        -211.9651467 , -1261.25084521,  -285.74219068, -1037.01537837,\n        -616.90873013,  -223.31110068,  -286.26186825,  -541.80566548,\n        -338.87137036,  -369.28529621,  -538.53463328,  -369.47562735,\n        -177.31334529,  -340.66098646, -1073.01192674, -1290.67055898,\n        -109.54198527, -1089.30680095,  -240.31768497, -1089.64482488,\n       -1069.25353492,  -611.86064439, -1155.29967983,  -472.56400752,\n       -1325.68641051,  -162.64396906,  -373.85059482,  -742.37153323,\n        -188.91667685,  -360.81637259,  -315.81478203,  -402.34440148,\n        -230.07539723,  -515.37883806,  -439.78566582,  -179.75886659,\n        -297.36691528,  -331.00990048,  -148.51796893, -1227.02582014,\n       -1061.90691639,  -236.99872488,  -420.41070376,  -657.11776513,\n        -541.96789119,  -345.71092493,  -162.01489191,  -276.20801652,\n        -205.99779343,  -249.58191523,  -671.45836574,  -435.67019023,\n        -571.90513276, -1072.08220977,  -150.21722111,  -291.63268588,\n        -662.86080131, -1076.36262354,  -328.93872767, -1122.32153975,\n        -542.88506299,  -224.61277275, -1142.21843889, -1105.85529282,\n       -1340.70616453, -1091.53140794,  -592.4520888 ,  -375.49910193,\n        -663.96244173,  -434.64385369, -1053.53902128,  -182.58882521,\n        -247.15272264, -1066.72716306, -1014.57918423,  -161.92831361,\n        -408.82760088, -1058.87335728, -1025.96778312, -1032.06964483,\n        -380.55455765, -1092.41478785,  -793.79746985,  -318.75554347,\n       -1174.45902339, -1047.39394364,  -346.96181262, -1328.88766528,\n        -651.12840455, -1074.5868567 ,  -571.26016251,  -175.89884157])"
     },
     "execution_count": 6,
     "metadata": {},
     "output_type": "execute_result"
    }
   ],
   "source": [
    "sgd_reg.predict(X_test) # Predict using the linear model"
   ],
   "metadata": {
    "collapsed": false,
    "pycharm": {
     "name": "#%%\n"
    }
   }
  },
  {
   "cell_type": "code",
   "execution_count": 7,
   "outputs": [
    {
     "data": {
      "text/plain": "array([-0.55699957,  0.65234058, -0.76427802,  0.05821874, -1.31933768,\n        2.39150279, -0.69402057, -2.59537964,  1.66174505, -1.85762803,\n       -1.59993474,  0.68448276, -2.33511179])"
     },
     "execution_count": 7,
     "metadata": {},
     "output_type": "execute_result"
    }
   ],
   "source": [
    "sgd_reg.coef_ # 解释变量系数"
   ],
   "metadata": {
    "collapsed": false,
    "pycharm": {
     "name": "#%%\n"
    }
   }
  },
  {
   "cell_type": "code",
   "execution_count": 8,
   "outputs": [
    {
     "data": {
      "text/plain": "array([21.67299199])"
     },
     "execution_count": 8,
     "metadata": {},
     "output_type": "execute_result"
    }
   ],
   "source": [
    "sgd_reg.intercept_ # 截距项"
   ],
   "metadata": {
    "collapsed": false,
    "pycharm": {
     "name": "#%%\n"
    }
   }
  },
  {
   "cell_type": "code",
   "execution_count": 9,
   "outputs": [
    {
     "data": {
      "text/plain": "30"
     },
     "execution_count": 9,
     "metadata": {},
     "output_type": "execute_result"
    }
   ],
   "source": [
    "sgd_reg.n_iter_ # 达到停止条件时实际迭代轮数"
   ],
   "metadata": {
    "collapsed": false,
    "pycharm": {
     "name": "#%%\n"
    }
   }
  },
  {
   "cell_type": "code",
   "execution_count": 9,
   "outputs": [],
   "source": [
    "\n"
   ],
   "metadata": {
    "collapsed": false,
    "pycharm": {
     "name": "#%%\n"
    }
   }
  }
 ],
 "metadata": {
  "kernelspec": {
   "display_name": "Python 3",
   "language": "python",
   "name": "python3"
  },
  "language_info": {
   "codemirror_mode": {
    "name": "ipython",
    "version": 2
   },
   "file_extension": ".py",
   "mimetype": "text/x-python",
   "name": "python",
   "nbconvert_exporter": "python",
   "pygments_lexer": "ipython2",
   "version": "2.7.6"
  },
  "pycharm": {
   "stem_cell": {
    "cell_type": "raw",
    "source": [],
    "metadata": {
     "collapsed": false
    }
   }
  }
 },
 "nbformat": 4,
 "nbformat_minor": 0
}