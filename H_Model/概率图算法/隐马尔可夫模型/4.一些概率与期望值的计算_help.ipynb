{
 "cells": [
  {
   "cell_type": "markdown",
   "metadata": {
    "collapsed": true,
    "pycharm": {
     "name": "#%% md\n"
    }
   },
   "source": [
    "1. 给定模型$\\boldsymbol{\\lambda}$和观测$O$,在时刻$t$处于状态$q_i$的概率,记\n",
    "   $$ \\gamma_{t}(i)=P\\left(i_{t}=q_{i} \\mid O, \\boldsymbol{\\lambda}\\right) $$\n",
    "\n",
    "可以通过前向后向概率计算.事实上,\n",
    "\n",
    "$$ \\gamma_{t}(i)=P\\left(i_{t}=q_{i} \\mid O, \\boldsymbol{\\lambda}\\right)=\\frac{P\\left(i_{t}=q_{i}, O \\mid \\boldsymbol{\\lambda}\\right)}{P(O \\mid \\boldsymbol{\\lambda})} $$\n",
    "\n",
    "由前向概率$\\alpha_t(i)$和后向概率$\\beta_t(i)$定义可知\n",
    "\n",
    "\\begin{align}\n",
    "\\alpha_{t}(i) \\beta_{t}(i)&=P\\left(o_{1}, o_{2}, \\cdots, o_{t}, i_{t}=q_{i} \\mid \\lambda\\right) P\\left(o_{t+1}, o_{t+2}, \\cdots, o_{T} \\mid i_{t}=q_{i}, \\boldsymbol{\\lambda}\\right)\n",
    "\\\\\n",
    "&=P\\left(o_{1}, o_{2}, \\cdots, o_{t} \\mid i_{t}=q_{i} , \\lambda\\right) P\\left(o_{t+1}, o_{t+2}, \\cdots, o_{T} \\mid i_{t}=q_{i}, \\boldsymbol{\\lambda}\\right) P(i_t=q_i,\\boldsymbol{\\lambda}) \n",
    "\\\\\n",
    "&=P(o_1,o_2,\\cdots,o_t,o_{t+1},\\cdots,o_T|i_t=q_i,\\boldsymbol{\\lambda})P(i_t=q_i,\\boldsymbol{\\lambda}) \\qquad \\text{注:由有向图模型的条件独立性}\n",
    "\\\\\n",
    "&=P\\left(i_{t}=q_{i}, O \\mid \\boldsymbol{\\lambda}\\right)\n",
    "\\end{align}\n",
    "\n",
    "于是得到\n",
    "\n",
    "$$ \\gamma_{t}(i)=\\frac{\\alpha_{t}(i) \\beta_{t}(i)}{P(O \\mid \\boldsymbol{\\lambda})}=\\frac{\\alpha_{t}(i) \\beta_{t}(i)}{\\sum_{j=1}^{N} \\alpha_{t}(j) \\beta_{t}(j)} $$\n",
    "\n",
    "2. 给定模型$\\boldsymbol{\\lambda}$和观测$O$,在时刻$t$处于状态$q_i$且在时刻$t+1$处于状态$q_j$的概率.记\n",
    "   $$ \\xi_{t}(i, j)=P\\left(i_{t}=q_{i}, i_{t+1}=q_{j} \\mid O, \\boldsymbol{\\lambda}\\right) $$\n",
    "\n",
    "可以通过前向后向概率计算\n",
    "\n",
    "$$ \\xi_{t}(i, j)=\\frac{P\\left(i_{t}=q_{i}, i_{t+1}=q_{j}, O \\mid \\boldsymbol{\\lambda}\\right)}{P(O \\mid \\boldsymbol{\\lambda})}=\\frac{P\\left(i_{t}=q_{i}, i_{t+1}=q_{j}, O \\mid \\boldsymbol{\\lambda}\\right)}{\\sum_{i=1}^{N} \\sum_{j=1}^{N} P\\left(i_{t}=q_{i}, i_{t+1}=q_{j}, O \\mid \\boldsymbol{\\lambda}\\right)} $$\n",
    "\n",
    "而\n",
    "\n",
    "$$ P\\left(i_{t}=q_{i}, i_{t+1}=q_{j}, O \\mid \\boldsymbol{\\lambda}\\right)=\\alpha_{t}(i) a_{i j} b_{j}\\left(o_{t+1}\\right) \\beta_{t+1}(j) $$\n",
    "\n",
    "所以\n",
    "\n",
    "$$ \\xi_{t}(i, j)=\\frac{\\alpha_{t}(i) a_{i j} b_{j}\\left(o_{t+1}\\right) \\beta_{t+1}(j)}{\\sum_{i=1}^{N} \\sum_{j=1}^{N} \\alpha_{t}(i) a_{i j} b_{j}\\left(o_{t+1}\\right) \\beta_{t+1}(j)} $$\n",
    "\n",
    "3. 将$\\gamma_{t}(i)$和$\\xi_{t}(i, j)$对每个时刻$t$求和,可以得到一些有用的期望值:\n",
    "\n",
    "   3.1 在观测$O$下状态$i$出现的期望值:\n",
    "   $$ \\sum_{t=1}^{T} \\gamma_{t}(i) $$\n",
    "\n",
    "   3.2 在观测$O$下状态$i$转移的期望值:\n",
    "   $$ \\sum_{t=1}^{T-1} \\gamma_{t}(i) $$\n",
    "\n",
    "   3.3 在观测$O$下由状态$i$转移到状态$j$的期望值\n",
    "   $$ \\sum_{t=1}^{T-1} \\xi_{t}(i, j) $$\n",
    "   "
   ]
  },
  {
   "cell_type": "code",
   "execution_count": null,
   "metadata": {},
   "outputs": [],
   "source": []
  }
 ],
 "metadata": {
  "kernelspec": {
   "display_name": "Python 3",
   "language": "python",
   "name": "python3"
  },
  "language_info": {
   "codemirror_mode": {
    "name": "ipython",
    "version": 3
   },
   "file_extension": ".py",
   "mimetype": "text/x-python",
   "name": "python",
   "nbconvert_exporter": "python",
   "pygments_lexer": "ipython3",
   "version": "3.7.7"
  },
  "toc": {
   "base_numbering": 1,
   "nav_menu": {},
   "number_sections": true,
   "sideBar": true,
   "skip_h1_title": false,
   "title_cell": "Table of Contents",
   "title_sidebar": "Contents",
   "toc_cell": false,
   "toc_position": {},
   "toc_section_display": true,
   "toc_window_display": false
  }
 },
 "nbformat": 4,
 "nbformat_minor": 1
}