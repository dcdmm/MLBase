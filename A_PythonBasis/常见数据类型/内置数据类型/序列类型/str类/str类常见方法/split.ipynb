{
 "cells": [
  {
   "cell_type": "code",
   "execution_count": 13,
   "metadata": {
    "collapsed": true,
    "pycharm": {
     "is_executing": false,
     "name": "#%%\n"
    }
   },
   "outputs": [
    {
     "name": "stdout",
     "text": [
      "默认: ['i', 'LOVE', 'ch', 'ina', 'EVERYDiAY']\ni作为分隔符: ['', ' LOVE \\tch  \\t', 'na\\tEVERYD', 'AY ']\n仅使用一个i作为分隔符: ['', ' LOVE \\tch  \\tina\\tEVERYDiAY ']\n"
     ],
     "output_type": "stream"
    }
   ],
   "source": [
    "example = \"i LOVE \\tch  \\tina\\tEVERYDiAY \"\n",
    "\n",
    "example_split = example.split() # 默认以空格为分隔符切片字符串\n",
    "print('默认:', example_split) \n",
    "print('i作为分隔符:', example.split(\"i\"))\n",
    "\n",
    "print('仅使用一个i作为分隔符:', example.split(\"i\", maxsplit=1)) # 默认maxsplit=-1(将所有的i作为分隔符)"
   ]
  },
  {
   "cell_type": "code",
   "execution_count": null,
   "outputs": [],
   "source": [
    "\n"
   ],
   "metadata": {
    "collapsed": false,
    "pycharm": {
     "name": "#%%\n"
    }
   }
  }
 ],
 "metadata": {
  "kernelspec": {
   "display_name": "Python 3",
   "language": "python",
   "name": "python3"
  },
  "language_info": {
   "codemirror_mode": {
    "name": "ipython",
    "version": 2
   },
   "file_extension": ".py",
   "mimetype": "text/x-python",
   "name": "python",
   "nbconvert_exporter": "python",
   "pygments_lexer": "ipython2",
   "version": "2.7.6"
  },
  "pycharm": {
   "stem_cell": {
    "cell_type": "raw",
    "source": [],
    "metadata": {
     "collapsed": false
    }
   }
  }
 },
 "nbformat": 4,
 "nbformat_minor": 0
}