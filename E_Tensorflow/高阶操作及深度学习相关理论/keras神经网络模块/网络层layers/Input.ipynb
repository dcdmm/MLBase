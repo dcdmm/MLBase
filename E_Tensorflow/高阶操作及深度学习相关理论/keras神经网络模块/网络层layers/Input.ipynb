{
 "cells": [
  {
   "cell_type": "code",
   "execution_count": 21,
   "metadata": {
    "collapsed": true
   },
   "outputs": [],
   "source": [
    "import tensorflow as tf"
   ]
  },
  {
   "cell_type": "code",
   "execution_count": 22,
   "outputs": [],
   "source": [
    "x = tf.keras.layers.Input(\n",
    "    # A shape tuple (integers), not including the batch size.\n",
    "    # For instance, shape=(32,) indicates that the expected input will be batches of 32-dimensional vectors.\n",
    "    # Elements of this tuple can be None; 'None' elements represent dimensions where the shape is not known.\n",
    "    shape=(5, 12, 128),\n",
    "    name=\"inputs\")\n",
    "\n",
    "y = tf.keras.layers.Dense(64, activation='softmax')(x)\n",
    "z = tf.keras.layers.Dense(10)(y)\n",
    "model = tf.keras.Model(inputs=x, outputs=z)"
   ],
   "metadata": {
    "collapsed": false,
    "pycharm": {
     "name": "#%%\n"
    }
   }
  },
  {
   "cell_type": "code",
   "execution_count": 23,
   "outputs": [
    {
     "name": "stdout",
     "output_type": "stream",
     "text": [
      "Model: \"model_5\"\n",
      "_________________________________________________________________\n",
      " Layer (type)                Output Shape              Param #   \n",
      "=================================================================\n",
      " inputs (InputLayer)         [(None, 5, 12, 128)]      0         \n",
      "                                                                 \n",
      " dense_10 (Dense)            (None, 5, 12, 64)         8256      \n",
      "                                                                 \n",
      " dense_11 (Dense)            (None, 5, 12, 10)         650       \n",
      "                                                                 \n",
      "=================================================================\n",
      "Total params: 8,906\n",
      "Trainable params: 8,906\n",
      "Non-trainable params: 0\n",
      "_________________________________________________________________\n"
     ]
    }
   ],
   "source": [
    "# Sequential / Functional API在第一层指定输入数据的shape时(通过tf.keras.layers.Input层),模型可以自动推断所有层的shape并build模型\n",
    "model.summary()"
   ],
   "metadata": {
    "collapsed": false,
    "pycharm": {
     "name": "#%%\n"
    }
   }
  },
  {
   "cell_type": "code",
   "execution_count": 24,
   "outputs": [
    {
     "data": {
      "text/plain": "'inputs'"
     },
     "execution_count": 24,
     "metadata": {},
     "output_type": "execute_result"
    }
   ],
   "source": [
    "x.name\n"
   ],
   "metadata": {
    "collapsed": false,
    "pycharm": {
     "name": "#%%\n"
    }
   }
  }
 ],
 "metadata": {
  "kernelspec": {
   "display_name": "Python 3",
   "language": "python",
   "name": "python3"
  },
  "language_info": {
   "codemirror_mode": {
    "name": "ipython",
    "version": 2
   },
   "file_extension": ".py",
   "mimetype": "text/x-python",
   "name": "python",
   "nbconvert_exporter": "python",
   "pygments_lexer": "ipython2",
   "version": "2.7.6"
  }
 },
 "nbformat": 4,
 "nbformat_minor": 0
}