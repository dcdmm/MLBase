{
 "cells": [
  {
   "cell_type": "code",
   "execution_count": 25,
   "metadata": {
    "collapsed": true
   },
   "outputs": [],
   "source": [
    "import numpy as np\n",
    "\n",
    "arr = np.linspace(0, 1, 100)\n",
    "'''\n",
    "与sklearn.utils.shuffle的区别\n",
    "1. np.random.shuffle只能对一个数据集进行随机化,sklearn.utils.shuffle可同时对多个数据集进行一致的随机化\n",
    "2. np.random.shuffle是对arr进行随机化,sklearn.utils.shuffle是对arr的一个副本进行随机化,arr不变\n",
    "'''\n",
    "np.random.shuffle(arr)  # 随机排列数组arr"
   ]
  },
  {
   "cell_type": "code",
   "execution_count": 26,
   "outputs": [
    {
     "data": {
      "text/plain": "array([0.36363636, 0.94949495, 0.06060606, 0.72727273, 0.88888889,\n       0.41414141, 0.92929293, 0.45454545, 0.02020202, 0.63636364,\n       0.67676768, 0.58585859, 0.8989899 , 0.60606061, 0.98989899,\n       0.43434343, 0.56565657, 0.64646465, 0.37373737, 0.96969697,\n       0.04040404, 0.91919192, 0.78787879, 0.31313131, 0.86868687,\n       0.97979798, 0.07070707, 0.6969697 , 0.33333333, 0.47474747,\n       0.44444444, 0.49494949, 0.24242424, 0.09090909, 0.95959596,\n       0.14141414, 0.87878788, 0.08080808, 0.19191919, 0.73737374,\n       0.57575758, 0.22222222, 0.18181818, 0.83838384, 0.52525253,\n       0.3030303 , 0.        , 0.35353535, 0.51515152, 0.11111111,\n       0.29292929, 0.32323232, 0.01010101, 0.39393939, 0.26262626,\n       0.42424242, 0.90909091, 0.03030303, 0.50505051, 0.84848485,\n       0.21212121, 0.66666667, 0.55555556, 0.80808081, 0.71717172,\n       0.76767677, 0.75757576, 0.2020202 , 0.17171717, 0.38383838,\n       0.65656566, 0.13131313, 0.15151515, 0.68686869, 0.12121212,\n       0.70707071, 0.85858586, 0.54545455, 0.74747475, 0.05050505,\n       0.27272727, 0.81818182, 0.23232323, 0.46464646, 0.16161616,\n       0.48484848, 0.1010101 , 0.82828283, 1.        , 0.28282828,\n       0.53535354, 0.62626263, 0.77777778, 0.5959596 , 0.34343434,\n       0.61616162, 0.7979798 , 0.25252525, 0.93939394, 0.4040404 ])"
     },
     "execution_count": 26,
     "metadata": {},
     "output_type": "execute_result"
    }
   ],
   "source": [
    "arr  # arr改变"
   ],
   "metadata": {
    "collapsed": false,
    "pycharm": {
     "name": "#%%\n"
    }
   }
  },
  {
   "cell_type": "code",
   "execution_count": 27,
   "outputs": [
    {
     "data": {
      "text/plain": "array([[[ 0,  1,  2,  3,  4],\n        [ 5,  6,  7,  8,  9],\n        [10, 11, 12, 13, 14],\n        [15, 16, 17, 18, 19]],\n\n       [[20, 21, 22, 23, 24],\n        [25, 26, 27, 28, 29],\n        [30, 31, 32, 33, 34],\n        [35, 36, 37, 38, 39]],\n\n       [[40, 41, 42, 43, 44],\n        [45, 46, 47, 48, 49],\n        [50, 51, 52, 53, 54],\n        [55, 56, 57, 58, 59]]])"
     },
     "execution_count": 27,
     "metadata": {},
     "output_type": "execute_result"
    }
   ],
   "source": [
    "x2 = np.arange(60).reshape((3, 4, 5))\n",
    "x2"
   ],
   "metadata": {
    "collapsed": false,
    "pycharm": {
     "name": "#%%\n"
    }
   }
  },
  {
   "cell_type": "code",
   "execution_count": 28,
   "outputs": [
    {
     "data": {
      "text/plain": "array([[[40, 41, 42, 43, 44],\n        [45, 46, 47, 48, 49],\n        [50, 51, 52, 53, 54],\n        [55, 56, 57, 58, 59]],\n\n       [[ 0,  1,  2,  3,  4],\n        [ 5,  6,  7,  8,  9],\n        [10, 11, 12, 13, 14],\n        [15, 16, 17, 18, 19]],\n\n       [[20, 21, 22, 23, 24],\n        [25, 26, 27, 28, 29],\n        [30, 31, 32, 33, 34],\n        [35, 36, 37, 38, 39]]])"
     },
     "execution_count": 28,
     "metadata": {},
     "output_type": "execute_result"
    }
   ],
   "source": [
    "np.random.shuffle(x2)  # 多维时,按axis=0进行随机排列\n",
    "x2"
   ],
   "metadata": {
    "collapsed": false,
    "pycharm": {
     "name": "#%%\n"
    }
   }
  },
  {
   "cell_type": "code",
   "execution_count": 28,
   "outputs": [],
   "source": [
    "\n"
   ],
   "metadata": {
    "collapsed": false,
    "pycharm": {
     "name": "#%%\n"
    }
   }
  }
 ],
 "metadata": {
  "kernelspec": {
   "display_name": "Python 3",
   "language": "python",
   "name": "python3"
  },
  "language_info": {
   "codemirror_mode": {
    "name": "ipython",
    "version": 2
   },
   "file_extension": ".py",
   "mimetype": "text/x-python",
   "name": "python",
   "nbconvert_exporter": "python",
   "pygments_lexer": "ipython2",
   "version": "2.7.6"
  }
 },
 "nbformat": 4,
 "nbformat_minor": 0
}