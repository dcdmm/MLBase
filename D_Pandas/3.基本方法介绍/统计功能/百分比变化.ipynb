{
 "cells": [
  {
   "cell_type": "code",
   "execution_count": null,
   "outputs": [],
   "source": [
    "import pandas as pd\n",
    "\n",
    "s = pd.Series([90, 91, 85])\n",
    "s"
   ],
   "metadata": {
    "collapsed": false,
    "pycharm": {
     "name": "#%%\n"
    }
   }
  },
  {
   "cell_type": "code",
   "execution_count": 3,
   "outputs": [
    {
     "data": {
      "text/plain": "0         NaN\n1    0.011111\n2   -0.065934\ndtype: float64"
     },
     "metadata": {},
     "output_type": "execute_result",
     "execution_count": 3
    }
   ],
   "source": [
    "s.pct_change()"
   ],
   "metadata": {
    "pycharm": {
     "metadata": false,
     "name": "#%%\n",
     "is_executing": false
    }
   }
  },
  {
   "cell_type": "code",
   "execution_count": 4,
   "outputs": [
    {
     "data": {
      "text/plain": "0         NaN\n1         NaN\n2   -0.055556\ndtype: float64"
     },
     "metadata": {},
     "output_type": "execute_result",
     "execution_count": 4
    }
   ],
   "source": "'''\nperiods : int, default 1\n    Periods to shift for forming percent change.\n'''\ns.pct_change(periods=2)",
   "metadata": {
    "pycharm": {
     "metadata": false,
     "name": "#%%\n",
     "is_executing": false
    }
   }
  },
  {
   "cell_type": "code",
   "execution_count": 8,
   "outputs": [
    {
     "data": {
      "text/plain": "                FR      GR      IT\n1980-01-01  4.0405  1.7246  804.74\n1980-02-01  4.0963  1.7482  810.01\n1980-03-01  4.3149  1.8519  860.13",
      "text/html": "<div>\n<style scoped>\n    .dataframe tbody tr th:only-of-type {\n        vertical-align: middle;\n    }\n\n    .dataframe tbody tr th {\n        vertical-align: top;\n    }\n\n    .dataframe thead th {\n        text-align: right;\n    }\n</style>\n<table border=\"1\" class=\"dataframe\">\n  <thead>\n    <tr style=\"text-align: right;\">\n      <th></th>\n      <th>FR</th>\n      <th>GR</th>\n      <th>IT</th>\n    </tr>\n  </thead>\n  <tbody>\n    <tr>\n      <th>1980-01-01</th>\n      <td>4.0405</td>\n      <td>1.7246</td>\n      <td>804.74</td>\n    </tr>\n    <tr>\n      <th>1980-02-01</th>\n      <td>4.0963</td>\n      <td>1.7482</td>\n      <td>810.01</td>\n    </tr>\n    <tr>\n      <th>1980-03-01</th>\n      <td>4.3149</td>\n      <td>1.8519</td>\n      <td>860.13</td>\n    </tr>\n  </tbody>\n</table>\n</div>"
     },
     "metadata": {},
     "output_type": "execute_result",
     "execution_count": 8
    }
   ],
   "source": "df = pd.DataFrame({\n     'FR': [4.0405, 4.0963, 4.3149],\n     'GR': [1.7246, 1.7482, 1.8519],\n     'IT': [804.74, 810.01, 860.13]},\n     index=['1980-01-01', '1980-02-01', '1980-03-01'])\ndf",
   "metadata": {
    "pycharm": {
     "metadata": false,
     "name": "#%%\n",
     "is_executing": false
    }
   }
  },
  {
   "cell_type": "code",
   "execution_count": 9,
   "outputs": [
    {
     "data": {
      "text/plain": "                  FR        GR        IT\n1980-01-01       NaN       NaN       NaN\n1980-02-01  0.013810  0.013684  0.006549\n1980-03-01  0.053365  0.059318  0.061876",
      "text/html": "<div>\n<style scoped>\n    .dataframe tbody tr th:only-of-type {\n        vertical-align: middle;\n    }\n\n    .dataframe tbody tr th {\n        vertical-align: top;\n    }\n\n    .dataframe thead th {\n        text-align: right;\n    }\n</style>\n<table border=\"1\" class=\"dataframe\">\n  <thead>\n    <tr style=\"text-align: right;\">\n      <th></th>\n      <th>FR</th>\n      <th>GR</th>\n      <th>IT</th>\n    </tr>\n  </thead>\n  <tbody>\n    <tr>\n      <th>1980-01-01</th>\n      <td>NaN</td>\n      <td>NaN</td>\n      <td>NaN</td>\n    </tr>\n    <tr>\n      <th>1980-02-01</th>\n      <td>0.013810</td>\n      <td>0.013684</td>\n      <td>0.006549</td>\n    </tr>\n    <tr>\n      <th>1980-03-01</th>\n      <td>0.053365</td>\n      <td>0.059318</td>\n      <td>0.061876</td>\n    </tr>\n  </tbody>\n</table>\n</div>"
     },
     "metadata": {},
     "output_type": "execute_result",
     "execution_count": 9
    }
   ],
   "source": "df.pct_change()",
   "metadata": {
    "pycharm": {
     "metadata": false,
     "name": "#%%\n",
     "is_executing": false
    }
   }
  },
  {
   "cell_type": "code",
   "execution_count": 10,
   "outputs": [
    {
     "data": {
      "text/plain": "          2016      2015      2014\nGOOG   1769950   1500923   1371819\nAPPL  30586265  40912316  41403351",
      "text/html": "<div>\n<style scoped>\n    .dataframe tbody tr th:only-of-type {\n        vertical-align: middle;\n    }\n\n    .dataframe tbody tr th {\n        vertical-align: top;\n    }\n\n    .dataframe thead th {\n        text-align: right;\n    }\n</style>\n<table border=\"1\" class=\"dataframe\">\n  <thead>\n    <tr style=\"text-align: right;\">\n      <th></th>\n      <th>2016</th>\n      <th>2015</th>\n      <th>2014</th>\n    </tr>\n  </thead>\n  <tbody>\n    <tr>\n      <th>GOOG</th>\n      <td>1769950</td>\n      <td>1500923</td>\n      <td>1371819</td>\n    </tr>\n    <tr>\n      <th>APPL</th>\n      <td>30586265</td>\n      <td>40912316</td>\n      <td>41403351</td>\n    </tr>\n  </tbody>\n</table>\n</div>"
     },
     "metadata": {},
     "output_type": "execute_result",
     "execution_count": 10
    }
   ],
   "source": "frame = pd.DataFrame({\n     '2016': [1769950, 30586265],\n     '2015': [1500923, 40912316],\n     '2014': [1371819, 41403351]},\n     index=['GOOG', 'APPL'])\nframe",
   "metadata": {
    "pycharm": {
     "metadata": false,
     "name": "#%%\n",
     "is_executing": false
    }
   }
  },
  {
   "cell_type": "code",
   "execution_count": 13,
   "outputs": [
    {
     "data": {
      "text/plain": "            FR        GR          IT\n1980-01-01 NaN -0.573172  465.624145\n1980-02-01 NaN -0.573225  462.339435\n1980-03-01 NaN -0.570813  463.458124",
      "text/html": "<div>\n<style scoped>\n    .dataframe tbody tr th:only-of-type {\n        vertical-align: middle;\n    }\n\n    .dataframe tbody tr th {\n        vertical-align: top;\n    }\n\n    .dataframe thead th {\n        text-align: right;\n    }\n</style>\n<table border=\"1\" class=\"dataframe\">\n  <thead>\n    <tr style=\"text-align: right;\">\n      <th></th>\n      <th>FR</th>\n      <th>GR</th>\n      <th>IT</th>\n    </tr>\n  </thead>\n  <tbody>\n    <tr>\n      <th>1980-01-01</th>\n      <td>NaN</td>\n      <td>-0.573172</td>\n      <td>465.624145</td>\n    </tr>\n    <tr>\n      <th>1980-02-01</th>\n      <td>NaN</td>\n      <td>-0.573225</td>\n      <td>462.339435</td>\n    </tr>\n    <tr>\n      <th>1980-03-01</th>\n      <td>NaN</td>\n      <td>-0.570813</td>\n      <td>463.458124</td>\n    </tr>\n  </tbody>\n</table>\n</div>"
     },
     "metadata": {},
     "output_type": "execute_result",
     "execution_count": 13
    }
   ],
   "source": "df.pct_change(axis=1) # 默认axis=0",
   "metadata": {
    "pycharm": {
     "metadata": false,
     "name": "#%%\n",
     "is_executing": false
    }
   }
  },
  {
   "cell_type": "code",
   "execution_count": null,
   "outputs": [],
   "source": "\n",
   "metadata": {
    "pycharm": {
     "metadata": false,
     "name": "#%%\n"
    }
   }
  }
 ],
 "metadata": {
  "language_info": {
   "codemirror_mode": {
    "name": "ipython",
    "version": 2
   },
   "file_extension": ".py",
   "mimetype": "text/x-python",
   "name": "python",
   "nbconvert_exporter": "python",
   "pygments_lexer": "ipython2",
   "version": "2.7.6"
  },
  "kernelspec": {
   "name": "python3",
   "language": "python",
   "display_name": "Python 3"
  },
  "pycharm": {
   "stem_cell": {
    "cell_type": "raw",
    "source": [],
    "metadata": {
     "collapsed": false
    }
   }
  }
 },
 "nbformat": 4,
 "nbformat_minor": 0
}