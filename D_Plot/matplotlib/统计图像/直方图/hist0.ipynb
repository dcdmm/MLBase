{
 "cells": [
  {
   "cell_type": "code",
   "execution_count": 1,
   "outputs": [
    {
     "data": {
      "text/plain": "\"\\nx : (n,) array or sequence of (n,) arrays\\n    Input values, this takes either a single array or a sequence of arrays which are not required to be of the same length.\\n\\nbins : int or sequence or str, optional\\n    If an integer is given, bins + 1 bin edges are calculated and returned, consistent with numpy.histogram.\\n    If bins is a sequence, gives bin edges, including left edge of first bin and right edge of last bin. In this case, bins is returned unmodified.\\n\\ndensity : bool, optional\\n    If True, the first element of the return tuple will be the counts normalized to form a \\n    probability density, i.e., the area (or integral) under the histogram will sum to 1. \\n    This is achieved by dividing the count by the number of observations times the bin width \\n    and not dividing by the total number of observations. If stacked is also True, the sum of\\n    the histograms is normalized to 1.\\n\\nlabel : str or None, optional\\n    String, or sequence of strings to match multiple datasets. Bar charts yield multiple patches per dataset, \\n    but only the first gets the label, so that the legend command will work as expected.\\n\\nhisttype : {'bar', 'barstacked', 'step', 'stepfilled'}, optional\\n    The type of histogram to draw.\\n        'bar' is a traditional bar-type histogram. If multiple data are given the bars are arranged side by side.\\n        'step' generates a lineplot that is by default unfilled.\\n        'barstacked' is a bar-type histogram where multiple data are stacked on top of each other.\\n        'stepfilled' generates a lineplot that is by default filled.\\n   \\norientation : {'horizontal', 'vertical'}, optional\\n    If 'horizontal', barh will be used for bar-type histograms and the bottom kwarg will be \\n    the left edges.\\n\""
     },
     "execution_count": 1,
     "metadata": {},
     "output_type": "execute_result"
    },
    {
     "data": {
      "text/plain": "<Figure size 640x480 with 1 Axes>",
      "image/png": "[encoded data removed]"
     },
     "metadata": {},
     "output_type": "display_data"
    }
   ],
   "source": [
    "import numpy as np\n",
    "import pandas as pd\n",
    "import matplotlib.pyplot as plt\n",
    "\n",
    "fig = plt.figure()\n",
    "ax = plt.subplot(111)\n",
    "s = pd.Series(np.random.randn(1000))  # Data must be 1-dimensional\n",
    "ax.hist(x=s, bins=20, histtype='barstacked', orientation='horizontal',  # 直方图水平放置\n",
    "        alpha=0.8,\n",
    "        # color='red', # color\n",
    "        facecolor='green',  # 直方图填充颜色\n",
    "        edgecolor='red',  # 边框颜色\n",
    "        density=True, label='hist')\n",
    "ax.legend()\n",
    "\n",
    "'''\n",
    "x : (n,) array or sequence of (n,) arrays\n",
    "    Input values, this takes either a single array or a sequence of arrays which are not required to be of the same length.\n",
    "\n",
    "bins : int or sequence or str, optional\n",
    "    If an integer is given, bins + 1 bin edges are calculated and returned, consistent with numpy.histogram.\n",
    "    If bins is a sequence, gives bin edges, including left edge of first bin and right edge of last bin. In this case, bins is returned unmodified.\n",
    "\n",
    "density : bool, optional\n",
    "    If True, the first element of the return tuple will be the counts normalized to form a \n",
    "    probability density, i.e., the area (or integral) under the histogram will sum to 1. \n",
    "    This is achieved by dividing the count by the number of observations times the bin width \n",
    "    and not dividing by the total number of observations. If stacked is also True, the sum of\n",
    "    the histograms is normalized to 1.\n",
    "\n",
    "label : str or None, optional\n",
    "    String, or sequence of strings to match multiple datasets. Bar charts yield multiple patches per dataset, \n",
    "    but only the first gets the label, so that the legend command will work as expected.\n",
    "\n",
    "histtype : {'bar', 'barstacked', 'step', 'stepfilled'}, optional\n",
    "    The type of histogram to draw.\n",
    "        'bar' is a traditional bar-type histogram. If multiple data are given the bars are arranged side by side.\n",
    "        'step' generates a lineplot that is by default unfilled.\n",
    "        'barstacked' is a bar-type histogram where multiple data are stacked on top of each other.\n",
    "        'stepfilled' generates a lineplot that is by default filled.\n",
    "   \n",
    "orientation : {'horizontal', 'vertical'}, optional\n",
    "    If 'horizontal', barh will be used for bar-type histograms and the bottom kwarg will be \n",
    "    the left edges.\n",
    "'''"
   ],
   "metadata": {
    "collapsed": false,
    "pycharm": {
     "name": "#%%\n"
    }
   }
  },
  {
   "cell_type": "code",
   "execution_count": 1,
   "outputs": [],
   "source": [
    "\n"
   ],
   "metadata": {
    "pycharm": {
     "metadata": false,
     "name": "#%%\n"
    }
   }
  }
 ],
 "metadata": {
  "language_info": {
   "codemirror_mode": {
    "name": "ipython",
    "version": 2
   },
   "file_extension": ".py",
   "mimetype": "text/x-python",
   "name": "python",
   "nbconvert_exporter": "python",
   "pygments_lexer": "ipython2",
   "version": "2.7.6"
  },
  "kernelspec": {
   "name": "python3",
   "language": "python",
   "display_name": "Python 3"
  },
  "stem_cell": {
   "cell_type": "raw",
   "source": "",
   "metadata": {
    "pycharm": {
     "metadata": false
    }
   }
  }
 },
 "nbformat": 4,
 "nbformat_minor": 0
}