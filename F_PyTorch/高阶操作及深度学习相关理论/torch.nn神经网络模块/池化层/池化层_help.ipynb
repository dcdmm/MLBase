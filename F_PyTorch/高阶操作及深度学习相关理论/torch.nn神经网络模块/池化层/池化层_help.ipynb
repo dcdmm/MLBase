{
 "cells": [
  {
   "cell_type": "markdown",
   "metadata": {
    "collapsed": true
   },
   "source": [
    "&emsp;&emsp;池化层(Pooling Layer)也叫子采样层(Subsampling Layer),其作用是进行特征选择,降低特征数量(也可以\n",
    "通过增加卷积步长来实现),从而减少参数数量.\n",
    "\n",
    "&emsp;&emsp;假设池化层的输入特征映射组为$ X \\subseteq \\mathbb{R}^{C \\times H \\times W} $,\n",
    "输出为$Y\\subseteq \\mathbb{R}^{C \\times OH \\times OW} $.对于其中每一个特征映射$X^c \\subseteq \\mathbb{R}^{H \\times W}$($1 \\leq c \\leq C$),\n",
    "将其划分为很多方块区域$R^c_{ph,pw}$($ ph, pw\\text{为池化窗口的高宽}; 1 \\leq ph \\leq OH, 1 \\leq pw \\leq OW$),这些区域可以重叠,也可以不重叠,\n",
    "池化是指对每个区域进行下采样(Down Sampling)得到一个值,作为这个区域的概括.\n",
    "\n",
    "&emsp;&emsp;常见的池化方式有:\n",
    "\n",
    "1. Max池化:对于一个区域$R^c_{ph,pw}$选择这个区域内所有神经元的最大活性值作为这个区域的表示,即\n",
    "\n",
    "$$ y^c_{ph,pw} = \\max_{i \\in R^c_{ph,pw}} x_i $$\n",
    "\n",
    "其中$x_i$为区域$R^c_{pm,pn}$内每个神经元的活性值.\n",
    "\n",
    "&emsp;&emsp;Max池化如下图所示:\n",
    "\n",
    "<img src=\"../../../../Other/img/池化1.gif\">\n",
    "\n",
    "2. Average池化:一般是取区域内所有神经元活性值的平均值,即\n",
    "\n",
    "$$ y^c_{ph,pw} = \\frac{1}{ |R^c_{ph,pw}| } \\sum_{i \\in R^c_{ph,pw}} x_i $$\n",
    "\n",
    "\n",
    "易知,池化层不但可以有效地减少神经元的数量,而且当输入数据发生微小偏差时,池化仍会返回相同的结果.因此,池化对输入数据的微小偏差具有鲁棒性.\n",
    "同卷积层一样,池化层也可以在输入的高和宽两侧进行填充并调整窗口的移动步幅来改变输出形状,池化层的填充和步幅与卷积层的填充和步幅工作机制一样.\n",
    "\n",
    "<img src=\"../../../../Other/img/池化.png\">\n",
    "\n",
    "上图按步幅2进行$2 \\times 2 $的Max池化时的处理顺序.\"Max池化\"是获取最大值的运算,\"$2 \\times 2$\"表示目标区域的大小.\n",
    "如图所示,从$2 \\times 2$的区域中取出最大的元素.此外,上图中将步幅设为了2,所以$2 \\times 2$的窗口的移动间隔为2个元素.\n",
    "另外,一般来说,池化的窗口大小会和步幅设定成相同的值.比如,$3 \\times 3$的窗口的步幅会设为3,$4 \\times 4$的窗口的步幅会设为4等."
   ]
  },
  {
   "cell_type": "code",
   "execution_count": null,
   "metadata": {},
   "outputs": [],
   "source": []
  }
 ],
 "metadata": {
  "kernelspec": {
   "display_name": "Python 3",
   "language": "python",
   "name": "python3"
  },
  "language_info": {
   "codemirror_mode": {
    "name": "ipython",
    "version": 3
   },
   "file_extension": ".py",
   "mimetype": "text/x-python",
   "name": "python",
   "nbconvert_exporter": "python",
   "pygments_lexer": "ipython3",
   "version": "3.7.7"
  },
  "toc": {
   "base_numbering": 1,
   "nav_menu": {},
   "number_sections": true,
   "sideBar": true,
   "skip_h1_title": false,
   "title_cell": "Table of Contents",
   "title_sidebar": "Contents",
   "toc_cell": false,
   "toc_position": {},
   "toc_section_display": true,
   "toc_window_display": false
  }
 },
 "nbformat": 4,
 "nbformat_minor": 1
}
