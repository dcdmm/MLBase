{
 "cells": [
  {
   "cell_type": "code",
   "execution_count": 11,
   "metadata": {
    "collapsed": true
   },
   "outputs": [],
   "source": [
    "import numpy as np"
   ]
  },
  {
   "cell_type": "code",
   "execution_count": 12,
   "outputs": [
    {
     "data": {
      "text/plain": "array([[ 0,  1,  2,  3,  4,  5,  6,  7,  8,  9],\n       [10, 11, 12, 13, 14, 15, 16, 17, 18, 19],\n       [20, 21, 22, 23, 24, 25, 26, 27, 28, 29],\n       [30, 31, 32, 33, 34, 35, 36, 37, 38, 39]])"
     },
     "execution_count": 12,
     "metadata": {},
     "output_type": "execute_result"
    }
   ],
   "source": [
    "arr1 = np.arange(40).reshape((4, 10))\n",
    "arr1"
   ],
   "metadata": {
    "collapsed": false,
    "pycharm": {
     "name": "#%%\n"
    }
   }
  },
  {
   "cell_type": "code",
   "execution_count": 13,
   "outputs": [
    {
     "name": "stdout",
     "output_type": "stream",
     "text": [
      "[[ 0]\n",
      " [10]\n",
      " [20]\n",
      " [30]]\n",
      "[[ 1  2]\n",
      " [11 12]\n",
      " [21 22]\n",
      " [31 32]]\n",
      "[[ 3  4  5  6]\n",
      " [13 14 15 16]\n",
      " [23 24 25 26]\n",
      " [33 34 35 36]]\n",
      "[[ 7  8  9]\n",
      " [17 18 19]\n",
      " [27 28 29]\n",
      " [37 38 39]]\n"
     ]
    }
   ],
   "source": [
    "a, b, c, d = np.array_split(arr1, [1, 3, 7], axis=1)\n",
    "print(a)  # 即arr1[:, 0:1]\n",
    "print(b)  # 即arr1[:, 1:3]\n",
    "print(c)  # 即arr1[:, 3:7]\n",
    "print(d)  # 即arr1[:, 7:]"
   ],
   "metadata": {
    "collapsed": false,
    "pycharm": {
     "name": "#%%\n"
    }
   }
  },
  {
   "cell_type": "code",
   "execution_count": 14,
   "outputs": [
    {
     "name": "stdout",
     "output_type": "stream",
     "text": [
      "[[ 0  1  2  3  4  5  6  7  8  9]\n",
      " [10 11 12 13 14 15 16 17 18 19]]\n",
      "[[20 21 22 23 24 25 26 27 28 29]]\n",
      "[[30 31 32 33 34 35 36 37 38 39]]\n"
     ]
    }
   ],
   "source": [
    "m, n, z = np.array_split(arr1, [2, 3], axis=0)\n",
    "print(m)  # 即arr1[0:2, :]\n",
    "print(n)  # 即arr1[2:3, :]\n",
    "print(z)  # 即arr1[3:, :]"
   ],
   "metadata": {
    "collapsed": false,
    "pycharm": {
     "name": "#%%\n"
    }
   }
  },
  {
   "cell_type": "code",
   "execution_count": 15,
   "outputs": [
    {
     "data": {
      "text/plain": "[array([[ 0,  1],\n        [10, 11],\n        [20, 21],\n        [30, 31]]),\n array([[ 2,  3],\n        [12, 13],\n        [22, 23],\n        [32, 33]]),\n array([[ 4,  5],\n        [14, 15],\n        [24, 25],\n        [34, 35]]),\n array([[ 6,  7],\n        [16, 17],\n        [26, 27],\n        [36, 37]]),\n array([[ 8,  9],\n        [18, 19],\n        [28, 29],\n        [38, 39]])]"
     },
     "execution_count": 15,
     "metadata": {},
     "output_type": "execute_result"
    }
   ],
   "source": [
    "np.array_split(arr1, 5, axis=1)  # 拆分成大小均等的快"
   ],
   "metadata": {
    "collapsed": false,
    "pycharm": {
     "name": "#%%\n"
    }
   }
  },
  {
   "cell_type": "code",
   "execution_count": 18,
   "outputs": [
    {
     "data": {
      "text/plain": "[array([[ 0,  1],\n        [10, 11],\n        [20, 21],\n        [30, 31]]),\n array([[ 2,  3],\n        [12, 13],\n        [22, 23],\n        [32, 33]]),\n array([[ 4,  5],\n        [14, 15],\n        [24, 25],\n        [34, 35]]),\n array([[ 6,  7],\n        [16, 17],\n        [26, 27],\n        [36, 37]]),\n array([[ 8],\n        [18],\n        [28],\n        [38]]),\n array([[ 9],\n        [19],\n        [29],\n        [39]])]"
     },
     "execution_count": 18,
     "metadata": {},
     "output_type": "execute_result"
    }
   ],
   "source": [
    "'''\n",
    "The only difference between these functions is that array_split allows indices_or_sections to be an integer that does not equally divide the axis.\n",
    "For an array of length l that should be split into n sections, it returns l % n sub-arrays of size l//n + 1 and the rest of size l//n.\n",
    "'''\n",
    "# 拆分后的子数组大小为:[4, 2], [4, 2], [4, 2], [4, 2], [4, 1], [4, 1]\n",
    "np.array_split(arr1, 6, axis=1)  # 也可以拆分成大小不均等的快"
   ],
   "metadata": {
    "collapsed": false,
    "pycharm": {
     "name": "#%%\n"
    }
   }
  },
  {
   "cell_type": "code",
   "execution_count": 16,
   "outputs": [],
   "source": [],
   "metadata": {
    "collapsed": false,
    "pycharm": {
     "name": "#%%\n"
    }
   }
  }
 ],
 "metadata": {
  "kernelspec": {
   "display_name": "Python 3",
   "language": "python",
   "name": "python3"
  },
  "language_info": {
   "codemirror_mode": {
    "name": "ipython",
    "version": 2
   },
   "file_extension": ".py",
   "mimetype": "text/x-python",
   "name": "python",
   "nbconvert_exporter": "python",
   "pygments_lexer": "ipython2",
   "version": "2.7.6"
  }
 },
 "nbformat": 4,
 "nbformat_minor": 0
}