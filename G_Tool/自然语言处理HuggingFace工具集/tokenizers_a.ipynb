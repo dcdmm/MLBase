{
 "cells": [
  {
   "cell_type": "code",
   "execution_count": 20,
   "metadata": {
    "collapsed": true,
    "pycharm": {
     "name": "#%%\n"
    }
   },
   "outputs": [],
   "source": [
    "from tokenizers import Tokenizer\n",
    "from tokenizers.models import BPE\n",
    "from tokenizers.trainers import BpeTrainer\n",
    "from tokenizers.pre_tokenizers import Whitespace\n",
    "from tokenizers.processors import TemplateProcessing"
   ]
  },
  {
   "cell_type": "markdown",
   "source": [
    "## 从头训练分词器"
   ],
   "metadata": {
    "collapsed": false,
    "pycharm": {
     "name": "#%% md\n"
    }
   }
  },
  {
   "cell_type": "markdown",
   "source": [
    "### Models\n",
    "\n",
    "Models are the core algorithms used to actually tokenize, and therefore, they are the only mandatory component of a Tokenizer.\n",
    "\n",
    "| Name      | Description                                                  |\n",
    "| --------- | ------------------------------------------------------------ |\n",
    "| WordLevel | This is the “classic” tokenization algorithm. It let’s you simply map words to IDs without anything fancy. This has the advantage of being really simple to use and understand, but it requires extremely large vocabularies for a good coverage. Using this `Model` requires the use of a `PreTokenizer`. No choice will be made by this model directly, it simply maps input tokens to IDs. |\n",
    "| BPE       | One of the most popular subword tokenization algorithm. The Byte-Pair-Encoding works by starting with characters, while merging those that are the most frequently seen together, thus creating new tokens. It then works iteratively to build new tokens out of the most frequent pairs it sees in a corpus. BPE is able to build words it has never seen by using multiple subword tokens, and thus requires smaller vocabularies, with less chances of having “unk” (unknown) tokens. |\n",
    "| WordPiece | This is a subword tokenization algorithm quite similar to BPE, used mainly by Google in models like BERT. It uses a greedy algorithm, that tries to build long words first, splitting in multiple tokens when entire words don’t exist in the vocabulary. This is different from BPE that starts from characters, building bigger tokens as possible. It uses the famous `##` prefix to identify tokens that are part of a word (ie not starting a word). |\n",
    "| Unigram   | Unigram is also a subword tokenization algorithm, and works by trying to identify the best set of subword tokens to maximize the probability for a given sentence. This is different from BPE in the way that this is not deterministic based on a set of rules applied sequentially. Instead Unigram will be able to compute multiple ways of tokenizing, while choosing the most probable one. |"
   ],
   "metadata": {
    "collapsed": false,
    "pycharm": {
     "name": "#%% md\n"
    }
   }
  },
  {
   "cell_type": "code",
   "execution_count": 21,
   "outputs": [
    {
     "data": {
      "text/plain": "<tokenizers.models.BPE at 0x138aa2b9630>"
     },
     "execution_count": 21,
     "metadata": {},
     "output_type": "execute_result"
    }
   ],
   "source": [
    "# An implementation of the BPE (Byte-Pair Encoding) algorithm\n",
    "model_BPE = BPE(unk_token='[UNK]')\n",
    "model_BPE"
   ],
   "metadata": {
    "collapsed": false,
    "pycharm": {
     "name": "#%%\n"
    }
   }
  },
  {
   "cell_type": "code",
   "execution_count": 22,
   "outputs": [
    {
     "data": {
      "text/plain": "<tokenizers.Tokenizer at 0x138b3b8fad0>"
     },
     "execution_count": 22,
     "metadata": {},
     "output_type": "execute_result"
    }
   ],
   "source": [
    "# A :obj:`Tokenizer` works as a pipeline. It processes some raw text as input and outputs an :class:`~tokenizers.Encoding`.\n",
    "tokenizer = Tokenizer(\n",
    "    # The core algorithm that this Tokenizer should be using.\n",
    "    model=model_BPE)\n",
    "tokenizer"
   ],
   "metadata": {
    "collapsed": false,
    "pycharm": {
     "name": "#%%\n"
    }
   }
  },
  {
   "cell_type": "markdown",
   "source": [
    "### Pre-tokenizers\n",
    "\n",
    "The PreTokenizer takes care of splitting the input according to a set of rules. This pre-processing lets you ensure that the underlying Model does not build tokens across multiple “splits”. For example if you don’t want to have whitespaces inside a token, then you can have a PreTokenizer that splits on these whitespaces."
   ],
   "metadata": {
    "collapsed": false,
    "pycharm": {
     "name": "#%% md\n"
    }
   }
  },
  {
   "cell_type": "code",
   "execution_count": 23,
   "outputs": [],
   "source": [
    "# This pre-tokenizer simply splits using the following regex: `\\w+|[^\\w\\s]+`\n",
    "tokenizer.pre_tokenizer = Whitespace()"
   ],
   "metadata": {
    "collapsed": false,
    "pycharm": {
     "name": "#%%\n"
    }
   }
  },
  {
   "cell_type": "code",
   "execution_count": 24,
   "outputs": [
    {
     "data": {
      "text/plain": "<tokenizers.trainers.BpeTrainer at 0x138b0a468b0>"
     },
     "execution_count": 24,
     "metadata": {},
     "output_type": "execute_result"
    }
   ],
   "source": [
    "# Trainer capable of training a BPE model\n",
    "trainer = BpeTrainer(\n",
    "    # The size of the final vocabulary, including all tokens and alphabet.\n",
    "    vocab_size=30000,  # 默认:30000\n",
    "    # The minimum frequency a pair should have in order to be merged.\n",
    "    min_frequency=0,  # 默认:0\n",
    "    # A list of special tokens the model should know of.\n",
    "    special_tokens=[\"[UNK]\", \"[CLS]\", \"[SEP]\", \"[PAD]\", \"[MASK]\"])  # 默认:[]\n",
    "trainer"
   ],
   "metadata": {
    "collapsed": false,
    "pycharm": {
     "name": "#%%\n"
    }
   }
  },
  {
   "cell_type": "code",
   "execution_count": 25,
   "outputs": [
    {
     "data": {
      "text/plain": "['wikitext-103-raw/wiki.test.raw',\n 'wikitext-103-raw/wiki.train.raw',\n 'wikitext-103-raw/wiki.valid.raw']"
     },
     "execution_count": 25,
     "metadata": {},
     "output_type": "execute_result"
    }
   ],
   "source": [
    "files = [f\"wikitext-103-raw/wiki.{split}.raw\" for split in [\"test\", \"train\", \"valid\"]]\n",
    "files"
   ],
   "metadata": {
    "collapsed": false,
    "pycharm": {
     "name": "#%%\n"
    }
   }
  },
  {
   "cell_type": "code",
   "execution_count": 26,
   "outputs": [
    {
     "data": {
      "text/plain": "<tokenizers.Tokenizer at 0x138b3b8fad0>"
     },
     "execution_count": 26,
     "metadata": {},
     "output_type": "execute_result"
    }
   ],
   "source": [
    "# Train the Tokenizer using the given files.\n",
    "tokenizer.train(\n",
    "    files=files,  # 文件路径或包含路径的列表\n",
    "    trainer=trainer)\n",
    "tokenizer"
   ],
   "metadata": {
    "collapsed": false,
    "pycharm": {
     "name": "#%%\n"
    }
   }
  },
  {
   "cell_type": "code",
   "execution_count": 27,
   "outputs": [
    {
     "name": "stdout",
     "output_type": "stream",
     "text": [
      "2\n",
      "[SEP]\n"
     ]
    }
   ],
   "source": [
    "print(tokenizer.token_to_id(\"[SEP]\"))\n",
    "print(tokenizer.id_to_token(2))"
   ],
   "metadata": {
    "collapsed": false,
    "pycharm": {
     "name": "#%%\n"
    }
   }
  },
  {
   "cell_type": "code",
   "execution_count": 28,
   "outputs": [
    {
     "data": {
      "text/plain": "Encoding(num_tokens=11, attributes=[ids, type_ids, tokens, offsets, attention_mask, special_tokens_mask, overflowing])"
     },
     "execution_count": 28,
     "metadata": {},
     "output_type": "execute_result"
    }
   ],
   "source": [
    "# Encode the given sequence and pair. This method can process raw text sequences as well as already pre-tokenized sequences.\n",
    "output = tokenizer.encode(\n",
    "    sequence=\"Hello, y'all! How are you 😁 ?\",  # 未分好词\n",
    "    is_pretokenized=False)\n",
    "output"
   ],
   "metadata": {
    "collapsed": false,
    "pycharm": {
     "name": "#%%\n"
    }
   }
  },
  {
   "cell_type": "code",
   "execution_count": 29,
   "outputs": [
    {
     "name": "stdout",
     "output_type": "stream",
     "text": [
      "['Hello', ',', 'y', \"'\", 'all', '!', 'How', 'are', 'you', '[UNK]', '?']\n",
      "[27253, 16, 93, 11, 5097, 5, 7961, 5112, 6218, 0, 35]\n",
      "[0, 0, 0, 0, 0, 0, 0, 0, 0, 0, 0]\n",
      "[1, 1, 1, 1, 1, 1, 1, 1, 1, 1, 1]\n"
     ]
    }
   ],
   "source": [
    "print(output.tokens)\n",
    "print(output.ids)\n",
    "print(output.type_ids)  # The generated type IDs\n",
    "print(output.attention_mask)"
   ],
   "metadata": {
    "collapsed": false,
    "pycharm": {
     "name": "#%%\n"
    }
   }
  },
  {
   "cell_type": "code",
   "execution_count": 30,
   "outputs": [
    {
     "name": "stdout",
     "output_type": "stream",
     "text": [
      "['A', 'pre', 'to', 'ken', 'ized', 'sequence', 'And', 'its', 'pair']\n",
      "[37, 5262, 5030, 7359, 5759, 8606, 6187, 5181, 6703]\n",
      "[0, 0, 0, 0, 0, 0, 1, 1, 1]\n",
      "[1, 1, 1, 1, 1, 1, 1, 1, 1]\n"
     ]
    }
   ],
   "source": [
    "output_pair = tokenizer.encode(\n",
    "    sequence=[\"A\", \"pre\", \"tokenized\", \"sequence\"],  # 已经分好词\n",
    "    pair=[\"And\", \"its\", \"pair\"],\n",
    "    # Whether the input is already pre-tokenized\n",
    "    is_pretokenized=True\n",
    ")\n",
    "print(output_pair.tokens)\n",
    "print(output_pair.ids)\n",
    "print(output_pair.type_ids)\n",
    "print(output_pair.attention_mask)"
   ],
   "metadata": {
    "collapsed": false,
    "pycharm": {
     "name": "#%%\n"
    }
   }
  },
  {
   "cell_type": "markdown",
   "source": [
    "### Post-Processors\n",
    "\n",
    "After the whole pipeline, we sometimes want to insert some special tokens before feed a tokenized string into a model like ”[CLS] My horse is amazing [SEP]”. The PostProcessor is the component doing just that."
   ],
   "metadata": {
    "collapsed": false,
    "pycharm": {
     "name": "#%% md\n"
    }
   }
  },
  {
   "cell_type": "code",
   "execution_count": 31,
   "outputs": [],
   "source": [
    "# Provides a way to specify templates in order to add the special tokens to each input sequence as relevant.\n",
    "# Let’s take BERT tokenizer as an example. It uses two special tokens, used to delimitate each sequence. [CLS] is always used at the beginning of the first sequence, and [SEP] is added at the end of both the first, and the pair sequences. The final result looks like this:\n",
    "# Then, we specify the template for sentence pairs, which should have the form \"[CLS] $A [SEP] $B [SEP]\" where $A represents the first sentence and $B the second one. The :1 added in the template represent the type IDs we want for each part of our input: it defaults to 0 for everything (which is why we don’t have $A:0) and here we set it to 1 for the tokens of the second sentence and the last \"[SEP]\" token.\n",
    "tokenizer.post_processor = TemplateProcessing(\n",
    "    # The template used for single sequences\n",
    "    single=\"[CLS] $A [SEP]\",\n",
    "    # The template used when both sequences are specified\n",
    "    pair=\"[CLS] $A [SEP] $B:1 [SEP]:1\",\n",
    "    #  The list of special tokens used in each sequences\n",
    "    special_tokens=[\n",
    "        (\"[CLS]\", tokenizer.token_to_id(\"[CLS]\")),\n",
    "        (\"[SEP]\", tokenizer.token_to_id(\"[SEP]\")),\n",
    "    ],\n",
    ")"
   ],
   "metadata": {
    "collapsed": false,
    "pycharm": {
     "name": "#%%\n"
    }
   }
  },
  {
   "cell_type": "code",
   "execution_count": 32,
   "outputs": [
    {
     "name": "stdout",
     "output_type": "stream",
     "text": [
      "['[CLS]', 'Hello', ',', 'y', \"'\", 'all', '!', 'How', 'are', 'you', '[UNK]', '?', '[SEP]']\n",
      "[1, 27253, 16, 93, 11, 5097, 5, 7961, 5112, 6218, 0, 35, 2]\n",
      "[0, 0, 0, 0, 0, 0, 0, 0, 0, 0, 0, 0, 0]\n",
      "[1, 1, 1, 1, 1, 1, 1, 1, 1, 1, 1, 1, 1]\n"
     ]
    }
   ],
   "source": [
    "output_temp = tokenizer.encode(\n",
    "    sequence=\"Hello, y'all! How are you 😁 ?\",  # 未分好词\n",
    "    is_pretokenized=False)\n",
    "\n",
    "print(output_temp.tokens)\n",
    "print(output_temp.ids)\n",
    "print(output_temp.type_ids)\n",
    "print(output_temp.attention_mask)"
   ],
   "metadata": {
    "collapsed": false,
    "pycharm": {
     "name": "#%%\n"
    }
   }
  },
  {
   "cell_type": "code",
   "execution_count": 33,
   "outputs": [
    {
     "name": "stdout",
     "output_type": "stream",
     "text": [
      "['[CLS]', 'A', 'pre', 'to', 'ken', 'ized', 'sequence', '[SEP]', 'And', 'its', 'pair', '[SEP]']\n",
      "[1, 37, 5262, 5030, 7359, 5759, 8606, 2, 6187, 5181, 6703, 2]\n",
      "[0, 0, 0, 0, 0, 0, 0, 0, 1, 1, 1, 1]\n",
      "[1, 1, 1, 1, 1, 1, 1, 1, 1, 1, 1, 1]\n"
     ]
    }
   ],
   "source": [
    "output_pair_temp = tokenizer.encode(\n",
    "    sequence=[\"A\", \"pre\", \"tokenized\", \"sequence\"],  # 已经分好词\n",
    "    pair=[\"And\", \"its\", \"pair\"],\n",
    "    # Whether the input is already pre-tokenized\n",
    "    is_pretokenized=True\n",
    ")\n",
    "\n",
    "print(output_pair_temp.tokens)\n",
    "print(output_pair_temp.ids)\n",
    "print(output_pair_temp.type_ids)\n",
    "print(output_pair_temp.attention_mask)"
   ],
   "metadata": {
    "collapsed": false,
    "pycharm": {
     "name": "#%%\n"
    }
   }
  },
  {
   "cell_type": "code",
   "execution_count": 34,
   "outputs": [
    {
     "name": "stdout",
     "output_type": "stream",
     "text": [
      "[Encoding(num_tokens=8, attributes=[ids, type_ids, tokens, offsets, attention_mask, special_tokens_mask, overflowing]), Encoding(num_tokens=7, attributes=[ids, type_ids, tokens, offsets, attention_mask, special_tokens_mask, overflowing])]\n",
      "\n",
      "['[CLS]', 'Hello', ',', 'y', \"'\", 'all', '!', '[SEP]']\n",
      "[1, 27253, 16, 93, 11, 5097, 5, 2]\n",
      "[0, 0, 0, 0, 0, 0, 0, 0]\n",
      "[1, 1, 1, 1, 1, 1, 1, 1]\n",
      "\n",
      "['[CLS]', 'How', 'are', 'you', '[UNK]', '?', '[SEP]']\n",
      "[1, 7961, 5112, 6218, 0, 35, 2]\n",
      "[0, 0, 0, 0, 0, 0, 0]\n",
      "[1, 1, 1, 1, 1, 1, 1]\n"
     ]
    }
   ],
   "source": [
    "output_batch = tokenizer.encode_batch([\"Hello, y'all!\", \"How are you 😁 ?\"])\n",
    "print(output_batch, end='\\n\\n')\n",
    "\n",
    "# 第一个句子\n",
    "print(output_batch[0].tokens)\n",
    "print(output_batch[0].ids)\n",
    "print(output_batch[0].type_ids)\n",
    "print(output_batch[0].attention_mask, end='\\n\\n')\n",
    "\n",
    "# 第二个句子\n",
    "print(output_batch[1].tokens)\n",
    "print(output_batch[1].ids)\n",
    "print(output_batch[1].type_ids)\n",
    "print(output_batch[1].attention_mask)"
   ],
   "metadata": {
    "collapsed": false,
    "pycharm": {
     "name": "#%%\n"
    }
   }
  },
  {
   "cell_type": "code",
   "execution_count": 35,
   "outputs": [],
   "source": [
    "tokenizer.enable_padding(\n",
    "    pad_id=3,\n",
    "    pad_token=\"[PAD]\",\n",
    "    pad_type_id=0)"
   ],
   "metadata": {
    "collapsed": false,
    "pycharm": {
     "name": "#%%\n"
    }
   }
  },
  {
   "cell_type": "code",
   "execution_count": 36,
   "outputs": [
    {
     "name": "stdout",
     "output_type": "stream",
     "text": [
      "[Encoding(num_tokens=8, attributes=[ids, type_ids, tokens, offsets, attention_mask, special_tokens_mask, overflowing]), Encoding(num_tokens=8, attributes=[ids, type_ids, tokens, offsets, attention_mask, special_tokens_mask, overflowing])]\n",
      "\n",
      "['[CLS]', 'Hello', ',', 'y', \"'\", 'all', '!', '[SEP]']\n",
      "[1, 27253, 16, 93, 11, 5097, 5, 2]\n",
      "[0, 0, 0, 0, 0, 0, 0, 0]\n",
      "[1, 1, 1, 1, 1, 1, 1, 1]\n",
      "\n",
      "['[CLS]', 'How', 'are', 'you', '[UNK]', '?', '[SEP]', '[PAD]']\n",
      "[1, 7961, 5112, 6218, 0, 35, 2, 3]\n",
      "[0, 0, 0, 0, 0, 0, 0, 0]\n",
      "[1, 1, 1, 1, 1, 1, 1, 0]\n"
     ]
    }
   ],
   "source": [
    "output_batch_padding = tokenizer.encode_batch([\"Hello, y'all!\", \"How are you 😁 ?\"])\n",
    "print(output_batch_padding, end='\\n\\n')\n",
    "\n",
    "# 第一个句子\n",
    "print(output_batch_padding[0].tokens)\n",
    "print(output_batch_padding[0].ids)\n",
    "print(output_batch_padding[0].type_ids)\n",
    "print(output_batch_padding[0].attention_mask, end='\\n\\n')\n",
    "\n",
    "# 第二个句子(编码结果与第一个句子等长,通过'[PAD']填充)\n",
    "print(output_batch_padding[1].tokens)\n",
    "print(output_batch_padding[1].ids)\n",
    "print(output_batch_padding[1].type_ids)\n",
    "print(output_batch_padding[1].attention_mask)  # 填充部分为0"
   ],
   "metadata": {
    "collapsed": false,
    "pycharm": {
     "name": "#%%\n"
    }
   }
  },
  {
   "cell_type": "code",
   "execution_count": 37,
   "outputs": [],
   "source": [
    "# Save the :class:`~tokenizers.Tokenizer` to the file at the given path.\n",
    "tokenizer.save(\"tokenizer-wiki.json\")"
   ],
   "metadata": {
    "collapsed": false,
    "pycharm": {
     "name": "#%%\n"
    }
   }
  },
  {
   "cell_type": "code",
   "execution_count": 38,
   "outputs": [
    {
     "data": {
      "text/plain": "<tokenizers.Tokenizer at 0x138ac6614e0>"
     },
     "execution_count": 38,
     "metadata": {},
     "output_type": "execute_result"
    }
   ],
   "source": [
    "# Instantiate a new :class:`~tokenizers.Tokenizer` from the file at the given path.\n",
    "tokenizer_load = Tokenizer.from_file(\"tokenizer-wiki.json\")\n",
    "tokenizer_load"
   ],
   "metadata": {
    "collapsed": false,
    "pycharm": {
     "name": "#%%\n"
    }
   }
  }
 ],
 "metadata": {
  "kernelspec": {
   "display_name": "Python 3",
   "language": "python",
   "name": "python3"
  },
  "language_info": {
   "codemirror_mode": {
    "name": "ipython",
    "version": 2
   },
   "file_extension": ".py",
   "mimetype": "text/x-python",
   "name": "python",
   "nbconvert_exporter": "python",
   "pygments_lexer": "ipython2",
   "version": "2.7.6"
  }
 },
 "nbformat": 4,
 "nbformat_minor": 0
}