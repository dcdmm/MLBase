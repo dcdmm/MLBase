{
 "cells": [
  {
   "cell_type": "code",
   "execution_count": 35,
   "outputs": [
    {
     "data": {
      "text/plain": "   Unnamed: 0  a   b   c   d message\n0           0  1   2   3   4   hello\n1           1  5   6   7   8   world\n2           2  9  10  11  12     foo",
      "text/html": "<div>\n<style scoped>\n    .dataframe tbody tr th:only-of-type {\n        vertical-align: middle;\n    }\n\n    .dataframe tbody tr th {\n        vertical-align: top;\n    }\n\n    .dataframe thead th {\n        text-align: right;\n    }\n</style>\n<table border=\"1\" class=\"dataframe\">\n  <thead>\n    <tr style=\"text-align: right;\">\n      <th></th>\n      <th>Unnamed: 0</th>\n      <th>a</th>\n      <th>b</th>\n      <th>c</th>\n      <th>d</th>\n      <th>message</th>\n    </tr>\n  </thead>\n  <tbody>\n    <tr>\n      <th>0</th>\n      <td>0</td>\n      <td>1</td>\n      <td>2</td>\n      <td>3</td>\n      <td>4</td>\n      <td>hello</td>\n    </tr>\n    <tr>\n      <th>1</th>\n      <td>1</td>\n      <td>5</td>\n      <td>6</td>\n      <td>7</td>\n      <td>8</td>\n      <td>world</td>\n    </tr>\n    <tr>\n      <th>2</th>\n      <td>2</td>\n      <td>9</td>\n      <td>10</td>\n      <td>11</td>\n      <td>12</td>\n      <td>foo</td>\n    </tr>\n  </tbody>\n</table>\n</div>"
     },
     "execution_count": 35,
     "metadata": {},
     "output_type": "execute_result"
    }
   ],
   "source": [
    "import pandas as pd\n",
    "import numpy as np\n",
    "\n",
    "pd.read_excel('excel文件读写0.xlsx')"
   ],
   "metadata": {
    "collapsed": false,
    "pycharm": {
     "name": "#%%\n"
    }
   }
  },
  {
   "cell_type": "code",
   "execution_count": 36,
   "metadata": {},
   "outputs": [
    {
     "data": {
      "text/plain": "     0  1   2   3   4        5\n0  NaN  a   b   c   d  message\n1  0.0  1   2   3   4    hello\n2  1.0  5   6   7   8    world\n3  2.0  9  10  11  12      foo",
      "text/html": "<div>\n<style scoped>\n    .dataframe tbody tr th:only-of-type {\n        vertical-align: middle;\n    }\n\n    .dataframe tbody tr th {\n        vertical-align: top;\n    }\n\n    .dataframe thead th {\n        text-align: right;\n    }\n</style>\n<table border=\"1\" class=\"dataframe\">\n  <thead>\n    <tr style=\"text-align: right;\">\n      <th></th>\n      <th>0</th>\n      <th>1</th>\n      <th>2</th>\n      <th>3</th>\n      <th>4</th>\n      <th>5</th>\n    </tr>\n  </thead>\n  <tbody>\n    <tr>\n      <th>0</th>\n      <td>NaN</td>\n      <td>a</td>\n      <td>b</td>\n      <td>c</td>\n      <td>d</td>\n      <td>message</td>\n    </tr>\n    <tr>\n      <th>1</th>\n      <td>0.0</td>\n      <td>1</td>\n      <td>2</td>\n      <td>3</td>\n      <td>4</td>\n      <td>hello</td>\n    </tr>\n    <tr>\n      <th>2</th>\n      <td>1.0</td>\n      <td>5</td>\n      <td>6</td>\n      <td>7</td>\n      <td>8</td>\n      <td>world</td>\n    </tr>\n    <tr>\n      <th>3</th>\n      <td>2.0</td>\n      <td>9</td>\n      <td>10</td>\n      <td>11</td>\n      <td>12</td>\n      <td>foo</td>\n    </tr>\n  </tbody>\n</table>\n</div>"
     },
     "execution_count": 36,
     "metadata": {},
     "output_type": "execute_result"
    }
   ],
   "source": [
    "pd.read_excel('excel文件读写0.xlsx', header=None, sheet_name='第一个excel表')"
   ]
  },
  {
   "cell_type": "code",
   "execution_count": 37,
   "outputs": [
    {
     "data": {
      "text/plain": "              0    1\n0           NaN  NaN\n1           NaN  NaN\n2           NaN  NaN\n3           NaN  NaN\n4          name  age\n5  duanmengmeng    0\n6      duanchao   23\n7        mother    ?\n8        father    ?",
      "text/html": "<div>\n<style scoped>\n    .dataframe tbody tr th:only-of-type {\n        vertical-align: middle;\n    }\n\n    .dataframe tbody tr th {\n        vertical-align: top;\n    }\n\n    .dataframe thead th {\n        text-align: right;\n    }\n</style>\n<table border=\"1\" class=\"dataframe\">\n  <thead>\n    <tr style=\"text-align: right;\">\n      <th></th>\n      <th>0</th>\n      <th>1</th>\n    </tr>\n  </thead>\n  <tbody>\n    <tr>\n      <th>0</th>\n      <td>NaN</td>\n      <td>NaN</td>\n    </tr>\n    <tr>\n      <th>1</th>\n      <td>NaN</td>\n      <td>NaN</td>\n    </tr>\n    <tr>\n      <th>2</th>\n      <td>NaN</td>\n      <td>NaN</td>\n    </tr>\n    <tr>\n      <th>3</th>\n      <td>NaN</td>\n      <td>NaN</td>\n    </tr>\n    <tr>\n      <th>4</th>\n      <td>name</td>\n      <td>age</td>\n    </tr>\n    <tr>\n      <th>5</th>\n      <td>duanmengmeng</td>\n      <td>0</td>\n    </tr>\n    <tr>\n      <th>6</th>\n      <td>duanchao</td>\n      <td>23</td>\n    </tr>\n    <tr>\n      <th>7</th>\n      <td>mother</td>\n      <td>?</td>\n    </tr>\n    <tr>\n      <th>8</th>\n      <td>father</td>\n      <td>?</td>\n    </tr>\n  </tbody>\n</table>\n</div>"
     },
     "execution_count": 37,
     "metadata": {},
     "output_type": "execute_result"
    }
   ],
   "source": [
    "'''\n",
    "sheet_name : str, int, list, or None, default 0\n",
    "    Strings are used for sheet names. Integers are used in zero-indexed sheet positions. \n",
    "    Lists of strings/integers are used to request multiple sheets. Specify None to get all sheets.\n",
    "\n",
    "    Available cases:\n",
    "    Defaults to 0: 1st sheet as a DataFrame\n",
    "    1: 2nd sheet as a DataFrame\n",
    "    \"Sheet1\": Load sheet with name “Sheet1”\n",
    "    [0, 1, \"Sheet5\"]: Load first, second and sheet named “Sheet5” as a dict of DataFrame\n",
    "    None: All sheets.\n",
    "'''\n",
    "pd.read_excel('excel文件读写0.xlsx', header=None, sheet_name='第二个excel表')"
   ],
   "metadata": {
    "pycharm": {
     "metadata": false,
     "name": "#%%\n"
    }
   }
  },
  {
   "cell_type": "code",
   "execution_count": 38,
   "outputs": [
    {
     "data": {
      "text/plain": "              0    1\n0           NaN  NaN\n1          name  age\n2  duanmengmeng    0\n3      duanchao   23\n4        mother    ?\n5        father    ?",
      "text/html": "<div>\n<style scoped>\n    .dataframe tbody tr th:only-of-type {\n        vertical-align: middle;\n    }\n\n    .dataframe tbody tr th {\n        vertical-align: top;\n    }\n\n    .dataframe thead th {\n        text-align: right;\n    }\n</style>\n<table border=\"1\" class=\"dataframe\">\n  <thead>\n    <tr style=\"text-align: right;\">\n      <th></th>\n      <th>0</th>\n      <th>1</th>\n    </tr>\n  </thead>\n  <tbody>\n    <tr>\n      <th>0</th>\n      <td>NaN</td>\n      <td>NaN</td>\n    </tr>\n    <tr>\n      <th>1</th>\n      <td>name</td>\n      <td>age</td>\n    </tr>\n    <tr>\n      <th>2</th>\n      <td>duanmengmeng</td>\n      <td>0</td>\n    </tr>\n    <tr>\n      <th>3</th>\n      <td>duanchao</td>\n      <td>23</td>\n    </tr>\n    <tr>\n      <th>4</th>\n      <td>mother</td>\n      <td>?</td>\n    </tr>\n    <tr>\n      <th>5</th>\n      <td>father</td>\n      <td>?</td>\n    </tr>\n  </tbody>\n</table>\n</div>"
     },
     "execution_count": 38,
     "metadata": {},
     "output_type": "execute_result"
    }
   ],
   "source": [
    "'''\n",
    "skiprows : list-like\n",
    "    Rows to skip at the beginning (0-indexed).\n",
    "'''\n",
    "pd.read_excel('excel文件读写0.xlsx', header=None, sheet_name='第二个excel表', \n",
    "              skiprows=3)\n"
   ],
   "metadata": {
    "pycharm": {
     "metadata": false,
     "name": "#%%\n"
    }
   }
  },
  {
   "cell_type": "code",
   "execution_count": 39,
   "outputs": [
    {
     "data": {
      "text/plain": "              0    1\n0           NaN  NaN\n1          name  age\n2  duanmengmeng    0\n3      duanchao   23",
      "text/html": "<div>\n<style scoped>\n    .dataframe tbody tr th:only-of-type {\n        vertical-align: middle;\n    }\n\n    .dataframe tbody tr th {\n        vertical-align: top;\n    }\n\n    .dataframe thead th {\n        text-align: right;\n    }\n</style>\n<table border=\"1\" class=\"dataframe\">\n  <thead>\n    <tr style=\"text-align: right;\">\n      <th></th>\n      <th>0</th>\n      <th>1</th>\n    </tr>\n  </thead>\n  <tbody>\n    <tr>\n      <th>0</th>\n      <td>NaN</td>\n      <td>NaN</td>\n    </tr>\n    <tr>\n      <th>1</th>\n      <td>name</td>\n      <td>age</td>\n    </tr>\n    <tr>\n      <th>2</th>\n      <td>duanmengmeng</td>\n      <td>0</td>\n    </tr>\n    <tr>\n      <th>3</th>\n      <td>duanchao</td>\n      <td>23</td>\n    </tr>\n  </tbody>\n</table>\n</div>"
     },
     "execution_count": 39,
     "metadata": {},
     "output_type": "execute_result"
    }
   ],
   "source": [
    "'''\n",
    "nrows : int, default None\n",
    "    Number of rows to parse.\n",
    "'''\n",
    "pd.read_excel('excel文件读写0.xlsx', header=None, sheet_name='第二个excel表', \n",
    "              skiprows=3, nrows=4)"
   ],
   "metadata": {
    "pycharm": {
     "metadata": false,
     "name": "#%%\n"
    }
   }
  },
  {
   "cell_type": "code",
   "execution_count": 40,
   "outputs": [],
   "source": [
    "data = pd.DataFrame(np.linspace(0, 1, 18).reshape(9, 2),\n",
    "                 index=[['a', 'a', 'a', 'b', 'b', 'c', 'c', 'd', 'd'],\n",
    "                        [1, 2, 3, 1, 3, 1, 2, 0, 0]])\n",
    "data.name = 'number one'\n",
    "data.columns = ['min', 'max']"
   ],
   "metadata": {
    "pycharm": {
     "metadata": false,
     "name": "#%%\n"
    }
   }
  },
  {
   "cell_type": "markdown",
   "source": [
    "### 同一个excel文件写入多张表"
   ],
   "metadata": {
    "pycharm": {
     "metadata": false,
     "name": "#%% md\n"
    }
   }
  },
  {
   "cell_type": "code",
   "execution_count": 41,
   "outputs": [],
   "source": [
    "# 第一张表:one\n",
    "with pd.ExcelWriter('excel文件读写1.xlsx', engine='xlsxwriter', mode='w') as writer: # 此模式下engine必须为xlsxwriter\n",
    "    # 同一个表中写入多条数据(会删除原有excel文件所有表的数据)\n",
    "    # 列名为读入DataFrame的列名\n",
    "    # 通过设置index=None不写入索引\n",
    "    # 通过设置head=None不写入列名(Series则为不写入name(name属性存在的情况下))\n",
    "    data.to_excel(writer, sheet_name='one', index=None)\n",
    "    data.to_excel(writer, sheet_name='one', startrow=14, header=None) # 此模型下数据之间可以重叠"
   ],
   "metadata": {
    "collapsed": false,
    "pycharm": {
     "name": "#%%\n"
    }
   }
  },
  {
   "cell_type": "code",
   "execution_count": 42,
   "outputs": [],
   "source": [
    "# 第二张表two\n",
    "with pd.ExcelWriter('excel文件读写1.xlsx', engine='openpyxl', mode='a') as writer: # 此模式下engine必须为openpyxl\n",
    "    # 在excel文件中重新创建一个新表,并写入数据(不会删除原有excel其他表数据)\n",
    "    '''\n",
    "    startrow : int, default 0\n",
    "        Upper left cell row to dump data frame.\n",
    "\n",
    "    startcol : int, default 0\n",
    "        Upper left cell column to dump data frame.\n",
    "    '''\n",
    "    data.to_excel(writer, sheet_name='two', startcol=10)\n",
    "    data.to_excel(writer, sheet_name='two', startcol=2, startrow=1)"
   ],
   "metadata": {
    "pycharm": {
     "metadata": false,
     "name": "#%%\n"
    }
   }
  },
  {
   "cell_type": "code",
   "execution_count": 43,
   "outputs": [],
   "source": [
    "# 第三张表three\n",
    "with pd.ExcelWriter('excel文件读写1.xlsx', engine='openpyxl', mode='a') as writer:\n",
    "    '''\n",
    "    header : bool or list of str, default True\n",
    "        Write out the column names. If a list of string is given it is assumed to be aliases for the column names.\n",
    "    '''\n",
    "    data.to_excel(writer, sheet_name='three', startcol=10, header=None)\n",
    "    data.to_excel(writer, sheet_name='three', startcol=3, startrow=1) # 此模型下数据之间不能重叠"
   ],
   "metadata": {
    "pycharm": {
     "metadata": false,
     "name": "#%%\n"
    }
   }
  },
  {
   "cell_type": "code",
   "execution_count": 43,
   "outputs": [],
   "source": [],
   "metadata": {
    "collapsed": false,
    "pycharm": {
     "name": "#%%\n"
    }
   }
  }
 ],
 "metadata": {
  "kernelspec": {
   "name": "python3",
   "language": "python",
   "display_name": "Python 3"
  },
  "language_info": {
   "codemirror_mode": {
    "name": "ipython",
    "version": 2
   },
   "file_extension": ".py",
   "mimetype": "text/x-python",
   "name": "python",
   "nbconvert_exporter": "python",
   "pygments_lexer": "ipython2",
   "version": "2.7.6"
  }
 },
 "nbformat": 4,
 "nbformat_minor": 0
}