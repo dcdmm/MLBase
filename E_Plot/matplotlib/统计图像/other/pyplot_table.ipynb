{
 "cells": [
  {
   "cell_type": "code",
   "execution_count": null,
   "outputs": [],
   "source": [
    "import numpy as np\n",
    "import matplotlib.pyplot as plt\n",
    "\n",
    "fig = plt.figure()\n",
    "ax = plt.subplot(111)\n",
    "data = [[ 66386, 174296,  75131, 577908,  32015],\n",
    "        [ 58230, 381139,  78045,  99308, 160454],\n",
    "        [ 89135,  80552, 152558, 497981, 603535],\n",
    "        [ 78415,  81858, 150656, 193263,  69638],\n",
    "        [139361, 331509, 343164, 781380,  52269]]\n",
    "columns = ('Freeze', 'Wind', 'Flood', 'Quake', 'Hail')\n",
    "rows = ['%d year' % x for x in (100, 50, 20, 10, 5)]\n",
    "values = np.arange(0, 2500, 500)\n",
    "value_increment = 1000\n",
    "colors = plt.cm.Set1(np.linspace(0, 1, len(rows))) \n",
    "#Set1的区间为[0,1],取将区间分为5等分处点的颜色\n",
    "n_rows = len(data)\n",
    "index = np.arange(len(columns)) + 0.3\n",
    "bar_width = 0.4\n",
    "\n",
    "colors_1 = plt.cm.tab20c(np.linspace(0, 1, 25)) #array\n",
    "colors_list = list()\n",
    "for each in range(5):\n",
    "    colors_list.append(colors_1[each*5:(each+1)*5])\n",
    "\n",
    "# Initialize the vertical-offset for the stacked bar chart.\n",
    "y_offset = np.zeros(len(columns))\n",
    "\n",
    "# Plot bars and create text labels for the table\n",
    "cell_text = []\n",
    "for row in range(n_rows):\n",
    "    ax.bar(index, data[row], bar_width, bottom=y_offset, color=colors[row])\n",
    "    y_offset = y_offset + data[row]\n",
    "    cell_text.append(['%1.1f' % (x / 1000.0) for x in y_offset])\n",
    "    \n",
    "# Reverse colors and text labels to display the last value at the top.\n",
    "cell_text.reverse()\n",
    "\n",
    "# Add a table at the bottom of the axes\n",
    "the_talbe = ax.table(cellText=cell_text, loc='bottom', cellLoc='center', \n",
    "                      cellColours = colors_list,\n",
    "                      rowLabels=rows, rowColours=['g', 'g', 'y', 'b', 'r'],\n",
    "                      rowLoc='left', colLabels=columns, colColours=['y', 'y',\n",
    "                                                                    'y', 'y', 'y'],\n",
    "                      colLoc='left')\n",
    "'''\n",
    "cellText:表格数据\n",
    "cellColours:表格每个cell的颜色\n",
    "cellLoc:表格数据对齐方式(right,left,center)\n",
    "rowLabels:行标签\n",
    "rowColours:行标签每个cell的颜色\n",
    "rowLoc:行标签数据对齐方式(right,left,center)\n",
    "colLabels:列标签\n",
    "colColours:列标签每个cell的颜色\n",
    "colLoc:列标签数据对齐方式(right,left,center)\n",
    "loc:表格位置(bottom,top,right,left)\n",
    "'''\n",
    "\n",
    "# Adjust layout to make room for the table:\n",
    "plt.subplots_adjust(left=0.2, bottom=0.1)\n",
    "\n",
    "plt.ylabel(\"Loss in ${0}'s\".format(value_increment))\n",
    "plt.yticks(values * value_increment, ['%d' % val for val in values])\n",
    "plt.xticks([])\n",
    "plt.title('Loss by Disaster')"
   ],
   "metadata": {
    "collapsed": false,
    "pycharm": {
     "name": "#%%\n"
    }
   }
  },
  {
   "cell_type": "code",
   "execution_count": null,
   "metadata": {},
   "outputs": [],
   "source": []
  }
 ],
 "metadata": {
  "kernelspec": {
   "display_name": "Python 3",
   "language": "python",
   "name": "python3"
  },
  "language_info": {
   "codemirror_mode": {
    "name": "ipython",
    "version": 3
   },
   "file_extension": ".py",
   "mimetype": "text/x-python",
   "name": "python",
   "nbconvert_exporter": "python",
   "pygments_lexer": "ipython3",
   "version": "3.7.7"
  },
  "stem_cell": {
   "cell_type": "raw",
   "metadata": {
    "pycharm": {
     "metadata": false
    }
   },
   "source": ""
  },
  "toc": {
   "base_numbering": 1,
   "nav_menu": {},
   "number_sections": true,
   "sideBar": true,
   "skip_h1_title": false,
   "title_cell": "Table of Contents",
   "title_sidebar": "Contents",
   "toc_cell": false,
   "toc_position": {},
   "toc_section_display": true,
   "toc_window_display": false
  }
 },
 "nbformat": 4,
 "nbformat_minor": 1
}