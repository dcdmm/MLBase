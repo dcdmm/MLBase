{
 "cells": [
  {
   "cell_type": "markdown",
   "metadata": {
    "collapsed": true,
    "pycharm": {
     "name": "#%% md\n"
    }
   },
   "source": [
    "&emsp;&emsp;很多机器学习是为测试样本产生一个实值或概率预测,然后将这个预测值与一个分类阈值(threshold)进行比较,若大于阈值则分为正类,否则\n",
    "为反类.例如,神经网络在一般情况下是对每个测试样本预测一个$[0.0, 1.0]$之间的实值,然后将这个值与0.5进行比较,大于0.5则判为正例,否则\n",
    "为反例.这个实值或概率预测结果的好坏,直接决定了学习器的泛化能力.实际上,根据这个实值或概率预测结果,我们可将测试样本进行排序,\"最可能\"是正\n",
    "例的排在最前面,\"最不可能\"是正例的排在最后面.这样,分类过程相当于在这个排序中以某个\"截断点\"(cut point)将样本分为两部分,前一部分判作正\n",
    "例,后一部分则判作反例.                             \n",
    "&emsp;&emsp;在不同的应用任务中,我们可根据任务需求来采用不同的截断点,例如若我们更重视\"查准率\",则可选择排序中靠前的位置进行截断;若更\n",
    "重视\"查全率\",则可选择靠后的位置进行截断.因此,排序本身的质量好坏,体现了综合考虑学习器在不同任务下的\"期望泛化性能\"的好坏,或者说,\"一般情\n",
    "况下\"泛化性能的好坏.ROC曲线则是从这个角度来研究机器学习泛化性能的有利工具.               \n",
    "&emsp;&emsp;ROC全称是\"受试者工作特征\"(Receiver Operating Characteristic)曲线,它源于\"二战\"中用于敌机检测的雷达信号分析\n",
    "技术,二十世纪六七十年代开始被用于一些心理学,医学检测应用中,此后被引入机器学习领域.与P-R曲线相似,我们根据学习器的预测结果对样\n",
    "例进行排序,按此顺序逐个把样本作为正例进行预测,每次计算出两个重要的值,分别以它们的横,轴坐标作图,就得到了\"ROC\"曲线.与P-R曲线使用查\n",
    "准率,查全率为纵,横轴不同,ROC曲线的纵轴是\"真正例率\"(True Positive Rate,简称TPR),横轴是\"假正例率\"(False Positive Rate,简称FPR),两者\n",
    "分别定义为      \n",
    "\n",
    "\\begin{align} \n",
    "TPR = \\frac{TP}{TP + FN}   \\\\\n",
    "FPR = \\frac{FP}{FP + TN}\n",
    "\\end{align}\n",
    "\n",
    "&emsp;&emsp;显示ROC曲线的图称为\"ROC\"图,显然,对角线对应于\"随机猜测\"模型,而点$(0, 1)$则对应于将所有正例排在所有反例之前的\"理想模型\" .                              \n",
    "\n",
    "<img src=\"../../../Other/img/ROC_AUC.jpg\" style=\"width:700px;height:400px;float:bottom\">\n",
    "\n",
    "&emsp;&emsp;现实任务中通常是通过有限个测试样例来绘制ROC图,此时仅能获得有限个(真正例率,假正例率)坐标对,无法产生光滑的ROC曲线,只能绘\n",
    "制上图(b)所示的近似ROC曲线.绘图的过程很简答:更定$m^+$个正例和$m^-$个反例,根据学习器预测结果对样例进行排序,然后把分类阈值设为最大,即\n",
    "把所有样例均预测为反例,此时真正例率和假正例率均为0,在坐标(0, 0)标记一个点.然后,将分类阈值依次设为每个点的预测值(从大到小),即依次\n",
    "将每个样例划分为正例.设前一个标记点坐标为$(x,y)$,当前若为真正例,则对应标记点的坐标为$(x, y+ \\frac{1}{m^+})$;当前若为假正例,则对\n",
    "应标记点的坐标为$(x+\\frac{1}{m^-}, y)$,然后用线段连接相邻点即得.                   \n",
    "&emsp;&emsp;进行学习器的比较时,与P-R图相似,若一个学习器的ROC曲线被另一个学习器的曲线完全\"包住\",则可断言后者的性能优于前者;若两个学\n",
    "习器的ROC曲线发生交叉,则难以一般地断言两者孰优孰劣,此时如果一定要进行比较,则较合理的判断是比较ROC曲\n",
    "线下的面积,即AUC(Area Under Roc Curve):表示任意给一个正类样本和一个负类样本,正类样本的score有多大的概率大于负类样本的score\n",
    "\n"
   ]
  }
 ],
 "metadata": {
  "kernelspec": {
   "display_name": "Python 3",
   "language": "python",
   "name": "python3"
  },
  "language_info": {
   "codemirror_mode": {
    "name": "ipython",
    "version": 3
   },
   "file_extension": ".py",
   "mimetype": "text/x-python",
   "name": "python",
   "nbconvert_exporter": "python",
   "pygments_lexer": "ipython3",
   "version": "3.7.9"
  },
  "toc": {
   "base_numbering": 1,
   "nav_menu": {},
   "number_sections": true,
   "sideBar": true,
   "skip_h1_title": false,
   "title_cell": "Table of Contents",
   "title_sidebar": "Contents",
   "toc_cell": false,
   "toc_position": {},
   "toc_section_display": true,
   "toc_window_display": false
  }
 },
 "nbformat": 4,
 "nbformat_minor": 1
}
