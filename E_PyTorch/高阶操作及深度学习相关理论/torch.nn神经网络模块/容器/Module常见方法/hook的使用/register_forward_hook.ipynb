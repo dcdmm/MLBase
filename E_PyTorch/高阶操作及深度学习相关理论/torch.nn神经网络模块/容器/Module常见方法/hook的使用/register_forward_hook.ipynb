{
 "cells": [
  {
   "cell_type": "code",
   "execution_count": 1,
   "metadata": {
    "collapsed": true
   },
   "outputs": [],
   "source": [
    "from abc import ABC\n",
    "import torch.nn.init as init\n",
    "import torch.nn as nn\n",
    "import torch"
   ]
  },
  {
   "cell_type": "code",
   "execution_count": 2,
   "outputs": [
    {
     "name": "stdout",
     "output_type": "stream",
     "text": [
      "初始输出为:\n",
      "tensor([[1., 1., 1., 1., 1., 1., 1., 1., 1., 1.]], grad_fn=<MmBackward>)\n",
      "经修改后的输出为:\n",
      " tensor([[10., 10., 10., 10., 10., 10., 10., 10., 10., 10.]],\n",
      "       grad_fn=<MulBackward0>)\n"
     ]
    }
   ],
   "source": [
    "class Net(nn.Module, ABC):\n",
    "    def __init__(self):\n",
    "        super(Net, self).__init__()\n",
    "        self.linear = nn.Linear(10, 10, bias=False)\n",
    "\n",
    "    def forward(self, x):\n",
    "        x = self.linear(x)\n",
    "        return x\n",
    "\n",
    "\n",
    "net = Net()\n",
    "init.eye_(net.linear.weight)\n",
    "out_lst = list()  # 神经网络中间层的输出\n",
    "\n",
    "'''\n",
    "The hook will be called every time after forward() has computed an output. It should have the following signature:\n",
    "    hook(module, input, output) -> None or modified output\n",
    "'''\n",
    "\n",
    "\n",
    "def forward_hook(module, data_input, data_output):\n",
    "    \"\"\"对前向传播的结果进行相关操作\"\"\"\n",
    "    out_lst.append(data_output)\n",
    "    print(\"初始输出为:\\n{}\".format(data_output))  # data_input为tensor\n",
    "    data_output.mul_(5)  # 输出*=5\n",
    "    return data_output.mul_(2)  # 输出再*=2\n",
    "\n",
    "\n",
    "net.linear.register_forward_hook(forward_hook)  # 模块前向传播之后\n",
    "\n",
    "fake_img = torch.ones((1, 10))\n",
    "output = net(fake_img)\n",
    "print('经修改后的输出为:\\n', output)  # 结果为1*5*2=10"
   ],
   "metadata": {
    "collapsed": false,
    "pycharm": {
     "name": "#%%\n"
    }
   }
  },
  {
   "cell_type": "code",
   "execution_count": 3,
   "outputs": [
    {
     "data": {
      "text/plain": "[tensor([[10., 10., 10., 10., 10., 10., 10., 10., 10., 10.]],\n        grad_fn=<MulBackward0>)]"
     },
     "execution_count": 3,
     "metadata": {},
     "output_type": "execute_result"
    }
   ],
   "source": [
    "out_lst\n"
   ],
   "metadata": {
    "collapsed": false,
    "pycharm": {
     "name": "#%%\n"
    }
   }
  }
 ],
 "metadata": {
  "kernelspec": {
   "display_name": "Python 3",
   "language": "python",
   "name": "python3"
  },
  "language_info": {
   "codemirror_mode": {
    "name": "ipython",
    "version": 2
   },
   "file_extension": ".py",
   "mimetype": "text/x-python",
   "name": "python",
   "nbconvert_exporter": "python",
   "pygments_lexer": "ipython2",
   "version": "2.7.6"
  }
 },
 "nbformat": 4,
 "nbformat_minor": 0
}