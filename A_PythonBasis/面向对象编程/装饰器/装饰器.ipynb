{
 "cells": [
  {
   "cell_type": "markdown",
   "metadata": {
    "collapsed": true,
    "pycharm": {}
   },
   "source": [
    "python装饰器就是用于拓展原来函数功能的一种函数,这个函数的特殊之处在于它的返回值也\n",
    "是一个函数使用python装饰器的好处就是在不用更改原函数的代码前提下给函数增加新的功能"
   ]
  },
  {
   "cell_type": "code",
   "execution_count": 1,
   "metadata": {
    "collapsed": true,
    "pycharm": {
     "is_executing": false
    }
   },
   "outputs": [],
   "source": [
    "# 如果不用修饰符,定义可能会非常稀疏,并且不断重复\n",
    "class WithoutDecorators:\n",
    "    def some_static_method():\n",
    "        print('this is static method')\n",
    "    some_static_method = staticmethod(some_static_method)\n",
    "    \n",
    "    def some_class_method(cls):\n",
    "        print('this is class method')\n",
    "    some_class_method = classmethod(some_class_method)\n",
    "\n",
    "# 如果用装饰器语法重写,代码会更简短,也容易阅读\n",
    "class WithDecorators:\n",
    "    @staticmethod # 静态方法(无需实例化,不强制要求传递参数)\n",
    "    def some_static_method():\n",
    "        print('this is static method')\n",
    "    \n",
    "    # 类方法(无需实例化(不需要self参数),但第一个参数需要是表示自身类的cls参数)\n",
    "    @classmethod \n",
    "    def some_class_method(cls): # cls : 表示没用被实例化的类本身\n",
    "        print('this is class method')"
   ]
  }
 ],
 "metadata": {
  "kernelspec": {
   "name": "python3",
   "language": "python",
   "display_name": "Python 3"
  },
  "language_info": {
   "codemirror_mode": {
    "name": "ipython",
    "version": 2
   },
   "file_extension": ".py",
   "mimetype": "text/x-python",
   "name": "python",
   "nbconvert_exporter": "python",
   "pygments_lexer": "ipython2",
   "version": "2.7.6"
  },
  "pycharm": {
   "stem_cell": {
    "cell_type": "raw",
    "source": [],
    "metadata": {
     "collapsed": false
    }
   }
  }
 },
 "nbformat": 4,
 "nbformat_minor": 0
}