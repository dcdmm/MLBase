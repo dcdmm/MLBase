{
 "cells": [
  {
   "cell_type": "markdown",
   "metadata": {
    "collapsed": true
   },
   "source": [
    "<img src=\"../../../Other/img/注意力机制.png\"  style=\"width:750px;height:400px;float:bottom\">\n",
    "\n",
    "其中$a$表示注意力评分函数\n",
    "\n",
    "假设有一个查询$ \\mathrm{q} \\in \\mathbb{R}^{q} $ 和$m$个\"键-值\"对$ \\left(\\mathrm{k}_{1}, \\mathrm{v}_{1}\\right), \\ldots,\\left(\\mathrm{k}_{m}, \\mathrm{v}_{m}\\right) $,其中$ \\mathrm{k}_{i} \\in \\mathbb{R}^{k}, \\mathrm{v}_{i} \\in \\mathbb{R}^{v}$.注意力汇聚函数$f$就被表示成值的加权和:\n",
    "\n",
    "$$ f\\left(\\mathrm{q},\\left(\\mathrm{k}_{1}, \\mathrm{v}_{1}\\right), \\ldots,\\left(\\mathrm{k}_{m}, \\mathrm{v}_{m}\\right)\\right)=\\sum^{m} \\alpha\\left(\\mathrm{q}, \\mathrm{k}_{i}\\right) \\mathrm{v}_{i} \\in \\mathbb{R}^{v} $$\n",
    "\n",
    "其中查询$\\mathrm{q}$和键$\\mathrm{k}_i$的注意力权重是通过注意力评分函数$a$将两个向量映射为标量,再经过softmax运算得到:\n",
    "\n",
    "$$ \\alpha\\left(\\mathrm{q}, \\mathrm{k}_{i}\\right)=\\operatorname{softmax}\\left(a\\left(\\mathrm{q}, \\mathrm{k}_{i}\\right)\\right)=\\frac{\\exp \\left(a\\left(\\mathrm{q}, \\mathrm{k}_{i}\\right)\\right)}{\\sum_{j=1}^{m} \\exp \\left(a\\left(\\mathrm{q}, \\mathbf{k}_{j}\\right)\\right)} \\in \\mathbb{R} $$\n",
    "\n",
    "选择不同的注意力评分函数$ a $会导致不同的注意力汇聚操作"
   ]
  },
  {
   "cell_type": "code",
   "execution_count": 9,
   "metadata": {
    "collapsed": false,
    "pycharm": {
     "name": "#%%\n"
    }
   },
   "outputs": [],
   "source": [
    "import matplotlib.pyplot as plt\n",
    "import seaborn as sns\n",
    "import math\n",
    "import torch\n",
    "import torch.nn as nn\n",
    "import torch.nn.functional as F\n",
    "\n",
    "\n",
    "def masked_softmax(X, valid_lens=None):\n",
    "    \"\"\"通过在最后⼀个轴上遮蔽元素来执⾏softmax操作\"\"\"\n",
    "\n",
    "    def sequence_mask(X, valid_len, value=0):\n",
    "        \"\"\"Mask irrelevant entries in sequences\"\"\"\n",
    "        maxlen = X.size(1)\n",
    "        mask = torch.arange((maxlen), dtype=torch.float32,\n",
    "                            device=X.device)[None, :] < valid_len[:, None]\n",
    "        X[~mask] = value\n",
    "        return X\n",
    "\n",
    "    if valid_lens is None:\n",
    "        return F.softmax(X, dim=-1)\n",
    "    else:\n",
    "        shape = X.shape\n",
    "        if valid_lens.dim() == 1:\n",
    "            valid_lens = torch.repeat_interleave(valid_lens, shape[1])\n",
    "        else:\n",
    "            valid_lens = valid_lens.reshape(-1)\n",
    "        # 被遮蔽的元素使⽤⼀个非常大的负值替换,使其softmax输出为0\n",
    "        X = sequence_mask(X.reshape(-1, shape[-1]), valid_lens,\n",
    "                          value=-1e6)\n",
    "        return F.softmax(X.reshape(shape), dim=-1)"
   ]
  },
  {
   "cell_type": "code",
   "execution_count": 10,
   "metadata": {
    "collapsed": false,
    "pycharm": {
     "name": "#%%\n"
    }
   },
   "outputs": [
    {
     "name": "stdout",
     "output_type": "stream",
     "text": [
      "tensor([[[0.2541, 0.3160, 0.2905, 0.1394],\n",
      "         [0.1437, 0.3130, 0.1746, 0.3687]],\n",
      "\n",
      "        [[0.1897, 0.3926, 0.2209, 0.1967],\n",
      "         [0.3047, 0.3155, 0.1471, 0.2327]]])\n",
      "\n",
      "tensor([[[0.6147, 0.3853, 0.0000, 0.0000],\n",
      "         [0.5843, 0.4157, 0.0000, 0.0000]],\n",
      "\n",
      "        [[0.2682, 0.4231, 0.3087, 0.0000],\n",
      "         [0.2271, 0.4574, 0.3155, 0.0000]]])\n",
      "\n",
      "tensor([[[1.0000, 0.0000, 0.0000, 0.0000],\n",
      "         [0.3281, 0.2891, 0.3827, 0.0000]],\n",
      "\n",
      "        [[0.3449, 0.6551, 0.0000, 0.0000],\n",
      "         [0.1765, 0.1535, 0.3400, 0.3299]]])\n"
     ]
    }
   ],
   "source": [
    "print(masked_softmax(torch.rand(2, 2, 4)), end='\\n\\n')\n",
    "print(masked_softmax(torch.rand(2, 2, 4), torch.tensor([2, 3])), end='\\n\\n')\n",
    "print(masked_softmax(torch.rand(2, 2, 4), torch.tensor([[1, 3], [2, 4]])))"
   ]
  },
  {
   "cell_type": "markdown",
   "metadata": {},
   "source": [
    "### 加性注意力\n",
    "\n",
    "当查询和键是不同长度的矢量时,可以使⽤加性注意力作为评分函数.给定查询$ \\mathrm{q} \\in \\mathbb{R}^{1 \\times q} $和键$\\mathrm{k} \\in \\mathbb{R}^{1 \\times k} $,加性注意力(additive attention)的评分函数为:\n",
    "\n",
    "$$ a(\\mathrm{q}, \\mathrm{k})=\\tanh \\left(\\mathrm{q} W_q^T + \\mathrm{k} W_k^T\\right) \\mathrm{w}_{v} \\in \\mathbb{R} $$\n",
    "\n",
    "其中可学习的参数是$ W_q \\in \\mathbb{R}^{h \\times q}, W_k \\in \\mathbb{R}^{h \\times k} $和$\\mathrm{w}_v \\in \\mathbb{R}^{h \\times 1}$.\n",
    "然后将查询和键连接起来后输⼊到⼀个多层感知机(MLP)中,感知机包含⼀个隐藏层,其隐藏单元数是⼀个超参数$h$.通过使用tanh作为激活函数,并且禁用偏置项"
   ]
  },
  {
   "cell_type": "code",
   "execution_count": 11,
   "metadata": {},
   "outputs": [],
   "source": [
    "class AdditiveAttention(nn.Module):\n",
    "    \"\"\"加性注意⼒\"\"\"\n",
    "\n",
    "    def __init__(self, key_size, query_size, num_hiddens, dropout):\n",
    "        super(AdditiveAttention, self).__init__()\n",
    "        # self.W_k.weight.shape = (num_hiddens, key_size)\n",
    "        self.W_k = nn.Linear(key_size, num_hiddens, bias=False)\n",
    "        # self.W_q.weight.shape = (num_hiddens, query_size)\n",
    "        self.W_q = nn.Linear(query_size, num_hiddens, bias=False)\n",
    "        # self.W_v.weight.shape = (1, num_hiddens)\n",
    "        self.w_v = nn.Linear(num_hiddens, 1, bias=False)\n",
    "        self.dropout = nn.Dropout(dropout)\n",
    "\n",
    "    def forward(self, queries, keys, values, valid_lens):\n",
    "        # queries:(b, ?q, query_size) x (query_size, num_hiddens) = (b, ?q, num_hiddens)\n",
    "        # keys:(b, ?k, key_size) x (key_size, num_hiddens) = (b, ?k, num_hiddens)\n",
    "        queries, keys = self.W_q(queries), self.W_k(keys)\n",
    "        # queries.unsqueeze(2).shape=(b, ?q, 1, num_hiddens)\n",
    "        # keys.unsqueeze(1).shape=(b, 1, ?k, num_hiddens)\n",
    "        # features.shape=(b, ?q, ?k, num_hiddens)\n",
    "        features = queries.unsqueeze(2) + keys.unsqueeze(1)\n",
    "        features = torch.tanh(features)\n",
    "        # scores:(b, ?q, ?k, num_hiddens) x (num_hiddens, 1) = (b, ?q, ?k, 1)\n",
    "        # scores.squeeze(-1).shape=(b, ?q, ?k)\n",
    "        scores = self.w_v(features).squeeze(-1)\n",
    "        self.attention_weights = masked_softmax(scores, valid_lens)\n",
    "        # values.shape=(b, ?k, ?v)\n",
    "        # 返回值:(b, ?q, ?k) x (b, ?k, ?v) = (b, ?q, ?v)\n",
    "        return torch.bmm(self.dropout(self.attention_weights), values)"
   ]
  },
  {
   "cell_type": "code",
   "execution_count": 12,
   "outputs": [
    {
     "data": {
      "text/plain": "tensor([[[ 2.0000,  3.0000,  4.0000,  5.0000]],\n\n        [[10.0000, 11.0000, 12.0000, 13.0000]]], grad_fn=<BmmBackward0>)"
     },
     "execution_count": 12,
     "metadata": {},
     "output_type": "execute_result"
    }
   ],
   "source": [
    "# queries.shape(2, 1, 10)\n",
    "# keys.shape=(2, 10, 2)\n",
    "# values.shape=(2, 10, 4)\n",
    "queries, keys = torch.normal(0, 1, (2, 1, 20)), torch.ones((2, 10, 2))\n",
    "values = torch.arange(40, dtype=torch.float32).reshape(1, 10, 4).repeat(2, 1, 1)\n",
    "valid_lens = torch.tensor([2, 6])\n",
    "# 最终结果.shape=(2, 1, 4)\n",
    "attention = AdditiveAttention(key_size=2, query_size=20, num_hiddens=8,\n",
    "                              dropout=0.1)\n",
    "attention.eval()\n",
    "attention(queries, keys, values, valid_lens)"
   ],
   "metadata": {
    "collapsed": false,
    "pycharm": {
     "name": "#%%\n"
    }
   }
  },
  {
   "cell_type": "code",
   "execution_count": 13,
   "outputs": [
    {
     "data": {
      "text/plain": "tensor([[[0.5000, 0.5000, 0.0000, 0.0000, 0.0000, 0.0000, 0.0000, 0.0000,\n          0.0000, 0.0000]],\n\n        [[0.1667, 0.1667, 0.1667, 0.1667, 0.1667, 0.1667, 0.0000, 0.0000,\n          0.0000, 0.0000]]], grad_fn=<SoftmaxBackward0>)"
     },
     "execution_count": 13,
     "metadata": {},
     "output_type": "execute_result"
    }
   ],
   "source": [
    "attention.attention_weights"
   ],
   "metadata": {
    "collapsed": false,
    "pycharm": {
     "name": "#%%\n"
    }
   }
  },
  {
   "cell_type": "code",
   "execution_count": 14,
   "outputs": [
    {
     "data": {
      "text/plain": "Text(33.0, 0.5, 'Queries')"
     },
     "execution_count": 14,
     "metadata": {},
     "output_type": "execute_result"
    },
    {
     "data": {
      "text/plain": "<Figure size 432x288 with 2 Axes>",
      "image/png": "[encoded data removed]"
     },
     "metadata": {
      "needs_background": "light"
     },
     "output_type": "display_data"
    }
   ],
   "source": [
    "# 注意力权重\n",
    "_, axes = plt.subplots(1, 1)\n",
    "sns.heatmap(torch.squeeze(attention.attention_weights.detach(), 1), cmap='Reds', ax=axes)\n",
    "axes.set_xlabel('Keys')\n",
    "axes.set_ylabel('Queries')"
   ],
   "metadata": {
    "collapsed": false,
    "pycharm": {
     "name": "#%%\n"
    }
   }
  },
  {
   "cell_type": "markdown",
   "metadata": {
    "pycharm": {
     "name": "#%% md\n"
    }
   },
   "source": [
    "### 缩放点积注意力\n",
    "\n",
    "使用点积可以得到计算效率更⾼的评分函数.但是点积操作要求查询和键具有相同的⻓度$ d $.\n",
    "\n",
    "缩放点注意力(scaled dot-product attention)评分函数:\n",
    "\n",
    "$$ a(\\mathrm{q}, \\mathrm{k})=\\mathrm{q} \\mathrm{k}^T / \\sqrt{d} $$\n",
    "\n",
    "向量化版本:\n",
    "\n",
    "1. $$ Q \\in \\mathbb{R}^{n \\times d}, \\quad K \\in \\mathbb{R}^{m \\times d}, V \\in \\mathbb{R}^{m \\times v} $$\n",
    "\n",
    "2. 注意力分数: $$ a(Q, K)=Q K^{T} / \\sqrt{d} \\in \\mathbb{R}^{n \\times m}$$\n",
    "\n",
    "3. 注意力汇聚:$$ f=\\operatorname{softmax}(a(Q,K)) V \\in \\mathbb{R}^{n \\times v} $$"
   ]
  },
  {
   "cell_type": "code",
   "execution_count": 15,
   "outputs": [],
   "source": [
    "class DotProductAttention(nn.Module):\n",
    "    \"\"\"缩放点积注意力\"\"\"\n",
    "\n",
    "    def __init__(self, dropout):\n",
    "        super(DotProductAttention, self).__init__()\n",
    "        self.dropout = nn.Dropout(dropout)\n",
    "\n",
    "    # queries.shape = (b, ?q, d)\n",
    "    # keys.shape = (b, ?k, d)\n",
    "    # scores.shape = (b, ?q, d) x (b, d, ?k) = (b, ?q, ?k)\n",
    "    def forward(self, queries, keys, values, valid_lens=None):\n",
    "        d = queries.shape[-1]\n",
    "        scores = torch.bmm(queries, keys.transpose(1, 2)) / math.sqrt(d)\n",
    "        self.attention_weights = masked_softmax(scores, valid_lens)\n",
    "        return torch.bmm(self.dropout(self.attention_weights), values)"
   ],
   "metadata": {
    "collapsed": false,
    "pycharm": {
     "name": "#%%\n"
    }
   }
  },
  {
   "cell_type": "code",
   "execution_count": 16,
   "outputs": [
    {
     "data": {
      "text/plain": "tensor([[[ 2.0000,  3.0000,  4.0000,  5.0000]],\n\n        [[10.0000, 11.0000, 12.0000, 13.0000]]])"
     },
     "execution_count": 16,
     "metadata": {},
     "output_type": "execute_result"
    }
   ],
   "source": [
    "queries = torch.normal(0, 1, (2, 1, 2))\n",
    "keys = torch.ones((2, 10, 2))\n",
    "values = torch.arange(40, dtype=torch.float32).reshape(1, 10, 4).repeat(2, 1, 1)\n",
    "valid_lens = torch.tensor([2, 6])\n",
    "# 最终结果.shape=(2, 1, 4)\n",
    "attention = DotProductAttention(dropout=0.5)\n",
    "\n",
    "attention.eval()\n",
    "attention(queries, keys, values, valid_lens)"
   ],
   "metadata": {
    "collapsed": false,
    "pycharm": {
     "name": "#%%\n"
    }
   }
  },
  {
   "cell_type": "code",
   "execution_count": 17,
   "outputs": [
    {
     "data": {
      "text/plain": "Text(33.0, 0.5, 'Queries')"
     },
     "execution_count": 17,
     "metadata": {},
     "output_type": "execute_result"
    },
    {
     "data": {
      "text/plain": "<Figure size 432x288 with 2 Axes>",
      "image/png": "[encoded data removed]"
     },
     "metadata": {
      "needs_background": "light"
     },
     "output_type": "display_data"
    }
   ],
   "source": [
    "# 注意力权重\n",
    "_, axes = plt.subplots(1, 1)\n",
    "sns.heatmap(torch.squeeze(attention.attention_weights.detach(), 1), cmap='Reds', ax=axes)\n",
    "axes.set_xlabel('Keys')\n",
    "axes.set_ylabel('Queries')"
   ],
   "metadata": {
    "collapsed": false,
    "pycharm": {
     "name": "#%%\n"
    }
   }
  },
  {
   "cell_type": "code",
   "execution_count": 1,
   "outputs": [],
   "source": [
    "import torch.nn as nn\n",
    "a = nn.Linear(3, 1, bias=False)"
   ],
   "metadata": {
    "collapsed": false,
    "pycharm": {
     "name": "#%%\n"
    }
   }
  },
  {
   "cell_type": "code",
   "execution_count": 2,
   "outputs": [
    {
     "data": {
      "text/plain": "torch.Size([1, 3])"
     },
     "execution_count": 2,
     "metadata": {},
     "output_type": "execute_result"
    }
   ],
   "source": [
    "a.weight.shape"
   ],
   "metadata": {
    "collapsed": false,
    "pycharm": {
     "name": "#%%\n"
    }
   }
  },
  {
   "cell_type": "code",
   "execution_count": null,
   "outputs": [],
   "source": [],
   "metadata": {
    "collapsed": false,
    "pycharm": {
     "name": "#%%\n"
    }
   }
  }
 ],
 "metadata": {
  "kernelspec": {
   "display_name": "Python 3",
   "language": "python",
   "name": "python3"
  },
  "language_info": {
   "codemirror_mode": {
    "name": "ipython",
    "version": 3
   },
   "file_extension": ".py",
   "mimetype": "text/x-python",
   "name": "python",
   "nbconvert_exporter": "python",
   "pygments_lexer": "ipython3",
   "version": "3.8.8"
  }
 },
 "nbformat": 4,
 "nbformat_minor": 0
}