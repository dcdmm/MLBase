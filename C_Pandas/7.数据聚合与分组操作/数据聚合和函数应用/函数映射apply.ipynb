{
 "cells": [
  {
   "cell_type": "code",
   "execution_count": 290,
   "metadata": {
    "pycharm": {
     "name": "#%%\n"
    }
   },
   "outputs": [],
   "source": [
    "import pandas as pd\n",
    "import numpy as np"
   ]
  },
  {
   "cell_type": "code",
   "execution_count": 291,
   "outputs": [
    {
     "data": {
      "text/plain": "     total_bill   tip smoker   day    time  size   tip_pct\n0         16.99  1.01     No   Sun  Dinner     2  0.059447\n1         10.34  1.66     No   Sun  Dinner     3  0.160542\n2         21.01  3.50     No   Sun  Dinner     3  0.166587\n3         23.68  3.31     No   Sun  Dinner     2  0.139780\n4         24.59  3.61     No   Sun  Dinner     4  0.146808\n..          ...   ...    ...   ...     ...   ...       ...\n239       29.03  5.92     No   Sat  Dinner     3  0.203927\n240       27.18  2.00    Yes   Sat  Dinner     2  0.073584\n241       22.67  2.00    Yes   Sat  Dinner     2  0.088222\n242       17.82  1.75     No   Sat  Dinner     2  0.098204\n243       18.78  3.00     No  Thur  Dinner     2  0.159744\n\n[244 rows x 7 columns]",
      "text/html": "<div>\n<style scoped>\n    .dataframe tbody tr th:only-of-type {\n        vertical-align: middle;\n    }\n\n    .dataframe tbody tr th {\n        vertical-align: top;\n    }\n\n    .dataframe thead th {\n        text-align: right;\n    }\n</style>\n<table border=\"1\" class=\"dataframe\">\n  <thead>\n    <tr style=\"text-align: right;\">\n      <th></th>\n      <th>total_bill</th>\n      <th>tip</th>\n      <th>smoker</th>\n      <th>day</th>\n      <th>time</th>\n      <th>size</th>\n      <th>tip_pct</th>\n    </tr>\n  </thead>\n  <tbody>\n    <tr>\n      <th>0</th>\n      <td>16.99</td>\n      <td>1.01</td>\n      <td>No</td>\n      <td>Sun</td>\n      <td>Dinner</td>\n      <td>2</td>\n      <td>0.059447</td>\n    </tr>\n    <tr>\n      <th>1</th>\n      <td>10.34</td>\n      <td>1.66</td>\n      <td>No</td>\n      <td>Sun</td>\n      <td>Dinner</td>\n      <td>3</td>\n      <td>0.160542</td>\n    </tr>\n    <tr>\n      <th>2</th>\n      <td>21.01</td>\n      <td>3.50</td>\n      <td>No</td>\n      <td>Sun</td>\n      <td>Dinner</td>\n      <td>3</td>\n      <td>0.166587</td>\n    </tr>\n    <tr>\n      <th>3</th>\n      <td>23.68</td>\n      <td>3.31</td>\n      <td>No</td>\n      <td>Sun</td>\n      <td>Dinner</td>\n      <td>2</td>\n      <td>0.139780</td>\n    </tr>\n    <tr>\n      <th>4</th>\n      <td>24.59</td>\n      <td>3.61</td>\n      <td>No</td>\n      <td>Sun</td>\n      <td>Dinner</td>\n      <td>4</td>\n      <td>0.146808</td>\n    </tr>\n    <tr>\n      <th>...</th>\n      <td>...</td>\n      <td>...</td>\n      <td>...</td>\n      <td>...</td>\n      <td>...</td>\n      <td>...</td>\n      <td>...</td>\n    </tr>\n    <tr>\n      <th>239</th>\n      <td>29.03</td>\n      <td>5.92</td>\n      <td>No</td>\n      <td>Sat</td>\n      <td>Dinner</td>\n      <td>3</td>\n      <td>0.203927</td>\n    </tr>\n    <tr>\n      <th>240</th>\n      <td>27.18</td>\n      <td>2.00</td>\n      <td>Yes</td>\n      <td>Sat</td>\n      <td>Dinner</td>\n      <td>2</td>\n      <td>0.073584</td>\n    </tr>\n    <tr>\n      <th>241</th>\n      <td>22.67</td>\n      <td>2.00</td>\n      <td>Yes</td>\n      <td>Sat</td>\n      <td>Dinner</td>\n      <td>2</td>\n      <td>0.088222</td>\n    </tr>\n    <tr>\n      <th>242</th>\n      <td>17.82</td>\n      <td>1.75</td>\n      <td>No</td>\n      <td>Sat</td>\n      <td>Dinner</td>\n      <td>2</td>\n      <td>0.098204</td>\n    </tr>\n    <tr>\n      <th>243</th>\n      <td>18.78</td>\n      <td>3.00</td>\n      <td>No</td>\n      <td>Thur</td>\n      <td>Dinner</td>\n      <td>2</td>\n      <td>0.159744</td>\n    </tr>\n  </tbody>\n</table>\n<p>244 rows × 7 columns</p>\n</div>"
     },
     "execution_count": 291,
     "metadata": {},
     "output_type": "execute_result"
    }
   ],
   "source": [
    "tips = pd.read_csv('tips.csv')\n",
    "# Add tip percentage of total bill\n",
    "tips['tip_pct'] = tips['tip'] / tips['total_bill']\n",
    "tips"
   ],
   "metadata": {
    "collapsed": false,
    "pycharm": {
     "name": "#%%\n"
    }
   }
  },
  {
   "cell_type": "code",
   "execution_count": 292,
   "metadata": {
    "pycharm": {
     "metadata": false,
     "name": "#%%\n"
    }
   },
   "outputs": [
    {
     "name": "stdout",
     "output_type": "stream",
     "text": [
      "group: No\n",
      "     total_bill   tip smoker   day    time  size   tip_pct\n",
      "0         16.99  1.01     No   Sun  Dinner     2  0.059447\n",
      "1         10.34  1.66     No   Sun  Dinner     3  0.160542\n",
      "2         21.01  3.50     No   Sun  Dinner     3  0.166587\n",
      "3         23.68  3.31     No   Sun  Dinner     2  0.139780\n",
      "4         24.59  3.61     No   Sun  Dinner     4  0.146808\n",
      "..          ...   ...    ...   ...     ...   ...       ...\n",
      "235       10.07  1.25     No   Sat  Dinner     2  0.124131\n",
      "238       35.83  4.67     No   Sat  Dinner     3  0.130338\n",
      "239       29.03  5.92     No   Sat  Dinner     3  0.203927\n",
      "242       17.82  1.75     No   Sat  Dinner     2  0.098204\n",
      "243       18.78  3.00     No  Thur  Dinner     2  0.159744\n",
      "\n",
      "[151 rows x 7 columns]\n",
      "group: Yes\n",
      "     total_bill   tip smoker  day    time  size   tip_pct\n",
      "56        38.01  3.00    Yes  Sat  Dinner     4  0.078927\n",
      "58        11.24  1.76    Yes  Sat  Dinner     2  0.156584\n",
      "60        20.29  3.21    Yes  Sat  Dinner     2  0.158206\n",
      "61        13.81  2.00    Yes  Sat  Dinner     2  0.144823\n",
      "62        11.02  1.98    Yes  Sat  Dinner     2  0.179673\n",
      "..          ...   ...    ...  ...     ...   ...       ...\n",
      "234       15.53  3.00    Yes  Sat  Dinner     2  0.193175\n",
      "236       12.60  1.00    Yes  Sat  Dinner     2  0.079365\n",
      "237       32.83  1.17    Yes  Sat  Dinner     2  0.035638\n",
      "240       27.18  2.00    Yes  Sat  Dinner     2  0.073584\n",
      "241       22.67  2.00    Yes  Sat  Dinner     2  0.088222\n",
      "\n",
      "[93 rows x 7 columns]\n"
     ]
    }
   ],
   "source": [
    "for name, one_group in tips.groupby('smoker'):\n",
    "    print('group:', name)\n",
    "    print(one_group)"
   ]
  },
  {
   "cell_type": "code",
   "execution_count": 293,
   "metadata": {
    "pycharm": {
     "name": "#%%\n"
    }
   },
   "outputs": [],
   "source": [
    "def top(df, n=5, columns='tip_pct'):\n",
    "    print(df.sort_values(by=columns)[-n:])  # 包含分组列\n",
    "    return df.sort_values(by=columns)[-n:]"
   ]
  },
  {
   "cell_type": "code",
   "execution_count": 294,
   "outputs": [
    {
     "name": "stdout",
     "output_type": "stream",
     "text": [
      "     total_bill   tip smoker   day    time  size   tip_pct\n",
      "88        24.71  5.85     No  Thur   Lunch     2  0.236746\n",
      "185       20.69  5.00     No   Sun  Dinner     5  0.241663\n",
      "51        10.29  2.60     No   Sun  Dinner     2  0.252672\n",
      "149        7.51  2.00     No  Thur   Lunch     2  0.266312\n",
      "232       11.61  3.39     No   Sat  Dinner     2  0.291990\n",
      "     total_bill   tip smoker  day    time  size   tip_pct\n",
      "109       14.31  4.00    Yes  Sat  Dinner     2  0.279525\n",
      "183       23.17  6.50    Yes  Sun  Dinner     4  0.280535\n",
      "67         3.07  1.00    Yes  Sat  Dinner     1  0.325733\n",
      "178        9.60  4.00    Yes  Sun  Dinner     2  0.416667\n",
      "172        7.25  5.15    Yes  Sun  Dinner     2  0.710345\n"
     ]
    },
    {
     "data": {
      "text/plain": "            total_bill   tip smoker   day    time  size   tip_pct\nsmoker                                                           \nNo     88        24.71  5.85     No  Thur   Lunch     2  0.236746\n       185       20.69  5.00     No   Sun  Dinner     5  0.241663\n       51        10.29  2.60     No   Sun  Dinner     2  0.252672\n       149        7.51  2.00     No  Thur   Lunch     2  0.266312\n       232       11.61  3.39     No   Sat  Dinner     2  0.291990\nYes    109       14.31  4.00    Yes   Sat  Dinner     2  0.279525\n       183       23.17  6.50    Yes   Sun  Dinner     4  0.280535\n       67         3.07  1.00    Yes   Sat  Dinner     1  0.325733\n       178        9.60  4.00    Yes   Sun  Dinner     2  0.416667\n       172        7.25  5.15    Yes   Sun  Dinner     2  0.710345",
      "text/html": "<div>\n<style scoped>\n    .dataframe tbody tr th:only-of-type {\n        vertical-align: middle;\n    }\n\n    .dataframe tbody tr th {\n        vertical-align: top;\n    }\n\n    .dataframe thead th {\n        text-align: right;\n    }\n</style>\n<table border=\"1\" class=\"dataframe\">\n  <thead>\n    <tr style=\"text-align: right;\">\n      <th></th>\n      <th></th>\n      <th>total_bill</th>\n      <th>tip</th>\n      <th>smoker</th>\n      <th>day</th>\n      <th>time</th>\n      <th>size</th>\n      <th>tip_pct</th>\n    </tr>\n    <tr>\n      <th>smoker</th>\n      <th></th>\n      <th></th>\n      <th></th>\n      <th></th>\n      <th></th>\n      <th></th>\n      <th></th>\n      <th></th>\n    </tr>\n  </thead>\n  <tbody>\n    <tr>\n      <th rowspan=\"5\" valign=\"top\">No</th>\n      <th>88</th>\n      <td>24.71</td>\n      <td>5.85</td>\n      <td>No</td>\n      <td>Thur</td>\n      <td>Lunch</td>\n      <td>2</td>\n      <td>0.236746</td>\n    </tr>\n    <tr>\n      <th>185</th>\n      <td>20.69</td>\n      <td>5.00</td>\n      <td>No</td>\n      <td>Sun</td>\n      <td>Dinner</td>\n      <td>5</td>\n      <td>0.241663</td>\n    </tr>\n    <tr>\n      <th>51</th>\n      <td>10.29</td>\n      <td>2.60</td>\n      <td>No</td>\n      <td>Sun</td>\n      <td>Dinner</td>\n      <td>2</td>\n      <td>0.252672</td>\n    </tr>\n    <tr>\n      <th>149</th>\n      <td>7.51</td>\n      <td>2.00</td>\n      <td>No</td>\n      <td>Thur</td>\n      <td>Lunch</td>\n      <td>2</td>\n      <td>0.266312</td>\n    </tr>\n    <tr>\n      <th>232</th>\n      <td>11.61</td>\n      <td>3.39</td>\n      <td>No</td>\n      <td>Sat</td>\n      <td>Dinner</td>\n      <td>2</td>\n      <td>0.291990</td>\n    </tr>\n    <tr>\n      <th rowspan=\"5\" valign=\"top\">Yes</th>\n      <th>109</th>\n      <td>14.31</td>\n      <td>4.00</td>\n      <td>Yes</td>\n      <td>Sat</td>\n      <td>Dinner</td>\n      <td>2</td>\n      <td>0.279525</td>\n    </tr>\n    <tr>\n      <th>183</th>\n      <td>23.17</td>\n      <td>6.50</td>\n      <td>Yes</td>\n      <td>Sun</td>\n      <td>Dinner</td>\n      <td>4</td>\n      <td>0.280535</td>\n    </tr>\n    <tr>\n      <th>67</th>\n      <td>3.07</td>\n      <td>1.00</td>\n      <td>Yes</td>\n      <td>Sat</td>\n      <td>Dinner</td>\n      <td>1</td>\n      <td>0.325733</td>\n    </tr>\n    <tr>\n      <th>178</th>\n      <td>9.60</td>\n      <td>4.00</td>\n      <td>Yes</td>\n      <td>Sun</td>\n      <td>Dinner</td>\n      <td>2</td>\n      <td>0.416667</td>\n    </tr>\n    <tr>\n      <th>172</th>\n      <td>7.25</td>\n      <td>5.15</td>\n      <td>Yes</td>\n      <td>Sun</td>\n      <td>Dinner</td>\n      <td>2</td>\n      <td>0.710345</td>\n    </tr>\n  </tbody>\n</table>\n</div>"
     },
     "execution_count": 294,
     "metadata": {},
     "output_type": "execute_result"
    }
   ],
   "source": [
    "# 1. top函数在每一个分组上被调用\n",
    "# 2. 之后通过pandas.concat函数将返回结果拼接在一起,并使用分组名作为各组的index(group_keys=True时)\n",
    "tips.groupby('smoker').apply(top)"
   ],
   "metadata": {
    "collapsed": false,
    "pycharm": {
     "name": "#%%\n"
    }
   }
  },
  {
   "cell_type": "code",
   "execution_count": 295,
   "outputs": [
    {
     "name": "stdout",
     "output_type": "stream",
     "text": [
      "     total_bill   tip smoker   day    time  size   tip_pct\n",
      "88        24.71  5.85     No  Thur   Lunch     2  0.236746\n",
      "185       20.69  5.00     No   Sun  Dinner     5  0.241663\n",
      "51        10.29  2.60     No   Sun  Dinner     2  0.252672\n",
      "149        7.51  2.00     No  Thur   Lunch     2  0.266312\n",
      "232       11.61  3.39     No   Sat  Dinner     2  0.291990\n",
      "     total_bill   tip smoker  day    time  size   tip_pct\n",
      "109       14.31  4.00    Yes  Sat  Dinner     2  0.279525\n",
      "183       23.17  6.50    Yes  Sun  Dinner     4  0.280535\n",
      "67         3.07  1.00    Yes  Sat  Dinner     1  0.325733\n",
      "178        9.60  4.00    Yes  Sun  Dinner     2  0.416667\n",
      "172        7.25  5.15    Yes  Sun  Dinner     2  0.710345\n"
     ]
    },
    {
     "data": {
      "text/plain": "     total_bill   tip smoker   day    time  size   tip_pct\n88        24.71  5.85     No  Thur   Lunch     2  0.236746\n185       20.69  5.00     No   Sun  Dinner     5  0.241663\n51        10.29  2.60     No   Sun  Dinner     2  0.252672\n149        7.51  2.00     No  Thur   Lunch     2  0.266312\n232       11.61  3.39     No   Sat  Dinner     2  0.291990\n109       14.31  4.00    Yes   Sat  Dinner     2  0.279525\n183       23.17  6.50    Yes   Sun  Dinner     4  0.280535\n67         3.07  1.00    Yes   Sat  Dinner     1  0.325733\n178        9.60  4.00    Yes   Sun  Dinner     2  0.416667\n172        7.25  5.15    Yes   Sun  Dinner     2  0.710345",
      "text/html": "<div>\n<style scoped>\n    .dataframe tbody tr th:only-of-type {\n        vertical-align: middle;\n    }\n\n    .dataframe tbody tr th {\n        vertical-align: top;\n    }\n\n    .dataframe thead th {\n        text-align: right;\n    }\n</style>\n<table border=\"1\" class=\"dataframe\">\n  <thead>\n    <tr style=\"text-align: right;\">\n      <th></th>\n      <th>total_bill</th>\n      <th>tip</th>\n      <th>smoker</th>\n      <th>day</th>\n      <th>time</th>\n      <th>size</th>\n      <th>tip_pct</th>\n    </tr>\n  </thead>\n  <tbody>\n    <tr>\n      <th>88</th>\n      <td>24.71</td>\n      <td>5.85</td>\n      <td>No</td>\n      <td>Thur</td>\n      <td>Lunch</td>\n      <td>2</td>\n      <td>0.236746</td>\n    </tr>\n    <tr>\n      <th>185</th>\n      <td>20.69</td>\n      <td>5.00</td>\n      <td>No</td>\n      <td>Sun</td>\n      <td>Dinner</td>\n      <td>5</td>\n      <td>0.241663</td>\n    </tr>\n    <tr>\n      <th>51</th>\n      <td>10.29</td>\n      <td>2.60</td>\n      <td>No</td>\n      <td>Sun</td>\n      <td>Dinner</td>\n      <td>2</td>\n      <td>0.252672</td>\n    </tr>\n    <tr>\n      <th>149</th>\n      <td>7.51</td>\n      <td>2.00</td>\n      <td>No</td>\n      <td>Thur</td>\n      <td>Lunch</td>\n      <td>2</td>\n      <td>0.266312</td>\n    </tr>\n    <tr>\n      <th>232</th>\n      <td>11.61</td>\n      <td>3.39</td>\n      <td>No</td>\n      <td>Sat</td>\n      <td>Dinner</td>\n      <td>2</td>\n      <td>0.291990</td>\n    </tr>\n    <tr>\n      <th>109</th>\n      <td>14.31</td>\n      <td>4.00</td>\n      <td>Yes</td>\n      <td>Sat</td>\n      <td>Dinner</td>\n      <td>2</td>\n      <td>0.279525</td>\n    </tr>\n    <tr>\n      <th>183</th>\n      <td>23.17</td>\n      <td>6.50</td>\n      <td>Yes</td>\n      <td>Sun</td>\n      <td>Dinner</td>\n      <td>4</td>\n      <td>0.280535</td>\n    </tr>\n    <tr>\n      <th>67</th>\n      <td>3.07</td>\n      <td>1.00</td>\n      <td>Yes</td>\n      <td>Sat</td>\n      <td>Dinner</td>\n      <td>1</td>\n      <td>0.325733</td>\n    </tr>\n    <tr>\n      <th>178</th>\n      <td>9.60</td>\n      <td>4.00</td>\n      <td>Yes</td>\n      <td>Sun</td>\n      <td>Dinner</td>\n      <td>2</td>\n      <td>0.416667</td>\n    </tr>\n    <tr>\n      <th>172</th>\n      <td>7.25</td>\n      <td>5.15</td>\n      <td>Yes</td>\n      <td>Sun</td>\n      <td>Dinner</td>\n      <td>2</td>\n      <td>0.710345</td>\n    </tr>\n  </tbody>\n</table>\n</div>"
     },
     "execution_count": 295,
     "metadata": {},
     "output_type": "execute_result"
    }
   ],
   "source": [
    "'''\n",
    "group_keys: bool, default True\n",
    "    When calling apply, add group keys to index to identify pieces.\n",
    "'''\n",
    "tips.groupby('smoker', group_keys=False).apply(top)"
   ],
   "metadata": {
    "collapsed": false,
    "pycharm": {
     "name": "#%%\n"
    }
   }
  },
  {
   "cell_type": "code",
   "execution_count": 296,
   "outputs": [
    {
     "name": "stdout",
     "output_type": "stream",
     "text": [
      "    total_bill   tip smoker  day    time  size   tip_pct\n",
      "91       22.49  3.50     No  Fri  Dinner     2  0.155625\n",
      "94       22.75  3.25     No  Fri  Dinner     2  0.142857\n",
      "     total_bill   tip smoker  day    time  size   tip_pct\n",
      "59        48.27  6.73     No  Sat  Dinner     4  0.139424\n",
      "212       48.33  9.00     No  Sat  Dinner     4  0.186220\n",
      "     total_bill  tip smoker  day    time  size   tip_pct\n",
      "112       38.07  4.0     No  Sun  Dinner     3  0.105070\n",
      "156       48.17  5.0     No  Sun  Dinner     6  0.103799\n",
      "     total_bill   tip smoker   day   time  size   tip_pct\n",
      "85        34.83  5.17     No  Thur  Lunch     4  0.148435\n",
      "142       41.19  5.00     No  Thur  Lunch     5  0.121389\n",
      "    total_bill   tip smoker  day    time  size   tip_pct\n",
      "90       28.97  3.00    Yes  Fri  Dinner     2  0.103555\n",
      "95       40.17  4.73    Yes  Fri  Dinner     4  0.117750\n",
      "     total_bill   tip smoker  day    time  size   tip_pct\n",
      "102       44.30   2.5    Yes  Sat  Dinner     3  0.056433\n",
      "170       50.81  10.0    Yes  Sat  Dinner     3  0.196812\n",
      "     total_bill  tip smoker  day    time  size   tip_pct\n",
      "184       40.55  3.0    Yes  Sun  Dinner     2  0.073983\n",
      "182       45.35  3.5    Yes  Sun  Dinner     3  0.077178\n",
      "     total_bill  tip smoker   day   time  size   tip_pct\n",
      "83        32.68  5.0    Yes  Thur  Lunch     2  0.152999\n",
      "197       43.11  5.0    Yes  Thur  Lunch     4  0.115982\n"
     ]
    },
    {
     "data": {
      "text/plain": "                 total_bill    tip smoker   day    time  size   tip_pct\nsmoker day                                                             \nNo     Fri  91        22.49   3.50     No   Fri  Dinner     2  0.155625\n            94        22.75   3.25     No   Fri  Dinner     2  0.142857\n       Sat  59        48.27   6.73     No   Sat  Dinner     4  0.139424\n            212       48.33   9.00     No   Sat  Dinner     4  0.186220\n       Sun  112       38.07   4.00     No   Sun  Dinner     3  0.105070\n            156       48.17   5.00     No   Sun  Dinner     6  0.103799\n       Thur 85        34.83   5.17     No  Thur   Lunch     4  0.148435\n            142       41.19   5.00     No  Thur   Lunch     5  0.121389\nYes    Fri  90        28.97   3.00    Yes   Fri  Dinner     2  0.103555\n            95        40.17   4.73    Yes   Fri  Dinner     4  0.117750\n       Sat  102       44.30   2.50    Yes   Sat  Dinner     3  0.056433\n            170       50.81  10.00    Yes   Sat  Dinner     3  0.196812\n       Sun  184       40.55   3.00    Yes   Sun  Dinner     2  0.073983\n            182       45.35   3.50    Yes   Sun  Dinner     3  0.077178\n       Thur 83        32.68   5.00    Yes  Thur   Lunch     2  0.152999\n            197       43.11   5.00    Yes  Thur   Lunch     4  0.115982",
      "text/html": "<div>\n<style scoped>\n    .dataframe tbody tr th:only-of-type {\n        vertical-align: middle;\n    }\n\n    .dataframe tbody tr th {\n        vertical-align: top;\n    }\n\n    .dataframe thead th {\n        text-align: right;\n    }\n</style>\n<table border=\"1\" class=\"dataframe\">\n  <thead>\n    <tr style=\"text-align: right;\">\n      <th></th>\n      <th></th>\n      <th></th>\n      <th>total_bill</th>\n      <th>tip</th>\n      <th>smoker</th>\n      <th>day</th>\n      <th>time</th>\n      <th>size</th>\n      <th>tip_pct</th>\n    </tr>\n    <tr>\n      <th>smoker</th>\n      <th>day</th>\n      <th></th>\n      <th></th>\n      <th></th>\n      <th></th>\n      <th></th>\n      <th></th>\n      <th></th>\n      <th></th>\n    </tr>\n  </thead>\n  <tbody>\n    <tr>\n      <th rowspan=\"8\" valign=\"top\">No</th>\n      <th rowspan=\"2\" valign=\"top\">Fri</th>\n      <th>91</th>\n      <td>22.49</td>\n      <td>3.50</td>\n      <td>No</td>\n      <td>Fri</td>\n      <td>Dinner</td>\n      <td>2</td>\n      <td>0.155625</td>\n    </tr>\n    <tr>\n      <th>94</th>\n      <td>22.75</td>\n      <td>3.25</td>\n      <td>No</td>\n      <td>Fri</td>\n      <td>Dinner</td>\n      <td>2</td>\n      <td>0.142857</td>\n    </tr>\n    <tr>\n      <th rowspan=\"2\" valign=\"top\">Sat</th>\n      <th>59</th>\n      <td>48.27</td>\n      <td>6.73</td>\n      <td>No</td>\n      <td>Sat</td>\n      <td>Dinner</td>\n      <td>4</td>\n      <td>0.139424</td>\n    </tr>\n    <tr>\n      <th>212</th>\n      <td>48.33</td>\n      <td>9.00</td>\n      <td>No</td>\n      <td>Sat</td>\n      <td>Dinner</td>\n      <td>4</td>\n      <td>0.186220</td>\n    </tr>\n    <tr>\n      <th rowspan=\"2\" valign=\"top\">Sun</th>\n      <th>112</th>\n      <td>38.07</td>\n      <td>4.00</td>\n      <td>No</td>\n      <td>Sun</td>\n      <td>Dinner</td>\n      <td>3</td>\n      <td>0.105070</td>\n    </tr>\n    <tr>\n      <th>156</th>\n      <td>48.17</td>\n      <td>5.00</td>\n      <td>No</td>\n      <td>Sun</td>\n      <td>Dinner</td>\n      <td>6</td>\n      <td>0.103799</td>\n    </tr>\n    <tr>\n      <th rowspan=\"2\" valign=\"top\">Thur</th>\n      <th>85</th>\n      <td>34.83</td>\n      <td>5.17</td>\n      <td>No</td>\n      <td>Thur</td>\n      <td>Lunch</td>\n      <td>4</td>\n      <td>0.148435</td>\n    </tr>\n    <tr>\n      <th>142</th>\n      <td>41.19</td>\n      <td>5.00</td>\n      <td>No</td>\n      <td>Thur</td>\n      <td>Lunch</td>\n      <td>5</td>\n      <td>0.121389</td>\n    </tr>\n    <tr>\n      <th rowspan=\"8\" valign=\"top\">Yes</th>\n      <th rowspan=\"2\" valign=\"top\">Fri</th>\n      <th>90</th>\n      <td>28.97</td>\n      <td>3.00</td>\n      <td>Yes</td>\n      <td>Fri</td>\n      <td>Dinner</td>\n      <td>2</td>\n      <td>0.103555</td>\n    </tr>\n    <tr>\n      <th>95</th>\n      <td>40.17</td>\n      <td>4.73</td>\n      <td>Yes</td>\n      <td>Fri</td>\n      <td>Dinner</td>\n      <td>4</td>\n      <td>0.117750</td>\n    </tr>\n    <tr>\n      <th rowspan=\"2\" valign=\"top\">Sat</th>\n      <th>102</th>\n      <td>44.30</td>\n      <td>2.50</td>\n      <td>Yes</td>\n      <td>Sat</td>\n      <td>Dinner</td>\n      <td>3</td>\n      <td>0.056433</td>\n    </tr>\n    <tr>\n      <th>170</th>\n      <td>50.81</td>\n      <td>10.00</td>\n      <td>Yes</td>\n      <td>Sat</td>\n      <td>Dinner</td>\n      <td>3</td>\n      <td>0.196812</td>\n    </tr>\n    <tr>\n      <th rowspan=\"2\" valign=\"top\">Sun</th>\n      <th>184</th>\n      <td>40.55</td>\n      <td>3.00</td>\n      <td>Yes</td>\n      <td>Sun</td>\n      <td>Dinner</td>\n      <td>2</td>\n      <td>0.073983</td>\n    </tr>\n    <tr>\n      <th>182</th>\n      <td>45.35</td>\n      <td>3.50</td>\n      <td>Yes</td>\n      <td>Sun</td>\n      <td>Dinner</td>\n      <td>3</td>\n      <td>0.077178</td>\n    </tr>\n    <tr>\n      <th rowspan=\"2\" valign=\"top\">Thur</th>\n      <th>83</th>\n      <td>32.68</td>\n      <td>5.00</td>\n      <td>Yes</td>\n      <td>Thur</td>\n      <td>Lunch</td>\n      <td>2</td>\n      <td>0.152999</td>\n    </tr>\n    <tr>\n      <th>197</th>\n      <td>43.11</td>\n      <td>5.00</td>\n      <td>Yes</td>\n      <td>Thur</td>\n      <td>Lunch</td>\n      <td>4</td>\n      <td>0.115982</td>\n    </tr>\n  </tbody>\n</table>\n</div>"
     },
     "execution_count": 296,
     "metadata": {},
     "output_type": "execute_result"
    }
   ],
   "source": [
    "tips.groupby(['smoker', 'day']).apply(top, n=2, columns='total_bill')  # 向apply中的函数传递参数"
   ],
   "metadata": {
    "collapsed": false,
    "pycharm": {
     "name": "#%%\n"
    }
   }
  },
  {
   "cell_type": "code",
   "execution_count": 297,
   "outputs": [
    {
     "name": "stdout",
     "output_type": "stream",
     "text": [
      "        total_bill  tip smoker  day    time  size   tip_pct\n",
      "smoker                                                     \n",
      "No            7.25  1.0     No  Fri  Dinner     1  0.056797\n",
      "Yes           3.07  1.0    Yes  Fri  Dinner     1  0.035638\n",
      "\n",
      "        total_bill  tip  day    time  size   tip_pct\n",
      "smoker                                              \n",
      "No            7.25  1.0  Fri  Dinner     1  0.056797\n",
      "Yes           3.07  1.0  Fri  Dinner     1  0.035638\n",
      "\n",
      "        total_bill  tip  day    time  size   tip_pct\n",
      "smoker                                              \n",
      "No            7.25  1.0  Fri  Dinner     1  0.056797\n",
      "Yes           3.07  1.0  Fri  Dinner     1  0.035638\n"
     ]
    }
   ],
   "source": [
    "# 以下操作三者等价\n",
    "print(tips.groupby('smoker').apply(min), end='\\n\\n')  # 执行任何类型的操作\n",
    "print(tips.groupby('smoker').agg(min), end='\\n\\n')  # 仅支持聚合操作\n",
    "print(tips.groupby('smoker').min())"
   ],
   "metadata": {
    "collapsed": false,
    "pycharm": {
     "name": "#%%\n"
    }
   }
  },
  {
   "cell_type": "code",
   "execution_count": 298,
   "outputs": [
    {
     "data": {
      "text/plain": "        data1     data2\n0    0.371566 -1.230744\n1    0.117749 -0.332161\n2   -0.645494 -0.354926\n3   -0.021419 -0.193736\n4   -1.193037 -0.549624\n..        ...       ...\n995 -0.643040  0.254125\n996 -0.420312  0.256372\n997 -0.882337 -1.200287\n998  0.576261  0.238172\n999  0.557167 -0.671966\n\n[1000 rows x 2 columns]",
      "text/html": "<div>\n<style scoped>\n    .dataframe tbody tr th:only-of-type {\n        vertical-align: middle;\n    }\n\n    .dataframe tbody tr th {\n        vertical-align: top;\n    }\n\n    .dataframe thead th {\n        text-align: right;\n    }\n</style>\n<table border=\"1\" class=\"dataframe\">\n  <thead>\n    <tr style=\"text-align: right;\">\n      <th></th>\n      <th>data1</th>\n      <th>data2</th>\n    </tr>\n  </thead>\n  <tbody>\n    <tr>\n      <th>0</th>\n      <td>0.371566</td>\n      <td>-1.230744</td>\n    </tr>\n    <tr>\n      <th>1</th>\n      <td>0.117749</td>\n      <td>-0.332161</td>\n    </tr>\n    <tr>\n      <th>2</th>\n      <td>-0.645494</td>\n      <td>-0.354926</td>\n    </tr>\n    <tr>\n      <th>3</th>\n      <td>-0.021419</td>\n      <td>-0.193736</td>\n    </tr>\n    <tr>\n      <th>4</th>\n      <td>-1.193037</td>\n      <td>-0.549624</td>\n    </tr>\n    <tr>\n      <th>...</th>\n      <td>...</td>\n      <td>...</td>\n    </tr>\n    <tr>\n      <th>995</th>\n      <td>-0.643040</td>\n      <td>0.254125</td>\n    </tr>\n    <tr>\n      <th>996</th>\n      <td>-0.420312</td>\n      <td>0.256372</td>\n    </tr>\n    <tr>\n      <th>997</th>\n      <td>-0.882337</td>\n      <td>-1.200287</td>\n    </tr>\n    <tr>\n      <th>998</th>\n      <td>0.576261</td>\n      <td>0.238172</td>\n    </tr>\n    <tr>\n      <th>999</th>\n      <td>0.557167</td>\n      <td>-0.671966</td>\n    </tr>\n  </tbody>\n</table>\n<p>1000 rows × 2 columns</p>\n</div>"
     },
     "execution_count": 298,
     "metadata": {},
     "output_type": "execute_result"
    }
   ],
   "source": [
    "frame = pd.DataFrame({'data1': np.random.randn(1000),\n",
    "                      'data2': np.random.randn(1000)})\n",
    "frame"
   ],
   "metadata": {
    "collapsed": false,
    "pycharm": {
     "name": "#%%\n"
    }
   }
  },
  {
   "cell_type": "code",
   "execution_count": 299,
   "outputs": [
    {
     "data": {
      "text/plain": "0      (-1.771, -0.256]\n1      (-1.771, -0.256]\n2      (-1.771, -0.256]\n3       (-0.256, 1.259]\n4      (-1.771, -0.256]\n             ...       \n995     (-0.256, 1.259]\n996     (-0.256, 1.259]\n997    (-1.771, -0.256]\n998     (-0.256, 1.259]\n999    (-1.771, -0.256]\nName: data2, Length: 1000, dtype: category\nCategories (4, interval[float64, right]): [(-3.292, -1.771] < (-1.771, -0.256] < (-0.256, 1.259] < (1.259, 2.774]]"
     },
     "execution_count": 299,
     "metadata": {},
     "output_type": "execute_result"
    }
   ],
   "source": [
    "quartiles = pd.cut(frame.data2, 4)\n",
    "quartiles  # type为Series,dtype为CategoricalDtype"
   ],
   "metadata": {
    "collapsed": false,
    "pycharm": {
     "name": "#%%\n"
    }
   }
  },
  {
   "cell_type": "code",
   "execution_count": 300,
   "metadata": {
    "pycharm": {
     "metadata": false,
     "name": "#%%\n"
    }
   },
   "outputs": [
    {
     "name": "stdout",
     "output_type": "stream",
     "text": [
      "group: (-3.292, -1.771]\n",
      "76    -1.836842\n",
      "97    -2.330570\n",
      "106   -1.944852\n",
      "107   -2.395963\n",
      "111   -1.970307\n",
      "121   -2.424607\n",
      "178   -2.032135\n",
      "185   -2.220818\n",
      "217   -2.810118\n",
      "220   -2.226077\n",
      "233   -2.315964\n",
      "278   -1.897252\n",
      "333   -1.790002\n",
      "343   -2.616845\n",
      "358   -2.484301\n",
      "407   -2.331619\n",
      "435   -1.968947\n",
      "450   -2.744643\n",
      "457   -2.278794\n",
      "478   -1.870858\n",
      "519   -1.889678\n",
      "525   -1.932621\n",
      "562   -2.230649\n",
      "595   -1.800562\n",
      "716   -1.975537\n",
      "731   -1.784087\n",
      "771   -2.540584\n",
      "774   -1.954813\n",
      "800   -3.136049\n",
      "811   -2.070624\n",
      "826   -2.104062\n",
      "838   -2.313400\n",
      "843   -1.967527\n",
      "905   -1.807429\n",
      "911   -1.870660\n",
      "917   -2.112221\n",
      "931   -1.894325\n",
      "933   -3.286045\n",
      "965   -2.373589\n",
      "Name: data2, dtype: float64\n",
      "group: (-1.771, -0.256]\n",
      "0     -1.230744\n",
      "1     -0.332161\n",
      "2     -0.354926\n",
      "4     -0.549624\n",
      "5     -0.318600\n",
      "         ...   \n",
      "979   -0.809685\n",
      "981   -0.434541\n",
      "983   -0.746164\n",
      "997   -1.200287\n",
      "999   -0.671966\n",
      "Name: data2, Length: 356, dtype: float64\n",
      "group: (-0.256, 1.259]\n",
      "3     -0.193736\n",
      "9      1.138079\n",
      "10     0.405095\n",
      "11     0.373586\n",
      "14    -0.052176\n",
      "         ...   \n",
      "992    0.254746\n",
      "994    0.128671\n",
      "995    0.254125\n",
      "996    0.256372\n",
      "998    0.238172\n",
      "Name: data2, Length: 486, dtype: float64\n",
      "group: (1.259, 2.774]\n",
      "15     2.105550\n",
      "20     2.044456\n",
      "22     1.445557\n",
      "23     2.572762\n",
      "26     1.300881\n",
      "         ...   \n",
      "982    1.454735\n",
      "984    1.351986\n",
      "989    2.599960\n",
      "991    1.287058\n",
      "993    1.641663\n",
      "Name: data2, Length: 119, dtype: float64\n"
     ]
    }
   ],
   "source": [
    "grouped = frame.data2.groupby(quartiles)\n",
    "\n",
    "for i, j in grouped:\n",
    "    print(\"group:\", i)\n",
    "    print(j)  # 属于分箱i内的样本"
   ]
  },
  {
   "cell_type": "code",
   "execution_count": 301,
   "outputs": [
    {
     "data": {
      "text/plain": "data2\n(-3.292, -1.771]   -2.193230\n(-1.771, -0.256]   -0.850414\n(-0.256, 1.259]     0.423713\n(1.259, 2.774]      1.689472\nName: data2, dtype: float64"
     },
     "execution_count": 301,
     "metadata": {},
     "output_type": "execute_result"
    }
   ],
   "source": [
    "grouped.mean()"
   ],
   "metadata": {
    "collapsed": false,
    "pycharm": {
     "name": "#%%\n"
    }
   }
  },
  {
   "cell_type": "code",
   "execution_count": 302,
   "metadata": {
    "pycharm": {
     "metadata": false,
     "name": "#%%\n"
    }
   },
   "outputs": [],
   "source": [
    "def get_stats(group):\n",
    "    return pd.Series({'min': group.min(), 'max': group.max(),\n",
    "                      'count': group.count(), 'mean': group.mean(), 'sum': np.sum(group)})"
   ]
  },
  {
   "cell_type": "code",
   "execution_count": 303,
   "metadata": {
    "pycharm": {
     "metadata": false,
     "name": "#%%\n"
    }
   },
   "outputs": [
    {
     "data": {
      "text/plain": "data2                  \n(-3.292, -1.771]  min       -3.286045\n                  max       -1.784087\n                  count     39.000000\n                  mean      -2.193230\n                  sum      -85.535976\n(-1.771, -0.256]  min       -1.756230\n                  max       -0.256113\n                  count    356.000000\n                  mean      -0.850414\n                  sum     -302.747438\n(-0.256, 1.259]   min       -0.254312\n                  max        1.253997\n                  count    486.000000\n                  mean       0.423713\n                  sum      205.924526\n(1.259, 2.774]    min        1.265152\n                  max        2.773893\n                  count    119.000000\n                  mean       1.689472\n                  sum      201.047189\nName: data2, dtype: float64"
     },
     "execution_count": 303,
     "metadata": {},
     "output_type": "execute_result"
    }
   ],
   "source": [
    "grouped.apply(get_stats)"
   ]
  },
  {
   "cell_type": "code",
   "execution_count": 303,
   "outputs": [],
   "source": [
    "\n"
   ],
   "metadata": {
    "collapsed": false,
    "pycharm": {
     "name": "#%%\n"
    }
   }
  }
 ],
 "metadata": {
  "kernelspec": {
   "display_name": "Python 3",
   "language": "python",
   "name": "python3"
  },
  "language_info": {
   "codemirror_mode": {
    "name": "ipython",
    "version": 3
   },
   "file_extension": ".py",
   "mimetype": "text/x-python",
   "name": "python",
   "nbconvert_exporter": "python",
   "pygments_lexer": "ipython3",
   "version": "3.7.9"
  },
  "toc": {
   "base_numbering": 1,
   "nav_menu": {},
   "number_sections": true,
   "sideBar": true,
   "skip_h1_title": false,
   "title_cell": "Table of Contents",
   "title_sidebar": "Contents",
   "toc_cell": false,
   "toc_position": {},
   "toc_section_display": true,
   "toc_window_display": false
  }
 },
 "nbformat": 4,
 "nbformat_minor": 1
}