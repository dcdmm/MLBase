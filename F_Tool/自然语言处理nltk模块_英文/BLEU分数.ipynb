{
 "cells": [
  {
   "cell_type": "markdown",
   "metadata": {
    "collapsed": true,
    "pycharm": {
     "name": "#%% md\n"
    }
   },
   "source": [
    "给定的标签序列A、B、C、D、E、F和预测序列A、B、B、C、D,可得$p_1 = 4/5,p_2=3/4$和$p_4=0$,$len_{label}$表⽰标签序列中的词元数和$len_{pred}$表示预测序列中的词元数\n",
    "\n",
    "$$ \\exp \\left(\\min \\left(0,1-\\frac{\\text { len }_{\\text {label }}}{\\text { len }_{\\text {pred }}}\\right)\\right) \\prod_{n=1}^{k} p_{n}^{1 / 2^{n}} $$\n",
    "\n",
    "其中$k$是用于匹配的最长的$n$元语法\n",
    "\n",
    "易知当预测序列与标签序列完全相同时,BLEU为1.此外,由于$n$元语法越⻓则匹配难度越⼤,所以BLEU为更⻓的$n$元语法的精确度分配更⼤的权重"
   ]
  },
  {
   "cell_type": "code",
   "execution_count": 23,
   "outputs": [],
   "source": [
    "from nltk.translate.bleu_score import sentence_bleu, SmoothingFunction"
   ],
   "metadata": {
    "collapsed": false,
    "pycharm": {
     "name": "#%%\n"
    }
   }
  },
  {
   "cell_type": "code",
   "execution_count": 24,
   "outputs": [
    {
     "data": {
      "text/plain": "0.41180376356915777"
     },
     "execution_count": 24,
     "metadata": {},
     "output_type": "execute_result"
    }
   ],
   "source": [
    "hypothesis1 = ['It', 'is', 'a', 'guide', 'to', 'action', 'which',\n",
    "               'ensures', 'that', 'the', 'military', 'always',\n",
    "               'obeys', 'the', 'commands', 'of', 'the', 'party']\n",
    "\n",
    "hypothesis2 = ['It', 'is', 'to', 'insure', 'the', 'troops',\n",
    "               'forever', 'hearing', 'the', 'activity', 'guidebook',\n",
    "               'that', 'party', 'direct']\n",
    "\n",
    "reference1 = ['It', 'is', 'a', 'guide', 'to', 'action', 'that',\n",
    "              'ensures', 'that', 'the', 'military', 'will', 'forever',\n",
    "              'heed', 'Party', 'commands']\n",
    "\n",
    "reference2 = ['It', 'is', 'the', 'guiding', 'principle', 'which',\n",
    "              'guarantees', 'the', 'military', 'forces', 'always',\n",
    "              'being', 'under', 'the', 'command', 'of', 'the',\n",
    "              'Party']\n",
    "\n",
    "reference3 = ['It', 'is', 'the', 'practical', 'guide', 'for', 'the',\n",
    "              'army', 'always', 'to', 'heed', 'the', 'directions',\n",
    "              'of', 'the', 'party']\n",
    "\n",
    "sentence_bleu(references=[reference1],  # 参考句子\n",
    "              hypothesis=hypothesis1)  # 假设句子"
   ],
   "metadata": {
    "collapsed": false,
    "pycharm": {
     "name": "#%%\n"
    }
   }
  },
  {
   "cell_type": "code",
   "execution_count": 25,
   "outputs": [
    {
     "name": "stdout",
     "output_type": "stream",
     "text": [
      "5.92086005993801e-155\n",
      "0.03703131191121491\n"
     ]
    }
   ],
   "source": [
    "# The following example has zero 3-gram and 4-gram overlaps:\n",
    "print(sentence_bleu([reference1, reference2, reference3], hypothesis2))  # 值非常小\n",
    "\n",
    "chencherry = SmoothingFunction()\n",
    "# To avoid this harsh behaviour when no ngram overlaps are found a smoothing function can be used.\n",
    "print(sentence_bleu([reference1, reference2, reference3], hypothesis2, smoothing_function=chencherry.method1))  # 平滑"
   ],
   "metadata": {
    "collapsed": false,
    "pycharm": {
     "name": "#%%\n"
    }
   }
  },
  {
   "cell_type": "code",
   "execution_count": 26,
   "outputs": [
    {
     "name": "stdout",
     "output_type": "stream",
     "text": [
      "0.35240179419580947\n",
      "0.6240726989348756\n"
     ]
    }
   ],
   "source": [
    "# The default BLEU calculates a score for up to 4-grams using uniform weights (this is called BLEU-4).\n",
    "# To evaluate your translations with higher/lower order ngrams, use customized weights.\n",
    "# E.g. when accounting for up to 5-grams with uniform weights (this is called BLEU-5) use:\n",
    "weights_five = (1. / 10, 1. / 10, 2. / 5., 1. / 5., 1. / 5.)  # 不同n-grams指定不同的权重\n",
    "print(sentence_bleu([reference1, reference2, reference3], hypothesis1, weights_five))\n",
    "\n",
    "weights_five = (1. / 3., 1. / 3., 1. / 3.)\n",
    "print(sentence_bleu([reference1, reference2, reference3], hypothesis1, weights_five))  # BLEU-3"
   ],
   "metadata": {
    "collapsed": false,
    "pycharm": {
     "name": "#%%\n"
    }
   }
  },
  {
   "cell_type": "code",
   "execution_count": 26,
   "outputs": [],
   "source": [],
   "metadata": {
    "collapsed": false,
    "pycharm": {
     "name": "#%%\n"
    }
   }
  }
 ],
 "metadata": {
  "kernelspec": {
   "display_name": "Python 3",
   "language": "python",
   "name": "python3"
  },
  "language_info": {
   "codemirror_mode": {
    "name": "ipython",
    "version": 2
   },
   "file_extension": ".py",
   "mimetype": "text/x-python",
   "name": "python",
   "nbconvert_exporter": "python",
   "pygments_lexer": "ipython2",
   "version": "2.7.6"
  }
 },
 "nbformat": 4,
 "nbformat_minor": 0
}