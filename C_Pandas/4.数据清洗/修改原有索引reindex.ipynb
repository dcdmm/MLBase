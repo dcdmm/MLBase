{
 "cells": [
  {
   "cell_type": "code",
   "execution_count": 34,
   "outputs": [
    {
     "data": {
      "text/plain": "d    4.5\nb    7.2\na   -5.3\nc    3.6\ndtype: float64"
     },
     "metadata": {},
     "output_type": "execute_result",
     "execution_count": 34
    }
   ],
   "source": [
    "import numpy as np\n",
    "import  pandas as pd"
   ],
   "metadata": {
    "collapsed": false,
    "pycharm": {
     "name": "#%%\n",
     "is_executing": false
    }
   }
  },
  {
   "cell_type": "code",
   "execution_count": null,
   "outputs": [],
   "source": [
    "obj1 = pd.Series([4.5, 7.2, -5.3, 3.6], index=['d', 'b', 'a', 'c'])\n",
    "obj1"
   ],
   "metadata": {
    "collapsed": false,
    "pycharm": {
     "name": "#%%\n"
    }
   }
  },
  {
   "cell_type": "code",
   "execution_count": 35,
   "outputs": [
    {
     "data": {
      "text/plain": "a   -5.3\nf    NaN\nb    7.2\nd    4.5\ne    NaN\ndtype: float64"
     },
     "metadata": {},
     "output_type": "execute_result",
     "execution_count": 35
    }
   ],
   "source": [
    "new_index = ['a', 'f', 'b', 'd', 'e'] \n",
    "obj2 = obj1.reindex(new_index) # obj1不变\n",
    "'''\n",
    "1. 原有行索引a, b, d不变(即obj1['a']=obj2['a'])\n",
    "2. 新增行索引f, e默认赋值为NaN(即obj2['a']=NaN)\n",
    "3. 原有行索引c被删除\n",
    "'''\n",
    "obj2"
   ],
   "metadata": {
    "pycharm": {
     "metadata": false,
     "name": "#%%\n",
     "is_executing": false
    }
   }
  },
  {
   "cell_type": "code",
   "execution_count": 40,
   "outputs": [
    {
     "data": {
      "text/plain": "   Ohio  Texas  California\na     0      1           2\nc     3      4           5\nd     6      7           8",
      "text/html": "<div>\n<style scoped>\n    .dataframe tbody tr th:only-of-type {\n        vertical-align: middle;\n    }\n\n    .dataframe tbody tr th {\n        vertical-align: top;\n    }\n\n    .dataframe thead th {\n        text-align: right;\n    }\n</style>\n<table border=\"1\" class=\"dataframe\">\n  <thead>\n    <tr style=\"text-align: right;\">\n      <th></th>\n      <th>Ohio</th>\n      <th>Texas</th>\n      <th>California</th>\n    </tr>\n  </thead>\n  <tbody>\n    <tr>\n      <th>a</th>\n      <td>0</td>\n      <td>1</td>\n      <td>2</td>\n    </tr>\n    <tr>\n      <th>c</th>\n      <td>3</td>\n      <td>4</td>\n      <td>5</td>\n    </tr>\n    <tr>\n      <th>d</th>\n      <td>6</td>\n      <td>7</td>\n      <td>8</td>\n    </tr>\n  </tbody>\n</table>\n</div>"
     },
     "metadata": {},
     "output_type": "execute_result",
     "execution_count": 40
    }
   ],
   "source": [
    "frame1 = pd.DataFrame(np.arange(9).reshape((3, 3)),\n",
    "                     index=['a', 'c', 'd'],\n",
    "                     columns=['Ohio', 'Texas', 'California'])\n",
    "frame1"
   ],
   "metadata": {
    "pycharm": {
     "metadata": false,
     "name": "#%%\n",
     "is_executing": false
    }
   }
  },
  {
   "cell_type": "code",
   "execution_count": 41,
   "outputs": [
    {
     "data": {
      "text/plain": "   Ohio  Texas  California\na   0.0    1.0         2.0\nb   NaN    NaN         NaN\nc   3.0    4.0         5.0\nd   6.0    7.0         8.0",
      "text/html": "<div>\n<style scoped>\n    .dataframe tbody tr th:only-of-type {\n        vertical-align: middle;\n    }\n\n    .dataframe tbody tr th {\n        vertical-align: top;\n    }\n\n    .dataframe thead th {\n        text-align: right;\n    }\n</style>\n<table border=\"1\" class=\"dataframe\">\n  <thead>\n    <tr style=\"text-align: right;\">\n      <th></th>\n      <th>Ohio</th>\n      <th>Texas</th>\n      <th>California</th>\n    </tr>\n  </thead>\n  <tbody>\n    <tr>\n      <th>a</th>\n      <td>0.0</td>\n      <td>1.0</td>\n      <td>2.0</td>\n    </tr>\n    <tr>\n      <th>b</th>\n      <td>NaN</td>\n      <td>NaN</td>\n      <td>NaN</td>\n    </tr>\n    <tr>\n      <th>c</th>\n      <td>3.0</td>\n      <td>4.0</td>\n      <td>5.0</td>\n    </tr>\n    <tr>\n      <th>d</th>\n      <td>6.0</td>\n      <td>7.0</td>\n      <td>8.0</td>\n    </tr>\n  </tbody>\n</table>\n</div>"
     },
     "metadata": {},
     "output_type": "execute_result",
     "execution_count": 41
    }
   ],
   "source": [
    "frame1.reindex(['a', 'b', 'c', 'd']) # frame1不变"
   ],
   "metadata": {
    "pycharm": {
     "metadata": false,
     "name": "#%%\n",
     "is_executing": false
    }
   }
  },
  {
   "cell_type": "code",
   "execution_count": 42,
   "outputs": [
    {
     "data": {
      "text/plain": "   Texas  Utah  California\na      1     0           2\nc      4     0           5\nd      7     0           8",
      "text/html": "<div>\n<style scoped>\n    .dataframe tbody tr th:only-of-type {\n        vertical-align: middle;\n    }\n\n    .dataframe tbody tr th {\n        vertical-align: top;\n    }\n\n    .dataframe thead th {\n        text-align: right;\n    }\n</style>\n<table border=\"1\" class=\"dataframe\">\n  <thead>\n    <tr style=\"text-align: right;\">\n      <th></th>\n      <th>Texas</th>\n      <th>Utah</th>\n      <th>California</th>\n    </tr>\n  </thead>\n  <tbody>\n    <tr>\n      <th>a</th>\n      <td>1</td>\n      <td>0</td>\n      <td>2</td>\n    </tr>\n    <tr>\n      <th>c</th>\n      <td>4</td>\n      <td>0</td>\n      <td>5</td>\n    </tr>\n    <tr>\n      <th>d</th>\n      <td>7</td>\n      <td>0</td>\n      <td>8</td>\n    </tr>\n  </tbody>\n</table>\n</div>"
     },
     "metadata": {},
     "output_type": "execute_result",
     "execution_count": 42
    }
   ],
   "source": [
    "'''\n",
    "method : {None, ‘backfill’/’bfill’, ‘pad’/’ffill’, ‘nearest’}\n",
    "    Method to use for filling holes in reindexed DataFrame. Please note: this is only applicable to \n",
    "    DataFrames/Series with a monotonically increasing/decreasing index.\n",
    "        None (default): don’t fill gaps\n",
    "        pad / ffill: propagate last valid observation forward to next valid\n",
    "        backfill / bfill: use next valid observation to fill gap\n",
    "        nearest: use nearest valid observations to fill gap\n",
    "        \n",
    "fill_value : scalar, default np.NaN\n",
    "    Value to use for missing values. Defaults to NaN, but can be any “compatible” value\n",
    "'''\n",
    "states = ['Texas', 'Utah', 'California']\n",
    "frame1.reindex(columns=states, fill_value=0)"
   ],
   "metadata": {
    "pycharm": {
     "metadata": false,
     "name": "#%%\n",
     "is_executing": false
    }
   }
  },
  {
   "cell_type": "code",
   "execution_count": 20,
   "outputs": [
    {
     "data": {
      "text/plain": "            prices\n2010-01-01   100.0\n2010-01-02   101.0\n2010-01-03     NaN\n2010-01-04   100.0\n2010-01-05    89.0\n2010-01-06    88.0",
      "text/html": "<div>\n<style scoped>\n    .dataframe tbody tr th:only-of-type {\n        vertical-align: middle;\n    }\n\n    .dataframe tbody tr th {\n        vertical-align: top;\n    }\n\n    .dataframe thead th {\n        text-align: right;\n    }\n</style>\n<table border=\"1\" class=\"dataframe\">\n  <thead>\n    <tr style=\"text-align: right;\">\n      <th></th>\n      <th>prices</th>\n    </tr>\n  </thead>\n  <tbody>\n    <tr>\n      <th>2010-01-01</th>\n      <td>100.0</td>\n    </tr>\n    <tr>\n      <th>2010-01-02</th>\n      <td>101.0</td>\n    </tr>\n    <tr>\n      <th>2010-01-03</th>\n      <td>NaN</td>\n    </tr>\n    <tr>\n      <th>2010-01-04</th>\n      <td>100.0</td>\n    </tr>\n    <tr>\n      <th>2010-01-05</th>\n      <td>89.0</td>\n    </tr>\n    <tr>\n      <th>2010-01-06</th>\n      <td>88.0</td>\n    </tr>\n  </tbody>\n</table>\n</div>"
     },
     "metadata": {},
     "output_type": "execute_result",
     "execution_count": 20
    }
   ],
   "source": "date_index = pd.date_range('1/1/2010', periods=6, freq='D')\ndf = pd.DataFrame({\"prices\": [100, 101, np.nan, 100, 89, 88]},\n                    index=date_index)\ndf",
   "metadata": {
    "pycharm": {
     "metadata": false,
     "name": "#%%\n",
     "is_executing": false
    }
   }
  },
  {
   "cell_type": "code",
   "execution_count": 21,
   "outputs": [
    {
     "data": {
      "text/plain": "            prices\n2009-12-29     NaN\n2009-12-30     NaN\n2009-12-31     NaN\n2010-01-01   100.0\n2010-01-02   101.0\n2010-01-03     NaN\n2010-01-04   100.0\n2010-01-05    89.0\n2010-01-06    88.0\n2010-01-07     NaN",
      "text/html": "<div>\n<style scoped>\n    .dataframe tbody tr th:only-of-type {\n        vertical-align: middle;\n    }\n\n    .dataframe tbody tr th {\n        vertical-align: top;\n    }\n\n    .dataframe thead th {\n        text-align: right;\n    }\n</style>\n<table border=\"1\" class=\"dataframe\">\n  <thead>\n    <tr style=\"text-align: right;\">\n      <th></th>\n      <th>prices</th>\n    </tr>\n  </thead>\n  <tbody>\n    <tr>\n      <th>2009-12-29</th>\n      <td>NaN</td>\n    </tr>\n    <tr>\n      <th>2009-12-30</th>\n      <td>NaN</td>\n    </tr>\n    <tr>\n      <th>2009-12-31</th>\n      <td>NaN</td>\n    </tr>\n    <tr>\n      <th>2010-01-01</th>\n      <td>100.0</td>\n    </tr>\n    <tr>\n      <th>2010-01-02</th>\n      <td>101.0</td>\n    </tr>\n    <tr>\n      <th>2010-01-03</th>\n      <td>NaN</td>\n    </tr>\n    <tr>\n      <th>2010-01-04</th>\n      <td>100.0</td>\n    </tr>\n    <tr>\n      <th>2010-01-05</th>\n      <td>89.0</td>\n    </tr>\n    <tr>\n      <th>2010-01-06</th>\n      <td>88.0</td>\n    </tr>\n    <tr>\n      <th>2010-01-07</th>\n      <td>NaN</td>\n    </tr>\n  </tbody>\n</table>\n</div>"
     },
     "metadata": {},
     "output_type": "execute_result",
     "execution_count": 21
    }
   ],
   "source": "date_index2 = pd.date_range('12/29/2009', periods=10, freq='D')\ndf.reindex(date_index2)",
   "metadata": {
    "pycharm": {
     "metadata": false,
     "name": "#%%\n",
     "is_executing": false
    }
   }
  },
  {
   "cell_type": "code",
   "execution_count": 22,
   "outputs": [
    {
     "data": {
      "text/plain": "lama    speed      45.0\n        weight    200.0\n        length      1.2\ncow     speed      30.0\n        weight    250.0\n        length      1.5\nfalcon  speed     320.0\n        weight      1.0\n        length      0.3\ndtype: float64"
     },
     "metadata": {},
     "output_type": "execute_result",
     "execution_count": 22
    }
   ],
   "source": "midx = pd.MultiIndex(levels=[['lama', 'cow', 'falcon'],\n                              ['speed', 'weight', 'length']],\n                      codes=[[0, 0, 0, 1, 1, 1, 2, 2, 2],\n                             [0, 1, 2, 0, 1, 2, 0, 1, 2]])\ns = pd.Series([45, 200, 1.2, 30, 250, 1.5, 320, 1, 0.3],\n               index=midx)\ns",
   "metadata": {
    "pycharm": {
     "metadata": false,
     "name": "#%%\n",
     "is_executing": false
    }
   }
  },
  {
   "cell_type": "code",
   "execution_count": 23,
   "outputs": [
    {
     "data": {
      "text/plain": "lama      speed      45.0\n          weight    200.0\n          length      1.2\n          age         NaN\ncow       speed      30.0\n          weight    250.0\n          length      1.5\n          age         NaN\nfalcon    speed     320.0\n          weight      1.0\n          length      0.3\n          age         NaN\nnew_lama  speed       NaN\n          weight      NaN\n          length      NaN\n          age         NaN\ndtype: float64"
     },
     "metadata": {},
     "output_type": "execute_result",
     "execution_count": 23
    }
   ],
   "source": "midx1 = pd.MultiIndex(levels=[['lama', 'cow', 'falcon', 'new_lama'],\n                              ['speed', 'weight', 'length', 'age']],\n                      codes=[[0, 0, 0, 0, 1, 1, 1, 1, 2, 2, 2, 2, 3, 3, 3, 3],\n                             [0, 1, 2, 3, 0, 1, 2, 3, 0, 1, 2, 3, 0, 1, 2, 3]])\ns.reindex(midx1)",
   "metadata": {
    "pycharm": {
     "metadata": false,
     "name": "#%%\n",
     "is_executing": false
    }
   }
  }
 ],
 "metadata": {
  "language_info": {
   "codemirror_mode": {
    "name": "ipython",
    "version": 2
   },
   "file_extension": ".py",
   "mimetype": "text/x-python",
   "name": "python",
   "nbconvert_exporter": "python",
   "pygments_lexer": "ipython2",
   "version": "2.7.6"
  },
  "kernelspec": {
   "name": "python3",
   "language": "python",
   "display_name": "Python 3"
  },
  "stem_cell": {
   "cell_type": "raw",
   "source": "",
   "metadata": {
    "pycharm": {
     "metadata": false
    }
   }
  },
  "pycharm": {
   "stem_cell": {
    "cell_type": "raw",
    "source": [],
    "metadata": {
     "collapsed": false
    }
   }
  }
 },
 "nbformat": 4,
 "nbformat_minor": 0
}