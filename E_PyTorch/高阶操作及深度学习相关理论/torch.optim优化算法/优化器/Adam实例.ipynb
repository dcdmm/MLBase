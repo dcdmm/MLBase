{
 "cells": [
  {
   "cell_type": "code",
   "execution_count": 1,
   "outputs": [],
   "source": [
    "from abc import ABC\n",
    "import torch.nn as nn\n",
    "import torch.optim as optim\n",
    "from torchvision import datasets, transforms\n",
    "import torch.utils.data as Data\n",
    "import torch"
   ],
   "metadata": {
    "collapsed": false,
    "pycharm": {
     "name": "#%%\n"
    }
   }
  },
  {
   "cell_type": "code",
   "execution_count": 2,
   "outputs": [],
   "source": [
    "batch_size = 200\n",
    "learning_rate = 0.001\n",
    "\n",
    "train_data = datasets.MNIST('../../../../Other/datasets/PyTorch',\n",
    "                            train=True,\n",
    "                            transform=transforms.Compose([\n",
    "                                transforms.ToTensor(),\n",
    "                                transforms.Normalize((0.1307,), (0.3081,))\n",
    "                            ]))\n",
    "\n",
    "test_data = datasets.MNIST('../../../../Other/datasets/PyTorch',\n",
    "                           train=False,\n",
    "                           transform=transforms.Compose([\n",
    "                               transforms.ToTensor(),\n",
    "                               transforms.Normalize((0.1307,), (0.3081,))\n",
    "                           ]))\n",
    "\n",
    "# 手写数字训练数据集\n",
    "train_loader = Data.DataLoader(dataset=train_data,\n",
    "                               batch_size=batch_size,\n",
    "                               shuffle=True)\n",
    "\n",
    "# 手写数字测试数据集\n",
    "test_loader = Data.DataLoader(dataset=test_data,\n",
    "                              batch_size=batch_size,\n",
    "                              shuffle=True)"
   ],
   "metadata": {
    "collapsed": false,
    "pycharm": {
     "name": "#%%\n"
    }
   }
  },
  {
   "cell_type": "code",
   "execution_count": 3,
   "outputs": [],
   "source": [
    "class LeNet(nn.Module, ABC):\n",
    "    def __init__(self):\n",
    "        super(LeNet, self).__init__()\n",
    "        self.featrues = nn.Sequential(  # 内部实现了forward函数;各模块顺序执行\n",
    "            nn.Conv2d(1, 6, 3),\n",
    "            nn.ReLU(),\n",
    "            nn.MaxPool2d(2, 2),\n",
    "            nn.Conv2d(6, 16, 3),\n",
    "            nn.ReLU(),\n",
    "            nn.MaxPool2d(2, 2)\n",
    "        )\n",
    "        self.classifier = nn.Sequential(\n",
    "            nn.Linear(400, 120),\n",
    "            nn.ReLU(),\n",
    "            nn.Linear(120, 84),\n",
    "            nn.ReLU(),\n",
    "            nn.Linear(84, 10),  # 10分类问题\n",
    "        )\n",
    "\n",
    "    def forward(self, x):\n",
    "        x = self.featrues(x)\n",
    "        x = x.reshape(x.size()[0], -1)\n",
    "        x = self.classifier(x)\n",
    "        return x"
   ],
   "metadata": {
    "collapsed": false,
    "pycharm": {
     "name": "#%%\n"
    }
   }
  },
  {
   "cell_type": "code",
   "execution_count": 4,
   "outputs": [],
   "source": [
    "criteon = nn.CrossEntropyLoss()  # 定义损失函数为交叉熵\n",
    "net = LeNet()\n",
    "device = torch.device(\"cuda\" if torch.cuda.is_available() else \"cpu\")\n",
    "lenet = net.to(device)  # 模型设备转移必须在优化器定义前执行\n",
    "\n",
    "# Adam优化器\n",
    "optimizer = optim.Adam(net.parameters(),\n",
    "                       lr=learning_rate,  # 学习率\\epsilon;默认lr=0.0001\n",
    "                       weight_decay=1e-3,  # L2正则化系数,默认weight_decay=0\n",
    "                       betas=(0.9, 0.999),  # \\rho_1, \\rho_2;默认betas=(0.9, 0.999)\n",
    "                       eps=1e-8)  # 分母中的小常数\\delta;默认eps=1e-8"
   ],
   "metadata": {
    "collapsed": false,
    "pycharm": {
     "name": "#%%\n"
    }
   }
  },
  {
   "cell_type": "code",
   "execution_count": 5,
   "outputs": [
    {
     "data": {
      "text/plain": "torch.Size([60000, 1, 28, 28])"
     },
     "execution_count": 5,
     "metadata": {},
     "output_type": "execute_result"
    }
   ],
   "source": [
    "transforms_data = []\n",
    "for i, j in train_data:\n",
    "    transforms_data.append(i.tolist())\n",
    "transforms_data_ten = torch.tensor(transforms_data)\n",
    "transforms_data_ten.shape"
   ],
   "metadata": {
    "collapsed": false,
    "pycharm": {
     "name": "#%%\n"
    }
   }
  },
  {
   "cell_type": "code",
   "execution_count": 6,
   "outputs": [],
   "source": [
    "transforms_data_loader = Data.DataLoader(transforms_data_ten, batch_size=200, shuffle=True)\n",
    "y_label = train_loader.dataset.targets"
   ],
   "metadata": {
    "collapsed": false,
    "pycharm": {
     "name": "#%%\n"
    }
   }
  },
  {
   "cell_type": "code",
   "execution_count": 7,
   "outputs": [],
   "source": [
    "from torch_model.train_evaluate import Train_Evaluate\n",
    "\n",
    "t_and_v = Train_Evaluate(model=lenet, optimizer=optimizer, criterion=criteon, epochs=5)"
   ],
   "metadata": {
    "collapsed": false,
    "pycharm": {
     "name": "#%%\n"
    }
   }
  },
  {
   "cell_type": "code",
   "execution_count": 8,
   "outputs": [
    {
     "name": "stderr",
     "output_type": "stream",
     "text": [
      "C:\\Users\\duanm\\anaconda3\\lib\\site-packages\\torch\\nn\\functional.py:718: UserWarning: Named tensors and all their associated APIs are an experimental feature and subject to change. Please do not use them for anything important until they are released as stable. (Triggered internally at  ..\\c10/core/TensorImpl.h:1156.)\n",
      "  return torch.max_pool2d(input, kernel_size, stride, padding, dilation, ceil_mode)\n"
     ]
    },
    {
     "name": "stdout",
     "output_type": "stream",
     "text": [
      "Train Epoch: 0  [0    /60000 (0  %)]\tLoss: 2.302909\n",
      "Train Epoch: 0  [2000 /60000 (3  %)]\tLoss: 2.133662\n",
      "Train Epoch: 0  [4000 /60000 (7  %)]\tLoss: 1.677378\n",
      "Train Epoch: 0  [6000 /60000 (10 %)]\tLoss: 1.006885\n",
      "Train Epoch: 0  [8000 /60000 (13 %)]\tLoss: 0.703405\n",
      "Train Epoch: 0  [10000/60000 (17 %)]\tLoss: 0.572058\n",
      "Train Epoch: 0  [12000/60000 (20 %)]\tLoss: 0.374807\n",
      "Train Epoch: 0  [14000/60000 (23 %)]\tLoss: 0.459003\n",
      "Train Epoch: 0  [16000/60000 (27 %)]\tLoss: 0.357867\n",
      "Train Epoch: 0  [18000/60000 (30 %)]\tLoss: 0.301552\n",
      "Train Epoch: 0  [20000/60000 (33 %)]\tLoss: 0.348700\n",
      "Train Epoch: 0  [22000/60000 (37 %)]\tLoss: 0.173406\n",
      "Train Epoch: 0  [24000/60000 (40 %)]\tLoss: 0.220920\n",
      "Train Epoch: 0  [26000/60000 (43 %)]\tLoss: 0.174639\n",
      "Train Epoch: 0  [28000/60000 (47 %)]\tLoss: 0.194237\n",
      "Train Epoch: 0  [30000/60000 (50 %)]\tLoss: 0.177132\n",
      "Train Epoch: 0  [32000/60000 (53 %)]\tLoss: 0.246750\n",
      "Train Epoch: 0  [34000/60000 (57 %)]\tLoss: 0.195805\n",
      "Train Epoch: 0  [36000/60000 (60 %)]\tLoss: 0.164762\n",
      "Train Epoch: 0  [38000/60000 (63 %)]\tLoss: 0.203057\n",
      "Train Epoch: 0  [40000/60000 (67 %)]\tLoss: 0.215475\n",
      "Train Epoch: 0  [42000/60000 (70 %)]\tLoss: 0.178534\n",
      "Train Epoch: 0  [44000/60000 (73 %)]\tLoss: 0.133585\n",
      "Train Epoch: 0  [46000/60000 (77 %)]\tLoss: 0.147783\n",
      "Train Epoch: 0  [48000/60000 (80 %)]\tLoss: 0.190337\n",
      "Train Epoch: 0  [50000/60000 (83 %)]\tLoss: 0.127429\n",
      "Train Epoch: 0  [52000/60000 (87 %)]\tLoss: 0.125367\n",
      "Train Epoch: 0  [54000/60000 (90 %)]\tLoss: 0.176322\n",
      "Train Epoch: 0  [56000/60000 (93 %)]\tLoss: 0.118731\n",
      "Train Epoch: 0  [58000/60000 (97 %)]\tLoss: 0.078058\n",
      "Train Epoch: 0  [60000/60000 (100%)]\tLoss: 0.145203\n",
      "----------------------------------------------------------------------------------------------------\n",
      "Train Epoch: 1  [0    /60000 (0  %)]\tLoss: 0.134217\n",
      "Train Epoch: 1  [2000 /60000 (3  %)]\tLoss: 0.141076\n",
      "Train Epoch: 1  [4000 /60000 (7  %)]\tLoss: 0.078361\n",
      "Train Epoch: 1  [6000 /60000 (10 %)]\tLoss: 0.068391\n",
      "Train Epoch: 1  [8000 /60000 (13 %)]\tLoss: 0.117913\n",
      "Train Epoch: 1  [10000/60000 (17 %)]\tLoss: 0.175492\n",
      "Train Epoch: 1  [12000/60000 (20 %)]\tLoss: 0.108522\n",
      "Train Epoch: 1  [14000/60000 (23 %)]\tLoss: 0.148515\n",
      "Train Epoch: 1  [16000/60000 (27 %)]\tLoss: 0.196535\n",
      "Train Epoch: 1  [18000/60000 (30 %)]\tLoss: 0.104235\n",
      "Train Epoch: 1  [20000/60000 (33 %)]\tLoss: 0.160841\n",
      "Train Epoch: 1  [22000/60000 (37 %)]\tLoss: 0.108551\n",
      "Train Epoch: 1  [24000/60000 (40 %)]\tLoss: 0.137758\n",
      "Train Epoch: 1  [26000/60000 (43 %)]\tLoss: 0.205403\n",
      "Train Epoch: 1  [28000/60000 (47 %)]\tLoss: 0.091761\n",
      "Train Epoch: 1  [30000/60000 (50 %)]\tLoss: 0.117469\n",
      "Train Epoch: 1  [32000/60000 (53 %)]\tLoss: 0.258361\n",
      "Train Epoch: 1  [34000/60000 (57 %)]\tLoss: 0.174353\n",
      "Train Epoch: 1  [36000/60000 (60 %)]\tLoss: 0.112728\n",
      "Train Epoch: 1  [38000/60000 (63 %)]\tLoss: 0.113018\n",
      "Train Epoch: 1  [40000/60000 (67 %)]\tLoss: 0.094898\n",
      "Train Epoch: 1  [42000/60000 (70 %)]\tLoss: 0.072925\n",
      "Train Epoch: 1  [44000/60000 (73 %)]\tLoss: 0.098054\n",
      "Train Epoch: 1  [46000/60000 (77 %)]\tLoss: 0.059327\n",
      "Train Epoch: 1  [48000/60000 (80 %)]\tLoss: 0.131581\n",
      "Train Epoch: 1  [50000/60000 (83 %)]\tLoss: 0.082575\n",
      "Train Epoch: 1  [52000/60000 (87 %)]\tLoss: 0.136631\n",
      "Train Epoch: 1  [54000/60000 (90 %)]\tLoss: 0.114733\n",
      "Train Epoch: 1  [56000/60000 (93 %)]\tLoss: 0.165405\n",
      "Train Epoch: 1  [58000/60000 (97 %)]\tLoss: 0.070828\n",
      "Train Epoch: 1  [60000/60000 (100%)]\tLoss: 0.101431\n",
      "----------------------------------------------------------------------------------------------------\n",
      "Train Epoch: 2  [0    /60000 (0  %)]\tLoss: 0.066942\n",
      "Train Epoch: 2  [2000 /60000 (3  %)]\tLoss: 0.118834\n",
      "Train Epoch: 2  [4000 /60000 (7  %)]\tLoss: 0.061997\n",
      "Train Epoch: 2  [6000 /60000 (10 %)]\tLoss: 0.120244\n",
      "Train Epoch: 2  [8000 /60000 (13 %)]\tLoss: 0.080799\n",
      "Train Epoch: 2  [10000/60000 (17 %)]\tLoss: 0.046667\n",
      "Train Epoch: 2  [12000/60000 (20 %)]\tLoss: 0.108378\n",
      "Train Epoch: 2  [14000/60000 (23 %)]\tLoss: 0.123501\n",
      "Train Epoch: 2  [16000/60000 (27 %)]\tLoss: 0.128007\n",
      "Train Epoch: 2  [18000/60000 (30 %)]\tLoss: 0.105657\n",
      "Train Epoch: 2  [20000/60000 (33 %)]\tLoss: 0.095460\n",
      "Train Epoch: 2  [22000/60000 (37 %)]\tLoss: 0.032077\n",
      "Train Epoch: 2  [24000/60000 (40 %)]\tLoss: 0.064596\n",
      "Train Epoch: 2  [26000/60000 (43 %)]\tLoss: 0.074596\n",
      "Train Epoch: 2  [28000/60000 (47 %)]\tLoss: 0.047314\n",
      "Train Epoch: 2  [30000/60000 (50 %)]\tLoss: 0.049984\n",
      "Train Epoch: 2  [32000/60000 (53 %)]\tLoss: 0.071017\n",
      "Train Epoch: 2  [34000/60000 (57 %)]\tLoss: 0.140307\n",
      "Train Epoch: 2  [36000/60000 (60 %)]\tLoss: 0.102759\n",
      "Train Epoch: 2  [38000/60000 (63 %)]\tLoss: 0.097698\n",
      "Train Epoch: 2  [40000/60000 (67 %)]\tLoss: 0.089968\n",
      "Train Epoch: 2  [42000/60000 (70 %)]\tLoss: 0.068437\n",
      "Train Epoch: 2  [44000/60000 (73 %)]\tLoss: 0.099045\n",
      "Train Epoch: 2  [46000/60000 (77 %)]\tLoss: 0.062209\n",
      "Train Epoch: 2  [48000/60000 (80 %)]\tLoss: 0.034973\n",
      "Train Epoch: 2  [50000/60000 (83 %)]\tLoss: 0.048449\n",
      "Train Epoch: 2  [52000/60000 (87 %)]\tLoss: 0.060233\n",
      "Train Epoch: 2  [54000/60000 (90 %)]\tLoss: 0.060921\n",
      "Train Epoch: 2  [56000/60000 (93 %)]\tLoss: 0.035426\n",
      "Train Epoch: 2  [58000/60000 (97 %)]\tLoss: 0.041639\n",
      "Train Epoch: 2  [60000/60000 (100%)]\tLoss: 0.129010\n",
      "----------------------------------------------------------------------------------------------------\n",
      "Train Epoch: 3  [0    /60000 (0  %)]\tLoss: 0.167528\n",
      "Train Epoch: 3  [2000 /60000 (3  %)]\tLoss: 0.073879\n",
      "Train Epoch: 3  [4000 /60000 (7  %)]\tLoss: 0.059077\n",
      "Train Epoch: 3  [6000 /60000 (10 %)]\tLoss: 0.043554\n",
      "Train Epoch: 3  [8000 /60000 (13 %)]\tLoss: 0.089361\n",
      "Train Epoch: 3  [10000/60000 (17 %)]\tLoss: 0.055920\n",
      "Train Epoch: 3  [12000/60000 (20 %)]\tLoss: 0.059576\n",
      "Train Epoch: 3  [14000/60000 (23 %)]\tLoss: 0.058960\n",
      "Train Epoch: 3  [16000/60000 (27 %)]\tLoss: 0.043507\n",
      "Train Epoch: 3  [18000/60000 (30 %)]\tLoss: 0.034138\n",
      "Train Epoch: 3  [20000/60000 (33 %)]\tLoss: 0.064169\n",
      "Train Epoch: 3  [22000/60000 (37 %)]\tLoss: 0.029589\n",
      "Train Epoch: 3  [24000/60000 (40 %)]\tLoss: 0.046437\n",
      "Train Epoch: 3  [26000/60000 (43 %)]\tLoss: 0.050148\n",
      "Train Epoch: 3  [28000/60000 (47 %)]\tLoss: 0.120903\n",
      "Train Epoch: 3  [30000/60000 (50 %)]\tLoss: 0.075658\n",
      "Train Epoch: 3  [32000/60000 (53 %)]\tLoss: 0.082261\n",
      "Train Epoch: 3  [34000/60000 (57 %)]\tLoss: 0.040116\n",
      "Train Epoch: 3  [36000/60000 (60 %)]\tLoss: 0.027798\n",
      "Train Epoch: 3  [38000/60000 (63 %)]\tLoss: 0.050435\n",
      "Train Epoch: 3  [40000/60000 (67 %)]\tLoss: 0.037868\n",
      "Train Epoch: 3  [42000/60000 (70 %)]\tLoss: 0.043844\n",
      "Train Epoch: 3  [44000/60000 (73 %)]\tLoss: 0.036998\n",
      "Train Epoch: 3  [46000/60000 (77 %)]\tLoss: 0.032195\n",
      "Train Epoch: 3  [48000/60000 (80 %)]\tLoss: 0.076439\n",
      "Train Epoch: 3  [50000/60000 (83 %)]\tLoss: 0.037276\n",
      "Train Epoch: 3  [52000/60000 (87 %)]\tLoss: 0.054768\n",
      "Train Epoch: 3  [54000/60000 (90 %)]\tLoss: 0.057210\n",
      "Train Epoch: 3  [56000/60000 (93 %)]\tLoss: 0.042807\n",
      "Train Epoch: 3  [58000/60000 (97 %)]\tLoss: 0.063148\n",
      "Train Epoch: 3  [60000/60000 (100%)]\tLoss: 0.036447\n",
      "----------------------------------------------------------------------------------------------------\n",
      "Train Epoch: 4  [0    /60000 (0  %)]\tLoss: 0.013962\n",
      "Train Epoch: 4  [2000 /60000 (3  %)]\tLoss: 0.036501\n",
      "Train Epoch: 4  [4000 /60000 (7  %)]\tLoss: 0.065241\n",
      "Train Epoch: 4  [6000 /60000 (10 %)]\tLoss: 0.065735\n",
      "Train Epoch: 4  [8000 /60000 (13 %)]\tLoss: 0.045462\n",
      "Train Epoch: 4  [10000/60000 (17 %)]\tLoss: 0.029784\n",
      "Train Epoch: 4  [12000/60000 (20 %)]\tLoss: 0.037166\n",
      "Train Epoch: 4  [14000/60000 (23 %)]\tLoss: 0.036528\n",
      "Train Epoch: 4  [16000/60000 (27 %)]\tLoss: 0.089280\n",
      "Train Epoch: 4  [18000/60000 (30 %)]\tLoss: 0.038405\n",
      "Train Epoch: 4  [20000/60000 (33 %)]\tLoss: 0.061362\n",
      "Train Epoch: 4  [22000/60000 (37 %)]\tLoss: 0.061385\n",
      "Train Epoch: 4  [24000/60000 (40 %)]\tLoss: 0.072410\n",
      "Train Epoch: 4  [26000/60000 (43 %)]\tLoss: 0.075850\n",
      "Train Epoch: 4  [28000/60000 (47 %)]\tLoss: 0.036638\n",
      "Train Epoch: 4  [30000/60000 (50 %)]\tLoss: 0.065139\n",
      "Train Epoch: 4  [32000/60000 (53 %)]\tLoss: 0.058069\n",
      "Train Epoch: 4  [34000/60000 (57 %)]\tLoss: 0.048752\n",
      "Train Epoch: 4  [36000/60000 (60 %)]\tLoss: 0.060587\n",
      "Train Epoch: 4  [38000/60000 (63 %)]\tLoss: 0.054025\n",
      "Train Epoch: 4  [40000/60000 (67 %)]\tLoss: 0.040955\n",
      "Train Epoch: 4  [42000/60000 (70 %)]\tLoss: 0.057718\n",
      "Train Epoch: 4  [44000/60000 (73 %)]\tLoss: 0.024762\n",
      "Train Epoch: 4  [46000/60000 (77 %)]\tLoss: 0.046420\n",
      "Train Epoch: 4  [48000/60000 (80 %)]\tLoss: 0.141169\n",
      "Train Epoch: 4  [50000/60000 (83 %)]\tLoss: 0.060361\n",
      "Train Epoch: 4  [52000/60000 (87 %)]\tLoss: 0.053667\n",
      "Train Epoch: 4  [54000/60000 (90 %)]\tLoss: 0.036874\n",
      "Train Epoch: 4  [56000/60000 (93 %)]\tLoss: 0.075800\n",
      "Train Epoch: 4  [58000/60000 (97 %)]\tLoss: 0.032593\n",
      "Train Epoch: 4  [60000/60000 (100%)]\tLoss: 0.092143\n",
      "----------------------------------------------------------------------------------------------------\n"
     ]
    },
    {
     "data": {
      "text/plain": "[[9.966527938842773],\n [10.594836235046387],\n [10.996888160705566],\n [11.86246109008789],\n [11.756683349609375]]"
     },
     "execution_count": 8,
     "metadata": {},
     "output_type": "execute_result"
    }
   ],
   "source": [
    "# 每一轮的损失值\n",
    "metric_reslut = t_and_v.train_eval(train_loader=train_loader, valid_sets=[(transforms_data_loader, y_label)])\n",
    "metric_reslut"
   ],
   "metadata": {
    "collapsed": false,
    "pycharm": {
     "name": "#%%\n"
    }
   }
  },
  {
   "cell_type": "code",
   "execution_count": 8,
   "outputs": [],
   "source": [],
   "metadata": {
    "collapsed": false,
    "pycharm": {
     "name": "#%%\n"
    }
   }
  }
 ],
 "metadata": {
  "kernelspec": {
   "display_name": "Python 3",
   "language": "python",
   "name": "python3"
  },
  "language_info": {
   "codemirror_mode": {
    "name": "ipython",
    "version": 2
   },
   "file_extension": ".py",
   "mimetype": "text/x-python",
   "name": "python",
   "nbconvert_exporter": "python",
   "pygments_lexer": "ipython2",
   "version": "2.7.6"
  }
 },
 "nbformat": 4,
 "nbformat_minor": 0
}