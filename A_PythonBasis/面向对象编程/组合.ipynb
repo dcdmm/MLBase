{
 "cells": [
  {
   "cell_type": "code",
   "execution_count": null,
   "outputs": [],
   "source": [
    "# 把类的对象实例化放到一个新的类里面叫做类的组合\n",
    "class Trutle:\n",
    "\tdef __init__(self,x):\n",
    "\t\tself.num = x\n",
    "\n",
    "\n",
    "class Fish:\n",
    "\tdef __init__(self,x):\n",
    "\t\tself.num = x\n",
    "\t\t\n",
    "\t\t\n",
    "class Pool:\n",
    "\tdef __init__(self,x,y):\n",
    "\t\tself.turtle = Trutle(x)\n",
    "\t\tself.fish = Fish(y)\n",
    "\t\n",
    "\tdef print_num(self):\n",
    "\t\tprint('水池里共有乌龟%d只,小鱼%d条'%(self.turtle.num,self.fish.num))\n",
    "\t\t\n",
    "pool = Pool(1,10)\n",
    "pool.print_num()"
   ],
   "metadata": {
    "collapsed": false,
    "pycharm": {
     "name": "#%%\n"
    }
   }
  },
  {
   "cell_type": "code",
   "execution_count": null,
   "metadata": {
    "pycharm": {}
   },
   "outputs": [],
   "source": []
  }
 ],
 "metadata": {
  "kernelspec": {
   "name": "python3",
   "language": "python",
   "display_name": "Python 3"
  },
  "language_info": {
   "codemirror_mode": {
    "name": "ipython",
    "version": 2
   },
   "file_extension": ".py",
   "mimetype": "text/x-python",
   "name": "python",
   "nbconvert_exporter": "python",
   "pygments_lexer": "ipython2",
   "version": "2.7.6"
  },
  "pycharm": {
   "stem_cell": {
    "cell_type": "raw",
    "source": [],
    "metadata": {
     "collapsed": false
    }
   }
  }
 },
 "nbformat": 4,
 "nbformat_minor": 0
}