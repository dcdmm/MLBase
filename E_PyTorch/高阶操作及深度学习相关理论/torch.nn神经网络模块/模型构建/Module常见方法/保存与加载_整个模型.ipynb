{
 "cells": [
  {
   "cell_type": "code",
   "execution_count": 32,
   "metadata": {
    "collapsed": true
   },
   "outputs": [],
   "source": [
    "from abc import ABC\n",
    "import torch\n",
    "import torch.nn as nn"
   ]
  },
  {
   "cell_type": "code",
   "execution_count": 33,
   "outputs": [
    {
     "data": {
      "text/plain": "device(type='cuda')"
     },
     "execution_count": 33,
     "metadata": {},
     "output_type": "execute_result"
    }
   ],
   "source": [
    "device = torch.device(\"cuda\" if torch.cuda.is_available() else \"cpu\")\n",
    "device"
   ],
   "metadata": {
    "collapsed": false,
    "pycharm": {
     "name": "#%%\n"
    }
   }
  },
  {
   "cell_type": "code",
   "execution_count": 34,
   "outputs": [
    {
     "name": "stdout",
     "output_type": "stream",
     "text": [
      "iteration：0,    loss: 0.7025330662727356\n",
      "iteration：20,    loss: 0.18199969828128815\n",
      "iteration：40,    loss: 0.13756251335144043\n",
      "iteration：60,    loss: 0.12247955054044724\n",
      "iteration：80,    loss: 0.11182247847318649\n",
      "iteration：100,    loss: 0.10344232618808746\n",
      "iteration：120,    loss: 0.09663589298725128\n",
      "iteration：140,    loss: 0.0909983217716217\n",
      "iteration：160,    loss: 0.08625487238168716\n",
      "iteration：180,    loss: 0.0822082906961441\n",
      "iteration：200,    loss: 0.07871318608522415\n",
      "iteration：220,    loss: 0.0756606012582779\n",
      "iteration：240,    loss: 0.07296784967184067\n",
      "iteration：260,    loss: 0.07057137042284012\n",
      "iteration：280,    loss: 0.06842180341482162\n",
      "iteration：300,    loss: 0.06648018956184387\n",
      "iteration：320,    loss: 0.06471557170152664\n",
      "iteration：340,    loss: 0.06310289353132248\n",
      "iteration：360,    loss: 0.06162182614207268\n",
      "iteration：380,    loss: 0.06025553494691849\n",
      "iteration：400,    loss: 0.05899008736014366\n",
      "iteration：420,    loss: 0.05781375616788864\n",
      "iteration：440,    loss: 0.056716613471508026\n",
      "iteration：460,    loss: 0.05569024384021759\n",
      "iteration：480,    loss: 0.054727375507354736\n"
     ]
    }
   ],
   "source": [
    "x0, y0 = torch.normal(mean=1.7, std=1, size=(100, 2)) + 1, torch.zeros(100)  # 数据集1\n",
    "x1, y1 = torch.normal(mean=-1.7, std=1, size=(100, 2)) + 1, torch.ones(100)  # 数据集2\n",
    "train_x, train_y = torch.cat((x0, x1), 0), torch.cat((y0, y1), 0)\n",
    "train_x, train_y = train_x.to(device), train_y.to(device)\n",
    "\n",
    "\n",
    "class LR(nn.Module, ABC):\n",
    "    def __init__(self):\n",
    "        super(LR, self).__init__()\n",
    "        self.features = nn.Linear(2, 1)\n",
    "        self.sigmoid = nn.Sigmoid()\n",
    "\n",
    "    def forward(self, x):\n",
    "        x = self.features(x)\n",
    "        x = self.sigmoid(x)\n",
    "        return x\n",
    "\n",
    "\n",
    "lr_net = LR()\n",
    "lr_net = lr_net.to(device)\n",
    "loss_fn = nn.BCELoss()\n",
    "optimizer = torch.optim.SGD(lr_net.parameters(), lr=0.01, momentum=0.9)\n",
    "\n",
    "for iteration in range(500):\n",
    "    optimizer.zero_grad()  # 梯度清零\n",
    "    y_pred = lr_net(train_x)\n",
    "    loss = loss_fn(y_pred.squeeze(), train_y)\n",
    "    loss.backward()\n",
    "    optimizer.step()\n",
    "\n",
    "    if iteration % 20 == 0:\n",
    "        print(\"iteration：{iteration},    loss: {loss}\".format(iteration=iteration, loss=loss))"
   ],
   "metadata": {
    "collapsed": false,
    "pycharm": {
     "name": "#%%\n"
    }
   }
  },
  {
   "cell_type": "code",
   "execution_count": 35,
   "outputs": [],
   "source": [
    "torch.save(lr_net, 'torch_model.bin')  # 保存整个模型(也保存了模型所在设备情况)"
   ],
   "metadata": {
    "collapsed": false,
    "pycharm": {
     "name": "#%%\n"
    }
   }
  },
  {
   "cell_type": "code",
   "execution_count": 36,
   "outputs": [
    {
     "data": {
      "text/plain": "LR(\n  (features): Linear(in_features=2, out_features=1, bias=True)\n  (sigmoid): Sigmoid()\n)"
     },
     "execution_count": 36,
     "metadata": {},
     "output_type": "execute_result"
    }
   ],
   "source": [
    "# 注意:\n",
    "# 方式一:导入模型类定义\n",
    "# 方式二:模型类定义与模型加载位于同一文件内\n",
    "lr_net_new = torch.load('torch_model.bin')  # 方式二\n",
    "lr_net_new"
   ],
   "metadata": {
    "collapsed": false,
    "pycharm": {
     "name": "#%%\n"
    }
   }
  },
  {
   "cell_type": "code",
   "execution_count": 37,
   "outputs": [
    {
     "data": {
      "text/plain": "device(type='cuda', index=0)"
     },
     "execution_count": 37,
     "metadata": {},
     "output_type": "execute_result"
    }
   ],
   "source": [
    "next(lr_net_new.parameters()).device\n"
   ],
   "metadata": {
    "collapsed": false,
    "pycharm": {
     "name": "#%%\n"
    }
   }
  }
 ],
 "metadata": {
  "kernelspec": {
   "display_name": "Python 3",
   "language": "python",
   "name": "python3"
  },
  "language_info": {
   "codemirror_mode": {
    "name": "ipython",
    "version": 2
   },
   "file_extension": ".py",
   "mimetype": "text/x-python",
   "name": "python",
   "nbconvert_exporter": "python",
   "pygments_lexer": "ipython2",
   "version": "2.7.6"
  }
 },
 "nbformat": 4,
 "nbformat_minor": 0
}