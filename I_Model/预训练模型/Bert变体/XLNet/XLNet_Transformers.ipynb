{
 "cells": [
  {
   "cell_type": "code",
   "execution_count": 1,
   "outputs": [],
   "source": [
    "from transformers import AutoModel, AutoTokenizer"
   ],
   "metadata": {
    "collapsed": false,
    "pycharm": {
     "name": "#%%\n"
    }
   }
  },
  {
   "cell_type": "code",
   "execution_count": 2,
   "metadata": {
    "collapsed": false,
    "pycharm": {
     "name": "#%%\n"
    }
   },
   "outputs": [
    {
     "name": "stdout",
     "output_type": "stream",
     "text": [
      "['input_ids', 'token_type_ids', 'attention_mask']\n",
      "['<s>', '</s>', '<unk>', '<sep>', '<pad>', '<cls>', '<mask>', '<eop>', '<eod>']\n"
     ]
    }
   ],
   "source": [
    "'''\n",
    "主要预训练模型:\n",
    "'xlnet-base-cased'\n",
    "'xlnet-large-cased'\n",
    "'hfl/chinese-xlnet-base'\n",
    "'hfl/chinese-xlnet-mid'\n",
    "'''\n",
    "tokenizer = AutoTokenizer.from_pretrained('xlnet-base-cased')\n",
    "print(tokenizer.model_input_names)\n",
    "print(tokenizer.all_special_tokens)"
   ]
  },
  {
   "cell_type": "code",
   "execution_count": 3,
   "metadata": {
    "collapsed": false,
    "pycharm": {
     "name": "#%%\n"
    }
   },
   "outputs": [
    {
     "name": "stderr",
     "output_type": "stream",
     "text": [
      "Some weights of the model checkpoint at xlnet-base-cased were not used when initializing XLNetModel: ['lm_loss.bias', 'lm_loss.weight']\n",
      "- This IS expected if you are initializing XLNetModel from the checkpoint of a model trained on another task or with another architecture (e.g. initializing a BertForSequenceClassification model from a BertForPreTraining model).\n",
      "- This IS NOT expected if you are initializing XLNetModel from the checkpoint of a model that you expect to be exactly identical (initializing a BertForSequenceClassification model from a BertForSequenceClassification model).\n"
     ]
    },
    {
     "data": {
      "text/plain": "XLNetModel(\n  (word_embedding): Embedding(32000, 768)\n  (layer): ModuleList(\n    (0): XLNetLayer(\n      (rel_attn): XLNetRelativeAttention(\n        (layer_norm): LayerNorm((768,), eps=1e-12, elementwise_affine=True)\n        (dropout): Dropout(p=0.1, inplace=False)\n      )\n      (ff): XLNetFeedForward(\n        (layer_norm): LayerNorm((768,), eps=1e-12, elementwise_affine=True)\n        (layer_1): Linear(in_features=768, out_features=3072, bias=True)\n        (layer_2): Linear(in_features=3072, out_features=768, bias=True)\n        (dropout): Dropout(p=0.1, inplace=False)\n        (activation_function): GELUActivation()\n      )\n      (dropout): Dropout(p=0.1, inplace=False)\n    )\n    (1): XLNetLayer(\n      (rel_attn): XLNetRelativeAttention(\n        (layer_norm): LayerNorm((768,), eps=1e-12, elementwise_affine=True)\n        (dropout): Dropout(p=0.1, inplace=False)\n      )\n      (ff): XLNetFeedForward(\n        (layer_norm): LayerNorm((768,), eps=1e-12, elementwise_affine=True)\n        (layer_1): Linear(in_features=768, out_features=3072, bias=True)\n        (layer_2): Linear(in_features=3072, out_features=768, bias=True)\n        (dropout): Dropout(p=0.1, inplace=False)\n        (activation_function): GELUActivation()\n      )\n      (dropout): Dropout(p=0.1, inplace=False)\n    )\n    (2): XLNetLayer(\n      (rel_attn): XLNetRelativeAttention(\n        (layer_norm): LayerNorm((768,), eps=1e-12, elementwise_affine=True)\n        (dropout): Dropout(p=0.1, inplace=False)\n      )\n      (ff): XLNetFeedForward(\n        (layer_norm): LayerNorm((768,), eps=1e-12, elementwise_affine=True)\n        (layer_1): Linear(in_features=768, out_features=3072, bias=True)\n        (layer_2): Linear(in_features=3072, out_features=768, bias=True)\n        (dropout): Dropout(p=0.1, inplace=False)\n        (activation_function): GELUActivation()\n      )\n      (dropout): Dropout(p=0.1, inplace=False)\n    )\n    (3): XLNetLayer(\n      (rel_attn): XLNetRelativeAttention(\n        (layer_norm): LayerNorm((768,), eps=1e-12, elementwise_affine=True)\n        (dropout): Dropout(p=0.1, inplace=False)\n      )\n      (ff): XLNetFeedForward(\n        (layer_norm): LayerNorm((768,), eps=1e-12, elementwise_affine=True)\n        (layer_1): Linear(in_features=768, out_features=3072, bias=True)\n        (layer_2): Linear(in_features=3072, out_features=768, bias=True)\n        (dropout): Dropout(p=0.1, inplace=False)\n        (activation_function): GELUActivation()\n      )\n      (dropout): Dropout(p=0.1, inplace=False)\n    )\n    (4): XLNetLayer(\n      (rel_attn): XLNetRelativeAttention(\n        (layer_norm): LayerNorm((768,), eps=1e-12, elementwise_affine=True)\n        (dropout): Dropout(p=0.1, inplace=False)\n      )\n      (ff): XLNetFeedForward(\n        (layer_norm): LayerNorm((768,), eps=1e-12, elementwise_affine=True)\n        (layer_1): Linear(in_features=768, out_features=3072, bias=True)\n        (layer_2): Linear(in_features=3072, out_features=768, bias=True)\n        (dropout): Dropout(p=0.1, inplace=False)\n        (activation_function): GELUActivation()\n      )\n      (dropout): Dropout(p=0.1, inplace=False)\n    )\n    (5): XLNetLayer(\n      (rel_attn): XLNetRelativeAttention(\n        (layer_norm): LayerNorm((768,), eps=1e-12, elementwise_affine=True)\n        (dropout): Dropout(p=0.1, inplace=False)\n      )\n      (ff): XLNetFeedForward(\n        (layer_norm): LayerNorm((768,), eps=1e-12, elementwise_affine=True)\n        (layer_1): Linear(in_features=768, out_features=3072, bias=True)\n        (layer_2): Linear(in_features=3072, out_features=768, bias=True)\n        (dropout): Dropout(p=0.1, inplace=False)\n        (activation_function): GELUActivation()\n      )\n      (dropout): Dropout(p=0.1, inplace=False)\n    )\n    (6): XLNetLayer(\n      (rel_attn): XLNetRelativeAttention(\n        (layer_norm): LayerNorm((768,), eps=1e-12, elementwise_affine=True)\n        (dropout): Dropout(p=0.1, inplace=False)\n      )\n      (ff): XLNetFeedForward(\n        (layer_norm): LayerNorm((768,), eps=1e-12, elementwise_affine=True)\n        (layer_1): Linear(in_features=768, out_features=3072, bias=True)\n        (layer_2): Linear(in_features=3072, out_features=768, bias=True)\n        (dropout): Dropout(p=0.1, inplace=False)\n        (activation_function): GELUActivation()\n      )\n      (dropout): Dropout(p=0.1, inplace=False)\n    )\n    (7): XLNetLayer(\n      (rel_attn): XLNetRelativeAttention(\n        (layer_norm): LayerNorm((768,), eps=1e-12, elementwise_affine=True)\n        (dropout): Dropout(p=0.1, inplace=False)\n      )\n      (ff): XLNetFeedForward(\n        (layer_norm): LayerNorm((768,), eps=1e-12, elementwise_affine=True)\n        (layer_1): Linear(in_features=768, out_features=3072, bias=True)\n        (layer_2): Linear(in_features=3072, out_features=768, bias=True)\n        (dropout): Dropout(p=0.1, inplace=False)\n        (activation_function): GELUActivation()\n      )\n      (dropout): Dropout(p=0.1, inplace=False)\n    )\n    (8): XLNetLayer(\n      (rel_attn): XLNetRelativeAttention(\n        (layer_norm): LayerNorm((768,), eps=1e-12, elementwise_affine=True)\n        (dropout): Dropout(p=0.1, inplace=False)\n      )\n      (ff): XLNetFeedForward(\n        (layer_norm): LayerNorm((768,), eps=1e-12, elementwise_affine=True)\n        (layer_1): Linear(in_features=768, out_features=3072, bias=True)\n        (layer_2): Linear(in_features=3072, out_features=768, bias=True)\n        (dropout): Dropout(p=0.1, inplace=False)\n        (activation_function): GELUActivation()\n      )\n      (dropout): Dropout(p=0.1, inplace=False)\n    )\n    (9): XLNetLayer(\n      (rel_attn): XLNetRelativeAttention(\n        (layer_norm): LayerNorm((768,), eps=1e-12, elementwise_affine=True)\n        (dropout): Dropout(p=0.1, inplace=False)\n      )\n      (ff): XLNetFeedForward(\n        (layer_norm): LayerNorm((768,), eps=1e-12, elementwise_affine=True)\n        (layer_1): Linear(in_features=768, out_features=3072, bias=True)\n        (layer_2): Linear(in_features=3072, out_features=768, bias=True)\n        (dropout): Dropout(p=0.1, inplace=False)\n        (activation_function): GELUActivation()\n      )\n      (dropout): Dropout(p=0.1, inplace=False)\n    )\n    (10): XLNetLayer(\n      (rel_attn): XLNetRelativeAttention(\n        (layer_norm): LayerNorm((768,), eps=1e-12, elementwise_affine=True)\n        (dropout): Dropout(p=0.1, inplace=False)\n      )\n      (ff): XLNetFeedForward(\n        (layer_norm): LayerNorm((768,), eps=1e-12, elementwise_affine=True)\n        (layer_1): Linear(in_features=768, out_features=3072, bias=True)\n        (layer_2): Linear(in_features=3072, out_features=768, bias=True)\n        (dropout): Dropout(p=0.1, inplace=False)\n        (activation_function): GELUActivation()\n      )\n      (dropout): Dropout(p=0.1, inplace=False)\n    )\n    (11): XLNetLayer(\n      (rel_attn): XLNetRelativeAttention(\n        (layer_norm): LayerNorm((768,), eps=1e-12, elementwise_affine=True)\n        (dropout): Dropout(p=0.1, inplace=False)\n      )\n      (ff): XLNetFeedForward(\n        (layer_norm): LayerNorm((768,), eps=1e-12, elementwise_affine=True)\n        (layer_1): Linear(in_features=768, out_features=3072, bias=True)\n        (layer_2): Linear(in_features=3072, out_features=768, bias=True)\n        (dropout): Dropout(p=0.1, inplace=False)\n        (activation_function): GELUActivation()\n      )\n      (dropout): Dropout(p=0.1, inplace=False)\n    )\n  )\n  (dropout): Dropout(p=0.1, inplace=False)\n)"
     },
     "execution_count": 3,
     "metadata": {},
     "output_type": "execute_result"
    }
   ],
   "source": [
    "model = AutoModel.from_pretrained(\"xlnet-base-cased\")\n",
    "model"
   ]
  },
  {
   "cell_type": "code",
   "execution_count": 4,
   "metadata": {
    "collapsed": false,
    "pycharm": {
     "name": "#%%\n"
    }
   },
   "outputs": [
    {
     "name": "stdout",
     "output_type": "stream",
     "text": [
      "mask_emb\n",
      "word_embedding.weight\n",
      "layer.0.rel_attn.q\n",
      "layer.0.rel_attn.k\n",
      "layer.0.rel_attn.v\n",
      "layer.0.rel_attn.o\n",
      "layer.0.rel_attn.r\n",
      "layer.0.rel_attn.r_r_bias\n",
      "layer.0.rel_attn.r_s_bias\n",
      "layer.0.rel_attn.r_w_bias\n",
      "layer.0.rel_attn.seg_embed\n",
      "layer.0.rel_attn.layer_norm.weight\n",
      "layer.0.rel_attn.layer_norm.bias\n",
      "layer.0.ff.layer_norm.weight\n",
      "layer.0.ff.layer_norm.bias\n",
      "layer.0.ff.layer_1.weight\n",
      "layer.0.ff.layer_1.bias\n",
      "layer.0.ff.layer_2.weight\n",
      "layer.0.ff.layer_2.bias\n",
      "layer.1.rel_attn.q\n",
      "layer.1.rel_attn.k\n",
      "layer.1.rel_attn.v\n",
      "layer.1.rel_attn.o\n",
      "layer.1.rel_attn.r\n",
      "layer.1.rel_attn.r_r_bias\n",
      "layer.1.rel_attn.r_s_bias\n",
      "layer.1.rel_attn.r_w_bias\n",
      "layer.1.rel_attn.seg_embed\n",
      "layer.1.rel_attn.layer_norm.weight\n",
      "layer.1.rel_attn.layer_norm.bias\n",
      "layer.1.ff.layer_norm.weight\n",
      "layer.1.ff.layer_norm.bias\n",
      "layer.1.ff.layer_1.weight\n",
      "layer.1.ff.layer_1.bias\n",
      "layer.1.ff.layer_2.weight\n",
      "layer.1.ff.layer_2.bias\n",
      "layer.2.rel_attn.q\n",
      "layer.2.rel_attn.k\n",
      "layer.2.rel_attn.v\n",
      "layer.2.rel_attn.o\n",
      "layer.2.rel_attn.r\n",
      "layer.2.rel_attn.r_r_bias\n",
      "layer.2.rel_attn.r_s_bias\n",
      "layer.2.rel_attn.r_w_bias\n",
      "layer.2.rel_attn.seg_embed\n",
      "layer.2.rel_attn.layer_norm.weight\n",
      "layer.2.rel_attn.layer_norm.bias\n",
      "layer.2.ff.layer_norm.weight\n",
      "layer.2.ff.layer_norm.bias\n",
      "layer.2.ff.layer_1.weight\n",
      "layer.2.ff.layer_1.bias\n",
      "layer.2.ff.layer_2.weight\n",
      "layer.2.ff.layer_2.bias\n",
      "layer.3.rel_attn.q\n",
      "layer.3.rel_attn.k\n",
      "layer.3.rel_attn.v\n",
      "layer.3.rel_attn.o\n",
      "layer.3.rel_attn.r\n",
      "layer.3.rel_attn.r_r_bias\n",
      "layer.3.rel_attn.r_s_bias\n",
      "layer.3.rel_attn.r_w_bias\n",
      "layer.3.rel_attn.seg_embed\n",
      "layer.3.rel_attn.layer_norm.weight\n",
      "layer.3.rel_attn.layer_norm.bias\n",
      "layer.3.ff.layer_norm.weight\n",
      "layer.3.ff.layer_norm.bias\n",
      "layer.3.ff.layer_1.weight\n",
      "layer.3.ff.layer_1.bias\n",
      "layer.3.ff.layer_2.weight\n",
      "layer.3.ff.layer_2.bias\n",
      "layer.4.rel_attn.q\n",
      "layer.4.rel_attn.k\n",
      "layer.4.rel_attn.v\n",
      "layer.4.rel_attn.o\n",
      "layer.4.rel_attn.r\n",
      "layer.4.rel_attn.r_r_bias\n",
      "layer.4.rel_attn.r_s_bias\n",
      "layer.4.rel_attn.r_w_bias\n",
      "layer.4.rel_attn.seg_embed\n",
      "layer.4.rel_attn.layer_norm.weight\n",
      "layer.4.rel_attn.layer_norm.bias\n",
      "layer.4.ff.layer_norm.weight\n",
      "layer.4.ff.layer_norm.bias\n",
      "layer.4.ff.layer_1.weight\n",
      "layer.4.ff.layer_1.bias\n",
      "layer.4.ff.layer_2.weight\n",
      "layer.4.ff.layer_2.bias\n",
      "layer.5.rel_attn.q\n",
      "layer.5.rel_attn.k\n",
      "layer.5.rel_attn.v\n",
      "layer.5.rel_attn.o\n",
      "layer.5.rel_attn.r\n",
      "layer.5.rel_attn.r_r_bias\n",
      "layer.5.rel_attn.r_s_bias\n",
      "layer.5.rel_attn.r_w_bias\n",
      "layer.5.rel_attn.seg_embed\n",
      "layer.5.rel_attn.layer_norm.weight\n",
      "layer.5.rel_attn.layer_norm.bias\n",
      "layer.5.ff.layer_norm.weight\n",
      "layer.5.ff.layer_norm.bias\n",
      "layer.5.ff.layer_1.weight\n",
      "layer.5.ff.layer_1.bias\n",
      "layer.5.ff.layer_2.weight\n",
      "layer.5.ff.layer_2.bias\n",
      "layer.6.rel_attn.q\n",
      "layer.6.rel_attn.k\n",
      "layer.6.rel_attn.v\n",
      "layer.6.rel_attn.o\n",
      "layer.6.rel_attn.r\n",
      "layer.6.rel_attn.r_r_bias\n",
      "layer.6.rel_attn.r_s_bias\n",
      "layer.6.rel_attn.r_w_bias\n",
      "layer.6.rel_attn.seg_embed\n",
      "layer.6.rel_attn.layer_norm.weight\n",
      "layer.6.rel_attn.layer_norm.bias\n",
      "layer.6.ff.layer_norm.weight\n",
      "layer.6.ff.layer_norm.bias\n",
      "layer.6.ff.layer_1.weight\n",
      "layer.6.ff.layer_1.bias\n",
      "layer.6.ff.layer_2.weight\n",
      "layer.6.ff.layer_2.bias\n",
      "layer.7.rel_attn.q\n",
      "layer.7.rel_attn.k\n",
      "layer.7.rel_attn.v\n",
      "layer.7.rel_attn.o\n",
      "layer.7.rel_attn.r\n",
      "layer.7.rel_attn.r_r_bias\n",
      "layer.7.rel_attn.r_s_bias\n",
      "layer.7.rel_attn.r_w_bias\n",
      "layer.7.rel_attn.seg_embed\n",
      "layer.7.rel_attn.layer_norm.weight\n",
      "layer.7.rel_attn.layer_norm.bias\n",
      "layer.7.ff.layer_norm.weight\n",
      "layer.7.ff.layer_norm.bias\n",
      "layer.7.ff.layer_1.weight\n",
      "layer.7.ff.layer_1.bias\n",
      "layer.7.ff.layer_2.weight\n",
      "layer.7.ff.layer_2.bias\n",
      "layer.8.rel_attn.q\n",
      "layer.8.rel_attn.k\n",
      "layer.8.rel_attn.v\n",
      "layer.8.rel_attn.o\n",
      "layer.8.rel_attn.r\n",
      "layer.8.rel_attn.r_r_bias\n",
      "layer.8.rel_attn.r_s_bias\n",
      "layer.8.rel_attn.r_w_bias\n",
      "layer.8.rel_attn.seg_embed\n",
      "layer.8.rel_attn.layer_norm.weight\n",
      "layer.8.rel_attn.layer_norm.bias\n",
      "layer.8.ff.layer_norm.weight\n",
      "layer.8.ff.layer_norm.bias\n",
      "layer.8.ff.layer_1.weight\n",
      "layer.8.ff.layer_1.bias\n",
      "layer.8.ff.layer_2.weight\n",
      "layer.8.ff.layer_2.bias\n",
      "layer.9.rel_attn.q\n",
      "layer.9.rel_attn.k\n",
      "layer.9.rel_attn.v\n",
      "layer.9.rel_attn.o\n",
      "layer.9.rel_attn.r\n",
      "layer.9.rel_attn.r_r_bias\n",
      "layer.9.rel_attn.r_s_bias\n",
      "layer.9.rel_attn.r_w_bias\n",
      "layer.9.rel_attn.seg_embed\n",
      "layer.9.rel_attn.layer_norm.weight\n",
      "layer.9.rel_attn.layer_norm.bias\n",
      "layer.9.ff.layer_norm.weight\n",
      "layer.9.ff.layer_norm.bias\n",
      "layer.9.ff.layer_1.weight\n",
      "layer.9.ff.layer_1.bias\n",
      "layer.9.ff.layer_2.weight\n",
      "layer.9.ff.layer_2.bias\n",
      "layer.10.rel_attn.q\n",
      "layer.10.rel_attn.k\n",
      "layer.10.rel_attn.v\n",
      "layer.10.rel_attn.o\n",
      "layer.10.rel_attn.r\n",
      "layer.10.rel_attn.r_r_bias\n",
      "layer.10.rel_attn.r_s_bias\n",
      "layer.10.rel_attn.r_w_bias\n",
      "layer.10.rel_attn.seg_embed\n",
      "layer.10.rel_attn.layer_norm.weight\n",
      "layer.10.rel_attn.layer_norm.bias\n",
      "layer.10.ff.layer_norm.weight\n",
      "layer.10.ff.layer_norm.bias\n",
      "layer.10.ff.layer_1.weight\n",
      "layer.10.ff.layer_1.bias\n",
      "layer.10.ff.layer_2.weight\n",
      "layer.10.ff.layer_2.bias\n",
      "layer.11.rel_attn.q\n",
      "layer.11.rel_attn.k\n",
      "layer.11.rel_attn.v\n",
      "layer.11.rel_attn.o\n",
      "layer.11.rel_attn.r\n",
      "layer.11.rel_attn.r_r_bias\n",
      "layer.11.rel_attn.r_s_bias\n",
      "layer.11.rel_attn.r_w_bias\n",
      "layer.11.rel_attn.seg_embed\n",
      "layer.11.rel_attn.layer_norm.weight\n",
      "layer.11.rel_attn.layer_norm.bias\n",
      "layer.11.ff.layer_norm.weight\n",
      "layer.11.ff.layer_norm.bias\n",
      "layer.11.ff.layer_1.weight\n",
      "layer.11.ff.layer_1.bias\n",
      "layer.11.ff.layer_2.weight\n",
      "layer.11.ff.layer_2.bias\n"
     ]
    }
   ],
   "source": [
    "for name, para in model.named_parameters():\n",
    "    print(name)"
   ]
  },
  {
   "cell_type": "code",
   "execution_count": 5,
   "outputs": [
    {
     "data": {
      "text/plain": "XLNetConfig {\n  \"_name_or_path\": \"xlnet-base-cased\",\n  \"architectures\": [\n    \"XLNetLMHeadModel\"\n  ],\n  \"attn_type\": \"bi\",\n  \"bi_data\": false,\n  \"bos_token_id\": 1,\n  \"clamp_len\": -1,\n  \"d_head\": 64,\n  \"d_inner\": 3072,\n  \"d_model\": 768,\n  \"dropout\": 0.1,\n  \"end_n_top\": 5,\n  \"eos_token_id\": 2,\n  \"ff_activation\": \"gelu\",\n  \"initializer_range\": 0.02,\n  \"layer_norm_eps\": 1e-12,\n  \"mem_len\": null,\n  \"model_type\": \"xlnet\",\n  \"n_head\": 12,\n  \"n_layer\": 12,\n  \"pad_token_id\": 5,\n  \"reuse_len\": null,\n  \"same_length\": false,\n  \"start_n_top\": 5,\n  \"summary_activation\": \"tanh\",\n  \"summary_last_dropout\": 0.1,\n  \"summary_type\": \"last\",\n  \"summary_use_proj\": true,\n  \"task_specific_params\": {\n    \"text-generation\": {\n      \"do_sample\": true,\n      \"max_length\": 250\n    }\n  },\n  \"transformers_version\": \"4.17.0\",\n  \"untie_r\": true,\n  \"use_mems_eval\": true,\n  \"use_mems_train\": false,\n  \"vocab_size\": 32000\n}"
     },
     "execution_count": 5,
     "metadata": {},
     "output_type": "execute_result"
    }
   ],
   "source": [
    "model.config"
   ],
   "metadata": {
    "collapsed": false,
    "pycharm": {
     "name": "#%%\n"
    }
   }
  },
  {
   "cell_type": "code",
   "execution_count": 7,
   "metadata": {
    "collapsed": false,
    "pycharm": {
     "name": "#%%\n"
    }
   },
   "outputs": [
    {
     "name": "stdout",
     "output_type": "stream",
     "text": [
      "{'input_ids': tensor([[   17, 21442,   118,  ...,     9,     4,     3]]), 'token_type_ids': tensor([[0, 0, 0,  ..., 0, 0, 2]]), 'attention_mask': tensor([[1, 1, 1,  ..., 1, 1, 1]])}\n",
      "dict_keys(['input_ids', 'token_type_ids', 'attention_mask'])\n",
      "torch.Size([1, 5028])\n"
     ]
    }
   ],
   "source": [
    "# 长文本\n",
    "text = \"\"\"Transformer-based models are unable to process long sequences due to their self-attention operation, which scales quadratically with the sequence length.\n",
    "To address this limitation, we introduce the Longformer with an attention mechanism that scales linearly with sequence length, making it easy to process documents of thousands of tokens or longer.\n",
    "Longformer’s attention mechanism is a drop-in replacement for the standard self-attention and combines a local windowed attention with a task motivated global attention.\n",
    "Following prior work on long-sequence transformers, we evaluate Longformer on character-level language modeling and achieve state-of-the-art results on text8 and enwik8.\n",
    "In contrast to most prior work, we also pretrain Longformer and finetune it on a variety of downstream tasks.\n",
    "Our pretrained Longformer consistently outperforms RoBERTa on long document tasks and sets new state-of-the-art results on Wiki-Hop and TriviaQA.\"\"\"\n",
    "text = text * 25\n",
    "\n",
    "encoded_input = tokenizer(text, return_tensors='pt')\n",
    "print(encoded_input)\n",
    "print(encoded_input.keys())\n",
    "print(encoded_input['input_ids'].shape)  # [1, 5028]"
   ]
  },
  {
   "cell_type": "code",
   "execution_count": 8,
   "metadata": {
    "collapsed": false,
    "pycharm": {
     "name": "#%%\n"
    }
   },
   "outputs": [
    {
     "name": "stdout",
     "output_type": "stream",
     "text": [
      "tensor([[[ 0.4190, -2.1516, -3.4851,  ..., -0.9768, -1.0957,  0.9266],\n",
      "         [ 0.9788, -1.9915, -4.4675,  ...,  0.3735,  0.7691,  0.3723],\n",
      "         [-1.5515, -3.0205, -3.9874,  ...,  1.0384,  0.1490,  1.1124],\n",
      "         ...,\n",
      "         [ 1.2448, -1.3764, -3.6328,  ..., -0.4420, -1.2568, -1.4391],\n",
      "         [ 1.1152, -0.9407, -3.0693,  ...,  0.7223, -1.4605, -1.2968],\n",
      "         [-1.3902, -0.2278, -2.5907,  ..., -0.8243, -0.6485, -0.1174]]],\n",
      "       grad_fn=<PermuteBackward0>)\n",
      "torch.Size([1, 5028, 768])\n"
     ]
    }
   ],
   "source": [
    "result = model(**encoded_input)\n",
    "print(result.last_hidden_state)\n",
    "print(result.last_hidden_state.shape)  # [1, 5028, 768]\n"
   ]
  }
 ],
 "metadata": {
  "kernelspec": {
   "display_name": "Python 3",
   "language": "python",
   "name": "python3"
  },
  "language_info": {
   "codemirror_mode": {
    "name": "ipython",
    "version": 2
   },
   "file_extension": ".py",
   "mimetype": "text/x-python",
   "name": "python",
   "nbconvert_exporter": "python",
   "pygments_lexer": "ipython2",
   "version": "2.7.6"
  }
 },
 "nbformat": 4,
 "nbformat_minor": 0
}