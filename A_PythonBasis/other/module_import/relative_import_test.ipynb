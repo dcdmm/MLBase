{
 "cells": [
  {
   "cell_type": "code",
   "execution_count": 1,
   "metadata": {
    "collapsed": true,
    "pycharm": {
     "name": "#%%\n"
    }
   },
   "outputs": [
    {
     "name": "stdout",
     "output_type": "stream",
     "text": [
      "__file__=C:\\Users\\dcdmm\\Music\\GitHubProjects\\MLNote\\A_PythonBasis\\other\\module_import\\dir_relative\\demos_0\\demo0.py | __name__=dir_relative.demos_0.demo0 | __package__=dir_relative.demos_0\n",
      "__file__=C:\\Users\\dcdmm\\Music\\GitHubProjects\\MLNote\\A_PythonBasis\\other\\module_import\\dir_relative\\core\\config.py | __name__=dir_relative.core.config | __package__=dir_relative.core   \n",
      "__file__=C:\\Users\\dcdmm\\Music\\GitHubProjects\\MLNote\\A_PythonBasis\\other\\module_import\\dir_relative\\demos_0\\demos_1\\demo1.py | __name__=dir_relative.demos_0.demos_1.demo1 | __package__=dir_relative.demos_0.demos_1\n",
      "__file__=C:\\Users\\dcdmm\\Music\\GitHubProjects\\MLNote\\A_PythonBasis\\other\\module_import\\dir_relative\\demo.py | __name__=dir_relative.demo    | __package__=dir_relative        \n",
      "The value of config.count is 5\n",
      "config.py!!!\n",
      "****************************************\n",
      "The value of config.count is 5\n",
      "config.py!!!\n",
      "****************************************\n",
      "The value of config.count is 5\n",
      "config.py!!!\n"
     ]
    }
   ],
   "source": [
    "from dir_relative.demos_0.demo0 import hello_demo0\n",
    "from dir_relative.demos_0.demos_1.demo1 import hello_demo1\n",
    "from dir_relative.demo import hello_demo\n",
    "\n",
    "hello_demo()\n",
    "print('****************************************')\n",
    "hello_demo0()\n",
    "print('****************************************')\n",
    "hello_demo1()"
   ]
  },
  {
   "cell_type": "code",
   "execution_count": 2,
   "outputs": [
    {
     "name": "stdout",
     "output_type": "stream",
     "text": [
      "C:\\Users\\dcdmm\\Music\\GitHubProjects\\MLNote\\A_PythonBasis\\other\\module_import\n",
      "C:\\Users\\dcdmm\\Music\\GitHubProjects\\MLNote\n",
      "C:\\Users\\dcdmm\\Music\\GitHubProjects\\MLNote\\A_PythonBasis\\other\\module_import\\dir_example\\source_directory\n",
      "C:\\Users\\dcdmm\\anaconda3\\envs\\pytorch_env\\python38.zip\n",
      "C:\\Users\\dcdmm\\anaconda3\\envs\\pytorch_env\\DLLs\n",
      "C:\\Users\\dcdmm\\anaconda3\\envs\\pytorch_env\\lib\n",
      "C:\\Users\\dcdmm\\anaconda3\\envs\\pytorch_env\n",
      "\n",
      "C:\\Users\\dcdmm\\anaconda3\\envs\\pytorch_env\\lib\\site-packages\n",
      "C:\\Users\\dcdmm\\anaconda3\\envs\\pytorch_env\\lib\\site-packages\\win32\n",
      "C:\\Users\\dcdmm\\anaconda3\\envs\\pytorch_env\\lib\\site-packages\\win32\\lib\n",
      "C:\\Users\\dcdmm\\anaconda3\\envs\\pytorch_env\\lib\\site-packages\\Pythonwin\n",
      "C:\\Users\\dcdmm\\Music\\GitHubProjects\\MLNote\\A_PythonBasis\\other\n",
      "C:\\Users\\dcdmm\\Music\\GitHubProjects\\MLNote\\A_PythonBasis\n"
     ]
    }
   ],
   "source": [
    "import os\n",
    "import sys\n",
    "\n",
    "sys.path.append(os.path.abspath(\"..\"))\n",
    "sys.path.append(os.path.abspath(\"..\" + os.sep + \"..\"))\n",
    "for i in sys.path:\n",
    "    print(i)"
   ],
   "metadata": {
    "collapsed": false,
    "pycharm": {
     "name": "#%%\n"
    }
   }
  },
  {
   "cell_type": "code",
   "execution_count": 3,
   "outputs": [
    {
     "name": "stdout",
     "output_type": "stream",
     "text": [
      "__file__=C:\\Users\\dcdmm\\Music\\GitHubProjects\\MLNote\\A_PythonBasis\\other\\module_import\\dir_relative\\demos_0\\demo0.py | __name__=module_import.dir_relative.demos_0.demo0 | __package__=module_import.dir_relative.demos_0\n",
      "__file__=C:\\Users\\dcdmm\\Music\\GitHubProjects\\MLNote\\A_PythonBasis\\other\\module_import\\dir_relative\\core\\config.py | __name__=module_import.dir_relative.core.config | __package__=module_import.dir_relative.core\n",
      "__file__=C:\\Users\\dcdmm\\Music\\GitHubProjects\\MLNote\\A_PythonBasis\\other\\module_import\\dir_relative\\demos_0\\demo0.py | __name__=other.module_import.dir_relative.demos_0.demo0 | __package__=other.module_import.dir_relative.demos_0\n",
      "__file__=C:\\Users\\dcdmm\\Music\\GitHubProjects\\MLNote\\A_PythonBasis\\other\\module_import\\dir_relative\\core\\config.py | __name__=other.module_import.dir_relative.core.config | __package__=other.module_import.dir_relative.core\n"
     ]
    }
   ],
   "source": [
    "from module_import.dir_relative.demos_0.demo0 import hello_demo0  # 方式二(目录结构从`module_import`开始)\n",
    "from other.module_import.dir_relative.demos_0.demo0 import hello_demo0  # 方式二(目录结构从`other`开始)"
   ],
   "metadata": {
    "collapsed": false,
    "pycharm": {
     "name": "#%%\n"
    }
   }
  }
 ],
 "metadata": {
  "kernelspec": {
   "display_name": "Python 3",
   "language": "python",
   "name": "python3"
  },
  "language_info": {
   "codemirror_mode": {
    "name": "ipython",
    "version": 2
   },
   "file_extension": ".py",
   "mimetype": "text/x-python",
   "name": "python",
   "nbconvert_exporter": "python",
   "pygments_lexer": "ipython2",
   "version": "2.7.6"
  }
 },
 "nbformat": 4,
 "nbformat_minor": 0
}