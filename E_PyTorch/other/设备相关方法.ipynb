{
 "cells": [
  {
   "cell_type": "code",
   "execution_count": 1,
   "metadata": {
    "colab": {},
    "colab_type": "code",
    "executionInfo": {
     "elapsed": 3899,
     "status": "ok",
     "timestamp": 1592741145219,
     "user": {
      "displayName": "chao duan",
      "photoUrl": "",
      "userId": "16986074214670067064"
     },
     "user_tz": -480
    },
    "id": "q0wWyejDAPC-"
   },
   "outputs": [],
   "source": [
    "import torch"
   ]
  },
  {
   "cell_type": "code",
   "execution_count": 2,
   "metadata": {
    "colab": {
     "base_uri": "https://localhost:8080/",
     "height": 33
    },
    "colab_type": "code",
    "executionInfo": {
     "elapsed": 501,
     "status": "ok",
     "timestamp": 1592741297622,
     "user": {
      "displayName": "chao duan",
      "photoUrl": "",
      "userId": "16986074214670067064"
     },
     "user_tz": -480
    },
    "id": "_rslfznjx23i",
    "outputId": "852dbd48-8ab0-4c55-cee8-50af9b50568c"
   },
   "outputs": [
    {
     "data": {
      "text/plain": [
       "True"
      ]
     },
     "execution_count": 2,
     "metadata": {},
     "output_type": "execute_result"
    }
   ],
   "source": [
    "# Returns a bool indicating if CUDA is currently available.\n",
    "torch.cuda.is_available()"
   ]
  },
  {
   "cell_type": "code",
   "execution_count": 3,
   "metadata": {
    "colab": {
     "base_uri": "https://localhost:8080/",
     "height": 33
    },
    "colab_type": "code",
    "executionInfo": {
     "elapsed": 844,
     "status": "ok",
     "timestamp": 1592741169758,
     "user": {
      "displayName": "chao duan",
      "photoUrl": "",
      "userId": "16986074214670067064"
     },
     "user_tz": -480
    },
    "id": "m7veRi1FxU2S",
    "outputId": "17e673b7-0bf5-4b00-cd0b-9658cccececf"
   },
   "outputs": [
    {
     "data": {
      "text/plain": [
       "1"
      ]
     },
     "execution_count": 3,
     "metadata": {},
     "output_type": "execute_result"
    }
   ],
   "source": [
    "torch.cuda.device_count()  # GPU的数量"
   ]
  },
  {
   "cell_type": "code",
   "execution_count": 4,
   "metadata": {
    "colab": {
     "base_uri": "https://localhost:8080/",
     "height": 33
    },
    "colab_type": "code",
    "executionInfo": {
     "elapsed": 955,
     "status": "ok",
     "timestamp": 1592741196701,
     "user": {
      "displayName": "chao duan",
      "photoUrl": "",
      "userId": "16986074214670067064"
     },
     "user_tz": -480
    },
    "id": "izEa1o-axeqy",
    "outputId": "6e544f51-3ec3-4a16-a882-2ebf0b1a6c0f"
   },
   "outputs": [
    {
     "data": {
      "text/plain": [
       "(7, 5)"
      ]
     },
     "execution_count": 4,
     "metadata": {},
     "output_type": "execute_result"
    }
   ],
   "source": [
    "# Gets the cuda capability of a device\n",
    "# Returns:the major and minor cuda capability of the device\n",
    "torch.cuda.get_device_capability(device=None)"
   ]
  },
  {
   "cell_type": "code",
   "execution_count": 5,
   "metadata": {
    "colab": {
     "base_uri": "https://localhost:8080/",
     "height": 33
    },
    "colab_type": "code",
    "executionInfo": {
     "elapsed": 841,
     "status": "ok",
     "timestamp": 1592741274211,
     "user": {
      "displayName": "chao duan",
      "photoUrl": "",
      "userId": "16986074214670067064"
     },
     "user_tz": -480
    },
    "id": "pFRUfsINxvkT",
    "outputId": "9a51230b-2885-463b-93f0-898b4122b043",
    "pycharm": {
     "name": "#%%\n"
    }
   },
   "outputs": [
    {
     "data": {
      "text/plain": [
       "'NVIDIA GeForce RTX 2060 with Max-Q Design'"
      ]
     },
     "execution_count": 5,
     "metadata": {},
     "output_type": "execute_result"
    }
   ],
   "source": [
    "torch.cuda.get_device_name(device=None)  # Gets the name of a device."
   ]
  },
  {
   "cell_type": "code",
   "execution_count": 6,
   "metadata": {
    "collapsed": false,
    "pycharm": {
     "name": "#%%\n"
    }
   },
   "outputs": [
    {
     "data": {
      "text/plain": [
       "0"
      ]
     },
     "execution_count": 6,
     "metadata": {},
     "output_type": "execute_result"
    }
   ],
   "source": [
    "# Returns the index of a currently selected device.\n",
    "torch.cuda.current_device()"
   ]
  }
 ],
 "metadata": {
  "accelerator": "GPU",
  "colab": {
   "collapsed_sections": [],
   "name": "test.ipynb",
   "provenance": []
  },
  "interpreter": {
   "hash": "7f42f7985a9e76d558e128652df079bec508149d1eda9cc3ea1ae8669a21bab3"
  },
  "kernelspec": {
   "display_name": "Python 3.8.12 64-bit ('base': conda)",
   "name": "python3"
  },
  "language_info": {
   "codemirror_mode": {
    "name": "ipython",
    "version": 3
   },
   "file_extension": ".py",
   "mimetype": "text/x-python",
   "name": "python",
   "nbconvert_exporter": "python",
   "pygments_lexer": "ipython3",
   "version": "3.8.8"
  }
 },
 "nbformat": 4,
 "nbformat_minor": 0
}
