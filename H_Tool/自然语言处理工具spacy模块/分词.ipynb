{
 "cells": [
  {
   "cell_type": "code",
   "execution_count": 1,
   "metadata": {
    "collapsed": true
   },
   "outputs": [
    {
     "data": {
      "text/plain": "<spacy.lang.en.English at 0x1a5d8abc160>"
     },
     "execution_count": 1,
     "metadata": {},
     "output_type": "execute_result"
    }
   ],
   "source": [
    "import spacy\n",
    "\n",
    "# 需下载python -m spacy download zh_core_web_sm\n",
    "nlp_en = spacy.load('en_core_web_sm')  # 英文分词\n",
    "nlp_en"
   ]
  },
  {
   "cell_type": "code",
   "execution_count": 2,
   "outputs": [
    {
     "data": {
      "text/plain": "['A',\n 'magnetic',\n 'monopole',\n 'is',\n 'a',\n 'hypothetical',\n 'elementary',\n 'particle',\n '.']"
     },
     "execution_count": 2,
     "metadata": {},
     "output_type": "execute_result"
    }
   ],
   "source": [
    "txt_en = \"A magnetic monopole is a hypothetical elementary particle.\"\n",
    "[tok.text for tok in nlp_en(txt_en)]"
   ],
   "metadata": {
    "collapsed": false,
    "pycharm": {
     "name": "#%%\n"
    }
   }
  },
  {
   "cell_type": "code",
   "execution_count": 4,
   "outputs": [
    {
     "data": {
      "text/plain": "<spacy.lang.zh.Chinese at 0x1a5e2ec30d0>"
     },
     "execution_count": 4,
     "metadata": {},
     "output_type": "execute_result"
    }
   ],
   "source": [
    "# 需下载python -m spacy download zh_core_web_sm\n",
    "nlp_ch = spacy.load('zh_core_web_sm')  # 中文分词\n",
    "nlp_ch"
   ],
   "metadata": {
    "collapsed": false,
    "pycharm": {
     "name": "#%%\n"
    }
   }
  },
  {
   "cell_type": "code",
   "execution_count": 5,
   "outputs": [
    {
     "data": {
      "text/plain": "['我', '现在', '有点', '不', '想', '学习', ',', '就', '喜欢', '玩', '游戏']"
     },
     "execution_count": 5,
     "metadata": {},
     "output_type": "execute_result"
    }
   ],
   "source": [
    "txt_zh = '我现在有点不想学习,就喜欢玩游戏'\n",
    "[tok.text for tok in nlp_ch(txt_zh)]"
   ],
   "metadata": {
    "collapsed": false,
    "pycharm": {
     "name": "#%%\n"
    }
   }
  }
 ],
 "metadata": {
  "kernelspec": {
   "display_name": "Python 3",
   "language": "python",
   "name": "python3"
  },
  "language_info": {
   "codemirror_mode": {
    "name": "ipython",
    "version": 2
   },
   "file_extension": ".py",
   "mimetype": "text/x-python",
   "name": "python",
   "nbconvert_exporter": "python",
   "pygments_lexer": "ipython2",
   "version": "2.7.6"
  }
 },
 "nbformat": 4,
 "nbformat_minor": 0
}