{
 "cells": [
  {
   "cell_type": "code",
   "execution_count": 1,
   "metadata": {
    "pycharm": {
     "name": "#%%\n"
    }
   },
   "outputs": [],
   "source": [
    "import lightgbm as lgb\n",
    "from sklearn import datasets\n",
    "from sklearn.model_selection import train_test_split\n",
    "import numpy as np\n",
    "from sklearn.preprocessing import OrdinalEncoder\n",
    "from bayes_opt import BayesianOptimization\n",
    "from sklearn.model_selection import KFold\n",
    "from sklearn.metrics import log_loss"
   ]
  },
  {
   "cell_type": "code",
   "execution_count": 2,
   "metadata": {
    "pycharm": {
     "name": "#%%\n"
    }
   },
   "outputs": [
    {
     "name": "stdout",
     "output_type": "stream",
     "text": [
      "(2700, 54) (2700,)\n",
      "[1 2 3 4 5 6 7]\n"
     ]
    }
   ],
   "source": [
    "X = datasets.fetch_covtype().data[:3000]\n",
    "y = datasets.fetch_covtype().target[:3000]\n",
    "X_train, X_test, y_train, y_test = train_test_split(X, y, test_size=0.1)\n",
    "\n",
    "print(X_train.shape, y_train.shape)\n",
    "print(np.unique(y_train))  # 7分类任务"
   ]
  },
  {
   "cell_type": "code",
   "execution_count": 3,
   "metadata": {
    "pycharm": {
     "name": "#%%\n"
    }
   },
   "outputs": [
    {
     "name": "stdout",
     "output_type": "stream",
     "text": [
      "[0. 1. 2. 3. 4. 5. 6.]\n",
      "(2700,)\n"
     ]
    }
   ],
   "source": [
    "enc = OrdinalEncoder()\n",
    "y_train_enc = enc.fit_transform(y_train.reshape(-1, 1)).reshape(-1, )\n",
    "y_test_enc = enc.transform(y_test.reshape(-1, 1)).reshape(-1, )\n",
    "\n",
    "print(np.unique(y_train_enc))\n",
    "print(y_train_enc.shape)"
   ]
  },
  {
   "cell_type": "code",
   "execution_count": 4,
   "metadata": {
    "pycharm": {
     "name": "#%%\n"
    }
   },
   "outputs": [],
   "source": [
    "def model_cv(reg_alpha, subsample, max_depth, min_child_samples, X_train_data, y_train_data, kfold, loss_func, great):\n",
    "    # 参数传递\n",
    "    # 不同模型需要修改部分\n",
    "    params = {\"n_jobs\": -1, \"num_class\": 7, 'verbose': -1, \"objective\": \"multiclass\", 'reg_alpha': reg_alpha,\n",
    "              'subsample': subsample, 'max_depth': max_depth, 'min_child_samples': min_child_samples}\n",
    "\n",
    "\n",
    "    eval = 0\n",
    "    for fold, (trn_ind, val_ind) in enumerate(kfold.split(X_train_data)):\n",
    "        print('*' * 100)\n",
    "        x_train, x_val = X_train_data[trn_ind], X_train_data[val_ind]\n",
    "        y_train, y_val = y_train_data[trn_ind], y_train_data[val_ind]\n",
    "\n",
    "        # 模型训练\n",
    "        # 不同模型需要修改部分\n",
    "        train_dataset = lgb.Dataset(x_train, y_train)\n",
    "        val_dataset = lgb.Dataset(x_val, y_val)\n",
    "        estimator = lgb.train(params=params, train_set=train_dataset, valid_sets=[train_dataset, val_dataset],\n",
    "                              early_stopping_rounds=100, verbose_eval=200)\n",
    "\n",
    "        eval += (loss_func(y_val, estimator.predict(x_val)) / kfold.n_splits)\n",
    "        if great:\n",
    "            eval = eval\n",
    "        else:\n",
    "            eval = -eval  # 最大化-eval,等于最小化eval\n",
    "\n",
    "    return eval  # 返回一个评估指标"
   ]
  },
  {
   "cell_type": "code",
   "execution_count": 5,
   "metadata": {
    "pycharm": {
     "name": "#%%\n"
    }
   },
   "outputs": [],
   "source": [
    "def optimize_lgb(X_train_data, y_train_data, kfold, loss_func, pbounds, great=False):\n",
    "    # 不同模型需要修改部分\n",
    "    def model_cv_out(reg_alpha, subsample, max_depth, min_child_samples):\n",
    "        return model_cv(\n",
    "            reg_alpha=reg_alpha,\n",
    "            subsample=subsample,\n",
    "            max_depth=int(np.around(max_depth)),  # max_depth必须为int类型,故这里使其变为整数\n",
    "            min_child_samples=int(np.around(min_child_samples)),  # 同理\n",
    "            X_train_data=X_train_data,\n",
    "            y_train_data=y_train_data,\n",
    "            kfold=kfold,\n",
    "            loss_func=loss_func,\n",
    "            great=great\n",
    "        )\n",
    "\n",
    "    optimizer = BayesianOptimization(\n",
    "        f=model_cv_out,\n",
    "        pbounds=pbounds,\n",
    "        random_state=1234,\n",
    "        verbose=2\n",
    "    )\n",
    "\n",
    "    optimizer.maximize(n_iter=10)  # 最大化这个评估指标\n",
    "\n",
    "    max_result = optimizer.max\n",
    "    print(\"Final result:\", max_result)\n",
    "    return max_result"
   ]
  },
  {
   "cell_type": "code",
   "execution_count": 153,
   "metadata": {
    "pycharm": {
     "name": "#%%\n"
    }
   },
   "outputs": [
    {
     "name": "stdout",
     "output_type": "stream",
     "text": [
      "|   iter    |  target   | max_depth | min_ch... | reg_alpha | subsample |\n",
      "-------------------------------------------------------------------------\n",
      "****************************************************************************************************\n",
      "Training until validation scores don't improve for 100 rounds\n",
      "Did not meet early stopping. Best iteration is:\n",
      "[100]\ttraining's multi_logloss: 0.385919\tvalid_1's multi_logloss: 0.540511\n",
      "****************************************************************************************************\n",
      "Training until validation scores don't improve for 100 rounds\n",
      "Did not meet early stopping. Best iteration is:\n",
      "[100]\ttraining's multi_logloss: 0.383605\tvalid_1's multi_logloss: 0.535173\n",
      "****************************************************************************************************\n",
      "Training until validation scores don't improve for 100 rounds\n",
      "Did not meet early stopping. Best iteration is:\n",
      "[100]\ttraining's multi_logloss: 0.394352\tvalid_1's multi_logloss: 0.501578\n",
      "****************************************************************************************************\n",
      "Training until validation scores don't improve for 100 rounds\n",
      "Did not meet early stopping. Best iteration is:\n",
      "[100]\ttraining's multi_logloss: 0.391987\tvalid_1's multi_logloss: 0.493433\n",
      "****************************************************************************************************\n",
      "Training until validation scores don't improve for 100 rounds\n",
      "Did not meet early stopping. Best iteration is:\n",
      "[100]\ttraining's multi_logloss: 0.381613\tvalid_1's multi_logloss: 0.552452\n",
      "| \u001B[0m 1       \u001B[0m | \u001B[0m-0.1132  \u001B[0m | \u001B[0m 1.958   \u001B[0m | \u001B[0m 23.95   \u001B[0m | \u001B[0m 0.4377  \u001B[0m | \u001B[0m 0.8068  \u001B[0m |\n",
      "****************************************************************************************************\n",
      "Training until validation scores don't improve for 100 rounds\n",
      "Did not meet early stopping. Best iteration is:\n",
      "[100]\ttraining's multi_logloss: 0.0879724\tvalid_1's multi_logloss: 0.376299\n",
      "****************************************************************************************************\n",
      "Training until validation scores don't improve for 100 rounds\n",
      "Did not meet early stopping. Best iteration is:\n",
      "[100]\ttraining's multi_logloss: 0.0881747\tvalid_1's multi_logloss: 0.361931\n",
      "****************************************************************************************************\n",
      "Training until validation scores don't improve for 100 rounds\n",
      "Did not meet early stopping. Best iteration is:\n",
      "[100]\ttraining's multi_logloss: 0.0897154\tvalid_1's multi_logloss: 0.445524\n",
      "****************************************************************************************************\n",
      "Training until validation scores don't improve for 100 rounds\n",
      "Did not meet early stopping. Best iteration is:\n",
      "[100]\ttraining's multi_logloss: 0.0850765\tvalid_1's multi_logloss: 0.427919\n",
      "****************************************************************************************************\n",
      "Training until validation scores don't improve for 100 rounds\n",
      "Did not meet early stopping. Best iteration is:\n",
      "[100]\ttraining's multi_logloss: 0.0926364\tvalid_1's multi_logloss: 0.415302\n",
      "| \u001B[95m 2       \u001B[0m | \u001B[95m-0.08945 \u001B[0m | \u001B[95m 4.9     \u001B[0m | \u001B[95m 18.36   \u001B[0m | \u001B[95m 0.2765  \u001B[0m | \u001B[95m 0.8217  \u001B[0m |\n",
      "****************************************************************************************************\n",
      "Training until validation scores don't improve for 100 rounds\n",
      "Did not meet early stopping. Best iteration is:\n",
      "[100]\ttraining's multi_logloss: 0.0633531\tvalid_1's multi_logloss: 0.478824\n",
      "****************************************************************************************************\n",
      "Training until validation scores don't improve for 100 rounds\n",
      "Did not meet early stopping. Best iteration is:\n",
      "[100]\ttraining's multi_logloss: 0.0670904\tvalid_1's multi_logloss: 0.364079\n",
      "****************************************************************************************************\n",
      "Training until validation scores don't improve for 100 rounds\n",
      "Did not meet early stopping. Best iteration is:\n",
      "[100]\ttraining's multi_logloss: 0.0734219\tvalid_1's multi_logloss: 0.350235\n",
      "****************************************************************************************************\n",
      "Training until validation scores don't improve for 100 rounds\n",
      "Did not meet early stopping. Best iteration is:\n",
      "[100]\ttraining's multi_logloss: 0.0640333\tvalid_1's multi_logloss: 0.484376\n",
      "****************************************************************************************************\n",
      "Training until validation scores don't improve for 100 rounds\n",
      "Did not meet early stopping. Best iteration is:\n",
      "[100]\ttraining's multi_logloss: 0.0692453\tvalid_1's multi_logloss: 0.358882\n",
      "| \u001B[95m 3       \u001B[0m | \u001B[95m-0.0679  \u001B[0m | \u001B[95m 5.791   \u001B[0m | \u001B[95m 28.01   \u001B[0m | \u001B[95m 0.3578  \u001B[0m | \u001B[95m 0.5509  \u001B[0m |\n",
      "****************************************************************************************************\n",
      "Training until validation scores don't improve for 100 rounds\n",
      "Did not meet early stopping. Best iteration is:\n",
      "[100]\ttraining's multi_logloss: 0.162344\tvalid_1's multi_logloss: 0.403462\n",
      "****************************************************************************************************\n",
      "Training until validation scores don't improve for 100 rounds\n",
      "Did not meet early stopping. Best iteration is:\n",
      "[100]\ttraining's multi_logloss: 0.15144\tvalid_1's multi_logloss: 0.484557\n",
      "****************************************************************************************************\n",
      "Training until validation scores don't improve for 100 rounds\n",
      "Did not meet early stopping. Best iteration is:\n",
      "[100]\ttraining's multi_logloss: 0.165222\tvalid_1's multi_logloss: 0.423793\n",
      "****************************************************************************************************\n",
      "Training until validation scores don't improve for 100 rounds\n",
      "Did not meet early stopping. Best iteration is:\n",
      "[100]\ttraining's multi_logloss: 0.173908\tvalid_1's multi_logloss: 0.379298\n",
      "****************************************************************************************************\n",
      "Training until validation scores don't improve for 100 rounds\n",
      "Did not meet early stopping. Best iteration is:\n",
      "[100]\ttraining's multi_logloss: 0.163718\tvalid_1's multi_logloss: 0.440085\n",
      "| \u001B[0m 4       \u001B[0m | \u001B[0m-0.0807  \u001B[0m | \u001B[0m 4.417   \u001B[0m | \u001B[0m 25.4    \u001B[0m | \u001B[0m 0.3703  \u001B[0m | \u001B[0m 0.6051  \u001B[0m |\n",
      "****************************************************************************************************\n",
      "Training until validation scores don't improve for 100 rounds\n",
      "Did not meet early stopping. Best iteration is:\n",
      "[100]\ttraining's multi_logloss: 0.152584\tvalid_1's multi_logloss: 0.429029\n",
      "****************************************************************************************************\n",
      "Training until validation scores don't improve for 100 rounds\n",
      "Did not meet early stopping. Best iteration is:\n",
      "[100]\ttraining's multi_logloss: 0.153595\tvalid_1's multi_logloss: 0.420729\n",
      "****************************************************************************************************\n",
      "Training until validation scores don't improve for 100 rounds\n",
      "Did not meet early stopping. Best iteration is:\n",
      "[100]\ttraining's multi_logloss: 0.156802\tvalid_1's multi_logloss: 0.453214\n",
      "****************************************************************************************************\n",
      "Training until validation scores don't improve for 100 rounds\n",
      "Did not meet early stopping. Best iteration is:\n",
      "[100]\ttraining's multi_logloss: 0.157756\tvalid_1's multi_logloss: 0.467599\n",
      "****************************************************************************************************\n",
      "Training until validation scores don't improve for 100 rounds\n",
      "Did not meet early stopping. Best iteration is:\n",
      "[100]\ttraining's multi_logloss: 0.168228\tvalid_1's multi_logloss: 0.386499\n",
      "| \u001B[0m 5       \u001B[0m | \u001B[0m-0.07608 \u001B[0m | \u001B[0m 3.515   \u001B[0m | \u001B[0m 14.22   \u001B[0m | \u001B[0m 0.7728  \u001B[0m | \u001B[0m 0.8944  \u001B[0m |\n",
      "****************************************************************************************************\n",
      "Training until validation scores don't improve for 100 rounds\n",
      "Did not meet early stopping. Best iteration is:\n",
      "[100]\ttraining's multi_logloss: 0.265512\tvalid_1's multi_logloss: 0.454585\n",
      "****************************************************************************************************\n",
      "Training until validation scores don't improve for 100 rounds\n",
      "Did not meet early stopping. Best iteration is:\n",
      "[100]\ttraining's multi_logloss: 0.260372\tvalid_1's multi_logloss: 0.427711\n",
      "****************************************************************************************************\n",
      "Training until validation scores don't improve for 100 rounds\n",
      "Did not meet early stopping. Best iteration is:\n",
      "[100]\ttraining's multi_logloss: 0.255247\tvalid_1's multi_logloss: 0.436887\n",
      "****************************************************************************************************\n",
      "Training until validation scores don't improve for 100 rounds\n",
      "Did not meet early stopping. Best iteration is:\n",
      "[100]\ttraining's multi_logloss: 0.25821\tvalid_1's multi_logloss: 0.455362\n",
      "****************************************************************************************************\n",
      "Training until validation scores don't improve for 100 rounds\n",
      "Did not meet early stopping. Best iteration is:\n",
      "[100]\ttraining's multi_logloss: 0.249178\tvalid_1's multi_logloss: 0.480603\n",
      "| \u001B[0m 6       \u001B[0m | \u001B[0m-0.0978  \u001B[0m | \u001B[0m 2.667   \u001B[0m | \u001B[0m 25.57   \u001B[0m | \u001B[0m 0.4729  \u001B[0m | \u001B[0m 0.427   \u001B[0m |\n",
      "****************************************************************************************************\n",
      "Training until validation scores don't improve for 100 rounds\n",
      "Did not meet early stopping. Best iteration is:\n",
      "[100]\ttraining's multi_logloss: 0.187092\tvalid_1's multi_logloss: 0.386073\n",
      "****************************************************************************************************\n",
      "Training until validation scores don't improve for 100 rounds\n",
      "Did not meet early stopping. Best iteration is:\n",
      "[100]\ttraining's multi_logloss: 0.180833\tvalid_1's multi_logloss: 0.409292\n",
      "****************************************************************************************************\n",
      "Training until validation scores don't improve for 100 rounds\n",
      "Did not meet early stopping. Best iteration is:\n",
      "[100]\ttraining's multi_logloss: 0.173205\tvalid_1's multi_logloss: 0.504825\n",
      "****************************************************************************************************\n",
      "Training until validation scores don't improve for 100 rounds\n",
      "Did not meet early stopping. Best iteration is:\n",
      "[100]\ttraining's multi_logloss: 0.190335\tvalid_1's multi_logloss: 0.40377\n",
      "****************************************************************************************************\n",
      "Training until validation scores don't improve for 100 rounds\n",
      "Did not meet early stopping. Best iteration is:\n",
      "[100]\ttraining's multi_logloss: 0.172329\tvalid_1's multi_logloss: 0.41982\n",
      "| \u001B[0m 7       \u001B[0m | \u001B[0m-0.09953 \u001B[0m | \u001B[0m 4.144   \u001B[0m | \u001B[0m 30.0    \u001B[0m | \u001B[0m 1.0     \u001B[0m | \u001B[0m 0.1     \u001B[0m |\n",
      "****************************************************************************************************\n",
      "Training until validation scores don't improve for 100 rounds\n",
      "Did not meet early stopping. Best iteration is:\n",
      "[100]\ttraining's multi_logloss: 0.0626561\tvalid_1's multi_logloss: 0.408859\n",
      "****************************************************************************************************\n",
      "Training until validation scores don't improve for 100 rounds\n",
      "Did not meet early stopping. Best iteration is:\n",
      "[100]\ttraining's multi_logloss: 0.0651247\tvalid_1's multi_logloss: 0.424482\n",
      "****************************************************************************************************\n",
      "Training until validation scores don't improve for 100 rounds\n",
      "Did not meet early stopping. Best iteration is:\n",
      "[100]\ttraining's multi_logloss: 0.0583043\tvalid_1's multi_logloss: 0.445742\n",
      "****************************************************************************************************\n",
      "Training until validation scores don't improve for 100 rounds\n",
      "Did not meet early stopping. Best iteration is:\n",
      "[100]\ttraining's multi_logloss: 0.0650591\tvalid_1's multi_logloss: 0.388276\n",
      "****************************************************************************************************\n",
      "Training until validation scores don't improve for 100 rounds\n",
      "Did not meet early stopping. Best iteration is:\n",
      "[100]\ttraining's multi_logloss: 0.0622129\tvalid_1's multi_logloss: 0.422129\n",
      "| \u001B[0m 8       \u001B[0m | \u001B[0m-0.09279 \u001B[0m | \u001B[0m 6.0     \u001B[0m | \u001B[0m 26.73   \u001B[0m | \u001B[0m 0.1874  \u001B[0m | \u001B[0m 0.6802  \u001B[0m |\n",
      "****************************************************************************************************\n",
      "Training until validation scores don't improve for 100 rounds\n",
      "Did not meet early stopping. Best iteration is:\n",
      "[100]\ttraining's multi_logloss: 0.0784299\tvalid_1's multi_logloss: 0.472832\n",
      "****************************************************************************************************\n",
      "Training until validation scores don't improve for 100 rounds\n",
      "Did not meet early stopping. Best iteration is:\n",
      "[100]\ttraining's multi_logloss: 0.0729946\tvalid_1's multi_logloss: 0.398721\n",
      "****************************************************************************************************\n",
      "Training until validation scores don't improve for 100 rounds\n",
      "Did not meet early stopping. Best iteration is:\n",
      "[100]\ttraining's multi_logloss: 0.0773938\tvalid_1's multi_logloss: 0.425525\n",
      "****************************************************************************************************\n",
      "Training until validation scores don't improve for 100 rounds\n",
      "Did not meet early stopping. Best iteration is:\n",
      "[100]\ttraining's multi_logloss: 0.0807842\tvalid_1's multi_logloss: 0.399533\n",
      "****************************************************************************************************\n",
      "Training until validation scores don't improve for 100 rounds\n",
      "Did not meet early stopping. Best iteration is:\n",
      "[100]\ttraining's multi_logloss: 0.0778761\tvalid_1's multi_logloss: 0.387223\n",
      "| \u001B[0m 9       \u001B[0m | \u001B[0m-0.09747 \u001B[0m | \u001B[0m 5.97    \u001B[0m | \u001B[0m 25.63   \u001B[0m | \u001B[0m 0.7321  \u001B[0m | \u001B[0m 0.7704  \u001B[0m |\n",
      "****************************************************************************************************\n",
      "Training until validation scores don't improve for 100 rounds\n",
      "Did not meet early stopping. Best iteration is:\n",
      "[100]\ttraining's multi_logloss: 0.153915\tvalid_1's multi_logloss: 0.455367\n",
      "****************************************************************************************************\n",
      "Training until validation scores don't improve for 100 rounds\n",
      "Did not meet early stopping. Best iteration is:\n",
      "[100]\ttraining's multi_logloss: 0.159789\tvalid_1's multi_logloss: 0.403662\n",
      "****************************************************************************************************\n",
      "Training until validation scores don't improve for 100 rounds\n",
      "Did not meet early stopping. Best iteration is:\n",
      "[100]\ttraining's multi_logloss: 0.170716\tvalid_1's multi_logloss: 0.409661\n",
      "****************************************************************************************************\n",
      "Training until validation scores don't improve for 100 rounds\n",
      "Did not meet early stopping. Best iteration is:\n",
      "[100]\ttraining's multi_logloss: 0.1578\tvalid_1's multi_logloss: 0.458873\n",
      "****************************************************************************************************\n",
      "Training until validation scores don't improve for 100 rounds\n",
      "Did not meet early stopping. Best iteration is:\n",
      "[100]\ttraining's multi_logloss: 0.156284\tvalid_1's multi_logloss: 0.405235\n",
      "| \u001B[0m 10      \u001B[0m | \u001B[0m-0.08155 \u001B[0m | \u001B[0m 4.013   \u001B[0m | \u001B[0m 22.68   \u001B[0m | \u001B[0m 0.3688  \u001B[0m | \u001B[0m 0.5886  \u001B[0m |\n",
      "****************************************************************************************************\n",
      "Training until validation scores don't improve for 100 rounds\n",
      "Did not meet early stopping. Best iteration is:\n",
      "[100]\ttraining's multi_logloss: 0.0650794\tvalid_1's multi_logloss: 0.432796\n",
      "****************************************************************************************************\n",
      "Training until validation scores don't improve for 100 rounds\n",
      "Did not meet early stopping. Best iteration is:\n",
      "[100]\ttraining's multi_logloss: 0.066562\tvalid_1's multi_logloss: 0.373686\n",
      "****************************************************************************************************\n",
      "Training until validation scores don't improve for 100 rounds\n",
      "Did not meet early stopping. Best iteration is:\n",
      "[100]\ttraining's multi_logloss: 0.0663421\tvalid_1's multi_logloss: 0.426082\n",
      "****************************************************************************************************\n",
      "Training until validation scores don't improve for 100 rounds\n",
      "Did not meet early stopping. Best iteration is:\n",
      "[100]\ttraining's multi_logloss: 0.0634015\tvalid_1's multi_logloss: 0.337621\n",
      "****************************************************************************************************\n",
      "Training until validation scores don't improve for 100 rounds\n",
      "Did not meet early stopping. Best iteration is:\n",
      "[100]\ttraining's multi_logloss: 0.0653821\tvalid_1's multi_logloss: 0.445671\n",
      "| \u001B[0m 11      \u001B[0m | \u001B[0m-0.1186  \u001B[0m | \u001B[0m 5.761   \u001B[0m | \u001B[0m 27.96   \u001B[0m | \u001B[0m 0.3136  \u001B[0m | \u001B[0m 0.4059  \u001B[0m |\n",
      "****************************************************************************************************\n",
      "Training until validation scores don't improve for 100 rounds\n",
      "Did not meet early stopping. Best iteration is:\n",
      "[100]\ttraining's multi_logloss: 0.0650052\tvalid_1's multi_logloss: 0.410776\n",
      "****************************************************************************************************\n",
      "Training until validation scores don't improve for 100 rounds\n",
      "Did not meet early stopping. Best iteration is:\n",
      "[100]\ttraining's multi_logloss: 0.0641392\tvalid_1's multi_logloss: 0.448451\n",
      "****************************************************************************************************\n",
      "Training until validation scores don't improve for 100 rounds\n",
      "Did not meet early stopping. Best iteration is:\n",
      "[100]\ttraining's multi_logloss: 0.0643505\tvalid_1's multi_logloss: 0.379216\n",
      "****************************************************************************************************\n",
      "Training until validation scores don't improve for 100 rounds\n",
      "Did not meet early stopping. Best iteration is:\n",
      "[100]\ttraining's multi_logloss: 0.0674819\tvalid_1's multi_logloss: 0.358702\n",
      "****************************************************************************************************\n",
      "Training until validation scores don't improve for 100 rounds\n",
      "Did not meet early stopping. Best iteration is:\n",
      "[100]\ttraining's multi_logloss: 0.0649359\tvalid_1's multi_logloss: 0.442667\n",
      "| \u001B[0m 12      \u001B[0m | \u001B[0m-0.0851  \u001B[0m | \u001B[0m 5.727   \u001B[0m | \u001B[0m 14.05   \u001B[0m | \u001B[0m 0.796   \u001B[0m | \u001B[0m 0.1957  \u001B[0m |\n",
      "****************************************************************************************************\n",
      "Training until validation scores don't improve for 100 rounds\n",
      "Did not meet early stopping. Best iteration is:\n",
      "[100]\ttraining's multi_logloss: 0.0636912\tvalid_1's multi_logloss: 0.457017\n",
      "****************************************************************************************************\n",
      "Training until validation scores don't improve for 100 rounds\n",
      "Did not meet early stopping. Best iteration is:\n",
      "[100]\ttraining's multi_logloss: 0.0566781\tvalid_1's multi_logloss: 0.443321\n",
      "****************************************************************************************************\n",
      "Training until validation scores don't improve for 100 rounds\n",
      "Did not meet early stopping. Best iteration is:\n",
      "[100]\ttraining's multi_logloss: 0.0639949\tvalid_1's multi_logloss: 0.395598\n",
      "****************************************************************************************************\n",
      "Training until validation scores don't improve for 100 rounds\n",
      "Did not meet early stopping. Best iteration is:\n",
      "[100]\ttraining's multi_logloss: 0.063495\tvalid_1's multi_logloss: 0.403207\n",
      "****************************************************************************************************\n",
      "Training until validation scores don't improve for 100 rounds\n",
      "Did not meet early stopping. Best iteration is:\n",
      "[100]\ttraining's multi_logloss: 0.0626956\tvalid_1's multi_logloss: 0.378896\n",
      "| \u001B[0m 13      \u001B[0m | \u001B[0m-0.077   \u001B[0m | \u001B[0m 5.793   \u001B[0m | \u001B[0m 23.42   \u001B[0m | \u001B[0m 0.4403  \u001B[0m | \u001B[0m 0.6574  \u001B[0m |\n",
      "****************************************************************************************************\n",
      "Training until validation scores don't improve for 100 rounds\n",
      "Did not meet early stopping. Best iteration is:\n",
      "[100]\ttraining's multi_logloss: 0.0969299\tvalid_1's multi_logloss: 0.458957\n",
      "****************************************************************************************************\n",
      "Training until validation scores don't improve for 100 rounds\n",
      "Did not meet early stopping. Best iteration is:\n",
      "[100]\ttraining's multi_logloss: 0.097465\tvalid_1's multi_logloss: 0.418345\n",
      "****************************************************************************************************\n",
      "Training until validation scores don't improve for 100 rounds\n",
      "Did not meet early stopping. Best iteration is:\n",
      "[100]\ttraining's multi_logloss: 0.100162\tvalid_1's multi_logloss: 0.396263\n",
      "****************************************************************************************************\n",
      "Training until validation scores don't improve for 100 rounds\n",
      "Did not meet early stopping. Best iteration is:\n",
      "[100]\ttraining's multi_logloss: 0.10436\tvalid_1's multi_logloss: 0.400162\n",
      "****************************************************************************************************\n",
      "Training until validation scores don't improve for 100 rounds\n",
      "Did not meet early stopping. Best iteration is:\n",
      "[100]\ttraining's multi_logloss: 0.10887\tvalid_1's multi_logloss: 0.373397\n",
      "| \u001B[0m 14      \u001B[0m | \u001B[0m-0.08202 \u001B[0m | \u001B[0m 5.13    \u001B[0m | \u001B[0m 27.9    \u001B[0m | \u001B[0m 0.1901  \u001B[0m | \u001B[0m 0.105   \u001B[0m |\n",
      "****************************************************************************************************\n",
      "Training until validation scores don't improve for 100 rounds\n",
      "Did not meet early stopping. Best iteration is:\n",
      "[100]\ttraining's multi_logloss: 0.24971\tvalid_1's multi_logloss: 0.532112\n",
      "****************************************************************************************************\n",
      "Training until validation scores don't improve for 100 rounds\n",
      "Did not meet early stopping. Best iteration is:\n",
      "[100]\ttraining's multi_logloss: 0.261014\tvalid_1's multi_logloss: 0.445608\n",
      "****************************************************************************************************\n",
      "Training until validation scores don't improve for 100 rounds\n",
      "Did not meet early stopping. Best iteration is:\n",
      "[100]\ttraining's multi_logloss: 0.265423\tvalid_1's multi_logloss: 0.424056\n",
      "****************************************************************************************************\n",
      "Training until validation scores don't improve for 100 rounds\n",
      "Did not meet early stopping. Best iteration is:\n",
      "[100]\ttraining's multi_logloss: 0.261963\tvalid_1's multi_logloss: 0.431007\n",
      "****************************************************************************************************\n",
      "Training until validation scores don't improve for 100 rounds\n",
      "Did not meet early stopping. Best iteration is:\n",
      "[100]\ttraining's multi_logloss: 0.273413\tvalid_1's multi_logloss: 0.471045\n",
      "| \u001B[0m 15      \u001B[0m | \u001B[0m-0.1101  \u001B[0m | \u001B[0m 2.951   \u001B[0m | \u001B[0m 24.05   \u001B[0m | \u001B[0m 0.8569  \u001B[0m | \u001B[0m 0.6946  \u001B[0m |\n",
      "=========================================================================\n",
      "Final result: {'target': -0.06789718089935763, 'params': {'max_depth': 5.790696768418526, 'min_child_samples': 28.014922155873514, 'reg_alpha': 0.35781726995786667, 'subsample': 0.5508956129711129}}\n"
     ]
    },
    {
     "data": {
      "text/plain": [
       "{'target': -0.06789718089935763,\n",
       " 'params': {'max_depth': 5.790696768418526,\n",
       "  'min_child_samples': 28.014922155873514,\n",
       "  'reg_alpha': 0.35781726995786667,\n",
       "  'subsample': 0.5508956129711129}}"
      ]
     },
     "execution_count": 153,
     "metadata": {},
     "output_type": "execute_result"
    }
   ],
   "source": [
    "# 不同模型需要修改部分\n",
    "pbounds_dict = {\"reg_alpha\": (0, 1),  # reg_alpha这个指标的最小值为0,最大值为1\n",
    "                \"subsample\": (0.1, 1),  # subsample这个指标的最小值为0,最大值为1\n",
    "                \"max_depth\": (1, 6),\n",
    "                \"min_child_samples\": (14, 30)}\n",
    "\n",
    "kf = KFold(n_splits=5, shuffle=True)\n",
    "\n",
    "result = optimize_lgb(X_train, y_train_enc, kfold=kf, loss_func=log_loss, pbounds=pbounds_dict, great=False)\n",
    "result"
   ]
  },
  {
   "cell_type": "code",
   "execution_count": 156,
   "metadata": {
    "pycharm": {
     "name": "#%%\n"
    }
   },
   "outputs": [
    {
     "data": {
      "text/plain": [
       "0.06789718089935763"
      ]
     },
     "execution_count": 156,
     "metadata": {},
     "output_type": "execute_result"
    }
   ],
   "source": [
    "# 最优分数\n",
    "result_loss = -result['target']\n",
    "result_loss"
   ]
  },
  {
   "cell_type": "code",
   "execution_count": 158,
   "metadata": {
    "pycharm": {
     "name": "#%%\n"
    }
   },
   "outputs": [
    {
     "data": {
      "text/plain": [
       "{'max_depth': 5.790696768418526,\n",
       " 'min_child_samples': 28.014922155873514,\n",
       " 'reg_alpha': 0.35781726995786667,\n",
       " 'subsample': 0.5508956129711129}"
      ]
     },
     "execution_count": 158,
     "metadata": {},
     "output_type": "execute_result"
    }
   ],
   "source": [
    "# 最优参数组合\n",
    "# 这里max_depth和min_child_samples需要四舍五入后转换为int类型\n",
    "result_params = result['params']\n",
    "result_params"
   ]
  },
  {
   "cell_type": "code",
   "execution_count": null,
   "metadata": {
    "pycharm": {
     "name": "#%%\n"
    }
   },
   "outputs": [],
   "source": []
  }
 ],
 "metadata": {
  "kernelspec": {
   "display_name": "Python 3",
   "language": "python",
   "name": "python3"
  },
  "language_info": {
   "codemirror_mode": {
    "name": "ipython",
    "version": 3
   },
   "file_extension": ".py",
   "mimetype": "text/x-python",
   "name": "python",
   "nbconvert_exporter": "python",
   "pygments_lexer": "ipython3",
   "version": "3.8.11"
  }
 },
 "nbformat": 4,
 "nbformat_minor": 1
}