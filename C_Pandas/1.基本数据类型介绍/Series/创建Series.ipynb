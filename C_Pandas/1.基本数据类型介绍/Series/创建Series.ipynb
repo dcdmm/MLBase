{
 "cells": [
  {
   "cell_type": "code",
   "execution_count": 21,
   "outputs": [],
   "source": [
    "import numpy as np\n",
    "import pandas as pd"
   ],
   "metadata": {
    "collapsed": false,
    "pycharm": {
     "name": "#%%\n"
    }
   }
  },
  {
   "cell_type": "code",
   "execution_count": 22,
   "outputs": [
    {
     "data": {
      "text/plain": "Series([], dtype: float64)"
     },
     "execution_count": 22,
     "metadata": {},
     "output_type": "execute_result"
    }
   ],
   "source": [
    "pd.Series(dtype=np.float64)  # 创建一个空的Series"
   ],
   "metadata": {
    "pycharm": {
     "metadata": false,
     "name": "#%%\n"
    }
   }
  },
  {
   "cell_type": "code",
   "execution_count": 23,
   "outputs": [
    {
     "data": {
      "text/plain": "d    4\nb    7\na   -5\nc    3\ndtype: int32"
     },
     "execution_count": 23,
     "metadata": {},
     "output_type": "execute_result"
    }
   ],
   "source": [
    "# 方法一:通过数组创建\n",
    "arr = np.array([4, 7, -5, 3])\n",
    "obj1 = pd.Series(arr, index=['d', 'b', 'a', 'c'], dtype=np.int32)\n",
    "obj1"
   ],
   "metadata": {
    "collapsed": false,
    "pycharm": {
     "name": "#%%\n"
    }
   }
  },
  {
   "cell_type": "code",
   "execution_count": 24,
   "outputs": [
    {
     "name": "stdout",
     "output_type": "stream",
     "text": [
      "0    1\n",
      "1    2\n",
      "2    3\n",
      "3    4\n",
      "dtype: int64\n",
      "\n",
      "0    1\n",
      "1    2\n",
      "2    3\n",
      "3    4\n",
      "dtype: int64\n",
      "\n",
      "0    0\n",
      "1    1\n",
      "2    2\n",
      "3    3\n",
      "4    4\n",
      "5    5\n",
      "6    6\n",
      "7    7\n",
      "8    8\n",
      "9    9\n",
      "dtype: int64\n",
      "\n",
      "0    d\n",
      "1    u\n",
      "2    a\n",
      "3    n\n",
      "4    c\n",
      "5    h\n",
      "6    a\n",
      "7    o\n",
      "dtype: object\n",
      "\n",
      "1      u\n",
      "2      a\n",
      "a    NaN\n",
      "6      a\n",
      "c    NaN\n",
      "d    NaN\n",
      "e    NaN\n",
      "5      h\n",
      "dtype: object\n"
     ]
    }
   ],
   "source": [
    "# 方法二:通过list, tuple, 迭代器, 生成器, Series创建\n",
    "obj20 = pd.Series([1, 2, 3, 4], dtype=np.int64)  # list\n",
    "print(obj20, end='\\n\\n')\n",
    "\n",
    "obj21 = pd.Series((1, 2, 3, 4))  # tuple\n",
    "print(obj21, end='\\n\\n')\n",
    "\n",
    "obj22 = pd.Series((i for i in range(10)))  # 生成器\n",
    "print(obj22, end='\\n\\n')\n",
    "\n",
    "name = 'duanchao'\n",
    "iter_name = iter(name)\n",
    "obj23 = pd.Series(iter_name)  # 迭代器\n",
    "print(obj23, end='\\n\\n')\n",
    "\n",
    "obj24 = pd.Series(obj23, index=[1, 2, 'a', 6, 'c', 'd',\n",
    "                                'e', 5])  # Series(与原有Series.index进行匹配)\n",
    "print(obj24)"
   ],
   "metadata": {
    "pycharm": {
     "metadata": false,
     "name": "#%%\n"
    }
   }
  },
  {
   "cell_type": "code",
   "execution_count": 25,
   "outputs": [
    {
     "data": {
      "text/plain": "Ohio      35000\nTexas     71000\nOregon    16000\nUtah       5000\ndtype: int64"
     },
     "execution_count": 25,
     "metadata": {},
     "output_type": "execute_result"
    }
   ],
   "source": [
    "# 方法三:由字典创建,字典的key是index,字典的values是values\n",
    "obj2_data = {'Ohio': 35000, 'Texas': 71000, 'Oregon': 16000, 'Utah': 5000}\n",
    "obj3 = pd.Series(obj2_data)\n",
    "obj3"
   ],
   "metadata": {
    "pycharm": {
     "metadata": false,
     "name": "#%%\n"
    }
   }
  },
  {
   "cell_type": "code",
   "execution_count": 26,
   "outputs": [
    {
     "data": {
      "text/plain": "0    100\ndtype: int64"
     },
     "execution_count": 26,
     "metadata": {},
     "output_type": "execute_result"
    }
   ],
   "source": [
    "# 单值创建Series\n",
    "pd.Series(100)"
   ],
   "metadata": {
    "pycharm": {
     "metadata": false,
     "name": "#%%\n"
    }
   }
  },
  {
   "cell_type": "code",
   "execution_count": 32,
   "outputs": [
    {
     "data": {
      "text/plain": "a   NaN\nb   NaN\nc   NaN\nd   NaN\ndtype: float64"
     },
     "execution_count": 32,
     "metadata": {},
     "output_type": "execute_result"
    }
   ],
   "source": [
    "pd.Series(index=['a', 'b', 'c', 'd'], dtype=float)  # 默认全为NaN"
   ],
   "metadata": {
    "collapsed": false,
    "pycharm": {
     "name": "#%%\n"
    }
   }
  },
  {
   "cell_type": "code",
   "execution_count": 28,
   "outputs": [
    {
     "data": {
      "text/plain": "0    100\n1    100\n2    100\n3    100\n4    100\n5    100\n6    100\n7    100\n8    100\n9    100\ndtype: int64"
     },
     "execution_count": 28,
     "metadata": {},
     "output_type": "execute_result"
    }
   ],
   "source": [
    "obj4 = pd.Series(100, index=range(10))\n",
    "obj4  # 数据类型为int"
   ],
   "metadata": {
    "collapsed": false,
    "pycharm": {
     "name": "#%%\n"
    }
   }
  },
  {
   "cell_type": "code",
   "execution_count": 29,
   "outputs": [
    {
     "data": {
      "text/plain": "0    -99\n1    100\n2    100\n3    100\n4    100\n5    100\n6    100\n7    100\n8    100\n9    100\ndtype: int64"
     },
     "execution_count": 29,
     "metadata": {},
     "output_type": "execute_result"
    }
   ],
   "source": [
    "obj4[0] = -99.9999\n",
    "obj4  # 数据类型仍为int;obj4[0]丢失精度变为-99"
   ],
   "metadata": {
    "collapsed": false,
    "pycharm": {
     "name": "#%%\n"
    }
   }
  },
  {
   "cell_type": "code",
   "execution_count": 30,
   "outputs": [
    {
     "data": {
      "text/plain": "0     -99\n1    duan\n2     100\n3     100\n4     100\n5     100\n6     100\n7     100\n8     100\n9     100\ndtype: object"
     },
     "execution_count": 30,
     "metadata": {},
     "output_type": "execute_result"
    }
   ],
   "source": [
    "obj4[1] = 'duan'\n",
    "obj4  # dtype被综合成object类型"
   ],
   "metadata": {
    "collapsed": false,
    "pycharm": {
     "name": "#%%\n"
    }
   }
  },
  {
   "cell_type": "code",
   "execution_count": 31,
   "outputs": [
    {
     "name": "stdout",
     "output_type": "stream",
     "text": [
      "<class 'int'>\n",
      "<class 'str'>\n",
      "<class 'int'>\n"
     ]
    }
   ],
   "source": [
    "# 其他元素数据类型不变\n",
    "print(type(obj4[0]))\n",
    "print(type(obj4[1]))\n",
    "print(type(obj4[2]))"
   ],
   "metadata": {
    "collapsed": false,
    "pycharm": {
     "name": "#%%\n"
    }
   }
  },
  {
   "cell_type": "code",
   "execution_count": 31,
   "outputs": [],
   "source": [],
   "metadata": {
    "collapsed": false,
    "pycharm": {
     "name": "#%%\n"
    }
   }
  }
 ],
 "metadata": {
  "language_info": {
   "codemirror_mode": {
    "name": "ipython",
    "version": 2
   },
   "file_extension": ".py",
   "mimetype": "text/x-python",
   "name": "python",
   "nbconvert_exporter": "python",
   "pygments_lexer": "ipython2",
   "version": "2.7.6"
  },
  "kernelspec": {
   "name": "python3",
   "language": "python",
   "display_name": "Python 3"
  },
  "stem_cell": {
   "cell_type": "raw",
   "source": "",
   "metadata": {
    "pycharm": {
     "metadata": false
    }
   }
  }
 },
 "nbformat": 4,
 "nbformat_minor": 0
}