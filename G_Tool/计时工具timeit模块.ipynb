{
 "cells": [
  {
   "cell_type": "code",
   "execution_count": 27,
   "metadata": {
    "collapsed": true,
    "pycharm": {
     "is_executing": false,
     "name": "#%%\n"
    }
   },
   "outputs": [
    {
     "name": "stdout",
     "text": [
      "2.5958117150000817\n"
     ],
     "output_type": "stream"
    }
   ],
   "source": [
    "import timeit\n",
    " \n",
    "print(timeit.timeit(stmt=\"[i for i in range(1000)]\", number=100000)) # 测试语句\n",
    "# number:被测试的函数或语句执行的次数"
   ]
  },
  {
   "cell_type": "code",
   "execution_count": 30,
   "outputs": [],
   "source": [
    "def add():\n",
    "    \"\"\"待测试函数\"\"\"\n",
    "    return sum(range(111))"
   ],
   "metadata": {
    "collapsed": false,
    "pycharm": {
     "name": "#%%\n",
     "is_executing": false
    }
   }
  },
  {
   "cell_type": "code",
   "execution_count": 31,
   "outputs": [
    {
     "name": "stdout",
     "text": [
      "0.11446872099998018\n"
     ],
     "output_type": "stream"
    }
   ],
   "source": [
    "t = timeit.timeit(stmt=add, number=100000) # 测试函数\n",
    "print(t)"
   ],
   "metadata": {
    "collapsed": false,
    "pycharm": {
     "name": "#%%\n",
     "is_executing": false
    }
   }
  },
  {
   "cell_type": "code",
   "execution_count": 33,
   "outputs": [
    {
     "name": "stdout",
     "text": [
      "[0.11129151900001943, 0.11000187600006939, 0.11613739599999917, 0.11589425500005746, 0.1157618709999042, 0.11611547799998334, 0.11640654699999686, 0.11595094799997696, 0.11601173399992604, 0.11918426099998669]\n"
     ],
     "output_type": "stream"
    }
   ],
   "source": [
    " \n",
    "t = timeit.repeat(stmt=add, number=100000, repeat=10) # 重复测试10次\n",
    "# repeat:重复测试的次数\n",
    "print(t)"
   ],
   "metadata": {
    "collapsed": false,
    "pycharm": {
     "name": "#%%\n",
     "is_executing": false
    }
   }
  },
  {
   "cell_type": "code",
   "execution_count": null,
   "outputs": [],
   "source": [
    "\n"
   ],
   "metadata": {
    "collapsed": false,
    "pycharm": {
     "name": "#%%\n"
    }
   }
  }
 ],
 "metadata": {
  "kernelspec": {
   "display_name": "Python 3",
   "language": "python",
   "name": "python3"
  },
  "language_info": {
   "codemirror_mode": {
    "name": "ipython",
    "version": 2
   },
   "file_extension": ".py",
   "mimetype": "text/x-python",
   "name": "python",
   "nbconvert_exporter": "python",
   "pygments_lexer": "ipython2",
   "version": "2.7.6"
  },
  "pycharm": {
   "stem_cell": {
    "cell_type": "raw",
    "source": [],
    "metadata": {
     "collapsed": false
    }
   }
  }
 },
 "nbformat": 4,
 "nbformat_minor": 0
}