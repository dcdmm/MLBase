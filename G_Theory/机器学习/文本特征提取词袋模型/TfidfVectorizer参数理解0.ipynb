{
 "cells": [
  {
   "cell_type": "code",
   "execution_count": 1,
   "metadata": {
    "collapsed": true
   },
   "outputs": [],
   "source": [
    "from sklearn.feature_extraction.text import TfidfVectorizer"
   ]
  },
  {
   "cell_type": "code",
   "execution_count": 2,
   "metadata": {
    "pycharm": {
     "name": "#%%\n"
    }
   },
   "outputs": [],
   "source": [
    "def my_preprecessos(document):\n",
    "    \"\"\"自定义的CountVectorizer的预处理函数\"\"\"\n",
    "    document = document.lower()\n",
    "    document = document.replace('and', \"\")\n",
    "    document = document.replace('at', \"\")\n",
    "    document = document.replace('has', \"\")\n",
    "    document = document.replace('of', \"\")\n",
    "    document = document.replace('be', \"\")\n",
    "    return document\n",
    "\n",
    "stop_word = ['as', 'at', 'was', 'were', 'when', 'to', 'on', 'of', 'has', 'in', 'an']\n",
    "\n",
    "with open('data.txt', 'r', encoding='utf-8') as f:\n",
    "    a = f.readlines()\n",
    "\n",
    "# 以下参数含义与CountVectorizer参数含义相同\n",
    "vectorizer = TfidfVectorizer(ngram_range=(1, 1),\n",
    "                             max_df=0.7,\n",
    "                             min_df=0.2,\n",
    "                             max_features=10,\n",
    "                             stop_words=stop_word,\n",
    "                             preprocessor=my_preprecessos)\n",
    "X = vectorizer.fit_transform(a)"
   ]
  },
  {
   "cell_type": "code",
   "execution_count": 3,
   "metadata": {
    "pycharm": {
     "name": "#%%\n"
    }
   },
   "outputs": [
    {
     "data": {
      "text/plain": [
       "['are',\n",
       " 'do',\n",
       " 'his',\n",
       " 'is',\n",
       " 'oneself',\n",
       " 'suddenly',\n",
       " 'th',\n",
       " 'the',\n",
       " 'those',\n",
       " 'years']"
      ]
     },
     "execution_count": 3,
     "metadata": {},
     "output_type": "execute_result"
    }
   ],
   "source": [
    "vectorizer.get_feature_names()"
   ]
  },
  {
   "cell_type": "code",
   "execution_count": 4,
   "metadata": {
    "pycharm": {
     "name": "#%%\n"
    }
   },
   "outputs": [
    {
     "data": {
      "text/plain": [
       "{'the': 7,\n",
       " 'his': 2,\n",
       " 'oneself': 4,\n",
       " 'do': 1,\n",
       " 'years': 9,\n",
       " 'suddenly': 5,\n",
       " 'are': 0,\n",
       " 'th': 6,\n",
       " 'those': 8,\n",
       " 'is': 3}"
      ]
     },
     "execution_count": 4,
     "metadata": {},
     "output_type": "execute_result"
    }
   ],
   "source": [
    "vectorizer.vocabulary_"
   ]
  },
  {
   "cell_type": "code",
   "execution_count": 4,
   "metadata": {
    "pycharm": {
     "name": "#%%\n"
    }
   },
   "outputs": [],
   "source": [
    "\n"
   ]
  }
 ],
 "metadata": {
  "kernelspec": {
   "display_name": "Python 3",
   "language": "python",
   "name": "python3"
  },
  "language_info": {
   "codemirror_mode": {
    "name": "ipython",
    "version": 3
   },
   "file_extension": ".py",
   "mimetype": "text/x-python",
   "name": "python",
   "nbconvert_exporter": "python",
   "pygments_lexer": "ipython3",
   "version": "3.7.9"
  },
  "toc": {
   "base_numbering": 1,
   "nav_menu": {},
   "number_sections": true,
   "sideBar": true,
   "skip_h1_title": false,
   "title_cell": "Table of Contents",
   "title_sidebar": "Contents",
   "toc_cell": false,
   "toc_position": {},
   "toc_section_display": true,
   "toc_window_display": false
  }
 },
 "nbformat": 4,
 "nbformat_minor": 1
}
