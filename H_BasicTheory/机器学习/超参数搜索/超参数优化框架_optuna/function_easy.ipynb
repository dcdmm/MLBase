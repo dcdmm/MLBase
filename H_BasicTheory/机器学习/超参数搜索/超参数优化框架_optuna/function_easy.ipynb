{
 "cells": [
  {
   "cell_type": "code",
   "execution_count": 22,
   "metadata": {
    "collapsed": true
   },
   "outputs": [],
   "source": [
    "import optuna"
   ]
  },
  {
   "cell_type": "code",
   "execution_count": 23,
   "outputs": [
    {
     "name": "stderr",
     "output_type": "stream",
     "text": [
      "\u001B[32m[I 2022-04-27 16:34:56,614]\u001B[0m A new study created in memory with name: no-name-ffc5af0d-a5b6-46ce-9ef3-a3fbb03d4014\u001B[0m\n",
      "\u001B[32m[I 2022-04-27 16:34:56,614]\u001B[0m Trial 0 finished with value: 49.89731597819562 and parameters: {'x': -5.063803223348993}. Best is trial 0 with value: 49.89731597819562.\u001B[0m\n",
      "\u001B[32m[I 2022-04-27 16:34:56,614]\u001B[0m Trial 1 finished with value: 44.84649267030392 and parameters: {'x': -4.696752397267194}. Best is trial 1 with value: 44.84649267030392.\u001B[0m\n",
      "\u001B[32m[I 2022-04-27 16:34:56,614]\u001B[0m Trial 2 finished with value: 134.90064179114952 and parameters: {'x': -9.614673555083222}. Best is trial 1 with value: 44.84649267030392.\u001B[0m\n",
      "\u001B[32m[I 2022-04-27 16:34:56,624]\u001B[0m Trial 3 finished with value: 29.42349029586749 and parameters: {'x': 7.4243423837242695}. Best is trial 3 with value: 29.42349029586749.\u001B[0m\n",
      "\u001B[32m[I 2022-04-27 16:34:56,624]\u001B[0m Trial 4 finished with value: 3.485666214890827 and parameters: {'x': 0.13300610207456032}. Best is trial 4 with value: 3.485666214890827.\u001B[0m\n",
      "\u001B[32m[I 2022-04-27 16:34:56,624]\u001B[0m Trial 5 finished with value: 14.751198567804245 and parameters: {'x': -1.8407289110016922}. Best is trial 4 with value: 3.485666214890827.\u001B[0m\n",
      "\u001B[32m[I 2022-04-27 16:34:56,624]\u001B[0m Trial 6 finished with value: 35.92528642100409 and parameters: {'x': -3.993770634667637}. Best is trial 4 with value: 3.485666214890827.\u001B[0m\n",
      "\u001B[32m[I 2022-04-27 16:34:56,624]\u001B[0m Trial 7 finished with value: 38.244281183671895 and parameters: {'x': -4.184196082246414}. Best is trial 4 with value: 3.485666214890827.\u001B[0m\n",
      "\u001B[32m[I 2022-04-27 16:34:56,624]\u001B[0m Trial 8 finished with value: 35.22994487473137 and parameters: {'x': -3.935481856996226}. Best is trial 4 with value: 3.485666214890827.\u001B[0m\n",
      "\u001B[32m[I 2022-04-27 16:34:56,624]\u001B[0m Trial 9 finished with value: 143.94647156745734 and parameters: {'x': -9.997769441336057}. Best is trial 4 with value: 3.485666214890827.\u001B[0m\n"
     ]
    }
   ],
   "source": [
    "def objective(trial):  # 第一个参数必须为trial\n",
    "    \"\"\"优化目标函数\"\"\"\n",
    "    x = trial.suggest_float('x', -10, 10)\n",
    "    return (x - 2) ** 2\n",
    "\n",
    "\n",
    "study = optuna.create_study(direction=\"minimize\")  # 优化方向\n",
    "study.optimize(objective,\n",
    "               n_trials=10)  # 实验次数"
   ],
   "metadata": {
    "collapsed": false,
    "pycharm": {
     "name": "#%%\n"
    }
   }
  },
  {
   "cell_type": "code",
   "execution_count": 25,
   "outputs": [
    {
     "name": "stdout",
     "output_type": "stream",
     "text": [
      "3.485666214890827\n",
      "{'x': 0.13300610207456032}\n"
     ]
    }
   ],
   "source": [
    "# 最优结果\n",
    "print(study.best_value)\n",
    "\n",
    "# 最优参数\n",
    "print(study.best_params)"
   ],
   "metadata": {
    "collapsed": false,
    "pycharm": {
     "name": "#%%\n"
    }
   }
  }
 ],
 "metadata": {
  "kernelspec": {
   "display_name": "Python 3",
   "language": "python",
   "name": "python3"
  },
  "language_info": {
   "codemirror_mode": {
    "name": "ipython",
    "version": 2
   },
   "file_extension": ".py",
   "mimetype": "text/x-python",
   "name": "python",
   "nbconvert_exporter": "python",
   "pygments_lexer": "ipython2",
   "version": "2.7.6"
  }
 },
 "nbformat": 4,
 "nbformat_minor": 0
}