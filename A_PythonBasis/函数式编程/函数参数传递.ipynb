{
 "cells": [
  {
   "cell_type": "code",
   "execution_count": 9,
   "metadata": {
    "pycharm": {
     "is_executing": false,
     "name": "#%%\n"
    }
   },
   "outputs": [
    {
     "name": "stdout",
     "output_type": "stream",
     "text": [
      "duanmengmeng my love sure\n",
      "None\n"
     ]
    }
   ],
   "source": [
    "def my_function(name, word='very gooe'): # 默认参数\n",
    "    \"\"\"函数文档是为了让别人可以更好的理解你的函数(限定在三引号中)\"\"\"\n",
    "    print(name + \" my love \" + word)\n",
    "    return # 若没有return语句或return没有返回值,则返回None\n",
    "\n",
    "my_function('duanmengmeng', 'sure') # 位置参数\n",
    "my_function(word=\" sure\", name=\"duanmengmeng\") # 关键字参数\n",
    "my_function('duanchao') # 如果没有传递参数,则会使用默认参数\n",
    "print(my_function.__doc__) # 调用函数的默认属性__doc__查看函数文档"
   ]
  },
  {
   "cell_type": "code",
   "execution_count": 6,
   "metadata": {
    "pycharm": {
     "is_executing": false
    }
   },
   "outputs": [],
   "source": [
    "# 函数形参位置规则(必须):1,一般参数 2.默认参数 3.可变参数\n",
    "def f(str1='duanchao', *args, **kwargs): # 打包参数\n",
    "    # 如果参数中带有可变参数,那么可将其他参数设置为默认参数,这样不易出错\n",
    "    print(str1)\n",
    "    print(args)\n",
    "    print(kwargs, end='\\n\\n')\n",
    " \n",
    "l = [1, 2, 3]\n",
    "t = [4, 5, 6]\n",
    "d = {\"a\":7, \"b\":8, \"c\":9}"
   ]
  },
  {
   "cell_type": "code",
   "execution_count": 3,
   "metadata": {
    "pycharm": {
     "is_executing": false,
     "metadata": false,
     "name": "#%%\n"
    }
   },
   "outputs": [
    {
     "name": "stdout",
     "output_type": "stream",
     "text": [
      "duanchao\n",
      "()\n",
      "{}\n",
      "\n",
      "1\n",
      "(2,)\n",
      "{}\n",
      "\n",
      "1\n",
      "(2, 3, 'python')\n",
      "{}\n",
      "\n",
      "python\n",
      "()\n",
      "{'a': 1, 'b': 2, 'c': 3}\n",
      "\n"
     ]
    }
   ],
   "source": [
    "f()\n",
    "f(1, 2)\n",
    "f(1, 2, 3, \"python\")\n",
    "f(\"python\", a=1, b=2, c=3)"
   ]
  },
  {
   "cell_type": "code",
   "execution_count": 4,
   "metadata": {
    "pycharm": {
     "is_executing": false,
     "metadata": false,
     "name": "#%%\n"
    }
   },
   "outputs": [
    {
     "name": "stdout",
     "output_type": "stream",
     "text": [
      "python\n",
      "([1, 2, 3], {'a': 7, 'b': 8, 'c': 9})\n",
      "{}\n",
      "\n",
      "python\n",
      "(4, 5, 6)\n",
      "{}\n",
      "\n",
      "python\n",
      "(1, 2, 3)\n",
      "{'a': 7, 'b': 8, 'c': 9}\n",
      "\n",
      "python\n",
      "()\n",
      "{'q': 'winning', 'a': 7, 'b': 8, 'c': 9}\n",
      "\n"
     ]
    }
   ],
   "source": [
    "f(\"python\", l, d)\n",
    "f(\"python\", *t)\n",
    "f(\"python\", *l, **d) # 解包\n",
    "f(\"python\", q=\"winning\", **d)"
   ]
  },
  {
   "cell_type": "code",
   "execution_count": null,
   "metadata": {
    "pycharm": {
     "metadata": false,
     "name": "#%%\n"
    }
   },
   "outputs": [],
   "source": [
    "\n"
   ]
  }
 ],
 "metadata": {
  "kernelspec": {
   "display_name": "Python 3",
   "language": "python",
   "name": "python3"
  },
  "language_info": {
   "codemirror_mode": {
    "name": "ipython",
    "version": 3
   },
   "file_extension": ".py",
   "mimetype": "text/x-python",
   "name": "python",
   "nbconvert_exporter": "python",
   "pygments_lexer": "ipython3",
   "version": "3.7.9"
  },
  "toc": {
   "base_numbering": 1,
   "nav_menu": {},
   "number_sections": true,
   "sideBar": true,
   "skip_h1_title": false,
   "title_cell": "Table of Contents",
   "title_sidebar": "Contents",
   "toc_cell": false,
   "toc_position": {},
   "toc_section_display": true,
   "toc_window_display": false
  }
 },
 "nbformat": 4,
 "nbformat_minor": 1
}