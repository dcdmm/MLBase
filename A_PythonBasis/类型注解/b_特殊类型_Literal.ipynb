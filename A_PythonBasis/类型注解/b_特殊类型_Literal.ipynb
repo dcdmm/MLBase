{
 "cells": [
  {
   "cell_type": "code",
   "execution_count": 21,
   "id": "initial_id",
   "metadata": {
    "collapsed": true,
    "ExecuteTime": {
     "end_time": "2024-10-16T07:07:36.105108Z",
     "start_time": "2024-10-16T07:07:36.102103Z"
    }
   },
   "outputs": [],
   "source": [
    "from typing import Any, Literal"
   ]
  },
  {
   "cell_type": "code",
   "outputs": [],
   "source": [
    "# Literal can be used to indicate to type checkers that the annotated object has a value equivalent to one of the provided literals.\n",
    "def validate_simple(data: Any) -> Literal[True]:  # always returns True\n",
    "    ..."
   ],
   "metadata": {
    "collapsed": false,
    "ExecuteTime": {
     "end_time": "2024-10-16T07:07:36.112680Z",
     "start_time": "2024-10-16T07:07:36.109624Z"
    }
   },
   "id": "4526ba85da80afd7",
   "execution_count": 22
  },
  {
   "cell_type": "code",
   "outputs": [],
   "source": [
    "def open_helper(file: str, mode: Literal['r', 'rb', 'w', 'wb']) -> str:\n",
    "    ...\n",
    "\n",
    "\n",
    "open_helper('/some/path', 'r')  # Passes type check\n",
    "open_helper('/other/path', 'typo')  # Error in type checker"
   ],
   "metadata": {
    "collapsed": false,
    "ExecuteTime": {
     "end_time": "2024-10-16T07:07:36.120333Z",
     "start_time": "2024-10-16T07:07:36.113685Z"
    }
   },
   "id": "344691cff19c1e64",
   "execution_count": 23
  }
 ],
 "metadata": {
  "kernelspec": {
   "display_name": "Python 3",
   "language": "python",
   "name": "python3"
  },
  "language_info": {
   "codemirror_mode": {
    "name": "ipython",
    "version": 2
   },
   "file_extension": ".py",
   "mimetype": "text/x-python",
   "name": "python",
   "nbconvert_exporter": "python",
   "pygments_lexer": "ipython2",
   "version": "2.7.6"
  }
 },
 "nbformat": 4,
 "nbformat_minor": 5
}
