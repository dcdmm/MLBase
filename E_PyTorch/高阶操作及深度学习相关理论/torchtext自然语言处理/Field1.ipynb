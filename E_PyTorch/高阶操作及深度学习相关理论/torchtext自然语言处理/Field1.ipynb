{
 "cells": [
  {
   "cell_type": "code",
   "execution_count": 1,
   "metadata": {
    "collapsed": true
   },
   "outputs": [],
   "source": [
    "from torchtext.datasets import LanguageModelingDataset\n",
    "import torchtext.data as data\n",
    "import spacy\n",
    "import jieba"
   ]
  },
  {
   "cell_type": "code",
   "execution_count": 2,
   "outputs": [],
   "source": [
    "def my_spacy_tokenize(text):\n",
    "    \"\"\"spacy分词(也可以进行中文分词)\"\"\"\n",
    "    nlp_en = spacy.load('en_core_web_sm')\n",
    "    return [tok.text for tok in nlp_en(text)]"
   ],
   "metadata": {
    "collapsed": false,
    "pycharm": {
     "name": "#%%\n"
    }
   }
  },
  {
   "cell_type": "code",
   "execution_count": 3,
   "outputs": [
    {
     "name": "stderr",
     "output_type": "stream",
     "text": [
      "C:\\Users\\duanm\\anaconda3\\lib\\site-packages\\torchtext\\data\\field.py:150: UserWarning: Field class will be retired in the 0.8.0 release and moved to torchtext.legacy. Please see 0.7.0 release notes for further information.\n",
      "  warnings.warn('{} class will be retired in the 0.8.0 release and moved to torchtext.legacy. Please see 0.7.0 release notes for further information.'.format(self.__class__.__name__), UserWarning)\n",
      "C:\\Users\\duanm\\anaconda3\\lib\\site-packages\\torchtext\\data\\example.py:78: UserWarning: Example class will be retired in the 0.8.0 release and moved to torchtext.legacy. Please see 0.7.0 release notes for further information.\n",
      "  warnings.warn('Example class will be retired in the 0.8.0 release and moved to torchtext.legacy. Please see 0.7.0 release notes for further information.', UserWarning)\n"
     ]
    }
   ],
   "source": [
    "TEXT_spacy = data.Field(tokenize=my_spacy_tokenize) # 默认tokenize=None,即按空格进行分词\n",
    "'''\n",
    "# torkenize=None时,执行代码如下\n",
    "if tokenizer is None:\n",
    "    return _split_tokenizer\n",
    "\n",
    "def _split_tokenizer(x):\n",
    "    return x.split()\n",
    "'''\n",
    "train = LanguageModelingDataset.splits(path=\"test_text/\",\n",
    "                                       train=\"train.txt\",\n",
    "                                       text_field=TEXT_spacy)"
   ],
   "metadata": {
    "collapsed": false,
    "pycharm": {
     "name": "#%%\n"
    }
   }
  },
  {
   "cell_type": "code",
   "execution_count": 4,
   "outputs": [
    {
     "data": {
      "text/plain": "['Became',\n 'a',\n 'searcher',\n ',',\n '     ',\n 'wanting',\n 'to',\n 'find',\n 'out',\n 'who',\n 'I',\n 'was',\n 'and',\n 'what',\n 'made',\n 'me',\n 'unique',\n '.',\n 'My',\n 'view',\n 'of',\n 'myself',\n 'was',\n 'changing',\n '.',\n 'I',\n 'wanted',\n 'a',\n 'solid',\n 'base',\n 'to',\n 'start',\n 'from',\n '.',\n 'I',\n 'started',\n 'to',\n 'resist3',\n 'pressure',\n 'to',\n 'act',\n 'in',\n 'ways',\n 'that',\n 'I',\n 'did',\n 'n’t',\n 'like',\n 'any',\n 'more',\n ',',\n 'and',\n 'I',\n 'was',\n 'delighted',\n 'by',\n 'who',\n 'I',\n 'really',\n 'was',\n '.',\n 'I',\n 'came',\n 'to',\n 'feel',\n 'much',\n 'more',\n 'sure',\n 'that',\n 'no',\n 'one',\n 'can',\n 'ever',\n 'take',\n 'my',\n 'place',\n '.',\n 'Each',\n 'of',\n 'us',\n 'holds',\n 'a',\n 'unique',\n 'place',\n 'in',\n 'the',\n 'world',\n '.',\n 'You',\n 'are',\n 'special',\n ',',\n 'no',\n 'matter',\n 'what',\n 'others',\n 'say',\n 'or',\n 'what',\n 'you',\n 'may',\n 'think',\n '.',\n 'So',\n 'forget',\n 'about',\n 'being',\n 'replaced',\n '.',\n 'You',\n 'ca',\n 'n’t',\n 'be',\n '.',\n '段超写于2020年8月18日',\n '!',\n '<eos>']"
     },
     "execution_count": 4,
     "metadata": {},
     "output_type": "execute_result"
    }
   ],
   "source": [
    "train[0].examples[0].text"
   ],
   "metadata": {
    "collapsed": false,
    "pycharm": {
     "name": "#%%\n"
    }
   }
  },
  {
   "cell_type": "code",
   "execution_count": 5,
   "outputs": [],
   "source": [
    "def my_jieba_tokenize(text):\n",
    "    \"\"\"jieba中文分词\"\"\"\n",
    "    return jieba.lcut(text, cut_all=False)"
   ],
   "metadata": {
    "collapsed": false,
    "pycharm": {
     "name": "#%%\n"
    }
   }
  },
  {
   "cell_type": "code",
   "execution_count": 6,
   "outputs": [],
   "source": [
    "TEXT_jieba = data.Field(tokenize=my_jieba_tokenize)"
   ],
   "metadata": {
    "collapsed": false,
    "pycharm": {
     "name": "#%%\n"
    }
   }
  },
  {
   "cell_type": "code",
   "execution_count": 7,
   "outputs": [
    {
     "name": "stderr",
     "output_type": "stream",
     "text": [
      "Building prefix dict from the default dictionary ...\n",
      "Loading model from cache C:\\Users\\duanm\\AppData\\Local\\Temp\\jieba.cache\n",
      "Loading model cost 0.855 seconds.\n",
      "Prefix dict has been built successfully.\n"
     ]
    }
   ],
   "source": [
    "xiyouji = LanguageModelingDataset.splits(path=\"test_text/\",\n",
    "                                         train=\"NBA.txt\",\n",
    "                                         text_field=TEXT_jieba)"
   ],
   "metadata": {
    "collapsed": false,
    "pycharm": {
     "name": "#%%\n"
    }
   }
  },
  {
   "cell_type": "code",
   "execution_count": 8,
   "outputs": [
    {
     "data": {
      "text/plain": "['北京',\n '时间',\n '2',\n '月',\n '20',\n '日',\n '，',\n '2017',\n '年',\n 'NBA',\n '全明星',\n '正赛',\n '开始',\n '之前',\n '的',\n '训练',\n '中',\n '出现',\n '了',\n '有趣',\n '的',\n '一幕',\n '，',\n '起初',\n '，',\n '威少',\n '脱离',\n '其他',\n '西部',\n '全明星',\n '球员',\n '而',\n '独自',\n '练习',\n '投篮',\n '。',\n '但是',\n '在',\n '全队',\n '跑',\n '篮',\n '的',\n '过程',\n '中',\n '，',\n '威少',\n '加入',\n '了',\n '西部',\n '全',\n '明星队',\n '，',\n '并且',\n '还',\n '和',\n '凯文',\n '-',\n '杜兰特',\n '出现',\n '了',\n '一些',\n '互动',\n '。',\n '<eos>',\n '\\u3000',\n '\\u3000',\n '从',\n '推特上',\n '媒体',\n '拍',\n '的',\n '照片',\n '来看',\n '，',\n '西部',\n '全明星',\n '球员',\n '的',\n '赛前',\n '投篮',\n '热身',\n '中',\n '，',\n '威少',\n '一个',\n '人',\n '在',\n '一个',\n '半场',\n '投篮',\n '，',\n '而',\n '其他',\n '西部',\n '全明星',\n '球员',\n '则',\n '在',\n '另',\n '一个',\n '半场',\n '投篮',\n '。',\n '看来',\n '对于',\n '杜兰特',\n '，',\n '威少',\n '开始',\n '是',\n '拒绝',\n '的',\n '。',\n '<eos>',\n '\\u3000',\n '\\u3000',\n '在',\n '外界',\n '看来',\n '，',\n '威少',\n '是',\n '在',\n '刻意',\n '避开',\n '杜兰特',\n '。',\n '也许',\n '是',\n '看',\n '威少',\n '一个',\n '人',\n '投篮',\n '太',\n '孤独',\n '，',\n '詹姆斯',\n '-',\n '哈登',\n '随后',\n '加入',\n '了',\n '威少',\n '。',\n '<eos>',\n '\\u3000',\n '\\u3000',\n '然而',\n '在',\n '之后',\n '的',\n '全队',\n '跑',\n '篮中',\n '，',\n '威少',\n '加入',\n '了',\n '西部',\n '全',\n '明星队',\n '，',\n '而且',\n '还',\n '和',\n '杜兰特',\n '出现',\n '了',\n '大家',\n '期待',\n '的',\n '互动',\n '，',\n '他们',\n '互相',\n '传球',\n '了',\n '！',\n '<eos>',\n '\\u3000',\n '\\u3000',\n '据',\n '了解',\n '，',\n '杜兰特',\n '还',\n '为',\n '威少',\n '送出',\n '上篮',\n '助攻',\n '。',\n '而',\n '勇士',\n '记者',\n '安东尼',\n '-',\n '斯莱特',\n '在',\n '推特上',\n '表示',\n '：',\n '“',\n '虽然',\n '威少',\n '和',\n '杜兰特',\n '并',\n '没有',\n '变得',\n '友好',\n '，',\n '但是',\n '他们',\n '也',\n '没有',\n '忽视',\n '对方',\n '：',\n 'KD',\n '和',\n '威少',\n '互相',\n '为',\n '对方',\n '传球',\n '和',\n '抢',\n '篮板',\n '。',\n '”',\n '<eos>',\n '<eos>',\n '“',\n '天呐',\n '，',\n '天呐',\n '，',\n '看见',\n '了',\n '没',\n '？',\n '杜兰特',\n '的',\n '更衣柜',\n '刚好',\n '在',\n '韦',\n '斯布鲁克',\n '更衣柜',\n '的',\n '对面',\n '。',\n '”',\n '梅',\n '拉斯',\n '这样',\n '写道',\n '。',\n '随后',\n '他',\n '还',\n '发布',\n '了',\n '一段',\n '小视频',\n '，',\n '可以',\n '清楚',\n '的',\n '看出',\n '，',\n '韦',\n '斯布鲁克',\n '与',\n '杜兰特',\n '之间',\n '，',\n '相隔',\n '了',\n '7',\n '名',\n '球员',\n '。',\n '<eos>',\n '在',\n '韦',\n '斯布鲁克',\n '身旁',\n '的',\n '，',\n '是',\n '身披',\n '15',\n '号',\n '的',\n '考辛斯',\n '，',\n '而',\n '杜兰特',\n '则',\n '位于',\n '对角',\n '位置',\n '。',\n '他',\n '的',\n '左侧',\n '位置',\n '是',\n '汤普森',\n '、',\n '库里',\n '以及',\n '格林',\n '。',\n '勇士',\n '四人组',\n '的',\n '更衣柜',\n '位置',\n '，',\n '是',\n '挨',\n '在',\n '一块儿',\n '的',\n '。',\n '<eos>',\n '尽管',\n '昔日',\n '同',\n '在',\n '雷霆',\n '效力',\n '，',\n '但',\n '杜',\n '韦二少',\n '如今',\n '关系',\n '非常',\n '恶劣',\n '。',\n '勇士',\n '客场',\n '击败',\n '雷霆',\n '赛后',\n '，',\n '两人',\n '先后',\n '进入',\n '一家',\n '牛排馆',\n '吃饭',\n '，',\n '相隔',\n '五米',\n '，',\n '全程',\n '毫无',\n '交流',\n '。',\n '到',\n '了',\n '全明星',\n '周末',\n '期间',\n '，',\n '韦',\n '斯布鲁克',\n '与',\n '杜兰特',\n '也',\n '曾',\n '迎面',\n '碰到',\n '过',\n '。',\n '不过',\n '两人',\n '都',\n '装作',\n '没有',\n '看见',\n '，',\n '宛若',\n '对方',\n '是',\n '空气',\n '一般',\n '。',\n '<eos>',\n '破裂',\n '的',\n '感情',\n '如何',\n '去',\n '修复',\n '？',\n '或许',\n '只能',\n '依靠',\n '时间',\n '。',\n '有趣',\n '的',\n '是',\n '，',\n '在',\n '昨天',\n '的',\n '三分球',\n '大赛',\n '上',\n '，',\n '现场',\n '的',\n '主持人',\n '在',\n '介绍',\n '到场',\n '嘉宾',\n '时',\n '出现',\n '口误',\n '，',\n '将',\n '端坐',\n '在',\n '场边',\n '的',\n '杜兰特',\n '称为',\n '“',\n '来自',\n '俄克拉荷马',\n '”',\n '，',\n '为此',\n '杜兰特',\n '显得',\n '一脸',\n '不爽',\n '。',\n '<eos>',\n '<eos>',\n '本届',\n '全明星',\n '正赛',\n '，',\n '最大',\n '的',\n '看点',\n '就是',\n '杜韦二少',\n '的',\n '重逢',\n '会',\n '擦',\n '出',\n '怎样',\n '的',\n '火花',\n '，',\n '而',\n '这',\n '一切',\n '都',\n '掌握',\n '在',\n '勇士',\n '主帅',\n '史蒂夫',\n '-',\n '科尔',\n '的',\n '手里',\n '。',\n '同时',\n '，',\n '韦少',\n '能否',\n '完成',\n '全明星',\n 'MVP',\n '的',\n '三连庄',\n '成为',\n '了',\n '这次',\n '正赛',\n '的',\n '另',\n '一个',\n '噱头',\n '。',\n '张卫平',\n '指导',\n '对',\n '本次',\n '正赛',\n '也',\n '有',\n '他',\n '自己',\n '的',\n '看法',\n '，',\n '让',\n '我们',\n '看看',\n '他',\n '是',\n '怎么',\n '说',\n '的',\n '。',\n '<eos>',\n '张卫平',\n '预测',\n '全明星',\n '正赛',\n '：',\n '3',\n '因素',\n '助',\n '韦少',\n 'MVP',\n '三连庄',\n ' ',\n '<eos>',\n '张卫平',\n '指导',\n '预测',\n '全明星',\n '正赛',\n '结果',\n '<eos>',\n '对于',\n '全明星赛',\n 'MVP',\n '的',\n '归属',\n '，',\n '张',\n '指导',\n '认为',\n '韦少',\n '当选',\n '的',\n '机会',\n '很大',\n '。',\n '韦少',\n '已经',\n '连续',\n '两年',\n '成为',\n '全明星',\n 'MVP',\n '的',\n '归属',\n '。',\n '（',\n '2015',\n '年',\n '全明星赛',\n '韦少',\n '轰下',\n '41',\n '分',\n '夺得',\n '全明星赛',\n 'MVP',\n '。',\n '2016',\n '年',\n '全明星赛',\n '他',\n '又',\n '砍',\n '下',\n '31',\n '分',\n '蝉联',\n '了',\n '全明星赛',\n 'MVP',\n '。',\n '韦少',\n '成为',\n '了',\n '继',\n '佩蒂特',\n '之后',\n 'NBA',\n '历史',\n '上',\n '第二位',\n '蝉联',\n '全明星赛',\n 'MVP',\n '的',\n '球员',\n '。',\n '）',\n '如果',\n '韦少',\n '今年',\n '再夺',\n '全明星赛',\n 'MVP',\n '，',\n '那么',\n '他',\n '将',\n '成为',\n 'NBA',\n '史上',\n '第一位',\n '完成',\n '全明星赛',\n 'MVP',\n '三连庄',\n '的',\n '球员',\n '，',\n '因此',\n '他',\n '将',\n '为',\n '这个',\n '目标',\n '全力',\n '冲击',\n '。',\n '<eos>',\n '为什么',\n '这么',\n '说',\n '呢',\n '？',\n '首先',\n '，',\n '前',\n '凯尔特人',\n '队',\n '，',\n '现',\n '快船队',\n '主教练',\n '道格',\n '-',\n '里',\n '弗斯',\n '向',\n '科尔',\n '提',\n '建议',\n '，',\n '要',\n '让',\n '自己',\n '的',\n '死敌',\n '在',\n '全明星赛',\n '上',\n '疯狂',\n '地',\n '发挥',\n '，',\n '免得',\n '将来',\n '和',\n '他',\n '见面',\n '的',\n '时候',\n '他',\n '和',\n '你',\n '玩命',\n '。',\n '现在',\n '勇士',\n '在',\n '西部',\n '的',\n '死敌',\n '就是',\n '韦少',\n '带领',\n '的',\n '雷霆',\n '。',\n '究其原因',\n '，',\n '还是',\n '因为',\n '杜兰特',\n '和',\n '韦少',\n '之间',\n '冗长',\n '的',\n '肥皂剧',\n '。',\n '因此',\n '，',\n '科尔',\n '一定',\n '会',\n '让',\n '韦少',\n '在',\n '全明星赛',\n '上',\n '打个',\n '痛快',\n '。',\n '<eos>',\n '其次',\n '，',\n '张',\n '指导',\n '认为',\n '，',\n '勇士',\n '四',\n '巨头',\n '不会',\n '因为',\n '科尔',\n '在',\n '全明星赛',\n '上',\n '控制',\n '他们',\n '的',\n '出场',\n '时间',\n '而',\n '埋怨',\n '自己',\n '的',\n '主教练',\n '，',\n '但',\n '你',\n '的',\n '对手',\n '会',\n '因为',\n '你',\n '对',\n '他',\n '的',\n '怠慢',\n '而',\n '记下',\n '仇来',\n '。',\n '因此',\n '，',\n '科尔',\n '不出意外',\n '应该',\n '会',\n '听从',\n '里',\n '弗斯',\n '的',\n '建议',\n '，',\n '让',\n '韦少',\n '玩命',\n '打',\n '。',\n '<eos>',\n '第三点',\n '，',\n '从',\n '韦少',\n '自己',\n '的',\n '性格',\n '来看',\n '，',\n '虽然',\n '全明星赛',\n '是',\n '个',\n '娱乐',\n '性质',\n '的',\n '比赛',\n '，',\n '没有',\n '人',\n '特别',\n '认真',\n '地去',\n '打',\n '，',\n '但是',\n '韦少',\n '不会',\n '在意',\n '这些',\n '的',\n '，',\n '他',\n '的',\n '特点',\n '是',\n '上场',\n '就',\n '干',\n '，',\n '这',\n '就是',\n '他',\n '的',\n '性格',\n '。',\n '两次',\n '全明星',\n 'MVP',\n '就是',\n '最好',\n '的',\n '佐证',\n '，',\n '大伙',\n '也',\n '心照不宣',\n '。',\n '而且',\n '韦少',\n '目前',\n '虽然',\n '保持',\n '着场',\n '均',\n '三双',\n '，',\n '但',\n '却',\n '不是',\n '全明星',\n '先发',\n '，',\n '这',\n '让',\n '他',\n '在',\n '心里',\n '一直',\n '憋着',\n '一口气',\n '证明',\n '自己',\n '。',\n '<eos>',\n '如此',\n '看来',\n '，',\n '如果',\n '科尔',\n '选择',\n '让',\n '韦少',\n '战个',\n '痛快',\n '，',\n '再',\n '加上',\n '韦少',\n '自己',\n '的',\n '性格',\n '，',\n '他',\n '的',\n '第三座',\n '全明星',\n 'MVP',\n '应该',\n '是',\n '稳稳地',\n '收下',\n '了',\n '。',\n '但是',\n '张',\n '指导',\n '说',\n '了',\n '，',\n '不能',\n '说',\n '韦少',\n '一定',\n '能',\n '拿',\n 'MVP',\n '，',\n '这',\n '只是',\n '个',\n '预测',\n '，',\n '具体',\n '的',\n '结果',\n '还是',\n '要',\n '看',\n '临场',\n '的',\n '发挥',\n '。',\n '（',\n '栗旬',\n '）',\n '<eos>',\n '<eos>',\n '<eos>']"
     },
     "execution_count": 8,
     "metadata": {},
     "output_type": "execute_result"
    }
   ],
   "source": [
    "xiyouji[0].examples[0].text"
   ],
   "metadata": {
    "collapsed": false,
    "pycharm": {
     "name": "#%%\n"
    }
   }
  },
  {
   "cell_type": "code",
   "execution_count": 8,
   "outputs": [],
   "source": [
    "\n"
   ],
   "metadata": {
    "collapsed": false,
    "pycharm": {
     "name": "#%%\n"
    }
   }
  }
 ],
 "metadata": {
  "kernelspec": {
   "display_name": "Python 3",
   "language": "python",
   "name": "python3"
  },
  "language_info": {
   "codemirror_mode": {
    "name": "ipython",
    "version": 2
   },
   "file_extension": ".py",
   "mimetype": "text/x-python",
   "name": "python",
   "nbconvert_exporter": "python",
   "pygments_lexer": "ipython2",
   "version": "2.7.6"
  }
 },
 "nbformat": 4,
 "nbformat_minor": 0
}