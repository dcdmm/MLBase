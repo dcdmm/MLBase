{
 "cells": [
  {
   "cell_type": "markdown",
   "source": [
    "## 排序(sort_index,sort_values)\n",
    "## 排名(rank)"
   ],
   "metadata": {
    "pycharm": {
     "metadata": false,
     "name": "#%% md\n"
    }
   }
  },
  {
   "cell_type": "code",
   "execution_count": 6,
   "outputs": [
    {
     "name": "stdout",
     "output_type": "stream",
     "text": [
      "1    c\n",
      "2    b\n",
      "3    a\n",
      "4    d\n",
      "dtype: object\n",
      "4    d\n",
      "3    a\n",
      "2    b\n",
      "1    c\n",
      "dtype: object\n",
      "\n",
      "3    a\n",
      "2    b\n",
      "1    c\n",
      "4    d\n",
      "dtype: object\n",
      "4    d\n",
      "1    c\n",
      "2    b\n",
      "3    a\n",
      "dtype: object\n"
     ]
    },
    {
     "data": {
      "text/plain": "'\\nascending : bool, default True\\n    If True, sort values in ascending order, otherwise descending.\\n'"
     },
     "execution_count": 6,
     "metadata": {},
     "output_type": "execute_result"
    }
   ],
   "source": [
    "import numpy as np\n",
    "import pandas as pd\n",
    "\n",
    "s = pd.Series(['a', 'b', 'c', 'd'], index=[3, 2, 1, 4])\n",
    "print(s.sort_index())\n",
    "print(s.sort_index(ascending=False), end='\\n\\n')\n",
    "'''\n",
    "ascending : bool, default true\n",
    "    Sort ascending vs. descending.\n",
    "'''\n",
    "print(s.sort_values())\n",
    "print(s.sort_values(ascending=False))\n",
    "'''\n",
    "ascending : bool, default True\n",
    "    If True, sort values in ascending order, otherwise descending.\n",
    "'''"
   ],
   "metadata": {
    "pycharm": {
     "metadata": false,
     "name": "#%%\n"
    }
   }
  },
  {
   "cell_type": "code",
   "execution_count": 7,
   "outputs": [
    {
     "name": "stdout",
     "output_type": "stream",
     "text": [
      "0    7\n",
      "1   -5\n",
      "2    7\n",
      "3    4\n",
      "4    2\n",
      "5    0\n",
      "6    4\n",
      "dtype: int64\n",
      "0    6.5\n",
      "1    1.0\n",
      "2    6.5\n",
      "3    4.5\n",
      "4    3.0\n",
      "5    2.0\n",
      "6    4.5\n",
      "dtype: float64\n",
      "0    6.0\n",
      "1    1.0\n",
      "2    7.0\n",
      "3    4.0\n",
      "4    3.0\n",
      "5    2.0\n",
      "6    5.0\n",
      "dtype: float64\n",
      "0    2.0\n",
      "1    7.0\n",
      "2    2.0\n",
      "3    4.0\n",
      "4    5.0\n",
      "5    6.0\n",
      "6    4.0\n",
      "dtype: float64\n"
     ]
    }
   ],
   "source": [
    "obj1 = pd.Series([7, -5, 7, 4, 2, 0, 4])\n",
    "print(obj1)\n",
    "print(obj1.rank()) # 默认method='average'\n",
    "'''\n",
    "method : {'average', 'min', 'max', 'first', 'dense'}\n",
    "    * average: average rank of group\n",
    "    * min: lowest rank in group\n",
    "    * max: highest rank in group\n",
    "    * first: ranks assigned in order they appear in the array\n",
    "    * dense: like 'min', but rank always increases by 1 between groups\n",
    "'''\n",
    "print(obj1.rank(method='first'))\n",
    "print(obj1.rank(ascending=False, method='max'))"
   ],
   "metadata": {
    "pycharm": {
     "metadata": false,
     "name": "#%%\n"
    }
   }
  },
  {
   "cell_type": "code",
   "execution_count": 8,
   "outputs": [
    {
     "name": "stdout",
     "output_type": "stream",
     "text": [
      "       d  a  b  c\n",
      "one    4  5  6  7\n",
      "three  0  1  2  3\n",
      "       a  b  c  d\n",
      "three  1  2  3  0\n",
      "one    5  6  7  4\n",
      "       d  c  b  a\n",
      "three  0  3  2  1\n",
      "one    4  7  6  5\n",
      "       d  c  b  a\n",
      "three  0  3  2  1\n",
      "one    4  7  6  5\n"
     ]
    }
   ],
   "source": [
    "frame = pd.DataFrame(np.arange(8).reshape((2, 4)),\n",
    "                     index=['three', 'one'],\n",
    "                     columns=['d', 'a', 'b', 'c'])\n",
    "\n",
    "print(frame.sort_index())\n",
    "print(frame.sort_index(axis=1)) # 默认axis=0\n",
    "'''\n",
    "axis : {0 or ‘index’, 1 or ‘columns’}, default 0\n",
    "    The axis along which to sort. The value 0 identifies the rows, and 1 identifies the columns.\n",
    "'''\n",
    "print(frame.sort_index(axis=1, ascending=False)) # 降序排列\n",
    "frame.sort_index(axis=1, ascending=False, inplace=True)\n",
    "'''\n",
    "level : int, optional\n",
    "    If not None, sort on values in specified index level(s).\n",
    "\n",
    "ascending : bool, default true\n",
    "    Sort ascending vs. descending.\n",
    "\n",
    "inplace : bool, default False\n",
    "    If True, perform operation in-place.\n",
    "'''\n",
    "print(frame)"
   ],
   "metadata": {
    "pycharm": {
     "metadata": false,
     "name": "#%%\n"
    }
   }
  },
  {
   "cell_type": "code",
   "execution_count": 9,
   "outputs": [
    {
     "name": "stdout",
     "output_type": "stream",
     "text": [
      "   b  a\n",
      "0  4  0\n",
      "1  7  1\n",
      "2 -3  0\n",
      "3  2  1\n",
      "\n",
      "   b  a\n",
      "2 -3  0\n",
      "3  2  1\n",
      "0  4  0\n",
      "1  7  1\n",
      "\n",
      "   b  a\n",
      "2 -3  0\n",
      "0  4  0\n",
      "3  2  1\n",
      "1  7  1\n"
     ]
    }
   ],
   "source": [
    "'''\n",
    "by : str or list of str\n",
    "    Name or list of names to sort by.\n",
    "        if axis is 0 or ‘index’ then by may contain index levels and/or column labels\n",
    "        if axis is 1 or ‘columns’ then by may contain column levels and/or index labels\n",
    "\n",
    "axis : {0 or ‘index’, 1 or ‘columns’}, default 0\n",
    "    Axis to be sorted\n",
    "\n",
    "ascending : bool or list of bool, default True\n",
    "    Sort ascending vs. descending. Specify list for multiple sort orders. If this is a list of bools, must match the length of the by.\n",
    "\n",
    "inplace : bool, default False\n",
    "    if True, perform operation in-place\n",
    "'''\n",
    "frame1 = pd.DataFrame({'b': [4, 7, -3, 2], 'a': [0, 1, 0, 1]})\n",
    "print(frame1, end='\\n\\n')\n",
    "print(frame1.sort_values(by='b'), end='\\n\\n')  # 单列排列\n",
    "print(frame1.sort_values(by=['a', 'b']))  # 多列排序"
   ],
   "metadata": {
    "pycharm": {
     "metadata": false,
     "name": "#%%\n"
    }
   }
  },
  {
   "cell_type": "code",
   "execution_count": 10,
   "outputs": [
    {
     "name": "stdout",
     "output_type": "stream",
     "text": [
      "     b  a    c\n",
      "0  4.3  0 -2.0\n",
      "1  7.0  1  5.0\n",
      "2 -3.0  0  8.0\n",
      "3  2.0  1 -2.5\n",
      "     b    a    c\n",
      "0  3.0  1.5  2.0\n",
      "1  4.0  3.5  3.0\n",
      "2  1.0  1.5  4.0\n",
      "3  2.0  3.5  1.0\n",
      "     b    a    c\n",
      "0  3.0  2.0  1.0\n",
      "1  3.0  1.0  2.0\n",
      "2  1.0  2.0  3.0\n",
      "3  3.0  2.0  1.0\n",
      "None\n",
      "     b    a    c\n",
      "0  3.0  2.0  1.0\n",
      "1  3.0  1.0  2.0\n",
      "2  1.0  2.0  3.0\n",
      "3  3.0  2.0  1.0\n",
      "None\n"
     ]
    }
   ],
   "source": "frame2 = pd.DataFrame({'b': [4.3, 7, -3, 2], 'a': [0, 1, 0, 1],\n                      'c': [-2, 5, 8, -2.5]})\nprint(frame2)\nprint(frame2.rank(axis=0))\nprint(print(frame2.rank(axis=1)))\nprint(print(frame2.rank(axis=1, method='min')))",
   "metadata": {
    "pycharm": {
     "metadata": false,
     "name": "#%%\n"
    }
   }
  },
  {
   "cell_type": "code",
   "execution_count": 10,
   "outputs": [],
   "source": "\n",
   "metadata": {
    "pycharm": {
     "metadata": false,
     "name": "#%%\n"
    }
   }
  }
 ],
 "metadata": {
  "language_info": {
   "codemirror_mode": {
    "name": "ipython",
    "version": 2
   },
   "file_extension": ".py",
   "mimetype": "text/x-python",
   "name": "python",
   "nbconvert_exporter": "python",
   "pygments_lexer": "ipython2",
   "version": "2.7.6"
  },
  "kernelspec": {
   "name": "python3",
   "language": "python",
   "display_name": "Python 3"
  },
  "stem_cell": {
   "cell_type": "raw",
   "source": "",
   "metadata": {
    "pycharm": {
     "metadata": false
    }
   }
  }
 },
 "nbformat": 4,
 "nbformat_minor": 0
}