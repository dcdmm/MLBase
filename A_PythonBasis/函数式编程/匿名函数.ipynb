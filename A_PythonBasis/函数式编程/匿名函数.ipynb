{
 "cells": [
  {
   "cell_type": "code",
   "execution_count": 3,
   "outputs": [
    {
     "name": "stdout",
     "output_type": "stream",
     "text": [
      "g的类型是 <function <lambda> at 0x0000022D5F7EDDC8>\n",
      "11\n"
     ]
    }
   ],
   "source": [
    "g = lambda x: 2*x+1\n",
    "print('g的类型是', g)\n",
    "print(g(5))"
   ],
   "metadata": {
    "collapsed": false,
    "pycharm": {
     "name": "#%%\n"
    }
   }
  },
  {
   "cell_type": "code",
   "execution_count": 4,
   "metadata": {},
   "outputs": [
    {
     "name": "stdout",
     "output_type": "stream",
     "text": [
      "s的类型是 <function <lambda> at 0x0000022D6153D9D8>\n",
      "8\n"
     ]
    }
   ],
   "source": [
    "s = lambda x, y: x + y\n",
    "print('s的类型是', s)\n",
    "print(s(3, 5))"
   ]
  },
  {
   "cell_type": "code",
   "execution_count": 5,
   "outputs": [
    {
     "name": "stdout",
     "output_type": "stream",
     "text": [
      "h的类型是 <function <lambda> at 0x0000022D62992C18>\n",
      "9\n"
     ]
    }
   ],
   "source": [
    "def func(x, y):\n",
    "    return x**y + 1\n",
    "\n",
    "h = lambda x, y: func(x, y)\n",
    "print('h的类型是', h)\n",
    "print(h(2, 3))\n",
    "\n",
    "\n"
   ],
   "metadata": {
    "pycharm": {
     "metadata": false,
     "name": "#%%\n"
    }
   }
  }
 ],
 "metadata": {
  "kernelspec": {
   "name": "python3",
   "language": "python",
   "display_name": "Python 3"
  },
  "language_info": {
   "codemirror_mode": {
    "name": "ipython",
    "version": 2
   },
   "file_extension": ".py",
   "mimetype": "text/x-python",
   "name": "python",
   "nbconvert_exporter": "python",
   "pygments_lexer": "ipython2",
   "version": "2.7.6"
  }
 },
 "nbformat": 4,
 "nbformat_minor": 0
}