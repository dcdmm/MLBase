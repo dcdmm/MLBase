{
 "cells": [
  {
   "cell_type": "markdown",
   "metadata": {
    "collapsed": true,
    "pycharm": {
     "name": "#%% md\n"
    }
   },
   "source": [
    "&emsp;&emsp;<font color='red' size=4>联合熵</font>是借助联合概率分布对熵的自然推广.两个离散随机变量$X$ 和$Y$ 的联合熵的定义为      \n",
    "$$ H(X,Y) = \\sum_{x, y} P(x, y) \\log \\frac{1}{P(x, y)} = - \\sum_{x, y}P(x, y) \\log P(x, y) $$    \n",
    "&emsp;&emsp;<font color='red' size=4>条件熵</font>是利用条件概率分布对熵的一个延伸.随机变量$X$的熵是用它的概率分布$P(X)$定义的.如果知道另一个\n",
    "随机变量$Y$的取值为$y$,那么$X$的后验分布即为$ P(X| Y =y)$.利用此条件分布可以定义给定$ Y=y $时$X$的条件熵为    \n",
    "$$H(X|Y=y)=\\sum_{x} P(x|Y = y) \\log \\frac{1}{P(x|Y=y)}$$     \n",
    "&emsp;&emsp;熵$H(X)$度量的是随机变量$X$的不确定性,条件熵$H(X|Y=y)$度量的则是已知$ Y=y$后,$X$的不确定性.   \n",
    "&emsp;&emsp;在上式中,当$y$变化时,$ H(X|Y=y) $也会发生改变.由于知道$Y$的概率分布,因此可以计算观测$Y$后$X$的熵的期望值,即    \n",
    "\\begin{align}\n",
    "H(X|Y) &=  \\sum_{y \\in \\Omega_Y} P(Y=y) H(X|y = y)  \\\\\n",
    "       &=  \\sum_{y \\in \\Omega_Y} P(Y=y)  \\sum_x P(x|Y=y) \\log \\frac{1}{P(x|Y=y)}  \\\\   \n",
    "       &=  \\sum_y \\sum_x P(y)P(x|y) \\log \\frac{1}{P(x|y)} \\\\\n",
    "       &=  \\sum_{x,y} P(x, y) \\log \\frac{1}{P(x|y)}  \\\\\n",
    "\\end{align}    \n",
    "$ H(X|Y)$称为给定$Y$时$X$的条件熵.   \n",
    "&emsp;&emsp;注意$ H(X|Y)$与$ H(X|Y=y) $有所不同.后者是在已知$Y$ 的某一特定值$ y$时$X$的条件熵,或者\n",
    "说是在已知$ Y =y$后,$ X$ 剩余的不确定性.而$  H(X|Y)$则是在未知$Y$的取值时,对观测到$ Y $的取值后$X$剩余的\n",
    "不确定性的一个期望.尤其值得注意的是,$ H(X|Y =Y)$可能比$ H(X)$大,即知道$Y$的具体取值$ Y=y $可能增大对$X$的不确定\n",
    "性;但$ H(X|Y) $永远不大于$H(X)$,即平均来说,知道$  Y $ 将不会增加$X$的不确定性.     \n",
    "&emsp;&emsp;在观测到$ Y $ 之前,$ X $ 的不确定性是 $ H(X) $.通过观测 $ Y $,$ X $的不确定性变为$ H(X|Y) $,因此$ H(X) $与$ H(X|Y) $之差    \n",
    "$$ I(X;Y) = H(X) - H(X|Y) $$    \n",
    "就是对$ Y $ 包含多少关于$ X $ 的信息的一个度量,称之为$Y $ 关于 $ X $ 的信息,又称之为$ X $ 和 $ Y $之间的<font color='red' size=4>互信息</font>     \n",
    "\n",
    "\n",
    "<font color='red' size=4>定理:</font>                 \n",
    "1. $$ I(X;Y) = \\sum_{x,y} P(x,y) \\log \\frac{P(x, y)}{P(x)P(y)} $$   \n",
    "\\begin{align}\n",
    "I(X;Y)&=  H(X) - H(X|Y) \\\\\n",
    "      &=  \\sum_{x} P(x) \\log \\frac{1}{P(x)} - \\sum_{x, y} P(x, y) \\log \\frac{1}{P(x|y)}   \\\\\n",
    "      &=  \\sum_{x, y} P(x, y) \\log \\frac{1}{P(x)} - \\sum_{x, y} P(x, y) \\log \\frac{1}{P(x|y)}   \\\\\n",
    "      &=  \\sum_{x, y} P(x, y) \\log \\frac{P(x|y)}{P(x)} \\\\\n",
    "      &=  \\sum_{x,y} P(x,y) \\log \\frac{P(x, y)}{P(x)P(y)}   \n",
    "\\end{align} \n",
    "2. $$ I(X;Y) = I(Y;X)  $$\n",
    "3. $$ H(X,Y) = H(X) + H(Y|X) = H(Y) + H(X|Y)  $$\n",
    "\\begin{align}\n",
    "I(X;Y)&=  - \\sum_{x,y} P(x,y) \\log P(x,y) \\\\\n",
    "      &=  - \\sum_{x,y} P(x,y) \\log P(x) - \\sum_{x,y} P(x,y) \\log P(y|x) \\\\ \n",
    "      &=  - \\sum_{x} P(x,y) \\log P(x) - \\sum_{x,y} P(x,y) \\log P(y|x) \\\\ \n",
    "      &= H(X) + H(Y|X)\n",
    "\\end{align}   \n",
    "同理可证明$ H(X, Y) = H(Y) + H(X|Y) $\n",
    "4. $$ I(X;Y) + H(X, Y) = H(X) + H(Y) $$\n",
    "\n",
    "\n",
    "<img src=\"../../../../Other/img/联合熵条件熵及互信息.png\" style=\"width:500px;height:300px;float:bottom\">"
   ]
  },
  {
   "cell_type": "markdown",
   "source": [
    "## 联合分布$ P(X,Y) $"
   ],
   "metadata": {
    "collapsed": false,
    "pycharm": {
     "name": "#%% md\n",
     "is_executing": false
    }
   }
  },
  {
   "cell_type": "code",
   "execution_count": 23,
   "outputs": [
    {
     "data": {
      "text/plain": "array([[0.   , 0.75 ],\n       [0.125, 0.125]])"
     },
     "metadata": {},
     "output_type": "execute_result",
     "execution_count": 23
    }
   ],
   "source": [
    "import  numpy as np\n",
    "\n",
    "pro_unxy = np.array([[0., 3/4], [1/8, 1/8]]) # X,Y的联合分布\n",
    "pro_unxy"
   ],
   "metadata": {
    "collapsed": false,
    "pycharm": {
     "name": "#%% \n",
     "is_executing": false
    }
   }
  },
  {
   "cell_type": "markdown",
   "source": [
    "## 边缘分布$ P(Y) $"
   ],
   "metadata": {
    "collapsed": false,
    "pycharm": {
     "name": "#%% md\n",
     "is_executing": false
    }
   }
  },
  {
   "cell_type": "code",
   "execution_count": 24,
   "outputs": [
    {
     "data": {
      "text/plain": "array([0.75, 0.25])"
     },
     "metadata": {},
     "output_type": "execute_result",
     "execution_count": 24
    }
   ],
   "source": [
    "pro_y = np.sum(pro_unxy, axis=1)\n",
    "pro_y # 随机变量Y的边缘分布"
   ],
   "metadata": {
    "collapsed": false,
    "pycharm": {
     "name": "#%%\n",
     "is_executing": false
    }
   }
  },
  {
   "cell_type": "markdown",
   "source": [
    "## 边缘分布$ P(X) $"
   ],
   "metadata": {
    "collapsed": false,
    "pycharm": {
     "name": "#%% md\n",
     "is_executing": false
    }
   }
  },
  {
   "cell_type": "code",
   "execution_count": 25,
   "outputs": [
    {
     "data": {
      "text/plain": "array([0.125, 0.875])"
     },
     "metadata": {},
     "output_type": "execute_result",
     "execution_count": 25
    }
   ],
   "source": [
    "pro_x = np.sum(pro_unxy, axis=0)\n",
    "pro_x # 随机变量X的边缘分布"
   ],
   "metadata": {
    "collapsed": false,
    "pycharm": {
     "name": "#%%\n",
     "is_executing": false
    }
   }
  },
  {
   "cell_type": "markdown",
   "source": [
    "## 条件分布P(X|Y=y)"
   ],
   "metadata": {
    "collapsed": false,
    "pycharm": {
     "name": "#%% md\n"
    }
   }
  },
  {
   "cell_type": "code",
   "execution_count": 26,
   "outputs": [
    {
     "data": {
      "text/plain": "0.0"
     },
     "metadata": {},
     "output_type": "execute_result",
     "execution_count": 26
    }
   ],
   "source": [
    "pro_px1knowy1 =  pro_unxy[0][0]/pro_y[0] # p(x1|y=y1)\n",
    "pro_px1knowy1"
   ],
   "metadata": {
    "collapsed": false,
    "pycharm": {
     "name": "#%%\n",
     "is_executing": false
    }
   }
  },
  {
   "cell_type": "code",
   "execution_count": 27,
   "outputs": [
    {
     "data": {
      "text/plain": "1.0"
     },
     "metadata": {},
     "output_type": "execute_result",
     "execution_count": 27
    }
   ],
   "source": [
    "pro_px2knowy1 = pro_unxy[0][1]/pro_y[0] # p(x2|y=y1)\n",
    "pro_px2knowy1"
   ],
   "metadata": {
    "collapsed": false,
    "pycharm": {
     "name": "#%%\n",
     "is_executing": false
    }
   }
  },
  {
   "cell_type": "code",
   "execution_count": 28,
   "outputs": [
    {
     "data": {
      "text/plain": "0.5"
     },
     "metadata": {},
     "output_type": "execute_result",
     "execution_count": 28
    }
   ],
   "source": [
    "pro_px1knowy2 =  pro_unxy[1][0]/pro_y[1] # p(x1|y=y2)\n",
    "pro_px1knowy2"
   ],
   "metadata": {
    "collapsed": false,
    "pycharm": {
     "name": "#%%\n",
     "is_executing": false
    }
   }
  },
  {
   "cell_type": "code",
   "execution_count": 29,
   "outputs": [
    {
     "data": {
      "text/plain": "0.5"
     },
     "metadata": {},
     "output_type": "execute_result",
     "execution_count": 29
    }
   ],
   "source": [
    "pro_px2knowy2 = pro_unxy[1][1]/pro_y[1] # p(x2|y=y2)\n",
    "pro_px2knowy2"
   ],
   "metadata": {
    "collapsed": false,
    "pycharm": {
     "name": "#%%\n",
     "is_executing": false
    }
   }
  },
  {
   "cell_type": "markdown",
   "source": [
    "## 熵"
   ],
   "metadata": {
    "collapsed": false,
    "pycharm": {
     "name": "#%% md\n",
     "is_executing": false
    }
   }
  },
  {
   "cell_type": "code",
   "execution_count": 30,
   "outputs": [
    {
     "data": {
      "text/plain": "0.5435644431995964"
     },
     "metadata": {},
     "output_type": "execute_result",
     "execution_count": 30
    }
   ],
   "source": [
    "enX = -(pro_x @ np.log2(pro_x)) # H(X)\n",
    "enX"
   ],
   "metadata": {
    "collapsed": false,
    "pycharm": {
     "name": "#%%\n",
     "is_executing": false
    }
   }
  },
  {
   "cell_type": "code",
   "execution_count": 31,
   "outputs": [
    {
     "data": {
      "text/plain": "0.0"
     },
     "metadata": {},
     "output_type": "execute_result",
     "execution_count": 31
    }
   ],
   "source": [
    "import math\n",
    "enX_y1 = -pro_px2knowy1*math.log2(pro_px2knowy1) + 0 # H(X|Y=y1)\n",
    "enX_y1"
   ],
   "metadata": {
    "collapsed": false,
    "pycharm": {
     "name": "#%%\n",
     "is_executing": false
    }
   }
  },
  {
   "cell_type": "code",
   "execution_count": 32,
   "outputs": [
    {
     "data": {
      "text/plain": "1.0"
     },
     "metadata": {},
     "output_type": "execute_result",
     "execution_count": 32
    }
   ],
   "source": [
    "enX_y2 = -pro_px1knowy2*math.log2(pro_px1knowy2) \\\n",
    "       - pro_px2knowy2*math.log2(pro_px2knowy2)  # H(X|Y=y2)\n",
    "enX_y2"
   ],
   "metadata": {
    "collapsed": false,
    "pycharm": {
     "name": "#%%\n",
     "is_executing": false
    }
   }
  },
  {
   "cell_type": "code",
   "execution_count": 33,
   "outputs": [
    {
     "data": {
      "text/plain": "0.25"
     },
     "metadata": {},
     "output_type": "execute_result",
     "execution_count": 33
    }
   ],
   "source": [
    "HXY = pro_y[0] * enX_y1 + pro_y[1] * enX_y2 # H(X|Y)\n",
    "HXY"
   ],
   "metadata": {
    "collapsed": false,
    "pycharm": {
     "name": "#%%\n",
     "is_executing": false
    }
   }
  },
  {
   "cell_type": "markdown",
   "source": [
    "可以看到,观测到$ Y = y_1 $使$X$的熵减少,观测到$ Y = y_2 $使$ X $的熵增大.但平均来说,对$ Y $ 的观测使$ X $ 的熵减少\n",
    "\n"
   ],
   "metadata": {
    "collapsed": false
   }
  }
 ],
 "metadata": {
  "kernelspec": {
   "display_name": "Python 3",
   "language": "python",
   "name": "python3"
  },
  "language_info": {
   "codemirror_mode": {
    "name": "ipython",
    "version": 2
   },
   "file_extension": ".py",
   "mimetype": "text/x-python",
   "name": "python",
   "nbconvert_exporter": "python",
   "pygments_lexer": "ipython2",
   "version": "2.7.6"
  }
 },
 "nbformat": 4,
 "nbformat_minor": 0
}