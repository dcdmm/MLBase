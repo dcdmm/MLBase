{
 "cells": [
  {
   "cell_type": "code",
   "execution_count": 46,
   "metadata": {
    "collapsed": true,
    "pycharm": {
     "is_executing": false
    }
   },
   "outputs": [],
   "source": [
    "import numpy as np\n",
    "from sklearn import datasets\n",
    "import copy\n",
    "from sklearn.model_selection import train_test_split\n",
    "from sklearn.linear_model import LogisticRegression \n",
    "import pandas as pd\n",
    "import matplotlib.pyplot as plt\n",
    "import matplotlib\n",
    "matplotlib.rcParams['font.sans-serif'] = ['SimHei']\n",
    "matplotlib.rcParams['axes.unicode_minus'] = False"
   ]
  },
  {
   "cell_type": "code",
   "execution_count": 47,
   "outputs": [],
   "source": [
    "digits = datasets.load_digits() # 手写数字数据集\n",
    "X = digits.data\n",
    "y = copy.deepcopy(digits.target)\n",
    "\n",
    "y[digits.target==9] = 1\n",
    "y[digits.target!=9] = 0 # 使数据类别不平衡(使其变为二分类问题)"
   ],
   "metadata": {
    "collapsed": false,
    "pycharm": {
     "name": "#%%\n",
     "is_executing": false
    }
   }
  },
  {
   "cell_type": "code",
   "execution_count": 48,
   "outputs": [
    {
     "data": {
      "text/plain": "0.9755555555555555"
     },
     "metadata": {},
     "output_type": "execute_result",
     "execution_count": 48
    }
   ],
   "source": [
    "X_train, X_test, y_train, y_test = train_test_split(X, y, random_state=666)\n",
    "log_reg = LogisticRegression(solver='sag', max_iter=10000)\n",
    "log_reg.fit(X_train, y_train)\n",
    "log_reg.score(X_test, y_test)"
   ],
   "metadata": {
    "collapsed": false,
    "pycharm": {
     "name": "#%%\n",
     "is_executing": false
    }
   }
  },
  {
   "cell_type": "code",
   "execution_count": 49,
   "outputs": [
    {
     "data": {
      "text/plain": "array([0, 0, 0, 0, 0, 0, 0, 0, 0, 0, 0, 0, 0, 0, 0, 0, 0, 0, 0, 0, 0, 0,\n       0, 0, 0, 0, 0, 0, 0, 0, 0, 0, 0, 0, 0, 0, 0, 0, 0, 0, 0, 0, 0, 0,\n       0, 0, 0, 0, 0, 0, 1, 1, 0, 0, 0, 0, 0, 0, 0, 1, 0, 0, 0, 0, 0, 0,\n       0, 0, 0, 0, 0, 0, 0, 0, 0, 0, 0, 0, 0, 0, 1, 0, 0, 0, 0, 0, 0, 0,\n       0, 0, 0, 0, 0, 0, 0, 0, 0, 0, 0, 0, 0, 0, 0, 0, 0, 0, 0, 0, 0, 0,\n       0, 0, 1, 0, 0, 0, 0, 0, 0, 0, 0, 0, 0, 0, 0, 0, 0, 0, 0, 0, 0, 0,\n       0, 0, 0, 0, 0, 0, 0, 0, 0, 1, 1, 1, 0, 0, 1, 0, 0, 0, 0, 0, 0, 0,\n       0, 0, 0, 0, 0, 0, 0, 0, 0, 0, 0, 1, 0, 0, 0, 0, 0, 0, 0, 0, 0, 0,\n       0, 0, 0, 1, 0, 0, 0, 0, 0, 0, 0, 0, 0, 0, 0, 0, 0, 0, 0, 0, 0, 0,\n       0, 0, 0, 0, 0, 0, 0, 0, 1, 0, 0, 1, 0, 0, 1, 0, 0, 0, 0, 0, 0, 0,\n       0, 0, 0, 0, 0, 0, 0, 0, 0, 0, 0, 0, 0, 0, 0, 0, 0, 0, 0, 0, 0, 0,\n       0, 0, 0, 0, 0, 0, 1, 0, 0, 0, 0, 0, 0, 0, 0, 0, 0, 0, 0, 0, 0, 0,\n       1, 0, 1, 0, 0, 0, 0, 0, 1, 0, 0, 0, 0, 0, 0, 1, 1, 1, 0, 0, 0, 0,\n       1, 0, 0, 0, 0, 0, 0, 0, 0, 0, 0, 0, 0, 0, 0, 0, 0, 0, 0, 0, 0, 0,\n       1, 0, 0, 0, 0, 0, 0, 0, 0, 0, 0, 0, 1, 1, 0, 1, 1, 0, 0, 0, 0, 0,\n       1, 0, 0, 0, 0, 0, 0, 0, 0, 0, 0, 0, 0, 1, 0, 0, 0, 0, 0, 0, 0, 0,\n       0, 0, 1, 0, 0, 0, 1, 0, 1, 0, 1, 0, 0, 0, 0, 0, 0, 0, 0, 0, 0, 0,\n       0, 0, 0, 0, 0, 0, 0, 1, 0, 0, 0, 0, 0, 0, 0, 0, 0, 0, 0, 0, 0, 0,\n       0, 0, 0, 0, 0, 0, 0, 0, 0, 0, 0, 0, 0, 0, 0, 0, 0, 1, 0, 0, 0, 0,\n       0, 0, 0, 0, 0, 0, 0, 0, 0, 1, 1, 1, 0, 0, 0, 0, 0, 0, 0, 0, 0, 0,\n       0, 0, 0, 0, 0, 0, 0, 0, 0, 0])"
     },
     "metadata": {},
     "output_type": "execute_result",
     "execution_count": 49
    }
   ],
   "source": [
    "y_log_predict = log_reg.predict(X_test)\n",
    "y_log_predict"
   ],
   "metadata": {
    "collapsed": false,
    "pycharm": {
     "name": "#%%\n",
     "is_executing": false
    }
   }
  },
  {
   "cell_type": "code",
   "execution_count": 50,
   "outputs": [],
   "source": [
    "def confusion_DataFrame(y_true, y_predict):\n",
    "    \"\"\"计算混淆矩阵(二分类)\"\"\"\n",
    "    num = len(y_true)\n",
    "    TN = np.sum((y_true == 0) & (y_predict == 0))\n",
    "    TP = np.sum((y_true == 1) & (y_predict ==1))\n",
    "    FP = np.sum((y_true == 0) & (y_predict == 1))\n",
    "    FN = num - TN - TP - FP\n",
    "    index = columns = [0, 1]\n",
    "    arr = np.array([[TN, FP], [FN, TP]])\n",
    "    frame = pd.DataFrame(arr, index=index, columns=columns)\n",
    "    \n",
    "    return frame"
   ],
   "metadata": {
    "collapsed": false,
    "pycharm": {
     "name": "#%%\n",
     "is_executing": false
    }
   }
  },
  {
   "cell_type": "code",
   "execution_count": 51,
   "outputs": [
    {
     "data": {
      "text/plain": "     0   1\n0  403   2\n1    9  36",
      "text/html": "<div>\n<style scoped>\n    .dataframe tbody tr th:only-of-type {\n        vertical-align: middle;\n    }\n\n    .dataframe tbody tr th {\n        vertical-align: top;\n    }\n\n    .dataframe thead th {\n        text-align: right;\n    }\n</style>\n<table border=\"1\" class=\"dataframe\">\n  <thead>\n    <tr style=\"text-align: right;\">\n      <th></th>\n      <th>0</th>\n      <th>1</th>\n    </tr>\n  </thead>\n  <tbody>\n    <tr>\n      <td>0</td>\n      <td>403</td>\n      <td>2</td>\n    </tr>\n    <tr>\n      <td>1</td>\n      <td>9</td>\n      <td>36</td>\n    </tr>\n  </tbody>\n</table>\n</div>"
     },
     "metadata": {},
     "output_type": "execute_result",
     "execution_count": 51
    }
   ],
   "source": [
    "result = confusion_DataFrame(y_test, y_log_predict)\n",
    "result"
   ],
   "metadata": {
    "collapsed": false,
    "pycharm": {
     "name": "#%%\n",
     "is_executing": false
    }
   }
  },
  {
   "cell_type": "code",
   "execution_count": 52,
   "outputs": [],
   "source": [
    "def precision_score(matrix):\n",
    "    \"\"\"计算查准率(二分类)\"\"\"\n",
    "    return matrix[1, 1] / (matrix[1, 1] + matrix[0, 1])"
   ],
   "metadata": {
    "collapsed": false,
    "pycharm": {
     "name": "#%%\n",
     "is_executing": false
    }
   }
  },
  {
   "cell_type": "code",
   "execution_count": 53,
   "outputs": [
    {
     "data": {
      "text/plain": "0.9473684210526315"
     },
     "metadata": {},
     "output_type": "execute_result",
     "execution_count": 53
    }
   ],
   "source": [
    "pre = precision_score(result.values)\n",
    "pre"
   ],
   "metadata": {
    "collapsed": false,
    "pycharm": {
     "name": "#%%\n",
     "is_executing": false
    }
   }
  },
  {
   "cell_type": "code",
   "execution_count": 54,
   "outputs": [],
   "source": [
    "def recall_score(matrix):\n",
    "    \"\"\"计算召回率(二分类)\"\"\"\n",
    "    return matrix[1, 1] / (matrix[1, 1] + matrix[1, 0])"
   ],
   "metadata": {
    "collapsed": false,
    "pycharm": {
     "name": "#%%\n",
     "is_executing": false
    }
   }
  },
  {
   "cell_type": "code",
   "execution_count": 55,
   "outputs": [
    {
     "data": {
      "text/plain": "0.8"
     },
     "metadata": {},
     "output_type": "execute_result",
     "execution_count": 55
    }
   ],
   "source": [
    "rec = recall_score(result.values)\n",
    "rec"
   ],
   "metadata": {
    "collapsed": false,
    "pycharm": {
     "name": "#%%\n",
     "is_executing": false
    }
   }
  },
  {
   "cell_type": "code",
   "execution_count": 56,
   "outputs": [],
   "source": [
    "def f1_score(precision, recall):\n",
    "    \"\"\"计算F1值(二分类)\"\"\"\n",
    "    return 2 * precision * recall / (precision + recall)"
   ],
   "metadata": {
    "collapsed": false,
    "pycharm": {
     "name": "#%%\n",
     "is_executing": false
    }
   }
  },
  {
   "cell_type": "code",
   "execution_count": 57,
   "outputs": [
    {
     "data": {
      "text/plain": "0.8674698795180723"
     },
     "metadata": {},
     "output_type": "execute_result",
     "execution_count": 57
    }
   ],
   "source": [
    "f1_score(pre, rec)"
   ],
   "metadata": {
    "collapsed": false,
    "pycharm": {
     "name": "#%%\n",
     "is_executing": false
    }
   }
  },
  {
   "cell_type": "code",
   "execution_count": 58,
   "outputs": [
    {
     "data": {
      "text/plain": "array([-20.86833244, -31.26276565, -15.53446212, -77.29795908,\n       -45.99277845, -23.52031397, -42.25327276, -24.13780445,\n        -0.97490207, -20.1507559 , -63.36929136, -49.00621254,\n       -30.4356728 , -43.87949867, -37.68672473, -28.98917339,\n       -36.01358924, -78.18040463, -37.11235431, -11.31997083,\n        -8.58656596, -80.79880335, -15.8320417 , -44.3090416 ,\n        -5.48066338, -45.45697896, -11.00769304, -39.08325313,\n       -23.83745189, -14.26341624, -16.14673858, -27.77148323,\n       -33.45841061, -29.11040263,  -7.75938274,  -3.56368148,\n       -24.53619119, -21.87315911, -33.06333951, -22.03668962,\n       -25.68265423, -59.49968365, -37.64697573, -63.67292645,\n       -19.02404202, -16.89875833, -17.29996273, -21.67824821,\n       -28.84399271, -19.30272526,   0.89150788,   8.20503361,\n       -35.77589697, -40.07440874, -24.90642157, -33.49385617,\n        -9.06429796, -48.49488524, -48.39767273,  19.47523579,\n        -8.07514044, -30.54906545, -11.2392691 ,  -0.31853888,\n       -47.32429436, -45.54171735, -23.4910418 , -18.46529826,\n       -34.33148866,  -2.19483435,  -3.87698253, -18.20989448,\n       -20.72863107, -39.98480275, -11.46585405, -33.21604162,\n       -34.1137934 , -30.53228629, -54.79155427, -17.46008244,\n         4.12839277, -17.32420742, -72.4873772 , -55.63539757,\n       -31.56813779, -29.27179162, -31.16592694,  -9.01065185,\n       -44.96029818, -63.5391463 , -16.72158562, -21.07719447,\n       -10.81544956, -17.21451503, -64.44336355, -44.73507513,\n       -39.11338664, -33.95920411, -16.2334515 , -59.76888443,\n       -16.20586881, -52.78480693, -27.49675265, -66.14193211,\n       -65.00995947,  -6.06259368, -25.66943778, -36.62308926,\n       -26.44027726, -14.37696168, -26.0547594 , -18.07474995,\n        11.89633979, -22.20756848, -34.50405911, -27.95822804,\n       -67.96421134, -29.79677489, -50.09581588, -23.60464276,\n       -11.84329606, -45.87174396,  -2.21943927, -57.22227623,\n       -30.6509393 ,  -8.4321638 , -68.68985288, -54.73194332,\n       -20.62490375, -20.49352033, -66.95302287, -17.71660029,\n       -39.37045335, -53.94559256,  -0.42853388, -20.86132785,\n       -21.2999191 , -28.87709348, -35.01439365, -19.1944968 ,\n       -10.68921186,   3.45850017,   5.36667708,   1.25891179,\n        -7.38752215, -37.65204599,  11.73223551, -71.88536558,\n       -71.74257899, -48.38536078, -11.07931552, -46.55340587,\n       -72.10969503, -28.87398589, -61.5119789 ,  -6.89339202,\n        -6.37510009, -18.38071278, -33.36757008, -17.14206343,\n       -44.86147951, -31.90900303, -32.6422471 , -70.1493943 ,\n       -15.03701191,  12.09803942, -53.99688329,  -6.100846  ,\n       -46.77417349, -15.42884479,  -2.33853386, -11.27595371,\n       -32.01453701, -48.64814455, -10.33203887, -17.65674265,\n        -4.88728769, -24.84217753, -16.65919409,   4.12273056,\n       -45.41872148, -12.31243368, -24.36204381, -15.55309373,\n       -23.33607159, -80.03411059,  -5.8442146 , -18.95980673,\n       -19.09866239, -25.47576014, -26.75031264, -37.79055634,\n       -39.45319799, -26.9016847 , -23.31697873, -20.71371133,\n       -10.07801151, -18.64370361, -40.28589578, -41.80830647,\n       -15.89035987, -61.01762815, -23.92227867, -53.93944535,\n       -13.34181796, -28.32873439,   3.70322424, -42.38843462,\n        -8.26411818,   1.67182262,  -2.83548952, -11.80409767,\n         7.49592438,  -7.50321627, -44.20334943, -47.20395589,\n        -4.52330918, -18.54365511, -23.52734703, -46.63130634,\n       -14.62346572, -23.6205333 , -16.26860732, -19.35290599,\n       -15.30442674, -16.14588732, -38.17625271, -29.8295583 ,\n        -9.21113488, -67.8602628 , -20.88387343, -13.69765975,\n       -23.22959124, -33.46844819,  -1.26052069, -32.02297468,\n       -10.52820748, -17.10336777,  -8.3104056 , -42.73676052,\n       -21.50802603, -58.59334704, -44.48976481, -62.70176642,\n       -32.13145087, -23.2714799 , -28.50070184, -62.46557965,\n         1.6736704 ,  -4.76436167, -24.38298407, -21.23889313,\n       -51.99471396, -16.45950591, -10.6641146 , -33.95023104,\n        -5.49820357, -15.18522316, -66.15052807,  -6.04868528,\n        -1.50756429, -37.57939573, -22.33474801, -64.7565462 ,\n        14.69493629, -59.11262334,   9.8462801 , -23.43319076,\n       -31.80261147, -13.85668574, -81.47130556, -12.7683835 ,\n         8.92543148, -17.55773454, -33.91416835, -17.43163337,\n       -18.84636164, -31.63937042,  -5.02037299,   7.31891131,\n         9.06306904,   5.74336007, -34.15201948, -12.74736877,\n       -52.84132076, -39.90873224,   5.69389147, -75.6498043 ,\n       -15.20204566, -19.5045232 , -10.44903806, -40.82380236,\n       -18.86935854, -15.7944104 , -18.03519189, -17.30512957,\n        -7.13031899, -19.53845122, -15.97229095, -67.56038539,\n        -9.58920371, -32.46573271, -18.20434964, -20.25856074,\n       -23.83503346, -16.65403663, -13.56113774, -23.76687466,\n        10.68907406, -13.40333034, -33.59748536, -12.99951854,\n       -48.11650776, -20.04003473, -53.13682465, -28.46552193,\n       -20.91392854, -30.38548511, -64.95731746, -58.34877826,\n        13.91821346,   8.58458146, -24.1125814 ,   2.00648278,\n         5.02286858, -18.81523348, -57.30333064,  -9.62536094,\n       -29.35872107, -26.26989711,   5.86226404, -76.80526685,\n       -33.84769553, -47.39497461, -34.52452122, -46.0522458 ,\n       -20.41689434, -58.52376614,  -3.23932838, -23.92602487,\n       -62.85128212,  -9.4911245 , -22.89894533,  18.85787311,\n       -18.06976648,  -4.79257138, -13.76378225, -20.9628895 ,\n       -42.35568741, -49.4168294 , -27.14337561, -12.96893244,\n        -2.06562379,  -5.88562419,   3.08730772, -14.76070919,\n       -39.2046603 , -24.52190624,  13.81962264, -17.54144475,\n        13.78197332, -31.94046491,   4.82601642, -14.30502963,\n       -52.73757256, -48.17428088, -28.8379108 , -37.22791235,\n       -22.6355231 , -23.78859771, -14.24740129, -23.6634823 ,\n       -27.12311628, -18.15684044, -27.7415653 , -19.90940893,\n       -32.1740005 , -10.66548899, -18.26001099, -23.88883727,\n       -24.0423408 ,  10.53616666, -15.9181183 , -37.15836804,\n       -15.01972531, -35.08238116, -14.9472578 , -64.39287693,\n       -32.5587006 , -41.62650408, -28.34068379,  -9.33592938,\n       -64.8839504 , -33.38057586, -43.69834464, -13.64364718,\n       -38.04169321, -14.83654883, -67.29368102, -11.07489485,\n       -40.17309879, -31.64857742, -20.90480774, -26.2238674 ,\n       -16.28461589, -30.95002487,  -8.50103999, -21.4491872 ,\n       -33.07424793, -12.73777528, -34.6169559 , -36.27432849,\n       -21.95922319,   4.02830794, -19.73371316,  -3.65970676,\n       -19.30318194, -31.09822528, -39.70384266, -24.27719973,\n       -19.08621889, -45.39813617, -28.21987919, -43.37997545,\n       -67.75878935,  -5.58398052, -31.6106588 ,   1.47647422,\n        11.3528184 ,   7.20790979, -29.29937522, -60.94492018,\n       -21.85533404,  -4.90214371, -32.97695209, -22.90728797,\n       -63.60704871, -33.83469571, -32.97166554, -30.62373913,\n       -51.07803269, -21.93844251,  -8.47544819, -17.44708586,\n       -25.99903488, -31.27869751, -28.16649184, -64.4057717 ,\n       -45.12835241, -15.52505777])"
     },
     "metadata": {},
     "output_type": "execute_result",
     "execution_count": 58
    }
   ],
   "source": [
    "decision_scores = log_reg.decision_function(X_test) # 计算样本到分离超平面的有符号距离\n",
    "decision_scores"
   ],
   "metadata": {
    "collapsed": false,
    "pycharm": {
     "name": "#%%\n",
     "is_executing": false
    }
   }
  },
  {
   "cell_type": "code",
   "execution_count": 59,
   "outputs": [],
   "source": [
    "from sklearn.metrics import precision_score\n",
    "from sklearn.metrics import recall_score\n",
    "precisions = []\n",
    "recalls = []\n",
    "thresholds = np.arange(np.min(decision_scores), np.max(decision_scores), 0.1)\n",
    "for threshold in thresholds:\n",
    "    \"\"\"计算不同threshold下对应的查准率与查全率\"\"\"\n",
    "    y_predict = np.array(decision_scores >= threshold, dtype=np.int32)\n",
    "    precisions.append(precision_score(y_test, y_predict))\n",
    "    recalls.append(recall_score(y_test, y_predict))\n",
    "    "
   ],
   "metadata": {
    "collapsed": false,
    "pycharm": {
     "name": "#%%\n",
     "is_executing": false
    }
   }
  },
  {
   "cell_type": "code",
   "execution_count": 60,
   "outputs": [
    {
     "data": {
      "text/plain": "<Figure size 432x288 with 1 Axes>",
      "image/png": "[encoded data removed]"
     },
     "metadata": {
      "needs_background": "light"
     },
     "output_type": "display_data"
    }
   ],
   "source": [
    "plt.plot(thresholds, precisions, label='查准率')\n",
    "plt.plot(thresholds, recalls, label='查全率')\n",
    "plt.xlabel('thresholds', color='red', size=20)\n",
    "plt.ylabel('P or R', color='red', size=20)\n",
    "plt.legend()\n",
    "plt.show()"
   ],
   "metadata": {
    "collapsed": false,
    "pycharm": {
     "name": "#%%\n",
     "is_executing": false
    }
   }
  },
  {
   "cell_type": "code",
   "execution_count": 62,
   "outputs": [
    {
     "data": {
      "text/plain": "<Figure size 432x288 with 1 Axes>",
      "image/png": "[encoded data removed]"
     },
     "metadata": {
      "needs_background": "light"
     },
     "output_type": "display_data"
    }
   ],
   "source": [
    "plt.plot(recalls, precisions, label='P-R曲线') # 绘制P-R曲线\n",
    "plt.xlabel('recalls', color='red', size=20)\n",
    "plt.ylabel('precisions', color='red', size=20)\n",
    "plt.legend()\n",
    "plt.show()"
   ],
   "metadata": {
    "collapsed": false,
    "pycharm": {
     "name": "#%%\n",
     "is_executing": false
    }
   }
  },
  {
   "cell_type": "code",
   "execution_count": 61,
   "outputs": [],
   "source": [
    "\n"
   ],
   "metadata": {
    "collapsed": false,
    "pycharm": {
     "name": "#%%\n",
     "is_executing": false
    }
   }
  }
 ],
 "metadata": {
  "kernelspec": {
   "display_name": "Python 3",
   "language": "python",
   "name": "python3"
  },
  "language_info": {
   "codemirror_mode": {
    "name": "ipython",
    "version": 2
   },
   "file_extension": ".py",
   "mimetype": "text/x-python",
   "name": "python",
   "nbconvert_exporter": "python",
   "pygments_lexer": "ipython2",
   "version": "2.7.6"
  },
  "pycharm": {
   "stem_cell": {
    "cell_type": "raw",
    "source": [],
    "metadata": {
     "collapsed": false
    }
   }
  }
 },
 "nbformat": 4,
 "nbformat_minor": 0
}