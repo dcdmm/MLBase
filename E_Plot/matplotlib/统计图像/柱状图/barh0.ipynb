{
 "cells": [
  {
   "cell_type": "markdown",
   "source": [
    "Axes.barh水平条形图"
   ],
   "metadata": {
    "collapsed": false
   }
  },
  {
   "cell_type": "code",
   "execution_count": null,
   "outputs": [],
   "source": [
    "import matplotlib.pyplot as plt\n",
    "import matplotlib\n",
    "import seaborn as sns\n",
    "# 设置中文字体和负号正常显示\n",
    "matplotlib.rcParams['font.sans-serif'] = ['SimHei']\n",
    "matplotlib.rcParams['axes.unicode_minus'] = False\n",
    "\n",
    "fig = plt.figure()\n",
    "ax = plt.subplot(111)\n",
    "price = [39.5, 39.9, 45.4, 38.9, 33.34]\n",
    "ax.barh(range(5), price, height=0.5, color=sns.color_palette('Set1',15), alpha=0.8) #Make a horizontal bar plot.\n",
    "ax.set_yticks(range(5), ['亚马逊', '当当网', '中国图书网', '京东', '天猫'])\n",
    "ax.set_xlim(30,47)\n",
    "ax.set_xlabel(\"价格\")\n",
    "ax.set_title(\"不同平台图书价格\")\n",
    "for x, y in enumerate(price):\n",
    "    ax.text(y + 0.2, x - 0.1, '%s' % y)\n",
    "plt.show()"
   ],
   "metadata": {
    "collapsed": false,
    "pycharm": {
     "name": "#%%\n"
    }
   }
  },
  {
   "cell_type": "code",
   "execution_count": null,
   "metadata": {
    "pycharm": {}
   },
   "outputs": [],
   "source": []
  }
 ],
 "metadata": {
  "kernelspec": {
   "display_name": "Python 3",
   "language": "python",
   "name": "python3"
  },
  "language_info": {
   "codemirror_mode": {
    "name": "ipython",
    "version": 3
   },
   "file_extension": ".py",
   "mimetype": "text/x-python",
   "name": "python",
   "nbconvert_exporter": "python",
   "pygments_lexer": "ipython3",
   "version": "3.6.5"
  },
  "pycharm": {
   "stem_cell": {
    "cell_type": "raw",
    "source": [],
    "metadata": {
     "collapsed": false
    }
   }
  }
 },
 "nbformat": 4,
 "nbformat_minor": 2
}