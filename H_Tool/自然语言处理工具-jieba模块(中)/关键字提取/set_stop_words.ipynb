{
 "cells": [
  {
   "cell_type": "code",
   "execution_count": 5,
   "metadata": {
    "collapsed": true
   },
   "outputs": [
    {
     "name": "stdout",
     "output_type": "stream",
     "text": [
      "韦少  杜兰特  全明星  全明星赛  MVP  威少  正赛  科尔  投篮  勇士  斯布鲁克  更衣柜  NBA  三连庄  张卫平  西部  指导  雷霆  明星队  推特上\n"
     ]
    }
   ],
   "source": [
    "import jieba.analyse as analyse\n",
    "\n",
    "\n",
    "lines = open('NBA.txt', encoding='UTF-8').read()\n",
    "\n",
    "analyse.set_stop_words('stop_words.txt') # 关键词提取所使用停止词文件\n",
    "\n",
    "result = analyse.extract_tags(lines, topK=20, withWeight=False, allowPOS=())\n",
    "print(\"  \".join(result))"
   ]
  }
 ],
 "metadata": {
  "kernelspec": {
   "display_name": "Python 3",
   "language": "python",
   "name": "python3"
  },
  "language_info": {
   "codemirror_mode": {
    "name": "ipython",
    "version": 2
   },
   "file_extension": ".py",
   "mimetype": "text/x-python",
   "name": "python",
   "nbconvert_exporter": "python",
   "pygments_lexer": "ipython2",
   "version": "2.7.6"
  }
 },
 "nbformat": 4,
 "nbformat_minor": 0
}