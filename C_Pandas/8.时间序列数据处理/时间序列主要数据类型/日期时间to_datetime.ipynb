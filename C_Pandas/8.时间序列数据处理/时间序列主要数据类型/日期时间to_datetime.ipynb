{
 "cells": [
  {
   "cell_type": "markdown",
   "metadata": {
    "pycharm": {
     "metadata": false,
     "name": "#%% md\n"
    }
   },
   "source": [
    "## 日期时间(与datetime.datetime标准库类似)\n",
    "### 标量类(Timestamp)\n",
    "### 数组类(DatetimeIndex)"
   ]
  },
  {
   "cell_type": "code",
   "execution_count": 49,
   "metadata": {
    "pycharm": {
     "metadata": false,
     "name": "#%%\n"
    }
   },
   "outputs": [
    {
     "data": {
      "text/plain": "'\\n日期时间的主要属性:\\n属性\\t                        描述\\nyear\\t            The year of the datetime\\nmonth\\t            The month of the datetime\\nday\\t                The days of the datetime\\nhour\\t            The hour of the datetime\\nminute\\t            The minutes of the datetime\\nsecond\\t            The seconds of the datetime\\nmicrosecond\\t        The microseconds of the datetime\\nnanosecond\\t        The nanoseconds of the datetime\\ndayofyear\\t        The ordinal day of year\\nweekofyear\\t        The week ordinal of the year\\ndayofweek\\t        The number of the day of the week with Monday=0, Sunday=6\\ndays_in_month\\t    The number of days in the month of the datetime\\nquarter\\t            Quarter of the date: Jan-Mar = 1, Apr-Jun = 2, etc\\nis_month_start\\t    Logical indicating if first day of month (defined by frequency)\\nis_month_end\\t    Logical indicating if last day of month (defined by frequency)\\nis_quarter_start\\tLogical indicating if first day of quarter (defined by frequency)\\nis_quarter_end\\t    Logical indicating if last day of quarter (defined by frequency)\\nis_year_start\\t    Logical indicating if first day of year (defined by frequency)\\nis_year_end\\t        Logical indicating if last day of year (defined by frequency)\\nis_leap_year\\t    Logical indicating if the date belongs to a leap year\\n\\nisocalendar().week  The week ordinal of the year.\\n'"
     },
     "execution_count": 49,
     "metadata": {},
     "output_type": "execute_result"
    }
   ],
   "source": [
    "import pandas as pd\n",
    "from datetime import datetime\n",
    "\n",
    "'''\n",
    "日期时间的主要属性:\n",
    "属性\t                        描述\n",
    "year\t            The year of the datetime\n",
    "month\t            The month of the datetime\n",
    "day\t                The days of the datetime\n",
    "hour\t            The hour of the datetime\n",
    "minute\t            The minutes of the datetime\n",
    "second\t            The seconds of the datetime\n",
    "microsecond\t        The microseconds of the datetime\n",
    "nanosecond\t        The nanoseconds of the datetime\n",
    "dayofyear\t        The ordinal day of year\n",
    "weekofyear\t        The week ordinal of the year\n",
    "dayofweek\t        The number of the day of the week with Monday=0, Sunday=6\n",
    "days_in_month\t    The number of days in the month of the datetime\n",
    "quarter\t            Quarter of the date: Jan-Mar = 1, Apr-Jun = 2, etc\n",
    "is_month_start\t    Logical indicating if first day of month (defined by frequency)\n",
    "is_month_end\t    Logical indicating if last day of month (defined by frequency)\n",
    "is_quarter_start\tLogical indicating if first day of quarter (defined by frequency)\n",
    "is_quarter_end\t    Logical indicating if last day of quarter (defined by frequency)\n",
    "is_year_start\t    Logical indicating if first day of year (defined by frequency)\n",
    "is_year_end\t        Logical indicating if last day of year (defined by frequency)\n",
    "is_leap_year\t    Logical indicating if the date belongs to a leap year\n",
    "\n",
    "isocalendar().week  The week ordinal of the year.\n",
    "'''"
   ]
  },
  {
   "cell_type": "code",
   "execution_count": 50,
   "outputs": [
    {
     "data": {
      "text/plain": "Timestamp('2011-01-03 00:00:00')"
     },
     "execution_count": 50,
     "metadata": {},
     "output_type": "execute_result"
    }
   ],
   "source": [
    "'''\n",
    "arg : integer, float, string, datetime, list, tuple, 1-d array, Series\n",
    "'''\n",
    "# datatime转换为Timestamp\n",
    "pd.to_datetime(arg=datetime(2011, 1, 3))"
   ],
   "metadata": {
    "collapsed": false,
    "pycharm": {
     "name": "#%%\n"
    }
   }
  },
  {
   "cell_type": "code",
   "execution_count": 51,
   "metadata": {
    "pycharm": {
     "metadata": false,
     "name": "#%%\n"
    }
   },
   "outputs": [
    {
     "data": {
      "text/plain": "Timestamp('2011-07-06 12:00:00')"
     },
     "execution_count": 51,
     "metadata": {},
     "output_type": "execute_result"
    }
   ],
   "source": [
    "# 字符串转换为Timestamp\n",
    "pd.to_datetime('2011-07-06 12:00:00')"
   ]
  },
  {
   "cell_type": "code",
   "execution_count": 52,
   "metadata": {
    "pycharm": {
     "name": "#%%\n"
    }
   },
   "outputs": [
    {
     "data": {
      "text/plain": "Timestamp('2011-07-06 00:00:00')"
     },
     "execution_count": 52,
     "metadata": {},
     "output_type": "execute_result"
    }
   ],
   "source": [
    "# 解析字符串的格式,默认为None;format格式参见:字符串与datetime互相转换.ipynb\n",
    "pd.to_datetime('2011-07-06', format='%Y-%m-%d')"
   ]
  },
  {
   "cell_type": "code",
   "execution_count": 53,
   "metadata": {
    "pycharm": {
     "name": "#%%\n"
    }
   },
   "outputs": [
    {
     "data": {
      "text/plain": "Timestamp('2011-07-06 00:00:00')"
     },
     "execution_count": 53,
     "metadata": {},
     "output_type": "execute_result"
    }
   ],
   "source": [
    "pd.to_datetime('2011/07/06', format='%Y/%m/%d')"
   ]
  },
  {
   "cell_type": "code",
   "execution_count": 54,
   "metadata": {
    "pycharm": {
     "name": "#%%\n"
    }
   },
   "outputs": [
    {
     "data": {
      "text/plain": "Timestamp('2001-08-01 00:00:00')"
     },
     "execution_count": 54,
     "metadata": {},
     "output_type": "execute_result"
    }
   ],
   "source": [
    "pd.to_datetime('Aug-2001', format='%b-%Y')"
   ]
  },
  {
   "cell_type": "code",
   "execution_count": 55,
   "metadata": {
    "pycharm": {
     "name": "#%%\n"
    }
   },
   "outputs": [
    {
     "data": {
      "text/plain": "Timestamp('2011-07-06 12:00:00')"
     },
     "execution_count": 55,
     "metadata": {},
     "output_type": "execute_result"
    }
   ],
   "source": [
    "pd.to_datetime('2011-07-06 12:00:00')"
   ]
  },
  {
   "cell_type": "code",
   "execution_count": 56,
   "metadata": {
    "pycharm": {
     "metadata": false,
     "name": "#%%\n"
    }
   },
   "outputs": [
    {
     "name": "stdout",
     "output_type": "stream",
     "text": [
      "DatetimeIndex(['2011-07-06 12:00:00', '2011-08-06 00:00:00'], dtype='datetime64[ns]', freq=None)\n",
      "<class 'pandas._libs.tslibs.timestamps.Timestamp'>\n"
     ]
    }
   ],
   "source": [
    "datestrs = ['2011-07-06 12:00:00', '2011-08-06 00:00:00']\n",
    "# 直接解析为DatetimeIndex\n",
    "print(pd.to_datetime(arg=datestrs))\n",
    "\n",
    "# DatetimeIndex的元素类型为Timestamp\n",
    "print(type(pd.to_datetime(arg=datestrs)[0]))"
   ]
  },
  {
   "cell_type": "code",
   "execution_count": 57,
   "metadata": {
    "pycharm": {
     "metadata": false,
     "name": "#%%\n"
    }
   },
   "outputs": [
    {
     "name": "stdout",
     "output_type": "stream",
     "text": [
      "2021-07-06 12:00:00   1970-01-01 00:00:00.000000010\n",
      "2021-08-06 00:00:00   1970-01-01 00:00:00.000000099\n",
      "dtype: datetime64[ns]\n",
      "Index(['2021-07-06 12:00:00', '2021-08-06 00:00:00'], dtype='object')\n"
     ]
    }
   ],
   "source": [
    "ser = pd.Series([10, 99],\n",
    "                index=['2021-07-06 12:00:00',\n",
    "                       '2021-08-06 00:00:00'])\n",
    "ser_timestamp = pd.to_datetime(ser)  # 转换的仅是series的values\n",
    "\n",
    "print(ser_timestamp)\n",
    "print(ser_timestamp.index)"
   ]
  },
  {
   "cell_type": "code",
   "execution_count": 58,
   "outputs": [
    {
     "name": "stdout",
     "output_type": "stream",
     "text": [
      "2021-07-06 12:00:00    1\n",
      "2021-08-06 00:00:00    1\n",
      "dtype: int64\n",
      "2021-07-06 12:00:00    1\n",
      "2021-08-06 00:00:00    1\n",
      "Name: week, dtype: UInt32\n"
     ]
    }
   ],
   "source": [
    "print(ser_timestamp.dt.month)\n",
    "print(ser_timestamp.dt.isocalendar().week)"
   ],
   "metadata": {
    "collapsed": false,
    "pycharm": {
     "name": "#%%\n"
    }
   }
  },
  {
   "cell_type": "code",
   "execution_count": 59,
   "outputs": [
    {
     "name": "stdout",
     "output_type": "stream",
     "text": [
      "DatetimeIndex(['2011-07-06 12:00:00', '2011-08-06 00:00:00', 'NaT'], dtype='datetime64[ns]', freq=None)\n",
      "<class 'pandas.core.indexes.datetimes.DatetimeIndex'>\n"
     ]
    }
   ],
   "source": [
    "# to_datetime可以对那些被认为是缺失值的值(None, 空字符等)进行处理\n",
    "idx = pd.to_datetime(datestrs + [None])\n",
    "print(idx)\n",
    "print(type(idx))"
   ],
   "metadata": {
    "collapsed": false,
    "pycharm": {
     "name": "#%%\n"
    }
   }
  },
  {
   "cell_type": "code",
   "execution_count": 60,
   "metadata": {
    "pycharm": {
     "metadata": false,
     "name": "#%%\n"
    }
   },
   "outputs": [
    {
     "name": "stdout",
     "output_type": "stream",
     "text": [
      "2011-07-06 12:00:00\n",
      "2011\n",
      "6\n",
      "0\n",
      "187\n",
      "2\n",
      "3\n",
      "31\n"
     ]
    }
   ],
   "source": [
    "print(idx[0])\n",
    "print(idx[0].year)\n",
    "print(idx[0].day)\n",
    "print(idx[0].second)\n",
    "print(idx[0].dayofyear)\n",
    "print(idx[0].dayofweek)\n",
    "print(idx[0].quarter)\n",
    "print(idx[0].days_in_month)"
   ]
  },
  {
   "cell_type": "code",
   "execution_count": 61,
   "outputs": [
    {
     "name": "stdout",
     "output_type": "stream",
     "text": [
      "DatetimeIndex(['2011-07-06 12:00:00', '2011-08-06 00:00:00', 'NaT'], dtype='datetime64[ns]', freq=None)\n",
      "Float64Index([2011.0, 2011.0, nan], dtype='float64')\n",
      "Float64Index([6.0, 6.0, nan], dtype='float64')\n",
      "Float64Index([0.0, 0.0, nan], dtype='float64')\n",
      "Float64Index([187.0, 218.0, nan], dtype='float64')\n",
      "Float64Index([2.0, 5.0, nan], dtype='float64')\n",
      "Float64Index([3.0, 3.0, nan], dtype='float64')\n",
      "Float64Index([31.0, 31.0, nan], dtype='float64')\n"
     ]
    }
   ],
   "source": [
    "# 也可对DatetimeIndex进行统一处理\n",
    "print(idx)\n",
    "print(idx.year)\n",
    "print(idx.day)\n",
    "print(idx.second)\n",
    "print(idx.dayofyear)\n",
    "print(idx.dayofweek)\n",
    "print(idx.quarter)\n",
    "print(idx.days_in_month)"
   ],
   "metadata": {
    "collapsed": false,
    "pycharm": {
     "name": "#%%\n"
    }
   }
  },
  {
   "cell_type": "code",
   "execution_count": 62,
   "metadata": {
    "pycharm": {
     "metadata": false,
     "name": "#%%\n"
    }
   },
   "outputs": [
    {
     "data": {
      "text/plain": "NaT"
     },
     "execution_count": 62,
     "metadata": {},
     "output_type": "execute_result"
    }
   ],
   "source": [
    "idx[2]  # NaT(Not a time)"
   ]
  },
  {
   "cell_type": "code",
   "execution_count": 62,
   "metadata": {
    "pycharm": {
     "metadata": false,
     "name": "#%%\n"
    }
   },
   "outputs": [],
   "source": [
    "\n"
   ]
  }
 ],
 "metadata": {
  "kernelspec": {
   "display_name": "Python 3",
   "language": "python",
   "name": "python3"
  },
  "language_info": {
   "codemirror_mode": {
    "name": "ipython",
    "version": 3
   },
   "file_extension": ".py",
   "mimetype": "text/x-python",
   "name": "python",
   "nbconvert_exporter": "python",
   "pygments_lexer": "ipython3",
   "version": "3.7.9"
  },
  "stem_cell": {
   "cell_type": "raw",
   "metadata": {
    "pycharm": {
     "metadata": false
    }
   },
   "source": ""
  },
  "toc": {
   "base_numbering": 1,
   "nav_menu": {},
   "number_sections": true,
   "sideBar": true,
   "skip_h1_title": false,
   "title_cell": "Table of Contents",
   "title_sidebar": "Contents",
   "toc_cell": false,
   "toc_position": {},
   "toc_section_display": true,
   "toc_window_display": false
  }
 },
 "nbformat": 4,
 "nbformat_minor": 1
}