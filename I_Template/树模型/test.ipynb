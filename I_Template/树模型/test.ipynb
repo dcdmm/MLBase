{
 "cells": [
  {
   "cell_type": "code",
   "execution_count": 121,
   "metadata": {
    "collapsed": true,
    "pycharm": {
     "name": "#%%\n"
    }
   },
   "outputs": [],
   "source": [
    "from sklearn import datasets\n",
    "from sklearn.model_selection import train_test_split\n",
    "import numpy as np\n",
    "from sklearn.preprocessing import OrdinalEncoder\n",
    "from sklearn.model_selection import KFold\n",
    "\n",
    "from lightgbm_model import MyLightGBM\n",
    "from catboost_model import MyCatboost\n",
    "%run lightgbm_model.py\n",
    "%run catboost_model.py"
   ]
  },
  {
   "cell_type": "code",
   "execution_count": 122,
   "outputs": [
    {
     "name": "stdout",
     "output_type": "stream",
     "text": [
      "(2700, 54) (300,)\n",
      "[1 2 3 4 5 6 7]\n"
     ]
    }
   ],
   "source": [
    "X = datasets.fetch_covtype().data[:3000]\n",
    "y = datasets.fetch_covtype().target[:3000]\n",
    "X_train, X_test, y_train, y_test = train_test_split(X, y, test_size=0.1)\n",
    "\n",
    "print(X_train.shape, y_test.shape)\n",
    "print(np.unique(y_train))  # 7分类任务"
   ],
   "metadata": {
    "collapsed": false,
    "pycharm": {
     "name": "#%%\n"
    }
   }
  },
  {
   "cell_type": "code",
   "execution_count": 123,
   "outputs": [
    {
     "name": "stdout",
     "output_type": "stream",
     "text": [
      "[0. 1. 2. 3. 4. 5. 6.]\n",
      "(2700,)\n"
     ]
    }
   ],
   "source": [
    "enc = OrdinalEncoder()\n",
    "y_train_enc = enc.fit_transform(y_train.reshape(-1, 1)).reshape(-1, )\n",
    "y_test_enc = enc.transform(y_test.reshape(-1, 1)).reshape(-1, )\n",
    "print(np.unique(y_train_enc))\n",
    "print(y_train_enc.shape)"
   ],
   "metadata": {
    "collapsed": false,
    "pycharm": {
     "name": "#%%\n"
    }
   }
  },
  {
   "cell_type": "code",
   "execution_count": 124,
   "outputs": [],
   "source": [
    "kfold = KFold(n_splits=5, shuffle=True, random_state=1)\n",
    "lgb_params = {\"objective\": \"multiclass\",\n",
    "              \"num_class\": 7,\n",
    "              \"verbose\": -4, \"metric\": (\"multi_logloss\",)}\n",
    "\n",
    "cat_params = {\"loss_function\": \"MultiClass\",\n",
    "              \"eval_metric\": \"MultiClass\",\n",
    "              \"allow_writing_files\": False,\n",
    "              \"verbose\": True,\n",
    "              \"thread_count\": -1,\n",
    "              \"use_best_model\": True\n",
    "              }"
   ],
   "metadata": {
    "collapsed": false,
    "pycharm": {
     "name": "#%%\n"
    }
   }
  },
  {
   "cell_type": "markdown",
   "source": [
    "### lightgbm测试"
   ],
   "metadata": {
    "collapsed": false,
    "pycharm": {
     "name": "#%% md\n"
    }
   }
  },
  {
   "cell_type": "code",
   "execution_count": null,
   "outputs": [],
   "source": [
    "\n",
    "lgb_train_pre, lgb_test_pre, lgb_model_list = MyLightGBM(X_train_data=X_train,\n",
    "                                                         y_train_data=y_train_enc,\n",
    "                                                         X_test_data=X_test,\n",
    "                                                         kfold=kfold,\n",
    "                                                         params=lgb_params,\n",
    "                                                         verbose_eval=100,\n",
    "                                                         early_stopping_rounds=100,\n",
    "                                                         feval=None, fweight=None, categorical_feature=\"auto\")"
   ],
   "metadata": {
    "collapsed": false,
    "pycharm": {
     "name": "#%%\n"
    }
   }
  },
  {
   "cell_type": "code",
   "execution_count": 126,
   "outputs": [
    {
     "name": "stdout",
     "output_type": "stream",
     "text": [
      "(2700, 7)\n",
      "(2700, 7)\n",
      "[<lightgbm.basic.Booster object at 0x0000022884F0F040>, <lightgbm.basic.Booster object at 0x00000228852FD8E0>, <lightgbm.basic.Booster object at 0x0000022885316460>, <lightgbm.basic.Booster object at 0x00000228849A3820>, <lightgbm.basic.Booster object at 0x00000228849A3760>]\n"
     ]
    }
   ],
   "source": [
    "print(lgb_train_pre.shape)\n",
    "print(lgb_train_pre.shape)\n",
    "print(lgb_model_list)"
   ],
   "metadata": {
    "collapsed": false,
    "pycharm": {
     "name": "#%%\n"
    }
   }
  },
  {
   "cell_type": "markdown",
   "source": [
    "### catboost测试"
   ],
   "metadata": {
    "collapsed": false,
    "pycharm": {
     "name": "#%% md\n"
    }
   }
  },
  {
   "cell_type": "code",
   "execution_count": null,
   "outputs": [],
   "source": [
    "cat_train_pre, cat_test_pre, cat_model_list = MyCatboost(X_train_data=X_train,\n",
    "                                                         y_train_data=y_train_enc,\n",
    "                                                         X_test_data=X_test,\n",
    "                                                         kfold=kfold,\n",
    "                                                         params=cat_params,\n",
    "                                                         num_class=7,\n",
    "                                                         early_stopping_rounds=100,\n",
    "                                                         verbose_eval=200,\n",
    "                                                         fweight=None)"
   ],
   "metadata": {
    "collapsed": false,
    "pycharm": {
     "name": "#%%\n"
    }
   }
  },
  {
   "cell_type": "code",
   "execution_count": 129,
   "outputs": [
    {
     "name": "stdout",
     "output_type": "stream",
     "text": [
      "(2700, 7)\n",
      "(2700, 7)\n",
      "[<catboost.core.CatBoost object at 0x00000228852E5B50>, <catboost.core.CatBoost object at 0x0000022885316760>, <catboost.core.CatBoost object at 0x0000022885313820>, <catboost.core.CatBoost object at 0x0000022885313520>, <catboost.core.CatBoost object at 0x0000022885313FA0>]\n"
     ]
    }
   ],
   "source": [
    "print(cat_train_pre.shape)\n",
    "print(cat_train_pre.shape)\n",
    "print(cat_model_list)"
   ],
   "metadata": {
    "collapsed": false,
    "pycharm": {
     "name": "#%%\n"
    }
   }
  }
 ],
 "metadata": {
  "kernelspec": {
   "display_name": "Python 3",
   "language": "python",
   "name": "python3"
  },
  "language_info": {
   "codemirror_mode": {
    "name": "ipython",
    "version": 2
   },
   "file_extension": ".py",
   "mimetype": "text/x-python",
   "name": "python",
   "nbconvert_exporter": "python",
   "pygments_lexer": "ipython2",
   "version": "2.7.6"
  }
 },
 "nbformat": 4,
 "nbformat_minor": 0
}