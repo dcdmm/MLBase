{
 "cells": [
  {
   "cell_type": "code",
   "execution_count": 19,
   "outputs": [
    {
     "name": "stdout",
     "text": [
      "-1.01\n-\n1\n.\n01\n"
     ],
     "output_type": "stream"
    }
   ],
   "source": [
    "import re\n",
    "\n",
    "kid_group_1 = re.match('([+-]?)(\\d+)(\\.?)(\\d*)',\"-1.01\") # 使用(进行分组)\n",
    "print(kid_group_1.group()) # ([+-]?)(\\d+)(\\.?)(\\d*) \n",
    "print(kid_group_1.group(1)) # [+-]?\n",
    "print(kid_group_1.group(2)) # (\\d+)\n",
    "print(kid_group_1.group(3)) # (\\.?)\n",
    "print(kid_group_1.group(4)) # (\\d*)"
   ],
   "metadata": {
    "collapsed": false,
    "pycharm": {
     "name": "#%%\n",
     "is_executing": false
    }
   }
  },
  {
   "cell_type": "code",
   "execution_count": 20,
   "outputs": [
    {
     "name": "stdout",
     "text": [
      "2008-12-11\n2008\n12-11\n11\n"
     ],
     "output_type": "stream"
    }
   ],
   "source": [
    "kid_group_2 = re.match('(\\d{4})-(\\d{2}-(\\d\\d))', '2008-12-11')\n",
    "print(kid_group_2.group()) # \\d{4})-(\\d{2}-(\\d\\d))\n",
    "print(kid_group_2.group(1)) # \\d{4}\n",
    "print(kid_group_2.group(2)) # (\\d{2}-(\\d\\d)) \n",
    "print(kid_group_2.group(3)) # (\\d\\d)"
   ],
   "metadata": {
    "collapsed": false,
    "pycharm": {
     "name": "#%%\n",
     "is_executing": false
    }
   }
  },
  {
   "cell_type": "code",
   "execution_count": 21,
   "outputs": [
    {
     "data": {
      "text/plain": "'230.192.168.78'"
     },
     "metadata": {},
     "output_type": "execute_result",
     "execution_count": 21
    }
   ],
   "source": [
    "s = \"ip='230.192.168.78',version='1.0.0'\"\n",
    "# 命名分组的格式:(?P<name>正则表达式)\n",
    "res = re.search(r\"ip='(?P<ip>\\d+\\.\\d+\\.\\d+\\.\\d+).*\", s)\n",
    "res.group('ip') # 通过命名分组引用分组"
   ],
   "metadata": {
    "collapsed": false,
    "pycharm": {
     "name": "#%%\n",
     "is_executing": false
    }
   }
  },
  {
   "cell_type": "code",
   "execution_count": 27,
   "outputs": [
    {
     "name": "stdout",
     "text": [
      "first name is: Eric\nlast name is: Brown\n"
     ],
     "output_type": "stream"
    }
   ],
   "source": [
    "print('first name is:', re.match('(?P<first_name>\\w+) (?P<last_name>\\w+)',\n",
    "                                 'Eric Brown').group('first_name'))\n",
    " \n",
    "print(\"last name is:\", re.match('(?P<first_name>\\w+) (?P<last_name>\\w+)',\n",
    "                                'Eric Brown').group('last_name'))"
   ],
   "metadata": {
    "collapsed": false,
    "pycharm": {
     "name": "#%%\n",
     "is_executing": false
    }
   }
  },
  {
   "cell_type": "code",
   "execution_count": 34,
   "outputs": [
    {
     "name": "stdout",
     "text": [
      "[('2017-07-10', '2017-07', '2017', '20', '00')]\n2017-07-10 20:00\n2017-07-10\n2017-07\n2017\n20\n00\n"
     ],
     "output_type": "stream"
    }
   ],
   "source": [
    "# 嵌套分组\n",
    "time  = '2017-07-10 20:00'\n",
    "p = re.compile(r'(((\\d{4})-\\d{2})-\\d{2}) (\\d{2}):(\\d{2})')\n",
    "print(re.findall(p, time))\n",
    "kid_group_3 = re.search(p, time)\n",
    "\n",
    "print(kid_group_3.group()) # (((\\d{4})-\\d{2})-\\d{2}) (\\d{2}):(\\d{2}) \n",
    "print(kid_group_3.group(1)) # (((\\d{4})-\\d{2})-\\d{2}) \n",
    "print(kid_group_3.group(2)) # ((\\d{4})-\\d{2}) \n",
    "print(kid_group_3.group(3)) # (\\d{4})\n",
    "print(kid_group_3.group(4)) # (\\d{2})\n",
    "print(kid_group_3.group(5)) # (\\d{2})"
   ],
   "metadata": {
    "collapsed": false,
    "pycharm": {
     "name": "#%%\n",
     "is_executing": false
    }
   }
  },
  {
   "cell_type": "code",
   "execution_count": null,
   "outputs": [],
   "source": [
    "\n"
   ],
   "metadata": {
    "collapsed": false,
    "pycharm": {
     "name": "#%%\n"
    }
   }
  }
 ],
 "metadata": {
  "kernelspec": {
   "display_name": "Python 3",
   "language": "python",
   "name": "python3"
  },
  "language_info": {
   "codemirror_mode": {
    "name": "ipython",
    "version": 2
   },
   "file_extension": ".py",
   "mimetype": "text/x-python",
   "name": "python",
   "nbconvert_exporter": "python",
   "pygments_lexer": "ipython2",
   "version": "2.7.6"
  },
  "pycharm": {
   "stem_cell": {
    "cell_type": "raw",
    "source": [],
    "metadata": {
     "collapsed": false
    }
   }
  }
 },
 "nbformat": 4,
 "nbformat_minor": 0
}