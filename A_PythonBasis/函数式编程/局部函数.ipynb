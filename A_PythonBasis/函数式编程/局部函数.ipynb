{
 "cells": [
  {
   "cell_type": "code",
   "execution_count": 35,
   "outputs": [
    {
     "name": "stdout",
     "output_type": "stream",
     "text": [
      "square\n",
      "9\n",
      "cube\n",
      "27\n",
      "other\n",
      "6\n"
     ]
    }
   ],
   "source": [
    "# 放在函数体内定义的函数称为局部函数\n",
    "def get_math_func(fun_type, nn):\n",
    "    def square(n):\n",
    "        print(fun_type)\n",
    "        return n * n\n",
    "\n",
    "    def cube(n):\n",
    "        print(fun_type)\n",
    "        return n * n * n\n",
    "\n",
    "    def factorial(n):\n",
    "        print(fun_type)\n",
    "        result = 1\n",
    "        for index in range(2, n + 1):\n",
    "            result *= index\n",
    "        return result\n",
    "\n",
    "    if fun_type == \"square\":\n",
    "        return square(nn)\n",
    "    elif fun_type == \"cube\":\n",
    "        return cube(nn)\n",
    "    else:\n",
    "        return factorial(nn)\n",
    "\n",
    "\n",
    "print(get_math_func(\"square\", 3))\n",
    "print(get_math_func(\"cube\", 3))\n",
    "print(get_math_func(\"other\", 3))"
   ],
   "metadata": {
    "collapsed": false,
    "pycharm": {
     "name": "#%%\n"
    },
    "ExecuteTime": {
     "end_time": "2023-11-20T08:03:32.184530200Z",
     "start_time": "2023-11-20T08:03:32.154177700Z"
    }
   }
  },
  {
   "cell_type": "code",
   "execution_count": 36,
   "outputs": [
    {
     "name": "stdout",
     "output_type": "stream",
     "text": [
      "ok\n"
     ]
    }
   ],
   "source": [
    "def test(name):\n",
    "    def check(text):\n",
    "        if text == name:  # 读取外部函数变量(不进行修改)\n",
    "            print('ok')\n",
    "        else:\n",
    "            print('no')\n",
    "\n",
    "    check('duanchao')\n",
    "\n",
    "\n",
    "test('duanchao')"
   ],
   "metadata": {
    "collapsed": false,
    "ExecuteTime": {
     "end_time": "2023-11-20T08:03:32.572846200Z",
     "start_time": "2023-11-20T08:03:32.552912600Z"
    }
   }
  },
  {
   "cell_type": "code",
   "execution_count": 37,
   "outputs": [
    {
     "name": "stdout",
     "output_type": "stream",
     "text": [
      "Charlie\n"
     ]
    }
   ],
   "source": [
    "def foo0():\n",
    "    name = 'Charlie'\n",
    "\n",
    "    def bar0():\n",
    "        print(name)  # 读取外部函数变量(不进行修改)\n",
    "\n",
    "    bar0()\n",
    "\n",
    "\n",
    "foo0()"
   ],
   "metadata": {
    "collapsed": false,
    "ExecuteTime": {
     "end_time": "2023-11-20T08:03:33.028552200Z",
     "start_time": "2023-11-20T08:03:32.952207300Z"
    }
   }
  },
  {
   "cell_type": "code",
   "execution_count": 38,
   "outputs": [
    {
     "ename": "UnboundLocalError",
     "evalue": "local variable 'name' referenced before assignment",
     "output_type": "error",
     "traceback": [
      "\u001B[1;31m---------------------------------------------------------------------------\u001B[0m",
      "\u001B[1;31mUnboundLocalError\u001B[0m                         Traceback (most recent call last)",
      "Cell \u001B[1;32mIn[38], line 13\u001B[0m\n\u001B[0;32m      8\u001B[0m             \u001B[38;5;28mprint\u001B[39m(\u001B[38;5;124m'\u001B[39m\u001B[38;5;124mno\u001B[39m\u001B[38;5;124m'\u001B[39m)\n\u001B[0;32m     10\u001B[0m     check0(\u001B[38;5;124m'\u001B[39m\u001B[38;5;124mduanchao\u001B[39m\u001B[38;5;124m'\u001B[39m)\n\u001B[1;32m---> 13\u001B[0m \u001B[43mtest0\u001B[49m\u001B[43m(\u001B[49m\u001B[38;5;124;43m'\u001B[39;49m\u001B[38;5;124;43mduanchao\u001B[39;49m\u001B[38;5;124;43m'\u001B[39;49m\u001B[43m)\u001B[49m\n",
      "Cell \u001B[1;32mIn[38], line 10\u001B[0m, in \u001B[0;36mtest0\u001B[1;34m(name)\u001B[0m\n\u001B[0;32m      7\u001B[0m         name \u001B[38;5;241m=\u001B[39m \u001B[38;5;124m\"\u001B[39m\u001B[38;5;124mjava\u001B[39m\u001B[38;5;124m\"\u001B[39m\n\u001B[0;32m      8\u001B[0m         \u001B[38;5;28mprint\u001B[39m(\u001B[38;5;124m'\u001B[39m\u001B[38;5;124mno\u001B[39m\u001B[38;5;124m'\u001B[39m)\n\u001B[1;32m---> 10\u001B[0m \u001B[43mcheck0\u001B[49m\u001B[43m(\u001B[49m\u001B[38;5;124;43m'\u001B[39;49m\u001B[38;5;124;43mduanchao\u001B[39;49m\u001B[38;5;124;43m'\u001B[39;49m\u001B[43m)\u001B[49m\n",
      "Cell \u001B[1;32mIn[38], line 3\u001B[0m, in \u001B[0;36mtest0.<locals>.check0\u001B[1;34m(text)\u001B[0m\n\u001B[0;32m      2\u001B[0m \u001B[38;5;28;01mdef\u001B[39;00m \u001B[38;5;21mcheck0\u001B[39m(text):\n\u001B[1;32m----> 3\u001B[0m     \u001B[38;5;28;01mif\u001B[39;00m text \u001B[38;5;241m==\u001B[39m \u001B[43mname\u001B[49m:  \u001B[38;5;66;03m# 报错:local variable 'name' referenced before assignment\u001B[39;00m\n\u001B[0;32m      4\u001B[0m         name \u001B[38;5;241m=\u001B[39m \u001B[38;5;124m\"\u001B[39m\u001B[38;5;124mpython\u001B[39m\u001B[38;5;124m\"\u001B[39m  \u001B[38;5;66;03m# name被视为check1的局部变量\u001B[39;00m\n\u001B[0;32m      5\u001B[0m         \u001B[38;5;28mprint\u001B[39m(\u001B[38;5;124m'\u001B[39m\u001B[38;5;124mok\u001B[39m\u001B[38;5;124m'\u001B[39m)\n",
      "\u001B[1;31mUnboundLocalError\u001B[0m: local variable 'name' referenced before assignment"
     ]
    }
   ],
   "source": [
    "def test0(name):\n",
    "    def check0(text):\n",
    "        if text == name:  # 报错:local variable 'name' referenced before assignment\n",
    "            name = \"python\"  # name被视为check1的局部变量\n",
    "            print('ok')\n",
    "        else:\n",
    "            name = \"java\"\n",
    "            print('no')\n",
    "\n",
    "    check0('duanchao')\n",
    "\n",
    "\n",
    "test0('duanchao')"
   ],
   "metadata": {
    "collapsed": false,
    "ExecuteTime": {
     "end_time": "2023-11-20T08:03:33.476679300Z",
     "start_time": "2023-11-20T08:03:33.445115Z"
    }
   }
  },
  {
   "cell_type": "code",
   "execution_count": 39,
   "outputs": [
    {
     "ename": "UnboundLocalError",
     "evalue": "local variable 'name' referenced before assignment",
     "output_type": "error",
     "traceback": [
      "\u001B[1;31m---------------------------------------------------------------------------\u001B[0m",
      "\u001B[1;31mUnboundLocalError\u001B[0m                         Traceback (most recent call last)",
      "Cell \u001B[1;32mIn[39], line 11\u001B[0m\n\u001B[0;32m      6\u001B[0m         name \u001B[38;5;241m=\u001B[39m \u001B[38;5;124m'\u001B[39m\u001B[38;5;124m孙悟空\u001B[39m\u001B[38;5;124m'\u001B[39m  \u001B[38;5;66;03m# name被视为bar0的局部变量\u001B[39;00m\n\u001B[0;32m      8\u001B[0m     bar0()\n\u001B[1;32m---> 11\u001B[0m \u001B[43mfoo0\u001B[49m\u001B[43m(\u001B[49m\u001B[43m)\u001B[49m\n",
      "Cell \u001B[1;32mIn[39], line 8\u001B[0m, in \u001B[0;36mfoo0\u001B[1;34m()\u001B[0m\n\u001B[0;32m      5\u001B[0m     \u001B[38;5;28mprint\u001B[39m(name)  \u001B[38;5;66;03m# 报错,local variable 'name' referenced before assignment\u001B[39;00m\n\u001B[0;32m      6\u001B[0m     name \u001B[38;5;241m=\u001B[39m \u001B[38;5;124m'\u001B[39m\u001B[38;5;124m孙悟空\u001B[39m\u001B[38;5;124m'\u001B[39m  \u001B[38;5;66;03m# name被视为bar0的局部变量\u001B[39;00m\n\u001B[1;32m----> 8\u001B[0m \u001B[43mbar0\u001B[49m\u001B[43m(\u001B[49m\u001B[43m)\u001B[49m\n",
      "Cell \u001B[1;32mIn[39], line 5\u001B[0m, in \u001B[0;36mfoo0.<locals>.bar0\u001B[1;34m()\u001B[0m\n\u001B[0;32m      4\u001B[0m \u001B[38;5;28;01mdef\u001B[39;00m \u001B[38;5;21mbar0\u001B[39m():\n\u001B[1;32m----> 5\u001B[0m     \u001B[38;5;28mprint\u001B[39m(\u001B[43mname\u001B[49m)  \u001B[38;5;66;03m# 报错,local variable 'name' referenced before assignment\u001B[39;00m\n\u001B[0;32m      6\u001B[0m     name \u001B[38;5;241m=\u001B[39m \u001B[38;5;124m'\u001B[39m\u001B[38;5;124m孙悟空\u001B[39m\u001B[38;5;124m'\u001B[39m\n",
      "\u001B[1;31mUnboundLocalError\u001B[0m: local variable 'name' referenced before assignment"
     ]
    }
   ],
   "source": [
    "def foo0():\n",
    "    name = 'Charlie'  \n",
    "\n",
    "    def bar0():\n",
    "        print(name)  # 报错,local variable 'name' referenced before assignment\n",
    "        name = '孙悟空'  # name被视为bar0的局部变量\n",
    "\n",
    "    bar0()\n",
    "\n",
    "\n",
    "foo0()"
   ],
   "metadata": {
    "collapsed": false,
    "ExecuteTime": {
     "end_time": "2023-11-20T08:03:33.962073Z",
     "start_time": "2023-11-20T08:03:33.922858Z"
    }
   }
  },
  {
   "cell_type": "code",
   "execution_count": 40,
   "outputs": [
    {
     "name": "stdout",
     "output_type": "stream",
     "text": [
      "Charlie\n",
      "孙悟空\n",
      "ok\n",
      "python\n"
     ]
    }
   ],
   "source": [
    "# 解决方法一:nonlocal关键字(嵌套函数中内部函数修改外部变量的值)\n",
    "def foo1():\n",
    "    name1 = 'Charlie'\n",
    "\n",
    "    def bar1():\n",
    "        nonlocal name1\n",
    "        print(name1)\n",
    "        name1 = '孙悟空'\n",
    "\n",
    "    bar1()\n",
    "    print(name1)\n",
    "\n",
    "\n",
    "foo1()\n",
    "\n",
    "\n",
    "def test1(name):\n",
    "    def check1(text):\n",
    "        nonlocal name\n",
    "        if text == name:  \n",
    "            name = \"python\" \n",
    "            print('ok')\n",
    "        else:\n",
    "            name = \"java\"\n",
    "            print('no')\n",
    "\n",
    "    check1('duanchao')\n",
    "    print(name)\n",
    "\n",
    "test1('duanchao')\n"
   ],
   "metadata": {
    "pycharm": {
     "metadata": false,
     "name": "#%%\n"
    },
    "ExecuteTime": {
     "end_time": "2023-11-20T08:03:34.375070400Z",
     "start_time": "2023-11-20T08:03:34.336203700Z"
    }
   }
  },
  {
   "cell_type": "code",
   "execution_count": 41,
   "outputs": [
    {
     "name": "stdout",
     "output_type": "stream",
     "text": [
      "['Charlie']\n",
      "['孙悟空']\n",
      "ok\n"
     ]
    }
   ],
   "source": [
    "# 解决方法二:\n",
    "def foo2():\n",
    "    name2 = ['Charlie']  # 列表不是存放在栈空间\n",
    "\n",
    "    def bar2():\n",
    "        print(name2)\n",
    "        name2[0] = '孙悟空'\n",
    "\n",
    "    bar2()\n",
    "    print(name2)\n",
    "\n",
    "\n",
    "foo2()\n",
    "\n",
    "\n",
    "def test2(name):\n",
    "    def check2(text):\n",
    "        if text == name:  \n",
    "            name.clear()\n",
    "            name.append('python')\n",
    "            print('ok')\n",
    "        else:\n",
    "            name.clear()\n",
    "            name.append('java')\n",
    "            print('no')\n",
    "\n",
    "    check2(['duanchao'])\n",
    "\n",
    "\n",
    "test2(['duanchao'])"
   ],
   "metadata": {
    "pycharm": {
     "metadata": false,
     "name": "#%%\n"
    },
    "ExecuteTime": {
     "end_time": "2023-11-20T08:03:34.760670300Z",
     "start_time": "2023-11-20T08:03:34.722601Z"
    }
   }
  }
 ],
 "metadata": {
  "language_info": {
   "codemirror_mode": {
    "name": "ipython",
    "version": 2
   },
   "file_extension": ".py",
   "mimetype": "text/x-python",
   "name": "python",
   "nbconvert_exporter": "python",
   "pygments_lexer": "ipython2",
   "version": "2.7.6"
  },
  "kernelspec": {
   "name": "python3",
   "language": "python",
   "display_name": "Python 3"
  }
 },
 "nbformat": 4,
 "nbformat_minor": 0
}
