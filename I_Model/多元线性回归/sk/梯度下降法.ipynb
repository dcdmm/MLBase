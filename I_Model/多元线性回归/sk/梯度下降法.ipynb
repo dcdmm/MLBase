{
 "cells": [
  {
   "cell_type": "code",
   "execution_count": 1,
   "metadata": {
    "collapsed": true,
    "pycharm": {
     "name": "#%%\n",
     "is_executing": false
    }
   },
   "outputs": [],
   "source": [
    "from sklearn.linear_model import SGDRegressor\n",
    "from sklearn import datasets\n",
    "from sklearn.model_selection import train_test_split\n",
    "from sklearn.preprocessing import StandardScaler"
   ]
  },
  {
   "cell_type": "code",
   "execution_count": 2,
   "outputs": [
    {
     "name": "stdout",
     "text": [
      "Wall time: 2.05 ms\n"
     ],
     "output_type": "stream"
    },
    {
     "data": {
      "text/plain": "0.7588825451659659"
     },
     "metadata": {},
     "output_type": "execute_result",
     "execution_count": 2
    }
   ],
   "source": [
    "boston = datasets.load_boston() # 波士顿房产数据集\n",
    "X = boston.data\n",
    "y = boston.target\n",
    "X = X[y < 50.0]\n",
    "y = y[y < 50.0]\n",
    "X_train, X_test, y_train, y_test = train_test_split(X, y, test_size=0.3333)"
   ],
   "metadata": {
    "collapsed": false,
    "pycharm": {
     "name": "#%%\n",
     "is_executing": false
    }
   }
  },
  {
   "cell_type": "code",
   "execution_count": null,
   "outputs": [],
   "source": [
    "standardScaler = StandardScaler()\n",
    "standardScaler.fit(X_train)\n",
    "X_train_standard = standardScaler.transform(X_train) # 数据归一化\n",
    "X_test_standard = standardScaler.transform(X_test)"
   ],
   "metadata": {
    "collapsed": false,
    "pycharm": {
     "name": "#%%\n"
    }
   }
  },
  {
   "cell_type": "code",
   "execution_count": 8,
   "outputs": [
    {
     "name": "stdout",
     "text": [
      "Wall time: 3.99 ms\n"
     ],
     "output_type": "stream"
    },
    {
     "data": {
      "text/plain": "SGDRegressor(alpha=0.0001, average=False, early_stopping=False, epsilon=0.1,\n             eta0=0.01, fit_intercept=True, l1_ratio=0.15,\n             learning_rate='invscaling', loss='squared_loss', max_iter=100,\n             n_iter_no_change=5, penalty='l2', power_t=0.25, random_state=None,\n             shuffle=True, tol=0.001, validation_fraction=0.1, verbose=0,\n             warm_start=False)"
     },
     "metadata": {},
     "output_type": "execute_result",
     "execution_count": 8
    }
   ],
   "source": [
    "sgd_reg = SGDRegressor(max_iter=100)\n",
    "# max_iter:训练的最大轮数\n",
    "%time sgd_reg.fit(X_train_standard, y_train)"
   ],
   "metadata": {
    "collapsed": false,
    "pycharm": {
     "name": "#%%\n",
     "is_executing": false
    }
   }
  },
  {
   "cell_type": "code",
   "execution_count": 9,
   "outputs": [
    {
     "data": {
      "text/plain": "0.7582028141278424"
     },
     "metadata": {},
     "output_type": "execute_result",
     "execution_count": 9
    }
   ],
   "source": [
    "sgd_reg.score(X_test_standard, y_test) # 模型的可决系数R平方"
   ],
   "metadata": {
    "collapsed": false,
    "pycharm": {
     "name": "#%%\n",
     "is_executing": false
    }
   }
  },
  {
   "cell_type": "code",
   "execution_count": 10,
   "outputs": [
    {
     "data": {
      "text/plain": "array([-1034.74985956,  -375.45374148,  -331.06908114,  -447.3797523 ,\n        -492.92352046, -1069.02508842, -1056.92961574,  -389.71039769,\n        -419.78770454,  -206.16871674, -1290.11742962,  -382.09376729,\n        -351.7756675 ,  -201.93627584, -1065.97608881,  -239.46384652,\n        -282.87267125,  -368.48364075, -1232.44336419,  -469.50797231,\n        -535.5237022 ,  -351.7688632 ,  -587.96110736,  -381.08515073,\n        -604.70389929,  -378.22521927,  -380.09632559, -1093.92478322,\n        -389.88644647,  -403.20653447, -1018.83453856,  -408.51891516,\n        -407.78347655,  -273.70990726,  -245.98250891,  -438.18050384,\n        -320.58565186, -1292.94973454,  -417.26296535,  -375.45113093,\n       -1099.36568592,  -331.11668014,  -361.24994601,  -685.76639058,\n        -361.44798204,  -358.22475725, -1087.42720693, -1262.28812899,\n        -225.52120348,  -242.20467345,  -673.41162672, -1267.93445708,\n        -463.64226772,  -344.90190673, -1123.01100113,  -231.92671578,\n        -593.42001865, -1232.70815723,  -334.26023155,  -379.41958235,\n        -378.37337144,  -238.73763941,  -272.92597685, -1077.4814203 ,\n        -439.5066119 ,  -414.12726998, -1048.95560063,  -337.08643357,\n        -398.95266881, -1214.05397414,  -352.92332326,  -231.94306088,\n        -250.81052354, -1043.09694633, -1099.08128014,  -145.35338937,\n        -235.83275829,  -577.84704311,  -373.96103669,  -327.98716886,\n        -352.98600175,  -194.92596883,  -755.89387955,  -399.72966533,\n        -233.2308349 , -1030.1667777 ,  -308.36993764,  -376.39402578,\n        -208.1718289 ,  -447.71907536,  -608.88772636,  -357.68998749,\n        -372.90675514,  -679.37499367, -1049.7407373 ,  -442.31736004,\n       -1061.43791553, -1067.02811549,  -358.3377677 ,  -390.90102466,\n        -342.85104483, -1264.32926945,  -351.70744524,  -352.41207733,\n        -191.81644842,  -320.85184859,  -249.94050119,  -322.43851983,\n       -1040.60410401,  -675.53080387,  -635.6774603 ,  -362.99690424,\n        -612.43167995,  -577.61157083, -1093.27826231,  -391.06526024,\n        -313.65827859, -1093.98173099, -1261.06549294, -1054.73738782,\n       -1272.56227703, -1044.65051446,  -490.46013674,  -271.11248672,\n        -396.03379149,  -412.54484098,  -409.9391705 ,  -244.44140419,\n       -1107.13805613,  -554.03815913, -1012.12390655,  -355.99848852,\n        -317.98517878,  -322.38663069,  -629.99640077,  -619.30555106,\n        -433.9384538 ,  -669.9173318 , -1098.21757022, -1110.45327912,\n       -1068.70016377,  -456.98370369,  -628.27659343,  -214.26181648,\n       -1086.89621276,  -332.22928258,  -377.86633627,  -356.24109719,\n       -1044.82043844,  -250.5057037 ,  -209.83419873,  -583.43332928,\n        -235.21603299, -1112.62493754,  -675.09666605,  -337.86463603,\n        -443.18298026, -1069.64815728,  -566.09138893, -1243.19385237,\n        -333.07217   , -1190.36987117, -1220.52403578,  -307.32711033])"
     },
     "metadata": {},
     "output_type": "execute_result",
     "execution_count": 10
    }
   ],
   "source": [
    "sgd_reg.predict(X_test) # Predict using the linear model"
   ],
   "metadata": {
    "collapsed": false,
    "pycharm": {
     "name": "#%%\n",
     "is_executing": false
    }
   }
  },
  {
   "cell_type": "code",
   "execution_count": 12,
   "outputs": [
    {
     "data": {
      "text/plain": "array([-0.7593678 ,  0.66655217, -0.47419853, -0.03612705, -1.58601903,\n        2.52136441, -0.82119778, -2.6192668 ,  1.36270824, -1.76063078,\n       -1.75202088,  0.54812339, -2.06137526])"
     },
     "metadata": {},
     "output_type": "execute_result",
     "execution_count": 12
    }
   ],
   "source": [
    "sgd_reg.coef_ # 解释变量系数"
   ],
   "metadata": {
    "collapsed": false,
    "pycharm": {
     "name": "#%%\n",
     "is_executing": false
    }
   }
  },
  {
   "cell_type": "code",
   "execution_count": 13,
   "outputs": [
    {
     "data": {
      "text/plain": "array([21.3976068])"
     },
     "metadata": {},
     "output_type": "execute_result",
     "execution_count": 13
    }
   ],
   "source": [
    "sgd_reg.intercept_ # 截距项"
   ],
   "metadata": {
    "collapsed": false,
    "pycharm": {
     "name": "#%%\n",
     "is_executing": false
    }
   }
  },
  {
   "cell_type": "code",
   "execution_count": 14,
   "outputs": [
    {
     "data": {
      "text/plain": "42"
     },
     "metadata": {},
     "output_type": "execute_result",
     "execution_count": 14
    }
   ],
   "source": [
    "sgd_reg.n_iter_ # 达到停止条件时实际迭代轮数"
   ],
   "metadata": {
    "collapsed": false,
    "pycharm": {
     "name": "#%%\n",
     "is_executing": false
    }
   }
  },
  {
   "cell_type": "code",
   "execution_count": null,
   "outputs": [],
   "source": [
    "\n"
   ],
   "metadata": {
    "collapsed": false,
    "pycharm": {
     "name": "#%%\n"
    }
   }
  }
 ],
 "metadata": {
  "kernelspec": {
   "display_name": "Python 3",
   "language": "python",
   "name": "python3"
  },
  "language_info": {
   "codemirror_mode": {
    "name": "ipython",
    "version": 2
   },
   "file_extension": ".py",
   "mimetype": "text/x-python",
   "name": "python",
   "nbconvert_exporter": "python",
   "pygments_lexer": "ipython2",
   "version": "2.7.6"
  },
  "pycharm": {
   "stem_cell": {
    "cell_type": "raw",
    "source": [],
    "metadata": {
     "collapsed": false
    }
   }
  }
 },
 "nbformat": 4,
 "nbformat_minor": 0
}