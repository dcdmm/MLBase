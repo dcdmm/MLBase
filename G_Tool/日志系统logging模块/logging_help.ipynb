{
 "cells": [
  {
   "cell_type": "markdown",
   "metadata": {
    "collapsed": true,
    "pycharm": {
     "name": "#%% md\n"
    }
   },
   "source": [
    "### 日志等级(DEBUG < INFO < WARNING < ERROR < CRITICAL)\n",
    "\n",
    "|Level| When it’s used|\n",
    "| ---- | ---- |\n",
    "|DEBUG |Detailed information, typically of interest only when diagnosing problems.|\n",
    "|INFO| Confirmation that things are working as expected.|\n",
    "|WARNING |An indication that something unexpected happened, or indicative of some problem in the near future (e.g. ‘disk space low’). The software is still working as expected.|\n",
    "|ERROR |Due to a more serious problem, the software has not been able to perform some function.|\n",
    "|CRITICAL |A serious error, indicating that the program itself may be unable to continue running.|\n",
    "\n",
    "The default level is WARNING, which means that only events of this level and above will be tracked, unless the logging package is configured to do otherwise.\n",
    "\n",
    "Events that are tracked can be handled in different ways. The simplest way of handling tracked events is to print them to the console. Another common way is to write them to a disk file.\n",
    "\n",
    "### LogRecord attributes\n",
    "\n",
    "|Attribute name| Format| Description|\n",
    "| ---- | ---- | ---- |\n",
    "|args\t|You shouldn’t need to format this yourself.|\tThe tuple of arguments merged into msg to produce message, or a dict whose values are used for the merge (when there is only one argument, and it is a dictionary).|\n",
    "|asctime|\t%(asctime)s|\tHuman-readable time when the LogRecord was created. By default this is of the form ‘2003-07-08 16:49:45,896’ (the numbers after the comma are millisecond portion of the time).|\n",
    "|created|\t%(created)f|\tTime when the LogRecord was created (as returned by time.time()).|\n",
    "|exc_info|\tYou shouldn’t need to format this yourself.\t|Exception tuple (à la sys.exc_info) or, if no exception has occurred, None.|\n",
    "|filename|\t%(filename)s|\tFilename portion of pathname.|\n",
    "|funcName\t|%(funcName)s\t|Name of function containing the logging call.|\n",
    "|levelname|\t%(levelname)s|\tText logging level for the message ('DEBUG', 'INFO', 'WARNING', 'ERROR', 'CRITICAL').|\n",
    "|levelno\t|%(levelno)s\t|Numeric logging level for the message (DEBUG, INFO, WARNING, ERROR, CRITICAL).|\n",
    "|lineno\t|%(lineno)d|\tSource line number where the logging call was issued (if available).|\n",
    "|message|\t%(message)s|\tThe logged message, computed as msg % args. This is set when Formatter.format() is invoked.|\n",
    "|module\t|%(module)s|\tModule (name portion of filename).|\n",
    "|msecs|\t%(msecs)d\t|Millisecond portion of the time when the LogRecord was created.|\n",
    "|msg\t|You shouldn’t need to format this yourself.|\tThe format string passed in the original logging call. Merged with args to produce message, or an arbitrary object (see Using arbitrary objects as messages).|\n",
    "|name\t|%(name)s\t|Name of the logger used to log the call.|\n",
    "|pathname|\t%(pathname)s|\tFull pathname of the source file where the logging call was issued (if available).|\n",
    "|process|\t%(process)d|\tProcess ID (if available)|.\n",
    "|processName|\t%(processName)s|\tProcess name (if available).|\n",
    "|relativeCreated\t|%(relativeCreated)d\t|Time in milliseconds when the LogRecord was created, relative to the time the logging module was loaded.|\n",
    "|stack_info|\tYou shouldn’t need to format this yourself.\t|Stack frame information (where available) from the bottom of the stack in the current thread, up to and including the stack frame of the logging call which resulted in the creation of this record.|\n",
    "|thread\t|%(thread)d\t|Thread ID (if available).|\n",
    "|threadName|\t%(threadName)s|\tThread name (if available).|"
   ]
  }
 ],
 "metadata": {
  "kernelspec": {
   "display_name": "Python 3",
   "language": "python",
   "name": "python3"
  },
  "language_info": {
   "codemirror_mode": {
    "name": "ipython",
    "version": 2
   },
   "file_extension": ".py",
   "mimetype": "text/x-python",
   "name": "python",
   "nbconvert_exporter": "python",
   "pygments_lexer": "ipython2",
   "version": "2.7.6"
  }
 },
 "nbformat": 4,
 "nbformat_minor": 0
}