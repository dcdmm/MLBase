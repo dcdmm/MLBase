{
 "cells": [
  {
   "cell_type": "code",
   "execution_count": 62,
   "outputs": [
    {
     "name": "stdout",
     "output_type": "stream",
     "text": [
      "4 7\n",
      "[2, 3, 4, 5, 6, 7, 8]\n",
      "[1, 2, 3]\n",
      "[2, 3, 4, 5, 6]\n",
      "[2, 4, 6]\n",
      "[8, 6]\n"
     ]
    }
   ],
   "source": [
    "# 列表切片索引\n",
    "list_Fragmentation = [1, 2, 3, 4, 5, 6, 7, 8]\n",
    "print(list_Fragmentation[3], list_Fragmentation[-2]) # 支持负数索引\n",
    "print(list_Fragmentation[1:])\n",
    "print(list_Fragmentation[:3]) # 不包括结尾位置元素\n",
    "print(list_Fragmentation[1:6])\n",
    "print(list_Fragmentation[1:6:2]) # 步长为2\n",
    "print(list_Fragmentation[-1:3:-2]) # 切片,步长为-2"
   ],
   "metadata": {
    "collapsed": false,
    "pycharm": {
     "name": "#%%\n"
    }
   }
  },
  {
   "cell_type": "code",
   "execution_count": 63,
   "outputs": [
    {
     "name": "stdout",
     "output_type": "stream",
     "text": [
      "4\n",
      "[4]\n"
     ]
    }
   ],
   "source": [
    "print(list_Fragmentation[3]) # 索引的结果为值\n",
    "print(list_Fragmentation[3:4]) # 切片的结果仍为列表"
   ],
   "metadata": {
    "collapsed": false,
    "pycharm": {
     "name": "#%%\n"
    }
   }
  },
  {
   "cell_type": "code",
   "execution_count": 64,
   "outputs": [
    {
     "name": "stdout",
     "output_type": "stream",
     "text": [
      "[9, 6]\n",
      "[[2, 3]]\n",
      "[[9, 6], [4, 7], [8, 1]]\n",
      "[2, 5, 9]\n",
      "[2 5 9]\n"
     ]
    }
   ],
   "source": [
    "data = [[2, 3],\n",
    "        [5, 4],\n",
    "        [9, 6],\n",
    "        [4, 7],\n",
    "        [8, 1],\n",
    "        [7, 2]]\n",
    "print(data[2]) # [2, 3],[5, 4], [9, 6]...[7, 2]被视为一个元素\n",
    "print(data[:1])\n",
    "print(data[2: 5])\n",
    "\n",
    "print([i[0] for i in data[:3]]) # 二维列表的索引\n",
    "\n",
    "import numpy as np\n",
    "print(np.array(data)[:3, 0]) # 转换为numpy(需为方阵)后,索引较为方便"
   ],
   "metadata": {
    "collapsed": false,
    "pycharm": {
     "name": "#%%\n"
    }
   }
  },
  {
   "cell_type": "code",
   "execution_count": 65,
   "outputs": [
    {
     "name": "stdout",
     "output_type": "stream",
     "text": [
      "False\n",
      "\n",
      "False\n",
      "False\n",
      "\n",
      "True\n",
      "False\n",
      "False\n"
     ]
    }
   ],
   "source": [
    "# 列表的比较(元组,字符串类似)\n",
    "# 当列表中包含多个元素时,默认从列表第一个元素开始进行比较,当列表某个元素大于另一个列表对应位置元素时,就认为该列表大于另一列表\n",
    "# 字符串的比较是比较字符串对应位置(从第一个位置开始)的ASCII码大小\n",
    "list_0 = [123]\n",
    "list_1 = [234]\n",
    "print(list_0 > list_1, end='\\n\\n')\n",
    "\n",
    "list_2 = [123, 456]\n",
    "list_3 = [234, 345]\n",
    "print(list_2 > list_3)\n",
    "print(tuple(list_2) > tuple(list_3), end='\\n\\n') # 元组的比较\n",
    "\n",
    "list_str_0 = ['acd']\n",
    "list_str_1 = ['abf']\n",
    "print(list_str_1 < list_str_0)\n",
    "print('acd' < 'abf')\n",
    "print('123' > '124') "
   ],
   "metadata": {
    "pycharm": {
     "metadata": false,
     "name": "#%%\n"
    }
   }
  },
  {
   "cell_type": "code",
   "execution_count": 66,
   "outputs": [
    {
     "name": "stdout",
     "output_type": "stream",
     "text": [
      "['mother', 'father', 'duanemengmeng']\n"
     ]
    }
   ],
   "source": [
    "# 拼接(+)在列表中的作用\n",
    "love_1 = ['mother', 'father']\n",
    "love_2 = ['duanemengmeng']\n",
    "my_love = love_1 + love_2 # 类似于字符串的拼接,也可以用extend()实现\n",
    "print(my_love)"
   ],
   "metadata": {
    "pycharm": {
     "metadata": false,
     "name": "#%%\n"
    }
   }
  },
  {
   "cell_type": "code",
   "execution_count": 67,
   "outputs": [
    {
     "name": "stdout",
     "output_type": "stream",
     "text": [
      "['mother', 'father', 'mother', 'father', 'mother', 'father']\n"
     ]
    }
   ],
   "source": [
    "# 重复(*)在列表中的作用\n",
    "love_parent = ['mother','father']\n",
    "love_repeat = love_parent * 3 # 将love_reperat中的元素重复了3次\n",
    "print(love_repeat)"
   ],
   "metadata": {
    "pycharm": {
     "metadata": false,
     "name": "#%%\n"
    }
   }
  },
  {
   "cell_type": "code",
   "execution_count": 68,
   "outputs": [
    {
     "data": {
      "text/plain": "['my', ['love', 'is', 'duanmengmeng'], 'i am sure']"
     },
     "execution_count": 68,
     "metadata": {},
     "output_type": "execute_result"
    }
   ],
   "source": [
    "# 多层列表\n",
    "two_dimensional_list = [\"my\", [\"love\", 'is', \"duanmengmeng\"], \"i am sure\"]\n",
    "two_dimensional_list"
   ],
   "metadata": {
    "pycharm": {
     "metadata": false,
     "name": "#%%\n"
    }
   }
  },
  {
   "cell_type": "code",
   "execution_count": 69,
   "outputs": [
    {
     "name": "stdout",
     "output_type": "stream",
     "text": [
      "[1, 3, 4, 5]\n"
     ]
    },
    {
     "ename": "NameError",
     "evalue": "name 'lst' is not defined",
     "output_type": "error",
     "traceback": [
      "\u001B[1;31m---------------------------------------------------------------------------\u001B[0m",
      "\u001B[1;31mNameError\u001B[0m                                 Traceback (most recent call last)",
      "\u001B[1;32m<ipython-input-69-83b5d7582cf7>\u001B[0m in \u001B[0;36m<module>\u001B[1;34m\u001B[0m\n\u001B[0;32m      2\u001B[0m \u001B[0mprint\u001B[0m\u001B[1;33m(\u001B[0m\u001B[0mlst\u001B[0m\u001B[1;33m)\u001B[0m\u001B[1;33m\u001B[0m\u001B[1;33m\u001B[0m\u001B[0m\n\u001B[0;32m      3\u001B[0m \u001B[1;32mdel\u001B[0m \u001B[0mlst\u001B[0m \u001B[1;31m# 删除列表(删除列表对象引用)\u001B[0m\u001B[1;33m\u001B[0m\u001B[1;33m\u001B[0m\u001B[0m\n\u001B[1;32m----> 4\u001B[1;33m \u001B[0mprint\u001B[0m\u001B[1;33m(\u001B[0m\u001B[0mlst\u001B[0m\u001B[1;33m)\u001B[0m\u001B[1;33m\u001B[0m\u001B[1;33m\u001B[0m\u001B[0m\n\u001B[0m\u001B[0;32m      5\u001B[0m \u001B[1;33m\u001B[0m\u001B[0m\n",
      "\u001B[1;31mNameError\u001B[0m: name 'lst' is not defined"
     ]
    }
   ],
   "source": [
    "lst = [1, 3, 4, 5]\n",
    "print(lst)\n",
    "del lst # 删除列表(删除列表对象引用)\n",
    "print(lst)"
   ],
   "metadata": {
    "collapsed": false,
    "pycharm": {
     "name": "#%%\n"
    }
   }
  },
  {
   "cell_type": "code",
   "execution_count": null,
   "outputs": [],
   "source": [
    "\n"
   ],
   "metadata": {
    "collapsed": false,
    "pycharm": {
     "name": "#%%\n"
    }
   }
  }
 ],
 "metadata": {
  "language_info": {
   "codemirror_mode": {
    "name": "ipython",
    "version": 2
   },
   "file_extension": ".py",
   "mimetype": "text/x-python",
   "name": "python",
   "nbconvert_exporter": "python",
   "pygments_lexer": "ipython2",
   "version": "2.7.6"
  },
  "kernelspec": {
   "name": "python3",
   "language": "python",
   "display_name": "Python 3"
  }
 },
 "nbformat": 4,
 "nbformat_minor": 0
}