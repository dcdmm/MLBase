{
 "cells": [
  {
   "cell_type": "code",
   "execution_count": 1,
   "outputs": [],
   "source": [
    "import torch"
   ],
   "metadata": {
    "collapsed": false,
    "pycharm": {
     "name": "#%%\n"
    }
   }
  },
  {
   "cell_type": "markdown",
   "source": [
    "### 参考numpy布尔索引"
   ],
   "metadata": {
    "collapsed": false,
    "pycharm": {
     "name": "#%% md\n"
    }
   }
  },
  {
   "cell_type": "code",
   "execution_count": 2,
   "outputs": [
    {
     "name": "stdout",
     "output_type": "stream",
     "text": [
      "tensor([1, 2, 3, 1, 3, 2, 2])\n",
      "tensor([[-0.7076,  1.2246,  0.8702, -0.3664],\n",
      "        [ 0.7045,  0.8347,  1.6005,  0.6004],\n",
      "        [ 1.1458, -0.9852, -0.2226,  0.3296],\n",
      "        [-0.1520,  1.8546, -0.4060,  0.4467],\n",
      "        [-1.1139,  0.2943,  0.5944,  0.4122],\n",
      "        [-2.2090,  0.0224, -0.5970,  0.2151],\n",
      "        [-0.0626,  1.7812, -0.4410,  0.5038]])\n"
     ]
    }
   ],
   "source": [
    "target = torch.tensor([1, 2, 3, 1, 3, 2, 2])\n",
    "data = torch.randn(7, 4)\n",
    "print(target)\n",
    "print(data)"
   ],
   "metadata": {
    "collapsed": false,
    "pycharm": {
     "name": "#%%\n"
    }
   }
  },
  {
   "cell_type": "code",
   "execution_count": 3,
   "outputs": [
    {
     "name": "stdout",
     "output_type": "stream",
     "text": [
      "torch.bool\n",
      "tensor([ True, False, False,  True, False, False, False])\n"
     ]
    }
   ],
   "source": [
    "check = target == 1\n",
    "print(check.dtype)\n",
    "print(check)"
   ],
   "metadata": {
    "collapsed": false,
    "pycharm": {
     "name": "#%%\n"
    }
   }
  },
  {
   "cell_type": "code",
   "execution_count": 4,
   "outputs": [
    {
     "data": {
      "text/plain": "tensor([[-0.7076,  1.2246,  0.8702, -0.3664],\n        [-0.1520,  1.8546, -0.4060,  0.4467]])"
     },
     "execution_count": 4,
     "metadata": {},
     "output_type": "execute_result"
    }
   ],
   "source": [
    "data[check]  # 第零个维度布尔切片"
   ],
   "metadata": {
    "collapsed": false,
    "pycharm": {
     "name": "#%%\n"
    }
   }
  },
  {
   "cell_type": "code",
   "execution_count": 5,
   "outputs": [
    {
     "data": {
      "text/plain": "tensor([[-0.7076, -0.3664],\n        [ 0.7045,  0.6004],\n        [ 1.1458,  0.3296],\n        [-0.1520,  0.4467],\n        [-1.1139,  0.4122],\n        [-2.2090,  0.2151],\n        [-0.0626,  0.5038]])"
     },
     "execution_count": 5,
     "metadata": {},
     "output_type": "execute_result"
    }
   ],
   "source": [
    "data[:, check[:4]]  # 第一个维度上的布尔索引"
   ],
   "metadata": {
    "collapsed": false,
    "pycharm": {
     "name": "#%%\n"
    }
   }
  },
  {
   "cell_type": "code",
   "execution_count": 6,
   "outputs": [
    {
     "data": {
      "text/plain": "tensor([[ 0.8702, -0.3664],\n        [-0.4060,  0.4467]])"
     },
     "execution_count": 6,
     "metadata": {},
     "output_type": "execute_result"
    }
   ],
   "source": [
    "data[target == 1, 2:]"
   ],
   "metadata": {
    "collapsed": false,
    "pycharm": {
     "name": "#%%\n"
    }
   }
  },
  {
   "cell_type": "code",
   "execution_count": 7,
   "outputs": [
    {
     "name": "stdout",
     "output_type": "stream",
     "text": [
      "tensor([False,  True,  True, False,  True,  True,  True])\n",
      "tensor([ True, False, False,  True, False, False, False])\n",
      "tensor([[-0.7076,  1.2246,  0.8702, -0.3664],\n",
      "        [-0.1520,  1.8546, -0.4060,  0.4467]])\n"
     ]
    }
   ],
   "source": [
    "print(target != 1)\n",
    "print(~(target != 1))  # ~:取反\n",
    "print(data[~(target != 1)])"
   ],
   "metadata": {
    "collapsed": false,
    "pycharm": {
     "name": "#%%\n"
    }
   }
  },
  {
   "cell_type": "code",
   "execution_count": 8,
   "outputs": [
    {
     "name": "stdout",
     "output_type": "stream",
     "text": [
      "tensor([ True, False,  True,  True,  True, False, False])\n",
      "tensor([[-0.7076,  1.2246,  0.8702, -0.3664],\n",
      "        [ 1.1458, -0.9852, -0.2226,  0.3296],\n",
      "        [-0.1520,  1.8546, -0.4060,  0.4467],\n",
      "        [-1.1139,  0.2943,  0.5944,  0.4122]])\n"
     ]
    }
   ],
   "source": [
    "mask = (target == 1) | (target == 3)  # |:并集,不能使用关键字or\n",
    "print(mask)\n",
    "print(data[mask])"
   ],
   "metadata": {
    "collapsed": false,
    "pycharm": {
     "name": "#%%\n"
    }
   }
  },
  {
   "cell_type": "code",
   "execution_count": 9,
   "outputs": [
    {
     "name": "stdout",
     "output_type": "stream",
     "text": [
      "tensor([False, False, False, False, False, False, False])\n",
      "tensor([], size=(0, 4))\n"
     ]
    }
   ],
   "source": [
    "mask1 = (target == 1) & (target == 3)  # &:交集,不能使用关键字and\n",
    "print(mask1)\n",
    "print(data[mask1])"
   ],
   "metadata": {
    "collapsed": false,
    "pycharm": {
     "name": "#%%\n"
    }
   }
  },
  {
   "cell_type": "code",
   "execution_count": 10,
   "outputs": [
    {
     "data": {
      "text/plain": "tensor([[ True, False, False,  True],\n        [False, False, False, False],\n        [False,  True,  True, False],\n        [ True, False,  True, False],\n        [ True, False, False, False],\n        [ True, False,  True, False],\n        [ True, False,  True, False]])"
     },
     "execution_count": 10,
     "metadata": {},
     "output_type": "execute_result"
    }
   ],
   "source": [
    "s = data < 0\n",
    "s"
   ],
   "metadata": {
    "collapsed": false,
    "pycharm": {
     "name": "#%%\n"
    }
   }
  },
  {
   "cell_type": "code",
   "execution_count": 11,
   "outputs": [
    {
     "data": {
      "text/plain": "tensor([-0.7076, -0.3664, -0.9852, -0.2226, -0.1520, -0.4060, -1.1139, -2.2090,\n        -0.5970, -0.0626, -0.4410])"
     },
     "execution_count": 11,
     "metadata": {},
     "output_type": "execute_result"
    }
   ],
   "source": [
    "data[s]"
   ],
   "metadata": {
    "collapsed": false,
    "pycharm": {
     "name": "#%%\n"
    }
   }
  },
  {
   "cell_type": "code",
   "execution_count": 12,
   "outputs": [
    {
     "data": {
      "text/plain": "tensor([[9.9990e+03, 1.2246e+00, 8.7023e-01, 9.9990e+03],\n        [7.0447e-01, 8.3467e-01, 1.6005e+00, 6.0042e-01],\n        [1.1458e+00, 9.9990e+03, 9.9990e+03, 3.2963e-01],\n        [9.9990e+03, 1.8546e+00, 9.9990e+03, 4.4675e-01],\n        [9.9990e+03, 2.9428e-01, 5.9437e-01, 4.1223e-01],\n        [9.9990e+03, 2.2443e-02, 9.9990e+03, 2.1514e-01],\n        [9.9990e+03, 1.7812e+00, 9.9990e+03, 5.0383e-01]])"
     },
     "execution_count": 12,
     "metadata": {},
     "output_type": "execute_result"
    }
   ],
   "source": [
    "data[s] = 9999  # 逐个元素的布尔索引\n",
    "data  # data发生改变"
   ],
   "metadata": {
    "collapsed": false,
    "pycharm": {
     "name": "#%%\n"
    }
   }
  },
  {
   "cell_type": "code",
   "execution_count": 13,
   "outputs": [
    {
     "data": {
      "text/plain": "tensor([[7.0000e+00, 7.0000e+00, 7.0000e+00, 7.0000e+00],\n        [7.0447e-01, 8.3467e-01, 1.6005e+00, 6.0042e-01],\n        [7.0000e+00, 7.0000e+00, 7.0000e+00, 7.0000e+00],\n        [7.0000e+00, 7.0000e+00, 7.0000e+00, 7.0000e+00],\n        [7.0000e+00, 7.0000e+00, 7.0000e+00, 7.0000e+00],\n        [9.9990e+03, 2.2443e-02, 9.9990e+03, 2.1514e-01],\n        [9.9990e+03, 1.7812e+00, 9.9990e+03, 5.0383e-01]])"
     },
     "execution_count": 13,
     "metadata": {},
     "output_type": "execute_result"
    }
   ],
   "source": [
    "data[target != 2] = 7  # ★★★★★和整数索引类似,只能通过对原tensor[索引/切片]直接进行赋值从而修改原tensor\n",
    "data  # data发生改变"
   ],
   "metadata": {
    "collapsed": false,
    "pycharm": {
     "name": "#%%\n"
    }
   }
  },
  {
   "cell_type": "code",
   "execution_count": 13,
   "outputs": [],
   "source": [
    "\n"
   ],
   "metadata": {
    "collapsed": false,
    "pycharm": {
     "name": "#%%\n"
    }
   }
  }
 ],
 "metadata": {
  "kernelspec": {
   "display_name": "Python 3",
   "language": "python",
   "name": "python3"
  },
  "language_info": {
   "codemirror_mode": {
    "name": "ipython",
    "version": 2
   },
   "file_extension": ".py",
   "mimetype": "text/x-python",
   "name": "python",
   "nbconvert_exporter": "python",
   "pygments_lexer": "ipython2",
   "version": "2.7.6"
  }
 },
 "nbformat": 4,
 "nbformat_minor": 0
}