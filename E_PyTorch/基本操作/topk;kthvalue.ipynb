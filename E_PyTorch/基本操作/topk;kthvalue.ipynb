{
 "cells": [
  {
   "cell_type": "code",
   "execution_count": 1,
   "outputs": [],
   "source": [
    "import torch"
   ],
   "metadata": {
    "collapsed": false,
    "pycharm": {
     "name": "#%%\n"
    }
   }
  },
  {
   "cell_type": "code",
   "execution_count": 2,
   "outputs": [
    {
     "data": {
      "text/plain": "tensor([[[109, 121,  24, 100,   9,  49,   4,  97],\n         [ 40,   1,  64,  33, 120,  35, 119,  21],\n         [ 99,  19,  36,  74, 110,  46,  88,  57],\n         [  0,  63,  67,  42, 103,  73,  15,  17]],\n\n        [[ 94, 104,  29,  55, 127,  90,  75,  11],\n         [ 83,  71,  60, 112, 122,  68,  32,  92],\n         [  8,  65, 107, 125,  18,  86,  59,  80],\n         [ 34, 116,  41,  30,  54,  72,  61, 108]],\n\n        [[111,   2,  81,  62, 117,  25,  96,  77],\n         [ 70,   3, 102,  56,  52,  87, 114,  95],\n         [105,  51,  22,  76,  98,  58,  85,  45],\n         [ 39,  66,  20,  16, 126,   6,  47,  44]],\n\n        [[ 10,  50, 123,   5,  48,  26, 124,  53],\n         [ 14, 106,  82, 118,  79,  23,  78, 115],\n         [ 28,   7,  31,  69, 113,  89,  37,  43],\n         [ 27,  13,  91,  12,  84, 101,  38,  93]]])"
     },
     "execution_count": 2,
     "metadata": {},
     "output_type": "execute_result"
    }
   ],
   "source": [
    "x = torch.arange(128)\n",
    "ix = torch.randperm(128)\n",
    "x = x[ix].reshape(4, 4, 8)  # 对x随机化\n",
    "x"
   ],
   "metadata": {
    "collapsed": false,
    "pycharm": {
     "name": "#%%\n"
    }
   }
  },
  {
   "cell_type": "code",
   "execution_count": 3,
   "outputs": [
    {
     "data": {
      "text/plain": "torch.return_types.topk(\nvalues=tensor([[[111, 121, 123, 100, 127,  90, 124,  97],\n         [ 83, 106, 102, 118, 122,  87, 119, 115],\n         [105,  65, 107, 125, 113,  89,  88,  80],\n         [ 39, 116,  91,  42, 126, 101,  61, 108]],\n\n        [[109, 104,  81,  62, 117,  49,  96,  77],\n         [ 70,  71,  82, 112, 120,  68, 114,  95],\n         [ 99,  51,  36,  76, 110,  86,  85,  57],\n         [ 34,  66,  67,  30, 103,  73,  47,  93]]]),\nindices=tensor([[[2, 0, 3, 0, 1, 1, 3, 0],\n         [1, 3, 2, 3, 1, 2, 0, 3],\n         [2, 1, 1, 1, 3, 3, 0, 1],\n         [2, 1, 3, 0, 2, 3, 1, 1]],\n\n        [[0, 1, 2, 2, 2, 0, 2, 2],\n         [2, 1, 3, 1, 0, 1, 2, 2],\n         [0, 2, 0, 2, 0, 1, 2, 0],\n         [1, 2, 0, 1, 0, 0, 2, 3]]]))"
     },
     "execution_count": 3,
     "metadata": {},
     "output_type": "execute_result"
    }
   ],
   "source": [
    "torch.topk(x, k=2, dim=0)  # 返回x在维度dim上最大的k个元素及这k个元素在维度dim上的索引"
   ],
   "metadata": {
    "collapsed": false,
    "pycharm": {
     "name": "#%%\n"
    }
   }
  },
  {
   "cell_type": "code",
   "execution_count": 4,
   "outputs": [
    {
     "data": {
      "text/plain": "torch.return_types.topk(\nvalues=tensor([[[10,  2, 24,  5,  9, 25,  4, 11],\n         [14,  1, 60, 33, 52, 23, 32, 21],\n         [ 8,  7, 22, 69, 18, 46, 37, 43],\n         [ 0, 13, 20, 12, 54,  6, 15, 17]],\n\n        [[94, 50, 29, 55, 48, 26, 75, 53],\n         [40,  3, 64, 56, 79, 35, 78, 92],\n         [28, 19, 31, 74, 98, 58, 59, 45],\n         [27, 63, 41, 16, 84, 72, 38, 44]]]),\nindices=tensor([[[3, 2, 0, 3, 0, 2, 0, 1],\n         [3, 0, 1, 0, 2, 3, 1, 0],\n         [1, 3, 2, 3, 1, 0, 3, 3],\n         [0, 3, 2, 3, 1, 2, 0, 0]],\n\n        [[1, 3, 1, 1, 3, 3, 1, 3],\n         [0, 2, 0, 2, 3, 0, 3, 1],\n         [3, 0, 3, 0, 2, 2, 1, 2],\n         [3, 0, 1, 2, 3, 1, 3, 2]]]))"
     },
     "execution_count": 4,
     "metadata": {},
     "output_type": "execute_result"
    }
   ],
   "source": [
    "torch.topk(x, k=2, dim=0,\n",
    "           largest=False)  # 返回x在维度dim上最小的k个元素及这k个元素在维度dim上的索引"
   ],
   "metadata": {
    "collapsed": false,
    "pycharm": {
     "name": "#%%\n"
    }
   }
  },
  {
   "cell_type": "code",
   "execution_count": 5,
   "outputs": [
    {
     "data": {
      "text/plain": "torch.return_types.kthvalue(\nvalues=tensor([[10,  2, 24,  5,  9, 25,  4, 11],\n        [14,  1, 60, 33, 52, 23, 32, 21],\n        [ 8,  7, 22, 69, 18, 46, 37, 43],\n        [ 0, 13, 20, 12, 54,  6, 15, 17]]),\nindices=tensor([[3, 2, 0, 3, 0, 2, 0, 1],\n        [3, 0, 1, 0, 2, 3, 1, 0],\n        [1, 3, 2, 3, 1, 0, 3, 3],\n        [0, 3, 2, 3, 1, 2, 0, 0]]))"
     },
     "execution_count": 5,
     "metadata": {},
     "output_type": "execute_result"
    }
   ],
   "source": [
    "torch.kthvalue(x, k=1, dim=0)  # 返回x在维度dim上排序第1(从0开始)大的元素及这个元素在维度dim上的索引"
   ],
   "metadata": {
    "collapsed": false,
    "pycharm": {
     "name": "#%%\n"
    }
   }
  }
 ],
 "metadata": {
  "kernelspec": {
   "display_name": "Python 3",
   "language": "python",
   "name": "python3"
  },
  "language_info": {
   "codemirror_mode": {
    "name": "ipython",
    "version": 2
   },
   "file_extension": ".py",
   "mimetype": "text/x-python",
   "name": "python",
   "nbconvert_exporter": "python",
   "pygments_lexer": "ipython2",
   "version": "2.7.6"
  }
 },
 "nbformat": 4,
 "nbformat_minor": 0
}