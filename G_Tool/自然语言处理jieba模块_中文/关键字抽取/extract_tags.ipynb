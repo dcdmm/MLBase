{
 "cells": [
  {
   "cell_type": "markdown",
   "metadata": {
    "collapsed": true,
    "pycharm": {
     "name": "#%% md\n"
    }
   },
   "source": [
    "### 基于TF-IDF算法的关键词抽取\n",
    "[TF-IDF原理参考](../../../H_BasicTheory/机器学习/NLP/文本特征提取/词袋模型/TfidfVectorizer参数理解1.ipynb)"
   ]
  },
  {
   "cell_type": "code",
   "execution_count": 1,
   "outputs": [
    {
     "name": "stderr",
     "output_type": "stream",
     "text": [
      "Building prefix dict from the default dictionary ...\n",
      "Dumping model to file cache C:\\Users\\dcdmm\\AppData\\Local\\Temp\\jieba.cache\n",
      "Loading model cost 0.708 seconds.\n",
      "Prefix dict has been built successfully.\n"
     ]
    },
    {
     "name": "stdout",
     "output_type": "stream",
     "text": [
      "北京时间2月20日，2017年NBA全明星正赛开始之前的训练中出现了有趣的一幕，起初，威少脱离其他西部全明星球员而独自练习投篮。但是在全队跑篮的过程中，威少加入了西部全明星队，并且还和凯文-杜兰特出现了一些互动。\n",
      "　　从推特上媒体拍的照片来看，西部全明星球员的赛前投篮热身中，威少一个人在一个半场投篮，而其他西部全明星球员则在另一个半场投篮。看来对于杜兰特，威少开始是拒绝的。\n",
      "　　在外界看来，威少是在刻意避开杜兰特。也许是看威少一个人投篮太孤独，詹姆斯-哈登随后加入了威少。\n",
      "　　然而在之后的全队跑篮中，威少加入了西部全明星队，而且还和杜兰特出现了大家期待的互动，他们互相传球了！\n",
      "　　据了解，杜兰特还为威少送出上篮助攻。而勇士记者安东尼-斯莱特在推特上表示：“虽然威少和杜兰特并没有变得友好，但是他们也没有忽视对方：KD和威少互相为对方传球和抢篮板。”\n",
      "\n",
      "“天呐，天呐，看见了没？杜兰特的更衣柜刚好在韦斯布鲁克更衣柜的对面。”梅拉斯这样写道。随后他还发布了一段小视频，可以清楚的看出，韦斯布鲁克与杜兰特之间，相隔了7名球员。\n",
      "在韦斯布鲁克身旁的，是身披15号的考辛斯，而杜兰特则位于对角位置。他的左侧位置是汤普森、库里以及格林。勇士四人组的更衣柜位置，是挨在一块儿的。\n",
      "尽管昔日同在雷霆效力，但杜韦二少如今关系非常恶劣。勇士客场击败雷霆赛后，两人先后进入一家牛排馆吃饭，相隔五米，全程毫无交流。到了全明星周末期间，韦斯布鲁克与杜兰特也曾迎面碰到过。不过两人都装作没有看见，宛若对方是空气一般。\n",
      "破裂的感情如何去修复？或许只能依靠时间。有趣的是，在昨天的三分球大赛上，现场的主持人在介绍到场嘉宾时出现口误，将端坐在场边的杜兰特称为“来自俄克拉荷马”，为此杜兰特显得一脸不爽。\n",
      "\n",
      "本届全明星正赛，最大的看点就是杜韦二少的重逢会擦出怎样的火花，而这一切都掌握在勇士主帅史蒂夫-科尔的手里。同时，韦少能否完成全明星MVP的三连庄成为了这次正赛的另一个噱头。张卫平指导对本次正赛也有他自己的看法，让我们看看他是怎么说的。\n",
      "张卫平预测全明星正赛：3因素助韦少MVP三连庄 \n",
      "张卫平指导预测全明星正赛结果\n",
      "对于全明星赛MVP的归属，张指导认为韦少当选的机会很大。韦少已经连续两年成为全明星MVP的归属。（2015年全明星赛韦少轰下41分夺得全明星赛MVP。2016年全明星赛他又砍下31分蝉联了全明星赛MVP。韦少成为了继佩蒂特之后NBA历史上第二位蝉联全明星赛MVP的球员。）如果韦少今年再夺全明星赛MVP，那么他将成为NBA史上第一位完成全明星赛MVP三连庄的球员，因此他将为这个目标全力冲击。\n",
      "为什么这么说呢？首先，前凯尔特人队，现快船队主教练道格-里弗斯向科尔提建议，要让自己的死敌在全明星赛上疯狂地发挥，免得将来和他见面的时候他和你玩命。现在勇士在西部的死敌就是韦少带领的雷霆。究其原因，还是因为杜兰特和韦少之间冗长的肥皂剧。因此，科尔一定会让韦少在全明星赛上打个痛快。\n",
      "其次，张指导认为，勇士四巨头不会因为科尔在全明星赛上控制他们的出场时间而埋怨自己的主教练，但你的对手会因为你对他的怠慢而记下仇来。因此，科尔不出意外应该会听从里弗斯的建议，让韦少玩命打。\n",
      "第三点，从韦少自己的性格来看，虽然全明星赛是个娱乐性质的比赛，没有人特别认真地去打，但是韦少不会在意这些的，他的特点是上场就干，这就是他的性格。两次全明星MVP就是最好的佐证，大伙也心照不宣。而且韦少目前虽然保持着场均三双，但却不是全明星先发，这让他在心里一直憋着一口气证明自己。\n",
      "如此看来，如果科尔选择让韦少战个痛快，再加上韦少自己的性格，他的第三座全明星MVP应该是稳稳地收下了。但是张指导说了，不能说韦少一定能拿MVP，这只是个预测，具体的结果还是要看临场的发挥。（栗旬）\n",
      "\n",
      "\n",
      "\n",
      "韦少  杜兰特  全明星  全明星赛  MVP  威少  正赛  科尔  投篮  勇士  球员  斯布鲁克  更衣柜  NBA  三连庄  张卫平  西部  指导  雷霆  明星队\n"
     ]
    }
   ],
   "source": [
    "import jieba.analyse as analyse\n",
    "\n",
    "lines = open('NBA.txt', encoding='UTF-8').read()\n",
    "'''\n",
    "jieba.analyse.extract_tags(sentence, topK=20, withWeight=False, allowPOS=())\n",
    "sentence 为待提取的文本\n",
    "topK 为返回几个 TF/IDF 权重最大的关键词,默认值为 20\n",
    "withWeight 为是否一并返回关键词权重值,默认值为 False\n",
    "allowPOS 仅包括指定词性的词,默认值为空,即不筛选\n",
    "'''\n",
    "result = analyse.extract_tags(lines, topK=20, withWeight=False, allowPOS=())\n",
    "print(\"  \".join(result))"
   ],
   "metadata": {
    "collapsed": false,
    "pycharm": {
     "name": "#%%\n"
    }
   }
  },
  {
   "cell_type": "code",
   "execution_count": null,
   "outputs": [],
   "source": [],
   "metadata": {
    "collapsed": false,
    "pycharm": {
     "name": "#%%\n"
    }
   }
  }
 ],
 "metadata": {
  "kernelspec": {
   "display_name": "Python 3",
   "language": "python",
   "name": "python3"
  },
  "language_info": {
   "codemirror_mode": {
    "name": "ipython",
    "version": 2
   },
   "file_extension": ".py",
   "mimetype": "text/x-python",
   "name": "python",
   "nbconvert_exporter": "python",
   "pygments_lexer": "ipython2",
   "version": "2.7.6"
  }
 },
 "nbformat": 4,
 "nbformat_minor": 0
}