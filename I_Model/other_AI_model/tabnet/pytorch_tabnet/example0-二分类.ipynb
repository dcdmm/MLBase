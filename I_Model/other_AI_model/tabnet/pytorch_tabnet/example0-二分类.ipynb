{
 "cells": [
  {
   "cell_type": "code",
   "execution_count": 108,
   "metadata": {
    "collapsed": true,
    "pycharm": {
     "name": "#%%\n"
    }
   },
   "outputs": [],
   "source": [
    "from pytorch_tabnet.tab_model import TabNetClassifier\n",
    "from sklearn.preprocessing import LabelEncoder\n",
    "import pandas as pd\n",
    "import numpy as np\n",
    "import matplotlib.pyplot as plt\n",
    "import torch\n",
    "import torch.nn.functional as F\n",
    "%matplotlib inline"
   ]
  },
  {
   "cell_type": "code",
   "execution_count": null,
   "outputs": [],
   "source": [
    "# 目标是使用深度学习注意力网络,构建具有可解释性的用于表格数据的模型(速度较慢)\n",
    "# 在保留DNN的end-to-end和representation learning特点的基础上,还拥有了树模型的可解释性和稀疏特征选择的优"
   ],
   "metadata": {
    "collapsed": false,
    "pycharm": {
     "name": "#%%\n"
    }
   }
  },
  {
   "cell_type": "markdown",
   "metadata": {
    "collapsed": false,
    "pycharm": {
     "name": "#%% md\n"
    }
   },
   "source": [
    "### 数据处理"
   ]
  },
  {
   "cell_type": "code",
   "execution_count": 109,
   "metadata": {
    "collapsed": false,
    "pycharm": {
     "name": "#%%\n"
    }
   },
   "outputs": [
    {
     "data": {
      "text/html": [
       "<div>\n",
       "<style scoped>\n",
       "    .dataframe tbody tr th:only-of-type {\n",
       "        vertical-align: middle;\n",
       "    }\n",
       "\n",
       "    .dataframe tbody tr th {\n",
       "        vertical-align: top;\n",
       "    }\n",
       "\n",
       "    .dataframe thead th {\n",
       "        text-align: right;\n",
       "    }\n",
       "</style>\n",
       "<table border=\"1\" class=\"dataframe\">\n",
       "  <thead>\n",
       "    <tr style=\"text-align: right;\">\n",
       "      <th></th>\n",
       "      <th>39</th>\n",
       "      <th>State-gov</th>\n",
       "      <th>77516</th>\n",
       "      <th>Bachelors</th>\n",
       "      <th>13</th>\n",
       "      <th>Never-married</th>\n",
       "      <th>Adm-clerical</th>\n",
       "      <th>Not-in-family</th>\n",
       "      <th>White</th>\n",
       "      <th>Male</th>\n",
       "      <th>2174</th>\n",
       "      <th>0</th>\n",
       "      <th>40</th>\n",
       "      <th>United-States</th>\n",
       "      <th>&lt;=50K</th>\n",
       "    </tr>\n",
       "  </thead>\n",
       "  <tbody>\n",
       "    <tr>\n",
       "      <th>0</th>\n",
       "      <td>50</td>\n",
       "      <td>Self-emp-not-inc</td>\n",
       "      <td>83311</td>\n",
       "      <td>Bachelors</td>\n",
       "      <td>13</td>\n",
       "      <td>Married-civ-spouse</td>\n",
       "      <td>Exec-managerial</td>\n",
       "      <td>Husband</td>\n",
       "      <td>White</td>\n",
       "      <td>Male</td>\n",
       "      <td>0</td>\n",
       "      <td>0</td>\n",
       "      <td>13</td>\n",
       "      <td>United-States</td>\n",
       "      <td>&lt;=50K</td>\n",
       "    </tr>\n",
       "    <tr>\n",
       "      <th>1</th>\n",
       "      <td>38</td>\n",
       "      <td>Private</td>\n",
       "      <td>215646</td>\n",
       "      <td>HS-grad</td>\n",
       "      <td>9</td>\n",
       "      <td>Divorced</td>\n",
       "      <td>Handlers-cleaners</td>\n",
       "      <td>Not-in-family</td>\n",
       "      <td>White</td>\n",
       "      <td>Male</td>\n",
       "      <td>0</td>\n",
       "      <td>0</td>\n",
       "      <td>40</td>\n",
       "      <td>United-States</td>\n",
       "      <td>&lt;=50K</td>\n",
       "    </tr>\n",
       "    <tr>\n",
       "      <th>2</th>\n",
       "      <td>53</td>\n",
       "      <td>Private</td>\n",
       "      <td>234721</td>\n",
       "      <td>11th</td>\n",
       "      <td>7</td>\n",
       "      <td>Married-civ-spouse</td>\n",
       "      <td>Handlers-cleaners</td>\n",
       "      <td>Husband</td>\n",
       "      <td>Black</td>\n",
       "      <td>Male</td>\n",
       "      <td>0</td>\n",
       "      <td>0</td>\n",
       "      <td>40</td>\n",
       "      <td>United-States</td>\n",
       "      <td>&lt;=50K</td>\n",
       "    </tr>\n",
       "    <tr>\n",
       "      <th>3</th>\n",
       "      <td>28</td>\n",
       "      <td>Private</td>\n",
       "      <td>338409</td>\n",
       "      <td>Bachelors</td>\n",
       "      <td>13</td>\n",
       "      <td>Married-civ-spouse</td>\n",
       "      <td>Prof-specialty</td>\n",
       "      <td>Wife</td>\n",
       "      <td>Black</td>\n",
       "      <td>Female</td>\n",
       "      <td>0</td>\n",
       "      <td>0</td>\n",
       "      <td>40</td>\n",
       "      <td>Cuba</td>\n",
       "      <td>&lt;=50K</td>\n",
       "    </tr>\n",
       "    <tr>\n",
       "      <th>4</th>\n",
       "      <td>37</td>\n",
       "      <td>Private</td>\n",
       "      <td>284582</td>\n",
       "      <td>Masters</td>\n",
       "      <td>14</td>\n",
       "      <td>Married-civ-spouse</td>\n",
       "      <td>Exec-managerial</td>\n",
       "      <td>Wife</td>\n",
       "      <td>White</td>\n",
       "      <td>Female</td>\n",
       "      <td>0</td>\n",
       "      <td>0</td>\n",
       "      <td>40</td>\n",
       "      <td>United-States</td>\n",
       "      <td>&lt;=50K</td>\n",
       "    </tr>\n",
       "    <tr>\n",
       "      <th>...</th>\n",
       "      <td>...</td>\n",
       "      <td>...</td>\n",
       "      <td>...</td>\n",
       "      <td>...</td>\n",
       "      <td>...</td>\n",
       "      <td>...</td>\n",
       "      <td>...</td>\n",
       "      <td>...</td>\n",
       "      <td>...</td>\n",
       "      <td>...</td>\n",
       "      <td>...</td>\n",
       "      <td>...</td>\n",
       "      <td>...</td>\n",
       "      <td>...</td>\n",
       "      <td>...</td>\n",
       "    </tr>\n",
       "    <tr>\n",
       "      <th>32555</th>\n",
       "      <td>27</td>\n",
       "      <td>Private</td>\n",
       "      <td>257302</td>\n",
       "      <td>Assoc-acdm</td>\n",
       "      <td>12</td>\n",
       "      <td>Married-civ-spouse</td>\n",
       "      <td>Tech-support</td>\n",
       "      <td>Wife</td>\n",
       "      <td>White</td>\n",
       "      <td>Female</td>\n",
       "      <td>0</td>\n",
       "      <td>0</td>\n",
       "      <td>38</td>\n",
       "      <td>United-States</td>\n",
       "      <td>&lt;=50K</td>\n",
       "    </tr>\n",
       "    <tr>\n",
       "      <th>32556</th>\n",
       "      <td>40</td>\n",
       "      <td>Private</td>\n",
       "      <td>154374</td>\n",
       "      <td>HS-grad</td>\n",
       "      <td>9</td>\n",
       "      <td>Married-civ-spouse</td>\n",
       "      <td>Machine-op-inspct</td>\n",
       "      <td>Husband</td>\n",
       "      <td>White</td>\n",
       "      <td>Male</td>\n",
       "      <td>0</td>\n",
       "      <td>0</td>\n",
       "      <td>40</td>\n",
       "      <td>United-States</td>\n",
       "      <td>&gt;50K</td>\n",
       "    </tr>\n",
       "    <tr>\n",
       "      <th>32557</th>\n",
       "      <td>58</td>\n",
       "      <td>Private</td>\n",
       "      <td>151910</td>\n",
       "      <td>HS-grad</td>\n",
       "      <td>9</td>\n",
       "      <td>Widowed</td>\n",
       "      <td>Adm-clerical</td>\n",
       "      <td>Unmarried</td>\n",
       "      <td>White</td>\n",
       "      <td>Female</td>\n",
       "      <td>0</td>\n",
       "      <td>0</td>\n",
       "      <td>40</td>\n",
       "      <td>United-States</td>\n",
       "      <td>&lt;=50K</td>\n",
       "    </tr>\n",
       "    <tr>\n",
       "      <th>32558</th>\n",
       "      <td>22</td>\n",
       "      <td>Private</td>\n",
       "      <td>201490</td>\n",
       "      <td>HS-grad</td>\n",
       "      <td>9</td>\n",
       "      <td>Never-married</td>\n",
       "      <td>Adm-clerical</td>\n",
       "      <td>Own-child</td>\n",
       "      <td>White</td>\n",
       "      <td>Male</td>\n",
       "      <td>0</td>\n",
       "      <td>0</td>\n",
       "      <td>20</td>\n",
       "      <td>United-States</td>\n",
       "      <td>&lt;=50K</td>\n",
       "    </tr>\n",
       "    <tr>\n",
       "      <th>32559</th>\n",
       "      <td>52</td>\n",
       "      <td>Self-emp-inc</td>\n",
       "      <td>287927</td>\n",
       "      <td>HS-grad</td>\n",
       "      <td>9</td>\n",
       "      <td>Married-civ-spouse</td>\n",
       "      <td>Exec-managerial</td>\n",
       "      <td>Wife</td>\n",
       "      <td>White</td>\n",
       "      <td>Female</td>\n",
       "      <td>15024</td>\n",
       "      <td>0</td>\n",
       "      <td>40</td>\n",
       "      <td>United-States</td>\n",
       "      <td>&gt;50K</td>\n",
       "    </tr>\n",
       "  </tbody>\n",
       "</table>\n",
       "<p>32560 rows × 15 columns</p>\n",
       "</div>"
      ],
      "text/plain": [
       "       39          State-gov   77516    Bachelors   13        Never-married  \\\n",
       "0      50   Self-emp-not-inc   83311    Bachelors   13   Married-civ-spouse   \n",
       "1      38            Private  215646      HS-grad    9             Divorced   \n",
       "2      53            Private  234721         11th    7   Married-civ-spouse   \n",
       "3      28            Private  338409    Bachelors   13   Married-civ-spouse   \n",
       "4      37            Private  284582      Masters   14   Married-civ-spouse   \n",
       "...    ..                ...     ...          ...  ...                  ...   \n",
       "32555  27            Private  257302   Assoc-acdm   12   Married-civ-spouse   \n",
       "32556  40            Private  154374      HS-grad    9   Married-civ-spouse   \n",
       "32557  58            Private  151910      HS-grad    9              Widowed   \n",
       "32558  22            Private  201490      HS-grad    9        Never-married   \n",
       "32559  52       Self-emp-inc  287927      HS-grad    9   Married-civ-spouse   \n",
       "\n",
       "             Adm-clerical   Not-in-family   White     Male   2174   0   40  \\\n",
       "0         Exec-managerial         Husband   White     Male      0   0   13   \n",
       "1       Handlers-cleaners   Not-in-family   White     Male      0   0   40   \n",
       "2       Handlers-cleaners         Husband   Black     Male      0   0   40   \n",
       "3          Prof-specialty            Wife   Black   Female      0   0   40   \n",
       "4         Exec-managerial            Wife   White   Female      0   0   40   \n",
       "...                   ...             ...     ...      ...    ...  ..  ...   \n",
       "32555        Tech-support            Wife   White   Female      0   0   38   \n",
       "32556   Machine-op-inspct         Husband   White     Male      0   0   40   \n",
       "32557        Adm-clerical       Unmarried   White   Female      0   0   40   \n",
       "32558        Adm-clerical       Own-child   White     Male      0   0   20   \n",
       "32559     Exec-managerial            Wife   White   Female  15024   0   40   \n",
       "\n",
       "        United-States   <=50K  \n",
       "0       United-States   <=50K  \n",
       "1       United-States   <=50K  \n",
       "2       United-States   <=50K  \n",
       "3                Cuba   <=50K  \n",
       "4       United-States   <=50K  \n",
       "...               ...     ...  \n",
       "32555   United-States   <=50K  \n",
       "32556   United-States    >50K  \n",
       "32557   United-States   <=50K  \n",
       "32558   United-States   <=50K  \n",
       "32559   United-States    >50K  \n",
       "\n",
       "[32560 rows x 15 columns]"
      ]
     },
     "execution_count": 109,
     "metadata": {},
     "output_type": "execute_result"
    }
   ],
   "source": [
    "train = pd.read_csv('data/census-income.csv')\n",
    "train"
   ]
  },
  {
   "cell_type": "code",
   "execution_count": 110,
   "metadata": {
    "collapsed": false,
    "pycharm": {
     "name": "#%%\n"
    }
   },
   "outputs": [],
   "source": [
    "if \"Set\" not in train.columns:\n",
    "    train[\"Set\"] = np.random.choice([\"train\", \"valid\", \"test\"], p=[.8, .1, .1],\n",
    "                                    size=(train.shape[0],))  # 训练数据集,验证数据集,测试数据集比例\n",
    "\n",
    "train_indices = train[train.loc[:, \"Set\"] == \"train\"].index  # 训练数据集索引\n",
    "valid_indices = train[train.loc[:, \"Set\"] == \"valid\"].index  # 验证数据集索引\n",
    "test_indices = train[train.loc[:, \"Set\"] == \"test\"].index  # 测试数据集索引"
   ]
  },
  {
   "cell_type": "code",
   "execution_count": 111,
   "metadata": {
    "collapsed": false,
    "pycharm": {
     "name": "#%%\n"
    }
   },
   "outputs": [
    {
     "data": {
      "text/plain": [
       "39                   73\n",
       " State-gov            9\n",
       " 77516            21647\n",
       " Bachelors           16\n",
       " 13                  16\n",
       " Never-married        7\n",
       " Adm-clerical        15\n",
       " Not-in-family        6\n",
       " White                5\n",
       " Male                 2\n",
       " 2174               119\n",
       " 0                   92\n",
       " 40                  94\n",
       " United-States       42\n",
       " <=50K                2\n",
       "Set                   3\n",
       "dtype: int64"
      ]
     },
     "execution_count": 111,
     "metadata": {},
     "output_type": "execute_result"
    }
   ],
   "source": [
    "nunique = train.nunique()\n",
    "nunique"
   ]
  },
  {
   "cell_type": "code",
   "execution_count": 112,
   "metadata": {
    "collapsed": false,
    "pycharm": {
     "name": "#%%\n"
    }
   },
   "outputs": [
    {
     "data": {
      "text/plain": [
       "39                 int64\n",
       " State-gov        object\n",
       " 77516             int64\n",
       " Bachelors        object\n",
       " 13                int64\n",
       " Never-married    object\n",
       " Adm-clerical     object\n",
       " Not-in-family    object\n",
       " White            object\n",
       " Male             object\n",
       " 2174              int64\n",
       " 0                 int64\n",
       " 40                int64\n",
       " United-States    object\n",
       " <=50K            object\n",
       "Set               object\n",
       "dtype: object"
      ]
     },
     "execution_count": 112,
     "metadata": {},
     "output_type": "execute_result"
    }
   ],
   "source": [
    "types = train.dtypes\n",
    "types"
   ]
  },
  {
   "cell_type": "code",
   "execution_count": 113,
   "metadata": {
    "collapsed": false,
    "pycharm": {
     "name": "#%%\n"
    }
   },
   "outputs": [
    {
     "name": "stdout",
     "output_type": "stream",
     "text": [
      "39 73\n",
      " State-gov 9\n",
      " Bachelors 16\n",
      " 13 16\n",
      " Never-married 7\n",
      " Adm-clerical 15\n",
      " Not-in-family 6\n",
      " White 5\n",
      " Male 2\n",
      " 2174 119\n",
      " 0 92\n",
      " 40 94\n",
      " United-States 42\n",
      " <=50K 2\n",
      "Set 3\n",
      "['39', ' State-gov', ' Bachelors', ' 13', ' Never-married', ' Adm-clerical', ' Not-in-family', ' White', ' Male', ' 2174', ' 0', ' 40', ' United-States', ' <=50K', 'Set']\n",
      "{'39': 73, ' State-gov': 9, ' Bachelors': 16, ' 13': 16, ' Never-married': 7, ' Adm-clerical': 15, ' Not-in-family': 6, ' White': 5, ' Male': 2, ' 2174': 119, ' 0': 92, ' 40': 94, ' United-States': 42, ' <=50K': 2, 'Set': 3}\n"
     ]
    }
   ],
   "source": [
    "categorical_columns = []  # 分类特征\n",
    "categorical_dims = {}  # 分类特征和该特征唯一值数量\n",
    "for col in train.columns:\n",
    "    # 分类特征处理\n",
    "    if types[col] == 'object' or nunique[col] < 200:\n",
    "        print(col, train[col].nunique())\n",
    "        l_enc = LabelEncoder()  # 标签二值化===================>改注意的地方\n",
    "        train[col] = train[col].fillna(\"VV_likely\")\n",
    "        train[col] = l_enc.fit_transform(train[col].values)\n",
    "        categorical_columns.append(col)\n",
    "        categorical_dims[col] = len(l_enc.classes_)\n",
    "    else:\n",
    "        # 非分类特征缺失值处理\n",
    "        train.fillna(train.loc[train_indices, col].mean(), inplace=True)\n",
    "\n",
    "print(categorical_columns)\n",
    "print(categorical_dims)"
   ]
  },
  {
   "cell_type": "code",
   "execution_count": 114,
   "metadata": {
    "collapsed": false,
    "pycharm": {
     "name": "#%%\n"
    }
   },
   "outputs": [],
   "source": [
    "# 标签处理\n",
    "target = ' <=50K'\n",
    "train.loc[train[target] == 0, target] = \"wealthy\"\n",
    "train.loc[train[target] == 1, target] = \"not_wealthy\""
   ]
  },
  {
   "cell_type": "code",
   "execution_count": 115,
   "metadata": {
    "collapsed": false,
    "pycharm": {
     "name": "#%%\n"
    }
   },
   "outputs": [
    {
     "name": "stdout",
     "output_type": "stream",
     "text": [
      "['39', ' State-gov', ' 77516', ' Bachelors', ' 13', ' Never-married', ' Adm-clerical', ' Not-in-family', ' White', ' Male', ' 2174', ' 0', ' 40', ' United-States']\n",
      "[0, 1, 3, 4, 5, 6, 7, 8, 9, 10, 11, 12, 13]\n",
      "[73, 9, 16, 16, 7, 15, 6, 5, 2, 119, 92, 94, 42]\n"
     ]
    }
   ],
   "source": [
    "unused_feat = ['Set']\n",
    "\n",
    "# 特征\n",
    "features = [col for col in train.columns if col not in unused_feat + [target]]\n",
    "\n",
    "# 分类特征id\n",
    "cat_idxs = [i for i, f in enumerate(features) if f in categorical_columns]\n",
    "\n",
    "# 每个分类特征唯一值数量\n",
    "cat_dims = [categorical_dims[f] for i, f in enumerate(features) if f in categorical_columns]\n",
    "\n",
    "print(features)\n",
    "print(cat_idxs)\n",
    "print(cat_dims)"
   ]
  },
  {
   "cell_type": "code",
   "execution_count": 116,
   "metadata": {
    "collapsed": false,
    "pycharm": {
     "name": "#%%\n"
    }
   },
   "outputs": [],
   "source": [
    "X_train = train[features].values[train_indices]\n",
    "y_train = train[target].values[train_indices]\n",
    "\n",
    "X_valid = train[features].values[valid_indices]\n",
    "y_valid = train[target].values[valid_indices]\n",
    "\n",
    "X_test = train[features].values[test_indices]\n",
    "y_test = train[target].values[test_indices]"
   ]
  },
  {
   "cell_type": "code",
   "execution_count": 117,
   "metadata": {
    "collapsed": false,
    "pycharm": {
     "name": "#%%\n"
    }
   },
   "outputs": [
    {
     "name": "stdout",
     "output_type": "stream",
     "text": [
      "(26127, 14)\n",
      "(26127,)\n"
     ]
    }
   ],
   "source": [
    "# X_trainl.shape = (n_sample, n_feature)\n",
    "print(X_train.shape)\n",
    "# y_train.shape = (n_sample, )\n",
    "print(y_train.shape)"
   ]
  },
  {
   "cell_type": "markdown",
   "metadata": {
    "collapsed": false,
    "pycharm": {
     "name": "#%% md\n"
    }
   },
   "source": [
    "### TabNetClassifier二分类模型"
   ]
  },
  {
   "cell_type": "code",
   "execution_count": 118,
   "metadata": {
    "collapsed": false,
    "pycharm": {
     "name": "#%%\n"
    }
   },
   "outputs": [
    {
     "name": "stdout",
     "output_type": "stream",
     "text": [
      "Device used : cuda\n"
     ]
    },
    {
     "data": {
      "text/plain": [
       "TabNetClassifier(n_d=8, n_a=8, n_steps=3, gamma=1.3, cat_idxs=[0, 1, 3, 4, 5, 6, 7, 8, 9, 10, 11, 12, 13], cat_dims=[73, 9, 16, 16, 7, 15, 6, 5, 2, 119, 92, 94, 42], cat_emb_dim=1, n_independent=2, n_shared=2, epsilon=1e-15, momentum=0.02, lambda_sparse=0.001, seed=1, clip_value=2.0, verbose=10, optimizer_fn=<class 'torch.optim.adam.Adam'>, optimizer_params={'lr': 0.02}, scheduler_fn=<class 'torch.optim.lr_scheduler.StepLR'>, scheduler_params={'step_size': 50, 'gamma': 0.9}, mask_type='entmax', input_dim=None, output_dim=None, device_name='auto')"
      ]
     },
     "execution_count": 118,
     "metadata": {},
     "output_type": "execute_result"
    }
   ],
   "source": [
    "clf = TabNetClassifier(\n",
    "    # Width of the decision prediction layer.\n",
    "    # Bigger values gives more capacity to the model with the risk of overfitting.\n",
    "    # Values typically range from 8 to 64.\n",
    "    n_d=8,  # 默认n_d=8\n",
    "    # Width of the attention embedding for each mask.\n",
    "    # According to the paper n_d=n_a is usually a good choice. (default=8)\n",
    "    n_a=8,  # 默认n_a=3\n",
    "    # Number of steps in the architecture (usually between 3 and 10)\n",
    "    n_steps=3,  # 默认n_steps=3\n",
    "    # This is the coefficient for feature reusage in the masks.\n",
    "    # A value close to 1 will make mask selection least correlated between layers.\n",
    "    # Values range from 1.0 to 2.0.\n",
    "    gamma=1.3,  # 默认gamam=1.3\n",
    "    # Number of shared Gated Linear Units at each step Usual values range from 1 to 5\n",
    "    n_shared=2,  # 默认n_shared=2\n",
    "    # This is the extra sparsity loss coefficient as proposed in the original paper.\n",
    "    # The bigger this coefficient is, the sparser your model will be in terms of feature selection.\n",
    "    # Depending on the difficulty of your problem, reducing this value could help.\n",
    "    lambda_sparse=1e-3,  #  默认lambda_sparse=1e-3\n",
    "    # 分类特征索引列表;默认值[]\n",
    "    cat_idxs=cat_idxs,\n",
    "    # 每个分类特征唯一值数量;默认值[]\n",
    "    cat_dims=cat_dims,\n",
    "    # pytorch优化器;默认torch.optim.Adam\n",
    "    optimizer_fn=torch.optim.Adam,\n",
    "    # pytorch优化器参数\n",
    "    optimizer_params=dict(lr=2e-2),\n",
    "    # pytorch学习率调整\n",
    "    scheduler_fn=torch.optim.lr_scheduler.StepLR,\n",
    "    # pytorch学习率调整对于参数\n",
    "    scheduler_params={\"step_size\": 50,  # how to use learning rate scheduler\n",
    "                      \"gamma\": 0.9},\n",
    "    # this is the masking function to use for selecting features.\n",
    "    # (default='sparsemax') Either \"sparsemax\" or \"entmax\"\n",
    "    mask_type='entmax',\n",
    "    # clip_value : float (default None)\n",
    "    # If a float is given this will clip the gradient at clip_value.\n",
    "    clip_value=2.0,\n",
    "    seed=1,\n",
    "    device_name='auto',  # 默认device_name='auto',可选参数'auto'/'cuda'/'cpu'\n",
    "    # Verbosity for notebooks plots, set to 1 to see every epoch, 0 to get None.\n",
    "    verbose=10  # 默认verbose=1\n",
    ")\n",
    "clf"
   ]
  },
  {
   "cell_type": "code",
   "execution_count": 119,
   "metadata": {
    "collapsed": false,
    "pycharm": {
     "name": "#%%\n"
    }
   },
   "outputs": [],
   "source": [
    "from sklearn.metrics import roc_auc_score\n",
    "from pytorch_tabnet.metrics import Metric\n",
    "\n",
    "\n",
    "class Gini(Metric):\n",
    "    \"\"\"自定义评价指标\"\"\"\n",
    "\n",
    "    def __init__(self):\n",
    "        self._name = \"gini\"  # write an understandable name here\n",
    "        self._maximize = True\n",
    "\n",
    "    def __call__(self, y_true, y_score):\n",
    "        auc = roc_auc_score(y_true, y_score[:, 1])\n",
    "        return max(2 * auc - 1, 0.)\n",
    "\n",
    "\n",
    "def my_loss_fn(y_pred, y_true):\n",
    "    \"\"\"自定义损失函数\"\"\"\n",
    "    softmax_pred = torch.nn.Softmax(dim=-1)(y_pred)\n",
    "    logloss = (1 - y_true) * torch.log(softmax_pred[:, 0])\n",
    "    logloss += y_true * torch.log(softmax_pred[:, 1])\n",
    "    return -torch.mean(logloss)"
   ]
  },
  {
   "cell_type": "code",
   "execution_count": 120,
   "metadata": {
    "collapsed": false,
    "pycharm": {
     "name": "#%%\n"
    }
   },
   "outputs": [
    {
     "name": "stdout",
     "output_type": "stream",
     "text": [
      "epoch 0  | loss: 0.63765 | train_auc: 0.66863 | train_gini: 0.33726 | valid_auc: 0.66149 | valid_gini: 0.32299 |  0:00:01s\n",
      "epoch 10 | loss: 0.37459 | train_auc: 0.91158 | train_gini: 0.82317 | valid_auc: 0.90322 | valid_gini: 0.80644 |  0:00:17s\n",
      "epoch 20 | loss: 0.34013 | train_auc: 0.92872 | train_gini: 0.85743 | valid_auc: 0.91634 | valid_gini: 0.83267 |  0:00:34s\n",
      "epoch 30 | loss: 0.33663 | train_auc: 0.93372 | train_gini: 0.86743 | valid_auc: 0.92025 | valid_gini: 0.8405  |  0:00:50s\n",
      "epoch 40 | loss: 0.32347 | train_auc: 0.93502 | train_gini: 0.87003 | valid_auc: 0.91829 | valid_gini: 0.83657 |  0:01:07s\n",
      "\n",
      "Early stopping occurred at epoch 49 with best_epoch = 29 and best_valid_gini = 0.84498\n",
      "Best weights from best epoch are automatically used!\n"
     ]
    }
   ],
   "source": [
    "clf.fit(\n",
    "    X_train=X_train,\n",
    "    y_train=y_train,\n",
    "    # List of eval tuple set (X, y).\n",
    "    eval_set=[(X_train, y_train), (X_valid, y_valid)],\n",
    "    # List of eval set names.\n",
    "    eval_name=['train', 'valid'],\n",
    "    # List of evaluation metrics.\n",
    "    # The last metric is used for early stopping.\n",
    "    # binary classification metrics : 'auc', 'accuracy', 'balanced_accuracy', 'logloss'\n",
    "    # multiclass classification : 'accuracy', 'balanced_accuracy', 'logloss'\n",
    "    # regression: 'mse', 'mae', 'rmse', 'rmsle'\n",
    "    eval_metric=['auc', Gini],\n",
    "    # loss function for training (default to mse for regression and cross entropy for classification)\n",
    "    loss_fn=F.cross_entropy,  # 使用pytorch其他损失函数\n",
    "    # Maximum number of epochs for trainng.\n",
    "    max_epochs=300,  # 默认值200\n",
    "    # Number of consecutive epochs without improvement before performing early stopping.\n",
    "    patience=20,  # 默认值15\n",
    "    # Number of examples per batch. Large batch sizes are recommended.\n",
    "    batch_size=1024,  # 默认值1024\n",
    "    # Number or workers used in torch.utils.data.Dataloader\n",
    "    # num_workers=8,  # 默认值0\n",
    "\n",
    "    # Size of the mini batches used for \"Ghost Batch Normalization\". /!\\ virtual_batch_size should divide batch_size\n",
    "    virtual_batch_size=128,  # 默认值128\n",
    "    # Only for TabNetClassifier Sampling parameter 0 : no sampling 1 : automated sampling with inverse class occurrences dict : keys are classes, values are weights for each class\n",
    "    weights=1,\n",
    "    # Whether to drop last batch if not complete during training\n",
    "    drop_last=False  # 默认值false\n",
    ")"
   ]
  },
  {
   "cell_type": "markdown",
   "metadata": {
    "collapsed": false,
    "pycharm": {
     "name": "#%% md\n"
    }
   },
   "source": [
    "### 结果分析"
   ]
  },
  {
   "cell_type": "code",
   "execution_count": 121,
   "metadata": {
    "collapsed": false,
    "pycharm": {
     "name": "#%%\n"
    }
   },
   "outputs": [
    {
     "data": {
      "text/plain": [
       "{'loss': [0.6376486898230536, 0.5016352500393374, 0.47060597353543326, 0.44656051698711813, 0.42354506964948535, 0.41805221506597234, 0.41238681935810506, 0.3953883422887042, 0.39455902971118845, 0.37982634508377533, 0.37458614896709574, 0.37117438141799675, 0.3626360043700246, 0.36298365374768915, 0.3554611056638137, 0.3466781338165434, 0.35195640298010455, 0.335785567474159, 0.3394685064128379, 0.33643677264809013, 0.34012819748523976, 0.33799118727517463, 0.34193762831277835, 0.3370551797896241, 0.34333598953430966, 0.3329950917824295, 0.33248439234652805, 0.3337226982377137, 0.3369413561551238, 0.33173657702962556, 0.3366295664780503, 0.32943585022480354, 0.3231361167320096, 0.32729213073026686, 0.3396535288825823, 0.32562126673202807, 0.3284732174445829, 0.33352053893070094, 0.3309241498671448, 0.3215653549214065, 0.3234655786079385, 0.32041209786371816, 0.31973238234432905, 0.3194983880806495, 0.3165056009209014, 0.3175019878283403, 0.315616569345159, 0.3279191641104993, 0.3238096256083543, 0.32537766065417584], 'lr': [0.02, 0.02, 0.02, 0.02, 0.02, 0.02, 0.02, 0.02, 0.02, 0.02, 0.02, 0.02, 0.02, 0.02, 0.02, 0.02, 0.02, 0.02, 0.02, 0.02, 0.02, 0.02, 0.02, 0.02, 0.02, 0.02, 0.02, 0.02, 0.02, 0.02, 0.02, 0.02, 0.02, 0.02, 0.02, 0.02, 0.02, 0.02, 0.02, 0.02, 0.02, 0.02, 0.02, 0.02, 0.02, 0.02, 0.02, 0.02, 0.02, 0.02], 'train_auc': [0.6686295197021438, 0.7989708525380061, 0.8413782988436513, 0.8668115159778241, 0.8815926198746442, 0.8847781417693701, 0.8969571653671191, 0.9031576830120791, 0.9066107794903125, 0.9117744686034471, 0.9115848077230799, 0.9163439977914328, 0.9205241702726132, 0.9236400669859626, 0.9262721042566554, 0.9265803781196453, 0.9283215391744952, 0.9285342912210887, 0.9297912211686128, 0.9292366135577836, 0.9287158594030123, 0.9312085144299407, 0.930316866909999, 0.9308671624113859, 0.9299304995061255, 0.931885927241006, 0.9321967587963436, 0.9328355024962278, 0.9296791742618141, 0.9334627245913647, 0.9337165915424468, 0.9345648981662784, 0.9343190719605142, 0.9313523646425249, 0.9331606011791921, 0.9335931589083066, 0.9343085494543404, 0.9328207478084973, 0.9339762013121282, 0.934665655259199, 0.93501720607599, 0.9360408824741964, 0.9357611868267974, 0.9368861318563939, 0.9372725751917589, 0.9368622054437603, 0.9343096844303196, 0.9335973950862574, 0.9329524449860357, 0.9364251797458261], 'train_gini': [0.3372590394042876, 0.5979417050760123, 0.6827565976873027, 0.7336230319556483, 0.7631852397492884, 0.7695562835387402, 0.7939143307342382, 0.8063153660241582, 0.8132215589806251, 0.8235489372068943, 0.8231696154461599, 0.8326879955828657, 0.8410483405452265, 0.8472801339719251, 0.8525442085133108, 0.8531607562392907, 0.8566430783489904, 0.8570685824421773, 0.8595824423372256, 0.8584732271155673, 0.8574317188060245, 0.8624170288598814, 0.8606337338199981, 0.8617343248227718, 0.859860999012251, 0.8637718544820121, 0.8643935175926871, 0.8656710049924556, 0.8593583485236282, 0.8669254491827294, 0.8674331830848936, 0.8691297963325568, 0.8686381439210284, 0.8627047292850498, 0.8663212023583842, 0.8671863178166133, 0.8686170989086808, 0.8656414956169947, 0.8679524026242564, 0.869331310518398, 0.8700344121519801, 0.8720817649483927, 0.8715223736535949, 0.8737722637127878, 0.8745451503835178, 0.8737244108875206, 0.8686193688606392, 0.8671947901725148, 0.8659048899720714, 0.8728503594916521], 'valid_auc': [0.6614935685149193, 0.7978917804619657, 0.8308169070479401, 0.857096530668424, 0.8712931372467239, 0.8758143628158394, 0.8865361114123409, 0.8947553366311031, 0.8977260404240944, 0.9031533879995661, 0.9032222073924541, 0.9087845869585165, 0.9142176694833958, 0.9192493055497626, 0.9188395173466579, 0.9197164432469407, 0.9198353131073833, 0.9189166784841383, 0.9204447818216702, 0.9180840681020028, 0.9163364726098815, 0.9209755253213657, 0.9188165775490286, 0.9200772237005647, 0.9191935201328005, 0.9217554784407611, 0.9217700764937979, 0.9207998273258869, 0.9166451171598028, 0.9224877272082684, 0.9202505755803769, 0.9211976242711399, 0.9179357414559681, 0.9168612204806514, 0.9195889709623871, 0.9185647611341435, 0.918105443822521, 0.9182973039481477, 0.9188851362623979, 0.918059303547744, 0.9182868767674071, 0.9156847738135956, 0.919488087988722, 0.9167665938154306, 0.9165744730102854, 0.9175460255757889, 0.9143719917583563, 0.9145701081924273, 0.9107733110052636, 0.9154913496108575], 'valid_gini': [0.3229871370298385, 0.5957835609239315, 0.6616338140958802, 0.7141930613368479, 0.7425862744934477, 0.7516287256316787, 0.7730722228246818, 0.7895106732622061, 0.7954520808481889, 0.8063067759991323, 0.8064444147849081, 0.817569173917033, 0.8284353389667916, 0.8384986110995252, 0.8376790346933158, 0.8394328864938814, 0.8396706262147666, 0.8378333569682765, 0.8408895636433404, 0.8361681362040057, 0.832672945219763, 0.8419510506427315, 0.8376331550980571, 0.8401544474011293, 0.8383870402656011, 0.8435109568815222, 0.8435401529875959, 0.8415996546517739, 0.8332902343196056, 0.8449754544165369, 0.8405011511607539, 0.8423952485422799, 0.8358714829119362, 0.8337224409613029, 0.8391779419247742, 0.8371295222682871, 0.836210887645042, 0.8365946078962954, 0.8377702725247957, 0.836118607095488, 0.8365737535348141, 0.8313695476271912, 0.8389761759774439, 0.8335331876308611, 0.8331489460205708, 0.8350920511515778, 0.8287439835167125, 0.8291402163848547, 0.8215466220105272, 0.8309826992217151]}"
      ]
     },
     "execution_count": 121,
     "metadata": {},
     "output_type": "execute_result"
    }
   ],
   "source": [
    "# pytorch_tabnet.callbacks.History类型\n",
    "clf.history"
   ]
  },
  {
   "cell_type": "code",
   "execution_count": 122,
   "metadata": {
    "collapsed": false,
    "pycharm": {
     "name": "#%%\n"
    }
   },
   "outputs": [
    {
     "data": {
      "text/plain": [
       "{'loss': [0.6376486898230536,\n",
       "  0.5016352500393374,\n",
       "  0.47060597353543326,\n",
       "  0.44656051698711813,\n",
       "  0.42354506964948535,\n",
       "  0.41805221506597234,\n",
       "  0.41238681935810506,\n",
       "  0.3953883422887042,\n",
       "  0.39455902971118845,\n",
       "  0.37982634508377533,\n",
       "  0.37458614896709574,\n",
       "  0.37117438141799675,\n",
       "  0.3626360043700246,\n",
       "  0.36298365374768915,\n",
       "  0.3554611056638137,\n",
       "  0.3466781338165434,\n",
       "  0.35195640298010455,\n",
       "  0.335785567474159,\n",
       "  0.3394685064128379,\n",
       "  0.33643677264809013,\n",
       "  0.34012819748523976,\n",
       "  0.33799118727517463,\n",
       "  0.34193762831277835,\n",
       "  0.3370551797896241,\n",
       "  0.34333598953430966,\n",
       "  0.3329950917824295,\n",
       "  0.33248439234652805,\n",
       "  0.3337226982377137,\n",
       "  0.3369413561551238,\n",
       "  0.33173657702962556,\n",
       "  0.3366295664780503,\n",
       "  0.32943585022480354,\n",
       "  0.3231361167320096,\n",
       "  0.32729213073026686,\n",
       "  0.3396535288825823,\n",
       "  0.32562126673202807,\n",
       "  0.3284732174445829,\n",
       "  0.33352053893070094,\n",
       "  0.3309241498671448,\n",
       "  0.3215653549214065,\n",
       "  0.3234655786079385,\n",
       "  0.32041209786371816,\n",
       "  0.31973238234432905,\n",
       "  0.3194983880806495,\n",
       "  0.3165056009209014,\n",
       "  0.3175019878283403,\n",
       "  0.315616569345159,\n",
       "  0.3279191641104993,\n",
       "  0.3238096256083543,\n",
       "  0.32537766065417584],\n",
       " 'lr': [0.02,\n",
       "  0.02,\n",
       "  0.02,\n",
       "  0.02,\n",
       "  0.02,\n",
       "  0.02,\n",
       "  0.02,\n",
       "  0.02,\n",
       "  0.02,\n",
       "  0.02,\n",
       "  0.02,\n",
       "  0.02,\n",
       "  0.02,\n",
       "  0.02,\n",
       "  0.02,\n",
       "  0.02,\n",
       "  0.02,\n",
       "  0.02,\n",
       "  0.02,\n",
       "  0.02,\n",
       "  0.02,\n",
       "  0.02,\n",
       "  0.02,\n",
       "  0.02,\n",
       "  0.02,\n",
       "  0.02,\n",
       "  0.02,\n",
       "  0.02,\n",
       "  0.02,\n",
       "  0.02,\n",
       "  0.02,\n",
       "  0.02,\n",
       "  0.02,\n",
       "  0.02,\n",
       "  0.02,\n",
       "  0.02,\n",
       "  0.02,\n",
       "  0.02,\n",
       "  0.02,\n",
       "  0.02,\n",
       "  0.02,\n",
       "  0.02,\n",
       "  0.02,\n",
       "  0.02,\n",
       "  0.02,\n",
       "  0.02,\n",
       "  0.02,\n",
       "  0.02,\n",
       "  0.02,\n",
       "  0.02],\n",
       " 'train_auc': [0.6686295197021438,\n",
       "  0.7989708525380061,\n",
       "  0.8413782988436513,\n",
       "  0.8668115159778241,\n",
       "  0.8815926198746442,\n",
       "  0.8847781417693701,\n",
       "  0.8969571653671191,\n",
       "  0.9031576830120791,\n",
       "  0.9066107794903125,\n",
       "  0.9117744686034471,\n",
       "  0.9115848077230799,\n",
       "  0.9163439977914328,\n",
       "  0.9205241702726132,\n",
       "  0.9236400669859626,\n",
       "  0.9262721042566554,\n",
       "  0.9265803781196453,\n",
       "  0.9283215391744952,\n",
       "  0.9285342912210887,\n",
       "  0.9297912211686128,\n",
       "  0.9292366135577836,\n",
       "  0.9287158594030123,\n",
       "  0.9312085144299407,\n",
       "  0.930316866909999,\n",
       "  0.9308671624113859,\n",
       "  0.9299304995061255,\n",
       "  0.931885927241006,\n",
       "  0.9321967587963436,\n",
       "  0.9328355024962278,\n",
       "  0.9296791742618141,\n",
       "  0.9334627245913647,\n",
       "  0.9337165915424468,\n",
       "  0.9345648981662784,\n",
       "  0.9343190719605142,\n",
       "  0.9313523646425249,\n",
       "  0.9331606011791921,\n",
       "  0.9335931589083066,\n",
       "  0.9343085494543404,\n",
       "  0.9328207478084973,\n",
       "  0.9339762013121282,\n",
       "  0.934665655259199,\n",
       "  0.93501720607599,\n",
       "  0.9360408824741964,\n",
       "  0.9357611868267974,\n",
       "  0.9368861318563939,\n",
       "  0.9372725751917589,\n",
       "  0.9368622054437603,\n",
       "  0.9343096844303196,\n",
       "  0.9335973950862574,\n",
       "  0.9329524449860357,\n",
       "  0.9364251797458261],\n",
       " 'train_gini': [0.3372590394042876,\n",
       "  0.5979417050760123,\n",
       "  0.6827565976873027,\n",
       "  0.7336230319556483,\n",
       "  0.7631852397492884,\n",
       "  0.7695562835387402,\n",
       "  0.7939143307342382,\n",
       "  0.8063153660241582,\n",
       "  0.8132215589806251,\n",
       "  0.8235489372068943,\n",
       "  0.8231696154461599,\n",
       "  0.8326879955828657,\n",
       "  0.8410483405452265,\n",
       "  0.8472801339719251,\n",
       "  0.8525442085133108,\n",
       "  0.8531607562392907,\n",
       "  0.8566430783489904,\n",
       "  0.8570685824421773,\n",
       "  0.8595824423372256,\n",
       "  0.8584732271155673,\n",
       "  0.8574317188060245,\n",
       "  0.8624170288598814,\n",
       "  0.8606337338199981,\n",
       "  0.8617343248227718,\n",
       "  0.859860999012251,\n",
       "  0.8637718544820121,\n",
       "  0.8643935175926871,\n",
       "  0.8656710049924556,\n",
       "  0.8593583485236282,\n",
       "  0.8669254491827294,\n",
       "  0.8674331830848936,\n",
       "  0.8691297963325568,\n",
       "  0.8686381439210284,\n",
       "  0.8627047292850498,\n",
       "  0.8663212023583842,\n",
       "  0.8671863178166133,\n",
       "  0.8686170989086808,\n",
       "  0.8656414956169947,\n",
       "  0.8679524026242564,\n",
       "  0.869331310518398,\n",
       "  0.8700344121519801,\n",
       "  0.8720817649483927,\n",
       "  0.8715223736535949,\n",
       "  0.8737722637127878,\n",
       "  0.8745451503835178,\n",
       "  0.8737244108875206,\n",
       "  0.8686193688606392,\n",
       "  0.8671947901725148,\n",
       "  0.8659048899720714,\n",
       "  0.8728503594916521],\n",
       " 'valid_auc': [0.6614935685149193,\n",
       "  0.7978917804619657,\n",
       "  0.8308169070479401,\n",
       "  0.857096530668424,\n",
       "  0.8712931372467239,\n",
       "  0.8758143628158394,\n",
       "  0.8865361114123409,\n",
       "  0.8947553366311031,\n",
       "  0.8977260404240944,\n",
       "  0.9031533879995661,\n",
       "  0.9032222073924541,\n",
       "  0.9087845869585165,\n",
       "  0.9142176694833958,\n",
       "  0.9192493055497626,\n",
       "  0.9188395173466579,\n",
       "  0.9197164432469407,\n",
       "  0.9198353131073833,\n",
       "  0.9189166784841383,\n",
       "  0.9204447818216702,\n",
       "  0.9180840681020028,\n",
       "  0.9163364726098815,\n",
       "  0.9209755253213657,\n",
       "  0.9188165775490286,\n",
       "  0.9200772237005647,\n",
       "  0.9191935201328005,\n",
       "  0.9217554784407611,\n",
       "  0.9217700764937979,\n",
       "  0.9207998273258869,\n",
       "  0.9166451171598028,\n",
       "  0.9224877272082684,\n",
       "  0.9202505755803769,\n",
       "  0.9211976242711399,\n",
       "  0.9179357414559681,\n",
       "  0.9168612204806514,\n",
       "  0.9195889709623871,\n",
       "  0.9185647611341435,\n",
       "  0.918105443822521,\n",
       "  0.9182973039481477,\n",
       "  0.9188851362623979,\n",
       "  0.918059303547744,\n",
       "  0.9182868767674071,\n",
       "  0.9156847738135956,\n",
       "  0.919488087988722,\n",
       "  0.9167665938154306,\n",
       "  0.9165744730102854,\n",
       "  0.9175460255757889,\n",
       "  0.9143719917583563,\n",
       "  0.9145701081924273,\n",
       "  0.9107733110052636,\n",
       "  0.9154913496108575],\n",
       " 'valid_gini': [0.3229871370298385,\n",
       "  0.5957835609239315,\n",
       "  0.6616338140958802,\n",
       "  0.7141930613368479,\n",
       "  0.7425862744934477,\n",
       "  0.7516287256316787,\n",
       "  0.7730722228246818,\n",
       "  0.7895106732622061,\n",
       "  0.7954520808481889,\n",
       "  0.8063067759991323,\n",
       "  0.8064444147849081,\n",
       "  0.817569173917033,\n",
       "  0.8284353389667916,\n",
       "  0.8384986110995252,\n",
       "  0.8376790346933158,\n",
       "  0.8394328864938814,\n",
       "  0.8396706262147666,\n",
       "  0.8378333569682765,\n",
       "  0.8408895636433404,\n",
       "  0.8361681362040057,\n",
       "  0.832672945219763,\n",
       "  0.8419510506427315,\n",
       "  0.8376331550980571,\n",
       "  0.8401544474011293,\n",
       "  0.8383870402656011,\n",
       "  0.8435109568815222,\n",
       "  0.8435401529875959,\n",
       "  0.8415996546517739,\n",
       "  0.8332902343196056,\n",
       "  0.8449754544165369,\n",
       "  0.8405011511607539,\n",
       "  0.8423952485422799,\n",
       "  0.8358714829119362,\n",
       "  0.8337224409613029,\n",
       "  0.8391779419247742,\n",
       "  0.8371295222682871,\n",
       "  0.836210887645042,\n",
       "  0.8365946078962954,\n",
       "  0.8377702725247957,\n",
       "  0.836118607095488,\n",
       "  0.8365737535348141,\n",
       "  0.8313695476271912,\n",
       "  0.8389761759774439,\n",
       "  0.8335331876308611,\n",
       "  0.8331489460205708,\n",
       "  0.8350920511515778,\n",
       "  0.8287439835167125,\n",
       "  0.8291402163848547,\n",
       "  0.8215466220105272,\n",
       "  0.8309826992217151]}"
      ]
     },
     "execution_count": 122,
     "metadata": {},
     "output_type": "execute_result"
    }
   ],
   "source": [
    "# 字典类型\n",
    "clf.history.history"
   ]
  },
  {
   "cell_type": "code",
   "execution_count": 123,
   "metadata": {
    "collapsed": false,
    "pycharm": {
     "name": "#%%\n"
    }
   },
   "outputs": [
    {
     "data": {
      "text/plain": [
       "dict_keys(['loss', 'lr', 'train_auc', 'train_gini', 'valid_auc', 'valid_gini'])"
      ]
     },
     "execution_count": 123,
     "metadata": {},
     "output_type": "execute_result"
    }
   ],
   "source": [
    "# 通过设置eval_set,eval_metric参数生成评估指标(train_auc,train_gini,valid_auc,valid_gini)\n",
    "clf.history.history.keys()"
   ]
  },
  {
   "cell_type": "code",
   "execution_count": 124,
   "metadata": {
    "collapsed": false,
    "pycharm": {
     "name": "#%%\n"
    }
   },
   "outputs": [
    {
     "data": {
      "text/plain": [
       "[<matplotlib.lines.Line2D at 0x2cc1d2bd8e0>]"
      ]
     },
     "execution_count": 124,
     "metadata": {},
     "output_type": "execute_result"
    },
    {
     "data": {
      "image/png": "[encoded data removed]",
      "text/plain": [
       "<Figure size 432x288 with 1 Axes>"
      ]
     },
     "metadata": {
      "needs_background": "light"
     },
     "output_type": "display_data"
    }
   ],
   "source": [
    "# plot losses(训练数据集)\n",
    "plt.plot(clf.history['loss'])"
   ]
  },
  {
   "cell_type": "code",
   "execution_count": 125,
   "metadata": {
    "collapsed": false,
    "pycharm": {
     "name": "#%%\n"
    }
   },
   "outputs": [
    {
     "data": {
      "text/plain": [
       "<matplotlib.legend.Legend at 0x2cc143608b0>"
      ]
     },
     "execution_count": 125,
     "metadata": {},
     "output_type": "execute_result"
    },
    {
     "data": {
      "image/png": "[encoded data removed]",
      "text/plain": [
       "<Figure size 432x288 with 1 Axes>"
      ]
     },
     "metadata": {
      "needs_background": "light"
     },
     "output_type": "display_data"
    }
   ],
   "source": [
    "# plot auc\n",
    "plt.plot(clf.history['train_auc'], label=\"train_auc\")\n",
    "plt.plot(clf.history['valid_auc'], label=\"valid_auc\")\n",
    "plt.legend()"
   ]
  },
  {
   "cell_type": "code",
   "execution_count": 126,
   "metadata": {
    "collapsed": false,
    "pycharm": {
     "name": "#%%\n"
    }
   },
   "outputs": [
    {
     "data": {
      "text/plain": [
       "<matplotlib.legend.Legend at 0x2cc3d7b4550>"
      ]
     },
     "execution_count": 126,
     "metadata": {},
     "output_type": "execute_result"
    },
    {
     "data": {
      "image/png": "[encoded data removed]",
      "text/plain": [
       "<Figure size 432x288 with 1 Axes>"
      ]
     },
     "metadata": {
      "needs_background": "light"
     },
     "output_type": "display_data"
    }
   ],
   "source": [
    "# plot gini\n",
    "plt.plot(clf.history['train_gini'], label=\"train_auc\")\n",
    "plt.plot(clf.history['valid_gini'], label=\"valid_auc\")\n",
    "plt.legend()"
   ]
  },
  {
   "cell_type": "code",
   "execution_count": 127,
   "metadata": {
    "collapsed": false,
    "pycharm": {
     "name": "#%%\n"
    }
   },
   "outputs": [
    {
     "data": {
      "text/plain": [
       "[<matplotlib.lines.Line2D at 0x2cc14db96d0>]"
      ]
     },
     "execution_count": 127,
     "metadata": {},
     "output_type": "execute_result"
    },
    {
     "data": {
      "image/png": "[encoded data removed]",
      "text/plain": [
       "<Figure size 432x288 with 1 Axes>"
      ]
     },
     "metadata": {
      "needs_background": "light"
     },
     "output_type": "display_data"
    }
   ],
   "source": [
    "# plot learning rates\n",
    "plt.plot(clf.history['lr'])"
   ]
  },
  {
   "cell_type": "code",
   "execution_count": 137,
   "metadata": {
    "collapsed": false,
    "pycharm": {
     "name": "#%%\n"
    }
   },
   "outputs": [
    {
     "data": {
      "text/plain": [
       "array(['not_wealthy', 'wealthy'], dtype='<U11')"
      ]
     },
     "execution_count": 137,
     "metadata": {},
     "output_type": "execute_result"
    }
   ],
   "source": [
    "# 数据类别\n",
    "clf.classes_"
   ]
  },
  {
   "cell_type": "code",
   "execution_count": 138,
   "metadata": {
    "collapsed": false,
    "pycharm": {
     "name": "#%%\n"
    }
   },
   "outputs": [
    {
     "data": {
      "text/plain": [
       "array(['wealthy', 'wealthy', 'wealthy', ..., 'not_wealthy', 'wealthy',\n",
       "       'not_wealthy'], dtype='<U11')"
      ]
     },
     "execution_count": 138,
     "metadata": {},
     "output_type": "execute_result"
    }
   ],
   "source": [
    "clf.predict(X_test)  # (n_sample, )"
   ]
  },
  {
   "cell_type": "code",
   "execution_count": 139,
   "metadata": {
    "collapsed": false,
    "pycharm": {
     "name": "#%%\n"
    }
   },
   "outputs": [
    {
     "data": {
      "text/plain": [
       "array([[4.3318802e-03, 9.9566805e-01],\n",
       "       [2.7385766e-02, 9.7261423e-01],\n",
       "       [1.9486868e-03, 9.9805129e-01],\n",
       "       ...,\n",
       "       [9.9967849e-01, 3.2147451e-04],\n",
       "       [2.2091286e-03, 9.9779081e-01],\n",
       "       [7.8999048e-01, 2.1000953e-01]], dtype=float32)"
      ]
     },
     "execution_count": 139,
     "metadata": {},
     "output_type": "execute_result"
    }
   ],
   "source": [
    "clf.predict_proba(X_test)  # (n_sample, num_class)"
   ]
  },
  {
   "cell_type": "code",
   "execution_count": 141,
   "metadata": {
    "collapsed": false,
    "pycharm": {
     "name": "#%%\n"
    }
   },
   "outputs": [
    {
     "data": {
      "text/plain": [
       "array([5.28605475e-02, 6.02396464e-03, 1.10621756e-03, 5.71976419e-02,\n",
       "       6.11038782e-02, 5.57130073e-02, 8.98064820e-02, 1.76017477e-01,\n",
       "       4.20441088e-03, 4.83205460e-02, 2.14003395e-01, 1.34963887e-01,\n",
       "       9.86335529e-02, 4.49929194e-05])"
      ]
     },
     "execution_count": 141,
     "metadata": {},
     "output_type": "execute_result"
    }
   ],
   "source": [
    "# 特征的相对重要性\n",
    "clf.feature_importances_"
   ]
  },
  {
   "cell_type": "markdown",
   "metadata": {
    "collapsed": false,
    "pycharm": {
     "name": "#%% md\n"
    }
   },
   "source": [
    "### 保存和加载模型"
   ]
  },
  {
   "cell_type": "code",
   "execution_count": 142,
   "metadata": {
    "collapsed": false,
    "pycharm": {
     "name": "#%%\n"
    }
   },
   "outputs": [
    {
     "name": "stdout",
     "output_type": "stream",
     "text": [
      "Successfully saved model at ./tabnet_model_test_1.zip\n"
     ]
    }
   ],
   "source": [
    "# save tabnet model\n",
    "saving_path_name = \"./tabnet_model_test_1\"\n",
    "saved_filepath = clf.save_model(saving_path_name)"
   ]
  },
  {
   "cell_type": "code",
   "execution_count": 143,
   "metadata": {
    "collapsed": false,
    "pycharm": {
     "name": "#%%\n"
    }
   },
   "outputs": [
    {
     "name": "stdout",
     "output_type": "stream",
     "text": [
      "Device used : cuda\n",
      "Device used : cuda\n"
     ]
    }
   ],
   "source": [
    "# define new model with basic parameters and load state dict weights\n",
    "loaded_clf = TabNetClassifier()\n",
    "loaded_clf.load_model('tabnet_model_test_1.zip')"
   ]
  },
  {
   "cell_type": "code",
   "execution_count": 151,
   "metadata": {
    "collapsed": false,
    "pycharm": {
     "name": "#%%\n"
    }
   },
   "outputs": [
    {
     "name": "stdout",
     "output_type": "stream",
     "text": [
      "FINAL TEST SCORE FOR census-income : 0.9183328952844032\n",
      "['wealthy' 'wealthy' 'wealthy' ... 'not_wealthy' 'wealthy' 'not_wealthy']\n"
     ]
    }
   ],
   "source": [
    "loaded_preds = loaded_clf.predict_proba(X_test)\n",
    "loaded_test_auc = roc_auc_score(y_score=loaded_preds[:, 1], y_true=y_test)\n",
    "\n",
    "print(f\"FINAL TEST SCORE FOR census-income : {loaded_test_auc}\")\n",
    "print(loaded_clf.predict(X_test))"
   ]
  },
  {
   "cell_type": "code",
   "execution_count": null,
   "metadata": {
    "collapsed": false,
    "pycharm": {
     "name": "#%%\n"
    }
   },
   "outputs": [],
   "source": []
  }
 ],
 "metadata": {
  "kernelspec": {
   "display_name": "Python 3",
   "language": "python",
   "name": "python3"
  },
  "language_info": {
   "codemirror_mode": {
    "name": "ipython",
    "version": 2
   },
   "file_extension": ".py",
   "mimetype": "text/x-python",
   "name": "python",
   "nbconvert_exporter": "python",
   "pygments_lexer": "ipython2",
   "version": "2.7.6"
  }
 },
 "nbformat": 4,
 "nbformat_minor": 0
}