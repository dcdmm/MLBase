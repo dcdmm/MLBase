{
 "cells": [
  {
   "cell_type": "code",
   "execution_count": null,
   "outputs": [],
   "source": [
    "import  numpy as np\n",
    "from scipy import stats\n",
    "\n",
    "data = np.array([1, 2, 4, 7, 2])\n",
    "stats.mode(data)"
   ],
   "metadata": {
    "collapsed": false,
    "pycharm": {
     "name": "#%%\n"
    }
   }
  },
  {
   "cell_type": "code",
   "execution_count": 14,
   "outputs": [
    {
     "data": {
      "text/plain": "array([[0, 8, 3, 9],\n       [9, 2, 1, 7],\n       [8, 1, 8, 9],\n       [5, 3, 1, 5],\n       [4, 7, 5, 9]])"
     },
     "metadata": {},
     "output_type": "execute_result",
     "execution_count": 14
    }
   ],
   "source": [
    "a = np.array([[0, 8, 3, 9],\n",
    "               [9, 2, 1, 7],\n",
    "               [8, 1, 8, 9],\n",
    "               [5, 3, 1, 5],\n",
    "               [4, 7, 5, 9]])\n",
    "a"
   ],
   "metadata": {
    "pycharm": {
     "metadata": false,
     "name": "#%%\n",
     "is_executing": false
    }
   }
  },
  {
   "cell_type": "code",
   "execution_count": 15,
   "outputs": [
    {
     "data": {
      "text/plain": "ModeResult(mode=array([[0, 1, 1, 9]]), count=array([[1, 1, 2, 3]]))"
     },
     "metadata": {},
     "output_type": "execute_result",
     "execution_count": 15
    }
   ],
   "source": [
    "stats.mode(a)"
   ],
   "metadata": {
    "pycharm": {
     "metadata": false,
     "name": "#%%\n",
     "is_executing": false
    }
   }
  },
  {
   "cell_type": "code",
   "execution_count": 16,
   "outputs": [
    {
     "data": {
      "text/plain": "ModeResult(mode=array([[0],\n       [1],\n       [8],\n       [5],\n       [4]]), count=array([[1],\n       [1],\n       [2],\n       [2],\n       [1]]))"
     },
     "metadata": {},
     "output_type": "execute_result",
     "execution_count": 16
    }
   ],
   "source": [
    "stats.mode(a, axis=1)"
   ],
   "metadata": {
    "pycharm": {
     "metadata": false,
     "name": "#%%\n",
     "is_executing": false
    }
   }
  },
  {
   "cell_type": "code",
   "execution_count": 17,
   "outputs": [
    {
     "data": {
      "text/plain": "ModeResult(mode=array([9]), count=array([4]))"
     },
     "metadata": {},
     "output_type": "execute_result",
     "execution_count": 17
    }
   ],
   "source": [
    "stats.mode(a, axis=None)"
   ],
   "metadata": {
    "pycharm": {
     "metadata": false,
     "name": "#%%\n",
     "is_executing": false
    }
   }
  },
  {
   "cell_type": "code",
   "execution_count": 18,
   "outputs": [
    {
     "data": {
      "text/plain": "'\\nParameters:\\n    a : array_like\\n        n-dimensional array of which to find mode(s).\\n\\n    axis : int or None, optional\\n        Axis along which to operate. Default is 0. If None, compute over the whole array a.\\n\\nReturns:\\t\\n    mode : ndarray\\n        Array of modal values.\\n\\n    count : ndarray\\n        Array of counts for each mode.\\n'"
     },
     "metadata": {},
     "output_type": "execute_result",
     "execution_count": 18
    }
   ],
   "source": [
    "'''\n",
    "Parameters:\n",
    "    a : array_like\n",
    "        n-dimensional array of which to find mode(s).\n",
    "\n",
    "    axis : int or None, optional\n",
    "        Axis along which to operate. Default is 0. If None, compute over the whole array a.\n",
    "\n",
    "Returns:\t\n",
    "    mode : ndarray\n",
    "        Array of modal values.\n",
    "\n",
    "    count : ndarray\n",
    "        Array of counts for each mode.\n",
    "'''\n"
   ],
   "metadata": {
    "pycharm": {
     "metadata": false,
     "name": "#%%\n",
     "is_executing": false
    }
   }
  }
 ],
 "metadata": {
  "language_info": {
   "codemirror_mode": {
    "name": "ipython",
    "version": 2
   },
   "file_extension": ".py",
   "mimetype": "text/x-python",
   "name": "python",
   "nbconvert_exporter": "python",
   "pygments_lexer": "ipython2",
   "version": "2.7.6"
  },
  "kernelspec": {
   "name": "python3",
   "language": "python",
   "display_name": "Python 3"
  },
  "stem_cell": {
   "cell_type": "raw",
   "source": "",
   "metadata": {
    "pycharm": {
     "metadata": false
    }
   }
  },
  "pycharm": {
   "stem_cell": {
    "cell_type": "raw",
    "source": [],
    "metadata": {
     "collapsed": false
    }
   }
  }
 },
 "nbformat": 4,
 "nbformat_minor": 0
}