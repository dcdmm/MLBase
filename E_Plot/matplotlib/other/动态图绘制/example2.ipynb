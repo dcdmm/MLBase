{
 "cells": [
  {
   "cell_type": "code",
   "execution_count": 1,
   "metadata": {
    "pycharm": {
     "is_executing": false,
     "name": "#%%\n"
    }
   },
   "outputs": [
    {
     "name": "stdout",
     "text": [
      "60\n"
     ],
     "output_type": "stream"
    }
   ],
   "source": [
    "%matplotlib qt5\n",
    "import numpy as np\n",
    "import matplotlib.pyplot as plt\n",
    "import matplotlib.animation as animation\n",
    "\n",
    "fig = plt.figure()\n",
    "\n",
    "\n",
    "def f(x, y):\n",
    "    return np.sin(x) + np.cos(y) # shape=(100, 120)的矩阵\n",
    "\n",
    "x = np.linspace(0, 2 * np.pi, 120)\n",
    "y = np.linspace(0, 2 * np.pi, 100).reshape(-1, 1)\n",
    "\n",
    "\n",
    "ims = [] # 要进行播放的图片组成的列表\n",
    "for i in range(60): # 总共60张图片\n",
    "    x += np.pi / 15.\n",
    "    y += np.pi / 20.\n",
    "    im = plt.imshow(f(x, y))\n",
    "    ims.append([im]) # ★★★★★必须是[im]\n",
    "'''\n",
    "artists : list\n",
    "    Each list entry a collection of artists that represent what needs to be enabled on each frame.\n",
    "    These will be disabled for other frames.\n",
    "'''\n",
    "# 不需要func,和frames参数,根据实际情况选择ArtistAnimation或FuncAnimation进行动态图绘制\n",
    "ani = animation.ArtistAnimation(fig, artists=ims, \n",
    "                                interval=50,\n",
    "                                blit=False, # 尝试将blit设置为True or False,选择较合适的效果\n",
    "                                repeat=True,\n",
    "                                repeat_delay=1000)\n",
    "print(len(ims))\n",
    "# To save the animation, use e.g.\n",
    "ani.save('movie.gif', fps=75, writer='imagemagick') # 计算上必须事先安装好imagemagick"
   ]
  },
  {
   "cell_type": "code",
   "execution_count": 1,
   "outputs": [],
   "source": [],
   "metadata": {
    "collapsed": false,
    "pycharm": {
     "name": "#%%\n",
     "is_executing": false
    }
   }
  }
 ],
 "metadata": {
  "kernelspec": {
   "display_name": "Python 3",
   "language": "python",
   "name": "python3"
  },
  "language_info": {
   "codemirror_mode": {
    "name": "ipython",
    "version": 3
   },
   "file_extension": ".py",
   "mimetype": "text/x-python",
   "name": "python",
   "nbconvert_exporter": "python",
   "pygments_lexer": "ipython3",
   "version": "3.7.4"
  },
  "pycharm": {
   "stem_cell": {
    "cell_type": "raw",
    "source": [],
    "metadata": {
     "collapsed": false
    }
   }
  }
 },
 "nbformat": 4,
 "nbformat_minor": 1
}