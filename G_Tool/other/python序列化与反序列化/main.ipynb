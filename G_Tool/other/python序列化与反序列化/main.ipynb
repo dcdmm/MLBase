{
 "cells": [
  {
   "cell_type": "code",
   "execution_count": 41,
   "metadata": {
    "ExecuteTime": {
     "end_time": "2024-06-07T06:45:34.534494Z",
     "start_time": "2024-06-07T06:45:34.530639Z"
    },
    "collapsed": false,
    "pycharm": {
     "name": "#%%\n"
    }
   },
   "outputs": [],
   "source": [
    "import json  # python内置模块"
   ]
  },
  {
   "cell_type": "markdown",
   "metadata": {},
   "source": [
    "### conversion table\n",
    "\n",
    "| JSON          | Python |\n",
    "| :------------ | :----- |\n",
    "| object        | dict   |\n",
    "| array         | list   |\n",
    "| string        | str    |\n",
    "| number (int)  | int    |\n",
    "| number (real) | float  |\n",
    "| true          | True   |\n",
    "| false         | False  |\n",
    "| null          | None   |"
   ]
  },
  {
   "cell_type": "code",
   "execution_count": 42,
   "metadata": {
    "ExecuteTime": {
     "end_time": "2024-06-07T06:45:34.552627Z",
     "start_time": "2024-06-07T06:45:34.536507Z"
    },
    "collapsed": true
   },
   "outputs": [
    {
     "name": "stdout",
     "output_type": "stream",
     "text": [
      "\n",
      "{\"name\": \"Wes\",\n",
      " \"places_lived\": [\"United States\", \"Spain\", \"Germany\"],\n",
      " \"pet\": null,\n",
      " \"siblings\": [{\"name\": \"小白\", \"age\": 30, \"pets\": [\"Zeus\", \"Zuko\"]},\n",
      "              {\"name\": \"Katie\", \"age\": 38,\n",
      "               \"pets\": [\"Sixes\", \"Stache\", \"Cisco\"]}]\n",
      "}\n",
      "\n"
     ]
    }
   ],
   "source": [
    "obj_list = \"\"\"\n",
    "[{\"name\": \"Wes\",\n",
    " \"places_lived\": [\"United States\", \"Spain\", \"Germany\"],\n",
    " \"pet\": null,\n",
    " \"siblings\": [{\"name\": \"Scott\", \"age\": 30, \"pets\": [\"Zeus\", \"Zuko\"]},\n",
    "              {\"name\": \"Katie\", \"age\": 38,\n",
    "               \"pets\": [\"Sixes\", \"Stache\", \"Cisco\"]}]\n",
    "}]\n",
    "\"\"\"\n",
    "\n",
    "obj = \"\"\"\n",
    "{\"name\": \"Wes\",\n",
    " \"places_lived\": [\"United States\", \"Spain\", \"Germany\"],\n",
    " \"pet\": null,\n",
    " \"siblings\": [{\"name\": \"小白\", \"age\": 30, \"pets\": [\"Zeus\", \"Zuko\"]},\n",
    "              {\"name\": \"Katie\", \"age\": 38,\n",
    "               \"pets\": [\"Sixes\", \"Stache\", \"Cisco\"]}]\n",
    "}\n",
    "\"\"\"\n",
    "print(obj)"
   ]
  },
  {
   "cell_type": "code",
   "execution_count": 43,
   "metadata": {
    "ExecuteTime": {
     "end_time": "2024-06-07T06:45:34.560526Z",
     "start_time": "2024-06-07T06:45:34.553843Z"
    },
    "collapsed": false,
    "pycharm": {
     "name": "#%%\n"
    }
   },
   "outputs": [
    {
     "name": "stdout",
     "output_type": "stream",
     "text": [
      "[{'name': 'Wes', 'places_lived': ['United States', 'Spain', 'Germany'], 'pet': None, 'siblings': [{'name': 'Scott', 'age': 30, 'pets': ['Zeus', 'Zuko']}, {'name': 'Katie', 'age': 38, 'pets': ['Sixes', 'Stache', 'Cisco']}]}]\n",
      "<class 'list'>\n",
      "{'name': 'Wes', 'places_lived': ['United States', 'Spain', 'Germany'], 'pet': None, 'siblings': [{'name': '小白', 'age': 30, 'pets': ['Zeus', 'Zuko']}, {'name': 'Katie', 'age': 38, 'pets': ['Sixes', 'Stache', 'Cisco']}]}\n",
      "<class 'dict'>\n"
     ]
    }
   ],
   "source": [
    "# Deserialize s (a str, bytes or bytearray instance containing a JSON document) to a Python object using this conversion table.\n",
    "result_list = json.loads(obj_list)  # 反序列化\n",
    "print(result_list)\n",
    "print(type(result_list))  # 列表类型\n",
    "\n",
    "result_dict = json.loads(obj)\n",
    "print(result_dict)  \n",
    "print(type(result_dict))  # 字典类型"
   ]
  },
  {
   "cell_type": "code",
   "execution_count": 44,
   "metadata": {
    "ExecuteTime": {
     "end_time": "2024-06-07T06:45:34.577004Z",
     "start_time": "2024-06-07T06:45:34.571265Z"
    },
    "collapsed": false,
    "pycharm": {
     "name": "#%%\n"
    }
   },
   "outputs": [],
   "source": [
    "with open('result_sava_list.json', 'w') as fp:\n",
    "    # Serialize obj as a JSON formatted stream to fp (a .write()-supporting file-like object) using this conversion table.\n",
    "    json.dump(result_list, fp)\n",
    "\n",
    "with open('result_sava_dict.json', 'w') as fp:\n",
    "    json.dump(result_list, fp,\n",
    "              # 通过设置ensure_ascii=False,使其正常显示中文\n",
    "              ensure_ascii=False)  # 默认ensure_ascii=True"
   ]
  },
  {
   "cell_type": "code",
   "execution_count": 45,
   "metadata": {
    "ExecuteTime": {
     "end_time": "2024-06-07T06:45:34.593925Z",
     "start_time": "2024-06-07T06:45:34.586417Z"
    },
    "collapsed": false,
    "pycharm": {
     "name": "#%%\n"
    }
   },
   "outputs": [
    {
     "data": {
      "text/plain": [
       "'{\"name\": \"Wes\", \"places_lived\": [\"United States\", \"Spain\", \"Germany\"], \"pet\": null, \"siblings\": [{\"name\": \"\\\\u5c0f\\\\u767d\", \"age\": 30, \"pets\": [\"Zeus\", \"Zuko\"]}, {\"name\": \"Katie\", \"age\": 38, \"pets\": [\"Sixes\", \"Stache\", \"Cisco\"]}]}'"
      ]
     },
     "execution_count": 45,
     "metadata": {},
     "output_type": "execute_result"
    }
   ],
   "source": [
    "# Serialize obj to a JSON formatted str using this conversion table. The arguments have the same meaning as in dump()..\n",
    "asjson = json.dumps(result_dict) \n",
    "asjson  # 字符串类型"
   ]
  },
  {
   "cell_type": "code",
   "execution_count": 46,
   "metadata": {
    "ExecuteTime": {
     "end_time": "2024-06-07T06:45:34.600659Z",
     "start_time": "2024-06-07T06:45:34.594929Z"
    },
    "collapsed": false,
    "pycharm": {
     "name": "#%%\n"
    }
   },
   "outputs": [
    {
     "name": "stdout",
     "output_type": "stream",
     "text": [
      "{\"name\": \"\\u6bb5\\u8d85\", \"age\": \"24\", \"sex\": \"\\u7537\", \"like\": \"DNF\"}\n",
      "{\"name\": \"段超\", \"age\": \"24\", \"sex\": \"男\", \"like\": \"DNF\"}\n"
     ]
    }
   ],
   "source": [
    "information = {'name': '段超',\n",
    "               'age': '24',\n",
    "               'sex': '男',\n",
    "               'like': 'DNF'}\n",
    "\n",
    "information_json0 = json.dumps(information, ensure_ascii=True)\n",
    "information_json1 = json.dumps(information, ensure_ascii=False)\n",
    "\n",
    "print(information_json0)\n",
    "print(information_json1)"
   ]
  },
  {
   "cell_type": "code",
   "execution_count": 47,
   "metadata": {
    "ExecuteTime": {
     "end_time": "2024-06-07T06:45:34.609011Z",
     "start_time": "2024-06-07T06:45:34.601662Z"
    },
    "collapsed": false,
    "pycharm": {
     "name": "#%%\n"
    }
   },
   "outputs": [
    {
     "name": "stdout",
     "output_type": "stream",
     "text": [
      "{'name': 'Wes', 'places_lived': ['United States', 'Spain', 'Germany'], 'pet': None, 'siblings': [{'name': 'Scott', 'age': 30, 'pets': ['Zeus', 'Zuko']}, {'name': 'Katie', 'age': 38, 'pets': ['Sixes', 'Stache', 'Cisco']}]}\n",
      "<class 'dict'>\n"
     ]
    }
   ],
   "source": [
    "with open('result_sava.json') as f:\n",
    "    read_json = f.read()\n",
    "    read_json_loads = json.loads(read_json)\n",
    "\n",
    "print(read_json_loads)\n",
    "print(type(read_json_loads))"
   ]
  }
 ],
 "metadata": {
  "kernelspec": {
   "display_name": "Python 3",
   "language": "python",
   "name": "python3"
  },
  "language_info": {
   "codemirror_mode": {
    "name": "ipython",
    "version": 3
   },
   "file_extension": ".py",
   "mimetype": "text/x-python",
   "name": "python",
   "nbconvert_exporter": "python",
   "pygments_lexer": "ipython3",
   "version": "3.11.7"
  }
 },
 "nbformat": 4,
 "nbformat_minor": 0
}
