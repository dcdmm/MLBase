{
 "cells": [
  {
   "cell_type": "markdown",
   "metadata": {
    "collapsed": true,
    "pycharm": {
     "name": "#%% md\n"
    }
   },
   "source": [
    "* enter:$(N, C, L_{in})$\n",
    "* output:$(N, C, L_{out})$\n",
    "\n",
    "$$ H_{out} = \\Big\\lfloor \\frac{L_{in} + 2\\times padding[0] - kernel\\_size[0] }{stride[0]} +1  \\Big\\rfloor$$"
   ]
  },
  {
   "cell_type": "code",
   "execution_count": 10,
   "outputs": [],
   "source": [
    "import torch.nn as nn\n",
    "import torch"
   ],
   "metadata": {
    "collapsed": false,
    "pycharm": {
     "name": "#%%\n"
    }
   }
  },
  {
   "cell_type": "code",
   "execution_count": 11,
   "outputs": [
    {
     "data": {
      "text/plain": "torch.Size([20, 16, 48])"
     },
     "execution_count": 11,
     "metadata": {},
     "output_type": "execute_result"
    }
   ],
   "source": [
    "enter = torch.randn(20, 16, 50)\n",
    "\n",
    "# torch.nn.functional.max_pool1d同理\n",
    "m = nn.MaxPool1d(kernel_size=(3,),  # ★★★★★1D池化中,kernel_size只能是单个整数(或整数元组)\n",
    "                 stride=1,  # ★★★★★1D池化中,kernel_size只能是单个整数(或整数元组)\n",
    "                 # padding – Implicit negative infinity padding to be added on both sides, must be >= 0 and <= kernel_size / 2.\n",
    "                 padding=0,  # ★★★★★1D池化中,padding只能为整数;默认padding=0\n",
    "                 )  # 默认dilation=1\n",
    "output = m(enter)\n",
    "output.shape\n",
    "\n"
   ],
   "metadata": {
    "collapsed": false,
    "pycharm": {
     "name": "#%%\n"
    }
   }
  }
 ],
 "metadata": {
  "kernelspec": {
   "display_name": "Python 3",
   "language": "python",
   "name": "python3"
  },
  "language_info": {
   "codemirror_mode": {
    "name": "ipython",
    "version": 2
   },
   "file_extension": ".py",
   "mimetype": "text/x-python",
   "name": "python",
   "nbconvert_exporter": "python",
   "pygments_lexer": "ipython2",
   "version": "2.7.6"
  }
 },
 "nbformat": 4,
 "nbformat_minor": 0
}