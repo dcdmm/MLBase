{
 "cells": [
  {
   "cell_type": "markdown",
   "metadata": {
    "collapsed": true
   },
   "source": [
    "<img src=\"../../Other/img/伪标签0.jpg\">\n",
    "\n",
    "### 常见方式一\n",
    "\n",
    "<img src=\"../../Other/img/伪标签1.jpg\">\n",
    "\n",
    "#### 方式1.1\n",
    "\n",
    "1. 使用标记数据训练有监督模型$ M $\n",
    "\n",
    "2. 使用有监督模型$M$对无标签数据进行预测,得出预测概率$ P $\n",
    "\n",
    "3. 通过预测概率$P$筛选高置信度样本\n",
    "\n",
    "4. 使用有标记数据以及伪标签数据训练新模型 $ M^{’} $\n",
    "\n",
    "#### 方式1.2\n",
    "\n",
    "1. 使用标记数据训练有监督模型$M$\n",
    "\n",
    "2. 使用有监督模型$M$对无标签数据进行预测,得出预测概率$P$\n",
    "\n",
    "3. 将模型损失函数改为Loss = loss(labeled_data) + alpha*loss(unlabeled_data)\n",
    "\n",
    "4. 使用有标记数据以及伪标签数据训练新模型$M^{’}$\n",
    "\n",
    "### 常见方式二\n",
    "\n",
    "<img src=\"../../Other/img/伪标签2.jpg\">\n",
    "\n",
    "1. 使用标记数据训练有监督模型$M$\n",
    "\n",
    "2. 使用有监督模型$M$对无标签数据进行预测,得出预测概率$P$\n",
    "\n",
    "3. 通过预测概率$P$筛选高置信度样本\n",
    "\n",
    "4. 使用有标记数据以及伪标签数据训练新模型$M^{’}$\n",
    "\n",
    "5. 将$M$替换为$M^{’}$,重复以上步骤直至模型效果不出现提升"
   ]
  },
  {
   "cell_type": "code",
   "execution_count": 1,
   "metadata": {},
   "outputs": [],
   "source": [
    "import numpy as np\n",
    "from sklearn.model_selection import train_test_split\n",
    "from sklearn.datasets import load_breast_cancer\n",
    "from sklearn.ensemble import RandomForestClassifier"
   ]
  },
  {
   "cell_type": "code",
   "execution_count": 2,
   "metadata": {},
   "outputs": [
    {
     "data": {
      "text/plain": "(569, 30)"
     },
     "execution_count": 2,
     "metadata": {},
     "output_type": "execute_result"
    }
   ],
   "source": [
    "X, y = load_breast_cancer(return_X_y=True)\n",
    "X.shape"
   ]
  },
  {
   "cell_type": "code",
   "execution_count": 3,
   "metadata": {},
   "outputs": [
    {
     "data": {
      "text/plain": "((284, 30), (284,), (285, 30), (285,))"
     },
     "execution_count": 3,
     "metadata": {},
     "output_type": "execute_result"
    }
   ],
   "source": [
    "x_train, x_test, y_train, y_test = train_test_split(X, y, test_size=0.5)  # 分割数据集\n",
    "x_train.shape, y_train.shape, x_test.shape, y_test.shape"
   ]
  },
  {
   "cell_type": "code",
   "execution_count": 4,
   "metadata": {},
   "outputs": [
    {
     "data": {
      "text/plain": "RandomForestClassifier()"
     },
     "execution_count": 4,
     "metadata": {},
     "output_type": "execute_result"
    }
   ],
   "source": [
    "model1 = RandomForestClassifier()\n",
    "history = model1.fit(x_train,y_train)\n",
    "history"
   ]
  },
  {
   "cell_type": "code",
   "execution_count": 5,
   "metadata": {},
   "outputs": [
    {
     "name": "stdout",
     "output_type": "stream",
     "text": [
      "1.0\n",
      "0.9368421052631579\n"
     ]
    }
   ],
   "source": [
    "print(model1.score(x_train, y_train))  # 训练数据集准确率\n",
    "\n",
    "print(model1.score(x_test, y_test))  # 测试数据集准确率"
   ]
  },
  {
   "cell_type": "code",
   "execution_count": 6,
   "metadata": {},
   "outputs": [],
   "source": [
    "y_new = model1.predict(x_test)  # 有监督模型对无标签数据进行预测\n",
    "\n",
    "final_X = np.concatenate((x_train, x_test))\n",
    "final_Y = np.concatenate((y_train, y_test))  # 合并原始标签与伪标签"
   ]
  },
  {
   "cell_type": "code",
   "execution_count": 7,
   "metadata": {},
   "outputs": [
    {
     "data": {
      "text/plain": "RandomForestClassifier()"
     },
     "execution_count": 7,
     "metadata": {},
     "output_type": "execute_result"
    }
   ],
   "source": [
    "model2 = RandomForestClassifier()  # 方式1.1\n",
    "model2.fit(final_X, final_Y)"
   ]
  },
  {
   "cell_type": "code",
   "execution_count": 8,
   "metadata": {},
   "outputs": [
    {
     "name": "stdout",
     "output_type": "stream",
     "text": [
      "1.0\n",
      "1.0\n",
      "1.0\n"
     ]
    }
   ],
   "source": [
    "print(model2.score(final_X, final_Y))  # 新模型原始标签与伪标签数据集准确率\n",
    "\n",
    "print(model2.score(x_train, y_train))  # 新模型训练数据集准确率\n",
    "\n",
    "print(model2.score(x_test, y_test))  # 新模型测试数据集准确率(准确率得到提升)"
   ]
  }
 ],
 "metadata": {
  "interpreter": {
   "hash": "0886a02735466d80c36da7d0d184a8055779d3e497a063b4720b0317b8699033"
  },
  "kernelspec": {
   "display_name": "Python 3.8.12 ('pytorch_env')",
   "language": "python",
   "name": "python3"
  },
  "language_info": {
   "codemirror_mode": {
    "name": "ipython",
    "version": 3
   },
   "file_extension": ".py",
   "mimetype": "text/x-python",
   "name": "python",
   "nbconvert_exporter": "python",
   "pygments_lexer": "ipython3",
   "version": "3.8.12"
  }
 },
 "nbformat": 4,
 "nbformat_minor": 0
}