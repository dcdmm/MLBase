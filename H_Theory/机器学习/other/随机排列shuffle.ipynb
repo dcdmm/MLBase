{
 "cells": [
  {
   "cell_type": "code",
   "execution_count": 13,
   "metadata": {
    "collapsed": true,
    "pycharm": {
     "is_executing": false
    }
   },
   "outputs": [],
   "source": [
    "import numpy as np\n",
    "from  sklearn.utils import shuffle"
   ]
  },
  {
   "cell_type": "code",
   "execution_count": 14,
   "outputs": [
    {
     "data": {
      "text/plain": "array([5, 1, 3, 2, 4])"
     },
     "metadata": {},
     "output_type": "execute_result",
     "execution_count": 14
    }
   ],
   "source": [
    "x1 = np.array([1, 2, 3, 4, 5])\n",
    "shuffle(x1) # 注意和np.random.shuffle的区别"
   ],
   "metadata": {
    "collapsed": false,
    "pycharm": {
     "name": "#%%\n",
     "is_executing": false
    }
   }
  },
  {
   "cell_type": "code",
   "execution_count": 15,
   "outputs": [
    {
     "data": {
      "text/plain": "array([1, 2, 3, 4, 5])"
     },
     "metadata": {},
     "output_type": "execute_result",
     "execution_count": 15
    }
   ],
   "source": [
    "x1 # x1不变"
   ],
   "metadata": {
    "collapsed": false,
    "pycharm": {
     "name": "#%%\n",
     "is_executing": false
    }
   }
  },
  {
   "cell_type": "code",
   "execution_count": 18,
   "outputs": [
    {
     "data": {
      "text/plain": "[array([[ 3,  4,  5,  6,  7],\n        [ 2,  3,  4,  5,  6],\n        [ 1,  2,  3,  4,  5],\n        [ 8,  9, 10, 11, 12]]),\n array([3, 2, 1, 4]),\n array([['five', 'six'],\n        ['three', 'four'],\n        ['one', 'two'],\n        ['seven', 'eight']], dtype='<U5')]"
     },
     "metadata": {},
     "output_type": "execute_result",
     "execution_count": 18
    }
   ],
   "source": [
    "x2 = np.array([[1, 2, 3, 4, 5],\n",
    "               [2, 3, 4, 5, 6],\n",
    "               [3, 4, 5, 6, 7],\n",
    "               [8, 9, 10, 11, 12]])\n",
    "\n",
    "y = np.array([1, 2, 3, 4])\n",
    "z = np.array([['one', 'two'],\n",
    "              ['three', 'four'],\n",
    "              ['five', 'six'],\n",
    "              ['seven', 'eight']])\n",
    "\n",
    "\n",
    "shuffle(x2, y, z, random_state=8) # 以一致的方式随机排列x2, y, z(按列,即特征) "
   ],
   "metadata": {
    "collapsed": false,
    "pycharm": {
     "name": "#%%\n",
     "is_executing": false
    }
   }
  }
 ],
 "metadata": {
  "kernelspec": {
   "display_name": "Python 3",
   "language": "python",
   "name": "python3"
  },
  "language_info": {
   "codemirror_mode": {
    "name": "ipython",
    "version": 2
   },
   "file_extension": ".py",
   "mimetype": "text/x-python",
   "name": "python",
   "nbconvert_exporter": "python",
   "pygments_lexer": "ipython2",
   "version": "2.7.6"
  },
  "pycharm": {
   "stem_cell": {
    "cell_type": "raw",
    "source": [],
    "metadata": {
     "collapsed": false
    }
   }
  }
 },
 "nbformat": 4,
 "nbformat_minor": 0
}