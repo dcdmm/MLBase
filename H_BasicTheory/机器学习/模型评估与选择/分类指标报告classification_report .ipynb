{
 "cells": [
  {
   "cell_type": "code",
   "execution_count": 16,
   "metadata": {
    "collapsed": true
   },
   "outputs": [],
   "source": [
    "from sklearn.metrics import classification_report"
   ]
  },
  {
   "cell_type": "code",
   "execution_count": 17,
   "outputs": [
    {
     "name": "stdout",
     "output_type": "stream",
     "text": [
      "              precision    recall  f1-score   support\n",
      "\n",
      "     class 0       0.50      1.00      0.67         1\n",
      "     class 1       0.00      0.00      0.00         1\n",
      "     class 2       1.00      0.67      0.80         3\n",
      "\n",
      "    accuracy                           0.60         5\n",
      "   macro avg       0.50      0.56      0.49         5\n",
      "weighted avg       0.70      0.60      0.61         5\n",
      "\n"
     ]
    }
   ],
   "source": [
    "y_true = [0, 1, 2, 2, 2]\n",
    "y_pred = [0, 0, 2, 2, 1]\n",
    "\n",
    "target_names = ['class 0', 'class 1', 'class 2']\n",
    "\n",
    "# The support is the number of occurrences of each class in y_true\n",
    "# macro average (averaging the unweighted mean per label)\n",
    "# weighted average (averaging the support-weighted mean per label)\n",
    "print(classification_report(y_true, y_pred,\n",
    "                            target_names=target_names))"
   ],
   "metadata": {
    "collapsed": false,
    "pycharm": {
     "name": "#%%\n"
    }
   }
  },
  {
   "cell_type": "code",
   "execution_count": 18,
   "outputs": [
    {
     "data": {
      "text/plain": "{'class 0': {'precision': 0.5,\n  'recall': 1.0,\n  'f1-score': 0.6666666666666666,\n  'support': 1},\n 'class 1': {'precision': 0.0, 'recall': 0.0, 'f1-score': 0.0, 'support': 1},\n 'class 2': {'precision': 1.0,\n  'recall': 0.6666666666666666,\n  'f1-score': 0.8,\n  'support': 3},\n 'accuracy': 0.6,\n 'macro avg': {'precision': 0.5,\n  'recall': 0.5555555555555555,\n  'f1-score': 0.48888888888888893,\n  'support': 5},\n 'weighted avg': {'precision': 0.7,\n  'recall': 0.6,\n  'f1-score': 0.6133333333333334,\n  'support': 5}}"
     },
     "execution_count": 18,
     "metadata": {},
     "output_type": "execute_result"
    }
   ],
   "source": [
    "# 字典形式返回\n",
    "classification_report(y_true, y_pred,\n",
    "                      target_names=target_names,\n",
    "                      output_dict=True)"
   ],
   "metadata": {
    "collapsed": false,
    "pycharm": {
     "name": "#%%\n"
    }
   }
  },
  {
   "cell_type": "code",
   "execution_count": 18,
   "outputs": [],
   "source": [],
   "metadata": {
    "collapsed": false,
    "pycharm": {
     "name": "#%%\n"
    }
   }
  }
 ],
 "metadata": {
  "kernelspec": {
   "display_name": "Python 3",
   "language": "python",
   "name": "python3"
  },
  "language_info": {
   "codemirror_mode": {
    "name": "ipython",
    "version": 2
   },
   "file_extension": ".py",
   "mimetype": "text/x-python",
   "name": "python",
   "nbconvert_exporter": "python",
   "pygments_lexer": "ipython2",
   "version": "2.7.6"
  }
 },
 "nbformat": 4,
 "nbformat_minor": 0
}