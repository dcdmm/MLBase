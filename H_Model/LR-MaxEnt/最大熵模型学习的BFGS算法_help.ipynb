{
 "cells": [
  {
   "cell_type": "markdown",
   "source": [
    "对于最大熵模型而言,    \n",
    "$$ P_\\mathbf{w}(y|\\mathbf{x}) = \\frac{ \\exp \\left( \\sum_{i=1}^{n} w_i f_i(\\mathbf{x},y) \\right)}{ \\sum_{y} \\exp \\left( \\sum_{i=1}^{n} w_i f_i(\\mathbf{x}, y) \\right) }  \\qquad 注意:P_\\mathbf{w}(y|\\mathbf{x}) 是关于y的概率分布$$      \n",
    "目标函数(由最大熵模型得对数似然函数$ L_{\\hat{P}} (P_\\mathbf{w})$得):    \n",
    "$$ \\min_{\\mathbf{w} \\in \\mathbf{R}^n} f(\\mathbf{w}) = \\sum_{\\mathbf{x}} \\hat{P}(\\mathbf{x}) \\log \\sum_{y} \\exp \\left( \\sum_{i=1}^{n} w_i f_i(\\mathbf{x}, y) \\right) - \\sum_{\\mathbf{x}, y} \\hat{P}(\\mathbf{x}, y)\\sum_{i=1}^{n} w_i f_i(\\mathbf{x}, y) $$\n",
    "&emsp;&emsp;梯度:     \n",
    "$$ g(\\mathbf{w}) = \\left( \\frac{\\partial f(\\mathbf{w})}{\\partial w_1},\\frac{\\partial f(\\mathbf{w})}{\\partial w_2},\\dots, \\frac{\\partial f(\\mathbf{w})}{\\partial w_n}  \\right)^T $$     \n",
    "其中,     \n",
    "$$ \\frac{\\partial f(\\mathbf{w})}{\\partial w_i} = \\sum_{\\mathbf{x}, y} \\hat{P}(\\mathbf{x}) P_\\mathbf{w}(y|\\mathbf{x}) f_i(\\mathbf{x}, y) - E_{\\hat{P}}(f_i), \\qquad i=1,2,\\dots, n $$\n",
    "\n",
    "\n",
    "\n",
    "<font size=4 color='red'>算法:</font>     \n",
    "输入: 特征函数$ f_1, f_2, \\dots, f_n $;经验分布$ \\hat{P}(\\mathbf{x}, y) $, 目标函数$ f(\\mathbf{w})$,梯度$ g(\\mathbf{w}) = \\nabla f(\\mathbf{w}) $,精度要求$ \\epsilon $;      \n",
    "输出:最优参数值$\\mathbf{w}^*$,最优模型$ P_{\\mathbf{w}^*} (y|\\mathbf{x}) $.    \n",
    "1. 选定初始点$\\mathbf{w}^{0}$,取$B_0$为正定对称矩阵,置$k=0$\n",
    "2. 计算$g_k = g(\\mathbf{w}^{(k)})$,若$ ||g_k|| < \\epsilon $,则停止计算,得$ \\mathbf{w}^* = \\mathbf{w}^{(k)} $;否则转3  \n",
    "3. 由$B_k p_k = - g_k$求出$p_k$\n",
    "4. 一维搜索:求$\\lambda_k$使得   \n",
    "$$ f(\\mathbf{w}^{(k)} + \\lambda_k p_k) = \\min_{\\lambda \\leq 0}  f(\\mathbf{w}^{(k)} + \\lambda p_k)$$    \n",
    "5. 置$ \\mathbf{w}^{(k+1)} = \\mathbf{w}^{(k)} + \\lambda_k p_k $  \n",
    "6. 计算$ g_{k+1} = g(\\mathbf{w}^{(k+1)}) $,若$  || g_{k+1} < \\epsilon||$,则停止计算,得近似解$\\mathbf{w}^* = \\mathbf{w}^{(k+1)}$;否则,计算$B_{k+1}$,按下式求出$ B_{k+1} $:    \n",
    "$$ B_{k+1} = B_k + \\frac{y_k y_k^T}{y_k^T \\delta_k} -\\frac{B_k \\delta_k \\delta_k^T B_k}{\\delta_k^T B_k \\delta_k} $$   \n",
    "其中,   \n",
    "$$ y_k = g_{k+1} -g_k, \\delta_k = \\mathbf{w}^{(k+1)} - \\mathbf{w}^{(k)} $$      \n",
    "7. 置$ k=k+1$,转3  \n",
    "\n"
   ],
   "metadata": {
    "collapsed": false,
    "pycharm": {
     "name": "#%% md\n"
    }
   }
  }
 ],
 "metadata": {
  "kernelspec": {
   "display_name": "Python 3",
   "language": "python",
   "name": "python3"
  },
  "language_info": {
   "codemirror_mode": {
    "name": "ipython",
    "version": 2
   },
   "file_extension": ".py",
   "mimetype": "text/x-python",
   "name": "python",
   "nbconvert_exporter": "python",
   "pygments_lexer": "ipython2",
   "version": "2.7.6"
  }
 },
 "nbformat": 4,
 "nbformat_minor": 0
}