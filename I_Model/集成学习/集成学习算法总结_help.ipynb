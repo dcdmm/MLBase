{
 "cells": [
  {
   "cell_type": "markdown",
   "metadata": {
    "collapsed": true,
    "pycharm": {
     "name": "#%% md\n"
    }
   },
   "source": [
    "## boosting,bagging算法流程\n",
    "\n",
    "<img src='../../Other/img/boosting.png' style=\"width:650px;height:400px\">\n",
    "\n",
    "\n",
    "<img src='../../Other/img/boosting1.png' style=\"width:550px;height:300px\">\n",
    "\n",
    "\n",
    "<img src='../../Other/img/bagging.jpg' style=\"width:850px;height:400px\">"
   ]
  }
 ],
 "metadata": {
  "kernelspec": {
   "display_name": "Python 3",
   "language": "python",
   "name": "python3"
  },
  "language_info": {
   "codemirror_mode": {
    "name": "ipython",
    "version": 2
   },
   "file_extension": ".py",
   "mimetype": "text/x-python",
   "name": "python",
   "nbconvert_exporter": "python",
   "pygments_lexer": "ipython2",
   "version": "2.7.6"
  }
 },
 "nbformat": 4,
 "nbformat_minor": 0
}