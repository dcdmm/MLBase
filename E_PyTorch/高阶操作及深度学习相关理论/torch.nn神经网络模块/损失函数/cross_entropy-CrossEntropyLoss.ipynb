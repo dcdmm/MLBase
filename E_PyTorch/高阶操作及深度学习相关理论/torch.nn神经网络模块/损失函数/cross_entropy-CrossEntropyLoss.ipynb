{
 "cells": [
  {
   "cell_type": "markdown",
   "metadata": {
    "collapsed": true,
    "pycharm": {
     "name": "#%% md\n"
    }
   },
   "source": [
    "Class indices in the range [0, C) where CC is the number of classes;\n",
    "if ignore_index is specified, this loss also accepts this class index (this index may not necessarily be in the class range).\n",
    "The unreduced (i.e. with reduction set to 'none') loss for this case can be described as:\n",
    "\n",
    "$$ l(X, \\mathbf{y})=L=\\left\\{l_{1}, \\ldots, l_{N}\\right\\}^{\\top}, \\quad l_{n}=-\\mathbf{w}_{\\mathbf{y}_{n}} \\log \\frac{\\exp \\left(X_{n, \\mathbf{y}_{n}}\\right)}{\\sum_{c=1}^{C} \\exp \\left(X_{n, c}\\right)} $$\n",
    "\n",
    "where $X$ is the input, $\\mathbf{y}$ is the target, $\\mathbf{w}$ is the weight, $C$ is the number of classes,\n",
    "and $N$ spans the minibatch dimension as well as $ d_{1}, \\ldots, d_{k}$ for the K-dimensional case."
   ]
  },
  {
   "cell_type": "markdown",
   "source": [
    "* Input: $(N, C)$(where $C$ = number of classes\n",
    "\n",
    "* Target: $(N) $ where each value is $ 0 \\leq \\text{targets}[i] \\leq C $\n",
    "\n",
    "* Output: If reduction is ‘none’, same shape as the target. Otherwise, scalar."
   ],
   "metadata": {
    "collapsed": false,
    "pycharm": {
     "name": "#%% md\n"
    }
   }
  },
  {
   "cell_type": "code",
   "execution_count": 33,
   "outputs": [],
   "source": [
    "import torch\n",
    "import torch.nn.functional as F\n",
    "import torch.nn as nn"
   ],
   "metadata": {
    "collapsed": false,
    "pycharm": {
     "name": "#%%\n"
    }
   }
  },
  {
   "cell_type": "code",
   "execution_count": 34,
   "outputs": [
    {
     "data": {
      "text/plain": "tensor([[ 0.,  1.,  2.],\n        [ 3.,  4.,  5.],\n        [ 6.,  7.,  8.],\n        [ 9., 10., 11.]])"
     },
     "execution_count": 34,
     "metadata": {},
     "output_type": "execute_result"
    }
   ],
   "source": [
    "x_input = torch.arange(12, dtype=torch.float32).reshape(4, 3)\n",
    "y_target = torch.tensor([0, 2, 1, 2])\n",
    "x_input"
   ],
   "metadata": {
    "collapsed": false,
    "pycharm": {
     "name": "#%%\n"
    }
   }
  },
  {
   "cell_type": "code",
   "execution_count": 35,
   "outputs": [
    {
     "data": {
      "text/plain": "tensor(1.1576)"
     },
     "execution_count": 35,
     "metadata": {},
     "output_type": "execute_result"
    }
   ],
   "source": [
    "F.cross_entropy(x_input, y_target,\n",
    "                # 类别权重参考NLLLoss\n",
    "                weight=None)"
   ],
   "metadata": {
    "collapsed": false,
    "pycharm": {
     "name": "#%%\n"
    }
   }
  },
  {
   "cell_type": "code",
   "execution_count": 36,
   "outputs": [
    {
     "data": {
      "text/plain": "tensor(1.1576)"
     },
     "execution_count": 36,
     "metadata": {},
     "output_type": "execute_result"
    }
   ],
   "source": [
    "nn.CrossEntropyLoss()(input=x_input,\n",
    "                      target=y_target)  # ★★★★★要求:整数向量(最小值为0,最大值为input.shape[1]-1)"
   ],
   "metadata": {
    "collapsed": false,
    "pycharm": {
     "name": "#%%\n"
    }
   }
  },
  {
   "cell_type": "code",
   "execution_count": 37,
   "outputs": [
    {
     "name": "stdout",
     "output_type": "stream",
     "text": [
      "tensor([2.4076, 0.4076, 1.4076, 0.4076])\n",
      "tensor(1.1576)\n",
      "tensor(4.6304)\n"
     ]
    }
   ],
   "source": [
    "print(nn.CrossEntropyLoss(reduction='none')(x_input, y_target))\n",
    "print(nn.CrossEntropyLoss(reduction='mean')(x_input, y_target))  # 默认reduction='mean',参考BCELos\n",
    "print(nn.CrossEntropyLoss(reduction='sum')(x_input, y_target))"
   ],
   "metadata": {
    "collapsed": false,
    "pycharm": {
     "name": "#%%\n"
    }
   }
  },
  {
   "cell_type": "code",
   "execution_count": 38,
   "outputs": [
    {
     "data": {
      "text/plain": "tensor([0.0000, 0.4076, 1.4076, 0.4076])"
     },
     "execution_count": 38,
     "metadata": {},
     "output_type": "execute_result"
    }
   ],
   "source": [
    "# target为0的损失直接为0(NLP任务中可指定ignore_index填充项)\n",
    "'''\n",
    "ignore_index (int, optional) –\n",
    "    Specifies a target value that is ignored and does not contribute to the input gradient.\n",
    "    When size_average is True, the loss is averaged over non-ignored targets.\n",
    "    Note that ignore_index is only applicable when the target contains class indices.\n",
    "'''\n",
    "nn.CrossEntropyLoss(reduction='none', ignore_index=0)(x_input,\n",
    "                                                      y_target)"
   ],
   "metadata": {
    "collapsed": false,
    "pycharm": {
     "name": "#%%\n"
    }
   }
  },
  {
   "cell_type": "markdown",
   "source": [
    "上式计算步骤如下"
   ],
   "metadata": {
    "collapsed": false,
    "pycharm": {
     "name": "#%% md\n"
    }
   }
  },
  {
   "cell_type": "code",
   "execution_count": 39,
   "outputs": [
    {
     "data": {
      "text/plain": "tensor([[-2.4076, -1.4076, -0.4076],\n        [-2.4076, -1.4076, -0.4076],\n        [-2.4076, -1.4076, -0.4076],\n        [-2.4076, -1.4076, -0.4076]])"
     },
     "execution_count": 39,
     "metadata": {},
     "output_type": "execute_result"
    }
   ],
   "source": [
    "logsoftmax_output = F.log_softmax(x_input, dim=1)  # 注意:dim=1\n",
    "logsoftmax_output"
   ],
   "metadata": {
    "collapsed": false,
    "pycharm": {
     "name": "#%%\n"
    }
   }
  },
  {
   "cell_type": "code",
   "execution_count": 40,
   "outputs": [
    {
     "name": "stdout",
     "output_type": "stream",
     "text": [
      "tensor(1.1576)\n"
     ]
    }
   ],
   "source": [
    "nlloss_output = F.nll_loss(logsoftmax_output, y_target)\n",
    "print(nlloss_output)"
   ],
   "metadata": {
    "collapsed": false,
    "pycharm": {
     "name": "#%%\n"
    }
   }
  },
  {
   "cell_type": "code",
   "execution_count": 40,
   "outputs": [],
   "source": [],
   "metadata": {
    "collapsed": false,
    "pycharm": {
     "name": "#%%\n"
    }
   }
  }
 ],
 "metadata": {
  "kernelspec": {
   "display_name": "Python 3",
   "language": "python",
   "name": "python3"
  },
  "language_info": {
   "codemirror_mode": {
    "name": "ipython",
    "version": 2
   },
   "file_extension": ".py",
   "mimetype": "text/x-python",
   "name": "python",
   "nbconvert_exporter": "python",
   "pygments_lexer": "ipython2",
   "version": "2.7.6"
  }
 },
 "nbformat": 4,
 "nbformat_minor": 0
}