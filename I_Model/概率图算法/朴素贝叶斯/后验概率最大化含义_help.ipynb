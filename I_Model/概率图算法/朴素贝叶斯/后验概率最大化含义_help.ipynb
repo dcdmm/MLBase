{
 "cells": [
  {
   "cell_type": "markdown",
   "metadata": {
    "collapsed": true,
    "pycharm": {
     "name": "#%% md\n"
    }
   },
   "source": [
    "&emsp;&emsp;朴素贝叶斯法将实例分到后验概率最大的类中.这等价于期望风险最小化.假设选择0-1损失函数:                  \n",
    "\n",
    "\\begin{equation}\n",
    "L(Y, f(X))=\\begin{cases}\n",
    "\t\t   1, & \\text{if} \\quad  Y \\neq f(X)\\\\\n",
    "           0, & \\text{if} \\quad  Y = f(X)\n",
    "           \\end{cases}\n",
    "\\end{equation}          \n",
    "\n",
    "式中$f(X)$是分类决策函数.这时,期望风险函数为             \n",
    "$$ R_{exp}(f) = E[L(Y, f(X))] $$        \n",
    "期望是对联合分布$P(X, Y)$.由此取条件期望            \n",
    "\n",
    "\\begin{align}\n",
    "R_{exp}(f) &= E[L(Y, f(X))] \\\\ \n",
    "\t\t   &= \\sum_{Y} \\sum_{X} L(c_k, f(\\mathbf{x})) P(\\mathbf{x}, y)  \\\\\n",
    "           &= \\sum_{X} \\sum_{Y} L(c_k, f(\\mathbf{x})) P(c_k | \\mathbf{x}) p(\\mathbf{x}) \\\\\n",
    "           &= E_X \\left[ \\sum_{Y} [L(c_k, f(X))] P(c_k |X) \\right] \\\\\n",
    "           &= E_X \\left[ \\sum_{k=1}^K [L(c_k, f(X))] P(c_k |X) \\right]\n",
    "\\end{align}         \n",
    "\n",
    "为了使期望风险最小化,只需对$X =\\mathbf{x}$逐个极小化,由此得到:          \n",
    "\n",
    "\\begin{align}\n",
    "f(\\mathbf{x}) &= \\mathrm{arg} \\min_{y \\in \\mathcal{Y}} \\sum_{k=1}^K [L(c_k, f(\\mathbf{x})] P(c_k |X=\\mathbf{x}) \\\\\n",
    "\t &= \\mathrm{arg} \\min_{y \\in \\mathcal{Y}} \\sum_{k=1}^K P(f(\\mathbf{x}) \\neq c_k |X=\\mathbf{x}) \\\\\n",
    "\t &= \\mathrm{arg} \\min_{y \\in \\mathcal{Y}} (1 - P(f(\\mathbf{x})= c_k |X=\\mathbf{x}) ) \\\\\n",
    "\t &= \\mathrm{arg} \\max_{y \\in \\mathcal{Y}} P(f(\\mathbf{x})= c_k |X=\\mathbf{x}) \\\\\n",
    "\\end{align}       \n",
    "\n",
    "这样一来,根据期望风险最小化准则就得到了后验概率最大化原则:     \n",
    "$$ f(\\mathbf{x}) = \\mathrm{arg} \\max_{c_k} P(c_k|X=\\mathbf{x}) $$       \n",
    "即朴素贝叶斯法采用的原理.\n",
    "\n",
    "\n"
   ]
  }
 ],
 "metadata": {
  "kernelspec": {
   "display_name": "Python 3",
   "language": "python",
   "name": "python3"
  },
  "language_info": {
   "codemirror_mode": {
    "name": "ipython",
    "version": 3
   },
   "file_extension": ".py",
   "mimetype": "text/x-python",
   "name": "python",
   "nbconvert_exporter": "python",
   "pygments_lexer": "ipython3",
   "version": "3.7.7"
  },
  "pycharm": {
   "stem_cell": {
    "cell_type": "raw",
    "metadata": {
     "collapsed": false
    },
    "source": []
   }
  },
  "toc": {
   "base_numbering": 1,
   "nav_menu": {},
   "number_sections": true,
   "sideBar": true,
   "skip_h1_title": false,
   "title_cell": "Table of Contents",
   "title_sidebar": "Contents",
   "toc_cell": false,
   "toc_position": {},
   "toc_section_display": true,
   "toc_window_display": false
  }
 },
 "nbformat": 4,
 "nbformat_minor": 1
}
