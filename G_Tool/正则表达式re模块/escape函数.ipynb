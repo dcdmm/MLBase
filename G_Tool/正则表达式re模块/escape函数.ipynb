{
 "cells": [
  {
   "cell_type": "code",
   "execution_count": 10,
   "metadata": {
    "collapsed": true
   },
   "outputs": [],
   "source": [
    "import re\n",
    "import string"
   ]
  },
  {
   "cell_type": "code",
   "execution_count": 11,
   "outputs": [
    {
     "name": "stdout",
     "output_type": "stream",
     "text": [
      "https://www\\.python\\.org\n"
     ]
    }
   ],
   "source": [
    "# Escape special characters in pattern. This is useful if you want to match an arbitrary literal string that may have regular expression metacharacters in it\n",
    "print(re.escape('https://www.python.org'))"
   ],
   "metadata": {
    "collapsed": false,
    "pycharm": {
     "name": "#%%\n"
    }
   }
  },
  {
   "cell_type": "code",
   "execution_count": 12,
   "outputs": [
    {
     "name": "stdout",
     "output_type": "stream",
     "text": [
      "abcdefghijklmnopqrstuvwxyz0123456789!#$%&'*+-.^_`|~:\n",
      "abcdefghijklmnopqrstuvwxyz0123456789!\\#\\$%\\&'\\*\\+\\-\\.\\^_`\\|\\~:\n"
     ]
    }
   ],
   "source": [
    "# Only characters that can have special meaning in a regular expression are escaped\n",
    "legal_chars = string.ascii_lowercase + string.digits + \"!#$%&'*+-.^_`|~:\"\n",
    "print(legal_chars)\n",
    "print(re.escape(legal_chars))\n"
   ],
   "metadata": {
    "collapsed": false,
    "pycharm": {
     "name": "#%%\n"
    }
   }
  }
 ],
 "metadata": {
  "kernelspec": {
   "display_name": "Python 3",
   "language": "python",
   "name": "python3"
  },
  "language_info": {
   "codemirror_mode": {
    "name": "ipython",
    "version": 2
   },
   "file_extension": ".py",
   "mimetype": "text/x-python",
   "name": "python",
   "nbconvert_exporter": "python",
   "pygments_lexer": "ipython2",
   "version": "2.7.6"
  }
 },
 "nbformat": 4,
 "nbformat_minor": 0
}