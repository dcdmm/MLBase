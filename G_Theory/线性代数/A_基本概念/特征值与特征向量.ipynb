{
 "cells": [
  {
   "cell_type": "markdown",
   "source": [
    "&emsp;&emsp;若$A$为一$n \\times n$矩阵,如果存在一个非零向量$\\mathbf{x}$使得$A \\mathbf{x} = \\lambda \\mathbf{x}$,\n",
    "则称标量$\\lambda$为特征值,称向量$ \\mathbf{x} $为属于$\\lambda$的特征向量.\n",
    "\n",
    "<font color='red' size=4>性质:</font>\n",
    "\n",
    "1. 属于不同特征值的特征向量线性无关\n",
    "\n",
    "2. 矩阵$A$与它的转置$A^T$有相同的特征值\n",
    "\n",
    "<font color='red' size=4>证: \\&emsp;</font> $$\\left|\\lambda \\boldsymbol{E}-\\boldsymbol{A}^{T}\\right|=\\left|(\\lambda \\boldsymbol{E}-\\boldsymbol{A})^{T}\\right|=|\\lambda \\boldsymbol{E}-\\boldsymbol{A}|$$\n",
    "\n",
    "3. $$ \\sum_{i=1}^{n} \\lambda_{i}=\\sum_{i=1}^{n} a_{i i} $$\n",
    "\n",
    "$\\sum_{i=1}^{n} a_{i i}$ 称为矩阵$A$的迹,记作$\\mathbf{tr}(A)$\n",
    "\n",
    "4. $$ \\prod_{i=1}^{n} \\lambda_{i}=|A|$$"
   ],
   "metadata": {
    "collapsed": false,
    "pycharm": {
     "name": "#%% md\n",
     "is_executing": false
    }
   }
  },
  {
   "cell_type": "code",
   "execution_count": 1,
   "outputs": [
    {
     "name": "stdout",
     "output_type": "stream",
     "text": [
      "[15.  3.  5.]\n",
      "[[ 0.          0.          1.        ]\n",
      " [ 0.70710678  0.70710678  0.        ]\n",
      " [ 0.70710678 -0.70710678  0.        ]]\n"
     ]
    }
   ],
   "source": [
    "# Compute the eigenvalues and right eigenvectors of a square array.\n",
    "from numpy import linalg as LA\n",
    "import  numpy as np\n",
    "\n",
    "w, v = LA.eig(np.array([[5, 0, 0], \n",
    "                        [0, 9, 6], \n",
    "                        [0, 6, 9]]))\n",
    "print(w) # 特征值\n",
    "print(v) # 特征向量"
   ],
   "metadata": {
    "collapsed": false,
    "pycharm": {
     "name": "#%%\n"
    }
   }
  },
  {
   "cell_type": "code",
   "execution_count": null,
   "outputs": [],
   "source": [
    "\n"
   ],
   "metadata": {
    "collapsed": false,
    "pycharm": {
     "name": "#%%\n"
    }
   }
  }
 ],
 "metadata": {
  "language_info": {
   "codemirror_mode": {
    "name": "ipython",
    "version": 2
   },
   "file_extension": ".py",
   "mimetype": "text/x-python",
   "name": "python",
   "nbconvert_exporter": "python",
   "pygments_lexer": "ipython2",
   "version": "2.7.6"
  },
  "kernelspec": {
   "name": "python3",
   "language": "python",
   "display_name": "Python 3"
  },
  "stem_cell": {
   "cell_type": "raw",
   "source": "",
   "metadata": {
    "pycharm": {
     "metadata": false
    }
   }
  }
 },
 "nbformat": 4,
 "nbformat_minor": 0
}