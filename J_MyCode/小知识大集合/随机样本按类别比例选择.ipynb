{
 "cells": [
  {
   "cell_type": "code",
   "execution_count": 1,
   "outputs": [],
   "source": [
    "import numpy as np\n",
    "import pandas as pd"
   ],
   "metadata": {
    "collapsed": false,
    "pycharm": {
     "name": "#%%\n"
    }
   }
  },
  {
   "cell_type": "code",
   "execution_count": 2,
   "outputs": [
    {
     "data": {
      "text/plain": "               query1            query2  label\n0              茴香是发物吗            茴香怎么吃？      0\n1              茴香是发物吗            茴香子怎么吃      0\n2              茴香是发物吗           茴香怎么吃最好      0\n3              茴香是发物吗           茴香的营养成分      0\n4              茴香是发物吗             茴香怎么吃      0\n...               ...               ...    ...\n1595  月经来了十几天还没完是怎么回事     为什么月经来了十多天还未完      2\n1596  月经来了十几天还没完是怎么回事     生理期10天还没完怎么回事      0\n1597  月经来了十几天还没完是怎么回事         月经来了十天还没完      0\n1598  月经来了十几天还没完是怎么回事  月经来了快二十天还没完是怎么回事      0\n1599  月经来了十几天还没完是怎么回事     例假十天了还不完是什么情况      0\n\n[1600 rows x 3 columns]",
      "text/html": "<div>\n<style scoped>\n    .dataframe tbody tr th:only-of-type {\n        vertical-align: middle;\n    }\n\n    .dataframe tbody tr th {\n        vertical-align: top;\n    }\n\n    .dataframe thead th {\n        text-align: right;\n    }\n</style>\n<table border=\"1\" class=\"dataframe\">\n  <thead>\n    <tr style=\"text-align: right;\">\n      <th></th>\n      <th>query1</th>\n      <th>query2</th>\n      <th>label</th>\n    </tr>\n  </thead>\n  <tbody>\n    <tr>\n      <th>0</th>\n      <td>茴香是发物吗</td>\n      <td>茴香怎么吃？</td>\n      <td>0</td>\n    </tr>\n    <tr>\n      <th>1</th>\n      <td>茴香是发物吗</td>\n      <td>茴香子怎么吃</td>\n      <td>0</td>\n    </tr>\n    <tr>\n      <th>2</th>\n      <td>茴香是发物吗</td>\n      <td>茴香怎么吃最好</td>\n      <td>0</td>\n    </tr>\n    <tr>\n      <th>3</th>\n      <td>茴香是发物吗</td>\n      <td>茴香的营养成分</td>\n      <td>0</td>\n    </tr>\n    <tr>\n      <th>4</th>\n      <td>茴香是发物吗</td>\n      <td>茴香怎么吃</td>\n      <td>0</td>\n    </tr>\n    <tr>\n      <th>...</th>\n      <td>...</td>\n      <td>...</td>\n      <td>...</td>\n    </tr>\n    <tr>\n      <th>1595</th>\n      <td>月经来了十几天还没完是怎么回事</td>\n      <td>为什么月经来了十多天还未完</td>\n      <td>2</td>\n    </tr>\n    <tr>\n      <th>1596</th>\n      <td>月经来了十几天还没完是怎么回事</td>\n      <td>生理期10天还没完怎么回事</td>\n      <td>0</td>\n    </tr>\n    <tr>\n      <th>1597</th>\n      <td>月经来了十几天还没完是怎么回事</td>\n      <td>月经来了十天还没完</td>\n      <td>0</td>\n    </tr>\n    <tr>\n      <th>1598</th>\n      <td>月经来了十几天还没完是怎么回事</td>\n      <td>月经来了快二十天还没完是怎么回事</td>\n      <td>0</td>\n    </tr>\n    <tr>\n      <th>1599</th>\n      <td>月经来了十几天还没完是怎么回事</td>\n      <td>例假十天了还不完是什么情况</td>\n      <td>0</td>\n    </tr>\n  </tbody>\n</table>\n<p>1600 rows × 3 columns</p>\n</div>"
     },
     "execution_count": 2,
     "metadata": {},
     "output_type": "execute_result"
    }
   ],
   "source": [
    "df_test = pd.read_csv('data/example0.csv')\n",
    "df_test"
   ],
   "metadata": {
    "collapsed": false,
    "pycharm": {
     "name": "#%%\n"
    }
   }
  },
  {
   "cell_type": "code",
   "execution_count": 3,
   "outputs": [],
   "source": [
    "ratio_test = [13, 9, 25]"
   ],
   "metadata": {
    "collapsed": false,
    "pycharm": {
     "name": "#%%\n"
    }
   }
  },
  {
   "cell_type": "code",
   "execution_count": 4,
   "outputs": [],
   "source": [
    "def class_sample(df, label_col, ratio):\n",
    "    df_list = list(df.groupby(df[label_col]))\n",
    "    df_list.sort()\n",
    "    df_dict = dict(df_list)\n",
    "    df_ratio = [df_dict[i].shape[0] for i in range(len(ratio))]\n",
    "    kepp_class = np.argmin(df_ratio / np.array(ratio))\n",
    "    for i in range(len(ratio)):\n",
    "        if i == kepp_class:\n",
    "            # 该类别数量得到完整保留\n",
    "            continue\n",
    "        else:\n",
    "            keep_num = int(df_ratio[kepp_class] * (ratio[i] / ratio[kepp_class]))\n",
    "            df_dict[i] = df_dict[i].sample(n=keep_num, replace=False, random_state=1)\n",
    "    return df_dict"
   ],
   "metadata": {
    "collapsed": false,
    "pycharm": {
     "name": "#%%\n"
    }
   }
  },
  {
   "cell_type": "code",
   "execution_count": 5,
   "outputs": [
    {
     "data": {
      "text/plain": "{0:              query1       query2  label\n 1490  怎么判断是肩袖撕裂还是损伤   肩袖撕裂能自己恢复吗      0\n 1405      黑白通医贴膏靠谱吗       黑膏药怎么贴      0\n 438      女生屁股流黏黏的东西        屁股黏糊糊      0\n 1050        恐惧怎么产生的         恐惧咨询      0\n 1079      问诊的内容包括哪些       全科医生问诊      0\n ...             ...          ...    ...\n 580      早上起来想吐是怀孕吗         下午孕吐      0\n 1364        头孢地尼说明书        头孢地尼分      0\n 1529      预知子的功效与作用      百何功效及用法      0\n 545        哭了额头会有红点    新生婴儿额头点红点      0\n 114    hpv81阳性要不要治疗  hpv45阳性能治愈吗      0\n \n [173 rows x 3 columns],\n 1:             query1        query2  label\n 604        抗糖是什么意思          抗糖原理      1\n 1230  牙肉发炎肿痛吃什么好得快  牙龈肿痛吃什么药效果最好      1\n 964           胃部疾病        关于胃的疾病      1\n 653           云南白药     云南白药有什么效果      1\n 960           胃部疾病         胃有什么病      1\n ...            ...           ...    ...\n 477      肋骨下方一阵一阵疼     为什么肋骨下方疼痛      1\n 1105      孕妇血压高怎么办    孕妇后期血压高怎么办      1\n 904         脚板出现水泡        脚底起小水泡      1\n 609        抗糖是什么意思          抗糖成分      1\n 1023       糖尿病能吃肉吗      糖尿病能多吃肉吗      1\n \n [119 rows x 3 columns],\n 2:                query1             query2  label\n 6           气的胃疼是怎么回事          气的胃疼是怎么回事      2\n 12          气的胃疼是怎么回事          气到胃痛是什么原因      2\n 26         打通血管血栓绝密配方         打通血管血栓绝密配方      2\n 27         打通血管血栓绝密配方         打通血管血栓绝密偏方      2\n 29         打通血管血栓绝密配方          通血管血栓绝密配方      2\n ...               ...                ...    ...\n 1584  月经来了十几天还没完是怎么回事   大姨妈来了十几天还没完是怎么回事      2\n 1586  月经来了十几天还没完是怎么回事  大姨妈来了十多天了还没完是怎么回事      2\n 1587  月经来了十几天还没完是怎么回事   大姨妈来了十天了还没完是怎么回事      2\n 1588  月经来了十几天还没完是怎么回事    为什么大姨妈来了十几天了还没完      2\n 1595  月经来了十几天还没完是怎么回事      为什么月经来了十多天还未完      2\n \n [333 rows x 3 columns]}"
     },
     "execution_count": 5,
     "metadata": {},
     "output_type": "execute_result"
    }
   ],
   "source": [
    "result = class_sample(df_test, 'label', ratio_test)\n",
    "result"
   ],
   "metadata": {
    "collapsed": false,
    "pycharm": {
     "name": "#%%\n"
    }
   }
  },
  {
   "cell_type": "code",
   "execution_count": 6,
   "outputs": [
    {
     "data": {
      "text/plain": "[173, 119, 333]"
     },
     "execution_count": 6,
     "metadata": {},
     "output_type": "execute_result"
    }
   ],
   "source": [
    "result_keep_num = [result[i].shape[0] for i in range(len(ratio_test))]\n",
    "result_keep_num"
   ],
   "metadata": {
    "collapsed": false,
    "pycharm": {
     "name": "#%%\n"
    }
   }
  },
  {
   "cell_type": "code",
   "execution_count": 7,
   "outputs": [
    {
     "name": "stdout",
     "output_type": "stream",
     "text": [
      "1.4444444444444444 0.52\n",
      "1.453781512605042 0.5195195195195195\n"
     ]
    }
   ],
   "source": [
    "# 测试通过(比例正确)\n",
    "print(ratio_test[0] / ratio_test[1], ratio_test[0] / ratio_test[2])\n",
    "print(result_keep_num[0] / result_keep_num[1], result_keep_num[0] / result_keep_num[2])"
   ],
   "metadata": {
    "collapsed": false,
    "pycharm": {
     "name": "#%%\n"
    }
   }
  },
  {
   "cell_type": "code",
   "execution_count": 7,
   "outputs": [],
   "source": [],
   "metadata": {
    "collapsed": false,
    "pycharm": {
     "name": "#%%\n"
    }
   }
  }
 ],
 "metadata": {
  "kernelspec": {
   "display_name": "pytorch_env",
   "language": "python",
   "name": "pytorch_env"
  },
  "language_info": {
   "codemirror_mode": {
    "name": "ipython",
    "version": 3
   },
   "file_extension": ".py",
   "mimetype": "text/x-python",
   "name": "python",
   "nbconvert_exporter": "python",
   "pygments_lexer": "ipython3",
   "version": "3.8.12"
  },
  "toc": {
   "base_numbering": 1,
   "nav_menu": {},
   "number_sections": true,
   "sideBar": true,
   "skip_h1_title": false,
   "title_cell": "Table of Contents",
   "title_sidebar": "Contents",
   "toc_cell": false,
   "toc_position": {},
   "toc_section_display": true,
   "toc_window_display": false
  }
 },
 "nbformat": 4,
 "nbformat_minor": 1
}