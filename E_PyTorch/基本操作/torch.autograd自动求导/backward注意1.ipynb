{
 "cells": [
  {
   "cell_type": "code",
   "execution_count": 100,
   "metadata": {
    "collapsed": true
   },
   "outputs": [
    {
     "name": "stdout",
     "output_type": "stream",
     "text": [
      "tensor([1., 2., 3., 4.], requires_grad=True) 2266641046168 True True\n",
      "tensor([[1., 2.],\n",
      "        [3., 4.]], requires_grad=True) 2266641046168 True True\n",
      "tensor([[1., 2., 3., 4.]], requires_grad=True) 2266641046168 True True\n"
     ]
    }
   ],
   "source": [
    "import torch\n",
    "\n",
    "x = torch.tensor([1., 2., 3., 4.], requires_grad=True)\n",
    "print(x, id(x), x.is_leaf, x.requires_grad)\n",
    "\n",
    "#计算图确定前,可以通过此方式修改x的初始值(也可以通过detach函数),从而改变x.grad\n",
    "x.data = x.reshape(2, 2)\n",
    "print(x, id(x), x.is_leaf, x.requires_grad)\n",
    "\n",
    "# x = x + 39 # 报错,x不是叶tensor\n",
    "\n",
    "y = x**2 # 计算图确定后,x.grad已经被计算\n",
    "\n",
    "# 计算图确定后,若通过s修改x的值,将会报错\n",
    "# s = x.detach()\n",
    "# s.fill_(10)\n",
    "\n",
    "# 计算图确定后,通过x.data修改x的值,x得到修改,也不会报错,但不能改变x.grad(比较容易使结果混淆)\n",
    "x.data = x.reshape(1, -1) # 不推荐使用\n",
    "print(x, id(x), x.is_leaf, x.requires_grad)"
   ]
  },
  {
   "cell_type": "code",
   "execution_count": 101,
   "outputs": [
    {
     "name": "stdout",
     "output_type": "stream",
     "text": [
      "tensor([[2., 4.],\n",
      "        [6., 8.]])\n"
     ]
    }
   ],
   "source": [
    "y.backward(torch.ones_like(y, dtype=torch.float32))\n",
    "print(x.grad)\n",
    "\n"
   ],
   "metadata": {
    "collapsed": false,
    "pycharm": {
     "name": "#%%\n"
    }
   }
  }
 ],
 "metadata": {
  "kernelspec": {
   "display_name": "Python 3",
   "language": "python",
   "name": "python3"
  },
  "language_info": {
   "codemirror_mode": {
    "name": "ipython",
    "version": 2
   },
   "file_extension": ".py",
   "mimetype": "text/x-python",
   "name": "python",
   "nbconvert_exporter": "python",
   "pygments_lexer": "ipython2",
   "version": "2.7.6"
  }
 },
 "nbformat": 4,
 "nbformat_minor": 0
}