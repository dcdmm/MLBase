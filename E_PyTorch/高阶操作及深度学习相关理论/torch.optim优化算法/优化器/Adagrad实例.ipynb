{
 "cells": [
  {
   "cell_type": "code",
   "execution_count": 1,
   "metadata": {
    "pycharm": {
     "name": "#%%\n"
    }
   },
   "outputs": [],
   "source": [
    "import torch.nn as nn\n",
    "import torch.optim as optim\n",
    "import numpy as np\n",
    "import torch.utils.data as Data\n",
    "import torch"
   ]
  },
  {
   "cell_type": "code",
   "execution_count": 2,
   "metadata": {
    "pycharm": {
     "name": "#%%\n"
    }
   },
   "outputs": [],
   "source": [
    "# 手写数字训练数据集\n",
    "mnist = np.load(\"../../../../Other/datasets/NumPy/mnist.npz\")\n",
    "X_train, y_train, X_test, y_test = torch.unsqueeze(torch.tensor(mnist['x_train']), 1).to(dtype=torch.float32), \\\n",
    "                                   torch.tensor(mnist['y_train']).to(dtype=torch.long), \\\n",
    "                                   torch.unsqueeze(torch.tensor(mnist['x_test']), 1).to(dtype=torch.float32), \\\n",
    "                                   torch.tensor(mnist['y_test']).to(dtype=torch.long)"
   ]
  },
  {
   "cell_type": "code",
   "execution_count": 3,
   "outputs": [],
   "source": [
    "batch_size = 200\n",
    "train_data = Data.TensorDataset(X_train, y_train)\n",
    "train_loader = Data.DataLoader(dataset=train_data,\n",
    "                               batch_size=batch_size,\n",
    "                               shuffle=True)\n",
    "train_X = Data.DataLoader(X_train, batch_size=batch_size)\n",
    "test_X = Data.DataLoader(X_test, batch_size=batch_size)"
   ],
   "metadata": {
    "collapsed": false,
    "pycharm": {
     "name": "#%%\n"
    }
   }
  },
  {
   "cell_type": "code",
   "execution_count": 4,
   "metadata": {
    "pycharm": {
     "name": "#%%\n"
    }
   },
   "outputs": [],
   "source": [
    "class LeNet(nn.Module):\n",
    "    def __init__(self):\n",
    "        super(LeNet, self).__init__()\n",
    "        self.featrues = nn.Sequential(  # 内部实现了forward函数;各模块顺序执行\n",
    "            nn.Conv2d(1, 6, 3),\n",
    "            nn.ReLU(),\n",
    "            nn.MaxPool2d(2, 2),\n",
    "            nn.Conv2d(6, 16, 3),\n",
    "            nn.ReLU(),\n",
    "            nn.MaxPool2d(2, 2)\n",
    "        )\n",
    "        self.classifier = nn.Sequential(\n",
    "            nn.Linear(400, 120),\n",
    "            nn.ReLU(),\n",
    "            nn.Linear(120, 84),\n",
    "            nn.ReLU(),\n",
    "            nn.Linear(84, 10),  # 10分类问题\n",
    "        )\n",
    "\n",
    "    def forward(self, x):\n",
    "        x = self.featrues(x)\n",
    "        x = x.reshape(x.size()[0], -1)\n",
    "        x = self.classifier(x)\n",
    "        return x"
   ]
  },
  {
   "cell_type": "code",
   "execution_count": 5,
   "metadata": {
    "pycharm": {
     "name": "#%%\n"
    }
   },
   "outputs": [],
   "source": [
    "learning_rate = 0.01\n",
    "device = torch.device(\"cuda\" if torch.cuda.is_available() else \"cpu\")\n",
    "criteon = nn.CrossEntropyLoss()  # 定义损失函数为交叉熵\n",
    "net = LeNet()\n",
    "lenet = net.to(device)  # 模型设备转移必须在优化器定义前执行\n",
    "\n",
    "# Adagrad优化器\n",
    "optimizer = optim.Adagrad(net.parameters(),\n",
    "                          lr=learning_rate,  # 学习率\n",
    "                          eps=1e-10)  # 分母中的小常数\\delta"
   ]
  },
  {
   "cell_type": "code",
   "execution_count": 6,
   "outputs": [],
   "source": [
    "from torch_model.train_evaluate import Train_Evaluate\n",
    "\n",
    "t_and_v = Train_Evaluate(model=lenet, optimizer=optimizer, criterion=criteon, epochs=5)"
   ],
   "metadata": {
    "collapsed": false,
    "pycharm": {
     "name": "#%%\n"
    }
   }
  },
  {
   "cell_type": "code",
   "execution_count": 7,
   "outputs": [
    {
     "name": "stderr",
     "output_type": "stream",
     "text": [
      "C:\\Users\\duanm\\anaconda3\\lib\\site-packages\\torch\\nn\\functional.py:718: UserWarning: Named tensors and all their associated APIs are an experimental feature and subject to change. Please do not use them for anything important until they are released as stable. (Triggered internally at  ..\\c10/core/TensorImpl.h:1156.)\n",
      "  return torch.max_pool2d(input, kernel_size, stride, padding, dilation, ceil_mode)\n"
     ]
    },
    {
     "name": "stdout",
     "output_type": "stream",
     "text": [
      "Train Epoch: 0  [0    /60000 (0  %)]\tLoss: 6.001795\n",
      "Train Epoch: 0  [2000 /60000 (3  %)]\tLoss: 1.382431\n",
      "Train Epoch: 0  [4000 /60000 (7  %)]\tLoss: 0.608487\n",
      "Train Epoch: 0  [6000 /60000 (10 %)]\tLoss: 0.413543\n",
      "Train Epoch: 0  [8000 /60000 (13 %)]\tLoss: 0.344437\n",
      "Train Epoch: 0  [10000/60000 (17 %)]\tLoss: 0.242387\n",
      "Train Epoch: 0  [12000/60000 (20 %)]\tLoss: 0.171944\n",
      "Train Epoch: 0  [14000/60000 (23 %)]\tLoss: 0.133258\n",
      "Train Epoch: 0  [16000/60000 (27 %)]\tLoss: 0.183724\n",
      "Train Epoch: 0  [18000/60000 (30 %)]\tLoss: 0.185654\n",
      "Train Epoch: 0  [20000/60000 (33 %)]\tLoss: 0.150180\n",
      "Train Epoch: 0  [22000/60000 (37 %)]\tLoss: 0.179575\n",
      "Train Epoch: 0  [24000/60000 (40 %)]\tLoss: 0.148923\n",
      "Train Epoch: 0  [26000/60000 (43 %)]\tLoss: 0.217008\n",
      "Train Epoch: 0  [28000/60000 (47 %)]\tLoss: 0.110652\n",
      "Train Epoch: 0  [30000/60000 (50 %)]\tLoss: 0.134090\n",
      "Train Epoch: 0  [32000/60000 (53 %)]\tLoss: 0.099961\n",
      "Train Epoch: 0  [34000/60000 (57 %)]\tLoss: 0.099055\n",
      "Train Epoch: 0  [36000/60000 (60 %)]\tLoss: 0.143104\n",
      "Train Epoch: 0  [38000/60000 (63 %)]\tLoss: 0.172748\n",
      "Train Epoch: 0  [40000/60000 (67 %)]\tLoss: 0.154512\n",
      "Train Epoch: 0  [42000/60000 (70 %)]\tLoss: 0.059369\n",
      "Train Epoch: 0  [44000/60000 (73 %)]\tLoss: 0.114087\n",
      "Train Epoch: 0  [46000/60000 (77 %)]\tLoss: 0.245863\n",
      "Train Epoch: 0  [48000/60000 (80 %)]\tLoss: 0.083316\n",
      "Train Epoch: 0  [50000/60000 (83 %)]\tLoss: 0.065603\n",
      "Train Epoch: 0  [52000/60000 (87 %)]\tLoss: 0.055426\n",
      "Train Epoch: 0  [54000/60000 (90 %)]\tLoss: 0.089469\n",
      "Train Epoch: 0  [56000/60000 (93 %)]\tLoss: 0.094644\n",
      "Train Epoch: 0  [58000/60000 (97 %)]\tLoss: 0.053828\n",
      "Train Epoch: 0  [60000/60000 (100%)]\tLoss: 0.114073\n",
      "----------------------------------------------------------------------------------------------------\n",
      "Train Epoch: 1  [0    /60000 (0  %)]\tLoss: 0.205824\n",
      "Train Epoch: 1  [2000 /60000 (3  %)]\tLoss: 0.124505\n",
      "Train Epoch: 1  [4000 /60000 (7  %)]\tLoss: 0.036941\n",
      "Train Epoch: 1  [6000 /60000 (10 %)]\tLoss: 0.075136\n",
      "Train Epoch: 1  [8000 /60000 (13 %)]\tLoss: 0.099119\n",
      "Train Epoch: 1  [10000/60000 (17 %)]\tLoss: 0.088241\n",
      "Train Epoch: 1  [12000/60000 (20 %)]\tLoss: 0.103195\n",
      "Train Epoch: 1  [14000/60000 (23 %)]\tLoss: 0.086659\n",
      "Train Epoch: 1  [16000/60000 (27 %)]\tLoss: 0.068194\n",
      "Train Epoch: 1  [18000/60000 (30 %)]\tLoss: 0.060032\n",
      "Train Epoch: 1  [20000/60000 (33 %)]\tLoss: 0.119872\n",
      "Train Epoch: 1  [22000/60000 (37 %)]\tLoss: 0.050206\n",
      "Train Epoch: 1  [24000/60000 (40 %)]\tLoss: 0.069064\n",
      "Train Epoch: 1  [26000/60000 (43 %)]\tLoss: 0.070006\n",
      "Train Epoch: 1  [28000/60000 (47 %)]\tLoss: 0.117374\n",
      "Train Epoch: 1  [30000/60000 (50 %)]\tLoss: 0.101347\n",
      "Train Epoch: 1  [32000/60000 (53 %)]\tLoss: 0.148945\n",
      "Train Epoch: 1  [34000/60000 (57 %)]\tLoss: 0.034040\n",
      "Train Epoch: 1  [36000/60000 (60 %)]\tLoss: 0.076566\n",
      "Train Epoch: 1  [38000/60000 (63 %)]\tLoss: 0.058260\n",
      "Train Epoch: 1  [40000/60000 (67 %)]\tLoss: 0.061252\n",
      "Train Epoch: 1  [42000/60000 (70 %)]\tLoss: 0.150867\n",
      "Train Epoch: 1  [44000/60000 (73 %)]\tLoss: 0.069840\n",
      "Train Epoch: 1  [46000/60000 (77 %)]\tLoss: 0.120167\n",
      "Train Epoch: 1  [48000/60000 (80 %)]\tLoss: 0.083019\n",
      "Train Epoch: 1  [50000/60000 (83 %)]\tLoss: 0.031938\n",
      "Train Epoch: 1  [52000/60000 (87 %)]\tLoss: 0.103606\n",
      "Train Epoch: 1  [54000/60000 (90 %)]\tLoss: 0.098108\n",
      "Train Epoch: 1  [56000/60000 (93 %)]\tLoss: 0.078044\n",
      "Train Epoch: 1  [58000/60000 (97 %)]\tLoss: 0.053650\n",
      "Train Epoch: 1  [60000/60000 (100%)]\tLoss: 0.045031\n",
      "----------------------------------------------------------------------------------------------------\n",
      "Train Epoch: 2  [0    /60000 (0  %)]\tLoss: 0.034937\n",
      "Train Epoch: 2  [2000 /60000 (3  %)]\tLoss: 0.028627\n",
      "Train Epoch: 2  [4000 /60000 (7  %)]\tLoss: 0.074081\n",
      "Train Epoch: 2  [6000 /60000 (10 %)]\tLoss: 0.033657\n",
      "Train Epoch: 2  [8000 /60000 (13 %)]\tLoss: 0.035070\n",
      "Train Epoch: 2  [10000/60000 (17 %)]\tLoss: 0.032398\n",
      "Train Epoch: 2  [12000/60000 (20 %)]\tLoss: 0.079463\n",
      "Train Epoch: 2  [14000/60000 (23 %)]\tLoss: 0.042300\n",
      "Train Epoch: 2  [16000/60000 (27 %)]\tLoss: 0.026970\n",
      "Train Epoch: 2  [18000/60000 (30 %)]\tLoss: 0.076706\n",
      "Train Epoch: 2  [20000/60000 (33 %)]\tLoss: 0.050580\n",
      "Train Epoch: 2  [22000/60000 (37 %)]\tLoss: 0.043405\n",
      "Train Epoch: 2  [24000/60000 (40 %)]\tLoss: 0.091792\n",
      "Train Epoch: 2  [26000/60000 (43 %)]\tLoss: 0.027130\n",
      "Train Epoch: 2  [28000/60000 (47 %)]\tLoss: 0.041791\n",
      "Train Epoch: 2  [30000/60000 (50 %)]\tLoss: 0.086964\n",
      "Train Epoch: 2  [32000/60000 (53 %)]\tLoss: 0.033797\n",
      "Train Epoch: 2  [34000/60000 (57 %)]\tLoss: 0.131372\n",
      "Train Epoch: 2  [36000/60000 (60 %)]\tLoss: 0.048949\n",
      "Train Epoch: 2  [38000/60000 (63 %)]\tLoss: 0.050086\n",
      "Train Epoch: 2  [40000/60000 (67 %)]\tLoss: 0.079535\n",
      "Train Epoch: 2  [42000/60000 (70 %)]\tLoss: 0.091920\n",
      "Train Epoch: 2  [44000/60000 (73 %)]\tLoss: 0.059461\n",
      "Train Epoch: 2  [46000/60000 (77 %)]\tLoss: 0.016126\n",
      "Train Epoch: 2  [48000/60000 (80 %)]\tLoss: 0.045318\n",
      "Train Epoch: 2  [50000/60000 (83 %)]\tLoss: 0.055632\n",
      "Train Epoch: 2  [52000/60000 (87 %)]\tLoss: 0.029044\n",
      "Train Epoch: 2  [54000/60000 (90 %)]\tLoss: 0.073693\n",
      "Train Epoch: 2  [56000/60000 (93 %)]\tLoss: 0.067092\n",
      "Train Epoch: 2  [58000/60000 (97 %)]\tLoss: 0.053224\n",
      "Train Epoch: 2  [60000/60000 (100%)]\tLoss: 0.066543\n",
      "----------------------------------------------------------------------------------------------------\n",
      "Train Epoch: 3  [0    /60000 (0  %)]\tLoss: 0.036746\n",
      "Train Epoch: 3  [2000 /60000 (3  %)]\tLoss: 0.045828\n",
      "Train Epoch: 3  [4000 /60000 (7  %)]\tLoss: 0.023764\n",
      "Train Epoch: 3  [6000 /60000 (10 %)]\tLoss: 0.077302\n",
      "Train Epoch: 3  [8000 /60000 (13 %)]\tLoss: 0.057716\n",
      "Train Epoch: 3  [10000/60000 (17 %)]\tLoss: 0.059013\n",
      "Train Epoch: 3  [12000/60000 (20 %)]\tLoss: 0.064097\n",
      "Train Epoch: 3  [14000/60000 (23 %)]\tLoss: 0.065725\n",
      "Train Epoch: 3  [16000/60000 (27 %)]\tLoss: 0.054667\n",
      "Train Epoch: 3  [18000/60000 (30 %)]\tLoss: 0.057274\n",
      "Train Epoch: 3  [20000/60000 (33 %)]\tLoss: 0.040536\n",
      "Train Epoch: 3  [22000/60000 (37 %)]\tLoss: 0.022545\n",
      "Train Epoch: 3  [24000/60000 (40 %)]\tLoss: 0.039430\n",
      "Train Epoch: 3  [26000/60000 (43 %)]\tLoss: 0.029085\n",
      "Train Epoch: 3  [28000/60000 (47 %)]\tLoss: 0.028099\n",
      "Train Epoch: 3  [30000/60000 (50 %)]\tLoss: 0.043670\n",
      "Train Epoch: 3  [32000/60000 (53 %)]\tLoss: 0.049547\n",
      "Train Epoch: 3  [34000/60000 (57 %)]\tLoss: 0.021277\n",
      "Train Epoch: 3  [36000/60000 (60 %)]\tLoss: 0.039019\n",
      "Train Epoch: 3  [38000/60000 (63 %)]\tLoss: 0.015619\n",
      "Train Epoch: 3  [40000/60000 (67 %)]\tLoss: 0.076196\n",
      "Train Epoch: 3  [42000/60000 (70 %)]\tLoss: 0.044599\n",
      "Train Epoch: 3  [44000/60000 (73 %)]\tLoss: 0.021450\n",
      "Train Epoch: 3  [46000/60000 (77 %)]\tLoss: 0.029149\n",
      "Train Epoch: 3  [48000/60000 (80 %)]\tLoss: 0.043828\n",
      "Train Epoch: 3  [50000/60000 (83 %)]\tLoss: 0.050430\n",
      "Train Epoch: 3  [52000/60000 (87 %)]\tLoss: 0.025517\n",
      "Train Epoch: 3  [54000/60000 (90 %)]\tLoss: 0.050365\n",
      "Train Epoch: 3  [56000/60000 (93 %)]\tLoss: 0.058739\n",
      "Train Epoch: 3  [58000/60000 (97 %)]\tLoss: 0.071045\n",
      "Train Epoch: 3  [60000/60000 (100%)]\tLoss: 0.068096\n",
      "----------------------------------------------------------------------------------------------------\n",
      "Train Epoch: 4  [0    /60000 (0  %)]\tLoss: 0.075112\n",
      "Train Epoch: 4  [2000 /60000 (3  %)]\tLoss: 0.027624\n",
      "Train Epoch: 4  [4000 /60000 (7  %)]\tLoss: 0.040145\n",
      "Train Epoch: 4  [6000 /60000 (10 %)]\tLoss: 0.096691\n",
      "Train Epoch: 4  [8000 /60000 (13 %)]\tLoss: 0.042033\n",
      "Train Epoch: 4  [10000/60000 (17 %)]\tLoss: 0.026305\n",
      "Train Epoch: 4  [12000/60000 (20 %)]\tLoss: 0.041637\n",
      "Train Epoch: 4  [14000/60000 (23 %)]\tLoss: 0.044741\n",
      "Train Epoch: 4  [16000/60000 (27 %)]\tLoss: 0.035958\n",
      "Train Epoch: 4  [18000/60000 (30 %)]\tLoss: 0.037740\n",
      "Train Epoch: 4  [20000/60000 (33 %)]\tLoss: 0.031528\n",
      "Train Epoch: 4  [22000/60000 (37 %)]\tLoss: 0.025252\n",
      "Train Epoch: 4  [24000/60000 (40 %)]\tLoss: 0.040862\n",
      "Train Epoch: 4  [26000/60000 (43 %)]\tLoss: 0.048060\n",
      "Train Epoch: 4  [28000/60000 (47 %)]\tLoss: 0.056504\n",
      "Train Epoch: 4  [30000/60000 (50 %)]\tLoss: 0.014822\n",
      "Train Epoch: 4  [32000/60000 (53 %)]\tLoss: 0.036654\n",
      "Train Epoch: 4  [34000/60000 (57 %)]\tLoss: 0.048430\n",
      "Train Epoch: 4  [36000/60000 (60 %)]\tLoss: 0.087307\n",
      "Train Epoch: 4  [38000/60000 (63 %)]\tLoss: 0.099326\n",
      "Train Epoch: 4  [40000/60000 (67 %)]\tLoss: 0.041878\n",
      "Train Epoch: 4  [42000/60000 (70 %)]\tLoss: 0.076112\n",
      "Train Epoch: 4  [44000/60000 (73 %)]\tLoss: 0.037850\n",
      "Train Epoch: 4  [46000/60000 (77 %)]\tLoss: 0.058190\n",
      "Train Epoch: 4  [48000/60000 (80 %)]\tLoss: 0.050381\n",
      "Train Epoch: 4  [50000/60000 (83 %)]\tLoss: 0.073158\n",
      "Train Epoch: 4  [52000/60000 (87 %)]\tLoss: 0.041561\n",
      "Train Epoch: 4  [54000/60000 (90 %)]\tLoss: 0.034514\n",
      "Train Epoch: 4  [56000/60000 (93 %)]\tLoss: 0.024087\n",
      "Train Epoch: 4  [58000/60000 (97 %)]\tLoss: 0.071551\n",
      "Train Epoch: 4  [60000/60000 (100%)]\tLoss: 0.068142\n",
      "----------------------------------------------------------------------------------------------------\n"
     ]
    },
    {
     "data": {
      "text/plain": "[[0.08908196538686752, 0.09008751064538956],\n [0.05930077284574509, 0.06804008781909943],\n [0.04901646822690964, 0.0606977678835392],\n [0.04407089203596115, 0.05763832479715347],\n [0.03623519465327263, 0.05361764505505562]]"
     },
     "execution_count": 7,
     "metadata": {},
     "output_type": "execute_result"
    }
   ],
   "source": [
    "metric_reslut = t_and_v.train_eval(train_loader=train_loader, valid_sets=[(train_X, y_train), (test_X, y_test)])\n",
    "metric_reslut  # 每一轮验证数据集的损失值"
   ],
   "metadata": {
    "collapsed": false,
    "pycharm": {
     "name": "#%%\n"
    }
   }
  },
  {
   "cell_type": "code",
   "execution_count": 7,
   "outputs": [],
   "source": [],
   "metadata": {
    "collapsed": false,
    "pycharm": {
     "name": "#%%\n"
    }
   }
  }
 ],
 "metadata": {
  "kernelspec": {
   "display_name": "Python 3",
   "language": "python",
   "name": "python3"
  },
  "language_info": {
   "codemirror_mode": {
    "name": "ipython",
    "version": 3
   },
   "file_extension": ".py",
   "mimetype": "text/x-python",
   "name": "python",
   "nbconvert_exporter": "python",
   "pygments_lexer": "ipython3",
   "version": "3.7.7"
  },
  "toc": {
   "base_numbering": 1,
   "nav_menu": {},
   "number_sections": true,
   "sideBar": true,
   "skip_h1_title": false,
   "title_cell": "Table of Contents",
   "title_sidebar": "Contents",
   "toc_cell": false,
   "toc_position": {},
   "toc_section_display": true,
   "toc_window_display": false
  }
 },
 "nbformat": 4,
 "nbformat_minor": 1
}