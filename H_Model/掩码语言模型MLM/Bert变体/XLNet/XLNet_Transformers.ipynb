{
 "cells": [
  {
   "cell_type": "code",
   "execution_count": 1,
   "outputs": [],
   "source": [
    "from transformers import AutoModel, AutoTokenizer"
   ],
   "metadata": {
    "collapsed": false,
    "pycharm": {
     "name": "#%%\n"
    }
   }
  },
  {
   "cell_type": "code",
   "execution_count": 2,
   "metadata": {
    "collapsed": false,
    "pycharm": {
     "name": "#%%\n"
    }
   },
   "outputs": [
    {
     "data": {
      "text/plain": "Downloading:   0%|          | 0.00/760 [00:00<?, ?B/s]",
      "application/vnd.jupyter.widget-view+json": {
       "version_major": 2,
       "version_minor": 0,
       "model_id": "2e2660d64b83415990f27e36e7450cae"
      }
     },
     "metadata": {},
     "output_type": "display_data"
    },
    {
     "name": "stderr",
     "output_type": "stream",
     "text": [
      "C:\\Users\\dcdmm\\anaconda3\\envs\\pytorch_env\\lib\\site-packages\\huggingface_hub\\file_download.py:123: UserWarning: `huggingface_hub` cache-system uses symlinks by default to efficiently store duplicated files but your machine does not support them in C:\\Users\\dcdmm\\.cache\\huggingface\\hub. Caching files will still work but in a degraded version that might require more space on your disk. This warning can be disabled by setting the `HF_HUB_DISABLE_SYMLINKS_WARNING` environment variable. For more details, see https://huggingface.co/docs/huggingface_hub/how-to-cache#limitations.\n",
      "To support symlinks on Windows, you either need to activate Developer Mode or to run Python as an administrator. In order to see activate developer mode, see this article: https://docs.microsoft.com/en-us/windows/apps/get-started/enable-your-device-for-development\n",
      "  warnings.warn(message)\n"
     ]
    },
    {
     "data": {
      "text/plain": "Downloading:   0%|          | 0.00/798k [00:00<?, ?B/s]",
      "application/vnd.jupyter.widget-view+json": {
       "version_major": 2,
       "version_minor": 0,
       "model_id": "d42fbe7c23434003aa11681da3f867d5"
      }
     },
     "metadata": {},
     "output_type": "display_data"
    },
    {
     "data": {
      "text/plain": "Downloading:   0%|          | 0.00/1.38M [00:00<?, ?B/s]",
      "application/vnd.jupyter.widget-view+json": {
       "version_major": 2,
       "version_minor": 0,
       "model_id": "74266a8c7e0443d0a77eeacf7ffc4483"
      }
     },
     "metadata": {},
     "output_type": "display_data"
    },
    {
     "name": "stdout",
     "output_type": "stream",
     "text": [
      "['input_ids', 'token_type_ids', 'attention_mask']\n",
      "['<s>', '</s>', '<unk>', '<sep>', '<pad>', '<cls>', '<mask>', '<eop>', '<eod>']\n"
     ]
    }
   ],
   "source": [
    "tokenizer = AutoTokenizer.from_pretrained('xlnet-base-cased')\n",
    "print(tokenizer.model_input_names)\n",
    "print(tokenizer.all_special_tokens)"
   ]
  },
  {
   "cell_type": "code",
   "execution_count": 3,
   "metadata": {
    "collapsed": false,
    "pycharm": {
     "name": "#%%\n"
    }
   },
   "outputs": [
    {
     "data": {
      "text/plain": "Downloading:   0%|          | 0.00/467M [00:00<?, ?B/s]",
      "application/vnd.jupyter.widget-view+json": {
       "version_major": 2,
       "version_minor": 0,
       "model_id": "7ca659c133df4a29acafa002c2da8b43"
      }
     },
     "metadata": {},
     "output_type": "display_data"
    },
    {
     "name": "stderr",
     "output_type": "stream",
     "text": [
      "Some weights of the model checkpoint at xlnet-base-cased were not used when initializing XLNetModel: ['lm_loss.bias', 'lm_loss.weight']\n",
      "- This IS expected if you are initializing XLNetModel from the checkpoint of a model trained on another task or with another architecture (e.g. initializing a BertForSequenceClassification model from a BertForPreTraining model).\n",
      "- This IS NOT expected if you are initializing XLNetModel from the checkpoint of a model that you expect to be exactly identical (initializing a BertForSequenceClassification model from a BertForSequenceClassification model).\n"
     ]
    },
    {
     "data": {
      "text/plain": "XLNetModel(\n  (word_embedding): Embedding(32000, 768)\n  (layer): ModuleList(\n    (0): XLNetLayer(\n      (rel_attn): XLNetRelativeAttention(\n        (layer_norm): LayerNorm((768,), eps=1e-12, elementwise_affine=True)\n        (dropout): Dropout(p=0.1, inplace=False)\n      )\n      (ff): XLNetFeedForward(\n        (layer_norm): LayerNorm((768,), eps=1e-12, elementwise_affine=True)\n        (layer_1): Linear(in_features=768, out_features=3072, bias=True)\n        (layer_2): Linear(in_features=3072, out_features=768, bias=True)\n        (dropout): Dropout(p=0.1, inplace=False)\n        (activation_function): GELUActivation()\n      )\n      (dropout): Dropout(p=0.1, inplace=False)\n    )\n    (1): XLNetLayer(\n      (rel_attn): XLNetRelativeAttention(\n        (layer_norm): LayerNorm((768,), eps=1e-12, elementwise_affine=True)\n        (dropout): Dropout(p=0.1, inplace=False)\n      )\n      (ff): XLNetFeedForward(\n        (layer_norm): LayerNorm((768,), eps=1e-12, elementwise_affine=True)\n        (layer_1): Linear(in_features=768, out_features=3072, bias=True)\n        (layer_2): Linear(in_features=3072, out_features=768, bias=True)\n        (dropout): Dropout(p=0.1, inplace=False)\n        (activation_function): GELUActivation()\n      )\n      (dropout): Dropout(p=0.1, inplace=False)\n    )\n    (2): XLNetLayer(\n      (rel_attn): XLNetRelativeAttention(\n        (layer_norm): LayerNorm((768,), eps=1e-12, elementwise_affine=True)\n        (dropout): Dropout(p=0.1, inplace=False)\n      )\n      (ff): XLNetFeedForward(\n        (layer_norm): LayerNorm((768,), eps=1e-12, elementwise_affine=True)\n        (layer_1): Linear(in_features=768, out_features=3072, bias=True)\n        (layer_2): Linear(in_features=3072, out_features=768, bias=True)\n        (dropout): Dropout(p=0.1, inplace=False)\n        (activation_function): GELUActivation()\n      )\n      (dropout): Dropout(p=0.1, inplace=False)\n    )\n    (3): XLNetLayer(\n      (rel_attn): XLNetRelativeAttention(\n        (layer_norm): LayerNorm((768,), eps=1e-12, elementwise_affine=True)\n        (dropout): Dropout(p=0.1, inplace=False)\n      )\n      (ff): XLNetFeedForward(\n        (layer_norm): LayerNorm((768,), eps=1e-12, elementwise_affine=True)\n        (layer_1): Linear(in_features=768, out_features=3072, bias=True)\n        (layer_2): Linear(in_features=3072, out_features=768, bias=True)\n        (dropout): Dropout(p=0.1, inplace=False)\n        (activation_function): GELUActivation()\n      )\n      (dropout): Dropout(p=0.1, inplace=False)\n    )\n    (4): XLNetLayer(\n      (rel_attn): XLNetRelativeAttention(\n        (layer_norm): LayerNorm((768,), eps=1e-12, elementwise_affine=True)\n        (dropout): Dropout(p=0.1, inplace=False)\n      )\n      (ff): XLNetFeedForward(\n        (layer_norm): LayerNorm((768,), eps=1e-12, elementwise_affine=True)\n        (layer_1): Linear(in_features=768, out_features=3072, bias=True)\n        (layer_2): Linear(in_features=3072, out_features=768, bias=True)\n        (dropout): Dropout(p=0.1, inplace=False)\n        (activation_function): GELUActivation()\n      )\n      (dropout): Dropout(p=0.1, inplace=False)\n    )\n    (5): XLNetLayer(\n      (rel_attn): XLNetRelativeAttention(\n        (layer_norm): LayerNorm((768,), eps=1e-12, elementwise_affine=True)\n        (dropout): Dropout(p=0.1, inplace=False)\n      )\n      (ff): XLNetFeedForward(\n        (layer_norm): LayerNorm((768,), eps=1e-12, elementwise_affine=True)\n        (layer_1): Linear(in_features=768, out_features=3072, bias=True)\n        (layer_2): Linear(in_features=3072, out_features=768, bias=True)\n        (dropout): Dropout(p=0.1, inplace=False)\n        (activation_function): GELUActivation()\n      )\n      (dropout): Dropout(p=0.1, inplace=False)\n    )\n    (6): XLNetLayer(\n      (rel_attn): XLNetRelativeAttention(\n        (layer_norm): LayerNorm((768,), eps=1e-12, elementwise_affine=True)\n        (dropout): Dropout(p=0.1, inplace=False)\n      )\n      (ff): XLNetFeedForward(\n        (layer_norm): LayerNorm((768,), eps=1e-12, elementwise_affine=True)\n        (layer_1): Linear(in_features=768, out_features=3072, bias=True)\n        (layer_2): Linear(in_features=3072, out_features=768, bias=True)\n        (dropout): Dropout(p=0.1, inplace=False)\n        (activation_function): GELUActivation()\n      )\n      (dropout): Dropout(p=0.1, inplace=False)\n    )\n    (7): XLNetLayer(\n      (rel_attn): XLNetRelativeAttention(\n        (layer_norm): LayerNorm((768,), eps=1e-12, elementwise_affine=True)\n        (dropout): Dropout(p=0.1, inplace=False)\n      )\n      (ff): XLNetFeedForward(\n        (layer_norm): LayerNorm((768,), eps=1e-12, elementwise_affine=True)\n        (layer_1): Linear(in_features=768, out_features=3072, bias=True)\n        (layer_2): Linear(in_features=3072, out_features=768, bias=True)\n        (dropout): Dropout(p=0.1, inplace=False)\n        (activation_function): GELUActivation()\n      )\n      (dropout): Dropout(p=0.1, inplace=False)\n    )\n    (8): XLNetLayer(\n      (rel_attn): XLNetRelativeAttention(\n        (layer_norm): LayerNorm((768,), eps=1e-12, elementwise_affine=True)\n        (dropout): Dropout(p=0.1, inplace=False)\n      )\n      (ff): XLNetFeedForward(\n        (layer_norm): LayerNorm((768,), eps=1e-12, elementwise_affine=True)\n        (layer_1): Linear(in_features=768, out_features=3072, bias=True)\n        (layer_2): Linear(in_features=3072, out_features=768, bias=True)\n        (dropout): Dropout(p=0.1, inplace=False)\n        (activation_function): GELUActivation()\n      )\n      (dropout): Dropout(p=0.1, inplace=False)\n    )\n    (9): XLNetLayer(\n      (rel_attn): XLNetRelativeAttention(\n        (layer_norm): LayerNorm((768,), eps=1e-12, elementwise_affine=True)\n        (dropout): Dropout(p=0.1, inplace=False)\n      )\n      (ff): XLNetFeedForward(\n        (layer_norm): LayerNorm((768,), eps=1e-12, elementwise_affine=True)\n        (layer_1): Linear(in_features=768, out_features=3072, bias=True)\n        (layer_2): Linear(in_features=3072, out_features=768, bias=True)\n        (dropout): Dropout(p=0.1, inplace=False)\n        (activation_function): GELUActivation()\n      )\n      (dropout): Dropout(p=0.1, inplace=False)\n    )\n    (10): XLNetLayer(\n      (rel_attn): XLNetRelativeAttention(\n        (layer_norm): LayerNorm((768,), eps=1e-12, elementwise_affine=True)\n        (dropout): Dropout(p=0.1, inplace=False)\n      )\n      (ff): XLNetFeedForward(\n        (layer_norm): LayerNorm((768,), eps=1e-12, elementwise_affine=True)\n        (layer_1): Linear(in_features=768, out_features=3072, bias=True)\n        (layer_2): Linear(in_features=3072, out_features=768, bias=True)\n        (dropout): Dropout(p=0.1, inplace=False)\n        (activation_function): GELUActivation()\n      )\n      (dropout): Dropout(p=0.1, inplace=False)\n    )\n    (11): XLNetLayer(\n      (rel_attn): XLNetRelativeAttention(\n        (layer_norm): LayerNorm((768,), eps=1e-12, elementwise_affine=True)\n        (dropout): Dropout(p=0.1, inplace=False)\n      )\n      (ff): XLNetFeedForward(\n        (layer_norm): LayerNorm((768,), eps=1e-12, elementwise_affine=True)\n        (layer_1): Linear(in_features=768, out_features=3072, bias=True)\n        (layer_2): Linear(in_features=3072, out_features=768, bias=True)\n        (dropout): Dropout(p=0.1, inplace=False)\n        (activation_function): GELUActivation()\n      )\n      (dropout): Dropout(p=0.1, inplace=False)\n    )\n  )\n  (dropout): Dropout(p=0.1, inplace=False)\n)"
     },
     "execution_count": 3,
     "metadata": {},
     "output_type": "execute_result"
    }
   ],
   "source": [
    "model = AutoModel.from_pretrained(\"xlnet-base-cased\")\n",
    "model"
   ]
  },
  {
   "cell_type": "code",
   "execution_count": 4,
   "metadata": {
    "collapsed": false,
    "pycharm": {
     "name": "#%%\n"
    }
   },
   "outputs": [
    {
     "name": "stdout",
     "output_type": "stream",
     "text": [
      "mask_emb\n",
      "word_embedding.weight\n",
      "layer.0.rel_attn.q\n",
      "layer.0.rel_attn.k\n",
      "layer.0.rel_attn.v\n",
      "layer.0.rel_attn.o\n",
      "layer.0.rel_attn.r\n",
      "layer.0.rel_attn.r_r_bias\n",
      "layer.0.rel_attn.r_s_bias\n",
      "layer.0.rel_attn.r_w_bias\n",
      "layer.0.rel_attn.seg_embed\n",
      "layer.0.rel_attn.layer_norm.weight\n",
      "layer.0.rel_attn.layer_norm.bias\n",
      "layer.0.ff.layer_norm.weight\n",
      "layer.0.ff.layer_norm.bias\n",
      "layer.0.ff.layer_1.weight\n",
      "layer.0.ff.layer_1.bias\n",
      "layer.0.ff.layer_2.weight\n",
      "layer.0.ff.layer_2.bias\n",
      "layer.1.rel_attn.q\n",
      "layer.1.rel_attn.k\n",
      "layer.1.rel_attn.v\n",
      "layer.1.rel_attn.o\n",
      "layer.1.rel_attn.r\n",
      "layer.1.rel_attn.r_r_bias\n",
      "layer.1.rel_attn.r_s_bias\n",
      "layer.1.rel_attn.r_w_bias\n",
      "layer.1.rel_attn.seg_embed\n",
      "layer.1.rel_attn.layer_norm.weight\n",
      "layer.1.rel_attn.layer_norm.bias\n",
      "layer.1.ff.layer_norm.weight\n",
      "layer.1.ff.layer_norm.bias\n",
      "layer.1.ff.layer_1.weight\n",
      "layer.1.ff.layer_1.bias\n",
      "layer.1.ff.layer_2.weight\n",
      "layer.1.ff.layer_2.bias\n",
      "layer.2.rel_attn.q\n",
      "layer.2.rel_attn.k\n",
      "layer.2.rel_attn.v\n",
      "layer.2.rel_attn.o\n",
      "layer.2.rel_attn.r\n",
      "layer.2.rel_attn.r_r_bias\n",
      "layer.2.rel_attn.r_s_bias\n",
      "layer.2.rel_attn.r_w_bias\n",
      "layer.2.rel_attn.seg_embed\n",
      "layer.2.rel_attn.layer_norm.weight\n",
      "layer.2.rel_attn.layer_norm.bias\n",
      "layer.2.ff.layer_norm.weight\n",
      "layer.2.ff.layer_norm.bias\n",
      "layer.2.ff.layer_1.weight\n",
      "layer.2.ff.layer_1.bias\n",
      "layer.2.ff.layer_2.weight\n",
      "layer.2.ff.layer_2.bias\n",
      "layer.3.rel_attn.q\n",
      "layer.3.rel_attn.k\n",
      "layer.3.rel_attn.v\n",
      "layer.3.rel_attn.o\n",
      "layer.3.rel_attn.r\n",
      "layer.3.rel_attn.r_r_bias\n",
      "layer.3.rel_attn.r_s_bias\n",
      "layer.3.rel_attn.r_w_bias\n",
      "layer.3.rel_attn.seg_embed\n",
      "layer.3.rel_attn.layer_norm.weight\n",
      "layer.3.rel_attn.layer_norm.bias\n",
      "layer.3.ff.layer_norm.weight\n",
      "layer.3.ff.layer_norm.bias\n",
      "layer.3.ff.layer_1.weight\n",
      "layer.3.ff.layer_1.bias\n",
      "layer.3.ff.layer_2.weight\n",
      "layer.3.ff.layer_2.bias\n",
      "layer.4.rel_attn.q\n",
      "layer.4.rel_attn.k\n",
      "layer.4.rel_attn.v\n",
      "layer.4.rel_attn.o\n",
      "layer.4.rel_attn.r\n",
      "layer.4.rel_attn.r_r_bias\n",
      "layer.4.rel_attn.r_s_bias\n",
      "layer.4.rel_attn.r_w_bias\n",
      "layer.4.rel_attn.seg_embed\n",
      "layer.4.rel_attn.layer_norm.weight\n",
      "layer.4.rel_attn.layer_norm.bias\n",
      "layer.4.ff.layer_norm.weight\n",
      "layer.4.ff.layer_norm.bias\n",
      "layer.4.ff.layer_1.weight\n",
      "layer.4.ff.layer_1.bias\n",
      "layer.4.ff.layer_2.weight\n",
      "layer.4.ff.layer_2.bias\n",
      "layer.5.rel_attn.q\n",
      "layer.5.rel_attn.k\n",
      "layer.5.rel_attn.v\n",
      "layer.5.rel_attn.o\n",
      "layer.5.rel_attn.r\n",
      "layer.5.rel_attn.r_r_bias\n",
      "layer.5.rel_attn.r_s_bias\n",
      "layer.5.rel_attn.r_w_bias\n",
      "layer.5.rel_attn.seg_embed\n",
      "layer.5.rel_attn.layer_norm.weight\n",
      "layer.5.rel_attn.layer_norm.bias\n",
      "layer.5.ff.layer_norm.weight\n",
      "layer.5.ff.layer_norm.bias\n",
      "layer.5.ff.layer_1.weight\n",
      "layer.5.ff.layer_1.bias\n",
      "layer.5.ff.layer_2.weight\n",
      "layer.5.ff.layer_2.bias\n",
      "layer.6.rel_attn.q\n",
      "layer.6.rel_attn.k\n",
      "layer.6.rel_attn.v\n",
      "layer.6.rel_attn.o\n",
      "layer.6.rel_attn.r\n",
      "layer.6.rel_attn.r_r_bias\n",
      "layer.6.rel_attn.r_s_bias\n",
      "layer.6.rel_attn.r_w_bias\n",
      "layer.6.rel_attn.seg_embed\n",
      "layer.6.rel_attn.layer_norm.weight\n",
      "layer.6.rel_attn.layer_norm.bias\n",
      "layer.6.ff.layer_norm.weight\n",
      "layer.6.ff.layer_norm.bias\n",
      "layer.6.ff.layer_1.weight\n",
      "layer.6.ff.layer_1.bias\n",
      "layer.6.ff.layer_2.weight\n",
      "layer.6.ff.layer_2.bias\n",
      "layer.7.rel_attn.q\n",
      "layer.7.rel_attn.k\n",
      "layer.7.rel_attn.v\n",
      "layer.7.rel_attn.o\n",
      "layer.7.rel_attn.r\n",
      "layer.7.rel_attn.r_r_bias\n",
      "layer.7.rel_attn.r_s_bias\n",
      "layer.7.rel_attn.r_w_bias\n",
      "layer.7.rel_attn.seg_embed\n",
      "layer.7.rel_attn.layer_norm.weight\n",
      "layer.7.rel_attn.layer_norm.bias\n",
      "layer.7.ff.layer_norm.weight\n",
      "layer.7.ff.layer_norm.bias\n",
      "layer.7.ff.layer_1.weight\n",
      "layer.7.ff.layer_1.bias\n",
      "layer.7.ff.layer_2.weight\n",
      "layer.7.ff.layer_2.bias\n",
      "layer.8.rel_attn.q\n",
      "layer.8.rel_attn.k\n",
      "layer.8.rel_attn.v\n",
      "layer.8.rel_attn.o\n",
      "layer.8.rel_attn.r\n",
      "layer.8.rel_attn.r_r_bias\n",
      "layer.8.rel_attn.r_s_bias\n",
      "layer.8.rel_attn.r_w_bias\n",
      "layer.8.rel_attn.seg_embed\n",
      "layer.8.rel_attn.layer_norm.weight\n",
      "layer.8.rel_attn.layer_norm.bias\n",
      "layer.8.ff.layer_norm.weight\n",
      "layer.8.ff.layer_norm.bias\n",
      "layer.8.ff.layer_1.weight\n",
      "layer.8.ff.layer_1.bias\n",
      "layer.8.ff.layer_2.weight\n",
      "layer.8.ff.layer_2.bias\n",
      "layer.9.rel_attn.q\n",
      "layer.9.rel_attn.k\n",
      "layer.9.rel_attn.v\n",
      "layer.9.rel_attn.o\n",
      "layer.9.rel_attn.r\n",
      "layer.9.rel_attn.r_r_bias\n",
      "layer.9.rel_attn.r_s_bias\n",
      "layer.9.rel_attn.r_w_bias\n",
      "layer.9.rel_attn.seg_embed\n",
      "layer.9.rel_attn.layer_norm.weight\n",
      "layer.9.rel_attn.layer_norm.bias\n",
      "layer.9.ff.layer_norm.weight\n",
      "layer.9.ff.layer_norm.bias\n",
      "layer.9.ff.layer_1.weight\n",
      "layer.9.ff.layer_1.bias\n",
      "layer.9.ff.layer_2.weight\n",
      "layer.9.ff.layer_2.bias\n",
      "layer.10.rel_attn.q\n",
      "layer.10.rel_attn.k\n",
      "layer.10.rel_attn.v\n",
      "layer.10.rel_attn.o\n",
      "layer.10.rel_attn.r\n",
      "layer.10.rel_attn.r_r_bias\n",
      "layer.10.rel_attn.r_s_bias\n",
      "layer.10.rel_attn.r_w_bias\n",
      "layer.10.rel_attn.seg_embed\n",
      "layer.10.rel_attn.layer_norm.weight\n",
      "layer.10.rel_attn.layer_norm.bias\n",
      "layer.10.ff.layer_norm.weight\n",
      "layer.10.ff.layer_norm.bias\n",
      "layer.10.ff.layer_1.weight\n",
      "layer.10.ff.layer_1.bias\n",
      "layer.10.ff.layer_2.weight\n",
      "layer.10.ff.layer_2.bias\n",
      "layer.11.rel_attn.q\n",
      "layer.11.rel_attn.k\n",
      "layer.11.rel_attn.v\n",
      "layer.11.rel_attn.o\n",
      "layer.11.rel_attn.r\n",
      "layer.11.rel_attn.r_r_bias\n",
      "layer.11.rel_attn.r_s_bias\n",
      "layer.11.rel_attn.r_w_bias\n",
      "layer.11.rel_attn.seg_embed\n",
      "layer.11.rel_attn.layer_norm.weight\n",
      "layer.11.rel_attn.layer_norm.bias\n",
      "layer.11.ff.layer_norm.weight\n",
      "layer.11.ff.layer_norm.bias\n",
      "layer.11.ff.layer_1.weight\n",
      "layer.11.ff.layer_1.bias\n",
      "layer.11.ff.layer_2.weight\n",
      "layer.11.ff.layer_2.bias\n"
     ]
    }
   ],
   "source": [
    "for name, para in model.named_parameters():\n",
    "    print(name)"
   ]
  },
  {
   "cell_type": "code",
   "execution_count": 5,
   "outputs": [
    {
     "data": {
      "text/plain": "XLNetConfig {\n  \"_name_or_path\": \"xlnet-base-cased\",\n  \"architectures\": [\n    \"XLNetLMHeadModel\"\n  ],\n  \"attn_type\": \"bi\",\n  \"bi_data\": false,\n  \"bos_token_id\": 1,\n  \"clamp_len\": -1,\n  \"d_head\": 64,\n  \"d_inner\": 3072,\n  \"d_model\": 768,\n  \"dropout\": 0.1,\n  \"end_n_top\": 5,\n  \"eos_token_id\": 2,\n  \"ff_activation\": \"gelu\",\n  \"initializer_range\": 0.02,\n  \"layer_norm_eps\": 1e-12,\n  \"mem_len\": null,\n  \"model_type\": \"xlnet\",\n  \"n_head\": 12,\n  \"n_layer\": 12,\n  \"pad_token_id\": 5,\n  \"reuse_len\": null,\n  \"same_length\": false,\n  \"start_n_top\": 5,\n  \"summary_activation\": \"tanh\",\n  \"summary_last_dropout\": 0.1,\n  \"summary_type\": \"last\",\n  \"summary_use_proj\": true,\n  \"task_specific_params\": {\n    \"text-generation\": {\n      \"do_sample\": true,\n      \"max_length\": 250\n    }\n  },\n  \"transformers_version\": \"4.23.1\",\n  \"untie_r\": true,\n  \"use_mems_eval\": true,\n  \"use_mems_train\": false,\n  \"vocab_size\": 32000\n}"
     },
     "execution_count": 5,
     "metadata": {},
     "output_type": "execute_result"
    }
   ],
   "source": [
    "model.config"
   ],
   "metadata": {
    "collapsed": false,
    "pycharm": {
     "name": "#%%\n"
    }
   }
  },
  {
   "cell_type": "code",
   "execution_count": 8,
   "metadata": {
    "collapsed": false,
    "pycharm": {
     "name": "#%%\n"
    }
   },
   "outputs": [
    {
     "name": "stdout",
     "output_type": "stream",
     "text": [
      "{'input_ids': tensor([[    5,     5,     5,  ...,     9,     4,     3],\n",
      "        [   17, 21442,   118,  ...,     9,     4,     3]]), 'token_type_ids': tensor([[3, 3, 3,  ..., 0, 0, 2],\n",
      "        [0, 0, 0,  ..., 0, 0, 2]]), 'attention_mask': tensor([[0, 0, 0,  ..., 1, 1, 1],\n",
      "        [1, 1, 1,  ..., 1, 1, 1]])}\n",
      "dict_keys(['input_ids', 'token_type_ids', 'attention_mask'])\n",
      "torch.Size([2, 5028])\n"
     ]
    }
   ],
   "source": [
    "# 长文本\n",
    "text = \"\"\"Transformer-based models are unable to process long sequences due to their self-attention operation, which scales quadratically with the sequence length.\n",
    "To address this limitation, we introduce the Longformer with an attention mechanism that scales linearly with sequence length, making it easy to process documents of thousands of tokens or longer.\n",
    "Longformer’s attention mechanism is a drop-in replacement for the standard self-attention and combines a local windowed attention with a task motivated global attention.\n",
    "Following prior work on long-sequence transformers, we evaluate Longformer on character-level language modeling and achieve state-of-the-art results on text8 and enwik8.\n",
    "In contrast to most prior work, we also pretrain Longformer and finetune it on a variety of downstream tasks.\n",
    "Our pretrained Longformer consistently outperforms RoBERTa on long document tasks and sets new state-of-the-art results on Wiki-Hop and TriviaQA.\"\"\"\n",
    "text_long = text * 25\n",
    "\n",
    "encoded_input = tokenizer([text, text_long], padding=True, return_tensors='pt')\n",
    "print(encoded_input)\n",
    "print(encoded_input.keys())\n",
    "print(encoded_input['input_ids'].shape)  # [2, 5028]"
   ]
  },
  {
   "cell_type": "code",
   "execution_count": 9,
   "metadata": {
    "collapsed": false,
    "pycharm": {
     "name": "#%%\n"
    }
   },
   "outputs": [
    {
     "name": "stdout",
     "output_type": "stream",
     "text": [
      "tensor([[[-7.8207e-01,  1.7626e+00, -7.9004e-01,  ..., -3.1733e-01,\n",
      "           6.4219e-02,  1.9420e-01],\n",
      "         [-3.7650e-01,  1.7139e+00, -7.9031e-01,  ..., -5.4357e-02,\n",
      "           2.9282e-01, -4.5551e-01],\n",
      "         [ 3.2956e-02,  1.8480e+00, -7.4637e-01,  ...,  1.9488e-01,\n",
      "           5.2545e-01, -2.3987e-01],\n",
      "         ...,\n",
      "         [-4.3756e-01, -7.4957e-01, -1.9332e+00,  ..., -2.4058e-01,\n",
      "          -7.2453e-01, -1.5289e+00],\n",
      "         [-3.0689e-01, -6.3393e-01, -2.0613e+00,  ...,  2.1574e-01,\n",
      "          -3.3867e-01, -2.0743e+00],\n",
      "         [ 1.4241e-03, -5.9437e-01, -2.8806e+00,  ...,  2.6060e-01,\n",
      "          -6.3986e-01, -2.5495e+00]],\n",
      "\n",
      "        [[ 4.1896e-01, -2.1516e+00, -3.4851e+00,  ..., -9.7676e-01,\n",
      "          -1.0957e+00,  9.2663e-01],\n",
      "         [ 9.7877e-01, -1.9915e+00, -4.4675e+00,  ...,  3.7345e-01,\n",
      "           7.6906e-01,  3.7228e-01],\n",
      "         [-1.5515e+00, -3.0205e+00, -3.9874e+00,  ...,  1.0384e+00,\n",
      "           1.4898e-01,  1.1124e+00],\n",
      "         ...,\n",
      "         [ 1.2448e+00, -1.3764e+00, -3.6328e+00,  ..., -4.4198e-01,\n",
      "          -1.2568e+00, -1.4391e+00],\n",
      "         [ 1.1152e+00, -9.4066e-01, -3.0693e+00,  ...,  7.2230e-01,\n",
      "          -1.4605e+00, -1.2968e+00],\n",
      "         [-1.3902e+00, -2.2777e-01, -2.5907e+00,  ..., -8.2428e-01,\n",
      "          -6.4854e-01, -1.1740e-01]]], grad_fn=<CloneBackward0>)\n",
      "torch.Size([2, 5028, 768])\n"
     ]
    }
   ],
   "source": [
    "result = model(**encoded_input)\n",
    "print(result.last_hidden_state)\n",
    "print(result.last_hidden_state.shape)  # [2, 5028, 768]\n"
   ]
  }
 ],
 "metadata": {
  "kernelspec": {
   "display_name": "Python 3",
   "language": "python",
   "name": "python3"
  },
  "language_info": {
   "codemirror_mode": {
    "name": "ipython",
    "version": 2
   },
   "file_extension": ".py",
   "mimetype": "text/x-python",
   "name": "python",
   "nbconvert_exporter": "python",
   "pygments_lexer": "ipython2",
   "version": "2.7.6"
  }
 },
 "nbformat": 4,
 "nbformat_minor": 0
}