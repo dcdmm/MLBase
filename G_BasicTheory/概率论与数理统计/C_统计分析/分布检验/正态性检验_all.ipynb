{
 "cells": [
  {
   "cell_type": "markdown",
   "metadata": {
    "pycharm": {
     "name": "#%% md\n"
    }
   },
   "source": [
    "Graphical and quantitative check, if a given distribution is normal.\n",
    "- For small sample-numbers (<50), you should use the Shapiro-Wilk test or the \"normaltest\"\n",
    "- for intermediate sample numbers, the Lilliefors-test is good since the original Kolmogorov-Smirnov-test is unreliable when mean and std of the distribution\n",
    "are not known.\n",
    "- the Kolmogorov-Smirnov(Kolmogorov-Smirnov) test should only be used for large sample numbers (>300)"
   ]
  },
  {
   "cell_type": "code",
   "execution_count": 2,
   "metadata": {
    "pycharm": {
     "name": "#%%\n"
    }
   },
   "outputs": [],
   "source": [
    "import numpy as np\n",
    "import matplotlib.pyplot as plt\n",
    "import scipy.stats as stats\n",
    "import pandas as pd\n",
    "from statsmodels.stats.diagnostic import lilliefors"
   ]
  },
  {
   "cell_type": "code",
   "execution_count": 3,
   "metadata": {
    "pycharm": {
     "name": "#%%\n"
    }
   },
   "outputs": [],
   "source": [
    "def check_normality():\n",
    "    \"\"\"Check if the distribution is normal.\"\"\"\n",
    "\n",
    "    # Set the parameters\n",
    "    numData = 800\n",
    "    myMean = 0\n",
    "    mySD = 3\n",
    "\n",
    "    np.random.seed(1234)\n",
    "\n",
    "    # Generate and show random data\n",
    "    data_norm = stats.norm.rvs(myMean, mySD, size=numData)\n",
    "    data_t = stats.t.rvs(df=4, size=800)\n",
    "    fewData = data_norm[:200]\n",
    "    plt.hist(data_norm)\n",
    "    plt.show()\n",
    "\n",
    "    # --- >>> START stats <<< ---\n",
    "    # Graphical test: if the data lie on a line, they are pretty much\n",
    "    # normally distributed\n",
    "    _ = stats.probplot(data_norm, plot=plt)  # 正态概率图\n",
    "    plt.show()\n",
    "\n",
    "    pVals = pd.Series()\n",
    "    pFewVals = pd.Series()\n",
    "    # The scipy normaltest is based on D-Agostino and Pearsons test that\n",
    "    # combines skew and kurtosis to produce an omnibus test of normality.\n",
    "    _, pVals['Omnibus_norm'] = stats.normaltest(data_norm)\n",
    "    _, pVals['Omnibus_t'] = stats.normaltest(data_t)\n",
    "    _, pFewVals['Omnibus_norm'] = stats.normaltest(fewData)\n",
    "\n",
    "    # Shapiro-Wilk test\n",
    "    _, pVals['Shapiro-Wilk_norm'] = stats.shapiro(data_norm)\n",
    "    _, pVals['Shapiro-Wilk_t'] = stats.shapiro(data_t)\n",
    "    _, pFewVals['Shapiro-Wilk_norm'] = stats.shapiro(fewData)\n",
    "\n",
    "    # Or you can check for normality with Lilliefors-test(n<=900)\n",
    "    _, pVals['Lilliefors_norm'] = lilliefors(data_norm)\n",
    "    _, pVals['Lilliefors_t'] = lilliefors(data_t)\n",
    "    _, pFewVals['Lilliefors_norm'] = lilliefors(fewData)\n",
    "\n",
    "    # Alternatively with original Kolmogorov-Smirnov test\n",
    "    _, pVals['Kolmogorov-Smirnov'] = stats.kstest((data_norm - np.mean(data_norm)) / np.std(data_norm, ddof=1),\n",
    "                                                  'norm')  # 与标准正态分布对比\n",
    "    _, pFewVals['Kolmogorov-Smirnov'] = stats.kstest((fewData - np.mean(fewData)) / np.std(fewData, ddof=1), 'norm')\n",
    "\n",
    "    print('p-values for all {0} data points: ----------------'.format(len(data_norm)))\n",
    "    print(pVals, end='\\n\\n')\n",
    "    print('p-values for the first 100 data points: ----------------')\n",
    "    print(pFewVals)\n",
    "\n",
    "    if pVals['Omnibus_norm'] > 0.05:\n",
    "        print('Data are normally distributed')\n",
    "    # --- >>> STOP stats <<< ---"
   ]
  },
  {
   "cell_type": "code",
   "execution_count": 4,
   "metadata": {
    "pycharm": {
     "name": "#%%\n"
    }
   },
   "outputs": [
    {
     "data": {
      "text/plain": "<Figure size 432x288 with 1 Axes>",
      "image/png": "[encoded data removed]"
     },
     "metadata": {
      "needs_background": "light"
     },
     "output_type": "display_data"
    },
    {
     "data": {
      "text/plain": "<Figure size 432x288 with 1 Axes>",
      "image/png": "[encoded data removed]"
     },
     "metadata": {
      "needs_background": "light"
     },
     "output_type": "display_data"
    },
    {
     "name": "stdout",
     "output_type": "stream",
     "text": [
      "p-values for all 800 data points: ----------------\n",
      "Omnibus_norm          7.979383e-01\n",
      "Omnibus_t             5.270709e-24\n",
      "Shapiro-Wilk_norm     6.730455e-01\n",
      "Shapiro-Wilk_t        1.946402e-17\n",
      "Lilliefors_norm       5.293722e-01\n",
      "Lilliefors_t          1.000000e-03\n",
      "Kolmogorov-Smirnov    8.617965e-01\n",
      "dtype: float64\n",
      "\n",
      "p-values for the first 100 data points: ----------------\n",
      "Omnibus_norm          0.079498\n",
      "Shapiro-Wilk_norm     0.195156\n",
      "Lilliefors_norm       0.529627\n",
      "Kolmogorov-Smirnov    0.869880\n",
      "dtype: float64\n",
      "Data are normally distributed\n"
     ]
    },
    {
     "name": "stderr",
     "output_type": "stream",
     "text": [
      "<ipython-input-3-bc29b03ea5b5>:24: DeprecationWarning: The default dtype for empty Series will be 'object' instead of 'float64' in a future version. Specify a dtype explicitly to silence this warning.\n",
      "  pVals = pd.Series()\n",
      "<ipython-input-3-bc29b03ea5b5>:25: DeprecationWarning: The default dtype for empty Series will be 'object' instead of 'float64' in a future version. Specify a dtype explicitly to silence this warning.\n",
      "  pFewVals = pd.Series()\n"
     ]
    }
   ],
   "source": [
    "if __name__ == '__main__':\n",
    "    check_normality()\n"
   ]
  }
 ],
 "metadata": {
  "kernelspec": {
   "display_name": "Python 3",
   "language": "python",
   "name": "python3"
  },
  "language_info": {
   "codemirror_mode": {
    "name": "ipython",
    "version": 3
   },
   "file_extension": ".py",
   "mimetype": "text/x-python",
   "name": "python",
   "nbconvert_exporter": "python",
   "pygments_lexer": "ipython3",
   "version": "3.7.9"
  },
  "stem_cell": {
   "cell_type": "raw",
   "metadata": {
    "pycharm": {
     "metadata": false
    }
   },
   "source": ""
  },
  "toc": {
   "base_numbering": 1,
   "nav_menu": {},
   "number_sections": true,
   "sideBar": true,
   "skip_h1_title": false,
   "title_cell": "Table of Contents",
   "title_sidebar": "Contents",
   "toc_cell": false,
   "toc_position": {},
   "toc_section_display": true,
   "toc_window_display": false
  }
 },
 "nbformat": 4,
 "nbformat_minor": 1
}