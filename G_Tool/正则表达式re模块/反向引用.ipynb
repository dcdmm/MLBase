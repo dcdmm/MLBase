{
 "cells": [
  {
   "cell_type": "code",
   "execution_count": 46,
   "metadata": {
    "collapsed": true,
    "pycharm": {
     "name": "#%%\n"
    }
   },
   "outputs": [],
   "source": [
    "import re"
   ]
  },
  {
   "cell_type": "code",
   "execution_count": 47,
   "outputs": [
    {
     "name": "stdout",
     "output_type": "stream",
     "text": [
      "['go']\n",
      "go go\n"
     ]
    }
   ],
   "source": [
    "# 匹配字符串中连续出现的两个相同的单词\n",
    "s = 'hello blue go go hello'\n",
    "p = re.compile(r'\\b(\\w+)\\b\\s+\\1\\b')  # 这里的'\\1'就对应前面的(\\w+)\n",
    "print(re.findall(p, s))  # 只对子组进行匹配\n",
    "print(re.search(p, s).group())"
   ],
   "metadata": {
    "collapsed": false,
    "pycharm": {
     "name": "#%%\n"
    }
   }
  },
  {
   "cell_type": "code",
   "execution_count": 48,
   "outputs": [
    {
     "name": "stdout",
     "output_type": "stream",
     "text": [
      "['go']\n",
      "go go\n"
     ]
    }
   ],
   "source": [
    "s = 'hello blue go go hello'\n",
    "p = re.compile(r'\\b(?P<my_group1>\\w+)\\b\\s+(?P=my_group1)\\b')\n",
    "print(re.findall(p, s))\n",
    "print(re.search(p, s).group())"
   ],
   "metadata": {
    "collapsed": false,
    "pycharm": {
     "name": "#%%\n"
    }
   }
  },
  {
   "cell_type": "code",
   "execution_count": 49,
   "outputs": [
    {
     "name": "stdout",
     "output_type": "stream",
     "text": [
      "abab\n"
     ]
    }
   ],
   "source": [
    "s = 'abab cdcd efek'\n",
    "p = re.compile(r'(\\w\\w)\\1')  # 匹配\"ABAB\"型字符串\n",
    "print(re.search(p, s).group())"
   ],
   "metadata": {
    "collapsed": false,
    "pycharm": {
     "name": "#%%\n"
    }
   }
  },
  {
   "cell_type": "code",
   "execution_count": 50,
   "outputs": [
    {
     "name": "stdout",
     "output_type": "stream",
     "text": [
      "xxyy\n"
     ]
    }
   ],
   "source": [
    "s = 'abab cdcd xxyy'\n",
    "p = re.compile(r'(\\w)\\1(\\w)\\2')  # 匹配\"AABB\"型字符串\n",
    "print(re.search(p, s).group())"
   ],
   "metadata": {
    "collapsed": false,
    "pycharm": {
     "name": "#%%\n"
    }
   }
  },
  {
   "cell_type": "code",
   "execution_count": 51,
   "outputs": [
    {
     "name": "stdout",
     "output_type": "stream",
     "text": [
      "xxyx\n"
     ]
    }
   ],
   "source": [
    "s = 'abab cdcd xxyx'\n",
    "p = re.compile(r'(\\w)\\1(?:\\w)\\1')  # 匹配\"AABA\"型字符串\n",
    "print(re.search(p, s).group())"
   ],
   "metadata": {
    "collapsed": false,
    "pycharm": {
     "name": "#%%\n"
    }
   }
  },
  {
   "cell_type": "code",
   "execution_count": 52,
   "outputs": [
    {
     "name": "stdout",
     "output_type": "stream",
     "text": [
      "toot\n"
     ]
    }
   ],
   "source": [
    "s = 'abab toot'\n",
    "p = re.compile(r'(\\w)(\\w)\\2\\1')  # 匹配\"ABBA\"型字符串\n",
    "print(re.search(p, s).group())"
   ],
   "metadata": {
    "collapsed": false,
    "pycharm": {
     "name": "#%%\n"
    }
   }
  },
  {
   "cell_type": "code",
   "execution_count": 53,
   "outputs": [
    {
     "name": "stdout",
     "output_type": "stream",
     "text": [
      "1,234,567,890\n"
     ]
    }
   ],
   "source": [
    "s = '1234567890'\n",
    "s = s[::-1]\n",
    "s = re.sub(r'(...)', r'\\1,', s)  # 在字符串中从后往前每隔3个字符插入一个,符号\n",
    "# 小数点匹配除了换行符（\\n）以外的任意一个字符\n",
    "print(s[::-1])"
   ],
   "metadata": {
    "collapsed": false,
    "pycharm": {
     "name": "#%%\n"
    }
   }
  },
  {
   "cell_type": "code",
   "execution_count": 54,
   "outputs": [
    {
     "name": "stdout",
     "output_type": "stream",
     "text": [
      "\\\\\\\\\n",
      "\\\\\\\\\\\n"
     ]
    }
   ],
   "source": [
    "escapes = r'\\\\\\\\'\n",
    "print(escapes)\n",
    "escapes = re.sub(r'(\\\\+)', r'\\1\\\\', escapes)\n",
    "print(escapes)\n",
    "\n",
    "\n"
   ],
   "metadata": {
    "collapsed": false,
    "pycharm": {
     "name": "#%%\n"
    }
   }
  }
 ],
 "metadata": {
  "kernelspec": {
   "display_name": "Python 3",
   "language": "python",
   "name": "python3"
  },
  "language_info": {
   "codemirror_mode": {
    "name": "ipython",
    "version": 2
   },
   "file_extension": ".py",
   "mimetype": "text/x-python",
   "name": "python",
   "nbconvert_exporter": "python",
   "pygments_lexer": "ipython2",
   "version": "2.7.6"
  }
 },
 "nbformat": 4,
 "nbformat_minor": 0
}