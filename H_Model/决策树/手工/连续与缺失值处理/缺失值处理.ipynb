{
 "cells": [
  {
   "cell_type": "markdown",
   "metadata": {
    "collapsed": true,
    "pycharm": {
     "name": "#%% md\n"
    }
   },
   "source": [
    "需解决两个问题:   \n",
    "1. 如何在特征值缺失的情况下进行划分特征选择?\n",
    "2. 给定划分特征,若样本在该特征上的值缺失,如何对样本进行划分?\n",
    "\n",
    "&emsp;&emsp;给定数据集$D$和特征$a$,令$ \\tilde{D} $表示$D$中在特征$a$上没有缺失值的样本子集,对问题1,显然\n",
    "仅可根据$ \\tilde{D}$来判断特征$a$的优劣.假定特征$a$有$V$个可取值$ \\{ a^1, a^2, \\dots,a^V \\} $.令$\\tilde{D}^v$表示$\\tilde{D}$在\n",
    "特征$a$上取值为$a^v$的样本子集,$\\tilde{D}_{k}$表示$ \\tilde{D} $中属于第$k$类$(k=1,2,\\dots,|\\mathcal{Y}|)$的样本子集,则\n",
    "显然有$ \\tilde{D} = \\cup_{k=1}^{|\\mathcal{Y}|} \\tilde{D}_{k},\\tilde{D} = \\cup_{v=1}^{V} \\tilde{D}^{v}$.假定我们为每个样本$\\mathbf{x}$赋予\n",
    "一个权重$w_\\mathbf{x}$(在决策树学习开始阶段,根结点中各样本的权重初始化为1),并定义       \n",
    "\n",
    "\\begin{align}\n",
    "\\rho &= \\frac{\\sum_{\\mathbf{x} \\in \\tilde{D}} w_\\mathbf{x}}{\\sum_{\\mathbf{x} \\in D} w_\\mathbf{x}} \\\\\n",
    "\\tilde{p}_k &= \\frac{\\sum_{\\mathbf{x} \\in \\tilde{D}_k} w_\\mathbf{x}}{\\sum_{\\mathbf{x} \\in \\tilde{D}} w_\\mathbf{x}} \\quad (1 \\leq k \\leq |\\mathcal{Y}|) \\\\\n",
    "\\tilde{r}_v &= \\frac{\\sum_{\\mathbf{x} \\in \\tilde{D}^v} w_\\mathbf{x}}{\\sum_{\\mathbf{x} \\in \\tilde{D}} w_\\mathbf{x}} \\quad (1 \\leq v \\leq V) \\\\\n",
    "\\end{align}    \n",
    "直观的看,对特征$a, \\rho$表示无缺失值样本所占的比例,$\\tilde{p}_k$表示无缺失值样本中第$k$类所占的比例,$\\tilde{r}_v $则表示\n",
    "无缺失值样本中在特征$a$上取值$ a_v $的样本所占的比例.显然,$\\sum_{k=1}^{|\\mathcal{Y}|} \\tilde{p}_k =1, \\sum_{v=1}^{V}\\tilde{r}_{v}=1$    \n",
    "&emsp;&emsp;基于上叙定义,信息增益的计算式推广为:   \n",
    "\\begin{align}\\\n",
    "\\mathrm{Gain}(D, a) &= \\rho \\times \\mathrm{Gain}(\\tilde{D}, a) \\\\\n",
    "                    &= \\rho \\times \\left( H(\\tilde{D}) -  \\sum_{v=1}^{V} \\tilde{r}_v H(\\tilde{D}^v)  \\right)\n",
    "\\end{align}     \n",
    "其中,$$ H(\\tilde{D}) = \\sum_{k=1}^{|\\mathcal{Y}|} \\tilde{p}_k \\log_2 \\tilde{p}_k  $$   \n",
    "&emsp;&emsp;对问题2,若样本$\\mathbf{x}$在划分特征$a$上的取值已知,则将$\\mathbf{x}$划入与其取值对应的子结点,且样本权重在子结点中保持为$w_\\mathbf{x}$.若样本$\\mathbf{x}$在\n",
    "划分特征$a$上的取值未知,则将$\\mathbf{x}$同时划入所有的子结点,且样本权重在特征值$a^v$对应的子结点中调整为$\\tilde{r}_v \\cdot w_\\mathbf{x}$"
   ]
  },
  {
   "cell_type": "code",
   "execution_count": 2,
   "outputs": [],
   "source": [
    "import numpy as np\n",
    "import pandas as pd\n",
    "from collections import Counter"
   ],
   "metadata": {
    "collapsed": false,
    "pycharm": {
     "name": "#%%\n",
     "is_executing": false
    }
   }
  },
  {
   "cell_type": "code",
   "execution_count": 3,
   "outputs": [],
   "source": [
    "string = \"\"\"编号,色泽,根蒂,敲声,纹理,脐部,触感,好瓜\n",
    "1,???,蜷缩,浊响,清晰,凹陷,硬滑,是\n",
    "2,乌黑,蜷缩,沉闷,清晰,凹陷,???,是\n",
    "3,乌黑,蜷缩,???,清晰,凹陷,硬滑,是\n",
    "4,青绿,蜷缩,沉闷,清晰,凹陷,硬滑,是\n",
    "5,???,蜷缩,浊响,清晰,凹陷,硬滑,是\n",
    "6,青绿,稍蜷,浊响,清晰,???,软粘,是\n",
    "7,乌黑,稍蜷,浊响,稍糊,稍凹,软粘,是\n",
    "8,乌黑,稍蜷,浊响,???,稍凹,硬滑,是\n",
    "9,乌黑,???,沉闷,稍糊,稍凹,硬滑,否\n",
    "10,青绿,硬挺,清脆,???,平坦,软粘,否\n",
    "11,浅白,硬挺,清脆,模糊,平坦,???,否\n",
    "12,浅白,蜷缩,???,模糊,平坦,软粘,否\n",
    "13,???,稍蜷,浊响,稍糊,凹陷,硬滑,否\n",
    "14,浅白,稍蜷,沉闷,稍糊,凹陷,硬滑,否\n",
    "15,乌黑,稍蜷,浊响,清晰,???,软粘,否\n",
    "16,浅白,蜷缩,浊响,模糊,平坦,硬滑,否\n",
    "17,青绿,???,沉闷,稍糊,稍凹,硬滑,否\"\"\""
   ],
   "metadata": {
    "collapsed": false,
    "pycharm": {
     "name": "#%%\n",
     "is_executing": false
    }
   }
  },
  {
   "cell_type": "code",
   "execution_count": 4,
   "outputs": [],
   "source": [
    "def out_df(string):\n",
    "    \"\"\"将字符串转换为DataFrame\"\"\"\n",
    "    lst = list()\n",
    "    for i in string.split('\\n'):\n",
    "        lst.append(i.split(','))\n",
    "    arr = np.array(lst)\n",
    "    frame = pd.DataFrame(arr[1:], columns=arr[0])\n",
    "    frame.replace('???', np.nan, inplace=True)\n",
    "    frame['权重'] = 1 # 根节点各样本的权重初始化为1\n",
    "    \n",
    "    return frame"
   ],
   "metadata": {
    "collapsed": false,
    "pycharm": {
     "name": "#%%\n",
     "is_executing": false
    }
   }
  },
  {
   "cell_type": "code",
   "execution_count": 5,
   "outputs": [
    {
     "data": {
      "text/plain": "    编号   色泽   根蒂   敲声   纹理   脐部   触感 好瓜  权重\n0    1  NaN   蜷缩   浊响   清晰   凹陷   硬滑  是   1\n1    2   乌黑   蜷缩   沉闷   清晰   凹陷  NaN  是   1\n2    3   乌黑   蜷缩  NaN   清晰   凹陷   硬滑  是   1\n3    4   青绿   蜷缩   沉闷   清晰   凹陷   硬滑  是   1\n4    5  NaN   蜷缩   浊响   清晰   凹陷   硬滑  是   1\n5    6   青绿   稍蜷   浊响   清晰  NaN   软粘  是   1\n6    7   乌黑   稍蜷   浊响   稍糊   稍凹   软粘  是   1\n7    8   乌黑   稍蜷   浊响  NaN   稍凹   硬滑  是   1\n8    9   乌黑  NaN   沉闷   稍糊   稍凹   硬滑  否   1\n9   10   青绿   硬挺   清脆  NaN   平坦   软粘  否   1\n10  11   浅白   硬挺   清脆   模糊   平坦  NaN  否   1\n11  12   浅白   蜷缩  NaN   模糊   平坦   软粘  否   1\n12  13  NaN   稍蜷   浊响   稍糊   凹陷   硬滑  否   1\n13  14   浅白   稍蜷   沉闷   稍糊   凹陷   硬滑  否   1\n14  15   乌黑   稍蜷   浊响   清晰  NaN   软粘  否   1\n15  16   浅白   蜷缩   浊响   模糊   平坦   硬滑  否   1\n16  17   青绿  NaN   沉闷   稍糊   稍凹   硬滑  否   1",
      "text/html": "<div>\n<style scoped>\n    .dataframe tbody tr th:only-of-type {\n        vertical-align: middle;\n    }\n\n    .dataframe tbody tr th {\n        vertical-align: top;\n    }\n\n    .dataframe thead th {\n        text-align: right;\n    }\n</style>\n<table border=\"1\" class=\"dataframe\">\n  <thead>\n    <tr style=\"text-align: right;\">\n      <th></th>\n      <th>编号</th>\n      <th>色泽</th>\n      <th>根蒂</th>\n      <th>敲声</th>\n      <th>纹理</th>\n      <th>脐部</th>\n      <th>触感</th>\n      <th>好瓜</th>\n      <th>权重</th>\n    </tr>\n  </thead>\n  <tbody>\n    <tr>\n      <td>0</td>\n      <td>1</td>\n      <td>NaN</td>\n      <td>蜷缩</td>\n      <td>浊响</td>\n      <td>清晰</td>\n      <td>凹陷</td>\n      <td>硬滑</td>\n      <td>是</td>\n      <td>1</td>\n    </tr>\n    <tr>\n      <td>1</td>\n      <td>2</td>\n      <td>乌黑</td>\n      <td>蜷缩</td>\n      <td>沉闷</td>\n      <td>清晰</td>\n      <td>凹陷</td>\n      <td>NaN</td>\n      <td>是</td>\n      <td>1</td>\n    </tr>\n    <tr>\n      <td>2</td>\n      <td>3</td>\n      <td>乌黑</td>\n      <td>蜷缩</td>\n      <td>NaN</td>\n      <td>清晰</td>\n      <td>凹陷</td>\n      <td>硬滑</td>\n      <td>是</td>\n      <td>1</td>\n    </tr>\n    <tr>\n      <td>3</td>\n      <td>4</td>\n      <td>青绿</td>\n      <td>蜷缩</td>\n      <td>沉闷</td>\n      <td>清晰</td>\n      <td>凹陷</td>\n      <td>硬滑</td>\n      <td>是</td>\n      <td>1</td>\n    </tr>\n    <tr>\n      <td>4</td>\n      <td>5</td>\n      <td>NaN</td>\n      <td>蜷缩</td>\n      <td>浊响</td>\n      <td>清晰</td>\n      <td>凹陷</td>\n      <td>硬滑</td>\n      <td>是</td>\n      <td>1</td>\n    </tr>\n    <tr>\n      <td>5</td>\n      <td>6</td>\n      <td>青绿</td>\n      <td>稍蜷</td>\n      <td>浊响</td>\n      <td>清晰</td>\n      <td>NaN</td>\n      <td>软粘</td>\n      <td>是</td>\n      <td>1</td>\n    </tr>\n    <tr>\n      <td>6</td>\n      <td>7</td>\n      <td>乌黑</td>\n      <td>稍蜷</td>\n      <td>浊响</td>\n      <td>稍糊</td>\n      <td>稍凹</td>\n      <td>软粘</td>\n      <td>是</td>\n      <td>1</td>\n    </tr>\n    <tr>\n      <td>7</td>\n      <td>8</td>\n      <td>乌黑</td>\n      <td>稍蜷</td>\n      <td>浊响</td>\n      <td>NaN</td>\n      <td>稍凹</td>\n      <td>硬滑</td>\n      <td>是</td>\n      <td>1</td>\n    </tr>\n    <tr>\n      <td>8</td>\n      <td>9</td>\n      <td>乌黑</td>\n      <td>NaN</td>\n      <td>沉闷</td>\n      <td>稍糊</td>\n      <td>稍凹</td>\n      <td>硬滑</td>\n      <td>否</td>\n      <td>1</td>\n    </tr>\n    <tr>\n      <td>9</td>\n      <td>10</td>\n      <td>青绿</td>\n      <td>硬挺</td>\n      <td>清脆</td>\n      <td>NaN</td>\n      <td>平坦</td>\n      <td>软粘</td>\n      <td>否</td>\n      <td>1</td>\n    </tr>\n    <tr>\n      <td>10</td>\n      <td>11</td>\n      <td>浅白</td>\n      <td>硬挺</td>\n      <td>清脆</td>\n      <td>模糊</td>\n      <td>平坦</td>\n      <td>NaN</td>\n      <td>否</td>\n      <td>1</td>\n    </tr>\n    <tr>\n      <td>11</td>\n      <td>12</td>\n      <td>浅白</td>\n      <td>蜷缩</td>\n      <td>NaN</td>\n      <td>模糊</td>\n      <td>平坦</td>\n      <td>软粘</td>\n      <td>否</td>\n      <td>1</td>\n    </tr>\n    <tr>\n      <td>12</td>\n      <td>13</td>\n      <td>NaN</td>\n      <td>稍蜷</td>\n      <td>浊响</td>\n      <td>稍糊</td>\n      <td>凹陷</td>\n      <td>硬滑</td>\n      <td>否</td>\n      <td>1</td>\n    </tr>\n    <tr>\n      <td>13</td>\n      <td>14</td>\n      <td>浅白</td>\n      <td>稍蜷</td>\n      <td>沉闷</td>\n      <td>稍糊</td>\n      <td>凹陷</td>\n      <td>硬滑</td>\n      <td>否</td>\n      <td>1</td>\n    </tr>\n    <tr>\n      <td>14</td>\n      <td>15</td>\n      <td>乌黑</td>\n      <td>稍蜷</td>\n      <td>浊响</td>\n      <td>清晰</td>\n      <td>NaN</td>\n      <td>软粘</td>\n      <td>否</td>\n      <td>1</td>\n    </tr>\n    <tr>\n      <td>15</td>\n      <td>16</td>\n      <td>浅白</td>\n      <td>蜷缩</td>\n      <td>浊响</td>\n      <td>模糊</td>\n      <td>平坦</td>\n      <td>硬滑</td>\n      <td>否</td>\n      <td>1</td>\n    </tr>\n    <tr>\n      <td>16</td>\n      <td>17</td>\n      <td>青绿</td>\n      <td>NaN</td>\n      <td>沉闷</td>\n      <td>稍糊</td>\n      <td>稍凹</td>\n      <td>硬滑</td>\n      <td>否</td>\n      <td>1</td>\n    </tr>\n  </tbody>\n</table>\n</div>"
     },
     "metadata": {},
     "output_type": "execute_result",
     "execution_count": 5
    }
   ],
   "source": [
    "df = out_df(string) \n",
    "df"
   ],
   "metadata": {
    "collapsed": false,
    "pycharm": {
     "name": "#%%\n",
     "is_executing": false
    }
   }
  },
  {
   "cell_type": "code",
   "execution_count": 6,
   "outputs": [
    {
     "data": {
      "text/plain": "    编号  纹理 好瓜\n0    1  清晰  是\n1    2  清晰  是\n2    3  清晰  是\n3    4  清晰  是\n4    5  清晰  是\n5    6  清晰  是\n6    7  稍糊  是\n8    9  稍糊  否\n10  11  模糊  否\n11  12  模糊  否\n12  13  稍糊  否\n13  14  稍糊  否\n14  15  清晰  否\n15  16  模糊  否\n16  17  稍糊  否",
      "text/html": "<div>\n<style scoped>\n    .dataframe tbody tr th:only-of-type {\n        vertical-align: middle;\n    }\n\n    .dataframe tbody tr th {\n        vertical-align: top;\n    }\n\n    .dataframe thead th {\n        text-align: right;\n    }\n</style>\n<table border=\"1\" class=\"dataframe\">\n  <thead>\n    <tr style=\"text-align: right;\">\n      <th></th>\n      <th>编号</th>\n      <th>纹理</th>\n      <th>好瓜</th>\n    </tr>\n  </thead>\n  <tbody>\n    <tr>\n      <td>0</td>\n      <td>1</td>\n      <td>清晰</td>\n      <td>是</td>\n    </tr>\n    <tr>\n      <td>1</td>\n      <td>2</td>\n      <td>清晰</td>\n      <td>是</td>\n    </tr>\n    <tr>\n      <td>2</td>\n      <td>3</td>\n      <td>清晰</td>\n      <td>是</td>\n    </tr>\n    <tr>\n      <td>3</td>\n      <td>4</td>\n      <td>清晰</td>\n      <td>是</td>\n    </tr>\n    <tr>\n      <td>4</td>\n      <td>5</td>\n      <td>清晰</td>\n      <td>是</td>\n    </tr>\n    <tr>\n      <td>5</td>\n      <td>6</td>\n      <td>清晰</td>\n      <td>是</td>\n    </tr>\n    <tr>\n      <td>6</td>\n      <td>7</td>\n      <td>稍糊</td>\n      <td>是</td>\n    </tr>\n    <tr>\n      <td>8</td>\n      <td>9</td>\n      <td>稍糊</td>\n      <td>否</td>\n    </tr>\n    <tr>\n      <td>10</td>\n      <td>11</td>\n      <td>模糊</td>\n      <td>否</td>\n    </tr>\n    <tr>\n      <td>11</td>\n      <td>12</td>\n      <td>模糊</td>\n      <td>否</td>\n    </tr>\n    <tr>\n      <td>12</td>\n      <td>13</td>\n      <td>稍糊</td>\n      <td>否</td>\n    </tr>\n    <tr>\n      <td>13</td>\n      <td>14</td>\n      <td>稍糊</td>\n      <td>否</td>\n    </tr>\n    <tr>\n      <td>14</td>\n      <td>15</td>\n      <td>清晰</td>\n      <td>否</td>\n    </tr>\n    <tr>\n      <td>15</td>\n      <td>16</td>\n      <td>模糊</td>\n      <td>否</td>\n    </tr>\n    <tr>\n      <td>16</td>\n      <td>17</td>\n      <td>稍糊</td>\n      <td>否</td>\n    </tr>\n  </tbody>\n</table>\n</div>"
     },
     "metadata": {},
     "output_type": "execute_result",
     "execution_count": 6
    }
   ],
   "source": [
    "df_dropna = df[['编号', '纹理', '好瓜']].dropna(axis=0)\n",
    "df_dropna"
   ],
   "metadata": {
    "collapsed": false,
    "pycharm": {
     "name": "#%%\n",
     "is_executing": false
    }
   }
  },
  {
   "cell_type": "code",
   "execution_count": 7,
   "outputs": [
    {
     "data": {
      "text/plain": "0.8823529411764706"
     },
     "metadata": {},
     "output_type": "execute_result",
     "execution_count": 7
    }
   ],
   "source": [
    "p = len(df_dropna) / len(df) # 无缺失值所占的比例\n",
    "p"
   ],
   "metadata": {
    "collapsed": false,
    "pycharm": {
     "name": "#%%\n",
     "is_executing": false
    }
   }
  },
  {
   "cell_type": "code",
   "execution_count": 8,
   "outputs": [],
   "source": [
    "def info_gain(dataframe, feature_name):\n",
    "    \"\"\"特征feature_name划分数据集dataframe的信息增益\"\"\"\n",
    "    def calc_ent(dataframe): # 局部函数\n",
    "        \"\"\"计算熵\"\"\"\n",
    "        counter = Counter(dataframe.iloc[:, -1]) # 不同类的个数\n",
    "        pro_vector = np.array(list(counter.values())) / len(dataframe) # 不同类所占的比例\n",
    "        res =  - pro_vector @ np.log2(pro_vector)\n",
    "\n",
    "        return  res\n",
    "    \n",
    "    def calc_cond_ent(dataframe, feature_name):\n",
    "        \"\"\"计算条件熵\"\"\"\n",
    "        conter = Counter(dataframe.loc[:, feature_name]) # 特征feature_name不同取值的个数\n",
    "        data_length = len(dataframe)\n",
    "        pro_vector = np.array(list(conter.values())) / data_length # 特征feature_name不同取值的所占的比例\n",
    "        hd_vector = list()\n",
    "        for i in conter.keys():\n",
    "            hd_vector.append(calc_ent(dataframe.iloc[np.argwhere(dataframe.loc[:, feature_name].values==i).reshape(1, -1)[0]]))\n",
    "        result = pro_vector @ hd_vector # 条件熵\n",
    "    \n",
    "        return result\n",
    "    \n",
    "    return calc_ent(dataframe) - calc_cond_ent(dataframe, feature_name) # 信息增益"
   ],
   "metadata": {
    "collapsed": false,
    "pycharm": {
     "name": "#%%\n",
     "is_executing": false
    }
   }
  },
  {
   "cell_type": "code",
   "execution_count": 9,
   "outputs": [
    {
     "data": {
      "text/plain": "0.42356026795361434"
     },
     "metadata": {},
     "output_type": "execute_result",
     "execution_count": 9
    }
   ],
   "source": [
    "info_gain(df_dropna, '纹理') * p # 信息增益的推广"
   ],
   "metadata": {
    "collapsed": false,
    "pycharm": {
     "name": "#%%\n",
     "is_executing": false
    }
   }
  },
  {
   "cell_type": "code",
   "execution_count": 10,
   "outputs": [],
   "source": [
    "def weight(dataframe, feature, name):\n",
    "    feature_dropna = dict(Counter(dataframe[feature].dropna())) # 特征feature的不同取值(非NaN)的个数\n",
    "    na_part = dataframe[dataframe[feature].isna()]\n",
    "    # 编号{8, 10}在样本属性\"纹理\"上出现了缺失值,因此它将同时进入三个分支中,但权重在三个子结点中分别调整为7/15,5/15,3/15\n",
    "    change_weight = na_part.loc[:, '权重'] * \\\n",
    "                    (feature_dropna[name] / sum(feature_dropna.values())) # 更新权重\n",
    "    na_part.loc[:, '权重'] = change_weight\n",
    "    name_park = dataframe[dataframe[feature] == name]\n",
    "    \n",
    "    return  pd.concat([na_part, name_park])\n",
    "    "
   ],
   "metadata": {
    "collapsed": false,
    "pycharm": {
     "name": "#%%\n",
     "is_executing": false
    }
   }
  },
  {
   "cell_type": "code",
   "execution_count": 15,
   "outputs": [
    {
     "data": {
      "text/plain": "    编号   色泽  根蒂   敲声   纹理   脐部   触感 好瓜        权重\n7    8   乌黑  稍蜷   浊响  NaN   稍凹   硬滑  是  0.466667\n9   10   青绿  硬挺   清脆  NaN   平坦   软粘  否  0.466667\n0    1  NaN  蜷缩   浊响   清晰   凹陷   硬滑  是  1.000000\n1    2   乌黑  蜷缩   沉闷   清晰   凹陷  NaN  是  1.000000\n2    3   乌黑  蜷缩  NaN   清晰   凹陷   硬滑  是  1.000000\n3    4   青绿  蜷缩   沉闷   清晰   凹陷   硬滑  是  1.000000\n4    5  NaN  蜷缩   浊响   清晰   凹陷   硬滑  是  1.000000\n5    6   青绿  稍蜷   浊响   清晰  NaN   软粘  是  1.000000\n14  15   乌黑  稍蜷   浊响   清晰  NaN   软粘  否  1.000000",
      "text/html": "<div>\n<style scoped>\n    .dataframe tbody tr th:only-of-type {\n        vertical-align: middle;\n    }\n\n    .dataframe tbody tr th {\n        vertical-align: top;\n    }\n\n    .dataframe thead th {\n        text-align: right;\n    }\n</style>\n<table border=\"1\" class=\"dataframe\">\n  <thead>\n    <tr style=\"text-align: right;\">\n      <th></th>\n      <th>编号</th>\n      <th>色泽</th>\n      <th>根蒂</th>\n      <th>敲声</th>\n      <th>纹理</th>\n      <th>脐部</th>\n      <th>触感</th>\n      <th>好瓜</th>\n      <th>权重</th>\n    </tr>\n  </thead>\n  <tbody>\n    <tr>\n      <td>7</td>\n      <td>8</td>\n      <td>乌黑</td>\n      <td>稍蜷</td>\n      <td>浊响</td>\n      <td>NaN</td>\n      <td>稍凹</td>\n      <td>硬滑</td>\n      <td>是</td>\n      <td>0.466667</td>\n    </tr>\n    <tr>\n      <td>9</td>\n      <td>10</td>\n      <td>青绿</td>\n      <td>硬挺</td>\n      <td>清脆</td>\n      <td>NaN</td>\n      <td>平坦</td>\n      <td>软粘</td>\n      <td>否</td>\n      <td>0.466667</td>\n    </tr>\n    <tr>\n      <td>0</td>\n      <td>1</td>\n      <td>NaN</td>\n      <td>蜷缩</td>\n      <td>浊响</td>\n      <td>清晰</td>\n      <td>凹陷</td>\n      <td>硬滑</td>\n      <td>是</td>\n      <td>1.000000</td>\n    </tr>\n    <tr>\n      <td>1</td>\n      <td>2</td>\n      <td>乌黑</td>\n      <td>蜷缩</td>\n      <td>沉闷</td>\n      <td>清晰</td>\n      <td>凹陷</td>\n      <td>NaN</td>\n      <td>是</td>\n      <td>1.000000</td>\n    </tr>\n    <tr>\n      <td>2</td>\n      <td>3</td>\n      <td>乌黑</td>\n      <td>蜷缩</td>\n      <td>NaN</td>\n      <td>清晰</td>\n      <td>凹陷</td>\n      <td>硬滑</td>\n      <td>是</td>\n      <td>1.000000</td>\n    </tr>\n    <tr>\n      <td>3</td>\n      <td>4</td>\n      <td>青绿</td>\n      <td>蜷缩</td>\n      <td>沉闷</td>\n      <td>清晰</td>\n      <td>凹陷</td>\n      <td>硬滑</td>\n      <td>是</td>\n      <td>1.000000</td>\n    </tr>\n    <tr>\n      <td>4</td>\n      <td>5</td>\n      <td>NaN</td>\n      <td>蜷缩</td>\n      <td>浊响</td>\n      <td>清晰</td>\n      <td>凹陷</td>\n      <td>硬滑</td>\n      <td>是</td>\n      <td>1.000000</td>\n    </tr>\n    <tr>\n      <td>5</td>\n      <td>6</td>\n      <td>青绿</td>\n      <td>稍蜷</td>\n      <td>浊响</td>\n      <td>清晰</td>\n      <td>NaN</td>\n      <td>软粘</td>\n      <td>是</td>\n      <td>1.000000</td>\n    </tr>\n    <tr>\n      <td>14</td>\n      <td>15</td>\n      <td>乌黑</td>\n      <td>稍蜷</td>\n      <td>浊响</td>\n      <td>清晰</td>\n      <td>NaN</td>\n      <td>软粘</td>\n      <td>否</td>\n      <td>1.000000</td>\n    </tr>\n  </tbody>\n</table>\n</div>"
     },
     "metadata": {},
     "output_type": "execute_result",
     "execution_count": 15
    }
   ],
   "source": [
    "weight(df, '纹理', '清晰')"
   ],
   "metadata": {
    "collapsed": false,
    "pycharm": {
     "name": "#%%\n",
     "is_executing": false
    }
   }
  },
  {
   "cell_type": "code",
   "execution_count": 16,
   "outputs": [
    {
     "data": {
      "text/plain": "    编号  色泽  根蒂   敲声   纹理  脐部   触感 好瓜   权重\n7    8  乌黑  稍蜷   浊响  NaN  稍凹   硬滑  是  0.2\n9   10  青绿  硬挺   清脆  NaN  平坦   软粘  否  0.2\n10  11  浅白  硬挺   清脆   模糊  平坦  NaN  否  1.0\n11  12  浅白  蜷缩  NaN   模糊  平坦   软粘  否  1.0\n15  16  浅白  蜷缩   浊响   模糊  平坦   硬滑  否  1.0",
      "text/html": "<div>\n<style scoped>\n    .dataframe tbody tr th:only-of-type {\n        vertical-align: middle;\n    }\n\n    .dataframe tbody tr th {\n        vertical-align: top;\n    }\n\n    .dataframe thead th {\n        text-align: right;\n    }\n</style>\n<table border=\"1\" class=\"dataframe\">\n  <thead>\n    <tr style=\"text-align: right;\">\n      <th></th>\n      <th>编号</th>\n      <th>色泽</th>\n      <th>根蒂</th>\n      <th>敲声</th>\n      <th>纹理</th>\n      <th>脐部</th>\n      <th>触感</th>\n      <th>好瓜</th>\n      <th>权重</th>\n    </tr>\n  </thead>\n  <tbody>\n    <tr>\n      <td>7</td>\n      <td>8</td>\n      <td>乌黑</td>\n      <td>稍蜷</td>\n      <td>浊响</td>\n      <td>NaN</td>\n      <td>稍凹</td>\n      <td>硬滑</td>\n      <td>是</td>\n      <td>0.2</td>\n    </tr>\n    <tr>\n      <td>9</td>\n      <td>10</td>\n      <td>青绿</td>\n      <td>硬挺</td>\n      <td>清脆</td>\n      <td>NaN</td>\n      <td>平坦</td>\n      <td>软粘</td>\n      <td>否</td>\n      <td>0.2</td>\n    </tr>\n    <tr>\n      <td>10</td>\n      <td>11</td>\n      <td>浅白</td>\n      <td>硬挺</td>\n      <td>清脆</td>\n      <td>模糊</td>\n      <td>平坦</td>\n      <td>NaN</td>\n      <td>否</td>\n      <td>1.0</td>\n    </tr>\n    <tr>\n      <td>11</td>\n      <td>12</td>\n      <td>浅白</td>\n      <td>蜷缩</td>\n      <td>NaN</td>\n      <td>模糊</td>\n      <td>平坦</td>\n      <td>软粘</td>\n      <td>否</td>\n      <td>1.0</td>\n    </tr>\n    <tr>\n      <td>15</td>\n      <td>16</td>\n      <td>浅白</td>\n      <td>蜷缩</td>\n      <td>浊响</td>\n      <td>模糊</td>\n      <td>平坦</td>\n      <td>硬滑</td>\n      <td>否</td>\n      <td>1.0</td>\n    </tr>\n  </tbody>\n</table>\n</div>"
     },
     "metadata": {},
     "output_type": "execute_result",
     "execution_count": 16
    }
   ],
   "source": [
    "weight(df, '纹理', '模糊')"
   ],
   "metadata": {
    "collapsed": false,
    "pycharm": {
     "name": "#%%\n",
     "is_executing": false
    }
   }
  },
  {
   "cell_type": "code",
   "execution_count": 17,
   "outputs": [
    {
     "data": {
      "text/plain": "    编号   色泽   根蒂  敲声   纹理  脐部  触感 好瓜        权重\n7    8   乌黑   稍蜷  浊响  NaN  稍凹  硬滑  是  0.333333\n9   10   青绿   硬挺  清脆  NaN  平坦  软粘  否  0.333333\n6    7   乌黑   稍蜷  浊响   稍糊  稍凹  软粘  是  1.000000\n8    9   乌黑  NaN  沉闷   稍糊  稍凹  硬滑  否  1.000000\n12  13  NaN   稍蜷  浊响   稍糊  凹陷  硬滑  否  1.000000\n13  14   浅白   稍蜷  沉闷   稍糊  凹陷  硬滑  否  1.000000\n16  17   青绿  NaN  沉闷   稍糊  稍凹  硬滑  否  1.000000",
      "text/html": "<div>\n<style scoped>\n    .dataframe tbody tr th:only-of-type {\n        vertical-align: middle;\n    }\n\n    .dataframe tbody tr th {\n        vertical-align: top;\n    }\n\n    .dataframe thead th {\n        text-align: right;\n    }\n</style>\n<table border=\"1\" class=\"dataframe\">\n  <thead>\n    <tr style=\"text-align: right;\">\n      <th></th>\n      <th>编号</th>\n      <th>色泽</th>\n      <th>根蒂</th>\n      <th>敲声</th>\n      <th>纹理</th>\n      <th>脐部</th>\n      <th>触感</th>\n      <th>好瓜</th>\n      <th>权重</th>\n    </tr>\n  </thead>\n  <tbody>\n    <tr>\n      <td>7</td>\n      <td>8</td>\n      <td>乌黑</td>\n      <td>稍蜷</td>\n      <td>浊响</td>\n      <td>NaN</td>\n      <td>稍凹</td>\n      <td>硬滑</td>\n      <td>是</td>\n      <td>0.333333</td>\n    </tr>\n    <tr>\n      <td>9</td>\n      <td>10</td>\n      <td>青绿</td>\n      <td>硬挺</td>\n      <td>清脆</td>\n      <td>NaN</td>\n      <td>平坦</td>\n      <td>软粘</td>\n      <td>否</td>\n      <td>0.333333</td>\n    </tr>\n    <tr>\n      <td>6</td>\n      <td>7</td>\n      <td>乌黑</td>\n      <td>稍蜷</td>\n      <td>浊响</td>\n      <td>稍糊</td>\n      <td>稍凹</td>\n      <td>软粘</td>\n      <td>是</td>\n      <td>1.000000</td>\n    </tr>\n    <tr>\n      <td>8</td>\n      <td>9</td>\n      <td>乌黑</td>\n      <td>NaN</td>\n      <td>沉闷</td>\n      <td>稍糊</td>\n      <td>稍凹</td>\n      <td>硬滑</td>\n      <td>否</td>\n      <td>1.000000</td>\n    </tr>\n    <tr>\n      <td>12</td>\n      <td>13</td>\n      <td>NaN</td>\n      <td>稍蜷</td>\n      <td>浊响</td>\n      <td>稍糊</td>\n      <td>凹陷</td>\n      <td>硬滑</td>\n      <td>否</td>\n      <td>1.000000</td>\n    </tr>\n    <tr>\n      <td>13</td>\n      <td>14</td>\n      <td>浅白</td>\n      <td>稍蜷</td>\n      <td>沉闷</td>\n      <td>稍糊</td>\n      <td>凹陷</td>\n      <td>硬滑</td>\n      <td>否</td>\n      <td>1.000000</td>\n    </tr>\n    <tr>\n      <td>16</td>\n      <td>17</td>\n      <td>青绿</td>\n      <td>NaN</td>\n      <td>沉闷</td>\n      <td>稍糊</td>\n      <td>稍凹</td>\n      <td>硬滑</td>\n      <td>否</td>\n      <td>1.000000</td>\n    </tr>\n  </tbody>\n</table>\n</div>"
     },
     "metadata": {},
     "output_type": "execute_result",
     "execution_count": 17
    }
   ],
   "source": [
    "weight(df, '纹理', '稍糊')"
   ],
   "metadata": {
    "collapsed": false,
    "pycharm": {
     "name": "#%%\n",
     "is_executing": false
    }
   }
  },
  {
   "cell_type": "code",
   "execution_count": null,
   "outputs": [],
   "source": [
    "\n"
   ],
   "metadata": {
    "collapsed": false,
    "pycharm": {
     "name": "#%%\n"
    }
   }
  }
 ],
 "metadata": {
  "kernelspec": {
   "display_name": "Python 3",
   "language": "python",
   "name": "python3"
  },
  "language_info": {
   "codemirror_mode": {
    "name": "ipython",
    "version": 2
   },
   "file_extension": ".py",
   "mimetype": "text/x-python",
   "name": "python",
   "nbconvert_exporter": "python",
   "pygments_lexer": "ipython2",
   "version": "2.7.6"
  },
  "pycharm": {
   "stem_cell": {
    "cell_type": "raw",
    "source": [],
    "metadata": {
     "collapsed": false
    }
   }
  }
 },
 "nbformat": 4,
 "nbformat_minor": 0
}