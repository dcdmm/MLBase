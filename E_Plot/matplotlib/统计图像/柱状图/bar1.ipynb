{
 "cells": [
  {
   "cell_type": "code",
   "execution_count": 1,
   "outputs": [
    {
     "data": {
      "text/plain": "'\\nget_height:Return the height of the rectangle.\\nget_width:Return the width of the rectangle.\\nget_x:Return the left coord of the rectangle.\\nget_y:Return the bottom coord of the rectangle.\\n'"
     },
     "metadata": {},
     "output_type": "execute_result",
     "execution_count": 1
    },
    {
     "data": {
      "text/plain": "<Figure size 720x504 with 1 Axes>",
      "image/png": "[encoded data removed]"
     },
     "metadata": {
      "needs_background": "light"
     },
     "output_type": "display_data"
    }
   ],
   "source": [
    "import matplotlib.pyplot as plt\n",
    "import matplotlib\n",
    "\n",
    "# 设置中文字体和负号正常显示\n",
    "matplotlib.rcParams['font.sans-serif'] = ['SimHei']\n",
    "matplotlib.rcParams['axes.unicode_minus'] = False\n",
    "\n",
    "label_list = ['2014', '2015', '2016', '2017'] \n",
    "num_list1 = [20, 30, 15, 35] \n",
    "num_list2 = [15, 30, 40, 20] \n",
    "x = range(len(num_list1))\n",
    "fig = plt.figure(figsize=(10, 7))\n",
    "ax = plt.subplot(111)\n",
    "rects1 = ax.bar(x, height=num_list1, width=0.4, alpha=0.8, \n",
    "                 facecolor='red',edgecolor='black', label=\"一部门\")\n",
    "rects2 = ax.bar([i + 0.4 for i in x], height=num_list2, \n",
    "                 width=0.4, facecolor='green',edgecolor='red', label=\"二部门\")\n",
    "\n",
    "ax.set_ylim(0, 50) \n",
    "ax.set_ylabel(\"数量\")\n",
    "ax.set_xticks([index + 0.2 for index in x], label_list)\n",
    "ax.set_xlabel(\"年份\")\n",
    "ax.set_title(\"某某公司\")\n",
    "ax.legend(loc='best')\n",
    "\n",
    "for rect in rects1:\n",
    "    height = rect.get_height() \n",
    "    ax.text(rect.get_x() + rect.get_width() / 2, height+1, str(height), ha=\"center\", va=\"bottom\")\n",
    "for rect in rects2:\n",
    "    height = rect.get_height()\n",
    "    ax.text(rect.get_x() + rect.get_width() / 2, height+1, str(height), ha=\"center\", va=\"bottom\")\n",
    "'''\n",
    "get_height:Return the height of the rectangle.\n",
    "get_width:Return the width of the rectangle.\n",
    "get_x:Return the left coord of the rectangle.\n",
    "get_y:Return the bottom coord of the rectangle.\n",
    "'''"
   ],
   "metadata": {
    "collapsed": false,
    "pycharm": {
     "name": "#%%\n",
     "is_executing": false
    }
   }
  },
  {
   "cell_type": "code",
   "execution_count": 2,
   "metadata": {
    "pycharm": {
     "is_executing": false
    }
   },
   "outputs": [
    {
     "name": "stdout",
     "text": [
      "<class 'matplotlib.patches.Rectangle'>\n",
      "<class 'matplotlib.patches.Rectangle'>\n",
      "<class 'matplotlib.patches.Rectangle'>\n",
      "<class 'matplotlib.patches.Rectangle'>\n"
     ],
     "output_type": "stream"
    }
   ],
   "source": [
    "for i in rects1:\n",
    "    print(type(i)) #类型为:Rectangle"
   ]
  },
  {
   "cell_type": "code",
   "execution_count": 2,
   "outputs": [],
   "source": "\n",
   "metadata": {
    "pycharm": {
     "metadata": false,
     "name": "#%%\n",
     "is_executing": false
    }
   }
  }
 ],
 "metadata": {
  "kernelspec": {
   "display_name": "Python 3",
   "language": "python",
   "name": "python3"
  },
  "language_info": {
   "codemirror_mode": {
    "name": "ipython",
    "version": 3
   },
   "file_extension": ".py",
   "mimetype": "text/x-python",
   "name": "python",
   "nbconvert_exporter": "python",
   "pygments_lexer": "ipython3",
   "version": "3.6.5"
  },
  "pycharm": {
   "stem_cell": {
    "cell_type": "raw",
    "source": [],
    "metadata": {
     "collapsed": false
    }
   }
  }
 },
 "nbformat": 4,
 "nbformat_minor": 2
}