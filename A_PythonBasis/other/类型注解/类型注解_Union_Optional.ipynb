{
 "cells": [
  {
   "cell_type": "markdown",
   "metadata": {
    "collapsed": true,
    "pycharm": {
     "name": "#%% md\n"
    }
   },
   "source": [
    "### Union\n",
    "\n",
    "Unions of unions are flattened, e.g.:\n",
    "```pyhton\n",
    "Union[Union[int, str], float] == Union[int, str, float]\n",
    "```\n",
    "\n",
    "Unions of a single argument vanish, e.g.:\n",
    "```python\n",
    "Union[int] == int  # The constructor actually returns int\n",
    "```\n",
    "\n",
    "Redundant arguments are skipped, e.g.:\n",
    "```python\n",
    "Union[int, str, int] == Union[int, str] == int | str\n",
    "```\n",
    "\n",
    "When comparing unions, the argument order is ignored, e.g.:\n",
    "```python\n",
    "Union[int, str] == Union[str, int]\n",
    "```"
   ]
  },
  {
   "cell_type": "code",
   "execution_count": 8,
   "outputs": [
    {
     "name": "stdout",
     "output_type": "stream",
     "text": [
      "{'x': typing.Union[int, bool], 'return': <class 'int'>}\n",
      "1\n",
      "1\n",
      "1\n",
      "1\n",
      "1\n",
      "1\n"
     ]
    }
   ],
   "source": [
    "from typing import Union\n",
    "\n",
    "\n",
    "# x的类型为int或bool类型\n",
    "def func_Union(x: Union[int, bool]) -> int:\n",
    "    return 1\n",
    "\n",
    "\n",
    "def func_Union1(x: int or bool) -> int:  # 与上等级\n",
    "    return 1\n",
    "\n",
    "\n",
    "print(func_Union.__annotations__)\n",
    "\n",
    "print(func_Union(x=3))\n",
    "print(func_Union(x=False))\n",
    "print(func_Union(x=3.14))  # 提示类型不匹配\n",
    "\n",
    "print(func_Union1(x=3))\n",
    "print(func_Union1(x=False))\n",
    "print(func_Union1(x=3.14))  # 提示类型不匹配"
   ],
   "metadata": {
    "collapsed": false,
    "pycharm": {
     "name": "#%%\n"
    }
   }
  },
  {
   "cell_type": "markdown",
   "source": [
    "### Optional"
   ],
   "metadata": {
    "collapsed": false,
    "pycharm": {
     "name": "#%% md\n"
    }
   }
  },
  {
   "cell_type": "code",
   "execution_count": 9,
   "outputs": [
    {
     "name": "stdout",
     "output_type": "stream",
     "text": [
      "{'x': typing.Union[int, NoneType], 'return': <class 'int'>}\n",
      "1\n",
      "1\n",
      "1\n",
      "1\n",
      "1\n",
      "1\n",
      "1\n",
      "1\n"
     ]
    }
   ],
   "source": [
    "from typing import Optional\n",
    "\n",
    "\n",
    "def func_Optional(x: Optional[int]) -> int:\n",
    "    return 1\n",
    "\n",
    "\n",
    "def func_Optional1(x: int or None) -> int:  # 与上等级\n",
    "    return 1\n",
    "\n",
    "\n",
    "print(func_Optional.__annotations__)\n",
    "\n",
    "print(func_Optional(x=3))\n",
    "print(func_Optional(x=False))\n",
    "print(func_Optional(x=None))\n",
    "print(func_Optional(x=3.14))  # 提示类型不匹配\n",
    "\n",
    "print(func_Optional1(x=3))\n",
    "print(func_Optional1(x=False))\n",
    "print(func_Optional1(x=None))\n",
    "print(func_Optional1(x=3.14))  # 提示类型不匹配"
   ],
   "metadata": {
    "collapsed": false,
    "pycharm": {
     "name": "#%%\n"
    }
   }
  }
 ],
 "metadata": {
  "kernelspec": {
   "display_name": "Python 3",
   "language": "python",
   "name": "python3"
  },
  "language_info": {
   "codemirror_mode": {
    "name": "ipython",
    "version": 2
   },
   "file_extension": ".py",
   "mimetype": "text/x-python",
   "name": "python",
   "nbconvert_exporter": "python",
   "pygments_lexer": "ipython2",
   "version": "2.7.6"
  }
 },
 "nbformat": 4,
 "nbformat_minor": 0
}