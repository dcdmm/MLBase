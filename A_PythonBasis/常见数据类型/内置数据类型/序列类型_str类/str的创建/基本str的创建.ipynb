{
 "cells": [
  {
   "metadata": {},
   "cell_type": "markdown",
   "source": "Textual data in Python is handled with str objects, or strings. Strings are immutable sequences of Unicode code points."
  },
  {
   "metadata": {
    "ExecuteTime": {
     "end_time": "2024-07-10T08:03:21.183226Z",
     "start_time": "2024-07-10T08:03:21.179980Z"
    }
   },
   "cell_type": "code",
   "source": [
    "name_0 = 'duanchao'\n",
    "name_1 = \"duanchao\"  # 字符串可以用单引号或双引号括起来\n",
    "\n",
    "poem = \"\"\"hello world,\n",
    "hello python\n",
    "    hello c++\n",
    "hello rust\n",
    "    hello java\"\"\"  # 三引号表示多行字符串(每两行间有一个隐藏的换行符)\n",
    "print(poem)"
   ],
   "outputs": [
    {
     "name": "stdout",
     "output_type": "stream",
     "text": [
      "hello world,\n",
      "hello python\n",
      "    hello c++\n",
      "hello rust\n",
      "    hello java\n"
     ]
    }
   ],
   "execution_count": 268
  },
  {
   "cell_type": "code",
   "source": [
    "example0 = (\"dcdmm\"\n",
    "            \"dcgo\"\n",
    "\n",
    "            \"hello world\")\n",
    "example0_ = \"dcdmm\" \\\n",
    "            \"dcgo\" \\\n",
    "            \"hello world\"\n",
    "print(example0_, type(example0_))  # 字符串;\n",
    "print(example0, type(example0))  # 字符串;与上等价(更加简介)\n",
    "\n",
    "example1 = (\"dcgo\",)\n",
    "print(example1, type(example1))  # 元组"
   ],
   "metadata": {
    "collapsed": false,
    "pycharm": {
     "name": "#%%\n"
    },
    "ExecuteTime": {
     "end_time": "2024-07-10T08:03:21.192975Z",
     "start_time": "2024-07-10T08:03:21.184177Z"
    }
   },
   "outputs": [
    {
     "name": "stdout",
     "output_type": "stream",
     "text": [
      "dcdmmdcgohello world <class 'str'>\n",
      "dcdmmdcgohello world <class 'str'>\n",
      "('dcgo',) <class 'tuple'>\n"
     ]
    }
   ],
   "execution_count": 269
  },
  {
   "cell_type": "code",
   "source": [
    "# 字符串中带双引号\n",
    "print(\"duanchao is \\\"good\\\"\")  # 转义字符\\对\"进行转义\n",
    "print(\"\"\"duanchao is \\\"good\\\"\"\"\")  # 转义字符\\对\"进行转义\n",
    "print(\"\"\"duanchao is \\\"\\\"\\\"good\\\"\\\"\\\"\"\"\")  # 转义字符\\对\"进行转义\n",
    "print('duanchao is \"good\"')  # 这样也可输出\"\n",
    "\n",
    "# 字符串中带单引号\n",
    "print('duanchao is \\'good\\'')  # 转义字符'\\'对'进行转义\n",
    "print(\"duanchao is 'good'\")  # 这样也可输出'\n",
    "print(\"\"\"duanchao is 'good'\"\"\")  # 这样也可输出'"
   ],
   "metadata": {
    "pycharm": {
     "metadata": false,
     "name": "#%%\n"
    },
    "ExecuteTime": {
     "end_time": "2024-07-10T08:03:21.200961Z",
     "start_time": "2024-07-10T08:03:21.192975Z"
    }
   },
   "outputs": [
    {
     "name": "stdout",
     "output_type": "stream",
     "text": [
      "duanchao is \"good\"\n",
      "duanchao is \"good\"\n",
      "duanchao is \"\"\"good\"\"\"\n",
      "duanchao is \"good\"\n",
      "duanchao is 'good'\n",
      "duanchao is 'good'\n",
      "duanchao is 'good'\n"
     ]
    }
   ],
   "execution_count": 270
  },
  {
   "cell_type": "code",
   "source": [
    "str(123)  # str(object='') -> str"
   ],
   "metadata": {
    "pycharm": {
     "metadata": false,
     "name": "#%%\n"
    },
    "ExecuteTime": {
     "end_time": "2024-07-10T08:03:21.208697Z",
     "start_time": "2024-07-10T08:03:21.200961Z"
    }
   },
   "outputs": [
    {
     "data": {
      "text/plain": [
       "'123'"
      ]
     },
     "execution_count": 271,
     "metadata": {},
     "output_type": "execute_result"
    }
   ],
   "execution_count": 271
  },
  {
   "cell_type": "code",
   "source": [
    "dict_string = {'runoob': 'runoob.com', 'google': 'google.com'}\n",
    "str(dict_string)"
   ],
   "metadata": {
    "collapsed": false,
    "pycharm": {
     "name": "#%%\n"
    },
    "ExecuteTime": {
     "end_time": "2024-07-10T08:03:21.216868Z",
     "start_time": "2024-07-10T08:03:21.209701Z"
    }
   },
   "outputs": [
    {
     "data": {
      "text/plain": [
       "\"{'runoob': 'runoob.com', 'google': 'google.com'}\""
      ]
     },
     "execution_count": 272,
     "metadata": {},
     "output_type": "execute_result"
    }
   ],
   "execution_count": 272
  },
  {
   "cell_type": "code",
   "source": [
    "lst = [1, 2, 3, 4, '5']\n",
    "str(lst)"
   ],
   "metadata": {
    "collapsed": false,
    "pycharm": {
     "name": "#%%\n"
    },
    "ExecuteTime": {
     "end_time": "2024-07-10T08:03:21.224809Z",
     "start_time": "2024-07-10T08:03:21.216868Z"
    }
   },
   "outputs": [
    {
     "data": {
      "text/plain": [
       "\"[1, 2, 3, 4, '5']\""
      ]
     },
     "execution_count": 273,
     "metadata": {},
     "output_type": "execute_result"
    }
   ],
   "execution_count": 273
  }
 ],
 "metadata": {
  "language_info": {
   "codemirror_mode": {
    "name": "ipython",
    "version": 2
   },
   "file_extension": ".py",
   "mimetype": "text/x-python",
   "name": "python",
   "nbconvert_exporter": "python",
   "pygments_lexer": "ipython2",
   "version": "2.7.6"
  },
  "kernelspec": {
   "name": "python3",
   "language": "python",
   "display_name": "Python 3"
  }
 },
 "nbformat": 4,
 "nbformat_minor": 0
}
