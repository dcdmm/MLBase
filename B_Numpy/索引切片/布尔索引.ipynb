{
 "cells": [
  {
   "cell_type": "code",
   "execution_count": 13,
   "outputs": [
    {
     "name": "stdout",
     "output_type": "stream",
     "text": [
      "['Bob' 'Joe' 'Will' 'Bob' 'Will' 'Joe' 'Joe']\n",
      "[[-1.86678605 -1.11697981  1.67629489 -1.55692094]\n",
      " [-0.18951361  1.99778106 -0.61715899  0.51179054]\n",
      " [-1.05670269 -1.77681923 -0.6166837   1.30061051]\n",
      " [-0.49493319  0.29427605 -0.45616456  0.4324433 ]\n",
      " [ 0.24933667  0.66035225  0.48348888  0.24387146]\n",
      " [-1.36662527  0.59120309  0.56429657 -0.76420351]\n",
      " [-0.15531136  1.93064765 -0.59574102  0.70030189]]\n"
     ]
    }
   ],
   "source": [
    "import numpy as np\n",
    "\n",
    "names = np.array(['Bob', 'Joe', 'Will', 'Bob', 'Will', 'Joe', 'Joe'])\n",
    "data = np.random.randn(7, 4)\n",
    "print(names)\n",
    "print(data)"
   ],
   "metadata": {
    "pycharm": {
     "metadata": false,
     "name": "#%%\n"
    }
   }
  },
  {
   "cell_type": "code",
   "execution_count": 14,
   "outputs": [
    {
     "data": {
      "text/plain": "array([ True, False, False,  True, False, False, False])"
     },
     "execution_count": 14,
     "metadata": {},
     "output_type": "execute_result"
    }
   ],
   "source": [
    "check = names == 'Bob'\n",
    "check"
   ],
   "metadata": {
    "pycharm": {
     "metadata": false,
     "name": "#%%\n"
    }
   }
  },
  {
   "cell_type": "code",
   "execution_count": 15,
   "outputs": [
    {
     "data": {
      "text/plain": "array([[-1.86678605, -1.11697981,  1.67629489, -1.55692094],\n       [-0.49493319,  0.29427605, -0.45616456,  0.4324433 ]])"
     },
     "execution_count": 15,
     "metadata": {},
     "output_type": "execute_result"
    }
   ],
   "source": [
    "data[check]  # 第零个维度上的布尔索引"
   ],
   "metadata": {
    "pycharm": {
     "metadata": false,
     "name": "#%%\n"
    }
   }
  },
  {
   "cell_type": "code",
   "execution_count": 16,
   "outputs": [
    {
     "data": {
      "text/plain": "array([[-1.86678605, -1.55692094],\n       [-0.18951361,  0.51179054],\n       [-1.05670269,  1.30061051],\n       [-0.49493319,  0.4324433 ],\n       [ 0.24933667,  0.24387146],\n       [-1.36662527, -0.76420351],\n       [-0.15531136,  0.70030189]])"
     },
     "execution_count": 16,
     "metadata": {},
     "output_type": "execute_result"
    }
   ],
   "source": [
    "data[:, check[:4]]  # 第一个维度上的布尔切片"
   ],
   "metadata": {
    "pycharm": {
     "metadata": false,
     "name": "#%%\n"
    }
   }
  },
  {
   "cell_type": "code",
   "execution_count": 17,
   "outputs": [
    {
     "name": "stdout",
     "output_type": "stream",
     "text": [
      "[[ 1.67629489 -1.55692094]\n",
      " [-0.45616456  0.4324433 ]]\n",
      "[[ 1.67629489 -1.55692094]\n",
      " [-0.45616456  0.4324433 ]]\n"
     ]
    }
   ],
   "source": [
    "print(data[names == 'Bob', 2:])\n",
    "print(data[names == 'Bob', 2:])"
   ],
   "metadata": {
    "pycharm": {
     "metadata": false,
     "name": "#%%\n"
    }
   }
  },
  {
   "cell_type": "code",
   "execution_count": 18,
   "outputs": [
    {
     "name": "stdout",
     "output_type": "stream",
     "text": [
      "[False  True  True False  True  True  True]\n",
      "[ True False False  True False False False]\n",
      "[[-1.86678605 -1.11697981  1.67629489 -1.55692094]\n",
      " [-0.49493319  0.29427605 -0.45616456  0.4324433 ]]\n"
     ]
    }
   ],
   "source": [
    "print(names != 'Bob')\n",
    "print(~(names != 'Bob')) # ~:取反\n",
    "print(data[~(names != 'Bob')])"
   ],
   "metadata": {
    "pycharm": {
     "metadata": false,
     "name": "#%%\n"
    }
   }
  },
  {
   "cell_type": "code",
   "execution_count": 19,
   "outputs": [
    {
     "name": "stdout",
     "output_type": "stream",
     "text": [
      "[ True False  True  True  True False False]\n",
      "[[-1.86678605 -1.11697981  1.67629489 -1.55692094]\n",
      " [-1.05670269 -1.77681923 -0.6166837   1.30061051]\n",
      " [-0.49493319  0.29427605 -0.45616456  0.4324433 ]\n",
      " [ 0.24933667  0.66035225  0.48348888  0.24387146]]\n"
     ]
    }
   ],
   "source": [
    "mask = (names == 'Bob') | (names == 'Will')  # |:并集,不能使用关键字or\n",
    "print(mask)\n",
    "print(data[mask])"
   ],
   "metadata": {
    "pycharm": {
     "metadata": false,
     "name": "#%%\n"
    }
   }
  },
  {
   "cell_type": "code",
   "execution_count": 20,
   "outputs": [
    {
     "name": "stdout",
     "output_type": "stream",
     "text": [
      "[False False False False False False False]\n",
      "[]\n"
     ]
    }
   ],
   "source": [
    "mask1 = (names == 'Bob') & (names == 'Will')  # &:交集,不能使用关键字and\n",
    "print(mask1)\n",
    "print(data[mask1])"
   ],
   "metadata": {
    "pycharm": {
     "metadata": false,
     "name": "#%%\n"
    }
   }
  },
  {
   "cell_type": "code",
   "execution_count": 21,
   "outputs": [
    {
     "data": {
      "text/plain": "array([[ True,  True, False,  True],\n       [ True, False,  True, False],\n       [ True,  True,  True, False],\n       [ True, False,  True, False],\n       [False, False, False, False],\n       [ True, False, False,  True],\n       [ True, False,  True, False]])"
     },
     "execution_count": 21,
     "metadata": {},
     "output_type": "execute_result"
    }
   ],
   "source": [
    "s = data < 0\n",
    "s"
   ],
   "metadata": {
    "pycharm": {
     "metadata": false,
     "name": "#%%\n"
    }
   }
  },
  {
   "cell_type": "code",
   "execution_count": 22,
   "outputs": [
    {
     "name": "stdout",
     "output_type": "stream",
     "text": [
      "(14,)\n",
      "[-1.86678605 -1.11697981 -1.55692094 -0.18951361 -0.61715899 -1.05670269\n",
      " -1.77681923 -0.6166837  -0.49493319 -0.45616456 -1.36662527 -0.76420351\n",
      " -0.15531136 -0.59574102]\n"
     ]
    }
   ],
   "source": [
    "# 所有s中不为False处的元素\n",
    "print(data[s].shape)\n",
    "print(data[s])"
   ],
   "metadata": {
    "collapsed": false,
    "pycharm": {
     "name": "#%%\n"
    }
   }
  },
  {
   "cell_type": "code",
   "execution_count": 23,
   "outputs": [
    {
     "data": {
      "text/plain": "array([[0.        , 0.        , 1.67629489, 0.        ],\n       [0.        , 1.99778106, 0.        , 0.51179054],\n       [0.        , 0.        , 0.        , 1.30061051],\n       [0.        , 0.29427605, 0.        , 0.4324433 ],\n       [0.24933667, 0.66035225, 0.48348888, 0.24387146],\n       [0.        , 0.59120309, 0.56429657, 0.        ],\n       [0.        , 1.93064765, 0.        , 0.70030189]])"
     },
     "execution_count": 23,
     "metadata": {},
     "output_type": "execute_result"
    }
   ],
   "source": [
    "data[s] = 0  # 逐个元素的布尔索引\n",
    "data  # data发生改变"
   ],
   "metadata": {
    "collapsed": false,
    "pycharm": {
     "name": "#%%\n"
    }
   }
  },
  {
   "cell_type": "code",
   "execution_count": 24,
   "outputs": [
    {
     "data": {
      "text/plain": "array([[7.        , 7.        , 7.        , 7.        ],\n       [0.        , 1.99778106, 0.        , 0.51179054],\n       [7.        , 7.        , 7.        , 7.        ],\n       [7.        , 7.        , 7.        , 7.        ],\n       [7.        , 7.        , 7.        , 7.        ],\n       [0.        , 0.59120309, 0.56429657, 0.        ],\n       [0.        , 1.93064765, 0.        , 0.70030189]])"
     },
     "execution_count": 24,
     "metadata": {},
     "output_type": "execute_result"
    }
   ],
   "source": [
    "data[names != 'Joe'] = 7  # ★★★★★和整数索引类似,只能通过对原array[索引/切片]直接进行赋值从而修改原array\n",
    "data  # data发生改变"
   ],
   "metadata": {
    "pycharm": {
     "metadata": false,
     "name": "#%%\n"
    }
   }
  },
  {
   "cell_type": "code",
   "execution_count": 24,
   "outputs": [],
   "source": [],
   "metadata": {
    "collapsed": false,
    "pycharm": {
     "name": "#%%\n"
    }
   }
  }
 ],
 "metadata": {
  "kernelspec": {
   "name": "python3",
   "language": "python",
   "display_name": "Python 3"
  },
  "language_info": {
   "codemirror_mode": {
    "name": "ipython",
    "version": 2
   },
   "file_extension": ".py",
   "mimetype": "text/x-python",
   "name": "python",
   "nbconvert_exporter": "python",
   "pygments_lexer": "ipython2",
   "version": "2.7.6"
  },
  "stem_cell": {
   "cell_type": "raw",
   "source": "",
   "metadata": {
    "pycharm": {
     "metadata": false
    }
   }
  }
 },
 "nbformat": 4,
 "nbformat_minor": 0
}