{
 "cells": [
  {
   "cell_type": "code",
   "execution_count": 67,
   "outputs": [],
   "source": [
    "import tensorflow as tf"
   ],
   "metadata": {
    "collapsed": false,
    "pycharm": {
     "name": "#%%\n"
    }
   }
  },
  {
   "cell_type": "markdown",
   "source": [
    "### 参考numpy布尔索引"
   ],
   "metadata": {
    "collapsed": false,
    "pycharm": {
     "name": "#%% md\n"
    }
   }
  },
  {
   "cell_type": "code",
   "execution_count": 68,
   "outputs": [
    {
     "name": "stdout",
     "output_type": "stream",
     "text": [
      "tf.Tensor([1 2 3 1 3 2 2], shape=(7,), dtype=int32)\n",
      "tf.Tensor(\n",
      "[[ 0.5441101   0.20738031  0.07356433  0.04643455]\n",
      " [-1.30159    -0.95385665  0.84172857  1.9396868 ]\n",
      " [ 0.6512578   1.1048867   1.3746228   1.148752  ]\n",
      " [ 1.0821314   0.55104923  0.07009614  0.707385  ]\n",
      " [ 0.88857085 -0.46432722  1.2084333  -0.79011595]\n",
      " [-0.7304904  -0.7207538   0.36527526 -0.16950758]\n",
      " [ 0.20318079 -0.90232295 -0.65045786  2.4152768 ]], shape=(7, 4), dtype=float32)\n"
     ]
    }
   ],
   "source": [
    "target = tf.constant([1, 2, 3, 1, 3, 2, 2])\n",
    "data = tf.random.stateless_normal(shape=(7, 4), seed=(1, 2))\n",
    "print(target)\n",
    "print(data)"
   ],
   "metadata": {
    "collapsed": false,
    "pycharm": {
     "name": "#%%\n"
    }
   }
  },
  {
   "cell_type": "code",
   "execution_count": 69,
   "outputs": [
    {
     "name": "stdout",
     "output_type": "stream",
     "text": [
      "<dtype: 'bool'>\n",
      "tf.Tensor([ True False False  True False False False], shape=(7,), dtype=bool)\n"
     ]
    }
   ],
   "source": [
    "check = target == 1\n",
    "print(check.dtype)\n",
    "print(check)"
   ],
   "metadata": {
    "collapsed": false,
    "pycharm": {
     "name": "#%%\n"
    }
   }
  },
  {
   "cell_type": "code",
   "execution_count": 70,
   "outputs": [
    {
     "data": {
      "text/plain": "<tf.Tensor: shape=(2, 4), dtype=float32, numpy=\narray([[0.5441101 , 0.20738031, 0.07356433, 0.04643455],\n       [1.0821314 , 0.55104923, 0.07009614, 0.707385  ]], dtype=float32)>"
     },
     "execution_count": 70,
     "metadata": {},
     "output_type": "execute_result"
    }
   ],
   "source": [
    "# mask: K-D boolean Tensor, K <= N and K must be known statically.\n",
    "# tensorflow布尔索引必须使用boolean_mask方法\n",
    "tf.boolean_mask(data, mask=check)  # 默认axis=0"
   ],
   "metadata": {
    "collapsed": false,
    "pycharm": {
     "name": "#%%\n"
    }
   }
  },
  {
   "cell_type": "code",
   "execution_count": 71,
   "outputs": [
    {
     "data": {
      "text/plain": "<tf.Tensor: shape=(7, 2), dtype=float32, numpy=\narray([[ 0.5441101 ,  0.04643455],\n       [-1.30159   ,  1.9396868 ],\n       [ 0.6512578 ,  1.148752  ],\n       [ 1.0821314 ,  0.707385  ],\n       [ 0.88857085, -0.79011595],\n       [-0.7304904 , -0.16950758],\n       [ 0.20318079,  2.4152768 ]], dtype=float32)>"
     },
     "execution_count": 71,
     "metadata": {},
     "output_type": "execute_result"
    }
   ],
   "source": [
    "tf.boolean_mask(data, check[:4], axis=1)  # # 第一个维度上的布尔索引"
   ],
   "metadata": {
    "collapsed": false,
    "pycharm": {
     "name": "#%%\n"
    }
   }
  },
  {
   "cell_type": "code",
   "execution_count": 72,
   "outputs": [
    {
     "data": {
      "text/plain": "<tf.Tensor: shape=(2, 2), dtype=float32, numpy=\narray([[0.07356433, 0.04643455],\n       [0.07009614, 0.707385  ]], dtype=float32)>"
     },
     "execution_count": 72,
     "metadata": {},
     "output_type": "execute_result"
    }
   ],
   "source": [
    "tf.boolean_mask(data, target == 1)[:, 2:]"
   ],
   "metadata": {
    "collapsed": false,
    "pycharm": {
     "name": "#%%\n"
    }
   }
  },
  {
   "cell_type": "code",
   "execution_count": 73,
   "outputs": [
    {
     "name": "stdout",
     "output_type": "stream",
     "text": [
      "tf.Tensor([False  True  True False  True  True  True], shape=(7,), dtype=bool)\n",
      "tf.Tensor([ True False False  True False False False], shape=(7,), dtype=bool)\n",
      "tf.Tensor(\n",
      "[[0.5441101  0.20738031 0.07356433 0.04643455]\n",
      " [1.0821314  0.55104923 0.07009614 0.707385  ]], shape=(2, 4), dtype=float32)\n"
     ]
    }
   ],
   "source": [
    "print(target != 1)\n",
    "print(~(target != 1))  # ~:取反\n",
    "print(tf.boolean_mask(data, ~(target != 1)))"
   ],
   "metadata": {
    "collapsed": false,
    "pycharm": {
     "name": "#%%\n"
    }
   }
  },
  {
   "cell_type": "code",
   "execution_count": 74,
   "outputs": [
    {
     "name": "stdout",
     "output_type": "stream",
     "text": [
      "tf.Tensor([ True False  True  True  True False False], shape=(7,), dtype=bool)\n",
      "tf.Tensor(\n",
      "[[ 0.5441101   0.20738031  0.07356433  0.04643455]\n",
      " [ 0.6512578   1.1048867   1.3746228   1.148752  ]\n",
      " [ 1.0821314   0.55104923  0.07009614  0.707385  ]\n",
      " [ 0.88857085 -0.46432722  1.2084333  -0.79011595]], shape=(4, 4), dtype=float32)\n"
     ]
    }
   ],
   "source": [
    "mask = (target == 1) | (target == 3)  # |:并集,不能使用关键字or\n",
    "print(mask)\n",
    "print(tf.boolean_mask(data, mask))"
   ],
   "metadata": {
    "collapsed": false,
    "pycharm": {
     "name": "#%%\n"
    }
   }
  },
  {
   "cell_type": "code",
   "execution_count": 75,
   "outputs": [
    {
     "name": "stdout",
     "output_type": "stream",
     "text": [
      "tf.Tensor([False False False False False False False], shape=(7,), dtype=bool)\n",
      "tf.Tensor([], shape=(0, 4), dtype=float32)\n"
     ]
    }
   ],
   "source": [
    "mask1 = (target == 1) & (target == 3)  # &:交集,不能使用关键字and\n",
    "print(mask1)\n",
    "print(tf.boolean_mask(data, mask1))"
   ],
   "metadata": {
    "collapsed": false,
    "pycharm": {
     "name": "#%%\n"
    }
   }
  },
  {
   "cell_type": "code",
   "execution_count": 76,
   "outputs": [
    {
     "data": {
      "text/plain": "<tf.Tensor: shape=(7, 4), dtype=bool, numpy=\narray([[False, False, False, False],\n       [ True,  True, False, False],\n       [False, False, False, False],\n       [False, False, False, False],\n       [False,  True, False,  True],\n       [ True,  True, False,  True],\n       [False,  True,  True, False]])>"
     },
     "execution_count": 76,
     "metadata": {},
     "output_type": "execute_result"
    }
   ],
   "source": [
    "s = data < 0\n",
    "s"
   ],
   "metadata": {
    "collapsed": false,
    "pycharm": {
     "name": "#%%\n"
    }
   }
  },
  {
   "cell_type": "code",
   "execution_count": 77,
   "outputs": [
    {
     "data": {
      "text/plain": "<tf.Tensor: shape=(9,), dtype=float32, numpy=\narray([-1.30159   , -0.95385665, -0.46432722, -0.79011595, -0.7304904 ,\n       -0.7207538 , -0.16950758, -0.90232295, -0.65045786], dtype=float32)>"
     },
     "execution_count": 77,
     "metadata": {},
     "output_type": "execute_result"
    }
   ],
   "source": [
    "tf.boolean_mask(data, s)\n",
    "\n",
    "\n",
    "\n",
    "\n"
   ],
   "metadata": {
    "collapsed": false,
    "pycharm": {
     "name": "#%%\n"
    }
   }
  }
 ],
 "metadata": {
  "kernelspec": {
   "display_name": "Python 3",
   "language": "python",
   "name": "python3"
  },
  "language_info": {
   "codemirror_mode": {
    "name": "ipython",
    "version": 2
   },
   "file_extension": ".py",
   "mimetype": "text/x-python",
   "name": "python",
   "nbconvert_exporter": "python",
   "pygments_lexer": "ipython2",
   "version": "2.7.6"
  }
 },
 "nbformat": 4,
 "nbformat_minor": 0
}