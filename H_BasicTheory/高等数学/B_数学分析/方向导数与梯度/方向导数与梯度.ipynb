{
 "cells": [
  {
   "cell_type": "code",
   "execution_count": 1,
   "metadata": {
    "collapsed": true,
    "pycharm": {
     "is_executing": false
    }
   },
   "outputs": [],
   "source": [
    "from sympy import *\n",
    "import numpy as np"
   ]
  },
  {
   "cell_type": "code",
   "execution_count": 2,
   "outputs": [
    {
     "data": {
      "text/plain": "x*y*z",
      "text/latex": "$\\displaystyle x y z$"
     },
     "metadata": {},
     "output_type": "execute_result",
     "execution_count": 2
    }
   ],
   "source": [
    "x, y, z = symbols('x, y, z')\n",
    "f_xyz = x*y*z\n",
    "f_xyz"
   ],
   "metadata": {
    "collapsed": false,
    "pycharm": {
     "name": "#%%\n",
     "is_executing": false
    }
   }
  },
  {
   "cell_type": "code",
   "execution_count": 3,
   "outputs": [
    {
     "data": {
      "text/plain": "y*z",
      "text/latex": "$\\displaystyle y z$"
     },
     "metadata": {},
     "output_type": "execute_result",
     "execution_count": 3
    }
   ],
   "source": [
    "f_dx = diff(f_xyz, x) # 对x求偏导\n",
    "f_dx"
   ],
   "metadata": {
    "collapsed": false,
    "pycharm": {
     "name": "#%%\n",
     "is_executing": false
    }
   }
  },
  {
   "cell_type": "code",
   "execution_count": 4,
   "outputs": [
    {
     "data": {
      "text/plain": "x*z",
      "text/latex": "$\\displaystyle x z$"
     },
     "metadata": {},
     "output_type": "execute_result",
     "execution_count": 4
    }
   ],
   "source": [
    "f_dy = diff(f_xyz, y) # 对y求偏导\n",
    "f_dy"
   ],
   "metadata": {
    "collapsed": false,
    "pycharm": {
     "name": "#%%\n",
     "is_executing": false
    }
   }
  },
  {
   "cell_type": "code",
   "execution_count": 5,
   "outputs": [
    {
     "data": {
      "text/plain": "x*y",
      "text/latex": "$\\displaystyle x y$"
     },
     "metadata": {},
     "output_type": "execute_result",
     "execution_count": 5
    }
   ],
   "source": [
    "f_dz = diff(f_xyz, z) #对z求偏导\n",
    "f_dz"
   ],
   "metadata": {
    "collapsed": false,
    "pycharm": {
     "name": "#%%\n",
     "is_executing": false
    }
   }
  },
  {
   "cell_type": "code",
   "execution_count": 6,
   "outputs": [
    {
     "name": "stdout",
     "text": [
      "(5, 1, 2) 处的梯度为: [ 2. 10.  5.]\n",
      "梯度的模为: 11.357816691600547\n"
     ],
     "output_type": "stream"
    }
   ],
   "source": [
    "point = (5, 1, 2)\n",
    "fx_p = float(f_dx.subs({x:point[0], y:point[1], z:point[2]}))\n",
    "fy_p = float(f_dy.subs({x:point[0], y:point[1], z:point[2]}))\n",
    "fz_p = float(f_dz.subs({x:point[0], y:point[1], z:point[2]}))\n",
    "grad = np.array([fx_p, fy_p, fz_p]) # 计算梯度\n",
    "print(point, '处的梯度为:', grad)\n",
    "\n",
    "mold = np.sqrt(grad @ grad)\n",
    "print('梯度的模为:', mold)"
   ],
   "metadata": {
    "collapsed": false,
    "pycharm": {
     "name": "#%%\n",
     "is_executing": false
    }
   }
  },
  {
   "cell_type": "code",
   "execution_count": 7,
   "outputs": [
    {
     "name": "stdout",
     "text": [
      "direc的方向余弦为: [0.30769231 0.23076923 0.92307692]\n"
     ],
     "output_type": "stream"
    }
   ],
   "source": [
    "point1 = np.array([9, 4, 14])\n",
    "direc = point1 - np.array(point) # 计算方向l(point, point1)\n",
    "calpha = direc[0] / np.sqrt(direc @ direc)\n",
    "cbeta = direc[1] / np.sqrt(direc @ direc)\n",
    "cgamma = direc[2] / np.sqrt(direc @ direc) \n",
    "direc_cos = np.array([calpha, cbeta, cgamma]) # 计算方向余弦\n",
    "\n",
    "print('direc的方向余弦为:', direc_cos)"
   ],
   "metadata": {
    "collapsed": false,
    "pycharm": {
     "name": "#%%\n",
     "is_executing": false
    }
   }
  },
  {
   "cell_type": "code",
   "execution_count": 8,
   "outputs": [
    {
     "data": {
      "text/plain": "0.6637245293839319"
     },
     "metadata": {},
     "output_type": "execute_result",
     "execution_count": 8
    }
   ],
   "source": [
    "ctheta  = (grad @ direc_cos) / mold # 计算梯度与方向l的余弦\n",
    "ctheta"
   ],
   "metadata": {
    "collapsed": false,
    "pycharm": {
     "name": "#%%\n",
     "is_executing": false
    }
   }
  },
  {
   "cell_type": "code",
   "execution_count": 9,
   "outputs": [
    {
     "data": {
      "text/plain": "7.538461538461539"
     },
     "metadata": {},
     "output_type": "execute_result",
     "execution_count": 9
    }
   ],
   "source": [
    "direc_diff = ctheta * mold\n",
    "direc_diff # l的方向导数"
   ],
   "metadata": {
    "collapsed": false,
    "pycharm": {
     "name": "#%%\n",
     "is_executing": false
    }
   }
  },
  {
   "cell_type": "code",
   "execution_count": 9,
   "outputs": [],
   "source": [
    "\n"
   ],
   "metadata": {
    "collapsed": false,
    "pycharm": {
     "name": "#%%\n",
     "is_executing": false
    }
   }
  }
 ],
 "metadata": {
  "kernelspec": {
   "display_name": "Python 3",
   "language": "python",
   "name": "python3"
  },
  "language_info": {
   "codemirror_mode": {
    "name": "ipython",
    "version": 2
   },
   "file_extension": ".py",
   "mimetype": "text/x-python",
   "name": "python",
   "nbconvert_exporter": "python",
   "pygments_lexer": "ipython2",
   "version": "2.7.6"
  },
  "pycharm": {
   "stem_cell": {
    "cell_type": "raw",
    "source": [],
    "metadata": {
     "collapsed": false
    }
   }
  }
 },
 "nbformat": 4,
 "nbformat_minor": 0
}