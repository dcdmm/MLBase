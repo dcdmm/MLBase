{
 "cells": [
  {
   "cell_type": "markdown",
   "source": [
    "## numpy.random.seed\n",
    "seed()用于指定随机数生成时所用算法开始的整数值\n",
    "1. 如果使用相同的seed()值，则每次生成的随机数都相同    \n",
    "2. 如果不设置这个值,则系统根据时间来自己选择这个值,此时每次生成的随机数因时间差异而不同"
   ],
   "metadata": {
    "pycharm": {
     "metadata": false,
     "name": "#%% md\n"
    }
   }
  },
  {
   "cell_type": "code",
   "execution_count": 16,
   "outputs": [
    {
     "name": "stdout",
     "output_type": "stream",
     "text": [
      "0.22199317108973948\n",
      "0.22199317108973948\n",
      "0.22199317108973948\n",
      "0.22199317108973948\n",
      "0.22199317108973948\n"
     ]
    }
   ],
   "source": [
    "from numpy import  random\n",
    "import numpy as np\n",
    "\n",
    "num = 0\n",
    "while num < 5:\n",
    "  random.seed(5)\n",
    "  print(random.random())\n",
    "  num += 1"
   ],
   "metadata": {
    "collapsed": false,
    "pycharm": {
     "name": "#%%\n"
    }
   }
  },
  {
   "cell_type": "code",
   "execution_count": 17,
   "outputs": [
    {
     "name": "stdout",
     "output_type": "stream",
     "text": [
      "0.22199317108973948\n",
      "0.8707323061773764\n",
      "0.20671915533942642\n",
      "0.9186109079379216\n",
      "0.48841118879482914\n"
     ]
    }
   ],
   "source": [
    "num = 0\n",
    "random.seed(5)\n",
    "while num < 5:\n",
    "  print(random.random())\n",
    "  num += 1"
   ],
   "metadata": {
    "pycharm": {
     "metadata": false,
     "name": "#%%\n"
    }
   }
  },
  {
   "cell_type": "code",
   "execution_count": 18,
   "outputs": [
    {
     "name": "stdout",
     "output_type": "stream",
     "text": [
      "1-----------\n",
      "输出：[1.62434536]\n",
      "输出：[-0.61175641]\n",
      "输出：[-0.52817175]\n",
      "输出：[-1.07296862]\n",
      "输出：[0.86540763]\n",
      "0-----------\n",
      "输出：[1.76405235]\n",
      "输出：[0.40015721]\n",
      "输出：[0.97873798]\n",
      "输出：[2.2408932]\n",
      "输出：[1.86755799]\n",
      "1-----------\n",
      "输出：[[ 1.62434536 -0.61175641 -0.52817175 -1.07296862  0.86540763]]\n",
      "输出：[[-2.3015387   1.74481176 -0.7612069   0.3190391  -0.24937038]]\n",
      "0-------------\n",
      "输出：[[1.76405235 0.40015721]]\n",
      "输出：[[0.97873798 2.2408932 ]]\n",
      "输出：[[ 1.86755799 -0.97727788]]\n"
     ]
    }
   ],
   "source": [
    "print(\"1-----------\")\n",
    "np.random.seed(1)\n",
    "i = 0\n",
    "while i < 5:\n",
    "    print(\"输出：\" + str(np.random.randn(1)))\n",
    "    i += 1\n",
    "    \n",
    "print(\"0-----------\")\n",
    "np.random.seed(0)\n",
    "i = 0\n",
    "while i < 5:\n",
    "    print(\"输出：\" + str(np.random.randn(1)))\n",
    "    i += 1\n",
    "    \n",
    "print(\"1-----------\")\n",
    "i = 0\n",
    "np.random.seed(1)\n",
    "while i < 2:\n",
    "    print(\"输出：\" + str(np.random.randn(1, 5)))\n",
    "    i += 1\n",
    "    \n",
    "print(\"0-------------\")\n",
    "np.random.seed(0)\n",
    "i = 0\n",
    "while i < 3:\n",
    "    print(\"输出：\" + str(np.random.randn(1,2)))\n",
    "    i += 1"
   ],
   "metadata": {
    "pycharm": {
     "metadata": false,
     "name": "#%%\n"
    }
   }
  },
  {
   "cell_type": "markdown",
   "source": [
    "## numpy.random.RandomState\n",
    "&emsp;&emsp;numpy.random中的数据生成函数共用了一个全局的随机数种子.为了避免全局状态可以\n",
    "使用numpy.random.RandomState生成一个随机数生成器,使数据独立于其他随机数状态"
   ],
   "metadata": {
    "pycharm": {
     "metadata": false,
     "name": "#%% md\n",
     "is_executing": false
    }
   }
  },
  {
   "cell_type": "code",
   "execution_count": 19,
   "outputs": [
    {
     "name": "stdout",
     "output_type": "stream",
     "text": [
      "[[0.83494319 0.11482951 0.66899751]\n",
      " [0.46594987 0.60181666 0.58838408]]\n",
      "[[0.83494319 0.11482951 0.66899751]\n",
      " [0.46594987 0.60181666 0.58838408]]\n",
      "[[0.83494319 0.11482951 0.66899751]\n",
      " [0.46594987 0.60181666 0.58838408]]\n",
      "[[0.83494319 0.11482951 0.66899751]\n",
      " [0.46594987 0.60181666 0.58838408]]\n"
     ]
    }
   ],
   "source": [
    "for i in [1,2,3,4]:\n",
    "    rng = np.random.RandomState(23455)\n",
    "    arrayA = rng.uniform(0, 1, (2, 3))\n",
    "    print(arrayA)"
   ],
   "metadata": {
    "pycharm": {
     "metadata": false,
     "name": "#%%\n"
    }
   }
  },
  {
   "cell_type": "code",
   "execution_count": 20,
   "outputs": [
    {
     "name": "stdout",
     "output_type": "stream",
     "text": [
      "i = 1\n",
      "[[0.32180029 0.32730047 0.92742231]\n",
      " [0.31169778 0.16195411 0.36407808]]\n",
      "i = 2\n",
      "[[0.81337698 0.42911854 0.67314798]\n",
      " [0.23028294 0.35855031 0.22392573]]\n",
      "i = 3\n",
      "[[0.2709679  0.49933797 0.80771214]\n",
      " [0.92140866 0.34157794 0.9903834 ]]\n",
      "i = 4\n",
      "[[0.78487022 0.76004529 0.29867001]\n",
      " [0.80117314 0.98157647 0.68529413]]\n"
     ]
    }
   ],
   "source": [
    "for i in [1,2,3,4]:\n",
    "    rng = np.random.RandomState(23455+i)\n",
    "    arrayA = rng.uniform(0, 1, (2, 3)) \n",
    "    print('i = %s' % i)\n",
    "    print(arrayA)    \n"
   ],
   "metadata": {
    "pycharm": {
     "metadata": false,
     "name": "#%%\n"
    }
   }
  }
 ],
 "metadata": {
  "language_info": {
   "codemirror_mode": {
    "name": "ipython",
    "version": 2
   },
   "file_extension": ".py",
   "mimetype": "text/x-python",
   "name": "python",
   "nbconvert_exporter": "python",
   "pygments_lexer": "ipython2",
   "version": "2.7.6"
  },
  "kernelspec": {
   "name": "python3",
   "language": "python",
   "display_name": "Python 3"
  },
  "stem_cell": {
   "cell_type": "raw",
   "source": "",
   "metadata": {
    "pycharm": {
     "metadata": false
    }
   }
  }
 },
 "nbformat": 4,
 "nbformat_minor": 0
}