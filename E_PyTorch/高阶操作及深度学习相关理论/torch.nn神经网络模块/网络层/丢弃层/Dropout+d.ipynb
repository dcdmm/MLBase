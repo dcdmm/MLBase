{
 "nbformat": 4,
 "nbformat_minor": 0,
 "metadata": {
  "colab": {
   "name": "Dropout+d.ipynb",
   "provenance": [],
   "collapsed_sections": [],
   "authorship_tag": "ABX9TyMP+1JIxpEiRhMUpc1uBrsU"
  },
  "kernelspec": {
   "name": "conda-env-pytorch_env-py",
   "language": "python",
   "display_name": "Python [conda env:pytorch_env] *"
  },
  "language_info": {
   "name": "python"
  }
 },
 "cells": [
  {
   "cell_type": "code",
   "execution_count": 10,
   "metadata": {
    "id": "DomQ4z0XYTbD",
    "executionInfo": {
     "status": "ok",
     "timestamp": 1659961444791,
     "user_tz": -480,
     "elapsed": 392,
     "user": {
      "displayName": "mengmeng duan",
      "userId": "11863779736323605079"
     }
    }
   },
   "outputs": [],
   "source": [
    "import torch\n",
    "import torch.nn as nn"
   ]
  },
  {
   "cell_type": "code",
   "source": [
    "# Input: (N, C, L) or (C, L)\n",
    "a = torch.ones((2, 3, 4))\n",
    "a"
   ],
   "metadata": {
    "colab": {
     "base_uri": "https://localhost:8080/"
    },
    "id": "GrCe0mULYmn7",
    "executionInfo": {
     "status": "ok",
     "timestamp": 1659961445187,
     "user_tz": -480,
     "elapsed": 6,
     "user": {
      "displayName": "mengmeng duan",
      "userId": "11863779736323605079"
     }
    },
    "outputId": "a09f09b3-3cf2-4d93-bac4-7babe3de414c"
   },
   "execution_count": 11,
   "outputs": [
    {
     "output_type": "execute_result",
     "data": {
      "text/plain": [
       "tensor([[[1., 1., 1., 1.],\n",
       "         [1., 1., 1., 1.],\n",
       "         [1., 1., 1., 1.]],\n",
       "\n",
       "        [[1., 1., 1., 1.],\n",
       "         [1., 1., 1., 1.],\n",
       "         [1., 1., 1., 1.]]])"
      ]
     },
     "metadata": {},
     "execution_count": 11
    }
   ]
  },
  {
   "cell_type": "code",
   "source": [
    "m1d = nn.Dropout1d(p=0.2)\n",
    "m1d(a)  # 对最后一个维度整体进行dropout"
   ],
   "metadata": {
    "colab": {
     "base_uri": "https://localhost:8080/"
    },
    "id": "KotSV0k0ZTwA",
    "executionInfo": {
     "status": "ok",
     "timestamp": 1659961445187,
     "user_tz": -480,
     "elapsed": 5,
     "user": {
      "displayName": "mengmeng duan",
      "userId": "11863779736323605079"
     }
    },
    "outputId": "53813e77-4c13-4ad2-8147-9ca64c78f90c"
   },
   "execution_count": 12,
   "outputs": [
    {
     "output_type": "execute_result",
     "data": {
      "text/plain": [
       "tensor([[[1.2500, 1.2500, 1.2500, 1.2500],\n",
       "         [1.2500, 1.2500, 1.2500, 1.2500],\n",
       "         [0.0000, 0.0000, 0.0000, 0.0000]],\n",
       "\n",
       "        [[0.0000, 0.0000, 0.0000, 0.0000],\n",
       "         [1.2500, 1.2500, 1.2500, 1.2500],\n",
       "         [0.0000, 0.0000, 0.0000, 0.0000]]])"
      ]
     },
     "metadata": {},
     "execution_count": 12
    }
   ]
  },
  {
   "cell_type": "code",
   "source": [
    "b = torch.ones((2, 3, 4, 5))\n",
    "b"
   ],
   "metadata": {
    "colab": {
     "base_uri": "https://localhost:8080/"
    },
    "id": "9J7pUir1ZVAI",
    "executionInfo": {
     "status": "ok",
     "timestamp": 1659961445188,
     "user_tz": -480,
     "elapsed": 5,
     "user": {
      "displayName": "mengmeng duan",
      "userId": "11863779736323605079"
     }
    },
    "outputId": "3f1b20eb-ac6e-494f-f26e-4d4ab86be750"
   },
   "execution_count": 13,
   "outputs": [
    {
     "output_type": "execute_result",
     "data": {
      "text/plain": [
       "tensor([[[[1., 1., 1., 1., 1.],\n",
       "          [1., 1., 1., 1., 1.],\n",
       "          [1., 1., 1., 1., 1.],\n",
       "          [1., 1., 1., 1., 1.]],\n",
       "\n",
       "         [[1., 1., 1., 1., 1.],\n",
       "          [1., 1., 1., 1., 1.],\n",
       "          [1., 1., 1., 1., 1.],\n",
       "          [1., 1., 1., 1., 1.]],\n",
       "\n",
       "         [[1., 1., 1., 1., 1.],\n",
       "          [1., 1., 1., 1., 1.],\n",
       "          [1., 1., 1., 1., 1.],\n",
       "          [1., 1., 1., 1., 1.]]],\n",
       "\n",
       "\n",
       "        [[[1., 1., 1., 1., 1.],\n",
       "          [1., 1., 1., 1., 1.],\n",
       "          [1., 1., 1., 1., 1.],\n",
       "          [1., 1., 1., 1., 1.]],\n",
       "\n",
       "         [[1., 1., 1., 1., 1.],\n",
       "          [1., 1., 1., 1., 1.],\n",
       "          [1., 1., 1., 1., 1.],\n",
       "          [1., 1., 1., 1., 1.]],\n",
       "\n",
       "         [[1., 1., 1., 1., 1.],\n",
       "          [1., 1., 1., 1., 1.],\n",
       "          [1., 1., 1., 1., 1.],\n",
       "          [1., 1., 1., 1., 1.]]]])"
      ]
     },
     "metadata": {},
     "execution_count": 13
    }
   ]
  },
  {
   "cell_type": "code",
   "source": [
    "m2d = nn.Dropout2d(p=0.2)\n",
    "m2d(b)  # 对最后两个个维度整体进行dropout"
   ],
   "metadata": {
    "colab": {
     "base_uri": "https://localhost:8080/"
    },
    "id": "wy40ejKraUKd",
    "executionInfo": {
     "status": "ok",
     "timestamp": 1659961468498,
     "user_tz": -480,
     "elapsed": 396,
     "user": {
      "displayName": "mengmeng duan",
      "userId": "11863779736323605079"
     }
    },
    "outputId": "b1367873-7f70-4027-af29-f5331a9f89b2"
   },
   "execution_count": 15,
   "outputs": [
    {
     "output_type": "execute_result",
     "data": {
      "text/plain": [
       "tensor([[[[1.2500, 1.2500, 1.2500, 1.2500, 1.2500],\n",
       "          [1.2500, 1.2500, 1.2500, 1.2500, 1.2500],\n",
       "          [1.2500, 1.2500, 1.2500, 1.2500, 1.2500],\n",
       "          [1.2500, 1.2500, 1.2500, 1.2500, 1.2500]],\n",
       "\n",
       "         [[1.2500, 1.2500, 1.2500, 1.2500, 1.2500],\n",
       "          [1.2500, 1.2500, 1.2500, 1.2500, 1.2500],\n",
       "          [1.2500, 1.2500, 1.2500, 1.2500, 1.2500],\n",
       "          [1.2500, 1.2500, 1.2500, 1.2500, 1.2500]],\n",
       "\n",
       "         [[0.0000, 0.0000, 0.0000, 0.0000, 0.0000],\n",
       "          [0.0000, 0.0000, 0.0000, 0.0000, 0.0000],\n",
       "          [0.0000, 0.0000, 0.0000, 0.0000, 0.0000],\n",
       "          [0.0000, 0.0000, 0.0000, 0.0000, 0.0000]]],\n",
       "\n",
       "\n",
       "        [[[1.2500, 1.2500, 1.2500, 1.2500, 1.2500],\n",
       "          [1.2500, 1.2500, 1.2500, 1.2500, 1.2500],\n",
       "          [1.2500, 1.2500, 1.2500, 1.2500, 1.2500],\n",
       "          [1.2500, 1.2500, 1.2500, 1.2500, 1.2500]],\n",
       "\n",
       "         [[1.2500, 1.2500, 1.2500, 1.2500, 1.2500],\n",
       "          [1.2500, 1.2500, 1.2500, 1.2500, 1.2500],\n",
       "          [1.2500, 1.2500, 1.2500, 1.2500, 1.2500],\n",
       "          [1.2500, 1.2500, 1.2500, 1.2500, 1.2500]],\n",
       "\n",
       "         [[1.2500, 1.2500, 1.2500, 1.2500, 1.2500],\n",
       "          [1.2500, 1.2500, 1.2500, 1.2500, 1.2500],\n",
       "          [1.2500, 1.2500, 1.2500, 1.2500, 1.2500],\n",
       "          [1.2500, 1.2500, 1.2500, 1.2500, 1.2500]]]])"
      ]
     },
     "metadata": {},
     "execution_count": 15
    }
   ]
  }
 ]
}