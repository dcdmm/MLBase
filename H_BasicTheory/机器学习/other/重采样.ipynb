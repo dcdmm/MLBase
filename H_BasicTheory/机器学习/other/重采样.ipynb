{
 "cells": [
  {
   "cell_type": "markdown",
   "metadata": {
    "collapsed": true,
    "pycharm": {
     "name": "#%% md\n"
    }
   },
   "source": [
    "&emsp;&emsp;给定包含$m$个样本的数据集$D$,我们对它进行采样产生数据集$D^{'}$:每次随机\n",
    "从$D$中挑选一个样本,将其拷贝放入$D^{'}$,然后再将该样本放回初始数据集$D$中,使得该样本在下次\n",
    "采样时仍有可能被采样;这个过程重复$m$次后,我们就得到了包含$m$个样本的数据集$D^{'}$,这就是自助采样的结果.\n",
    "显然,$D$中有一部分样本会在$D^{'}$中多次出现,而另一部分样本不出现.可以做一个简单的估计,样本在$m$次采样中始终\n",
    "不被采到的概率是$ (1 - \\frac{1}{m})^m $,取极限得到\n",
    "\n",
    "$$ \\lim_{m \\rightarrow \\infty} (1 - \\frac{1}{m})^m = \\frac{1}{e} \\approx 0.368 $$\n",
    "\n",
    "即通过自助采样,初始数据集$D$中约有$36.8\\%$的样本未出现在采样数据集$D^{'}$中,于是我们可将$D^{'}$用作训练集,\n",
    "$ D \\backslash D^{'} $用作测试集:这样,实际评估的模型与期望评估的模型都使用$m$个训练样本,而我们仍有数据总量约$1 /3 $的,没在\n",
    "训练集中出现的样本用于测试.这样的测试结果,亦称\"包外估计\"(out-of-bag estimate)\n",
    "\n",
    "&emsp;&emsp;自助法在数据集较小,难以有效划分训练/测试集时很有用;此外,自助法能从初始数据集中产生多个不同的训练集,\n",
    "这对集成学习等方法有很大的好处.此外,自助法产生的数据集改变了初始数据集的分布,这会引入估计偏差."
   ]
  },
  {
   "cell_type": "code",
   "execution_count": 28,
   "outputs": [
    {
     "name": "stdout",
     "text": [
      "当m=10时, 未被采样的数据的比例为 0.19999999999999996\n",
      "当m=100时, 未被采样的数据的比例为 0.43000000000000005\n",
      "当m=500时, 未被采样的数据的比例为 0.348\n",
      "当m=1000时, 未被采样的数据的比例为 0.376\n",
      "当m=5000时, 未被采样的数据的比例为 0.3708\n",
      "当m=100000时, 未被采样的数据的比例为 0.36773\n",
      "当m=20000时, 未被采样的数据的比例为 0.36629999999999996\n",
      "当m=100000时, 未被采样的数据的比例为 0.36653\n",
      "当m=1000000时, 未被采样的数据的比例为 0.36790900000000004\n",
      "当m=10000000时, 未被采样的数据的比例为 0.3678635\n"
     ],
     "output_type": "stream"
    }
   ],
   "source": [
    "from sklearn.utils import resample\n",
    "import numpy as np\n",
    "\n",
    "\n",
    "m = [10, 100, 500, 1000, 5000, 100000, 20000, 100000, 1000000, 10000000]\n",
    "\n",
    "for i in m:\n",
    "    x = np.linspace(0, 5, num=i)\n",
    "    boost = resample(x, n_samples=i, replace=True)\n",
    "    print('当m='+ str(i) + \"时, 未被采样的数据的比例为\",\n",
    "          1 - (np.unique(boost).shape[0] / i)) # 当m很大时,逐渐接近1/e\n",
    "          "
   ],
   "metadata": {
    "collapsed": false,
    "pycharm": {
     "name": "#%%\n",
     "is_executing": false
    }
   }
  },
  {
   "cell_type": "code",
   "execution_count": 30,
   "outputs": [
    {
     "name": "stdout",
     "text": [
      "[1 4 1 6]\n",
      "[1 5 6 3]\n"
     ],
     "output_type": "stream"
    }
   ],
   "source": [
    "x1 = np.array([1, 2, 3, 4, 5, 6])\n",
    "print(resample(x1, n_samples=4, replace=True)) # 默认replace=True(有放回)\n",
    "print(resample(x1, n_samples=4, replace=False)) # 不放回"
   ],
   "metadata": {
    "collapsed": false,
    "pycharm": {
     "name": "#%%\n",
     "is_executing": false
    }
   }
  },
  {
   "cell_type": "code",
   "execution_count": null,
   "outputs": [],
   "source": [
    "\n"
   ],
   "metadata": {
    "collapsed": false,
    "pycharm": {
     "name": "#%%\n"
    }
   }
  }
 ],
 "metadata": {
  "kernelspec": {
   "display_name": "Python 3",
   "language": "python",
   "name": "python3"
  },
  "language_info": {
   "codemirror_mode": {
    "name": "ipython",
    "version": 2
   },
   "file_extension": ".py",
   "mimetype": "text/x-python",
   "name": "python",
   "nbconvert_exporter": "python",
   "pygments_lexer": "ipython2",
   "version": "2.7.6"
  }
 },
 "nbformat": 4,
 "nbformat_minor": 0
}