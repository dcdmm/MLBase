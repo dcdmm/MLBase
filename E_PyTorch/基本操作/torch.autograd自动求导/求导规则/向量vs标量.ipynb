{
 "cells": [
  {
   "cell_type": "code",
   "execution_count": 4,
   "metadata": {
    "collapsed": true
   },
   "outputs": [],
   "source": [
    "import torch"
   ]
  },
  {
   "cell_type": "code",
   "execution_count": 5,
   "outputs": [
    {
     "data": {
      "text/plain": "tensor([3., 2.], grad_fn=<CatBackward>)"
     },
     "execution_count": 5,
     "metadata": {},
     "output_type": "execute_result"
    }
   ],
   "source": [
    "s0 = torch.tensor([1.], requires_grad=True)  # s0为标量\n",
    "s1 = torch.tensor([2.], requires_grad=True)\n",
    "\n",
    "s2 = torch.add(s0, s1)\n",
    "s2.retain_grad()\n",
    "\n",
    "s3 = torch.add(s0, 1)\n",
    "\n",
    "loss = torch.cat([s2, s3], dim=0)\n",
    "grad_tensors = torch.tensor([2., 3.])  # 权重向量(与loss同形)\n",
    "loss"
   ],
   "metadata": {
    "collapsed": false,
    "pycharm": {
     "name": "#%%\n"
    }
   }
  },
  {
   "cell_type": "code",
   "execution_count": 6,
   "outputs": [
    {
     "name": "stdout",
     "output_type": "stream",
     "text": [
      "tensor([5.])\n",
      "tensor([2.])\n"
     ]
    }
   ],
   "source": [
    "mind = torch.ones_like(loss)\n",
    "loss.backward(gradient=grad_tensors)\n",
    "\n",
    "print(s0.grad)  # loss[0]对s0的梯度*grad_tensors[0] + loss[1]对s0的梯度*grad_tensors[1]\n",
    "print(s2.grad)  # loss[0]对s2的梯度*grad_tensors[0] + loss[1]对s2的梯度*grad_tensors[1]\n"
   ],
   "metadata": {
    "collapsed": false,
    "pycharm": {
     "name": "#%%\n"
    }
   }
  }
 ],
 "metadata": {
  "kernelspec": {
   "display_name": "Python 3",
   "language": "python",
   "name": "python3"
  },
  "language_info": {
   "codemirror_mode": {
    "name": "ipython",
    "version": 2
   },
   "file_extension": ".py",
   "mimetype": "text/x-python",
   "name": "python",
   "nbconvert_exporter": "python",
   "pygments_lexer": "ipython2",
   "version": "2.7.6"
  }
 },
 "nbformat": 4,
 "nbformat_minor": 0
}