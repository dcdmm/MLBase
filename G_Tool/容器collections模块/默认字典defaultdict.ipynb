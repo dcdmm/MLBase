{
 "cells": [
  {
   "cell_type": "code",
   "execution_count": 36,
   "metadata": {
    "collapsed": true,
    "pycharm": {
     "name": "#%%\n"
    }
   },
   "outputs": [],
   "source": [
    "from collections import defaultdict"
   ]
  },
  {
   "cell_type": "code",
   "execution_count": 37,
   "outputs": [
    {
     "name": "stdout",
     "output_type": "stream",
     "text": [
      "[]\n",
      "defaultdict(<class 'list'>, {'yellow': [1, 3], 'blue': [2, 4], 'red': [1], 'green': []})\n"
     ]
    }
   ],
   "source": [
    "s = [('yellow', 1), ('blue', 2), ('yellow', 3), ('blue', 4), ('red', 1)]\n",
    "d = defaultdict(list)  # 指定字典values为list\n",
    "for k, v in s:\n",
    "    d[k].append(v)\n",
    "\n",
    "print(d['green'])\n",
    "print(d)"
   ],
   "metadata": {
    "collapsed": false,
    "pycharm": {
     "name": "#%%\n"
    }
   }
  },
  {
   "cell_type": "code",
   "execution_count": 38,
   "outputs": [
    {
     "name": "stdout",
     "output_type": "stream",
     "text": [
      "defaultdict(<class 'set'>, {'red': {1, 3}, 'blue': {2, 4}})\n"
     ]
    }
   ],
   "source": [
    "s = [('red', 1), ('blue', 2), ('red', 3), ('blue', 4), ('red', 1), ('blue', 4)]\n",
    "d = defaultdict(set)\n",
    "for k, v in s:\n",
    "    d[k].add(v)\n",
    "print(d)"
   ],
   "metadata": {
    "collapsed": false,
    "pycharm": {
     "name": "#%%\n"
    }
   }
  },
  {
   "cell_type": "code",
   "execution_count": 39,
   "outputs": [
    {
     "name": "stdout",
     "output_type": "stream",
     "text": [
      "defaultdict(<class 'int'>, {'m': 1, 'i': 4, 's': 4, 'p': 2})\n"
     ]
    }
   ],
   "source": [
    "s = 'mississippi'\n",
    "d = defaultdict(int)  # 可以被用来计数(int函数的初始值为0)\n",
    "for k in s:\n",
    "    d[k] += 1\n",
    "print(d)"
   ],
   "metadata": {
    "collapsed": false,
    "pycharm": {
     "name": "#%%\n"
    }
   }
  },
  {
   "cell_type": "code",
   "execution_count": 40,
   "outputs": [
    {
     "name": "stdout",
     "output_type": "stream",
     "text": [
      "<missing>\n",
      "defaultdict(<function constant_factory.<locals>.<lambda> at 0x0000026905ACCCA0>, {'age': '<missing>'})\n",
      "defaultdict(<function constant_factory.<locals>.<lambda> at 0x0000026905ACCCA0>, {'age': '<missing>', 'name': 'John', 'action': 'ran'})\n"
     ]
    }
   ],
   "source": [
    "def constant_factory(value):\n",
    "    return lambda: value\n",
    "\n",
    "\n",
    "d = defaultdict(constant_factory('<missing>'))\n",
    "print(d['age'])\n",
    "print(d)\n",
    "d.update(name='John', action='ran')\n",
    "print(d)"
   ],
   "metadata": {
    "collapsed": false,
    "pycharm": {
     "name": "#%%\n"
    }
   }
  },
  {
   "cell_type": "code",
   "execution_count": 41,
   "outputs": [
    {
     "name": "stdout",
     "output_type": "stream",
     "text": [
      "defaultdict(<function <lambda> at 0x0000026904F63160>, {'puppy': 5, 'kitten': 2, 'wesel': 1})\n"
     ]
    }
   ],
   "source": [
    "strings = ['puppy', 'kitten', 'puppy', 'puppy', 'wesel', 'puppy', 'kitten', 'puppy']\n",
    "counts = defaultdict(lambda: 0)  # 隐函数,返回值为0\n",
    "for i in strings:\n",
    "    counts[i] += 1\n",
    "print(counts)"
   ],
   "metadata": {
    "collapsed": false,
    "pycharm": {
     "name": "#%%\n"
    }
   }
  },
  {
   "cell_type": "code",
   "execution_count": 41,
   "outputs": [],
   "source": [],
   "metadata": {
    "collapsed": false,
    "pycharm": {
     "name": "#%%\n"
    }
   }
  }
 ],
 "metadata": {
  "kernelspec": {
   "display_name": "Python 3",
   "language": "python",
   "name": "python3"
  },
  "language_info": {
   "codemirror_mode": {
    "name": "ipython",
    "version": 2
   },
   "file_extension": ".py",
   "mimetype": "text/x-python",
   "name": "python",
   "nbconvert_exporter": "python",
   "pygments_lexer": "ipython2",
   "version": "2.7.6"
  }
 },
 "nbformat": 4,
 "nbformat_minor": 0
}