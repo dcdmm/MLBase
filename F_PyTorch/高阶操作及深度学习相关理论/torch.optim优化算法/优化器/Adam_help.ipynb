{
 "cells": [
  {
   "cell_type": "markdown",
   "metadata": {
    "collapsed": true,
    "pycharm": {
     "name": "#%% md\n"
    }
   },
   "source": [
    "&emsp;&emsp;Adam算法(Adaptive Moment Estimation Algorithm)可以看作动量法和RMSprop 算法的结合,不但使用动量作为参数更新方向,而且可以<font color='red'>自适应调整学习率</font>.\n",
    "\n",
    "***\n",
    "\n",
    "**Require**: 学习率(步长)$\\epsilon$(建议默认为:0.001)\n",
    "\n",
    "**Require**: 矩估计的指数衰减率$\\rho_1$和$\\rho_2$在区间$[0,1]$内.(建议默认为0.9和0.999)\n",
    "\n",
    "**Require**: 小常数$\\delta$,为了数值稳定大约设为$10^{-8}$\n",
    "\n",
    "**Require**: 初始参数$\\boldsymbol{\\theta_0}$\n",
    "\n",
    "&emsp;&emsp;初始化一阶矩向量$\\mathbf{v_0} \\leftarrow 0$\n",
    "\n",
    "&emsp;&emsp;初始化二阶矩向量$\\mathbf{r_0} \\leftarrow 0$\n",
    "\n",
    "&emsp;&emsp;初始时间步$ t \\leftarrow 0$\n",
    "\n",
    "&emsp;&emsp;**while** 停止准则未满足 **do**\n",
    "\n",
    "&emsp;&emsp;&emsp;&emsp;从训练集中随机选取$m$个样本(小批量)$\\{ \\mathbf{x^{1}},\\mathbf{x^{2}}, \\cdots, \\mathbf{x^{m}} \\}$,其中$\\mathbf{x^{i}}$对应目标为$y^{i}$\n",
    "\n",
    "&emsp;&emsp;&emsp;&emsp;计算梯度:$\\boldsymbol{g}_t \\leftarrow \\frac{1}{m} \\nabla_{\\boldsymbol{\\theta_t}} \\sum_i L\\left(f(\\mathbf{x^{i}};\\boldsymbol{\\theta_t}), y^i \\right)$\n",
    "\n",
    "&emsp;&emsp;&emsp;&emsp;$t \\leftarrow t+1$\n",
    "\n",
    "&emsp;&emsp;&emsp;&emsp;更新有偏一阶矩估计(类似动量动量):$\\boldsymbol{v_t} \\leftarrow \\rho_1 \\boldsymbol{v_{t-1}} + (1-\\rho_1) \\boldsymbol{g_t} $\n",
    "\n",
    "&emsp;&emsp;&emsp;&emsp;更新有偏二阶矩估计:$\\boldsymbol{r_t} \\leftarrow \\rho_2 \\boldsymbol{r_{t-1}} + (1-\\rho_2) \\boldsymbol{g_t} \\odot \\boldsymbol{g_t}$\n",
    "\n",
    "&emsp;&emsp;&emsp;&emsp;修正有偏一阶矩估计:$\\boldsymbol{\\hat{v}_t} = \\frac{\\boldsymbol{v_t}}{1 - \\rho_1^t}$\n",
    "\n",
    "&emsp;&emsp;&emsp;&emsp;修正有偏二阶矩估计:$\\boldsymbol{\\hat{r}_t} = \\frac{\\boldsymbol{r_t}}{1 - \\rho_2^t}$\n",
    "\n",
    "&emsp;&emsp;&emsp;&emsp;计算更新:$\\Delta \\boldsymbol{\\theta_{t-1}}  \\leftarrow  - \\epsilon \\frac{\\boldsymbol{\\hat{v}_t}}{\\sqrt{\\boldsymbol{\\hat{r}_t}} + \\delta} $\n",
    "\n",
    "&emsp;&emsp;&emsp;&emsp;参数更新:$\\boldsymbol{\\theta_{t}} \\leftarrow \\boldsymbol{\\theta_{t-1}} +  \\Delta \\boldsymbol{\\theta_{t-1}} $\n",
    "\n",
    "&emsp;&emsp;**end while**\n",
    "\n",
    "***\n"
   ]
  },
  {
   "cell_type": "code",
   "execution_count": null,
   "metadata": {},
   "outputs": [],
   "source": []
  }
 ],
 "metadata": {
  "kernelspec": {
   "display_name": "Python 3",
   "language": "python",
   "name": "python3"
  },
  "language_info": {
   "codemirror_mode": {
    "name": "ipython",
    "version": 3
   },
   "file_extension": ".py",
   "mimetype": "text/x-python",
   "name": "python",
   "nbconvert_exporter": "python",
   "pygments_lexer": "ipython3",
   "version": "3.7.7"
  },
  "toc": {
   "base_numbering": 1,
   "nav_menu": {},
   "number_sections": true,
   "sideBar": true,
   "skip_h1_title": false,
   "title_cell": "Table of Contents",
   "title_sidebar": "Contents",
   "toc_cell": false,
   "toc_position": {},
   "toc_section_display": true,
   "toc_window_display": false
  }
 },
 "nbformat": 4,
 "nbformat_minor": 1
}