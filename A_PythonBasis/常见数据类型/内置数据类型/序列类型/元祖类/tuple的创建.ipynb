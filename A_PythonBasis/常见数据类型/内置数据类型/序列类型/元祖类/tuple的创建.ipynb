{
 "cells": [
  {
   "cell_type": "markdown",
   "source": [
    "元组类与列表类类似,不同之处在于元组的元素不能被修改"
   ],
   "metadata": {
    "collapsed": false,
    "pycharm": {
     "name": "#%% md\n"
    }
   }
  },
  {
   "cell_type": "code",
   "execution_count": 1,
   "outputs": [
    {
     "name": "stdout",
     "text": [
      "()\n()\n(1, 2, 3, 4)\n(1, 2, 3, 4)\n(1, 2, 3, 4)\n('a', 'b')\n(array([1, 2, 3]), array([4, 5, 6]))\n(1, 2, 3, 4)\n('A', 'B', 'C')\n"
     ],
     "output_type": "stream"
    }
   ],
   "source": [
    "'''\n",
    "|  tuple(iterable=(), /)\n",
    "|  \n",
    "|  Built-in immutable sequence.\n",
    "|  \n",
    "|  If no argument is given, the constructor returns an empty tuple.\n",
    "|  If iterable is specified the tuple is initialized from iterable's items.\n",
    "|  \n",
    "|  If the argument is a tuple, the return value is the same object.\n",
    "'''\n",
    "import numpy as np\n",
    "import  pandas as pd\n",
    "\n",
    "tup0 = () # 创建一个空元组\n",
    "print(tup0)\n",
    "\n",
    "tup1 = tuple()\n",
    "print(tup1) # 与上等价,创建一个空元组\n",
    "\n",
    "tup2 = tuple([1, 2, 3, 4]) # 列表转元组\n",
    "print(tup2)\n",
    "\n",
    "tup3 = tuple({1, 2, 3, 4}) # 集合转元组\n",
    "print(tup3)\n",
    "\n",
    "print(tuple((x for x in range(1, 5)))) # 生成器转元组\n",
    "\n",
    "print(tuple({'a': 1, 'b': 2})) # 字典转元组\n",
    "\n",
    "print(tuple(np.array([[1, 2 ,3], [4, 5, 6]]))) # 数组转元组\n",
    "\n",
    "print(tuple(pd.Series([1, 2, 3, 4], index=list('ABCD')))) # Series转元组\n",
    "\n",
    "print(tuple(pd.DataFrame(np.array([[1, 2 ,3], [4, 5, 6]]), \n",
    "                         columns=list('ABC')))) # DataFrame转元组\n"
   ],
   "metadata": {
    "pycharm": {
     "metadata": false,
     "name": "#%%\n",
     "is_executing": false
    }
   }
  }
 ],
 "metadata": {
  "language_info": {
   "codemirror_mode": {
    "name": "ipython",
    "version": 2
   },
   "file_extension": ".py",
   "mimetype": "text/x-python",
   "name": "python",
   "nbconvert_exporter": "python",
   "pygments_lexer": "ipython2",
   "version": "2.7.6"
  },
  "kernelspec": {
   "name": "python3",
   "language": "python",
   "display_name": "Python 3"
  }
 },
 "nbformat": 4,
 "nbformat_minor": 0
}