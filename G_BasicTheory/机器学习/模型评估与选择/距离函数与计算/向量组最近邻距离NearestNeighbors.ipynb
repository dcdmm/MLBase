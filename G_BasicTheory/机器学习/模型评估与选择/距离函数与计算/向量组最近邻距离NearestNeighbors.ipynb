{
 "cells": [
  {
   "cell_type": "code",
   "execution_count": 136,
   "metadata": {
    "collapsed": true
   },
   "outputs": [],
   "source": [
    "from sklearn.neighbors import NearestNeighbors\n",
    "import numpy as np"
   ]
  },
  {
   "cell_type": "code",
   "execution_count": 137,
   "outputs": [],
   "source": [
    "X = np.array([[-1, -1],\n",
    "              [1, 1],\n",
    "              [-2, -1],\n",
    "              [-3, -2],\n",
    "              [2, 1],\n",
    "              [3, 2]])  # 矩阵形式(X为4个(行)向量组成的矩阵)\n",
    "nbrs = NearestNeighbors(n_neighbors=3,\n",
    "                        metric='minkowski',\n",
    "                        # 默认metric='minkowski',即minkowski距离.sklearn.neighbors.DistanceMetric类提供了可用指标的列表\n",
    "                        p=1,  # 默认p=2,即欧式距离(必须指定metric='minkowski')\n",
    "                        n_jobs=-1).fit(X)\n",
    "distances, indices = nbrs.kneighbors(X)  # 向量组X和向量组X最近邻距离计算"
   ],
   "metadata": {
    "collapsed": false,
    "pycharm": {
     "name": "#%%\n"
    }
   }
  },
  {
   "cell_type": "code",
   "execution_count": 138,
   "outputs": [
    {
     "data": {
      "text/plain": "array([[0, 2, 3],\n       [1, 4, 5],\n       [2, 0, 3],\n       [3, 2, 0],\n       [4, 1, 5],\n       [5, 4, 1]], dtype=int64)"
     },
     "execution_count": 138,
     "metadata": {},
     "output_type": "execute_result"
    }
   ],
   "source": [
    "'''\n",
    "解析:\n",
    "第一个点[-1, -1]\n",
    "距离[-1, -1]最邻近的坐标为0(即[-1, 1]),距离为0\n",
    "距离[-1, -1]第二邻近的坐标为2(即[-2, -1]),距离为1\n",
    "距离[-1, -1]第三邻近的坐标为3(即[-3, -2]),距离为3\n",
    "\n",
    "第二个点[1, 1]\n",
    "距离[1, 1]最邻近的坐标为1(即[1, 1]),距离为0\n",
    "距离[1, 1]第二邻近的坐标为4(即[2, 1]),距离为1\n",
    "距离[1, 1]第三邻近的坐标为5(即[3, 2]),距离为3\n",
    "\n",
    "第三个点[-2, -1]\n",
    "距离[-2, -1]最邻近的坐标为2(即[-2, -1]),距离为0\n",
    "距离[-2, -1]第二邻近的坐标为0(即[-1, -1]),距离为1\n",
    "距离[-2, -1]第三邻近的坐标为3(即[-3, -2]),距离为2\n",
    "\n",
    ".......\n",
    "'''\n",
    "indices  # 最邻近点的位置索引"
   ],
   "metadata": {
    "collapsed": false,
    "pycharm": {
     "name": "#%%\n"
    }
   }
  },
  {
   "cell_type": "code",
   "execution_count": 139,
   "outputs": [
    {
     "data": {
      "text/plain": "array([[0., 1., 3.],\n       [0., 1., 3.],\n       [0., 1., 2.],\n       [0., 2., 3.],\n       [0., 1., 2.],\n       [0., 2., 3.]])"
     },
     "execution_count": 139,
     "metadata": {},
     "output_type": "execute_result"
    }
   ],
   "source": [
    "distances  # 最邻近点的距离\n"
   ],
   "metadata": {
    "collapsed": false,
    "pycharm": {
     "name": "#%%\n"
    }
   }
  }
 ],
 "metadata": {
  "kernelspec": {
   "display_name": "Python 3",
   "language": "python",
   "name": "python3"
  },
  "language_info": {
   "codemirror_mode": {
    "name": "ipython",
    "version": 2
   },
   "file_extension": ".py",
   "mimetype": "text/x-python",
   "name": "python",
   "nbconvert_exporter": "python",
   "pygments_lexer": "ipython2",
   "version": "2.7.6"
  }
 },
 "nbformat": 4,
 "nbformat_minor": 0
}