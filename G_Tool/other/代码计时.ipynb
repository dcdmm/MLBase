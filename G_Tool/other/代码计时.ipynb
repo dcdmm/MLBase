{
 "cells": [
  {
   "cell_type": "code",
   "execution_count": 19,
   "metadata": {
    "collapsed": true,
    "pycharm": {
     "name": "#%%\n"
    }
   },
   "outputs": [],
   "source": [
    "import timeit\n",
    "import time"
   ]
  },
  {
   "cell_type": "code",
   "execution_count": 20,
   "outputs": [
    {
     "name": "stdout",
     "output_type": "stream",
     "text": [
      "2.626316900000006\n"
     ]
    }
   ],
   "source": [
    "# stmt:测试的代码或者语句\n",
    "# number:被测试的函数或语句执行的次数\n",
    "print(timeit.timeit(stmt=\"[i for i in range(1000)]\", number=100000))  # 测试语句"
   ],
   "metadata": {
    "collapsed": false,
    "pycharm": {
     "name": "#%%\n"
    }
   }
  },
  {
   "cell_type": "code",
   "execution_count": 21,
   "outputs": [],
   "source": [
    "def add():\n",
    "    \"\"\"待测试函数\"\"\"\n",
    "    return sum(range(111))"
   ],
   "metadata": {
    "collapsed": false,
    "pycharm": {
     "name": "#%%\n"
    }
   }
  },
  {
   "cell_type": "code",
   "execution_count": 22,
   "outputs": [
    {
     "name": "stdout",
     "output_type": "stream",
     "text": [
      "0.11330750000001899\n"
     ]
    }
   ],
   "source": [
    "t = timeit.timeit(stmt=add, number=100000)  # 测试函数\n",
    "print(t)"
   ],
   "metadata": {
    "collapsed": false,
    "pycharm": {
     "name": "#%%\n"
    }
   }
  },
  {
   "cell_type": "code",
   "execution_count": 23,
   "outputs": [
    {
     "name": "stdout",
     "output_type": "stream",
     "text": [
      "[0.11563849999998865, 0.11090839999997115, 0.11524580000002516, 0.11689110000003211, 0.11449630000004163, 0.11643930000002456, 0.11365189999997938, 0.11479620000000068, 0.11661500000002434, 0.11573340000001053]\n"
     ]
    }
   ],
   "source": [
    "# repeat:重复测试的次数\n",
    "t = timeit.repeat(stmt=add, number=100000, repeat=10)  # 重复测试10次\n",
    "print(t)"
   ],
   "metadata": {
    "collapsed": false,
    "pycharm": {
     "name": "#%%\n"
    }
   }
  },
  {
   "cell_type": "code",
   "execution_count": 24,
   "outputs": [
    {
     "name": "stdout",
     "output_type": "stream",
     "text": [
      "4999999950000000\n",
      "time()方法用时：12.237055540084839s\n",
      "测试完毕\n"
     ]
    }
   ],
   "source": [
    "t0 = time.time()  # 代码开始执行时间\n",
    "\n",
    "r = 0\n",
    "for i in range(100000000):\n",
    "    r += i\n",
    "print(r)\n",
    "\n",
    "t1 = time.time()  # 代码结束执行时间\n",
    "\n",
    "spend1 = t1 - t0\n",
    "\n",
    "print(\"time()方法用时：{}s\".format(spend1))\n",
    "print(\"测试完毕\")"
   ],
   "metadata": {
    "collapsed": false,
    "pycharm": {
     "name": "#%%\n"
    }
   }
  },
  {
   "cell_type": "code",
   "execution_count": 24,
   "outputs": [],
   "source": [],
   "metadata": {
    "collapsed": false,
    "pycharm": {
     "name": "#%%\n"
    }
   }
  }
 ],
 "metadata": {
  "kernelspec": {
   "display_name": "Python 3",
   "language": "python",
   "name": "python3"
  },
  "language_info": {
   "codemirror_mode": {
    "name": "ipython",
    "version": 2
   },
   "file_extension": ".py",
   "mimetype": "text/x-python",
   "name": "python",
   "nbconvert_exporter": "python",
   "pygments_lexer": "ipython2",
   "version": "2.7.6"
  }
 },
 "nbformat": 4,
 "nbformat_minor": 0
}