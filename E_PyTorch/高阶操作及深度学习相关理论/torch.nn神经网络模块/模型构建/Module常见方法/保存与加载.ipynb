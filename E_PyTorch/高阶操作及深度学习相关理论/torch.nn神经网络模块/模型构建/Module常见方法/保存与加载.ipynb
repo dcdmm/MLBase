{
 "cells": [
  {
   "cell_type": "code",
   "execution_count": 1,
   "metadata": {
    "collapsed": true
   },
   "outputs": [],
   "source": [
    "from abc import ABC\n",
    "import torch\n",
    "import torch.nn as nn"
   ]
  },
  {
   "cell_type": "code",
   "execution_count": 2,
   "outputs": [
    {
     "name": "stdout",
     "output_type": "stream",
     "text": [
      "iteration：0,    loss: 1.1752846240997314\n",
      "iteration：20,    loss: 0.3251914083957672\n",
      "iteration：40,    loss: 0.21332183480262756\n",
      "iteration：60,    loss: 0.17139987647533417\n",
      "iteration：80,    loss: 0.14594441652297974\n",
      "iteration：100,    loss: 0.12808501720428467\n",
      "iteration：120,    loss: 0.11474613845348358\n",
      "iteration：140,    loss: 0.10440701246261597\n",
      "iteration：160,    loss: 0.0961766466498375\n",
      "iteration：180,    loss: 0.08948496729135513\n",
      "iteration：200,    loss: 0.08394705504179001\n",
      "iteration：220,    loss: 0.07929334789514542\n",
      "iteration：240,    loss: 0.07532963901758194\n",
      "iteration：260,    loss: 0.07191307097673416\n",
      "iteration：280,    loss: 0.06893660873174667\n",
      "iteration：300,    loss: 0.06631879508495331\n",
      "iteration：320,    loss: 0.06399676948785782\n",
      "iteration：340,    loss: 0.061921376734972\n",
      "iteration：360,    loss: 0.060053758323192596\n",
      "iteration：380,    loss: 0.05836279317736626\n",
      "iteration：400,    loss: 0.05682333931326866\n",
      "iteration：420,    loss: 0.055414848029613495\n",
      "iteration：440,    loss: 0.05412038788199425\n",
      "iteration：460,    loss: 0.052925873547792435\n",
      "iteration：480,    loss: 0.05181948095560074\n"
     ]
    }
   ],
   "source": [
    "x0, y0 = torch.normal(mean=1.7, std=1, size=(100, 2)) + 1, torch.zeros(100)  # 数据集1\n",
    "x1, y1 = torch.normal(mean=-1.7, std=1, size=(100, 2)) + 1, torch.ones(100)  # 数据集2\n",
    "train_x, train_y = torch.cat((x0, x1), 0), torch.cat((y0, y1), 0)\n",
    "\n",
    "\n",
    "class LR(nn.Module, ABC):\n",
    "    def __init__(self):\n",
    "        super(LR, self).__init__()\n",
    "        self.features = nn.Linear(2, 1)\n",
    "        self.sigmoid = nn.Sigmoid()\n",
    "\n",
    "    def forward(self, x):\n",
    "        x = self.features(x)\n",
    "        x = self.sigmoid(x)\n",
    "        return x\n",
    "\n",
    "\n",
    "lr_net = LR()\n",
    "loss_fn = nn.BCELoss()\n",
    "optimizer = torch.optim.SGD(lr_net.parameters(), lr=0.01, momentum=0.9)\n",
    "\n",
    "for iteration in range(500):\n",
    "    optimizer.zero_grad()  # 梯度清零\n",
    "    y_pred = lr_net(train_x)\n",
    "    loss = loss_fn(y_pred.squeeze(), train_y)\n",
    "    loss.backward()\n",
    "    optimizer.step()\n",
    "\n",
    "    if iteration % 20 == 0:\n",
    "        print(\"iteration：{iteration},    loss: {loss}\".format(iteration=iteration, loss=loss))"
   ],
   "metadata": {
    "collapsed": false,
    "pycharm": {
     "name": "#%%\n"
    }
   }
  },
  {
   "cell_type": "code",
   "execution_count": 3,
   "outputs": [
    {
     "data": {
      "text/plain": "OrderedDict([('features.weight', tensor([[-1.7544, -1.3696]])),\n             ('features.bias', tensor([2.0584]))])"
     },
     "execution_count": 3,
     "metadata": {},
     "output_type": "execute_result"
    }
   ],
   "source": [
    "lr_dict = lr_net.state_dict()  # Returns a dictionary containing a whole state of the module\n",
    "lr_dict"
   ],
   "metadata": {
    "collapsed": false,
    "pycharm": {
     "name": "#%%\n"
    }
   }
  },
  {
   "cell_type": "code",
   "execution_count": 4,
   "outputs": [],
   "source": [
    "torch.save(lr_dict,\n",
    "           'torch_dict.pth')  # 保存的状态字典的文件"
   ],
   "metadata": {
    "collapsed": false,
    "pycharm": {
     "name": "#%%\n"
    }
   }
  },
  {
   "cell_type": "code",
   "execution_count": 6,
   "outputs": [
    {
     "data": {
      "text/plain": "<All keys matched successfully>"
     },
     "execution_count": 6,
     "metadata": {},
     "output_type": "execute_result"
    }
   ],
   "source": [
    "lr_net_new = LR()  # 定义一个新的模型\n",
    "\n",
    "# torch.load():Loads an object saved with torch.save() from a file.\n",
    "# .load_state_dict():Copies parameters and buffers from :attr:`state_dict` into this module and its descendants\n",
    "lr_net_new.load_state_dict(torch.load('torch_dict.pth'))"
   ],
   "metadata": {
    "collapsed": false,
    "pycharm": {
     "name": "#%%\n"
    }
   }
  },
  {
   "cell_type": "code",
   "execution_count": 7,
   "outputs": [
    {
     "data": {
      "text/plain": "OrderedDict([('features.weight', tensor([[-1.7544, -1.3696]])),\n             ('features.bias', tensor([2.0584]))])"
     },
     "execution_count": 7,
     "metadata": {},
     "output_type": "execute_result"
    }
   ],
   "source": [
    "lr_net_new.state_dict()"
   ],
   "metadata": {
    "collapsed": false,
    "pycharm": {
     "name": "#%%\n"
    }
   }
  },
  {
   "cell_type": "code",
   "execution_count": null,
   "outputs": [],
   "source": [],
   "metadata": {
    "collapsed": false,
    "pycharm": {
     "name": "#%%\n"
    }
   }
  }
 ],
 "metadata": {
  "kernelspec": {
   "display_name": "Python 3",
   "language": "python",
   "name": "python3"
  },
  "language_info": {
   "codemirror_mode": {
    "name": "ipython",
    "version": 2
   },
   "file_extension": ".py",
   "mimetype": "text/x-python",
   "name": "python",
   "nbconvert_exporter": "python",
   "pygments_lexer": "ipython2",
   "version": "2.7.6"
  }
 },
 "nbformat": 4,
 "nbformat_minor": 0
}