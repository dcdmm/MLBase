{
 "cells": [
  {
   "cell_type": "code",
   "execution_count": null,
   "outputs": [],
   "source": [
    "import numpy as np\n",
    "import scipy.stats as stats\n",
    "import matplotlib.pyplot as plt\n",
    "import matplotlib.style as style\n",
    "\n",
    "style.use('classic')\n",
    "fig = plt.figure(figsize=(14, 7), dpi=100)\n",
    "ax  = plt.subplot(111)\n",
    "plt.figure(dpi=100)\n",
    "\n",
    "# PDF n = 1\n",
    "ax.plot(np.linspace(0, 15, 500), \n",
    "         stats.chi2.pdf(np.linspace(0, 15, 500), df=1),\n",
    "        label='n=1')\n",
    "ax.fill_between(np.linspace(0, 15, 500),\n",
    "                 stats.chi2.pdf(np.linspace(0, 15, 500), df=1),\n",
    "                 alpha=.15)\n",
    "\n",
    "# PDF n = 3\n",
    "ax.plot(np.linspace(0, 15, 100), \n",
    "         stats.chi2.pdf(np.linspace(0, 15, 100), df=3),\n",
    "        label='n=3')\n",
    "ax.fill_between(np.linspace(0, 15, 100),\n",
    "                 stats.chi2.pdf(np.linspace(0, 15, 100), df=3),\n",
    "                 alpha=.15)\n",
    "\n",
    "# PDF n = 6\n",
    "ax.plot(np.linspace(0, 15, 100), \n",
    "         stats.chi2.pdf(np.linspace(0, 15, 100), df=6),\n",
    "        label='n=6')\n",
    "ax.fill_between(np.linspace(0, 15, 100),\n",
    "                 stats.chi2.pdf(np.linspace(0, 15, 100), df=6),\n",
    "                 alpha=.15)\n",
    "\n",
    "ax.text(x=.5, y=.7, s=\"$ n = 1$\", rotation=-65, alpha=.75, weight=\"bold\", color=\"#008fd5\")\n",
    "ax.text(x=1.5, y=.35, s=\"$ n = 3$\", alpha=.75, weight=\"bold\", color=\"#fc4f30\")\n",
    "ax.text(x=5, y=.2, s=\"$ n = 6$\", alpha=.75, weight=\"bold\", color=\"#e5ae38\")\n",
    "\n",
    "\n",
    "ax.tick_params(axis = 'both', which = 'major', labelsize = 18)\n",
    "ax.axhline(y = 0, color = 'black', linewidth = 1.3, alpha = .7)\n",
    "\n",
    "ax.text(x = -1.5, y = 2.87, s = \"Chi-Squared Distribution - $ n $\",\n",
    "               fontsize = 26, weight = 'bold', alpha = .75)\n",
    "ax.text(x = -1.5, y = 2.57, \n",
    "         s = 'Depicted below are three Chi-Squared distributed random variables with varying $ n $. As one can\\nsee the parameter $n$ smoothens the distribution and softens the skewness.',\n",
    "         fontsize = 19, alpha = .85)\n",
    "ax.legend()"
   ],
   "metadata": {
    "collapsed": false,
    "pycharm": {
     "name": "#%%\n"
    }
   }
  },
  {
   "cell_type": "code",
   "execution_count": null,
   "metadata": {
    "pycharm": {
     "metadata": false,
     "name": "#%%\n"
    }
   },
   "outputs": [],
   "source": [
    "\n"
   ]
  }
 ],
 "metadata": {
  "kernelspec": {
   "display_name": "Python 3",
   "language": "python",
   "name": "python3"
  },
  "language_info": {
   "codemirror_mode": {
    "name": "ipython",
    "version": 3
   },
   "file_extension": ".py",
   "mimetype": "text/x-python",
   "name": "python",
   "nbconvert_exporter": "python",
   "pygments_lexer": "ipython3",
   "version": "3.7.3"
  },
  "pycharm": {
   "stem_cell": {
    "cell_type": "raw",
    "source": [],
    "metadata": {
     "collapsed": false
    }
   }
  }
 },
 "nbformat": 4,
 "nbformat_minor": 1
}