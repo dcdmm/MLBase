{
 "cells": [
  {
   "cell_type": "code",
   "execution_count": 265,
   "metadata": {
    "collapsed": true,
    "pycharm": {
     "is_executing": false
    }
   },
   "outputs": [],
   "source": [
    "import numpy as np\n",
    "import pandas as pd\n",
    "from collections import  Counter"
   ]
  },
  {
   "cell_type": "code",
   "execution_count": 266,
   "outputs": [],
   "source": [
    "def create_data():\n",
    "    record = [['青年', '否', '否', '一般', '否'],\n",
    "               ['青年', '否', '否', '好', '否'],\n",
    "               ['青年', '是', '否', '好', '是'],\n",
    "               ['青年', '是', '是', '一般', '是'],\n",
    "               ['青年', '否', '否', '一般', '否'],\n",
    "               ['中年', '否', '否', '一般', '否'],\n",
    "               ['中年', '否', '否', '好', '否'],\n",
    "               ['中年', '是', '是', '好', '是'],\n",
    "               ['中年', '否', '是', '非常好', '是'],\n",
    "               ['中年', '否', '是', '非常好', '是'],\n",
    "               ['老年', '否', '是', '非常好', '是'],\n",
    "               ['老年', '否', '是', '好', '是'],\n",
    "               ['老年', '是', '否', '好', '是'],\n",
    "               ['老年', '是', '否', '非常好', '是'],\n",
    "               ['老年', '否', '否', '一般', '否'],\n",
    "               ]\n",
    "    tags = [u'年龄', u'有工作', u'有自己的房子', u'信贷情况', u'类别']\n",
    "    # 返回数据集和各特征的名称\n",
    "    return np.array(record), tags"
   ],
   "metadata": {
    "collapsed": false,
    "pycharm": {
     "name": "#%%\n",
     "is_executing": false
    }
   }
  },
  {
   "cell_type": "code",
   "execution_count": 267,
   "outputs": [
    {
     "data": {
      "text/plain": "    年龄 有工作 有自己的房子 信贷情况 类别\n0   青年   否      否   一般  否\n1   青年   否      否    好  否\n2   青年   是      否    好  是\n3   青年   是      是   一般  是\n4   青年   否      否   一般  否\n5   中年   否      否   一般  否\n6   中年   否      否    好  否\n7   中年   是      是    好  是\n8   中年   否      是  非常好  是\n9   中年   否      是  非常好  是\n10  老年   否      是  非常好  是\n11  老年   否      是    好  是\n12  老年   是      否    好  是\n13  老年   是      否  非常好  是\n14  老年   否      否   一般  否",
      "text/html": "<div>\n<style scoped>\n    .dataframe tbody tr th:only-of-type {\n        vertical-align: middle;\n    }\n\n    .dataframe tbody tr th {\n        vertical-align: top;\n    }\n\n    .dataframe thead th {\n        text-align: right;\n    }\n</style>\n<table border=\"1\" class=\"dataframe\">\n  <thead>\n    <tr style=\"text-align: right;\">\n      <th></th>\n      <th>年龄</th>\n      <th>有工作</th>\n      <th>有自己的房子</th>\n      <th>信贷情况</th>\n      <th>类别</th>\n    </tr>\n  </thead>\n  <tbody>\n    <tr>\n      <td>0</td>\n      <td>青年</td>\n      <td>否</td>\n      <td>否</td>\n      <td>一般</td>\n      <td>否</td>\n    </tr>\n    <tr>\n      <td>1</td>\n      <td>青年</td>\n      <td>否</td>\n      <td>否</td>\n      <td>好</td>\n      <td>否</td>\n    </tr>\n    <tr>\n      <td>2</td>\n      <td>青年</td>\n      <td>是</td>\n      <td>否</td>\n      <td>好</td>\n      <td>是</td>\n    </tr>\n    <tr>\n      <td>3</td>\n      <td>青年</td>\n      <td>是</td>\n      <td>是</td>\n      <td>一般</td>\n      <td>是</td>\n    </tr>\n    <tr>\n      <td>4</td>\n      <td>青年</td>\n      <td>否</td>\n      <td>否</td>\n      <td>一般</td>\n      <td>否</td>\n    </tr>\n    <tr>\n      <td>5</td>\n      <td>中年</td>\n      <td>否</td>\n      <td>否</td>\n      <td>一般</td>\n      <td>否</td>\n    </tr>\n    <tr>\n      <td>6</td>\n      <td>中年</td>\n      <td>否</td>\n      <td>否</td>\n      <td>好</td>\n      <td>否</td>\n    </tr>\n    <tr>\n      <td>7</td>\n      <td>中年</td>\n      <td>是</td>\n      <td>是</td>\n      <td>好</td>\n      <td>是</td>\n    </tr>\n    <tr>\n      <td>8</td>\n      <td>中年</td>\n      <td>否</td>\n      <td>是</td>\n      <td>非常好</td>\n      <td>是</td>\n    </tr>\n    <tr>\n      <td>9</td>\n      <td>中年</td>\n      <td>否</td>\n      <td>是</td>\n      <td>非常好</td>\n      <td>是</td>\n    </tr>\n    <tr>\n      <td>10</td>\n      <td>老年</td>\n      <td>否</td>\n      <td>是</td>\n      <td>非常好</td>\n      <td>是</td>\n    </tr>\n    <tr>\n      <td>11</td>\n      <td>老年</td>\n      <td>否</td>\n      <td>是</td>\n      <td>好</td>\n      <td>是</td>\n    </tr>\n    <tr>\n      <td>12</td>\n      <td>老年</td>\n      <td>是</td>\n      <td>否</td>\n      <td>好</td>\n      <td>是</td>\n    </tr>\n    <tr>\n      <td>13</td>\n      <td>老年</td>\n      <td>是</td>\n      <td>否</td>\n      <td>非常好</td>\n      <td>是</td>\n    </tr>\n    <tr>\n      <td>14</td>\n      <td>老年</td>\n      <td>否</td>\n      <td>否</td>\n      <td>一般</td>\n      <td>否</td>\n    </tr>\n  </tbody>\n</table>\n</div>"
     },
     "metadata": {},
     "output_type": "execute_result",
     "execution_count": 267
    }
   ],
   "source": [
    "data, labels = create_data()\n",
    "train_data = pd.DataFrame(data, columns=labels)\n",
    "train_data"
   ],
   "metadata": {
    "collapsed": false,
    "pycharm": {
     "name": "#%%\n",
     "is_executing": false
    }
   }
  },
  {
   "cell_type": "code",
   "execution_count": 268,
   "outputs": [],
   "source": [
    "def gini_best(arr):\n",
    "    \n",
    "    def gini(y):\n",
    "        \"\"\"计算y的基尼指数\"\"\"\n",
    "        cate = Counter(y)\n",
    "        pro_vector = np.array(list(cate.values())) / len(y)\n",
    "        res = 1 - pro_vector @ pro_vector\n",
    "        \n",
    "        return res\n",
    "    \n",
    "    if gini(arr[:, -1]) == 0: # 判断是否为叶结点\n",
    "        return '叶结点,停止分裂'\n",
    "    \n",
    "    gini_dict = {}\n",
    "    for i in range(arr.shape[1] - 1):\n",
    "        counter = Counter(arr[:, i]) # 特征arr[:, i]不同取值及其个数\n",
    "        key = list(counter.keys())\n",
    "        counter_pro = dict(zip(counter.keys(), np.array(list(counter.values())) / 15)) # 特征arr[:, i]不同取值及其所占的比例\n",
    "        if len(key) == 1:\n",
    "            gi = gini(data[data[:, 1] == key[0]][:, -1])\n",
    "            gini_dict[i] = [key[0], gi]    \n",
    "        elif len(key) == 2:\n",
    "            gi = counter_pro[key[0]] * gini(data[data[:, i] == key[0]][:, -1]) + \\\n",
    "                 counter_pro[key[1]] * gini(data[data[:, i] == key[1]][:, -1])\n",
    "            gini_dict[i] = [key[0], gi]        \n",
    "        else:\n",
    "            temp_gini = list()\n",
    "            for j in key:\n",
    "                gi = counter_pro[j] * gini(data[data[:, i] == j][:, -1]) + \\\n",
    "                     (1 - counter_pro[j]) * gini(data[data[:, i] != j][:, -1]) # 将取值为j视为一类,取值不为j视为另一类\n",
    "                temp_gini.append([j, gi])\n",
    "            gini_dict[i] = min(temp_gini, key=lambda x:x[1])\n",
    "                        \n",
    "    return gini_dict # 返回不同特征的最优划分点和最优划分点对应的基尼指数"
   ],
   "metadata": {
    "collapsed": false,
    "pycharm": {
     "name": "#%%\n",
     "is_executing": false
    }
   }
  },
  {
   "cell_type": "code",
   "execution_count": 269,
   "outputs": [
    {
     "data": {
      "text/plain": "{0: ['老年', 0.43999999999999995],\n 1: ['否', 0.31999999999999995],\n 2: ['否', 0.26666666666666666],\n 3: ['一般', 0.31999999999999984]}"
     },
     "metadata": {},
     "output_type": "execute_result",
     "execution_count": 269
    }
   ],
   "source": [
    "first_record = gini_best(data)\n",
    "first_record"
   ],
   "metadata": {
    "collapsed": false,
    "pycharm": {
     "name": "#%%\n",
     "is_executing": false
    }
   }
  },
  {
   "cell_type": "code",
   "execution_count": 270,
   "outputs": [],
   "source": [
    "def find_best_split(arr, pro_record):\n",
    "    \"\"\"进行一次划分(二叉树)\"\"\"\n",
    "    best_gini = min(list(pro_record.values()), key=lambda x:x[1])\n",
    "    split_point = best_gini[0]\n",
    "    split_dim = 0\n",
    "    for i in pro_record.keys():\n",
    "        if pro_record[i] == best_gini:\n",
    "            split_dim = i\n",
    "    \n",
    "    r1 = arr[arr[:, split_dim] == split_point]\n",
    "    r2 = arr[arr[:, split_dim] != split_point]\n",
    "    \n",
    "    return r1, r2"
   ],
   "metadata": {
    "collapsed": false,
    "pycharm": {
     "name": "#%%\n",
     "is_executing": false
    }
   }
  },
  {
   "cell_type": "code",
   "execution_count": 271,
   "outputs": [
    {
     "name": "stdout",
     "text": [
      "[['青年' '否' '否' '一般' '否']\n",
      " ['青年' '否' '否' '好' '否']\n",
      " ['青年' '是' '否' '好' '是']\n",
      " ['青年' '否' '否' '一般' '否']\n",
      " ['中年' '否' '否' '一般' '否']\n",
      " ['中年' '否' '否' '好' '否']\n",
      " ['老年' '是' '否' '好' '是']\n",
      " ['老年' '是' '否' '非常好' '是']\n",
      " ['老年' '否' '否' '一般' '否']]\n",
      "[['青年' '是' '是' '一般' '是']\n",
      " ['中年' '是' '是' '好' '是']\n",
      " ['中年' '否' '是' '非常好' '是']\n",
      " ['中年' '否' '是' '非常好' '是']\n",
      " ['老年' '否' '是' '非常好' '是']\n",
      " ['老年' '否' '是' '好' '是']]\n"
     ],
     "output_type": "stream"
    }
   ],
   "source": [
    "left, right = find_best_split(data, first_record) # 第一次划分\n",
    "print(left)\n",
    "print(right)"
   ],
   "metadata": {
    "collapsed": false,
    "pycharm": {
     "name": "#%%\n",
     "is_executing": false
    }
   }
  },
  {
   "cell_type": "code",
   "execution_count": 276,
   "outputs": [
    {
     "data": {
      "text/plain": "'叶节点,停止分裂'"
     },
     "metadata": {},
     "output_type": "execute_result",
     "execution_count": 276
    }
   ],
   "source": [
    "gini_best(right)"
   ],
   "metadata": {
    "collapsed": false,
    "pycharm": {
     "name": "#%%\n",
     "is_executing": false
    }
   }
  },
  {
   "cell_type": "code",
   "execution_count": 277,
   "outputs": [
    {
     "data": {
      "text/plain": "{0: ['青年', 0.43600000000000005],\n 1: ['否', 0.192],\n 2: ['否', 0.48],\n 3: ['一般', 0.31999999999999984]}"
     },
     "metadata": {},
     "output_type": "execute_result",
     "execution_count": 277
    }
   ],
   "source": [
    "gini_best(left)"
   ],
   "metadata": {
    "collapsed": false,
    "pycharm": {
     "name": "#%%\n",
     "is_executing": false
    }
   }
  },
  {
   "cell_type": "code",
   "execution_count": 279,
   "outputs": [
    {
     "name": "stdout",
     "text": [
      "[['青年' '否' '否' '一般' '否']\n",
      " ['青年' '否' '否' '好' '否']\n",
      " ['青年' '否' '否' '一般' '否']\n",
      " ['中年' '否' '否' '一般' '否']\n",
      " ['中年' '否' '否' '好' '否']\n",
      " ['老年' '否' '否' '一般' '否']]\n",
      "[['青年' '是' '否' '好' '是']\n",
      " ['老年' '是' '否' '好' '是']\n",
      " ['老年' '是' '否' '非常好' '是']]\n"
     ],
     "output_type": "stream"
    }
   ],
   "source": [
    "left2, right2 = find_best_split(left, gini_best(left)) # 第二次划分\n",
    "print(left2)\n",
    "print(right2)"
   ],
   "metadata": {
    "collapsed": false,
    "pycharm": {
     "name": "#%%\n",
     "is_executing": false
    }
   }
  },
  {
   "cell_type": "code",
   "execution_count": 273,
   "outputs": [],
   "source": [
    "\n"
   ],
   "metadata": {
    "collapsed": false,
    "pycharm": {
     "name": "#%%\n",
     "is_executing": false
    }
   }
  }
 ],
 "metadata": {
  "kernelspec": {
   "display_name": "Python 3",
   "language": "python",
   "name": "python3"
  },
  "language_info": {
   "codemirror_mode": {
    "name": "ipython",
    "version": 2
   },
   "file_extension": ".py",
   "mimetype": "text/x-python",
   "name": "python",
   "nbconvert_exporter": "python",
   "pygments_lexer": "ipython2",
   "version": "2.7.6"
  },
  "pycharm": {
   "stem_cell": {
    "cell_type": "raw",
    "source": [],
    "metadata": {
     "collapsed": false
    }
   }
  }
 },
 "nbformat": 4,
 "nbformat_minor": 0
}