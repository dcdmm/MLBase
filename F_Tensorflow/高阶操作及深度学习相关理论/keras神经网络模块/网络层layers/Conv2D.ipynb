{
 "cells": [
  {
   "cell_type": "code",
   "execution_count": 1,
   "metadata": {
    "collapsed": true,
    "id": "zL_PhbDnKDH_",
    "executionInfo": {
     "status": "ok",
     "timestamp": 1640613064582,
     "user_tz": -480,
     "elapsed": 2585,
     "user": {
      "displayName": "chao duan",
      "photoUrl": "https://lh3.googleusercontent.com/a/default-user=s64",
      "userId": "17135086832970579355"
     }
    }
   },
   "outputs": [],
   "source": [
    "import tensorflow as tf"
   ]
  },
  {
   "cell_type": "markdown",
   "source": [
    "### 参考torch.nn.Conv2d"
   ],
   "metadata": {
    "collapsed": false,
    "pycharm": {
     "name": "#%% md\n"
    },
    "id": "1nh08eKkKDIA"
   }
  },
  {
   "cell_type": "code",
   "execution_count": 2,
   "outputs": [
    {
     "data": {
      "text/plain": "TensorShape([100, 50, 50, 16])"
     },
     "execution_count": 2,
     "metadata": {},
     "output_type": "execute_result"
    }
   ],
   "source": [
    "input_tensor = tf.random.stateless_normal(shape=(100, 50, 50, 16), seed=(1, 1))\n",
    "input_tensor.shape"
   ],
   "metadata": {
    "pycharm": {
     "name": "#%%\n"
    },
    "colab": {
     "base_uri": "https://localhost:8080/"
    },
    "id": "cUypnmSuKDIB",
    "executionInfo": {
     "status": "ok",
     "timestamp": 1640613064983,
     "user_tz": -480,
     "elapsed": 5,
     "user": {
      "displayName": "chao duan",
      "photoUrl": "https://lh3.googleusercontent.com/a/default-user=s64",
      "userId": "17135086832970579355"
     }
    },
    "outputId": "6f58fcac-8e76-4f82-9c3c-1b298da33b80"
   }
  },
  {
   "cell_type": "code",
   "execution_count": 3,
   "outputs": [
    {
     "data": {
      "text/plain": "TensorShape([100, 24, 24, 33])"
     },
     "execution_count": 3,
     "metadata": {},
     "output_type": "execute_result"
    }
   ],
   "source": [
    "'''\n",
    "Conv2D默认参数:\n",
    "tf.keras.layers.Conv2D(\n",
    "    filters, kernel_size, strides=(1, 1), padding='valid', data_format=None,\n",
    "    dilation_rate=(1, 1), activation=None, use_bias=True,\n",
    "    kernel_initializer='glorot_uniform', bias_initializer='zeros',\n",
    "    kernel_regularizer=None, bias_regularizer=None, activity_regularizer=None,\n",
    "    kernel_constraint=None, bias_constraint=None, **kwargs\n",
    ")\n",
    "'''\n",
    "# C_in和C_out在最后一个维度(注意和pytorch的区别)\n",
    "# Input: (N, H_in, W_in, C_in)\n",
    "# Out: (N, H_out, W_out, C_out)\n",
    "layer = tf.keras.layers.Conv2D(filters=33,  # 即C_out,参考torch.nn.Conv2d out_channels参数\n",
    "                               kernel_size=3,  # 参考torch.nn.Conv2d kernel_size参数\n",
    "                               strides=2,  # 参考torch.nn.Conv2d stride参数\n",
    "                               activation=None)  # Activation function to use.\n",
    "layer(input_tensor).shape"
   ],
   "metadata": {
    "pycharm": {
     "name": "#%%\n"
    },
    "colab": {
     "base_uri": "https://localhost:8080/"
    },
    "id": "RL5efF_TKDIC",
    "executionInfo": {
     "status": "ok",
     "timestamp": 1640613065456,
     "user_tz": -480,
     "elapsed": 476,
     "user": {
      "displayName": "chao duan",
      "photoUrl": "https://lh3.googleusercontent.com/a/default-user=s64",
      "userId": "17135086832970579355"
     }
    },
    "outputId": "5ea511c8-f4f6-4adb-a5fb-1cd1020b2a28"
   }
  },
  {
   "cell_type": "code",
   "execution_count": 4,
   "outputs": [
    {
     "data": {
      "text/plain": "[<tf.Variable 'conv2d/kernel:0' shape=(3, 3, 16, 33) dtype=float32, numpy=\n array([[[[-0.02998015,  0.01529859,  0.01919894, ...,  0.02321696,\n            0.11244686, -0.04853194],\n          [-0.10716882,  0.06701942, -0.07543909, ..., -0.00385685,\n           -0.11434943, -0.10142882],\n          [-0.05662899, -0.08279854, -0.11289293, ...,  0.01907766,\n            0.00399267,  0.05615197],\n          ...,\n          [ 0.08296214, -0.09867536, -0.06664352, ...,  0.01634391,\n           -0.03664622,  0.0120025 ],\n          [-0.0756948 ,  0.11458693, -0.09564376, ..., -0.00447853,\n            0.00604099,  0.06564112],\n          [ 0.05679765, -0.0469672 , -0.02442407, ..., -0.07679479,\n           -0.02313425, -0.01905187]],\n \n         [[-0.04731641,  0.03139079, -0.09003029, ...,  0.10502228,\n           -0.09000965, -0.08025724],\n          [ 0.0901482 , -0.03694339,  0.00065086, ..., -0.00326286,\n            0.01604266,  0.04107508],\n          [ 0.02772224,  0.00880042,  0.00731239, ..., -0.00277221,\n            0.04402849, -0.07523027],\n          ...,\n          [ 0.03398973, -0.06139374, -0.11154797, ..., -0.04576933,\n            0.00675798,  0.03881785],\n          [ 0.0546018 ,  0.01749183, -0.0081594 , ..., -0.07446475,\n           -0.08431311,  0.02683267],\n          [-0.02866839,  0.11135733,  0.01061264, ...,  0.10862803,\n           -0.10530382,  0.10310091]],\n \n         [[ 0.06066231, -0.06753491, -0.03134991, ..., -0.06469984,\n            0.06416248, -0.10174441],\n          [-0.03729785,  0.08431984, -0.00103744, ..., -0.01645386,\n            0.0382203 ,  0.10200918],\n          [-0.00400112,  0.08720037, -0.05998271, ...,  0.05945757,\n           -0.0077922 , -0.05763612],\n          ...,\n          [-0.00724865, -0.08175237,  0.06089248, ...,  0.09826666,\n            0.10097717,  0.0503834 ],\n          [ 0.08142647,  0.10239036,  0.02017441, ...,  0.06187819,\n           -0.07721288, -0.06040561],\n          [ 0.043954  ,  0.07417054, -0.05724882, ...,  0.10801835,\n           -0.09672061, -0.02139025]]],\n \n \n        [[[-0.0119953 ,  0.04683608,  0.01430999, ..., -0.01144055,\n            0.00120513,  0.05362479],\n          [ 0.04900977, -0.06332117,  0.06275931, ...,  0.1059992 ,\n           -0.03241639,  0.00469814],\n          [ 0.02843612,  0.04280818,  0.00228735, ..., -0.05650023,\n            0.09680349,  0.11599733],\n          ...,\n          [ 0.07584408, -0.0364387 ,  0.03558956, ..., -0.05190259,\n           -0.04647411, -0.09127221],\n          [ 0.02453348, -0.1143335 ,  0.0862285 , ...,  0.05229193,\n            0.04740962,  0.09428845],\n          [-0.02340802, -0.0501062 ,  0.11547953, ...,  0.08082895,\n           -0.08268721, -0.05426917]],\n \n         [[ 0.04683957,  0.09585644, -0.0284807 , ..., -0.11497734,\n           -0.08590069,  0.10953443],\n          [ 0.00411967,  0.04363577, -0.10062478, ..., -0.00697095,\n            0.05694653, -0.05810711],\n          [-0.08427407,  0.03229235,  0.05371137, ...,  0.02998424,\n           -0.07644866, -0.02347573],\n          ...,\n          [ 0.11043365,  0.0161408 ,  0.05034581, ..., -0.09164052,\n           -0.0689707 , -0.07069147],\n          [ 0.02395223,  0.07508858, -0.11628682, ..., -0.01144142,\n            0.1109383 , -0.10063761],\n          [ 0.00204629, -0.00172924, -0.10565865, ...,  0.06676674,\n           -0.04001947, -0.07393909]],\n \n         [[ 0.10396142,  0.01058176,  0.09994523, ...,  0.0271138 ,\n           -0.02343577, -0.11495952],\n          [-0.01848139, -0.02204904, -0.04985899, ...,  0.00190519,\n           -0.05135716, -0.09067297],\n          [ 0.0562547 ,  0.03944039, -0.0945646 , ..., -0.0062912 ,\n            0.08395551, -0.04044639],\n          ...,\n          [-0.11155289,  0.09596641,  0.05232339, ..., -0.1094072 ,\n           -0.02963942, -0.03156221],\n          [-0.04245347,  0.00203225,  0.03098522, ...,  0.08939984,\n            0.04530418, -0.03458148],\n          [-0.05219115,  0.09932511, -0.07248759, ...,  0.07581525,\n           -0.10117361,  0.04199325]]],\n \n \n        [[[ 0.05581361, -0.08033071, -0.0925984 , ...,  0.01975529,\n            0.07500301,  0.08509699],\n          [-0.01663474,  0.06820929,  0.04889433, ..., -0.01099401,\n            0.09727123, -0.01585189],\n          [-0.09520064, -0.06393099,  0.08850829, ..., -0.05736358,\n           -0.03739199, -0.00042368],\n          ...,\n          [ 0.01035914,  0.09107029,  0.09463204, ..., -0.02259552,\n            0.1060697 ,  0.05857924],\n          [-0.05660502,  0.11265938,  0.04113983, ..., -0.02302786,\n           -0.09967147,  0.00215092],\n          [ 0.07107063, -0.03629542, -0.11650304, ..., -0.04930959,\n           -0.07594366, -0.05629881]],\n \n         [[ 0.04502703, -0.01001536,  0.09741463, ..., -0.04016284,\n            0.05814348,  0.02402873],\n          [ 0.03084837,  0.00903818, -0.03117012, ...,  0.02480344,\n            0.11264406,  0.04933809],\n          [ 0.03193597,  0.10892798, -0.08674921, ...,  0.08632439,\n           -0.00724477, -0.00043862],\n          ...,\n          [ 0.10553929,  0.10730952, -0.04721304, ...,  0.04643251,\n           -0.04156425, -0.06539172],\n          [ 0.07809135, -0.11301   , -0.11581567, ..., -0.00176166,\n           -0.08904243,  0.10696642],\n          [ 0.01147971, -0.06657308,  0.08633707, ...,  0.10489981,\n            0.11271919,  0.11456749]],\n \n         [[-0.02083723,  0.08939664,  0.07403164, ..., -0.07128268,\n           -0.09869947, -0.10755697],\n          [ 0.11212407,  0.07306255,  0.07969703, ...,  0.11307235,\n            0.03947552, -0.09039696],\n          [ 0.00556895, -0.09761411,  0.05548826, ...,  0.05475345,\n            0.10535385,  0.08297819],\n          ...,\n          [ 0.05412148, -0.075048  , -0.06452414, ...,  0.02159113,\n           -0.00320604, -0.05968083],\n          [ 0.07517698,  0.01621754,  0.1157636 , ..., -0.08778276,\n           -0.08276615, -0.06462476],\n          [-0.01004668, -0.11067638, -0.00226207, ..., -0.05239338,\n           -0.09113567,  0.06156102]]]], dtype=float32)>,\n <tf.Variable 'conv2d/bias:0' shape=(33,) dtype=float32, numpy=\n array([0., 0., 0., 0., 0., 0., 0., 0., 0., 0., 0., 0., 0., 0., 0., 0., 0.,\n        0., 0., 0., 0., 0., 0., 0., 0., 0., 0., 0., 0., 0., 0., 0., 0.],\n       dtype=float32)>]"
     },
     "execution_count": 4,
     "metadata": {},
     "output_type": "execute_result"
    }
   ],
   "source": [
    "layer.weights  # 内部默认进行了glorot_uniform初始化"
   ],
   "metadata": {
    "pycharm": {
     "name": "#%%\n"
    },
    "colab": {
     "base_uri": "https://localhost:8080/"
    },
    "id": "i14YWKedKDIC",
    "executionInfo": {
     "status": "ok",
     "timestamp": 1640613065457,
     "user_tz": -480,
     "elapsed": 8,
     "user": {
      "displayName": "chao duan",
      "photoUrl": "https://lh3.googleusercontent.com/a/default-user=s64",
      "userId": "17135086832970579355"
     }
    },
    "outputId": "b754176e-acfc-479b-c7f5-093bec63b079"
   }
  },
  {
   "cell_type": "markdown",
   "source": [
    "padding = \"same\"时,输入和输出大小关系如下:输出大小等于输入大小除以步长向上取整\n",
    "\n",
    "$$ H_{out} =  \\bigg\\lceil \\frac{H_{in}}{strides[0]} \\bigg\\rceil $$\n",
    "\n",
    "$$ D_{out} =  \\bigg\\lceil \\frac{D_{in}}{strides[1]} \\bigg\\rceil $$"
   ],
   "metadata": {
    "collapsed": false,
    "pycharm": {
     "name": "#%% md\n"
    },
    "id": "rJhNoGmrKDID"
   }
  },
  {
   "cell_type": "code",
   "execution_count": 5,
   "outputs": [
    {
     "data": {
      "text/plain": "TensorShape([100, 17, 25, 33])"
     },
     "execution_count": 5,
     "metadata": {},
     "output_type": "execute_result"
    }
   ],
   "source": [
    "layer1 = tf.keras.layers.Conv2D(filters=33,\n",
    "                                kernel_size=(1, 5),\n",
    "                                strides=(3, 2),\n",
    "                                # one of \"valid\" or \"same\" (case-insensitive).\n",
    "                                # \"valid\" means no padding.\n",
    "                                # \"same\" results in padding with zeros evenly to the left/right or up/down of the input.\n",
    "                                # When padding=\"same\" and strides=1, the output has the same size as the input.\n",
    "                                padding=\"same\")  # 参考torch.nn.Conv2d padding参数\n",
    "layer1(input_tensor).shape"
   ],
   "metadata": {
    "pycharm": {
     "name": "#%%\n"
    },
    "colab": {
     "base_uri": "https://localhost:8080/"
    },
    "id": "Ju5klalpKDID",
    "executionInfo": {
     "status": "ok",
     "timestamp": 1640613065457,
     "user_tz": -480,
     "elapsed": 7,
     "user": {
      "displayName": "chao duan",
      "photoUrl": "https://lh3.googleusercontent.com/a/default-user=s64",
      "userId": "17135086832970579355"
     }
    },
    "outputId": "95249a25-ff3d-4d84-ae51-cf3c61823e94"
   }
  },
  {
   "cell_type": "code",
   "execution_count": 6,
   "outputs": [
    {
     "data": {
      "text/plain": "TensorShape([100, 50, 49, 33])"
     },
     "execution_count": 6,
     "metadata": {},
     "output_type": "execute_result"
    }
   ],
   "source": [
    "layer2 = tf.keras.layers.Conv2D(filters=33, kernel_size=(1, 2), strides=(1, 1),\n",
    "                                # dilation_rate value != 1 is incompatible with specifying any stride value != 1.\n",
    "                                dilation_rate=(3, 1))  # 参考torch.nn.Conv2d dilation参数\n",
    "layer2(input_tensor).shape"
   ],
   "metadata": {
    "pycharm": {
     "name": "#%%\n"
    },
    "colab": {
     "base_uri": "https://localhost:8080/"
    },
    "id": "5E3R0AUdKDID",
    "executionInfo": {
     "status": "ok",
     "timestamp": 1640613065457,
     "user_tz": -480,
     "elapsed": 5,
     "user": {
      "displayName": "chao duan",
      "photoUrl": "https://lh3.googleusercontent.com/a/default-user=s64",
      "userId": "17135086832970579355"
     }
    },
    "outputId": "269013be-8da6-4ad5-c43c-14c236c3ff75"
   }
  },
  {
   "cell_type": "code",
   "execution_count": 6,
   "outputs": [],
   "source": [
    ""
   ],
   "metadata": {
    "pycharm": {
     "name": "#%%\n"
    },
    "id": "8FfBMMDGKDIE",
    "executionInfo": {
     "status": "ok",
     "timestamp": 1640613065458,
     "user_tz": -480,
     "elapsed": 4,
     "user": {
      "displayName": "chao duan",
      "photoUrl": "https://lh3.googleusercontent.com/a/default-user=s64",
      "userId": "17135086832970579355"
     }
    }
   }
  }
 ],
 "metadata": {
  "kernelspec": {
   "display_name": "Python 3",
   "language": "python",
   "name": "python3"
  },
  "language_info": {
   "codemirror_mode": {
    "name": "ipython",
    "version": 2
   },
   "file_extension": ".py",
   "mimetype": "text/x-python",
   "name": "python",
   "nbconvert_exporter": "python",
   "pygments_lexer": "ipython2",
   "version": "2.7.6"
  },
  "colab": {
   "name": "Conv2D.ipynb",
   "provenance": [],
   "collapsed_sections": []
  }
 },
 "nbformat": 4,
 "nbformat_minor": 0
}