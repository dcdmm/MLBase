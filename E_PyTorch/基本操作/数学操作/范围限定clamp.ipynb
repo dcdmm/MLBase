{
 "cells": [
  {
   "cell_type": "markdown",
   "metadata": {
    "collapsed": true,
    "pycharm": {
     "name": "#%% md\n"
    }
   },
   "source": [
    "Clamp all elements in input into the range [ min, max ] and return a resulting tensor:\n",
    "\n",
    "\\begin{equation}\n",
    "y_i=\\begin{cases}\n",
    "\t    \\min, & \\text{if} \\quad  x < \\min \\\\\n",
    "        x_i, & \\text{if} \\quad  \\min< x < \\max \\\\\n",
    "        \\max, & \\text{if} \\quad x> \\max\n",
    "     \\end{cases}\n",
    "\\end{equation}"
   ]
  },
  {
   "cell_type": "code",
   "execution_count": 12,
   "outputs": [
    {
     "name": "stdout",
     "output_type": "stream",
     "text": [
      "tensor(13.2107)\n",
      "tensor(0.1804)\n"
     ]
    }
   ],
   "source": [
    "import torch\n",
    "\n",
    "grad = torch.rand(4, 4) * 15\n",
    "print(torch.max(grad))\n",
    "print(torch.min(grad))"
   ],
   "metadata": {
    "collapsed": false,
    "pycharm": {
     "name": "#%%\n"
    }
   }
  },
  {
   "cell_type": "code",
   "execution_count": 13,
   "outputs": [
    {
     "data": {
      "text/plain": "tensor([[ 5.1421, 10.2116,  5.7492,  0.7315],\n        [ 1.8783,  6.9327,  9.9200,  7.9928],\n        [ 4.6797,  8.8012,  7.7973, 11.7521],\n        [ 2.9439,  0.1804,  4.0468, 13.2107]])"
     },
     "execution_count": 13,
     "metadata": {},
     "output_type": "execute_result"
    }
   ],
   "source": [
    "grad"
   ],
   "metadata": {
    "collapsed": false,
    "pycharm": {
     "name": "#%%\n"
    }
   }
  },
  {
   "cell_type": "code",
   "execution_count": 14,
   "outputs": [
    {
     "data": {
      "text/plain": "tensor([[ 6.0000, 10.2116,  6.0000,  6.0000],\n        [ 6.0000,  6.9327,  9.9200,  7.9928],\n        [ 6.0000,  8.8012,  7.7973, 11.7521],\n        [ 6.0000,  6.0000,  6.0000, 13.2107]])"
     },
     "execution_count": 14,
     "metadata": {},
     "output_type": "execute_result"
    }
   ],
   "source": [
    "torch.clamp(grad, min=6)"
   ],
   "metadata": {
    "collapsed": false,
    "pycharm": {
     "name": "#%%\n"
    }
   }
  },
  {
   "cell_type": "code",
   "execution_count": 15,
   "outputs": [
    {
     "data": {
      "text/plain": "tensor([[5.1421, 6.0000, 5.7492, 0.7315],\n        [1.8783, 6.0000, 6.0000, 6.0000],\n        [4.6797, 6.0000, 6.0000, 6.0000],\n        [2.9439, 0.1804, 4.0468, 6.0000]])"
     },
     "execution_count": 15,
     "metadata": {},
     "output_type": "execute_result"
    }
   ],
   "source": [
    "torch.clamp(grad, max=6)"
   ],
   "metadata": {
    "collapsed": false,
    "pycharm": {
     "name": "#%%\n"
    }
   }
  },
  {
   "cell_type": "code",
   "execution_count": 16,
   "outputs": [
    {
     "data": {
      "text/plain": "tensor([[6.0000, 7.0000, 6.0000, 6.0000],\n        [6.0000, 6.9327, 7.0000, 7.0000],\n        [6.0000, 7.0000, 7.0000, 7.0000],\n        [6.0000, 6.0000, 6.0000, 7.0000]])"
     },
     "execution_count": 16,
     "metadata": {},
     "output_type": "execute_result"
    }
   ],
   "source": [
    "torch.clamp(grad, min=6, max=7)"
   ],
   "metadata": {
    "collapsed": false,
    "pycharm": {
     "name": "#%%\n"
    }
   }
  },
  {
   "cell_type": "code",
   "execution_count": 16,
   "outputs": [],
   "source": [
    "\n"
   ],
   "metadata": {
    "collapsed": false,
    "pycharm": {
     "name": "#%%\n"
    }
   }
  }
 ],
 "metadata": {
  "kernelspec": {
   "display_name": "Python 3",
   "language": "python",
   "name": "python3"
  },
  "language_info": {
   "codemirror_mode": {
    "name": "ipython",
    "version": 2
   },
   "file_extension": ".py",
   "mimetype": "text/x-python",
   "name": "python",
   "nbconvert_exporter": "python",
   "pygments_lexer": "ipython2",
   "version": "2.7.6"
  }
 },
 "nbformat": 4,
 "nbformat_minor": 0
}