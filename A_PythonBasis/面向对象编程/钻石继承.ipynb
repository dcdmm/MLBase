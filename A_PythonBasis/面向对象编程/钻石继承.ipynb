{
 "cells": [
  {
   "cell_type": "code",
   "execution_count": null,
   "outputs": [],
   "source": [
    "# 钻石继承问题\n",
    "class A:\n",
    "\tdef __init__(self):\n",
    "\t\tprint(\"进入A…\")\n",
    "\t\tprint(\"离开A…\")\n",
    "\n",
    "\n",
    "class B(A):\n",
    "\tdef __init__(self):\n",
    "\t\tprint(\"进入B…\")\n",
    "\t\tA.__init__(self)\n",
    "\t\tprint(\"离开B…\")\n",
    "\n",
    "\n",
    "class C(A):\n",
    "\tdef __init__(self):\n",
    "\t\tprint(\"进入C…\")\n",
    "\t\tA.__init__(self)\n",
    "\t\tprint(\"离开C…\")\n",
    "\n",
    "\n",
    "class D(B, C):\n",
    "\tdef __init__(self):\n",
    "\t\tprint(\"进入D…\")\n",
    "\t\tB.__init__(self)\n",
    "\t\tC.__init__(self)\n",
    "\t\tprint(\"离开D…\")\n",
    "\n",
    "d = D() # 类A被调用了2次\n",
    "\n",
    "print(d.__class__) # 实例调用__class__属性时会指向该实例对应的类\n",
    "print(D.mro()) # 使用类名.__mro__ 获得 MRO 的顺序\n",
    "'''\n",
    "MRO遵循以下三条顺序\n",
    "1,子类永远在父类前面\n",
    "2,如果有多个父类，会根据它们在列表中的顺序被检查\n",
    "3,如果对下一个类存在两个合法的选择，选择第一个父类\n",
    "'''\n",
    "print(D.__bases__) # 使用类名.__bases__查看该类的所有直接父类"
   ],
   "metadata": {
    "collapsed": false,
    "pycharm": {
     "name": "#%%\n"
    }
   }
  },
  {
   "cell_type": "code",
   "execution_count": 2,
   "outputs": [
    {
     "name": "stdout",
     "text": [
      "['D', 'B', 'C', 'A', 'object']\n进入D…\n进入B…\n进入C…\n进入A…\n离开A…\n离开C…\n离开B…\n离开D…\n"
     ],
     "output_type": "stream"
    }
   ],
   "source": [
    "# 如何解决钻石继承,利用super函数\n",
    "class A:\n",
    "\tdef __init__(self):\n",
    "\t\tprint(\"进入A…\")\n",
    "\t\tprint(\"离开A…\")\n",
    "\n",
    "\n",
    "class B(A):\n",
    "\tdef __init__(self):\n",
    "\t\tprint(\"进入B…\")\n",
    "\t\tsuper().__init__()\n",
    "\t\tprint(\"离开B…\")\n",
    "\n",
    "class C(A):\n",
    "    def __init__(self):\n",
    "        print(\"进入C…\")\n",
    "        super().__init__() # 等价于:super(C, self).__init__()\n",
    "        print(\"离开C…\")\n",
    "\n",
    "\n",
    "class D(B, C): # python支持多继承(不推荐)\n",
    "\tdef __init__(self):\n",
    "\t\tprint(\"进入D…\")\n",
    "\t\tsuper().__init__()\n",
    "\t\tprint(\"离开D…\")\n",
    "\n",
    "print([i.__name__ for i in D.mro()])\n",
    "'''\n",
    "super工作原理:\n",
    "def super(cls, inst):\n",
    "    mro = inst.__class__.mro()\n",
    "    return mro[mro.index(cls) + 1]\n",
    "    \n",
    "其中,cls代表类,inst代表实例,上面的代码做了两件事：\n",
    "1, 获取inst的MRO列表\n",
    "2, 查找cls在当前MRO列表中的index,并返回它的下一个类,即mro[index + 1]\n",
    "\n",
    "当你使用super(cls,inst)时,Python会在inst的MRO列表上搜索cls的下一个类\n",
    "'''\n",
    "new_d = D() "
   ],
   "metadata": {
    "pycharm": {
     "metadata": false,
     "name": "#%%\n",
     "is_executing": false
    }
   }
  },
  {
   "cell_type": "code",
   "execution_count": null,
   "outputs": [],
   "source": "\n",
   "metadata": {
    "pycharm": {
     "metadata": false,
     "name": "#%%\n"
    }
   }
  }
 ],
 "metadata": {
  "language_info": {
   "codemirror_mode": {
    "name": "ipython",
    "version": 2
   },
   "file_extension": ".py",
   "mimetype": "text/x-python",
   "name": "python",
   "nbconvert_exporter": "python",
   "pygments_lexer": "ipython2",
   "version": "2.7.6"
  },
  "kernelspec": {
   "name": "python3",
   "language": "python",
   "display_name": "Python 3"
  }
 },
 "nbformat": 4,
 "nbformat_minor": 0
}