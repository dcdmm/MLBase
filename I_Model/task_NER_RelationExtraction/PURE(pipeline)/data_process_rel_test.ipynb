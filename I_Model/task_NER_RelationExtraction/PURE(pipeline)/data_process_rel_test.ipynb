{
 "cells": [
  {
   "cell_type": "code",
   "execution_count": 5,
   "id": "cc4ff3e5-1ecc-4688-9428-a2bd5b62667d",
   "metadata": {},
   "outputs": [],
   "source": [
    "from transformers import BertTokenizerFast\n",
    "import json"
   ]
  },
  {
   "cell_type": "code",
   "execution_count": 6,
   "id": "d50d42c4-15e2-4aef-b890-857b2761296d",
   "metadata": {},
   "outputs": [
    {
     "name": "stdout",
     "output_type": "stream",
     "text": [
      "PreTrainedTokenizerFast(name_or_path='./save_tokenizer/', vocab_size=21128, model_max_len=1000000000000000019884624838656, is_fast=True, padding_side='right', truncation_side='right', special_tokens={'unk_token': '[UNK]', 'sep_token': '[SEP]', 'pad_token': '[PAD]', 'cls_token': '[CLS]', 'mask_token': '[MASK]'})\n"
     ]
    }
   ],
   "source": [
    "tokenizer_fast = BertTokenizerFast.from_pretrained('./save_tokenizer/')\n",
    "print(tokenizer_fast)"
   ]
  },
  {
   "cell_type": "code",
   "execution_count": 7,
   "id": "41f9aac6-6dfc-447d-b944-8192fcf100eb",
   "metadata": {},
   "outputs": [],
   "source": [
    "test_data = []\n",
    "\n",
    "with open('result_data/ner.json', 'r', encoding='utf-8') as f:\n",
    "    for ners_sentence in json.load(f):\n",
    "\n",
    "        offset_mapping_output = tokenizer_fast(ners_sentence['sent'], return_offsets_mapping=True)[\"offset_mapping\"]\n",
    "        # 处理原句空格\n",
    "        offset_mapping = []\n",
    "        for i, (start, end) in enumerate(offset_mapping_output):\n",
    "            if (end > 0) and (i >= 2):\n",
    "                start -= (i - 1)\n",
    "                end -= (i - 1)\n",
    "            offset_mapping.append((start, end))\n",
    "\n",
    "        start_mapping = {j[0]: i for i, j in enumerate(offset_mapping) if j != (0, 0)}\n",
    "        # j[1] - 1表示该token结尾字符的位置\n",
    "        end_mapping = {j[1] - 1: i for i, j in enumerate(offset_mapping) if j != (0, 0)}\n",
    "\n",
    "        # example:{\"[0, 2, '器官组织', '胸廓']\": [1, 2], \"[2, 4, '阴性表现', '对称']\": [3, 4], xxxxxx}\n",
    "        ner_idx_dict = dict()\n",
    "        for ent in ners_sentence['ners']:\n",
    "            start_idx, end_idx, entity_type, entity_text = ent[0], ent[1] - 1, ent[2], ent[3]\n",
    "            if start_idx in start_mapping and end_idx in end_mapping:\n",
    "                start_span = start_mapping[start_idx]\n",
    "                end_span = end_mapping[end_idx]\n",
    "            ner_idx_dict[str(ent)] = [start_span, end_span]\n",
    "\n",
    "        # example:{\"[0, 2, '器官组织', '胸廓']\": [94, 95], \"[2, 4, '阴性表现', '对称']\": [96, 97], xxxxxx}\n",
    "        ner_token_idx_dict = dict()\n",
    "        # [CLS] 胸 廓 对 称 ， 气 管 居 中 。 所 见 骨 骼 骨 质 结 构 完 整 。 双 肺 纹 理 清 晰 。 两 肺 门 影 不 大 。 心 影 横 径 增 大 ， 左 心 缘 饱 满 。 两 侧 膈 面 光 整 ， 两 侧 肋 膈 角 锐 利 。 1 . 两 肺 未 见 明 显 活 动 性 病 变 ， 随 诊 。 2 . 心 影 改 变 请 结 合 临 床 。 [SEP] [器官组织] [/器官组织] [阴性表现] [/阴性表现] [器官组织] [/器官组织] [阴性表现] [/阴性表现] [器官组织] [/器官组织] [属性] [/属性] [阴性表现] [/阴性表现] [器官组织] [/器官组织] [属性] [/属性] [阴性表现] [/阴性表现] [器官组织] [/器官组织] [阴性表现] [/阴性表现] [器官组织] [/器官组织] [属性] [/属性] [阳性表现] [/阳性表现] [器官组织] [/器官组织] [阳性表现] [/阳性表现] [器官组织] [/器官组织] [阴性表现] [/阴性表现] [器官组织] [/器官组织] [阴性表现] [/阴性表现] [器官组织] [/器官组织] [否定描述] [/否定描述] [修饰描述] [/修饰描述] [修饰描述] [/修饰描述] [异常现象] [/异常现象] [器官组织] [/器官组织] [异常现象] [/异常现象]\n",
    "        sentence_text = '[CLS] ' + ners_sentence['sent'] + ' [SEP]'\n",
    "        position_ids = [i for i in range(len(offset_mapping))]\n",
    "        for ner in ners_sentence['ners']:\n",
    "            sentence_text += f' [{ner[2]}] [/{ner[2]}]'  # 加入实体对应的类型\n",
    "            ner_token_idx_dict[str(ner)] = [len(offset_mapping) + i for i in\n",
    "                                            range(2)]  # 实体对应的类型(type)该token在sentence_text中的位置\n",
    "            position_ids.extend(ner_idx_dict[str(ner)])  # 位置编码共享位置信息\n",
    "\n",
    "        relation, relation_idx = [], []\n",
    "        for sub in ners_sentence['ners']:  # sub:[0, 2, '器官组织', '胸廓']\n",
    "            for obj in ners_sentence['ners']:\n",
    "                if str(sub) == str(obj):\n",
    "                    continue\n",
    "                # relation,relation_idx可能为空列表\n",
    "                relation.append(f'{str(sub)}\\t{str(obj)}')\n",
    "                relation_idx.append(ner_token_idx_dict[str(sub)] + ner_token_idx_dict[str(obj)])\n",
    "\n",
    "        test_data.append({'sentence_text': sentence_text,\n",
    "                          'position_ids': position_ids,\n",
    "                          'relation': relation,\n",
    "                          'relation_idx': relation_idx})"
   ]
  },
  {
   "cell_type": "code",
   "execution_count": 8,
   "id": "0c63c184-33b9-4f66-92e6-99537498708e",
   "metadata": {
    "pycharm": {
     "name": "#%%\n"
    }
   },
   "outputs": [],
   "source": [
    "with open('result_data/ner_rel_predict.json', 'w', encoding='utf-8') as f:\n",
    "    json.dump(test_data, f, ensure_ascii=False, indent=2)\n",
    "\n",
    "\n"
   ]
  }
 ],
 "metadata": {
  "kernelspec": {
   "display_name": "env_3812",
   "language": "python",
   "name": "env_3812"
  },
  "language_info": {
   "codemirror_mode": {
    "name": "ipython",
    "version": 3
   },
   "file_extension": ".py",
   "mimetype": "text/x-python",
   "name": "python",
   "nbconvert_exporter": "python",
   "pygments_lexer": "ipython3",
   "version": "3.8.12"
  }
 },
 "nbformat": 4,
 "nbformat_minor": 5
}