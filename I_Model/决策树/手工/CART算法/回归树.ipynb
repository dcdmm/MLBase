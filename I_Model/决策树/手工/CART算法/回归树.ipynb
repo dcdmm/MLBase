{
 "cells": [
  {
   "cell_type": "code",
   "execution_count": 41,
   "metadata": {
    "collapsed": true,
    "pycharm": {
     "is_executing": false,
     "name": "#%%\n"
    }
   },
   "outputs": [],
   "source": [
    "import numpy as np\n",
    "import pandas as pd"
   ]
  },
  {
   "cell_type": "code",
   "execution_count": 42,
   "outputs": [
    {
     "data": {
      "text/plain": "array([[ 1.  ,  5.56],\n       [ 2.  ,  5.7 ],\n       [ 3.  ,  5.91],\n       [ 4.  ,  6.4 ],\n       [ 5.  ,  6.8 ],\n       [ 6.  ,  7.05],\n       [ 7.  ,  8.9 ],\n       [ 8.  ,  8.7 ],\n       [ 9.  ,  9.  ],\n       [10.  ,  9.05]])"
     },
     "metadata": {},
     "output_type": "execute_result",
     "execution_count": 42
    }
   ],
   "source": [
    "x = np.arange(1, 11).reshape(-1, 1)\n",
    "y = np.array([5.56,\t5.7, 5.91, 6.4,\t6.8, 7.05, 8.9,\t8.7, 9,\t9.05]).reshape(-1, 1)\n",
    "data = np.concatenate((x, y), axis=1)\n",
    "data"
   ],
   "metadata": {
    "collapsed": false,
    "pycharm": {
     "name": "#%%\n",
     "is_executing": false
    }
   }
  },
  {
   "cell_type": "code",
   "execution_count": 43,
   "outputs": [],
   "source": [
    "def split_record(mat, axis=0):\n",
    "    \"\"\"某个特征上不同切分点对应的c1,c2和loss\"\"\"\n",
    "    point_list = list() # 不同的切分点\n",
    "    for i in range(len(mat) - 1):\n",
    "        point_list.append((mat[i][axis] + mat[i+1][axis])/2)\n",
    "        \n",
    "    record = list()\n",
    "    for point in point_list:\n",
    "        c1 = np.mean(mat[mat[:, 0] <= point], axis=0)[1]\n",
    "        c2 = np.mean(mat[mat[:, 0] > point], axis=0)[1]\n",
    "        the_loss = sum(list(map(lambda  s: s**2, mat[mat[:, 0] <= point][:, 1] - c1))) +\\\n",
    "                   sum(list(map(lambda  z: z**2, mat[mat[:, 0] > point][:, 1] - c2)))\n",
    "        record.append([point, c1, c2, the_loss])\n",
    "    \n",
    "    return np.array(record)\n",
    "        "
   ],
   "metadata": {
    "collapsed": false,
    "pycharm": {
     "name": "#%%\n",
     "is_executing": false
    }
   }
  },
  {
   "cell_type": "code",
   "execution_count": 44,
   "outputs": [
    {
     "data": {
      "text/plain": "              0          1         2         3        4         5         6  \\\n切分点    1.500000   2.500000  3.500000  4.500000  5.50000  6.500000  7.500000   \nc1     5.560000   5.630000  5.723333  5.892500  6.07400  6.236667  6.617143   \nc2     7.501111   7.726250  7.985714  8.250000  8.54000  8.912500  8.916667   \nloss  15.723089  12.083388  8.365638  5.775475  3.91132  1.930008  8.009810   \n\n            7          8  \n切分点    8.5000   9.500000  \nc1     6.8775   7.113333  \nc2     9.0250   9.050000  \nloss  11.7354  15.738600  ",
      "text/html": "<div>\n<style scoped>\n    .dataframe tbody tr th:only-of-type {\n        vertical-align: middle;\n    }\n\n    .dataframe tbody tr th {\n        vertical-align: top;\n    }\n\n    .dataframe thead th {\n        text-align: right;\n    }\n</style>\n<table border=\"1\" class=\"dataframe\">\n  <thead>\n    <tr style=\"text-align: right;\">\n      <th></th>\n      <th>0</th>\n      <th>1</th>\n      <th>2</th>\n      <th>3</th>\n      <th>4</th>\n      <th>5</th>\n      <th>6</th>\n      <th>7</th>\n      <th>8</th>\n    </tr>\n  </thead>\n  <tbody>\n    <tr>\n      <td>切分点</td>\n      <td>1.500000</td>\n      <td>2.500000</td>\n      <td>3.500000</td>\n      <td>4.500000</td>\n      <td>5.50000</td>\n      <td>6.500000</td>\n      <td>7.500000</td>\n      <td>8.5000</td>\n      <td>9.500000</td>\n    </tr>\n    <tr>\n      <td>c1</td>\n      <td>5.560000</td>\n      <td>5.630000</td>\n      <td>5.723333</td>\n      <td>5.892500</td>\n      <td>6.07400</td>\n      <td>6.236667</td>\n      <td>6.617143</td>\n      <td>6.8775</td>\n      <td>7.113333</td>\n    </tr>\n    <tr>\n      <td>c2</td>\n      <td>7.501111</td>\n      <td>7.726250</td>\n      <td>7.985714</td>\n      <td>8.250000</td>\n      <td>8.54000</td>\n      <td>8.912500</td>\n      <td>8.916667</td>\n      <td>9.0250</td>\n      <td>9.050000</td>\n    </tr>\n    <tr>\n      <td>loss</td>\n      <td>15.723089</td>\n      <td>12.083388</td>\n      <td>8.365638</td>\n      <td>5.775475</td>\n      <td>3.91132</td>\n      <td>1.930008</td>\n      <td>8.009810</td>\n      <td>11.7354</td>\n      <td>15.738600</td>\n    </tr>\n  </tbody>\n</table>\n</div>"
     },
     "metadata": {},
     "output_type": "execute_result",
     "execution_count": 44
    }
   ],
   "source": [
    "first_record = split_record(data, axis=0)\n",
    "columns = ['切分点', 'c1', 'c2', 'loss']\n",
    "pd.DataFrame(first_record.T, index=columns)"
   ],
   "metadata": {
    "collapsed": false,
    "pycharm": {
     "name": "#%%\n",
     "is_executing": false
    }
   }
  },
  {
   "cell_type": "code",
   "execution_count": 45,
   "outputs": [],
   "source": [
    "def find_best_split(mat, pre_record, axis=0):\n",
    "    \"\"\"最优的划分:r1,r2\"\"\"\n",
    "    best_point = pre_record[pre_record[:, 3] == np.min(pre_record[:, 3])][0][0]\n",
    "    print('最佳切分点为:', best_point)\n",
    "    r1 = mat[mat[:, axis] <= best_point]\n",
    "    r2 = mat[mat[:, axis] > best_point]\n",
    "    \n",
    "    return r1, r2"
   ],
   "metadata": {
    "collapsed": false,
    "pycharm": {
     "name": "#%%\n",
     "is_executing": false
    }
   }
  },
  {
   "cell_type": "code",
   "execution_count": 46,
   "outputs": [
    {
     "name": "stdout",
     "text": [
      "最佳切分点为: 6.5\n",
      "[[1.   5.56]\n",
      " [2.   5.7 ]\n",
      " [3.   5.91]\n",
      " [4.   6.4 ]\n",
      " [5.   6.8 ]\n",
      " [6.   7.05]]\n",
      "\n",
      "[[ 7.    8.9 ]\n",
      " [ 8.    8.7 ]\n",
      " [ 9.    9.  ]\n",
      " [10.    9.05]]\n"
     ],
     "output_type": "stream"
    }
   ],
   "source": [
    "left1, right1 = find_best_split(data, first_record) # 第一次划分(二叉树)\n",
    "\n",
    "print(left1, end='\\n\\n')\n",
    "print(right1)"
   ],
   "metadata": {
    "collapsed": false,
    "pycharm": {
     "name": "#%%\n",
     "is_executing": false
    }
   }
  },
  {
   "cell_type": "code",
   "execution_count": 47,
   "outputs": [
    {
     "data": {
      "text/plain": "            0      1         2         3        4\n切分点   1.50000  2.500  3.500000  4.500000  5.50000\nc1    5.56000  5.630  5.723333  5.892500  6.07400\nc2    6.37200  6.540  6.750000  6.925000  7.05000\nloss  1.30868  0.754  0.277067  0.436725  1.06432",
      "text/html": "<div>\n<style scoped>\n    .dataframe tbody tr th:only-of-type {\n        vertical-align: middle;\n    }\n\n    .dataframe tbody tr th {\n        vertical-align: top;\n    }\n\n    .dataframe thead th {\n        text-align: right;\n    }\n</style>\n<table border=\"1\" class=\"dataframe\">\n  <thead>\n    <tr style=\"text-align: right;\">\n      <th></th>\n      <th>0</th>\n      <th>1</th>\n      <th>2</th>\n      <th>3</th>\n      <th>4</th>\n    </tr>\n  </thead>\n  <tbody>\n    <tr>\n      <td>切分点</td>\n      <td>1.50000</td>\n      <td>2.500</td>\n      <td>3.500000</td>\n      <td>4.500000</td>\n      <td>5.50000</td>\n    </tr>\n    <tr>\n      <td>c1</td>\n      <td>5.56000</td>\n      <td>5.630</td>\n      <td>5.723333</td>\n      <td>5.892500</td>\n      <td>6.07400</td>\n    </tr>\n    <tr>\n      <td>c2</td>\n      <td>6.37200</td>\n      <td>6.540</td>\n      <td>6.750000</td>\n      <td>6.925000</td>\n      <td>7.05000</td>\n    </tr>\n    <tr>\n      <td>loss</td>\n      <td>1.30868</td>\n      <td>0.754</td>\n      <td>0.277067</td>\n      <td>0.436725</td>\n      <td>1.06432</td>\n    </tr>\n  </tbody>\n</table>\n</div>"
     },
     "metadata": {},
     "output_type": "execute_result",
     "execution_count": 47
    }
   ],
   "source": [
    "second_record = split_record(left1, axis=0)\n",
    "pd.DataFrame(second_record.T, index=columns)"
   ],
   "metadata": {
    "collapsed": false,
    "pycharm": {
     "name": "#%%\n",
     "is_executing": false
    }
   }
  },
  {
   "cell_type": "code",
   "execution_count": 48,
   "outputs": [
    {
     "name": "stdout",
     "text": [
      "最佳切分点为: 3.5\n",
      "[[1.   5.56]\n",
      " [2.   5.7 ]\n",
      " [3.   5.91]]\n",
      "\n",
      "[[4.   6.4 ]\n",
      " [5.   6.8 ]\n",
      " [6.   7.05]]\n"
     ],
     "output_type": "stream"
    }
   ],
   "source": [
    "left2, right2 = find_best_split(left1, second_record) # 第二次划分\n",
    "print(left2, end='\\n\\n')\n",
    "print(right2)"
   ],
   "metadata": {
    "collapsed": false,
    "pycharm": {
     "name": "#%%\n",
     "is_executing": false
    }
   }
  },
  {
   "cell_type": "code",
   "execution_count": 48,
   "outputs": [],
   "source": [
    "\n",
    "\n"
   ],
   "metadata": {
    "collapsed": false,
    "pycharm": {
     "name": "#%%\n",
     "is_executing": false
    }
   }
  }
 ],
 "metadata": {
  "kernelspec": {
   "display_name": "Python 3",
   "language": "python",
   "name": "python3"
  },
  "language_info": {
   "codemirror_mode": {
    "name": "ipython",
    "version": 2
   },
   "file_extension": ".py",
   "mimetype": "text/x-python",
   "name": "python",
   "nbconvert_exporter": "python",
   "pygments_lexer": "ipython2",
   "version": "2.7.6"
  },
  "pycharm": {
   "stem_cell": {
    "cell_type": "raw",
    "source": [],
    "metadata": {
     "collapsed": false
    }
   }
  }
 },
 "nbformat": 4,
 "nbformat_minor": 0
}