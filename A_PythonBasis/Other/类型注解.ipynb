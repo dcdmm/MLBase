{
 "cells": [
  {
   "cell_type": "code",
   "execution_count": 39,
   "metadata": {
    "collapsed": true,
    "pycharm": {
     "name": "#%%\n"
    }
   },
   "outputs": [
    {
     "name": "stdout",
     "output_type": "stream",
     "text": [
      "{'x': <class 'float'>, 'y': <class 'int'>, 'z': <class 'bool'>, 'm': <class 'str'>, 'return': <class 'int'>}\n",
      "1\n",
      "1\n",
      "1\n",
      "1\n",
      "1\n"
     ]
    }
   ],
   "source": [
    "# 内置注解类型:int,bool,float,str\n",
    "def func1(x: float, y: int, z: bool, m: str) -> int:\n",
    "    return 1\n",
    "\n",
    "\n",
    "print(func1.__annotations__)\n",
    "\n",
    "# 数据类型精度大小:bool===>int===>float\n",
    "print(func1(4, 5, True, \"duan\"))  #  精度低类型int自动提升为精度高类型float\n",
    "print(func1(\"dc\", 2, True, \"chao\"))  # 提示类型不匹配\n",
    "print(func1(3.1, 2.4, False, \"chao\"))  # 提示类型不匹配\n",
    "print(func1(4.4, 2, 23, \"chao\"))  # 提示类型不匹配\n",
    "print(func1(4.4, 2, False, 51))  # 提示类型不匹配"
   ]
  },
  {
   "cell_type": "code",
   "execution_count": 65,
   "outputs": [
    {
     "name": "stdout",
     "output_type": "stream",
     "text": [
      "{'x': typing.List[float], 'y': typing.List[str], 'return': <class 'int'>}\n",
      "1\n",
      "1\n",
      "1\n"
     ]
    }
   ],
   "source": [
    "\n",
    "from typing import List\n",
    "\n",
    "\n",
    "def func_list(x: List[float], y: List[str]) -> int:\n",
    "    return 1\n",
    "\n",
    "\n",
    "print(func_list.__annotations__)\n",
    "\n",
    "print(func_list(x=[1.2, \"dcgo\"], y=[\"duan\", 2.3]))  # 只需有一个元素满足要求即可\n",
    "print(func_list(x=[\"dcgo\"], y=[\"duan\", 2.3]))  # 提示类型不匹配\n",
    "print(func_list(x=[1.2, \"dcgo\"], y=[2.3]))  # 提示类型不匹配"
   ],
   "metadata": {
    "collapsed": false,
    "pycharm": {
     "name": "#%%\n"
    }
   }
  },
  {
   "cell_type": "code",
   "execution_count": 70,
   "outputs": [
    {
     "name": "stdout",
     "output_type": "stream",
     "text": [
      "{'x': typing.Tuple[int, float, str], 'return': <class 'int'>}\n",
      "1\n"
     ]
    }
   ],
   "source": [
    "from typing import Tuple\n",
    "\n",
    "\n",
    "# 表明元组的第一个元素类型为int,第二个元素类型为float,第三个元素类型为str\n",
    "def func_tuple(x: Tuple[int, float, str]) -> int:\n",
    "    return 1\n",
    "\n",
    "\n",
    "print(func_tuple.__annotations__)\n",
    "\n",
    "print(func_tuple(x=(3, 3.5, 'duan')))\n",
    "print(func_tuple(x=(3, 3.5, 1)))  # 提示类型不匹配"
   ],
   "metadata": {
    "collapsed": false,
    "pycharm": {
     "name": "#%%\n"
    }
   }
  },
  {
   "cell_type": "code",
   "execution_count": 75,
   "outputs": [
    {
     "name": "stdout",
     "output_type": "stream",
     "text": [
      "{'x': typing.Dict[str, int], 'return': <class 'int'>}\n",
      "1\n",
      "1\n",
      "1\n"
     ]
    }
   ],
   "source": [
    "from typing import Dict\n",
    "\n",
    "\n",
    "def func_dict(x: Dict[str, int]) -> int:\n",
    "    return 1\n",
    "\n",
    "\n",
    "print(func_dict.__annotations__)\n",
    "\n",
    "print(func_dict(x={\"duan\": 3, \"chao\": 3.4, (2,): 3}))  # 只需有一个元素满足要求即可\n",
    "print(func_dict(x={\"duan\": 3.0}))  # 提示类型不匹配\n",
    "print(func_dict(x={(2,): 3}))  # 提示类型不匹配"
   ],
   "metadata": {
    "collapsed": false,
    "pycharm": {
     "name": "#%%\n"
    }
   }
  },
  {
   "cell_type": "code",
   "execution_count": 73,
   "outputs": [
    {
     "data": {
      "text/plain": "{'duan': 3, 'chao': 3.4, (2,): 3}"
     },
     "execution_count": 73,
     "metadata": {},
     "output_type": "execute_result"
    }
   ],
   "source": [],
   "metadata": {
    "collapsed": false,
    "pycharm": {
     "name": "#%%"
    }
   }
  }
 ],
 "metadata": {
  "kernelspec": {
   "display_name": "Python 3",
   "language": "python",
   "name": "python3"
  },
  "language_info": {
   "codemirror_mode": {
    "name": "ipython",
    "version": 2
   },
   "file_extension": ".py",
   "mimetype": "text/x-python",
   "name": "python",
   "nbconvert_exporter": "python",
   "pygments_lexer": "ipython2",
   "version": "2.7.6"
  }
 },
 "nbformat": 4,
 "nbformat_minor": 0
}