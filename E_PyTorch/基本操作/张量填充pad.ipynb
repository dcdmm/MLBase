{
 "cells": [
  {
   "cell_type": "code",
   "execution_count": 738,
   "metadata": {
    "collapsed": false,
    "pycharm": {
     "name": "#%%\n"
    }
   },
   "outputs": [],
   "source": [
    "import torch\n",
    "import torch.nn.functional as F"
   ]
  },
  {
   "cell_type": "markdown",
   "metadata": {
    "collapsed": false
   },
   "source": [
    "### 参考numpy.pad"
   ]
  },
  {
   "cell_type": "code",
   "execution_count": 739,
   "metadata": {
    "collapsed": false,
    "pycharm": {
     "name": "#%%\n"
    }
   },
   "outputs": [
    {
     "data": {
      "text/plain": [
       "tensor([0, 0, 1, 2, 3, 4, 5, 0, 0, 0])"
      ]
     },
     "execution_count": 739,
     "metadata": {},
     "output_type": "execute_result"
    }
   ],
   "source": [
    "a = torch.tensor([1, 2, 3, 4, 5])\n",
    "F.pad(a,\n",
    "      pad=(2, 3),  # 填充到每个轴边缘的数量\n",
    "      mode='constant',  # 使用常数进行填充\n",
    "      value=0)  # 填充的值(默认为0)"
   ]
  },
  {
   "cell_type": "code",
   "execution_count": 740,
   "metadata": {
    "collapsed": false,
    "pycharm": {
     "name": "#%%\n"
    }
   },
   "outputs": [
    {
     "name": "stdout",
     "output_type": "stream",
     "text": [
      "torch.Size([2, 6])\n",
      "tensor([[0, 1, 2, 3, 0, 0],\n",
      "        [0, 4, 5, 6, 0, 0]])\n",
      "\n",
      "tensor([0, 1, 2, 3, 0, 0])\n",
      "tensor([0, 4, 5, 6, 0, 0])\n"
     ]
    }
   ],
   "source": [
    "b = torch.tensor([[1, 2, 3],\n",
    "                  [4, 5, 6]])\n",
    "b_pad = F.pad(b, (1, 2), 'constant', 0)\n",
    "print(b_pad.shape)\n",
    "print(b_pad, end='\\n\\n')\n",
    "\n",
    "# 维度0每个向量左边填充数量为1,右边填充数量为2(即维度1shape=3+1+1=5)\n",
    "print(b_pad[0, :])\n",
    "print(b_pad[1, :])"
   ]
  },
  {
   "cell_type": "code",
   "execution_count": 741,
   "metadata": {
    "collapsed": false,
    "pycharm": {
     "name": "#%%\n"
    }
   },
   "outputs": [
    {
     "name": "stdout",
     "output_type": "stream",
     "text": [
      "torch.Size([7, 6])\n",
      "tensor([[0, 0, 0, 0, 0, 0],\n",
      "        [0, 0, 0, 0, 0, 0],\n",
      "        [0, 0, 0, 0, 0, 0],\n",
      "        [0, 1, 2, 3, 0, 0],\n",
      "        [0, 4, 5, 6, 0, 0],\n",
      "        [0, 0, 0, 0, 0, 0],\n",
      "        [0, 0, 0, 0, 0, 0]])\n"
     ]
    }
   ],
   "source": [
    "b1 = torch.tensor([[1, 2, 3],\n",
    "                   [4, 5, 6]])\n",
    "b1_pad = F.pad(b, (1, 2, 3, 2), 'constant', 0)\n",
    "print(b1_pad.shape)\n",
    "print(b1_pad)"
   ]
  },
  {
   "cell_type": "code",
   "execution_count": 742,
   "metadata": {},
   "outputs": [
    {
     "name": "stdout",
     "output_type": "stream",
     "text": [
      "tensor([0, 1, 2, 3, 0, 0])\n",
      "tensor([0, 4, 5, 6, 0, 0])\n",
      "tensor([0, 0, 0, 0, 0, 0])\n"
     ]
    }
   ],
   "source": [
    "# 维度0每个向量左边填充数量为1,右边填充数量为2(即维度1.shape=3+1+2=6)\n",
    "print(b1_pad[3, :])\n",
    "print(b1_pad[4, :])\n",
    "print(b1_pad[5, :])"
   ]
  },
  {
   "cell_type": "code",
   "execution_count": 743,
   "metadata": {},
   "outputs": [
    {
     "name": "stdout",
     "output_type": "stream",
     "text": [
      "tensor([0, 0, 0, 1, 4, 0, 0])\n",
      "tensor([0, 0, 0, 2, 5, 0, 0])\n",
      "tensor([0, 0, 0, 3, 6, 0, 0])\n"
     ]
    }
   ],
   "source": [
    "# 维度1每个向量左边填充数量为3,右边填充数量为2(即维度0.shape=2+3+2=7)\n",
    "print(b1_pad[:, 1])\n",
    "print(b1_pad[:, 2])\n",
    "print(b1_pad[:, 3])"
   ]
  },
  {
   "cell_type": "code",
   "execution_count": 744,
   "metadata": {
    "collapsed": false,
    "pycharm": {
     "name": "#%%\n"
    }
   },
   "outputs": [
    {
     "data": {
      "text/plain": [
       "torch.Size([7, 5, 11, 9])"
      ]
     },
     "execution_count": 744,
     "metadata": {},
     "output_type": "execute_result"
    }
   ],
   "source": [
    "b3 = torch.arange(1, 121).reshape(2, 3, 4, 5)\n",
    "b3_pad = F.pad(b3, (3, 1, 5, 2, 1, 1, 2, 3), 'constant', 0)\n",
    "# 原始维度信息: 2(0), 3(1), 4(2), 5(3)\n",
    "# 增加维度信息: 5(3), 2(2), 7(1), 4(0)   5=2+3,2=1+1,7=5+2,4=3+1\n",
    "b3_pad.shape"
   ]
  },
  {
   "cell_type": "code",
   "execution_count": 745,
   "metadata": {},
   "outputs": [
    {
     "name": "stdout",
     "output_type": "stream",
     "text": [
      "tensor([ 0,  0,  0, 21, 22, 23, 24, 25,  0])\n",
      "tensor([ 0,  0,  0, 26, 27, 28, 29, 30,  0])\n"
     ]
    }
   ],
   "source": [
    "# 维度0每个向量左边填充数量为3,右边填充数量为1(即维度3.shape=5+3+1=9)\n",
    "print(b3_pad[2, 2, 5, :])\n",
    "print(b3_pad[2, 2, 6, :])"
   ]
  },
  {
   "cell_type": "code",
   "execution_count": 746,
   "metadata": {},
   "outputs": [
    {
     "name": "stdout",
     "output_type": "stream",
     "text": [
      "tensor([ 0,  0,  0,  0,  0, 21, 26, 31, 36,  0,  0])\n",
      "tensor([ 0,  0,  0,  0,  0, 22, 27, 32, 37,  0,  0])\n"
     ]
    }
   ],
   "source": [
    "# 维度1每个向量左边填充数量为5,右边填充数量为2(即维度2.shape=4+5+2)\n",
    "print(b3_pad[2, 2, :, 3])\n",
    "print(b3_pad[2, 2, :, 4])"
   ]
  },
  {
   "cell_type": "code",
   "execution_count": 747,
   "metadata": {},
   "outputs": [
    {
     "name": "stdout",
     "output_type": "stream",
     "text": [
      "tensor([  0,  72,  92, 112,   0])\n",
      "tensor([  0,  73,  93, 113,   0])\n"
     ]
    }
   ],
   "source": [
    "# 维度2每个向量左边填充数量为1,右边填充数量为1(即维度1.shape=3+1+1)\n",
    "print(b3_pad[3, :, 7, 4])\n",
    "print(b3_pad[3, :, 7, 5])"
   ]
  },
  {
   "cell_type": "code",
   "execution_count": 748,
   "metadata": {},
   "outputs": [
    {
     "name": "stdout",
     "output_type": "stream",
     "text": [
      "tensor([  0,   0,  52, 112,   0,   0,   0])\n",
      "tensor([  0,   0,  53, 113,   0,   0,   0])\n"
     ]
    }
   ],
   "source": [
    "# 维度3每个向量左边填充数量为2,右边填充数量为3(即维度1.shape=2+2+3)\n",
    "print(b3_pad[:, 3, 7, 4])\n",
    "print(b3_pad[:, 3, 7, 5])"
   ]
  }
 ],
 "metadata": {
  "kernelspec": {
   "display_name": "llm",
   "language": "python",
   "name": "python3"
  },
  "language_info": {
   "codemirror_mode": {
    "name": "ipython",
    "version": 3
   },
   "file_extension": ".py",
   "mimetype": "text/x-python",
   "name": "python",
   "nbconvert_exporter": "python",
   "pygments_lexer": "ipython3",
   "version": "3.10.12"
  }
 },
 "nbformat": 4,
 "nbformat_minor": 0
}
