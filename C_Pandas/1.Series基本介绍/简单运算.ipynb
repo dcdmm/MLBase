{
 "cells": [
  {
   "cell_type": "code",
   "execution_count": 1,
   "outputs": [
    {
     "name": "stdout",
     "text": [
      "a    7.3\n",
      "c   -2.5\n",
      "d    3.4\n",
      "e    1.5\n",
      "dtype: float64\n",
      "\n",
      "a   -2.1\n",
      "c    3.6\n",
      "e   -1.5\n",
      "f    4.0\n",
      "g    3.1\n",
      "dtype: float64\n",
      "\n"
     ],
     "output_type": "stream"
    }
   ],
   "source": [
    "import pandas as pd\n",
    "import numpy as np\n",
    "\n",
    "s1 = pd.Series([7.3, -2.5, 3.4, 1.5], index=['a', 'c', 'd', 'e'])\n",
    "s2 = pd.Series([-2.1, 3.6, -1.5, 4, 3.1],\n",
    "               index=['a', 'c', 'e', 'f', 'g'])\n",
    "s3 = pd.Series([3.3, 2.5, 3.4, 2.5], index=['a', 'c', 'd', 'e'])\n",
    "print(s1, end='\\n\\n')\n",
    "print(s2, end='\\n\\n')"
   ],
   "metadata": {
    "collapsed": false,
    "pycharm": {
     "name": "#%%\n",
     "is_executing": false
    }
   }
  },
  {
   "cell_type": "code",
   "execution_count": 3,
   "outputs": [
    {
     "name": "stdout",
     "text": [
      "a    5.2\nc    1.1\nd    NaN\ne    0.0\nf    NaN\ng    NaN\ndtype: float64\n\na   -3.476190\nc   -0.694444\nd         NaN\ne   -1.000000\nf         NaN\ng         NaN\ndtype: float64\n\na    9.4\nc   -6.1\nd    NaN\ne    3.0\nf    NaN\ng    NaN\ndtype: float64\n\na   -15.33\nc    -9.00\nd      NaN\ne    -2.25\nf      NaN\ng      NaN\ndtype: float64",
      "\n\n"
     ],
     "output_type": "stream"
    }
   ],
   "source": [
    "sum_12 = s1 + s2\n",
    "print(sum_12, end='\\n\\n') # sum_12索引为s1索引和s2索引的并集,未完全匹配的结果为NaN\n",
    "print(s1 / s2, end='\\n\\n')\n",
    "print(s1 - s2, end='\\n\\n')\n",
    "print(s1 * s2, end='\\n\\n')"
   ],
   "metadata": {
    "pycharm": {
     "metadata": false,
     "name": "#%%\n",
     "is_executing": false
    }
   }
  },
  {
   "cell_type": "code",
   "execution_count": 4,
   "outputs": [
    {
     "name": "stdout",
     "text": [
      "a    14.6\nc    -5.0\nd     6.8\ne     3.0\ndtype: float64\n\na    9.3\nc   -0.5\nd    5.4\ne    3.5\ndtype: float64\n"
     ],
     "output_type": "stream"
    }
   ],
   "source": [
    "print(s1 * 2, end='\\n\\n') # 广播\n",
    "print(s1 + 2)"
   ],
   "metadata": {
    "pycharm": {
     "metadata": false,
     "name": "#%%\n",
     "is_executing": false
    }
   }
  },
  {
   "cell_type": "code",
   "execution_count": 5,
   "outputs": [
    {
     "name": "stdout",
     "text": [
      "a    8.3\nc   -0.5\nd    6.4\ne    5.5\ndtype: float64\n\na    8.3\nc   -0.5\nd    6.4\ne    5.5\ndtype: float64\n"
     ],
     "output_type": "stream"
    }
   ],
   "source": [
    "print(s1 + [1, 2, 3, 4], end='\\n\\n') # 长度必须一致(使其正好一一对应)\n",
    "print(s1 + np.array([1, 2, 3, 4]))"
   ],
   "metadata": {
    "pycharm": {
     "metadata": false,
     "name": "#%%\n",
     "is_executing": false
    }
   }
  },
  {
   "cell_type": "code",
   "execution_count": 6,
   "outputs": [
    {
     "name": "stdout",
     "text": [
      "a    False\nc    False\nd    False\ne     True\ndtype: bool\n"
     ],
     "output_type": "stream"
    }
   ],
   "source": [
    "print(s1 == 1.5) # 返回值为Series"
   ],
   "metadata": {
    "pycharm": {
     "metadata": false,
     "name": "#%%\n",
     "is_executing": false
    }
   }
  },
  {
   "cell_type": "code",
   "execution_count": 7,
   "outputs": [
    {
     "name": "stdout",
     "text": [
      "a     True\nc    False\nd    False\ne    False\ndtype: bool\n"
     ],
     "output_type": "stream"
    }
   ],
   "source": "print(s1 > s3) # s1和s3进行比较(s1和s3必须index相同)",
   "metadata": {
    "pycharm": {
     "metadata": false,
     "name": "#%%\n",
     "is_executing": false
    }
   }
  },
  {
   "cell_type": "code",
   "execution_count": null,
   "outputs": [],
   "source": "\n",
   "metadata": {
    "pycharm": {
     "metadata": false,
     "name": "#%%\n"
    }
   }
  }
 ],
 "metadata": {
  "language_info": {
   "codemirror_mode": {
    "name": "ipython",
    "version": 2
   },
   "file_extension": ".py",
   "mimetype": "text/x-python",
   "name": "python",
   "nbconvert_exporter": "python",
   "pygments_lexer": "ipython2",
   "version": "2.7.6"
  },
  "kernelspec": {
   "name": "python3",
   "language": "python",
   "display_name": "Python 3"
  }
 },
 "nbformat": 4,
 "nbformat_minor": 0
}