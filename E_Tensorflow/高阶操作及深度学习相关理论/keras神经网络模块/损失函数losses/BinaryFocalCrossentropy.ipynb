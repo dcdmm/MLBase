{
 "cells": [
  {
   "cell_type": "code",
   "execution_count": 6,
   "metadata": {
    "collapsed": true
   },
   "outputs": [],
   "source": [
    "import tensorflow as tf"
   ]
  },
  {
   "cell_type": "code",
   "execution_count": 7,
   "outputs": [
    {
     "data": {
      "text/plain": "0.6912122"
     },
     "execution_count": 7,
     "metadata": {},
     "output_type": "execute_result"
    }
   ],
   "source": [
    "y_true = [0, 1, 0, 0]\n",
    "y_pred = [-18.6, 0.51, 2.94, -12.8]\n",
    "\n",
    "# Example 1: (batch_size = 1, number of samples = 4)\n",
    "loss = tf.keras.losses.BinaryFocalCrossentropy(\n",
    "    # A focusing parameter used to compute the focal factor\n",
    "    gamma=2,  # 默认gamma=2\n",
    "    # Whether to interpret y_pred as a tensor of logit values.\n",
    "    # By default, we assume that y_pred are probabilities (i.e., values in [0, 1]).\n",
    "    from_logits=True,  # 默认from_logits=True\n",
    "    # 默认,参考BinaryCrossentropy\n",
    "    reduction=tf.keras.losses.Reduction.SUM_OVER_BATCH_SIZE)\n",
    "tf.print(loss(y_true, y_pred,\n",
    "              # 批次样本权重,参考MeanSquaredError\n",
    "              sample_weight=None))"
   ],
   "metadata": {
    "collapsed": false,
    "pycharm": {
     "name": "#%%\n"
    }
   }
  },
  {
   "cell_type": "code",
   "execution_count": 8,
   "outputs": [
    {
     "data": {
      "text/plain": "0.6469951"
     },
     "execution_count": 8,
     "metadata": {},
     "output_type": "execute_result"
    }
   ],
   "source": [
    "# Example 2: (batch_size = 2, number of samples = 4)\n",
    "y_true = [[0, 1],\n",
    "          [0, 0]]\n",
    "y_pred = [[-18.6, 0.51],\n",
    "          [2.94, -12.8]]\n",
    "loss = tf.keras.losses.BinaryFocalCrossentropy(gamma=3, from_logits=True)\n",
    "loss(y_true, y_pred).numpy()"
   ],
   "metadata": {
    "collapsed": false,
    "pycharm": {
     "name": "#%%\n"
    }
   }
  }
 ],
 "metadata": {
  "kernelspec": {
   "display_name": "Python 3",
   "language": "python",
   "name": "python3"
  },
  "language_info": {
   "codemirror_mode": {
    "name": "ipython",
    "version": 2
   },
   "file_extension": ".py",
   "mimetype": "text/x-python",
   "name": "python",
   "nbconvert_exporter": "python",
   "pygments_lexer": "ipython2",
   "version": "2.7.6"
  }
 },
 "nbformat": 4,
 "nbformat_minor": 0
}