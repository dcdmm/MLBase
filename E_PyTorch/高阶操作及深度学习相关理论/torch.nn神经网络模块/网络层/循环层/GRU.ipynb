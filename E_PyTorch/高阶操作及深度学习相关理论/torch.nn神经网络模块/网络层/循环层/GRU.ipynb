{
 "cells": [
  {
   "cell_type": "code",
   "execution_count": 8,
   "metadata": {
    "pycharm": {
     "name": "#%%\n"
    }
   },
   "outputs": [
    {
     "name": "stdout",
     "output_type": "stream",
     "text": [
      "torch.Size([20, 3, 30]) torch.Size([4, 3, 15])\n"
     ]
    }
   ],
   "source": [
    "import torch\n",
    "import torch.nn as nn\n",
    "\n",
    "# 参数含义完全类似RNN\n",
    "gru = nn.GRU(input_size=100,\n",
    "             hidden_size=15,\n",
    "             dropout=0.5,\n",
    "             bias=True,\n",
    "             batch_first=False,\n",
    "             num_layers=2,\n",
    "             bidirectional=True)\n",
    "\n",
    "x = torch.randn(20, 3, 100)  # 输入的默认形状为(T,N,C),其中T为序列的长度,N为min-batch的大小,C为输入的特征数目\n",
    "\n",
    "# (L*D, N, hidden_size),其中L为循环神经网络层数,D为1(单向)或2(双向)\n",
    "h_0 = torch.ones((4, 3, 15))\n",
    "\n",
    "out, h = gru(x, hx=h_0)  # 自定h_0,默认h_0为全0张量\n",
    "# out为每个序列最后一层的输出(双向则2维度*2);h为最后一个序列每层的输出(双向则0维度*2)\n",
    "print(out.shape, h.shape)"
   ]
  },
  {
   "cell_type": "code",
   "execution_count": 9,
   "metadata": {
    "pycharm": {
     "name": "#%%\n"
    }
   },
   "outputs": [
    {
     "name": "stdout",
     "output_type": "stream",
     "text": [
      "weight_ih_l0   shape= torch.Size([45, 100])\n",
      "weight_hh_l0   shape= torch.Size([45, 15])\n",
      "bias_ih_l0   shape= torch.Size([45])\n",
      "bias_hh_l0   shape= torch.Size([45])\n",
      "weight_ih_l0_reverse   shape= torch.Size([45, 100])\n",
      "weight_hh_l0_reverse   shape= torch.Size([45, 15])\n",
      "bias_ih_l0_reverse   shape= torch.Size([45])\n",
      "bias_hh_l0_reverse   shape= torch.Size([45])\n",
      "weight_ih_l1   shape= torch.Size([45, 30])\n",
      "weight_hh_l1   shape= torch.Size([45, 15])\n",
      "bias_ih_l1   shape= torch.Size([45])\n",
      "bias_hh_l1   shape= torch.Size([45])\n",
      "weight_ih_l1_reverse   shape= torch.Size([45, 30])\n",
      "weight_hh_l1_reverse   shape= torch.Size([45, 15])\n",
      "bias_ih_l1_reverse   shape= torch.Size([45])\n",
      "bias_hh_l1_reverse   shape= torch.Size([45])\n"
     ]
    }
   ],
   "source": [
    "for name, param in gru.named_parameters():\n",
    "    print(name, '  shape=', param.shape)"
   ]
  },
  {
   "cell_type": "code",
   "execution_count": 10,
   "metadata": {
    "pycharm": {
     "name": "#%%\n"
    }
   },
   "outputs": [
    {
     "data": {
      "text/plain": "Parameter containing:\ntensor([[-0.1315, -0.1271,  0.2541,  ..., -0.0223, -0.1307,  0.1215],\n        [-0.2507, -0.1325,  0.2098,  ..., -0.1049,  0.1982,  0.0993],\n        [-0.0269, -0.0831,  0.1878,  ..., -0.0769, -0.2316,  0.0131],\n        ...,\n        [-0.0824,  0.1362,  0.0692,  ...,  0.1584, -0.0060,  0.1991],\n        [ 0.0415, -0.0287,  0.0570,  ...,  0.2345, -0.0477, -0.0498],\n        [ 0.0259,  0.1654,  0.0740,  ...,  0.2094, -0.1786, -0.0253]],\n       requires_grad=True)"
     },
     "execution_count": 10,
     "metadata": {},
     "output_type": "execute_result"
    }
   ],
   "source": [
    "gru.weight_ih_l0  # all the weights and biases are initialized from U(-\\sqrt{k}, \\sqrt{k}), where k=1/hidden_size"
   ]
  }
 ],
 "metadata": {
  "kernelspec": {
   "display_name": "Python 3",
   "language": "python",
   "name": "python3"
  },
  "language_info": {
   "codemirror_mode": {
    "name": "ipython",
    "version": 3
   },
   "file_extension": ".py",
   "mimetype": "text/x-python",
   "name": "python",
   "nbconvert_exporter": "python",
   "pygments_lexer": "ipython3",
   "version": "3.7.7"
  },
  "toc": {
   "base_numbering": 1,
   "nav_menu": {},
   "number_sections": true,
   "sideBar": true,
   "skip_h1_title": false,
   "title_cell": "Table of Contents",
   "title_sidebar": "Contents",
   "toc_cell": false,
   "toc_position": {},
   "toc_section_display": true,
   "toc_window_display": false
  }
 },
 "nbformat": 4,
 "nbformat_minor": 1
}