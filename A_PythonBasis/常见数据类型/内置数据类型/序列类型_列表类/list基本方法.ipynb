{
 "cells": [
  {
   "cell_type": "markdown",
   "metadata": {},
   "source": [
    "常见方法:\n",
    "* append\n",
    "* extend\n",
    "* insert\n",
    "* clear\n",
    "* pop\n",
    "* remove\n",
    "* reverse\n",
    "* sort\n",
    "* index\n",
    "* count"
   ]
  },
  {
   "cell_type": "code",
   "execution_count": 51,
   "metadata": {
    "ExecuteTime": {
     "start_time": "2024-04-19T03:34:10.383536Z"
    },
    "jupyter": {
     "is_executing": true
    }
   },
   "outputs": [
    {
     "name": "stdout",
     "output_type": "stream",
     "text": [
      "[1, 2, 3, 4, 5, 6]\n",
      "2091591991680\n",
      "2091591991680\n",
      "[1, 2, 3, 4, 5, 6, [7, 8]]\n"
     ]
    }
   ],
   "source": [
    "'''\n",
    "|  append(...)\n",
    "|      L.append(object) -> None -- append object to end\n",
    "'''\n",
    "list_append = [1, 2, 3, 4, 5]\n",
    "list_append.append(6)\n",
    "print(list_append)\n",
    "\n",
    "want_append = [7, 8]\n",
    "print(id(want_append))\n",
    "\n",
    "list_append.append(want_append)  # [7, 8]被当作一个元素\n",
    "\n",
    "print(id(list_append[-1]))  # 指向同一内存地址(复制的是want_apend的引用到末尾)\n",
    "print(list_append)"
   ]
  },
  {
   "cell_type": "code",
   "execution_count": 52,
   "metadata": {
    "jupyter": {
     "is_executing": true
    },
    "pycharm": {
     "name": "#%%\n"
    }
   },
   "outputs": [
    {
     "name": "stdout",
     "output_type": "stream",
     "text": [
      "2091591978944\n",
      "2091591978944\n",
      "[1, 2, 3, 4, 5, 6, 7, [-1, -1]]\n",
      "[1, 2, 3, 4, 5, 6, 7, [-1, -1], 8, 9]\n",
      "[1, 2, 3, 4, 5, 6, 7, [-1, -1], 8, 9, 'd', 'u', 'a', 'n']\n"
     ]
    }
   ],
   "source": [
    "'''\n",
    "|  extend(...)\n",
    "|      L.extend(iterable) -> None -- extend list by appending elements from the iterable\n",
    "'''\n",
    "list_extend = [1, 2, 3, 4, 5]\n",
    "\n",
    "want_extend = [6, 7, [-1, -1]]\n",
    "print(id(want_extend[-1]))\n",
    "\n",
    "list_extend.extend(want_extend)  # 参数为可迭代对象\n",
    "\n",
    "print(id(list_extend[-1]))  # 指向同一内存地址(复制的是want_extend元素的引用)\n",
    "print(list_extend)\n",
    "\n",
    "list_extend.extend((8, 9))\n",
    "print(list_extend)\n",
    "\n",
    "list_extend.extend('duan')  # 'duan'的元素是'd','u','a','a'\n",
    "print(list_extend)"
   ]
  },
  {
   "cell_type": "code",
   "execution_count": 53,
   "metadata": {
    "ExecuteTime": {
     "start_time": "2024-04-19T03:34:10.414817Z"
    },
    "jupyter": {
     "is_executing": true
    },
    "pycharm": {
     "name": "#%%\n"
    }
   },
   "outputs": [
    {
     "name": "stdout",
     "output_type": "stream",
     "text": [
      "[1, 2, 3, 4, 5, '!']\n"
     ]
    }
   ],
   "source": [
    "'''\n",
    "|  insert(...)\n",
    "|      L.insert(index, object) -- insert object before index\n",
    "'''\n",
    "list_insert = [1, 2, 3, 4, 5]\n",
    "list_insert.insert(5, '!')\n",
    "print(list_insert)"
   ]
  },
  {
   "cell_type": "code",
   "execution_count": 54,
   "metadata": {
    "ExecuteTime": {
     "end_time": "2024-04-19T03:34:10.446068Z",
     "start_time": "2024-04-19T03:34:10.430421Z"
    },
    "pycharm": {
     "name": "#%%\n"
    }
   },
   "outputs": [
    {
     "data": {
      "text/plain": [
       "[]"
      ]
     },
     "execution_count": 54,
     "metadata": {},
     "output_type": "execute_result"
    }
   ],
   "source": [
    "'''\n",
    "|  clear(...)\n",
    "|      L.clear() -> None -- remove all items from L\n",
    "'''\n",
    "list_clear = [1, 2, 3, 4, 5]\n",
    "list_clear.clear()\n",
    "list_clear  # 此时list_clear为空列表"
   ]
  },
  {
   "cell_type": "code",
   "execution_count": 55,
   "metadata": {
    "ExecuteTime": {
     "end_time": "2024-04-19T03:34:10.461795Z",
     "start_time": "2024-04-19T03:34:10.446068Z"
    },
    "pycharm": {
     "name": "#%%\n"
    }
   },
   "outputs": [
    {
     "name": "stdout",
     "output_type": "stream",
     "text": [
      "everyday\n",
      "duanmengmeng\n",
      "the\n",
      "['promise', 'i', 'love', 'duanchao']\n"
     ]
    }
   ],
   "source": [
    "'''\n",
    "|  pop(...)\n",
    "|      L.pop([index]) -> item -- remove and return item at index (default last).\n",
    "|      Raises IndexError if list is empty or index is out of range.\n",
    "'''\n",
    "promise = ['the', 'promise', \"i\", \"love\", \"duanchao\", 'duanmengmeng', \"everyday\"]\n",
    "print(promise.pop())  # 弹出的为:everyday,默认弹出列表最后一个元素\n",
    "print(promise.pop())  # 弹出的为duanmengmeng\n",
    "print(promise.pop(0))  # 弹出的为the\n",
    "print(promise)  # 原列表弹出了3个元素"
   ]
  },
  {
   "cell_type": "code",
   "execution_count": 56,
   "metadata": {
    "ExecuteTime": {
     "end_time": "2024-04-19T03:34:10.493393Z",
     "start_time": "2024-04-19T03:34:10.462327Z"
    }
   },
   "outputs": [
    {
     "data": {
      "text/plain": [
       "[1, 2, 4, 5, 3]"
      ]
     },
     "execution_count": 56,
     "metadata": {},
     "output_type": "execute_result"
    }
   ],
   "source": [
    "'''\n",
    "|  remove(...)\n",
    "|      L.remove(value) -> None -- remove first occurrence of value.\n",
    "|      Raises ValueError if the value is not present.\n",
    "'''\n",
    "list_remove = [1, 2, 3, 4, 5, 3]\n",
    "list_remove.remove(3)\n",
    "list_remove"
   ]
  },
  {
   "cell_type": "code",
   "execution_count": 57,
   "metadata": {
    "ExecuteTime": {
     "end_time": "2024-04-19T03:34:10.524518Z",
     "start_time": "2024-04-19T03:34:10.512011Z"
    }
   },
   "outputs": [
    {
     "data": {
      "text/plain": [
       "[5, 6, 3, 2, 1]"
      ]
     },
     "execution_count": 57,
     "metadata": {},
     "output_type": "execute_result"
    }
   ],
   "source": [
    "'''\n",
    "|  reverse(...)\n",
    "|      L.reverse() -- reverse *IN PLACE*\n",
    "'''\n",
    "list_reverse = [1, 2, 3, 6, 5]\n",
    "list_reverse.reverse()\n",
    "list_reverse  # 位置颠倒(本身发生改变)"
   ]
  },
  {
   "cell_type": "code",
   "execution_count": 58,
   "metadata": {
    "ExecuteTime": {
     "end_time": "2024-04-19T03:34:10.540188Z",
     "start_time": "2024-04-19T03:34:10.524518Z"
    }
   },
   "outputs": [
    {
     "data": {
      "text/plain": [
       "[[-4], ['m'], ['c'], [-3], 1, [-2], [-1]]"
      ]
     },
     "execution_count": 58,
     "metadata": {},
     "output_type": "execute_result"
    }
   ],
   "source": [
    "list_reverse1 = [[-1], [-2], 1, [-3], ['c'], ['m'], [-4]]\n",
    "list_reverse1.reverse()\n",
    "list_reverse1"
   ]
  },
  {
   "cell_type": "code",
   "execution_count": 59,
   "metadata": {
    "ExecuteTime": {
     "end_time": "2024-04-19T03:34:10.555848Z",
     "start_time": "2024-04-19T03:34:10.540188Z"
    },
    "pycharm": {
     "name": "#%%\n"
    }
   },
   "outputs": [
    {
     "name": "stdout",
     "output_type": "stream",
     "text": [
      "[542, 525, 432, 53, 23, 3]\n"
     ]
    }
   ],
   "source": [
    "'''\n",
    "sort(...)\n",
    " |      L.sort(key=None, reverse=False) -> None -- stable sort *IN PLACE*\n",
    "'''\n",
    "list_sort = [3, 432, 23, 53, 542, 525]\n",
    "list_sort.sort(key=None, reverse=True)  # 若reverse=True,则为降序排列\n",
    "print(list_sort)  # 本身发生改变"
   ]
  },
  {
   "cell_type": "code",
   "execution_count": 60,
   "metadata": {
    "ExecuteTime": {
     "end_time": "2024-04-19T03:34:10.587532Z",
     "start_time": "2024-04-19T03:34:10.571472Z"
    },
    "pycharm": {
     "name": "#%%\n"
    }
   },
   "outputs": [
    {
     "data": {
      "text/plain": [
       "[[8, 1], [7, 2], [2, 3, 1], [5, 4], [9, 6], [4, 7]]"
      ]
     },
     "execution_count": 60,
     "metadata": {},
     "output_type": "execute_result"
    }
   ],
   "source": [
    "data = [[2, 3, 1], [5, 4], [9, 6],\n",
    "        [4, 7], [8, 1], [7, 2]]  \n",
    "data.sort(key=lambda x: x[1])  # 使用列表元素(列表)的第二个元素进行排序\n",
    "data"
   ]
  },
  {
   "cell_type": "code",
   "execution_count": 61,
   "metadata": {},
   "outputs": [
    {
     "name": "stdout",
     "output_type": "stream",
     "text": [
      "1\n",
      "2\n",
      "3\n"
     ]
    }
   ],
   "source": [
    "class A:\n",
    "    def __init__(self, v: int) -> None:\n",
    "        self.v = v\n",
    "\n",
    "\n",
    "lst = [A(2), A(1), A(3)]\n",
    "lst.sort(key=lambda a: a.v)  # 使用列表(类A对象)的实例属性v进行排序\n",
    "for ls in lst:\n",
    "    print(ls.v)"
   ]
  },
  {
   "cell_type": "code",
   "execution_count": 62,
   "metadata": {
    "ExecuteTime": {
     "end_time": "2024-04-19T03:34:10.603170Z",
     "start_time": "2024-04-19T03:34:10.587532Z"
    },
    "pycharm": {
     "name": "#%%\n"
    }
   },
   "outputs": [
    {
     "data": {
      "text/plain": [
       "[[8, 1], [7, 2], [2, 3], [5, 4], [9, 6], [4, 7]]"
      ]
     },
     "execution_count": 62,
     "metadata": {},
     "output_type": "execute_result"
    }
   ],
   "source": [
    "data = [[2, 3], [5, 4], [9, 6], [4, 7], [8, 1], [7, 2]]\n",
    "data.sort(key=lambda x: x[1])  # 对列表的第二列排序\n",
    "data"
   ]
  },
  {
   "cell_type": "code",
   "execution_count": 63,
   "metadata": {
    "ExecuteTime": {
     "end_time": "2024-04-19T03:34:10.634441Z",
     "start_time": "2024-04-19T03:34:10.618814Z"
    },
    "pycharm": {
     "name": "#%%\n"
    }
   },
   "outputs": [
    {
     "data": {
      "text/plain": [
       "1"
      ]
     },
     "execution_count": 63,
     "metadata": {},
     "output_type": "execute_result"
    }
   ],
   "source": [
    "'''\n",
    "def index(self, value, start=None, stop=None): # real signature unknown; restored from __doc__\n",
    "    \"\"\"\n",
    "    L.index(value, [start, [stop]]) -> integer -- return first index of value.\n",
    "    Raises ValueError if the value is not present.\n",
    "    \"\"\"\n",
    "    return 0\n",
    "'''\n",
    "list_index = [\"my\", [\"love\", 'is', \"duanmengmeng\"], \"i am sure\"]\n",
    "list_index.index([\"love\", 'is', \"duanmengmeng\"])"
   ]
  },
  {
   "cell_type": "code",
   "execution_count": 64,
   "metadata": {
    "ExecuteTime": {
     "end_time": "2024-04-19T03:34:10.681385Z",
     "start_time": "2024-04-19T03:34:10.650064Z"
    },
    "collapsed": false,
    "pycharm": {
     "name": "#%%\n"
    }
   },
   "outputs": [
    {
     "ename": "ValueError",
     "evalue": "34 is not in list",
     "output_type": "error",
     "traceback": [
      "\u001b[1;31m---------------------------------------------------------------------------\u001b[0m",
      "\u001b[1;31mValueError\u001b[0m                                Traceback (most recent call last)",
      "Cell \u001b[1;32mIn[64], line 1\u001b[0m\n\u001b[1;32m----> 1\u001b[0m \u001b[43mlist_index\u001b[49m\u001b[38;5;241;43m.\u001b[39;49m\u001b[43mindex\u001b[49m\u001b[43m(\u001b[49m\u001b[38;5;241;43m34\u001b[39;49m\u001b[43m)\u001b[49m\n",
      "\u001b[1;31mValueError\u001b[0m: 34 is not in list"
     ]
    }
   ],
   "source": [
    "list_index.index(34)"
   ]
  },
  {
   "cell_type": "code",
   "execution_count": 65,
   "metadata": {
    "pycharm": {
     "metadata": false,
     "name": "#%%\n"
    }
   },
   "outputs": [
    {
     "data": {
      "text/plain": [
       "2"
      ]
     },
     "execution_count": 65,
     "metadata": {},
     "output_type": "execute_result"
    }
   ],
   "source": [
    "'''\n",
    "def count(self, value): # real signature unknown; restored from __doc__\n",
    "    \"\"\" L.count(value) -> integer -- return number of occurrences of value \"\"\"\n",
    "    return 0\n",
    "'''\n",
    "list_count = ['a', 'b', 'c', 'd', 'e', 'a', 'c']\n",
    "list_count.count('a')"
   ]
  }
 ],
 "metadata": {
  "kernelspec": {
   "display_name": "llm",
   "language": "python",
   "name": "python3"
  },
  "language_info": {
   "codemirror_mode": {
    "name": "ipython",
    "version": 3
   },
   "file_extension": ".py",
   "mimetype": "text/x-python",
   "name": "python",
   "nbconvert_exporter": "python",
   "pygments_lexer": "ipython3",
   "version": "3.10.12"
  },
  "toc": {
   "base_numbering": 1,
   "nav_menu": {},
   "number_sections": true,
   "sideBar": true,
   "skip_h1_title": false,
   "title_cell": "Table of Contents",
   "title_sidebar": "Contents",
   "toc_cell": false,
   "toc_position": {},
   "toc_section_display": true,
   "toc_window_display": false
  }
 },
 "nbformat": 4,
 "nbformat_minor": 1
}
