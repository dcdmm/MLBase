{
 "cells": [
  {
   "cell_type": "markdown",
   "metadata": {
    "collapsed": true,
    "pycharm": {
     "is_executing": false,
     "name": "#%% md\n"
    }
   },
   "source": [
    "1. sklearn中LogisticRegression$L_1$正则化   \n",
    "$$ J(\\beta) + \\alpha L_1 \\Longrightarrow CJ(\\beta) + L_1$$    \n",
    "2. sklearn中LogisticRegression$L_2$正则化    \n",
    "$$ J(\\beta) + \\alpha L_2 \\Longrightarrow CJ(\\beta) + L_2 $$    \n",
    "\n",
    "易知:$C$为$\\alpha$的倒数,较小的值指定更强的正则化"
   ]
  },
  {
   "cell_type": "code",
   "execution_count": 34,
   "metadata": {
    "pycharm": {
     "name": "#%%\n"
    }
   },
   "outputs": [],
   "source": [
    "import numpy as np\n",
    "import matplotlib.pyplot as plt\n",
    "from sklearn.model_selection import train_test_split\n",
    "from sklearn.linear_model import LogisticRegression\n",
    "from sklearn.preprocessing import PolynomialFeatures\n",
    "from sklearn.pipeline import Pipeline\n",
    "from sklearn.preprocessing import StandardScaler\n",
    "\n",
    "X = np.random.normal(0, 1, size=(200, 2))\n",
    "y = np.array((X[:, 0]**2+X[:, 1])<1.5, dtype=np.int32)\n",
    "for _ in range(20):\n",
    "    y[np.random.randint(200)] = 1 # 添加一定噪音"
   ]
  },
  {
   "cell_type": "code",
   "execution_count": 35,
   "outputs": [
    {
     "name": "stdout",
     "output_type": "stream",
     "text": [
      "(200, 2)\n",
      "(200,)\n"
     ]
    }
   ],
   "source": [
    "print(X.shape)\n",
    "print(y.shape)"
   ],
   "metadata": {
    "collapsed": false,
    "pycharm": {
     "name": "#%%\n"
    }
   }
  },
  {
   "cell_type": "code",
   "execution_count": 36,
   "metadata": {
    "pycharm": {
     "name": "#%%\n"
    }
   },
   "outputs": [
    {
     "data": {
      "text/plain": "<Figure size 432x288 with 1 Axes>",
      "image/png": "[encoded data removed]"
     },
     "metadata": {
      "needs_background": "light"
     },
     "output_type": "display_data"
    }
   ],
   "source": [
    "plt.scatter(X[y==0,0], X[y==0,1])\n",
    "plt.scatter(X[y==1,0], X[y==1,1])\n",
    "plt.show()"
   ]
  },
  {
   "cell_type": "code",
   "execution_count": 37,
   "metadata": {
    "pycharm": {
     "name": "#%%\n"
    }
   },
   "outputs": [
    {
     "data": {
      "text/plain": "LogisticRegression(n_jobs=-1)"
     },
     "execution_count": 37,
     "metadata": {},
     "output_type": "execute_result"
    }
   ],
   "source": [
    "X_train, X_test, y_train, y_test = train_test_split(X, y, random_state=666)\n",
    "\n",
    "'''\n",
    "solver{‘newton-cg’, ‘lbfgs’, ‘liblinear’, ‘sag’, ‘saga’}, default=’lbfgs’\n",
    "\n",
    "For small datasets, ‘liblinear’ is a good choice, whereas ‘sag’ and ‘saga’ are faster for large ones.\n",
    "For multiclass problems, only ‘newton-cg’, ‘sag’, ‘saga’ and ‘lbfgs’ handle multinomial loss; ‘liblinear’ is limited to one-versus-rest schemes.\n",
    "‘newton-cg’, ‘lbfgs’, ‘sag’ and ‘saga’ handle L2 or no penalty\n",
    "‘liblinear’ and ‘saga’ also handle L1 penalty\n",
    "‘saga’ also supports ‘elasticnet’ penalty\n",
    "‘liblinear’ does not support setting penalty='none'\n",
    "\n",
    "Note that ‘sag’ and ‘saga’ fast convergence is only guaranteed on features with approximately the same scale.\n",
    "===>You can preprocess the data with a scaler from sklearn.preprocessing.\n",
    "'''\n",
    "log_reg = LogisticRegression(solver='lbfgs', n_jobs=-1) \n",
    "# default:c=1.0\n",
    "# default:penalty='l2'\n",
    "log_reg.fit(X_train, y_train) # 使用直线进行拟合"
   ]
  },
  {
   "cell_type": "code",
   "execution_count": 38,
   "metadata": {
    "pycharm": {
     "name": "#%%\n"
    }
   },
   "outputs": [
    {
     "data": {
      "text/plain": "0.8133333333333334"
     },
     "execution_count": 38,
     "metadata": {},
     "output_type": "execute_result"
    }
   ],
   "source": [
    "log_reg.score(X_train, y_train)"
   ]
  },
  {
   "cell_type": "code",
   "execution_count": 39,
   "outputs": [
    {
     "data": {
      "text/plain": "array([[0.16109366, 0.83890634],\n       [0.07580859, 0.92419141],\n       [0.12211964, 0.87788036],\n       [0.11231661, 0.88768339],\n       [0.23216917, 0.76783083],\n       [0.08388033, 0.91611967],\n       [0.39706343, 0.60293657],\n       [0.30312837, 0.69687163],\n       [0.28434119, 0.71565881],\n       [0.27479114, 0.72520886],\n       [0.05327169, 0.94672831],\n       [0.13368571, 0.86631429],\n       [0.18998678, 0.81001322],\n       [0.03075272, 0.96924728],\n       [0.21205262, 0.78794738],\n       [0.16117169, 0.83882831],\n       [0.56635003, 0.43364997],\n       [0.246471  , 0.753529  ],\n       [0.27311471, 0.72688529],\n       [0.16708064, 0.83291936],\n       [0.08700787, 0.91299213],\n       [0.06845578, 0.93154422],\n       [0.02797821, 0.97202179],\n       [0.11860537, 0.88139463],\n       [0.16571224, 0.83428776],\n       [0.33986327, 0.66013673],\n       [0.2664735 , 0.7335265 ],\n       [0.30133201, 0.69866799],\n       [0.09942234, 0.90057766],\n       [0.27107559, 0.72892441],\n       [0.24041837, 0.75958163],\n       [0.09269972, 0.90730028],\n       [0.16945518, 0.83054482],\n       [0.02904243, 0.97095757],\n       [0.06013475, 0.93986525],\n       [0.39112879, 0.60887121],\n       [0.23057079, 0.76942921],\n       [0.21670041, 0.78329959],\n       [0.20062379, 0.79937621],\n       [0.28915273, 0.71084727],\n       [0.45844688, 0.54155312],\n       [0.08335537, 0.91664463],\n       [0.23565892, 0.76434108],\n       [0.19625004, 0.80374996],\n       [0.23894645, 0.76105355],\n       [0.12977377, 0.87022623],\n       [0.06670503, 0.93329497],\n       [0.41187953, 0.58812047],\n       [0.0152674 , 0.9847326 ],\n       [0.0715117 , 0.9284883 ],\n       [0.18965892, 0.81034108],\n       [0.06833235, 0.93166765],\n       [0.06061137, 0.93938863],\n       [0.29241245, 0.70758755],\n       [0.10140254, 0.89859746],\n       [0.42113077, 0.57886923],\n       [0.17949532, 0.82050468],\n       [0.15901052, 0.84098948],\n       [0.22633775, 0.77366225],\n       [0.19546994, 0.80453006],\n       [0.29699538, 0.70300462],\n       [0.43397169, 0.56602831],\n       [0.21573012, 0.78426988],\n       [0.10278946, 0.89721054],\n       [0.23201759, 0.76798241],\n       [0.22444827, 0.77555173],\n       [0.16276339, 0.83723661],\n       [0.21293152, 0.78706848],\n       [0.04655042, 0.95344958],\n       [0.50344772, 0.49655228],\n       [0.34616328, 0.65383672],\n       [0.22213308, 0.77786692],\n       [0.30493345, 0.69506655],\n       [0.05765629, 0.94234371],\n       [0.42931119, 0.57068881],\n       [0.07140065, 0.92859935],\n       [0.22838621, 0.77161379],\n       [0.04317499, 0.95682501],\n       [0.59489265, 0.40510735],\n       [0.0767216 , 0.9232784 ],\n       [0.29148882, 0.70851118],\n       [0.25837365, 0.74162635],\n       [0.45059036, 0.54940964],\n       [0.09460812, 0.90539188],\n       [0.08423058, 0.91576942],\n       [0.12290146, 0.87709854],\n       [0.02867856, 0.97132144],\n       [0.10621542, 0.89378458],\n       [0.33713223, 0.66286777],\n       [0.22751564, 0.77248436],\n       [0.35875336, 0.64124664],\n       [0.17219252, 0.82780748],\n       [0.57989098, 0.42010902],\n       [0.23478111, 0.76521889],\n       [0.07134068, 0.92865932],\n       [0.11046362, 0.88953638],\n       [0.17653746, 0.82346254],\n       [0.72899809, 0.27100191],\n       [0.10978357, 0.89021643],\n       [0.1045087 , 0.8954913 ],\n       [0.1623161 , 0.8376839 ],\n       [0.379409  , 0.620591  ],\n       [0.34625432, 0.65374568],\n       [0.30641721, 0.69358279],\n       [0.46075923, 0.53924077],\n       [0.60293481, 0.39706519],\n       [0.02488394, 0.97511606],\n       [0.12628313, 0.87371687],\n       [0.33226423, 0.66773577],\n       [0.50228871, 0.49771129],\n       [0.11974678, 0.88025322],\n       [0.44299454, 0.55700546],\n       [0.38714368, 0.61285632],\n       [0.31675639, 0.68324361],\n       [0.01718212, 0.98281788],\n       [0.1842027 , 0.8157973 ],\n       [0.56235849, 0.43764151],\n       [0.3751801 , 0.6248199 ],\n       [0.32526568, 0.67473432],\n       [0.14811342, 0.85188658],\n       [0.01037996, 0.98962004],\n       [0.0398521 , 0.9601479 ],\n       [0.05877797, 0.94122203],\n       [0.15220091, 0.84779909],\n       [0.3426931 , 0.6573069 ],\n       [0.50724443, 0.49275557],\n       [0.19912958, 0.80087042],\n       [0.12941768, 0.87058232],\n       [0.15078844, 0.84921156],\n       [0.07791368, 0.92208632],\n       [0.44848206, 0.55151794],\n       [0.22314442, 0.77685558],\n       [0.13321456, 0.86678544],\n       [0.21232565, 0.78767435],\n       [0.36817677, 0.63182323],\n       [0.25320521, 0.74679479],\n       [0.19535578, 0.80464422],\n       [0.11194442, 0.88805558],\n       [0.21488911, 0.78511089],\n       [0.30161123, 0.69838877],\n       [0.07125846, 0.92874154],\n       [0.07007972, 0.92992028],\n       [0.06969088, 0.93030912],\n       [0.0602569 , 0.9397431 ],\n       [0.20300255, 0.79699745],\n       [0.21389978, 0.78610022],\n       [0.36378104, 0.63621896],\n       [0.11170184, 0.88829816],\n       [0.16711557, 0.83288443],\n       [0.41210676, 0.58789324]])"
     },
     "execution_count": 39,
     "metadata": {},
     "output_type": "execute_result"
    }
   ],
   "source": [
    "log_reg.predict_proba(X_train) # 预测结果天生就可以输出为概率向量"
   ],
   "metadata": {
    "collapsed": false,
    "pycharm": {
     "name": "#%%\n"
    }
   }
  },
  {
   "cell_type": "code",
   "execution_count": 40,
   "outputs": [
    {
     "data": {
      "text/plain": "array([1, 1, 1, 1, 1, 1, 1, 1, 1, 1, 1, 1, 1, 1, 1, 1, 0, 1, 1, 1, 1, 1,\n       1, 1, 1, 1, 1, 1, 1, 1, 1, 1, 1, 1, 1, 1, 1, 1, 1, 1, 1, 1, 1, 1,\n       1, 1, 1, 1, 1, 1, 1, 1, 1, 1, 1, 1, 1, 1, 1, 1, 1, 1, 1, 1, 1, 1,\n       1, 1, 1, 0, 1, 1, 1, 1, 1, 1, 1, 1, 0, 1, 1, 1, 1, 1, 1, 1, 1, 1,\n       1, 1, 1, 1, 0, 1, 1, 1, 1, 0, 1, 1, 1, 1, 1, 1, 1, 0, 1, 1, 1, 0,\n       1, 1, 1, 1, 1, 1, 0, 1, 1, 1, 1, 1, 1, 1, 1, 0, 1, 1, 1, 1, 1, 1,\n       1, 1, 1, 1, 1, 1, 1, 1, 1, 1, 1, 1, 1, 1, 1, 1, 1, 1])"
     },
     "execution_count": 40,
     "metadata": {},
     "output_type": "execute_result"
    }
   ],
   "source": [
    "log_reg.predict(X_train) # Predict class labels for samples in X."
   ],
   "metadata": {
    "collapsed": false,
    "pycharm": {
     "name": "#%%\n"
    }
   }
  },
  {
   "cell_type": "code",
   "execution_count": 41,
   "metadata": {
    "pycharm": {
     "name": "#%%\n"
    }
   },
   "outputs": [
    {
     "data": {
      "text/plain": "0.82"
     },
     "execution_count": 41,
     "metadata": {},
     "output_type": "execute_result"
    }
   ],
   "source": [
    "log_reg.score(X_test, y_test) # 欠拟合"
   ]
  },
  {
   "cell_type": "code",
   "execution_count": 42,
   "metadata": {
    "pycharm": {
     "name": "#%%\n"
    }
   },
   "outputs": [],
   "source": [
    "def plot_decision_boundary(model, \n",
    "                           axis): # 坐标轴范围\n",
    "    \"\"\"绘制决策边界\"\"\" \n",
    "    x0, x1 = np.meshgrid(\n",
    "        np.linspace(axis[0], axis[1], int((axis[1]-axis[0])*200)).reshape(-1, 1),\n",
    "        np.linspace(axis[2], axis[3], int((axis[3]-axis[2])*200)).reshape(-1, 1),\n",
    "    )\n",
    "    X_new = np.c_[x0.ravel(), x1.ravel()]\n",
    "\n",
    "    y_predict = model.predict(X_new)\n",
    "    zz = y_predict.reshape(x0.shape)\n",
    "\n",
    "    from matplotlib.colors import ListedColormap\n",
    "    custom_cmap = ListedColormap(['yellow', 'red'])\n",
    "    \n",
    "    plt.contourf(x0, x1, zz, cmap=custom_cmap)"
   ]
  },
  {
   "cell_type": "code",
   "execution_count": 43,
   "metadata": {
    "pycharm": {
     "name": "#%%\n"
    }
   },
   "outputs": [
    {
     "data": {
      "text/plain": "<Figure size 432x288 with 1 Axes>",
      "image/png": "[encoded data removed]"
     },
     "metadata": {
      "needs_background": "light"
     },
     "output_type": "display_data"
    }
   ],
   "source": [
    "plot_decision_boundary(log_reg, axis=[-4, 4, -4, 4])\n",
    "plt.scatter(X[y==0,0], X[y==0,1])\n",
    "plt.scatter(X[y==1,0], X[y==1,1])\n",
    "plt.show()"
   ]
  },
  {
   "cell_type": "code",
   "execution_count": 44,
   "metadata": {
    "pycharm": {
     "name": "#%%\n"
    }
   },
   "outputs": [],
   "source": [
    "def PolynomialLogisticRegression(degree):\n",
    "    # 管道机制实现了对全部步骤的流式化封装和管理\n",
    "    return Pipeline([\n",
    "        ('poly', PolynomialFeatures(degree=degree)),\n",
    "        ('std_scaler', StandardScaler()),\n",
    "        ('log_reg', LogisticRegression(n_jobs=-1, solver='lbfgs'))\n",
    "    ])"
   ]
  },
  {
   "cell_type": "code",
   "execution_count": 45,
   "metadata": {
    "pycharm": {
     "name": "#%%\n"
    }
   },
   "outputs": [
    {
     "data": {
      "text/plain": "Pipeline(steps=[('poly', PolynomialFeatures()),\n                ('std_scaler', StandardScaler()),\n                ('log_reg', LogisticRegression(n_jobs=-1))])"
     },
     "execution_count": 45,
     "metadata": {},
     "output_type": "execute_result"
    }
   ],
   "source": [
    "poly_log_reg = PolynomialLogisticRegression(degree=2) # 多项式最高项次数为2\n",
    "poly_log_reg.fit(X_train, y_train)"
   ]
  },
  {
   "cell_type": "code",
   "execution_count": 46,
   "metadata": {
    "pycharm": {
     "name": "#%%\n"
    }
   },
   "outputs": [
    {
     "data": {
      "text/plain": "0.9466666666666667"
     },
     "execution_count": 46,
     "metadata": {},
     "output_type": "execute_result"
    }
   ],
   "source": [
    "poly_log_reg.score(X_train, y_train)"
   ]
  },
  {
   "cell_type": "code",
   "execution_count": 47,
   "metadata": {
    "pycharm": {
     "name": "#%%\n"
    }
   },
   "outputs": [
    {
     "data": {
      "text/plain": "0.94"
     },
     "execution_count": 47,
     "metadata": {},
     "output_type": "execute_result"
    }
   ],
   "source": [
    "poly_log_reg.score(X_test, y_test) # 拟合程度较好"
   ]
  },
  {
   "cell_type": "code",
   "execution_count": 48,
   "metadata": {
    "pycharm": {
     "name": "#%%\n"
    }
   },
   "outputs": [
    {
     "data": {
      "text/plain": "<Figure size 432x288 with 1 Axes>",
      "image/png": "[encoded data removed]"
     },
     "metadata": {
      "needs_background": "light"
     },
     "output_type": "display_data"
    }
   ],
   "source": [
    "plot_decision_boundary(poly_log_reg, axis=[-4, 4, -4, 4])\n",
    "plt.scatter(X[y==0,0], X[y==0,1])\n",
    "plt.scatter(X[y==1,0], X[y==1,1])\n",
    "plt.show()"
   ]
  },
  {
   "cell_type": "code",
   "execution_count": 49,
   "metadata": {
    "pycharm": {
     "name": "#%%\n"
    }
   },
   "outputs": [
    {
     "data": {
      "text/plain": "array([[ 0.        , -0.1566485 , -1.71244585, -2.26888026, -0.07892356,\n         0.02161449]])"
     },
     "execution_count": 49,
     "metadata": {},
     "output_type": "execute_result"
    }
   ],
   "source": [
    "poly_log_reg[2].coef_ # 解释变量(项)的系数"
   ]
  },
  {
   "cell_type": "code",
   "execution_count": 50,
   "metadata": {
    "pycharm": {
     "name": "#%%\n"
    }
   },
   "outputs": [
    {
     "data": {
      "text/plain": "array([2.28287683])"
     },
     "execution_count": 50,
     "metadata": {},
     "output_type": "execute_result"
    }
   ],
   "source": [
    "poly_log_reg[2].intercept_ # 截距项"
   ]
  },
  {
   "cell_type": "code",
   "execution_count": 51,
   "metadata": {
    "pycharm": {
     "name": "#%%\n"
    }
   },
   "outputs": [
    {
     "data": {
      "text/plain": "['1', 'x0', 'x1', 'x0^2', 'x0 x1', 'x1^2']"
     },
     "execution_count": 51,
     "metadata": {},
     "output_type": "execute_result"
    }
   ],
   "source": [
    "poly_log_reg[0].get_feature_names() # 多项式的各项"
   ]
  },
  {
   "cell_type": "code",
   "execution_count": 52,
   "metadata": {
    "pycharm": {
     "name": "#%%\n"
    }
   },
   "outputs": [
    {
     "data": {
      "text/plain": "Pipeline(steps=[('poly', PolynomialFeatures(degree=20)),\n                ('std_scaler', StandardScaler()),\n                ('log_reg', LogisticRegression(n_jobs=-1))])"
     },
     "execution_count": 52,
     "metadata": {},
     "output_type": "execute_result"
    }
   ],
   "source": [
    "poly_log_reg2 = PolynomialLogisticRegression(degree=20) # 多项式最高项次数为20\n",
    "poly_log_reg2.fit(X_train, y_train)"
   ]
  },
  {
   "cell_type": "code",
   "execution_count": 53,
   "metadata": {
    "pycharm": {
     "name": "#%%\n"
    }
   },
   "outputs": [
    {
     "data": {
      "text/plain": "0.98"
     },
     "execution_count": 53,
     "metadata": {},
     "output_type": "execute_result"
    }
   ],
   "source": [
    "poly_log_reg2.score(X_train, y_train)"
   ]
  },
  {
   "cell_type": "code",
   "execution_count": 54,
   "metadata": {
    "pycharm": {
     "name": "#%%\n"
    }
   },
   "outputs": [
    {
     "data": {
      "text/plain": "0.94"
     },
     "execution_count": 54,
     "metadata": {},
     "output_type": "execute_result"
    }
   ],
   "source": [
    "poly_log_reg2.score(X_test, y_test) # score没有得到提高"
   ]
  },
  {
   "cell_type": "code",
   "execution_count": 55,
   "metadata": {
    "pycharm": {
     "name": "#%%\n"
    }
   },
   "outputs": [
    {
     "data": {
      "text/plain": "<Figure size 432x288 with 1 Axes>",
      "image/png": "[encoded data removed]"
     },
     "metadata": {
      "needs_background": "light"
     },
     "output_type": "display_data"
    }
   ],
   "source": [
    "plot_decision_boundary(poly_log_reg2, axis=[-4, 4, -4, 4])\n",
    "plt.scatter(X[y==0, 0], X[y==0, 1])\n",
    "plt.scatter(X[y==1, 0], X[y==1, 1])\n",
    "plt.show() # 决策边界复杂,可能出现了过拟合"
   ]
  },
  {
   "cell_type": "code",
   "execution_count": 56,
   "metadata": {
    "pycharm": {
     "name": "#%%\n"
    }
   },
   "outputs": [],
   "source": [
    "def PolynomialLogisticRegression(degree, C, penalty='l2'):\n",
    "    return Pipeline([\n",
    "        ('poly', PolynomialFeatures(degree=degree)),\n",
    "        ('std_scaler', StandardScaler()),\n",
    "        ('log_reg', LogisticRegression(C=C, penalty=penalty, n_jobs=-1, solver='saga', max_iter=5000))\n",
    "    ])"
   ]
  },
  {
   "cell_type": "code",
   "execution_count": 57,
   "metadata": {
    "pycharm": {
     "name": "#%%\n"
    }
   },
   "outputs": [
    {
     "data": {
      "text/plain": "Pipeline(steps=[('poly', PolynomialFeatures(degree=20)),\n                ('std_scaler', StandardScaler()),\n                ('log_reg',\n                 LogisticRegression(C=0.1, max_iter=5000, n_jobs=-1,\n                                    solver='saga'))])"
     },
     "execution_count": 57,
     "metadata": {},
     "output_type": "execute_result"
    }
   ],
   "source": [
    "poly_log_reg3 = PolynomialLogisticRegression(degree=20, C=0.1, penalty='l2')\n",
    "poly_log_reg3.fit(X_train, y_train)"
   ]
  },
  {
   "cell_type": "code",
   "execution_count": 58,
   "metadata": {
    "pycharm": {
     "name": "#%%\n"
    }
   },
   "outputs": [
    {
     "data": {
      "text/plain": "0.9266666666666666"
     },
     "execution_count": 58,
     "metadata": {},
     "output_type": "execute_result"
    }
   ],
   "source": [
    "poly_log_reg3.score(X_train, y_train)"
   ]
  },
  {
   "cell_type": "code",
   "execution_count": 59,
   "metadata": {
    "pycharm": {
     "name": "#%%\n"
    }
   },
   "outputs": [
    {
     "data": {
      "text/plain": "0.9"
     },
     "execution_count": 59,
     "metadata": {},
     "output_type": "execute_result"
    }
   ],
   "source": [
    "poly_log_reg3.score(X_test, y_test)"
   ]
  },
  {
   "cell_type": "code",
   "execution_count": 60,
   "metadata": {
    "pycharm": {
     "name": "#%%\n"
    }
   },
   "outputs": [
    {
     "data": {
      "text/plain": "array([[ 0.00000000e+00,  1.14153913e-02, -4.36740837e-01,\n        -1.00708204e+00,  7.65553037e-02, -6.20659830e-02,\n         4.81542142e-03, -4.60222363e-01,  1.99626813e-02,\n        -1.89729141e-01, -5.71182492e-01,  1.11839428e-02,\n        -2.09954682e-01,  6.19875658e-02, -4.16282571e-02,\n        -1.40165376e-02, -1.28421728e-01, -3.28354229e-02,\n        -1.96628064e-01,  2.68373400e-02, -6.24612031e-02,\n        -2.58841267e-01, -1.84022118e-02, -1.36273910e-01,\n         5.79942447e-03, -6.17357192e-02,  7.38679150e-03,\n        -1.95448291e-02, -3.07372000e-02,  2.11392679e-02,\n        -3.87974500e-02, -7.54479608e-02,  1.60956525e-03,\n        -8.70077372e-02,  7.26464009e-03, -2.15139122e-02,\n        -1.01046885e-01, -3.38976295e-02, -9.41664164e-02,\n        -8.86470265e-03, -2.74143259e-02, -1.58217113e-02,\n        -2.30303191e-02, -9.04576280e-03, -1.11324995e-02,\n        -4.05332321e-02,  6.17925667e-02, -3.27411698e-02,\n        -1.15743057e-02, -3.51806419e-03, -4.30643687e-02,\n         7.21250537e-03, -4.36375753e-02, -5.79435735e-03,\n        -7.87859373e-03, -2.73067633e-02, -4.30436530e-02,\n        -6.01888916e-02, -1.43004186e-02, -2.09362129e-02,\n        -1.74589186e-02, -1.35339602e-03, -1.90047684e-02,\n        -1.42326957e-02, -8.92917351e-03, -7.36695769e-03,\n        -4.53571594e-02,  6.60726376e-02, -2.77190067e-02,\n         2.39603719e-02, -2.42396007e-03, -1.81333509e-02,\n         8.02701552e-03, -2.79567595e-02,  2.27077353e-03,\n        -2.26702026e-02, -1.01232374e-02, -2.71007301e-03,\n         7.58343288e-03, -4.77667521e-02, -2.85295071e-02,\n        -2.23880593e-02, -2.33769765e-02, -1.47880980e-02,\n         2.62234340e-03, -1.71542813e-02,  2.61290973e-03,\n        -1.49841890e-02, -1.30691337e-02, -4.97170884e-03,\n        -5.12806542e-03, -4.75012116e-02,  6.22980992e-02,\n        -2.68602012e-02,  4.62362850e-02,  3.35487385e-04,\n        -3.79133759e-03,  7.58198873e-03, -1.62283963e-02,\n         8.34055658e-03, -1.86309170e-02, -3.52118339e-03,\n        -1.07572636e-02, -1.00373208e-02, -5.62079520e-04,\n         2.48373925e-02, -4.97342134e-02, -3.04480795e-03,\n        -3.37898238e-02, -2.70009306e-02, -1.36311650e-02,\n         3.98145254e-04, -1.32383832e-02,  7.25985187e-03,\n        -1.41321742e-02,  3.73246002e-04, -8.91560961e-03,\n        -1.30182697e-02, -1.50375950e-03, -3.61803339e-03,\n        -4.83408847e-02,  5.81233012e-02, -2.91890191e-02,\n         5.91387054e-02,  3.46916950e-03,  6.89605850e-03,\n         7.20367723e-03, -9.12255471e-03,  8.68782122e-03,\n        -1.31374074e-02,  5.48801046e-03, -1.12694073e-02,\n        -7.65264374e-03, -3.46816444e-03, -8.44462677e-03,\n         3.34223266e-04,  3.38552301e-02, -5.02311065e-02,\n         1.47856155e-02, -4.49856908e-02, -2.84500397e-02,\n        -1.51724171e-02, -3.29791146e-03, -1.04546351e-02,\n         6.18838984e-03, -1.10127768e-02,  6.59641842e-03,\n        -1.02041990e-02, -3.27656816e-03, -3.21568064e-03,\n        -1.26159763e-02,  6.32212571e-04, -2.57463104e-03,\n        -4.85788204e-02,  5.49523084e-02, -3.27543462e-02,\n         6.44301083e-02,  5.45603482e-03,  1.68870670e-02,\n         7.62828546e-03, -4.11609596e-03,  7.50583146e-03,\n        -8.98031137e-03,  7.50876142e-03, -9.94482297e-03,\n         1.70411802e-03, -5.00232235e-03, -9.97073881e-03,\n         1.02706742e-03, -6.64070046e-03,  6.65326040e-04,\n         3.88510365e-02, -5.00542030e-02,  2.63684893e-02,\n        -5.27334020e-02, -2.54201520e-02, -1.98130271e-02,\n        -7.47076042e-03, -9.03267233e-03,  3.92579067e-03,\n        -8.41947330e-03,  6.67245623e-03, -8.78400219e-03,\n         4.25895934e-03, -5.80563287e-03, -6.49146069e-03,\n         1.19831506e-03, -1.17719214e-02,  1.66522448e-03,\n        -1.85396584e-03, -4.85546556e-02,  5.27315746e-02,\n        -3.62633873e-02,  6.47217311e-02,  4.44904168e-03,\n         2.73675679e-02,  9.14739728e-03,  1.09446586e-04,\n         6.45882954e-03, -5.96254921e-03,  6.66039266e-03,\n        -7.67101280e-03,  5.62954278e-03, -6.60702992e-03,\n        -2.14366946e-03,  6.59186126e-06, -1.10223778e-02,\n         3.67139525e-03, -5.07616550e-03,  7.37662879e-04,\n         4.17796181e-02, -4.96332520e-02,  3.36947860e-02,\n        -5.63702212e-02, -1.72771296e-02, -2.74527978e-02,\n        -1.20079223e-02, -8.96767350e-03,  1.55039521e-03,\n        -6.61583931e-03,  5.20776943e-03, -6.89264509e-03,\n         5.68398899e-03, -6.49397732e-03,  1.24313642e-03,\n        -1.39895938e-03, -8.67903833e-03,  4.28906954e-03,\n        -1.06279328e-02,  2.00233157e-03, -1.35570276e-03]])"
     },
     "execution_count": 60,
     "metadata": {},
     "output_type": "execute_result"
    }
   ],
   "source": [
    "poly_log_reg3[2].coef_ # L2正则不能将多项式系数收缩为0"
   ]
  },
  {
   "cell_type": "code",
   "execution_count": 61,
   "metadata": {
    "pycharm": {
     "name": "#%%\n"
    }
   },
   "outputs": [
    {
     "data": {
      "text/plain": "<Figure size 432x288 with 1 Axes>",
      "image/png": "[encoded data removed]"
     },
     "metadata": {
      "needs_background": "light"
     },
     "output_type": "display_data"
    }
   ],
   "source": [
    "plot_decision_boundary(poly_log_reg3, axis=[-4, 4, -4, 4])\n",
    "plt.scatter(X[y==0,0], X[y==0,1])\n",
    "plt.scatter(X[y==1,0], X[y==1,1])\n",
    "plt.show()"
   ]
  },
  {
   "cell_type": "code",
   "execution_count": 62,
   "metadata": {
    "pycharm": {
     "name": "#%%\n"
    }
   },
   "outputs": [
    {
     "data": {
      "text/plain": "Pipeline(steps=[('poly', PolynomialFeatures(degree=20)),\n                ('std_scaler', StandardScaler()),\n                ('log_reg',\n                 LogisticRegression(C=0.1, max_iter=5000, n_jobs=-1,\n                                    penalty='l1', solver='saga'))])"
     },
     "execution_count": 62,
     "metadata": {},
     "output_type": "execute_result"
    }
   ],
   "source": [
    "poly_log_reg4 = PolynomialLogisticRegression(degree=20, C=0.1, penalty='l1')\n",
    "poly_log_reg4.fit(X_train, y_train)"
   ]
  },
  {
   "cell_type": "code",
   "execution_count": 63,
   "metadata": {
    "pycharm": {
     "name": "#%%\n"
    }
   },
   "outputs": [
    {
     "data": {
      "text/plain": "0.8866666666666667"
     },
     "execution_count": 63,
     "metadata": {},
     "output_type": "execute_result"
    }
   ],
   "source": [
    "poly_log_reg4.score(X_train, y_train)"
   ]
  },
  {
   "cell_type": "code",
   "execution_count": 64,
   "metadata": {
    "pycharm": {
     "name": "#%%\n"
    }
   },
   "outputs": [
    {
     "data": {
      "text/plain": "0.78"
     },
     "execution_count": 64,
     "metadata": {},
     "output_type": "execute_result"
    }
   ],
   "source": [
    "poly_log_reg4.score(X_test, y_test)"
   ]
  },
  {
   "cell_type": "code",
   "execution_count": 65,
   "metadata": {
    "pycharm": {
     "name": "#%%\n"
    }
   },
   "outputs": [
    {
     "data": {
      "text/plain": "<Figure size 432x288 with 1 Axes>",
      "image/png": "[encoded data removed]"
     },
     "metadata": {
      "needs_background": "light"
     },
     "output_type": "display_data"
    }
   ],
   "source": [
    "plot_decision_boundary(poly_log_reg4, axis=[-4, 4, -4, 4])\n",
    "plt.scatter(X[y==0,0], X[y==0,1])\n",
    "plt.scatter(X[y==1,0], X[y==1,1])\n",
    "plt.show()"
   ]
  },
  {
   "cell_type": "code",
   "execution_count": 66,
   "metadata": {
    "pycharm": {
     "name": "#%%\n"
    }
   },
   "outputs": [
    {
     "data": {
      "text/plain": "array([[ 0.00000000e+00,  0.00000000e+00, -5.05148332e-01,\n        -1.16593735e+00,  0.00000000e+00,  0.00000000e+00,\n         0.00000000e+00, -9.65212257e-02,  0.00000000e+00,\n         0.00000000e+00,  0.00000000e+00,  0.00000000e+00,\n         0.00000000e+00,  0.00000000e+00,  0.00000000e+00,\n         0.00000000e+00,  0.00000000e+00,  0.00000000e+00,\n         0.00000000e+00,  0.00000000e+00,  0.00000000e+00,\n         0.00000000e+00,  0.00000000e+00,  0.00000000e+00,\n         0.00000000e+00,  0.00000000e+00,  0.00000000e+00,\n         0.00000000e+00,  0.00000000e+00,  0.00000000e+00,\n         0.00000000e+00,  0.00000000e+00,  0.00000000e+00,\n         0.00000000e+00,  0.00000000e+00,  0.00000000e+00,\n         0.00000000e+00,  0.00000000e+00,  0.00000000e+00,\n         0.00000000e+00,  0.00000000e+00,  0.00000000e+00,\n         0.00000000e+00,  0.00000000e+00,  0.00000000e+00,\n         0.00000000e+00,  0.00000000e+00,  0.00000000e+00,\n         0.00000000e+00,  0.00000000e+00,  0.00000000e+00,\n         0.00000000e+00,  0.00000000e+00,  0.00000000e+00,\n         0.00000000e+00,  0.00000000e+00,  0.00000000e+00,\n         0.00000000e+00,  0.00000000e+00,  0.00000000e+00,\n         0.00000000e+00,  0.00000000e+00,  0.00000000e+00,\n         0.00000000e+00,  0.00000000e+00,  0.00000000e+00,\n         0.00000000e+00,  0.00000000e+00,  0.00000000e+00,\n         0.00000000e+00,  0.00000000e+00,  0.00000000e+00,\n         0.00000000e+00,  0.00000000e+00,  0.00000000e+00,\n         0.00000000e+00,  0.00000000e+00,  0.00000000e+00,\n         0.00000000e+00, -2.67667718e-02,  0.00000000e+00,\n         0.00000000e+00,  0.00000000e+00,  0.00000000e+00,\n         0.00000000e+00,  0.00000000e+00,  0.00000000e+00,\n         0.00000000e+00,  0.00000000e+00,  0.00000000e+00,\n         0.00000000e+00,  0.00000000e+00,  9.41039744e-03,\n         0.00000000e+00,  0.00000000e+00,  0.00000000e+00,\n         0.00000000e+00,  0.00000000e+00,  0.00000000e+00,\n         0.00000000e+00,  0.00000000e+00,  0.00000000e+00,\n         0.00000000e+00,  0.00000000e+00,  0.00000000e+00,\n         0.00000000e+00, -3.81376164e-02,  0.00000000e+00,\n         0.00000000e+00,  0.00000000e+00,  0.00000000e+00,\n         0.00000000e+00,  0.00000000e+00,  0.00000000e+00,\n         0.00000000e+00,  0.00000000e+00,  0.00000000e+00,\n         0.00000000e+00,  0.00000000e+00,  0.00000000e+00,\n         0.00000000e+00,  3.72335084e-02,  0.00000000e+00,\n         0.00000000e+00,  0.00000000e+00,  0.00000000e+00,\n         0.00000000e+00,  0.00000000e+00,  0.00000000e+00,\n         0.00000000e+00,  0.00000000e+00,  0.00000000e+00,\n         0.00000000e+00,  0.00000000e+00,  0.00000000e+00,\n         0.00000000e+00,  0.00000000e+00, -3.85706640e-02,\n         0.00000000e+00,  0.00000000e+00,  0.00000000e+00,\n         0.00000000e+00,  0.00000000e+00,  0.00000000e+00,\n         0.00000000e+00,  0.00000000e+00,  0.00000000e+00,\n         0.00000000e+00,  0.00000000e+00,  0.00000000e+00,\n         0.00000000e+00,  0.00000000e+00,  0.00000000e+00,\n        -6.14939784e-04,  4.16407477e-02,  0.00000000e+00,\n         0.00000000e+00,  0.00000000e+00,  0.00000000e+00,\n         0.00000000e+00,  0.00000000e+00,  0.00000000e+00,\n         0.00000000e+00,  0.00000000e+00,  0.00000000e+00,\n         0.00000000e+00,  0.00000000e+00,  0.00000000e+00,\n         0.00000000e+00,  0.00000000e+00,  0.00000000e+00,\n         0.00000000e+00, -3.44939296e-02,  0.00000000e+00,\n         0.00000000e+00,  0.00000000e+00,  0.00000000e+00,\n         0.00000000e+00,  0.00000000e+00,  0.00000000e+00,\n         0.00000000e+00,  0.00000000e+00,  0.00000000e+00,\n         0.00000000e+00,  0.00000000e+00,  0.00000000e+00,\n         0.00000000e+00,  0.00000000e+00,  0.00000000e+00,\n         0.00000000e+00, -4.83479211e-03,  3.78542952e-02,\n         0.00000000e+00,  0.00000000e+00,  0.00000000e+00,\n         0.00000000e+00,  0.00000000e+00,  0.00000000e+00,\n         0.00000000e+00,  0.00000000e+00,  0.00000000e+00,\n         0.00000000e+00,  0.00000000e+00,  0.00000000e+00,\n         0.00000000e+00,  0.00000000e+00,  0.00000000e+00,\n         0.00000000e+00,  0.00000000e+00,  0.00000000e+00,\n         0.00000000e+00, -2.91558486e-02,  0.00000000e+00,\n         0.00000000e+00,  0.00000000e+00,  0.00000000e+00,\n         0.00000000e+00,  0.00000000e+00,  0.00000000e+00,\n         0.00000000e+00,  0.00000000e+00,  0.00000000e+00,\n         0.00000000e+00,  0.00000000e+00,  0.00000000e+00,\n         0.00000000e+00,  0.00000000e+00,  0.00000000e+00,\n         0.00000000e+00,  0.00000000e+00,  0.00000000e+00]])"
     },
     "execution_count": 66,
     "metadata": {},
     "output_type": "execute_result"
    }
   ],
   "source": [
    "poly_log_reg4[2].coef_ # L1正则可以将某些多项式系数收缩为0,因此可以给出一个简单的可解释的模型"
   ]
  },
  {
   "cell_type": "code",
   "execution_count": 66,
   "metadata": {
    "pycharm": {
     "name": "#%%\n"
    }
   },
   "outputs": [],
   "source": [
    "\n"
   ]
  }
 ],
 "metadata": {
  "kernelspec": {
   "display_name": "Python 3",
   "language": "python",
   "name": "python3"
  },
  "language_info": {
   "codemirror_mode": {
    "name": "ipython",
    "version": 3
   },
   "file_extension": ".py",
   "mimetype": "text/x-python",
   "name": "python",
   "nbconvert_exporter": "python",
   "pygments_lexer": "ipython3",
   "version": "3.7.4"
  },
  "toc": {
   "base_numbering": 1,
   "nav_menu": {},
   "number_sections": true,
   "sideBar": true,
   "skip_h1_title": false,
   "title_cell": "Table of Contents",
   "title_sidebar": "Contents",
   "toc_cell": false,
   "toc_position": {},
   "toc_section_display": true,
   "toc_window_display": false
  }
 },
 "nbformat": 4,
 "nbformat_minor": 1
}