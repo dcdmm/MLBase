{
 "cells": [
  {
   "cell_type": "code",
   "execution_count": 3,
   "metadata": {
    "collapsed": true
   },
   "outputs": [],
   "source": [
    "import jieba.posseg as pseg"
   ]
  },
  {
   "cell_type": "markdown",
   "source": [
    "### 词性编码表(《PFR人民日报标注语料库》)\n",
    "\n",
    "| 代码 | 名称       | 举例                                                         |\n",
    "| ---- | ---------- | ------------------------------------------------------------ |\n",
    "| a    | 形容词     | 最/d 大/a 的/u                                               |\n",
    "| ad   | 副形词     | 一定/d 能够/v 顺利/ad 实现/v 。/w                            |\n",
    "| ag   | 形语素     | 喜/v 煞/ag 人/n                                              |\n",
    "| an   | 名形词     | 人民/n 的/u 根本/a 利益/n 和/c 国家/n 的/u 安稳/an 。/w      |\n",
    "| b    | 区别词     | 副/b 书记/n 王/nr 思齐/nr                                    |\n",
    "| c    | 连词       | 全军/n 和/c 武警/n 先进/a 典型/n 代表/n                      |\n",
    "| d    | 副词       | 两侧/f 台柱/n 上/ 分别/d 雄踞/v 着/u                         |\n",
    "| dg   | 副语素     | 用/v 不/d 甚/dg 流利/a 的/u 中文/nz 主持/v 节目/n 。/w       |\n",
    "| e    | 叹词       | 嗬/e ！/w                                                    |\n",
    "| f    | 方位词     | 从/p 一/m 大/a 堆/q 档案/n 中/f 发现/v 了/u                  |\n",
    "| g    | 语素       | 例如dg 或ag                                                  |\n",
    "| h    | 前接成分   | 目前/t 各种/r 非/h 合作制/n 的/u 农产品/n                    |\n",
    "| i    | 成语       | 提高/v 农民/n 讨价还价/i 的/u 能力/n 。/w                    |\n",
    "| j    | 简称略语   | 民主/ad 选举/v 村委会/j 的/u 工作/vn                         |\n",
    "| k    | 后接成分   | 权责/n 明确/a 的/u 逐级/d 授权/v 制/k                        |\n",
    "| l    | 习用语     | 是/v 建立/v 社会主义/n 市场经济/n 体制/n 的/u 重要/a 组成部分/l 。/w |\n",
    "| m    | 数词       | 科学技术/n 是/v 第一/m 生产力/n                              |\n",
    "| n    | 名词       | 希望/v 双方/n 在/p 市政/n 规划/vn                            |\n",
    "| ng   | 名语素     | 就此/d 分析/v 时/Ng 认为/v                                   |\n",
    "| nr   | 人名       | 建设部/nt 部长/n 侯/nr 捷/nr                                 |\n",
    "| ns   | 地名       | 北京/ns 经济/n 运行/vn 态势/n 喜人/a                         |\n",
    "| nt   | 机构团体   | [冶金/n 工业部/n 洛阳/ns 耐火材料/l 研究院/n]nt              |\n",
    "| nx   | 字母专名   | ＡＴＭ/nx 交换机/n                                           |\n",
    "| nz   | 其他专名   | 德士古/nz 公司/n                                             |\n",
    "| o    | 拟声词     | 汩汩/o 地/u 流/v 出来/v                                      |\n",
    "| p    | 介词       | 往/p 基层/n 跑/v 。/w                                        |\n",
    "| q    | 量词       | 不止/v 一/m 次/q 地/u 听到/v ，/w                            |\n",
    "| r    | 代词       | 有些/r 部门/n                                                |\n",
    "| s    | 处所词     | 移居/v 海外/s 。/w                                           |\n",
    "| t    | 时间词     | 当前/t 经济/n 社会/n 情况/n                                  |\n",
    "| tg   | 时语素     | 秋/Tg 冬/tg 连/d 旱/a                                        |\n",
    "| u    | 助词       | 工作/vn 的/u 政策/n                                          |\n",
    "| ud   | 结构助词   | 有/v 心/n 栽/v 得/ud 梧桐树/n                                |\n",
    "| ug   | 时态助词   | 你/r 想/v 过/ug 没有/v                                       |\n",
    "| uj   | 结构助词的 | 迈向/v 充满/v 希望/n 的/uj 新/a 世纪/n                       |\n",
    "| ul   | 时态助词了 | 完成/v 了/ ul                                                |\n",
    "| uv   | 结构助词地 | 满怀信心/l 地/uv 开创/v 新/a 的/u 业绩/n                     |\n",
    "| uz   | 时态助词着 | 眼看/v 着/uz                                                 |\n",
    "| v    | 动词       | 举行/v 老/a 干部/n 迎春/vn 团拜会/n                          |\n",
    "| vd   | 副动词     | 强调/vd 指出/v                                               |\n",
    "| vg   | 动语素     | 做好/v 尊/vg 干/j 爱/v 兵/n 工作/vn                          |\n",
    "| vn   | 名动词     | 股份制/n 这种/r 企业/n 组织/vn 形式/n ，/w                   |\n",
    "| w    | 标点符号   | 生产/v 的/u ５Ｇ/nx 、/w ８Ｇ/nx 型/k 燃气/n 热水器/n        |\n",
    "| x    | 非语素字   |                                                              |\n",
    "| y    | 语气词     | 已经/d ３０/m 多/m 年/q 了/y 。/w                            |\n",
    "| z    | 状态词     | 势头/n 依然/z 强劲/a ；/w                                    |"
   ],
   "metadata": {
    "collapsed": false,
    "pycharm": {
     "name": "#%% md\n"
    }
   }
  },
  {
   "cell_type": "code",
   "execution_count": 4,
   "outputs": [
    {
     "name": "stdout",
     "output_type": "stream",
     "text": [
      "虽然 c\n",
      "经过 p\n",
      "了 ul\n",
      "一些 m\n",
      "波折 vn\n",
      ", x\n",
      "我 r\n",
      "仍然 d\n",
      "爱 v\n",
      "自然语言 l\n",
      "处理 v\n",
      ", x\n",
      "你 r\n",
      "呢 y\n",
      "? x\n",
      "是不是 l\n",
      "和 c\n",
      "我 r\n",
      "一样 r\n",
      "呀 y\n",
      "! x\n"
     ]
    }
   ],
   "source": [
    "words = pseg.cut(\"虽然经过了一些波折,我仍然爱自然语言处理,你呢?是不是和我一样呀!\")\n",
    "for word, flag in words:\n",
    "    print('%s %s' % (word, flag))  # 可参考上词性编码表"
   ],
   "metadata": {
    "collapsed": false,
    "pycharm": {
     "name": "#%%\n"
    }
   }
  },
  {
   "cell_type": "code",
   "execution_count": 4,
   "outputs": [],
   "source": [],
   "metadata": {
    "collapsed": false,
    "pycharm": {
     "name": "#%%\n"
    }
   }
  }
 ],
 "metadata": {
  "kernelspec": {
   "display_name": "Python 3",
   "language": "python",
   "name": "python3"
  },
  "language_info": {
   "codemirror_mode": {
    "name": "ipython",
    "version": 2
   },
   "file_extension": ".py",
   "mimetype": "text/x-python",
   "name": "python",
   "nbconvert_exporter": "python",
   "pygments_lexer": "ipython2",
   "version": "2.7.6"
  }
 },
 "nbformat": 4,
 "nbformat_minor": 0
}