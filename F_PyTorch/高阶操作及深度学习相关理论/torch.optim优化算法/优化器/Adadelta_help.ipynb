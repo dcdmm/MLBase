{
 "cells": [
  {
   "cell_type": "markdown",
   "metadata": {
    "collapsed": true,
    "pycharm": {
     "name": "#%% md\n"
    }
   },
   "source": [
    "&emsp;&emsp;AdaDelta 算法也是AdaGrad算法的一个改进.和RMSprop算法类似,AdaDelta算法通过梯度平方的指数衰减移动平均来<font color='red' size=4>调整学习率</font>.此外,AdaDelta算法还引入了每次参数更新差值$\\Delta \\boldsymbol{\\theta}$的平方的指数衰减权移动平均.\n",
    "\n",
    "***\n",
    "\n",
    "**Require**: 衰减速率$\\rho$;缩放系数$\\epsilon$\n",
    "\n",
    "**Require**: 初始参数$\\boldsymbol{\\theta_0}$\n",
    "\n",
    "**Require**: 小常数$\\delta$,为了数值稳定大约设为$10^{-6}$\n",
    "\n",
    "&emsp;&emsp;初始化累计变量$\\boldsymbol{r_0}=\\boldsymbol{0}$;$\\Delta \\boldsymbol{s_0} = \\boldsymbol{0}$\n",
    "\n",
    "&emsp;&emsp;初始时间步$ t \\leftarrow 0$ \n",
    "\n",
    "&emsp;&emsp;**while** 停止准则未满足 **do**\n",
    "\n",
    "&emsp;&emsp;&emsp;&emsp;从训练集中随机选取$m$个样本(小批量)$\\{ \\mathbf{x^{1}},\\mathbf{x^{2}}, \\cdots, \\mathbf{x^{m}} \\}$,其中$\\mathbf{x^{i}}$对应目标为$y^{i}$\n",
    "\n",
    "&emsp;&emsp;&emsp;&emsp;计算梯度:$\\boldsymbol{g}_t \\leftarrow \\frac{1}{m} \\nabla_{\\boldsymbol{\\theta_t}} \\sum_i L\\left(f(\\mathbf{x^{i}};\\boldsymbol{\\theta_t}), y^i \\right)$\n",
    "\n",
    "&emsp;&emsp;&emsp;&emsp;$t \\leftarrow t+1$\n",
    "\n",
    "&emsp;&emsp;&emsp;&emsp;累计梯度平方:$\\boldsymbol{r_t} \\leftarrow \\rho \\boldsymbol{r_{t-1}} + (1-\\rho) \\boldsymbol{g_t} \\odot \\boldsymbol{g_t}$\n",
    "\n",
    "&emsp;&emsp;&emsp;&emsp;计算更新:$\\Delta \\boldsymbol{\\theta_{t-1}}  \\leftarrow  - \\frac{\\sqrt{\\Delta \\boldsymbol{s_{t-1}} + \\delta}}{\\sqrt{\\boldsymbol{r_t} + \\delta}} \\odot \\boldsymbol{g_t}$\n",
    "\n",
    "&emsp;&emsp;&emsp;&emsp;计算累计更新:$\\Delta \\boldsymbol{s_{t}} = \\rho \\Delta \\boldsymbol{s_{t-1}} + (1-\\rho) \\Delta \\boldsymbol{\\theta_{t-1}} \\odot \\Delta \\boldsymbol{\\theta_{t-1}}$\n",
    "\n",
    "&emsp;&emsp;&emsp;&emsp;参数更新:$\\boldsymbol{\\theta_{t}} \\leftarrow \\boldsymbol{\\theta_{t-1}} + \\epsilon \\Delta \\boldsymbol{\\theta_{t-1}} $\n",
    "\n",
    "&emsp;&emsp;**end while**\n",
    "\n",
    "***"
   ]
  },
  {
   "cell_type": "code",
   "execution_count": null,
   "metadata": {},
   "outputs": [],
   "source": []
  }
 ],
 "metadata": {
  "kernelspec": {
   "display_name": "Python 3",
   "language": "python",
   "name": "python3"
  },
  "language_info": {
   "codemirror_mode": {
    "name": "ipython",
    "version": 3
   },
   "file_extension": ".py",
   "mimetype": "text/x-python",
   "name": "python",
   "nbconvert_exporter": "python",
   "pygments_lexer": "ipython3",
   "version": "3.7.7"
  },
  "toc": {
   "base_numbering": 1,
   "nav_menu": {},
   "number_sections": true,
   "sideBar": true,
   "skip_h1_title": false,
   "title_cell": "Table of Contents",
   "title_sidebar": "Contents",
   "toc_cell": false,
   "toc_position": {},
   "toc_section_display": true,
   "toc_window_display": false
  }
 },
 "nbformat": 4,
 "nbformat_minor": 1
}