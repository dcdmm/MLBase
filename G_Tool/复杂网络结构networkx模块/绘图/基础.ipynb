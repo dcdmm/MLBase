{
 "cells": [
  {
   "cell_type": "code",
   "execution_count": 198,
   "metadata": {
    "collapsed": true
   },
   "outputs": [],
   "source": [
    "import networkx as nx\n",
    "import matplotlib.pyplot as plt"
   ]
  },
  {
   "cell_type": "code",
   "execution_count": 199,
   "outputs": [],
   "source": [
    "G = nx.Graph()\n",
    "G.add_edge(1, 2)  # 自动添加节点\n",
    "G.add_edge(1, 3)\n",
    "G.add_edge(1, 5)\n",
    "G.add_edge(2, 3)\n",
    "G.add_edge(3, 4)\n",
    "G.add_edge(4, 5)"
   ],
   "metadata": {
    "collapsed": false,
    "pycharm": {
     "name": "#%%\n"
    }
   }
  },
  {
   "cell_type": "code",
   "execution_count": 200,
   "outputs": [
    {
     "data": {
      "text/plain": "<Figure size 432x288 with 1 Axes>",
      "image/png": "[encoded data removed]"
     },
     "metadata": {},
     "output_type": "display_data"
    }
   ],
   "source": [
    "pos = {1: (0, 0), 2: (-1, 0.3), 3: (2, 0.17), 4: (4, 0.255), 5: (5, 0.03)}\n",
    "\n",
    "fig1, axes = plt.subplots()\n",
    "\n",
    "nx.draw_networkx_nodes(G, pos=pos,\n",
    "                       node_size=3000,  # 节点小大\n",
    "\n",
    "                       # 参考D_plot/matplotlib/统计图形/散点图/scatter0.ipynb中参数c与cmap的关系\n",
    "                       node_color=[0, 0.2, 0.4, 0.6, 0.8],\n",
    "                       cmap=plt.cm.Set1,\n",
    "\n",
    "                       linewidths=1,  # 节点边框线宽\n",
    "\n",
    "                       edgecolors='blue',  # 节点边框颜色\n",
    "                       node_shape='s',  # 节点形状(参考D_plot/matplotlib/基础知识/marker_help.docx)\n",
    "                       ax=axes)\n",
    "\n",
    "nx.draw_networkx_edges(G, pos=pos,\n",
    "                       width=5,  # 边线宽\n",
    "                       # Edge color.\n",
    "                       # Can be a single color or a sequence of colors with the same length as edgelist.\n",
    "                       # Color can be string or rgb (or rgba) tuple\n",
    "                       edge_color=['yellow', 'red', 'black', 'green', 'blue'],  # 单一颜色则表示所有边颜色相同\n",
    "                       ax=axes)\n",
    "\n",
    "nx.draw_networkx_labels(G, pos=pos,\n",
    "                        font_size=36,  # Font size for text labels\n",
    "                        font_color='k',  # Font color string\n",
    "                        ax=axes)\n",
    "\n",
    "axes.set_title(\"net img\", size=23)\n",
    "axes.margins(0.20)\n",
    "axes.axis(\"off\")\n",
    "plt.show()\n",
    "\n"
   ],
   "metadata": {
    "collapsed": false,
    "pycharm": {
     "name": "#%%\n"
    }
   }
  }
 ],
 "metadata": {
  "kernelspec": {
   "display_name": "Python 3",
   "language": "python",
   "name": "python3"
  },
  "language_info": {
   "codemirror_mode": {
    "name": "ipython",
    "version": 2
   },
   "file_extension": ".py",
   "mimetype": "text/x-python",
   "name": "python",
   "nbconvert_exporter": "python",
   "pygments_lexer": "ipython2",
   "version": "2.7.6"
  }
 },
 "nbformat": 4,
 "nbformat_minor": 0
}