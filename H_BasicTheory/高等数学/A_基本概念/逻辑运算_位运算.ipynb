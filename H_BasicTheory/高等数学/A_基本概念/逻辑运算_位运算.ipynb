{
 "cells": [
  {
   "cell_type": "code",
   "execution_count": 27,
   "metadata": {
    "collapsed": true
   },
   "outputs": [],
   "source": [
    "### 转换类型真假(必须为布尔类型)\n",
    "### 仅适用于numpy/pandas/torch/tensorflow"
   ]
  },
  {
   "cell_type": "code",
   "execution_count": 28,
   "outputs": [],
   "source": [
    "import numpy as np\n",
    "import pandas as pd\n",
    "import torch\n",
    "import tensorflow as tf"
   ],
   "metadata": {
    "collapsed": false,
    "pycharm": {
     "name": "#%%\n"
    }
   }
  },
  {
   "cell_type": "code",
   "execution_count": 29,
   "outputs": [
    {
     "name": "stdout",
     "output_type": "stream",
     "text": [
      "[[ True False False]\n",
      " [False False  True]\n",
      " [ True  True False]]\n",
      "[[False  True  True]\n",
      " [ True  True False]\n",
      " [False False  True]]\n"
     ]
    }
   ],
   "source": [
    "arr0 = np.array([[True, False, False],\n",
    "                 [False, False, True],\n",
    "                 [True, True, False]])\n",
    "\n",
    "print(arr0)\n",
    "print(~arr0)  # 取反:True===>False;False===>True"
   ],
   "metadata": {
    "collapsed": false,
    "pycharm": {
     "name": "#%%\n"
    }
   }
  },
  {
   "cell_type": "code",
   "execution_count": 30,
   "outputs": [
    {
     "name": "stdout",
     "output_type": "stream",
     "text": [
      "       0      1      2\n",
      "0   True  False  False\n",
      "1  False  False   True\n",
      "2   True   True  False\n",
      "       0      1      2\n",
      "0  False   True   True\n",
      "1   True   True  False\n",
      "2  False  False   True\n"
     ]
    }
   ],
   "source": [
    "df0 = pd.DataFrame(arr0)\n",
    "\n",
    "print(df0)\n",
    "print(~df0)"
   ],
   "metadata": {
    "collapsed": false,
    "pycharm": {
     "name": "#%%\n"
    }
   }
  },
  {
   "cell_type": "code",
   "execution_count": 31,
   "outputs": [
    {
     "name": "stdout",
     "output_type": "stream",
     "text": [
      "tensor([[ True, False, False],\n",
      "        [False, False,  True],\n",
      "        [ True,  True, False]])\n",
      "tensor([[False,  True,  True],\n",
      "        [ True,  True, False],\n",
      "        [False, False,  True]])\n"
     ]
    }
   ],
   "source": [
    "tor0 = torch.tensor(arr0)\n",
    "\n",
    "print(tor0)\n",
    "print(~tor0)"
   ],
   "metadata": {
    "collapsed": false,
    "pycharm": {
     "name": "#%%\n"
    }
   }
  },
  {
   "cell_type": "code",
   "execution_count": 32,
   "outputs": [
    {
     "name": "stdout",
     "output_type": "stream",
     "text": [
      "tf.Tensor(\n",
      "[[ True False False]\n",
      " [False False  True]\n",
      " [ True  True False]], shape=(3, 3), dtype=bool)\n",
      "tf.Tensor(\n",
      "[[False  True  True]\n",
      " [ True  True False]\n",
      " [False False  True]], shape=(3, 3), dtype=bool)\n"
     ]
    }
   ],
   "source": [
    "cons = tf.constant(arr0)\n",
    "\n",
    "print(cons)\n",
    "print(~cons)"
   ],
   "metadata": {
    "collapsed": false,
    "pycharm": {
     "name": "#%%\n"
    }
   }
  },
  {
   "cell_type": "code",
   "execution_count": 33,
   "outputs": [
    {
     "name": "stdout",
     "output_type": "stream",
     "text": [
      "[[ True False False]\n",
      " [False False  True]\n",
      " [ True False False]]\n",
      "[[ True False False]\n",
      " [False  True  True]\n",
      " [ True  True  True]]\n"
     ]
    }
   ],
   "source": [
    "arr1 = np.array([[True, False, False],\n",
    "                 [False, True, True],\n",
    "                 [True, False, True]])\n",
    "\n",
    "print(arr0 & arr1)  # 与:全为True时才为True\n",
    "print(arr0 | arr1)  # 或:全为False时才为False\n",
    "\n"
   ],
   "metadata": {
    "collapsed": false,
    "pycharm": {
     "name": "#%%\n"
    }
   }
  }
 ],
 "metadata": {
  "kernelspec": {
   "display_name": "Python 3",
   "language": "python",
   "name": "python3"
  },
  "language_info": {
   "codemirror_mode": {
    "name": "ipython",
    "version": 2
   },
   "file_extension": ".py",
   "mimetype": "text/x-python",
   "name": "python",
   "nbconvert_exporter": "python",
   "pygments_lexer": "ipython2",
   "version": "2.7.6"
  }
 },
 "nbformat": 4,
 "nbformat_minor": 0
}