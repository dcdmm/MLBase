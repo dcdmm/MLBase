{
 "cells": [
  {
   "cell_type": "markdown",
   "metadata": {
    "collapsed": true,
    "pycharm": {
     "name": "#%% md\n"
    }
   },
   "source": [
    "$$ \\operatorname{LogSoftmax}\\left(x_{i}\\right)= \\log \\left(  \\frac{\\exp \\left(x_{i}\\right)}{\\sum_{j} \\exp \\left(x_{j}\\right)} \\right) = x_i - \\log \\left(  \\sum_j \\exp \\left(x_{j}\\right) \\right) $$"
   ]
  },
  {
   "cell_type": "code",
   "execution_count": 1,
   "metadata": {
    "collapsed": false,
    "pycharm": {
     "name": "#%%\n"
    }
   },
   "outputs": [],
   "source": [
    "import torch\n",
    "import torch.nn.functional as F\n",
    "import matplotlib.pyplot as plt\n",
    "import torch.nn as nn"
   ]
  },
  {
   "cell_type": "code",
   "execution_count": 2,
   "metadata": {
    "collapsed": false,
    "pycharm": {
     "name": "#%%\n"
    }
   },
   "outputs": [
    {
     "data": {
      "text/plain": [
       "[<matplotlib.lines.Line2D at 0x2220a2fdf00>]"
      ]
     },
     "execution_count": 2,
     "metadata": {},
     "output_type": "execute_result"
    },
    {
     "data": {
      "image/png": "[encoded data removed]",
      "text/plain": [
       "<Figure size 640x480 with 1 Axes>"
      ]
     },
     "metadata": {},
     "output_type": "display_data"
    }
   ],
   "source": [
    "x = torch.linspace(-5, 5, 200)\n",
    "log_softmax_f = F.log_softmax(x, dim=0)\n",
    "\n",
    "plt.plot(x, log_softmax_f)"
   ]
  },
  {
   "cell_type": "code",
   "execution_count": 3,
   "metadata": {
    "collapsed": false,
    "pycharm": {
     "name": "#%%\n"
    }
   },
   "outputs": [
    {
     "data": {
      "text/plain": [
       "tensor([-8.0157, -8.0157, -8.0157, -8.0157, -8.0157, -8.0157, -8.0157, -8.0157,\n",
       "        -8.0157, -8.0157, -8.0157, -8.0157, -8.0157, -8.0157, -8.0157, -8.0157,\n",
       "        -8.0157, -8.0157, -8.0157, -8.0157, -8.0157, -8.0157, -8.0157, -8.0157,\n",
       "        -8.0157, -8.0157, -8.0157, -8.0157, -8.0157, -8.0157, -8.0157, -8.0157,\n",
       "        -8.0157, -8.0157, -8.0157, -8.0157, -8.0157, -8.0157, -8.0157, -8.0157,\n",
       "        -8.0157, -8.0157, -8.0157, -8.0157, -8.0157, -8.0157, -8.0157, -8.0157,\n",
       "        -8.0157, -8.0157, -8.0157, -8.0157, -8.0157, -8.0157, -8.0157, -8.0157,\n",
       "        -8.0157, -8.0157, -8.0157, -8.0157, -8.0157, -8.0157, -8.0157, -8.0157,\n",
       "        -8.0157, -8.0157, -8.0157, -8.0157, -8.0157, -8.0157, -8.0157, -8.0157,\n",
       "        -8.0157, -8.0157, -8.0157, -8.0157, -8.0157, -8.0157, -8.0157, -8.0157,\n",
       "        -8.0157, -8.0157, -8.0157, -8.0157, -8.0157, -8.0157, -8.0157, -8.0157,\n",
       "        -8.0157, -8.0157, -8.0157, -8.0157, -8.0157, -8.0157, -8.0157, -8.0157,\n",
       "        -8.0157, -8.0157, -8.0157, -8.0157, -8.0157, -8.0157, -8.0157, -8.0157,\n",
       "        -8.0157, -8.0157, -8.0157, -8.0157, -8.0157, -8.0157, -8.0157, -8.0157,\n",
       "        -8.0157, -8.0157, -8.0157, -8.0157, -8.0157, -8.0157, -8.0157, -8.0157,\n",
       "        -8.0157, -8.0157, -8.0157, -8.0157, -8.0157, -8.0157, -8.0157, -8.0157,\n",
       "        -8.0157, -8.0157, -8.0157, -8.0157, -8.0157, -8.0157, -8.0157, -8.0157,\n",
       "        -8.0157, -8.0157, -8.0157, -8.0157, -8.0157, -8.0157, -8.0157, -8.0157,\n",
       "        -8.0157, -8.0157, -8.0157, -8.0157, -8.0157, -8.0157, -8.0157, -8.0157,\n",
       "        -8.0157, -8.0157, -8.0157, -8.0157, -8.0157, -8.0157, -8.0157, -8.0157,\n",
       "        -8.0157, -8.0157, -8.0157, -8.0157, -8.0157, -8.0157, -8.0157, -8.0157,\n",
       "        -8.0157, -8.0157, -8.0157, -8.0157, -8.0157, -8.0157, -8.0157, -8.0157,\n",
       "        -8.0157, -8.0157, -8.0157, -8.0157, -8.0157, -8.0157, -8.0157, -8.0157,\n",
       "        -8.0157, -8.0157, -8.0157, -8.0157, -8.0157, -8.0157, -8.0157, -8.0157,\n",
       "        -8.0157, -8.0157, -8.0157, -8.0157, -8.0157, -8.0157, -8.0157, -8.0157])"
      ]
     },
     "execution_count": 3,
     "metadata": {},
     "output_type": "execute_result"
    }
   ],
   "source": [
    "log_softmax_f - x"
   ]
  },
  {
   "cell_type": "code",
   "execution_count": 4,
   "metadata": {
    "collapsed": false,
    "pycharm": {
     "name": "#%%\n"
    }
   },
   "outputs": [
    {
     "data": {
      "text/plain": [
       "tensor([-13.0157, -12.9654, -12.9152, -12.8649, -12.8147, -12.7644, -12.7142,\n",
       "        -12.6639, -12.6137, -12.5634, -12.5132, -12.4629, -12.4127, -12.3624,\n",
       "        -12.3122, -12.2619, -12.2117, -12.1614, -12.1112, -12.0609, -12.0107,\n",
       "        -11.9604, -11.9102, -11.8599, -11.8097, -11.7594, -11.7092, -11.6589,\n",
       "        -11.6087, -11.5584, -11.5082, -11.4579, -11.4077, -11.3574, -11.3072,\n",
       "        -11.2569, -11.2067, -11.1564, -11.1061, -11.0559, -11.0056, -10.9554,\n",
       "        -10.9051, -10.8549, -10.8046, -10.7544, -10.7041, -10.6539, -10.6036,\n",
       "        -10.5534, -10.5031, -10.4529, -10.4026, -10.3524, -10.3021, -10.2519,\n",
       "        -10.2016, -10.1514, -10.1011, -10.0509, -10.0006,  -9.9504,  -9.9001,\n",
       "         -9.8499,  -9.7996,  -9.7494,  -9.6991,  -9.6489,  -9.5986,  -9.5484,\n",
       "         -9.4981,  -9.4479,  -9.3976,  -9.3474,  -9.2971,  -9.2469,  -9.1966,\n",
       "         -9.1464,  -9.0961,  -9.0458,  -8.9956,  -8.9453,  -8.8951,  -8.8448,\n",
       "         -8.7946,  -8.7443,  -8.6941,  -8.6438,  -8.5936,  -8.5433,  -8.4931,\n",
       "         -8.4428,  -8.3926,  -8.3423,  -8.2921,  -8.2418,  -8.1916,  -8.1413,\n",
       "         -8.0911,  -8.0408,  -7.9906,  -7.9403,  -7.8901,  -7.8398,  -7.7896,\n",
       "         -7.7393,  -7.6891,  -7.6388,  -7.5886,  -7.5383,  -7.4881,  -7.4378,\n",
       "         -7.3876,  -7.3373,  -7.2871,  -7.2368,  -7.1866,  -7.1363,  -7.0860,\n",
       "         -7.0358,  -6.9855,  -6.9353,  -6.8850,  -6.8348,  -6.7845,  -6.7343,\n",
       "         -6.6840,  -6.6338,  -6.5835,  -6.5333,  -6.4830,  -6.4328,  -6.3825,\n",
       "         -6.3323,  -6.2820,  -6.2318,  -6.1815,  -6.1313,  -6.0810,  -6.0308,\n",
       "         -5.9805,  -5.9303,  -5.8800,  -5.8298,  -5.7795,  -5.7293,  -5.6790,\n",
       "         -5.6288,  -5.5785,  -5.5283,  -5.4780,  -5.4278,  -5.3775,  -5.3273,\n",
       "         -5.2770,  -5.2268,  -5.1765,  -5.1262,  -5.0760,  -5.0257,  -4.9755,\n",
       "         -4.9252,  -4.8750,  -4.8247,  -4.7745,  -4.7242,  -4.6740,  -4.6237,\n",
       "         -4.5735,  -4.5232,  -4.4730,  -4.4227,  -4.3725,  -4.3222,  -4.2720,\n",
       "         -4.2217,  -4.1715,  -4.1212,  -4.0710,  -4.0207,  -3.9705,  -3.9202,\n",
       "         -3.8700,  -3.8197,  -3.7695,  -3.7192,  -3.6690,  -3.6187,  -3.5685,\n",
       "         -3.5182,  -3.4680,  -3.4177,  -3.3675,  -3.3172,  -3.2670,  -3.2167,\n",
       "         -3.1665,  -3.1162,  -3.0659,  -3.0157])"
      ]
     },
     "execution_count": 4,
     "metadata": {},
     "output_type": "execute_result"
    }
   ],
   "source": [
    "log_softmax_c = nn.LogSoftmax(dim=0)\n",
    "log_softmax_c(x)"
   ]
  }
 ],
 "metadata": {
  "kernelspec": {
   "display_name": "nlp_base",
   "language": "python",
   "name": "python3"
  },
  "language_info": {
   "codemirror_mode": {
    "name": "ipython",
    "version": 3
   },
   "file_extension": ".py",
   "mimetype": "text/x-python",
   "name": "python",
   "nbconvert_exporter": "python",
   "pygments_lexer": "ipython3",
   "version": "3.10.12"
  }
 },
 "nbformat": 4,
 "nbformat_minor": 0
}
