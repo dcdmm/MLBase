{
 "nbformat": 4,
 "nbformat_minor": 0,
 "metadata": {
  "kernelspec": {
   "display_name": "Python 3",
   "language": "python",
   "name": "python3"
  },
  "language_info": {
   "codemirror_mode": {
    "name": "ipython",
    "version": 2
   },
   "file_extension": ".py",
   "mimetype": "text/x-python",
   "name": "python",
   "nbconvert_exporter": "python",
   "pygments_lexer": "ipython2",
   "version": "2.7.6"
  },
  "colab": {
   "name": "test.ipynb",
   "provenance": [],
   "collapsed_sections": []
  },
  "accelerator": "GPU"
 },
 "cells": [
  {
   "cell_type": "code",
   "metadata": {
    "id": "ey764kWNgs9Q",
    "colab_type": "code",
    "colab": {},
    "executionInfo": {
     "status": "ok",
     "timestamp": 1592910725905,
     "user_tz": -480,
     "elapsed": 1748,
     "user": {
      "displayName": "chao duan",
      "photoUrl": "",
      "userId": "16986074214670067064"
     }
    }
   },
   "source": [
    "import torch\n",
    "from torchvision.models import resnet18\n",
    "from torchvision import transforms\n",
    "from torch.utils.data import DataLoader\n",
    "from torchvision import datasets\n",
    "import torch.optim as optim\n",
    "import torch.nn as nn\n",
    "import matplotlib.pyplot as plt"
   ],
   "execution_count": 1,
   "outputs": []
  },
  {
   "cell_type": "code",
   "metadata": {
    "id": "A6_6cT22hUBg",
    "colab_type": "code",
    "colab": {},
    "executionInfo": {
     "status": "ok",
     "timestamp": 1592909339017,
     "user_tz": -480,
     "elapsed": 3302,
     "user": {
      "displayName": "chao duan",
      "photoUrl": "",
      "userId": "16986074214670067064"
     }
    }
   },
   "source": [
    "batch_size = 100  # 批次大小\n",
    "train_loader = DataLoader(\n",
    "    datasets.CIFAR10('/content/drive/My Drive/dataset/CIFAR10',  # Google Colabortary上的路径\n",
    "                     train=True, download=False,\n",
    "                     transform=transforms.Compose([\n",
    "                         transforms.Resize((32, 32)),\n",
    "                         transforms.ToTensor(),  # 转换为tensor\n",
    "                         transforms.Normalize(mean=[0.485, 0.456, 0.406],\n",
    "                                              std=[0.229, 0.224, 0.225])])),\n",
    "    batch_size=batch_size, shuffle=True)\n",
    "\n",
    "test_loader = DataLoader(\n",
    "    datasets.CIFAR10('/content/drive/My Drive/dataset/CIFAR10',\n",
    "                     train=False, download=False,\n",
    "                     transform=transforms.Compose([\n",
    "                         transforms.Resize((32, 32)),\n",
    "                         transforms.ToTensor(),  # 转换为tensor\n",
    "                         transforms.Normalize(mean=[0.485, 0.456, 0.406],\n",
    "                                              std=[0.229, 0.224, 0.225])\n",
    "\n",
    "                     ])),\n",
    "    batch_size=batch_size, shuffle=True)"
   ],
   "execution_count": 49,
   "outputs": []
  },
  {
   "cell_type": "code",
   "metadata": {
    "id": "ZlZPtJcqjuRC",
    "colab_type": "code",
    "colab": {},
    "executionInfo": {
     "status": "ok",
     "timestamp": 1592909341371,
     "user_tz": -480,
     "elapsed": 1347,
     "user": {
      "displayName": "chao duan",
      "photoUrl": "",
      "userId": "16986074214670067064"
     }
    }
   },
   "source": [
    "device = torch.device(\"cuda\" if torch.cuda.is_available() else \"cpu\")\n",
    "net = resnet18().to(device=device)  # 模型(torchvision提供)\n",
    "criteon = nn.CrossEntropyLoss().to(device=device)  # 损失函数\n",
    "optimizer = optim.Adam(net.parameters(), lr=1e-3)  # 优化器\n",
    "epochs = 50"
   ],
   "execution_count": 2,
   "outputs": []
  },
  {
   "cell_type": "code",
   "execution_count": 3,
   "outputs": [
    {
     "data": {
      "text/plain": "ResNet(\n  (conv1): Conv2d(3, 64, kernel_size=(7, 7), stride=(2, 2), padding=(3, 3), bias=False)\n  (bn1): BatchNorm2d(64, eps=1e-05, momentum=0.1, affine=True, track_running_stats=True)\n  (relu): ReLU(inplace=True)\n  (maxpool): MaxPool2d(kernel_size=3, stride=2, padding=1, dilation=1, ceil_mode=False)\n  (layer1): Sequential(\n    (0): BasicBlock(\n      (conv1): Conv2d(64, 64, kernel_size=(3, 3), stride=(1, 1), padding=(1, 1), bias=False)\n      (bn1): BatchNorm2d(64, eps=1e-05, momentum=0.1, affine=True, track_running_stats=True)\n      (relu): ReLU(inplace=True)\n      (conv2): Conv2d(64, 64, kernel_size=(3, 3), stride=(1, 1), padding=(1, 1), bias=False)\n      (bn2): BatchNorm2d(64, eps=1e-05, momentum=0.1, affine=True, track_running_stats=True)\n    )\n    (1): BasicBlock(\n      (conv1): Conv2d(64, 64, kernel_size=(3, 3), stride=(1, 1), padding=(1, 1), bias=False)\n      (bn1): BatchNorm2d(64, eps=1e-05, momentum=0.1, affine=True, track_running_stats=True)\n      (relu): ReLU(inplace=True)\n      (conv2): Conv2d(64, 64, kernel_size=(3, 3), stride=(1, 1), padding=(1, 1), bias=False)\n      (bn2): BatchNorm2d(64, eps=1e-05, momentum=0.1, affine=True, track_running_stats=True)\n    )\n  )\n  (layer2): Sequential(\n    (0): BasicBlock(\n      (conv1): Conv2d(64, 128, kernel_size=(3, 3), stride=(2, 2), padding=(1, 1), bias=False)\n      (bn1): BatchNorm2d(128, eps=1e-05, momentum=0.1, affine=True, track_running_stats=True)\n      (relu): ReLU(inplace=True)\n      (conv2): Conv2d(128, 128, kernel_size=(3, 3), stride=(1, 1), padding=(1, 1), bias=False)\n      (bn2): BatchNorm2d(128, eps=1e-05, momentum=0.1, affine=True, track_running_stats=True)\n      (downsample): Sequential(\n        (0): Conv2d(64, 128, kernel_size=(1, 1), stride=(2, 2), bias=False)\n        (1): BatchNorm2d(128, eps=1e-05, momentum=0.1, affine=True, track_running_stats=True)\n      )\n    )\n    (1): BasicBlock(\n      (conv1): Conv2d(128, 128, kernel_size=(3, 3), stride=(1, 1), padding=(1, 1), bias=False)\n      (bn1): BatchNorm2d(128, eps=1e-05, momentum=0.1, affine=True, track_running_stats=True)\n      (relu): ReLU(inplace=True)\n      (conv2): Conv2d(128, 128, kernel_size=(3, 3), stride=(1, 1), padding=(1, 1), bias=False)\n      (bn2): BatchNorm2d(128, eps=1e-05, momentum=0.1, affine=True, track_running_stats=True)\n    )\n  )\n  (layer3): Sequential(\n    (0): BasicBlock(\n      (conv1): Conv2d(128, 256, kernel_size=(3, 3), stride=(2, 2), padding=(1, 1), bias=False)\n      (bn1): BatchNorm2d(256, eps=1e-05, momentum=0.1, affine=True, track_running_stats=True)\n      (relu): ReLU(inplace=True)\n      (conv2): Conv2d(256, 256, kernel_size=(3, 3), stride=(1, 1), padding=(1, 1), bias=False)\n      (bn2): BatchNorm2d(256, eps=1e-05, momentum=0.1, affine=True, track_running_stats=True)\n      (downsample): Sequential(\n        (0): Conv2d(128, 256, kernel_size=(1, 1), stride=(2, 2), bias=False)\n        (1): BatchNorm2d(256, eps=1e-05, momentum=0.1, affine=True, track_running_stats=True)\n      )\n    )\n    (1): BasicBlock(\n      (conv1): Conv2d(256, 256, kernel_size=(3, 3), stride=(1, 1), padding=(1, 1), bias=False)\n      (bn1): BatchNorm2d(256, eps=1e-05, momentum=0.1, affine=True, track_running_stats=True)\n      (relu): ReLU(inplace=True)\n      (conv2): Conv2d(256, 256, kernel_size=(3, 3), stride=(1, 1), padding=(1, 1), bias=False)\n      (bn2): BatchNorm2d(256, eps=1e-05, momentum=0.1, affine=True, track_running_stats=True)\n    )\n  )\n  (layer4): Sequential(\n    (0): BasicBlock(\n      (conv1): Conv2d(256, 512, kernel_size=(3, 3), stride=(2, 2), padding=(1, 1), bias=False)\n      (bn1): BatchNorm2d(512, eps=1e-05, momentum=0.1, affine=True, track_running_stats=True)\n      (relu): ReLU(inplace=True)\n      (conv2): Conv2d(512, 512, kernel_size=(3, 3), stride=(1, 1), padding=(1, 1), bias=False)\n      (bn2): BatchNorm2d(512, eps=1e-05, momentum=0.1, affine=True, track_running_stats=True)\n      (downsample): Sequential(\n        (0): Conv2d(256, 512, kernel_size=(1, 1), stride=(2, 2), bias=False)\n        (1): BatchNorm2d(512, eps=1e-05, momentum=0.1, affine=True, track_running_stats=True)\n      )\n    )\n    (1): BasicBlock(\n      (conv1): Conv2d(512, 512, kernel_size=(3, 3), stride=(1, 1), padding=(1, 1), bias=False)\n      (bn1): BatchNorm2d(512, eps=1e-05, momentum=0.1, affine=True, track_running_stats=True)\n      (relu): ReLU(inplace=True)\n      (conv2): Conv2d(512, 512, kernel_size=(3, 3), stride=(1, 1), padding=(1, 1), bias=False)\n      (bn2): BatchNorm2d(512, eps=1e-05, momentum=0.1, affine=True, track_running_stats=True)\n    )\n  )\n  (avgpool): AdaptiveAvgPool2d(output_size=(1, 1))\n  (fc): Linear(in_features=512, out_features=1000, bias=True)\n)"
     },
     "execution_count": 3,
     "metadata": {},
     "output_type": "execute_result"
    }
   ],
   "source": [
    "net  # resnet18的网络结构(layer1,layer2,layer3,layer4的残差模块均为2个)"
   ],
   "metadata": {
    "collapsed": false,
    "pycharm": {
     "name": "#%%\n"
    }
   }
  },
  {
   "cell_type": "code",
   "metadata": {
    "id": "iaa490Kenn_K",
    "colab_type": "code",
    "colab": {
     "base_uri": "https://localhost:8080/",
     "height": 1000
    },
    "executionInfo": {
     "status": "ok",
     "timestamp": 1592910255468,
     "user_tz": -480,
     "elapsed": 903841,
     "user": {
      "displayName": "chao duan",
      "photoUrl": "",
      "userId": "16986074214670067064"
     }
    },
    "outputId": "8e479900-6572-428f-c259-7cf99bd68932"
   },
   "source": [
    "train_loss_list = list()  # 训练数据损失\n",
    "test_acc_list = list()  # 测试数据精度\n",
    "for epoch in range(epochs):\n",
    "    net.train()\n",
    "    for batch_index, (data, target) in enumerate(train_loader):\n",
    "        data, target = data.to(device=device), target.to(device=device)\n",
    "        res = net(data)\n",
    "        loss = criteon(res, target)\n",
    "        optimizer.zero_grad()  # 梯度清零\n",
    "        loss.backward()  # 反向传播\n",
    "        optimizer.step()  # 进行一次梯度更新\n",
    "        if (batch_index + 1) % 400 == 0:\n",
    "            print('loss: ', loss.item())\n",
    "            train_loss_list.append(loss.item())\n",
    "\n",
    "    # 每一个epoch纪录一次测试数据的精度\n",
    "    total_correct = 0\n",
    "    total_sum = 0\n",
    "    for data, target in test_loader:\n",
    "        net.eval()  # evaluation mode\n",
    "        with torch.no_grad():  # 测试阶段不进行梯度运算(较为安全)\n",
    "            data, target = data.to(device=device), target.to(device=device)\n",
    "            result = net(data)\n",
    "            predict = result.argmax(dim=1)\n",
    "            correct = torch.eq(predict, target).float().sum().item()\n",
    "            total_correct += correct\n",
    "            total_sum += data.size(0)\n",
    "\n",
    "    acc = total_correct / total_sum\n",
    "    test_acc_list.append(acc)"
   ],
   "execution_count": 51,
   "outputs": [
    {
     "output_type": "stream",
     "text": [
      "loss:  7.326398849487305\n",
      "loss:  1.1277990341186523\n",
      "loss:  1.122463583946228\n",
      "loss:  0.937479555606842\n",
      "loss:  0.7138552665710449\n",
      "loss:  0.6401174664497375\n",
      "loss:  0.6008058786392212\n",
      "loss:  0.5939030051231384\n",
      "loss:  0.5914855599403381\n",
      "loss:  0.6406217217445374\n",
      "loss:  0.43475663661956787\n",
      "loss:  0.4230025112628937\n",
      "loss:  0.3632830083370209\n",
      "loss:  0.2992096245288849\n",
      "loss:  0.2770955562591553\n",
      "loss:  0.284847617149353\n",
      "loss:  0.36066940426826477\n",
      "loss:  0.4078190326690674\n",
      "loss:  0.14983758330345154\n",
      "loss:  0.214823916554451\n",
      "loss:  0.10132889449596405\n",
      "loss:  0.21716494858264923\n",
      "loss:  0.09464101493358612\n",
      "loss:  0.168027862906456\n",
      "loss:  0.14345136284828186\n",
      "loss:  0.2005334496498108\n",
      "loss:  0.020803818479180336\n",
      "loss:  0.13691706955432892\n",
      "loss:  0.11472544819116592\n",
      "loss:  0.06960863620042801\n",
      "loss:  0.04303496703505516\n",
      "loss:  0.12232562154531479\n",
      "loss:  0.033918000757694244\n",
      "loss:  0.089718297123909\n",
      "loss:  0.05398786440491676\n",
      "loss:  0.05339651554822922\n",
      "loss:  0.09445904940366745\n",
      "loss:  0.15669701993465424\n",
      "loss:  0.026702819392085075\n",
      "loss:  0.1968241184949875\n",
      "loss:  0.030801942571997643\n",
      "loss:  0.02221747860312462\n",
      "loss:  0.02578793466091156\n",
      "loss:  0.17560599744319916\n",
      "loss:  0.05506839230656624\n",
      "loss:  0.04211802780628204\n",
      "loss:  0.0673280656337738\n",
      "loss:  0.08415266126394272\n",
      "loss:  0.018054155632853508\n",
      "loss:  0.0719321221113205\n",
      "loss:  0.01172658707946539\n",
      "loss:  0.031391605734825134\n",
      "loss:  0.02695479802787304\n",
      "loss:  0.04070333391427994\n",
      "loss:  0.007618584670126438\n",
      "loss:  0.08015084266662598\n",
      "loss:  0.06977827847003937\n",
      "loss:  0.060299359261989594\n",
      "loss:  0.04254259541630745\n",
      "loss:  0.027586305513978004\n",
      "loss:  0.04477425664663315\n",
      "loss:  0.026051335036754608\n",
      "loss:  0.00835435837507248\n",
      "loss:  0.004423580132424831\n",
      "loss:  0.006859078537672758\n",
      "loss:  0.038419757038354874\n",
      "loss:  0.004052095580846071\n",
      "loss:  0.04602377861738205\n",
      "loss:  0.028423411771655083\n",
      "loss:  0.02004431188106537\n",
      "loss:  0.014401979744434357\n",
      "loss:  0.008779441937804222\n",
      "loss:  0.042578648775815964\n",
      "loss:  0.006029624957591295\n",
      "loss:  0.01757611334323883\n",
      "loss:  0.0046546985395252705\n",
      "loss:  0.04008008912205696\n",
      "loss:  0.019901596009731293\n",
      "loss:  0.03176753595471382\n",
      "loss:  0.005171020049601793\n",
      "loss:  0.006644134409725666\n",
      "loss:  0.054013729095458984\n",
      "loss:  0.07719897478818893\n",
      "loss:  0.010187335312366486\n",
      "loss:  0.05144292488694191\n",
      "loss:  0.00734632508829236\n",
      "loss:  0.014840778894722462\n",
      "loss:  0.01870100572705269\n",
      "loss:  0.015015206299722195\n",
      "loss:  0.06697337329387665\n",
      "loss:  0.00915413349866867\n",
      "loss:  0.0021549558732658625\n",
      "loss:  0.06090861186385155\n",
      "loss:  0.014476334676146507\n",
      "loss:  0.010845499113202095\n",
      "loss:  0.0153386564925313\n",
      "loss:  0.0020926666911691427\n",
      "loss:  0.006585580296814442\n",
      "loss:  0.00229799747467041\n",
      "loss:  0.002027335111051798\n"
     ],
     "name": "stdout"
    }
   ]
  },
  {
   "cell_type": "code",
   "metadata": {
    "id": "fL0VXEsAytFu",
    "colab_type": "code",
    "colab": {
     "base_uri": "https://localhost:8080/",
     "height": 265
    },
    "executionInfo": {
     "status": "ok",
     "timestamp": 1592910823638,
     "user_tz": -480,
     "elapsed": 1279,
     "user": {
      "displayName": "chao duan",
      "photoUrl": "",
      "userId": "16986074214670067064"
     }
    },
    "outputId": "9c018916-fba7-412d-c496-89e6257086bb"
   },
   "source": [
    "plt.plot(train_loss_list, color='r', label='train loss')\n",
    "plt.legend()\n",
    "plt.ylabel('loss')\n",
    "plt.show()"
   ],
   "execution_count": 54,
   "outputs": [
    {
     "output_type": "display_data",
     "data": {
      "image/png": "[encoded data removed]",
      "text/plain": [
       "<Figure size 432x288 with 1 Axes>"
      ]
     },
     "metadata": {
      "tags": [],
      "needs_background": "light"
     }
    }
   ]
  },
  {
   "cell_type": "code",
   "metadata": {
    "id": "Bv6v4HE24cl3",
    "colab_type": "code",
    "colab": {
     "base_uri": "https://localhost:8080/",
     "height": 265
    },
    "executionInfo": {
     "status": "ok",
     "timestamp": 1592910829620,
     "user_tz": -480,
     "elapsed": 2313,
     "user": {
      "displayName": "chao duan",
      "photoUrl": "",
      "userId": "16986074214670067064"
     }
    },
    "outputId": "61aa0e41-0370-41c5-ca09-a01298e0aae0"
   },
   "source": [
    "plt.plot(test_acc_list, color='b', label='test acc')\n",
    "plt.legend()\n",
    "plt.ylabel('acc')\n",
    "plt.show()"
   ],
   "execution_count": 55,
   "outputs": [
    {
     "output_type": "display_data",
     "data": {
      "image/png": "[encoded data removed]",
      "text/plain": [
       "<Figure size 432x288 with 1 Axes>"
      ]
     },
     "metadata": {
      "tags": [],
      "needs_background": "light"
     }
    }
   ]
  }
 ]
}