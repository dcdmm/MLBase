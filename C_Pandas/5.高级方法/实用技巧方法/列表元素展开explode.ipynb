{
 "cells": [
  {
   "cell_type": "code",
   "execution_count": 21,
   "metadata": {
    "collapsed": true,
    "pycharm": {
     "name": "#%%\n"
    }
   },
   "outputs": [
    {
     "data": {
      "text/plain": "  第一列        第二列\n0   A        [1]\n1   B     [2, 3]\n2   C  [4, 5, 6]",
      "text/html": "<div>\n<style scoped>\n    .dataframe tbody tr th:only-of-type {\n        vertical-align: middle;\n    }\n\n    .dataframe tbody tr th {\n        vertical-align: top;\n    }\n\n    .dataframe thead th {\n        text-align: right;\n    }\n</style>\n<table border=\"1\" class=\"dataframe\">\n  <thead>\n    <tr style=\"text-align: right;\">\n      <th></th>\n      <th>第一列</th>\n      <th>第二列</th>\n    </tr>\n  </thead>\n  <tbody>\n    <tr>\n      <th>0</th>\n      <td>A</td>\n      <td>[1]</td>\n    </tr>\n    <tr>\n      <th>1</th>\n      <td>B</td>\n      <td>[2, 3]</td>\n    </tr>\n    <tr>\n      <th>2</th>\n      <td>C</td>\n      <td>[4, 5, 6]</td>\n    </tr>\n  </tbody>\n</table>\n</div>"
     },
     "execution_count": 21,
     "metadata": {},
     "output_type": "execute_result"
    }
   ],
   "source": [
    "import pandas as pd\n",
    "\n",
    "mydict = {'A': [1], 'B': [2, 3], 'C': [4, 5, 6]}\n",
    "df = pd.DataFrame(mydict.items(), columns=['第一列', '第二列'])\n",
    "df"
   ]
  },
  {
   "cell_type": "code",
   "execution_count": 22,
   "outputs": [
    {
     "data": {
      "text/plain": "  第一列 第二列\n0   A   1\n1   B   2\n1   B   3\n2   C   4\n2   C   5\n2   C   6",
      "text/html": "<div>\n<style scoped>\n    .dataframe tbody tr th:only-of-type {\n        vertical-align: middle;\n    }\n\n    .dataframe tbody tr th {\n        vertical-align: top;\n    }\n\n    .dataframe thead th {\n        text-align: right;\n    }\n</style>\n<table border=\"1\" class=\"dataframe\">\n  <thead>\n    <tr style=\"text-align: right;\">\n      <th></th>\n      <th>第一列</th>\n      <th>第二列</th>\n    </tr>\n  </thead>\n  <tbody>\n    <tr>\n      <th>0</th>\n      <td>A</td>\n      <td>1</td>\n    </tr>\n    <tr>\n      <th>1</th>\n      <td>B</td>\n      <td>2</td>\n    </tr>\n    <tr>\n      <th>1</th>\n      <td>B</td>\n      <td>3</td>\n    </tr>\n    <tr>\n      <th>2</th>\n      <td>C</td>\n      <td>4</td>\n    </tr>\n    <tr>\n      <th>2</th>\n      <td>C</td>\n      <td>5</td>\n    </tr>\n    <tr>\n      <th>2</th>\n      <td>C</td>\n      <td>6</td>\n    </tr>\n  </tbody>\n</table>\n</div>"
     },
     "execution_count": 22,
     "metadata": {},
     "output_type": "execute_result"
    }
   ],
   "source": [
    "df.explode(\"第二列\")"
   ],
   "metadata": {
    "collapsed": false,
    "pycharm": {
     "name": "#%%\n"
    }
   }
  },
  {
   "cell_type": "code",
   "execution_count": 23,
   "outputs": [
    {
     "data": {
      "text/plain": "           0  1\n0        [1]  A\n1     [2, 3]  B\n2  [4, 5, 6]  C",
      "text/html": "<div>\n<style scoped>\n    .dataframe tbody tr th:only-of-type {\n        vertical-align: middle;\n    }\n\n    .dataframe tbody tr th {\n        vertical-align: top;\n    }\n\n    .dataframe thead th {\n        text-align: right;\n    }\n</style>\n<table border=\"1\" class=\"dataframe\">\n  <thead>\n    <tr style=\"text-align: right;\">\n      <th></th>\n      <th>0</th>\n      <th>1</th>\n    </tr>\n  </thead>\n  <tbody>\n    <tr>\n      <th>0</th>\n      <td>[1]</td>\n      <td>A</td>\n    </tr>\n    <tr>\n      <th>1</th>\n      <td>[2, 3]</td>\n      <td>B</td>\n    </tr>\n    <tr>\n      <th>2</th>\n      <td>[4, 5, 6]</td>\n      <td>C</td>\n    </tr>\n  </tbody>\n</table>\n</div>"
     },
     "execution_count": 23,
     "metadata": {},
     "output_type": "execute_result"
    }
   ],
   "source": [
    "frame = pd.DataFrame(zip(mydict.values(), mydict.keys()))\n",
    "frame"
   ],
   "metadata": {
    "collapsed": false,
    "pycharm": {
     "name": "#%%\n"
    }
   }
  },
  {
   "cell_type": "code",
   "execution_count": 24,
   "outputs": [
    {
     "data": {
      "text/plain": "   0  1\n0  1  A\n1  2  B\n2  3  B\n3  4  C\n4  5  C\n5  6  C",
      "text/html": "<div>\n<style scoped>\n    .dataframe tbody tr th:only-of-type {\n        vertical-align: middle;\n    }\n\n    .dataframe tbody tr th {\n        vertical-align: top;\n    }\n\n    .dataframe thead th {\n        text-align: right;\n    }\n</style>\n<table border=\"1\" class=\"dataframe\">\n  <thead>\n    <tr style=\"text-align: right;\">\n      <th></th>\n      <th>0</th>\n      <th>1</th>\n    </tr>\n  </thead>\n  <tbody>\n    <tr>\n      <th>0</th>\n      <td>1</td>\n      <td>A</td>\n    </tr>\n    <tr>\n      <th>1</th>\n      <td>2</td>\n      <td>B</td>\n    </tr>\n    <tr>\n      <th>2</th>\n      <td>3</td>\n      <td>B</td>\n    </tr>\n    <tr>\n      <th>3</th>\n      <td>4</td>\n      <td>C</td>\n    </tr>\n    <tr>\n      <th>4</th>\n      <td>5</td>\n      <td>C</td>\n    </tr>\n    <tr>\n      <th>5</th>\n      <td>6</td>\n      <td>C</td>\n    </tr>\n  </tbody>\n</table>\n</div>"
     },
     "execution_count": 24,
     "metadata": {},
     "output_type": "execute_result"
    }
   ],
   "source": [
    "# 手工实现的一种方法\n",
    "import numpy as np\n",
    "mydict = {'A': [1], 'B': [2, 3], 'C': [4, 5, 6]}\n",
    "frame = pd.DataFrame(zip(mydict.values(), mydict.keys()))\n",
    "lst_index = []\n",
    "def func(x):\n",
    "    if len(lst_index) != 0:\n",
    "        return pd.Series(np.repeat(x.values, lst_index))\n",
    "    lst_values = []\n",
    "    for i in x:\n",
    "        lst_index.append(len(i))\n",
    "        for j in i:\n",
    "            lst_values.append(j)\n",
    "    return pd.Series(lst_values)\n",
    "\n",
    "frame.apply(func, axis=0)\n"
   ],
   "metadata": {
    "collapsed": false,
    "pycharm": {
     "name": "#%%\n"
    }
   }
  }
 ],
 "metadata": {
  "kernelspec": {
   "display_name": "Python 3",
   "language": "python",
   "name": "python3"
  },
  "language_info": {
   "codemirror_mode": {
    "name": "ipython",
    "version": 2
   },
   "file_extension": ".py",
   "mimetype": "text/x-python",
   "name": "python",
   "nbconvert_exporter": "python",
   "pygments_lexer": "ipython2",
   "version": "2.7.6"
  }
 },
 "nbformat": 4,
 "nbformat_minor": 0
}