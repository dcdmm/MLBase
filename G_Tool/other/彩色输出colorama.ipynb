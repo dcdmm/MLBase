{
 "cells": [
  {
   "cell_type": "code",
   "execution_count": 27,
   "metadata": {
    "collapsed": true
   },
   "outputs": [],
   "source": [
    "from colorama import Fore, Back, Style"
   ]
  },
  {
   "cell_type": "code",
   "execution_count": 28,
   "metadata": {},
   "outputs": [
    {
     "name": "stdout",
     "output_type": "stream",
     "text": [
      "\u001b[30msome black text\n",
      "\u001b[31msome red text\n",
      "\u001b[32msome green text\n",
      "\u001b[33msome yellow text\n",
      "\u001b[34msome blue text\n",
      "\u001b[35msome magenta text\n",
      "\u001b[36msome cyan text\n",
      "\u001b[37msome white text\n"
     ]
    }
   ],
   "source": [
    "print(Fore.BLACK + 'some black text')\n",
    "print(Fore.RED + 'some red text')\n",
    "print(Fore.GREEN + 'some green text')\n",
    "print(Fore.YELLOW + 'some yellow text')\n",
    "print(Fore.BLUE + 'some blue text')\n",
    "print(Fore.MAGENTA + 'some magenta text')\n",
    "print(Fore.CYAN + 'some cyan text')\n",
    "print(Fore.WHITE + 'some white text')\n"
   ]
  },
  {
   "cell_type": "code",
   "execution_count": 29,
   "metadata": {},
   "outputs": [
    {
     "name": "stdout",
     "output_type": "stream",
     "text": [
      "\u001b[40mand with a black background\n",
      "\u001b[41mand with a red background\n",
      "\u001b[42mand with a green background\n",
      "\u001b[43mand with a yellow background\n",
      "\u001b[44mand with a blue background\n",
      "\u001b[45mand with a mageate background\n",
      "\u001b[46mand with a cyan background\n",
      "\u001b[47mand with a white background\n"
     ]
    }
   ],
   "source": [
    "print(Back.BLACK + 'and with a black background')\n",
    "print(Back.RED + 'and with a red background')\n",
    "print(Back.GREEN + 'and with a green background')\n",
    "print(Back.YELLOW + 'and with a yellow background')\n",
    "print(Back.BLUE + 'and with a blue background')\n",
    "print(Back.MAGENTA + 'and with a mageate background')\n",
    "print(Back.CYAN + 'and with a cyan background')\n",
    "print(Back.WHITE + 'and with a white background')\n"
   ]
  },
  {
   "cell_type": "code",
   "execution_count": 30,
   "metadata": {},
   "outputs": [
    {
     "name": "stdout",
     "output_type": "stream",
     "text": [
      "\u001b[2mand in dim text\n",
      "\u001b[1mand in bright text\n",
      "\u001b[22mand in normal text\n"
     ]
    }
   ],
   "source": [
    "print(Style.DIM + 'and in dim text')\n",
    "print(Style.BRIGHT + 'and in bright text')\n",
    "print(Style.NORMAL + 'and in normal text')"
   ]
  },
  {
   "cell_type": "code",
   "execution_count": 31,
   "metadata": {},
   "outputs": [
    {
     "name": "stdout",
     "output_type": "stream",
     "text": [
      "\u001b[47m\u001b[31mand with a white background\n"
     ]
    }
   ],
   "source": [
    "print(Back.WHITE + Fore.RED + 'and with a white background')  # 组合"
   ]
  },
  {
   "cell_type": "code",
   "execution_count": null,
   "metadata": {},
   "outputs": [],
   "source": []
  },
  {
   "cell_type": "code",
   "execution_count": null,
   "metadata": {},
   "outputs": [],
   "source": []
  }
 ],
 "metadata": {
  "kernelspec": {
   "display_name": "Python 3.8.12 ('pytorch_env')",
   "language": "python",
   "name": "python3"
  },
  "language_info": {
   "codemirror_mode": {
    "name": "ipython",
    "version": 3
   },
   "file_extension": ".py",
   "mimetype": "text/x-python",
   "name": "python",
   "nbconvert_exporter": "python",
   "pygments_lexer": "ipython3",
   "version": "3.8.12"
  },
  "vscode": {
   "interpreter": {
    "hash": "0886a02735466d80c36da7d0d184a8055779d3e497a063b4720b0317b8699033"
   }
  }
 },
 "nbformat": 4,
 "nbformat_minor": 0
}
