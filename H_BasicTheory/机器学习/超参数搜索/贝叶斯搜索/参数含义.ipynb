{
 "cells": [
  {
   "cell_type": "code",
   "execution_count": 19,
   "metadata": {
    "pycharm": {
     "name": "#%%\n"
    }
   },
   "outputs": [],
   "source": [
    "from bayes_opt import BayesianOptimization"
   ]
  },
  {
   "cell_type": "code",
   "execution_count": 20,
   "metadata": {
    "pycharm": {
     "name": "#%%\n"
    }
   },
   "outputs": [],
   "source": [
    "def black_box_function(x, y):\n",
    "    \"\"\"Function with unknown internals we wish to maximize\"\"\"\n",
    "    return -x ** 2 - (y - 1) ** 2 + 1"
   ]
  },
  {
   "cell_type": "code",
   "execution_count": 21,
   "metadata": {
    "pycharm": {
     "name": "#%%\n"
    }
   },
   "outputs": [],
   "source": [
    "# Bounded region of parameter space\n",
    "pbounds = {'x': (-4, 4), 'y': (-3, 3)}  # 指定合理的参数空间范围"
   ]
  },
  {
   "cell_type": "code",
   "execution_count": 22,
   "metadata": {
    "pycharm": {
     "name": "#%%\n"
    }
   },
   "outputs": [],
   "source": [
    "optimizer = BayesianOptimization(\n",
    "    f=black_box_function,\n",
    "    pbounds=pbounds,\n",
    "    # verbose = 1 prints only when a maximum is observed, verbose = 0 is silent\n",
    "    verbose=2,  # 默认verbose=2\n",
    "    random_state=1,\n",
    ")"
   ]
  },
  {
   "cell_type": "code",
   "execution_count": 23,
   "metadata": {
    "pycharm": {
     "name": "#%%\n"
    }
   },
   "outputs": [
    {
     "name": "stdout",
     "output_type": "stream",
     "text": [
      "|   iter    |  target   |     x     |     y     |\n",
      "-------------------------------------------------\n",
      "| \u001b[0m 1       \u001b[0m | \u001b[0m 0.4557  \u001b[0m | \u001b[0m-0.6638  \u001b[0m | \u001b[0m 1.322   \u001b[0m |\n",
      "| \u001b[0m 2       \u001b[0m | \u001b[0m-19.77   \u001b[0m | \u001b[0m-3.999   \u001b[0m | \u001b[0m-1.186   \u001b[0m |\n",
      "| \u001b[0m 3       \u001b[0m | \u001b[0m 0.2023  \u001b[0m | \u001b[0m-0.7395  \u001b[0m | \u001b[0m 1.501   \u001b[0m |\n",
      "| \u001b[0m 4       \u001b[0m | \u001b[0m-7.221   \u001b[0m | \u001b[0m 2.758   \u001b[0m | \u001b[0m 1.783   \u001b[0m |\n",
      "| \u001b[0m 5       \u001b[0m | \u001b[0m-12.65   \u001b[0m | \u001b[0m 1.656   \u001b[0m | \u001b[0m-2.303   \u001b[0m |\n",
      "| \u001b[0m 6       \u001b[0m | \u001b[0m-3.365   \u001b[0m | \u001b[0m 0.6039  \u001b[0m | \u001b[0m 3.0     \u001b[0m |\n",
      "| \u001b[0m 7       \u001b[0m | \u001b[0m-19.0    \u001b[0m | \u001b[0m-4.0     \u001b[0m | \u001b[0m 3.0     \u001b[0m |\n",
      "| \u001b[0m 8       \u001b[0m | \u001b[0m 0.3943  \u001b[0m | \u001b[0m 0.7783  \u001b[0m | \u001b[0m 1.0     \u001b[0m |\n",
      "| \u001b[0m 9       \u001b[0m | \u001b[0m-0.3132  \u001b[0m | \u001b[0m-0.000566\u001b[0m | \u001b[0m-0.1459  \u001b[0m |\n",
      "| \u001b[95m 10      \u001b[0m | \u001b[95m 0.655   \u001b[0m | \u001b[95m 0.05758 \u001b[0m | \u001b[95m 1.585   \u001b[0m |\n",
      "| \u001b[95m 11      \u001b[0m | \u001b[95m 0.8999  \u001b[0m | \u001b[95m 0.1124  \u001b[0m | \u001b[95m 0.7043  \u001b[0m |\n",
      "| \u001b[0m 12      \u001b[0m | \u001b[0m-0.3398  \u001b[0m | \u001b[0m 0.8443  \u001b[0m | \u001b[0m 0.2081  \u001b[0m |\n",
      "| \u001b[95m 13      \u001b[0m | \u001b[95m 0.9849  \u001b[0m | \u001b[95m-0.03502 \u001b[0m | \u001b[95m 1.118   \u001b[0m |\n",
      "| \u001b[0m 14      \u001b[0m | \u001b[0m 0.8747  \u001b[0m | \u001b[0m-0.2687  \u001b[0m | \u001b[0m 0.7696  \u001b[0m |\n",
      "| \u001b[0m 15      \u001b[0m | \u001b[0m 0.9622  \u001b[0m | \u001b[0m 0.1865  \u001b[0m | \u001b[0m 1.055   \u001b[0m |\n",
      "| \u001b[95m 16      \u001b[0m | \u001b[95m 0.9972  \u001b[0m | \u001b[95m-0.02759 \u001b[0m | \u001b[95m 0.9548  \u001b[0m |\n",
      "| \u001b[95m 17      \u001b[0m | \u001b[95m 0.9997  \u001b[0m | \u001b[95m 0.001079\u001b[0m | \u001b[95m 0.9835  \u001b[0m |\n",
      "| \u001b[0m 18      \u001b[0m | \u001b[0m 0.988   \u001b[0m | \u001b[0m-0.108   \u001b[0m | \u001b[0m 1.018   \u001b[0m |\n",
      "| \u001b[0m 19      \u001b[0m | \u001b[0m 0.9995  \u001b[0m | \u001b[0m 0.02045 \u001b[0m | \u001b[0m 0.9885  \u001b[0m |\n",
      "| \u001b[0m 20      \u001b[0m | \u001b[0m 0.9997  \u001b[0m | \u001b[0m 0.01564 \u001b[0m | \u001b[0m 0.9943  \u001b[0m |\n",
      "| \u001b[95m 21      \u001b[0m | \u001b[95m 0.9999  \u001b[0m | \u001b[95m 0.01206 \u001b[0m | \u001b[95m 0.9991  \u001b[0m |\n",
      "| \u001b[95m 22      \u001b[0m | \u001b[95m 0.9999  \u001b[0m | \u001b[95m 0.009543\u001b[0m | \u001b[95m 1.006   \u001b[0m |\n",
      "| \u001b[0m 23      \u001b[0m | \u001b[0m 0.9993  \u001b[0m | \u001b[0m 0.00515 \u001b[0m | \u001b[0m 0.9743  \u001b[0m |\n",
      "| \u001b[0m 24      \u001b[0m | \u001b[0m 0.9991  \u001b[0m | \u001b[0m 0.007395\u001b[0m | \u001b[0m 1.029   \u001b[0m |\n",
      "| \u001b[0m 25      \u001b[0m | \u001b[0m 0.9988  \u001b[0m | \u001b[0m-0.01476 \u001b[0m | \u001b[0m 0.9679  \u001b[0m |\n",
      "| \u001b[0m 26      \u001b[0m | \u001b[0m 0.9992  \u001b[0m | \u001b[0m 0.007683\u001b[0m | \u001b[0m 1.027   \u001b[0m |\n",
      "| \u001b[0m 27      \u001b[0m | \u001b[0m 0.998   \u001b[0m | \u001b[0m 0.03415 \u001b[0m | \u001b[0m 0.9711  \u001b[0m |\n",
      "=================================================\n"
     ]
    }
   ],
   "source": [
    "optimizer.maximize(\n",
    "    # init_points: How many steps of random exploration you want to perform. Random exploration can help by diversifying the exploration space.\n",
    "    # init_points越大,算法陷入局部极小值的可能性越小\n",
    "    init_points=2,  # 默认init_points=5\n",
    "    # n_iter: How many steps of bayesian optimization you want to perform. The more steps the more likely to find a good maximum you are.\n",
    "    n_iter=25  # 默认n_iter=25\n",
    ")"
   ]
  },
  {
   "cell_type": "code",
   "execution_count": 24,
   "metadata": {
    "pycharm": {
     "name": "#%%\n"
    }
   },
   "outputs": [
    {
     "data": {
      "text/plain": [
       "['x', 'y']"
      ]
     },
     "execution_count": 24,
     "metadata": {},
     "output_type": "execute_result"
    }
   ],
   "source": [
    "# 优化器参数列表\n",
    "optimizer.space.keys"
   ]
  },
  {
   "cell_type": "code",
   "execution_count": 25,
   "metadata": {
    "pycharm": {
     "name": "#%%\n"
    }
   },
   "outputs": [
    {
     "data": {
      "text/plain": [
       "array([[-4.,  4.],\n",
       "       [-3.,  3.]])"
      ]
     },
     "execution_count": 25,
     "metadata": {},
     "output_type": "execute_result"
    }
   ],
   "source": [
    "# 优化器参数范围\n",
    "optimizer.space.bounds"
   ]
  },
  {
   "cell_type": "code",
   "execution_count": 26,
   "metadata": {
    "pycharm": {
     "name": "#%%\n"
    }
   },
   "outputs": [
    {
     "data": {
      "text/plain": [
       "{'target': 0.9998750755465323,\n",
       " 'params': {'x': 0.009543365240054474, 'y': 1.0058179578343736}}"
      ]
     },
     "execution_count": 26,
     "metadata": {},
     "output_type": "execute_result"
    }
   ],
   "source": [
    "# The best combination of parameters and target value found can be accessed via the property bo.max.\n",
    "optimizer.max"
   ]
  },
  {
   "cell_type": "code",
   "execution_count": 27,
   "metadata": {
    "pycharm": {
     "name": "#%%\n"
    }
   },
   "outputs": [
    {
     "name": "stdout",
     "output_type": "stream",
     "text": [
      "Iteration 0: \n",
      "\t{'target': 0.45568790149723093, 'params': {'x': -0.663823962379408, 'y': 1.3219469606529488}}\n",
      "Iteration 1: \n",
      "\t{'target': -19.771296803654664, 'params': {'x': -3.999085001461241, 'y': -1.1860045642089614}}\n",
      "Iteration 2: \n",
      "\t{'target': 0.2023469994876097, 'params': {'x': -0.7395395871681797, 'y': 1.5007336612646573}}\n",
      "Iteration 3: \n",
      "\t{'target': -7.22113636541444, 'params': {'x': 2.7582747197644584, 'y': 1.7829795244594453}}\n",
      "Iteration 4: \n",
      "\t{'target': -12.653501303123512, 'params': {'x': 1.655564036014782, 'y': -2.3034238338090915}}\n",
      "Iteration 5: \n",
      "\t{'target': -3.3646677496686976, 'params': {'x': 0.6038772637454549, 'y': 3.0}}\n",
      "Iteration 6: \n",
      "\t{'target': -19.0, 'params': {'x': -4.0, 'y': 3.0}}\n",
      "Iteration 7: \n",
      "\t{'target': 0.39429103822124034, 'params': {'x': 0.7782730583302845, 'y': 1.000091956430952}}\n",
      "Iteration 8: \n",
      "\t{'target': -0.3131647335113188, 'params': {'x': -0.000566300015365441, 'y': -0.14593386057643473}}\n",
      "Iteration 9: \n",
      "\t{'target': 0.6550328129910721, 'params': {'x': 0.05757517543368884, 'y': 1.5845102960450808}}\n",
      "Iteration 10: \n",
      "\t{'target': 0.8999358342186186, 'params': {'x': 0.1124156384397925, 'y': 0.7043196150984052}}\n",
      "Iteration 11: \n",
      "\t{'target': -0.33982407619759547, 'params': {'x': 0.8442649964727987, 'y': 0.20814098986727397}}\n",
      "Iteration 12: \n",
      "\t{'target': 0.9848598668282235, 'params': {'x': -0.03502143481869187, 'y': 1.1179560607811936}}\n",
      "Iteration 13: \n",
      "\t{'target': 0.8747173827216383, 'params': {'x': -0.26868776559069113, 'y': 0.769588407626171}}\n",
      "Iteration 14: \n",
      "\t{'target': 0.9622056736671669, 'params': {'x': 0.186478650742058, 'y': 1.0549548828608941}}\n",
      "Iteration 15: \n",
      "\t{'target': 0.9971985511483389, 'params': {'x': -0.02758814313947026, 'y': 0.9548298416011496}}\n",
      "Iteration 16: \n",
      "\t{'target': 0.9997270828986604, 'params': {'x': 0.0010794597467753315, 'y': 0.9835151018203112}}\n",
      "Iteration 17: \n",
      "\t{'target': 0.9880011844424308, 'params': {'x': -0.10802737723966165, 'y': 1.0181356368592067}}\n",
      "Iteration 18: \n",
      "\t{'target': 0.999450402802797, 'params': {'x': 0.02045060713340525, 'y': 0.9885383306155606}}\n",
      "Iteration 19: \n",
      "\t{'target': 0.9997224607336188, 'params': {'x': 0.01564462396113576, 'y': 0.9942741806266845}}\n",
      "Iteration 20: \n",
      "\t{'target': 0.9998537313143956, 'params': {'x': 0.012058572308712349, 'y': 0.9990728972656712}}\n",
      "Iteration 21: \n",
      "\t{'target': 0.9998750755465323, 'params': {'x': 0.009543365240054474, 'y': 1.0058179578343736}}\n",
      "Iteration 22: \n",
      "\t{'target': 0.999312634875674, 'params': {'x': 0.005149703343682157, 'y': 0.9742930810909199}}\n",
      "Iteration 23: \n",
      "\t{'target': 0.999105115988529, 'params': {'x': 0.007395359743092046, 'y': 1.028986077101623}}\n",
      "Iteration 24: \n",
      "\t{'target': 0.9987529282219803, 'params': {'x': -0.014760970166427481, 'y': 0.9679190782899615}}\n",
      "Iteration 25: \n",
      "\t{'target': 0.9991889356965418, 'params': {'x': 0.007683174885152374, 'y': 1.0274232224062463}}\n",
      "Iteration 26: \n",
      "\t{'target': 0.9979978346093021, 'params': {'x': 0.03415329935448329, 'y': 0.9710912204702284}}\n"
     ]
    }
   ],
   "source": [
    "# While the list of all parameters probed and their corresponding target values is available via the property bo.res.\n",
    "for i, res in enumerate(optimizer.res):\n",
    "    print(\"Iteration {}: \\n\\t{}\".format(i, res))\n"
   ]
  },
  {
   "cell_type": "code",
   "execution_count": null,
   "metadata": {},
   "outputs": [],
   "source": []
  }
 ],
 "metadata": {
  "kernelspec": {
   "display_name": "Python 3",
   "language": "python",
   "name": "python3"
  },
  "language_info": {
   "codemirror_mode": {
    "name": "ipython",
    "version": 3
   },
   "file_extension": ".py",
   "mimetype": "text/x-python",
   "name": "python",
   "nbconvert_exporter": "python",
   "pygments_lexer": "ipython3",
   "version": "3.8.11"
  }
 },
 "nbformat": 4,
 "nbformat_minor": 1
}
