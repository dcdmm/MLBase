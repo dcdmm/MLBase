{
 "cells": [
  {
   "cell_type": "markdown",
   "metadata": {
    "collapsed": true
   },
   "source": [
    "&emsp;&emsp;在有些任务中,一个时刻的输出不但和过去时刻的信息有关,也和后续时刻的信息有关.比如给定一个句子,其中一个词的词性由它的上下文决定,即包含左右两边的信息.因此,在这些任务中,我们可以增加一个按照时间的逆序来传递信息的网络层,来增强网络的能力.\n",
    "\n",
    "&emsp;&emsp;双向循环神经网络会在原有循环神经网络的基础上再加一个隐藏层,该隐藏层的状态是从后向前传播的,从序列的终点开始读取因此称为后向层;而原有的从序列起点开始读取的隐藏层称为前向层.这样,对每个输入位置$i$,双向循环神经网络会获得两个独立状态,包括前向状态$\\mathbf{h}_i^f$和后向状态$\\mathbf{h}_i^b$.前者来自$\\mathbf{x}_1,\\cdots,\\mathbf{x}_i$,后者来自$\\mathbf{x}_T,\\cdots,\\mathbf{x}_i$(假设输入序列长为$T$).在获得这两个独立的状态以后,双向循环神经网络会将其合并作为最终的隐藏状态,传递给输出层.合并方法通常有两种,其一是简单将两个向量拼接,其二是学习一个线性变换将其转换为单向循环神经网络隐藏状态的维度.后者常见于将多个双向RNN堆叠起来的模型.\n",
    "\n",
    "&emsp;&emsp;双向循环神经网络(RNN,LSTM,GRU)的形式化描述如下.此处的双向状态合并采用了拼接法(注意隐藏层有不同的$W_{ih},W_{hh}和W_{yh}(网络输出权重)$)\n",
    "\n",
    "<img src='../../../../../Other/img/双向循环神经网络.png'>\n",
    "\n",
    "\n",
    "上图模型可形式化描述为:\n",
    "\n",
    "$$\n",
    "\\begin{aligned}\n",
    "\\overrightarrow{\\mathbf{h}}_{t} &= {\\rm RNN_{FW}}\\left(\\overrightarrow{\\mathbf{h}}_{t-1}, \\mathbf{x}_{t}\\right) \\\\\n",
    "\\overleftarrow{\\mathbf{h}}_{t} &= {\\rm RNN_{BW}}\\left(\\overleftarrow{\\mathbf{h}}_{t+1}, \\mathbf{x}_{t}\\right) \\\\\n",
    "\\mathbf{h} &= \\left[\\overrightarrow{\\mathbf{h}}_{t}; \\overleftarrow{\\mathbf{h}}_{t}\\right]\n",
    "\\end{aligned}\n",
    "$$"
   ]
  },
  {
   "cell_type": "code",
   "execution_count": null,
   "metadata": {},
   "outputs": [],
   "source": []
  }
 ],
 "metadata": {
  "kernelspec": {
   "display_name": "Python 3",
   "language": "python",
   "name": "python3"
  },
  "language_info": {
   "codemirror_mode": {
    "name": "ipython",
    "version": 3
   },
   "file_extension": ".py",
   "mimetype": "text/x-python",
   "name": "python",
   "nbconvert_exporter": "python",
   "pygments_lexer": "ipython3",
   "version": "3.7.9"
  },
  "toc": {
   "base_numbering": 1,
   "nav_menu": {},
   "number_sections": true,
   "sideBar": true,
   "skip_h1_title": false,
   "title_cell": "Table of Contents",
   "title_sidebar": "Contents",
   "toc_cell": false,
   "toc_position": {},
   "toc_section_display": true,
   "toc_window_display": false
  }
 },
 "nbformat": 4,
 "nbformat_minor": 1
}
