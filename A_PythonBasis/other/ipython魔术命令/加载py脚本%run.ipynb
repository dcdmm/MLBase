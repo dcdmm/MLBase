{
 "cells": [
  {
   "cell_type": "code",
   "metadata": {
    "collapsed": true,
    "pycharm": {
     "name": "#%%\n"
    },
    "ExecuteTime": {
     "end_time": "2024-04-11T01:25:16.918548Z",
     "start_time": "2024-04-11T01:25:16.900085Z"
    }
   },
   "source": [
    "%run ipython_scripy_test/hello.py  # 执行了整个python脚本"
   ],
   "outputs": [
    {
     "name": "stdout",
     "output_type": "stream",
     "text": [
      "Hello python !\n",
      "play LOL !\n",
      "over!\n"
     ]
    }
   ],
   "execution_count": 13
  },
  {
   "cell_type": "code",
   "metadata": {
    "collapsed": false,
    "pycharm": {
     "name": "#%%\n"
    },
    "ExecuteTime": {
     "end_time": "2024-04-11T01:25:16.934581Z",
     "start_time": "2024-04-11T01:25:16.918548Z"
    }
   },
   "source": [
    "hello('duanchao')"
   ],
   "outputs": [
    {
     "name": "stdout",
     "output_type": "stream",
     "text": [
      "Hello duanchao !\n"
     ]
    }
   ],
   "execution_count": 14
  },
  {
   "cell_type": "code",
   "metadata": {
    "collapsed": false,
    "pycharm": {
     "name": "#%%\n"
    },
    "ExecuteTime": {
     "end_time": "2024-04-11T01:25:16.950449Z",
     "start_time": "2024-04-11T01:25:16.935333Z"
    }
   },
   "source": [
    "game('DNF')  # 脚本中的函数被加载入Jupyter notebook"
   ],
   "outputs": [
    {
     "name": "stdout",
     "output_type": "stream",
     "text": [
      "play DNF !\n"
     ]
    }
   ],
   "execution_count": 15
  },
  {
   "cell_type": "code",
   "metadata": {
    "ExecuteTime": {
     "end_time": "2024-04-11T01:25:16.982046Z",
     "start_time": "2024-04-11T01:25:16.950975Z"
    }
   },
   "source": [
    "%%capture \n",
    "# %%capture:忽略print打印内容(必须位于cell第一行)\n",
    "%run ipython_scripy_test/b.ipynb "
   ],
   "outputs": [],
   "execution_count": 16
  },
  {
   "metadata": {
    "ExecuteTime": {
     "end_time": "2024-04-11T01:25:17.001432Z",
     "start_time": "2024-04-11T01:25:16.983558Z"
    }
   },
   "cell_type": "code",
   "source": "a",
   "outputs": [
    {
     "data": {
      "text/plain": [
       "100"
      ]
     },
     "execution_count": 17,
     "metadata": {},
     "output_type": "execute_result"
    }
   ],
   "execution_count": 17
  },
  {
   "metadata": {
    "ExecuteTime": {
     "end_time": "2024-04-11T01:25:17.016984Z",
     "start_time": "2024-04-11T01:25:17.001937Z"
    }
   },
   "cell_type": "code",
   "source": "b",
   "outputs": [
    {
     "data": {
      "text/plain": [
       "200"
      ]
     },
     "execution_count": 18,
     "metadata": {},
     "output_type": "execute_result"
    }
   ],
   "execution_count": 18
  },
  {
   "metadata": {
    "ExecuteTime": {
     "end_time": "2024-04-11T01:25:17.037819Z",
     "start_time": "2024-04-11T01:25:17.018111Z"
    }
   },
   "cell_type": "code",
   "source": "",
   "outputs": [],
   "execution_count": 18
  }
 ],
 "metadata": {
  "kernelspec": {
   "display_name": "Python 3",
   "language": "python",
   "name": "python3"
  },
  "language_info": {
   "codemirror_mode": {
    "name": "ipython",
    "version": 3
   },
   "file_extension": ".py",
   "mimetype": "text/x-python",
   "name": "python",
   "nbconvert_exporter": "python",
   "pygments_lexer": "ipython3",
   "version": "3.10.12"
  }
 },
 "nbformat": 4,
 "nbformat_minor": 0
}
