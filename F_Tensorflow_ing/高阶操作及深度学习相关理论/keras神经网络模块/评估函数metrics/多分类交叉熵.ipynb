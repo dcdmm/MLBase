{
 "cells": [
  {
   "cell_type": "code",
   "execution_count": 10,
   "metadata": {
    "collapsed": true
   },
   "outputs": [],
   "source": [
    "import tensorflow as tf"
   ]
  },
  {
   "cell_type": "markdown",
   "source": [
    "### SparseCategoricalCrossentropy"
   ],
   "metadata": {
    "collapsed": false,
    "pycharm": {
     "name": "#%% md\n"
    }
   }
  },
  {
   "cell_type": "code",
   "execution_count": 11,
   "outputs": [
    {
     "data": {
      "text/plain": "1.1769392"
     },
     "execution_count": 11,
     "metadata": {},
     "output_type": "execute_result"
    }
   ],
   "source": [
    "m = tf.keras.metrics.SparseCategoricalCrossentropy()\n",
    "m.update_state(y_true=[1, 2],  # 要求:整数向量形式(最大值不超过tf.size(true)-1)\n",
    "               y_pred=[[0.05, 0.95, 0],\n",
    "                       [0.1, 0.8, 0.1]])\n",
    "m.result().numpy()  # Computes and returns the metric value tensor."
   ],
   "metadata": {
    "collapsed": false,
    "pycharm": {
     "name": "#%%\n"
    }
   }
  },
  {
   "cell_type": "code",
   "execution_count": 12,
   "outputs": [
    {
     "data": {
      "text/plain": "1.6271976"
     },
     "execution_count": 12,
     "metadata": {},
     "output_type": "execute_result"
    }
   ],
   "source": [
    "m.reset_state()  # Resets all of the metric state variables.\n",
    "m.update_state([1, 2],\n",
    "               [[0.05, 0.95, 0], [0.1, 0.8, 0.1]],\n",
    "               sample_weight=tf.constant([0.3, 0.7]))\n",
    "m.result().numpy()"
   ],
   "metadata": {
    "collapsed": false,
    "pycharm": {
     "name": "#%%\n"
    }
   }
  },
  {
   "cell_type": "markdown",
   "source": [
    "```python\n",
    "# Usage with compile() API:\n",
    "import tensorflow as tf\n",
    "\n",
    "model.compile(\n",
    "  optimizer='sgd',\n",
    "  loss='mse',\n",
    "  metrics=[tf.keras.metrics.SparseCategoricalCrossentropy()])\n",
    "```"
   ],
   "metadata": {
    "collapsed": false,
    "pycharm": {
     "name": "#%% md\n"
    }
   }
  },
  {
   "cell_type": "markdown",
   "source": [
    "### CategoricalCrossentropy"
   ],
   "metadata": {
    "collapsed": false,
    "pycharm": {
     "name": "#%% md\n"
    }
   }
  },
  {
   "cell_type": "code",
   "execution_count": 13,
   "outputs": [
    {
     "data": {
      "text/plain": "1.1769392"
     },
     "execution_count": 13,
     "metadata": {},
     "output_type": "execute_result"
    }
   ],
   "source": [
    "m = tf.keras.metrics.CategoricalCrossentropy()\n",
    "m.update_state([[0, 1, 0], [0, 0, 1]],\n",
    "               [[0.05, 0.95, 0], [0.1, 0.8, 0.1]])\n",
    "m.result().numpy()"
   ],
   "metadata": {
    "collapsed": false,
    "pycharm": {
     "name": "#%%\n"
    }
   }
  },
  {
   "cell_type": "code",
   "execution_count": 14,
   "outputs": [
    {
     "data": {
      "text/plain": "1.6271976"
     },
     "execution_count": 14,
     "metadata": {},
     "output_type": "execute_result"
    }
   ],
   "source": [
    "m.reset_state()\n",
    "m.update_state([[0, 1, 0], [0, 0, 1]],\n",
    "               [[0.05, 0.95, 0], [0.1, 0.8, 0.1]],\n",
    "               sample_weight=tf.constant([0.3, 0.7]))\n",
    "m.result().numpy()"
   ],
   "metadata": {
    "collapsed": false,
    "pycharm": {
     "name": "#%%\n"
    }
   }
  },
  {
   "cell_type": "markdown",
   "source": [
    "```python\n",
    "# Usage with compile() API:\n",
    "import tensorflow as tf\n",
    "\n",
    "model.compile(\n",
    "  optimizer='sgd',\n",
    "  loss='mse',\n",
    "  metrics=[tf.keras.metrics.CategoricalCrossentropy()])\n",
    "```"
   ],
   "metadata": {
    "collapsed": false,
    "pycharm": {
     "name": "#%% md\n"
    }
   }
  }
 ],
 "metadata": {
  "kernelspec": {
   "display_name": "Python 3",
   "language": "python",
   "name": "python3"
  },
  "language_info": {
   "codemirror_mode": {
    "name": "ipython",
    "version": 2
   },
   "file_extension": ".py",
   "mimetype": "text/x-python",
   "name": "python",
   "nbconvert_exporter": "python",
   "pygments_lexer": "ipython2",
   "version": "2.7.6"
  }
 },
 "nbformat": 4,
 "nbformat_minor": 0
}