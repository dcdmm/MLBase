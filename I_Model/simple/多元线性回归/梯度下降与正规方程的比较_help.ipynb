{
 "cells": [
  {
   "cell_type": "markdown",
   "source": [
    "|            梯度下降            |                           正规方程                           |\n",
    "| :----------------------------: | :----------------------------------------------------------: |\n",
    "|   需要选择学习率 $ \\alpha $    |                      不需要选择学习率$ \\alpha $                            |\n",
    "|          需要多次迭代          |                         不需要多次迭代,一次计算得出                         |\n",
    "| 特征值范围相差太大时,需要特征缩放 |                        不需要特征缩放                        |\n",
    "| 当特征数量$ n $很大时也能较好适用 | 需要计算$ (X^TX)^{-1} $当特征数量$ n $很大时,则运算代价较大,因为逆矩阵的计算时间复杂度为$ o(n^3) $,通常来说当,通常来说当$ n $小于10000时还是可以接受的 |\n",
    "|       适合各种类型的模型       |           只适合线性模型,不适合逻辑回归等其他模型            |"
   ],
   "metadata": {
    "collapsed": false,
    "pycharm": {
     "name": "#%% md\n"
    }
   }
  }
 ],
 "metadata": {
  "kernelspec": {
   "display_name": "Python 3",
   "language": "python",
   "name": "python3"
  },
  "language_info": {
   "codemirror_mode": {
    "name": "ipython",
    "version": 2
   },
   "file_extension": ".py",
   "mimetype": "text/x-python",
   "name": "python",
   "nbconvert_exporter": "python",
   "pygments_lexer": "ipython2",
   "version": "2.7.6"
  },
  "pycharm": {
   "stem_cell": {
    "cell_type": "raw",
    "source": [],
    "metadata": {
     "collapsed": false
    }
   }
  }
 },
 "nbformat": 4,
 "nbformat_minor": 0
}