{
 "cells": [
  {
   "cell_type": "code",
   "execution_count": 20,
   "metadata": {
    "collapsed": true
   },
   "outputs": [],
   "source": [
    "from xgboost import XGBClassifier, XGBRegressor\n",
    "from sklearn import datasets\n",
    "from sklearn.model_selection import train_test_split\n",
    "import matplotlib.pyplot as plt\n",
    "from sklearn.preprocessing import OrdinalEncoder"
   ]
  },
  {
   "cell_type": "code",
   "execution_count": 21,
   "outputs": [],
   "source": [
    "X = datasets.fetch_covtype().data[:3000]\n",
    "y = datasets.fetch_covtype().target[:3000]  # 多分类任务\n",
    "X_train, X_test, y_train, y_test = train_test_split(X, y)\n",
    "\n",
    "enc = OrdinalEncoder()\n",
    "y_train_new = enc.fit_transform(y_train.reshape(-1, 1))\n",
    "y_test_new = enc.transform(y_test.reshape(-1, 1))"
   ],
   "metadata": {
    "collapsed": false,
    "pycharm": {
     "name": "#%%\n"
    }
   }
  },
  {
   "cell_type": "code",
   "execution_count": 22,
   "metadata": {
    "pycharm": {
     "name": "#%%\n"
    }
   },
   "outputs": [
    {
     "name": "stdout",
     "output_type": "stream",
     "text": [
      "[0]\tvalidation_0-mlogloss:1.34545\tvalidation_0-merror:0.14800\tvalidation_1-mlogloss:1.42596\tvalidation_1-merror:0.26133\n",
      "[5]\tvalidation_0-mlogloss:0.53891\tvalidation_0-merror:0.10356\tvalidation_1-mlogloss:0.73188\tvalidation_1-merror:0.21733\n",
      "[10]\tvalidation_0-mlogloss:0.32775\tvalidation_0-merror:0.07333\tvalidation_1-mlogloss:0.57062\tvalidation_1-merror:0.20267\n",
      "[15]\tvalidation_0-mlogloss:0.23186\tvalidation_0-merror:0.05511\tvalidation_1-mlogloss:0.50801\tvalidation_1-merror:0.19067\n",
      "[20]\tvalidation_0-mlogloss:0.18214\tvalidation_0-merror:0.03600\tvalidation_1-mlogloss:0.48468\tvalidation_1-merror:0.18933\n",
      "[25]\tvalidation_0-mlogloss:0.14216\tvalidation_0-merror:0.01689\tvalidation_1-mlogloss:0.47922\tvalidation_1-merror:0.17733\n",
      "[30]\tvalidation_0-mlogloss:0.11333\tvalidation_0-merror:0.00756\tvalidation_1-mlogloss:0.46401\tvalidation_1-merror:0.17467\n",
      "[35]\tvalidation_0-mlogloss:0.09468\tvalidation_0-merror:0.00311\tvalidation_1-mlogloss:0.45805\tvalidation_1-merror:0.17333\n",
      "[40]\tvalidation_0-mlogloss:0.08353\tvalidation_0-merror:0.00267\tvalidation_1-mlogloss:0.45660\tvalidation_1-merror:0.17067\n",
      "[45]\tvalidation_0-mlogloss:0.07152\tvalidation_0-merror:0.00133\tvalidation_1-mlogloss:0.45519\tvalidation_1-merror:0.17067\n",
      "[50]\tvalidation_0-mlogloss:0.05982\tvalidation_0-merror:0.00044\tvalidation_1-mlogloss:0.45585\tvalidation_1-merror:0.17067\n",
      "[55]\tvalidation_0-mlogloss:0.04952\tvalidation_0-merror:0.00000\tvalidation_1-mlogloss:0.45556\tvalidation_1-merror:0.17067\n",
      "[60]\tvalidation_0-mlogloss:0.04346\tvalidation_0-merror:0.00000\tvalidation_1-mlogloss:0.45616\tvalidation_1-merror:0.16933\n",
      "[65]\tvalidation_0-mlogloss:0.03750\tvalidation_0-merror:0.00000\tvalidation_1-mlogloss:0.45808\tvalidation_1-merror:0.16400\n",
      "[70]\tvalidation_0-mlogloss:0.03249\tvalidation_0-merror:0.00000\tvalidation_1-mlogloss:0.46007\tvalidation_1-merror:0.16800\n",
      "[75]\tvalidation_0-mlogloss:0.02844\tvalidation_0-merror:0.00000\tvalidation_1-mlogloss:0.45989\tvalidation_1-merror:0.16267\n",
      "[80]\tvalidation_0-mlogloss:0.02570\tvalidation_0-merror:0.00000\tvalidation_1-mlogloss:0.46204\tvalidation_1-merror:0.16400\n",
      "[85]\tvalidation_0-mlogloss:0.02328\tvalidation_0-merror:0.00000\tvalidation_1-mlogloss:0.46782\tvalidation_1-merror:0.16667\n",
      "[90]\tvalidation_0-mlogloss:0.02077\tvalidation_0-merror:0.00000\tvalidation_1-mlogloss:0.47206\tvalidation_1-merror:0.16400\n",
      "[95]\tvalidation_0-mlogloss:0.01905\tvalidation_0-merror:0.00000\tvalidation_1-mlogloss:0.47554\tvalidation_1-merror:0.16267\n",
      "[99]\tvalidation_0-mlogloss:0.01793\tvalidation_0-merror:0.00000\tvalidation_1-mlogloss:0.47775\tvalidation_1-merror:0.16400\n"
     ]
    },
    {
     "data": {
      "text/plain": "XGBClassifier(base_score=0.5, booster='gbtree', colsample_bylevel=1,\n              colsample_bynode=1, colsample_bytree=1, gamma=0, gpu_id=-1,\n              importance_type='gain', interaction_constraints='',\n              learning_rate=0.300000012, max_delta_step=0, max_depth=6,\n              min_child_weight=1, missing=nan, monotone_constraints='()',\n              n_estimators=100, n_jobs=-1, num_parallel_tree=1,\n              objective='multi:softprob', random_state=0, reg_alpha=0,\n              reg_lambda=1, scale_pos_weight=None, subsample=1,\n              tree_method='exact', use_label_encoder=False,\n              validate_parameters=1, verbosity=None)"
     },
     "execution_count": 22,
     "metadata": {},
     "output_type": "execute_result"
    }
   ],
   "source": [
    "# Evaluation metrics for validation data, a default metric will be assigned according to objective (rmse for regression, and logloss for classification, mean average precision for ranking)\n",
    "# eval_metric可选参数\n",
    "# 可自定义\n",
    "'''\n",
    "rmse: 均方根误差\n",
    "mae: 平均绝对值误差\n",
    "logloss: 负对数似然函数值\n",
    "mlogloss: 多分类logloss(多分类)\n",
    "error: 二分类错误率\n",
    "merror: 多分类错误率(多分类)\n",
    "auc\n",
    "'''\n",
    "xg1 = XGBClassifier(n_jobs=-1, use_label_encoder=False)\n",
    "eval_set = [(X_train, y_train_new),\n",
    "            (X_test, y_test_new)]\n",
    "xg1.fit(X_train, y_train_new, verbose=5,\n",
    "        early_stopping_rounds=20,  # mlogloss在20轮迭代之内，都没有提升的话，就stop\n",
    "        # A list of (X, y) tuple pairs to use as validation sets, for which metrics will be computed. Validation metrics will help us track the performance of the model.\n",
    "        eval_set=eval_set,\n",
    "        eval_metric=['mlogloss', 'merror'],  # 多个评估指标\n",
    "        # eval_metric='mlogloss'  # 单个评估指标\n",
    "        )"
   ]
  },
  {
   "cell_type": "code",
   "execution_count": 23,
   "metadata": {
    "pycharm": {
     "name": "#%%\n"
    }
   },
   "outputs": [
    {
     "data": {
      "text/plain": "array([1, 1, 3, 5, 2, 0, 4, 5, 1, 1, 2, 2, 0, 4, 5, 5, 1, 2, 1, 4, 4, 0,\n       2, 1, 1, 0, 2, 1, 4, 2, 4, 1, 0, 1, 5, 4, 1, 4, 0, 0, 4, 4, 4, 0,\n       4, 3, 1, 6, 0, 0, 1, 1, 4, 0, 0, 3, 0, 4, 0, 5, 1, 3, 2, 4, 4, 5,\n       1, 4, 4, 0, 4, 1, 5, 1, 0, 0, 4, 0, 1, 1, 1, 3, 4, 4, 1, 4, 1, 3,\n       4, 4, 1, 1, 5, 0, 5, 1, 0, 4, 2, 4, 1, 5, 1, 1, 4, 1, 1, 4, 4, 4,\n       4, 4, 1, 4, 5, 5, 5, 4, 4, 0, 1, 1, 1, 0, 4, 4, 4, 0, 1, 4, 4, 4,\n       4, 4, 2, 1, 4, 4, 1, 1, 1, 6, 4, 4, 4, 4, 0, 2, 1, 1, 4, 1, 1, 4,\n       1, 1, 1, 4, 4, 5, 0, 5, 4, 3, 4, 4, 4, 4, 2, 6, 2, 1, 1, 0, 4, 4,\n       1, 6, 0, 1, 3, 1, 4, 1, 5, 3, 4, 4, 1, 2, 1, 1, 5, 1, 1, 4, 1, 4,\n       5, 4, 1, 2, 1, 4, 1, 0, 2, 6, 1, 1, 5, 4, 1, 1, 1, 0, 3, 4, 0, 0,\n       5, 1, 0, 3, 5, 1, 0, 4, 1, 1, 1, 1, 5, 6, 4, 5, 5, 4, 1, 4, 5, 6,\n       0, 1, 2, 6, 0, 4, 0, 4, 4, 4, 1, 0, 1, 0, 3, 4, 1, 4, 1, 5, 2, 1,\n       4, 1, 5, 0, 1, 2, 0, 1, 1, 2, 4, 1, 5, 4, 0, 4, 1, 2, 6, 0, 2, 2,\n       4, 2, 5, 4, 1, 0, 0, 1, 6, 6, 4, 1, 0, 1, 5, 2, 1, 5, 1, 4, 5, 0,\n       1, 3, 6, 5, 0, 2, 4, 0, 1, 4, 1, 3, 4, 5, 5, 2, 4, 1, 1, 1, 1, 2,\n       4, 6, 1, 0, 4, 1, 0, 1, 4, 0, 1, 1, 2, 0, 4, 4, 0, 1, 1, 4, 1, 2,\n       1, 1, 5, 1, 3, 1, 4, 2, 1, 4, 4, 2, 3, 1, 0, 1, 4, 4, 4, 0, 0, 1,\n       4, 1, 4, 4, 4, 2, 2, 2, 1, 4, 1, 5, 0, 0, 0, 1, 1, 1, 4, 4, 4, 1,\n       0, 3, 1, 4, 2, 1, 5, 2, 0, 0, 1, 2, 0, 1, 4, 4, 4, 6, 4, 5, 4, 1,\n       2, 1, 4, 1, 0, 1, 5, 2, 0, 6, 1, 4, 2, 1, 6, 3, 3, 1, 0, 6, 4, 1,\n       1, 1, 5, 4, 0, 4, 2, 0, 2, 2, 4, 1, 1, 1, 2, 1, 4, 0, 1, 4, 1, 3,\n       6, 6, 2, 6, 4, 5, 0, 4, 1, 5, 4, 6, 4, 5, 1, 5, 1, 0, 4, 3, 0, 6,\n       0, 0, 6, 0, 0, 1, 6, 4, 1, 1, 5, 1, 4, 1, 1, 0, 4, 1, 1, 1, 1, 3,\n       3, 3, 4, 0, 1, 5, 1, 1, 1, 4, 4, 5, 4, 2, 4, 4, 5, 6, 1, 2, 1, 0,\n       0, 1, 5, 4, 4, 0, 4, 2, 0, 1, 4, 4, 1, 0, 2, 4, 0, 2, 3, 1, 4, 4,\n       0, 4, 1, 1, 4, 1, 1, 1, 1, 4, 1, 4, 0, 6, 1, 3, 4, 5, 5, 0, 1, 5,\n       1, 0, 0, 1, 5, 4, 0, 4, 4, 1, 0, 1, 3, 3, 1, 1, 0, 1, 0, 1, 1, 2,\n       1, 4, 4, 1, 1, 3, 2, 0, 6, 5, 1, 1, 4, 1, 1, 1, 4, 0, 4, 0, 0, 1,\n       0, 4, 6, 4, 1, 4, 1, 3, 6, 0, 1, 6, 2, 2, 1, 4, 0, 4, 0, 4, 3, 0,\n       4, 0, 4, 0, 2, 2, 1, 5, 0, 1, 3, 4, 4, 1, 1, 5, 5, 0, 1, 3, 1, 1,\n       2, 4, 5, 0, 0, 1, 5, 5, 5, 1, 2, 0, 2, 0, 4, 5, 4, 0, 0, 1, 5, 1,\n       1, 2, 4, 4, 4, 1, 1, 1, 4, 4, 0, 0, 5, 0, 4, 1, 1, 4, 4, 1, 0, 3,\n       3, 1, 1, 6, 4, 0, 4, 4, 5, 6, 0, 5, 5, 1, 5, 1, 5, 4, 1, 4, 0, 4,\n       1, 1, 3, 4, 5, 4, 4, 2, 4, 4, 4, 0, 4, 2, 1, 1, 1, 0, 1, 4, 2, 2,\n       1, 1], dtype=int64)"
     },
     "execution_count": 23,
     "metadata": {},
     "output_type": "execute_result"
    }
   ],
   "source": [
    "result = xg1.predict(X_test)\n",
    "result"
   ]
  },
  {
   "cell_type": "code",
   "execution_count": 24,
   "outputs": [
    {
     "data": {
      "text/plain": "(750,)"
     },
     "execution_count": 24,
     "metadata": {},
     "output_type": "execute_result"
    }
   ],
   "source": [
    "result.shape"
   ],
   "metadata": {
    "collapsed": false,
    "pycharm": {
     "name": "#%%\n"
    }
   }
  },
  {
   "cell_type": "code",
   "execution_count": 25,
   "metadata": {
    "pycharm": {
     "name": "#%%\n"
    }
   },
   "outputs": [
    {
     "data": {
      "text/plain": "array([[2.5625424e-03, 9.9545848e-01, 9.1176495e-05, ..., 1.5875743e-03,\n        1.1486582e-04, 1.0097392e-04],\n       [9.5407972e-03, 9.8887491e-01, 8.2109545e-05, ..., 1.2304264e-03,\n        1.3969275e-04, 6.8070425e-05],\n       [1.2445160e-05, 9.4589241e-06, 3.5833910e-03, ..., 3.4789060e-05,\n        2.7833440e-04, 8.6335413e-06],\n       ...,\n       [3.4591700e-05, 5.2494681e-03, 9.9338770e-01, ..., 3.0088346e-05,\n        1.2792267e-03, 8.9815767e-06],\n       [1.7144482e-01, 7.9890990e-01, 5.8250047e-05, ..., 2.9332737e-02,\n        3.8535938e-05, 1.5103597e-04],\n       [7.8708986e-03, 9.9168396e-01, 4.9007056e-05, ..., 6.9551112e-05,\n        2.6192291e-05, 2.5822505e-04]], dtype=float32)"
     },
     "execution_count": 25,
     "metadata": {},
     "output_type": "execute_result"
    }
   ],
   "source": [
    "# 预测结果可以输出为概率向量\n",
    "xg1.predict_proba(X_test)  # 仅分类算法"
   ]
  },
  {
   "cell_type": "code",
   "execution_count": 26,
   "metadata": {
    "pycharm": {
     "name": "#%%\n"
    }
   },
   "outputs": [
    {
     "data": {
      "text/plain": "0.8386666666666667"
     },
     "execution_count": 26,
     "metadata": {},
     "output_type": "execute_result"
    }
   ],
   "source": [
    "xg1.score(X_test, y_test_new)  # 精度"
   ]
  },
  {
   "cell_type": "code",
   "execution_count": null,
   "outputs": [],
   "source": [
    "xg1.feature_importances_  # 特征的相对重要性(值越大,重要程度越高)"
   ],
   "metadata": {
    "collapsed": false,
    "pycharm": {
     "name": "#%%\n"
    }
   }
  },
  {
   "cell_type": "code",
   "execution_count": 28,
   "metadata": {
    "pycharm": {
     "name": "#%%\n"
    }
   },
   "outputs": [
    {
     "data": {
      "text/plain": "{'validation_0': OrderedDict([('mlogloss',\n               [1.345446,\n                1.050153,\n                0.859788,\n                0.717248,\n                0.619048,\n                0.538907,\n                0.479992,\n                0.43279,\n                0.393255,\n                0.357753,\n                0.327748,\n                0.303005,\n                0.281406,\n                0.262819,\n                0.246492,\n                0.231856,\n                0.216945,\n                0.207305,\n                0.19744,\n                0.187912,\n                0.182142,\n                0.173896,\n                0.164203,\n                0.155261,\n                0.149541,\n                0.142155,\n                0.136232,\n                0.129534,\n                0.123304,\n                0.117279,\n                0.113327,\n                0.109999,\n                0.105324,\n                0.101527,\n                0.098357,\n                0.094679,\n                0.092815,\n                0.089161,\n                0.086985,\n                0.085767,\n                0.083533,\n                0.080497,\n                0.077565,\n                0.075559,\n                0.07346,\n                0.071521,\n                0.06917,\n                0.067652,\n                0.065095,\n                0.062388,\n                0.059815,\n                0.057391,\n                0.055289,\n                0.053079,\n                0.051186,\n                0.049524,\n                0.047995,\n                0.046818,\n                0.04551,\n                0.044476,\n                0.043465,\n                0.042245,\n                0.041387,\n                0.039851,\n                0.038513,\n                0.037504,\n                0.036575,\n                0.035292,\n                0.034418,\n                0.033692,\n                0.032489,\n                0.03135,\n                0.030383,\n                0.029715,\n                0.029019,\n                0.028438,\n                0.027987,\n                0.027466,\n                0.026654,\n                0.026144,\n                0.025701,\n                0.0251,\n                0.024645,\n                0.024241,\n                0.023708,\n                0.023276,\n                0.022801,\n                0.022318,\n                0.021603,\n                0.021263,\n                0.020767,\n                0.02046,\n                0.020117,\n                0.019677,\n                0.019322,\n                0.019049,\n                0.018832,\n                0.018622,\n                0.018286,\n                0.017927]),\n              ('merror',\n               [0.148,\n                0.128889,\n                0.121778,\n                0.110667,\n                0.102222,\n                0.103556,\n                0.099111,\n                0.093778,\n                0.087556,\n                0.080444,\n                0.073333,\n                0.069333,\n                0.064444,\n                0.060889,\n                0.057778,\n                0.055111,\n                0.047556,\n                0.045778,\n                0.042222,\n                0.037778,\n                0.036,\n                0.032,\n                0.028444,\n                0.021333,\n                0.02,\n                0.016889,\n                0.014667,\n                0.012,\n                0.009778,\n                0.008889,\n                0.007556,\n                0.005778,\n                0.005333,\n                0.004889,\n                0.004444,\n                0.003111,\n                0.003111,\n                0.002667,\n                0.002667,\n                0.002667,\n                0.002667,\n                0.002667,\n                0.002222,\n                0.002222,\n                0.001778,\n                0.001333,\n                0.001333,\n                0.001333,\n                0.000444,\n                0.000444,\n                0.000444,\n                0.000444,\n                0.0,\n                0.0,\n                0.0,\n                0.0,\n                0.0,\n                0.0,\n                0.0,\n                0.0,\n                0.0,\n                0.0,\n                0.0,\n                0.0,\n                0.0,\n                0.0,\n                0.0,\n                0.0,\n                0.0,\n                0.0,\n                0.0,\n                0.0,\n                0.0,\n                0.0,\n                0.0,\n                0.0,\n                0.0,\n                0.0,\n                0.0,\n                0.0,\n                0.0,\n                0.0,\n                0.0,\n                0.0,\n                0.0,\n                0.0,\n                0.0,\n                0.0,\n                0.0,\n                0.0,\n                0.0,\n                0.0,\n                0.0,\n                0.0,\n                0.0,\n                0.0,\n                0.0,\n                0.0,\n                0.0,\n                0.0])]),\n 'validation_1': OrderedDict([('mlogloss',\n               [1.425961,\n                1.167578,\n                1.001558,\n                0.880184,\n                0.794683,\n                0.731883,\n                0.684466,\n                0.649409,\n                0.619962,\n                0.592859,\n                0.57062,\n                0.553553,\n                0.540304,\n                0.527897,\n                0.516757,\n                0.508008,\n                0.500718,\n                0.497181,\n                0.491265,\n                0.486407,\n                0.484675,\n                0.483511,\n                0.481438,\n                0.4802,\n                0.478551,\n                0.479223,\n                0.474057,\n                0.472606,\n                0.469592,\n                0.465769,\n                0.46401,\n                0.462176,\n                0.459137,\n                0.458532,\n                0.457965,\n                0.458047,\n                0.457386,\n                0.455291,\n                0.455319,\n                0.45692,\n                0.456598,\n                0.454276,\n                0.455518,\n                0.456503,\n                0.45645,\n                0.455185,\n                0.454615,\n                0.455079,\n                0.454383,\n                0.454919,\n                0.455849,\n                0.455446,\n                0.455084,\n                0.455575,\n                0.455674,\n                0.455563,\n                0.455636,\n                0.455325,\n                0.456324,\n                0.455692,\n                0.456164,\n                0.456818,\n                0.457173,\n                0.459211,\n                0.459545,\n                0.458081,\n                0.458527,\n                0.458894,\n                0.457901,\n                0.459343,\n                0.460065,\n                0.460634,\n                0.459762,\n                0.459886,\n                0.459646,\n                0.459895,\n                0.459887,\n                0.460642,\n                0.460353,\n                0.461281,\n                0.462037,\n                0.464165,\n                0.464971,\n                0.465601,\n                0.466294,\n                0.467821,\n                0.467919,\n                0.469038,\n                0.469684,\n                0.47108,\n                0.472058,\n                0.472346,\n                0.473699,\n                0.473924,\n                0.474754,\n                0.475542,\n                0.475649,\n                0.476811,\n                0.477439,\n                0.477751]),\n              ('merror',\n               [0.261333,\n                0.241333,\n                0.230667,\n                0.224,\n                0.216,\n                0.217333,\n                0.213333,\n                0.206667,\n                0.212,\n                0.210667,\n                0.202667,\n                0.197333,\n                0.196,\n                0.197333,\n                0.194667,\n                0.190667,\n                0.193333,\n                0.196,\n                0.192,\n                0.188,\n                0.189333,\n                0.190667,\n                0.189333,\n                0.186667,\n                0.181333,\n                0.177333,\n                0.178667,\n                0.178667,\n                0.173333,\n                0.174667,\n                0.174667,\n                0.172,\n                0.172,\n                0.172,\n                0.172,\n                0.173333,\n                0.173333,\n                0.172,\n                0.170667,\n                0.172,\n                0.170667,\n                0.172,\n                0.174667,\n                0.170667,\n                0.172,\n                0.170667,\n                0.172,\n                0.172,\n                0.169333,\n                0.168,\n                0.170667,\n                0.168,\n                0.169333,\n                0.169333,\n                0.168,\n                0.170667,\n                0.172,\n                0.170667,\n                0.174667,\n                0.170667,\n                0.169333,\n                0.170667,\n                0.169333,\n                0.169333,\n                0.168,\n                0.164,\n                0.165333,\n                0.165333,\n                0.165333,\n                0.166667,\n                0.168,\n                0.166667,\n                0.164,\n                0.165333,\n                0.164,\n                0.162667,\n                0.166667,\n                0.164,\n                0.164,\n                0.165333,\n                0.164,\n                0.166667,\n                0.165333,\n                0.165333,\n                0.165333,\n                0.166667,\n                0.165333,\n                0.165333,\n                0.161333,\n                0.164,\n                0.164,\n                0.162667,\n                0.164,\n                0.164,\n                0.164,\n                0.162667,\n                0.162667,\n                0.162667,\n                0.164,\n                0.164])])}"
     },
     "execution_count": 28,
     "metadata": {},
     "output_type": "execute_result"
    }
   ],
   "source": [
    "evals_result = xg1.evals_result()  # 根据fit函数中eval_set参数与eval_metric参数返回评估结果\n",
    "evals_result"
   ]
  },
  {
   "cell_type": "code",
   "execution_count": 29,
   "outputs": [],
   "source": [
    "train_evals = evals_result['validation_0']['mlogloss']\n",
    "test_evals = evals_result['validation_1']['mlogloss']"
   ],
   "metadata": {
    "collapsed": false,
    "pycharm": {
     "name": "#%%\n"
    }
   }
  },
  {
   "cell_type": "code",
   "execution_count": 30,
   "metadata": {
    "pycharm": {
     "name": "#%%\n"
    }
   },
   "outputs": [
    {
     "data": {
      "text/plain": "Text(0.5, 0, 'rounds')"
     },
     "execution_count": 30,
     "metadata": {},
     "output_type": "execute_result"
    },
    {
     "data": {
      "text/plain": "<Figure size 432x288 with 1 Axes>",
      "image/png": "[encoded data removed]"
     },
     "metadata": {
      "needs_background": "light"
     },
     "output_type": "display_data"
    }
   ],
   "source": [
    "plt.plot(train_evals, label='train_evals')\n",
    "plt.plot(test_evals, label='test_evals')\n",
    "plt.legend()\n",
    "plt.ylabel('mlogloss')\n",
    "plt.xlabel('rounds')"
   ]
  },
  {
   "cell_type": "markdown",
   "source": [
    "## XGBRegressor"
   ],
   "metadata": {
    "collapsed": false,
    "pycharm": {
     "name": "#%% md\n"
    }
   }
  },
  {
   "cell_type": "code",
   "execution_count": 31,
   "outputs": [],
   "source": [
    "X = datasets.load_boston().data\n",
    "y = datasets.load_boston().target\n",
    "X_train, X_test, y_train_new, y_test_new = train_test_split(X, y)"
   ],
   "metadata": {
    "collapsed": false,
    "pycharm": {
     "name": "#%%\n"
    }
   }
  },
  {
   "cell_type": "code",
   "execution_count": 32,
   "outputs": [
    {
     "data": {
      "text/plain": "XGBRegressor(base_score=0.5, booster='gbtree', colsample_bylevel=1,\n             colsample_bynode=1, colsample_bytree=1, gamma=0, gpu_id=-1,\n             importance_type='gain', interaction_constraints='',\n             learning_rate=0.300000012, max_delta_step=0, max_depth=6,\n             min_child_weight=1, missing=nan, monotone_constraints='()',\n             n_estimators=100, n_jobs=-1, num_parallel_tree=1, random_state=0,\n             reg_alpha=0, reg_lambda=1, scale_pos_weight=1, subsample=1,\n             tree_method='exact', validate_parameters=1, verbosity=None)"
     },
     "execution_count": 32,
     "metadata": {},
     "output_type": "execute_result"
    }
   ],
   "source": [
    "# Implementation of the scikit-learn API for XGBoost regression.\n",
    "xg_reg = XGBRegressor(n_jobs=-1)\n",
    "xg_reg.fit(X_train, y_train_new)"
   ],
   "metadata": {
    "collapsed": false,
    "pycharm": {
     "name": "#%%\n"
    }
   }
  },
  {
   "cell_type": "code",
   "execution_count": 33,
   "outputs": [
    {
     "data": {
      "text/plain": "0.9104628594255071"
     },
     "execution_count": 33,
     "metadata": {},
     "output_type": "execute_result"
    }
   ],
   "source": [
    "xg_reg.score(X_test, y_test_new)  # R^2"
   ],
   "metadata": {
    "collapsed": false,
    "pycharm": {
     "name": "#%%\n"
    }
   }
  },
  {
   "cell_type": "code",
   "execution_count": 34,
   "outputs": [
    {
     "data": {
      "text/plain": "array([1.5065513e-02, 3.3434032e-04, 1.7861150e-02, 1.6377289e-02,\n       4.7868162e-02, 2.3168732e-01, 8.1094895e-03, 7.7097423e-02,\n       2.7418926e-02, 2.6622420e-02, 3.7561711e-02, 7.3154480e-03,\n       4.8668078e-01], dtype=float32)"
     },
     "execution_count": 34,
     "metadata": {},
     "output_type": "execute_result"
    }
   ],
   "source": [
    "xg_reg.feature_importances_"
   ],
   "metadata": {
    "collapsed": false,
    "pycharm": {
     "name": "#%%\n"
    }
   }
  },
  {
   "cell_type": "code",
   "execution_count": 35,
   "outputs": [
    {
     "data": {
      "text/plain": "array([27.606184 , 12.37367  , 10.3584795, 20.90657  , 12.938    ,\n       18.693783 , 23.077253 , 19.635029 , 19.93744  , 46.12157  ,\n       22.87939  , 16.641602 , 17.051617 , 23.517685 , 18.05891  ,\n       10.75873  , 27.266773 , 29.281944 , 24.17435  , 20.946762 ,\n       15.97301  ,  6.579034 , 21.385193 , 19.32667  , 21.409708 ,\n        7.1135783, 29.334982 , 20.267788 , 14.546579 , 27.15551  ,\n       22.913061 ,  8.408089 , 22.71585  , 16.258953 , 21.395699 ,\n        8.4919   , 19.226177 , 25.903898 , 14.313562 , 21.731714 ,\n       11.886185 , 22.538507 ,  8.871658 , 13.8896055, 20.56249  ,\n       23.766472 , 20.433235 , 18.741352 , 23.341696 , 23.790245 ,\n       19.884825 , 18.516314 , 21.699337 , 18.64188  , 18.783077 ,\n       51.141624 , 17.827555 , 24.47281  , 15.845278 , 24.138592 ,\n       20.269758 , 19.360079 , 19.940342 , 19.340296 , 24.373644 ,\n       29.783987 , 36.27211  , 15.149453 , 23.081844 , 13.748452 ,\n       33.916183 , 32.599613 , 22.839287 , 25.11365  , 10.004861 ,\n       24.94022  , 18.112808 , 14.477575 , 14.228739 , 20.520147 ,\n       45.339237 , 45.672028 , 23.45945  , 33.688313 , 26.110136 ,\n       21.652603 , 20.138304 , 33.83694  , 45.066643 , 19.411768 ,\n       19.96164  , 21.577269 , 19.681246 , 40.465176 , 46.911858 ,\n       19.596033 , 17.570967 ,  9.240061 , 23.470081 , 19.687103 ,\n       25.319292 , 23.279564 , 23.955551 , 15.370807 , 19.47197  ,\n       32.818558 , 20.506067 ,  9.321821 , 25.307533 , 43.424313 ,\n       16.365803 ,  9.4528885, 29.502695 , 24.796867 , 22.864199 ,\n       23.314238 , 43.89771  , 10.861753 , 20.424232 , 21.034027 ,\n       45.705807 ,  9.590253 , 22.949915 , 20.838558 , 22.170658 ,\n       20.714237 , 19.415577 ], dtype=float32)"
     },
     "execution_count": 35,
     "metadata": {},
     "output_type": "execute_result"
    }
   ],
   "source": [
    "xg_reg.predict(X_test)"
   ],
   "metadata": {
    "collapsed": false,
    "pycharm": {
     "name": "#%%\n"
    }
   }
  }
 ],
 "metadata": {
  "kernelspec": {
   "display_name": "Python 3",
   "language": "python",
   "name": "python3"
  },
  "language_info": {
   "codemirror_mode": {
    "name": "ipython",
    "version": 3
   },
   "file_extension": ".py",
   "mimetype": "text/x-python",
   "name": "python",
   "nbconvert_exporter": "python",
   "pygments_lexer": "ipython3",
   "version": "3.7.6"
  },
  "toc": {
   "base_numbering": 1,
   "nav_menu": {},
   "number_sections": true,
   "sideBar": true,
   "skip_h1_title": false,
   "title_cell": "Table of Contents",
   "title_sidebar": "Contents",
   "toc_cell": false,
   "toc_position": {},
   "toc_section_display": true,
   "toc_window_display": false
  }
 },
 "nbformat": 4,
 "nbformat_minor": 1
}