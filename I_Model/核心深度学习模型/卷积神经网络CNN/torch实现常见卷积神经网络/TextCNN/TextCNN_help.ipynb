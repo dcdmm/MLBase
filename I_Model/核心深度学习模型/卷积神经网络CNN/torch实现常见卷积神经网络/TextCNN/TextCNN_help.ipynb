{
 "cells": [
  {
   "cell_type": "markdown",
   "metadata": {
    "collapsed": true,
    "pycharm": {
     "name": "#%% md\n"
    }
   },
   "source": [
    "### TextCNN模型架构\n",
    "\n",
    "<img src=\"../../../../../Other/img/TextCNN模型架构.jpg\" style=\"width:750px;height:500px;float:bottom\">\n",
    "\n",
    "</br>\n",
    "\n",
    "输⼊是具有11个词元的句子,其中每个词元由6维向量表示.因此,输入的大小为:宽度11,通道6.\n",
    "定义两个宽度为2和4的一维卷积核(相比于单一尺寸卷积核会有更强的表达能力),分别具有4个和5个输出通道.\n",
    "它们产生4个宽度为11-2+1=10的输出通道和5个宽度为11-4+1=8的输出通道.\n",
    "尽管这9个通道的宽度不同,但最大时间汇聚层给出了⼀个连结的9维向量,该向量最终被转换为用于二元情感预测的2维输出向量."
   ]
  }
 ],
 "metadata": {
  "kernelspec": {
   "display_name": "Python 3.8.12 ('pytorch_env')",
   "language": "python",
   "name": "python3"
  },
  "language_info": {
   "codemirror_mode": {
    "name": "ipython",
    "version": 2
   },
   "file_extension": ".py",
   "mimetype": "text/x-python",
   "name": "python",
   "nbconvert_exporter": "python",
   "pygments_lexer": "ipython2",
   "version": "3.8.12"
  },
  "vscode": {
   "interpreter": {
    "hash": "0886a02735466d80c36da7d0d184a8055779d3e497a063b4720b0317b8699033"
   }
  }
 },
 "nbformat": 4,
 "nbformat_minor": 0
}
