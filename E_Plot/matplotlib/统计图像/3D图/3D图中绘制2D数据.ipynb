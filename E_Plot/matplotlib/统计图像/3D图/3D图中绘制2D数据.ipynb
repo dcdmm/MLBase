{
 "cells": [
  {
   "cell_type": "code",
   "execution_count": 6,
   "metadata": {
    "collapsed": true,
    "pycharm": {
     "name": "#%%\n"
    }
   },
   "outputs": [],
   "source": [
    "%matplotlib qt5\n",
    "from mpl_toolkits.mplot3d import Axes3D  # noqa: F401 unused import\n",
    "import numpy as np\n",
    "import matplotlib.pyplot as plt\n",
    "\n",
    "fig = plt.figure()\n",
    "ax = fig.add_subplot(111, projection='3d')\n",
    "# ax.view_init(elev=7, # 默认elev=30,将当前图形沿从下往上旋转\n",
    "#              azim=-80) # 默认azim=-60,将当前图形从左往右旋转\n",
    "x = np.linspace(0, 1, 100)\n",
    "y = np.sin(x * 2 * np.pi) / 2 + 0.5\n",
    "y1 = np.cos(x * 2 * np.pi) / 2 + 0.5\n",
    "ax.plot(x, y, zs=0.5, zdir='z', label='curve(sin) in (x,y)') # 固定z轴不变\n",
    "ax.plot(x, y1, zs=0.25, zdir='z', label='curve(cos) in (x,y)')\n",
    "\n",
    "colors = ('r', 'g', 'b', 'k')\n",
    "x = np.random.sample(20 * len(colors))\n",
    "y = np.random.sample(20 * len(colors))\n",
    "c_list = []\n",
    "for c in colors:\n",
    "    c_list.extend([c] * 20)\n",
    "\n",
    "ax.scatter(x, 0.1, zs=y, c=c_list, label='points in (x,z)') # 固定y不变\n",
    "ax.legend()\n",
    "ax.set_xlim(0, 1)\n",
    "ax.set_ylim(0, 1)\n",
    "ax.set_zlim(0, 1)\n",
    "ax.set_xlabel('X')\n",
    "ax.set_ylabel('Y')\n",
    "ax.set_zlabel('Z')\n",
    "ax.grid(b=False)\n",
    "ax.w_xaxis.set_pane_color((0, 1.0, 1.0, 1.0)) # x轴面板背景颜色设置(格式必须为RGBA元组)\n",
    "ax.w_yaxis.set_pane_color((1.0, 1.0, 1.0, 1.0))\n",
    "ax.w_zaxis.set_pane_color((1.0, 1.0, 1.0, 1.0))\n",
    "ax.set_title('3D', color='red')\n",
    "plt.show()\n"
   ]
  }
 ],
 "metadata": {
  "kernelspec": {
   "display_name": "Python 3",
   "language": "python",
   "name": "python3"
  },
  "language_info": {
   "codemirror_mode": {
    "name": "ipython",
    "version": 2
   },
   "file_extension": ".py",
   "mimetype": "text/x-python",
   "name": "python",
   "nbconvert_exporter": "python",
   "pygments_lexer": "ipython2",
   "version": "2.7.6"
  }
 },
 "nbformat": 4,
 "nbformat_minor": 0
}