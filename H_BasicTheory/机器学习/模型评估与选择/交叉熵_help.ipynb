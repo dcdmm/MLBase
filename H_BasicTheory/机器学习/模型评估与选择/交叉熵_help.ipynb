{
 "cells": [
  {
   "cell_type": "markdown",
   "metadata": {
    "collapsed": true,
    "pycharm": {
     "name": "#%% md\n"
    }
   },
   "source": [
    "&emsp;&emsp;在信息论中,熵$H(P)$表示对来自的$P$的随机变量进行编码所需的最小字节数,而交叉熵$H(P, Q)$则表示使用基于$Q$的编码对来自$P$的变量进行编码所需的字节数,定义为:\n",
    "\n",
    "\\begin{align}\n",
    "H(P, Q) &= -E_{P}[\\log Q]  \\\\\n",
    "        &= -\\sum_{x \\in \\mathcal{X}} p(x) \\log q(x)\n",
    "\\end{align}\n",
    "\n",
    "若将概率分布$P$和$Q$的KL散度展开,可得\n",
    "\n",
    "\\begin{align}\n",
    "KL(P||Q) &= \\int_{- \\infty}^{\\infty} p(x) \\log \\frac{p(x)}{q(x)} dx \\\\\n",
    "\t\t &= \\int_{- \\infty}^{\\infty} p(x) \\log p(x) dx - \\int_{- \\infty}^{\\infty} p(x) \\log q(x) dx \\\\\n",
    "\t\t &=-H(P) + H(P,Q)\n",
    "\\end{align}\n",
    "\n",
    "\n",
    "### 与对数似然的关系\n",
    "\n",
    "&emsp;&emsp;In classification problems we want to estimate the probability of different outcomes. If the estimated probability of outcome $i$ is $q_{i}$, while the frequency (empirical probability) of outcome $i$ in the training set is $p_{i}$, and there are $N$ samples in the training set, then the likelihood of the training set is proportional to\n",
    "\n",
    "$$ \\prod_{i} q_i^{N \\times p_i} $$\n",
    "\n",
    "so the log-likelihood, divided by $N$ is\n",
    "\n",
    "\\begin{align}\n",
    "\\frac{1}{N} \\log \\prod_{i} q_{i}^{N \\times p_{i}} &= \\frac{1}{N} \\sum_{i} \\log q_{i}^{N \\times p_{i}}    \\\\\n",
    "\t\t&= \\sum_{i} p_{i} \\log q_{i} \\\\\n",
    "\t\t&=-H(p, q)\n",
    "\\end{align}\n",
    "\n",
    "so that maximizing the likelihood is the same as minimizing the cross entropy.\n",
    "\n"
   ]
  }
 ],
 "metadata": {
  "kernelspec": {
   "display_name": "Python 3",
   "language": "python",
   "name": "python3"
  },
  "language_info": {
   "codemirror_mode": {
    "name": "ipython",
    "version": 3
   },
   "file_extension": ".py",
   "mimetype": "text/x-python",
   "name": "python",
   "nbconvert_exporter": "python",
   "pygments_lexer": "ipython3",
   "version": "3.7.9"
  },
  "toc": {
   "base_numbering": 1,
   "nav_menu": {},
   "number_sections": true,
   "sideBar": true,
   "skip_h1_title": false,
   "title_cell": "Table of Contents",
   "title_sidebar": "Contents",
   "toc_cell": false,
   "toc_position": {},
   "toc_section_display": true,
   "toc_window_display": false
  }
 },
 "nbformat": 4,
 "nbformat_minor": 1
}