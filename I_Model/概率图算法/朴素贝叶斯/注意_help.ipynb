{
 "cells": [
  {
   "cell_type": "markdown",
   "metadata": {},
   "source": [
    "假设语句分词后为:['我', '司', '可', '办理', '正规发票']\n",
    "\n",
    "由朴素贝叶斯的条件独立性可知: \n",
    "\n",
    "\\begin{align}\n",
    "P(\"我\", \"司\", \"可\", \"办理\", \"正规发票\"|S) &= P(\"我:|S) P(\"司\"|S) P(\"可\"|S) P(\"办理\"|S)P(\"正规发票\"|S)  \\\\\n",
    "&=P(\"正规发票\"|S) P(\"可\"|S) P(\"办理\"|S) P(\"我\"|S) P(\"司\"|S） \\\\\n",
    "&=P(\"正规发票\", \"可\", \"办理\", \"我\", \"司\")|S)\n",
    "\\end{align}\n",
    "\n",
    "也就是说,在朴素贝叶斯眼里,\"我司可办理正规发票\"与\"正规发票可办理我司\"完全相同.朴素贝叶斯失去了词语之间的顺序信息.这就相当于把所有的词汇扔进到一个袋子里随便搅和,贝叶斯都认为它们一样.因此这种情况也称作词袋子模型(bag of words).词袋子模型与人们的日常经验完全不同.比如,在条件独立假设的情况下,\"武松打死了老虎\"与\"老虎打死了武松\"被它认作一个意思了."
   ]
  },
  {
   "cell_type": "code",
   "execution_count": null,
   "metadata": {},
   "outputs": [],
   "source": []
  }
 ],
 "metadata": {
  "kernelspec": {
   "display_name": "Python 3",
   "language": "python",
   "name": "python3"
  },
  "language_info": {
   "codemirror_mode": {
    "name": "ipython",
    "version": 3
   },
   "file_extension": ".py",
   "mimetype": "text/x-python",
   "name": "python",
   "nbconvert_exporter": "python",
   "pygments_lexer": "ipython3",
   "version": "3.7.7"
  },
  "toc": {
   "base_numbering": 1,
   "nav_menu": {},
   "number_sections": true,
   "sideBar": true,
   "skip_h1_title": false,
   "title_cell": "Table of Contents",
   "title_sidebar": "Contents",
   "toc_cell": false,
   "toc_position": {},
   "toc_section_display": true,
   "toc_window_display": false
  }
 },
 "nbformat": 4,
 "nbformat_minor": 4
}