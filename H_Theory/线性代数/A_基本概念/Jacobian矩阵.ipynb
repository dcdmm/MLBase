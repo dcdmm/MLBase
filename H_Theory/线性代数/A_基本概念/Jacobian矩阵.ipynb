{
 "cells": [
  {
   "cell_type": "markdown",
   "metadata": {
    "collapsed": true,
    "pycharm": {
     "is_executing": false,
     "name": "#%% md\n"
    }
   },
   "source": [
    "### 实值标量函数的Jacobian矩阵(分子布局求导)\n",
    "&emsp;&emsp;当实值标量函数$ f(\\mathbf{x}) $的变元为实值向量$ \\mathbf{x} \\in \\mathbf{R}^m $时,Jacobian矩阵为   \n",
    "$$ D_{\\mathbf{x}}f(\\mathbf{x}) = \\frac{\\partial f(\\mathbf{x})}{\\partial \\mathbf{x}}  =\\frac{\\partial f(\\mathbf{x})}{\\partial \\mathbf{x}^T} = \\Big [\\frac{\\partial f(\\mathbf{x})}{\\partial x_1}, \\dots, \\frac{\\partial f(\\mathbf{x})}{\\partial x_m} \\Big]  $$       \n",
    "&emsp;&emsp;当实值标量函数$ f(X) $的变元为实值矩阵$ X \\in \\mathbf{R}^{m \\times n} $时,Jacobian矩阵(分子布局求导)为    \n",
    "$$ D_X f(X) = \\frac{\\partial f(X)}{\\partial X^T} = $$\n",
    "\\begin{bmatrix}\n",
    "\\frac{\\partial f(X)}{\\partial x_{11}} & \\dots  & \\frac{\\partial f(X)}{\\partial x_{m1}} \\\\\n",
    "\\vdots                             & \\ddots & \\vdots \\\\\n",
    "\\frac{\\partial f(X)}{\\partial x_{1n}} & \\dots  & \\frac{\\partial f(X)}{\\partial x_{mn}} \\\\\n",
    "\\end{bmatrix}\n",
    "\n",
    "\n",
    "### 实值矩阵(向量)函数的Jacobian矩阵\n",
    "&emsp;&emsp;实值函数$ F(X)=[f_{lk}]^{p,q}_{k=1,l=1} \\in \\mathbf{R^{p\\times q}}$,其中矩阵变元$ X \\in \\mathbf{R}^{m \\times n} $.则\n",
    "Jacobian矩阵可进行如下定义:   \n",
    "1. 先通过列向量化,将$ p \\times q $矩阵转换成$ pq \\times 1$列向量  \n",
    "$$ \\mathrm{vec}(F(X)) \\mathop = \\limits^{\\mathrm{def}} \\{ f_{11}(X), \\dots ,f_{p1}(X), \\dots, f_{1q}(X), \\dots, f_{pq}(X)\\} \\in \\mathbf{R}^{pq} $$      \n",
    "2. 然后改列向量对矩阵变元$ X $的列向量化的转置$(\\mathrm{vec})^T$求导,给出$ pq \\times mn $维Jacobian矩阵   \n",
    "$$ D_X F(X) \\mathop = \\limits^{\\mathrm{def}} \\frac{\\partial \\mathrm{vec}(F(X))}{\\partial(\\mathbf{vec}X)^T} \\in \\mathbf{R}^{pq \\times mn}  $$   \n",
    "其具体表达式为:   \n",
    "    \n",
    "$$ D_X F(X)= $$\n",
    "\\begin{bmatrix}\n",
    "        \\frac{f_{11}}{\\partial(\\mathbf{vec}X)^T} \\\\\n",
    "        \\vdots \\\\\n",
    "        \\frac{f_{p1}}{\\partial(\\mathbf{vec}X)^T} \\\\\n",
    "        \\vdots \\\\\n",
    "        \\frac{f_{1q}}{\\partial(\\mathbf{vec}X)^T} \\\\\n",
    "        \\vdots \\\\\n",
    "        \\frac{f_{pq}}{\\partial(\\mathbf{vec}X)^T} \\\\\n",
    "\\end{bmatrix}\n",
    "$$ = $$\n",
    "\\begin{bmatrix}\n",
    "\\frac{\\partial f_{11}}{\\partial x_{11}} &  \\dots & \\frac{\\partial f_{11}}{\\partial x_{m1}} & \\dots  & \\frac{\\partial f_{11}}{\\partial x_{1n}} & \\dots & \\frac{\\partial f_{11}}{\\partial x_{mn}} \\\\\n",
    "\\vdots & \\vdots & \\vdots & \\vdots & \\vdots & \\vdots & \\vdots \\\\\n",
    "\\frac{\\partial f_{p1}}{\\partial x_{11}} &  \\dots & \\frac{\\partial f_{p1}}{\\partial x_{m1}} & \\dots  & \\frac{\\partial f_{p1}}{\\partial x_{1n}} & \\dots & \\frac{\\partial f_{p1}}{\\partial x_{mn}} \\\\\n",
    "\\vdots & \\vdots & \\vdots & \\vdots & \\vdots & \\vdots & \\vdots \\\\\n",
    "\\frac{\\partial f_{1q}}{\\partial x_{1q}} &  \\dots & \\frac{\\partial f_{1q}}{\\partial x_{m1}} & \\dots  & \\frac{\\partial f_{1q}}{\\partial x_{1n}} & \\dots & \\frac{\\partial f_{1q}}{\\partial x_{mn}} \\\\\n",
    "\\vdots & \\vdots & \\vdots & \\vdots & \\vdots & \\vdots & \\vdots \\\\\n",
    "\\frac{\\partial f_{pq}}{\\partial x_{11}} &  \\dots & \\frac{\\partial f_{pq}}{\\partial x_{m1}} & \\dots  & \\frac{\\partial f_{pq}}{\\partial x_{1n}} & \\dots & \\frac{\\partial f_{pq}}{\\partial x_{mn}} \\\\\n",
    "\\end{bmatrix}"
   ]
  },
  {
   "cell_type": "code",
   "execution_count": 57,
   "outputs": [
    {
     "data": {
      "text/plain": "Matrix([\n[cos(phi), -rho*sin(phi)],\n[sin(phi),  rho*cos(phi)],\n[   2*rho,             0]])",
      "text/latex": "$\\displaystyle \\left[\\begin{matrix}\\cos{\\left(\\phi \\right)} & - \\rho \\sin{\\left(\\phi \\right)}\\\\\\sin{\\left(\\phi \\right)} & \\rho \\cos{\\left(\\phi \\right)}\\\\2 \\rho & 0\\end{matrix}\\right]$"
     },
     "metadata": {},
     "output_type": "execute_result",
     "execution_count": 57
    }
   ],
   "source": [
    "from  sympy import  *\n",
    "from sympy.abc import rho, phi, theta, gamma\n",
    "\n",
    "X = Matrix([rho*cos(phi), rho*sin(phi), rho**2]) # 向量\n",
    "\n",
    "Y = Matrix([rho, phi]) # 向量\n",
    "X.jacobian(Y)"
   ],
   "metadata": {
    "collapsed": false,
    "pycharm": {
     "name": "#%%\n",
     "is_executing": false
    }
   }
  },
  {
   "cell_type": "code",
   "execution_count": 87,
   "outputs": [],
   "source": [
    "X1 = Matrix([[rho*cos(phi), sqrt(phi*gamma)], \n",
    "             [sin(phi)*theta*gamma, rho*tan(gamma)], \n",
    "             [sin(phi)*cos(gamma), rho/log(gamma)]]) # 矩阵\n",
    "\n",
    "Y1 = Matrix([[rho, phi], [theta, gamma]]) # 矩阵"
   ],
   "metadata": {
    "collapsed": false,
    "pycharm": {
     "name": "#%%\n",
     "is_executing": false
    }
   }
  },
  {
   "cell_type": "code",
   "execution_count": 88,
   "outputs": [],
   "source": [
    "X1 = X1.reshape(X1.shape[0]*X1.shape[1], 1) # 列向量化\n",
    "Y1 = Y1.reshape(Y1.shape[0]*Y1.shape[1], 1) # 列向量化"
   ],
   "metadata": {
    "collapsed": false,
    "pycharm": {
     "name": "#%%\n",
     "is_executing": false
    }
   }
  },
  {
   "cell_type": "code",
   "execution_count": 92,
   "outputs": [
    {
     "data": {
      "text/plain": "Matrix([\n[    cos(phi),           -rho*sin(phi),              0,                          0],\n[           0, sqrt(gamma*phi)/(2*phi),              0,  sqrt(gamma*phi)/(2*gamma)],\n[           0,    gamma*theta*cos(phi), gamma*sin(phi),             theta*sin(phi)],\n[  tan(gamma),                       0,              0,    rho*(tan(gamma)**2 + 1)],\n[           0,     cos(gamma)*cos(phi),              0,       -sin(gamma)*sin(phi)],\n[1/log(gamma),                       0,              0, -rho/(gamma*log(gamma)**2)]])",
      "text/latex": "$\\displaystyle \\left[\\begin{matrix}\\cos{\\left(\\phi \\right)} & - \\rho \\sin{\\left(\\phi \\right)} & 0 & 0\\\\0 & \\frac{\\sqrt{\\gamma \\phi}}{2 \\phi} & 0 & \\frac{\\sqrt{\\gamma \\phi}}{2 \\gamma}\\\\0 & \\gamma \\theta \\cos{\\left(\\phi \\right)} & \\gamma \\sin{\\left(\\phi \\right)} & \\theta \\sin{\\left(\\phi \\right)}\\\\\\tan{\\left(\\gamma \\right)} & 0 & 0 & \\rho \\left(\\tan^{2}{\\left(\\gamma \\right)} + 1\\right)\\\\0 & \\cos{\\left(\\gamma \\right)} \\cos{\\left(\\phi \\right)} & 0 & - \\sin{\\left(\\gamma \\right)} \\sin{\\left(\\phi \\right)}\\\\\\frac{1}{\\log{\\left(\\gamma \\right)}} & 0 & 0 & - \\frac{\\rho}{\\gamma \\log{\\left(\\gamma \\right)}^{2}}\\end{matrix}\\right]$"
     },
     "metadata": {},
     "output_type": "execute_result",
     "execution_count": 92
    }
   ],
   "source": [
    "X1.jacobian(Y1)"
   ],
   "metadata": {
    "collapsed": false,
    "pycharm": {
     "name": "#%%\n",
     "is_executing": false
    }
   }
  },
  {
   "cell_type": "code",
   "execution_count": 101,
   "outputs": [
    {
     "data": {
      "text/plain": "Matrix([\n[    cos(phi),           -rho*sin(phi),              0,                          0],\n[           0, sqrt(gamma*phi)/(2*phi),              0,  sqrt(gamma*phi)/(2*gamma)],\n[           0,    gamma*theta*cos(phi), gamma*sin(phi),             theta*sin(phi)],\n[  tan(gamma),                       0,              0,    rho*(tan(gamma)**2 + 1)],\n[           0,     cos(gamma)*cos(phi),              0,       -sin(gamma)*sin(phi)],\n[1/log(gamma),                       0,              0, -rho/(gamma*log(gamma)**2)]])",
      "text/latex": "$\\displaystyle \\left[\\begin{matrix}\\cos{\\left(\\phi \\right)} & - \\rho \\sin{\\left(\\phi \\right)} & 0 & 0\\\\0 & \\frac{\\sqrt{\\gamma \\phi}}{2 \\phi} & 0 & \\frac{\\sqrt{\\gamma \\phi}}{2 \\gamma}\\\\0 & \\gamma \\theta \\cos{\\left(\\phi \\right)} & \\gamma \\sin{\\left(\\phi \\right)} & \\theta \\sin{\\left(\\phi \\right)}\\\\\\tan{\\left(\\gamma \\right)} & 0 & 0 & \\rho \\left(\\tan^{2}{\\left(\\gamma \\right)} + 1\\right)\\\\0 & \\cos{\\left(\\gamma \\right)} \\cos{\\left(\\phi \\right)} & 0 & - \\sin{\\left(\\gamma \\right)} \\sin{\\left(\\phi \\right)}\\\\\\frac{1}{\\log{\\left(\\gamma \\right)}} & 0 & 0 & - \\frac{\\rho}{\\gamma \\log{\\left(\\gamma \\right)}^{2}}\\end{matrix}\\right]$"
     },
     "metadata": {},
     "output_type": "execute_result",
     "execution_count": 101
    }
   ],
   "source": [
    "# 手工计算(分子布局)\n",
    "first_step = diff(X1, Y1)\n",
    "first_step = first_step[0, :, 0, :]\n",
    "first_step = first_step.tomatrix()\n",
    "first_step = first_step.transpose()\n",
    "first_step"
   ],
   "metadata": {
    "collapsed": false,
    "pycharm": {
     "name": "#%%\n",
     "is_executing": false
    }
   }
  },
  {
   "cell_type": "code",
   "execution_count": null,
   "outputs": [],
   "source": [
    "\n"
   ],
   "metadata": {
    "collapsed": false,
    "pycharm": {
     "name": "#%%\n"
    }
   }
  }
 ],
 "metadata": {
  "kernelspec": {
   "display_name": "Python 3",
   "language": "python",
   "name": "python3"
  },
  "language_info": {
   "codemirror_mode": {
    "name": "ipython",
    "version": 2
   },
   "file_extension": ".py",
   "mimetype": "text/x-python",
   "name": "python",
   "nbconvert_exporter": "python",
   "pygments_lexer": "ipython2",
   "version": "2.7.6"
  },
  "pycharm": {
   "stem_cell": {
    "cell_type": "raw",
    "source": [],
    "metadata": {
     "collapsed": false
    }
   }
  }
 },
 "nbformat": 4,
 "nbformat_minor": 0
}