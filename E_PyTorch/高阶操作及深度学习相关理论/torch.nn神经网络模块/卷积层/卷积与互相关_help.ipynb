{
 "cells": [
  {
   "cell_type": "markdown",
   "metadata": {
    "pycharm": {
     "name": "#%% md\n"
    }
   },
   "source": [
    "&emsp;&emsp;给定一个图形$X\\in \\mathbb{R}^{H \\times W}$和一个滤波器$W \\in \\mathbb{R}^{FH \\times FW}$,一般$FH \\ll FH, FW \\ll W$,其卷积为\n",
    "\n",
    "$$ y_{ij} = \\sum_{u=1}^{FH} \\sum_{v=1}^{FW} w_{uv}x_{i-u+1, j-v+1} \\tag{1} $$\n",
    "\n",
    "&emsp;&emsp;输入信息$X$和滤波器$W$的二维卷积定义为\n",
    "\n",
    "$$ Y = W * X  = X * W  \\quad \\quad   \\text{注:卷积是可交换的} \\tag{2} $$\n",
    "\n",
    "其中$*$表示二维卷积运算.\n",
    "\n",
    "&emsp;&emsp;若令$ c =  f*g = \\sum_{k=0}^{2} \\sum_{h=0}^2 f(h, k)g(i-h, j-k)$,则$c_{1,1}$的计算过程如下图所示:\n",
    "\n",
    "<img src='../../../../Other/img/卷积下标.gif' style=\"width:500px;height:420px\">\n",
    "\n",
    "\n",
    "&emsp;&emsp;在机器学习和图像处理领域,卷积的主要功能是在一个图像(或某种特征)上滑动一个卷积核(即滤波器),通过卷积操作得到一组新的特征.\n",
    "在计算卷积的过程中,需要进行卷积核翻转.在具体实现上,一般会以互相关操作来代替卷积,从而会减少一些不必要的操作或开销.\n",
    "互相关(Cross-Correlation)是一个衡量两个序列相关性的函数,通常是用滑动窗口的点积计算来实现,$X$与$W$的互相关为\n",
    "\n",
    "$$ y_{ij} = \\sum_{u=1}^{FH} \\sum_{v=1}^{FW} w_{uv}x_{i+u-1, j+v-1} \\tag{3} $$\n",
    "\n",
    "&emsp;&emsp;可以看出,互相关和卷积的区别仅仅在于卷积核是否进行翻转(即旋转180度),因此互相关也可以称为不翻转卷积.公式(3)可以表述为\n",
    "\n",
    "\\begin{align}\n",
    "Y &= W \\otimes X  \\\\\n",
    "  &= \\mathrm{rot180}(W) * X\n",
    "\\end{align}\n",
    "\n",
    "其中$\\otimes$表示互相关运算,$\\mathrm{rot}180(*)$表示旋转180度,$Y \\in \\mathbb{R}^{H-FH+1, W-FW+1}$为输出矩阵．\n",
    "\n",
    "&emsp;&emsp;在神经网络中使用卷积是为了进行特征抽取,卷积核是否进行翻转和其特征抽取的能力无关.特别是当卷积核是可学习的参数时,\n",
    "卷积和互相关在能力上是等价的,为了实现上(或描述上)的方便起见,使用互相关来代替卷积.\n"
   ]
  },
  {
   "cell_type": "code",
   "execution_count": null,
   "metadata": {},
   "outputs": [],
   "source": []
  }
 ],
 "metadata": {
  "kernelspec": {
   "display_name": "Python 3",
   "language": "python",
   "name": "python3"
  },
  "language_info": {
   "codemirror_mode": {
    "name": "ipython",
    "version": 3
   },
   "file_extension": ".py",
   "mimetype": "text/x-python",
   "name": "python",
   "nbconvert_exporter": "python",
   "pygments_lexer": "ipython3",
   "version": "3.7.7"
  },
  "toc": {
   "base_numbering": 1,
   "nav_menu": {},
   "number_sections": true,
   "sideBar": true,
   "skip_h1_title": false,
   "title_cell": "Table of Contents",
   "title_sidebar": "Contents",
   "toc_cell": false,
   "toc_position": {},
   "toc_section_display": true,
   "toc_window_display": false
  }
 },
 "nbformat": 4,
 "nbformat_minor": 4
}
