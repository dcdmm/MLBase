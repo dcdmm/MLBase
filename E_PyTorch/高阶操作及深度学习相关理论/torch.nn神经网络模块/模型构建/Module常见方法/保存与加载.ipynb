{
 "cells": [
  {
   "cell_type": "code",
   "execution_count": 7,
   "metadata": {
    "collapsed": true
   },
   "outputs": [],
   "source": [
    "from abc import ABC\n",
    "import torch\n",
    "import torch.nn as nn"
   ]
  },
  {
   "cell_type": "code",
   "execution_count": 8,
   "outputs": [
    {
     "name": "stdout",
     "output_type": "stream",
     "text": [
      "iteration：0,    loss: 2.07944393157959\n",
      "iteration：20,    loss: 0.16775953769683838\n",
      "iteration：40,    loss: 0.12824194133281708\n",
      "iteration：60,    loss: 0.11418388038873672\n",
      "iteration：80,    loss: 0.10358712822198868\n",
      "iteration：100,    loss: 0.09519942104816437\n",
      "iteration：120,    loss: 0.0884229838848114\n",
      "iteration：140,    loss: 0.08285802602767944\n",
      "iteration：160,    loss: 0.07822190970182419\n",
      "iteration：180,    loss: 0.07430948317050934\n",
      "iteration：200,    loss: 0.07096906006336212\n",
      "iteration：220,    loss: 0.0680866688489914\n",
      "iteration：240,    loss: 0.06557554006576538\n",
      "iteration：260,    loss: 0.0633687674999237\n",
      "iteration：280,    loss: 0.06141415983438492\n",
      "iteration：300,    loss: 0.0596705824136734\n",
      "iteration：320,    loss: 0.0581052340567112\n",
      "iteration：340,    loss: 0.056691765785217285\n",
      "iteration：360,    loss: 0.055408719927072525\n",
      "iteration：380,    loss: 0.05423854663968086\n",
      "iteration：400,    loss: 0.0531667023897171\n",
      "iteration：420,    loss: 0.052181076258420944\n",
      "iteration：440,    loss: 0.051271501928567886\n",
      "iteration：460,    loss: 0.05042935535311699\n",
      "iteration：480,    loss: 0.04964729771018028\n"
     ]
    }
   ],
   "source": [
    "x0, y0 = torch.normal(mean=1.7, std=1, size=(100, 2)) + 1, torch.zeros(100)  # 数据集1\n",
    "x1, y1 = torch.normal(mean=-1.7, std=1, size=(100, 2)) + 1, torch.ones(100)  # 数据集2\n",
    "train_x, train_y = torch.cat((x0, x1), 0), torch.cat((y0, y1), 0)\n",
    "\n",
    "\n",
    "class LR(nn.Module, ABC):\n",
    "    def __init__(self):\n",
    "        super(LR, self).__init__()\n",
    "        self.features = nn.Linear(2, 1)\n",
    "        self.sigmoid = nn.Sigmoid()\n",
    "\n",
    "    def forward(self, x):\n",
    "        x = self.features(x)\n",
    "        x = self.sigmoid(x)\n",
    "        return x\n",
    "\n",
    "\n",
    "lr_net = LR()\n",
    "loss_fn = nn.BCELoss()\n",
    "optimizer = torch.optim.SGD(lr_net.parameters(), lr=0.01, momentum=0.9)\n",
    "\n",
    "for iteration in range(500):\n",
    "    optimizer.zero_grad()  # 梯度清零\n",
    "    y_pred = lr_net(train_x)\n",
    "    loss = loss_fn(y_pred.squeeze(), train_y)\n",
    "    loss.backward()\n",
    "    optimizer.step()\n",
    "\n",
    "    if iteration % 20 == 0:\n",
    "        print(\"iteration：{iteration},    loss: {loss}\".format(iteration=iteration, loss=loss))"
   ],
   "metadata": {
    "collapsed": false,
    "pycharm": {
     "name": "#%%\n"
    }
   }
  },
  {
   "cell_type": "code",
   "execution_count": 9,
   "outputs": [
    {
     "data": {
      "text/plain": "OrderedDict([('features.weight', tensor([[-1.6983, -1.4639]])),\n             ('features.bias', tensor([2.2274]))])"
     },
     "execution_count": 9,
     "metadata": {},
     "output_type": "execute_result"
    }
   ],
   "source": [
    "lr_dict = lr_net.state_dict()  # Returns a dictionary containing a whole state of the module\n",
    "lr_dict"
   ],
   "metadata": {
    "collapsed": false,
    "pycharm": {
     "name": "#%%\n"
    }
   }
  },
  {
   "cell_type": "code",
   "execution_count": 10,
   "outputs": [],
   "source": [
    "torch.save(lr_dict,\n",
    "           'torch_dict.pth')  # 保存的状态字典的文件"
   ],
   "metadata": {
    "collapsed": false,
    "pycharm": {
     "name": "#%%\n"
    }
   }
  },
  {
   "cell_type": "code",
   "execution_count": 11,
   "outputs": [
    {
     "data": {
      "text/plain": "<All keys matched successfully>"
     },
     "execution_count": 11,
     "metadata": {},
     "output_type": "execute_result"
    }
   ],
   "source": [
    "lr_net_new = LR()  # 定义一个新的模型\n",
    "\n",
    "# torch.load():Loads an object saved with torch.save() from a file.\n",
    "# .load_state_dict():Copies parameters and buffers from :attr:`state_dict` into this module and its descendants\n",
    "lr_net_new.load_state_dict(torch.load('lr_dict.pth'))"
   ],
   "metadata": {
    "collapsed": false,
    "pycharm": {
     "name": "#%%\n"
    }
   }
  },
  {
   "cell_type": "code",
   "execution_count": 12,
   "outputs": [
    {
     "data": {
      "text/plain": "OrderedDict([('features.weight', tensor([[-1.2590, -1.4755]])),\n             ('features.bias', tensor([2.2686]))])"
     },
     "execution_count": 12,
     "metadata": {},
     "output_type": "execute_result"
    }
   ],
   "source": [
    "lr_net_new.state_dict()"
   ],
   "metadata": {
    "collapsed": false,
    "pycharm": {
     "name": "#%%\n"
    }
   }
  },
  {
   "cell_type": "code",
   "execution_count": 12,
   "outputs": [],
   "source": [],
   "metadata": {
    "collapsed": false,
    "pycharm": {
     "name": "#%%\n"
    }
   }
  }
 ],
 "metadata": {
  "kernelspec": {
   "display_name": "Python 3",
   "language": "python",
   "name": "python3"
  },
  "language_info": {
   "codemirror_mode": {
    "name": "ipython",
    "version": 2
   },
   "file_extension": ".py",
   "mimetype": "text/x-python",
   "name": "python",
   "nbconvert_exporter": "python",
   "pygments_lexer": "ipython2",
   "version": "2.7.6"
  }
 },
 "nbformat": 4,
 "nbformat_minor": 0
}