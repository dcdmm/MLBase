{
 "cells": [
  {
   "cell_type": "markdown",
   "metadata": {
    "pycharm": {
     "name": "#%% md\n"
    }
   },
   "source": [
    "<img src=\"../../../Other/img/Skip-Gram.jpg\">\n",
    "\n",
    "***\n",
    "\n",
    "&emsp;&emsp;跳字模型假设基于某个词来生成它在文本序列周围的词,举个例子,假设文本序列是'the','man','loves','his','son',以'loves'作为中心词,\n",
    "设背景窗口大小为2,如下图所示,跳字模型关心的是,给定中心词'loves',生成与它距离不超过2个词的背景词'the','man','his','son'的条件概率,即\n",
    "\n",
    "$$ P('the', 'man', 'his', 'son'|'loves')  $$\n",
    "\n",
    "假设给定中心词的情况下,背景词的生成是相互独立的,那么上式可以改写成 \n",
    "\n",
    "$$ P('the'|'loves') \\cdot P('man'|'loves') \\cdot P('his'|'loves') \\cdot P('son'|'loves') $$\n",
    "\n",
    "<img src=\"../../../Other/img/skip-gram0.jpg\">\n",
    "\n",
    "***\n",
    "\n",
    "<img src=\"../../../Other/img/skip-gram1.jpg\">\n",
    "\n",
    "假设中心词为$w_i$,某个背景词为$w_{i-1}$,词表索引集大小为$V$,$W$为中心词词向量矩阵,$W^*$为背景词词向量矩阵,$W^*_j$为$W^*$的第$j$列\n",
    "1. 根据$w_i$在词表索引集中的位置,将$w_i$映射成一个$1 \\times V$的向量\n",
    "2. 由$ (1 \\times V) \\times (V \\times D) = (1 \\times D) $得到$w_i$的词向量$\\mathbf{v}_{W_{i}}$\n",
    "3. $ (1 \\times D) \\times (D \\times V) = (1 \\times V) $\n",
    "4. 3经过softmax运算可得\n",
    "\n",
    "$$\n",
    "\\begin{align}\n",
    "p\\left(w_{i-1} \\mid w_{i}\\right) &= \\frac{\\exp \\left( \\mathbf{v}_{W_{i}} W^*_{i-1} \\right)}{\\sum_{j=1}^{V} \\exp \\left(  \\mathbf{v}_{W_{i}} W^{*}_j \\right)}\\\\\n",
    "                      &=  \\frac{\\exp \\left( \\mathbf{v}_{W_{i}} \\mathbf{u}_{i-1}  \\right) }{ \\sum_{j=1}^V  \\exp \\left( \\mathbf{v}_{W_{i}}  \\mathbf{u}_{j}  \\right) }\n",
    "\\end{align}\n",
    "$$\n",
    "\n",
    "其中,$\\mathbf{u}_{i-1}$为背景词$w_{i-1}$的词向量(列向量).\n",
    "\n",
    "由上可得,假设给定一个长度为$T$的文本序列,设时间步$t$的词为$w_{t}$.假定给定中心词的情况下背景词的生成相互独立,当背景窗口为$m$时,跳字模型的似然函数即给定任一中心词生成所有背景词的概率\n",
    "\n",
    "$$\n",
    "\\begin{align}\n",
    "J(\\theta) &=\\frac{1}{T} \\sum_{t=1}^{T} \\sum_{-m \\leq j \\leq m, j \\neq 0} \\log p\\left(w_{t+j} \\mid w_{t}\\right) \\\\\n",
    "       &= \\frac{1}{T} \\sum_{t=1}^{T} \\sum_{-m \\leq j \\leq m, j \\neq 0} \\left( \\mathbf{v}_{W_{t}} \\mathbf{u}_{t+j}  - \\log \\sum_{k=1}^V  \\exp \\left(  \\mathbf{v}_{W_{t}} \\mathbf{u}_{k} \\right) \\right)\n",
    "\\end{align}\n",
    "$$\n",
    "\n"
   ]
  },
  {
   "cell_type": "code",
   "execution_count": null,
   "metadata": {},
   "outputs": [],
   "source": []
  }
 ],
 "metadata": {
  "interpreter": {
   "hash": "7f42f7985a9e76d558e128652df079bec508149d1eda9cc3ea1ae8669a21bab3"
  },
  "kernelspec": {
   "display_name": "Python 3 (ipykernel)",
   "language": "python",
   "name": "python3"
  },
  "language_info": {
   "codemirror_mode": {
    "name": "ipython",
    "version": 3
   },
   "file_extension": ".py",
   "mimetype": "text/x-python",
   "name": "python",
   "nbconvert_exporter": "python",
   "pygments_lexer": "ipython3",
   "version": "3.8.12"
  },
  "toc": {
   "base_numbering": 1,
   "nav_menu": {},
   "number_sections": true,
   "sideBar": true,
   "skip_h1_title": false,
   "title_cell": "Table of Contents",
   "title_sidebar": "Contents",
   "toc_cell": false,
   "toc_position": {},
   "toc_section_display": true,
   "toc_window_display": false
  }
 },
 "nbformat": 4,
 "nbformat_minor": 4
}
