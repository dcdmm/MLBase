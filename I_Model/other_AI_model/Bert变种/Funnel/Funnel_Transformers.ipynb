{
 "cells": [
  {
   "cell_type": "code",
   "execution_count": 8,
   "metadata": {
    "collapsed": true
   },
   "outputs": [],
   "source": [
    "from transformers import AutoModel, AutoTokenizer"
   ]
  },
  {
   "cell_type": "code",
   "execution_count": 9,
   "outputs": [
    {
     "name": "stdout",
     "output_type": "stream",
     "text": [
      "['input_ids', 'token_type_ids', 'attention_mask']\n",
      "['<s>', '</s>', '<unk>', '<sep>', '<pad>', '<cls>', '<mask>']\n"
     ]
    }
   ],
   "source": [
    "'''\n",
    "主要预训练模型:\n",
    "'funnel-transformer/small'\n",
    "'funnel-transformer/medium'\n",
    "'funnel-transformer/large'\n",
    "'funnel-transformer/xlarge'\n",
    "'''\n",
    "tokenizer = AutoTokenizer.from_pretrained('funnel-transformer/small')\n",
    "print(tokenizer.model_input_names)\n",
    "print(tokenizer.all_special_tokens)"
   ],
   "metadata": {
    "collapsed": false,
    "pycharm": {
     "name": "#%%\n"
    }
   }
  },
  {
   "cell_type": "code",
   "execution_count": 10,
   "outputs": [
    {
     "data": {
      "text/plain": "FunnelModel(\n  (embeddings): FunnelEmbeddings(\n    (word_embeddings): Embedding(30522, 768)\n    (layer_norm): LayerNorm((768,), eps=1e-09, elementwise_affine=True)\n    (dropout): Dropout(p=0.1, inplace=False)\n  )\n  (encoder): FunnelEncoder(\n    (attention_structure): FunnelAttentionStructure(\n      (sin_dropout): Dropout(p=0.1, inplace=False)\n      (cos_dropout): Dropout(p=0.1, inplace=False)\n    )\n    (blocks): ModuleList(\n      (0): ModuleList(\n        (0): FunnelLayer(\n          (attention): FunnelRelMultiheadAttention(\n            (hidden_dropout): Dropout(p=0.1, inplace=False)\n            (attention_dropout): Dropout(p=0.1, inplace=False)\n            (q_head): Linear(in_features=768, out_features=768, bias=False)\n            (k_head): Linear(in_features=768, out_features=768, bias=True)\n            (v_head): Linear(in_features=768, out_features=768, bias=True)\n            (post_proj): Linear(in_features=768, out_features=768, bias=True)\n            (layer_norm): LayerNorm((768,), eps=1e-09, elementwise_affine=True)\n          )\n          (ffn): FunnelPositionwiseFFN(\n            (linear_1): Linear(in_features=768, out_features=3072, bias=True)\n            (activation_function): NewGELUActivation()\n            (activation_dropout): Dropout(p=0.0, inplace=False)\n            (linear_2): Linear(in_features=3072, out_features=768, bias=True)\n            (dropout): Dropout(p=0.1, inplace=False)\n            (layer_norm): LayerNorm((768,), eps=1e-09, elementwise_affine=True)\n          )\n        )\n        (1): FunnelLayer(\n          (attention): FunnelRelMultiheadAttention(\n            (hidden_dropout): Dropout(p=0.1, inplace=False)\n            (attention_dropout): Dropout(p=0.1, inplace=False)\n            (q_head): Linear(in_features=768, out_features=768, bias=False)\n            (k_head): Linear(in_features=768, out_features=768, bias=True)\n            (v_head): Linear(in_features=768, out_features=768, bias=True)\n            (post_proj): Linear(in_features=768, out_features=768, bias=True)\n            (layer_norm): LayerNorm((768,), eps=1e-09, elementwise_affine=True)\n          )\n          (ffn): FunnelPositionwiseFFN(\n            (linear_1): Linear(in_features=768, out_features=3072, bias=True)\n            (activation_function): NewGELUActivation()\n            (activation_dropout): Dropout(p=0.0, inplace=False)\n            (linear_2): Linear(in_features=3072, out_features=768, bias=True)\n            (dropout): Dropout(p=0.1, inplace=False)\n            (layer_norm): LayerNorm((768,), eps=1e-09, elementwise_affine=True)\n          )\n        )\n        (2): FunnelLayer(\n          (attention): FunnelRelMultiheadAttention(\n            (hidden_dropout): Dropout(p=0.1, inplace=False)\n            (attention_dropout): Dropout(p=0.1, inplace=False)\n            (q_head): Linear(in_features=768, out_features=768, bias=False)\n            (k_head): Linear(in_features=768, out_features=768, bias=True)\n            (v_head): Linear(in_features=768, out_features=768, bias=True)\n            (post_proj): Linear(in_features=768, out_features=768, bias=True)\n            (layer_norm): LayerNorm((768,), eps=1e-09, elementwise_affine=True)\n          )\n          (ffn): FunnelPositionwiseFFN(\n            (linear_1): Linear(in_features=768, out_features=3072, bias=True)\n            (activation_function): NewGELUActivation()\n            (activation_dropout): Dropout(p=0.0, inplace=False)\n            (linear_2): Linear(in_features=3072, out_features=768, bias=True)\n            (dropout): Dropout(p=0.1, inplace=False)\n            (layer_norm): LayerNorm((768,), eps=1e-09, elementwise_affine=True)\n          )\n        )\n        (3): FunnelLayer(\n          (attention): FunnelRelMultiheadAttention(\n            (hidden_dropout): Dropout(p=0.1, inplace=False)\n            (attention_dropout): Dropout(p=0.1, inplace=False)\n            (q_head): Linear(in_features=768, out_features=768, bias=False)\n            (k_head): Linear(in_features=768, out_features=768, bias=True)\n            (v_head): Linear(in_features=768, out_features=768, bias=True)\n            (post_proj): Linear(in_features=768, out_features=768, bias=True)\n            (layer_norm): LayerNorm((768,), eps=1e-09, elementwise_affine=True)\n          )\n          (ffn): FunnelPositionwiseFFN(\n            (linear_1): Linear(in_features=768, out_features=3072, bias=True)\n            (activation_function): NewGELUActivation()\n            (activation_dropout): Dropout(p=0.0, inplace=False)\n            (linear_2): Linear(in_features=3072, out_features=768, bias=True)\n            (dropout): Dropout(p=0.1, inplace=False)\n            (layer_norm): LayerNorm((768,), eps=1e-09, elementwise_affine=True)\n          )\n        )\n      )\n      (1): ModuleList(\n        (0): FunnelLayer(\n          (attention): FunnelRelMultiheadAttention(\n            (hidden_dropout): Dropout(p=0.1, inplace=False)\n            (attention_dropout): Dropout(p=0.1, inplace=False)\n            (q_head): Linear(in_features=768, out_features=768, bias=False)\n            (k_head): Linear(in_features=768, out_features=768, bias=True)\n            (v_head): Linear(in_features=768, out_features=768, bias=True)\n            (post_proj): Linear(in_features=768, out_features=768, bias=True)\n            (layer_norm): LayerNorm((768,), eps=1e-09, elementwise_affine=True)\n          )\n          (ffn): FunnelPositionwiseFFN(\n            (linear_1): Linear(in_features=768, out_features=3072, bias=True)\n            (activation_function): NewGELUActivation()\n            (activation_dropout): Dropout(p=0.0, inplace=False)\n            (linear_2): Linear(in_features=3072, out_features=768, bias=True)\n            (dropout): Dropout(p=0.1, inplace=False)\n            (layer_norm): LayerNorm((768,), eps=1e-09, elementwise_affine=True)\n          )\n        )\n        (1): FunnelLayer(\n          (attention): FunnelRelMultiheadAttention(\n            (hidden_dropout): Dropout(p=0.1, inplace=False)\n            (attention_dropout): Dropout(p=0.1, inplace=False)\n            (q_head): Linear(in_features=768, out_features=768, bias=False)\n            (k_head): Linear(in_features=768, out_features=768, bias=True)\n            (v_head): Linear(in_features=768, out_features=768, bias=True)\n            (post_proj): Linear(in_features=768, out_features=768, bias=True)\n            (layer_norm): LayerNorm((768,), eps=1e-09, elementwise_affine=True)\n          )\n          (ffn): FunnelPositionwiseFFN(\n            (linear_1): Linear(in_features=768, out_features=3072, bias=True)\n            (activation_function): NewGELUActivation()\n            (activation_dropout): Dropout(p=0.0, inplace=False)\n            (linear_2): Linear(in_features=3072, out_features=768, bias=True)\n            (dropout): Dropout(p=0.1, inplace=False)\n            (layer_norm): LayerNorm((768,), eps=1e-09, elementwise_affine=True)\n          )\n        )\n        (2): FunnelLayer(\n          (attention): FunnelRelMultiheadAttention(\n            (hidden_dropout): Dropout(p=0.1, inplace=False)\n            (attention_dropout): Dropout(p=0.1, inplace=False)\n            (q_head): Linear(in_features=768, out_features=768, bias=False)\n            (k_head): Linear(in_features=768, out_features=768, bias=True)\n            (v_head): Linear(in_features=768, out_features=768, bias=True)\n            (post_proj): Linear(in_features=768, out_features=768, bias=True)\n            (layer_norm): LayerNorm((768,), eps=1e-09, elementwise_affine=True)\n          )\n          (ffn): FunnelPositionwiseFFN(\n            (linear_1): Linear(in_features=768, out_features=3072, bias=True)\n            (activation_function): NewGELUActivation()\n            (activation_dropout): Dropout(p=0.0, inplace=False)\n            (linear_2): Linear(in_features=3072, out_features=768, bias=True)\n            (dropout): Dropout(p=0.1, inplace=False)\n            (layer_norm): LayerNorm((768,), eps=1e-09, elementwise_affine=True)\n          )\n        )\n        (3): FunnelLayer(\n          (attention): FunnelRelMultiheadAttention(\n            (hidden_dropout): Dropout(p=0.1, inplace=False)\n            (attention_dropout): Dropout(p=0.1, inplace=False)\n            (q_head): Linear(in_features=768, out_features=768, bias=False)\n            (k_head): Linear(in_features=768, out_features=768, bias=True)\n            (v_head): Linear(in_features=768, out_features=768, bias=True)\n            (post_proj): Linear(in_features=768, out_features=768, bias=True)\n            (layer_norm): LayerNorm((768,), eps=1e-09, elementwise_affine=True)\n          )\n          (ffn): FunnelPositionwiseFFN(\n            (linear_1): Linear(in_features=768, out_features=3072, bias=True)\n            (activation_function): NewGELUActivation()\n            (activation_dropout): Dropout(p=0.0, inplace=False)\n            (linear_2): Linear(in_features=3072, out_features=768, bias=True)\n            (dropout): Dropout(p=0.1, inplace=False)\n            (layer_norm): LayerNorm((768,), eps=1e-09, elementwise_affine=True)\n          )\n        )\n      )\n      (2): ModuleList(\n        (0): FunnelLayer(\n          (attention): FunnelRelMultiheadAttention(\n            (hidden_dropout): Dropout(p=0.1, inplace=False)\n            (attention_dropout): Dropout(p=0.1, inplace=False)\n            (q_head): Linear(in_features=768, out_features=768, bias=False)\n            (k_head): Linear(in_features=768, out_features=768, bias=True)\n            (v_head): Linear(in_features=768, out_features=768, bias=True)\n            (post_proj): Linear(in_features=768, out_features=768, bias=True)\n            (layer_norm): LayerNorm((768,), eps=1e-09, elementwise_affine=True)\n          )\n          (ffn): FunnelPositionwiseFFN(\n            (linear_1): Linear(in_features=768, out_features=3072, bias=True)\n            (activation_function): NewGELUActivation()\n            (activation_dropout): Dropout(p=0.0, inplace=False)\n            (linear_2): Linear(in_features=3072, out_features=768, bias=True)\n            (dropout): Dropout(p=0.1, inplace=False)\n            (layer_norm): LayerNorm((768,), eps=1e-09, elementwise_affine=True)\n          )\n        )\n        (1): FunnelLayer(\n          (attention): FunnelRelMultiheadAttention(\n            (hidden_dropout): Dropout(p=0.1, inplace=False)\n            (attention_dropout): Dropout(p=0.1, inplace=False)\n            (q_head): Linear(in_features=768, out_features=768, bias=False)\n            (k_head): Linear(in_features=768, out_features=768, bias=True)\n            (v_head): Linear(in_features=768, out_features=768, bias=True)\n            (post_proj): Linear(in_features=768, out_features=768, bias=True)\n            (layer_norm): LayerNorm((768,), eps=1e-09, elementwise_affine=True)\n          )\n          (ffn): FunnelPositionwiseFFN(\n            (linear_1): Linear(in_features=768, out_features=3072, bias=True)\n            (activation_function): NewGELUActivation()\n            (activation_dropout): Dropout(p=0.0, inplace=False)\n            (linear_2): Linear(in_features=3072, out_features=768, bias=True)\n            (dropout): Dropout(p=0.1, inplace=False)\n            (layer_norm): LayerNorm((768,), eps=1e-09, elementwise_affine=True)\n          )\n        )\n        (2): FunnelLayer(\n          (attention): FunnelRelMultiheadAttention(\n            (hidden_dropout): Dropout(p=0.1, inplace=False)\n            (attention_dropout): Dropout(p=0.1, inplace=False)\n            (q_head): Linear(in_features=768, out_features=768, bias=False)\n            (k_head): Linear(in_features=768, out_features=768, bias=True)\n            (v_head): Linear(in_features=768, out_features=768, bias=True)\n            (post_proj): Linear(in_features=768, out_features=768, bias=True)\n            (layer_norm): LayerNorm((768,), eps=1e-09, elementwise_affine=True)\n          )\n          (ffn): FunnelPositionwiseFFN(\n            (linear_1): Linear(in_features=768, out_features=3072, bias=True)\n            (activation_function): NewGELUActivation()\n            (activation_dropout): Dropout(p=0.0, inplace=False)\n            (linear_2): Linear(in_features=3072, out_features=768, bias=True)\n            (dropout): Dropout(p=0.1, inplace=False)\n            (layer_norm): LayerNorm((768,), eps=1e-09, elementwise_affine=True)\n          )\n        )\n        (3): FunnelLayer(\n          (attention): FunnelRelMultiheadAttention(\n            (hidden_dropout): Dropout(p=0.1, inplace=False)\n            (attention_dropout): Dropout(p=0.1, inplace=False)\n            (q_head): Linear(in_features=768, out_features=768, bias=False)\n            (k_head): Linear(in_features=768, out_features=768, bias=True)\n            (v_head): Linear(in_features=768, out_features=768, bias=True)\n            (post_proj): Linear(in_features=768, out_features=768, bias=True)\n            (layer_norm): LayerNorm((768,), eps=1e-09, elementwise_affine=True)\n          )\n          (ffn): FunnelPositionwiseFFN(\n            (linear_1): Linear(in_features=768, out_features=3072, bias=True)\n            (activation_function): NewGELUActivation()\n            (activation_dropout): Dropout(p=0.0, inplace=False)\n            (linear_2): Linear(in_features=3072, out_features=768, bias=True)\n            (dropout): Dropout(p=0.1, inplace=False)\n            (layer_norm): LayerNorm((768,), eps=1e-09, elementwise_affine=True)\n          )\n        )\n      )\n    )\n  )\n  (decoder): FunnelDecoder(\n    (attention_structure): FunnelAttentionStructure(\n      (sin_dropout): Dropout(p=0.1, inplace=False)\n      (cos_dropout): Dropout(p=0.1, inplace=False)\n    )\n    (layers): ModuleList(\n      (0): FunnelLayer(\n        (attention): FunnelRelMultiheadAttention(\n          (hidden_dropout): Dropout(p=0.1, inplace=False)\n          (attention_dropout): Dropout(p=0.1, inplace=False)\n          (q_head): Linear(in_features=768, out_features=768, bias=False)\n          (k_head): Linear(in_features=768, out_features=768, bias=True)\n          (v_head): Linear(in_features=768, out_features=768, bias=True)\n          (post_proj): Linear(in_features=768, out_features=768, bias=True)\n          (layer_norm): LayerNorm((768,), eps=1e-09, elementwise_affine=True)\n        )\n        (ffn): FunnelPositionwiseFFN(\n          (linear_1): Linear(in_features=768, out_features=3072, bias=True)\n          (activation_function): NewGELUActivation()\n          (activation_dropout): Dropout(p=0.0, inplace=False)\n          (linear_2): Linear(in_features=3072, out_features=768, bias=True)\n          (dropout): Dropout(p=0.1, inplace=False)\n          (layer_norm): LayerNorm((768,), eps=1e-09, elementwise_affine=True)\n        )\n      )\n      (1): FunnelLayer(\n        (attention): FunnelRelMultiheadAttention(\n          (hidden_dropout): Dropout(p=0.1, inplace=False)\n          (attention_dropout): Dropout(p=0.1, inplace=False)\n          (q_head): Linear(in_features=768, out_features=768, bias=False)\n          (k_head): Linear(in_features=768, out_features=768, bias=True)\n          (v_head): Linear(in_features=768, out_features=768, bias=True)\n          (post_proj): Linear(in_features=768, out_features=768, bias=True)\n          (layer_norm): LayerNorm((768,), eps=1e-09, elementwise_affine=True)\n        )\n        (ffn): FunnelPositionwiseFFN(\n          (linear_1): Linear(in_features=768, out_features=3072, bias=True)\n          (activation_function): NewGELUActivation()\n          (activation_dropout): Dropout(p=0.0, inplace=False)\n          (linear_2): Linear(in_features=3072, out_features=768, bias=True)\n          (dropout): Dropout(p=0.1, inplace=False)\n          (layer_norm): LayerNorm((768,), eps=1e-09, elementwise_affine=True)\n        )\n      )\n    )\n  )\n)"
     },
     "execution_count": 10,
     "metadata": {},
     "output_type": "execute_result"
    }
   ],
   "source": [
    "model = AutoModel.from_pretrained(\"funnel-transformer/small\")\n",
    "model"
   ],
   "metadata": {
    "collapsed": false,
    "pycharm": {
     "name": "#%%\n"
    }
   }
  },
  {
   "cell_type": "code",
   "execution_count": 11,
   "outputs": [
    {
     "data": {
      "text/plain": "FunnelConfig {\n  \"_name_or_path\": \"funnel-transformer/small\",\n  \"activation_dropout\": 0.0,\n  \"architectures\": [\n    \"FunnelModel\"\n  ],\n  \"attention_dropout\": 0.1,\n  \"attention_type\": \"relative_shift\",\n  \"block_repeats\": [\n    1,\n    1,\n    1\n  ],\n  \"block_sizes\": [\n    4,\n    4,\n    4\n  ],\n  \"d_head\": 64,\n  \"d_inner\": 3072,\n  \"d_model\": 768,\n  \"hidden_act\": \"gelu_new\",\n  \"hidden_dropout\": 0.1,\n  \"initializer_range\": 0.1,\n  \"initializer_std\": null,\n  \"layer_norm_eps\": 1e-09,\n  \"max_position_embeddings\": 512,\n  \"model_type\": \"funnel\",\n  \"n_head\": 12,\n  \"num_decoder_layers\": 2,\n  \"pool_q_only\": true,\n  \"pooling_type\": \"mean\",\n  \"rel_attn_type\": \"factorized\",\n  \"separate_cls\": true,\n  \"transformers_version\": \"4.17.0\",\n  \"truncate_seq\": true,\n  \"type_vocab_size\": 3,\n  \"vocab_size\": 30522\n}"
     },
     "execution_count": 11,
     "metadata": {},
     "output_type": "execute_result"
    }
   ],
   "source": [
    "model.config"
   ],
   "metadata": {
    "collapsed": false,
    "pycharm": {
     "name": "#%%\n"
    }
   }
  },
  {
   "cell_type": "code",
   "execution_count": 12,
   "outputs": [
    {
     "name": "stdout",
     "output_type": "stream",
     "text": [
      "embeddings.word_embeddings.weight\n",
      "embeddings.layer_norm.weight\n",
      "embeddings.layer_norm.bias\n",
      "encoder.blocks.0.0.attention.r_w_bias\n",
      "encoder.blocks.0.0.attention.r_r_bias\n",
      "encoder.blocks.0.0.attention.r_kernel\n",
      "encoder.blocks.0.0.attention.r_s_bias\n",
      "encoder.blocks.0.0.attention.seg_embed\n",
      "encoder.blocks.0.0.attention.q_head.weight\n",
      "encoder.blocks.0.0.attention.k_head.weight\n",
      "encoder.blocks.0.0.attention.k_head.bias\n",
      "encoder.blocks.0.0.attention.v_head.weight\n",
      "encoder.blocks.0.0.attention.v_head.bias\n",
      "encoder.blocks.0.0.attention.post_proj.weight\n",
      "encoder.blocks.0.0.attention.post_proj.bias\n",
      "encoder.blocks.0.0.attention.layer_norm.weight\n",
      "encoder.blocks.0.0.attention.layer_norm.bias\n",
      "encoder.blocks.0.0.ffn.linear_1.weight\n",
      "encoder.blocks.0.0.ffn.linear_1.bias\n",
      "encoder.blocks.0.0.ffn.linear_2.weight\n",
      "encoder.blocks.0.0.ffn.linear_2.bias\n",
      "encoder.blocks.0.0.ffn.layer_norm.weight\n",
      "encoder.blocks.0.0.ffn.layer_norm.bias\n",
      "encoder.blocks.0.1.attention.r_w_bias\n",
      "encoder.blocks.0.1.attention.r_r_bias\n",
      "encoder.blocks.0.1.attention.r_kernel\n",
      "encoder.blocks.0.1.attention.r_s_bias\n",
      "encoder.blocks.0.1.attention.seg_embed\n",
      "encoder.blocks.0.1.attention.q_head.weight\n",
      "encoder.blocks.0.1.attention.k_head.weight\n",
      "encoder.blocks.0.1.attention.k_head.bias\n",
      "encoder.blocks.0.1.attention.v_head.weight\n",
      "encoder.blocks.0.1.attention.v_head.bias\n",
      "encoder.blocks.0.1.attention.post_proj.weight\n",
      "encoder.blocks.0.1.attention.post_proj.bias\n",
      "encoder.blocks.0.1.attention.layer_norm.weight\n",
      "encoder.blocks.0.1.attention.layer_norm.bias\n",
      "encoder.blocks.0.1.ffn.linear_1.weight\n",
      "encoder.blocks.0.1.ffn.linear_1.bias\n",
      "encoder.blocks.0.1.ffn.linear_2.weight\n",
      "encoder.blocks.0.1.ffn.linear_2.bias\n",
      "encoder.blocks.0.1.ffn.layer_norm.weight\n",
      "encoder.blocks.0.1.ffn.layer_norm.bias\n",
      "encoder.blocks.0.2.attention.r_w_bias\n",
      "encoder.blocks.0.2.attention.r_r_bias\n",
      "encoder.blocks.0.2.attention.r_kernel\n",
      "encoder.blocks.0.2.attention.r_s_bias\n",
      "encoder.blocks.0.2.attention.seg_embed\n",
      "encoder.blocks.0.2.attention.q_head.weight\n",
      "encoder.blocks.0.2.attention.k_head.weight\n",
      "encoder.blocks.0.2.attention.k_head.bias\n",
      "encoder.blocks.0.2.attention.v_head.weight\n",
      "encoder.blocks.0.2.attention.v_head.bias\n",
      "encoder.blocks.0.2.attention.post_proj.weight\n",
      "encoder.blocks.0.2.attention.post_proj.bias\n",
      "encoder.blocks.0.2.attention.layer_norm.weight\n",
      "encoder.blocks.0.2.attention.layer_norm.bias\n",
      "encoder.blocks.0.2.ffn.linear_1.weight\n",
      "encoder.blocks.0.2.ffn.linear_1.bias\n",
      "encoder.blocks.0.2.ffn.linear_2.weight\n",
      "encoder.blocks.0.2.ffn.linear_2.bias\n",
      "encoder.blocks.0.2.ffn.layer_norm.weight\n",
      "encoder.blocks.0.2.ffn.layer_norm.bias\n",
      "encoder.blocks.0.3.attention.r_w_bias\n",
      "encoder.blocks.0.3.attention.r_r_bias\n",
      "encoder.blocks.0.3.attention.r_kernel\n",
      "encoder.blocks.0.3.attention.r_s_bias\n",
      "encoder.blocks.0.3.attention.seg_embed\n",
      "encoder.blocks.0.3.attention.q_head.weight\n",
      "encoder.blocks.0.3.attention.k_head.weight\n",
      "encoder.blocks.0.3.attention.k_head.bias\n",
      "encoder.blocks.0.3.attention.v_head.weight\n",
      "encoder.blocks.0.3.attention.v_head.bias\n",
      "encoder.blocks.0.3.attention.post_proj.weight\n",
      "encoder.blocks.0.3.attention.post_proj.bias\n",
      "encoder.blocks.0.3.attention.layer_norm.weight\n",
      "encoder.blocks.0.3.attention.layer_norm.bias\n",
      "encoder.blocks.0.3.ffn.linear_1.weight\n",
      "encoder.blocks.0.3.ffn.linear_1.bias\n",
      "encoder.blocks.0.3.ffn.linear_2.weight\n",
      "encoder.blocks.0.3.ffn.linear_2.bias\n",
      "encoder.blocks.0.3.ffn.layer_norm.weight\n",
      "encoder.blocks.0.3.ffn.layer_norm.bias\n",
      "encoder.blocks.1.0.attention.r_w_bias\n",
      "encoder.blocks.1.0.attention.r_r_bias\n",
      "encoder.blocks.1.0.attention.r_kernel\n",
      "encoder.blocks.1.0.attention.r_s_bias\n",
      "encoder.blocks.1.0.attention.seg_embed\n",
      "encoder.blocks.1.0.attention.q_head.weight\n",
      "encoder.blocks.1.0.attention.k_head.weight\n",
      "encoder.blocks.1.0.attention.k_head.bias\n",
      "encoder.blocks.1.0.attention.v_head.weight\n",
      "encoder.blocks.1.0.attention.v_head.bias\n",
      "encoder.blocks.1.0.attention.post_proj.weight\n",
      "encoder.blocks.1.0.attention.post_proj.bias\n",
      "encoder.blocks.1.0.attention.layer_norm.weight\n",
      "encoder.blocks.1.0.attention.layer_norm.bias\n",
      "encoder.blocks.1.0.ffn.linear_1.weight\n",
      "encoder.blocks.1.0.ffn.linear_1.bias\n",
      "encoder.blocks.1.0.ffn.linear_2.weight\n",
      "encoder.blocks.1.0.ffn.linear_2.bias\n",
      "encoder.blocks.1.0.ffn.layer_norm.weight\n",
      "encoder.blocks.1.0.ffn.layer_norm.bias\n",
      "encoder.blocks.1.1.attention.r_w_bias\n",
      "encoder.blocks.1.1.attention.r_r_bias\n",
      "encoder.blocks.1.1.attention.r_kernel\n",
      "encoder.blocks.1.1.attention.r_s_bias\n",
      "encoder.blocks.1.1.attention.seg_embed\n",
      "encoder.blocks.1.1.attention.q_head.weight\n",
      "encoder.blocks.1.1.attention.k_head.weight\n",
      "encoder.blocks.1.1.attention.k_head.bias\n",
      "encoder.blocks.1.1.attention.v_head.weight\n",
      "encoder.blocks.1.1.attention.v_head.bias\n",
      "encoder.blocks.1.1.attention.post_proj.weight\n",
      "encoder.blocks.1.1.attention.post_proj.bias\n",
      "encoder.blocks.1.1.attention.layer_norm.weight\n",
      "encoder.blocks.1.1.attention.layer_norm.bias\n",
      "encoder.blocks.1.1.ffn.linear_1.weight\n",
      "encoder.blocks.1.1.ffn.linear_1.bias\n",
      "encoder.blocks.1.1.ffn.linear_2.weight\n",
      "encoder.blocks.1.1.ffn.linear_2.bias\n",
      "encoder.blocks.1.1.ffn.layer_norm.weight\n",
      "encoder.blocks.1.1.ffn.layer_norm.bias\n",
      "encoder.blocks.1.2.attention.r_w_bias\n",
      "encoder.blocks.1.2.attention.r_r_bias\n",
      "encoder.blocks.1.2.attention.r_kernel\n",
      "encoder.blocks.1.2.attention.r_s_bias\n",
      "encoder.blocks.1.2.attention.seg_embed\n",
      "encoder.blocks.1.2.attention.q_head.weight\n",
      "encoder.blocks.1.2.attention.k_head.weight\n",
      "encoder.blocks.1.2.attention.k_head.bias\n",
      "encoder.blocks.1.2.attention.v_head.weight\n",
      "encoder.blocks.1.2.attention.v_head.bias\n",
      "encoder.blocks.1.2.attention.post_proj.weight\n",
      "encoder.blocks.1.2.attention.post_proj.bias\n",
      "encoder.blocks.1.2.attention.layer_norm.weight\n",
      "encoder.blocks.1.2.attention.layer_norm.bias\n",
      "encoder.blocks.1.2.ffn.linear_1.weight\n",
      "encoder.blocks.1.2.ffn.linear_1.bias\n",
      "encoder.blocks.1.2.ffn.linear_2.weight\n",
      "encoder.blocks.1.2.ffn.linear_2.bias\n",
      "encoder.blocks.1.2.ffn.layer_norm.weight\n",
      "encoder.blocks.1.2.ffn.layer_norm.bias\n",
      "encoder.blocks.1.3.attention.r_w_bias\n",
      "encoder.blocks.1.3.attention.r_r_bias\n",
      "encoder.blocks.1.3.attention.r_kernel\n",
      "encoder.blocks.1.3.attention.r_s_bias\n",
      "encoder.blocks.1.3.attention.seg_embed\n",
      "encoder.blocks.1.3.attention.q_head.weight\n",
      "encoder.blocks.1.3.attention.k_head.weight\n",
      "encoder.blocks.1.3.attention.k_head.bias\n",
      "encoder.blocks.1.3.attention.v_head.weight\n",
      "encoder.blocks.1.3.attention.v_head.bias\n",
      "encoder.blocks.1.3.attention.post_proj.weight\n",
      "encoder.blocks.1.3.attention.post_proj.bias\n",
      "encoder.blocks.1.3.attention.layer_norm.weight\n",
      "encoder.blocks.1.3.attention.layer_norm.bias\n",
      "encoder.blocks.1.3.ffn.linear_1.weight\n",
      "encoder.blocks.1.3.ffn.linear_1.bias\n",
      "encoder.blocks.1.3.ffn.linear_2.weight\n",
      "encoder.blocks.1.3.ffn.linear_2.bias\n",
      "encoder.blocks.1.3.ffn.layer_norm.weight\n",
      "encoder.blocks.1.3.ffn.layer_norm.bias\n",
      "encoder.blocks.2.0.attention.r_w_bias\n",
      "encoder.blocks.2.0.attention.r_r_bias\n",
      "encoder.blocks.2.0.attention.r_kernel\n",
      "encoder.blocks.2.0.attention.r_s_bias\n",
      "encoder.blocks.2.0.attention.seg_embed\n",
      "encoder.blocks.2.0.attention.q_head.weight\n",
      "encoder.blocks.2.0.attention.k_head.weight\n",
      "encoder.blocks.2.0.attention.k_head.bias\n",
      "encoder.blocks.2.0.attention.v_head.weight\n",
      "encoder.blocks.2.0.attention.v_head.bias\n",
      "encoder.blocks.2.0.attention.post_proj.weight\n",
      "encoder.blocks.2.0.attention.post_proj.bias\n",
      "encoder.blocks.2.0.attention.layer_norm.weight\n",
      "encoder.blocks.2.0.attention.layer_norm.bias\n",
      "encoder.blocks.2.0.ffn.linear_1.weight\n",
      "encoder.blocks.2.0.ffn.linear_1.bias\n",
      "encoder.blocks.2.0.ffn.linear_2.weight\n",
      "encoder.blocks.2.0.ffn.linear_2.bias\n",
      "encoder.blocks.2.0.ffn.layer_norm.weight\n",
      "encoder.blocks.2.0.ffn.layer_norm.bias\n",
      "encoder.blocks.2.1.attention.r_w_bias\n",
      "encoder.blocks.2.1.attention.r_r_bias\n",
      "encoder.blocks.2.1.attention.r_kernel\n",
      "encoder.blocks.2.1.attention.r_s_bias\n",
      "encoder.blocks.2.1.attention.seg_embed\n",
      "encoder.blocks.2.1.attention.q_head.weight\n",
      "encoder.blocks.2.1.attention.k_head.weight\n",
      "encoder.blocks.2.1.attention.k_head.bias\n",
      "encoder.blocks.2.1.attention.v_head.weight\n",
      "encoder.blocks.2.1.attention.v_head.bias\n",
      "encoder.blocks.2.1.attention.post_proj.weight\n",
      "encoder.blocks.2.1.attention.post_proj.bias\n",
      "encoder.blocks.2.1.attention.layer_norm.weight\n",
      "encoder.blocks.2.1.attention.layer_norm.bias\n",
      "encoder.blocks.2.1.ffn.linear_1.weight\n",
      "encoder.blocks.2.1.ffn.linear_1.bias\n",
      "encoder.blocks.2.1.ffn.linear_2.weight\n",
      "encoder.blocks.2.1.ffn.linear_2.bias\n",
      "encoder.blocks.2.1.ffn.layer_norm.weight\n",
      "encoder.blocks.2.1.ffn.layer_norm.bias\n",
      "encoder.blocks.2.2.attention.r_w_bias\n",
      "encoder.blocks.2.2.attention.r_r_bias\n",
      "encoder.blocks.2.2.attention.r_kernel\n",
      "encoder.blocks.2.2.attention.r_s_bias\n",
      "encoder.blocks.2.2.attention.seg_embed\n",
      "encoder.blocks.2.2.attention.q_head.weight\n",
      "encoder.blocks.2.2.attention.k_head.weight\n",
      "encoder.blocks.2.2.attention.k_head.bias\n",
      "encoder.blocks.2.2.attention.v_head.weight\n",
      "encoder.blocks.2.2.attention.v_head.bias\n",
      "encoder.blocks.2.2.attention.post_proj.weight\n",
      "encoder.blocks.2.2.attention.post_proj.bias\n",
      "encoder.blocks.2.2.attention.layer_norm.weight\n",
      "encoder.blocks.2.2.attention.layer_norm.bias\n",
      "encoder.blocks.2.2.ffn.linear_1.weight\n",
      "encoder.blocks.2.2.ffn.linear_1.bias\n",
      "encoder.blocks.2.2.ffn.linear_2.weight\n",
      "encoder.blocks.2.2.ffn.linear_2.bias\n",
      "encoder.blocks.2.2.ffn.layer_norm.weight\n",
      "encoder.blocks.2.2.ffn.layer_norm.bias\n",
      "encoder.blocks.2.3.attention.r_w_bias\n",
      "encoder.blocks.2.3.attention.r_r_bias\n",
      "encoder.blocks.2.3.attention.r_kernel\n",
      "encoder.blocks.2.3.attention.r_s_bias\n",
      "encoder.blocks.2.3.attention.seg_embed\n",
      "encoder.blocks.2.3.attention.q_head.weight\n",
      "encoder.blocks.2.3.attention.k_head.weight\n",
      "encoder.blocks.2.3.attention.k_head.bias\n",
      "encoder.blocks.2.3.attention.v_head.weight\n",
      "encoder.blocks.2.3.attention.v_head.bias\n",
      "encoder.blocks.2.3.attention.post_proj.weight\n",
      "encoder.blocks.2.3.attention.post_proj.bias\n",
      "encoder.blocks.2.3.attention.layer_norm.weight\n",
      "encoder.blocks.2.3.attention.layer_norm.bias\n",
      "encoder.blocks.2.3.ffn.linear_1.weight\n",
      "encoder.blocks.2.3.ffn.linear_1.bias\n",
      "encoder.blocks.2.3.ffn.linear_2.weight\n",
      "encoder.blocks.2.3.ffn.linear_2.bias\n",
      "encoder.blocks.2.3.ffn.layer_norm.weight\n",
      "encoder.blocks.2.3.ffn.layer_norm.bias\n",
      "decoder.layers.0.attention.r_w_bias\n",
      "decoder.layers.0.attention.r_r_bias\n",
      "decoder.layers.0.attention.r_kernel\n",
      "decoder.layers.0.attention.r_s_bias\n",
      "decoder.layers.0.attention.seg_embed\n",
      "decoder.layers.0.attention.q_head.weight\n",
      "decoder.layers.0.attention.k_head.weight\n",
      "decoder.layers.0.attention.k_head.bias\n",
      "decoder.layers.0.attention.v_head.weight\n",
      "decoder.layers.0.attention.v_head.bias\n",
      "decoder.layers.0.attention.post_proj.weight\n",
      "decoder.layers.0.attention.post_proj.bias\n",
      "decoder.layers.0.attention.layer_norm.weight\n",
      "decoder.layers.0.attention.layer_norm.bias\n",
      "decoder.layers.0.ffn.linear_1.weight\n",
      "decoder.layers.0.ffn.linear_1.bias\n",
      "decoder.layers.0.ffn.linear_2.weight\n",
      "decoder.layers.0.ffn.linear_2.bias\n",
      "decoder.layers.0.ffn.layer_norm.weight\n",
      "decoder.layers.0.ffn.layer_norm.bias\n",
      "decoder.layers.1.attention.r_w_bias\n",
      "decoder.layers.1.attention.r_r_bias\n",
      "decoder.layers.1.attention.r_kernel\n",
      "decoder.layers.1.attention.r_s_bias\n",
      "decoder.layers.1.attention.seg_embed\n",
      "decoder.layers.1.attention.q_head.weight\n",
      "decoder.layers.1.attention.k_head.weight\n",
      "decoder.layers.1.attention.k_head.bias\n",
      "decoder.layers.1.attention.v_head.weight\n",
      "decoder.layers.1.attention.v_head.bias\n",
      "decoder.layers.1.attention.post_proj.weight\n",
      "decoder.layers.1.attention.post_proj.bias\n",
      "decoder.layers.1.attention.layer_norm.weight\n",
      "decoder.layers.1.attention.layer_norm.bias\n",
      "decoder.layers.1.ffn.linear_1.weight\n",
      "decoder.layers.1.ffn.linear_1.bias\n",
      "decoder.layers.1.ffn.linear_2.weight\n",
      "decoder.layers.1.ffn.linear_2.bias\n",
      "decoder.layers.1.ffn.layer_norm.weight\n",
      "decoder.layers.1.ffn.layer_norm.bias\n"
     ]
    }
   ],
   "source": [
    "for name, para in model.named_parameters():\n",
    "    print(name)"
   ],
   "metadata": {
    "collapsed": false,
    "pycharm": {
     "name": "#%%\n"
    }
   }
  },
  {
   "cell_type": "code",
   "execution_count": 13,
   "outputs": [
    {
     "name": "stdout",
     "output_type": "stream",
     "text": [
      "{'input_ids': tensor([[  101, 10938,  2121,  1011,  2241,  4275,  2024,  4039,  2000,  2832,\n",
      "          2146, 10071,  2349,  2000,  2037,  2969,  1011,  3086,  3169,  1010,\n",
      "          2029,  9539, 17718, 23671,  3973,  2007,  1996,  5537,  3091,  1012,\n",
      "          2000,  4769,  2023, 22718,  1010,  2057,  8970,  1996,  2146, 14192,\n",
      "          2121,  2007,  2019,  3086,  7337,  2008,  9539,  7399,  2135,  2007,\n",
      "          5537,  3091,  1010,  2437,  2009,  3733,  2000,  2832,  5491,  1997,\n",
      "          5190,  1997, 19204,  2015,  2030,  2936,  1012,  2146, 14192,  2121,\n",
      "          1521,  1055,  3086,  7337,  2003,  1037,  4530,  1011,  1999,  6110,\n",
      "          2005,  1996,  3115,  2969,  1011,  3086,  1998, 13585,  1037,  2334,\n",
      "          3332,  2098,  3086,  2007,  1037,  4708, 12774,  3795,  3086,  1012,\n",
      "          2206,  3188,  2147,  2006,  2146,  1011,  5537, 19081,  1010,  2057,\n",
      "         16157,  2146, 14192,  2121,  2006,  2839,  1011,  2504,  2653, 11643,\n",
      "          1998,  6162,  2110,  1011,  1997,  1011,  1996,  1011,  2396,  3463,\n",
      "          2006,  3793,  2620,  1998,  4372,  9148,  2243,  2620,  1012,  1999,\n",
      "          5688,  2000,  2087,  3188,  2147,  1010,  2057,  2036,  3653, 23654,\n",
      "          2146, 14192,  2121,  1998,  2986,  8525,  2638,  2009,  2006,  1037,\n",
      "          3528,  1997, 13248,  8518,  1012,  2256,  3653, 23654,  2098,  2146,\n",
      "         14192,  2121, 10862,  2041,  4842, 22694, 23455,  2006,  2146,  6254,\n",
      "          8518,  1998,  4520,  2047,  2110,  1011,  1997,  1011,  1996,  1011,\n",
      "          2396,  3463,  2006, 15536,  3211,  1011,  6154,  1998, 13012,  9035,\n",
      "         19062,  1012,   102]]), 'token_type_ids': tensor([[2, 0, 0, 0, 0, 0, 0, 0, 0, 0, 0, 0, 0, 0, 0, 0, 0, 0, 0, 0, 0, 0, 0, 0,\n",
      "         0, 0, 0, 0, 0, 0, 0, 0, 0, 0, 0, 0, 0, 0, 0, 0, 0, 0, 0, 0, 0, 0, 0, 0,\n",
      "         0, 0, 0, 0, 0, 0, 0, 0, 0, 0, 0, 0, 0, 0, 0, 0, 0, 0, 0, 0, 0, 0, 0, 0,\n",
      "         0, 0, 0, 0, 0, 0, 0, 0, 0, 0, 0, 0, 0, 0, 0, 0, 0, 0, 0, 0, 0, 0, 0, 0,\n",
      "         0, 0, 0, 0, 0, 0, 0, 0, 0, 0, 0, 0, 0, 0, 0, 0, 0, 0, 0, 0, 0, 0, 0, 0,\n",
      "         0, 0, 0, 0, 0, 0, 0, 0, 0, 0, 0, 0, 0, 0, 0, 0, 0, 0, 0, 0, 0, 0, 0, 0,\n",
      "         0, 0, 0, 0, 0, 0, 0, 0, 0, 0, 0, 0, 0, 0, 0, 0, 0, 0, 0, 0, 0, 0, 0, 0,\n",
      "         0, 0, 0, 0, 0, 0, 0, 0, 0, 0, 0, 0, 0, 0, 0, 0, 0, 0, 0, 0, 0, 0, 0, 0,\n",
      "         0, 0, 0, 0, 0, 0, 0, 0, 0, 0, 0]]), 'attention_mask': tensor([[1, 1, 1, 1, 1, 1, 1, 1, 1, 1, 1, 1, 1, 1, 1, 1, 1, 1, 1, 1, 1, 1, 1, 1,\n",
      "         1, 1, 1, 1, 1, 1, 1, 1, 1, 1, 1, 1, 1, 1, 1, 1, 1, 1, 1, 1, 1, 1, 1, 1,\n",
      "         1, 1, 1, 1, 1, 1, 1, 1, 1, 1, 1, 1, 1, 1, 1, 1, 1, 1, 1, 1, 1, 1, 1, 1,\n",
      "         1, 1, 1, 1, 1, 1, 1, 1, 1, 1, 1, 1, 1, 1, 1, 1, 1, 1, 1, 1, 1, 1, 1, 1,\n",
      "         1, 1, 1, 1, 1, 1, 1, 1, 1, 1, 1, 1, 1, 1, 1, 1, 1, 1, 1, 1, 1, 1, 1, 1,\n",
      "         1, 1, 1, 1, 1, 1, 1, 1, 1, 1, 1, 1, 1, 1, 1, 1, 1, 1, 1, 1, 1, 1, 1, 1,\n",
      "         1, 1, 1, 1, 1, 1, 1, 1, 1, 1, 1, 1, 1, 1, 1, 1, 1, 1, 1, 1, 1, 1, 1, 1,\n",
      "         1, 1, 1, 1, 1, 1, 1, 1, 1, 1, 1, 1, 1, 1, 1, 1, 1, 1, 1, 1, 1, 1, 1, 1,\n",
      "         1, 1, 1, 1, 1, 1, 1, 1, 1, 1, 1]])}\n",
      "dict_keys(['input_ids', 'token_type_ids', 'attention_mask'])\n",
      "torch.Size([1, 203])\n"
     ]
    }
   ],
   "source": [
    "text = \"\"\"Transformer-based models are unable to process long sequences due to their self-attention operation, which scales quadratically with the sequence length.\n",
    "To address this limitation, we introduce the Longformer with an attention mechanism that scales linearly with sequence length, making it easy to process documents of thousands of tokens or longer.\n",
    "Longformer’s attention mechanism is a drop-in replacement for the standard self-attention and combines a local windowed attention with a task motivated global attention.\n",
    "Following prior work on long-sequence transformers, we evaluate Longformer on character-level language modeling and achieve state-of-the-art results on text8 and enwik8.\n",
    "In contrast to most prior work, we also pretrain Longformer and finetune it on a variety of downstream tasks.\n",
    "Our pretrained Longformer consistently outperforms RoBERTa on long document tasks and sets new state-of-the-art results on Wiki-Hop and TriviaQA.\"\"\"\n",
    "text = text\n",
    "encoded_input = tokenizer(text, return_tensors='pt')\n",
    "print(encoded_input)\n",
    "print(encoded_input.keys())\n",
    "print(encoded_input['input_ids'].shape)"
   ],
   "metadata": {
    "collapsed": false,
    "pycharm": {
     "name": "#%%\n"
    }
   }
  },
  {
   "cell_type": "code",
   "execution_count": 14,
   "outputs": [
    {
     "name": "stdout",
     "output_type": "stream",
     "text": [
      "tensor([[[-0.0750, -0.1219,  0.9694,  ..., -0.5367,  0.7464, -0.6066],\n",
      "         [ 0.2493, -0.3522,  0.3817,  ..., -0.2195,  0.5420,  0.1851],\n",
      "         [ 0.2778, -0.0732,  0.5204,  ..., -0.3548, -0.1327,  0.1113],\n",
      "         ...,\n",
      "         [-0.0664, -0.0991,  0.1985,  ...,  0.2710,  0.2138,  0.1417],\n",
      "         [-0.2770,  0.0618, -0.1120,  ...,  0.4022,  0.6820, -0.6969],\n",
      "         [-0.1042, -0.4020, -0.3655,  ...,  0.4242,  0.9254, -0.1233]]],\n",
      "       grad_fn=<NativeLayerNormBackward0>)\n",
      "torch.Size([1, 203, 768])\n"
     ]
    }
   ],
   "source": [
    "result = model(**encoded_input)\n",
    "print(result.last_hidden_state)\n",
    "print(result.last_hidden_state.shape)  # [1, 203, 768](限制input_ids最大长度为512)"
   ],
   "metadata": {
    "collapsed": false,
    "pycharm": {
     "name": "#%%\n"
    }
   }
  },
  {
   "cell_type": "code",
   "execution_count": 14,
   "outputs": [],
   "source": [],
   "metadata": {
    "collapsed": false,
    "pycharm": {
     "name": "#%%\n"
    }
   }
  }
 ],
 "metadata": {
  "kernelspec": {
   "display_name": "Python 3",
   "language": "python",
   "name": "python3"
  },
  "language_info": {
   "codemirror_mode": {
    "name": "ipython",
    "version": 2
   },
   "file_extension": ".py",
   "mimetype": "text/x-python",
   "name": "python",
   "nbconvert_exporter": "python",
   "pygments_lexer": "ipython2",
   "version": "2.7.6"
  }
 },
 "nbformat": 4,
 "nbformat_minor": 0
}