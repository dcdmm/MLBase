{
 "cells": [
  {
   "cell_type": "code",
   "execution_count": 7,
   "metadata": {
    "pycharm": {
     "name": "#%%\n"
    }
   },
   "outputs": [],
   "source": [
    "import torch.nn as nn\n",
    "import torch.optim as optim\n",
    "import numpy as np\n",
    "import torch.utils.data as Data\n",
    "import torch"
   ]
  },
  {
   "cell_type": "code",
   "execution_count": 8,
   "metadata": {
    "collapsed": true
   },
   "outputs": [],
   "source": [
    "# 手写数字训练数据集\n",
    "mnist = np.load(\"../../../../Other/datasets/NumPy/mnist.npz\")\n",
    "X_train, y_train, X_test, y_test = torch.unsqueeze(torch.tensor(mnist['x_train']), 1).to(\n",
    "    dtype=torch.float32), torch.tensor(mnist['y_train']).to(dtype=torch.long), torch.unsqueeze(\n",
    "    torch.tensor(mnist['x_test']), 1).to(dtype=torch.float32), torch.tensor(mnist['y_test']).to(dtype=torch.long)"
   ]
  },
  {
   "cell_type": "code",
   "execution_count": 9,
   "outputs": [],
   "source": [
    "batch_size = 200\n",
    "train_data = Data.TensorDataset(X_train, y_train)\n",
    "train_loader = Data.DataLoader(dataset=train_data,\n",
    "                               batch_size=batch_size,\n",
    "                               shuffle=True)\n",
    "train_X = Data.DataLoader(X_train, batch_size=batch_size)\n",
    "test_X = Data.DataLoader(X_test, batch_size=batch_size)\n"
   ],
   "metadata": {
    "collapsed": false,
    "pycharm": {
     "name": "#%%\n"
    }
   }
  },
  {
   "cell_type": "code",
   "execution_count": 10,
   "metadata": {
    "pycharm": {
     "name": "#%%\n"
    }
   },
   "outputs": [],
   "source": [
    "class LeNet(nn.Module):\n",
    "    def __init__(self):\n",
    "        super(LeNet, self).__init__()\n",
    "        self.featrues = nn.Sequential(  # 内部实现了forward函数;各模块顺序执行\n",
    "            nn.Conv2d(1, 6, 3),\n",
    "            nn.ReLU(),\n",
    "            nn.MaxPool2d(2, 2),\n",
    "            nn.Conv2d(6, 16, 3),\n",
    "            nn.ReLU(),\n",
    "            nn.MaxPool2d(2, 2)\n",
    "        )\n",
    "        self.classifier = nn.Sequential(\n",
    "            nn.Linear(400, 120),\n",
    "            nn.ReLU(),\n",
    "            nn.Linear(1 | 20, 84),\n",
    "            nn.ReLU(),\n",
    "            nn.Linear(84, 10),  # 10分类问题\n",
    "        )\n",
    "\n",
    "    def forward(self, x):\n",
    "        x = self.featrues(x)\n",
    "        x = x.reshape(x.size()[0], -1)\n",
    "        x = self.classifier(x)\n",
    "        return x"
   ]
  },
  {
   "cell_type": "code",
   "execution_count": 11,
   "metadata": {
    "pycharm": {
     "name": "#%%\n"
    }
   },
   "outputs": [],
   "source": [
    "learning_rate = 0.01\n",
    "criteon = nn.CrossEntropyLoss()  # 定义损失函数为交叉熵\n",
    "device = torch.device(\"cuda\" if torch.cuda.is_available() else \"cpu\")\n",
    "net = LeNet()\n",
    "lenet = net.to(device)  # 模型设备转移必须在优化器定义前执行\n",
    "\n",
    "# RMSprop优化器\n",
    "optimizer = optim.RMSprop(net.parameters(),\n",
    "                          lr=learning_rate,  # 学习率\n",
    "                          momentum=0.4,  # 动量参数\\alpha;默认momentum=0\n",
    "                          alpha=0.9,  # 衰减速率\\rho\n",
    "                          eps=1e-10)  # 分母中的小常数\\delta"
   ]
  },
  {
   "cell_type": "code",
   "execution_count": 12,
   "outputs": [],
   "source": [
    "from torch_model.train_evaluate import Train_Evaluate\n",
    "\n",
    "t_and_v = Train_Evaluate(model=lenet, optimizer=optimizer, criterion=criteon, epochs=5)"
   ],
   "metadata": {
    "collapsed": false,
    "pycharm": {
     "name": "#%%\n"
    }
   }
  },
  {
   "cell_type": "code",
   "execution_count": 13,
   "outputs": [
    {
     "name": "stderr",
     "output_type": "stream",
     "text": [
      "C:\\Users\\duanm\\anaconda3\\lib\\site-packages\\torch\\nn\\functional.py:718: UserWarning: Named tensors and all their associated APIs are an experimental feature and subject to change. Please do not use them for anything important until they are released as stable. (Triggered internally at  ..\\c10/core/TensorImpl.h:1156.)\n",
      "  return torch.max_pool2d(input, kernel_size, stride, padding, dilation, ceil_mode)\n"
     ]
    },
    {
     "name": "stdout",
     "output_type": "stream",
     "text": [
      "Train Epoch: 0  [0    /60000 (0  %)]\tLoss: 4.365464\n",
      "Train Epoch: 0  [2000 /60000 (3  %)]\tLoss: 2.072350\n",
      "Train Epoch: 0  [4000 /60000 (7  %)]\tLoss: 1.396170\n",
      "Train Epoch: 0  [6000 /60000 (10 %)]\tLoss: 1.039486\n",
      "Train Epoch: 0  [8000 /60000 (13 %)]\tLoss: 0.685643\n",
      "Train Epoch: 0  [10000/60000 (17 %)]\tLoss: 0.427301\n",
      "Train Epoch: 0  [12000/60000 (20 %)]\tLoss: 0.321460\n",
      "Train Epoch: 0  [14000/60000 (23 %)]\tLoss: 0.422549\n",
      "Train Epoch: 0  [16000/60000 (27 %)]\tLoss: 0.354053\n",
      "Train Epoch: 0  [18000/60000 (30 %)]\tLoss: 0.242958\n",
      "Train Epoch: 0  [20000/60000 (33 %)]\tLoss: 0.212399\n",
      "Train Epoch: 0  [22000/60000 (37 %)]\tLoss: 0.130530\n",
      "Train Epoch: 0  [24000/60000 (40 %)]\tLoss: 0.212586\n",
      "Train Epoch: 0  [26000/60000 (43 %)]\tLoss: 0.319421\n",
      "Train Epoch: 0  [28000/60000 (47 %)]\tLoss: 0.181385\n",
      "Train Epoch: 0  [30000/60000 (50 %)]\tLoss: 0.151452\n",
      "Train Epoch: 0  [32000/60000 (53 %)]\tLoss: 0.270407\n",
      "Train Epoch: 0  [34000/60000 (57 %)]\tLoss: 0.073022\n",
      "Train Epoch: 0  [36000/60000 (60 %)]\tLoss: 0.812332\n",
      "Train Epoch: 0  [38000/60000 (63 %)]\tLoss: 0.294069\n",
      "Train Epoch: 0  [40000/60000 (67 %)]\tLoss: 0.335539\n",
      "Train Epoch: 0  [42000/60000 (70 %)]\tLoss: 0.126292\n",
      "Train Epoch: 0  [44000/60000 (73 %)]\tLoss: 0.096590\n",
      "Train Epoch: 0  [46000/60000 (77 %)]\tLoss: 0.297046\n",
      "Train Epoch: 0  [48000/60000 (80 %)]\tLoss: 0.080615\n",
      "Train Epoch: 0  [50000/60000 (83 %)]\tLoss: 0.097387\n",
      "Train Epoch: 0  [52000/60000 (87 %)]\tLoss: 0.260616\n",
      "Train Epoch: 0  [54000/60000 (90 %)]\tLoss: 0.363451\n",
      "Train Epoch: 0  [56000/60000 (93 %)]\tLoss: 0.345110\n",
      "Train Epoch: 0  [58000/60000 (97 %)]\tLoss: 0.101236\n",
      "Train Epoch: 0  [60000/60000 (100%)]\tLoss: 0.252325\n",
      "----------------------------------------------------------------------------------------------------\n",
      "Train Epoch: 1  [0    /60000 (0  %)]\tLoss: 0.263059\n",
      "Train Epoch: 1  [2000 /60000 (3  %)]\tLoss: 0.117246\n",
      "Train Epoch: 1  [4000 /60000 (7  %)]\tLoss: 0.173457\n",
      "Train Epoch: 1  [6000 /60000 (10 %)]\tLoss: 0.080890\n",
      "Train Epoch: 1  [8000 /60000 (13 %)]\tLoss: 0.637674\n",
      "Train Epoch: 1  [10000/60000 (17 %)]\tLoss: 0.185061\n",
      "Train Epoch: 1  [12000/60000 (20 %)]\tLoss: 0.117761\n",
      "Train Epoch: 1  [14000/60000 (23 %)]\tLoss: 0.225967\n",
      "Train Epoch: 1  [16000/60000 (27 %)]\tLoss: 0.143028\n",
      "Train Epoch: 1  [18000/60000 (30 %)]\tLoss: 0.162643\n",
      "Train Epoch: 1  [20000/60000 (33 %)]\tLoss: 0.272094\n",
      "Train Epoch: 1  [22000/60000 (37 %)]\tLoss: 0.271275\n",
      "Train Epoch: 1  [24000/60000 (40 %)]\tLoss: 0.144935\n",
      "Train Epoch: 1  [26000/60000 (43 %)]\tLoss: 0.354207\n",
      "Train Epoch: 1  [28000/60000 (47 %)]\tLoss: 0.252118\n",
      "Train Epoch: 1  [30000/60000 (50 %)]\tLoss: 0.235903\n",
      "Train Epoch: 1  [32000/60000 (53 %)]\tLoss: 0.196349\n",
      "Train Epoch: 1  [34000/60000 (57 %)]\tLoss: 0.192630\n",
      "Train Epoch: 1  [36000/60000 (60 %)]\tLoss: 0.184301\n",
      "Train Epoch: 1  [38000/60000 (63 %)]\tLoss: 0.108595\n",
      "Train Epoch: 1  [40000/60000 (67 %)]\tLoss: 0.171523\n",
      "Train Epoch: 1  [42000/60000 (70 %)]\tLoss: 0.286548\n",
      "Train Epoch: 1  [44000/60000 (73 %)]\tLoss: 0.115403\n",
      "Train Epoch: 1  [46000/60000 (77 %)]\tLoss: 0.217960\n",
      "Train Epoch: 1  [48000/60000 (80 %)]\tLoss: 0.210266\n",
      "Train Epoch: 1  [50000/60000 (83 %)]\tLoss: 0.158972\n",
      "Train Epoch: 1  [52000/60000 (87 %)]\tLoss: 0.326283\n",
      "Train Epoch: 1  [54000/60000 (90 %)]\tLoss: 0.177890\n",
      "Train Epoch: 1  [56000/60000 (93 %)]\tLoss: 0.082621\n",
      "Train Epoch: 1  [58000/60000 (97 %)]\tLoss: 0.217545\n",
      "Train Epoch: 1  [60000/60000 (100%)]\tLoss: 0.063245\n",
      "----------------------------------------------------------------------------------------------------\n",
      "Train Epoch: 2  [0    /60000 (0  %)]\tLoss: 0.186537\n",
      "Train Epoch: 2  [2000 /60000 (3  %)]\tLoss: 0.081765\n",
      "Train Epoch: 2  [4000 /60000 (7  %)]\tLoss: 0.150665\n",
      "Train Epoch: 2  [6000 /60000 (10 %)]\tLoss: 0.177583\n",
      "Train Epoch: 2  [8000 /60000 (13 %)]\tLoss: 0.158759\n",
      "Train Epoch: 2  [10000/60000 (17 %)]\tLoss: 0.270973\n",
      "Train Epoch: 2  [12000/60000 (20 %)]\tLoss: 0.201756\n",
      "Train Epoch: 2  [14000/60000 (23 %)]\tLoss: 0.286204\n",
      "Train Epoch: 2  [16000/60000 (27 %)]\tLoss: 0.229975\n",
      "Train Epoch: 2  [18000/60000 (30 %)]\tLoss: 0.121622\n",
      "Train Epoch: 2  [20000/60000 (33 %)]\tLoss: 0.173400\n",
      "Train Epoch: 2  [22000/60000 (37 %)]\tLoss: 0.237748\n",
      "Train Epoch: 2  [24000/60000 (40 %)]\tLoss: 0.271747\n",
      "Train Epoch: 2  [26000/60000 (43 %)]\tLoss: 0.264129\n",
      "Train Epoch: 2  [28000/60000 (47 %)]\tLoss: 0.125414\n",
      "Train Epoch: 2  [30000/60000 (50 %)]\tLoss: 0.238133\n",
      "Train Epoch: 2  [32000/60000 (53 %)]\tLoss: 0.162337\n",
      "Train Epoch: 2  [34000/60000 (57 %)]\tLoss: 0.169354\n",
      "Train Epoch: 2  [36000/60000 (60 %)]\tLoss: 0.181098\n",
      "Train Epoch: 2  [38000/60000 (63 %)]\tLoss: 0.112875\n",
      "Train Epoch: 2  [40000/60000 (67 %)]\tLoss: 0.138146\n",
      "Train Epoch: 2  [42000/60000 (70 %)]\tLoss: 0.240415\n",
      "Train Epoch: 2  [44000/60000 (73 %)]\tLoss: 0.135296\n",
      "Train Epoch: 2  [46000/60000 (77 %)]\tLoss: 0.488344\n",
      "Train Epoch: 2  [48000/60000 (80 %)]\tLoss: 0.419074\n",
      "Train Epoch: 2  [50000/60000 (83 %)]\tLoss: 0.189486\n",
      "Train Epoch: 2  [52000/60000 (87 %)]\tLoss: 0.240023\n",
      "Train Epoch: 2  [54000/60000 (90 %)]\tLoss: 0.163111\n",
      "Train Epoch: 2  [56000/60000 (93 %)]\tLoss: 0.207250\n",
      "Train Epoch: 2  [58000/60000 (97 %)]\tLoss: 0.242111\n",
      "Train Epoch: 2  [60000/60000 (100%)]\tLoss: 0.344985\n",
      "----------------------------------------------------------------------------------------------------\n",
      "Train Epoch: 3  [0    /60000 (0  %)]\tLoss: 0.142513\n",
      "Train Epoch: 3  [2000 /60000 (3  %)]\tLoss: 0.494325\n",
      "Train Epoch: 3  [4000 /60000 (7  %)]\tLoss: 0.096065\n",
      "Train Epoch: 3  [6000 /60000 (10 %)]\tLoss: 0.218476\n",
      "Train Epoch: 3  [8000 /60000 (13 %)]\tLoss: 0.117506\n",
      "Train Epoch: 3  [10000/60000 (17 %)]\tLoss: 0.238108\n",
      "Train Epoch: 3  [12000/60000 (20 %)]\tLoss: 0.144848\n",
      "Train Epoch: 3  [14000/60000 (23 %)]\tLoss: 0.102663\n",
      "Train Epoch: 3  [16000/60000 (27 %)]\tLoss: 0.192504\n",
      "Train Epoch: 3  [18000/60000 (30 %)]\tLoss: 0.056256\n",
      "Train Epoch: 3  [20000/60000 (33 %)]\tLoss: 0.213541\n",
      "Train Epoch: 3  [22000/60000 (37 %)]\tLoss: 0.053212\n",
      "Train Epoch: 3  [24000/60000 (40 %)]\tLoss: 0.205691\n",
      "Train Epoch: 3  [26000/60000 (43 %)]\tLoss: 0.101078\n",
      "Train Epoch: 3  [28000/60000 (47 %)]\tLoss: 0.640967\n",
      "Train Epoch: 3  [30000/60000 (50 %)]\tLoss: 0.356178\n",
      "Train Epoch: 3  [32000/60000 (53 %)]\tLoss: 0.288753\n",
      "Train Epoch: 3  [34000/60000 (57 %)]\tLoss: 0.124462\n",
      "Train Epoch: 3  [36000/60000 (60 %)]\tLoss: 0.181454\n",
      "Train Epoch: 3  [38000/60000 (63 %)]\tLoss: 0.188648\n",
      "Train Epoch: 3  [40000/60000 (67 %)]\tLoss: 0.114208\n",
      "Train Epoch: 3  [42000/60000 (70 %)]\tLoss: 0.279692\n",
      "Train Epoch: 3  [44000/60000 (73 %)]\tLoss: 0.190181\n",
      "Train Epoch: 3  [46000/60000 (77 %)]\tLoss: 0.156340\n",
      "Train Epoch: 3  [48000/60000 (80 %)]\tLoss: 0.243347\n",
      "Train Epoch: 3  [50000/60000 (83 %)]\tLoss: 0.089783\n",
      "Train Epoch: 3  [52000/60000 (87 %)]\tLoss: 0.266874\n",
      "Train Epoch: 3  [54000/60000 (90 %)]\tLoss: 0.235575\n",
      "Train Epoch: 3  [56000/60000 (93 %)]\tLoss: 0.136526\n",
      "Train Epoch: 3  [58000/60000 (97 %)]\tLoss: 0.146525\n",
      "Train Epoch: 3  [60000/60000 (100%)]\tLoss: 0.142951\n",
      "----------------------------------------------------------------------------------------------------\n",
      "Train Epoch: 4  [0    /60000 (0  %)]\tLoss: 0.131447\n",
      "Train Epoch: 4  [2000 /60000 (3  %)]\tLoss: 0.339928\n",
      "Train Epoch: 4  [4000 /60000 (7  %)]\tLoss: 0.293457\n",
      "Train Epoch: 4  [6000 /60000 (10 %)]\tLoss: 0.112993\n",
      "Train Epoch: 4  [8000 /60000 (13 %)]\tLoss: 0.111439\n",
      "Train Epoch: 4  [10000/60000 (17 %)]\tLoss: 0.947274\n",
      "Train Epoch: 4  [12000/60000 (20 %)]\tLoss: 0.187994\n",
      "Train Epoch: 4  [14000/60000 (23 %)]\tLoss: 0.236606\n",
      "Train Epoch: 4  [16000/60000 (27 %)]\tLoss: 0.183343\n",
      "Train Epoch: 4  [18000/60000 (30 %)]\tLoss: 0.204186\n",
      "Train Epoch: 4  [20000/60000 (33 %)]\tLoss: 0.168597\n",
      "Train Epoch: 4  [22000/60000 (37 %)]\tLoss: 0.129073\n",
      "Train Epoch: 4  [24000/60000 (40 %)]\tLoss: 0.115761\n",
      "Train Epoch: 4  [26000/60000 (43 %)]\tLoss: 0.143710\n",
      "Train Epoch: 4  [28000/60000 (47 %)]\tLoss: 0.338727\n",
      "Train Epoch: 4  [30000/60000 (50 %)]\tLoss: 0.165217\n",
      "Train Epoch: 4  [32000/60000 (53 %)]\tLoss: 0.103036\n",
      "Train Epoch: 4  [34000/60000 (57 %)]\tLoss: 0.126167\n",
      "Train Epoch: 4  [36000/60000 (60 %)]\tLoss: 0.121395\n",
      "Train Epoch: 4  [38000/60000 (63 %)]\tLoss: 0.028973\n",
      "Train Epoch: 4  [40000/60000 (67 %)]\tLoss: 0.238397\n",
      "Train Epoch: 4  [42000/60000 (70 %)]\tLoss: 0.156317\n",
      "Train Epoch: 4  [44000/60000 (73 %)]\tLoss: 0.127071\n",
      "Train Epoch: 4  [46000/60000 (77 %)]\tLoss: 0.260868\n",
      "Train Epoch: 4  [48000/60000 (80 %)]\tLoss: 0.118036\n",
      "Train Epoch: 4  [50000/60000 (83 %)]\tLoss: 0.073010\n",
      "Train Epoch: 4  [52000/60000 (87 %)]\tLoss: 0.301915\n",
      "Train Epoch: 4  [54000/60000 (90 %)]\tLoss: 0.255731\n",
      "Train Epoch: 4  [56000/60000 (93 %)]\tLoss: 0.327043\n",
      "Train Epoch: 4  [58000/60000 (97 %)]\tLoss: 0.248054\n",
      "Train Epoch: 4  [60000/60000 (100%)]\tLoss: 0.308530\n",
      "----------------------------------------------------------------------------------------------------\n"
     ]
    },
    {
     "data": {
      "text/plain": "[[0.15389645099639893, 0.14835131168365479],\n [0.2205963283777237, 0.22990746796131134],\n [0.15674889087677002, 0.16658225655555725],\n [0.20267657935619354, 0.2127511203289032],\n [0.14680975675582886, 0.17555399239063263]]"
     },
     "execution_count": 13,
     "metadata": {},
     "output_type": "execute_result"
    }
   ],
   "source": [
    "metric_reslut = t_and_v.train_eval(train_loader=train_loader, valid_sets=[(train_X, y_train), (test_X, y_test)])\n",
    "metric_reslut  # 每一轮验证数据集的损失值"
   ],
   "metadata": {
    "collapsed": false,
    "pycharm": {
     "name": "#%%\n"
    }
   }
  },
  {
   "cell_type": "code",
   "execution_count": null,
   "outputs": [],
   "source": [],
   "metadata": {
    "collapsed": false,
    "pycharm": {
     "name": "#%%\n"
    }
   }
  }
 ],
 "metadata": {
  "kernelspec": {
   "display_name": "Python 3",
   "language": "python",
   "name": "python3"
  },
  "language_info": {
   "codemirror_mode": {
    "name": "ipython",
    "version": 3
   },
   "file_extension": ".py",
   "mimetype": "text/x-python",
   "name": "python",
   "nbconvert_exporter": "python",
   "pygments_lexer": "ipython3",
   "version": "3.7.7"
  },
  "toc": {
   "base_numbering": 1,
   "nav_menu": {},
   "number_sections": true,
   "sideBar": true,
   "skip_h1_title": false,
   "title_cell": "Table of Contents",
   "title_sidebar": "Contents",
   "toc_cell": false,
   "toc_position": {},
   "toc_section_display": true,
   "toc_window_display": false
  }
 },
 "nbformat": 4,
 "nbformat_minor": 1
}