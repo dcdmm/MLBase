{
 "cells": [
  {
   "cell_type": "markdown",
   "metadata": {
    "collapsed": true,
    "pycharm": {
     "name": "#%% md\n"
    }
   },
   "source": [
    "<font color='red' size=4>矩阵函数的梯度矩阵是其Jacobian矩阵的转置</font>\n",
    "\n",
    "$$ \\nabla_{\\mathbf{x}}f(\\mathbf{x})  = \\frac{\\partial f(\\mathbf{x})}{\\partial \\mathbf{x}} = \\Big [\\frac{\\partial f(\\mathbf{x})}{\\partial x_1}, \\dots, \\frac{\\partial f(\\mathbf{x})}{\\partial x_m} \\Big]^T  $$       \n",
    "\n",
    "$$ \\nabla_X f(X) = \\frac{\\partial f(X)}{\\partial X} = $$\n",
    "\\begin{bmatrix}\n",
    "\\frac{\\partial f(X)}{\\partial x_{11}} & \\dots  & \\frac{\\partial f(X)}{\\partial x_{1n}} \\\\\n",
    "\\vdots                             & \\ddots & \\vdots \\\\\n",
    "\\frac{\\partial f(X)}{\\partial x_{m1}} & \\dots  & \\frac{\\partial f(X)}{\\partial x_{mn}} \\\\\n",
    "\\end{bmatrix}\n",
    "\n",
    "$$ \\nabla_X F(X) = (D_X F(X))^T $$"
   ]
  },
  {
   "cell_type": "code",
   "execution_count": 1,
   "outputs": [
    {
     "data": {
      "text/plain": "Matrix([\n[cos(phi), -rho*sin(phi)],\n[sin(phi),  rho*cos(phi)],\n[   2*rho,             0]])",
      "text/latex": "$\\displaystyle \\left[\\begin{matrix}\\cos{\\left(\\phi \\right)} & - \\rho \\sin{\\left(\\phi \\right)}\\\\\\sin{\\left(\\phi \\right)} & \\rho \\cos{\\left(\\phi \\right)}\\\\2 \\rho & 0\\end{matrix}\\right]$"
     },
     "metadata": {},
     "output_type": "execute_result",
     "execution_count": 1
    }
   ],
   "source": [
    "from  sympy import  *\n",
    "from sympy.abc import rho, phi, theta, gamma\n",
    "\n",
    "X = Matrix([rho*cos(phi), rho*sin(phi), rho**2]) # 向量\n",
    "\n",
    "Y = Matrix([rho, phi]) # 向量\n",
    "X.jacobian(Y) # Jacobian矩阵(X和Y必须为Matrix类型)"
   ],
   "metadata": {
    "collapsed": false,
    "pycharm": {
     "name": "#%%\n",
     "is_executing": false
    }
   }
  },
  {
   "cell_type": "code",
   "execution_count": 5,
   "outputs": [
    {
     "data": {
      "text/plain": "Matrix([\n[     cos(phi),     sin(phi), 2*rho],\n[-rho*sin(phi), rho*cos(phi),     0]])",
      "text/latex": "$\\displaystyle \\left[\\begin{matrix}\\cos{\\left(\\phi \\right)} & \\sin{\\left(\\phi \\right)} & 2 \\rho\\\\- \\rho \\sin{\\left(\\phi \\right)} & \\rho \\cos{\\left(\\phi \\right)} & 0\\end{matrix}\\right]$"
     },
     "metadata": {},
     "output_type": "execute_result",
     "execution_count": 5
    }
   ],
   "source": [
    "X.jacobian(Y).transpose() # 转置之后即为梯度矩阵"
   ],
   "metadata": {
    "collapsed": false,
    "pycharm": {
     "name": "#%%\n",
     "is_executing": false
    }
   }
  },
  {
   "cell_type": "code",
   "execution_count": null,
   "outputs": [],
   "source": [
    "\n"
   ],
   "metadata": {
    "collapsed": false,
    "pycharm": {
     "name": "#%%\n"
    }
   }
  }
 ],
 "metadata": {
  "kernelspec": {
   "display_name": "Python 3",
   "language": "python",
   "name": "python3"
  },
  "language_info": {
   "codemirror_mode": {
    "name": "ipython",
    "version": 2
   },
   "file_extension": ".py",
   "mimetype": "text/x-python",
   "name": "python",
   "nbconvert_exporter": "python",
   "pygments_lexer": "ipython2",
   "version": "2.7.6"
  },
  "pycharm": {
   "stem_cell": {
    "cell_type": "raw",
    "source": [],
    "metadata": {
     "collapsed": false
    }
   }
  }
 },
 "nbformat": 4,
 "nbformat_minor": 0
}