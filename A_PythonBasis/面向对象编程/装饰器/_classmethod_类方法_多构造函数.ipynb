{
 "cells": [
  {
   "cell_type": "code",
   "execution_count": 9,
   "metadata": {
    "collapsed": true,
    "ExecuteTime": {
     "end_time": "2023-12-08T06:35:28.499715400Z",
     "start_time": "2023-12-08T06:35:28.482099700Z"
    }
   },
   "outputs": [
    {
     "name": "stdout",
     "output_type": "stream",
     "text": [
      "111\n",
      "china\n",
      "china\n",
      "222\n",
      "<__main__.People object at 0x0000018F4D8C7580>\n"
     ]
    }
   ],
   "source": [
    "class People(object):\n",
    "    def __init__(self, age):\n",
    "        self.age = age\n",
    "        print(age)\n",
    "\n",
    "    country = 'china'\n",
    "\n",
    "    # 类方法(使用classmethod作为装饰器)\n",
    "    @classmethod\n",
    "    # 对于类方法,第一个参数必须是类对象,一般以cls作为第一个参数\n",
    "    def getCountry(cls):\n",
    "        return cls.country\n",
    "\n",
    "\n",
    "p = People(age=111)\n",
    "print(p.getCountry())  # 可以用过实例对象引用\n",
    "print(People.getCountry())  # 可以通过类对象引用\n",
    "print(People(age=222))"
   ]
  },
  {
   "cell_type": "code",
   "execution_count": 10,
   "metadata": {
    "pycharm": {
     "name": "#%%\n"
    },
    "ExecuteTime": {
     "end_time": "2023-12-08T06:35:28.533659Z",
     "start_time": "2023-12-08T06:35:28.493525400Z"
    }
   },
   "outputs": [
    {
     "name": "stdout",
     "output_type": "stream",
     "text": [
      "china\n",
      "japan\n"
     ]
    }
   ],
   "source": [
    "# 对类属性进行修改\n",
    "class People:\n",
    "    country = 'china'\n",
    "\n",
    "    @classmethod\n",
    "    def getCountry(cls):\n",
    "        return cls.country\n",
    "\n",
    "    @classmethod\n",
    "    def setCountry(cls, country):\n",
    "        cls.country = country\n",
    "\n",
    "\n",
    "print(People.getCountry())\n",
    "\n",
    "People.setCountry('japan')\n",
    "\n",
    "print(People.getCountry())"
   ]
  },
  {
   "cell_type": "code",
   "execution_count": 11,
   "outputs": [
    {
     "name": "stdout",
     "output_type": "stream",
     "text": [
      "29\t1\t999900\tdmm\n",
      "28\t1\t99999\tdmm\n",
      "28\t1\t999900\tDCDMM\n"
     ]
    }
   ],
   "source": [
    "class Example:\n",
    "    \"\"\"python间接实现多构造函数(python不支持函数重载)\"\"\"\n",
    "\n",
    "    def __init__(self, name=\"dmm\", salary=999900, rank=1, age=28):\n",
    "        self.name = name\n",
    "        self.salary = salary\n",
    "        self.rank = rank\n",
    "        self.age = age\n",
    "\n",
    "    @classmethod\n",
    "    def from_int(cls, i1, i2):\n",
    "        instance = cls(age=i1, rank=i2)\n",
    "        return instance\n",
    "\n",
    "    @classmethod\n",
    "    def from_double(cls, s):\n",
    "        instance = cls(salary=s)\n",
    "        return instance\n",
    "\n",
    "    @classmethod\n",
    "    def from_str(cls, n):\n",
    "        instance = cls(name=n)\n",
    "        return instance\n",
    "\n",
    "    def show(self):\n",
    "        print(self.age, end='\\t')\n",
    "        print(self.rank, end='\\t')\n",
    "        print(self.salary, end='\\t')\n",
    "        print(self.name)\n",
    "\n",
    "\n",
    "e0 = Example.from_int(29, 1)\n",
    "e0.show()\n",
    "\n",
    "e1 = Example.from_double(99999)\n",
    "e1.show()\n",
    "\n",
    "e2 = Example.from_str(\"DCDMM\")\n",
    "e2.show()"
   ],
   "metadata": {
    "collapsed": false,
    "ExecuteTime": {
     "end_time": "2023-12-08T06:35:28.534668100Z",
     "start_time": "2023-12-08T06:35:28.507025500Z"
    }
   }
  }
 ],
 "metadata": {
  "kernelspec": {
   "display_name": "Python 3",
   "language": "python",
   "name": "python3"
  },
  "language_info": {
   "codemirror_mode": {
    "name": "ipython",
    "version": 3
   },
   "file_extension": ".py",
   "mimetype": "text/x-python",
   "name": "python",
   "nbconvert_exporter": "python",
   "pygments_lexer": "ipython3",
   "version": "3.7.7"
  },
  "toc": {
   "base_numbering": 1,
   "nav_menu": {},
   "number_sections": true,
   "sideBar": true,
   "skip_h1_title": false,
   "title_cell": "Table of Contents",
   "title_sidebar": "Contents",
   "toc_cell": false,
   "toc_position": {},
   "toc_section_display": true,
   "toc_window_display": false
  }
 },
 "nbformat": 4,
 "nbformat_minor": 1
}
