{
 "cells": [
  {
   "cell_type": "code",
   "execution_count": 1,
   "metadata": {
    "collapsed": true
   },
   "outputs": [],
   "source": [
    "import torch"
   ]
  },
  {
   "cell_type": "code",
   "execution_count": 2,
   "outputs": [
    {
     "data": {
      "text/plain": "tensor([[25, 47, 48, 42, 74, 33, 68, 84, 76, 70, 71, 57, 84, 62, 30, 34, 80, 44,\n         71, 84],\n        [94, 99, 91, 90, 88, 20, 22, 98, 85, 51, 49, 51, 80, 94, 97, 23, 96, 39,\n         53, 37],\n        [22, 28, 39, 49, 45, 33, 83, 36, 41, 34, 70, 29, 46, 86, 77, 33, 82, 54,\n         91, 12],\n        [61, 98, 14, 26, 33, 55, 48, 52, 56, 29, 18, 58, 26, 57, 47, 67, 57, 25,\n         69, 86],\n        [ 1, 30, 93, 57, 82, 79, 75, 99, 74, 25, 99, 58, 44, 56, 87, 45, 13, 90,\n         88, 92],\n        [97, 43, 43, 70, 69, 66, 42, 51, 96, 53, 95, 86, 95,  9, 18, 20, 94, 37,\n         21, 52],\n        [72, 69, 97, 25, 35, 54, 19, 49, 32, 78, 65, 74, 99, 20, 71, 14, 95, 35,\n         55, 11],\n        [19, 47, 72, 52, 25, 15, 26, 21, 31, 72, 41, 98, 48, 35, 77, 37, 25, 63,\n         61, 31],\n        [21, 25, 68, 76, 11,  4, 41,  3, 77,  0, 96, 69, 33, 54, 35, 45, 60, 56,\n         86, 93],\n        [67, 44, 65, 27, 13, 14, 16, 62, 53,  0, 24,  9, 42, 43, 21, 69, 58, 97,\n         16, 59]])"
     },
     "execution_count": 2,
     "metadata": {},
     "output_type": "execute_result"
    }
   ],
   "source": [
    "generator_state = torch.Generator().manual_seed(1)\n",
    "\n",
    "tensor = torch.arange(1000).reshape(10, 100).to(torch.float32)\n",
    "\n",
    "# 返回值为tensor每行元素的索引\n",
    "torch.multinomial(tensor, 20,  # 从每一行根据多项式概率分布(每行的值为多项式抽样的权重,必须非负)抽取20个样本\n",
    "                  replacement=True,  # 是否为又放回抽样;True是有放回,False无放回(默认)\n",
    "                  generator=generator_state)"
   ],
   "metadata": {
    "collapsed": false,
    "pycharm": {
     "name": "#%%\n"
    }
   }
  },
  {
   "cell_type": "code",
   "execution_count": 2,
   "outputs": [],
   "source": [],
   "metadata": {
    "collapsed": false,
    "pycharm": {
     "name": "#%%\n"
    }
   }
  }
 ],
 "metadata": {
  "kernelspec": {
   "display_name": "Python 3",
   "language": "python",
   "name": "python3"
  },
  "language_info": {
   "codemirror_mode": {
    "name": "ipython",
    "version": 2
   },
   "file_extension": ".py",
   "mimetype": "text/x-python",
   "name": "python",
   "nbconvert_exporter": "python",
   "pygments_lexer": "ipython2",
   "version": "2.7.6"
  }
 },
 "nbformat": 4,
 "nbformat_minor": 0
}