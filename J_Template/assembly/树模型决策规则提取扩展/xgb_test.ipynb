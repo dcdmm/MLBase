{
 "cells": [
  {
   "cell_type": "code",
   "execution_count": 1,
   "metadata": {
    "collapsed": true
   },
   "outputs": [
    {
     "name": "stderr",
     "output_type": "stream",
     "text": [
      "C:\\Users\\dcdmm\\anaconda3\\envs\\pytorch_env\\lib\\site-packages\\xgboost\\compat.py:36: FutureWarning: pandas.Int64Index is deprecated and will be removed from pandas in a future version. Use pandas.Index with the appropriate dtype instead.\n",
      "  from pandas import MultiIndex, Int64Index\n"
     ]
    }
   ],
   "source": [
    "import xgboost as xgb\n",
    "from sklearn import datasets\n",
    "from sklearn.preprocessing import OrdinalEncoder\n",
    "import numpy as np\n",
    "\n",
    "from utils_xgb import find_all_split_path, find_class"
   ]
  },
  {
   "cell_type": "code",
   "execution_count": 2,
   "outputs": [
    {
     "name": "stdout",
     "output_type": "stream",
     "text": [
      "[15:22:37] WARNING: C:/Users/Administrator/workspace/xgboost-win64_release_1.5.1/src/learner.cc:1115: Starting in XGBoost 1.3.0, the default evaluation metric used with the objective 'multi:softmax' was changed from 'merror' to 'mlogloss'. Explicitly set eval_metric if you'd like to restore the old behavior.\n"
     ]
    }
   ],
   "source": [
    "enc = OrdinalEncoder()\n",
    "\n",
    "X = datasets.fetch_covtype().data[:1000]\n",
    "y = enc.fit_transform(datasets.fetch_covtype().target[:1000].reshape(-1, 1))\n",
    "dtrain = xgb.DMatrix(data=X, label=y)\n",
    "\n",
    "model = xgb.train(params={\"max_depth\": 2, 'num_class': 7, 'objective': 'multi:softmax'}, dtrain=dtrain)"
   ],
   "metadata": {
    "collapsed": false,
    "pycharm": {
     "name": "#%%\n"
    }
   }
  },
  {
   "cell_type": "code",
   "execution_count": 3,
   "outputs": [
    {
     "data": {
      "text/plain": "   Tree  Node   ID Feature   Split  Yes   No Missing        Gain       Cover  \\\n0     0     0  0-0      f0  3019.5  0-1  0-2     0-1  173.102737  244.897980   \n1     0     1  0-1      f0  2793.5  0-3  0-4     0-3   16.369188  201.306137   \n2     0     2  0-2      f5  5103.5  0-5  0-6     0-5   36.088760   43.591839   \n3     0     3  0-3    Leaf     NaN  NaN  NaN     NaN   -0.116806   84.489800   \n4     0     4  0-4    Leaf     NaN  NaN  NaN     NaN    0.055656  116.816338   \n5     0     5  0-5    Leaf     NaN  NaN  NaN     NaN    0.819853   29.632656   \n6     0     6  0-6    Leaf     NaN  NaN  NaN     NaN    0.217735   13.959185   \n\n   Category  \n0       NaN  \n1       NaN  \n2       NaN  \n3       NaN  \n4       NaN  \n5       NaN  \n6       NaN  ",
      "text/html": "<div>\n<style scoped>\n    .dataframe tbody tr th:only-of-type {\n        vertical-align: middle;\n    }\n\n    .dataframe tbody tr th {\n        vertical-align: top;\n    }\n\n    .dataframe thead th {\n        text-align: right;\n    }\n</style>\n<table border=\"1\" class=\"dataframe\">\n  <thead>\n    <tr style=\"text-align: right;\">\n      <th></th>\n      <th>Tree</th>\n      <th>Node</th>\n      <th>ID</th>\n      <th>Feature</th>\n      <th>Split</th>\n      <th>Yes</th>\n      <th>No</th>\n      <th>Missing</th>\n      <th>Gain</th>\n      <th>Cover</th>\n      <th>Category</th>\n    </tr>\n  </thead>\n  <tbody>\n    <tr>\n      <th>0</th>\n      <td>0</td>\n      <td>0</td>\n      <td>0-0</td>\n      <td>f0</td>\n      <td>3019.5</td>\n      <td>0-1</td>\n      <td>0-2</td>\n      <td>0-1</td>\n      <td>173.102737</td>\n      <td>244.897980</td>\n      <td>NaN</td>\n    </tr>\n    <tr>\n      <th>1</th>\n      <td>0</td>\n      <td>1</td>\n      <td>0-1</td>\n      <td>f0</td>\n      <td>2793.5</td>\n      <td>0-3</td>\n      <td>0-4</td>\n      <td>0-3</td>\n      <td>16.369188</td>\n      <td>201.306137</td>\n      <td>NaN</td>\n    </tr>\n    <tr>\n      <th>2</th>\n      <td>0</td>\n      <td>2</td>\n      <td>0-2</td>\n      <td>f5</td>\n      <td>5103.5</td>\n      <td>0-5</td>\n      <td>0-6</td>\n      <td>0-5</td>\n      <td>36.088760</td>\n      <td>43.591839</td>\n      <td>NaN</td>\n    </tr>\n    <tr>\n      <th>3</th>\n      <td>0</td>\n      <td>3</td>\n      <td>0-3</td>\n      <td>Leaf</td>\n      <td>NaN</td>\n      <td>NaN</td>\n      <td>NaN</td>\n      <td>NaN</td>\n      <td>-0.116806</td>\n      <td>84.489800</td>\n      <td>NaN</td>\n    </tr>\n    <tr>\n      <th>4</th>\n      <td>0</td>\n      <td>4</td>\n      <td>0-4</td>\n      <td>Leaf</td>\n      <td>NaN</td>\n      <td>NaN</td>\n      <td>NaN</td>\n      <td>NaN</td>\n      <td>0.055656</td>\n      <td>116.816338</td>\n      <td>NaN</td>\n    </tr>\n    <tr>\n      <th>5</th>\n      <td>0</td>\n      <td>5</td>\n      <td>0-5</td>\n      <td>Leaf</td>\n      <td>NaN</td>\n      <td>NaN</td>\n      <td>NaN</td>\n      <td>NaN</td>\n      <td>0.819853</td>\n      <td>29.632656</td>\n      <td>NaN</td>\n    </tr>\n    <tr>\n      <th>6</th>\n      <td>0</td>\n      <td>6</td>\n      <td>0-6</td>\n      <td>Leaf</td>\n      <td>NaN</td>\n      <td>NaN</td>\n      <td>NaN</td>\n      <td>NaN</td>\n      <td>0.217735</td>\n      <td>13.959185</td>\n      <td>NaN</td>\n    </tr>\n  </tbody>\n</table>\n</div>"
     },
     "execution_count": 3,
     "metadata": {},
     "output_type": "execute_result"
    }
   ],
   "source": [
    "df = model.trees_to_dataframe()\n",
    "df_0 = df[df['Tree'] == 0]\n",
    "df_0"
   ],
   "metadata": {
    "collapsed": false,
    "pycharm": {
     "name": "#%%\n"
    }
   }
  },
  {
   "cell_type": "code",
   "execution_count": 4,
   "outputs": [
    {
     "data": {
      "text/plain": "[[[{'Feature': 'f0'},\n   {'Less_than': 'Yes'},\n   {'Split': 3019.5},\n   {'Gain': 173.102737}],\n  [{'Feature': 'f0'},\n   {'Less_than': 'Yes'},\n   {'Split': 2793.5},\n   {'Gain': 16.3691883}],\n  {'Gain': -0.116805926}],\n [[{'Feature': 'f0'},\n   {'Less_than': 'Yes'},\n   {'Split': 3019.5},\n   {'Gain': 173.102737}],\n  [{'Feature': 'f0'},\n   {'Less_than': 'No'},\n   {'Split': 2793.5},\n   {'Gain': 16.3691883}],\n  {'Gain': 0.0556556322}],\n [[{'Feature': 'f0'},\n   {'Less_than': 'No'},\n   {'Split': 3019.5},\n   {'Gain': 173.102737}],\n  [{'Feature': 'f5'},\n   {'Less_than': 'Yes'},\n   {'Split': 5103.5},\n   {'Gain': 36.0887604}],\n  {'Gain': 0.819853425}],\n [[{'Feature': 'f0'},\n   {'Less_than': 'No'},\n   {'Split': 3019.5},\n   {'Gain': 173.102737}],\n  [{'Feature': 'f5'},\n   {'Less_than': 'No'},\n   {'Split': 5103.5},\n   {'Gain': 36.0887604}],\n  {'Gain': 0.217735335}]]"
     },
     "execution_count": 4,
     "metadata": {},
     "output_type": "execute_result"
    }
   ],
   "source": [
    "result = find_all_split_path(df_0)\n",
    "result"
   ],
   "metadata": {
    "collapsed": false,
    "pycharm": {
     "name": "#%%\n"
    }
   }
  },
  {
   "cell_type": "code",
   "execution_count": 5,
   "outputs": [
    {
     "data": {
      "text/plain": "[[{'Feature': 'f0'},\n  {'Less_than': 'No'},\n  {'Split': 3019.5},\n  {'Gain': 173.102737}],\n [{'Feature': 'f5'},\n  {'Less_than': 'No'},\n  {'Split': 5103.5},\n  {'Gain': 36.0887604}],\n {'Gain': 0.217735335}]"
     },
     "execution_count": 5,
     "metadata": {},
     "output_type": "execute_result"
    }
   ],
   "source": [
    "result[-1]"
   ],
   "metadata": {
    "collapsed": false,
    "pycharm": {
     "name": "#%%\n"
    }
   }
  },
  {
   "cell_type": "code",
   "execution_count": 6,
   "outputs": [
    {
     "data": {
      "image/svg+xml": "<?xml version=\"1.0\" encoding=\"UTF-8\" standalone=\"no\"?>\n<!DOCTYPE svg PUBLIC \"-//W3C//DTD SVG 1.1//EN\"\n \"http://www.w3.org/Graphics/SVG/1.1/DTD/svg11.dtd\">\n<!-- Generated by graphviz version 3.0.0 (20220226.1711)\n -->\n<!-- Pages: 1 -->\n<svg width=\"678pt\" height=\"218pt\"\n viewBox=\"0.00 0.00 678.39 218.00\" xmlns=\"http://www.w3.org/2000/svg\" xmlns:xlink=\"http://www.w3.org/1999/xlink\">\n<g id=\"graph0\" class=\"graph\" transform=\"scale(1 1) rotate(0) translate(4 214)\">\n<polygon fill=\"white\" stroke=\"transparent\" points=\"-4,4 -4,-214 674.39,-214 674.39,4 -4,4\"/>\n<!-- 0 -->\n<g id=\"node1\" class=\"node\">\n<title>0</title>\n<ellipse fill=\"none\" stroke=\"black\" cx=\"338.99\" cy=\"-192\" rx=\"48.19\" ry=\"18\"/>\n<text text-anchor=\"middle\" x=\"338.99\" y=\"-188.3\" font-family=\"Times New Roman,serif\" font-size=\"14.00\">f0&lt;3019.5</text>\n</g>\n<!-- 1 -->\n<g id=\"node2\" class=\"node\">\n<title>1</title>\n<ellipse fill=\"none\" stroke=\"black\" cx=\"252.99\" cy=\"-105\" rx=\"48.19\" ry=\"18\"/>\n<text text-anchor=\"middle\" x=\"252.99\" y=\"-101.3\" font-family=\"Times New Roman,serif\" font-size=\"14.00\">f0&lt;2793.5</text>\n</g>\n<!-- 0&#45;&gt;1 -->\n<g id=\"edge1\" class=\"edge\">\n<title>0&#45;&gt;1</title>\n<path fill=\"none\" stroke=\"#0000ff\" d=\"M322.82,-175.01C309.81,-162.15 291.34,-143.9 276.67,-129.4\"/>\n<polygon fill=\"#0000ff\" stroke=\"#0000ff\" points=\"278.96,-126.75 269.39,-122.21 274.04,-131.72 278.96,-126.75\"/>\n<text text-anchor=\"middle\" x=\"336.49\" y=\"-144.8\" font-family=\"Times New Roman,serif\" font-size=\"14.00\">yes, missing</text>\n</g>\n<!-- 2 -->\n<g id=\"node3\" class=\"node\">\n<title>2</title>\n<ellipse fill=\"none\" stroke=\"black\" cx=\"425.99\" cy=\"-105\" rx=\"48.19\" ry=\"18\"/>\n<text text-anchor=\"middle\" x=\"425.99\" y=\"-101.3\" font-family=\"Times New Roman,serif\" font-size=\"14.00\">f5&lt;5103.5</text>\n</g>\n<!-- 0&#45;&gt;2 -->\n<g id=\"edge2\" class=\"edge\">\n<title>0&#45;&gt;2</title>\n<path fill=\"none\" stroke=\"#ff0000\" d=\"M355.5,-174.98C361.62,-169.03 368.63,-162.21 374.99,-156 383.91,-147.29 393.69,-137.71 402.28,-129.29\"/>\n<polygon fill=\"#ff0000\" stroke=\"#ff0000\" points=\"404.79,-131.73 409.47,-122.23 399.88,-126.74 404.79,-131.73\"/>\n<text text-anchor=\"middle\" x=\"397.49\" y=\"-144.8\" font-family=\"Times New Roman,serif\" font-size=\"14.00\">no</text>\n</g>\n<!-- 3 -->\n<g id=\"node4\" class=\"node\">\n<title>3</title>\n<ellipse fill=\"none\" stroke=\"black\" cx=\"77.99\" cy=\"-18\" rx=\"77.99\" ry=\"18\"/>\n<text text-anchor=\"middle\" x=\"77.99\" y=\"-14.3\" font-family=\"Times New Roman,serif\" font-size=\"14.00\">leaf=&#45;0.116805926</text>\n</g>\n<!-- 1&#45;&gt;3 -->\n<g id=\"edge3\" class=\"edge\">\n<title>1&#45;&gt;3</title>\n<path fill=\"none\" stroke=\"#0000ff\" d=\"M224.54,-90.43C211.03,-83.97 194.66,-76.11 179.99,-69 159.8,-59.21 137.41,-48.25 118.76,-39.09\"/>\n<polygon fill=\"#0000ff\" stroke=\"#0000ff\" points=\"120.18,-35.88 109.66,-34.61 117.09,-42.16 120.18,-35.88\"/>\n<text text-anchor=\"middle\" x=\"214.49\" y=\"-57.8\" font-family=\"Times New Roman,serif\" font-size=\"14.00\">yes, missing</text>\n</g>\n<!-- 4 -->\n<g id=\"node5\" class=\"node\">\n<title>4</title>\n<ellipse fill=\"none\" stroke=\"black\" cx=\"252.99\" cy=\"-18\" rx=\"79.09\" ry=\"18\"/>\n<text text-anchor=\"middle\" x=\"252.99\" y=\"-14.3\" font-family=\"Times New Roman,serif\" font-size=\"14.00\">leaf=0.0556556322</text>\n</g>\n<!-- 1&#45;&gt;4 -->\n<g id=\"edge4\" class=\"edge\">\n<title>1&#45;&gt;4</title>\n<path fill=\"none\" stroke=\"#ff0000\" d=\"M252.99,-86.8C252.99,-75.16 252.99,-59.55 252.99,-46.24\"/>\n<polygon fill=\"#ff0000\" stroke=\"#ff0000\" points=\"256.49,-46.18 252.99,-36.18 249.49,-46.18 256.49,-46.18\"/>\n<text text-anchor=\"middle\" x=\"260.49\" y=\"-57.8\" font-family=\"Times New Roman,serif\" font-size=\"14.00\">no</text>\n</g>\n<!-- 5 -->\n<g id=\"node6\" class=\"node\">\n<title>5</title>\n<ellipse fill=\"none\" stroke=\"black\" cx=\"425.99\" cy=\"-18\" rx=\"75.29\" ry=\"18\"/>\n<text text-anchor=\"middle\" x=\"425.99\" y=\"-14.3\" font-family=\"Times New Roman,serif\" font-size=\"14.00\">leaf=0.819853425</text>\n</g>\n<!-- 2&#45;&gt;5 -->\n<g id=\"edge5\" class=\"edge\">\n<title>2&#45;&gt;5</title>\n<path fill=\"none\" stroke=\"#0000ff\" d=\"M425.99,-86.8C425.99,-75.16 425.99,-59.55 425.99,-46.24\"/>\n<polygon fill=\"#0000ff\" stroke=\"#0000ff\" points=\"429.49,-46.18 425.99,-36.18 422.49,-46.18 429.49,-46.18\"/>\n<text text-anchor=\"middle\" x=\"460.49\" y=\"-57.8\" font-family=\"Times New Roman,serif\" font-size=\"14.00\">yes, missing</text>\n</g>\n<!-- 6 -->\n<g id=\"node7\" class=\"node\">\n<title>6</title>\n<ellipse fill=\"none\" stroke=\"black\" cx=\"594.99\" cy=\"-18\" rx=\"75.29\" ry=\"18\"/>\n<text text-anchor=\"middle\" x=\"594.99\" y=\"-14.3\" font-family=\"Times New Roman,serif\" font-size=\"14.00\">leaf=0.217735335</text>\n</g>\n<!-- 2&#45;&gt;6 -->\n<g id=\"edge6\" class=\"edge\">\n<title>2&#45;&gt;6</title>\n<path fill=\"none\" stroke=\"#ff0000\" d=\"M454.88,-90.42C468.34,-84.03 484.54,-76.23 498.99,-69 517.85,-59.57 538.63,-48.8 556.01,-39.68\"/>\n<polygon fill=\"#ff0000\" stroke=\"#ff0000\" points=\"558.07,-42.55 565.29,-34.8 554.81,-36.35 558.07,-42.55\"/>\n<text text-anchor=\"middle\" x=\"535.49\" y=\"-57.8\" font-family=\"Times New Roman,serif\" font-size=\"14.00\">no</text>\n</g>\n</g>\n</svg>\n",
      "text/plain": "<graphviz.sources.Source at 0x27b5a08fc70>"
     },
     "execution_count": 6,
     "metadata": {},
     "output_type": "execute_result"
    }
   ],
   "source": [
    "xgb.to_graphviz(model)"
   ],
   "metadata": {
    "collapsed": false,
    "pycharm": {
     "name": "#%%\n"
    }
   }
  },
  {
   "cell_type": "code",
   "execution_count": 7,
   "outputs": [
    {
     "name": "stdout",
     "output_type": "stream",
     "text": [
      "[{2.0: 124, 1.0: 205, 0.0: 16}, {1.0: 322, 0.0: 90, 2.0: 65}, {0.0: 101, 1.0: 20}, {1.0: 38, 0.0: 19}]\n",
      "[1.0, 1.0, 0.0, 1.0]\n"
     ]
    }
   ],
   "source": [
    "data = np.concatenate((X, y), axis=1)\n",
    "\n",
    "distribution, split_class = find_class(data, result)\n",
    "print(distribution)\n",
    "print(split_class)"
   ],
   "metadata": {
    "collapsed": false,
    "pycharm": {
     "name": "#%%\n"
    }
   }
  },
  {
   "cell_type": "code",
   "execution_count": 7,
   "outputs": [],
   "source": [],
   "metadata": {
    "collapsed": false,
    "pycharm": {
     "name": "#%%"
    }
   }
  }
 ],
 "metadata": {
  "kernelspec": {
   "display_name": "Python 3",
   "language": "python",
   "name": "python3"
  },
  "language_info": {
   "codemirror_mode": {
    "name": "ipython",
    "version": 2
   },
   "file_extension": ".py",
   "mimetype": "text/x-python",
   "name": "python",
   "nbconvert_exporter": "python",
   "pygments_lexer": "ipython2",
   "version": "2.7.6"
  }
 },
 "nbformat": 4,
 "nbformat_minor": 0
}