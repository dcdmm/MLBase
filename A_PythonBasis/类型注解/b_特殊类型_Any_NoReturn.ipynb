{
 "cells": [
  {
   "cell_type": "code",
   "execution_count": 5,
   "metadata": {
    "collapsed": true
   },
   "outputs": [
    {
     "name": "stdout",
     "output_type": "stream",
     "text": [
      "{'x': typing.Any, 'return': <class 'int'>}\n",
      "1\n",
      "1\n",
      "1\n"
     ]
    }
   ],
   "source": [
    "from typing import Any\n",
    "\n",
    "\n",
    "def func_Any(x):\n",
    "    return 1\n",
    "\n",
    "\n",
    "def func_Any1(x: Any) -> int:  # 与上等价(x可以为任意类型)\n",
    "    return 1\n",
    "\n",
    "\n",
    "print(func_Any1.__annotations__)\n",
    "\n",
    "print(func_Any1(x=3))\n",
    "print(func_Any1(x=False))\n",
    "print(func_Any1(x=3.14))"
   ]
  },
  {
   "cell_type": "code",
   "execution_count": 6,
   "metadata": {
    "collapsed": false,
    "pycharm": {
     "name": "#%%\n"
    }
   },
   "outputs": [
    {
     "name": "stdout",
     "output_type": "stream",
     "text": [
      "{'return': typing.NoReturn}\n",
      "hello world\n",
      "None\n"
     ]
    }
   ],
   "source": [
    "from typing import NoReturn\n",
    "\n",
    "\n",
    "def func_NoReturn(x) -> NoReturn:  # 没有返回值时\n",
    "    print(\"hello world\")\n",
    "\n",
    "\n",
    "print(func_NoReturn.__annotations__)\n",
    "\n",
    "print(func_NoReturn(1))"
   ]
  }
 ],
 "metadata": {
  "kernelspec": {
   "display_name": "Python 3",
   "language": "python",
   "name": "python3"
  },
  "language_info": {
   "codemirror_mode": {
    "name": "ipython",
    "version": 3
   },
   "file_extension": ".py",
   "mimetype": "text/x-python",
   "name": "python",
   "nbconvert_exporter": "python",
   "pygments_lexer": "ipython3",
   "version": "3.11.7"
  }
 },
 "nbformat": 4,
 "nbformat_minor": 0
}
