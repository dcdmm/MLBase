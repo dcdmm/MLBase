{
 "cells": [
  {
   "cell_type": "code",
   "execution_count": 1,
   "outputs": [
    {
     "data": {
      "text/plain": "['False',\n 'None',\n 'True',\n 'and',\n 'as',\n 'assert',\n 'async',\n 'await',\n 'break',\n 'class',\n 'continue',\n 'def',\n 'del',\n 'elif',\n 'else',\n 'except',\n 'finally',\n 'for',\n 'from',\n 'global',\n 'if',\n 'import',\n 'in',\n 'is',\n 'lambda',\n 'nonlocal',\n 'not',\n 'or',\n 'pass',\n 'raise',\n 'return',\n 'try',\n 'while',\n 'with',\n 'yield']"
     },
     "execution_count": 1,
     "metadata": {},
     "output_type": "execute_result"
    }
   ],
   "source": [
    "import keyword\n",
    "keyword.kwlist # python 关键字列表"
   ],
   "metadata": {
    "collapsed": false,
    "pycharm": {
     "name": "#%%\n"
    }
   }
  },
  {
   "cell_type": "markdown",
   "metadata": {
    "collapsed": true,
    "pycharm": {
     "name": "#%% md\n"
    }
   },
   "source": [
    "标识符可以由字母、下划线 、数字组成(注意:不能以数字开头,不能与关键字重名),严格区分大小写\n",
    "\n",
    "### 模块名\n",
    "```python\n",
    "import pandas # 全部小写\n",
    "```\n",
    "\n",
    "### 类名\n",
    "```python\n",
    "class MyClass: # 首字母大写,其余组成词首字母依次大写\n",
    "    pass\n",
    "```\n",
    "\n",
    "### 函数名/变量名\n",
    "```python\n",
    "def my_func(): # 函数名/变量名一律小写,如有多个单词,用下划线隔开\n",
    "    pass\n",
    "\n",
    "my_shape = (3, 5)\n",
    "```"
   ]
  },
  {
   "cell_type": "code",
   "execution_count": 21,
   "outputs": [
    {
     "name": "stdout",
     "output_type": "stream",
     "text": [
      "MY_DEFINE_PI\n"
     ]
    },
    {
     "ename": "ConstError",
     "evalue": "Can't rebind const(MY_DEFINE_PI)",
     "output_type": "error",
     "traceback": [
      "\u001B[1;31m---------------------------------------------------------------------------\u001B[0m",
      "\u001B[1;31mConstError\u001B[0m                                Traceback (most recent call last)",
      "\u001B[1;32m<ipython-input-21-92c8462b0cdc>\u001B[0m in \u001B[0;36m<module>\u001B[1;34m\u001B[0m\n\u001B[0;32m     11\u001B[0m \u001B[0mprint\u001B[0m\u001B[1;33m(\u001B[0m\u001B[0mconst\u001B[0m\u001B[1;33m.\u001B[0m\u001B[0mMY_DEFINE_PI\u001B[0m\u001B[1;33m)\u001B[0m\u001B[1;33m\u001B[0m\u001B[1;33m\u001B[0m\u001B[0m\n\u001B[0;32m     12\u001B[0m \u001B[1;33m\u001B[0m\u001B[0m\n\u001B[1;32m---> 13\u001B[1;33m \u001B[0mconst\u001B[0m\u001B[1;33m.\u001B[0m\u001B[0mMY_DEFINE_PI\u001B[0m \u001B[1;33m=\u001B[0m \u001B[1;36m2.7\u001B[0m\u001B[1;33m\u001B[0m\u001B[1;33m\u001B[0m\u001B[0m\n\u001B[0m\u001B[0;32m     14\u001B[0m \u001B[0mprint\u001B[0m\u001B[1;33m(\u001B[0m\u001B[0mconst\u001B[0m\u001B[1;33m.\u001B[0m\u001B[0mMY_DEFINE_PI\u001B[0m\u001B[1;33m)\u001B[0m\u001B[1;33m\u001B[0m\u001B[1;33m\u001B[0m\u001B[0m\n\u001B[0;32m     15\u001B[0m \u001B[1;33m\u001B[0m\u001B[0m\n",
      "\u001B[1;32m<ipython-input-21-92c8462b0cdc>\u001B[0m in \u001B[0;36m__setattr__\u001B[1;34m(self, key, value)\u001B[0m\n\u001B[0;32m      3\u001B[0m     \u001B[1;32mdef\u001B[0m \u001B[0m__setattr__\u001B[0m\u001B[1;33m(\u001B[0m\u001B[0mself\u001B[0m\u001B[1;33m,\u001B[0m \u001B[0mkey\u001B[0m\u001B[1;33m,\u001B[0m \u001B[0mvalue\u001B[0m\u001B[1;33m)\u001B[0m\u001B[1;33m:\u001B[0m\u001B[1;33m\u001B[0m\u001B[1;33m\u001B[0m\u001B[0m\n\u001B[0;32m      4\u001B[0m         \u001B[1;32mif\u001B[0m \u001B[0mkey\u001B[0m \u001B[1;32min\u001B[0m \u001B[0mself\u001B[0m\u001B[1;33m.\u001B[0m\u001B[0m__dict__\u001B[0m\u001B[1;33m:\u001B[0m\u001B[1;33m\u001B[0m\u001B[1;33m\u001B[0m\u001B[0m\n\u001B[1;32m----> 5\u001B[1;33m             \u001B[1;32mraise\u001B[0m \u001B[0mself\u001B[0m\u001B[1;33m.\u001B[0m\u001B[0mConstError\u001B[0m\u001B[1;33m(\u001B[0m\u001B[1;34m\"Can't rebind const(%s)\"\u001B[0m \u001B[1;33m%\u001B[0m \u001B[0mkey\u001B[0m\u001B[1;33m)\u001B[0m\u001B[1;33m\u001B[0m\u001B[1;33m\u001B[0m\u001B[0m\n\u001B[0m\u001B[0;32m      6\u001B[0m         \u001B[0mself\u001B[0m\u001B[1;33m.\u001B[0m\u001B[0m__dict__\u001B[0m\u001B[1;33m[\u001B[0m\u001B[0mkey\u001B[0m\u001B[1;33m]\u001B[0m \u001B[1;33m=\u001B[0m \u001B[0mkey\u001B[0m\u001B[1;33m\u001B[0m\u001B[1;33m\u001B[0m\u001B[0m\n\u001B[0;32m      7\u001B[0m \u001B[1;33m\u001B[0m\u001B[0m\n",
      "\u001B[1;31mConstError\u001B[0m: Can't rebind const(MY_DEFINE_PI)"
     ]
    }
   ],
   "source": [
    "# 常量的定义(或使用元组进行定义)\n",
    "class _const:\n",
    "    class ConstError(TypeError):pass\n",
    "    def __setattr__(self, key, value):\n",
    "        if key in self.__dict__:\n",
    "            raise self.ConstError(\"Can't rebind const(%s)\" % key)\n",
    "        self.__dict__[key] = key\n",
    "\n",
    "const = _const()\n",
    "\n",
    "const.MY_DEFINE_PI = 3.14 # 常量名全部大写,如有多个单词,用下划线隔开\n",
    "print(const.MY_DEFINE_PI)\n",
    "\n",
    "const.MY_DEFINE_PI = 2.7\n",
    "print(const.MY_DEFINE_PI) # 常量,不能被修改"
   ],
   "metadata": {
    "collapsed": false,
    "pycharm": {
     "name": "#%%\n"
    }
   }
  },
  {
   "cell_type": "code",
   "execution_count": null,
   "outputs": [],
   "source": [],
   "metadata": {
    "collapsed": false,
    "pycharm": {
     "name": "#%%\n"
    }
   }
  }
 ],
 "metadata": {
  "kernelspec": {
   "display_name": "Python 3",
   "language": "python",
   "name": "python3"
  },
  "language_info": {
   "codemirror_mode": {
    "name": "ipython",
    "version": 2
   },
   "file_extension": ".py",
   "mimetype": "text/x-python",
   "name": "python",
   "nbconvert_exporter": "python",
   "pygments_lexer": "ipython2",
   "version": "2.7.6"
  }
 },
 "nbformat": 4,
 "nbformat_minor": 0
}