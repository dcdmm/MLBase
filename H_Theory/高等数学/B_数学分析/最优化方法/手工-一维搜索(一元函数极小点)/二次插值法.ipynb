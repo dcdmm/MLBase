{
 "cells": [
  {
   "cell_type": "code",
   "execution_count": 1,
   "metadata": {
    "pycharm": {
     "is_executing": false,
     "name": "#%%\n"
    }
   },
   "outputs": [],
   "source": [
    "import numpy as np\n",
    "\n",
    "def func(x):\n",
    "    \"\"\"目标函数(单峰函数)\"\"\"\n",
    "    result = np.exp(-x)+x**2\n",
    "    return result\n",
    "\n",
    "\n",
    "class Interpolation:\n",
    "    def __init__(self, f, a, b, # [a, b]为搜索区间\n",
    "                 epsilon=1e-4, # 停止迭代条件\n",
    "                 maxstep=1000):\n",
    "        self.f = f\n",
    "        self.a1 = a # alpha_1\n",
    "        self.f1 = self.f(self.a1)\n",
    "        self.a2 = (a+b)/2 # alpha_2\n",
    "        self.f2 = self.f(self.a2)\n",
    "        self.a3 = b # alpha_3\n",
    "        self.f3= self.f(self.a3)\n",
    "        self.a4 = None # alpha_P^*\n",
    "        self.f4 = None\n",
    "        self.epsilon = epsilon\n",
    "        self.maxstep = maxstep\n",
    "        \n",
    "    def com_C1_C2(self):\n",
    "        \"\"\"计算当前alpha_1,alpha_2,alpha_3下的C1, C2\"\"\"\n",
    "        C1 = (self.f3 - self.f1) / (self.a3 - self.a1)\n",
    "        C2 = (((self.f2 - self.f1) / (self.a2 - self.a1)) - C1) / (self.a2 - self.a3)\n",
    "        \n",
    "        return C1, C2\n",
    "    \n",
    "    def exchange(self):\n",
    "        \"\"\"缩小搜索区间(由程序框图描述得)\"\"\"\n",
    "        if self.a4 < self.a2:\n",
    "            if self.f4 < self.f2:\n",
    "                self.a3 = self.a2\n",
    "                self.f3 = self.f2\n",
    "                self.a2 = self.a4\n",
    "                self.f2 = self.f4\n",
    "            else:\n",
    "                self.a1 = self.a4\n",
    "                self.f1 = self.f4\n",
    "        else:\n",
    "            if self.a4 < self.f2:\n",
    "                self.a1 = self.a2\n",
    "                self.f1 = self.f2\n",
    "                self.a2 = self.a4\n",
    "                self.f2 = self.f4\n",
    "            else:\n",
    "                self.a3 = self.a4\n",
    "                self.f3 = self.f4\n",
    "    \n",
    "    def iter_pro(self):\n",
    "        \"\"\"算法运行步骤\"\"\"\n",
    "        for i in range(self.maxstep):\n",
    "            C1, C2 = self.com_C1_C2()\n",
    "            if C2 == 0: \n",
    "                return  self.a2, self.f2\n",
    "            self.a4 = (self.a1 + self.a3 - C1/C2)/2\n",
    "            self.f4 = self.f(self.a4)\n",
    "            if self.a4 == self.a2: # 当函数关于搜索区间对称时,此时即可跳出循环找出最优点\n",
    "                return self.a2, self.f2\n",
    "            if (self.a4 - self.a1)*(self.a3 - self.a4) > 0:\n",
    "                 if i != 0: # 至少交换一次\n",
    "                    if abs(self.a4 - self.a2) <= self.epsilon:\n",
    "                        if self.f4 > self.f2:\n",
    "                            return self.a2, self.f2\n",
    "                        else:\n",
    "                            return self.a4, self.f4\n",
    "                    else:\n",
    "                        self.exchange()\n",
    "                 else:\n",
    "                     self.exchange()\n",
    "            else:\n",
    "                return self.a2, self.f2\n",
    "              "
   ]
  },
  {
   "cell_type": "code",
   "execution_count": 2,
   "metadata": {
    "pycharm": {
     "is_executing": false,
     "name": "#%%\n"
    }
   },
   "outputs": [
    {
     "name": "stdout",
     "text": [
      "最优点为: 0.35173644763747325\n",
      "最优点的函数值为: 0.827184026137646\n"
     ],
     "output_type": "stream"
    }
   ],
   "source": [
    "inter = Interpolation(func, -1, 1)\n",
    "want_point, want_value= inter.iter_pro()\n",
    "print('最优点为:', want_point)\n",
    "print('最优点的函数值为:', want_value)"
   ]
  },
  {
   "cell_type": "code",
   "execution_count": 2,
   "outputs": [],
   "source": [
    "\n"
   ],
   "metadata": {
    "collapsed": false,
    "pycharm": {
     "name": "#%%\n",
     "is_executing": false
    }
   }
  }
 ],
 "metadata": {
  "kernelspec": {
   "display_name": "Python 3",
   "language": "python",
   "name": "python3"
  },
  "language_info": {
   "codemirror_mode": {
    "name": "ipython",
    "version": 3
   },
   "file_extension": ".py",
   "mimetype": "text/x-python",
   "name": "python",
   "nbconvert_exporter": "python",
   "pygments_lexer": "ipython3",
   "version": "3.7.4"
  },
  "pycharm": {
   "stem_cell": {
    "cell_type": "raw",
    "source": [],
    "metadata": {
     "collapsed": false
    }
   }
  }
 },
 "nbformat": 4,
 "nbformat_minor": 1
}