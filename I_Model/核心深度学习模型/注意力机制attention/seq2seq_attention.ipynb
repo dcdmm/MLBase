{
 "cells": [
  {
   "cell_type": "code",
   "execution_count": 107,
   "outputs": [],
   "source": [
    "import collections\n",
    "import torch\n",
    "import torch.utils.data as Data\n",
    "import torch.nn as nn\n",
    "from nltk.translate.bleu_score import sentence_bleu, SmoothingFunction\n",
    "import torch.nn.functional as F\n",
    "import seaborn as sns"
   ],
   "metadata": {
    "collapsed": false,
    "pycharm": {
     "name": "#%%\n"
    }
   }
  },
  {
   "cell_type": "markdown",
   "source": [
    "### 数据处理"
   ],
   "metadata": {
    "collapsed": false
   }
  },
  {
   "cell_type": "code",
   "execution_count": 40,
   "outputs": [
    {
     "name": "stdout",
     "output_type": "stream",
     "text": [
      "Go.\tVa !\n",
      "Hi.\tSalut !\n",
      "Run!\tCours !\n",
      "Run!\tCourez !\n",
      "Who?\tQui ?\n",
      "Wow!\tÇa alors !\n",
      "\n"
     ]
    }
   ],
   "source": [
    "with open('fra.txt', 'r', encoding='utf-8') as f:\n",
    "    raw_text = f.read()\n",
    "\n",
    "# 左边为英文句子,右边为对应的法文句子\n",
    "print(raw_text[:75])"
   ],
   "metadata": {
    "collapsed": false,
    "pycharm": {
     "name": "#%%\n"
    }
   }
  },
  {
   "cell_type": "code",
   "execution_count": 41,
   "outputs": [
    {
     "name": "stdout",
     "output_type": "stream",
     "text": [
      "go .\tva !\n",
      "hi .\tsalut !\n",
      "run !\tcours !\n",
      "run !\tcourez !\n",
      "who ?\tqui ?\n",
      "wow !\tça alors !\n"
     ]
    }
   ],
   "source": [
    "def preprocess_nmt(text):\n",
    "    \"\"\"预处理\"英语<--->法语\"数据集\"\"\"\n",
    "\n",
    "    def no_space(char, prev_char):\n",
    "        return char in set(',.!?') and prev_char != ' '\n",
    "\n",
    "    # 使用空格替换不间断空格(non-breaking space)\n",
    "    text = text.replace('\\u202f', ' ').replace('\\xa0', ' ').lower()\n",
    "    # 使用小写字母替换大写字母\n",
    "    text = text.lower()\n",
    "    # 在单词和标点符号之间插⼊空格\n",
    "    out = [' ' + char if i > 0 and no_space(char, text[i - 1]) else char\n",
    "           for i, char in enumerate(text)]\n",
    "    return ''.join(out)\n",
    "\n",
    "\n",
    "text = preprocess_nmt(raw_text)\n",
    "print(text[:80])"
   ],
   "metadata": {
    "collapsed": false,
    "pycharm": {
     "name": "#%%\n"
    }
   }
  },
  {
   "cell_type": "code",
   "execution_count": 42,
   "outputs": [
    {
     "data": {
      "text/plain": "([['go', '.'],\n  ['hi', '.'],\n  ['run', '!'],\n  ['run', '!'],\n  ['who', '?'],\n  ['wow', '!'],\n  ['fire', '!'],\n  ['help', '!'],\n  ['jump', '.'],\n  ['stop', '!']],\n [['va', '!'],\n  ['salut', '!'],\n  ['cours', '!'],\n  ['courez', '!'],\n  ['qui', '?'],\n  ['ça', 'alors', '!'],\n  ['au', 'feu', '!'],\n  ['à', \"l'aide\", '!'],\n  ['saute', '.'],\n  ['ça', 'suffit', '!']])"
     },
     "execution_count": 42,
     "metadata": {},
     "output_type": "execute_result"
    }
   ],
   "source": [
    "def tokenize_nmt(text,\n",
    "                 num_examples=None):  # 使用的训练样本数\n",
    "    \"\"\"词元化\"英语<--->法语\"数据数据集\"\"\"\n",
    "    source, target = [], []\n",
    "    for i, line in enumerate(text.split('\\n')):\n",
    "        if num_examples and i > num_examples:\n",
    "            break\n",
    "        parts = line.split('\\t')\n",
    "        source.append(parts[0].split(' '))  # 英文数据\n",
    "        target.append(parts[1].split(' '))  # 法文数据\n",
    "    return source, target\n",
    "\n",
    "\n",
    "source, target = tokenize_nmt(text)\n",
    "source[:10], target[:10]  # 每个子列表表示一个句子的切分(根据' '切分)"
   ],
   "metadata": {
    "collapsed": false,
    "pycharm": {
     "name": "#%%\n"
    }
   }
  },
  {
   "cell_type": "code",
   "execution_count": 43,
   "outputs": [
    {
     "data": {
      "text/plain": "10012"
     },
     "execution_count": 43,
     "metadata": {},
     "output_type": "execute_result"
    }
   ],
   "source": [
    "def count_corpus(tokens):\n",
    "    \"\"\"Count token frequencies\"\"\"\n",
    "    # Here `tokens` is a 1D list or 2D list\n",
    "    if len(tokens) == 0 or isinstance(tokens[0], list):\n",
    "        # Flatten a list of token lists into a list of tokens\n",
    "        tokens = [token for line in tokens for token in line]\n",
    "    return collections.Counter(tokens)\n",
    "\n",
    "\n",
    "class Vocab:\n",
    "    \"\"\"Vocabulary for text\"\"\"\n",
    "\n",
    "    def __init__(self, tokens=None, min_freq=2, reserved_tokens=None):\n",
    "        if tokens is None:\n",
    "            tokens = []\n",
    "        if reserved_tokens is None:\n",
    "            reserved_tokens = []\n",
    "        counter = count_corpus(tokens)\n",
    "        # Sort according to frequencies\n",
    "        self._token_freqs = sorted(counter.items(), key=lambda x: x[1],\n",
    "                                   reverse=True)\n",
    "        # The index for the unknown token is 0\n",
    "        self.idx_to_token = ['<unk>'] + reserved_tokens\n",
    "        self.token_to_idx = {\n",
    "            token: idx for idx, token in enumerate(self.idx_to_token)}\n",
    "        for token, freq in self._token_freqs:\n",
    "            if freq < min_freq:\n",
    "                break\n",
    "            if token not in self.token_to_idx:\n",
    "                self.idx_to_token.append(token)\n",
    "                self.token_to_idx[token] = len(self.idx_to_token) - 1\n",
    "\n",
    "    def __len__(self):\n",
    "        return len(self.idx_to_token)\n",
    "\n",
    "    def __getitem__(self, tokens):\n",
    "        if not isinstance(tokens, (list, tuple)):\n",
    "            return self.token_to_idx.get(tokens, self.unk)\n",
    "        return [self.__getitem__(token) for token in tokens]\n",
    "\n",
    "    def to_tokens(self, indices):\n",
    "        if not isinstance(indices, (list, tuple)):\n",
    "            return self.idx_to_token[indices]\n",
    "        return [self.idx_to_token[index] for index in indices]\n",
    "\n",
    "    @property\n",
    "    def unk(self):\n",
    "        \"\"\"Index for the unknown token\"\"\"\n",
    "        return 0\n",
    "\n",
    "    @property\n",
    "    def token_freqs(self):\n",
    "        return self._token_freqs\n",
    "\n",
    "\n",
    "# '<unk>':未知词元\n",
    "# '<pad>':填充词元\n",
    "# '<bos>':开始词元\n",
    "# '<eos>':结束词元\n",
    "src_vocab = Vocab(source, min_freq=2, reserved_tokens=['<pad>', '<bos>', '<eos>'])\n",
    "len(src_vocab)"
   ],
   "metadata": {
    "collapsed": false,
    "pycharm": {
     "name": "#%%\n"
    }
   }
  },
  {
   "cell_type": "code",
   "execution_count": 44,
   "outputs": [
    {
     "data": {
      "text/plain": "[47, 4, 1, 1, 1, 1, 1, 1, 1, 1]"
     },
     "execution_count": 44,
     "metadata": {},
     "output_type": "execute_result"
    }
   ],
   "source": [
    "def truncate_pad(line, num_steps, padding_token):\n",
    "    \"\"\"截断或填充文本序列\"\"\"\n",
    "    if len(line) > num_steps:\n",
    "        return line[:num_steps]  # 句子截断\n",
    "    return line + [padding_token] * (num_steps - len(line))  # 句子填充\n",
    "\n",
    "\n",
    "truncate_pad(src_vocab[source[0]], 10, src_vocab['<pad>'])"
   ],
   "metadata": {
    "collapsed": false,
    "pycharm": {
     "name": "#%%\n"
    }
   }
  },
  {
   "cell_type": "code",
   "execution_count": 45,
   "outputs": [
    {
     "name": "stdout",
     "output_type": "stream",
     "text": [
      "tensor([[  47,    4,    3,  ...,    1,    1,    1],\n",
      "        [2944,    4,    3,  ...,    1,    1,    1],\n",
      "        [ 435,  126,    3,  ...,    1,    1,    1],\n",
      "        ...,\n",
      "        [ 381,   60,   26,  ...,  480,   68, 4696],\n",
      "        [  66,  295,   90,  ...,   10, 1170, 1526],\n",
      "        [  17,  176,   32,  ...,    8, 1963,   16]])\n",
      "torch.Size([167130, 15])\n",
      "tensor([ 3,  3,  3,  ..., 15, 15, 15])\n"
     ]
    }
   ],
   "source": [
    "def build_array_nmt(lines, vocab, num_steps):\n",
    "    \"\"\"将文本序列转换为数值矩阵\"\"\"\n",
    "    lines = [vocab[l] for l in lines]\n",
    "    lines = [l + [vocab['<eos>']] for l in lines]  # 使用'<eos>'表示句子的结尾\n",
    "    array = torch.tensor([truncate_pad(l, num_steps, vocab['<pad>']) for l in lines])\n",
    "    valid_len = (array != vocab['<pad>']).to(dtype=torch.int32).sum(1)\n",
    "    return array, valid_len\n",
    "\n",
    "\n",
    "array, valid_len = build_array_nmt(source, src_vocab, 15)\n",
    "print(array)  # 通过vocab将句子从token转换为idx(等长,不足部分1填充)\n",
    "print(array.shape)\n",
    "print(valid_len)  # 每个句子的实际长度"
   ],
   "metadata": {
    "collapsed": false,
    "pycharm": {
     "name": "#%%\n"
    }
   }
  },
  {
   "cell_type": "code",
   "execution_count": 46,
   "outputs": [
    {
     "name": "stdout",
     "output_type": "stream",
     "text": [
      "X: tensor([[ 34,  19,  12,   3,   1,   1,   1,   1,   1,   1,   1,   1,   1,   1,\n",
      "           1],\n",
      "        [  7, 141,   4,   3,   1,   1,   1,   1,   1,   1,   1,   1,   1,   1,\n",
      "           1],\n",
      "        [ 81,  10,   4,   3,   1,   1,   1,   1,   1,   1,   1,   1,   1,   1,\n",
      "           1],\n",
      "        [ 56,  37,   5,   3,   1,   1,   1,   1,   1,   1,   1,   1,   1,   1,\n",
      "           1],\n",
      "        [ 46, 108,   4,   3,   1,   1,   1,   1,   1,   1,   1,   1,   1,   1,\n",
      "           1],\n",
      "        [  6, 135,   4,   3,   1,   1,   1,   1,   1,   1,   1,   1,   1,   1,\n",
      "           1],\n",
      "        [ 46,  82,   4,   3,   1,   1,   1,   1,   1,   1,   1,   1,   1,   1,\n",
      "           1],\n",
      "        [ 52,  70,   4,   3,   1,   1,   1,   1,   1,   1,   1,   1,   1,   1,\n",
      "           1],\n",
      "        [ 13, 124, 125,   4,   3,   1,   1,   1,   1,   1,   1,   1,   1,   1,\n",
      "           1],\n",
      "        [  6,  38,   9,   4,   3,   1,   1,   1,   1,   1,   1,   1,   1,   1,\n",
      "           1],\n",
      "        [ 99,   5,   3,   1,   1,   1,   1,   1,   1,   1,   1,   1,   1,   1,\n",
      "           1],\n",
      "        [ 44,   0,   5,   3,   1,   1,   1,   1,   1,   1,   1,   1,   1,   1,\n",
      "           1],\n",
      "        [  8,  25,   4,   3,   1,   1,   1,   1,   1,   1,   1,   1,   1,   1,\n",
      "           1],\n",
      "        [  6, 105,   4,   3,   1,   1,   1,   1,   1,   1,   1,   1,   1,   1,\n",
      "           1],\n",
      "        [  6,   0,   4,   3,   1,   1,   1,   1,   1,   1,   1,   1,   1,   1,\n",
      "           1],\n",
      "        [  6,  35,   9,   4,   3,   1,   1,   1,   1,   1,   1,   1,   1,   1,\n",
      "           1],\n",
      "        [ 45,   5,   3,   1,   1,   1,   1,   1,   1,   1,   1,   1,   1,   1,\n",
      "           1],\n",
      "        [  7,   0,   4,   3,   1,   1,   1,   1,   1,   1,   1,   1,   1,   1,\n",
      "           1],\n",
      "        [ 13,  40,   4,   3,   1,   1,   1,   1,   1,   1,   1,   1,   1,   1,\n",
      "           1],\n",
      "        [ 26,  37,   4,   3,   1,   1,   1,   1,   1,   1,   1,   1,   1,   1,\n",
      "           1],\n",
      "        [ 62,   6,  48,  12,   3,   1,   1,   1,   1,   1,   1,   1,   1,   1,\n",
      "           1],\n",
      "        [144,  19,   4,   3,   1,   1,   1,   1,   1,   1,   1,   1,   1,   1,\n",
      "           1],\n",
      "        [ 10,  54,   4,   3,   1,   1,   1,   1,   1,   1,   1,   1,   1,   1,\n",
      "           1],\n",
      "        [ 13,  23,   4,   3,   1,   1,   1,   1,   1,   1,   1,   1,   1,   1,\n",
      "           1],\n",
      "        [102,  42,   4,   3,   1,   1,   1,   1,   1,   1,   1,   1,   1,   1,\n",
      "           1],\n",
      "        [ 81, 123,   4,   3,   1,   1,   1,   1,   1,   1,   1,   1,   1,   1,\n",
      "           1],\n",
      "        [ 15,  19,   4,   3,   1,   1,   1,   1,   1,   1,   1,   1,   1,   1,\n",
      "           1],\n",
      "        [ 13,  23,   4,   3,   1,   1,   1,   1,   1,   1,   1,   1,   1,   1,\n",
      "           1],\n",
      "        [ 13,  86,   4,   3,   1,   1,   1,   1,   1,   1,   1,   1,   1,   1,\n",
      "           1],\n",
      "        [  6,  38,   9,   4,   3,   1,   1,   1,   1,   1,   1,   1,   1,   1,\n",
      "           1],\n",
      "        [120,  11,   4,   3,   1,   1,   1,   1,   1,   1,   1,   1,   1,   1,\n",
      "           1],\n",
      "        [ 96,  15,   8,  12,   3,   1,   1,   1,   1,   1,   1,   1,   1,   1,\n",
      "           1]], dtype=torch.int32)\n",
      "valid lengths for X: tensor([4, 4, 4, 4, 4, 4, 4, 4, 5, 5, 3, 4, 4, 4, 4, 5, 3, 4, 4, 4, 5, 4, 4, 4,\n",
      "        4, 4, 4, 4, 4, 5, 4, 5])\n",
      "Y: tensor([[ 20,  32,  25,   9,   3,   1,   1,   1,   1,   1,   1,   1,   1,   1,\n",
      "           1],\n",
      "        [  6,   7,   0,   4,   3,   1,   1,   1,   1,   1,   1,   1,   1,   1,\n",
      "           1],\n",
      "        [  0,  13,   8,   4,   3,   1,   1,   1,   1,   1,   1,   1,   1,   1,\n",
      "           1],\n",
      "        [  0,   5,   3,   1,   1,   1,   1,   1,   1,   1,   1,   1,   1,   1,\n",
      "           1],\n",
      "        [ 27, 113,   4,   3,   1,   1,   1,   1,   1,   1,   1,   1,   1,   1,\n",
      "           1],\n",
      "        [  6,   7,   0,   4,   3,   1,   1,   1,   1,   1,   1,   1,   1,   1,\n",
      "           1],\n",
      "        [ 27,  32,   0,  26,   4,   3,   1,   1,   1,   1,   1,   1,   1,   1,\n",
      "           1],\n",
      "        [ 54,  55,   4,   3,   1,   1,   1,   1,   1,   1,   1,   1,   1,   1,\n",
      "           1],\n",
      "        [ 14,  31, 135,   5,   3,   1,   1,   1,   1,   1,   1,   1,   1,   1,\n",
      "           1],\n",
      "        [  6,   0,   4,   3,   1,   1,   1,   1,   1,   1,   1,   1,   1,   1,\n",
      "           1],\n",
      "        [ 75,  76,   5,   3,   1,   1,   1,   1,   1,   1,   1,   1,   1,   1,\n",
      "           1],\n",
      "        [ 52,  12,   0,   5,   3,   1,   1,   1,   1,   1,   1,   1,   1,   1,\n",
      "           1],\n",
      "        [  0,  21,   5,   3,   1,   1,   1,   1,   1,   1,   1,   1,   1,   1,\n",
      "           1],\n",
      "        [  6,  90,   4,   3,   1,   1,   1,   1,   1,   1,   1,   1,   1,   1,\n",
      "           1],\n",
      "        [ 17,   0,   4,   3,   1,   1,   1,   1,   1,   1,   1,   1,   1,   1,\n",
      "           1],\n",
      "        [ 11,  85,   4,   3,   1,   1,   1,   1,   1,   1,   1,   1,   1,   1,\n",
      "           1],\n",
      "        [ 24,   0,   5,   3,   1,   1,   1,   1,   1,   1,   1,   1,   1,   1,\n",
      "           1],\n",
      "        [  6,   7,   0,   4,   3,   1,   1,   1,   1,   1,   1,   1,   1,   1,\n",
      "           1],\n",
      "        [ 14,  37,   5,   3,   1,   1,   1,   1,   1,   1,   1,   1,   1,   1,\n",
      "           1],\n",
      "        [133,   5,   3,   1,   1,   1,   1,   1,   1,   1,   1,   1,   1,   1,\n",
      "           1],\n",
      "        [ 68,   0,   9,   3,   1,   1,   1,   1,   1,   1,   1,   1,   1,   1,\n",
      "           1],\n",
      "        [ 11,  25,   4,   3,   1,   1,   1,   1,   1,   1,   1,   1,   1,   1,\n",
      "           1],\n",
      "        [  8,  18,  91,   4,   3,   1,   1,   1,   1,   1,   1,   1,   1,   1,\n",
      "           1],\n",
      "        [ 19, 100,   5,   3,   1,   1,   1,   1,   1,   1,   1,   1,   1,   1,\n",
      "           1],\n",
      "        [ 13,  38,   4,   3,   1,   1,   1,   1,   1,   1,   1,   1,   1,   1,\n",
      "           1],\n",
      "        [  0,   4,   3,   1,   1,   1,   1,   1,   1,   1,   1,   1,   1,   1,\n",
      "           1],\n",
      "        [ 10,  30,  25,   4,   3,   1,   1,   1,   1,   1,   1,   1,   1,   1,\n",
      "           1],\n",
      "        [ 14,   0,   5,   3,   1,   1,   1,   1,   1,   1,   1,   1,   1,   1,\n",
      "           1],\n",
      "        [ 14,  97,   5,   3,   1,   1,   1,   1,   1,   1,   1,   1,   1,   1,\n",
      "           1],\n",
      "        [ 28,  65,   0,   4,   3,   1,   1,   1,   1,   1,   1,   1,   1,   1,\n",
      "           1],\n",
      "        [  0,   5,   3,   1,   1,   1,   1,   1,   1,   1,   1,   1,   1,   1,\n",
      "           1],\n",
      "        [ 73, 150,  71,   9,   3,   1,   1,   1,   1,   1,   1,   1,   1,   1,\n",
      "           1]], dtype=torch.int32)\n",
      "valid lengths for Y: tensor([5, 5, 5, 3, 4, 5, 6, 4, 5, 4, 4, 5, 4, 4, 4, 4, 4, 5, 4, 3, 4, 4, 5, 4,\n",
      "        4, 3, 5, 4, 4, 5, 3, 5])\n"
     ]
    }
   ],
   "source": [
    "def load_array(data_arrays, batch_size, is_train=True):\n",
    "    \"\"\"Construct a PyTorch data iterator\"\"\"\n",
    "    dataset = Data.TensorDataset(*data_arrays)\n",
    "    return Data.DataLoader(dataset, batch_size, shuffle=is_train)\n",
    "\n",
    "\n",
    "def load_data_nmt(text, batch_size, num_steps, num_examples=None):\n",
    "    \"\"\"返回翻译数据集的迭代器和词汇表\"\"\"\n",
    "    source, target = tokenize_nmt(text, num_examples=num_examples)\n",
    "    src_vocab = Vocab(source, min_freq=2,\n",
    "                      reserved_tokens=['<pad>', '<bos>', '<eos>'])\n",
    "    tgt_vocab = Vocab(target, min_freq=2,\n",
    "                      reserved_tokens=['<pad>', '<bos>', '<eos>'])\n",
    "    src_array, src_valid_len = build_array_nmt(source, src_vocab, num_steps)\n",
    "    tgt_array, tgt_valid_len = build_array_nmt(target, tgt_vocab, num_steps)\n",
    "    data_arrays = (src_array, src_valid_len, tgt_array, tgt_valid_len)\n",
    "    data_iter = load_array(data_arrays, batch_size)\n",
    "    return data_iter, src_vocab, tgt_vocab\n",
    "\n",
    "\n",
    "train_iter, src_vocab, tgt_vocab = load_data_nmt(text, batch_size=32, num_steps=15, num_examples=500)\n",
    "for X, X_valid_len, Y, Y_valid_len in train_iter:\n",
    "    print('X:', X.type(torch.int32))\n",
    "    print('valid lengths for X:', X_valid_len)\n",
    "    print('Y:', Y.type(torch.int32))\n",
    "    print('valid lengths for Y:', Y_valid_len)\n",
    "    break"
   ],
   "metadata": {
    "collapsed": false,
    "pycharm": {
     "name": "#%%\n"
    }
   }
  },
  {
   "cell_type": "markdown",
   "source": [
    "### Seq2Seq模型"
   ],
   "metadata": {
    "collapsed": false
   }
  },
  {
   "cell_type": "code",
   "execution_count": 47,
   "outputs": [
    {
     "name": "stdout",
     "output_type": "stream",
     "text": [
      "torch.Size([7, 4, 16])\n",
      "torch.Size([2, 4, 16])\n"
     ]
    }
   ],
   "source": [
    "class Seq2SeqEncoder(nn.Module):\n",
    "    \"\"\"用于序列到序列学习的循环神经⽹络编码器\"\"\"\n",
    "\n",
    "    def __init__(self, vocab_size, embed_size, hidden_size, num_layers, dropout=0, bidirectional=False):\n",
    "        super(Seq2SeqEncoder, self).__init__()\n",
    "        self.embedding = nn.Embedding(vocab_size, embed_size)\n",
    "        self.rnn = nn.GRU(embed_size, hidden_size, num_layers,\n",
    "                          dropout=dropout, bidirectional=bidirectional)\n",
    "\n",
    "    def forward(self, X):\n",
    "        # X.shape=(N, T, C);其中T为序列的长度,N为min-batch的大小,C为输入的特征数目\n",
    "        X = self.embedding(X)\n",
    "        # 循环神经默认输入要求为:(T, N, C)\n",
    "        X = X.permute(1, 0, 2)\n",
    "        output, state = self.rnn(X)\n",
    "        # output.shape=(T, N, hidden_size)\n",
    "        # state.shape=(num_layers, N, hidden_size)\n",
    "        return output, state\n",
    "\n",
    "\n",
    "encoder = Seq2SeqEncoder(vocab_size=10, embed_size=8, hidden_size=16,\n",
    "                         num_layers=2)\n",
    "encoder.eval()\n",
    "\n",
    "X = torch.zeros((4, 7), dtype=torch.long)\n",
    "output, state = encoder(X)\n",
    "print(output.shape)\n",
    "print(state.shape)"
   ],
   "metadata": {
    "collapsed": false,
    "pycharm": {
     "name": "#%%\n"
    }
   }
  },
  {
   "cell_type": "code",
   "execution_count": 48,
   "outputs": [
    {
     "data": {
      "text/plain": "torch.Size([4, 16])"
     },
     "execution_count": 48,
     "metadata": {},
     "output_type": "execute_result"
    }
   ],
   "source": [
    "# state[-1].shape=(N, hidden_size)\n",
    "state[-1].shape"
   ],
   "metadata": {
    "collapsed": false,
    "pycharm": {
     "name": "#%%\n"
    }
   }
  },
  {
   "cell_type": "code",
   "execution_count": 49,
   "outputs": [],
   "source": [
    "def masked_softmax(X, valid_lens=None):\n",
    "    \"\"\"通过在最后⼀个轴上遮蔽元素来执⾏softmax操作\"\"\"\n",
    "\n",
    "    def sequence_mask(X, valid_len, value=0):\n",
    "        \"\"\"Mask irrelevant entries in sequences\"\"\"\n",
    "        maxlen = X.size(1)\n",
    "        mask = torch.arange((maxlen), dtype=torch.float32,\n",
    "                            device=X.device)[None, :] < valid_len[:, None]\n",
    "        X[~mask] = value\n",
    "        return X\n",
    "\n",
    "    if valid_lens is None:\n",
    "        return F.softmax(X, dim=-1)\n",
    "    else:\n",
    "        shape = X.shape\n",
    "        if valid_lens.dim() == 1:\n",
    "            valid_lens = torch.repeat_interleave(valid_lens, shape[1])\n",
    "        else:\n",
    "            valid_lens = valid_lens.reshape(-1)\n",
    "        # 被遮蔽的元素使⽤⼀个⾮常⼤的负值替换,使其softmax输出为0\n",
    "        X = sequence_mask(X.reshape(-1, shape[-1]), valid_lens,\n",
    "                          value=-1e6)\n",
    "        return F.softmax(X.reshape(shape), dim=-1)\n",
    "\n",
    "\n",
    "class AdditiveAttention(nn.Module):\n",
    "    \"\"\"加性注意⼒\"\"\"\n",
    "\n",
    "    def __init__(self, key_size, query_size, num_hiddens, dropout):\n",
    "        super(AdditiveAttention, self).__init__()\n",
    "        # self.W_k.weight.shape = (num_hiddens, key_size)\n",
    "        self.W_k = nn.Linear(key_size, num_hiddens, bias=False)\n",
    "        # self.W_q.weight.shape = (num_hiddens, query_size)\n",
    "        self.W_q = nn.Linear(query_size, num_hiddens, bias=False)\n",
    "        # self.W_v.weight.shape = (1, num_hiddens)\n",
    "        self.w_v = nn.Linear(num_hiddens, 1, bias=False)\n",
    "        self.dropout = nn.Dropout(dropout)\n",
    "\n",
    "    def forward(self, queries, keys, values, valid_lens):\n",
    "        # queries:(b, q?, query_size) x (query_size, num_hiddens) = (b, ?q, num_hiddens)\n",
    "        # keys:(b, k?, key_size) x (key_size, num_hiddens) = (b, ?k, num_hiddens)\n",
    "        queries, keys = self.W_q(queries), self.W_k(keys)\n",
    "        # queries.unsqueeze(2).shape=(b, ?q, 1, num_hiddens)\n",
    "        # keys.unsqueeze(1).shape=(b, 1, ?k, num_hiddens)\n",
    "        # features.shape=(b, ?q, ?k, num_hiddens)\n",
    "        features = queries.unsqueeze(2) + keys.unsqueeze(1)\n",
    "        features = torch.tanh(features)\n",
    "        # scores:(b, ?q, ?k, num_hiddens) x (num_hiddens, 1) = (b, ?q, ?k, 1)\n",
    "        # scores.squeeze(-1).shape=(b, ?q, ?k)\n",
    "        scores = self.w_v(features).squeeze(-1)\n",
    "        self.attention_weights = masked_softmax(scores, valid_lens)\n",
    "        # values.shape=(b, ?k, ?v)\n",
    "        # 返回值:(b, ?q, ?k) x (b, ?k, ?v) = (b, ?q, ?v)\n",
    "        return torch.bmm(self.dropout(self.attention_weights), values)\n",
    "\n",
    "\n",
    "class Seq2SeqAttentionDecoder(nn.Module):\n",
    "    def __init__(self, vocab_size, embed_size, num_hiddens, num_layers, dropout=0):\n",
    "        super(Seq2SeqAttentionDecoder, self).__init__()\n",
    "        self.attention = AdditiveAttention(\n",
    "            num_hiddens, num_hiddens, num_hiddens, dropout)\n",
    "        self.embedding = nn.Embedding(vocab_size, embed_size)\n",
    "        self.rnn = nn.GRU(\n",
    "            embed_size + num_hiddens, num_hiddens, num_layers, dropout=dropout)\n",
    "        self.dense = nn.Linear(num_hiddens, vocab_size)\n",
    "\n",
    "    def init_state(self, enc_outputs, enc_valid_lens):\n",
    "        # output.shape=(T, N, hidden_size)\n",
    "        # hidden_state.shape=(num_layers, N, hidden_size)\n",
    "        outputs, hidden_state = enc_outputs\n",
    "        # output.permute(1, 0, 2).shape=(N, T, hidden_size)\n",
    "        return (outputs.permute(1, 0, 2), hidden_state, enc_valid_lens)\n",
    "\n",
    "    def forward(self, X, state):\n",
    "        # enc_outputs.shape=(N, T, hidden_size)\n",
    "        # hidden_state.shape=(num_layers, N, hidden_size)\n",
    "        enc_outputs, hidden_state, enc_valid_lens = state  # 元组解包\n",
    "        # self.embedding(X).shape=(N, T, C)\n",
    "        # X.permute(1, 0, 2).shape=(T, N, C)\n",
    "        X = self.embedding(X).permute(1, 0, 2)\n",
    "        outputs, self._attention_weights = [], []\n",
    "        for x in X:\n",
    "            # x.shape=(N, 1)\n",
    "            # query.shape.shape=(N, 1, hidden_size)\n",
    "            query = torch.unsqueeze(hidden_state[-1], dim=1)\n",
    "            # context.shape=(N, 1, num_hiddens)\n",
    "            context = self.attention(query, enc_outputs, enc_outputs, enc_valid_lens)\n",
    "\n",
    "            # 在特征维度上连结\n",
    "            # torch.unsqueeze(x, dim=1).shape=(N, 1, C)\n",
    "            # x.shape=(N, 1, C+hidden_size)\n",
    "            x = torch.cat((context, torch.unsqueeze(x, dim=1)), dim=-1)\n",
    "            # x.permute(1, 0, 2).shape=(1, N, C+hidden_size)\n",
    "            # out.shape=(1, N, hidden_size)\n",
    "            out, hidden_state = self.rnn(x.permute(1, 0, 2), hidden_state)  # hidden_size被更新\n",
    "            outputs.append(out)\n",
    "            self._attention_weights.append(self.attention.attention_weights)\n",
    "        # torch.cat(outputs, dim=0).shape=(T, N, hidden_size)\n",
    "        # 全连接层之后:outputs.shape=(T, N, vocab_size)\n",
    "        outputs = self.dense(torch.cat(outputs, dim=0))\n",
    "        # outputs.permute(1, 0, 2).shape=(N, T, vocab_size)\n",
    "        return outputs.permute(1, 0, 2), [enc_outputs, hidden_state,\n",
    "                                          enc_valid_lens]\n",
    "\n",
    "    @property\n",
    "    def attention_weights(self):\n",
    "        return self._attention_weights"
   ],
   "metadata": {
    "collapsed": false,
    "pycharm": {
     "name": "#%%\n"
    }
   }
  },
  {
   "cell_type": "code",
   "execution_count": 50,
   "outputs": [
    {
     "data": {
      "text/plain": "(torch.Size([4, 7, 10]), 3, torch.Size([4, 7, 16]), 2, torch.Size([4, 16]))"
     },
     "execution_count": 50,
     "metadata": {},
     "output_type": "execute_result"
    }
   ],
   "source": [
    "decoder = Seq2SeqAttentionDecoder(vocab_size=10, embed_size=8, num_hiddens=16, num_layers=2)\n",
    "decoder.eval()\n",
    "X = torch.zeros((4, 7), dtype=torch.long)  # X.shaep=(N, T)\n",
    "state = decoder.init_state(encoder(X), None)\n",
    "output, state = decoder(X, state)\n",
    "output.shape, len(state), state[0].shape, len(state[1]), state[1][0].shape"
   ],
   "metadata": {
    "collapsed": false,
    "pycharm": {
     "name": "#%%\n"
    }
   }
  },
  {
   "cell_type": "code",
   "execution_count": 51,
   "outputs": [],
   "source": [
    "class EncoderDecoder(nn.Module):\n",
    "    \"\"\"The base class for the encoder-decoder architecture\"\"\"\n",
    "\n",
    "    def __init__(self, encoder, decoder):\n",
    "        super(EncoderDecoder, self).__init__()\n",
    "        self.encoder = encoder\n",
    "        self.decoder = decoder\n",
    "\n",
    "    def forward(self, enc_X, dec_X):\n",
    "        enc_outputs = self.encoder(enc_X)\n",
    "        dec_state = self.decoder.init_state(enc_outputs, enc_valid_lens=None)\n",
    "        return self.decoder(dec_X, dec_state)"
   ],
   "metadata": {
    "collapsed": false,
    "pycharm": {
     "name": "#%%\n"
    }
   }
  },
  {
   "cell_type": "markdown",
   "source": [
    "### 自定义损失函数"
   ],
   "metadata": {
    "collapsed": false
   }
  },
  {
   "cell_type": "code",
   "execution_count": 52,
   "outputs": [
    {
     "data": {
      "text/plain": "tensor([[1, 0, 0],\n        [4, 5, 0]])"
     },
     "execution_count": 52,
     "metadata": {},
     "output_type": "execute_result"
    }
   ],
   "source": [
    "def sequence_mask(X, valid_len, value=0):\n",
    "    \"\"\"每行有效长度之外的值进行填充\"\"\"\n",
    "    maxlen = X.size(1)\n",
    "    # 广播机制\n",
    "    mask = torch.arange((maxlen), dtype=torch.float32, device=X.device)[None, :] < valid_len[:, None]\n",
    "    X[~mask] = value\n",
    "    return X\n",
    "\n",
    "\n",
    "X = torch.tensor([[1, 2, 3],\n",
    "                  [4, 5, 6]])\n",
    "# 通过零值化屏蔽不相关的项,以便后⾯任何不相关预测的计算都是与零的乘积,结果都等于零\n",
    "sequence_mask(X, torch.tensor([1, 2]))"
   ],
   "metadata": {
    "collapsed": false,
    "pycharm": {
     "name": "#%%\n"
    }
   }
  },
  {
   "cell_type": "code",
   "execution_count": 53,
   "outputs": [
    {
     "data": {
      "text/plain": "tensor([2.3026, 1.1513, 0.0000])"
     },
     "execution_count": 53,
     "metadata": {},
     "output_type": "execute_result"
    }
   ],
   "source": [
    "class MaskedSoftmaxCELoss(nn.Module):\n",
    "    \"\"\"带遮蔽的softmax交叉熵损失函数\"\"\"\n",
    "\n",
    "    def forward(self, pred, label, valid_len):\n",
    "        weights = torch.ones_like(label)\n",
    "        weights = sequence_mask(weights, valid_len)\n",
    "        unweighted_loss = nn.CrossEntropyLoss(reduction='none')(pred.permute(0, 2, 1), label)\n",
    "        weighted_loss = (unweighted_loss * weights).mean(dim=1)\n",
    "        return weighted_loss\n",
    "\n",
    "\n",
    "loss = MaskedSoftmaxCELoss()\n",
    "# 指定这些序列的有效⻓度为4、2、0,可以看出第⼀个序列的损失为第二个序列的两倍,第三个序列的损失为零\n",
    "loss(torch.ones(3, 4, 10), torch.ones((3, 4), dtype=torch.long), torch.tensor([4, 2, 0]))"
   ],
   "metadata": {
    "collapsed": false,
    "pycharm": {
     "name": "#%%\n"
    }
   }
  },
  {
   "cell_type": "markdown",
   "source": [
    "### 模型训练"
   ],
   "metadata": {
    "collapsed": false
   }
  },
  {
   "cell_type": "code",
   "execution_count": 54,
   "outputs": [],
   "source": [
    "def train_seq2seq(net, data_iter, lr, num_epochs, tgt_vocab, device):\n",
    "    \"\"\"训练seq2seq模型\"\"\"\n",
    "    net.to(device)\n",
    "    optimizer = torch.optim.Adam(net.parameters(), lr=lr)\n",
    "    loss = MaskedSoftmaxCELoss()\n",
    "    net.train()\n",
    "\n",
    "    for epoch in range(num_epochs):\n",
    "        for batch_idx, batch in enumerate(data_iter):\n",
    "            X, X_valid_len, Y, Y_valid_len = [x.to(device) for x in batch]\n",
    "            bos = torch.tensor([tgt_vocab['<bos>']] * Y.shape[0], device=device).reshape(-1, 1)\n",
    "            dec_input = torch.cat([bos, Y[:, :-1]], 1)  # Teacher Forcing\n",
    "            Y_hat, _ = net(X, dec_input)\n",
    "            l = loss(Y_hat, Y, Y_valid_len)\n",
    "            l.sum().backward()\n",
    "            torch.nn.utils.clip_grad_norm_(net.parameters(), 3)  # 梯度裁剪\n",
    "            optimizer.step()\n",
    "            if batch_idx % 300 == 0:\n",
    "                print('loss:', l.sum().item())"
   ],
   "metadata": {
    "collapsed": false,
    "pycharm": {
     "name": "#%%\n"
    }
   }
  },
  {
   "cell_type": "code",
   "execution_count": 55,
   "outputs": [
    {
     "name": "stdout",
     "output_type": "stream",
     "text": [
      "loss: 30.767738342285156\n",
      "loss: 17.232234954833984\n",
      "loss: 17.264766693115234\n",
      "loss: 16.037120819091797\n",
      "loss: 13.0699462890625\n",
      "loss: 12.554055213928223\n",
      "loss: 10.070682525634766\n",
      "loss: 11.019838333129883\n",
      "loss: 9.724077224731445\n",
      "loss: 8.603453636169434\n",
      "loss: 9.36562728881836\n",
      "loss: 7.3100690841674805\n",
      "loss: 8.503435134887695\n",
      "loss: 5.955378532409668\n",
      "loss: 7.333395957946777\n",
      "loss: 7.572638034820557\n",
      "loss: 6.08033561706543\n",
      "loss: 6.818236351013184\n",
      "loss: 6.442068099975586\n",
      "loss: 5.490764617919922\n",
      "loss: 6.134253978729248\n",
      "loss: 5.138355731964111\n",
      "loss: 6.274439334869385\n",
      "loss: 4.479513168334961\n",
      "loss: 5.545270919799805\n",
      "loss: 5.029084205627441\n",
      "loss: 4.876688003540039\n",
      "loss: 4.8801727294921875\n",
      "loss: 4.997369766235352\n",
      "loss: 4.919951438903809\n",
      "loss: 5.0525102615356445\n",
      "loss: 4.136142253875732\n",
      "loss: 4.401761054992676\n",
      "loss: 4.312302112579346\n",
      "loss: 3.573528289794922\n",
      "loss: 4.24594259262085\n",
      "loss: 3.6256749629974365\n",
      "loss: 3.6741600036621094\n",
      "loss: 3.5520405769348145\n",
      "loss: 4.4646525382995605\n",
      "loss: 3.4607677459716797\n",
      "loss: 3.9016125202178955\n",
      "loss: 3.6869893074035645\n",
      "loss: 3.0453953742980957\n",
      "loss: 3.405627727508545\n",
      "loss: 3.6145498752593994\n",
      "loss: 4.121158123016357\n",
      "loss: 3.175553798675537\n",
      "loss: 3.1597092151641846\n",
      "loss: 3.3018503189086914\n",
      "loss: 3.545551300048828\n",
      "loss: 3.5539348125457764\n",
      "loss: 3.12874698638916\n",
      "loss: 3.5570411682128906\n",
      "loss: 3.5294017791748047\n",
      "loss: 3.5574378967285156\n",
      "loss: 4.28090763092041\n",
      "loss: 2.4800667762756348\n",
      "loss: 2.7307841777801514\n",
      "loss: 2.8222641944885254\n",
      "loss: 2.4050538539886475\n",
      "loss: 2.725160598754883\n",
      "loss: 2.330305814743042\n",
      "loss: 3.209078788757324\n",
      "loss: 2.434263229370117\n",
      "loss: 3.6526429653167725\n",
      "loss: 3.2842276096343994\n",
      "loss: 2.506042242050171\n",
      "loss: 2.779340982437134\n",
      "loss: 3.3656821250915527\n",
      "loss: 2.7372398376464844\n",
      "loss: 3.0209226608276367\n",
      "loss: 2.704367160797119\n",
      "loss: 2.61155366897583\n",
      "loss: 3.035531759262085\n",
      "loss: 3.0962443351745605\n",
      "loss: 3.137664794921875\n",
      "loss: 3.017880916595459\n",
      "loss: 2.3977835178375244\n",
      "loss: 3.5775794982910156\n",
      "loss: 3.249006986618042\n",
      "loss: 2.628920316696167\n",
      "loss: 3.273425579071045\n",
      "loss: 3.343160629272461\n",
      "loss: 3.492269515991211\n",
      "loss: 3.3974618911743164\n",
      "loss: 2.832516670227051\n",
      "loss: 2.3134894371032715\n",
      "loss: 2.6743719577789307\n",
      "loss: 2.26265811920166\n",
      "loss: 2.9816012382507324\n",
      "loss: 2.5830533504486084\n",
      "loss: 2.597416877746582\n",
      "loss: 2.8935189247131348\n",
      "loss: 2.6260831356048584\n",
      "loss: 2.63495135307312\n",
      "loss: 2.3654227256774902\n",
      "loss: 3.8540432453155518\n",
      "loss: 2.4193553924560547\n",
      "loss: 2.5977933406829834\n",
      "loss: 2.6340742111206055\n",
      "loss: 2.3452603816986084\n",
      "loss: 1.8455188274383545\n",
      "loss: 2.7864181995391846\n",
      "loss: 3.0761771202087402\n",
      "loss: 3.694998025894165\n",
      "loss: 2.4288642406463623\n",
      "loss: 3.2110633850097656\n",
      "loss: 2.988931655883789\n",
      "loss: 2.655883312225342\n",
      "loss: 2.639263153076172\n",
      "loss: 2.440019369125366\n",
      "loss: 3.0512237548828125\n",
      "loss: 1.991160273551941\n",
      "loss: 2.3771719932556152\n",
      "loss: 2.6726064682006836\n",
      "loss: 2.7094767093658447\n",
      "loss: 2.8847851753234863\n",
      "loss: 2.865612506866455\n",
      "loss: 2.6732587814331055\n",
      "loss: 2.0022618770599365\n",
      "loss: 2.9060637950897217\n",
      "loss: 2.0546813011169434\n",
      "loss: 2.1669931411743164\n",
      "loss: 2.203199863433838\n",
      "loss: 2.4260945320129395\n",
      "loss: 2.4465417861938477\n",
      "loss: 2.5732908248901367\n",
      "loss: 2.811293601989746\n",
      "loss: 2.4948859214782715\n",
      "loss: 2.3836047649383545\n",
      "loss: 2.4223227500915527\n",
      "loss: 2.8155503273010254\n",
      "loss: 2.2871358394622803\n",
      "loss: 2.7590529918670654\n",
      "loss: 2.1510238647460938\n",
      "loss: 2.2889392375946045\n",
      "loss: 2.742140769958496\n",
      "loss: 2.986872673034668\n",
      "loss: 2.317389965057373\n",
      "loss: 2.5801897048950195\n",
      "loss: 2.4576237201690674\n",
      "loss: 2.3756089210510254\n",
      "loss: 3.432987689971924\n",
      "loss: 2.662417411804199\n",
      "loss: 2.719816207885742\n",
      "loss: 2.6404919624328613\n",
      "loss: 2.769568920135498\n",
      "loss: 2.4752516746520996\n",
      "loss: 2.5494189262390137\n",
      "loss: 2.507187843322754\n",
      "loss: 3.2574477195739746\n",
      "loss: 2.4767839908599854\n",
      "loss: 2.447435140609741\n",
      "loss: 1.951554775238037\n",
      "loss: 2.8002500534057617\n",
      "loss: 2.461589813232422\n",
      "loss: 2.426819324493408\n",
      "loss: 2.591486930847168\n",
      "loss: 2.5243124961853027\n",
      "loss: 2.371272563934326\n",
      "loss: 2.292015314102173\n",
      "loss: 2.1682519912719727\n",
      "loss: 1.8607265949249268\n",
      "loss: 2.395461082458496\n",
      "loss: 1.9197982549667358\n",
      "loss: 2.487703800201416\n",
      "loss: 2.3109190464019775\n",
      "loss: 1.910744071006775\n",
      "loss: 1.9187673330307007\n",
      "loss: 2.7093944549560547\n",
      "loss: 2.600696563720703\n",
      "loss: 3.044551372528076\n",
      "loss: 2.567448616027832\n",
      "loss: 2.229970932006836\n",
      "loss: 2.6841087341308594\n",
      "loss: 2.289680242538452\n",
      "loss: 2.165601968765259\n",
      "loss: 3.0740976333618164\n",
      "loss: 1.571911334991455\n",
      "loss: 2.553703546524048\n",
      "loss: 2.145244598388672\n",
      "loss: 2.2531042098999023\n",
      "loss: 2.0891318321228027\n",
      "loss: 2.000419855117798\n",
      "loss: 3.1763195991516113\n",
      "loss: 2.1217665672302246\n",
      "loss: 2.0417819023132324\n",
      "loss: 1.88022780418396\n",
      "loss: 2.782012939453125\n",
      "loss: 2.4610488414764404\n",
      "loss: 2.602790355682373\n",
      "loss: 2.3022642135620117\n",
      "loss: 2.836028575897217\n",
      "loss: 2.5489907264709473\n",
      "loss: 2.4251654148101807\n",
      "loss: 1.9880542755126953\n",
      "loss: 1.9287244081497192\n",
      "loss: 2.179020404815674\n",
      "loss: 2.1205925941467285\n"
     ]
    }
   ],
   "source": [
    "embed_size, num_hiddens, num_layers, dropout = 32, 32, 2, 0.1\n",
    "batch_size, num_steps = 32, 25\n",
    "lr, num_epochs, device = 0.005, 200, torch.device(\"cuda\" if torch.cuda.is_available() else \"cpu\")\n",
    "train_iter, src_vocab, tgt_vocab = load_data_nmt(text, batch_size, num_steps, num_examples=1000)\n",
    "encoder = Seq2SeqEncoder(len(src_vocab), embed_size, num_hiddens, num_layers,\n",
    "                         dropout)\n",
    "decoder = Seq2SeqAttentionDecoder(len(tgt_vocab), embed_size, num_hiddens, num_layers,\n",
    "                                  dropout)\n",
    "\n",
    "net = EncoderDecoder(encoder, decoder)\n",
    "train_seq2seq(net, train_iter, lr, num_epochs, tgt_vocab, device)"
   ],
   "metadata": {
    "collapsed": false,
    "pycharm": {
     "name": "#%%\n"
    }
   }
  },
  {
   "cell_type": "markdown",
   "source": [
    "### 模型预测与评估"
   ],
   "metadata": {
    "collapsed": false
   }
  },
  {
   "cell_type": "code",
   "execution_count": 56,
   "outputs": [],
   "source": [
    "def predict_seq2seq(net, src_sentence, src_vocab, tgt_vocab, num_steps, device):\n",
    "    \"\"\"Seq2Seq模型的预测\"\"\"\n",
    "    net.eval()\n",
    "    src_tokens = src_vocab[src_sentence.lower().split(' ')] + [src_vocab['<eos>']]\n",
    "    src_tokens = truncate_pad(src_tokens, num_steps, src_vocab['<pad>'])\n",
    "    enc_X = torch.unsqueeze(torch.tensor(src_tokens, dtype=torch.long, device=device), dim=0)\n",
    "    enc_outputs = net.encoder(enc_X)\n",
    "    # 最终的隐藏状态\n",
    "    dec_state = net.decoder.init_state(enc_outputs, enc_valid_lens=None)\n",
    "    dec_X = torch.unsqueeze(torch.tensor([tgt_vocab['<bos>']], dtype=torch.long, device=device), dim=0)\n",
    "    output_seq, attention_weight_seq = [], []\n",
    "    for _ in range(num_steps):\n",
    "        Y, dec_state = net.decoder(dec_X, dec_state)\n",
    "        # 使用具有预测最高可能性的词元,作为解码器在下⼀时间步的输⼊\n",
    "        dec_X = Y.argmax(dim=2)\n",
    "        pred = dec_X.squeeze(dim=0).type(torch.int32).item()\n",
    "        attention_weight_seq.append(net.decoder.attention_weights)\n",
    "        if pred == tgt_vocab['<eos>']:  # 如果单词为'<eos>',则表示输出序列预测结束\n",
    "            break\n",
    "        output_seq.append(pred)\n",
    "    # 重新翻译回句子\n",
    "    return ' '.join(tgt_vocab.to_tokens(output_seq)), attention_weight_seq"
   ],
   "metadata": {
    "collapsed": false,
    "pycharm": {
     "name": "#%%\n"
    }
   }
  },
  {
   "cell_type": "code",
   "execution_count": 75,
   "outputs": [
    {
     "name": "stdout",
     "output_type": "stream",
     "text": [
      "go . => va !, bleu 1.000\n",
      "i lost . => j'ai perdu ., bleu 1.000\n",
      "he's calm . => il est <unk> ., bleu 0.588\n",
      "i'm home . => je suis malade ., bleu 0.594\n"
     ]
    }
   ],
   "source": [
    "engs = ['go .', \"i lost .\", 'he\\'s calm .', 'i\\'m home .']\n",
    "fras = ['va !', 'j\\'ai perdu .', 'il est calme .', 'je suis chez moi .']\n",
    "all_attension_weight_seq = []\n",
    "for eng, fra in zip(engs, fras):\n",
    "    translation, dec_attention_weight_seq = predict_seq2seq(net, eng, src_vocab, tgt_vocab, num_steps, device)\n",
    "    all_attension_weight_seq.append(dec_attention_weight_seq)\n",
    "    chencherry = SmoothingFunction()\n",
    "    # 使用bleu指标进行结果评估\n",
    "    blen = sentence_bleu([translation], fra, weights=(1 / 2.0, 1 / 2.0), smoothing_function=chencherry.method1)\n",
    "    print(f'{eng} => {translation}, bleu {blen:.3f}')"
   ],
   "metadata": {
    "collapsed": false,
    "pycharm": {
     "name": "#%%\n"
    }
   }
  },
  {
   "cell_type": "code",
   "execution_count": 129,
   "outputs": [
    {
     "data": {
      "text/plain": "tensor([[0.5928, 0.1411, 0.1578],\n        [0.1478, 0.1733, 0.1606],\n        [0.1615, 0.2203, 0.1465]])"
     },
     "execution_count": 129,
     "metadata": {},
     "output_type": "execute_result"
    }
   ],
   "source": [
    "first_sentence_attention_weight = torch.stack([i[0][0][0] for i in all_attension_weight_seq[0]], 1)[:3, :]\n",
    "first_sentence_attention_weight = first_sentence_attention_weight.cpu().detach()\n",
    "first_sentence_attention_weight"
   ],
   "metadata": {
    "collapsed": false,
    "pycharm": {
     "name": "#%%\n"
    }
   }
  },
  {
   "cell_type": "code",
   "execution_count": 130,
   "outputs": [
    {
     "data": {
      "text/plain": "<AxesSubplot:>"
     },
     "execution_count": 130,
     "metadata": {},
     "output_type": "execute_result"
    },
    {
     "data": {
      "text/plain": "<Figure size 432x288 with 2 Axes>",
      "image/png": "[encoded data removed]"
     },
     "metadata": {
      "needs_background": "light"
     },
     "output_type": "display_data"
    }
   ],
   "source": [
    "sns.heatmap(first_sentence_attention_weight, cmap='Reds')"
   ],
   "metadata": {
    "collapsed": false,
    "pycharm": {
     "name": "#%%\n"
    }
   }
  },
  {
   "cell_type": "code",
   "execution_count": null,
   "outputs": [],
   "source": [],
   "metadata": {
    "collapsed": false,
    "pycharm": {
     "name": "#%%\n"
    }
   }
  }
 ],
 "metadata": {
  "kernelspec": {
   "display_name": "Python 3",
   "language": "python",
   "name": "python3"
  },
  "language_info": {
   "codemirror_mode": {
    "name": "ipython",
    "version": 2
   },
   "file_extension": ".py",
   "mimetype": "text/x-python",
   "name": "python",
   "nbconvert_exporter": "python",
   "pygments_lexer": "ipython2",
   "version": "2.7.6"
  }
 },
 "nbformat": 4,
 "nbformat_minor": 0
}