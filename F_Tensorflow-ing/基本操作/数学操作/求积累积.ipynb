{
 "cells": [
  {
   "cell_type": "code",
   "execution_count": 1,
   "outputs": [],
   "source": [
    "import tensorflow as tf"
   ],
   "metadata": {
    "collapsed": false,
    "pycharm": {
     "name": "#%%\n"
    }
   }
  },
  {
   "cell_type": "markdown",
   "source": [
    "### 参考numpy.prod/numpy.cumprod"
   ],
   "metadata": {
    "collapsed": false,
    "pycharm": {
     "name": "#%% md\n"
    }
   }
  },
  {
   "cell_type": "code",
   "execution_count": 2,
   "outputs": [
    {
     "name": "stdout",
     "output_type": "stream",
     "text": [
      "tf.Tensor(0.105000004, shape=(), dtype=float32)\n",
      "tf.Tensor([0.5   0.35  0.07  0.105], shape=(4,), dtype=float32)\n"
     ]
    }
   ],
   "source": [
    "print(tf.math.reduce_prod(tf.constant([0.5, 0.7, 0.2, 1.5])))  # 求积\n",
    "print(tf.math.cumprod(tf.constant([0.5, 0.7, 0.2, 1.5])))  # 累积"
   ],
   "metadata": {
    "collapsed": false,
    "pycharm": {
     "name": "#%%\n"
    }
   }
  },
  {
   "cell_type": "code",
   "execution_count": 3,
   "metadata": {
    "pycharm": {
     "metadata": false,
     "name": "#%%\n"
    }
   },
   "outputs": [
    {
     "name": "stdout",
     "output_type": "stream",
     "text": [
      "tf.Tensor(21, shape=(), dtype=int32)\n",
      "tf.Tensor(720, shape=(), dtype=int32)\n",
      "tf.Tensor([[720]], shape=(1, 1), dtype=int32)\n"
     ]
    }
   ],
   "source": [
    "a = tf.constant([[1, 2, 3],\n",
    "                 [4, 5, 6]])\n",
    "print(tf.math.reduce_sum(a))\n",
    "\n",
    "# 注意:axis参数也可以为元组\n",
    "print(tf.math.reduce_prod(a, axis=(0, 1)))\n",
    "print(tf.math.reduce_prod(a, axis=(0, 1), keepdims=True))  # 保留缩减的维度(广播时使用)"
   ]
  },
  {
   "cell_type": "code",
   "execution_count": 4,
   "metadata": {
    "pycharm": {
     "metadata": false,
     "name": "#%%\n"
    }
   },
   "outputs": [
    {
     "data": {
      "text/plain": "<tf.Tensor: shape=(2, 3), dtype=int32, numpy=\narray([[ 1,  2,  3],\n       [ 4, 10, 18]])>"
     },
     "execution_count": 4,
     "metadata": {},
     "output_type": "execute_result"
    }
   ],
   "source": [
    "tf.math.cumprod(a, axis=0)"
   ]
  },
  {
   "cell_type": "code",
   "execution_count": 5,
   "metadata": {
    "pycharm": {
     "metadata": false,
     "name": "#%%\n"
    }
   },
   "outputs": [
    {
     "data": {
      "text/plain": "<tf.Tensor: shape=(6,), dtype=int32, numpy=array([  1,   2,   6,  24, 120, 720])>"
     },
     "execution_count": 5,
     "metadata": {},
     "output_type": "execute_result"
    }
   ],
   "source": [
    "tf.math.cumprod(tf.reshape(a, (-1,)))\n"
   ]
  }
 ],
 "metadata": {
  "kernelspec": {
   "display_name": "Python 3",
   "language": "python",
   "name": "python3"
  },
  "language_info": {
   "codemirror_mode": {
    "name": "ipython",
    "version": 3
   },
   "file_extension": ".py",
   "mimetype": "text/x-python",
   "name": "python",
   "nbconvert_exporter": "python",
   "pygments_lexer": "ipython3",
   "version": "3.7.3"
  }
 },
 "nbformat": 4,
 "nbformat_minor": 1
}