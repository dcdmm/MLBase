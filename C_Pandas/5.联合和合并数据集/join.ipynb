{
 "cells": [
  {
   "cell_type": "markdown",
   "source": [
    "## join(按照索引合并)"
   ],
   "metadata": {
    "pycharm": {
     "metadata": false
    }
   }
  },
  {
   "cell_type": "code",
   "execution_count": 21,
   "metadata": {},
   "outputs": [
    {
     "name": "stdout",
     "output_type": "stream",
     "text": [
      "   ohio  nevada\n",
      "a     1       2\n",
      "b     3       4\n",
      "c     5       6 \n",
      "\n",
      "    missouri  alabama\n",
      "b         7        8\n",
      "c         9       10\n",
      "d        11       12\n",
      "e        13       14\n"
     ]
    }
   ],
   "source": [
    "import pandas as pd\n",
    "\n",
    "'''\n",
    "Join columns of another DataFrame.\n",
    "\n",
    "Join columns with other DataFrame either on index or on a key column. Efficiently join multiple \n",
    "DataFrame objects by index at once by passing a list.\n",
    "\n",
    "Parameters\n",
    "----------\n",
    "other : DataFrame, Series, or list of DataFrame\n",
    "    Index should be similar to one of the columns in this one. If a\n",
    "    Series is passed, its name attribute must be set, and that will be\n",
    "    used as the column name in the resulting joined DataFrame.\n",
    "\n",
    "on : str, list of str, or array-like, optional\n",
    "    Column or index level name(s) in the caller to join on the index\n",
    "    in `other`, otherwise joins index-on-index. If multiple\n",
    "    values given, the `other` DataFrame must have a MultiIndex. Can\n",
    "    pass an array as the join key if it is not already contained in\n",
    "    the calling DataFrame. Like an Excel VLOOKUP operation.\n",
    "\n",
    "how : {'left', 'right', 'outer', 'inner'}, default 'left'\n",
    "    How to handle the operation of the two objects.\n",
    "\n",
    "    * left: use calling frame's index (or column if on is specified)\n",
    "    * right: use `other`'s index.\n",
    "    * outer: form union of calling frame's index (or column if on is\n",
    "      specified) with `other`'s index, and sort it.\n",
    "      lexicographically.\n",
    "    * inner: form intersection of calling frame's index (or column if\n",
    "      on is specified) with `other`'s index, preserving the order\n",
    "      of the calling's one.\n",
    "\n",
    "lsuffix : str, default ''\n",
    "    Suffix to use from left frame's overlapping columns.\n",
    "\n",
    "rsuffix : str, default ''\n",
    "    Suffix to use from right frame's overlapping columns.\n",
    "'''\n",
    "left = pd.DataFrame([[1, 2], [3, 4], [5, 6]], index=['a', 'b', 'c'],\n",
    "                    columns=['ohio', 'nevada'])\n",
    "\n",
    "right = pd.DataFrame([[7, 8], [9, 10], [11, 12], [13, 14]],\n",
    "                     index=['b', 'c', 'd', 'e'],\n",
    "                     columns=['missouri', 'alabama'])\n",
    "\n",
    "print(left, '\\n\\n', right)"
   ]
  },
  {
   "cell_type": "code",
   "execution_count": 22,
   "metadata": {
    "pycharm": {
     "metadata": false,
     "name": "#%%\n"
    }
   },
   "outputs": [
    {
     "data": {
      "text/plain": "   ohio  nevada  missouri  alabama\na     1       2       NaN      NaN\nb     3       4       7.0      8.0\nc     5       6       9.0     10.0",
      "text/html": "<div>\n<style scoped>\n    .dataframe tbody tr th:only-of-type {\n        vertical-align: middle;\n    }\n\n    .dataframe tbody tr th {\n        vertical-align: top;\n    }\n\n    .dataframe thead th {\n        text-align: right;\n    }\n</style>\n<table border=\"1\" class=\"dataframe\">\n  <thead>\n    <tr style=\"text-align: right;\">\n      <th></th>\n      <th>ohio</th>\n      <th>nevada</th>\n      <th>missouri</th>\n      <th>alabama</th>\n    </tr>\n  </thead>\n  <tbody>\n    <tr>\n      <th>a</th>\n      <td>1</td>\n      <td>2</td>\n      <td>NaN</td>\n      <td>NaN</td>\n    </tr>\n    <tr>\n      <th>b</th>\n      <td>3</td>\n      <td>4</td>\n      <td>7.0</td>\n      <td>8.0</td>\n    </tr>\n    <tr>\n      <th>c</th>\n      <td>5</td>\n      <td>6</td>\n      <td>9.0</td>\n      <td>10.0</td>\n    </tr>\n  </tbody>\n</table>\n</div>"
     },
     "execution_count": 22,
     "metadata": {},
     "output_type": "execute_result"
    }
   ],
   "source": [
    "left.join(right)  # 按照索引进行合并(默认:how='left')"
   ]
  },
  {
   "cell_type": "code",
   "execution_count": 23,
   "metadata": {
    "pycharm": {
     "metadata": false,
     "name": "#%%\n"
    }
   },
   "outputs": [
    {
     "data": {
      "text/plain": "   ohio  nevada  missouri  alabama\na   1.0     2.0       NaN      NaN\nb   3.0     4.0       7.0      8.0\nc   5.0     6.0       9.0     10.0\nd   NaN     NaN      11.0     12.0\ne   NaN     NaN      13.0     14.0",
      "text/html": "<div>\n<style scoped>\n    .dataframe tbody tr th:only-of-type {\n        vertical-align: middle;\n    }\n\n    .dataframe tbody tr th {\n        vertical-align: top;\n    }\n\n    .dataframe thead th {\n        text-align: right;\n    }\n</style>\n<table border=\"1\" class=\"dataframe\">\n  <thead>\n    <tr style=\"text-align: right;\">\n      <th></th>\n      <th>ohio</th>\n      <th>nevada</th>\n      <th>missouri</th>\n      <th>alabama</th>\n    </tr>\n  </thead>\n  <tbody>\n    <tr>\n      <th>a</th>\n      <td>1.0</td>\n      <td>2.0</td>\n      <td>NaN</td>\n      <td>NaN</td>\n    </tr>\n    <tr>\n      <th>b</th>\n      <td>3.0</td>\n      <td>4.0</td>\n      <td>7.0</td>\n      <td>8.0</td>\n    </tr>\n    <tr>\n      <th>c</th>\n      <td>5.0</td>\n      <td>6.0</td>\n      <td>9.0</td>\n      <td>10.0</td>\n    </tr>\n    <tr>\n      <th>d</th>\n      <td>NaN</td>\n      <td>NaN</td>\n      <td>11.0</td>\n      <td>12.0</td>\n    </tr>\n    <tr>\n      <th>e</th>\n      <td>NaN</td>\n      <td>NaN</td>\n      <td>13.0</td>\n      <td>14.0</td>\n    </tr>\n  </tbody>\n</table>\n</div>"
     },
     "execution_count": 23,
     "metadata": {},
     "output_type": "execute_result"
    }
   ],
   "source": [
    "left.join(right, how='outer')"
   ]
  },
  {
   "cell_type": "code",
   "execution_count": 24,
   "metadata": {
    "pycharm": {
     "metadata": false,
     "name": "#%%\n"
    }
   },
   "outputs": [
    {
     "name": "stdout",
     "output_type": "stream",
     "text": [
      "  key  value\n",
      "0   a      0\n",
      "1   b      1\n",
      "2   a      2\n",
      "3   a      3\n",
      "4   b      4\n",
      "5   c      5 \n",
      "\n",
      "    group_val\n",
      "a        3.5\n",
      "b        7.0\n"
     ]
    }
   ],
   "source": [
    "left1 = pd.DataFrame({'key': ['a', 'b', 'a', 'a', 'b', 'c'],\n",
    "                      'value': range(6)})\n",
    "\n",
    "right1 = pd.DataFrame({'group_val': [3.5, 7]}, index=['a', 'b'])\n",
    "print(left1, '\\n\\n', right1)"
   ]
  },
  {
   "cell_type": "code",
   "execution_count": 25,
   "metadata": {
    "pycharm": {
     "metadata": false,
     "name": "#%%\n"
    }
   },
   "outputs": [
    {
     "data": {
      "text/plain": "  key  value  group_val\n0   a      0        3.5\n1   b      1        7.0\n2   a      2        3.5\n3   a      3        3.5\n4   b      4        7.0\n5   c      5        NaN",
      "text/html": "<div>\n<style scoped>\n    .dataframe tbody tr th:only-of-type {\n        vertical-align: middle;\n    }\n\n    .dataframe tbody tr th {\n        vertical-align: top;\n    }\n\n    .dataframe thead th {\n        text-align: right;\n    }\n</style>\n<table border=\"1\" class=\"dataframe\">\n  <thead>\n    <tr style=\"text-align: right;\">\n      <th></th>\n      <th>key</th>\n      <th>value</th>\n      <th>group_val</th>\n    </tr>\n  </thead>\n  <tbody>\n    <tr>\n      <th>0</th>\n      <td>a</td>\n      <td>0</td>\n      <td>3.5</td>\n    </tr>\n    <tr>\n      <th>1</th>\n      <td>b</td>\n      <td>1</td>\n      <td>7.0</td>\n    </tr>\n    <tr>\n      <th>2</th>\n      <td>a</td>\n      <td>2</td>\n      <td>3.5</td>\n    </tr>\n    <tr>\n      <th>3</th>\n      <td>a</td>\n      <td>3</td>\n      <td>3.5</td>\n    </tr>\n    <tr>\n      <th>4</th>\n      <td>b</td>\n      <td>4</td>\n      <td>7.0</td>\n    </tr>\n    <tr>\n      <th>5</th>\n      <td>c</td>\n      <td>5</td>\n      <td>NaN</td>\n    </tr>\n  </tbody>\n</table>\n</div>"
     },
     "execution_count": 25,
     "metadata": {},
     "output_type": "execute_result"
    }
   ],
   "source": [
    "left1.join(right1, on='key')  # left DataFrame的某一列连接right DataFrame的索引"
   ]
  },
  {
   "cell_type": "code",
   "execution_count": 26,
   "metadata": {
    "pycharm": {
     "metadata": false,
     "name": "#%%\n"
    }
   },
   "outputs": [
    {
     "name": "stdout",
     "output_type": "stream",
     "text": [
      "   ohio  nevada\n",
      "a     1       2\n",
      "b     3       4\n",
      "c     5       6 \n",
      "\n",
      "    missouri  alabama\n",
      "b         7        8\n",
      "c         9       10\n",
      "d        11       12\n",
      "e        13       14 \n",
      "\n",
      "    new york  orgon\n",
      "a         7      8\n",
      "c         9     10\n",
      "e        11     12\n",
      "f        16     17\n"
     ]
    }
   ],
   "source": [
    "left2 = pd.DataFrame([[1, 2], [3, 4], [5, 6]], index=['a', 'b', 'c'],\n",
    "                     columns=['ohio', 'nevada'])\n",
    "\n",
    "right2 = pd.DataFrame([[7, 8], [9, 10], [11, 12], [13, 14]],\n",
    "                      index=['b', 'c', 'd', 'e'],\n",
    "                      columns=['missouri', 'alabama'])\n",
    "another = pd.DataFrame([[7, 8], [9, 10], [11, 12], [16, 17]],\n",
    "                       index=['a', 'c', 'e', 'f'],\n",
    "                       columns=['new york', 'orgon'])\n",
    "print(left2, '\\n\\n', right2, '\\n\\n', another)"
   ]
  },
  {
   "cell_type": "code",
   "execution_count": 27,
   "metadata": {
    "pycharm": {
     "metadata": false,
     "name": "#%%\n"
    }
   },
   "outputs": [
    {
     "data": {
      "text/plain": "   ohio  nevada  missouri  alabama  new york  orgon\na   1.0     2.0       NaN      NaN       7.0    8.0\nb   3.0     4.0       7.0      8.0       NaN    NaN\nc   5.0     6.0       9.0     10.0       9.0   10.0",
      "text/html": "<div>\n<style scoped>\n    .dataframe tbody tr th:only-of-type {\n        vertical-align: middle;\n    }\n\n    .dataframe tbody tr th {\n        vertical-align: top;\n    }\n\n    .dataframe thead th {\n        text-align: right;\n    }\n</style>\n<table border=\"1\" class=\"dataframe\">\n  <thead>\n    <tr style=\"text-align: right;\">\n      <th></th>\n      <th>ohio</th>\n      <th>nevada</th>\n      <th>missouri</th>\n      <th>alabama</th>\n      <th>new york</th>\n      <th>orgon</th>\n    </tr>\n  </thead>\n  <tbody>\n    <tr>\n      <th>a</th>\n      <td>1.0</td>\n      <td>2.0</td>\n      <td>NaN</td>\n      <td>NaN</td>\n      <td>7.0</td>\n      <td>8.0</td>\n    </tr>\n    <tr>\n      <th>b</th>\n      <td>3.0</td>\n      <td>4.0</td>\n      <td>7.0</td>\n      <td>8.0</td>\n      <td>NaN</td>\n      <td>NaN</td>\n    </tr>\n    <tr>\n      <th>c</th>\n      <td>5.0</td>\n      <td>6.0</td>\n      <td>9.0</td>\n      <td>10.0</td>\n      <td>9.0</td>\n      <td>10.0</td>\n    </tr>\n  </tbody>\n</table>\n</div>"
     },
     "execution_count": 27,
     "metadata": {},
     "output_type": "execute_result"
    }
   ],
   "source": [
    "left2.join([right2, another])"
   ]
  },
  {
   "cell_type": "code",
   "execution_count": 28,
   "metadata": {
    "pycharm": {
     "metadata": false,
     "name": "#%%\n"
    }
   },
   "outputs": [
    {
     "data": {
      "text/plain": "   ohio  nevada  missouri  alabama  new york  orgon\na   1.0     2.0       NaN      NaN       7.0    8.0\nb   3.0     4.0       7.0      8.0       NaN    NaN\nc   5.0     6.0       9.0     10.0       9.0   10.0\nd   NaN     NaN      11.0     12.0       NaN    NaN\ne   NaN     NaN      13.0     14.0      11.0   12.0\nf   NaN     NaN       NaN      NaN      16.0   17.0",
      "text/html": "<div>\n<style scoped>\n    .dataframe tbody tr th:only-of-type {\n        vertical-align: middle;\n    }\n\n    .dataframe tbody tr th {\n        vertical-align: top;\n    }\n\n    .dataframe thead th {\n        text-align: right;\n    }\n</style>\n<table border=\"1\" class=\"dataframe\">\n  <thead>\n    <tr style=\"text-align: right;\">\n      <th></th>\n      <th>ohio</th>\n      <th>nevada</th>\n      <th>missouri</th>\n      <th>alabama</th>\n      <th>new york</th>\n      <th>orgon</th>\n    </tr>\n  </thead>\n  <tbody>\n    <tr>\n      <th>a</th>\n      <td>1.0</td>\n      <td>2.0</td>\n      <td>NaN</td>\n      <td>NaN</td>\n      <td>7.0</td>\n      <td>8.0</td>\n    </tr>\n    <tr>\n      <th>b</th>\n      <td>3.0</td>\n      <td>4.0</td>\n      <td>7.0</td>\n      <td>8.0</td>\n      <td>NaN</td>\n      <td>NaN</td>\n    </tr>\n    <tr>\n      <th>c</th>\n      <td>5.0</td>\n      <td>6.0</td>\n      <td>9.0</td>\n      <td>10.0</td>\n      <td>9.0</td>\n      <td>10.0</td>\n    </tr>\n    <tr>\n      <th>d</th>\n      <td>NaN</td>\n      <td>NaN</td>\n      <td>11.0</td>\n      <td>12.0</td>\n      <td>NaN</td>\n      <td>NaN</td>\n    </tr>\n    <tr>\n      <th>e</th>\n      <td>NaN</td>\n      <td>NaN</td>\n      <td>13.0</td>\n      <td>14.0</td>\n      <td>11.0</td>\n      <td>12.0</td>\n    </tr>\n    <tr>\n      <th>f</th>\n      <td>NaN</td>\n      <td>NaN</td>\n      <td>NaN</td>\n      <td>NaN</td>\n      <td>16.0</td>\n      <td>17.0</td>\n    </tr>\n  </tbody>\n</table>\n</div>"
     },
     "execution_count": 28,
     "metadata": {},
     "output_type": "execute_result"
    }
   ],
   "source": [
    "left2.join([right2, another], how='outer')"
   ]
  },
  {
   "cell_type": "code",
   "execution_count": 29,
   "metadata": {
    "pycharm": {
     "metadata": false,
     "name": "#%%\n"
    }
   },
   "outputs": [
    {
     "name": "stdout",
     "output_type": "stream",
     "text": [
      "  key   A\n",
      "0  K0  A0\n",
      "1  K1  A1\n",
      "2  K2  A2\n",
      "3  K3  A3\n",
      "4  K4  A4\n",
      "5  K5  A5\n",
      "  key   B\n",
      "0  K0  B0\n",
      "1  K1  B1\n",
      "2  K2  B2\n"
     ]
    }
   ],
   "source": [
    "df = pd.DataFrame({'key': ['K0', 'K1', 'K2', 'K3', 'K4', 'K5'],\n",
    "                   'A': ['A0', 'A1', 'A2', 'A3', 'A4', 'A5']})\n",
    "other = pd.DataFrame({'key': ['K0', 'K1', 'K2'],\n",
    "                      'B': ['B0', 'B1', 'B2']})\n",
    "print(df)\n",
    "print(other)"
   ]
  },
  {
   "cell_type": "code",
   "execution_count": 30,
   "outputs": [
    {
     "data": {
      "text/plain": "  key_left   A key_right    B\n0       K0  A0        K0   B0\n1       K1  A1        K1   B1\n2       K2  A2        K2   B2\n3       K3  A3       NaN  NaN\n4       K4  A4       NaN  NaN\n5       K5  A5       NaN  NaN",
      "text/html": "<div>\n<style scoped>\n    .dataframe tbody tr th:only-of-type {\n        vertical-align: middle;\n    }\n\n    .dataframe tbody tr th {\n        vertical-align: top;\n    }\n\n    .dataframe thead th {\n        text-align: right;\n    }\n</style>\n<table border=\"1\" class=\"dataframe\">\n  <thead>\n    <tr style=\"text-align: right;\">\n      <th></th>\n      <th>key_left</th>\n      <th>A</th>\n      <th>key_right</th>\n      <th>B</th>\n    </tr>\n  </thead>\n  <tbody>\n    <tr>\n      <th>0</th>\n      <td>K0</td>\n      <td>A0</td>\n      <td>K0</td>\n      <td>B0</td>\n    </tr>\n    <tr>\n      <th>1</th>\n      <td>K1</td>\n      <td>A1</td>\n      <td>K1</td>\n      <td>B1</td>\n    </tr>\n    <tr>\n      <th>2</th>\n      <td>K2</td>\n      <td>A2</td>\n      <td>K2</td>\n      <td>B2</td>\n    </tr>\n    <tr>\n      <th>3</th>\n      <td>K3</td>\n      <td>A3</td>\n      <td>NaN</td>\n      <td>NaN</td>\n    </tr>\n    <tr>\n      <th>4</th>\n      <td>K4</td>\n      <td>A4</td>\n      <td>NaN</td>\n      <td>NaN</td>\n    </tr>\n    <tr>\n      <th>5</th>\n      <td>K5</td>\n      <td>A5</td>\n      <td>NaN</td>\n      <td>NaN</td>\n    </tr>\n  </tbody>\n</table>\n</div>"
     },
     "execution_count": 30,
     "metadata": {},
     "output_type": "execute_result"
    }
   ],
   "source": [
    "# 指定left DataFrame重名列的后缀为_left\n",
    "# 指定right DataFrame重名列的后缀为_right\n",
    "df.join(other, lsuffix='_left', rsuffix='_right')"
   ],
   "metadata": {
    "pycharm": {
     "metadata": false,
     "name": "#%%\n"
    }
   }
  },
  {
   "cell_type": "code",
   "execution_count": 30,
   "outputs": [],
   "source": "\n",
   "metadata": {
    "pycharm": {
     "metadata": false,
     "name": "#%%\n"
    }
   }
  }
 ],
 "metadata": {
  "kernelspec": {
   "display_name": "Python 3",
   "language": "python",
   "name": "python3"
  },
  "language_info": {
   "codemirror_mode": {
    "name": "ipython",
    "version": 3
   },
   "file_extension": ".py",
   "mimetype": "text/x-python",
   "name": "python",
   "nbconvert_exporter": "python",
   "pygments_lexer": "ipython3",
   "version": "3.7.3"
  },
  "stem_cell": {
   "cell_type": "raw",
   "source": "",
   "metadata": {
    "pycharm": {
     "metadata": false
    }
   }
  }
 },
 "nbformat": 4,
 "nbformat_minor": 1
}