{
 "cells": [
  {
   "cell_type": "code",
   "execution_count": 1,
   "outputs": [
    {
     "name": "stdout",
     "output_type": "stream",
     "text": [
      "True\n",
      "True\n",
      "True\n",
      "False\n",
      "True\n"
     ]
    }
   ],
   "source": [
    "\"\"\"\n",
    "Return whether the object has an attribute with the given name.\n",
    "\n",
    "This is done by calling getattr(obj, name) and catching AttributeError.\n",
    "\"\"\"\n",
    "class Coordinate:\n",
    "    x = 10\n",
    "    y = -5\n",
    "    z = 0\n",
    "    @staticmethod\n",
    "    def output():\n",
    "        print('Coordinate')\n",
    " \n",
    "point1 = Coordinate() \n",
    "print(hasattr(point1, 'x'))\n",
    "print(hasattr(point1, 'y'))\n",
    "print(hasattr(point1, 'z'))\n",
    "print(hasattr(point1, 'no'))  # 没有该属性\n",
    "print(hasattr(point1, 'output')) # 方法也是一种属性"
   ],
   "metadata": {
    "collapsed": false,
    "pycharm": {
     "name": "#%%\n"
    }
   }
  },
  {
   "cell_type": "code",
   "execution_count": 2,
   "metadata": {
    "collapsed": true,
    "pycharm": {
     "is_executing": false
    }
   },
   "outputs": [
    {
     "name": "stdout",
     "text": [
      "0\n",
      "你访问的属性不存在\n"
     ],
     "output_type": "stream"
    }
   ],
   "source": [
    "\"\"\"\n",
    "getattr(object, name[, default]) -> value\n",
    "\n",
    "Get a named attribute from an object; getattr(x, 'y') is equivalent to x.y.\n",
    "When a default argument is given, it is returned when the attribute doesn't\n",
    "exist; without it, an exception is raised in that case.\n",
    "\"\"\"\n",
    "class C1:\n",
    "\tdef __init__(self,x=0):\n",
    "\t\tself.x = x\n",
    "\n",
    "c1 = C1()\n",
    "print(getattr(c1, 'x'))\n",
    "# print(getattr(c1, 'y')) # 报错(AttributeError: 'C' object has no attribute 'y')\n",
    "print(getattr(c1, 'y','你访问的属性不存在'))\n"
   ]
  },
  {
   "cell_type": "code",
   "execution_count": 3,
   "metadata": {
    "collapsed": false,
    "pycharm": {
     "is_executing": false
    }
   },
   "outputs": [
    {
     "name": "stdout",
     "text": [
      "100\n",
      "duanchao\n"
     ],
     "output_type": "stream"
    }
   ],
   "source": "\"\"\"\nSets the named attribute on the given object to the specified value.\n\nsetattr(x, 'y', v) is equivalent to ``x.y = v''\n\"\"\"\nclass C2:\n\tdef __init__(self,x=0):\n\t\tself.x = x\n\nc2 = C2()\nsetattr(c2, 'x', 100) # 对已存在的属性进行赋值\nprint(getattr(c2, 'x'))\nsetattr(c2, 'y', 'duanchao') # 如果属性不存在会创建一个新的对象属性,并对属性赋值\nprint(getattr(c2, 'y'))"
  },
  {
   "cell_type": "code",
   "execution_count": 4,
   "outputs": [
    {
     "traceback": [
      "\u001B[1;31m---------------------------------------------------------------------------\u001B[0m",
      "\u001B[1;31mAttributeError\u001B[0m                            Traceback (most recent call last)",
      "\u001B[1;32m<ipython-input-4-477f616517a0>\u001B[0m in \u001B[0;36m<module>\u001B[1;34m\u001B[0m\n\u001B[0;32m      1\u001B[0m \u001B[1;31m# delattr()用于删除对象中指定的属性,如果属性不存在,则抛出AttributeError异常\u001B[0m\u001B[1;33m\u001B[0m\u001B[1;33m\u001B[0m\u001B[1;33m\u001B[0m\u001B[0m\n\u001B[0;32m      2\u001B[0m \u001B[0mdelattr\u001B[0m\u001B[1;33m(\u001B[0m\u001B[0mc2\u001B[0m\u001B[1;33m,\u001B[0m \u001B[1;34m'y'\u001B[0m\u001B[1;33m)\u001B[0m\u001B[1;33m\u001B[0m\u001B[1;33m\u001B[0m\u001B[0m\n\u001B[1;32m----> 3\u001B[1;33m \u001B[0mdelattr\u001B[0m\u001B[1;33m(\u001B[0m\u001B[0mc2\u001B[0m\u001B[1;33m,\u001B[0m\u001B[1;34m'y'\u001B[0m\u001B[1;33m)\u001B[0m \u001B[1;31m# 报错,AttributeError: y\u001B[0m\u001B[1;33m\u001B[0m\u001B[1;33m\u001B[0m\u001B[0m\n\u001B[0m\u001B[0;32m      4\u001B[0m \u001B[1;33m\u001B[0m\u001B[0m\n",
      "\u001B[1;31mAttributeError\u001B[0m: y"
     ],
     "ename": "AttributeError",
     "evalue": "y",
     "output_type": "error"
    }
   ],
   "source": "# delattr()用于删除对象中指定的属性,如果属性不存在,则抛出AttributeError异常\ndelattr(c2, 'y')\ndelattr(c2,'y') # 报错,AttributeError: y",
   "metadata": {
    "pycharm": {
     "metadata": false,
     "name": "#%%\n",
     "is_executing": false
    }
   }
  },
  {
   "cell_type": "code",
   "execution_count": null,
   "metadata": {
    "pycharm": {
     "is_executing": false
    }
   },
   "outputs": [],
   "source": ""
  }
 ],
 "metadata": {
  "kernelspec": {
   "name": "python3",
   "language": "python",
   "display_name": "Python 3"
  },
  "language_info": {
   "codemirror_mode": {
    "name": "ipython",
    "version": 2
   },
   "file_extension": ".py",
   "mimetype": "text/x-python",
   "name": "python",
   "nbconvert_exporter": "python",
   "pygments_lexer": "ipython2",
   "version": "2.7.6"
  }
 },
 "nbformat": 4,
 "nbformat_minor": 0
}