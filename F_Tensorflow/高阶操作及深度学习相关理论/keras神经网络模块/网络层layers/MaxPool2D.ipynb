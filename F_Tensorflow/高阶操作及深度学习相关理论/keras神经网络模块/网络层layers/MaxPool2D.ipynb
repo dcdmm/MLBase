{
 "cells": [
  {
   "cell_type": "code",
   "execution_count": 1,
   "metadata": {
    "collapsed": true
   },
   "outputs": [],
   "source": [
    "import tensorflow as tf"
   ]
  },
  {
   "cell_type": "markdown",
   "source": [
    "### 参考torch.nn.Max_Pool2d"
   ],
   "metadata": {
    "collapsed": false,
    "pycharm": {
     "name": "#%% md\n"
    }
   }
  },
  {
   "cell_type": "code",
   "execution_count": 2,
   "outputs": [
    {
     "data": {
      "text/plain": "TensorShape([1, 35, 95, 1])"
     },
     "execution_count": 2,
     "metadata": {},
     "output_type": "execute_result"
    }
   ],
   "source": [
    "'''\n",
    "MaxPool2D默认参数:\n",
    "tf.keras.layers.MaxPool2D(\n",
    "    pool_size=(2, 2), strides=None, padding='valid', data_format=None, **kwargs\n",
    ")\n",
    "'''\n",
    "# C_in和C_out在最后一个维度(注意和pytorch的区别)\n",
    "# Input: (N, H_in, W_in, C_in)\n",
    "# Out: (N, H_out, W_out, C_out)\n",
    "input_tensor = tf.reshape(tf.range(100, 13400), (1, 70, 190, 1))\n",
    "layer = tf.keras.layers.MaxPool2D(pool_size=(3, 5),  # 参考torch.nn.Max_Pool2d kernel_size参数\n",
    "                                  strides=2,  # 参考torch.nn.Max_Pool2d stride参数\n",
    "                                  # One of \"valid\" or \"same\" (case-insensitive).\n",
    "                                  # 参考torch.nn.Max_Pool2d padding参数\n",
    "                                  # 参数取值含义参考tf.kears.layer.Conv2D padding参数\n",
    "                                  padding='same')\n",
    "layer(input_tensor).shape\n"
   ],
   "metadata": {
    "collapsed": false,
    "pycharm": {
     "name": "#%%\n"
    }
   }
  }
 ],
 "metadata": {
  "kernelspec": {
   "display_name": "Python 3",
   "language": "python",
   "name": "python3"
  },
  "language_info": {
   "codemirror_mode": {
    "name": "ipython",
    "version": 2
   },
   "file_extension": ".py",
   "mimetype": "text/x-python",
   "name": "python",
   "nbconvert_exporter": "python",
   "pygments_lexer": "ipython2",
   "version": "2.7.6"
  }
 },
 "nbformat": 4,
 "nbformat_minor": 0
}