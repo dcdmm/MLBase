{
 "cells": [
  {
   "cell_type": "markdown",
   "metadata": {
    "collapsed": true,
    "pycharm": {
     "name": "#%% md\n"
    }
   },
   "source": [
    "<font color='red' size=4>损失函数</font>       \n",
    "$$ J\\left( \\hat{\\boldsymbol{\\beta}}  \\right)=\\frac{1}{2m}\\sum\\limits_{i=1}^{m}{{{\\left( {y}_i - {\\hat{y}_i} \\right)}^{2}}} $$\n",
    "其中: $$ \\hat{y_i} = \\hat{\\beta_1} + \\hat{\\beta_2x_{2i}} + \\hat{\\beta_3x_{3i}} + \\dots + \\hat{\\beta_k x_{ki}} $$\n",
    "\n",
    "<font color='red' size=4>线性回归中使用批量梯度下降法</font>     \n",
    "1. 损失函数矩阵表示    \n",
    "$$ J\\left( \\boldsymbol{\\hat{\\beta}}  \\right) = \\frac{1}{2m} \\left( \\mathbf{y} - X \\boldsymbol{\\hat{\\beta}} \\right)^T \\left(\\mathbf{y} - X \\boldsymbol{\\hat{\\beta}} \\right) $$\n",
    "其中,     \n",
    "\\begin{equation}\n",
    "\\hat{\\mathbf{y}}=\n",
    "\\begin{bmatrix}\n",
    "\\hat{y_1} &  \\\\\n",
    "\\hat{y_2} &  \\\\\n",
    "\\vdots \\\\\n",
    "\\hat{y_n}\n",
    "\\end{bmatrix},\n",
    "\\hat{\\boldsymbol{\\beta}}=\n",
    "\\begin{bmatrix}\n",
    "\\hat{\\beta_1} &  \\\\\n",
    "\\hat{\\beta_2} &  \\\\\n",
    "\\vdots \\\\\n",
    "\\hat{\\beta_k}\n",
    "\\end{bmatrix},\n",
    "X=\n",
    "\\begin{bmatrix}\n",
    "1 & x_{21}  & x_{31} & \\dots & x_{k1} \\\\\n",
    "1 & x_{22}  & x_{32} & \\dots & x_{k2} \\\\\n",
    "\\vdots & \\vdots & \\vdots &   & \\vdots \\\\\n",
    "1 & x_{2n}  & x_{3n} & \\dots & x_{kn} \\\\\n",
    "\\end{bmatrix}\n",
    "\\end{equation}  \n",
    "\n",
    "2. 计算损失函数的梯度向量  \n",
    "\\begin{align}\n",
    "\t& \\frac{\\partial J\\left( \\hat{\\boldsymbol{\\beta}} \\right) }{\\partial\\hat{\\boldsymbol{\\beta}} } \\\\\n",
    "={} & \\frac{\\partial \\left[ \\frac{1}{2m} \\left( \\mathbf{y} - X \\boldsymbol{\\hat{\\beta}} \\right)^T \\left(\\mathbf{y} - X \\boldsymbol{\\hat{\\beta}} \\right) \\right]}{\\partial\\hat{\\boldsymbol{\\beta}}} \\\\\n",
    "={} & \\frac{1}{2m} \\Bigg[ \\left( \\mathbf{y} - X \\boldsymbol{\\hat{\\beta}} \\right)^T  \\frac{ \\partial \\left(\\mathbf{y} - X \\boldsymbol{\\hat{\\beta}} \\right) }{\\partial\\hat{\\boldsymbol{\\beta}}}  +  \\left( \\mathbf{y} - X \\boldsymbol{\\hat{\\beta}} \\right)^T  \\frac{ \\partial \\left(\\mathbf{y} - X \\boldsymbol{\\hat{\\beta}} \\right) }{\\partial\\hat{\\boldsymbol{\\beta}}}  \\Bigg] \\\\\n",
    "={} & \\frac{1}{m}\\left(   \\left( X  \\hat{\\boldsymbol{\\beta}} - \\mathbf{y}  \\right)^T  X \\right)  \\\\\n",
    "    &  梯度矩阵为Jacobian矩阵的转置,故梯度矩阵为: \\\\\n",
    "={} & \\frac{1}{m}\\left( X^T  \\left( X  \\hat{\\boldsymbol{\\beta}} - \\mathbf{y}  \\right) \\right)  \n",
    "\\end{align}"
   ]
  }
 ],
 "metadata": {
  "kernelspec": {
   "display_name": "Python 3",
   "language": "python",
   "name": "python3"
  },
  "language_info": {
   "codemirror_mode": {
    "name": "ipython",
    "version": 3
   },
   "file_extension": ".py",
   "mimetype": "text/x-python",
   "name": "python",
   "nbconvert_exporter": "python",
   "pygments_lexer": "ipython3",
   "version": "3.8.5"
  },
  "pycharm": {
   "stem_cell": {
    "cell_type": "raw",
    "metadata": {
     "collapsed": false
    },
    "source": []
   }
  }
 },
 "nbformat": 4,
 "nbformat_minor": 1
}
