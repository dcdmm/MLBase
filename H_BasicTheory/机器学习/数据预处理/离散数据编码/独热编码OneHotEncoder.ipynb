{
 "cells": [
  {
   "cell_type": "code",
   "execution_count": 56,
   "metadata": {
    "collapsed": true
   },
   "outputs": [
    {
     "data": {
      "text/plain": "array([['male', 'from US', 'uses Safari'],\n       ['female', 'from Europe', 'uses Firefox']], dtype='<U12')"
     },
     "execution_count": 56,
     "metadata": {},
     "output_type": "execute_result"
    }
   ],
   "source": [
    "from sklearn import preprocessing\n",
    "import numpy as np\n",
    "\n",
    "enc = preprocessing.OneHotEncoder()\n",
    "X = np.array([['male', 'from US', 'uses Safari'], ['female', 'from Europe', 'uses Firefox']])\n",
    "X"
   ]
  },
  {
   "cell_type": "code",
   "execution_count": 57,
   "outputs": [
    {
     "data": {
      "text/plain": "OneHotEncoder()"
     },
     "execution_count": 57,
     "metadata": {},
     "output_type": "execute_result"
    }
   ],
   "source": [
    "'''\n",
    "X : array-like, shape [n_samples, n_features]\n",
    "            The data to determine the categories of each feature.\n",
    "'''\n",
    "enc.fit(X)"
   ],
   "metadata": {
    "collapsed": false,
    "pycharm": {
     "name": "#%%\n"
    }
   }
  },
  {
   "cell_type": "code",
   "execution_count": 58,
   "outputs": [
    {
     "data": {
      "text/plain": "array([[1., 0., 0., 1., 0., 1.],\n       [0., 1., 1., 0., 0., 1.]])"
     },
     "execution_count": 58,
     "metadata": {},
     "output_type": "execute_result"
    }
   ],
   "source": [
    "enc.transform([['female', 'from US', 'uses Safari'],\n",
    "               ['male', 'from Europe', 'uses Safari']]).toarray()"
   ],
   "metadata": {
    "collapsed": false,
    "pycharm": {
     "name": "#%%\n"
    }
   }
  },
  {
   "cell_type": "code",
   "execution_count": 59,
   "outputs": [
    {
     "data": {
      "text/plain": "[array(['female', 'male'], dtype='<U12'),\n array(['from Europe', 'from US'], dtype='<U12'),\n array(['uses Firefox', 'uses Safari'], dtype='<U12')]"
     },
     "execution_count": 59,
     "metadata": {},
     "output_type": "execute_result"
    }
   ],
   "source": [
    "enc.categories_ # 默认情况下,从数据集中自动推断出来\n",
    "# 解析\n",
    "# female的编码是1, 0\n",
    "# male的编码是0, 1\n",
    "# from Europe的编码是1, 0\n",
    "# from US的编码是0, 1\n",
    "# users Firefox的编码是1, 0\n",
    "# users Safari的编码是0, 1"
   ],
   "metadata": {
    "collapsed": false,
    "pycharm": {
     "name": "#%%\n"
    }
   }
  },
  {
   "cell_type": "code",
   "execution_count": 60,
   "outputs": [],
   "source": [
    "genders = ['male', 'female']\n",
    "locations = ['from Africa', 'from Asia', 'from US' , 'from Europe']\n",
    "browsers = ['uses Chrome', 'uses Firefox', 'uses IE', 'uses Safari']\n",
    "enc1 = preprocessing.OneHotEncoder(categories=[genders, locations, browsers]) # ★★★★★使用参数明确指定categories,若数据类型为字符串,则必须指定X1的数据类型的object."
   ],
   "metadata": {
    "collapsed": false,
    "pycharm": {
     "name": "#%%\n"
    }
   }
  },
  {
   "cell_type": "code",
   "execution_count": 61,
   "outputs": [
    {
     "data": {
      "text/plain": "OneHotEncoder(categories=[['male', 'female'],\n                          ['from Africa', 'from Asia', 'from US',\n                           'from Europe'],\n                          ['uses Chrome', 'uses Firefox', 'uses IE',\n                           'uses Safari']])"
     },
     "execution_count": 61,
     "metadata": {},
     "output_type": "execute_result"
    }
   ],
   "source": [
    "X1 = np.array([['male', 'from US', 'uses Safari'],\n",
    "               ['female', 'from Europe', 'uses Firefox']],\n",
    "              dtype=object) # 指定X1的数据类型为object\n",
    "enc1.fit(X1)"
   ],
   "metadata": {
    "collapsed": false,
    "pycharm": {
     "name": "#%%\n"
    }
   }
  },
  {
   "cell_type": "code",
   "execution_count": 62,
   "outputs": [
    {
     "data": {
      "text/plain": "array([[0., 1., 0., 0., 1., 0., 0., 0., 0., 1.],\n       [1., 0., 0., 0., 0., 1., 0., 0., 0., 1.]])"
     },
     "execution_count": 62,
     "metadata": {},
     "output_type": "execute_result"
    }
   ],
   "source": [
    "enc1.transform([['female', 'from US', 'uses Safari'],\n",
    "               ['male', 'from Europe', 'uses Safari']]).toarray()"
   ],
   "metadata": {
    "collapsed": false,
    "pycharm": {
     "name": "#%%\n"
    }
   }
  },
  {
   "cell_type": "code",
   "execution_count": 63,
   "outputs": [
    {
     "data": {
      "text/plain": "[array(['male', 'female'], dtype=object),\n array(['from Africa', 'from Asia', 'from US', 'from Europe'], dtype=object),\n array(['uses Chrome', 'uses Firefox', 'uses IE', 'uses Safari'],\n       dtype=object)]"
     },
     "execution_count": 63,
     "metadata": {},
     "output_type": "execute_result"
    }
   ],
   "source": [
    "enc1.categories_\n",
    "# 解析\n",
    "# female的编码是0, 1\n",
    "# male的编码是1, 0\n",
    "# from Africal的编码是1, 0, 0, 0\n",
    "# from Asia的编码是0, 1, 0, 0\n",
    "# from Europe的编码是0, 0, 1, 0\n",
    "# from US的编码是0, 0, 1, 0\n",
    "# user Chrome的编码是0, 0, 0, 1\n",
    "# users Firefox的编码是0, 1, 0, 0\n",
    "# users IE的编码是0, 0, 1, 0\n",
    "# users Safari的编码是0, 0, 0, 1"
   ],
   "metadata": {
    "collapsed": false,
    "pycharm": {
     "name": "#%%\n"
    }
   }
  },
  {
   "cell_type": "code",
   "execution_count": 64,
   "outputs": [
    {
     "data": {
      "text/plain": "array([[1., 0., 0., 0., 0., 0.]])"
     },
     "execution_count": 64,
     "metadata": {},
     "output_type": "execute_result"
    }
   ],
   "source": [
    "enc2 = preprocessing.OneHotEncoder(handle_unknown='ignore') # 如果训练数据有可能缺少分类特征,则通常最好指定handle_unknown='ignore',否则将报错\n",
    "X2 = [['male', 'from US', 'uses Safari'], ['female', 'from Europe', 'uses Firefox']]\n",
    "enc2.fit(X)\n",
    "\n",
    "# 不含from Asia, uses Chrome,故其编码为0, 0;0, 0\n",
    "enc_output = enc2.transform([['female', 'from Asia', 'uses Chrome']]).toarray()\n",
    "enc_output"
   ],
   "metadata": {
    "collapsed": false,
    "pycharm": {
     "name": "#%%\n"
    }
   }
  },
  {
   "cell_type": "code",
   "execution_count": 65,
   "outputs": [
    {
     "data": {
      "text/plain": "[array(['female', 'male'], dtype='<U12'),\n array(['from Europe', 'from US'], dtype='<U12'),\n array(['uses Firefox', 'uses Safari'], dtype='<U12')]"
     },
     "execution_count": 65,
     "metadata": {},
     "output_type": "execute_result"
    }
   ],
   "source": [
    "enc2.categories_"
   ],
   "metadata": {
    "collapsed": false,
    "pycharm": {
     "name": "#%%\n"
    }
   }
  },
  {
   "cell_type": "code",
   "execution_count": 66,
   "outputs": [
    {
     "data": {
      "text/plain": "array([['female', None, None]], dtype=object)"
     },
     "execution_count": 66,
     "metadata": {},
     "output_type": "execute_result"
    }
   ],
   "source": [
    "enc2.inverse_transform(enc_output) # 将数据转换回原始表示形式"
   ],
   "metadata": {
    "collapsed": false,
    "pycharm": {
     "name": "#%%\n"
    }
   }
  },
  {
   "cell_type": "code",
   "execution_count": 66,
   "outputs": [],
   "source": [
    "\n"
   ],
   "metadata": {
    "collapsed": false,
    "pycharm": {
     "name": "#%%\n"
    }
   }
  }
 ],
 "metadata": {
  "kernelspec": {
   "display_name": "Python 3",
   "language": "python",
   "name": "python3"
  },
  "language_info": {
   "codemirror_mode": {
    "name": "ipython",
    "version": 2
   },
   "file_extension": ".py",
   "mimetype": "text/x-python",
   "name": "python",
   "nbconvert_exporter": "python",
   "pygments_lexer": "ipython2",
   "version": "2.7.6"
  }
 },
 "nbformat": 4,
 "nbformat_minor": 0
}