{
 "cells": [
  {
   "cell_type": "code",
   "execution_count": 1,
   "outputs": [
    {
     "name": "stdout",
     "output_type": "stream",
     "text": [
      "[2, 3, 31]\n"
     ]
    }
   ],
   "source": [
    "# 继承:可以使用现有类的所有功能,并在无需重新编写原来的类的情况下对这些功能进行扩展\n",
    "class MyList(list):\n",
    "\tpass\n",
    "\n",
    "list1 = MyList()\n",
    "\n",
    "list1.append(2)\n",
    "list1.extend([31,3])\n",
    "list1.sort()\n",
    "print(list1)"
   ],
   "metadata": {
    "collapsed": false,
    "pycharm": {
     "name": "#%%\n"
    }
   }
  },
  {
   "cell_type": "code",
   "execution_count": 2,
   "outputs": [
    {
     "name": "stdout",
     "output_type": "stream",
     "text": [
      "50\n",
      "正在调用父类的方法....\n",
      "50\n",
      "正在调用父类的方法....\n",
      "50\n",
      "正在调用子类的方法......\n"
     ]
    }
   ],
   "source": [
    "class Parent:\n",
    "    age = 50\n",
    "    def hello(self):\n",
    "        print('正在调用父类的方法....')\n",
    "\n",
    "class Grils(Parent):\n",
    "    age = 21\n",
    "    pass\n",
    "\n",
    "class Boys(Parent):\n",
    "    age = 14\n",
    "    def hello(self):\n",
    "        print('正在调用子类的方法......')\n",
    "\n",
    "\n",
    "p = Parent()\n",
    "print(p.age)\n",
    "p.hello()\n",
    "\n",
    "g = Grils()\n",
    "print(p.age)\n",
    "g.hello()\n",
    "\n",
    "# 如果子类中定义与父类同名的方法或属性,则会自动覆盖父类对应的方法或属性\n",
    "b = Boys()\n",
    "print(p.age)\n",
    "b.hello()"
   ],
   "metadata": {
    "pycharm": {
     "metadata": false,
     "name": "#%%\n"
    }
   }
  },
  {
   "cell_type": "code",
   "execution_count": 3,
   "metadata": {},
   "outputs": [
    {
     "name": "stdout",
     "output_type": "stream",
     "text": [
      "鱼的位置是 0 9\n",
      "🐟移动后的位置是 -1 9\n",
      "金鱼的位置是 0 9\n",
      "🐟移动后的位置是 -1 9\n",
      "鲨鱼0,hangry? True\n",
      "鲨鱼0: 10 9\n",
      "鲨鱼1,hangry? True\n",
      "鲨鱼1: 10 9\n",
      "鲨鱼2,hangry? True\n",
      "鲨鱼2: 0 4\n"
     ]
    }
   ],
   "source": [
    "import  random as r\n",
    "class Fish:\n",
    "\tdef __init__(self):\n",
    "\t\tself.x = r.randint(0,10) # 利用构造方法定义属性\n",
    "\t\tself.y = r.randint(0,10)\n",
    "        \n",
    "\tdef move(self):\n",
    "\t\tself.x -= 1\n",
    "\t\tprint('🐟移动后的位置是', self.x, self.y)\n",
    "\n",
    "class Goldfish(Fish):\n",
    "\tpass\n",
    "\n",
    "class Shark0(Fish):\n",
    "\tdef __init__(self): # 重写了__init__方法(父类的__init__方法被覆盖)\n",
    "\t\tself.hungry = True\n",
    "        \n",
    "\tdef eat(self):\n",
    "\t\tif self.hungry:\n",
    "\t\t\tprint('吃货的梦想就是天天吃东西')\n",
    "\t\t\tself.hungry = False\n",
    "\t\telse:\n",
    "\t\t\tprint('吃不下了')\n",
    "\n",
    "class Shark1(Fish):\n",
    "\tdef __init__(self):\n",
    "\t\tFish.__init__(self) # self是子类的实例对象\n",
    "\t\tself.hungry = False\n",
    "        \n",
    "\tdef eat(self):\n",
    "\t\tif self.hungry:\n",
    "\t\t\tprint('吃货的梦想就是天天吃东西')\n",
    "\t\t\tself.hungry = False\n",
    "\t\telse:\n",
    "\t\t\tprint('吃不下了')\n",
    "\t\t\t\n",
    "class Shark2(Fish):\n",
    "\tdef __init__(self):\n",
    "\t\tsuper().__init__()\n",
    "\t\tself.hungry = True\n",
    "        \n",
    "\tdef eat(self):\n",
    "\t\tif self.hungry:\n",
    "\t\t\tprint('吃货的梦想就是天天吃东西')\n",
    "\t\t\tself.hungry = False\n",
    "\t\telse:\n",
    "\t\t\tprint('吃不下了')\n",
    "\n",
    "fish = Fish()\n",
    "print('鱼的位置是', fish.x, fish.y)\n",
    "fish.move()\n",
    "\n",
    "goldfish = Goldfish()\n",
    "print('金鱼的位置是', goldfish.x, goldfish.y)\n",
    "goldfish.move()\n",
    "\n",
    "shark0 = Shark0()\n",
    "print('鲨鱼0,hangry?', shark0.hungry)\n",
    "# print('鲨鱼0', shark0.x,shark0.y) # 报错,'Shark0' object has no attribute 'x'\n",
    "\n",
    "Fish.__init__(shark0)\n",
    "print('鲨鱼0:', shark0.x, shark0.y)  # 通过这种方式shark拥有属性x,y\n",
    "\n",
    "shark1 = Shark1()\n",
    "print('鲨鱼1,hangry?', shark0.hungry)\n",
    "print('鲨鱼1:', shark1.x, shark1.y) # shark1拥有属性x,y(与上本质上相同)\n",
    "\n",
    "shark2 = Shark2()\n",
    "print('鲨鱼2,hangry?', shark0.hungry)\n",
    "print('鲨鱼2:', shark2.x, shark2.y) # shark2拥有属性x,y"
   ]
  }
 ],
 "metadata": {
  "kernelspec": {
   "name": "python3",
   "language": "python",
   "display_name": "Python 3"
  },
  "language_info": {
   "codemirror_mode": {
    "name": "ipython",
    "version": 2
   },
   "file_extension": ".py",
   "mimetype": "text/x-python",
   "name": "python",
   "nbconvert_exporter": "python",
   "pygments_lexer": "ipython2",
   "version": "2.7.6"
  }
 },
 "nbformat": 4,
 "nbformat_minor": 0
}