{
 "cells": [
  {
   "cell_type": "markdown",
   "source": [
    "<font size=4 color='red'>优先级排序</font>  \n",
    "1. **(指数运算)\n",
    "3. *; /; %;//\n",
    "4. \\+; \\-\n",
    "5. <=; <; >; >=\n",
    "6. ==; !=\n",
    "7. =; %=; /=; //=; -=; +=; *=; **=\n",
    "8. is; is not\n",
    "9. in; not in\n",
    "10. not; and; or"
   ],
   "metadata": {
    "collapsed": false,
    "pycharm": {
     "name": "#%% md\n"
    }
   }
  }
 ],
 "metadata": {
  "language_info": {
   "codemirror_mode": {
    "name": "ipython",
    "version": 2
   },
   "file_extension": ".py",
   "mimetype": "text/x-python",
   "name": "python",
   "nbconvert_exporter": "python",
   "pygments_lexer": "ipython2",
   "version": "2.7.6"
  },
  "kernelspec": {
   "name": "python3",
   "language": "python",
   "display_name": "Python 3"
  }
 },
 "nbformat": 4,
 "nbformat_minor": 0
}