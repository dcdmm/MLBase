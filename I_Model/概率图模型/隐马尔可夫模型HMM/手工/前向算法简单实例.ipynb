{
 "cells": [
  {
   "cell_type": "markdown",
   "metadata": {
    "pycharm": {
     "name": "#%% md\n"
    }
   },
   "source": [
    "&emsp;&emsp;考虑盒子和球模型$\\lambda=(A,B,\\boldsymbol{\\pi})$,状态集合$Q=\\{1, 2, 3 \\}$,观测集合$V=\\{ 红,白\\}$,\n",
    "\n",
    "\\begin{equation}\n",
    "A=\\left[\\begin{array}{ccc}\n",
    "0.5 & 0.2 & 0.3 \\\\\n",
    "0.3 & 0.5 & 0.2 \\\\\n",
    "0.2 & 0.3 & 0.5\n",
    "\\end{array}\\right], \\quad\n",
    "B=\\left[\\begin{array}{cc}\n",
    "0.5 & 0.5 \\\\\n",
    "0.4 & 0.6 \\\\\n",
    "0.7 & 0.3\n",
    "\\end{array}\\right], \\quad\n",
    "\\pi=\\left[\\begin{array}{c}\n",
    "0.2 \\\\\n",
    "0.4 \\\\\n",
    "0.4\n",
    "\\end{array}\\right]\n",
    "\\end{equation}\n",
    "\n",
    "其中$T=3$,$O=\\{红,白,红\\}$"
   ]
  },
  {
   "cell_type": "code",
   "execution_count": 65,
   "metadata": {
    "pycharm": {
     "name": "#%%\n"
    }
   },
   "outputs": [],
   "source": [
    "import numpy as np\n",
    "\n",
    "# 初始化\n",
    "A = np.array([[0.5, 0.2, 0.3],\n",
    "              [0.3, 0.5, 0.2],\n",
    "              [0.2, 0.3, 0.5]])\n",
    "B = np.array([[0.5, 0.5],\n",
    "              [0.4, 0.6],\n",
    "              [0.7, 0.3]])\n",
    "\n",
    "pi = np.array([[0.2, 0.4, 0.4]]).T"
   ]
  },
  {
   "cell_type": "markdown",
   "metadata": {
    "pycharm": {
     "name": "#%% md\n"
    }
   },
   "source": [
    "### 初值\n",
    "\n",
    "\\begin{array}{l}\n",
    "\\alpha_{1}(1)=\\pi_{1} b_{1}\\left(o_{1}\\right)=0.10 \\\\\n",
    "\\alpha_{1}(2)=\\pi_{2} b_{2}\\left(o_{1}\\right)=0.16 \\\\\n",
    "\\alpha_{1}(3)=\\pi_{3} b_{3}\\left(o_{1}\\right)=0.28\n",
    "\\end{array}"
   ]
  },
  {
   "cell_type": "code",
   "execution_count": 66,
   "metadata": {
    "pycharm": {
     "name": "#%%\n"
    }
   },
   "outputs": [
    {
     "data": {
      "text/plain": [
       "array([[0.1 ],\n",
       "       [0.16],\n",
       "       [0.28]])"
      ]
     },
     "execution_count": 66,
     "metadata": {},
     "output_type": "execute_result"
    }
   ],
   "source": [
    "# 计算初值,此时o_1 = 红\n",
    "def init_value(pi,  # 初始状态概率向量\n",
    "               B,  # 观测概率分布\n",
    "               color):  # 此次观测的颜色\n",
    "    \"\"\"计算初值\"\"\"\n",
    "    if color == '红':\n",
    "        index = 0\n",
    "    else:\n",
    "        index = 1\n",
    "    this_B = B[:, index].reshape(-1, 1)\n",
    "    return pi * this_B\n",
    "    pass\n",
    "\n",
    "\n",
    "a_1 = init_value(pi, B, '红')  # 初始前向概率\n",
    "a_1"
   ]
  },
  {
   "cell_type": "markdown",
   "metadata": {
    "pycharm": {
     "name": "#%% md\n"
    }
   },
   "source": [
    "### 递推\n",
    "\n",
    "\\begin{array}{l}\n",
    "\\alpha_{2}(1)=\\left[\\sum_{i=1}^{3} \\alpha_{1}(i) a_{i 1}\\right] b_{1}\\left(o_{2}\\right)=0.154 \\times 0.5=0.077 \\\\\n",
    "\\alpha_{2}(2)=\\left[\\sum_{i=1}^{3} \\alpha_{1}(i) a_{i 2}\\right] b_{2}\\left(o_{2}\\right)=0.184 \\times 0.6=0.1104 \\\\\n",
    "\\alpha_{2}(3)=\\left[\\sum_{i=1}^{3} \\alpha_{1}(i) a_{i 3}\\right] b_{3}\\left(o_{2}\\right)=0.202 \\times 0.3=0.0606 \\\\\n",
    "\\alpha_{3}(1)=\\left[\\sum_{i=1}^{3} \\alpha_{2}(i) a_{i 1}\\right] b_{1}\\left(o_{3}\\right)=0.04187 \\\\\n",
    "\\alpha_{3}(2)=\\left[\\sum_{i=1}^{3} \\alpha_{2}(i) a_{i 2}\\right] b_{2}\\left(o_{3}\\right)=0.03551 \\\\\n",
    "\\alpha_{3}(3)=\\left[\\sum_{i=1}^{3} \\alpha_{2}(i) a_{i 3}\\right] b_{3}\\left(o_{3}\\right)=0.05284\n",
    "\\end{array}"
   ]
  },
  {
   "cell_type": "code",
   "execution_count": 67,
   "metadata": {
    "pycharm": {
     "name": "#%%\n"
    }
   },
   "outputs": [],
   "source": [
    "def recur_com(last_a,  # 上一时刻的前向概率\n",
    "              A,  # 状态转移概率分布\n",
    "              B,  # 观测概率分布\n",
    "              color):  # 此次观测的颜色\n",
    "    \"\"\"前向概率的递推计算\"\"\"\n",
    "    if color == '红':\n",
    "        index = 0\n",
    "    else:\n",
    "        index = 1\n",
    "    step1 = np.sum(last_a * A, axis=0).reshape(-1, 1)\n",
    "    return step1 * B[:, index].reshape(-1, 1)"
   ]
  },
  {
   "cell_type": "code",
   "execution_count": 68,
   "metadata": {
    "pycharm": {
     "name": "#%%\n"
    }
   },
   "outputs": [
    {
     "data": {
      "text/plain": [
       "array([[0.077 ],\n",
       "       [0.1104],\n",
       "       [0.0606]])"
      ]
     },
     "execution_count": 68,
     "metadata": {},
     "output_type": "execute_result"
    }
   ],
   "source": [
    "# 递推计算,此时o_2 = 白\n",
    "a_2 = recur_com(a_1, A, B, color='白')\n",
    "a_2"
   ]
  },
  {
   "cell_type": "code",
   "execution_count": 69,
   "metadata": {
    "pycharm": {
     "name": "#%%\n"
    }
   },
   "outputs": [
    {
     "data": {
      "text/plain": [
       "array([[0.04187 ],\n",
       "       [0.035512],\n",
       "       [0.052836]])"
      ]
     },
     "execution_count": 69,
     "metadata": {},
     "output_type": "execute_result"
    }
   ],
   "source": [
    "# 递推计算,此时o_3=红\n",
    "a_3 = recur_com(a_2, A, B, color='红')\n",
    "a_3"
   ]
  },
  {
   "cell_type": "markdown",
   "metadata": {
    "pycharm": {
     "name": "#%% md\n"
    }
   },
   "source": [
    "### 终止\n",
    "\n",
    "$$ P(O \\mid \\boldsymbol{\\lambda})=\\sum_{i=1}^{3} \\alpha_{3}(i)=0.13022 $$\n",
    "\n",
    "表示在马尔可夫模型参数为$\\boldsymbol{\\lambda}$,观测序列为$O$的概率"
   ]
  },
  {
   "cell_type": "code",
   "execution_count": 70,
   "metadata": {
    "pycharm": {
     "name": "#%%\n"
    }
   },
   "outputs": [
    {
     "data": {
      "text/plain": [
       "0.130218"
      ]
     },
     "execution_count": 70,
     "metadata": {},
     "output_type": "execute_result"
    }
   ],
   "source": [
    "# 终止\n",
    "P_O_lambda = sum(a_3)\n",
    "float(P_O_lambda)  # 该马尔可夫模型下,观测序列为{红,白,红}的概率"
   ]
  },
  {
   "cell_type": "code",
   "execution_count": 70,
   "metadata": {
    "pycharm": {
     "name": "#%%\n"
    }
   },
   "outputs": [],
   "source": [
    "\n"
   ]
  }
 ],
 "metadata": {
  "kernelspec": {
   "display_name": "Python 3",
   "language": "python",
   "name": "python3"
  },
  "language_info": {
   "codemirror_mode": {
    "name": "ipython",
    "version": 3
   },
   "file_extension": ".py",
   "mimetype": "text/x-python",
   "name": "python",
   "nbconvert_exporter": "python",
   "pygments_lexer": "ipython3",
   "version": "3.7.7"
  },
  "toc": {
   "base_numbering": 1,
   "nav_menu": {},
   "number_sections": true,
   "sideBar": true,
   "skip_h1_title": false,
   "title_cell": "Table of Contents",
   "title_sidebar": "Contents",
   "toc_cell": false,
   "toc_position": {},
   "toc_section_display": true,
   "toc_window_display": false
  }
 },
 "nbformat": 4,
 "nbformat_minor": 1
}