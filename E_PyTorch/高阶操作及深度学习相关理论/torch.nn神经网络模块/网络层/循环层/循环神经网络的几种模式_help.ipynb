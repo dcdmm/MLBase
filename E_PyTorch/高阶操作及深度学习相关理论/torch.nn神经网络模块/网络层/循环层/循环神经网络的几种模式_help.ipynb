{
 "cells": [
  {
   "cell_type": "markdown",
   "metadata": {
    "collapsed": true
   },
   "source": [
    "### N to N\n",
    "* 输入序列和输出序列的长度相同,比如在词性标注(Part-of-Speech Tagging)中,每一个单词都需要标注其对应的词性标签\n",
    "\n",
    "<img src=\"../../../../../Other/img/rnnNN.jpg\">\n",
    "\n",
    "\n",
    "### 1 to N\n",
    "这种$1$ VS $N$的结构可以处理的问题有:\n",
    "* 从图像生成文字(image caption),此时输入的$X$就是图像的特征,而输出的$y$序列就是一段句子\n",
    "* 从类别生成语音或音乐等\n",
    "\n",
    "\n",
    "1. 只在序列开始进行输入\n",
    "\n",
    "<img src=\"../../../../../Other/img/rnn1N_0.jpg\">\n",
    "\n",
    "2. 输入信息$X$作为每个阶段的输入\n",
    "\n",
    "<img src=\"../../../../../Other/img/rnn1N_1.jpg\">\n",
    "\n",
    "\n",
    "### N to 1\n",
    "* 主要用于序列数据的分类问题:输入为序列,输出为类别.比如在文本分类中,输入数据为单词的序列,输出为该文本的类别\n",
    "\n",
    "<img src=\"../../../../../Other/img/rnnN1.jpg\">\n",
    "\n",
    "\n",
    "### N to M\n",
    "* 也称为编码器-解码器(Encoder-Decoder)模型,即输入序列和输出序列不需要有严格的对应关系,也不需要保持相同的长度.比如在机器翻译中,输入为源语言的单词序列,输出为目标语言的单词序列\n",
    "\n",
    "<img src=\"../../../../../Other/img/rnnNM.png\">\n",
    "\n",
    "&emsp;&emsp;由上图可知(其中<EOS>表示输入序列的结束,虚线表示将上一个时刻的输出作为下一个时刻的输入),在编码器-解码器模型中,若输入为长度为$T$的序列$X_{1: T}=\\left(\\mathbf{x}_{1}, \\mathbf{x}_{2}, \\ldots, \\mathbf{x}_{t}, \\ldots, \\mathbf{x}_{T}\\right)$,输出为长度为$M$的序列$\\mathbf{y}_{1: M}=\\left(y_{1}, y_{2}, \\ldots, y_{m}, \\ldots, y_{M}\\right)$.编码器-解码器模型一般通过先编码后解码的方式来实现.即先将样本$\\mathbf{x}$按不同时刻输入到一个循环神经网络(编码器)中,并得到其编码$\\mathbf{h}_{T}$.然后再使用另一个循环神经网络(解码器),得到输出序列$\\mathbf{y}_{1: M}$.为了建立输出序列之间的依赖关系,在解码器中通常使用非线性的自回归模型.令$f_1(*)$和$f_2(*)$别为用作编码器和解码器的循环神经网络,则编码器-解码器模型可以写为 \n",
    "\n",
    "\\begin{align}\n",
    "\\mathbf{h}_{t} &= f_1(\\mathbf{h}_{t-1}, \\mathbf{x}_t )  \\qquad \\qquad &  \\forall t \\in [1, T] \\\\\n",
    "\\mathbf{h}_{T+m} &= f_2(\\mathbf{h}_{T+m-1}, \\mathbf{\\hat{y}}_{m-1})  \\qquad \\qquad & \\forall m \\in [1, M] \\\\\n",
    "\\hat{y}_{m} &= g(\\mathbf{h}_{T+m})  \\qquad \\qquad &  \\forall m \\in [1, M] \\\\\n",
    "\\end{align}\n",
    "\n",
    "其中$g(*)$为分类器,在解码器通常采用自回归模型,即每个时刻的输入为上一时刻的预测结果$\\hat{y}_{m-1}$"
   ]
  },
  {
   "cell_type": "code",
   "execution_count": null,
   "metadata": {},
   "outputs": [],
   "source": []
  }
 ],
 "metadata": {
  "kernelspec": {
   "display_name": "Python 3",
   "language": "python",
   "name": "python3"
  },
  "language_info": {
   "codemirror_mode": {
    "name": "ipython",
    "version": 3
   },
   "file_extension": ".py",
   "mimetype": "text/x-python",
   "name": "python",
   "nbconvert_exporter": "python",
   "pygments_lexer": "ipython3",
   "version": "3.7.9"
  },
  "toc": {
   "base_numbering": 1,
   "nav_menu": {},
   "number_sections": true,
   "sideBar": true,
   "skip_h1_title": false,
   "title_cell": "Table of Contents",
   "title_sidebar": "Contents",
   "toc_cell": false,
   "toc_position": {},
   "toc_section_display": true,
   "toc_window_display": false
  }
 },
 "nbformat": 4,
 "nbformat_minor": 1
}