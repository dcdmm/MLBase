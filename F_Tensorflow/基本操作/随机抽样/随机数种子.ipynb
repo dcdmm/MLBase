{
 "cells": [
  {
   "cell_type": "code",
   "execution_count": 7,
   "metadata": {
    "collapsed": true
   },
   "outputs": [],
   "source": [
    "import tensorflow as tf\n",
    "import numpy as np\n",
    "import random"
   ]
  },
  {
   "cell_type": "code",
   "execution_count": 8,
   "outputs": [],
   "source": [
    "def set_seed(seed):\n",
    "    \"\"\"TensorFlow随机数种子设置大全\"\"\"\n",
    "    np.random.seed(seed)\n",
    "    random.seed(seed)\n",
    "    tf.random.set_seed(23)  # Sets the global random seed."
   ],
   "metadata": {
    "collapsed": false,
    "pycharm": {
     "name": "#%%\n"
    }
   }
  },
  {
   "cell_type": "code",
   "execution_count": 10,
   "outputs": [
    {
     "name": "stdout",
     "output_type": "stream",
     "text": [
      "[[ 1.78862847  0.43650985  0.09649747]\n",
      " [-1.8634927  -0.2773882  -0.35475898]]\n",
      "tf.Tensor(\n",
      "[[ 0.7354863   1.0494297   0.614072  ]\n",
      " [ 0.10622141  1.4849378  -0.03285756]], shape=(2, 3), dtype=float32)\n",
      "\n",
      "[[ 1.78862847  0.43650985  0.09649747]\n",
      " [-1.8634927  -0.2773882  -0.35475898]]\n",
      "tf.Tensor(\n",
      "[[ 0.7354863   1.0494297   0.614072  ]\n",
      " [ 0.10622141  1.4849378  -0.03285756]], shape=(2, 3), dtype=float32)\n",
      "\n",
      "[[ 1.78862847  0.43650985  0.09649747]\n",
      " [-1.8634927  -0.2773882  -0.35475898]]\n",
      "tf.Tensor(\n",
      "[[ 0.7354863   1.0494297   0.614072  ]\n",
      " [ 0.10622141  1.4849378  -0.03285756]], shape=(2, 3), dtype=float32)\n",
      "\n",
      "[[ 1.78862847  0.43650985  0.09649747]\n",
      " [-1.8634927  -0.2773882  -0.35475898]]\n",
      "tf.Tensor(\n",
      "[[ 0.7354863   1.0494297   0.614072  ]\n",
      " [ 0.10622141  1.4849378  -0.03285756]], shape=(2, 3), dtype=float32)\n",
      "\n",
      "[[ 1.78862847  0.43650985  0.09649747]\n",
      " [-1.8634927  -0.2773882  -0.35475898]]\n",
      "tf.Tensor(\n",
      "[[ 0.7354863   1.0494297   0.614072  ]\n",
      " [ 0.10622141  1.4849378  -0.03285756]], shape=(2, 3), dtype=float32)\n",
      "\n",
      "\n",
      "\n",
      "\n",
      "[[-0.08274148 -0.62700068 -0.04381817]\n",
      " [-0.47721803 -1.31386475  0.88462238]]\n",
      "tf.Tensor(\n",
      "[[ 0.28878012 -0.17948702 -0.63287175]\n",
      " [-0.35798866  0.8093341   1.1666179 ]], shape=(2, 3), dtype=float32)\n"
     ]
    }
   ],
   "source": [
    "num = 0\n",
    "while num < 5:\n",
    "    set_seed(3)\n",
    "    print(np.random.randn(2, 3))\n",
    "    print(tf.random.normal(mean=0, stddev=1, shape=(2, 3)), end='\\n\\n')\n",
    "    num += 1\n",
    "\n",
    "print(end='\\n\\n\\n')\n",
    "print(np.random.randn(2, 3))\n",
    "print(tf.random.normal(mean=0, stddev=1, shape=(2, 3)))"
   ],
   "metadata": {
    "collapsed": false,
    "pycharm": {
     "name": "#%%\n"
    }
   }
  },
  {
   "cell_type": "code",
   "execution_count": 9,
   "outputs": [],
   "source": [
    "\n"
   ],
   "metadata": {
    "collapsed": false,
    "pycharm": {
     "name": "#%%\n"
    }
   }
  }
 ],
 "metadata": {
  "kernelspec": {
   "display_name": "Python 3",
   "language": "python",
   "name": "python3"
  },
  "language_info": {
   "codemirror_mode": {
    "name": "ipython",
    "version": 2
   },
   "file_extension": ".py",
   "mimetype": "text/x-python",
   "name": "python",
   "nbconvert_exporter": "python",
   "pygments_lexer": "ipython2",
   "version": "2.7.6"
  }
 },
 "nbformat": 4,
 "nbformat_minor": 0
}