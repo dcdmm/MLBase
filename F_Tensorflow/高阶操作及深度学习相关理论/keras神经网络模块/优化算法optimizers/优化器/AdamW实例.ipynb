{
 "cells": [
  {
   "cell_type": "code",
   "execution_count": 3,
   "metadata": {
    "collapsed": true
   },
   "outputs": [],
   "source": [
    "import tensorflow_addons as tfa\n",
    "import tensorflow as tf\n",
    "import numpy as np\n",
    "import matplotlib.pyplot as plt\n",
    "from tensorflow.keras import layers\n",
    "from tensorflow.keras.models import Sequential"
   ]
  },
  {
   "cell_type": "markdown",
   "source": [
    "### 参考torch.optim.Adam"
   ],
   "metadata": {
    "collapsed": false
   }
  },
  {
   "cell_type": "code",
   "execution_count": 4,
   "outputs": [],
   "source": [
    "mnist = np.load(\"../../../../../Other/datasets/NumPy/mnist.npz\")\n",
    "X_train, y_train, X_test, y_test = tf.cast(tf.expand_dims(tf.constant(mnist['x_train']), -1), tf.float32), tf.constant(\n",
    "    mnist['y_train']), tf.cast(\n",
    "    tf.expand_dims(\n",
    "        tf.constant(mnist['x_test']), -1), tf.float32), tf.constant(mnist['y_test'])\n",
    "\n",
    "# 归一化\n",
    "X_train, X_test = X_train / 255.0, X_test / 255.0"
   ],
   "metadata": {
    "collapsed": false,
    "pycharm": {
     "name": "#%%\n"
    }
   }
  },
  {
   "cell_type": "code",
   "execution_count": 5,
   "outputs": [],
   "source": [
    "model = Sequential([\n",
    "    layers.Conv2D(6, 3, activation='relu'),\n",
    "    layers.MaxPooling2D(pool_size=2, strides=2),\n",
    "    layers.Conv2D(16, 3, activation='relu'),\n",
    "    layers.MaxPooling2D(pool_size=2, strides=2),\n",
    "    layers.Flatten(),\n",
    "    layers.Dense(120, activation='relu'),\n",
    "    layers.Dense(84, activation='relu'),\n",
    "    layers.Dense(10, activation='relu'),\n",
    "])"
   ],
   "metadata": {
    "collapsed": false,
    "pycharm": {
     "name": "#%%\n"
    }
   }
  },
  {
   "cell_type": "code",
   "execution_count": 6,
   "outputs": [],
   "source": [
    "'''\n",
    "Adam默认参数:\n",
    "tfa.optimizers.AdamW(\n",
    "    weight_decay: Union[FloatTensorLike, Callable],\n",
    "    learning_rate: Union[FloatTensorLike, Callable] = 0.001,\n",
    "    beta_1: Union[FloatTensorLike, Callable] = 0.9,\n",
    "    beta_2: Union[FloatTensorLike, Callable] = 0.999,\n",
    "    epsilon: tfa.types.FloatTensorLike = 1e-07,\n",
    "    amsgrad: bool = False,\n",
    "    name: str = 'AdamW',\n",
    "    **kwargs\n",
    ")\n",
    "'''\n",
    "model.compile(optimizer=tfa.optimizers.AdamW(learning_rate=0.001,  # 对应torch.optim.AdamW lr参数\n",
    "                                             weight_decay=0.01,  # 对应torch.optim.AdamW weight_decay参数\n",
    "                                             beta_1=0.9, beta_2=0.999,  # 对应torch.optim.AdamW betas参数\n",
    "                                             epsilon=1e-07),  # 对应torch.optim.AdamW eps参数\n",
    "              loss=tf.keras.losses.SparseCategoricalCrossentropy(from_logits=True), metrics=['accuracy'])"
   ],
   "metadata": {
    "collapsed": false,
    "pycharm": {
     "name": "#%%\n"
    }
   }
  },
  {
   "cell_type": "code",
   "execution_count": 7,
   "outputs": [
    {
     "name": "stdout",
     "output_type": "stream",
     "text": [
      "Epoch 1/15\n",
      "1875/1875 [==============================] - 11s 5ms/step - loss: 1.9614 - accuracy: 0.2488 - val_loss: 1.9461 - val_accuracy: 0.2436\n",
      "Epoch 2/15\n",
      "1875/1875 [==============================] - 10s 5ms/step - loss: 1.9552 - accuracy: 0.2495 - val_loss: 1.9749 - val_accuracy: 0.2646\n",
      "Epoch 3/15\n",
      "1875/1875 [==============================] - 10s 5ms/step - loss: 1.9537 - accuracy: 0.2485 - val_loss: 1.9310 - val_accuracy: 0.2587\n",
      "Epoch 4/15\n",
      "1875/1875 [==============================] - 10s 5ms/step - loss: 1.9514 - accuracy: 0.2517 - val_loss: 1.9455 - val_accuracy: 0.2675\n",
      "Epoch 5/15\n",
      "1875/1875 [==============================] - 9s 5ms/step - loss: 1.9516 - accuracy: 0.2501 - val_loss: 1.9514 - val_accuracy: 0.2715\n",
      "Epoch 6/15\n",
      "1875/1875 [==============================] - 10s 5ms/step - loss: 1.9520 - accuracy: 0.2495 - val_loss: 1.9724 - val_accuracy: 0.2393\n",
      "Epoch 7/15\n",
      "1875/1875 [==============================] - 9s 5ms/step - loss: 1.9546 - accuracy: 0.2487 - val_loss: 1.9785 - val_accuracy: 0.2233\n",
      "Epoch 8/15\n",
      "1875/1875 [==============================] - 9s 5ms/step - loss: 1.9533 - accuracy: 0.2488 - val_loss: 1.9507 - val_accuracy: 0.2264\n",
      "Epoch 9/15\n",
      "1875/1875 [==============================] - 9s 5ms/step - loss: 1.9486 - accuracy: 0.2527 - val_loss: 1.9640 - val_accuracy: 0.2636\n",
      "Epoch 10/15\n",
      "1875/1875 [==============================] - 9s 5ms/step - loss: 1.9501 - accuracy: 0.2506 - val_loss: 1.9831 - val_accuracy: 0.2678\n",
      "Epoch 11/15\n",
      "1875/1875 [==============================] - 9s 5ms/step - loss: 1.9550 - accuracy: 0.2496 - val_loss: 1.9509 - val_accuracy: 0.2434\n",
      "Epoch 12/15\n",
      "1875/1875 [==============================] - 10s 5ms/step - loss: 1.9500 - accuracy: 0.2501 - val_loss: 1.9583 - val_accuracy: 0.2503\n",
      "Epoch 13/15\n",
      "1875/1875 [==============================] - 9s 5ms/step - loss: 1.9500 - accuracy: 0.2501 - val_loss: 1.9447 - val_accuracy: 0.2646\n",
      "Epoch 14/15\n",
      "1875/1875 [==============================] - 10s 5ms/step - loss: 1.9513 - accuracy: 0.2507 - val_loss: 1.9440 - val_accuracy: 0.2626\n",
      "Epoch 15/15\n",
      "1875/1875 [==============================] - 9s 5ms/step - loss: 1.9545 - accuracy: 0.2485 - val_loss: 1.9803 - val_accuracy: 0.2595\n"
     ]
    }
   ],
   "source": [
    "history = model.fit(X_train, y_train, epochs=15, validation_data=(X_test, y_test))"
   ],
   "metadata": {
    "collapsed": false,
    "pycharm": {
     "name": "#%%\n"
    }
   }
  },
  {
   "cell_type": "code",
   "execution_count": 8,
   "outputs": [
    {
     "data": {
      "text/plain": "<Figure size 432x288 with 1 Axes>",
      "image/png": "[encoded data removed]"
     },
     "metadata": {
      "needs_background": "light"
     },
     "output_type": "display_data"
    }
   ],
   "source": [
    "plt.plot(history.history['accuracy'], label='accuracy')\n",
    "plt.plot(history.history['val_accuracy'], label='val_accuracy')\n",
    "plt.xlabel('Epoch')\n",
    "plt.ylabel('Accuracy')\n",
    "plt.legend(loc='lower right')\n",
    "plt.show()"
   ],
   "metadata": {
    "collapsed": false,
    "pycharm": {
     "name": "#%%\n"
    }
   }
  },
  {
   "cell_type": "code",
   "execution_count": 9,
   "outputs": [
    {
     "name": "stdout",
     "output_type": "stream",
     "text": [
      "Model: \"sequential\"\n",
      "_________________________________________________________________\n",
      " Layer (type)                Output Shape              Param #   \n",
      "=================================================================\n",
      " conv2d (Conv2D)             (None, 26, 26, 6)         60        \n",
      "                                                                 \n",
      " max_pooling2d (MaxPooling2D  (None, 13, 13, 6)        0         \n",
      " )                                                               \n",
      "                                                                 \n",
      " conv2d_1 (Conv2D)           (None, 11, 11, 16)        880       \n",
      "                                                                 \n",
      " max_pooling2d_1 (MaxPooling  (None, 5, 5, 16)         0         \n",
      " 2D)                                                             \n",
      "                                                                 \n",
      " flatten (Flatten)           (None, 400)               0         \n",
      "                                                                 \n",
      " dense (Dense)               (None, 120)               48120     \n",
      "                                                                 \n",
      " dense_1 (Dense)             (None, 84)                10164     \n",
      "                                                                 \n",
      " dense_2 (Dense)             (None, 10)                850       \n",
      "                                                                 \n",
      "=================================================================\n",
      "Total params: 60,074\n",
      "Trainable params: 60,074\n",
      "Non-trainable params: 0\n",
      "_________________________________________________________________\n"
     ]
    }
   ],
   "source": [
    "model.summary()"
   ],
   "metadata": {
    "collapsed": false,
    "pycharm": {
     "name": "#%%\n"
    }
   }
  },
  {
   "cell_type": "code",
   "execution_count": 21,
   "outputs": [],
   "source": [],
   "metadata": {
    "collapsed": false,
    "pycharm": {
     "name": "#%%\n"
    }
   }
  }
 ],
 "metadata": {
  "kernelspec": {
   "display_name": "Python 3",
   "language": "python",
   "name": "python3"
  },
  "language_info": {
   "codemirror_mode": {
    "name": "ipython",
    "version": 2
   },
   "file_extension": ".py",
   "mimetype": "text/x-python",
   "name": "python",
   "nbconvert_exporter": "python",
   "pygments_lexer": "ipython2",
   "version": "2.7.6"
  }
 },
 "nbformat": 4,
 "nbformat_minor": 0
}