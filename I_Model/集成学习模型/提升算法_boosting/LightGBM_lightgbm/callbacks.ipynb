{
 "cells": [
  {
   "cell_type": "markdown",
   "metadata": {
    "collapsed": true,
    "pycharm": {
     "name": "#%% md\n"
    }
   },
   "source": [
    "回调函数(通过callbacks参数传入)\n",
    "   * record_evaluation===>xgboost(evals_result)\n",
    "   * early_stopping===>xgboost(early_stopping_rounds)\n",
    "   * log_evaluation===>xgboost(verbose_eval)"
   ]
  },
  {
   "cell_type": "code",
   "execution_count": 5,
   "outputs": [],
   "source": [
    "import lightgbm as lgb\n",
    "from sklearn import datasets\n",
    "from sklearn.model_selection import train_test_split\n",
    "import numpy as np\n",
    "from sklearn.preprocessing import OrdinalEncoder"
   ],
   "metadata": {
    "collapsed": false,
    "pycharm": {
     "name": "#%%\n"
    }
   }
  },
  {
   "cell_type": "code",
   "execution_count": 6,
   "outputs": [
    {
     "name": "stdout",
     "output_type": "stream",
     "text": [
      "(2250, 54)\n",
      "(2250,)\n",
      "[1 2 3 4 5 6 7]\n"
     ]
    }
   ],
   "source": [
    "X = datasets.fetch_covtype().data[:3000]\n",
    "y = datasets.fetch_covtype().target[:3000]\n",
    "X_train, X_test, y_train, y_test = train_test_split(X, y)\n",
    "\n",
    "print(X_train.shape)\n",
    "print(y_train.shape)\n",
    "print(np.unique(y_train))  # 7分类任务"
   ],
   "metadata": {
    "collapsed": false,
    "pycharm": {
     "name": "#%%\n"
    }
   }
  },
  {
   "cell_type": "code",
   "execution_count": 7,
   "outputs": [
    {
     "name": "stdout",
     "output_type": "stream",
     "text": [
      "[0. 1. 2. 3. 4. 5. 6.]\n"
     ]
    }
   ],
   "source": [
    "enc = OrdinalEncoder()\n",
    "y_train_enc = enc.fit_transform(y_train.reshape(-1, 1))\n",
    "y_test_enc = enc.transform(y_test.reshape(-1, 1))\n",
    "print(np.unique(y_train_enc))"
   ],
   "metadata": {
    "collapsed": false,
    "pycharm": {
     "name": "#%%\n"
    }
   }
  },
  {
   "cell_type": "code",
   "execution_count": 8,
   "outputs": [],
   "source": [
    "train_dataset = lgb.Dataset(data=X_train, label=y_train_enc)"
   ],
   "metadata": {
    "collapsed": false,
    "pycharm": {
     "name": "#%%\n"
    }
   }
  },
  {
   "cell_type": "code",
   "execution_count": 9,
   "outputs": [
    {
     "name": "stderr",
     "output_type": "stream",
     "text": [
      "C:\\Users\\duanm\\anaconda3\\lib\\site-packages\\lightgbm\\basic.py:179: UserWarning: Converting column-vector to 1d array\n",
      "  _log_warning('Converting column-vector to 1d array')\n"
     ]
    },
    {
     "data": {
      "text/plain": "{'training': OrderedDict([('multi_error',\n               [0.4408888888888889,\n                0.2604444444444444,\n                0.17733333333333334,\n                0.14355555555555555,\n                0.12044444444444445,\n                0.10666666666666667,\n                0.10044444444444445,\n                0.0951111111111111,\n                0.09022222222222222,\n                0.08444444444444445,\n                0.07511111111111111,\n                0.068,\n                0.06355555555555556,\n                0.057777777777777775,\n                0.051111111111111114,\n                0.04711111111111111,\n                0.04577777777777778,\n                0.04,\n                0.036444444444444446,\n                0.035111111111111114,\n                0.03288888888888889,\n                0.03288888888888889,\n                0.028444444444444446,\n                0.024888888888888887,\n                0.023555555555555555,\n                0.01911111111111111,\n                0.016444444444444446,\n                0.015555555555555555,\n                0.015111111111111112,\n                0.014666666666666666,\n                0.012888888888888889,\n                0.009333333333333334,\n                0.009333333333333334,\n                0.008444444444444444,\n                0.0071111111111111115,\n                0.0057777777777777775,\n                0.004888888888888889,\n                0.0035555555555555557,\n                0.0026666666666666666,\n                0.0026666666666666666,\n                0.0026666666666666666,\n                0.0017777777777777779,\n                0.0013333333333333333,\n                0.0013333333333333333,\n                0.0013333333333333333,\n                0.0013333333333333333,\n                0.00044444444444444447,\n                0.00044444444444444447,\n                0.00044444444444444447,\n                0.00044444444444444447,\n                0.00044444444444444447,\n                0.0,\n                0.0,\n                0.0,\n                0.0,\n                0.0,\n                0.0,\n                0.0,\n                0.0,\n                0.0,\n                0.0,\n                0.0,\n                0.0,\n                0.0,\n                0.0,\n                0.0,\n                0.0,\n                0.0,\n                0.0,\n                0.0,\n                0.0,\n                0.0,\n                0.0,\n                0.0,\n                0.0,\n                0.0,\n                0.0,\n                0.0,\n                0.0,\n                0.0,\n                0.0,\n                0.0,\n                0.0,\n                0.0,\n                0.0,\n                0.0,\n                0.0,\n                0.0,\n                0.0,\n                0.0,\n                0.0,\n                0.0,\n                0.0,\n                0.0,\n                0.0,\n                0.0,\n                0.0,\n                0.0,\n                0.0,\n                0.0])]),\n 'valid_1': OrderedDict([('multi_error',\n               [0.48,\n                0.332,\n                0.2693333333333333,\n                0.23466666666666666,\n                0.212,\n                0.20666666666666667,\n                0.2,\n                0.19866666666666666,\n                0.19066666666666668,\n                0.18666666666666668,\n                0.18666666666666668,\n                0.176,\n                0.17866666666666667,\n                0.18266666666666667,\n                0.17333333333333334,\n                0.17333333333333334,\n                0.16933333333333334,\n                0.16933333333333334,\n                0.17066666666666666,\n                0.16666666666666666,\n                0.164,\n                0.16533333333333333,\n                0.168,\n                0.164,\n                0.164,\n                0.16533333333333333,\n                0.16533333333333333,\n                0.168,\n                0.164,\n                0.168,\n                0.16533333333333333,\n                0.16666666666666666,\n                0.164,\n                0.16266666666666665,\n                0.16266666666666665,\n                0.164,\n                0.16533333333333333,\n                0.164,\n                0.16266666666666665,\n                0.15733333333333333,\n                0.156,\n                0.156,\n                0.15866666666666668,\n                0.156,\n                0.15466666666666667,\n                0.152,\n                0.14933333333333335,\n                0.15066666666666667,\n                0.15066666666666667,\n                0.152,\n                0.14933333333333335,\n                0.15466666666666667,\n                0.15333333333333332,\n                0.15066666666666667,\n                0.15333333333333332,\n                0.152,\n                0.15466666666666667,\n                0.15466666666666667,\n                0.15333333333333332,\n                0.14933333333333335,\n                0.15066666666666667,\n                0.152,\n                0.15333333333333332,\n                0.14933333333333335,\n                0.152,\n                0.15066666666666667,\n                0.148,\n                0.148,\n                0.14666666666666667,\n                0.148,\n                0.144,\n                0.14133333333333334,\n                0.14266666666666666,\n                0.14533333333333334,\n                0.14666666666666667,\n                0.144,\n                0.14133333333333334,\n                0.14266666666666666,\n                0.14266666666666666,\n                0.14,\n                0.14266666666666666,\n                0.14266666666666666,\n                0.14133333333333334,\n                0.14266666666666666,\n                0.14133333333333334,\n                0.14266666666666666,\n                0.14133333333333334,\n                0.14,\n                0.14,\n                0.14133333333333334,\n                0.14,\n                0.13866666666666666,\n                0.14133333333333334,\n                0.14,\n                0.13866666666666666,\n                0.14133333333333334,\n                0.13866666666666666,\n                0.13866666666666666,\n                0.13733333333333334,\n                0.136])])}"
     },
     "execution_count": 9,
     "metadata": {},
     "output_type": "execute_result"
    }
   ],
   "source": [
    "evals_result = {}  # 储存评估指标(内置和自定义)结果\n",
    "# Create a callback that records the evaluation history into eval_result.\n",
    "re_func = lgb.record_evaluation(eval_result=evals_result)\n",
    "\n",
    "val_dataset = lgb.Dataset(data=X_test, label=y_test_enc)\n",
    "eval_set = [train_dataset, val_dataset]\n",
    "\n",
    "params = {\"objective\": \"multiclass\",\n",
    "          \"num_class\": 7,\n",
    "          \"metric\": \"multi_error\",\n",
    "          \"verbosity\": -1}\n",
    "lgb.train(params=params,\n",
    "          train_set=train_dataset,\n",
    "          valid_sets=eval_set,\n",
    "          # List of callback functions that are applied at each iteration.\n",
    "          callbacks=[re_func])\n",
    "'''\n",
    " after finishing a model training process will have the following structure:\n",
    "{\n",
    " 'training':\n",
    "     {\n",
    "      'multi_error': [0.48253, 0.35953, ...]\n",
    "     },\n",
    " 'valid1':\n",
    "     {\n",
    "      'multi_error': [0.480385, 0.357756, ...]\n",
    "     }\n",
    "}\n",
    "'''\n",
    "evals_result"
   ],
   "metadata": {
    "collapsed": false,
    "pycharm": {
     "name": "#%%\n"
    }
   }
  },
  {
   "cell_type": "code",
   "execution_count": 10,
   "outputs": [
    {
     "name": "stdout",
     "output_type": "stream",
     "text": [
      "Training until validation scores don't improve for 200 rounds\n",
      "Did not meet early stopping. Best iteration is:\n",
      "[52]\ttraining's multi_error: 0\tvalid_1's multi_error: 0.154667\n"
     ]
    },
    {
     "data": {
      "text/plain": "<lightgbm.basic.Booster at 0x1b8ae26ffa0>"
     },
     "execution_count": 10,
     "metadata": {},
     "output_type": "execute_result"
    }
   ],
   "source": [
    "# Create a callback that activates early stopping.\n",
    "es_func = lgb.early_stopping(stopping_rounds=200)\n",
    "\n",
    "val_dataset = lgb.Dataset(data=X_test, label=y_test_enc)\n",
    "eval_set = [train_dataset, val_dataset]\n",
    "\n",
    "params = {\"objective\": \"multiclass\",\n",
    "          \"num_class\": 7,\n",
    "          \"metric\": \"multi_error\",\n",
    "          \"verbosity\": -1}\n",
    "lgb.train(params=params,\n",
    "          train_set=train_dataset,\n",
    "          valid_sets=eval_set,\n",
    "          callbacks=[es_func])"
   ],
   "metadata": {
    "collapsed": false,
    "pycharm": {
     "name": "#%%\n"
    }
   }
  },
  {
   "cell_type": "code",
   "execution_count": 11,
   "outputs": [
    {
     "name": "stdout",
     "output_type": "stream",
     "text": [
      "[LightGBM] [Warning] Auto-choosing col-wise multi-threading, the overhead of testing was 0.000515 seconds.\n",
      "You can set `force_col_wise=true` to remove the overhead.\n",
      "[LightGBM] [Info] Total Bins 1863\n",
      "[LightGBM] [Info] Number of data points in the train set: 2250, number of used features: 33\n",
      "[LightGBM] [Info] Start training from score -1.770651\n",
      "[LightGBM] [Info] Start training from score -1.187808\n",
      "[LightGBM] [Info] Start training from score -2.531300\n",
      "[LightGBM] [Info] Start training from score -3.143975\n",
      "[LightGBM] [Info] Start training from score -1.360843\n",
      "[LightGBM] [Info] Start training from score -2.307039\n",
      "[LightGBM] [Info] Start training from score -3.074295\n",
      "[LightGBM] [Warning] No further splits with positive gain, best gain: -inf\n",
      "[LightGBM] [Warning] No further splits with positive gain, best gain: -inf\n",
      "[LightGBM] [Warning] No further splits with positive gain, best gain: -inf\n",
      "[LightGBM] [Warning] No further splits with positive gain, best gain: -inf\n",
      "[10]\ttraining's multi_error: 0.0844444\tvalid_1's multi_error: 0.186667\n",
      "[20]\ttraining's multi_error: 0.0351111\tvalid_1's multi_error: 0.166667\n",
      "[30]\ttraining's multi_error: 0.0146667\tvalid_1's multi_error: 0.168\n",
      "[40]\ttraining's multi_error: 0.00266667\tvalid_1's multi_error: 0.157333\n",
      "[50]\ttraining's multi_error: 0.000444444\tvalid_1's multi_error: 0.152\n",
      "[60]\ttraining's multi_error: 0\tvalid_1's multi_error: 0.149333\n",
      "[70]\ttraining's multi_error: 0\tvalid_1's multi_error: 0.148\n",
      "[80]\ttraining's multi_error: 0\tvalid_1's multi_error: 0.14\n",
      "[LightGBM] [Warning] No further splits with positive gain, best gain: -inf\n",
      "[LightGBM] [Warning] No further splits with positive gain, best gain: -inf\n",
      "[LightGBM] [Warning] No further splits with positive gain, best gain: -inf\n",
      "[LightGBM] [Warning] No further splits with positive gain, best gain: -inf\n",
      "[LightGBM] [Warning] No further splits with positive gain, best gain: -inf\n",
      "[LightGBM] [Warning] No further splits with positive gain, best gain: -inf\n",
      "[90]\ttraining's multi_error: 0\tvalid_1's multi_error: 0.141333\n",
      "[LightGBM] [Warning] No further splits with positive gain, best gain: -inf\n",
      "[LightGBM] [Warning] No further splits with positive gain, best gain: -inf\n",
      "[LightGBM] [Warning] No further splits with positive gain, best gain: -inf\n",
      "[LightGBM] [Warning] No further splits with positive gain, best gain: -inf\n",
      "[LightGBM] [Warning] No further splits with positive gain, best gain: -inf\n",
      "[LightGBM] [Warning] No further splits with positive gain, best gain: -inf\n",
      "[LightGBM] [Warning] No further splits with positive gain, best gain: -inf\n",
      "[LightGBM] [Warning] No further splits with positive gain, best gain: -inf\n",
      "[LightGBM] [Warning] No further splits with positive gain, best gain: -inf\n",
      "[LightGBM] [Warning] No further splits with positive gain, best gain: -inf\n",
      "[LightGBM] [Warning] No further splits with positive gain, best gain: -inf\n",
      "[LightGBM] [Warning] No further splits with positive gain, best gain: -inf\n",
      "[LightGBM] [Warning] No further splits with positive gain, best gain: -inf\n",
      "[LightGBM] [Warning] No further splits with positive gain, best gain: -inf\n",
      "[LightGBM] [Warning] No further splits with positive gain, best gain: -inf\n",
      "[LightGBM] [Warning] No further splits with positive gain, best gain: -inf\n",
      "[LightGBM] [Warning] No further splits with positive gain, best gain: -inf\n",
      "[100]\ttraining's multi_error: 0\tvalid_1's multi_error: 0.136\n"
     ]
    },
    {
     "data": {
      "text/plain": "<lightgbm.basic.Booster at 0x1b8ae26fb80>"
     },
     "execution_count": 11,
     "metadata": {},
     "output_type": "execute_result"
    }
   ],
   "source": [
    "# Create a callback that logs the evaluation results.\n",
    "le_func = lgb.log_evaluation(\n",
    "    # period (int, optional (default=1)) –\n",
    "    # The period to log the evaluation results.\n",
    "    # The last boosting stage or the boosting stage found by using early_stopping callback is also logged.\n",
    "    period=10)\n",
    "\n",
    "val_dataset = lgb.Dataset(data=X_test, label=y_test_enc)\n",
    "eval_set = [train_dataset, val_dataset]\n",
    "\n",
    "params = {\"objective\": \"multiclass\",\n",
    "          \"num_class\": 7,\n",
    "          \"metric\": \"multi_error\"}\n",
    "\n",
    "lgb.train(params=params,\n",
    "          train_set=train_dataset,\n",
    "          valid_sets=eval_set,\n",
    "          callbacks=[le_func])"
   ],
   "metadata": {
    "collapsed": false,
    "pycharm": {
     "name": "#%%\n"
    }
   }
  }
 ],
 "metadata": {
  "kernelspec": {
   "display_name": "Python 3",
   "language": "python",
   "name": "python3"
  },
  "language_info": {
   "codemirror_mode": {
    "name": "ipython",
    "version": 2
   },
   "file_extension": ".py",
   "mimetype": "text/x-python",
   "name": "python",
   "nbconvert_exporter": "python",
   "pygments_lexer": "ipython2",
   "version": "2.7.6"
  }
 },
 "nbformat": 4,
 "nbformat_minor": 0
}