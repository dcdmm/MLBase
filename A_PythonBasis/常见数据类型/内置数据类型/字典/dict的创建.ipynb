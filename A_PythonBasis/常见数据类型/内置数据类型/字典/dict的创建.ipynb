{
 "cells": [
  {
   "cell_type": "markdown",
   "metadata": {
    "collapsed": true,
    "pycharm": {
     "name": "#%% md\n"
    }
   },
   "source": [
    "<font color='red' size=4> 字典的键的两个特性:</font>\n",
    "\n",
    "1. 不允许一个键对应多个值\n",
    "2. 键必须是可哈希的"
   ]
  },
  {
   "cell_type": "code",
   "execution_count": 2,
   "outputs": [
    {
     "data": {
      "text/plain": "{}"
     },
     "metadata": {},
     "output_type": "execute_result",
     "execution_count": 2
    }
   ],
   "source": [
    "\"\"\"\n",
    "dict() -> new empty dictionary\n",
    "dict(mapping) -> new dictionary initialized from a mapping object's\n",
    "    (key, value) pairs\n",
    "dict(iterable) -> new dictionary initialized as if via:\n",
    "    d = {}\n",
    "    for k, v in iterable:\n",
    "        d[k] = v\n",
    "dict(**kwargs) -> new dictionary initialized with the name=value pairs\n",
    "    in the keyword argument list.  For example:  dict(one=1, two=2)\n",
    "# (copied from class doc)\n",
    "\"\"\" \n",
    "empty = {} # 创建一个空字典\n",
    "empty1 = dict() # 同上 \n",
    "empty"
   ],
   "metadata": {
    "pycharm": {
     "metadata": false,
     "name": "#%%\n",
     "is_executing": false
    }
   }
  },
  {
   "cell_type": "code",
   "execution_count": 3,
   "outputs": [
    {
     "data": {
      "text/plain": "{'f': 70, 'i': 105, 's': 115, 'h': 104, 'c': 67}"
     },
     "metadata": {},
     "output_type": "execute_result",
     "execution_count": 3
    }
   ],
   "source": [
    "# 创建字典方法一:\n",
    "dict1 = dict((('f', 70), ('i', 105), ('s', 115), ('h', 104), ('c', 67)))\n",
    "dict1"
   ],
   "metadata": {
    "pycharm": {
     "metadata": false,
     "name": "#%%\n",
     "is_executing": false
    }
   }
  },
  {
   "cell_type": "code",
   "execution_count": 5,
   "outputs": [
    {
     "data": {
      "text/plain": "{'f': 70, 'i': 105, 's': 115, 'h': 104, 'c': 67}"
     },
     "metadata": {},
     "output_type": "execute_result",
     "execution_count": 5
    }
   ],
   "source": [
    "# 创建字典方法二:\n",
    "dict2 = dict(zip(['f', 'i', 's', 'h', 'c'], [70, 105, 115, 104, 67]))\n",
    "dict2"
   ],
   "metadata": {
    "pycharm": {
     "metadata": false,
     "name": "#%%\n",
     "is_executing": false
    }
   }
  },
  {
   "cell_type": "code",
   "execution_count": 6,
   "outputs": [
    {
     "data": {
      "text/plain": "{'f': 70, 'i': 105, 's': 115, 'h': 104, 'c': 67}"
     },
     "metadata": {},
     "output_type": "execute_result",
     "execution_count": 6
    }
   ],
   "source": [
    "# 创建字典方法三:\n",
    "dict3 = {'f':70, 'i':105, 's':115, 'h':104, 'c':67}\n",
    "dict3"
   ],
   "metadata": {
    "pycharm": {
     "metadata": false,
     "name": "#%%\n",
     "is_executing": false
    }
   }
  },
  {
   "cell_type": "code",
   "execution_count": 8,
   "outputs": [
    {
     "data": {
      "text/plain": "{'f': 70, 'i': 105, 's': 115, 'h': 104, 'c': 67}"
     },
     "metadata": {},
     "output_type": "execute_result",
     "execution_count": 8
    }
   ],
   "source": [
    "# 创建字典方法四:(键的位置不能加上字符串的引号,否则会报错)\n",
    "dict4 = dict(f=70, i=105, s=115, h=104, c=67)\n",
    "dict4"
   ],
   "metadata": {
    "pycharm": {
     "metadata": false,
     "name": "#%%\n",
     "is_executing": false
    }
   }
  },
  {
   "cell_type": "code",
   "execution_count": 9,
   "outputs": [
    {
     "data": {
      "text/plain": "{'name': 'Sue Jones', 'age': '45', 'pay': '40000', 'job': 'hdw'}"
     },
     "metadata": {},
     "output_type": "execute_result",
     "execution_count": 9
    }
   ],
   "source": [
    "# 创建字典方法五:\n",
    "dict5 = {}\n",
    "dict5['name'] = 'Sue Jones'\n",
    "dict5['age'] = '45'\n",
    "dict5['pay'] = '40000'\n",
    "dict5['job'] = 'hdw'\n",
    "dict5"
   ],
   "metadata": {
    "pycharm": {
     "metadata": false,
     "name": "#%%\n",
     "is_executing": false
    }
   }
  },
  {
   "cell_type": "code",
   "execution_count": 1,
   "outputs": [
    {
     "name": "stdout",
     "text": [
      "70\n",
      "{'f': 70, 'i': 105, 's': 115, 'h': 104, 'c': 67, 'x': 98}\n",
      "{'f': 70, 'i': 105, 's': 115, 'h': 104, 'c': 67, 'x': 120}\n",
      "{'i': 105, 's': 115, 'h': 104, 'c': 67, 'x': 120}\n",
      "{}\n"
     ],
     "output_type": "stream"
    },
    {
     "traceback": [
      "\u001b[1;31m---------------------------------------------------------------------------\u001b[0m",
      "\u001b[1;31mNameError\u001b[0m                                 Traceback (most recent call last)",
      "\u001b[1;32m<ipython-input-1-d6370696323b>\u001b[0m in \u001b[0;36m<module>\u001b[1;34m\u001b[0m\n\u001b[0;32m     10\u001b[0m \u001b[0mprint\u001b[0m\u001b[1;33m(\u001b[0m\u001b[0mdict6\u001b[0m\u001b[1;33m)\u001b[0m\u001b[1;33m\u001b[0m\u001b[1;33m\u001b[0m\u001b[0m\n\u001b[0;32m     11\u001b[0m \u001b[1;32mdel\u001b[0m \u001b[0mdict6\u001b[0m          \u001b[1;31m# 删除字典dict8\u001b[0m\u001b[1;33m\u001b[0m\u001b[1;33m\u001b[0m\u001b[0m\n\u001b[1;32m---> 12\u001b[1;33m \u001b[0mprint\u001b[0m\u001b[1;33m(\u001b[0m\u001b[0mdict6\u001b[0m\u001b[1;33m)\u001b[0m\u001b[1;33m\u001b[0m\u001b[1;33m\u001b[0m\u001b[0m\n\u001b[0m\u001b[0;32m     13\u001b[0m \u001b[1;33m\u001b[0m\u001b[0m\n",
      "\u001b[1;31mNameError\u001b[0m: name 'dict6' is not defined"
     ],
     "ename": "NameError",
     "evalue": "name 'dict6' is not defined",
     "output_type": "error"
    }
   ],
   "source": [
    "dict6 = {'f':70, 'i':105, 's':115, 'h':104, 'c':67}\n",
    "print(dict6['f'])  # 字典的索引\n",
    "dict6['x'] = 98    # 键'x'不存在,创建一个新的键并赋值\n",
    "print(dict6)\n",
    "dict6['x'] = 120   # 键'x'存在,则改写键对应的值\n",
    "print(dict6)  \n",
    "del dict6['f']     # 从字典中删除键及其关联的值\n",
    "print(dict6)\n",
    "dict6.clear()      # 清空字典内容\n",
    "print(dict6)\n",
    "del dict6          # 删除字典dict8\n",
    "print(dict6)"
   ],
   "metadata": {
    "pycharm": {
     "metadata": false,
     "name": "#%%\n",
     "is_executing": false
    }
   }
  },
  {
   "cell_type": "code",
   "execution_count": 3,
   "outputs": [
    {
     "data": {
      "text/plain": "{'a': 2}"
     },
     "metadata": {},
     "output_type": "execute_result",
     "execution_count": 3
    }
   ],
   "source": [
    "dict7 = {'a': 1}\n",
    "dict7['a'] += 1\n",
    "dict7"
   ],
   "metadata": {
    "pycharm": {
     "metadata": false,
     "name": "#%%\n",
     "is_executing": false
    }
   }
  },
  {
   "cell_type": "code",
   "execution_count": 1,
   "outputs": [
    {
     "data": {
      "text/plain": "{'b': [3, 4, 5, 6]}"
     },
     "metadata": {},
     "output_type": "execute_result",
     "execution_count": 1
    }
   ],
   "source": [
    "dic8 = {'b': [3, 4, 5]}\n",
    "dic8['b'].append(6)\n",
    "dic8"
   ],
   "metadata": {
    "collapsed": false,
    "pycharm": {
     "name": "#%%\n",
     "is_executing": false
    }
   }
  },
  {
   "cell_type": "code",
   "execution_count": null,
   "outputs": [],
   "source": [
    "\n"
   ],
   "metadata": {
    "collapsed": false,
    "pycharm": {
     "name": "#%%\n"
    }
   }
  }
 ],
 "metadata": {
  "language_info": {
   "codemirror_mode": {
    "name": "ipython",
    "version": 2
   },
   "file_extension": ".py",
   "mimetype": "text/x-python",
   "name": "python",
   "nbconvert_exporter": "python",
   "pygments_lexer": "ipython2",
   "version": "2.7.6"
  },
  "kernelspec": {
   "name": "python3",
   "language": "python",
   "display_name": "Python 3"
  },
  "pycharm": {
   "stem_cell": {
    "cell_type": "raw",
    "source": [],
    "metadata": {
     "collapsed": false
    }
   }
  }
 },
 "nbformat": 4,
 "nbformat_minor": 0
}