{
 "cells": [
  {
   "cell_type": "code",
   "execution_count": 2,
   "metadata": {
    "collapsed": true
   },
   "outputs": [
    {
     "name": "stdout",
     "output_type": "stream",
     "text": [
      "Full Mode: 李小福/ 是/ 创新/ 办/ 主任/ 也/ 是/ 云/ 计算/ 方面/ 的/ 专家\n"
     ]
    }
   ],
   "source": [
    "import jieba\n",
    "\n",
    "seg_gen0 = jieba.cut(\"李小福是创新办主任也是云计算方面的专家\",\n",
    "                     cut_all=False)\n",
    "print(\"Full Mode: \" + \"/ \".join(seg_gen0))"
   ]
  },
  {
   "cell_type": "code",
   "execution_count": 4,
   "outputs": [],
   "source": [
    "'''\n",
    "* 词典格式和dict.txt一样,一个词占一行;每一行分三部分:词语、词频(可省略)、词性(可省略),用空格隔开,顺序不可颠倒\n",
    "* file_name若为路径或二进制方式打开的文件,则文件必须为UTF-8编码\n",
    "* 词频省略时使用自动计算的能保证分出该词的词频\n",
    "\n",
    "例如:\n",
    "创新办 3 i\n",
    "云计算 5\n",
    "凱特琳 nz\n",
    "台中\n",
    "'''\n",
    "jieba.load_userdict('userdict.txt')  # 指定自己自定义的词典,以便包含jieba词库里没有的词(临时有效)"
   ],
   "metadata": {
    "collapsed": false,
    "pycharm": {
     "name": "#%%\n"
    }
   }
  },
  {
   "cell_type": "code",
   "execution_count": 5,
   "outputs": [
    {
     "name": "stdout",
     "output_type": "stream",
     "text": [
      "Full Mode: 李小福/ 是/ 创新办/ 主任/ 也/ 是/ 云计算/ 方面/ 的/ 专家\n"
     ]
    }
   ],
   "source": [
    "seg_gen1 = jieba.cut(\"李小福是创新办主任也是云计算方面的专家\",\n",
    "                     cut_all=False)\n",
    "print(\"Full Mode: \" + \"/ \".join(seg_gen1))  # 此时创新办和云计算得到正确分割\n"
   ],
   "metadata": {
    "collapsed": false,
    "pycharm": {
     "name": "#%%\n"
    }
   }
  }
 ],
 "metadata": {
  "kernelspec": {
   "display_name": "Python 3",
   "language": "python",
   "name": "python3"
  },
  "language_info": {
   "codemirror_mode": {
    "name": "ipython",
    "version": 2
   },
   "file_extension": ".py",
   "mimetype": "text/x-python",
   "name": "python",
   "nbconvert_exporter": "python",
   "pygments_lexer": "ipython2",
   "version": "2.7.6"
  }
 },
 "nbformat": 4,
 "nbformat_minor": 0
}