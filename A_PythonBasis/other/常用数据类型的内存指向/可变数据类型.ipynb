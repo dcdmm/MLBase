{
 "cells": [
  {
   "cell_type": "markdown",
   "metadata": {
    "pycharm": {
     "name": "#%% md\n"
    }
   },
   "source": [
    "### 可变数据类型:list(可以视为动态的指针数组),dict,set,Series,DataFrame,ndarray,tensor,Variable\n",
    "\n",
    "详情参考:\n",
    "* A_PythonBasis/常见数据类型/序列类型/列表类\n",
    "    * list的修改与内存储问题.ipynb\n",
    "* B_Numpy/基本操作\n",
    "    * ndarray的存储结构.ipynb\n",
    "    * array的修改与共享内存.ipynb\n",
    "* E_Pytorch/基本操作\n",
    "    * tensor的修改与共享内存.ipynb\n",
    "* F_Tensorflow/创建张量\n",
    "    * 变量和常量的区别.ipynb\n",
    "* G_Tool/深拷贝浅拷贝copy模块\n",
    "\n"
   ]
  }
 ],
 "metadata": {
  "kernelspec": {
   "display_name": "Python 3",
   "language": "python",
   "name": "python3"
  },
  "language_info": {
   "codemirror_mode": {
    "name": "ipython",
    "version": 3
   },
   "file_extension": ".py",
   "mimetype": "text/x-python",
   "name": "python",
   "nbconvert_exporter": "python",
   "pygments_lexer": "ipython3",
   "version": "3.7.7"
  },
  "toc": {
   "base_numbering": 1,
   "nav_menu": {},
   "number_sections": true,
   "sideBar": true,
   "skip_h1_title": false,
   "title_cell": "Table of Contents",
   "title_sidebar": "Contents",
   "toc_cell": false,
   "toc_position": {},
   "toc_section_display": true,
   "toc_window_display": false
  }
 },
 "nbformat": 4,
 "nbformat_minor": 1
}