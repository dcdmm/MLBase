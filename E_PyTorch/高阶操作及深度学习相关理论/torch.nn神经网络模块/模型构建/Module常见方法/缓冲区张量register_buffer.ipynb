{
 "cells": [
  {
   "cell_type": "code",
   "execution_count": 59,
   "id": "caf68477",
   "metadata": {},
   "outputs": [],
   "source": [
    "import torch\n",
    "import torch.nn as nn"
   ]
  },
  {
   "cell_type": "code",
   "execution_count": 60,
   "id": "b4eba456",
   "metadata": {},
   "outputs": [],
   "source": [
    "class ScaleModule(nn.Module):\n",
    "    def __init__(self, scale_factor1, scale_factor2):\n",
    "        super().__init__()\n",
    "        # Add a buffer to the module.\n",
    "        # This is typically used to register a buffer that should not to be considered a model parameter. \n",
    "        self.register_buffer(name=\"scale1\", \n",
    "                             tensor=torch.tensor(scale_factor1), \n",
    "                             # whether the buffer is part of this module’s state_dict.\n",
    "                             persistent=False)\n",
    "        self.register_buffer(\"scale2\", torch.tensor(scale_factor2), True) \n",
    "    \n",
    "    def forward(self, x):\n",
    "        return x * self.scale1 * self.scale2"
   ]
  },
  {
   "cell_type": "code",
   "execution_count": 61,
   "id": "fbb16af5",
   "metadata": {},
   "outputs": [
    {
     "name": "stdout",
     "output_type": "stream",
     "text": [
      "tensor([-1, -2])\n",
      "tensor([ -6, -12])\n"
     ]
    }
   ],
   "source": [
    "model = ScaleModule(2, 3)\n",
    "x = torch.tensor([-1, -2])\n",
    "print(x)\n",
    "\n",
    "output = model(x)\n",
    "print(output)\n"
   ]
  },
  {
   "cell_type": "code",
   "execution_count": 62,
   "id": "55eb9a1f",
   "metadata": {},
   "outputs": [
    {
     "name": "stdout",
     "output_type": "stream",
     "text": [
      "tensor(2)\n",
      "tensor(3)\n",
      "[tensor(2), tensor(3)]\n",
      "state_dict:  OrderedDict([('scale2', tensor(3))])\n",
      "\n",
      "tensor(2, device='cuda:0')\n",
      "tensor(3, device='cuda:0')\n",
      "[tensor(2, device='cuda:0'), tensor(3, device='cuda:0')]\n",
      "state_dict:  OrderedDict([('scale2', tensor(3, device='cuda:0'))])\n"
     ]
    }
   ],
   "source": [
    "print(model.scale1)\n",
    "print(model.scale2)\n",
    "print(list(model.buffers()))\n",
    "print(\"state_dict: \", model.state_dict(), end='\\n\\n')\n",
    "\n",
    "model.to(device=\"cuda\" if torch.cuda.is_available() else \"cpu\")\n",
    "\n",
    "print(model.scale1)  # 自动设备切换\n",
    "print(model.scale2)\n",
    "print(list(model.buffers()))\n",
    "print(\"state_dict: \", model.state_dict())"
   ]
  }
 ],
 "metadata": {
  "kernelspec": {
   "display_name": "llm",
   "language": "python",
   "name": "python3"
  },
  "language_info": {
   "codemirror_mode": {
    "name": "ipython",
    "version": 3
   },
   "file_extension": ".py",
   "mimetype": "text/x-python",
   "name": "python",
   "nbconvert_exporter": "python",
   "pygments_lexer": "ipython3",
   "version": "3.10.12"
  }
 },
 "nbformat": 4,
 "nbformat_minor": 5
}
