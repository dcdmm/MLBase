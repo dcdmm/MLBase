{
 "cells": [
  {
   "cell_type": "code",
   "execution_count": null,
   "outputs": [],
   "source": [
    "# 单行注释\n",
    "\n",
    "# 多行注释0\n",
    "# 多行注释0\n",
    "# 多行注释0\n",
    "\n",
    "'''\n",
    "多行注释1\n",
    "多行注释1\n",
    "多行注释1\n",
    "'''"
   ],
   "metadata": {
    "collapsed": false,
    "pycharm": {
     "name": "#%%\n"
    }
   }
  },
  {
   "cell_type": "code",
   "execution_count": 18,
   "outputs": [
    {
     "name": "stdout",
     "output_type": "stream",
     "text": [
      "Help on function func in module __main__:\n",
      "\n",
      "func(parame_x, parame_y)\n",
      "    函数注解标准模板\n",
      "    Parameters\n",
      "    ---------\n",
      "    parame_x : int\n",
      "        参数一\n",
      "    parame_y : int\n",
      "        参数一\n",
      "    \n",
      "    Returns\n",
      "    -------\n",
      "    sum : int\n",
      "        两数之和\n",
      "\n"
     ]
    }
   ],
   "source": [
    "def func(parame_x, parame_y):\n",
    "    \"\"\"\n",
    "    函数注解标准模板\n",
    "    Parameters\n",
    "    ---------\n",
    "    parame_x : int\n",
    "        参数一\n",
    "    parame_y : int\n",
    "        参数一\n",
    "\n",
    "    Returns\n",
    "    -------\n",
    "    sum : int\n",
    "        两数之和\n",
    "    \"\"\"\n",
    "    sum = parame_x + parame_y\n",
    "    return sum\n",
    "\n",
    "\n",
    "help(func)"
   ],
   "metadata": {
    "collapsed": false,
    "pycharm": {
     "name": "#%%\n"
    }
   }
  },
  {
   "cell_type": "code",
   "execution_count": 24,
   "outputs": [
    {
     "name": "stdout",
     "output_type": "stream",
     "text": [
      "Help on class MyClass in module __main__:\n",
      "\n",
      "class MyClass(builtins.object)\n",
      " |  MyClass(parame_n, parame_m)\n",
      " |  \n",
      " |  类注解标准模板\n",
      " |  Parameters\n",
      " |  ---------\n",
      " |  parame_n : int\n",
      " |      __init__参数一\n",
      " |  parame_m : int\n",
      " |      __init__参数一\n",
      " |  \n",
      " |  Methods defined here:\n",
      " |  \n",
      " |  __init__(self, parame_n, parame_m)\n",
      " |      Initialize self.  See help(type(self)) for accurate signature.\n",
      " |  \n",
      " |  operation(self, parame_additional)\n",
      " |      类中函数注释\n",
      " |      Parameters\n",
      " |      ---------\n",
      " |      parame_additional : float\n",
      " |      \n",
      " |      Returns\n",
      " |      -------\n",
      " |      result : float\n",
      " |          三数之乘\n",
      " |  \n",
      " |  ----------------------------------------------------------------------\n",
      " |  Data descriptors defined here:\n",
      " |  \n",
      " |  __dict__\n",
      " |      dictionary for instance variables (if defined)\n",
      " |  \n",
      " |  __weakref__\n",
      " |      list of weak references to the object (if defined)\n",
      "\n"
     ]
    }
   ],
   "source": [
    "class MyClass:\n",
    "    \"\"\"\n",
    "    类注解标准模板\n",
    "    Parameters\n",
    "    ---------\n",
    "    parame_n : int\n",
    "        __init__参数一\n",
    "    parame_m : int\n",
    "        __init__参数一\n",
    "    \"\"\"\n",
    "\n",
    "    def __init__(self, parame_n, parame_m):\n",
    "        self.parame_n = parame_n\n",
    "        self.parame_m = parame_m\n",
    "\n",
    "    def operation(self, parame_additional):\n",
    "        \"\"\"\n",
    "        类中函数注释\n",
    "        Parameters\n",
    "        ---------\n",
    "        parame_additional : float\n",
    "\n",
    "        Returns\n",
    "        -------\n",
    "        result : float\n",
    "            三数之乘\n",
    "        \"\"\"\n",
    "        result = self.parame_n * self.parame_m * parame_additional\n",
    "        return result\n",
    "\n",
    "\n",
    "help(MyClass)"
   ],
   "metadata": {
    "collapsed": false,
    "pycharm": {
     "name": "#%%\n"
    }
   }
  },
  {
   "cell_type": "code",
   "execution_count": null,
   "outputs": [],
   "source": [],
   "metadata": {
    "collapsed": false,
    "pycharm": {
     "name": "#%%\n"
    }
   }
  }
 ],
 "metadata": {
  "kernelspec": {
   "display_name": "Python 3",
   "language": "python",
   "name": "python3"
  },
  "language_info": {
   "codemirror_mode": {
    "name": "ipython",
    "version": 2
   },
   "file_extension": ".py",
   "mimetype": "text/x-python",
   "name": "python",
   "nbconvert_exporter": "python",
   "pygments_lexer": "ipython2",
   "version": "2.7.6"
  }
 },
 "nbformat": 4,
 "nbformat_minor": 0
}