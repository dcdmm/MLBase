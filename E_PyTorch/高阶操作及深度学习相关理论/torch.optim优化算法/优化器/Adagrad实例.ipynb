{
 "cells": [
  {
   "cell_type": "code",
   "execution_count": 9,
   "metadata": {
    "pycharm": {
     "name": "#%%\n"
    }
   },
   "outputs": [],
   "source": [
    "import torch.nn as nn\n",
    "import torch.optim as optim\n",
    "from torchvision import datasets, transforms\n",
    "import torch.utils.data as Data\n",
    "import torch"
   ]
  },
  {
   "cell_type": "code",
   "execution_count": 10,
   "metadata": {
    "pycharm": {
     "name": "#%%\n"
    }
   },
   "outputs": [],
   "source": [
    "batch_size = 200\n",
    "learning_rate = 0.01\n",
    "epochs = 5\n",
    "\n",
    "train_data = datasets.MNIST('../../../../Other/datasets/PyTorch',\n",
    "                            train=True,\n",
    "                            transform=transforms.Compose([\n",
    "                                transforms.ToTensor(),\n",
    "                                transforms.Normalize((0.1307,), (0.3081,))\n",
    "                            ]))\n",
    "\n",
    "test_data = datasets.MNIST('../../../../Other/datasets/PyTorch',\n",
    "                           train=False,\n",
    "                           transform=transforms.Compose([\n",
    "                               transforms.ToTensor(),\n",
    "                               transforms.Normalize((0.1307,), (0.3081,))\n",
    "                           ]))\n",
    "\n",
    "# 手写数字训练数据集\n",
    "train_loader = Data.DataLoader(dataset=train_data,\n",
    "                               batch_size=batch_size,\n",
    "                               shuffle=True)\n",
    "\n",
    "# 手写数字测试数据集\n",
    "test_loader = Data.DataLoader(dataset=test_data,\n",
    "                              batch_size=batch_size,\n",
    "                              shuffle=True)"
   ]
  },
  {
   "cell_type": "code",
   "execution_count": 11,
   "metadata": {
    "pycharm": {
     "name": "#%%\n"
    }
   },
   "outputs": [],
   "source": [
    "class LeNet(nn.Module):\n",
    "    def __init__(self):\n",
    "        super(LeNet, self).__init__()\n",
    "        self.featrues = nn.Sequential(  # 内部实现了forward函数;各模块顺序执行\n",
    "            nn.Conv2d(1, 6, 3),\n",
    "            nn.ReLU(),\n",
    "            nn.MaxPool2d(2, 2),\n",
    "            nn.Conv2d(6, 16, 3),\n",
    "            nn.ReLU(),\n",
    "            nn.MaxPool2d(2, 2)\n",
    "        )\n",
    "        self.classifier = nn.Sequential(\n",
    "            nn.Linear(400, 120),\n",
    "            nn.ReLU(),\n",
    "            nn.Linear(120, 84),\n",
    "            nn.ReLU(),\n",
    "            nn.Linear(84, 10),  # 10分类问题\n",
    "        )\n",
    "\n",
    "    def forward(self, x):\n",
    "        x = self.featrues(x)\n",
    "        x = x.reshape(x.size()[0], -1)\n",
    "        x = self.classifier(x)\n",
    "        return x"
   ]
  },
  {
   "cell_type": "code",
   "execution_count": 12,
   "metadata": {
    "pycharm": {
     "name": "#%%\n"
    }
   },
   "outputs": [],
   "source": [
    "device = torch.device(\"cuda\" if torch.cuda.is_available() else \"cpu\")\n",
    "criteon = nn.CrossEntropyLoss()  # 定义损失函数为交叉熵\n",
    "net = LeNet()\n",
    "lenet = net.to(device)  # 模型设备转移必须在优化器定义前执行\n",
    "\n",
    "# Adagrad优化器\n",
    "optimizer = optim.Adagrad(net.parameters(),\n",
    "                          lr=learning_rate,  # 学习率\n",
    "                          eps=1e-10)  # 分母中的小常数\\delta"
   ]
  },
  {
   "cell_type": "code",
   "execution_count": 13,
   "outputs": [],
   "source": [
    "transforms_data = []\n",
    "for i, j in train_data:\n",
    "    transforms_data.append(i.tolist())\n",
    "transforms_data_ten = torch.tensor(transforms_data)"
   ],
   "metadata": {
    "collapsed": false,
    "pycharm": {
     "name": "#%%\n"
    }
   }
  },
  {
   "cell_type": "code",
   "execution_count": 14,
   "outputs": [],
   "source": [
    "transforms_data_loader = Data.DataLoader(transforms_data_ten, batch_size=200, shuffle=True)\n",
    "y_label = train_loader.dataset.targets"
   ],
   "metadata": {
    "collapsed": false,
    "pycharm": {
     "name": "#%%\n"
    }
   }
  },
  {
   "cell_type": "code",
   "execution_count": 15,
   "outputs": [],
   "source": [
    "from torch_model.train_evaluate import Train_Evaluate\n",
    "\n",
    "t_and_v = Train_Evaluate(model=lenet, optimizer=optimizer, criterion=criteon, epochs=5)"
   ],
   "metadata": {
    "collapsed": false,
    "pycharm": {
     "name": "#%%\n"
    }
   }
  },
  {
   "cell_type": "code",
   "execution_count": 16,
   "outputs": [
    {
     "name": "stdout",
     "output_type": "stream",
     "text": [
      "Train Epoch: 0  [0    /60000 (0  %)]\tLoss: 2.311072\n",
      "Train Epoch: 0  [2000 /60000 (3  %)]\tLoss: 1.831834\n",
      "Train Epoch: 0  [4000 /60000 (7  %)]\tLoss: 1.187508\n",
      "Train Epoch: 0  [6000 /60000 (10 %)]\tLoss: 0.485910\n",
      "Train Epoch: 0  [8000 /60000 (13 %)]\tLoss: 0.452300\n",
      "Train Epoch: 0  [10000/60000 (17 %)]\tLoss: 0.348461\n",
      "Train Epoch: 0  [12000/60000 (20 %)]\tLoss: 0.256210\n",
      "Train Epoch: 0  [14000/60000 (23 %)]\tLoss: 0.325705\n",
      "Train Epoch: 0  [16000/60000 (27 %)]\tLoss: 0.236781\n",
      "Train Epoch: 0  [18000/60000 (30 %)]\tLoss: 0.321579\n",
      "Train Epoch: 0  [20000/60000 (33 %)]\tLoss: 0.201125\n",
      "Train Epoch: 0  [22000/60000 (37 %)]\tLoss: 0.245048\n",
      "Train Epoch: 0  [24000/60000 (40 %)]\tLoss: 0.197139\n",
      "Train Epoch: 0  [26000/60000 (43 %)]\tLoss: 0.173033\n",
      "Train Epoch: 0  [28000/60000 (47 %)]\tLoss: 0.113165\n",
      "Train Epoch: 0  [30000/60000 (50 %)]\tLoss: 0.275670\n",
      "Train Epoch: 0  [32000/60000 (53 %)]\tLoss: 0.197858\n",
      "Train Epoch: 0  [34000/60000 (57 %)]\tLoss: 0.148329\n",
      "Train Epoch: 0  [36000/60000 (60 %)]\tLoss: 0.239204\n",
      "Train Epoch: 0  [38000/60000 (63 %)]\tLoss: 0.131037\n",
      "Train Epoch: 0  [40000/60000 (67 %)]\tLoss: 0.154426\n",
      "Train Epoch: 0  [42000/60000 (70 %)]\tLoss: 0.134057\n",
      "Train Epoch: 0  [44000/60000 (73 %)]\tLoss: 0.111840\n",
      "Train Epoch: 0  [46000/60000 (77 %)]\tLoss: 0.149386\n",
      "Train Epoch: 0  [48000/60000 (80 %)]\tLoss: 0.150648\n",
      "Train Epoch: 0  [50000/60000 (83 %)]\tLoss: 0.112669\n",
      "Train Epoch: 0  [52000/60000 (87 %)]\tLoss: 0.146033\n",
      "Train Epoch: 0  [54000/60000 (90 %)]\tLoss: 0.140123\n",
      "Train Epoch: 0  [56000/60000 (93 %)]\tLoss: 0.149647\n",
      "Train Epoch: 0  [58000/60000 (97 %)]\tLoss: 0.139513\n",
      "Train Epoch: 0  [60000/60000 (100%)]\tLoss: 0.109470\n",
      "----------------------------------------------------------------------------------------------------\n",
      "Train Epoch: 1  [0    /60000 (0  %)]\tLoss: 0.116575\n",
      "Train Epoch: 1  [2000 /60000 (3  %)]\tLoss: 0.111687\n",
      "Train Epoch: 1  [4000 /60000 (7  %)]\tLoss: 0.106235\n",
      "Train Epoch: 1  [6000 /60000 (10 %)]\tLoss: 0.083936\n",
      "Train Epoch: 1  [8000 /60000 (13 %)]\tLoss: 0.100453\n",
      "Train Epoch: 1  [10000/60000 (17 %)]\tLoss: 0.110009\n",
      "Train Epoch: 1  [12000/60000 (20 %)]\tLoss: 0.071429\n",
      "Train Epoch: 1  [14000/60000 (23 %)]\tLoss: 0.118431\n",
      "Train Epoch: 1  [16000/60000 (27 %)]\tLoss: 0.061491\n",
      "Train Epoch: 1  [18000/60000 (30 %)]\tLoss: 0.136426\n",
      "Train Epoch: 1  [20000/60000 (33 %)]\tLoss: 0.078454\n",
      "Train Epoch: 1  [22000/60000 (37 %)]\tLoss: 0.109964\n",
      "Train Epoch: 1  [24000/60000 (40 %)]\tLoss: 0.087873\n",
      "Train Epoch: 1  [26000/60000 (43 %)]\tLoss: 0.110259\n",
      "Train Epoch: 1  [28000/60000 (47 %)]\tLoss: 0.071706\n",
      "Train Epoch: 1  [30000/60000 (50 %)]\tLoss: 0.093646\n",
      "Train Epoch: 1  [32000/60000 (53 %)]\tLoss: 0.098947\n",
      "Train Epoch: 1  [34000/60000 (57 %)]\tLoss: 0.121943\n",
      "Train Epoch: 1  [36000/60000 (60 %)]\tLoss: 0.111988\n",
      "Train Epoch: 1  [38000/60000 (63 %)]\tLoss: 0.096619\n",
      "Train Epoch: 1  [40000/60000 (67 %)]\tLoss: 0.083856\n",
      "Train Epoch: 1  [42000/60000 (70 %)]\tLoss: 0.095427\n",
      "Train Epoch: 1  [44000/60000 (73 %)]\tLoss: 0.083706\n",
      "Train Epoch: 1  [46000/60000 (77 %)]\tLoss: 0.091409\n",
      "Train Epoch: 1  [48000/60000 (80 %)]\tLoss: 0.122703\n",
      "Train Epoch: 1  [50000/60000 (83 %)]\tLoss: 0.045045\n",
      "Train Epoch: 1  [52000/60000 (87 %)]\tLoss: 0.032767\n",
      "Train Epoch: 1  [54000/60000 (90 %)]\tLoss: 0.100418\n",
      "Train Epoch: 1  [56000/60000 (93 %)]\tLoss: 0.108813\n",
      "Train Epoch: 1  [58000/60000 (97 %)]\tLoss: 0.069408\n",
      "Train Epoch: 1  [60000/60000 (100%)]\tLoss: 0.094398\n",
      "----------------------------------------------------------------------------------------------------\n",
      "Train Epoch: 2  [0    /60000 (0  %)]\tLoss: 0.064072\n",
      "Train Epoch: 2  [2000 /60000 (3  %)]\tLoss: 0.135201\n",
      "Train Epoch: 2  [4000 /60000 (7  %)]\tLoss: 0.045201\n",
      "Train Epoch: 2  [6000 /60000 (10 %)]\tLoss: 0.079176\n",
      "Train Epoch: 2  [8000 /60000 (13 %)]\tLoss: 0.080076\n",
      "Train Epoch: 2  [10000/60000 (17 %)]\tLoss: 0.071232\n",
      "Train Epoch: 2  [12000/60000 (20 %)]\tLoss: 0.062043\n",
      "Train Epoch: 2  [14000/60000 (23 %)]\tLoss: 0.173633\n",
      "Train Epoch: 2  [16000/60000 (27 %)]\tLoss: 0.106964\n",
      "Train Epoch: 2  [18000/60000 (30 %)]\tLoss: 0.058315\n",
      "Train Epoch: 2  [20000/60000 (33 %)]\tLoss: 0.104708\n",
      "Train Epoch: 2  [22000/60000 (37 %)]\tLoss: 0.082019\n",
      "Train Epoch: 2  [24000/60000 (40 %)]\tLoss: 0.101682\n",
      "Train Epoch: 2  [26000/60000 (43 %)]\tLoss: 0.071336\n",
      "Train Epoch: 2  [28000/60000 (47 %)]\tLoss: 0.058540\n",
      "Train Epoch: 2  [30000/60000 (50 %)]\tLoss: 0.051739\n",
      "Train Epoch: 2  [32000/60000 (53 %)]\tLoss: 0.082048\n",
      "Train Epoch: 2  [34000/60000 (57 %)]\tLoss: 0.097083\n",
      "Train Epoch: 2  [36000/60000 (60 %)]\tLoss: 0.105229\n",
      "Train Epoch: 2  [38000/60000 (63 %)]\tLoss: 0.111211\n",
      "Train Epoch: 2  [40000/60000 (67 %)]\tLoss: 0.053433\n",
      "Train Epoch: 2  [42000/60000 (70 %)]\tLoss: 0.093523\n",
      "Train Epoch: 2  [44000/60000 (73 %)]\tLoss: 0.046621\n",
      "Train Epoch: 2  [46000/60000 (77 %)]\tLoss: 0.108628\n",
      "Train Epoch: 2  [48000/60000 (80 %)]\tLoss: 0.037283\n",
      "Train Epoch: 2  [50000/60000 (83 %)]\tLoss: 0.139593\n",
      "Train Epoch: 2  [52000/60000 (87 %)]\tLoss: 0.052220\n",
      "Train Epoch: 2  [54000/60000 (90 %)]\tLoss: 0.121379\n",
      "Train Epoch: 2  [56000/60000 (93 %)]\tLoss: 0.095374\n",
      "Train Epoch: 2  [58000/60000 (97 %)]\tLoss: 0.034455\n",
      "Train Epoch: 2  [60000/60000 (100%)]\tLoss: 0.045714\n",
      "----------------------------------------------------------------------------------------------------\n",
      "Train Epoch: 3  [0    /60000 (0  %)]\tLoss: 0.070557\n",
      "Train Epoch: 3  [2000 /60000 (3  %)]\tLoss: 0.081726\n",
      "Train Epoch: 3  [4000 /60000 (7  %)]\tLoss: 0.085758\n",
      "Train Epoch: 3  [6000 /60000 (10 %)]\tLoss: 0.054725\n",
      "Train Epoch: 3  [8000 /60000 (13 %)]\tLoss: 0.104201\n",
      "Train Epoch: 3  [10000/60000 (17 %)]\tLoss: 0.014176\n",
      "Train Epoch: 3  [12000/60000 (20 %)]\tLoss: 0.024021\n",
      "Train Epoch: 3  [14000/60000 (23 %)]\tLoss: 0.044015\n",
      "Train Epoch: 3  [16000/60000 (27 %)]\tLoss: 0.122744\n",
      "Train Epoch: 3  [18000/60000 (30 %)]\tLoss: 0.154886\n",
      "Train Epoch: 3  [20000/60000 (33 %)]\tLoss: 0.051119\n",
      "Train Epoch: 3  [22000/60000 (37 %)]\tLoss: 0.036461\n",
      "Train Epoch: 3  [24000/60000 (40 %)]\tLoss: 0.142852\n",
      "Train Epoch: 3  [26000/60000 (43 %)]\tLoss: 0.033385\n",
      "Train Epoch: 3  [28000/60000 (47 %)]\tLoss: 0.057982\n",
      "Train Epoch: 3  [30000/60000 (50 %)]\tLoss: 0.074405\n",
      "Train Epoch: 3  [32000/60000 (53 %)]\tLoss: 0.062287\n",
      "Train Epoch: 3  [34000/60000 (57 %)]\tLoss: 0.115754\n",
      "Train Epoch: 3  [36000/60000 (60 %)]\tLoss: 0.073882\n",
      "Train Epoch: 3  [38000/60000 (63 %)]\tLoss: 0.065972\n",
      "Train Epoch: 3  [40000/60000 (67 %)]\tLoss: 0.014390\n",
      "Train Epoch: 3  [42000/60000 (70 %)]\tLoss: 0.067633\n",
      "Train Epoch: 3  [44000/60000 (73 %)]\tLoss: 0.031910\n",
      "Train Epoch: 3  [46000/60000 (77 %)]\tLoss: 0.070144\n",
      "Train Epoch: 3  [48000/60000 (80 %)]\tLoss: 0.022701\n",
      "Train Epoch: 3  [50000/60000 (83 %)]\tLoss: 0.063858\n",
      "Train Epoch: 3  [52000/60000 (87 %)]\tLoss: 0.049876\n",
      "Train Epoch: 3  [54000/60000 (90 %)]\tLoss: 0.044640\n",
      "Train Epoch: 3  [56000/60000 (93 %)]\tLoss: 0.059260\n",
      "Train Epoch: 3  [58000/60000 (97 %)]\tLoss: 0.064439\n",
      "Train Epoch: 3  [60000/60000 (100%)]\tLoss: 0.059545\n",
      "----------------------------------------------------------------------------------------------------\n",
      "Train Epoch: 4  [0    /60000 (0  %)]\tLoss: 0.033647\n",
      "Train Epoch: 4  [2000 /60000 (3  %)]\tLoss: 0.031726\n",
      "Train Epoch: 4  [4000 /60000 (7  %)]\tLoss: 0.042541\n",
      "Train Epoch: 4  [6000 /60000 (10 %)]\tLoss: 0.068918\n",
      "Train Epoch: 4  [8000 /60000 (13 %)]\tLoss: 0.031273\n",
      "Train Epoch: 4  [10000/60000 (17 %)]\tLoss: 0.127327\n",
      "Train Epoch: 4  [12000/60000 (20 %)]\tLoss: 0.035505\n",
      "Train Epoch: 4  [14000/60000 (23 %)]\tLoss: 0.023213\n",
      "Train Epoch: 4  [16000/60000 (27 %)]\tLoss: 0.101195\n",
      "Train Epoch: 4  [18000/60000 (30 %)]\tLoss: 0.105517\n",
      "Train Epoch: 4  [20000/60000 (33 %)]\tLoss: 0.043894\n",
      "Train Epoch: 4  [22000/60000 (37 %)]\tLoss: 0.047323\n",
      "Train Epoch: 4  [24000/60000 (40 %)]\tLoss: 0.030616\n",
      "Train Epoch: 4  [26000/60000 (43 %)]\tLoss: 0.093215\n",
      "Train Epoch: 4  [28000/60000 (47 %)]\tLoss: 0.078974\n",
      "Train Epoch: 4  [30000/60000 (50 %)]\tLoss: 0.049930\n",
      "Train Epoch: 4  [32000/60000 (53 %)]\tLoss: 0.045329\n",
      "Train Epoch: 4  [34000/60000 (57 %)]\tLoss: 0.044760\n",
      "Train Epoch: 4  [36000/60000 (60 %)]\tLoss: 0.096282\n",
      "Train Epoch: 4  [38000/60000 (63 %)]\tLoss: 0.018759\n",
      "Train Epoch: 4  [40000/60000 (67 %)]\tLoss: 0.050260\n",
      "Train Epoch: 4  [42000/60000 (70 %)]\tLoss: 0.061323\n",
      "Train Epoch: 4  [44000/60000 (73 %)]\tLoss: 0.046703\n",
      "Train Epoch: 4  [46000/60000 (77 %)]\tLoss: 0.030887\n",
      "Train Epoch: 4  [48000/60000 (80 %)]\tLoss: 0.065073\n",
      "Train Epoch: 4  [50000/60000 (83 %)]\tLoss: 0.116538\n",
      "Train Epoch: 4  [52000/60000 (87 %)]\tLoss: 0.059352\n",
      "Train Epoch: 4  [54000/60000 (90 %)]\tLoss: 0.098869\n",
      "Train Epoch: 4  [56000/60000 (93 %)]\tLoss: 0.074097\n",
      "Train Epoch: 4  [58000/60000 (97 %)]\tLoss: 0.074926\n",
      "Train Epoch: 4  [60000/60000 (100%)]\tLoss: 0.155014\n",
      "----------------------------------------------------------------------------------------------------\n"
     ]
    },
    {
     "data": {
      "text/plain": "[[9.492912292480469],\n [10.78912353515625],\n [11.533425331115723],\n [11.980659484863281],\n [12.252866744995117]]"
     },
     "execution_count": 16,
     "metadata": {},
     "output_type": "execute_result"
    }
   ],
   "source": [
    "metric_reslut = t_and_v.train_eval(train_loader=train_loader, valid_sets=[(transforms_data_loader, y_label)])\n",
    "metric_reslut"
   ],
   "metadata": {
    "collapsed": false,
    "pycharm": {
     "name": "#%%\n"
    }
   }
  },
  {
   "cell_type": "code",
   "execution_count": 16,
   "outputs": [],
   "source": [],
   "metadata": {
    "collapsed": false,
    "pycharm": {
     "name": "#%%\n"
    }
   }
  }
 ],
 "metadata": {
  "kernelspec": {
   "display_name": "Python 3",
   "language": "python",
   "name": "python3"
  },
  "language_info": {
   "codemirror_mode": {
    "name": "ipython",
    "version": 3
   },
   "file_extension": ".py",
   "mimetype": "text/x-python",
   "name": "python",
   "nbconvert_exporter": "python",
   "pygments_lexer": "ipython3",
   "version": "3.7.7"
  },
  "toc": {
   "base_numbering": 1,
   "nav_menu": {},
   "number_sections": true,
   "sideBar": true,
   "skip_h1_title": false,
   "title_cell": "Table of Contents",
   "title_sidebar": "Contents",
   "toc_cell": false,
   "toc_position": {},
   "toc_section_display": true,
   "toc_window_display": false
  }
 },
 "nbformat": 4,
 "nbformat_minor": 1
}