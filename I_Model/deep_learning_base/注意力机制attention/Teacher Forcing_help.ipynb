{
 "cells": [
  {
   "cell_type": "markdown",
   "metadata": {
    "collapsed": false,
    "pycharm": {
     "name": "#%% md\n"
    }
   },
   "source": [
    "Teacher Forcing工作原理:\n",
    "\n",
    "在训练过程的$ t $时刻,使用训练数据集的期望输出或实际输出:$ y(t) $,作为下一时间步骤的输入:$x(t+1)$,而不是使用模型生成的输出$h(t)$\n",
    "\n",
    "训练迭代过程早期的RNN预测能力非常弱,几乎不能给出好的生成结果.如果某一个unit产生了垃圾结果,必然会影响后面一片unit的学习.\n",
    "错误结果会导致后续的学习都受到不好的影响,导致学习速度变慢,难以收敛.\n",
    "\n",
    "### Traditional seq2seq models\n",
    "<img src=\"../../../Other/img/无教师强制.png\">\n",
    "\n",
    "\n",
    "### Teacher Forcing \n",
    "<img src=\"../../../Other/img/教师强制.png\">"
   ]
  }
 ],
 "metadata": {
  "kernelspec": {
   "display_name": "Python 3",
   "language": "python",
   "name": "python3"
  },
  "language_info": {
   "codemirror_mode": {
    "name": "ipython",
    "version": 2
   },
   "file_extension": ".py",
   "mimetype": "text/x-python",
   "name": "python",
   "nbconvert_exporter": "python",
   "pygments_lexer": "ipython2",
   "version": "2.7.6"
  }
 },
 "nbformat": 4,
 "nbformat_minor": 0
}
