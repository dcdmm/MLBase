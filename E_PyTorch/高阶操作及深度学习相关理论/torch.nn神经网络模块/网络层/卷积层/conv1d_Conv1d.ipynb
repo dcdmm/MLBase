{
 "cells": [
  {
   "cell_type": "markdown",
   "metadata": {
    "collapsed": true,
    "pycharm": {
     "name": "#%% md\n"
    }
   },
   "source": [
    "* input:$(N, C_{in}, L_{in})$\n",
    "\n",
    "* output:$(N, C_{out}, L_{out})$\n",
    "\n",
    "$$ L_{out} = \\left \\lfloor \\frac{L_{in} + 2 \\times padding - dilation \\times(kernel\\_size-1)-1}{stride} +1  \\right \\rfloor \\\\ $$"
   ]
  },
  {
   "cell_type": "code",
   "execution_count": 1,
   "outputs": [],
   "source": [
    "import torch\n",
    "import torch.nn.functional as F\n",
    "import torch.nn as nn"
   ],
   "metadata": {
    "collapsed": false,
    "pycharm": {
     "name": "#%%\n"
    }
   }
  },
  {
   "cell_type": "code",
   "execution_count": 2,
   "outputs": [],
   "source": [
    "enter = torch.randn(33, 16, 30)"
   ],
   "metadata": {
    "collapsed": false,
    "pycharm": {
     "name": "#%%\n"
    }
   }
  },
  {
   "cell_type": "code",
   "execution_count": 3,
   "outputs": [
    {
     "data": {
      "text/plain": "torch.Size([33, 20, 26])"
     },
     "execution_count": 3,
     "metadata": {},
     "output_type": "execute_result"
    }
   ],
   "source": [
    "filters = torch.randn(20, 16, 5)\n",
    "\n",
    "'''\n",
    "input – input tensor of shape (minibatch, in_channels, iW)\n",
    "weight – filters of shape (out_channels, in_channels/groups, kW)\n",
    "bias – optional bias of shape (out_channels). Default: None\n",
    "stride – the stride of the convolving kernel. Can be a single number or a one-element tuple (sW,). Default: 1\n",
    "'''\n",
    "F.conv1d(input=enter, weight=filters, stride=1, bias=None).shape"
   ],
   "metadata": {
    "collapsed": false,
    "pycharm": {
     "name": "#%%\n"
    }
   }
  },
  {
   "cell_type": "code",
   "execution_count": 4,
   "outputs": [
    {
     "data": {
      "text/plain": "torch.Size([33, 43, 28])"
     },
     "execution_count": 4,
     "metadata": {},
     "output_type": "execute_result"
    }
   ],
   "source": [
    "# padding (int, tuple or str, optional) – Padding added to both sides of the input. Default: 0\n",
    "m = nn.Conv1d(in_channels=16,\n",
    "              out_channels=43,  # out_channels (int): Number of channels produced by the convolution\n",
    "              kernel_size=3, # 1D卷积中,kernel_size只能是单个整数(或单个整数的元组)\n",
    "              stride=1,  # 1D卷积中,stride只能是单个整数(或单个整数的元组)\n",
    "              # Default: 0 padding='valid' is the same as no padding.\n",
    "              # padding='same' pads the input so the output has the shape as the input. However, this mode doesn’t support any stride values other than 1.\n",
    "              padding='valid')  # 1D卷积中,padding可选值有\"valid\",\"same\",★★★★★单个整数(或整数元组)\n",
    "output = m(enter)\n",
    "output.shape"
   ],
   "metadata": {
    "collapsed": false,
    "pycharm": {
     "name": "#%%\n"
    }
   }
  },
  {
   "cell_type": "code",
   "execution_count": 6,
   "outputs": [
    {
     "data": {
      "text/plain": "torch.Size([43, 16, 3])"
     },
     "execution_count": 6,
     "metadata": {},
     "output_type": "execute_result"
    }
   ],
   "source": [
    "# 形状为(out_channels,in_channels,K)\n",
    "m.weight.shape  # 内部默认进行了kaiming_uniform_初始化"
   ],
   "metadata": {
    "collapsed": false,
    "pycharm": {
     "name": "#%%\n"
    }
   }
  }
 ],
 "metadata": {
  "kernelspec": {
   "display_name": "Python 3",
   "language": "python",
   "name": "python3"
  },
  "language_info": {
   "codemirror_mode": {
    "name": "ipython",
    "version": 2
   },
   "file_extension": ".py",
   "mimetype": "text/x-python",
   "name": "python",
   "nbconvert_exporter": "python",
   "pygments_lexer": "ipython2",
   "version": "2.7.6"
  }
 },
 "nbformat": 4,
 "nbformat_minor": 0
}