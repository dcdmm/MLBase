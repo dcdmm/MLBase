{
 "cells": [
  {
   "cell_type": "code",
   "execution_count": 16,
   "metadata": {
    "collapsed": true,
    "pycharm": {
     "is_executing": false
    }
   },
   "outputs": [],
   "source": [
    "import numpy as np\n",
    "import random"
   ]
  },
  {
   "cell_type": "code",
   "execution_count": 17,
   "outputs": [],
   "source": [
    "def value(theta, X_b, y):\n",
    "    \"\"\"总的损失函数(以均方误差损失函数为例)的值\"\"\"\n",
    "    return ((y - (X_b @ theta)).T @ (y - (X_b @ theta))) / len(y)\n",
    "\n",
    "\n",
    "def d_value(theta, X_b, y):\n",
    "    \"\"\"计算损失函数的梯度矩阵\"\"\"\n",
    "    return X_b.T.dot(X_b.dot(theta) - y) / len(y) # 批量梯度下降(BGD)\n",
    "\n",
    "\n",
    "def gradient_descent(X_b, y, \n",
    "                     initial_theta, # 初始值\n",
    "                     lr,  # 学习率(没有对学习率进行一维搜索)\n",
    "                     n_iters=1e4, # 最高迭代次数 \n",
    "                     epsilon=1e-8): # 迭代结束时必须满足的精度\n",
    "    theta = initial_theta\n",
    "    cur_iter = 0\n",
    "\n",
    "    while cur_iter < n_iters:\n",
    "        gradient = d_value(theta, X_b, y)\n",
    "        last_theta = theta\n",
    "        theta = theta - lr * gradient # 迭代值更新过程\n",
    "        if abs(value(theta, X_b, y) - value(last_theta, X_b, y)) < epsilon: # 比较2次迭代值的差异,达到精度要求时跳出循环\n",
    "            break\n",
    "\n",
    "        cur_iter += 1\n",
    "\n",
    "    return theta"
   ],
   "metadata": {
    "collapsed": false,
    "pycharm": {
     "name": "#%%\n",
     "is_executing": false
    }
   }
  },
  {
   "cell_type": "code",
   "execution_count": 18,
   "outputs": [],
   "source": [
    "m = 1000\n",
    "n = 50 # 特征数量\n",
    "\n",
    "x_trian = np.random.normal(size=(m, n))\n",
    "x_trian = np.hstack((x_trian, np.ones((m, 1))))\n",
    "true_theta = np.array(random.sample(range(1, 52), 51)) # 包含截距项\n",
    "y_trian = x_trian.dot(true_theta) + np.random.normal(0., 1., size=m)"
   ],
   "metadata": {
    "collapsed": false,
    "pycharm": {
     "name": "#%%\n",
     "is_executing": false
    }
   }
  },
  {
   "cell_type": "code",
   "execution_count": 19,
   "outputs": [
    {
     "name": "stdout",
     "text": [
      "Wall time: 163 ms\n"
     ],
     "output_type": "stream"
    },
    {
     "data": {
      "text/plain": "array([ 8.01119843, 41.99473351, 22.98704658, 29.00709237, 21.97585321,\n       42.97486954,  1.0703511 , 20.02077025, 32.04732205, 36.99312378,\n       30.01816003, 11.02390814,  1.97462439,  7.01014539, 16.02840779,\n       34.97350184, 50.00929887, 12.97728938,  6.05471524,  2.9419934 ,\n       47.9862502 , 14.98581965, 37.97418374,  9.98070889, 45.94401906,\n       38.92124811, 24.96217429, 27.00014765, 45.02041181, 28.01184102,\n       33.05885949, 25.97818555, 24.00338759, 16.98034987, 18.97514449,\n       47.0031188 , 21.02927638,  4.98319893,  8.97245778, 34.03808235,\n        4.00878041, 14.00452847, 18.01045899, 31.00049369, 39.98818097,\n       36.02288317, 43.96151709, 48.97751688, 50.97778758, 41.00824437,\n       11.99500973])"
     },
     "metadata": {},
     "output_type": "execute_result",
     "execution_count": 19
    }
   ],
   "source": [
    "%%time\n",
    "initial_theta = np.ones(true_theta.shape)\n",
    "predict_theta = gradient_descent(x_trian, y_trian, \n",
    "                                 initial_theta=initial_theta, lr=0.01)\n",
    "predict_theta"
   ],
   "metadata": {
    "collapsed": false,
    "pycharm": {
     "name": "#%%\n",
     "is_executing": false
    }
   }
  },
  {
   "cell_type": "code",
   "execution_count": 20,
   "outputs": [
    {
     "data": {
      "text/plain": "0.88433009928767"
     },
     "metadata": {},
     "output_type": "execute_result",
     "execution_count": 20
    }
   ],
   "source": [
    "value(predict_theta, x_trian, y_trian) # 最终损失函数的值"
   ],
   "metadata": {
    "collapsed": false,
    "pycharm": {
     "name": "#%%\n",
     "is_executing": false
    }
   }
  },
  {
   "cell_type": "code",
   "execution_count": null,
   "outputs": [],
   "source": [
    "\n"
   ],
   "metadata": {
    "collapsed": false,
    "pycharm": {
     "name": "#%%\n"
    }
   }
  }
 ],
 "metadata": {
  "kernelspec": {
   "display_name": "Python 3",
   "language": "python",
   "name": "python3"
  },
  "language_info": {
   "codemirror_mode": {
    "name": "ipython",
    "version": 2
   },
   "file_extension": ".py",
   "mimetype": "text/x-python",
   "name": "python",
   "nbconvert_exporter": "python",
   "pygments_lexer": "ipython2",
   "version": "2.7.6"
  },
  "pycharm": {
   "stem_cell": {
    "cell_type": "raw",
    "source": [],
    "metadata": {
     "collapsed": false
    }
   }
  }
 },
 "nbformat": 4,
 "nbformat_minor": 0
}