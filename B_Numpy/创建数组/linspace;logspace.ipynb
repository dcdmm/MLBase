{
 "cells": [
  {
   "cell_type": "code",
   "metadata": {
    "collapsed": true,
    "pycharm": {
     "name": "#%%\n"
    },
    "ExecuteTime": {
     "end_time": "2024-10-25T04:01:33.323731Z",
     "start_time": "2024-10-25T04:01:33.233268Z"
    }
   },
   "source": [
    "import numpy as np"
   ],
   "outputs": [],
   "execution_count": 1
  },
  {
   "cell_type": "code",
   "metadata": {
    "pycharm": {
     "name": "#%%\n"
    },
    "ExecuteTime": {
     "end_time": "2024-10-25T04:01:33.333281Z",
     "start_time": "2024-10-25T04:01:33.327841Z"
    }
   },
   "source": [
    "np.linspace(2.0, 3.0, num=5)  # 在指定的间隔内返回均匀间隔的数字"
   ],
   "outputs": [
    {
     "data": {
      "text/plain": [
       "array([2.  , 2.25, 2.5 , 2.75, 3.  ])"
      ]
     },
     "execution_count": 2,
     "metadata": {},
     "output_type": "execute_result"
    }
   ],
   "execution_count": 2
  },
  {
   "cell_type": "code",
   "metadata": {
    "pycharm": {
     "name": "#%%\n"
    },
    "ExecuteTime": {
     "end_time": "2024-10-25T04:01:33.425949Z",
     "start_time": "2024-10-25T04:01:33.420946Z"
    }
   },
   "source": [
    "# np.linlogspace:Return numbers spaced evenly on a log scale\n",
    "np.logspace(-2, 7, num=10, base=10)  # 以10为底"
   ],
   "outputs": [
    {
     "data": {
      "text/plain": [
       "array([1.e-02, 1.e-01, 1.e+00, 1.e+01, 1.e+02, 1.e+03, 1.e+04, 1.e+05,\n",
       "       1.e+06, 1.e+07])"
      ]
     },
     "execution_count": 3,
     "metadata": {},
     "output_type": "execute_result"
    }
   ],
   "execution_count": 3
  },
  {
   "cell_type": "code",
   "metadata": {
    "pycharm": {
     "name": "#%%\n"
    },
    "ExecuteTime": {
     "end_time": "2024-10-25T04:01:33.540205Z",
     "start_time": "2024-10-25T04:01:33.536037Z"
    }
   },
   "source": [
    "'''\n",
    "endpoint : bool, optional\n",
    "    If True, stop is the last sample. Otherwise, it is not included. Default is True.\n",
    "'''\n",
    "np.linspace(2.0, 3.0, num=5, endpoint=False)  # 默认num=50"
   ],
   "outputs": [
    {
     "data": {
      "text/plain": [
       "array([2. , 2.2, 2.4, 2.6, 2.8])"
      ]
     },
     "execution_count": 4,
     "metadata": {},
     "output_type": "execute_result"
    }
   ],
   "execution_count": 4
  },
  {
   "cell_type": "code",
   "metadata": {
    "pycharm": {
     "name": "#%%\n"
    },
    "ExecuteTime": {
     "end_time": "2024-10-25T04:01:33.609826Z",
     "start_time": "2024-10-25T04:01:33.605598Z"
    }
   },
   "source": [
    "'''\n",
    "retstep : bool, optional\n",
    "    If True, return (samples, step), where step is the spacing between samples.\n",
    "'''\n",
    "np.linspace(2.0, 3.0, num=5, retstep=True)"
   ],
   "outputs": [
    {
     "data": {
      "text/plain": [
       "(array([2.  , 2.25, 2.5 , 2.75, 3.  ]), 0.25)"
      ]
     },
     "execution_count": 5,
     "metadata": {},
     "output_type": "execute_result"
    }
   ],
   "execution_count": 5
  },
  {
   "cell_type": "code",
   "metadata": {
    "pycharm": {
     "name": "#%%\n"
    },
    "ExecuteTime": {
     "end_time": "2024-10-25T04:01:33.643978Z",
     "start_time": "2024-10-25T04:01:33.639531Z"
    }
   },
   "source": [
    "np.linspace([1, 2, 4], [3, 6, 12], num=5)  # 返回多列等间隔数字"
   ],
   "outputs": [
    {
     "data": {
      "text/plain": [
       "array([[ 1. ,  2. ,  4. ],\n",
       "       [ 1.5,  3. ,  6. ],\n",
       "       [ 2. ,  4. ,  8. ],\n",
       "       [ 2.5,  5. , 10. ],\n",
       "       [ 3. ,  6. , 12. ]])"
      ]
     },
     "execution_count": 6,
     "metadata": {},
     "output_type": "execute_result"
    }
   ],
   "execution_count": 6
  }
 ],
 "metadata": {
  "kernelspec": {
   "display_name": "base",
   "language": "python",
   "name": "python3"
  },
  "language_info": {
   "codemirror_mode": {
    "name": "ipython",
    "version": 3
   },
   "file_extension": ".py",
   "mimetype": "text/x-python",
   "name": "python",
   "nbconvert_exporter": "python",
   "pygments_lexer": "ipython3",
   "version": "3.11.7"
  }
 },
 "nbformat": 4,
 "nbformat_minor": 1
}
