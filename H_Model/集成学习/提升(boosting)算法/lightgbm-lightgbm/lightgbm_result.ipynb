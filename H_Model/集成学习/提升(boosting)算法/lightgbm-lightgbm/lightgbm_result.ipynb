{
 "cells": [
  {
   "cell_type": "code",
   "execution_count": 22,
   "metadata": {
    "collapsed": true
   },
   "outputs": [],
   "source": [
    "from lightgbm import LGBMClassifier\n",
    "from sklearn import datasets\n",
    "from sklearn.model_selection import train_test_split\n",
    "import matplotlib.pyplot as plt"
   ]
  },
  {
   "cell_type": "code",
   "execution_count": 23,
   "outputs": [],
   "source": [
    "X = datasets.fetch_covtype().data[:3000]\n",
    "y = datasets.fetch_covtype().target[:3000]  # 多分类任务\n",
    "X_train, X_test, y_train, y_test = train_test_split(X, y)"
   ],
   "metadata": {
    "collapsed": false,
    "pycharm": {
     "name": "#%%\n"
    }
   }
  },
  {
   "cell_type": "code",
   "execution_count": 24,
   "outputs": [
    {
     "name": "stdout",
     "output_type": "stream",
     "text": [
      "Training until validation scores don't improve for 20 rounds\n",
      "[5]\ttraining's multi_error: 0.125333\ttraining's multi_logloss: 0.800118\tvalid_1's multi_error: 0.194667\tvalid_1's multi_logloss: 0.917391\n",
      "[10]\ttraining's multi_error: 0.0831111\ttraining's multi_logloss: 0.494943\tvalid_1's multi_error: 0.189333\tvalid_1's multi_logloss: 0.662967\n",
      "[15]\ttraining's multi_error: 0.0555556\ttraining's multi_logloss: 0.336482\tvalid_1's multi_error: 0.184\tvalid_1's multi_logloss: 0.54485\n",
      "[20]\ttraining's multi_error: 0.0346667\ttraining's multi_logloss: 0.240332\tvalid_1's multi_error: 0.169333\tvalid_1's multi_logloss: 0.481145\n",
      "[25]\ttraining's multi_error: 0.0226667\ttraining's multi_logloss: 0.176907\tvalid_1's multi_error: 0.161333\tvalid_1's multi_logloss: 0.446316\n",
      "[30]\ttraining's multi_error: 0.0115556\ttraining's multi_logloss: 0.133546\tvalid_1's multi_error: 0.16\tvalid_1's multi_logloss: 0.428637\n",
      "[35]\ttraining's multi_error: 0.00488889\ttraining's multi_logloss: 0.10334\tvalid_1's multi_error: 0.158667\tvalid_1's multi_logloss: 0.416716\n",
      "[40]\ttraining's multi_error: 0.00177778\ttraining's multi_logloss: 0.0810103\tvalid_1's multi_error: 0.149333\tvalid_1's multi_logloss: 0.41243\n",
      "[45]\ttraining's multi_error: 0.000888889\ttraining's multi_logloss: 0.0643626\tvalid_1's multi_error: 0.148\tvalid_1's multi_logloss: 0.413019\n",
      "[50]\ttraining's multi_error: 0.000444444\ttraining's multi_logloss: 0.052098\tvalid_1's multi_error: 0.145333\tvalid_1's multi_logloss: 0.415154\n",
      "[55]\ttraining's multi_error: 0\ttraining's multi_logloss: 0.0422652\tvalid_1's multi_error: 0.146667\tvalid_1's multi_logloss: 0.421748\n",
      "[60]\ttraining's multi_error: 0\ttraining's multi_logloss: 0.0338387\tvalid_1's multi_error: 0.141333\tvalid_1's multi_logloss: 0.429721\n",
      "Early stopping, best iteration is:\n",
      "[42]\ttraining's multi_error: 0.000888889\ttraining's multi_logloss: 0.0739482\tvalid_1's multi_error: 0.152\tvalid_1's multi_logloss: 0.411406\n"
     ]
    },
    {
     "data": {
      "text/plain": "array([3, 2, 6, 4, 7, 7, 5, 5, 6, 2, 7, 2, 5, 5, 3, 7, 2, 2, 1, 3, 2, 5,\n       5, 6, 3, 1, 5, 4, 6, 2, 3, 7, 2, 2, 5, 2, 5, 2, 5, 7, 2, 2, 2, 2,\n       1, 1, 5, 5, 2, 5, 1, 3, 2, 1, 5, 2, 3, 1, 5, 5, 6, 1, 2, 5, 3, 6,\n       5, 5, 3, 5, 2, 2, 4, 1, 3, 5, 1, 1, 5, 2, 2, 1, 6, 1, 5, 6, 7, 1,\n       5, 4, 6, 4, 5, 5, 2, 3, 5, 3, 1, 4, 6, 6, 2, 5, 2, 1, 5, 1, 2, 5,\n       3, 3, 5, 5, 2, 5, 2, 2, 7, 1, 1, 2, 5, 7, 5, 4, 5, 6, 6, 5, 4, 1,\n       5, 2, 7, 2, 1, 6, 2, 6, 2, 2, 2, 7, 6, 1, 2, 2, 2, 2, 5, 2, 5, 3,\n       5, 5, 2, 2, 5, 1, 7, 5, 3, 2, 2, 6, 7, 6, 1, 5, 5, 1, 5, 5, 6, 6,\n       2, 6, 2, 5, 1, 2, 2, 5, 1, 3, 7, 1, 2, 4, 2, 1, 1, 2, 2, 5, 2, 2,\n       2, 6, 5, 2, 3, 3, 5, 3, 6, 2, 2, 2, 2, 1, 2, 7, 1, 2, 6, 5, 5, 5,\n       3, 5, 2, 6, 3, 5, 5, 2, 6, 3, 2, 5, 6, 2, 6, 2, 2, 2, 3, 2, 1, 5,\n       6, 6, 1, 6, 1, 1, 2, 5, 2, 1, 1, 6, 1, 1, 5, 2, 5, 5, 5, 1, 6, 5,\n       5, 2, 7, 5, 2, 2, 2, 2, 1, 1, 1, 2, 3, 5, 2, 2, 2, 1, 6, 6, 2, 1,\n       2, 1, 7, 5, 7, 5, 1, 3, 2, 2, 2, 4, 1, 5, 3, 3, 1, 6, 1, 2, 5, 5,\n       7, 2, 2, 3, 5, 6, 3, 2, 2, 5, 2, 2, 2, 5, 2, 6, 2, 5, 2, 2, 1, 6,\n       2, 2, 6, 2, 2, 5, 1, 2, 2, 2, 5, 1, 2, 6, 1, 1, 3, 2, 2, 5, 5, 5,\n       1, 5, 5, 3, 3, 2, 4, 2, 5, 5, 2, 2, 1, 5, 5, 2, 1, 2, 5, 2, 5, 5,\n       5, 5, 5, 5, 4, 1, 2, 7, 6, 5, 2, 3, 4, 3, 5, 2, 1, 5, 1, 6, 2, 2,\n       1, 5, 2, 4, 5, 2, 6, 5, 7, 3, 1, 5, 2, 5, 7, 2, 6, 1, 1, 2, 5, 5,\n       5, 1, 3, 5, 2, 7, 2, 2, 1, 6, 2, 3, 7, 2, 2, 5, 2, 1, 1, 2, 1, 5,\n       6, 2, 5, 4, 2, 1, 5, 5, 3, 5, 2, 3, 5, 5, 2, 2, 3, 4, 4, 2, 2, 2,\n       5, 7, 2, 2, 2, 1, 2, 6, 6, 2, 1, 6, 2, 5, 2, 2, 2, 6, 2, 2, 2, 4,\n       7, 5, 7, 6, 1, 1, 5, 2, 6, 1, 2, 2, 5, 2, 7, 2, 1, 1, 1, 1, 2, 5,\n       2, 5, 5, 2, 6, 1, 6, 7, 3, 5, 2, 5, 2, 5, 1, 2, 2, 4, 2, 2, 1, 5,\n       2, 3, 2, 2, 6, 2, 5, 6, 3, 5, 1, 1, 2, 5, 5, 1, 5, 2, 6, 6, 5, 1,\n       5, 2, 2, 1, 3, 7, 6, 2, 1, 2, 6, 6, 5, 2, 5, 2, 1, 1, 6, 2, 1, 3,\n       1, 3, 6, 2, 2, 3, 4, 4, 4, 1, 5, 1, 2, 4, 5, 6, 6, 5, 3, 1, 1, 2,\n       6, 5, 6, 5, 5, 3, 5, 3, 5, 3, 3, 6, 6, 6, 1, 2, 6, 1, 1, 6, 4, 2,\n       2, 3, 5, 6, 5, 7, 6, 5, 2, 3, 2, 5, 2, 2, 5, 3, 1, 6, 6, 5, 5, 2,\n       6, 5, 6, 1, 5, 1, 1, 2, 2, 2, 2, 2, 2, 2, 2, 5, 5, 1, 2, 3, 7, 2,\n       1, 4, 2, 2, 1, 2, 2, 3, 2, 5, 5, 3, 2, 5, 1, 2, 1, 2, 2, 2, 7, 1,\n       7, 5, 5, 5, 5, 5, 5, 5, 1, 2, 7, 1, 4, 5, 1, 2, 4, 1, 2, 5, 6, 6,\n       5, 2, 5, 2, 5, 1, 1, 1, 1, 3, 2, 5, 2, 2, 2, 6, 6, 2, 2, 5, 5, 6,\n       4, 6, 5, 5, 1, 2, 5, 2, 3, 1, 3, 1, 2, 7, 3, 2, 1, 5, 3, 2, 6, 3,\n       6, 5])"
     },
     "execution_count": 24,
     "metadata": {},
     "output_type": "execute_result"
    }
   ],
   "source": [
    "eval_set = [(X_train, y_train),\n",
    "            (X_test, y_test)]\n",
    "lgb = LGBMClassifier(n_jobs=-1)\n",
    "\n",
    "# Evaluation metrics for validation data, a default metric will be assigned according to objective (rmse for regression, and logloss for classification, mean average precision for ranking)\n",
    "# eval_metric可选参数\n",
    "# 可自定义\n",
    "'''\n",
    "l1:absolute loss\n",
    "l2:square loss\n",
    "rmse:root square loss\n",
    "cross_entropy\n",
    "multi_error:error rate for multi-class classification\n",
    "multi_logloss:log loss for multi-class classification\n",
    "binary_logloss\n",
    "auc\n",
    "'''\n",
    "lgb.fit(X_train, y_train,\n",
    "        early_stopping_rounds=20,  # ==>xgboost\n",
    "        verbose=5,  # ==>xgboost\n",
    "        eval_set=eval_set,   # ==>xgboost\n",
    "        eval_metric=['multi_error', 'multi_logloss']  # ==>xgboost\n",
    "        )\n",
    "\n",
    "\n",
    "result = lgb.predict(X_test)\n",
    "result"
   ],
   "metadata": {
    "collapsed": false,
    "pycharm": {
     "name": "#%%\n"
    }
   }
  },
  {
   "cell_type": "code",
   "execution_count": 25,
   "outputs": [
    {
     "data": {
      "text/plain": "(750,)"
     },
     "execution_count": 25,
     "metadata": {},
     "output_type": "execute_result"
    }
   ],
   "source": [
    "result.shape"
   ],
   "metadata": {
    "collapsed": false,
    "pycharm": {
     "name": "#%%\n"
    }
   }
  },
  {
   "cell_type": "code",
   "execution_count": 26,
   "outputs": [
    {
     "data": {
      "text/plain": "array([[1.01969133e-03, 5.15288180e-03, 9.66871291e-01, ...,\n        1.37544755e-03, 2.48776406e-02, 2.87016199e-04],\n       [1.44737370e-02, 9.78538345e-01, 9.73084977e-04, ...,\n        3.92315299e-03, 1.07231768e-03, 5.31865024e-04],\n       [7.69339196e-02, 3.72099503e-01, 3.35230208e-03, ...,\n        1.78299322e-02, 5.26256311e-01, 1.84209029e-03],\n       ...,\n       [7.99119280e-03, 1.31896665e-02, 4.69261956e-01, ...,\n        1.07792096e-02, 3.94935282e-01, 2.25198296e-03],\n       [2.97662481e-03, 4.91299479e-03, 1.41675179e-01, ...,\n        4.01512810e-03, 8.44858812e-01, 8.38075781e-04],\n       [7.70392240e-04, 2.04469359e-02, 3.70816480e-04, ...,\n        9.77616324e-01, 4.08762188e-04, 2.01920248e-04]])"
     },
     "execution_count": 26,
     "metadata": {},
     "output_type": "execute_result"
    }
   ],
   "source": [
    "# 预测结果可以输出为概率向量\n",
    "result_pro = lgb.predict_proba(X_test) # 仅分类算法\n",
    "result_pro"
   ],
   "metadata": {
    "collapsed": false,
    "pycharm": {
     "name": "#%%\n"
    }
   }
  },
  {
   "cell_type": "code",
   "execution_count": 27,
   "outputs": [
    {
     "data": {
      "text/plain": "(750, 7)"
     },
     "execution_count": 27,
     "metadata": {},
     "output_type": "execute_result"
    }
   ],
   "source": [
    "result_pro.shape"
   ],
   "metadata": {
    "collapsed": false,
    "pycharm": {
     "name": "#%%\n"
    }
   }
  },
  {
   "cell_type": "code",
   "execution_count": 28,
   "outputs": [
    {
     "data": {
      "text/plain": "0.848"
     },
     "execution_count": 28,
     "metadata": {},
     "output_type": "execute_result"
    }
   ],
   "source": [
    "lgb.score(X_test, y_test)  # 精度"
   ],
   "metadata": {
    "collapsed": false,
    "pycharm": {
     "name": "#%%\n"
    }
   }
  },
  {
   "cell_type": "code",
   "execution_count": 29,
   "outputs": [
    {
     "data": {
      "text/plain": "array([1421,  674,  378,  692,  564, 1258,  606,  512,  569, 1291,  105,\n          0,   15,   68,   61,   15,    0,    0,    6,    0,    0,    0,\n          0,   29,    0,  131,   21,    0,    0,    0,   20,   15,    6,\n         70,    0,    7,   55,    5,    0,    0,    0,    0,   48,   93,\n          0,    0,   13,    0,    0,    0,    0,   14,    5,    0])"
     },
     "execution_count": 29,
     "metadata": {},
     "output_type": "execute_result"
    }
   ],
   "source": [
    "lgb.feature_importances_  # 特征的相对重要性"
   ],
   "metadata": {
    "collapsed": false,
    "pycharm": {
     "name": "#%%\n"
    }
   }
  },
  {
   "cell_type": "code",
   "execution_count": 30,
   "outputs": [
    {
     "data": {
      "text/plain": "{'training': OrderedDict([('multi_error',\n               [0.42844444444444446,\n                0.24,\n                0.16444444444444445,\n                0.14177777777777778,\n                0.12533333333333332,\n                0.12088888888888889,\n                0.11022222222222222,\n                0.09866666666666667,\n                0.088,\n                0.08311111111111111,\n                0.07644444444444444,\n                0.06933333333333333,\n                0.06577777777777778,\n                0.059555555555555556,\n                0.05555555555555555,\n                0.051111111111111114,\n                0.04622222222222222,\n                0.042222222222222223,\n                0.03866666666666667,\n                0.034666666666666665,\n                0.033777777777777775,\n                0.030222222222222223,\n                0.027555555555555555,\n                0.024444444444444446,\n                0.02266666666666667,\n                0.021333333333333333,\n                0.018666666666666668,\n                0.014666666666666666,\n                0.013777777777777778,\n                0.011555555555555555,\n                0.010666666666666666,\n                0.008444444444444444,\n                0.007555555555555556,\n                0.0071111111111111115,\n                0.004888888888888889,\n                0.0044444444444444444,\n                0.0026666666666666666,\n                0.0026666666666666666,\n                0.0017777777777777779,\n                0.0017777777777777779,\n                0.0013333333333333333,\n                0.0008888888888888889,\n                0.0008888888888888889,\n                0.0008888888888888889,\n                0.0008888888888888889,\n                0.0008888888888888889,\n                0.0008888888888888889,\n                0.0008888888888888889,\n                0.00044444444444444447,\n                0.00044444444444444447,\n                0.00044444444444444447,\n                0.00044444444444444447,\n                0.0,\n                0.0,\n                0.0,\n                0.0,\n                0.0,\n                0.0,\n                0.0,\n                0.0,\n                0.0,\n                0.0]),\n              ('multi_logloss',\n               [1.34593883931304,\n                1.1538296871997487,\n                1.010190108620053,\n                0.8957495175309018,\n                0.8001180255380889,\n                0.7192409513015261,\n                0.6522154255115923,\n                0.5918325332319361,\n                0.5402439065341419,\n                0.4949432335794399,\n                0.4561959707115911,\n                0.42085214486758077,\n                0.39051177961823613,\n                0.3622335202720473,\n                0.3364817098994673,\n                0.3141993702380365,\n                0.2931369148240898,\n                0.27407798470995565,\n                0.2560674924637345,\n                0.24033243829355788,\n                0.22569674838925816,\n                0.2115981660985969,\n                0.1999809021732806,\n                0.18785883396472058,\n                0.17690699404213273,\n                0.1672057989408602,\n                0.15834962964594979,\n                0.1496143184349793,\n                0.14092825106921153,\n                0.13354581018264494,\n                0.12642085116420088,\n                0.12041947426518934,\n                0.11401473392929405,\n                0.10873673937401662,\n                0.10334026535230559,\n                0.09845939787363568,\n                0.09381131107473462,\n                0.08927748028192815,\n                0.08518672084888534,\n                0.08101033051195287,\n                0.07748088413745882,\n                0.07394819376074771,\n                0.07054981496434891,\n                0.06753367043658763,\n                0.06436260306615824,\n                0.06177071387254413,\n                0.0593695499945123,\n                0.05675973166581913,\n                0.05441656165803888,\n                0.0520980159314821,\n                0.05002913089943003,\n                0.04806579002211474,\n                0.046101637875567036,\n                0.04417269567362448,\n                0.04226523805113052,\n                0.040417097657361456,\n                0.038598463262397506,\n                0.03690226843394468,\n                0.03531781989628565,\n                0.033838707292429146,\n                0.032408596821791126,\n                0.031085410129405848])]),\n 'valid_1': OrderedDict([('multi_error',\n               [0.4666666666666667,\n                0.30533333333333335,\n                0.22933333333333333,\n                0.21333333333333335,\n                0.19466666666666665,\n                0.188,\n                0.19466666666666665,\n                0.19466666666666665,\n                0.19466666666666665,\n                0.18933333333333333,\n                0.184,\n                0.18666666666666668,\n                0.18133333333333335,\n                0.18666666666666668,\n                0.184,\n                0.18133333333333335,\n                0.17333333333333334,\n                0.172,\n                0.16666666666666666,\n                0.16933333333333334,\n                0.16133333333333333,\n                0.16266666666666665,\n                0.16266666666666665,\n                0.164,\n                0.16133333333333333,\n                0.16266666666666665,\n                0.15866666666666668,\n                0.16,\n                0.16,\n                0.16,\n                0.15866666666666668,\n                0.16,\n                0.15866666666666668,\n                0.16,\n                0.15866666666666668,\n                0.15466666666666667,\n                0.15733333333333333,\n                0.15333333333333332,\n                0.15333333333333332,\n                0.14933333333333335,\n                0.14933333333333335,\n                0.152,\n                0.15066666666666667,\n                0.148,\n                0.148,\n                0.14933333333333335,\n                0.14666666666666667,\n                0.148,\n                0.148,\n                0.14533333333333334,\n                0.144,\n                0.14533333333333334,\n                0.14666666666666667,\n                0.14533333333333334,\n                0.14666666666666667,\n                0.14133333333333334,\n                0.14133333333333334,\n                0.14133333333333334,\n                0.14533333333333334,\n                0.14133333333333334,\n                0.144,\n                0.14]),\n              ('multi_logloss',\n               [1.392396985427597,\n                1.2217059575165685,\n                1.0960814416235471,\n                0.9983332937156236,\n                0.9173905389786644,\n                0.8489624139745106,\n                0.7899199665059106,\n                0.7397029600076969,\n                0.6982541525648346,\n                0.6629668768177839,\n                0.6315523636259077,\n                0.6048836512355068,\n                0.5829299988188231,\n                0.5639580836563036,\n                0.5448495053907275,\n                0.5314481268723845,\n                0.5169096271154301,\n                0.5050319673625456,\n                0.4913539849661109,\n                0.48114517196757356,\n                0.47450407554390844,\n                0.46500837810840456,\n                0.4586656622590041,\n                0.4517972191011786,\n                0.4463156069062997,\n                0.44243709319643515,\n                0.4384998379949897,\n                0.434583318598464,\n                0.4317196550531574,\n                0.4286368092005702,\n                0.42664274140505426,\n                0.42577117877719545,\n                0.4231162937767328,\n                0.4199798374261433,\n                0.41671648837092923,\n                0.41678113466264827,\n                0.4145660481303912,\n                0.41182326825396287,\n                0.4129526873036545,\n                0.41242955714719814,\n                0.4114147814060902,\n                0.41140571457362646,\n                0.4124682923690677,\n                0.41229705990161664,\n                0.41301884451102455,\n                0.4136331437882468,\n                0.414079991613189,\n                0.4151158884772867,\n                0.41522291613737033,\n                0.4151537093566672,\n                0.41560060240022917,\n                0.417858033923764,\n                0.41871774409384943,\n                0.42025385291679723,\n                0.4217479051175249,\n                0.42238768063496246,\n                0.42450709327868513,\n                0.4268600292849429,\n                0.4274069880656363,\n                0.4297210736513516,\n                0.43024390402698176,\n                0.4320781330423016])])}"
     },
     "execution_count": 30,
     "metadata": {},
     "output_type": "execute_result"
    }
   ],
   "source": [
    "evals_result = lgb.evals_result_  # 根据fit函数中eval_set参数与eval_metric参数返回评估结果\n",
    "evals_result"
   ],
   "metadata": {
    "collapsed": false,
    "pycharm": {
     "name": "#%%\n"
    }
   }
  },
  {
   "cell_type": "code",
   "execution_count": 31,
   "outputs": [],
   "source": [
    "train_evals = evals_result['training']['multi_logloss']\n",
    "test_evals = evals_result['valid_1']['multi_logloss']"
   ],
   "metadata": {
    "collapsed": false,
    "pycharm": {
     "name": "#%%\n"
    }
   }
  },
  {
   "cell_type": "code",
   "execution_count": 32,
   "outputs": [
    {
     "data": {
      "text/plain": "Text(0.5, 0, 'rounds')"
     },
     "execution_count": 32,
     "metadata": {},
     "output_type": "execute_result"
    },
    {
     "data": {
      "text/plain": "<Figure size 432x288 with 1 Axes>",
      "image/png": "[encoded data removed]"
     },
     "metadata": {
      "needs_background": "light"
     },
     "output_type": "display_data"
    }
   ],
   "source": [
    "plt.plot(train_evals, label='train_evals')\n",
    "plt.plot(test_evals, label='test_evals')\n",
    "plt.legend()\n",
    "plt.ylabel('multi_logloss')\n",
    "plt.xlabel('rounds')"
   ],
   "metadata": {
    "collapsed": false,
    "pycharm": {
     "name": "#%%\n"
    }
   }
  },
  {
   "cell_type": "code",
   "execution_count": 32,
   "outputs": [],
   "source": [],
   "metadata": {
    "collapsed": false,
    "pycharm": {
     "name": "#%%\n"
    }
   }
  }
 ],
 "metadata": {
  "kernelspec": {
   "display_name": "Python 3",
   "language": "python",
   "name": "python3"
  },
  "language_info": {
   "codemirror_mode": {
    "name": "ipython",
    "version": 2
   },
   "file_extension": ".py",
   "mimetype": "text/x-python",
   "name": "python",
   "nbconvert_exporter": "python",
   "pygments_lexer": "ipython2",
   "version": "2.7.6"
  }
 },
 "nbformat": 4,
 "nbformat_minor": 0
}