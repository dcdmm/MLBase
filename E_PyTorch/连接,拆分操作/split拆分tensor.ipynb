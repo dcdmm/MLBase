{
 "cells": [
  {
   "cell_type": "code",
   "execution_count": 52,
   "metadata": {
    "collapsed": true
   },
   "outputs": [],
   "source": [
    "import torch"
   ]
  },
  {
   "cell_type": "code",
   "execution_count": 53,
   "metadata": {
    "collapsed": false,
    "pycharm": {
     "name": "#%%\n"
    }
   },
   "outputs": [
    {
     "data": {
      "text/plain": [
       "torch.Size([3, 12, 7])"
      ]
     },
     "execution_count": 53,
     "metadata": {},
     "output_type": "execute_result"
    }
   ],
   "source": [
    "tor = torch.randn(3, 12, 7)\n",
    "tor.shape"
   ]
  },
  {
   "cell_type": "markdown",
   "metadata": {
    "collapsed": false,
    "pycharm": {
     "name": "#%% md\n"
    }
   },
   "source": [
    "# 参考numpy.split"
   ]
  },
  {
   "cell_type": "code",
   "execution_count": 54,
   "metadata": {
    "collapsed": false,
    "pycharm": {
     "name": "#%%\n"
    }
   },
   "outputs": [
    {
     "name": "stdout",
     "output_type": "stream",
     "text": [
      "torch.Size([1, 12, 7])\n",
      "torch.Size([2, 12, 7])\n",
      "torch.Size([3, 12, 7])\n"
     ]
    }
   ],
   "source": [
    "# Splits the tensor into chunks. Each chunk is a view of the original tensor.\n",
    "# 将tor在维度0上拆分为a,b\n",
    "# a的维度0上的尺寸为1,b在维度0上的尺寸为2\n",
    "# a,b在维度0上的尺寸之和必须等于tor在维度0上的尺寸\n",
    "a, b = torch.split(tor, (1, 2), dim=0)\n",
    "print(a.shape)\n",
    "print(b.shape)\n",
    "print(tor.shape)  # tor不变"
   ]
  },
  {
   "cell_type": "code",
   "execution_count": 55,
   "metadata": {},
   "outputs": [
    {
     "data": {
      "text/plain": [
       "torch.Size([1, 12, 7])"
      ]
     },
     "execution_count": 55,
     "metadata": {},
     "output_type": "execute_result"
    }
   ],
   "source": [
    "tor[1:2, :, :].shape"
   ]
  },
  {
   "cell_type": "code",
   "execution_count": 56,
   "metadata": {
    "collapsed": false,
    "pycharm": {
     "name": "#%%\n"
    }
   },
   "outputs": [
    {
     "name": "stdout",
     "output_type": "stream",
     "text": [
      "torch.Size([3, 6, 7])\n",
      "torch.Size([3, 6, 7])\n"
     ]
    }
   ],
   "source": [
    "a2, b2 = torch.split(tor, (6, 6), dim=1)  # 平均拆分,则可简写为:a2, b2 = torch.split(tor, 6, dim=1)\n",
    "print(a2.shape)\n",
    "print(b2.shape)"
   ]
  },
  {
   "cell_type": "code",
   "execution_count": 57,
   "metadata": {
    "collapsed": false,
    "pycharm": {
     "name": "#%%\n"
    }
   },
   "outputs": [
    {
     "name": "stdout",
     "output_type": "stream",
     "text": [
      "torch.Size([3, 5, 7])\n",
      "torch.Size([3, 4, 7])\n",
      "torch.Size([3, 3, 7])\n"
     ]
    }
   ],
   "source": [
    "a3, b3, c3 = torch.split(tor, (5, 4, 3), dim=1)\n",
    "print(a3.shape)\n",
    "print(b3.shape)\n",
    "print(c3.shape)\n"
   ]
  }
 ],
 "metadata": {
  "kernelspec": {
   "display_name": "llm",
   "language": "python",
   "name": "python3"
  },
  "language_info": {
   "codemirror_mode": {
    "name": "ipython",
    "version": 3
   },
   "file_extension": ".py",
   "mimetype": "text/x-python",
   "name": "python",
   "nbconvert_exporter": "python",
   "pygments_lexer": "ipython3",
   "version": "3.10.12"
  }
 },
 "nbformat": 4,
 "nbformat_minor": 0
}
