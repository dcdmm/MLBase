{
 "cells": [
  {
   "cell_type": "code",
   "execution_count": 5,
   "metadata": {
    "collapsed": true
   },
   "outputs": [],
   "source": [
    "import torch.nn as nn\n",
    "import torch.nn.functional as F\n",
    "import torch"
   ]
  },
  {
   "cell_type": "markdown",
   "source": [
    "torch.nn.AdaptiveAvgPool1d(output_size)类似"
   ],
   "metadata": {
    "collapsed": false
   }
  },
  {
   "cell_type": "code",
   "execution_count": 6,
   "outputs": [
    {
     "data": {
      "text/plain": "torch.Size([1, 64, 5])"
     },
     "execution_count": 6,
     "metadata": {},
     "output_type": "execute_result"
    }
   ],
   "source": [
    "entry = torch.randn(1, 64, 8)\n",
    "re_f, indices_f = F.adaptive_max_pool1d(entry, output_size=5, return_indices=True)\n",
    "re_f.shape"
   ],
   "metadata": {
    "collapsed": false,
    "pycharm": {
     "name": "#%%\n"
    }
   }
  },
  {
   "cell_type": "code",
   "execution_count": 8,
   "outputs": [
    {
     "data": {
      "text/plain": "torch.Size([1, 64, 5])"
     },
     "execution_count": 8,
     "metadata": {},
     "output_type": "execute_result"
    }
   ],
   "source": [
    "indices_f  # indices_f.shape=(1, 64, 5)"
   ],
   "metadata": {
    "collapsed": false,
    "pycharm": {
     "name": "#%%\n"
    }
   }
  },
  {
   "cell_type": "code",
   "execution_count": 9,
   "outputs": [
    {
     "data": {
      "text/plain": "torch.Size([1, 64, 5])"
     },
     "execution_count": 9,
     "metadata": {},
     "output_type": "execute_result"
    }
   ],
   "source": [
    "# Applies a 1D adaptive max pooling over an input signal composed of several input planes.\n",
    "# Input:(N, C, L_in) or (N, L_in)\n",
    "# Output:(N, C, L_out) or (C, L_out), where L_out = output_size\n",
    "amp_c = nn.AdaptiveMaxPool1d(output_size=5,  # 输出形状的大小\n",
    "                             return_indices=True)\n",
    "'''\n",
    "output_size –\n",
    "    the target output size L_out\n",
    "return_indices –\n",
    "    if True, will return the indices along with the outputs.\n",
    "    Useful to pass to nn.MaxUnpool1d. Default: False\n",
    "'''\n",
    "re_c, indices_c = amp_c(entry)\n",
    "re_c.shape"
   ],
   "metadata": {
    "collapsed": false,
    "pycharm": {
     "name": "#%%\n"
    }
   }
  },
  {
   "cell_type": "code",
   "execution_count": 10,
   "outputs": [
    {
     "data": {
      "text/plain": "tensor([[[0, 1, 3, 6, 7],\n         [0, 1, 4, 6, 6],\n         [0, 3, 3, 4, 7],\n         [0, 1, 4, 4, 7],\n         [1, 2, 4, 4, 7],\n         [1, 1, 4, 4, 6],\n         [1, 1, 4, 5, 7],\n         [1, 1, 4, 5, 6],\n         [1, 2, 4, 4, 7],\n         [0, 3, 3, 6, 7],\n         [0, 3, 4, 6, 6],\n         [1, 3, 3, 6, 6],\n         [1, 2, 3, 6, 6],\n         [1, 1, 3, 5, 6],\n         [1, 1, 4, 5, 6],\n         [1, 2, 3, 5, 7],\n         [0, 2, 3, 6, 6],\n         [0, 3, 4, 4, 7],\n         [1, 2, 3, 6, 6],\n         [1, 1, 3, 4, 7],\n         [1, 1, 4, 4, 6],\n         [1, 1, 3, 6, 6],\n         [1, 1, 3, 6, 6],\n         [0, 3, 3, 6, 6],\n         [1, 1, 3, 6, 6],\n         [1, 2, 3, 5, 6],\n         [0, 1, 3, 5, 7],\n         [0, 3, 3, 6, 7],\n         [1, 2, 4, 4, 7],\n         [1, 1, 4, 4, 7],\n         [0, 1, 4, 5, 7],\n         [1, 3, 3, 4, 7],\n         [1, 3, 3, 4, 7],\n         [0, 3, 4, 5, 7],\n         [0, 3, 4, 6, 6],\n         [0, 3, 3, 6, 6],\n         [0, 3, 3, 6, 6],\n         [1, 2, 4, 4, 7],\n         [1, 1, 3, 5, 7],\n         [0, 3, 4, 5, 7],\n         [0, 3, 3, 5, 7],\n         [1, 1, 3, 6, 6],\n         [1, 1, 4, 6, 6],\n         [0, 2, 3, 6, 6],\n         [0, 2, 4, 6, 6],\n         [1, 1, 3, 5, 7],\n         [0, 3, 3, 5, 7],\n         [0, 3, 3, 6, 6],\n         [0, 3, 3, 4, 7],\n         [1, 3, 3, 5, 7],\n         [0, 3, 4, 4, 7],\n         [1, 1, 4, 6, 6],\n         [1, 3, 3, 4, 7],\n         [0, 3, 4, 4, 6],\n         [0, 2, 4, 6, 7],\n         [1, 1, 3, 6, 7],\n         [1, 2, 4, 6, 6],\n         [1, 3, 3, 4, 6],\n         [0, 3, 3, 4, 6],\n         [1, 2, 4, 4, 7],\n         [0, 3, 3, 6, 6],\n         [0, 1, 4, 6, 6],\n         [1, 2, 3, 4, 7],\n         [1, 2, 3, 6, 6]]])"
     },
     "execution_count": 10,
     "metadata": {},
     "output_type": "execute_result"
    }
   ],
   "source": [
    "indices_c"
   ],
   "metadata": {
    "collapsed": false,
    "pycharm": {
     "name": "#%%\n"
    }
   }
  },
  {
   "cell_type": "code",
   "execution_count": null,
   "outputs": [],
   "source": [],
   "metadata": {
    "collapsed": false,
    "pycharm": {
     "name": "#%%\n"
    }
   }
  }
 ],
 "metadata": {
  "kernelspec": {
   "display_name": "Python 3",
   "language": "python",
   "name": "python3"
  },
  "language_info": {
   "codemirror_mode": {
    "name": "ipython",
    "version": 2
   },
   "file_extension": ".py",
   "mimetype": "text/x-python",
   "name": "python",
   "nbconvert_exporter": "python",
   "pygments_lexer": "ipython2",
   "version": "2.7.6"
  }
 },
 "nbformat": 4,
 "nbformat_minor": 0
}