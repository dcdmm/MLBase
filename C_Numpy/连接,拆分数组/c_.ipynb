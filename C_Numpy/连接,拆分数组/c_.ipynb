{
 "cells": [
  {
   "cell_type": "code",
   "execution_count": 147,
   "metadata": {
    "collapsed": true,
    "pycharm": {
     "is_executing": false,
     "name": "#%%\n"
    }
   },
   "outputs": [
    {
     "data": {
      "text/plain": "array([[1],\n       [2],\n       [3]])"
     },
     "metadata": {},
     "output_type": "execute_result",
     "execution_count": 147
    }
   ],
   "source": [
    "import numpy as np\n",
    "\n",
    "a = np.array([1, 2, 3]) # shape=(3,).列向量\n",
    "b = np.array([4, 5, 6])\n",
    "\n",
    "\n",
    "np.c_[a] # (3, ) --> (3, 1)"
   ]
  },
  {
   "cell_type": "code",
   "execution_count": 148,
   "outputs": [
    {
     "data": {
      "text/plain": "array([[1, 4],\n       [2, 5],\n       [3, 6]])"
     },
     "metadata": {},
     "output_type": "execute_result",
     "execution_count": 148
    }
   ],
   "source": [
    "np.c_[a, b] # (3, ) (3, ) --> (3, 2)"
   ],
   "metadata": {
    "collapsed": false,
    "pycharm": {
     "name": "#%%\n",
     "is_executing": false
    }
   }
  },
  {
   "cell_type": "code",
   "execution_count": 149,
   "outputs": [
    {
     "data": {
      "text/plain": "array([[1, 4],\n       [2, 5],\n       [3, 6]])"
     },
     "metadata": {},
     "output_type": "execute_result",
     "execution_count": 149
    }
   ],
   "source": [
    "np.c_[a.reshape(-1, 1), b.reshape(-1, 1)] # (3, 1) (3, 1) --> (3, 2)"
   ],
   "metadata": {
    "collapsed": false,
    "pycharm": {
     "name": "#%%\n",
     "is_executing": false
    }
   }
  },
  {
   "cell_type": "code",
   "execution_count": 150,
   "outputs": [
    {
     "data": {
      "text/plain": "array([[1, 2, 3, 4, 5, 6]])"
     },
     "metadata": {},
     "output_type": "execute_result",
     "execution_count": 150
    }
   ],
   "source": [
    "np.c_[a.reshape(1, -1), b.reshape(1, -1)] # (1, 3) (1, 3) --> (1, 6)"
   ],
   "metadata": {
    "collapsed": false,
    "pycharm": {
     "name": "#%%\n",
     "is_executing": false
    }
   }
  },
  {
   "cell_type": "code",
   "execution_count": 151,
   "outputs": [
    {
     "data": {
      "text/plain": "array([[1, 2, 3, 0, 0, 0],\n       [4, 5, 6, 1, 1, 1]])"
     },
     "metadata": {},
     "output_type": "execute_result",
     "execution_count": 151
    }
   ],
   "source": [
    "c = np.array([[1, 2, 3],[4, 5, 6]])\n",
    "d = np.array([[0, 0, 0],[1, 1, 1]])\n",
    "np.c_[c, d] # (2, 3) (2, 3) --> (2, 6)"
   ],
   "metadata": {
    "collapsed": false,
    "pycharm": {
     "name": "#%%\n",
     "is_executing": false
    }
   }
  },
  {
   "cell_type": "code",
   "execution_count": 152,
   "outputs": [
    {
     "data": {
      "text/plain": "array([[1, 2, 3, 9],\n       [4, 5, 6, 9]])"
     },
     "metadata": {},
     "output_type": "execute_result",
     "execution_count": 152
    }
   ],
   "source": [
    "np.c_[c, np.array([9, 9])] # (2, 3) (2, ) --> (2, 4)"
   ],
   "metadata": {
    "collapsed": false,
    "pycharm": {
     "name": "#%%\n",
     "is_executing": false
    }
   }
  },
  {
   "cell_type": "code",
   "execution_count": 153,
   "outputs": [
    {
     "data": {
      "text/plain": "array([[1, 2, 3, 9],\n       [4, 5, 6, 9]])"
     },
     "metadata": {},
     "output_type": "execute_result",
     "execution_count": 153
    }
   ],
   "source": [
    "np.c_[c, np.array([9, 9]).reshape(-1, 1)] # (2, 3) (2, 1) --> (2, 4)"
   ],
   "metadata": {
    "collapsed": false,
    "pycharm": {
     "name": "#%%\n",
     "is_executing": false
    }
   }
  },
  {
   "cell_type": "code",
   "execution_count": 154,
   "outputs": [
    {
     "data": {
      "text/plain": "array([[-1. ],\n       [-0.6],\n       [-0.2],\n       [ 0.2],\n       [ 0.6],\n       [ 1. ]])"
     },
     "metadata": {},
     "output_type": "execute_result",
     "execution_count": 154
    }
   ],
   "source": [
    "np.c_[-1:1:6j]"
   ],
   "metadata": {
    "collapsed": false,
    "pycharm": {
     "name": "#%%\n",
     "is_executing": false
    }
   }
  },
  {
   "cell_type": "code",
   "execution_count": 155,
   "outputs": [
    {
     "data": {
      "text/plain": "array([[-1. ],\n       [-0.6],\n       [-0.2],\n       [ 0.2],\n       [ 0.6],\n       [ 1. ]])"
     },
     "metadata": {},
     "output_type": "execute_result",
     "execution_count": 155
    }
   ],
   "source": [
    "np.c_[np.linspace(-1, 1, 6)] # 与上等价"
   ],
   "metadata": {
    "collapsed": false,
    "pycharm": {
     "name": "#%%\n",
     "is_executing": false
    }
   }
  },
  {
   "cell_type": "code",
   "execution_count": 155,
   "outputs": [],
   "source": [
    "\n"
   ],
   "metadata": {
    "collapsed": false,
    "pycharm": {
     "name": "#%%\n",
     "is_executing": false
    }
   }
  }
 ],
 "metadata": {
  "kernelspec": {
   "display_name": "Python 3",
   "language": "python",
   "name": "python3"
  },
  "language_info": {
   "codemirror_mode": {
    "name": "ipython",
    "version": 2
   },
   "file_extension": ".py",
   "mimetype": "text/x-python",
   "name": "python",
   "nbconvert_exporter": "python",
   "pygments_lexer": "ipython2",
   "version": "2.7.6"
  },
  "pycharm": {
   "stem_cell": {
    "cell_type": "raw",
    "source": [],
    "metadata": {
     "collapsed": false
    }
   }
  }
 },
 "nbformat": 4,
 "nbformat_minor": 0
}