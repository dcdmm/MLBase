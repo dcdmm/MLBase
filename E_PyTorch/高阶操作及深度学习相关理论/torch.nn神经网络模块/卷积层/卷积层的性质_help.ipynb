{
 "cells": [
  {
   "cell_type": "markdown",
   "metadata": {
    "pycharm": {
     "name": "#%% md\n"
    }
   },
   "source": [
    "### 卷积层的性质\n",
    "\n",
    "&emsp;&emsp;在全连接前馈神经网络中,如果第$l$层有$N_l$个神经元,第$l-1$层有$N_{l-1}$个神经元,则连接边有$N_l \\times N_{l-1}$ 条,也就是权重矩阵有$N_l \\times N_{l-1}$个参数.当$N_l$和$N_{l-1}$都很大时,权重矩阵的参数非常多,训练的效率会非常低.\n",
    "\n",
    "&emsp;&emsp;如果采用卷积来代替全连接,第$l$层的净输入$Z^{l},shape=(FN \\times OH \\times OW)$为第$l-1$ 层活性值$O^{l-1},shape=(C\\times H \\times W)$和卷积核$ W^{l}\\in \\mathbb{R}^K,shape=(FN \\times C \\times FH \\times FW)$ 的卷积,即\n",
    "\n",
    "\\begin{align}\n",
    "Z^{l} &=W^{l} \\otimes O^{l-1} + \\mathbf{b}^{l}\n",
    "\\end{align}\n",
    "\n",
    "其中卷积核$W^l$为卷积核的权值,$\\mathbf{b}^l$为可学习的偏置.\n",
    "\n",
    "\n",
    "&emsp;&emsp;根据卷积的定义,卷积层有两个重要的性质:\n",
    "\n",
    "**局部连接**:在卷积层(假设是第$l$层)中的每一个神经元都只和下一层(第$l -1$层)中某个局部窗口内的神经元相连,构成一个局部连接网络.如下图所示,卷\n",
    "积层和下一层之间的连接数大大减少,由原来的$N_l \\times M_{l-1}$个连接变为$N_l \\times k$(这里假设步幅等于卷积核大小,输入窗口的大小等于卷积核大小的整数倍)个连接,$k$为卷积核大小．\n",
    "\n",
    "**权重共享**:从公式(1)可以看出,作为参数的卷积核$ W^{l} $对于第$l$层的所有的神经元都是相同的.在下图中,所有的同颜色连接上的权重是相同的.权重共享可以理解为一个卷积核只捕捉输入数据中的一种特定的局部特征.因此,如果要提取多种特征就需要使用多个不同的卷积核.\n",
    "\n",
    "\n",
    "<img src='../../../../Other/img/局部连接-权值共享.png'>"
   ]
  },
  {
   "cell_type": "code",
   "execution_count": null,
   "metadata": {},
   "outputs": [],
   "source": []
  }
 ],
 "metadata": {
  "kernelspec": {
   "display_name": "Python 3",
   "language": "python",
   "name": "python3"
  },
  "language_info": {
   "codemirror_mode": {
    "name": "ipython",
    "version": 3
   },
   "file_extension": ".py",
   "mimetype": "text/x-python",
   "name": "python",
   "nbconvert_exporter": "python",
   "pygments_lexer": "ipython3",
   "version": "3.7.7"
  },
  "toc": {
   "base_numbering": 1,
   "nav_menu": {},
   "number_sections": true,
   "sideBar": true,
   "skip_h1_title": false,
   "title_cell": "Table of Contents",
   "title_sidebar": "Contents",
   "toc_cell": false,
   "toc_position": {},
   "toc_section_display": true,
   "toc_window_display": false
  }
 },
 "nbformat": 4,
 "nbformat_minor": 1
}