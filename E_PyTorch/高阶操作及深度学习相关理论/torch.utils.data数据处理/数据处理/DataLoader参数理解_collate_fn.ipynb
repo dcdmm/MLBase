{
 "cells": [
  {
   "cell_type": "markdown",
   "metadata": {
    "collapsed": false,
    "pycharm": {
     "name": "#%% md\n"
    }
   },
   "source": [
    "### collate_fn参数理解"
   ]
  },
  {
   "cell_type": "code",
   "execution_count": 5,
   "metadata": {
    "collapsed": false,
    "pycharm": {
     "name": "#%%\n"
    }
   },
   "outputs": [],
   "source": [
    "import torch\n",
    "import torch.utils.data as Data"
   ]
  },
  {
   "cell_type": "code",
   "execution_count": 6,
   "metadata": {
    "collapsed": false,
    "pycharm": {
     "name": "#%%\n"
    }
   },
   "outputs": [],
   "source": [
    "BATCH_SIZE = 4\n",
    "\n",
    "x = torch.linspace(0.01, 0.1, 72).reshape(12, 2, 3)\n",
    "y = torch.linspace(0, 11, 12)\n",
    "\n",
    "torch_dataset = Data.TensorDataset(x, y)"
   ]
  },
  {
   "cell_type": "code",
   "execution_count": 7,
   "metadata": {
    "collapsed": false,
    "pycharm": {
     "name": "#%%\n"
    }
   },
   "outputs": [],
   "source": [
    "def collate_fun(data):\n",
    "    print('进入collate_fun函数------------------------------------------------')\n",
    "    print('data:', data)  # torch_dataset中batch_size个__getitem__函数返回值组成的列表\n",
    "    print(\"data[0]:\", data[0])\n",
    "    return data[0][0]  # 自定义返回值\n",
    "\n",
    "\n",
    "loader = Data.DataLoader(dataset=torch_dataset, batch_size=BATCH_SIZE, drop_last=True,\n",
    "                         # merges a list of samples to form a mini-batch of Tensor(s).\n",
    "                         # Used when using batched loading from a map-style dataset.\n",
    "                         collate_fn=collate_fun)  # 默认collate_fn=None,即使用`torch.utils.data.default_collate`"
   ]
  },
  {
   "cell_type": "code",
   "execution_count": 8,
   "metadata": {
    "collapsed": false,
    "pycharm": {
     "name": "#%%\n"
    }
   },
   "outputs": [
    {
     "name": "stdout",
     "output_type": "stream",
     "text": [
      "进入collate_fun函数------------------------------------------------\n",
      "data: [(tensor([[0.0100, 0.0113, 0.0125],\n",
      "        [0.0138, 0.0151, 0.0163]]), tensor(0.)), (tensor([[0.0176, 0.0189, 0.0201],\n",
      "        [0.0214, 0.0227, 0.0239]]), tensor(1.)), (tensor([[0.0252, 0.0265, 0.0277],\n",
      "        [0.0290, 0.0303, 0.0315]]), tensor(2.)), (tensor([[0.0328, 0.0341, 0.0354],\n",
      "        [0.0366, 0.0379, 0.0392]]), tensor(3.))]\n",
      "data[0]: (tensor([[0.0100, 0.0113, 0.0125],\n",
      "        [0.0138, 0.0151, 0.0163]]), tensor(0.))\n",
      "batch:0,\n",
      "batch_data:\n",
      "tensor([[0.0100, 0.0113, 0.0125],\n",
      "        [0.0138, 0.0151, 0.0163]])\n",
      "进入collate_fun函数------------------------------------------------\n",
      "data: [(tensor([[0.0404, 0.0417, 0.0430],\n",
      "        [0.0442, 0.0455, 0.0468]]), tensor(4.)), (tensor([[0.0480, 0.0493, 0.0506],\n",
      "        [0.0518, 0.0531, 0.0544]]), tensor(5.)), (tensor([[0.0556, 0.0569, 0.0582],\n",
      "        [0.0594, 0.0607, 0.0620]]), tensor(6.)), (tensor([[0.0632, 0.0645, 0.0658],\n",
      "        [0.0670, 0.0683, 0.0696]]), tensor(7.))]\n",
      "data[0]: (tensor([[0.0404, 0.0417, 0.0430],\n",
      "        [0.0442, 0.0455, 0.0468]]), tensor(4.))\n",
      "batch:1,\n",
      "batch_data:\n",
      "tensor([[0.0404, 0.0417, 0.0430],\n",
      "        [0.0442, 0.0455, 0.0468]])\n",
      "进入collate_fun函数------------------------------------------------\n",
      "data: [(tensor([[0.0708, 0.0721, 0.0734],\n",
      "        [0.0746, 0.0759, 0.0772]]), tensor(8.)), (tensor([[0.0785, 0.0797, 0.0810],\n",
      "        [0.0823, 0.0835, 0.0848]]), tensor(9.)), (tensor([[0.0861, 0.0873, 0.0886],\n",
      "        [0.0899, 0.0911, 0.0924]]), tensor(10.)), (tensor([[0.0937, 0.0949, 0.0962],\n",
      "        [0.0975, 0.0987, 0.1000]]), tensor(11.))]\n",
      "data[0]: (tensor([[0.0708, 0.0721, 0.0734],\n",
      "        [0.0746, 0.0759, 0.0772]]), tensor(8.))\n",
      "batch:2,\n",
      "batch_data:\n",
      "tensor([[0.0708, 0.0721, 0.0734],\n",
      "        [0.0746, 0.0759, 0.0772]])\n"
     ]
    }
   ],
   "source": [
    "def show_batch():\n",
    "    for step, batch_data in enumerate(loader):\n",
    "        print(\"batch:{},\\nbatch_data:\\n{}\".format(step, batch_data))  # tensor长度为batch_size\n",
    "\n",
    "\n",
    "show_batch()"
   ]
  }
 ],
 "metadata": {
  "kernelspec": {
   "display_name": "nlp_base",
   "language": "python",
   "name": "python3"
  },
  "language_info": {
   "codemirror_mode": {
    "name": "ipython",
    "version": 3
   },
   "file_extension": ".py",
   "mimetype": "text/x-python",
   "name": "python",
   "nbconvert_exporter": "python",
   "pygments_lexer": "ipython3",
   "version": "3.10.12"
  }
 },
 "nbformat": 4,
 "nbformat_minor": 0
}
