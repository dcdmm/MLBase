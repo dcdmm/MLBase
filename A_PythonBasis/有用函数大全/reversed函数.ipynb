{
 "cells": [
  {
   "cell_type": "code",
   "execution_count": 14,
   "metadata": {
    "collapsed": true
   },
   "outputs": [
    {
     "name": "stdout",
     "output_type": "stream",
     "text": [
      "<reversed object at 0x000001FCCEFE5D00>\n",
      "('H', 'e', 'l', 'l', 'o')\n",
      "['o', 'l', 'l', 'e', 'H']\n"
     ]
    }
   ],
   "source": [
    "seq_tuple = ('H', 'e', 'l', 'l', 'o')\n",
    "print(reversed(seq_tuple))\n",
    "print(seq_tuple)  # 不发生改变\n",
    "print(list(reversed(seq_tuple)))  # 位置颠倒"
   ]
  },
  {
   "cell_type": "code",
   "execution_count": 15,
   "outputs": [
    {
     "name": "stdout",
     "output_type": "stream",
     "text": [
      "[6, 5, 4, 8, 7]\n"
     ]
    }
   ],
   "source": [
    "seq_list = [7, 8, 4, 5, 6]\n",
    "print(list(reversed(seq_list)))"
   ],
   "metadata": {
    "collapsed": false,
    "pycharm": {
     "name": "#%%\n"
    }
   }
  },
  {
   "cell_type": "code",
   "execution_count": 16,
   "outputs": [
    {
     "name": "stdout",
     "output_type": "stream",
     "text": [
      "['d', 'l', 'r', 'o', 'w', ' ', 'o', 'l', 'l', 'e', 'h']\n"
     ]
    }
   ],
   "source": [
    "seq_string = \"hello world\"\n",
    "print(list(reversed(seq_string)))"
   ],
   "metadata": {
    "collapsed": false,
    "pycharm": {
     "name": "#%%\n"
    }
   }
  },
  {
   "cell_type": "code",
   "execution_count": 17,
   "outputs": [
    {
     "name": "stdout",
     "output_type": "stream",
     "text": [
      "[[-1, 10], [4, 6], [5, 8], [1, 2]]\n"
     ]
    }
   ],
   "source": [
    "lst = [[1, 2],\n",
    "       [5, 8],\n",
    "       [4, 6],\n",
    "       [-1, 10]]\n",
    "print(list(reversed(lst)))"
   ],
   "metadata": {
    "collapsed": false,
    "pycharm": {
     "name": "#%%\n"
    }
   }
  },
  {
   "cell_type": "code",
   "execution_count": 18,
   "outputs": [
    {
     "name": "stdout",
     "output_type": "stream",
     "text": [
      "[[-4], [-3], [-2], [-1]]\n"
     ]
    }
   ],
   "source": [
    "lst1 = [[-1], [-2], [-3], [-4]]\n",
    "print(list(reversed(lst1)))"
   ],
   "metadata": {
    "collapsed": false,
    "pycharm": {
     "name": "#%%\n"
    }
   }
  },
  {
   "cell_type": "code",
   "execution_count": 18,
   "outputs": [],
   "source": [],
   "metadata": {
    "collapsed": false,
    "pycharm": {
     "name": "#%%"
    }
   }
  }
 ],
 "metadata": {
  "kernelspec": {
   "display_name": "Python 3",
   "language": "python",
   "name": "python3"
  },
  "language_info": {
   "codemirror_mode": {
    "name": "ipython",
    "version": 2
   },
   "file_extension": ".py",
   "mimetype": "text/x-python",
   "name": "python",
   "nbconvert_exporter": "python",
   "pygments_lexer": "ipython2",
   "version": "2.7.6"
  }
 },
 "nbformat": 4,
 "nbformat_minor": 0
}