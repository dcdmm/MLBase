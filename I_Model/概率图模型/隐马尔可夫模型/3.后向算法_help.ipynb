{
 "cells": [
  {
   "cell_type": "markdown",
   "metadata": {
    "collapsed": true,
    "pycharm": {
     "name": "#%% md\n"
    }
   },
   "source": [
    "<font color='red' size=4>定义:(后向概率)</font>给定隐马尔可夫模型$\\boldsymbol{\\lambda}$,定义在时刻$t$状态为$q_i$的条件下,从$t+1$到$T$的部分观测序列为$o_{t+1}, o_{t+2}, \\cdots, o_{T}$的概率为后向概率,记作\n",
    "\n",
    "$$ \\beta_{t}(i)=P\\left(o_{t+1}, o_{t+2}, \\cdots, o_{T} \\mid i_{t}=q_{i}, \\boldsymbol{\\lambda}\\right) $$\n",
    "\n",
    "可以用递推的方法求得后向概率$\\beta_t(i)$及观测概率$P(O|\\boldsymbol{\\lambda})$\n",
    "\n",
    "<font color='red' size=4>算法:(观测序列概率的后向算法)</font>\n",
    "\n",
    "输入:隐马尔可夫模型$\\boldsymbol{\\lambda}$,观测序列$O$\n",
    "\n",
    "输出:观测序列概率$P(O|\\boldsymbol{\\lambda})$\n",
    "\n",
    "1. $$ \\beta_{T}(i)=1, \\quad i=1,2, \\cdots, N $$\n",
    "\n",
    "2. 对$t=T-1,T-2,\\cdots,1$\n",
    "   \n",
    "   \\begin{align}\n",
    "   \\beta_{t}(i)&=P\\left(o_{t+1}, o_{t+2}, \\cdots, o_{T} \\mid i_{t}=q_{i}, \\lambda\\right) \\\\\n",
    "   &=\\sum_{j=1}^N P\\left(o_{t+1}, o_{t+2}, \\cdots, o_{T}, i_{t+1} = q_j \\mid i_{t}=q_{i}, \\lambda\\right)\n",
    "   \\\\\n",
    "   &=\\sum_{i=1}^N P(o_{t+1},o_{t+2},\\cdots,o_T|i_{t+1}=q_j,i_t=q_i,\\boldsymbol{\\lambda})\n",
    "   P(i_{t+1}=q_j|i_t=q_i)\\\\\n",
    "   &=\\sum_{i=1}^N P(o_{t+1},o_{t+2},\\cdots,o_T|i_{t+1}=q_j,\\boldsymbol{\\lambda})\n",
    "a_{ij} \\qquad \\text{注:由有向图模型的条件独立性}\n",
    "   \\\\\n",
    "   &= \\sum_{i=1}^N P(o_{t+1}|o_{t+2},\\cdots,o_T,i_{t+1}=q_j,\\boldsymbol{\\lambda})P(o_{t+2},\\cdots,o_{T}|i_{t+1}=q_j,\\boldsymbol{\\lambda})a_{ij}\n",
    "   \\\\\n",
    "   &=\\sum_{i=1}^N P(o_{t+1}|i_{t+1}=q_j,\\boldsymbol{\\lambda}) \\beta_{t+1}(j) a_{ij} \\qquad \\text{注:由观测独立假设}\n",
    "   \\\\\n",
    "   &=\\sum_{j=1}^{N} a_{i j} b_{j}\\left(o_{t+1}\\right) \\beta_{t+1}(j), \\quad i=1,2, \\cdots, N \n",
    "   \\end{align}\n",
    "   \n",
    "   \n",
    "3. &emsp;\n",
    "   \\begin{align}\n",
    "   P(O \\mid \\boldsymbol{\\lambda})&= \\sum_{i=1}^N P(O,i_1=q_i |\\boldsymbol{\\lambda}) \n",
    "   \\\\\n",
    "   &=\\sum_{i=1}^N P(O|i_1=q_i,\\boldsymbol{\\lambda}) P(i_1=q_i)\n",
    "   \\\\\n",
    "   &=\\sum_{i=1}^N P(o_1|o_2,\\cdots,o_T,i_1=q_i,\\boldsymbol{\\lambda})P(o_2,\\cdots,o_T|i_1=q_i,\\boldsymbol{\\lambda}) \\pi_i \\\\\n",
    "   &=\\sum_{i=1}^N  P(o_1|i_1=q_i) \\beta_1(i) \\pi_i  \\qquad \\text{注:观测独立性假设}\n",
    "   \\\\\n",
    "   &=\\sum_{i=1}^{N} \\pi_{i} b_{i}\\left(o_{1}\\right) \\beta_{1}(i)\n",
    "   \\end{align}\n",
    "   \n",
    "\n",
    "步骤1初始化后向概率,对最终时刻的所有状态$q_i$规定$\\beta_{T}(i)=1$(由步骤2的推导易知).步骤2是后向概率的递推公式.如下图所示,为了计算在时刻$t$状态为$q_i$条件下时刻$t+1$之后的观测序列为$o_{t+1},o_{t+2},\\cdots,o_T$的后向概率$\\beta_t(i)$,只需考虑在时刻$t+1$所有可能的$N$个状态$q_j$的转移概率(即$a_{ij}$项),以及在此状态下的观测$o_{t+1}$的观测概率(即$b_{j}\\left(o_{t+1}\\right) $项),然后考虑状态$q_j$之后的观测序列的后向概率(即$\\beta_{t+1}(i)$项).步骤3求$P(O|\\boldsymbol{\\lambda})$的思想与步骤2一致,只是初始概率$\\pi_i$代替转移概率.\n",
    "\n",
    "<img src=\"../../../Other/img/后向概率的递推公式.png\" style=\"width:500px;height:400px\">\n",
    "\n",
    "&emsp;&emsp;利用前向概率和后向概率的定义可以将观测序列概率$P(O \\mid \\boldsymbol{\\lambda})$统一写成\n",
    "\n",
    "$$ P(O \\mid \\boldsymbol{\\lambda})=\\sum_{i=1}^{N} \\sum_{j=1}^{N} \\alpha_{t}(i) a_{i j} b_{j}\\left(o_{t+1}\\right) \\beta_{t+1}(j), \\quad t=1,2, \\cdots, T-1 $$"
   ]
  }
 ],
 "metadata": {
  "kernelspec": {
   "display_name": "Python 3",
   "language": "python",
   "name": "python3"
  },
  "language_info": {
   "codemirror_mode": {
    "name": "ipython",
    "version": 3
   },
   "file_extension": ".py",
   "mimetype": "text/x-python",
   "name": "python",
   "nbconvert_exporter": "python",
   "pygments_lexer": "ipython3",
   "version": "3.7.7"
  },
  "toc": {
   "base_numbering": 1,
   "nav_menu": {},
   "number_sections": true,
   "sideBar": true,
   "skip_h1_title": false,
   "title_cell": "Table of Contents",
   "title_sidebar": "Contents",
   "toc_cell": false,
   "toc_position": {},
   "toc_section_display": true,
   "toc_window_display": false
  }
 },
 "nbformat": 4,
 "nbformat_minor": 1
}