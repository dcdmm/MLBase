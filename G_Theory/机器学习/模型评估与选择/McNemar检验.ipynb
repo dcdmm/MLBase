{
 "cells": [
  {
   "cell_type": "markdown",
   "metadata": {
    "collapsed": true,
    "pycharm": {
     "name": "#%% md\n"
    }
   },
   "source": [
    "## McNemar检验(广泛应用于医学领域)\n",
    "<font color='red' size=4>$ 2 \\times 2$列联表的一般结构</font>      \n",
    "\n",
    "| $ \\quad $ | $ \\quad $ | Classifier1     | Classifier1     | $ \\quad $   |\n",
    "| --------- | --------- | ----- | ----- | ----------- |\n",
    "| $ \\quad $ | $ \\quad $ | Correct     | Incorrect     | 总数  |\n",
    "| **Classifier2**         | Correct         | Yes/Yes(a)     | Yes/no(b)     | a + b       |\n",
    "| **Classifer2**         | Incorrect         | No/Yes(c)     | No/No(c)     | c + d       |\n",
    "| $ \\quad $ | 总数 | a + c | b + d | N = a+b+c+d |\n",
    "  \n",
    "&emsp;&emsp;对二分类问题,使用留出法不仅可以估计出学习器A和B的测试误差率,还可以获得两学习器分类结果的差别,即两者都正确,都错误,一个正确\n",
    "另一个错误的样本数,如上列联表所示.       \n",
    "&emsp;&emsp;若原假设是两学习器性能相同,则应有b=c,那么变量$ | b -c | $应服从正态分布.则McNemer检验统计量为     \n",
    "$$  \\chi^2 = \\frac{(|b-c| - correctionFactor)^2}{b+c} $$   \n",
    "其中$ \\chi^2 $服从自由度为1的卡方分布.对于小样本数,correctionFacotr应该是0.5(Yates校正)或1.0(Edward校正)(对于$ b+ c<25$,应\n",
    "该进行二项式计算)  "
   ]
  },
  {
   "cell_type": "code",
   "execution_count": 11,
   "outputs": [
    {
     "name": "stdout",
     "text": [
      "20.67222222222222\n5.450094825427117e-06\n"
     ],
     "output_type": "stream"
    }
   ],
   "source": [
    "from statsmodels.stats.contingency_tables import mcnemar\n",
    "\n",
    "table = [[101, 121], \n",
    "         [59, 32]]\n",
    "\n",
    "result = mcnemar(table, exact=False, correction=True) # 默认进行Edward校正\n",
    "'''\n",
    "exact : bool\n",
    "    If exact is true, then the binomial distribution will be used.\n",
    "    If exact is false, then the chisquare distribution will be\n",
    "    used, which is the approximation to the distribution of the\n",
    "    test statistic for large sample sizes.\n",
    "'''\n",
    "print(result.statistic)\n",
    "print(result.pvalue)"
   ],
   "metadata": {
    "collapsed": false,
    "pycharm": {
     "name": "#%% \n",
     "is_executing": false
    }
   }
  },
  {
   "cell_type": "code",
   "execution_count": null,
   "outputs": [],
   "source": [
    "\n"
   ],
   "metadata": {
    "collapsed": false,
    "pycharm": {
     "name": "#%%\n"
    }
   }
  }
 ],
 "metadata": {
  "kernelspec": {
   "display_name": "Python 3",
   "language": "python",
   "name": "python3"
  },
  "language_info": {
   "codemirror_mode": {
    "name": "ipython",
    "version": 2
   },
   "file_extension": ".py",
   "mimetype": "text/x-python",
   "name": "python",
   "nbconvert_exporter": "python",
   "pygments_lexer": "ipython2",
   "version": "2.7.6"
  },
  "pycharm": {
   "stem_cell": {
    "cell_type": "raw",
    "source": [],
    "metadata": {
     "collapsed": false
    }
   }
  }
 },
 "nbformat": 4,
 "nbformat_minor": 0
}