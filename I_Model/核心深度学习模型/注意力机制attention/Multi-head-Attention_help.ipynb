{
 "cells": [
  {
   "cell_type": "markdown",
   "metadata": {
    "collapsed": true,
    "pycharm": {
     "name": "#%% md\n"
    }
   },
   "source": [
    "<img src=\"../../../Other/img/Multi-head Attention0.png\"  style=\"width:650px;height:300px;float:bottom\">\n",
    "\n",
    "</br>\n",
    "\n",
    "<img src=\"../../../Other/img/Multi-head Attention1.png\"  style=\"width:200px;height:300px;float:bottom\">\n",
    "\n",
    "</br>\n",
    "\n",
    "<img src=\"../../../Other/img/Multi-head Attention2.png\"  style=\"width:750px;height:380px;float:bottom\">\n",
    "\n",
    "### 模型\n",
    "\n",
    "给定查询$\\mathrm{x}_q \\in \\mathbb{R}^{1 \\times {d_{q}}} $,键$\\mathrm{x}_k \\in \\mathbb{R}^{1 \\times {d_{k}}} $和值$\\mathrm{x}_v \\in \\mathbb{R}^{1 \\times {d_{v}}} $,每个注意力头$\\mathrm{h}_i (i=1,......,h)$的计算方法为:\n",
    "\n",
    "$$\n",
    "\\mathrm{h}_{i}=f\\left( \\mathrm{x}_q (W_{i}^{Q})^T , \\mathrm{x}_k (W_{i}^{K})^T, \\mathrm{x}_v (W_{i}^{V})^T\\right) \\in \\mathbb{R}^{p_{v}}\n",
    "$$\n",
    "\n",
    "其中,可学习的参数包括$W_{i}^{Q} \\in \\mathbb{R}^{p_{q} \\times d_{q}} 、 W_{i}^{K} \\in \\mathbb{R}^{p_{k} \\times d_{k}}$和$W_{i}^{V} \\in \\mathbb{R}^{p_{v} \\times d_{v}}$,以及代表注意力汇聚的函数$f$(可以是加性注意力或缩放点积注意力).多头注意力的输出需要经过另一个线性变换,它对应着$h$个头连接后的结果,其中可学习参数为$W_{O} \\in \\mathbb{R}^{p_{o} \\times h p_{v}}$.\n",
    "\n",
    "$$\n",
    "Z=W_{O}\\left[\\begin{array}{c}\n",
    "\\mathrm{h}_{1} \\\\\n",
    "\\vdots \\\\\n",
    "\\mathrm{h}_{h}\n",
    "\\end{array}\\right] \\in \\mathbb{R}^{p_{o}}\n",
    "$$\n",
    "\n",
    "基于这种设计,每个头都可能会关注输⼊的不同部分.可以表示比简单加权平均值更复杂的函数."
   ]
  },
  {
   "cell_type": "code",
   "execution_count": null,
   "outputs": [],
   "source": [],
   "metadata": {
    "collapsed": false,
    "pycharm": {
     "name": "#%%"
    }
   }
  }
 ],
 "metadata": {
  "kernelspec": {
   "display_name": "Python 3",
   "language": "python",
   "name": "python3"
  },
  "language_info": {
   "codemirror_mode": {
    "name": "ipython",
    "version": 2
   },
   "file_extension": ".py",
   "mimetype": "text/x-python",
   "name": "python",
   "nbconvert_exporter": "python",
   "pygments_lexer": "ipython2",
   "version": "2.7.6"
  }
 },
 "nbformat": 4,
 "nbformat_minor": 0
}