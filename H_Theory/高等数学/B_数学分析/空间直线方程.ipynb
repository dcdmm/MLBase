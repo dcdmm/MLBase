{
 "cells": [
  {
   "cell_type": "markdown",
   "source": [
    "&emsp;&emsp;如果一非零向量平行于一条已知直线,这个向量称为这条直线的方向向量,记为$ \\overrightarrow{s} $.    \n",
    "&emsp;&emsp;若$ {M_0}({x_0},{y_0},{z_0}),M(x,y,z) $为\n",
    "直线上两点,则$ \\overrightarrow {{M_0}M} /  / \\overrightarrow {s{\\rm{ }}} $.由$\\overrightarrow {s{\\rm{ }}}  = \\{ m,\\;n,\\;p\\},\\overrightarrow {{M_0}M} \\, = \\{ x - {x_0},{\\rm{ }}\\,y - {y_0},\\,{\\rm{ }}z - {z_0}\\} $.即可得直线方程为     \n",
    "$$ \\frac{{x - {x_0}}}{m} = \\frac{{y - {y_0}}}{n} = \\frac{{z - {z_0}}}{p}{\\rm{}} $$      \n",
    "&emsp;&emsp;两直线的方向向量的夹角(通常指锐角)叫做两直线的夹角    \n",
    "直线$$ L_1:\\frac{{x - {x_1}}}{{{m_1}}} = \\frac{{y - {y_1}}}{{{n_1}}} = \\frac{{z - {z_1}}}{{{p_1}}} $$        \n",
    "直线$$ L_2:\\frac{{x - {x_2}}}{{{m_2}}} = \\frac{{y - {y_2}}}{{{n_2}}} = \\frac{{z - {z_2}}}{{{p_2}}} $$    \n",
    "则,$$ \\cos ({L_1},{L_2}) = \\frac{{|{m_1}{m_2} + {n_1}{n_2} + {p_1}{p_2}|}}{{\\sqrt {{m_1}^2 + {n_1}^2 + {p_1}^2}  \\cdot \\sqrt {{m_2}^2 + {n_2}^2 + {p_2}^2} }} $$"
   ],
   "metadata": {
    "collapsed": false,
    "pycharm": {
     "name": "#%% md\n",
     "is_executing": false
    }
   }
  },
  {
   "cell_type": "code",
   "execution_count": 1,
   "outputs": [],
   "source": [
    "%matplotlib qt5\n",
    "from mpl_toolkits.mplot3d import Axes3D  # noqa: F401 unused import\n",
    "import numpy as np\n",
    "import matplotlib.pyplot as plt\n",
    "\n",
    "fig1 = plt.figure()\n",
    "ax1 = fig1.gca(projection='3d')\n",
    "\n",
    "z = np.linspace(-2, 2, 100)\n",
    "x = z\n",
    "y = -z/2 - 1/2 # 直线x=-2y-1=z\n",
    "\n",
    "ax1.plot(x, y, z, label='parametric curve', color='red', marker='.', linestyle='-.')\n",
    "'''\n",
    "xs : 1D array-like\n",
    "    x coordinates of vertices.\n",
    "\n",
    "ys : 1D array-like\n",
    "    y coordinates of vertices.\n",
    "\n",
    "zs : scalar or 1D array-like\n",
    "    z coordinates of vertices; either one for all points or one for each point.\n",
    "'''\n",
    "ax1.legend()\n",
    "ax1.set_xlabel('X axis')\n",
    "ax1.set_ylabel('Y axis')\n",
    "ax1.set_zlabel('Z axis')\n",
    "plt.show()"
   ],
   "metadata": {
    "collapsed": false,
    "pycharm": {
     "name": "#%%\n",
     "is_executing": false
    }
   }
  },
  {
   "cell_type": "code",
   "execution_count": null,
   "metadata": {
    "collapsed": true
   },
   "outputs": [],
   "source": [
    "\n"
   ]
  }
 ],
 "metadata": {
  "kernelspec": {
   "display_name": "Python 3",
   "language": "python",
   "name": "python3"
  },
  "language_info": {
   "codemirror_mode": {
    "name": "ipython",
    "version": 2
   },
   "file_extension": ".py",
   "mimetype": "text/x-python",
   "name": "python",
   "nbconvert_exporter": "python",
   "pygments_lexer": "ipython2",
   "version": "2.7.6"
  },
  "pycharm": {
   "stem_cell": {
    "cell_type": "raw",
    "source": [],
    "metadata": {
     "collapsed": false
    }
   }
  }
 },
 "nbformat": 4,
 "nbformat_minor": 0
}