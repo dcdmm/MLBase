{
 "cells": [
  {
   "cell_type": "code",
   "execution_count": 10,
   "metadata": {
    "collapsed": true
   },
   "outputs": [],
   "source": [
    "import tensorflow as tf"
   ]
  },
  {
   "cell_type": "markdown",
   "source": [
    "### 参考numpy.reshape"
   ],
   "metadata": {
    "collapsed": false,
    "pycharm": {
     "name": "#%% md\n"
    }
   }
  },
  {
   "cell_type": "code",
   "execution_count": 11,
   "outputs": [
    {
     "name": "stdout",
     "output_type": "stream",
     "text": [
      "tf.Tensor(\n",
      "[ 0  1  2  3  4  5  6  7  8  9 10 11 12 13 14 15 16 17 18 19 20 21 22 23\n",
      " 24 25 26 27 28 29 30 31 32 33 34 35 36 37 38 39 40 41 42 43 44 45 46 47\n",
      " 48 49 50 51 52 53 54 55 56 57 58 59 60 61 62 63], shape=(64,), dtype=int32)\n"
     ]
    }
   ],
   "source": [
    "a = tf.range(64)\n",
    "print(a)"
   ],
   "metadata": {
    "collapsed": false,
    "pycharm": {
     "name": "#%%\n"
    }
   }
  },
  {
   "cell_type": "code",
   "execution_count": 12,
   "outputs": [
    {
     "data": {
      "text/plain": "<tf.Tensor: shape=(8, 8), dtype=int32, numpy=\narray([[ 0,  1,  2,  3,  4,  5,  6,  7],\n       [ 8,  9, 10, 11, 12, 13, 14, 15],\n       [16, 17, 18, 19, 20, 21, 22, 23],\n       [24, 25, 26, 27, 28, 29, 30, 31],\n       [32, 33, 34, 35, 36, 37, 38, 39],\n       [40, 41, 42, 43, 44, 45, 46, 47],\n       [48, 49, 50, 51, 52, 53, 54, 55],\n       [56, 57, 58, 59, 60, 61, 62, 63]])>"
     },
     "execution_count": 12,
     "metadata": {},
     "output_type": "execute_result"
    }
   ],
   "source": [
    "b = tf.reshape(a, (8, 8))\n",
    "b"
   ],
   "metadata": {
    "collapsed": false,
    "pycharm": {
     "name": "#%%\n"
    }
   }
  },
  {
   "cell_type": "code",
   "execution_count": 13,
   "outputs": [
    {
     "data": {
      "text/plain": "<tf.Tensor: shape=(64, 1), dtype=int32, numpy=\narray([[ 0],\n       [ 1],\n       [ 2],\n       [ 3],\n       [ 4],\n       [ 5],\n       [ 6],\n       [ 7],\n       [ 8],\n       [ 9],\n       [10],\n       [11],\n       [12],\n       [13],\n       [14],\n       [15],\n       [16],\n       [17],\n       [18],\n       [19],\n       [20],\n       [21],\n       [22],\n       [23],\n       [24],\n       [25],\n       [26],\n       [27],\n       [28],\n       [29],\n       [30],\n       [31],\n       [32],\n       [33],\n       [34],\n       [35],\n       [36],\n       [37],\n       [38],\n       [39],\n       [40],\n       [41],\n       [42],\n       [43],\n       [44],\n       [45],\n       [46],\n       [47],\n       [48],\n       [49],\n       [50],\n       [51],\n       [52],\n       [53],\n       [54],\n       [55],\n       [56],\n       [57],\n       [58],\n       [59],\n       [60],\n       [61],\n       [62],\n       [63]])>"
     },
     "execution_count": 13,
     "metadata": {},
     "output_type": "execute_result"
    }
   ],
   "source": [
    "tf.reshape(a, (-1, 1))  # 等价于tf.reshape(a, (64, 1));ndim=2"
   ],
   "metadata": {
    "collapsed": false,
    "pycharm": {
     "name": "#%%\n"
    }
   }
  },
  {
   "cell_type": "code",
   "execution_count": 14,
   "outputs": [
    {
     "data": {
      "text/plain": "<tf.Tensor: shape=(64,), dtype=int32, numpy=\narray([ 0,  1,  2,  3,  4,  5,  6,  7,  8,  9, 10, 11, 12, 13, 14, 15, 16,\n       17, 18, 19, 20, 21, 22, 23, 24, 25, 26, 27, 28, 29, 30, 31, 32, 33,\n       34, 35, 36, 37, 38, 39, 40, 41, 42, 43, 44, 45, 46, 47, 48, 49, 50,\n       51, 52, 53, 54, 55, 56, 57, 58, 59, 60, 61, 62, 63])>"
     },
     "execution_count": 14,
     "metadata": {},
     "output_type": "execute_result"
    }
   ],
   "source": [
    "tf.reshape(a, (-1,))  # 等价于tf.reshape(a, (64, ));ndim=1"
   ],
   "metadata": {
    "collapsed": false,
    "pycharm": {
     "name": "#%%\n"
    }
   }
  },
  {
   "cell_type": "code",
   "execution_count": 15,
   "outputs": [
    {
     "name": "stdout",
     "output_type": "stream",
     "text": [
      "tf.Tensor(\n",
      "[[[ 0  1  2  3  4]\n",
      "  [ 5  6  7  8  9]\n",
      "  [10 11 12 13 14]]\n",
      "\n",
      " [[15 16 17 18 19]\n",
      "  [20 21 22 23 24]\n",
      "  [25 26 27 28 29]]], shape=(2, 3, 5), dtype=int32)\n",
      "tf.Tensor(\n",
      "[[[ 0 15]\n",
      "  [ 5 20]\n",
      "  [10 25]]\n",
      "\n",
      " [[ 1 16]\n",
      "  [ 6 21]\n",
      "  [11 26]]\n",
      "\n",
      " [[ 2 17]\n",
      "  [ 7 22]\n",
      "  [12 27]]\n",
      "\n",
      " [[ 3 18]\n",
      "  [ 8 23]\n",
      "  [13 28]]\n",
      "\n",
      " [[ 4 19]\n",
      "  [ 9 24]\n",
      "  [14 29]]], shape=(5, 3, 2), dtype=int32)\n"
     ]
    }
   ],
   "source": [
    "te_235 = tf.reshape(tf.range(30), (2, 3, 5))\n",
    "te_per = tf.transpose(te_235, (2, 1, 0))\n",
    "print(te_235)\n",
    "print(te_per)"
   ],
   "metadata": {
    "collapsed": false,
    "pycharm": {
     "name": "#%%\n"
    }
   }
  },
  {
   "cell_type": "code",
   "execution_count": 16,
   "outputs": [
    {
     "name": "stdout",
     "output_type": "stream",
     "text": [
      "tf.Tensor(\n",
      "[ 0  1  2  3  4  5  6  7  8  9 10 11 12 13 14 15 16 17 18 19 20 21 22 23\n",
      " 24 25 26 27 28 29], shape=(30,), dtype=int32)\n",
      "tf.Tensor(\n",
      "[ 0 15  5 20 10 25  1 16  6 21 11 26  2 17  7 22 12 27  3 18  8 23 13 28\n",
      "  4 19  9 24 14 29], shape=(30,), dtype=int32)\n"
     ]
    }
   ],
   "source": [
    "print(tf.reshape(te_235, (-1,)))\n",
    "print(tf.reshape(te_per, (-1,)))  # 两者不一样"
   ],
   "metadata": {
    "collapsed": false,
    "pycharm": {
     "name": "#%%\n"
    }
   }
  },
  {
   "cell_type": "code",
   "execution_count": 17,
   "outputs": [
    {
     "data": {
      "text/plain": "<tf.Tensor: shape=(2, 3, 4, 5), dtype=int32, numpy=\narray([[[[  0,   1,   2,   3,   4],\n         [  5,   6,   7,   8,   9],\n         [ 10,  11,  12,  13,  14],\n         [ 15,  16,  17,  18,  19]],\n\n        [[ 20,  21,  22,  23,  24],\n         [ 25,  26,  27,  28,  29],\n         [ 30,  31,  32,  33,  34],\n         [ 35,  36,  37,  38,  39]],\n\n        [[ 40,  41,  42,  43,  44],\n         [ 45,  46,  47,  48,  49],\n         [ 50,  51,  52,  53,  54],\n         [ 55,  56,  57,  58,  59]]],\n\n\n       [[[ 60,  61,  62,  63,  64],\n         [ 65,  66,  67,  68,  69],\n         [ 70,  71,  72,  73,  74],\n         [ 75,  76,  77,  78,  79]],\n\n        [[ 80,  81,  82,  83,  84],\n         [ 85,  86,  87,  88,  89],\n         [ 90,  91,  92,  93,  94],\n         [ 95,  96,  97,  98,  99]],\n\n        [[100, 101, 102, 103, 104],\n         [105, 106, 107, 108, 109],\n         [110, 111, 112, 113, 114],\n         [115, 116, 117, 118, 119]]]])>"
     },
     "execution_count": 17,
     "metadata": {},
     "output_type": "execute_result"
    }
   ],
   "source": [
    "qq = tf.reshape(tf.range(120), (2, 3, 4, 5))\n",
    "qq"
   ],
   "metadata": {
    "collapsed": false,
    "pycharm": {
     "name": "#%%\n"
    }
   }
  },
  {
   "cell_type": "code",
   "execution_count": 18,
   "outputs": [
    {
     "data": {
      "text/plain": "<tf.Tensor: shape=(120,), dtype=int32, numpy=\narray([  0,   1,   2,   3,   4,   5,   6,   7,   8,   9,  10,  11,  12,\n        13,  14,  15,  16,  17,  18,  19,  20,  21,  22,  23,  24,  25,\n        26,  27,  28,  29,  30,  31,  32,  33,  34,  35,  36,  37,  38,\n        39,  40,  41,  42,  43,  44,  45,  46,  47,  48,  49,  50,  51,\n        52,  53,  54,  55,  56,  57,  58,  59,  60,  61,  62,  63,  64,\n        65,  66,  67,  68,  69,  70,  71,  72,  73,  74,  75,  76,  77,\n        78,  79,  80,  81,  82,  83,  84,  85,  86,  87,  88,  89,  90,\n        91,  92,  93,  94,  95,  96,  97,  98,  99, 100, 101, 102, 103,\n       104, 105, 106, 107, 108, 109, 110, 111, 112, 113, 114, 115, 116,\n       117, 118, 119])>"
     },
     "execution_count": 18,
     "metadata": {},
     "output_type": "execute_result"
    }
   ],
   "source": [
    "# 易看出规律------->>>>>从低维度依次向高维度平展\n",
    "tf.reshape(qq, (-1,))\n"
   ],
   "metadata": {
    "collapsed": false,
    "pycharm": {
     "name": "#%%\n"
    }
   }
  }
 ],
 "metadata": {
  "kernelspec": {
   "display_name": "Python 3",
   "language": "python",
   "name": "python3"
  },
  "language_info": {
   "codemirror_mode": {
    "name": "ipython",
    "version": 2
   },
   "file_extension": ".py",
   "mimetype": "text/x-python",
   "name": "python",
   "nbconvert_exporter": "python",
   "pygments_lexer": "ipython2",
   "version": "2.7.6"
  }
 },
 "nbformat": 4,
 "nbformat_minor": 0
}