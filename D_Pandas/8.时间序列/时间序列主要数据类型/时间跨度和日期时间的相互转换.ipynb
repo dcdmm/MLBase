{
 "cells": [
  {
   "cell_type": "code",
   "execution_count": null,
   "outputs": [],
   "source": [
    "import  numpy as np\n",
    "import  pandas as pd"
   ],
   "metadata": {
    "collapsed": false,
    "pycharm": {
     "name": "#%%\n"
    }
   }
  },
  {
   "cell_type": "code",
   "execution_count": 7,
   "metadata": {
    "pycharm": {
     "is_executing": false
    }
   },
   "outputs": [
    {
     "data": {
      "text/plain": "2000-01-31    0.303729\n2000-02-29    0.384780\n2000-03-31   -0.260418\nFreq: M, dtype: float64"
     },
     "metadata": {},
     "output_type": "execute_result",
     "execution_count": 7
    }
   ],
   "source": [
    "rng = pd.date_range('2000-01-01', periods=3, freq='M')\n",
    "ts = pd.Series(np.random.randn(3), index=rng)\n",
    "ts"
   ]
  },
  {
   "cell_type": "code",
   "execution_count": 17,
   "outputs": [
    {
     "data": {
      "text/plain": "PeriodIndex(['2000-01', '2000-02', '2000-03'], dtype='period[M]', freq='M')"
     },
     "metadata": {},
     "output_type": "execute_result",
     "execution_count": 17
    }
   ],
   "source": "ts.index.to_period() # datetimeindex转换为periodindex",
   "metadata": {
    "pycharm": {
     "metadata": false,
     "name": "#%%\n",
     "is_executing": false
    }
   }
  },
  {
   "cell_type": "code",
   "execution_count": 9,
   "metadata": {
    "pycharm": {
     "is_executing": false
    }
   },
   "outputs": [],
   "source": "pts = ts.to_period() # 直接在Sries上进行转换"
  },
  {
   "cell_type": "code",
   "execution_count": 10,
   "metadata": {
    "pycharm": {
     "is_executing": false
    }
   },
   "outputs": [
    {
     "name": "stdout",
     "text": [
      "2000-01    0.303729\n2000-02    0.384780\n2000-03   -0.260418\nFreq: M, dtype: float64\n2000-01-01 00:00:00\n2000-01-31 23:59:59.999999999\n"
     ],
     "output_type": "stream"
    }
   ],
   "source": "print(pts)\nprint(pts.index[0].start_time)\nprint(pts.index[0].end_time)"
  },
  {
   "cell_type": "code",
   "execution_count": 11,
   "metadata": {
    "pycharm": {
     "is_executing": false
    }
   },
   "outputs": [
    {
     "data": {
      "text/plain": "2000-01-29    0.886622\n2000-01-30   -0.511147\n2000-01-31   -0.096288\n2000-02-01    1.432980\n2000-02-02   -0.553059\n2000-02-03   -0.004024\nFreq: D, dtype: float64"
     },
     "metadata": {},
     "output_type": "execute_result",
     "execution_count": 11
    }
   ],
   "source": [
    "rng = pd.date_range('1/29/2000', periods=6, freq='D')\n",
    "ts2 = pd.Series(np.random.randn(6), index=rng)\n",
    "ts2"
   ]
  },
  {
   "cell_type": "code",
   "execution_count": 12,
   "metadata": {
    "pycharm": {
     "is_executing": false
    }
   },
   "outputs": [
    {
     "name": "stdout",
     "text": [
      "2000-01    0.886622\n2000-01   -0.511147\n2000-01   -0.096288\n2000-02    1.432980\n2000-02   -0.553059\n2000-02   -0.004024\nFreq: M, dtype: float64\n\n2000-01\n2000-01-01 00:00:00\n2000-01-31 23:59:59.999999999\n\n2000-01\n2000-01-01 00:00:00\n2000-01-31 23:59:59.999999999\n\n2000-01\n2000-01-01 00:00:00\n2000-01-31 23:59:59.999999999\n\n2000-02\n2000-02-01 00:00:00\n2000-02-29 23:59:59.999999999\n"
     ],
     "output_type": "stream"
    }
   ],
   "source": "pts1 = ts2.to_period(freq='M')\nprint(pts1, end='\\n\\n')\nprint(pts1.index[0])\nprint(pts1.index[0].start_time)\nprint(pts1.index[0].end_time, end='\\n\\n')\nprint(pts1.index[1])\nprint(pts1.index[1].start_time)\nprint(pts1.index[1].end_time, end='\\n\\n')\nprint(pts1.index[2])\nprint(pts1.index[2].start_time)\nprint(pts1.index[2].end_time, end='\\n\\n')\nprint(pts1.index[3])\nprint(pts1.index[3].start_time)\nprint(pts1.index[3].end_time)"
  },
  {
   "cell_type": "code",
   "execution_count": 13,
   "metadata": {
    "pycharm": {
     "is_executing": false
    }
   },
   "outputs": [
    {
     "data": {
      "text/plain": "2000-01-31 23:59:59.999999999    0.886622\n2000-01-31 23:59:59.999999999   -0.511147\n2000-01-31 23:59:59.999999999   -0.096288\n2000-02-29 23:59:59.999999999    1.432980\n2000-02-29 23:59:59.999999999   -0.553059\n2000-02-29 23:59:59.999999999   -0.004024\ndtype: float64"
     },
     "metadata": {},
     "output_type": "execute_result",
     "execution_count": 13
    }
   ],
   "source": "# Cast to DatetimeIndex of timestamps, at beginning of period\npts1.to_timestamp(how='end') "
  },
  {
   "cell_type": "code",
   "execution_count": 14,
   "outputs": [
    {
     "data": {
      "text/plain": "2000-01-01    0.886622\n2000-01-01   -0.511147\n2000-01-01   -0.096288\n2000-02-01    1.432980\n2000-02-01   -0.553059\n2000-02-01   -0.004024\ndtype: float64"
     },
     "metadata": {},
     "output_type": "execute_result",
     "execution_count": 14
    }
   ],
   "source": "pts1.to_timestamp(how='start') ",
   "metadata": {
    "pycharm": {
     "metadata": false,
     "name": "#%%\n",
     "is_executing": false
    }
   }
  },
  {
   "cell_type": "code",
   "execution_count": 15,
   "outputs": [],
   "source": "p = pd.Period(2007, freq='A-DEC')",
   "metadata": {
    "pycharm": {
     "metadata": false,
     "name": "#%%\n",
     "is_executing": false
    }
   }
  },
  {
   "cell_type": "code",
   "execution_count": 16,
   "outputs": [
    {
     "data": {
      "text/plain": "Timestamp('2007-01-01 00:00:00')"
     },
     "metadata": {},
     "output_type": "execute_result",
     "execution_count": 16
    }
   ],
   "source": "p.to_timestamp(how='start')",
   "metadata": {
    "pycharm": {
     "metadata": false,
     "name": "#%%\n",
     "is_executing": false
    }
   }
  },
  {
   "cell_type": "code",
   "execution_count": null,
   "outputs": [],
   "source": "\n",
   "metadata": {
    "pycharm": {
     "metadata": false,
     "name": "#%%\n"
    }
   }
  }
 ],
 "metadata": {
  "kernelspec": {
   "name": "python3",
   "language": "python",
   "display_name": "Python 3"
  },
  "language_info": {
   "codemirror_mode": {
    "name": "ipython",
    "version": 2
   },
   "file_extension": ".py",
   "mimetype": "text/x-python",
   "name": "python",
   "nbconvert_exporter": "python",
   "pygments_lexer": "ipython2",
   "version": "2.7.6"
  },
  "pycharm": {
   "stem_cell": {
    "cell_type": "raw",
    "source": [],
    "metadata": {
     "collapsed": false
    }
   }
  }
 },
 "nbformat": 4,
 "nbformat_minor": 0
}