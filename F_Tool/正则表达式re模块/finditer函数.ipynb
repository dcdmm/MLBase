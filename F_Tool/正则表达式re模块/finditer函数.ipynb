{
 "cells": [
  {
   "cell_type": "code",
   "execution_count": 28,
   "metadata": {
    "collapsed": true,
    "ExecuteTime": {
     "end_time": "2023-05-29T11:35:10.405194900Z",
     "start_time": "2023-05-29T11:35:10.373934Z"
    }
   },
   "outputs": [],
   "source": [
    "import re"
   ]
  },
  {
   "cell_type": "code",
   "execution_count": 29,
   "outputs": [
    {
     "name": "stdout",
     "output_type": "stream",
     "text": [
      "<callable_iterator object at 0x0000025484F921F0>\n"
     ]
    }
   ],
   "source": [
    "pattern = re.compile(r'\\d+')\n",
    "# Return an iterator over all non-overlapping matches in the string.  For each match, the iterator returns a Match object.\n",
    "result1 = re.finditer(pattern, 'school 123 google 456')\n",
    "\n",
    "print(result1)"
   ],
   "metadata": {
    "collapsed": false,
    "ExecuteTime": {
     "end_time": "2023-05-29T11:35:10.405194900Z",
     "start_time": "2023-05-29T11:35:10.389887500Z"
    }
   }
  },
  {
   "cell_type": "code",
   "execution_count": 30,
   "outputs": [
    {
     "name": "stdout",
     "output_type": "stream",
     "text": [
      "<re.Match object; span=(7, 10), match='123'>\n",
      "123 (7, 10)\n",
      "<re.Match object; span=(18, 21), match='456'>\n",
      "456 (18, 21)\n"
     ]
    }
   ],
   "source": [
    "for i in re.finditer(pattern, 'school 123 google 456'):\n",
    "    print(i)\n",
    "    print(i.group(), i.span())\n"
   ],
   "metadata": {
    "collapsed": false,
    "ExecuteTime": {
     "end_time": "2023-05-29T11:35:10.436823Z",
     "start_time": "2023-05-29T11:35:10.405194900Z"
    }
   }
  }
 ],
 "metadata": {
  "kernelspec": {
   "display_name": "Python 3",
   "language": "python",
   "name": "python3"
  },
  "language_info": {
   "codemirror_mode": {
    "name": "ipython",
    "version": 2
   },
   "file_extension": ".py",
   "mimetype": "text/x-python",
   "name": "python",
   "nbconvert_exporter": "python",
   "pygments_lexer": "ipython2",
   "version": "2.7.6"
  }
 },
 "nbformat": 4,
 "nbformat_minor": 0
}
