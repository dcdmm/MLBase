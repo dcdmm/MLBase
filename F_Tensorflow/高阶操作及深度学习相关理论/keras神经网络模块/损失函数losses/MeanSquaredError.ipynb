{
 "cells": [
  {
   "cell_type": "code",
   "execution_count": 47,
   "metadata": {
    "collapsed": true
   },
   "outputs": [],
   "source": [
    "import tensorflow as tf"
   ]
  },
  {
   "cell_type": "markdown",
   "source": [
    "### 均方误差损失函数\n",
    "### 参考torch.nn.MSELoss"
   ],
   "metadata": {
    "collapsed": false,
    "pycharm": {
     "name": "#%% md\n"
    }
   }
  },
  {
   "cell_type": "code",
   "execution_count": 48,
   "outputs": [
    {
     "name": "stdout",
     "output_type": "stream",
     "text": [
      "mse\n",
      "[0.5 0.5 1]\r\n",
      "2\r\n",
      "0.666666687\r\n"
     ]
    }
   ],
   "source": [
    "y_true = [[0., 1.],\n",
    "          [0., 0.],\n",
    "          [1, 1.]]\n",
    "y_pred = [[1., 1.],\n",
    "          [1., 0.],\n",
    "          [0., 0.]]\n",
    "\n",
    "print(tf.keras.losses.MeanSquaredError(name='mse').name)\n",
    "tf.print(tf.keras.losses.MeanSquaredError(name='mse',\n",
    "                                          reduction=tf.keras.losses.Reduction.NONE)(y_true, y_pred))\n",
    "tf.print(tf.keras.losses.MeanSquaredError(name='mse',\n",
    "                                          reduction=tf.keras.losses.Reduction.SUM)(y_true, y_pred))\n",
    "tf.print(tf.keras.losses.MeanSquaredError(name='mse',\n",
    "                                          # 默认,参考BinaryCrossentropy\n",
    "                                          reduction=tf.keras.losses.Reduction.SUM_OVER_BATCH_SIZE)(y_true, y_pred))"
   ],
   "metadata": {
    "collapsed": false,
    "pycharm": {
     "name": "#%%\n"
    }
   }
  },
  {
   "cell_type": "code",
   "execution_count": 49,
   "outputs": [
    {
     "name": "stdout",
     "output_type": "stream",
     "text": [
      "[0.25 0.25 0.7]\r\n"
     ]
    }
   ],
   "source": [
    "mse = tf.keras.losses.MeanSquaredError(reduction=tf.keras.losses.Reduction.NONE)\n",
    "tf.print(mse(y_true, y_pred,\n",
    "             # 每个批次的样本权重(可间接实现类别权重)\n",
    "             sample_weight=[0.5, 0.5, 0.7]))  # 默认sample_weight=None"
   ],
   "metadata": {
    "collapsed": false,
    "pycharm": {
     "name": "#%%\n"
    }
   }
  }
 ],
 "metadata": {
  "kernelspec": {
   "display_name": "Python 3",
   "language": "python",
   "name": "python3"
  },
  "language_info": {
   "codemirror_mode": {
    "name": "ipython",
    "version": 2
   },
   "file_extension": ".py",
   "mimetype": "text/x-python",
   "name": "python",
   "nbconvert_exporter": "python",
   "pygments_lexer": "ipython2",
   "version": "2.7.6"
  }
 },
 "nbformat": 4,
 "nbformat_minor": 0
}