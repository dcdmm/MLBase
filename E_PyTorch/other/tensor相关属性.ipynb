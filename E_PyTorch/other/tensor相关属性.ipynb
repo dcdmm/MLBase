{
 "nbformat": 4,
 "nbformat_minor": 0,
 "metadata": {
  "kernelspec": {
   "display_name": "Python 3",
   "language": "python",
   "name": "python3"
  },
  "language_info": {
   "codemirror_mode": {
    "name": "ipython",
    "version": 2
   },
   "file_extension": ".py",
   "mimetype": "text/x-python",
   "name": "python",
   "nbconvert_exporter": "python",
   "pygments_lexer": "ipython2",
   "version": "2.7.6"
  },
  "colab": {
   "name": "tensor相关属性.ipynb",
   "provenance": [],
   "collapsed_sections": []
  },
  "accelerator": "GPU"
 },
 "cells": [
  {
   "cell_type": "code",
   "metadata": {
    "collapsed": true,
    "id": "ZgmZKnW214ip",
    "colab_type": "code",
    "colab": {
     "base_uri": "https://localhost:8080/",
     "height": 50
    },
    "executionInfo": {
     "status": "ok",
     "timestamp": 1592742464518,
     "user_tz": -480,
     "elapsed": 4258,
     "user": {
      "displayName": "chao duan",
      "photoUrl": "",
      "userId": "16986074214670067064"
     }
    },
    "outputId": "21ccee4e-9a53-4052-b3a9-81578c5f86fe"
   },
   "source": [
    "import torch\n",
    "import numpy as np"
   ],
   "execution_count": 1,
   "outputs": [
    {
     "data": {
      "text/plain": "tensor([[1.2000, 2.0000, 3.0000],\n        [2.0000, 3.0000, 4.0000]], dtype=torch.float64)"
     },
     "execution_count": 1,
     "metadata": {},
     "output_type": "execute_result"
    }
   ]
  },
  {
   "cell_type": "code",
   "execution_count": null,
   "outputs": [],
   "source": [
    "a = np.array([[1.2, 2, 3],\n",
    "              [2, 3, 4]])\n",
    "x = torch.tensor(a)\n",
    "x"
   ],
   "metadata": {
    "collapsed": false,
    "pycharm": {
     "name": "#%%\n"
    }
   }
  },
  {
   "cell_type": "markdown",
   "metadata": {
    "pycharm": {
     "name": "#%% md\n"
    },
    "id": "fQOV10np14iu",
    "colab_type": "code",
    "colab": {
     "base_uri": "https://localhost:8080/",
     "height": 33
    },
    "executionInfo": {
     "status": "ok",
     "timestamp": 1592742464519,
     "user_tz": -480,
     "elapsed": 4241,
     "user": {
      "displayName": "chao duan",
      "photoUrl": "",
      "userId": "16986074214670067064"
     }
    },
    "outputId": "b00a9aae-b24e-4910-cd01-f40b08354a8a"
   },
   "source": [
    "### 参考numpy"
   ]
  },
  {
   "cell_type": "code",
   "execution_count": 2,
   "outputs": [
    {
     "data": {
      "text/plain": "torch.float64"
     },
     "execution_count": 2,
     "metadata": {},
     "output_type": "execute_result"
    }
   ],
   "source": [
    "x.dtype"
   ],
   "metadata": {
    "collapsed": false,
    "pycharm": {
     "name": "#%%\n"
    }
   }
  },
  {
   "cell_type": "code",
   "metadata": {
    "pycharm": {
     "name": "#%%\n"
    },
    "id": "8o6hb9Qu14ix",
    "colab_type": "code",
    "colab": {
     "base_uri": "https://localhost:8080/",
     "height": 50
    },
    "executionInfo": {
     "status": "ok",
     "timestamp": 1592742464520,
     "user_tz": -480,
     "elapsed": 4228,
     "user": {
      "displayName": "chao duan",
      "photoUrl": "",
      "userId": "16986074214670067064"
     }
    },
    "outputId": "b1ca2ac7-7c70-4fe1-cd74-44d44f2fce77"
   },
   "source": [
    "print(x.ndim)\n",
    "print(x.dim())  # 与上等价"
   ],
   "execution_count": 3,
   "outputs": [
    {
     "name": "stdout",
     "output_type": "stream",
     "text": [
      "2\n",
      "2\n"
     ]
    }
   ]
  },
  {
   "cell_type": "code",
   "metadata": {
    "pycharm": {
     "name": "#%%\n"
    },
    "id": "nTO8YG-q14i0",
    "colab_type": "code",
    "colab": {
     "base_uri": "https://localhost:8080/",
     "height": 50
    },
    "executionInfo": {
     "status": "ok",
     "timestamp": 1592742464521,
     "user_tz": -480,
     "elapsed": 4217,
     "user": {
      "displayName": "chao duan",
      "photoUrl": "",
      "userId": "16986074214670067064"
     }
    },
    "outputId": "e5549d3c-8292-4b5d-f47e-eba93251fd3f"
   },
   "source": [
    "print(x.shape)\n",
    "print(x.size())  # 与上等价"
   ],
   "execution_count": 4,
   "outputs": [
    {
     "name": "stdout",
     "output_type": "stream",
     "text": [
      "torch.Size([2, 3])\n",
      "torch.Size([2, 3])\n"
     ]
    }
   ]
  },
  {
   "cell_type": "code",
   "metadata": {
    "pycharm": {
     "name": "#%%\n"
    },
    "id": "2VOZX4t114i3",
    "colab_type": "code",
    "colab": {
     "base_uri": "https://localhost:8080/",
     "height": 33
    },
    "executionInfo": {
     "status": "ok",
     "timestamp": 1592742464522,
     "user_tz": -480,
     "elapsed": 4204,
     "user": {
      "displayName": "chao duan",
      "photoUrl": "",
      "userId": "16986074214670067064"
     }
    },
    "outputId": "6fb352a1-b759-4d82-8214-ea9f0559c1f1"
   },
   "source": [
    "list(x.shape)"
   ],
   "execution_count": 5,
   "outputs": [
    {
     "data": {
      "text/plain": "[2, 3]"
     },
     "execution_count": 5,
     "metadata": {},
     "output_type": "execute_result"
    }
   ]
  },
  {
   "cell_type": "code",
   "metadata": {
    "pycharm": {
     "name": "#%%\n"
    },
    "id": "m8h7xLt214i6",
    "colab_type": "code",
    "colab": {
     "base_uri": "https://localhost:8080/",
     "height": 33
    },
    "executionInfo": {
     "status": "ok",
     "timestamp": 1592742464523,
     "user_tz": -480,
     "elapsed": 4190,
     "user": {
      "displayName": "chao duan",
      "photoUrl": "",
      "userId": "16986074214670067064"
     }
    },
    "outputId": "c7ff0338-9008-4d28-da15-b03af9f7c8fd"
   },
   "source": [
    "x.shape[0]"
   ],
   "execution_count": 6,
   "outputs": [
    {
     "data": {
      "text/plain": "2"
     },
     "execution_count": 6,
     "metadata": {},
     "output_type": "execute_result"
    }
   ]
  },
  {
   "cell_type": "code",
   "metadata": {
    "pycharm": {
     "name": "#%%\n"
    },
    "id": "4ZL7lZGz14i8",
    "colab_type": "code",
    "colab": {
     "base_uri": "https://localhost:8080/",
     "height": 33
    },
    "executionInfo": {
     "status": "ok",
     "timestamp": 1592742464523,
     "user_tz": -480,
     "elapsed": 4173,
     "user": {
      "displayName": "chao duan",
      "photoUrl": "",
      "userId": "16986074214670067064"
     }
    },
    "outputId": "9a572b62-e78d-42b2-9120-b5d0947a52ba"
   },
   "source": [
    "x.shape[1]"
   ],
   "execution_count": 7,
   "outputs": [
    {
     "data": {
      "text/plain": "3"
     },
     "execution_count": 7,
     "metadata": {},
     "output_type": "execute_result"
    }
   ]
  },
  {
   "cell_type": "code",
   "metadata": {
    "pycharm": {
     "name": "#%%\n"
    },
    "id": "_FTBMbMi14i_",
    "colab_type": "code",
    "colab": {
     "base_uri": "https://localhost:8080/",
     "height": 33
    },
    "executionInfo": {
     "status": "ok",
     "timestamp": 1592742464524,
     "user_tz": -480,
     "elapsed": 4158,
     "user": {
      "displayName": "chao duan",
      "photoUrl": "",
      "userId": "16986074214670067064"
     }
    },
    "outputId": "388cb0c1-4320-4eee-8b5b-dcbd2526dab5"
   },
   "source": [
    "y = torch.randn(3, 5, 7)\n",
    "y.shape"
   ],
   "execution_count": 8,
   "outputs": [
    {
     "data": {
      "text/plain": "torch.Size([3, 5, 7])"
     },
     "execution_count": 8,
     "metadata": {},
     "output_type": "execute_result"
    }
   ]
  },
  {
   "cell_type": "code",
   "metadata": {
    "pycharm": {
     "name": "#%%\n"
    },
    "id": "f4JTaKXJ14jD",
    "colab_type": "code",
    "colab": {
     "base_uri": "https://localhost:8080/",
     "height": 33
    },
    "executionInfo": {
     "status": "ok",
     "timestamp": 1592742464525,
     "user_tz": -480,
     "elapsed": 4144,
     "user": {
      "displayName": "chao duan",
      "photoUrl": "",
      "userId": "16986074214670067064"
     }
    },
    "outputId": "80755266-f56a-4533-f4db-5d2e28e84c58"
   },
   "source": [
    "y.T.shape  # 若self.ndim < 2则返回其本身"
   ],
   "execution_count": 9,
   "outputs": [
    {
     "data": {
      "text/plain": "torch.Size([7, 5, 3])"
     },
     "execution_count": 9,
     "metadata": {},
     "output_type": "execute_result"
    }
   ]
  },
  {
   "cell_type": "code",
   "metadata": {
    "pycharm": {
     "name": "#%%\n"
    },
    "id": "ugQvxbtC14jG",
    "colab_type": "code",
    "colab": {
     "base_uri": "https://localhost:8080/",
     "height": 33
    },
    "executionInfo": {
     "status": "ok",
     "timestamp": 1592742464525,
     "user_tz": -480,
     "elapsed": 4130,
     "user": {
      "displayName": "chao duan",
      "photoUrl": "",
      "userId": "16986074214670067064"
     }
    },
    "outputId": "134a3ca5-886a-4f6b-f1cf-448342b1073b"
   },
   "source": [
    "torch.transpose(y, 0, -1).shape  # 与上等价"
   ],
   "execution_count": 10,
   "outputs": [
    {
     "data": {
      "text/plain": "torch.Size([7, 5, 3])"
     },
     "execution_count": 10,
     "metadata": {},
     "output_type": "execute_result"
    }
   ]
  },
  {
   "cell_type": "code",
   "metadata": {
    "pycharm": {
     "name": "#%%\n"
    },
    "id": "RLRK8NUy14jI",
    "colab_type": "code",
    "colab": {
     "base_uri": "https://localhost:8080/",
     "height": 33
    },
    "executionInfo": {
     "status": "ok",
     "timestamp": 1592742464526,
     "user_tz": -480,
     "elapsed": 4118,
     "user": {
      "displayName": "chao duan",
      "photoUrl": "",
      "userId": "16986074214670067064"
     }
    },
    "outputId": "754fdd86-8cf7-4f08-b8f6-0e1cd09f2fa6"
   },
   "source": [
    "y.device"
   ],
   "execution_count": 11,
   "outputs": [
    {
     "data": {
      "text/plain": "device(type='cpu')"
     },
     "execution_count": 11,
     "metadata": {},
     "output_type": "execute_result"
    }
   ]
  },
  {
   "cell_type": "code",
   "metadata": {
    "pycharm": {
     "name": "#%%\n"
    },
    "id": "-EKMiKRw14jK",
    "colab_type": "code",
    "colab": {
     "base_uri": "https://localhost:8080/",
     "height": 133
    },
    "executionInfo": {
     "status": "ok",
     "timestamp": 1592742464526,
     "user_tz": -480,
     "elapsed": 4104,
     "user": {
      "displayName": "chao duan",
      "photoUrl": "",
      "userId": "16986074214670067064"
     }
    },
    "outputId": "566e3e31-50fd-42f6-8939-40c03850135e"
   },
   "source": [
    "# y.data与y共享数据的物理地址\n",
    "# y.data的任何改变都会致使y改变\n",
    "print(np.shares_memory(y, y.data))\n",
    "print(y)\n",
    "y.data = torch.tensor([1, 2, 3])\n",
    "print(y)\n",
    "y.data.fill_(0)\n",
    "print(y)\n",
    "\n",
    "# y1与y共享数据的物理地址\n",
    "# 只有不改变y1内存地址的操作时才会指使y改变\n",
    "y1 = y.detach()\n",
    "print(np.shares_memory(y1, y))\n",
    "y1.fill_(2)\n",
    "print(y)\n",
    "\n",
    "y1.add_(10)  # in-place操作,y1内存地址不变\n",
    "print(y)  # y发生相应改变\n",
    "\n",
    "print(id(y1))\n",
    "y1 = [-1, -2, -3]\n",
    "print(id(y1))  # 重新赋值操作,y1内存地址改变\n",
    "print(y)  # y不变"
   ],
   "execution_count": 12,
   "outputs": [
    {
     "name": "stdout",
     "output_type": "stream",
     "text": [
      "True\n",
      "tensor([[[-0.1239,  2.0319, -0.4593, -0.3831, -0.8514, -1.1898, -0.8982],\n",
      "         [-0.0981, -0.5160,  0.4089,  0.1621, -0.6950,  0.1783, -1.1064],\n",
      "         [-1.5057, -0.5905, -0.1286, -0.1469,  1.0022, -1.1172,  0.7924],\n",
      "         [-1.2794,  0.4728, -0.7023, -0.1966,  0.1293,  1.3839,  1.1003],\n",
      "         [ 0.7724, -0.4662,  2.0317,  1.0119,  0.7965,  0.3477,  1.0246]],\n",
      "\n",
      "        [[-0.3930,  0.7748,  0.1660,  1.4839, -0.5683, -0.2081,  0.2160],\n",
      "         [-0.8198,  0.3912,  0.1024,  0.6727, -0.2265,  1.1770, -0.2324],\n",
      "         [-0.0549, -0.5036,  1.7659, -1.2267, -0.4922,  1.1779, -0.2036],\n",
      "         [ 0.0678,  0.3910,  0.6417,  2.5343,  0.8048,  1.0035, -1.6852],\n",
      "         [ 0.3919,  0.0596, -0.8737,  0.1504,  2.4842,  0.6935,  0.0283]],\n",
      "\n",
      "        [[ 1.1782, -0.8274, -0.6537, -0.1745, -0.6405,  0.5154, -0.9553],\n",
      "         [-0.0153,  0.8104,  1.1911, -0.7127, -0.6051,  1.0259,  0.9137],\n",
      "         [ 2.1133,  0.4417,  0.3550,  0.7554, -1.0359, -0.1797, -0.9592],\n",
      "         [ 1.3914,  1.0757,  0.2593,  0.0065,  0.3168,  1.5343, -0.3855],\n",
      "         [-0.7266,  0.8150, -1.2633,  0.1032, -0.3453,  0.3999,  0.6043]]])\n",
      "tensor([1, 2, 3])\n",
      "tensor([0, 0, 0])\n",
      "True\n",
      "tensor([2, 2, 2])\n",
      "tensor([12, 12, 12])\n",
      "1715682720448\n",
      "1715685536000\n",
      "tensor([12, 12, 12])\n"
     ]
    }
   ]
  },
  {
   "cell_type": "code",
   "metadata": {
    "pycharm": {
     "name": "#%%\n"
    },
    "id": "obfzFPLI14jP",
    "colab_type": "code",
    "colab": {
     "base_uri": "https://localhost:8080/",
     "height": 50
    },
    "executionInfo": {
     "status": "ok",
     "timestamp": 1592742502580,
     "user_tz": -480,
     "elapsed": 1077,
     "user": {
      "displayName": "chao duan",
      "photoUrl": "",
      "userId": "16986074214670067064"
     }
    },
    "outputId": "b1e23f56-9169-47d5-c15a-9887a1cc6421"
   },
   "source": [
    "device = torch.device(\"cuda\" if torch.cuda.is_available() else \"cpu\")\n",
    "y = y.to(device)\n",
    "print(y)\n",
    "print(y.is_cuda)  # Is True if the Tensor is stored on the GPU, False otherwise."
   ],
   "execution_count": 13,
   "outputs": [
    {
     "name": "stdout",
     "output_type": "stream",
     "text": [
      "tensor([12, 12, 12], device='cuda:0')\n",
      "True\n"
     ]
    }
   ]
  }
 ]
}