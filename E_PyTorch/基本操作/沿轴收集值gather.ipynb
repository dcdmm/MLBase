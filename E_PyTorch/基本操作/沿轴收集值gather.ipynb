{
 "cells": [
  {
   "cell_type": "code",
   "execution_count": 214,
   "metadata": {
    "collapsed": true
   },
   "outputs": [
    {
     "data": {
      "text/plain": "tensor([[[ 0,  1,  2,  3],\n         [ 4,  5,  6,  7],\n         [ 8,  9, 10, 11]],\n\n        [[12, 13, 14, 15],\n         [16, 17, 18, 19],\n         [20, 21, 22, 23]]])"
     },
     "execution_count": 214,
     "metadata": {},
     "output_type": "execute_result"
    }
   ],
   "source": [
    "import torch\n",
    "\n",
    "t = torch.arange(24).reshape(2, 3, 4)\n",
    "t"
   ]
  },
  {
   "cell_type": "code",
   "execution_count": 215,
   "outputs": [
    {
     "data": {
      "text/plain": "tensor([[[ 0, 13,  2, 15],\n         [16,  5, 18,  7],\n         [20, 21, 10, 11]],\n\n        [[ 0, 13,  2, 15],\n         [16,  5, 18,  7],\n         [20, 21, 10, 11]],\n\n        [[ 0, 13,  2, 15],\n         [16,  5, 18,  7],\n         [20, 21, 10, 11]],\n\n        [[ 0, 13,  2, 15],\n         [16,  5, 18,  7],\n         [20, 21, 10, 11]]])"
     },
     "execution_count": 215,
     "metadata": {},
     "output_type": "execute_result"
    }
   ],
   "source": [
    "'''\n",
    "由t[0, :, :].shape = t[1, :, :].shape = [3, 4]\n",
    "故index_0.shape必须为[1, 3, 4]或[2, 3, 4]或[3, 3, 4]或[4, 3, 4].....\n",
    "\n",
    "过程:\n",
    "t[0,     0,0], t[1,     0,1], t[0,      0,2], t[1,      0,3]\n",
    "t[1,     1,0], t[0,     1,1], t[1,      1,2], t[0,      1,3]\n",
    "t[1,     2,0], t[1,     2,1], t[0,      2,2], t[0,      2,3]\n",
    "\n",
    "t[0,     0,0], t[1,     0,1], t[0,      0,2], t[1,      0,3]\n",
    "t[1,     1,0], t[0,     1,1], t[1,      1,2], t[0,      1,3]\n",
    "t[1,     2,0], t[1,     2,1], t[0,      2,2], t[0,      2,3]\n",
    "\n",
    "t[0,     0,0], t[1,     0,1], t[0,      0,2], t[1,      0,3]\n",
    "t[1,     1,0], t[0,     1,1], t[1,      1,2], t[0,      1,3]\n",
    "t[1,     2,0], t[1,     2,1], t[0,      2,2], t[0,      2,3]\n",
    "\n",
    "t[0,     0,0], t[1,     0,1], t[0,      0,2], t[1,      0,3]\n",
    "t[1,     1,0], t[0,     1,1], t[1,      1,2], t[0,      1,3]\n",
    "t[1,     2,0], t[1,     2,1], t[0,      2,2], t[0,      2,3]\n",
    "\n",
    "'''\n",
    "index_0 = torch.tensor([[[0, 1, 0, 1],\n",
    "                         [1, 0, 1, 0],\n",
    "                         [1, 1, 0, 0]],\n",
    "\n",
    "                        [[0, 1, 0, 1],\n",
    "                         [1, 0, 1, 0],\n",
    "                         [1, 1, 0, 0]],\n",
    "\n",
    "                        [[0, 1, 0, 1],\n",
    "                         [1, 0, 1, 0],\n",
    "                         [1, 1, 0, 0]],\n",
    "\n",
    "                        [[0, 1, 0, 1],\n",
    "                         [1, 0, 1, 0],\n",
    "                         [1, 1, 0, 0]]])\n",
    "resutl = torch.gather(t, dim=0, index=index_0)\n",
    "resutl # shape等于index.shape"
   ],
   "metadata": {
    "collapsed": false,
    "pycharm": {
     "name": "#%%\n"
    }
   }
  },
  {
   "cell_type": "code",
   "execution_count": 216,
   "outputs": [
    {
     "data": {
      "text/plain": "tensor([[[ 0,  5, 10,  7]],\n\n        [[20, 17, 22, 19]]])"
     },
     "execution_count": 216,
     "metadata": {},
     "output_type": "execute_result"
    }
   ],
   "source": [
    "'''\n",
    "由t[:, 0, :].shape = t[:, 1, :].shape = t[:, 2, :].shape = [2, 4]\n",
    "故index_0.shape必须为[2, 1, 4]或[2, 2, 4]或[2, 3, 4]或[2, 4, 4].....\n",
    "\n",
    "过程:\n",
    "t[0,    0,   0], t[0,    1,    1], t[0,    2,    2], t[0,    1,    3]\n",
    "\n",
    "t[1,    2,   0], t[1,    1,    1], t[1,    2,    2], t[1,    1,    3]\n",
    "\n",
    "'''\n",
    "\n",
    "index_11 = torch.tensor([[[0, 1, 2, 1]],\n",
    "\n",
    "                         [[2, 1, 2, 1]]])\n",
    "torch.gather(t, dim=1, index=index_11)\n"
   ],
   "metadata": {
    "collapsed": false,
    "pycharm": {
     "name": "#%%\n"
    }
   }
  },
  {
   "cell_type": "code",
   "execution_count": 217,
   "outputs": [
    {
     "data": {
      "text/plain": "tensor([[[ 0,  5, 10,  7],\n         [ 4,  9, 10,  3],\n         [ 8,  9,  6,  7],\n         [ 0,  1,  6,  7],\n         [ 4,  5,  6,  7]],\n\n        [[20, 17, 22, 19],\n         [12, 21, 18, 23],\n         [12, 13, 14, 15],\n         [16, 17, 18, 19],\n         [20, 21, 22, 23]]])"
     },
     "execution_count": 217,
     "metadata": {},
     "output_type": "execute_result"
    }
   ],
   "source": [
    "'''\n",
    "过程:\n",
    "t[0,    0,   0], t[0,    1,    1], t[0,    2,    2], t[0,    1,    3]\n",
    "t[0,    1,   0], t[0,    2,    1], t[0,    2,    2], t[0,    0,    3]\n",
    "t[0,    2,   0], t[0,    2,    1], t[0,    1,    2], t[0,    1,    3]\n",
    "t[0,    0,   0], t[0,    0,    1], t[0,    1,    2], t[0,    1,    3]\n",
    "t[0,    1,   0], t[0,    1,    1], t[0,    1,    2], t[0,    1,    3]\n",
    "\n",
    "\n",
    "t[1,    2,   0], t[1,    1,    1], t[1,    2,    2], t[1,    1,    3]\n",
    "t[1,    0,   0], t[1,    2,    1], t[1,    1,    2], t[1,    2,    3]\n",
    "t[1,    0,   0], t[1,    0,    1], t[1,    0,    2], t[1,    0,    3]\n",
    "t[1,    1,   0], t[1,    1,    1], t[1,    1,    2], t[1,    1,    3]\n",
    "t[1,    2,   0], t[1,    2,    1], t[1,    2,    2], t[1,    2,    3]\n",
    "'''\n",
    "\n",
    "index_15 = torch.tensor([[[0, 1, 2, 1],\n",
    "                          [1, 2, 2, 0],\n",
    "                          [2, 2, 1, 1],\n",
    "                          [0, 0, 1, 1],\n",
    "                          [1, 1, 1, 1]],\n",
    "\n",
    "                         [[2, 1, 2, 1],\n",
    "                          [0, 2, 1, 2],\n",
    "                          [0, 0, 0, 0],\n",
    "                          [1, 1, 1, 1],\n",
    "                          [2, 2, 2, 2]]])\n",
    "\n",
    "torch.gather(t, dim=1, index=index_15)"
   ],
   "metadata": {
    "collapsed": false,
    "pycharm": {
     "name": "#%%\n"
    }
   }
  },
  {
   "cell_type": "code",
   "execution_count": 227,
   "outputs": [
    {
     "data": {
      "text/plain": "tensor([[[ 1],\n         [ 6],\n         [ 8]],\n\n        [[14],\n         [19],\n         [20]]])"
     },
     "execution_count": 227,
     "metadata": {},
     "output_type": "execute_result"
    }
   ],
   "source": [
    "'''\n",
    "由t[:, :, 0].shape = t[:, :, 1].shape = t[:, :, 2].shape = t[:, :, 3].shape = [2, 3]\n",
    "故index_2.shape必须为[2, 3, 1]或[2, 3, 2]或[2, 3, 3]或[2, 3, 4].....\n",
    "'''\n",
    "\n",
    "index_2 = torch.tensor([[[1],\n",
    "                        [2],\n",
    "                        [0]],\n",
    "\n",
    "                       [[2],\n",
    "                        [3],\n",
    "                        [0]]])\n",
    "\n",
    "torch.gather(t, dim=2, index=index_2)\n"
   ],
   "metadata": {
    "collapsed": false,
    "pycharm": {
     "name": "#%%\n"
    }
   }
  }
 ],
 "metadata": {
  "kernelspec": {
   "display_name": "Python 3",
   "language": "python",
   "name": "python3"
  },
  "language_info": {
   "codemirror_mode": {
    "name": "ipython",
    "version": 2
   },
   "file_extension": ".py",
   "mimetype": "text/x-python",
   "name": "python",
   "nbconvert_exporter": "python",
   "pygments_lexer": "ipython2",
   "version": "2.7.6"
  }
 },
 "nbformat": 4,
 "nbformat_minor": 0
}