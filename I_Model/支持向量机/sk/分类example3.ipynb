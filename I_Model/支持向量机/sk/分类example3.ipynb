{
 "cells": [
  {
   "cell_type": "code",
   "execution_count": 16,
   "metadata": {
    "collapsed": true,
    "pycharm": {
     "is_executing": false,
     "name": "#%%\n"
    }
   },
   "outputs": [],
   "source": [
    "from sklearn.svm import SVC\n",
    "from sklearn.datasets import load_iris\n",
    "from sklearn.model_selection import train_test_split\n",
    "from sklearn.pipeline import Pipeline\n",
    "from sklearn.preprocessing import StandardScaler\n",
    "\n",
    "dataset = load_iris()\n",
    "X = dataset.data\n",
    "y = dataset.target"
   ]
  },
  {
   "cell_type": "code",
   "execution_count": 17,
   "outputs": [],
   "source": [
    "X_train, X_test, y_train, y_test = train_test_split(X, y, test_size=0.3333)"
   ],
   "metadata": {
    "collapsed": false,
    "pycharm": {
     "name": "#%%\n",
     "is_executing": false
    }
   }
  },
  {
   "cell_type": "code",
   "execution_count": 18,
   "outputs": [],
   "source": [
    "def PolynomialKernelSVC(probability=False, degree=2, C=1.0, coef0=0, gamma='scale'):\n",
    "    return Pipeline([\n",
    "        (\"std_scaler\", StandardScaler()),\n",
    "        (\"kernelSVC\", SVC(probability=probability, kernel=\"poly\", degree=degree, gamma=gamma, C=C, coef0=coef0)) # 核函数为多项式核(非线性模型时,核函数不要设置为'linear')\n",
    "    ])"
   ],
   "metadata": {
    "collapsed": false,
    "pycharm": {
     "name": "#%%\n",
     "is_executing": false
    }
   }
  },
  {
   "cell_type": "code",
   "execution_count": 19,
   "outputs": [
    {
     "data": {
      "text/plain": "Pipeline(memory=None,\n         steps=[('std_scaler',\n                 StandardScaler(copy=True, with_mean=True, with_std=True)),\n                ('kernelSVC',\n                 SVC(C=1.0, cache_size=200, class_weight=None, coef0=0,\n                     decision_function_shape='ovr', degree=2, gamma='scale',\n                     kernel='poly', max_iter=-1, probability=True,\n                     random_state=None, shrinking=True, tol=0.001,\n                     verbose=False))],\n         verbose=False)"
     },
     "metadata": {},
     "output_type": "execute_result",
     "execution_count": 19
    }
   ],
   "source": [
    "poly_svc = PolynomialKernelSVC(probability=True)\n",
    "poly_svc.fit(X_train, y_train)"
   ],
   "metadata": {
    "collapsed": false,
    "pycharm": {
     "name": "#%%\n",
     "is_executing": false
    }
   }
  },
  {
   "cell_type": "code",
   "execution_count": 20,
   "outputs": [
    {
     "data": {
      "text/plain": "array([0, 0, 2, 1, 0, 1, 2, 2, 1, 1, 2, 0, 2, 1, 2, 1, 0, 2, 1, 1, 0, 0,\n       1, 2, 1, 2, 0, 2, 0, 2, 1, 1, 0, 2, 1, 1, 1, 0, 1, 2, 0, 0, 2, 1,\n       1, 1, 0, 1, 1, 0])"
     },
     "metadata": {},
     "output_type": "execute_result",
     "execution_count": 20
    }
   ],
   "source": [
    "poly_svc.predict(X_test)"
   ],
   "metadata": {
    "collapsed": false,
    "pycharm": {
     "name": "#%%\n",
     "is_executing": false
    }
   }
  },
  {
   "cell_type": "code",
   "execution_count": 21,
   "outputs": [
    {
     "data": {
      "text/plain": "array([[8.21636208e-01, 1.66470515e-03, 1.76699087e-01],\n       [5.04661480e-01, 2.11567752e-02, 4.74181745e-01],\n       [3.88992419e-01, 7.15529070e-02, 5.39454674e-01],\n       [2.16881884e-02, 9.09792322e-01, 6.85194895e-02],\n       [6.43422347e-01, 1.36971426e-03, 3.55207939e-01],\n       [2.98882205e-02, 8.75301877e-01, 9.48099029e-02],\n       [3.64437963e-01, 3.08122453e-02, 6.04749792e-01],\n       [4.90129281e-01, 5.14219256e-03, 5.04728526e-01],\n       [1.74100097e-01, 3.41288506e-01, 4.84611397e-01],\n       [1.55822946e-02, 9.48327493e-01, 3.60902129e-02],\n       [4.75167019e-01, 5.39931651e-03, 5.19433664e-01],\n       [8.25964729e-01, 3.69703005e-03, 1.70338241e-01],\n       [4.12732383e-01, 3.64848177e-03, 5.83619135e-01],\n       [1.24280448e-02, 9.48811448e-01, 3.87605074e-02],\n       [2.24915398e-01, 9.98146009e-02, 6.75270001e-01],\n       [2.21644149e-01, 2.87146536e-01, 4.91209315e-01],\n       [7.85044709e-01, 1.54440434e-03, 2.13410886e-01],\n       [4.53908568e-01, 4.67409246e-03, 5.41417339e-01],\n       [1.29012867e-01, 5.86967150e-01, 2.84019982e-01],\n       [2.65191977e-02, 8.97936774e-01, 7.55440284e-02],\n       [7.25526075e-01, 2.60691599e-03, 2.71867009e-01],\n       [5.78621019e-01, 7.27738712e-03, 4.14101594e-01],\n       [4.03931984e-02, 8.09270965e-01, 1.50335836e-01],\n       [3.89424027e-01, 8.59963173e-02, 5.24579656e-01],\n       [1.51162849e-02, 9.14301428e-01, 7.05822870e-02],\n       [3.38711248e-01, 1.33261446e-02, 6.47962608e-01],\n       [5.22795999e-01, 4.34233484e-02, 4.33780652e-01],\n       [4.83955842e-01, 9.88929017e-03, 5.06154868e-01],\n       [6.54674502e-01, 5.08695569e-03, 3.40238542e-01],\n       [4.24338964e-01, 4.58930735e-02, 5.29767962e-01],\n       [5.68530509e-02, 7.67071803e-01, 1.76075146e-01],\n       [5.84243980e-02, 6.24305216e-01, 3.17270386e-01],\n       [8.37076727e-01, 2.31380505e-04, 1.62691892e-01],\n       [2.43741683e-01, 1.19447569e-02, 7.44313560e-01],\n       [1.29593785e-01, 5.11666067e-01, 3.58740148e-01],\n       [1.83993999e-02, 9.18271025e-01, 6.33295752e-02],\n       [2.11954799e-02, 9.11011121e-01, 6.77933987e-02],\n       [6.34802027e-01, 2.69828026e-02, 3.38215171e-01],\n       [1.58718195e-02, 9.52603045e-01, 3.15251358e-02],\n       [3.52132730e-01, 2.22242166e-02, 6.25643054e-01],\n       [6.03570782e-01, 2.39358652e-03, 3.94035631e-01],\n       [6.46562932e-01, 4.53978242e-03, 3.48897286e-01],\n       [3.01803517e-01, 9.02503545e-02, 6.07946129e-01],\n       [2.25190455e-02, 9.15338927e-01, 6.21420273e-02],\n       [2.13081272e-02, 9.05576642e-01, 7.31152308e-02],\n       [4.83551890e-02, 7.86411012e-01, 1.65233799e-01],\n       [8.82182419e-01, 1.87741370e-04, 1.17629839e-01],\n       [1.36574790e-01, 3.44134929e-01, 5.19290281e-01],\n       [2.27228531e-02, 9.16640545e-01, 6.06366019e-02],\n       [9.11905836e-01, 1.26603751e-03, 8.68281265e-02]])"
     },
     "metadata": {},
     "output_type": "execute_result",
     "execution_count": 21
    }
   ],
   "source": [
    "# 预测结果可以输出为概率向量\n",
    "poly_svc.predict_proba(X_test) # 必须设定参数probability=True"
   ],
   "metadata": {
    "collapsed": false,
    "pycharm": {
     "name": "#%%\n",
     "is_executing": false
    }
   }
  },
  {
   "cell_type": "code",
   "execution_count": 22,
   "outputs": [
    {
     "data": {
      "text/plain": "0.8"
     },
     "metadata": {},
     "output_type": "execute_result",
     "execution_count": 22
    }
   ],
   "source": [
    "poly_svc.score(X_test, y_test)"
   ],
   "metadata": {
    "collapsed": false,
    "pycharm": {
     "name": "#%%\n",
     "is_executing": false
    }
   }
  },
  {
   "cell_type": "code",
   "execution_count": 22,
   "outputs": [],
   "source": [
    "\n"
   ],
   "metadata": {
    "collapsed": false,
    "pycharm": {
     "name": "#%%\n",
     "is_executing": false
    }
   }
  }
 ],
 "metadata": {
  "kernelspec": {
   "display_name": "Python 3",
   "language": "python",
   "name": "python3"
  },
  "language_info": {
   "codemirror_mode": {
    "name": "ipython",
    "version": 2
   },
   "file_extension": ".py",
   "mimetype": "text/x-python",
   "name": "python",
   "nbconvert_exporter": "python",
   "pygments_lexer": "ipython2",
   "version": "2.7.6"
  },
  "pycharm": {
   "stem_cell": {
    "cell_type": "raw",
    "source": [],
    "metadata": {
     "collapsed": false
    }
   }
  }
 },
 "nbformat": 4,
 "nbformat_minor": 0
}