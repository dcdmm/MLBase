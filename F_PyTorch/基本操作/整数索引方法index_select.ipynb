{
 "cells": [
  {
   "cell_type": "code",
   "execution_count": 1,
   "metadata": {
    "collapsed": true
   },
   "outputs": [],
   "source": [
    "import torch "
   ]
  },
  {
   "cell_type": "code",
   "execution_count": 2,
   "outputs": [
    {
     "data": {
      "text/plain": "tensor([[[-1.0052,  0.0584,  1.0592],\n         [-0.4666, -1.0112, -1.5281],\n         [-1.0136, -0.8335,  0.0250],\n         [ 0.9158,  0.8768, -0.1191]],\n\n        [[-0.1837, -1.2411, -1.1486],\n         [-0.3158, -1.0028, -1.6560],\n         [ 1.3463, -1.3031, -0.2017],\n         [-0.7626,  1.0427, -0.4812]],\n\n        [[ 1.0247,  0.8354,  1.2360],\n         [-2.0664, -0.3152,  0.2308],\n         [-0.6549,  1.2167,  0.6509],\n         [-0.4887, -0.8509, -0.6194]]])"
     },
     "execution_count": 2,
     "metadata": {},
     "output_type": "execute_result"
    }
   ],
   "source": [
    "x = torch.randn(3, 4, 3)\n",
    "x"
   ],
   "metadata": {
    "collapsed": false,
    "pycharm": {
     "name": "#%%\n"
    }
   }
  },
  {
   "cell_type": "code",
   "execution_count": 3,
   "outputs": [],
   "source": [
    "indices = torch.tensor([0, 2])"
   ],
   "metadata": {
    "collapsed": false,
    "pycharm": {
     "name": "#%%\n"
    }
   }
  },
  {
   "cell_type": "code",
   "execution_count": 4,
   "outputs": [
    {
     "data": {
      "text/plain": "tensor([[[-1.0052,  0.0584,  1.0592],\n         [-0.4666, -1.0112, -1.5281],\n         [-1.0136, -0.8335,  0.0250],\n         [ 0.9158,  0.8768, -0.1191]],\n\n        [[ 1.0247,  0.8354,  1.2360],\n         [-2.0664, -0.3152,  0.2308],\n         [-0.6549,  1.2167,  0.6509],\n         [-0.4887, -0.8509, -0.6194]]])"
     },
     "execution_count": 4,
     "metadata": {},
     "output_type": "execute_result"
    }
   ],
   "source": [
    "'''\n",
    "input (Tensor) – the input tensor.\n",
    "dim (python:int) – the dimension in which we index\n",
    "index (LongTensor) – the 1-D tensor containing the indices to index\n",
    "'''\n",
    "torch.index_select(x, dim=0, index=indices) # 维度dim上按index索引切片x"
   ],
   "metadata": {
    "collapsed": false,
    "pycharm": {
     "name": "#%%\n"
    }
   }
  },
  {
   "cell_type": "code",
   "execution_count": 5,
   "outputs": [
    {
     "data": {
      "text/plain": "tensor([[[-1.0052,  0.0584,  1.0592],\n         [-1.0136, -0.8335,  0.0250]],\n\n        [[-0.1837, -1.2411, -1.1486],\n         [ 1.3463, -1.3031, -0.2017]],\n\n        [[ 1.0247,  0.8354,  1.2360],\n         [-0.6549,  1.2167,  0.6509]]])"
     },
     "execution_count": 5,
     "metadata": {},
     "output_type": "execute_result"
    }
   ],
   "source": [
    "select = torch.index_select(x, 1, index=indices) # ★★★★返回一个新的tensor\n",
    "select"
   ],
   "metadata": {
    "collapsed": false,
    "pycharm": {
     "name": "#%%\n"
    }
   }
  },
  {
   "cell_type": "code",
   "execution_count": 6,
   "outputs": [
    {
     "data": {
      "text/plain": "tensor([[[0., 0., 0.],\n         [0., 0., 0.]],\n\n        [[0., 0., 0.],\n         [0., 0., 0.]],\n\n        [[0., 0., 0.],\n         [0., 0., 0.]]])"
     },
     "execution_count": 6,
     "metadata": {},
     "output_type": "execute_result"
    }
   ],
   "source": [
    "select[:] = 0\n",
    "select"
   ],
   "metadata": {
    "collapsed": false,
    "pycharm": {
     "name": "#%%\n"
    }
   }
  },
  {
   "cell_type": "code",
   "execution_count": 7,
   "outputs": [
    {
     "data": {
      "text/plain": "tensor([[[-1.0052,  0.0584,  1.0592],\n         [-0.4666, -1.0112, -1.5281],\n         [-1.0136, -0.8335,  0.0250],\n         [ 0.9158,  0.8768, -0.1191]],\n\n        [[-0.1837, -1.2411, -1.1486],\n         [-0.3158, -1.0028, -1.6560],\n         [ 1.3463, -1.3031, -0.2017],\n         [-0.7626,  1.0427, -0.4812]],\n\n        [[ 1.0247,  0.8354,  1.2360],\n         [-2.0664, -0.3152,  0.2308],\n         [-0.6549,  1.2167,  0.6509],\n         [-0.4887, -0.8509, -0.6194]]])"
     },
     "execution_count": 7,
     "metadata": {},
     "output_type": "execute_result"
    }
   ],
   "source": [
    "x # x不变"
   ],
   "metadata": {
    "collapsed": false,
    "pycharm": {
     "name": "#%%\n"
    }
   }
  }
 ],
 "metadata": {
  "kernelspec": {
   "display_name": "Python 3",
   "language": "python",
   "name": "python3"
  },
  "language_info": {
   "codemirror_mode": {
    "name": "ipython",
    "version": 2
   },
   "file_extension": ".py",
   "mimetype": "text/x-python",
   "name": "python",
   "nbconvert_exporter": "python",
   "pygments_lexer": "ipython2",
   "version": "2.7.6"
  }
 },
 "nbformat": 4,
 "nbformat_minor": 0
}