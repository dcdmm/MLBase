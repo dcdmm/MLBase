{
 "cells": [
  {
   "cell_type": "code",
   "execution_count": 8,
   "metadata": {
    "collapsed": true,
    "pycharm": {
     "name": "#%%\n"
    }
   },
   "outputs": [],
   "source": [
    "import torch\n",
    "import torch.nn as nn"
   ]
  },
  {
   "cell_type": "code",
   "execution_count": 9,
   "metadata": {
    "pycharm": {
     "name": "#%%\n"
    }
   },
   "outputs": [],
   "source": [
    "embedding = nn.Embedding(num_embeddings=10,  # 单词表的单词数目\n",
    "                         embedding_dim=4,  # 输出词向量的维度大小\n",
    "                         # 默认为False;这个参数的作用是为了加快非常用单词的优化,\n",
    "                         # 在深度学习模型中,当反向传播获取词向量的梯度以后,如果设置这个参数为True,\n",
    "                         # 则词向量的梯度会除以这个单词在mini-batch中出现的频率,通过这个缩放操作,\n",
    "                         # 可以让出现频率较少的单词的梯度比较大,这样可以加快低频词的词向量参数的收敛速度\n",
    "                         scale_grad_by_freq=True,\n",
    "                         # 如果这个参数设置为True,则词嵌入矩阵在反向传播中计算得到的矩阵为稀疏矩阵\n",
    "                         # 这个参数在单词表中单词数目巨大的时候非常有用.\n",
    "                         # 如果使用稀疏的梯度矩阵,则必须使用稀疏的优化器,如optim.SGD,optim.SparseAdam,optim.AdaGrad\n",
    "                         sparse=True)  # 默认为False"
   ]
  },
  {
   "cell_type": "code",
   "execution_count": 10,
   "metadata": {
    "pycharm": {
     "name": "#%%\n"
    }
   },
   "outputs": [
    {
     "data": {
      "text/plain": "Parameter containing:\ntensor([[-0.7507, -1.2996,  0.0727, -0.8509],\n        [ 1.3612,  0.0336, -0.4337, -2.2011],\n        [ 0.3720,  0.0972,  0.7673, -0.6834],\n        [ 1.1067, -0.8155, -0.1443,  0.1406],\n        [-2.8583, -2.3611, -0.3777,  0.6712],\n        [ 0.7871, -0.2065,  1.0416, -1.0439],\n        [ 0.2762,  0.8055, -0.5563,  0.7541],\n        [ 0.0955, -0.5150,  0.1556,  1.7652],\n        [-0.9722,  0.7946,  0.9326,  0.7953],\n        [ 1.7072, -1.1975,  0.7121, -0.2391]], requires_grad=True)"
     },
     "execution_count": 10,
     "metadata": {},
     "output_type": "execute_result"
    }
   ],
   "source": [
    "embedding.weight  # 内部实现了随机初始化"
   ]
  },
  {
   "cell_type": "code",
   "execution_count": 11,
   "metadata": {
    "pycharm": {
     "name": "#%%\n"
    }
   },
   "outputs": [
    {
     "data": {
      "text/plain": "Parameter containing:\ntensor([[ 0.,  1.,  2.,  3.],\n        [ 4.,  5.,  6.,  7.],\n        [ 8.,  9., 10., 11.],\n        [12., 13., 14., 15.],\n        [16., 17., 18., 19.],\n        [20., 21., 22., 23.],\n        [24., 25., 26., 27.],\n        [28., 29., 30., 31.],\n        [32., 33., 34., 35.],\n        [36., 37., 38., 39.]])"
     },
     "execution_count": 11,
     "metadata": {},
     "output_type": "execute_result"
    }
   ],
   "source": [
    "pre_em = torch.arange(40, dtype=torch.float32).reshape(10, 4)\n",
    "embedding_pre = nn.Embedding.from_pretrained(pre_em, sparse=True,\n",
    "                                             scale_grad_by_freq=True)  # 从预训练的词嵌入矩阵得到词嵌入模块(类方法,参数含义与上相同)\n",
    "embedding_pre.weight"
   ]
  },
  {
   "cell_type": "code",
   "execution_count": 12,
   "metadata": {
    "pycharm": {
     "name": "#%%\n"
    }
   },
   "outputs": [],
   "source": [
    "entry = torch.tensor([[0, 1, 2],\n",
    "                      [5, 6, 7]], dtype=torch.long)"
   ]
  },
  {
   "cell_type": "code",
   "execution_count": 13,
   "metadata": {
    "pycharm": {
     "name": "#%%\n"
    }
   },
   "outputs": [
    {
     "name": "stdout",
     "output_type": "stream",
     "text": [
      "tensor([[[ 0.,  1.,  2.,  3.],\n",
      "         [ 4.,  5.,  6.,  7.],\n",
      "         [ 8.,  9., 10., 11.]],\n",
      "\n",
      "        [[20., 21., 22., 23.],\n",
      "         [24., 25., 26., 27.],\n",
      "         [28., 29., 30., 31.]]])\n",
      "torch.Size([2, 3, 4])\n"
     ]
    }
   ],
   "source": [
    "print(embedding_pre(entry))  # 通过取出对应元素索引序号的行,来获取某个元素对应的词向量\n",
    "print(embedding_pre(entry).shape)  # (2, 3) <--> (10, 4) --> (2, 3, 4)"
   ]
  },
  {
   "cell_type": "code",
   "execution_count": 14,
   "metadata": {
    "pycharm": {
     "name": "#%%\n"
    }
   },
   "outputs": [
    {
     "name": "stdout",
     "output_type": "stream",
     "text": [
      "tensor([[ 4.,  5.,  6.,  7.],\n",
      "        [ 8.,  9., 10., 11.]])\n",
      "torch.Size([2, 4])\n"
     ]
    }
   ],
   "source": [
    "entry1 = torch.tensor([1, 2])\n",
    "print(embedding_pre(entry1))\n",
    "print(embedding_pre(entry1).shape)  # (2) <-->(10, 4) --> (2, 4)"
   ]
  },
  {
   "cell_type": "code",
   "execution_count": 14,
   "metadata": {
    "pycharm": {
     "name": "#%%\n"
    }
   },
   "outputs": [],
   "source": []
  }
 ],
 "metadata": {
  "kernelspec": {
   "display_name": "Python 3",
   "language": "python",
   "name": "python3"
  },
  "language_info": {
   "codemirror_mode": {
    "name": "ipython",
    "version": 3
   },
   "file_extension": ".py",
   "mimetype": "text/x-python",
   "name": "python",
   "nbconvert_exporter": "python",
   "pygments_lexer": "ipython3",
   "version": "3.7.7"
  },
  "toc": {
   "base_numbering": 1,
   "nav_menu": {},
   "number_sections": true,
   "sideBar": true,
   "skip_h1_title": false,
   "title_cell": "Table of Contents",
   "title_sidebar": "Contents",
   "toc_cell": false,
   "toc_position": {},
   "toc_section_display": true,
   "toc_window_display": false
  }
 },
 "nbformat": 4,
 "nbformat_minor": 1
}