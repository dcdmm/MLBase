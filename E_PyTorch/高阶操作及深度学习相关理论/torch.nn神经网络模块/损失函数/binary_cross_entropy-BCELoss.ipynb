{
 "cells": [
  {
   "cell_type": "markdown",
   "source": [
    "$$ l(\\mathbf{x}, \\mathbf{y}) = L = (l_1, l_2, \\cdots, l_N)^T \\qquad \\text{if  reduction='none'}$$\n",
    "\n",
    "* $$ l_n = - \\mathbf{w}_n [ \\mathbf{y}_n \\cdot \\log \\mathbf{x}_n + (1 - \\mathbf{y}_n) \\cdot ( 1 - \\log \\mathbf{x}_n )] $$\n",
    "\n",
    "where N is the batch size. If reduction is not 'none' (default 'mean'), then\n",
    "\n",
    "\\begin{equation}\n",
    "l(X, \\mathbf{y}) =\\begin{cases}\n",
    "\t\t\\mathrm{mean}(L), & \\text{if  reduction='mean'} \\\\\n",
    "        \\mathrm{sum}(L), & \\text{if  reduction='sum'}\n",
    "     \\end{cases}\n",
    "\\end{equation}\n",
    "\n",
    "Note that the targets $ \\mathbf{y}$ should be numbers between 0 and 1"
   ],
   "metadata": {
    "collapsed": false,
    "pycharm": {
     "name": "#%% md\n"
    }
   }
  },
  {
   "cell_type": "markdown",
   "source": [
    "* Input: $(*)$where * means, any number of additional dimensions\n",
    "\n",
    "* Target: $(*)$, same shape as the input\n",
    "\n",
    "* Output: scalar. If reduction is 'none', then (*), same shape as input."
   ],
   "metadata": {
    "collapsed": false,
    "pycharm": {
     "name": "#%% md\n"
    }
   }
  },
  {
   "cell_type": "code",
   "execution_count": 22,
   "outputs": [],
   "source": [
    "import torch\n",
    "import torch.nn.functional as F\n",
    "import torch.nn as nn"
   ],
   "metadata": {
    "collapsed": false,
    "pycharm": {
     "name": "#%%\n"
    }
   }
  },
  {
   "cell_type": "code",
   "execution_count": 23,
   "outputs": [
    {
     "name": "stdout",
     "output_type": "stream",
     "text": [
      "tensor(4.0864)\n",
      "tensor(0.6811)\n",
      "tensor([[0.6931, 0.9163, 0.3567],\n",
      "        [1.2040, 0.2231, 0.6931]])\n"
     ]
    }
   ],
   "source": [
    "# enter.shape=(2, 3)\n",
    "enter = torch.tensor([[0.5, 0.4, 0.3],\n",
    "                      [0.3, 0.2, 0.5]])\n",
    "# target.shape=(2, 3)\n",
    "target = torch.tensor([[0., 1., 0.],\n",
    "                       [1., 0., 0.]])\n",
    "\n",
    "# 二分类交叉熵\n",
    "print(F.binary_cross_entropy(enter, target, reduction='sum'))\n",
    "print(F.binary_cross_entropy(enter, target, reduction='mean'))  # 默认reduction='mean'\n",
    "print(F.binary_cross_entropy(enter, target, reduction='none'))  # shape=(2, )"
   ],
   "metadata": {
    "collapsed": false,
    "pycharm": {
     "name": "#%%\n"
    }
   }
  },
  {
   "cell_type": "code",
   "execution_count": 24,
   "outputs": [
    {
     "name": "stdout",
     "output_type": "stream",
     "text": [
      "tensor([[0.6931, 0.9163, 0.3567],\n",
      "        [1.2040, 0.2231, 0.6931]])\n"
     ]
    }
   ],
   "source": [
    "# 'none': no reduction will be applied\n",
    "# 'mean': the sum of the output will be divided by the number of elements in the output,\n",
    "# 'sum': the output will be summed\n",
    "#  Default: 'mean'\n",
    "print(nn.BCELoss(reduction='none',\n",
    "                 # weight(样本权重,可间接实现类别权重)形状与enter形状相等;默认weight=None,此时weight为全为1的张量\n",
    "                 weight=torch.ones_like(enter))(enter, target))"
   ],
   "metadata": {
    "collapsed": false,
    "pycharm": {
     "name": "#%%\n"
    }
   }
  },
  {
   "cell_type": "markdown",
   "source": [
    "### 上式计算步骤如下"
   ],
   "metadata": {
    "collapsed": false,
    "pycharm": {
     "name": "#%% md\n"
    }
   }
  },
  {
   "cell_type": "code",
   "execution_count": 25,
   "outputs": [
    {
     "data": {
      "text/plain": "tensor([[1., 1., 1.],\n        [1., 1., 1.]])"
     },
     "execution_count": 25,
     "metadata": {},
     "output_type": "execute_result"
    }
   ],
   "source": [
    "weight = torch.ones_like(enter)  # 默认权重\n",
    "weight"
   ],
   "metadata": {
    "collapsed": false,
    "pycharm": {
     "name": "#%%\n"
    }
   }
  },
  {
   "cell_type": "code",
   "execution_count": 26,
   "outputs": [
    {
     "data": {
      "text/plain": "tensor([[0.6931, 0.9163, 0.3567],\n        [1.2040, 0.2231, 0.6931]])"
     },
     "execution_count": 26,
     "metadata": {},
     "output_type": "execute_result"
    }
   ],
   "source": [
    "step1 = -(target * torch.log(enter) + (1 - target) * torch.log(1 - enter))  # 样本交叉熵\n",
    "step1  # 对应reduction='none'"
   ],
   "metadata": {
    "collapsed": false,
    "pycharm": {
     "name": "#%%\n"
    }
   }
  },
  {
   "cell_type": "code",
   "execution_count": 27,
   "outputs": [
    {
     "data": {
      "text/plain": "tensor(4.0864)"
     },
     "execution_count": 27,
     "metadata": {},
     "output_type": "execute_result"
    }
   ],
   "source": [
    "the_sum = torch.sum(step1 * weight)  # 最终结果\n",
    "the_sum  # 对应reduction='sum'"
   ],
   "metadata": {
    "collapsed": false,
    "pycharm": {
     "name": "#%%\n"
    }
   }
  },
  {
   "cell_type": "code",
   "execution_count": 28,
   "outputs": [
    {
     "data": {
      "text/plain": "tensor(0.6811)"
     },
     "execution_count": 28,
     "metadata": {},
     "output_type": "execute_result"
    }
   ],
   "source": [
    "the_mean = torch.mean(step1 * weight)\n",
    "the_mean  # 对应reduction='mean'\n"
   ],
   "metadata": {
    "collapsed": false,
    "pycharm": {
     "name": "#%%\n"
    }
   }
  }
 ],
 "metadata": {
  "kernelspec": {
   "display_name": "Python 3",
   "language": "python",
   "name": "python3"
  },
  "language_info": {
   "codemirror_mode": {
    "name": "ipython",
    "version": 2
   },
   "file_extension": ".py",
   "mimetype": "text/x-python",
   "name": "python",
   "nbconvert_exporter": "python",
   "pygments_lexer": "ipython2",
   "version": "2.7.6"
  }
 },
 "nbformat": 4,
 "nbformat_minor": 0
}