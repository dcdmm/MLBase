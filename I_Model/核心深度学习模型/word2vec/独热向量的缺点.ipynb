{
 "cells": [
  {
   "cell_type": "markdown",
   "metadata": {},
   "source": [
    "虽然独热向量很容易构建,但它们通常不是⼀个好的选择.⼀个主要原因是独热向量不能准确表达不同词之间的相似度,⽐如经常使用的\"余弦相似度\".对于向量$ \\mathrm{x}, \\mathrm{y} \\in R^d $,它们的余弦相似度是它们之间⻆度的余弦:\n",
    "\n",
    "$$  \\frac{\\mathrm{x}^{\\top} \\mathrm{y}}{\\|\\mathrm{x}\\|\\|\\mathrm{y}\\|} \\in[-1,1]  $$\n",
    "\n",
    "由于任意两个不同词的独热向量之间的余弦相似度为0,所以独热向量不能编码词之间的相似性.\n",
    "\n",
    "独热向量的其他缺点有:\n",
    "* 数据稀疏(Data Sparsity):向量中包含大量的0"
   ]
  }
 ],
 "metadata": {
  "language_info": {
   "name": "python"
  },
  "orig_nbformat": 4
 },
 "nbformat": 4,
 "nbformat_minor": 2
}
