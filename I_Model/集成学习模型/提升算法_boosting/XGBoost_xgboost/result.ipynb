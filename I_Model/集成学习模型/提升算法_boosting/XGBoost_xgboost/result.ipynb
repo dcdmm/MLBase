{
 "cells": [
  {
   "cell_type": "code",
   "execution_count": 1,
   "metadata": {
    "collapsed": true
   },
   "outputs": [
    {
     "name": "stderr",
     "output_type": "stream",
     "text": [
      "C:\\Users\\dcdmm\\anaconda3\\envs\\pytorch_env\\lib\\site-packages\\xgboost\\compat.py:36: FutureWarning: pandas.Int64Index is deprecated and will be removed from pandas in a future version. Use pandas.Index with the appropriate dtype instead.\n",
      "  from pandas import MultiIndex, Int64Index\n"
     ]
    }
   ],
   "source": [
    "import xgboost as xgb\n",
    "from sklearn import datasets\n",
    "from sklearn.model_selection import train_test_split\n",
    "import numpy as np\n",
    "from sklearn.preprocessing import OrdinalEncoder"
   ]
  },
  {
   "cell_type": "code",
   "execution_count": 2,
   "outputs": [
    {
     "name": "stdout",
     "output_type": "stream",
     "text": [
      "(2025, 54) (2025,)\n",
      "[1 2 3 4 5 6 7]\n"
     ]
    }
   ],
   "source": [
    "X = datasets.fetch_covtype().data[:3000]\n",
    "y = datasets.fetch_covtype().target[:3000]\n",
    "X_1, X_test, y_1, y_test = train_test_split(X, y, test_size=0.1)\n",
    "X_train, X_va, y_train, y_va = train_test_split(X_1, y_1)\n",
    "\n",
    "print(X_train.shape, y_train.shape)\n",
    "print(np.unique(y_train))  # 7分类任务"
   ],
   "metadata": {
    "collapsed": false,
    "pycharm": {
     "name": "#%%\n"
    }
   }
  },
  {
   "cell_type": "code",
   "execution_count": 3,
   "outputs": [
    {
     "name": "stdout",
     "output_type": "stream",
     "text": [
      "[0. 1. 2. 3. 4. 5. 6.]\n",
      "(2025, 1)\n"
     ]
    }
   ],
   "source": [
    "enc = OrdinalEncoder()\n",
    "y_train_enc = enc.fit_transform(y_train.reshape(-1, 1))\n",
    "y_test_enc = enc.transform(y_test.reshape(-1, 1))\n",
    "y_va_enc = enc.fit_transform(y_va.reshape(-1, 1))\n",
    "print(np.unique(y_train_enc))\n",
    "print(y_train_enc.shape)"
   ],
   "metadata": {
    "collapsed": false,
    "pycharm": {
     "name": "#%%\n"
    }
   }
  },
  {
   "cell_type": "code",
   "execution_count": 4,
   "outputs": [],
   "source": [
    "# label.shape = (num_sample, 1)\n",
    "train_dataset = xgb.DMatrix(data=X_train, label=y_train_enc)\n",
    "val_dataset = xgb.DMatrix(data=X_va, label=y_va_enc)\n",
    "test_dataset = xgb.DMatrix(data=X_test)"
   ],
   "metadata": {
    "collapsed": false,
    "pycharm": {
     "name": "#%%\n"
    }
   }
  },
  {
   "cell_type": "code",
   "execution_count": 5,
   "outputs": [],
   "source": [
    "params = {'objective': 'multi:softmax',\n",
    "          \"eval_metric\": 'mlogloss',\n",
    "          \"verbosity\": 0,\n",
    "          \"max_depth\": 3,\n",
    "          'num_class': 7}\n",
    "\n",
    "# train_dataset的名称为train_,val_dataset的名称定义为val_\n",
    "eval_set = [(train_dataset, \"train_\"), (val_dataset, \"val_\")]\n",
    "evals_result = {}  # 储存评估指标(内置和自定义)结果"
   ],
   "metadata": {
    "collapsed": false,
    "pycharm": {
     "name": "#%%\n"
    }
   }
  },
  {
   "cell_type": "code",
   "execution_count": 6,
   "outputs": [],
   "source": [
    "from sklearn.metrics import log_loss\n",
    "\n",
    "\n",
    "def my_xgb_loss(y_pred, y_true):\n",
    "    \"\"\"xgboost自定义验证数据集损失函数格式\"\"\"\n",
    "    loss = log_loss(y_true.get_label(), y_pred)\n",
    "    return 'MY_GBM_LOSS', loss"
   ],
   "metadata": {
    "collapsed": false,
    "pycharm": {
     "name": "#%%\n"
    }
   }
  },
  {
   "cell_type": "code",
   "execution_count": 7,
   "outputs": [
    {
     "name": "stdout",
     "output_type": "stream",
     "text": [
      "[0]\ttrain_-mlogloss:1.49178\ttrain_-MY_GBM_LOSS:1.35788\tval_-mlogloss:1.51103\tval_-MY_GBM_LOSS:1.38019\n",
      "[20]\ttrain_-mlogloss:0.42169\ttrain_-MY_GBM_LOSS:0.69003\tval_-mlogloss:0.52481\tval_-MY_GBM_LOSS:0.84320\n",
      "[40]\ttrain_-mlogloss:0.29246\ttrain_-MY_GBM_LOSS:0.58082\tval_-mlogloss:0.45119\tval_-MY_GBM_LOSS:0.91687\n",
      "[60]\ttrain_-mlogloss:0.21930\ttrain_-MY_GBM_LOSS:0.51427\tval_-mlogloss:0.42108\tval_-MY_GBM_LOSS:0.96393\n",
      "[80]\ttrain_-mlogloss:0.17275\ttrain_-MY_GBM_LOSS:0.46841\tval_-mlogloss:0.40679\tval_-MY_GBM_LOSS:0.98268\n",
      "[100]\ttrain_-mlogloss:0.13665\ttrain_-MY_GBM_LOSS:0.43093\tval_-mlogloss:0.40146\tval_-MY_GBM_LOSS:1.10272\n",
      "[120]\ttrain_-mlogloss:0.11376\ttrain_-MY_GBM_LOSS:0.40149\tval_-mlogloss:0.40424\tval_-MY_GBM_LOSS:1.21773\n",
      "[127]\ttrain_-mlogloss:0.10425\ttrain_-MY_GBM_LOSS:0.39168\tval_-mlogloss:0.40560\tval_-MY_GBM_LOSS:1.08853\n"
     ]
    }
   ],
   "source": [
    "model = xgb.train(params=params,\n",
    "                  dtrain=train_dataset,\n",
    "                  # num_boost_round (int) – Number of boosting iterations.\n",
    "                  # 默认num_boost_round=10\n",
    "                  num_boost_round=200,\n",
    "                  # List of validation sets for which metrics will evaluated during training.\n",
    "                  evals=eval_set,\n",
    "                  early_stopping_rounds=100,\n",
    "                  # verbose_eval (bool or int) – Requires at least one item in evals.\n",
    "                  # If verbose_eval is True then the evaluation metric on the validation set is printed at each boosting stage.\n",
    "                  # If verbose_eval is an integer then the evaluation metric on the validation set is printed at every given verbose_eval boosting stage.\n",
    "                  # The last boosting stage / the boosting stage found by using\n",
    "                  verbose_eval=20,  # 默认verbose_eval=True\n",
    "                  evals_result=evals_result,\n",
    "                  feval=my_xgb_loss,\n",
    "                  )"
   ],
   "metadata": {
    "collapsed": false,
    "pycharm": {
     "name": "#%%\n"
    }
   }
  },
  {
   "cell_type": "code",
   "execution_count": 8,
   "outputs": [
    {
     "data": {
      "text/plain": "(300,)"
     },
     "execution_count": 8,
     "metadata": {},
     "output_type": "execute_result"
    }
   ],
   "source": [
    "# 预测结果为概率向量(多分类)\n",
    "# test_dataset:The dmatrix storing the input\n",
    "model.predict(test_dataset).shape"
   ],
   "metadata": {
    "collapsed": false,
    "pycharm": {
     "name": "#%%\n"
    }
   }
  },
  {
   "cell_type": "code",
   "execution_count": 9,
   "outputs": [
    {
     "data": {
      "text/plain": "{'train_': OrderedDict([('mlogloss',\n               [1.491781,\n                1.251704,\n                1.081855,\n                0.958179,\n                0.865501,\n                0.793492,\n                0.738167,\n                0.69115,\n                0.648161,\n                0.612542,\n                0.582813,\n                0.55971,\n                0.533791,\n                0.51509,\n                0.498563,\n                0.481962,\n                0.466302,\n                0.454549,\n                0.44468,\n                0.431799,\n                0.421691,\n                0.412139,\n                0.40504,\n                0.393888,\n                0.386807,\n                0.379009,\n                0.371349,\n                0.365215,\n                0.357957,\n                0.350532,\n                0.345168,\n                0.338762,\n                0.33318,\n                0.328576,\n                0.32352,\n                0.318211,\n                0.313301,\n                0.306968,\n                0.302147,\n                0.296326,\n                0.292456,\n                0.288155,\n                0.284263,\n                0.279835,\n                0.275136,\n                0.27008,\n                0.26658,\n                0.263225,\n                0.258873,\n                0.254628,\n                0.252232,\n                0.249597,\n                0.245398,\n                0.242364,\n                0.239101,\n                0.235254,\n                0.232637,\n                0.228971,\n                0.226947,\n                0.22296,\n                0.219304,\n                0.217156,\n                0.213109,\n                0.209452,\n                0.206902,\n                0.204843,\n                0.202532,\n                0.20035,\n                0.197844,\n                0.196029,\n                0.193529,\n                0.191172,\n                0.188837,\n                0.186236,\n                0.184268,\n                0.181783,\n                0.179782,\n                0.17741,\n                0.17569,\n                0.174172,\n                0.172755,\n                0.170413,\n                0.16827,\n                0.166686,\n                0.165223,\n                0.163008,\n                0.160989,\n                0.15912,\n                0.157794,\n                0.15576,\n                0.154043,\n                0.152001,\n                0.15071,\n                0.148289,\n                0.146189,\n                0.144737,\n                0.143661,\n                0.142207,\n                0.140143,\n                0.138506,\n                0.136654,\n                0.135311,\n                0.133707,\n                0.132515,\n                0.131833,\n                0.130287,\n                0.128701,\n                0.127699,\n                0.126297,\n                0.125349,\n                0.124251,\n                0.12334,\n                0.122442,\n                0.121556,\n                0.120795,\n                0.119236,\n                0.118143,\n                0.117188,\n                0.115849,\n                0.115069,\n                0.113762,\n                0.112502,\n                0.110908,\n                0.109016,\n                0.108174,\n                0.107199,\n                0.105448,\n                0.104251]),\n              ('MY_GBM_LOSS',\n               [1.357881,\n                1.084728,\n                0.790468,\n                0.805492,\n                0.839649,\n                0.821297,\n                0.825287,\n                0.852436,\n                0.850146,\n                0.843259,\n                0.822294,\n                0.831642,\n                0.767627,\n                0.752461,\n                0.745803,\n                0.741844,\n                0.734125,\n                0.727773,\n                0.721012,\n                0.714227,\n                0.690026,\n                0.671699,\n                0.665578,\n                0.657255,\n                0.650549,\n                0.647265,\n                0.643429,\n                0.640871,\n                0.635523,\n                0.627724,\n                0.623455,\n                0.618635,\n                0.61367,\n                0.609483,\n                0.60585,\n                0.600919,\n                0.596087,\n                0.59101,\n                0.585719,\n                0.582556,\n                0.58082,\n                0.57577,\n                0.570095,\n                0.565613,\n                0.56164,\n                0.55607,\n                0.552625,\n                0.549698,\n                0.546891,\n                0.543303,\n                0.541148,\n                0.537594,\n                0.534024,\n                0.532565,\n                0.530083,\n                0.525259,\n                0.5228,\n                0.520078,\n                0.519155,\n                0.516202,\n                0.514266,\n                0.511954,\n                0.508639,\n                0.5037,\n                0.501066,\n                0.50083,\n                0.499057,\n                0.496189,\n                0.494322,\n                0.491407,\n                0.489534,\n                0.487915,\n                0.486265,\n                0.484077,\n                0.481399,\n                0.479971,\n                0.478205,\n                0.474993,\n                0.471995,\n                0.470507,\n                0.468409,\n                0.465084,\n                0.463655,\n                0.461563,\n                0.460041,\n                0.457157,\n                0.455268,\n                0.453296,\n                0.452411,\n                0.45131,\n                0.448733,\n                0.44652,\n                0.445676,\n                0.44397,\n                0.442138,\n                0.440238,\n                0.438562,\n                0.437914,\n                0.436029,\n                0.432577,\n                0.430932,\n                0.429724,\n                0.427179,\n                0.425677,\n                0.425646,\n                0.424067,\n                0.421423,\n                0.419793,\n                0.417532,\n                0.416926,\n                0.415502,\n                0.414288,\n                0.413031,\n                0.41155,\n                0.410928,\n                0.409086,\n                0.406845,\n                0.405416,\n                0.404287,\n                0.403078,\n                0.401494,\n                0.400072,\n                0.398962,\n                0.397346,\n                0.396806,\n                0.395192,\n                0.393224,\n                0.391679])]),\n 'val_': OrderedDict([('mlogloss',\n               [1.511025,\n                1.274683,\n                1.112013,\n                0.991102,\n                0.901764,\n                0.836441,\n                0.784579,\n                0.741884,\n                0.705593,\n                0.67488,\n                0.648055,\n                0.629919,\n                0.610225,\n                0.592796,\n                0.578669,\n                0.565502,\n                0.555391,\n                0.545474,\n                0.538706,\n                0.531691,\n                0.524811,\n                0.517304,\n                0.513255,\n                0.507282,\n                0.503009,\n                0.49814,\n                0.493743,\n                0.490368,\n                0.485086,\n                0.480499,\n                0.476733,\n                0.472951,\n                0.470924,\n                0.469278,\n                0.465754,\n                0.464189,\n                0.461923,\n                0.459021,\n                0.456208,\n                0.453067,\n                0.451186,\n                0.449247,\n                0.4473,\n                0.444755,\n                0.444631,\n                0.442198,\n                0.439418,\n                0.438687,\n                0.437137,\n                0.436016,\n                0.435135,\n                0.433499,\n                0.432109,\n                0.430427,\n                0.428974,\n                0.428234,\n                0.426379,\n                0.4251,\n                0.424706,\n                0.422071,\n                0.421085,\n                0.419914,\n                0.417147,\n                0.417261,\n                0.416604,\n                0.415226,\n                0.41423,\n                0.41426,\n                0.413532,\n                0.412386,\n                0.411645,\n                0.411171,\n                0.412075,\n                0.411091,\n                0.41083,\n                0.410111,\n                0.408698,\n                0.407168,\n                0.405711,\n                0.406353,\n                0.406791,\n                0.4064,\n                0.405113,\n                0.405899,\n                0.405044,\n                0.405289,\n                0.40501,\n                0.404801,\n                0.403542,\n                0.403212,\n                0.401883,\n                0.400803,\n                0.401084,\n                0.401112,\n                0.401217,\n                0.401113,\n                0.401985,\n                0.401553,\n                0.401048,\n                0.400875,\n                0.401464,\n                0.401933,\n                0.403265,\n                0.403295,\n                0.403426,\n                0.401516,\n                0.402592,\n                0.402467,\n                0.401965,\n                0.402473,\n                0.403681,\n                0.404707,\n                0.404661,\n                0.40536,\n                0.405971,\n                0.405352,\n                0.404754,\n                0.404303,\n                0.403845,\n                0.403901,\n                0.404242,\n                0.40514,\n                0.40362,\n                0.404976,\n                0.405538,\n                0.404907,\n                0.404824,\n                0.405604]),\n              ('MY_GBM_LOSS',\n               [1.380188,\n                1.089164,\n                0.833426,\n                0.852442,\n                0.845467,\n                0.850449,\n                0.810242,\n                0.808282,\n                0.856084,\n                0.855035,\n                0.846268,\n                0.840077,\n                0.838697,\n                0.828123,\n                0.825186,\n                0.820427,\n                0.863614,\n                0.856446,\n                0.850422,\n                0.847742,\n                0.843201,\n                0.839776,\n                0.797436,\n                0.83151,\n                0.825379,\n                0.774167,\n                0.77127,\n                0.768565,\n                0.859725,\n                0.898673,\n                0.848743,\n                0.847322,\n                0.891006,\n                0.935352,\n                0.933471,\n                0.930526,\n                0.92802,\n                0.924766,\n                0.919897,\n                0.918715,\n                0.916865,\n                0.913175,\n                0.906289,\n                0.911104,\n                0.907574,\n                0.951327,\n                0.947157,\n                0.943485,\n                0.941637,\n                0.939512,\n                0.982271,\n                0.937237,\n                0.977784,\n                0.976873,\n                0.97538,\n                0.970209,\n                0.968211,\n                0.967135,\n                0.967205,\n                0.963921,\n                0.963926,\n                0.962033,\n                0.959386,\n                0.958681,\n                0.95721,\n                0.954464,\n                0.953637,\n                0.952468,\n                0.949714,\n                0.94783,\n                0.945892,\n                0.943772,\n                0.989495,\n                0.988023,\n                0.985826,\n                0.984633,\n                0.940434,\n                0.938099,\n                0.935414,\n                0.984085,\n                0.982678,\n                0.979612,\n                1.023854,\n                1.023049,\n                1.022833,\n                1.018756,\n                1.018154,\n                1.018732,\n                1.019171,\n                1.01794,\n                1.017233,\n                1.015247,\n                1.062252,\n                1.108623,\n                1.109239,\n                1.103008,\n                1.149234,\n                1.152219,\n                1.10688,\n                1.105524,\n                1.10272,\n                1.103849,\n                1.103772,\n                1.146976,\n                1.100886,\n                1.101093,\n                1.104778,\n                1.099687,\n                1.184758,\n                1.184772,\n                1.184189,\n                1.185545,\n                1.139314,\n                1.13996,\n                1.139861,\n                1.183332,\n                1.18246,\n                1.180934,\n                1.177607,\n                1.135821,\n                1.21773,\n                1.217617,\n                1.219045,\n                1.131598,\n                1.130275,\n                1.088883,\n                1.130146,\n                1.088534])])}"
     },
     "execution_count": 9,
     "metadata": {},
     "output_type": "execute_result"
    }
   ],
   "source": [
    "evals_result"
   ],
   "metadata": {
    "collapsed": false,
    "pycharm": {
     "name": "#%%\n"
    }
   }
  },
  {
   "cell_type": "code",
   "execution_count": 10,
   "outputs": [
    {
     "data": {
      "text/plain": "odict_keys(['mlogloss', 'MY_GBM_LOSS'])"
     },
     "execution_count": 10,
     "metadata": {},
     "output_type": "execute_result"
    }
   ],
   "source": [
    "evals_result['train_'].keys()"
   ],
   "metadata": {
    "collapsed": false,
    "pycharm": {
     "name": "#%%\n"
    }
   }
  },
  {
   "cell_type": "code",
   "execution_count": 11,
   "outputs": [
    {
     "data": {
      "text/plain": "<AxesSubplot:title={'center':'Feature importance'}, xlabel='F score', ylabel='Features'>"
     },
     "execution_count": 11,
     "metadata": {},
     "output_type": "execute_result"
    },
    {
     "data": {
      "text/plain": "<Figure size 432x288 with 1 Axes>",
      "image/png": "[encoded data removed]"
     },
     "metadata": {
      "needs_background": "light"
     },
     "output_type": "display_data"
    }
   ],
   "source": [
    "# 绘制特征的相对重要性\n",
    "xgb.plot_importance(model)"
   ],
   "metadata": {
    "collapsed": false,
    "pycharm": {
     "name": "#%%\n"
    }
   }
  },
  {
   "cell_type": "code",
   "execution_count": 12,
   "outputs": [
    {
     "data": {
      "image/svg+xml": "<?xml version=\"1.0\" encoding=\"UTF-8\" standalone=\"no\"?>\n<!DOCTYPE svg PUBLIC \"-//W3C//DTD SVG 1.1//EN\"\n \"http://www.w3.org/Graphics/SVG/1.1/DTD/svg11.dtd\">\n<!-- Generated by graphviz version 3.0.0 (20220226.1711)\n -->\n<!-- Pages: 1 -->\n<svg width=\"1391pt\" height=\"305pt\"\n viewBox=\"0.00 0.00 1391.39 305.00\" xmlns=\"http://www.w3.org/2000/svg\" xmlns:xlink=\"http://www.w3.org/1999/xlink\">\n<g id=\"graph0\" class=\"graph\" transform=\"scale(1 1) rotate(0) translate(4 301)\">\n<polygon fill=\"white\" stroke=\"transparent\" points=\"-4,4 -4,-301 1387.39,-301 1387.39,4 -4,4\"/>\n<!-- 0 -->\n<g id=\"node1\" class=\"node\">\n<title>0</title>\n<ellipse fill=\"none\" stroke=\"black\" cx=\"632.99\" cy=\"-279\" rx=\"48.19\" ry=\"18\"/>\n<text text-anchor=\"middle\" x=\"632.99\" y=\"-275.3\" font-family=\"Times New Roman,serif\" font-size=\"14.00\">f0&lt;2989.5</text>\n</g>\n<!-- 1 -->\n<g id=\"node2\" class=\"node\">\n<title>1</title>\n<ellipse fill=\"none\" stroke=\"black\" cx=\"548.99\" cy=\"-192\" rx=\"40.89\" ry=\"18\"/>\n<text text-anchor=\"middle\" x=\"548.99\" y=\"-188.3\" font-family=\"Times New Roman,serif\" font-size=\"14.00\">f5&lt;2897</text>\n</g>\n<!-- 0&#45;&gt;1 -->\n<g id=\"edge1\" class=\"edge\">\n<title>0&#45;&gt;1</title>\n<path fill=\"none\" stroke=\"#0000ff\" d=\"M616.8,-261.61C603.97,-248.63 585.89,-230.34 571.63,-215.91\"/>\n<polygon fill=\"#0000ff\" stroke=\"#0000ff\" points=\"574.09,-213.42 564.57,-208.76 569.11,-218.34 574.09,-213.42\"/>\n<text text-anchor=\"middle\" x=\"631.49\" y=\"-231.8\" font-family=\"Times New Roman,serif\" font-size=\"14.00\">yes, missing</text>\n</g>\n<!-- 2 -->\n<g id=\"node3\" class=\"node\">\n<title>2</title>\n<ellipse fill=\"none\" stroke=\"black\" cx=\"849.99\" cy=\"-192\" rx=\"48.19\" ry=\"18\"/>\n<text text-anchor=\"middle\" x=\"849.99\" y=\"-188.3\" font-family=\"Times New Roman,serif\" font-size=\"14.00\">f5&lt;2958.5</text>\n</g>\n<!-- 0&#45;&gt;2 -->\n<g id=\"edge2\" class=\"edge\">\n<title>0&#45;&gt;2</title>\n<path fill=\"none\" stroke=\"#ff0000\" d=\"M665.01,-265.46C703.07,-250.55 766.69,-225.63 808.49,-209.26\"/>\n<polygon fill=\"#ff0000\" stroke=\"#ff0000\" points=\"809.81,-212.5 817.84,-205.59 807.25,-205.98 809.81,-212.5\"/>\n<text text-anchor=\"middle\" x=\"762.49\" y=\"-231.8\" font-family=\"Times New Roman,serif\" font-size=\"14.00\">no</text>\n</g>\n<!-- 3 -->\n<g id=\"node4\" class=\"node\">\n<title>3</title>\n<ellipse fill=\"none\" stroke=\"black\" cx=\"256.99\" cy=\"-105\" rx=\"40.89\" ry=\"18\"/>\n<text text-anchor=\"middle\" x=\"256.99\" y=\"-101.3\" font-family=\"Times New Roman,serif\" font-size=\"14.00\">f5&lt;1046</text>\n</g>\n<!-- 1&#45;&gt;3 -->\n<g id=\"edge3\" class=\"edge\">\n<title>1&#45;&gt;3</title>\n<path fill=\"none\" stroke=\"#0000ff\" d=\"M515.78,-181.33C462.65,-165.87 358.57,-135.57 299.88,-118.49\"/>\n<polygon fill=\"#0000ff\" stroke=\"#0000ff\" points=\"300.75,-115.09 290.17,-115.66 298.8,-121.81 300.75,-115.09\"/>\n<text text-anchor=\"middle\" x=\"455.49\" y=\"-144.8\" font-family=\"Times New Roman,serif\" font-size=\"14.00\">yes, missing</text>\n</g>\n<!-- 4 -->\n<g id=\"node5\" class=\"node\">\n<title>4</title>\n<ellipse fill=\"none\" stroke=\"black\" cx=\"548.99\" cy=\"-105\" rx=\"48.19\" ry=\"18\"/>\n<text text-anchor=\"middle\" x=\"548.99\" y=\"-101.3\" font-family=\"Times New Roman,serif\" font-size=\"14.00\">f9&lt;2444.5</text>\n</g>\n<!-- 1&#45;&gt;4 -->\n<g id=\"edge4\" class=\"edge\">\n<title>1&#45;&gt;4</title>\n<path fill=\"none\" stroke=\"#ff0000\" d=\"M548.99,-173.8C548.99,-162.16 548.99,-146.55 548.99,-133.24\"/>\n<polygon fill=\"#ff0000\" stroke=\"#ff0000\" points=\"552.49,-133.18 548.99,-123.18 545.49,-133.18 552.49,-133.18\"/>\n<text text-anchor=\"middle\" x=\"556.49\" y=\"-144.8\" font-family=\"Times New Roman,serif\" font-size=\"14.00\">no</text>\n</g>\n<!-- 5 -->\n<g id=\"node10\" class=\"node\">\n<title>5</title>\n<ellipse fill=\"none\" stroke=\"black\" cx=\"849.99\" cy=\"-105\" rx=\"38.99\" ry=\"18\"/>\n<text text-anchor=\"middle\" x=\"849.99\" y=\"-101.3\" font-family=\"Times New Roman,serif\" font-size=\"14.00\">f1&lt;77.5</text>\n</g>\n<!-- 2&#45;&gt;5 -->\n<g id=\"edge9\" class=\"edge\">\n<title>2&#45;&gt;5</title>\n<path fill=\"none\" stroke=\"#0000ff\" d=\"M849.99,-173.8C849.99,-162.16 849.99,-146.55 849.99,-133.24\"/>\n<polygon fill=\"#0000ff\" stroke=\"#0000ff\" points=\"853.49,-133.18 849.99,-123.18 846.49,-133.18 853.49,-133.18\"/>\n<text text-anchor=\"middle\" x=\"884.49\" y=\"-144.8\" font-family=\"Times New Roman,serif\" font-size=\"14.00\">yes, missing</text>\n</g>\n<!-- 6 -->\n<g id=\"node11\" class=\"node\">\n<title>6</title>\n<ellipse fill=\"none\" stroke=\"black\" cx=\"1138.99\" cy=\"-105\" rx=\"43.59\" ry=\"18\"/>\n<text text-anchor=\"middle\" x=\"1138.99\" y=\"-101.3\" font-family=\"Times New Roman,serif\" font-size=\"14.00\">f7&lt;244.5</text>\n</g>\n<!-- 2&#45;&gt;6 -->\n<g id=\"edge10\" class=\"edge\">\n<title>2&#45;&gt;6</title>\n<path fill=\"none\" stroke=\"#ff0000\" d=\"M886.6,-180.23C939.61,-164.64 1037.64,-135.81 1094.68,-119.03\"/>\n<polygon fill=\"#ff0000\" stroke=\"#ff0000\" points=\"1095.88,-122.33 1104.49,-116.15 1093.91,-115.61 1095.88,-122.33\"/>\n<text text-anchor=\"middle\" x=\"1019.49\" y=\"-144.8\" font-family=\"Times New Roman,serif\" font-size=\"14.00\">no</text>\n</g>\n<!-- 7 -->\n<g id=\"node6\" class=\"node\">\n<title>7</title>\n<ellipse fill=\"none\" stroke=\"black\" cx=\"77.99\" cy=\"-18\" rx=\"77.99\" ry=\"18\"/>\n<text text-anchor=\"middle\" x=\"77.99\" y=\"-14.3\" font-family=\"Times New Roman,serif\" font-size=\"14.00\">leaf=&#45;0.168051973</text>\n</g>\n<!-- 3&#45;&gt;7 -->\n<g id=\"edge5\" class=\"edge\">\n<title>3&#45;&gt;7</title>\n<path fill=\"none\" stroke=\"#0000ff\" d=\"M230.19,-91.27C200.95,-77.39 153.77,-54.98 119.68,-38.8\"/>\n<polygon fill=\"#0000ff\" stroke=\"#0000ff\" points=\"120.98,-35.54 110.44,-34.41 117.97,-41.86 120.98,-35.54\"/>\n<text text-anchor=\"middle\" x=\"213.49\" y=\"-57.8\" font-family=\"Times New Roman,serif\" font-size=\"14.00\">yes, missing</text>\n</g>\n<!-- 8 -->\n<g id=\"node7\" class=\"node\">\n<title>8</title>\n<ellipse fill=\"none\" stroke=\"black\" cx=\"256.99\" cy=\"-18\" rx=\"82.59\" ry=\"18\"/>\n<text text-anchor=\"middle\" x=\"256.99\" y=\"-14.3\" font-family=\"Times New Roman,serif\" font-size=\"14.00\">leaf=&#45;0.0882682651</text>\n</g>\n<!-- 3&#45;&gt;8 -->\n<g id=\"edge6\" class=\"edge\">\n<title>3&#45;&gt;8</title>\n<path fill=\"none\" stroke=\"#ff0000\" d=\"M256.99,-86.8C256.99,-75.16 256.99,-59.55 256.99,-46.24\"/>\n<polygon fill=\"#ff0000\" stroke=\"#ff0000\" points=\"260.49,-46.18 256.99,-36.18 253.49,-46.18 260.49,-46.18\"/>\n<text text-anchor=\"middle\" x=\"264.49\" y=\"-57.8\" font-family=\"Times New Roman,serif\" font-size=\"14.00\">no</text>\n</g>\n<!-- 9 -->\n<g id=\"node8\" class=\"node\">\n<title>9</title>\n<ellipse fill=\"none\" stroke=\"black\" cx=\"439.99\" cy=\"-18\" rx=\"82.59\" ry=\"18\"/>\n<text text-anchor=\"middle\" x=\"439.99\" y=\"-14.3\" font-family=\"Times New Roman,serif\" font-size=\"14.00\">leaf=&#45;0.0633165836</text>\n</g>\n<!-- 4&#45;&gt;9 -->\n<g id=\"edge7\" class=\"edge\">\n<title>4&#45;&gt;9</title>\n<path fill=\"none\" stroke=\"#0000ff\" d=\"M529,-88.41C512.3,-75.38 488.25,-56.63 469.36,-41.9\"/>\n<polygon fill=\"#0000ff\" stroke=\"#0000ff\" points=\"471.39,-39.04 461.35,-35.65 467.08,-44.56 471.39,-39.04\"/>\n<text text-anchor=\"middle\" x=\"536.49\" y=\"-57.8\" font-family=\"Times New Roman,serif\" font-size=\"14.00\">yes, missing</text>\n</g>\n<!-- 10 -->\n<g id=\"node9\" class=\"node\">\n<title>10</title>\n<ellipse fill=\"none\" stroke=\"black\" cx=\"615.99\" cy=\"-18\" rx=\"75.29\" ry=\"18\"/>\n<text text-anchor=\"middle\" x=\"615.99\" y=\"-14.3\" font-family=\"Times New Roman,serif\" font-size=\"14.00\">leaf=0.172778055</text>\n</g>\n<!-- 4&#45;&gt;10 -->\n<g id=\"edge8\" class=\"edge\">\n<title>4&#45;&gt;10</title>\n<path fill=\"none\" stroke=\"#ff0000\" d=\"M561.91,-87.61C571.7,-75.19 585.32,-57.91 596.44,-43.8\"/>\n<polygon fill=\"#ff0000\" stroke=\"#ff0000\" points=\"599.21,-45.94 602.66,-35.92 593.72,-41.61 599.21,-45.94\"/>\n<text text-anchor=\"middle\" x=\"594.49\" y=\"-57.8\" font-family=\"Times New Roman,serif\" font-size=\"14.00\">no</text>\n</g>\n<!-- 11 -->\n<g id=\"node12\" class=\"node\">\n<title>11</title>\n<ellipse fill=\"none\" stroke=\"black\" cx=\"784.99\" cy=\"-18\" rx=\"75.29\" ry=\"18\"/>\n<text text-anchor=\"middle\" x=\"784.99\" y=\"-14.3\" font-family=\"Times New Roman,serif\" font-size=\"14.00\">leaf=0.411460251</text>\n</g>\n<!-- 5&#45;&gt;11 -->\n<g id=\"edge11\" class=\"edge\">\n<title>5&#45;&gt;11</title>\n<path fill=\"none\" stroke=\"#0000ff\" d=\"M837.46,-87.61C828.05,-75.31 815,-58.23 804.26,-44.2\"/>\n<polygon fill=\"#0000ff\" stroke=\"#0000ff\" points=\"806.79,-41.74 797.93,-35.92 801.23,-45.99 806.79,-41.74\"/>\n<text text-anchor=\"middle\" x=\"856.49\" y=\"-57.8\" font-family=\"Times New Roman,serif\" font-size=\"14.00\">yes, missing</text>\n</g>\n<!-- 12 -->\n<g id=\"node13\" class=\"node\">\n<title>12</title>\n<ellipse fill=\"none\" stroke=\"black\" cx=\"961.99\" cy=\"-18\" rx=\"83.69\" ry=\"18\"/>\n<text text-anchor=\"middle\" x=\"961.99\" y=\"-14.3\" font-family=\"Times New Roman,serif\" font-size=\"14.00\">leaf=0.00376006658</text>\n</g>\n<!-- 5&#45;&gt;12 -->\n<g id=\"edge12\" class=\"edge\">\n<title>5&#45;&gt;12</title>\n<path fill=\"none\" stroke=\"#ff0000\" d=\"M869.5,-89.19C886.72,-76.13 912.09,-56.87 931.91,-41.83\"/>\n<polygon fill=\"#ff0000\" stroke=\"#ff0000\" points=\"934.17,-44.51 940.02,-35.67 929.94,-38.93 934.17,-44.51\"/>\n<text text-anchor=\"middle\" x=\"920.49\" y=\"-57.8\" font-family=\"Times New Roman,serif\" font-size=\"14.00\">no</text>\n</g>\n<!-- 13 -->\n<g id=\"node14\" class=\"node\">\n<title>13</title>\n<ellipse fill=\"none\" stroke=\"black\" cx=\"1138.99\" cy=\"-18\" rx=\"75.29\" ry=\"18\"/>\n<text text-anchor=\"middle\" x=\"1138.99\" y=\"-14.3\" font-family=\"Times New Roman,serif\" font-size=\"14.00\">leaf=0.628780603</text>\n</g>\n<!-- 6&#45;&gt;13 -->\n<g id=\"edge13\" class=\"edge\">\n<title>6&#45;&gt;13</title>\n<path fill=\"none\" stroke=\"#0000ff\" d=\"M1138.99,-86.8C1138.99,-75.16 1138.99,-59.55 1138.99,-46.24\"/>\n<polygon fill=\"#0000ff\" stroke=\"#0000ff\" points=\"1142.49,-46.18 1138.99,-36.18 1135.49,-46.18 1142.49,-46.18\"/>\n<text text-anchor=\"middle\" x=\"1173.49\" y=\"-57.8\" font-family=\"Times New Roman,serif\" font-size=\"14.00\">yes, missing</text>\n</g>\n<!-- 14 -->\n<g id=\"node15\" class=\"node\">\n<title>14</title>\n<ellipse fill=\"none\" stroke=\"black\" cx=\"1307.99\" cy=\"-18\" rx=\"75.29\" ry=\"18\"/>\n<text text-anchor=\"middle\" x=\"1307.99\" y=\"-14.3\" font-family=\"Times New Roman,serif\" font-size=\"14.00\">leaf=0.149319202</text>\n</g>\n<!-- 6&#45;&gt;14 -->\n<g id=\"edge14\" class=\"edge\">\n<title>6&#45;&gt;14</title>\n<path fill=\"none\" stroke=\"#ff0000\" d=\"M1166.83,-90.92C1180.49,-84.43 1197.16,-76.42 1211.99,-69 1230.85,-59.57 1251.63,-48.8 1269.01,-39.68\"/>\n<polygon fill=\"#ff0000\" stroke=\"#ff0000\" points=\"1271.07,-42.55 1278.29,-34.8 1267.81,-36.35 1271.07,-42.55\"/>\n<text text-anchor=\"middle\" x=\"1248.49\" y=\"-57.8\" font-family=\"Times New Roman,serif\" font-size=\"14.00\">no</text>\n</g>\n</g>\n</svg>\n",
      "text/plain": "<graphviz.sources.Source at 0x1bedeb81160>"
     },
     "execution_count": 12,
     "metadata": {},
     "output_type": "execute_result"
    }
   ],
   "source": [
    "# 可视化lgb分割过程\n",
    "img = xgb.to_graphviz(model,\n",
    "                      # 目标函数是所有树的预测值相加等于预测值\n",
    "                      num_trees=0)\n",
    "# leaf=-0.15269695\n",
    "# leaf=0.056757\n",
    "# leaf=-0.125725\n",
    "# leaf=-0.160423\n",
    "# ......\n",
    "# 表示xgboost论文中的$ \\mathcal{L}_split $(决定特征的最佳分裂点)\n",
    "img"
   ],
   "metadata": {
    "collapsed": false,
    "pycharm": {
     "name": "#%%\n"
    }
   }
  },
  {
   "cell_type": "code",
   "execution_count": 13,
   "outputs": [
    {
     "data": {
      "text/plain": "graphviz.sources.Source"
     },
     "execution_count": 13,
     "metadata": {},
     "output_type": "execute_result"
    }
   ],
   "source": [
    "# 数据类型graphviz.files.Source\n",
    "type(img)"
   ],
   "metadata": {
    "collapsed": false,
    "pycharm": {
     "name": "#%%\n"
    }
   }
  },
  {
   "cell_type": "code",
   "execution_count": 14,
   "outputs": [
    {
     "data": {
      "text/plain": "   Tree  Node   ID Feature   Split  Yes    No Missing        Gain       Cover  \\\n0     0     0  0-0      f0  2989.5  0-1   0-2     0-1  327.018066  495.918396   \n1     0     1  0-1      f5  2897.0  0-3   0-4     0-3   28.647682  371.755127   \n2     0     2  0-2      f5  2958.5  0-5   0-6     0-5   46.484253  124.163277   \n3     0     3  0-3      f5  1046.0  0-7   0-8     0-7    4.760910  305.142883   \n4     0     4  0-4      f9  2444.5  0-9  0-10     0-9   10.248411   66.612251   \n\n   Category  \n0       NaN  \n1       NaN  \n2       NaN  \n3       NaN  \n4       NaN  ",
      "text/html": "<div>\n<style scoped>\n    .dataframe tbody tr th:only-of-type {\n        vertical-align: middle;\n    }\n\n    .dataframe tbody tr th {\n        vertical-align: top;\n    }\n\n    .dataframe thead th {\n        text-align: right;\n    }\n</style>\n<table border=\"1\" class=\"dataframe\">\n  <thead>\n    <tr style=\"text-align: right;\">\n      <th></th>\n      <th>Tree</th>\n      <th>Node</th>\n      <th>ID</th>\n      <th>Feature</th>\n      <th>Split</th>\n      <th>Yes</th>\n      <th>No</th>\n      <th>Missing</th>\n      <th>Gain</th>\n      <th>Cover</th>\n      <th>Category</th>\n    </tr>\n  </thead>\n  <tbody>\n    <tr>\n      <th>0</th>\n      <td>0</td>\n      <td>0</td>\n      <td>0-0</td>\n      <td>f0</td>\n      <td>2989.5</td>\n      <td>0-1</td>\n      <td>0-2</td>\n      <td>0-1</td>\n      <td>327.018066</td>\n      <td>495.918396</td>\n      <td>NaN</td>\n    </tr>\n    <tr>\n      <th>1</th>\n      <td>0</td>\n      <td>1</td>\n      <td>0-1</td>\n      <td>f5</td>\n      <td>2897.0</td>\n      <td>0-3</td>\n      <td>0-4</td>\n      <td>0-3</td>\n      <td>28.647682</td>\n      <td>371.755127</td>\n      <td>NaN</td>\n    </tr>\n    <tr>\n      <th>2</th>\n      <td>0</td>\n      <td>2</td>\n      <td>0-2</td>\n      <td>f5</td>\n      <td>2958.5</td>\n      <td>0-5</td>\n      <td>0-6</td>\n      <td>0-5</td>\n      <td>46.484253</td>\n      <td>124.163277</td>\n      <td>NaN</td>\n    </tr>\n    <tr>\n      <th>3</th>\n      <td>0</td>\n      <td>3</td>\n      <td>0-3</td>\n      <td>f5</td>\n      <td>1046.0</td>\n      <td>0-7</td>\n      <td>0-8</td>\n      <td>0-7</td>\n      <td>4.760910</td>\n      <td>305.142883</td>\n      <td>NaN</td>\n    </tr>\n    <tr>\n      <th>4</th>\n      <td>0</td>\n      <td>4</td>\n      <td>0-4</td>\n      <td>f9</td>\n      <td>2444.5</td>\n      <td>0-9</td>\n      <td>0-10</td>\n      <td>0-9</td>\n      <td>10.248411</td>\n      <td>66.612251</td>\n      <td>NaN</td>\n    </tr>\n  </tbody>\n</table>\n</div>"
     },
     "execution_count": 14,
     "metadata": {},
     "output_type": "execute_result"
    }
   ],
   "source": [
    "# Parse a boosted tree model text dump into a pandas DataFrame structure.\n",
    "# This feature is only defined when the decision tree model is chosen as base learner (booster in {gbtree, dart}).\n",
    "df = model.trees_to_dataframe()\n",
    "df.head()"
   ],
   "metadata": {
    "collapsed": false,
    "pycharm": {
     "name": "#%%\n"
    }
   }
  },
  {
   "cell_type": "code",
   "execution_count": 15,
   "outputs": [
    {
     "data": {
      "text/plain": "    Tree  Node    ID Feature   Split   Yes    No Missing        Gain  \\\n0      0     0   0-0      f0  2989.5   0-1   0-2     0-1  327.018066   \n1      0     1   0-1      f5  2897.0   0-3   0-4     0-3   28.647682   \n2      0     2   0-2      f5  2958.5   0-5   0-6     0-5   46.484253   \n3      0     3   0-3      f5  1046.0   0-7   0-8     0-7    4.760910   \n4      0     4   0-4      f9  2444.5   0-9  0-10     0-9   10.248411   \n5      0     5   0-5      f1    77.5  0-11  0-12    0-11   13.523304   \n6      0     6   0-6      f7   244.5  0-13  0-14    0-13   26.004334   \n7      0     7   0-7    Leaf     NaN   NaN   NaN     NaN   -0.168052   \n8      0     8   0-8    Leaf     NaN   NaN   NaN     NaN   -0.088268   \n9      0     9   0-9    Leaf     NaN   NaN   NaN     NaN   -0.063317   \n10     0    10  0-10    Leaf     NaN   NaN   NaN     NaN    0.172778   \n11     0    11  0-11    Leaf     NaN   NaN   NaN     NaN    0.411460   \n12     0    12  0-12    Leaf     NaN   NaN   NaN     NaN    0.003760   \n13     0    13  0-13    Leaf     NaN   NaN   NaN     NaN    0.628781   \n14     0    14  0-14    Leaf     NaN   NaN   NaN     NaN    0.149319   \n\n         Cover  Category  \n0   495.918396       NaN  \n1   371.755127       NaN  \n2   124.163277       NaN  \n3   305.142883       NaN  \n4    66.612251       NaN  \n5    31.836737       NaN  \n6    92.326538       NaN  \n7   196.897980       NaN  \n8   108.244904       NaN  \n9    27.428574       NaN  \n10   39.183678       NaN  \n11   10.040817       NaN  \n12   21.795919       NaN  \n13   79.836739       NaN  \n14   12.489797       NaN  ",
      "text/html": "<div>\n<style scoped>\n    .dataframe tbody tr th:only-of-type {\n        vertical-align: middle;\n    }\n\n    .dataframe tbody tr th {\n        vertical-align: top;\n    }\n\n    .dataframe thead th {\n        text-align: right;\n    }\n</style>\n<table border=\"1\" class=\"dataframe\">\n  <thead>\n    <tr style=\"text-align: right;\">\n      <th></th>\n      <th>Tree</th>\n      <th>Node</th>\n      <th>ID</th>\n      <th>Feature</th>\n      <th>Split</th>\n      <th>Yes</th>\n      <th>No</th>\n      <th>Missing</th>\n      <th>Gain</th>\n      <th>Cover</th>\n      <th>Category</th>\n    </tr>\n  </thead>\n  <tbody>\n    <tr>\n      <th>0</th>\n      <td>0</td>\n      <td>0</td>\n      <td>0-0</td>\n      <td>f0</td>\n      <td>2989.5</td>\n      <td>0-1</td>\n      <td>0-2</td>\n      <td>0-1</td>\n      <td>327.018066</td>\n      <td>495.918396</td>\n      <td>NaN</td>\n    </tr>\n    <tr>\n      <th>1</th>\n      <td>0</td>\n      <td>1</td>\n      <td>0-1</td>\n      <td>f5</td>\n      <td>2897.0</td>\n      <td>0-3</td>\n      <td>0-4</td>\n      <td>0-3</td>\n      <td>28.647682</td>\n      <td>371.755127</td>\n      <td>NaN</td>\n    </tr>\n    <tr>\n      <th>2</th>\n      <td>0</td>\n      <td>2</td>\n      <td>0-2</td>\n      <td>f5</td>\n      <td>2958.5</td>\n      <td>0-5</td>\n      <td>0-6</td>\n      <td>0-5</td>\n      <td>46.484253</td>\n      <td>124.163277</td>\n      <td>NaN</td>\n    </tr>\n    <tr>\n      <th>3</th>\n      <td>0</td>\n      <td>3</td>\n      <td>0-3</td>\n      <td>f5</td>\n      <td>1046.0</td>\n      <td>0-7</td>\n      <td>0-8</td>\n      <td>0-7</td>\n      <td>4.760910</td>\n      <td>305.142883</td>\n      <td>NaN</td>\n    </tr>\n    <tr>\n      <th>4</th>\n      <td>0</td>\n      <td>4</td>\n      <td>0-4</td>\n      <td>f9</td>\n      <td>2444.5</td>\n      <td>0-9</td>\n      <td>0-10</td>\n      <td>0-9</td>\n      <td>10.248411</td>\n      <td>66.612251</td>\n      <td>NaN</td>\n    </tr>\n    <tr>\n      <th>5</th>\n      <td>0</td>\n      <td>5</td>\n      <td>0-5</td>\n      <td>f1</td>\n      <td>77.5</td>\n      <td>0-11</td>\n      <td>0-12</td>\n      <td>0-11</td>\n      <td>13.523304</td>\n      <td>31.836737</td>\n      <td>NaN</td>\n    </tr>\n    <tr>\n      <th>6</th>\n      <td>0</td>\n      <td>6</td>\n      <td>0-6</td>\n      <td>f7</td>\n      <td>244.5</td>\n      <td>0-13</td>\n      <td>0-14</td>\n      <td>0-13</td>\n      <td>26.004334</td>\n      <td>92.326538</td>\n      <td>NaN</td>\n    </tr>\n    <tr>\n      <th>7</th>\n      <td>0</td>\n      <td>7</td>\n      <td>0-7</td>\n      <td>Leaf</td>\n      <td>NaN</td>\n      <td>NaN</td>\n      <td>NaN</td>\n      <td>NaN</td>\n      <td>-0.168052</td>\n      <td>196.897980</td>\n      <td>NaN</td>\n    </tr>\n    <tr>\n      <th>8</th>\n      <td>0</td>\n      <td>8</td>\n      <td>0-8</td>\n      <td>Leaf</td>\n      <td>NaN</td>\n      <td>NaN</td>\n      <td>NaN</td>\n      <td>NaN</td>\n      <td>-0.088268</td>\n      <td>108.244904</td>\n      <td>NaN</td>\n    </tr>\n    <tr>\n      <th>9</th>\n      <td>0</td>\n      <td>9</td>\n      <td>0-9</td>\n      <td>Leaf</td>\n      <td>NaN</td>\n      <td>NaN</td>\n      <td>NaN</td>\n      <td>NaN</td>\n      <td>-0.063317</td>\n      <td>27.428574</td>\n      <td>NaN</td>\n    </tr>\n    <tr>\n      <th>10</th>\n      <td>0</td>\n      <td>10</td>\n      <td>0-10</td>\n      <td>Leaf</td>\n      <td>NaN</td>\n      <td>NaN</td>\n      <td>NaN</td>\n      <td>NaN</td>\n      <td>0.172778</td>\n      <td>39.183678</td>\n      <td>NaN</td>\n    </tr>\n    <tr>\n      <th>11</th>\n      <td>0</td>\n      <td>11</td>\n      <td>0-11</td>\n      <td>Leaf</td>\n      <td>NaN</td>\n      <td>NaN</td>\n      <td>NaN</td>\n      <td>NaN</td>\n      <td>0.411460</td>\n      <td>10.040817</td>\n      <td>NaN</td>\n    </tr>\n    <tr>\n      <th>12</th>\n      <td>0</td>\n      <td>12</td>\n      <td>0-12</td>\n      <td>Leaf</td>\n      <td>NaN</td>\n      <td>NaN</td>\n      <td>NaN</td>\n      <td>NaN</td>\n      <td>0.003760</td>\n      <td>21.795919</td>\n      <td>NaN</td>\n    </tr>\n    <tr>\n      <th>13</th>\n      <td>0</td>\n      <td>13</td>\n      <td>0-13</td>\n      <td>Leaf</td>\n      <td>NaN</td>\n      <td>NaN</td>\n      <td>NaN</td>\n      <td>NaN</td>\n      <td>0.628781</td>\n      <td>79.836739</td>\n      <td>NaN</td>\n    </tr>\n    <tr>\n      <th>14</th>\n      <td>0</td>\n      <td>14</td>\n      <td>0-14</td>\n      <td>Leaf</td>\n      <td>NaN</td>\n      <td>NaN</td>\n      <td>NaN</td>\n      <td>NaN</td>\n      <td>0.149319</td>\n      <td>12.489797</td>\n      <td>NaN</td>\n    </tr>\n  </tbody>\n</table>\n</div>"
     },
     "execution_count": 15,
     "metadata": {},
     "output_type": "execute_result"
    }
   ],
   "source": [
    "df[df['Tree'] == 0]"
   ],
   "metadata": {
    "collapsed": false,
    "pycharm": {
     "name": "#%%\n"
    }
   }
  }
 ],
 "metadata": {
  "kernelspec": {
   "display_name": "Python 3",
   "language": "python",
   "name": "python3"
  },
  "language_info": {
   "codemirror_mode": {
    "name": "ipython",
    "version": 2
   },
   "file_extension": ".py",
   "mimetype": "text/x-python",
   "name": "python",
   "nbconvert_exporter": "python",
   "pygments_lexer": "ipython2",
   "version": "2.7.6"
  }
 },
 "nbformat": 4,
 "nbformat_minor": 0
}