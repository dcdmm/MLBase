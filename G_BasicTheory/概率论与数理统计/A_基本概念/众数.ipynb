{
 "cells": [
  {
   "cell_type": "code",
   "execution_count": 1,
   "outputs": [
    {
     "data": {
      "text/plain": "ModeResult(mode=array([2]), count=array([2]))"
     },
     "execution_count": 1,
     "metadata": {},
     "output_type": "execute_result"
    }
   ],
   "source": [
    "import  numpy as np\n",
    "from scipy import stats\n",
    "\n",
    "data = np.array([1, 2, 4, 7, 2])\n",
    "stats.mode(data)"
   ],
   "metadata": {
    "collapsed": false,
    "pycharm": {
     "name": "#%%\n"
    }
   }
  },
  {
   "cell_type": "code",
   "execution_count": 2,
   "outputs": [
    {
     "data": {
      "text/plain": "array([[0, 8, 3, 9],\n       [9, 2, 1, 7],\n       [8, 1, 8, 9],\n       [5, 3, 1, 5],\n       [4, 7, 5, 9]])"
     },
     "execution_count": 2,
     "metadata": {},
     "output_type": "execute_result"
    }
   ],
   "source": [
    "a = np.array([[0, 8, 3, 9],\n",
    "               [9, 2, 1, 7],\n",
    "               [8, 1, 8, 9],\n",
    "               [5, 3, 1, 5],\n",
    "               [4, 7, 5, 9]])\n",
    "a"
   ],
   "metadata": {
    "pycharm": {
     "metadata": false,
     "name": "#%%\n"
    }
   }
  },
  {
   "cell_type": "code",
   "execution_count": 3,
   "outputs": [
    {
     "data": {
      "text/plain": "ModeResult(mode=array([[0, 1, 1, 9]]), count=array([[1, 1, 2, 3]]))"
     },
     "execution_count": 3,
     "metadata": {},
     "output_type": "execute_result"
    }
   ],
   "source": [
    "'''\n",
    "Parameters:\n",
    "    a : array_like\n",
    "        n-dimensional array of which to find mode(s).\n",
    "\n",
    "    axis : int or None, optional\n",
    "        Axis along which to operate. Default is 0. If None, compute over the whole array a.\n",
    "\n",
    "Returns:\n",
    "    mode : ndarray\n",
    "        Array of modal values.\n",
    "\n",
    "    count : ndarray\n",
    "        Array of counts for each mode.\n",
    "'''\n",
    "stats.mode(a)"
   ],
   "metadata": {
    "pycharm": {
     "metadata": false,
     "name": "#%%\n"
    }
   }
  },
  {
   "cell_type": "code",
   "execution_count": 4,
   "outputs": [
    {
     "data": {
      "text/plain": "ModeResult(mode=array([[0],\n       [1],\n       [8],\n       [5],\n       [4]]), count=array([[1],\n       [1],\n       [2],\n       [2],\n       [1]]))"
     },
     "execution_count": 4,
     "metadata": {},
     "output_type": "execute_result"
    }
   ],
   "source": [
    "stats.mode(a, axis=1)"
   ],
   "metadata": {
    "pycharm": {
     "metadata": false,
     "name": "#%%\n"
    }
   }
  },
  {
   "cell_type": "code",
   "execution_count": 5,
   "outputs": [
    {
     "data": {
      "text/plain": "ModeResult(mode=array([9]), count=array([4]))"
     },
     "execution_count": 5,
     "metadata": {},
     "output_type": "execute_result"
    }
   ],
   "source": [
    "stats.mode(a, axis=None)\n",
    "\n",
    "\n"
   ],
   "metadata": {
    "pycharm": {
     "metadata": false,
     "name": "#%%\n"
    }
   }
  }
 ],
 "metadata": {
  "language_info": {
   "codemirror_mode": {
    "name": "ipython",
    "version": 2
   },
   "file_extension": ".py",
   "mimetype": "text/x-python",
   "name": "python",
   "nbconvert_exporter": "python",
   "pygments_lexer": "ipython2",
   "version": "2.7.6"
  },
  "kernelspec": {
   "name": "python3",
   "language": "python",
   "display_name": "Python 3"
  },
  "stem_cell": {
   "cell_type": "raw",
   "source": "",
   "metadata": {
    "pycharm": {
     "metadata": false
    }
   }
  }
 },
 "nbformat": 4,
 "nbformat_minor": 0
}