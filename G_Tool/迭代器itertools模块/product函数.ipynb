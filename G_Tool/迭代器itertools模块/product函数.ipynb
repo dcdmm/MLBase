{
 "cells": [
  {
   "cell_type": "code",
   "execution_count": 2,
   "metadata": {
    "collapsed": true,
    "pycharm": {
     "is_executing": false
    }
   },
   "outputs": [
    {
     "name": "stdout",
     "text": [
      "不重复：\n",
      "('a', '1')\n",
      "('a', '2')\n",
      "('b', '1')\n",
      "('b', '2')\n",
      "重复3次：\n",
      "('a', 'a', 'a')\n",
      "('a', 'a', 'b')\n",
      "('a', 'b', 'a')\n",
      "('a', 'b', 'b')\n",
      "('b', 'a', 'a')\n",
      "('b', 'a', 'b')\n",
      "('b', 'b', 'a')\n",
      "('b', 'b', 'b')\n"
     ],
     "output_type": "stream"
    }
   ],
   "source": [
    "import itertools\n",
    "\n",
    "print('不重复：')\n",
    "for i in itertools.product('ab', '12'): # 笛卡尔积\n",
    "    print(i)\n",
    "\n",
    "print('重复3次：')\n",
    "for i in itertools.product('ab', repeat=3): # 默认repeat=1\n",
    "    print(i)"
   ]
  },
  {
   "cell_type": "code",
   "execution_count": null,
   "outputs": [],
   "source": [
    "\n"
   ],
   "metadata": {
    "collapsed": false,
    "pycharm": {
     "name": "#%%\n"
    }
   }
  }
 ],
 "metadata": {
  "kernelspec": {
   "display_name": "Python 3",
   "language": "python",
   "name": "python3"
  },
  "language_info": {
   "codemirror_mode": {
    "name": "ipython",
    "version": 2
   },
   "file_extension": ".py",
   "mimetype": "text/x-python",
   "name": "python",
   "nbconvert_exporter": "python",
   "pygments_lexer": "ipython2",
   "version": "2.7.6"
  },
  "pycharm": {
   "stem_cell": {
    "cell_type": "raw",
    "source": [],
    "metadata": {
     "collapsed": false
    }
   }
  }
 },
 "nbformat": 4,
 "nbformat_minor": 0
}