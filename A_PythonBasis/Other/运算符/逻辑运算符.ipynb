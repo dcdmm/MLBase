{
 "cells": [
  {
   "cell_type": "markdown",
   "source": [
    "* and(布尔\"与\")\n",
    "* or(布尔\"或\")\n",
    "* not(布尔\"非\")\n",
    "* 优先级：() > not > and > or"
   ],
   "metadata": {
    "collapsed": false,
    "pycharm": {
     "name": "#%% md\n"
    }
   }
  },
  {
   "cell_type": "code",
   "execution_count": null,
   "outputs": [],
   "source": [
    "'''\n",
    "x or y,如果x为True则返回x,如果x为False返回y值.\n",
    "因为如果x为True那么or运算就不需要再运算了,因为一个为真则为真,所以返回x的值\n",
    "如果x的值为假,那么or运算的结果取决于y,所以返回y的值。\n",
    "'''\n",
    "print(1 or 2)     # 1\n",
    "print(4 or 0 )    # 4\n",
    "print(0 or 2)     # 2\n",
    "print(0 or 0)     # 0\n",
    "print(0 or False) # False\n",
    "print(0 or [])    # []"
   ],
   "metadata": {
    "collapsed": false,
    "pycharm": {
     "name": "#%%\n"
    }
   }
  },
  {
   "cell_type": "code",
   "execution_count": 19,
   "outputs": [
    {
     "name": "stdout",
     "text": [
      "2\n0\n0\n0\n[]\n\n"
     ],
     "output_type": "stream"
    }
   ],
   "source": [
    "'''\n",
    "x and y,如果x为True则返回y值.如果x为False则返回x值.\n",
    "因为如果x的值为True,and的运算不会结束,会继续看y的值,所以此时真与假取决于y的值\n",
    "如果x为假,那么and运算就会结束运算过程了,因为有一个为假则and为假,所以返回x的值\n",
    "'''\n",
    "print(1 and 2)  # 2\n",
    "print(3 and 0)  # 0\n",
    "print(0 and 2)  # 0\n",
    "print(0 and 0)  # 0\n",
    "print([] and 4) # []\n",
    "print(\"\" and 5) # \"\""
   ],
   "metadata": {
    "pycharm": {
     "metadata": false,
     "name": "#%%\n",
     "is_executing": false
    }
   }
  },
  {
   "cell_type": "code",
   "execution_count": 5,
   "outputs": [
    {
     "name": "stdout",
     "text": [
      "True\n"
     ],
     "output_type": "stream"
    }
   ],
   "source": [
    "print(1 > 2 and 3 or 4 and 3 < 2 or not 4 > 5) "
   ],
   "metadata": {
    "pycharm": {
     "metadata": false,
     "name": "#%%\n",
     "is_executing": false
    }
   }
  }
 ],
 "metadata": {
  "language_info": {
   "codemirror_mode": {
    "name": "ipython",
    "version": 2
   },
   "file_extension": ".py",
   "mimetype": "text/x-python",
   "name": "python",
   "nbconvert_exporter": "python",
   "pygments_lexer": "ipython2",
   "version": "2.7.6"
  },
  "kernelspec": {
   "name": "python3",
   "language": "python",
   "display_name": "Python 3"
  },
  "pycharm": {
   "stem_cell": {
    "cell_type": "raw",
    "source": [],
    "metadata": {
     "collapsed": false
    }
   }
  }
 },
 "nbformat": 4,
 "nbformat_minor": 0
}