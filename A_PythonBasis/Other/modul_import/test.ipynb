{
 "cells": [
  {
   "cell_type": "code",
   "execution_count": 50,
   "metadata": {
    "collapsed": true,
    "pycharm": {
     "name": "#%%\n"
    }
   },
   "outputs": [],
   "source": [
    "# >import<\n",
    "# 1. 若源文件发生改变,运行test.py文件不能立马得到改变,需重启jupyter notebook\n",
    "# 2. 可以通过ctrl + 鼠标左击 进入导入库的源代码\n",
    "\n",
    "# >%run<\n",
    "# 1. 若源文件发生改变,运行test.py文件可以立马得到改变\n",
    "# 2. 不可以通过ctrl + 鼠标左击 进入导入库的源代码"
   ]
  },
  {
   "cell_type": "code",
   "execution_count": 51,
   "metadata": {
    "pycharm": {
     "name": "#%%\n"
    }
   },
   "outputs": [
    {
     "name": "stdout",
     "output_type": "stream",
     "text": [
      "18\n"
     ]
    }
   ],
   "source": [
    "# ★★★★★结合2者的优势(必须>%run<语句在>import<语句的下面)\n",
    "from test_class0 import Rect_Area  # 同目录结构下模块的相对导入\n",
    "from test_class1 import Rect_volumes\n",
    "%run test_class0.py\n",
    "%run test_class1.py\n",
    "\n",
    "\n",
    "area = Rect_Area(1, 2)\n",
    "volum = Rect_volumes(area, 3)\n",
    "\n",
    "print(volum.volumes())\n"
   ]
  },
  {
   "cell_type": "code",
   "execution_count": 52,
   "outputs": [],
   "source": [
    "# 只能导入该文件,不能导入该文件内部方法或类\n",
    "%run dir_test\\test2.py\n",
    "import dir_test.test2"
   ],
   "metadata": {
    "collapsed": false,
    "pycharm": {
     "name": "#%%\n"
    }
   }
  },
  {
   "cell_type": "code",
   "execution_count": 53,
   "outputs": [
    {
     "name": "stdout",
     "output_type": "stream",
     "text": [
      "hello\n"
     ]
    }
   ],
   "source": [
    "print_hello()"
   ],
   "metadata": {
    "collapsed": false,
    "pycharm": {
     "name": "#%%\n"
    }
   }
  },
  {
   "cell_type": "code",
   "execution_count": 53,
   "outputs": [],
   "source": [],
   "metadata": {
    "collapsed": false,
    "pycharm": {
     "name": "#%%\n"
    }
   }
  }
 ],
 "metadata": {
  "kernelspec": {
   "display_name": "Python 3",
   "language": "python",
   "name": "python3"
  },
  "language_info": {
   "codemirror_mode": {
    "name": "ipython",
    "version": 3
   },
   "file_extension": ".py",
   "mimetype": "text/x-python",
   "name": "python",
   "nbconvert_exporter": "python",
   "pygments_lexer": "ipython3",
   "version": "3.8.5"
  }
 },
 "nbformat": 4,
 "nbformat_minor": 1
}