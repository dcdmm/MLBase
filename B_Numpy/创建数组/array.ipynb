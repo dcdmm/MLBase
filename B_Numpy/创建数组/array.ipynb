{
 "cells": [
  {
   "cell_type": "code",
   "metadata": {
    "collapsed": true,
    "pycharm": {
     "name": "#%%\n"
    },
    "ExecuteTime": {
     "end_time": "2024-10-25T04:03:16.143784Z",
     "start_time": "2024-10-25T04:03:16.140533Z"
    }
   },
   "source": [
    "import numpy as np"
   ],
   "outputs": [],
   "execution_count": 25
  },
  {
   "cell_type": "code",
   "metadata": {
    "pycharm": {
     "name": "#%%\n"
    },
    "ExecuteTime": {
     "end_time": "2024-10-25T04:03:16.178055Z",
     "start_time": "2024-10-25T04:03:16.174412Z"
    }
   },
   "source": [
    "arr_scalar = np.array(3)\n",
    "print(type(arr_scalar))\n",
    "print(arr_scalar)"
   ],
   "outputs": [
    {
     "name": "stdout",
     "output_type": "stream",
     "text": [
      "<class 'numpy.ndarray'>\n",
      "3\n"
     ]
    }
   ],
   "execution_count": 26
  },
  {
   "cell_type": "code",
   "metadata": {
    "pycharm": {
     "name": "#%%\n"
    },
    "ExecuteTime": {
     "end_time": "2024-10-25T04:03:16.210664Z",
     "start_time": "2024-10-25T04:03:16.207331Z"
    }
   },
   "source": [
    "arr_vector = np.array(range(10), dtype=np.int32)\n",
    "'''\n",
    "object : array_like\n",
    "    An array, any object exposing the array interface, an object whose\n",
    "    __array__ method returns an array, or any (nested) sequence.\n",
    "\n",
    "dtype : data-type, optional\n",
    "    The desired data-type for the array. If not given, then the type will be determined as the minimum type required to hold the objects in the sequence. \n",
    "\n",
    "ndmin : int, optional\n",
    "    Specifies the minimum number of dimensions that the resulting\n",
    "    array should have.  Ones will be pre-pended to the shape as\n",
    "    needed to meet this requirement.   \n",
    "'''\n",
    "print(arr_vector)"
   ],
   "outputs": [
    {
     "name": "stdout",
     "output_type": "stream",
     "text": [
      "[0 1 2 3 4 5 6 7 8 9]\n"
     ]
    }
   ],
   "execution_count": 27
  },
  {
   "cell_type": "code",
   "metadata": {
    "pycharm": {
     "name": "#%%\n"
    },
    "ExecuteTime": {
     "end_time": "2024-10-25T04:03:16.243941Z",
     "start_time": "2024-10-25T04:03:16.240363Z"
    }
   },
   "source": [
    "arr_lst = np.array([1, 2, 3])\n",
    "print(arr_lst.ndim)\n",
    "print(arr_lst)\n",
    "print(arr_lst.T)  # nidim=1的数组,转置不变"
   ],
   "outputs": [
    {
     "name": "stdout",
     "output_type": "stream",
     "text": [
      "1\n",
      "[1 2 3]\n",
      "[1 2 3]\n"
     ]
    }
   ],
   "execution_count": 28
  },
  {
   "cell_type": "code",
   "metadata": {
    "pycharm": {
     "metadata": false,
     "name": "#%%\n"
    },
    "ExecuteTime": {
     "end_time": "2024-10-25T04:03:16.284640Z",
     "start_time": "2024-10-25T04:03:16.281230Z"
    }
   },
   "source": [
    "arr_matrix = np.array([[1, 2, 3],\n",
    "                       [2, 3, 4]])\n",
    "print(arr_matrix.shape)  # 2 * 3的矩阵\n",
    "print(arr_matrix)"
   ],
   "outputs": [
    {
     "name": "stdout",
     "output_type": "stream",
     "text": [
      "(2, 3)\n",
      "[[1 2 3]\n",
      " [2 3 4]]\n"
     ]
    }
   ],
   "execution_count": 29
  },
  {
   "cell_type": "code",
   "metadata": {
    "pycharm": {
     "name": "#%%\n"
    },
    "ExecuteTime": {
     "end_time": "2024-10-25T04:03:16.338350Z",
     "start_time": "2024-10-25T04:03:16.327332Z"
    }
   },
   "source": [
    "a = [1, 2, 3, 4]\n",
    "b = ['a', 'b', 'c', 'd', 'e']\n",
    "arr3 = np.array([a, b])\n",
    "print(arr3)\n",
    "print(arr3.ndim)\n",
    "print(arr3[0])  # [a, b]不是方阵!a/b被视为一个整体"
   ],
   "outputs": [
    {
     "ename": "ValueError",
     "evalue": "setting an array element with a sequence. The requested array has an inhomogeneous shape after 1 dimensions. The detected shape was (2,) + inhomogeneous part.",
     "output_type": "error",
     "traceback": [
      "\u001B[1;31m---------------------------------------------------------------------------\u001B[0m",
      "\u001B[1;31mValueError\u001B[0m                                Traceback (most recent call last)",
      "Cell \u001B[1;32mIn[30], line 3\u001B[0m\n\u001B[0;32m      1\u001B[0m a \u001B[38;5;241m=\u001B[39m [\u001B[38;5;241m1\u001B[39m, \u001B[38;5;241m2\u001B[39m, \u001B[38;5;241m3\u001B[39m, \u001B[38;5;241m4\u001B[39m]\n\u001B[0;32m      2\u001B[0m b \u001B[38;5;241m=\u001B[39m [\u001B[38;5;124m'\u001B[39m\u001B[38;5;124ma\u001B[39m\u001B[38;5;124m'\u001B[39m, \u001B[38;5;124m'\u001B[39m\u001B[38;5;124mb\u001B[39m\u001B[38;5;124m'\u001B[39m, \u001B[38;5;124m'\u001B[39m\u001B[38;5;124mc\u001B[39m\u001B[38;5;124m'\u001B[39m, \u001B[38;5;124m'\u001B[39m\u001B[38;5;124md\u001B[39m\u001B[38;5;124m'\u001B[39m, \u001B[38;5;124m'\u001B[39m\u001B[38;5;124me\u001B[39m\u001B[38;5;124m'\u001B[39m]\n\u001B[1;32m----> 3\u001B[0m arr3 \u001B[38;5;241m=\u001B[39m np\u001B[38;5;241m.\u001B[39marray([a, b])\n\u001B[0;32m      4\u001B[0m \u001B[38;5;28mprint\u001B[39m(arr3)\n\u001B[0;32m      5\u001B[0m \u001B[38;5;28mprint\u001B[39m(arr3\u001B[38;5;241m.\u001B[39mndim)\n",
      "\u001B[1;31mValueError\u001B[0m: setting an array element with a sequence. The requested array has an inhomogeneous shape after 1 dimensions. The detected shape was (2,) + inhomogeneous part."
     ]
    }
   ],
   "execution_count": 30
  },
  {
   "cell_type": "code",
   "metadata": {
    "pycharm": {
     "name": "#%%\n"
    },
    "ExecuteTime": {
     "end_time": "2024-10-25T04:03:24.389886Z",
     "start_time": "2024-10-25T04:03:24.386333Z"
    }
   },
   "source": [
    "a1 = [0, 1, 2, 3, np.nan]\n",
    "b1 = ['a', 'b', 'c', 'd', 'e']\n",
    "arr4 = np.array([a1, b1])\n",
    "print(arr4)\n",
    "# array元素只能有一种数据类型\n",
    "print(arr4.dtype)  # dtype被综合成Unicode类型"
   ],
   "outputs": [
    {
     "name": "stdout",
     "output_type": "stream",
     "text": [
      "[['0' '1' '2' '3' 'nan']\n",
      " ['a' 'b' 'c' 'd' 'e']]\n",
      "<U32\n"
     ]
    }
   ],
   "execution_count": 31
  },
  {
   "cell_type": "code",
   "metadata": {
    "pycharm": {
     "name": "#%%\n"
    },
    "ExecuteTime": {
     "end_time": "2024-10-25T04:03:24.986705Z",
     "start_time": "2024-10-25T04:03:24.982948Z"
    }
   },
   "source": [
    "class A:\n",
    "    pass\n",
    "\n",
    "\n",
    "class B:\n",
    "    pass\n",
    "\n",
    "\n",
    "a = A()\n",
    "b = B()\n",
    "\n",
    "arr_op = np.array([a, b])\n",
    "print(arr_op.dtype)  # Object(对象)类型\n",
    "print(arr_op)"
   ],
   "outputs": [
    {
     "name": "stdout",
     "output_type": "stream",
     "text": [
      "object\n",
      "[<__main__.A object at 0x000001BE049D3990>\n",
      " <__main__.B object at 0x000001BE04993BD0>]\n"
     ]
    }
   ],
   "execution_count": 32
  },
  {
   "cell_type": "code",
   "metadata": {
    "pycharm": {
     "metadata": false,
     "name": "#%%\n"
    },
    "ExecuteTime": {
     "end_time": "2024-10-25T04:03:25.429986Z",
     "start_time": "2024-10-25T04:03:25.425819Z"
    }
   },
   "source": [
    "lst = ['1', '2', '3', '3', 5]\n",
    "\n",
    "# 可在数组创建的时将数字型字符串转换为float\n",
    "# 可在数组创建的时升高数组维度\n",
    "arr_re = np.array(lst, dtype=np.float64, ndmin=3).T\n",
    "\n",
    "print(arr_re.dtype)\n",
    "print(arr_re)"
   ],
   "outputs": [
    {
     "name": "stdout",
     "output_type": "stream",
     "text": [
      "float64\n",
      "[[[1.]]\n",
      "\n",
      " [[2.]]\n",
      "\n",
      " [[3.]]\n",
      "\n",
      " [[3.]]\n",
      "\n",
      " [[5.]]]\n"
     ]
    }
   ],
   "execution_count": 33
  },
  {
   "cell_type": "code",
   "metadata": {
    "pycharm": {
     "metadata": false,
     "name": "#%%\n"
    },
    "ExecuteTime": {
     "end_time": "2024-10-25T04:03:25.780777Z",
     "start_time": "2024-10-25T04:03:25.778146Z"
    }
   },
   "source": [
    "dic = {'a': 1, 'b': 2, 'c': 3, 'd': 4}"
   ],
   "outputs": [],
   "execution_count": 34
  },
  {
   "cell_type": "code",
   "metadata": {
    "pycharm": {
     "name": "#%%\n"
    },
    "ExecuteTime": {
     "end_time": "2024-10-25T04:03:26.138280Z",
     "start_time": "2024-10-25T04:03:26.134280Z"
    }
   },
   "source": [
    "np.array(dic)  # 注意:dic被视为一个整体"
   ],
   "outputs": [
    {
     "data": {
      "text/plain": [
       "array({'a': 1, 'b': 2, 'c': 3, 'd': 4}, dtype=object)"
      ]
     },
     "execution_count": 35,
     "metadata": {},
     "output_type": "execute_result"
    }
   ],
   "execution_count": 35
  },
  {
   "cell_type": "code",
   "metadata": {
    "pycharm": {
     "name": "#%%\n"
    },
    "ExecuteTime": {
     "end_time": "2024-10-25T04:03:26.491323Z",
     "start_time": "2024-10-25T04:03:26.486981Z"
    }
   },
   "source": [
    "np.array(dic.values())  # 注意:dic.values被视为一个整体"
   ],
   "outputs": [
    {
     "data": {
      "text/plain": [
       "array(dict_values([1, 2, 3, 4]), dtype=object)"
      ]
     },
     "execution_count": 36,
     "metadata": {},
     "output_type": "execute_result"
    }
   ],
   "execution_count": 36
  },
  {
   "cell_type": "code",
   "metadata": {
    "pycharm": {
     "name": "#%%\n"
    },
    "ExecuteTime": {
     "end_time": "2024-10-25T04:03:26.781191Z",
     "start_time": "2024-10-25T04:03:26.777581Z"
    }
   },
   "source": [
    "np.array(dic.keys())  # 注意:dic.keys()被视为一个整体"
   ],
   "outputs": [
    {
     "data": {
      "text/plain": [
       "array(dict_keys(['a', 'b', 'c', 'd']), dtype=object)"
      ]
     },
     "execution_count": 37,
     "metadata": {},
     "output_type": "execute_result"
    }
   ],
   "execution_count": 37
  },
  {
   "cell_type": "code",
   "metadata": {
    "collapsed": false,
    "pycharm": {
     "name": "#%%\n"
    },
    "ExecuteTime": {
     "end_time": "2024-10-25T04:03:27.349659Z",
     "start_time": "2024-10-25T04:03:27.344653Z"
    }
   },
   "source": [
    "np.array(list(dic.keys()))  # 可能是你想要的结果"
   ],
   "outputs": [
    {
     "data": {
      "text/plain": [
       "array(['a', 'b', 'c', 'd'], dtype='<U1')"
      ]
     },
     "execution_count": 38,
     "metadata": {},
     "output_type": "execute_result"
    }
   ],
   "execution_count": 38
  },
  {
   "metadata": {},
   "cell_type": "code",
   "outputs": [],
   "execution_count": null,
   "source": ""
  }
 ],
 "metadata": {
  "kernelspec": {
   "display_name": "Python 3 (ipykernel)",
   "language": "python",
   "name": "python3"
  },
  "language_info": {
   "codemirror_mode": {
    "name": "ipython",
    "version": 3
   },
   "file_extension": ".py",
   "mimetype": "text/x-python",
   "name": "python",
   "nbconvert_exporter": "python",
   "pygments_lexer": "ipython3",
   "version": "3.11.7"
  }
 },
 "nbformat": 4,
 "nbformat_minor": 1
}
