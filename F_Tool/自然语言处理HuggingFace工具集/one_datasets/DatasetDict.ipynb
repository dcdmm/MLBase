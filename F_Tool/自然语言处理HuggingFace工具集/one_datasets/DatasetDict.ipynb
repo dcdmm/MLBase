{
 "cells": [
  {
   "cell_type": "code",
   "execution_count": 27,
   "metadata": {
    "collapsed": true
   },
   "outputs": [],
   "source": [
    "from datasets import load_dataset, DatasetDict\n",
    "from datasets import Dataset\n",
    "import pyarrow as pa"
   ]
  },
  {
   "cell_type": "code",
   "execution_count": 28,
   "metadata": {
    "collapsed": false,
    "pycharm": {
     "name": "#%%\n"
    }
   },
   "outputs": [
    {
     "data": {
      "text/plain": [
       "DatasetDict({\n",
       "    train: Dataset({\n",
       "        features: ['text', 'label'],\n",
       "        num_rows: 16000\n",
       "    })\n",
       "    validation: Dataset({\n",
       "        features: ['text', 'label'],\n",
       "        num_rows: 2000\n",
       "    })\n",
       "    test: Dataset({\n",
       "        features: ['text', 'label'],\n",
       "        num_rows: 2000\n",
       "    })\n",
       "})"
      ]
     },
     "execution_count": 28,
     "metadata": {},
     "output_type": "execute_result"
    }
   ],
   "source": [
    "'''\n",
    "Load a dataset\n",
    "\n",
    "- if ``path`` is a canonical dataset on the HF Hub (ex: `glue`, `squad`)\n",
    "              -> load the dataset builder from the dataset script in the github repository at huggingface/datasets\n",
    "              e.g. ``'squad'`` or ``'glue'``.\n",
    "\n",
    "- if ``path`` is a local directory (but doesn't contain a dataset script)\n",
    "              -> load a generic dataset builder (csv, json, text etc.) based on the content of the directory\n",
    "              e.g. ``'./path/to/directory/with/my/csv/data'``.\n",
    "'''\n",
    "dataset_all = load_dataset(path='dair-ai/emotion')  # 从Hugging Face加载dair-ai/emotion数据集\n",
    "# 类型:datasets.dataset_dict.DatasetDict\n",
    "dataset_all  # 类似Python字典"
   ]
  },
  {
   "cell_type": "code",
   "execution_count": 29,
   "metadata": {},
   "outputs": [
    {
     "data": {
      "text/plain": [
       "DatasetDict({\n",
       "    train: Dataset({\n",
       "        features: ['sentence1', 'sentence2', 'label', 'idx'],\n",
       "        num_rows: 3668\n",
       "    })\n",
       "    validation: Dataset({\n",
       "        features: ['sentence1', 'sentence2', 'label', 'idx'],\n",
       "        num_rows: 408\n",
       "    })\n",
       "    test: Dataset({\n",
       "        features: ['sentence1', 'sentence2', 'label', 'idx'],\n",
       "        num_rows: 1725\n",
       "    })\n",
       "})"
      ]
     },
     "execution_count": 29,
     "metadata": {},
     "output_type": "execute_result"
    }
   ],
   "source": [
    "load_dataset(path='glue', name='mrpc')  # 从Hugging Face加载glue下的mrpc数据集"
   ]
  },
  {
   "cell_type": "code",
   "execution_count": 30,
   "metadata": {
    "collapsed": false,
    "pycharm": {
     "name": "#%%\n"
    }
   },
   "outputs": [
    {
     "data": {
      "text/plain": [
       "{'train': (16000, 2), 'validation': (2000, 2), 'test': (2000, 2)}"
      ]
     },
     "execution_count": 30,
     "metadata": {},
     "output_type": "execute_result"
    }
   ],
   "source": [
    "dataset_all.shape"
   ]
  },
  {
   "cell_type": "code",
   "execution_count": 31,
   "metadata": {
    "collapsed": false,
    "pycharm": {
     "name": "#%%\n"
    }
   },
   "outputs": [
    {
     "data": {
      "text/plain": [
       "{'train': MemoryMappedTable\n",
       " text: string\n",
       " label: int64\n",
       " ----\n",
       " text: [[\"i didnt feel humiliated\",\"i can go from feeling so hopeless to so damned hopeful just from being around someone who cares and is awake\",\"im grabbing a minute to post i feel greedy wrong\",\"i am ever feeling nostalgic about the fireplace i will know that it is still on the property\",\"i am feeling grouchy\",...,\"i should have been depressed but i was actually feeling inspired\",\"i feel like not enough people my age actually think that most are pretty devastated that their s have come and gone\",\"i get home i laze around in my pajamas feeling grouchy\",\"i am feeling pretty homesick this weekend\",\"i started out feeling really optimistic and driven for this paper coz it was gonna teach me the meaning and ways of being a leader\"],[\"i need to do the best i possibly can do and even when i get out at i feel too listless to study like right now\",\"i drove us to the car parts place and terry feels like im safe to drive again so yippee\",\"i am thankful for feeling useful\",\"i feel like even though i dont buy into societys ideas about what a woman should look like i am still constantly unhappy with myself\",\"i have no idea how i feel beyond wanting to be with my beloved\",...,\"i feel so low and i havent felt this low in a while so it sucks\",\"i absolutely love this skinny fiber it is doing wonders for me and i feel fabulous\",\"i feel as if im in some strange catholic vortex\",\"i have a feeling that many of you will be surprised to learn that after nearly years it s time for me to say goodbye as your guide to entertaining\",\"i am so connected with families that are not my own and i love them so much and so i feel blessed to find a family to be connected with on so many different levels\"],...,[\"i feel like not caring\",\"i are gay and feel assaulted by the right wing\",\"i think all acts of unkindness are a result of some form of selfishness because being unkind requires a lack of concern for the another person and some distorted feeling of gain by being unkind\",\"i will never make him feel disliked and like he is a bad kid if he is only acting according to how i raised him and he is acting liek a year old child\",\"i think he is the next best because i see a lot of level and s lol i m not looking down on them nor am i feeling glad that they got bad results because then i would stand out why should i anyway\",...,\"i don t know how i feel i should be bothered\",\"i struggled with feelings of guilt as i took very gentle care of myself during my recovery and sometimes even now\",\"ive started to delve deep into myself and evaluate everything that has made me feel insecure or unworthy\",\"i was also feeling anxious around some of the people sitting in the waiting area\",\"i feel i am back to my innocent and carefree self\"],[\"i feel my hands being weaved with yours such delicate intimacy being shared by the hands of two people who shares so much secret for the world to be mystified\",\"i still feel like im damaged goods and that affects everything that i do in my life\",\"i feel like i havent been taking enough risks and im not respected by my teacher because of it\",\"i feel a bit more confident about my kicking in karate and my diagonal cuts in kendo though much work remains\",\"i would picture that rock hitting that frog and it s body being carried downstream and i would feel ashamed\",...,\"i just had a very brief time in the beanbag and i said to anna that i feel like i have been beaten up\",\"i am now turning and i feel pathetic that i am still waiting tables and subbing with a teaching degree\",\"i feel strong and good overall\",\"i feel like this was such a rude comment and im glad that t\",\"i know a lot but i feel so stupid because i can not portray it\"]]\n",
       " label: [[0,0,3,2,3,...,1,0,3,0,1],[0,1,1,0,2,...,0,1,5,5,1],...,[2,4,3,0,1,...,3,2,4,4,1],[2,0,1,1,0,...,0,0,1,3,0]],\n",
       " 'validation': MemoryMappedTable\n",
       " text: string\n",
       " label: int64\n",
       " ----\n",
       " text: [[\"im feeling quite sad and sorry for myself but ill snap out of it soon\",\"i feel like i am still looking at a blank canvas blank pieces of paper\",\"i feel like a faithful servant\",\"i am just feeling cranky and blue\",\"i can have for a treat or if i am feeling festive\",...,\"i almost feel hesitant to write about this it s a topic that s so near and dear to my heart\",\"i struggle with those pressures when i don t feel like pulling myself together when i want to toss a scarf over my messy hair and grab some milk at the store when i want to snarl at someone rather than do racism for the umpteenth time\",\"i feel as if there is anyone who really understands the insincere motives of females its me\",\"i know jack and he doesnt give up on men easy he just dumps them when he feels successful\",\"i feel shy now\"],[\"i feel and im amazed of how often i think i need to save the world\",\"i feel a cold or sore throat coming on i simply use a onguard regime to nip it in the bud\",\"i was feeling calmer and more trusting on his restraints that he was helplessly trying to remove\",\"i go around people and i act normal but it feels strange\",\"i tried to pretend that it was normal and unfortunately it was normal to feel unloved and afraid that terrible things would happen if i didn t smile and play along\",...,\"im having ssa examination tomorrow in the morning im quite well prepared for the coming exam and somehow i feel numb towards exam because in life there is much more important things than exam\",\"i constantly worry about their fight against nature as they push the limits of their inner bodies for the determination of their outer existence but i somehow feel reassured\",\"i feel its important to share this info for those that experience the same thing\",\"i truly feel that if you are passionate enough about something and stay true to yourself you will succeed\",\"i feel like i just wanna buy any cute make up i see online or even the one\"]]\n",
       " label: [[0,0,2,3,1,...,4,0,3,1,4],[5,3,1,5,0,...,0,1,1,1,1]],\n",
       " 'test': MemoryMappedTable\n",
       " text: string\n",
       " label: int64\n",
       " ----\n",
       " text: [[\"im feeling rather rotten so im not very ambitious right now\",\"im updating my blog because i feel shitty\",\"i never make her separate from me because i don t ever want her to feel like i m ashamed with her\",\"i left with my bouquet of red and yellow tulips under my arm feeling slightly more optimistic than when i arrived\",\"i was feeling a little vain when i did this one\",...,\"i feel less shy about exploring roles in more physical ways\",\"i replied feeling strange at giving the orders\",\"i chant the invocation and feel his force supporting me as i teach\",\"i feel like he moves sleep i am glad i enjoyed that week of good sleep that i mentioned because i have a feeling that is over with now\",\"i am really hurt and i feel unimportant and that sucks\"],[\"i grew up around this feeling living only minutes away from the gorgeous atlantic ocean in brazil so its probably no surprise i grew fond of the ocean\",\"i feel honoured today olu jacobs i feel honoured today olu jacobs a href http momo\",\"i made some chilli oil because it s monday and i was feeling dangerous\",\"i started walking again yesterday and it feels amazing\",\"ive also been feeling somewhat emo irritable lately\",...,\"i just keep feeling like someone is being unkind to me and doing me wrong and then all i can think of doing is to get back at them and the people they are close to\",\"im feeling a little cranky negative after this doctors appointment\",\"i feel that i am useful to my people and that gives me a great feeling of achievement\",\"im feeling more comfortable with derby i feel as though i can start to step out my shell\",\"i feel all weird when i have to meet w people i text but like dont talk face to face w\"]]\n",
       " label: [[0,0,0,1,0,...,4,5,1,1,0],[1,1,3,1,3,...,3,3,1,1,4]]}"
      ]
     },
     "execution_count": 31,
     "metadata": {},
     "output_type": "execute_result"
    }
   ],
   "source": [
    "dataset_all.data"
   ]
  },
  {
   "cell_type": "code",
   "execution_count": 32,
   "metadata": {
    "collapsed": false,
    "pycharm": {
     "name": "#%%\n"
    }
   },
   "outputs": [
    {
     "data": {
      "text/plain": [
       "{'train': ['text', 'label'],\n",
       " 'validation': ['text', 'label'],\n",
       " 'test': ['text', 'label']}"
      ]
     },
     "execution_count": 32,
     "metadata": {},
     "output_type": "execute_result"
    }
   ],
   "source": [
    "dataset_all.column_names"
   ]
  },
  {
   "cell_type": "code",
   "execution_count": 33,
   "metadata": {
    "collapsed": false,
    "pycharm": {
     "name": "#%%\n"
    }
   },
   "outputs": [
    {
     "data": {
      "text/plain": [
       "DatasetDict({\n",
       "    train: Dataset({\n",
       "        features: ['label'],\n",
       "        num_rows: 16000\n",
       "    })\n",
       "    validation: Dataset({\n",
       "        features: ['label'],\n",
       "        num_rows: 2000\n",
       "    })\n",
       "    test: Dataset({\n",
       "        features: ['label'],\n",
       "        num_rows: 2000\n",
       "    })\n",
       "})"
      ]
     },
     "execution_count": 33,
     "metadata": {},
     "output_type": "execute_result"
    }
   ],
   "source": [
    "# Remove one or several column(s) from each split in the dataset\n",
    "dataset_all.remove_columns(['text'])  # train,validation,test都改变"
   ]
  },
  {
   "cell_type": "code",
   "execution_count": 34,
   "metadata": {
    "collapsed": false,
    "pycharm": {
     "name": "#%%\n"
    }
   },
   "outputs": [
    {
     "data": {
      "text/plain": [
       "DatasetDict({\n",
       "    train1: Dataset({\n",
       "        features: ['text', 'label'],\n",
       "        num_rows: 1000\n",
       "    })\n",
       "    validation1: Dataset({\n",
       "        features: ['text', 'label'],\n",
       "        num_rows: 100\n",
       "    })\n",
       "    test1: Dataset({\n",
       "        features: ['text', 'label'],\n",
       "        num_rows: 100\n",
       "    })\n",
       "})"
      ]
     },
     "execution_count": 34,
     "metadata": {},
     "output_type": "execute_result"
    }
   ],
   "source": [
    "train_dataset_arrow = Dataset(pa.Table.from_pydict(dataset_all['train'][:1000]))\n",
    "validation_dataset_arrow = Dataset(pa.Table.from_pydict(dataset_all['validation'][:100]))\n",
    "test_dataset_arrow = Dataset(pa.Table.from_pydict(dataset_all['test'][:100]))\n",
    "\n",
    "# 从Dataset构造新的字典\n",
    "new_dataset_all = DatasetDict({'train1': train_dataset_arrow,\n",
    "                               'validation1': validation_dataset_arrow,\n",
    "                               'test1': test_dataset_arrow})\n",
    "new_dataset_all"
   ]
  }
 ],
 "metadata": {
  "kernelspec": {
   "display_name": "nlp_base",
   "language": "python",
   "name": "python3"
  },
  "language_info": {
   "codemirror_mode": {
    "name": "ipython",
    "version": 2
   },
   "file_extension": ".py",
   "mimetype": "text/x-python",
   "name": "python",
   "nbconvert_exporter": "python",
   "pygments_lexer": "ipython2",
   "version": "3.10.12"
  }
 },
 "nbformat": 4,
 "nbformat_minor": 0
}
