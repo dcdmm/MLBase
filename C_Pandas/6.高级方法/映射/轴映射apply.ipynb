{
 "cells": [
  {
   "cell_type": "markdown",
   "source": [
    "## 函数映射apply\n",
    "* Seris每个单独元素应用于函数\n",
    "* 沿DataFrame的轴(index或columns)应用与函数"
   ],
   "metadata": {
    "pycharm": {
     "metadata": false,
     "name": "#%% md\n"
    }
   }
  },
  {
   "cell_type": "code",
   "execution_count": 1,
   "metadata": {
    "collapsed": true
   },
   "outputs": [],
   "source": [
    "import numpy as np\n",
    "import pandas as pd"
   ]
  },
  {
   "cell_type": "code",
   "execution_count": 2,
   "outputs": [
    {
     "data": {
      "text/plain": "London      20\nNew York    21\nHelsinki    12\ndtype: int64"
     },
     "execution_count": 2,
     "metadata": {},
     "output_type": "execute_result"
    }
   ],
   "source": [
    "'''\n",
    "func : function\n",
    "    Function to apply to each column or row.\n",
    "    \n",
    "axis : {0 or 'index', 1 or 'columns'}, default 0\n",
    "    Axis along which the function is applied:\n",
    "\n",
    "    * 0 or 'index': apply function to each column.\n",
    "    * 1 or 'columns': apply function to each row.\n",
    "\n",
    "result_type : {'expand', 'reduce', 'broadcast', None}, default None\n",
    "    These only act when ``axis=1`` (columns):\n",
    "\n",
    "    * 'expand' : list-like results will be turned into columns.\n",
    "    * 'reduce' : returns a Series if possible rather than expanding\n",
    "      list-like results. This is the opposite of 'expand'.\n",
    "    * 'broadcast' : results will be broadcast to the original shape\n",
    "      of the DataFrame, the original index and columns will be\n",
    "      retained.\n",
    "\n",
    "    The default behaviour (None) depends on the return value of the\n",
    "    applied function: list-like results will be returned as a Series\n",
    "    of those. However if the apply function returns a Series these\n",
    "    are expanded to columns.\n",
    "\n",
    "**kwds\n",
    "    Additional keyword arguments to pass as keywords arguments to\n",
    "    `func`.\n",
    "'''\n",
    "s = pd.Series([20, 21, 12],\n",
    "              index=['London', 'New York', 'Helsinki'])\n",
    "s"
   ],
   "metadata": {
    "collapsed": false,
    "pycharm": {
     "name": "#%%\n"
    }
   }
  },
  {
   "cell_type": "code",
   "execution_count": 3,
   "outputs": [],
   "source": [
    "def square(x):\n",
    "    # 若作用于Series,则x为Series的单个元素\n",
    "    # 返回值再将经过函数返回值拼接\n",
    "\n",
    "    # 若作用于DataFrame,则x为DataFrame的行或列(根据axis参数指定)\n",
    "    # 返回值再将经过函数返回值拼接\n",
    "    print('x:', x)\n",
    "    return x ** 2\n",
    "\n",
    "\n",
    "index = iter(list(s.index))\n",
    "\n",
    "\n",
    "def classify(x):\n",
    "    print('x:', x)\n",
    "    element_index = next(index)  # 元素x对应的index\n",
    "    print(\"element_index:\", element_index)\n",
    "    if abs(x) > 16:\n",
    "        return x\n",
    "    else:\n",
    "        return None  # 返回值若为None,则返回NaN"
   ],
   "metadata": {
    "pycharm": {
     "metadata": false,
     "name": "#%%\n"
    }
   }
  },
  {
   "cell_type": "code",
   "execution_count": 4,
   "outputs": [
    {
     "name": "stdout",
     "output_type": "stream",
     "text": [
      "x: 20\n",
      "x: 21\n",
      "x: 12\n"
     ]
    },
    {
     "data": {
      "text/plain": "London      400\nNew York    441\nHelsinki    144\ndtype: int64"
     },
     "execution_count": 4,
     "metadata": {},
     "output_type": "execute_result"
    }
   ],
   "source": [
    "s.apply(func=square)"
   ],
   "metadata": {
    "pycharm": {
     "metadata": false,
     "name": "#%% \n"
    }
   }
  },
  {
   "cell_type": "code",
   "execution_count": 5,
   "outputs": [
    {
     "name": "stdout",
     "output_type": "stream",
     "text": [
      "x: 20\n",
      "element_index: London\n",
      "x: 21\n",
      "element_index: New York\n",
      "x: 12\n",
      "element_index: Helsinki\n"
     ]
    },
    {
     "data": {
      "text/plain": "London      20.0\nNew York    21.0\nHelsinki     NaN\ndtype: float64"
     },
     "execution_count": 5,
     "metadata": {},
     "output_type": "execute_result"
    }
   ],
   "source": [
    "s.apply(classify)"
   ],
   "metadata": {
    "collapsed": false,
    "pycharm": {
     "name": "#%%\n"
    }
   }
  },
  {
   "cell_type": "code",
   "execution_count": 6,
   "outputs": [
    {
     "data": {
      "text/plain": "London      20\nNew York    21\nHelsinki    12\ndtype: int64"
     },
     "execution_count": 6,
     "metadata": {},
     "output_type": "execute_result"
    }
   ],
   "source": [
    "s  # s不变"
   ],
   "metadata": {
    "pycharm": {
     "metadata": false,
     "name": "#%%\n"
    }
   }
  },
  {
   "cell_type": "code",
   "execution_count": 7,
   "outputs": [
    {
     "data": {
      "text/plain": "London      I am a 20\nNew York    I am a 21\nHelsinki    I am a 12\ndtype: object"
     },
     "execution_count": 7,
     "metadata": {},
     "output_type": "execute_result"
    }
   ],
   "source": [
    "s.apply('I am a {}'.format)"
   ],
   "metadata": {
    "pycharm": {
     "metadata": false,
     "name": "#%%\n"
    }
   }
  },
  {
   "cell_type": "code",
   "execution_count": 8,
   "outputs": [
    {
     "data": {
      "text/plain": "London      [20]\nNew York    [21]\nHelsinki    [12]\ndtype: object"
     },
     "execution_count": 8,
     "metadata": {},
     "output_type": "execute_result"
    }
   ],
   "source": [
    "s_list = pd.Series([[20], [21], [12]],\n",
    "                   index=['London', 'New York', 'Helsinki'])\n",
    "s_list"
   ],
   "metadata": {
    "collapsed": false,
    "pycharm": {
     "name": "#%%\n"
    }
   }
  },
  {
   "cell_type": "code",
   "execution_count": 9,
   "outputs": [
    {
     "data": {
      "text/plain": "London      [20, 999]\nNew York    [21, 999]\nHelsinki    [12, 999]\ndtype: object"
     },
     "execution_count": 9,
     "metadata": {},
     "output_type": "execute_result"
    }
   ],
   "source": [
    "def list_append(lst):\n",
    "    lst.append(999)\n",
    "    return lst\n",
    "\n",
    "\n",
    "s_list.apply(list_append)"
   ],
   "metadata": {
    "collapsed": false,
    "pycharm": {
     "name": "#%%\n"
    }
   }
  },
  {
   "cell_type": "code",
   "execution_count": 10,
   "outputs": [
    {
     "data": {
      "text/plain": "London      [20, 999]\nNew York    [21, 999]\nHelsinki    [12, 999]\ndtype: object"
     },
     "execution_count": 10,
     "metadata": {},
     "output_type": "execute_result"
    }
   ],
   "source": [
    "s_list  # s_list改变(s_list的元素可变数据类型)"
   ],
   "metadata": {
    "collapsed": false,
    "pycharm": {
     "name": "#%%\n"
    }
   }
  },
  {
   "cell_type": "code",
   "execution_count": 11,
   "outputs": [
    {
     "data": {
      "text/plain": "   A  B\n0  4  9\n1  4  9\n2  4  9",
      "text/html": "<div>\n<style scoped>\n    .dataframe tbody tr th:only-of-type {\n        vertical-align: middle;\n    }\n\n    .dataframe tbody tr th {\n        vertical-align: top;\n    }\n\n    .dataframe thead th {\n        text-align: right;\n    }\n</style>\n<table border=\"1\" class=\"dataframe\">\n  <thead>\n    <tr style=\"text-align: right;\">\n      <th></th>\n      <th>A</th>\n      <th>B</th>\n    </tr>\n  </thead>\n  <tbody>\n    <tr>\n      <th>0</th>\n      <td>4</td>\n      <td>9</td>\n    </tr>\n    <tr>\n      <th>1</th>\n      <td>4</td>\n      <td>9</td>\n    </tr>\n    <tr>\n      <th>2</th>\n      <td>4</td>\n      <td>9</td>\n    </tr>\n  </tbody>\n</table>\n</div>"
     },
     "execution_count": 11,
     "metadata": {},
     "output_type": "execute_result"
    }
   ],
   "source": [
    "df = pd.DataFrame([[4, 9], ] * 3,\n",
    "                  columns=['A', 'B'])\n",
    "df"
   ],
   "metadata": {
    "pycharm": {
     "metadata": false,
     "name": "#%%\n"
    }
   }
  },
  {
   "cell_type": "code",
   "execution_count": 12,
   "outputs": [
    {
     "name": "stdout",
     "output_type": "stream",
     "text": [
      "x: 0    4\n",
      "1    4\n",
      "2    4\n",
      "Name: A, dtype: int64\n",
      "x: 0    9\n",
      "1    9\n",
      "2    9\n",
      "Name: B, dtype: int64\n"
     ]
    },
    {
     "data": {
      "text/plain": "    A   B\n0  16  81\n1  16  81\n2  16  81",
      "text/html": "<div>\n<style scoped>\n    .dataframe tbody tr th:only-of-type {\n        vertical-align: middle;\n    }\n\n    .dataframe tbody tr th {\n        vertical-align: top;\n    }\n\n    .dataframe thead th {\n        text-align: right;\n    }\n</style>\n<table border=\"1\" class=\"dataframe\">\n  <thead>\n    <tr style=\"text-align: right;\">\n      <th></th>\n      <th>A</th>\n      <th>B</th>\n    </tr>\n  </thead>\n  <tbody>\n    <tr>\n      <th>0</th>\n      <td>16</td>\n      <td>81</td>\n    </tr>\n    <tr>\n      <th>1</th>\n      <td>16</td>\n      <td>81</td>\n    </tr>\n    <tr>\n      <th>2</th>\n      <td>16</td>\n      <td>81</td>\n    </tr>\n  </tbody>\n</table>\n</div>"
     },
     "execution_count": 12,
     "metadata": {},
     "output_type": "execute_result"
    }
   ],
   "source": [
    "df.apply(square)  # 默认axis=0"
   ],
   "metadata": {
    "collapsed": false,
    "pycharm": {
     "name": "#%%\n"
    }
   }
  },
  {
   "cell_type": "code",
   "execution_count": 13,
   "outputs": [
    {
     "data": {
      "text/plain": "     A    B\n0  2.0  3.0\n1  2.0  3.0\n2  2.0  3.0",
      "text/html": "<div>\n<style scoped>\n    .dataframe tbody tr th:only-of-type {\n        vertical-align: middle;\n    }\n\n    .dataframe tbody tr th {\n        vertical-align: top;\n    }\n\n    .dataframe thead th {\n        text-align: right;\n    }\n</style>\n<table border=\"1\" class=\"dataframe\">\n  <thead>\n    <tr style=\"text-align: right;\">\n      <th></th>\n      <th>A</th>\n      <th>B</th>\n    </tr>\n  </thead>\n  <tbody>\n    <tr>\n      <th>0</th>\n      <td>2.0</td>\n      <td>3.0</td>\n    </tr>\n    <tr>\n      <th>1</th>\n      <td>2.0</td>\n      <td>3.0</td>\n    </tr>\n    <tr>\n      <th>2</th>\n      <td>2.0</td>\n      <td>3.0</td>\n    </tr>\n  </tbody>\n</table>\n</div>"
     },
     "execution_count": 13,
     "metadata": {},
     "output_type": "execute_result"
    }
   ],
   "source": [
    "df.apply(np.sqrt)"
   ],
   "metadata": {
    "pycharm": {
     "metadata": false,
     "name": "#%%\n"
    }
   }
  },
  {
   "cell_type": "code",
   "execution_count": 14,
   "outputs": [
    {
     "data": {
      "text/plain": "A    12\nB    27\ndtype: int64"
     },
     "execution_count": 14,
     "metadata": {},
     "output_type": "execute_result"
    }
   ],
   "source": [
    "df.apply(np.sum, axis=0)  # 类型为Series"
   ],
   "metadata": {
    "pycharm": {
     "metadata": false,
     "name": "#%%\n"
    }
   }
  },
  {
   "cell_type": "code",
   "execution_count": 15,
   "outputs": [
    {
     "data": {
      "text/plain": "0    [1, 2]\n1    [1, 2]\n2    [1, 2]\ndtype: object"
     },
     "execution_count": 15,
     "metadata": {},
     "output_type": "execute_result"
    }
   ],
   "source": [
    "\n",
    "df.apply(lambda x: [1, 2], axis=1)  # 使用匿名函数"
   ],
   "metadata": {
    "pycharm": {
     "metadata": false,
     "name": "#%%\n"
    }
   }
  },
  {
   "cell_type": "code",
   "execution_count": 16,
   "outputs": [
    {
     "data": {
      "text/plain": "   0  1\n0  1  2\n1  1  2\n2  1  2",
      "text/html": "<div>\n<style scoped>\n    .dataframe tbody tr th:only-of-type {\n        vertical-align: middle;\n    }\n\n    .dataframe tbody tr th {\n        vertical-align: top;\n    }\n\n    .dataframe thead th {\n        text-align: right;\n    }\n</style>\n<table border=\"1\" class=\"dataframe\">\n  <thead>\n    <tr style=\"text-align: right;\">\n      <th></th>\n      <th>0</th>\n      <th>1</th>\n    </tr>\n  </thead>\n  <tbody>\n    <tr>\n      <th>0</th>\n      <td>1</td>\n      <td>2</td>\n    </tr>\n    <tr>\n      <th>1</th>\n      <td>1</td>\n      <td>2</td>\n    </tr>\n    <tr>\n      <th>2</th>\n      <td>1</td>\n      <td>2</td>\n    </tr>\n  </tbody>\n</table>\n</div>"
     },
     "execution_count": 16,
     "metadata": {},
     "output_type": "execute_result"
    }
   ],
   "source": [
    "# Passing result_type=’expand’ will expand list-like results to columns of a Dataframe\n",
    "df.apply(lambda x: [1, 2], axis=1, result_type='expand')  # 扩展为列"
   ],
   "metadata": {
    "pycharm": {
     "metadata": false,
     "name": "#%%\n"
    }
   }
  },
  {
   "cell_type": "code",
   "execution_count": 17,
   "outputs": [
    {
     "data": {
      "text/plain": "   A  B\n0  1  2\n1  1  2\n2  1  2",
      "text/html": "<div>\n<style scoped>\n    .dataframe tbody tr th:only-of-type {\n        vertical-align: middle;\n    }\n\n    .dataframe tbody tr th {\n        vertical-align: top;\n    }\n\n    .dataframe thead th {\n        text-align: right;\n    }\n</style>\n<table border=\"1\" class=\"dataframe\">\n  <thead>\n    <tr style=\"text-align: right;\">\n      <th></th>\n      <th>A</th>\n      <th>B</th>\n    </tr>\n  </thead>\n  <tbody>\n    <tr>\n      <th>0</th>\n      <td>1</td>\n      <td>2</td>\n    </tr>\n    <tr>\n      <th>1</th>\n      <td>1</td>\n      <td>2</td>\n    </tr>\n    <tr>\n      <th>2</th>\n      <td>1</td>\n      <td>2</td>\n    </tr>\n  </tbody>\n</table>\n</div>"
     },
     "execution_count": 17,
     "metadata": {},
     "output_type": "execute_result"
    }
   ],
   "source": [
    "# Passing result_type='broadcast' will ensure the same shape result\n",
    "df.apply(lambda x: [1, 2], axis=1, result_type='broadcast')  # 形状不变,列名也不变"
   ],
   "metadata": {
    "pycharm": {
     "metadata": false,
     "name": "#%%\n"
    }
   }
  },
  {
   "cell_type": "code",
   "execution_count": 18,
   "outputs": [
    {
     "data": {
      "text/plain": "   foo  bar  tom\n0    1    2    3\n1    1    2    3\n2    1    2    3",
      "text/html": "<div>\n<style scoped>\n    .dataframe tbody tr th:only-of-type {\n        vertical-align: middle;\n    }\n\n    .dataframe tbody tr th {\n        vertical-align: top;\n    }\n\n    .dataframe thead th {\n        text-align: right;\n    }\n</style>\n<table border=\"1\" class=\"dataframe\">\n  <thead>\n    <tr style=\"text-align: right;\">\n      <th></th>\n      <th>foo</th>\n      <th>bar</th>\n      <th>tom</th>\n    </tr>\n  </thead>\n  <tbody>\n    <tr>\n      <th>0</th>\n      <td>1</td>\n      <td>2</td>\n      <td>3</td>\n    </tr>\n    <tr>\n      <th>1</th>\n      <td>1</td>\n      <td>2</td>\n      <td>3</td>\n    </tr>\n    <tr>\n      <th>2</th>\n      <td>1</td>\n      <td>2</td>\n      <td>3</td>\n    </tr>\n  </tbody>\n</table>\n</div>"
     },
     "execution_count": 18,
     "metadata": {},
     "output_type": "execute_result"
    }
   ],
   "source": [
    "# Returning a Series inside the function is similar to passing result_type='expand'. The resulting column names will be the Series index.\n",
    "df.apply(lambda x: pd.Series([1, 2, 3], index=['foo', 'bar', 'tom']), axis=1)  # 返回值为Series,自动扩展为列"
   ],
   "metadata": {
    "collapsed": false,
    "pycharm": {
     "name": "#%%\n"
    }
   }
  },
  {
   "cell_type": "code",
   "execution_count": 19,
   "outputs": [
    {
     "name": "stdout",
     "output_type": "stream",
     "text": [
      "x: 0    4\n",
      "1    4\n",
      "2    4\n",
      "Name: A, dtype: int64 <class 'pandas.core.series.Series'>\n",
      "x: 0    9\n",
      "1    9\n",
      "2    9\n",
      "Name: B, dtype: int64 <class 'pandas.core.series.Series'>\n"
     ]
    },
    {
     "data": {
      "text/plain": "     A  B\nmin  4  9\nmax  4  9",
      "text/html": "<div>\n<style scoped>\n    .dataframe tbody tr th:only-of-type {\n        vertical-align: middle;\n    }\n\n    .dataframe tbody tr th {\n        vertical-align: top;\n    }\n\n    .dataframe thead th {\n        text-align: right;\n    }\n</style>\n<table border=\"1\" class=\"dataframe\">\n  <thead>\n    <tr style=\"text-align: right;\">\n      <th></th>\n      <th>A</th>\n      <th>B</th>\n    </tr>\n  </thead>\n  <tbody>\n    <tr>\n      <th>min</th>\n      <td>4</td>\n      <td>9</td>\n    </tr>\n    <tr>\n      <th>max</th>\n      <td>4</td>\n      <td>9</td>\n    </tr>\n  </tbody>\n</table>\n</div>"
     },
     "execution_count": 19,
     "metadata": {},
     "output_type": "execute_result"
    }
   ],
   "source": [
    "def f(x):\n",
    "    \"\"\"\n",
    "    计算DataFrame每一列的最大和最小值\n",
    "    :param x: DataFrame的每一列\n",
    "    :return: Series\n",
    "    \"\"\"\n",
    "    print(\"x:\", x, type(x))\n",
    "    return pd.Series([min(x), x.max()], index=['min', 'max'])  # 应用多个函数\n",
    "\n",
    "\n",
    "df.apply(f, axis=0)"
   ],
   "metadata": {
    "pycharm": {
     "metadata": false,
     "name": "#%%\n"
    }
   }
  },
  {
   "cell_type": "code",
   "execution_count": 20,
   "outputs": [
    {
     "data": {
      "text/plain": "     A    B\n0  2.0  3.0\n1  2.0  3.0\n2  2.0  3.0",
      "text/html": "<div>\n<style scoped>\n    .dataframe tbody tr th:only-of-type {\n        vertical-align: middle;\n    }\n\n    .dataframe tbody tr th {\n        vertical-align: top;\n    }\n\n    .dataframe thead th {\n        text-align: right;\n    }\n</style>\n<table border=\"1\" class=\"dataframe\">\n  <thead>\n    <tr style=\"text-align: right;\">\n      <th></th>\n      <th>A</th>\n      <th>B</th>\n    </tr>\n  </thead>\n  <tbody>\n    <tr>\n      <th>0</th>\n      <td>2.0</td>\n      <td>3.0</td>\n    </tr>\n    <tr>\n      <th>1</th>\n      <td>2.0</td>\n      <td>3.0</td>\n    </tr>\n    <tr>\n      <th>2</th>\n      <td>2.0</td>\n      <td>3.0</td>\n    </tr>\n  </tbody>\n</table>\n</div>"
     },
     "execution_count": 20,
     "metadata": {},
     "output_type": "execute_result"
    }
   ],
   "source": [
    "def g(x, func1=np.mean):\n",
    "    \"\"\"\n",
    "    对DataFrame函数操作\n",
    "    :param x: DataFrame的每一列\n",
    "    :param func1: 要执行的函数\n",
    "    :return: \n",
    "    \"\"\"\n",
    "    return func1(x)\n",
    "\n",
    "\n",
    "df.apply(func=g, func1=np.sqrt, axis=0)  # 向apply中的函数(g(x))传递参数"
   ],
   "metadata": {
    "pycharm": {
     "metadata": false,
     "name": "#%%\n"
    }
   }
  },
  {
   "cell_type": "code",
   "execution_count": 21,
   "outputs": [],
   "source": [
    "def get_stats(group, gfunc=np.sum):\n",
    "    # 注:这里group为DataFrame的行或列(即类型为Series)\n",
    "    if group.name == 'A':  # 不同列应用不同的函数\n",
    "        return pd.Series([group.min(), group.max(), np.ptp(group), g(group, func1=gfunc)],\n",
    "                         index=['min', 'max', 'ptp', 'g'])\n",
    "    else:\n",
    "        return pd.Series([group.min(), group.max(), group.mean(), g(group, func1=gfunc)],\n",
    "                         index=['min', 'max', 'mean', 'g'])"
   ],
   "metadata": {
    "pycharm": {
     "metadata": false,
     "name": "#%%\n"
    }
   }
  },
  {
   "cell_type": "code",
   "execution_count": 22,
   "outputs": [
    {
     "data": {
      "text/plain": "      g  max  mean  min  ptp\nA  12.0  4.0   NaN  4.0  0.0\nB  27.0  9.0   9.0  9.0  NaN",
      "text/html": "<div>\n<style scoped>\n    .dataframe tbody tr th:only-of-type {\n        vertical-align: middle;\n    }\n\n    .dataframe tbody tr th {\n        vertical-align: top;\n    }\n\n    .dataframe thead th {\n        text-align: right;\n    }\n</style>\n<table border=\"1\" class=\"dataframe\">\n  <thead>\n    <tr style=\"text-align: right;\">\n      <th></th>\n      <th>g</th>\n      <th>max</th>\n      <th>mean</th>\n      <th>min</th>\n      <th>ptp</th>\n    </tr>\n  </thead>\n  <tbody>\n    <tr>\n      <th>A</th>\n      <td>12.0</td>\n      <td>4.0</td>\n      <td>NaN</td>\n      <td>4.0</td>\n      <td>0.0</td>\n    </tr>\n    <tr>\n      <th>B</th>\n      <td>27.0</td>\n      <td>9.0</td>\n      <td>9.0</td>\n      <td>9.0</td>\n      <td>NaN</td>\n    </tr>\n  </tbody>\n</table>\n</div>"
     },
     "execution_count": 22,
     "metadata": {},
     "output_type": "execute_result"
    }
   ],
   "source": [
    "df.apply(func=get_stats, gfunc=np.sum, axis=0).unstack().unstack()\n",
    "\n",
    "\n"
   ],
   "metadata": {
    "pycharm": {
     "metadata": false,
     "name": "#%%\n"
    }
   }
  }
 ],
 "metadata": {
  "language_info": {
   "codemirror_mode": {
    "name": "ipython",
    "version": 2
   },
   "file_extension": ".py",
   "mimetype": "text/x-python",
   "name": "python",
   "nbconvert_exporter": "python",
   "pygments_lexer": "ipython2",
   "version": "2.7.6"
  },
  "kernelspec": {
   "name": "python3",
   "language": "python",
   "display_name": "Python 3"
  },
  "stem_cell": {
   "cell_type": "raw",
   "source": "",
   "metadata": {
    "pycharm": {
     "metadata": false
    }
   }
  }
 },
 "nbformat": 4,
 "nbformat_minor": 0
}