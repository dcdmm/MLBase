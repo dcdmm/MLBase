{
 "cells": [
  {
   "cell_type": "code",
   "execution_count": 14,
   "metadata": {
    "collapsed": true
   },
   "outputs": [],
   "source": [
    "import numpy as np\n",
    "from sklearn.datasets import make_classification\n",
    "\n",
    "# Generate a random n-class classification problem.\n",
    "X, y = make_classification(n_samples=100,  # 样本数量,默认值:100\n",
    "                           # The total number of features.\n",
    "                           # These comprise n_informative informative features, n_redundant redundant features, n_repeated duplicated features and n_features-n_informative-n_redundant-n_repeated useless features drawn at random.\n",
    "                           n_features=20,  # 特征总数,默认值:20\n",
    "                           # The number of informative features,默认值:2\n",
    "                           n_informative=17,\n",
    "                           # The number of redundant features.默认值:2\n",
    "                           n_redundant=2,\n",
    "                           # The number of duplicated features, drawn randomly from the informative and the redundant features.默认值:0\n",
    "                           n_repeated=1,\n",
    "                           # The number of classes (or labels) of the classification problem.默认值:2\n",
    "                           n_classes=3,\n",
    "                           # The number of clusters per class.默认值:1\n",
    "                           n_clusters_per_class=1,\n",
    "                           # The proportions of samples assigned to each class. If None, then classes are balanced.\n",
    "                           weights=(0.1, 0.2, 0.7),\n",
    "                           # The factor multiplying the hypercube size. Larger values spread out the clusters/classes and make the classification task easier.\n",
    "                           class_sep=0.7,\n",
    "                           # 随机数种子\n",
    "                           random_state=0\n",
    "                           )"
   ]
  },
  {
   "cell_type": "code",
   "execution_count": 15,
   "outputs": [
    {
     "name": "stdout",
     "output_type": "stream",
     "text": [
      "(100, 20)\n",
      "[0 1 2]\n",
      "9\n",
      "20\n",
      "71\n"
     ]
    }
   ],
   "source": [
    "print(X.shape)  # 100个样本,20个特征\n",
    "print(np.unique(y))\n",
    "print(np.argwhere(y == 0).shape[0])  # y=0共有10个样本\n",
    "print(np.argwhere(y == 1).shape[0])  # y=1共有20个样本\n",
    "print(np.argwhere(y == 2).shape[0])  # y=2共有70个样本"
   ],
   "metadata": {
    "collapsed": false,
    "pycharm": {
     "name": "#%%\n"
    }
   }
  },
  {
   "cell_type": "code",
   "execution_count": 15,
   "outputs": [],
   "source": [],
   "metadata": {
    "collapsed": false,
    "pycharm": {
     "name": "#%%\n"
    }
   }
  }
 ],
 "metadata": {
  "kernelspec": {
   "display_name": "Python 3",
   "language": "python",
   "name": "python3"
  },
  "language_info": {
   "codemirror_mode": {
    "name": "ipython",
    "version": 2
   },
   "file_extension": ".py",
   "mimetype": "text/x-python",
   "name": "python",
   "nbconvert_exporter": "python",
   "pygments_lexer": "ipython2",
   "version": "2.7.6"
  }
 },
 "nbformat": 4,
 "nbformat_minor": 0
}