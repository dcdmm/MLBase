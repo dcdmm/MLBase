{
 "cells": [
  {
   "cell_type": "code",
   "execution_count": 8,
   "metadata": {
    "collapsed": true,
    "pycharm": {
     "name": "#%%\n"
    }
   },
   "outputs": [],
   "source": [
    "import re"
   ]
  },
  {
   "cell_type": "code",
   "execution_count": 9,
   "metadata": {
    "collapsed": false,
    "pycharm": {
     "name": "#%%\n"
    }
   },
   "outputs": [
    {
     "name": "stdout",
     "output_type": "stream",
     "text": [
      "['go']\n",
      "go go\n"
     ]
    }
   ],
   "source": [
    "s = 'hello blue go go hello'\n",
    "p = re.compile(r'\\b(\\w+)\\b\\s+\\1\\b')  # \\1表示引用第一个分组(同理\\2表示引用第二个分组)\n",
    "print(re.findall(p, s))  # 只对子组进行匹配\n",
    "print(re.search(p, s).group())"
   ]
  },
  {
   "cell_type": "code",
   "execution_count": 10,
   "metadata": {
    "collapsed": false,
    "pycharm": {
     "name": "#%%\n"
    }
   },
   "outputs": [
    {
     "name": "stdout",
     "output_type": "stream",
     "text": [
      "['go']\n",
      "go go\n"
     ]
    }
   ],
   "source": [
    "s = 'hello blue go go hello'\n",
    "p = re.compile(r'\\b(?P<group1>\\w+)\\b\\s+(?P=group1)\\b')  # 通过命名分组名进行引用(P必须为大写,group1表示命名分组的分组名)\n",
    "print(re.findall(p, s))\n",
    "print(re.search(p, s).group())"
   ]
  },
  {
   "cell_type": "code",
   "execution_count": 11,
   "metadata": {
    "collapsed": false,
    "pycharm": {
     "name": "#%%\n"
    }
   },
   "outputs": [
    {
     "name": "stdout",
     "output_type": "stream",
     "text": [
      "['aa', 'cd']\n",
      "aaaa\n"
     ]
    }
   ],
   "source": [
    "s = 'aaaa cdcd efek'\n",
    "p = re.compile(r'(\\w\\w)\\1')\n",
    "print(re.findall(p, s))\n",
    "print(re.search(p, s).group())"
   ]
  },
  {
   "cell_type": "code",
   "execution_count": 12,
   "metadata": {
    "collapsed": false,
    "pycharm": {
     "name": "#%%\n"
    }
   },
   "outputs": [
    {
     "name": "stdout",
     "output_type": "stream",
     "text": [
      "[('x', 'y')]\n",
      "xxyy\n"
     ]
    }
   ],
   "source": [
    "s = 'abab cdcd xxyy'\n",
    "p = re.compile(r'(\\w)\\1(\\w)\\2')\n",
    "print(re.findall(p, s))\n",
    "print(re.search(p, s).group())"
   ]
  },
  {
   "cell_type": "code",
   "execution_count": 13,
   "metadata": {
    "collapsed": false,
    "pycharm": {
     "name": "#%%\n"
    }
   },
   "outputs": [
    {
     "name": "stdout",
     "output_type": "stream",
     "text": [
      "['x']\n",
      "xxyx\n"
     ]
    }
   ],
   "source": [
    "s = 'abab cdcd xxyx'\n",
    "p = re.compile(r'(\\w)\\1(?:\\w)\\1') \n",
    "print(re.findall(p, s))\n",
    "print(re.search(p, s).group())"
   ]
  },
  {
   "cell_type": "code",
   "execution_count": 14,
   "metadata": {},
   "outputs": [
    {
     "name": "stdout",
     "output_type": "stream",
     "text": [
      "['a', 'd', 'e']\n",
      "aaa\n"
     ]
    }
   ],
   "source": [
    "s = \"aaa bb cc ddd eee\"\n",
    "p = r\"(\\w)\\1{2}\"\n",
    "print(re.findall(p, s))\n",
    "print(re.search(p, s).group())"
   ]
  }
 ],
 "metadata": {
  "kernelspec": {
   "display_name": "Python 3",
   "language": "python",
   "name": "python3"
  },
  "language_info": {
   "codemirror_mode": {
    "name": "ipython",
    "version": 3
   },
   "file_extension": ".py",
   "mimetype": "text/x-python",
   "name": "python",
   "nbconvert_exporter": "python",
   "pygments_lexer": "ipython3",
   "version": "3.11.7"
  }
 },
 "nbformat": 4,
 "nbformat_minor": 0
}
