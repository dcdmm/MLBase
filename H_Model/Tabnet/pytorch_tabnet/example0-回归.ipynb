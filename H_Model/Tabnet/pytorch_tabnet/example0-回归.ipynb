{
 "cells": [
  {
   "cell_type": "code",
   "execution_count": 77,
   "metadata": {
    "collapsed": true
   },
   "outputs": [],
   "source": [
    "from sklearn import datasets\n",
    "from sklearn.model_selection import train_test_split\n",
    "import torch.optim as optim\n",
    "from pytorch_tabnet.tab_model import TabNetRegressor\n",
    "import matplotlib.pyplot as plt\n",
    "import torch"
   ]
  },
  {
   "cell_type": "markdown",
   "source": [
    "### 数据处理"
   ],
   "metadata": {
    "collapsed": false,
    "pycharm": {
     "name": "#%% md\n"
    }
   }
  },
  {
   "cell_type": "code",
   "execution_count": 78,
   "outputs": [],
   "source": [
    "diabetes = datasets.load_diabetes(as_frame=True)\n",
    "X, y = diabetes.data, diabetes.target"
   ],
   "metadata": {
    "collapsed": false,
    "pycharm": {
     "name": "#%%\n"
    }
   }
  },
  {
   "cell_type": "code",
   "execution_count": 79,
   "outputs": [
    {
     "data": {
      "text/plain": "          age       sex       bmi        bp        s1        s2        s3  \\\n0    0.038076  0.050680  0.061696  0.021872 -0.044223 -0.034821 -0.043401   \n1   -0.001882 -0.044642 -0.051474 -0.026328 -0.008449 -0.019163  0.074412   \n2    0.085299  0.050680  0.044451 -0.005671 -0.045599 -0.034194 -0.032356   \n3   -0.089063 -0.044642 -0.011595 -0.036656  0.012191  0.024991 -0.036038   \n4    0.005383 -0.044642 -0.036385  0.021872  0.003935  0.015596  0.008142   \n..        ...       ...       ...       ...       ...       ...       ...   \n437  0.041708  0.050680  0.019662  0.059744 -0.005697 -0.002566 -0.028674   \n438 -0.005515  0.050680 -0.015906 -0.067642  0.049341  0.079165 -0.028674   \n439  0.041708  0.050680 -0.015906  0.017282 -0.037344 -0.013840 -0.024993   \n440 -0.045472 -0.044642  0.039062  0.001215  0.016318  0.015283 -0.028674   \n441 -0.045472 -0.044642 -0.073030 -0.081414  0.083740  0.027809  0.173816   \n\n           s4        s5        s6  \n0   -0.002592  0.019908 -0.017646  \n1   -0.039493 -0.068330 -0.092204  \n2   -0.002592  0.002864 -0.025930  \n3    0.034309  0.022692 -0.009362  \n4   -0.002592 -0.031991 -0.046641  \n..        ...       ...       ...  \n437 -0.002592  0.031193  0.007207  \n438  0.034309 -0.018118  0.044485  \n439 -0.011080 -0.046879  0.015491  \n440  0.026560  0.044528 -0.025930  \n441 -0.039493 -0.004220  0.003064  \n\n[442 rows x 10 columns]",
      "text/html": "<div>\n<style scoped>\n    .dataframe tbody tr th:only-of-type {\n        vertical-align: middle;\n    }\n\n    .dataframe tbody tr th {\n        vertical-align: top;\n    }\n\n    .dataframe thead th {\n        text-align: right;\n    }\n</style>\n<table border=\"1\" class=\"dataframe\">\n  <thead>\n    <tr style=\"text-align: right;\">\n      <th></th>\n      <th>age</th>\n      <th>sex</th>\n      <th>bmi</th>\n      <th>bp</th>\n      <th>s1</th>\n      <th>s2</th>\n      <th>s3</th>\n      <th>s4</th>\n      <th>s5</th>\n      <th>s6</th>\n    </tr>\n  </thead>\n  <tbody>\n    <tr>\n      <th>0</th>\n      <td>0.038076</td>\n      <td>0.050680</td>\n      <td>0.061696</td>\n      <td>0.021872</td>\n      <td>-0.044223</td>\n      <td>-0.034821</td>\n      <td>-0.043401</td>\n      <td>-0.002592</td>\n      <td>0.019908</td>\n      <td>-0.017646</td>\n    </tr>\n    <tr>\n      <th>1</th>\n      <td>-0.001882</td>\n      <td>-0.044642</td>\n      <td>-0.051474</td>\n      <td>-0.026328</td>\n      <td>-0.008449</td>\n      <td>-0.019163</td>\n      <td>0.074412</td>\n      <td>-0.039493</td>\n      <td>-0.068330</td>\n      <td>-0.092204</td>\n    </tr>\n    <tr>\n      <th>2</th>\n      <td>0.085299</td>\n      <td>0.050680</td>\n      <td>0.044451</td>\n      <td>-0.005671</td>\n      <td>-0.045599</td>\n      <td>-0.034194</td>\n      <td>-0.032356</td>\n      <td>-0.002592</td>\n      <td>0.002864</td>\n      <td>-0.025930</td>\n    </tr>\n    <tr>\n      <th>3</th>\n      <td>-0.089063</td>\n      <td>-0.044642</td>\n      <td>-0.011595</td>\n      <td>-0.036656</td>\n      <td>0.012191</td>\n      <td>0.024991</td>\n      <td>-0.036038</td>\n      <td>0.034309</td>\n      <td>0.022692</td>\n      <td>-0.009362</td>\n    </tr>\n    <tr>\n      <th>4</th>\n      <td>0.005383</td>\n      <td>-0.044642</td>\n      <td>-0.036385</td>\n      <td>0.021872</td>\n      <td>0.003935</td>\n      <td>0.015596</td>\n      <td>0.008142</td>\n      <td>-0.002592</td>\n      <td>-0.031991</td>\n      <td>-0.046641</td>\n    </tr>\n    <tr>\n      <th>...</th>\n      <td>...</td>\n      <td>...</td>\n      <td>...</td>\n      <td>...</td>\n      <td>...</td>\n      <td>...</td>\n      <td>...</td>\n      <td>...</td>\n      <td>...</td>\n      <td>...</td>\n    </tr>\n    <tr>\n      <th>437</th>\n      <td>0.041708</td>\n      <td>0.050680</td>\n      <td>0.019662</td>\n      <td>0.059744</td>\n      <td>-0.005697</td>\n      <td>-0.002566</td>\n      <td>-0.028674</td>\n      <td>-0.002592</td>\n      <td>0.031193</td>\n      <td>0.007207</td>\n    </tr>\n    <tr>\n      <th>438</th>\n      <td>-0.005515</td>\n      <td>0.050680</td>\n      <td>-0.015906</td>\n      <td>-0.067642</td>\n      <td>0.049341</td>\n      <td>0.079165</td>\n      <td>-0.028674</td>\n      <td>0.034309</td>\n      <td>-0.018118</td>\n      <td>0.044485</td>\n    </tr>\n    <tr>\n      <th>439</th>\n      <td>0.041708</td>\n      <td>0.050680</td>\n      <td>-0.015906</td>\n      <td>0.017282</td>\n      <td>-0.037344</td>\n      <td>-0.013840</td>\n      <td>-0.024993</td>\n      <td>-0.011080</td>\n      <td>-0.046879</td>\n      <td>0.015491</td>\n    </tr>\n    <tr>\n      <th>440</th>\n      <td>-0.045472</td>\n      <td>-0.044642</td>\n      <td>0.039062</td>\n      <td>0.001215</td>\n      <td>0.016318</td>\n      <td>0.015283</td>\n      <td>-0.028674</td>\n      <td>0.026560</td>\n      <td>0.044528</td>\n      <td>-0.025930</td>\n    </tr>\n    <tr>\n      <th>441</th>\n      <td>-0.045472</td>\n      <td>-0.044642</td>\n      <td>-0.073030</td>\n      <td>-0.081414</td>\n      <td>0.083740</td>\n      <td>0.027809</td>\n      <td>0.173816</td>\n      <td>-0.039493</td>\n      <td>-0.004220</td>\n      <td>0.003064</td>\n    </tr>\n  </tbody>\n</table>\n<p>442 rows × 10 columns</p>\n</div>"
     },
     "execution_count": 79,
     "metadata": {},
     "output_type": "execute_result"
    }
   ],
   "source": [
    "X"
   ],
   "metadata": {
    "collapsed": false,
    "pycharm": {
     "name": "#%%\n"
    }
   }
  },
  {
   "cell_type": "code",
   "execution_count": 80,
   "outputs": [
    {
     "data": {
      "text/plain": "age     58\nsex      2\nbmi    163\nbp     100\ns1     141\ns2     302\ns3      63\ns4      66\ns5     184\ns6      56\ndtype: int64"
     },
     "execution_count": 80,
     "metadata": {},
     "output_type": "execute_result"
    }
   ],
   "source": [
    "# 这里将sex视为分类特征\n",
    "X.nunique()"
   ],
   "metadata": {
    "collapsed": false,
    "pycharm": {
     "name": "#%%\n"
    }
   }
  },
  {
   "cell_type": "code",
   "execution_count": 81,
   "outputs": [
    {
     "data": {
      "text/plain": "0      151.0\n1       75.0\n2      141.0\n3      206.0\n4      135.0\n       ...  \n437    178.0\n438    104.0\n439    132.0\n440    220.0\n441     57.0\nName: target, Length: 442, dtype: float64"
     },
     "execution_count": 81,
     "metadata": {},
     "output_type": "execute_result"
    }
   ],
   "source": [
    "y"
   ],
   "metadata": {
    "collapsed": false,
    "pycharm": {
     "name": "#%%\n"
    }
   }
  },
  {
   "cell_type": "code",
   "execution_count": 82,
   "outputs": [],
   "source": [
    "X_train, X_test, y_train, y_test = train_test_split(\n",
    "    X, y, test_size=0.1, random_state=13)"
   ],
   "metadata": {
    "collapsed": false,
    "pycharm": {
     "name": "#%%\n"
    }
   }
  },
  {
   "cell_type": "markdown",
   "source": [
    "### TabNetRegressor回归模型"
   ],
   "metadata": {
    "collapsed": false,
    "pycharm": {
     "name": "#%% md\n"
    }
   }
  },
  {
   "cell_type": "code",
   "execution_count": 83,
   "outputs": [
    {
     "name": "stdout",
     "output_type": "stream",
     "text": [
      "Device used : cuda\n",
      "No early stopping will be performed, last training weights will be used.\n",
      "epoch 0  | loss: 27539.10301|  0:00:00s\n",
      "epoch 10 | loss: 3165.92592|  0:00:03s\n",
      "epoch 20 | loss: 2903.38148|  0:00:05s\n",
      "epoch 30 | loss: 2991.62079|  0:00:08s\n",
      "epoch 40 | loss: 2518.69325|  0:00:10s\n",
      "epoch 50 | loss: 2682.46093|  0:00:13s\n",
      "epoch 60 | loss: 2690.55172|  0:00:16s\n",
      "epoch 70 | loss: 2455.58278|  0:00:18s\n",
      "epoch 80 | loss: 2553.29933|  0:00:21s\n",
      "epoch 90 | loss: 2391.031|  0:00:23s\n",
      "epoch 100| loss: 2315.54428|  0:00:26s\n",
      "epoch 110| loss: 2383.77432|  0:00:28s\n",
      "epoch 120| loss: 2146.96848|  0:00:31s\n",
      "epoch 130| loss: 1824.34999|  0:00:34s\n",
      "epoch 140| loss: 2283.08847|  0:00:36s\n",
      "epoch 150| loss: 2225.07589|  0:00:39s\n",
      "epoch 160| loss: 1717.45308|  0:00:42s\n",
      "epoch 170| loss: 1886.09654|  0:00:44s\n",
      "epoch 180| loss: 1840.40494|  0:00:47s\n",
      "epoch 190| loss: 1545.84354|  0:00:49s\n",
      "epoch 200| loss: 2047.04318|  0:00:52s\n",
      "epoch 210| loss: 1646.47596|  0:00:55s\n",
      "epoch 220| loss: 1674.55841|  0:00:57s\n",
      "epoch 230| loss: 1817.78799|  0:01:00s\n",
      "epoch 240| loss: 1701.38956|  0:01:02s\n",
      "epoch 250| loss: 1722.17603|  0:01:05s\n",
      "epoch 260| loss: 1709.48738|  0:01:07s\n",
      "epoch 270| loss: 1614.25347|  0:01:10s\n",
      "epoch 280| loss: 1429.66538|  0:01:12s\n",
      "epoch 290| loss: 1969.2398|  0:01:15s\n",
      "epoch 300| loss: 1636.98866|  0:01:18s\n",
      "epoch 310| loss: 1750.50538|  0:01:20s\n",
      "epoch 320| loss: 1461.83547|  0:01:23s\n",
      "epoch 330| loss: 1571.05483|  0:01:26s\n",
      "epoch 340| loss: 1744.16401|  0:01:28s\n",
      "epoch 350| loss: 1532.88421|  0:01:31s\n",
      "epoch 360| loss: 1791.04239|  0:01:33s\n",
      "epoch 370| loss: 1914.35173|  0:01:36s\n",
      "epoch 380| loss: 1375.05909|  0:01:38s\n",
      "epoch 390| loss: 1438.41417|  0:01:41s\n",
      "epoch 400| loss: 1310.4964|  0:01:43s\n",
      "epoch 410| loss: 1456.10617|  0:01:46s\n",
      "epoch 420| loss: 1467.09821|  0:01:48s\n",
      "epoch 430| loss: 1468.0719|  0:01:51s\n",
      "epoch 440| loss: 1481.48374|  0:01:54s\n",
      "epoch 450| loss: 1491.2428|  0:01:57s\n",
      "epoch 460| loss: 1128.29411|  0:01:59s\n",
      "epoch 470| loss: 1321.6203|  0:02:02s\n",
      "epoch 480| loss: 1433.83216|  0:02:04s\n",
      "epoch 490| loss: 1397.73261|  0:02:07s\n"
     ]
    }
   ],
   "source": [
    "tabnet_params = dict(\n",
    "    cat_idxs=[1],\n",
    "    cat_dims=[2],\n",
    "    optimizer_fn=optim.Adam,\n",
    "    optimizer_params=dict(lr=2e-2),\n",
    "    scheduler_fn=torch.optim.lr_scheduler.StepLR,\n",
    "    scheduler_params={\"step_size\": 50, \"gamma\": 0.9},\n",
    "    verbose=10,\n",
    ")\n",
    "\n",
    "clf = TabNetRegressor(**tabnet_params)\n",
    "clf.fit(\n",
    "    # X_train.shape = (n_sample, n_feature)\n",
    "    X_train=X_train.values,\n",
    "    # Targets should be 2D : (n_samples, n_regression)\n",
    "    y_train=y_train.values.reshape(-1, 1),  # 单任务回归任务\n",
    "    max_epochs=500,\n",
    "    batch_size=32,\n",
    "    drop_last=False\n",
    ")"
   ],
   "metadata": {
    "collapsed": false,
    "pycharm": {
     "name": "#%%\n"
    }
   }
  },
  {
   "cell_type": "code",
   "execution_count": 84,
   "outputs": [
    {
     "data": {
      "text/plain": "dict_keys(['loss', 'lr'])"
     },
     "execution_count": 84,
     "metadata": {},
     "output_type": "execute_result"
    }
   ],
   "source": [
    "clf.history.history.keys()"
   ],
   "metadata": {
    "collapsed": false,
    "pycharm": {
     "name": "#%%\n"
    }
   }
  },
  {
   "cell_type": "code",
   "execution_count": 85,
   "outputs": [
    {
     "data": {
      "text/plain": "<Figure size 640x480 with 1 Axes>",
      "image/png": "[encoded data removed]"
     },
     "metadata": {},
     "output_type": "display_data"
    }
   ],
   "source": [
    "# plot losses\n",
    "plt.plot(clf.history['loss'])\n",
    "plt.show()"
   ],
   "metadata": {
    "collapsed": false,
    "pycharm": {
     "name": "#%%\n"
    }
   }
  },
  {
   "cell_type": "code",
   "execution_count": 86,
   "outputs": [
    {
     "data": {
      "text/plain": "<Figure size 640x480 with 1 Axes>",
      "image/png": "[encoded data removed]"
     },
     "metadata": {},
     "output_type": "display_data"
    }
   ],
   "source": [
    "# plot learning rates\n",
    "plt.plot(clf.history['lr'])\n",
    "plt.show()"
   ],
   "metadata": {
    "collapsed": false,
    "pycharm": {
     "name": "#%%\n"
    }
   }
  },
  {
   "cell_type": "code",
   "execution_count": 87,
   "outputs": [
    {
     "data": {
      "text/plain": "array([[230.0759 ],\n       [192.59479],\n       [224.5819 ],\n       [234.24187],\n       [218.02254],\n       [203.55304],\n       [228.00603],\n       [202.94716],\n       [224.81636],\n       [351.5829 ],\n       [226.53262],\n       [263.4511 ],\n       [196.83531],\n       [237.98904],\n       [200.76854],\n       [218.55562],\n       [187.41678],\n       [235.3337 ],\n       [188.36331],\n       [232.95619],\n       [231.28702],\n       [235.23701],\n       [191.0568 ],\n       [226.99542],\n       [229.9074 ],\n       [119.31021],\n       [193.28485],\n       [220.09793],\n       [223.68156],\n       [211.19888],\n       [199.01297],\n       [226.71558],\n       [213.8153 ],\n       [194.17781],\n       [227.78552],\n       [212.45775],\n       [224.88646],\n       [216.72383],\n       [230.57175],\n       [186.06784],\n       [231.25453],\n       [230.7949 ],\n       [ 71.31762],\n       [211.19888],\n       [215.89285]], dtype=float32)"
     },
     "execution_count": 87,
     "metadata": {},
     "output_type": "execute_result"
    }
   ],
   "source": [
    "clf.predict(X_test.values)  # (n_sample, 1)"
   ],
   "metadata": {
    "collapsed": false,
    "pycharm": {
     "name": "#%%\n"
    }
   }
  },
  {
   "cell_type": "code",
   "execution_count": 88,
   "outputs": [
    {
     "data": {
      "text/plain": "array([0.        , 0.61889384, 0.00570101, 0.25211067, 0.        ,\n       0.        , 0.        , 0.04060729, 0.00081912, 0.08186806])"
     },
     "execution_count": 88,
     "metadata": {},
     "output_type": "execute_result"
    }
   ],
   "source": [
    "# 特征的相对重要性\n",
    "clf.feature_importances_"
   ],
   "metadata": {
    "collapsed": false,
    "pycharm": {
     "name": "#%%\n"
    }
   }
  },
  {
   "cell_type": "code",
   "execution_count": 88,
   "outputs": [],
   "source": [],
   "metadata": {
    "collapsed": false,
    "pycharm": {
     "name": "#%%\n"
    }
   }
  }
 ],
 "metadata": {
  "kernelspec": {
   "display_name": "Python 3",
   "language": "python",
   "name": "python3"
  },
  "language_info": {
   "codemirror_mode": {
    "name": "ipython",
    "version": 2
   },
   "file_extension": ".py",
   "mimetype": "text/x-python",
   "name": "python",
   "nbconvert_exporter": "python",
   "pygments_lexer": "ipython2",
   "version": "2.7.6"
  }
 },
 "nbformat": 4,
 "nbformat_minor": 0
}