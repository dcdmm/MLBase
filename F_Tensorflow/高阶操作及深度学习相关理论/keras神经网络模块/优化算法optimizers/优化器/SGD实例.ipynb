{
 "cells": [
  {
   "cell_type": "code",
   "execution_count": 1,
   "metadata": {
    "collapsed": true
   },
   "outputs": [],
   "source": [
    "import tensorflow as tf\n",
    "import numpy as np\n",
    "import matplotlib.pyplot as plt\n",
    "from tensorflow.keras import layers\n",
    "from tensorflow.keras.models import Sequential"
   ]
  },
  {
   "cell_type": "markdown",
   "metadata": {
    "collapsed": false,
    "pycharm": {
     "name": "#%% md\n"
    }
   },
   "source": [
    "### 参考torch.optim.SGD"
   ]
  },
  {
   "cell_type": "code",
   "execution_count": 2,
   "metadata": {
    "collapsed": false,
    "pycharm": {
     "name": "#%%\n"
    }
   },
   "outputs": [],
   "source": [
    "mnist = np.load(\"../../../../../Other/datasets/NumPy/mnist.npz\")\n",
    "X_train, y_train, X_test, y_test = tf.cast(tf.expand_dims(tf.constant(mnist['x_train']), -1), tf.float32), tf.constant(mnist['y_train']), tf.cast(\n",
    "    tf.expand_dims(\n",
    "        tf.constant(mnist['x_test']), -1), tf.float32), tf.constant(mnist['y_test'])\n",
    "\n",
    "# 归一化\n",
    "X_train, X_test = X_train / 255.0, X_test / 255.0"
   ]
  },
  {
   "cell_type": "code",
   "execution_count": 3,
   "metadata": {
    "collapsed": false,
    "pycharm": {
     "name": "#%%\n"
    }
   },
   "outputs": [],
   "source": [
    "model = Sequential([\n",
    "    layers.Conv2D(6, 3, activation='relu'),\n",
    "    layers.MaxPooling2D(pool_size=2, strides=2),\n",
    "    layers.Conv2D(16, 3, activation='relu'),\n",
    "    layers.MaxPooling2D(pool_size=2, strides=2),\n",
    "    layers.Flatten(),\n",
    "    layers.Dense(120, activation='relu'),\n",
    "    layers.Dense(84, activation='relu'),\n",
    "    layers.Dense(10, activation='relu'),\n",
    "])"
   ]
  },
  {
   "cell_type": "code",
   "execution_count": 4,
   "metadata": {
    "collapsed": false,
    "pycharm": {
     "name": "#%%\n"
    }
   },
   "outputs": [],
   "source": [
    "'''\n",
    "SGD默认参数:\n",
    "tf.keras.optimizers.SGD(\n",
    "    learning_rate=0.01, momentum=0.0, nesterov=False, name='SGD', **kwargs\n",
    ")\n",
    "'''\n",
    "model.compile(optimizer=tf.keras.optimizers.SGD(learning_rate=0.01,  # 对应torch.optim.SGD lr参数\n",
    "                                                momentum=0.95,  # 对应torch.optim.SGD momentum参数\n",
    "                                                nesterov=True),  # 对应torch.optim.SGD nesterov参数\n",
    "              loss=tf.keras.losses.SparseCategoricalCrossentropy(from_logits=True), metrics=['accuracy'])"
   ]
  },
  {
   "cell_type": "code",
   "execution_count": 5,
   "metadata": {
    "collapsed": false,
    "pycharm": {
     "name": "#%%\n"
    }
   },
   "outputs": [
    {
     "name": "stdout",
     "output_type": "stream",
     "text": [
      "Epoch 1/15\n",
      "1875/1875 [==============================] - 12s 6ms/step - loss: 0.7067 - accuracy: 0.7314 - val_loss: 0.5147 - val_accuracy: 0.7887\n",
      "Epoch 2/15\n",
      "1875/1875 [==============================] - 11s 6ms/step - loss: 0.3671 - accuracy: 0.8554 - val_loss: 0.2862 - val_accuracy: 0.8850\n",
      "Epoch 3/15\n",
      "1875/1875 [==============================] - 12s 6ms/step - loss: 0.2783 - accuracy: 0.8887 - val_loss: 0.2988 - val_accuracy: 0.8835\n",
      "Epoch 4/15\n",
      "1875/1875 [==============================] - 13s 7ms/step - loss: 0.1436 - accuracy: 0.9449 - val_loss: 0.0637 - val_accuracy: 0.9813\n",
      "Epoch 5/15\n",
      "1875/1875 [==============================] - 12s 7ms/step - loss: 0.0353 - accuracy: 0.9901 - val_loss: 0.0418 - val_accuracy: 0.9868\n",
      "Epoch 6/15\n",
      "1875/1875 [==============================] - 21s 11ms/step - loss: 0.0315 - accuracy: 0.9902 - val_loss: 0.0407 - val_accuracy: 0.9891\n",
      "Epoch 7/15\n",
      "1875/1875 [==============================] - 24s 13ms/step - loss: 0.0256 - accuracy: 0.9920 - val_loss: 0.0524 - val_accuracy: 0.9845\n",
      "Epoch 8/15\n",
      "1875/1875 [==============================] - 25s 13ms/step - loss: 0.0221 - accuracy: 0.9933 - val_loss: 0.0499 - val_accuracy: 0.9860\n",
      "Epoch 9/15\n",
      "1875/1875 [==============================] - 26s 14ms/step - loss: 0.0215 - accuracy: 0.9934 - val_loss: 0.0519 - val_accuracy: 0.9857\n",
      "Epoch 10/15\n",
      "1875/1875 [==============================] - 26s 14ms/step - loss: 0.0163 - accuracy: 0.9949 - val_loss: 0.0725 - val_accuracy: 0.9837\n",
      "Epoch 11/15\n",
      "1875/1875 [==============================] - 27s 14ms/step - loss: 0.0185 - accuracy: 0.9941 - val_loss: 0.0419 - val_accuracy: 0.9889\n",
      "Epoch 12/15\n",
      "1875/1875 [==============================] - 23s 13ms/step - loss: 0.0139 - accuracy: 0.9957 - val_loss: 0.0421 - val_accuracy: 0.9895\n",
      "Epoch 13/15\n",
      "1875/1875 [==============================] - 11s 6ms/step - loss: 0.0130 - accuracy: 0.9959 - val_loss: 0.0568 - val_accuracy: 0.9872\n",
      "Epoch 14/15\n",
      "1875/1875 [==============================] - 9s 5ms/step - loss: 0.0133 - accuracy: 0.9956 - val_loss: 0.0518 - val_accuracy: 0.9898\n",
      "Epoch 15/15\n",
      "1875/1875 [==============================] - 9s 5ms/step - loss: 0.0141 - accuracy: 0.9954 - val_loss: 0.0497 - val_accuracy: 0.9888\n"
     ]
    }
   ],
   "source": [
    "history = model.fit(X_train, y_train, epochs=15, validation_data=(X_test, y_test))\n"
   ]
  },
  {
   "cell_type": "code",
   "execution_count": 6,
   "metadata": {
    "collapsed": false,
    "pycharm": {
     "name": "#%%\n"
    }
   },
   "outputs": [
    {
     "data": {
      "text/plain": "<Figure size 432x288 with 1 Axes>",
      "image/png": "[encoded data removed]"
     },
     "metadata": {
      "needs_background": "light"
     },
     "output_type": "display_data"
    }
   ],
   "source": [
    "plt.plot(history.history['accuracy'], label='accuracy')\n",
    "plt.plot(history.history['val_accuracy'], label='val_accuracy')\n",
    "plt.xlabel('Epoch')\n",
    "plt.ylabel('Accuracy')\n",
    "plt.legend(loc='lower right')\n",
    "plt.show()"
   ]
  },
  {
   "cell_type": "code",
   "execution_count": 7,
   "metadata": {
    "collapsed": false,
    "pycharm": {
     "name": "#%%\n"
    }
   },
   "outputs": [
    {
     "name": "stdout",
     "output_type": "stream",
     "text": [
      "Model: \"sequential\"\n",
      "_________________________________________________________________\n",
      " Layer (type)                Output Shape              Param #   \n",
      "=================================================================\n",
      " conv2d (Conv2D)             (None, 26, 26, 6)         60        \n",
      "                                                                 \n",
      " max_pooling2d (MaxPooling2D  (None, 13, 13, 6)        0         \n",
      " )                                                               \n",
      "                                                                 \n",
      " conv2d_1 (Conv2D)           (None, 11, 11, 16)        880       \n",
      "                                                                 \n",
      " max_pooling2d_1 (MaxPooling  (None, 5, 5, 16)         0         \n",
      " 2D)                                                             \n",
      "                                                                 \n",
      " flatten (Flatten)           (None, 400)               0         \n",
      "                                                                 \n",
      " dense (Dense)               (None, 120)               48120     \n",
      "                                                                 \n",
      " dense_1 (Dense)             (None, 84)                10164     \n",
      "                                                                 \n",
      " dense_2 (Dense)             (None, 10)                850       \n",
      "                                                                 \n",
      "=================================================================\n",
      "Total params: 60,074\n",
      "Trainable params: 60,074\n",
      "Non-trainable params: 0\n",
      "_________________________________________________________________\n"
     ]
    }
   ],
   "source": [
    "model.summary()"
   ]
  }
 ],
 "metadata": {
  "interpreter": {
   "hash": "7f42f7985a9e76d558e128652df079bec508149d1eda9cc3ea1ae8669a21bab3"
  },
  "kernelspec": {
   "display_name": "Python 3.8.12 64-bit ('base': conda)",
   "name": "python3"
  },
  "language_info": {
   "codemirror_mode": {
    "name": "ipython",
    "version": 3
   },
   "file_extension": ".py",
   "mimetype": "text/x-python",
   "name": "python",
   "nbconvert_exporter": "python",
   "pygments_lexer": "ipython3",
   "version": "3.8.8"
  }
 },
 "nbformat": 4,
 "nbformat_minor": 0
}