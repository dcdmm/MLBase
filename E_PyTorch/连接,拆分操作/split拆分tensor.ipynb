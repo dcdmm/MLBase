{
 "cells": [
  {
   "cell_type": "code",
   "execution_count": 1,
   "metadata": {
    "collapsed": true
   },
   "outputs": [],
   "source": [
    "import torch"
   ]
  },
  {
   "cell_type": "code",
   "execution_count": 2,
   "outputs": [
    {
     "data": {
      "text/plain": "torch.Size([3, 12, 7])"
     },
     "execution_count": 2,
     "metadata": {},
     "output_type": "execute_result"
    }
   ],
   "source": [
    "tor = torch.randn(3, 12, 7)\n",
    "tor.shape"
   ],
   "metadata": {
    "collapsed": false,
    "pycharm": {
     "name": "#%%\n"
    }
   }
  },
  {
   "cell_type": "code",
   "execution_count": 3,
   "outputs": [
    {
     "name": "stdout",
     "output_type": "stream",
     "text": [
      "torch.Size([1, 12, 7])\n",
      "torch.Size([2, 12, 7])\n",
      "torch.Size([3, 12, 7])\n"
     ]
    }
   ],
   "source": [
    "# 类似numpy.split\n",
    "# 将tor在维度0上拆分为a,b\n",
    "# a的维度0上的尺寸为1,b在维度0上的尺寸为2\n",
    "# a,b在维度0上的尺寸之和必须等于tor在维度0上的尺寸\n",
    "a, b = torch.split(tor, (1, 2), dim=0)\n",
    "print(a.shape)\n",
    "print(b.shape)\n",
    "print(tor.shape) # tor不变"
   ],
   "metadata": {
    "collapsed": false,
    "pycharm": {
     "name": "#%%\n"
    }
   }
  },
  {
   "cell_type": "code",
   "execution_count": 4,
   "outputs": [
    {
     "name": "stdout",
     "output_type": "stream",
     "text": [
      "torch.Size([3, 6, 7])\n",
      "torch.Size([3, 6, 7])\n"
     ]
    }
   ],
   "source": [
    "a2, b2 = torch.split(tor, (6, 6), dim=1) # 平均拆分,则可简写为:a2, b2 = torch.split(tor, 6, dim=1)\n",
    "print(a2.shape)\n",
    "print(b2.shape)"
   ],
   "metadata": {
    "collapsed": false,
    "pycharm": {
     "name": "#%%\n"
    }
   }
  },
  {
   "cell_type": "code",
   "execution_count": 5,
   "outputs": [
    {
     "name": "stdout",
     "output_type": "stream",
     "text": [
      "torch.Size([3, 5, 7])\n",
      "torch.Size([3, 4, 7])\n",
      "torch.Size([3, 3, 7])\n"
     ]
    }
   ],
   "source": [
    "a3, b3, c3 = torch.split(tor, (5, 4, 3), dim=1)\n",
    "print(a3.shape)\n",
    "print(b3.shape)\n",
    "print(c3.shape)\n"
   ],
   "metadata": {
    "collapsed": false,
    "pycharm": {
     "name": "#%%\n"
    }
   }
  }
 ],
 "metadata": {
  "kernelspec": {
   "display_name": "Python 3",
   "language": "python",
   "name": "python3"
  },
  "language_info": {
   "codemirror_mode": {
    "name": "ipython",
    "version": 2
   },
   "file_extension": ".py",
   "mimetype": "text/x-python",
   "name": "python",
   "nbconvert_exporter": "python",
   "pygments_lexer": "ipython2",
   "version": "2.7.6"
  }
 },
 "nbformat": 4,
 "nbformat_minor": 0
}