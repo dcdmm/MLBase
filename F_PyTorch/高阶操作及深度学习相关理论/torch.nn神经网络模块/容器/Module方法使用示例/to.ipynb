{
 "nbformat": 4,
 "nbformat_minor": 0,
 "metadata": {
  "kernelspec": {
   "display_name": "Python 3",
   "language": "python",
   "name": "python3"
  },
  "language_info": {
   "codemirror_mode": {
    "name": "ipython",
    "version": 2
   },
   "file_extension": ".py",
   "mimetype": "text/x-python",
   "name": "python",
   "nbconvert_exporter": "python",
   "pygments_lexer": "ipython2",
   "version": "2.7.6"
  },
  "colab": {
   "name": "tensor相关属性.ipynb",
   "provenance": [],
   "collapsed_sections": []
  },
  "accelerator": "GPU"
 },
 "cells": [
  {
   "cell_type": "code",
   "metadata": {
    "id": "LOKQqMBk-muu",
    "colab_type": "code",
    "colab": {},
    "executionInfo": {
     "status": "ok",
     "timestamp": 1592749609350,
     "user_tz": -480,
     "elapsed": 926,
     "user": {
      "displayName": "chao duan",
      "photoUrl": "",
      "userId": "16986074214670067064"
     }
    }
   },
   "source": [
    "import torch.nn as nn\n",
    "import torch.optim as optim\n",
    "from torchvision import datasets, transforms\n",
    "import torch.utils.data as Data\n",
    "import matplotlib.pyplot as plt\n",
    "import torch"
   ],
   "execution_count": 41,
   "outputs": []
  },
  {
   "cell_type": "code",
   "metadata": {
    "id": "i5L4RepM_qLG",
    "colab_type": "code",
    "colab": {},
    "executionInfo": {
     "status": "ok",
     "timestamp": 1592749609351,
     "user_tz": -480,
     "elapsed": 906,
     "user": {
      "displayName": "chao duan",
      "photoUrl": "",
      "userId": "16986074214670067064"
     }
    }
   },
   "source": [
    "batch_size = 200\n",
    "learning_rate = 0.01\n",
    "epochs = 5\n",
    "\n",
    "train_data = datasets.MNIST('../../../../Other/datasets/PyTorch',\n",
    "                   train=True,\n",
    "                   transform=transforms.Compose([\n",
    "                       transforms.ToTensor(),\n",
    "                       transforms.Normalize((0.1307,), (0.3081,))\n",
    "                   ]))\n",
    "\n",
    "test_data = datasets.MNIST('../../../../Other/datasets/PyTorch',\n",
    "                           train=False,\n",
    "                           transform=transforms.Compose([\n",
    "                               transforms.ToTensor(),\n",
    "                               transforms.Normalize((0.1307,), (0.3081,))\n",
    "                           ]))\n",
    "\n",
    "\n",
    "# 手写数字训练数据集\n",
    "train_loader = Data.DataLoader(dataset=train_data,\n",
    "                               batch_size=batch_size,\n",
    "                               shuffle=True)\n",
    "\n",
    "# 手写数字测试数据集\n",
    "test_loader = Data.DataLoader(dataset=test_data,\n",
    "                              batch_size=batch_size,\n",
    "                              shuffle=True)"
   ],
   "execution_count": 42,
   "outputs": []
  },
  {
   "cell_type": "code",
   "metadata": {
    "id": "6RyfGus4_2vG",
    "colab_type": "code",
    "colab": {},
    "executionInfo": {
     "status": "ok",
     "timestamp": 1592749609351,
     "user_tz": -480,
     "elapsed": 899,
     "user": {
      "displayName": "chao duan",
      "photoUrl": "",
      "userId": "16986074214670067064"
     }
    }
   },
   "source": [
    "class LeNet(nn.Module):\n",
    "    def __init__(self):\n",
    "        super(LeNet, self).__init__()\n",
    "        self.featrues = nn.Sequential( # 内部实现了forward函数;各模块顺序执行\n",
    "            nn.Conv2d(1, 6, 3),\n",
    "            nn.ReLU(),\n",
    "            nn.MaxPool2d(2, 2),\n",
    "            nn.Conv2d(6, 16, 3),\n",
    "            nn.ReLU(),\n",
    "            nn.MaxPool2d(2, 2)\n",
    "        )\n",
    "        self.classifier = nn.Sequential(\n",
    "            nn.Linear(400, 120),\n",
    "            nn.ReLU(),\n",
    "            nn.Linear(120, 84),\n",
    "            nn.ReLU(),\n",
    "            nn.Linear(84, 10), # 10分类问题\n",
    "        )\n",
    "\n",
    "    def forward(self, x):\n",
    "        x = self.featrues(x)\n",
    "        x = x.reshape(x.size()[0], -1)\n",
    "        x = self.classifier(x)\n",
    "        return x"
   ],
   "execution_count": 43,
   "outputs": []
  },
  {
   "cell_type": "code",
   "metadata": {
    "id": "xoVSFbbN_7mV",
    "colab_type": "code",
    "colab": {},
    "executionInfo": {
     "status": "ok",
     "timestamp": 1592749817861,
     "user_tz": -480,
     "elapsed": 197551,
     "user": {
      "displayName": "chao duan",
      "photoUrl": "",
      "userId": "16986074214670067064"
     }
    }
   },
   "source": [
    "\n",
    "device = torch.device(\"cuda\" if torch.cuda.is_available() else \"cpu\") # 所有的模型,数据必须都转换到GPU上\n",
    "criteon = nn.CrossEntropyLoss().to(device=device, dtype=torch.float32) # 定义损失函数为交叉熵并转换module的device和dtype(nn.module为in-place)\n",
    "net = LeNet()\n",
    "net.to(device=device, dtype=torch.float32) # 转换module的devic和于dtype(in-place)\n",
    "\n",
    "# 多参数组的SGD优化器\n",
    "optimizer = optim.SGD([dict(params=net.featrues.parameters(), momentum=0.9),\n",
    "                       dict(params=net.classifier.parameters(),\n",
    "                            momentum=0.95, # 动量参数\\alpha;默认momentum=0\n",
    "                            nesterov=True)], # 是否启用Nesterov动量\n",
    "                      lr=learning_rate) # 学习率\n",
    "\n",
    "train_acc_lst = list() # 训练数据精度\n",
    "test_acc_lst = list() # 测试数据精度\n",
    "train_loss_lst = list() # 训练数据损失\n",
    "\n",
    "for epoch in range(0, epochs):\n",
    "    for batch_index, (data, target) in enumerate(train_loader):\n",
    "        data, target = data.to(device=device, dtype=torch.float32), target.to(device=device, dtype=torch.long) # 转换数据的device和dtype\n",
    "        cnn = net(data)\n",
    "        loss = criteon(cnn, target)\n",
    "        optimizer.zero_grad() # 梯度清零\n",
    "        loss.backward() # 反向传播\n",
    "        optimizer.step() # 进行一次梯度更新\n",
    "\n",
    "        if (batch_index+1) % 10 == 0:\n",
    "            train_loss_lst.append(loss)\n",
    "            valid_train_sampler = Data.sampler.SubsetRandomSampler(torch.randperm(len(train_data))[:500])\n",
    "            valid_train_loader = Data.DataLoader(dataset=train_data, sampler=valid_train_sampler) # 随机选取500条数据进行验证\n",
    "            valid_test_sampler = Data.sampler.SubsetRandomSampler(torch.randperm(len(test_data))[:500])\n",
    "            valid_test_loader = Data.DataLoader(dataset=test_data, sampler=valid_test_sampler)\n",
    "            train_t_n = 0\n",
    "            test_t_n = 0\n",
    "            for i, j in valid_train_loader:\n",
    "                i, j = i.to(device=device, dtype=torch.float32), j.to(device=device, dtype=torch.long) # 将数据转换到GPU上(数据为in-place)\n",
    "                predict = torch.argmax(net(i), dim=1)\n",
    "                if (predict[0].item() - j) == 0:\n",
    "                    train_t_n = train_t_n + 1\n",
    "            for m, n in valid_test_loader:\n",
    "                m, n = m.to(device=device, dtype=torch.float32), n.to(device=device, dtype=torch.long) # 将数据转换到GPU上\n",
    "                predict = torch.argmax(net(m), dim=1)\n",
    "                if (predict[0].item()) - n == 0:\n",
    "                   test_t_n = test_t_n + 1\n",
    "\n",
    "            train_acc = train_t_n / 500\n",
    "            test_acc = test_t_n / 500\n",
    "            train_acc_lst.append(train_acc)\n",
    "            test_acc_lst.append(test_acc)"
   ],
   "execution_count": 45,
   "outputs": []
  },
  {
   "cell_type": "code",
   "metadata": {
    "id": "sg0UJj-fAAzU",
    "colab_type": "code",
    "colab": {
     "base_uri": "https://localhost:8080/",
     "height": 265
    },
    "executionInfo": {
     "status": "ok",
     "timestamp": 1592749822603,
     "user_tz": -480,
     "elapsed": 884,
     "user": {
      "displayName": "chao duan",
      "photoUrl": "",
      "userId": "16986074214670067064"
     }
    },
    "outputId": "6283e7b0-64ab-4471-8b76-9d333d1c6fbf"
   },
   "source": [
    "plt.plot(train_acc_lst, color='r', label='train accacy')\n",
    "plt.plot(test_acc_lst, color='b', label='test accacy')\n",
    "plt.legend()\n",
    "plt.ylabel('acc')\n",
    "plt.show()"
   ],
   "execution_count": 46,
   "outputs": [
    {
     "output_type": "display_data",
     "data": {
      "image/png": "[encoded data removed]",
      "text/plain": [
       "<Figure size 432x288 with 1 Axes>"
      ]
     },
     "metadata": {
      "tags": [],
      "needs_background": "light"
     }
    }
   ]
  },
  {
   "cell_type": "code",
   "metadata": {
    "id": "XP5p8IWUADFu",
    "colab_type": "code",
    "colab": {
     "base_uri": "https://localhost:8080/",
     "height": 265
    },
    "executionInfo": {
     "status": "ok",
     "timestamp": 1592749825124,
     "user_tz": -480,
     "elapsed": 1042,
     "user": {
      "displayName": "chao duan",
      "photoUrl": "",
      "userId": "16986074214670067064"
     }
    },
    "outputId": "d9f2c3e7-84cd-4d5b-8901-a3299813548e"
   },
   "source": [
    "plt.plot(train_loss_lst, color='g', label='train loss')\n",
    "plt.legend()\n",
    "plt.ylabel('loss')\n",
    "plt.show()"
   ],
   "execution_count": 47,
   "outputs": [
    {
     "output_type": "display_data",
     "data": {
      "image/png": "[encoded data removed]",
      "text/plain": [
       "<Figure size 432x288 with 1 Axes>"
      ]
     },
     "metadata": {
      "tags": [],
      "needs_background": "light"
     }
    }
   ]
  }
 ]
}