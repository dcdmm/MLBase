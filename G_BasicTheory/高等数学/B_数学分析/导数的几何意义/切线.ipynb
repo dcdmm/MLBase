{
 "cells": [
  {
   "cell_type": "markdown",
   "metadata": {
    "collapsed": true,
    "pycharm": {
     "is_executing": false,
     "name": "#%% md\n"
    }
   },
   "source": [
    "&emsp;&emsp;由导数的定义,曲线$ f(x) $在点$ (x_0, y_0) $的切线方程是    \n",
    "$$ y-y_0 = f'(x_0)(x - x_0) $$  \n",
    "这就是说,函数$f$在点$x_0$的导数$f'(x_0) $是曲线 $ y=f(x) $在点$(x_0, y_0)$处的切线斜率  "
   ]
  },
  {
   "cell_type": "code",
   "execution_count": null,
   "outputs": [],
   "source": [
    "from sympy import *\n",
    "import numpy as np\n",
    "import  matplotlib.pyplot as plt"
   ],
   "metadata": {
    "collapsed": false,
    "pycharm": {
     "name": "#%%\n"
    }
   }
  },
  {
   "cell_type": "code",
   "execution_count": 38,
   "outputs": [],
   "source": [
    "x_data = np.linspace(-3, 9, 1000)\n",
    "y_data = -np.power(x_data, 2) +  6 * x_data"
   ],
   "metadata": {
    "collapsed": false,
    "pycharm": {
     "name": "#%%\n",
     "is_executing": false
    }
   }
  },
  {
   "cell_type": "code",
   "execution_count": 39,
   "outputs": [
    {
     "data": {
      "text/plain": "-x**2 + 6*x",
      "text/latex": "$\\displaystyle - x^{2} + 6 x$"
     },
     "metadata": {},
     "output_type": "execute_result",
     "execution_count": 39
    }
   ],
   "source": [
    "x = symbols('x')\n",
    " \n",
    "f_x = -x**2 + 6*x\n",
    "f_x"
   ],
   "metadata": {
    "collapsed": false,
    "pycharm": {
     "name": "#%%\n",
     "is_executing": false
    }
   }
  },
  {
   "cell_type": "code",
   "execution_count": 40,
   "outputs": [
    {
     "data": {
      "text/plain": "6 - 2*x",
      "text/latex": "$\\displaystyle 6 - 2 x$"
     },
     "metadata": {},
     "output_type": "execute_result",
     "execution_count": 40
    }
   ],
   "source": [
    "df_x = diff(f_x, x) # 对x求导\n",
    "df_x"
   ],
   "metadata": {
    "collapsed": false,
    "pycharm": {
     "name": "#%%\n",
     "is_executing": false
    }
   }
  },
  {
   "cell_type": "code",
   "execution_count": 41,
   "outputs": [
    {
     "name": "stdout",
     "text": [
      "[0.0, 9.0, -7.0]\n[6.0, 0.0, -8.0]\n"
     ],
     "output_type": "stream"
    }
   ],
   "source": [
    "point = [0, 3, 7] # 切点横坐标\n",
    "point_value = list()\n",
    "point_dir = list()\n",
    "for i in point:\n",
    "    point_value.append(float(f_x.subs({x:i}))) # 切点纵坐标\n",
    "    point_dir.append(float(df_x.subs({x:i}))) # 切点斜率\n",
    "    \n",
    "print(point_value)\n",
    "print(point_dir)"
   ],
   "metadata": {
    "collapsed": false,
    "pycharm": {
     "name": "#%%\n",
     "is_executing": false
    }
   }
  },
  {
   "cell_type": "code",
   "execution_count": 42,
   "outputs": [
    {
     "data": {
      "text/plain": "[6.0*x, 9.00000000000000, 49.0 - 8.0*x]"
     },
     "metadata": {},
     "output_type": "execute_result",
     "execution_count": 42
    }
   ],
   "source": [
    "tangent_list = []\n",
    "for j in range(len(point_dir)):\n",
    "    y = point_dir[j] * (x-point[j]) + point_value[j] # 求出切线方程\n",
    "    tangent_list.append(y)\n",
    "\n",
    "tangent_list"
   ],
   "metadata": {
    "collapsed": false,
    "pycharm": {
     "name": "#%%\n",
     "is_executing": false
    }
   }
  },
  {
   "cell_type": "code",
   "execution_count": 43,
   "outputs": [
    {
     "data": {
      "text/plain": "<Figure size 432x288 with 1 Axes>",
      "image/png": "[encoded data removed]"
     },
     "metadata": {
      "needs_background": "light"
     },
     "output_type": "display_data"
    }
   ],
   "source": [
    "plt.plot(x_data, y_data) # 绘制曲线\n",
    "plt.scatter(point, point_value, color='red') # 绘制切点\n",
    "for k in range(len(point)):\n",
    "    x_scope = np.linspace(point[k]-4, point[k]+4, 1000)\n",
    "    tangent_y = list()\n",
    "    for m in x_scope:\n",
    "        tangent_y.append(tangent_list[k].subs({x:m}))\n",
    "    plt.plot(x_scope, tangent_y) # 绘制不同点的切线"
   ],
   "metadata": {
    "collapsed": false,
    "pycharm": {
     "name": "#%%\n",
     "is_executing": false
    }
   }
  }
 ],
 "metadata": {
  "kernelspec": {
   "display_name": "Python 3",
   "language": "python",
   "name": "python3"
  },
  "language_info": {
   "codemirror_mode": {
    "name": "ipython",
    "version": 2
   },
   "file_extension": ".py",
   "mimetype": "text/x-python",
   "name": "python",
   "nbconvert_exporter": "python",
   "pygments_lexer": "ipython2",
   "version": "2.7.6"
  },
  "pycharm": {
   "stem_cell": {
    "cell_type": "raw",
    "source": [],
    "metadata": {
     "collapsed": false
    }
   }
  }
 },
 "nbformat": 4,
 "nbformat_minor": 0
}