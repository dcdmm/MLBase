{
 "cells": [
  {
   "cell_type": "code",
   "execution_count": 31,
   "metadata": {
    "collapsed": true
   },
   "outputs": [],
   "source": [
    "from transformers import BertTokenizer"
   ]
  },
  {
   "cell_type": "code",
   "execution_count": 32,
   "outputs": [
    {
     "name": "stdout",
     "output_type": "stream",
     "text": [
      "['input_ids', 'token_type_ids', 'attention_mask']\n",
      "['[UNK]', '[SEP]', '[PAD]', '[CLS]', '[MASK]']\n"
     ]
    }
   ],
   "source": [
    "tokenizer = BertTokenizer.from_pretrained('bert-base-uncased')\n",
    "print(tokenizer.model_input_names)\n",
    "print(tokenizer.all_special_tokens)"
   ],
   "metadata": {
    "collapsed": false,
    "pycharm": {
     "name": "#%%\n"
    }
   }
  },
  {
   "cell_type": "code",
   "execution_count": 33,
   "outputs": [
    {
     "data": {
      "text/plain": "{'input_ids': [101, 2440, 9207, 3550, 7375, 1012, 11974, 1010, 9268, 2035, 15932, 1999, 1000, 3556, 6251, 1000, 9896, 1010, 2029, 12099, 5335, 2731, 2836, 102], 'token_type_ids': [0, 0, 0, 0, 0, 0, 0, 0, 0, 0, 0, 0, 0, 0, 0, 0, 0, 0, 0, 0, 0, 0, 0, 0], 'attention_mask': [1, 1, 1, 1, 1, 1, 1, 1, 1, 1, 1, 1, 1, 1, 1, 1, 1, 1, 1, 1, 1, 1, 1, 1]}"
     },
     "execution_count": 33,
     "metadata": {},
     "output_type": "execute_result"
    }
   ],
   "source": [
    "sentence = 'Full vectorized implementation. Specially, removing all loops in \"score sentence\" algorithm, which dramatically improve training performance'\n",
    "a = tokenizer(sentence)\n",
    "a"
   ],
   "metadata": {
    "collapsed": false,
    "pycharm": {
     "name": "#%%\n"
    }
   }
  },
  {
   "cell_type": "code",
   "execution_count": 34,
   "outputs": [
    {
     "data": {
      "text/plain": "[101,\n 2440,\n 9207,\n 3550,\n 7375,\n 1012,\n 11974,\n 1010,\n 9268,\n 2035,\n 15932,\n 1999,\n 1000,\n 3556,\n 6251,\n 1000,\n 9896,\n 1010,\n 2029,\n 12099,\n 5335,\n 2731,\n 2836,\n 102]"
     },
     "execution_count": 34,
     "metadata": {},
     "output_type": "execute_result"
    }
   ],
   "source": [
    "a['input_ids']"
   ],
   "metadata": {
    "collapsed": false,
    "pycharm": {
     "name": "#%%\n"
    }
   }
  },
  {
   "cell_type": "code",
   "execution_count": 35,
   "outputs": [
    {
     "data": {
      "text/plain": "24"
     },
     "execution_count": 35,
     "metadata": {},
     "output_type": "execute_result"
    }
   ],
   "source": [
    "len(a['input_ids'])"
   ],
   "metadata": {
    "collapsed": false,
    "pycharm": {
     "name": "#%%\n"
    }
   }
  },
  {
   "cell_type": "code",
   "execution_count": 36,
   "outputs": [
    {
     "data": {
      "text/plain": "'[CLS] full vectorized implementation. specially, removing all loops in \" score sentence \" algorithm, which dramatically improve training performance [SEP]'"
     },
     "execution_count": 36,
     "metadata": {},
     "output_type": "execute_result"
    }
   ],
   "source": [
    "tokenizer.decode(a['input_ids'])"
   ],
   "metadata": {
    "collapsed": false,
    "pycharm": {
     "name": "#%%\n"
    }
   }
  },
  {
   "cell_type": "code",
   "execution_count": 37,
   "outputs": [
    {
     "data": {
      "text/plain": "['full',\n 'vector',\n '##ized',\n 'implementation',\n '.',\n 'specially',\n ',',\n 'removing',\n 'all',\n 'loops',\n 'in',\n '\"',\n 'score',\n 'sentence',\n '\"',\n 'algorithm',\n ',',\n 'which',\n 'dramatically',\n 'improve',\n 'training',\n 'performance']"
     },
     "execution_count": 37,
     "metadata": {},
     "output_type": "execute_result"
    }
   ],
   "source": [
    "# Converts a string in a sequence of tokens, using the tokenizer.\n",
    "b = tokenizer.tokenize(text=sentence)\n",
    "b  # 英文情况下,Bert使用wordPiece分词"
   ],
   "metadata": {
    "collapsed": false,
    "pycharm": {
     "name": "#%%\n"
    }
   }
  },
  {
   "cell_type": "code",
   "execution_count": 38,
   "outputs": [
    {
     "data": {
      "text/plain": "22"
     },
     "execution_count": 38,
     "metadata": {},
     "output_type": "execute_result"
    }
   ],
   "source": [
    "len(b)"
   ],
   "metadata": {
    "collapsed": false,
    "pycharm": {
     "name": "#%%\n"
    }
   }
  },
  {
   "cell_type": "code",
   "execution_count": 42,
   "outputs": [
    {
     "data": {
      "text/plain": "['汉',\n '民',\n '族',\n '民',\n '族',\n '意',\n '识',\n '与',\n '天',\n '下',\n '观',\n '相',\n '互',\n '影',\n '响',\n '。',\n '[UNK]',\n 'cl',\n '##an',\n '[UNK]',\n 'con',\n '##sc',\n '##ious',\n '##ness',\n 'is',\n 'see',\n '##n',\n 'the',\n 'int',\n '##era',\n '##ction',\n 'with',\n 'the',\n '[UNK]',\n 'or',\n 'the',\n 'world',\n '.']"
     },
     "execution_count": 42,
     "metadata": {},
     "output_type": "execute_result"
    }
   ],
   "source": [
    "tokenizer_chinese = BertTokenizer.from_pretrained('bert-base-chinese')\n",
    "sentence_chinese = '汉民族民族意识与天下观相互影响。Chinese clan Minzu consciousness is seen the interaction with the China or the world.'\n",
    "tokenizer_chinese.tokenize(sentence_chinese)  # 中文按字分词"
   ],
   "metadata": {
    "collapsed": false,
    "pycharm": {
     "name": "#%%\n"
    }
   }
  },
  {
   "cell_type": "code",
   "execution_count": null,
   "outputs": [],
   "source": [],
   "metadata": {
    "collapsed": false,
    "pycharm": {
     "name": "#%%\n"
    }
   }
  }
 ],
 "metadata": {
  "kernelspec": {
   "display_name": "Python 3",
   "language": "python",
   "name": "python3"
  },
  "language_info": {
   "codemirror_mode": {
    "name": "ipython",
    "version": 2
   },
   "file_extension": ".py",
   "mimetype": "text/x-python",
   "name": "python",
   "nbconvert_exporter": "python",
   "pygments_lexer": "ipython2",
   "version": "2.7.6"
  }
 },
 "nbformat": 4,
 "nbformat_minor": 0
}