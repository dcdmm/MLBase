{
 "cells": [
  {
   "cell_type": "markdown",
   "metadata": {
    "collapsed": true
   },
   "source": [
    "先看一个例子,这个batch中有5个sample(这里形状为$ B \\times T $)\n",
    "\n",
    "<img src='../../../../../Other/img/pack.png'>\n",
    "\n",
    "如果不用pack操作会有一个问题,什么问题呢?比如上图,句子\"Yes\"只有一个单词,但是padding了多余的pad符号,这样会导致LSTM(所有RNN网络)对它的表示通过了非常多无用的字符,这样得到的句子表示就会有误差,更直观的如下图所示:\n",
    "\n",
    "<img src='../../../../../Other/img/pack0.png'>\n",
    "\n",
    "\n",
    "### pack_padded_sequence函数的作用\n",
    "\n",
    "\n",
    "<img src='../../../../../Other/img/pack1.png'>\n",
    "\n",
    "pack之后,原来填充的 PAD(一般初始化为0或1)占位符被删掉了"
   ]
  },
  {
   "cell_type": "code",
   "execution_count": null,
   "metadata": {},
   "outputs": [],
   "source": []
  }
 ],
 "metadata": {
  "kernelspec": {
   "display_name": "Python 3",
   "language": "python",
   "name": "python3"
  },
  "language_info": {
   "codemirror_mode": {
    "name": "ipython",
    "version": 3
   },
   "file_extension": ".py",
   "mimetype": "text/x-python",
   "name": "python",
   "nbconvert_exporter": "python",
   "pygments_lexer": "ipython3",
   "version": "3.7.9"
  },
  "toc": {
   "base_numbering": 1,
   "nav_menu": {},
   "number_sections": true,
   "sideBar": true,
   "skip_h1_title": false,
   "title_cell": "Table of Contents",
   "title_sidebar": "Contents",
   "toc_cell": false,
   "toc_position": {},
   "toc_section_display": true,
   "toc_window_display": false
  }
 },
 "nbformat": 4,
 "nbformat_minor": 1
}