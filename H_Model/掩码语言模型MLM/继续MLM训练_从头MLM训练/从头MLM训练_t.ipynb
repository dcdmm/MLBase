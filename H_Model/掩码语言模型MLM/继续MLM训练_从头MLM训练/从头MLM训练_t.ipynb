{
 "cells": [
  {
   "cell_type": "code",
   "execution_count": 1,
   "id": "3b9e1ef7-2107-4f8f-961b-d9e8241fee74",
   "metadata": {},
   "outputs": [],
   "source": [
    "from transformers import PreTrainedTokenizerFast, BertConfig, BertForMaskedLM, DataCollatorForLanguageModeling\n",
    "from transformers import Trainer, TrainingArguments\n",
    "from datasets import Dataset"
   ]
  },
  {
   "cell_type": "code",
   "execution_count": 2,
   "id": "438eafca-819d-451e-a387-2889b354d8af",
   "metadata": {},
   "outputs": [
    {
     "data": {
      "text/plain": [
       "PreTrainedTokenizerFast(name_or_path='', vocab_size=30000, model_max_len=1000000000000000019884624838656, is_fast=True, padding_side='right', truncation_side='right', special_tokens={})"
      ]
     },
     "execution_count": 2,
     "metadata": {},
     "output_type": "execute_result"
    }
   ],
   "source": [
    "# 加载从头训练的分词器(也可使用已有的分词器)\n",
    "tokenizer_fast = PreTrainedTokenizerFast(tokenizer_file='tokenizer-wikitext-103.json')\n",
    "tokenizer_fast"
   ]
  },
  {
   "cell_type": "code",
   "execution_count": 3,
   "id": "19bfd645-a418-40d9-b573-ee04784ab0bb",
   "metadata": {},
   "outputs": [
    {
     "data": {
      "text/plain": [
       "['[EOS]', '[SEP]', '[PAD]', '[CLS]', '[UNK]']"
      ]
     },
     "execution_count": 3,
     "metadata": {},
     "output_type": "execute_result"
    }
   ],
   "source": [
    "tokenizer_fast.add_special_tokens(special_tokens_dict={'eos_token': '[EOS]',\n",
    "                                                       'mask_token': '[UNK]',\n",
    "                                                       'pad_token': '[PAD]',\n",
    "                                                       'cls_token': '[CLS]',\n",
    "                                                       'sep_token': '[SEP]'})\n",
    "tokenizer_fast.all_special_tokens"
   ]
  },
  {
   "cell_type": "code",
   "execution_count": 4,
   "id": "c1270fd0-db1a-452a-8150-aff67f030967",
   "metadata": {},
   "outputs": [
    {
     "name": "stderr",
     "output_type": "stream",
     "text": [
      "Using custom data configuration default-2d03098f229c8816\n",
      "Reusing dataset text (/root/.cache/huggingface/datasets/text/default-2d03098f229c8816/0.0.0)\n"
     ]
    },
    {
     "data": {
      "text/plain": [
       "Dataset({\n",
       "    features: ['text'],\n",
       "    num_rows: 3760\n",
       "})"
      ]
     },
     "execution_count": 4,
     "metadata": {},
     "output_type": "execute_result"
    }
   ],
   "source": [
    "files = [f\"wikitext-103-raw/wiki.{split}.raw\" for split in [\"test\", \"train\", \"valid\"]]\n",
    "dataset = Dataset.from_text(files[2])\n",
    "dataset"
   ]
  },
  {
   "cell_type": "code",
   "execution_count": 5,
   "id": "a259f232-23c1-49b4-b42b-8b4edcc4717e",
   "metadata": {},
   "outputs": [
    {
     "data": {
      "application/vnd.jupyter.widget-view+json": {
       "model_id": "e6dafb0eb0614ff8a5addd8405ec7c14",
       "version_major": 2,
       "version_minor": 0
      },
      "text/plain": [
       "  0%|          | 0/4 [00:00<?, ?ba/s]"
      ]
     },
     "metadata": {},
     "output_type": "display_data"
    },
    {
     "data": {
      "application/vnd.jupyter.widget-view+json": {
       "model_id": "cf4c39ea4b7548e79e59ed5e12479d28",
       "version_major": 2,
       "version_minor": 0
      },
      "text/plain": [
       "  0%|          | 0/3 [00:00<?, ?ba/s]"
      ]
     },
     "metadata": {},
     "output_type": "display_data"
    },
    {
     "data": {
      "text/plain": [
       "Dataset({\n",
       "    features: ['text', 'input_ids', 'attention_mask', 'token_type_ids'],\n",
       "    num_rows: 2461\n",
       "})"
      ]
     },
     "execution_count": 5,
     "metadata": {},
     "output_type": "execute_result"
    }
   ],
   "source": [
    "def filter_func(data):\n",
    "    text = data['text']\n",
    "    return len(text) > 0 and not text.isspace()  # 过滤空白行\n",
    "\n",
    "\n",
    "def map_func(data):\n",
    "    batch_encoding = tokenizer_fast(data['text'], truncation=True, padding=\"max_length\", max_length=512)\n",
    "    return {'input_ids': batch_encoding['input_ids'],\n",
    "            'attention_mask': batch_encoding['attention_mask'],\n",
    "            'token_type_ids': batch_encoding['token_type_ids']}\n",
    "\n",
    "\n",
    "dataset_filter = dataset.filter(filter_func)\n",
    "dataset_map = dataset_filter.map(map_func, batched=True, batch_size=1000)  # 每次处理1000条数据\n",
    "dataset_map"
   ]
  },
  {
   "cell_type": "code",
   "execution_count": 6,
   "id": "f309b142-0f42-40cc-b79d-cea268b555b4",
   "metadata": {},
   "outputs": [
    {
     "data": {
      "text/plain": [
       "DataCollatorForLanguageModeling(tokenizer=PreTrainedTokenizerFast(name_or_path='', vocab_size=30000, model_max_len=1000000000000000019884624838656, is_fast=True, padding_side='right', truncation_side='right', special_tokens={'eos_token': '[EOS]', 'sep_token': '[SEP]', 'pad_token': '[PAD]', 'cls_token': '[CLS]', 'mask_token': '[UNK]'}), mlm=True, mlm_probability=0.15, pad_to_multiple_of=None, tf_experimental_compile=False, return_tensors='pt')"
      ]
     },
     "execution_count": 6,
     "metadata": {},
     "output_type": "execute_result"
    }
   ],
   "source": [
    "# 相当于torch.utils.data.DataLoader中collate_fn的作用(可以重写,参考_way_of_training/pytorch_transformer.ipynb)\n",
    "# Data collator used for language modeling\n",
    "data_collator = DataCollatorForLanguageModeling(tokenizer=tokenizer_fast, mlm=True, mlm_probability=0.15)\n",
    "data_collator"
   ]
  },
  {
   "cell_type": "code",
   "execution_count": 7,
   "id": "44596acb-8577-4b5d-8664-d0fc7ed94f10",
   "metadata": {},
   "outputs": [
    {
     "name": "stdout",
     "output_type": "stream",
     "text": [
      "No of parameters:  81965648\n"
     ]
    }
   ],
   "source": [
    "config = BertConfig(\n",
    "    vocab_size=tokenizer_fast.vocab_size,\n",
    "    hidden_size=768,\n",
    "    num_hidden_layers=6,\n",
    "    num_attention_heads=12,\n",
    "    max_position_embeddings=512\n",
    ")\n",
    "\n",
    "# Bert Model with a language modeling head on top.\n",
    "model = BertForMaskedLM(config)\n",
    "print('No of parameters: ', model.num_parameters())"
   ]
  },
  {
   "cell_type": "code",
   "execution_count": 8,
   "id": "9d418e2e-0228-40ae-a9fa-b3db48f94e0c",
   "metadata": {},
   "outputs": [
    {
     "name": "stderr",
     "output_type": "stream",
     "text": [
      "The following columns in the training set  don't have a corresponding argument in `BertForMaskedLM.forward` and have been ignored: text. If text are not expected by `BertForMaskedLM.forward`,  you can safely ignore this message.\n",
      "/root/miniconda3/envs/pytorch_env/lib/python3.8/site-packages/transformers/optimization.py:306: FutureWarning: This implementation of AdamW is deprecated and will be removed in a future version. Use the PyTorch implementation torch.optim.AdamW instead, or set `no_deprecation_warning=True` to disable this warning\n",
      "  warnings.warn(\n",
      "***** Running training *****\n",
      "  Num examples = 2461\n",
      "  Num Epochs = 5\n",
      "  Instantaneous batch size per device = 16\n",
      "  Total train batch size (w. parallel, distributed & accumulation) = 16\n",
      "  Gradient Accumulation steps = 1\n",
      "  Total optimization steps = 770\n"
     ]
    },
    {
     "data": {
      "text/html": [
       "\n",
       "    <div>\n",
       "      \n",
       "      <progress value='770' max='770' style='width:300px; height:20px; vertical-align: middle;'></progress>\n",
       "      [770/770 03:15, Epoch 5/5]\n",
       "    </div>\n",
       "    <table border=\"1\" class=\"dataframe\">\n",
       "  <thead>\n",
       " <tr style=\"text-align: left;\">\n",
       "      <th>Step</th>\n",
       "      <th>Training Loss</th>\n",
       "    </tr>\n",
       "  </thead>\n",
       "  <tbody>\n",
       "    <tr>\n",
       "      <td>500</td>\n",
       "      <td>7.417800</td>\n",
       "    </tr>\n",
       "  </tbody>\n",
       "</table><p>"
      ],
      "text/plain": [
       "<IPython.core.display.HTML object>"
      ]
     },
     "metadata": {},
     "output_type": "display_data"
    },
    {
     "name": "stderr",
     "output_type": "stream",
     "text": [
      "Saving model checkpoint to preTrained_Model/checkpoint-154\n",
      "Configuration saved in preTrained_Model/checkpoint-154/config.json\n",
      "Model weights saved in preTrained_Model/checkpoint-154/pytorch_model.bin\n",
      "tokenizer config file saved in preTrained_Model/checkpoint-154/tokenizer_config.json\n",
      "Special tokens file saved in preTrained_Model/checkpoint-154/special_tokens_map.json\n",
      "Saving model checkpoint to preTrained_Model/checkpoint-308\n",
      "Configuration saved in preTrained_Model/checkpoint-308/config.json\n",
      "Model weights saved in preTrained_Model/checkpoint-308/pytorch_model.bin\n",
      "tokenizer config file saved in preTrained_Model/checkpoint-308/tokenizer_config.json\n",
      "Special tokens file saved in preTrained_Model/checkpoint-308/special_tokens_map.json\n",
      "Saving model checkpoint to preTrained_Model/checkpoint-462\n",
      "Configuration saved in preTrained_Model/checkpoint-462/config.json\n",
      "Model weights saved in preTrained_Model/checkpoint-462/pytorch_model.bin\n",
      "tokenizer config file saved in preTrained_Model/checkpoint-462/tokenizer_config.json\n",
      "Special tokens file saved in preTrained_Model/checkpoint-462/special_tokens_map.json\n",
      "Saving model checkpoint to preTrained_Model/checkpoint-616\n",
      "Configuration saved in preTrained_Model/checkpoint-616/config.json\n",
      "Model weights saved in preTrained_Model/checkpoint-616/pytorch_model.bin\n",
      "tokenizer config file saved in preTrained_Model/checkpoint-616/tokenizer_config.json\n",
      "Special tokens file saved in preTrained_Model/checkpoint-616/special_tokens_map.json\n",
      "Saving model checkpoint to preTrained_Model/checkpoint-770\n",
      "Configuration saved in preTrained_Model/checkpoint-770/config.json\n",
      "Model weights saved in preTrained_Model/checkpoint-770/pytorch_model.bin\n",
      "tokenizer config file saved in preTrained_Model/checkpoint-770/tokenizer_config.json\n",
      "Special tokens file saved in preTrained_Model/checkpoint-770/special_tokens_map.json\n",
      "\n",
      "\n",
      "Training completed. Do not forget to share your model on huggingface.co/models =)\n",
      "\n",
      "\n"
     ]
    },
    {
     "data": {
      "text/plain": [
       "TrainOutput(global_step=770, training_loss=7.229094428520698, metrics={'train_runtime': 196.0867, 'train_samples_per_second': 62.753, 'train_steps_per_second': 3.927, 'total_flos': 1631901312860160.0, 'train_loss': 7.229094428520698, 'epoch': 5.0})"
      ]
     },
     "execution_count": 8,
     "metadata": {},
     "output_type": "execute_result"
    }
   ],
   "source": [
    "training_args = TrainingArguments(\n",
    "    output_dir='preTrained_Model',\n",
    "    overwrite_output_dir=True,\n",
    "    num_train_epochs=5,\n",
    "    per_device_train_batch_size=16,\n",
    "    save_strategy='epoch'\n",
    ")\n",
    "\n",
    "trainer = Trainer(\n",
    "    model=model,\n",
    "    args=training_args,\n",
    "    data_collator=data_collator,\n",
    "    train_dataset=dataset_map,\n",
    "    tokenizer=tokenizer_fast\n",
    ")\n",
    "\n",
    "trainer.train()"
   ]
  }
 ],
 "metadata": {
  "kernelspec": {
   "display_name": "nlp_base",
   "language": "python",
   "name": "python3"
  },
  "language_info": {
   "codemirror_mode": {
    "name": "ipython",
    "version": 3
   },
   "file_extension": ".py",
   "mimetype": "text/x-python",
   "name": "python",
   "nbconvert_exporter": "python",
   "pygments_lexer": "ipython3",
   "version": "3.10.12"
  }
 },
 "nbformat": 4,
 "nbformat_minor": 5
}
