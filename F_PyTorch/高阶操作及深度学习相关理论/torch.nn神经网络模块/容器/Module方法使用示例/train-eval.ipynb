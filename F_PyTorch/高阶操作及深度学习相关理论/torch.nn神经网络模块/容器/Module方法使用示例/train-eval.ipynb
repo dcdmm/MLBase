{
 "cells": [
  {
   "cell_type": "code",
   "execution_count": 100,
   "metadata": {
    "collapsed": true,
    "pycharm": {
     "name": "#%%\n"
    }
   },
   "outputs": [],
   "source": [
    "import torch\n",
    "import torch.nn as nn\n",
    "\n",
    "\n",
    "def gen_data(num_data=30, x_range=(-1, 1)):\n",
    "    \"\"\"数据集\"\"\"\n",
    "    w = 1.5\n",
    "    tr_x = torch.linspace(*x_range, num_data).unsqueeze_(1)\n",
    "    tr_y = w * tr_x + torch.normal(0, 0.8, size=tr_x.size())\n",
    "    te_x = torch.linspace(*x_range, num_data).unsqueeze_(1)\n",
    "    te_y = w * te_x + torch.normal(0, 0.8, size=te_x.size())\n",
    "\n",
    "    return tr_x, tr_y, te_x, te_y\n",
    "\n",
    "train_x, train_y, test_x, test_y = gen_data(x_range=(-1, 1))\n",
    "\n",
    "\n",
    "class MLP(nn.Module):\n",
    "    def __init__(self, neural_num):\n",
    "        super(MLP, self).__init__()\n",
    "        self.linears = nn.Sequential(\n",
    "            nn.Linear(1, neural_num),\n",
    "            nn.ReLU(inplace=True),\n",
    "\n",
    "            nn.Dropout(), # Dropout层\n",
    "            nn.Linear(neural_num, neural_num),\n",
    "            nn.ReLU(inplace=True),\n",
    "\n",
    "            nn.Dropout(),\n",
    "            nn.Linear(neural_num, neural_num),\n",
    "            nn.ReLU(inplace=True),\n",
    "\n",
    "            nn.Dropout(),\n",
    "            nn.Linear(neural_num, 1),\n",
    "        )\n",
    "\n",
    "    def forward(self, x):\n",
    "        return self.linears(x)\n",
    "\n",
    "\n",
    "net_drop = MLP(neural_num=200) # 模型\n",
    "optim_sgd = torch.optim.SGD(net_drop.parameters(), lr=0.01, momentum=0.9) # 优化器\n",
    "loss_func = torch.nn.MSELoss() # 损失函数"
   ]
  },
  {
   "cell_type": "code",
   "execution_count": 101,
   "outputs": [
    {
     "name": "stdout",
     "output_type": "stream",
     "text": [
      "test loss:0.36889684200286865\n",
      "test loss:0.3744291365146637\n",
      "test loss:0.3963598906993866\n",
      "test loss:0.3911718428134918\n",
      "test loss:0.3948180079460144\n",
      "test loss:0.4014647901058197\n",
      "test loss:0.38481712341308594\n",
      "test loss:0.3931702971458435\n",
      "test loss:0.4052799940109253\n",
      "test loss:0.4079582989215851\n"
     ]
    }
   ],
   "source": [
    "for epoch in range(2000):\n",
    "    train_pred = net_drop(test_x)\n",
    "    loss = loss_func(train_pred, train_y)\n",
    "    optim_sgd.zero_grad()\n",
    "    loss.backward()\n",
    "    optim_sgd.step()\n",
    "\n",
    "    if (epoch+1) % 200 == 0:\n",
    "        # Sets the module in evaluation mode.(即设置模型及所有子孙模型的training属性为False)\n",
    "        net_drop.eval() # 影响Dropout和BatchNorm1d,BatchNorm2d,BatchNorm3d\n",
    "\n",
    "        test_pred = net_drop(test_x)\n",
    "        print('test loss:{}'.format(loss_func(test_pred, test_y)))\n",
    "\n",
    "        # Sets the module in training mode.(即设置模型及所有子孙模型的training属性为True)\n",
    "        net_drop.train() # 影响Dropout和BatchNorm1d,BatchNorm2d,BatchNorm3d"
   ],
   "metadata": {
    "collapsed": false,
    "pycharm": {
     "name": "#%%\n"
    }
   }
  }
 ],
 "metadata": {
  "kernelspec": {
   "display_name": "Python 3",
   "language": "python",
   "name": "python3"
  },
  "language_info": {
   "codemirror_mode": {
    "name": "ipython",
    "version": 2
   },
   "file_extension": ".py",
   "mimetype": "text/x-python",
   "name": "python",
   "nbconvert_exporter": "python",
   "pygments_lexer": "ipython2",
   "version": "2.7.6"
  }
 },
 "nbformat": 4,
 "nbformat_minor": 0
}