{
 "cells": [
  {
   "cell_type": "markdown",
   "metadata": {
    "collapsed": true,
    "pycharm": {
     "name": "#%% md\n"
    }
   },
   "source": [
    "&emsp;&emsp;设任意一个$n$元二次型   \n",
    "$$ f(x_1, x_2, \\dots,x_n) = \\mathbf{x}^TA\\mathbf{x} $$  \n",
    "1. 若对任意的非零向量$\\mathbf{x}$,有$ \\mathbf{x}^TA\\mathbf{x} >0 (<0/\\geq 0) $成立,则\n",
    "称二次型$\\mathbf{x}^TA\\mathbf{x}$为正定(负定)二次型,称$A$为正定(负定/半正定)矩阵.  \n",
    "2. $n$元二次型$f(\\mathbf{x})=\\mathbf{x}^TA\\mathbf{x}$正定的充要条件是$A$的$n$个特征值全大于零,即$ \\lambda_i > 0 (i=1, 2, \\dots, n) $\n",
    "3. 实对称矩阵$A= (a_{ij})_{n \\times n}$正定的充分必要条件是$A$的各阶顺序主子式$A_k > 0 (k=1, 2, \\dots, n)$ "
   ]
  },
  {
   "cell_type": "code",
   "execution_count": 9,
   "outputs": [
    {
     "data": {
      "text/plain": "array([[2, 1, 1],\n       [1, 1, 0],\n       [1, 0, 3]])"
     },
     "metadata": {},
     "output_type": "execute_result",
     "execution_count": 9
    }
   ],
   "source": [
    "from numpy import linalg as LA\n",
    "import numpy as np\n",
    "\n",
    "matrix = np.array([[2, 1, 1], [1, 1, 0], [1, 0, 3]])\n",
    "matrix"
   ],
   "metadata": {
    "collapsed": false,
    "pycharm": {
     "name": "#%%\n",
     "is_executing": false
    }
   }
  },
  {
   "cell_type": "code",
   "execution_count": 10,
   "outputs": [
    {
     "name": "stdout",
     "text": [
      "[0.26794919 3.73205081 2.        ]\n"
     ],
     "output_type": "stream"
    }
   ],
   "source": [
    "w, v = LA.eig(matrix)\n",
    "print(w) # 特征值均大于0"
   ],
   "metadata": {
    "collapsed": false,
    "pycharm": {
     "name": "#%%\n",
     "is_executing": false
    }
   }
  },
  {
   "cell_type": "code",
   "execution_count": 11,
   "outputs": [
    {
     "name": "stdout",
     "text": [
      "2.0\n",
      "1.0\n",
      "2.0\n"
     ],
     "output_type": "stream"
    }
   ],
   "source": [
    "print(np.linalg.det(matrix[0:1,0:1])) # 1阶顺序主子式\n",
    "print(np.linalg.det(matrix[0:2, 0:2])) # 2阶顺序主子式\n",
    "print(np.linalg.det(matrix)) # 3阶顺序主子式"
   ],
   "metadata": {
    "collapsed": false,
    "pycharm": {
     "name": "#%%\n",
     "is_executing": false
    }
   }
  }
 ],
 "metadata": {
  "kernelspec": {
   "display_name": "Python 3",
   "language": "python",
   "name": "python3"
  },
  "language_info": {
   "codemirror_mode": {
    "name": "ipython",
    "version": 2
   },
   "file_extension": ".py",
   "mimetype": "text/x-python",
   "name": "python",
   "nbconvert_exporter": "python",
   "pygments_lexer": "ipython2",
   "version": "2.7.6"
  },
  "pycharm": {
   "stem_cell": {
    "cell_type": "raw",
    "source": [],
    "metadata": {
     "collapsed": false
    }
   }
  }
 },
 "nbformat": 4,
 "nbformat_minor": 0
}