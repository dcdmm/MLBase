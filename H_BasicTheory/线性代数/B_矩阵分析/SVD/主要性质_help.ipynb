{
 "cells": [
  {
   "cell_type": "markdown",
   "source": [
    "1. 设矩阵$A$的奇异值分解为$A=U \\Sigma V^T$,则以下关系成立:\n",
    "\n",
    "   \\begin{align}\n",
    "   & A^T A = (U \\Sigma V^T)^T(U \\Sigma V^T) = V(\\Sigma^T \\Sigma)V^T \\\\\n",
    "   & A A^T = (U \\Sigma V^T)(U \\Sigma V^T)^T = U(\\Sigma \\Sigma^T)U^T \\\\\n",
    "   \\end{align}\n",
    "\n",
    "&emsp;&emsp;也就是说,矩阵$A^TA$和$AA^T$的特征分解存在,且可以由矩阵$A$的奇异值分解的矩阵表示.$V$的列向量是$A^TA$的特征向量,\n",
    "$U$的列向量是$AA^T$的特征向量,$\\Sigma$的奇异值是$A^TA$和$AA^T$的特征值的平方根.\n",
    "\n",
    "2. 在矩阵$A$的奇异值分解中,奇异值,左奇异向量和右奇异向量之间存在对应关系.\n",
    "\n",
    "&emsp;&emsp;由$A=U \\Sigma V^T$易知\n",
    "\n",
    "$$ AV = U  \\Sigma $$\n",
    "\n",
    "比较这一等式两端的第$j$列,得到\n",
    "\n",
    "$$ A v_j = \\sigma_j u_j \\quad j=1,2,\\cdots,n $$\n",
    "\n",
    "这是矩阵$A$的右奇异向量和奇异值,左奇异向量的关系.\n",
    "\n",
    "&emsp;&emsp;类似地,由\n",
    "\n",
    "$$ A^T U = V  \\Sigma^T $$\n",
    "\n",
    "得到\n",
    "\n",
    "\\begin{align}\n",
    "A^T u_j = \\sigma_j v_j \\quad j=1,2,\\cdots,n \\\\\n",
    "A^T u_j = 0, \\quad j=n+1,n+,\\cdots,m\n",
    "\\end{align}\n",
    "\n",
    "这是矩阵$A$的左奇异向量和奇异值,右奇异向量的关系.\n",
    "\n",
    "3. 矩阵$A$的奇异值分解中,奇异值$\\sigma_1, \\sigma_2, \\cdots,\\sigma_n$是唯一的,而矩阵$U$和$V$不是唯一的.\n",
    "\n",
    "4. 矩阵$A$和$\\Sigma$的秩相等,等于正奇异值$\\sigma_r$的个数$r$(包含重复的奇异值)\n",
    "\n",
    "5. 矩阵$A$的$r$个右奇异向量$v_1,v_2,\\cdots,v_r$构成$A^T$的值域$R(A^T)$的一组标准正交基.\n",
    "因为矩阵$A^T$是从$\\mathbb{R}^m$映射到$\\mathbb{R}^n$的线性变换,则$A^T$的值域和$A^T$的列空间($A^T$的各列张成的$\\mathbb{R}^n$的子空间)是相同的,$v_1,v_2,\\cdots,v_r$是$A^T$的一组标准正交基,因而也是$R(A^T)$的一组标准正交基.\n",
    "\n",
    "6. 矩阵$A$的$n-r$个右奇异向量$v_{r+1},v_{r+2},\\cdots,v_n$构成$A$的零空间$N(A)$的一组标准正交基\n",
    "\n",
    "7. 矩阵$A$的$r$个左奇异向量$u_1,u_2,\\cdots,u_r$构成$A$的值域$R(A)$的一组标准正交基\n",
    "\n",
    "8. 矩阵$A$的$n-r$个左奇异向量$u_{r+1},u_{r+2},\\cdots,u_n$构成$A^T$的零空间$N(A^T)$的一组标准正交基\n",
    "\n",
    "\n"
   ],
   "metadata": {
    "collapsed": false,
    "pycharm": {
     "name": "#%% md\n"
    }
   }
  }
 ],
 "metadata": {
  "kernelspec": {
   "display_name": "Python 3",
   "language": "python",
   "name": "python3"
  },
  "language_info": {
   "codemirror_mode": {
    "name": "ipython",
    "version": 2
   },
   "file_extension": ".py",
   "mimetype": "text/x-python",
   "name": "python",
   "nbconvert_exporter": "python",
   "pygments_lexer": "ipython2",
   "version": "2.7.6"
  }
 },
 "nbformat": 4,
 "nbformat_minor": 0
}