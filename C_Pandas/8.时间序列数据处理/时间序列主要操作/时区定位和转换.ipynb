{
 "cells": [
  {
   "cell_type": "code",
   "execution_count": null,
   "outputs": [],
   "source": [
    "import numpy as np\n",
    "import  pandas as pd\n",
    "from pandas.tseries.offsets import  Hour"
   ],
   "metadata": {
    "collapsed": false,
    "pycharm": {
     "name": "#%%\n"
    }
   }
  },
  {
   "cell_type": "code",
   "execution_count": 3,
   "metadata": {
    "pycharm": {
     "is_executing": false
    }
   },
   "outputs": [
    {
     "data": {
      "text/plain": "2012-03-09 09:30:00   -0.957375\n2012-03-10 09:30:00    0.017311\n2012-03-11 09:30:00   -0.087387\n2012-03-12 09:30:00   -1.463961\n2012-03-13 09:30:00   -2.982219\n2012-03-14 09:30:00   -0.575997\nFreq: D, dtype: float64"
     },
     "metadata": {},
     "output_type": "execute_result",
     "execution_count": 3
    }
   ],
   "source": [
    "rng = pd.date_range('3/9/2012 9:30', periods=6, freq='D')\n",
    "ts = pd.Series(np.random.randn(len(rng)), index=rng)\n",
    "ts"
   ]
  },
  {
   "cell_type": "code",
   "execution_count": 4,
   "metadata": {
    "pycharm": {
     "is_executing": false
    }
   },
   "outputs": [
    {
     "name": "stdout",
     "text": [
      "None\n"
     ],
     "output_type": "stream"
    }
   ],
   "source": "print(ts.index.tz) # 索引的tz属性是None"
  },
  {
   "cell_type": "code",
   "execution_count": 5,
   "metadata": {
    "pycharm": {
     "is_executing": false
    }
   },
   "outputs": [],
   "source": "ts_utc = ts.tz_localize('Europe/Berlin') # tz_localize()时区定位"
  },
  {
   "cell_type": "code",
   "execution_count": 6,
   "metadata": {
    "pycharm": {
     "is_executing": false
    }
   },
   "outputs": [
    {
     "data": {
      "text/plain": "2012-03-09 09:30:00+01:00   -0.957375\n2012-03-10 09:30:00+01:00    0.017311\n2012-03-11 09:30:00+01:00   -0.087387\n2012-03-12 09:30:00+01:00   -1.463961\n2012-03-13 09:30:00+01:00   -2.982219\n2012-03-14 09:30:00+01:00   -0.575997\nFreq: D, dtype: float64"
     },
     "metadata": {},
     "output_type": "execute_result",
     "execution_count": 6
    }
   ],
   "source": [
    "ts_utc"
   ]
  },
  {
   "cell_type": "code",
   "execution_count": 7,
   "metadata": {
    "pycharm": {
     "is_executing": false
    }
   },
   "outputs": [
    {
     "data": {
      "text/plain": "2012-03-09 03:30:00-05:00   -0.957375\n2012-03-10 03:30:00-05:00    0.017311\n2012-03-11 04:30:00-04:00   -0.087387\n2012-03-12 04:30:00-04:00   -1.463961\n2012-03-13 04:30:00-04:00   -2.982219\n2012-03-14 04:30:00-04:00   -0.575997\nFreq: D, dtype: float64"
     },
     "metadata": {},
     "output_type": "execute_result",
     "execution_count": 7
    }
   ],
   "source": "ts_utc.tz_convert('America/New_York') # tz_convert()时区转换(tz属性不为None时)"
  },
  {
   "cell_type": "code",
   "execution_count": 8,
   "metadata": {
    "pycharm": {
     "is_executing": false
    }
   },
   "outputs": [
    {
     "data": {
      "text/plain": "2012-03-09 09:30:00-05:00   -0.957375\n2012-03-10 09:30:00-05:00    0.017311\n2012-03-11 09:30:00-04:00   -0.087387\n2012-03-12 09:30:00-04:00   -1.463961\n2012-03-13 09:30:00-04:00   -2.982219\n2012-03-14 09:30:00-04:00   -0.575997\nFreq: D, dtype: float64"
     },
     "metadata": {},
     "output_type": "execute_result",
     "execution_count": 8
    }
   ],
   "source": [
    "ts_eastern = ts.tz_localize('America/New_York')\n",
    "ts_eastern"
   ]
  },
  {
   "cell_type": "code",
   "execution_count": 9,
   "metadata": {
    "pycharm": {
     "is_executing": false
    }
   },
   "outputs": [
    {
     "data": {
      "text/plain": "2012-03-09 14:30:00+00:00   -0.957375\n2012-03-10 14:30:00+00:00    0.017311\n2012-03-11 13:30:00+00:00   -0.087387\n2012-03-12 13:30:00+00:00   -1.463961\n2012-03-13 13:30:00+00:00   -2.982219\n2012-03-14 13:30:00+00:00   -0.575997\nFreq: D, dtype: float64"
     },
     "metadata": {},
     "output_type": "execute_result",
     "execution_count": 9
    }
   ],
   "source": [
    "ts_eastern.tz_convert('UTC')"
   ]
  },
  {
   "cell_type": "code",
   "execution_count": 10,
   "metadata": {
    "pycharm": {
     "is_executing": false
    }
   },
   "outputs": [
    {
     "data": {
      "text/plain": "2012-03-09 15:30:00+01:00   -0.957375\n2012-03-10 15:30:00+01:00    0.017311\n2012-03-11 14:30:00+01:00   -0.087387\n2012-03-12 14:30:00+01:00   -1.463961\n2012-03-13 14:30:00+01:00   -2.982219\n2012-03-14 14:30:00+01:00   -0.575997\nFreq: D, dtype: float64"
     },
     "metadata": {},
     "output_type": "execute_result",
     "execution_count": 10
    }
   ],
   "source": [
    "ts_eastern.tz_convert('Europe/Berlin')"
   ]
  },
  {
   "cell_type": "code",
   "execution_count": 11,
   "metadata": {
    "pycharm": {
     "is_executing": false
    }
   },
   "outputs": [
    {
     "data": {
      "text/plain": "DatetimeIndex(['2012-03-09 09:30:00+08:00', '2012-03-10 09:30:00+08:00',\n               '2012-03-11 09:30:00+08:00', '2012-03-12 09:30:00+08:00',\n               '2012-03-13 09:30:00+08:00', '2012-03-14 09:30:00+08:00'],\n              dtype='datetime64[ns, Asia/Shanghai]', freq='D')"
     },
     "metadata": {},
     "output_type": "execute_result",
     "execution_count": 11
    }
   ],
   "source": "# tz_licalize和tz_convert也是DatetimeIndex的实例方法\nts.index.tz_localize('Asia/Shanghai')"
  },
  {
   "cell_type": "code",
   "execution_count": 12,
   "outputs": [],
   "source": "stamp = pd.Timestamp('2011-03-12 04:00') # 时间戳",
   "metadata": {
    "pycharm": {
     "metadata": false,
     "name": "#%%\n",
     "is_executing": false
    }
   }
  },
  {
   "cell_type": "code",
   "execution_count": 13,
   "outputs": [
    {
     "data": {
      "text/plain": "Timestamp('2011-03-12 04:00:00')"
     },
     "metadata": {},
     "output_type": "execute_result",
     "execution_count": 13
    }
   ],
   "source": "stamp",
   "metadata": {
    "pycharm": {
     "metadata": false,
     "name": "#%%\n",
     "is_executing": false
    }
   }
  },
  {
   "cell_type": "code",
   "execution_count": 14,
   "outputs": [
    {
     "data": {
      "text/plain": "<DstTzInfo 'America/New_York' EST-1 day, 19:00:00 STD>"
     },
     "metadata": {},
     "output_type": "execute_result",
     "execution_count": 14
    }
   ],
   "source": "# 单独Timestamp对象也可以进行时区定位和转换\nstamp_utc = stamp.tz_localize('utc')\nstamp_utc.tz_convert('America/New_York').tz",
   "metadata": {
    "pycharm": {
     "metadata": false,
     "name": "#%%\n",
     "is_executing": false
    }
   }
  },
  {
   "cell_type": "code",
   "execution_count": 15,
   "outputs": [
    {
     "data": {
      "text/plain": "Timestamp('2011-03-12 04:00:00+0300', tz='Europe/Moscow')"
     },
     "metadata": {},
     "output_type": "execute_result",
     "execution_count": 15
    }
   ],
   "source": "stamp_moscow = pd.Timestamp('2011-03-12 04:00', tz='Europe/Moscow')\nstamp_moscow",
   "metadata": {
    "pycharm": {
     "metadata": false,
     "name": "#%%\n",
     "is_executing": false
    }
   }
  },
  {
   "cell_type": "code",
   "execution_count": 16,
   "outputs": [
    {
     "data": {
      "text/plain": "Timestamp('2012-03-12 21:30:00-0400', tz='US/Eastern')"
     },
     "metadata": {},
     "output_type": "execute_result",
     "execution_count": 16
    }
   ],
   "source": "stamp = pd.Timestamp('2012-03-12 21:30', tz='US/Eastern')\nstamp",
   "metadata": {
    "pycharm": {
     "metadata": false,
     "name": "#%%\n",
     "is_executing": false
    }
   }
  },
  {
   "cell_type": "code",
   "execution_count": 17,
   "outputs": [
    {
     "data": {
      "text/plain": "Timestamp('2012-03-13 02:30:00-0400', tz='US/Eastern')"
     },
     "metadata": {},
     "output_type": "execute_result",
     "execution_count": 17
    }
   ],
   "source": "stamp + Hour(5)",
   "metadata": {
    "pycharm": {
     "metadata": false,
     "name": "#%%\n",
     "is_executing": false
    }
   }
  },
  {
   "cell_type": "code",
   "execution_count": 18,
   "outputs": [
    {
     "data": {
      "text/plain": "Timestamp('2012-11-04 00:30:00-0400', tz='US/Eastern')"
     },
     "metadata": {},
     "output_type": "execute_result",
     "execution_count": 18
    }
   ],
   "source": "stamp = pd.Timestamp('2012-11-04 00:30', tz='US/Eastern')\nstamp",
   "metadata": {
    "pycharm": {
     "metadata": false,
     "name": "#%%\n",
     "is_executing": false
    }
   }
  },
  {
   "cell_type": "code",
   "execution_count": 21,
   "outputs": [
    {
     "data": {
      "text/plain": "Timestamp('2012-11-04 13:30:00-0500', tz='US/Eastern')"
     },
     "metadata": {},
     "output_type": "execute_result",
     "execution_count": 21
    }
   ],
   "source": "'''\nUTC时间 + 时差 = 本地时间\nUTC时间           2018-05-20 09:30:00 UTC\nUTC+0800(北京)    2018-05-20 17:30:00 +8000\nUTC-0500(纽约)    2018-05-20 04:30:00 -0500\nUTC+0530(印度)    2018-05-20 07:00:00 +0530\nUTC-1000(夏威夷)  2018-05-19 15:30:00 -1000\n'''\nstamp_14 = stamp + 14 * Hour()\nstamp_14",
   "metadata": {
    "pycharm": {
     "metadata": false,
     "name": "#%%\n",
     "is_executing": false
    }
   }
  },
  {
   "cell_type": "code",
   "execution_count": 35,
   "outputs": [
    {
     "data": {
      "text/plain": "<DstTzInfo 'US/Eastern' EST-1 day, 19:00:00 STD>"
     },
     "metadata": {},
     "output_type": "execute_result",
     "execution_count": 35
    }
   ],
   "source": "stamp_14.tz # EDT:美国东部夏令时间(慢北京时间12小时)",
   "metadata": {
    "pycharm": {
     "metadata": false,
     "name": "#%%\n",
     "is_executing": false
    }
   }
  },
  {
   "cell_type": "code",
   "execution_count": 36,
   "outputs": [
    {
     "data": {
      "text/plain": "<DstTzInfo 'US/Eastern' EDT-1 day, 20:00:00 DST>"
     },
     "metadata": {},
     "output_type": "execute_result",
     "execution_count": 36
    }
   ],
   "source": "stamp.tz # EST:美国东部标准时间(慢北京时间13个小时)\n",
   "metadata": {
    "pycharm": {
     "metadata": false,
     "name": "#%%\n",
     "is_executing": false
    }
   }
  }
 ],
 "metadata": {
  "kernelspec": {
   "name": "python3",
   "language": "python",
   "display_name": "Python 3"
  },
  "language_info": {
   "codemirror_mode": {
    "name": "ipython",
    "version": 2
   },
   "file_extension": ".py",
   "mimetype": "text/x-python",
   "name": "python",
   "nbconvert_exporter": "python",
   "pygments_lexer": "ipython2",
   "version": "2.7.6"
  },
  "pycharm": {
   "stem_cell": {
    "cell_type": "raw",
    "source": [],
    "metadata": {
     "collapsed": false
    }
   }
  }
 },
 "nbformat": 4,
 "nbformat_minor": 0
}