{
 "cells": [
  {
   "cell_type": "markdown",
   "metadata": {
    "pycharm": {
     "metadata": false,
     "name": "#%% md\n"
    }
   },
   "source": [
    "## 特殊数组的创建\n",
    "1.  numpy.eye\n",
    "2.  numpy.ones/number.zeros_like\n",
    "3.  numpy.zeros/number.zeros_like\n",
    "4.  numpy.empty/numpy.empty_like\n",
    "5.  numpy.full/number.full_like\n",
    "5.  numpy.diag"
   ]
  },
  {
   "cell_type": "code",
   "execution_count": 32,
   "metadata": {
    "pycharm": {
     "is_executing": false,
     "name": "#%%\n"
    }
   },
   "outputs": [
    {
     "name": "stdout",
     "output_type": "stream",
     "text": [
      "[[1. 0. 0.]\n",
      " [0. 1. 0.]\n",
      " [0. 0. 1.]]\n",
      "[[0. 1. 0.]\n",
      " [0. 0. 1.]\n",
      " [0. 0. 0.]]\n",
      "\n",
      "[[0. 0. 1.]\n",
      " [0. 0. 0.]\n",
      " [0. 0. 0.]]\n",
      "\n",
      "[[0. 0. 0.]\n",
      " [1. 0. 0.]\n",
      " [0. 1. 0.]]\n",
      "\n",
      "[[0. 0. 0.]\n",
      " [0. 0. 0.]\n",
      " [1. 0. 0.]]\n",
      "\n"
     ]
    }
   ],
   "source": [
    "import numpy as np\n",
    "# Return a 2-D array with ones on the diagonal and zeros elsewhere.\n",
    "'''\n",
    "k : int, optional\n",
    "    Index of the diagonal: 0 (the default) refers to the main diagonal, a positive value\n",
    "    refers to an upper diagonal, and a negative value to a lower diagonal.\n",
    "'''\n",
    "print(np.eye(3))  # 默认k=0,dtype=float\n",
    "print(np.eye(3, k=1), end='\\n\\n')\n",
    "print(np.eye(3, k=2), end='\\n\\n')\n",
    "print(np.eye(3, k=-1), end='\\n\\n')\n",
    "print(np.eye(3, k=-2), end='\\n\\n')"
   ]
  },
  {
   "cell_type": "code",
   "execution_count": 33,
   "metadata": {
    "pycharm": {
     "is_executing": false,
     "metadata": false,
     "name": "#%%\n"
    }
   },
   "outputs": [
    {
     "name": "stdout",
     "output_type": "stream",
     "text": [
      "[1. 1. 1. 1. 1.]\n",
      "\n",
      "[[1. 1.]\n",
      " [1. 1.]]\n",
      "[[1. 1.]\n",
      " [1. 1.]]\n"
     ]
    }
   ],
   "source": [
    "# Return a new array of given shape and type, filled with ones.\n",
    "print(np.ones(5), end='\\n\\n')  # 向量/vector\n",
    "one = np.ones((2, 2))\n",
    "print(one)\n",
    "one_like = np.ones_like(one)\n",
    "print(one_like)"
   ]
  },
  {
   "cell_type": "code",
   "execution_count": 34,
   "metadata": {
    "pycharm": {
     "is_executing": false,
     "metadata": false,
     "name": "#%%\n"
    }
   },
   "outputs": [
    {
     "name": "stdout",
     "output_type": "stream",
     "text": [
      "[0. 0. 0. 0. 0.]\n",
      "\n",
      "[[0. 0.]\n",
      " [0. 0.]]\n"
     ]
    }
   ],
   "source": [
    "# Return a new array of given shape and type, filled with zeros.\n",
    "print(np.zeros(5), end='\\n\\n')\n",
    "print(np.zeros((2, 2)))"
   ]
  },
  {
   "cell_type": "code",
   "execution_count": 35,
   "metadata": {
    "pycharm": {
     "is_executing": false,
     "metadata": false,
     "name": "#%%\n"
    }
   },
   "outputs": [
    {
     "data": {
      "text/plain": [
       "array([[0.00000000e+000, 0.00000000e+000, 0.00000000e+000,\n",
       "        0.00000000e+000],\n",
       "       [0.00000000e+000, 6.10665138e-321, 1.24611402e-306,\n",
       "        8.34451927e-308]])"
      ]
     },
     "execution_count": 35,
     "metadata": {},
     "output_type": "execute_result"
    }
   ],
   "source": [
    "np.empty((2, 4))  # Return a new array of given shape and type, without initializing entries."
   ]
  },
  {
   "cell_type": "code",
   "execution_count": 36,
   "metadata": {
    "pycharm": {
     "is_executing": false,
     "name": "#%%\n"
    }
   },
   "outputs": [
    {
     "data": {
      "text/plain": [
       "array([[inf, inf],\n",
       "       [inf, inf]])"
      ]
     },
     "execution_count": 36,
     "metadata": {},
     "output_type": "execute_result"
    }
   ],
   "source": [
    "# Return a new array of given shape and type, filled with fill_value.\n",
    "inf = np.full((2, 2), np.inf)\n",
    "inf"
   ]
  },
  {
   "cell_type": "code",
   "execution_count": 37,
   "metadata": {
    "pycharm": {
     "is_executing": false,
     "name": "#%%\n"
    }
   },
   "outputs": [
    {
     "data": {
      "text/plain": [
       "array([[2.71828183, 2.71828183],\n",
       "       [2.71828183, 2.71828183]])"
      ]
     },
     "execution_count": 37,
     "metadata": {},
     "output_type": "execute_result"
    }
   ],
   "source": [
    "e = np.full_like(inf, np.e)\n",
    "e"
   ]
  },
  {
   "cell_type": "code",
   "execution_count": 38,
   "metadata": {
    "pycharm": {
     "is_executing": false,
     "name": "#%%\n"
    }
   },
   "outputs": [
    {
     "name": "stdout",
     "output_type": "stream",
     "text": [
      "[[0 1 2]\n",
      " [3 4 5]\n",
      " [6 7 8]]\n",
      "[0 4 8]\n",
      "[1 5]\n"
     ]
    }
   ],
   "source": [
    "x = np.arange(9).reshape((3,3))\n",
    "print(x)\n",
    "print(np.diag(x))  # Extract a diagonal\n",
    "'''\n",
    "k : int, optional\n",
    "    Diagonal in question. The default is 0. Use k>0 for diagonals above the main \n",
    "    diagonal, and k<0 for diagonals below the main diagonal.\n",
    "'''\n",
    "print(np.diag(x, k=1))"
   ]
  },
  {
   "cell_type": "code",
   "execution_count": 39,
   "metadata": {
    "pycharm": {
     "is_executing": false,
     "name": "#%%\n"
    }
   },
   "outputs": [
    {
     "name": "stdout",
     "output_type": "stream",
     "text": [
      "[[2 0 0]\n",
      " [0 3 0]\n",
      " [0 0 4]]\n"
     ]
    }
   ],
   "source": [
    "print(np.diag((2, 3, 4)))  # construct a diagonal array."
   ]
  }
 ],
 "metadata": {
  "kernelspec": {
   "display_name": "Python 3 (ipykernel)",
   "language": "python",
   "name": "python3"
  },
  "language_info": {
   "codemirror_mode": {
    "name": "ipython",
    "version": 3
   },
   "file_extension": ".py",
   "mimetype": "text/x-python",
   "name": "python",
   "nbconvert_exporter": "python",
   "pygments_lexer": "ipython3",
   "version": "3.8.11"
  },
  "stem_cell": {
   "cell_type": "raw",
   "metadata": {
    "pycharm": {
     "metadata": false
    }
   },
   "source": ""
  }
 },
 "nbformat": 4,
 "nbformat_minor": 1
}
