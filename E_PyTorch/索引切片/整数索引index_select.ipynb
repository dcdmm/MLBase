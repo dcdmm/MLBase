{
 "cells": [
  {
   "cell_type": "code",
   "execution_count": 1,
   "metadata": {
    "collapsed": true
   },
   "outputs": [],
   "source": [
    "import torch"
   ]
  },
  {
   "cell_type": "code",
   "execution_count": 2,
   "outputs": [
    {
     "data": {
      "text/plain": "tensor([[[ 0.5483,  0.8091,  0.5873],\n         [-0.4152,  0.0893,  1.1980],\n         [ 0.6379, -0.6911, -0.6690],\n         [-0.4665, -0.0722,  0.8793]],\n\n        [[-0.3319,  0.4482,  0.2401],\n         [ 1.5087,  1.5446, -2.5330],\n         [-1.4839,  0.1689, -1.2980],\n         [ 0.6924, -0.5392, -2.3757]],\n\n        [[-0.4162,  1.4420,  2.1816],\n         [-0.8604,  0.5881,  0.1512],\n         [ 0.5028,  1.1443,  0.0730],\n         [-0.8298,  0.8802,  1.4301]]])"
     },
     "execution_count": 2,
     "metadata": {},
     "output_type": "execute_result"
    }
   ],
   "source": [
    "x = torch.randn(3, 4, 3)\n",
    "x"
   ],
   "metadata": {
    "collapsed": false,
    "pycharm": {
     "name": "#%%\n"
    }
   }
  },
  {
   "cell_type": "code",
   "execution_count": 3,
   "outputs": [],
   "source": [
    "indices = torch.tensor([0, 2])"
   ],
   "metadata": {
    "collapsed": false,
    "pycharm": {
     "name": "#%%\n"
    }
   }
  },
  {
   "cell_type": "code",
   "execution_count": 4,
   "outputs": [
    {
     "data": {
      "text/plain": "tensor([[[ 0.5483,  0.8091,  0.5873],\n         [-0.4152,  0.0893,  1.1980],\n         [ 0.6379, -0.6911, -0.6690],\n         [-0.4665, -0.0722,  0.8793]],\n\n        [[-0.4162,  1.4420,  2.1816],\n         [-0.8604,  0.5881,  0.1512],\n         [ 0.5028,  1.1443,  0.0730],\n         [-0.8298,  0.8802,  1.4301]]])"
     },
     "execution_count": 4,
     "metadata": {},
     "output_type": "execute_result"
    }
   ],
   "source": [
    "'''\n",
    "input (Tensor) – the input tensor.\n",
    "dim (python:int) – the dimension in which we index\n",
    "index (LongTensor) – the 1-D tensor containing the indices to index\n",
    "'''\n",
    "torch.index_select(x, dim=0, index=indices)  # 维度dim上按index索引切片x"
   ],
   "metadata": {
    "collapsed": false,
    "pycharm": {
     "name": "#%%\n"
    }
   }
  },
  {
   "cell_type": "code",
   "execution_count": 5,
   "outputs": [
    {
     "data": {
      "text/plain": "tensor([[[ 0.5483,  0.8091,  0.5873],\n         [ 0.6379, -0.6911, -0.6690]],\n\n        [[-0.3319,  0.4482,  0.2401],\n         [-1.4839,  0.1689, -1.2980]],\n\n        [[-0.4162,  1.4420,  2.1816],\n         [ 0.5028,  1.1443,  0.0730]]])"
     },
     "execution_count": 5,
     "metadata": {},
     "output_type": "execute_result"
    }
   ],
   "source": [
    "select = torch.index_select(x, 1, index=indices)  # ★★★★返回一个新的tensor\n",
    "select"
   ],
   "metadata": {
    "collapsed": false,
    "pycharm": {
     "name": "#%%\n"
    }
   }
  },
  {
   "cell_type": "code",
   "execution_count": 6,
   "outputs": [
    {
     "data": {
      "text/plain": "tensor([[[0., 0., 0.],\n         [0., 0., 0.]],\n\n        [[0., 0., 0.],\n         [0., 0., 0.]],\n\n        [[0., 0., 0.],\n         [0., 0., 0.]]])"
     },
     "execution_count": 6,
     "metadata": {},
     "output_type": "execute_result"
    }
   ],
   "source": [
    "select[:] = 0\n",
    "select"
   ],
   "metadata": {
    "collapsed": false,
    "pycharm": {
     "name": "#%%\n"
    }
   }
  },
  {
   "cell_type": "code",
   "execution_count": 7,
   "outputs": [
    {
     "data": {
      "text/plain": "tensor([[[ 0.5483,  0.8091,  0.5873],\n         [-0.4152,  0.0893,  1.1980],\n         [ 0.6379, -0.6911, -0.6690],\n         [-0.4665, -0.0722,  0.8793]],\n\n        [[-0.3319,  0.4482,  0.2401],\n         [ 1.5087,  1.5446, -2.5330],\n         [-1.4839,  0.1689, -1.2980],\n         [ 0.6924, -0.5392, -2.3757]],\n\n        [[-0.4162,  1.4420,  2.1816],\n         [-0.8604,  0.5881,  0.1512],\n         [ 0.5028,  1.1443,  0.0730],\n         [-0.8298,  0.8802,  1.4301]]])"
     },
     "execution_count": 7,
     "metadata": {},
     "output_type": "execute_result"
    }
   ],
   "source": [
    "x  # x不变"
   ],
   "metadata": {
    "collapsed": false,
    "pycharm": {
     "name": "#%%\n"
    }
   }
  }
 ],
 "metadata": {
  "kernelspec": {
   "display_name": "Python 3",
   "language": "python",
   "name": "python3"
  },
  "language_info": {
   "codemirror_mode": {
    "name": "ipython",
    "version": 2
   },
   "file_extension": ".py",
   "mimetype": "text/x-python",
   "name": "python",
   "nbconvert_exporter": "python",
   "pygments_lexer": "ipython2",
   "version": "2.7.6"
  }
 },
 "nbformat": 4,
 "nbformat_minor": 0
}