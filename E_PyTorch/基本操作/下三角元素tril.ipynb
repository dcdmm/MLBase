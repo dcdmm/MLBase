{
 "cells": [
  {
   "cell_type": "code",
   "execution_count": 11,
   "metadata": {
    "collapsed": true
   },
   "outputs": [],
   "source": [
    "import torch"
   ]
  },
  {
   "cell_type": "code",
   "execution_count": 12,
   "outputs": [
    {
     "data": {
      "text/plain": "tensor([[ 1.5874,  0.4528,  0.5982],\n        [-0.8503, -0.0910, -0.4134],\n        [-0.9635, -0.4566, -0.0203]])"
     },
     "execution_count": 12,
     "metadata": {},
     "output_type": "execute_result"
    }
   ],
   "source": [
    "a = torch.randn(3, 3)\n",
    "a"
   ],
   "metadata": {
    "collapsed": false,
    "pycharm": {
     "name": "#%%\n"
    }
   }
  },
  {
   "cell_type": "code",
   "execution_count": 13,
   "outputs": [
    {
     "data": {
      "text/plain": "tensor([[ 1.5874,  0.0000,  0.0000],\n        [-0.8503, -0.0910,  0.0000],\n        [-0.9635, -0.4566, -0.0203]])"
     },
     "execution_count": 13,
     "metadata": {},
     "output_type": "execute_result"
    }
   ],
   "source": [
    "torch.tril(a)"
   ],
   "metadata": {
    "collapsed": false,
    "pycharm": {
     "name": "#%%\n"
    }
   }
  },
  {
   "cell_type": "code",
   "execution_count": 14,
   "outputs": [
    {
     "data": {
      "text/plain": "tensor([[-1.2274,  0.2578,  0.9099, -0.3158,  1.1616, -1.4595],\n        [-0.9839,  0.5062,  0.3704,  1.1052,  0.3075,  0.4253],\n        [ 0.3074,  0.5135, -1.0224,  1.1606, -0.3370,  1.5241],\n        [ 0.2456,  0.1387,  0.3884, -0.4349, -0.4148, -1.2779]])"
     },
     "execution_count": 14,
     "metadata": {},
     "output_type": "execute_result"
    }
   ],
   "source": [
    "b = torch.randn(4, 6)\n",
    "b"
   ],
   "metadata": {
    "collapsed": false,
    "pycharm": {
     "name": "#%%\n"
    }
   }
  },
  {
   "cell_type": "code",
   "execution_count": 15,
   "outputs": [
    {
     "data": {
      "text/plain": "tensor([[-1.2274,  0.0000,  0.0000,  0.0000,  0.0000,  0.0000],\n        [-0.9839,  0.5062,  0.0000,  0.0000,  0.0000,  0.0000],\n        [ 0.3074,  0.5135, -1.0224,  0.0000,  0.0000,  0.0000],\n        [ 0.2456,  0.1387,  0.3884, -0.4349,  0.0000,  0.0000]])"
     },
     "execution_count": 15,
     "metadata": {},
     "output_type": "execute_result"
    }
   ],
   "source": [
    "torch.tril(b)"
   ],
   "metadata": {
    "collapsed": false,
    "pycharm": {
     "name": "#%%\n"
    }
   }
  },
  {
   "cell_type": "code",
   "execution_count": 16,
   "outputs": [
    {
     "data": {
      "text/plain": "tensor([[-1.2274,  0.2578,  0.0000,  0.0000,  0.0000,  0.0000],\n        [-0.9839,  0.5062,  0.3704,  0.0000,  0.0000,  0.0000],\n        [ 0.3074,  0.5135, -1.0224,  1.1606,  0.0000,  0.0000],\n        [ 0.2456,  0.1387,  0.3884, -0.4349, -0.4148,  0.0000]])"
     },
     "execution_count": 16,
     "metadata": {},
     "output_type": "execute_result"
    }
   ],
   "source": [
    "# diagonal (int, optional) – the diagonal to consider\n",
    "torch.tril(b, diagonal=1)  # 默认diagonal=0"
   ],
   "metadata": {
    "collapsed": false,
    "pycharm": {
     "name": "#%%\n"
    }
   }
  },
  {
   "cell_type": "code",
   "execution_count": 17,
   "outputs": [
    {
     "data": {
      "text/plain": "tensor([[ 0.0000,  0.0000,  0.0000,  0.0000,  0.0000,  0.0000],\n        [-0.9839,  0.0000,  0.0000,  0.0000,  0.0000,  0.0000],\n        [ 0.3074,  0.5135,  0.0000,  0.0000,  0.0000,  0.0000],\n        [ 0.2456,  0.1387,  0.3884,  0.0000,  0.0000,  0.0000]])"
     },
     "execution_count": 17,
     "metadata": {},
     "output_type": "execute_result"
    }
   ],
   "source": [
    "torch.tril(b, diagonal=-1)"
   ],
   "metadata": {
    "collapsed": false,
    "pycharm": {
     "name": "#%%\n"
    }
   }
  },
  {
   "cell_type": "code",
   "execution_count": 17,
   "outputs": [],
   "source": [],
   "metadata": {
    "collapsed": false,
    "pycharm": {
     "name": "#%%\n"
    }
   }
  }
 ],
 "metadata": {
  "kernelspec": {
   "display_name": "Python 3",
   "language": "python",
   "name": "python3"
  },
  "language_info": {
   "codemirror_mode": {
    "name": "ipython",
    "version": 2
   },
   "file_extension": ".py",
   "mimetype": "text/x-python",
   "name": "python",
   "nbconvert_exporter": "python",
   "pygments_lexer": "ipython2",
   "version": "2.7.6"
  }
 },
 "nbformat": 4,
 "nbformat_minor": 0
}