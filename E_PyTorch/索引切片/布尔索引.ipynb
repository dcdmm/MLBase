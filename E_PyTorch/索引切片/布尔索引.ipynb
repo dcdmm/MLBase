{
 "cells": [
  {
   "cell_type": "code",
   "execution_count": 27,
   "outputs": [],
   "source": [
    "import torch"
   ],
   "metadata": {
    "collapsed": false,
    "pycharm": {
     "name": "#%%\n"
    }
   }
  },
  {
   "cell_type": "markdown",
   "source": [
    "### 参考numpy布尔索引"
   ],
   "metadata": {
    "collapsed": false,
    "pycharm": {
     "name": "#%% md\n"
    }
   }
  },
  {
   "cell_type": "code",
   "execution_count": 28,
   "outputs": [
    {
     "name": "stdout",
     "output_type": "stream",
     "text": [
      "tensor([1, 2, 3, 1, 3, 2, 2])\n",
      "tensor([[-2.9392,  0.3311, -1.4612,  0.2028],\n",
      "        [ 1.1122,  1.1066, -0.2456,  0.3342],\n",
      "        [ 1.0666, -0.4861,  1.0569, -1.2462],\n",
      "        [-1.3327, -0.1844, -0.7482, -1.3966],\n",
      "        [ 0.7182,  0.3388,  0.1546,  0.0978],\n",
      "        [-0.3212,  0.9883, -1.7305,  1.1847],\n",
      "        [-0.2366, -1.0235,  1.6206,  0.1760]])\n"
     ]
    }
   ],
   "source": [
    "target = torch.tensor([1, 2, 3, 1, 3, 2, 2])\n",
    "data = torch.randn(7, 4)\n",
    "print(target)\n",
    "print(data)"
   ],
   "metadata": {
    "collapsed": false,
    "pycharm": {
     "name": "#%%\n"
    }
   }
  },
  {
   "cell_type": "code",
   "execution_count": 29,
   "outputs": [
    {
     "name": "stdout",
     "output_type": "stream",
     "text": [
      "torch.bool\n",
      "tensor([ True, False, False,  True, False, False, False])\n"
     ]
    }
   ],
   "source": [
    "check = target == 1\n",
    "print(check.dtype)\n",
    "print(check)"
   ],
   "metadata": {
    "collapsed": false,
    "pycharm": {
     "name": "#%%\n"
    }
   }
  },
  {
   "cell_type": "code",
   "execution_count": 30,
   "outputs": [
    {
     "data": {
      "text/plain": "tensor([[-2.9392,  0.3311, -1.4612,  0.2028],\n        [-1.3327, -0.1844, -0.7482, -1.3966]])"
     },
     "execution_count": 30,
     "metadata": {},
     "output_type": "execute_result"
    }
   ],
   "source": [
    "data[check]  # 第零个维度布尔切片"
   ],
   "metadata": {
    "collapsed": false,
    "pycharm": {
     "name": "#%%\n"
    }
   }
  },
  {
   "cell_type": "code",
   "execution_count": 31,
   "outputs": [
    {
     "data": {
      "text/plain": "tensor([[-2.9392,  0.2028],\n        [ 1.1122,  0.3342],\n        [ 1.0666, -1.2462],\n        [-1.3327, -1.3966],\n        [ 0.7182,  0.0978],\n        [-0.3212,  1.1847],\n        [-0.2366,  0.1760]])"
     },
     "execution_count": 31,
     "metadata": {},
     "output_type": "execute_result"
    }
   ],
   "source": [
    "data[:, check[:4]]  # 第一个维度上的布尔索引"
   ],
   "metadata": {
    "collapsed": false,
    "pycharm": {
     "name": "#%%\n"
    }
   }
  },
  {
   "cell_type": "code",
   "execution_count": 32,
   "outputs": [
    {
     "data": {
      "text/plain": "tensor([[-1.4612,  0.2028],\n        [-0.7482, -1.3966]])"
     },
     "execution_count": 32,
     "metadata": {},
     "output_type": "execute_result"
    }
   ],
   "source": [
    "data[target == 1, 2:]"
   ],
   "metadata": {
    "collapsed": false,
    "pycharm": {
     "name": "#%%\n"
    }
   }
  },
  {
   "cell_type": "code",
   "execution_count": 33,
   "outputs": [
    {
     "name": "stdout",
     "output_type": "stream",
     "text": [
      "tensor([False,  True,  True, False,  True,  True,  True])\n",
      "tensor([ True, False, False,  True, False, False, False])\n",
      "tensor([[-2.9392,  0.3311, -1.4612,  0.2028],\n",
      "        [-1.3327, -0.1844, -0.7482, -1.3966]])\n"
     ]
    }
   ],
   "source": [
    "print(target != 1)\n",
    "print(~(target != 1))  # ~:取反\n",
    "print(data[~(target != 1)])"
   ],
   "metadata": {
    "collapsed": false,
    "pycharm": {
     "name": "#%%\n"
    }
   }
  },
  {
   "cell_type": "code",
   "execution_count": 34,
   "outputs": [
    {
     "name": "stdout",
     "output_type": "stream",
     "text": [
      "tensor([ True, False,  True,  True,  True, False, False])\n",
      "tensor([[-2.9392,  0.3311, -1.4612,  0.2028],\n",
      "        [ 1.0666, -0.4861,  1.0569, -1.2462],\n",
      "        [-1.3327, -0.1844, -0.7482, -1.3966],\n",
      "        [ 0.7182,  0.3388,  0.1546,  0.0978]])\n"
     ]
    }
   ],
   "source": [
    "mask = (target == 1) | (target == 3)  # |:并集,不能使用关键字or\n",
    "print(mask)\n",
    "print(data[mask])"
   ],
   "metadata": {
    "collapsed": false,
    "pycharm": {
     "name": "#%%\n"
    }
   }
  },
  {
   "cell_type": "code",
   "execution_count": 35,
   "outputs": [
    {
     "name": "stdout",
     "output_type": "stream",
     "text": [
      "tensor([False, False, False, False, False, False, False])\n",
      "tensor([], size=(0, 4))\n"
     ]
    }
   ],
   "source": [
    "mask1 = (target == 1) & (target == 3)  # &:交集,不能使用关键字and\n",
    "print(mask1)\n",
    "print(data[mask1])"
   ],
   "metadata": {
    "collapsed": false,
    "pycharm": {
     "name": "#%%\n"
    }
   }
  },
  {
   "cell_type": "code",
   "execution_count": 36,
   "outputs": [
    {
     "data": {
      "text/plain": "tensor([[ True, False,  True, False],\n        [False, False,  True, False],\n        [False,  True, False,  True],\n        [ True,  True,  True,  True],\n        [False, False, False, False],\n        [ True, False,  True, False],\n        [ True,  True, False, False]])"
     },
     "execution_count": 36,
     "metadata": {},
     "output_type": "execute_result"
    }
   ],
   "source": [
    "s = data < 0\n",
    "s"
   ],
   "metadata": {
    "collapsed": false,
    "pycharm": {
     "name": "#%%\n"
    }
   }
  },
  {
   "cell_type": "code",
   "execution_count": 37,
   "outputs": [
    {
     "name": "stdout",
     "output_type": "stream",
     "text": [
      "torch.Size([13])\n",
      "tensor([-2.9392, -1.4612, -0.2456, -0.4861, -1.2462, -1.3327, -0.1844, -0.7482,\n",
      "        -1.3966, -0.3212, -1.7305, -0.2366, -1.0235])\n"
     ]
    }
   ],
   "source": [
    "# 所有s中不为False处的元素\n",
    "print(data[s].shape)  # 1维tensor\n",
    "print(data[s])"
   ],
   "metadata": {
    "collapsed": false,
    "pycharm": {
     "name": "#%%\n"
    }
   }
  },
  {
   "cell_type": "code",
   "execution_count": 38,
   "outputs": [
    {
     "data": {
      "text/plain": "tensor([[9.9990e+03, 3.3108e-01, 9.9990e+03, 2.0283e-01],\n        [1.1122e+00, 1.1066e+00, 9.9990e+03, 3.3419e-01],\n        [1.0666e+00, 9.9990e+03, 1.0569e+00, 9.9990e+03],\n        [9.9990e+03, 9.9990e+03, 9.9990e+03, 9.9990e+03],\n        [7.1823e-01, 3.3877e-01, 1.5459e-01, 9.7802e-02],\n        [9.9990e+03, 9.8832e-01, 9.9990e+03, 1.1847e+00],\n        [9.9990e+03, 9.9990e+03, 1.6206e+00, 1.7596e-01]])"
     },
     "execution_count": 38,
     "metadata": {},
     "output_type": "execute_result"
    }
   ],
   "source": [
    "data[s] = 9999  # 逐个元素的布尔索引\n",
    "data  # data发生改变"
   ],
   "metadata": {
    "collapsed": false,
    "pycharm": {
     "name": "#%%\n"
    }
   }
  },
  {
   "cell_type": "code",
   "execution_count": 39,
   "outputs": [
    {
     "data": {
      "text/plain": "tensor([[7.0000e+00, 7.0000e+00, 7.0000e+00, 7.0000e+00],\n        [1.1122e+00, 1.1066e+00, 9.9990e+03, 3.3419e-01],\n        [7.0000e+00, 7.0000e+00, 7.0000e+00, 7.0000e+00],\n        [7.0000e+00, 7.0000e+00, 7.0000e+00, 7.0000e+00],\n        [7.0000e+00, 7.0000e+00, 7.0000e+00, 7.0000e+00],\n        [9.9990e+03, 9.8832e-01, 9.9990e+03, 1.1847e+00],\n        [9.9990e+03, 9.9990e+03, 1.6206e+00, 1.7596e-01]])"
     },
     "execution_count": 39,
     "metadata": {},
     "output_type": "execute_result"
    }
   ],
   "source": [
    "data[target != 2] = 7  # ★★★★★和整数索引类似,只能通过对原tensor[索引/切片]直接进行赋值从而修改原tensor\n",
    "data  # data发生改变"
   ],
   "metadata": {
    "collapsed": false,
    "pycharm": {
     "name": "#%%\n"
    }
   }
  },
  {
   "cell_type": "code",
   "execution_count": 39,
   "outputs": [],
   "source": [
    "\n"
   ],
   "metadata": {
    "collapsed": false,
    "pycharm": {
     "name": "#%%\n"
    }
   }
  }
 ],
 "metadata": {
  "kernelspec": {
   "display_name": "Python 3",
   "language": "python",
   "name": "python3"
  },
  "language_info": {
   "codemirror_mode": {
    "name": "ipython",
    "version": 2
   },
   "file_extension": ".py",
   "mimetype": "text/x-python",
   "name": "python",
   "nbconvert_exporter": "python",
   "pygments_lexer": "ipython2",
   "version": "2.7.6"
  }
 },
 "nbformat": 4,
 "nbformat_minor": 0
}