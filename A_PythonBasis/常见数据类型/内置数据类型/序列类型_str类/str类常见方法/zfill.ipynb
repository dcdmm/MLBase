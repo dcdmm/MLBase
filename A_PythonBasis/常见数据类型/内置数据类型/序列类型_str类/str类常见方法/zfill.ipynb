{
 "cells": [
  {
   "cell_type": "code",
   "execution_count": 5,
   "metadata": {
    "collapsed": true,
    "pycharm": {
     "is_executing": false
    }
   },
   "outputs": [
    {
     "name": "stdout",
     "text": [
      "zfill(): 0000i LOVE \tch  \tina\tEVERYDAY \n"
     ],
     "output_type": "stream"
    }
   ],
   "source": [
    "example = \"i LOVE \\tch  \\tina\\tEVERYDAY \"\n",
    "\n",
    "example_zfill = example.zfill(30)\n",
    "# 返回长度为width的字符串,字符串右对齐,左边用0填充\n",
    "print('zfill():', example_zfill)"
   ]
  },
  {
   "cell_type": "code",
   "execution_count": null,
   "outputs": [],
   "source": [
    "\n"
   ],
   "metadata": {
    "collapsed": false,
    "pycharm": {
     "name": "#%%\n"
    }
   }
  }
 ],
 "metadata": {
  "kernelspec": {
   "display_name": "Python 3",
   "language": "python",
   "name": "python3"
  },
  "language_info": {
   "codemirror_mode": {
    "name": "ipython",
    "version": 2
   },
   "file_extension": ".py",
   "mimetype": "text/x-python",
   "name": "python",
   "nbconvert_exporter": "python",
   "pygments_lexer": "ipython2",
   "version": "2.7.6"
  },
  "pycharm": {
   "stem_cell": {
    "cell_type": "raw",
    "source": [],
    "metadata": {
     "collapsed": false
    }
   }
  }
 },
 "nbformat": 4,
 "nbformat_minor": 0
}