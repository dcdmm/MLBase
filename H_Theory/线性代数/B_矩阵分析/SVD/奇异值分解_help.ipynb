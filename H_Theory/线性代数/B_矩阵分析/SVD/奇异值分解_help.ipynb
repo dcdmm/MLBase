{
 "cells": [
  {
   "cell_type": "markdown",
   "metadata": {
    "collapsed": true,
    "pycharm": {
     "name": "#%% md\n"
    }
   },
   "source": [
    "*** \n",
    "<font color='red' size=4>定义(完全奇异值分解):</font>  矩阵的奇异值分解是指,将一个非零$m \\times n$实矩阵$A,A \\in \\mathbb{R}^{m \\times n}$,\n",
    "表示为以下三个实矩阵乘积形形式的运算,即进行矩阵的因子分解:\n",
    "\n",
    "$$ A = U \\Sigma V^T $$\n",
    "\n",
    "其中$ U $是$ m $阶正交矩阵(orthogonal matrix),$ V $是$ n $阶正交矩阵,$\\Sigma$是由降序排列的非负的对角线元素组成的$m \\times n$矩形对角矩阵(rectangular diagonal matrix),满足\n",
    "\n",
    "\\begin{align} \n",
    "& UU^T = I \\\\\n",
    "& VV^T = I \\\\\n",
    "&\\Sigma = \\mathrm{diag}( \\sigma_1, \\sigma_2, \\cdots, \\sigma_n ) \\\\\n",
    "& \\sigma_1 \\geq \\sigma_2, \\geq  \\cdots \\geq \\sigma_p \\geq 0 \\\\\n",
    "& p = \\min_{m, n}\n",
    "\\end{align}    \n",
    "\n",
    "$ U\\Sigma V^T $称为矩阵$A$的奇异值分解(singular value decomposition, SVD),$ \\sigma_i $称为矩阵$A$的奇异值(singular value),$U$的列向量称为左奇异向量(left singular vector),\n",
    "$ V $的列向量称为右奇异向量(right singular vector)\n",
    "\n",
    "&emsp;&emsp;注意奇异值分解不要求矩阵$ A $是方阵,事实上矩阵的奇异值分解可以看作是方阵对角化的推广.\n",
    "\n",
    "***    \n",
    "\n",
    "<font color='red'  size=4>定义:</font> 设有$m \\times n$实矩阵$ A $,其秩为$\\mathrm{rank} (A) = r, r \\leq \\min(m, n)$,\n",
    "则称$ U_r \\Sigma_r V_r^T $为$A$的紧奇异值分解(compact singular value decomposition),即\n",
    "\n",
    "$$ A = U_r \\Sigma_r V_r^T $$\n",
    "\n",
    "其中,$ U_r $是$ m \\times r $矩阵,$ V_r $是$ n \\times r $矩阵,$ \\Sigma_r $是$ r $阶对角矩阵;矩阵$ U_r $由完全奇异值分解中$ U $的前$ r $列,\n",
    "矩阵$ V_r $由$ V $的前$ r $列,矩阵$ \\Sigma_r $由$ \\Sigma $的前$ r $个对角线元素得到.紧奇异值分解的对角矩阵$\\Sigma_r$与原始矩阵$A$的秩相等,\n",
    "即紧奇异值分解是与原始矩阵等秩的奇异值分解.\n",
    "\n",
    "***\n",
    "\n",
    "<font color='red' size=4>定义:</font> 设有$m \\times n$实矩阵$ A $,其秩为$\\mathrm{rank} (A) = r$,\n",
    "且$ 0 <k<r$则称$ U_k \\Sigma_k V_k^T $为$A$的截断奇异值分解(truncated singular value decomposition),即\n",
    "\n",
    "$$ A \\approx U_k \\Sigma_k V_k^T $$\n",
    "\n",
    "其中,$ U_k $是$ m \\times k $矩阵,$V_k$是$n \\times k$矩阵,$\\Sigma_k$是$k$阶对角矩阵;矩阵$U_k$由完全奇异值分解中$U$的前$k$列,\n",
    "矩阵$V_k$由$V$的前$k$列,矩阵$\\Sigma_r$由$\\Sigma$的前$k$个对角线元素得到.对角矩阵$\\Sigma_k$比原始矩阵$A$的秩低,即截断奇异值分解是比原始矩阵低秩的奇异值分解.\n",
    "\n",
    "***\n",
    "\n",
    "\n"
   ]
  }
 ],
 "metadata": {
  "kernelspec": {
   "display_name": "Python 3",
   "language": "python",
   "name": "python3"
  },
  "language_info": {
   "codemirror_mode": {
    "name": "ipython",
    "version": 3
   },
   "file_extension": ".py",
   "mimetype": "text/x-python",
   "name": "python",
   "nbconvert_exporter": "python",
   "pygments_lexer": "ipython3",
   "version": "3.7.7"
  },
  "toc": {
   "base_numbering": 1,
   "nav_menu": {},
   "number_sections": true,
   "sideBar": true,
   "skip_h1_title": false,
   "title_cell": "Table of Contents",
   "title_sidebar": "Contents",
   "toc_cell": false,
   "toc_position": {},
   "toc_section_display": true,
   "toc_window_display": false
  }
 },
 "nbformat": 4,
 "nbformat_minor": 1
}
