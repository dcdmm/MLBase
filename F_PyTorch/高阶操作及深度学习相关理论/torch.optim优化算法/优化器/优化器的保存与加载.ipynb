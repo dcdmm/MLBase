{
 "cells": [
  {
   "cell_type": "code",
   "execution_count": 6,
   "outputs": [],
   "source": [
    "import torch\n",
    "import torch.optim as optim"
   ],
   "metadata": {
    "collapsed": false,
    "pycharm": {
     "name": "#%%\n"
    }
   }
  },
  {
   "cell_type": "code",
   "execution_count": 7,
   "outputs": [
    {
     "name": "stdout",
     "output_type": "stream",
     "text": [
      "state_dict before step:\n",
      " {'state': {}, 'param_groups': [{'lr': 0.1, 'momentum': 0.9, 'dampening': 0, 'weight_decay': 0, 'nesterov': False, 'params': [0]}]}\n",
      "state_dict after step:\n",
      " {'state': {0: {'momentum_buffer': tensor([[6.5132, 6.5132],\n",
      "        [6.5132, 6.5132]])}}, 'param_groups': [{'lr': 0.1, 'momentum': 0.9, 'dampening': 0, 'weight_decay': 0, 'nesterov': False, 'params': [0]}]}\n"
     ]
    }
   ],
   "source": [
    "weight = torch.tensor([[10, 11],\n",
    "                       [12, 13]], dtype=torch.float32, requires_grad=True)\n",
    "weight.grad = torch.ones((2, 2))\n",
    "new_optimizer = optim.SGD([weight], lr=0.1, momentum=0.9)\n",
    "\n",
    "'''\n",
    "Returns the state of the optimizer as a dict.\n",
    "\n",
    "It contains two entries:\n",
    "state -\n",
    "    a dict holding current optimization state.\n",
    "    Its contentdiffers between optimizer classes.\n",
    "param_groups -\n",
    "    a dict containing all parameter groups\n",
    "'''\n",
    "opt_state_dict = new_optimizer.state_dict()\n",
    "\n",
    "print(\"state_dict before step:\\n\", opt_state_dict)\n",
    "\n",
    "for i in range(10):\n",
    "    new_optimizer.step()\n",
    "\n",
    "print(\"state_dict after step:\\n\", new_optimizer.state_dict())\n",
    "torch.save(new_optimizer.state_dict(), \"Optimizer_state_dict.pkl\") # Saves an object to a disk file"
   ],
   "metadata": {
    "collapsed": false,
    "pycharm": {
     "name": "#%%\n"
    }
   }
  },
  {
   "cell_type": "code",
   "execution_count": 8,
   "outputs": [
    {
     "name": "stdout",
     "output_type": "stream",
     "text": [
      "state_dict before load state:\n",
      " {'state': {}, 'param_groups': [{'lr': 0.1, 'momentum': 0.9, 'dampening': 0, 'weight_decay': 0, 'nesterov': False, 'params': [0]}]}\n",
      "state_dict after load state:\n",
      " {'state': {0: {'momentum_buffer': tensor([[6.5132, 6.5132],\n",
      "        [6.5132, 6.5132]])}}, 'param_groups': [{'lr': 0.1, 'momentum': 0.9, 'dampening': 0, 'weight_decay': 0, 'nesterov': False, 'params': [0]}]}\n"
     ]
    }
   ],
   "source": [
    "last_optimizer = optim.SGD([weight], lr=0.1, momentum=0.9)\n",
    "state_dict = torch.load(\"optimizer_state_dict.pkl\")\n",
    "\n",
    "print(\"state_dict before load state:\\n\", last_optimizer.state_dict())\n",
    "\n",
    "# Loads the optimizer state.\n",
    "last_optimizer.load_state_dict(state_dict)\n",
    "print(\"state_dict after load state:\\n\", last_optimizer.state_dict())"
   ],
   "metadata": {
    "collapsed": false,
    "pycharm": {
     "name": "#%%\n"
    }
   }
  },
  {
   "cell_type": "code",
   "execution_count": 8,
   "metadata": {
    "collapsed": true
   },
   "outputs": [],
   "source": []
  }
 ],
 "metadata": {
  "kernelspec": {
   "display_name": "Python 3",
   "language": "python",
   "name": "python3"
  },
  "language_info": {
   "codemirror_mode": {
    "name": "ipython",
    "version": 2
   },
   "file_extension": ".py",
   "mimetype": "text/x-python",
   "name": "python",
   "nbconvert_exporter": "python",
   "pygments_lexer": "ipython2",
   "version": "2.7.6"
  }
 },
 "nbformat": 4,
 "nbformat_minor": 0
}