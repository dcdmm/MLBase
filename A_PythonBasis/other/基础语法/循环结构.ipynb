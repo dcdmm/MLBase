{
 "cells": [
  {
   "cell_type": "code",
   "execution_count": 31,
   "metadata": {
    "collapsed": true
   },
   "outputs": [
    {
     "name": "stdout",
     "output_type": "stream",
     "text": [
      "3\n",
      "循环结束\n"
     ]
    }
   ],
   "source": [
    "# for else结构\n",
    "for i in range(5):\n",
    "    if i == 3:\n",
    "        print(i)\n",
    "else:\n",
    "    # 循环完成后执行的代码块\n",
    "    print(\"循环结束\")"
   ]
  },
  {
   "cell_type": "code",
   "execution_count": 32,
   "outputs": [
    {
     "name": "stdout",
     "output_type": "stream",
     "text": [
      "3\n"
     ]
    }
   ],
   "source": [
    "for i in range(5):\n",
    "    if i == 3:\n",
    "        print(i)\n",
    "        break  # 提前跳出当前整个循环\n",
    "else:\n",
    "    # 此时else代码块不会被执行\n",
    "    print(\"循环结束\")"
   ],
   "metadata": {
    "collapsed": false,
    "pycharm": {
     "name": "#%%\n"
    }
   }
  },
  {
   "cell_type": "code",
   "execution_count": 33,
   "outputs": [
    {
     "name": "stdout",
     "output_type": "stream",
     "text": [
      "3 7\n",
      "7 3\n"
     ]
    }
   ],
   "source": [
    "for i in range(10):\n",
    "    for j in range(10):\n",
    "        if i*j == 21:\n",
    "            print(i, j)\n",
    "            break  # 跳出内层循环(注:不能跳出外层循环)"
   ],
   "metadata": {
    "collapsed": false,
    "pycharm": {
     "name": "#%%\n"
    }
   }
  },
  {
   "cell_type": "code",
   "execution_count": 34,
   "outputs": [
    {
     "name": "stdout",
     "output_type": "stream",
     "text": [
      "3 7\n"
     ]
    }
   ],
   "source": [
    "# 跳出多层循环方法一(或直接使用raise关键字抛出异常,从而跳出多层循环):\n",
    "if_break = False\n",
    "for i in range(10):\n",
    "    for j in range(10):\n",
    "        if i*j == 21:\n",
    "            if_break = True\n",
    "            print(i, j)\n",
    "            break\n",
    "    if if_break:\n",
    "        break"
   ],
   "metadata": {
    "collapsed": false,
    "pycharm": {
     "name": "#%%\n"
    }
   }
  },
  {
   "cell_type": "code",
   "execution_count": 35,
   "outputs": [
    {
     "name": "stdout",
     "output_type": "stream",
     "text": [
      "i: 0\n"
     ]
    }
   ],
   "source": [
    "# 跳出多层循环方法二:\n",
    "'''\n",
    "执行流程:\n",
    "1. i=0\n",
    "    1. 进入内层for循环\n",
    "    2. 进入else代码块\n",
    "    3. 输出i:0\n",
    "    4. continue,结束外层循环的本次循环\n",
    "2. i=1\n",
    "    1. 进入内层for循环\n",
    "    2. 进入else代码块\n",
    "    3. 输出i:1\n",
    "    4. continue,结束外层循环的本次循环\n",
    "3. i=2\n",
    "    1. 进入内层for循环\n",
    "    2. 进入else代码块\n",
    "    3. 输出i:2\n",
    "    4. continue,结束外层循环的本次循环\n",
    "5. i=3\n",
    "    1. 进入内层for循环\n",
    "    2. 输出3, 7\n",
    "    3. break,不进入else代码块\n",
    "    4. break,结束外层循环\n",
    "'''\n",
    "for i in range(10):\n",
    "    for j in range(10):\n",
    "        if i*j == 21:\n",
    "            print(\"reuslt:\", i, j)\n",
    "            break\n",
    "    else:\n",
    "        print(\"i:\", i)\n",
    "        continue  # 跳过本次循环\n",
    "    break"
   ],
   "metadata": {
    "collapsed": false,
    "pycharm": {
     "name": "#%%\n"
    }
   }
  },
  {
   "cell_type": "code",
   "execution_count": 36,
   "outputs": [
    {
     "name": "stdout",
     "output_type": "stream",
     "text": [
      "5\n",
      "循环结束\n"
     ]
    }
   ],
   "source": [
    "# while循环\n",
    "i = 0\n",
    "while i < 10:  # 判断条件\n",
    "    if i == 5:\n",
    "        print(i)\n",
    "    i += 1\n",
    "else:\n",
    "    print(\"循环结束\")"
   ],
   "metadata": {
    "collapsed": false,
    "pycharm": {
     "name": "#%%\n"
    }
   }
  }
 ],
 "metadata": {
  "kernelspec": {
   "display_name": "Python 3",
   "language": "python",
   "name": "python3"
  },
  "language_info": {
   "codemirror_mode": {
    "name": "ipython",
    "version": 2
   },
   "file_extension": ".py",
   "mimetype": "text/x-python",
   "name": "python",
   "nbconvert_exporter": "python",
   "pygments_lexer": "ipython2",
   "version": "2.7.6"
  }
 },
 "nbformat": 4,
 "nbformat_minor": 0
}