{
 "cells": [
  {
   "cell_type": "markdown",
   "source": [
    "## 标量/scalar "
   ],
   "metadata": {
    "collapsed": false
   }
  },
  {
   "cell_type": "code",
   "execution_count": 9,
   "outputs": [
    {
     "name": "stdout",
     "output_type": "stream",
     "text": [
      "0\n",
      "torch.Size([])\n",
      "tensor(10)\n"
     ]
    }
   ],
   "source": [
    "import torch\n",
    "\n",
    "# 完全类似numpy/基本操作数组乘积/数据类型\n",
    "\n",
    "arr_scalar = torch.tensor(10)  # 标量\n",
    "print(arr_scalar.ndim)\n",
    "print(arr_scalar.shape)\n",
    "print(arr_scalar)"
   ],
   "metadata": {
    "collapsed": false,
    "pycharm": {
     "name": "#%%\n"
    }
   }
  },
  {
   "cell_type": "markdown",
   "source": [
    "## 向量/vector"
   ],
   "metadata": {
    "collapsed": false,
    "pycharm": {
     "name": "#%% md\n"
    }
   }
  },
  {
   "cell_type": "code",
   "execution_count": 10,
   "outputs": [
    {
     "name": "stdout",
     "output_type": "stream",
     "text": [
      "1\n",
      "torch.Size([3])\n",
      "tensor([1, 2, 3])\n"
     ]
    }
   ],
   "source": [
    "arr_vector = torch.tensor([1, 2, 3])  # 向量\n",
    "print(arr_vector.ndim)\n",
    "print(arr_vector.shape)\n",
    "print(arr_vector)"
   ],
   "metadata": {
    "collapsed": false,
    "pycharm": {
     "name": "#%%\n"
    }
   }
  },
  {
   "cell_type": "markdown",
   "source": [
    "## 矩阵/matrix"
   ],
   "metadata": {
    "collapsed": false,
    "pycharm": {
     "name": "#%% md\n"
    }
   }
  },
  {
   "cell_type": "code",
   "execution_count": 11,
   "outputs": [
    {
     "name": "stdout",
     "output_type": "stream",
     "text": [
      "2\n",
      "torch.Size([2, 3])\n",
      "tensor([[1, 2, 3],\n",
      "        [2, 3, 4]])\n"
     ]
    }
   ],
   "source": [
    "arr_matrix = torch.tensor([[1, 2, 3], [2, 3, 4]])  # 矩阵\n",
    "print(arr_matrix.ndim)\n",
    "print(arr_matrix.shape)\n",
    "print(arr_matrix)"
   ],
   "metadata": {
    "collapsed": false,
    "pycharm": {
     "name": "#%%\n"
    }
   }
  },
  {
   "cell_type": "markdown",
   "source": [
    "### 高维矩阵(ndim>2)"
   ],
   "metadata": {
    "collapsed": false,
    "pycharm": {
     "name": "#%% md\n"
    }
   }
  },
  {
   "cell_type": "code",
   "source": [
    "arr_mul_matrix = torch.randn(3, 4, 5)\n",
    "print(arr_mul_matrix.ndim)\n",
    "print(arr_mul_matrix.shape)\n",
    "print(arr_mul_matrix)\n",
    "\n"
   ],
   "metadata": {
    "collapsed": false,
    "pycharm": {
     "name": "#%%\n"
    }
   },
   "execution_count": 12,
   "outputs": [
    {
     "name": "stdout",
     "output_type": "stream",
     "text": [
      "3\n",
      "torch.Size([3, 4, 5])\n",
      "tensor([[[-0.7762, -0.8524,  0.0841,  0.2402, -0.3819],\n",
      "         [ 0.4864,  1.6128, -1.3826,  0.0183, -0.9304],\n",
      "         [-0.9453,  2.0714,  0.5046,  1.4416, -0.6375],\n",
      "         [ 0.7436, -1.8313, -0.5903, -1.3725,  1.6950]],\n",
      "\n",
      "        [[-0.8349,  1.2621, -3.1066,  2.0604, -2.5900],\n",
      "         [ 0.9290,  0.2435, -1.6807, -0.6031,  1.6954],\n",
      "         [ 1.7398,  0.3766, -0.2210,  0.6239,  0.0878],\n",
      "         [-0.0439, -1.4329,  0.1314,  2.0392, -0.5045]],\n",
      "\n",
      "        [[ 0.5777,  1.2851,  0.6542,  0.9174,  0.0164],\n",
      "         [ 0.8190, -0.3740,  0.6279, -0.6253, -0.4029],\n",
      "         [ 1.0932, -0.0996, -0.1374,  0.0280, -0.9413],\n",
      "         [ 2.4625,  0.5879, -0.8928, -0.2727,  0.7472]]])\n"
     ]
    }
   ]
  }
 ],
 "metadata": {
  "kernelspec": {
   "display_name": "Python 3",
   "language": "python",
   "name": "python3"
  },
  "language_info": {
   "codemirror_mode": {
    "name": "ipython",
    "version": 2
   },
   "file_extension": ".py",
   "mimetype": "text/x-python",
   "name": "python",
   "nbconvert_exporter": "python",
   "pygments_lexer": "ipython2",
   "version": "2.7.6"
  }
 },
 "nbformat": 4,
 "nbformat_minor": 0
}