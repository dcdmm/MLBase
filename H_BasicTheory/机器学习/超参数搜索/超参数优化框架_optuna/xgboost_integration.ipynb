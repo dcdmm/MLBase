{
 "cells": [
  {
   "cell_type": "code",
   "execution_count": 84,
   "metadata": {
    "collapsed": true
   },
   "outputs": [],
   "source": [
    "import numpy as np\n",
    "import optuna\n",
    "import sklearn.datasets\n",
    "import sklearn.metrics\n",
    "from sklearn.model_selection import train_test_split\n",
    "import xgboost as xgb"
   ]
  },
  {
   "cell_type": "code",
   "execution_count": 85,
   "outputs": [
    {
     "name": "stdout",
     "output_type": "stream",
     "text": [
      "(569, 30)\n"
     ]
    }
   ],
   "source": [
    "# 二分类问题\n",
    "data, target = sklearn.datasets.load_breast_cancer(return_X_y=True)\n",
    "print(data.shape)"
   ],
   "metadata": {
    "collapsed": false,
    "pycharm": {
     "name": "#%%\n"
    }
   }
  },
  {
   "cell_type": "code",
   "execution_count": 86,
   "outputs": [],
   "source": [
    "# 第一个参数必须为trial\n",
    "def objective(trial, data, target):\n",
    "    train_x, valid_x, train_y, valid_y = train_test_split(data, target, test_size=0.25)\n",
    "    dtrain = xgb.DMatrix(train_x, label=train_y)\n",
    "    dvalid = xgb.DMatrix(valid_x, label=valid_y)\n",
    "\n",
    "    param = {\n",
    "        \"verbosity\": 0,\n",
    "        \"objective\": \"binary:logistic\",\n",
    "        \"eval_metric\": \"logloss\",\n",
    "        \"booster\": trial.suggest_categorical(\"booster\", [\"gbtree\", \"gblinear\", \"dart\"]),\n",
    "        \"lambda\": trial.suggest_float(\"lambda\", 1e-8, 1.0, log=True),\n",
    "        \"alpha\": trial.suggest_float(\"alpha\", 1e-8, 1.0, log=True),\n",
    "    }\n",
    "\n",
    "    if param[\"booster\"] == \"gbtree\" or param[\"booster\"] == \"dart\":\n",
    "        param[\"max_depth\"] = trial.suggest_int(\"max_depth\", 1, 9)\n",
    "        param[\"eta\"] = trial.suggest_float(\"eta\", 1e-8, 1.0, log=True)\n",
    "        param[\"gamma\"] = trial.suggest_float(\"gamma\", 1e-8, 1.0, log=True)\n",
    "        param[\"grow_policy\"] = trial.suggest_categorical(\"grow_policy\", [\"depthwise\", \"lossguide\"])\n",
    "    if param[\"booster\"] == \"dart\":\n",
    "        param[\"sample_type\"] = trial.suggest_categorical(\"sample_type\", [\"uniform\", \"weighted\"])\n",
    "        param[\"normalize_type\"] = trial.suggest_categorical(\"normalize_type\", [\"tree\", \"forest\"])\n",
    "        param[\"rate_drop\"] = trial.suggest_float(\"rate_drop\", 1e-8, 1.0, log=True)\n",
    "        param[\"skip_drop\"] = trial.suggest_float(\"skip_drop\", 1e-8, 1.0, log=True)\n",
    "\n",
    "    # Add a callback for pruning.Callback for XGBoost to prune unpromising trials.\n",
    "    # 推荐使用此方式\n",
    "    pruning_callback = optuna.integration.XGBoostPruningCallback(trial,\n",
    "                                                                 # An evaluation metric for pruning\n",
    "                                                                 # 可选值为:\"validation\" + \"-\" + xgboost模型的\"eval_metric\"参数的值\n",
    "                                                                 # 如validation-error/validation-acu/validaton-merror/validation-auc\n",
    "                                                                 observation_key=\"validation-logloss\")\n",
    "    # 也可以在次进行交叉验证\n",
    "    bst = xgb.train(param, dtrain, evals=[(dvalid, \"validation\")], callbacks=[pruning_callback])\n",
    "    preds = bst.predict(dvalid)\n",
    "    pred_labels = np.around(preds)\n",
    "    accuracy = sklearn.metrics.accuracy_score(valid_y, pred_labels)\n",
    "    return accuracy"
   ],
   "metadata": {
    "collapsed": false,
    "pycharm": {
     "name": "#%%\n"
    }
   }
  },
  {
   "cell_type": "code",
   "execution_count": 87,
   "outputs": [
    {
     "name": "stderr",
     "output_type": "stream",
     "text": [
      "\u001B[32m[I 2021-09-18 18:21:37,989]\u001B[0m A new study created in memory with name: no-name-77befefd-bf71-48b1-9ab1-84cf182c0911\u001B[0m\n"
     ]
    },
    {
     "name": "stdout",
     "output_type": "stream",
     "text": [
      "[0]\tvalidation-logloss:0.63164\n",
      "[1]\tvalidation-logloss:0.58505\n",
      "[2]\tvalidation-logloss:0.51620\n",
      "[3]\tvalidation-logloss:0.48427\n",
      "[4]\tvalidation-logloss:0.44618\n",
      "[5]\tvalidation-logloss:0.40822\n",
      "[6]\tvalidation-logloss:0.38995\n",
      "[7]\tvalidation-logloss:0.36997\n",
      "[8]\tvalidation-logloss:0.35431\n",
      "[9]\tvalidation-logloss:0.34221\n"
     ]
    },
    {
     "name": "stderr",
     "output_type": "stream",
     "text": [
      "\u001B[32m[I 2021-09-18 18:21:38,004]\u001B[0m Trial 0 finished with value: 0.9300699300699301 and parameters: {'booster': 'gblinear', 'lambda': 0.10079739033893817, 'alpha': 0.5882764307068763}. Best is trial 0 with value: 0.9300699300699301.\u001B[0m\n"
     ]
    },
    {
     "name": "stdout",
     "output_type": "stream",
     "text": [
      "[0]\tvalidation-logloss:0.44012\n",
      "[1]\tvalidation-logloss:0.36369\n",
      "[2]\tvalidation-logloss:0.30545\n",
      "[3]\tvalidation-logloss:0.27868\n",
      "[4]\tvalidation-logloss:0.26998\n",
      "[5]\tvalidation-logloss:0.23068\n",
      "[6]\tvalidation-logloss:0.21554\n",
      "[7]\tvalidation-logloss:0.20514\n",
      "[8]\tvalidation-logloss:0.19562\n",
      "[9]\tvalidation-logloss:0.17078\n"
     ]
    },
    {
     "name": "stderr",
     "output_type": "stream",
     "text": [
      "\u001B[32m[I 2021-09-18 18:21:38,016]\u001B[0m Trial 1 finished with value: 0.951048951048951 and parameters: {'booster': 'gblinear', 'lambda': 1.5474373727693423e-08, 'alpha': 3.903258473541346e-06}. Best is trial 1 with value: 0.951048951048951.\u001B[0m\n"
     ]
    },
    {
     "name": "stdout",
     "output_type": "stream",
     "text": [
      "[0]\tvalidation-logloss:0.60129\n",
      "[1]\tvalidation-logloss:0.52484\n",
      "[2]\tvalidation-logloss:0.46819\n",
      "[3]\tvalidation-logloss:0.42379\n",
      "[4]\tvalidation-logloss:0.38634\n",
      "[5]\tvalidation-logloss:0.35423\n",
      "[6]\tvalidation-logloss:0.32936\n",
      "[7]\tvalidation-logloss:0.30201\n",
      "[8]\tvalidation-logloss:0.27772\n",
      "[9]\tvalidation-logloss:0.25705\n"
     ]
    },
    {
     "name": "stderr",
     "output_type": "stream",
     "text": [
      "\u001B[32m[I 2021-09-18 18:21:38,035]\u001B[0m Trial 2 finished with value: 0.9230769230769231 and parameters: {'booster': 'gbtree', 'lambda': 6.98865444701577e-07, 'alpha': 4.137072380761055e-07, 'max_depth': 3, 'eta': 0.12707830528004022, 'gamma': 2.3548256410132613e-07, 'grow_policy': 'depthwise'}. Best is trial 1 with value: 0.951048951048951.\u001B[0m\n"
     ]
    },
    {
     "name": "stdout",
     "output_type": "stream",
     "text": [
      "[0]\tvalidation-logloss:0.54831\n",
      "[1]\tvalidation-logloss:0.44737\n",
      "[2]\tvalidation-logloss:0.41326\n",
      "[3]\tvalidation-logloss:0.38630\n",
      "[4]\tvalidation-logloss:0.36093\n",
      "[5]\tvalidation-logloss:0.34032\n",
      "[6]\tvalidation-logloss:0.32455\n",
      "[7]\tvalidation-logloss:0.31367\n",
      "[8]\tvalidation-logloss:0.29612\n",
      "[9]\tvalidation-logloss:0.28760\n"
     ]
    },
    {
     "name": "stderr",
     "output_type": "stream",
     "text": [
      "\u001B[32m[I 2021-09-18 18:21:38,048]\u001B[0m Trial 3 finished with value: 0.9300699300699301 and parameters: {'booster': 'gblinear', 'lambda': 0.019368844684662326, 'alpha': 6.044428875475126e-08}. Best is trial 1 with value: 0.951048951048951.\u001B[0m\n"
     ]
    },
    {
     "name": "stdout",
     "output_type": "stream",
     "text": [
      "[0]\tvalidation-logloss:0.69098\n",
      "[1]\tvalidation-logloss:0.68883\n",
      "[2]\tvalidation-logloss:0.68668\n",
      "[3]\tvalidation-logloss:0.68454\n",
      "[4]\tvalidation-logloss:0.68242\n",
      "[5]\tvalidation-logloss:0.68031\n",
      "[6]\tvalidation-logloss:0.67821\n",
      "[7]\tvalidation-logloss:0.67612\n",
      "[8]\tvalidation-logloss:0.67404\n",
      "[9]\tvalidation-logloss:0.67197\n"
     ]
    },
    {
     "name": "stderr",
     "output_type": "stream",
     "text": [
      "\u001B[32m[I 2021-09-18 18:21:38,074]\u001B[0m Trial 4 finished with value: 0.9300699300699301 and parameters: {'booster': 'dart', 'lambda': 6.702976808844548e-05, 'alpha': 0.47474616206686926, 'max_depth': 7, 'eta': 0.0025637213909277166, 'gamma': 1.68161934525822e-08, 'grow_policy': 'depthwise', 'sample_type': 'weighted', 'normalize_type': 'tree', 'rate_drop': 0.03440868949036948, 'skip_drop': 0.0793048350628944}. Best is trial 1 with value: 0.951048951048951.\u001B[0m\n"
     ]
    },
    {
     "name": "stdout",
     "output_type": "stream",
     "text": [
      "[0]\tvalidation-logloss:0.69307\n",
      "[1]\tvalidation-logloss:0.69299\n",
      "[2]\tvalidation-logloss:0.69291\n",
      "[3]\tvalidation-logloss:0.69283\n",
      "[4]\tvalidation-logloss:0.69276\n",
      "[5]\tvalidation-logloss:0.69268\n",
      "[6]\tvalidation-logloss:0.69260\n",
      "[7]\tvalidation-logloss:0.69252\n",
      "[8]\tvalidation-logloss:0.69244\n",
      "[9]\tvalidation-logloss:0.69237\n"
     ]
    },
    {
     "name": "stderr",
     "output_type": "stream",
     "text": [
      "\u001B[32m[I 2021-09-18 18:21:38,101]\u001B[0m Trial 5 finished with value: 0.9300699300699301 and parameters: {'booster': 'dart', 'lambda': 0.0014696653156883494, 'alpha': 0.01938573646474625, 'max_depth': 4, 'eta': 9.422920486844981e-05, 'gamma': 9.578302587785743e-08, 'grow_policy': 'lossguide', 'sample_type': 'weighted', 'normalize_type': 'forest', 'rate_drop': 1.316443561124624e-08, 'skip_drop': 0.03319408473118368}. Best is trial 1 with value: 0.951048951048951.\u001B[0m\n"
     ]
    },
    {
     "name": "stdout",
     "output_type": "stream",
     "text": [
      "[0]\tvalidation-logloss:0.69292\n",
      "[1]\tvalidation-logloss:0.69270\n",
      "[2]\tvalidation-logloss:0.69248\n",
      "[3]\tvalidation-logloss:0.69226\n",
      "[4]\tvalidation-logloss:0.69204\n",
      "[5]\tvalidation-logloss:0.69182\n",
      "[6]\tvalidation-logloss:0.69160\n",
      "[7]\tvalidation-logloss:0.69138\n",
      "[8]\tvalidation-logloss:0.69116\n",
      "[9]\tvalidation-logloss:0.69094\n"
     ]
    },
    {
     "name": "stderr",
     "output_type": "stream",
     "text": [
      "\u001B[32m[I 2021-09-18 18:21:38,122]\u001B[0m Trial 6 finished with value: 0.958041958041958 and parameters: {'booster': 'gbtree', 'lambda': 0.004881799398982539, 'alpha': 1.4503365837673028e-08, 'max_depth': 6, 'eta': 0.00024605023785621215, 'gamma': 0.5869929651065958, 'grow_policy': 'depthwise'}. Best is trial 6 with value: 0.958041958041958.\u001B[0m\n"
     ]
    },
    {
     "name": "stdout",
     "output_type": "stream",
     "text": [
      "[0]\tvalidation-logloss:0.69179\n",
      "[1]\tvalidation-logloss:0.69044\n",
      "[2]\tvalidation-logloss:0.68908\n",
      "[3]\tvalidation-logloss:0.68771\n",
      "[4]\tvalidation-logloss:0.68638\n",
      "[5]\tvalidation-logloss:0.68503\n",
      "[6]\tvalidation-logloss:0.68372\n",
      "[7]\tvalidation-logloss:0.68235\n",
      "[8]\tvalidation-logloss:0.68104\n",
      "[9]\tvalidation-logloss:0.67969\n"
     ]
    },
    {
     "name": "stderr",
     "output_type": "stream",
     "text": [
      "\u001B[32m[I 2021-09-18 18:21:38,144]\u001B[0m Trial 7 finished with value: 0.951048951048951 and parameters: {'booster': 'gbtree', 'lambda': 0.004661942222784831, 'alpha': 0.1583869032535297, 'max_depth': 6, 'eta': 0.0015393453805650457, 'gamma': 7.673094741982667e-08, 'grow_policy': 'depthwise'}. Best is trial 6 with value: 0.958041958041958.\u001B[0m\n"
     ]
    },
    {
     "name": "stdout",
     "output_type": "stream",
     "text": [
      "[0]\tvalidation-logloss:0.59405\n",
      "[1]\tvalidation-logloss:0.51650\n",
      "[2]\tvalidation-logloss:0.45840\n",
      "[3]\tvalidation-logloss:0.40446\n",
      "[4]\tvalidation-logloss:0.35942\n",
      "[5]\tvalidation-logloss:0.31983\n",
      "[6]\tvalidation-logloss:0.28721\n",
      "[7]\tvalidation-logloss:0.25843\n",
      "[8]\tvalidation-logloss:0.23513\n",
      "[9]\tvalidation-logloss:0.21386\n"
     ]
    },
    {
     "name": "stderr",
     "output_type": "stream",
     "text": [
      "\u001B[32m[I 2021-09-18 18:21:38,172]\u001B[0m Trial 8 finished with value: 0.965034965034965 and parameters: {'booster': 'dart', 'lambda': 6.588543356086368e-07, 'alpha': 0.00011071839509701333, 'max_depth': 5, 'eta': 0.12531955716239815, 'gamma': 0.028080296025833357, 'grow_policy': 'lossguide', 'sample_type': 'uniform', 'normalize_type': 'forest', 'rate_drop': 7.204100976356397e-06, 'skip_drop': 1.4406426776398115e-05}. Best is trial 8 with value: 0.965034965034965.\u001B[0m\n"
     ]
    },
    {
     "name": "stdout",
     "output_type": "stream",
     "text": [
      "[0]\tvalidation-logloss:0.69298\n",
      "[1]\tvalidation-logloss:0.69282\n",
      "[2]\tvalidation-logloss:0.69265\n",
      "[3]\tvalidation-logloss:0.69249\n",
      "[4]\tvalidation-logloss:0.69232\n",
      "[5]\tvalidation-logloss:0.69216\n",
      "[6]\tvalidation-logloss:0.69200\n",
      "[7]\tvalidation-logloss:0.69183\n",
      "[8]\tvalidation-logloss:0.69167\n",
      "[9]\tvalidation-logloss:0.69151\n"
     ]
    },
    {
     "name": "stderr",
     "output_type": "stream",
     "text": [
      "\u001B[32m[I 2021-09-18 18:21:38,192]\u001B[0m Trial 9 finished with value: 0.9230769230769231 and parameters: {'booster': 'gbtree', 'lambda': 2.8635255136619755e-07, 'alpha': 0.3731114469118989, 'max_depth': 8, 'eta': 0.00019524519144812813, 'gamma': 1.30596369322229e-05, 'grow_policy': 'depthwise'}. Best is trial 8 with value: 0.965034965034965.\u001B[0m\n"
     ]
    },
    {
     "name": "stdout",
     "output_type": "stream",
     "text": [
      "[0]\tvalidation-logloss:0.69315\n",
      "[1]\tvalidation-logloss:0.69315\n",
      "[2]\tvalidation-logloss:0.69315\n",
      "[3]\tvalidation-logloss:0.69315\n",
      "[4]\tvalidation-logloss:0.69315\n",
      "[5]\tvalidation-logloss:0.69315\n",
      "[6]\tvalidation-logloss:0.69315\n",
      "[7]\tvalidation-logloss:0.69315\n",
      "[8]\tvalidation-logloss:0.69315\n",
      "[9]\tvalidation-logloss:0.69315\n"
     ]
    },
    {
     "name": "stderr",
     "output_type": "stream",
     "text": [
      "\u001B[32m[I 2021-09-18 18:21:38,241]\u001B[0m Trial 10 finished with value: 0.8811188811188811 and parameters: {'booster': 'dart', 'lambda': 1.881578663077896e-05, 'alpha': 0.0008118821312865821, 'max_depth': 1, 'eta': 2.1139081459741877e-08, 'gamma': 0.0621369057804301, 'grow_policy': 'lossguide', 'sample_type': 'uniform', 'normalize_type': 'forest', 'rate_drop': 4.420608184927391e-06, 'skip_drop': 1.1318507252924706e-07}. Best is trial 8 with value: 0.965034965034965.\u001B[0m\n"
     ]
    },
    {
     "name": "stdout",
     "output_type": "stream",
     "text": [
      "[0]\tvalidation-logloss:0.37393\n",
      "[1]\tvalidation-logloss:0.26965\n",
      "[2]\tvalidation-logloss:0.20952\n",
      "[3]\tvalidation-logloss:0.17434\n",
      "[4]\tvalidation-logloss:0.15348\n",
      "[5]\tvalidation-logloss:0.14620\n",
      "[6]\tvalidation-logloss:0.14316\n",
      "[7]\tvalidation-logloss:0.13568\n",
      "[8]\tvalidation-logloss:0.13816\n",
      "[9]\tvalidation-logloss:0.12654\n"
     ]
    },
    {
     "name": "stderr",
     "output_type": "stream",
     "text": [
      "\u001B[32m[I 2021-09-18 18:21:38,282]\u001B[0m Trial 11 finished with value: 0.9370629370629371 and parameters: {'booster': 'gbtree', 'lambda': 0.000444132192875438, 'alpha': 2.838892497029615e-05, 'max_depth': 5, 'eta': 0.5658572927301259, 'gamma': 0.9593717175984963, 'grow_policy': 'lossguide'}. Best is trial 8 with value: 0.965034965034965.\u001B[0m\n"
     ]
    },
    {
     "name": "stdout",
     "output_type": "stream",
     "text": [
      "[0]\tvalidation-logloss:0.69315\n",
      "[1]\tvalidation-logloss:0.69314\n",
      "[2]\tvalidation-logloss:0.69314\n",
      "[3]\tvalidation-logloss:0.69314\n",
      "[4]\tvalidation-logloss:0.69314\n",
      "[5]\tvalidation-logloss:0.69314\n",
      "[6]\tvalidation-logloss:0.69314\n",
      "[7]\tvalidation-logloss:0.69314\n",
      "[8]\tvalidation-logloss:0.69313\n",
      "[9]\tvalidation-logloss:0.69313\n"
     ]
    },
    {
     "name": "stderr",
     "output_type": "stream",
     "text": [
      "\u001B[32m[I 2021-09-18 18:21:38,334]\u001B[0m Trial 12 finished with value: 0.951048951048951 and parameters: {'booster': 'dart', 'lambda': 2.420938037112335e-06, 'alpha': 0.000418753838200936, 'max_depth': 9, 'eta': 1.628001783268744e-06, 'gamma': 0.004730124835507612, 'grow_policy': 'lossguide', 'sample_type': 'uniform', 'normalize_type': 'forest', 'rate_drop': 0.00011190692788741725, 'skip_drop': 4.731545080367385e-06}. Best is trial 8 with value: 0.965034965034965.\u001B[0m\n"
     ]
    },
    {
     "name": "stdout",
     "output_type": "stream",
     "text": [
      "[0]\tvalidation-logloss:0.68425\n",
      "[1]\tvalidation-logloss:0.67569\n",
      "[2]\tvalidation-logloss:0.66725\n",
      "[3]\tvalidation-logloss:0.65894\n",
      "[4]\tvalidation-logloss:0.65077\n",
      "[5]\tvalidation-logloss:0.64287\n",
      "[6]\tvalidation-logloss:0.63504\n",
      "[7]\tvalidation-logloss:0.62740\n",
      "[8]\tvalidation-logloss:0.61987\n",
      "[9]\tvalidation-logloss:0.61249\n"
     ]
    },
    {
     "name": "stderr",
     "output_type": "stream",
     "text": [
      "\u001B[32m[I 2021-09-18 18:21:38,383]\u001B[0m Trial 13 finished with value: 0.9300699300699301 and parameters: {'booster': 'dart', 'lambda': 4.013917910737588e-08, 'alpha': 3.4161249686950365e-08, 'max_depth': 6, 'eta': 0.010402993934681854, 'gamma': 0.0021750278776335296, 'grow_policy': 'depthwise', 'sample_type': 'uniform', 'normalize_type': 'tree', 'rate_drop': 9.081097537021869e-06, 'skip_drop': 0.00016375196085915205}. Best is trial 8 with value: 0.965034965034965.\u001B[0m\n"
     ]
    },
    {
     "name": "stdout",
     "output_type": "stream",
     "text": [
      "[0]\tvalidation-logloss:0.69314\n",
      "[1]\tvalidation-logloss:0.69314\n",
      "[2]\tvalidation-logloss:0.69313\n",
      "[3]\tvalidation-logloss:0.69313\n",
      "[4]\tvalidation-logloss:0.69312\n",
      "[5]\tvalidation-logloss:0.69312\n",
      "[6]\tvalidation-logloss:0.69312\n",
      "[7]\tvalidation-logloss:0.69311\n",
      "[8]\tvalidation-logloss:0.69311\n",
      "[9]\tvalidation-logloss:0.69310\n"
     ]
    },
    {
     "name": "stderr",
     "output_type": "stream",
     "text": [
      "\u001B[32m[I 2021-09-18 18:21:38,418]\u001B[0m Trial 14 finished with value: 0.951048951048951 and parameters: {'booster': 'gbtree', 'lambda': 0.16068252943927416, 'alpha': 1.2564826480424336e-05, 'max_depth': 3, 'eta': 5.131315014617511e-06, 'gamma': 0.6305456946084503, 'grow_policy': 'lossguide'}. Best is trial 8 with value: 0.965034965034965.\u001B[0m\n"
     ]
    },
    {
     "name": "stdout",
     "output_type": "stream",
     "text": [
      "[0]\tvalidation-logloss:0.65426\n",
      "[1]\tvalidation-logloss:0.62070\n",
      "[2]\tvalidation-logloss:0.58997\n",
      "[3]\tvalidation-logloss:0.56188\n",
      "[4]\tvalidation-logloss:0.53603\n",
      "[5]\tvalidation-logloss:0.51223\n",
      "[6]\tvalidation-logloss:0.49020\n",
      "[7]\tvalidation-logloss:0.46909\n",
      "[8]\tvalidation-logloss:0.45091\n",
      "[9]\tvalidation-logloss:0.43394\n"
     ]
    },
    {
     "name": "stderr",
     "output_type": "stream",
     "text": [
      "\u001B[32m[I 2021-09-18 18:21:38,465]\u001B[0m Trial 15 finished with value: 0.9300699300699301 and parameters: {'booster': 'dart', 'lambda': 1.0901275377260133e-05, 'alpha': 0.005194153266658116, 'max_depth': 5, 'eta': 0.04760081150419313, 'gamma': 0.008899042278974763, 'grow_policy': 'depthwise', 'sample_type': 'uniform', 'normalize_type': 'forest', 'rate_drop': 0.005071019375083277, 'skip_drop': 0.00015215830861378663}. Best is trial 8 with value: 0.965034965034965.\u001B[0m\n"
     ]
    },
    {
     "name": "stdout",
     "output_type": "stream",
     "text": [
      "[0]\tvalidation-logloss:0.69313\n",
      "[1]\tvalidation-logloss:0.69312\n",
      "[2]\tvalidation-logloss:0.69311\n",
      "[3]\tvalidation-logloss:0.69309\n",
      "[4]\tvalidation-logloss:0.69308\n",
      "[5]\tvalidation-logloss:0.69307\n",
      "[6]\tvalidation-logloss:0.69305\n",
      "[7]\tvalidation-logloss:0.69304\n",
      "[8]\tvalidation-logloss:0.69303\n",
      "[9]\tvalidation-logloss:0.69301\n"
     ]
    },
    {
     "name": "stderr",
     "output_type": "stream",
     "text": [
      "\u001B[32m[I 2021-09-18 18:21:38,501]\u001B[0m Trial 16 finished with value: 0.958041958041958 and parameters: {'booster': 'gbtree', 'lambda': 0.0002812434178464425, 'alpha': 1.350021783034797e-06, 'max_depth': 7, 'eta': 1.4949592543091332e-05, 'gamma': 0.00010015225628849394, 'grow_policy': 'lossguide'}. Best is trial 8 with value: 0.965034965034965.\u001B[0m\n"
     ]
    },
    {
     "name": "stdout",
     "output_type": "stream",
     "text": [
      "[0]\tvalidation-logloss:0.69315\n",
      "[1]\tvalidation-logloss:0.69315\n",
      "[2]\tvalidation-logloss:0.69315\n",
      "[3]\tvalidation-logloss:0.69315\n",
      "[4]\tvalidation-logloss:0.69315\n",
      "[5]\tvalidation-logloss:0.69315\n",
      "[6]\tvalidation-logloss:0.69315\n",
      "[7]\tvalidation-logloss:0.69315\n",
      "[8]\tvalidation-logloss:0.69315\n",
      "[9]\tvalidation-logloss:0.69315\n"
     ]
    },
    {
     "name": "stderr",
     "output_type": "stream",
     "text": [
      "\u001B[32m[I 2021-09-18 18:21:38,540]\u001B[0m Trial 17 finished with value: 0.9230769230769231 and parameters: {'booster': 'gbtree', 'lambda': 0.009549661328660523, 'alpha': 0.00017970185325296152, 'max_depth': 3, 'eta': 2.4949885190099976e-07, 'gamma': 0.08686446853596093, 'grow_policy': 'depthwise'}. Best is trial 8 with value: 0.965034965034965.\u001B[0m\n"
     ]
    },
    {
     "name": "stdout",
     "output_type": "stream",
     "text": [
      "[0]\tvalidation-logloss:0.69287\n",
      "[1]\tvalidation-logloss:0.69259\n",
      "[2]\tvalidation-logloss:0.69232\n",
      "[3]\tvalidation-logloss:0.69204\n",
      "[4]\tvalidation-logloss:0.69177\n",
      "[5]\tvalidation-logloss:0.69149\n",
      "[6]\tvalidation-logloss:0.69122\n",
      "[7]\tvalidation-logloss:0.69094\n",
      "[8]\tvalidation-logloss:0.69067\n",
      "[9]\tvalidation-logloss:0.69039\n"
     ]
    },
    {
     "name": "stderr",
     "output_type": "stream",
     "text": [
      "\u001B[32m[I 2021-09-18 18:21:38,602]\u001B[0m Trial 18 finished with value: 0.9090909090909091 and parameters: {'booster': 'dart', 'lambda': 0.6696309621428576, 'alpha': 4.9377392178331116e-05, 'max_depth': 1, 'eta': 0.0004049910808422758, 'gamma': 0.00015857918640945363, 'grow_policy': 'lossguide', 'sample_type': 'uniform', 'normalize_type': 'forest', 'rate_drop': 1.1692861983472222e-08, 'skip_drop': 3.8456626922154306e-08}. Best is trial 8 with value: 0.965034965034965.\u001B[0m\n"
     ]
    },
    {
     "name": "stdout",
     "output_type": "stream",
     "text": [
      "[0]\tvalidation-logloss:0.45440\n",
      "[1]\tvalidation-logloss:0.37320\n",
      "[2]\tvalidation-logloss:0.31552\n",
      "[3]\tvalidation-logloss:0.28298\n",
      "[4]\tvalidation-logloss:0.26468\n",
      "[5]\tvalidation-logloss:0.24263\n",
      "[6]\tvalidation-logloss:0.23049\n",
      "[7]\tvalidation-logloss:0.21721\n",
      "[8]\tvalidation-logloss:0.21099\n",
      "[9]\tvalidation-logloss:0.20552\n"
     ]
    },
    {
     "name": "stderr",
     "output_type": "stream",
     "text": [
      "\u001B[32m[I 2021-09-18 18:21:38,628]\u001B[0m Trial 19 finished with value: 0.951048951048951 and parameters: {'booster': 'gblinear', 'lambda': 8.129053741468844e-05, 'alpha': 1.443926058467963e-06}. Best is trial 8 with value: 0.965034965034965.\u001B[0m\n"
     ]
    },
    {
     "name": "stdout",
     "output_type": "stream",
     "text": [
      "[0]\tvalidation-logloss:0.69313\n",
      "[1]\tvalidation-logloss:0.69312\n",
      "[2]\tvalidation-logloss:0.69310\n",
      "[3]\tvalidation-logloss:0.69309\n",
      "[4]\tvalidation-logloss:0.69307\n",
      "[5]\tvalidation-logloss:0.69306\n",
      "[6]\tvalidation-logloss:0.69305\n",
      "[7]\tvalidation-logloss:0.69303\n",
      "[8]\tvalidation-logloss:0.69302\n",
      "[9]\tvalidation-logloss:0.69300\n"
     ]
    },
    {
     "name": "stderr",
     "output_type": "stream",
     "text": [
      "\u001B[32m[I 2021-09-18 18:21:38,678]\u001B[0m Trial 20 finished with value: 0.9090909090909091 and parameters: {'booster': 'dart', 'lambda': 1.6753992799153534e-07, 'alpha': 3.976865666712628e-07, 'max_depth': 8, 'eta': 1.7558043100225425e-05, 'gamma': 1.0197526452901859e-05, 'grow_policy': 'lossguide', 'sample_type': 'weighted', 'normalize_type': 'tree', 'rate_drop': 7.819106458837577e-07, 'skip_drop': 2.3807435987257835e-06}. Best is trial 8 with value: 0.965034965034965.\u001B[0m\n"
     ]
    },
    {
     "name": "stdout",
     "output_type": "stream",
     "text": [
      "[0]\tvalidation-logloss:0.69312\n",
      "[1]\tvalidation-logloss:0.69308\n",
      "[2]\tvalidation-logloss:0.69305\n",
      "[3]\tvalidation-logloss:0.69302\n",
      "[4]\tvalidation-logloss:0.69298\n",
      "[5]\tvalidation-logloss:0.69295\n",
      "[6]\tvalidation-logloss:0.69292\n",
      "[7]\tvalidation-logloss:0.69289\n",
      "[8]\tvalidation-logloss:0.69286\n",
      "[9]\tvalidation-logloss:0.69283\n"
     ]
    },
    {
     "name": "stderr",
     "output_type": "stream",
     "text": [
      "\u001B[32m[I 2021-09-18 18:21:38,716]\u001B[0m Trial 21 finished with value: 0.9300699300699301 and parameters: {'booster': 'gbtree', 'lambda': 0.0004284863303495655, 'alpha': 1.0256379080800716e-08, 'max_depth': 6, 'eta': 3.841820323621516e-05, 'gamma': 0.00024625636206470486, 'grow_policy': 'lossguide'}. Best is trial 8 with value: 0.965034965034965.\u001B[0m\n"
     ]
    },
    {
     "name": "stdout",
     "output_type": "stream",
     "text": [
      "[0]\tvalidation-logloss:0.69315\n",
      "[1]\tvalidation-logloss:0.69315\n",
      "[2]\tvalidation-logloss:0.69315\n",
      "[3]\tvalidation-logloss:0.69315\n",
      "[4]\tvalidation-logloss:0.69315\n",
      "[5]\tvalidation-logloss:0.69315\n",
      "[6]\tvalidation-logloss:0.69315\n",
      "[7]\tvalidation-logloss:0.69315\n",
      "[8]\tvalidation-logloss:0.69315\n",
      "[9]\tvalidation-logloss:0.69315\n"
     ]
    },
    {
     "name": "stderr",
     "output_type": "stream",
     "text": [
      "\u001B[32m[I 2021-09-18 18:21:38,753]\u001B[0m Trial 22 finished with value: 0.9370629370629371 and parameters: {'booster': 'gbtree', 'lambda': 0.0006719318772787803, 'alpha': 1.2626462701354403e-07, 'max_depth': 7, 'eta': 2.8302060452470856e-07, 'gamma': 0.09385170326890419, 'grow_policy': 'lossguide'}. Best is trial 8 with value: 0.965034965034965.\u001B[0m\n"
     ]
    },
    {
     "name": "stdout",
     "output_type": "stream",
     "text": [
      "[0]\tvalidation-logloss:0.31111\n",
      "[1]\tvalidation-logloss:0.25648\n",
      "[2]\tvalidation-logloss:0.20177\n",
      "[3]\tvalidation-logloss:0.17548\n",
      "[4]\tvalidation-logloss:0.16871\n",
      "[5]\tvalidation-logloss:0.16551\n",
      "[6]\tvalidation-logloss:0.16509\n",
      "[7]\tvalidation-logloss:0.15913\n",
      "[8]\tvalidation-logloss:0.17025\n",
      "[9]\tvalidation-logloss:0.17156\n"
     ]
    },
    {
     "name": "stderr",
     "output_type": "stream",
     "text": [
      "\u001B[32m[I 2021-09-18 18:21:38,790]\u001B[0m Trial 23 finished with value: 0.9370629370629371 and parameters: {'booster': 'gbtree', 'lambda': 1.0827521124841677e-05, 'alpha': 5.516395286406305e-06, 'max_depth': 5, 'eta': 0.7233488205395354, 'gamma': 5.289113553724163e-06, 'grow_policy': 'lossguide'}. Best is trial 8 with value: 0.965034965034965.\u001B[0m\n"
     ]
    },
    {
     "name": "stdout",
     "output_type": "stream",
     "text": [
      "[0]\tvalidation-logloss:0.68373\n",
      "[1]\tvalidation-logloss:0.67460\n",
      "[2]\tvalidation-logloss:0.66554\n",
      "[3]\tvalidation-logloss:0.65673\n",
      "[4]\tvalidation-logloss:0.64801\n",
      "[5]\tvalidation-logloss:0.63951\n",
      "[6]\tvalidation-logloss:0.63134\n",
      "[7]\tvalidation-logloss:0.62325\n",
      "[8]\tvalidation-logloss:0.61524\n",
      "[9]\tvalidation-logloss:0.60746\n"
     ]
    },
    {
     "name": "stderr",
     "output_type": "stream",
     "text": [
      "\u001B[32m[I 2021-09-18 18:21:38,831]\u001B[0m Trial 24 finished with value: 0.965034965034965 and parameters: {'booster': 'gbtree', 'lambda': 0.003171030380053349, 'alpha': 8.929280532032227e-07, 'max_depth': 7, 'eta': 0.010339374288288513, 'gamma': 0.0008664478067924883, 'grow_policy': 'lossguide'}. Best is trial 8 with value: 0.965034965034965.\u001B[0m\n"
     ]
    },
    {
     "name": "stdout",
     "output_type": "stream",
     "text": [
      "[0]\tvalidation-logloss:0.67591\n",
      "[1]\tvalidation-logloss:0.65985\n",
      "[2]\tvalidation-logloss:0.64429\n",
      "[3]\tvalidation-logloss:0.62959\n",
      "[4]\tvalidation-logloss:0.61584\n",
      "[5]\tvalidation-logloss:0.60223\n",
      "[6]\tvalidation-logloss:0.58929\n",
      "[7]\tvalidation-logloss:0.57714\n",
      "[8]\tvalidation-logloss:0.56525\n",
      "[9]\tvalidation-logloss:0.55391\n"
     ]
    },
    {
     "name": "stderr",
     "output_type": "stream",
     "text": [
      "\u001B[32m[I 2021-09-18 18:21:38,869]\u001B[0m Trial 25 finished with value: 0.8881118881118881 and parameters: {'booster': 'gbtree', 'lambda': 0.00017004030393961622, 'alpha': 1.265048671855855e-06, 'max_depth': 9, 'eta': 0.022686616510906022, 'gamma': 0.0007133030112259065, 'grow_policy': 'lossguide'}. Best is trial 8 with value: 0.965034965034965.\u001B[0m\n"
     ]
    },
    {
     "name": "stdout",
     "output_type": "stream",
     "text": [
      "[0]\tvalidation-logloss:0.69047\n",
      "[1]\tvalidation-logloss:0.68784\n",
      "[2]\tvalidation-logloss:0.68521\n",
      "[3]\tvalidation-logloss:0.68260\n",
      "[4]\tvalidation-logloss:0.67998\n",
      "[5]\tvalidation-logloss:0.67741\n",
      "[6]\tvalidation-logloss:0.67487\n",
      "[7]\tvalidation-logloss:0.67232\n",
      "[8]\tvalidation-logloss:0.66980\n",
      "[9]\tvalidation-logloss:0.66731\n"
     ]
    },
    {
     "name": "stderr",
     "output_type": "stream",
     "text": [
      "\u001B[32m[I 2021-09-18 18:21:38,906]\u001B[0m Trial 26 finished with value: 0.9370629370629371 and parameters: {'booster': 'gbtree', 'lambda': 0.002687416050503327, 'alpha': 1.2004411190243381e-08, 'max_depth': 4, 'eta': 0.003148216319662264, 'gamma': 0.02234934518030807, 'grow_policy': 'depthwise'}. Best is trial 8 with value: 0.965034965034965.\u001B[0m\n"
     ]
    },
    {
     "name": "stdout",
     "output_type": "stream",
     "text": [
      "[0]\tvalidation-logloss:0.57521\n",
      "[1]\tvalidation-logloss:0.56466\n",
      "[2]\tvalidation-logloss:0.47780\n",
      "[3]\tvalidation-logloss:0.44643\n",
      "[4]\tvalidation-logloss:0.42222\n",
      "[5]\tvalidation-logloss:0.40508\n",
      "[6]\tvalidation-logloss:0.39414\n",
      "[7]\tvalidation-logloss:0.38176\n",
      "[8]\tvalidation-logloss:0.36881\n",
      "[9]\tvalidation-logloss:0.35836\n"
     ]
    },
    {
     "name": "stderr",
     "output_type": "stream",
     "text": [
      "\u001B[32m[I 2021-09-18 18:21:38,926]\u001B[0m Trial 27 finished with value: 0.8321678321678322 and parameters: {'booster': 'gblinear', 'lambda': 0.032987914232218384, 'alpha': 0.0018383498421438824}. Best is trial 8 with value: 0.965034965034965.\u001B[0m\n"
     ]
    },
    {
     "name": "stdout",
     "output_type": "stream",
     "text": [
      "[0]\tvalidation-logloss:0.59229\n",
      "[1]\tvalidation-logloss:0.50951\n",
      "[2]\tvalidation-logloss:0.44154\n",
      "[3]\tvalidation-logloss:0.39323\n",
      "[4]\tvalidation-logloss:0.35084\n",
      "[5]\tvalidation-logloss:0.31309\n",
      "[6]\tvalidation-logloss:0.28204\n",
      "[7]\tvalidation-logloss:0.25665\n",
      "[8]\tvalidation-logloss:0.23593\n",
      "[9]\tvalidation-logloss:0.21936\n"
     ]
    },
    {
     "name": "stderr",
     "output_type": "stream",
     "text": [
      "\u001B[32m[I 2021-09-18 18:21:38,963]\u001B[0m Trial 28 finished with value: 0.951048951048951 and parameters: {'booster': 'gbtree', 'lambda': 0.055897228961952, 'alpha': 1.8678163390087007e-07, 'max_depth': 6, 'eta': 0.1341922630851137, 'gamma': 0.1787818196214161, 'grow_policy': 'depthwise'}. Best is trial 8 with value: 0.965034965034965.\u001B[0m\n"
     ]
    },
    {
     "name": "stdout",
     "output_type": "stream",
     "text": [
      "[0]\tvalidation-logloss:0.68784\n",
      "[1]\tvalidation-logloss:0.68268\n",
      "[2]\tvalidation-logloss:0.67769\n",
      "[3]\tvalidation-logloss:0.67274\n",
      "[4]\tvalidation-logloss:0.66777\n",
      "[5]\tvalidation-logloss:0.66284\n",
      "[6]\tvalidation-logloss:0.65793\n",
      "[7]\tvalidation-logloss:0.65315\n",
      "[8]\tvalidation-logloss:0.64858\n",
      "[9]\tvalidation-logloss:0.64406\n"
     ]
    },
    {
     "name": "stderr",
     "output_type": "stream",
     "text": [
      "\u001B[32m[I 2021-09-18 18:21:39,013]\u001B[0m Trial 29 finished with value: 0.9300699300699301 and parameters: {'booster': 'dart', 'lambda': 3.240145805461744e-05, 'alpha': 0.00010947535271428704, 'max_depth': 7, 'eta': 0.006042847834183498, 'gamma': 4.822237084272031e-05, 'grow_policy': 'lossguide', 'sample_type': 'uniform', 'normalize_type': 'forest', 'rate_drop': 0.0007809187699738689, 'skip_drop': 0.0015549297197703016}. Best is trial 8 with value: 0.965034965034965.\u001B[0m\n"
     ]
    },
    {
     "name": "stdout",
     "output_type": "stream",
     "text": [
      "[0]\tvalidation-logloss:0.63222\n",
      "[1]\tvalidation-logloss:0.57076\n",
      "[2]\tvalidation-logloss:0.53260\n",
      "[3]\tvalidation-logloss:0.49738\n",
      "[4]\tvalidation-logloss:0.46902\n",
      "[5]\tvalidation-logloss:0.44187\n",
      "[6]\tvalidation-logloss:0.42193\n",
      "[7]\tvalidation-logloss:0.40380\n",
      "[8]\tvalidation-logloss:0.38714\n",
      "[9]\tvalidation-logloss:0.37194\n"
     ]
    },
    {
     "name": "stderr",
     "output_type": "stream",
     "text": [
      "\u001B[32m[I 2021-09-18 18:21:39,034]\u001B[0m Trial 30 finished with value: 0.8881118881118881 and parameters: {'booster': 'gblinear', 'lambda': 0.17141712758401434, 'alpha': 1.5422524337190395e-05}. Best is trial 8 with value: 0.965034965034965.\u001B[0m\n"
     ]
    },
    {
     "name": "stdout",
     "output_type": "stream",
     "text": [
      "[0]\tvalidation-logloss:0.69269\n",
      "[1]\tvalidation-logloss:0.69222\n",
      "[2]\tvalidation-logloss:0.69176\n",
      "[3]\tvalidation-logloss:0.69129\n",
      "[4]\tvalidation-logloss:0.69083\n",
      "[5]\tvalidation-logloss:0.69037\n",
      "[6]\tvalidation-logloss:0.68991\n",
      "[7]\tvalidation-logloss:0.68945\n",
      "[8]\tvalidation-logloss:0.68899\n",
      "[9]\tvalidation-logloss:0.68853\n"
     ]
    },
    {
     "name": "stderr",
     "output_type": "stream",
     "text": [
      "\u001B[32m[I 2021-09-18 18:21:39,075]\u001B[0m Trial 31 finished with value: 0.9440559440559441 and parameters: {'booster': 'gbtree', 'lambda': 0.0088177459239055, 'alpha': 2.307431544879954e-06, 'max_depth': 8, 'eta': 0.0005389829953253316, 'gamma': 0.0006127645285962606, 'grow_policy': 'lossguide'}. Best is trial 8 with value: 0.965034965034965.\u001B[0m\n"
     ]
    },
    {
     "name": "stdout",
     "output_type": "stream",
     "text": [
      "[0]\tvalidation-logloss:0.69313\n",
      "[1]\tvalidation-logloss:0.69311\n",
      "[2]\tvalidation-logloss:0.69309\n",
      "[3]\tvalidation-logloss:0.69307\n",
      "[4]\tvalidation-logloss:0.69305\n",
      "[5]\tvalidation-logloss:0.69303\n",
      "[6]\tvalidation-logloss:0.69301\n",
      "[7]\tvalidation-logloss:0.69299\n",
      "[8]\tvalidation-logloss:0.69297\n",
      "[9]\tvalidation-logloss:0.69295\n"
     ]
    },
    {
     "name": "stderr",
     "output_type": "stream",
     "text": [
      "\u001B[32m[I 2021-09-18 18:21:39,111]\u001B[0m Trial 32 finished with value: 0.9300699300699301 and parameters: {'booster': 'gbtree', 'lambda': 3.1882623568352133e-06, 'alpha': 6.143289235702733e-07, 'max_depth': 7, 'eta': 2.4378001574183447e-05, 'gamma': 0.01613263633615092, 'grow_policy': 'lossguide'}. Best is trial 8 with value: 0.965034965034965.\u001B[0m\n"
     ]
    },
    {
     "name": "stdout",
     "output_type": "stream",
     "text": [
      "[0]\tvalidation-logloss:0.60764\n",
      "[1]\tvalidation-logloss:0.53756\n",
      "[2]\tvalidation-logloss:0.48004\n",
      "[3]\tvalidation-logloss:0.43210\n",
      "[4]\tvalidation-logloss:0.39102\n",
      "[5]\tvalidation-logloss:0.35308\n",
      "[6]\tvalidation-logloss:0.32082\n",
      "[7]\tvalidation-logloss:0.29322\n",
      "[8]\tvalidation-logloss:0.26700\n",
      "[9]\tvalidation-logloss:0.24438\n"
     ]
    },
    {
     "name": "stderr",
     "output_type": "stream",
     "text": [
      "\u001B[32m[I 2021-09-18 18:21:39,153]\u001B[0m Trial 33 finished with value: 0.965034965034965 and parameters: {'booster': 'gbtree', 'lambda': 0.0014866771743667876, 'alpha': 6.1527438730565104e-06, 'max_depth': 6, 'eta': 0.10051463700702332, 'gamma': 0.002050462345481118, 'grow_policy': 'lossguide'}. Best is trial 8 with value: 0.965034965034965.\u001B[0m\n"
     ]
    },
    {
     "name": "stdout",
     "output_type": "stream",
     "text": [
      "[0]\tvalidation-logloss:0.58524\n",
      "[1]\tvalidation-logloss:0.50533\n",
      "[2]\tvalidation-logloss:0.44668\n",
      "[3]\tvalidation-logloss:0.39528\n",
      "[4]\tvalidation-logloss:0.35184\n",
      "[5]\tvalidation-logloss:0.31761\n",
      "[6]\tvalidation-logloss:0.28941\n",
      "[7]\tvalidation-logloss:0.26597\n",
      "[8]\tvalidation-logloss:0.24131\n",
      "[9]\tvalidation-logloss:0.22430\n"
     ]
    },
    {
     "name": "stderr",
     "output_type": "stream",
     "text": [
      "\u001B[32m[I 2021-09-18 18:21:39,190]\u001B[0m Trial 34 finished with value: 0.9370629370629371 and parameters: {'booster': 'gbtree', 'lambda': 0.0013816329323383288, 'alpha': 6.577713091316658e-06, 'max_depth': 4, 'eta': 0.1410763050635521, 'gamma': 0.002269462776124149, 'grow_policy': 'lossguide'}. Best is trial 8 with value: 0.965034965034965.\u001B[0m\n"
     ]
    },
    {
     "name": "stdout",
     "output_type": "stream",
     "text": [
      "[0]\tvalidation-logloss:0.61155\n",
      "[1]\tvalidation-logloss:0.55922\n",
      "[2]\tvalidation-logloss:0.46113\n",
      "[3]\tvalidation-logloss:0.33839\n",
      "[4]\tvalidation-logloss:0.28658\n",
      "[5]\tvalidation-logloss:0.27400\n",
      "[6]\tvalidation-logloss:0.26054\n",
      "[7]\tvalidation-logloss:0.24941\n",
      "[8]\tvalidation-logloss:0.23428\n",
      "[9]\tvalidation-logloss:0.22723\n"
     ]
    },
    {
     "name": "stderr",
     "output_type": "stream",
     "text": [
      "\u001B[32m[I 2021-09-18 18:21:39,212]\u001B[0m Trial 35 finished with value: 0.916083916083916 and parameters: {'booster': 'gblinear', 'lambda': 0.00017984411604279223, 'alpha': 4.630569327306632e-05}. Best is trial 8 with value: 0.965034965034965.\u001B[0m\n"
     ]
    },
    {
     "name": "stdout",
     "output_type": "stream",
     "text": [
      "[0]\tvalidation-logloss:0.66247\n",
      "[1]\tvalidation-logloss:0.63425\n",
      "[2]\tvalidation-logloss:0.60853\n",
      "[3]\tvalidation-logloss:0.58455\n",
      "[4]\tvalidation-logloss:0.56207\n",
      "[5]\tvalidation-logloss:0.54064\n",
      "[6]\tvalidation-logloss:0.52092\n",
      "[7]\tvalidation-logloss:0.50259\n",
      "[8]\tvalidation-logloss:0.48539\n",
      "[9]\tvalidation-logloss:0.46838\n"
     ]
    },
    {
     "name": "stderr",
     "output_type": "stream",
     "text": [
      "\u001B[32m[I 2021-09-18 18:21:39,257]\u001B[0m Trial 36 finished with value: 0.9300699300699301 and parameters: {'booster': 'gbtree', 'lambda': 1.2666703813835944e-08, 'alpha': 3.74011402582674e-08, 'max_depth': 6, 'eta': 0.036100477377118564, 'gamma': 0.022736957686206826, 'grow_policy': 'lossguide'}. Best is trial 8 with value: 0.965034965034965.\u001B[0m\n"
     ]
    },
    {
     "name": "stdout",
     "output_type": "stream",
     "text": [
      "[0]\tvalidation-logloss:0.64412\n",
      "[1]\tvalidation-logloss:0.60162\n",
      "[2]\tvalidation-logloss:0.56445\n",
      "[3]\tvalidation-logloss:0.52968\n",
      "[4]\tvalidation-logloss:0.49922\n",
      "[5]\tvalidation-logloss:0.47257\n",
      "[6]\tvalidation-logloss:0.44641\n",
      "[7]\tvalidation-logloss:0.42379\n",
      "[8]\tvalidation-logloss:0.40332\n",
      "[9]\tvalidation-logloss:0.38299\n"
     ]
    },
    {
     "name": "stderr",
     "output_type": "stream",
     "text": [
      "\u001B[32m[I 2021-09-18 18:21:39,295]\u001B[0m Trial 37 finished with value: 0.9230769230769231 and parameters: {'booster': 'gbtree', 'lambda': 0.00855883736650424, 'alpha': 1.323706790589796e-07, 'max_depth': 5, 'eta': 0.06005055986145406, 'gamma': 0.27800939105531325, 'grow_policy': 'depthwise'}. Best is trial 8 with value: 0.965034965034965.\u001B[0m\n"
     ]
    },
    {
     "name": "stdout",
     "output_type": "stream",
     "text": [
      "[0]\tvalidation-logloss:0.51574\n",
      "[1]\tvalidation-logloss:0.40540\n",
      "[2]\tvalidation-logloss:0.32968\n",
      "[3]\tvalidation-logloss:0.27497\n",
      "[4]\tvalidation-logloss:0.23998\n",
      "[5]\tvalidation-logloss:0.23658\n",
      "[6]\tvalidation-logloss:0.20397\n",
      "[7]\tvalidation-logloss:0.18685\n",
      "[8]\tvalidation-logloss:0.17140\n",
      "[9]\tvalidation-logloss:0.15221\n"
     ]
    },
    {
     "name": "stderr",
     "output_type": "stream",
     "text": [
      "\u001B[32m[I 2021-09-18 18:21:39,346]\u001B[0m Trial 38 finished with value: 0.958041958041958 and parameters: {'booster': 'dart', 'lambda': 1.8922919202327102e-06, 'alpha': 3.3494749602519225e-06, 'max_depth': 7, 'eta': 0.22034902191218614, 'gamma': 3.315463254197155e-05, 'grow_policy': 'lossguide', 'sample_type': 'weighted', 'normalize_type': 'tree', 'rate_drop': 0.2002605135253467, 'skip_drop': 0.778001245446135}. Best is trial 8 with value: 0.965034965034965.\u001B[0m\n"
     ]
    },
    {
     "name": "stdout",
     "output_type": "stream",
     "text": [
      "[0]\tvalidation-logloss:0.49984\n",
      "[1]\tvalidation-logloss:0.38479\n",
      "[2]\tvalidation-logloss:0.30625\n",
      "[3]\tvalidation-logloss:0.25849\n",
      "[4]\tvalidation-logloss:0.22494\n",
      "[5]\tvalidation-logloss:0.20985\n",
      "[6]\tvalidation-logloss:0.18289\n",
      "[7]\tvalidation-logloss:0.16232\n",
      "[8]\tvalidation-logloss:0.15644\n",
      "[9]\tvalidation-logloss:0.15626\n"
     ]
    },
    {
     "name": "stderr",
     "output_type": "stream",
     "text": [
      "\u001B[32m[I 2021-09-18 18:21:39,396]\u001B[0m Trial 39 finished with value: 0.958041958041958 and parameters: {'booster': 'dart', 'lambda': 2.634142907590681e-06, 'alpha': 4.7675985793250226e-06, 'max_depth': 8, 'eta': 0.2651664367637598, 'gamma': 1.7416861950628356e-06, 'grow_policy': 'lossguide', 'sample_type': 'weighted', 'normalize_type': 'tree', 'rate_drop': 0.38613248868008815, 'skip_drop': 0.9444498065359596}. Best is trial 8 with value: 0.965034965034965.\u001B[0m\n"
     ]
    },
    {
     "name": "stdout",
     "output_type": "stream",
     "text": [
      "[0]\tvalidation-logloss:0.32987\n",
      "[1]\tvalidation-logloss:0.32261\n",
      "[2]\tvalidation-logloss:0.32050\n",
      "[3]\tvalidation-logloss:0.30224\n",
      "[4]\tvalidation-logloss:0.28591\n",
      "[5]\tvalidation-logloss:0.26418\n",
      "[6]\tvalidation-logloss:0.26320\n",
      "[7]\tvalidation-logloss:0.26322\n",
      "[8]\tvalidation-logloss:0.25630\n",
      "[9]\tvalidation-logloss:0.25815\n"
     ]
    },
    {
     "name": "stderr",
     "output_type": "stream",
     "text": [
      "\u001B[32m[I 2021-09-18 18:21:39,449]\u001B[0m Trial 40 finished with value: 0.9020979020979021 and parameters: {'booster': 'dart', 'lambda': 7.235866369178096e-07, 'alpha': 0.0002815701933090185, 'max_depth': 8, 'eta': 0.8630425882483969, 'gamma': 5.462593890790733e-07, 'grow_policy': 'lossguide', 'sample_type': 'weighted', 'normalize_type': 'tree', 'rate_drop': 0.7360385240146122, 'skip_drop': 4.701161084198439e-06}. Best is trial 8 with value: 0.965034965034965.\u001B[0m\n"
     ]
    },
    {
     "name": "stdout",
     "output_type": "stream",
     "text": [
      "[0]\tvalidation-logloss:0.54095\n",
      "[1]\tvalidation-logloss:0.44499\n",
      "[2]\tvalidation-logloss:0.41628\n",
      "[3]\tvalidation-logloss:0.37270\n",
      "[4]\tvalidation-logloss:0.32484\n",
      "[5]\tvalidation-logloss:0.31957\n",
      "[6]\tvalidation-logloss:0.31297\n",
      "[7]\tvalidation-logloss:0.31033\n",
      "[8]\tvalidation-logloss:0.28007\n",
      "[9]\tvalidation-logloss:0.25854\n"
     ]
    },
    {
     "name": "stderr",
     "output_type": "stream",
     "text": [
      "\u001B[32m[I 2021-09-18 18:21:39,499]\u001B[0m Trial 41 finished with value: 0.916083916083916 and parameters: {'booster': 'dart', 'lambda': 2.797710453208833e-06, 'alpha': 4.036265354849248e-06, 'max_depth': 7, 'eta': 0.20701793010661165, 'gamma': 6.598891254595818e-07, 'grow_policy': 'lossguide', 'sample_type': 'weighted', 'normalize_type': 'tree', 'rate_drop': 0.6542750044827285, 'skip_drop': 0.6266434068037655}. Best is trial 8 with value: 0.965034965034965.\u001B[0m\n"
     ]
    },
    {
     "name": "stdout",
     "output_type": "stream",
     "text": [
      "[0]\tvalidation-logloss:0.50075\n",
      "[1]\tvalidation-logloss:0.38084\n",
      "[2]\tvalidation-logloss:0.29189\n",
      "[3]\tvalidation-logloss:0.23960\n",
      "[4]\tvalidation-logloss:0.20859\n",
      "[5]\tvalidation-logloss:0.18222\n",
      "[6]\tvalidation-logloss:0.16320\n",
      "[7]\tvalidation-logloss:0.14210\n",
      "[8]\tvalidation-logloss:0.13141\n",
      "[9]\tvalidation-logloss:0.11888\n"
     ]
    },
    {
     "name": "stderr",
     "output_type": "stream",
     "text": [
      "\u001B[32m[I 2021-09-18 18:21:39,549]\u001B[0m Trial 42 finished with value: 0.958041958041958 and parameters: {'booster': 'dart', 'lambda': 5.536514742323632e-07, 'alpha': 1.846188213569997e-05, 'max_depth': 8, 'eta': 0.2673706200763105, 'gamma': 3.059321106176301e-05, 'grow_policy': 'lossguide', 'sample_type': 'weighted', 'normalize_type': 'tree', 'rate_drop': 0.051331536349659486, 'skip_drop': 0.9817699889232643}. Best is trial 8 with value: 0.965034965034965.\u001B[0m\n"
     ]
    },
    {
     "name": "stdout",
     "output_type": "stream",
     "text": [
      "[0]\tvalidation-logloss:0.47124\n",
      "[1]\tvalidation-logloss:0.35184\n",
      "[2]\tvalidation-logloss:0.28787\n",
      "[3]\tvalidation-logloss:0.25430\n",
      "[4]\tvalidation-logloss:0.22783\n",
      "[5]\tvalidation-logloss:0.20364\n",
      "[6]\tvalidation-logloss:0.19520\n",
      "[7]\tvalidation-logloss:0.19185\n",
      "[8]\tvalidation-logloss:0.17433\n",
      "[9]\tvalidation-logloss:0.16361\n"
     ]
    },
    {
     "name": "stderr",
     "output_type": "stream",
     "text": [
      "\u001B[32m[I 2021-09-18 18:21:39,603]\u001B[0m Trial 43 finished with value: 0.9230769230769231 and parameters: {'booster': 'dart', 'lambda': 7.087556099998535e-08, 'alpha': 1.584181286820499e-05, 'max_depth': 9, 'eta': 0.33843693360355276, 'gamma': 2.602015071416735e-06, 'grow_policy': 'lossguide', 'sample_type': 'weighted', 'normalize_type': 'tree', 'rate_drop': 0.02093546009585788, 'skip_drop': 0.007792495996655875}. Best is trial 8 with value: 0.965034965034965.\u001B[0m\n"
     ]
    },
    {
     "name": "stdout",
     "output_type": "stream",
     "text": [
      "[0]\tvalidation-logloss:0.69241\n",
      "[1]\tvalidation-logloss:0.69170\n",
      "[2]\tvalidation-logloss:0.69098\n",
      "[3]\tvalidation-logloss:0.69026\n",
      "[4]\tvalidation-logloss:0.68953\n",
      "[5]\tvalidation-logloss:0.68882\n",
      "[6]\tvalidation-logloss:0.68811\n",
      "[7]\tvalidation-logloss:0.68739\n",
      "[8]\tvalidation-logloss:0.68667\n",
      "[9]\tvalidation-logloss:0.68597\n"
     ]
    },
    {
     "name": "stderr",
     "output_type": "stream",
     "text": [
      "\u001B[32m[I 2021-09-18 18:21:39,641]\u001B[0m Trial 44 finished with value: 0.9020979020979021 and parameters: {'booster': 'gbtree', 'lambda': 0.0019419315555364368, 'alpha': 5.616392405440684e-07, 'max_depth': 6, 'eta': 0.0009340802242425112, 'gamma': 0.0009170384349262148, 'grow_policy': 'depthwise'}. Best is trial 8 with value: 0.965034965034965.\u001B[0m\n"
     ]
    },
    {
     "name": "stdout",
     "output_type": "stream",
     "text": [
      "[0]\tvalidation-logloss:0.68219\n",
      "[1]\tvalidation-logloss:0.67164\n",
      "[2]\tvalidation-logloss:0.66132\n",
      "[3]\tvalidation-logloss:0.65133\n",
      "[4]\tvalidation-logloss:0.64124\n",
      "[5]\tvalidation-logloss:0.63172\n",
      "[6]\tvalidation-logloss:0.62208\n",
      "[7]\tvalidation-logloss:0.61292\n",
      "[8]\tvalidation-logloss:0.60386\n",
      "[9]\tvalidation-logloss:0.59509\n"
     ]
    },
    {
     "name": "stderr",
     "output_type": "stream",
     "text": [
      "\u001B[32m[I 2021-09-18 18:21:39,684]\u001B[0m Trial 45 finished with value: 0.9370629370629371 and parameters: {'booster': 'gbtree', 'lambda': 0.00026872586642289804, 'alpha': 6.605241341726178e-05, 'max_depth': 5, 'eta': 0.012748351711154928, 'gamma': 0.00029932841821382584, 'grow_policy': 'depthwise'}. Best is trial 8 with value: 0.965034965034965.\u001B[0m\n"
     ]
    },
    {
     "name": "stdout",
     "output_type": "stream",
     "text": [
      "[0]\tvalidation-logloss:0.64122\n",
      "[1]\tvalidation-logloss:0.59693\n",
      "[2]\tvalidation-logloss:0.55832\n",
      "[3]\tvalidation-logloss:0.52580\n",
      "[4]\tvalidation-logloss:0.49305\n",
      "[5]\tvalidation-logloss:0.46749\n",
      "[6]\tvalidation-logloss:0.44064\n",
      "[7]\tvalidation-logloss:0.41619\n",
      "[8]\tvalidation-logloss:0.39378\n",
      "[9]\tvalidation-logloss:0.37491\n"
     ]
    },
    {
     "name": "stderr",
     "output_type": "stream",
     "text": [
      "\u001B[32m[I 2021-09-18 18:21:39,736]\u001B[0m Trial 46 finished with value: 0.951048951048951 and parameters: {'booster': 'dart', 'lambda': 4.360924849241224e-05, 'alpha': 1.0748269503733033e-06, 'max_depth': 7, 'eta': 0.05964323132903384, 'gamma': 6.606319657831391e-05, 'grow_policy': 'lossguide', 'sample_type': 'uniform', 'normalize_type': 'forest', 'rate_drop': 0.00018182187882383261, 'skip_drop': 5.603548039945807e-07}. Best is trial 8 with value: 0.965034965034965.\u001B[0m\n"
     ]
    },
    {
     "name": "stdout",
     "output_type": "stream",
     "text": [
      "[0]\tvalidation-logloss:0.69307\n",
      "[1]\tvalidation-logloss:0.69300\n",
      "[2]\tvalidation-logloss:0.69293\n",
      "[3]\tvalidation-logloss:0.69286\n",
      "[4]\tvalidation-logloss:0.69279\n",
      "[5]\tvalidation-logloss:0.69272\n",
      "[6]\tvalidation-logloss:0.69265\n",
      "[7]\tvalidation-logloss:0.69258\n",
      "[8]\tvalidation-logloss:0.69251\n",
      "[9]\tvalidation-logloss:0.69244\n"
     ]
    },
    {
     "name": "stderr",
     "output_type": "stream",
     "text": [
      "\u001B[32m[I 2021-09-18 18:21:39,786]\u001B[0m Trial 47 finished with value: 0.8741258741258742 and parameters: {'booster': 'dart', 'lambda': 0.0008287990781946656, 'alpha': 0.0006112745275996241, 'max_depth': 8, 'eta': 9.331667489820867e-05, 'gamma': 2.2529046401103304e-05, 'grow_policy': 'lossguide', 'sample_type': 'uniform', 'normalize_type': 'forest', 'rate_drop': 5.004180350922384e-07, 'skip_drop': 3.694171473904199e-05}. Best is trial 8 with value: 0.965034965034965.\u001B[0m\n"
     ]
    },
    {
     "name": "stdout",
     "output_type": "stream",
     "text": [
      "[0]\tvalidation-logloss:0.69013\n",
      "[1]\tvalidation-logloss:0.68720\n",
      "[2]\tvalidation-logloss:0.68429\n",
      "[3]\tvalidation-logloss:0.68139\n",
      "[4]\tvalidation-logloss:0.67849\n",
      "[5]\tvalidation-logloss:0.67565\n",
      "[6]\tvalidation-logloss:0.67285\n",
      "[7]\tvalidation-logloss:0.67004\n",
      "[8]\tvalidation-logloss:0.66725\n",
      "[9]\tvalidation-logloss:0.66447\n"
     ]
    },
    {
     "name": "stderr",
     "output_type": "stream",
     "text": [
      "\u001B[32m[I 2021-09-18 18:21:39,837]\u001B[0m Trial 48 finished with value: 0.916083916083916 and parameters: {'booster': 'dart', 'lambda': 7.745539415717671e-07, 'alpha': 9.740998606226361e-06, 'max_depth': 9, 'eta': 0.0036719644816635556, 'gamma': 0.0031654385057529816, 'grow_policy': 'lossguide', 'sample_type': 'weighted', 'normalize_type': 'tree', 'rate_drop': 0.004170758446234775, 'skip_drop': 0.0011654001444126537}. Best is trial 8 with value: 0.965034965034965.\u001B[0m\n"
     ]
    },
    {
     "name": "stdout",
     "output_type": "stream",
     "text": [
      "[0]\tvalidation-logloss:0.58615\n",
      "[1]\tvalidation-logloss:0.52995\n",
      "[2]\tvalidation-logloss:0.48532\n",
      "[3]\tvalidation-logloss:0.45560\n",
      "[4]\tvalidation-logloss:0.42947\n",
      "[5]\tvalidation-logloss:0.41074\n",
      "[6]\tvalidation-logloss:0.39436\n",
      "[7]\tvalidation-logloss:0.37671\n",
      "[8]\tvalidation-logloss:0.36891\n",
      "[9]\tvalidation-logloss:0.34978\n"
     ]
    },
    {
     "name": "stderr",
     "output_type": "stream",
     "text": [
      "\u001B[32m[I 2021-09-18 18:21:39,857]\u001B[0m Trial 49 finished with value: 0.8671328671328671 and parameters: {'booster': 'gblinear', 'lambda': 2.2168781478080162e-07, 'alpha': 0.04379026397663743}. Best is trial 8 with value: 0.965034965034965.\u001B[0m\n"
     ]
    },
    {
     "name": "stdout",
     "output_type": "stream",
     "text": [
      "[0]\tvalidation-logloss:0.67990\n",
      "[1]\tvalidation-logloss:0.66709\n",
      "[2]\tvalidation-logloss:0.65477\n",
      "[3]\tvalidation-logloss:0.64294\n",
      "[4]\tvalidation-logloss:0.63142\n",
      "[5]\tvalidation-logloss:0.62035\n",
      "[6]\tvalidation-logloss:0.61018\n",
      "[7]\tvalidation-logloss:0.60043\n",
      "[8]\tvalidation-logloss:0.59053\n",
      "[9]\tvalidation-logloss:0.58030\n"
     ]
    },
    {
     "name": "stderr",
     "output_type": "stream",
     "text": [
      "\u001B[32m[I 2021-09-18 18:21:39,897]\u001B[0m Trial 50 finished with value: 0.8951048951048951 and parameters: {'booster': 'gbtree', 'lambda': 5.5673559802226136e-08, 'alpha': 2.8551386529633924e-05, 'max_depth': 6, 'eta': 0.01687305528896218, 'gamma': 9.987655242580527e-05, 'grow_policy': 'lossguide'}. Best is trial 8 with value: 0.965034965034965.\u001B[0m\n"
     ]
    },
    {
     "name": "stdout",
     "output_type": "stream",
     "text": [
      "[0]\tvalidation-logloss:0.49241\n",
      "[1]\tvalidation-logloss:0.36964\n",
      "[2]\tvalidation-logloss:0.29222\n",
      "[3]\tvalidation-logloss:0.23386\n",
      "[4]\tvalidation-logloss:0.18998\n",
      "[5]\tvalidation-logloss:0.18881\n",
      "[6]\tvalidation-logloss:0.15040\n",
      "[7]\tvalidation-logloss:0.13234\n",
      "[8]\tvalidation-logloss:0.11575\n",
      "[9]\tvalidation-logloss:0.10273\n"
     ]
    },
    {
     "name": "stderr",
     "output_type": "stream",
     "text": [
      "\u001B[32m[I 2021-09-18 18:21:39,949]\u001B[0m Trial 51 finished with value: 0.9790209790209791 and parameters: {'booster': 'dart', 'lambda': 1.1774668867961569e-06, 'alpha': 3.0635204782085945e-06, 'max_depth': 8, 'eta': 0.2659195641506073, 'gamma': 1.9012100484794083e-06, 'grow_policy': 'lossguide', 'sample_type': 'weighted', 'normalize_type': 'tree', 'rate_drop': 0.1429072727055564, 'skip_drop': 0.8355796312187527}. Best is trial 51 with value: 0.9790209790209791.\u001B[0m\n"
     ]
    },
    {
     "name": "stdout",
     "output_type": "stream",
     "text": [
      "[0]\tvalidation-logloss:0.62603\n",
      "[1]\tvalidation-logloss:0.56570\n",
      "[2]\tvalidation-logloss:0.51371\n",
      "[3]\tvalidation-logloss:0.47124\n",
      "[4]\tvalidation-logloss:0.43242\n",
      "[5]\tvalidation-logloss:0.39823\n",
      "[6]\tvalidation-logloss:0.36813\n",
      "[7]\tvalidation-logloss:0.34382\n",
      "[8]\tvalidation-logloss:0.32087\n",
      "[9]\tvalidation-logloss:0.29887\n"
     ]
    },
    {
     "name": "stderr",
     "output_type": "stream",
     "text": [
      "\u001B[32m[I 2021-09-18 18:21:39,999]\u001B[0m Trial 52 finished with value: 0.951048951048951 and parameters: {'booster': 'dart', 'lambda': 6.8049564291517446e-06, 'alpha': 3.436679119255494e-07, 'max_depth': 8, 'eta': 0.08361431977170981, 'gamma': 0.0010407393816151108, 'grow_policy': 'lossguide', 'sample_type': 'weighted', 'normalize_type': 'tree', 'rate_drop': 0.055106123921683126, 'skip_drop': 0.07167687245392833}. Best is trial 51 with value: 0.9790209790209791.\u001B[0m\n"
     ]
    },
    {
     "name": "stdout",
     "output_type": "stream",
     "text": [
      "[0]\tvalidation-logloss:0.46512\n",
      "[1]\tvalidation-logloss:0.34733\n",
      "[2]\tvalidation-logloss:0.28569\n",
      "[3]\tvalidation-logloss:0.23917\n",
      "[4]\tvalidation-logloss:0.20547\n",
      "[5]\tvalidation-logloss:0.17824\n",
      "[6]\tvalidation-logloss:0.16597\n",
      "[7]\tvalidation-logloss:0.15385\n",
      "[8]\tvalidation-logloss:0.15285\n",
      "[9]\tvalidation-logloss:0.15149\n"
     ]
    },
    {
     "name": "stderr",
     "output_type": "stream",
     "text": [
      "\u001B[32m[I 2021-09-18 18:21:40,050]\u001B[0m Trial 53 finished with value: 0.958041958041958 and parameters: {'booster': 'dart', 'lambda': 4.2973702698587387e-07, 'alpha': 2.5139380184965593e-05, 'max_depth': 8, 'eta': 0.3189229676663491, 'gamma': 1.8152150903824308e-06, 'grow_policy': 'lossguide', 'sample_type': 'weighted', 'normalize_type': 'tree', 'rate_drop': 0.19012191134751477, 'skip_drop': 0.866267297612066}. Best is trial 51 with value: 0.9790209790209791.\u001B[0m\n"
     ]
    },
    {
     "name": "stdout",
     "output_type": "stream",
     "text": [
      "[0]\tvalidation-logloss:0.69314\n",
      "[1]\tvalidation-logloss:0.69314\n",
      "[2]\tvalidation-logloss:0.69314\n",
      "[3]\tvalidation-logloss:0.69313\n",
      "[4]\tvalidation-logloss:0.69313\n",
      "[5]\tvalidation-logloss:0.69313\n",
      "[6]\tvalidation-logloss:0.69313\n",
      "[7]\tvalidation-logloss:0.69312\n",
      "[8]\tvalidation-logloss:0.69312\n",
      "[9]\tvalidation-logloss:0.69312\n"
     ]
    },
    {
     "name": "stderr",
     "output_type": "stream",
     "text": [
      "\u001B[32m[I 2021-09-18 18:21:40,103]\u001B[0m Trial 54 finished with value: 0.9090909090909091 and parameters: {'booster': 'dart', 'lambda': 9.615906774765511e-08, 'alpha': 0.00012793720477095668, 'max_depth': 7, 'eta': 3.706059059546545e-06, 'gamma': 5.720051696514921e-08, 'grow_policy': 'lossguide', 'sample_type': 'weighted', 'normalize_type': 'tree', 'rate_drop': 1.459303153893571e-05, 'skip_drop': 4.044681304828365e-05}. Best is trial 51 with value: 0.9790209790209791.\u001B[0m\n"
     ]
    },
    {
     "name": "stdout",
     "output_type": "stream",
     "text": [
      "[0]\tvalidation-logloss:0.22356\n",
      "[1]\tvalidation-logloss:0.13940\n",
      "[2]\tvalidation-logloss:0.10878\n",
      "[3]\tvalidation-logloss:0.07436\n",
      "[4]\tvalidation-logloss:0.07574\n",
      "[5]\tvalidation-logloss:0.07306\n",
      "[6]\tvalidation-logloss:0.08014\n",
      "[7]\tvalidation-logloss:0.07495\n",
      "[8]\tvalidation-logloss:0.07451\n",
      "[9]\tvalidation-logloss:0.06902\n"
     ]
    },
    {
     "name": "stderr",
     "output_type": "stream",
     "text": [
      "\u001B[32m[I 2021-09-18 18:21:40,152]\u001B[0m Trial 55 finished with value: 0.965034965034965 and parameters: {'booster': 'dart', 'lambda': 2.0742602068170374e-08, 'alpha': 2.5659790326042532e-06, 'max_depth': 7, 'eta': 0.9831630972737999, 'gamma': 0.00905137056422188, 'grow_policy': 'lossguide', 'sample_type': 'uniform', 'normalize_type': 'forest', 'rate_drop': 0.0013964984178288392, 'skip_drop': 0.011890624448519528}. Best is trial 51 with value: 0.9790209790209791.\u001B[0m\n"
     ]
    },
    {
     "name": "stdout",
     "output_type": "stream",
     "text": [
      "[0]\tvalidation-logloss:0.28725\n",
      "[1]\tvalidation-logloss:0.20204\n",
      "[2]\tvalidation-logloss:0.15507\n",
      "[3]\tvalidation-logloss:0.15265\n",
      "[4]\tvalidation-logloss:0.15977\n",
      "[5]\tvalidation-logloss:0.15590\n",
      "[6]\tvalidation-logloss:0.16257\n",
      "[7]\tvalidation-logloss:0.14612\n",
      "[8]\tvalidation-logloss:0.15475\n",
      "[9]\tvalidation-logloss:0.15512\n"
     ]
    },
    {
     "name": "stderr",
     "output_type": "stream",
     "text": [
      "\u001B[32m[I 2021-09-18 18:21:40,203]\u001B[0m Trial 56 finished with value: 0.9230769230769231 and parameters: {'booster': 'dart', 'lambda': 2.2360062904645984e-08, 'alpha': 2.310361463759961e-06, 'max_depth': 7, 'eta': 0.933396142410644, 'gamma': 0.006436067830512578, 'grow_policy': 'lossguide', 'sample_type': 'uniform', 'normalize_type': 'forest', 'rate_drop': 0.0008240289083335088, 'skip_drop': 0.11097073701743648}. Best is trial 51 with value: 0.9790209790209791.\u001B[0m\n"
     ]
    },
    {
     "name": "stdout",
     "output_type": "stream",
     "text": [
      "[0]\tvalidation-logloss:0.43083\n",
      "[1]\tvalidation-logloss:0.30263\n",
      "[2]\tvalidation-logloss:0.23236\n",
      "[3]\tvalidation-logloss:0.19365\n",
      "[4]\tvalidation-logloss:0.18118\n",
      "[5]\tvalidation-logloss:0.16323\n",
      "[6]\tvalidation-logloss:0.13265\n",
      "[7]\tvalidation-logloss:0.11955\n",
      "[8]\tvalidation-logloss:0.12047\n",
      "[9]\tvalidation-logloss:0.11391\n"
     ]
    },
    {
     "name": "stderr",
     "output_type": "stream",
     "text": [
      "\u001B[32m[I 2021-09-18 18:21:40,254]\u001B[0m Trial 57 finished with value: 0.9370629370629371 and parameters: {'booster': 'dart', 'lambda': 1.0893204550518592e-06, 'alpha': 3.3595834105790255e-05, 'max_depth': 9, 'eta': 0.43167590141806506, 'gamma': 1.0564450696907576e-08, 'grow_policy': 'lossguide', 'sample_type': 'uniform', 'normalize_type': 'forest', 'rate_drop': 0.0044518323869617085, 'skip_drop': 0.012339221006712612}. Best is trial 51 with value: 0.9790209790209791.\u001B[0m\n"
     ]
    },
    {
     "name": "stdout",
     "output_type": "stream",
     "text": [
      "[0]\tvalidation-logloss:0.66960\n",
      "[1]\tvalidation-logloss:0.64848\n",
      "[2]\tvalidation-logloss:0.62812\n",
      "[3]\tvalidation-logloss:0.60942\n",
      "[4]\tvalidation-logloss:0.59137\n",
      "[5]\tvalidation-logloss:0.57473\n",
      "[6]\tvalidation-logloss:0.55874\n",
      "[7]\tvalidation-logloss:0.54389\n",
      "[8]\tvalidation-logloss:0.52958\n",
      "[9]\tvalidation-logloss:0.51628\n"
     ]
    },
    {
     "name": "stderr",
     "output_type": "stream",
     "text": [
      "\u001B[32m[I 2021-09-18 18:21:40,298]\u001B[0m Trial 58 finished with value: 0.9090909090909091 and parameters: {'booster': 'gbtree', 'lambda': 1.3911287672577214e-07, 'alpha': 7.175098054161532e-08, 'max_depth': 6, 'eta': 0.02891200594863897, 'gamma': 0.04619935331063237, 'grow_policy': 'lossguide'}. Best is trial 51 with value: 0.9790209790209791.\u001B[0m\n"
     ]
    },
    {
     "name": "stdout",
     "output_type": "stream",
     "text": [
      "[0]\tvalidation-logloss:0.62078\n",
      "[1]\tvalidation-logloss:0.56114\n",
      "[2]\tvalidation-logloss:0.50839\n",
      "[3]\tvalidation-logloss:0.46584\n",
      "[4]\tvalidation-logloss:0.43005\n",
      "[5]\tvalidation-logloss:0.39596\n",
      "[6]\tvalidation-logloss:0.37300\n",
      "[7]\tvalidation-logloss:0.35086\n",
      "[8]\tvalidation-logloss:0.33304\n",
      "[9]\tvalidation-logloss:0.31542\n"
     ]
    },
    {
     "name": "stderr",
     "output_type": "stream",
     "text": [
      "\u001B[32m[I 2021-09-18 18:21:40,346]\u001B[0m Trial 59 finished with value: 0.9370629370629371 and parameters: {'booster': 'dart', 'lambda': 3.7377643850903657e-07, 'alpha': 7.74525496809559e-05, 'max_depth': 2, 'eta': 0.09367371830061438, 'gamma': 0.010284446292162464, 'grow_policy': 'lossguide', 'sample_type': 'uniform', 'normalize_type': 'forest', 'rate_drop': 0.12062025192332261, 'skip_drop': 0.16445144166275452}. Best is trial 51 with value: 0.9790209790209791.\u001B[0m\n"
     ]
    },
    {
     "name": "stdout",
     "output_type": "stream",
     "text": [
      "[0]\tvalidation-logloss:0.68525\n",
      "[1]\tvalidation-logloss:0.67764\n",
      "[2]\tvalidation-logloss:0.67022\n",
      "[3]\tvalidation-logloss:0.66287\n",
      "[4]\tvalidation-logloss:0.65555\n",
      "[5]\tvalidation-logloss:0.64836\n",
      "[6]\tvalidation-logloss:0.64133\n",
      "[7]\tvalidation-logloss:0.63438\n",
      "[8]\tvalidation-logloss:0.62763\n",
      "[9]\tvalidation-logloss:0.62095\n"
     ]
    },
    {
     "name": "stderr",
     "output_type": "stream",
     "text": [
      "\u001B[32m[I 2021-09-18 18:21:40,386]\u001B[0m Trial 60 finished with value: 0.9440559440559441 and parameters: {'booster': 'gbtree', 'lambda': 0.003788339640043972, 'alpha': 2.2848824272235587e-07, 'max_depth': 5, 'eta': 0.009251049179108736, 'gamma': 0.00026246258966913875, 'grow_policy': 'lossguide'}. Best is trial 51 with value: 0.9790209790209791.\u001B[0m\n"
     ]
    },
    {
     "name": "stdout",
     "output_type": "stream",
     "text": [
      "[0]\tvalidation-logloss:0.40664\n",
      "[1]\tvalidation-logloss:0.30058\n",
      "[2]\tvalidation-logloss:0.25163\n",
      "[3]\tvalidation-logloss:0.21935\n",
      "[4]\tvalidation-logloss:0.19750\n",
      "[5]\tvalidation-logloss:0.18639\n",
      "[6]\tvalidation-logloss:0.17248\n",
      "[7]\tvalidation-logloss:0.16545\n",
      "[8]\tvalidation-logloss:0.17503\n",
      "[9]\tvalidation-logloss:0.17530\n"
     ]
    },
    {
     "name": "stderr",
     "output_type": "stream",
     "text": [
      "\u001B[32m[I 2021-09-18 18:21:40,439]\u001B[0m Trial 61 finished with value: 0.9300699300699301 and parameters: {'booster': 'dart', 'lambda': 2.194524643877671e-08, 'alpha': 1.0269884959807174e-06, 'max_depth': 7, 'eta': 0.4643789930487446, 'gamma': 0.0015871255616960562, 'grow_policy': 'lossguide', 'sample_type': 'uniform', 'normalize_type': 'forest', 'rate_drop': 1.544081025353828e-06, 'skip_drop': 0.0014842043897691118}. Best is trial 51 with value: 0.9790209790209791.\u001B[0m\n"
     ]
    },
    {
     "name": "stdout",
     "output_type": "stream",
     "text": [
      "[0]\tvalidation-logloss:0.57698\n",
      "[1]\tvalidation-logloss:0.49650\n",
      "[2]\tvalidation-logloss:0.43023\n",
      "[3]\tvalidation-logloss:0.38327\n",
      "[4]\tvalidation-logloss:0.34352\n",
      "[5]\tvalidation-logloss:0.31530\n",
      "[6]\tvalidation-logloss:0.29281\n",
      "[7]\tvalidation-logloss:0.27101\n",
      "[8]\tvalidation-logloss:0.25594\n",
      "[9]\tvalidation-logloss:0.24526\n"
     ]
    },
    {
     "name": "stderr",
     "output_type": "stream",
     "text": [
      "\u001B[32m[I 2021-09-18 18:21:40,494]\u001B[0m Trial 62 finished with value: 0.916083916083916 and parameters: {'booster': 'dart', 'lambda': 6.773536424158972e-06, 'alpha': 2.3290210261036534e-06, 'max_depth': 7, 'eta': 0.15017598110564762, 'gamma': 9.471059471913025e-06, 'grow_policy': 'lossguide', 'sample_type': 'uniform', 'normalize_type': 'forest', 'rate_drop': 3.2765830100517555e-05, 'skip_drop': 0.009070911171913287}. Best is trial 51 with value: 0.9790209790209791.\u001B[0m\n"
     ]
    },
    {
     "name": "stdout",
     "output_type": "stream",
     "text": [
      "[0]\tvalidation-logloss:0.35954\n",
      "[1]\tvalidation-logloss:0.22774\n",
      "[2]\tvalidation-logloss:0.16493\n",
      "[3]\tvalidation-logloss:0.12692\n",
      "[4]\tvalidation-logloss:0.10554\n",
      "[5]\tvalidation-logloss:0.09759\n",
      "[6]\tvalidation-logloss:0.09474\n",
      "[7]\tvalidation-logloss:0.08833\n",
      "[8]\tvalidation-logloss:0.08536\n",
      "[9]\tvalidation-logloss:0.09004\n"
     ]
    },
    {
     "name": "stderr",
     "output_type": "stream",
     "text": [
      "\u001B[32m[I 2021-09-18 18:21:40,548]\u001B[0m Trial 63 finished with value: 0.9790209790209791 and parameters: {'booster': 'dart', 'lambda': 0.00012707606235789866, 'alpha': 6.380438239614855e-06, 'max_depth': 6, 'eta': 0.5210666820925857, 'gamma': 2.7680160092092844e-07, 'grow_policy': 'lossguide', 'sample_type': 'weighted', 'normalize_type': 'tree', 'rate_drop': 0.012576132271278415, 'skip_drop': 0.22165134158433256}. Best is trial 51 with value: 0.9790209790209791.\u001B[0m\n"
     ]
    },
    {
     "name": "stdout",
     "output_type": "stream",
     "text": [
      "[0]\tvalidation-logloss:0.69315\n",
      "[1]\tvalidation-logloss:0.69315\n",
      "[2]\tvalidation-logloss:0.69315\n",
      "[3]\tvalidation-logloss:0.69315\n",
      "[4]\tvalidation-logloss:0.69315\n",
      "[5]\tvalidation-logloss:0.69315\n",
      "[6]\tvalidation-logloss:0.69315\n",
      "[7]\tvalidation-logloss:0.69315\n",
      "[8]\tvalidation-logloss:0.69315\n",
      "[9]\tvalidation-logloss:0.69315\n"
     ]
    },
    {
     "name": "stderr",
     "output_type": "stream",
     "text": [
      "\u001B[32m[I 2021-09-18 18:21:40,589]\u001B[0m Trial 64 finished with value: 0.9370629370629371 and parameters: {'booster': 'gbtree', 'lambda': 0.02046423141024263, 'alpha': 9.854344329907288e-06, 'max_depth': 6, 'eta': 1.148208226950326e-08, 'gamma': 4.218969645899994e-08, 'grow_policy': 'depthwise'}. Best is trial 51 with value: 0.9790209790209791.\u001B[0m\n"
     ]
    },
    {
     "name": "stdout",
     "output_type": "stream",
     "text": [
      "[0]\tvalidation-logloss:0.34349\n",
      "[1]\tvalidation-logloss:0.22075\n",
      "[2]\tvalidation-logloss:0.17177\n",
      "[3]\tvalidation-logloss:0.17058\n",
      "[4]\tvalidation-logloss:0.16041\n",
      "[5]\tvalidation-logloss:0.16084\n",
      "[6]\tvalidation-logloss:0.17129\n",
      "[7]\tvalidation-logloss:0.17102\n",
      "[8]\tvalidation-logloss:0.15618\n",
      "[9]\tvalidation-logloss:0.17289\n"
     ]
    },
    {
     "name": "stderr",
     "output_type": "stream",
     "text": [
      "\u001B[32m[I 2021-09-18 18:21:40,638]\u001B[0m Trial 65 finished with value: 0.951048951048951 and parameters: {'booster': 'dart', 'lambda': 1.3757272738857252e-06, 'alpha': 3.1270244353761577e-06, 'max_depth': 6, 'eta': 0.6099588480600012, 'gamma': 6.237922796160072e-07, 'grow_policy': 'lossguide', 'sample_type': 'weighted', 'normalize_type': 'tree', 'rate_drop': 0.017689851472415346, 'skip_drop': 0.16586458525180242}. Best is trial 51 with value: 0.9790209790209791.\u001B[0m\n"
     ]
    },
    {
     "name": "stdout",
     "output_type": "stream",
     "text": [
      "[0]\tvalidation-logloss:0.65892\n",
      "[1]\tvalidation-logloss:0.62825\n",
      "[2]\tvalidation-logloss:0.59978\n",
      "[3]\tvalidation-logloss:0.57252\n",
      "[4]\tvalidation-logloss:0.54706\n",
      "[5]\tvalidation-logloss:0.52454\n",
      "[6]\tvalidation-logloss:0.50266\n",
      "[7]\tvalidation-logloss:0.48261\n",
      "[8]\tvalidation-logloss:0.46446\n",
      "[9]\tvalidation-logloss:0.44708\n"
     ]
    },
    {
     "name": "stderr",
     "output_type": "stream",
     "text": [
      "\u001B[32m[I 2021-09-18 18:21:40,691]\u001B[0m Trial 66 finished with value: 0.9230769230769231 and parameters: {'booster': 'dart', 'lambda': 2.6332282565159284e-05, 'alpha': 6.396176431901177e-06, 'max_depth': 6, 'eta': 0.04146747346200823, 'gamma': 1.573378972620737e-07, 'grow_policy': 'lossguide', 'sample_type': 'weighted', 'normalize_type': 'tree', 'rate_drop': 0.0006959950264785947, 'skip_drop': 0.23037602684468597}. Best is trial 51 with value: 0.9790209790209791.\u001B[0m\n"
     ]
    },
    {
     "name": "stdout",
     "output_type": "stream",
     "text": [
      "[0]\tvalidation-logloss:0.59724\n",
      "[1]\tvalidation-logloss:0.52192\n",
      "[2]\tvalidation-logloss:0.46169\n",
      "[3]\tvalidation-logloss:0.41535\n",
      "[4]\tvalidation-logloss:0.37695\n",
      "[5]\tvalidation-logloss:0.34322\n",
      "[6]\tvalidation-logloss:0.31494\n",
      "[7]\tvalidation-logloss:0.29411\n",
      "[8]\tvalidation-logloss:0.27428\n",
      "[9]\tvalidation-logloss:0.25307\n"
     ]
    },
    {
     "name": "stderr",
     "output_type": "stream",
     "text": [
      "\u001B[32m[I 2021-09-18 18:21:40,750]\u001B[0m Trial 67 finished with value: 0.9300699300699301 and parameters: {'booster': 'dart', 'lambda': 8.02345578153957e-05, 'alpha': 5.376662388774392e-07, 'max_depth': 5, 'eta': 0.12398429194639421, 'gamma': 0.0032449691812318836, 'grow_policy': 'lossguide', 'sample_type': 'weighted', 'normalize_type': 'tree', 'rate_drop': 0.010582021014424438, 'skip_drop': 0.021681253073147326}. Best is trial 51 with value: 0.9790209790209791.\u001B[0m\n"
     ]
    },
    {
     "name": "stdout",
     "output_type": "stream",
     "text": [
      "[0]\tvalidation-logloss:0.54443\n",
      "[1]\tvalidation-logloss:0.44290\n",
      "[2]\tvalidation-logloss:0.37700\n",
      "[3]\tvalidation-logloss:0.32341\n",
      "[4]\tvalidation-logloss:0.28244\n",
      "[5]\tvalidation-logloss:0.25025\n",
      "[6]\tvalidation-logloss:0.22717\n",
      "[7]\tvalidation-logloss:0.21533\n",
      "[8]\tvalidation-logloss:0.20141\n",
      "[9]\tvalidation-logloss:0.19140\n"
     ]
    },
    {
     "name": "stderr",
     "output_type": "stream",
     "text": [
      "\u001B[32m[I 2021-09-18 18:21:40,802]\u001B[0m Trial 68 finished with value: 0.9440559440559441 and parameters: {'booster': 'dart', 'lambda': 1.470297665688046e-05, 'alpha': 0.0002533030191114822, 'max_depth': 4, 'eta': 0.19924546856187442, 'gamma': 0.042114495882152415, 'grow_policy': 'lossguide', 'sample_type': 'weighted', 'normalize_type': 'tree', 'rate_drop': 0.07127072374111941, 'skip_drop': 0.0462186299731564}. Best is trial 51 with value: 0.9790209790209791.\u001B[0m\n"
     ]
    },
    {
     "name": "stdout",
     "output_type": "stream",
     "text": [
      "[0]\tvalidation-logloss:0.54660\n",
      "[1]\tvalidation-logloss:0.69990\n",
      "[2]\tvalidation-logloss:0.49625\n",
      "[3]\tvalidation-logloss:0.42677\n",
      "[4]\tvalidation-logloss:0.38441\n",
      "[5]\tvalidation-logloss:0.36138\n",
      "[6]\tvalidation-logloss:0.37211\n",
      "[7]\tvalidation-logloss:0.32085\n",
      "[8]\tvalidation-logloss:0.28974\n",
      "[9]\tvalidation-logloss:0.27749\n"
     ]
    },
    {
     "name": "stderr",
     "output_type": "stream",
     "text": [
      "\u001B[32m[I 2021-09-18 18:21:40,825]\u001B[0m Trial 69 finished with value: 0.8741258741258742 and parameters: {'booster': 'gblinear', 'lambda': 3.488648430456314e-07, 'alpha': 2.237761352727585e-05}. Best is trial 51 with value: 0.9790209790209791.\u001B[0m\n"
     ]
    },
    {
     "name": "stdout",
     "output_type": "stream",
     "text": [
      "[0]\tvalidation-logloss:0.63008\n",
      "[1]\tvalidation-logloss:0.57601\n",
      "[2]\tvalidation-logloss:0.52744\n",
      "[3]\tvalidation-logloss:0.48341\n",
      "[4]\tvalidation-logloss:0.44784\n",
      "[5]\tvalidation-logloss:0.41459\n",
      "[6]\tvalidation-logloss:0.38653\n",
      "[7]\tvalidation-logloss:0.36207\n",
      "[8]\tvalidation-logloss:0.33901\n",
      "[9]\tvalidation-logloss:0.31909\n"
     ]
    },
    {
     "name": "stderr",
     "output_type": "stream",
     "text": [
      "\u001B[32m[I 2021-09-18 18:21:40,876]\u001B[0m Trial 70 finished with value: 0.958041958041958 and parameters: {'booster': 'dart', 'lambda': 0.0009200793599443637, 'alpha': 9.122038469562784e-07, 'max_depth': 7, 'eta': 0.07541943385522101, 'gamma': 2.775367720646016e-07, 'grow_policy': 'lossguide', 'sample_type': 'weighted', 'normalize_type': 'tree', 'rate_drop': 0.0018092152418212664, 'skip_drop': 0.36053474470828567}. Best is trial 51 with value: 0.9790209790209791.\u001B[0m\n"
     ]
    },
    {
     "name": "stdout",
     "output_type": "stream",
     "text": [
      "[0]\tvalidation-logloss:0.24124\n",
      "[1]\tvalidation-logloss:0.18684\n",
      "[2]\tvalidation-logloss:0.16679\n",
      "[3]\tvalidation-logloss:0.18084\n",
      "[4]\tvalidation-logloss:0.17081\n",
      "[5]\tvalidation-logloss:0.16186\n",
      "[6]\tvalidation-logloss:0.16289\n",
      "[7]\tvalidation-logloss:0.15898\n",
      "[8]\tvalidation-logloss:0.15935\n",
      "[9]\tvalidation-logloss:0.15653\n"
     ]
    },
    {
     "name": "stderr",
     "output_type": "stream",
     "text": [
      "\u001B[32m[I 2021-09-18 18:21:40,928]\u001B[0m Trial 71 finished with value: 0.958041958041958 and parameters: {'booster': 'dart', 'lambda': 0.0008240832102743286, 'alpha': 8.28143212148588e-07, 'max_depth': 8, 'eta': 0.9725119514995918, 'gamma': 2.671228435403076e-07, 'grow_policy': 'lossguide', 'sample_type': 'weighted', 'normalize_type': 'tree', 'rate_drop': 0.0011242623209810913, 'skip_drop': 0.2841766826673686}. Best is trial 51 with value: 0.9790209790209791.\u001B[0m\n"
     ]
    },
    {
     "name": "stdout",
     "output_type": "stream",
     "text": [
      "[0]\tvalidation-logloss:0.44920\n",
      "[1]\tvalidation-logloss:0.33931\n",
      "[2]\tvalidation-logloss:0.26660\n",
      "[3]\tvalidation-logloss:0.21105\n",
      "[4]\tvalidation-logloss:0.17603\n",
      "[5]\tvalidation-logloss:0.15820\n",
      "[6]\tvalidation-logloss:0.14970\n",
      "[7]\tvalidation-logloss:0.14874\n",
      "[8]\tvalidation-logloss:0.13904\n",
      "[9]\tvalidation-logloss:0.13589\n"
     ]
    },
    {
     "name": "stderr",
     "output_type": "stream",
     "text": [
      "\u001B[32m[I 2021-09-18 18:21:40,986]\u001B[0m Trial 72 finished with value: 0.951048951048951 and parameters: {'booster': 'dart', 'lambda': 4.858581326421968e-06, 'alpha': 7.646467188605149e-06, 'max_depth': 8, 'eta': 0.3575721815655487, 'gamma': 2.810255757643203e-06, 'grow_policy': 'lossguide', 'sample_type': 'weighted', 'normalize_type': 'tree', 'rate_drop': 0.29204536096071, 'skip_drop': 0.8929037871426809}. Best is trial 51 with value: 0.9790209790209791.\u001B[0m\n"
     ]
    },
    {
     "name": "stdout",
     "output_type": "stream",
     "text": [
      "[0]\tvalidation-logloss:0.69314\n",
      "[1]\tvalidation-logloss:0.69313\n",
      "[2]\tvalidation-logloss:0.69313\n",
      "[3]\tvalidation-logloss:0.69312\n",
      "[4]\tvalidation-logloss:0.69311\n",
      "[5]\tvalidation-logloss:0.69311\n",
      "[6]\tvalidation-logloss:0.69310\n",
      "[7]\tvalidation-logloss:0.69309\n",
      "[8]\tvalidation-logloss:0.69309\n",
      "[9]\tvalidation-logloss:0.69308\n"
     ]
    },
    {
     "name": "stderr",
     "output_type": "stream",
     "text": [
      "\u001B[32m[I 2021-09-18 18:21:41,025]\u001B[0m Trial 73 finished with value: 0.9300699300699301 and parameters: {'booster': 'gbtree', 'lambda': 0.00014443243523936625, 'alpha': 1.8916798769439037e-06, 'max_depth': 6, 'eta': 8.14451097009342e-06, 'gamma': 0.011882149296208584, 'grow_policy': 'lossguide'}. Best is trial 51 with value: 0.9790209790209791.\u001B[0m\n"
     ]
    },
    {
     "name": "stdout",
     "output_type": "stream",
     "text": [
      "[0]\tvalidation-logloss:0.69308\n",
      "[1]\tvalidation-logloss:0.69302\n",
      "[2]\tvalidation-logloss:0.69296\n",
      "[3]\tvalidation-logloss:0.69290\n",
      "[4]\tvalidation-logloss:0.69283\n",
      "[5]\tvalidation-logloss:0.69277\n",
      "[6]\tvalidation-logloss:0.69271\n",
      "[7]\tvalidation-logloss:0.69264\n",
      "[8]\tvalidation-logloss:0.69258\n",
      "[9]\tvalidation-logloss:0.69252\n"
     ]
    },
    {
     "name": "stderr",
     "output_type": "stream",
     "text": [
      "\u001B[32m[I 2021-09-18 18:21:41,066]\u001B[0m Trial 74 finished with value: 0.9440559440559441 and parameters: {'booster': 'gbtree', 'lambda': 0.00033787171378125367, 'alpha': 1.516774415306954e-06, 'max_depth': 7, 'eta': 7.148808909276466e-05, 'gamma': 0.0003954053413576421, 'grow_policy': 'lossguide'}. Best is trial 51 with value: 0.9790209790209791.\u001B[0m\n"
     ]
    },
    {
     "name": "stdout",
     "output_type": "stream",
     "text": [
      "[0]\tvalidation-logloss:0.41142\n",
      "[1]\tvalidation-logloss:0.30126\n",
      "[2]\tvalidation-logloss:0.23085\n",
      "[3]\tvalidation-logloss:0.19804\n",
      "[4]\tvalidation-logloss:0.18454\n",
      "[5]\tvalidation-logloss:0.17308\n",
      "[6]\tvalidation-logloss:0.17041\n",
      "[7]\tvalidation-logloss:0.16986\n",
      "[8]\tvalidation-logloss:0.17065\n",
      "[9]\tvalidation-logloss:0.16104\n"
     ]
    },
    {
     "name": "stderr",
     "output_type": "stream",
     "text": [
      "\u001B[32m[I 2021-09-18 18:21:41,119]\u001B[0m Trial 75 finished with value: 0.951048951048951 and parameters: {'booster': 'dart', 'lambda': 3.896254032160498e-08, 'alpha': 4.792171173373085e-06, 'max_depth': 8, 'eta': 0.4142956144414038, 'gamma': 1.5793186296111675e-06, 'grow_policy': 'lossguide', 'sample_type': 'weighted', 'normalize_type': 'tree', 'rate_drop': 9.112482048065957e-08, 'skip_drop': 0.06182895319822475}. Best is trial 51 with value: 0.9790209790209791.\u001B[0m\n"
     ]
    },
    {
     "name": "stdout",
     "output_type": "stream",
     "text": [
      "[0]\tvalidation-logloss:0.62794\n",
      "[1]\tvalidation-logloss:0.57758\n",
      "[2]\tvalidation-logloss:0.52938\n",
      "[3]\tvalidation-logloss:0.48671\n",
      "[4]\tvalidation-logloss:0.44986\n",
      "[5]\tvalidation-logloss:0.41620\n",
      "[6]\tvalidation-logloss:0.38902\n",
      "[7]\tvalidation-logloss:0.36171\n",
      "[8]\tvalidation-logloss:0.33682\n",
      "[9]\tvalidation-logloss:0.31432\n"
     ]
    },
    {
     "name": "stderr",
     "output_type": "stream",
     "text": [
      "\u001B[32m[I 2021-09-18 18:21:41,159]\u001B[0m Trial 76 finished with value: 0.972027972027972 and parameters: {'booster': 'gbtree', 'lambda': 0.005181394004074551, 'alpha': 3.612018350325664e-08, 'max_depth': 5, 'eta': 0.0724104684716304, 'gamma': 0.4490476303831702, 'grow_policy': 'depthwise'}. Best is trial 51 with value: 0.9790209790209791.\u001B[0m\n"
     ]
    },
    {
     "name": "stdout",
     "output_type": "stream",
     "text": [
      "[0]\tvalidation-logloss:0.25297\n",
      "[1]\tvalidation-logloss:0.17508\n",
      "[2]\tvalidation-logloss:0.13937\n",
      "[3]\tvalidation-logloss:0.12473\n",
      "[4]\tvalidation-logloss:0.12339\n",
      "[5]\tvalidation-logloss:0.13821\n",
      "[6]\tvalidation-logloss:0.13394\n",
      "[7]\tvalidation-logloss:0.13385\n",
      "[8]\tvalidation-logloss:0.12362\n",
      "[9]\tvalidation-logloss:0.12743\n"
     ]
    },
    {
     "name": "stderr",
     "output_type": "stream",
     "text": [
      "\u001B[32m[I 2021-09-18 18:21:41,199]\u001B[0m Trial 77 finished with value: 0.965034965034965 and parameters: {'booster': 'gbtree', 'lambda': 0.005400815822819949, 'alpha': 2.750965469101578e-07, 'max_depth': 4, 'eta': 0.9045555177769578, 'gamma': 0.2764141338289468, 'grow_policy': 'depthwise'}. Best is trial 51 with value: 0.9790209790209791.\u001B[0m\n"
     ]
    },
    {
     "name": "stdout",
     "output_type": "stream",
     "text": [
      "[0]\tvalidation-logloss:0.66375\n",
      "[1]\tvalidation-logloss:0.63714\n",
      "[2]\tvalidation-logloss:0.61195\n",
      "[3]\tvalidation-logloss:0.58925\n",
      "[4]\tvalidation-logloss:0.56616\n",
      "[5]\tvalidation-logloss:0.54608\n",
      "[6]\tvalidation-logloss:0.52582\n",
      "[7]\tvalidation-logloss:0.50838\n",
      "[8]\tvalidation-logloss:0.49012\n",
      "[9]\tvalidation-logloss:0.47501\n"
     ]
    },
    {
     "name": "stderr",
     "output_type": "stream",
     "text": [
      "\u001B[32m[I 2021-09-18 18:21:41,241]\u001B[0m Trial 78 finished with value: 0.9090909090909091 and parameters: {'booster': 'gbtree', 'lambda': 0.005062880345071283, 'alpha': 6.404394405589798e-08, 'max_depth': 4, 'eta': 0.03777506684822531, 'gamma': 0.30025626779933107, 'grow_policy': 'depthwise'}. Best is trial 51 with value: 0.9790209790209791.\u001B[0m\n"
     ]
    },
    {
     "name": "stdout",
     "output_type": "stream",
     "text": [
      "[0]\tvalidation-logloss:0.67546\n",
      "[1]\tvalidation-logloss:0.65831\n",
      "[2]\tvalidation-logloss:0.64192\n",
      "[3]\tvalidation-logloss:0.62475\n",
      "[4]\tvalidation-logloss:0.60830\n",
      "[5]\tvalidation-logloss:0.59252\n",
      "[6]\tvalidation-logloss:0.57738\n",
      "[7]\tvalidation-logloss:0.56284\n",
      "[8]\tvalidation-logloss:0.54896\n",
      "[9]\tvalidation-logloss:0.53553\n"
     ]
    },
    {
     "name": "stderr",
     "output_type": "stream",
     "text": [
      "\u001B[32m[I 2021-09-18 18:21:41,279]\u001B[0m Trial 79 finished with value: 0.958041958041958 and parameters: {'booster': 'gbtree', 'lambda': 0.017057817715497112, 'alpha': 3.1545039889391687e-08, 'max_depth': 4, 'eta': 0.021612677337303553, 'gamma': 0.8432175562322378, 'grow_policy': 'depthwise'}. Best is trial 51 with value: 0.9790209790209791.\u001B[0m\n"
     ]
    },
    {
     "name": "stdout",
     "output_type": "stream",
     "text": [
      "[0]\tvalidation-logloss:0.30075\n",
      "[1]\tvalidation-logloss:0.20002\n",
      "[2]\tvalidation-logloss:0.15082\n",
      "[3]\tvalidation-logloss:0.12574\n",
      "[4]\tvalidation-logloss:0.12222\n",
      "[5]\tvalidation-logloss:0.10132\n",
      "[6]\tvalidation-logloss:0.08668\n",
      "[7]\tvalidation-logloss:0.08303\n",
      "[8]\tvalidation-logloss:0.08296\n",
      "[9]\tvalidation-logloss:0.07749\n"
     ]
    },
    {
     "name": "stderr",
     "output_type": "stream",
     "text": [
      "\u001B[32m[I 2021-09-18 18:21:41,317]\u001B[0m Trial 80 finished with value: 0.972027972027972 and parameters: {'booster': 'gbtree', 'lambda': 0.05460548562578114, 'alpha': 3.3054404105256066e-07, 'max_depth': 5, 'eta': 0.6347245818594793, 'gamma': 0.1067626073681101, 'grow_policy': 'depthwise'}. Best is trial 51 with value: 0.9790209790209791.\u001B[0m\n"
     ]
    },
    {
     "name": "stdout",
     "output_type": "stream",
     "text": [
      "[0]\tvalidation-logloss:0.57335\n",
      "[1]\tvalidation-logloss:0.48675\n",
      "[2]\tvalidation-logloss:0.42486\n",
      "[3]\tvalidation-logloss:0.37221\n",
      "[4]\tvalidation-logloss:0.33169\n",
      "[5]\tvalidation-logloss:0.29468\n",
      "[6]\tvalidation-logloss:0.26564\n",
      "[7]\tvalidation-logloss:0.24389\n",
      "[8]\tvalidation-logloss:0.22535\n",
      "[9]\tvalidation-logloss:0.20783\n"
     ]
    },
    {
     "name": "stderr",
     "output_type": "stream",
     "text": [
      "\u001B[32m[I 2021-09-18 18:21:41,356]\u001B[0m Trial 81 finished with value: 0.9370629370629371 and parameters: {'booster': 'gbtree', 'lambda': 0.7968817009500263, 'alpha': 1.1666487709367149e-07, 'max_depth': 5, 'eta': 0.15464607220770005, 'gamma': 0.12527336615345047, 'grow_policy': 'depthwise'}. Best is trial 51 with value: 0.9790209790209791.\u001B[0m\n"
     ]
    },
    {
     "name": "stdout",
     "output_type": "stream",
     "text": [
      "[0]\tvalidation-logloss:0.33882\n",
      "[1]\tvalidation-logloss:0.24986\n",
      "[2]\tvalidation-logloss:0.21390\n",
      "[3]\tvalidation-logloss:0.19509\n",
      "[4]\tvalidation-logloss:0.18928\n",
      "[5]\tvalidation-logloss:0.18495\n",
      "[6]\tvalidation-logloss:0.17566\n",
      "[7]\tvalidation-logloss:0.15515\n",
      "[8]\tvalidation-logloss:0.14219\n",
      "[9]\tvalidation-logloss:0.13223\n"
     ]
    },
    {
     "name": "stderr",
     "output_type": "stream",
     "text": [
      "\u001B[32m[I 2021-09-18 18:21:41,401]\u001B[0m Trial 82 finished with value: 0.9230769230769231 and parameters: {'booster': 'gbtree', 'lambda': 0.1281388188906822, 'alpha': 2.1917245675449818e-07, 'max_depth': 5, 'eta': 0.6229442590061957, 'gamma': 0.3376459631370321, 'grow_policy': 'depthwise'}. Best is trial 51 with value: 0.9790209790209791.\u001B[0m\n"
     ]
    },
    {
     "name": "stdout",
     "output_type": "stream",
     "text": [
      "[0]\tvalidation-logloss:0.61461\n",
      "[1]\tvalidation-logloss:0.55051\n",
      "[2]\tvalidation-logloss:0.49419\n",
      "[3]\tvalidation-logloss:0.45180\n",
      "[4]\tvalidation-logloss:0.41445\n",
      "[5]\tvalidation-logloss:0.37943\n",
      "[6]\tvalidation-logloss:0.34813\n",
      "[7]\tvalidation-logloss:0.32037\n",
      "[8]\tvalidation-logloss:0.29733\n",
      "[9]\tvalidation-logloss:0.27663\n"
     ]
    },
    {
     "name": "stderr",
     "output_type": "stream",
     "text": [
      "\u001B[32m[I 2021-09-18 18:21:41,446]\u001B[0m Trial 83 finished with value: 0.958041958041958 and parameters: {'booster': 'gbtree', 'lambda': 0.06113814913441351, 'alpha': 2.6244511822442476e-08, 'max_depth': 3, 'eta': 0.10037693471554746, 'gamma': 0.02983035977692891, 'grow_policy': 'depthwise'}. Best is trial 51 with value: 0.9790209790209791.\u001B[0m\n"
     ]
    },
    {
     "name": "stdout",
     "output_type": "stream",
     "text": [
      "[0]\tvalidation-logloss:0.34777\n",
      "[1]\tvalidation-logloss:0.22691\n",
      "[2]\tvalidation-logloss:0.15986\n",
      "[3]\tvalidation-logloss:0.13006\n",
      "[4]\tvalidation-logloss:0.10530\n",
      "[5]\tvalidation-logloss:0.08779\n",
      "[6]\tvalidation-logloss:0.07583\n",
      "[7]\tvalidation-logloss:0.06816\n",
      "[8]\tvalidation-logloss:0.06200\n",
      "[9]\tvalidation-logloss:0.05622\n"
     ]
    },
    {
     "name": "stderr",
     "output_type": "stream",
     "text": [
      "\u001B[32m[I 2021-09-18 18:21:41,484]\u001B[0m Trial 84 finished with value: 0.986013986013986 and parameters: {'booster': 'gbtree', 'lambda': 0.30156068666026076, 'alpha': 0.0012420140902708475, 'max_depth': 5, 'eta': 0.5669195983130255, 'gamma': 0.08197222350324723, 'grow_policy': 'depthwise'}. Best is trial 84 with value: 0.986013986013986.\u001B[0m\n"
     ]
    },
    {
     "name": "stdout",
     "output_type": "stream",
     "text": [
      "[0]\tvalidation-logloss:0.29202\n",
      "[1]\tvalidation-logloss:0.23905\n",
      "[2]\tvalidation-logloss:0.21993\n",
      "[3]\tvalidation-logloss:0.19163\n",
      "[4]\tvalidation-logloss:0.17947\n",
      "[5]\tvalidation-logloss:0.17184\n",
      "[6]\tvalidation-logloss:0.17248\n",
      "[7]\tvalidation-logloss:0.16645\n",
      "[8]\tvalidation-logloss:0.17468\n",
      "[9]\tvalidation-logloss:0.17376\n"
     ]
    },
    {
     "name": "stderr",
     "output_type": "stream",
     "text": [
      "\u001B[32m[I 2021-09-18 18:21:41,523]\u001B[0m Trial 85 finished with value: 0.951048951048951 and parameters: {'booster': 'gbtree', 'lambda': 0.2944463029598868, 'alpha': 0.0025455999004202062, 'max_depth': 5, 'eta': 0.9672731373312812, 'gamma': 0.07685787290118251, 'grow_policy': 'depthwise'}. Best is trial 84 with value: 0.986013986013986.\u001B[0m\n"
     ]
    },
    {
     "name": "stdout",
     "output_type": "stream",
     "text": [
      "[0]\tvalidation-logloss:0.34724\n",
      "[1]\tvalidation-logloss:0.24150\n",
      "[2]\tvalidation-logloss:0.15879\n",
      "[3]\tvalidation-logloss:0.11887\n",
      "[4]\tvalidation-logloss:0.08948\n",
      "[5]\tvalidation-logloss:0.06767\n",
      "[6]\tvalidation-logloss:0.05604\n",
      "[7]\tvalidation-logloss:0.05253\n",
      "[8]\tvalidation-logloss:0.05040\n",
      "[9]\tvalidation-logloss:0.04957\n"
     ]
    },
    {
     "name": "stderr",
     "output_type": "stream",
     "text": [
      "\u001B[32m[I 2021-09-18 18:21:41,560]\u001B[0m Trial 86 finished with value: 0.986013986013986 and parameters: {'booster': 'gbtree', 'lambda': 0.283711341667608, 'alpha': 0.0018930665853445388, 'max_depth': 4, 'eta': 0.5320796522482586, 'gamma': 0.1350972745124864, 'grow_policy': 'depthwise'}. Best is trial 84 with value: 0.986013986013986.\u001B[0m\n"
     ]
    },
    {
     "name": "stdout",
     "output_type": "stream",
     "text": [
      "[0]\tvalidation-logloss:0.52062\n",
      "[1]\tvalidation-logloss:0.42066\n",
      "[2]\tvalidation-logloss:0.34851\n",
      "[3]\tvalidation-logloss:0.29325\n",
      "[4]\tvalidation-logloss:0.25613\n",
      "[5]\tvalidation-logloss:0.22830\n",
      "[6]\tvalidation-logloss:0.21108\n",
      "[7]\tvalidation-logloss:0.19529\n",
      "[8]\tvalidation-logloss:0.17849\n",
      "[9]\tvalidation-logloss:0.16947\n"
     ]
    },
    {
     "name": "stderr",
     "output_type": "stream",
     "text": [
      "\u001B[32m[I 2021-09-18 18:21:41,602]\u001B[0m Trial 87 finished with value: 0.9300699300699301 and parameters: {'booster': 'gbtree', 'lambda': 0.30494146159643204, 'alpha': 0.009404381502018158, 'max_depth': 5, 'eta': 0.231871152150216, 'gamma': 0.1144848910802493, 'grow_policy': 'depthwise'}. Best is trial 84 with value: 0.986013986013986.\u001B[0m\n"
     ]
    },
    {
     "name": "stdout",
     "output_type": "stream",
     "text": [
      "[0]\tvalidation-logloss:0.59667\n",
      "[1]\tvalidation-logloss:0.55296\n",
      "[2]\tvalidation-logloss:0.52033\n",
      "[3]\tvalidation-logloss:0.48467\n",
      "[4]\tvalidation-logloss:0.45637\n",
      "[5]\tvalidation-logloss:0.43834\n",
      "[6]\tvalidation-logloss:0.42344\n",
      "[7]\tvalidation-logloss:0.39953\n",
      "[8]\tvalidation-logloss:0.38672\n",
      "[9]\tvalidation-logloss:0.37577\n"
     ]
    },
    {
     "name": "stderr",
     "output_type": "stream",
     "text": [
      "\u001B[32m[I 2021-09-18 18:21:41,624]\u001B[0m Trial 88 finished with value: 0.8601398601398601 and parameters: {'booster': 'gblinear', 'lambda': 0.4119173518654412, 'alpha': 0.007717031554093351}. Best is trial 84 with value: 0.986013986013986.\u001B[0m\n"
     ]
    },
    {
     "name": "stdout",
     "output_type": "stream",
     "text": [
      "[0]\tvalidation-logloss:0.35709\n",
      "[1]\tvalidation-logloss:0.23077\n",
      "[2]\tvalidation-logloss:0.17018\n",
      "[3]\tvalidation-logloss:0.13060\n",
      "[4]\tvalidation-logloss:0.11622\n",
      "[5]\tvalidation-logloss:0.10974\n",
      "[6]\tvalidation-logloss:0.09824\n",
      "[7]\tvalidation-logloss:0.09676\n",
      "[8]\tvalidation-logloss:0.09282\n",
      "[9]\tvalidation-logloss:0.09528\n"
     ]
    },
    {
     "name": "stderr",
     "output_type": "stream",
     "text": [
      "\u001B[32m[I 2021-09-18 18:21:41,664]\u001B[0m Trial 89 finished with value: 0.972027972027972 and parameters: {'booster': 'gbtree', 'lambda': 0.0701630899090911, 'alpha': 0.0015425741116397089, 'max_depth': 4, 'eta': 0.4998167911347316, 'gamma': 0.1670603655805835, 'grow_policy': 'depthwise'}. Best is trial 84 with value: 0.986013986013986.\u001B[0m\n"
     ]
    },
    {
     "name": "stdout",
     "output_type": "stream",
     "text": [
      "[0]\tvalidation-logloss:0.39697\n",
      "[1]\tvalidation-logloss:0.28156\n",
      "[2]\tvalidation-logloss:0.22778\n",
      "[3]\tvalidation-logloss:0.20105\n",
      "[4]\tvalidation-logloss:0.18741\n",
      "[5]\tvalidation-logloss:0.17817\n",
      "[6]\tvalidation-logloss:0.16517\n",
      "[7]\tvalidation-logloss:0.16420\n",
      "[8]\tvalidation-logloss:0.15976\n",
      "[9]\tvalidation-logloss:0.16040\n"
     ]
    },
    {
     "name": "stderr",
     "output_type": "stream",
     "text": [
      "\u001B[32m[I 2021-09-18 18:21:41,701]\u001B[0m Trial 90 finished with value: 0.951048951048951 and parameters: {'booster': 'gbtree', 'lambda': 0.06386415403772175, 'alpha': 0.00072987441758552, 'max_depth': 3, 'eta': 0.4922107969586456, 'gamma': 0.5283511765780379, 'grow_policy': 'depthwise'}. Best is trial 84 with value: 0.986013986013986.\u001B[0m\n"
     ]
    },
    {
     "name": "stdout",
     "output_type": "stream",
     "text": [
      "[0]\tvalidation-logloss:0.38260\n",
      "[1]\tvalidation-logloss:0.26023\n",
      "[2]\tvalidation-logloss:0.20549\n",
      "[3]\tvalidation-logloss:0.16068\n",
      "[4]\tvalidation-logloss:0.13971\n",
      "[5]\tvalidation-logloss:0.12720\n",
      "[6]\tvalidation-logloss:0.11866\n",
      "[7]\tvalidation-logloss:0.11645\n",
      "[8]\tvalidation-logloss:0.10517\n",
      "[9]\tvalidation-logloss:0.11189\n"
     ]
    },
    {
     "name": "stderr",
     "output_type": "stream",
     "text": [
      "\u001B[32m[I 2021-09-18 18:21:41,740]\u001B[0m Trial 91 finished with value: 0.958041958041958 and parameters: {'booster': 'gbtree', 'lambda': 0.01711951769932672, 'alpha': 0.0013484122290868732, 'max_depth': 4, 'eta': 0.5537492886112652, 'gamma': 0.18626654372219603, 'grow_policy': 'depthwise'}. Best is trial 84 with value: 0.986013986013986.\u001B[0m\n"
     ]
    },
    {
     "name": "stdout",
     "output_type": "stream",
     "text": [
      "[0]\tvalidation-logloss:0.50765\n",
      "[1]\tvalidation-logloss:0.39808\n",
      "[2]\tvalidation-logloss:0.31726\n",
      "[3]\tvalidation-logloss:0.27201\n",
      "[4]\tvalidation-logloss:0.22881\n",
      "[5]\tvalidation-logloss:0.19554\n",
      "[6]\tvalidation-logloss:0.16998\n",
      "[7]\tvalidation-logloss:0.15233\n",
      "[8]\tvalidation-logloss:0.14078\n",
      "[9]\tvalidation-logloss:0.12748\n"
     ]
    },
    {
     "name": "stderr",
     "output_type": "stream",
     "text": [
      "\u001B[32m[I 2021-09-18 18:21:41,781]\u001B[0m Trial 92 finished with value: 0.965034965034965 and parameters: {'booster': 'gbtree', 'lambda': 0.03253277064082757, 'alpha': 0.0025486259463129443, 'max_depth': 5, 'eta': 0.2641947083276864, 'gamma': 0.06136542734731926, 'grow_policy': 'depthwise'}. Best is trial 84 with value: 0.986013986013986.\u001B[0m\n"
     ]
    },
    {
     "name": "stdout",
     "output_type": "stream",
     "text": [
      "[0]\tvalidation-logloss:0.49052\n",
      "[1]\tvalidation-logloss:0.37641\n",
      "[2]\tvalidation-logloss:0.30822\n",
      "[3]\tvalidation-logloss:0.25340\n",
      "[4]\tvalidation-logloss:0.21849\n",
      "[5]\tvalidation-logloss:0.19744\n",
      "[6]\tvalidation-logloss:0.17233\n",
      "[7]\tvalidation-logloss:0.15810\n",
      "[8]\tvalidation-logloss:0.14701\n",
      "[9]\tvalidation-logloss:0.14242\n"
     ]
    },
    {
     "name": "stderr",
     "output_type": "stream",
     "text": [
      "\u001B[32m[I 2021-09-18 18:21:41,824]\u001B[0m Trial 93 finished with value: 0.951048951048951 and parameters: {'booster': 'gbtree', 'lambda': 0.03521639643921024, 'alpha': 0.003173490701688206, 'max_depth': 5, 'eta': 0.2728852729440123, 'gamma': 0.056803161354754335, 'grow_policy': 'depthwise'}. Best is trial 84 with value: 0.986013986013986.\u001B[0m\n"
     ]
    },
    {
     "name": "stdout",
     "output_type": "stream",
     "text": [
      "[0]\tvalidation-logloss:0.57271\n",
      "[1]\tvalidation-logloss:0.48825\n",
      "[2]\tvalidation-logloss:0.42621\n",
      "[3]\tvalidation-logloss:0.36875\n",
      "[4]\tvalidation-logloss:0.32292\n",
      "[5]\tvalidation-logloss:0.28978\n",
      "[6]\tvalidation-logloss:0.26094\n",
      "[7]\tvalidation-logloss:0.23867\n",
      "[8]\tvalidation-logloss:0.21835\n",
      "[9]\tvalidation-logloss:0.20417\n"
     ]
    },
    {
     "name": "stderr",
     "output_type": "stream",
     "text": [
      "\u001B[32m[I 2021-09-18 18:21:41,866]\u001B[0m Trial 94 finished with value: 0.9370629370629371 and parameters: {'booster': 'gbtree', 'lambda': 0.08839992634277916, 'alpha': 0.0015277869073583952, 'max_depth': 5, 'eta': 0.15703343056916713, 'gamma': 0.18174885894068235, 'grow_policy': 'depthwise'}. Best is trial 84 with value: 0.986013986013986.\u001B[0m\n"
     ]
    },
    {
     "name": "stdout",
     "output_type": "stream",
     "text": [
      "[0]\tvalidation-logloss:0.35418\n",
      "[1]\tvalidation-logloss:0.23280\n",
      "[2]\tvalidation-logloss:0.17024\n",
      "[3]\tvalidation-logloss:0.13924\n",
      "[4]\tvalidation-logloss:0.11421\n",
      "[5]\tvalidation-logloss:0.10494\n",
      "[6]\tvalidation-logloss:0.09869\n",
      "[7]\tvalidation-logloss:0.08886\n",
      "[8]\tvalidation-logloss:0.09563\n",
      "[9]\tvalidation-logloss:0.08977\n"
     ]
    },
    {
     "name": "stderr",
     "output_type": "stream",
     "text": [
      "\u001B[32m[I 2021-09-18 18:21:41,905]\u001B[0m Trial 95 finished with value: 0.958041958041958 and parameters: {'booster': 'gbtree', 'lambda': 0.23453276551080965, 'alpha': 0.01793039944718577, 'max_depth': 4, 'eta': 0.5641575268538853, 'gamma': 0.4667176978531181, 'grow_policy': 'depthwise'}. Best is trial 84 with value: 0.986013986013986.\u001B[0m\n"
     ]
    },
    {
     "name": "stdout",
     "output_type": "stream",
     "text": [
      "[0]\tvalidation-logloss:0.64443\n",
      "[1]\tvalidation-logloss:0.60285\n",
      "[2]\tvalidation-logloss:0.56632\n",
      "[3]\tvalidation-logloss:0.53407\n",
      "[4]\tvalidation-logloss:0.50649\n",
      "[5]\tvalidation-logloss:0.48103\n",
      "[6]\tvalidation-logloss:0.45829\n",
      "[7]\tvalidation-logloss:0.43892\n",
      "[8]\tvalidation-logloss:0.41707\n",
      "[9]\tvalidation-logloss:0.39994\n"
     ]
    },
    {
     "name": "stderr",
     "output_type": "stream",
     "text": [
      "\u001B[32m[I 2021-09-18 18:21:41,945]\u001B[0m Trial 96 finished with value: 0.8951048951048951 and parameters: {'booster': 'gbtree', 'lambda': 0.03303838957129656, 'alpha': 0.0033594377645967607, 'max_depth': 4, 'eta': 0.062240461455800915, 'gamma': 0.9614332014978495, 'grow_policy': 'depthwise'}. Best is trial 84 with value: 0.986013986013986.\u001B[0m\n"
     ]
    },
    {
     "name": "stdout",
     "output_type": "stream",
     "text": [
      "[0]\tvalidation-logloss:0.43219\n",
      "[1]\tvalidation-logloss:0.31451\n",
      "[2]\tvalidation-logloss:0.23171\n",
      "[3]\tvalidation-logloss:0.19613\n",
      "[4]\tvalidation-logloss:0.16799\n",
      "[5]\tvalidation-logloss:0.14365\n",
      "[6]\tvalidation-logloss:0.13197\n",
      "[7]\tvalidation-logloss:0.11604\n",
      "[8]\tvalidation-logloss:0.11948\n",
      "[9]\tvalidation-logloss:0.11521\n"
     ]
    },
    {
     "name": "stderr",
     "output_type": "stream",
     "text": [
      "\u001B[32m[I 2021-09-18 18:21:41,983]\u001B[0m Trial 97 finished with value: 0.965034965034965 and parameters: {'booster': 'gbtree', 'lambda': 0.0026510128601349037, 'alpha': 1.8247856780924252e-08, 'max_depth': 4, 'eta': 0.3733493549875287, 'gamma': 0.21602273942389183, 'grow_policy': 'depthwise'}. Best is trial 84 with value: 0.986013986013986.\u001B[0m\n"
     ]
    },
    {
     "name": "stdout",
     "output_type": "stream",
     "text": [
      "[0]\tvalidation-logloss:0.62397\n",
      "[1]\tvalidation-logloss:0.57022\n",
      "[2]\tvalidation-logloss:0.52441\n",
      "[3]\tvalidation-logloss:0.48758\n",
      "[4]\tvalidation-logloss:0.45455\n",
      "[5]\tvalidation-logloss:0.42722\n",
      "[6]\tvalidation-logloss:0.40397\n",
      "[7]\tvalidation-logloss:0.37949\n",
      "[8]\tvalidation-logloss:0.35975\n",
      "[9]\tvalidation-logloss:0.34019\n"
     ]
    },
    {
     "name": "stderr",
     "output_type": "stream",
     "text": [
      "\u001B[32m[I 2021-09-18 18:21:42,022]\u001B[0m Trial 98 finished with value: 0.9020979020979021 and parameters: {'booster': 'gbtree', 'lambda': 0.005451595609699619, 'alpha': 3.0209913684559164e-07, 'max_depth': 3, 'eta': 0.09208796940830002, 'gamma': 0.11909984071344731, 'grow_policy': 'depthwise'}. Best is trial 84 with value: 0.986013986013986.\u001B[0m\n"
     ]
    },
    {
     "name": "stdout",
     "output_type": "stream",
     "text": [
      "[0]\tvalidation-logloss:0.43411\n",
      "[1]\tvalidation-logloss:0.30072\n",
      "[2]\tvalidation-logloss:0.22817\n",
      "[3]\tvalidation-logloss:0.18011\n",
      "[4]\tvalidation-logloss:0.15090\n",
      "[5]\tvalidation-logloss:0.13846\n",
      "[6]\tvalidation-logloss:0.12341\n",
      "[7]\tvalidation-logloss:0.11885\n",
      "[8]\tvalidation-logloss:0.10647\n",
      "[9]\tvalidation-logloss:0.10140\n"
     ]
    },
    {
     "name": "stderr",
     "output_type": "stream",
     "text": [
      "\u001B[32m[I 2021-09-18 18:21:42,065]\u001B[0m Trial 99 finished with value: 0.972027972027972 and parameters: {'booster': 'gbtree', 'lambda': 0.9894992824882964, 'alpha': 1.9023450176696273e-08, 'max_depth': 4, 'eta': 0.39455152368203, 'gamma': 0.027002706941291962, 'grow_policy': 'depthwise'}. Best is trial 84 with value: 0.986013986013986.\u001B[0m\n"
     ]
    }
   ],
   "source": [
    "\n",
    "study = optuna.create_study(pruner=optuna.pruners.MedianPruner(n_warmup_steps=15), direction=\"maximize\")\n",
    "func = lambda trial: objective(trial, data, target)\n",
    "study.optimize(func, n_trials=100)"
   ],
   "metadata": {
    "collapsed": false,
    "pycharm": {
     "name": "#%%\n"
    }
   }
  },
  {
   "cell_type": "code",
   "execution_count": 88,
   "outputs": [
    {
     "name": "stdout",
     "output_type": "stream",
     "text": [
      "0.986013986013986\n",
      "{'booster': 'gbtree', 'lambda': 0.30156068666026076, 'alpha': 0.0012420140902708475, 'max_depth': 5, 'eta': 0.5669195983130255, 'gamma': 0.08197222350324723, 'grow_policy': 'depthwise'}\n"
     ]
    }
   ],
   "source": [
    "# 最优结果\n",
    "print(study.best_value)\n",
    "\n",
    "# 最优参数\n",
    "print(study.best_params)"
   ],
   "metadata": {
    "collapsed": false,
    "pycharm": {
     "name": "#%%\n"
    }
   }
  },
  {
   "cell_type": "code",
   "execution_count": 88,
   "outputs": [],
   "source": [],
   "metadata": {
    "collapsed": false,
    "pycharm": {
     "name": "#%%\n"
    }
   }
  }
 ],
 "metadata": {
  "kernelspec": {
   "display_name": "Python 3",
   "language": "python",
   "name": "python3"
  },
  "language_info": {
   "codemirror_mode": {
    "name": "ipython",
    "version": 2
   },
   "file_extension": ".py",
   "mimetype": "text/x-python",
   "name": "python",
   "nbconvert_exporter": "python",
   "pygments_lexer": "ipython2",
   "version": "2.7.6"
  }
 },
 "nbformat": 4,
 "nbformat_minor": 0
}