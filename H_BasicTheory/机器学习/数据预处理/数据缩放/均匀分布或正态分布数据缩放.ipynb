{
 "cells": [
  {
   "cell_type": "code",
   "execution_count": 58,
   "metadata": {
    "pycharm": {
     "name": "#%%\n"
    }
   },
   "outputs": [],
   "source": [
    "import numpy as np\n",
    "from sklearn.preprocessing import QuantileTransformer\n",
    "from sklearn.datasets import load_iris\n",
    "from sklearn.model_selection import train_test_split"
   ]
  },
  {
   "cell_type": "code",
   "execution_count": 59,
   "metadata": {
    "pycharm": {
     "name": "#%%\n"
    }
   },
   "outputs": [],
   "source": [
    "X, y = load_iris(return_X_y=True)\n",
    "X_train, X_test, y_train, y_test = train_test_split(X, y, random_state=0)"
   ]
  },
  {
   "cell_type": "code",
   "execution_count": 60,
   "metadata": {
    "pycharm": {
     "name": "#%%\n"
    }
   },
   "outputs": [
    {
     "name": "stderr",
     "output_type": "stream",
     "text": [
      "C:\\Users\\duanm\\anaconda3\\lib\\site-packages\\sklearn\\preprocessing\\_data.py:2612: UserWarning: n_quantiles (150) is greater than the total number of samples (112). n_quantiles is set to n_samples.\n",
      "  warnings.warn(\"n_quantiles (%s) is greater than the total number \"\n"
     ]
    }
   ],
   "source": [
    "'''\n",
    "n_quantilesint, default=1000 or n_samples\n",
    "    Number of quantiles to be computed.\n",
    "    It corresponds to the number of landmarks used to discretize the cumulative distribution function.\n",
    "    If n_quantiles is larger than the number of samples, n_quantiles is set to the number of samples as a larger number of quantiles does not give a better approximation of the cumulative distribution function estimator.\n",
    "\n",
    "output_distribution{‘uniform’, ‘normal’}, default=’uniform’\n",
    "    Marginal distribution for the transformed data.\n",
    "    The choices are ‘uniform’ (default) or ‘normal’.\n",
    "'''\n",
    "# 对每列数据进行均匀分布或正态分布数据缩放\n",
    "quantile_transformer = QuantileTransformer(n_quantiles=150,\n",
    "                                           output_distribution='normal',  # 正态分布\n",
    "                                           random_state=0)\n",
    "X_train_trans = quantile_transformer.fit_transform(X_train)\n",
    "X_test_trans = quantile_transformer.transform(X_test)"
   ]
  },
  {
   "cell_type": "code",
   "execution_count": 67,
   "metadata": {
    "pycharm": {
     "name": "#%%\n"
    }
   },
   "outputs": [
    {
     "name": "stdout",
     "output_type": "stream",
     "text": [
      "[4.3   4.6   4.81  4.965 5.02  5.1   5.33  5.5   5.6   5.7   5.8   5.9\n",
      " 6.16  6.3   6.4   6.5   6.7   6.8   6.99  7.49 ]\n",
      "[-5.19933758 -1.69492268 -1.32067002 -1.00649494 -0.88765016 -0.71036555\n",
      " -0.51299362 -0.35749573 -0.25101592 -0.13591068  0.02258416  0.12452337\n",
      "  0.26038696  0.39384742  0.53218973  0.65337661  0.86436505  1.04224674\n",
      "  1.2747236   1.64643049]\n",
      "****************************************************************************************************\n",
      "[2.    2.355 2.5   2.565 2.7   2.8   2.9   3.    3.    3.    3.    3.1\n",
      " 3.1   3.2   3.2   3.3   3.4   3.435 3.6   3.8  ]\n",
      "[-5.19933758 -1.65065516 -1.2127505  -1.06510945 -0.81614989 -0.62566982\n",
      " -0.48083942 -0.15873981 -0.15873981 -0.15873981 -0.15873981  0.19314317\n",
      "  0.19314317  0.4307273   0.4307273   0.66741904  0.88088812  0.96577254\n",
      "  1.26128216  1.64923696]\n",
      "****************************************************************************************************\n",
      "[1.1   1.3   1.4   1.465 1.5   1.575 1.63  3.47  3.9   4.1   4.25  4.5\n",
      " 4.7   4.915 5.1   5.2   5.48  5.635 5.8   6.1  ]\n",
      "[-5.19933758 -1.69492268 -1.23665224 -0.98407681 -0.84807465 -0.65075657\n",
      " -0.55374054 -0.38533528 -0.25101592 -0.12452337 -0.01694424  0.13591068\n",
      "  0.25101592  0.37034379  0.57163753  0.68159434  0.85159126  1.01467815\n",
      "  1.23665224  1.56698962]\n",
      "****************************************************************************************************\n",
      "[0.1  0.2  0.2  0.2  0.2  0.3  0.4  1.   1.14 1.3  1.3  1.4  1.5  1.7\n",
      " 1.8  1.9  2.   2.1  2.29 2.3 ]\n",
      "[-5.19933758 -1.10244037 -1.10244037 -1.10244037 -1.10244037 -0.65337661\n",
      " -0.53218973 -0.36955819 -0.25816251 -0.05648561 -0.05648561  0.11315218\n",
      "  0.22777673  0.39384742  0.53218973  0.69590794  0.84807465  1.04224674\n",
      "  1.46601447  1.49415491]\n",
      "****************************************************************************************************\n"
     ]
    }
   ],
   "source": [
    "for i in range(4):\n",
    "    print(np.percentile(X_train[:, i], range(0, 100, 5)))\n",
    "    print(np.percentile(X_train_trans[:, i], range(0, 100, 5)))\n",
    "    print(\"*\" * 100)"
   ]
  }
 ],
 "metadata": {
  "kernelspec": {
   "display_name": "Python 3 (ipykernel)",
   "language": "python",
   "name": "python3"
  },
  "language_info": {
   "codemirror_mode": {
    "name": "ipython",
    "version": 3
   },
   "file_extension": ".py",
   "mimetype": "text/x-python",
   "name": "python",
   "nbconvert_exporter": "python",
   "pygments_lexer": "ipython3",
   "version": "3.8.11"
  }
 },
 "nbformat": 4,
 "nbformat_minor": 1
}