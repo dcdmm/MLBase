{
 "cells": [
  {
   "cell_type": "code",
   "execution_count": 54,
   "metadata": {
    "collapsed": true,
    "pycharm": {
     "name": "#%%\n"
    }
   },
   "outputs": [
    {
     "data": {
      "text/plain": "tensor([[ 1.0455,  2.0583,  3.3483,  ...,  1.4498,  1.7724,  1.7207],\n        [ 1.2306,  1.2361,  3.3797,  ...,  1.9038,  1.6699, -2.3289],\n        [-1.5460,  2.7175,  0.4225,  ...,  1.6835,  4.0769,  2.2565],\n        ...,\n        [ 0.9682,  2.6174, -0.6982,  ...,  2.5137, -0.2311,  1.8288],\n        [ 1.6780,  1.0969, -2.1078,  ...,  3.5830,  1.2212,  2.4127],\n        [-3.4989, -0.9325,  2.4803,  ...,  3.2370,  0.7233, -1.7372]])"
     },
     "execution_count": 54,
     "metadata": {},
     "output_type": "execute_result"
    }
   ],
   "source": [
    "import torch\n",
    "import torch.nn as nn\n",
    "\n",
    "\n",
    "w = torch.empty(11000, 40)\n",
    "'''\n",
    "mean – the mean of the normal distribution\n",
    "std – the standard deviation of the normal distribution\n",
    "'''\n",
    "# Fills the input Tensor with values drawn from the normal N(mean, std^2)\n",
    "nn.init.normal_(w, mean=1, std=2) # 默认mean=0.0, std=1.0"
   ]
  }
 ],
 "metadata": {
  "kernelspec": {
   "display_name": "Python 3",
   "language": "python",
   "name": "python3"
  },
  "language_info": {
   "codemirror_mode": {
    "name": "ipython",
    "version": 2
   },
   "file_extension": ".py",
   "mimetype": "text/x-python",
   "name": "python",
   "nbconvert_exporter": "python",
   "pygments_lexer": "ipython2",
   "version": "2.7.6"
  }
 },
 "nbformat": 4,
 "nbformat_minor": 0
}