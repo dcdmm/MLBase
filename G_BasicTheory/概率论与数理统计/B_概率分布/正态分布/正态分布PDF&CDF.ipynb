{
 "cells": [
  {
   "cell_type": "markdown",
   "source": [
    "## 概率密度函数（Probability Density Function）"
   ],
   "metadata": {
    "pycharm": {
     "metadata": false
    }
   }
  },
  {
   "cell_type": "code",
   "execution_count": 8,
   "outputs": [
    {
     "name": "stdout",
     "text": [
      "pdf(x) = 0.24197072451914337\npdf(y) = 0.05399096651318806\n"
     ],
     "output_type": "stream"
    },
    {
     "data": {
      "text/plain": "<Figure size 1008x504 with 1 Axes>",
      "image/png": "[encoded data removed]"
     },
     "metadata": {
      "needs_background": "light"
     },
     "output_type": "display_data"
    }
   ],
   "source": [
    "from scipy.stats import norm\n",
    "import numpy as np\n",
    "import matplotlib.pyplot as plt\n",
    "\n",
    "fig = plt.figure(figsize=(14, 7))\n",
    "# relative likelihood of x and y\n",
    "x = -1\n",
    "y = 2\n",
    "print(\"pdf(x) = {}\\npdf(y) = {}\".format(norm.pdf(x), norm.pdf(y)))\n",
    "# pdf(x, loc=0, scale=1)\tProbability density function.\n",
    "\n",
    "# continuous pdf for the plot\n",
    "x_s = np.linspace(-3, 3, 50)\n",
    "y_s = norm.pdf(x_s)\n",
    "plt.scatter(x_s, y_s);\n"
   ],
   "metadata": {
    "pycharm": {
     "metadata": false,
     "name": "#%%\n",
     "is_executing": false
    }
   }
  },
  {
   "cell_type": "markdown",
   "source": [
    "## 累积概率密度函数（Cumulative Probability Density Function）\n"
   ],
   "metadata": {
    "pycharm": {
     "metadata": false
    }
   }
  },
  {
   "cell_type": "code",
   "execution_count": 9,
   "outputs": [
    {
     "name": "stdout",
     "text": [
      "P(X <0.3) = 0.3631693488243809\nP(-0.2 < X < 0.2) = 0.15851941887820603\n"
     ],
     "output_type": "stream"
    }
   ],
   "source": [
    "from scipy.stats import norm\n",
    "\n",
    "# probability of x less or equal 0.3\n",
    "print(\"P(X <0.3) = {}\".format(norm.cdf(0.3, loc=1, scale=2)))\n",
    "#cdf(x, loc=0, scale=1)\tCumulative distribution function.\n",
    "'''\n",
    "loc : array_like, optional\n",
    "    location parameter (default=0)\n",
    "scale : array_like, optional\n",
    "    scale parameter (default=1)\n",
    "\n",
    "'''\n",
    "# probability of x in [-0.2, +0.2]\n",
    "print(\"P(-0.2 < X < 0.2) = {}\".format(norm.cdf(0.2) - norm.cdf(-0.2)))\n",
    "\n",
    "\n"
   ],
   "metadata": {
    "pycharm": {
     "metadata": false,
     "name": "#%%\n",
     "is_executing": false
    }
   }
  }
 ],
 "metadata": {
  "language_info": {
   "codemirror_mode": {
    "name": "ipython",
    "version": 2
   },
   "file_extension": ".py",
   "mimetype": "text/x-python",
   "name": "python",
   "nbconvert_exporter": "python",
   "pygments_lexer": "ipython2",
   "version": "2.7.6"
  },
  "kernelspec": {
   "name": "python3",
   "language": "python",
   "display_name": "Python 3"
  },
  "stem_cell": {
   "cell_type": "raw",
   "source": "",
   "metadata": {
    "pycharm": {
     "metadata": false
    }
   }
  },
  "pycharm": {
   "stem_cell": {
    "cell_type": "raw",
    "source": [],
    "metadata": {
     "collapsed": false
    }
   }
  }
 },
 "nbformat": 4,
 "nbformat_minor": 0
}