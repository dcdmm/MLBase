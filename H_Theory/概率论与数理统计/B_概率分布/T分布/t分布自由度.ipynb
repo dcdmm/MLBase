{
 "cells": [
  {
   "cell_type": "code",
   "execution_count": null,
   "outputs": [],
   "source": [
    "import numpy as np\n",
    "import scipy.stats as stats\n",
    "import matplotlib.pyplot as plt\n",
    "import matplotlib.style as style\n",
    "\n",
    "style.use('classic')\n",
    "fig = plt.figure(figsize=(14, 7), dpi=100)\n",
    "ax  = plt.subplot(111)\n",
    "plt.figure(dpi=100)\n",
    "\n",
    "# PDF n = 1\n",
    "ax.plot(np.linspace(-15, 15, 1000), \n",
    "         stats.t.pdf(np.linspace(-15, 15, 1000), df=1), color='red' , label='n=1')\n",
    "\n",
    "# PDF n = 3\n",
    "ax.plot(np.linspace(-15, 15, 1000), \n",
    "         stats.t.pdf(np.linspace(-15, 15, 1000), df=3), color='green', label='n=3')\n",
    "\n",
    "# PDF n = 6\n",
    "ax.plot(np.linspace(-15, 15, 1000), \n",
    "         stats.t.pdf(np.linspace(-15, 15, 1000), df=6), color='blue', label='n=6')\n",
    "\n",
    "# PDF n = 9\n",
    "ax.plot(np.linspace(-15, 15, 1000), \n",
    "         stats.t.pdf(np.linspace(-15, 15, 1000), df=9), color='black', label='n=9')\n",
    "\n",
    "# PDF n = 20\n",
    "ax.plot(np.linspace(-15, 15, 1000), \n",
    "         stats.t.pdf(np.linspace(-15, 15, 1000), df=20), color='pink', label='n=20')\n",
    "\n",
    "ax.legend()\n",
    "ax.tick_params(axis = 'both', which = 'major', labelsize = 18)\n",
    "ax.axhline(y = 0, color = 'black', linewidth = 1.3, alpha = .7)\n",
    "\n",
    "ax.text(x = -15, y = 0.47, s = \"T Distribution - $ n $\",\n",
    "               fontsize = 26, weight = 'bold', alpha = .75)\n",
    "ax.text(x = -15, y = 0.41, \n",
    "         s = 'Depicted below are five T distributed random variables with varying $ n $. As one can\\nsee the parameter $n$ smoothens the distribution and softens the skewness.',\n",
    "         fontsize = 19, alpha = .85)"
   ],
   "metadata": {
    "collapsed": false,
    "pycharm": {
     "name": "#%%\n"
    }
   }
  },
  {
   "cell_type": "code",
   "execution_count": null,
   "metadata": {
    "pycharm": {
     "metadata": false,
     "name": "#%%\n"
    }
   },
   "outputs": [],
   "source": []
  }
 ],
 "metadata": {
  "kernelspec": {
   "display_name": "Python 3",
   "language": "python",
   "name": "python3"
  },
  "language_info": {
   "codemirror_mode": {
    "name": "ipython",
    "version": 3
   },
   "file_extension": ".py",
   "mimetype": "text/x-python",
   "name": "python",
   "nbconvert_exporter": "python",
   "pygments_lexer": "ipython3",
   "version": "3.7.3"
  },
  "stem_cell": {
   "cell_type": "raw",
   "metadata": {
    "pycharm": {
     "metadata": false
    }
   },
   "source": ""
  },
  "pycharm": {
   "stem_cell": {
    "cell_type": "raw",
    "source": [],
    "metadata": {
     "collapsed": false
    }
   }
  }
 },
 "nbformat": 4,
 "nbformat_minor": 1
}