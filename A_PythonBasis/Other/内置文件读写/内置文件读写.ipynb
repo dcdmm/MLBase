{
 "cells": [
  {
   "cell_type": "markdown",
   "source": [
    "<font color='red' size=5>文件打开模式:</font>\n",
    "\n",
    "| 模式\t | 描述 |\n",
    "| :---: | :---: |\n",
    "| r\t | 以只读方式打开文件。文件的指针将会放在文件的开头。这是默认模式。 |\n",
    "| rb\t | 以二进制格式打开一个文件用于只读。文件指针将会放在文件的开头。这是默认模式。 |\n",
    "| r+ | \t打开一个文件用于读写。文件指针将会放在文件的开头。 |\n",
    "| rb+\t | 以二进制格式打开一个文件用于读写。文件指针将会放在文件的开头。 |\n",
    "| w\t | 打开一个文件只用于写入。如果该文件已存在则将其覆盖。如果该文件不存在，创建新文件。 |\n",
    "| wb\t | 以二进制格式打开一个文件只用于写入。如果该文件已存在则将其覆盖。如果该文件不存在，创建新文件。 |\n",
    "| w+\t | 打开一个文件用于读写。如果该文件已存在则将其覆盖。如果该文件不存在，创建新文件。 |\n",
    "| wb+\t | 以二进制格式打开一个文件用于读写。如果该文件已存在则将其覆盖。如果该文件不存在，创建新文件。 |\n",
    "| a | \t打开一个文件用于追加。如果该文件已存在，文件指针将会放在文件的结尾。也就是说，新的内容将会被写入到已有内容之后。如果该文件不存在，创建新文件进行写入。 |\n",
    "| ab\t | 以二进制格式打开一个文件用于追加。如果该文件已存在，文件指针将会放在文件的结尾。也就是说，新的内容将会被写入到已有内容之后。如果该文件不存在，创建新文件进行写入。 |\n",
    "| a+\t | 打开一个文件用于读写。如果该文件已存在，文件指针将会放在文件的结尾。文件打开时会是追加模式。如果该文件不存在，创建新文件用于读写。 |\n",
    "| ab+ | \t以二进制格式打开一个文件用于追加。如果该文件已存在，文件指针将会放在文件的结尾。如果该文件不存在，创建新文件用于读写。 |\n",
    "\n",
    "\n",
    "\n",
    "</br>\n",
    "</br>\n",
    "<font color='red' size=4>文件打开模式总结:</font>\n",
    "\n",
    "| **模式**   | **r** | **r+** | **w** | **w+** | **a** | **a+** |\n",
    "|------------|-------|--------|-------|--------|-------|--------|\n",
    "| 读         | \\+    | \\+     |   None    | \\+     |   None    | \\+     |\n",
    "| 写         | None  | \\+     | \\+    | \\+     | \\+    | \\+     |\n",
    "| 创建       |   None| None   | \\+    | \\+     | \\+    | \\+     |\n",
    "| 覆盖       | None   | None   | \\+    | \\+     | None |  None  |\n",
    "| 指针在开始 | \\+    | \\+     | \\+    | \\+     | None  | None   |\n",
    "| 指针在结尾 |   None  | None   |  None   | None  | \\+    | \\+     |\n",
    "\n",
    "\n",
    "</br>\n",
    "</br>\n",
    "<font color='red' size=4>File文件方法</font>\n",
    "\n",
    "| 方法 | 描述 |\n",
    "| :---: | :---: |\n",
    "| file.close() | 关闭文件。关闭后文件不能再进行读写操作  |\n",
    "| file.read([size=-1]) | 从文件读取指定的字节数(1个中文字符占2个字节)，如果未给定或为负则读取所有  |\n",
    "| file.readline([size=-1]) | 读取整行，包括 \"\\\\n\" 字符  |\n",
    "| file.readlines([size) | 读取所有行并返回列表  |\n",
    "| file.seek(offset[, whence=0]) | 设置文件当前位置,从whence(0代表文件起始位置，1代表当前位置，2代表文件末尾)偏移offset个字节  |\n",
    "| file.tell() | 返回文件当前位置  |\n",
    "| file.write(str) | 将字符串写入文件，没有返回值  |\n",
    "| file.writelines(sequence) | 文件写入一个序列字符串列表，如果需要换行则要自己加入每行的换行符  |\n"
   ],
   "metadata": {
    "collapsed": false,
    "pycharm": {
     "name": "#%% md\n"
    }
   }
  },
  {
   "cell_type": "code",
   "execution_count": 1,
   "metadata": {
    "collapsed": false,
    "pycharm": {
     "name": "#%%\n"
    }
   },
   "outputs": [
    {
     "name": "stdout",
     "output_type": "stream",
     "text": [
      "当前文件位置 :  78\n",
      "当前文件位置 :  0\n",
      "读取的字符串是 :  b'blog.'\n",
      "当前文件位置 :  5\n"
     ]
    }
   ],
   "source": [
    "with open(\"python内置文件读写0.txt\", \"wb+\") as f:  # 相对路径(..表示当前目录的父目录)\n",
    "    f.write(b\"blog.xiaoxiaoming.xyz!\\nVery good site!\\n\")\n",
    "    seq = [b\"blog.xiaoxiaoming.xyz!\\n\", b\"Very good site!!\"]\n",
    "    f.writelines(seq)\n",
    "    print(\"当前文件位置 : \", f.tell())\n",
    "    f.seek(0, 0)\n",
    "    print(\"当前文件位置 : \", f.tell())\n",
    "    string = f.read(5)  # 自定义文件读取位置\n",
    "    print(\"读取的字符串是 : \", string)\n",
    "    print(\"当前文件位置 : \", f.tell())\n",
    "    "
   ]
  },
  {
   "cell_type": "code",
   "execution_count": 2,
   "outputs": [
    {
     "name": "stdout",
     "output_type": "stream",
     "text": [
      "当前文件位置 :  13\n",
      "当前文件位置 :  8\n"
     ]
    }
   ],
   "source": [
    "with open('python内置文件读写0.txt', 'rb+') as f1:\n",
    "    f1.write(b'duanmengmeng\\n')\n",
    "    print('当前文件位置 : ', f1.tell())\n",
    "    f1.seek(0, 0)\n",
    "    f1.write(b'duanchao')  # 自定义文件写入位置\n",
    "    print('当前文件位置 : ', f1.tell())"
   ],
   "metadata": {
    "collapsed": false,
    "pycharm": {
     "name": "#%%\n"
    }
   }
  },
  {
   "cell_type": "code",
   "execution_count": 15,
   "outputs": [],
   "source": [
    "import json\n",
    "\n",
    "with open('python内置文件读写1.txt', 'w+',\n",
    "          encoding='UTF-8',\n",
    "          # 若遇到无法编码的字符,可以指定errors='ignore'忽略非法字符\n",
    "          errors='ignore') as f2:  # 指定encoding='UTF-8'或'gbk'或'gb18030'(正常读写中文)\n",
    "    information = {'name': '段超',\n",
    "                   'age': '24',\n",
    "                   'sex': '男',\n",
    "                   'like': 'LOL'}\n",
    "    information_json = json.dumps(information, ensure_ascii=False)\n",
    "    f2.writelines(information_json)"
   ],
   "metadata": {
    "collapsed": false,
    "pycharm": {
     "name": "#%%\n"
    }
   }
  },
  {
   "cell_type": "code",
   "execution_count": 3,
   "outputs": [],
   "source": [
    "\n"
   ],
   "metadata": {
    "collapsed": false,
    "pycharm": {
     "name": "#%%\n"
    }
   }
  }
 ],
 "metadata": {
  "kernelspec": {
   "name": "python3",
   "language": "python",
   "display_name": "Python 3"
  },
  "language_info": {
   "codemirror_mode": {
    "name": "ipython",
    "version": 2
   },
   "file_extension": ".py",
   "mimetype": "text/x-python",
   "name": "python",
   "nbconvert_exporter": "python",
   "pygments_lexer": "ipython2",
   "version": "2.7.6"
  },
  "stem_cell": {
   "cell_type": "raw",
   "source": "",
   "metadata": {
    "pycharm": {
     "metadata": false
    }
   }
  }
 },
 "nbformat": 4,
 "nbformat_minor": 0
}