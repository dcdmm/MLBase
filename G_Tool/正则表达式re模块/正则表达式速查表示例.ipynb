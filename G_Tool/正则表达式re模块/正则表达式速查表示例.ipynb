{
 "cells": [
  {
   "cell_type": "code",
   "execution_count": 346,
   "outputs": [],
   "source": [
    "import re"
   ],
   "metadata": {
    "collapsed": false,
    "pycharm": {
     "name": "#%%\n"
    }
   }
  },
  {
   "cell_type": "markdown",
   "source": [
    "### [...]举例"
   ],
   "metadata": {
    "collapsed": false
   }
  },
  {
   "cell_type": "code",
   "execution_count": 347,
   "outputs": [
    {
     "name": "stdout",
     "output_type": "stream",
     "text": [
      "a\n"
     ]
    }
   ],
   "source": [
    "sb_1 = re.match('[aeiou]', 'abc')  # 匹配a 、e 、i 、o 或u任意一个字符\n",
    "print(sb_1.group())"
   ],
   "metadata": {
    "collapsed": false,
    "pycharm": {
     "name": "#%%\n"
    }
   }
  },
  {
   "cell_type": "code",
   "execution_count": 348,
   "outputs": [
    {
     "name": "stdout",
     "output_type": "stream",
     "text": [
      "['b', 'c', '7', '7', '9']\n"
     ]
    }
   ],
   "source": [
    "sb_2 = re.findall(r'[^aeiou]', 'abc779')  # 匹配除a 、e 、i 、o 、u之外的任意字符(以^开头)\n",
    "print(sb_2)"
   ],
   "metadata": {
    "collapsed": false,
    "pycharm": {
     "name": "#%%\n"
    }
   }
  },
  {
   "cell_type": "code",
   "execution_count": 349,
   "outputs": [
    {
     "name": "stdout",
     "output_type": "stream",
     "text": [
      "['1-1314']\n"
     ]
    }
   ],
   "source": [
    "sb_3 = re.findall(r\"1-[1-4]*\", '1-1314+')  # \"-\"表示一组字符范围(若不是用在字符集“[...]”里,仅表示普通字符,即减号)\n",
    "print(sb_3)"
   ],
   "metadata": {
    "collapsed": false,
    "pycharm": {
     "name": "#%%\n"
    }
   }
  },
  {
   "cell_type": "markdown",
   "source": [
    "### *举例"
   ],
   "metadata": {
    "collapsed": false
   }
  },
  {
   "cell_type": "code",
   "execution_count": 350,
   "outputs": [
    {
     "name": "stdout",
     "output_type": "stream",
     "text": [
      "abc\n"
     ]
    }
   ],
   "source": [
    "ak_1 = re.match('[^^]*', 'abc^abc')  # 匹配除字符^外的任何字符\n",
    "print(ak_1.group())"
   ],
   "metadata": {
    "collapsed": false,
    "pycharm": {
     "name": "#%%\n"
    }
   }
  },
  {
   "cell_type": "code",
   "execution_count": 351,
   "outputs": [
    {
     "name": "stdout",
     "output_type": "stream",
     "text": [
      "wowoooow\n"
     ]
    }
   ],
   "source": [
    "ak_2 = re.match('w.*w', 'wowoooow')\n",
    "print(ak_2.group())"
   ],
   "metadata": {
    "collapsed": false,
    "pycharm": {
     "name": "#%%\n"
    }
   }
  },
  {
   "cell_type": "code",
   "execution_count": 352,
   "outputs": [
    {
     "name": "stdout",
     "output_type": "stream",
     "text": [
      "wow\n"
     ]
    }
   ],
   "source": [
    "ak_3 = re.match('w.*?w', 'wowoooow')  # 取消*号贪婪模式\n",
    "print(ak_3.group())"
   ],
   "metadata": {
    "collapsed": false,
    "pycharm": {
     "name": "#%%\n"
    }
   }
  },
  {
   "cell_type": "markdown",
   "source": [
    "### ?举例"
   ],
   "metadata": {
    "collapsed": false
   }
  },
  {
   "cell_type": "code",
   "execution_count": 353,
   "outputs": [
    {
     "name": "stdout",
     "output_type": "stream",
     "text": [
      "goodjob\n"
     ]
    }
   ],
   "source": [
    "qm_1 = re.match('good-?job', 'goodjob')  # 前一个正则(前一个字符)是可选的\n",
    "print(qm_1.group())"
   ],
   "metadata": {
    "collapsed": false,
    "pycharm": {
     "name": "#%%\n"
    }
   }
  },
  {
   "cell_type": "code",
   "execution_count": 354,
   "outputs": [
    {
     "name": "stdout",
     "output_type": "stream",
     "text": [
      "goodjob\n"
     ]
    }
   ],
   "source": [
    "qm_2 = re.match('good-?job', 'goodjob')\n",
    "print(qm_2.group())"
   ],
   "metadata": {
    "collapsed": false,
    "pycharm": {
     "name": "#%%\n"
    }
   }
  },
  {
   "cell_type": "markdown",
   "source": [
    "### |举例"
   ],
   "metadata": {
    "collapsed": false
   }
  },
  {
   "cell_type": "code",
   "execution_count": 355,
   "outputs": [
    {
     "name": "stdout",
     "output_type": "stream",
     "text": [
      "['abcdefga']\n",
      "['32456546545']\n",
      "['adfasf', '32456546545']\n",
      "['2356', 'safdsfa']\n"
     ]
    }
   ],
   "source": [
    "print(re.findall('[a-z]+|[2-9]+', 'abcdefga'))\n",
    "\n",
    "print(re.findall('[a-z]+|[2-9]+', '32456546545'))\n",
    "\n",
    "print(re.findall('[a-z]+|[2-9]+', 'adfasf32456546545'))\n",
    "\n",
    "print(re.findall('[a-z]+|[2-9]+', '2356safdsfa'))"
   ],
   "metadata": {
    "collapsed": false,
    "pycharm": {
     "name": "#%%\n"
    }
   }
  },
  {
   "cell_type": "markdown",
   "source": [
    "### 匹配次数限定符举例"
   ],
   "metadata": {
    "collapsed": false
   }
  },
  {
   "cell_type": "code",
   "execution_count": 356,
   "outputs": [
    {
     "name": "stdout",
     "output_type": "stream",
     "text": [
      "['A', 'AA', 'AA', 'AAA']\n",
      "['A', 'A', 'A', 'A', 'A', 'A', 'A', 'A']\n"
     ]
    }
   ],
   "source": [
    "limit = \"a aAx aAAy bAAz cAAAk\"\n",
    "# {0,1} 等价于?\n",
    "# {0,} 等价于*\n",
    "# {1,} 等价于+\n",
    "print(re.findall(r\"A{1,3}\", limit))\n",
    "print(re.findall(r\"A{1,3}?\", limit))  # 非贪婪模式"
   ],
   "metadata": {
    "collapsed": false,
    "pycharm": {
     "name": "#%%\n"
    }
   }
  },
  {
   "cell_type": "markdown",
   "source": [
    "### 反斜杠(\\\\)举例"
   ],
   "metadata": {
    "collapsed": false
   }
  },
  {
   "cell_type": "code",
   "execution_count": 357,
   "outputs": [
    {
     "data": {
      "text/plain": "'\\\\'"
     },
     "execution_count": 357,
     "metadata": {},
     "output_type": "execute_result"
    }
   ],
   "source": [
    "re.match('\\\\\\\\', '\\\\123').group()  # 匹配反斜杠(使用\\进行转移)"
   ],
   "metadata": {
    "collapsed": false,
    "pycharm": {
     "name": "#%%\n"
    }
   }
  },
  {
   "cell_type": "code",
   "execution_count": 358,
   "outputs": [
    {
     "data": {
      "text/plain": "'\\\\'"
     },
     "execution_count": 358,
     "metadata": {},
     "output_type": "execute_result"
    }
   ],
   "source": [
    "re.match(r'\\\\', '\\\\123').group()  # 匹配反斜杠(使用原始字符串)"
   ],
   "metadata": {
    "collapsed": false,
    "pycharm": {
     "name": "#%%\n"
    }
   }
  },
  {
   "cell_type": "markdown",
   "source": [
    "### 字符边界举例"
   ],
   "metadata": {
    "collapsed": false
   }
  },
  {
   "cell_type": "code",
   "execution_count": 359,
   "outputs": [
    {
     "name": "stdout",
     "output_type": "stream",
     "text": [
      "[]\n"
     ]
    }
   ],
   "source": [
    "by_1 = re.findall(r'^aaa', 'xxx aaa bbb')  # \"aaa\"位于字符串的开头的时候,\"^aaa\"才能匹配\n",
    "print(by_1)"
   ],
   "metadata": {
    "collapsed": false,
    "pycharm": {
     "name": "#%%\n"
    }
   }
  },
  {
   "cell_type": "code",
   "execution_count": 360,
   "outputs": [
    {
     "name": "stdout",
     "output_type": "stream",
     "text": [
      "[]\n"
     ]
    }
   ],
   "source": [
    "by_2 = re.findall(r'aaa$', 'xxx aaa bbb')  # \"aaa\" 位于字符串的结尾的时候,\"aaa$\"才能匹配\n",
    "print(by_2)"
   ],
   "metadata": {
    "collapsed": false,
    "pycharm": {
     "name": "#%%\n"
    }
   }
  },
  {
   "cell_type": "code",
   "execution_count": 361,
   "outputs": [
    {
     "name": "stdout",
     "output_type": "stream",
     "text": [
      "['end']\n"
     ]
    }
   ],
   "source": [
    "by_3 = re.findall(r'\\bend\\b', 'weekend,endfor,end')\n",
    "print(by_3)"
   ],
   "metadata": {
    "collapsed": false,
    "pycharm": {
     "name": "#%%\n"
    }
   }
  },
  {
   "cell_type": "code",
   "execution_count": 362,
   "outputs": [
    {
     "name": "stdout",
     "output_type": "stream",
     "text": [
      "['phone']\n"
     ]
    }
   ],
   "source": [
    "by_4 = re.findall(r'^.+?\\b', 'phone no : 12345')\n",
    "print(by_4)"
   ],
   "metadata": {
    "collapsed": false,
    "pycharm": {
     "name": "#%%\n"
    }
   }
  },
  {
   "cell_type": "code",
   "execution_count": 363,
   "outputs": [
    {
     "name": "stdout",
     "output_type": "stream",
     "text": [
      "['234']\n"
     ]
    }
   ],
   "source": [
    "by_5 = re.findall(r'.34\\B', 'phone no : 12345')  # 非单词边界\n",
    "print(by_5)"
   ],
   "metadata": {
    "collapsed": false,
    "pycharm": {
     "name": "#%%\n"
    }
   }
  },
  {
   "cell_type": "markdown",
   "source": [
    "### 非匹配获取举例"
   ],
   "metadata": {
    "collapsed": false,
    "pycharm": {
     "name": "#%% md\n"
    }
   }
  },
  {
   "cell_type": "code",
   "execution_count": 364,
   "outputs": [
    {
     "name": "stdout",
     "output_type": "stream",
     "text": [
      "['我是']\n",
      "['我是']\n",
      "[]\n"
     ]
    }
   ],
   "source": [
    "# 匹配'学生'、'打工仔'前的'我是'\n",
    "print(re.findall(re.compile(r\"我是(?=学生|打工仔)\"), \"我是学生\"))\n",
    "print(re.findall(re.compile(r\"我是(?=学生|打工仔)\"), \"我是打工仔\"))\n",
    "print(re.findall(re.compile(r\"我是(?=学生|打工仔)\"), \"我是总统\"))"
   ],
   "metadata": {
    "collapsed": false,
    "pycharm": {
     "name": "#%%\n"
    }
   }
  },
  {
   "cell_type": "code",
   "execution_count": 365,
   "outputs": [
    {
     "name": "stdout",
     "output_type": "stream",
     "text": [
      "['很厉害']\n",
      "['很厉害']\n",
      "[]\n"
     ]
    }
   ],
   "source": [
    "# 匹配'中国人'、'美国人'后的'很厉害'\n",
    "print(re.findall(re.compile(r\"(?<=中国人|美国人)很厉害\"), \"中国人很厉害\"))\n",
    "print(re.findall(re.compile(r\"(?<=中国人|美国人)很厉害\"), \"美国人很厉害\"))\n",
    "print(re.findall(re.compile(r\"(?<=中国人|美国人)很厉害\"), \"日本人很厉害\"))"
   ],
   "metadata": {
    "collapsed": false,
    "pycharm": {
     "name": "#%%\n"
    }
   }
  },
  {
   "cell_type": "code",
   "execution_count": 366,
   "outputs": [
    {
     "name": "stdout",
     "output_type": "stream",
     "text": [
      "['很厉害']\n"
     ]
    }
   ],
   "source": [
    "# ?<=、?<!的可选匹配必须具有相同的长度\n",
    "# print(re.findall(re.compile(r\"(?<=中国人|俄罗斯人).*\"), \"中国人很厉害\"))  # 报错;len('中国人') != len('俄罗斯人')\n",
    "\n",
    "# 解决方法:\n",
    "print(re.findall(re.compile(r\"(?:(?<=中国人)|(?<=俄罗斯人))很厉害\"), \"中国人很厉害\"))  # ?<!同理"
   ],
   "metadata": {
    "collapsed": false,
    "pycharm": {
     "name": "#%%\n"
    }
   }
  },
  {
   "cell_type": "code",
   "execution_count": 367,
   "outputs": [
    {
     "name": "stdout",
     "output_type": "stream",
     "text": [
      "[]\n",
      "[]\n",
      "['SB']\n"
     ]
    }
   ],
   "source": [
    "# 不匹配'苏联人'、'美国人'前的'SB'\n",
    "print(re.findall(re.compile(r\"SB(?!苏联人|美国人)\"), \"SB美国人\"))\n",
    "print(re.findall(re.compile(r\"SB(?!苏联人|美国人)\"), \"SB苏联人\"))\n",
    "print(re.findall(re.compile(r\"SB(?!苏联人|美国人)\"), \"SB日本人\"))"
   ],
   "metadata": {
    "collapsed": false,
    "pycharm": {
     "name": "#%%\n"
    }
   }
  },
  {
   "cell_type": "code",
   "execution_count": 368,
   "outputs": [
    {
     "name": "stdout",
     "output_type": "stream",
     "text": [
      "[]\n",
      "[]\n",
      "['吃屎']\n"
     ]
    }
   ],
   "source": [
    "# 不匹配'苏联人'、'美国人'后的'吃屎'\n",
    "print(re.findall(re.compile(r\"(?<!苏联人|美国人)吃屎\"), \"美国人吃屎\"))\n",
    "print(re.findall(re.compile(r\"(?<!苏联人|美国人)吃屎\"), \"苏联人吃屎\"))\n",
    "print(re.findall(re.compile(r\"(?<!苏联人|美国人)吃屎\"), \"日本人吃屎\"))"
   ],
   "metadata": {
    "collapsed": false,
    "pycharm": {
     "name": "#%%\n"
    }
   }
  },
  {
   "cell_type": "code",
   "execution_count": 369,
   "outputs": [
    {
     "name": "stdout",
     "output_type": "stream",
     "text": [
      "['industry']\n",
      "['industries']\n",
      "['industry']\n",
      "['industries']\n"
     ]
    }
   ],
   "source": [
    "print(re.findall(re.compile(r\"industry|industries\"), \"industry\"))\n",
    "print(re.findall(re.compile(r\"industry|industries\"), \"industries\"))\n",
    "\n",
    "# 与上等价,但更为简洁\n",
    "print(re.findall(re.compile(r\"industr(?:y|ies)\"), \"industry\"))\n",
    "print(re.findall(re.compile(r\"industr(?:y|ies)\"), \"industries\"))"
   ],
   "metadata": {
    "collapsed": false,
    "pycharm": {
     "name": "#%%\n"
    }
   }
  },
  {
   "cell_type": "code",
   "execution_count": 369,
   "outputs": [],
   "source": [],
   "metadata": {
    "collapsed": false,
    "pycharm": {
     "name": "#%%\n"
    }
   }
  }
 ],
 "metadata": {
  "kernelspec": {
   "display_name": "Python 3",
   "language": "python",
   "name": "python3"
  },
  "language_info": {
   "codemirror_mode": {
    "name": "ipython",
    "version": 2
   },
   "file_extension": ".py",
   "mimetype": "text/x-python",
   "name": "python",
   "nbconvert_exporter": "python",
   "pygments_lexer": "ipython2",
   "version": "2.7.6"
  }
 },
 "nbformat": 4,
 "nbformat_minor": 0
}