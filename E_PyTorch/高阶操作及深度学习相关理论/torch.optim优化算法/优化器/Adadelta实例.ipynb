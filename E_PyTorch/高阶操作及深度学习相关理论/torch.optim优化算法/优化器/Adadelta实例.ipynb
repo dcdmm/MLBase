{
 "cells": [
  {
   "cell_type": "code",
   "execution_count": 1,
   "outputs": [],
   "source": [
    "import torch.nn as nn\n",
    "import torch.optim as optim\n",
    "import numpy as np\n",
    "import torch.utils.data as Data\n",
    "import torch"
   ],
   "metadata": {
    "collapsed": false,
    "pycharm": {
     "name": "#%%\n"
    }
   }
  },
  {
   "cell_type": "code",
   "execution_count": 2,
   "outputs": [],
   "source": [
    "# 手写数字训练数据集\n",
    "mnist = np.load(\"../../../../Other/datasets/NumPy/mnist.npz\")\n",
    "X_train, y_train, X_test, y_test = torch.unsqueeze(torch.tensor(mnist['x_train']), 1).to(dtype=torch.float32), \\\n",
    "                                   torch.tensor(mnist['y_train']).to(dtype=torch.long), \\\n",
    "                                   torch.unsqueeze(torch.tensor(mnist['x_test']), 1).to(dtype=torch.float32), \\\n",
    "                                   torch.tensor(mnist['y_test']).to(dtype=torch.long)\n",
    "X_train, X_test = X_train / 255.0, X_test / 255.0"
   ],
   "metadata": {
    "collapsed": false,
    "pycharm": {
     "name": "#%%\n"
    }
   }
  },
  {
   "cell_type": "code",
   "execution_count": 3,
   "outputs": [],
   "source": [
    "batch_size = 200\n",
    "train_data = Data.TensorDataset(X_train, y_train)\n",
    "train_loader = Data.DataLoader(dataset=train_data,\n",
    "                               batch_size=batch_size,\n",
    "                               shuffle=True)\n",
    "train_X = Data.DataLoader(X_train, batch_size=batch_size)\n",
    "test_X = Data.DataLoader(X_test, batch_size=batch_size)"
   ],
   "metadata": {
    "collapsed": false,
    "pycharm": {
     "name": "#%%\n"
    }
   }
  },
  {
   "cell_type": "code",
   "execution_count": 4,
   "outputs": [],
   "source": [
    "class LeNet(nn.Module):\n",
    "    def __init__(self):\n",
    "        super(LeNet, self).__init__()\n",
    "        self.featrues = nn.Sequential(  # 内部实现了forward函数;各模块顺序执行\n",
    "            nn.Conv2d(1, 6, 3),\n",
    "            nn.ReLU(),\n",
    "            nn.MaxPool2d(2, 2),\n",
    "            nn.Conv2d(6, 16, 3),\n",
    "            nn.ReLU(),\n",
    "            nn.MaxPool2d(2, 2)\n",
    "        )\n",
    "        self.classifier = nn.Sequential(\n",
    "            nn.Linear(400, 120),\n",
    "            nn.ReLU(),\n",
    "            nn.Linear(120, 84),\n",
    "            nn.ReLU(),\n",
    "            nn.Linear(84, 10),  # 10分类问题\n",
    "        )\n",
    "\n",
    "    def forward(self, x):\n",
    "        x = self.featrues(x)\n",
    "        x = x.reshape(x.size()[0], -1)\n",
    "        x = self.classifier(x)\n",
    "        return x"
   ],
   "metadata": {
    "collapsed": false,
    "pycharm": {
     "name": "#%%\n"
    }
   }
  },
  {
   "cell_type": "code",
   "execution_count": 5,
   "outputs": [],
   "source": [
    "device = torch.device(\"cuda\" if torch.cuda.is_available() else \"cpu\")\n",
    "criteon = nn.CrossEntropyLoss()  # 定义损失函数为交叉熵\n",
    "net = LeNet()\n",
    "lenet = net.to(device)  # 模型设备转移必须在优化器定义前执行\n",
    "\n",
    "# Adadelta优化器\n",
    "optimizer = optim.Adadelta(net.parameters(),\n",
    "                           rho=0.9,  # 衰减速率\\rho\n",
    "                           lr=0.99,  # 缩放系数\\epsilon(default: 1.0)\n",
    "                           eps=1e-6)  # 分母中的小常数\\delta"
   ],
   "metadata": {
    "collapsed": false,
    "pycharm": {
     "name": "#%%\n"
    }
   }
  },
  {
   "cell_type": "code",
   "execution_count": 6,
   "outputs": [],
   "source": [
    "from torch_model.train_evaluate import Train_Evaluate\n",
    "\n",
    "t_and_v = Train_Evaluate(model=lenet, optimizer=optimizer, criterion=criteon, epochs=5)"
   ],
   "metadata": {
    "collapsed": false,
    "pycharm": {
     "name": "#%%\n"
    }
   }
  },
  {
   "cell_type": "code",
   "execution_count": 7,
   "outputs": [
    {
     "name": "stderr",
     "output_type": "stream",
     "text": [
      "C:\\Users\\duanm\\anaconda3\\lib\\site-packages\\torch\\nn\\functional.py:718: UserWarning: Named tensors and all their associated APIs are an experimental feature and subject to change. Please do not use them for anything important until they are released as stable. (Triggered internally at  ..\\c10/core/TensorImpl.h:1156.)\n",
      "  return torch.max_pool2d(input, kernel_size, stride, padding, dilation, ceil_mode)\n"
     ]
    },
    {
     "name": "stdout",
     "output_type": "stream",
     "text": [
      "Train Epoch: 0  [0    /60000 (0  %)]\tLoss: 2.297040\n",
      "Train Epoch: 0  [2000 /60000 (3  %)]\tLoss: 2.289591\n",
      "Train Epoch: 0  [4000 /60000 (7  %)]\tLoss: 2.078297\n",
      "Train Epoch: 0  [6000 /60000 (10 %)]\tLoss: 1.659059\n",
      "Train Epoch: 0  [8000 /60000 (13 %)]\tLoss: 1.006946\n",
      "Train Epoch: 0  [10000/60000 (17 %)]\tLoss: 0.680698\n",
      "Train Epoch: 0  [12000/60000 (20 %)]\tLoss: 0.523648\n",
      "Train Epoch: 0  [14000/60000 (23 %)]\tLoss: 0.593252\n",
      "Train Epoch: 0  [16000/60000 (27 %)]\tLoss: 0.306677\n",
      "Train Epoch: 0  [18000/60000 (30 %)]\tLoss: 0.726013\n",
      "Train Epoch: 0  [20000/60000 (33 %)]\tLoss: 0.484955\n",
      "Train Epoch: 0  [22000/60000 (37 %)]\tLoss: 0.330642\n",
      "Train Epoch: 0  [24000/60000 (40 %)]\tLoss: 0.320076\n",
      "Train Epoch: 0  [26000/60000 (43 %)]\tLoss: 0.281103\n",
      "Train Epoch: 0  [28000/60000 (47 %)]\tLoss: 0.239450\n",
      "Train Epoch: 0  [30000/60000 (50 %)]\tLoss: 0.190333\n",
      "Train Epoch: 0  [32000/60000 (53 %)]\tLoss: 0.192291\n",
      "Train Epoch: 0  [34000/60000 (57 %)]\tLoss: 0.238761\n",
      "Train Epoch: 0  [36000/60000 (60 %)]\tLoss: 0.212782\n",
      "Train Epoch: 0  [38000/60000 (63 %)]\tLoss: 0.207264\n",
      "Train Epoch: 0  [40000/60000 (67 %)]\tLoss: 0.224612\n",
      "Train Epoch: 0  [42000/60000 (70 %)]\tLoss: 0.130246\n",
      "Train Epoch: 0  [44000/60000 (73 %)]\tLoss: 0.186119\n",
      "Train Epoch: 0  [46000/60000 (77 %)]\tLoss: 0.169845\n",
      "Train Epoch: 0  [48000/60000 (80 %)]\tLoss: 0.085905\n",
      "Train Epoch: 0  [50000/60000 (83 %)]\tLoss: 0.133859\n",
      "Train Epoch: 0  [52000/60000 (87 %)]\tLoss: 0.082445\n",
      "Train Epoch: 0  [54000/60000 (90 %)]\tLoss: 0.080276\n",
      "Train Epoch: 0  [56000/60000 (93 %)]\tLoss: 0.144980\n",
      "Train Epoch: 0  [58000/60000 (97 %)]\tLoss: 0.113164\n",
      "Train Epoch: 0  [60000/60000 (100%)]\tLoss: 0.103884\n",
      "----------------------------------------------------------------------------------------------------\n",
      "Train Epoch: 1  [0    /60000 (0  %)]\tLoss: 0.063817\n",
      "Train Epoch: 1  [2000 /60000 (3  %)]\tLoss: 0.093879\n",
      "Train Epoch: 1  [4000 /60000 (7  %)]\tLoss: 0.103746\n",
      "Train Epoch: 1  [6000 /60000 (10 %)]\tLoss: 0.117739\n",
      "Train Epoch: 1  [8000 /60000 (13 %)]\tLoss: 0.126639\n",
      "Train Epoch: 1  [10000/60000 (17 %)]\tLoss: 0.083241\n",
      "Train Epoch: 1  [12000/60000 (20 %)]\tLoss: 0.124752\n",
      "Train Epoch: 1  [14000/60000 (23 %)]\tLoss: 0.106600\n",
      "Train Epoch: 1  [16000/60000 (27 %)]\tLoss: 0.150743\n",
      "Train Epoch: 1  [18000/60000 (30 %)]\tLoss: 0.102489\n",
      "Train Epoch: 1  [20000/60000 (33 %)]\tLoss: 0.103780\n",
      "Train Epoch: 1  [22000/60000 (37 %)]\tLoss: 0.078041\n",
      "Train Epoch: 1  [24000/60000 (40 %)]\tLoss: 0.145183\n",
      "Train Epoch: 1  [26000/60000 (43 %)]\tLoss: 0.058076\n",
      "Train Epoch: 1  [28000/60000 (47 %)]\tLoss: 0.077296\n",
      "Train Epoch: 1  [30000/60000 (50 %)]\tLoss: 0.051137\n",
      "Train Epoch: 1  [32000/60000 (53 %)]\tLoss: 0.106129\n",
      "Train Epoch: 1  [34000/60000 (57 %)]\tLoss: 0.092665\n",
      "Train Epoch: 1  [36000/60000 (60 %)]\tLoss: 0.052509\n",
      "Train Epoch: 1  [38000/60000 (63 %)]\tLoss: 0.111773\n",
      "Train Epoch: 1  [40000/60000 (67 %)]\tLoss: 0.083236\n",
      "Train Epoch: 1  [42000/60000 (70 %)]\tLoss: 0.042633\n",
      "Train Epoch: 1  [44000/60000 (73 %)]\tLoss: 0.110173\n",
      "Train Epoch: 1  [46000/60000 (77 %)]\tLoss: 0.163928\n",
      "Train Epoch: 1  [48000/60000 (80 %)]\tLoss: 0.054938\n",
      "Train Epoch: 1  [50000/60000 (83 %)]\tLoss: 0.080069\n",
      "Train Epoch: 1  [52000/60000 (87 %)]\tLoss: 0.059968\n",
      "Train Epoch: 1  [54000/60000 (90 %)]\tLoss: 0.058567\n",
      "Train Epoch: 1  [56000/60000 (93 %)]\tLoss: 0.082135\n",
      "Train Epoch: 1  [58000/60000 (97 %)]\tLoss: 0.086192\n",
      "Train Epoch: 1  [60000/60000 (100%)]\tLoss: 0.102776\n",
      "----------------------------------------------------------------------------------------------------\n",
      "Train Epoch: 2  [0    /60000 (0  %)]\tLoss: 0.039669\n",
      "Train Epoch: 2  [2000 /60000 (3  %)]\tLoss: 0.069620\n",
      "Train Epoch: 2  [4000 /60000 (7  %)]\tLoss: 0.034698\n",
      "Train Epoch: 2  [6000 /60000 (10 %)]\tLoss: 0.044029\n",
      "Train Epoch: 2  [8000 /60000 (13 %)]\tLoss: 0.041290\n",
      "Train Epoch: 2  [10000/60000 (17 %)]\tLoss: 0.060484\n",
      "Train Epoch: 2  [12000/60000 (20 %)]\tLoss: 0.046169\n",
      "Train Epoch: 2  [14000/60000 (23 %)]\tLoss: 0.089071\n",
      "Train Epoch: 2  [16000/60000 (27 %)]\tLoss: 0.063656\n",
      "Train Epoch: 2  [18000/60000 (30 %)]\tLoss: 0.042475\n",
      "Train Epoch: 2  [20000/60000 (33 %)]\tLoss: 0.049040\n",
      "Train Epoch: 2  [22000/60000 (37 %)]\tLoss: 0.081761\n",
      "Train Epoch: 2  [24000/60000 (40 %)]\tLoss: 0.034215\n",
      "Train Epoch: 2  [26000/60000 (43 %)]\tLoss: 0.046255\n",
      "Train Epoch: 2  [28000/60000 (47 %)]\tLoss: 0.038160\n",
      "Train Epoch: 2  [30000/60000 (50 %)]\tLoss: 0.085942\n",
      "Train Epoch: 2  [32000/60000 (53 %)]\tLoss: 0.045056\n",
      "Train Epoch: 2  [34000/60000 (57 %)]\tLoss: 0.095079\n",
      "Train Epoch: 2  [36000/60000 (60 %)]\tLoss: 0.050815\n",
      "Train Epoch: 2  [38000/60000 (63 %)]\tLoss: 0.039774\n",
      "Train Epoch: 2  [40000/60000 (67 %)]\tLoss: 0.053489\n",
      "Train Epoch: 2  [42000/60000 (70 %)]\tLoss: 0.040755\n",
      "Train Epoch: 2  [44000/60000 (73 %)]\tLoss: 0.049287\n",
      "Train Epoch: 2  [46000/60000 (77 %)]\tLoss: 0.057384\n",
      "Train Epoch: 2  [48000/60000 (80 %)]\tLoss: 0.136031\n",
      "Train Epoch: 2  [50000/60000 (83 %)]\tLoss: 0.086335\n",
      "Train Epoch: 2  [52000/60000 (87 %)]\tLoss: 0.037701\n",
      "Train Epoch: 2  [54000/60000 (90 %)]\tLoss: 0.141611\n",
      "Train Epoch: 2  [56000/60000 (93 %)]\tLoss: 0.067360\n",
      "Train Epoch: 2  [58000/60000 (97 %)]\tLoss: 0.057416\n",
      "Train Epoch: 2  [60000/60000 (100%)]\tLoss: 0.093059\n",
      "----------------------------------------------------------------------------------------------------\n",
      "Train Epoch: 3  [0    /60000 (0  %)]\tLoss: 0.046891\n",
      "Train Epoch: 3  [2000 /60000 (3  %)]\tLoss: 0.024100\n",
      "Train Epoch: 3  [4000 /60000 (7  %)]\tLoss: 0.049918\n",
      "Train Epoch: 3  [6000 /60000 (10 %)]\tLoss: 0.041492\n",
      "Train Epoch: 3  [8000 /60000 (13 %)]\tLoss: 0.059069\n",
      "Train Epoch: 3  [10000/60000 (17 %)]\tLoss: 0.039156\n",
      "Train Epoch: 3  [12000/60000 (20 %)]\tLoss: 0.041438\n",
      "Train Epoch: 3  [14000/60000 (23 %)]\tLoss: 0.015640\n",
      "Train Epoch: 3  [16000/60000 (27 %)]\tLoss: 0.081192\n",
      "Train Epoch: 3  [18000/60000 (30 %)]\tLoss: 0.012672\n",
      "Train Epoch: 3  [20000/60000 (33 %)]\tLoss: 0.047951\n",
      "Train Epoch: 3  [22000/60000 (37 %)]\tLoss: 0.022547\n",
      "Train Epoch: 3  [24000/60000 (40 %)]\tLoss: 0.028183\n",
      "Train Epoch: 3  [26000/60000 (43 %)]\tLoss: 0.047433\n",
      "Train Epoch: 3  [28000/60000 (47 %)]\tLoss: 0.087186\n",
      "Train Epoch: 3  [30000/60000 (50 %)]\tLoss: 0.034270\n",
      "Train Epoch: 3  [32000/60000 (53 %)]\tLoss: 0.017915\n",
      "Train Epoch: 3  [34000/60000 (57 %)]\tLoss: 0.084806\n",
      "Train Epoch: 3  [36000/60000 (60 %)]\tLoss: 0.075272\n",
      "Train Epoch: 3  [38000/60000 (63 %)]\tLoss: 0.022307\n",
      "Train Epoch: 3  [40000/60000 (67 %)]\tLoss: 0.040329\n",
      "Train Epoch: 3  [42000/60000 (70 %)]\tLoss: 0.038739\n",
      "Train Epoch: 3  [44000/60000 (73 %)]\tLoss: 0.064104\n",
      "Train Epoch: 3  [46000/60000 (77 %)]\tLoss: 0.017387\n",
      "Train Epoch: 3  [48000/60000 (80 %)]\tLoss: 0.011566\n",
      "Train Epoch: 3  [50000/60000 (83 %)]\tLoss: 0.012945\n",
      "Train Epoch: 3  [52000/60000 (87 %)]\tLoss: 0.054175\n",
      "Train Epoch: 3  [54000/60000 (90 %)]\tLoss: 0.016008\n",
      "Train Epoch: 3  [56000/60000 (93 %)]\tLoss: 0.049353\n",
      "Train Epoch: 3  [58000/60000 (97 %)]\tLoss: 0.031429\n",
      "Train Epoch: 3  [60000/60000 (100%)]\tLoss: 0.038378\n",
      "----------------------------------------------------------------------------------------------------\n",
      "Train Epoch: 4  [0    /60000 (0  %)]\tLoss: 0.031229\n",
      "Train Epoch: 4  [2000 /60000 (3  %)]\tLoss: 0.045385\n",
      "Train Epoch: 4  [4000 /60000 (7  %)]\tLoss: 0.055357\n",
      "Train Epoch: 4  [6000 /60000 (10 %)]\tLoss: 0.031138\n",
      "Train Epoch: 4  [8000 /60000 (13 %)]\tLoss: 0.070337\n",
      "Train Epoch: 4  [10000/60000 (17 %)]\tLoss: 0.019912\n",
      "Train Epoch: 4  [12000/60000 (20 %)]\tLoss: 0.029474\n",
      "Train Epoch: 4  [14000/60000 (23 %)]\tLoss: 0.019250\n",
      "Train Epoch: 4  [16000/60000 (27 %)]\tLoss: 0.045884\n",
      "Train Epoch: 4  [18000/60000 (30 %)]\tLoss: 0.028872\n",
      "Train Epoch: 4  [20000/60000 (33 %)]\tLoss: 0.054900\n",
      "Train Epoch: 4  [22000/60000 (37 %)]\tLoss: 0.072587\n",
      "Train Epoch: 4  [24000/60000 (40 %)]\tLoss: 0.076164\n",
      "Train Epoch: 4  [26000/60000 (43 %)]\tLoss: 0.045171\n",
      "Train Epoch: 4  [28000/60000 (47 %)]\tLoss: 0.024670\n",
      "Train Epoch: 4  [30000/60000 (50 %)]\tLoss: 0.005296\n",
      "Train Epoch: 4  [32000/60000 (53 %)]\tLoss: 0.029253\n",
      "Train Epoch: 4  [34000/60000 (57 %)]\tLoss: 0.111799\n",
      "Train Epoch: 4  [36000/60000 (60 %)]\tLoss: 0.028122\n",
      "Train Epoch: 4  [38000/60000 (63 %)]\tLoss: 0.021723\n",
      "Train Epoch: 4  [40000/60000 (67 %)]\tLoss: 0.042279\n",
      "Train Epoch: 4  [42000/60000 (70 %)]\tLoss: 0.039067\n",
      "Train Epoch: 4  [44000/60000 (73 %)]\tLoss: 0.050128\n",
      "Train Epoch: 4  [46000/60000 (77 %)]\tLoss: 0.042742\n",
      "Train Epoch: 4  [48000/60000 (80 %)]\tLoss: 0.015993\n",
      "Train Epoch: 4  [50000/60000 (83 %)]\tLoss: 0.042708\n",
      "Train Epoch: 4  [52000/60000 (87 %)]\tLoss: 0.044151\n",
      "Train Epoch: 4  [54000/60000 (90 %)]\tLoss: 0.053662\n",
      "Train Epoch: 4  [56000/60000 (93 %)]\tLoss: 0.062379\n",
      "Train Epoch: 4  [58000/60000 (97 %)]\tLoss: 0.036349\n",
      "Train Epoch: 4  [60000/60000 (100%)]\tLoss: 0.045352\n",
      "----------------------------------------------------------------------------------------------------\n"
     ]
    },
    {
     "data": {
      "text/plain": "[[0.10095818340778351, 0.09305434674024582],\n [0.06789164990186691, 0.06729749590158463],\n [0.04486904293298721, 0.04743466153740883],\n [0.0322568453848362, 0.040652621537446976],\n [0.02712146006524563, 0.03935305029153824]]"
     },
     "execution_count": 7,
     "metadata": {},
     "output_type": "execute_result"
    }
   ],
   "source": [
    "metric_reslut = t_and_v.train_eval(train_loader=train_loader, valid_sets=[(train_X, y_train), (test_X, y_test)])\n",
    "metric_reslut  # 每一轮验证数据集的损失值"
   ],
   "metadata": {
    "collapsed": false,
    "pycharm": {
     "name": "#%%\n"
    }
   }
  },
  {
   "cell_type": "code",
   "execution_count": 7,
   "outputs": [],
   "source": [],
   "metadata": {
    "collapsed": false,
    "pycharm": {
     "name": "#%%\n"
    }
   }
  }
 ],
 "metadata": {
  "kernelspec": {
   "display_name": "Python 3",
   "language": "python",
   "name": "python3"
  },
  "language_info": {
   "codemirror_mode": {
    "name": "ipython",
    "version": 2
   },
   "file_extension": ".py",
   "mimetype": "text/x-python",
   "name": "python",
   "nbconvert_exporter": "python",
   "pygments_lexer": "ipython2",
   "version": "2.7.6"
  }
 },
 "nbformat": 4,
 "nbformat_minor": 0
}