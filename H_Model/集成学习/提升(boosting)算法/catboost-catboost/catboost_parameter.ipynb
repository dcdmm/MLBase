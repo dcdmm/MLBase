{
 "cells": [
  {
   "cell_type": "markdown",
   "metadata": {
    "collapsed": true,
    "pycharm": {
     "name": "#%% md\n"
    }
   },
   "source": [
    "## lightgbm主要调节参数\n",
    "\n",
    "1. 其他参数\n",
    "    * thread_count==>xgboost(n_jobs)\n",
    "    * verbose==>xgboost(verbosity)\n",
    "    * allow_writing_files\n",
    "    * loss_function==>xgboost(objective)\n",
    "    * eval_metric==>xgboost.fit\n",
    "    * task_type\n",
    "    * leaf_estimation_method\n",
    "\n",
    "2. 树调节参数\n",
    "    * n_estimators==>xgboost\n",
    "    * max_depth==>xgboost\n",
    "\n",
    "3. 防止过拟合参数\n",
    "    * colsample_bylevel\n",
    "    * learning_rate==>xgboost\n",
    "    * reg_lambda==>xgboost"
   ]
  },
  {
   "cell_type": "code",
   "execution_count": 1,
   "outputs": [],
   "source": [
    "from catboost import CatBoostClassifier\n",
    "from sklearn import datasets\n",
    "from sklearn.model_selection import train_test_split\n",
    "import numpy as np"
   ],
   "metadata": {
    "collapsed": false,
    "pycharm": {
     "name": "#%%\n"
    }
   }
  },
  {
   "cell_type": "code",
   "execution_count": 2,
   "outputs": [],
   "source": [
    "X = datasets.fetch_covtype().data[:3000]\n",
    "y = datasets.fetch_covtype().target[:3000]\n",
    "X_train, X_test, y_train, y_test = train_test_split(X, y)"
   ],
   "metadata": {
    "collapsed": false,
    "pycharm": {
     "name": "#%%\n"
    }
   }
  },
  {
   "cell_type": "code",
   "execution_count": 3,
   "outputs": [
    {
     "name": "stdout",
     "output_type": "stream",
     "text": [
      "(2250, 54)\n",
      "[1 2 3 4 5 6 7]\n"
     ]
    }
   ],
   "source": [
    "print(X_train.shape)  # 数据集有54个特征\n",
    "print(np.unique(y_train))  # 7分类"
   ],
   "metadata": {
    "collapsed": false,
    "pycharm": {
     "name": "#%%\n"
    }
   }
  },
  {
   "cell_type": "code",
   "execution_count": 4,
   "outputs": [
    {
     "name": "stdout",
     "output_type": "stream",
     "text": [
      "Learning rate set to 0.082468\n",
      "0:\tlearn: 1.7863484\ttotal: 190ms\tremaining: 3m 9s\n",
      "100:\tlearn: 0.4575110\ttotal: 1.03s\tremaining: 9.2s\n",
      "200:\tlearn: 0.3393051\ttotal: 1.89s\tremaining: 7.51s\n",
      "300:\tlearn: 0.2688756\ttotal: 2.72s\tremaining: 6.32s\n",
      "400:\tlearn: 0.2229096\ttotal: 3.55s\tremaining: 5.3s\n",
      "500:\tlearn: 0.1885924\ttotal: 4.38s\tremaining: 4.36s\n",
      "600:\tlearn: 0.1602304\ttotal: 5.22s\tremaining: 3.46s\n",
      "700:\tlearn: 0.1374790\ttotal: 6.05s\tremaining: 2.58s\n",
      "800:\tlearn: 0.1211865\ttotal: 6.88s\tremaining: 1.71s\n",
      "900:\tlearn: 0.1071322\ttotal: 7.72s\tremaining: 848ms\n",
      "999:\tlearn: 0.0946276\ttotal: 8.6s\tremaining: 0us\n",
      "0.86\n"
     ]
    }
   ],
   "source": [
    "'''\n",
    "The purpose of this parameter depends on the type of the given value:\n",
    "\n",
    "1. bool — Defines the logging level:\n",
    "    * “True”  corresponds to the Verbose logging level\n",
    "    * “False” corresponds to the Silent logging level\n",
    "2. int — Use the Verbose logging level and set the logging period to the value of this parameter.\n",
    "'''\n",
    "cat = CatBoostClassifier(thread_count=-1,\n",
    "                         verbose=100,\n",
    "                         # Allow to write analytical and snapshot files during\n",
    "                         allow_writing_files=False)  # 默认allow_writing_files=True\n",
    "cat.fit(X_train, y_train)\n",
    "print(cat.score(X_test, y_test))"
   ],
   "metadata": {
    "collapsed": false,
    "pycharm": {
     "name": "#%%\n"
    }
   }
  },
  {
   "cell_type": "code",
   "execution_count": 5,
   "outputs": [
    {
     "name": "stdout",
     "output_type": "stream",
     "text": [
      "0.86\n"
     ]
    }
   ],
   "source": [
    "# loss_function:The metric to use in training.\n",
    "# eval_metric:The metric used for overfitting detection (if enabled) and best model selection (if enabled).\n",
    "'''\n",
    "loss_function/eval_metric可选参数:\n",
    "RMSE: 均方根误差\n",
    "MAE:平均绝对误差\n",
    "R2: R平方\n",
    "Logloss: 负对数似然函数值\n",
    "CrossEntropy:交叉熵\n",
    "Precision:查准率\n",
    "Recall:召回率\n",
    "F1:F1值\n",
    "Accuracy:精度\n",
    "AUC\n",
    "MultiClass:多分类logloss\n",
    "'''\n",
    "cat = CatBoostClassifier(thread_count=-1, verbose=False, allow_writing_files=False,\n",
    "                         loss_function='MultiClass',\n",
    "                         eval_metric='MultiClass')  # 可自定义,不支持多个多个评估指标\n",
    "cat.fit(X_train, y_train)\n",
    "print(cat.score(X_test, y_test))"
   ],
   "metadata": {
    "collapsed": false,
    "pycharm": {
     "name": "#%%\n"
    }
   }
  },
  {
   "cell_type": "code",
   "execution_count": 6,
   "outputs": [
    {
     "name": "stdout",
     "output_type": "stream",
     "text": [
      "0.86\n"
     ]
    }
   ],
   "source": [
    "cat = CatBoostClassifier(thread_count=-1, verbose=False, allow_writing_files=False,\n",
    "                         )\n",
    "cat.fit(X_train, y_train)\n",
    "print(cat.score(X_test, y_test))"
   ],
   "metadata": {
    "collapsed": false,
    "pycharm": {
     "name": "#%%\n"
    }
   }
  },
  {
   "cell_type": "code",
   "execution_count": null,
   "outputs": [],
   "source": [
    "'''\n",
    "The processing unit type to use for training.\n",
    "\n",
    "Possible values:\n",
    "    * CPU\n",
    "    * GPU\n",
    "'''\n",
    "cat = CatBoostClassifier(thread_count=-1, verbose=False, allow_writing_files=False,\n",
    "                         task_type='GPU')  # 默认task_type='CPU'\n",
    "cat.fit(X_train, y_train)\n",
    "print(cat.score(X_test, y_test))"
   ],
   "metadata": {
    "collapsed": false,
    "pycharm": {
     "name": "#%%\n",
     "is_executing": true
    }
   }
  },
  {
   "cell_type": "code",
   "execution_count": null,
   "outputs": [],
   "source": [
    "'''\n",
    "The method used to calculate the values in leaves.\n",
    "\n",
    "Possible values:\n",
    "    * Newton\n",
    "    * Gradient\n",
    "    * Exact\n",
    "'''\n",
    "\n",
    "# 默认值\n",
    "\"\"\"\n",
    "Depends on the mode and the selected loss function:\n",
    "    * Regression with Quantile or MAE loss functions — One Exact iteration.\n",
    "    * Regression with any loss function but Quantile or MAE – One Gradient iteration.\n",
    "    * Classification mode – Ten Newton iterations.\n",
    "    * Multiclassification mode – One Newton iteration.\n",
    "\"\"\"\n",
    "cat = CatBoostClassifier(thread_count=-1, verbose=False, allow_writing_files=False,\n",
    "                         leaf_estimation_method=\"Gradient\")\n",
    "cat.fit(X_train, y_train)\n",
    "print(cat.score(X_test, y_test))"
   ],
   "metadata": {
    "collapsed": false,
    "pycharm": {
     "name": "#%%\n",
     "is_executing": true
    }
   }
  },
  {
   "cell_type": "code",
   "execution_count": null,
   "outputs": [],
   "source": [
    "n_estimators = [10, 20, 50, 100]  # 默认n_estimators=100\n",
    "for i in n_estimators:\n",
    "    cat = CatBoostClassifier(thread_count=-1, allow_writing_files=False, verbose=False,\n",
    "                             n_estimators=i)\n",
    "    cat.fit(X_train, y_train)\n",
    "    print('n_estimators=' + str(i) + ',  score=', cat.score(X_test, y_test))"
   ],
   "metadata": {
    "collapsed": false,
    "pycharm": {
     "name": "#%%\n",
     "is_executing": true
    }
   }
  },
  {
   "cell_type": "code",
   "execution_count": null,
   "outputs": [],
   "source": [
    "max_depth = [1, 3, 6, 9]\n",
    "for i in max_depth:\n",
    "    cat = CatBoostClassifier(thread_count=-1, verbose=False, allow_writing_files=False,\n",
    "                             max_depth=i)  # 默认6 (16 if the growing policy is set to Lossguide)\n",
    "    cat.fit(X_train, y_train)\n",
    "    print('max_depth=' + str(i) + ',  score=', cat.score(X_test, y_test))"
   ],
   "metadata": {
    "collapsed": false,
    "pycharm": {
     "name": "#%%\n",
     "is_executing": true
    }
   }
  },
  {
   "cell_type": "code",
   "execution_count": null,
   "outputs": [],
   "source": [
    "colsample_bylevel = [0.1, 0.3, 0.6, 0.7, 0.8, 0.95, 1]\n",
    "for i in colsample_bylevel:\n",
    "    cat = CatBoostClassifier(thread_count=-1, verbose=False, allow_writing_files=False,\n",
    "                             # Random subspace method. The percentage of features to use at each split selection, when features are selected over again at random\n",
    "                             colsample_bylevel=i)  # 默认colsample_bytree=1.0\n",
    "    cat.fit(X_train, y_train)\n",
    "    print('colsample_bylevel=' + str(i) + ',  score=', cat.score(X_test, y_test))"
   ],
   "metadata": {
    "collapsed": false,
    "pycharm": {
     "name": "#%%\n",
     "is_executing": true
    }
   }
  },
  {
   "cell_type": "code",
   "execution_count": null,
   "outputs": [],
   "source": [
    "learning_rate = [0.01, 0.02, 0.05, 0.5, 0.7, 0.9]  # 默认learning_rate=0.1\n",
    "for i in learning_rate:\n",
    "    cat = CatBoostClassifier(thread_count=-1, verbose=False, allow_writing_files=False,\n",
    "                             learning_rate=i)\n",
    "    cat.fit(X_train, y_train)\n",
    "    print('learing_rate=' + str(i) + ',  score=', cat.score(X_test, y_test))"
   ],
   "metadata": {
    "collapsed": false,
    "pycharm": {
     "name": "#%%\n",
     "is_executing": true
    }
   }
  },
  {
   "cell_type": "code",
   "execution_count": null,
   "outputs": [],
   "source": [
    "reg_lambda = [0, 1, 3, 9, 27, 81]\n",
    "for i in reg_lambda:\n",
    "    cat = CatBoostClassifier(thread_count=-1, verbose=False, allow_writing_files=False,\n",
    "                             # Coefficient at the L2 regularization term of the cost function.\n",
    "                             reg_lambda=i)  # 默认reg_lambda=3.0\n",
    "    cat.fit(X_train, y_train)\n",
    "    print('reg_lambda=' + str(i) + ',  score=', cat.score(X_test, y_test))"
   ],
   "metadata": {
    "collapsed": false,
    "pycharm": {
     "name": "#%%\n",
     "is_executing": true
    }
   }
  },
  {
   "cell_type": "code",
   "execution_count": null,
   "outputs": [],
   "source": [],
   "metadata": {
    "collapsed": false,
    "pycharm": {
     "name": "#%%\n",
     "is_executing": true
    }
   }
  }
 ],
 "metadata": {
  "kernelspec": {
   "display_name": "Python 3",
   "language": "python",
   "name": "python3"
  },
  "language_info": {
   "codemirror_mode": {
    "name": "ipython",
    "version": 2
   },
   "file_extension": ".py",
   "mimetype": "text/x-python",
   "name": "python",
   "nbconvert_exporter": "python",
   "pygments_lexer": "ipython2",
   "version": "2.7.6"
  }
 },
 "nbformat": 4,
 "nbformat_minor": 0
}