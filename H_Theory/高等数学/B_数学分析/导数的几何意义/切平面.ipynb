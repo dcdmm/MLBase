{
 "cells": [
  {
   "cell_type": "markdown",
   "metadata": {
    "collapsed": true,
    "pycharm": {
     "name": "#%% md\n"
    }
   },
   "source": [
    "&emsp;&emsp;若函数$ f $在点$ (x_0,y_0) $可微,则曲面$ z=f(x,y) $在点$ P(x_0, y_0, z_0) $的切平面为   \n",
    "$$ z - z_0 = f_x(x_0, y_0)(x-x_0) + f_y(x_0, y_0)(y-y_0) $$   \n",
    "&emsp;&emsp;过切点$P $与切平面垂直的直线称为曲线在点$ P $的法线.由切平面方程知道,法线的方向数是   \n",
    "$$ \\pm (f_x(x_0, y_0),f_y(x_0, y_0), -1)  $$    \n",
    "所以过切点$P $的法线方程是    \n",
    "$$ \\frac{x - x_0}{f_x(x_0, y_0)} = \\frac{y-y_0}{f_y(x_0, y_))} = \\frac{z - z_0}{1} $$ "
   ]
  },
  {
   "cell_type": "code",
   "execution_count": 1,
   "outputs": [],
   "source": [
    "%matplotlib qt5\n",
    "from sympy import  *\n",
    "import matplotlib.pyplot as plt\n",
    "from matplotlib import cm\n",
    "import numpy as np\n",
    "from mpl_toolkits.mplot3d import Axes3D"
   ],
   "metadata": {
    "collapsed": false,
    "pycharm": {
     "name": "#%%\n",
     "is_executing": false
    }
   }
  },
  {
   "cell_type": "code",
   "execution_count": 2,
   "outputs": [],
   "source": [
    "x, y = symbols('x, y')\n",
    "z = x**2 + y**2"
   ],
   "metadata": {
    "collapsed": false,
    "pycharm": {
     "name": "#%%\n",
     "is_executing": false
    }
   }
  },
  {
   "cell_type": "code",
   "execution_count": 3,
   "outputs": [
    {
     "data": {
      "text/plain": "2*x",
      "text/latex": "$\\displaystyle 2 x$"
     },
     "metadata": {},
     "output_type": "execute_result",
     "execution_count": 3
    }
   ],
   "source": [
    "dz_x = diff(z, x) # 对x求偏导\n",
    "dz_x"
   ],
   "metadata": {
    "collapsed": false,
    "pycharm": {
     "name": "#%%\n",
     "is_executing": false
    }
   }
  },
  {
   "cell_type": "code",
   "execution_count": 4,
   "outputs": [
    {
     "data": {
      "text/plain": "2*y",
      "text/latex": "$\\displaystyle 2 y$"
     },
     "metadata": {},
     "output_type": "execute_result",
     "execution_count": 4
    }
   ],
   "source": [
    "dz_y = diff(z, y) # 对y求偏导\n",
    "dz_y"
   ],
   "metadata": {
    "collapsed": false,
    "pycharm": {
     "name": "#%%\n",
     "is_executing": false
    }
   }
  },
  {
   "cell_type": "code",
   "execution_count": 5,
   "outputs": [
    {
     "name": "stdout",
     "text": [
      "4.0 0.0 4.0\n"
     ],
     "output_type": "stream"
    }
   ],
   "source": [
    "point = (0, 2)\n",
    "z_value = float(z.subs({x:point[0], y:point[1]})) # 求此点处的z坐标\n",
    "dz_x_v = float(dz_x.subs({x:point[0], y:point[1]})) # 求此点处x的偏导\n",
    "dz_y_v = float(dz_y.subs({x:point[0], y:point[1]})) # 求此点处y的偏导\n",
    "\n",
    "print(z_value, dz_x_v, dz_y_v)"
   ],
   "metadata": {
    "collapsed": false,
    "pycharm": {
     "name": "#%%\n",
     "is_executing": false
    }
   }
  },
  {
   "cell_type": "code",
   "execution_count": 6,
   "outputs": [
    {
     "data": {
      "text/plain": "4.0*y - 4.0",
      "text/latex": "$\\displaystyle 4.0 y - 4.0$"
     },
     "metadata": {},
     "output_type": "execute_result",
     "execution_count": 6
    }
   ],
   "source": [
    "tangent_plane = dz_x_v*(x -point[0]) + dz_y_v*(y-point[1]) + z_value # 切平面\n",
    "tangent_plane"
   ],
   "metadata": {
    "collapsed": false,
    "pycharm": {
     "name": "#%%\n",
     "is_executing": false
    }
   }
  },
  {
   "cell_type": "code",
   "execution_count": 7,
   "outputs": [
    {
     "data": {
      "text/plain": "(24, 24)"
     },
     "metadata": {},
     "output_type": "execute_result",
     "execution_count": 7
    }
   ],
   "source": [
    "X = np.arange(-3, 3, 0.25)\n",
    "Y = np.arange(-3, 3, 0.25)\n",
    "X, Y = np.meshgrid(X, Y)\n",
    "Z = X**2 + Y**2  # 凸函数\n",
    "Z.shape"
   ],
   "metadata": {
    "collapsed": false,
    "pycharm": {
     "name": "#%%\n",
     "is_executing": false
    }
   }
  },
  {
   "cell_type": "code",
   "execution_count": 8,
   "outputs": [
    {
     "data": {
      "text/plain": "(24, 24)"
     },
     "metadata": {},
     "output_type": "execute_result",
     "execution_count": 8
    }
   ],
   "source": [
    "Z_tangent = np.zeros_like(Z) # 初始为全0矩阵\n",
    "try:\n",
    "    trans = float(tangent_plane)\n",
    "except TypeError:\n",
    "    result = tangent_plane.subs({x: Matrix(X), y: Matrix(Y)}) \n",
    "    \n",
    "    one_part = float(result.as_coeff_add()[1][0])\n",
    "    two_part = matrix2numpy(result.as_coeff_add()[1][1], dtype=np.float32) # 转换为numpy.array\n",
    "    Z_tangent = one_part + two_part # 有时这样可以简化计算\n",
    "\n",
    "Z_tangent.shape"
   ],
   "metadata": {
    "collapsed": false,
    "pycharm": {
     "name": "#%%\n",
     "is_executing": false
    }
   }
  },
  {
   "cell_type": "code",
   "execution_count": 9,
   "outputs": [],
   "source": [
    "fig = plt.figure(figsize=plt.figaspect(1))\n",
    "ax = fig.add_subplot(1, 1, 1, projection='3d')\n",
    "ax.plot_surface(X, Y, Z, cmap=cm.coolwarm)\n",
    "ax.plot_surface(X, Y, Z_tangent) # 绘制切平面\n",
    "\n",
    "plt.tight_layout()"
   ],
   "metadata": {
    "collapsed": false,
    "pycharm": {
     "name": "#%%\n",
     "is_executing": false
    }
   }
  }
 ],
 "metadata": {
  "kernelspec": {
   "display_name": "Python 3",
   "language": "python",
   "name": "python3"
  },
  "language_info": {
   "codemirror_mode": {
    "name": "ipython",
    "version": 2
   },
   "file_extension": ".py",
   "mimetype": "text/x-python",
   "name": "python",
   "nbconvert_exporter": "python",
   "pygments_lexer": "ipython2",
   "version": "2.7.6"
  },
  "pycharm": {
   "stem_cell": {
    "cell_type": "raw",
    "source": [],
    "metadata": {
     "collapsed": false
    }
   }
  }
 },
 "nbformat": 4,
 "nbformat_minor": 0
}