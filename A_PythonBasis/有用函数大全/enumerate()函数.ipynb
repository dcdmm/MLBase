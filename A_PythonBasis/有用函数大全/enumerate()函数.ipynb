{
 "cells": [
  {
   "cell_type": "code",
   "execution_count": 1,
   "outputs": [
    {
     "name": "stdout",
     "text": [
      "<enumerate object at 0x0000021BC5B9EBD8>\n",
      "(0, 'd')\n",
      "(1, 'u')\n",
      "(2, 'a')\n",
      "(3, 'n')\n",
      "(4, 'c')\n",
      "(5, 'h')\n",
      "(6, 'a')\n",
      "(7, 'o')\n"
     ],
     "output_type": "stream"
    }
   ],
   "source": [
    "\"\"\"\n",
    "enumerate(iterable[, start]) -> iterator for index, value of iterable\n",
    "\n",
    "Return an enumerate object.  iterable must be another object that supports\n",
    "iteration.  The enumerate object yields pairs containing a count (from\n",
    "start, which defaults to zero) and a value yielded by the iterable argument.\n",
    "enumerate is useful for obtaining an indexed list:\n",
    "    (0, seq[0]), (1, seq[1]), (2, seq[2]), ...\n",
    "\"\"\"\n",
    "name = 'duanchao'\n",
    "print(enumerate(name)) # 可迭代对象\n",
    "\n",
    "for each in enumerate(name): # (i, value)元组的序列,其中values是元素的值,i是元素的索引\n",
    "\tprint(each)"
   ],
   "metadata": {
    "collapsed": false,
    "pycharm": {
     "name": "#%%\n",
     "is_executing": false
    }
   }
  },
  {
   "cell_type": "code",
   "execution_count": 5,
   "outputs": [
    {
     "data": {
      "text/plain": "[(0, 'Spring'), (1, 'Summer'), (2, 'Fall'), (3, 'Winter')]"
     },
     "metadata": {},
     "output_type": "execute_result",
     "execution_count": 5
    }
   ],
   "source": [
    "seasons = ['Spring', 'Summer', 'Fall', 'Winter']\n",
    "list(enumerate(seasons))"
   ],
   "metadata": {
    "pycharm": {
     "metadata": false,
     "name": "#%%\n",
     "is_executing": false
    }
   }
  },
  {
   "cell_type": "code",
   "execution_count": null,
   "outputs": [],
   "source": [
    "\n"
   ],
   "metadata": {
    "collapsed": false,
    "pycharm": {
     "name": "#%%\n"
    }
   }
  }
 ],
 "metadata": {
  "language_info": {
   "codemirror_mode": {
    "name": "ipython",
    "version": 2
   },
   "file_extension": ".py",
   "mimetype": "text/x-python",
   "name": "python",
   "nbconvert_exporter": "python",
   "pygments_lexer": "ipython2",
   "version": "2.7.6"
  },
  "kernelspec": {
   "name": "python3",
   "language": "python",
   "display_name": "Python 3"
  },
  "pycharm": {
   "stem_cell": {
    "cell_type": "raw",
    "source": [],
    "metadata": {
     "collapsed": false
    }
   }
  }
 },
 "nbformat": 4,
 "nbformat_minor": 0
}