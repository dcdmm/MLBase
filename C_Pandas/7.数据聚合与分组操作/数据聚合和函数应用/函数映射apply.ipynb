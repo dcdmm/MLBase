{
 "cells": [
  {
   "cell_type": "code",
   "execution_count": 68,
   "metadata": {
    "pycharm": {
     "name": "#%%\n"
    }
   },
   "outputs": [
    {
     "data": {
      "text/plain": "     total_bill   tip smoker   day    time  size   tip_pct\n0         16.99  1.01     No   Sun  Dinner     2  0.059447\n1         10.34  1.66     No   Sun  Dinner     3  0.160542\n2         21.01  3.50     No   Sun  Dinner     3  0.166587\n3         23.68  3.31     No   Sun  Dinner     2  0.139780\n4         24.59  3.61     No   Sun  Dinner     4  0.146808\n..          ...   ...    ...   ...     ...   ...       ...\n239       29.03  5.92     No   Sat  Dinner     3  0.203927\n240       27.18  2.00    Yes   Sat  Dinner     2  0.073584\n241       22.67  2.00    Yes   Sat  Dinner     2  0.088222\n242       17.82  1.75     No   Sat  Dinner     2  0.098204\n243       18.78  3.00     No  Thur  Dinner     2  0.159744\n\n[244 rows x 7 columns]",
      "text/html": "<div>\n<style scoped>\n    .dataframe tbody tr th:only-of-type {\n        vertical-align: middle;\n    }\n\n    .dataframe tbody tr th {\n        vertical-align: top;\n    }\n\n    .dataframe thead th {\n        text-align: right;\n    }\n</style>\n<table border=\"1\" class=\"dataframe\">\n  <thead>\n    <tr style=\"text-align: right;\">\n      <th></th>\n      <th>total_bill</th>\n      <th>tip</th>\n      <th>smoker</th>\n      <th>day</th>\n      <th>time</th>\n      <th>size</th>\n      <th>tip_pct</th>\n    </tr>\n  </thead>\n  <tbody>\n    <tr>\n      <th>0</th>\n      <td>16.99</td>\n      <td>1.01</td>\n      <td>No</td>\n      <td>Sun</td>\n      <td>Dinner</td>\n      <td>2</td>\n      <td>0.059447</td>\n    </tr>\n    <tr>\n      <th>1</th>\n      <td>10.34</td>\n      <td>1.66</td>\n      <td>No</td>\n      <td>Sun</td>\n      <td>Dinner</td>\n      <td>3</td>\n      <td>0.160542</td>\n    </tr>\n    <tr>\n      <th>2</th>\n      <td>21.01</td>\n      <td>3.50</td>\n      <td>No</td>\n      <td>Sun</td>\n      <td>Dinner</td>\n      <td>3</td>\n      <td>0.166587</td>\n    </tr>\n    <tr>\n      <th>3</th>\n      <td>23.68</td>\n      <td>3.31</td>\n      <td>No</td>\n      <td>Sun</td>\n      <td>Dinner</td>\n      <td>2</td>\n      <td>0.139780</td>\n    </tr>\n    <tr>\n      <th>4</th>\n      <td>24.59</td>\n      <td>3.61</td>\n      <td>No</td>\n      <td>Sun</td>\n      <td>Dinner</td>\n      <td>4</td>\n      <td>0.146808</td>\n    </tr>\n    <tr>\n      <th>...</th>\n      <td>...</td>\n      <td>...</td>\n      <td>...</td>\n      <td>...</td>\n      <td>...</td>\n      <td>...</td>\n      <td>...</td>\n    </tr>\n    <tr>\n      <th>239</th>\n      <td>29.03</td>\n      <td>5.92</td>\n      <td>No</td>\n      <td>Sat</td>\n      <td>Dinner</td>\n      <td>3</td>\n      <td>0.203927</td>\n    </tr>\n    <tr>\n      <th>240</th>\n      <td>27.18</td>\n      <td>2.00</td>\n      <td>Yes</td>\n      <td>Sat</td>\n      <td>Dinner</td>\n      <td>2</td>\n      <td>0.073584</td>\n    </tr>\n    <tr>\n      <th>241</th>\n      <td>22.67</td>\n      <td>2.00</td>\n      <td>Yes</td>\n      <td>Sat</td>\n      <td>Dinner</td>\n      <td>2</td>\n      <td>0.088222</td>\n    </tr>\n    <tr>\n      <th>242</th>\n      <td>17.82</td>\n      <td>1.75</td>\n      <td>No</td>\n      <td>Sat</td>\n      <td>Dinner</td>\n      <td>2</td>\n      <td>0.098204</td>\n    </tr>\n    <tr>\n      <th>243</th>\n      <td>18.78</td>\n      <td>3.00</td>\n      <td>No</td>\n      <td>Thur</td>\n      <td>Dinner</td>\n      <td>2</td>\n      <td>0.159744</td>\n    </tr>\n  </tbody>\n</table>\n<p>244 rows × 7 columns</p>\n</div>"
     },
     "execution_count": 68,
     "metadata": {},
     "output_type": "execute_result"
    }
   ],
   "source": [
    "import pandas as pd\n",
    "import numpy as np\n",
    "\n",
    "tips = pd.read_csv('tips.csv')\n",
    "# Add tip percentage of total bill\n",
    "tips['tip_pct'] = tips['tip'] / tips['total_bill']\n",
    "tips"
   ]
  },
  {
   "cell_type": "code",
   "execution_count": 69,
   "outputs": [],
   "source": [
    "def top(df, n=5, columns='tip_pct'):\n",
    "    print('进入top函数\\n', df)\n",
    "    return df.sort_values(by=columns)[-n:]\n",
    "\n",
    "\n",
    "def all(df):\n",
    "    return df[:]"
   ],
   "metadata": {
    "collapsed": false,
    "pycharm": {
     "name": "#%%\n"
    }
   }
  },
  {
   "cell_type": "code",
   "execution_count": 70,
   "metadata": {
    "pycharm": {
     "metadata": false,
     "name": "#%%\n"
    }
   },
   "outputs": [
    {
     "name": "stdout",
     "output_type": "stream",
     "text": [
      "group: No\n",
      "     total_bill   tip smoker   day    time  size   tip_pct\n",
      "0         16.99  1.01     No   Sun  Dinner     2  0.059447\n",
      "1         10.34  1.66     No   Sun  Dinner     3  0.160542\n",
      "2         21.01  3.50     No   Sun  Dinner     3  0.166587\n",
      "3         23.68  3.31     No   Sun  Dinner     2  0.139780\n",
      "4         24.59  3.61     No   Sun  Dinner     4  0.146808\n",
      "..          ...   ...    ...   ...     ...   ...       ...\n",
      "235       10.07  1.25     No   Sat  Dinner     2  0.124131\n",
      "238       35.83  4.67     No   Sat  Dinner     3  0.130338\n",
      "239       29.03  5.92     No   Sat  Dinner     3  0.203927\n",
      "242       17.82  1.75     No   Sat  Dinner     2  0.098204\n",
      "243       18.78  3.00     No  Thur  Dinner     2  0.159744\n",
      "\n",
      "[151 rows x 7 columns]\n",
      "group: Yes\n",
      "     total_bill   tip smoker  day    time  size   tip_pct\n",
      "56        38.01  3.00    Yes  Sat  Dinner     4  0.078927\n",
      "58        11.24  1.76    Yes  Sat  Dinner     2  0.156584\n",
      "60        20.29  3.21    Yes  Sat  Dinner     2  0.158206\n",
      "61        13.81  2.00    Yes  Sat  Dinner     2  0.144823\n",
      "62        11.02  1.98    Yes  Sat  Dinner     2  0.179673\n",
      "..          ...   ...    ...  ...     ...   ...       ...\n",
      "234       15.53  3.00    Yes  Sat  Dinner     2  0.193175\n",
      "236       12.60  1.00    Yes  Sat  Dinner     2  0.079365\n",
      "237       32.83  1.17    Yes  Sat  Dinner     2  0.035638\n",
      "240       27.18  2.00    Yes  Sat  Dinner     2  0.073584\n",
      "241       22.67  2.00    Yes  Sat  Dinner     2  0.088222\n",
      "\n",
      "[93 rows x 7 columns]\n"
     ]
    }
   ],
   "source": [
    "for name, one_group in tips.groupby('smoker'):\n",
    "    print('group:', name)\n",
    "    print(one_group)"
   ]
  },
  {
   "cell_type": "code",
   "execution_count": 71,
   "metadata": {
    "pycharm": {
     "name": "#%%\n"
    }
   },
   "outputs": [
    {
     "name": "stdout",
     "output_type": "stream",
     "text": [
      "进入top函数\n",
      "      total_bill   tip smoker   day    time  size   tip_pct\n",
      "0         16.99  1.01     No   Sun  Dinner     2  0.059447\n",
      "1         10.34  1.66     No   Sun  Dinner     3  0.160542\n",
      "2         21.01  3.50     No   Sun  Dinner     3  0.166587\n",
      "3         23.68  3.31     No   Sun  Dinner     2  0.139780\n",
      "4         24.59  3.61     No   Sun  Dinner     4  0.146808\n",
      "..          ...   ...    ...   ...     ...   ...       ...\n",
      "235       10.07  1.25     No   Sat  Dinner     2  0.124131\n",
      "238       35.83  4.67     No   Sat  Dinner     3  0.130338\n",
      "239       29.03  5.92     No   Sat  Dinner     3  0.203927\n",
      "242       17.82  1.75     No   Sat  Dinner     2  0.098204\n",
      "243       18.78  3.00     No  Thur  Dinner     2  0.159744\n",
      "\n",
      "[151 rows x 7 columns]\n",
      "进入top函数\n",
      "      total_bill   tip smoker  day    time  size   tip_pct\n",
      "56        38.01  3.00    Yes  Sat  Dinner     4  0.078927\n",
      "58        11.24  1.76    Yes  Sat  Dinner     2  0.156584\n",
      "60        20.29  3.21    Yes  Sat  Dinner     2  0.158206\n",
      "61        13.81  2.00    Yes  Sat  Dinner     2  0.144823\n",
      "62        11.02  1.98    Yes  Sat  Dinner     2  0.179673\n",
      "..          ...   ...    ...  ...     ...   ...       ...\n",
      "234       15.53  3.00    Yes  Sat  Dinner     2  0.193175\n",
      "236       12.60  1.00    Yes  Sat  Dinner     2  0.079365\n",
      "237       32.83  1.17    Yes  Sat  Dinner     2  0.035638\n",
      "240       27.18  2.00    Yes  Sat  Dinner     2  0.073584\n",
      "241       22.67  2.00    Yes  Sat  Dinner     2  0.088222\n",
      "\n",
      "[93 rows x 7 columns]\n"
     ]
    },
    {
     "data": {
      "text/plain": "            total_bill   tip smoker   day    time  size   tip_pct\nsmoker                                                           \nNo     88        24.71  5.85     No  Thur   Lunch     2  0.236746\n       185       20.69  5.00     No   Sun  Dinner     5  0.241663\n       51        10.29  2.60     No   Sun  Dinner     2  0.252672\n       149        7.51  2.00     No  Thur   Lunch     2  0.266312\n       232       11.61  3.39     No   Sat  Dinner     2  0.291990\nYes    109       14.31  4.00    Yes   Sat  Dinner     2  0.279525\n       183       23.17  6.50    Yes   Sun  Dinner     4  0.280535\n       67         3.07  1.00    Yes   Sat  Dinner     1  0.325733\n       178        9.60  4.00    Yes   Sun  Dinner     2  0.416667\n       172        7.25  5.15    Yes   Sun  Dinner     2  0.710345",
      "text/html": "<div>\n<style scoped>\n    .dataframe tbody tr th:only-of-type {\n        vertical-align: middle;\n    }\n\n    .dataframe tbody tr th {\n        vertical-align: top;\n    }\n\n    .dataframe thead th {\n        text-align: right;\n    }\n</style>\n<table border=\"1\" class=\"dataframe\">\n  <thead>\n    <tr style=\"text-align: right;\">\n      <th></th>\n      <th></th>\n      <th>total_bill</th>\n      <th>tip</th>\n      <th>smoker</th>\n      <th>day</th>\n      <th>time</th>\n      <th>size</th>\n      <th>tip_pct</th>\n    </tr>\n    <tr>\n      <th>smoker</th>\n      <th></th>\n      <th></th>\n      <th></th>\n      <th></th>\n      <th></th>\n      <th></th>\n      <th></th>\n      <th></th>\n    </tr>\n  </thead>\n  <tbody>\n    <tr>\n      <th rowspan=\"5\" valign=\"top\">No</th>\n      <th>88</th>\n      <td>24.71</td>\n      <td>5.85</td>\n      <td>No</td>\n      <td>Thur</td>\n      <td>Lunch</td>\n      <td>2</td>\n      <td>0.236746</td>\n    </tr>\n    <tr>\n      <th>185</th>\n      <td>20.69</td>\n      <td>5.00</td>\n      <td>No</td>\n      <td>Sun</td>\n      <td>Dinner</td>\n      <td>5</td>\n      <td>0.241663</td>\n    </tr>\n    <tr>\n      <th>51</th>\n      <td>10.29</td>\n      <td>2.60</td>\n      <td>No</td>\n      <td>Sun</td>\n      <td>Dinner</td>\n      <td>2</td>\n      <td>0.252672</td>\n    </tr>\n    <tr>\n      <th>149</th>\n      <td>7.51</td>\n      <td>2.00</td>\n      <td>No</td>\n      <td>Thur</td>\n      <td>Lunch</td>\n      <td>2</td>\n      <td>0.266312</td>\n    </tr>\n    <tr>\n      <th>232</th>\n      <td>11.61</td>\n      <td>3.39</td>\n      <td>No</td>\n      <td>Sat</td>\n      <td>Dinner</td>\n      <td>2</td>\n      <td>0.291990</td>\n    </tr>\n    <tr>\n      <th rowspan=\"5\" valign=\"top\">Yes</th>\n      <th>109</th>\n      <td>14.31</td>\n      <td>4.00</td>\n      <td>Yes</td>\n      <td>Sat</td>\n      <td>Dinner</td>\n      <td>2</td>\n      <td>0.279525</td>\n    </tr>\n    <tr>\n      <th>183</th>\n      <td>23.17</td>\n      <td>6.50</td>\n      <td>Yes</td>\n      <td>Sun</td>\n      <td>Dinner</td>\n      <td>4</td>\n      <td>0.280535</td>\n    </tr>\n    <tr>\n      <th>67</th>\n      <td>3.07</td>\n      <td>1.00</td>\n      <td>Yes</td>\n      <td>Sat</td>\n      <td>Dinner</td>\n      <td>1</td>\n      <td>0.325733</td>\n    </tr>\n    <tr>\n      <th>178</th>\n      <td>9.60</td>\n      <td>4.00</td>\n      <td>Yes</td>\n      <td>Sun</td>\n      <td>Dinner</td>\n      <td>2</td>\n      <td>0.416667</td>\n    </tr>\n    <tr>\n      <th>172</th>\n      <td>7.25</td>\n      <td>5.15</td>\n      <td>Yes</td>\n      <td>Sun</td>\n      <td>Dinner</td>\n      <td>2</td>\n      <td>0.710345</td>\n    </tr>\n  </tbody>\n</table>\n</div>"
     },
     "execution_count": 71,
     "metadata": {},
     "output_type": "execute_result"
    }
   ],
   "source": [
    "# 1. top函数在每一个分组上被调用\n",
    "# 2. 之后通过pandas.concat函数将返回结果粘贴在一起,并使用分组名作为各组的index(group_keys=True时)\n",
    "tips.groupby('smoker').apply(top)"
   ]
  },
  {
   "cell_type": "code",
   "execution_count": 72,
   "outputs": [
    {
     "data": {
      "text/plain": "            total_bill   tip smoker  day    time  size   tip_pct\nsmoker                                                          \nNo     0         16.99  1.01     No  Sun  Dinner     2  0.059447\n       1         10.34  1.66     No  Sun  Dinner     3  0.160542\n       2         21.01  3.50     No  Sun  Dinner     3  0.166587\n       3         23.68  3.31     No  Sun  Dinner     2  0.139780\n       4         24.59  3.61     No  Sun  Dinner     4  0.146808\n...                ...   ...    ...  ...     ...   ...       ...\nYes    234       15.53  3.00    Yes  Sat  Dinner     2  0.193175\n       236       12.60  1.00    Yes  Sat  Dinner     2  0.079365\n       237       32.83  1.17    Yes  Sat  Dinner     2  0.035638\n       240       27.18  2.00    Yes  Sat  Dinner     2  0.073584\n       241       22.67  2.00    Yes  Sat  Dinner     2  0.088222\n\n[244 rows x 7 columns]",
      "text/html": "<div>\n<style scoped>\n    .dataframe tbody tr th:only-of-type {\n        vertical-align: middle;\n    }\n\n    .dataframe tbody tr th {\n        vertical-align: top;\n    }\n\n    .dataframe thead th {\n        text-align: right;\n    }\n</style>\n<table border=\"1\" class=\"dataframe\">\n  <thead>\n    <tr style=\"text-align: right;\">\n      <th></th>\n      <th></th>\n      <th>total_bill</th>\n      <th>tip</th>\n      <th>smoker</th>\n      <th>day</th>\n      <th>time</th>\n      <th>size</th>\n      <th>tip_pct</th>\n    </tr>\n    <tr>\n      <th>smoker</th>\n      <th></th>\n      <th></th>\n      <th></th>\n      <th></th>\n      <th></th>\n      <th></th>\n      <th></th>\n      <th></th>\n    </tr>\n  </thead>\n  <tbody>\n    <tr>\n      <th rowspan=\"5\" valign=\"top\">No</th>\n      <th>0</th>\n      <td>16.99</td>\n      <td>1.01</td>\n      <td>No</td>\n      <td>Sun</td>\n      <td>Dinner</td>\n      <td>2</td>\n      <td>0.059447</td>\n    </tr>\n    <tr>\n      <th>1</th>\n      <td>10.34</td>\n      <td>1.66</td>\n      <td>No</td>\n      <td>Sun</td>\n      <td>Dinner</td>\n      <td>3</td>\n      <td>0.160542</td>\n    </tr>\n    <tr>\n      <th>2</th>\n      <td>21.01</td>\n      <td>3.50</td>\n      <td>No</td>\n      <td>Sun</td>\n      <td>Dinner</td>\n      <td>3</td>\n      <td>0.166587</td>\n    </tr>\n    <tr>\n      <th>3</th>\n      <td>23.68</td>\n      <td>3.31</td>\n      <td>No</td>\n      <td>Sun</td>\n      <td>Dinner</td>\n      <td>2</td>\n      <td>0.139780</td>\n    </tr>\n    <tr>\n      <th>4</th>\n      <td>24.59</td>\n      <td>3.61</td>\n      <td>No</td>\n      <td>Sun</td>\n      <td>Dinner</td>\n      <td>4</td>\n      <td>0.146808</td>\n    </tr>\n    <tr>\n      <th>...</th>\n      <th>...</th>\n      <td>...</td>\n      <td>...</td>\n      <td>...</td>\n      <td>...</td>\n      <td>...</td>\n      <td>...</td>\n      <td>...</td>\n    </tr>\n    <tr>\n      <th rowspan=\"5\" valign=\"top\">Yes</th>\n      <th>234</th>\n      <td>15.53</td>\n      <td>3.00</td>\n      <td>Yes</td>\n      <td>Sat</td>\n      <td>Dinner</td>\n      <td>2</td>\n      <td>0.193175</td>\n    </tr>\n    <tr>\n      <th>236</th>\n      <td>12.60</td>\n      <td>1.00</td>\n      <td>Yes</td>\n      <td>Sat</td>\n      <td>Dinner</td>\n      <td>2</td>\n      <td>0.079365</td>\n    </tr>\n    <tr>\n      <th>237</th>\n      <td>32.83</td>\n      <td>1.17</td>\n      <td>Yes</td>\n      <td>Sat</td>\n      <td>Dinner</td>\n      <td>2</td>\n      <td>0.035638</td>\n    </tr>\n    <tr>\n      <th>240</th>\n      <td>27.18</td>\n      <td>2.00</td>\n      <td>Yes</td>\n      <td>Sat</td>\n      <td>Dinner</td>\n      <td>2</td>\n      <td>0.073584</td>\n    </tr>\n    <tr>\n      <th>241</th>\n      <td>22.67</td>\n      <td>2.00</td>\n      <td>Yes</td>\n      <td>Sat</td>\n      <td>Dinner</td>\n      <td>2</td>\n      <td>0.088222</td>\n    </tr>\n  </tbody>\n</table>\n<p>244 rows × 7 columns</p>\n</div>"
     },
     "execution_count": 72,
     "metadata": {},
     "output_type": "execute_result"
    }
   ],
   "source": [
    "tips.groupby('smoker').apply(all)"
   ],
   "metadata": {
    "collapsed": false,
    "pycharm": {
     "name": "#%%\n"
    }
   }
  },
  {
   "cell_type": "code",
   "execution_count": 73,
   "metadata": {
    "pycharm": {
     "metadata": false,
     "name": "#%%\n"
    }
   },
   "outputs": [
    {
     "name": "stdout",
     "output_type": "stream",
     "text": [
      "进入top函数\n",
      "      total_bill   tip smoker   day    time  size   tip_pct\n",
      "0         16.99  1.01     No   Sun  Dinner     2  0.059447\n",
      "1         10.34  1.66     No   Sun  Dinner     3  0.160542\n",
      "2         21.01  3.50     No   Sun  Dinner     3  0.166587\n",
      "3         23.68  3.31     No   Sun  Dinner     2  0.139780\n",
      "4         24.59  3.61     No   Sun  Dinner     4  0.146808\n",
      "..          ...   ...    ...   ...     ...   ...       ...\n",
      "235       10.07  1.25     No   Sat  Dinner     2  0.124131\n",
      "238       35.83  4.67     No   Sat  Dinner     3  0.130338\n",
      "239       29.03  5.92     No   Sat  Dinner     3  0.203927\n",
      "242       17.82  1.75     No   Sat  Dinner     2  0.098204\n",
      "243       18.78  3.00     No  Thur  Dinner     2  0.159744\n",
      "\n",
      "[151 rows x 7 columns]\n",
      "进入top函数\n",
      "      total_bill   tip smoker  day    time  size   tip_pct\n",
      "56        38.01  3.00    Yes  Sat  Dinner     4  0.078927\n",
      "58        11.24  1.76    Yes  Sat  Dinner     2  0.156584\n",
      "60        20.29  3.21    Yes  Sat  Dinner     2  0.158206\n",
      "61        13.81  2.00    Yes  Sat  Dinner     2  0.144823\n",
      "62        11.02  1.98    Yes  Sat  Dinner     2  0.179673\n",
      "..          ...   ...    ...  ...     ...   ...       ...\n",
      "234       15.53  3.00    Yes  Sat  Dinner     2  0.193175\n",
      "236       12.60  1.00    Yes  Sat  Dinner     2  0.079365\n",
      "237       32.83  1.17    Yes  Sat  Dinner     2  0.035638\n",
      "240       27.18  2.00    Yes  Sat  Dinner     2  0.073584\n",
      "241       22.67  2.00    Yes  Sat  Dinner     2  0.088222\n",
      "\n",
      "[93 rows x 7 columns]\n"
     ]
    },
    {
     "data": {
      "text/plain": "     total_bill   tip smoker   day    time  size   tip_pct\n88        24.71  5.85     No  Thur   Lunch     2  0.236746\n185       20.69  5.00     No   Sun  Dinner     5  0.241663\n51        10.29  2.60     No   Sun  Dinner     2  0.252672\n149        7.51  2.00     No  Thur   Lunch     2  0.266312\n232       11.61  3.39     No   Sat  Dinner     2  0.291990\n109       14.31  4.00    Yes   Sat  Dinner     2  0.279525\n183       23.17  6.50    Yes   Sun  Dinner     4  0.280535\n67         3.07  1.00    Yes   Sat  Dinner     1  0.325733\n178        9.60  4.00    Yes   Sun  Dinner     2  0.416667\n172        7.25  5.15    Yes   Sun  Dinner     2  0.710345",
      "text/html": "<div>\n<style scoped>\n    .dataframe tbody tr th:only-of-type {\n        vertical-align: middle;\n    }\n\n    .dataframe tbody tr th {\n        vertical-align: top;\n    }\n\n    .dataframe thead th {\n        text-align: right;\n    }\n</style>\n<table border=\"1\" class=\"dataframe\">\n  <thead>\n    <tr style=\"text-align: right;\">\n      <th></th>\n      <th>total_bill</th>\n      <th>tip</th>\n      <th>smoker</th>\n      <th>day</th>\n      <th>time</th>\n      <th>size</th>\n      <th>tip_pct</th>\n    </tr>\n  </thead>\n  <tbody>\n    <tr>\n      <th>88</th>\n      <td>24.71</td>\n      <td>5.85</td>\n      <td>No</td>\n      <td>Thur</td>\n      <td>Lunch</td>\n      <td>2</td>\n      <td>0.236746</td>\n    </tr>\n    <tr>\n      <th>185</th>\n      <td>20.69</td>\n      <td>5.00</td>\n      <td>No</td>\n      <td>Sun</td>\n      <td>Dinner</td>\n      <td>5</td>\n      <td>0.241663</td>\n    </tr>\n    <tr>\n      <th>51</th>\n      <td>10.29</td>\n      <td>2.60</td>\n      <td>No</td>\n      <td>Sun</td>\n      <td>Dinner</td>\n      <td>2</td>\n      <td>0.252672</td>\n    </tr>\n    <tr>\n      <th>149</th>\n      <td>7.51</td>\n      <td>2.00</td>\n      <td>No</td>\n      <td>Thur</td>\n      <td>Lunch</td>\n      <td>2</td>\n      <td>0.266312</td>\n    </tr>\n    <tr>\n      <th>232</th>\n      <td>11.61</td>\n      <td>3.39</td>\n      <td>No</td>\n      <td>Sat</td>\n      <td>Dinner</td>\n      <td>2</td>\n      <td>0.291990</td>\n    </tr>\n    <tr>\n      <th>109</th>\n      <td>14.31</td>\n      <td>4.00</td>\n      <td>Yes</td>\n      <td>Sat</td>\n      <td>Dinner</td>\n      <td>2</td>\n      <td>0.279525</td>\n    </tr>\n    <tr>\n      <th>183</th>\n      <td>23.17</td>\n      <td>6.50</td>\n      <td>Yes</td>\n      <td>Sun</td>\n      <td>Dinner</td>\n      <td>4</td>\n      <td>0.280535</td>\n    </tr>\n    <tr>\n      <th>67</th>\n      <td>3.07</td>\n      <td>1.00</td>\n      <td>Yes</td>\n      <td>Sat</td>\n      <td>Dinner</td>\n      <td>1</td>\n      <td>0.325733</td>\n    </tr>\n    <tr>\n      <th>178</th>\n      <td>9.60</td>\n      <td>4.00</td>\n      <td>Yes</td>\n      <td>Sun</td>\n      <td>Dinner</td>\n      <td>2</td>\n      <td>0.416667</td>\n    </tr>\n    <tr>\n      <th>172</th>\n      <td>7.25</td>\n      <td>5.15</td>\n      <td>Yes</td>\n      <td>Sun</td>\n      <td>Dinner</td>\n      <td>2</td>\n      <td>0.710345</td>\n    </tr>\n  </tbody>\n</table>\n</div>"
     },
     "execution_count": 73,
     "metadata": {},
     "output_type": "execute_result"
    }
   ],
   "source": [
    "'''\n",
    "group_keysbool, default True\n",
    "    When calling apply, add group keys to index to identify pieces.\n",
    "'''\n",
    "tips.groupby('smoker', group_keys=False).apply(top)"
   ]
  },
  {
   "cell_type": "code",
   "execution_count": 74,
   "metadata": {
    "pycharm": {
     "metadata": false,
     "name": "#%%\n"
    }
   },
   "outputs": [
    {
     "name": "stdout",
     "output_type": "stream",
     "text": [
      "进入top函数\n",
      "      total_bill   tip smoker  day    time  size   tip_pct\n",
      "91        22.49  3.50     No  Fri  Dinner     2  0.155625\n",
      "94        22.75  3.25     No  Fri  Dinner     2  0.142857\n",
      "99        12.46  1.50     No  Fri  Dinner     2  0.120385\n",
      "223       15.98  3.00     No  Fri   Lunch     3  0.187735\n",
      "进入top函数\n",
      "      total_bill   tip smoker  day    time  size   tip_pct\n",
      "19        20.65  3.35     No  Sat  Dinner     3  0.162228\n",
      "20        17.92  4.08     No  Sat  Dinner     2  0.227679\n",
      "21        20.29  2.75     No  Sat  Dinner     2  0.135535\n",
      "22        15.77  2.23     No  Sat  Dinner     2  0.141408\n",
      "23        39.42  7.58     No  Sat  Dinner     4  0.192288\n",
      "24        19.82  3.18     No  Sat  Dinner     2  0.160444\n",
      "25        17.81  2.34     No  Sat  Dinner     4  0.131387\n",
      "26        13.37  2.00     No  Sat  Dinner     2  0.149589\n",
      "27        12.69  2.00     No  Sat  Dinner     2  0.157604\n",
      "28        21.70  4.30     No  Sat  Dinner     2  0.198157\n",
      "29        19.65  3.00     No  Sat  Dinner     2  0.152672\n",
      "30         9.55  1.45     No  Sat  Dinner     2  0.151832\n",
      "31        18.35  2.50     No  Sat  Dinner     4  0.136240\n",
      "32        15.06  3.00     No  Sat  Dinner     2  0.199203\n",
      "33        20.69  2.45     No  Sat  Dinner     4  0.118415\n",
      "34        17.78  3.27     No  Sat  Dinner     2  0.183915\n",
      "35        24.06  3.60     No  Sat  Dinner     3  0.149626\n",
      "36        16.31  2.00     No  Sat  Dinner     3  0.122624\n",
      "37        16.93  3.07     No  Sat  Dinner     3  0.181335\n",
      "38        18.69  2.31     No  Sat  Dinner     3  0.123596\n",
      "39        31.27  5.00     No  Sat  Dinner     3  0.159898\n",
      "40        16.04  2.24     No  Sat  Dinner     3  0.139651\n",
      "57        26.41  1.50     No  Sat  Dinner     2  0.056797\n",
      "59        48.27  6.73     No  Sat  Dinner     4  0.139424\n",
      "64        17.59  2.64     No  Sat  Dinner     3  0.150085\n",
      "65        20.08  3.15     No  Sat  Dinner     3  0.156873\n",
      "66        16.45  2.47     No  Sat  Dinner     2  0.150152\n",
      "68        20.23  2.01     No  Sat  Dinner     2  0.099357\n",
      "70        12.02  1.97     No  Sat  Dinner     2  0.163894\n",
      "71        17.07  3.00     No  Sat  Dinner     3  0.175747\n",
      "74        14.73  2.20     No  Sat  Dinner     2  0.149355\n",
      "75        10.51  1.25     No  Sat  Dinner     2  0.118934\n",
      "104       20.92  4.08     No  Sat  Dinner     2  0.195029\n",
      "108       18.24  3.76     No  Sat  Dinner     2  0.206140\n",
      "110       14.00  3.00     No  Sat  Dinner     2  0.214286\n",
      "111        7.25  1.00     No  Sat  Dinner     1  0.137931\n",
      "212       48.33  9.00     No  Sat  Dinner     4  0.186220\n",
      "227       20.45  3.00     No  Sat  Dinner     4  0.146699\n",
      "228       13.28  2.72     No  Sat  Dinner     2  0.204819\n",
      "232       11.61  3.39     No  Sat  Dinner     2  0.291990\n",
      "233       10.77  1.47     No  Sat  Dinner     2  0.136490\n",
      "235       10.07  1.25     No  Sat  Dinner     2  0.124131\n",
      "238       35.83  4.67     No  Sat  Dinner     3  0.130338\n",
      "239       29.03  5.92     No  Sat  Dinner     3  0.203927\n",
      "242       17.82  1.75     No  Sat  Dinner     2  0.098204\n",
      "进入top函数\n",
      "      total_bill   tip smoker  day    time  size   tip_pct\n",
      "0         16.99  1.01     No  Sun  Dinner     2  0.059447\n",
      "1         10.34  1.66     No  Sun  Dinner     3  0.160542\n",
      "2         21.01  3.50     No  Sun  Dinner     3  0.166587\n",
      "3         23.68  3.31     No  Sun  Dinner     2  0.139780\n",
      "4         24.59  3.61     No  Sun  Dinner     4  0.146808\n",
      "5         25.29  4.71     No  Sun  Dinner     4  0.186240\n",
      "6          8.77  2.00     No  Sun  Dinner     2  0.228050\n",
      "7         26.88  3.12     No  Sun  Dinner     4  0.116071\n",
      "8         15.04  1.96     No  Sun  Dinner     2  0.130319\n",
      "9         14.78  3.23     No  Sun  Dinner     2  0.218539\n",
      "10        10.27  1.71     No  Sun  Dinner     2  0.166504\n",
      "11        35.26  5.00     No  Sun  Dinner     4  0.141804\n",
      "12        15.42  1.57     No  Sun  Dinner     2  0.101816\n",
      "13        18.43  3.00     No  Sun  Dinner     4  0.162778\n",
      "14        14.83  3.02     No  Sun  Dinner     2  0.203641\n",
      "15        21.58  3.92     No  Sun  Dinner     2  0.181650\n",
      "16        10.33  1.67     No  Sun  Dinner     3  0.161665\n",
      "17        16.29  3.71     No  Sun  Dinner     3  0.227747\n",
      "18        16.97  3.50     No  Sun  Dinner     3  0.206246\n",
      "41        17.46  2.54     No  Sun  Dinner     2  0.145475\n",
      "42        13.94  3.06     No  Sun  Dinner     2  0.219512\n",
      "43         9.68  1.32     No  Sun  Dinner     2  0.136364\n",
      "44        30.40  5.60     No  Sun  Dinner     4  0.184211\n",
      "45        18.29  3.00     No  Sun  Dinner     2  0.164024\n",
      "46        22.23  5.00     No  Sun  Dinner     2  0.224921\n",
      "47        32.40  6.00     No  Sun  Dinner     4  0.185185\n",
      "48        28.55  2.05     No  Sun  Dinner     3  0.071804\n",
      "49        18.04  3.00     No  Sun  Dinner     2  0.166297\n",
      "50        12.54  2.50     No  Sun  Dinner     2  0.199362\n",
      "51        10.29  2.60     No  Sun  Dinner     2  0.252672\n",
      "52        34.81  5.20     No  Sun  Dinner     4  0.149382\n",
      "53         9.94  1.56     No  Sun  Dinner     2  0.156942\n",
      "54        25.56  4.34     No  Sun  Dinner     4  0.169797\n",
      "55        19.49  3.51     No  Sun  Dinner     2  0.180092\n",
      "112       38.07  4.00     No  Sun  Dinner     3  0.105070\n",
      "113       23.95  2.55     No  Sun  Dinner     2  0.106472\n",
      "114       25.71  4.00     No  Sun  Dinner     3  0.155581\n",
      "115       17.31  3.50     No  Sun  Dinner     2  0.202195\n",
      "116       29.93  5.07     No  Sun  Dinner     4  0.169395\n",
      "150       14.07  2.50     No  Sun  Dinner     2  0.177683\n",
      "151       13.13  2.00     No  Sun  Dinner     2  0.152323\n",
      "152       17.26  2.74     No  Sun  Dinner     3  0.158749\n",
      "153       24.55  2.00     No  Sun  Dinner     4  0.081466\n",
      "154       19.77  2.00     No  Sun  Dinner     4  0.101163\n",
      "155       29.85  5.14     No  Sun  Dinner     5  0.172194\n",
      "156       48.17  5.00     No  Sun  Dinner     6  0.103799\n",
      "157       25.00  3.75     No  Sun  Dinner     4  0.150000\n",
      "158       13.39  2.61     No  Sun  Dinner     2  0.194922\n",
      "159       16.49  2.00     No  Sun  Dinner     4  0.121286\n",
      "160       21.50  3.50     No  Sun  Dinner     4  0.162791\n",
      "161       12.66  2.50     No  Sun  Dinner     2  0.197472\n",
      "162       16.21  2.00     No  Sun  Dinner     3  0.123381\n",
      "163       13.81  2.00     No  Sun  Dinner     2  0.144823\n",
      "165       24.52  3.48     No  Sun  Dinner     3  0.141925\n",
      "166       20.76  2.24     No  Sun  Dinner     2  0.107900\n",
      "167       31.71  4.50     No  Sun  Dinner     4  0.141911\n",
      "185       20.69  5.00     No  Sun  Dinner     5  0.241663\n",
      "进入top函数\n",
      "      total_bill   tip smoker   day    time  size   tip_pct\n",
      "77        27.20  4.00     No  Thur   Lunch     4  0.147059\n",
      "78        22.76  3.00     No  Thur   Lunch     2  0.131810\n",
      "79        17.29  2.71     No  Thur   Lunch     2  0.156738\n",
      "81        16.66  3.40     No  Thur   Lunch     2  0.204082\n",
      "82        10.07  1.83     No  Thur   Lunch     1  0.181728\n",
      "84        15.98  2.03     No  Thur   Lunch     2  0.127034\n",
      "85        34.83  5.17     No  Thur   Lunch     4  0.148435\n",
      "86        13.03  2.00     No  Thur   Lunch     2  0.153492\n",
      "87        18.28  4.00     No  Thur   Lunch     2  0.218818\n",
      "88        24.71  5.85     No  Thur   Lunch     2  0.236746\n",
      "89        21.16  3.00     No  Thur   Lunch     2  0.141777\n",
      "117       10.65  1.50     No  Thur   Lunch     2  0.140845\n",
      "118       12.43  1.80     No  Thur   Lunch     2  0.144811\n",
      "119       24.08  2.92     No  Thur   Lunch     4  0.121262\n",
      "120       11.69  2.31     No  Thur   Lunch     2  0.197605\n",
      "121       13.42  1.68     No  Thur   Lunch     2  0.125186\n",
      "122       14.26  2.50     No  Thur   Lunch     2  0.175316\n",
      "123       15.95  2.00     No  Thur   Lunch     2  0.125392\n",
      "124       12.48  2.52     No  Thur   Lunch     2  0.201923\n",
      "125       29.80  4.20     No  Thur   Lunch     6  0.140940\n",
      "126        8.52  1.48     No  Thur   Lunch     2  0.173709\n",
      "127       14.52  2.00     No  Thur   Lunch     2  0.137741\n",
      "128       11.38  2.00     No  Thur   Lunch     2  0.175747\n",
      "129       22.82  2.18     No  Thur   Lunch     3  0.095530\n",
      "130       19.08  1.50     No  Thur   Lunch     2  0.078616\n",
      "131       20.27  2.83     No  Thur   Lunch     2  0.139615\n",
      "132       11.17  1.50     No  Thur   Lunch     2  0.134288\n",
      "133       12.26  2.00     No  Thur   Lunch     2  0.163132\n",
      "134       18.26  3.25     No  Thur   Lunch     2  0.177985\n",
      "135        8.51  1.25     No  Thur   Lunch     2  0.146886\n",
      "136       10.33  2.00     No  Thur   Lunch     2  0.193611\n",
      "137       14.15  2.00     No  Thur   Lunch     2  0.141343\n",
      "139       13.16  2.75     No  Thur   Lunch     2  0.208967\n",
      "140       17.47  3.50     No  Thur   Lunch     2  0.200343\n",
      "141       34.30  6.70     No  Thur   Lunch     6  0.195335\n",
      "142       41.19  5.00     No  Thur   Lunch     5  0.121389\n",
      "143       27.05  5.00     No  Thur   Lunch     6  0.184843\n",
      "144       16.43  2.30     No  Thur   Lunch     2  0.139988\n",
      "145        8.35  1.50     No  Thur   Lunch     2  0.179641\n",
      "146       18.64  1.36     No  Thur   Lunch     3  0.072961\n",
      "147       11.87  1.63     No  Thur   Lunch     2  0.137321\n",
      "148        9.78  1.73     No  Thur   Lunch     2  0.176892\n",
      "149        7.51  2.00     No  Thur   Lunch     2  0.266312\n",
      "195        7.56  1.44     No  Thur   Lunch     2  0.190476\n",
      "243       18.78  3.00     No  Thur  Dinner     2  0.159744\n",
      "进入top函数\n",
      "      total_bill   tip smoker  day    time  size   tip_pct\n",
      "90        28.97  3.00    Yes  Fri  Dinner     2  0.103555\n",
      "92         5.75  1.00    Yes  Fri  Dinner     2  0.173913\n",
      "93        16.32  4.30    Yes  Fri  Dinner     2  0.263480\n",
      "95        40.17  4.73    Yes  Fri  Dinner     4  0.117750\n",
      "96        27.28  4.00    Yes  Fri  Dinner     2  0.146628\n",
      "97        12.03  1.50    Yes  Fri  Dinner     2  0.124688\n",
      "98        21.01  3.00    Yes  Fri  Dinner     2  0.142789\n",
      "100       11.35  2.50    Yes  Fri  Dinner     2  0.220264\n",
      "101       15.38  3.00    Yes  Fri  Dinner     2  0.195059\n",
      "220       12.16  2.20    Yes  Fri   Lunch     2  0.180921\n",
      "221       13.42  3.48    Yes  Fri   Lunch     2  0.259314\n",
      "222        8.58  1.92    Yes  Fri   Lunch     1  0.223776\n",
      "224       13.42  1.58    Yes  Fri   Lunch     2  0.117735\n",
      "225       16.27  2.50    Yes  Fri   Lunch     2  0.153657\n",
      "226       10.09  2.00    Yes  Fri   Lunch     2  0.198216\n",
      "进入top函数\n",
      "      total_bill    tip smoker  day    time  size   tip_pct\n",
      "56        38.01   3.00    Yes  Sat  Dinner     4  0.078927\n",
      "58        11.24   1.76    Yes  Sat  Dinner     2  0.156584\n",
      "60        20.29   3.21    Yes  Sat  Dinner     2  0.158206\n",
      "61        13.81   2.00    Yes  Sat  Dinner     2  0.144823\n",
      "62        11.02   1.98    Yes  Sat  Dinner     2  0.179673\n",
      "63        18.29   3.76    Yes  Sat  Dinner     4  0.205577\n",
      "67         3.07   1.00    Yes  Sat  Dinner     1  0.325733\n",
      "69        15.01   2.09    Yes  Sat  Dinner     2  0.139241\n",
      "72        26.86   3.14    Yes  Sat  Dinner     2  0.116902\n",
      "73        25.28   5.00    Yes  Sat  Dinner     2  0.197785\n",
      "76        17.92   3.08    Yes  Sat  Dinner     2  0.171875\n",
      "102       44.30   2.50    Yes  Sat  Dinner     3  0.056433\n",
      "103       22.42   3.48    Yes  Sat  Dinner     2  0.155219\n",
      "105       15.36   1.64    Yes  Sat  Dinner     2  0.106771\n",
      "106       20.49   4.06    Yes  Sat  Dinner     2  0.198145\n",
      "107       25.21   4.29    Yes  Sat  Dinner     2  0.170171\n",
      "109       14.31   4.00    Yes  Sat  Dinner     2  0.279525\n",
      "168       10.59   1.61    Yes  Sat  Dinner     2  0.152030\n",
      "169       10.63   2.00    Yes  Sat  Dinner     2  0.188147\n",
      "170       50.81  10.00    Yes  Sat  Dinner     3  0.196812\n",
      "171       15.81   3.16    Yes  Sat  Dinner     2  0.199873\n",
      "206       26.59   3.41    Yes  Sat  Dinner     3  0.128244\n",
      "207       38.73   3.00    Yes  Sat  Dinner     4  0.077459\n",
      "208       24.27   2.03    Yes  Sat  Dinner     2  0.083642\n",
      "209       12.76   2.23    Yes  Sat  Dinner     2  0.174765\n",
      "210       30.06   2.00    Yes  Sat  Dinner     3  0.066534\n",
      "211       25.89   5.16    Yes  Sat  Dinner     4  0.199305\n",
      "213       13.27   2.50    Yes  Sat  Dinner     2  0.188395\n",
      "214       28.17   6.50    Yes  Sat  Dinner     3  0.230742\n",
      "215       12.90   1.10    Yes  Sat  Dinner     2  0.085271\n",
      "216       28.15   3.00    Yes  Sat  Dinner     5  0.106572\n",
      "217       11.59   1.50    Yes  Sat  Dinner     2  0.129422\n",
      "218        7.74   1.44    Yes  Sat  Dinner     2  0.186047\n",
      "219       30.14   3.09    Yes  Sat  Dinner     4  0.102522\n",
      "229       22.12   2.88    Yes  Sat  Dinner     2  0.130199\n",
      "230       24.01   2.00    Yes  Sat  Dinner     4  0.083299\n",
      "231       15.69   3.00    Yes  Sat  Dinner     3  0.191205\n",
      "234       15.53   3.00    Yes  Sat  Dinner     2  0.193175\n",
      "236       12.60   1.00    Yes  Sat  Dinner     2  0.079365\n",
      "237       32.83   1.17    Yes  Sat  Dinner     2  0.035638\n",
      "240       27.18   2.00    Yes  Sat  Dinner     2  0.073584\n",
      "241       22.67   2.00    Yes  Sat  Dinner     2  0.088222\n",
      "进入top函数\n",
      "      total_bill   tip smoker  day    time  size   tip_pct\n",
      "164       17.51  3.00    Yes  Sun  Dinner     2  0.171331\n",
      "172        7.25  5.15    Yes  Sun  Dinner     2  0.710345\n",
      "173       31.85  3.18    Yes  Sun  Dinner     2  0.099843\n",
      "174       16.82  4.00    Yes  Sun  Dinner     2  0.237812\n",
      "175       32.90  3.11    Yes  Sun  Dinner     2  0.094529\n",
      "176       17.89  2.00    Yes  Sun  Dinner     2  0.111794\n",
      "177       14.48  2.00    Yes  Sun  Dinner     2  0.138122\n",
      "178        9.60  4.00    Yes  Sun  Dinner     2  0.416667\n",
      "179       34.63  3.55    Yes  Sun  Dinner     2  0.102512\n",
      "180       34.65  3.68    Yes  Sun  Dinner     4  0.106205\n",
      "181       23.33  5.65    Yes  Sun  Dinner     2  0.242177\n",
      "182       45.35  3.50    Yes  Sun  Dinner     3  0.077178\n",
      "183       23.17  6.50    Yes  Sun  Dinner     4  0.280535\n",
      "184       40.55  3.00    Yes  Sun  Dinner     2  0.073983\n",
      "186       20.90  3.50    Yes  Sun  Dinner     3  0.167464\n",
      "187       30.46  2.00    Yes  Sun  Dinner     5  0.065660\n",
      "188       18.15  3.50    Yes  Sun  Dinner     3  0.192837\n",
      "189       23.10  4.00    Yes  Sun  Dinner     3  0.173160\n",
      "190       15.69  1.50    Yes  Sun  Dinner     2  0.095602\n",
      "进入top函数\n",
      "      total_bill   tip smoker   day   time  size   tip_pct\n",
      "80        19.44  3.00    Yes  Thur  Lunch     2  0.154321\n",
      "83        32.68  5.00    Yes  Thur  Lunch     2  0.152999\n",
      "138       16.00  2.00    Yes  Thur  Lunch     2  0.125000\n",
      "191       19.81  4.19    Yes  Thur  Lunch     2  0.211509\n",
      "192       28.44  2.56    Yes  Thur  Lunch     2  0.090014\n",
      "193       15.48  2.02    Yes  Thur  Lunch     2  0.130491\n",
      "194       16.58  4.00    Yes  Thur  Lunch     2  0.241255\n",
      "196       10.34  2.00    Yes  Thur  Lunch     2  0.193424\n",
      "197       43.11  5.00    Yes  Thur  Lunch     4  0.115982\n",
      "198       13.00  2.00    Yes  Thur  Lunch     2  0.153846\n",
      "199       13.51  2.00    Yes  Thur  Lunch     2  0.148038\n",
      "200       18.71  4.00    Yes  Thur  Lunch     3  0.213789\n",
      "201       12.74  2.01    Yes  Thur  Lunch     2  0.157771\n",
      "202       13.00  2.00    Yes  Thur  Lunch     2  0.153846\n",
      "203       16.40  2.50    Yes  Thur  Lunch     2  0.152439\n",
      "204       20.53  4.00    Yes  Thur  Lunch     4  0.194837\n",
      "205       16.47  3.23    Yes  Thur  Lunch     3  0.196114\n"
     ]
    },
    {
     "data": {
      "text/plain": "                 total_bill    tip smoker   day    time  size   tip_pct\nsmoker day                                                             \nNo     Fri  91        22.49   3.50     No   Fri  Dinner     2  0.155625\n            94        22.75   3.25     No   Fri  Dinner     2  0.142857\n       Sat  59        48.27   6.73     No   Sat  Dinner     4  0.139424\n            212       48.33   9.00     No   Sat  Dinner     4  0.186220\n       Sun  112       38.07   4.00     No   Sun  Dinner     3  0.105070\n            156       48.17   5.00     No   Sun  Dinner     6  0.103799\n       Thur 85        34.83   5.17     No  Thur   Lunch     4  0.148435\n            142       41.19   5.00     No  Thur   Lunch     5  0.121389\nYes    Fri  90        28.97   3.00    Yes   Fri  Dinner     2  0.103555\n            95        40.17   4.73    Yes   Fri  Dinner     4  0.117750\n       Sat  102       44.30   2.50    Yes   Sat  Dinner     3  0.056433\n            170       50.81  10.00    Yes   Sat  Dinner     3  0.196812\n       Sun  184       40.55   3.00    Yes   Sun  Dinner     2  0.073983\n            182       45.35   3.50    Yes   Sun  Dinner     3  0.077178\n       Thur 83        32.68   5.00    Yes  Thur   Lunch     2  0.152999\n            197       43.11   5.00    Yes  Thur   Lunch     4  0.115982",
      "text/html": "<div>\n<style scoped>\n    .dataframe tbody tr th:only-of-type {\n        vertical-align: middle;\n    }\n\n    .dataframe tbody tr th {\n        vertical-align: top;\n    }\n\n    .dataframe thead th {\n        text-align: right;\n    }\n</style>\n<table border=\"1\" class=\"dataframe\">\n  <thead>\n    <tr style=\"text-align: right;\">\n      <th></th>\n      <th></th>\n      <th></th>\n      <th>total_bill</th>\n      <th>tip</th>\n      <th>smoker</th>\n      <th>day</th>\n      <th>time</th>\n      <th>size</th>\n      <th>tip_pct</th>\n    </tr>\n    <tr>\n      <th>smoker</th>\n      <th>day</th>\n      <th></th>\n      <th></th>\n      <th></th>\n      <th></th>\n      <th></th>\n      <th></th>\n      <th></th>\n      <th></th>\n    </tr>\n  </thead>\n  <tbody>\n    <tr>\n      <th rowspan=\"8\" valign=\"top\">No</th>\n      <th rowspan=\"2\" valign=\"top\">Fri</th>\n      <th>91</th>\n      <td>22.49</td>\n      <td>3.50</td>\n      <td>No</td>\n      <td>Fri</td>\n      <td>Dinner</td>\n      <td>2</td>\n      <td>0.155625</td>\n    </tr>\n    <tr>\n      <th>94</th>\n      <td>22.75</td>\n      <td>3.25</td>\n      <td>No</td>\n      <td>Fri</td>\n      <td>Dinner</td>\n      <td>2</td>\n      <td>0.142857</td>\n    </tr>\n    <tr>\n      <th rowspan=\"2\" valign=\"top\">Sat</th>\n      <th>59</th>\n      <td>48.27</td>\n      <td>6.73</td>\n      <td>No</td>\n      <td>Sat</td>\n      <td>Dinner</td>\n      <td>4</td>\n      <td>0.139424</td>\n    </tr>\n    <tr>\n      <th>212</th>\n      <td>48.33</td>\n      <td>9.00</td>\n      <td>No</td>\n      <td>Sat</td>\n      <td>Dinner</td>\n      <td>4</td>\n      <td>0.186220</td>\n    </tr>\n    <tr>\n      <th rowspan=\"2\" valign=\"top\">Sun</th>\n      <th>112</th>\n      <td>38.07</td>\n      <td>4.00</td>\n      <td>No</td>\n      <td>Sun</td>\n      <td>Dinner</td>\n      <td>3</td>\n      <td>0.105070</td>\n    </tr>\n    <tr>\n      <th>156</th>\n      <td>48.17</td>\n      <td>5.00</td>\n      <td>No</td>\n      <td>Sun</td>\n      <td>Dinner</td>\n      <td>6</td>\n      <td>0.103799</td>\n    </tr>\n    <tr>\n      <th rowspan=\"2\" valign=\"top\">Thur</th>\n      <th>85</th>\n      <td>34.83</td>\n      <td>5.17</td>\n      <td>No</td>\n      <td>Thur</td>\n      <td>Lunch</td>\n      <td>4</td>\n      <td>0.148435</td>\n    </tr>\n    <tr>\n      <th>142</th>\n      <td>41.19</td>\n      <td>5.00</td>\n      <td>No</td>\n      <td>Thur</td>\n      <td>Lunch</td>\n      <td>5</td>\n      <td>0.121389</td>\n    </tr>\n    <tr>\n      <th rowspan=\"8\" valign=\"top\">Yes</th>\n      <th rowspan=\"2\" valign=\"top\">Fri</th>\n      <th>90</th>\n      <td>28.97</td>\n      <td>3.00</td>\n      <td>Yes</td>\n      <td>Fri</td>\n      <td>Dinner</td>\n      <td>2</td>\n      <td>0.103555</td>\n    </tr>\n    <tr>\n      <th>95</th>\n      <td>40.17</td>\n      <td>4.73</td>\n      <td>Yes</td>\n      <td>Fri</td>\n      <td>Dinner</td>\n      <td>4</td>\n      <td>0.117750</td>\n    </tr>\n    <tr>\n      <th rowspan=\"2\" valign=\"top\">Sat</th>\n      <th>102</th>\n      <td>44.30</td>\n      <td>2.50</td>\n      <td>Yes</td>\n      <td>Sat</td>\n      <td>Dinner</td>\n      <td>3</td>\n      <td>0.056433</td>\n    </tr>\n    <tr>\n      <th>170</th>\n      <td>50.81</td>\n      <td>10.00</td>\n      <td>Yes</td>\n      <td>Sat</td>\n      <td>Dinner</td>\n      <td>3</td>\n      <td>0.196812</td>\n    </tr>\n    <tr>\n      <th rowspan=\"2\" valign=\"top\">Sun</th>\n      <th>184</th>\n      <td>40.55</td>\n      <td>3.00</td>\n      <td>Yes</td>\n      <td>Sun</td>\n      <td>Dinner</td>\n      <td>2</td>\n      <td>0.073983</td>\n    </tr>\n    <tr>\n      <th>182</th>\n      <td>45.35</td>\n      <td>3.50</td>\n      <td>Yes</td>\n      <td>Sun</td>\n      <td>Dinner</td>\n      <td>3</td>\n      <td>0.077178</td>\n    </tr>\n    <tr>\n      <th rowspan=\"2\" valign=\"top\">Thur</th>\n      <th>83</th>\n      <td>32.68</td>\n      <td>5.00</td>\n      <td>Yes</td>\n      <td>Thur</td>\n      <td>Lunch</td>\n      <td>2</td>\n      <td>0.152999</td>\n    </tr>\n    <tr>\n      <th>197</th>\n      <td>43.11</td>\n      <td>5.00</td>\n      <td>Yes</td>\n      <td>Thur</td>\n      <td>Lunch</td>\n      <td>4</td>\n      <td>0.115982</td>\n    </tr>\n  </tbody>\n</table>\n</div>"
     },
     "execution_count": 74,
     "metadata": {},
     "output_type": "execute_result"
    }
   ],
   "source": [
    "tips.groupby(['smoker', 'day']).apply(top, n=2, columns='total_bill')  # 向apply中的函数传递参数"
   ]
  },
  {
   "cell_type": "code",
   "execution_count": 75,
   "metadata": {
    "pycharm": {
     "metadata": false,
     "name": "#%%\n"
    }
   },
   "outputs": [
    {
     "name": "stdout",
     "output_type": "stream",
     "text": [
      "        total_bill  tip smoker  day    time  size   tip_pct\n",
      "smoker                                                     \n",
      "No            7.25  1.0     No  Fri  Dinner     1  0.056797\n",
      "Yes           3.07  1.0    Yes  Fri  Dinner     1  0.035638\n",
      "\n",
      "        total_bill  tip  day    time  size   tip_pct\n",
      "smoker                                              \n",
      "No            7.25  1.0  Fri  Dinner     1  0.056797\n",
      "Yes           3.07  1.0  Fri  Dinner     1  0.035638\n",
      "\n",
      "        total_bill  tip  day    time  size   tip_pct\n",
      "smoker                                              \n",
      "No            7.25  1.0  Fri  Dinner     1  0.056797\n",
      "Yes           3.07  1.0  Fri  Dinner     1  0.035638\n"
     ]
    }
   ],
   "source": [
    "# 以下操作三者等价\n",
    "print(tips.groupby('smoker').apply(min), end='\\n\\n')  # 执行任何类型的操作\n",
    "print(tips.groupby('smoker').agg(min), end='\\n\\n')  # 仅支持聚合操作\n",
    "print(tips.groupby('smoker').min())"
   ]
  },
  {
   "cell_type": "code",
   "execution_count": 76,
   "outputs": [
    {
     "data": {
      "text/plain": "        data1     data2\n0   -2.157468 -0.704912\n1    1.069667  0.661405\n2   -1.126523 -0.767423\n3    0.123734 -0.154698\n4    3.274713  1.150124\n..        ...       ...\n995 -0.913001 -1.785711\n996 -0.249882  0.730409\n997  1.932937  1.006627\n998 -1.577074  1.877524\n999 -0.982304 -0.433382\n\n[1000 rows x 2 columns]",
      "text/html": "<div>\n<style scoped>\n    .dataframe tbody tr th:only-of-type {\n        vertical-align: middle;\n    }\n\n    .dataframe tbody tr th {\n        vertical-align: top;\n    }\n\n    .dataframe thead th {\n        text-align: right;\n    }\n</style>\n<table border=\"1\" class=\"dataframe\">\n  <thead>\n    <tr style=\"text-align: right;\">\n      <th></th>\n      <th>data1</th>\n      <th>data2</th>\n    </tr>\n  </thead>\n  <tbody>\n    <tr>\n      <th>0</th>\n      <td>-2.157468</td>\n      <td>-0.704912</td>\n    </tr>\n    <tr>\n      <th>1</th>\n      <td>1.069667</td>\n      <td>0.661405</td>\n    </tr>\n    <tr>\n      <th>2</th>\n      <td>-1.126523</td>\n      <td>-0.767423</td>\n    </tr>\n    <tr>\n      <th>3</th>\n      <td>0.123734</td>\n      <td>-0.154698</td>\n    </tr>\n    <tr>\n      <th>4</th>\n      <td>3.274713</td>\n      <td>1.150124</td>\n    </tr>\n    <tr>\n      <th>...</th>\n      <td>...</td>\n      <td>...</td>\n    </tr>\n    <tr>\n      <th>995</th>\n      <td>-0.913001</td>\n      <td>-1.785711</td>\n    </tr>\n    <tr>\n      <th>996</th>\n      <td>-0.249882</td>\n      <td>0.730409</td>\n    </tr>\n    <tr>\n      <th>997</th>\n      <td>1.932937</td>\n      <td>1.006627</td>\n    </tr>\n    <tr>\n      <th>998</th>\n      <td>-1.577074</td>\n      <td>1.877524</td>\n    </tr>\n    <tr>\n      <th>999</th>\n      <td>-0.982304</td>\n      <td>-0.433382</td>\n    </tr>\n  </tbody>\n</table>\n<p>1000 rows × 2 columns</p>\n</div>"
     },
     "execution_count": 76,
     "metadata": {},
     "output_type": "execute_result"
    }
   ],
   "source": [
    "frame = pd.DataFrame({'data1': np.random.randn(1000),\n",
    "                      'data2': np.random.randn(1000)})\n",
    "frame"
   ],
   "metadata": {
    "collapsed": false,
    "pycharm": {
     "name": "#%%\n"
    }
   }
  },
  {
   "cell_type": "code",
   "execution_count": 77,
   "outputs": [
    {
     "data": {
      "text/plain": "0      (-1.755, -0.192]\n1       (-0.192, 1.371]\n2      (-1.755, -0.192]\n3       (-0.192, 1.371]\n4       (-0.192, 1.371]\n             ...       \n995    (-3.325, -1.755]\n996     (-0.192, 1.371]\n997     (-0.192, 1.371]\n998      (1.371, 2.935]\n999    (-1.755, -0.192]\nName: data2, Length: 1000, dtype: category\nCategories (4, interval[float64]): [(-3.325, -1.755] < (-1.755, -0.192] < (-0.192, 1.371] < (1.371, 2.935]]"
     },
     "execution_count": 77,
     "metadata": {},
     "output_type": "execute_result"
    }
   ],
   "source": [
    "quartiles = pd.cut(frame.data2, 4)\n",
    "quartiles  # type为Series,dtype为CategoricalDtype"
   ],
   "metadata": {
    "collapsed": false,
    "pycharm": {
     "name": "#%%\n"
    }
   }
  },
  {
   "cell_type": "code",
   "execution_count": 78,
   "metadata": {
    "pycharm": {
     "metadata": false,
     "name": "#%%\n"
    }
   },
   "outputs": [
    {
     "name": "stdout",
     "output_type": "stream",
     "text": [
      "group: (-3.325, -1.755]\n",
      "40    -2.133764\n",
      "56    -1.890415\n",
      "62    -1.923920\n",
      "68    -3.318249\n",
      "81    -1.774097\n",
      "100   -1.999314\n",
      "141   -2.012679\n",
      "178   -2.217033\n",
      "211   -2.215852\n",
      "214   -1.911701\n",
      "220   -2.084584\n",
      "280   -1.894938\n",
      "299   -1.889618\n",
      "375   -2.519406\n",
      "404   -2.215310\n",
      "411   -1.835571\n",
      "418   -2.207127\n",
      "451   -1.983290\n",
      "474   -2.134787\n",
      "530   -1.904530\n",
      "553   -1.830285\n",
      "572   -1.833499\n",
      "586   -1.769397\n",
      "602   -2.219591\n",
      "615   -1.946827\n",
      "627   -1.963840\n",
      "687   -2.213256\n",
      "704   -1.895553\n",
      "713   -2.064381\n",
      "770   -2.766340\n",
      "779   -2.718295\n",
      "797   -2.645538\n",
      "799   -1.785607\n",
      "808   -2.146632\n",
      "818   -1.957637\n",
      "855   -1.993323\n",
      "865   -2.297382\n",
      "886   -1.775366\n",
      "890   -1.761016\n",
      "906   -1.846445\n",
      "937   -2.096788\n",
      "962   -2.111586\n",
      "975   -2.418506\n",
      "981   -1.806559\n",
      "985   -2.777270\n",
      "994   -2.138071\n",
      "995   -1.785711\n",
      "Name: data2, dtype: float64\n",
      "group: (-1.755, -0.192]\n",
      "0     -0.704912\n",
      "2     -0.767423\n",
      "5     -0.911764\n",
      "12    -1.015851\n",
      "13    -0.468884\n",
      "         ...   \n",
      "984   -0.450587\n",
      "986   -0.584489\n",
      "992   -0.886814\n",
      "993   -0.815149\n",
      "999   -0.433382\n",
      "Name: data2, Length: 412, dtype: float64\n",
      "group: (-0.192, 1.371]\n",
      "1      0.661405\n",
      "3     -0.154698\n",
      "4      1.150124\n",
      "6      0.354822\n",
      "7      0.144517\n",
      "         ...   \n",
      "988    0.163528\n",
      "989    0.235717\n",
      "991    0.106557\n",
      "996    0.730409\n",
      "997    1.006627\n",
      "Name: data2, Length: 467, dtype: float64\n",
      "group: (1.371, 2.935]\n",
      "9      2.089976\n",
      "10     2.231014\n",
      "32     2.512059\n",
      "33     1.553337\n",
      "37     2.289657\n",
      "         ...   \n",
      "955    2.148891\n",
      "971    1.889086\n",
      "979    1.458932\n",
      "990    1.973626\n",
      "998    1.877524\n",
      "Name: data2, Length: 74, dtype: float64\n"
     ]
    }
   ],
   "source": [
    "grouped = frame.data2.groupby(quartiles)\n",
    "\n",
    "for i, j in grouped:\n",
    "    print(\"group:\", i)\n",
    "    print(j)  # 属于分箱i内的样本"
   ]
  },
  {
   "cell_type": "code",
   "execution_count": 79,
   "outputs": [
    {
     "data": {
      "text/plain": "data2\n(-3.325, -1.755]   -2.098530\n(-1.755, -0.192]   -0.804760\n(-0.192, 1.371]     0.473684\n(1.371, 2.935]      1.833126\nName: data2, dtype: float64"
     },
     "execution_count": 79,
     "metadata": {},
     "output_type": "execute_result"
    }
   ],
   "source": [
    "grouped.mean()"
   ],
   "metadata": {
    "collapsed": false,
    "pycharm": {
     "name": "#%%\n"
    }
   }
  },
  {
   "cell_type": "code",
   "execution_count": 80,
   "metadata": {
    "pycharm": {
     "metadata": false,
     "name": "#%%\n"
    }
   },
   "outputs": [],
   "source": [
    "def get_stats(group):\n",
    "    return pd.Series({'min': group.min(), 'max': group.max(),\n",
    "                      'count': group.count(), 'mean': group.mean(), 'sum': np.sum(group)})"
   ]
  },
  {
   "cell_type": "code",
   "execution_count": 81,
   "metadata": {
    "pycharm": {
     "metadata": false,
     "name": "#%%\n"
    }
   },
   "outputs": [
    {
     "data": {
      "text/plain": "data2                  \n(-3.325, -1.755]  min       -3.318249\n                  max       -1.761016\n                  count     47.000000\n                  mean      -2.098530\n                  sum      -98.630887\n(-1.755, -0.192]  min       -1.752196\n                  max       -0.201530\n                  count    412.000000\n                  mean      -0.804760\n                  sum     -331.560990\n(-0.192, 1.371]   min       -0.191619\n                  max        1.369752\n                  count    467.000000\n                  mean       0.473684\n                  sum      221.210231\n(1.371, 2.935]    min        1.373182\n                  max        2.934609\n                  count     74.000000\n                  mean       1.833126\n                  sum      135.651352\nName: data2, dtype: float64"
     },
     "execution_count": 81,
     "metadata": {},
     "output_type": "execute_result"
    }
   ],
   "source": [
    "grouped.apply(get_stats)\n"
   ]
  }
 ],
 "metadata": {
  "kernelspec": {
   "display_name": "Python 3",
   "language": "python",
   "name": "python3"
  },
  "language_info": {
   "codemirror_mode": {
    "name": "ipython",
    "version": 3
   },
   "file_extension": ".py",
   "mimetype": "text/x-python",
   "name": "python",
   "nbconvert_exporter": "python",
   "pygments_lexer": "ipython3",
   "version": "3.7.9"
  },
  "toc": {
   "base_numbering": 1,
   "nav_menu": {},
   "number_sections": true,
   "sideBar": true,
   "skip_h1_title": false,
   "title_cell": "Table of Contents",
   "title_sidebar": "Contents",
   "toc_cell": false,
   "toc_position": {},
   "toc_section_display": true,
   "toc_window_display": false
  }
 },
 "nbformat": 4,
 "nbformat_minor": 1
}