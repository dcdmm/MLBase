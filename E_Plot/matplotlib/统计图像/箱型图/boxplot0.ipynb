{
 "cells": [
  {
   "cell_type": "code",
   "execution_count": null,
   "outputs": [],
   "source": [
    "import numpy as np\n",
    "import  pandas as pd\n",
    "import matplotlib.pyplot as plt"
   ],
   "metadata": {
    "collapsed": false,
    "pycharm": {
     "name": "#%%\n"
    }
   }
  },
  {
   "cell_type": "code",
   "execution_count": 5,
   "outputs": [
    {
     "name": "stdout",
     "text": [
      "<class 'dict'>\n<class 'matplotlib.lines.Line2D'>\n<class 'matplotlib.lines.Line2D'>\n<class 'matplotlib.lines.Line2D'>\n<class 'matplotlib.lines.Line2D'>\n<class 'matplotlib.lines.Line2D'>\n<class 'matplotlib.lines.Line2D'>\n<class 'matplotlib.lines.Line2D'>\n<class 'matplotlib.lines.Line2D'>\n<class 'matplotlib.lines.Line2D'>\n<class 'matplotlib.lines.Line2D'>\n"
     ],
     "output_type": "stream"
    },
    {
     "data": {
      "text/plain": "<Figure size 720x504 with 1 Axes>",
      "image/png": "[encoded data removed]"
     },
     "metadata": {},
     "output_type": "display_data"
    }
   ],
   "source": [
    "df = pd.DataFrame(np.random.rand(10, 5), columns=list('ABCDE'))\n",
    "fig = plt.figure(figsize=(10, 7))\n",
    "ax = plt.subplot(111)\n",
    "f = ax.boxplot(x=df, vert=True, whis=1.5,\n",
    "                patch_artist=True, notch=False,\n",
    "                meanline=False, showmeans=True,\n",
    "                showbox=True, showcaps=True,\n",
    "                showfliers=True, sym='o', labels=list('ABCDEabcde'))\n",
    "'''\n",
    "x:The input data\n",
    "vert:是否垂直，箱线图是横向的(False)还是竖向的(True)\n",
    "whis: IQR，默认1.5，也可以设置区间比如[5,95]，代表强制上下边缘为数据95%和5%位置\n",
    "patch_artist:上下四分位框内是否填充，True为填充\n",
    "notch:中间箱体是否缺口\n",
    "meanline:是否用线的形式表示均值，默认用点表示\n",
    "showmeans:是否显示均值，默认不显示\n",
    "showbox:是否显示箱线图的箱体\n",
    "showcaps:是否显示边缘线，箱线图顶端和末端的两条线默认显示\n",
    "showfliers:是否显示异常值\n",
    "sym:表示异常点的形状\n",
    "labels:Labels for each dataset. Length must be compatible with dimensions of x.\n",
    "'''\n",
    "for box in f['boxes']:\n",
    "    box.set( edgecolor='r', linewidth=1) #箱体边框颜色\n",
    "    box.set( facecolor = 'b' ,alpha=0.5) #箱体内部填充颜色\n",
    "for whisker in f['whiskers']:\n",
    "    whisker.set(color='g', linewidth=3,linestyle='-')\n",
    "for cap in f['caps']:\n",
    "    cap.set(color='b', linewidth=5, linestyle='-')\n",
    "for median in f['medians']:\n",
    "    median.set(color='black', linewidth=2, linestyle='-')\n",
    "for flier in f['fliers']:\n",
    "    flier.set(marker='v', markersize=20, markerfacecolor='red')\n",
    "    print(type(flier))\n",
    "for mean in f['means']:\n",
    "    #mean.set(color='red', linewidth=3) #用线的形式表示均值\n",
    "    mean.set(marker='v', markersize=20, markerfacecolor='pink') #用点的形式表示均值\n",
    "\n",
    "# boxes： 箱线\n",
    "# medians： 中位值的横线,\n",
    "# whiskers： 从box到error bar之间的竖线.\n",
    "# fliers： 异常值\n",
    "# caps： error bar横线\n",
    "# means： 均值的横线"
   ],
   "metadata": {
    "pycharm": {
     "metadata": false,
     "name": "#%%\n",
     "is_executing": false
    }
   }
  },
  {
   "cell_type": "code",
   "execution_count": null,
   "outputs": [],
   "source": "\n",
   "metadata": {
    "pycharm": {
     "metadata": false,
     "name": "#%%\n"
    }
   }
  }
 ],
 "metadata": {
  "language_info": {
   "codemirror_mode": {
    "name": "ipython",
    "version": 2
   },
   "file_extension": ".py",
   "mimetype": "text/x-python",
   "name": "python",
   "nbconvert_exporter": "python",
   "pygments_lexer": "ipython2",
   "version": "2.7.6"
  },
  "kernelspec": {
   "name": "python3",
   "language": "python",
   "display_name": "Python 3"
  },
  "stem_cell": {
   "cell_type": "raw",
   "source": "",
   "metadata": {
    "pycharm": {
     "metadata": false
    }
   }
  },
  "pycharm": {
   "stem_cell": {
    "cell_type": "raw",
    "source": [],
    "metadata": {
     "collapsed": false
    }
   }
  }
 },
 "nbformat": 4,
 "nbformat_minor": 0
}