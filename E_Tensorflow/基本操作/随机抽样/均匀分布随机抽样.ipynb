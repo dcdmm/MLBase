{
 "cells": [
  {
   "cell_type": "code",
   "execution_count": 31,
   "metadata": {
    "collapsed": true
   },
   "outputs": [],
   "source": [
    "import tensorflow as tf"
   ]
  },
  {
   "cell_type": "markdown",
   "source": [
    "#### 类似np.random.rand/np.random.uniform"
   ],
   "metadata": {
    "collapsed": false,
    "pycharm": {
     "name": "#%% md\n"
    }
   }
  },
  {
   "cell_type": "code",
   "execution_count": 32,
   "outputs": [
    {
     "data": {
      "text/plain": "<tf.Tensor: shape=(5, 3), dtype=float32, numpy=\narray([[-8.034458  , -7.1872354 , -0.89312744],\n       [-7.8683114 , -5.848024  , -3.8317251 ],\n       [ 4.978466  ,  8.122673  ,  2.6684551 ],\n       [-2.4291086 , -9.97999   , -6.7785645 ],\n       [-8.134853  , -6.4838934 , -6.320362  ]], dtype=float32)>"
     },
     "execution_count": 32,
     "metadata": {},
     "output_type": "execute_result"
    }
   ],
   "source": [
    "'''\n",
    "shape\tA 1-D integer Tensor or Python array. The shape of the output tensor.\n",
    "seed\tA shape [2] Tensor, the seed to the random number generator.\n",
    "        Must have dtype int32 or int64. (When using XLA, only int32 is allowed.)\n",
    "minval\tA Tensor or Python value of type dtype, broadcastable with shape (for integer types, broadcasting is not supported, so it needs to be a scalar).\n",
    "        The lower bound on the range of random values to generate. Pass None for full-range integers. Defaults to 0.\n",
    "maxval\tA Tensor or Python value of type dtype, broadcastable with shape (for integer types, broadcasting is not supported, so it needs to be a scalar).\n",
    "        The upper bound on the range of random values to generate. Defaults to 1 if dtype is floating point. Pass None for full-range integers.\n",
    "dtype\tThe type of the output: float16, float32, float64, int32, or int64.\n",
    "        For unbounded uniform ints (minval, maxval both None), uint32 and uint64 may be used\n",
    "'''\n",
    "tf.random.stateless_uniform(minval=-10,  # 均匀分布下限\n",
    "                            maxval=10,  # 均匀分布上限\n",
    "                            shape=(5, 3), seed=(1, 1),\n",
    "                            dtype=tf.float32)  # 默认dtype=dtypes.float32"
   ],
   "metadata": {
    "collapsed": false,
    "pycharm": {
     "name": "#%%\n"
    }
   }
  }
 ],
 "metadata": {
  "kernelspec": {
   "display_name": "Python 3",
   "language": "python",
   "name": "python3"
  },
  "language_info": {
   "codemirror_mode": {
    "name": "ipython",
    "version": 2
   },
   "file_extension": ".py",
   "mimetype": "text/x-python",
   "name": "python",
   "nbconvert_exporter": "python",
   "pygments_lexer": "ipython2",
   "version": "2.7.6"
  }
 },
 "nbformat": 4,
 "nbformat_minor": 0
}