{
 "cells": [
  {
   "cell_type": "code",
   "execution_count": 1,
   "id": "5da8c8b0-c47c-43e8-8467-459e98d75a44",
   "metadata": {},
   "outputs": [],
   "source": [
    "from tokenizers.implementations import BertWordPieceTokenizer\n",
    "from tokenizers.processors import TemplateProcessing\n",
    "from tokenizers.pre_tokenizers import Whitespace\n",
    "from transformers import PreTrainedTokenizerFast, BertConfig, BertForMaskedLM, DataCollatorForLanguageModeling\n",
    "import torch.utils.data as Data\n",
    "from transformers import Trainer, TrainingArguments"
   ]
  },
  {
   "cell_type": "code",
   "execution_count": 2,
   "id": "73232ab5-47e5-4221-af31-cd44d88f9f78",
   "metadata": {},
   "outputs": [
    {
     "name": "stdout",
     "output_type": "stream",
     "text": [
      "\n",
      "\n",
      "\n"
     ]
    }
   ],
   "source": [
    "tokenizer = BertWordPieceTokenizer()  # 分词器\n",
    "tokenizer.pre_tokenizer = Whitespace()\n",
    "\n",
    "\n",
    "files = [f\"wikitext-103-raw/wiki.{split}.raw\" for split in [\"test\", \"train\", \"valid\"]]\n",
    "tokenizer.train(files=files,\n",
    "                vocab_size=30000,\n",
    "                min_frequency=2,\n",
    "                special_tokens=[\"[UNK]\", \"[CLS]\", \"[SEP]\", \"[PAD]\", \"[MASK]\"])\n",
    "\n",
    "tokenizer.post_processor = TemplateProcessing(single=\"[CLS] $A [SEP]\",\n",
    "                                              pair=\"[CLS] $A [SEP] $B:1 [SEP]:1\",\n",
    "                                              special_tokens=[(\"[CLS]\", tokenizer.token_to_id(\"[CLS]\")),\n",
    "                                                              (\"[SEP]\", tokenizer.token_to_id(\"[SEP]\"))])\n",
    "\n",
    "# Enable the padding\n",
    "tokenizer.enable_padding(\n",
    "    pad_id=tokenizer.token_to_id('[PAD]'),  # The id to be used when padding\n",
    "    pad_token=\"[PAD]\",  # The pad token to be used when padding\n",
    "    pad_type_id=0)  # The type id to be used when padding\n",
    "\n",
    "# Enable truncation\n",
    "tokenizer.enable_truncation(\n",
    "    max_length=512)  # 截断的最大长度"
   ]
  },
  {
   "cell_type": "code",
   "execution_count": 3,
   "id": "6b9670a6-b890-48fd-b883-c0ab31b229ac",
   "metadata": {},
   "outputs": [],
   "source": [
    "tokenizer.save(\"tokenizer-wikitext-103.json\")"
   ]
  },
  {
   "cell_type": "code",
   "execution_count": 4,
   "id": "f2915d02-c131-4d89-9191-ce11f933d5eb",
   "metadata": {},
   "outputs": [
    {
     "data": {
      "text/plain": [
       "PreTrainedTokenizerFast(name_or_path='', vocab_size=30000, model_max_len=1000000000000000019884624838656, is_fast=True, padding_side='right', truncation_side='right', special_tokens={})"
      ]
     },
     "execution_count": 4,
     "metadata": {},
     "output_type": "execute_result"
    }
   ],
   "source": [
    "# 加载训练好的分词器\n",
    "tokenizer_fast = PreTrainedTokenizerFast(tokenizer_file='tokenizer-wikitext-103.json')\n",
    "tokenizer_fast"
   ]
  },
  {
   "cell_type": "code",
   "execution_count": 5,
   "id": "afa125ac-8f1f-479b-b7a3-fdb5d382a6e8",
   "metadata": {},
   "outputs": [
    {
     "data": {
      "text/plain": [
       "['[EOS]', '[SEP]', '[PAD]', '[CLS]', '[UNK]']"
      ]
     },
     "execution_count": 5,
     "metadata": {},
     "output_type": "execute_result"
    }
   ],
   "source": [
    "tokenizer_fast.add_special_tokens(special_tokens_dict={'eos_token': '[EOS]',\n",
    "                                                       'mask_token': '[UNK]',\n",
    "                                                       'pad_token': '[PAD]',\n",
    "                                                       'cls_token': '[CLS]',\n",
    "                                                       'sep_token': '[SEP]'})\n",
    "tokenizer_fast.all_special_tokens"
   ]
  },
  {
   "cell_type": "code",
   "execution_count": 6,
   "id": "4eef44f2-3a7d-485d-86b1-416ac8f3edff",
   "metadata": {},
   "outputs": [
    {
     "name": "stdout",
     "output_type": "stream",
     "text": [
      "3760\n",
      "2461\n",
      "2461\n",
      "dict_keys(['input_ids', 'attention_mask', 'token_type_ids'])\n"
     ]
    }
   ],
   "source": [
    "class LineByLineDataset(Data.Dataset):\n",
    "    \"\"\"读取与包装数据集\"\"\"\n",
    "\n",
    "    def __init__(self, tokenizer, file_path):\n",
    "        with open(file_path, encoding=\"utf-8\") as f:\n",
    "            data = f.readlines()\n",
    "            print(len(data))\n",
    "        data = [line.strip() for line in data if len(line) > 0 and not line.isspace()]\n",
    "        print(len(data))\n",
    "        batch_encoding = tokenizer(data, truncation=True, padding=\"max_length\", return_tensors='pt', max_length=512)  # 内存消耗过大\n",
    "\n",
    "        self.input_ids = batch_encoding['input_ids']\n",
    "        self.attention_mask = batch_encoding['attention_mask']\n",
    "        self.token_type_ids = batch_encoding['token_type_ids']\n",
    "\n",
    "    def __len__(self):\n",
    "        return len(self.input_ids)\n",
    "\n",
    "    def __getitem__(self, i):\n",
    "        return {'input_ids': self.input_ids[i],\n",
    "                'attention_mask': self.attention_mask[i],\n",
    "                'token_type_ids': self.token_type_ids[i]}\n",
    "\n",
    "\n",
    "lbld = LineByLineDataset(tokenizer_fast, files[2])\n",
    "print(len(lbld))\n",
    "\n",
    "for i in lbld:\n",
    "    print(i.keys())\n",
    "    break"
   ]
  },
  {
   "cell_type": "code",
   "execution_count": 7,
   "id": "8bc16c3d-a47d-48af-96f7-3fb5462684c9",
   "metadata": {},
   "outputs": [
    {
     "data": {
      "text/plain": [
       "DataCollatorForLanguageModeling(tokenizer=PreTrainedTokenizerFast(name_or_path='', vocab_size=30000, model_max_len=1000000000000000019884624838656, is_fast=True, padding_side='right', truncation_side='right', special_tokens={'eos_token': '[EOS]', 'sep_token': '[SEP]', 'pad_token': '[PAD]', 'cls_token': '[CLS]', 'mask_token': '[UNK]'}), mlm=True, mlm_probability=0.15, pad_to_multiple_of=None, tf_experimental_compile=False, return_tensors='pt')"
      ]
     },
     "execution_count": 7,
     "metadata": {},
     "output_type": "execute_result"
    }
   ],
   "source": [
    "# Data collator used for language modeling\n",
    "data_collator = DataCollatorForLanguageModeling(tokenizer=tokenizer_fast, mlm=True, mlm_probability=0.15)\n",
    "data_collator"
   ]
  },
  {
   "cell_type": "code",
   "execution_count": 8,
   "id": "ce60cf46-e42e-4f60-8aa6-dd37f26672d0",
   "metadata": {},
   "outputs": [
    {
     "name": "stdout",
     "output_type": "stream",
     "text": [
      "No of parameters:  81965648\n"
     ]
    }
   ],
   "source": [
    "config = BertConfig(\n",
    "    vocab_size=50000,\n",
    "    hidden_size=768,\n",
    "    num_hidden_layers=6,\n",
    "    num_attention_heads=12,\n",
    "    max_position_embeddings=512\n",
    ")\n",
    "\n",
    "model = BertForMaskedLM(config)\n",
    "print('No of parameters: ', model.num_parameters())"
   ]
  },
  {
   "cell_type": "code",
   "execution_count": 9,
   "id": "33564fcd-6318-4c5b-841f-f9f587fb4442",
   "metadata": {},
   "outputs": [
    {
     "name": "stderr",
     "output_type": "stream",
     "text": [
      "/root/miniconda3/envs/pytorch_env/lib/python3.8/site-packages/transformers/optimization.py:306: FutureWarning: This implementation of AdamW is deprecated and will be removed in a future version. Use the PyTorch implementation torch.optim.AdamW instead, or set `no_deprecation_warning=True` to disable this warning\n",
      "  warnings.warn(\n",
      "***** Running training *****\n",
      "  Num examples = 2461\n",
      "  Num Epochs = 5\n",
      "  Instantaneous batch size per device = 16\n",
      "  Total train batch size (w. parallel, distributed & accumulation) = 16\n",
      "  Gradient Accumulation steps = 1\n",
      "  Total optimization steps = 770\n"
     ]
    },
    {
     "data": {
      "text/html": [
       "\n",
       "    <div>\n",
       "      \n",
       "      <progress value='770' max='770' style='width:300px; height:20px; vertical-align: middle;'></progress>\n",
       "      [770/770 03:06, Epoch 5/5]\n",
       "    </div>\n",
       "    <table border=\"1\" class=\"dataframe\">\n",
       "  <thead>\n",
       " <tr style=\"text-align: left;\">\n",
       "      <th>Step</th>\n",
       "      <th>Training Loss</th>\n",
       "    </tr>\n",
       "  </thead>\n",
       "  <tbody>\n",
       "    <tr>\n",
       "      <td>500</td>\n",
       "      <td>7.413100</td>\n",
       "    </tr>\n",
       "  </tbody>\n",
       "</table><p>"
      ],
      "text/plain": [
       "<IPython.core.display.HTML object>"
      ]
     },
     "metadata": {},
     "output_type": "display_data"
    },
    {
     "name": "stderr",
     "output_type": "stream",
     "text": [
      "Saving model checkpoint to preTrained_Model/checkpoint-154\n",
      "Configuration saved in preTrained_Model/checkpoint-154/config.json\n",
      "Model weights saved in preTrained_Model/checkpoint-154/pytorch_model.bin\n",
      "tokenizer config file saved in preTrained_Model/checkpoint-154/tokenizer_config.json\n",
      "Special tokens file saved in preTrained_Model/checkpoint-154/special_tokens_map.json\n",
      "Saving model checkpoint to preTrained_Model/checkpoint-308\n",
      "Configuration saved in preTrained_Model/checkpoint-308/config.json\n",
      "Model weights saved in preTrained_Model/checkpoint-308/pytorch_model.bin\n",
      "tokenizer config file saved in preTrained_Model/checkpoint-308/tokenizer_config.json\n",
      "Special tokens file saved in preTrained_Model/checkpoint-308/special_tokens_map.json\n",
      "Saving model checkpoint to preTrained_Model/checkpoint-462\n",
      "Configuration saved in preTrained_Model/checkpoint-462/config.json\n",
      "Model weights saved in preTrained_Model/checkpoint-462/pytorch_model.bin\n",
      "tokenizer config file saved in preTrained_Model/checkpoint-462/tokenizer_config.json\n",
      "Special tokens file saved in preTrained_Model/checkpoint-462/special_tokens_map.json\n",
      "Saving model checkpoint to preTrained_Model/checkpoint-616\n",
      "Configuration saved in preTrained_Model/checkpoint-616/config.json\n",
      "Model weights saved in preTrained_Model/checkpoint-616/pytorch_model.bin\n",
      "tokenizer config file saved in preTrained_Model/checkpoint-616/tokenizer_config.json\n",
      "Special tokens file saved in preTrained_Model/checkpoint-616/special_tokens_map.json\n",
      "Saving model checkpoint to preTrained_Model/checkpoint-770\n",
      "Configuration saved in preTrained_Model/checkpoint-770/config.json\n",
      "Model weights saved in preTrained_Model/checkpoint-770/pytorch_model.bin\n",
      "tokenizer config file saved in preTrained_Model/checkpoint-770/tokenizer_config.json\n",
      "Special tokens file saved in preTrained_Model/checkpoint-770/special_tokens_map.json\n",
      "\n",
      "\n",
      "Training completed. Do not forget to share your model on huggingface.co/models =)\n",
      "\n",
      "\n"
     ]
    },
    {
     "data": {
      "text/plain": [
       "TrainOutput(global_step=770, training_loss=7.227665096134334, metrics={'train_runtime': 187.9602, 'train_samples_per_second': 65.466, 'train_steps_per_second': 4.097, 'total_flos': 1631901312860160.0, 'train_loss': 7.227665096134334, 'epoch': 5.0})"
      ]
     },
     "execution_count": 9,
     "metadata": {},
     "output_type": "execute_result"
    }
   ],
   "source": [
    "training_args = TrainingArguments(\n",
    "    output_dir='preTrained_Model',\n",
    "    overwrite_output_dir=True,\n",
    "    num_train_epochs=5,\n",
    "    per_device_train_batch_size=16,\n",
    "    save_strategy='epoch'\n",
    ")\n",
    "\n",
    "trainer = Trainer(\n",
    "    model=model,\n",
    "    args=training_args,\n",
    "    data_collator=data_collator,\n",
    "    train_dataset=lbld,\n",
    "    tokenizer=tokenizer_fast\n",
    ")\n",
    "\n",
    "trainer.train()"
   ]
  },
  {
   "cell_type": "code",
   "execution_count": 10,
   "id": "cd057300-8922-4875-a3c7-2449c02d97c5",
   "metadata": {},
   "outputs": [
    {
     "name": "stderr",
     "output_type": "stream",
     "text": [
      "Configuration saved in save_pretrained_model/config.json\n",
      "Model weights saved in save_pretrained_model/pytorch_model.bin\n"
     ]
    }
   ],
   "source": [
    "model.save_pretrained('save_pretrained_model/')"
   ]
  },
  {
   "cell_type": "code",
   "execution_count": null,
   "id": "1296eb35-8cab-4453-ae6b-eb826fcebddb",
   "metadata": {},
   "outputs": [],
   "source": []
  }
 ],
 "metadata": {
  "kernelspec": {
   "display_name": "Python [conda env:pytorch_env]",
   "language": "python",
   "name": "conda-env-pytorch_env-py"
  },
  "language_info": {
   "codemirror_mode": {
    "name": "ipython",
    "version": 3
   },
   "file_extension": ".py",
   "mimetype": "text/x-python",
   "name": "python",
   "nbconvert_exporter": "python",
   "pygments_lexer": "ipython3",
   "version": "3.8.12"
  }
 },
 "nbformat": 4,
 "nbformat_minor": 5
}
