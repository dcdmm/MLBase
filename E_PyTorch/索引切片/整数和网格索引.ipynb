{
 "cells": [
  {
   "cell_type": "code",
   "execution_count": 202,
   "outputs": [],
   "source": [
    "import torch"
   ],
   "metadata": {
    "collapsed": false,
    "pycharm": {
     "name": "#%%\n"
    }
   }
  },
  {
   "cell_type": "markdown",
   "source": [
    "### 参考numpy整数和网格索引"
   ],
   "metadata": {
    "collapsed": false,
    "pycharm": {
     "name": "#%% md\n"
    }
   }
  },
  {
   "cell_type": "code",
   "execution_count": 203,
   "metadata": {
    "collapsed": true
   },
   "outputs": [
    {
     "data": {
      "text/plain": "tensor([[ 0.,  0.,  0.,  0.],\n        [ 0.,  1.,  2.,  3.],\n        [ 0.,  2.,  4.,  6.],\n        [ 0.,  3.,  6.,  9.],\n        [ 0.,  4.,  8., 12.],\n        [ 0.,  5., 10., 15.],\n        [ 0.,  6., 12., 18.],\n        [ 0.,  7., 14., 21.]])"
     },
     "execution_count": 203,
     "metadata": {},
     "output_type": "execute_result"
    }
   ],
   "source": [
    "arr = torch.empty((8, 4))\n",
    "for i in range(8):\n",
    "    for j in range(4):\n",
    "        arr[i, j] = i * j\n",
    "arr"
   ]
  },
  {
   "cell_type": "markdown",
   "source": [
    "### 整数索引"
   ],
   "metadata": {
    "collapsed": false,
    "pycharm": {
     "name": "#%% md\n"
    }
   }
  },
  {
   "cell_type": "code",
   "execution_count": 204,
   "outputs": [
    {
     "data": {
      "text/plain": "tensor([[ 0.,  4.,  8., 12.],\n        [ 0.,  3.,  6.,  9.],\n        [ 0.,  0.,  0.,  0.],\n        [ 0.,  6., 12., 18.]])"
     },
     "execution_count": 204,
     "metadata": {},
     "output_type": "execute_result"
    }
   ],
   "source": [
    "arr[[4, 3, 0, 6]]  # ★★★★★索引index必须为列表"
   ],
   "metadata": {
    "collapsed": false,
    "pycharm": {
     "name": "#%%\n"
    }
   }
  },
  {
   "cell_type": "code",
   "execution_count": 205,
   "outputs": [
    {
     "data": {
      "text/plain": "tensor([[ 0.,  5., 10., 15.],\n        [ 0.,  3.,  6.,  9.],\n        [ 0.,  1.,  2.,  3.]])"
     },
     "execution_count": 205,
     "metadata": {},
     "output_type": "execute_result"
    }
   ],
   "source": [
    "arr[[-3, -5, -7]]  # 且支持负数索引"
   ],
   "metadata": {
    "collapsed": false,
    "pycharm": {
     "name": "#%%\n"
    }
   }
  },
  {
   "cell_type": "code",
   "execution_count": 206,
   "outputs": [
    {
     "data": {
      "text/plain": "tensor([[ 0.,  0.,  0.],\n        [ 3.,  2.,  0.],\n        [ 6.,  4.,  0.],\n        [ 9.,  6.,  0.],\n        [12.,  8.,  0.],\n        [15., 10.,  0.],\n        [18., 12.,  0.],\n        [21., 14.,  0.]])"
     },
     "execution_count": 206,
     "metadata": {},
     "output_type": "execute_result"
    }
   ],
   "source": [
    "arr[:, [-1, -2, 0]]  # 对第一个维度进行索引"
   ],
   "metadata": {
    "collapsed": false,
    "pycharm": {
     "name": "#%%\n"
    }
   }
  },
  {
   "cell_type": "code",
   "execution_count": 207,
   "outputs": [
    {
     "data": {
      "text/plain": "tensor([[ 0.,  4.,  8., 12.],\n        [ 0.,  3.,  6.,  9.],\n        [ 0.,  0.,  0.,  0.],\n        [ 0.,  6., 12., 18.]])"
     },
     "execution_count": 207,
     "metadata": {},
     "output_type": "execute_result"
    }
   ],
   "source": [
    "s = arr[[4, 3, 0, 6]]\n",
    "s"
   ],
   "metadata": {
    "collapsed": false,
    "pycharm": {
     "name": "#%%\n"
    }
   }
  },
  {
   "cell_type": "code",
   "execution_count": 208,
   "outputs": [
    {
     "data": {
      "text/plain": "tensor([[100., 100., 100., 100.],\n        [100., 100., 100., 100.],\n        [100., 100., 100., 100.],\n        [100., 100., 100., 100.]])"
     },
     "execution_count": 208,
     "metadata": {},
     "output_type": "execute_result"
    }
   ],
   "source": [
    "s[:] = 100\n",
    "s"
   ],
   "metadata": {
    "collapsed": false,
    "pycharm": {
     "name": "#%%\n"
    }
   }
  },
  {
   "cell_type": "code",
   "execution_count": 209,
   "outputs": [
    {
     "data": {
      "text/plain": "tensor([[ 0.,  0.,  0.,  0.],\n        [ 0.,  1.,  2.,  3.],\n        [ 0.,  2.,  4.,  6.],\n        [ 0.,  3.,  6.,  9.],\n        [ 0.,  4.,  8., 12.],\n        [ 0.,  5., 10., 15.],\n        [ 0.,  6., 12., 18.],\n        [ 0.,  7., 14., 21.]])"
     },
     "execution_count": 209,
     "metadata": {},
     "output_type": "execute_result"
    }
   ],
   "source": [
    "# 整数索引和基本索引切片的区别:\n",
    "# 基本索引切片只能对连续行(or/and)列进行索引,整数索引可以对任意位置的行(or/and)列进行索引\n",
    "# 整数索引总是将数据复制到一个新的数组中\n",
    "arr  # ★★★★★整数索引下此方式不能修改原数组"
   ],
   "metadata": {
    "collapsed": false,
    "pycharm": {
     "name": "#%%\n"
    }
   }
  },
  {
   "cell_type": "code",
   "execution_count": 210,
   "outputs": [
    {
     "data": {
      "text/plain": "tensor([[100., 100., 100., 100.],\n        [  0.,   1.,   2.,   3.],\n        [  0.,   2.,   4.,   6.],\n        [100., 100., 100., 100.],\n        [100., 100., 100., 100.],\n        [  0.,   5.,  10.,  15.],\n        [100., 100., 100., 100.],\n        [  0.,   7.,  14.,  21.]])"
     },
     "execution_count": 210,
     "metadata": {},
     "output_type": "execute_result"
    }
   ],
   "source": [
    "arr[[4, 3, 0, 6]] = 100  # ★★★★★直接对整数索引进行赋值\n",
    "arr  # arr改变"
   ],
   "metadata": {
    "collapsed": false,
    "pycharm": {
     "name": "#%%\n"
    }
   }
  },
  {
   "cell_type": "code",
   "execution_count": 211,
   "outputs": [
    {
     "data": {
      "text/plain": "tensor([[ 0,  1,  2,  3],\n        [ 4,  5,  6,  7],\n        [ 8,  9, 10, 11],\n        [12, 13, 14, 15],\n        [16, 17, 18, 19],\n        [20, 21, 22, 23],\n        [24, 25, 26, 27],\n        [28, 29, 30, 31]])"
     },
     "execution_count": 211,
     "metadata": {},
     "output_type": "execute_result"
    }
   ],
   "source": [
    "arr0 = torch.arange(32).reshape((8, 4))\n",
    "arr0"
   ],
   "metadata": {
    "collapsed": false,
    "pycharm": {
     "name": "#%%\n"
    }
   }
  },
  {
   "cell_type": "code",
   "execution_count": 212,
   "outputs": [
    {
     "data": {
      "text/plain": "tensor([[ 4,  7,  5,  6],\n        [20, 23, 21, 22],\n        [28, 31, 29, 30],\n        [ 8, 11,  9, 10]])"
     },
     "execution_count": 212,
     "metadata": {},
     "output_type": "execute_result"
    }
   ],
   "source": [
    "# 选取行索引为(1, 5, 7, 2)和列索引为(0, 3, 1, 2)组成的数据矩阵(两次整数索引)\n",
    "arr0[[1, 5, 7, 2]][:, [0, 3, 1, 2]]"
   ],
   "metadata": {
    "collapsed": false,
    "pycharm": {
     "name": "#%%\n"
    }
   }
  },
  {
   "cell_type": "code",
   "execution_count": 213,
   "outputs": [
    {
     "data": {
      "text/plain": "tensor([[ 0,  1,  2,  3],\n        [ 4,  5,  6,  7],\n        [ 8,  9, 10, 11],\n        [12, 13, 14, 15],\n        [16, 17, 18, 19],\n        [20, 21, 22, 23],\n        [24, 25, 26, 27],\n        [28, 29, 30, 31]])"
     },
     "execution_count": 213,
     "metadata": {},
     "output_type": "execute_result"
    }
   ],
   "source": [
    "arr0[[1, 5, 7, 2]][:, [0, 3, 1, 2]] = 111111\n",
    "arr0  # arr不变,如何解决?"
   ],
   "metadata": {
    "collapsed": false,
    "pycharm": {
     "name": "#%%\n"
    }
   }
  },
  {
   "cell_type": "code",
   "execution_count": 214,
   "outputs": [
    {
     "data": {
      "text/plain": "tensor([[     0,      1,      2,      3],\n        [333333, 333333, 333333, 333333],\n        [333333, 333333, 333333, 333333],\n        [    12,     13,     14,     15],\n        [    16,     17,     18,     19],\n        [333333, 333333, 333333, 333333],\n        [    24,     25,     26,     27],\n        [333333, 333333, 333333, 333333]])"
     },
     "execution_count": 214,
     "metadata": {},
     "output_type": "execute_result"
    }
   ],
   "source": [
    "# 解决方法如下:\n",
    "row = [1, 5, 7, 2]\n",
    "columns = [0, 3, 1, 2]\n",
    "for k in row:\n",
    "    s = arr0[k]\n",
    "    s[columns] = 333333  # 间接赋值\n",
    "arr0"
   ],
   "metadata": {
    "collapsed": false,
    "pycharm": {
     "name": "#%%\n"
    }
   }
  },
  {
   "cell_type": "markdown",
   "source": [
    "### 网格索引"
   ],
   "metadata": {
    "collapsed": false,
    "pycharm": {
     "name": "#%% md\n"
    }
   }
  },
  {
   "cell_type": "code",
   "execution_count": 215,
   "outputs": [
    {
     "data": {
      "text/plain": "tensor([[ 0,  1,  2,  3],\n        [ 4,  5,  6,  7],\n        [ 8,  9, 10, 11],\n        [12, 13, 14, 15],\n        [16, 17, 18, 19],\n        [20, 21, 22, 23],\n        [24, 25, 26, 27],\n        [28, 29, 30, 31]])"
     },
     "execution_count": 215,
     "metadata": {},
     "output_type": "execute_result"
    }
   ],
   "source": [
    "arr1 = torch.arange(32).reshape((8, 4))\n",
    "arr1"
   ],
   "metadata": {
    "collapsed": false,
    "pycharm": {
     "name": "#%%\n"
    }
   }
  },
  {
   "cell_type": "code",
   "execution_count": 216,
   "outputs": [
    {
     "data": {
      "text/plain": "tensor([ 4, 23, 29, 10])"
     },
     "execution_count": 216,
     "metadata": {},
     "output_type": "execute_result"
    }
   ],
   "source": [
    "arr1[[1, 5, 7, 2], [0, 3, 1, 2]]  # 选取索引为(1, 0),(5, 3),(7, 1),(2, 2)处的元素值"
   ],
   "metadata": {
    "collapsed": false,
    "pycharm": {
     "name": "#%%\n"
    }
   }
  },
  {
   "cell_type": "code",
   "execution_count": 217,
   "outputs": [
    {
     "data": {
      "text/plain": "tensor([[    0,     1,     2,     3],\n        [11111,     5,     6,     7],\n        [    8,     9, 11111,    11],\n        [   12,    13,    14,    15],\n        [   16,    17,    18,    19],\n        [   20,    21,    22, 11111],\n        [   24,    25,    26,    27],\n        [   28, 11111,    30,    31]])"
     },
     "execution_count": 217,
     "metadata": {},
     "output_type": "execute_result"
    }
   ],
   "source": [
    "arr1[[1, 5, 7, 2], [0, 3, 1, 2]] = 11111  # 与整数索引同理\n",
    "arr1  # arr改变"
   ],
   "metadata": {
    "collapsed": false,
    "pycharm": {
     "name": "#%%\n"
    }
   }
  },
  {
   "cell_type": "code",
   "execution_count": 217,
   "outputs": [],
   "source": [],
   "metadata": {
    "collapsed": false,
    "pycharm": {
     "name": "#%%\n"
    }
   }
  }
 ],
 "metadata": {
  "kernelspec": {
   "display_name": "Python 3",
   "language": "python",
   "name": "python3"
  },
  "language_info": {
   "codemirror_mode": {
    "name": "ipython",
    "version": 2
   },
   "file_extension": ".py",
   "mimetype": "text/x-python",
   "name": "python",
   "nbconvert_exporter": "python",
   "pygments_lexer": "ipython2",
   "version": "2.7.6"
  }
 },
 "nbformat": 4,
 "nbformat_minor": 0
}