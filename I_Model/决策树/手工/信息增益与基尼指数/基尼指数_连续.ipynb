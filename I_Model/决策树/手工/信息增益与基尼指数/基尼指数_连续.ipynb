{
 "cells": [
  {
   "cell_type": "code",
   "execution_count": 3,
   "outputs": [],
   "source": [
    "import numpy as np\n",
    "import matplotlib.pyplot as plt\n",
    "from sklearn import datasets\n",
    "from sklearn.tree import DecisionTreeClassifier\n",
    "from matplotlib.colors import ListedColormap\n",
    "from Info_gainOrGini  import Info_gainOrGini"
   ],
   "metadata": {
    "collapsed": false,
    "pycharm": {
     "name": "#%%\n",
     "is_executing": false
    }
   }
  },
  {
   "cell_type": "code",
   "execution_count": 4,
   "outputs": [
    {
     "data": {
      "text/plain": "array([[1.4, 0.2],\n       [1.4, 0.2],\n       [1.3, 0.2],\n       [1.5, 0.2],\n       [1.4, 0.2],\n       [1.7, 0.4],\n       [1.4, 0.3],\n       [1.5, 0.2],\n       [1.4, 0.2],\n       [1.5, 0.1],\n       [1.5, 0.2],\n       [1.6, 0.2],\n       [1.4, 0.1],\n       [1.1, 0.1],\n       [1.2, 0.2]])"
     },
     "metadata": {},
     "output_type": "execute_result",
     "execution_count": 4
    }
   ],
   "source": [
    "iris = datasets.load_iris() # 鸢尾花数据集 \n",
    "X = iris.data[:, 2:]\n",
    "y = iris.target\n",
    "X[:15, :]"
   ],
   "metadata": {
    "collapsed": false,
    "pycharm": {
     "name": "#%%\n",
     "is_executing": false
    }
   }
  },
  {
   "cell_type": "code",
   "execution_count": 5,
   "outputs": [
    {
     "data": {
      "text/plain": "DecisionTreeClassifier(class_weight=None, criterion='entropy', max_depth=4,\n                       max_features=None, max_leaf_nodes=None,\n                       min_impurity_decrease=0.0, min_impurity_split=None,\n                       min_samples_leaf=1, min_samples_split=2,\n                       min_weight_fraction_leaf=0.0, presort=False,\n                       random_state=42, splitter='best')"
     },
     "metadata": {},
     "output_type": "execute_result",
     "execution_count": 5
    }
   ],
   "source": [
    "dt_clf = DecisionTreeClassifier(max_depth=4, # 树的最大深度\n",
    "                                criterion=\"entropy\", # The function to measure the quality of a split. \n",
    "                                random_state=42)\n",
    "dt_clf.fit(X, y)"
   ],
   "metadata": {
    "collapsed": false,
    "pycharm": {
     "name": "#%%\n",
     "is_executing": false
    }
   }
  },
  {
   "cell_type": "code",
   "execution_count": 6,
   "outputs": [],
   "source": [
    "def plot_decision_boundary(model, axis):\n",
    "    \"\"\"绘制决策边界\"\"\"\n",
    "    x0, x1 = np.meshgrid(\n",
    "        np.linspace(axis[0], axis[1], int((axis[1]-axis[0])*100)).reshape(-1, 1),\n",
    "        np.linspace(axis[2], axis[3], int((axis[3]-axis[2])*100)).reshape(-1, 1))\n",
    "    X_new = np.c_[x0.ravel(), x1.ravel()]\n",
    "    y_predict = model.predict(X_new)\n",
    "    zz = y_predict.reshape(x0.shape)    \n",
    "    custom_cmap = ListedColormap(['#EF9A9A','#FFF59D','#90CAF9'])     \n",
    "    plt.contourf(x0, x1, zz, cmap=custom_cmap)\n",
    "    plt.contour(x0, x1, zz, colors='black', linewidths=1)"
   ],
   "metadata": {
    "collapsed": false,
    "pycharm": {
     "name": "#%%\n",
     "is_executing": false
    }
   }
  },
  {
   "cell_type": "code",
   "execution_count": 7,
   "outputs": [
    {
     "data": {
      "text/plain": "<Figure size 432x288 with 1 Axes>",
      "image/png": "[encoded data removed]"
     },
     "metadata": {
      "needs_background": "light"
     },
     "output_type": "display_data"
    }
   ],
   "source": [
    "plot_decision_boundary(dt_clf, axis=[0.5, 7.5, 0, 3])\n",
    "plt.scatter(X[y==0,0], X[y==0,1])\n",
    "plt.scatter(X[y==1,0], X[y==1,1])\n",
    "plt.scatter(X[y==2,0], X[y==2,1])\n",
    "plt.show()"
   ],
   "metadata": {
    "collapsed": false,
    "pycharm": {
     "name": "#%%\n",
     "is_executing": false
    }
   }
  },
  {
   "cell_type": "code",
   "execution_count": 8,
   "outputs": [
    {
     "name": "stdout",
     "text": [
      "criterion =gini\n",
      "best_g = 0.3333333333333333\n",
      "best_d = 0\n",
      "best_v = 2.45\n",
      "\n",
      "best_g = 0.11030595813204513\n",
      "best_d = 1\n",
      "best_v = 1.75\n",
      "\n",
      "best_g = 0.0856481481481482\n",
      "best_d = 0\n",
      "best_v = 4.95\n",
      "\n",
      "best_g = 0.2222222222222222\n",
      "best_d = 1\n",
      "best_v = 1.55\n",
      "\n"
     ],
     "output_type": "stream"
    }
   ],
   "source": [
    "my_tree = Info_gainOrGini(4, criterion='gini') # 定义树的深度为4\n",
    "my_tree.fit(X, y) # 与使用criterion='entropy'基本相同"
   ],
   "metadata": {
    "collapsed": false,
    "pycharm": {
     "name": "#%%\n",
     "is_executing": false
    }
   }
  }
 ],
 "metadata": {
  "kernelspec": {
   "display_name": "Python 3",
   "language": "python",
   "name": "python3"
  },
  "language_info": {
   "codemirror_mode": {
    "name": "ipython",
    "version": 2
   },
   "file_extension": ".py",
   "mimetype": "text/x-python",
   "name": "python",
   "nbconvert_exporter": "python",
   "pygments_lexer": "ipython2",
   "version": "2.7.6"
  },
  "pycharm": {
   "stem_cell": {
    "cell_type": "raw",
    "source": [],
    "metadata": {
     "collapsed": false
    }
   }
  }
 },
 "nbformat": 4,
 "nbformat_minor": 0
}