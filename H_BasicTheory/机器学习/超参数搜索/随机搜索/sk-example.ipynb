{
 "cells": [
  {
   "cell_type": "code",
   "execution_count": 11,
   "metadata": {
    "collapsed": true
   },
   "outputs": [],
   "source": [
    "from lightgbm import LGBMClassifier\n",
    "from sklearn import datasets\n",
    "from sklearn.model_selection import train_test_split\n",
    "import numpy as np\n",
    "from sklearn.preprocessing import OrdinalEncoder\n",
    "from sklearn.model_selection import RandomizedSearchCV\n",
    "from sklearn.metrics import log_loss, make_scorer"
   ]
  },
  {
   "cell_type": "code",
   "execution_count": 12,
   "outputs": [
    {
     "name": "stdout",
     "output_type": "stream",
     "text": [
      "(2700, 54) (2700,)\n",
      "[1 2 3 4 5 6 7]\n"
     ]
    }
   ],
   "source": [
    "X = datasets.fetch_covtype().data[:3000]\n",
    "y = datasets.fetch_covtype().target[:3000]\n",
    "X_train, X_test, y_train, y_test = train_test_split(X, y, test_size=0.1)\n",
    "\n",
    "print(X_train.shape, y_train.shape)\n",
    "print(np.unique(y_train))  # 7分类任务"
   ],
   "metadata": {
    "collapsed": false,
    "pycharm": {
     "name": "#%%\n"
    }
   }
  },
  {
   "cell_type": "code",
   "execution_count": 13,
   "outputs": [
    {
     "name": "stdout",
     "output_type": "stream",
     "text": [
      "[0. 1. 2. 3. 4. 5. 6.]\n",
      "(2700,)\n"
     ]
    }
   ],
   "source": [
    "enc = OrdinalEncoder()\n",
    "y_train_enc = enc.fit_transform(y_train.reshape(-1, 1)).reshape(-1, )\n",
    "y_test_enc = enc.transform(y_test.reshape(-1, 1)).reshape(-1, )\n",
    "\n",
    "print(np.unique(y_train_enc))\n",
    "print(y_train_enc.shape)"
   ],
   "metadata": {
    "collapsed": false,
    "pycharm": {
     "name": "#%%\n"
    }
   }
  },
  {
   "cell_type": "code",
   "execution_count": 14,
   "outputs": [
    {
     "data": {
      "text/plain": "RandomizedSearchCV(cv=5, estimator=LGBMClassifier(), n_iter=20, n_jobs=-1,\n                   param_distributions={'max_depth': [1, 2, 3, 4, 5, 6, -1],\n                                        'min_child_samples': [15, 16, 17, 18,\n                                                              19, 20, 21, 22,\n                                                              23, 24],\n                                        'reg_alpha': array([0.        , 0.05263158, 0.10526316, 0.15789474, 0.21052632,\n       0.26315789, 0.31578947, 0.36842105, 0.42105263, 0.47368421,\n       0.52631579, 0.57894737, 0.63157895, 0.68421053, 0.73684211,\n       0.78947368, 0.84210526, 0.89473684, 0.94736842, 1.        ]),\n                                        'subsample': array([0.5       , 0.52631579, 0.55263158, 0.57894737, 0.60526316,\n       0.63157895, 0.65789474, 0.68421053, 0.71052632, 0.73684211,\n       0.76315789, 0.78947368, 0.81578947, 0.84210526, 0.86842105,\n       0.89473684, 0.92105263, 0.94736842, 0.97368421, 1.        ])},\n                   random_state=2,\n                   scoring=<function my_custom_loss_func at 0x000001EA76AD40D0>)"
     },
     "execution_count": 14,
     "metadata": {},
     "output_type": "execute_result"
    }
   ],
   "source": [
    "def my_custom_loss_func(clf, X, y):\n",
    "    y_pred = clf.predict_proba(X)\n",
    "    return log_loss(y, y_pred)\n",
    "\n",
    "\n",
    "model = LGBMClassifier(n_jobs=-1)\n",
    "param_dist = dict(reg_alpha=np.linspace(0, 1, 20),\n",
    "                  subsample=np.linspace(0.5, 1.0, 20),\n",
    "                  max_depth=[1, 2, 3, 4, 5, 6, -1],\n",
    "                  min_child_samples=[15, 16, 17, 18, 19, 20, 21, 22, 23, 24])\n",
    "\n",
    "random_search = RandomizedSearchCV(model,  # 需要超参数搜索的取值\n",
    "                                   param_distributions=param_dist,\n",
    "                                   # Number of parameter settings that are sampled. n_iter trades off runtime vs quality of the solution.\n",
    "                                   n_iter=20,\n",
    "                                   scoring=my_custom_loss_func,\n",
    "                                   cv=5,\n",
    "                                   random_state=2,\n",
    "                                   n_jobs=-1)\n",
    "random_search.fit(X_train, y_train_enc)"
   ],
   "metadata": {
    "collapsed": false,
    "pycharm": {
     "name": "#%%\n"
    }
   }
  },
  {
   "cell_type": "code",
   "execution_count": 15,
   "outputs": [
    {
     "data": {
      "text/plain": "{'subsample': 0.8421052631578947,\n 'reg_alpha': 0.9473684210526315,\n 'min_child_samples': 21,\n 'max_depth': 1}"
     },
     "execution_count": 15,
     "metadata": {},
     "output_type": "execute_result"
    }
   ],
   "source": [
    "random_search.best_params_"
   ],
   "metadata": {
    "collapsed": false,
    "pycharm": {
     "name": "#%%\n"
    }
   }
  },
  {
   "cell_type": "code",
   "execution_count": 16,
   "outputs": [
    {
     "data": {
      "text/plain": "0.6418380752755029"
     },
     "execution_count": 16,
     "metadata": {},
     "output_type": "execute_result"
    }
   ],
   "source": [
    "random_search.best_score_"
   ],
   "metadata": {
    "collapsed": false,
    "pycharm": {
     "name": "#%%\n"
    }
   }
  },
  {
   "cell_type": "code",
   "execution_count": 17,
   "outputs": [
    {
     "data": {
      "text/plain": "LGBMClassifier(max_depth=1, min_child_samples=21, reg_alpha=0.9473684210526315,\n               subsample=0.8421052631578947)"
     },
     "execution_count": 17,
     "metadata": {},
     "output_type": "execute_result"
    }
   ],
   "source": [
    "random_search.best_estimator_"
   ],
   "metadata": {
    "collapsed": false,
    "pycharm": {
     "name": "#%%\n"
    }
   }
  }
 ],
 "metadata": {
  "kernelspec": {
   "display_name": "Python 3",
   "language": "python",
   "name": "python3"
  },
  "language_info": {
   "codemirror_mode": {
    "name": "ipython",
    "version": 2
   },
   "file_extension": ".py",
   "mimetype": "text/x-python",
   "name": "python",
   "nbconvert_exporter": "python",
   "pygments_lexer": "ipython2",
   "version": "2.7.6"
  }
 },
 "nbformat": 4,
 "nbformat_minor": 0
}