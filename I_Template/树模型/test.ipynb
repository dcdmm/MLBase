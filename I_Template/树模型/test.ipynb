{
 "cells": [
  {
   "cell_type": "code",
   "execution_count": 65,
   "metadata": {
    "collapsed": true,
    "pycharm": {
     "name": "#%%\n"
    }
   },
   "outputs": [],
   "source": [
    "from sklearn import datasets\n",
    "from sklearn.model_selection import train_test_split\n",
    "from lightgbm import LGBMClassifier\n",
    "from catboost import CatBoostClassifier\n",
    "from xgboost import XGBClassifier\n",
    "from model import MyXgbLgbCat\n",
    "from sklearn.model_selection import KFold\n",
    "import numpy as np\n",
    "from sklearn.preprocessing import OrdinalEncoder\n",
    "%run model.py"
   ]
  },
  {
   "cell_type": "code",
   "execution_count": 66,
   "outputs": [],
   "source": [
    "X = datasets.fetch_covtype().data[:3000]\n",
    "y = datasets.fetch_covtype().target[:3000]  # 多分类任务\n",
    "X_train, X_test, y_train, y_test = train_test_split(X, y)"
   ],
   "metadata": {
    "collapsed": false,
    "pycharm": {
     "name": "#%%\n"
    }
   }
  },
  {
   "cell_type": "code",
   "execution_count": 67,
   "outputs": [
    {
     "data": {
      "text/plain": "array([0., 1., 2., 3., 4., 5., 6.])"
     },
     "execution_count": 67,
     "metadata": {},
     "output_type": "execute_result"
    }
   ],
   "source": [
    "enc = OrdinalEncoder()\n",
    "y_train_new = enc.fit_transform(y_train.reshape(-1, 1))\n",
    "np.unique(y_train_new)"
   ],
   "metadata": {
    "collapsed": false,
    "pycharm": {
     "name": "#%%\n"
    }
   }
  },
  {
   "cell_type": "code",
   "execution_count": 68,
   "outputs": [
    {
     "data": {
      "text/plain": "array([[0.],\n       [1.],\n       [4.],\n       [0.],\n       [0.],\n       [6.],\n       [1.],\n       [4.],\n       [4.],\n       [6.],\n       [1.],\n       [5.],\n       [2.],\n       [2.],\n       [0.],\n       [2.],\n       [4.],\n       [2.],\n       [4.],\n       [4.],\n       [4.],\n       [1.],\n       [5.],\n       [1.],\n       [2.],\n       [0.],\n       [1.],\n       [0.],\n       [1.],\n       [1.],\n       [1.],\n       [4.],\n       [1.],\n       [0.],\n       [5.],\n       [5.],\n       [1.],\n       [0.],\n       [4.],\n       [5.],\n       [1.],\n       [4.],\n       [5.],\n       [0.],\n       [1.],\n       [1.],\n       [5.],\n       [0.],\n       [2.],\n       [5.],\n       [1.],\n       [0.],\n       [4.],\n       [4.],\n       [6.],\n       [5.],\n       [3.],\n       [1.],\n       [0.],\n       [2.],\n       [0.],\n       [2.],\n       [4.],\n       [0.],\n       [1.],\n       [4.],\n       [4.],\n       [0.],\n       [4.],\n       [0.],\n       [1.],\n       [4.],\n       [1.],\n       [6.],\n       [2.],\n       [4.],\n       [0.],\n       [1.],\n       [1.],\n       [4.],\n       [1.],\n       [4.],\n       [0.],\n       [1.],\n       [0.],\n       [1.],\n       [3.],\n       [3.],\n       [1.],\n       [4.],\n       [1.],\n       [0.],\n       [4.],\n       [4.],\n       [4.],\n       [0.],\n       [3.],\n       [0.],\n       [4.],\n       [4.],\n       [1.],\n       [1.],\n       [6.],\n       [1.],\n       [1.],\n       [2.],\n       [4.],\n       [1.],\n       [1.],\n       [4.],\n       [0.],\n       [4.],\n       [5.],\n       [2.],\n       [1.],\n       [6.],\n       [2.],\n       [6.],\n       [5.],\n       [5.],\n       [3.],\n       [5.],\n       [0.],\n       [4.],\n       [5.],\n       [4.],\n       [4.],\n       [6.],\n       [3.],\n       [4.],\n       [1.],\n       [4.],\n       [1.],\n       [4.],\n       [4.],\n       [1.],\n       [5.],\n       [1.],\n       [1.],\n       [5.],\n       [1.],\n       [0.],\n       [6.],\n       [3.],\n       [2.],\n       [0.],\n       [4.],\n       [4.],\n       [3.],\n       [5.],\n       [3.],\n       [0.],\n       [1.],\n       [6.],\n       [5.],\n       [1.],\n       [4.],\n       [0.],\n       [2.],\n       [1.],\n       [1.],\n       [4.],\n       [1.],\n       [4.],\n       [1.],\n       [3.],\n       [0.],\n       [2.],\n       [1.],\n       [1.],\n       [1.],\n       [1.],\n       [0.],\n       [0.],\n       [4.],\n       [5.],\n       [4.],\n       [0.],\n       [1.],\n       [4.],\n       [6.],\n       [0.],\n       [0.],\n       [4.],\n       [6.],\n       [1.],\n       [6.],\n       [4.],\n       [0.],\n       [2.],\n       [4.],\n       [3.],\n       [0.],\n       [5.],\n       [2.],\n       [5.],\n       [4.],\n       [2.],\n       [5.],\n       [1.],\n       [4.],\n       [3.],\n       [2.],\n       [1.],\n       [1.],\n       [1.],\n       [6.],\n       [0.],\n       [5.],\n       [5.],\n       [2.],\n       [1.],\n       [3.],\n       [4.],\n       [6.],\n       [4.],\n       [1.],\n       [5.],\n       [3.],\n       [1.],\n       [1.],\n       [4.],\n       [1.],\n       [3.],\n       [0.],\n       [4.],\n       [1.],\n       [1.],\n       [1.],\n       [1.],\n       [4.],\n       [4.],\n       [2.],\n       [1.],\n       [1.],\n       [0.],\n       [4.],\n       [4.],\n       [5.],\n       [0.],\n       [1.],\n       [4.],\n       [4.],\n       [1.],\n       [4.],\n       [1.],\n       [1.],\n       [1.],\n       [1.],\n       [1.],\n       [6.],\n       [5.],\n       [0.],\n       [4.],\n       [1.],\n       [1.],\n       [0.],\n       [4.],\n       [4.],\n       [4.],\n       [0.],\n       [4.],\n       [2.],\n       [1.],\n       [6.],\n       [5.],\n       [2.],\n       [1.],\n       [1.],\n       [1.],\n       [4.],\n       [4.],\n       [0.],\n       [1.],\n       [2.],\n       [4.],\n       [4.],\n       [1.],\n       [2.],\n       [0.],\n       [0.],\n       [4.],\n       [4.],\n       [1.],\n       [5.],\n       [2.],\n       [1.],\n       [2.],\n       [1.],\n       [1.],\n       [4.],\n       [0.],\n       [3.],\n       [4.],\n       [1.],\n       [1.],\n       [4.],\n       [4.],\n       [4.],\n       [6.],\n       [3.],\n       [5.],\n       [4.],\n       [0.],\n       [1.],\n       [4.],\n       [5.],\n       [1.],\n       [5.],\n       [4.],\n       [4.],\n       [1.],\n       [4.],\n       [4.],\n       [1.],\n       [4.],\n       [1.],\n       [1.],\n       [1.],\n       [0.],\n       [1.],\n       [0.],\n       [1.],\n       [0.],\n       [1.],\n       [0.],\n       [1.],\n       [5.],\n       [0.],\n       [4.],\n       [1.],\n       [4.],\n       [3.],\n       [1.],\n       [1.],\n       [1.],\n       [4.],\n       [2.],\n       [0.],\n       [4.],\n       [1.],\n       [4.],\n       [0.],\n       [0.],\n       [1.],\n       [5.],\n       [1.],\n       [4.],\n       [1.],\n       [5.],\n       [6.],\n       [4.],\n       [4.],\n       [0.],\n       [1.],\n       [4.],\n       [1.],\n       [5.],\n       [6.],\n       [1.],\n       [0.],\n       [2.],\n       [5.],\n       [1.],\n       [0.],\n       [1.],\n       [4.],\n       [4.],\n       [4.],\n       [1.],\n       [2.],\n       [3.],\n       [0.],\n       [4.],\n       [0.],\n       [4.],\n       [1.],\n       [4.],\n       [1.],\n       [6.],\n       [3.],\n       [4.],\n       [1.],\n       [4.],\n       [4.],\n       [1.],\n       [4.],\n       [5.],\n       [4.],\n       [0.],\n       [1.],\n       [1.],\n       [1.],\n       [0.],\n       [6.],\n       [5.],\n       [4.],\n       [4.],\n       [1.],\n       [0.],\n       [4.],\n       [4.],\n       [2.],\n       [1.],\n       [0.],\n       [0.],\n       [3.],\n       [1.],\n       [5.],\n       [4.],\n       [1.],\n       [3.],\n       [5.],\n       [5.],\n       [6.],\n       [4.],\n       [3.],\n       [6.],\n       [0.],\n       [1.],\n       [4.],\n       [5.],\n       [3.],\n       [4.],\n       [1.],\n       [1.],\n       [2.],\n       [3.],\n       [4.],\n       [1.],\n       [0.],\n       [1.],\n       [1.],\n       [4.],\n       [0.],\n       [0.],\n       [1.],\n       [1.],\n       [4.],\n       [4.],\n       [4.],\n       [3.],\n       [1.],\n       [0.],\n       [1.],\n       [1.],\n       [4.],\n       [1.],\n       [0.],\n       [1.],\n       [4.],\n       [4.],\n       [1.],\n       [3.],\n       [1.],\n       [0.],\n       [5.],\n       [5.],\n       [4.],\n       [0.],\n       [4.],\n       [4.],\n       [0.],\n       [5.],\n       [2.],\n       [0.],\n       [5.],\n       [2.],\n       [1.],\n       [1.],\n       [0.],\n       [5.],\n       [0.],\n       [2.],\n       [4.],\n       [1.],\n       [1.],\n       [2.],\n       [4.],\n       [5.],\n       [1.],\n       [1.],\n       [1.],\n       [4.],\n       [5.],\n       [2.],\n       [2.],\n       [4.],\n       [1.],\n       [0.],\n       [1.],\n       [2.],\n       [1.],\n       [0.],\n       [4.],\n       [1.],\n       [4.],\n       [0.],\n       [0.],\n       [1.],\n       [1.],\n       [4.],\n       [1.],\n       [0.],\n       [0.],\n       [1.],\n       [6.],\n       [1.],\n       [4.],\n       [6.],\n       [5.],\n       [4.],\n       [1.],\n       [4.],\n       [4.],\n       [2.],\n       [1.],\n       [1.],\n       [1.],\n       [0.],\n       [1.],\n       [4.],\n       [6.],\n       [4.],\n       [6.],\n       [4.],\n       [3.],\n       [3.],\n       [1.],\n       [1.],\n       [5.],\n       [4.],\n       [1.],\n       [4.],\n       [1.],\n       [0.],\n       [0.],\n       [5.],\n       [0.],\n       [0.],\n       [4.],\n       [4.],\n       [1.],\n       [0.],\n       [4.],\n       [3.],\n       [3.],\n       [5.],\n       [6.],\n       [4.],\n       [4.],\n       [4.],\n       [1.],\n       [4.],\n       [4.],\n       [2.],\n       [4.],\n       [4.],\n       [5.],\n       [0.],\n       [1.],\n       [1.],\n       [6.],\n       [1.],\n       [6.],\n       [4.],\n       [6.],\n       [4.],\n       [4.],\n       [1.],\n       [4.],\n       [4.],\n       [0.],\n       [4.],\n       [5.],\n       [4.],\n       [3.],\n       [0.],\n       [1.],\n       [2.],\n       [4.],\n       [0.],\n       [0.],\n       [4.],\n       [4.],\n       [4.],\n       [4.],\n       [4.],\n       [1.],\n       [3.],\n       [4.],\n       [1.],\n       [1.],\n       [1.],\n       [1.],\n       [1.],\n       [5.],\n       [0.],\n       [5.],\n       [4.],\n       [5.],\n       [1.],\n       [0.],\n       [0.],\n       [1.],\n       [1.],\n       [2.],\n       [1.],\n       [1.],\n       [2.],\n       [1.],\n       [4.],\n       [4.],\n       [4.],\n       [6.],\n       [2.],\n       [1.],\n       [1.],\n       [0.],\n       [4.],\n       [4.],\n       [1.],\n       [1.],\n       [0.],\n       [2.],\n       [1.],\n       [3.],\n       [6.],\n       [4.],\n       [2.],\n       [5.],\n       [0.],\n       [6.],\n       [1.],\n       [0.],\n       [1.],\n       [4.],\n       [0.],\n       [4.],\n       [5.],\n       [4.],\n       [1.],\n       [1.],\n       [4.],\n       [4.],\n       [0.],\n       [1.],\n       [2.],\n       [0.],\n       [1.],\n       [1.],\n       [3.],\n       [4.],\n       [4.],\n       [1.],\n       [4.],\n       [1.],\n       [0.],\n       [1.],\n       [4.],\n       [0.],\n       [4.],\n       [3.],\n       [1.],\n       [5.],\n       [2.],\n       [4.],\n       [5.],\n       [1.],\n       [4.],\n       [1.],\n       [5.],\n       [5.],\n       [2.],\n       [4.],\n       [0.],\n       [0.],\n       [5.],\n       [1.],\n       [0.],\n       [1.],\n       [1.],\n       [1.],\n       [4.],\n       [1.],\n       [1.],\n       [0.],\n       [5.],\n       [5.],\n       [1.],\n       [4.],\n       [1.],\n       [2.],\n       [4.],\n       [4.],\n       [1.],\n       [5.],\n       [2.],\n       [1.],\n       [4.],\n       [4.],\n       [1.],\n       [0.],\n       [4.],\n       [5.],\n       [0.],\n       [2.],\n       [5.],\n       [1.],\n       [1.],\n       [1.],\n       [0.],\n       [0.],\n       [4.],\n       [1.],\n       [1.],\n       [0.],\n       [1.],\n       [1.],\n       [3.],\n       [4.],\n       [0.],\n       [5.],\n       [4.],\n       [4.],\n       [2.],\n       [2.],\n       [1.],\n       [5.],\n       [1.],\n       [1.],\n       [0.],\n       [0.],\n       [4.],\n       [1.],\n       [0.],\n       [2.],\n       [1.],\n       [1.],\n       [5.],\n       [4.],\n       [4.],\n       [1.],\n       [0.],\n       [5.],\n       [4.],\n       [1.],\n       [1.],\n       [5.],\n       [2.]])"
     },
     "execution_count": 68,
     "metadata": {},
     "output_type": "execute_result"
    }
   ],
   "source": [
    "y_test_new = enc.transform(y_test.reshape(-1, 1))\n",
    "y_test_new"
   ],
   "metadata": {
    "collapsed": false,
    "pycharm": {
     "name": "#%%\n"
    }
   }
  },
  {
   "cell_type": "code",
   "execution_count": 69,
   "outputs": [],
   "source": [
    "kfold = KFold(n_splits=5, random_state=66, shuffle=True)\n",
    "\n",
    "xgb = XGBClassifier\n",
    "xgb_params = {'n_jobs': -1, \"use_label_encoder\": False}\n",
    "xgb_fit_params = {'early_stopping_rounds': 100, \"verbose\": False,\n",
    "                  \"eval_metric\": 'mlogloss'}\n",
    "\n",
    "lgb = LGBMClassifier\n",
    "lgb_params = {'n_jobs': -1}\n",
    "lgb_fit_params = {\"early_stopping_rounds\": 100, \"verbose\": False,\n",
    "                  \"eval_metric\": 'binary_logloss'}\n",
    "\n",
    "cat = CatBoostClassifier\n",
    "cat_params = {'thread_count': -1,\n",
    "               \"allow_writing_files\": False,\n",
    "               \"verbose\": False}\n",
    "cat_fit_params = {\"early_stopping_rounds\": 100}"
   ],
   "metadata": {
    "collapsed": false,
    "pycharm": {
     "name": "#%%\n"
    }
   }
  },
  {
   "cell_type": "code",
   "execution_count": 70,
   "outputs": [
    {
     "name": "stdout",
     "output_type": "stream",
     "text": [
      "KFold: 0\n",
      "LGBMClassifier_score:0.8444444444444444\n",
      "KFold: 1\n",
      "LGBMClassifier_score:0.8644444444444445\n",
      "KFold: 2\n",
      "LGBMClassifier_score:0.8311111111111111\n",
      "KFold: 3\n",
      "LGBMClassifier_score:0.8222222222222222\n",
      "KFold: 4\n",
      "LGBMClassifier_score:0.8377777777777777\n"
     ]
    }
   ],
   "source": [
    "models_lgb, score_lst_lgb = MyXgbLgbCat(X_train, y_train_new.reshape(-1, ), model=lgb,\n",
    "                                        kf=kfold, model_params=lgb_params,\n",
    "                                        fit_params=lgb_fit_params)"
   ],
   "metadata": {
    "collapsed": false,
    "pycharm": {
     "name": "#%%%\n"
    }
   }
  },
  {
   "cell_type": "code",
   "execution_count": 71,
   "outputs": [
    {
     "name": "stdout",
     "output_type": "stream",
     "text": [
      "KFold: 0\n",
      "CatBoostClassifier_score:0.19984197530864198\n",
      "KFold: 1\n",
      "CatBoostClassifier_score:0.21154074074074075\n",
      "KFold: 2\n",
      "CatBoostClassifier_score:0.2084888888888889\n",
      "KFold: 3\n",
      "CatBoostClassifier_score:0.20535802469135803\n",
      "KFold: 4\n",
      "CatBoostClassifier_score:0.2142716049382716\n"
     ]
    }
   ],
   "source": [
    "models_cat, score_lst_cat = MyXgbLgbCat(X_train, y_train_new, model=cat,\n",
    "                                        kf=kfold, model_params=cat_params,\n",
    "                                        fit_params=cat_fit_params)"
   ],
   "metadata": {
    "collapsed": false,
    "pycharm": {
     "name": "#%%\n"
    }
   }
  },
  {
   "cell_type": "code",
   "execution_count": 72,
   "outputs": [
    {
     "name": "stdout",
     "output_type": "stream",
     "text": [
      "KFold: 0\n",
      "**************\n",
      "XGBClassifier_score:0.8333333333333334\n",
      "KFold: 1\n",
      "**************\n",
      "XGBClassifier_score:0.8555555555555555\n",
      "KFold: 2\n",
      "**************\n",
      "XGBClassifier_score:0.8311111111111111\n",
      "KFold: 3\n",
      "**************\n",
      "XGBClassifier_score:0.8155555555555556\n",
      "KFold: 4\n",
      "**************\n",
      "XGBClassifier_score:0.8466666666666667\n"
     ]
    }
   ],
   "source": [
    "models_xgb, score_lst_xgb = MyXgbLgbCat(X_train, y_train_new, model=xgb,\n",
    "                                        kf=kfold, model_params=xgb_params,\n",
    "                                        fit_params=xgb_fit_params)"
   ],
   "metadata": {
    "collapsed": false,
    "pycharm": {
     "name": "#%%\n"
    }
   }
  },
  {
   "cell_type": "code",
   "execution_count": 72,
   "outputs": [],
   "source": [],
   "metadata": {
    "collapsed": false,
    "pycharm": {
     "name": "#%%\n"
    }
   }
  }
 ],
 "metadata": {
  "kernelspec": {
   "display_name": "Python 3",
   "language": "python",
   "name": "python3"
  },
  "language_info": {
   "codemirror_mode": {
    "name": "ipython",
    "version": 2
   },
   "file_extension": ".py",
   "mimetype": "text/x-python",
   "name": "python",
   "nbconvert_exporter": "python",
   "pygments_lexer": "ipython2",
   "version": "2.7.6"
  }
 },
 "nbformat": 4,
 "nbformat_minor": 0
}