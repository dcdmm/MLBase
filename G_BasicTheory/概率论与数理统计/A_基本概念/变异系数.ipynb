{
 "cells": [
  {
   "cell_type": "markdown",
   "metadata": {
    "pycharm": {
     "metadata": false,
     "name": "#%% md\n"
    }
   },
   "source": [
    "<font color='red' size=4>定义:</font>    \n",
    "&emsp;&emsp;变异系数(Coefficient of Variation):当需要比较两组数据离散程度大小的时候, 如果两组数据的测量尺度相差太大, \n",
    "或者数据量纲的不同,直接使用标准差来进行比较不合适，此时就应当消除测量尺度和量纲的影响,而变异系数可以做到这一点,\n",
    "它是原始数据标准差与原始数据平均数的比.$CV$没有量纲,这样就可以进行客观比较.\n",
    "\n",
    "<font color='red' size=4>计算:</font>    \n",
    "1. $$ 总体变异系数CV=\\frac{\\sigma}{\\mu} \\times 100 \\% $$  \n",
    "2. $$ 样本变异系数CV=\\frac{s}{\\bar{x}} \\times 100 \\% $$  "
   ]
  },
  {
   "cell_type": "code",
   "execution_count": 3,
   "metadata": {
    "collapsed": true,
    "pycharm": {
     "is_executing": false
    }
   },
   "outputs": [
    {
     "data": {
      "text/plain": [
       "0.06688528218537254"
      ]
     },
     "execution_count": 3,
     "metadata": {},
     "output_type": "execute_result"
    }
   ],
   "source": [
    "import  numpy as np\n",
    "\n",
    "data = np.array([6.5, 6.8, 6.8, 7, 7.1, 7.2, 7.2, 7.4, \n",
    "        7.4, 7.5, 7.5, 7.5, 7.6, 7.8, 8, 8.5])\n",
    "mean = np.mean(data)\n",
    "std = np.std(data, ddof=1)\n",
    "cv = std / mean\n",
    "cv"
   ]
  },
  {
   "cell_type": "code",
   "execution_count": null,
   "metadata": {
    "pycharm": {
     "metadata": false,
     "name": "#%%\n"
    }
   },
   "outputs": [],
   "source": [
    "\n"
   ]
  }
 ],
 "metadata": {
  "kernelspec": {
   "display_name": "Python 3.8.12 ('pytorch_env')",
   "language": "python",
   "name": "python3"
  },
  "language_info": {
   "codemirror_mode": {
    "name": "ipython",
    "version": 2
   },
   "file_extension": ".py",
   "mimetype": "text/x-python",
   "name": "python",
   "nbconvert_exporter": "python",
   "pygments_lexer": "ipython2",
   "version": "3.8.12"
  },
  "pycharm": {
   "stem_cell": {
    "cell_type": "raw",
    "metadata": {
     "collapsed": false
    },
    "source": []
   }
  },
  "stem_cell": {
   "cell_type": "raw",
   "metadata": {
    "pycharm": {
     "metadata": false
    }
   },
   "source": ""
  },
  "vscode": {
   "interpreter": {
    "hash": "0886a02735466d80c36da7d0d184a8055779d3e497a063b4720b0317b8699033"
   }
  }
 },
 "nbformat": 4,
 "nbformat_minor": 0
}
