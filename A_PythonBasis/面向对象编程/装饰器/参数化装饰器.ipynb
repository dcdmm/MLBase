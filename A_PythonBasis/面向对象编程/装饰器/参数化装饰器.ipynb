{
 "cells": [
  {
   "cell_type": "code",
   "execution_count": 1,
   "outputs": [
    {
     "name": "stdout",
     "text": [
      "进入repeat函数\n进入actual_decorator函数\nmy name is  duanmengmeng\nmy name is  duanmengmeng\nmy name is  duanmengmeng\n进入wrapper函数\n"
     ],
     "output_type": "stream"
    }
   ],
   "source": [
    "def repeat(number=3):\n",
    "    def actual_decorator(function):\n",
    "        def wrapper(*args, **kwargs):\n",
    "            result = None\n",
    "            for _ in range(number):\n",
    "                result = function(*args, **kwargs) # 使用可变参数，更具扩展性\n",
    "            print('进入wrapper函数')\n",
    "            return result\n",
    "        print('进入actual_decorator函数')\n",
    "        return wrapper\n",
    "    print('进入repeat函数')\n",
    "    return actual_decorator\n",
    "\n",
    "@repeat(3) # 注意,即使参数化装饰器的参数有默认值,但名字后面也必须加括号,如:@repeat,不加括号则报错\n",
    "def goo(name):    \n",
    "    print('my name is ', name)\n",
    "\n",
    "goo('duanmengmeng') # 等价于repeat(2)(goo)()"
   ],
   "metadata": {
    "collapsed": false,
    "pycharm": {
     "name": "#%%\n",
     "is_executing": false
    }
   }
  },
  {
   "cell_type": "code",
   "execution_count": null,
   "outputs": [],
   "source": [
    "\n"
   ],
   "metadata": {
    "pycharm": {
     "metadata": false,
     "name": "#%%\n"
    }
   }
  }
 ],
 "metadata": {
  "language_info": {
   "codemirror_mode": {
    "name": "ipython",
    "version": 2
   },
   "file_extension": ".py",
   "mimetype": "text/x-python",
   "name": "python",
   "nbconvert_exporter": "python",
   "pygments_lexer": "ipython2",
   "version": "2.7.6"
  },
  "kernelspec": {
   "name": "python3",
   "language": "python",
   "display_name": "Python 3"
  },
  "pycharm": {
   "stem_cell": {
    "cell_type": "raw",
    "source": [],
    "metadata": {
     "collapsed": false
    }
   }
  }
 },
 "nbformat": 4,
 "nbformat_minor": 0
}