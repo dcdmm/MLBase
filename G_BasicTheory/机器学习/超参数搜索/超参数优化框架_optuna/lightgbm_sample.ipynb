{
 "cells": [
  {
   "cell_type": "code",
   "execution_count": 1,
   "metadata": {
    "collapsed": true
   },
   "outputs": [],
   "source": [
    "import numpy as np\n",
    "import optuna\n",
    "import lightgbm as lgb\n",
    "import sklearn.datasets\n",
    "import sklearn.metrics\n",
    "from sklearn.model_selection import train_test_split"
   ]
  },
  {
   "cell_type": "code",
   "execution_count": 2,
   "outputs": [
    {
     "name": "stdout",
     "output_type": "stream",
     "text": [
      "(569, 30)\n"
     ]
    }
   ],
   "source": [
    "# 二分类问题\n",
    "data, target = sklearn.datasets.load_breast_cancer(return_X_y=True)\n",
    "print(data.shape)"
   ],
   "metadata": {
    "collapsed": false,
    "pycharm": {
     "name": "#%%\n"
    }
   }
  },
  {
   "cell_type": "code",
   "execution_count": 3,
   "outputs": [],
   "source": [
    "# 第一个参数必须为trial\n",
    "def objective(trial, data, target):\n",
    "    train_x, valid_x, train_y, valid_y = train_test_split(data, target, test_size=0.25)\n",
    "    dtrain = lgb.Dataset(train_x, label=train_y)\n",
    "    dvalid = lgb.Dataset(valid_x, label=valid_y)\n",
    "\n",
    "    param = {\n",
    "        \"objective\": \"binary\",\n",
    "        \"metric\": \"binary_logloss\",\n",
    "        \"verbosity\": -1,\n",
    "        \"boosting_type\": \"gbdt\",\n",
    "        \"lambda_l1\": trial.suggest_float(\"lambda_l1\", 1e-8, 10.0, log=True),\n",
    "        \"lambda_l2\": trial.suggest_float(\"lambda_l2\", 1e-8, 10.0, log=True),\n",
    "        \"num_leaves\": trial.suggest_int(\"num_leaves\", 2, 256),\n",
    "        \"feature_fraction\": trial.suggest_float(\"feature_fraction\", 0.4, 1.0),\n",
    "        \"bagging_fraction\": trial.suggest_float(\"bagging_fraction\", 0.4, 1.0),\n",
    "        \"bagging_freq\": trial.suggest_int(\"bagging_freq\", 1, 7),\n",
    "        \"min_child_samples\": trial.suggest_int(\"min_child_samples\", 5, 100),\n",
    "    }\n",
    "\n",
    "    # 也可在次进行交叉验证\n",
    "    es_func = lgb.early_stopping(stopping_rounds=200)\n",
    "    gbm = lgb.train(param, dtrain,\n",
    "                    valid_sets=[dvalid],\n",
    "                    callbacks=[es_func])\n",
    "    preds = gbm.predict(valid_x)\n",
    "    pred_labels = np.around(preds)\n",
    "    accuracy = sklearn.metrics.accuracy_score(valid_y, pred_labels)\n",
    "    return accuracy"
   ],
   "metadata": {
    "collapsed": false,
    "pycharm": {
     "name": "#%%\n"
    }
   }
  },
  {
   "cell_type": "code",
   "execution_count": 4,
   "outputs": [
    {
     "name": "stderr",
     "output_type": "stream",
     "text": [
      "\u001B[32m[I 2022-06-16 18:56:34,385]\u001B[0m A new study created in memory with name: no-name-f614eaae-3751-4111-9341-22b5fd16ab2c\u001B[0m\n",
      "\u001B[32m[I 2022-06-16 18:56:34,456]\u001B[0m Trial 0 finished with value: 0.965034965034965 and parameters: {'lambda_l1': 2.1148929489558815e-08, 'lambda_l2': 1.0278205177422657e-07, 'num_leaves': 204, 'feature_fraction': 0.7631282496382137, 'bagging_fraction': 0.857726565842192, 'bagging_freq': 6, 'min_child_samples': 57}. Best is trial 0 with value: 0.965034965034965.\u001B[0m\n",
      "\u001B[32m[I 2022-06-16 18:56:34,512]\u001B[0m Trial 1 finished with value: 0.958041958041958 and parameters: {'lambda_l1': 0.4000052768495882, 'lambda_l2': 4.644368885510678e-05, 'num_leaves': 108, 'feature_fraction': 0.6049632071698764, 'bagging_fraction': 0.6878962217203524, 'bagging_freq': 1, 'min_child_samples': 59}. Best is trial 0 with value: 0.965034965034965.\u001B[0m\n"
     ]
    },
    {
     "name": "stdout",
     "output_type": "stream",
     "text": [
      "Training until validation scores don't improve for 200 rounds\n",
      "Did not meet early stopping. Best iteration is:\n",
      "[54]\tvalid_0's binary_logloss: 0.117112\n",
      "Training until validation scores don't improve for 200 rounds\n",
      "Did not meet early stopping. Best iteration is:\n",
      "[100]\tvalid_0's binary_logloss: 0.099495\n",
      "Training until validation scores don't improve for 200 rounds\n",
      "Did not meet early stopping. Best iteration is:\n",
      "[80]\tvalid_0's binary_logloss: 0.0875114"
     ]
    },
    {
     "name": "stderr",
     "output_type": "stream",
     "text": [
      "\u001B[32m[I 2022-06-16 18:56:34,594]\u001B[0m Trial 2 finished with value: 0.972027972027972 and parameters: {'lambda_l1': 5.987897185359307e-05, 'lambda_l2': 1.0165528300781366e-08, 'num_leaves': 95, 'feature_fraction': 0.947350310150389, 'bagging_fraction': 0.8790491610616912, 'bagging_freq': 4, 'min_child_samples': 33}. Best is trial 2 with value: 0.972027972027972.\u001B[0m\n",
      "\u001B[32m[I 2022-06-16 18:56:34,642]\u001B[0m Trial 3 finished with value: 0.9790209790209791 and parameters: {'lambda_l1': 0.00031612052696870855, 'lambda_l2': 0.015511824241716148, 'num_leaves': 168, 'feature_fraction': 0.46123245125163287, 'bagging_fraction': 0.610985350942228, 'bagging_freq': 7, 'min_child_samples': 71}. Best is trial 3 with value: 0.9790209790209791.\u001B[0m\n",
      "\u001B[32m[I 2022-06-16 18:56:34,689]\u001B[0m Trial 4 finished with value: 0.965034965034965 and parameters: {'lambda_l1': 0.00020141206006496054, 'lambda_l2': 5.446481113041442, 'num_leaves': 21, 'feature_fraction': 0.9843428904060839, 'bagging_fraction': 0.57939311537709, 'bagging_freq': 7, 'min_child_samples': 63}. Best is trial 3 with value: 0.9790209790209791.\u001B[0m\n",
      "\u001B[32m[I 2022-06-16 18:56:34,747]\u001B[0m Trial 5 finished with value: 0.972027972027972 and parameters: {'lambda_l1': 0.028049046021738865, 'lambda_l2': 1.7651912433069015, 'num_leaves': 231, 'feature_fraction': 0.6971475563377201, 'bagging_fraction': 0.6731069583348812, 'bagging_freq': 2, 'min_child_samples': 62}. Best is trial 3 with value: 0.9790209790209791.\u001B[0m\n"
     ]
    },
    {
     "name": "stdout",
     "output_type": "stream",
     "text": [
      "\n",
      "Training until validation scores don't improve for 200 rounds\n",
      "Did not meet early stopping. Best iteration is:\n",
      "[91]\tvalid_0's binary_logloss: 0.0629366\n",
      "Training until validation scores don't improve for 200 rounds\n",
      "Did not meet early stopping. Best iteration is:\n",
      "[100]\tvalid_0's binary_logloss: 0.107235\n",
      "Training until validation scores don't improve for 200 rounds\n",
      "Did not meet early stopping. Best iteration is:\n",
      "[86]\tvalid_0's binary_logloss: 0.109807\n",
      "Training until validation scores don't improve for 200 rounds\n",
      "Did not meet early stopping. Best iteration is:\n",
      "[100]\tvalid_0's binary_logloss: 0.103018\n"
     ]
    },
    {
     "name": "stderr",
     "output_type": "stream",
     "text": [
      "\u001B[32m[I 2022-06-16 18:56:34,797]\u001B[0m Trial 6 finished with value: 0.965034965034965 and parameters: {'lambda_l1': 5.064156642055945, 'lambda_l2': 0.2722233935554987, 'num_leaves': 161, 'feature_fraction': 0.7015131912780671, 'bagging_fraction': 0.8454458291227431, 'bagging_freq': 7, 'min_child_samples': 85}. Best is trial 3 with value: 0.9790209790209791.\u001B[0m\n",
      "\u001B[32m[I 2022-06-16 18:56:34,835]\u001B[0m Trial 7 finished with value: 0.9790209790209791 and parameters: {'lambda_l1': 0.0038784705784339494, 'lambda_l2': 8.05669359917271e-05, 'num_leaves': 71, 'feature_fraction': 0.48766917240380553, 'bagging_fraction': 0.4066214832361069, 'bagging_freq': 5, 'min_child_samples': 48}. Best is trial 3 with value: 0.9790209790209791.\u001B[0m\n",
      "\u001B[32m[I 2022-06-16 18:56:34,941]\u001B[0m Trial 8 finished with value: 0.993006993006993 and parameters: {'lambda_l1': 1.6084068381872842e-08, 'lambda_l2': 6.62576376003583e-05, 'num_leaves': 200, 'feature_fraction': 0.9973325730249161, 'bagging_fraction': 0.8025525224526386, 'bagging_freq': 1, 'min_child_samples': 24}. Best is trial 8 with value: 0.993006993006993.\u001B[0m\n"
     ]
    },
    {
     "name": "stdout",
     "output_type": "stream",
     "text": [
      "Training until validation scores don't improve for 200 rounds\n",
      "Did not meet early stopping. Best iteration is:\n",
      "[95]\tvalid_0's binary_logloss: 0.0999962\n",
      "Training until validation scores don't improve for 200 rounds\n",
      "Did not meet early stopping. Best iteration is:\n",
      "[96]\tvalid_0's binary_logloss: 0.030609\n",
      "Training until validation scores don't improve for 200 rounds\n"
     ]
    },
    {
     "name": "stderr",
     "output_type": "stream",
     "text": [
      "\u001B[32m[I 2022-06-16 18:56:35,072]\u001B[0m Trial 9 finished with value: 0.9790209790209791 and parameters: {'lambda_l1': 1.192614503561217e-07, 'lambda_l2': 0.12801129985189855, 'num_leaves': 223, 'feature_fraction': 0.751105882448575, 'bagging_fraction': 0.9952644462728765, 'bagging_freq': 6, 'min_child_samples': 44}. Best is trial 8 with value: 0.993006993006993.\u001B[0m\n",
      "\u001B[32m[I 2022-06-16 18:56:35,192]\u001B[0m Trial 10 finished with value: 0.958041958041958 and parameters: {'lambda_l1': 5.810575901982036e-07, 'lambda_l2': 1.3503767215560726e-06, 'num_leaves': 163, 'feature_fraction': 0.881129955160979, 'bagging_fraction': 0.47740650141974683, 'bagging_freq': 3, 'min_child_samples': 5}. Best is trial 8 with value: 0.993006993006993.\u001B[0m\n"
     ]
    },
    {
     "name": "stdout",
     "output_type": "stream",
     "text": [
      "Did not meet early stopping. Best iteration is:\n",
      "[91]\tvalid_0's binary_logloss: 0.0768082\n",
      "Training until validation scores don't improve for 200 rounds\n",
      "Did not meet early stopping. Best iteration is:\n",
      "[52]\tvalid_0's binary_logloss: 0.0803115\n",
      "Training until validation scores don't improve for 200 rounds\n",
      "Did not meet early stopping. Best iteration is:\n",
      "[99]\tvalid_0's binary_logloss: 0.0529279\n"
     ]
    },
    {
     "name": "stderr",
     "output_type": "stream",
     "text": [
      "\u001B[32m[I 2022-06-16 18:56:35,248]\u001B[0m Trial 11 finished with value: 0.986013986013986 and parameters: {'lambda_l1': 4.253384532173602e-06, 'lambda_l2': 0.00975768159018096, 'num_leaves': 172, 'feature_fraction': 0.40382833928661294, 'bagging_fraction': 0.5952770262763994, 'bagging_freq': 1, 'min_child_samples': 95}. Best is trial 8 with value: 0.993006993006993.\u001B[0m\n",
      "\u001B[32m[I 2022-06-16 18:56:35,322]\u001B[0m Trial 12 finished with value: 0.986013986013986 and parameters: {'lambda_l1': 3.5251891591286295e-06, 'lambda_l2': 0.002496845457358031, 'num_leaves': 194, 'feature_fraction': 0.4024627817570129, 'bagging_fraction': 0.7646924024753494, 'bagging_freq': 1, 'min_child_samples': 100}. Best is trial 8 with value: 0.993006993006993.\u001B[0m\n",
      "\u001B[32m[I 2022-06-16 18:56:35,462]\u001B[0m Trial 13 finished with value: 0.9370629370629371 and parameters: {'lambda_l1': 5.762557584289543e-06, 'lambda_l2': 0.0012262589864364022, 'num_leaves': 255, 'feature_fraction': 0.8448388967869049, 'bagging_fraction': 0.5479912805539778, 'bagging_freq': 2, 'min_child_samples': 21}. Best is trial 8 with value: 0.993006993006993.\u001B[0m\n"
     ]
    },
    {
     "name": "stdout",
     "output_type": "stream",
     "text": [
      "Training until validation scores don't improve for 200 rounds\n",
      "Did not meet early stopping. Best iteration is:\n",
      "[97]\tvalid_0's binary_logloss: 0.0597406\n",
      "Training until validation scores don't improve for 200 rounds\n",
      "Did not meet early stopping. Best iteration is:\n",
      "[39]\tvalid_0's binary_logloss: 0.168002\n"
     ]
    },
    {
     "name": "stderr",
     "output_type": "stream",
     "text": [
      "\u001B[32m[I 2022-06-16 18:56:35,613]\u001B[0m Trial 14 finished with value: 0.972027972027972 and parameters: {'lambda_l1': 1.059454587398967e-08, 'lambda_l2': 6.818280284227105e-06, 'num_leaves': 133, 'feature_fraction': 0.5670066910367018, 'bagging_fraction': 0.7813093698736708, 'bagging_freq': 3, 'min_child_samples': 22}. Best is trial 8 with value: 0.993006993006993.\u001B[0m\n"
     ]
    },
    {
     "name": "stdout",
     "output_type": "stream",
     "text": [
      "Training until validation scores don't improve for 200 rounds\n",
      "Did not meet early stopping. Best iteration is:\n",
      "[81]\tvalid_0's binary_logloss: 0.0864709\n",
      "Training until validation scores don't improve for 200 rounds\n",
      "Did not meet early stopping. Best iteration is:\n",
      "[100]\tvalid_0's binary_logloss: 0.104288\n"
     ]
    },
    {
     "name": "stderr",
     "output_type": "stream",
     "text": [
      "\u001B[32m[I 2022-06-16 18:56:35,696]\u001B[0m Trial 15 finished with value: 0.9370629370629371 and parameters: {'lambda_l1': 1.0931184039034726e-06, 'lambda_l2': 0.012296641229647631, 'num_leaves': 188, 'feature_fraction': 0.5972810745104336, 'bagging_fraction': 0.9520504850420294, 'bagging_freq': 1, 'min_child_samples': 85}. Best is trial 8 with value: 0.993006993006993.\u001B[0m\n",
      "\u001B[32m[I 2022-06-16 18:56:35,865]\u001B[0m Trial 16 finished with value: 0.9790209790209791 and parameters: {'lambda_l1': 2.0469373381284645e-05, 'lambda_l2': 0.00027775845886174365, 'num_leaves': 135, 'feature_fraction': 0.8781817573273494, 'bagging_fraction': 0.7641984822031134, 'bagging_freq': 2, 'min_child_samples': 6}. Best is trial 8 with value: 0.993006993006993.\u001B[0m\n"
     ]
    },
    {
     "name": "stdout",
     "output_type": "stream",
     "text": [
      "Training until validation scores don't improve for 200 rounds\n",
      "Did not meet early stopping. Best iteration is:\n",
      "[68]\tvalid_0's binary_logloss: 0.0520729\n",
      "Training until validation scores don't improve for 200 rounds\n"
     ]
    },
    {
     "name": "stderr",
     "output_type": "stream",
     "text": [
      "\u001B[32m[I 2022-06-16 18:56:35,973]\u001B[0m Trial 17 finished with value: 0.951048951048951 and parameters: {'lambda_l1': 1.929324338963896e-07, 'lambda_l2': 5.436510918947472e-06, 'num_leaves': 256, 'feature_fraction': 0.5409325918417703, 'bagging_fraction': 0.7686013343478639, 'bagging_freq': 3, 'min_child_samples': 35}. Best is trial 8 with value: 0.993006993006993.\u001B[0m\n",
      "\u001B[32m[I 2022-06-16 18:56:36,053]\u001B[0m Trial 18 finished with value: 0.972027972027972 and parameters: {'lambda_l1': 0.003423689516353466, 'lambda_l2': 0.0021407178543116512, 'num_leaves': 212, 'feature_fraction': 0.6590667766831213, 'bagging_fraction': 0.9088956714248868, 'bagging_freq': 4, 'min_child_samples': 78}. Best is trial 8 with value: 0.993006993006993.\u001B[0m\n"
     ]
    },
    {
     "name": "stdout",
     "output_type": "stream",
     "text": [
      "Did not meet early stopping. Best iteration is:\n",
      "[68]\tvalid_0's binary_logloss: 0.147476\n",
      "Training until validation scores don't improve for 200 rounds\n",
      "Did not meet early stopping. Best iteration is:\n",
      "[100]\tvalid_0's binary_logloss: 0.0554279\n",
      "Training until validation scores don't improve for 200 rounds\n"
     ]
    },
    {
     "name": "stderr",
     "output_type": "stream",
     "text": [
      "\u001B[32m[I 2022-06-16 18:56:36,181]\u001B[0m Trial 19 finished with value: 0.972027972027972 and parameters: {'lambda_l1': 1.8132215932328993e-07, 'lambda_l2': 1.1123160885638267e-06, 'num_leaves': 193, 'feature_fraction': 0.773934865785991, 'bagging_fraction': 0.8077533807170074, 'bagging_freq': 2, 'min_child_samples': 24}. Best is trial 8 with value: 0.993006993006993.\u001B[0m\n",
      "\u001B[32m[I 2022-06-16 18:56:36,257]\u001B[0m Trial 20 finished with value: 0.9790209790209791 and parameters: {'lambda_l1': 4.106475918799454e-08, 'lambda_l2': 3.784977522031856e-05, 'num_leaves': 45, 'feature_fraction': 0.4033770577876195, 'bagging_fraction': 0.7281924614415096, 'bagging_freq': 1, 'min_child_samples': 97}. Best is trial 8 with value: 0.993006993006993.\u001B[0m\n",
      "\u001B[32m[I 2022-06-16 18:56:36,327]\u001B[0m Trial 21 finished with value: 0.9790209790209791 and parameters: {'lambda_l1': 4.3733606469820315e-06, 'lambda_l2': 0.012078733292037217, 'num_leaves': 173, 'feature_fraction': 0.402508583561462, 'bagging_fraction': 0.6397016464757023, 'bagging_freq': 1, 'min_child_samples': 99}. Best is trial 8 with value: 0.993006993006993.\u001B[0m\n"
     ]
    },
    {
     "name": "stdout",
     "output_type": "stream",
     "text": [
      "Did not meet early stopping. Best iteration is:\n",
      "[54]\tvalid_0's binary_logloss: 0.12943\n",
      "Training until validation scores don't improve for 200 rounds\n",
      "Did not meet early stopping. Best iteration is:\n",
      "[100]\tvalid_0's binary_logloss: 0.0747299\n",
      "Training until validation scores don't improve for 200 rounds\n",
      "Did not meet early stopping. Best iteration is:\n",
      "[100]\tvalid_0's binary_logloss: 0.0602925\n",
      "Training until validation scores don't improve for 200 rounds\n"
     ]
    },
    {
     "name": "stderr",
     "output_type": "stream",
     "text": [
      "\u001B[32m[I 2022-06-16 18:56:36,396]\u001B[0m Trial 22 finished with value: 0.965034965034965 and parameters: {'lambda_l1': 2.0402459205452776e-06, 'lambda_l2': 0.0013632120501879286, 'num_leaves': 151, 'feature_fraction': 0.48508971676716006, 'bagging_fraction': 0.5307217113868485, 'bagging_freq': 1, 'min_child_samples': 90}. Best is trial 8 with value: 0.993006993006993.\u001B[0m\n",
      "\u001B[32m[I 2022-06-16 18:56:36,469]\u001B[0m Trial 23 finished with value: 0.9790209790209791 and parameters: {'lambda_l1': 2.2618919901813024e-05, 'lambda_l2': 0.213817908504257, 'num_leaves': 187, 'feature_fraction': 0.4346765309685855, 'bagging_fraction': 0.7116487257945059, 'bagging_freq': 2, 'min_child_samples': 77}. Best is trial 8 with value: 0.993006993006993.\u001B[0m\n",
      "\u001B[32m[I 2022-06-16 18:56:36,539]\u001B[0m Trial 24 finished with value: 0.986013986013986 and parameters: {'lambda_l1': 0.0018811387510147767, 'lambda_l2': 0.041033754295773564, 'num_leaves': 236, 'feature_fraction': 0.5260159375100142, 'bagging_fraction': 0.6373183500893297, 'bagging_freq': 1, 'min_child_samples': 94}. Best is trial 8 with value: 0.993006993006993.\u001B[0m\n"
     ]
    },
    {
     "name": "stdout",
     "output_type": "stream",
     "text": [
      "Did not meet early stopping. Best iteration is:\n",
      "[97]\tvalid_0's binary_logloss: 0.0950566\n",
      "Training until validation scores don't improve for 200 rounds\n",
      "Did not meet early stopping. Best iteration is:\n",
      "[100]\tvalid_0's binary_logloss: 0.0721786\n",
      "Training until validation scores don't improve for 200 rounds\n",
      "Did not meet early stopping. Best iteration is:\n",
      "[100]\tvalid_0's binary_logloss: 0.0738432\n",
      "Training until validation scores don't improve for 200 rounds\n"
     ]
    },
    {
     "name": "stderr",
     "output_type": "stream",
     "text": [
      "\u001B[32m[I 2022-06-16 18:56:36,630]\u001B[0m Trial 25 finished with value: 0.972027972027972 and parameters: {'lambda_l1': 6.348767044541141e-07, 'lambda_l2': 0.0004855108745138777, 'num_leaves': 147, 'feature_fraction': 0.5097108486635136, 'bagging_fraction': 0.8313101126183441, 'bagging_freq': 3, 'min_child_samples': 70}. Best is trial 8 with value: 0.993006993006993.\u001B[0m\n",
      "\u001B[32m[I 2022-06-16 18:56:36,703]\u001B[0m Trial 26 finished with value: 0.986013986013986 and parameters: {'lambda_l1': 2.3293243514862323e-05, 'lambda_l2': 0.004236958965898525, 'num_leaves': 109, 'feature_fraction': 0.6483246818538098, 'bagging_fraction': 0.7355885826151485, 'bagging_freq': 2, 'min_child_samples': 88}. Best is trial 8 with value: 0.993006993006993.\u001B[0m\n",
      "\u001B[32m[I 2022-06-16 18:56:36,768]\u001B[0m Trial 27 finished with value: 0.972027972027972 and parameters: {'lambda_l1': 0.002377974508191601, 'lambda_l2': 0.06449087581743344, 'num_leaves': 82, 'feature_fraction': 0.6259705031944311, 'bagging_fraction': 0.6726788883418767, 'bagging_freq': 2, 'min_child_samples': 90}. Best is trial 8 with value: 0.993006993006993.\u001B[0m\n"
     ]
    },
    {
     "name": "stdout",
     "output_type": "stream",
     "text": [
      "Did not meet early stopping. Best iteration is:\n",
      "[100]\tvalid_0's binary_logloss: 0.0760013\n",
      "Training until validation scores don't improve for 200 rounds\n",
      "Did not meet early stopping. Best iteration is:\n",
      "[100]\tvalid_0's binary_logloss: 0.0779307\n",
      "Training until validation scores don't improve for 200 rounds\n",
      "Did not meet early stopping. Best iteration is:\n",
      "[100]\tvalid_0's binary_logloss: 0.0602517\n",
      "Training until validation scores don't improve for 200 rounds\n"
     ]
    },
    {
     "name": "stderr",
     "output_type": "stream",
     "text": [
      "\u001B[32m[I 2022-06-16 18:56:36,857]\u001B[0m Trial 28 finished with value: 0.965034965034965 and parameters: {'lambda_l1': 0.06176701223489286, 'lambda_l2': 0.00020324992491347078, 'num_leaves': 116, 'feature_fraction': 0.5567876296304378, 'bagging_fraction': 0.7311016565295887, 'bagging_freq': 2, 'min_child_samples': 37}. Best is trial 8 with value: 0.993006993006993.\u001B[0m\n",
      "\u001B[32m[I 2022-06-16 18:56:36,936]\u001B[0m Trial 29 finished with value: 0.9790209790209791 and parameters: {'lambda_l1': 0.0009840895773737186, 'lambda_l2': 0.04367167476187515, 'num_leaves': 233, 'feature_fraction': 0.7846509350164208, 'bagging_fraction': 0.6355921615399994, 'bagging_freq': 3, 'min_child_samples': 53}. Best is trial 8 with value: 0.993006993006993.\u001B[0m\n"
     ]
    },
    {
     "name": "stdout",
     "output_type": "stream",
     "text": [
      "Did not meet early stopping. Best iteration is:\n",
      "[57]\tvalid_0's binary_logloss: 0.0939997\n",
      "Training until validation scores don't improve for 200 rounds\n",
      "Did not meet early stopping. Best iteration is:\n",
      "[95]\tvalid_0's binary_logloss: 0.0607922\n",
      "Training until validation scores don't improve for 200 rounds\n",
      "Did not meet early stopping. Best iteration is:\n",
      "[64]\tvalid_0's binary_logloss: 0.0641146\n"
     ]
    },
    {
     "name": "stderr",
     "output_type": "stream",
     "text": [
      "\u001B[32m[I 2022-06-16 18:56:37,061]\u001B[0m Trial 30 finished with value: 0.972027972027972 and parameters: {'lambda_l1': 9.401964662128766e-05, 'lambda_l2': 0.003124657203518455, 'num_leaves': 202, 'feature_fraction': 0.841915303071767, 'bagging_fraction': 0.8035296213777766, 'bagging_freq': 5, 'min_child_samples': 11}. Best is trial 8 with value: 0.993006993006993.\u001B[0m\n",
      "\u001B[32m[I 2022-06-16 18:56:37,135]\u001B[0m Trial 31 finished with value: 0.958041958041958 and parameters: {'lambda_l1': 1.3074572732770685e-05, 'lambda_l2': 0.004251486323736698, 'num_leaves': 183, 'feature_fraction': 0.43434724645981515, 'bagging_fraction': 0.883353346714966, 'bagging_freq': 1, 'min_child_samples': 99}. Best is trial 8 with value: 0.993006993006993.\u001B[0m\n",
      "\u001B[32m[I 2022-06-16 18:56:37,206]\u001B[0m Trial 32 finished with value: 0.958041958041958 and parameters: {'lambda_l1': 0.06413279898421394, 'lambda_l2': 1.7828962180862609, 'num_leaves': 210, 'feature_fraction': 0.5169237570323814, 'bagging_fraction': 0.593801184226194, 'bagging_freq': 1, 'min_child_samples': 93}. Best is trial 8 with value: 0.993006993006993.\u001B[0m\n",
      "\u001B[32m[I 2022-06-16 18:56:37,284]\u001B[0m Trial 33 finished with value: 0.9370629370629371 and parameters: {'lambda_l1': 0.0009773057239471671, 'lambda_l2': 9.551121104194092e-06, 'num_leaves': 241, 'feature_fraction': 0.6398457569847649, 'bagging_fraction': 0.7419853293200696, 'bagging_freq': 1, 'min_child_samples': 85}. Best is trial 8 with value: 0.993006993006993.\u001B[0m\n"
     ]
    },
    {
     "name": "stdout",
     "output_type": "stream",
     "text": [
      "Training until validation scores don't improve for 200 rounds\n",
      "Did not meet early stopping. Best iteration is:\n",
      "[86]\tvalid_0's binary_logloss: 0.114534\n",
      "Training until validation scores don't improve for 200 rounds\n",
      "Did not meet early stopping. Best iteration is:\n",
      "[100]\tvalid_0's binary_logloss: 0.126807\n",
      "Training until validation scores don't improve for 200 rounds\n",
      "Did not meet early stopping. Best iteration is:\n",
      "[94]\tvalid_0's binary_logloss: 0.127771\n"
     ]
    },
    {
     "name": "stderr",
     "output_type": "stream",
     "text": [
      "\u001B[32m[I 2022-06-16 18:56:37,356]\u001B[0m Trial 34 finished with value: 0.958041958041958 and parameters: {'lambda_l1': 4.163471353485326e-08, 'lambda_l2': 4.387397509129128e-05, 'num_leaves': 116, 'feature_fraction': 0.6836466300431432, 'bagging_fraction': 0.6825060848372445, 'bagging_freq': 2, 'min_child_samples': 81}. Best is trial 8 with value: 0.993006993006993.\u001B[0m\n",
      "\u001B[32m[I 2022-06-16 18:56:37,431]\u001B[0m Trial 35 finished with value: 0.965034965034965 and parameters: {'lambda_l1': 6.324939104714725e-05, 'lambda_l2': 1.1459832977992346e-07, 'num_leaves': 93, 'feature_fraction': 0.5951639925687814, 'bagging_fraction': 0.8184573329494425, 'bagging_freq': 1, 'min_child_samples': 70}. Best is trial 8 with value: 0.993006993006993.\u001B[0m\n",
      "\u001B[32m[I 2022-06-16 18:56:37,504]\u001B[0m Trial 36 finished with value: 0.9790209790209791 and parameters: {'lambda_l1': 0.00018514980173038072, 'lambda_l2': 0.02233104769276518, 'num_leaves': 220, 'feature_fraction': 0.4631571555850791, 'bagging_fraction': 0.5023223280273689, 'bagging_freq': 4, 'min_child_samples': 94}. Best is trial 8 with value: 0.993006993006993.\u001B[0m\n"
     ]
    },
    {
     "name": "stdout",
     "output_type": "stream",
     "text": [
      "Training until validation scores don't improve for 200 rounds\n",
      "Did not meet early stopping. Best iteration is:\n",
      "[100]\tvalid_0's binary_logloss: 0.0877439\n",
      "Training until validation scores don't improve for 200 rounds\n",
      "Did not meet early stopping. Best iteration is:\n",
      "[100]\tvalid_0's binary_logloss: 0.0697505\n",
      "Training until validation scores don't improve for 200 rounds\n",
      "Did not meet early stopping. Best iteration is:\n",
      "[100]\tvalid_0's binary_logloss: 0.0773222\n"
     ]
    },
    {
     "name": "stderr",
     "output_type": "stream",
     "text": [
      "\u001B[32m[I 2022-06-16 18:56:37,577]\u001B[0m Trial 37 finished with value: 0.986013986013986 and parameters: {'lambda_l1': 4.101124378595007e-06, 'lambda_l2': 0.0007035334554427175, 'num_leaves': 149, 'feature_fraction': 0.9311518009521318, 'bagging_fraction': 0.8656512379847582, 'bagging_freq': 1, 'min_child_samples': 89}. Best is trial 8 with value: 0.993006993006993.\u001B[0m\n",
      "\u001B[32m[I 2022-06-16 18:56:37,666]\u001B[0m Trial 38 finished with value: 0.9790209790209791 and parameters: {'lambda_l1': 3.144987415181033e-05, 'lambda_l2': 0.0005197045180810466, 'num_leaves': 102, 'feature_fraction': 0.9987812040555608, 'bagging_fraction': 0.9063246543590151, 'bagging_freq': 2, 'min_child_samples': 65}. Best is trial 8 with value: 0.993006993006993.\u001B[0m\n"
     ]
    },
    {
     "name": "stdout",
     "output_type": "stream",
     "text": [
      "Training until validation scores don't improve for 200 rounds\n",
      "Did not meet early stopping. Best iteration is:\n",
      "[98]\tvalid_0's binary_logloss: 0.0643495\n",
      "Training until validation scores don't improve for 200 rounds\n",
      "Did not meet early stopping. Best iteration is:\n",
      "[87]\tvalid_0's binary_logloss: 0.0817727\n",
      "Training until validation scores don't improve for 200 rounds\n",
      "Did not meet early stopping. Best iteration is:\n",
      "[98]\tvalid_0's binary_logloss: 0.0151285\n"
     ]
    },
    {
     "name": "stderr",
     "output_type": "stream",
     "text": [
      "\u001B[32m[I 2022-06-16 18:56:37,750]\u001B[0m Trial 39 finished with value: 1.0 and parameters: {'lambda_l1': 0.014801116140580875, 'lambda_l2': 0.00011795510267537172, 'num_leaves': 203, 'feature_fraction': 0.950764211914787, 'bagging_fraction': 0.8553934254239814, 'bagging_freq': 1, 'min_child_samples': 43}. Best is trial 39 with value: 1.0.\u001B[0m\n",
      "\u001B[32m[I 2022-06-16 18:56:37,832]\u001B[0m Trial 40 finished with value: 0.9790209790209791 and parameters: {'lambda_l1': 0.012159584436985765, 'lambda_l2': 7.698950173313021e-05, 'num_leaves': 238, 'feature_fraction': 0.9470146085123017, 'bagging_fraction': 0.8597108122279391, 'bagging_freq': 1, 'min_child_samples': 30}. Best is trial 39 with value: 1.0.\u001B[0m\n",
      "\u001B[32m[I 2022-06-16 18:56:37,926]\u001B[0m Trial 41 finished with value: 0.9790209790209791 and parameters: {'lambda_l1': 0.9075718743192841, 'lambda_l2': 1.7526228877478664e-05, 'num_leaves': 62, 'feature_fraction': 0.9337411354672145, 'bagging_fraction': 0.9221677941895069, 'bagging_freq': 1, 'min_child_samples': 43}. Best is trial 39 with value: 1.0.\u001B[0m\n"
     ]
    },
    {
     "name": "stdout",
     "output_type": "stream",
     "text": [
      "Training until validation scores don't improve for 200 rounds\n",
      "Did not meet early stopping. Best iteration is:\n",
      "[68]\tvalid_0's binary_logloss: 0.0950077\n",
      "Training until validation scores don't improve for 200 rounds\n",
      "Did not meet early stopping. Best iteration is:\n",
      "[100]\tvalid_0's binary_logloss: 0.0392782\n",
      "Training until validation scores don't improve for 200 rounds\n"
     ]
    },
    {
     "name": "stderr",
     "output_type": "stream",
     "text": [
      "\u001B[32m[I 2022-06-16 18:56:38,090]\u001B[0m Trial 42 finished with value: 0.9790209790209791 and parameters: {'lambda_l1': 0.000717105499449283, 'lambda_l2': 0.00015488637229225027, 'num_leaves': 148, 'feature_fraction': 0.9669780560959662, 'bagging_fraction': 0.9775212908908562, 'bagging_freq': 2, 'min_child_samples': 15}. Best is trial 39 with value: 1.0.\u001B[0m\n",
      "\u001B[32m[I 2022-06-16 18:56:38,187]\u001B[0m Trial 43 finished with value: 0.972027972027972 and parameters: {'lambda_l1': 0.015910840715207538, 'lambda_l2': 0.580748695667137, 'num_leaves': 221, 'feature_fraction': 0.9136680346858055, 'bagging_fraction': 0.8557332112624615, 'bagging_freq': 1, 'min_child_samples': 54}. Best is trial 39 with value: 1.0.\u001B[0m\n"
     ]
    },
    {
     "name": "stdout",
     "output_type": "stream",
     "text": [
      "Did not meet early stopping. Best iteration is:\n",
      "[99]\tvalid_0's binary_logloss: 0.0589571\n",
      "Training until validation scores don't improve for 200 rounds\n",
      "Did not meet early stopping. Best iteration is:\n",
      "[90]\tvalid_0's binary_logloss: 0.0888266\n",
      "Training until validation scores don't improve for 200 rounds\n",
      "Did not meet early stopping. Best iteration is:\n",
      "[84]\tvalid_0's binary_logloss: 0.0338999\n"
     ]
    },
    {
     "name": "stderr",
     "output_type": "stream",
     "text": [
      "\u001B[32m[I 2022-06-16 18:56:38,290]\u001B[0m Trial 44 finished with value: 0.986013986013986 and parameters: {'lambda_l1': 0.008342922912170203, 'lambda_l2': 0.00663331520593501, 'num_leaves': 172, 'feature_fraction': 0.7163757863723578, 'bagging_fraction': 0.6348192531681841, 'bagging_freq': 2, 'min_child_samples': 29}. Best is trial 39 with value: 1.0.\u001B[0m\n",
      "\u001B[32m[I 2022-06-16 18:56:38,393]\u001B[0m Trial 45 finished with value: 0.9300699300699301 and parameters: {'lambda_l1': 0.5892238364294842, 'lambda_l2': 0.0503269141756263, 'num_leaves': 202, 'feature_fraction': 0.7200162690988587, 'bagging_fraction': 0.6514188005493011, 'bagging_freq': 2, 'min_child_samples': 29}. Best is trial 39 with value: 1.0.\u001B[0m\n",
      "\u001B[32m[I 2022-06-16 18:56:38,495]\u001B[0m Trial 46 finished with value: 0.9790209790209791 and parameters: {'lambda_l1': 0.15560355100828574, 'lambda_l2': 0.0053327486658727346, 'num_leaves': 175, 'feature_fraction': 0.8275441600965071, 'bagging_fraction': 0.5667145203029029, 'bagging_freq': 3, 'min_child_samples': 39}. Best is trial 39 with value: 1.0.\u001B[0m\n"
     ]
    },
    {
     "name": "stdout",
     "output_type": "stream",
     "text": [
      "Training until validation scores don't improve for 200 rounds\n",
      "Did not meet early stopping. Best iteration is:\n",
      "[94]\tvalid_0's binary_logloss: 0.149001\n",
      "Training until validation scores don't improve for 200 rounds\n",
      "Did not meet early stopping. Best iteration is:\n",
      "[87]\tvalid_0's binary_logloss: 0.042268\n",
      "Training until validation scores don't improve for 200 rounds\n"
     ]
    },
    {
     "name": "stderr",
     "output_type": "stream",
     "text": [
      "\u001B[32m[I 2022-06-16 18:56:38,591]\u001B[0m Trial 47 finished with value: 0.9440559440559441 and parameters: {'lambda_l1': 0.008330232446516461, 'lambda_l2': 0.5972734953683333, 'num_leaves': 160, 'feature_fraction': 0.7321376396615434, 'bagging_fraction': 0.7027055225723496, 'bagging_freq': 2, 'min_child_samples': 49}. Best is trial 39 with value: 1.0.\u001B[0m\n",
      "\u001B[32m[I 2022-06-16 18:56:38,671]\u001B[0m Trial 48 finished with value: 0.9440559440559441 and parameters: {'lambda_l1': 6.36704938384607, 'lambda_l2': 0.02420048743251908, 'num_leaves': 247, 'feature_fraction': 0.8920578529617526, 'bagging_fraction': 0.6243176289559672, 'bagging_freq': 6, 'min_child_samples': 26}. Best is trial 39 with value: 1.0.\u001B[0m\n"
     ]
    },
    {
     "name": "stdout",
     "output_type": "stream",
     "text": [
      "Did not meet early stopping. Best iteration is:\n",
      "[76]\tvalid_0's binary_logloss: 0.128359\n",
      "Training until validation scores don't improve for 200 rounds\n",
      "Did not meet early stopping. Best iteration is:\n",
      "[70]\tvalid_0's binary_logloss: 0.145771\n",
      "Training until validation scores don't improve for 200 rounds\n"
     ]
    },
    {
     "name": "stderr",
     "output_type": "stream",
     "text": [
      "\u001B[32m[I 2022-06-16 18:56:38,808]\u001B[0m Trial 49 finished with value: 0.972027972027972 and parameters: {'lambda_l1': 0.031392814649650484, 'lambda_l2': 2.695273011276523e-06, 'num_leaves': 221, 'feature_fraction': 0.9840861747901041, 'bagging_fraction': 0.7918962242362357, 'bagging_freq': 5, 'min_child_samples': 18}. Best is trial 39 with value: 1.0.\u001B[0m\n",
      "\u001B[32m[I 2022-06-16 18:56:38,892]\u001B[0m Trial 50 finished with value: 0.958041958041958 and parameters: {'lambda_l1': 1.379614816788919e-08, 'lambda_l2': 0.0005444863496802397, 'num_leaves': 198, 'feature_fraction': 0.9199574040797086, 'bagging_fraction': 0.5984129294635138, 'bagging_freq': 1, 'min_child_samples': 80}. Best is trial 39 with value: 1.0.\u001B[0m\n"
     ]
    },
    {
     "name": "stdout",
     "output_type": "stream",
     "text": [
      "Did not meet early stopping. Best iteration is:\n",
      "[68]\tvalid_0's binary_logloss: 0.128935\n",
      "Training until validation scores don't improve for 200 rounds\n",
      "Did not meet early stopping. Best iteration is:\n",
      "[97]\tvalid_0's binary_logloss: 0.0962146\n",
      "Training until validation scores don't improve for 200 rounds\n",
      "Did not meet early stopping. Best iteration is:\n",
      "[100]\tvalid_0's binary_logloss: 0.084449\n"
     ]
    },
    {
     "name": "stderr",
     "output_type": "stream",
     "text": [
      "\u001B[32m[I 2022-06-16 18:56:38,984]\u001B[0m Trial 51 finished with value: 0.965034965034965 and parameters: {'lambda_l1': 7.505230323407157e-06, 'lambda_l2': 0.0010828360255481187, 'num_leaves': 127, 'feature_fraction': 0.9658349997743644, 'bagging_fraction': 0.7497329039911048, 'bagging_freq': 1, 'min_child_samples': 88}. Best is trial 39 with value: 1.0.\u001B[0m\n",
      "\u001B[32m[I 2022-06-16 18:56:39,085]\u001B[0m Trial 52 finished with value: 0.972027972027972 and parameters: {'lambda_l1': 0.00038757889079562186, 'lambda_l2': 8.662905190816323e-05, 'num_leaves': 179, 'feature_fraction': 0.8095023176462287, 'bagging_fraction': 0.6617957586216393, 'bagging_freq': 1, 'min_child_samples': 45}. Best is trial 39 with value: 1.0.\u001B[0m\n",
      "\u001B[32m[I 2022-06-16 18:56:39,177]\u001B[0m Trial 53 finished with value: 0.972027972027972 and parameters: {'lambda_l1': 2.47500877351572e-06, 'lambda_l2': 0.0010391826195973303, 'num_leaves': 156, 'feature_fraction': 0.8676713786703707, 'bagging_fraction': 0.8339485396294761, 'bagging_freq': 1, 'min_child_samples': 75}. Best is trial 39 with value: 1.0.\u001B[0m\n"
     ]
    },
    {
     "name": "stdout",
     "output_type": "stream",
     "text": [
      "Training until validation scores don't improve for 200 rounds\n",
      "Did not meet early stopping. Best iteration is:\n",
      "[80]\tvalid_0's binary_logloss: 0.0828167\n",
      "Training until validation scores don't improve for 200 rounds\n",
      "Did not meet early stopping. Best iteration is:\n",
      "[99]\tvalid_0's binary_logloss: 0.0693493\n",
      "Training until validation scores don't improve for 200 rounds\n"
     ]
    },
    {
     "name": "stderr",
     "output_type": "stream",
     "text": [
      "\u001B[32m[I 2022-06-16 18:56:39,260]\u001B[0m Trial 54 finished with value: 0.958041958041958 and parameters: {'lambda_l1': 3.7214835543590403e-07, 'lambda_l2': 0.008985335097738977, 'num_leaves': 135, 'feature_fraction': 0.9998822191317972, 'bagging_fraction': 0.8706926706694296, 'bagging_freq': 1, 'min_child_samples': 95}. Best is trial 39 with value: 1.0.\u001B[0m\n",
      "\u001B[32m[I 2022-06-16 18:56:39,330]\u001B[0m Trial 55 finished with value: 0.986013986013986 and parameters: {'lambda_l1': 0.00011537337626677609, 'lambda_l2': 0.11801304981441178, 'num_leaves': 9, 'feature_fraction': 0.4282794865577298, 'bagging_fraction': 0.776064187888094, 'bagging_freq': 1, 'min_child_samples': 100}. Best is trial 39 with value: 1.0.\u001B[0m\n",
      "\u001B[32m[I 2022-06-16 18:56:39,437]\u001B[0m Trial 56 finished with value: 0.965034965034965 and parameters: {'lambda_l1': 0.002460312991887323, 'lambda_l2': 0.14649637197653426, 'num_leaves': 36, 'feature_fraction': 0.9631705786127446, 'bagging_fraction': 0.934592877440314, 'bagging_freq': 1, 'min_child_samples': 33}. Best is trial 39 with value: 1.0.\u001B[0m\n"
     ]
    },
    {
     "name": "stdout",
     "output_type": "stream",
     "text": [
      "Did not meet early stopping. Best iteration is:\n",
      "[97]\tvalid_0's binary_logloss: 0.116731\n",
      "Training until validation scores don't improve for 200 rounds\n",
      "Did not meet early stopping. Best iteration is:\n",
      "[100]\tvalid_0's binary_logloss: 0.0741788\n",
      "Training until validation scores don't improve for 200 rounds\n",
      "Did not meet early stopping. Best iteration is:\n",
      "[93]\tvalid_0's binary_logloss: 0.148363\n"
     ]
    },
    {
     "name": "stderr",
     "output_type": "stream",
     "text": [
      "\u001B[32m[I 2022-06-16 18:56:39,522]\u001B[0m Trial 57 finished with value: 0.9300699300699301 and parameters: {'lambda_l1': 1.6262409797472162, 'lambda_l2': 2.067412443061754e-05, 'num_leaves': 164, 'feature_fraction': 0.9055345845286913, 'bagging_fraction': 0.7579608768457651, 'bagging_freq': 2, 'min_child_samples': 57}. Best is trial 39 with value: 1.0.\u001B[0m\n",
      "\u001B[32m[I 2022-06-16 18:56:39,661]\u001B[0m Trial 58 finished with value: 0.9440559440559441 and parameters: {'lambda_l1': 7.98921884993553e-08, 'lambda_l2': 0.002169116061909914, 'num_leaves': 191, 'feature_fraction': 0.6847498925556013, 'bagging_fraction': 0.8932451161184447, 'bagging_freq': 3, 'min_child_samples': 20}. Best is trial 39 with value: 1.0.\u001B[0m\n"
     ]
    },
    {
     "name": "stdout",
     "output_type": "stream",
     "text": [
      "Training until validation scores don't improve for 200 rounds\n",
      "Did not meet early stopping. Best iteration is:\n",
      "[100]\tvalid_0's binary_logloss: 0.121553\n",
      "Training until validation scores don't improve for 200 rounds\n",
      "Did not meet early stopping. Best iteration is:\n",
      "[43]\tvalid_0's binary_logloss: 0.159872\n"
     ]
    },
    {
     "name": "stderr",
     "output_type": "stream",
     "text": [
      "\u001B[32m[I 2022-06-16 18:56:39,757]\u001B[0m Trial 59 finished with value: 0.9300699300699301 and parameters: {'lambda_l1': 0.0030827693280756074, 'lambda_l2': 0.008437460529616057, 'num_leaves': 207, 'feature_fraction': 0.46082985093877993, 'bagging_fraction': 0.5582041127616008, 'bagging_freq': 2, 'min_child_samples': 40}. Best is trial 39 with value: 1.0.\u001B[0m\n",
      "\u001B[32m[I 2022-06-16 18:56:39,853]\u001B[0m Trial 60 finished with value: 0.965034965034965 and parameters: {'lambda_l1': 0.006006753471349557, 'lambda_l2': 0.00028832934435371447, 'num_leaves': 170, 'feature_fraction': 0.4623777011343946, 'bagging_fraction': 0.5270557595924018, 'bagging_freq': 1, 'min_child_samples': 30}. Best is trial 39 with value: 1.0.\u001B[0m\n"
     ]
    },
    {
     "name": "stdout",
     "output_type": "stream",
     "text": [
      "Training until validation scores don't improve for 200 rounds\n",
      "Did not meet early stopping. Best iteration is:\n",
      "[44]\tvalid_0's binary_logloss: 0.188026\n",
      "Training until validation scores don't improve for 200 rounds\n",
      "Did not meet early stopping. Best iteration is:\n",
      "[99]\tvalid_0's binary_logloss: 0.0578746\n",
      "Training until validation scores don't improve for 200 rounds\n"
     ]
    },
    {
     "name": "stderr",
     "output_type": "stream",
     "text": [
      "\u001B[32m[I 2022-06-16 18:56:39,941]\u001B[0m Trial 61 finished with value: 0.9370629370629371 and parameters: {'lambda_l1': 1.4469205017008e-06, 'lambda_l2': 0.005144898885163338, 'num_leaves': 140, 'feature_fraction': 0.9427210415110914, 'bagging_fraction': 0.7924834727361781, 'bagging_freq': 2, 'min_child_samples': 88}. Best is trial 39 with value: 1.0.\u001B[0m\n",
      "\u001B[32m[I 2022-06-16 18:56:40,031]\u001B[0m Trial 62 finished with value: 0.9790209790209791 and parameters: {'lambda_l1': 4.861086208763892e-06, 'lambda_l2': 0.00013798439648710908, 'num_leaves': 181, 'feature_fraction': 0.5679342767549816, 'bagging_fraction': 0.7218151596577189, 'bagging_freq': 2, 'min_child_samples': 92}. Best is trial 39 with value: 1.0.\u001B[0m\n",
      "\u001B[32m[I 2022-06-16 18:56:40,096]\u001B[0m Trial 63 finished with value: 0.9440559440559441 and parameters: {'lambda_l1': 1.2823054260413144e-05, 'lambda_l2': 0.015730370251855245, 'num_leaves': 193, 'feature_fraction': 0.5042762105545635, 'bagging_fraction': 0.6917937298706054, 'bagging_freq': 1, 'min_child_samples': 96}. Best is trial 39 with value: 1.0.\u001B[0m\n"
     ]
    },
    {
     "name": "stdout",
     "output_type": "stream",
     "text": [
      "Did not meet early stopping. Best iteration is:\n",
      "[98]\tvalid_0's binary_logloss: 0.150203\n",
      "Training until validation scores don't improve for 200 rounds\n",
      "Did not meet early stopping. Best iteration is:\n",
      "[79]\tvalid_0's binary_logloss: 0.0674283\n",
      "Training until validation scores don't improve for 200 rounds\n",
      "Did not meet early stopping. Best iteration is:\n",
      "[74]\tvalid_0's binary_logloss: 0.200098\n",
      "Training until validation scores don't improve for 200 rounds\n"
     ]
    },
    {
     "name": "stderr",
     "output_type": "stream",
     "text": [
      "\u001B[32m[I 2022-06-16 18:56:40,152]\u001B[0m Trial 64 finished with value: 0.9790209790209791 and parameters: {'lambda_l1': 0.00041149799075814586, 'lambda_l2': 7.4657869986614305, 'num_leaves': 28, 'feature_fraction': 0.5440498340379656, 'bagging_fraction': 0.7752309975825217, 'bagging_freq': 1, 'min_child_samples': 83}. Best is trial 39 with value: 1.0.\u001B[0m\n",
      "\u001B[32m[I 2022-06-16 18:56:40,204]\u001B[0m Trial 65 finished with value: 0.972027972027972 and parameters: {'lambda_l1': 0.17632147281269253, 'lambda_l2': 0.001578067017756264, 'num_leaves': 213, 'feature_fraction': 0.6608804463089575, 'bagging_fraction': 0.4006568935446381, 'bagging_freq': 2, 'min_child_samples': 86}. Best is trial 39 with value: 1.0.\u001B[0m\n",
      "\u001B[32m[I 2022-06-16 18:56:40,294]\u001B[0m Trial 66 finished with value: 0.972027972027972 and parameters: {'lambda_l1': 4.205917279500435e-05, 'lambda_l2': 0.029468346280963443, 'num_leaves': 228, 'feature_fraction': 0.6116331811588365, 'bagging_fraction': 0.8406726086914594, 'bagging_freq': 1, 'min_child_samples': 25}. Best is trial 39 with value: 1.0.\u001B[0m\n"
     ]
    },
    {
     "name": "stdout",
     "output_type": "stream",
     "text": [
      "Did not meet early stopping. Best iteration is:\n",
      "[100]\tvalid_0's binary_logloss: 0.106387\n",
      "Training until validation scores don't improve for 200 rounds\n",
      "Did not meet early stopping. Best iteration is:\n",
      "[100]\tvalid_0's binary_logloss: 0.13735\n",
      "Training until validation scores don't improve for 200 rounds\n",
      "Did not meet early stopping. Best iteration is:\n",
      "[68]\tvalid_0's binary_logloss: 0.0914721\n",
      "Training until validation scores don't improve for 200 rounds\n"
     ]
    },
    {
     "name": "stderr",
     "output_type": "stream",
     "text": [
      "\u001B[32m[I 2022-06-16 18:56:40,390]\u001B[0m Trial 67 finished with value: 0.986013986013986 and parameters: {'lambda_l1': 0.00014068916714914665, 'lambda_l2': 0.0949189586338907, 'num_leaves': 195, 'feature_fraction': 0.41551507651855357, 'bagging_fraction': 0.8044573598388117, 'bagging_freq': 1, 'min_child_samples': 100}. Best is trial 39 with value: 1.0.\u001B[0m\n",
      "\u001B[32m[I 2022-06-16 18:56:40,455]\u001B[0m Trial 68 finished with value: 0.9440559440559441 and parameters: {'lambda_l1': 7.247360005291897e-07, 'lambda_l2': 0.38541192446831524, 'num_leaves': 60, 'feature_fraction': 0.43529982427857755, 'bagging_fraction': 0.7442069013195162, 'bagging_freq': 1, 'min_child_samples': 98}. Best is trial 39 with value: 1.0.\u001B[0m\n",
      "\u001B[32m[I 2022-06-16 18:56:40,525]\u001B[0m Trial 69 finished with value: 0.972027972027972 and parameters: {'lambda_l1': 0.00023626573227737284, 'lambda_l2': 0.08769399055080682, 'num_leaves': 19, 'feature_fraction': 0.4253460778343433, 'bagging_fraction': 0.8080218463148063, 'bagging_freq': 2, 'min_child_samples': 100}. Best is trial 39 with value: 1.0.\u001B[0m\n"
     ]
    },
    {
     "name": "stdout",
     "output_type": "stream",
     "text": [
      "Did not meet early stopping. Best iteration is:\n",
      "[85]\tvalid_0's binary_logloss: 0.0715277\n",
      "Training until validation scores don't improve for 200 rounds\n",
      "Did not meet early stopping. Best iteration is:\n",
      "[87]\tvalid_0's binary_logloss: 0.117324\n",
      "Training until validation scores don't improve for 200 rounds\n",
      "Did not meet early stopping. Best iteration is:\n",
      "[100]\tvalid_0's binary_logloss: 0.0795048\n",
      "Training until validation scores don't improve for 200 rounds\n"
     ]
    },
    {
     "name": "stderr",
     "output_type": "stream",
     "text": [
      "\u001B[32m[I 2022-06-16 18:56:40,603]\u001B[0m Trial 70 finished with value: 0.965034965034965 and parameters: {'lambda_l1': 0.00010315094123387293, 'lambda_l2': 0.14592297382788477, 'num_leaves': 122, 'feature_fraction': 0.48577488606006364, 'bagging_fraction': 0.8221992159076978, 'bagging_freq': 1, 'min_child_samples': 91}. Best is trial 39 with value: 1.0.\u001B[0m\n",
      "\u001B[32m[I 2022-06-16 18:56:40,668]\u001B[0m Trial 71 finished with value: 0.965034965034965 and parameters: {'lambda_l1': 3.070990645291656e-06, 'lambda_l2': 0.0006579653969454481, 'num_leaves': 3, 'feature_fraction': 0.44825917193423964, 'bagging_fraction': 0.7730995671687926, 'bagging_freq': 1, 'min_child_samples': 95}. Best is trial 39 with value: 1.0.\u001B[0m\n",
      "\u001B[32m[I 2022-06-16 18:56:40,739]\u001B[0m Trial 72 finished with value: 0.972027972027972 and parameters: {'lambda_l1': 9.988522003877584e-06, 'lambda_l2': 0.002630369417495863, 'num_leaves': 184, 'feature_fraction': 0.4098855404789268, 'bagging_fraction': 0.7954988120771386, 'bagging_freq': 1, 'min_child_samples': 100}. Best is trial 39 with value: 1.0.\u001B[0m\n"
     ]
    },
    {
     "name": "stdout",
     "output_type": "stream",
     "text": [
      "Did not meet early stopping. Best iteration is:\n",
      "[97]\tvalid_0's binary_logloss: 0.108358\n",
      "Training until validation scores don't improve for 200 rounds\n",
      "Did not meet early stopping. Best iteration is:\n",
      "[88]\tvalid_0's binary_logloss: 0.0960485\n",
      "Training until validation scores don't improve for 200 rounds\n",
      "Did not meet early stopping. Best iteration is:\n",
      "[98]\tvalid_0's binary_logloss: 0.100699\n",
      "Training until validation scores don't improve for 200 rounds\n",
      "Did not meet early stopping. Best iteration is:\n",
      "[87]\tvalid_0's binary_logloss: 0.107214\n"
     ]
    },
    {
     "name": "stderr",
     "output_type": "stream",
     "text": [
      "\u001B[32m[I 2022-06-16 18:56:40,824]\u001B[0m Trial 73 finished with value: 0.9790209790209791 and parameters: {'lambda_l1': 3.039877609856912e-07, 'lambda_l2': 0.009331968142381578, 'num_leaves': 168, 'feature_fraction': 0.4486067354680189, 'bagging_fraction': 0.605989236189985, 'bagging_freq': 1, 'min_child_samples': 93}. Best is trial 39 with value: 1.0.\u001B[0m\n",
      "\u001B[32m[I 2022-06-16 18:56:40,915]\u001B[0m Trial 74 finished with value: 0.951048951048951 and parameters: {'lambda_l1': 0.0018080855071171843, 'lambda_l2': 3.6251302528173888, 'num_leaves': 245, 'feature_fraction': 0.9754774785385336, 'bagging_fraction': 0.8566156675179991, 'bagging_freq': 1, 'min_child_samples': 88}. Best is trial 39 with value: 1.0.\u001B[0m\n",
      "\u001B[32m[I 2022-06-16 18:56:41,012]\u001B[0m Trial 75 finished with value: 0.958041958041958 and parameters: {'lambda_l1': 1.793350669043729e-05, 'lambda_l2': 2.8402841266234877e-05, 'num_leaves': 197, 'feature_fraction': 0.4117896447825523, 'bagging_fraction': 0.8179744932412355, 'bagging_freq': 1, 'min_child_samples': 97}. Best is trial 39 with value: 1.0.\u001B[0m\n"
     ]
    },
    {
     "name": "stdout",
     "output_type": "stream",
     "text": [
      "Training until validation scores don't improve for 200 rounds\n",
      "Did not meet early stopping. Best iteration is:\n",
      "[100]\tvalid_0's binary_logloss: 0.15312\n",
      "Training until validation scores don't improve for 200 rounds\n",
      "Did not meet early stopping. Best iteration is:\n",
      "[99]\tvalid_0's binary_logloss: 0.0850543\n",
      "Training until validation scores don't improve for 200 rounds\n"
     ]
    },
    {
     "name": "stderr",
     "output_type": "stream",
     "text": [
      "\u001B[32m[I 2022-06-16 18:56:41,144]\u001B[0m Trial 76 finished with value: 0.986013986013986 and parameters: {'lambda_l1': 1.2308579304956195e-06, 'lambda_l2': 0.049611649287456164, 'num_leaves': 107, 'feature_fraction': 0.5242462935703647, 'bagging_fraction': 0.5823567986142263, 'bagging_freq': 1, 'min_child_samples': 9}. Best is trial 39 with value: 1.0.\u001B[0m\n"
     ]
    },
    {
     "name": "stdout",
     "output_type": "stream",
     "text": [
      "Did not meet early stopping. Best iteration is:\n",
      "[89]\tvalid_0's binary_logloss: 0.043101\n",
      "Training until validation scores don't improve for 200 rounds\n",
      "Did not meet early stopping. Best iteration is:\n",
      "[47]\tvalid_0's binary_logloss: 0.138938\n"
     ]
    },
    {
     "name": "stderr",
     "output_type": "stream",
     "text": [
      "\u001B[32m[I 2022-06-16 18:56:41,265]\u001B[0m Trial 77 finished with value: 0.958041958041958 and parameters: {'lambda_l1': 8.689447844170616e-05, 'lambda_l2': 0.07965995883525101, 'num_leaves': 107, 'feature_fraction': 0.8669577837642941, 'bagging_fraction': 0.8758670038279774, 'bagging_freq': 3, 'min_child_samples': 9}. Best is trial 39 with value: 1.0.\u001B[0m\n",
      "\u001B[32m[I 2022-06-16 18:56:41,369]\u001B[0m Trial 78 finished with value: 0.972027972027972 and parameters: {'lambda_l1': 0.0013921484278168852, 'lambda_l2': 0.05101042904809982, 'num_leaves': 93, 'feature_fraction': 0.7566561380722225, 'bagging_fraction': 0.5809362765218136, 'bagging_freq': 2, 'min_child_samples': 15}. Best is trial 39 with value: 1.0.\u001B[0m\n",
      "\u001B[32m[I 2022-06-16 18:56:41,442]\u001B[0m Trial 79 finished with value: 0.951048951048951 and parameters: {'lambda_l1': 0.031091754136750943, 'lambda_l2': 0.003740555217506267, 'num_leaves': 152, 'feature_fraction': 0.5744344717305531, 'bagging_fraction': 0.6452590080101966, 'bagging_freq': 7, 'min_child_samples': 65}. Best is trial 39 with value: 1.0.\u001B[0m\n"
     ]
    },
    {
     "name": "stdout",
     "output_type": "stream",
     "text": [
      "Training until validation scores don't improve for 200 rounds\n",
      "Did not meet early stopping. Best iteration is:\n",
      "[99]\tvalid_0's binary_logloss: 0.0529194\n",
      "Training until validation scores don't improve for 200 rounds\n",
      "Did not meet early stopping. Best iteration is:\n",
      "[88]\tvalid_0's binary_logloss: 0.118917\n",
      "Training until validation scores don't improve for 200 rounds\n"
     ]
    },
    {
     "name": "stderr",
     "output_type": "stream",
     "text": [
      "\u001B[32m[I 2022-06-16 18:56:41,562]\u001B[0m Trial 80 finished with value: 0.965034965034965 and parameters: {'lambda_l1': 0.0001293049337586633, 'lambda_l2': 7.119922526809344e-05, 'num_leaves': 214, 'feature_fraction': 0.9273003278736472, 'bagging_fraction': 0.7317807296363417, 'bagging_freq': 2, 'min_child_samples': 33}. Best is trial 39 with value: 1.0.\u001B[0m\n",
      "\u001B[32m[I 2022-06-16 18:56:41,693]\u001B[0m Trial 81 finished with value: 0.986013986013986 and parameters: {'lambda_l1': 3.0229862345883115e-05, 'lambda_l2': 0.014916430647123752, 'num_leaves': 86, 'feature_fraction': 0.5206160647403237, 'bagging_fraction': 0.4490808405004898, 'bagging_freq': 1, 'min_child_samples': 8}. Best is trial 39 with value: 1.0.\u001B[0m\n"
     ]
    },
    {
     "name": "stdout",
     "output_type": "stream",
     "text": [
      "Did not meet early stopping. Best iteration is:\n",
      "[44]\tvalid_0's binary_logloss: 0.156036\n",
      "Training until validation scores don't improve for 200 rounds\n",
      "Did not meet early stopping. Best iteration is:\n",
      "[68]\tvalid_0's binary_logloss: 0.0640156\n",
      "Training until validation scores don't improve for 200 rounds\n"
     ]
    },
    {
     "name": "stderr",
     "output_type": "stream",
     "text": [
      "\u001B[32m[I 2022-06-16 18:56:41,820]\u001B[0m Trial 82 finished with value: 0.951048951048951 and parameters: {'lambda_l1': 3.9926975625632925e-05, 'lambda_l2': 0.020513431958800555, 'num_leaves': 89, 'feature_fraction': 0.4995636230201506, 'bagging_fraction': 0.4619783978241434, 'bagging_freq': 1, 'min_child_samples': 7}. Best is trial 39 with value: 1.0.\u001B[0m\n",
      "\u001B[32m[I 2022-06-16 18:56:41,946]\u001B[0m Trial 83 finished with value: 0.972027972027972 and parameters: {'lambda_l1': 0.0042794520887645265, 'lambda_l2': 0.007514062697929624, 'num_leaves': 141, 'feature_fraction': 0.5844144805381299, 'bagging_fraction': 0.6215568158291518, 'bagging_freq': 5, 'min_child_samples': 14}. Best is trial 39 with value: 1.0.\u001B[0m\n"
     ]
    },
    {
     "name": "stdout",
     "output_type": "stream",
     "text": [
      "Did not meet early stopping. Best iteration is:\n",
      "[84]\tvalid_0's binary_logloss: 0.132659\n",
      "Training until validation scores don't improve for 200 rounds\n",
      "Did not meet early stopping. Best iteration is:\n",
      "[70]\tvalid_0's binary_logloss: 0.0810732\n",
      "Training until validation scores don't improve for 200 rounds\n"
     ]
    },
    {
     "name": "stderr",
     "output_type": "stream",
     "text": [
      "\u001B[32m[I 2022-06-16 18:56:42,040]\u001B[0m Trial 84 finished with value: 0.958041958041958 and parameters: {'lambda_l1': 0.0006978176991654512, 'lambda_l2': 0.26010283333550327, 'num_leaves': 232, 'feature_fraction': 0.401601764488685, 'bagging_fraction': 0.7650272284952505, 'bagging_freq': 1, 'min_child_samples': 90}. Best is trial 39 with value: 1.0.\u001B[0m\n",
      "\u001B[32m[I 2022-06-16 18:56:42,111]\u001B[0m Trial 85 finished with value: 0.972027972027972 and parameters: {'lambda_l1': 1.7906551912391342e-06, 'lambda_l2': 0.00032919240595207395, 'num_leaves': 100, 'feature_fraction': 0.47690621290740126, 'bagging_fraction': 0.6739103224780418, 'bagging_freq': 1, 'min_child_samples': 83}. Best is trial 39 with value: 1.0.\u001B[0m\n"
     ]
    },
    {
     "name": "stdout",
     "output_type": "stream",
     "text": [
      "Did not meet early stopping. Best iteration is:\n",
      "[97]\tvalid_0's binary_logloss: 0.0908095\n",
      "Training until validation scores don't improve for 200 rounds\n",
      "Did not meet early stopping. Best iteration is:\n",
      "[100]\tvalid_0's binary_logloss: 0.0870877\n",
      "Training until validation scores don't improve for 200 rounds\n",
      "Did not meet early stopping. Best iteration is:\n",
      "[99]\tvalid_0's binary_logloss: 0.0528931\n"
     ]
    },
    {
     "name": "stderr",
     "output_type": "stream",
     "text": [
      "\u001B[32m[I 2022-06-16 18:56:42,216]\u001B[0m Trial 86 finished with value: 0.965034965034965 and parameters: {'lambda_l1': 0.013108726427198618, 'lambda_l2': 0.9531317041282599, 'num_leaves': 76, 'feature_fraction': 0.5195846645352438, 'bagging_fraction': 0.4348898823297679, 'bagging_freq': 1, 'min_child_samples': 12}. Best is trial 39 with value: 1.0.\u001B[0m\n",
      "\u001B[32m[I 2022-06-16 18:56:42,303]\u001B[0m Trial 87 finished with value: 0.9440559440559441 and parameters: {'lambda_l1': 1.0144431713188306e-06, 'lambda_l2': 0.0007243695453322211, 'num_leaves': 115, 'feature_fraction': 0.7867802452591182, 'bagging_fraction': 0.580274325422732, 'bagging_freq': 2, 'min_child_samples': 48}. Best is trial 39 with value: 1.0.\u001B[0m\n",
      "\u001B[32m[I 2022-06-16 18:56:42,418]\u001B[0m Trial 88 finished with value: 0.951048951048951 and parameters: {'lambda_l1': 7.652594207557894e-08, 'lambda_l2': 0.0013958692324956559, 'num_leaves': 175, 'feature_fraction': 0.6595507345497805, 'bagging_fraction': 0.6282916176813353, 'bagging_freq': 4, 'min_child_samples': 23}. Best is trial 39 with value: 1.0.\u001B[0m\n"
     ]
    },
    {
     "name": "stdout",
     "output_type": "stream",
     "text": [
      "Training until validation scores don't improve for 200 rounds\n",
      "Did not meet early stopping. Best iteration is:\n",
      "[88]\tvalid_0's binary_logloss: 0.16158\n",
      "Training until validation scores don't improve for 200 rounds\n",
      "Did not meet early stopping. Best iteration is:\n",
      "[39]\tvalid_0's binary_logloss: 0.143072\n",
      "Training until validation scores don't improve for 200 rounds\n"
     ]
    },
    {
     "name": "stderr",
     "output_type": "stream",
     "text": [
      "\u001B[32m[I 2022-06-16 18:56:42,535]\u001B[0m Trial 89 finished with value: 0.965034965034965 and parameters: {'lambda_l1': 0.006879852956854796, 'lambda_l2': 0.10612982425581834, 'num_leaves': 200, 'feature_fraction': 0.42260664085391564, 'bagging_fraction': 0.8449497562486572, 'bagging_freq': 1, 'min_child_samples': 36}. Best is trial 39 with value: 1.0.\u001B[0m\n",
      "\u001B[32m[I 2022-06-16 18:56:42,603]\u001B[0m Trial 90 finished with value: 0.965034965034965 and parameters: {'lambda_l1': 2.7420230420965628e-08, 'lambda_l2': 0.04192373414994528, 'num_leaves': 188, 'feature_fraction': 0.5386752622921755, 'bagging_fraction': 0.5334285652923236, 'bagging_freq': 1, 'min_child_samples': 100}. Best is trial 39 with value: 1.0.\u001B[0m\n",
      "\u001B[32m[I 2022-06-16 18:56:42,712]\u001B[0m Trial 91 finished with value: 0.9790209790209791 and parameters: {'lambda_l1': 6.838126500876349e-06, 'lambda_l2': 0.005178484326339333, 'num_leaves': 163, 'feature_fraction': 0.9532093984173384, 'bagging_fraction': 0.5930687194863663, 'bagging_freq': 1, 'min_child_samples': 27}. Best is trial 39 with value: 1.0.\u001B[0m\n"
     ]
    },
    {
     "name": "stdout",
     "output_type": "stream",
     "text": [
      "Did not meet early stopping. Best iteration is:\n",
      "[100]\tvalid_0's binary_logloss: 0.0398182\n",
      "Training until validation scores don't improve for 200 rounds\n",
      "Did not meet early stopping. Best iteration is:\n",
      "[100]\tvalid_0's binary_logloss: 0.119449\n",
      "Training until validation scores don't improve for 200 rounds\n",
      "Did not meet early stopping. Best iteration is:\n",
      "[79]\tvalid_0's binary_logloss: 0.0635094\n"
     ]
    },
    {
     "name": "stderr",
     "output_type": "stream",
     "text": [
      "\u001B[32m[I 2022-06-16 18:56:42,798]\u001B[0m Trial 92 finished with value: 0.9440559440559441 and parameters: {'lambda_l1': 2.5605764496790495e-05, 'lambda_l2': 0.013544531499858516, 'num_leaves': 45, 'feature_fraction': 0.4236288992352332, 'bagging_fraction': 0.706323707731067, 'bagging_freq': 1, 'min_child_samples': 97}. Best is trial 39 with value: 1.0.\u001B[0m\n",
      "\u001B[32m[I 2022-06-16 18:56:42,868]\u001B[0m Trial 93 finished with value: 0.9790209790209791 and parameters: {'lambda_l1': 3.829104319621537e-06, 'lambda_l2': 0.029450460974901744, 'num_leaves': 84, 'feature_fraction': 0.5227911630404201, 'bagging_fraction': 0.5011569961822211, 'bagging_freq': 1, 'min_child_samples': 61}. Best is trial 39 with value: 1.0.\u001B[0m\n",
      "\u001B[32m[I 2022-06-16 18:56:42,933]\u001B[0m Trial 94 finished with value: 0.965034965034965 and parameters: {'lambda_l1': 0.05900584224612715, 'lambda_l2': 1.108194381341216e-05, 'num_leaves': 204, 'feature_fraction': 0.4465273301030414, 'bagging_fraction': 0.7876674184947104, 'bagging_freq': 2, 'min_child_samples': 95}. Best is trial 39 with value: 1.0.\u001B[0m\n"
     ]
    },
    {
     "name": "stdout",
     "output_type": "stream",
     "text": [
      "Training until validation scores don't improve for 200 rounds\n",
      "Did not meet early stopping. Best iteration is:\n",
      "[98]\tvalid_0's binary_logloss: 0.100508\n",
      "Training until validation scores don't improve for 200 rounds\n",
      "Did not meet early stopping. Best iteration is:\n",
      "[97]\tvalid_0's binary_logloss: 0.0670344\n",
      "Training until validation scores don't improve for 200 rounds\n",
      "Did not meet early stopping. Best iteration is:\n",
      "[100]\tvalid_0's binary_logloss: 0.066747\n",
      "Training until validation scores don't improve for 200 rounds\n"
     ]
    },
    {
     "name": "stderr",
     "output_type": "stream",
     "text": [
      "\u001B[32m[I 2022-06-16 18:56:43,013]\u001B[0m Trial 95 finished with value: 0.986013986013986 and parameters: {'lambda_l1': 5.012801525811393e-05, 'lambda_l2': 0.038833220843454905, 'num_leaves': 122, 'feature_fraction': 0.47356792541412446, 'bagging_fraction': 0.8255282082161964, 'bagging_freq': 1, 'min_child_samples': 18}. Best is trial 39 with value: 1.0.\u001B[0m\n",
      "\u001B[32m[I 2022-06-16 18:56:43,160]\u001B[0m Trial 96 finished with value: 0.965034965034965 and parameters: {'lambda_l1': 5.846562326280484e-05, 'lambda_l2': 0.016078360776445876, 'num_leaves': 128, 'feature_fraction': 0.4711526047982158, 'bagging_fraction': 0.6645716404395717, 'bagging_freq': 2, 'min_child_samples': 20}. Best is trial 39 with value: 1.0.\u001B[0m\n"
     ]
    },
    {
     "name": "stdout",
     "output_type": "stream",
     "text": [
      "Did not meet early stopping. Best iteration is:\n",
      "[70]\tvalid_0's binary_logloss: 0.09038\n",
      "Training until validation scores don't improve for 200 rounds\n",
      "Did not meet early stopping. Best iteration is:\n",
      "[76]\tvalid_0's binary_logloss: 0.138154\n",
      "Training until validation scores don't improve for 200 rounds\n"
     ]
    },
    {
     "name": "stderr",
     "output_type": "stream",
     "text": [
      "\u001B[32m[I 2022-06-16 18:56:43,317]\u001B[0m Trial 97 finished with value: 0.993006993006993 and parameters: {'lambda_l1': 0.00023157645073283332, 'lambda_l2': 2.3339965955416078e-08, 'num_leaves': 108, 'feature_fraction': 0.4957086351839552, 'bagging_fraction': 0.8952517508681361, 'bagging_freq': 1, 'min_child_samples': 8}. Best is trial 39 with value: 1.0.\u001B[0m\n",
      "\u001B[32m[I 2022-06-16 18:56:43,470]\u001B[0m Trial 98 finished with value: 0.965034965034965 and parameters: {'lambda_l1': 1.6632496335962662e-05, 'lambda_l2': 1.5651151154213713e-07, 'num_leaves': 106, 'feature_fraction': 0.5546696995988858, 'bagging_fraction': 0.902063680583127, 'bagging_freq': 1, 'min_child_samples': 5}. Best is trial 39 with value: 1.0.\u001B[0m\n"
     ]
    },
    {
     "name": "stdout",
     "output_type": "stream",
     "text": [
      "Did not meet early stopping. Best iteration is:\n",
      "[96]\tvalid_0's binary_logloss: 0.0357584\n",
      "Training until validation scores don't improve for 200 rounds\n",
      "Did not meet early stopping. Best iteration is:\n",
      "[56]\tvalid_0's binary_logloss: 0.0932818\n",
      "Training until validation scores don't improve for 200 rounds\n"
     ]
    },
    {
     "name": "stderr",
     "output_type": "stream",
     "text": [
      "\u001B[32m[I 2022-06-16 18:56:43,665]\u001B[0m Trial 99 finished with value: 0.965034965034965 and parameters: {'lambda_l1': 1.0017760796268592e-05, 'lambda_l2': 1.1773897865611803e-08, 'num_leaves': 100, 'feature_fraction': 0.5296017934835784, 'bagging_fraction': 0.918681356342646, 'bagging_freq': 1, 'min_child_samples': 11}. Best is trial 39 with value: 1.0.\u001B[0m\n"
     ]
    },
    {
     "name": "stdout",
     "output_type": "stream",
     "text": [
      "Did not meet early stopping. Best iteration is:\n",
      "[47]\tvalid_0's binary_logloss: 0.0863906\n"
     ]
    }
   ],
   "source": [
    "study = optuna.create_study(direction=\"maximize\")\n",
    "func = lambda trial: objective(trial, data, target)\n",
    "study.optimize(func, n_trials=100)"
   ],
   "metadata": {
    "collapsed": false,
    "pycharm": {
     "name": "#%%\n"
    }
   }
  },
  {
   "cell_type": "code",
   "execution_count": 5,
   "outputs": [
    {
     "name": "stdout",
     "output_type": "stream",
     "text": [
      "1.0\n",
      "{'lambda_l1': 0.014801116140580875, 'lambda_l2': 0.00011795510267537172, 'num_leaves': 203, 'feature_fraction': 0.950764211914787, 'bagging_fraction': 0.8553934254239814, 'bagging_freq': 1, 'min_child_samples': 43}\n"
     ]
    }
   ],
   "source": [
    "# 最优结果\n",
    "print(study.best_value)\n",
    "\n",
    "# 最优参数\n",
    "print(study.best_params)"
   ],
   "metadata": {
    "collapsed": false,
    "pycharm": {
     "name": "#%%\n"
    }
   }
  }
 ],
 "metadata": {
  "kernelspec": {
   "display_name": "Python 3",
   "language": "python",
   "name": "python3"
  },
  "language_info": {
   "codemirror_mode": {
    "name": "ipython",
    "version": 2
   },
   "file_extension": ".py",
   "mimetype": "text/x-python",
   "name": "python",
   "nbconvert_exporter": "python",
   "pygments_lexer": "ipython2",
   "version": "2.7.6"
  }
 },
 "nbformat": 4,
 "nbformat_minor": 0
}