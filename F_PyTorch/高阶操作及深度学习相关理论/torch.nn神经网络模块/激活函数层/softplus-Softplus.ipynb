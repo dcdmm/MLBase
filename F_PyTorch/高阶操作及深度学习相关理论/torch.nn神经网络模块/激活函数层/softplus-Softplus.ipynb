{
 "cells": [
  {
   "cell_type": "markdown",
   "metadata": {
    "collapsed": true,
    "pycharm": {
     "name": "#%% md\n"
    }
   },
   "source": [
    "$$ \\text { Softplus }(x)=\\frac{1}{\\beta} * \\log (1+\\exp (\\beta * x)) $$"
   ]
  },
  {
   "cell_type": "code",
   "execution_count": 1,
   "outputs": [],
   "source": [
    "import torch\n",
    "import torch.nn.functional as F\n",
    "import matplotlib.pyplot as plt\n",
    "import torch.nn as nn"
   ],
   "metadata": {
    "collapsed": false,
    "pycharm": {
     "name": "#%%\n"
    }
   }
  },
  {
   "cell_type": "code",
   "execution_count": 2,
   "outputs": [
    {
     "data": {
      "text/plain": "<matplotlib.legend.Legend at 0x1b9db3239c8>"
     },
     "execution_count": 2,
     "metadata": {},
     "output_type": "execute_result"
    },
    {
     "data": {
      "text/plain": "<Figure size 432x288 with 1 Axes>",
      "image/png": "[encoded data removed]"
     },
     "metadata": {
      "needs_background": "light"
     },
     "output_type": "display_data"
    }
   ],
   "source": [
    "x = torch.linspace(-5, 5, 200)\n",
    "softplus_f = F.softplus(x, beta=1) # 默认beta=1\n",
    "relu_f = F.relu(x)\n",
    "\n",
    "plt.plot(x, softplus_f, color='red', label='softplus')\n",
    "plt.plot(x, relu_f, color='b', label='relu')\n",
    "plt.legend()"
   ],
   "metadata": {
    "collapsed": false,
    "pycharm": {
     "name": "#%%\n"
    }
   }
  },
  {
   "cell_type": "code",
   "execution_count": 3,
   "outputs": [
    {
     "data": {
      "text/plain": "tensor([0.0067, 0.0071, 0.0074, 0.0078, 0.0082, 0.0086, 0.0091, 0.0095, 0.0100,\n        0.0105, 0.0111, 0.0116, 0.0122, 0.0129, 0.0135, 0.0142, 0.0149, 0.0157,\n        0.0165, 0.0174, 0.0182, 0.0192, 0.0201, 0.0212, 0.0223, 0.0234, 0.0246,\n        0.0258, 0.0271, 0.0285, 0.0300, 0.0315, 0.0331, 0.0348, 0.0365, 0.0384,\n        0.0403, 0.0423, 0.0445, 0.0467, 0.0491, 0.0515, 0.0541, 0.0568, 0.0597,\n        0.0627, 0.0658, 0.0691, 0.0725, 0.0761, 0.0798, 0.0838, 0.0879, 0.0923,\n        0.0968, 0.1015, 0.1065, 0.1117, 0.1171, 0.1228, 0.1287, 0.1349, 0.1414,\n        0.1482, 0.1553, 0.1627, 0.1704, 0.1784, 0.1868, 0.1955, 0.2046, 0.2141,\n        0.2240, 0.2343, 0.2450, 0.2562, 0.2677, 0.2798, 0.2923, 0.3052, 0.3187,\n        0.3327, 0.3472, 0.3622, 0.3777, 0.3938, 0.4104, 0.4276, 0.4454, 0.4637,\n        0.4827, 0.5022, 0.5224, 0.5431, 0.5645, 0.5865, 0.6091, 0.6323, 0.6562,\n        0.6807, 0.7058, 0.7315, 0.7579, 0.7849, 0.8126, 0.8409, 0.8697, 0.8992,\n        0.9293, 0.9601, 0.9914, 1.0233, 1.0557, 1.0888, 1.1224, 1.1566, 1.1913,\n        1.2265, 1.2623, 1.2986, 1.3354, 1.3727, 1.4104, 1.4486, 1.4873, 1.5264,\n        1.5660, 1.6059, 1.6463, 1.6871, 1.7282, 1.7697, 1.8116, 1.8538, 1.8963,\n        1.9392, 1.9824, 2.0258, 2.0696, 2.1137, 2.1580, 2.2025, 2.2474, 2.2924,\n        2.3377, 2.3832, 2.4289, 2.4749, 2.5210, 2.5673, 2.6138, 2.6604, 2.7072,\n        2.7542, 2.8013, 2.8486, 2.8960, 2.9436, 2.9912, 3.0390, 3.0869, 3.1349,\n        3.1830, 3.2313, 3.2796, 3.3280, 3.3765, 3.4250, 3.4737, 3.5224, 3.5712,\n        3.6201, 3.6690, 3.7180, 3.7671, 3.8162, 3.8654, 3.9146, 3.9639, 4.0132,\n        4.0626, 4.1120, 4.1614, 4.2109, 4.2604, 4.3100, 4.3596, 4.4092, 4.4589,\n        4.5086, 4.5583, 4.6080, 4.6578, 4.7076, 4.7574, 4.8072, 4.8570, 4.9069,\n        4.9568, 5.0067])"
     },
     "execution_count": 3,
     "metadata": {},
     "output_type": "execute_result"
    }
   ],
   "source": [
    "softplus_c = nn.Softplus()\n",
    "softplus_c(x)"
   ],
   "metadata": {
    "collapsed": false,
    "pycharm": {
     "name": "#%%\n"
    }
   }
  },
  {
   "cell_type": "code",
   "execution_count": null,
   "outputs": [],
   "source": [
    "\n"
   ],
   "metadata": {
    "collapsed": false,
    "pycharm": {
     "name": "#%%\n"
    }
   }
  }
 ],
 "metadata": {
  "kernelspec": {
   "display_name": "Python 3",
   "language": "python",
   "name": "python3"
  },
  "language_info": {
   "codemirror_mode": {
    "name": "ipython",
    "version": 2
   },
   "file_extension": ".py",
   "mimetype": "text/x-python",
   "name": "python",
   "nbconvert_exporter": "python",
   "pygments_lexer": "ipython2",
   "version": "2.7.6"
  }
 },
 "nbformat": 4,
 "nbformat_minor": 0
}