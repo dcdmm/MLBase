{
 "cells": [
  {
   "cell_type": "code",
   "execution_count": 1,
   "id": "b58d21e0-8628-4549-a9c8-51d16a1472f7",
   "metadata": {},
   "outputs": [],
   "source": [
    "import jsonlines"
   ]
  },
  {
   "cell_type": "code",
   "execution_count": 2,
   "id": "ea7cb36b-fc40-4115-ab51-f0a0688b8929",
   "metadata": {},
   "outputs": [],
   "source": [
    "def snli_preprocess(src_path, dst_path):\n",
    "    all_data = {}\n",
    "    with open(src_path, 'r', encoding='utf8') as f:\n",
    "        for line in jsonlines.Reader(f):\n",
    "            sent1 = line['sentence1']\n",
    "            sent2 = line['sentence2']\n",
    "            label = line['gold_label']\n",
    "            if sent1 not in all_data:\n",
    "                all_data[sent1] = {}\n",
    "            if label == 'entailment':\n",
    "                all_data[sent1]['entailment'] = sent2\n",
    "            elif label == 'contradiction':\n",
    "                all_data[sent1]['contradiction'] = sent2\n",
    "\n",
    "                # example:{\"origin\": \"在白云的蓝天下，一个孩子伸手摸着停在草地上的一架飞机的螺旋桨。\", \"entailment\": \"一个孩子正伸手摸飞机的螺旋桨。\", \"contradiction\": \"一个孩子在玩球。\"}\n",
    "    out_data = [{'origin': k,\n",
    "                 # 对比学习数据对(用于有监督任务)\n",
    "                 'entailment': v['entailment'],  # 正样本(x^+) \n",
    "                 'contradiction': v['contradiction']}  # 负样本(x^-)\n",
    "                for k, v in all_data.items()\n",
    "                if v.get('entailment') and v.get('contradiction')]\n",
    "\n",
    "    with jsonlines.open(dst_path, 'w') as writer:\n",
    "        writer.write_all(out_data)"
   ]
  },
  {
   "cell_type": "code",
   "execution_count": 3,
   "id": "7186e81e-aad2-49b3-92a2-01691b86a0d7",
   "metadata": {
    "pycharm": {
     "name": "#%%\n"
    }
   },
   "outputs": [],
   "source": [
    "snli_preprocess('cnsd-snli/cnsd_snli_v1.0.train.jsonl', 'cnsd-snli-process/train.jsonl')"
   ]
  }
 ],
 "metadata": {
  "kernelspec": {
   "display_name": "env_3812",
   "language": "python",
   "name": "env_3812"
  },
  "language_info": {
   "codemirror_mode": {
    "name": "ipython",
    "version": 3
   },
   "file_extension": ".py",
   "mimetype": "text/x-python",
   "name": "python",
   "nbconvert_exporter": "python",
   "pygments_lexer": "ipython3",
   "version": "3.8.12"
  }
 },
 "nbformat": 4,
 "nbformat_minor": 5
}