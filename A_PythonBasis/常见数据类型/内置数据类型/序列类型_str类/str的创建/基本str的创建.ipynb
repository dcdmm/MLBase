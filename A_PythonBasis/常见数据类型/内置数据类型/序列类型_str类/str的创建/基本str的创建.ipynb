{
 "cells": [
  {
   "cell_type": "markdown",
   "metadata": {},
   "source": [
    "Textual data in Python is handled with str objects, or strings. Strings are immutable sequences of Unicode code points."
   ]
  },
  {
   "cell_type": "code",
   "execution_count": 64,
   "metadata": {
    "ExecuteTime": {
     "end_time": "2024-07-10T08:03:21.183226Z",
     "start_time": "2024-07-10T08:03:21.179980Z"
    }
   },
   "outputs": [
    {
     "name": "stdout",
     "output_type": "stream",
     "text": [
      "duanchao\n",
      "\n",
      "hello world,\n",
      "hello python\n",
      "    hello c++\n",
      "hello rust\n",
      "    hello java\n",
      "hello world,\\ \n",
      "hello python\n",
      "    hello c++\n",
      "hello rust\n",
      "    hello java\n"
     ]
    }
   ],
   "source": [
    "name_0 = 'duanchao'\n",
    "name_1 = \"duanchao\"  # 字符串可以用单引号或双引号括起来\n",
    "print(name_1)\n",
    "\n",
    "poem = \"\"\"\n",
    "hello world,\n",
    "hello python\n",
    "    hello c++\n",
    "hello rust\n",
    "    hello java\"\"\"  # 三引号表示多行字符串(每两行间有一个隐藏的换行符)\n",
    "print(poem)\n",
    "\n",
    "poem = \"\"\"\\\n",
    "hello world,\\ \n",
    "hello python\n",
    "    hello c++\n",
    "hello rust\n",
    "    hello java\"\"\"  # 三引号表示多行字符串(行末尾使用专业字符串'\\'忽略换行符)\n",
    "print(poem)\n"
   ]
  },
  {
   "cell_type": "code",
   "execution_count": 65,
   "metadata": {
    "ExecuteTime": {
     "end_time": "2024-07-10T08:03:21.192975Z",
     "start_time": "2024-07-10T08:03:21.184177Z"
    },
    "collapsed": false,
    "pycharm": {
     "name": "#%%\n"
    }
   },
   "outputs": [
    {
     "name": "stdout",
     "output_type": "stream",
     "text": [
      "dcdmm come ondcgohello world <class 'str'>\n",
      "dcdmm come ondcgohello world <class 'str'>\n",
      "('dcgo',) <class 'tuple'>\n"
     ]
    }
   ],
   "source": [
    "example0_ = \"dcdmm\" \" come on\"\\\n",
    "            \"dcgo\" \\\n",
    "            \"hello world\"\n",
    "example0 = (\"dcdmm\" \" come on\"\n",
    "            \"dcgo\"\n",
    "            \"hello world\")\n",
    "\n",
    "print(example0_, type(example0_))  # 字符串;\n",
    "\n",
    "print(example0, type(example0))  # 字符串;与上等价(更加简介)\n",
    "\n",
    "example1 = (\"dcgo\",)\n",
    "\n",
    "print(example1, type(example1))  # 元组"
   ]
  },
  {
   "cell_type": "code",
   "execution_count": 66,
   "metadata": {
    "ExecuteTime": {
     "end_time": "2024-07-10T08:03:21.200961Z",
     "start_time": "2024-07-10T08:03:21.192975Z"
    },
    "pycharm": {
     "metadata": false,
     "name": "#%%\n"
    }
   },
   "outputs": [
    {
     "name": "stdout",
     "output_type": "stream",
     "text": [
      "duanchao is \"good\"\n",
      "duanchao is \"good\"\n",
      "duanchao is \"good\"\n",
      "duanchao is 'good'\n",
      "duanchao is 'good'\n",
      "duanchao is 'good'\n"
     ]
    }
   ],
   "source": [
    "# 字符串中带双引号\n",
    "print(\"duanchao is \\\"good\\\"\")  # 转义字符\\对\"进行转义\n",
    "print(\"\"\"duanchao is \\\"good\\\"\"\"\")  # 转义字符\\对\"进行转义\n",
    "print('duanchao is \"good\"')  # 这样也可输出\"\n",
    "\n",
    "# 字符串中带单引号\n",
    "print('duanchao is \\'good\\'')  # 转义字符'\\'对'进行转义\n",
    "print(\"duanchao is 'good'\")  # 这样也可输出'\n",
    "print(\"\"\"duanchao is 'good'\"\"\")  # 这样也可输出'"
   ]
  },
  {
   "cell_type": "code",
   "execution_count": 67,
   "metadata": {
    "ExecuteTime": {
     "end_time": "2024-07-10T08:03:21.208697Z",
     "start_time": "2024-07-10T08:03:21.200961Z"
    },
    "pycharm": {
     "metadata": false,
     "name": "#%%\n"
    }
   },
   "outputs": [
    {
     "data": {
      "text/plain": [
       "'123'"
      ]
     },
     "execution_count": 67,
     "metadata": {},
     "output_type": "execute_result"
    }
   ],
   "source": [
    "str(123)  # str(object='') -> str"
   ]
  },
  {
   "cell_type": "code",
   "execution_count": 68,
   "metadata": {
    "ExecuteTime": {
     "end_time": "2024-07-10T08:03:21.216868Z",
     "start_time": "2024-07-10T08:03:21.209701Z"
    },
    "collapsed": false,
    "pycharm": {
     "name": "#%%\n"
    }
   },
   "outputs": [
    {
     "data": {
      "text/plain": [
       "\"{'runoob': 'runoob.com', 'google': 'google.com'}\""
      ]
     },
     "execution_count": 68,
     "metadata": {},
     "output_type": "execute_result"
    }
   ],
   "source": [
    "dict_string = {'runoob': 'runoob.com', 'google': 'google.com'}\n",
    "str(dict_string)"
   ]
  },
  {
   "cell_type": "code",
   "execution_count": 69,
   "metadata": {
    "ExecuteTime": {
     "end_time": "2024-07-10T08:03:21.224809Z",
     "start_time": "2024-07-10T08:03:21.216868Z"
    },
    "collapsed": false,
    "pycharm": {
     "name": "#%%\n"
    }
   },
   "outputs": [
    {
     "data": {
      "text/plain": [
       "\"[1, 2, 3, 4, '5']\""
      ]
     },
     "execution_count": 69,
     "metadata": {},
     "output_type": "execute_result"
    }
   ],
   "source": [
    "lst = [1, 2, 3, 4, '5']\n",
    "str(lst)"
   ]
  }
 ],
 "metadata": {
  "kernelspec": {
   "display_name": "Python 3",
   "language": "python",
   "name": "python3"
  },
  "language_info": {
   "codemirror_mode": {
    "name": "ipython",
    "version": 3
   },
   "file_extension": ".py",
   "mimetype": "text/x-python",
   "name": "python",
   "nbconvert_exporter": "python",
   "pygments_lexer": "ipython3",
   "version": "3.11.7"
  }
 },
 "nbformat": 4,
 "nbformat_minor": 0
}
