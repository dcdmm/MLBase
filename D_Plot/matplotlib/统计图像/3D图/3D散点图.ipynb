{
 "cells": [
  {
   "cell_type": "code",
   "execution_count": 1,
   "metadata": {
    "pycharm": {
     "is_executing": false,
     "name": "#%%\n"
    }
   },
   "outputs": [],
   "source": [
    "%matplotlib qt5\n",
    "\n",
    "from mpl_toolkits.mplot3d import Axes3D  \n",
    "import matplotlib.pyplot as plt\n",
    "import numpy as np\n",
    "\n",
    "colors = plt.cm.Set1(np.linspace(0, 1, 100)) \n",
    "fig = plt.figure()\n",
    "ax = fig.add_subplot(111, projection='3d')\n",
    "\n",
    "X = np.linspace(-5, 5, 10)\n",
    "Y = np.linspace(-5, 5, 10)\n",
    "X, Y = np.meshgrid(X, Y)\n",
    "R = np.sqrt(X**2 + Y**2)\n",
    "Z = np.sin(R)\n",
    "\n",
    "point = ax.scatter(xs=X, ys=Y, zs=Z, c=colors, marker='^', s=100, alpha=0.3)\n",
    "'''\n",
    "    xs, ys : array-like\n",
    "        The data positions.\n",
    "\n",
    "    zs : float or array-like, optional, default: 0\n",
    "        The z-positions. Either an array of the same length as xs and ys or a single value to place all points in the same plane.\n",
    "\n",
    "    s : scalar or array-like, optional, default: 20\n",
    "        The marker size in points**2. Either an array of the same length as xs and ys or a single value to make all markers the same size.\n",
    "    \n",
    "    marker : MarkerStyle, optional\n",
    "        The marker style. marker can be either an instance of the class or the text \n",
    "        shorthand for a particular marker. Defaults to None, in which case it takes \n",
    "        the value of rcParams[\"scatter.marker\"] = 'o'. See markers for more information \n",
    "        about marker styles.\n",
    "    \n",
    "    c : color, sequence, or sequence of color, optional\n",
    "        The marker color. Possible values:\n",
    "        A single color format string.\n",
    "        A sequence of color specifications of length n.\n",
    "        A sequence of n numbers to be mapped to colors using cmap and norm.\n",
    "        A 2-D array in which the rows are RGB or RGBA.    \n",
    "'''\n",
    "ax.set_xlabel('X Label')\n",
    "ax.set_ylabel('Y Label')\n",
    "ax.set_zlabel('Z Label')\n",
    "plt.show()\n",
    "\n"
   ]
  }
 ],
 "metadata": {
  "kernelspec": {
   "display_name": "Python 3",
   "language": "python",
   "name": "python3"
  },
  "stem_cell": {
   "cell_type": "raw",
   "metadata": {
    "pycharm": {
     "metadata": false
    }
   },
   "source": ""
  },
  "pycharm": {
   "stem_cell": {
    "cell_type": "raw",
    "source": [],
    "metadata": {
     "collapsed": false
    }
   }
  }
 },
 "nbformat": 4,
 "nbformat_minor": 1
}