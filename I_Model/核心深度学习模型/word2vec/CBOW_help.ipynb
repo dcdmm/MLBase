{
 "cells": [
  {
   "cell_type": "markdown",
   "metadata": {},
   "source": [
    "<img src=\"../../../Other/img/CBOW.jpg\">\r\n",
    "\r\n",
    "***\r\n",
    "\r\n",
    "&emsp;&emsp;连续词袋模型与跳字模型类似.与跳字模型最大的不同在于,连续词袋模型假设基于某中心词在文本序列前后的背景词来生成该中心词.在同样的文本序列'the', 'man','loves', 'his','son'里,以'loves'作为中心词,且背景窗口大小为2时,连续词袋模型关心的是,给定背景词'the','man','his','son'生成中 心词'loves'的条件概率(如下图所示),也就是\r\n",
    "\r\n",
    "$$ P('loves' | 'the', 'man', 'his', 'son')  $$\r\n",
    "\r\n",
    "<img src=\"../../../Other/img/CBOW1.jpg\">\r\n",
    "\r\n",
    "***\r\n",
    "\r\n",
    "<img src=\"../../../Other/img/CBOW2.jpg\">\r\n",
    "\r\n",
    "假设中心词为$w_i$,背景词为$w_{i-2},w_{i-1},w_{i+1},w_{i+1}$,词表索引集大小为$V$,$W^*$为中心词词向量矩阵,$W$为背景词词向量矩阵,背景窗口大小为$4$,$W^*_j$为$W^*$的第$j$列\r\n",
    "1. 根据$w_{i-2},w_{i-1},w_{i+1},w_{i+1}$在词表索引集中的位置,将$w_{i-2},w_{i-1},w_{i+1},w_{i+1}$映射成4个$1 \\times V$的向量\r\n",
    "2. 由$ (1 \\times V) \\times (V \\times D) = (1 \\times D) $得到$w_{i-2},w_{i-1},w_{i+1},w_{i+1}$的词向量$\\mathbf{v}_{W_{i-2}}, \\mathbf{v}_{W_{i-1}}, \\mathbf{v}_{W_{i+1}}, \\mathbf{v}_{W_{i+2}}$\r\n",
    "3. 将词向量$\\mathbf{v}_{W_{i-2}}, \\mathbf{v}_{W_{i-1}}, \\mathbf{v}_{W_{i+1}}, \\mathbf{v}_{W_{i+2}}$求和(或求平均)得到1个$ 1 \\times D $的向量\r\n",
    "4. $ (1 \\times D) \\times (D \\times V) = (1 \\times V) $\r\n",
    "5. 4经过softmax运算可得(这里假设求平均)\r\n",
    "\r\n",
    "$$\r\n",
    "\\begin{align}\r\n",
    "p\\left(w_{i} \\mid w_{i-2}, w_{i-1}, w_{i+1}, w_{i+2}\\right) &= \\frac{\\exp \\left(  \\frac{1}{4} \\left( \\mathbf{v}_{W_{i-2}} + \\mathbf{v}_{W_{i-1}} + \\mathbf{v}_{W_{i+1}} + \\mathbf{v}_{W_{i+2}}   \\right) W^*_{i}  \\right) }{ \\sum_{j=1}^V \\exp \\left(  \\frac{1}{4}  \\left( \\mathbf{v}_{W_{i-2}} + \\mathbf{v}_{W_{i-1}} + \\mathbf{v}_{W_{i+1}} + \\mathbf{v}_{W_{i+2}}  \\right) W^*_{j} \\right)}\\\\\r\n",
    "                      &=  \\frac{\\exp \\left(\\bar{\\mathbf{v}_{W}}  W^*_{i}   \\right) }{ \\sum_{j=1}^V  \\exp \\left(   \\bar{\\mathbf{v}_{W}} W^*_{j} \\right) } \\\\\r\n",
    "                      &=  \\frac{\\exp \\left(\\bar{\\mathbf{v}_{W}}  \\mathbf{u}_i \\right) }{ \\sum_{j=1}^V  \\exp \\left(   \\bar{\\mathbf{v}_{W}} \\mathbf{u}_i \\right) }\r\n",
    "\\end{align}\r\n",
    "$$\r\n",
    "\r\n",
    "其中,$\\mathbf{u}_{i}$为中心词$w_{i}$的词向量,$ \\bar{\\mathbf{v}_{W}} = \\frac{1}{4} \\left( \\mathbf{v}_{W_{i-2}} + \\mathbf{v}_{W_{i-1}} + \\mathbf{v}_{W_{i+1}} + \\mathbf{v}_{W_{i+2}} \\right) $\r\n",
    "\r\n",
    "由上可得,给定一个长度为$T$的文本序列,设时间步$t$的词为$w_{t}$,背景窗口大小为$m$,连续词袋模型的似然函数是\r\n",
    "\r\n",
    "$$ \\prod_{t=1}^{T} P\\left(w_{t} \\mid w_{t-m}, \\ldots, w_{t-1}, w_{t+1}, \\ldots, w_{t+m}\\right)  $$\r\n",
    "\r\n",
    "故连续词袋模型的损失函数是\r\n",
    "\r\n",
    "$$\r\n",
    "\\begin{align}\r\n",
    "-  \\prod_{t=1}^{T} \\log \\left( P\\left(w_{t} \\mid w_{t-m}, \\ldots, w_{t-1}, w_{t+1}, \\ldots, w_{t+m} \\right) \\right)  =- \\prod_{t=1} \\left(\\bar{\\mathbf{v}_{W}} \\mathbf{u}_t - \\log \\left( \\sum_{j=1}^V  \\exp \\left( \\bar{\\mathbf{v}_{W}} \\mathbf{u}_j \\right)  \\right)  \\right)\r\n",
    "\\end{align}\r\n",
    "$$"
   ]
  },
  {
   "cell_type": "code",
   "execution_count": null,
   "metadata": {},
   "outputs": [],
   "source": []
  }
 ],
 "metadata": {
  "interpreter": {
   "hash": "7f42f7985a9e76d558e128652df079bec508149d1eda9cc3ea1ae8669a21bab3"
  },
  "kernelspec": {
   "display_name": "Python 3 (ipykernel)",
   "language": "python",
   "name": "python3"
  },
  "language_info": {
   "codemirror_mode": {
    "name": "ipython",
    "version": 3
   },
   "file_extension": ".py",
   "mimetype": "text/x-python",
   "name": "python",
   "nbconvert_exporter": "python",
   "pygments_lexer": "ipython3",
   "version": "3.8.12"
  },
  "toc": {
   "base_numbering": 1,
   "nav_menu": {},
   "number_sections": true,
   "sideBar": true,
   "skip_h1_title": false,
   "title_cell": "Table of Contents",
   "title_sidebar": "Contents",
   "toc_cell": false,
   "toc_position": {},
   "toc_section_display": true,
   "toc_window_display": false
  }
 },
 "nbformat": 4,
 "nbformat_minor": 4
}
