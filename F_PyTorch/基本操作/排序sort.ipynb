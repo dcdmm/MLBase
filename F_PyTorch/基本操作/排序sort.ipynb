{
 "cells": [
  {
   "cell_type": "code",
   "execution_count": 10,
   "metadata": {
    "collapsed": true
   },
   "outputs": [],
   "source": [
    "import torch"
   ]
  },
  {
   "cell_type": "code",
   "execution_count": 11,
   "metadata": {},
   "outputs": [
    {
     "name": "stdout",
     "output_type": "stream",
     "text": [
      "tensor([1, 2, 3, 4])\n",
      "tensor([3, 0, 2, 1])\n"
     ]
    }
   ],
   "source": [
    "# 类似numpy.sort\n",
    "x , y = torch.sort(torch.tensor([2, 4, 3, 1])) # 默认dim=-1\n",
    "print(x) # 排序后的tensor\n",
    "print(y) # 排序后的tensor在原有tensor上的索引(如:1在原有tensor上的索引为3)"
   ]
  },
  {
   "cell_type": "code",
   "execution_count": 12,
   "outputs": [
    {
     "data": {
      "text/plain": "tensor([[4, 2],\n        [5, 7],\n        [3, 7],\n        [2, 6],\n        [7, 4],\n        [1, 9]])"
     },
     "execution_count": 12,
     "metadata": {},
     "output_type": "execute_result"
    }
   ],
   "source": [
    "a = torch.tensor([[4, 2],\n",
    "                  [5, 7],\n",
    "                  [3, 7],\n",
    "                  [2, 6],\n",
    "                  [7, 4],\n",
    "                  [1, 9]])\n",
    "a"
   ],
   "metadata": {
    "collapsed": false,
    "pycharm": {
     "name": "#%%\n"
    }
   }
  },
  {
   "cell_type": "code",
   "execution_count": 13,
   "outputs": [
    {
     "name": "stdout",
     "output_type": "stream",
     "text": [
      "torch.return_types.sort(\n",
      "values=tensor([[2, 4],\n",
      "        [5, 7],\n",
      "        [3, 7],\n",
      "        [2, 6],\n",
      "        [4, 7],\n",
      "        [1, 9]]),\n",
      "indices=tensor([[1, 0],\n",
      "        [0, 1],\n",
      "        [0, 1],\n",
      "        [0, 1],\n",
      "        [1, 0],\n",
      "        [0, 1]]))\n",
      "\n",
      "tensor([[2, 4],\n",
      "        [5, 7],\n",
      "        [3, 7],\n",
      "        [2, 6],\n",
      "        [4, 7],\n",
      "        [1, 9]])\n",
      "\n",
      "tensor([[1, 0],\n",
      "        [0, 1],\n",
      "        [0, 1],\n",
      "        [0, 1],\n",
      "        [1, 0],\n",
      "        [0, 1]])\n"
     ]
    }
   ],
   "source": [
    "sort_result = torch.sort(a)\n",
    "print(sort_result, end='\\n\\n')\n",
    "print(sort_result.values, end='\\n\\n')\n",
    "print(sort_result.indices)"
   ],
   "metadata": {
    "collapsed": false,
    "pycharm": {
     "name": "#%%\n"
    }
   }
  },
  {
   "cell_type": "code",
   "execution_count": 14,
   "metadata": {},
   "outputs": [
    {
     "data": {
      "text/plain": "torch.return_types.sort(\nvalues=tensor([[1, 2],\n        [2, 4],\n        [3, 6],\n        [4, 7],\n        [5, 7],\n        [7, 9]]),\nindices=tensor([[5, 0],\n        [3, 4],\n        [2, 3],\n        [0, 1],\n        [1, 2],\n        [4, 5]]))"
     },
     "execution_count": 14,
     "metadata": {},
     "output_type": "execute_result"
    }
   ],
   "source": [
    "torch.sort(a, dim=0)"
   ]
  },
  {
   "cell_type": "code",
   "execution_count": 15,
   "outputs": [
    {
     "data": {
      "text/plain": "torch.return_types.sort(\nvalues=tensor([[7, 9],\n        [5, 7],\n        [4, 7],\n        [3, 6],\n        [2, 4],\n        [1, 2]]),\nindices=tensor([[4, 5],\n        [1, 1],\n        [0, 2],\n        [2, 3],\n        [3, 4],\n        [5, 0]]))"
     },
     "execution_count": 15,
     "metadata": {},
     "output_type": "execute_result"
    }
   ],
   "source": [
    "torch.sort(a, dim=0, descending=True) # 降序排列"
   ],
   "metadata": {
    "collapsed": false,
    "pycharm": {
     "name": "#%%\n"
    }
   }
  },
  {
   "cell_type": "code",
   "execution_count": 16,
   "outputs": [
    {
     "data": {
      "text/plain": "tensor([[1, 9],\n        [2, 6],\n        [3, 7],\n        [4, 2],\n        [5, 7],\n        [7, 4]])"
     },
     "execution_count": 16,
     "metadata": {},
     "output_type": "execute_result"
    }
   ],
   "source": [
    "a[torch.argsort(a[:, 0])] # 只排序0维度的第一组数据(该维度元素对应关系不变)"
   ],
   "metadata": {
    "collapsed": false,
    "pycharm": {
     "name": "#%%\n"
    }
   }
  },
  {
   "cell_type": "code",
   "execution_count": 16,
   "outputs": [],
   "source": [],
   "metadata": {
    "collapsed": false,
    "pycharm": {
     "name": "#%%\n"
    }
   }
  }
 ],
 "metadata": {
  "kernelspec": {
   "name": "python3",
   "language": "python",
   "display_name": "Python 3"
  },
  "language_info": {
   "codemirror_mode": {
    "name": "ipython",
    "version": 2
   },
   "file_extension": ".py",
   "mimetype": "text/x-python",
   "name": "python",
   "nbconvert_exporter": "python",
   "pygments_lexer": "ipython2",
   "version": "2.7.6"
  }
 },
 "nbformat": 4,
 "nbformat_minor": 0
}