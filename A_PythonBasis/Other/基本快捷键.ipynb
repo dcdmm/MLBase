{
 "cells": [
  {
   "cell_type": "markdown",
   "source": [
    "### 公共快捷键\n",
    "\n",
    "|快捷键|作用|\n",
    "| :---: | :---: |\n",
    "|Ctrl + A                 |         全选    |\n",
    "|Ctrl + C                 |        复制   |\n",
    "|Ctrl + X                 |       剪切|\n",
    "|Ctrl + V                 |        粘贴|\n",
    "|Ctrl + F                 |        查找|\n",
    "|Ctrl + R                 |       替换(vscode需手工设置)|\n",
    "|Ctrl + Z                 |      撤销上一个命令|\n",
    "|Ctrl + E                 |    查看or打开最近访问过的文件 |\n",
    "|Ctrl + D                 |    向下复制当前行(vscode需手工设置)           |\n",
    "|Ctrl + Shift + +/-       |  展开/折叠全部代码块(vscode需手工设置)  |\n",
    "|Shift + Enter            |         Run(.py;pycharm,vscode手工设置)/Run Cell(.ipynb) |\n",
    "|Ctrl + Enter             |        Run Cell and Select Below(ipynb) |\n",
    "|Ctrl + 鼠标               |                查看源码或包结构   |\n",
    "|Ctrl + Shift + 上下箭头    |    代码或代码块向上或向下移动(智能) |\n",
    "|Ctrl + Alt   + 上下箭头    |    代码或代码块向上或向下移动(无限制) |\n",
    "|F11                      |  进入/退出全屏(pycharm,IDEA手工设置)        |\n",
    "\n",
    "\n",
    "### Pycharm(IDEA) 快捷键\n",
    "\n",
    "|快捷键|作用|\n",
    "| :---: | :---: |\n",
    "|Shift + Shift            |全局搜索(Classes, Files, Actions等)|\n",
    "|Ctrl + Shift + E         |　   查看or打开最近编辑过的文件      |\n",
    "|Ctrl + Alt + L           |　          代码格式化            |\n",
    "| Ctrl + Alt + T          | 选择使用条件/循环/异常等结构包裹代码  |\n",
    "| Ctrl + P                |         查看方法参数信息          |\n",
    "\n",
    "\n",
    "### vscode 快捷键\n",
    "\n",
    "|快捷键|作用|\n",
    "| :---: | :---: |\n",
    "|Ctrl + Shift + F          |     查找(在所有文件中)      |\n",
    "|Ctrl + Shift + P          |     显示所有命令           |\n",
    "|Ctrl + W                  |     代码对齐              |\n",
    "|Shift + R                 |     文件在文件资源管理器中显示   |\n",
    "|Alt + 鼠标左键点击          |     多个光标(可多个光标同时编辑)|"
   ],
   "metadata": {
    "collapsed": false,
    "pycharm": {
     "name": "#%% md\n"
    }
   }
  }
 ],
 "metadata": {
  "language_info": {
   "codemirror_mode": {
    "name": "ipython",
    "version": 2
   },
   "file_extension": ".py",
   "mimetype": "text/x-python",
   "name": "python",
   "nbconvert_exporter": "python",
   "pygments_lexer": "ipython2",
   "version": "2.7.6"
  },
  "kernelspec": {
   "name": "python3",
   "language": "python",
   "display_name": "Python 3"
  }
 },
 "nbformat": 4,
 "nbformat_minor": 0
}