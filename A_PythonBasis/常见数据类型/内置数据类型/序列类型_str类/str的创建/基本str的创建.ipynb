{
 "cells": [
  {
   "metadata": {},
   "cell_type": "markdown",
   "source": "Textual data in Python is handled with str objects, or strings. Strings are immutable sequences of Unicode code points."
  },
  {
   "metadata": {
    "ExecuteTime": {
     "end_time": "2024-06-10T18:22:08.375388Z",
     "start_time": "2024-06-10T18:22:08.369237Z"
    }
   },
   "cell_type": "code",
   "source": [
    "name_0 = 'duanchao'\n",
    "name_1 = \"duanchao\"  # 字符串可以用单引号或双引号括起来\n",
    "\n",
    "poem = \"\"\"    \"段超\"是一个好人, \n",
    "很多人都这么说\n",
    "    '特别'是女生都是这样说的\n",
    "然后我就悲剧了!\"\"\"  # 三引号表示多行字符串(每两行间有一个隐藏的换行符)\n",
    "print(poem)"
   ],
   "outputs": [
    {
     "name": "stdout",
     "output_type": "stream",
     "text": [
      "    \"段超\"是一个好人, \n",
      "很多人都这么说\n",
      "    '特别'是女生都是这样说的\n",
      "然后我就悲剧了!\n"
     ]
    }
   ],
   "execution_count": 12
  },
  {
   "cell_type": "code",
   "source": [
    "example0 = (\"dcdmm\"\n",
    "            \"dcgo\"\n",
    "\n",
    "            \"hello world\")\n",
    "example0_ = \"dcdmm\" \\\n",
    "            \"dcgo\" \\\n",
    "            \"hello world\"\n",
    "print(example0_, type(example0_))  # 字符串;\n",
    "print(example0, type(example0))  # 字符串;与上等价(更加简介)\n",
    "\n",
    "example1 = (\"dcgo\", )\n",
    "print(example1, type(example1)) # 元组"
   ],
   "metadata": {
    "collapsed": false,
    "pycharm": {
     "name": "#%%\n"
    },
    "ExecuteTime": {
     "end_time": "2024-06-10T18:22:08.457779Z",
     "start_time": "2024-06-10T18:22:08.451150Z"
    }
   },
   "outputs": [
    {
     "name": "stdout",
     "output_type": "stream",
     "text": [
      "dcdmmdcgohello world <class 'str'>\n",
      "dcdmmdcgohello world <class 'str'>\n",
      "('dcgo',) <class 'tuple'>\n"
     ]
    }
   ],
   "execution_count": 13
  },
  {
   "cell_type": "code",
   "source": [
    "print(\"duanchao is \\\"good\\\"\")  # 利用\\(转义字符)对双引号进行转义,进而输出\"\n",
    "print('duanchao is \"good\"')  # 这样也可输出\"(单引号同理)"
   ],
   "metadata": {
    "pycharm": {
     "metadata": false,
     "name": "#%%\n"
    },
    "ExecuteTime": {
     "end_time": "2024-06-10T18:22:08.524747Z",
     "start_time": "2024-06-10T18:22:08.521225Z"
    }
   },
   "outputs": [
    {
     "name": "stdout",
     "output_type": "stream",
     "text": [
      "duanchao is \"good\"\n",
      "duanchao is \"good\"\n"
     ]
    }
   ],
   "execution_count": 14
  },
  {
   "cell_type": "code",
   "source": [
    "str(123)  # str(object='') -> str"
   ],
   "metadata": {
    "pycharm": {
     "metadata": false,
     "name": "#%%\n"
    },
    "ExecuteTime": {
     "end_time": "2024-06-10T18:22:08.602646Z",
     "start_time": "2024-06-10T18:22:08.596657Z"
    }
   },
   "outputs": [
    {
     "data": {
      "text/plain": [
       "'123'"
      ]
     },
     "execution_count": 15,
     "metadata": {},
     "output_type": "execute_result"
    }
   ],
   "execution_count": 15
  },
  {
   "cell_type": "code",
   "source": [
    "dict_string = {'runoob': 'runoob.com', 'google': 'google.com'}\n",
    "str(dict_string)"
   ],
   "metadata": {
    "collapsed": false,
    "pycharm": {
     "name": "#%%\n"
    },
    "ExecuteTime": {
     "end_time": "2024-06-10T18:22:08.834975Z",
     "start_time": "2024-06-10T18:22:08.830713Z"
    }
   },
   "outputs": [
    {
     "data": {
      "text/plain": [
       "\"{'runoob': 'runoob.com', 'google': 'google.com'}\""
      ]
     },
     "execution_count": 16,
     "metadata": {},
     "output_type": "execute_result"
    }
   ],
   "execution_count": 16
  },
  {
   "cell_type": "code",
   "source": [
    "lst = [1, 2, 3, 4, '5']\n",
    "str(lst)"
   ],
   "metadata": {
    "collapsed": false,
    "pycharm": {
     "name": "#%%\n"
    },
    "ExecuteTime": {
     "end_time": "2024-06-10T18:22:08.982747Z",
     "start_time": "2024-06-10T18:22:08.976839Z"
    }
   },
   "outputs": [
    {
     "data": {
      "text/plain": [
       "\"[1, 2, 3, 4, '5']\""
      ]
     },
     "execution_count": 17,
     "metadata": {},
     "output_type": "execute_result"
    }
   ],
   "execution_count": 17
  },
  {
   "cell_type": "code",
   "source": [
    "\n"
   ],
   "metadata": {
    "collapsed": false,
    "pycharm": {
     "name": "#%%\n"
    },
    "ExecuteTime": {
     "end_time": "2024-06-10T18:22:09.058990Z",
     "start_time": "2024-06-10T18:22:09.056336Z"
    }
   },
   "outputs": [],
   "execution_count": 17
  }
 ],
 "metadata": {
  "language_info": {
   "codemirror_mode": {
    "name": "ipython",
    "version": 2
   },
   "file_extension": ".py",
   "mimetype": "text/x-python",
   "name": "python",
   "nbconvert_exporter": "python",
   "pygments_lexer": "ipython2",
   "version": "2.7.6"
  },
  "kernelspec": {
   "name": "python3",
   "language": "python",
   "display_name": "Python 3"
  }
 },
 "nbformat": 4,
 "nbformat_minor": 0
}
