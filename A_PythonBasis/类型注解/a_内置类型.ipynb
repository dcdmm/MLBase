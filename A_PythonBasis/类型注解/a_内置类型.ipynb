{
 "cells": [
  {
   "cell_type": "code",
   "metadata": {
    "collapsed": true,
    "pycharm": {
     "name": "#%%\n"
    },
    "ExecuteTime": {
     "end_time": "2024-08-01T09:38:20.627436Z",
     "start_time": "2024-08-01T09:38:20.615427Z"
    }
   },
   "source": [
    "def func1(x: float, y: int, z: bool, m: str) -> int:\n",
    "    return 1\n",
    "\n",
    "\n",
    "print(func1.__annotations__)\n",
    "\n",
    "# 数据类型精度大小:bool===>int===>float\n",
    "print(func1(4, False, True, \"duan\"))  #  精度低类型False自动提升为精度高类型int;精度低类型int自动提升为精度高类型float\n",
    "print(func1(\"dc\", 2, True, \"chao\"))  # 提示类型不匹配\n",
    "print(func1(3.1, 2.4, False, \"chao\"))  # 提示类型不匹配\n",
    "print(func1(4.4, 2, 23, \"chao\"))  # 提示类型不匹配\n",
    "print(func1(4.4, 2, False, 51))  # 提示类型不匹配"
   ],
   "outputs": [
    {
     "name": "stdout",
     "output_type": "stream",
     "text": [
      "{'x': <class 'float'>, 'y': <class 'int'>, 'z': <class 'bool'>, 'm': <class 'str'>, 'return': <class 'int'>}\n",
      "1\n",
      "1\n",
      "1\n",
      "1\n",
      "1\n"
     ]
    }
   ],
   "execution_count": 33
  },
  {
   "cell_type": "code",
   "metadata": {
    "collapsed": false,
    "pycharm": {
     "name": "#%%\n"
    },
    "ExecuteTime": {
     "end_time": "2024-08-01T09:38:20.639441Z",
     "start_time": "2024-08-01T09:38:20.627436Z"
    }
   },
   "source": [
    "def func_List(x: list[float], y: list[str]) -> int:\n",
    "    return 1\n",
    "\n",
    "\n",
    "print(func_List.__annotations__)\n",
    "\n",
    "print(func_List(x=[1.2, \"dcgo\"], y=[\"duan\", 2.3]))  # 只需有一个元素满足要求即可\n",
    "print(func_List(x=[\"dcgo\"], y=[\"duan\", 2.3]))  # 提示类型不匹配\n",
    "print(func_List(x=[1.2, \"dcgo\"], y=[2.3]))  # 提示类型不匹配"
   ],
   "outputs": [
    {
     "name": "stdout",
     "output_type": "stream",
     "text": [
      "{'x': list[float], 'y': list[str], 'return': <class 'int'>}\n",
      "1\n",
      "1\n",
      "1\n"
     ]
    }
   ],
   "execution_count": 34
  },
  {
   "cell_type": "code",
   "metadata": {
    "collapsed": false,
    "pycharm": {
     "name": "#%%\n"
    },
    "ExecuteTime": {
     "end_time": "2024-08-01T09:38:20.655187Z",
     "start_time": "2024-08-01T09:38:20.639514Z"
    }
   },
   "source": [
    "from typing import Tuple\n",
    "\n",
    "\n",
    "# 表明元组的第一个元素类型为int,第二个元素类型为float,第三个元素类型为str\n",
    "def func_Tuple(x: Tuple[int, float, str]) -> int:\n",
    "    return 1\n",
    "\n",
    "\n",
    "print(func_Tuple.__annotations__)\n",
    "\n",
    "print(func_Tuple(x=(3, 3.5, 'duan')))\n",
    "print(func_Tuple(x=(3, 3.5, 1)))  # 提示类型不匹配(所有元素必须都满足要求)"
   ],
   "outputs": [
    {
     "name": "stdout",
     "output_type": "stream",
     "text": [
      "{'x': typing.Tuple[int, float, str], 'return': <class 'int'>}\n",
      "1\n",
      "1\n"
     ]
    }
   ],
   "execution_count": 35
  },
  {
   "cell_type": "code",
   "metadata": {
    "collapsed": false,
    "pycharm": {
     "name": "#%%\n"
    },
    "ExecuteTime": {
     "end_time": "2024-08-01T09:38:20.667961Z",
     "start_time": "2024-08-01T09:38:20.655187Z"
    }
   },
   "source": [
    "def func_Dict(x: dict[str, int]) -> int:\n",
    "    return 1\n",
    "\n",
    "\n",
    "print(func_Dict.__annotations__)\n",
    "\n",
    "print(func_Dict(x={\"duan\": 3, \"chao\": 3.4, (2,): 3}))  # 只需有一个元素满足要求即可\n",
    "print(func_Dict(x={\"duan\": 3.0}))  # 提示类型不匹配\n",
    "print(func_Dict(x={(2,): 3}))  # 提示类型不匹配"
   ],
   "outputs": [
    {
     "name": "stdout",
     "output_type": "stream",
     "text": [
      "{'x': dict[str, int], 'return': <class 'int'>}\n",
      "1\n",
      "1\n",
      "1\n"
     ]
    }
   ],
   "execution_count": 36
  },
  {
   "cell_type": "code",
   "metadata": {
    "collapsed": false,
    "pycharm": {
     "name": "#%%\n"
    },
    "ExecuteTime": {
     "end_time": "2024-08-01T09:38:20.684641Z",
     "start_time": "2024-08-01T09:38:20.668966Z"
    }
   },
   "source": [
    "def func_Set(x: set[str]) -> int:\n",
    "    return 1\n",
    "\n",
    "\n",
    "print(func_Dict.__annotations__)\n",
    "\n",
    "print(func_Set(x={\"one\", \"two\", 3}))  # 只需有一个元素满足要求即可\n",
    "print(func_Set(x={1, 2, 3}))  # 提示类型不匹配"
   ],
   "outputs": [
    {
     "name": "stdout",
     "output_type": "stream",
     "text": [
      "{'x': dict[str, int], 'return': <class 'int'>}\n",
      "1\n",
      "1\n"
     ]
    }
   ],
   "execution_count": 37
  }
 ],
 "metadata": {
  "kernelspec": {
   "display_name": "Python 3",
   "language": "python",
   "name": "python3"
  },
  "language_info": {
   "codemirror_mode": {
    "name": "ipython",
    "version": 3
   },
   "file_extension": ".py",
   "mimetype": "text/x-python",
   "name": "python",
   "nbconvert_exporter": "python",
   "pygments_lexer": "ipython3",
   "version": "3.11.7"
  }
 },
 "nbformat": 4,
 "nbformat_minor": 0
}
