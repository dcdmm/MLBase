{
 "cells": [
  {
   "cell_type": "code",
   "execution_count": 55,
   "metadata": {
    "collapsed": true
   },
   "outputs": [],
   "source": [
    "import tensorflow as tf"
   ]
  },
  {
   "cell_type": "markdown",
   "source": [
    "### 多分类交叉熵损失函数\n",
    "### 参考nn.CrossEntropyLoss===>对应from_logits=True"
   ],
   "metadata": {
    "collapsed": false,
    "pycharm": {
     "name": "#%% md\n"
    }
   }
  },
  {
   "cell_type": "code",
   "execution_count": 56,
   "outputs": [
    {
     "data": {
      "text/plain": "<tf.Tensor: shape=(4, 3), dtype=float32, numpy=\narray([[ 0.,  1.,  2.],\n       [ 3.,  4.,  5.],\n       [ 6.,  7.,  8.],\n       [ 9., 10., 11.]], dtype=float32)>"
     },
     "execution_count": 56,
     "metadata": {},
     "output_type": "execute_result"
    }
   ],
   "source": [
    "y_pred = tf.reshape(tf.range(12, dtype=tf.float32), (4, 3))\n",
    "y_pred"
   ],
   "metadata": {
    "collapsed": false,
    "pycharm": {
     "name": "#%%\n"
    }
   }
  },
  {
   "cell_type": "code",
   "execution_count": 57,
   "outputs": [
    {
     "data": {
      "text/plain": "<tf.Tensor: shape=(4,), dtype=int32, numpy=array([1, 2, 1, 2])>"
     },
     "execution_count": 57,
     "metadata": {},
     "output_type": "execute_result"
    }
   ],
   "source": [
    "y_true_scc = tf.constant([1, 2, 1, 2])\n",
    "y_true_scc"
   ],
   "metadata": {
    "collapsed": false,
    "pycharm": {
     "name": "#%%\n"
    }
   }
  },
  {
   "cell_type": "code",
   "execution_count": 58,
   "outputs": [
    {
     "name": "stdout",
     "output_type": "stream",
     "text": [
      "sparse_categorical_crossentropy\n",
      "[1.40760589 0.407605946 1.40760589 0.407605946]\r\n"
     ]
    }
   ],
   "source": [
    "'''\n",
    "from_logits:    Whether y_pred is expected to be a logits tensor.\n",
    "                By default, we assume that y_pred encodes a probability distribution.\n",
    "'''\n",
    "scc = tf.keras.losses.SparseCategoricalCrossentropy(from_logits=True,  # Recommended Usage: (set from_logits=True)\n",
    "                                                    # 默认reduction=tf.keras.losses.Reduction.SUM_OVER_BATCH_SIZE,参考BinaryCrossentropy\n",
    "                                                    reduction=tf.keras.losses.Reduction.NONE,\n",
    "                                                    name='sparse_categorical_crossentropy')\n",
    "print(scc.name)\n",
    "tf.print(scc(y_true=y_true_scc,  # ★★★★★要求:整数向量(最小值为0,最大值为y_pred.shape[1]-1)\n",
    "             y_pred=y_pred,\n",
    "             # 批次样本权重,参考MeanSquaredError\n",
    "             sample_weight=None))"
   ],
   "metadata": {
    "collapsed": false,
    "pycharm": {
     "name": "#%%\n"
    }
   }
  },
  {
   "cell_type": "code",
   "execution_count": 59,
   "outputs": [
    {
     "data": {
      "text/plain": "<tf.Tensor: shape=(4, 3), dtype=float32, numpy=\narray([[0., 1., 0.],\n       [0., 0., 1.],\n       [0., 1., 0.],\n       [0., 0., 1.]], dtype=float32)>"
     },
     "execution_count": 59,
     "metadata": {},
     "output_type": "execute_result"
    }
   ],
   "source": [
    "y_true_cc = tf.one_hot(y_true_scc, depth=3)\n",
    "y_true_cc"
   ],
   "metadata": {
    "collapsed": false,
    "pycharm": {
     "name": "#%%\n"
    }
   }
  },
  {
   "cell_type": "code",
   "execution_count": 60,
   "outputs": [
    {
     "name": "stdout",
     "output_type": "stream",
     "text": [
      "categorical_crossentropy\n",
      "0.907605886\r\n"
     ]
    }
   ],
   "source": [
    "cc = tf.keras.losses.CategoricalCrossentropy(from_logits=True,  # Recommended Usage: (set from_logits=True)\n",
    "                                             name='categorical_crossentropy')\n",
    "print(cc.name)\n",
    "tf.print(cc(y_true=y_true_cc,  # 要求:独热编码形式\n",
    "            y_pred=y_pred,\n",
    "            # 批次样本权重,参考MeanSquaredError\n",
    "            sample_weight=None\n",
    "            ))\n"
   ],
   "metadata": {
    "collapsed": false,
    "pycharm": {
     "name": "#%%\n"
    }
   }
  }
 ],
 "metadata": {
  "kernelspec": {
   "display_name": "Python 3",
   "language": "python",
   "name": "python3"
  },
  "language_info": {
   "codemirror_mode": {
    "name": "ipython",
    "version": 2
   },
   "file_extension": ".py",
   "mimetype": "text/x-python",
   "name": "python",
   "nbconvert_exporter": "python",
   "pygments_lexer": "ipython2",
   "version": "2.7.6"
  }
 },
 "nbformat": 4,
 "nbformat_minor": 0
}