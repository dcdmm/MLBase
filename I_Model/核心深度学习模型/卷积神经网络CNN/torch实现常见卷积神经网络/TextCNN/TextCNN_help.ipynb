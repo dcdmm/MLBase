{
 "cells": [
  {
   "cell_type": "markdown",
   "metadata": {
    "collapsed": true,
    "pycharm": {
     "name": "#%% md\n"
    }
   },
   "source": [
    "### TextCNN模型架构\n",
    "\n",
    "<img src=\"../../../../../Other/img/TextCNN模型架构.jpg\" style=\"width:750px;height:500px;float:bottom\">\n",
    "\n",
    "</br>\n",
    "输⼊是具有11个词元的句子,其中每个词元由6维向量表⽰.因此,输入的大小为:宽度11,通道6.\n",
    "定义两个宽度为2和4的一维卷积核,分别具有4个和5个输出通道.\n",
    "它们产生4个宽度为11-2+1=10的输出通道和5个宽度为11-4+1=8的输出通道.\n",
    "尽管这9个通道的宽度不同,但最大时间汇聚层给出了⼀个连结的9维向量,该向量最终被转换为用于二元情感预测的2维输出向量."
   ]
  }
 ],
 "metadata": {
  "kernelspec": {
   "display_name": "Python 3",
   "language": "python",
   "name": "python3"
  },
  "language_info": {
   "codemirror_mode": {
    "name": "ipython",
    "version": 2
   },
   "file_extension": ".py",
   "mimetype": "text/x-python",
   "name": "python",
   "nbconvert_exporter": "python",
   "pygments_lexer": "ipython2",
   "version": "2.7.6"
  }
 },
 "nbformat": 4,
 "nbformat_minor": 0
}