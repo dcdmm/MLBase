{
 "cells": [
  {
   "cell_type": "code",
   "execution_count": 19,
   "metadata": {
    "collapsed": true
   },
   "outputs": [],
   "source": [
    "import numpy as np\n",
    "import pandas as pd"
   ]
  },
  {
   "cell_type": "code",
   "execution_count": 20,
   "outputs": [
    {
     "data": {
      "text/plain": "0       cat\n1       dog\n2       NaN\n3    rabbit\n4       cat\ndtype: object"
     },
     "execution_count": 20,
     "metadata": {},
     "output_type": "execute_result"
    }
   ],
   "source": [
    "s = pd.Series(['cat', 'dog', np.nan, 'rabbit', 'cat'])\n",
    "s"
   ],
   "metadata": {
    "collapsed": false,
    "pycharm": {
     "name": "#%%\n"
    }
   }
  },
  {
   "cell_type": "code",
   "execution_count": 21,
   "outputs": [
    {
     "data": {
      "text/plain": "0    kitten\n1     puppy\n2       NaN\n3       NaN\n4    kitten\ndtype: object"
     },
     "execution_count": 21,
     "metadata": {},
     "output_type": "execute_result"
    }
   ],
   "source": [
    "# Map values of Series according to an input mapping or function.\n",
    "'''\n",
    "arg : function, collections.abc.Mapping subclass or Series\n",
    "            Mapping correspondence.\n",
    "'''\n",
    "# 未出现在字典(键)的值为NaN\n",
    "s.map(arg={'cat': 'kitten', 'dog': 'puppy'})"
   ],
   "metadata": {
    "collapsed": false,
    "pycharm": {
     "name": "#%%\n"
    }
   }
  },
  {
   "cell_type": "code",
   "execution_count": 22,
   "outputs": [
    {
     "data": {
      "text/plain": "0       cat\n1       dog\n2       NaN\n3    rabbit\n4       cat\ndtype: object"
     },
     "execution_count": 22,
     "metadata": {},
     "output_type": "execute_result"
    }
   ],
   "source": [
    "s  # s不变"
   ],
   "metadata": {
    "collapsed": false,
    "pycharm": {
     "name": "#%%\n"
    }
   }
  },
  {
   "cell_type": "code",
   "execution_count": 23,
   "outputs": [
    {
     "data": {
      "text/plain": "0    3.0\n1    3.0\n2    NaN\n3    6.0\n4    3.0\ndtype: float64"
     },
     "execution_count": 23,
     "metadata": {},
     "output_type": "execute_result"
    }
   ],
   "source": [
    "'''\n",
    "na_action{None, ‘ignore’}, default None\n",
    "    If ‘ignore’, propagate NaN values, without passing them to the mapping correspondence.\n",
    "'''\n",
    "s.map(arg=len, na_action='ignore')"
   ],
   "metadata": {
    "collapsed": false,
    "pycharm": {
     "name": "#%%\n"
    }
   }
  },
  {
   "cell_type": "code",
   "execution_count": 24,
   "outputs": [
    {
     "name": "stdout",
     "output_type": "stream",
     "text": [
      "x: cat\n",
      "element_index: 0\n",
      "x: dog\n",
      "element_index: 1\n",
      "x: rabbit\n",
      "element_index: 2\n",
      "x: cat\n",
      "element_index: 3\n"
     ]
    },
    {
     "data": {
      "text/plain": "0    3.0\n1    3.0\n2    NaN\n3    6.0\n4    3.0\ndtype: float64"
     },
     "execution_count": 24,
     "metadata": {},
     "output_type": "execute_result"
    }
   ],
   "source": [
    "index = iter(list(s.index))\n",
    "\n",
    "\n",
    "def length(x):\n",
    "    print(\"x:\", x)  # 不含缺失值\n",
    "    print(\"element_index:\", next(index))  # 元素x对应的index\n",
    "    return len(x)\n",
    "\n",
    "\n",
    "s.map(arg=length, na_action='ignore')  # 与上等价"
   ],
   "metadata": {
    "collapsed": false,
    "pycharm": {
     "name": "#%%\n"
    }
   }
  },
  {
   "cell_type": "code",
   "execution_count": 25,
   "outputs": [
    {
     "data": {
      "text/plain": "0                      [cat, catcat, catcatcat]\n1                      [dog, dogdog, dogdogdog]\n2                                           NaN\n3    [rabbit, rabbitrabbit, rabbitrabbitrabbit]\n4                      [cat, catcat, catcatcat]\ndtype: object"
     },
     "execution_count": 25,
     "metadata": {},
     "output_type": "execute_result"
    }
   ],
   "source": [
    "def lst(x):\n",
    "    return [x, x * 2, x * 3]\n",
    "\n",
    "\n",
    "s.map(arg=lst, na_action='ignore')  # 与上等价"
   ],
   "metadata": {
    "collapsed": false,
    "pycharm": {
     "name": "#%%\n"
    }
   }
  },
  {
   "cell_type": "code",
   "execution_count": 26,
   "outputs": [
    {
     "data": {
      "text/plain": "0       I am a cat\n1       I am a dog\n2       I am a nan\n3    I am a rabbit\n4       I am a cat\ndtype: object"
     },
     "execution_count": 26,
     "metadata": {},
     "output_type": "execute_result"
    }
   ],
   "source": [
    "s.map(arg='I am a {}'.format)"
   ],
   "metadata": {
    "collapsed": false,
    "pycharm": {
     "name": "#%%\n"
    }
   }
  },
  {
   "cell_type": "code",
   "execution_count": 27,
   "outputs": [
    {
     "data": {
      "text/plain": "0       I am a cat\n1       I am a dog\n2              NaN\n3    I am a rabbit\n4       I am a cat\ndtype: object"
     },
     "execution_count": 27,
     "metadata": {},
     "output_type": "execute_result"
    }
   ],
   "source": [
    "s.map(arg='I am a {}'.format, na_action='ignore')"
   ],
   "metadata": {
    "collapsed": false,
    "pycharm": {
     "name": "#%%\n"
    }
   }
  },
  {
   "cell_type": "code",
   "execution_count": 27,
   "outputs": [],
   "source": [],
   "metadata": {
    "collapsed": false,
    "pycharm": {
     "name": "#%%\n"
    }
   }
  }
 ],
 "metadata": {
  "kernelspec": {
   "display_name": "Python 3",
   "language": "python",
   "name": "python3"
  },
  "language_info": {
   "codemirror_mode": {
    "name": "ipython",
    "version": 2
   },
   "file_extension": ".py",
   "mimetype": "text/x-python",
   "name": "python",
   "nbconvert_exporter": "python",
   "pygments_lexer": "ipython2",
   "version": "2.7.6"
  }
 },
 "nbformat": 4,
 "nbformat_minor": 0
}