{
 "nbformat": 4,
 "nbformat_minor": 0,
 "metadata": {
  "kernelspec": {
   "display_name": "Python 3",
   "language": "python",
   "name": "python3"
  },
  "language_info": {
   "codemirror_mode": {
    "name": "ipython",
    "version": 2
   },
   "file_extension": ".py",
   "mimetype": "text/x-python",
   "name": "python",
   "nbconvert_exporter": "python",
   "pygments_lexer": "ipython2",
   "version": "2.7.6"
  },
  "colab": {
   "name": "tensor相关属性.ipynb",
   "provenance": [],
   "collapsed_sections": []
  },
  "accelerator": "GPU"
 },
 "cells": [
  {
   "cell_type": "code",
   "metadata": {
    "collapsed": true,
    "id": "ZgmZKnW214ip",
    "colab_type": "code",
    "colab": {
     "base_uri": "https://localhost:8080/",
     "height": 50
    },
    "executionInfo": {
     "status": "ok",
     "timestamp": 1592742464518,
     "user_tz": -480,
     "elapsed": 4258,
     "user": {
      "displayName": "chao duan",
      "photoUrl": "",
      "userId": "16986074214670067064"
     }
    },
    "outputId": "21ccee4e-9a53-4052-b3a9-81578c5f86fe"
   },
   "source": [
    "import torch\n",
    "import numpy as np\n",
    "\n",
    "a = np.array([[1.2, 2, 3],\n",
    "              [2, 3, 4]])\n",
    "x = torch.tensor(a)\n",
    "x"
   ],
   "execution_count": 82,
   "outputs": [
    {
     "data": {
      "text/plain": "tensor([[1.2000, 2.0000, 3.0000],\n        [2.0000, 3.0000, 4.0000]], dtype=torch.float64)"
     },
     "execution_count": 82,
     "metadata": {},
     "output_type": "execute_result"
    }
   ]
  },
  {
   "cell_type": "code",
   "metadata": {
    "pycharm": {
     "name": "#%%\n"
    },
    "id": "fQOV10np14iu",
    "colab_type": "code",
    "colab": {
     "base_uri": "https://localhost:8080/",
     "height": 33
    },
    "executionInfo": {
     "status": "ok",
     "timestamp": 1592742464519,
     "user_tz": -480,
     "elapsed": 4241,
     "user": {
      "displayName": "chao duan",
      "photoUrl": "",
      "userId": "16986074214670067064"
     }
    },
    "outputId": "b00a9aae-b24e-4910-cd01-f40b08354a8a"
   },
   "source": [
    "# 类似numpy相关属性\n",
    "x.dtype"
   ],
   "execution_count": 83,
   "outputs": [
    {
     "data": {
      "text/plain": "torch.float64"
     },
     "execution_count": 83,
     "metadata": {},
     "output_type": "execute_result"
    }
   ]
  },
  {
   "cell_type": "code",
   "metadata": {
    "pycharm": {
     "name": "#%%\n"
    },
    "id": "8o6hb9Qu14ix",
    "colab_type": "code",
    "colab": {
     "base_uri": "https://localhost:8080/",
     "height": 50
    },
    "executionInfo": {
     "status": "ok",
     "timestamp": 1592742464520,
     "user_tz": -480,
     "elapsed": 4228,
     "user": {
      "displayName": "chao duan",
      "photoUrl": "",
      "userId": "16986074214670067064"
     }
    },
    "outputId": "b1ca2ac7-7c70-4fe1-cd74-44d44f2fce77"
   },
   "source": [
    "print(x.ndim)\n",
    "print(x.dim())  # 与上等价"
   ],
   "execution_count": 84,
   "outputs": [
    {
     "name": "stdout",
     "output_type": "stream",
     "text": [
      "2\n",
      "2\n"
     ]
    }
   ]
  },
  {
   "cell_type": "code",
   "metadata": {
    "pycharm": {
     "name": "#%%\n"
    },
    "id": "nTO8YG-q14i0",
    "colab_type": "code",
    "colab": {
     "base_uri": "https://localhost:8080/",
     "height": 50
    },
    "executionInfo": {
     "status": "ok",
     "timestamp": 1592742464521,
     "user_tz": -480,
     "elapsed": 4217,
     "user": {
      "displayName": "chao duan",
      "photoUrl": "",
      "userId": "16986074214670067064"
     }
    },
    "outputId": "e5549d3c-8292-4b5d-f47e-eba93251fd3f"
   },
   "source": [
    "print(x.shape)\n",
    "print(x.size())  # 与上等价"
   ],
   "execution_count": 85,
   "outputs": [
    {
     "name": "stdout",
     "output_type": "stream",
     "text": [
      "torch.Size([2, 3])\n",
      "torch.Size([2, 3])\n"
     ]
    }
   ]
  },
  {
   "cell_type": "code",
   "metadata": {
    "pycharm": {
     "name": "#%%\n"
    },
    "id": "2VOZX4t114i3",
    "colab_type": "code",
    "colab": {
     "base_uri": "https://localhost:8080/",
     "height": 33
    },
    "executionInfo": {
     "status": "ok",
     "timestamp": 1592742464522,
     "user_tz": -480,
     "elapsed": 4204,
     "user": {
      "displayName": "chao duan",
      "photoUrl": "",
      "userId": "16986074214670067064"
     }
    },
    "outputId": "6fb352a1-b759-4d82-8214-ea9f0559c1f1"
   },
   "source": [
    "list(x.shape)"
   ],
   "execution_count": 86,
   "outputs": [
    {
     "data": {
      "text/plain": "[2, 3]"
     },
     "execution_count": 86,
     "metadata": {},
     "output_type": "execute_result"
    }
   ]
  },
  {
   "cell_type": "code",
   "metadata": {
    "pycharm": {
     "name": "#%%\n"
    },
    "id": "m8h7xLt214i6",
    "colab_type": "code",
    "colab": {
     "base_uri": "https://localhost:8080/",
     "height": 33
    },
    "executionInfo": {
     "status": "ok",
     "timestamp": 1592742464523,
     "user_tz": -480,
     "elapsed": 4190,
     "user": {
      "displayName": "chao duan",
      "photoUrl": "",
      "userId": "16986074214670067064"
     }
    },
    "outputId": "c7ff0338-9008-4d28-da15-b03af9f7c8fd"
   },
   "source": [
    "x.shape[0]"
   ],
   "execution_count": 87,
   "outputs": [
    {
     "data": {
      "text/plain": "2"
     },
     "execution_count": 87,
     "metadata": {},
     "output_type": "execute_result"
    }
   ]
  },
  {
   "cell_type": "code",
   "metadata": {
    "pycharm": {
     "name": "#%%\n"
    },
    "id": "4ZL7lZGz14i8",
    "colab_type": "code",
    "colab": {
     "base_uri": "https://localhost:8080/",
     "height": 33
    },
    "executionInfo": {
     "status": "ok",
     "timestamp": 1592742464523,
     "user_tz": -480,
     "elapsed": 4173,
     "user": {
      "displayName": "chao duan",
      "photoUrl": "",
      "userId": "16986074214670067064"
     }
    },
    "outputId": "9a572b62-e78d-42b2-9120-b5d0947a52ba"
   },
   "source": [
    "x.shape[1]"
   ],
   "execution_count": 88,
   "outputs": [
    {
     "data": {
      "text/plain": "3"
     },
     "execution_count": 88,
     "metadata": {},
     "output_type": "execute_result"
    }
   ]
  },
  {
   "cell_type": "code",
   "metadata": {
    "pycharm": {
     "name": "#%%\n"
    },
    "id": "_FTBMbMi14i_",
    "colab_type": "code",
    "colab": {
     "base_uri": "https://localhost:8080/",
     "height": 33
    },
    "executionInfo": {
     "status": "ok",
     "timestamp": 1592742464524,
     "user_tz": -480,
     "elapsed": 4158,
     "user": {
      "displayName": "chao duan",
      "photoUrl": "",
      "userId": "16986074214670067064"
     }
    },
    "outputId": "388cb0c1-4320-4eee-8b5b-dcbd2526dab5"
   },
   "source": [
    "y = torch.randn(3, 5, 7)\n",
    "y.shape"
   ],
   "execution_count": 89,
   "outputs": [
    {
     "data": {
      "text/plain": "torch.Size([3, 5, 7])"
     },
     "execution_count": 89,
     "metadata": {},
     "output_type": "execute_result"
    }
   ]
  },
  {
   "cell_type": "code",
   "metadata": {
    "pycharm": {
     "name": "#%%\n"
    },
    "id": "f4JTaKXJ14jD",
    "colab_type": "code",
    "colab": {
     "base_uri": "https://localhost:8080/",
     "height": 33
    },
    "executionInfo": {
     "status": "ok",
     "timestamp": 1592742464525,
     "user_tz": -480,
     "elapsed": 4144,
     "user": {
      "displayName": "chao duan",
      "photoUrl": "",
      "userId": "16986074214670067064"
     }
    },
    "outputId": "80755266-f56a-4533-f4db-5d2e28e84c58"
   },
   "source": [
    "y.T.shape  # 若self.ndim < 2则返回其本身"
   ],
   "execution_count": 90,
   "outputs": [
    {
     "data": {
      "text/plain": "torch.Size([7, 5, 3])"
     },
     "execution_count": 90,
     "metadata": {},
     "output_type": "execute_result"
    }
   ]
  },
  {
   "cell_type": "code",
   "metadata": {
    "pycharm": {
     "name": "#%%\n"
    },
    "id": "ugQvxbtC14jG",
    "colab_type": "code",
    "colab": {
     "base_uri": "https://localhost:8080/",
     "height": 33
    },
    "executionInfo": {
     "status": "ok",
     "timestamp": 1592742464525,
     "user_tz": -480,
     "elapsed": 4130,
     "user": {
      "displayName": "chao duan",
      "photoUrl": "",
      "userId": "16986074214670067064"
     }
    },
    "outputId": "134a3ca5-886a-4f6b-f1cf-448342b1073b"
   },
   "source": [
    "torch.transpose(y, 0, -1).shape  # 与上等价"
   ],
   "execution_count": 91,
   "outputs": [
    {
     "data": {
      "text/plain": "torch.Size([7, 5, 3])"
     },
     "execution_count": 91,
     "metadata": {},
     "output_type": "execute_result"
    }
   ]
  },
  {
   "cell_type": "code",
   "metadata": {
    "pycharm": {
     "name": "#%%\n"
    },
    "id": "RLRK8NUy14jI",
    "colab_type": "code",
    "colab": {
     "base_uri": "https://localhost:8080/",
     "height": 33
    },
    "executionInfo": {
     "status": "ok",
     "timestamp": 1592742464526,
     "user_tz": -480,
     "elapsed": 4118,
     "user": {
      "displayName": "chao duan",
      "photoUrl": "",
      "userId": "16986074214670067064"
     }
    },
    "outputId": "754fdd86-8cf7-4f08-b8f6-0e1cd09f2fa6"
   },
   "source": [
    "y.device"
   ],
   "execution_count": 92,
   "outputs": [
    {
     "data": {
      "text/plain": "device(type='cpu')"
     },
     "execution_count": 92,
     "metadata": {},
     "output_type": "execute_result"
    }
   ]
  },
  {
   "cell_type": "code",
   "metadata": {
    "pycharm": {
     "name": "#%%\n"
    },
    "id": "-EKMiKRw14jK",
    "colab_type": "code",
    "colab": {
     "base_uri": "https://localhost:8080/",
     "height": 133
    },
    "executionInfo": {
     "status": "ok",
     "timestamp": 1592742464526,
     "user_tz": -480,
     "elapsed": 4104,
     "user": {
      "displayName": "chao duan",
      "photoUrl": "",
      "userId": "16986074214670067064"
     }
    },
    "outputId": "566e3e31-50fd-42f6-8939-40c03850135e"
   },
   "source": [
    "# y.data与y共享数据的物理地址\n",
    "# y.data的任何改变都会致使y改变\n",
    "print(np.shares_memory(y, y.data))\n",
    "print(y)\n",
    "y.data = torch.tensor([1, 2, 3])\n",
    "print(y)\n",
    "y.data.fill_(0)\n",
    "print(y)\n",
    "\n",
    "# y1与y共享数据的物理地址\n",
    "# 只有不改变y1内存地址的操作时才会指使y改变\n",
    "y1 = y.detach()\n",
    "print(np.shares_memory(y1, y))\n",
    "y1.fill_(2)\n",
    "print(y)\n",
    "\n",
    "y1.add_(10)  # in-place操作,y1内存地址不变\n",
    "print(y)  # y发生相应改变\n",
    "\n",
    "print(id(y1))\n",
    "y1 = [-1, -2, -3]\n",
    "print(id(y1))  # 重新赋值操作,y1内存地址改变\n",
    "print(y)  # y不变"
   ],
   "execution_count": 93,
   "outputs": [
    {
     "name": "stdout",
     "output_type": "stream",
     "text": [
      "True\n",
      "tensor([[[ 6.1886e-01,  8.5265e-01,  1.8935e-01, -4.8730e-01, -7.8940e-02,\n",
      "          -6.0315e-01, -1.6818e+00],\n",
      "         [ 5.8634e-01,  8.6809e-01, -4.6518e-02,  9.2236e-01,  6.5459e-01,\n",
      "          -5.4149e-02, -8.6296e-01],\n",
      "         [-9.7448e-02,  1.4537e+00, -1.3591e+00, -3.1494e+00, -8.5691e-01,\n",
      "          -1.9755e-01, -1.1873e-01],\n",
      "         [ 2.0324e+00,  1.0780e-01,  2.2582e-01, -2.7448e-01,  6.5646e-01,\n",
      "           1.3270e+00,  1.1099e+00],\n",
      "         [ 1.3571e+00, -1.1998e+00, -9.2712e-01, -9.4179e-01, -4.5110e-01,\n",
      "           1.0983e+00, -8.8721e-01]],\n",
      "\n",
      "        [[-8.4508e-01,  5.5681e-02, -8.0660e-01,  1.1896e+00, -1.8299e-01,\n",
      "          -1.0604e+00, -8.8180e-01],\n",
      "         [ 8.7887e-01, -1.1167e+00, -4.4651e-01, -3.5200e-02, -3.3430e-01,\n",
      "           2.1533e-01,  2.2097e-01],\n",
      "         [ 8.6089e-01,  7.1812e-01, -1.1674e+00,  2.3774e+00, -1.2731e-01,\n",
      "           6.6976e-01, -1.0368e+00],\n",
      "         [-8.6212e-01, -3.1558e-02,  2.2734e+00, -4.4129e-01,  4.4848e-01,\n",
      "           1.3494e+00,  1.3087e+00],\n",
      "         [-5.7673e-01,  8.0394e-01,  2.5438e-01, -4.1259e-01, -4.4045e-01,\n",
      "           1.4946e+00, -2.0882e+00]],\n",
      "\n",
      "        [[-5.4642e-01,  2.0008e-01,  1.2226e-02,  3.5184e-01, -5.0985e-01,\n",
      "           2.0473e+00,  1.9592e-02],\n",
      "         [-9.3595e-02,  6.4398e-02, -4.9074e-01,  1.4783e+00, -2.7435e-01,\n",
      "           7.9757e-02, -1.8728e-03],\n",
      "         [-4.4900e-01,  6.5604e-01, -6.6340e-01,  5.0573e-01,  1.3146e+00,\n",
      "           7.9565e-01, -1.2470e+00],\n",
      "         [-9.2029e-01,  2.2754e-01, -6.5773e-01,  7.0652e-01, -2.1506e+00,\n",
      "          -1.9727e+00, -1.2375e-01],\n",
      "         [ 6.5404e-01, -1.2662e-02,  6.4690e-01, -8.3354e-01, -5.3616e-01,\n",
      "           5.0381e-01,  1.0876e+00]]])\n",
      "tensor([1, 2, 3])\n",
      "tensor([0, 0, 0])\n",
      "True\n",
      "tensor([2, 2, 2])\n",
      "tensor([12, 12, 12])\n",
      "1928503185216\n",
      "1928386606784\n",
      "tensor([12, 12, 12])\n"
     ]
    }
   ]
  },
  {
   "cell_type": "code",
   "metadata": {
    "pycharm": {
     "name": "#%%\n"
    },
    "id": "obfzFPLI14jP",
    "colab_type": "code",
    "colab": {
     "base_uri": "https://localhost:8080/",
     "height": 50
    },
    "executionInfo": {
     "status": "ok",
     "timestamp": 1592742502580,
     "user_tz": -480,
     "elapsed": 1077,
     "user": {
      "displayName": "chao duan",
      "photoUrl": "",
      "userId": "16986074214670067064"
     }
    },
    "outputId": "b1e23f56-9169-47d5-c15a-9887a1cc6421"
   },
   "source": [
    "device = torch.device(\"cuda\" if torch.cuda.is_available() else \"cpu\")\n",
    "y = y.to(device)\n",
    "print(y)\n",
    "print(y.is_cuda)  # Is True if the Tensor is stored on the GPU, False otherwise."
   ],
   "execution_count": 94,
   "outputs": [
    {
     "name": "stdout",
     "output_type": "stream",
     "text": [
      "tensor([12, 12, 12], device='cuda:0')\n",
      "True\n"
     ]
    }
   ]
  }
 ]
}