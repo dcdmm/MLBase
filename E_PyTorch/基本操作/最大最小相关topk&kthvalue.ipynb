{
 "cells": [
  {
   "cell_type": "code",
   "execution_count": 1,
   "outputs": [],
   "source": [
    "import torch"
   ],
   "metadata": {
    "collapsed": false,
    "pycharm": {
     "name": "#%%\n"
    }
   }
  },
  {
   "cell_type": "code",
   "execution_count": 2,
   "outputs": [
    {
     "data": {
      "text/plain": "tensor([[[ 12, 112,  49,  11,  21,  61, 107, 106],\n         [117,   0,  14,  23,  26,  33, 104, 111],\n         [ 18,  13, 116,  32,  63,  37,  54,  93],\n         [ 24,  94,  34,  58,  42,  66, 126, 115]],\n\n        [[ 86,  57,  31,  35, 113,  74,   1,  50],\n         [123,   4,  52, 122,  16,  43,  90,  17],\n         [ 98, 110,  38,  73,  28,   9,  72,  41],\n         [ 15,  19,  71, 100, 105,  59,  53,  97]],\n\n        [[ 81, 125,  78, 103, 102,  36, 119,  48],\n         [ 62,  67,  20,  85, 118,  99,   2,  64],\n         [  6,  89,  68,  96, 114,  84,  87,  56],\n         [ 25,  27,  92,  51,  70,  76, 109, 120]],\n\n        [[ 60,   3,  22, 124,  30,   8,  77,  88],\n         [ 80,  45, 127,  47,  39,   5,  91,   7],\n         [ 95,  29,  65, 101,  10,  69,  46,  55],\n         [ 40,  79, 121, 108,  44,  82,  83,  75]]])"
     },
     "execution_count": 2,
     "metadata": {},
     "output_type": "execute_result"
    }
   ],
   "source": [
    "x = torch.arange(128)\n",
    "ix = torch.randperm(128)\n",
    "x = x[ix].reshape(4, 4, 8)  # 对x随机化\n",
    "x"
   ],
   "metadata": {
    "collapsed": false,
    "pycharm": {
     "name": "#%%\n"
    }
   }
  },
  {
   "cell_type": "code",
   "execution_count": 3,
   "outputs": [
    {
     "data": {
      "text/plain": "torch.return_types.topk(\nvalues=tensor([[[ 86, 125,  78, 124, 113,  74, 119, 106],\n         [123,  67, 127, 122, 118,  99, 104, 111],\n         [ 98, 110, 116, 101, 114,  84,  87,  93],\n         [ 40,  94, 121, 108, 105,  82, 126, 120]],\n\n        [[ 81, 112,  49, 103, 102,  61, 107,  88],\n         [117,  45,  52,  85,  39,  43,  91,  64],\n         [ 95,  89,  68,  96,  63,  69,  72,  56],\n         [ 25,  79,  92, 100,  70,  76, 109, 115]]]),\nindices=tensor([[[1, 2, 2, 3, 1, 1, 2, 0],\n         [1, 2, 3, 1, 2, 2, 0, 0],\n         [1, 1, 0, 3, 2, 2, 2, 0],\n         [3, 0, 3, 3, 1, 3, 0, 2]],\n\n        [[2, 0, 0, 2, 2, 0, 0, 3],\n         [0, 3, 1, 2, 3, 1, 3, 2],\n         [3, 2, 2, 2, 0, 3, 1, 2],\n         [2, 3, 2, 1, 2, 2, 2, 0]]]))"
     },
     "execution_count": 3,
     "metadata": {},
     "output_type": "execute_result"
    }
   ],
   "source": [
    "torch.topk(x, k=2, dim=0)  # 返回x在维度dim上最大的k个元素及这k个元素在维度dim上的索引"
   ],
   "metadata": {
    "collapsed": false,
    "pycharm": {
     "name": "#%%\n"
    }
   }
  },
  {
   "cell_type": "code",
   "execution_count": 4,
   "outputs": [
    {
     "data": {
      "text/plain": "torch.return_types.topk(\nvalues=tensor([[[12,  3, 22, 11, 21,  8,  1, 48],\n         [62,  0, 14, 23, 16,  5,  2,  7],\n         [ 6, 13, 38, 32, 10,  9, 46, 41],\n         [15, 19, 34, 51, 42, 59, 53, 75]],\n\n        [[60, 57, 31, 35, 30, 36, 77, 50],\n         [80,  4, 20, 47, 26, 33, 90, 17],\n         [18, 29, 65, 73, 28, 37, 54, 55],\n         [24, 27, 71, 58, 44, 66, 83, 97]]]),\nindices=tensor([[[0, 3, 3, 0, 0, 3, 1, 2],\n         [2, 0, 0, 0, 1, 3, 2, 3],\n         [2, 0, 1, 0, 3, 1, 3, 1],\n         [1, 1, 0, 2, 0, 1, 1, 3]],\n\n        [[3, 1, 1, 1, 3, 2, 3, 1],\n         [3, 1, 2, 3, 0, 0, 1, 1],\n         [0, 3, 3, 1, 1, 0, 0, 3],\n         [0, 2, 1, 0, 3, 0, 3, 1]]]))"
     },
     "execution_count": 4,
     "metadata": {},
     "output_type": "execute_result"
    }
   ],
   "source": [
    "torch.topk(x, k=2, dim=0,\n",
    "           largest=False)  # 返回x在维度dim上最小的k个元素及这k个元素在维度dim上的索引"
   ],
   "metadata": {
    "collapsed": false,
    "pycharm": {
     "name": "#%%\n"
    }
   }
  },
  {
   "cell_type": "code",
   "execution_count": 5,
   "outputs": [
    {
     "data": {
      "text/plain": "torch.return_types.kthvalue(\nvalues=tensor([[12,  3, 22, 11, 21,  8,  1, 48],\n        [62,  0, 14, 23, 16,  5,  2,  7],\n        [ 6, 13, 38, 32, 10,  9, 46, 41],\n        [15, 19, 34, 51, 42, 59, 53, 75]]),\nindices=tensor([[0, 3, 3, 0, 0, 3, 1, 2],\n        [2, 0, 0, 0, 1, 3, 2, 3],\n        [2, 0, 1, 0, 3, 1, 3, 1],\n        [1, 1, 0, 2, 0, 1, 1, 3]]))"
     },
     "execution_count": 5,
     "metadata": {},
     "output_type": "execute_result"
    }
   ],
   "source": [
    "torch.kthvalue(x, k=1, dim=0)  # 返回x在维度dim上排序第1(从0开始)大的元素及这个元素在维度dim上的索引"
   ],
   "metadata": {
    "collapsed": false,
    "pycharm": {
     "name": "#%%\n"
    }
   }
  }
 ],
 "metadata": {
  "kernelspec": {
   "display_name": "Python 3",
   "language": "python",
   "name": "python3"
  },
  "language_info": {
   "codemirror_mode": {
    "name": "ipython",
    "version": 2
   },
   "file_extension": ".py",
   "mimetype": "text/x-python",
   "name": "python",
   "nbconvert_exporter": "python",
   "pygments_lexer": "ipython2",
   "version": "2.7.6"
  }
 },
 "nbformat": 4,
 "nbformat_minor": 0
}