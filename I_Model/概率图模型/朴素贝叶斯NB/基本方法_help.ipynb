{
 "cells": [
  {
   "cell_type": "markdown",
   "metadata": {},
   "source": [
    "&emsp;&emsp;设输入空间$\\mathcal{X} \\subseteq \\mathbb{R}^n$为$n$维向量的集合,\n",
    "输出空间为类标记空间集合$\\mathcal{Y}=\\{c_1, c_2, \\cdots, c_n, c_K \\}$.输入为特征\n",
    "向量$x \\in \\mathcal{X}$,输出为类标记(class label)$y \\in \\mathcal{Y}$.$X$是定义在输入空间$\\mathcal{X}$上的随机向量,\n",
    "$Y$是定义在输出空间上的随机变量.$P(X, Y )$是$X$和$Y$的联合概率分布.训练数据集        \n",
    "$$ T=\\{ (\\mathbf{x}_1, y_1), (\\mathbf{x}_2, y_2), \\dots, (\\mathbf{x}_N, y_N) \\} $$      \n",
    "由$P(X, Y)$独立同分布产生.                    \n",
    "&emsp;&emsp;朴素贝叶斯法通过训练数据集学习联合概率分布$P(X,Y)$.具体地,学习以下先验概率分布及条件概率分布.先验概率分布        \n",
    "$$ P(Y = c_k), \\quad k=1,2,\\cdots, K $$         \n",
    "条件概率分布     \n",
    "$$ P(X = \\mathbf{x},| Y = c_k) = P(X^{(1)} = x^{(1)},\\cdots, X^{(n)} = x^{(n)}|Y=c_k), \\quad k=1,2,\\cdots, K $$              \n",
    "于是学习到联合概率分布$P(X, Y)$              \n",
    "&emsp;&emsp;条件概率分布$P(X = \\mathbf{x},| Y = c_k) $有指数数量的参数,其估计实际是不可行的.\n",
    "事实上,假设$ X^{(j)} $可取值有$S_j$个,$ j=1,2,\\cdots, n$,$Y$可取值有$K$个,那么参数个数为$K \\prod_{j=1}^n s_j$             \n",
    "&emsp;&emsp;朴素贝叶斯法对条件概率分布作了条件独立性的假设.由于这是一个较强的假设,\n",
    "朴素贝叶斯法也由此得名.具体地,条件独立性假设是                                       \n",
    "\n",
    "$$\n",
    "\\begin{aligned}\n",
    "P(X = \\mathbf{x} | Y =c_k) &= P(X^{(1)} = x^{(1)},\\cdots, X^{(n)} = x^{(n)}|Y=c_k)  \\\\\n",
    "\t\t\t\t  &= \\prod_{i=1}^n P(X^{(j)} = x^{(j)} | Y = c_k)\n",
    "\\end{aligned}\n",
    "$$                \n",
    "\n",
    "&emsp;&emsp;朴素贝叶斯实际上学习到生成数据的机制,所以输入生成模型.条件独立假设等于是说用于分类的特征在类确定的条件下都是条件独立的.\n",
    "这一假设使朴素贝叶斯变得简单,但有时会牺牲一定的分类准确率.           \n",
    "&emsp;&emsp;朴素贝叶斯分类时,对给定的输入$\\mathbf{x}$,通过学习到的模型计算后验概率分布$ P(Y=c_k | X =\\mathbf{x}) $,将后验概率最大的类作为$\\mathbf{x}$的类输出,\n",
    "后验概率计算根据贝叶斯定理进行:                       \n",
    "$$ P(Y=c_k | X =\\mathbf{x})  = \\frac{P(X = \\mathbf{x}|Y = c_k)P(Y= c_k)}{\\sum_{k}P(X = \\mathbf{x}|Y = c_k)P(Y= c_k)}$$         \n",
    "于是有                 \n",
    "$$ P(Y=c_k | X =\\mathbf{x})  = \\frac{P(Y= c_k)\\prod_{j} P(X^{(j)} = x^{(j)} | Y = c_k)}{ \\sum_{k}  P(Y= c_k) \\prod_{j} P(X^{(j)} = x^{(j)} | Y = c_k)} \\quad k=1,2,3\\dots, K $$          \n",
    "这是朴素贝叶斯法分类的基本公式.于是,朴素贝叶斯分类器可表示为                   \n",
    "$$ y = f(\\mathbf{x}) = \\mathrm{arg} \\max_{c_k} \\frac{P(Y= c_k)\\prod_{j} P(X^{(j)} = x^{(j)} | Y = c_k)}{\\sum_{k} P(Y= c_k) \\prod_{j} P(X^{(j)} = x^{(j)} | Y = c_k)}$$       \n",
    "注意到,上式中分母对所有$c_k$都是相同的,所以              \n",
    "$$ y= \\mathrm{arg} \\max_{c_k} P(Y= c_k)\\prod_{j} P(X^{(j)} = x^{(j)} | Y = c_k)$$          \n"
   ]
  }
 ],
 "metadata": {
  "kernelspec": {
   "display_name": "Python 3 (ipykernel)",
   "language": "python",
   "name": "python3"
  },
  "language_info": {
   "codemirror_mode": {
    "name": "ipython",
    "version": 3
   },
   "file_extension": ".py",
   "mimetype": "text/x-python",
   "name": "python",
   "nbconvert_exporter": "python",
   "pygments_lexer": "ipython3",
   "version": "3.8.12"
  },
  "pycharm": {
   "stem_cell": {
    "cell_type": "raw",
    "metadata": {
     "collapsed": false
    },
    "source": []
   }
  },
  "toc": {
   "base_numbering": 1,
   "nav_menu": {},
   "number_sections": true,
   "sideBar": true,
   "skip_h1_title": false,
   "title_cell": "Table of Contents",
   "title_sidebar": "Contents",
   "toc_cell": false,
   "toc_position": {},
   "toc_section_display": true,
   "toc_window_display": false
  }
 },
 "nbformat": 4,
 "nbformat_minor": 4
}
