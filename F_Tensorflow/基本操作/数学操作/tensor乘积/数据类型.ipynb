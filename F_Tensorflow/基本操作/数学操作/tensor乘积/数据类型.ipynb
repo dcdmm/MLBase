{
 "cells": [
  {
   "cell_type": "code",
   "execution_count": null,
   "outputs": [],
   "source": [
    "import tensorflow as tf"
   ],
   "metadata": {
    "collapsed": false,
    "pycharm": {
     "name": "#%%\n"
    }
   }
  },
  {
   "cell_type": "markdown",
   "source": [
    "### 参考类似numpy/基本操作数组乘积/数据类型"
   ],
   "metadata": {
    "collapsed": false,
    "pycharm": {
     "name": "#%% md\n"
    }
   }
  },
  {
   "cell_type": "markdown",
   "source": [
    "## 标量/scalar"
   ],
   "metadata": {
    "collapsed": false,
    "pycharm": {
     "name": "#%% md\n"
    }
   }
  },
  {
   "cell_type": "code",
   "execution_count": null,
   "outputs": [],
   "source": [
    "arr_scalar = tf.constant(10)  # 标量\n",
    "print(arr_scalar.ndim)\n",
    "print(arr_scalar.shape)\n",
    "print(arr_scalar)"
   ],
   "metadata": {
    "collapsed": false,
    "pycharm": {
     "name": "#%%\n"
    }
   }
  },
  {
   "cell_type": "markdown",
   "source": [
    "#### 向量/vector"
   ],
   "metadata": {
    "collapsed": false,
    "pycharm": {
     "name": "#%% md\n"
    }
   }
  },
  {
   "cell_type": "code",
   "execution_count": 12,
   "outputs": [
    {
     "name": "stdout",
     "output_type": "stream",
     "text": [
      "1\n",
      "(3,)\n",
      "tf.Tensor([1 2 3], shape=(3,), dtype=int32)\n"
     ]
    }
   ],
   "source": [
    "arr_vector = tf.constant([1, 2, 3])  # 向量\n",
    "print(arr_vector.ndim)\n",
    "print(arr_vector.shape)\n",
    "print(arr_vector)"
   ],
   "metadata": {
    "collapsed": false,
    "pycharm": {
     "name": "#%%\n"
    }
   }
  },
  {
   "cell_type": "markdown",
   "source": [
    "#### 矩阵/matrix"
   ],
   "metadata": {
    "collapsed": false,
    "pycharm": {
     "name": "#%% md\n"
    }
   }
  },
  {
   "cell_type": "code",
   "execution_count": 13,
   "outputs": [
    {
     "name": "stdout",
     "output_type": "stream",
     "text": [
      "2\n",
      "(2, 3)\n",
      "tf.Tensor(\n",
      "[[1 2 3]\n",
      " [2 3 4]], shape=(2, 3), dtype=int32)\n"
     ]
    }
   ],
   "source": [
    "arr_matrix = tf.constant([[1, 2, 3], [2, 3, 4]])  # 矩阵\n",
    "print(arr_matrix.ndim)\n",
    "print(arr_matrix.shape)\n",
    "print(arr_matrix)"
   ],
   "metadata": {
    "collapsed": false,
    "pycharm": {
     "name": "#%%\n"
    }
   }
  },
  {
   "cell_type": "markdown",
   "source": [
    "#### 高维矩阵(ndim>2)"
   ],
   "metadata": {
    "collapsed": false,
    "pycharm": {
     "name": "#%% md\n"
    }
   }
  },
  {
   "cell_type": "code",
   "source": [
    "arr_mul_matrix = tf.random.stateless_normal(shape=(3, 4, 5), seed=(1, 2))\n",
    "print(arr_mul_matrix.ndim)\n",
    "print(arr_mul_matrix.shape)\n",
    "print(arr_mul_matrix)\n",
    "\n"
   ],
   "metadata": {
    "collapsed": false,
    "pycharm": {
     "name": "#%%\n"
    }
   },
   "execution_count": 14,
   "outputs": [
    {
     "name": "stdout",
     "output_type": "stream",
     "text": [
      "3\n",
      "(3, 4, 5)\n",
      "tf.Tensor(\n",
      "[[[ 0.5441101   0.20738031  0.07356433  0.04643455 -1.30159   ]\n",
      "  [-0.95385665  0.84172857  1.9396868   0.6512578   1.1048867 ]\n",
      "  [ 1.3746228   1.148752    1.0821314   0.55104923  0.07009614]\n",
      "  [ 0.707385    0.88857085 -0.46432722  1.2084333  -0.79011595]]\n",
      "\n",
      " [[-0.7304904  -0.7207538   0.36527526 -0.16950758  0.20318079]\n",
      "  [-0.90232295 -0.65045786  2.4152768   0.5703469   0.8770354 ]\n",
      "  [ 0.36876458 -0.57617044 -0.66170377 -1.0227758   0.6109012 ]\n",
      "  [-0.2563904   2.1067173  -0.04597485 -0.2069098   0.6324636 ]]\n",
      "\n",
      " [[ 0.42266     0.05165391 -0.73736423 -1.1144085   0.4858592 ]\n",
      "  [-1.4368211   1.7883171   0.47844714 -1.3764827   0.79399854]\n",
      "  [-2.1332254  -0.17303157 -1.7487346  -0.46926638 -1.5576217 ]\n",
      "  [-0.8941696   0.21992801  0.148727   -0.8418422  -1.4702468 ]]], shape=(3, 4, 5), dtype=float32)\n"
     ]
    }
   ]
  }
 ],
 "metadata": {
  "kernelspec": {
   "display_name": "Python 3",
   "language": "python",
   "name": "python3"
  },
  "language_info": {
   "codemirror_mode": {
    "name": "ipython",
    "version": 2
   },
   "file_extension": ".py",
   "mimetype": "text/x-python",
   "name": "python",
   "nbconvert_exporter": "python",
   "pygments_lexer": "ipython2",
   "version": "2.7.6"
  }
 },
 "nbformat": 4,
 "nbformat_minor": 0
}