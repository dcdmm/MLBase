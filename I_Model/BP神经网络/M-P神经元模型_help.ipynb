{
 "cells": [
  {
   "cell_type": "markdown",
   "metadata": {
    "collapsed": true,
    "pycharm": {
     "name": "#%% md\n"
    }
   },
   "source": [
    "<img src='../../Other/img/M-P.png' style=\"width=500px;height:400px\">\n",
    "\n",
    "&emsp;&emsp;向量化表示为\n",
    "\n",
    "$$ y = f(\\mathbf{w}^T \\mathbf{x} - \\theta) $$\n",
    "\n",
    "其中,\n",
    "\\begin{equation}\n",
    "\\mathbf{x} =\n",
    "\\begin{bmatrix}\n",
    "x_{1} \\\\\n",
    "x_{2} \\\\\n",
    "\\vdots \\\\\n",
    "x_{n}\t  \\\\\n",
    "\\end{bmatrix}\n",
    ",\n",
    "\\mathbf{w}^T = [w_1, w_2, \\cdots,w_n]\n",
    "\\end{equation}\n",
    "\n",
    "&emsp;&emsp;为了方便,将权值向量和输入向量加以扩充,仍记作$\\mathbf{w},\\mathbf{x}$,即\n",
    "\\begin{equation}\n",
    "\\mathbf{x} =\n",
    "\\begin{bmatrix}\n",
    "x_{1} \\\\\n",
    "x_{2} \\\\\n",
    "\\vdots \\\\\n",
    "x_{n }  \\\\\n",
    "1       \\\\\n",
    "\\end{bmatrix}\n",
    ",\n",
    "\\mathbf{w}^T = [w_1, w_2, \\cdots,w_n,b]\n",
    "\\end{equation}\n",
    ",偏置$b$(阈值$\\theta$)的大小度量了神经元产生正(负)激励的难易程度,增加了神经网络的学习能力和功能,这时,输出$y$可表示为\n",
    "\n",
    "$$ y = f(\\mathbf{w}^T \\mathbf{x}) $$"
   ]
  }
 ],
 "metadata": {
  "kernelspec": {
   "display_name": "Python 3",
   "language": "python",
   "name": "python3"
  },
  "language_info": {
   "codemirror_mode": {
    "name": "ipython",
    "version": 3
   },
   "file_extension": ".py",
   "mimetype": "text/x-python",
   "name": "python",
   "nbconvert_exporter": "python",
   "pygments_lexer": "ipython3",
   "version": "3.7.7"
  },
  "toc": {
   "base_numbering": 1,
   "nav_menu": {},
   "number_sections": true,
   "sideBar": true,
   "skip_h1_title": false,
   "title_cell": "Table of Contents",
   "title_sidebar": "Contents",
   "toc_cell": false,
   "toc_position": {},
   "toc_section_display": true,
   "toc_window_display": false
  }
 },
 "nbformat": 4,
 "nbformat_minor": 1
}
