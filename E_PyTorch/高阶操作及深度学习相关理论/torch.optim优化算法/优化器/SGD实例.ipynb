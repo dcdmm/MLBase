{
 "cells": [
  {
   "cell_type": "code",
   "execution_count": 1,
   "metadata": {
    "collapsed": true
   },
   "outputs": [],
   "source": [
    "import torch.nn as nn\n",
    "import torch.optim as optim\n",
    "from torchvision import datasets, transforms\n",
    "import torch.utils.data as Data\n",
    "import torch"
   ]
  },
  {
   "cell_type": "code",
   "execution_count": 2,
   "metadata": {
    "pycharm": {
     "name": "#%%\n"
    }
   },
   "outputs": [],
   "source": [
    "batch_size = 200\n",
    "\n",
    "train_data = datasets.MNIST('../../../../Other/datasets/PyTorch',\n",
    "                            train=True,\n",
    "                            transform=transforms.Compose([\n",
    "                                transforms.ToTensor(),\n",
    "                                transforms.Normalize((0.1307,), (0.3081,))\n",
    "                            ]))\n",
    "\n",
    "test_data = datasets.MNIST('../../../../Other/datasets/PyTorch',\n",
    "                           train=False,\n",
    "                           transform=transforms.Compose([\n",
    "                               transforms.ToTensor(),\n",
    "                               transforms.Normalize((0.1307,), (0.3081,))\n",
    "                           ]))\n",
    "\n",
    "# 手写数字训练数据集\n",
    "train_loader = Data.DataLoader(dataset=train_data,\n",
    "                               batch_size=batch_size,\n",
    "                               shuffle=True)\n",
    "\n",
    "# 手写数字测试数据集\n",
    "test_loader = Data.DataLoader(dataset=test_data,\n",
    "                              batch_size=batch_size,\n",
    "                              shuffle=True)"
   ]
  },
  {
   "cell_type": "code",
   "execution_count": 3,
   "metadata": {
    "pycharm": {
     "name": "#%%\n"
    }
   },
   "outputs": [],
   "source": [
    "class LeNet(nn.Module):\n",
    "    def __init__(self):\n",
    "        super(LeNet, self).__init__()\n",
    "        self.featrues = nn.Sequential(  # 内部实现了forward函数;各模块顺序执行\n",
    "            nn.Conv2d(1, 6, 3),\n",
    "            nn.ReLU(),\n",
    "            nn.MaxPool2d(2, 2),\n",
    "            nn.Conv2d(6, 16, 3),\n",
    "            nn.ReLU(),\n",
    "            nn.MaxPool2d(2, 2)\n",
    "        )\n",
    "        self.classifier = nn.Sequential(\n",
    "            nn.Linear(400, 120),\n",
    "            nn.ReLU(),\n",
    "            nn.Linear(120, 84),\n",
    "            nn.ReLU(),\n",
    "            nn.Linear(84, 10),  # 10分类问题\n",
    "        )\n",
    "\n",
    "    def forward(self, x):\n",
    "        x = self.featrues(x)\n",
    "        x = x.reshape(x.size()[0], -1)\n",
    "        x = self.classifier(x)\n",
    "        return x"
   ]
  },
  {
   "cell_type": "code",
   "execution_count": 4,
   "metadata": {
    "pycharm": {
     "name": "#%%\n"
    }
   },
   "outputs": [],
   "source": [
    "learning_rate = 0.01\n",
    "epochs = 5\n",
    "criteon = nn.CrossEntropyLoss()  # 定义损失函数为交叉熵\n",
    "device = torch.device(\"cuda\" if torch.cuda.is_available() else \"cpu\")\n",
    "net = LeNet()\n",
    "lenet = net.to(device)  # 模型设备转移必须在优化器定义前执行\n",
    "\n",
    "# 多参数组的SGD优化器\n",
    "optimizer = optim.SGD([dict(params=net.featrues.parameters(), momentum=0.9),\n",
    "                       dict(params=net.classifier.parameters(),\n",
    "                            momentum=0.95,  # 动量参数\\alpha;默认momentum=0\n",
    "                            nesterov=True)],  # 是否启用Nesterov动量\n",
    "                      lr=learning_rate)  # 学习率"
   ]
  },
  {
   "cell_type": "code",
   "execution_count": 5,
   "outputs": [],
   "source": [
    "transforms_data = []\n",
    "for i, j in train_data:\n",
    "    transforms_data.append(i.tolist())\n",
    "transforms_data_ten = torch.tensor(transforms_data)"
   ],
   "metadata": {
    "collapsed": false,
    "pycharm": {
     "name": "#%%\n"
    }
   }
  },
  {
   "cell_type": "code",
   "execution_count": 6,
   "outputs": [],
   "source": [
    "transforms_data_loader = Data.DataLoader(transforms_data_ten, batch_size=200, shuffle=True)\n",
    "y_label = train_loader.dataset.targets"
   ],
   "metadata": {
    "collapsed": false,
    "pycharm": {
     "name": "#%%\n"
    }
   }
  },
  {
   "cell_type": "code",
   "execution_count": 7,
   "outputs": [],
   "source": [
    "from torch_model.train_evaluate import Train_Evaluate\n",
    "\n",
    "t_and_v = Train_Evaluate(model=lenet, optimizer=optimizer, criterion=criteon, epochs=5)"
   ],
   "metadata": {
    "collapsed": false,
    "pycharm": {
     "name": "#%%\n"
    }
   }
  },
  {
   "cell_type": "code",
   "execution_count": 8,
   "outputs": [
    {
     "name": "stderr",
     "output_type": "stream",
     "text": [
      "C:\\Users\\duanm\\anaconda3\\lib\\site-packages\\torch\\nn\\functional.py:718: UserWarning: Named tensors and all their associated APIs are an experimental feature and subject to change. Please do not use them for anything important until they are released as stable. (Triggered internally at  ..\\c10/core/TensorImpl.h:1156.)\n",
      "  return torch.max_pool2d(input, kernel_size, stride, padding, dilation, ceil_mode)\n"
     ]
    },
    {
     "name": "stdout",
     "output_type": "stream",
     "text": [
      "Train Epoch: 0  [0    /60000 (0  %)]\tLoss: 2.310729\n",
      "Train Epoch: 0  [2000 /60000 (3  %)]\tLoss: 2.296386\n",
      "Train Epoch: 0  [4000 /60000 (7  %)]\tLoss: 2.271894\n",
      "Train Epoch: 0  [6000 /60000 (10 %)]\tLoss: 2.237487\n",
      "Train Epoch: 0  [8000 /60000 (13 %)]\tLoss: 2.099330\n",
      "Train Epoch: 0  [10000/60000 (17 %)]\tLoss: 1.502880\n",
      "Train Epoch: 0  [12000/60000 (20 %)]\tLoss: 0.746875\n",
      "Train Epoch: 0  [14000/60000 (23 %)]\tLoss: 1.119693\n",
      "Train Epoch: 0  [16000/60000 (27 %)]\tLoss: 0.717940\n",
      "Train Epoch: 0  [18000/60000 (30 %)]\tLoss: 0.558140\n",
      "Train Epoch: 0  [20000/60000 (33 %)]\tLoss: 0.508426\n",
      "Train Epoch: 0  [22000/60000 (37 %)]\tLoss: 0.480924\n",
      "Train Epoch: 0  [24000/60000 (40 %)]\tLoss: 0.403613\n",
      "Train Epoch: 0  [26000/60000 (43 %)]\tLoss: 0.284308\n",
      "Train Epoch: 0  [28000/60000 (47 %)]\tLoss: 0.237290\n",
      "Train Epoch: 0  [30000/60000 (50 %)]\tLoss: 0.290335\n",
      "Train Epoch: 0  [32000/60000 (53 %)]\tLoss: 0.221884\n",
      "Train Epoch: 0  [34000/60000 (57 %)]\tLoss: 0.137461\n",
      "Train Epoch: 0  [36000/60000 (60 %)]\tLoss: 0.201242\n",
      "Train Epoch: 0  [38000/60000 (63 %)]\tLoss: 0.197596\n",
      "Train Epoch: 0  [40000/60000 (67 %)]\tLoss: 0.170226\n",
      "Train Epoch: 0  [42000/60000 (70 %)]\tLoss: 0.127568\n",
      "Train Epoch: 0  [44000/60000 (73 %)]\tLoss: 0.101321\n",
      "Train Epoch: 0  [46000/60000 (77 %)]\tLoss: 0.139464\n",
      "Train Epoch: 0  [48000/60000 (80 %)]\tLoss: 0.165487\n",
      "Train Epoch: 0  [50000/60000 (83 %)]\tLoss: 0.126406\n",
      "Train Epoch: 0  [52000/60000 (87 %)]\tLoss: 0.144662\n",
      "Train Epoch: 0  [54000/60000 (90 %)]\tLoss: 0.127434\n",
      "Train Epoch: 0  [56000/60000 (93 %)]\tLoss: 0.124427\n",
      "Train Epoch: 0  [58000/60000 (97 %)]\tLoss: 0.118760\n",
      "Train Epoch: 0  [60000/60000 (100%)]\tLoss: 0.080283\n",
      "----------------------------------------------------------------------------------------------------\n",
      "Train Epoch: 1  [0    /60000 (0  %)]\tLoss: 0.159006\n",
      "Train Epoch: 1  [2000 /60000 (3  %)]\tLoss: 0.146913\n",
      "Train Epoch: 1  [4000 /60000 (7  %)]\tLoss: 0.125393\n",
      "Train Epoch: 1  [6000 /60000 (10 %)]\tLoss: 0.100602\n",
      "Train Epoch: 1  [8000 /60000 (13 %)]\tLoss: 0.065438\n",
      "Train Epoch: 1  [10000/60000 (17 %)]\tLoss: 0.132988\n",
      "Train Epoch: 1  [12000/60000 (20 %)]\tLoss: 0.089947\n",
      "Train Epoch: 1  [14000/60000 (23 %)]\tLoss: 0.103348\n",
      "Train Epoch: 1  [16000/60000 (27 %)]\tLoss: 0.082512\n",
      "Train Epoch: 1  [18000/60000 (30 %)]\tLoss: 0.079935\n",
      "Train Epoch: 1  [20000/60000 (33 %)]\tLoss: 0.091081\n",
      "Train Epoch: 1  [22000/60000 (37 %)]\tLoss: 0.071389\n",
      "Train Epoch: 1  [24000/60000 (40 %)]\tLoss: 0.109711\n",
      "Train Epoch: 1  [26000/60000 (43 %)]\tLoss: 0.079297\n",
      "Train Epoch: 1  [28000/60000 (47 %)]\tLoss: 0.046657\n",
      "Train Epoch: 1  [30000/60000 (50 %)]\tLoss: 0.077826\n",
      "Train Epoch: 1  [32000/60000 (53 %)]\tLoss: 0.120250\n",
      "Train Epoch: 1  [34000/60000 (57 %)]\tLoss: 0.068977\n",
      "Train Epoch: 1  [36000/60000 (60 %)]\tLoss: 0.096453\n",
      "Train Epoch: 1  [38000/60000 (63 %)]\tLoss: 0.085026\n",
      "Train Epoch: 1  [40000/60000 (67 %)]\tLoss: 0.091272\n",
      "Train Epoch: 1  [42000/60000 (70 %)]\tLoss: 0.097061\n",
      "Train Epoch: 1  [44000/60000 (73 %)]\tLoss: 0.077583\n",
      "Train Epoch: 1  [46000/60000 (77 %)]\tLoss: 0.112774\n",
      "Train Epoch: 1  [48000/60000 (80 %)]\tLoss: 0.082940\n",
      "Train Epoch: 1  [50000/60000 (83 %)]\tLoss: 0.074724\n",
      "Train Epoch: 1  [52000/60000 (87 %)]\tLoss: 0.097004\n",
      "Train Epoch: 1  [54000/60000 (90 %)]\tLoss: 0.045160\n",
      "Train Epoch: 1  [56000/60000 (93 %)]\tLoss: 0.104737\n",
      "Train Epoch: 1  [58000/60000 (97 %)]\tLoss: 0.088822\n",
      "Train Epoch: 1  [60000/60000 (100%)]\tLoss: 0.059133\n",
      "----------------------------------------------------------------------------------------------------\n",
      "Train Epoch: 2  [0    /60000 (0  %)]\tLoss: 0.069608\n",
      "Train Epoch: 2  [2000 /60000 (3  %)]\tLoss: 0.030422\n",
      "Train Epoch: 2  [4000 /60000 (7  %)]\tLoss: 0.087036\n",
      "Train Epoch: 2  [6000 /60000 (10 %)]\tLoss: 0.043966\n",
      "Train Epoch: 2  [8000 /60000 (13 %)]\tLoss: 0.060802\n",
      "Train Epoch: 2  [10000/60000 (17 %)]\tLoss: 0.033583\n",
      "Train Epoch: 2  [12000/60000 (20 %)]\tLoss: 0.059456\n",
      "Train Epoch: 2  [14000/60000 (23 %)]\tLoss: 0.056772\n",
      "Train Epoch: 2  [16000/60000 (27 %)]\tLoss: 0.069096\n",
      "Train Epoch: 2  [18000/60000 (30 %)]\tLoss: 0.043279\n",
      "Train Epoch: 2  [20000/60000 (33 %)]\tLoss: 0.060820\n",
      "Train Epoch: 2  [22000/60000 (37 %)]\tLoss: 0.054505\n",
      "Train Epoch: 2  [24000/60000 (40 %)]\tLoss: 0.048848\n",
      "Train Epoch: 2  [26000/60000 (43 %)]\tLoss: 0.064028\n",
      "Train Epoch: 2  [28000/60000 (47 %)]\tLoss: 0.078021\n",
      "Train Epoch: 2  [30000/60000 (50 %)]\tLoss: 0.087093\n",
      "Train Epoch: 2  [32000/60000 (53 %)]\tLoss: 0.049158\n",
      "Train Epoch: 2  [34000/60000 (57 %)]\tLoss: 0.073552\n",
      "Train Epoch: 2  [36000/60000 (60 %)]\tLoss: 0.109090\n",
      "Train Epoch: 2  [38000/60000 (63 %)]\tLoss: 0.013900\n",
      "Train Epoch: 2  [40000/60000 (67 %)]\tLoss: 0.059221\n",
      "Train Epoch: 2  [42000/60000 (70 %)]\tLoss: 0.047663\n",
      "Train Epoch: 2  [44000/60000 (73 %)]\tLoss: 0.074809\n",
      "Train Epoch: 2  [46000/60000 (77 %)]\tLoss: 0.043897\n",
      "Train Epoch: 2  [48000/60000 (80 %)]\tLoss: 0.048558\n",
      "Train Epoch: 2  [50000/60000 (83 %)]\tLoss: 0.047822\n",
      "Train Epoch: 2  [52000/60000 (87 %)]\tLoss: 0.080067\n",
      "Train Epoch: 2  [54000/60000 (90 %)]\tLoss: 0.055924\n",
      "Train Epoch: 2  [56000/60000 (93 %)]\tLoss: 0.072674\n",
      "Train Epoch: 2  [58000/60000 (97 %)]\tLoss: 0.059262\n",
      "Train Epoch: 2  [60000/60000 (100%)]\tLoss: 0.080026\n",
      "----------------------------------------------------------------------------------------------------\n",
      "Train Epoch: 3  [0    /60000 (0  %)]\tLoss: 0.053109\n",
      "Train Epoch: 3  [2000 /60000 (3  %)]\tLoss: 0.066484\n",
      "Train Epoch: 3  [4000 /60000 (7  %)]\tLoss: 0.050501\n",
      "Train Epoch: 3  [6000 /60000 (10 %)]\tLoss: 0.051631\n",
      "Train Epoch: 3  [8000 /60000 (13 %)]\tLoss: 0.059765\n",
      "Train Epoch: 3  [10000/60000 (17 %)]\tLoss: 0.029630\n",
      "Train Epoch: 3  [12000/60000 (20 %)]\tLoss: 0.107080\n",
      "Train Epoch: 3  [14000/60000 (23 %)]\tLoss: 0.066000\n",
      "Train Epoch: 3  [16000/60000 (27 %)]\tLoss: 0.022383\n",
      "Train Epoch: 3  [18000/60000 (30 %)]\tLoss: 0.057457\n",
      "Train Epoch: 3  [20000/60000 (33 %)]\tLoss: 0.104742\n",
      "Train Epoch: 3  [22000/60000 (37 %)]\tLoss: 0.100727\n",
      "Train Epoch: 3  [24000/60000 (40 %)]\tLoss: 0.039558\n",
      "Train Epoch: 3  [26000/60000 (43 %)]\tLoss: 0.072486\n",
      "Train Epoch: 3  [28000/60000 (47 %)]\tLoss: 0.057156\n",
      "Train Epoch: 3  [30000/60000 (50 %)]\tLoss: 0.077712\n",
      "Train Epoch: 3  [32000/60000 (53 %)]\tLoss: 0.078031\n",
      "Train Epoch: 3  [34000/60000 (57 %)]\tLoss: 0.055002\n",
      "Train Epoch: 3  [36000/60000 (60 %)]\tLoss: 0.026880\n",
      "Train Epoch: 3  [38000/60000 (63 %)]\tLoss: 0.053151\n",
      "Train Epoch: 3  [40000/60000 (67 %)]\tLoss: 0.018545\n",
      "Train Epoch: 3  [42000/60000 (70 %)]\tLoss: 0.047515\n",
      "Train Epoch: 3  [44000/60000 (73 %)]\tLoss: 0.120969\n",
      "Train Epoch: 3  [46000/60000 (77 %)]\tLoss: 0.051047\n",
      "Train Epoch: 3  [48000/60000 (80 %)]\tLoss: 0.066111\n",
      "Train Epoch: 3  [50000/60000 (83 %)]\tLoss: 0.017716\n",
      "Train Epoch: 3  [52000/60000 (87 %)]\tLoss: 0.057136\n",
      "Train Epoch: 3  [54000/60000 (90 %)]\tLoss: 0.077859\n",
      "Train Epoch: 3  [56000/60000 (93 %)]\tLoss: 0.033684\n",
      "Train Epoch: 3  [58000/60000 (97 %)]\tLoss: 0.024259\n",
      "Train Epoch: 3  [60000/60000 (100%)]\tLoss: 0.076535\n",
      "----------------------------------------------------------------------------------------------------\n",
      "Train Epoch: 4  [0    /60000 (0  %)]\tLoss: 0.045506\n",
      "Train Epoch: 4  [2000 /60000 (3  %)]\tLoss: 0.031411\n",
      "Train Epoch: 4  [4000 /60000 (7  %)]\tLoss: 0.033936\n",
      "Train Epoch: 4  [6000 /60000 (10 %)]\tLoss: 0.048454\n",
      "Train Epoch: 4  [8000 /60000 (13 %)]\tLoss: 0.011395\n",
      "Train Epoch: 4  [10000/60000 (17 %)]\tLoss: 0.012574\n",
      "Train Epoch: 4  [12000/60000 (20 %)]\tLoss: 0.065454\n",
      "Train Epoch: 4  [14000/60000 (23 %)]\tLoss: 0.013244\n",
      "Train Epoch: 4  [16000/60000 (27 %)]\tLoss: 0.016139\n",
      "Train Epoch: 4  [18000/60000 (30 %)]\tLoss: 0.061776\n",
      "Train Epoch: 4  [20000/60000 (33 %)]\tLoss: 0.019607\n",
      "Train Epoch: 4  [22000/60000 (37 %)]\tLoss: 0.041906\n",
      "Train Epoch: 4  [24000/60000 (40 %)]\tLoss: 0.046011\n",
      "Train Epoch: 4  [26000/60000 (43 %)]\tLoss: 0.058816\n",
      "Train Epoch: 4  [28000/60000 (47 %)]\tLoss: 0.070998\n",
      "Train Epoch: 4  [30000/60000 (50 %)]\tLoss: 0.048249\n",
      "Train Epoch: 4  [32000/60000 (53 %)]\tLoss: 0.067583\n",
      "Train Epoch: 4  [34000/60000 (57 %)]\tLoss: 0.061644\n",
      "Train Epoch: 4  [36000/60000 (60 %)]\tLoss: 0.034196\n",
      "Train Epoch: 4  [38000/60000 (63 %)]\tLoss: 0.031198\n",
      "Train Epoch: 4  [40000/60000 (67 %)]\tLoss: 0.048213\n",
      "Train Epoch: 4  [42000/60000 (70 %)]\tLoss: 0.038505\n",
      "Train Epoch: 4  [44000/60000 (73 %)]\tLoss: 0.020536\n",
      "Train Epoch: 4  [46000/60000 (77 %)]\tLoss: 0.072556\n",
      "Train Epoch: 4  [48000/60000 (80 %)]\tLoss: 0.025806\n",
      "Train Epoch: 4  [50000/60000 (83 %)]\tLoss: 0.029983\n",
      "Train Epoch: 4  [52000/60000 (87 %)]\tLoss: 0.084554\n",
      "Train Epoch: 4  [54000/60000 (90 %)]\tLoss: 0.042606\n",
      "Train Epoch: 4  [56000/60000 (93 %)]\tLoss: 0.041180\n",
      "Train Epoch: 4  [58000/60000 (97 %)]\tLoss: 0.053006\n",
      "Train Epoch: 4  [60000/60000 (100%)]\tLoss: 0.082604\n",
      "----------------------------------------------------------------------------------------------------\n"
     ]
    },
    {
     "data": {
      "text/plain": "[[10.852108001708984],\n [11.325456619262695],\n [12.062515258789062],\n [12.37707805633545],\n [13.531060218811035]]"
     },
     "execution_count": 8,
     "metadata": {},
     "output_type": "execute_result"
    }
   ],
   "source": [
    "metric_reslut = t_and_v.train_eval(train_loader=train_loader, valid_sets=[(transforms_data_loader, y_label)])\n",
    "metric_reslut"
   ],
   "metadata": {
    "collapsed": false,
    "pycharm": {
     "name": "#%%\n"
    }
   }
  },
  {
   "cell_type": "code",
   "execution_count": 8,
   "outputs": [],
   "source": [],
   "metadata": {
    "collapsed": false,
    "pycharm": {
     "name": "#%%\n"
    }
   }
  }
 ],
 "metadata": {
  "kernelspec": {
   "display_name": "Python 3",
   "language": "python",
   "name": "python3"
  },
  "language_info": {
   "codemirror_mode": {
    "name": "ipython",
    "version": 3
   },
   "file_extension": ".py",
   "mimetype": "text/x-python",
   "name": "python",
   "nbconvert_exporter": "python",
   "pygments_lexer": "ipython3",
   "version": "3.7.7"
  },
  "toc": {
   "base_numbering": 1,
   "nav_menu": {},
   "number_sections": true,
   "sideBar": true,
   "skip_h1_title": false,
   "title_cell": "Table of Contents",
   "title_sidebar": "Contents",
   "toc_cell": false,
   "toc_position": {},
   "toc_section_display": true,
   "toc_window_display": false
  }
 },
 "nbformat": 4,
 "nbformat_minor": 1
}