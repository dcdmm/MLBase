{
 "cells": [
  {
   "cell_type": "code",
   "execution_count": 46,
   "metadata": {
    "collapsed": true,
    "pycharm": {
     "name": "#%%\n"
    }
   },
   "outputs": [],
   "source": [
    "import torch\n",
    "import torch.optim as optim\n",
    "import matplotlib.pyplot as plt\n",
    "torch.manual_seed(1)\n",
    "\n",
    "LR = 1 # 学习率\n",
    "iteration = 10\n",
    "max_epoch = 200\n",
    "\n",
    "weights = torch.tensor(1, requires_grad=True, dtype=torch.float32)\n",
    "target = torch.zeros(1)\n",
    "\n",
    "optimizer = optim.SGD([weights], lr=LR, momentum=0.9)\n",
    "# Decays the learning rate of each parameter group by gamma every step_size epochs.\n",
    "scheduler_lr = optim.lr_scheduler.StepLR(optimizer, # 调节的是优化器lr参数\n",
    "                                         step_size=50, # step_size (int) – Period of learning rate decay.\n",
    "                                         gamma=0.1) # last_epoch (int) – The index of last epoch. Default: -1."
   ]
  },
  {
   "cell_type": "code",
   "execution_count": 47,
   "outputs": [
    {
     "data": {
      "text/plain": "<Figure size 432x288 with 1 Axes>",
      "image/png": "[encoded data removed]"
     },
     "metadata": {},
     "output_type": "display_data"
    }
   ],
   "source": [
    "lr_list, epoch_list = list(), list()\n",
    "for epoch in range(max_epoch):\n",
    "    lr_list.append(optimizer.param_groups[0]['lr'])\n",
    "    epoch_list.append(epoch)\n",
    "    for i in range(iteration):\n",
    "        loss = torch.pow((weights - target), 2)\n",
    "        optimizer.zero_grad()\n",
    "        loss.backward()\n",
    "        optimizer.step() # 位于内层循环\n",
    "\n",
    "    scheduler_lr.step() # 位于外层循环\n",
    "\n",
    "plt.plot(epoch_list, lr_list, label=\"Step LR Scheduler\", color='red')\n",
    "plt.xticks([0, 50, 100, 200], color='y', size=15)\n",
    "plt.xlabel(\"Epoch\")\n",
    "plt.ylabel(\"Learning rate\")\n",
    "plt.legend()\n",
    "plt.show()"
   ],
   "metadata": {
    "collapsed": false,
    "pycharm": {
     "name": "#%%\n"
    }
   }
  },
  {
   "cell_type": "code",
   "execution_count": 47,
   "outputs": [],
   "source": [],
   "metadata": {
    "collapsed": false,
    "pycharm": {
     "name": "#%%\n"
    }
   }
  }
 ],
 "metadata": {
  "kernelspec": {
   "display_name": "Python 3",
   "language": "python",
   "name": "python3"
  },
  "language_info": {
   "codemirror_mode": {
    "name": "ipython",
    "version": 2
   },
   "file_extension": ".py",
   "mimetype": "text/x-python",
   "name": "python",
   "nbconvert_exporter": "python",
   "pygments_lexer": "ipython2",
   "version": "2.7.6"
  }
 },
 "nbformat": 4,
 "nbformat_minor": 0
}