{
 "cells": [
  {
   "cell_type": "code",
   "execution_count": 5,
   "metadata": {
    "collapsed": true,
    "pycharm": {
     "name": "#%%\n"
    }
   },
   "outputs": [
    {
     "data": {
      "text/plain": "tensor([[1.1981, 1.0076, 1.2503, 1.5473, 1.5102],\n        [1.8051, 1.3807, 1.5526, 1.0052, 1.9572],\n        [1.1417, 1.5526, 1.2625, 1.9349, 1.3205]])"
     },
     "execution_count": 5,
     "metadata": {},
     "output_type": "execute_result"
    }
   ],
   "source": [
    "import torch\n",
    "import torch.nn as nn\n",
    "\n",
    "w = torch.empty(3, 5)\n",
    "'''\n",
    "a – the lower bound of the uniform distribution\n",
    "b – the upper bound of the uniform distribution\n",
    "'''\n",
    "# Fills the input Tensor with values drawn from the uniform distribution U(a,b)\n",
    "nn.init.uniform_(w, a=1, b=2) # 默认a=0.0, b=1.0"
   ]
  },
  {
   "cell_type": "code",
   "execution_count": 5,
   "outputs": [],
   "source": [],
   "metadata": {
    "collapsed": false,
    "pycharm": {
     "name": "#%%\n"
    }
   }
  }
 ],
 "metadata": {
  "kernelspec": {
   "display_name": "Python 3",
   "language": "python",
   "name": "python3"
  },
  "language_info": {
   "codemirror_mode": {
    "name": "ipython",
    "version": 2
   },
   "file_extension": ".py",
   "mimetype": "text/x-python",
   "name": "python",
   "nbconvert_exporter": "python",
   "pygments_lexer": "ipython2",
   "version": "2.7.6"
  }
 },
 "nbformat": 4,
 "nbformat_minor": 0
}