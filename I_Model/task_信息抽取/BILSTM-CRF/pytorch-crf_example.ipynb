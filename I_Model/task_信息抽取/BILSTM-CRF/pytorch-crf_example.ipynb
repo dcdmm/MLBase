{
 "cells": [
  {
   "cell_type": "code",
   "execution_count": 178,
   "metadata": {
    "collapsed": true
   },
   "outputs": [],
   "source": [
    "import torch\n",
    "from torchcrf import CRF"
   ]
  },
  {
   "cell_type": "code",
   "execution_count": 179,
   "metadata": {
    "collapsed": false,
    "pycharm": {
     "name": "#%%\n"
    }
   },
   "outputs": [],
   "source": [
    "num_tags = 5  # number of tags is 5\n",
    "model = CRF(\n",
    "    # Number of tags.\n",
    "    num_tags=num_tags,\n",
    "    # Whether the first dimension corresponds to the size of a minibatch.\n",
    "    batch_first=False)"
   ]
  },
  {
   "cell_type": "code",
   "execution_count": 180,
   "metadata": {
    "collapsed": false,
    "pycharm": {
     "name": "#%%\n"
    }
   },
   "outputs": [
    {
     "data": {
      "text/plain": [
       "tensor(-11.8692, grad_fn=<SumBackward0>)"
      ]
     },
     "execution_count": 180,
     "metadata": {},
     "output_type": "execute_result"
    }
   ],
   "source": [
    "seq_length = 3  # maximum sequence length in a batch\n",
    "batch_size = 2  # number of samples in the batch\n",
    "emissions = torch.randn(seq_length, batch_size, num_tags)\n",
    "tags = torch.tensor([[0, 1],\n",
    "                     [2, 4],\n",
    "                     [3, 1]], dtype=torch.long)\n",
    "\n",
    "# Compute the conditional log likelihood of a sequence of tags given emission scores.\n",
    "# Note that the returned value is the log likelihood so you’ll need to make this value negative as your loss.\n",
    "model(\n",
    "    # emissions.shape:(seq_length, batch_size, num_tags)`` if ``batch_first`` is ``False``,\n",
    "    emissions=emissions,\n",
    "    # tags.shape:(seq_length, batch_size)`` if ``batch_first`` is ``False``,\n",
    "    tags=tags)"
   ]
  },
  {
   "cell_type": "code",
   "execution_count": 181,
   "metadata": {
    "collapsed": false,
    "pycharm": {
     "name": "#%%\n"
    }
   },
   "outputs": [
    {
     "data": {
      "text/plain": [
       "tensor(-10.0886, grad_fn=<SumBackward0>)"
      ]
     },
     "execution_count": 181,
     "metadata": {},
     "output_type": "execute_result"
    }
   ],
   "source": [
    "mask = torch.tensor([[1, 1],\n",
    "                     [1, 1],\n",
    "                     [1, 0]], dtype=torch.uint8)\n",
    "model(emissions, tags,\n",
    "      # mask (`~torch.ByteTensor`): Mask tensor of size ``(seq_length, batch_size)``\n",
    "      #         if ``batch_first`` is ``False``, ``(batch_size, seq_length)`` otherwise.\n",
    "      mask=mask)"
   ]
  },
  {
   "cell_type": "code",
   "execution_count": 182,
   "metadata": {
    "collapsed": false,
    "pycharm": {
     "name": "#%%\n"
    }
   },
   "outputs": [
    {
     "data": {
      "text/plain": [
       "[[4, 3, 3], [4, 2, 2]]"
      ]
     },
     "execution_count": 182,
     "metadata": {},
     "output_type": "execute_result"
    }
   ],
   "source": [
    "# Find the most likely tag sequence using Viterbi algorithm.\n",
    "# return:List of list containing the best tag sequence for each batch.\n",
    "model.decode(emissions=emissions)"
   ]
  },
  {
   "cell_type": "code",
   "execution_count": 183,
   "metadata": {
    "collapsed": false,
    "pycharm": {
     "name": "#%%"
    }
   },
   "outputs": [
    {
     "data": {
      "text/plain": [
       "[[4, 3, 3], [4, 2]]"
      ]
     },
     "execution_count": 183,
     "metadata": {},
     "output_type": "execute_result"
    }
   ],
   "source": [
    "model.decode(emissions=emissions, mask=mask)\n",
    "\n"
   ]
  }
 ],
 "metadata": {
  "kernelspec": {
   "display_name": "Python 3.8.12 ('pytorch_env')",
   "language": "python",
   "name": "python3"
  },
  "language_info": {
   "codemirror_mode": {
    "name": "ipython",
    "version": 2
   },
   "file_extension": ".py",
   "mimetype": "text/x-python",
   "name": "python",
   "nbconvert_exporter": "python",
   "pygments_lexer": "ipython2",
   "version": "3.8.12"
  },
  "vscode": {
   "interpreter": {
    "hash": "0886a02735466d80c36da7d0d184a8055779d3e497a063b4720b0317b8699033"
   }
  }
 },
 "nbformat": 4,
 "nbformat_minor": 0
}
