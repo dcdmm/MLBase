{
 "cells": [
  {
   "cell_type": "code",
   "execution_count": 11,
   "metadata": {
    "collapsed": true
   },
   "outputs": [],
   "source": [
    "from transformers import BertTokenizer, RoFormerModel"
   ]
  },
  {
   "cell_type": "code",
   "execution_count": 12,
   "outputs": [
    {
     "name": "stdout",
     "output_type": "stream",
     "text": [
      "['input_ids', 'token_type_ids', 'attention_mask']\n",
      "['[UNK]', '[SEP]', '[PAD]', '[CLS]', '[MASK]']\n"
     ]
    }
   ],
   "source": [
    "'''\n",
    "原理见:\n",
    "https://kexue.fm/archives/8265\n",
    "https://kexue.fm/archives/8998\n",
    "\n",
    "主要预训练模型:\n",
    "'junnyu/roformer_v2_chinese_char_small'\n",
    "'junnyu/roformer_v2_chinese_char_base'\n",
    "'junnyu/roformer_v2_chinese_char_large'\n",
    "'''\n",
    "tokenizer = BertTokenizer.from_pretrained('junnyu/roformer_v2_chinese_char_small')\n",
    "print(tokenizer.model_input_names)\n",
    "print(tokenizer.all_special_tokens)"
   ],
   "metadata": {
    "collapsed": false,
    "pycharm": {
     "name": "#%%\n"
    }
   }
  },
  {
   "cell_type": "code",
   "execution_count": 13,
   "outputs": [
    {
     "name": "stderr",
     "output_type": "stream",
     "text": [
      "Some weights of the model checkpoint at junnyu/roformer_v2_chinese_char_small were not used when initializing RoFormerModel: ['cls.predictions.decoder.weight']\n",
      "- This IS expected if you are initializing RoFormerModel from the checkpoint of a model trained on another task or with another architecture (e.g. initializing a BertForSequenceClassification model from a BertForPreTraining model).\n",
      "- This IS NOT expected if you are initializing RoFormerModel from the checkpoint of a model that you expect to be exactly identical (initializing a BertForSequenceClassification model from a BertForSequenceClassification model).\n",
      "Some weights of RoFormerModel were not initialized from the model checkpoint at junnyu/roformer_v2_chinese_char_small and are newly initialized: ['roformer.encoder.layer.1.output.LayerNorm.weight', 'roformer.encoder.layer.4.attention.output.LayerNorm.weight', 'roformer.encoder.layer.1.attention.self.query.bias', 'roformer.encoder.layer.0.attention.self.query.bias', 'roformer.encoder.layer.0.output.dense.bias', 'roformer.encoder.layer.4.attention.output.dense.bias', 'roformer.encoder.layer.1.attention.output.LayerNorm.weight', 'roformer.encoder.layer.5.attention.self.query.bias', 'roformer.encoder.layer.5.output.LayerNorm.weight', 'roformer.encoder.layer.2.output.LayerNorm.weight', 'roformer.encoder.layer.2.attention.self.key.bias', 'roformer.encoder.layer.1.attention.self.value.bias', 'roformer.encoder.layer.4.output.LayerNorm.bias', 'roformer.encoder.layer.3.attention.output.LayerNorm.bias', 'roformer.encoder.layer.3.attention.self.value.bias', 'roformer.embeddings.LayerNorm.weight', 'roformer.encoder.layer.1.attention.output.LayerNorm.bias', 'roformer.encoder.layer.5.attention.output.LayerNorm.weight', 'roformer.encoder.layer.0.attention.output.LayerNorm.bias', 'roformer.encoder.layer.5.intermediate.dense.bias', 'roformer.encoder.layer.1.attention.output.dense.bias', 'roformer.encoder.layer.3.attention.self.query.bias', 'roformer.encoder.layer.3.intermediate.dense.bias', 'roformer.encoder.layer.5.attention.output.LayerNorm.bias', 'roformer.encoder.layer.3.output.LayerNorm.bias', 'roformer.encoder.layer.5.output.LayerNorm.bias', 'roformer.encoder.layer.2.output.LayerNorm.bias', 'roformer.encoder.layer.3.attention.output.dense.bias', 'roformer.encoder.layer.2.attention.self.value.bias', 'roformer.encoder.embed_positions.weight', 'roformer.encoder.layer.2.intermediate.dense.bias', 'roformer.encoder.layer.0.attention.self.value.bias', 'roformer.encoder.layer.1.output.LayerNorm.bias', 'roformer.encoder.layer.3.output.dense.bias', 'roformer.encoder.layer.4.attention.self.key.bias', 'roformer.encoder.layer.0.attention.output.LayerNorm.weight', 'roformer.embeddings.LayerNorm.bias', 'roformer.encoder.layer.0.output.LayerNorm.weight', 'roformer.encoder.layer.3.output.LayerNorm.weight', 'roformer.encoder.layer.1.attention.self.key.bias', 'roformer.encoder.layer.3.attention.self.key.bias', 'roformer.encoder.layer.0.attention.self.key.bias', 'roformer.encoder.layer.2.attention.output.dense.bias', 'roformer.encoder.layer.4.output.LayerNorm.weight', 'roformer.encoder.layer.1.intermediate.dense.bias', 'roformer.encoder.layer.5.output.dense.bias', 'roformer.encoder.layer.4.attention.output.LayerNorm.bias', 'roformer.encoder.layer.2.output.dense.bias', 'roformer.encoder.layer.5.attention.output.dense.bias', 'roformer.encoder.layer.4.output.dense.bias', 'roformer.encoder.layer.5.attention.self.value.bias', 'roformer.encoder.layer.0.intermediate.dense.bias', 'roformer.encoder.layer.3.attention.output.LayerNorm.weight', 'roformer.encoder.layer.2.attention.output.LayerNorm.weight', 'roformer.encoder.layer.4.attention.self.value.bias', 'roformer.encoder.layer.1.output.dense.bias', 'roformer.encoder.layer.5.attention.self.key.bias', 'roformer.encoder.layer.4.intermediate.dense.bias', 'roformer.encoder.layer.2.attention.output.LayerNorm.bias', 'roformer.encoder.layer.0.output.LayerNorm.bias', 'roformer.encoder.layer.2.attention.self.query.bias', 'roformer.encoder.layer.4.attention.self.query.bias', 'roformer.encoder.layer.0.attention.output.dense.bias']\n",
      "You should probably TRAIN this model on a down-stream task to be able to use it for predictions and inference.\n"
     ]
    },
    {
     "data": {
      "text/plain": "RoFormerModel(\n  (embeddings): RoFormerEmbeddings(\n    (word_embeddings): Embedding(12000, 384, padding_idx=0)\n    (token_type_embeddings): Embedding(2, 384)\n    (LayerNorm): LayerNorm((384,), eps=1e-12, elementwise_affine=True)\n    (dropout): Dropout(p=0.1, inplace=False)\n  )\n  (encoder): RoFormerEncoder(\n    (embed_positions): RoFormerSinusoidalPositionalEmbedding(512, 64)\n    (layer): ModuleList(\n      (0): RoFormerLayer(\n        (attention): RoFormerAttention(\n          (self): RoFormerSelfAttention(\n            (query): Linear(in_features=384, out_features=384, bias=True)\n            (key): Linear(in_features=384, out_features=384, bias=True)\n            (value): Linear(in_features=384, out_features=384, bias=True)\n            (dropout): Dropout(p=0.1, inplace=False)\n          )\n          (output): RoFormerSelfOutput(\n            (dense): Linear(in_features=384, out_features=384, bias=True)\n            (LayerNorm): LayerNorm((384,), eps=1e-12, elementwise_affine=True)\n            (dropout): Dropout(p=0.1, inplace=False)\n          )\n        )\n        (intermediate): RoFormerIntermediate(\n          (dense): Linear(in_features=384, out_features=1536, bias=True)\n          (intermediate_act_fn): ReLU()\n        )\n        (output): RoFormerOutput(\n          (dense): Linear(in_features=1536, out_features=384, bias=True)\n          (LayerNorm): LayerNorm((384,), eps=1e-12, elementwise_affine=True)\n          (dropout): Dropout(p=0.1, inplace=False)\n        )\n      )\n      (1): RoFormerLayer(\n        (attention): RoFormerAttention(\n          (self): RoFormerSelfAttention(\n            (query): Linear(in_features=384, out_features=384, bias=True)\n            (key): Linear(in_features=384, out_features=384, bias=True)\n            (value): Linear(in_features=384, out_features=384, bias=True)\n            (dropout): Dropout(p=0.1, inplace=False)\n          )\n          (output): RoFormerSelfOutput(\n            (dense): Linear(in_features=384, out_features=384, bias=True)\n            (LayerNorm): LayerNorm((384,), eps=1e-12, elementwise_affine=True)\n            (dropout): Dropout(p=0.1, inplace=False)\n          )\n        )\n        (intermediate): RoFormerIntermediate(\n          (dense): Linear(in_features=384, out_features=1536, bias=True)\n          (intermediate_act_fn): ReLU()\n        )\n        (output): RoFormerOutput(\n          (dense): Linear(in_features=1536, out_features=384, bias=True)\n          (LayerNorm): LayerNorm((384,), eps=1e-12, elementwise_affine=True)\n          (dropout): Dropout(p=0.1, inplace=False)\n        )\n      )\n      (2): RoFormerLayer(\n        (attention): RoFormerAttention(\n          (self): RoFormerSelfAttention(\n            (query): Linear(in_features=384, out_features=384, bias=True)\n            (key): Linear(in_features=384, out_features=384, bias=True)\n            (value): Linear(in_features=384, out_features=384, bias=True)\n            (dropout): Dropout(p=0.1, inplace=False)\n          )\n          (output): RoFormerSelfOutput(\n            (dense): Linear(in_features=384, out_features=384, bias=True)\n            (LayerNorm): LayerNorm((384,), eps=1e-12, elementwise_affine=True)\n            (dropout): Dropout(p=0.1, inplace=False)\n          )\n        )\n        (intermediate): RoFormerIntermediate(\n          (dense): Linear(in_features=384, out_features=1536, bias=True)\n          (intermediate_act_fn): ReLU()\n        )\n        (output): RoFormerOutput(\n          (dense): Linear(in_features=1536, out_features=384, bias=True)\n          (LayerNorm): LayerNorm((384,), eps=1e-12, elementwise_affine=True)\n          (dropout): Dropout(p=0.1, inplace=False)\n        )\n      )\n      (3): RoFormerLayer(\n        (attention): RoFormerAttention(\n          (self): RoFormerSelfAttention(\n            (query): Linear(in_features=384, out_features=384, bias=True)\n            (key): Linear(in_features=384, out_features=384, bias=True)\n            (value): Linear(in_features=384, out_features=384, bias=True)\n            (dropout): Dropout(p=0.1, inplace=False)\n          )\n          (output): RoFormerSelfOutput(\n            (dense): Linear(in_features=384, out_features=384, bias=True)\n            (LayerNorm): LayerNorm((384,), eps=1e-12, elementwise_affine=True)\n            (dropout): Dropout(p=0.1, inplace=False)\n          )\n        )\n        (intermediate): RoFormerIntermediate(\n          (dense): Linear(in_features=384, out_features=1536, bias=True)\n          (intermediate_act_fn): ReLU()\n        )\n        (output): RoFormerOutput(\n          (dense): Linear(in_features=1536, out_features=384, bias=True)\n          (LayerNorm): LayerNorm((384,), eps=1e-12, elementwise_affine=True)\n          (dropout): Dropout(p=0.1, inplace=False)\n        )\n      )\n      (4): RoFormerLayer(\n        (attention): RoFormerAttention(\n          (self): RoFormerSelfAttention(\n            (query): Linear(in_features=384, out_features=384, bias=True)\n            (key): Linear(in_features=384, out_features=384, bias=True)\n            (value): Linear(in_features=384, out_features=384, bias=True)\n            (dropout): Dropout(p=0.1, inplace=False)\n          )\n          (output): RoFormerSelfOutput(\n            (dense): Linear(in_features=384, out_features=384, bias=True)\n            (LayerNorm): LayerNorm((384,), eps=1e-12, elementwise_affine=True)\n            (dropout): Dropout(p=0.1, inplace=False)\n          )\n        )\n        (intermediate): RoFormerIntermediate(\n          (dense): Linear(in_features=384, out_features=1536, bias=True)\n          (intermediate_act_fn): ReLU()\n        )\n        (output): RoFormerOutput(\n          (dense): Linear(in_features=1536, out_features=384, bias=True)\n          (LayerNorm): LayerNorm((384,), eps=1e-12, elementwise_affine=True)\n          (dropout): Dropout(p=0.1, inplace=False)\n        )\n      )\n      (5): RoFormerLayer(\n        (attention): RoFormerAttention(\n          (self): RoFormerSelfAttention(\n            (query): Linear(in_features=384, out_features=384, bias=True)\n            (key): Linear(in_features=384, out_features=384, bias=True)\n            (value): Linear(in_features=384, out_features=384, bias=True)\n            (dropout): Dropout(p=0.1, inplace=False)\n          )\n          (output): RoFormerSelfOutput(\n            (dense): Linear(in_features=384, out_features=384, bias=True)\n            (LayerNorm): LayerNorm((384,), eps=1e-12, elementwise_affine=True)\n            (dropout): Dropout(p=0.1, inplace=False)\n          )\n        )\n        (intermediate): RoFormerIntermediate(\n          (dense): Linear(in_features=384, out_features=1536, bias=True)\n          (intermediate_act_fn): ReLU()\n        )\n        (output): RoFormerOutput(\n          (dense): Linear(in_features=1536, out_features=384, bias=True)\n          (LayerNorm): LayerNorm((384,), eps=1e-12, elementwise_affine=True)\n          (dropout): Dropout(p=0.1, inplace=False)\n        )\n      )\n    )\n  )\n)"
     },
     "execution_count": 13,
     "metadata": {},
     "output_type": "execute_result"
    }
   ],
   "source": [
    "model = RoFormerModel.from_pretrained(\"junnyu/roformer_v2_chinese_char_small\")\n",
    "model"
   ],
   "metadata": {
    "collapsed": false,
    "pycharm": {
     "name": "#%%\n"
    }
   }
  },
  {
   "cell_type": "code",
   "execution_count": 14,
   "outputs": [
    {
     "data": {
      "text/plain": "RoFormerConfig {\n  \"_name_or_path\": \"junnyu/roformer_v2_chinese_char_small\",\n  \"architectures\": [\n    \"RoFormerForMaskedLM\"\n  ],\n  \"attention_probs_dropout_prob\": 0.1,\n  \"embedding_size\": 384,\n  \"hidden_act\": \"relu\",\n  \"hidden_dropout_prob\": 0.1,\n  \"hidden_size\": 384,\n  \"initializer_range\": 0.02,\n  \"intermediate_size\": 1536,\n  \"layer_norm_eps\": 1e-12,\n  \"max_position_embeddings\": 512,\n  \"model_type\": \"roformer\",\n  \"norm_type\": \"rms_norm\",\n  \"num_attention_heads\": 6,\n  \"num_hidden_layers\": 6,\n  \"pad_token_id\": 0,\n  \"rotary_value\": false,\n  \"transformers_version\": \"4.23.1\",\n  \"type_vocab_size\": 2,\n  \"use_bias\": false,\n  \"use_cache\": true,\n  \"vocab_size\": 12000\n}"
     },
     "execution_count": 14,
     "metadata": {},
     "output_type": "execute_result"
    }
   ],
   "source": [
    "model.config"
   ],
   "metadata": {
    "collapsed": false,
    "pycharm": {
     "name": "#%%\n"
    }
   }
  },
  {
   "cell_type": "code",
   "execution_count": 15,
   "outputs": [
    {
     "name": "stdout",
     "output_type": "stream",
     "text": [
      "embeddings.word_embeddings.weight\n",
      "embeddings.token_type_embeddings.weight\n",
      "embeddings.LayerNorm.weight\n",
      "embeddings.LayerNorm.bias\n",
      "encoder.embed_positions.weight\n",
      "encoder.layer.0.attention.self.query.weight\n",
      "encoder.layer.0.attention.self.query.bias\n",
      "encoder.layer.0.attention.self.key.weight\n",
      "encoder.layer.0.attention.self.key.bias\n",
      "encoder.layer.0.attention.self.value.weight\n",
      "encoder.layer.0.attention.self.value.bias\n",
      "encoder.layer.0.attention.output.dense.weight\n",
      "encoder.layer.0.attention.output.dense.bias\n",
      "encoder.layer.0.attention.output.LayerNorm.weight\n",
      "encoder.layer.0.attention.output.LayerNorm.bias\n",
      "encoder.layer.0.intermediate.dense.weight\n",
      "encoder.layer.0.intermediate.dense.bias\n",
      "encoder.layer.0.output.dense.weight\n",
      "encoder.layer.0.output.dense.bias\n",
      "encoder.layer.0.output.LayerNorm.weight\n",
      "encoder.layer.0.output.LayerNorm.bias\n",
      "encoder.layer.1.attention.self.query.weight\n",
      "encoder.layer.1.attention.self.query.bias\n",
      "encoder.layer.1.attention.self.key.weight\n",
      "encoder.layer.1.attention.self.key.bias\n",
      "encoder.layer.1.attention.self.value.weight\n",
      "encoder.layer.1.attention.self.value.bias\n",
      "encoder.layer.1.attention.output.dense.weight\n",
      "encoder.layer.1.attention.output.dense.bias\n",
      "encoder.layer.1.attention.output.LayerNorm.weight\n",
      "encoder.layer.1.attention.output.LayerNorm.bias\n",
      "encoder.layer.1.intermediate.dense.weight\n",
      "encoder.layer.1.intermediate.dense.bias\n",
      "encoder.layer.1.output.dense.weight\n",
      "encoder.layer.1.output.dense.bias\n",
      "encoder.layer.1.output.LayerNorm.weight\n",
      "encoder.layer.1.output.LayerNorm.bias\n",
      "encoder.layer.2.attention.self.query.weight\n",
      "encoder.layer.2.attention.self.query.bias\n",
      "encoder.layer.2.attention.self.key.weight\n",
      "encoder.layer.2.attention.self.key.bias\n",
      "encoder.layer.2.attention.self.value.weight\n",
      "encoder.layer.2.attention.self.value.bias\n",
      "encoder.layer.2.attention.output.dense.weight\n",
      "encoder.layer.2.attention.output.dense.bias\n",
      "encoder.layer.2.attention.output.LayerNorm.weight\n",
      "encoder.layer.2.attention.output.LayerNorm.bias\n",
      "encoder.layer.2.intermediate.dense.weight\n",
      "encoder.layer.2.intermediate.dense.bias\n",
      "encoder.layer.2.output.dense.weight\n",
      "encoder.layer.2.output.dense.bias\n",
      "encoder.layer.2.output.LayerNorm.weight\n",
      "encoder.layer.2.output.LayerNorm.bias\n",
      "encoder.layer.3.attention.self.query.weight\n",
      "encoder.layer.3.attention.self.query.bias\n",
      "encoder.layer.3.attention.self.key.weight\n",
      "encoder.layer.3.attention.self.key.bias\n",
      "encoder.layer.3.attention.self.value.weight\n",
      "encoder.layer.3.attention.self.value.bias\n",
      "encoder.layer.3.attention.output.dense.weight\n",
      "encoder.layer.3.attention.output.dense.bias\n",
      "encoder.layer.3.attention.output.LayerNorm.weight\n",
      "encoder.layer.3.attention.output.LayerNorm.bias\n",
      "encoder.layer.3.intermediate.dense.weight\n",
      "encoder.layer.3.intermediate.dense.bias\n",
      "encoder.layer.3.output.dense.weight\n",
      "encoder.layer.3.output.dense.bias\n",
      "encoder.layer.3.output.LayerNorm.weight\n",
      "encoder.layer.3.output.LayerNorm.bias\n",
      "encoder.layer.4.attention.self.query.weight\n",
      "encoder.layer.4.attention.self.query.bias\n",
      "encoder.layer.4.attention.self.key.weight\n",
      "encoder.layer.4.attention.self.key.bias\n",
      "encoder.layer.4.attention.self.value.weight\n",
      "encoder.layer.4.attention.self.value.bias\n",
      "encoder.layer.4.attention.output.dense.weight\n",
      "encoder.layer.4.attention.output.dense.bias\n",
      "encoder.layer.4.attention.output.LayerNorm.weight\n",
      "encoder.layer.4.attention.output.LayerNorm.bias\n",
      "encoder.layer.4.intermediate.dense.weight\n",
      "encoder.layer.4.intermediate.dense.bias\n",
      "encoder.layer.4.output.dense.weight\n",
      "encoder.layer.4.output.dense.bias\n",
      "encoder.layer.4.output.LayerNorm.weight\n",
      "encoder.layer.4.output.LayerNorm.bias\n",
      "encoder.layer.5.attention.self.query.weight\n",
      "encoder.layer.5.attention.self.query.bias\n",
      "encoder.layer.5.attention.self.key.weight\n",
      "encoder.layer.5.attention.self.key.bias\n",
      "encoder.layer.5.attention.self.value.weight\n",
      "encoder.layer.5.attention.self.value.bias\n",
      "encoder.layer.5.attention.output.dense.weight\n",
      "encoder.layer.5.attention.output.dense.bias\n",
      "encoder.layer.5.attention.output.LayerNorm.weight\n",
      "encoder.layer.5.attention.output.LayerNorm.bias\n",
      "encoder.layer.5.intermediate.dense.weight\n",
      "encoder.layer.5.intermediate.dense.bias\n",
      "encoder.layer.5.output.dense.weight\n",
      "encoder.layer.5.output.dense.bias\n",
      "encoder.layer.5.output.LayerNorm.weight\n",
      "encoder.layer.5.output.LayerNorm.bias\n"
     ]
    }
   ],
   "source": [
    "for name, para in model.named_parameters():\n",
    "    print(name)"
   ],
   "metadata": {
    "collapsed": false,
    "pycharm": {
     "name": "#%%\n"
    }
   }
  },
  {
   "cell_type": "code",
   "execution_count": 29,
   "outputs": [
    {
     "name": "stdout",
     "output_type": "stream",
     "text": [
      "{'input_ids': tensor([[  101,  9494, 10563, 10571,  1699,   427,   225,  4334,  2707,  2534,\n",
      "          7673,   773,  2472,  4044,  1419,  7674,  1278,   590,  2901,   919,\n",
      "          1756,   583,  6649,   462,  1657,  7675,  2037,  2901,   919,  2755,\n",
      "          7128,   607,  3222,  6683,  5093,   994,   198,   367,  2707,  2534,\n",
      "           179,  2186,  5155,  6049,   243,  7675,  1699,   427,  1278,  2707,\n",
      "          2534,  1278,  7675,   387,  2798,  6512,  5001,   590,  2901,  7724,\n",
      "          1466,  1699,   427,  1756,  5967,  6737,  2688,   179,   102]]), 'token_type_ids': tensor([[0, 0, 0, 0, 0, 0, 0, 0, 0, 0, 0, 0, 0, 0, 0, 0, 0, 0, 0, 0, 0, 0, 0, 0,\n",
      "         0, 0, 0, 0, 0, 0, 0, 0, 0, 0, 0, 0, 0, 0, 0, 0, 0, 0, 0, 0, 0, 0, 0, 0,\n",
      "         0, 0, 0, 0, 0, 0, 0, 0, 0, 0, 0, 0, 0, 0, 0, 0, 0, 0, 0, 0, 0]]), 'attention_mask': tensor([[1, 1, 1, 1, 1, 1, 1, 1, 1, 1, 1, 1, 1, 1, 1, 1, 1, 1, 1, 1, 1, 1, 1, 1,\n",
      "         1, 1, 1, 1, 1, 1, 1, 1, 1, 1, 1, 1, 1, 1, 1, 1, 1, 1, 1, 1, 1, 1, 1, 1,\n",
      "         1, 1, 1, 1, 1, 1, 1, 1, 1, 1, 1, 1, 1, 1, 1, 1, 1, 1, 1, 1, 1]])}\n",
      "dict_keys(['input_ids', 'token_type_ids', 'attention_mask'])\n",
      "torch.Size([1, 69])\n"
     ]
    }
   ],
   "source": [
    "text = \"\"\"AutoDL实例中的数据（包括环境）在关机后将全部保存，开机后无需再次配置和上传数据。总而言之，实例在数据在，但是连续关机30天实例将被释放。\"\"\"\n",
    "encoded_input = tokenizer(text, return_tensors='pt')\n",
    "print(encoded_input)\n",
    "print(encoded_input.keys())\n",
    "print(encoded_input['input_ids'].shape)  # [1, 69]"
   ],
   "metadata": {
    "collapsed": false,
    "pycharm": {
     "name": "#%%\n"
    }
   }
  },
  {
   "cell_type": "code",
   "execution_count": 30,
   "outputs": [
    {
     "name": "stdout",
     "output_type": "stream",
     "text": [
      "tensor([[[-2.1526, -0.5380, -0.5418,  ...,  1.0257, -1.5146, -0.4388],\n",
      "         [-0.9108, -0.6231, -0.7525,  ...,  1.0263, -0.3300, -1.0863],\n",
      "         [-0.8841, -0.5801, -0.3208,  ...,  1.4168, -1.3302, -0.6107],\n",
      "         ...,\n",
      "         [-1.8805, -1.2947, -0.7321,  ...,  1.2879, -0.9772, -0.1929],\n",
      "         [-2.0151,  0.5109, -0.8442,  ...,  1.1183, -1.8522, -0.2474],\n",
      "         [-1.7361,  0.1589, -0.9670,  ...,  1.3679, -1.6180, -0.1712]]],\n",
      "       grad_fn=<NativeLayerNormBackward0>)\n",
      "torch.Size([1, 69, 384])\n"
     ]
    }
   ],
   "source": [
    "result = model(**encoded_input)\n",
    "print(result.last_hidden_state)\n",
    "print(result.last_hidden_state.shape)  # [1, 69, 384](限制input_ids最大长度为512)"
   ],
   "metadata": {
    "collapsed": false,
    "pycharm": {
     "name": "#%%\n"
    }
   }
  },
  {
   "cell_type": "code",
   "execution_count": null,
   "outputs": [],
   "source": [],
   "metadata": {
    "collapsed": false,
    "pycharm": {
     "name": "#%%\n"
    }
   }
  }
 ],
 "metadata": {
  "kernelspec": {
   "display_name": "Python 3",
   "language": "python",
   "name": "python3"
  },
  "language_info": {
   "codemirror_mode": {
    "name": "ipython",
    "version": 2
   },
   "file_extension": ".py",
   "mimetype": "text/x-python",
   "name": "python",
   "nbconvert_exporter": "python",
   "pygments_lexer": "ipython2",
   "version": "2.7.6"
  }
 },
 "nbformat": 4,
 "nbformat_minor": 0
}