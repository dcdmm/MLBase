{
 "cells": [
  {
   "cell_type": "code",
   "execution_count": 45,
   "outputs": [
    {
     "data": {
      "text/plain": "<Figure size 432x288 with 1 Axes>",
      "image/png": "[encoded data removed]"
     },
     "metadata": {
      "needs_background": "light"
     },
     "output_type": "display_data"
    }
   ],
   "source": [
    "import numpy as np\n",
    "import matplotlib.pyplot as plt\n",
    "\n",
    "fig = plt.figure()\n",
    "ax = plt.subplot(111)\n",
    "\n",
    "data = [[66386, 174296, 75131, 577908, 32015],\n",
    "        [58230, 381139, 78045, 99308, 160454],\n",
    "        [89135, 80552, 152558, 497981, 603535],\n",
    "        [78415, 81858, 150656, 193263, 69638],\n",
    "        [139361, 331509, 343164, 781380, 52269]]\n",
    "\n",
    "columns = ('Freeze', 'Wind', 'Flood', 'Quake', 'Hail')  # 表列名\n",
    "rows = ['%d year' % x for x in (100, 50, 20, 10, 5)]  # 表行名\n",
    "\n",
    "bar_width = 0.4\n",
    "n_rows = len(data)\n",
    "index = np.arange(len(columns)) + 0.3\n",
    "colors = plt.cm.Set1(np.linspace(0, 1, len(rows)))  # Set1的区间为[0,1],取将区间分为5等分处点的颜色\n",
    "y_offset = np.zeros(len(columns))  # Initialize the vertical-offset for the stacked bar chart.\n",
    "for row in range(n_rows):\n",
    "    ax.bar(index, data[row], bar_width, bottom=y_offset, color=colors[row])\n",
    "    y_offset = y_offset + data[row]\n",
    "\n",
    "colors_1 = plt.cm.tab20c(np.linspace(0, 1, 25))  # array\n",
    "colors_list = list()\n",
    "for each in range(5):\n",
    "    colors_list.append(colors_1[each * 5:(each + 1) * 5])\n",
    "'''\n",
    "loc:表格位置(bottom,top,right,left)\n",
    "\n",
    "cellText:表格数据\n",
    "cellColours:表格每个cell的颜色\n",
    "cellLoc:表格数据对齐方式(right,left,center)\n",
    "\n",
    "rowLabels:行标签\n",
    "rowColours:行标签每个cell的颜色\n",
    "rowLoc:行标签数据对齐方式(right,left,center)\n",
    "\n",
    "colLabels:列标签\n",
    "colColours:列标签每个cell的颜色\n",
    "colLoc:列标签数据对齐方式(right,left,center)\n",
    "'''\n",
    "the_table = ax.table(cellText=data,\n",
    "                     loc='bottom',\n",
    "                     cellLoc='center',\n",
    "                     cellColours=colors_list,\n",
    "                     rowLabels=rows,\n",
    "                     rowColours=['g', 'g', 'y', 'b', 'r'],\n",
    "                     rowLoc='left',\n",
    "                     colLabels=columns,\n",
    "                     colColours=['y', 'y', 'y', 'y', 'y'],\n",
    "                     colLoc='left')\n",
    "\n",
    "# the_table.set_fontsize(15)  # 所有表格字体大小设置(包括index,columns)\n",
    "\n",
    "all_cell = the_table.get_celld()\n",
    "for i in all_cell.keys():\n",
    "    all_cell[i].set_text_props(fontfamily='Times New Roman',\n",
    "                               color='red',\n",
    "                               fontsize=10)  # 每个小cell字体大小设置(包括index,columns)\n",
    "\n",
    "plt.show()"
   ],
   "metadata": {
    "collapsed": false,
    "pycharm": {
     "name": "#%%\n"
    }
   }
  },
  {
   "cell_type": "code",
   "execution_count": 45,
   "outputs": [],
   "source": [],
   "metadata": {
    "collapsed": false,
    "pycharm": {
     "name": "#%%\n"
    }
   }
  }
 ],
 "metadata": {
  "kernelspec": {
   "name": "python3",
   "language": "python",
   "display_name": "Python 3"
  },
  "language_info": {
   "codemirror_mode": {
    "name": "ipython",
    "version": 3
   },
   "file_extension": ".py",
   "mimetype": "text/x-python",
   "name": "python",
   "nbconvert_exporter": "python",
   "pygments_lexer": "ipython3",
   "version": "3.7.7"
  },
  "stem_cell": {
   "cell_type": "raw",
   "metadata": {
    "pycharm": {
     "metadata": false
    }
   },
   "source": ""
  },
  "toc": {
   "base_numbering": 1,
   "nav_menu": {},
   "number_sections": true,
   "sideBar": true,
   "skip_h1_title": false,
   "title_cell": "Table of Contents",
   "title_sidebar": "Contents",
   "toc_cell": false,
   "toc_position": {},
   "toc_section_display": true,
   "toc_window_display": false
  }
 },
 "nbformat": 4,
 "nbformat_minor": 1
}