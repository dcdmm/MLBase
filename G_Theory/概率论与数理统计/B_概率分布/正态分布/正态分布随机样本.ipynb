{
 "cells": [
  {
   "cell_type": "markdown",
   "metadata": {
    "pycharm": {
     "metadata": false
    }
   },
   "source": [
    "## 正态分布随机样本\n",
    "1. scipy.stats.norm.rvs"
   ]
  },
  {
   "cell_type": "code",
   "execution_count": 6,
   "metadata": {
    "pycharm": {
     "is_executing": false,
     "metadata": false,
     "name": "#%%\n"
    }
   },
   "outputs": [
    {
     "name": "stdout",
     "text": [
      "0.3706419327538397\n",
      "\n",
      "[ 0.37216752 -1.46778569  0.21034856  0.84724339 -0.73827637  0.89465833\n",
      " -0.47067535 -0.04744359 -1.0958593  -0.6145399 ]\n",
      "\n",
      "10.007308075974807\n",
      "\n"
     ],
     "output_type": "stream"
    }
   ],
   "source": [
    "from scipy.stats import norm\n",
    "\n",
    "# draw a single sample\n",
    "print(norm.rvs(), end=\"\\n\\n\")\n",
    "#rvs(loc=0, scale=1, size=1, random_state=None)\tRandom variates.\n",
    "\n",
    "# draw 10 samples\n",
    "print(norm.rvs(size=10), end=\"\\n\\n\")\n",
    "\n",
    "# adjust mean ('loc') and standard deviation ('scale')\n",
    "print(norm.rvs(loc=10, scale=0.1), end=\"\\n\\n\")"
   ]
  },
  {
   "cell_type": "code",
   "execution_count": 7,
   "metadata": {
    "pycharm": {
     "is_executing": false,
     "metadata": false,
     "name": "#%%\n"
    }
   },
   "outputs": [
    {
     "data": {
      "text/plain": "'\\nParameters:\\nloc(均值) : array_like, optional\\n    Location parameter (default=0).\\n\\nscale(方差) : array_like, optional\\n    Scale parameter (default=1).\\n\\nsize(要抽取的数量) : int or tuple of ints, optional\\n    Defining number of random variates (default is 1).\\n\\nrandom_state : None or int or ``np.random.RandomState`` instance, optional\\n    If int or RandomState, use it for drawing the random variates.\\n    If None, rely on ``self.random_state``.\\n    Default is None.\\n'"
     },
     "metadata": {},
     "output_type": "execute_result",
     "execution_count": 7
    }
   ],
   "source": [
    "'''\n",
    "Parameters:\n",
    "loc(均值) : array_like, optional\n",
    "    Location parameter (default=0).\n",
    "\n",
    "scale(方差) : array_like, optional\n",
    "    Scale parameter (default=1).\n",
    "\n",
    "size(要抽取的数量) : int or tuple of ints, optional\n",
    "    Defining number of random variates (default is 1).\n",
    "\n",
    "random_state : None or int or ``np.random.RandomState`` instance, optional\n",
    "    If int or RandomState, use it for drawing the random variates.\n",
    "    If None, rely on ``self.random_state``.\n",
    "    Default is None.\n",
    "'''"
   ]
  },
  {
   "cell_type": "markdown",
   "metadata": {
    "pycharm": {
     "metadata": false,
     "name": "#%% md\n"
    }
   },
   "source": [
    "2. numpy.random.randn\n",
    "对于正态随机样本$N(\\mu,\\sigma^2)$,使用$\\sigma*np.random.rand(...)+\\mu$"
   ]
  },
  {
   "cell_type": "code",
   "execution_count": 8,
   "metadata": {
    "pycharm": {
     "is_executing": false,
     "metadata": false,
     "name": "#%%\n"
    }
   },
   "outputs": [
    {
     "data": {
      "text/plain": "<matplotlib.collections.PathCollection at 0x1a7fe96c788>"
     },
     "metadata": {},
     "output_type": "execute_result",
     "execution_count": 8
    },
    {
     "data": {
      "text/plain": "<Figure size 432x288 with 1 Axes>",
      "image/png": "[encoded data removed]"
     },
     "metadata": {
      "needs_background": "light"
     },
     "output_type": "display_data"
    }
   ],
   "source": [
    "import  numpy as np\n",
    "import  matplotlib.pyplot as plt\n",
    "data1 = np.random.randn(500)\n",
    "# Return a sample (or samples) from the “standard normal” distribution.\n",
    "data2 = np.random.randn(500)\n",
    "plt.scatter(data1, data2)"
   ]
  },
  {
   "cell_type": "code",
   "execution_count": 17,
   "metadata": {
    "pycharm": {
     "is_executing": false,
     "metadata": false,
     "name": "#%%\n"
    }
   },
   "outputs": [
    {
     "data": {
      "text/plain": "array([-2.03540495e+00,  1.16981718e+00,  6.69054173e+00, -3.75555661e+00,\n        2.15126753e+00,  1.12216793e+00,  3.40020801e+00,  2.27126844e+00,\n        1.85605887e+00,  1.30144673e+00,  8.34127209e-01, -1.79909981e+00,\n       -4.47539340e+00, -4.02368048e+00, -5.95241934e-01, -1.35873428e+00,\n        3.74046630e+00, -5.85830466e+00, -2.60640517e+00,  7.14630458e+00,\n        5.53523729e-01,  8.83560505e+00,  4.37187382e+00,  6.52127851e-01,\n       -5.45257477e+00,  4.92375597e-01, -1.32089300e+00, -2.02202038e+00,\n       -1.10927825e+00,  1.32071000e+00, -2.57595555e+00,  2.21882903e+00,\n        2.81937229e+00,  4.13084950e+00,  3.84635295e+00, -2.08813003e+00,\n        2.96835773e+00,  4.77230953e+00, -3.57724047e-01,  4.51006820e+00,\n       -5.05029682e-01,  5.23816611e-01,  1.04901520e+00, -1.12045755e+00,\n        2.21550971e+00, -5.16765506e+00,  6.88612213e+00,  8.86498069e-01,\n        3.28552064e+00,  2.30327970e+00,  5.10968075e+00,  1.84514013e+00,\n        5.15977553e+00,  2.71048471e+00,  2.06594038e+00, -2.79439109e+00,\n       -3.08071454e+00, -3.30908272e+00,  4.07407349e+00,  5.41805218e+00,\n       -3.99581962e+00, -1.02983290e+01,  3.38829758e+00,  7.08930811e-01,\n        1.76590854e+00,  6.67281374e+00,  7.79906855e+00, -1.76082928e+00,\n        1.09196951e+01,  2.68183713e+00,  4.63012691e+00,  3.47929833e+00,\n        2.04897349e+00, -8.25304455e+00, -9.70225440e-01,  1.03499777e+00,\n       -5.35658928e+00,  4.54968854e+00, -1.41841420e+00, -1.79366706e+00,\n       -3.90321803e-01,  2.56386051e+00,  2.77105406e+00,  8.20885183e+00,\n        1.06242055e+01, -2.84931412e+00, -6.28441054e-01, -1.33990934e+00,\n       -2.52149689e+00, -1.93354907e+00, -4.25013579e-01, -8.97467904e+00,\n        1.77743789e+00, -6.19397471e+00, -3.59373477e+00, -9.57614342e-01,\n       -2.08747440e+00,  9.61067910e-01,  3.65720324e+00,  9.62341085e-01,\n        2.74135554e+00, -3.36494775e+00,  1.78015029e+00, -3.02267368e+00,\n       -2.18534817e-01,  5.61348309e+00,  7.99530086e-01, -2.83932843e+00,\n        5.27176630e+00, -8.06908783e+00, -9.87495318e+00, -3.43119670e+00,\n        2.80799557e+00,  3.01309788e+00, -2.44052101e-01,  9.26150478e-01,\n        8.07002650e+00,  7.26227561e+00, -3.94486669e+00,  7.85788987e-02,\n        3.39231335e+00,  1.29560528e-01,  5.34305044e-01,  1.66279157e+00,\n        1.19366823e+00,  1.75098887e+00,  1.98409673e+00,  3.57215193e+00,\n        2.81681860e+00,  2.86375038e+00, -5.64247848e+00,  1.92012270e+00,\n       -1.90230581e+00,  1.72619136e+00, -4.57367383e+00, -3.48253247e-01,\n       -1.35876212e+00, -6.51701732e+00, -1.18104573e+00,  6.33100872e-01,\n       -1.33543302e+00,  8.14106059e-01, -2.03334274e+00, -3.10153560e+00,\n       -2.62935047e-01, -2.40009813e+00,  4.94117350e-01,  4.24360308e+00,\n        3.38160471e+00, -1.39215410e+00, -1.26641179e-01,  2.22236919e+00,\n        5.86553658e+00,  4.74393473e+00,  1.34571757e+00, -5.25029852e+00,\n       -2.42230725e+00,  2.62555846e+00,  2.66621662e+00,  6.03367510e+00,\n        1.47622383e+00,  3.03517266e+00,  2.66563598e+00,  5.02276450e+00,\n        5.76071580e+00,  1.45245253e+00, -3.28589465e+00, -5.05187825e+00,\n       -1.99703125e+00,  1.68540237e+00, -8.25341370e+00, -6.26990768e-01,\n        7.02563350e-01, -2.99495090e-01,  2.81018807e-01,  7.81727961e-01,\n        1.90797549e+00, -1.66355438e+00,  2.05038038e+00, -1.89892648e+00,\n        4.65968559e+00,  7.43961429e-01,  6.14621572e+00,  8.68022598e+00,\n       -5.75676182e-01,  3.31273583e+00, -1.81456858e+00, -4.62312710e+00,\n       -2.12377716e-01,  2.39720240e-01, -4.22838891e+00, -5.37077194e+00,\n        9.00213257e-01,  2.08042897e+00,  1.69986938e-01, -4.40605645e+00,\n        3.00017379e-02, -1.95700683e+00,  6.03034705e+00,  1.48304042e-01,\n        6.62268111e+00,  2.52122186e-01,  3.97088423e+00, -3.71171209e+00,\n        3.60802847e+00,  1.94653672e-04, -4.74006217e-01, -3.55994481e+00,\n       -4.20306875e-02, -3.16335649e+00, -1.68863901e+00,  6.70618177e+00,\n        5.79594942e-01,  8.60704624e-01,  1.83180662e+00,  2.22223735e+00,\n        4.55747453e+00, -4.07974797e+00, -8.05494463e+00,  6.88880804e-01,\n        9.00356246e-01,  2.42615942e+00, -1.21656167e+00,  2.80298125e+00,\n        5.29595093e+00,  6.16826153e+00,  6.72180143e+00,  3.69476431e+00,\n        2.06361451e+00, -4.78634091e+00,  7.67186351e+00, -3.54304792e+00,\n        2.70152850e+00,  2.50278178e-01, -7.25430828e-01,  1.68088777e-01,\n       -5.15371690e+00, -4.90191899e-01,  7.41021232e+00, -3.14054240e-01,\n       -5.43072046e+00, -4.92021520e+00, -2.54916132e+00, -2.08434435e+00,\n       -1.13951467e+00,  5.87656558e+00,  5.81189769e+00,  1.51454047e+00,\n        1.03024966e+00,  3.85212312e+00, -3.25022296e+00, -1.36826246e+00,\n       -1.60731351e+00, -1.33569446e+00,  1.44548021e+00,  2.31250904e+00,\n        2.09085959e+00,  5.15588962e+00,  3.66465917e-01,  3.32048384e+00,\n        6.05621661e+00, -5.55153124e+00,  2.94758808e+00, -8.04875502e+00,\n       -4.14508001e+00, -2.87287759e+00,  2.68823653e+00, -1.36273689e+00,\n       -2.64729565e+00, -2.43984849e+00, -3.09626084e+00,  1.11079415e+01,\n        6.70948520e+00, -2.89295312e+00,  1.24712645e+00,  3.83621602e+00,\n        7.31015560e-01,  3.49647481e+00,  5.13991047e+00,  1.60651765e-01,\n       -2.27300888e-01, -1.44799340e+00,  3.20424039e+00,  4.65412404e-02,\n        8.92868694e-02, -5.99855610e+00, -3.75562688e-01,  9.66130568e-01,\n        3.75339776e+00,  5.67494428e-01,  2.27524691e+00,  1.43850059e+00,\n       -1.70729780e+00,  1.13413293e+00, -1.67113664e-01, -1.39298771e+00,\n        2.05341215e+00,  2.97682029e+00,  6.07582916e-01,  5.01458630e+00,\n        3.93148424e-01,  8.86763805e+00,  1.77407097e+00, -3.48072605e+00,\n       -2.71950009e-02, -5.15002846e+00, -4.22079793e+00,  8.48507088e-01,\n        3.63224883e+00, -3.44544692e+00,  4.19287139e-02, -1.46578916e-01,\n        7.56759288e-01, -3.24843988e-01,  2.04569883e+00,  3.69565881e+00,\n       -2.42587233e+00, -4.72694419e-01,  2.15550266e+00,  4.17632952e+00,\n        6.41549964e+00, -5.30484225e+00,  1.06691554e+01, -4.36232751e+00,\n        6.29920997e+00, -4.41299134e+00,  1.34296760e+00,  2.48105724e+00,\n       -8.56029865e+00,  6.11443632e+00, -4.30343719e+00,  8.02646748e-01,\n        5.19087379e+00, -5.51195109e+00,  3.11978178e-01,  1.48175662e+00,\n        2.76660860e+00, -3.59836390e+00, -3.68578066e+00, -1.62081821e+00,\n        2.44559129e+00, -5.14002173e-01,  5.68466926e+00,  6.04312082e+00,\n        8.81840754e+00, -6.93709547e-01, -3.79049430e+00, -7.56938305e+00,\n       -2.36067677e+00,  4.47911524e+00,  6.37454849e+00, -6.90403719e-01,\n       -1.31947943e-01,  1.30491516e+00,  1.80207442e-01,  3.72901589e+00,\n        4.23734883e+00,  6.79268574e+00, -1.62843774e+00,  4.63820348e+00,\n        4.22608570e+00,  2.74938390e+00,  7.07417243e+00, -3.58256179e-01,\n        2.48675094e+00,  9.38096041e+00,  1.23740269e+00,  2.78405290e+00,\n        7.51618343e+00,  6.97939201e+00, -3.83137620e+00,  6.06430339e+00,\n        4.75595479e+00,  6.22645121e+00,  7.41282239e-01,  1.78083436e+00,\n        2.91724664e+00,  5.47022925e+00, -2.86268968e+00, -1.52158628e-01,\n        7.88676553e-02,  4.96950877e+00,  5.19370151e+00,  7.08788296e-01,\n        3.04503559e+00, -2.07218687e+00, -1.21964666e-01,  1.70624183e+00,\n        4.89560047e+00,  1.84340564e+00, -4.36572992e+00, -2.63897200e+00,\n        1.64114901e+00,  1.14739921e+00,  2.96942998e-01,  5.88917737e+00,\n        6.73697398e+00, -2.64315993e+00, -1.35303563e+00, -1.81568861e+00])"
     },
     "metadata": {},
     "output_type": "execute_result",
     "execution_count": 17
    }
   ],
   "source": [
    "dis0 = 4 * np.random.randn(4, 5) + 1 # 标准差为4,均值为1的(4*5)正态分布随机抽样矩阵\n",
    "'''\n",
    "d0, d1, …, dn : int, optional\n",
    "    The dimensions of the returned array, should be all positive. If no argument is given\n",
    "    a single Python float is returned.\n",
    "'''\n",
    "dis0"
   ]
  },
  {
   "cell_type": "markdown",
   "metadata": {
    "pycharm": {
     "metadata": false,
     "name": "#%% md\n"
    }
   },
   "source": [
    "3. numpy.random.normal"
   ]
  },
  {
   "cell_type": "code",
   "execution_count": 18,
   "outputs": [
    {
     "data": {
      "text/plain": "array([-2.10457842e+00,  6.46643604e+00,  5.16908893e+00,  7.33895477e-02,\n        4.04882265e+00, -2.01448178e-01,  6.78605743e+00,  3.39848757e-01,\n       -5.84715684e+00,  6.20313017e+00,  3.06795154e+00,  6.32571118e+00,\n       -1.51398890e+00,  3.08642091e+00,  2.48264336e+00,  4.81712851e+00,\n        1.82455719e+00,  5.46909630e+00,  3.42058957e+00, -1.41238709e+00,\n        1.74341229e+00, -2.37733227e+00,  6.43902241e+00,  9.79439207e+00,\n       -6.15195568e+00, -2.72802999e+00, -4.44955444e+00,  1.15621193e+00,\n       -1.64795490e+00,  7.11908122e+00, -6.06906196e+00,  5.57249830e-02,\n        8.61815550e-01, -6.40595718e+00,  4.89389490e+00,  4.78743185e+00,\n        4.82162870e+00,  6.38439164e+00,  1.15353003e+01, -4.46704872e+00,\n        3.28302047e+00,  6.60044728e-01,  3.47614408e+00,  5.47237748e+00,\n        5.91433629e+00,  7.18741794e+00, -1.24272269e+00, -3.89244974e-01,\n        4.65466021e+00,  4.92807107e+00, -1.50331885e-01,  7.65273136e+00,\n        7.95239689e-02,  1.54380945e-01, -1.45552729e+00,  5.93370371e+00,\n       -2.45145826e+00,  3.83148824e+00,  1.29447812e+00,  1.39531592e+01,\n        2.00092848e+00, -1.98162804e+00, -1.97483861e-01, -7.50461077e+00,\n        2.26679154e+00,  3.39631376e+00,  4.55007259e+00, -9.93547997e-01,\n        1.70906405e+00, -6.12912739e-01,  2.64615939e+00, -4.05210685e+00,\n       -4.36394302e+00, -6.09485919e-01,  7.25726939e+00, -3.39836977e+00,\n        3.18944949e+00,  8.65715815e-01,  4.94116402e+00, -1.95461587e+00,\n        2.80460033e+00,  5.31859709e+00,  5.95678503e+00, -2.11924380e+00,\n       -1.23932406e+00,  8.45000314e+00, -8.31713481e-01,  2.61863260e+00,\n       -1.62868465e+00,  3.76101533e-01, -3.70231048e+00,  2.74628232e-01,\n        4.06788031e+00, -4.25004849e+00, -3.20806551e+00,  8.16972494e+00,\n        2.61237269e+00,  1.83169819e+00, -1.42110823e+00,  3.71280284e+00,\n       -2.36244269e+00,  4.28086514e+00, -1.45797018e+00, -9.24073795e+00,\n        2.18264675e+00, -1.15737204e+00, -1.41423794e+00,  2.16230648e+00,\n        4.67583166e+00, -6.46186462e-01, -6.44648217e+00, -2.33418603e+00,\n       -2.77428906e+00,  7.44179269e-01, -9.82752293e+00,  6.37464500e+00,\n        1.16921654e+00,  4.97580075e+00,  2.12641268e+00, -1.28166265e+00,\n        2.35573113e+00,  7.58088236e-01, -1.93142440e+00, -3.63448839e+00,\n        1.58005769e+00,  6.08041362e+00, -4.17491662e-01, -2.82967824e+00,\n       -1.13284434e+00,  1.02155351e+00,  9.71453788e-02, -3.50188723e+00,\n        8.13976822e-01,  2.69784925e+00,  4.86360535e+00, -2.27610236e+00,\n        4.38585370e+00,  2.26476078e+00,  3.92942719e+00, -2.41963883e-01,\n       -4.94374427e+00,  8.43883965e+00, -9.14669413e+00,  4.42365110e+00,\n       -7.04419266e+00,  1.84440930e+00,  7.07501000e+00,  2.05913015e+00,\n       -5.83782690e-01,  6.40965432e+00, -3.46236539e+00,  9.03186263e-01,\n       -1.39913449e+00,  1.32759284e+00,  1.56520976e+00, -4.54285709e-01,\n        4.43185131e+00, -1.99081219e+00,  1.73733199e+00,  5.95118966e+00,\n       -2.39995379e+00,  2.60359227e+00, -1.92277470e-01, -1.02086883e-01,\n        8.49888590e+00, -3.30717346e-01,  6.90444753e+00,  1.56091082e+00,\n        8.64466167e+00, -1.63214663e+00, -1.80652690e+00,  8.16549367e+00,\n        9.55632637e-01,  2.23917517e+00,  4.74352641e+00,  6.21466261e+00,\n        5.05745547e+00, -8.30860427e+00, -5.24799303e+00,  5.79683781e+00,\n       -1.18609007e+00,  4.91935791e+00, -2.71670784e-01,  8.56578742e+00,\n        3.77452990e+00,  2.66094694e+00,  7.82199286e+00, -3.76745219e+00,\n        1.79317792e+00, -4.80936189e+00, -3.93925528e-01, -3.19198054e+00,\n        1.78533914e-01,  1.37621428e+00,  2.97273789e+00,  6.64277422e+00,\n        1.47822001e+00,  1.24537025e+00, -4.05073810e+00,  2.36030177e+00,\n        5.90592245e+00, -2.99248986e+00,  7.50217668e+00, -7.20464904e+00,\n       -9.32897992e-01, -1.38916909e+00,  3.78260675e+00,  9.11297392e-01,\n        3.24703076e+00,  4.33266966e+00,  3.08336935e+00, -7.13783974e+00,\n       -1.87725371e-01,  4.61086091e+00, -2.42132822e+00, -2.43030754e+00,\n        1.74356738e+00, -6.18803135e+00,  5.69098846e+00, -1.00142630e+00,\n        5.83263803e-01, -2.52730053e+00,  3.09995565e+00,  2.01555249e+00,\n        2.93916142e+00,  2.10535749e+00,  7.07952839e+00,  9.73999098e-01,\n       -1.02647876e+00, -1.95684988e+00,  5.94221328e-01,  7.25019418e+00,\n       -1.40089621e+00,  1.47059350e+00, -9.80296421e-01,  1.46739580e+00,\n        5.24629166e+00, -4.07710219e-01, -1.98026693e+00, -3.32384371e+00,\n        3.38600939e+00, -8.35502152e-01,  5.62927347e+00,  1.21295558e+00,\n        3.61739139e+00, -1.94921824e+00,  1.80720984e+00, -2.49743434e-01,\n       -3.12243297e+00, -1.11910795e+00,  3.89074407e+00,  4.05191694e+00,\n        6.24562600e+00,  2.83628396e+00,  3.08268712e-01, -3.82032455e+00,\n       -1.96795379e-02, -1.74357746e+00,  1.38765153e+00,  7.08341095e+00,\n       -1.40042906e+00, -6.31008804e+00, -3.04220146e+00,  2.33903377e+00,\n        8.07985181e-01,  4.30460722e+00,  7.86152446e+00,  1.32018521e+00,\n       -9.48916602e+00, -5.36095942e-01,  2.87608937e+00,  7.40253223e-01,\n       -3.91159481e+00,  9.53791819e+00, -5.90478938e+00,  7.61508467e+00,\n       -8.13189263e+00,  3.37152090e+00, -2.13370664e+00, -3.22279624e-01,\n       -6.29928349e-01,  6.91866575e-01, -4.32651354e+00,  6.96980884e+00,\n        1.32175583e+00,  3.78523655e+00,  5.89711946e-01, -5.03476003e+00,\n       -1.23427380e+00,  9.26869795e+00,  6.38319272e+00, -1.01563887e+00,\n        1.28296583e+00,  8.24068706e+00,  6.95930272e-01,  8.49118595e+00,\n        5.11530254e-01, -1.78784830e+00,  6.51014260e+00, -7.63815538e+00,\n        5.99995505e-02,  4.88781532e+00,  6.13631073e-02,  3.06023372e+00,\n       -1.90239493e+00, -3.40547169e+00, -2.84559094e+00, -7.13525527e+00,\n        1.69945994e+00,  3.77633157e+00, -9.28248755e+00, -2.15250109e+00,\n        2.50016131e+00,  1.44361911e+00,  2.23588440e+00,  1.13560155e+00,\n        1.87951235e+00, -1.72803775e+00, -2.84532171e+00,  4.91320610e+00,\n        6.40969859e+00,  3.98299809e+00, -2.07852155e+00, -3.84051512e-02,\n       -5.23861434e+00,  3.58182946e+00,  2.08495247e+00,  7.11328822e+00,\n        5.00135433e+00,  1.42578174e+00,  9.46146609e+00, -6.71928304e-01,\n       -1.54683788e+00,  2.31109766e-01, -3.39393484e+00, -2.64375751e+00,\n        6.22652431e+00, -2.66529496e+00, -3.04040463e+00,  5.81214248e+00,\n       -2.52992077e-01,  1.76413531e+00, -9.17580242e-03,  3.83384446e+00,\n       -6.14551138e+00,  3.37047519e+00,  3.94174850e+00,  5.11432974e+00,\n        4.48211835e+00,  3.48070498e+00, -3.05298633e+00, -4.49695265e+00,\n       -5.65629341e-01, -2.27568618e+00,  4.17599245e+00,  6.21483597e+00,\n       -1.15016442e+00,  3.15664575e+00,  3.20933996e+00, -7.88561099e-01,\n       -3.01012070e+00,  1.17282668e+00,  1.52952054e+00, -7.22197451e+00,\n       -9.81226903e-01,  2.61622038e+00, -4.79934910e+00, -1.19027764e+00,\n        1.65133188e+00, -5.29272298e-01,  1.50100825e+00,  3.76840416e+00,\n       -2.36855385e+00, -8.49607596e+00,  7.50700515e+00,  2.24365307e+00,\n       -3.22643903e+00,  1.69454352e+00,  4.96608088e+00,  1.18382590e+00,\n        6.41987459e+00, -3.62820740e+00,  7.54458380e-01, -1.78888408e+00,\n        3.60044421e+00, -5.51672385e+00,  3.28269442e+00, -4.60719102e+00,\n       -4.91065304e+00,  3.78430252e+00,  1.24554652e-01,  2.96893826e+00,\n       -2.57149815e+00, -6.26528027e-01, -5.52245665e-01,  1.01951490e+00,\n        3.19068652e+00, -2.48213477e+00, -1.86861346e+00,  7.05559782e+00])"
     },
     "metadata": {},
     "output_type": "execute_result",
     "execution_count": 18
    }
   ],
   "source": [
    "dis1 = np.random.normal(1, 4, size=(4, 5)) # 标准差为4,均值为1的(4*5)正态分布随机抽样数组\n",
    "dis1"
   ],
   "metadata": {
    "collapsed": false,
    "pycharm": {
     "name": "#%%\n",
     "is_executing": false
    }
   }
  }
 ],
 "metadata": {
  "kernelspec": {
   "display_name": "Python 3",
   "language": "python",
   "name": "python3"
  },
  "language_info": {
   "codemirror_mode": {
    "name": "ipython",
    "version": 3
   },
   "file_extension": ".py",
   "mimetype": "text/x-python",
   "name": "python",
   "nbconvert_exporter": "python",
   "pygments_lexer": "ipython3",
   "version": "3.7.3"
  },
  "stem_cell": {
   "cell_type": "raw",
   "metadata": {
    "pycharm": {
     "metadata": false
    }
   },
   "source": ""
  },
  "pycharm": {
   "stem_cell": {
    "cell_type": "raw",
    "source": [],
    "metadata": {
     "collapsed": false
    }
   }
  }
 },
 "nbformat": 4,
 "nbformat_minor": 1
}