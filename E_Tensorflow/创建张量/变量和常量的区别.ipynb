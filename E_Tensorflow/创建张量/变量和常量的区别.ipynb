{
 "cells": [
  {
   "cell_type": "code",
   "execution_count": 322,
   "metadata": {
    "collapsed": true
   },
   "outputs": [],
   "source": [
    "import tensorflow as tf"
   ]
  },
  {
   "cell_type": "code",
   "execution_count": 323,
   "outputs": [
    {
     "name": "stdout",
     "output_type": "stream",
     "text": [
      "tf.Tensor([1. 2.], shape=(2,), dtype=float32)\n",
      "2616653218560\n",
      "tf.Tensor([2. 3.], shape=(2,), dtype=float32)\n",
      "2616653121840\n"
     ]
    }
   ],
   "source": [
    "# 常量的值不能被修改\n",
    "c = tf.constant([1.0, 2.0])\n",
    "print(c)\n",
    "print(id(c))\n",
    "\n",
    "# 常量没有assign/assign_add/assign_sub等方法\n",
    "# c[0].assign(100)\n",
    "\n",
    "c += tf.constant([1.0, 1.0])\n",
    "print(c)\n",
    "print(id(c))  # c指向新的内存地址"
   ],
   "metadata": {
    "collapsed": false,
    "pycharm": {
     "name": "#%%\n"
    }
   }
  },
  {
   "cell_type": "code",
   "execution_count": 324,
   "outputs": [
    {
     "name": "stdout",
     "output_type": "stream",
     "text": [
      "2616653890800\n",
      "[[ 0  1  2  3  4]\n",
      " [ 5  6  7  8  9]\n",
      " [10 11 12 13 14]]\n"
     ]
    }
   ],
   "source": [
    "# 变量的值可以被修改\n",
    "v = tf.Variable(tf.reshape(tf.range(15), (3, 5)))\n",
    "\n",
    "print(id(v))\n",
    "print(v.numpy())"
   ],
   "metadata": {
    "collapsed": false,
    "pycharm": {
     "name": "#%%\n"
    }
   }
  },
  {
   "cell_type": "code",
   "execution_count": 325,
   "outputs": [
    {
     "name": "stdout",
     "output_type": "stream",
     "text": [
      "2616653890800\n",
      "[[ 0  1  2  3  4]\n",
      " [ 5  6  7  8  9]\n",
      " [10 11 12 13 14]]\n"
     ]
    }
   ],
   "source": [
    "v.assign_add(tf.ones_like(v))\n",
    "v.assign_sub(tf.ones_like(v))\n",
    "\n",
    "print(id(v))  # v指向的地址不变\n",
    "print(v.numpy())"
   ],
   "metadata": {
    "collapsed": false,
    "pycharm": {
     "name": "#%%\n"
    }
   }
  },
  {
   "cell_type": "code",
   "execution_count": 326,
   "outputs": [
    {
     "name": "stdout",
     "output_type": "stream",
     "text": [
      "2616653890800\n",
      "[[100   1   2 -11 -22]\n",
      " [  5   6   7 -33 -44]\n",
      " [ 10  11  12  13  14]]\n"
     ]
    }
   ],
   "source": [
    "# 仅支持通过基本索引的方式修改变量的值\n",
    "v[0:2, 3:].assign(tf.constant([[-11, -22],\n",
    "                               [-33, -44]]))\n",
    "v[0, 0].assign(100)\n",
    "\n",
    "print(id(v))  # v指向的地址不变\n",
    "print(v.numpy())"
   ],
   "metadata": {
    "collapsed": false,
    "pycharm": {
     "name": "#%%\n"
    }
   }
  },
  {
   "cell_type": "code",
   "execution_count": 327,
   "outputs": [
    {
     "name": "stdout",
     "output_type": "stream",
     "text": [
      "2616653890800\n",
      "[[0 0 0 0 0]\n",
      " [0 0 0 0 0]\n",
      " [0 0 0 0 0]]\n"
     ]
    }
   ],
   "source": [
    "v.assign(tf.zeros_like(v))\n",
    "\n",
    "print(id(v))  # v指向的地址不变\n",
    "print(v.numpy())"
   ],
   "metadata": {
    "collapsed": false,
    "pycharm": {
     "name": "#%%\n"
    }
   }
  },
  {
   "cell_type": "code",
   "execution_count": 328,
   "outputs": [
    {
     "name": "stdout",
     "output_type": "stream",
     "text": [
      "2616653194336\n",
      "[[-999 -999 -999 -999 -999]\n",
      " [-999 -999 -999 -999 -999]\n",
      " [-999 -999 -999 -999 -999]]\n"
     ]
    }
   ],
   "source": [
    "v = v + tf.fill((3, 5), -999)\n",
    "print(id(v))  # 指向新的内存地址\n",
    "print(v.numpy())"
   ],
   "metadata": {
    "collapsed": false,
    "pycharm": {
     "name": "#%%\n"
    }
   }
  }
 ],
 "metadata": {
  "kernelspec": {
   "display_name": "Python 3",
   "language": "python",
   "name": "python3"
  },
  "language_info": {
   "codemirror_mode": {
    "name": "ipython",
    "version": 2
   },
   "file_extension": ".py",
   "mimetype": "text/x-python",
   "name": "python",
   "nbconvert_exporter": "python",
   "pygments_lexer": "ipython2",
   "version": "2.7.6"
  }
 },
 "nbformat": 4,
 "nbformat_minor": 0
}