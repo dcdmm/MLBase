{
 "cells": [
  {
   "cell_type": "markdown",
   "metadata": {
    "collapsed": true,
    "pycharm": {
     "name": "#%% md\n"
    }
   },
   "source": [
    "* input:$(N, C_{in}, L_{in})$\n",
    "\n",
    "* output:$(N, C_{out}, L_{out})$\n",
    "\n",
    "$$ L_{out} = \\left \\lfloor \\frac{L_{in} + 2 \\times padding[0] - dilation[0] \\times(kernel\\_size[0]-1)-1}{stride[0]} +1  \\right \\rfloor \\\\ $$"
   ]
  },
  {
   "cell_type": "code",
   "execution_count": 1,
   "outputs": [],
   "source": [
    "import torch\n",
    "import torch.nn.functional as F\n",
    "import torch.nn as nn"
   ],
   "metadata": {
    "collapsed": false,
    "pycharm": {
     "name": "#%%\n"
    }
   }
  },
  {
   "cell_type": "code",
   "execution_count": 2,
   "outputs": [],
   "source": [
    "enter = torch.randn(33, 16, 30)"
   ],
   "metadata": {
    "collapsed": false,
    "pycharm": {
     "name": "#%%\n"
    }
   }
  },
  {
   "cell_type": "code",
   "execution_count": 3,
   "outputs": [
    {
     "data": {
      "text/plain": "torch.Size([33, 20, 26])"
     },
     "execution_count": 3,
     "metadata": {},
     "output_type": "execute_result"
    }
   ],
   "source": [
    "filters = torch.randn(20, 16, 5)\n",
    "\n",
    "'''\n",
    "input – input tensor of shape (minibatch, in_channels, iW)\n",
    "weight – filters of shape (out_channels, in_channels/groups, kW)\n",
    "bias – optional bias of shape (out_channels). Default: None\n",
    "stride – the stride of the convolving kernel. Can be a single number or a one-element tuple (sW,). Default: 1\n",
    "'''\n",
    "F.conv1d(input=enter, weight=filters, stride=1, bias=None).shape"
   ],
   "metadata": {
    "collapsed": false,
    "pycharm": {
     "name": "#%%\n"
    }
   }
  },
  {
   "cell_type": "code",
   "execution_count": 4,
   "outputs": [
    {
     "data": {
      "text/plain": "torch.Size([33, 43, 28])"
     },
     "execution_count": 4,
     "metadata": {},
     "output_type": "execute_result"
    }
   ],
   "source": [
    "# padding (int, tuple or str, optional) – Padding added to both sides of the input. Default: 0\n",
    "m = nn.Conv1d(in_channels=16,\n",
    "              out_channels=43,  # out_channels (int): Number of channels produced by the convolution\n",
    "              kernel_size=3, # 1D卷积中,kernel_size只能是单个整数(或单个整数的元组)\n",
    "              stride=1,  # 1D卷积中,stride只能是单个整数(或单个整数的元组)\n",
    "              # Default: 0 padding='valid' is the same as no padding.\n",
    "              # padding='same' pads the input so the output has the shape as the input. However, this mode doesn’t support any stride values other than 1.\n",
    "              padding='valid')  # 1D卷积中,padding可选值有\"valid\",\"same\",★★★★★单个整数(或整数元组)\n",
    "output = m(enter)\n",
    "output.shape"
   ],
   "metadata": {
    "collapsed": false,
    "pycharm": {
     "name": "#%%\n"
    }
   }
  },
  {
   "cell_type": "code",
   "execution_count": 5,
   "outputs": [
    {
     "data": {
      "text/plain": "Parameter containing:\ntensor([[[-0.1117, -0.0710, -0.0881],\n         [-0.0865, -0.0800, -0.0223],\n         [ 0.1130,  0.0706,  0.1166],\n         ...,\n         [-0.0479,  0.1249,  0.1357],\n         [ 0.0238, -0.1211,  0.0762],\n         [ 0.0175, -0.0952,  0.0193]],\n\n        [[ 0.1196,  0.0260, -0.1051],\n         [-0.0266, -0.0892, -0.1063],\n         [ 0.1404, -0.0555,  0.0690],\n         ...,\n         [-0.1055, -0.0370,  0.0827],\n         [-0.1367, -0.0204,  0.0607],\n         [ 0.0367, -0.0167, -0.0625]],\n\n        [[-0.0666,  0.1189,  0.0610],\n         [ 0.0816, -0.0044, -0.1366],\n         [ 0.0863,  0.0677, -0.0990],\n         ...,\n         [-0.0120,  0.0270, -0.0099],\n         [-0.0075,  0.0724, -0.1392],\n         [ 0.0484, -0.0397,  0.0973]],\n\n        ...,\n\n        [[ 0.0703,  0.0483, -0.0835],\n         [-0.0152, -0.0134,  0.1391],\n         [-0.1037, -0.0719,  0.0079],\n         ...,\n         [ 0.0020, -0.0612,  0.1362],\n         [-0.0431, -0.1043, -0.0412],\n         [ 0.0257,  0.0325,  0.1163]],\n\n        [[-0.0763,  0.0165, -0.1231],\n         [ 0.0970, -0.1431, -0.1439],\n         [ 0.0077,  0.0081, -0.0292],\n         ...,\n         [-0.0647,  0.0666,  0.0949],\n         [-0.0564, -0.0621,  0.0861],\n         [-0.0367,  0.0495, -0.0048]],\n\n        [[ 0.1313,  0.1044,  0.0328],\n         [ 0.0703, -0.1386,  0.0832],\n         [ 0.0722,  0.1310, -0.0143],\n         ...,\n         [ 0.0137, -0.0080, -0.0748],\n         [ 0.1046,  0.0342,  0.1322],\n         [-0.0977, -0.0912, -0.0978]]], requires_grad=True)"
     },
     "execution_count": 5,
     "metadata": {},
     "output_type": "execute_result"
    }
   ],
   "source": [
    "m.weight  # 内部默认进行了kaiming_uniform_初始化"
   ],
   "metadata": {
    "collapsed": false,
    "pycharm": {
     "name": "#%%\n"
    }
   }
  }
 ],
 "metadata": {
  "kernelspec": {
   "display_name": "Python 3",
   "language": "python",
   "name": "python3"
  },
  "language_info": {
   "codemirror_mode": {
    "name": "ipython",
    "version": 2
   },
   "file_extension": ".py",
   "mimetype": "text/x-python",
   "name": "python",
   "nbconvert_exporter": "python",
   "pygments_lexer": "ipython2",
   "version": "2.7.6"
  }
 },
 "nbformat": 4,
 "nbformat_minor": 0
}