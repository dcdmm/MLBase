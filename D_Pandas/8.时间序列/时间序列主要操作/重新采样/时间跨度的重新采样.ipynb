{
 "cells": [
  {
   "cell_type": "code",
   "execution_count": null,
   "outputs": [],
   "source": [
    "import numpy as np\n",
    "import  pandas as pd"
   ],
   "metadata": {
    "collapsed": false,
    "pycharm": {
     "name": "#%%\n"
    }
   }
  },
  {
   "cell_type": "code",
   "execution_count": 186,
   "metadata": {
    "pycharm": {
     "is_executing": false
    }
   },
   "outputs": [
    {
     "data": {
      "text/plain": "         Colorado     Texas  New York      Ohio\n2000-01 -0.855046  3.226601  3.763385 -0.698061\n2000-02  0.716699 -1.770759 -0.872069 -2.515107\n2000-03  3.066675 -1.130784 -0.049076  0.960968\n2000-04  0.124231 -1.230777 -0.977024 -0.575223\n2000-05 -1.443546  1.860692  0.877173 -1.284495\n2000-06 -0.590515 -1.172447 -0.040788 -0.918575\n2000-07  1.316777  0.882647  0.538420  1.220044\n2000-08  1.187872 -0.405577 -0.108791 -0.407870\n2000-09 -0.646122 -0.157097  0.795008 -1.565750\n2000-10 -0.786831  0.210943  2.244340 -0.743482\n2000-11  1.054484 -0.197884  0.024197 -2.145225\n2000-12 -0.825941  1.595743  0.786787 -0.397698\n2001-01 -0.473390 -1.288555  1.680527  1.608320\n2001-02  0.313959  0.741128  1.190632 -0.485854\n2001-03  1.184149  0.651143  0.428644 -1.728999\n2001-04  0.477723 -0.481437  0.471939  0.765780\n2001-05 -0.178624 -0.193594 -1.213438 -0.153241\n2001-06  0.861826  0.568004 -0.704831 -0.059040\n2001-07  0.630198 -0.444908  0.404763 -1.535275\n2001-08  2.137351  1.071406 -0.480460  1.124208\n2001-09  1.131400  0.040553 -0.630843 -1.819887\n2001-10 -0.531410  0.063691  0.183831  0.323864\n2001-11 -0.955395 -0.442989 -0.582136  0.345659\n2001-12 -0.026140  0.964114  0.886085 -0.747395",
      "text/html": "<div>\n<style scoped>\n    .dataframe tbody tr th:only-of-type {\n        vertical-align: middle;\n    }\n\n    .dataframe tbody tr th {\n        vertical-align: top;\n    }\n\n    .dataframe thead th {\n        text-align: right;\n    }\n</style>\n<table border=\"1\" class=\"dataframe\">\n  <thead>\n    <tr style=\"text-align: right;\">\n      <th></th>\n      <th>Colorado</th>\n      <th>Texas</th>\n      <th>New York</th>\n      <th>Ohio</th>\n    </tr>\n  </thead>\n  <tbody>\n    <tr>\n      <th>2000-01</th>\n      <td>-0.855046</td>\n      <td>3.226601</td>\n      <td>3.763385</td>\n      <td>-0.698061</td>\n    </tr>\n    <tr>\n      <th>2000-02</th>\n      <td>0.716699</td>\n      <td>-1.770759</td>\n      <td>-0.872069</td>\n      <td>-2.515107</td>\n    </tr>\n    <tr>\n      <th>2000-03</th>\n      <td>3.066675</td>\n      <td>-1.130784</td>\n      <td>-0.049076</td>\n      <td>0.960968</td>\n    </tr>\n    <tr>\n      <th>2000-04</th>\n      <td>0.124231</td>\n      <td>-1.230777</td>\n      <td>-0.977024</td>\n      <td>-0.575223</td>\n    </tr>\n    <tr>\n      <th>2000-05</th>\n      <td>-1.443546</td>\n      <td>1.860692</td>\n      <td>0.877173</td>\n      <td>-1.284495</td>\n    </tr>\n    <tr>\n      <th>2000-06</th>\n      <td>-0.590515</td>\n      <td>-1.172447</td>\n      <td>-0.040788</td>\n      <td>-0.918575</td>\n    </tr>\n    <tr>\n      <th>2000-07</th>\n      <td>1.316777</td>\n      <td>0.882647</td>\n      <td>0.538420</td>\n      <td>1.220044</td>\n    </tr>\n    <tr>\n      <th>2000-08</th>\n      <td>1.187872</td>\n      <td>-0.405577</td>\n      <td>-0.108791</td>\n      <td>-0.407870</td>\n    </tr>\n    <tr>\n      <th>2000-09</th>\n      <td>-0.646122</td>\n      <td>-0.157097</td>\n      <td>0.795008</td>\n      <td>-1.565750</td>\n    </tr>\n    <tr>\n      <th>2000-10</th>\n      <td>-0.786831</td>\n      <td>0.210943</td>\n      <td>2.244340</td>\n      <td>-0.743482</td>\n    </tr>\n    <tr>\n      <th>2000-11</th>\n      <td>1.054484</td>\n      <td>-0.197884</td>\n      <td>0.024197</td>\n      <td>-2.145225</td>\n    </tr>\n    <tr>\n      <th>2000-12</th>\n      <td>-0.825941</td>\n      <td>1.595743</td>\n      <td>0.786787</td>\n      <td>-0.397698</td>\n    </tr>\n    <tr>\n      <th>2001-01</th>\n      <td>-0.473390</td>\n      <td>-1.288555</td>\n      <td>1.680527</td>\n      <td>1.608320</td>\n    </tr>\n    <tr>\n      <th>2001-02</th>\n      <td>0.313959</td>\n      <td>0.741128</td>\n      <td>1.190632</td>\n      <td>-0.485854</td>\n    </tr>\n    <tr>\n      <th>2001-03</th>\n      <td>1.184149</td>\n      <td>0.651143</td>\n      <td>0.428644</td>\n      <td>-1.728999</td>\n    </tr>\n    <tr>\n      <th>2001-04</th>\n      <td>0.477723</td>\n      <td>-0.481437</td>\n      <td>0.471939</td>\n      <td>0.765780</td>\n    </tr>\n    <tr>\n      <th>2001-05</th>\n      <td>-0.178624</td>\n      <td>-0.193594</td>\n      <td>-1.213438</td>\n      <td>-0.153241</td>\n    </tr>\n    <tr>\n      <th>2001-06</th>\n      <td>0.861826</td>\n      <td>0.568004</td>\n      <td>-0.704831</td>\n      <td>-0.059040</td>\n    </tr>\n    <tr>\n      <th>2001-07</th>\n      <td>0.630198</td>\n      <td>-0.444908</td>\n      <td>0.404763</td>\n      <td>-1.535275</td>\n    </tr>\n    <tr>\n      <th>2001-08</th>\n      <td>2.137351</td>\n      <td>1.071406</td>\n      <td>-0.480460</td>\n      <td>1.124208</td>\n    </tr>\n    <tr>\n      <th>2001-09</th>\n      <td>1.131400</td>\n      <td>0.040553</td>\n      <td>-0.630843</td>\n      <td>-1.819887</td>\n    </tr>\n    <tr>\n      <th>2001-10</th>\n      <td>-0.531410</td>\n      <td>0.063691</td>\n      <td>0.183831</td>\n      <td>0.323864</td>\n    </tr>\n    <tr>\n      <th>2001-11</th>\n      <td>-0.955395</td>\n      <td>-0.442989</td>\n      <td>-0.582136</td>\n      <td>0.345659</td>\n    </tr>\n    <tr>\n      <th>2001-12</th>\n      <td>-0.026140</td>\n      <td>0.964114</td>\n      <td>0.886085</td>\n      <td>-0.747395</td>\n    </tr>\n  </tbody>\n</table>\n</div>"
     },
     "metadata": {},
     "output_type": "execute_result",
     "execution_count": 186
    }
   ],
   "source": [
    "frame = pd.DataFrame(np.random.randn(24, 4),\n",
    "                     index=pd.period_range('1-2000', '12-2001',\n",
    "                                           freq='M'),\n",
    "                     columns=['Colorado', 'Texas', 'New York', 'Ohio'])\n",
    "frame"
   ]
  },
  {
   "cell_type": "code",
   "execution_count": 187,
   "outputs": [],
   "source": "annual_frame = frame.resample('A-DEC').mean() # 向下采样",
   "metadata": {
    "pycharm": {
     "metadata": false,
     "name": "#%%\n",
     "is_executing": false
    }
   }
  },
  {
   "cell_type": "code",
   "execution_count": 188,
   "metadata": {
    "pycharm": {
     "is_executing": false
    }
   },
   "outputs": [
    {
     "name": "stdout",
     "text": [
      "      Colorado     Texas  New York      Ohio\n2000  0.193228  0.142608  0.581797 -0.755873\n2001  0.380971  0.104046  0.136226 -0.196822\n<YearEnd: month=12>\n"
     ],
     "output_type": "stream"
    }
   ],
   "source": "print(annual_frame)\nprint(annual_frame.index.freq)"
  },
  {
   "cell_type": "code",
   "execution_count": 189,
   "outputs": [
    {
     "name": "stdout",
     "text": [
      "        Colorado     Texas  New York      Ohio\n2000Q1  0.193228  0.142608  0.581797 -0.755873\n2000Q2       NaN       NaN       NaN       NaN\n2000Q3       NaN       NaN       NaN       NaN\n2000Q4       NaN       NaN       NaN       NaN\n2001Q1  0.380971  0.104046  0.136226 -0.196822\n2001Q2       NaN       NaN       NaN       NaN\n2001Q3       NaN       NaN       NaN       NaN\n2001Q4       NaN       NaN       NaN       NaN\n        Colorado     Texas  New York      Ohio\n2000Q1  0.193228  0.142608  0.581797 -0.755873\n2000Q2  0.193228  0.142608  0.581797 -0.755873\n2000Q3  0.193228  0.142608  0.581797 -0.755873\n2000Q4  0.193228  0.142608  0.581797 -0.755873\n2001Q1  0.380971  0.104046  0.136226 -0.196822\n2001Q2  0.380971  0.104046  0.136226 -0.196822\n2001Q3  0.380971  0.104046  0.136226 -0.196822\n2001Q4  0.380971  0.104046  0.136226 -0.196822\n"
     ],
     "output_type": "stream"
    }
   ],
   "source": "# 注意:在时间跨度的重新采样中,.asfreq(),.ffill()方法只能用于向上采样\nprint(annual_frame.resample('Q-DEC').asfreq()) # 向上采样\nprint(annual_frame.resample('Q-DEC').ffill())",
   "metadata": {
    "pycharm": {
     "metadata": false,
     "name": "#%%\n",
     "is_executing": false
    }
   }
  }
 ],
 "metadata": {
  "kernelspec": {
   "name": "python3",
   "language": "python",
   "display_name": "Python 3"
  },
  "language_info": {
   "codemirror_mode": {
    "name": "ipython",
    "version": 2
   },
   "file_extension": ".py",
   "mimetype": "text/x-python",
   "name": "python",
   "nbconvert_exporter": "python",
   "pygments_lexer": "ipython2",
   "version": "2.7.6"
  }
 },
 "nbformat": 4,
 "nbformat_minor": 0
}