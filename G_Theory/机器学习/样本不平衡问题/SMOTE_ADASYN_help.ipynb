{
 "cells": [
  {
   "source": [
    "\n",
    "Both SMOTE and ADASYN use the same algorithm to generate new samples. Considering a sample $x_i$, a new sample $x_{new}$ will be generated considering its k neareast-neighbors (corresponding to k_neighbors). For instance, the 3 nearest-neighbors are included in the blue circle as illustrated in the figure below. Then, one of these nearest-neighbors $x_{zi}$ is selected and a sample is generated as follows:\n",
    "\n",
    "$$ x_{new} = x_i + \\lambda \\times (x_{zi} - x_i) $$\n",
    "\n",
    "where $ \\lambda$ is a random number in the range $[0, 1]$. This interpolation will create a sample on the line between $x_{i}$ and $x_{zi}$ as illustrated in the image below:\n",
    "\n",
    "<img src='../../../Other/img/过采样基本原理.png' width=533 height=400>\n",
    "\n",
    "ADASYN works similarly to the regular SMOTE. However, the number of samples generated for each $x_i$ is proportional to the number of samples which are not from the same class than $x_i$ in a given neighborhood. Therefore, more samples will be generated in the area that the nearest neighbor rule is not respected. The parameter m_neighbors is equivalent to k_neighbors in SMOTE.\n",
    "\n",
    "\n",
    "### 总结:\n",
    "\n",
    "SMOTE会随机选取少数类样本用以合成新样本,而不考虑周边样本的情况,这样容易带来两个问题：\n",
    "\n",
    "1. 如果选取的少数类样本周围也都是少数类样本,则新合成的样本不会提供太多有用信息\n",
    "2. 如果选取的少数类样本周围都是多数类样本,这类的样本可能是噪音,则新合成的样本会与周围的多数类样本产生大部分重叠，致使分类困难\n",
    "\n",
    "ADASYN算法的关键思想是使用密度分布作为准则来自动确定每个少数数据示例需要生成的合成样本的数量,即在少数实例的密度较低的特征空间区域中生成更多的合成实例,而在密度较高的特征空间区域生成较少的合成实例\n",
    "\n",
    "1. ADASYN的缺点是易受离群点的影响,如果一个少数类样本的K近邻都是多数类样本,则其权重会变得相当大,进而会在其周围生成较多的样本。\n",
    "\n",
    "\n",
    "\n",
    "\n"
   ],
   "cell_type": "markdown",
   "metadata": {
    "collapsed": true
   }
  }
 ],
 "metadata": {
  "kernelspec": {
   "display_name": "Python 3",
   "language": "python",
   "name": "python3"
  },
  "language_info": {
   "codemirror_mode": {
    "name": "ipython",
    "version": 2
   },
   "file_extension": ".py",
   "mimetype": "text/x-python",
   "name": "python",
   "nbconvert_exporter": "python",
   "pygments_lexer": "ipython2",
   "version": "2.7.6"
  }
 },
 "nbformat": 4,
 "nbformat_minor": 0
}