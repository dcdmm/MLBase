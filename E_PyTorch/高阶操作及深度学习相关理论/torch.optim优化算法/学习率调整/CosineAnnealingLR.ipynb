{
 "cells": [
  {
   "cell_type": "markdown",
   "source": [
    "Set the learning rate of each parameter group using a cosine annealing schedule, where $ \\eta_{max} $is set to the initial lr and $ T_{cur} $ is the number of epochs since the last restart in SGDR:\n",
    "\n",
    "\\begin{aligned}\n",
    "\\eta_{t} &=\\eta_{\\min }+\\frac{1}{2}\\left(\\eta_{\\max }-\\eta_{\\min }\\right)\\left(1+\\cos \\left(\\frac{T_{\\text {cur }}}{T_{\\max }} \\pi\\right)\\right), T_{\\text {cur }} \\neq(2 k+1) T_{\\operatorname{max}} \\\\\n",
    "\\eta_{t+1} &=\\eta_{t}+\\frac{1}{2}\\left(\\eta_{\\max }-\\eta_{\\min }\\right)\\left(1-\\cos \\left(\\frac{1}{T_{\\max }} \\pi\\right)\\right),   T_{\\text {cur }} =(2 k+1) T_{\\operatorname{max}}\n",
    "\\end{aligned}"
   ],
   "metadata": {
    "collapsed": false,
    "pycharm": {
     "name": "#%% md\n"
    }
   }
  },
  {
   "cell_type": "code",
   "execution_count": 7,
   "outputs": [],
   "source": [
    "import torch\n",
    "import torch.optim as optim\n",
    "import matplotlib.pyplot as plt\n",
    "\n",
    "torch.manual_seed(1)\n",
    "\n",
    "LR = 1  # 学习率\n",
    "iteration = 10\n",
    "max_epoch = 200\n",
    "\n",
    "weights = torch.tensor(1, requires_grad=True, dtype=torch.float32)\n",
    "target = torch.zeros(1)\n",
    "\n",
    "optimizer = optim.SGD([weights], lr=LR, momentum=0.9)\n",
    "# Decays the learning rate of each parameter group by gamma every step_size epochs.\n",
    "scheduler_lr = optim.lr_scheduler.CosineAnnealingLR(optimizer=optimizer,\n",
    "                                                    T_max=50,  # 即T_{\\max }\n",
    "                                                    eta_min=0.3)  # 最小学习率,即\\eta_{\\min"
   ],
   "metadata": {
    "collapsed": false,
    "pycharm": {
     "name": "#%%\n"
    }
   }
  },
  {
   "cell_type": "code",
   "execution_count": 8,
   "outputs": [
    {
     "data": {
      "text/plain": "<Figure size 432x288 with 1 Axes>",
      "image/png": "[encoded data removed]"
     },
     "metadata": {},
     "output_type": "display_data"
    }
   ],
   "source": [
    "lr_list, epoch_list = list(), list()\n",
    "for epoch in range(max_epoch):\n",
    "    lr_list.append(optimizer.param_groups[0]['lr'])\n",
    "    epoch_list.append(epoch)\n",
    "    for i in range(iteration):\n",
    "        loss = torch.pow((weights - target), 2)\n",
    "        optimizer.zero_grad()\n",
    "        loss.backward()\n",
    "        optimizer.step()  # step级进行一次学习调整\n",
    "\n",
    "    scheduler_lr.step()  # epoch级进行一次学习率调整\n",
    "\n",
    "plt.plot(epoch_list, lr_list, label=\"Step LR Scheduler\", color='red')\n",
    "plt.xticks([0, 50, 100, 200], color='y', size=15)\n",
    "plt.xlabel(\"Epoch\")\n",
    "plt.ylabel(\"Learning rate\")\n",
    "plt.ylim([-0.1, 1.1])\n",
    "plt.legend()\n",
    "plt.show()"
   ],
   "metadata": {
    "collapsed": false,
    "pycharm": {
     "name": "#%%\n"
    }
   }
  },
  {
   "cell_type": "code",
   "execution_count": 8,
   "metadata": {
    "collapsed": true
   },
   "outputs": [],
   "source": []
  }
 ],
 "metadata": {
  "kernelspec": {
   "display_name": "Python 3",
   "language": "python",
   "name": "python3"
  },
  "language_info": {
   "codemirror_mode": {
    "name": "ipython",
    "version": 2
   },
   "file_extension": ".py",
   "mimetype": "text/x-python",
   "name": "python",
   "nbconvert_exporter": "python",
   "pygments_lexer": "ipython2",
   "version": "2.7.6"
  }
 },
 "nbformat": 4,
 "nbformat_minor": 0
}