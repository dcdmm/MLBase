{
 "cells": [
  {
   "cell_type": "markdown",
   "metadata": {
    "collapsed": true,
    "pycharm": {
     "name": "#%% md\n"
    }
   },
   "source": [
    "* is 是判断两个标识符是不是引用自一个对象\n",
    "* is not 是判断两个标识符是不是引用自不同对象"
   ]
  },
  {
   "cell_type": "code",
   "execution_count": 16,
   "outputs": [
    {
     "name": "stdout",
     "output_type": "stream",
     "text": [
      "140710655830512 140710655830512\n",
      "True\n"
     ]
    }
   ],
   "source": [
    "a = 20\n",
    "b = a\n",
    "\n",
    "print(id(a), id(b))\n",
    "print(a is b)"
   ],
   "metadata": {
    "collapsed": false,
    "pycharm": {
     "name": "#%%\n"
    }
   }
  },
  {
   "cell_type": "code",
   "execution_count": 17,
   "outputs": [
    {
     "name": "stdout",
     "output_type": "stream",
     "text": [
      "True\n",
      "False\n"
     ]
    }
   ],
   "source": [
    "lst_0 = [1, 2, 3]\n",
    "lst_1 = [1, 2, 3]\n",
    "\n",
    "print(lst_0 == lst_1)  # 是否相等(调用对象__eq__方法)\n",
    "print(lst_0 is lst_1)  # 是否引用自一个对象(地址值)"
   ],
   "metadata": {
    "collapsed": false,
    "pycharm": {
     "name": "#%%\n"
    }
   }
  },
  {
   "cell_type": "code",
   "execution_count": 18,
   "outputs": [
    {
     "name": "stdout",
     "output_type": "stream",
     "text": [
      "__eq__魔法方法被调用\n",
      "True\n",
      "False\n"
     ]
    }
   ],
   "source": [
    "class A:\n",
    "    def __init__(self):\n",
    "        self.a = 0\n",
    "    def __eq__(self, other):\n",
    "        print(\"__eq__魔法方法被调用\")\n",
    "        if self.a == other.a:\n",
    "            return True\n",
    "\n",
    "a0 = A()\n",
    "a1 = A()\n",
    "print(a0 == a1)  # True;__eq__方法被调用\n",
    "print(a0 is a1)  # False"
   ],
   "metadata": {
    "collapsed": false,
    "pycharm": {
     "name": "#%%\n"
    }
   }
  }
 ],
 "metadata": {
  "kernelspec": {
   "display_name": "Python 3",
   "language": "python",
   "name": "python3"
  },
  "language_info": {
   "codemirror_mode": {
    "name": "ipython",
    "version": 2
   },
   "file_extension": ".py",
   "mimetype": "text/x-python",
   "name": "python",
   "nbconvert_exporter": "python",
   "pygments_lexer": "ipython2",
   "version": "2.7.6"
  }
 },
 "nbformat": 4,
 "nbformat_minor": 0
}