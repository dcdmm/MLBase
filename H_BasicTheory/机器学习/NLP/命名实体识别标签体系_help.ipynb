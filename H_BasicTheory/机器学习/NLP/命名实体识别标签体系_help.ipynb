{
 "cells": [
  {
   "cell_type": "markdown",
   "source": [
    "| Tokens | BIO    | BLOES  |\n",
    "| ------ |  ------ | ------ |\n",
    "| 段     |  B-PER  | B-PER  |\n",
    "| 萌     | I-PER  | I-PER  |\n",
    "| 萌     |  I-PER  | E-PER  |\n",
    "| 将     |  O      | O      |\n",
    "| 于     |  O      | O      |\n",
    "| 明     |  B-DATE | B-DATE |\n",
    "| 天     |  I-DATE | E-DATE |\n",
    "| 返     |  O      | O      |\n",
    "| 回     |  B-LOC  | S-LOC  |\n",
    "| 。     |  O      | O      |\n",
    "\n",
    "BIO:\n",
    "\n",
    "* B-X:实体X的开头\n",
    "* I-X:实体X的中间或结尾\n",
    "* O:其他\n",
    "\n",
    "BLOES:\n",
    "\n",
    "* B-X:实体X的开头\n",
    "* I-X:实体X的中间\n",
    "* E-X:实体X的结尾\n",
    "* S-X:单个字符表示一个实体\n",
    "* O:其他"
   ],
   "metadata": {
    "collapsed": false,
    "pycharm": {
     "name": "#%% md\n"
    }
   }
  }
 ],
 "metadata": {
  "kernelspec": {
   "display_name": "Python 3",
   "language": "python",
   "name": "python3"
  },
  "language_info": {
   "codemirror_mode": {
    "name": "ipython",
    "version": 2
   },
   "file_extension": ".py",
   "mimetype": "text/x-python",
   "name": "python",
   "nbconvert_exporter": "python",
   "pygments_lexer": "ipython2",
   "version": "2.7.6"
  }
 },
 "nbformat": 4,
 "nbformat_minor": 0
}