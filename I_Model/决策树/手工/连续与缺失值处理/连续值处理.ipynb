{
 "cells": [
  {
   "cell_type": "markdown",
   "metadata": {
    "collapsed": true,
    "pycharm": {
     "name": "#%% md\n"
    }
   },
   "source": [
    "&emsp;&emsp;给定样本集$D$和连续特征$a$,假定$a$在$D$上出现了n个不同的取值,将这些值从\n",
    "小到大进行排序,记为$\\{ a_1, a_2, \\dots, a_n \\}$.基于划分点$t$可将$D$分为子集$D_t^{-}$和$D_t^{+}$,其中$D_t^{-}$包含\n",
    "那些在特征$a$上取值不大于$t$的样本,而$D_t^{+}$则包含那些在特征$a$上取值大于$t$的样本.显然,对相邻的特征取值$a_i$与$a_{i+1}$来说,$t$在区间$ [a^i, a^{i+1}] $中取\n",
    "任意值所产生的划分结果相同.因此,对连续特征$a$,我们可考虑包含$n-1$个元素的候选划分点集合    \n",
    "$$ T_a=\\left \\{  \\frac{a^i + a^{i+1}}{2} | 1 \\leq i \\leq n-1  \\right \\} $$   \n",
    "即把区间$[a^i, a^{i+1})$的中位置点$ \\frac{a^i + a^{i+1}}{2} $作为候选划分点.然后,我们就可以像离散特征值一样来考察这些划分点,选取最优\n",
    "的划分点进行样本集合的划分."
   ]
  },
  {
   "cell_type": "code",
   "execution_count": 11,
   "outputs": [],
   "source": [
    "from  collections import  Counter\n",
    "import numpy as np\n",
    "import pandas as pd"
   ],
   "metadata": {
    "collapsed": false,
    "pycharm": {
     "name": "#%%\n",
     "is_executing": false
    }
   }
  },
  {
   "cell_type": "code",
   "execution_count": 12,
   "outputs": [],
   "source": [
    "string = \"\"\"编号,色泽,根蒂,敲声,纹理,脐部,触感,密度,含糖率,好瓜\n",
    "1,青绿,蜷缩,浊响,清晰,凹陷,硬滑,0.697,0.46,是\n",
    "2,乌黑,蜷缩,沉闷,清晰,凹陷,硬滑,0.774,0.376,是\n",
    "3,乌黑,蜷缩,浊响,清晰,凹陷,硬滑,0.634,0.264,是\n",
    "4,青绿,蜷缩,沉闷,清晰,凹陷,硬滑,0.608,0.318,是\n",
    "5,浅白,蜷缩,浊响,清晰,凹陷,硬滑,0.556,0.215,是\n",
    "6,青绿,稍蜷,浊响,清晰,稍凹,软粘,0.403,0.237,是\n",
    "7,乌黑,稍蜷,浊响,稍糊,稍凹,软粘,0.481,0.149,是\n",
    "8,乌黑,稍蜷,浊响,清晰,稍凹,硬滑,0.437,0.211,是\n",
    "9,乌黑,稍蜷,沉闷,稍糊,稍凹,硬滑,0.666,0.091,否\n",
    "10,青绿,硬挺,清脆,清晰,平坦,软粘,0.243,0.267,否\n",
    "11,浅白,硬挺,清脆,模糊,平坦,硬滑,0.245,0.057,否\n",
    "12,浅白,蜷缩,浊响,模糊,平坦,软粘,0.343,0.099,否\n",
    "13,青绿,稍蜷,浊响,稍糊,凹陷,硬滑,0.639,0.161,否\n",
    "14,浅白,稍蜷,沉闷,稍糊,凹陷,硬滑,0.657,0.198,否\n",
    "15,乌黑,稍蜷,浊响,清晰,稍凹,软粘,0.36,0.37,否\n",
    "16,浅白,蜷缩,浊响,模糊,平坦,硬滑,0.593,0.042,否\n",
    "17,青绿,蜷缩,沉闷,稍糊,稍凹,硬滑,0.719,0.103,否\"\"\""
   ],
   "metadata": {
    "collapsed": false,
    "pycharm": {
     "name": "#%%\n",
     "is_executing": false
    }
   }
  },
  {
   "cell_type": "code",
   "execution_count": 13,
   "outputs": [],
   "source": [
    "def out_df(string):\n",
    "    \"\"\"将字符串转换为DataFrame\"\"\"\n",
    "    lst = list()\n",
    "    for i in string.split('\\n'):\n",
    "        lst.append(i.split(','))\n",
    "    arr = np.array(lst)\n",
    "    \n",
    "    return pd.DataFrame(arr[1:], columns=arr[0])"
   ],
   "metadata": {
    "collapsed": false,
    "pycharm": {
     "name": "#%%\n",
     "is_executing": false
    }
   }
  },
  {
   "cell_type": "code",
   "execution_count": 14,
   "outputs": [
    {
     "data": {
      "text/plain": "    编号  色泽  根蒂  敲声  纹理  脐部  触感     密度    含糖率 好瓜\n0    1  青绿  蜷缩  浊响  清晰  凹陷  硬滑  0.697   0.46  是\n1    2  乌黑  蜷缩  沉闷  清晰  凹陷  硬滑  0.774  0.376  是\n2    3  乌黑  蜷缩  浊响  清晰  凹陷  硬滑  0.634  0.264  是\n3    4  青绿  蜷缩  沉闷  清晰  凹陷  硬滑  0.608  0.318  是\n4    5  浅白  蜷缩  浊响  清晰  凹陷  硬滑  0.556  0.215  是\n5    6  青绿  稍蜷  浊响  清晰  稍凹  软粘  0.403  0.237  是\n6    7  乌黑  稍蜷  浊响  稍糊  稍凹  软粘  0.481  0.149  是\n7    8  乌黑  稍蜷  浊响  清晰  稍凹  硬滑  0.437  0.211  是\n8    9  乌黑  稍蜷  沉闷  稍糊  稍凹  硬滑  0.666  0.091  否\n9   10  青绿  硬挺  清脆  清晰  平坦  软粘  0.243  0.267  否\n10  11  浅白  硬挺  清脆  模糊  平坦  硬滑  0.245  0.057  否\n11  12  浅白  蜷缩  浊响  模糊  平坦  软粘  0.343  0.099  否\n12  13  青绿  稍蜷  浊响  稍糊  凹陷  硬滑  0.639  0.161  否\n13  14  浅白  稍蜷  沉闷  稍糊  凹陷  硬滑  0.657  0.198  否\n14  15  乌黑  稍蜷  浊响  清晰  稍凹  软粘   0.36   0.37  否\n15  16  浅白  蜷缩  浊响  模糊  平坦  硬滑  0.593  0.042  否\n16  17  青绿  蜷缩  沉闷  稍糊  稍凹  硬滑  0.719  0.103  否",
      "text/html": "<div>\n<style scoped>\n    .dataframe tbody tr th:only-of-type {\n        vertical-align: middle;\n    }\n\n    .dataframe tbody tr th {\n        vertical-align: top;\n    }\n\n    .dataframe thead th {\n        text-align: right;\n    }\n</style>\n<table border=\"1\" class=\"dataframe\">\n  <thead>\n    <tr style=\"text-align: right;\">\n      <th></th>\n      <th>编号</th>\n      <th>色泽</th>\n      <th>根蒂</th>\n      <th>敲声</th>\n      <th>纹理</th>\n      <th>脐部</th>\n      <th>触感</th>\n      <th>密度</th>\n      <th>含糖率</th>\n      <th>好瓜</th>\n    </tr>\n  </thead>\n  <tbody>\n    <tr>\n      <td>0</td>\n      <td>1</td>\n      <td>青绿</td>\n      <td>蜷缩</td>\n      <td>浊响</td>\n      <td>清晰</td>\n      <td>凹陷</td>\n      <td>硬滑</td>\n      <td>0.697</td>\n      <td>0.46</td>\n      <td>是</td>\n    </tr>\n    <tr>\n      <td>1</td>\n      <td>2</td>\n      <td>乌黑</td>\n      <td>蜷缩</td>\n      <td>沉闷</td>\n      <td>清晰</td>\n      <td>凹陷</td>\n      <td>硬滑</td>\n      <td>0.774</td>\n      <td>0.376</td>\n      <td>是</td>\n    </tr>\n    <tr>\n      <td>2</td>\n      <td>3</td>\n      <td>乌黑</td>\n      <td>蜷缩</td>\n      <td>浊响</td>\n      <td>清晰</td>\n      <td>凹陷</td>\n      <td>硬滑</td>\n      <td>0.634</td>\n      <td>0.264</td>\n      <td>是</td>\n    </tr>\n    <tr>\n      <td>3</td>\n      <td>4</td>\n      <td>青绿</td>\n      <td>蜷缩</td>\n      <td>沉闷</td>\n      <td>清晰</td>\n      <td>凹陷</td>\n      <td>硬滑</td>\n      <td>0.608</td>\n      <td>0.318</td>\n      <td>是</td>\n    </tr>\n    <tr>\n      <td>4</td>\n      <td>5</td>\n      <td>浅白</td>\n      <td>蜷缩</td>\n      <td>浊响</td>\n      <td>清晰</td>\n      <td>凹陷</td>\n      <td>硬滑</td>\n      <td>0.556</td>\n      <td>0.215</td>\n      <td>是</td>\n    </tr>\n    <tr>\n      <td>5</td>\n      <td>6</td>\n      <td>青绿</td>\n      <td>稍蜷</td>\n      <td>浊响</td>\n      <td>清晰</td>\n      <td>稍凹</td>\n      <td>软粘</td>\n      <td>0.403</td>\n      <td>0.237</td>\n      <td>是</td>\n    </tr>\n    <tr>\n      <td>6</td>\n      <td>7</td>\n      <td>乌黑</td>\n      <td>稍蜷</td>\n      <td>浊响</td>\n      <td>稍糊</td>\n      <td>稍凹</td>\n      <td>软粘</td>\n      <td>0.481</td>\n      <td>0.149</td>\n      <td>是</td>\n    </tr>\n    <tr>\n      <td>7</td>\n      <td>8</td>\n      <td>乌黑</td>\n      <td>稍蜷</td>\n      <td>浊响</td>\n      <td>清晰</td>\n      <td>稍凹</td>\n      <td>硬滑</td>\n      <td>0.437</td>\n      <td>0.211</td>\n      <td>是</td>\n    </tr>\n    <tr>\n      <td>8</td>\n      <td>9</td>\n      <td>乌黑</td>\n      <td>稍蜷</td>\n      <td>沉闷</td>\n      <td>稍糊</td>\n      <td>稍凹</td>\n      <td>硬滑</td>\n      <td>0.666</td>\n      <td>0.091</td>\n      <td>否</td>\n    </tr>\n    <tr>\n      <td>9</td>\n      <td>10</td>\n      <td>青绿</td>\n      <td>硬挺</td>\n      <td>清脆</td>\n      <td>清晰</td>\n      <td>平坦</td>\n      <td>软粘</td>\n      <td>0.243</td>\n      <td>0.267</td>\n      <td>否</td>\n    </tr>\n    <tr>\n      <td>10</td>\n      <td>11</td>\n      <td>浅白</td>\n      <td>硬挺</td>\n      <td>清脆</td>\n      <td>模糊</td>\n      <td>平坦</td>\n      <td>硬滑</td>\n      <td>0.245</td>\n      <td>0.057</td>\n      <td>否</td>\n    </tr>\n    <tr>\n      <td>11</td>\n      <td>12</td>\n      <td>浅白</td>\n      <td>蜷缩</td>\n      <td>浊响</td>\n      <td>模糊</td>\n      <td>平坦</td>\n      <td>软粘</td>\n      <td>0.343</td>\n      <td>0.099</td>\n      <td>否</td>\n    </tr>\n    <tr>\n      <td>12</td>\n      <td>13</td>\n      <td>青绿</td>\n      <td>稍蜷</td>\n      <td>浊响</td>\n      <td>稍糊</td>\n      <td>凹陷</td>\n      <td>硬滑</td>\n      <td>0.639</td>\n      <td>0.161</td>\n      <td>否</td>\n    </tr>\n    <tr>\n      <td>13</td>\n      <td>14</td>\n      <td>浅白</td>\n      <td>稍蜷</td>\n      <td>沉闷</td>\n      <td>稍糊</td>\n      <td>凹陷</td>\n      <td>硬滑</td>\n      <td>0.657</td>\n      <td>0.198</td>\n      <td>否</td>\n    </tr>\n    <tr>\n      <td>14</td>\n      <td>15</td>\n      <td>乌黑</td>\n      <td>稍蜷</td>\n      <td>浊响</td>\n      <td>清晰</td>\n      <td>稍凹</td>\n      <td>软粘</td>\n      <td>0.36</td>\n      <td>0.37</td>\n      <td>否</td>\n    </tr>\n    <tr>\n      <td>15</td>\n      <td>16</td>\n      <td>浅白</td>\n      <td>蜷缩</td>\n      <td>浊响</td>\n      <td>模糊</td>\n      <td>平坦</td>\n      <td>硬滑</td>\n      <td>0.593</td>\n      <td>0.042</td>\n      <td>否</td>\n    </tr>\n    <tr>\n      <td>16</td>\n      <td>17</td>\n      <td>青绿</td>\n      <td>蜷缩</td>\n      <td>沉闷</td>\n      <td>稍糊</td>\n      <td>稍凹</td>\n      <td>硬滑</td>\n      <td>0.719</td>\n      <td>0.103</td>\n      <td>否</td>\n    </tr>\n  </tbody>\n</table>\n</div>"
     },
     "metadata": {},
     "output_type": "execute_result",
     "execution_count": 14
    }
   ],
   "source": [
    "df = out_df(string) \n",
    "df"
   ],
   "metadata": {
    "collapsed": false,
    "pycharm": {
     "name": "#%%\n",
     "is_executing": false
    }
   }
  },
  {
   "cell_type": "code",
   "execution_count": 15,
   "outputs": [],
   "source": [
    "def info_gain(dataframe, feature_name):\n",
    "    \"\"\"特征feature_name划分数据集dataframe的信息增益\"\"\"\n",
    "    def calc_ent(dataframe): # 局部函数\n",
    "        \"\"\"计算熵\"\"\"\n",
    "        counter = Counter(dataframe.iloc[:, -1]) # 不同类的个数\n",
    "        pro_vector = np.array(list(counter.values())) / len(dataframe) # 不同类所占的比例\n",
    "        res =  - pro_vector @ np.log2(pro_vector)\n",
    "\n",
    "        return  res\n",
    "    \n",
    "    def calc_cond_ent(dataframe, feature_name):\n",
    "        \"\"\"计算条件熵\"\"\"\n",
    "        conter = Counter(dataframe.loc[:, feature_name]) # 特征feature_name不同取值的个数\n",
    "        data_length = len(dataframe)\n",
    "        pro_vector = np.array(list(conter.values())) / data_length # 特征feature_name不同取值所占的比例\n",
    "        hd_vector = list()\n",
    "        for i in conter.keys():\n",
    "            hd_vector.append(calc_ent(dataframe.iloc[np.argwhere(dataframe.loc[:, feature_name].values==i).reshape(1, -1)[0]]))\n",
    "        result = pro_vector @ hd_vector # 条件熵\n",
    "    \n",
    "        return result\n",
    "    \n",
    "    return calc_ent(dataframe) - calc_cond_ent(dataframe, feature_name) # 信息增益\n",
    "    "
   ],
   "metadata": {
    "collapsed": false,
    "pycharm": {
     "name": "#%%\n",
     "is_executing": false
    }
   }
  },
  {
   "cell_type": "code",
   "execution_count": 16,
   "outputs": [],
   "source": [
    "def contin_del(df, feature):\n",
    "    \"\"\"划分连续特征\"\"\"\n",
    "    ser = df.loc[:, feature].astype(np.float).values\n",
    "    val = list(set(ser))\n",
    "    val.sort()\n",
    "    ser_div = list() # 不同划分点对(连续)特征feature的划分\n",
    "    div_point = list() # 划分点\n",
    "    for i in range(len(val)-1):\n",
    "        point = float(\"{:.3f}\".format((val[i+1] + val[i])/2)) \n",
    "        div_point.append(point)\n",
    "        ser_div.append(pd.cut(ser, [-float('inf'), point, float('inf')]).codes)        \n",
    "    \n",
    "    return  ser_div, div_point"
   ],
   "metadata": {
    "collapsed": false,
    "pycharm": {
     "name": "#%%\n",
     "is_executing": false
    }
   }
  },
  {
   "cell_type": "code",
   "execution_count": 17,
   "outputs": [
    {
     "data": {
      "text/plain": "0.10812516526536531"
     },
     "metadata": {},
     "output_type": "execute_result",
     "execution_count": 17
    }
   ],
   "source": [
    "info_gain(df, '色泽') # 色泽的信息增益"
   ],
   "metadata": {
    "collapsed": false,
    "pycharm": {
     "name": "#%%\n",
     "is_executing": false
    }
   }
  },
  {
   "cell_type": "code",
   "execution_count": 18,
   "outputs": [
    {
     "data": {
      "text/plain": "0.3805918973682686"
     },
     "metadata": {},
     "output_type": "execute_result",
     "execution_count": 18
    }
   ],
   "source": [
    "info_gain(df, '纹理')"
   ],
   "metadata": {
    "collapsed": false,
    "pycharm": {
     "name": "#%%\n",
     "is_executing": false
    }
   }
  },
  {
   "cell_type": "code",
   "execution_count": 19,
   "outputs": [
    {
     "data": {
      "text/plain": "    0  1  2  3  4  5  6  7  8  9  10  11  12  13  14  15 好瓜\n0   1  1  1  1  1  1  1  1  1  1   1   1   1   1   0   0  是\n1   1  1  1  1  1  1  1  1  1  1   1   1   1   1   1   1  是\n2   1  1  1  1  1  1  1  1  1  1   0   0   0   0   0   0  是\n3   1  1  1  1  1  1  1  1  1  0   0   0   0   0   0   0  是\n4   1  1  1  1  1  1  1  0  0  0   0   0   0   0   0   0  是\n5   1  1  1  1  0  0  0  0  0  0   0   0   0   0   0   0  是\n6   1  1  1  1  1  1  0  0  0  0   0   0   0   0   0   0  是\n7   1  1  1  1  1  0  0  0  0  0   0   0   0   0   0   0  是\n8   1  1  1  1  1  1  1  1  1  1   1   1   1   0   0   0  否\n9   0  0  0  0  0  0  0  0  0  0   0   0   0   0   0   0  否\n10  1  0  0  0  0  0  0  0  0  0   0   0   0   0   0   0  否\n11  1  1  0  0  0  0  0  0  0  0   0   0   0   0   0   0  否\n12  1  1  1  1  1  1  1  1  1  1   1   0   0   0   0   0  否\n13  1  1  1  1  1  1  1  1  1  1   1   1   0   0   0   0  否\n14  1  1  1  0  0  0  0  0  0  0   0   0   0   0   0   0  否\n15  1  1  1  1  1  1  1  1  0  0   0   0   0   0   0   0  否\n16  1  1  1  1  1  1  1  1  1  1   1   1   1   1   1   0  否",
      "text/html": "<div>\n<style scoped>\n    .dataframe tbody tr th:only-of-type {\n        vertical-align: middle;\n    }\n\n    .dataframe tbody tr th {\n        vertical-align: top;\n    }\n\n    .dataframe thead th {\n        text-align: right;\n    }\n</style>\n<table border=\"1\" class=\"dataframe\">\n  <thead>\n    <tr style=\"text-align: right;\">\n      <th></th>\n      <th>0</th>\n      <th>1</th>\n      <th>2</th>\n      <th>3</th>\n      <th>4</th>\n      <th>5</th>\n      <th>6</th>\n      <th>7</th>\n      <th>8</th>\n      <th>9</th>\n      <th>10</th>\n      <th>11</th>\n      <th>12</th>\n      <th>13</th>\n      <th>14</th>\n      <th>15</th>\n      <th>好瓜</th>\n    </tr>\n  </thead>\n  <tbody>\n    <tr>\n      <td>0</td>\n      <td>1</td>\n      <td>1</td>\n      <td>1</td>\n      <td>1</td>\n      <td>1</td>\n      <td>1</td>\n      <td>1</td>\n      <td>1</td>\n      <td>1</td>\n      <td>1</td>\n      <td>1</td>\n      <td>1</td>\n      <td>1</td>\n      <td>1</td>\n      <td>0</td>\n      <td>0</td>\n      <td>是</td>\n    </tr>\n    <tr>\n      <td>1</td>\n      <td>1</td>\n      <td>1</td>\n      <td>1</td>\n      <td>1</td>\n      <td>1</td>\n      <td>1</td>\n      <td>1</td>\n      <td>1</td>\n      <td>1</td>\n      <td>1</td>\n      <td>1</td>\n      <td>1</td>\n      <td>1</td>\n      <td>1</td>\n      <td>1</td>\n      <td>1</td>\n      <td>是</td>\n    </tr>\n    <tr>\n      <td>2</td>\n      <td>1</td>\n      <td>1</td>\n      <td>1</td>\n      <td>1</td>\n      <td>1</td>\n      <td>1</td>\n      <td>1</td>\n      <td>1</td>\n      <td>1</td>\n      <td>1</td>\n      <td>0</td>\n      <td>0</td>\n      <td>0</td>\n      <td>0</td>\n      <td>0</td>\n      <td>0</td>\n      <td>是</td>\n    </tr>\n    <tr>\n      <td>3</td>\n      <td>1</td>\n      <td>1</td>\n      <td>1</td>\n      <td>1</td>\n      <td>1</td>\n      <td>1</td>\n      <td>1</td>\n      <td>1</td>\n      <td>1</td>\n      <td>0</td>\n      <td>0</td>\n      <td>0</td>\n      <td>0</td>\n      <td>0</td>\n      <td>0</td>\n      <td>0</td>\n      <td>是</td>\n    </tr>\n    <tr>\n      <td>4</td>\n      <td>1</td>\n      <td>1</td>\n      <td>1</td>\n      <td>1</td>\n      <td>1</td>\n      <td>1</td>\n      <td>1</td>\n      <td>0</td>\n      <td>0</td>\n      <td>0</td>\n      <td>0</td>\n      <td>0</td>\n      <td>0</td>\n      <td>0</td>\n      <td>0</td>\n      <td>0</td>\n      <td>是</td>\n    </tr>\n    <tr>\n      <td>5</td>\n      <td>1</td>\n      <td>1</td>\n      <td>1</td>\n      <td>1</td>\n      <td>0</td>\n      <td>0</td>\n      <td>0</td>\n      <td>0</td>\n      <td>0</td>\n      <td>0</td>\n      <td>0</td>\n      <td>0</td>\n      <td>0</td>\n      <td>0</td>\n      <td>0</td>\n      <td>0</td>\n      <td>是</td>\n    </tr>\n    <tr>\n      <td>6</td>\n      <td>1</td>\n      <td>1</td>\n      <td>1</td>\n      <td>1</td>\n      <td>1</td>\n      <td>1</td>\n      <td>0</td>\n      <td>0</td>\n      <td>0</td>\n      <td>0</td>\n      <td>0</td>\n      <td>0</td>\n      <td>0</td>\n      <td>0</td>\n      <td>0</td>\n      <td>0</td>\n      <td>是</td>\n    </tr>\n    <tr>\n      <td>7</td>\n      <td>1</td>\n      <td>1</td>\n      <td>1</td>\n      <td>1</td>\n      <td>1</td>\n      <td>0</td>\n      <td>0</td>\n      <td>0</td>\n      <td>0</td>\n      <td>0</td>\n      <td>0</td>\n      <td>0</td>\n      <td>0</td>\n      <td>0</td>\n      <td>0</td>\n      <td>0</td>\n      <td>是</td>\n    </tr>\n    <tr>\n      <td>8</td>\n      <td>1</td>\n      <td>1</td>\n      <td>1</td>\n      <td>1</td>\n      <td>1</td>\n      <td>1</td>\n      <td>1</td>\n      <td>1</td>\n      <td>1</td>\n      <td>1</td>\n      <td>1</td>\n      <td>1</td>\n      <td>1</td>\n      <td>0</td>\n      <td>0</td>\n      <td>0</td>\n      <td>否</td>\n    </tr>\n    <tr>\n      <td>9</td>\n      <td>0</td>\n      <td>0</td>\n      <td>0</td>\n      <td>0</td>\n      <td>0</td>\n      <td>0</td>\n      <td>0</td>\n      <td>0</td>\n      <td>0</td>\n      <td>0</td>\n      <td>0</td>\n      <td>0</td>\n      <td>0</td>\n      <td>0</td>\n      <td>0</td>\n      <td>0</td>\n      <td>否</td>\n    </tr>\n    <tr>\n      <td>10</td>\n      <td>1</td>\n      <td>0</td>\n      <td>0</td>\n      <td>0</td>\n      <td>0</td>\n      <td>0</td>\n      <td>0</td>\n      <td>0</td>\n      <td>0</td>\n      <td>0</td>\n      <td>0</td>\n      <td>0</td>\n      <td>0</td>\n      <td>0</td>\n      <td>0</td>\n      <td>0</td>\n      <td>否</td>\n    </tr>\n    <tr>\n      <td>11</td>\n      <td>1</td>\n      <td>1</td>\n      <td>0</td>\n      <td>0</td>\n      <td>0</td>\n      <td>0</td>\n      <td>0</td>\n      <td>0</td>\n      <td>0</td>\n      <td>0</td>\n      <td>0</td>\n      <td>0</td>\n      <td>0</td>\n      <td>0</td>\n      <td>0</td>\n      <td>0</td>\n      <td>否</td>\n    </tr>\n    <tr>\n      <td>12</td>\n      <td>1</td>\n      <td>1</td>\n      <td>1</td>\n      <td>1</td>\n      <td>1</td>\n      <td>1</td>\n      <td>1</td>\n      <td>1</td>\n      <td>1</td>\n      <td>1</td>\n      <td>1</td>\n      <td>0</td>\n      <td>0</td>\n      <td>0</td>\n      <td>0</td>\n      <td>0</td>\n      <td>否</td>\n    </tr>\n    <tr>\n      <td>13</td>\n      <td>1</td>\n      <td>1</td>\n      <td>1</td>\n      <td>1</td>\n      <td>1</td>\n      <td>1</td>\n      <td>1</td>\n      <td>1</td>\n      <td>1</td>\n      <td>1</td>\n      <td>1</td>\n      <td>1</td>\n      <td>0</td>\n      <td>0</td>\n      <td>0</td>\n      <td>0</td>\n      <td>否</td>\n    </tr>\n    <tr>\n      <td>14</td>\n      <td>1</td>\n      <td>1</td>\n      <td>1</td>\n      <td>0</td>\n      <td>0</td>\n      <td>0</td>\n      <td>0</td>\n      <td>0</td>\n      <td>0</td>\n      <td>0</td>\n      <td>0</td>\n      <td>0</td>\n      <td>0</td>\n      <td>0</td>\n      <td>0</td>\n      <td>0</td>\n      <td>否</td>\n    </tr>\n    <tr>\n      <td>15</td>\n      <td>1</td>\n      <td>1</td>\n      <td>1</td>\n      <td>1</td>\n      <td>1</td>\n      <td>1</td>\n      <td>1</td>\n      <td>1</td>\n      <td>0</td>\n      <td>0</td>\n      <td>0</td>\n      <td>0</td>\n      <td>0</td>\n      <td>0</td>\n      <td>0</td>\n      <td>0</td>\n      <td>否</td>\n    </tr>\n    <tr>\n      <td>16</td>\n      <td>1</td>\n      <td>1</td>\n      <td>1</td>\n      <td>1</td>\n      <td>1</td>\n      <td>1</td>\n      <td>1</td>\n      <td>1</td>\n      <td>1</td>\n      <td>1</td>\n      <td>1</td>\n      <td>1</td>\n      <td>1</td>\n      <td>1</td>\n      <td>1</td>\n      <td>0</td>\n      <td>否</td>\n    </tr>\n  </tbody>\n</table>\n</div>"
     },
     "metadata": {},
     "output_type": "execute_result",
     "execution_count": 19
    }
   ],
   "source": [
    "density, point = contin_del(df, '密度')\n",
    "density_df = pd.DataFrame(np.array(density).T)\n",
    "density_df['好瓜'] = df['好瓜']\n",
    "density_df"
   ],
   "metadata": {
    "collapsed": false,
    "pycharm": {
     "name": "#%%\n",
     "is_executing": false
    }
   }
  },
  {
   "cell_type": "code",
   "execution_count": 20,
   "outputs": [
    {
     "name": "stdout",
     "text": [
      "划分点: 0.244 的信息增益为: 0.05632607578088\n",
      "划分点: 0.294 的信息增益为: 0.1179805181500242\n",
      "划分点: 0.352 的信息增益为: 0.18613819904679052\n",
      "划分点: 0.382 的信息增益为: 0.2624392604045632\n",
      "划分点: 0.42 的信息增益为: 0.0934986902367243\n",
      "划分点: 0.459 的信息增益为: 0.03020211515891169\n",
      "划分点: 0.518 的信息增益为: 0.003585078590305879\n",
      "划分点: 0.575 的信息增益为: 0.002226985278291793\n",
      "划分点: 0.601 的信息增益为: 0.002226985278291793\n",
      "划分点: 0.621 的信息增益为: 0.003585078590305879\n",
      "划分点: 0.637 的信息增益为: 0.03020211515891169\n",
      "划分点: 0.648 的信息增益为: 0.006046489176565584\n",
      "划分点: 0.661 的信息增益为: 0.0007697888924075302\n",
      "划分点: 0.681 的信息增益为: 0.024085993037174735\n",
      "划分点: 0.708 的信息增益为: 0.00033345932649475607\n",
      "划分点: 0.746 的信息增益为: 0.06696192680347068\n"
     ],
     "output_type": "stream"
    }
   ],
   "source": [
    "for i in density_df.columns[:-1]:\n",
    "    print('划分点:', point[list(density_df.columns).index(i)],\n",
    "          '的信息增益为:', info_gain(density_df, i)) # 不同划分点下(连续)密度特征的信息增益"
   ],
   "metadata": {
    "collapsed": false,
    "pycharm": {
     "name": "#%%\n",
     "is_executing": false
    }
   }
  }
 ],
 "metadata": {
  "kernelspec": {
   "display_name": "Python 3",
   "language": "python",
   "name": "python3"
  },
  "language_info": {
   "codemirror_mode": {
    "name": "ipython",
    "version": 2
   },
   "file_extension": ".py",
   "mimetype": "text/x-python",
   "name": "python",
   "nbconvert_exporter": "python",
   "pygments_lexer": "ipython2",
   "version": "2.7.6"
  },
  "pycharm": {
   "stem_cell": {
    "cell_type": "raw",
    "source": [],
    "metadata": {
     "collapsed": false
    }
   }
  }
 },
 "nbformat": 4,
 "nbformat_minor": 0
}