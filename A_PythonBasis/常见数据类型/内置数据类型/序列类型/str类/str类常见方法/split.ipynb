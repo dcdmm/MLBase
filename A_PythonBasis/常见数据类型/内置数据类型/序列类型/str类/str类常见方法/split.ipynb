{
 "cells": [
  {
   "cell_type": "code",
   "execution_count": 11,
   "metadata": {
    "collapsed": true,
    "pycharm": {
     "name": "#%%\n"
    }
   },
   "outputs": [
    {
     "name": "stdout",
     "output_type": "stream",
     "text": [
      "默认: ['i', 'LOVE', 'ch', 'ina', 'EVERYDiAY', 'i']\n"
     ]
    }
   ],
   "source": [
    "example = \" i LOVE \\tch  \\tina\\tEVERYDiAY i\"\n",
    "\n",
    "example_split = example.split()  # 默认以空格为分隔符切片字符串\n",
    "print('默认:', example_split)"
   ]
  },
  {
   "cell_type": "code",
   "execution_count": 12,
   "outputs": [
    {
     "name": "stdout",
     "output_type": "stream",
     "text": [
      "i作为分隔符: [' ', ' LOVE \\tch  \\t', 'na\\tEVERYD', 'AY ', '']\n",
      " i LOVE \tch  \tina\tEVERYDiAY i\n",
      " i LOVE \tch  \tina\tEVERYD\n",
      "AY i\n",
      "仅使用一个i作为分隔符: [' ', ' LOVE \\tch  \\tina\\tEVERYDiAY i']\n"
     ]
    }
   ],
   "source": [
    "example_split_i = example.split('i')\n",
    "\n",
    "print('i作为分隔符:', example_split_i)\n",
    "\n",
    "print('i'.join(example_split_i))\n",
    "print('i'.join(example_split_i[:-2]))\n",
    "print('i'.join(example_split_i[-2:]))\n",
    "\n",
    "print('仅使用一个i作为分隔符:', example.split(\"i\", maxsplit=1))  # 默认maxsplit=-1(将所有的i作为分隔符)\n",
    "\n",
    "\n",
    "\n"
   ],
   "metadata": {
    "collapsed": false,
    "pycharm": {
     "name": "#%%\n"
    }
   }
  }
 ],
 "metadata": {
  "kernelspec": {
   "display_name": "Python 3",
   "language": "python",
   "name": "python3"
  },
  "language_info": {
   "codemirror_mode": {
    "name": "ipython",
    "version": 2
   },
   "file_extension": ".py",
   "mimetype": "text/x-python",
   "name": "python",
   "nbconvert_exporter": "python",
   "pygments_lexer": "ipython2",
   "version": "2.7.6"
  }
 },
 "nbformat": 4,
 "nbformat_minor": 0
}