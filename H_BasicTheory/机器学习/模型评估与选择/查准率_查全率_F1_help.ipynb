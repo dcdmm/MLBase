{
 "cells": [
  {
   "cell_type": "markdown",
   "metadata": {
    "collapsed": true,
    "pycharm": {
     "name": "#%% md\n"
    }
   },
   "source": [
    "&emsp;&emsp;错误率和精度虽然常用,但并不能满足所有任务需求.以西瓜问题为例,假如瓜农拉来一车西瓜,我们用训练\n",
    "好的模型对这些西瓜进行判别,显然,错误率衡量了有多少比例的瓜被判错误.但是若我们关心的是\"挑出来的西瓜中有多\n",
    "少比例是好瓜\",或者\"所有好瓜中有多少比例被挑了出来\",那个错误率显然就不够用了,这时需要使用其他的性能度量.        \n",
    "&emsp;&emsp;类似的需求在信息检索,Web搜索等应用中经常出现,例如在信息检索中,我们经常会关心\"检索的信息中有多少比\n",
    "例是用户感兴趣的\"\"用户感兴趣的信息中有多少被检索出来了\",\"查准率/准确率(precision)\"与\"查全率/召回率(recall)\"是更适用于此类需求的性能度量.               \n",
    "&emsp;&emsp;对于二分类问题,可将样例根据其真实类别与学习器预测类别组合划分为真正\n",
    "例(true positive/TP),假正例(false positive/FP),真反例(true negative/TN),假反例(false negative/FN)四种情况.\n",
    "显然有TN+FP+FN+TP=样例总数.分类结果的\"混淆矩阵\"(confusion matrix)如下所示:             \n",
    "\n",
    "<img src=\"../../../Other/img/TP_FP_TN_FN0.png\" style=\"width:500px;height:200px;float:bottom\">\n",
    "\n",
    "&emsp;&emsp;查准率P与查全率R分别定义为  \n",
    "\n",
    "$$\n",
    "\\begin{aligned}\n",
    "P &= \\frac{TP}{TP+FP}  \\\\\n",
    "R &= \\frac{TP}{TP + FN}\n",
    "\\end{aligned}            \n",
    "$$\n",
    "\n",
    "<img src=\"../../../Other/img/TP_FP_TN_FN1.png\" style=\"width:500px;height:700px;float:bottom\">\n",
    "\n",
    "&emsp;&emsp;查准率和查全率是一对矛盾的度量,一般来说,查准率高时,查全率往往偏低;而查全率高时,查准率往往偏低.例如,若希望将好瓜\n",
    "尽可能多地选出来,则可通过增加选瓜的数量的实现,如果将所有西瓜都选上,那么所有的好瓜也必然都被选上了,但这样查准率就会比较低;若\n",
    "希望选出的瓜中好瓜比例尽可能高,则可只挑选最有把握的瓜,但这样就难免会漏掉不少好瓜,使得查全率较低.通常只有在一些简单\n",
    "任务中,才可能使查全率和查准率都很高.               \n",
    "&emsp;&emsp;在很多情况下,我们可以根据学习的预测结果对样例进行排序,排在前面的使学习器认为\"最可能\"是正例的样\n",
    "本(样本到超平面的有符号距离中最大的那个),排在最后的则是学习器认为\"最不可能\"是正例的样本(样本到超平面的有符号距离中最小的那个).按此\n",
    "顺序逐个把样本作为正例进行排序,则每次可以计算出当前的查全率,查准率.以查准率为纵轴,查全率为横轴作图,就得到了查准率-查全率曲线,\n",
    "简称\"P-R曲线',显然该曲线的图称为\"P-R图\".  (以信息检索为例,逐条向用户反馈其可能感兴趣的信息,即可计算出查全率,查准率)            \n",
    "\n",
    "<img src=\"../../../Other/img/P-R.png\" style=\"width:700px;height:400px;float:bottom\">\n",
    "\n",
    "&emsp;&emsp;P-R图直观地显示出学习器在样本总体上的查全率,查准率.在进行比较时,若一个学习器的P-R曲线被另一个学习器的曲线完全\"包住\",则可\n",
    "断言后者的性能优于前者,上图中学习器A的性能优于学习器C;如果两个学习器的P-R曲线发生了交叉,例如上图中的A与B,则难以一般行地断言两者\n",
    "孰优孰劣,只能在具体的查准率或查全率条件下进行比较.然后,很多情况下,人们往往仍希望把学习器A与B比出个高低.这时一个比较合理的判据\n",
    "是比较P-R曲线下面积的大小,它在一定程度上表征了学习器在查准率和查全率上取得相对\"双高\"的比例.但这个值不太容易估算,因此,人们\n",
    "设计了一些综合考虑查准率,查全率的性能度量.                 \n",
    "&emsp;&emsp;\"平衡点\"(Break-Even point,简称BEP)就是这样一个度量,它是\"查准率=查全率\"时的取值,例如上图学\n",
    "习器C的BEP是0.64,而基于BEP的比较,可认为学习器A优于B.\n",
    "\n",
    "&emsp;&emsp;然而BEP还是过于简化了些,更常见的是$F1$度量:         \n",
    "\n",
    "$$\n",
    "\\begin{aligned}\n",
    "\\frac{1}{F1} &= \\frac{1}{2} \\cdot(\\frac{1}{P} + \\frac{1}{R})  \\qquad \\longrightarrow P与R的调和平均\\\\\n",
    "F1           &= \\frac{2 \\times P \\times R}{ P + R}  \\\\\n",
    "             &=   \\frac{2 \\times TP}{样例总数 + TP -TN}\n",
    "\\end{aligned}                \n",
    "$$\n",
    "\n",
    "&emsp;&emsp;在一些应用中,对查准率和查全率的重视程度有所不同.例如在商品推荐系统中,为了尽可能少打扰用户,更希望推荐内容是用户\n",
    "感兴趣的,此时查准率更重要;而在逃犯信息检索系统中,更希望尽可能少漏掉逃犯,为此查全率更重要,$F1$度量的一般形式------>$F_{\\beta}$,能让\n",
    "我们表达出对查准率/查全率的不同偏好,它定义为            \n",
    "$$  F_{\\beta} = \\frac{(1 + \\beta^2 \\times P \\times R)}{(\\beta^2 \\times P) +R}  $$               \n",
    "其中$\\beta > 0$,度量了查全率对查准率的相对重要性,$\\beta =1$时退化为标准的$F1$;$\\beta > 1$时查全率有更大影响;$\\beta<1$时查准率有更大影响.              \n",
    "&emsp;&emsp;很多时候我们有多个二分类混淆矩阵,例如进行多次训练/测试,每次得到一个混淆矩阵;或是在多个数据集上进行训练/测试,希望估计算法的\"全局\"性能;或\n",
    "是执行多分类任务,每两两类别的组合都对应一个混淆矩阵;总之,我们希望在$n$个二分类混淆矩阵上综合考察查准率和查全率.                 \n",
    "&emsp;&emsp;一种直接的做法是先在各混淆矩阵上分别计算查准率和查全率,记为$ (P_1, R_1), (P_2, R_2),\\dots (P_n, R_n) $,再计算平均值,这样\n",
    "就得到\"宏查准率\"(macro-P),\"宏查全率\"(macro-R),以及相应的\"宏$F1$\"(macro-$F1$):                           \n",
    "\n",
    "$$\n",
    "\\begin{aligned}\n",
    "\\text{macro-P} &= \\frac{1}{n} \\sum_{i=1}^{n} P_i  \\\\\n",
    "\\text{macro-R} &= \\frac{1}{n} \\sum_{i=1}^{n} r_i  \\\\\n",
    "\\text{macro-F1} &= \\frac{2 \\times \\text{marco-P} \\times \\text{marco-R}}{ \\text{marco-P} + \\text{marco-R}} \n",
    "\\end{aligned}                 \n",
    "$$\n",
    "\n",
    "&emsp;&emsp;还可将各混淆矩阵的相应元素进行平均,得到TP,FP,TN,FN的平均值,分别记为$ \\overline{TP},\\overline{FP},\\overline{TN},\\overline{FN}  $,再基于这\n",
    "些平均值计算出\"微查准率\"(micro-P),\"微查全率\"(micro-R)和\"微$F1$\"(micro-$F1$):             \n",
    "\n",
    "$$\n",
    "\\begin{aligned}\n",
    "\\text{micro-P} &= \\frac{\\overline{TP}}{\\overline{TP} + \\overline{FP}}   \\\\\n",
    "\\text{micro-R} &= \\frac{\\overline{TP}}{\\overline{TP} + \\overline{FN}} \\\\\n",
    "\\text{micro-F1} &= \\frac{2 \\times \\text{micco-P} \\times \\text{micco-R}}{ \\text{micco-P} + \\text{micco-R}} \n",
    "\\end{aligned}\n",
    "$$"
   ]
  }
 ],
 "metadata": {
  "kernelspec": {
   "display_name": "Python 3 (ipykernel)",
   "language": "python",
   "name": "python3"
  },
  "language_info": {
   "codemirror_mode": {
    "name": "ipython",
    "version": 3
   },
   "file_extension": ".py",
   "mimetype": "text/x-python",
   "name": "python",
   "nbconvert_exporter": "python",
   "pygments_lexer": "ipython3",
   "version": "3.8.12"
  },
  "toc": {
   "base_numbering": 1,
   "nav_menu": {},
   "number_sections": true,
   "sideBar": true,
   "skip_h1_title": false,
   "title_cell": "Table of Contents",
   "title_sidebar": "Contents",
   "toc_cell": false,
   "toc_position": {},
   "toc_section_display": true,
   "toc_window_display": false
  },
  "vscode": {
   "interpreter": {
    "hash": "0886a02735466d80c36da7d0d184a8055779d3e497a063b4720b0317b8699033"
   }
  }
 },
 "nbformat": 4,
 "nbformat_minor": 1
}
