{
 "cells": [
  {
   "cell_type": "code",
   "execution_count": 1,
   "metadata": {
    "collapsed": true
   },
   "outputs": [],
   "source": [
    "import re"
   ]
  },
  {
   "cell_type": "code",
   "execution_count": 2,
   "outputs": [
    {
     "name": "stdout",
     "output_type": "stream",
     "text": [
      "电话号码是:  2004-959-559 \n",
      "电话号码是 :  2004959559\n"
     ]
    }
   ],
   "source": [
    "phone = \"2004-959-559 # 这是一个国外电话号码\"\n",
    "\n",
    "# 删除字符串中的Python注释 \n",
    "num = re.sub(r'#.*$', \"\", phone)  # 替换字符串中的匹配项\n",
    "print(\"电话号码是: \", num)\n",
    "\n",
    "# 删除非数字(-)的字符串 \n",
    "num = re.sub(r'\\D', \"\", phone)\n",
    "print(\"电话号码是 : \", num)"
   ],
   "metadata": {
    "collapsed": false,
    "pycharm": {
     "name": "#%%\n"
    }
   }
  },
  {
   "cell_type": "code",
   "execution_count": 3,
   "outputs": [
    {
     "name": "stdout",
     "output_type": "stream",
     "text": [
      "Duanchaoduanmengmeng\n"
     ]
    }
   ],
   "source": [
    "name = 'duanchaoduanmengmeng'\n",
    "\n",
    "correct = re.sub(r\"d\", 'D', name, count=1)\n",
    "# count:模式匹配后替换的最大次数,默认0表示替换所有的匹配\n",
    "\n",
    "print(correct)"
   ],
   "metadata": {
    "collapsed": false,
    "pycharm": {
     "name": "#%%\n"
    }
   }
  },
  {
   "cell_type": "code",
   "execution_count": 4,
   "outputs": [
    {
     "name": "stdout",
     "output_type": "stream",
     "text": [
      "A46G8HFD1134\n"
     ]
    }
   ],
   "source": [
    "import re\n",
    "\n",
    "\n",
    "# 将匹配的数字乘以 2\n",
    "def double(matched):\n",
    "    value = int(matched.group())\n",
    "    return str(value * 2)\n",
    "\n",
    "\n",
    "s = 'A23G4HFD567'\n",
    "print(re.sub('(?P<value>\\d+)', double, s))  # 替换的字符串也可以是一个函数"
   ],
   "metadata": {
    "collapsed": false,
    "pycharm": {
     "name": "#%%\n"
    }
   }
  },
  {
   "cell_type": "code",
   "source": [
    "duan = [True]\n",
    "\n",
    "\n",
    "def hellp(name):\n",
    "    name[0] = False\n",
    "\n",
    "\n",
    "hellp(duan)\n",
    "print(duan)\n"
   ],
   "metadata": {
    "collapsed": false,
    "pycharm": {
     "name": "#%%\n"
    }
   },
   "execution_count": 5,
   "outputs": [
    {
     "name": "stdout",
     "output_type": "stream",
     "text": [
      "[False]\n"
     ]
    }
   ]
  }
 ],
 "metadata": {
  "kernelspec": {
   "display_name": "Python 3",
   "language": "python",
   "name": "python3"
  },
  "language_info": {
   "codemirror_mode": {
    "name": "ipython",
    "version": 2
   },
   "file_extension": ".py",
   "mimetype": "text/x-python",
   "name": "python",
   "nbconvert_exporter": "python",
   "pygments_lexer": "ipython2",
   "version": "2.7.6"
  }
 },
 "nbformat": 4,
 "nbformat_minor": 0
}