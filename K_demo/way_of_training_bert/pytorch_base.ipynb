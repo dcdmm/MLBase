{
 "cells": [
  {
   "cell_type": "code",
   "execution_count": 1,
   "id": "3362a434",
   "metadata": {},
   "outputs": [],
   "source": [
    "import torch\n",
    "import torch.utils.data as Data\n",
    "from datasets import load_from_disk\n",
    "from transformers import BertTokenizer, BertModel\n",
    "import torch.optim as optim\n",
    "import time\n",
    "from sklearn.metrics import accuracy_score\n",
    "import numpy as np\n",
    "import random\n",
    "import copy"
   ]
  },
  {
   "cell_type": "code",
   "execution_count": 2,
   "id": "e4925fbc-8398-4ead-8882-d3314b8969c9",
   "metadata": {},
   "outputs": [
    {
     "data": {
      "text/plain": [
       "DatasetDict({\n",
       "    train: Dataset({\n",
       "        features: ['text', 'label'],\n",
       "        num_rows: 9600\n",
       "    })\n",
       "    validation: Dataset({\n",
       "        features: ['text', 'label'],\n",
       "        num_rows: 1200\n",
       "    })\n",
       "    test: Dataset({\n",
       "        features: ['text', 'label'],\n",
       "        num_rows: 1200\n",
       "    })\n",
       "})"
      ]
     },
     "execution_count": 2,
     "metadata": {},
     "output_type": "execute_result"
    }
   ],
   "source": [
    "dataset = load_from_disk('seamew_ChnSentiCorp/')\n",
    "dataset"
   ]
  },
  {
   "cell_type": "code",
   "execution_count": 3,
   "id": "d209d6f5-e1cf-4228-b4bc-6078da1bb01e",
   "metadata": {},
   "outputs": [],
   "source": [
    "class CFG:\n",
    "    seed = 42\n",
    "    epochs = 5\n",
    "    model_name = \"bert-base-chinese\"\n",
    "    lr = 5e-4\n",
    "    verbose = 100\n",
    "    batch_size = 16"
   ]
  },
  {
   "cell_type": "code",
   "execution_count": 4,
   "id": "71568c97",
   "metadata": {
    "collapsed": false,
    "jupyter": {
     "outputs_hidden": false
    },
    "pycharm": {
     "name": "#%%\n"
    }
   },
   "outputs": [],
   "source": [
    "def set_seed(seed):\n",
    "    \"\"\"PyTorch随机数种子设置大全\"\"\"\n",
    "    np.random.seed(seed)\n",
    "    random.seed(seed)\n",
    "    torch.manual_seed(seed)  # CPU上设置随机种子\n",
    "    if torch.cuda.is_available():\n",
    "        torch.cuda.manual_seed(seed)  # 当前GPU上设置随机种子\n",
    "        # A bool that, if True, causes cuDNN to only use deterministic convolution algorithms.\n",
    "        torch.backends.cudnn.deterministic = True\n",
    "        # torch.cuda.manual_seed_all(seed) # 所有GPU上设置随机种子\n",
    "\n",
    "set_seed(CFG.seed)"
   ]
  },
  {
   "cell_type": "code",
   "execution_count": 5,
   "id": "5265828a",
   "metadata": {
    "collapsed": false,
    "jupyter": {
     "outputs_hidden": false
    },
    "pycharm": {
     "name": "#%%\n"
    }
   },
   "outputs": [
    {
     "data": {
      "text/plain": [
       "device(type='cuda')"
      ]
     },
     "execution_count": 5,
     "metadata": {},
     "output_type": "execute_result"
    }
   ],
   "source": [
    "device = torch.device(\"cuda\" if torch.cuda.is_available() else \"cpu\")\n",
    "device"
   ]
  },
  {
   "cell_type": "code",
   "execution_count": 6,
   "id": "2caa9608",
   "metadata": {
    "collapsed": false,
    "jupyter": {
     "outputs_hidden": false
    },
    "pycharm": {
     "name": "#%%\n"
    }
   },
   "outputs": [
    {
     "name": "stdout",
     "output_type": "stream",
     "text": [
      "选择珠江花园的原因就是方便，有电动扶梯直接到达海边，周围餐馆、食廊、商场、超市、摊位一应俱全。酒店装修一般，但还算整洁。 泳池在大堂的屋顶，因此很小，不过女儿倒是喜欢。 包的早餐是西式的，还算丰富。 服务吗，一般\n",
      "1\n"
     ]
    }
   ],
   "source": [
    "class Dataset(Data.Dataset):\n",
    "    \"\"\"定义数据集\"\"\"\n",
    "\n",
    "    def __init__(self, data, split):\n",
    "        self.dataset = data[split]\n",
    "\n",
    "    def __len__(self):\n",
    "        return len(self.dataset)\n",
    "\n",
    "    def __getitem__(self, i):\n",
    "        \"\"\"定义索引方式\"\"\"\n",
    "        text = self.dataset[i]['text']\n",
    "        label = self.dataset[i]['label']\n",
    "        return text, label\n",
    "\n",
    "\n",
    "dataset_train = Dataset(dataset, 'train')  # torch.utils.data.Dataset\n",
    "\n",
    "for text, label in dataset_train:\n",
    "    # 调用__getitem__方法\n",
    "    print(text)\n",
    "    print(label)\n",
    "    break"
   ]
  },
  {
   "cell_type": "code",
   "execution_count": 7,
   "id": "e70a58c6",
   "metadata": {},
   "outputs": [
    {
     "name": "stdout",
     "output_type": "stream",
     "text": [
      "['input_ids', 'token_type_ids', 'attention_mask']\n",
      "BertTokenizer(name_or_path='bert-base-chinese', vocab_size=21128, model_max_length=512, is_fast=False, padding_side='right', truncation_side='right', special_tokens={'unk_token': '[UNK]', 'sep_token': '[SEP]', 'pad_token': '[PAD]', 'cls_token': '[CLS]', 'mask_token': '[MASK]'}, clean_up_tokenization_spaces=True)\n"
     ]
    },
    {
     "name": "stderr",
     "output_type": "stream",
     "text": [
      "Some weights of the model checkpoint at bert-base-chinese were not used when initializing BertModel: ['cls.predictions.transform.dense.bias', 'cls.seq_relationship.bias', 'cls.predictions.bias', 'cls.predictions.decoder.weight', 'cls.predictions.transform.LayerNorm.weight', 'cls.predictions.transform.dense.weight', 'cls.predictions.transform.LayerNorm.bias', 'cls.seq_relationship.weight']\n",
      "- This IS expected if you are initializing BertModel from the checkpoint of a model trained on another task or with another architecture (e.g. initializing a BertForSequenceClassification model from a BertForPreTraining model).\n",
      "- This IS NOT expected if you are initializing BertModel from the checkpoint of a model that you expect to be exactly identical (initializing a BertForSequenceClassification model from a BertForSequenceClassification model).\n"
     ]
    },
    {
     "name": "stdout",
     "output_type": "stream",
     "text": [
      "102267648\n"
     ]
    }
   ],
   "source": [
    "tokenizer = BertTokenizer.from_pretrained(CFG.model_name)\n",
    "print(tokenizer.model_input_names)\n",
    "print(tokenizer)\n",
    "\n",
    "pretrained = BertModel.from_pretrained(CFG.model_name)\n",
    "print(pretrained.num_parameters())\n",
    "\n",
    "# 冻结网络层参数(不进行梯度更新)\n",
    "for param in pretrained.parameters():\n",
    "    param.requires_grad = False"
   ]
  },
  {
   "cell_type": "code",
   "execution_count": 8,
   "id": "ff0bd2f2",
   "metadata": {
    "collapsed": false,
    "jupyter": {
     "outputs_hidden": false
    },
    "pycharm": {
     "name": "#%%\n"
    }
   },
   "outputs": [
    {
     "name": "stdout",
     "output_type": "stream",
     "text": [
      "600\n",
      "tensor([[ 101, 1599, 3614,  ...,    0,    0,    0],\n",
      "        [ 101, 2218, 3221,  ...,    0,    0,    0],\n",
      "        [ 101, 3193, 7623,  ...,    0,    0,    0],\n",
      "        ...,\n",
      "        [ 101, 2190,  754,  ...,    0,    0,    0],\n",
      "        [ 101, 2242, 2391,  ...,    0,    0,    0],\n",
      "        [ 101, 6163, 5143,  ...,    0,    0,    0]])\n",
      "torch.Size([16, 512])\n",
      "tensor([[1, 1, 1,  ..., 0, 0, 0],\n",
      "        [1, 1, 1,  ..., 0, 0, 0],\n",
      "        [1, 1, 1,  ..., 0, 0, 0],\n",
      "        ...,\n",
      "        [1, 1, 1,  ..., 0, 0, 0],\n",
      "        [1, 1, 1,  ..., 0, 0, 0],\n",
      "        [1, 1, 1,  ..., 0, 0, 0]])\n",
      "tensor([[0, 0, 0,  ..., 0, 0, 0],\n",
      "        [0, 0, 0,  ..., 0, 0, 0],\n",
      "        [0, 0, 0,  ..., 0, 0, 0],\n",
      "        ...,\n",
      "        [0, 0, 0,  ..., 0, 0, 0],\n",
      "        [0, 0, 0,  ..., 0, 0, 0],\n",
      "        [0, 0, 0,  ..., 0, 0, 0]])\n",
      "tensor([1, 1, 1, 0, 0, 1, 0, 0, 1, 1, 0, 1, 1, 0, 1, 0])\n",
      "torch.Size([16, 512, 768])\n"
     ]
    }
   ],
   "source": [
    "def get_collate_fn(tokenizer, max_len=512):\n",
    "    \"\"\"返回collate_fun函数(通过闭包函数引入形参)\"\"\"\n",
    "\n",
    "    def collate_fn(data):\n",
    "        sents = [i[0] for i in data]\n",
    "        labels = [i[1] for i in data]\n",
    "\n",
    "        # 批量编码句子\n",
    "        text_t = tokenizer(text=sents,\n",
    "                           truncation=True,\n",
    "                           padding='max_length',\n",
    "                           max_length=max_len,\n",
    "                           return_token_type_ids=True,\n",
    "                           return_attention_mask=True,\n",
    "                           return_tensors='pt')\n",
    "\n",
    "        input_ids = text_t['input_ids']\n",
    "        attention_mask = text_t['attention_mask']\n",
    "        token_type_ids = text_t['token_type_ids']\n",
    "        labels = torch.LongTensor(labels)\n",
    "        return input_ids, attention_mask, token_type_ids, labels\n",
    "\n",
    "    return collate_fn\n",
    "\n",
    "\n",
    "# 数据处理\n",
    "dataloader_valid = torch.utils.data.DataLoader(dataset=Dataset(dataset, 'validation'),\n",
    "                                               batch_size=CFG.batch_size,\n",
    "                                               collate_fn=get_collate_fn(tokenizer))\n",
    "\n",
    "dataloader_train = torch.utils.data.DataLoader(dataset=dataset_train,\n",
    "                                               batch_size=CFG.batch_size,\n",
    "                                               collate_fn=get_collate_fn(tokenizer),\n",
    "                                               shuffle=True,\n",
    "                                               drop_last=False)\n",
    "\n",
    "print(len(dataloader_train))\n",
    "\n",
    "for i, (input_ids, attention_mask, token_type_ids, labels) in enumerate(dataloader_train):\n",
    "    print(input_ids)\n",
    "    print(input_ids.shape)\n",
    "    print(attention_mask)\n",
    "    print(token_type_ids)\n",
    "    print(labels)\n",
    "    model_result = pretrained(input_ids=input_ids,\n",
    "                              attention_mask=attention_mask,\n",
    "                              token_type_ids=token_type_ids)\n",
    "    print(model_result.last_hidden_state.shape)\n",
    "    break"
   ]
  },
  {
   "cell_type": "code",
   "execution_count": 9,
   "id": "0b3d1ee2",
   "metadata": {
    "collapsed": false,
    "jupyter": {
     "outputs_hidden": false
    },
    "pycharm": {
     "name": "#%%\n"
    }
   },
   "outputs": [],
   "source": [
    "class Model(torch.nn.Module):\n",
    "    \"\"\"下游训练任务模型\"\"\"\n",
    "\n",
    "    def __init__(self, pretrained_model):\n",
    "        super().__init__()\n",
    "        self.fc = torch.nn.Linear(768, 2)  # 二分类任务\n",
    "        self.pretrained = pretrained_model\n",
    "\n",
    "    def forward(self, input_ids, attention_mask, token_type_ids):\n",
    "        out = self.pretrained(input_ids=input_ids,\n",
    "                              attention_mask=attention_mask,\n",
    "                              token_type_ids=token_type_ids)\n",
    "\n",
    "        out = self.fc(out.pooler_output)\n",
    "        out = out.softmax(dim=1)  # 模型预测值\n",
    "        return out"
   ]
  },
  {
   "cell_type": "code",
   "execution_count": 10,
   "id": "6325f821",
   "metadata": {
    "collapsed": false,
    "jupyter": {
     "outputs_hidden": false
    },
    "pycharm": {
     "name": "#%%\n"
    }
   },
   "outputs": [],
   "source": [
    "# 损失函数\n",
    "criterion_cross_entropy = torch.nn.CrossEntropyLoss()\n",
    "\n",
    "model_bert_base = Model(copy.deepcopy(pretrained))  # 必须进行深拷贝(pretrained(模型子网络结构)会参与梯度更新)\n",
    "model_bert_base = model_bert_base.to(device)  # 模型设备切换\n",
    "\n",
    "# 优化器\n",
    "optimizer_adamw = optim.AdamW(model_bert_base.parameters(), lr=CFG.lr)  # 模型设备切换必须在优化器定义前执行"
   ]
  },
  {
   "cell_type": "code",
   "execution_count": 11,
   "id": "a3b30077-cf75-4d9c-80a0-b0ad26cd9372",
   "metadata": {},
   "outputs": [],
   "source": [
    "# 模型训练\n",
    "def train(model, dataloader, criterion, optimizer, device):\n",
    "    model.train()\n",
    "\n",
    "    for idx, (input_ids, attention_mask, token_type_ids, labels) in enumerate(dataloader):\n",
    "        # 数据设备切换\n",
    "        input_ids = input_ids.to(device)\n",
    "        attention_mask = attention_mask.to(device)\n",
    "        token_type_ids = token_type_ids.to(device)\n",
    "        labels = labels.to(device)\n",
    "\n",
    "        optimizer.zero_grad()\n",
    "        out = model(input_ids=input_ids,\n",
    "                    attention_mask=attention_mask,\n",
    "                    token_type_ids=token_type_ids)\n",
    "        loss = criterion(out, labels)  # 损失值\n",
    "        loss.backward()\n",
    "        optimizer.step()\n",
    "\n",
    "        if idx % CFG.verbose == 0 and idx > 0:\n",
    "            predict = out.argmax(dim=1).cpu().numpy()\n",
    "            accuracy = accuracy_score(labels.cpu().numpy(), predict)  # 评估指标\n",
    "            print('| step {:5d} | loss {:8.5f} | accuracy {:8.5f} |'.format(idx, loss.item(), accuracy))"
   ]
  },
  {
   "cell_type": "code",
   "execution_count": 12,
   "id": "275dd1b6",
   "metadata": {},
   "outputs": [],
   "source": [
    "# 模型验证\n",
    "def evaluate(model, dataloader, device):\n",
    "    model.eval()\n",
    "\n",
    "    predict_list = []\n",
    "    y_true_list = []\n",
    "    with torch.no_grad():\n",
    "        for input_ids, attention_mask, token_type_ids, labels in dataloader:\n",
    "            # 数据设备切换\n",
    "            input_ids = input_ids.to(device)\n",
    "            attention_mask = attention_mask.to(device)\n",
    "            token_type_ids = token_type_ids.to(device)\n",
    "            out = model(input_ids=input_ids,\n",
    "                        attention_mask=attention_mask,\n",
    "                        token_type_ids=token_type_ids)\n",
    "            predict_list.append(out.cpu())\n",
    "            y_true_list.extend(labels.tolist())\n",
    "\n",
    "    predict_all = torch.cat(predict_list, dim=0)  # 合并所有批次的预测结果\n",
    "    y_true_all = torch.tensor(y_true_list)\n",
    "    accuracy = accuracy_score(y_true_all.numpy(), predict_all.argmax(dim=1).numpy())  # 评估指标\n",
    "    return accuracy"
   ]
  },
  {
   "cell_type": "code",
   "execution_count": 13,
   "id": "dc7c4cd6-0704-40d9-8440-dd8f04777b3a",
   "metadata": {},
   "outputs": [
    {
     "name": "stdout",
     "output_type": "stream",
     "text": [
      "| step   100 | loss  0.64576 | accuracy  0.62500 |\n",
      "| step   200 | loss  0.49378 | accuracy  0.81250 |\n",
      "| step   300 | loss  0.49802 | accuracy  0.87500 |\n",
      "| step   400 | loss  0.66452 | accuracy  0.56250 |\n",
      "| step   500 | loss  0.53502 | accuracy  0.75000 |\n",
      "---------------------------------------------------------------\n",
      "| end of epoch     1 | time: 46.39s | valid accuracy  0.83000 |\n",
      "---------------------------------------------------------------\n",
      "| step   100 | loss  0.52727 | accuracy  0.81250 |\n",
      "| step   200 | loss  0.48297 | accuracy  0.87500 |\n",
      "| step   300 | loss  0.49245 | accuracy  0.81250 |\n",
      "| step   400 | loss  0.42374 | accuracy  0.87500 |\n",
      "| step   500 | loss  0.47599 | accuracy  0.81250 |\n",
      "---------------------------------------------------------------\n",
      "| end of epoch     2 | time: 46.29s | valid accuracy  0.83333 |\n",
      "---------------------------------------------------------------\n",
      "| step   100 | loss  0.48862 | accuracy  0.87500 |\n",
      "| step   200 | loss  0.44639 | accuracy  0.81250 |\n",
      "| step   300 | loss  0.43262 | accuracy  0.87500 |\n",
      "| step   400 | loss  0.48903 | accuracy  0.75000 |\n",
      "| step   500 | loss  0.48210 | accuracy  0.87500 |\n",
      "---------------------------------------------------------------\n",
      "| end of epoch     3 | time: 46.37s | valid accuracy  0.84500 |\n",
      "---------------------------------------------------------------\n",
      "| step   100 | loss  0.47593 | accuracy  0.81250 |\n",
      "| step   200 | loss  0.38273 | accuracy  0.93750 |\n",
      "| step   300 | loss  0.49170 | accuracy  0.87500 |\n",
      "| step   400 | loss  0.57202 | accuracy  0.75000 |\n",
      "| step   500 | loss  0.40627 | accuracy  0.87500 |\n",
      "---------------------------------------------------------------\n",
      "| end of epoch     4 | time: 46.42s | valid accuracy  0.85333 |\n",
      "---------------------------------------------------------------\n",
      "| step   100 | loss  0.61730 | accuracy  0.62500 |\n",
      "| step   200 | loss  0.46729 | accuracy  0.81250 |\n",
      "| step   300 | loss  0.46608 | accuracy  0.81250 |\n",
      "| step   400 | loss  0.40010 | accuracy  0.93750 |\n",
      "| step   500 | loss  0.39543 | accuracy  0.93750 |\n",
      "---------------------------------------------------------------\n",
      "| end of epoch     5 | time: 46.46s | valid accuracy  0.86167 |\n",
      "---------------------------------------------------------------\n"
     ]
    }
   ],
   "source": [
    "for epoch in range(1, CFG.epochs + 1):\n",
    "    epoch_start_time = time.time()\n",
    "    \n",
    "    train(model_bert_base, dataloader_train, criterion_cross_entropy, optimizer_adamw, device)\n",
    "    accu_val = evaluate(model_bert_base, dataloader_valid, device)\n",
    "    \n",
    "    print('-' * 63)\n",
    "    print('| end of epoch {:5d} | time: {:5.2f}s | '\n",
    "          'valid accuracy {:8.5f} |'.format(epoch,\n",
    "                                            time.time() - epoch_start_time,\n",
    "                                            accu_val))\n",
    "    print('-' * 63)"
   ]
  }
 ],
 "metadata": {
  "kernelspec": {
   "display_name": "torch13",
   "language": "python",
   "name": "torch13"
  },
  "language_info": {
   "codemirror_mode": {
    "name": "ipython",
    "version": 3
   },
   "file_extension": ".py",
   "mimetype": "text/x-python",
   "name": "python",
   "nbconvert_exporter": "python",
   "pygments_lexer": "ipython3",
   "version": "3.8.15"
  }
 },
 "nbformat": 4,
 "nbformat_minor": 5
}
