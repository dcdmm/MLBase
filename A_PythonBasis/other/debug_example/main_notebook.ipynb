{
 "cells": [
  {
   "cell_type": "code",
   "execution_count": 2,
   "id": "initial_id",
   "metadata": {
    "collapsed": true,
    "ExecuteTime": {
     "end_time": "2024-01-02T08:55:24.457199400Z",
     "start_time": "2024-01-02T08:55:24.405131700Z"
    }
   },
   "outputs": [
    {
     "name": "stdout",
     "output_type": "stream",
     "text": [
      "   A\n",
      "0  5\n",
      "1  5\n",
      "2  5\n",
      "3  5\n",
      "4  5\n",
      "5  5\n",
      "6  5\n",
      "7  5\n",
      "8  4\n"
     ]
    }
   ],
   "source": [
    "import pandas as pd\n",
    "import numpy as np\n",
    "\n",
    "from utilty import square_xy, map_x\n",
    "\n",
    "\n",
    "def sum_xy(x, y):\n",
    "    z = x + y\n",
    "    return z\n",
    "\n",
    "\n",
    "def debug_t(lst0, lst1):\n",
    "    shape0 = len(lst0)\n",
    "    shape1 = len(lst1)\n",
    "    new_lst0, new_lst1 = [], []\n",
    "    for i in range(shape0):\n",
    "        for j in range(shape1):\n",
    "            new_lst0.append(square_xy(lst0[i], lst1[j]))\n",
    "            new_lst1.append(sum_xy(lst0[i], lst1[j]))\n",
    "    new_array0 = np.array(new_lst0)\n",
    "    new_array0 = np.diff(new_array0)\n",
    "    new_df0 = pd.DataFrame(new_array0)\n",
    "    new_df1 = pd.DataFrame(new_lst1)\n",
    "    result = new_df0 + new_df1\n",
    "    result.columns = [\"A\"]\n",
    "    last_result = result.map(map_x)\n",
    "    return last_result\n",
    "\n",
    "\n",
    "lst0 = [1, 2, 3]\n",
    "lst1 = [-3, -2, -1]\n",
    "print(debug_t(lst0, lst1))"
   ]
  }
 ],
 "metadata": {
  "kernelspec": {
   "display_name": "Python 3",
   "language": "python",
   "name": "python3"
  },
  "language_info": {
   "codemirror_mode": {
    "name": "ipython",
    "version": 3
   },
   "file_extension": ".py",
   "mimetype": "text/x-python",
   "name": "python",
   "nbconvert_exporter": "python",
   "pygments_lexer": "ipython3",
   "version": "3.10.12"
  }
 },
 "nbformat": 4,
 "nbformat_minor": 5
}
