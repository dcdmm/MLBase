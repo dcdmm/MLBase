{
 "cells": [
  {
   "cell_type": "markdown",
   "source": [
    "<font color='red' size=4>定义:</font>   \n",
    "&emsp;&emsp;$ {s^2} = \\frac{{\\sum\\limits_{i = 1}^n {{{({x_i} - \\bar x)}^2}} }}{{n - 1}} $样本方差$s^2$是对总体方差$ \\sigma^{2} $的\n",
    "无偏估计,之所以$ s^2 $中的分母要用$ n-1 $,而不是像总体方差那样用$ n $,这是因为$ (x_{i}-\\bar{x}) $的自由度为$ n-1 $,这是由于存在\n",
    "约束条件$ \\sum_{i=1}^{n}(x_{i}-\\bar{x})^2 =0$  \n",
    "\n",
    "<font color='red' size=4>证明:</font>     \n",
    "\\begin{align}\n",
    "E(s^2) &= E(\\frac{1}{n-1} \\sum_{i=1}^n (x_i - \\bar{x})^2 )  \\\\\n",
    "       &= \\frac{1}{n-1}E(\\sum_{i=1}^{n}x_i^2 - n\\bar{x}^2) \\\\\n",
    "       &= \\frac{1}{n-1}(\\sum_{i=1}^nE(x_i^2) - nE(\\bar{x}^2)) \\\\\n",
    "       &= \\frac{1}{n-1}(\\sum_{i=1}^{n} \\big[D(x_i) + E^2(x_i) \\big] - n\\big[  D(\\bar{x}) + E^2(\\bar{x}) \\big]) \\\\\n",
    "       &= \\frac{1}{n-1} (\\sum_{i=1}^n[\\sigma^2 + \\mu^2] - n[\\frac{1}{n}\\sigma^2 + \\mu^2]) \\\\\n",
    "       &= \\sigma^2\n",
    "\\end{align}      \n",
    "这里利用了$ \\bar{x} \\sim N(u, \\frac{1}{n}\\sigma^2) $\n",
    "\n",
    "\n",
    "<font color='red' size=4>性质:</font>\n",
    "1. $ Var(aX + b) = a^2 Var X$\n",
    "1. $ Var(aX + bY) = a^2 VarX + b^2 VarY + 2abCov(X, Y)$"
   ],
   "metadata": {
    "pycharm": {
     "metadata": false,
     "name": "#%% md\n"
    }
   }
  },
  {
   "cell_type": "code",
   "execution_count": 1,
   "metadata": {
    "collapsed": true,
    "pycharm": {
     "is_executing": false
    }
   },
   "outputs": [],
   "source": [
    "import numpy as np\n",
    "import pandas as pd"
   ]
  },
  {
   "cell_type": "code",
   "execution_count": 2,
   "outputs": [
    {
     "data": {
      "text/plain": "array([[1, 2],\n       [3, 4]])"
     },
     "metadata": {},
     "output_type": "execute_result",
     "execution_count": 2
    }
   ],
   "source": [
    "a = np.array([[1, 2], [3, 4]])\n",
    "a"
   ],
   "metadata": {
    "pycharm": {
     "metadata": false,
     "name": "#%%\n",
     "is_executing": false
    }
   }
  },
  {
   "cell_type": "code",
   "execution_count": 3,
   "outputs": [
    {
     "data": {
      "text/plain": "1.6666666666666667"
     },
     "metadata": {},
     "output_type": "execute_result",
     "execution_count": 3
    }
   ],
   "source": [
    "np.var(a, ddof=1) # numpy默认用n来计算方差,为了得到无偏的样本方差,须设置ddof=1"
   ],
   "metadata": {
    "pycharm": {
     "metadata": false,
     "name": "#%%\n",
     "is_executing": false
    }
   }
  },
  {
   "cell_type": "code",
   "execution_count": 4,
   "outputs": [
    {
     "data": {
      "text/plain": "array([2., 2.])"
     },
     "metadata": {},
     "output_type": "execute_result",
     "execution_count": 4
    }
   ],
   "source": [
    "np.var(a, axis=0, ddof=1) # 计算沿指定轴的方差"
   ],
   "metadata": {
    "pycharm": {
     "metadata": false,
     "name": "#%%\n",
     "is_executing": false
    }
   }
  },
  {
   "cell_type": "code",
   "execution_count": 5,
   "outputs": [
    {
     "name": "stdout",
     "text": [
      "    one  two\na  1.40  NaN\nb  7.10 -4.5\nc   NaN  NaN\nd  0.75 -1.3\n\na         NaN\nb    67.28000\nc         NaN\nd     2.10125\ndtype: float64\n\na         NaN\nb    67.28000\nc         NaN\nd     2.10125\ndtype: float64\n"
     ],
     "output_type": "stream"
    }
   ],
   "source": [
    "df = pd.DataFrame([[1.4, np.nan], [7.1, -4.5],\n",
    "                   [np.nan, np.nan], [0.75, -1.3]],\n",
    "                  index=['a', 'b', 'c', 'd'],\n",
    "                  columns=['one', 'two'])\n",
    "print(df, end='\\n\\n')\n",
    "print(df.var(axis=1), end='\\n\\n') # pands方差计算方差(默认ddof=1)\n",
    "print(np.var(df, ddof=1, axis=1))"
   ],
   "metadata": {
    "pycharm": {
     "metadata": false,
     "name": "#%%\n",
     "is_executing": false
    }
   }
  },
  {
   "cell_type": "code",
   "execution_count": 6,
   "outputs": [
    {
     "data": {
      "text/plain": "1.6666666666666667"
     },
     "metadata": {},
     "output_type": "execute_result",
     "execution_count": 6
    }
   ],
   "source": [
    "np.var(a, ddof=1)"
   ],
   "metadata": {
    "pycharm": {
     "metadata": false,
     "name": "#%%\n",
     "is_executing": false
    }
   }
  },
  {
   "cell_type": "code",
   "execution_count": 7,
   "outputs": [
    {
     "name": "stdout",
     "text": [
      "2\n"
     ],
     "output_type": "stream"
    }
   ],
   "source": [],
   "metadata": {
    "collapsed": false,
    "pycharm": {
     "name": "#%%",
     "is_executing": false
    }
   }
  }
 ],
 "metadata": {
  "language_info": {
   "codemirror_mode": {
    "name": "ipython",
    "version": 2
   },
   "file_extension": ".py",
   "mimetype": "text/x-python",
   "name": "python",
   "nbconvert_exporter": "python",
   "pygments_lexer": "ipython2",
   "version": "2.7.6"
  },
  "kernelspec": {
   "name": "python3",
   "language": "python",
   "display_name": "Python 3"
  },
  "stem_cell": {
   "cell_type": "raw",
   "source": "",
   "metadata": {
    "pycharm": {
     "metadata": false
    }
   }
  }
 },
 "nbformat": 4,
 "nbformat_minor": 0
}