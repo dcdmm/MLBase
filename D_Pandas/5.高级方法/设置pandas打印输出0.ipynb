{
 "cells": [
  {
   "cell_type": "markdown",
   "source": [
    "## 设置打印输出\n",
    "1. display.max_columns\n",
    "2. display.max_rows\n",
    "3. display.precision\n",
    "4. display.colheader_justify"
   ],
   "metadata": {
    "pycharm": {
     "metadata": false,
     "name": "#%% md\n"
    }
   }
  },
  {
   "cell_type": "code",
   "execution_count": 12,
   "metadata": {
    "collapsed": true,
    "pycharm": {
     "is_executing": false
    }
   },
   "outputs": [],
   "source": [
    "import seaborn as sns\n",
    "import pandas as pd\n",
    "# set_options作用于整个.ipynb文件"
   ]
  },
  {
   "cell_type": "code",
   "execution_count": 13,
   "outputs": [],
   "source": [
    "# 显示的最大列数(参数设置为None代表显示所有列,也可以自行设置数字)\n",
    "pd.set_option('display.max_columns', 3) "
   ],
   "metadata": {
    "pycharm": {
     "metadata": false,
     "name": "#%%\n",
     "is_executing": false
    }
   }
  },
  {
   "cell_type": "code",
   "execution_count": 14,
   "outputs": [],
   "source": "# 显示的最大行数(参数设置为None代表显示所有行，也可以自行设置数字)\npd.set_option('display.max_rows', 10)",
   "metadata": {
    "pycharm": {
     "metadata": false,
     "name": "#%%\n",
     "is_executing": false
    }
   }
  },
  {
   "cell_type": "code",
   "execution_count": 15,
   "outputs": [],
   "source": "# 小数位数设置输出显示精度\npd.set_option('display.precision', 3) # n是要显示的精度，应该是一个整数",
   "metadata": {
    "pycharm": {
     "metadata": false,
     "name": "#%%\n",
     "is_executing": false
    }
   }
  },
  {
   "cell_type": "code",
   "execution_count": 16,
   "outputs": [],
   "source": "# 控制列标题的对齐方式\npd.set_option('display.colheader_justify', 'right')  #right/left/center",
   "metadata": {
    "pycharm": {
     "metadata": false,
     "name": "#%%\n",
     "is_executing": false
    }
   }
  },
  {
   "cell_type": "code",
   "execution_count": 17,
   "outputs": [
    {
     "data": {
      "text/plain": "     survived  ...  alone\n0           0  ...  False\n1           1  ...  False\n2           1  ...   True\n3           1  ...  False\n4           0  ...   True\n..        ...  ...    ...\n886         0  ...   True\n887         1  ...   True\n888         0  ...  False\n889         1  ...   True\n890         0  ...   True\n\n[891 rows x 15 columns]",
      "text/html": "<div>\n<style scoped>\n    .dataframe tbody tr th:only-of-type {\n        vertical-align: middle;\n    }\n\n    .dataframe tbody tr th {\n        vertical-align: top;\n    }\n\n    .dataframe thead th {\n        text-align: right;\n    }\n</style>\n<table border=\"1\" class=\"dataframe\">\n  <thead>\n    <tr style=\"text-align: right;\">\n      <th></th>\n      <th>survived</th>\n      <th>...</th>\n      <th>alone</th>\n    </tr>\n  </thead>\n  <tbody>\n    <tr>\n      <th>0</th>\n      <td>0</td>\n      <td>...</td>\n      <td>False</td>\n    </tr>\n    <tr>\n      <th>1</th>\n      <td>1</td>\n      <td>...</td>\n      <td>False</td>\n    </tr>\n    <tr>\n      <th>2</th>\n      <td>1</td>\n      <td>...</td>\n      <td>True</td>\n    </tr>\n    <tr>\n      <th>3</th>\n      <td>1</td>\n      <td>...</td>\n      <td>False</td>\n    </tr>\n    <tr>\n      <th>4</th>\n      <td>0</td>\n      <td>...</td>\n      <td>True</td>\n    </tr>\n    <tr>\n      <th>...</th>\n      <td>...</td>\n      <td>...</td>\n      <td>...</td>\n    </tr>\n    <tr>\n      <th>886</th>\n      <td>0</td>\n      <td>...</td>\n      <td>True</td>\n    </tr>\n    <tr>\n      <th>887</th>\n      <td>1</td>\n      <td>...</td>\n      <td>True</td>\n    </tr>\n    <tr>\n      <th>888</th>\n      <td>0</td>\n      <td>...</td>\n      <td>False</td>\n    </tr>\n    <tr>\n      <th>889</th>\n      <td>1</td>\n      <td>...</td>\n      <td>True</td>\n    </tr>\n    <tr>\n      <th>890</th>\n      <td>0</td>\n      <td>...</td>\n      <td>True</td>\n    </tr>\n  </tbody>\n</table>\n<p>891 rows × 15 columns</p>\n</div>"
     },
     "metadata": {},
     "output_type": "execute_result",
     "execution_count": 17
    }
   ],
   "source": "titanic = sns.load_dataset(\"titanic\")\ntitanic",
   "metadata": {
    "pycharm": {
     "metadata": false,
     "name": "#%% \n",
     "is_executing": false
    }
   }
  },
  {
   "cell_type": "code",
   "execution_count": 18,
   "outputs": [
    {
     "data": {
      "text/plain": "     total_bill  ...  size\n0         16.99  ...     2\n1         10.34  ...     3\n2         21.01  ...     3\n3         23.68  ...     2\n4         24.59  ...     4\n..          ...  ...   ...\n239       29.03  ...     3\n240       27.18  ...     2\n241       22.67  ...     2\n242       17.82  ...     2\n243       18.78  ...     2\n\n[244 rows x 7 columns]",
      "text/html": "<div>\n<style scoped>\n    .dataframe tbody tr th:only-of-type {\n        vertical-align: middle;\n    }\n\n    .dataframe tbody tr th {\n        vertical-align: top;\n    }\n\n    .dataframe thead th {\n        text-align: right;\n    }\n</style>\n<table border=\"1\" class=\"dataframe\">\n  <thead>\n    <tr style=\"text-align: right;\">\n      <th></th>\n      <th>total_bill</th>\n      <th>...</th>\n      <th>size</th>\n    </tr>\n  </thead>\n  <tbody>\n    <tr>\n      <th>0</th>\n      <td>16.99</td>\n      <td>...</td>\n      <td>2</td>\n    </tr>\n    <tr>\n      <th>1</th>\n      <td>10.34</td>\n      <td>...</td>\n      <td>3</td>\n    </tr>\n    <tr>\n      <th>2</th>\n      <td>21.01</td>\n      <td>...</td>\n      <td>3</td>\n    </tr>\n    <tr>\n      <th>3</th>\n      <td>23.68</td>\n      <td>...</td>\n      <td>2</td>\n    </tr>\n    <tr>\n      <th>4</th>\n      <td>24.59</td>\n      <td>...</td>\n      <td>4</td>\n    </tr>\n    <tr>\n      <th>...</th>\n      <td>...</td>\n      <td>...</td>\n      <td>...</td>\n    </tr>\n    <tr>\n      <th>239</th>\n      <td>29.03</td>\n      <td>...</td>\n      <td>3</td>\n    </tr>\n    <tr>\n      <th>240</th>\n      <td>27.18</td>\n      <td>...</td>\n      <td>2</td>\n    </tr>\n    <tr>\n      <th>241</th>\n      <td>22.67</td>\n      <td>...</td>\n      <td>2</td>\n    </tr>\n    <tr>\n      <th>242</th>\n      <td>17.82</td>\n      <td>...</td>\n      <td>2</td>\n    </tr>\n    <tr>\n      <th>243</th>\n      <td>18.78</td>\n      <td>...</td>\n      <td>2</td>\n    </tr>\n  </tbody>\n</table>\n<p>244 rows × 7 columns</p>\n</div>"
     },
     "metadata": {},
     "output_type": "execute_result",
     "execution_count": 18
    }
   ],
   "source": "tips = sns.load_dataset(\"tips\")\ntips",
   "metadata": {
    "pycharm": {
     "metadata": false,
     "name": "#%%\n",
     "is_executing": false
    }
   }
  },
  {
   "cell_type": "code",
   "execution_count": 19,
   "outputs": [],
   "source": "pd.reset_option('display.precision') # 将一个或多个选项重置为其默认值",
   "metadata": {
    "pycharm": {
     "metadata": false,
     "name": "#%%\n",
     "is_executing": false
    }
   }
  },
  {
   "cell_type": "code",
   "execution_count": 20,
   "outputs": [
    {
     "data": {
      "text/plain": "     total_bill  ...  size\n0         16.99  ...     2\n1         10.34  ...     3\n2         21.01  ...     3\n3         23.68  ...     2\n4         24.59  ...     4\n..          ...  ...   ...\n239       29.03  ...     3\n240       27.18  ...     2\n241       22.67  ...     2\n242       17.82  ...     2\n243       18.78  ...     2\n\n[244 rows x 7 columns]",
      "text/html": "<div>\n<style scoped>\n    .dataframe tbody tr th:only-of-type {\n        vertical-align: middle;\n    }\n\n    .dataframe tbody tr th {\n        vertical-align: top;\n    }\n\n    .dataframe thead th {\n        text-align: right;\n    }\n</style>\n<table border=\"1\" class=\"dataframe\">\n  <thead>\n    <tr style=\"text-align: right;\">\n      <th></th>\n      <th>total_bill</th>\n      <th>...</th>\n      <th>size</th>\n    </tr>\n  </thead>\n  <tbody>\n    <tr>\n      <th>0</th>\n      <td>16.99</td>\n      <td>...</td>\n      <td>2</td>\n    </tr>\n    <tr>\n      <th>1</th>\n      <td>10.34</td>\n      <td>...</td>\n      <td>3</td>\n    </tr>\n    <tr>\n      <th>2</th>\n      <td>21.01</td>\n      <td>...</td>\n      <td>3</td>\n    </tr>\n    <tr>\n      <th>3</th>\n      <td>23.68</td>\n      <td>...</td>\n      <td>2</td>\n    </tr>\n    <tr>\n      <th>4</th>\n      <td>24.59</td>\n      <td>...</td>\n      <td>4</td>\n    </tr>\n    <tr>\n      <th>...</th>\n      <td>...</td>\n      <td>...</td>\n      <td>...</td>\n    </tr>\n    <tr>\n      <th>239</th>\n      <td>29.03</td>\n      <td>...</td>\n      <td>3</td>\n    </tr>\n    <tr>\n      <th>240</th>\n      <td>27.18</td>\n      <td>...</td>\n      <td>2</td>\n    </tr>\n    <tr>\n      <th>241</th>\n      <td>22.67</td>\n      <td>...</td>\n      <td>2</td>\n    </tr>\n    <tr>\n      <th>242</th>\n      <td>17.82</td>\n      <td>...</td>\n      <td>2</td>\n    </tr>\n    <tr>\n      <th>243</th>\n      <td>18.78</td>\n      <td>...</td>\n      <td>2</td>\n    </tr>\n  </tbody>\n</table>\n<p>244 rows × 7 columns</p>\n</div>"
     },
     "metadata": {},
     "output_type": "execute_result",
     "execution_count": 20
    }
   ],
   "source": "tips",
   "metadata": {
    "pycharm": {
     "metadata": false,
     "name": "#%%\n",
     "is_executing": false
    }
   }
  },
  {
   "cell_type": "code",
   "execution_count": 21,
   "outputs": [
    {
     "name": "stdout",
     "text": [
      "     total_bill  ...  size\n0         16.99  ...     2\n1         10.34  ...     3\n2         21.01  ...     3\n3         23.68  ...     2\n4         24.59  ...     4\n5         25.29  ...     4\n6          8.77  ...     2\n7         26.88  ...     4\n8         15.04  ...     2\n9         14.78  ...     2\n10        10.27  ...     2\n11        35.26  ...     4\n12        15.42  ...     2\n13        18.43  ...     4\n14        14.83  ...     2\n15        21.58  ...     2\n16        10.33  ...     3\n17        16.29  ...     3\n18        16.97  ...     3\n19        20.65  ...     3\n20        17.92  ...     2\n21        20.29  ...     2\n22        15.77  ...     2\n23        39.42  ...     4\n24        19.82  ...     2\n25        17.81  ...     4\n26        13.37  ...     2\n27        12.69  ...     2\n28        21.70  ...     2\n29        19.65  ...     2\n30         9.55  ...     2\n31        18.35  ...     4\n32        15.06  ...     2\n33        20.69  ...     4\n34        17.78  ...     2\n35        24.06  ...     3\n36        16.31  ...     3\n37        16.93  ...     3\n38        18.69  ...     3\n39        31.27  ...     3\n40        16.04  ...     3\n41        17.46  ...     2\n42        13.94  ...     2\n43         9.68  ...     2\n44        30.40  ...     4\n45        18.29  ...     2\n46        22.23  ...     2\n47        32.40  ...     4\n48        28.55  ...     3\n49        18.04  ...     2\n50        12.54  ...     2\n51        10.29  ...     2\n52        34.81  ...     4\n53         9.94  ...     2\n54        25.56  ...     4\n55        19.49  ...     2\n56        38.01  ...     4\n57        26.41  ...     2\n58        11.24  ...     2\n59        48.27  ...     4\n60        20.29  ...     2\n61        13.81  ...     2\n62        11.02  ...     2\n63        18.29  ...     4\n64        17.59  ...     3\n65        20.08  ...     3\n66        16.45  ...     2\n67         3.07  ...     1\n68        20.23  ...     2\n69        15.01  ...     2\n70        12.02  ...     2\n71        17.07  ...     3\n72        26.86  ...     2\n73        25.28  ...     2\n74        14.73  ...     2\n75        10.51  ...     2\n76        17.92  ...     2\n77        27.20  ...     4\n78        22.76  ...     2\n79        17.29  ...     2\n80        19.44  ...     2\n81        16.66  ...     2\n82        10.07  ...     1\n83        32.68  ...     2\n84        15.98  ...     2\n85        34.83  ...     4\n86        13.03  ...     2\n87        18.28  ...     2\n88        24.71  ...     2\n89        21.16  ...     2\n90        28.97  ...     2\n91        22.49  ...     2\n92         5.75  ...     2\n93        16.32  ...     2\n94        22.75  ...     2\n95        40.17  ...     4\n96        27.28  ...     2\n97        12.03  ...     2\n98        21.01  ...     2\n99        12.46  ...     2\n100       11.35  ...     2\n101       15.38  ...     2\n102       44.30  ...     3\n103       22.42  ...     2\n104       20.92  ...     2\n105       15.36  ...     2\n106       20.49  ...     2\n107       25.21  ...     2\n108       18.24  ...     2\n109       14.31  ...     2\n110       14.00  ...     2\n111        7.25  ...     1\n112       38.07  ...     3\n113       23.95  ...     2\n114       25.71  ...     3\n115       17.31  ...     2\n116       29.93  ...     4\n117       10.65  ...     2\n118       12.43  ...     2\n119       24.08  ...     4\n120       11.69  ...     2\n121       13.42  ...     2\n122       14.26  ...     2\n123       15.95  ...     2\n124       12.48  ...     2\n125       29.80  ...     6\n126        8.52  ...     2\n127       14.52  ...     2\n128       11.38  ...     2\n129       22.82  ...     3\n130       19.08  ...     2\n131       20.27  ...     2\n132       11.17  ...     2\n133       12.26  ...     2\n134       18.26  ...     2\n135        8.51  ...     2\n136       10.33  ...     2\n137       14.15  ...     2\n138       16.00  ...     2\n139       13.16  ...     2\n140       17.47  ...     2\n141       34.30  ...     6\n142       41.19  ...     5\n143       27.05  ...     6\n144       16.43  ...     2\n145        8.35  ...     2\n146       18.64  ...     3\n147       11.87  ...     2\n148        9.78  ...     2\n149        7.51  ...     2\n150       14.07  ...     2\n151       13.13  ...     2\n152       17.26  ...     3\n153       24.55  ...     4\n154       19.77  ...     4\n155       29.85  ...     5\n156       48.17  ...     6\n157       25.00  ...     4\n158       13.39  ...     2\n159       16.49  ...     4\n160       21.50  ...     4\n161       12.66  ...     2\n162       16.21  ...     3\n163       13.81  ...     2\n164       17.51  ...     2\n165       24.52  ...     3\n166       20.76  ...     2\n167       31.71  ...     4\n168       10.59  ...     2\n169       10.63  ...     2\n170       50.81  ...     3\n171       15.81  ...     2\n172        7.25  ...     2\n173       31.85  ...     2\n174       16.82  ...     2\n175       32.90  ...     2\n176       17.89  ...     2\n177       14.48  ...     2\n178        9.60  ...     2\n179       34.63  ...     2\n180       34.65  ...     4\n181       23.33  ...     2\n182       45.35  ...     3\n183       23.17  ...     4\n184       40.55  ...     2\n185       20.69  ...     5\n186       20.90  ...     3\n187       30.46  ...     5\n188       18.15  ...     3\n189       23.10  ...     3\n190       15.69  ...     2\n191       19.81  ...     2\n192       28.44  ...     2\n193       15.48  ...     2\n194       16.58  ...     2\n195        7.56  ...     2\n196       10.34  ...     2\n197       43.11  ...     4\n198       13.00  ...     2\n199       13.51  ...     2\n200       18.71  ...     3\n201       12.74  ...     2\n202       13.00  ...     2\n203       16.40  ...     2\n204       20.53  ...     4\n205       16.47  ...     3\n206       26.59  ...     3\n207       38.73  ...     4\n208       24.27  ...     2\n209       12.76  ...     2\n210       30.06  ...     3\n211       25.89  ...     4\n212       48.33  ...     4\n213       13.27  ...     2\n214       28.17  ...     3\n215       12.90  ...     2\n216       28.15  ...     5\n217       11.59  ...     2\n218        7.74  ...     2\n219       30.14  ...     4\n220       12.16  ...     2\n221       13.42  ...     2\n222        8.58  ...     1\n223       15.98  ...     3\n224       13.42  ...     2\n225       16.27  ...     2\n226       10.09  ...     2\n227       20.45  ...     4\n228       13.28  ...     2\n229       22.12  ...     2\n230       24.01  ...     4\n231       15.69  ...     3\n232       11.61  ...     2\n233       10.77  ...     2\n234       15.53  ...     2\n235       10.07  ...     2\n236       12.60  ...     2\n237       32.83  ...     2\n238       35.83  ...     3\n239       29.03  ...     3\n240       27.18  ...     2\n241       22.67  ...     2\n242       17.82  ...     2\n243       18.78  ...     2\n\n[244 rows x 7 columns]\n"
     ],
     "output_type": "stream"
    }
   ],
   "source": "from contextlib import contextmanager\n@contextmanager\ndef df_options(x, y):\n    original_options = pd.get_option(x)\n    pd.set_option(x, y)\n    try:\n        yield\n    finally:\n        pd.set_option(x, original_options)\n        \nwith df_options('display.max_rows', None):\n    print(tips)\n    # 局部设置,用with做代码块区分",
   "metadata": {
    "pycharm": {
     "metadata": false,
     "name": "#%%\n",
     "is_executing": false
    }
   }
  },
  {
   "cell_type": "code",
   "execution_count": 22,
   "outputs": [
    {
     "name": "stdout",
     "text": [
      "     total_bill  ...  size\n0         16.99  ...     2\n1         10.34  ...     3\n2         21.01  ...     3\n3         23.68  ...     2\n4         24.59  ...     4\n..          ...  ...   ...\n239       29.03  ...     3\n240       27.18  ...     2\n241       22.67  ...     2\n242       17.82  ...     2\n243       18.78  ...     2\n\n[244 rows x 7 columns]\n"
     ],
     "output_type": "stream"
    }
   ],
   "source": "print(tips) # 退出with块时,将自动恢复选项值",
   "metadata": {
    "pycharm": {
     "metadata": false,
     "name": "#%%\n",
     "is_executing": false
    }
   }
  },
  {
   "cell_type": "code",
   "execution_count": null,
   "outputs": [],
   "source": "\n",
   "metadata": {
    "pycharm": {
     "metadata": false,
     "name": "#%%\n"
    }
   }
  }
 ],
 "metadata": {
  "language_info": {
   "codemirror_mode": {
    "name": "ipython",
    "version": 2
   },
   "file_extension": ".py",
   "mimetype": "text/x-python",
   "name": "python",
   "nbconvert_exporter": "python",
   "pygments_lexer": "ipython2",
   "version": "2.7.6"
  },
  "kernelspec": {
   "name": "python3",
   "language": "python",
   "display_name": "Python 3"
  },
  "stem_cell": {
   "cell_type": "raw",
   "source": "",
   "metadata": {
    "pycharm": {
     "metadata": false
    }
   }
  },
  "pycharm": {
   "stem_cell": {
    "cell_type": "raw",
    "source": [],
    "metadata": {
     "collapsed": false
    }
   }
  }
 },
 "nbformat": 4,
 "nbformat_minor": 0
}