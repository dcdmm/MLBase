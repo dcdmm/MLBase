{
 "cells": [
  {
   "cell_type": "code",
   "execution_count": 1,
   "outputs": [],
   "source": [
    "import numpy as np\n",
    "import random\n",
    "import matplotlib.pyplot as plt"
   ],
   "metadata": {
    "collapsed": false,
    "pycharm": {
     "name": "#%%\n",
     "is_executing": false
    }
   }
  },
  {
   "cell_type": "code",
   "execution_count": 2,
   "outputs": [],
   "source": [
    "def value(theta, X_b, y):\n",
    "    \"\"\"总的损失(以均方误差损失函数为例)的值\"\"\"\n",
    "    return ((y - (X_b @ theta)).T @ (y - (X_b @ theta))) / len(y)\n",
    "\n",
    "def my_sgd(X_b, y, \n",
    "           initial_theta, # 初始值\n",
    "           n_iters=10, # 训练轮数\n",
    "           t0=5,\n",
    "           t1=50):\n",
    "    \n",
    "    def d_value_sgd(theta, X_b_i, y_i):\n",
    "        \"\"\"单个样本的损失函数(以均方误差损失函数为例)\"\"\"\n",
    "        return X_b_i * (X_b_i.dot(theta) - y_i) * 2.\n",
    "    \n",
    "    def learning_rate(t):\n",
    "        \"\"\"学习率衰减\"\"\"\n",
    "        return t0 / (t + t1) # 没有对学习率进行一维搜索\n",
    "\n",
    "    theta = initial_theta\n",
    "    m = len(X_b)\n",
    "    for i_iter in range(n_iters):\n",
    "        indexes = np.random.permutation(m) # 训练样本重新随机排序\n",
    "        X_b_new = X_b[indexes,:]\n",
    "        y_new = y[indexes]\n",
    "        for i in range(m):\n",
    "            gradient = d_value_sgd(theta, X_b_new[i], y_new[i])\n",
    "            theta = theta - learning_rate(i_iter * m + i) * gradient\n",
    "\n",
    "    return theta"
   ],
   "metadata": {
    "collapsed": false,
    "pycharm": {
     "name": "#%%\n",
     "is_executing": false
    }
   }
  },
  {
   "cell_type": "code",
   "execution_count": 3,
   "outputs": [],
   "source": [
    "p = 1000\n",
    "q = 50 # 特征数量\n",
    "\n",
    "x_trian = np.random.normal(size=(p, q))\n",
    "x_trian = np.hstack((x_trian, np.ones((p, 1))))\n",
    "true_theta = np.array(random.sample(range(1, 52), 51)) # 模型包含截距项\n",
    "y_trian = x_trian.dot(true_theta) + np.random.normal(0., 1., size=p)\n",
    "initial_theta = np.ones(true_theta.shape)"
   ],
   "metadata": {
    "collapsed": false,
    "pycharm": {
     "name": "#%%\n",
     "is_executing": false
    }
   }
  },
  {
   "cell_type": "code",
   "execution_count": 4,
   "outputs": [
    {
     "name": "stdout",
     "text": [
      "Wall time: 101 ms\n"
     ],
     "output_type": "stream"
    },
    {
     "data": {
      "text/plain": "array([ 3.95922242, 44.2033215 ,  9.34576516, 26.87583351,  3.6904358 ,\n       49.1445369 , 15.05374289, 23.42473974, 34.96786468,  0.54911998,\n       31.70114488, 10.7732031 , 25.64929754, 38.23317521,  5.48846036,\n       39.43406133, 11.59798941, 50.44659396, 40.78773631, 49.8492142 ,\n       24.05829661, 21.1343734 , 17.27253999, 48.37637025,  2.71242788,\n       36.32682665, 28.15099138, 20.48239669, 39.9857454 , 30.07989003,\n       13.68166553,  5.78913325, 18.56246791, 24.33598761, 33.22932267,\n       44.82607563, 46.23278783, 33.76569264, 13.39321902, 18.44192153,\n       15.18493816, 30.18139612, 42.19231995,  5.38409709, 17.78198165,\n       46.38738211, 29.99110122,  8.86200995, 38.06594479,  7.49956149,\n       41.74276696])"
     },
     "metadata": {},
     "output_type": "execute_result",
     "execution_count": 4
    }
   ],
   "source": [
    "%%time\n",
    "my_sgd(x_trian, y_trian, initial_theta=initial_theta, n_iters=10) # 随机梯度下降收敛速度非常快(相比于批量梯度下降法)"
   ],
   "metadata": {
    "collapsed": false,
    "pycharm": {
     "name": "#%%\n",
     "is_executing": false
    }
   }
  },
  {
   "cell_type": "code",
   "execution_count": 5,
   "outputs": [],
   "source": [
    "loss = list()\n",
    "for i in range(7, 21):\n",
    "    predict_theta = my_sgd(x_trian, y_trian, initial_theta=initial_theta, n_iters=i)\n",
    "    loss.append(value(predict_theta, x_trian, y_trian))"
   ],
   "metadata": {
    "collapsed": false,
    "pycharm": {
     "name": "#%%\n",
     "is_executing": false
    }
   }
  },
  {
   "cell_type": "code",
   "execution_count": 6,
   "outputs": [
    {
     "data": {
      "text/plain": "<matplotlib.legend.Legend at 0x17ce5b3f088>"
     },
     "metadata": {},
     "output_type": "execute_result",
     "execution_count": 6
    },
    {
     "data": {
      "text/plain": "<Figure size 432x288 with 1 Axes>",
      "image/png": "[encoded data removed]"
     },
     "metadata": {
      "needs_background": "light"
     },
     "output_type": "display_data"
    }
   ],
   "source": [
    "plt.plot(range(7, 21), loss, color='red', label='loss') # 曲线可能不稳定(由随机因素引起)\n",
    "plt.legend()"
   ],
   "metadata": {
    "collapsed": false,
    "pycharm": {
     "name": "#%%\n",
     "is_executing": false
    }
   }
  },
  {
   "cell_type": "code",
   "execution_count": 6,
   "outputs": [],
   "source": [
    "\n"
   ],
   "metadata": {
    "collapsed": false,
    "pycharm": {
     "name": "#%%\n",
     "is_executing": false
    }
   }
  }
 ],
 "metadata": {
  "kernelspec": {
   "display_name": "Python 3",
   "language": "python",
   "name": "python3"
  },
  "language_info": {
   "codemirror_mode": {
    "name": "ipython",
    "version": 2
   },
   "file_extension": ".py",
   "mimetype": "text/x-python",
   "name": "python",
   "nbconvert_exporter": "python",
   "pygments_lexer": "ipython2",
   "version": "2.7.6"
  }
 },
 "nbformat": 4,
 "nbformat_minor": 0
}