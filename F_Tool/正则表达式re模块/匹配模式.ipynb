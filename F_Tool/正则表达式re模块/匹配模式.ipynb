{
 "cells": [
  {
   "cell_type": "markdown",
   "metadata": {
    "collapsed": true,
    "pycharm": {
     "name": "#%% md\n"
    }
   },
   "source": [
    "|修饰符|描述|\n",
    "|:---:|:---:|\n",
    "|re.I|\t使匹配对大小写不敏感|\n",
    "|re.M| \t多行匹配,影响 ^ 和 $|\n",
    "|re.S|  使.匹配包括换行在内的所有字符|"
   ]
  },
  {
   "cell_type": "code",
   "execution_count": 17,
   "metadata": {
    "collapsed": false,
    "pycharm": {
     "is_executing": false,
     "name": "#%%\n"
    }
   },
   "outputs": [],
   "source": [
    "import re"
   ]
  },
  {
   "cell_type": "code",
   "execution_count": 18,
   "metadata": {
    "collapsed": false,
    "pycharm": {
     "name": "#%%\n"
    }
   },
   "outputs": [
    {
     "name": "stdout",
     "output_type": "stream",
     "text": [
      "con\n"
     ]
    }
   ],
   "source": [
    "S1 = 'CoN'\n",
    "S2 = 'www.xiao.con'\n",
    "print(re.search(S1, S2, re.I).group())  # 不区分大小写"
   ]
  },
  {
   "cell_type": "code",
   "execution_count": 19,
   "metadata": {
    "collapsed": false,
    "pycharm": {
     "is_executing": false,
     "name": "#%%\n"
    }
   },
   "outputs": [
    {
     "name": "stdout",
     "output_type": "stream",
     "text": [
      "['girl', 'boy', 'friends', 'game']\n"
     ]
    }
   ],
   "source": [
    "S3 = '''I am girl\n",
    "        you are boy\n",
    "        we are friends\n",
    "        play game'''\n",
    "print(re.findall(r\"\\w+$\", S3, re.M))  # 输出的每行最后一个字符串"
   ]
  },
  {
   "cell_type": "code",
   "execution_count": 20,
   "metadata": {
    "collapsed": false,
    "pycharm": {
     "is_executing": false,
     "name": "#%%\n"
    }
   },
   "outputs": [
    {
     "name": "stdout",
     "output_type": "stream",
     "text": [
      "['world：    \\n        11630\\n        ']\n"
     ]
    }
   ],
   "source": [
    "s4 = '''jduedhhelloworld：    \n",
    "        11630\n",
    "        passgrthgdg\n",
    "        '''\n",
    "c = re.findall('hello(.*?)pass', s4, re.S)  # 匹配包括换行在内的所有字符\n",
    "print(c)"
   ]
  },
  {
   "cell_type": "code",
   "execution_count": null,
   "metadata": {},
   "outputs": [
    {
     "name": "stdout",
     "output_type": "stream",
     "text": [
      "['world', 'WORLD']\n"
     ]
    }
   ],
   "source": [
    "s5 = '''jduedhhelloworld：    \n",
    "        11630\n",
    "        passWORLD\n",
    "        '''\n",
    "c = re.findall('world', s5, re.M | re.I)  # 使用`|`组合多个标志\n",
    "print(c)"
   ]
  }
 ],
 "metadata": {
  "kernelspec": {
   "display_name": "base",
   "language": "python",
   "name": "python3"
  },
  "language_info": {
   "codemirror_mode": {
    "name": "ipython",
    "version": 3
   },
   "file_extension": ".py",
   "mimetype": "text/x-python",
   "name": "python",
   "nbconvert_exporter": "python",
   "pygments_lexer": "ipython3",
   "version": "3.11.7"
  }
 },
 "nbformat": 4,
 "nbformat_minor": 0
}
