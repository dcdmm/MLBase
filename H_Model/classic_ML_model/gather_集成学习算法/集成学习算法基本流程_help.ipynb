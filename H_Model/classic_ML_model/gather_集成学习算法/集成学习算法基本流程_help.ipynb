{
 "cells": [
  {
   "cell_type": "markdown",
   "metadata": {
    "pycharm": {
     "name": "#%% md\n"
    }
   },
   "source": [
    "## boosting,bagging算法基本流程\n",
    "\n",
    "<img src='../../Other/img/boosting.png' style=\"width:650px;height:400px\">\n",
    "\n",
    "\n",
    "<img src='../../Other/img/boosting1.png' style=\"width:550px;height:300px\">\n",
    "\n",
    "\n",
    "<img src='../../Other/img/bagging.jpg' style=\"width:850px;height:400px\">"
   ]
  }
 ],
 "metadata": {
  "kernelspec": {
   "display_name": "Python 3 (ipykernel)",
   "language": "python",
   "name": "python3"
  },
  "language_info": {
   "codemirror_mode": {
    "name": "ipython",
    "version": 3
   },
   "file_extension": ".py",
   "mimetype": "text/x-python",
   "name": "python",
   "nbconvert_exporter": "python",
   "pygments_lexer": "ipython3",
   "version": "3.8.12"
  }
 },
 "nbformat": 4,
 "nbformat_minor": 4
}
