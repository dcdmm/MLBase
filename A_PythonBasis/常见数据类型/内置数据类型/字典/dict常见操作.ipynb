{
 "cells": [
  {
   "cell_type": "code",
   "execution_count": null,
   "outputs": [],
   "source": [
    "'''\n",
    "def fromkeys(*args, **kwargs): # real signature unknown\n",
    "    \"\"\" Returns a new dict with keys from iterable and values equal to value. \"\"\"\n",
    "    pass\n",
    "'''\n",
    "dict1 = dict.fromkeys((1, 2, 3))\n",
    "print(dict1, end='\\n\\n')\n",
    "\n",
    "dict2 = dict1.fromkeys((1, 2, 3), 'number')\n",
    "print(\"dict3[1]:{}\\ndict3[2]:{}\\ndict3[3]:{}\".\n",
    "      format(id(dict2[1]), id(dict2[2]), id(dict2[3]))) # 所有键都指向了同一个内存地址\n",
    "print(dict2, end='\\n\\n')\n",
    "\n",
    "dict3 = dict1.fromkeys([1, 2, 3], ['one', 'two', 'three'])\n",
    "print(\"dict3[1]:{}\\ndict3[2]:{}\\ndict3[3]:{}\".\n",
    "      format(id(dict3[1]), id(dict3[2]), id(dict3[3]))) # 所有键都指向了同一个内存地址\n",
    "print(dict3, end='\\n\\n')  # ['one', 'two', 'three']表示的是一个值\n",
    "\n",
    "dict3[1].append('four')\n",
    "print(dict3, end='\\n\\n')\n",
    "\n",
    "dict3[1] = 'hello'\n",
    "print(dict3)\n",
    "print(\"dict3[1]:{}\\ndict3[2]:{}\\ndict3[3]:{}\".\n",
    "      format(id(dict3[1]), id(dict3[2]), id(dict3[3]))) # 键不再指向了同一个内存地址"
   ],
   "metadata": {
    "collapsed": false,
    "pycharm": {
     "name": "#%%\n"
    }
   }
  },
  {
   "cell_type": "code",
   "execution_count": 2,
   "metadata": {
    "collapsed": true,
    "pycharm": {
     "is_executing": false
    }
   },
   "outputs": [
    {
     "name": "stdout",
     "text": [
      "dict_keys(['f', 'i', 's', 'h', 'c'])\nTrue\ndict_values([70, 105, 115, 104, 67])\ndict_items([('f', 70), ('i', 105), ('s', 115), ('h', 104), ('c', 67)])\n"
     ],
     "output_type": "stream"
    }
   ],
   "source": [
    "# keys()用于返回字典中的键(),返回值为可迭代对象\n",
    "# values()用于返回字典中所有的值,返回值为可迭代对象\n",
    "# items()用于放回字典中所有的键值对(也就是项),返回值为可迭代对象\n",
    "dict4 = {'f':70, 'i':105, 's':115, 'h':104, 'c':67}\n",
    "print(dict4.keys()) # 按原有字典顺序\n",
    "print('f' in dict4.keys()) # 字符f为dict4的键\n",
    "print(dict4.values()) # 按原有字典顺序\n",
    "print(dict4.items())"
   ]
  },
  {
   "cell_type": "code",
   "execution_count": 16,
   "metadata": {
    "collapsed": true,
    "pycharm": {
     "is_executing": false
    }
   },
   "outputs": [
    {
     "name": "stdout",
     "text": [
      "70\nNone\n"
     ],
     "output_type": "stream"
    }
   ],
   "source": "'''\nget(...)\n    D.get(k[,d]) -> D[k] if k in D, else d.  d defaults to None.\n'''\nprint(dict4.get('f'))\nprint(dict4.get('F'))"
  },
  {
   "cell_type": "code",
   "execution_count": 18,
   "metadata": {
    "collapsed": false,
    "pycharm": {
     "is_executing": false
    }
   },
   "outputs": [
    {
     "name": "stdout",
     "text": [
      "105\nNone\n97\n{'f': 70, 'i': 105, 's': 115, 'h': 104, 'c': 67, 'g': None, 'a': 97}\n"
     ],
     "output_type": "stream"
    }
   ],
   "source": "# setdefault()方法和get()方法有点相似,但是setdefault()在字典中找不到相应的键时会自动添加\n\"\"\" D.setdefault(k[,d]) -> D.get(k,d), also set D[k]=d if k not in D \"\"\"\nset_dict = {'f':70, 'i':105, 's':115, 'h':104, 'c':67}\nprint(set_dict.setdefault('i'))\nprint(set_dict.setdefault('g'))     # 默认为None\nprint(set_dict.setdefault('a', 97)) # set D[k]=d if k not in D\nprint(set_dict)"
  },
  {
   "cell_type": "code",
   "execution_count": 26,
   "outputs": [
    {
     "name": "stdout",
     "text": [
      "one\n{2: 'two', 3: 'three'}\n"
     ],
     "output_type": "stream"
    }
   ],
   "source": "'''\npop(...)\n    D.pop(k[,d]) -> v, remove specified key and return the corresponding value.\n    If key is not found, d is returned if given, otherwise KeyError is raised\n\n'''\nd = {1:'one', 2:'two', 3:'three'}\nprint(d.pop(1)) # 删除指定的键并返回相应的值\nprint(d)",
   "metadata": {
    "pycharm": {
     "metadata": false,
     "name": "#%%\n",
     "is_executing": false
    }
   }
  },
  {
   "cell_type": "code",
   "execution_count": 39,
   "outputs": [
    {
     "name": "stdout",
     "text": [
      "{'米奇': '老鼠', '汤姆': '猫', '小白': '狗', '小红': '鸭子'}\n"
     ],
     "output_type": "stream"
    }
   ],
   "source": "\"\"\"\nD.update([E, ]**F) -> None.  Update D from dict/iterable E and F.\nIf E is present and has a .keys() method, then does:  for k in E: D[k] = E[k]\nIf E is present and lacks a .keys() method, then does:  for k, v in E: D[k] = v\nIn either case, this is followed by: for k in F:  D[k] = F[k]\n\"\"\"\npets = {'米奇':'老鼠', '汤姆':'猫', '小白':'猪'}\npets.update(小白='狗', 小红='鸭子')\nprint(pets)",
   "metadata": {
    "pycharm": {
     "metadata": false,
     "name": "#%%\n",
     "is_executing": false
    }
   }
  },
  {
   "cell_type": "code",
   "execution_count": 40,
   "outputs": [
    {
     "name": "stdout",
     "text": [
      "{'米奇': '老鼠', '汤姆': '猫', '小白': '牛', '小红': '鸭子', '小黑': '猪'}\n"
     ],
     "output_type": "stream"
    }
   ],
   "source": "pets.update({'小白': '牛', '小黑':'猪'})\nprint(pets)",
   "metadata": {
    "pycharm": {
     "metadata": false,
     "name": "#%%\n",
     "is_executing": false
    }
   }
  },
  {
   "cell_type": "code",
   "execution_count": 19,
   "metadata": {
    "collapsed": false,
    "pycharm": {
     "is_executing": false
    }
   },
   "outputs": [
    {
     "name": "stdout",
     "text": [
      "False\nTrue\n"
     ],
     "output_type": "stream"
    }
   ],
   "source": "# 如果不知道一个键是否在字典中,那么可以使用成员操作符(in 或 not in)来判断\ndict5 = {'f':70, 'i':105, 's':115, 'h':104, 'c':67}\nprint(31 in dict5)\nprint('h' in dict5)"
  },
  {
   "cell_type": "code",
   "execution_count": 20,
   "metadata": {
    "collapsed": true,
    "pycharm": {
     "is_executing": false
    }
   },
   "outputs": [
    {
     "data": {
      "text/plain": "{0: 'bar', 1: 'foo', 2: 'able'}"
     },
     "metadata": {},
     "output_type": "execute_result",
     "execution_count": 20
    }
   ],
   "source": "# 字典推导式\ndict_infer = {i:j for i, j in enumerate(['bar', 'foo', 'able'])}\ndict_infer"
  }
 ],
 "metadata": {
  "kernelspec": {
   "name": "python3",
   "language": "python",
   "display_name": "Python 3"
  },
  "language_info": {
   "codemirror_mode": {
    "name": "ipython",
    "version": 2
   },
   "file_extension": ".py",
   "mimetype": "text/x-python",
   "name": "python",
   "nbconvert_exporter": "python",
   "pygments_lexer": "ipython2",
   "version": "2.7.6"
  },
  "pycharm": {
   "stem_cell": {
    "cell_type": "raw",
    "source": [],
    "metadata": {
     "collapsed": false
    }
   }
  }
 },
 "nbformat": 4,
 "nbformat_minor": 0
}