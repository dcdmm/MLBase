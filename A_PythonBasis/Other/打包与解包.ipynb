{
 "cells": [
  {
   "cell_type": "markdown",
   "source": [
    "### 打包参数"
   ],
   "metadata": {
    "collapsed": false,
    "pycharm": {
     "name": "#%% md\n"
    }
   }
  },
  {
   "cell_type": "code",
   "execution_count": 1,
   "outputs": [
    {
     "name": "stdout",
     "output_type": "stream",
     "text": [
      "(1,)\n",
      "(1, 2, 3, 4)\n"
     ]
    }
   ],
   "source": [
    "def f(*args):\n",
    "    print(args)\n",
    "\n",
    "# * 的作用:在函数定义中,收集所有的位置参数到一个新的元组,并将这个元组赋值给变量args\n",
    "f(1)\n",
    "f(1, 2, 3, 4)"
   ],
   "metadata": {
    "pycharm": {
     "metadata": false,
     "name": "#%%\n"
    }
   }
  },
  {
   "cell_type": "code",
   "execution_count": 2,
   "outputs": [
    {
     "name": "stdout",
     "output_type": "stream",
     "text": [
      "{'a': 1, 'b': 2}\n",
      "a b\n"
     ]
    }
   ],
   "source": [
    "# ** 的作用:在函数定义中,收集关键字参数传递给一个字典,并将这个字典赋值给变量kwargs\n",
    "def f1(**kwargs):\n",
    "    print(kwargs)\n",
    "    print(*kwargs)  # 解包\n",
    "    # print(**kwargs)  # 报错,print函数只支持*args,不支持**kwargs\n",
    "f1(a=1, b=2)"
   ],
   "metadata": {
    "pycharm": {
     "metadata": false,
     "name": "#%%\n"
    }
   }
  },
  {
   "cell_type": "markdown",
   "source": [
    "### 解包参数"
   ],
   "metadata": {
    "pycharm": {
     "metadata": false,
     "name": "#%% md\n",
     "is_executing": false
    }
   }
  },
  {
   "cell_type": "code",
   "execution_count": 3,
   "outputs": [
    {
     "name": "stdout",
     "output_type": "stream",
     "text": [
      "1 2 3\n"
     ]
    }
   ],
   "source": [
    "a, b, c = [1, 2, 3]  # 列表自动解包(常用于多个元素的赋值)\n",
    "print(a, b, c)"
   ],
   "metadata": {
    "pycharm": {
     "metadata": false,
     "name": "#%%\n"
    }
   }
  },
  {
   "cell_type": "code",
   "execution_count": 4,
   "outputs": [
    {
     "name": "stdout",
     "output_type": "stream",
     "text": [
      "1 2 3\n"
     ]
    }
   ],
   "source": [
    "a1, b1, c1 = (1, 2, 3)  # 元组自动解包\n",
    "print(a1, b1, c1)"
   ],
   "metadata": {
    "pycharm": {
     "metadata": false,
     "name": "#%%\n"
    }
   }
  },
  {
   "cell_type": "code",
   "execution_count": 5,
   "outputs": [
    {
     "name": "stdout",
     "output_type": "stream",
     "text": [
      "a b c\n"
     ]
    }
   ],
   "source": [
    "a2, b2, c2 = {'a':1, 'b':2, 'c':3} # 字典自动解包(只会把字典的key取出来,value则丢掉了)\n",
    "print(a2, b2, c2)"
   ],
   "metadata": {
    "pycharm": {
     "metadata": false,
     "name": "#%%\n"
    }
   }
  },
  {
   "cell_type": "code",
   "execution_count": 6,
   "outputs": [
    {
     "name": "stdout",
     "output_type": "stream",
     "text": [
      "1 2 [3, 4]\n"
     ]
    }
   ],
   "source": [
    "a3, b3, *c3 = [1, 2, 3, 4] # 先自动解包,再打包(对c3)\n",
    "print(a3, b3, c3)"
   ],
   "metadata": {
    "pycharm": {
     "metadata": false,
     "name": "#%%\n"
    }
   }
  },
  {
   "cell_type": "code",
   "execution_count": 7,
   "outputs": [
    {
     "name": "stdout",
     "output_type": "stream",
     "text": [
      "1 2 3\n",
      "a b c\n",
      "A B C\n",
      "1 2 3\n"
     ]
    }
   ],
   "source": [
    "def func(a, b, c):\n",
    "    print(a, b, c)\n",
    "\n",
    "func(*[1, 2, 3])  # 解包列表,也就是解包成:func(a=1, b=2, c=3)\n",
    "func(*'abc')\n",
    "func(*{'A':1, 'B':2, 'C':3})  # 解包字典的key,也就是解包成:func(a=A, b=B, c=C)\n",
    "func(**{'a':1, 'b':2, 'c':3})  # 解包成关键字参数key=value的格式,也就是解包成:func(a=1, b=2, c=3)"
   ],
   "metadata": {
    "pycharm": {
     "metadata": false,
     "name": "#%%\n"
    }
   }
  },
  {
   "cell_type": "code",
   "execution_count": 8,
   "outputs": [
    {
     "name": "stdout",
     "output_type": "stream",
     "text": [
      "有5个可变参数\n",
      "它们分别时: {'a': 1, 'b': 2, 'c': 3, 'd': 4, 'e': 5}\n",
      "\n",
      "有3个可变参数\n",
      "它们分别时: {'a': 1, 'b': 2, 'c': 3}\n",
      "\n"
     ]
    }
   ],
   "source": [
    "def test(**parmas):  # 打包成字典\n",
    "\tprint('有%d个可变参数'%len(parmas))\n",
    "\tprint('它们分别时:', parmas, end='\\n\\n')\n",
    "\t\n",
    "test(a=1, b=2, c=3, d=4, e=5)\n",
    "\n",
    "example1 = dict(zip(['a', 'b', 'c'], [1, 2, 3, 4]))\n",
    "test(**example1)\n",
    "\n",
    "example2 = {'a':1, 'b':2, 'c':3, 'd':4, 'e':5}\n",
    "# test(**example2)"
   ],
   "metadata": {
    "pycharm": {
     "metadata": false,
     "name": "#%%\n"
    }
   }
  },
  {
   "cell_type": "code",
   "execution_count": 9,
   "outputs": [
    {
     "data": {
      "text/plain": "[1, 2, 3, 1, 2, 3, 'a', 'b', 'c']"
     },
     "execution_count": 9,
     "metadata": {},
     "output_type": "execute_result"
    }
   ],
   "source": [
    "# 解包操作除了用在函数调用,还可以作用在表达式中\n",
    "[*(1, 2, 3), *[1, 2, 3], *{'a':1, 'b':2, 'c':3}]\n",
    "\n"
   ],
   "metadata": {
    "pycharm": {
     "metadata": false,
     "name": "#%%\n"
    }
   }
  }
 ],
 "metadata": {
  "language_info": {
   "codemirror_mode": {
    "name": "ipython",
    "version": 2
   },
   "file_extension": ".py",
   "mimetype": "text/x-python",
   "name": "python",
   "nbconvert_exporter": "python",
   "pygments_lexer": "ipython2",
   "version": "2.7.6"
  },
  "kernelspec": {
   "name": "python3",
   "language": "python",
   "display_name": "Python 3"
  },
  "stem_cell": {
   "cell_type": "raw",
   "source": "",
   "metadata": {
    "pycharm": {
     "metadata": false
    }
   }
  }
 },
 "nbformat": 4,
 "nbformat_minor": 0
}