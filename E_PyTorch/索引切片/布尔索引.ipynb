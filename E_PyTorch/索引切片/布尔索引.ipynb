{
 "cells": [
  {
   "cell_type": "code",
   "execution_count": 1,
   "outputs": [],
   "source": [
    "import torch\n",
    "# 完全类似numpy布尔索引"
   ],
   "metadata": {
    "collapsed": false,
    "pycharm": {
     "name": "#%%\n"
    }
   }
  },
  {
   "cell_type": "code",
   "execution_count": 2,
   "outputs": [
    {
     "name": "stdout",
     "output_type": "stream",
     "text": [
      "tensor([1, 2, 3, 1, 3, 2, 2])\n",
      "tensor([[ 0.0070,  0.0353,  0.1426, -0.5266],\n",
      "        [ 0.1641, -1.9230,  0.2032,  0.6801],\n",
      "        [-1.0508, -1.1528, -1.9580,  0.8606],\n",
      "        [-0.3588,  0.6803, -0.8561,  2.9947],\n",
      "        [ 0.3328, -0.0737,  1.2392,  0.2713],\n",
      "        [-0.3227, -0.4676,  0.0051, -0.2128],\n",
      "        [-0.9383,  1.1651, -0.4958, -0.4953]])\n"
     ]
    }
   ],
   "source": [
    "target = torch.tensor([1, 2, 3, 1, 3, 2, 2])\n",
    "data = torch.randn(7, 4)\n",
    "print(target)\n",
    "print(data)"
   ],
   "metadata": {
    "collapsed": false,
    "pycharm": {
     "name": "#%%\n"
    }
   }
  },
  {
   "cell_type": "code",
   "execution_count": 3,
   "outputs": [
    {
     "name": "stdout",
     "output_type": "stream",
     "text": [
      "torch.bool\n",
      "tensor([ True, False, False,  True, False, False, False])\n"
     ]
    }
   ],
   "source": [
    "check = target == 1\n",
    "print(check.dtype)\n",
    "print(check)"
   ],
   "metadata": {
    "collapsed": false,
    "pycharm": {
     "name": "#%%\n"
    }
   }
  },
  {
   "cell_type": "code",
   "execution_count": 4,
   "outputs": [
    {
     "data": {
      "text/plain": "tensor([[ 0.0070,  0.0353,  0.1426, -0.5266],\n        [-0.3588,  0.6803, -0.8561,  2.9947]])"
     },
     "execution_count": 4,
     "metadata": {},
     "output_type": "execute_result"
    }
   ],
   "source": [
    "data[check]  # 第零个维度布尔切片"
   ],
   "metadata": {
    "collapsed": false,
    "pycharm": {
     "name": "#%%\n"
    }
   }
  },
  {
   "cell_type": "code",
   "execution_count": 5,
   "outputs": [
    {
     "data": {
      "text/plain": "tensor([[ 0.0070, -0.5266],\n        [ 0.1641,  0.6801],\n        [-1.0508,  0.8606],\n        [-0.3588,  2.9947],\n        [ 0.3328,  0.2713],\n        [-0.3227, -0.2128],\n        [-0.9383, -0.4953]])"
     },
     "execution_count": 5,
     "metadata": {},
     "output_type": "execute_result"
    }
   ],
   "source": [
    "data[:, check[:4]]  # 第一个维度上的布尔索引"
   ],
   "metadata": {
    "collapsed": false,
    "pycharm": {
     "name": "#%%\n"
    }
   }
  },
  {
   "cell_type": "code",
   "execution_count": 6,
   "outputs": [
    {
     "name": "stdout",
     "output_type": "stream",
     "text": [
      "tensor([[ 0.1426, -0.5266],\n",
      "        [-0.8561,  2.9947]])\n",
      "tensor([[ 0.1426, -0.5266],\n",
      "        [-0.8561,  2.9947]])\n"
     ]
    }
   ],
   "source": [
    "print(data[target == 1, 2:])\n",
    "print(data[target == 1, 2:])"
   ],
   "metadata": {
    "collapsed": false,
    "pycharm": {
     "name": "#%%\n"
    }
   }
  },
  {
   "cell_type": "code",
   "execution_count": 7,
   "outputs": [
    {
     "name": "stdout",
     "output_type": "stream",
     "text": [
      "tensor([False,  True,  True, False,  True,  True,  True])\n",
      "tensor([ True, False, False,  True, False, False, False])\n",
      "tensor([[ 0.0070,  0.0353,  0.1426, -0.5266],\n",
      "        [-0.3588,  0.6803, -0.8561,  2.9947]])\n"
     ]
    }
   ],
   "source": [
    "print(target != 1)\n",
    "print(~(target != 1))  # ~:取反\n",
    "print(data[~(target != 1)])"
   ],
   "metadata": {
    "collapsed": false,
    "pycharm": {
     "name": "#%%\n"
    }
   }
  },
  {
   "cell_type": "code",
   "execution_count": 8,
   "outputs": [
    {
     "name": "stdout",
     "output_type": "stream",
     "text": [
      "tensor([ True, False,  True,  True,  True, False, False])\n",
      "tensor([[ 0.0070,  0.0353,  0.1426, -0.5266],\n",
      "        [-1.0508, -1.1528, -1.9580,  0.8606],\n",
      "        [-0.3588,  0.6803, -0.8561,  2.9947],\n",
      "        [ 0.3328, -0.0737,  1.2392,  0.2713]])\n"
     ]
    }
   ],
   "source": [
    "mask = (target == 1) | (target == 3)  # |:并集,不能使用关键字or\n",
    "print(mask)\n",
    "print(data[mask])"
   ],
   "metadata": {
    "collapsed": false,
    "pycharm": {
     "name": "#%%\n"
    }
   }
  },
  {
   "cell_type": "code",
   "execution_count": 9,
   "outputs": [
    {
     "name": "stdout",
     "output_type": "stream",
     "text": [
      "tensor([False, False, False, False, False, False, False])\n",
      "tensor([], size=(0, 4))\n"
     ]
    }
   ],
   "source": [
    "mask1 = (target == 1) & (target == 3)  # &:交集,不能使用关键字and\n",
    "print(mask1)\n",
    "print(data[mask1])"
   ],
   "metadata": {
    "collapsed": false,
    "pycharm": {
     "name": "#%%\n"
    }
   }
  },
  {
   "cell_type": "code",
   "execution_count": 10,
   "outputs": [
    {
     "data": {
      "text/plain": "tensor([[False, False, False,  True],\n        [False,  True, False, False],\n        [ True,  True,  True, False],\n        [ True, False,  True, False],\n        [False,  True, False, False],\n        [ True,  True, False,  True],\n        [ True, False,  True,  True]])"
     },
     "execution_count": 10,
     "metadata": {},
     "output_type": "execute_result"
    }
   ],
   "source": [
    "s = data < 0\n",
    "s"
   ],
   "metadata": {
    "collapsed": false,
    "pycharm": {
     "name": "#%%\n"
    }
   }
  },
  {
   "cell_type": "code",
   "execution_count": 11,
   "outputs": [
    {
     "data": {
      "text/plain": "tensor([-0.5266, -1.9230, -1.0508, -1.1528, -1.9580, -0.3588, -0.8561, -0.0737,\n        -0.3227, -0.4676, -0.2128, -0.9383, -0.4958, -0.4953])"
     },
     "execution_count": 11,
     "metadata": {},
     "output_type": "execute_result"
    }
   ],
   "source": [
    "data[s]"
   ],
   "metadata": {
    "collapsed": false,
    "pycharm": {
     "name": "#%%\n"
    }
   }
  },
  {
   "cell_type": "code",
   "execution_count": 12,
   "outputs": [
    {
     "data": {
      "text/plain": "tensor([[7.0036e-03, 3.5330e-02, 1.4257e-01, 9.9990e+03],\n        [1.6414e-01, 9.9990e+03, 2.0323e-01, 6.8012e-01],\n        [9.9990e+03, 9.9990e+03, 9.9990e+03, 8.6057e-01],\n        [9.9990e+03, 6.8028e-01, 9.9990e+03, 2.9947e+00],\n        [3.3276e-01, 9.9990e+03, 1.2392e+00, 2.7128e-01],\n        [9.9990e+03, 9.9990e+03, 5.1223e-03, 9.9990e+03],\n        [9.9990e+03, 1.1651e+00, 9.9990e+03, 9.9990e+03]])"
     },
     "execution_count": 12,
     "metadata": {},
     "output_type": "execute_result"
    }
   ],
   "source": [
    "data[s] = 9999  # 逐个元素的布尔索引\n",
    "data  # data发生改变"
   ],
   "metadata": {
    "collapsed": false,
    "pycharm": {
     "name": "#%%\n"
    }
   }
  },
  {
   "cell_type": "code",
   "execution_count": 13,
   "outputs": [
    {
     "data": {
      "text/plain": "tensor([[7.0000e+00, 7.0000e+00, 7.0000e+00, 7.0000e+00],\n        [1.6414e-01, 9.9990e+03, 2.0323e-01, 6.8012e-01],\n        [7.0000e+00, 7.0000e+00, 7.0000e+00, 7.0000e+00],\n        [7.0000e+00, 7.0000e+00, 7.0000e+00, 7.0000e+00],\n        [7.0000e+00, 7.0000e+00, 7.0000e+00, 7.0000e+00],\n        [9.9990e+03, 9.9990e+03, 5.1223e-03, 9.9990e+03],\n        [9.9990e+03, 1.1651e+00, 9.9990e+03, 9.9990e+03]])"
     },
     "execution_count": 13,
     "metadata": {},
     "output_type": "execute_result"
    }
   ],
   "source": [
    "data[target != 2] = 7  # ★★★★★和整数索引类似,只能通过对原tensor[索引/切片]直接进行赋值从而修改原tensor\n",
    "data  # data发生改变"
   ],
   "metadata": {
    "collapsed": false,
    "pycharm": {
     "name": "#%%\n"
    }
   }
  },
  {
   "cell_type": "code",
   "execution_count": 13,
   "outputs": [],
   "source": [
    "\n"
   ],
   "metadata": {
    "collapsed": false,
    "pycharm": {
     "name": "#%%\n"
    }
   }
  }
 ],
 "metadata": {
  "kernelspec": {
   "display_name": "Python 3",
   "language": "python",
   "name": "python3"
  },
  "language_info": {
   "codemirror_mode": {
    "name": "ipython",
    "version": 2
   },
   "file_extension": ".py",
   "mimetype": "text/x-python",
   "name": "python",
   "nbconvert_exporter": "python",
   "pygments_lexer": "ipython2",
   "version": "2.7.6"
  }
 },
 "nbformat": 4,
 "nbformat_minor": 0
}