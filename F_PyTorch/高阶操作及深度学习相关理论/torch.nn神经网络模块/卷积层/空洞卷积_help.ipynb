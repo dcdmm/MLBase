{
 "cells": [
  {
   "cell_type": "markdown",
   "metadata": {
    "collapsed": true
   },
   "source": [
    "### 空洞卷积的概念\n",
    "\n",
    "&emsp;&emsp;对于一个卷积层,如果希望增加输出单元的感受野,一般可以通过三种方式实现:\n",
    "1. 增加卷积核的大小\n",
    "2. 增加层数，比如两层$3 \\times 3 $的卷积可以近似一层$5 \\times 5$卷积的效果\n",
    "2. 在卷积之前进行池化操作\n",
    "\n",
    "前两种方式会增加参数数量,而第三种方式会丢失一些信息.\n",
    "\n",
    "&emsp;&emsp;空洞卷积(Atrous Convolution)是一种不增加参数数量,同时增加输出单元感受野的一种方法,也称为膨胀卷积(Dilated Convolution)\n",
    "\n",
    "&emsp;&emsp;空洞卷积通过给卷积核插入\"空洞\"来变相地增加其大小.如果在卷积核的每两个元素之间插入$D-1$个空洞,卷积核的有效大小为\n",
    "\n",
    "$$ K' = K + (K-1)(D-1) $$\n",
    "\n",
    "其中$D$称为膨胀率(Dilation Rate).当$D=1$时卷积核为普通的卷积核.\n",
    "\n",
    "\n",
    "\n",
    "### 空洞卷积示意图:\n",
    "\n",
    "<img src='../../../../Other/img/空洞卷积.png'>\n",
    "\n",
    "<img src='../../../../Other/img/空洞卷积.gif'>\n",
    "\n",
    "\n",
    "### 2D空洞卷积形状计算\n",
    "\n",
    "* input:$(N, C_{in}, H_{in}, W_{in})$\n",
    "\n",
    "* output:$(N, C_{out}, H_{out}, W_{out})$\n",
    "\n",
    "\n",
    "$$ H_{out} = \\left \\lfloor \\frac{D_{in} + 2 \\times padding[0] - dilation[0] \\times(kernel\\_size[0]-1)-1}{stride[0]} +1  \\right \\rfloor \\\\ $$\n",
    "\n",
    "$$ D_{out} = \\left \\lfloor \\frac{W_{in} + 2 \\times padding[1] - dilation[1] \\times(kernel\\_size[1]-1)-1}{stride[1]} +1  \\right \\rfloor \\\\ $$"
   ]
  },
  {
   "cell_type": "code",
   "execution_count": null,
   "metadata": {},
   "outputs": [],
   "source": []
  }
 ],
 "metadata": {
  "kernelspec": {
   "display_name": "Python 3",
   "language": "python",
   "name": "python3"
  },
  "language_info": {
   "codemirror_mode": {
    "name": "ipython",
    "version": 3
   },
   "file_extension": ".py",
   "mimetype": "text/x-python",
   "name": "python",
   "nbconvert_exporter": "python",
   "pygments_lexer": "ipython3",
   "version": "3.7.7"
  },
  "toc": {
   "base_numbering": 1,
   "nav_menu": {},
   "number_sections": true,
   "sideBar": true,
   "skip_h1_title": false,
   "title_cell": "Table of Contents",
   "title_sidebar": "Contents",
   "toc_cell": false,
   "toc_position": {},
   "toc_section_display": true,
   "toc_window_display": false
  }
 },
 "nbformat": 4,
 "nbformat_minor": 1
}
