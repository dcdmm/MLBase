{
 "cells": [
  {
   "cell_type": "markdown",
   "metadata": {
    "pycharm": {
     "metadata": false
    }
   },
   "source": [
    "* 两总体均值差的推断(独立,正态,小样本,两方差未知且相等)\n",
    "\n",
    "1. $ H0: $ 没有明显差异   \n",
    "2. $ H1: $ 有明显差异    "
   ]
  },
  {
   "cell_type": "code",
   "execution_count": 13,
   "metadata": {
    "pycharm": {
     "is_executing": false,
     "metadata": false,
     "name": "#%%\n"
    }
   },
   "outputs": [],
   "source": [
    "import pandas as pd\n",
    "import  numpy as np\n",
    "import  scipy.stats  \n",
    "import warnings\n",
    "warnings.filterwarnings(\"ignore\")"
   ]
  },
  {
   "cell_type": "code",
   "execution_count": 14,
   "metadata": {
    "pycharm": {
     "is_executing": false,
     "metadata": false,
     "name": "#%%\n"
    }
   },
   "outputs": [],
   "source": [
    "df = pd.read_csv('normtemp.txt', sep='   ',\n",
    "                 names = ['Temperature', 'Gender', 'Heart Rate'])\n",
    "CW_mu = 98.6\n",
    "female_temp = df.Temperature[df.Gender == 2]\n",
    "male_temp = df.Temperature[df.Gender == 1]"
   ]
  },
  {
   "cell_type": "code",
   "execution_count": 15,
   "metadata": {
    "pycharm": {
     "is_executing": false,
     "metadata": false,
     "name": "#%%\n"
    }
   },
   "outputs": [
    {
     "name": "stdout",
     "output_type": "stream",
     "text": [
      "检验统计量和P值为: (2.2854345381654992, 0.0239318831224023)\n"
     ]
    }
   ],
   "source": [
    "# 方法一:手工计算\n",
    "def ind2_ttest(data1, data2, u1=0, u2=0):\n",
    "    def calculation(data):\n",
    "        mean = np.mean(data)\n",
    "        std = np.std(data, ddof=1)\n",
    "        n = len(data)\n",
    "        return mean, std, n\n",
    "    \n",
    "    data1_mean, data1_std, data1_n = calculation(data1)\n",
    "    data2_mean, data2_std, data2_n = calculation(data2)\n",
    "    v = data1_n + data2_n - 2\n",
    "    sp2 = ((data1_n - 1 ) * data1_std**2 + (data2_n - 1 ) * data2_std**2) / v\n",
    "    test_value = (data1_mean - data2_mean - u1 + u2) / \\\n",
    "                 np.sqrt(sp2 * (1 / data1_n + 1 / data2_n))\n",
    "    p = scipy.stats.t.cdf(-test_value, df=v) * 2 # 双尾检验\n",
    "    \n",
    "    return test_value, p\n",
    "\n",
    "\n",
    "t2_te_va = ind2_ttest(female_temp, male_temp, CW_mu, CW_mu)\n",
    "print('检验统计量和P值为:', t2_te_va)"
   ]
  },
  {
   "cell_type": "code",
   "execution_count": 16,
   "metadata": {
    "pycharm": {
     "is_executing": false,
     "metadata": false,
     "name": "#%%\n"
    }
   },
   "outputs": [
    {
     "name": "stdout",
     "output_type": "stream",
     "text": [
      "检验统计量为: 2.2854345381654984\n",
      "P值为: 0.02393188312240236\n"
     ]
    }
   ],
   "source": [
    "# 方法二:scipy.stats.ttest_ind函数\n",
    "value, p = scipy.stats.ttest_ind(female_temp, male_temp, equal_var=True)\n",
    "'''\n",
    "def ttest_ind(a, b, axis=0, equal_var=True, nan_policy='propagate'):\n",
    "    \"\"\"\n",
    "    Calculate the T-test for the means of *two independent* samples of scores.\n",
    "\n",
    "    This is a two-sided test for the null hypothesis that 2 independent samples\n",
    "    have identical average (expected) values. This test assumes that the\n",
    "    populations have identical variances by default.\n",
    "\n",
    "    Parameters\n",
    "    ----------\n",
    "    a, b : array_like\n",
    "        The arrays must have the same shape, except in the dimension\n",
    "        corresponding to `axis` (the first, by default).\n",
    "\n",
    "    equal_var : bool, optional\n",
    "        If True (default), perform a standard independent 2 sample test\n",
    "        that assumes equal population variances.\n",
    "        If False, perform Welch's t-test, which does not assume equal\n",
    "        population variance.\n",
    "'''\n",
    "print('检验统计量为:', value)\n",
    "print('P值为:', p)"
   ]
  },
  {
   "cell_type": "code",
   "execution_count": null,
   "metadata": {
    "pycharm": {
     "name": "#%%\n"
    }
   },
   "outputs": [],
   "source": [
    "\n"
   ]
  }
 ],
 "metadata": {
  "kernelspec": {
   "display_name": "Python 3",
   "language": "python",
   "name": "python3"
  },
  "language_info": {
   "codemirror_mode": {
    "name": "ipython",
    "version": 3
   },
   "file_extension": ".py",
   "mimetype": "text/x-python",
   "name": "python",
   "nbconvert_exporter": "python",
   "pygments_lexer": "ipython3",
   "version": "3.7.7"
  },
  "pycharm": {
   "stem_cell": {
    "cell_type": "raw",
    "metadata": {
     "collapsed": false
    },
    "source": []
   }
  },
  "stem_cell": {
   "cell_type": "raw",
   "metadata": {
    "pycharm": {
     "metadata": false
    }
   },
   "source": ""
  },
  "toc": {
   "base_numbering": 1,
   "nav_menu": {},
   "number_sections": true,
   "sideBar": true,
   "skip_h1_title": false,
   "title_cell": "Table of Contents",
   "title_sidebar": "Contents",
   "toc_cell": false,
   "toc_position": {},
   "toc_section_display": true,
   "toc_window_display": false
  }
 },
 "nbformat": 4,
 "nbformat_minor": 1
}
