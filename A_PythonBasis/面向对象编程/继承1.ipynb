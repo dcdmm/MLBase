{
 "cells": [
  {
   "cell_type": "code",
   "execution_count": 33,
   "metadata": {
    "collapsed": true
   },
   "outputs": [],
   "source": [
    "class Progression:\n",
    "  \"\"\"Iterator producing a generic progression.\n",
    "\n",
    "  Default iterator produces the whole numbers 0, 1, 2, ...\n",
    "  \"\"\"\n",
    "\n",
    "  def __init__(self, start=0):\n",
    "    \"\"\"Initialize current to the first value of the progression.\"\"\"\n",
    "    self._current = start\n",
    "\n",
    "  def _advance(self):\n",
    "    \"\"\"Update self._current to a new value.\n",
    "\n",
    "    This should be overridden by a subclass to customize progression.\n",
    "\n",
    "    By convention, if current is set to None, this designates the\n",
    "    end of a finite progression.\n",
    "    \"\"\"\n",
    "    self._current += 1\n",
    "\n",
    "  def __next__(self):\n",
    "    \"\"\"Return the next element, or else raise StopIteration error.\"\"\"\n",
    "    if self._current is None:    # our convention to end a progression\n",
    "      raise StopIteration()\n",
    "    else:\n",
    "      answer = self._current     # record current value to return\n",
    "      self._advance()            # advance to prepare for next time\n",
    "      return answer              # return the answer\n",
    "\n",
    "  def __iter__(self):\n",
    "    \"\"\"By convention, an iterator must return itself as an iterator.\"\"\"\n",
    "    return self\n",
    "\n",
    "  def print_progression(self, n):\n",
    "    \"\"\"Print next n values of the progression.\"\"\"\n",
    "    print(' '.join(str(next(self)) for _ in range(n)))"
   ]
  },
  {
   "cell_type": "code",
   "execution_count": 34,
   "outputs": [],
   "source": [
    "class ArithmeticProgression(Progression):  # inherit from Progression\n",
    "  \"\"\"Iterator producing an arithmetic progression.\"\"\"\n",
    "  \n",
    "  def __init__(self, increment=1, start=0):\n",
    "    \"\"\"Create a new arithmetic progression.\n",
    "\n",
    "    increment  the fixed constant to add to each term (default 1)\n",
    "    start      the first term of the progression (default 0)\n",
    "    \"\"\"\n",
    "    super().__init__(start)                # initialize base class\n",
    "    self._increment = increment\n",
    "\n",
    "  def _advance(self):                      # override inherited version\n",
    "    \"\"\"Update current value by adding the fixed increment.\"\"\"\n",
    "    self._current += self._increment"
   ],
   "metadata": {
    "collapsed": false,
    "pycharm": {
     "name": "#%%\n"
    }
   }
  },
  {
   "cell_type": "code",
   "execution_count": 35,
   "outputs": [
    {
     "name": "stdout",
     "output_type": "stream",
     "text": [
      "1 4 7\n"
     ]
    }
   ],
   "source": [
    "a = ArithmeticProgression(increment=3, start=1) # 等差数列\n",
    "a.print_progression(3)"
   ],
   "metadata": {
    "collapsed": false,
    "pycharm": {
     "name": "#%%\n"
    }
   }
  },
  {
   "cell_type": "code",
   "execution_count": 36,
   "outputs": [],
   "source": [
    "    \n",
    "class GeometricProgression(Progression):   # inherit from Progression\n",
    "  \"\"\"Iterator producing a geometric progression.\"\"\"\n",
    "  \n",
    "  def __init__(self, base=2, start=1):\n",
    "    \"\"\"Create a new geometric progression.\n",
    "\n",
    "    base       the fixed constant multiplied to each term (default 2)\n",
    "    start      the first term of the progression (default 1)\n",
    "    \"\"\"\n",
    "    super().__init__(start)\n",
    "    self._base = base\n",
    "\n",
    "  def _advance(self):                      # override inherited version\n",
    "    \"\"\"Update current value by multiplying it by the base value.\"\"\"\n",
    "    self._current *= self._base"
   ],
   "metadata": {
    "collapsed": false,
    "pycharm": {
     "name": "#%%\n"
    }
   }
  },
  {
   "cell_type": "code",
   "execution_count": 37,
   "outputs": [
    {
     "name": "stdout",
     "output_type": "stream",
     "text": [
      "1 3 9\n"
     ]
    }
   ],
   "source": [
    "b = GeometricProgression(base=3, start=1)\n",
    "b.print_progression(3) # 等比数列"
   ],
   "metadata": {
    "collapsed": false,
    "pycharm": {
     "name": "#%%\n"
    }
   }
  },
  {
   "cell_type": "code",
   "execution_count": 38,
   "outputs": [],
   "source": [
    "class FibonacciProgression(Progression):\n",
    "  \"\"\"Iterator producing a generalized Fibonacci progression.\"\"\"\n",
    "  \n",
    "  def __init__(self, first=0, second=1):\n",
    "    \"\"\"Create a new fibonacci progression.\n",
    "\n",
    "    first      the first term of the progression (default 0)\n",
    "    second     the second term of the progression (default 1)\n",
    "    \"\"\"\n",
    "    super().__init__(first)              # start progression at first\n",
    "    self._prev = second - first        # fictitious value preceding the first\n",
    "\n",
    "  def _advance(self):\n",
    "    \"\"\"Update current value by taking sum of previous two.\"\"\"\n",
    "    self._prev, self._current = self._current, self._prev + self._current"
   ],
   "metadata": {
    "collapsed": false,
    "pycharm": {
     "name": "#%%\n"
    }
   }
  },
  {
   "cell_type": "code",
   "execution_count": 39,
   "outputs": [
    {
     "name": "stdout",
     "output_type": "stream",
     "text": [
      "0 1 1 2 3 5 8 13 21 34 55 89\n"
     ]
    }
   ],
   "source": [
    "c = FibonacciProgression()\n",
    "c.print_progression(12) # 斐波拉契数列"
   ],
   "metadata": {
    "collapsed": false,
    "pycharm": {
     "name": "#%%\n"
    }
   }
  },
  {
   "cell_type": "code",
   "execution_count": 39,
   "outputs": [],
   "source": [],
   "metadata": {
    "collapsed": false,
    "pycharm": {
     "name": "#%%\n"
    }
   }
  }
 ],
 "metadata": {
  "kernelspec": {
   "display_name": "Python 3",
   "language": "python",
   "name": "python3"
  },
  "language_info": {
   "codemirror_mode": {
    "name": "ipython",
    "version": 2
   },
   "file_extension": ".py",
   "mimetype": "text/x-python",
   "name": "python",
   "nbconvert_exporter": "python",
   "pygments_lexer": "ipython2",
   "version": "2.7.6"
  }
 },
 "nbformat": 4,
 "nbformat_minor": 0
}