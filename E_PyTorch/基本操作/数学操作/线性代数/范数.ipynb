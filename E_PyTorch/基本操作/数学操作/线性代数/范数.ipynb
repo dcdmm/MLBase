{
 "cells": [
  {
   "cell_type": "markdown",
   "metadata": {
    "collapsed": true,
    "pycharm": {
     "name": "#%% md\n"
    }
   },
   "source": [
    "| `ord`              | norm for matrices       | norm for vectors              |\n",
    "| ------------------ | ----------------------- | ----------------------------- |\n",
    "| None (default)     | Frobenius norm          | 2-norm (see below)            |\n",
    "| ‘fro’              | Frobenius norm          | – not supported –             |\n",
    "| ‘nuc’              | nuclear norm            | – not supported –             |\n",
    "| inf                | max(sum(abs(x), dim=1)) | max(abs(x))                   |\n",
    "| -inf               | min(sum(abs(x), dim=1)) | min(abs(x))                   |\n",
    "| 0                  | – not supported –       | sum(x != 0)                   |\n",
    "| 1                  | max(sum(abs(x), dim=0)) | as below                      |\n",
    "| -1                 | min(sum(abs(x), dim=0)) | as below                      |\n",
    "| 2                  | largest singular value  | as below                      |\n",
    "| -2                 | smallest singular value | as below                      |\n",
    "| other int or float | – not supported –       | sum(abs(x)^{ord})^{(1 / ord)} |\n"
   ]
  },
  {
   "cell_type": "code",
   "execution_count": 27,
   "outputs": [],
   "source": [
    "from torch import linalg as LA\n",
    "import torch"
   ],
   "metadata": {
    "collapsed": false,
    "pycharm": {
     "name": "#%%\n"
    }
   }
  },
  {
   "cell_type": "code",
   "execution_count": 28,
   "outputs": [
    {
     "data": {
      "text/plain": "tensor([-4., -3., -2., -1.,  0.,  1.,  2.,  3.,  4.])"
     },
     "execution_count": 28,
     "metadata": {},
     "output_type": "execute_result"
    }
   ],
   "source": [
    "a = torch.arange(9, dtype=torch.float) - 4\n",
    "a"
   ],
   "metadata": {
    "collapsed": false,
    "pycharm": {
     "name": "#%%\n"
    }
   }
  },
  {
   "cell_type": "code",
   "execution_count": 29,
   "outputs": [
    {
     "data": {
      "text/plain": "tensor([[-4., -3., -2.],\n        [-1.,  0.,  1.],\n        [ 2.,  3.,  4.]])"
     },
     "execution_count": 29,
     "metadata": {},
     "output_type": "execute_result"
    }
   ],
   "source": [
    "B = a.reshape((3, 3))\n",
    "B"
   ],
   "metadata": {
    "collapsed": false,
    "pycharm": {
     "name": "#%%\n"
    }
   }
  },
  {
   "cell_type": "code",
   "execution_count": 30,
   "outputs": [
    {
     "name": "stdout",
     "output_type": "stream",
     "text": [
      "tensor(7.7460)\n",
      "tensor(7.7460)\n",
      "tensor(7.7460)\n",
      "tensor(7.7460)\n"
     ]
    }
   ],
   "source": [
    "print(LA.norm(a))\n",
    "print(LA.norm(a, ord=2))  # 向量:默认ord=2\n",
    "\n",
    "print(LA.norm(B))\n",
    "print(LA.norm(B, ord='fro'))  # 矩阵:默认ord='fro'"
   ],
   "metadata": {
    "collapsed": false,
    "pycharm": {
     "name": "#%%\n"
    }
   }
  },
  {
   "cell_type": "code",
   "execution_count": 31,
   "outputs": [
    {
     "name": "stdout",
     "output_type": "stream",
     "text": [
      "tensor(4.)\n",
      "tensor(9.)\n",
      "tensor(0.)\n",
      "tensor(2.)\n"
     ]
    }
   ],
   "source": [
    "print(LA.norm(a, float('inf')))\n",
    "print(LA.norm(B, float('inf')))\n",
    "\n",
    "print(LA.norm(a, -float('inf')))\n",
    "print(LA.norm(B, -float('inf')))"
   ],
   "metadata": {
    "collapsed": false,
    "pycharm": {
     "name": "#%%\n"
    }
   }
  },
  {
   "cell_type": "code",
   "execution_count": 32,
   "outputs": [
    {
     "data": {
      "text/plain": "tensor([[[0., 1.],\n         [2., 3.]],\n\n        [[4., 5.],\n         [6., 7.]]])"
     },
     "execution_count": 32,
     "metadata": {},
     "output_type": "execute_result"
    }
   ],
   "source": [
    "A = torch.arange(8, dtype=torch.float).reshape(2, 2, 2)\n",
    "A"
   ],
   "metadata": {
    "collapsed": false,
    "pycharm": {
     "name": "#%%\n"
    }
   }
  },
  {
   "cell_type": "code",
   "execution_count": 33,
   "outputs": [
    {
     "name": "stdout",
     "output_type": "stream",
     "text": [
      "tensor([ 3.7417, 11.2250])\n",
      "tensor(3.7417) tensor(11.2250)\n"
     ]
    }
   ],
   "source": [
    "print(LA.norm(A, dim=(1, 2)))\n",
    "print(LA.norm(A[0, :, :]), LA.norm(A[1, :, :]))  # 与上等级"
   ],
   "metadata": {
    "collapsed": false,
    "pycharm": {
     "name": "#%%\n"
    }
   }
  }
 ],
 "metadata": {
  "kernelspec": {
   "display_name": "Python 3",
   "language": "python",
   "name": "python3"
  },
  "language_info": {
   "codemirror_mode": {
    "name": "ipython",
    "version": 2
   },
   "file_extension": ".py",
   "mimetype": "text/x-python",
   "name": "python",
   "nbconvert_exporter": "python",
   "pygments_lexer": "ipython2",
   "version": "2.7.6"
  }
 },
 "nbformat": 4,
 "nbformat_minor": 0
}