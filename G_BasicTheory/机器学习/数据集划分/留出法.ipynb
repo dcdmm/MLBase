{
 "cells": [
  {
   "cell_type": "markdown",
   "metadata": {
    "collapsed": true,
    "pycharm": {
     "name": "#%% md\n"
    }
   },
   "source": [
    "&emsp;&emsp;\"留出法\"(hold-out)直接将数据集$ D$划分为两个互斥的集合,其中一个集合作为训练集$S $,另一个作为测试集$ T$,即\n",
    "$ D=S \\bigcup T, S \\bigcap T = \\varnothing $.在$ S$上训练出模型后,用$ T $来评估其测试误差,作为对泛化误差的估计.     \n",
    "&emsp;&emsp;需注意到是,训练/测试集的划分尽可能保持数据分布的一致性,避免因数据划分过程引入额外的偏差而对最终结果产生影响,例如在\n",
    "分类任务中要保持样本的类别比例相似.如果从采样(sampling的角度)来看待数据集的划分过程,则保留类别比例的采样方式通常称为\"分层采样\"(stratified sampling).\n",
    "例如通过对$ D $进行分层采样而获得含70%样本的训练集$ S $和含30%样本的测试集$ T $,若$ D$包含500个正例,500个反例,则分层采样得到的$ S $应\n",
    "包含350个正例,350个反例,而$ T $则包含150个正例和150个反例;若$ S,T $中样本类别比例差别很大,则误差估计将由于训练/测试数据分布的差异而产生偏差.    \n",
    "&emsp;&emsp;单次使用留出法得到的估计结果往往不稳定可靠,在使用留出法时,一般要采用若干次随机划分.重新进行实验评估后取平均值作为留出法的评估结果.  \n",
    "&emsp;&emsp;一般将$ 2/3 \\sim 4/5 $的样本用于训练,剩余样本用于测试.  "
   ]
  },
  {
   "cell_type": "code",
   "execution_count": 8,
   "outputs": [
    {
     "data": {
      "text/plain": "array([[0, 1],\n       [2, 3],\n       [4, 5],\n       [6, 7],\n       [8, 9]])"
     },
     "execution_count": 8,
     "metadata": {},
     "output_type": "execute_result"
    }
   ],
   "source": [
    "import numpy as np\n",
    "import pandas as pd\n",
    "from sklearn.model_selection import train_test_split\n",
    "\n",
    "X, y = np.arange(10).reshape((5, 2)), range(5)\n",
    "X"
   ],
   "metadata": {
    "collapsed": false,
    "pycharm": {
     "name": "#%%%\n"
    }
   }
  },
  {
   "cell_type": "code",
   "execution_count": 9,
   "outputs": [
    {
     "name": "stdout",
     "output_type": "stream",
     "text": [
      "[[8 9]\n",
      " [0 1]\n",
      " [6 7]]\n",
      "[[4 5]\n",
      " [2 3]]\n"
     ]
    }
   ],
   "source": [
    "# 默认test_size=0.25\n",
    "X_train0, X_test0 = train_test_split\\\n",
    "    (X, test_size=0.33, random_state=1) # 只分割X\n",
    "'''\n",
    "*arrays : sequence of indexables with same length / shape[0]\n",
    "        Allowed inputs are lists, numpy arrays, scipy-sparse\n",
    "        matrices or pandas dataframes.\n",
    "\n",
    "test_size : float, int or None, optional (default=None)\n",
    "        If float, should be between 0.0 and 1.0 and represent the proportion\n",
    "        of the dataset to include in the test split. If int, represents the\n",
    "        absolute number of test samples.\n",
    "        \n",
    "random_state : int, RandomState instance or None, optional (default=None)\n",
    "    If int, random_state is the seed used by the random number generator;\n",
    "    If RandomState instance, random_state is the random number generator;\n",
    "    If None, the random number generator is the RandomState instance used\n",
    "    by `np.random`.\n",
    "'''\n",
    "print(X_train0)\n",
    "print(X_test0)"
   ],
   "metadata": {
    "collapsed": false,
    "pycharm": {
     "name": "#%%\n"
    }
   }
  },
  {
   "cell_type": "code",
   "execution_count": 10,
   "outputs": [
    {
     "name": "stdout",
     "output_type": "stream",
     "text": [
      "[4, 0, 3]\n",
      "[2, 1]\n"
     ]
    }
   ],
   "source": [
    "y_train0, y_test0= train_test_split\\\n",
    "    (y, test_size=0.33, random_state=1) # 只分割y\n",
    "print(y_train0)\n",
    "print(y_test0)"
   ],
   "metadata": {
    "collapsed": false,
    "pycharm": {
     "name": "#%%\n"
    }
   }
  },
  {
   "cell_type": "code",
   "execution_count": 11,
   "outputs": [
    {
     "name": "stdout",
     "output_type": "stream",
     "text": [
      "[[8 9]\n",
      " [0 1]\n",
      " [6 7]]\n",
      "[[4 5]\n",
      " [2 3]]\n",
      "[4, 0, 3]\n",
      "[2, 1]\n"
     ]
    }
   ],
   "source": [
    "X_train1, X_test1, y_train1, y_test1 = train_test_split\\\n",
    "    (X, y, test_size=0.33, random_state=1) # 分割X和y\n",
    "\n",
    "print(X_train1)\n",
    "print(X_test1)\n",
    "print(y_train1)\n",
    "print(y_test1)"
   ],
   "metadata": {
    "collapsed": false,
    "pycharm": {
     "name": "#%%\n"
    }
   }
  },
  {
   "cell_type": "code",
   "execution_count": 15,
   "outputs": [
    {
     "name": "stdout",
     "output_type": "stream",
     "text": [
      "1    4\n",
      "2    4\n",
      "3    2\n",
      "dtype: int64\n",
      "[[ 0  1  2  3  4]\n",
      " [ 5  6  7  8  9]\n",
      " [30 31 32 33 34]\n",
      " [35 36 37 38 39]\n",
      " [20 21 22 23 24]\n",
      " [10 11 12 13 14]]\n",
      "[[25 26 27 28 29]\n",
      " [40 41 42 43 44]\n",
      " [45 46 47 48 49]\n",
      " [15 16 17 18 19]]\n",
      "[1, 2, 2, 1, 3, 1]\n",
      "[3, 2, 1, 2]\n"
     ]
    }
   ],
   "source": [
    "X, y = np.arange(50).reshape((10, 5)), [1, 2, 1, 2, 3, 3, 2, 1, 2, 1]\n",
    "print(pd.Series(y).value_counts())\n",
    "\n",
    "'''\n",
    "stratify : array-like, default=None\n",
    "    If not None, data is split in a stratified fashion, using this as\n",
    "    the class labels.\n",
    "'''\n",
    "X_train1, X_test1, y_train1, y_test1 = train_test_split\\\n",
    "    (X, y, test_size=0.33, random_state=1,\n",
    "     stratify=y) # y每个类别样本数必须>=2\n",
    "\n",
    "print(X_train1)\n",
    "print(X_test1)\n",
    "print(y_train1)\n",
    "print(y_test1)"
   ],
   "metadata": {
    "collapsed": false,
    "pycharm": {
     "name": "#%%\n"
    }
   }
  },
  {
   "cell_type": "code",
   "execution_count": null,
   "outputs": [],
   "source": [
    "data = {'state': ['Ohio', 'Ohio', 'Ohio', 'Nevada', 'Nevada', 'Nevada'],\n",
    "        'year': [2000, 2001, 2002, 2001, 2002, 2003],\n",
    "        'pop': [1.5, 1.7, 3.6, 2.4, 2.9, 3.2]}\n",
    "frame = pd.DataFrame(data)\n",
    "frame.index = ['one', 'two', 'three', 'four', 'five', 'six']\n",
    "frame"
   ],
   "metadata": {
    "collapsed": false,
    "pycharm": {
     "name": "#%%\n"
    }
   }
  },
  {
   "cell_type": "code",
   "execution_count": null,
   "outputs": [],
   "source": [
    "frame1, frame2 = train_test_split(frame) # 直接对DataFrame按行进行分割\n",
    "frame1"
   ],
   "metadata": {
    "collapsed": false,
    "pycharm": {
     "name": "#%%%\n"
    }
   }
  },
  {
   "cell_type": "code",
   "execution_count": null,
   "outputs": [],
   "source": [
    "frame2"
   ],
   "metadata": {
    "collapsed": false,
    "pycharm": {
     "name": "#%%\n"
    }
   }
  },
  {
   "cell_type": "code",
   "execution_count": null,
   "outputs": [],
   "source": [],
   "metadata": {
    "collapsed": false,
    "pycharm": {
     "name": "#%%\n"
    }
   }
  }
 ],
 "metadata": {
  "kernelspec": {
   "display_name": "Python 3",
   "language": "python",
   "name": "python3"
  },
  "language_info": {
   "codemirror_mode": {
    "name": "ipython",
    "version": 2
   },
   "file_extension": ".py",
   "mimetype": "text/x-python",
   "name": "python",
   "nbconvert_exporter": "python",
   "pygments_lexer": "ipython2",
   "version": "2.7.6"
  }
 },
 "nbformat": 4,
 "nbformat_minor": 0
}