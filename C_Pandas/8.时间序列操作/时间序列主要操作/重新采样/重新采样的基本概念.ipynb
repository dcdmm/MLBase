{
 "cells": [
  {
   "cell_type": "code",
   "execution_count": null,
   "outputs": [],
   "source": [
    "import  numpy as np\n",
    "import  pandas as pd"
   ],
   "metadata": {
    "collapsed": false,
    "pycharm": {
     "name": "#%%\n"
    }
   }
  },
  {
   "cell_type": "code",
   "execution_count": 3,
   "metadata": {
    "pycharm": {
     "is_executing": false
    }
   },
   "outputs": [
    {
     "data": {
      "text/plain": "'\\n高频率的数据聚合到低频率被称为向下采样,向下采样中,目标频率必须是原频率的子区间\\n低频率的数据聚合到高频率被称为向上采样,向上采样中,目标频率必须是原频率的父区间\\n又不是所有的重新采样都属于向上或向下,W-WEN(weekly on Wednesday,每周三)转换到W-FRI(每周五)既不是向上采样也不是向下采样)\\n'"
     },
     "metadata": {},
     "output_type": "execute_result",
     "execution_count": 3
    }
   ],
   "source": [
    "'''\n",
    "高频率的数据聚合到低频率被称为向下采样,向下采样中,目标频率必须是原频率的子区间\n",
    "低频率的数据聚合到高频率被称为向上采样,向上采样中,目标频率必须是原频率的父区间\n",
    "又不是所有的重新采样都属于向上或向下,W-WEN(weekly on Wednesday,每周三)转换到W-FRI(每周五)既不是向上采样也不是向下采样)\n",
    "'''"
   ]
  },
  {
   "cell_type": "code",
   "execution_count": 4,
   "metadata": {
    "pycharm": {
     "is_executing": false
    }
   },
   "outputs": [
    {
     "data": {
      "text/plain": "2000-01-01    0.311131\n2000-01-02    0.370231\n2000-01-03    0.638511\n2000-01-04   -1.043456\n2000-01-05   -0.815414\nFreq: D, dtype: float64"
     },
     "metadata": {},
     "output_type": "execute_result",
     "execution_count": 4
    }
   ],
   "source": "rng = pd.date_range('2000-01-01', periods=100, freq='d')\nts = pd.Series(np.random.randn(len(rng)), index=rng)\nts.head()"
  },
  {
   "cell_type": "code",
   "execution_count": 5,
   "metadata": {
    "pycharm": {
     "is_executing": false
    }
   },
   "outputs": [
    {
     "name": "stdout",
     "text": [
      "2000-01-31    1.500307\n2000-02-29   -0.511212\n2000-03-31    0.858972\n2000-04-28         NaN\nFreq: BM, dtype: float64\n<class 'pandas.core.indexes.datetimes.DatetimeIndex'>\n"
     ],
     "output_type": "stream"
    }
   ],
   "source": "# 直接对时间序列进行操作\ns = ts.resample(rule='BM').asfreq() # 类似于groupby分组\n'''\nrule : str\n        The offset string or object representing target conversion.\n'''\nprint(s)\nprint(type(s.index))"
  },
  {
   "cell_type": "code",
   "execution_count": 6,
   "metadata": {
    "pycharm": {
     "is_executing": false
    }
   },
   "outputs": [
    {
     "name": "stdout",
     "text": [
      "2000-01    0.287473\n2000-02   -0.106542\n2000-03   -0.005554\n2000-04   -0.552478\nFreq: M, dtype: float64\nPeriodIndex(['2000-01', '2000-02', '2000-03', '2000-04'], dtype='period[M]', freq='M')\n<class 'pandas.core.indexes.period.PeriodIndex'>\n"
     ],
     "output_type": "stream"
    }
   ],
   "source": "s1 = ts.resample('M', kind='period').mean() # rule不能等于'BM'\n'''\nkind : {'timestamp', 'period'}, optional, default None\n    Pass 'timestamp' to convert the resulting index to a\n    `DateTimeIndex` or 'period' to convert it to a `PeriodIndex`.\n    By default the input representation is retained.\n'''\nprint(s1)\nprint(s1.index)\nprint(type(s1.index))"
  },
  {
   "cell_type": "code",
   "execution_count": 52,
   "metadata": {
    "pycharm": {
     "is_executing": false
    }
   },
   "outputs": [
    {
     "name": "stdout",
     "text": [
      "                   A         B\n2000-01-01  0.656553 -0.519493\n2000-01-02 -0.185357  0.156206\n2000-01-03 -1.689500  0.094476\n2000-01-04  0.050731 -0.069762\n2000-01-05  0.100679 -0.488057\n"
     ],
     "output_type": "stream"
    }
   ],
   "source": "def top(df):\n\treturn  df.sum()\n\nrng1 = pd.date_range('2000', periods=366, freq='d')\nframe = pd.DataFrame(np.reshape(s, (len(rng1), 2)), \n                     index=rng1, columns=list('AB'))\nprint(frame.head())"
  },
  {
   "cell_type": "code",
   "execution_count": 53,
   "outputs": [
    {
     "data": {
      "text/plain": "                   A         B\n2000-01-31  1.338741 -5.131865\n2000-02-29 -2.054102  0.078789\n2000-03-31 -1.003090 -2.379426\n2000-04-30  1.849164 -0.432397\n2000-05-31 -5.066477  1.971307",
      "text/html": "<div>\n<style scoped>\n    .dataframe tbody tr th:only-of-type {\n        vertical-align: middle;\n    }\n\n    .dataframe tbody tr th {\n        vertical-align: top;\n    }\n\n    .dataframe thead th {\n        text-align: right;\n    }\n</style>\n<table border=\"1\" class=\"dataframe\">\n  <thead>\n    <tr style=\"text-align: right;\">\n      <th></th>\n      <th>A</th>\n      <th>B</th>\n    </tr>\n  </thead>\n  <tbody>\n    <tr>\n      <th>2000-01-31</th>\n      <td>1.338741</td>\n      <td>-5.131865</td>\n    </tr>\n    <tr>\n      <th>2000-02-29</th>\n      <td>-2.054102</td>\n      <td>0.078789</td>\n    </tr>\n    <tr>\n      <th>2000-03-31</th>\n      <td>-1.003090</td>\n      <td>-2.379426</td>\n    </tr>\n    <tr>\n      <th>2000-04-30</th>\n      <td>1.849164</td>\n      <td>-0.432397</td>\n    </tr>\n    <tr>\n      <th>2000-05-31</th>\n      <td>-5.066477</td>\n      <td>1.971307</td>\n    </tr>\n  </tbody>\n</table>\n</div>"
     },
     "metadata": {},
     "output_type": "execute_result",
     "execution_count": 53
    }
   ],
   "source": "frame.resample('M').sum().head() # 聚合",
   "metadata": {
    "pycharm": {
     "metadata": false,
     "name": "#%%\n",
     "is_executing": false
    }
   }
  },
  {
   "cell_type": "code",
   "execution_count": 54,
   "outputs": [
    {
     "data": {
      "text/plain": "                   A         B\n2000-01-31  1.338741 -5.131865\n2000-02-29 -2.054102  0.078789\n2000-03-31 -1.003090 -2.379426\n2000-04-28  2.056667 -1.194756\n2000-05-31 -5.273981  2.733666",
      "text/html": "<div>\n<style scoped>\n    .dataframe tbody tr th:only-of-type {\n        vertical-align: middle;\n    }\n\n    .dataframe tbody tr th {\n        vertical-align: top;\n    }\n\n    .dataframe thead th {\n        text-align: right;\n    }\n</style>\n<table border=\"1\" class=\"dataframe\">\n  <thead>\n    <tr style=\"text-align: right;\">\n      <th></th>\n      <th>A</th>\n      <th>B</th>\n    </tr>\n  </thead>\n  <tbody>\n    <tr>\n      <th>2000-01-31</th>\n      <td>1.338741</td>\n      <td>-5.131865</td>\n    </tr>\n    <tr>\n      <th>2000-02-29</th>\n      <td>-2.054102</td>\n      <td>0.078789</td>\n    </tr>\n    <tr>\n      <th>2000-03-31</th>\n      <td>-1.003090</td>\n      <td>-2.379426</td>\n    </tr>\n    <tr>\n      <th>2000-04-28</th>\n      <td>2.056667</td>\n      <td>-1.194756</td>\n    </tr>\n    <tr>\n      <th>2000-05-31</th>\n      <td>-5.273981</td>\n      <td>2.733666</td>\n    </tr>\n  </tbody>\n</table>\n</div>"
     },
     "metadata": {},
     "output_type": "execute_result",
     "execution_count": 54
    }
   ],
   "source": "frame.resample('BM').sum().head() # 这里rule可以等于'BM'",
   "metadata": {
    "pycharm": {
     "metadata": false,
     "name": "#%%\n",
     "is_executing": false
    }
   }
  },
  {
   "cell_type": "code",
   "execution_count": 55,
   "outputs": [
    {
     "data": {
      "text/plain": "                   A         B\n2000-01-31  1.338741 -5.131865\n2000-02-29 -2.054102  0.078789\n2000-03-31 -1.003090 -2.379426\n2000-04-28  2.056667 -1.194756\n2000-05-31 -5.273981  2.733666",
      "text/html": "<div>\n<style scoped>\n    .dataframe tbody tr th:only-of-type {\n        vertical-align: middle;\n    }\n\n    .dataframe tbody tr th {\n        vertical-align: top;\n    }\n\n    .dataframe thead th {\n        text-align: right;\n    }\n</style>\n<table border=\"1\" class=\"dataframe\">\n  <thead>\n    <tr style=\"text-align: right;\">\n      <th></th>\n      <th>A</th>\n      <th>B</th>\n    </tr>\n  </thead>\n  <tbody>\n    <tr>\n      <th>2000-01-31</th>\n      <td>1.338741</td>\n      <td>-5.131865</td>\n    </tr>\n    <tr>\n      <th>2000-02-29</th>\n      <td>-2.054102</td>\n      <td>0.078789</td>\n    </tr>\n    <tr>\n      <th>2000-03-31</th>\n      <td>-1.003090</td>\n      <td>-2.379426</td>\n    </tr>\n    <tr>\n      <th>2000-04-28</th>\n      <td>2.056667</td>\n      <td>-1.194756</td>\n    </tr>\n    <tr>\n      <th>2000-05-31</th>\n      <td>-5.273981</td>\n      <td>2.733666</td>\n    </tr>\n  </tbody>\n</table>\n</div>"
     },
     "metadata": {},
     "output_type": "execute_result",
     "execution_count": 55
    }
   ],
   "source": "frame.resample('BM').apply(top).head() # 类似于groupby函数映射apply",
   "metadata": {
    "pycharm": {
     "metadata": false,
     "name": "#%%\n",
     "is_executing": false
    }
   }
  },
  {
   "cell_type": "code",
   "execution_count": 56,
   "outputs": [
    {
     "data": {
      "text/plain": "                   A                   B          \n                 sum      mean       sum      mean\n2000-01-31  1.338741  0.043185 -5.131865 -0.165544\n2000-02-29 -2.054102 -0.070831  0.078789  0.002717\n2000-03-31 -1.003090 -0.032358 -2.379426 -0.076756\n2000-04-30  1.849164  0.061639 -0.432397 -0.014413\n2000-05-31 -5.066477 -0.163435  1.971307  0.063591",
      "text/html": "<div>\n<style scoped>\n    .dataframe tbody tr th:only-of-type {\n        vertical-align: middle;\n    }\n\n    .dataframe tbody tr th {\n        vertical-align: top;\n    }\n\n    .dataframe thead tr th {\n        text-align: left;\n    }\n</style>\n<table border=\"1\" class=\"dataframe\">\n  <thead>\n    <tr>\n      <th></th>\n      <th colspan=\"2\" halign=\"left\">A</th>\n      <th colspan=\"2\" halign=\"left\">B</th>\n    </tr>\n    <tr>\n      <th></th>\n      <th>sum</th>\n      <th>mean</th>\n      <th>sum</th>\n      <th>mean</th>\n    </tr>\n  </thead>\n  <tbody>\n    <tr>\n      <th>2000-01-31</th>\n      <td>1.338741</td>\n      <td>0.043185</td>\n      <td>-5.131865</td>\n      <td>-0.165544</td>\n    </tr>\n    <tr>\n      <th>2000-02-29</th>\n      <td>-2.054102</td>\n      <td>-0.070831</td>\n      <td>0.078789</td>\n      <td>0.002717</td>\n    </tr>\n    <tr>\n      <th>2000-03-31</th>\n      <td>-1.003090</td>\n      <td>-0.032358</td>\n      <td>-2.379426</td>\n      <td>-0.076756</td>\n    </tr>\n    <tr>\n      <th>2000-04-30</th>\n      <td>1.849164</td>\n      <td>0.061639</td>\n      <td>-0.432397</td>\n      <td>-0.014413</td>\n    </tr>\n    <tr>\n      <th>2000-05-31</th>\n      <td>-5.066477</td>\n      <td>-0.163435</td>\n      <td>1.971307</td>\n      <td>0.063591</td>\n    </tr>\n  </tbody>\n</table>\n</div>"
     },
     "metadata": {},
     "output_type": "execute_result",
     "execution_count": 56
    }
   ],
   "source": "# 如果传输的是函数或函数名的列表,将得到一个列名是这些函数名的DataFrame\nframe.resample('M').agg([np.sum, np.mean]).head() # 类似于groupby中agg函数进行数据聚合",
   "metadata": {
    "pycharm": {
     "metadata": false,
     "name": "#%%\n",
     "is_executing": false
    }
   }
  },
  {
   "cell_type": "code",
   "execution_count": 63,
   "outputs": [
    {
     "data": {
      "text/plain": "                   A                   B           \n                 sum       std      mean <lambda_0>\n2000-01-31  1.338741  1.007099 -0.165544   1.016248\n2000-02-29 -2.054102  0.863285  0.002717   0.996236\n2000-03-31 -1.003090  1.140368 -0.076756   1.030643\n2000-04-30  1.849164  1.102423 -0.014413   0.836517\n2000-05-31 -5.066477  0.967861  0.063591   1.027284",
      "text/html": "<div>\n<style scoped>\n    .dataframe tbody tr th:only-of-type {\n        vertical-align: middle;\n    }\n\n    .dataframe tbody tr th {\n        vertical-align: top;\n    }\n\n    .dataframe thead tr th {\n        text-align: left;\n    }\n</style>\n<table border=\"1\" class=\"dataframe\">\n  <thead>\n    <tr>\n      <th></th>\n      <th colspan=\"2\" halign=\"left\">A</th>\n      <th colspan=\"2\" halign=\"left\">B</th>\n    </tr>\n    <tr>\n      <th></th>\n      <th>sum</th>\n      <th>std</th>\n      <th>mean</th>\n      <th>&lt;lambda_0&gt;</th>\n    </tr>\n  </thead>\n  <tbody>\n    <tr>\n      <th>2000-01-31</th>\n      <td>1.338741</td>\n      <td>1.007099</td>\n      <td>-0.165544</td>\n      <td>1.016248</td>\n    </tr>\n    <tr>\n      <th>2000-02-29</th>\n      <td>-2.054102</td>\n      <td>0.863285</td>\n      <td>0.002717</td>\n      <td>0.996236</td>\n    </tr>\n    <tr>\n      <th>2000-03-31</th>\n      <td>-1.003090</td>\n      <td>1.140368</td>\n      <td>-0.076756</td>\n      <td>1.030643</td>\n    </tr>\n    <tr>\n      <th>2000-04-30</th>\n      <td>1.849164</td>\n      <td>1.102423</td>\n      <td>-0.014413</td>\n      <td>0.836517</td>\n    </tr>\n    <tr>\n      <th>2000-05-31</th>\n      <td>-5.066477</td>\n      <td>0.967861</td>\n      <td>0.063591</td>\n      <td>1.027284</td>\n    </tr>\n  </tbody>\n</table>\n</div>"
     },
     "metadata": {},
     "output_type": "execute_result",
     "execution_count": 63
    }
   ],
   "source": "frame.resample('M').agg({'A': ['sum', 'std'],\n                         'B': ['mean', lambda x: np.std(x, ddof=1)]}).head() # 不同的函数应用到不同的列中",
   "metadata": {
    "pycharm": {
     "metadata": false,
     "name": "#%%\n",
     "is_executing": false
    }
   }
  },
  {
   "cell_type": "code",
   "execution_count": 64,
   "outputs": [
    {
     "data": {
      "text/plain": "                   A         B\n2000-01-31  1.338741  1.016248\n2000-02-29 -2.054102  0.996236\n2000-03-31 -1.003090  1.030643\n2000-04-30  1.849164  0.836517\n2000-05-31 -5.066477  1.027284\n2000-06-30 -7.041840  1.013769\n2000-07-31 -2.349089  1.175865\n2000-08-31 -1.060093  0.900933\n2000-09-30  8.111693  1.059731\n2000-10-31  7.214518  0.956085\n2000-11-30 -0.052152  1.069059\n2000-12-31 -1.989658  0.892736",
      "text/html": "<div>\n<style scoped>\n    .dataframe tbody tr th:only-of-type {\n        vertical-align: middle;\n    }\n\n    .dataframe tbody tr th {\n        vertical-align: top;\n    }\n\n    .dataframe thead th {\n        text-align: right;\n    }\n</style>\n<table border=\"1\" class=\"dataframe\">\n  <thead>\n    <tr style=\"text-align: right;\">\n      <th></th>\n      <th>A</th>\n      <th>B</th>\n    </tr>\n  </thead>\n  <tbody>\n    <tr>\n      <th>2000-01-31</th>\n      <td>1.338741</td>\n      <td>1.016248</td>\n    </tr>\n    <tr>\n      <th>2000-02-29</th>\n      <td>-2.054102</td>\n      <td>0.996236</td>\n    </tr>\n    <tr>\n      <th>2000-03-31</th>\n      <td>-1.003090</td>\n      <td>1.030643</td>\n    </tr>\n    <tr>\n      <th>2000-04-30</th>\n      <td>1.849164</td>\n      <td>0.836517</td>\n    </tr>\n    <tr>\n      <th>2000-05-31</th>\n      <td>-5.066477</td>\n      <td>1.027284</td>\n    </tr>\n    <tr>\n      <th>2000-06-30</th>\n      <td>-7.041840</td>\n      <td>1.013769</td>\n    </tr>\n    <tr>\n      <th>2000-07-31</th>\n      <td>-2.349089</td>\n      <td>1.175865</td>\n    </tr>\n    <tr>\n      <th>2000-08-31</th>\n      <td>-1.060093</td>\n      <td>0.900933</td>\n    </tr>\n    <tr>\n      <th>2000-09-30</th>\n      <td>8.111693</td>\n      <td>1.059731</td>\n    </tr>\n    <tr>\n      <th>2000-10-31</th>\n      <td>7.214518</td>\n      <td>0.956085</td>\n    </tr>\n    <tr>\n      <th>2000-11-30</th>\n      <td>-0.052152</td>\n      <td>1.069059</td>\n    </tr>\n    <tr>\n      <th>2000-12-31</th>\n      <td>-1.989658</td>\n      <td>0.892736</td>\n    </tr>\n  </tbody>\n</table>\n</div>"
     },
     "metadata": {},
     "output_type": "execute_result",
     "execution_count": 64
    }
   ],
   "source": "frame.resample('M').agg({'A': np.sum, 'B': 'std'}) # DatetimeIndexResampler自带的聚合函数要加上''",
   "metadata": {
    "pycharm": {
     "metadata": false,
     "name": "#%%\n",
     "is_executing": false
    }
   }
  },
  {
   "cell_type": "code",
   "execution_count": 65,
   "outputs": [
    {
     "data": {
      "text/plain": "                   A                   B          \n                 foo       bar       foo       bar\n2000-01-31  0.043185  1.007099 -0.165544  1.016248\n2000-02-29 -0.070831  0.863285  0.002717  0.996236\n2000-03-31 -0.032358  1.140368 -0.076756  1.030643\n2000-04-30  0.061639  1.102423 -0.014413  0.836517\n2000-05-31 -0.163435  0.967861  0.063591  1.027284\n2000-06-30 -0.234728  1.101193 -0.287603  1.013769\n2000-07-31 -0.075777  0.996948  0.110524  1.175865\n2000-08-31 -0.034197  0.955518  0.131633  0.900933\n2000-09-30  0.270390  1.084543 -0.050951  1.059731\n2000-10-31  0.232726  0.871797 -0.037001  0.956085\n2000-11-30 -0.001738  0.986776  0.392470  1.069059\n2000-12-31 -0.064183  1.009852 -0.109528  0.892736",
      "text/html": "<div>\n<style scoped>\n    .dataframe tbody tr th:only-of-type {\n        vertical-align: middle;\n    }\n\n    .dataframe tbody tr th {\n        vertical-align: top;\n    }\n\n    .dataframe thead tr th {\n        text-align: left;\n    }\n</style>\n<table border=\"1\" class=\"dataframe\">\n  <thead>\n    <tr>\n      <th></th>\n      <th colspan=\"2\" halign=\"left\">A</th>\n      <th colspan=\"2\" halign=\"left\">B</th>\n    </tr>\n    <tr>\n      <th></th>\n      <th>foo</th>\n      <th>bar</th>\n      <th>foo</th>\n      <th>bar</th>\n    </tr>\n  </thead>\n  <tbody>\n    <tr>\n      <th>2000-01-31</th>\n      <td>0.043185</td>\n      <td>1.007099</td>\n      <td>-0.165544</td>\n      <td>1.016248</td>\n    </tr>\n    <tr>\n      <th>2000-02-29</th>\n      <td>-0.070831</td>\n      <td>0.863285</td>\n      <td>0.002717</td>\n      <td>0.996236</td>\n    </tr>\n    <tr>\n      <th>2000-03-31</th>\n      <td>-0.032358</td>\n      <td>1.140368</td>\n      <td>-0.076756</td>\n      <td>1.030643</td>\n    </tr>\n    <tr>\n      <th>2000-04-30</th>\n      <td>0.061639</td>\n      <td>1.102423</td>\n      <td>-0.014413</td>\n      <td>0.836517</td>\n    </tr>\n    <tr>\n      <th>2000-05-31</th>\n      <td>-0.163435</td>\n      <td>0.967861</td>\n      <td>0.063591</td>\n      <td>1.027284</td>\n    </tr>\n    <tr>\n      <th>2000-06-30</th>\n      <td>-0.234728</td>\n      <td>1.101193</td>\n      <td>-0.287603</td>\n      <td>1.013769</td>\n    </tr>\n    <tr>\n      <th>2000-07-31</th>\n      <td>-0.075777</td>\n      <td>0.996948</td>\n      <td>0.110524</td>\n      <td>1.175865</td>\n    </tr>\n    <tr>\n      <th>2000-08-31</th>\n      <td>-0.034197</td>\n      <td>0.955518</td>\n      <td>0.131633</td>\n      <td>0.900933</td>\n    </tr>\n    <tr>\n      <th>2000-09-30</th>\n      <td>0.270390</td>\n      <td>1.084543</td>\n      <td>-0.050951</td>\n      <td>1.059731</td>\n    </tr>\n    <tr>\n      <th>2000-10-31</th>\n      <td>0.232726</td>\n      <td>0.871797</td>\n      <td>-0.037001</td>\n      <td>0.956085</td>\n    </tr>\n    <tr>\n      <th>2000-11-30</th>\n      <td>-0.001738</td>\n      <td>0.986776</td>\n      <td>0.392470</td>\n      <td>1.069059</td>\n    </tr>\n    <tr>\n      <th>2000-12-31</th>\n      <td>-0.064183</td>\n      <td>1.009852</td>\n      <td>-0.109528</td>\n      <td>0.892736</td>\n    </tr>\n  </tbody>\n</table>\n</div>"
     },
     "metadata": {},
     "output_type": "execute_result",
     "execution_count": 65
    }
   ],
   "source": "frame.resample('M').agg([('foo', 'mean'), ('bar', 'std')]) # 每个元祖的一个元素作为DataFrame的列名\n                                                        # 二元元组的列表是一种有序的对应关系",
   "metadata": {
    "pycharm": {
     "metadata": false,
     "name": "#%%\n",
     "is_executing": false
    }
   }
  },
  {
   "cell_type": "code",
   "execution_count": 66,
   "outputs": [
    {
     "data": {
      "text/plain": "                   A                   B          \n                隐函数一      隐函数二      隐函数一      隐函数二\n2000-01-31  0.841910  0.471195 -0.675699 -0.363287\n2000-02-29  0.679387 -0.213486 -0.678465  0.156600\n2000-03-31  3.498618 -1.130736  0.891332 -1.669961\n2000-04-30  0.045984  0.431801 -1.873845 -0.304114\n2000-05-31  1.948153  2.520154  0.925431  3.318312\n2000-06-30 -0.026573 -2.401980  1.632258 -1.107615\n2000-07-31  1.158613  1.766176 -0.751371 -2.251912\n2000-08-31  1.367499 -0.164350  0.956639 -1.694538\n2000-09-30  0.276254 -0.966950 -1.025361  1.205313\n2000-10-31 -1.734489  1.425553 -1.587432 -1.704826\n2000-11-30 -2.215389 -2.544291 -1.089977  1.479312\n2000-12-31  3.302726 -0.544128  1.529340  2.283659",
      "text/html": "<div>\n<style scoped>\n    .dataframe tbody tr th:only-of-type {\n        vertical-align: middle;\n    }\n\n    .dataframe tbody tr th {\n        vertical-align: top;\n    }\n\n    .dataframe thead tr th {\n        text-align: left;\n    }\n</style>\n<table border=\"1\" class=\"dataframe\">\n  <thead>\n    <tr>\n      <th></th>\n      <th colspan=\"2\" halign=\"left\">A</th>\n      <th colspan=\"2\" halign=\"left\">B</th>\n    </tr>\n    <tr>\n      <th></th>\n      <th>隐函数一</th>\n      <th>隐函数二</th>\n      <th>隐函数一</th>\n      <th>隐函数二</th>\n    </tr>\n  </thead>\n  <tbody>\n    <tr>\n      <th>2000-01-31</th>\n      <td>0.841910</td>\n      <td>0.471195</td>\n      <td>-0.675699</td>\n      <td>-0.363287</td>\n    </tr>\n    <tr>\n      <th>2000-02-29</th>\n      <td>0.679387</td>\n      <td>-0.213486</td>\n      <td>-0.678465</td>\n      <td>0.156600</td>\n    </tr>\n    <tr>\n      <th>2000-03-31</th>\n      <td>3.498618</td>\n      <td>-1.130736</td>\n      <td>0.891332</td>\n      <td>-1.669961</td>\n    </tr>\n    <tr>\n      <th>2000-04-30</th>\n      <td>0.045984</td>\n      <td>0.431801</td>\n      <td>-1.873845</td>\n      <td>-0.304114</td>\n    </tr>\n    <tr>\n      <th>2000-05-31</th>\n      <td>1.948153</td>\n      <td>2.520154</td>\n      <td>0.925431</td>\n      <td>3.318312</td>\n    </tr>\n    <tr>\n      <th>2000-06-30</th>\n      <td>-0.026573</td>\n      <td>-2.401980</td>\n      <td>1.632258</td>\n      <td>-1.107615</td>\n    </tr>\n    <tr>\n      <th>2000-07-31</th>\n      <td>1.158613</td>\n      <td>1.766176</td>\n      <td>-0.751371</td>\n      <td>-2.251912</td>\n    </tr>\n    <tr>\n      <th>2000-08-31</th>\n      <td>1.367499</td>\n      <td>-0.164350</td>\n      <td>0.956639</td>\n      <td>-1.694538</td>\n    </tr>\n    <tr>\n      <th>2000-09-30</th>\n      <td>0.276254</td>\n      <td>-0.966950</td>\n      <td>-1.025361</td>\n      <td>1.205313</td>\n    </tr>\n    <tr>\n      <th>2000-10-31</th>\n      <td>-1.734489</td>\n      <td>1.425553</td>\n      <td>-1.587432</td>\n      <td>-1.704826</td>\n    </tr>\n    <tr>\n      <th>2000-11-30</th>\n      <td>-2.215389</td>\n      <td>-2.544291</td>\n      <td>-1.089977</td>\n      <td>1.479312</td>\n    </tr>\n    <tr>\n      <th>2000-12-31</th>\n      <td>3.302726</td>\n      <td>-0.544128</td>\n      <td>1.529340</td>\n      <td>2.283659</td>\n    </tr>\n  </tbody>\n</table>\n</div>"
     },
     "metadata": {},
     "output_type": "execute_result",
     "execution_count": 66
    }
   ],
   "source": "# 具有多个lambdas的Groupby聚合\nframe.resample('M').agg([\n     ('隐函数一', lambda x: x.iloc[0] - x.iloc[1]),\n    ('隐函数二', lambda x: x.iloc[0] + x.iloc[1])\n])",
   "metadata": {
    "pycharm": {
     "metadata": false,
     "name": "#%%\n",
     "is_executing": false
    }
   }
  },
  {
   "cell_type": "code",
   "execution_count": null,
   "outputs": [],
   "source": "\n",
   "metadata": {
    "pycharm": {
     "metadata": false,
     "name": "#%%\n"
    }
   }
  }
 ],
 "metadata": {
  "kernelspec": {
   "name": "python3",
   "language": "python",
   "display_name": "Python 3"
  },
  "language_info": {
   "codemirror_mode": {
    "name": "ipython",
    "version": 2
   },
   "file_extension": ".py",
   "mimetype": "text/x-python",
   "name": "python",
   "nbconvert_exporter": "python",
   "pygments_lexer": "ipython2",
   "version": "2.7.6"
  },
  "pycharm": {
   "stem_cell": {
    "cell_type": "raw",
    "source": [],
    "metadata": {
     "collapsed": false
    }
   }
  }
 },
 "nbformat": 4,
 "nbformat_minor": 0
}