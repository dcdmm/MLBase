{
 "cells": [
  {
   "cell_type": "code",
   "execution_count": null,
   "outputs": [],
   "source": [
    "import numpy as np\n",
    "import scipy.stats as stats\n",
    "import matplotlib.pyplot as plt\n",
    "import matplotlib.style as style\n",
    "\n",
    "style.use('classic')\n",
    "fig = plt.figure(figsize=(14, 7), dpi=100)\n",
    "ax  = plt.subplot(111)\n",
    "\n",
    "# P = .2\n",
    "ax.scatter(np.arange(21),\n",
    "            (stats.binom.pmf(np.arange(21), p=.2, n=20)),\n",
    "            alpha=0.75,\n",
    "            s=100, color='r')\n",
    "ax.plot(np.arange(21),\n",
    "         (stats.binom.pmf(np.arange(21), p=.2, n=20)),\n",
    "         alpha=0.75, color='r')\n",
    "\n",
    "# P = .5\n",
    "ax.scatter(np.arange(21),\n",
    "            (stats.binom.pmf(np.arange(21), p=.5, n=20)),\n",
    "            alpha=0.75,\n",
    "            s=100, color='b')\n",
    "ax.plot(np.arange(21),\n",
    "         (stats.binom.pmf(np.arange(21), p=.5, n=20)),\n",
    "         alpha=0.75, color='b')\n",
    "\n",
    "# P = .9\n",
    "ax.scatter(np.arange(21),\n",
    "            (stats.binom.pmf(np.arange(21), p=.9, n=20)),\n",
    "            alpha=0.75,\n",
    "            s=100, color='g')\n",
    "ax.plot(np.arange(21),\n",
    "         (stats.binom.pmf(np.arange(21), p=.9, n=20)),\n",
    "         alpha=0.75, color='g')\n",
    "\n",
    "ax.text(x=3.5, y=.075, s=\"$p = 0.2$\", alpha=.95, weight=\"bold\", color=\"r\")\n",
    "ax.text(x=9.5, y=.075, s=\"$p = 0.5$\", alpha=.95, weight=\"bold\", color=\"b\")\n",
    "ax.text(x=17.5, y=.075, s=\"$p = 0.9$\", alpha=.95, weight=\"bold\", color=\"g\")\n",
    "\n",
    "ax.set_xticks(range(21)[::2])\n",
    "ax.tick_params(axis = 'both', which = 'major', labelsize = 18)\n",
    "ax.axhline(y = 0, color = 'black', linewidth = 1.3, alpha = .7)\n",
    "\n",
    "ax.text(x = -2.5, y = .37, s = \"Binomial Distribution - $p$\",\n",
    "               fontsize = 26, weight = 'bold', alpha = .75)\n",
    "ax.text(x = -2.5, y = .32, \n",
    "         s = 'Depicted below are three Binomial distributed random variables with varying $p $. As one can see\\nthe parameter $p$ shifts and skews the distribution.',\n",
    "         fontsize = 19, alpha = .85)"
   ],
   "metadata": {
    "collapsed": false,
    "pycharm": {
     "name": "#%%\n"
    }
   }
  },
  {
   "cell_type": "code",
   "execution_count": null,
   "metadata": {
    "pycharm": {
     "metadata": false,
     "name": "#%%\n"
    }
   },
   "outputs": [],
   "source": [
    "\n"
   ]
  }
 ],
 "metadata": {
  "kernelspec": {
   "display_name": "Python 3",
   "language": "python",
   "name": "python3"
  },
  "language_info": {
   "codemirror_mode": {
    "name": "ipython",
    "version": 3
   },
   "file_extension": ".py",
   "mimetype": "text/x-python",
   "name": "python",
   "nbconvert_exporter": "python",
   "pygments_lexer": "ipython3",
   "version": "3.7.3"
  },
  "pycharm": {
   "stem_cell": {
    "cell_type": "raw",
    "source": [],
    "metadata": {
     "collapsed": false
    }
   }
  }
 },
 "nbformat": 4,
 "nbformat_minor": 1
}