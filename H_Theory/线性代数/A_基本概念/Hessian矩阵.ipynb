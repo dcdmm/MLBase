{
 "cells": [
  {
   "cell_type": "markdown",
   "metadata": {
    "pycharm": {
     "name": "#%% md\n"
    }
   },
   "source": [
    "&emsp;&emsp;实值函数$ f(\\mathbf{x})$ 相对于$ m \\times 1 $ 实向量 $\\mathbf{\\mathbf{x}}$的二阶偏导称为Hessian矩阵,记作$ H[f(\\mathbf{x})] $,定义为     \n",
    "$$ H[f(\\mathbf{x})]=\\frac{\\partial^2 f(\\mathbf{x})}{\\partial \\mathbf{x} \\partial \\mathbf{x}^T} = \\frac{\\partial }{\\partial \\mathbf{x}}[\\frac{\\partial f(\\mathbf{x})}{\\partial \\mathbf{x}^T}] \\in \\mathbf{R}^{m \\times n} $$   \n",
    "或记作(标明是分子求导还是分母求导)    \n",
    "$$ H[f(\\mathbf{x})]  = \\nabla^2_{\\mathbf{x}} f(\\mathbf{x}) = \\nabla_{\\mathbf{x}}(D_x f(\\mathbf{x}))$$    \n",
    "式中 $ D_{\\mathbf{x}} $为协梯度算子(Jacobian矩阵).于是,Hessian矩阵的第$ (i, j) $元素定义为       \n",
    "$$ [Hf(x)]_{i,j} = \\Big[ \\frac{\\partial^2 f(\\mathbf{x})}{\\partial \\mathbf{x} \\partial \\mathbf{x}^T} \\Big]_{i,j} = \\frac{\\partial}{\\partial x_i}[\\frac{\\partial f(\\mathbf{x})}{\\partial x_j}] $$    \n",
    "或写作    \n",
    "$$ H[f(\\mathbf{x})] = \\frac{\\partial^2 f(\\mathbf{x})}{\\partial \\mathbf{x} \\partial \\mathbf{x}^T} = $$\n",
    "\\begin{bmatrix}\n",
    "\\frac{\\partial^2 f}{\\partial x_1 \\partial x_1} & \\dots  & \\frac{\\partial^2 f}{\\partial x_1 \\partial x_m} \\\\\n",
    "       & \\ddots & \\vdots \\\\\n",
    "\\frac{\\partial^2 f}{\\partial x_m \\partial x_1} & \\dots  &    \\frac{\\partial^2 f}{\\partial x_m \\partial x_m}\n",
    "\\end{bmatrix}     \n",
    "即实标量函数$ f(\\mathbf{x}) $的Hessian矩阵是一个 $ m\\times m $正方矩阵,由标量函数$ f(\\mathbf{x}) $ 关于向量变元 $ \\mathbf{x}$的元素$ x_i $的$m^2 $个\n",
    "二阶偏导组成.   \n",
    "&emsp;&emsp;由定义知,实标量函数$ f(\\mathbf{x}) $的Hessian矩阵实一个实对称矩阵    \n",
    "$$ (H[f(x)])^T = H[f(x)] $$    \n",
    "因为二次可导连续函数$ f(\\mathbf{x})  $的二次导数与求导顺序无关,即$ \\frac{\\partial^2 f}{\\partial x_i \\partial x_j} = \\frac{\\partial^2 f}{\\partial x_j \\partial x_i} $    \n",
    "&emsp;&emsp;实标量函数$f(X)$ 的Hessian矩阵定义为   \n",
    "$$ H[f(X)] = \\frac{\\partial^2 f(X)}{\\partial \\mathrm{vec}X \\partial (\\mathrm{vec} X)^T} = \\nabla_X (D_X f(X)) \\in \\mathbf{R}^{mn \\times mn}$$    \n",
    "其元素表示形式为    \n",
    "$$ H[f(X)] =$$ \n",
    "\\begin{bmatrix}\n",
    "\\frac{\\partial^2 f}{\\partial x_{11} \\partial x_{11}} & \\dots  & \\frac{\\partial^2 f}{\\partial x_{11} \\partial x_{m1}} & \\dots & \\frac{\\partial^2 f}{\\partial x_{11} \\partial x_{1n}} & \\dots &  \\frac{\\partial^2 f}{\\partial x_{11} \\partial x_{mn}} \\\\\n",
    "\\vdots & \\vdots & \\vdots & \\vdots & \\vdots & \\vdots & \\vdots  \\\\\n",
    "\\frac{\\partial^2 f}{\\partial x_{m1} \\partial x_{11}} & \\dots  & \\frac{\\partial^2 f}{\\partial x_{m1} \\partial x_{m1}} & \\dots & \\frac{\\partial^2 f}{\\partial x_{m1} \\partial x_{1n}} & \\dots &  \\frac{\\partial^2 f}{\\partial x_{m1} \\partial x_{mn}} \\\\\n",
    "\\vdots & \\vdots & \\vdots & \\vdots & \\vdots & \\vdots & \\vdots  \\\\\n",
    "\\frac{\\partial^2 f}{\\partial x_{1n} \\partial x_{11}} & \\dots  & \\frac{\\partial^2 f}{\\partial x_{1n} \\partial x_{m1}} & \\dots & \\frac{\\partial^2 f}{\\partial x_{1n} \\partial x_{1n}} & \\dots &  \\frac{\\partial^2 f}{\\partial x_{1n} \\partial x_{mn}} \\\\\n",
    "\\vdots & \\vdots & \\vdots & \\vdots & \\vdots & \\vdots & \\vdots  \\\\\n",
    "\\frac{\\partial^2 f}{\\partial x_{mn} \\partial x_{11}} & \\dots  & \\frac{\\partial^2 f}{\\partial x_{mn} \\partial x_{m1}} & \\dots & \\frac{\\partial^2 f}{\\partial x_{mn} \\partial x_{1n}} & \\dots &  \\frac{\\partial^2 f}{\\partial x_{mn} \\partial x_{mn}} \\\\\n",
    "\\end{bmatrix}    \n",
    "由$  \\frac{\\partial^2 f }{\\partial x_{ij} \\partial  x_{kl}} = \\frac{\\partial^2 f }{\\partial x_{kl} \\partial  x_{ij}} $立即知,实标量函数$ f(X) $的Hessian矩阵是一个实对称矩阵   \n",
    "$$ [Hf(X)]^T = H[f(X)] $$"
   ]
  },
  {
   "cell_type": "code",
   "execution_count": 12,
   "metadata": {
    "pycharm": {
     "is_executing": false,
     "name": "#%%\n"
    }
   },
   "outputs": [
    {
     "data": {
      "text/latex": [
       "$\\displaystyle \\left[\\begin{matrix}\\frac{\\partial^{2}}{\\partial x^{2}} f{\\left(x,y,z \\right)} & \\frac{\\partial^{2}}{\\partial y\\partial x} f{\\left(x,y,z \\right)} & \\frac{\\partial^{2}}{\\partial z\\partial x} f{\\left(x,y,z \\right)}\\\\\\frac{\\partial^{2}}{\\partial y\\partial x} f{\\left(x,y,z \\right)} & \\frac{\\partial^{2}}{\\partial y^{2}} f{\\left(x,y,z \\right)} & \\frac{\\partial^{2}}{\\partial z\\partial y} f{\\left(x,y,z \\right)}\\\\\\frac{\\partial^{2}}{\\partial z\\partial x} f{\\left(x,y,z \\right)} & \\frac{\\partial^{2}}{\\partial z\\partial y} f{\\left(x,y,z \\right)} & \\frac{\\partial^{2}}{\\partial z^{2}} f{\\left(x,y,z \\right)}\\end{matrix}\\right]$"
      ],
      "text/plain": [
       "Matrix([\n",
       "[Derivative(f(x, y, z), (x, 2)),   Derivative(f(x, y, z), x, y),   Derivative(f(x, y, z), x, z)],\n",
       "[  Derivative(f(x, y, z), x, y), Derivative(f(x, y, z), (y, 2)),   Derivative(f(x, y, z), y, z)],\n",
       "[  Derivative(f(x, y, z), x, z),   Derivative(f(x, y, z), y, z), Derivative(f(x, y, z), (z, 2))]])"
      ]
     },
     "execution_count": 12,
     "metadata": {},
     "output_type": "execute_result"
    }
   ],
   "source": [
    "from sympy import Function, hessian\n",
    "from sympy.abc import x, y, z\n",
    "f = Function('f')(x, y, z)\n",
    "hessian(f, (x, y, z)) # 实标量函数f的Hessian矩阵"
   ]
  },
  {
   "cell_type": "code",
   "execution_count": null,
   "metadata": {
    "pycharm": {
     "name": "#%%\n"
    }
   },
   "outputs": [],
   "source": [
    "\n"
   ]
  }
 ],
 "metadata": {
  "kernelspec": {
   "display_name": "Python 3",
   "language": "python",
   "name": "python3"
  },
  "language_info": {
   "codemirror_mode": {
    "name": "ipython",
    "version": 3
   },
   "file_extension": ".py",
   "mimetype": "text/x-python",
   "name": "python",
   "nbconvert_exporter": "python",
   "pygments_lexer": "ipython3",
   "version": "3.7.7"
  },
  "pycharm": {
   "stem_cell": {
    "cell_type": "raw",
    "metadata": {
     "collapsed": false
    },
    "source": []
   }
  },
  "toc": {
   "base_numbering": 1,
   "nav_menu": {},
   "number_sections": true,
   "sideBar": true,
   "skip_h1_title": false,
   "title_cell": "Table of Contents",
   "title_sidebar": "Contents",
   "toc_cell": false,
   "toc_position": {},
   "toc_section_display": true,
   "toc_window_display": false
  }
 },
 "nbformat": 4,
 "nbformat_minor": 1
}
