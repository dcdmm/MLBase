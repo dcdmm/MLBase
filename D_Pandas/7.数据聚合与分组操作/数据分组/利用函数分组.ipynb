{
 "cells": [
  {
   "cell_type": "code",
   "execution_count": null,
   "outputs": [],
   "source": [
    "import pandas as pd\n",
    "import  numpy as np\n",
    "\n",
    "people = pd.DataFrame(np.random.randn(5, 5),\n",
    "                      columns=['a', 'b', 'c', 'd', 'e'],\n",
    "                      index=['Joe', 'Steve', 'Wes', 'Jim', 'Travis'])\n",
    "people.iloc[2:3, [1, 2]] = np.nan # Add a few NA values"
   ],
   "metadata": {
    "collapsed": false,
    "pycharm": {
     "name": "#%%\n"
    }
   }
  },
  {
   "cell_type": "code",
   "execution_count": 5,
   "outputs": [
    {
     "data": {
      "text/plain": "               a         b         c         d         e\nJoe    -1.540104  0.119772  0.155778  0.149201  1.013837\nSteve   0.460286 -0.022494  0.341994  0.412243  1.287179\nWes    -0.174209       NaN       NaN  0.968750 -1.352073\nJim     0.926480 -1.043118 -0.194518  0.699804  0.375059\nTravis -0.407680  1.089735 -1.260231  0.072403 -1.636857",
      "text/html": "<div>\n<style scoped>\n    .dataframe tbody tr th:only-of-type {\n        vertical-align: middle;\n    }\n\n    .dataframe tbody tr th {\n        vertical-align: top;\n    }\n\n    .dataframe thead th {\n        text-align: right;\n    }\n</style>\n<table border=\"1\" class=\"dataframe\">\n  <thead>\n    <tr style=\"text-align: right;\">\n      <th></th>\n      <th>a</th>\n      <th>b</th>\n      <th>c</th>\n      <th>d</th>\n      <th>e</th>\n    </tr>\n  </thead>\n  <tbody>\n    <tr>\n      <th>Joe</th>\n      <td>-1.540104</td>\n      <td>0.119772</td>\n      <td>0.155778</td>\n      <td>0.149201</td>\n      <td>1.013837</td>\n    </tr>\n    <tr>\n      <th>Steve</th>\n      <td>0.460286</td>\n      <td>-0.022494</td>\n      <td>0.341994</td>\n      <td>0.412243</td>\n      <td>1.287179</td>\n    </tr>\n    <tr>\n      <th>Wes</th>\n      <td>-0.174209</td>\n      <td>NaN</td>\n      <td>NaN</td>\n      <td>0.968750</td>\n      <td>-1.352073</td>\n    </tr>\n    <tr>\n      <th>Jim</th>\n      <td>0.926480</td>\n      <td>-1.043118</td>\n      <td>-0.194518</td>\n      <td>0.699804</td>\n      <td>0.375059</td>\n    </tr>\n    <tr>\n      <th>Travis</th>\n      <td>-0.407680</td>\n      <td>1.089735</td>\n      <td>-1.260231</td>\n      <td>0.072403</td>\n      <td>-1.636857</td>\n    </tr>\n  </tbody>\n</table>\n</div>"
     },
     "metadata": {},
     "output_type": "execute_result",
     "execution_count": 5
    }
   ],
   "source": [
    "people"
   ],
   "metadata": {
    "pycharm": {
     "metadata": false,
     "name": "#%%\n",
     "is_executing": false
    }
   }
  },
  {
   "cell_type": "code",
   "execution_count": 6,
   "outputs": [
    {
     "data": {
      "text/plain": "          a         b         c         d         e\n3 -0.787833 -0.923346 -0.038739  1.817754  0.036823\n5  0.460286 -0.022494  0.341994  0.412243  1.287179\n6 -0.407680  1.089735 -1.260231  0.072403 -1.636857",
      "text/html": "<div>\n<style scoped>\n    .dataframe tbody tr th:only-of-type {\n        vertical-align: middle;\n    }\n\n    .dataframe tbody tr th {\n        vertical-align: top;\n    }\n\n    .dataframe thead th {\n        text-align: right;\n    }\n</style>\n<table border=\"1\" class=\"dataframe\">\n  <thead>\n    <tr style=\"text-align: right;\">\n      <th></th>\n      <th>a</th>\n      <th>b</th>\n      <th>c</th>\n      <th>d</th>\n      <th>e</th>\n    </tr>\n  </thead>\n  <tbody>\n    <tr>\n      <th>3</th>\n      <td>-0.787833</td>\n      <td>-0.923346</td>\n      <td>-0.038739</td>\n      <td>1.817754</td>\n      <td>0.036823</td>\n    </tr>\n    <tr>\n      <th>5</th>\n      <td>0.460286</td>\n      <td>-0.022494</td>\n      <td>0.341994</td>\n      <td>0.412243</td>\n      <td>1.287179</td>\n    </tr>\n    <tr>\n      <th>6</th>\n      <td>-0.407680</td>\n      <td>1.089735</td>\n      <td>-1.260231</td>\n      <td>0.072403</td>\n      <td>-1.636857</td>\n    </tr>\n  </tbody>\n</table>\n</div>"
     },
     "metadata": {},
     "output_type": "execute_result",
     "execution_count": 6
    }
   ],
   "source": "people.groupby(len).sum() #  If by is a function, it’s called on each value of the object’s index",
   "metadata": {
    "pycharm": {
     "metadata": false,
     "name": "#%%\n",
     "is_executing": false
    }
   }
  },
  {
   "cell_type": "code",
   "execution_count": 7,
   "outputs": [
    {
     "data": {
      "text/plain": "Joe          Joe\nSteve      Steve\nWes          Wes\nJim          Jim\nTravis    Travis\ndtype: object"
     },
     "metadata": {},
     "output_type": "execute_result",
     "execution_count": 7
    }
   ],
   "source": "ser = pd.Series(people.index)\nser.index = ser.values\nser",
   "metadata": {
    "pycharm": {
     "metadata": false,
     "name": "#%%\n",
     "is_executing": false
    }
   }
  },
  {
   "cell_type": "code",
   "execution_count": 8,
   "outputs": [
    {
     "data": {
      "text/plain": "          a         b         c         d         e\n3 -0.787833 -0.923346 -0.038739  1.817754  0.036823\n5  0.460286 -0.022494  0.341994  0.412243  1.287179\n6 -0.407680  1.089735 -1.260231  0.072403 -1.636857",
      "text/html": "<div>\n<style scoped>\n    .dataframe tbody tr th:only-of-type {\n        vertical-align: middle;\n    }\n\n    .dataframe tbody tr th {\n        vertical-align: top;\n    }\n\n    .dataframe thead th {\n        text-align: right;\n    }\n</style>\n<table border=\"1\" class=\"dataframe\">\n  <thead>\n    <tr style=\"text-align: right;\">\n      <th></th>\n      <th>a</th>\n      <th>b</th>\n      <th>c</th>\n      <th>d</th>\n      <th>e</th>\n    </tr>\n  </thead>\n  <tbody>\n    <tr>\n      <th>3</th>\n      <td>-0.787833</td>\n      <td>-0.923346</td>\n      <td>-0.038739</td>\n      <td>1.817754</td>\n      <td>0.036823</td>\n    </tr>\n    <tr>\n      <th>5</th>\n      <td>0.460286</td>\n      <td>-0.022494</td>\n      <td>0.341994</td>\n      <td>0.412243</td>\n      <td>1.287179</td>\n    </tr>\n    <tr>\n      <th>6</th>\n      <td>-0.407680</td>\n      <td>1.089735</td>\n      <td>-1.260231</td>\n      <td>0.072403</td>\n      <td>-1.636857</td>\n    </tr>\n  </tbody>\n</table>\n</div>"
     },
     "metadata": {},
     "output_type": "execute_result",
     "execution_count": 8
    }
   ],
   "source": "def newlen(x):\n    \n    return len(x)\npeople.groupby(ser.apply(newlen)).sum() # 与上等价",
   "metadata": {
    "pycharm": {
     "metadata": false,
     "name": "#%%\n",
     "is_executing": false
    }
   }
  },
  {
   "cell_type": "code",
   "execution_count": 9,
   "outputs": [
    {
     "data": {
      "text/plain": "              a         b         c         d         e\n3 one -1.540104  0.119772  0.155778  0.149201 -1.352073\n  two  0.926480 -1.043118 -0.194518  0.699804  0.375059\n5 one  0.460286 -0.022494  0.341994  0.412243  1.287179\n6 two -0.407680  1.089735 -1.260231  0.072403 -1.636857",
      "text/html": "<div>\n<style scoped>\n    .dataframe tbody tr th:only-of-type {\n        vertical-align: middle;\n    }\n\n    .dataframe tbody tr th {\n        vertical-align: top;\n    }\n\n    .dataframe thead th {\n        text-align: right;\n    }\n</style>\n<table border=\"1\" class=\"dataframe\">\n  <thead>\n    <tr style=\"text-align: right;\">\n      <th></th>\n      <th></th>\n      <th>a</th>\n      <th>b</th>\n      <th>c</th>\n      <th>d</th>\n      <th>e</th>\n    </tr>\n  </thead>\n  <tbody>\n    <tr>\n      <th rowspan=\"2\" valign=\"top\">3</th>\n      <th>one</th>\n      <td>-1.540104</td>\n      <td>0.119772</td>\n      <td>0.155778</td>\n      <td>0.149201</td>\n      <td>-1.352073</td>\n    </tr>\n    <tr>\n      <th>two</th>\n      <td>0.926480</td>\n      <td>-1.043118</td>\n      <td>-0.194518</td>\n      <td>0.699804</td>\n      <td>0.375059</td>\n    </tr>\n    <tr>\n      <th>5</th>\n      <th>one</th>\n      <td>0.460286</td>\n      <td>-0.022494</td>\n      <td>0.341994</td>\n      <td>0.412243</td>\n      <td>1.287179</td>\n    </tr>\n    <tr>\n      <th>6</th>\n      <th>two</th>\n      <td>-0.407680</td>\n      <td>1.089735</td>\n      <td>-1.260231</td>\n      <td>0.072403</td>\n      <td>-1.636857</td>\n    </tr>\n  </tbody>\n</table>\n</div>"
     },
     "metadata": {},
     "output_type": "execute_result",
     "execution_count": 9
    }
   ],
   "source": "key_list = ['one', 'one', 'one', 'two', 'two']\npeople.groupby([len, key_list]).min()",
   "metadata": {
    "pycharm": {
     "metadata": false,
     "name": "#%%\n",
     "is_executing": false
    }
   }
  },
  {
   "cell_type": "code",
   "execution_count": null,
   "outputs": [],
   "source": "\n",
   "metadata": {
    "pycharm": {
     "metadata": false,
     "name": "#%%\n"
    }
   }
  }
 ],
 "metadata": {
  "language_info": {
   "codemirror_mode": {
    "name": "ipython",
    "version": 2
   },
   "file_extension": ".py",
   "mimetype": "text/x-python",
   "name": "python",
   "nbconvert_exporter": "python",
   "pygments_lexer": "ipython2",
   "version": "2.7.6"
  },
  "kernelspec": {
   "name": "python3",
   "language": "python",
   "display_name": "Python 3"
  },
  "pycharm": {
   "stem_cell": {
    "cell_type": "raw",
    "source": [],
    "metadata": {
     "collapsed": false
    }
   }
  }
 },
 "nbformat": 4,
 "nbformat_minor": 0
}