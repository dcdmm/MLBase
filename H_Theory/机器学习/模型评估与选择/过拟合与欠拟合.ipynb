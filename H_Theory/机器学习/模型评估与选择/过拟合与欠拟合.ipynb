{
 "cells": [
  {
   "cell_type": "markdown",
   "source": [
    "&emsp;&emsp;如果一味追求对训练数据的预测能力,所选的模型的复杂度则往往会比真实模型更高.这种现象\n",
    "称为过拟合(over-fitting).过拟合是指学习时选择的模型包含的参数过多,以致出现这一模型对已知数据预测\n",
    "得很好,但对未知数据预测得很差的现象,可以说模型选择旨在避免过拟合并提高模型的预测能力.与过拟合相对的是\n",
    "欠拟合(under-fitting),这是指训练样本的一般性质尚未学好.     \n",
    "&emsp;&emsp;当模型的复杂度增大时,训练误差逐渐减小并趋向于0;而测试误差会先减少,达到最小值后又增大,当\n",
    "选择的模型复杂度过大时,过拟合现象就会发生.\n",
    "\n",
    "<img src=\"../../../Other/img/训练误差和测试误差与模型复杂度的关系.png\" style=\"width:400px;height:300px;float:bottom\">"
   ],
   "metadata": {
    "collapsed": false,
    "pycharm": {
     "name": "#%% md\n",
     "is_executing": false
    }
   }
  },
  {
   "cell_type": "code",
   "execution_count": null,
   "outputs": [],
   "source": [
    "import numpy as np\n",
    "import matplotlib.pyplot as plt\n",
    "from sklearn.metrics import mean_squared_error\n",
    "from sklearn.pipeline import Pipeline\n",
    "from sklearn.preprocessing import PolynomialFeatures\n",
    "from sklearn.preprocessing import StandardScaler\n",
    "from sklearn.model_selection import train_test_split\n",
    "from sklearn.linear_model import  LinearRegression\n",
    "import matplotlib\n",
    "matplotlib.rcParams['font.sans-serif'] = ['SimHei']\n",
    "matplotlib.rcParams['axes.unicode_minus'] = False"
   ],
   "metadata": {
    "collapsed": false,
    "pycharm": {
     "name": "#%%\n"
    }
   }
  },
  {
   "cell_type": "code",
   "execution_count": 19,
   "metadata": {
    "collapsed": true,
    "pycharm": {
     "is_executing": false
    }
   },
   "outputs": [],
   "source": [
    "np.random.seed(666)\n",
    "x = np.linspace(-3, 3, 200).reshape(-1, 1)\n",
    "y = 0.5 * x**2 + x + 2 + np.random.normal(0, 1, size=200).reshape(-1, 1)\n",
    "x_train, x_test, y_train, y_test = train_test_split(x, y, test_size=0.2) # 留出法划分数据集"
   ]
  },
  {
   "cell_type": "code",
   "execution_count": 20,
   "outputs": [
    {
     "data": {
      "text/plain": "<Figure size 432x288 with 1 Axes>",
      "image/png": "[encoded data removed]"
     },
     "metadata": {
      "needs_background": "light"
     },
     "output_type": "display_data"
    }
   ],
   "source": [
    "plt.scatter(x, y)\n",
    "plt.show()"
   ],
   "metadata": {
    "collapsed": false,
    "pycharm": {
     "name": "#%%\n",
     "is_executing": false
    }
   }
  },
  {
   "cell_type": "code",
   "execution_count": 21,
   "outputs": [
    {
     "data": {
      "text/plain": "0.5037972297955613"
     },
     "metadata": {},
     "output_type": "execute_result",
     "execution_count": 21
    }
   ],
   "source": [
    "lin_reg = LinearRegression()\n",
    "lin_reg.fit(x_train, y_train)\n",
    "lin_reg.score(x_train, y_train) # 可决系数(R平方)"
   ],
   "metadata": {
    "collapsed": false,
    "pycharm": {
     "name": "#%%\n",
     "is_executing": false
    }
   }
  },
  {
   "cell_type": "code",
   "execution_count": 22,
   "metadata": {
    "scrolled": true,
    "pycharm": {
     "is_executing": false
    }
   },
   "outputs": [
    {
     "data": {
      "text/plain": "2.4182444615147505"
     },
     "metadata": {},
     "output_type": "execute_result",
     "execution_count": 22
    }
   ],
   "source": [
    "y_predict = lin_reg.predict(x_test)\n",
    "mean_squared_error(y_test, y_predict) # 测试数据的均方误差"
   ]
  },
  {
   "cell_type": "code",
   "execution_count": 23,
   "outputs": [
    {
     "data": {
      "text/plain": "array([-0.43718593,  1.19095477,  2.30653266,  0.28643216, -0.46733668,\n        1.04020101, -1.79396985, -0.94974874,  1.25125628,  1.01005025,\n       -1.31155779, -3.        , -1.22110553,  0.49748744, -0.55778894,\n        1.22110553, -0.82914573, -1.73366834, -1.85427136,  1.88442211,\n        0.01507538, -1.34170854, -1.13065327,  1.85427136,  1.7638191 ,\n       -0.28643216,  2.27638191,  0.70854271,  2.24623116, -1.49246231,\n       -2.15577889,  2.39698492, -0.10552764, -2.75879397,  2.96984925,\n        2.87939698,  2.36683417,  1.16080402,  1.10050251,  2.18592965])"
     },
     "metadata": {},
     "output_type": "execute_result",
     "execution_count": 23
    }
   ],
   "source": [
    "x_test.flatten()"
   ],
   "metadata": {
    "collapsed": false,
    "pycharm": {
     "name": "#%%\n",
     "is_executing": false
    }
   }
  },
  {
   "cell_type": "code",
   "execution_count": 24,
   "outputs": [
    {
     "data": {
      "text/plain": "<Figure size 432x288 with 1 Axes>",
      "image/png": "[encoded data removed]"
     },
     "metadata": {
      "needs_background": "light"
     },
     "output_type": "display_data"
    }
   ],
   "source": [
    "plt.scatter(x_test, y_test, label='测试数据')\n",
    "plt.plot(np.sort(x_test.flatten()), y_predict[np.argsort(x_test.flatten())],\n",
    "         color='r', label='回归直线') # 欠拟合(使用线性回归)\n",
    "plt.legend()\n",
    "plt.show()"
   ],
   "metadata": {
    "collapsed": false,
    "pycharm": {
     "name": "#%%\n",
     "is_executing": false
    }
   }
  },
  {
   "cell_type": "code",
   "execution_count": 25,
   "metadata": {
    "collapsed": true,
    "pycharm": {
     "is_executing": false
    }
   },
   "outputs": [],
   "source": [
    "def PolynomialRegression(degree):\n",
    "    return Pipeline([\n",
    "        (\"poly\", PolynomialFeatures(degree=degree)),\n",
    "        (\"std_scaler\", StandardScaler()),\n",
    "        (\"lin_reg\", LinearRegression())\n",
    "    ])"
   ]
  },
  {
   "cell_type": "code",
   "execution_count": 26,
   "metadata": {
    "pycharm": {
     "is_executing": false
    }
   },
   "outputs": [
    {
     "data": {
      "text/plain": "Pipeline(memory=None,\n         steps=[('poly',\n                 PolynomialFeatures(degree=2, include_bias=True,\n                                    interaction_only=False, order='C')),\n                ('std_scaler',\n                 StandardScaler(copy=True, with_mean=True, with_std=True)),\n                ('lin_reg',\n                 LinearRegression(copy_X=True, fit_intercept=True, n_jobs=None,\n                                  normalize=False))],\n         verbose=False)"
     },
     "metadata": {},
     "output_type": "execute_result",
     "execution_count": 26
    }
   ],
   "source": [
    "poly2_reg = PolynomialRegression(degree=2) # 次数为2的多项式拟合\n",
    "poly2_reg.fit(x_train, y_train)"
   ]
  },
  {
   "cell_type": "code",
   "execution_count": 27,
   "metadata": {
    "scrolled": true,
    "pycharm": {
     "is_executing": false
    }
   },
   "outputs": [
    {
     "data": {
      "text/plain": "1.1120992087861084"
     },
     "metadata": {},
     "output_type": "execute_result",
     "execution_count": 27
    }
   ],
   "source": [
    "y2_predict = poly2_reg.predict(x_test)\n",
    "mean_squared_error(y_test, y2_predict) # 测试数据集均方误差比使用线性回归低"
   ]
  },
  {
   "cell_type": "code",
   "execution_count": 28,
   "metadata": {
    "pycharm": {
     "is_executing": false
    }
   },
   "outputs": [
    {
     "data": {
      "text/plain": "<Figure size 432x288 with 1 Axes>",
      "image/png": "[encoded data removed]"
     },
     "metadata": {
      "needs_background": "light"
     },
     "output_type": "display_data"
    }
   ],
   "source": [
    "plt.scatter(x_test, y_test, label='测试数据')\n",
    "plt.plot(np.sort(x_test.flatten()), \n",
    "         y2_predict[np.argsort(x_test.flatten())], color='red', label='阶数为2的多项式曲线') # 拟合效果较好\n",
    "plt.legend()\n",
    "plt.show()"
   ]
  },
  {
   "cell_type": "code",
   "execution_count": 29,
   "metadata": {
    "pycharm": {
     "is_executing": false
    }
   },
   "outputs": [
    {
     "data": {
      "text/plain": "Pipeline(memory=None,\n         steps=[('poly',\n                 PolynomialFeatures(degree=10, include_bias=True,\n                                    interaction_only=False, order='C')),\n                ('std_scaler',\n                 StandardScaler(copy=True, with_mean=True, with_std=True)),\n                ('lin_reg',\n                 LinearRegression(copy_X=True, fit_intercept=True, n_jobs=None,\n                                  normalize=False))],\n         verbose=False)"
     },
     "metadata": {},
     "output_type": "execute_result",
     "execution_count": 29
    }
   ],
   "source": [
    "poly10_reg = PolynomialRegression(degree=10) # 次数为10的多项式拟合\n",
    "poly10_reg.fit(x_train, y_train)"
   ]
  },
  {
   "cell_type": "code",
   "execution_count": 30,
   "outputs": [
    {
     "data": {
      "text/plain": "1.3179062220827944"
     },
     "metadata": {},
     "output_type": "execute_result",
     "execution_count": 30
    }
   ],
   "source": [
    "y10_predict = poly10_reg.predict(x_test)\n",
    "mean_squared_error(y_test, y10_predict)"
   ],
   "metadata": {
    "collapsed": false,
    "pycharm": {
     "name": "#%%\n",
     "is_executing": false
    }
   }
  },
  {
   "cell_type": "code",
   "execution_count": 31,
   "metadata": {
    "scrolled": true,
    "pycharm": {
     "is_executing": false
    }
   },
   "outputs": [
    {
     "data": {
      "text/plain": "<Figure size 432x288 with 1 Axes>",
      "image/png": "[encoded data removed]"
     },
     "metadata": {
      "needs_background": "light"
     },
     "output_type": "display_data"
    }
   ],
   "source": [
    "plt.scatter(x_test, y_test, label='测试数据')\n",
    "plt.plot(np.sort(x_test.flatten()), \n",
    "         y10_predict[np.argsort(x_test.flatten())], color='red', label='阶数为10的多项式曲线')\n",
    "plt.legend()\n",
    "plt.show()"
   ]
  },
  {
   "cell_type": "code",
   "execution_count": 32,
   "metadata": {
    "pycharm": {
     "is_executing": false
    }
   },
   "outputs": [
    {
     "data": {
      "text/plain": "Pipeline(memory=None,\n         steps=[('poly',\n                 PolynomialFeatures(degree=100, include_bias=True,\n                                    interaction_only=False, order='C')),\n                ('std_scaler',\n                 StandardScaler(copy=True, with_mean=True, with_std=True)),\n                ('lin_reg',\n                 LinearRegression(copy_X=True, fit_intercept=True, n_jobs=None,\n                                  normalize=False))],\n         verbose=False)"
     },
     "metadata": {},
     "output_type": "execute_result",
     "execution_count": 32
    }
   ],
   "source": [
    "poly100_reg = PolynomialRegression(degree=100) # 次数为100的多项式拟合\n",
    "poly100_reg.fit(x_train, y_train)"
   ]
  },
  {
   "cell_type": "code",
   "execution_count": 33,
   "outputs": [
    {
     "name": "stdout",
     "text": [
      "1.921579303569714\n211241474.30200657\n"
     ],
     "output_type": "stream"
    }
   ],
   "source": [
    "y100_predict_train = poly100_reg.predict(x_train)\n",
    "error_train = mean_squared_error(y_train, y100_predict_train) # 训练数据集均方误差较小\n",
    "print(error_train)\n",
    "\n",
    "y100_predict = poly100_reg.predict(x_test)\n",
    "error_test = mean_squared_error(y_test, y100_predict) # 测试数据集均方误差较大(过拟合)\n",
    "print(error_test)"
   ],
   "metadata": {
    "collapsed": false,
    "pycharm": {
     "name": "#%%\n",
     "is_executing": false
    }
   }
  },
  {
   "cell_type": "code",
   "execution_count": 35,
   "metadata": {
    "pycharm": {
     "is_executing": false,
     "name": "#%%\n"
    }
   },
   "outputs": [
    {
     "data": {
      "text/plain": "<Figure size 432x288 with 1 Axes>",
      "image/png": "[encoded data removed]"
     },
     "metadata": {
      "needs_background": "light"
     },
     "output_type": "display_data"
    }
   ],
   "source": [
    "plt.scatter(x_test, y_test, label='测试数据')\n",
    "plt.plot(np.sort(x_test.flatten()), \n",
    "         y100_predict[np.argsort(x_test.flatten())], color='red', label='阶数为100的多项式曲线') # 过拟合\n",
    "plt.legend()\n",
    "plt.xlim(-3.1, 3.1)\n",
    "plt.ylim(-5, 15)\n",
    "plt.show()\n"
   ]
  }
 ],
 "metadata": {
  "kernelspec": {
   "display_name": "Python 3",
   "language": "python",
   "name": "python3"
  },
  "language_info": {
   "codemirror_mode": {
    "name": "ipython",
    "version": 3
   },
   "file_extension": ".py",
   "mimetype": "text/x-python",
   "name": "python",
   "nbconvert_exporter": "python",
   "pygments_lexer": "ipython3",
   "version": "3.6.1"
  }
 },
 "nbformat": 4,
 "nbformat_minor": 2
}