{
 "cells": [
  {
   "cell_type": "code",
   "execution_count": 17,
   "metadata": {
    "collapsed": true
   },
   "outputs": [],
   "source": [
    "import torch.nn as nn\n",
    "import torch.nn.functional as F\n",
    "import torch"
   ]
  },
  {
   "cell_type": "markdown",
   "source": [
    "torch.nn.AdaptiveAvgPool2d(output_size)类似"
   ],
   "metadata": {
    "collapsed": false,
    "pycharm": {
     "name": "#%% md\n"
    }
   }
  },
  {
   "cell_type": "code",
   "execution_count": 18,
   "metadata": {
    "pycharm": {
     "name": "#%%\n"
    }
   },
   "outputs": [
    {
     "data": {
      "text/plain": "torch.Size([1, 64, 5, 7])"
     },
     "execution_count": 18,
     "metadata": {},
     "output_type": "execute_result"
    }
   ],
   "source": [
    "entry = torch.randn(1, 64, 8, 9)\n",
    "re_f, indices_f = F.adaptive_max_pool2d(entry, output_size=(5, 7), return_indices=True)\n",
    "re_f.shape"
   ]
  },
  {
   "cell_type": "code",
   "execution_count": 19,
   "metadata": {
    "pycharm": {
     "name": "#%%\n"
    }
   },
   "outputs": [
    {
     "data": {
      "text/plain": "tensor([[[[ 1,  1, 12,  ...,  5, 16,  8],\n          [19, 19, 12,  ..., 32, 16, 35],\n          [27, 29, 29,  ..., 32, 43, 35],\n          [45, 47, 47,  ..., 60, 60, 62],\n          [63, 56, 56,  ..., 60, 60, 62]],\n\n         [[ 0, 11, 11,  ...,  5, 16, 16],\n          [ 9, 11, 11,  ..., 15, 25, 25],\n          [36, 38, 30,  ..., 41, 34, 44],\n          [46, 46, 57,  ..., 41, 60, 44],\n          [64, 64, 57,  ..., 60, 70, 70]],\n\n         [[ 9,  1, 12,  ...,  6,  6, 17],\n          [ 9, 20, 21,  ..., 23, 16, 17],\n          [28, 38, 38,  ..., 41, 43, 43],\n          [45, 38, 38,  ..., 59, 43, 43],\n          [55, 56, 57,  ..., 59, 61, 71]],\n\n         ...,\n\n         [[ 0, 11, 11,  ...,  6,  6,  7],\n          [28, 11, 11,  ..., 24, 24, 26],\n          [28, 28, 29,  ..., 41, 43, 43],\n          [37, 37, 47,  ..., 41, 51, 62],\n          [55, 55, 57,  ..., 60, 70, 71]],\n\n         [[ 1,  1,  3,  ...,  6,  6,  8],\n          [ 9, 11, 30,  ..., 24, 16, 16],\n          [37, 37, 39,  ..., 42, 42, 43],\n          [46, 46, 39,  ..., 42, 42, 53],\n          [55, 65, 65,  ..., 59, 70, 70]],\n\n         [[ 1,  1, 12,  ...,  6, 16, 16],\n          [19, 19, 12,  ..., 24, 16, 16],\n          [36, 38, 38,  ..., 42, 43, 43],\n          [36, 38, 48,  ..., 59, 43, 43],\n          [55, 65, 65,  ..., 59, 70, 70]]]])"
     },
     "execution_count": 19,
     "metadata": {},
     "output_type": "execute_result"
    }
   ],
   "source": [
    "indices_f  # indices_f.shape=(1, 64, 5, 7)"
   ]
  },
  {
   "cell_type": "code",
   "execution_count": 20,
   "metadata": {
    "pycharm": {
     "name": "#%%\n"
    }
   },
   "outputs": [
    {
     "data": {
      "text/plain": "torch.Size([1, 64, 5, 7])"
     },
     "execution_count": 20,
     "metadata": {},
     "output_type": "execute_result"
    }
   ],
   "source": [
    "# Applies a 2D adaptive max pooling over an input signal composed of several input planes.\n",
    "# Input:(N, C, H_in, W_in) or (N, H_in, W_in)\n",
    "# Output:(N, C, H_out, W_out) or (C, H_out, W_out), where (H_out, W_out) = output_size\n",
    "amp_c = nn.AdaptiveMaxPool2d(output_size=(5, 7),  # 输出形状的大小\n",
    "                             return_indices=True)\n",
    "'''\n",
    "output_size –\n",
    "    the target output size of the image of the form H x W.\n",
    "    Can be a tuple (H, W) or a single H for a square image H x H.\n",
    "    H and W can be either a int, or None which means the size will be the same as that of the input.\n",
    "\n",
    "return_indices –\n",
    "    if True, will return the indices along with the outputs.\n",
    "    Useful to pass to nn.MaxUnpool2d. Default: False\n",
    "'''\n",
    "re_c, indices_c = amp_c(entry)\n",
    "re_c.shape"
   ]
  },
  {
   "cell_type": "code",
   "execution_count": 21,
   "metadata": {
    "pycharm": {
     "name": "#%%\n"
    }
   },
   "outputs": [
    {
     "data": {
      "text/plain": "tensor([[[[ 1,  1, 12,  ...,  5, 16,  8],\n          [19, 19, 12,  ..., 32, 16, 35],\n          [27, 29, 29,  ..., 32, 43, 35],\n          [45, 47, 47,  ..., 60, 60, 62],\n          [63, 56, 56,  ..., 60, 60, 62]],\n\n         [[ 0, 11, 11,  ...,  5, 16, 16],\n          [ 9, 11, 11,  ..., 15, 25, 25],\n          [36, 38, 30,  ..., 41, 34, 44],\n          [46, 46, 57,  ..., 41, 60, 44],\n          [64, 64, 57,  ..., 60, 70, 70]],\n\n         [[ 9,  1, 12,  ...,  6,  6, 17],\n          [ 9, 20, 21,  ..., 23, 16, 17],\n          [28, 38, 38,  ..., 41, 43, 43],\n          [45, 38, 38,  ..., 59, 43, 43],\n          [55, 56, 57,  ..., 59, 61, 71]],\n\n         ...,\n\n         [[ 0, 11, 11,  ...,  6,  6,  7],\n          [28, 11, 11,  ..., 24, 24, 26],\n          [28, 28, 29,  ..., 41, 43, 43],\n          [37, 37, 47,  ..., 41, 51, 62],\n          [55, 55, 57,  ..., 60, 70, 71]],\n\n         [[ 1,  1,  3,  ...,  6,  6,  8],\n          [ 9, 11, 30,  ..., 24, 16, 16],\n          [37, 37, 39,  ..., 42, 42, 43],\n          [46, 46, 39,  ..., 42, 42, 53],\n          [55, 65, 65,  ..., 59, 70, 70]],\n\n         [[ 1,  1, 12,  ...,  6, 16, 16],\n          [19, 19, 12,  ..., 24, 16, 16],\n          [36, 38, 38,  ..., 42, 43, 43],\n          [36, 38, 48,  ..., 59, 43, 43],\n          [55, 65, 65,  ..., 59, 70, 70]]]])"
     },
     "execution_count": 21,
     "metadata": {},
     "output_type": "execute_result"
    }
   ],
   "source": [
    "indices_c"
   ]
  },
  {
   "cell_type": "code",
   "execution_count": 21,
   "metadata": {
    "pycharm": {
     "name": "#%%\n"
    }
   },
   "outputs": [],
   "source": [
    "\n"
   ]
  }
 ],
 "metadata": {
  "kernelspec": {
   "display_name": "Python 3",
   "language": "python",
   "name": "python3"
  },
  "language_info": {
   "codemirror_mode": {
    "name": "ipython",
    "version": 3
   },
   "file_extension": ".py",
   "mimetype": "text/x-python",
   "name": "python",
   "nbconvert_exporter": "python",
   "pygments_lexer": "ipython3",
   "version": "3.7.7"
  },
  "toc": {
   "base_numbering": 1,
   "nav_menu": {},
   "number_sections": true,
   "sideBar": true,
   "skip_h1_title": false,
   "title_cell": "Table of Contents",
   "title_sidebar": "Contents",
   "toc_cell": false,
   "toc_position": {},
   "toc_section_display": true,
   "toc_window_display": false
  }
 },
 "nbformat": 4,
 "nbformat_minor": 1
}