{
 "cells": [
  {
   "cell_type": "markdown",
   "metadata": {
    "collapsed": true,
    "pycharm": {}
   },
   "source": [
    "* 可迭代对象(list，set，dict...)可以重复迭代,只能使用for循环\n",
    "* 可迭代对象包括  \n",
    "    * str / list / tuple / dict / set / numpy / panda   \n",
    "    * 迭代器(Iterator)  \n",
    "    * 生成器(generator)"
   ]
  },
  {
   "cell_type": "code",
   "execution_count": 5,
   "metadata": {
    "collapsed": true
   },
   "outputs": [
    {
     "name": "stdout",
     "output_type": "stream",
     "text": [
      "True\n",
      "True\n",
      "True\n",
      "True\n",
      "True\n",
      "True\n",
      "True\n",
      "True\n"
     ]
    }
   ],
   "source": [
    "from collections.abc import Iterable\n",
    "import  numpy as np\n",
    "import  pandas as pd\n",
    "\n",
    "print(isinstance('duanchao', Iterable)) # 字符串可迭代对象\n",
    "print(isinstance([1, 2, 3], Iterable))    # 列表是可迭代对象\n",
    "\n",
    "dict1 = {'a': 1, 'b': 2}\n",
    "print(isinstance(dict1, Iterable))    # 字典是可迭代对象\n",
    "print(isinstance(dict1.keys(), Iterable)) # 字典的键是可迭代对象\n",
    "print(isinstance(dict1.values(), Iterable)) # 字典的值是可迭代对象\n",
    "\n",
    "print(isinstance({1, 2, 3, 4}, Iterable)) # 集合是可迭代对象\n",
    "print(isinstance(range(6), Iterable)) # range对象是可迭代对象\n",
    "print(isinstance((x for x in range(10)), Iterable)) # 列表生成器是可迭代对象"
   ]
  },
  {
   "cell_type": "code",
   "execution_count": 6,
   "outputs": [
    {
     "name": "stdout",
     "output_type": "stream",
     "text": [
      "True\n",
      "数组作用于for循环:\n",
      "1\n",
      "2\n",
      "3\n"
     ]
    }
   ],
   "source": "arr = np.array([1, 2, 3])\nprint(isinstance(arr, Iterable)) # 数组是可迭代对象\nprint('数组作用于for循环:')\nfor i in arr:\n    print(i)",
   "metadata": {
    "pycharm": {
     "metadata": false,
     "name": "#%%\n"
    }
   }
  },
  {
   "cell_type": "code",
   "execution_count": 7,
   "outputs": [
    {
     "name": "stdout",
     "output_type": "stream",
     "text": [
      "True\n",
      "True\n",
      "Series作用于for循环:\n",
      "1\n",
      "2\n",
      "3\n"
     ]
    }
   ],
   "source": "sr = pd.Series([1, 2, 3], index=['a', 'b', 'c'])\nprint(isinstance(sr, Iterable)) # Series是可迭代对象\nsr_index = sr.index\nprint(isinstance(sr_index, Iterable)) # Series.index是可迭代对象\nprint('Series作用于for循环:')\nfor j in sr: # 等价于for i in sr.values\n    print(j) ",
   "metadata": {
    "pycharm": {
     "metadata": false,
     "name": "#%%\n"
    }
   }
  },
  {
   "cell_type": "code",
   "execution_count": 8,
   "outputs": [
    {
     "name": "stdout",
     "output_type": "stream",
     "text": [
      "True\n",
      "True\n",
      "True\n",
      "DataFrame作用于for循环:\n",
      "A\n",
      "B\n",
      "[1 2]\n",
      "[3 4]\n"
     ]
    }
   ],
   "source": "df = pd.DataFrame([[1,2 ], [3, 4]], \n                              index=list('ab'), \n                              columns=list('AB'))\nprint(isinstance(df, Iterable)) # DataFrame是可迭代对象\ndf_index = df.index \nprint(isinstance(df_index, Iterable)) # DataFrame.index是可迭代对象\ndf_columns = df.columns  \nprint(isinstance(df_columns, Iterable)) # DataFrame.columns是可迭代对象\nprint('DataFrame作用于for循环:')\nfor j in df: # 等价于for j in df.columns\n    print(j) \n\nfor k in df.values:\n    print(k)\n",
   "metadata": {
    "pycharm": {
     "metadata": false,
     "name": "#%%\n"
    }
   }
  }
 ],
 "metadata": {
  "kernelspec": {
   "name": "python3",
   "language": "python",
   "display_name": "Python 3"
  },
  "language_info": {
   "codemirror_mode": {
    "name": "ipython",
    "version": 2
   },
   "file_extension": ".py",
   "mimetype": "text/x-python",
   "name": "python",
   "nbconvert_exporter": "python",
   "pygments_lexer": "ipython2",
   "version": "2.7.6"
  }
 },
 "nbformat": 4,
 "nbformat_minor": 0
}