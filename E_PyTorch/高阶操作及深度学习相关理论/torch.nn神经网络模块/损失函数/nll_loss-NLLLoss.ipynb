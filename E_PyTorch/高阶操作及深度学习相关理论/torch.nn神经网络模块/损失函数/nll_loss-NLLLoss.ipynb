{
 "cells": [
  {
   "cell_type": "markdown",
   "source": [
    "$$ l(X, \\mathbf{y}) = L = (l_1, l_2, \\cdots, l_N)^T \\qquad \\text{if  reduction='none'}$$\n",
    "\n",
    "1. $$ l_n = - \\mathbf{w}_{\\mathbf{y}_n} X_{n, \\mathbf{y}_n} $$\n",
    "\n",
    "2. $$ \\mathbf{w}_c = \\mathrm{weight}[c] $$\n",
    "\n",
    "where $ X$ is the input, $\\mathbf{y}$ is the target, $\\mathbf{w}$ is the weight, and N is the batch size\n",
    "\n",
    "$$\n",
    "\\begin{equation}\n",
    "l(X, \\mathbf{y}) =\\begin{cases}\n",
    "\t\t\\sum_{n}^N \\frac{1}{\\sum_{n=1}^N \\mathbf{w}_{\\mathbf{y}_n} } l_n  , & \\text{if  reduction='mean'} \\\\\n",
    "        \\sum_{n}^N l_n, & \\text{if  reduction='sum'}\n",
    "     \\end{cases}\n",
    "\\end{equation}\n",
    "$$"
   ],
   "metadata": {
    "collapsed": false,
    "pycharm": {
     "name": "#%% md\n"
    }
   }
  },
  {
   "cell_type": "markdown",
   "source": [
    "* Input: $(N, C)$ where $C$ = number of classes\n",
    "\n",
    "* Target: $(N)$ where each value is $ 0 \\leq \\text{targets}[i] \\leq C-1 $\n",
    "\n",
    "* Output: If reduction is 'none', shape (N)"
   ],
   "metadata": {
    "collapsed": false,
    "pycharm": {
     "name": "#%% md\n"
    }
   }
  },
  {
   "cell_type": "code",
   "execution_count": 1,
   "outputs": [],
   "source": [
    "import torch\n",
    "import torch.nn.functional as F\n",
    "import torch.nn as nn"
   ],
   "metadata": {
    "collapsed": false,
    "pycharm": {
     "name": "#%%\n"
    }
   }
  },
  {
   "cell_type": "code",
   "execution_count": 2,
   "outputs": [
    {
     "data": {
      "text/plain": "tensor([[ 0.,  1.,  2.,  3.,  4.,  5.],\n        [ 6.,  7.,  8.,  9., 10., 11.],\n        [12., 13., 14., 15., 16., 17.],\n        [18., 19., 20., 21., 22., 23.]])"
     },
     "execution_count": 2,
     "metadata": {},
     "output_type": "execute_result"
    }
   ],
   "source": [
    "X = torch.arange(24, dtype=torch.float32).reshape(4, 6)  # X类别数为6\n",
    "X"
   ],
   "metadata": {
    "collapsed": false,
    "pycharm": {
     "name": "#%%\n"
    }
   }
  },
  {
   "cell_type": "code",
   "execution_count": 3,
   "outputs": [
    {
     "name": "stdout",
     "output_type": "stream",
     "text": [
      "tensor(-10.7273)\n",
      "tensor(-118.)\n",
      "tensor([ -6., -14., -80., -18.])\n"
     ]
    }
   ],
   "source": [
    "y = torch.tensor([2, 1, 4, 0])\n",
    "\n",
    "# weight(类别权重)的大小必须与X的类别数相等,即weight.shape=torch.Size([6])\n",
    "'''\n",
    "weight (Tensor, optional) –\n",
    "    a manual rescaling weight given to each class.\n",
    "    If given, it has to be a Tensor of size C. Otherwise, it is treated as if having all ones.\n",
    "'''\n",
    "weight = torch.tensor([1, 2, 3, 4, 5, 6], dtype=torch.float32)\n",
    "print(F.nll_loss(X, y, weight=weight,  # 默认weight=None,此时weight为全为1的张量\n",
    "                 reduction='mean'))  # 默认reduction='mean',参考BCELos\n",
    "print(F.nll_loss(X, y, weight=weight, reduction='sum'))\n",
    "print(F.nll_loss(X, y, weight=weight, reduction='none'))"
   ],
   "metadata": {
    "collapsed": false,
    "pycharm": {
     "name": "#%%\n"
    }
   }
  },
  {
   "cell_type": "code",
   "execution_count": 4,
   "outputs": [
    {
     "data": {
      "text/plain": "tensor([ -2.,  -7., -16.,   0.])"
     },
     "execution_count": 4,
     "metadata": {},
     "output_type": "execute_result"
    }
   ],
   "source": [
    "# target为0的损失直接为0(NLP任务中可指定ignore_index填充项)\n",
    "'''\n",
    "gnore_index (int, optional) –\n",
    "    Specifies a target value that is ignored and does not contribute to the input gradient.\n",
    "    When size_average is True, the loss is averaged over non-ignored targets.\n",
    "'''\n",
    "nn.NLLLoss(reduction='none', ignore_index=0)(X, y)"
   ],
   "metadata": {
    "collapsed": false,
    "pycharm": {
     "name": "#%%\n"
    }
   }
  },
  {
   "cell_type": "code",
   "execution_count": 5,
   "outputs": [
    {
     "name": "stdout",
     "output_type": "stream",
     "text": [
      "tensor(-118.)\n",
      "tensor(-10.7273)\n"
     ]
    }
   ],
   "source": [
    "print(nn.NLLLoss(weight=weight, reduction='sum')(X, y))\n",
    "print(nn.NLLLoss(weight=weight, reduction='mean')(X, y))  # 默认reduction='mean'"
   ],
   "metadata": {
    "collapsed": false,
    "pycharm": {
     "name": "#%%\n"
    }
   }
  },
  {
   "cell_type": "markdown",
   "source": [
    "### 上式计算步骤如下:"
   ],
   "metadata": {
    "collapsed": false,
    "pycharm": {
     "name": "#%% md\n"
    }
   }
  },
  {
   "cell_type": "markdown",
   "source": [
    "1. 计算$ X_{n, \\mathbf{y}_n} $"
   ],
   "metadata": {
    "collapsed": false,
    "pycharm": {
     "name": "#%% md\n"
    }
   }
  },
  {
   "cell_type": "code",
   "execution_count": 6,
   "outputs": [
    {
     "data": {
      "text/plain": "tensor([ 2.,  7., 16., 18.])"
     },
     "execution_count": 6,
     "metadata": {},
     "output_type": "execute_result"
    }
   ],
   "source": [
    "step1 = X[[0, 1, 2, 3], y]  # 即X[0, 2], X[1, 1], X[2, 4], X[3, 0]\n",
    "step1"
   ],
   "metadata": {
    "collapsed": false,
    "pycharm": {
     "name": "#%%\n"
    }
   }
  },
  {
   "cell_type": "markdown",
   "source": [
    "3. 若reduction='none'"
   ],
   "metadata": {
    "collapsed": false,
    "pycharm": {
     "name": "#%% md\n"
    }
   }
  },
  {
   "cell_type": "code",
   "execution_count": 7,
   "outputs": [
    {
     "data": {
      "text/plain": "tensor([ -6., -14., -80., -18.])"
     },
     "execution_count": 7,
     "metadata": {},
     "output_type": "execute_result"
    }
   ],
   "source": [
    "re_none = - step1 * weight[y]\n",
    "re_none"
   ],
   "metadata": {
    "collapsed": false,
    "pycharm": {
     "name": "#%%\n"
    }
   }
  },
  {
   "cell_type": "markdown",
   "source": [
    "4. 若reduction='sum'"
   ],
   "metadata": {
    "collapsed": false,
    "pycharm": {
     "name": "#%% md\n"
    }
   }
  },
  {
   "cell_type": "code",
   "execution_count": 8,
   "outputs": [
    {
     "data": {
      "text/plain": "tensor(-118.)"
     },
     "execution_count": 8,
     "metadata": {},
     "output_type": "execute_result"
    }
   ],
   "source": [
    "re_mean = torch.sum(re_none)\n",
    "re_mean"
   ],
   "metadata": {
    "collapsed": false,
    "pycharm": {
     "name": "#%%\n"
    }
   }
  },
  {
   "cell_type": "markdown",
   "source": [
    "5. 若reduction='mean'"
   ],
   "metadata": {
    "collapsed": false,
    "pycharm": {
     "name": "#%% md\n"
    }
   }
  },
  {
   "cell_type": "code",
   "execution_count": 9,
   "outputs": [
    {
     "data": {
      "text/plain": "tensor(0.0909)"
     },
     "execution_count": 9,
     "metadata": {},
     "output_type": "execute_result"
    }
   ],
   "source": [
    "weight_1 = 1 / torch.sum(weight[y])\n",
    "weight_1"
   ],
   "metadata": {
    "collapsed": false,
    "pycharm": {
     "name": "#%%\n"
    }
   }
  },
  {
   "cell_type": "code",
   "execution_count": 10,
   "outputs": [
    {
     "data": {
      "text/plain": "tensor(-10.7273)"
     },
     "execution_count": 10,
     "metadata": {},
     "output_type": "execute_result"
    }
   ],
   "source": [
    "torch.sum(re_none * weight_1)"
   ],
   "metadata": {
    "collapsed": false,
    "pycharm": {
     "name": "#%%\n"
    }
   }
  }
 ],
 "metadata": {
  "kernelspec": {
   "display_name": "Python 3",
   "language": "python",
   "name": "python3"
  },
  "language_info": {
   "codemirror_mode": {
    "name": "ipython",
    "version": 2
   },
   "file_extension": ".py",
   "mimetype": "text/x-python",
   "name": "python",
   "nbconvert_exporter": "python",
   "pygments_lexer": "ipython2",
   "version": "2.7.6"
  }
 },
 "nbformat": 4,
 "nbformat_minor": 0
}