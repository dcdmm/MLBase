{
 "cells": [
  {
   "cell_type": "code",
   "execution_count": 1,
   "metadata": {
    "collapsed": true,
    "pycharm": {
     "name": "#%%\n"
    }
   },
   "outputs": [],
   "source": [
    "import torch\n",
    "import torch.nn as nn"
   ]
  },
  {
   "cell_type": "code",
   "execution_count": 2,
   "metadata": {
    "pycharm": {
     "name": "#%%\n"
    }
   },
   "outputs": [],
   "source": [
    "embedding = nn.Embedding(num_embeddings=10,  # 单词表的单词数目\n",
    "                         embedding_dim=4,  # 输出词向量的维度大小\n",
    "                         # 默认为False;这个参数的作用是为了加快非常用单词的优化,\n",
    "                         # 在深度学习模型中,当反向传播获取词向量的梯度以后,如果设置这个参数为True,\n",
    "                         # 则词向量的梯度会除以这个单词在mini-batch中出现的频率,通过这个缩放操作,\n",
    "                         # 可以让出现频率较少的单词的梯度比较大,这样可以加快低频词的词向量参数的收敛速度\n",
    "                         scale_grad_by_freq=True,\n",
    "                         # 如果这个参数设置为True,则词嵌入矩阵在反向传播中计算得到的矩阵为稀疏矩阵\n",
    "                         # 这个参数在单词表中单词数目巨大的时候非常有用.\n",
    "                         # 如果使用稀疏的梯度矩阵,则必须使用稀疏的优化器,如optim.SGD,optim.SparseAdam,optim.AdaGrad\n",
    "                         sparse=True,  # 默认为False\n",
    "                         # If specified, the entries at padding_idx do not contribute to the gradient;\n",
    "                         # therefore, the embedding vector at padding_idx is not updated during training, i.e.\n",
    "                         # it remains as a fixed “pad”. For a newly constructed Embedding, the embedding vector at padding_idx will default to all zeros, but can be updated to another value to be used as the padding vector.\n",
    "                         padding_idx=0)"
   ]
  },
  {
   "cell_type": "code",
   "execution_count": 3,
   "metadata": {
    "pycharm": {
     "name": "#%%\n"
    }
   },
   "outputs": [
    {
     "data": {
      "text/plain": "Parameter containing:\ntensor([[ 0.0000,  0.0000,  0.0000,  0.0000],\n        [-0.1920, -1.2236,  0.4971, -0.3048],\n        [-0.6763, -0.4996,  0.3797,  1.4260],\n        [ 0.3425, -0.1098,  0.5617, -1.2866],\n        [-0.7909, -1.4648,  0.6293, -0.0617],\n        [-1.4245,  1.8285,  0.0571, -0.8648],\n        [-0.6446,  1.3633,  1.8080, -0.5659],\n        [ 1.1007,  0.2975, -1.1786,  0.3688],\n        [-0.6017,  0.0611,  2.1240,  0.2194],\n        [ 1.0645,  0.2728,  0.1876,  1.8023]], requires_grad=True)"
     },
     "execution_count": 3,
     "metadata": {},
     "output_type": "execute_result"
    }
   ],
   "source": [
    "embedding.weight  # 内部实现了torch.nn.init.normal_随机初始化"
   ]
  },
  {
   "cell_type": "code",
   "execution_count": 4,
   "outputs": [
    {
     "name": "stdout",
     "output_type": "stream",
     "text": [
      "10\n",
      "4\n"
     ]
    }
   ],
   "source": [
    "print(embedding.num_embeddings)\n",
    "print(embedding.embedding_dim)"
   ],
   "metadata": {
    "collapsed": false,
    "pycharm": {
     "name": "#%%\n"
    }
   }
  },
  {
   "cell_type": "code",
   "execution_count": 5,
   "metadata": {
    "pycharm": {
     "name": "#%%\n"
    }
   },
   "outputs": [
    {
     "data": {
      "text/plain": "Parameter containing:\ntensor([[ 0.,  1.,  2.,  3.],\n        [ 4.,  5.,  6.,  7.],\n        [ 8.,  9., 10., 11.],\n        [12., 13., 14., 15.],\n        [16., 17., 18., 19.],\n        [20., 21., 22., 23.],\n        [24., 25., 26., 27.],\n        [28., 29., 30., 31.],\n        [32., 33., 34., 35.],\n        [36., 37., 38., 39.]])"
     },
     "execution_count": 5,
     "metadata": {},
     "output_type": "execute_result"
    }
   ],
   "source": [
    "pre_em = torch.arange(40, dtype=torch.float32).reshape(10, 4)\n",
    "embedding_pre = nn.Embedding.from_pretrained(pre_em, sparse=True,\n",
    "                                             scale_grad_by_freq=True)  # 从预训练的词嵌入矩阵得到词嵌入模块(类方法,参数含义与上相同)\n",
    "embedding_pre.weight"
   ]
  },
  {
   "cell_type": "code",
   "execution_count": 6,
   "outputs": [
    {
     "name": "stdout",
     "output_type": "stream",
     "text": [
      "10\n",
      "4\n"
     ]
    }
   ],
   "source": [
    "print(embedding_pre.num_embeddings)\n",
    "print(embedding_pre.embedding_dim)"
   ],
   "metadata": {
    "collapsed": false,
    "pycharm": {
     "name": "#%%\n"
    }
   }
  },
  {
   "cell_type": "code",
   "execution_count": 7,
   "metadata": {
    "pycharm": {
     "name": "#%%\n"
    }
   },
   "outputs": [],
   "source": [
    "entry = torch.tensor([[0, 1, 2],\n",
    "                      [5, 6, 7]], dtype=torch.long)"
   ]
  },
  {
   "cell_type": "code",
   "execution_count": 8,
   "metadata": {
    "pycharm": {
     "name": "#%%\n"
    }
   },
   "outputs": [
    {
     "name": "stdout",
     "output_type": "stream",
     "text": [
      "tensor([[[ 0.,  1.,  2.,  3.],\n",
      "         [ 4.,  5.,  6.,  7.],\n",
      "         [ 8.,  9., 10., 11.]],\n",
      "\n",
      "        [[20., 21., 22., 23.],\n",
      "         [24., 25., 26., 27.],\n",
      "         [28., 29., 30., 31.]]])\n",
      "torch.Size([2, 3, 4])\n"
     ]
    }
   ],
   "source": [
    "print(embedding_pre(entry))  # 通过取出对应元素索引序号的行,来获取某个元素对应的词向量\n",
    "print(embedding_pre(entry).shape)  # (2, 3) <--> (10, 4) --> (2, 3, 4)"
   ]
  },
  {
   "cell_type": "code",
   "execution_count": 9,
   "metadata": {
    "pycharm": {
     "name": "#%%\n"
    }
   },
   "outputs": [
    {
     "name": "stdout",
     "output_type": "stream",
     "text": [
      "tensor([[ 4.,  5.,  6.,  7.],\n",
      "        [ 8.,  9., 10., 11.]])\n",
      "torch.Size([2, 4])\n"
     ]
    }
   ],
   "source": [
    "entry1 = torch.tensor([1, 2])\n",
    "print(embedding_pre(entry1))\n",
    "print(embedding_pre(entry1).shape)  # (2,) <-->(10, 4) --> (2, 4)"
   ]
  },
  {
   "cell_type": "code",
   "execution_count": 9,
   "metadata": {
    "pycharm": {
     "name": "#%%\n"
    }
   },
   "outputs": [],
   "source": []
  }
 ],
 "metadata": {
  "kernelspec": {
   "display_name": "Python 3",
   "language": "python",
   "name": "python3"
  },
  "language_info": {
   "codemirror_mode": {
    "name": "ipython",
    "version": 3
   },
   "file_extension": ".py",
   "mimetype": "text/x-python",
   "name": "python",
   "nbconvert_exporter": "python",
   "pygments_lexer": "ipython3",
   "version": "3.7.7"
  },
  "toc": {
   "base_numbering": 1,
   "nav_menu": {},
   "number_sections": true,
   "sideBar": true,
   "skip_h1_title": false,
   "title_cell": "Table of Contents",
   "title_sidebar": "Contents",
   "toc_cell": false,
   "toc_position": {},
   "toc_section_display": true,
   "toc_window_display": false
  }
 },
 "nbformat": 4,
 "nbformat_minor": 1
}