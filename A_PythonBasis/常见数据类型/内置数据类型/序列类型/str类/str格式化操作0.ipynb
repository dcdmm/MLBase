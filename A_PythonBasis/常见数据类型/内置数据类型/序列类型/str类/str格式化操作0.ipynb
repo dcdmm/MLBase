{
 "cells": [
  {
   "cell_type": "markdown",
   "source": [
    "### 输出类型:字符串"
   ],
   "metadata": {
    "collapsed": false,
    "pycharm": {
     "name": "#%% md\n"
    }
   }
  },
  {
   "cell_type": "code",
   "execution_count": 6,
   "outputs": [
    {
     "name": "stdout",
     "output_type": "stream",
     "text": [
      "hello world\n",
      "hello world\n",
      "world hello world\n"
     ]
    }
   ],
   "source": [
    "print(\"{} {}\".format(\"hello\", \"world\"))  # 不设置指定位置(按默认顺序)\n",
    "print(\"{0} {1}\".format(\"hello\", \"world\"))  # 设置指定位置坐标\n",
    "print(\"{1} {0} {1}\".format(\"hello\", \"world\"))"
   ],
   "metadata": {
    "collapsed": false,
    "pycharm": {
     "name": "#%%\n"
    }
   }
  },
  {
   "cell_type": "code",
   "execution_count": 7,
   "outputs": [
    {
     "name": "stdout",
     "output_type": "stream",
     "text": [
      "名字：段超, 地址 china\n",
      "网站名：duanmengmeng, 地址 USA\n"
     ]
    }
   ],
   "source": [
    "print(\"名字：{name}, 地址 {url}\".format(name=\"段超\", url=\"china\"))  # 设置指定位置名称\n",
    "\n",
    "# 通过字典设置参数\n",
    "site = {\"name\": \"duanmengmeng\", \"url\": \"USA\"}\n",
    "print(\"网站名：{name}, 地址 {url}\".format(**site))"
   ],
   "metadata": {
    "pycharm": {
     "metadata": false,
     "name": "#%%\n"
    }
   }
  },
  {
   "cell_type": "code",
   "execution_count": 8,
   "outputs": [
    {
     "name": "stdout",
     "output_type": "stream",
     "text": [
      "value 为: 6\n"
     ]
    }
   ],
   "source": [
    "class AssignValue(object):\n",
    "    def __init__(self, value):\n",
    "        self.value = value\n",
    "\n",
    "\n",
    "my_value = AssignValue(6)\n",
    "print('value 为: {0.value}'.format(my_value))  # 向str.format()传入对象"
   ],
   "metadata": {
    "pycharm": {
     "metadata": false,
     "name": "#%%\n"
    }
   }
  },
  {
   "cell_type": "code",
   "execution_count": 9,
   "outputs": [
    {
     "name": "stdout",
     "output_type": "stream",
     "text": [
      "duanchao\n",
      "3.14159265\n",
      "3.1416\n",
      "+3.14\n",
      "005\n",
      "5xxx\n",
      "500,000\n",
      "123.50%\n",
      "1.000000e+08\n",
      "1.00e+09\n",
      "        12\n",
      "12        \n",
      "    12    \n",
      "1011\n",
      "11\n",
      "13\n",
      "b\n",
      "runoob 对应的位置是 {0}\n",
      "|    3.1414|\n",
      "|3.1414    |\n"
     ]
    }
   ],
   "source": [
    "print(\"{}\".format('duanchao'))  # 输出本身字符串\n",
    "\n",
    "s = 3.14159265\n",
    "\n",
    "print(\"{:}\".format(s))  # 默认保留小数点后8位(四舍五入)\n",
    "\n",
    "print(\"{:.4f}\".format(s))  # 保留小数点后四位\n",
    "\n",
    "print(\"{:+.2f}\".format(3.1415926))  # 带符号保留小数点后两位\n",
    "\n",
    "print(\"{:0>3d}\".format(5))  # 数字补零 (填充左边,宽度为2)\n",
    "\n",
    "print(\"{:x<4d}\".format(5))  # 数字补x (填充右边,宽度为4)\n",
    "\n",
    "print(\"{:,}\".format(500000))  # 以逗号分隔的数字格式\n",
    "\n",
    "print(\"{:.2%}\".format(1.235))  # 以逗号分隔的数字格式\n",
    "\n",
    "print(\"{:e}\".format(100000000))\n",
    "print(\"{:.2e}\".format(1000000000))  # 科学计数法(保留2位有效数字)\n",
    "\n",
    "print(\"{:10d}\".format(12))  # 右对齐 (默认, 宽度为10)\n",
    "\n",
    "print(\"{:<10d}\".format(12))  # 左对齐 (宽度为10)\n",
    "\n",
    "print(\"{:^10d}\".format(12))  # 中间对齐 (宽度为10)\n",
    "\n",
    "lis = ['{:b}',  # 二进制\n",
    "       '{:d}',  # 十进制\n",
    "       '{:o}',  # 八进制\n",
    "       '{:x}']  # 十六进制\n",
    "for i in lis:\n",
    "    print(i.format(11))\n",
    "\n",
    "print(\"{0} 对应的位置是 {{0}}\".format(\"runoob\"))  # 大括号/{}转义大括号\n",
    "\n",
    "print(\"|{:10.4f}|\".format(3.1414124))  # 宽度为10且保留小数点后4位(默认为右对齐)\n",
    "print(\"|{:<10.4f}|\".format(3.1414124))  # 左对齐,宽度为10且保留小数点后4位"
   ],
   "metadata": {
    "pycharm": {
     "metadata": false,
     "name": "#%%\n"
    }
   }
  },
  {
   "cell_type": "code",
   "execution_count": 10,
   "outputs": [
    {
     "name": "stdout",
     "output_type": "stream",
     "text": [
      "年龄为25.251222;学校为guangcai;工资为10000\n",
      "年龄为25.25122222;学校为guangcai;工资为10000\n",
      "年龄为25.25122222;学校为guangcai;工资为10000\n"
     ]
    }
   ],
   "source": [
    "# 不能混淆使用\n",
    "print(\"年龄为{:f};学校为{:s};工资为{:d}\".format(25.25122222, \"guangcai\", 10000))  # 按默认顺序\n",
    "print(\"年龄为{0};学校为{1};工资为{2}\".format(25.25122222, \"guangcai\", 10000))\n",
    "print(\"年龄为{age};学校为{sclool};工资为{payment}\".format(age=25.25122222, sclool=\"guangcai\", payment=10000))\n"
   ],
   "metadata": {
    "collapsed": false,
    "pycharm": {
     "name": "#%%\n"
    }
   }
  }
 ],
 "metadata": {
  "kernelspec": {
   "name": "python3",
   "language": "python",
   "display_name": "Python 3"
  },
  "language_info": {
   "codemirror_mode": {
    "name": "ipython",
    "version": 2
   },
   "file_extension": ".py",
   "mimetype": "text/x-python",
   "name": "python",
   "nbconvert_exporter": "python",
   "pygments_lexer": "ipython2",
   "version": "2.7.6"
  }
 },
 "nbformat": 4,
 "nbformat_minor": 0
}