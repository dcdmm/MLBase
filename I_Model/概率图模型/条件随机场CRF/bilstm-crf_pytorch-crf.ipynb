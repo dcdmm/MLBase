{
 "cells": [
  {
   "cell_type": "code",
   "execution_count": 68,
   "metadata": {
    "collapsed": true
   },
   "outputs": [
    {
     "data": {
      "text/plain": "<torch._C.Generator at 0x20510c08b50>"
     },
     "execution_count": 68,
     "metadata": {},
     "output_type": "execute_result"
    }
   ],
   "source": [
    "import torch\n",
    "from torchcrf import CRF\n",
    "import torch.nn as nn\n",
    "import torch.optim as optim\n",
    "\n",
    "torch.manual_seed(1)"
   ]
  },
  {
   "cell_type": "code",
   "execution_count": 69,
   "outputs": [],
   "source": [
    "class BiLSTM_CRF(nn.Module):\n",
    "\n",
    "    def __init__(self,\n",
    "                 vocab_size,  # 单词表的单词数目\n",
    "                 embedding_dim,  # 输出词向量的维度大小\n",
    "                 hidden_dim,  # 隐含变量的维度大小的2倍(权重矩阵W_{ih}、W_{hh}中h的大小的2倍)\n",
    "                 num_tags):  # 实体标签种类个数\n",
    "        super(BiLSTM_CRF, self).__init__()\n",
    "        self.word_embeds = nn.Embedding(vocab_size, embedding_dim)\n",
    "        self.lstm = nn.LSTM(embedding_dim, hidden_dim // 2, num_layers=1, bidirectional=True, batch_first=True)\n",
    "        self.hidden2tag = nn.Linear(hidden_dim, num_tags)  # lstm后接的全连接层\n",
    "        self.crf = CRF(num_tags=num_tags, batch_first=True)\n",
    "\n",
    "    def _get_lstm_features(self, sentence):\n",
    "        # sentence.shape=[batch_size, sen len]\n",
    "        # embeds.shape=[batch_size, sen len, embedding_dim]\n",
    "        embeds = self.word_embeds(sentence)\n",
    "        # lstm_out.shape=[batch_size, sen len, hidden_dim]\n",
    "        lstm_out, _ = self.lstm(embeds)\n",
    "        # lstm_feats.shape=[batch_size, sen len, num_tags]\n",
    "        emissions = self.hidden2tag(lstm_out)  # 句子中每个词属于不同实体类别标签的概率(即发射分数)\n",
    "        return emissions\n",
    "\n",
    "    def forward(self, sentence, tags):\n",
    "        # sentence.shape=[batch_size, sen len]\n",
    "        # tags.shape=[batch_size, sen len]\n",
    "        # emissions.shape=[batch_size, sen len, num_tags]\n",
    "        emissions = self._get_lstm_features(sentence)\n",
    "        log_likelihood = self.crf(emissions, tags)  # 对数似然\n",
    "        loss = -log_likelihood  # 损失值\n",
    "        return loss\n",
    "\n",
    "    def decode(self, sentence):\n",
    "        # sentence.shape=[batch_size, sen len]\n",
    "        # emissions.shape=[batch_size, sen len, num_tags]\n",
    "        emissions = self._get_lstm_features(sentence)\n",
    "        best_path = self.crf.decode(emissions)\n",
    "        return best_path  # 最优路径"
   ],
   "metadata": {
    "collapsed": false,
    "pycharm": {
     "name": "#%%\n"
    }
   }
  },
  {
   "cell_type": "code",
   "execution_count": 70,
   "outputs": [
    {
     "data": {
      "text/plain": "{'the': 0,\n 'wall': 1,\n 'street': 2,\n 'journal': 3,\n 'reported': 4,\n 'today': 5,\n 'that': 6,\n 'apple': 7,\n 'corporation': 8,\n 'made': 9,\n 'money': 10,\n 'georgia': 11,\n 'tech': 12,\n 'is': 13,\n 'a': 14,\n 'university': 15,\n 'in': 16}"
     },
     "execution_count": 70,
     "metadata": {},
     "output_type": "execute_result"
    }
   ],
   "source": [
    "training_data = [(\"the wall street journal reported today that apple corporation made money\".split(),\n",
    "                  \"B I I I O O O B I O O\".split()),\n",
    "                 (\"georgia tech is a university in georgia\".split(),\n",
    "                  \"B I O O O O B\".split())]\n",
    "\n",
    "word_to_ix = {}\n",
    "for sentence, tags in training_data:\n",
    "    for word in sentence:\n",
    "        if word not in word_to_ix:\n",
    "            word_to_ix[word] = len(word_to_ix)\n",
    "word_to_ix"
   ],
   "metadata": {
    "collapsed": false,
    "pycharm": {
     "name": "#%%\n"
    }
   }
  },
  {
   "cell_type": "code",
   "execution_count": 71,
   "outputs": [
    {
     "data": {
      "text/plain": "{'B': 0, 'I': 1, 'O': 2, '<START>': 3, '<STOP>': 4}"
     },
     "execution_count": 71,
     "metadata": {},
     "output_type": "execute_result"
    }
   ],
   "source": [
    "tag_to_ix = {\"B\": 0, \"I\": 1, \"O\": 2, \"<START>\": 3, \"<STOP>\": 4}\n",
    "tag_to_ix"
   ],
   "metadata": {
    "collapsed": false,
    "pycharm": {
     "name": "#%%\n"
    }
   }
  },
  {
   "cell_type": "code",
   "execution_count": 72,
   "outputs": [],
   "source": [
    "model = BiLSTM_CRF(vocab_size=len(word_to_ix), embedding_dim=5, hidden_dim=4, num_tags=len(tag_to_ix))\n",
    "optimizer = optim.SGD(model.parameters(), lr=0.01, weight_decay=1e-4)"
   ],
   "metadata": {
    "collapsed": false,
    "pycharm": {
     "name": "#%%\n"
    }
   }
  },
  {
   "cell_type": "code",
   "execution_count": 73,
   "outputs": [
    {
     "data": {
      "text/plain": "tensor([[0, 1, 1, 1, 2, 2, 2, 0, 1, 2, 2]])"
     },
     "execution_count": 73,
     "metadata": {},
     "output_type": "execute_result"
    }
   ],
   "source": [
    "precheck_sent = torch.tensor([[word_to_ix[w] for w in training_data[0][0]]], dtype=torch.long)\n",
    "precheck_tags = torch.tensor([[tag_to_ix[t] for t in training_data[0][1]]], dtype=torch.long)\n",
    "precheck_tags  # 真实标签"
   ],
   "metadata": {
    "collapsed": false,
    "pycharm": {
     "name": "#%%\n"
    }
   }
  },
  {
   "cell_type": "code",
   "execution_count": 74,
   "outputs": [
    {
     "name": "stdout",
     "output_type": "stream",
     "text": [
      "tensor(18.8844)\n",
      "[[3, 3, 3, 3, 3, 3, 3, 1, 3, 3, 3]]\n"
     ]
    }
   ],
   "source": [
    "# Check predictions before training\n",
    "with torch.no_grad():\n",
    "    print(model(precheck_sent, precheck_tags))  # 损失值较大\n",
    "    print(model.decode(precheck_sent))  # 最优路径错误"
   ],
   "metadata": {
    "collapsed": false,
    "pycharm": {
     "name": "#%%\n"
    }
   }
  },
  {
   "cell_type": "code",
   "execution_count": 75,
   "outputs": [
    {
     "name": "stdout",
     "output_type": "stream",
     "text": [
      "tensor(0.9706)\n",
      "[[0, 1, 1, 1, 2, 2, 2, 0, 1, 2, 2]]\n"
     ]
    }
   ],
   "source": [
    "for epoch in range(300):\n",
    "    for sentence, tags in training_data:\n",
    "        model.zero_grad()\n",
    "        sentence_in = torch.tensor([[word_to_ix[w] for w in sentence]], dtype=torch.long)\n",
    "        targets = torch.tensor([[tag_to_ix[t] for t in tags]], dtype=torch.long)\n",
    "        loss = model(sentence_in, targets)  # 损失值\n",
    "        loss.backward()\n",
    "        optimizer.step()\n",
    "\n",
    "# Check predictions before training\n",
    "with torch.no_grad():\n",
    "    print(model(precheck_sent, precheck_tags))  # 损失值较小\n",
    "    print(model.decode(precheck_sent))  # 最优路径正确"
   ],
   "metadata": {
    "collapsed": false,
    "pycharm": {
     "name": "#%%\n"
    }
   }
  }
 ],
 "metadata": {
  "kernelspec": {
   "display_name": "Python 3",
   "language": "python",
   "name": "python3"
  },
  "language_info": {
   "codemirror_mode": {
    "name": "ipython",
    "version": 2
   },
   "file_extension": ".py",
   "mimetype": "text/x-python",
   "name": "python",
   "nbconvert_exporter": "python",
   "pygments_lexer": "ipython2",
   "version": "2.7.6"
  }
 },
 "nbformat": 4,
 "nbformat_minor": 0
}