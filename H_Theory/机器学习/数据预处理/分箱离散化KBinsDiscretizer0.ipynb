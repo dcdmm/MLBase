{
 "cells": [
  {
   "cell_type": "code",
   "execution_count": 50,
   "metadata": {
    "collapsed": true,
    "pycharm": {
     "is_executing": false
    }
   },
   "outputs": [
    {
     "data": {
      "text/plain": "KBinsDiscretizer(encode='onehot', n_bins=[3, 2, 2, 4], strategy='uniform')"
     },
     "metadata": {},
     "output_type": "execute_result",
     "execution_count": 50
    }
   ],
   "source": [
    "from sklearn.preprocessing import KBinsDiscretizer\n",
    "\n",
    "X = [[-2, 1, -4,   -1],\n",
    "     [-1, 2, -3, -0.5],\n",
    "     [ 0, 3, -2,  0.5],\n",
    "     [ 1, 4, -1,    2]]\n",
    "est = KBinsDiscretizer(n_bins=[3, 2, 2, 4], encode='onehot', strategy='uniform') # 使用onehot进行编码\n",
    "est.fit(X)"
   ]
  },
  {
   "cell_type": "code",
   "execution_count": 51,
   "outputs": [
    {
     "data": {
      "text/plain": "<4x11 sparse matrix of type '<class 'numpy.float64'>'\n\twith 16 stored elements in Compressed Sparse Row format>"
     },
     "metadata": {},
     "output_type": "execute_result",
     "execution_count": 51
    }
   ],
   "source": [
    "Xt = est.transform(X)\n",
    "Xt # Compressed Sparse Row matrix"
   ],
   "metadata": {
    "collapsed": false,
    "pycharm": {
     "name": "#%%\n",
     "is_executing": false
    }
   }
  },
  {
   "cell_type": "code",
   "execution_count": 52,
   "outputs": [
    {
     "data": {
      "text/plain": "array([[1., 0., 0., 1., 0., 1., 0., 1., 0., 0., 0.],\n       [0., 1., 0., 1., 0., 1., 0., 1., 0., 0., 0.],\n       [0., 0., 1., 0., 1., 0., 1., 0., 0., 1., 0.],\n       [0., 0., 1., 0., 1., 0., 1., 0., 0., 0., 1.]])"
     },
     "metadata": {},
     "output_type": "execute_result",
     "execution_count": 52
    }
   ],
   "source": [
    "Xt.toarray() # 转换为array"
   ],
   "metadata": {
    "collapsed": false,
    "pycharm": {
     "name": "#%%\n",
     "is_executing": false
    }
   }
  },
  {
   "cell_type": "code",
   "execution_count": 53,
   "outputs": [
    {
     "data": {
      "text/plain": "array([array([-2., -1.,  0.,  1.]), array([1. , 2.5, 4. ]),\n       array([-4. , -2.5, -1. ]),\n       array([-1.  , -0.25,  0.5 ,  1.25,  2.  ])], dtype=object)"
     },
     "metadata": {},
     "output_type": "execute_result",
     "execution_count": 53
    }
   ],
   "source": [
    "est.bin_edges_\n",
    "# 区间解析(对列/特征进行)\n",
    "# 特征1:[-2, -1) [-1, 0),[0, 1] -->故-2通过onehot变为1, 0, 0;-1通过onehot变为0, 1, 0,0通过onehot变为0, 0, 1;1通过onehot变为0, 0, 1\n",
    "# 特征2:[1, 2.5) [2.5, 4]\n",
    "# 特征3:[-4, -2.5) [-2.5, -1]\n",
    "# 特征4:[-1, -0.25) [-0.25, 0.5) [0.5, 1.25) [1.25, 2]"
   ],
   "metadata": {
    "collapsed": false,
    "pycharm": {
     "name": "#%%\n",
     "is_executing": false
    }
   }
  },
  {
   "cell_type": "code",
   "execution_count": 56,
   "outputs": [
    {
     "data": {
      "text/plain": "array([[0., 0., 0., 0.],\n       [1., 0., 0., 0.],\n       [2., 1., 1., 2.],\n       [2., 1., 1., 3.]])"
     },
     "metadata": {},
     "output_type": "execute_result",
     "execution_count": 56
    }
   ],
   "source": [
    "est1 = KBinsDiscretizer(n_bins=[3, 2, 2, 4], encode='ordinal', strategy='uniform') # 使用ordinal进行编码\n",
    "est1.fit(X)\n",
    "Xt1 = est1.transform(X)\n",
    "Xt1"
   ],
   "metadata": {
    "collapsed": false,
    "pycharm": {
     "name": "#%%\n",
     "is_executing": false
    }
   }
  },
  {
   "cell_type": "code",
   "execution_count": 59,
   "outputs": [
    {
     "data": {
      "text/plain": "array([array([-2., -1.,  0.,  1.]), array([1. , 2.5, 4. ]),\n       array([-4. , -2.5, -1. ]),\n       array([-1.  , -0.25,  0.5 ,  1.25,  2.  ])], dtype=object)"
     },
     "metadata": {},
     "output_type": "execute_result",
     "execution_count": 59
    }
   ],
   "source": [
    "est1.bin_edges_\n",
    "# 区间解析(对列/特征进行)\n",
    "# 特征1:[-2, -1) [-1, 0),[0, 1] -->故-2通过ordinal变为0;-1通过ordinal变为1;通过ordinal变为2;1通过ordinal变为2\n",
    "# 特征2:[1, 2.5) [2.5, 4]\n",
    "# 特征3:[-4, -2.5) [-2.5, -1]\n",
    "# 特征4:[-1, -0.25) [-0.25, 0.5) [0.5, 1.25) [1.25, 2]"
   ],
   "metadata": {
    "collapsed": false,
    "pycharm": {
     "name": "#%%\n",
     "is_executing": false
    }
   }
  },
  {
   "cell_type": "code",
   "execution_count": null,
   "outputs": [],
   "source": [
    "\n"
   ],
   "metadata": {
    "collapsed": false,
    "pycharm": {
     "name": "#%%\n"
    }
   }
  }
 ],
 "metadata": {
  "kernelspec": {
   "display_name": "Python 3",
   "language": "python",
   "name": "python3"
  },
  "language_info": {
   "codemirror_mode": {
    "name": "ipython",
    "version": 2
   },
   "file_extension": ".py",
   "mimetype": "text/x-python",
   "name": "python",
   "nbconvert_exporter": "python",
   "pygments_lexer": "ipython2",
   "version": "2.7.6"
  },
  "pycharm": {
   "stem_cell": {
    "cell_type": "raw",
    "source": [],
    "metadata": {
     "collapsed": false
    }
   }
  }
 },
 "nbformat": 4,
 "nbformat_minor": 0
}