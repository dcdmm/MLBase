{
 "cells": [
  {
   "cell_type": "markdown",
   "metadata": {
    "collapsed": true
   },
   "source": [
    "### The transformer encoder decoder stack\n",
    "\n",
    "<img src=\"../../../Other/img/The_transformer_encoder_decoder_stack.png\"  style=\"width:750px;height:400px;float:bottom\">\n",
    "\n",
    "### transformer resideual layer norm\n",
    "\n",
    "<img src=\"../../../Other/img/transformer_resideual_layer_norm_2.png\"  style=\"width:450px;height:500px;float:bottom\">\n",
    "\n",
    "a Transformer of 2 stacked encoders and decoders, it would look something like this:\n",
    "\n",
    "<img src=\"../../../Other/img/transformer_resideual_layer_norm_3.png\"  style=\"width:750px;height:500px;float:bottom\">\n",
    "\n",
    "### transformer_decoding_1.gif\n",
    "\n",
    "The encoder start by processing the input sequence. The output of the top encoder is then transformed into a set of attention vectors K and V. These are to be used by each decoder in its “encoder-decoder attention” layer which helps the decoder focus on appropriate places in the input sequence:\n",
    "\n",
    "<img src=\"../../../Other/img/transformer_decoding_1.gif\"  style=\"width:750px;height:400px;float:bottom\">\n",
    "\n",
    "The following steps repeat the process until a special symbol is reached indicating the transformer decoder has completed its output.\n",
    "\n",
    "<img src=\"../../../Other/img/transformer_decoding_2.gif\"  style=\"width:750px;height:400px;float:bottom\">"
   ]
  }
 ],
 "metadata": {
  "kernelspec": {
   "display_name": "Python 3",
   "language": "python",
   "name": "python3"
  },
  "language_info": {
   "codemirror_mode": {
    "name": "ipython",
    "version": 2
   },
   "file_extension": ".py",
   "mimetype": "text/x-python",
   "name": "python",
   "nbconvert_exporter": "python",
   "pygments_lexer": "ipython2",
   "version": "2.7.6"
  }
 },
 "nbformat": 4,
 "nbformat_minor": 0
}