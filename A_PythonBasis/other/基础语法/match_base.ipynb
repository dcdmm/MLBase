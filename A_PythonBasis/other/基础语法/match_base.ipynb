{
 "cells": [
  {
   "cell_type": "code",
   "execution_count": 17,
   "metadata": {
    "collapsed": true
   },
   "outputs": [
    {
     "name": "stdout",
     "output_type": "stream",
     "text": [
      "Code not found\n"
     ]
    }
   ],
   "source": [
    "# python3.10新增\n",
    "\n",
    "http_code = 410\n",
    "\n",
    "match http_code:\n",
    "    case 200:\n",
    "        print(\"OK\")\n",
    "    case 404:\n",
    "        print(\"Not Found\")\n",
    "    case 418:\n",
    "        print(\"I'm a teapot\")\n",
    "    case _:\n",
    "        print(\"Code not found\")"
   ]
  },
  {
   "cell_type": "code",
   "execution_count": 18,
   "outputs": [
    {
     "name": "stdout",
     "output_type": "stream",
     "text": [
      "Not Found\n"
     ]
    }
   ],
   "source": [
    "http_code = \"403\"\n",
    "\n",
    "match http_code:\n",
    "    case \"200\":\n",
    "        print(\"OK\")\n",
    "    # You can combine several literals in a single pattern using | (“or”):\n",
    "    case \"401\" | \"403\" | \"404\":\n",
    "        print(\"Not Found\")\n",
    "    case \"418\":\n",
    "        print(\"I'm a teapot\")\n",
    "    case _:\n",
    "        print(\"Code not found\")"
   ],
   "metadata": {
    "collapsed": false,
    "pycharm": {
     "name": "#%%\n"
    }
   }
  },
  {
   "cell_type": "markdown",
   "source": [
    "### 匹配列表"
   ],
   "metadata": {
    "collapsed": false,
    "pycharm": {
     "name": "#%% md\n"
    }
   }
  },
  {
   "cell_type": "code",
   "execution_count": 19,
   "outputs": [
    {
     "name": "stdout",
     "output_type": "stream",
     "text": [
      "null\n",
      "Origin\n",
      "Origin\n",
      "dc dmm come on!\n",
      "Y=1\n",
      "X=1\n",
      "X=y=9\n",
      "X=9, Y=10\n",
      "Z=111\n",
      "[1, 2, 3]\n",
      "list\n",
      "list\n",
      "not list\n"
     ]
    }
   ],
   "source": [
    "# 类似列表自动解包\n",
    "def list_match(example_list):\n",
    "    match example_list:\n",
    "        case []:  # 匹配空列表\n",
    "            return \"null\"\n",
    "        case [0, 0] | [1, 1]:  # 匹配[0, 0] 或 [1, 1]\n",
    "            return \"Origin\"\n",
    "        case [\"dc\", \"dmm\", *_]:  # 匹配'dc', 'dmm'开头的列表\n",
    "            return \"dc dmm come on!\"\n",
    "        case [0, y]:\n",
    "            return f\"Y={y}\"\n",
    "        case [x, 0]:\n",
    "            return f\"X={x}\"\n",
    "        # We can add an if clause to a pattern, known as a “guard”.\n",
    "        # If the guard is false, match goes on to try the next case block. Note that value capture happens before the guard is evaluated:\n",
    "        case [x, y] if x == y:  # Guard\n",
    "            return f\"X=y={x}\"\n",
    "        case [x, y]:\n",
    "            return f\"X={x}, Y={y}\"\n",
    "        case [_, _, z, _, _]:\n",
    "            return f\"Z={z}\"\n",
    "        case [\"add\", *params]:\n",
    "            return params\n",
    "        case [*_]:  # 匹配任意长度的列表\n",
    "            return \"list\"\n",
    "        case _:\n",
    "            return \"not list\"\n",
    "\n",
    "\n",
    "print(list_match([]))  # null\n",
    "\n",
    "print(list_match([0, 0]))  # Origin\n",
    "print(list_match([1, 1]))  # Origin\n",
    "\n",
    "print(list_match([\"dc\", \"dmm\", 1, 2, 3, 4]))  # dc dmm come on!\n",
    "\n",
    "print(list_match([0, 1]))  # Y=1\n",
    "print(list_match([1, 0]))  # X=1\n",
    "print(list_match([9, 9]))  # X=y=9\n",
    "print(list_match([9, 10]))  # X=9, Y=10\n",
    "\n",
    "print(list_match([1, 11, 111, 1111, 11111]))  # Z=111\n",
    "\n",
    "print(list_match(['add', 1, 2, 3]))  # [1, 2, 3]\n",
    "\n",
    "print(list_match([1, 2, 3, 4, 5, 6]))  # list\n",
    "print(list_match([\"xx\"]))  # list\n",
    "\n",
    "print(list_match(\"hello world\"))  # not list"
   ],
   "metadata": {
    "collapsed": false,
    "pycharm": {
     "name": "#%%\n"
    }
   }
  },
  {
   "cell_type": "markdown",
   "source": [
    "### 匹配元组"
   ],
   "metadata": {
    "collapsed": false,
    "pycharm": {
     "name": "#%% md\n"
    }
   }
  },
  {
   "cell_type": "code",
   "execution_count": 20,
   "outputs": [
    {
     "name": "stdout",
     "output_type": "stream",
     "text": [
      "null\n",
      "Origin\n",
      "Origin\n",
      "dc dmm come on!\n",
      "Y=1\n",
      "X=1\n",
      "X=9, Y=9\n",
      "Z=111\n",
      "[1, 2, 3]\n",
      "tuple\n",
      "tuple\n",
      "not tuple\n"
     ]
    }
   ],
   "source": [
    "# 类似元组自动解包(与上类似)\n",
    "def tuple_match(example_tuple):\n",
    "    match example_tuple:\n",
    "        case ():  # 匹配空元组\n",
    "            return \"null\"\n",
    "        case (0, 0) | (1, 1):  # 匹配(0, 0) 或 (1, 1)\n",
    "            return \"Origin\"\n",
    "        case (\"dc\", \"dmm\", *_):  # 匹配'dc', 'dmm'开头的元组\n",
    "            return \"dc dmm come on!\"\n",
    "        case (0, y):\n",
    "            return f\"Y={y}\"\n",
    "        case (x, 0):\n",
    "            return f\"X={x}\"\n",
    "        case (x, y):\n",
    "            return f\"X={x}, Y={y}\"\n",
    "        case (_, _, z, _, _):\n",
    "            return f\"Z={z}\"\n",
    "        case (\"add\", *params):\n",
    "            return params\n",
    "        case (*_, ):  # 匹配任意长度的元组\n",
    "            return \"tuple\"\n",
    "        case _:\n",
    "            return \"not tuple\"\n",
    "\n",
    "\n",
    "print(tuple_match(()))  # null\n",
    "\n",
    "print(tuple_match((0, 0)))  # Origin\n",
    "print(tuple_match((1, 1)))  # Origin\n",
    "\n",
    "print(tuple_match((\"dc\", \"dmm\", 1, 2, 3, 4)))  # dc dmm come on!\n",
    "\n",
    "print(tuple_match((0, 1)))  # Y=1\n",
    "print(tuple_match((1, 0)))  # X=1\n",
    "print(tuple_match((9, 9)))  # X=9, Y=9\n",
    "\n",
    "print(tuple_match((1, 11, 111, 1111, 11111)))  # Z=111\n",
    "\n",
    "print(tuple_match(('add', 1, 2, 3)))  # (1, 2, 3)\n",
    "\n",
    "print(tuple_match((1, 2, 3, 4, 5, 6)))  # tuple\n",
    "print(tuple_match((\"xx\",)))  # tuple\n",
    "\n",
    "print(tuple_match(\"hello world\"))  # not tuple"
   ],
   "metadata": {
    "collapsed": false,
    "pycharm": {
     "name": "#%%\n"
    }
   }
  },
  {
   "cell_type": "markdown",
   "source": [
    "### 匹配字典"
   ],
   "metadata": {
    "collapsed": false,
    "pycharm": {
     "name": "#%% md\n"
    }
   }
  },
  {
   "cell_type": "code",
   "execution_count": 21,
   "outputs": [
    {
     "name": "stdout",
     "output_type": "stream",
     "text": [
      "null\n",
      "Origin\n",
      "Origin\n",
      "have c d key\n",
      "have c d key\n",
      "X=1, Y=2\n",
      "X=1, Y=2\n",
      "{'country': True, 'china': 1, 'japen': '2'}\n",
      "dict\n",
      "dict\n"
     ]
    }
   ],
   "source": [
    "def dict_match(example_dict):\n",
    "    match example_dict:\n",
    "        case {} if len(example_dict) == 0:  # 匹配空字典\n",
    "            return \"null\"\n",
    "        case {\"a\": 0, \"b\": 1}:  # 匹配包含键值对\"a\"=0和\"b\"=1的字典\n",
    "            return \"Origin\"\n",
    "        case {\"c\": _, \"d\": _}:  # 匹配键包含\"c\"和'd'的字典\n",
    "            return \"have c d key\"\n",
    "        case {\"code\": x, \"note\": y}:  # 匹配键包含\"code\"和\"note\"的字典,且键\"code\"的值赋值给x,键\"note\"的值赋值给y\n",
    "            return f\"X={x}, Y={y}\"\n",
    "        case {\"country\": _, **kv}:  # 匹配键包含\"country\"的字典,且其余key-value赋值给kv\n",
    "            return kv\n",
    "        case {}:  # 匹配任意长度字典\n",
    "            return \"dict\"\n",
    "        # case {**kv}:  # 匹配任意长度字典,且字典所有key-value赋值给kv\n",
    "        #     return kv\n",
    "        case _:\n",
    "            return \"not dict\"\n",
    "\n",
    "\n",
    "print(dict_match({}))  # null\n",
    "\n",
    "print(dict_match({\"a\": 0, \"b\": 1}))  # Origin\n",
    "print(dict_match({\"a\": 0, \"b\": 1, \"c\": 2}))  # Origin\n",
    "\n",
    "print(dict_match({\"c\": 0, \"d\": 1}))  # only c d key\n",
    "print(dict_match({\"c\": 0, \"d\": 1, \"e\": 2}))  # have c d key\n",
    "\n",
    "print(dict_match({\"code\": 1, 'note': 2}))  # X=1, Y=2\n",
    "print(dict_match({\"code\": 1, \"note\": 2, \"word\": 3}))  # X=1, Y=2\n",
    "\n",
    "print({\"country\": True, \"china\": 1, \"japen\": \"2\"})  # {'country': True, 'china': 1, 'japen': '2'}\n",
    "\n",
    "print(dict_match({\"c\": 0}))  # dict\n",
    "print(dict_match({\"dc\": 0, \"dmm\": 1, \"come\": 2, \"on\": 3}))  # dict"
   ],
   "metadata": {
    "collapsed": false,
    "pycharm": {
     "name": "#%%\n"
    }
   }
  }
 ],
 "metadata": {
  "kernelspec": {
   "display_name": "Python 3",
   "language": "python",
   "name": "python3"
  },
  "language_info": {
   "codemirror_mode": {
    "name": "ipython",
    "version": 2
   },
   "file_extension": ".py",
   "mimetype": "text/x-python",
   "name": "python",
   "nbconvert_exporter": "python",
   "pygments_lexer": "ipython2",
   "version": "2.7.6"
  }
 },
 "nbformat": 4,
 "nbformat_minor": 0
}