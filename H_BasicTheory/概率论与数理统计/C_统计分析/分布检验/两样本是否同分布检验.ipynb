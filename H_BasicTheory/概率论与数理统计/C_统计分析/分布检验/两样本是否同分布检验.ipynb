{
 "cells": [
  {
   "cell_type": "code",
   "execution_count": 327,
   "metadata": {
    "collapsed": true
   },
   "outputs": [],
   "source": [
    "from scipy import stats\n",
    "from sklearn import preprocessing"
   ]
  },
  {
   "cell_type": "code",
   "execution_count": 328,
   "outputs": [
    {
     "data": {
      "text/plain": "Ks_2sampResult(statistic=0.45454545454545453, pvalue=2.688096412128971e-10)"
     },
     "execution_count": 328,
     "metadata": {},
     "output_type": "execute_result"
    }
   ],
   "source": [
    "# sample1来自(0, 1)均匀分布\n",
    "# sample2来自(标准)正态分布\n",
    "# 假设sample1、sample2独立\n",
    "sample1 = stats.uniform.rvs(size=100, random_state=0)\n",
    "sample2 = stats.norm.rvs(size=110, random_state=0)\n",
    "\n",
    "# p值低于阈值0.05,拒绝原假设,sample1、sample2不是来自同一分布\n",
    "stats.ks_2samp(sample1, sample2)  # Kolmogorov-Smirnov test"
   ],
   "metadata": {
    "collapsed": false,
    "pycharm": {
     "name": "#%%\n"
    }
   }
  },
  {
   "cell_type": "code",
   "execution_count": 329,
   "outputs": [
    {
     "data": {
      "text/plain": "Ks_2sampResult(statistic=0.016541353383458645, pvalue=1.0)"
     },
     "execution_count": 329,
     "metadata": {},
     "output_type": "execute_result"
    }
   ],
   "source": [
    "# sample1、sample2来自(标准)正态分布\n",
    "sample1 = stats.norm.rvs(size=105, random_state=0)\n",
    "sample2 = stats.norm.rvs(size=95, random_state=0)\n",
    "\n",
    "# p值不低于阈值0.05,接受原假设,sample1、sample2来自同一分布\n",
    "stats.ks_2samp(sample1, sample2)"
   ],
   "metadata": {
    "collapsed": false,
    "pycharm": {
     "name": "#%%\n"
    }
   }
  },
  {
   "cell_type": "code",
   "execution_count": 330,
   "outputs": [
    {
     "name": "stdout",
     "output_type": "stream",
     "text": [
      "Ks_2sampResult(statistic=0.2511278195488722, pvalue=0.0028797281482887405)\n",
      "Ks_2sampResult(statistic=0.06516290726817042, pvalue=0.9711677779338177)\n"
     ]
    }
   ],
   "source": [
    "# sample1来自(标准)均匀分布\n",
    "# sample2来自(0, 0.5)正态分布\n",
    "sample1 = stats.norm.rvs(size=105, random_state=0)\n",
    "sample2 = stats.norm.rvs(size=95, loc=0.5, random_state=0)\n",
    "\n",
    "standardScalar2 = preprocessing.StandardScaler()\n",
    "# 对sample2进行均值方差缩放\n",
    "sample2_ = standardScalar2.fit_transform(sample2.reshape(-1, 1)).reshape(-1, )\n",
    "\n",
    "# p值低于阈值0.05,拒绝原假设\n",
    "print(stats.ks_2samp(sample1, sample2))\n",
    "\n",
    "# p值不低于阈值0.05,接受原假设\n",
    "print(stats.ks_2samp(sample1, sample2_))\n",
    "\n",
    "\n"
   ],
   "metadata": {
    "collapsed": false,
    "pycharm": {
     "name": "#%%\n"
    }
   }
  }
 ],
 "metadata": {
  "kernelspec": {
   "display_name": "Python 3",
   "language": "python",
   "name": "python3"
  },
  "language_info": {
   "codemirror_mode": {
    "name": "ipython",
    "version": 2
   },
   "file_extension": ".py",
   "mimetype": "text/x-python",
   "name": "python",
   "nbconvert_exporter": "python",
   "pygments_lexer": "ipython2",
   "version": "2.7.6"
  }
 },
 "nbformat": 4,
 "nbformat_minor": 0
}