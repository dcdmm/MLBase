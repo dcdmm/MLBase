{
 "cells": [
  {
   "cell_type": "code",
   "execution_count": 19,
   "metadata": {
    "collapsed": true
   },
   "outputs": [
    {
     "data": {
      "text/plain": "'Hope is a good thing, maybe the best of things. And no good thing ever dies .\\nNo one but ourselves can degrade us .\\nI will honour myself by showing up powerfully in my life today .\\nDont look forward to tomorrow, dont miss yesterday, to grasp today .\\nNobody really cares if you’re miserable, so you might as well be happy .\\nto be a happy man, reading, travel, hard work, care for the body and mind .'"
     },
     "execution_count": 19,
     "metadata": {},
     "output_type": "execute_result"
    }
   ],
   "source": [
    "example = \"\"\"Hope is a good thing, maybe the best of things. And no good thing ever dies .\n",
    "No one but ourselves can degrade us .\n",
    "I will honour myself by showing up powerfully in my life today .\n",
    "Dont look forward to tomorrow, dont miss yesterday, to grasp today .\n",
    "Nobody really cares if you’re miserable, so you might as well be happy .\n",
    "to be a happy man, reading, travel, hard work, care for the body and mind .\"\"\"\n",
    "example"
   ]
  },
  {
   "cell_type": "code",
   "execution_count": 20,
   "outputs": [
    {
     "data": {
      "text/plain": "['Hope is a good thing, maybe the best of things. And no good thing ever dies .',\n 'No one but ourselves can degrade us .',\n 'I will honour myself by showing up powerfully in my life today .',\n 'Dont look forward to tomorrow, dont miss yesterday, to grasp today .',\n 'Nobody really cares if you’re miserable, so you might as well be happy .',\n 'to be a happy man, reading, travel, hard work, care for the body and mind .']"
     },
     "execution_count": 20,
     "metadata": {},
     "output_type": "execute_result"
    }
   ],
   "source": [
    "# Return a list of the lines in the string, breaking at line boundaries.\n",
    "example_line = example.splitlines()\n",
    "example_line  # 列表元素为句子"
   ],
   "metadata": {
    "collapsed": false,
    "pycharm": {
     "name": "#%%\n"
    }
   }
  }
 ],
 "metadata": {
  "kernelspec": {
   "display_name": "Python 3",
   "language": "python",
   "name": "python3"
  },
  "language_info": {
   "codemirror_mode": {
    "name": "ipython",
    "version": 2
   },
   "file_extension": ".py",
   "mimetype": "text/x-python",
   "name": "python",
   "nbconvert_exporter": "python",
   "pygments_lexer": "ipython2",
   "version": "2.7.6"
  }
 },
 "nbformat": 4,
 "nbformat_minor": 0
}