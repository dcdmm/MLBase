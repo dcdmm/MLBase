{
 "cells": [
  {
   "cell_type": "code",
   "execution_count": 1,
   "outputs": [
    {
     "name": "stdout",
     "text": [
      "<zip object at 0x00000242D2A99BC8>\n",
      "(1, 'duanchao', 'd')\n",
      "(3, 'love', 'c')\n"
     ],
     "output_type": "stream"
    }
   ],
   "source": [
    "\"\"\"\n",
    "zip(iter1 [,iter2 [...]]) --> zip object\n",
    "\n",
    "Return a zip object whose .__next__() method returns a tuple where\n",
    "the i-th element comes from the i-th iterable argument.  The .__next__()\n",
    "method continues until the shortest iterable in the argument sequence\n",
    "is exhausted and then it raises StopIteration.\n",
    "\"\"\"\n",
    "list_number = [1, 3, 5, 7, 9]\n",
    "list_member = [\"duanchao\", \"love\", \"duanmengmeng\", \"everyday\"]\n",
    "short_name = 'dc'\n",
    "zip_all = zip(list_number, list_member, short_name) # 长度等于min(len(iter1, iter2, iter3...))\n",
    "print(zip_all) # 返回值为zip object(迭代器)\n",
    "\n",
    "for each in zip_all:\n",
    "    print(each)"
   ],
   "metadata": {
    "collapsed": false,
    "pycharm": {
     "name": "#%%\n",
     "is_executing": false
    }
   }
  },
  {
   "cell_type": "code",
   "execution_count": 3,
   "outputs": [
    {
     "name": "stdout",
     "text": [
      "f f f\n",
      "l l l\n",
      "o o i\n",
      "w w g\n"
     ],
     "output_type": "stream"
    }
   ],
   "source": [
    "nums = ['flower', 'flow', 'flight']\n",
    "for i, j, k in zip(*nums): # 解包\n",
    "    print(i, j, k)"
   ],
   "metadata": {
    "pycharm": {
     "metadata": false,
     "name": "#%%\n",
     "is_executing": false
    }
   }
  },
  {
   "cell_type": "code",
   "execution_count": null,
   "outputs": [],
   "source": [
    "\n"
   ],
   "metadata": {
    "collapsed": false,
    "pycharm": {
     "name": "#%%\n"
    }
   }
  }
 ],
 "metadata": {
  "language_info": {
   "codemirror_mode": {
    "name": "ipython",
    "version": 2
   },
   "file_extension": ".py",
   "mimetype": "text/x-python",
   "name": "python",
   "nbconvert_exporter": "python",
   "pygments_lexer": "ipython2",
   "version": "2.7.6"
  },
  "kernelspec": {
   "name": "python3",
   "language": "python",
   "display_name": "Python 3"
  },
  "pycharm": {
   "stem_cell": {
    "cell_type": "raw",
    "source": [],
    "metadata": {
     "collapsed": false
    }
   }
  }
 },
 "nbformat": 4,
 "nbformat_minor": 0
}