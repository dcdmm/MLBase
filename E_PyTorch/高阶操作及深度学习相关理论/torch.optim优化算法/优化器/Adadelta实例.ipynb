{
 "cells": [
  {
   "cell_type": "code",
   "execution_count": 1,
   "outputs": [],
   "source": [
    "import torch.nn as nn\n",
    "import torch.optim as optim\n",
    "import numpy as np\n",
    "import torch.utils.data as Data\n",
    "import torch"
   ],
   "metadata": {
    "collapsed": false,
    "pycharm": {
     "name": "#%%\n"
    }
   }
  },
  {
   "cell_type": "code",
   "execution_count": 2,
   "outputs": [],
   "source": [
    "# 手写数字训练数据集\n",
    "mnist = np.load(\"../../../../Other/datasets/NumPy/mnist.npz\")\n",
    "X_train, y_train, X_test, y_test = torch.unsqueeze(torch.tensor(mnist['x_train']), 1).to(dtype=torch.float32), \\\n",
    "                                   torch.tensor(mnist['y_train']).to(dtype=torch.long), \\\n",
    "                                   torch.unsqueeze(torch.tensor(mnist['x_test']), 1).to(dtype=torch.float32), \\\n",
    "                                   torch.tensor(mnist['y_test']).to(dtype=torch.long)"
   ],
   "metadata": {
    "collapsed": false,
    "pycharm": {
     "name": "#%%\n"
    }
   }
  },
  {
   "cell_type": "code",
   "execution_count": 3,
   "outputs": [],
   "source": [
    "batch_size = 200\n",
    "train_data = Data.TensorDataset(X_train, y_train)\n",
    "train_loader = Data.DataLoader(dataset=train_data,\n",
    "                               batch_size=batch_size,\n",
    "                               shuffle=True)\n",
    "train_X = Data.DataLoader(X_train, batch_size=batch_size)\n",
    "test_X = Data.DataLoader(X_test, batch_size=batch_size)"
   ],
   "metadata": {
    "collapsed": false,
    "pycharm": {
     "name": "#%%\n"
    }
   }
  },
  {
   "cell_type": "code",
   "execution_count": 4,
   "outputs": [],
   "source": [
    "class LeNet(nn.Module):\n",
    "    def __init__(self):\n",
    "        super(LeNet, self).__init__()\n",
    "        self.featrues = nn.Sequential(  # 内部实现了forward函数;各模块顺序执行\n",
    "            nn.Conv2d(1, 6, 3),\n",
    "            nn.ReLU(),\n",
    "            nn.MaxPool2d(2, 2),\n",
    "            nn.Conv2d(6, 16, 3),\n",
    "            nn.ReLU(),\n",
    "            nn.MaxPool2d(2, 2)\n",
    "        )\n",
    "        self.classifier = nn.Sequential(\n",
    "            nn.Linear(400, 120),\n",
    "            nn.ReLU(),\n",
    "            nn.Linear(120, 84),\n",
    "            nn.ReLU(),\n",
    "            nn.Linear(84, 10),  # 10分类问题\n",
    "        )\n",
    "\n",
    "    def forward(self, x):\n",
    "        x = self.featrues(x)\n",
    "        x = x.reshape(x.size()[0], -1)\n",
    "        x = self.classifier(x)\n",
    "        return x"
   ],
   "metadata": {
    "collapsed": false,
    "pycharm": {
     "name": "#%%\n"
    }
   }
  },
  {
   "cell_type": "code",
   "execution_count": 5,
   "outputs": [],
   "source": [
    "device = torch.device(\"cuda\" if torch.cuda.is_available() else \"cpu\")\n",
    "criteon = nn.CrossEntropyLoss()  # 定义损失函数为交叉熵\n",
    "net = LeNet()\n",
    "lenet = net.to(device)  # 模型设备转移必须在优化器定义前执行\n",
    "\n",
    "# Adadelta优化器\n",
    "optimizer = optim.Adadelta(net.parameters(),\n",
    "                           rho=0.9,  # 衰减速率\\rho\n",
    "                           lr=0.99,  # 缩放系数\\epsilon(default: 1.0)\n",
    "                           eps=1e-6)  # 分母中的小常数\\delta"
   ],
   "metadata": {
    "collapsed": false,
    "pycharm": {
     "name": "#%%\n"
    }
   }
  },
  {
   "cell_type": "code",
   "execution_count": 6,
   "outputs": [],
   "source": [
    "from torch_model.train_evaluate import Train_Evaluate\n",
    "\n",
    "t_and_v = Train_Evaluate(model=lenet, optimizer=optimizer, criterion=criteon, epochs=5)"
   ],
   "metadata": {
    "collapsed": false,
    "pycharm": {
     "name": "#%%\n"
    }
   }
  },
  {
   "cell_type": "code",
   "execution_count": 7,
   "outputs": [
    {
     "name": "stderr",
     "output_type": "stream",
     "text": [
      "C:\\Users\\duanm\\anaconda3\\lib\\site-packages\\torch\\nn\\functional.py:718: UserWarning: Named tensors and all their associated APIs are an experimental feature and subject to change. Please do not use them for anything important until they are released as stable. (Triggered internally at  ..\\c10/core/TensorImpl.h:1156.)\n",
      "  return torch.max_pool2d(input, kernel_size, stride, padding, dilation, ceil_mode)\n"
     ]
    },
    {
     "name": "stdout",
     "output_type": "stream",
     "text": [
      "Train Epoch: 0  [0    /60000 (0  %)]\tLoss: 7.314823\n",
      "Train Epoch: 0  [2000 /60000 (3  %)]\tLoss: 0.948915\n",
      "Train Epoch: 0  [4000 /60000 (7  %)]\tLoss: 0.514523\n",
      "Train Epoch: 0  [6000 /60000 (10 %)]\tLoss: 0.320176\n",
      "Train Epoch: 0  [8000 /60000 (13 %)]\tLoss: 0.237400\n",
      "Train Epoch: 0  [10000/60000 (17 %)]\tLoss: 0.251531\n",
      "Train Epoch: 0  [12000/60000 (20 %)]\tLoss: 0.310163\n",
      "Train Epoch: 0  [14000/60000 (23 %)]\tLoss: 0.492019\n",
      "Train Epoch: 0  [16000/60000 (27 %)]\tLoss: 0.245916\n",
      "Train Epoch: 0  [18000/60000 (30 %)]\tLoss: 0.162217\n",
      "Train Epoch: 0  [20000/60000 (33 %)]\tLoss: 0.119072\n",
      "Train Epoch: 0  [22000/60000 (37 %)]\tLoss: 0.182829\n",
      "Train Epoch: 0  [24000/60000 (40 %)]\tLoss: 0.085370\n",
      "Train Epoch: 0  [26000/60000 (43 %)]\tLoss: 0.118855\n",
      "Train Epoch: 0  [28000/60000 (47 %)]\tLoss: 0.368015\n",
      "Train Epoch: 0  [30000/60000 (50 %)]\tLoss: 0.081055\n",
      "Train Epoch: 0  [32000/60000 (53 %)]\tLoss: 0.122509\n",
      "Train Epoch: 0  [34000/60000 (57 %)]\tLoss: 0.159247\n",
      "Train Epoch: 0  [36000/60000 (60 %)]\tLoss: 0.086930\n",
      "Train Epoch: 0  [38000/60000 (63 %)]\tLoss: 0.118319\n",
      "Train Epoch: 0  [40000/60000 (67 %)]\tLoss: 0.144963\n",
      "Train Epoch: 0  [42000/60000 (70 %)]\tLoss: 0.056424\n",
      "Train Epoch: 0  [44000/60000 (73 %)]\tLoss: 0.050149\n",
      "Train Epoch: 0  [46000/60000 (77 %)]\tLoss: 0.116936\n",
      "Train Epoch: 0  [48000/60000 (80 %)]\tLoss: 0.092119\n",
      "Train Epoch: 0  [50000/60000 (83 %)]\tLoss: 0.177158\n",
      "Train Epoch: 0  [52000/60000 (87 %)]\tLoss: 0.071934\n",
      "Train Epoch: 0  [54000/60000 (90 %)]\tLoss: 0.054093\n",
      "Train Epoch: 0  [56000/60000 (93 %)]\tLoss: 0.046986\n",
      "Train Epoch: 0  [58000/60000 (97 %)]\tLoss: 0.049975\n",
      "Train Epoch: 0  [60000/60000 (100%)]\tLoss: 0.144909\n",
      "----------------------------------------------------------------------------------------------------\n",
      "Train Epoch: 1  [0    /60000 (0  %)]\tLoss: 0.200893\n",
      "Train Epoch: 1  [2000 /60000 (3  %)]\tLoss: 0.036813\n",
      "Train Epoch: 1  [4000 /60000 (7  %)]\tLoss: 0.105688\n",
      "Train Epoch: 1  [6000 /60000 (10 %)]\tLoss: 0.038499\n",
      "Train Epoch: 1  [8000 /60000 (13 %)]\tLoss: 0.032388\n",
      "Train Epoch: 1  [10000/60000 (17 %)]\tLoss: 0.086259\n",
      "Train Epoch: 1  [12000/60000 (20 %)]\tLoss: 0.076409\n",
      "Train Epoch: 1  [14000/60000 (23 %)]\tLoss: 0.083264\n",
      "Train Epoch: 1  [16000/60000 (27 %)]\tLoss: 0.047919\n",
      "Train Epoch: 1  [18000/60000 (30 %)]\tLoss: 0.101722\n",
      "Train Epoch: 1  [20000/60000 (33 %)]\tLoss: 0.068106\n",
      "Train Epoch: 1  [22000/60000 (37 %)]\tLoss: 0.114397\n",
      "Train Epoch: 1  [24000/60000 (40 %)]\tLoss: 0.074500\n",
      "Train Epoch: 1  [26000/60000 (43 %)]\tLoss: 0.068122\n",
      "Train Epoch: 1  [28000/60000 (47 %)]\tLoss: 0.104926\n",
      "Train Epoch: 1  [30000/60000 (50 %)]\tLoss: 0.042796\n",
      "Train Epoch: 1  [32000/60000 (53 %)]\tLoss: 0.104965\n",
      "Train Epoch: 1  [34000/60000 (57 %)]\tLoss: 0.030478\n",
      "Train Epoch: 1  [36000/60000 (60 %)]\tLoss: 0.128291\n",
      "Train Epoch: 1  [38000/60000 (63 %)]\tLoss: 0.050375\n",
      "Train Epoch: 1  [40000/60000 (67 %)]\tLoss: 0.041798\n",
      "Train Epoch: 1  [42000/60000 (70 %)]\tLoss: 0.086321\n",
      "Train Epoch: 1  [44000/60000 (73 %)]\tLoss: 0.075659\n",
      "Train Epoch: 1  [46000/60000 (77 %)]\tLoss: 0.063586\n",
      "Train Epoch: 1  [48000/60000 (80 %)]\tLoss: 0.057850\n",
      "Train Epoch: 1  [50000/60000 (83 %)]\tLoss: 0.076165\n",
      "Train Epoch: 1  [52000/60000 (87 %)]\tLoss: 0.067636\n",
      "Train Epoch: 1  [54000/60000 (90 %)]\tLoss: 0.060197\n",
      "Train Epoch: 1  [56000/60000 (93 %)]\tLoss: 0.044692\n",
      "Train Epoch: 1  [58000/60000 (97 %)]\tLoss: 0.037997\n",
      "Train Epoch: 1  [60000/60000 (100%)]\tLoss: 0.126901\n",
      "----------------------------------------------------------------------------------------------------\n",
      "Train Epoch: 2  [0    /60000 (0  %)]\tLoss: 0.048259\n",
      "Train Epoch: 2  [2000 /60000 (3  %)]\tLoss: 0.015830\n",
      "Train Epoch: 2  [4000 /60000 (7  %)]\tLoss: 0.011501\n",
      "Train Epoch: 2  [6000 /60000 (10 %)]\tLoss: 0.038983\n",
      "Train Epoch: 2  [8000 /60000 (13 %)]\tLoss: 0.024177\n",
      "Train Epoch: 2  [10000/60000 (17 %)]\tLoss: 0.017407\n",
      "Train Epoch: 2  [12000/60000 (20 %)]\tLoss: 0.056491\n",
      "Train Epoch: 2  [14000/60000 (23 %)]\tLoss: 0.097762\n",
      "Train Epoch: 2  [16000/60000 (27 %)]\tLoss: 0.043134\n",
      "Train Epoch: 2  [18000/60000 (30 %)]\tLoss: 0.066448\n",
      "Train Epoch: 2  [20000/60000 (33 %)]\tLoss: 0.018229\n",
      "Train Epoch: 2  [22000/60000 (37 %)]\tLoss: 0.034333\n",
      "Train Epoch: 2  [24000/60000 (40 %)]\tLoss: 0.027195\n",
      "Train Epoch: 2  [26000/60000 (43 %)]\tLoss: 0.018133\n",
      "Train Epoch: 2  [28000/60000 (47 %)]\tLoss: 0.037499\n",
      "Train Epoch: 2  [30000/60000 (50 %)]\tLoss: 0.008551\n",
      "Train Epoch: 2  [32000/60000 (53 %)]\tLoss: 0.020349\n",
      "Train Epoch: 2  [34000/60000 (57 %)]\tLoss: 0.036334\n",
      "Train Epoch: 2  [36000/60000 (60 %)]\tLoss: 0.054517\n",
      "Train Epoch: 2  [38000/60000 (63 %)]\tLoss: 0.043545\n",
      "Train Epoch: 2  [40000/60000 (67 %)]\tLoss: 0.083766\n",
      "Train Epoch: 2  [42000/60000 (70 %)]\tLoss: 0.040853\n",
      "Train Epoch: 2  [44000/60000 (73 %)]\tLoss: 0.042713\n",
      "Train Epoch: 2  [46000/60000 (77 %)]\tLoss: 0.006082\n",
      "Train Epoch: 2  [48000/60000 (80 %)]\tLoss: 0.026220\n",
      "Train Epoch: 2  [50000/60000 (83 %)]\tLoss: 0.056805\n",
      "Train Epoch: 2  [52000/60000 (87 %)]\tLoss: 0.021345\n",
      "Train Epoch: 2  [54000/60000 (90 %)]\tLoss: 0.105483\n",
      "Train Epoch: 2  [56000/60000 (93 %)]\tLoss: 0.049873\n",
      "Train Epoch: 2  [58000/60000 (97 %)]\tLoss: 0.068340\n",
      "Train Epoch: 2  [60000/60000 (100%)]\tLoss: 0.054879\n",
      "----------------------------------------------------------------------------------------------------\n",
      "Train Epoch: 3  [0    /60000 (0  %)]\tLoss: 0.026410\n",
      "Train Epoch: 3  [2000 /60000 (3  %)]\tLoss: 0.036740\n",
      "Train Epoch: 3  [4000 /60000 (7  %)]\tLoss: 0.069739\n",
      "Train Epoch: 3  [6000 /60000 (10 %)]\tLoss: 0.033130\n",
      "Train Epoch: 3  [8000 /60000 (13 %)]\tLoss: 0.015717\n",
      "Train Epoch: 3  [10000/60000 (17 %)]\tLoss: 0.028857\n",
      "Train Epoch: 3  [12000/60000 (20 %)]\tLoss: 0.046850\n",
      "Train Epoch: 3  [14000/60000 (23 %)]\tLoss: 0.005254\n",
      "Train Epoch: 3  [16000/60000 (27 %)]\tLoss: 0.075231\n",
      "Train Epoch: 3  [18000/60000 (30 %)]\tLoss: 0.029734\n",
      "Train Epoch: 3  [20000/60000 (33 %)]\tLoss: 0.022556\n",
      "Train Epoch: 3  [22000/60000 (37 %)]\tLoss: 0.007998\n",
      "Train Epoch: 3  [24000/60000 (40 %)]\tLoss: 0.044683\n",
      "Train Epoch: 3  [26000/60000 (43 %)]\tLoss: 0.032451\n",
      "Train Epoch: 3  [28000/60000 (47 %)]\tLoss: 0.024548\n",
      "Train Epoch: 3  [30000/60000 (50 %)]\tLoss: 0.010239\n",
      "Train Epoch: 3  [32000/60000 (53 %)]\tLoss: 0.039599\n",
      "Train Epoch: 3  [34000/60000 (57 %)]\tLoss: 0.048705\n",
      "Train Epoch: 3  [36000/60000 (60 %)]\tLoss: 0.088346\n",
      "Train Epoch: 3  [38000/60000 (63 %)]\tLoss: 0.006178\n",
      "Train Epoch: 3  [40000/60000 (67 %)]\tLoss: 0.003666\n",
      "Train Epoch: 3  [42000/60000 (70 %)]\tLoss: 0.011456\n",
      "Train Epoch: 3  [44000/60000 (73 %)]\tLoss: 0.024223\n",
      "Train Epoch: 3  [46000/60000 (77 %)]\tLoss: 0.013675\n",
      "Train Epoch: 3  [48000/60000 (80 %)]\tLoss: 0.052397\n",
      "Train Epoch: 3  [50000/60000 (83 %)]\tLoss: 0.041974\n",
      "Train Epoch: 3  [52000/60000 (87 %)]\tLoss: 0.024204\n",
      "Train Epoch: 3  [54000/60000 (90 %)]\tLoss: 0.006662\n",
      "Train Epoch: 3  [56000/60000 (93 %)]\tLoss: 0.055783\n",
      "Train Epoch: 3  [58000/60000 (97 %)]\tLoss: 0.017328\n",
      "Train Epoch: 3  [60000/60000 (100%)]\tLoss: 0.015245\n",
      "----------------------------------------------------------------------------------------------------\n",
      "Train Epoch: 4  [0    /60000 (0  %)]\tLoss: 0.031657\n",
      "Train Epoch: 4  [2000 /60000 (3  %)]\tLoss: 0.042666\n",
      "Train Epoch: 4  [4000 /60000 (7  %)]\tLoss: 0.027330\n",
      "Train Epoch: 4  [6000 /60000 (10 %)]\tLoss: 0.023619\n",
      "Train Epoch: 4  [8000 /60000 (13 %)]\tLoss: 0.008903\n",
      "Train Epoch: 4  [10000/60000 (17 %)]\tLoss: 0.006287\n",
      "Train Epoch: 4  [12000/60000 (20 %)]\tLoss: 0.008542\n",
      "Train Epoch: 4  [14000/60000 (23 %)]\tLoss: 0.021295\n",
      "Train Epoch: 4  [16000/60000 (27 %)]\tLoss: 0.027288\n",
      "Train Epoch: 4  [18000/60000 (30 %)]\tLoss: 0.031234\n",
      "Train Epoch: 4  [20000/60000 (33 %)]\tLoss: 0.019377\n",
      "Train Epoch: 4  [22000/60000 (37 %)]\tLoss: 0.024523\n",
      "Train Epoch: 4  [24000/60000 (40 %)]\tLoss: 0.037316\n",
      "Train Epoch: 4  [26000/60000 (43 %)]\tLoss: 0.004520\n",
      "Train Epoch: 4  [28000/60000 (47 %)]\tLoss: 0.002504\n",
      "Train Epoch: 4  [30000/60000 (50 %)]\tLoss: 0.005890\n",
      "Train Epoch: 4  [32000/60000 (53 %)]\tLoss: 0.014270\n",
      "Train Epoch: 4  [34000/60000 (57 %)]\tLoss: 0.002652\n",
      "Train Epoch: 4  [36000/60000 (60 %)]\tLoss: 0.035264\n",
      "Train Epoch: 4  [38000/60000 (63 %)]\tLoss: 0.023212\n",
      "Train Epoch: 4  [40000/60000 (67 %)]\tLoss: 0.007683\n",
      "Train Epoch: 4  [42000/60000 (70 %)]\tLoss: 0.138865\n",
      "Train Epoch: 4  [44000/60000 (73 %)]\tLoss: 0.025996\n",
      "Train Epoch: 4  [46000/60000 (77 %)]\tLoss: 0.004614\n",
      "Train Epoch: 4  [48000/60000 (80 %)]\tLoss: 0.009552\n",
      "Train Epoch: 4  [50000/60000 (83 %)]\tLoss: 0.041437\n",
      "Train Epoch: 4  [52000/60000 (87 %)]\tLoss: 0.021004\n",
      "Train Epoch: 4  [54000/60000 (90 %)]\tLoss: 0.021803\n",
      "Train Epoch: 4  [56000/60000 (93 %)]\tLoss: 0.007218\n",
      "Train Epoch: 4  [58000/60000 (97 %)]\tLoss: 0.010057\n",
      "Train Epoch: 4  [60000/60000 (100%)]\tLoss: 0.007650\n",
      "----------------------------------------------------------------------------------------------------\n"
     ]
    },
    {
     "data": {
      "text/plain": "[[0.1435132771730423, 0.15286490321159363],\n [0.03795584291219711, 0.05329489707946777],\n [0.030535712838172913, 0.049890946596860886],\n [0.025720100849866867, 0.05764111876487732],\n [0.013035698793828487, 0.04500383138656616]]"
     },
     "execution_count": 7,
     "metadata": {},
     "output_type": "execute_result"
    }
   ],
   "source": [
    "metric_reslut = t_and_v.train_eval(train_loader=train_loader, valid_sets=[(train_X, y_train), (test_X, y_test)])\n",
    "metric_reslut  # 每一轮验证数据集的损失值"
   ],
   "metadata": {
    "collapsed": false,
    "pycharm": {
     "name": "#%%\n"
    }
   }
  },
  {
   "cell_type": "code",
   "execution_count": 7,
   "outputs": [],
   "source": [],
   "metadata": {
    "collapsed": false,
    "pycharm": {
     "name": "#%%\n"
    }
   }
  }
 ],
 "metadata": {
  "kernelspec": {
   "display_name": "Python 3",
   "language": "python",
   "name": "python3"
  },
  "language_info": {
   "codemirror_mode": {
    "name": "ipython",
    "version": 2
   },
   "file_extension": ".py",
   "mimetype": "text/x-python",
   "name": "python",
   "nbconvert_exporter": "python",
   "pygments_lexer": "ipython2",
   "version": "2.7.6"
  }
 },
 "nbformat": 4,
 "nbformat_minor": 0
}