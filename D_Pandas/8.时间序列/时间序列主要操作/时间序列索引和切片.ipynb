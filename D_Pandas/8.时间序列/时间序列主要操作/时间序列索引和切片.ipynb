{
 "cells": [
  {
   "cell_type": "code",
   "execution_count": null,
   "outputs": [],
   "source": [
    "import pandas as pd\n",
    "import  numpy as np\n",
    "from datetime import  datetime"
   ],
   "metadata": {
    "collapsed": false,
    "pycharm": {
     "name": "#%%\n"
    }
   }
  },
  {
   "cell_type": "code",
   "execution_count": 3,
   "metadata": {
    "pycharm": {
     "is_executing": false
    }
   },
   "outputs": [
    {
     "data": {
      "text/plain": "2011-01-02    2.082711\n2011-01-05    0.273055\n2011-01-07    0.493807\n2011-01-08   -1.680267\n2011-01-10    0.624699\n2011-01-12    0.015528\ndtype: float64"
     },
     "metadata": {},
     "output_type": "execute_result",
     "execution_count": 3
    }
   ],
   "source": [
    "dates = [datetime(2011, 1, 2), datetime(2011, 1, 5),\n",
    "         datetime(2011, 1, 7), datetime(2011, 1, 8),\n",
    "         datetime(2011, 1, 10), datetime(2011, 1, 12)]\n",
    "ts = pd.Series(np.random.randn(6), index=dates)\n",
    "ts"
   ]
  },
  {
   "cell_type": "code",
   "execution_count": 4,
   "metadata": {
    "pycharm": {
     "is_executing": false
    }
   },
   "outputs": [
    {
     "data": {
      "text/plain": "DatetimeIndex(['2011-01-02', '2011-01-05', '2011-01-07', '2011-01-08',\n               '2011-01-10', '2011-01-12'],\n              dtype='datetime64[ns]', freq=None)"
     },
     "metadata": {},
     "output_type": "execute_result",
     "execution_count": 4
    }
   ],
   "source": "ts.index"
  },
  {
   "cell_type": "code",
   "execution_count": 10,
   "metadata": {
    "pycharm": {
     "is_executing": false
    }
   },
   "outputs": [
    {
     "data": {
      "text/plain": "2011-01-02   -3.407680\n2011-01-05         NaN\n2011-01-07   -0.255478\n2011-01-08         NaN\n2011-01-10   -5.661454\n2011-01-12         NaN\ndtype: float64"
     },
     "metadata": {},
     "output_type": "execute_result",
     "execution_count": 10
    }
   ],
   "source": "# 和其他Series类似,不同索引的时间序列之间的算术运算在日期上自动对齐\nts + ts[::2]"
  },
  {
   "cell_type": "code",
   "execution_count": 5,
   "metadata": {
    "pycharm": {
     "is_executing": false
    }
   },
   "outputs": [
    {
     "data": {
      "text/plain": "Timestamp('2011-01-07 00:00:00')"
     },
     "metadata": {},
     "output_type": "execute_result",
     "execution_count": 5
    }
   ],
   "source": "# DatetimeIndex中的标量值是pandas的Timestamp对象\nstamp = ts.index[2]\nstamp"
  },
  {
   "cell_type": "code",
   "execution_count": 6,
   "outputs": [
    {
     "data": {
      "text/plain": "0.49380699757679286"
     },
     "metadata": {},
     "output_type": "execute_result",
     "execution_count": 6
    }
   ],
   "source": "ts[stamp]",
   "metadata": {
    "pycharm": {
     "metadata": false,
     "name": "#%%\n",
     "is_executing": false
    }
   }
  },
  {
   "cell_type": "code",
   "execution_count": 8,
   "outputs": [
    {
     "name": "stdout",
     "text": [
      "0.49380699757679286 0.49380699757679286\n"
     ],
     "output_type": "stream"
    }
   ],
   "source": "# 还可以传递一个能解释为日期的字符串进行索引\nprint(ts['01/07/2011'], ts['20110107'])",
   "metadata": {
    "pycharm": {
     "metadata": false,
     "name": "#%%\n",
     "is_executing": false
    }
   }
  },
  {
   "cell_type": "code",
   "execution_count": 9,
   "outputs": [
    {
     "data": {
      "text/plain": "2000-01-01   -0.839465\n2000-01-02    0.357816\n2000-01-03    0.042420\n2000-01-04    1.019101\n2000-01-05   -0.329475\n2000-01-06   -0.725928\n2000-01-07   -0.750796\n2000-01-08   -0.529530\n2000-01-09   -0.075686\n2000-01-10    0.697471\n2000-01-11   -1.067540\n2000-01-12   -0.819926\nFreq: D, dtype: float64"
     },
     "metadata": {},
     "output_type": "execute_result",
     "execution_count": 9
    }
   ],
   "source": "longer_ts = pd.Series(np.random.randn(1000),\n                      index=pd.date_range('1/1/2000', periods=1000))\nlonger_ts.head(12)",
   "metadata": {
    "pycharm": {
     "metadata": false,
     "name": "#%%\n",
     "is_executing": false
    }
   }
  },
  {
   "cell_type": "code",
   "execution_count": 10,
   "outputs": [
    {
     "data": {
      "text/plain": "2001-01-01   -0.166166\n2001-01-02   -0.453440\n2001-01-03    0.950412\n2001-01-04   -1.953119\n2001-01-05    1.721664\nFreq: D, dtype: float64"
     },
     "metadata": {},
     "output_type": "execute_result",
     "execution_count": 10
    }
   ],
   "source": "longer_ts['2001'].head() # 所有2001的数据",
   "metadata": {
    "pycharm": {
     "metadata": false,
     "name": "#%%\n",
     "is_executing": false
    }
   }
  },
  {
   "cell_type": "code",
   "execution_count": 11,
   "outputs": [
    {
     "data": {
      "text/plain": "2001-05-01   -2.021868\n2001-05-02    0.895825\n2001-05-03   -0.881286\n2001-05-04    2.249709\n2001-05-05   -2.388420\n2001-05-06    1.483000\n2001-05-07   -0.852537\n2001-05-08   -0.079236\n2001-05-09   -0.677477\n2001-05-10   -1.067425\n2001-05-11   -2.380751\n2001-05-12   -0.177281\n2001-05-13    0.550030\n2001-05-14    0.576940\n2001-05-15    1.152904\n2001-05-16   -0.589660\n2001-05-17   -0.689781\n2001-05-18   -0.616909\n2001-05-19    0.676030\n2001-05-20    0.720253\n2001-05-21   -1.328232\n2001-05-22    0.623310\n2001-05-23    0.858503\n2001-05-24    0.899456\n2001-05-25    0.846156\n2001-05-26    0.819891\n2001-05-27   -0.338424\n2001-05-28   -0.482948\n2001-05-29   -1.137443\n2001-05-30    1.014508\n2001-05-31    0.956493\nFreq: D, dtype: float64"
     },
     "metadata": {},
     "output_type": "execute_result",
     "execution_count": 11
    }
   ],
   "source": "longer_ts['2001-05'] # 所有2001年5月的数据",
   "metadata": {
    "pycharm": {
     "metadata": false,
     "name": "#%% \n",
     "is_executing": false
    }
   }
  },
  {
   "cell_type": "code",
   "execution_count": 12,
   "outputs": [
    {
     "data": {
      "text/plain": "2011-01-07    0.493807\n2011-01-08   -1.680267\n2011-01-10    0.624699\n2011-01-12    0.015528\ndtype: float64"
     },
     "metadata": {},
     "output_type": "execute_result",
     "execution_count": 12
    }
   ],
   "source": "ts[datetime(2011, 1, 7):] # 切片操作",
   "metadata": {
    "pycharm": {
     "metadata": false,
     "name": "#%%\n",
     "is_executing": false
    }
   }
  },
  {
   "cell_type": "code",
   "execution_count": 13,
   "outputs": [],
   "source": "dates = pd.date_range('1/1/2000', periods=100, freq='W-WED')\nlong_df = pd.DataFrame(np.random.randn(100, 4),\n                       index=dates,\n                       columns=['Colorado', 'Texas',\n                                'New York', 'Ohio'])",
   "metadata": {
    "pycharm": {
     "metadata": false,
     "name": "#%%\n",
     "is_executing": false
    }
   }
  },
  {
   "cell_type": "code",
   "execution_count": 16,
   "outputs": [
    {
     "data": {
      "text/plain": "DatetimeIndex(['2000-01-05', '2000-01-12', '2000-01-19', '2000-01-26',\n               '2000-02-02', '2000-02-09', '2000-02-16', '2000-02-23',\n               '2000-03-01', '2000-03-08', '2000-03-15', '2000-03-22',\n               '2000-03-29', '2000-04-05', '2000-04-12', '2000-04-19',\n               '2000-04-26', '2000-05-03', '2000-05-10', '2000-05-17',\n               '2000-05-24', '2000-05-31', '2000-06-07', '2000-06-14',\n               '2000-06-21', '2000-06-28', '2000-07-05', '2000-07-12',\n               '2000-07-19', '2000-07-26', '2000-08-02', '2000-08-09',\n               '2000-08-16', '2000-08-23', '2000-08-30', '2000-09-06',\n               '2000-09-13', '2000-09-20', '2000-09-27', '2000-10-04',\n               '2000-10-11', '2000-10-18', '2000-10-25', '2000-11-01',\n               '2000-11-08', '2000-11-15', '2000-11-22', '2000-11-29',\n               '2000-12-06', '2000-12-13', '2000-12-20', '2000-12-27',\n               '2001-01-03', '2001-01-10', '2001-01-17', '2001-01-24',\n               '2001-01-31', '2001-02-07', '2001-02-14', '2001-02-21',\n               '2001-02-28', '2001-03-07', '2001-03-14', '2001-03-21',\n               '2001-03-28', '2001-04-04', '2001-04-11', '2001-04-18',\n               '2001-04-25', '2001-05-02', '2001-05-09', '2001-05-16',\n               '2001-05-23', '2001-05-30', '2001-06-06', '2001-06-13',\n               '2001-06-20', '2001-06-27', '2001-07-04', '2001-07-11',\n               '2001-07-18', '2001-07-25', '2001-08-01', '2001-08-08',\n               '2001-08-15', '2001-08-22', '2001-08-29', '2001-09-05',\n               '2001-09-12', '2001-09-19', '2001-09-26', '2001-10-03',\n               '2001-10-10', '2001-10-17', '2001-10-24', '2001-10-31',\n               '2001-11-07', '2001-11-14', '2001-11-21', '2001-11-28'],\n              dtype='datetime64[ns]', freq='W-WED')"
     },
     "metadata": {},
     "output_type": "execute_result",
     "execution_count": 16
    }
   ],
   "source": "long_df.index ",
   "metadata": {
    "pycharm": {
     "metadata": false,
     "name": "#%%\n",
     "is_executing": false
    }
   }
  },
  {
   "cell_type": "code",
   "execution_count": null,
   "outputs": [],
   "source": "long_df.head()",
   "metadata": {
    "pycharm": {
     "metadata": false,
     "name": "#%%\n"
    }
   }
  },
  {
   "cell_type": "code",
   "execution_count": 15,
   "outputs": [
    {
     "data": {
      "text/plain": "            Colorado     Texas  New York      Ohio\n2001-05-02  0.839336  0.539688 -0.171863 -0.272912\n2001-05-09  0.845135 -0.156217 -2.654570  1.105390\n2001-05-16  1.343657 -0.663454  1.100950  0.632751\n2001-05-23  0.215444 -0.371557 -0.472664  1.211823\n2001-05-30  1.012540  1.087239  0.724811 -0.385064",
      "text/html": "<div>\n<style scoped>\n    .dataframe tbody tr th:only-of-type {\n        vertical-align: middle;\n    }\n\n    .dataframe tbody tr th {\n        vertical-align: top;\n    }\n\n    .dataframe thead th {\n        text-align: right;\n    }\n</style>\n<table border=\"1\" class=\"dataframe\">\n  <thead>\n    <tr style=\"text-align: right;\">\n      <th></th>\n      <th>Colorado</th>\n      <th>Texas</th>\n      <th>New York</th>\n      <th>Ohio</th>\n    </tr>\n  </thead>\n  <tbody>\n    <tr>\n      <th>2001-05-02</th>\n      <td>0.839336</td>\n      <td>0.539688</td>\n      <td>-0.171863</td>\n      <td>-0.272912</td>\n    </tr>\n    <tr>\n      <th>2001-05-09</th>\n      <td>0.845135</td>\n      <td>-0.156217</td>\n      <td>-2.654570</td>\n      <td>1.105390</td>\n    </tr>\n    <tr>\n      <th>2001-05-16</th>\n      <td>1.343657</td>\n      <td>-0.663454</td>\n      <td>1.100950</td>\n      <td>0.632751</td>\n    </tr>\n    <tr>\n      <th>2001-05-23</th>\n      <td>0.215444</td>\n      <td>-0.371557</td>\n      <td>-0.472664</td>\n      <td>1.211823</td>\n    </tr>\n    <tr>\n      <th>2001-05-30</th>\n      <td>1.012540</td>\n      <td>1.087239</td>\n      <td>0.724811</td>\n      <td>-0.385064</td>\n    </tr>\n  </tbody>\n</table>\n</div>"
     },
     "metadata": {},
     "output_type": "execute_result",
     "execution_count": 15
    }
   ],
   "source": "long_df.loc['5-2001']",
   "metadata": {
    "pycharm": {
     "metadata": false,
     "name": "#%%\n",
     "is_executing": false
    }
   }
  },
  {
   "cell_type": "code",
   "execution_count": null,
   "outputs": [],
   "source": "\n",
   "metadata": {
    "pycharm": {
     "metadata": false,
     "name": "#%%\n"
    }
   }
  }
 ],
 "metadata": {
  "kernelspec": {
   "name": "python3",
   "language": "python",
   "display_name": "Python 3"
  },
  "language_info": {
   "codemirror_mode": {
    "name": "ipython",
    "version": 2
   },
   "file_extension": ".py",
   "mimetype": "text/x-python",
   "name": "python",
   "nbconvert_exporter": "python",
   "pygments_lexer": "ipython2",
   "version": "2.7.6"
  }
 },
 "nbformat": 4,
 "nbformat_minor": 0
}