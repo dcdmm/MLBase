{
 "cells": [
  {
   "cell_type": "code",
   "metadata": {
    "collapsed": true,
    "pycharm": {
     "name": "#%% \n"
    }
   },
   "source": [
    "import tensorflow as tf"
   ],
   "execution_count": 12,
   "outputs": []
  },
  {
   "cell_type": "markdown",
   "source": [
    "### 参考类似numpy/基本操作/数组乘积/数据类型之间的转换"
   ],
   "metadata": {
    "collapsed": false,
    "pycharm": {
     "name": "#%% md\n"
    }
   }
  },
  {
   "cell_type": "code",
   "execution_count": 13,
   "outputs": [
    {
     "data": {
      "text/plain": "TensorShape([1])"
     },
     "execution_count": 13,
     "metadata": {},
     "output_type": "execute_result"
    }
   ],
   "source": [
    "tor_scalar_vetor = tf.reshape(tf.constant(10), (1,))  # 标量转向量(法一)\n",
    "tor_scalar_vetor.shape"
   ],
   "metadata": {
    "collapsed": false,
    "pycharm": {
     "name": "#%%\n"
    }
   }
  },
  {
   "cell_type": "code",
   "execution_count": 14,
   "outputs": [
    {
     "data": {
      "text/plain": "<tf.Tensor: shape=(1,), dtype=int32, numpy=array([10])>"
     },
     "execution_count": 14,
     "metadata": {},
     "output_type": "execute_result"
    }
   ],
   "source": [
    "tor_scalar_vetor1 = tf.expand_dims(tf.constant(10), 0)  # 标量转向量(法二)\n",
    "tor_scalar_vetor1"
   ],
   "metadata": {
    "collapsed": false,
    "pycharm": {
     "name": "#%%\n"
    }
   }
  },
  {
   "cell_type": "code",
   "execution_count": 15,
   "outputs": [
    {
     "data": {
      "text/plain": "TensorShape([1, 1])"
     },
     "execution_count": 15,
     "metadata": {},
     "output_type": "execute_result"
    }
   ],
   "source": [
    "tor_scalar_matrix = tf.reshape(tf.constant(10), (1, 1))  # 标量转矩阵(法一)\n",
    "tor_scalar_matrix.shape"
   ],
   "metadata": {
    "collapsed": false,
    "pycharm": {
     "name": "#%%\n"
    }
   }
  },
  {
   "cell_type": "code",
   "execution_count": 16,
   "outputs": [
    {
     "name": "stdout",
     "output_type": "stream",
     "text": [
      "(1, 1)\n",
      "tf.Tensor([[10]], shape=(1, 1), dtype=int32)\n"
     ]
    }
   ],
   "source": [
    "tor_scalar_matrix1 = tf.expand_dims(tf.expand_dims(tf.constant(10), 0), 0)  # 标量转矩阵(法二)\n",
    "print(tor_scalar_matrix.shape)  # (0维度尺寸=1, 1维度尺寸=1)\n",
    "print(tor_scalar_matrix)"
   ],
   "metadata": {
    "collapsed": false,
    "pycharm": {
     "name": "#%%\n"
    }
   }
  },
  {
   "cell_type": "code",
   "execution_count": 17,
   "outputs": [
    {
     "name": "stdout",
     "output_type": "stream",
     "text": [
      "(1, 3)\n",
      "tf.Tensor([[1 2 3]], shape=(1, 3), dtype=int32)\n"
     ]
    }
   ],
   "source": [
    "tor_vector_matrix = tf.reshape(tf.constant([1, 2, 3]), (1, 3))  # 向量转矩阵(法一)\n",
    "print(tor_vector_matrix.shape)  # (0维度尺寸=1, 1维度尺寸=3)\n",
    "print(tor_vector_matrix)"
   ],
   "metadata": {
    "collapsed": false,
    "pycharm": {
     "name": "#%%\n"
    }
   }
  },
  {
   "cell_type": "code",
   "execution_count": 18,
   "outputs": [
    {
     "name": "stdout",
     "output_type": "stream",
     "text": [
      "(1, 3)\n",
      "tf.Tensor([[1 2 3]], shape=(1, 3), dtype=int32)\n"
     ]
    }
   ],
   "source": [
    "tor_vector_matrix1 = tf.expand_dims(tf.constant([1, 2, 3]), 0)  # 向量转矩阵(法二)\n",
    "print(tor_vector_matrix1.shape)  # (0维度尺寸=1, 1维度尺寸=3)--->数学中的行向量\n",
    "print(tor_vector_matrix1)"
   ],
   "metadata": {
    "collapsed": false,
    "pycharm": {
     "name": "#%%\n"
    }
   }
  },
  {
   "cell_type": "code",
   "execution_count": 19,
   "outputs": [
    {
     "data": {
      "text/plain": "<tf.Tensor: shape=(1, 1, 3, 1, 1), dtype=int32, numpy=\narray([[[[[1]],\n\n         [[2]],\n\n         [[3]]]]])>"
     },
     "execution_count": 19,
     "metadata": {},
     "output_type": "execute_result"
    }
   ],
   "source": [
    "tor_vector_mul_matrix = tf.reshape(tf.constant([1, 2, 3]), (1, 1, 3, 1, 1))  # 高维矩阵\n",
    "tor_vector_mul_matrix"
   ],
   "metadata": {
    "collapsed": false,
    "pycharm": {
     "name": "#%%\n"
    }
   }
  },
  {
   "cell_type": "code",
   "execution_count": 20,
   "outputs": [
    {
     "data": {
      "text/plain": "<tf.Tensor: shape=(1, 1, 3, 1, 1), dtype=int32, numpy=\narray([[[[[1]],\n\n         [[2]],\n\n         [[3]]]]])>"
     },
     "execution_count": 20,
     "metadata": {},
     "output_type": "execute_result"
    }
   ],
   "source": [
    "tor_vector_mul_matrix = tf.expand_dims(\n",
    "    tf.expand_dims(\n",
    "        tf.expand_dims(\n",
    "            tf.expand_dims(\n",
    "                tf.constant([1, 2, 3]), 0), 0), -1), -1)  # 高维矩阵;与上等价\n",
    "tor_vector_mul_matrix"
   ],
   "metadata": {
    "collapsed": false,
    "pycharm": {
     "name": "#%%\n"
    }
   }
  },
  {
   "cell_type": "code",
   "execution_count": 20,
   "outputs": [],
   "source": [
    "\n"
   ],
   "metadata": {
    "collapsed": false,
    "pycharm": {
     "name": "#%%\n"
    }
   }
  }
 ],
 "metadata": {
  "kernelspec": {
   "display_name": "Python 3",
   "language": "python",
   "name": "python3"
  },
  "language_info": {
   "codemirror_mode": {
    "name": "ipython",
    "version": 2
   },
   "file_extension": ".py",
   "mimetype": "text/x-python",
   "name": "python",
   "nbconvert_exporter": "python",
   "pygments_lexer": "ipython2",
   "version": "2.7.6"
  }
 },
 "nbformat": 4,
 "nbformat_minor": 0
}