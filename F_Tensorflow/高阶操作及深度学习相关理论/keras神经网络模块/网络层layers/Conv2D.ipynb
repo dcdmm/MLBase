{
 "cells": [
  {
   "cell_type": "code",
   "execution_count": 298,
   "metadata": {
    "collapsed": true
   },
   "outputs": [],
   "source": [
    "import tensorflow as tf\n",
    "import os\n",
    "\n",
    "os.environ[\"CUDA_VISIBLE_DEVICES\"] = \"-1\"  # 使用cpu训练"
   ]
  },
  {
   "cell_type": "markdown",
   "source": [
    "### 参考torch.nn.Conv2d"
   ],
   "metadata": {
    "collapsed": false,
    "pycharm": {
     "name": "#%% md\n"
    }
   }
  },
  {
   "cell_type": "code",
   "execution_count": 299,
   "outputs": [
    {
     "data": {
      "text/plain": "TensorShape([100, 50, 50, 16])"
     },
     "execution_count": 299,
     "metadata": {},
     "output_type": "execute_result"
    }
   ],
   "source": [
    "input_tensor = tf.random.stateless_normal(shape=(100, 50, 50, 16), seed=(1, 1))\n",
    "input_tensor.shape"
   ],
   "metadata": {
    "collapsed": false,
    "pycharm": {
     "name": "#%%\n"
    }
   }
  },
  {
   "cell_type": "code",
   "execution_count": 300,
   "outputs": [
    {
     "data": {
      "text/plain": "TensorShape([100, 24, 24, 33])"
     },
     "execution_count": 300,
     "metadata": {},
     "output_type": "execute_result"
    }
   ],
   "source": [
    "'''\n",
    "Conv2D默认参数:\n",
    "tf.keras.layers.Conv2D(\n",
    "    filters, kernel_size, strides=(1, 1), padding='valid', data_format=None,\n",
    "    dilation_rate=(1, 1), activation=None, use_bias=True,\n",
    "    kernel_initializer='glorot_uniform', bias_initializer='zeros',\n",
    "    kernel_regularizer=None, bias_regularizer=None, activity_regularizer=None,\n",
    "    kernel_constraint=None, bias_constraint=None, **kwargs\n",
    ")\n",
    "'''\n",
    "# C_in和C_out在最后一个维度(注意和pytorch的区别)\n",
    "# Input: (N, H_in, W_in, C_in)\n",
    "# Out: (N, H_out, W_out, C_out)\n",
    "layer = tf.keras.layers.Conv2D(filters=33,  # 即C_out,参考torch.nn.Conv2d out_channels参数\n",
    "                               kernel_size=3,  # 参考torch.nn.Conv2d kernel_size参数\n",
    "                               strides=2,  # 参考torch.nn.Conv2d stride参数\n",
    "                               activation=None)  # Activation function to use.\n",
    "layer(input_tensor).shape"
   ],
   "metadata": {
    "collapsed": false,
    "pycharm": {
     "name": "#%%\n"
    }
   }
  },
  {
   "cell_type": "code",
   "execution_count": 301,
   "outputs": [
    {
     "data": {
      "text/plain": "[<tf.Variable 'conv2d_119/kernel:0' shape=(3, 3, 16, 33) dtype=float32, numpy=\n array([[[[-1.10375978e-01,  1.12230271e-01, -5.59126139e-02, ...,\n            1.04993135e-01,  7.80914426e-02, -5.46774454e-02],\n          [-1.02830306e-02,  1.21223927e-02,  1.09223187e-01, ...,\n            4.55581993e-02, -2.10110992e-02, -8.12643617e-02],\n          [ 4.25035506e-02,  1.59263611e-04,  6.41720146e-02, ...,\n            5.41930795e-02, -6.35317788e-02, -2.96631679e-02],\n          ...,\n          [-8.36843848e-02, -6.88605383e-02, -1.14447348e-01, ...,\n            5.21086901e-02,  8.73972327e-02, -4.71380651e-02],\n          [-1.05168946e-01,  7.24412352e-02, -1.52569264e-03, ...,\n           -1.19836777e-02,  1.60740316e-03,  2.39118785e-02],\n          [-5.96933998e-02,  9.29305404e-02, -1.10536635e-01, ...,\n           -7.81170800e-02,  9.60447192e-02, -6.65067211e-02]],\n \n         [[ 9.10592526e-02,  1.03653267e-01, -1.91136152e-02, ...,\n            6.35436475e-02,  3.85746211e-02,  7.65535086e-02],\n          [-1.91017091e-02,  9.15594846e-02, -8.13058242e-02, ...,\n           -1.08022332e-01,  1.01143405e-01, -3.93900350e-02],\n          [-6.41424805e-02, -7.85187930e-02, -7.75753483e-02, ...,\n           -1.07195273e-01,  1.05670184e-01, -1.04254901e-01],\n          ...,\n          [-1.27976909e-02, -5.96220419e-02,  1.03207618e-01, ...,\n           -1.19238868e-02,  2.81963199e-02,  8.35915357e-02],\n          [ 1.28845125e-03,  5.51736802e-02,  3.10814977e-02, ...,\n            2.66516507e-02, -6.71960711e-02,  2.62175500e-02],\n          [ 2.19344944e-02, -2.35604718e-02,  2.33220607e-02, ...,\n           -1.53700337e-02,  1.24785006e-02,  1.13465860e-01]],\n \n         [[-8.91878456e-02,  1.41722113e-02, -8.46588165e-02, ...,\n           -8.81096646e-02,  9.60836858e-02,  8.17102343e-02],\n          [ 1.06409013e-01, -7.72966146e-02,  6.93432987e-04, ...,\n            1.07792318e-02,  7.44686127e-02, -1.33226290e-02],\n          [ 2.42367387e-03, -1.12742588e-01,  1.46558881e-02, ...,\n           -7.04491436e-02, -6.58362880e-02, -5.38545847e-02],\n          ...,\n          [ 1.49824023e-02, -5.01248017e-02,  1.45410299e-02, ...,\n           -4.95464429e-02, -1.12916395e-01, -1.00685358e-01],\n          [ 3.76080722e-02,  7.65309781e-02,  6.80637360e-03, ...,\n           -8.72073546e-02, -2.61359289e-02, -6.11656718e-02],\n          [ 4.74856049e-03,  1.08156189e-01, -2.42607743e-02, ...,\n           -5.04430532e-02, -8.70832354e-02,  1.15357235e-01]]],\n \n \n        [[[-3.39769572e-02, -9.57236588e-02,  1.27928555e-02, ...,\n            1.14766359e-01,  5.07212877e-02,  4.49167639e-02],\n          [ 1.10286772e-01, -2.05577984e-02, -1.15218766e-01, ...,\n           -4.68602031e-03,  1.15533456e-01, -6.11641444e-02],\n          [ 2.02648491e-02, -8.33275318e-02, -3.12269628e-02, ...,\n            9.64029431e-02,  1.00841984e-01, -3.53374630e-02],\n          ...,\n          [ 1.02113634e-02,  5.26468456e-03,  3.28394771e-02, ...,\n            5.54687232e-02,  8.37847888e-02, -4.20625433e-02],\n          [-2.58429796e-02, -3.19082737e-02, -4.23116907e-02, ...,\n            2.16179937e-02,  1.15280002e-01, -1.42688528e-02],\n          [ 9.81032550e-02,  1.30405277e-03, -4.20891494e-03, ...,\n           -3.84710580e-02,  2.99385637e-02, -3.81082296e-02]],\n \n         [[-1.00916259e-01, -1.05427578e-01, -4.60562110e-03, ...,\n           -2.64494792e-02,  6.17816895e-02,  9.96758342e-02],\n          [-3.11675072e-02, -8.85987803e-02,  6.18427843e-02, ...,\n           -2.54478827e-02,  8.10840428e-02, -2.59149224e-02],\n          [ 1.08523995e-01, -5.81655055e-02,  4.21461463e-02, ...,\n           -8.73901695e-02,  8.83102268e-02,  2.25451291e-02],\n          ...,\n          [ 1.46374106e-02, -1.83854178e-02,  2.98759192e-02, ...,\n            2.81643122e-02, -2.83276662e-02,  6.96847588e-02],\n          [ 5.76140136e-02,  4.09873426e-02,  1.28953904e-02, ...,\n            5.31199872e-02, -4.15949523e-02,  8.73261243e-02],\n          [ 1.09537274e-01,  9.57234651e-02,  8.91811252e-02, ...,\n            8.15503001e-02, -6.48732632e-02,  4.44672853e-02]],\n \n         [[-2.03370154e-02,  4.05758619e-05, -7.81833827e-02, ...,\n           -2.23041400e-02, -8.05084109e-02, -9.32366624e-02],\n          [-8.91267806e-02, -9.28420424e-02,  8.88526440e-03, ...,\n            7.88437277e-02,  6.97224736e-02,  9.98841226e-02],\n          [ 6.59792572e-02,  7.05846846e-02,  1.06496617e-01, ...,\n            1.98132843e-02, -4.97627184e-02, -1.01512551e-01],\n          ...,\n          [ 3.23282629e-02,  5.82694262e-02,  5.43584675e-02, ...,\n            8.51865560e-02, -3.09794396e-03, -7.80169070e-02],\n          [-2.37539411e-03,  8.80007595e-02, -5.35804927e-02, ...,\n           -3.37453261e-02, -5.78308180e-02,  7.97329992e-02],\n          [-8.80918354e-02, -2.53110304e-02, -7.06645548e-02, ...,\n           -8.71477872e-02,  1.61713213e-02,  9.59819853e-02]]],\n \n \n        [[[ 5.26287407e-03,  1.14957958e-01, -3.98532301e-02, ...,\n           -8.97610337e-02,  7.07344711e-02,  8.98784399e-03],\n          [-2.54863724e-02,  1.33912116e-02, -1.04465112e-01, ...,\n           -5.63970581e-02, -1.24200657e-02, -3.39712277e-02],\n          [-8.91214907e-02,  6.81356490e-02, -1.09552205e-01, ...,\n            3.68986726e-02, -6.29971921e-02, -5.04290313e-03],\n          ...,\n          [ 7.71052539e-02,  2.00012177e-02, -8.60471278e-02, ...,\n           -1.73193216e-03, -8.54968056e-02, -1.10364772e-01],\n          [ 3.65839750e-02, -4.66564000e-02,  3.52257490e-03, ...,\n            3.68068218e-02, -2.91265249e-02, -7.52855837e-03],\n          [ 4.20537293e-02, -1.79911256e-02, -6.54061884e-03, ...,\n            9.02831405e-02,  8.30733776e-02, -7.32902288e-02]],\n \n         [[-5.70246577e-03, -2.20781267e-02, -3.88054475e-02, ...,\n           -8.95788819e-02, -6.91833347e-03, -8.90837833e-02],\n          [-5.43707870e-02, -7.63684064e-02,  6.05445206e-02, ...,\n            6.56763464e-02, -5.81912585e-02,  6.58514500e-02],\n          [ 2.99607664e-02,  5.08483499e-02, -5.33069596e-02, ...,\n            1.09211311e-01,  9.46332961e-02, -5.08986041e-02],\n          ...,\n          [-1.05451107e-01,  4.05059308e-02,  9.54829156e-03, ...,\n           -8.42062384e-02,  9.66490507e-02, -6.80406392e-03],\n          [ 6.78878576e-02,  1.17309391e-03, -1.79499686e-02, ...,\n           -2.23184004e-02,  8.18597674e-02, -1.16542950e-02],\n          [-2.11501718e-02, -9.05158445e-02, -1.05070397e-02, ...,\n           -2.61074230e-02, -2.36944258e-02, -5.54638207e-02]],\n \n         [[ 8.69869590e-02, -9.93374437e-02,  7.72289485e-02, ...,\n           -1.76771879e-02, -1.06984310e-01, -9.47721452e-02],\n          [ 6.01906925e-02,  9.81842577e-02,  1.15448743e-01, ...,\n           -1.12290181e-01,  3.37693840e-02, -5.31339794e-02],\n          [ 9.98724997e-03,  9.47158337e-02,  2.42472291e-02, ...,\n            7.56855905e-02, -7.48973563e-02, -5.01440465e-02],\n          ...,\n          [-3.23474407e-03,  1.04487240e-02,  5.54223508e-02, ...,\n            8.81002396e-02, -4.35082018e-02,  9.90571082e-03],\n          [ 9.03802961e-02, -1.64226890e-02,  9.18779075e-02, ...,\n           -6.71857297e-02,  3.32713127e-04, -1.83724314e-02],\n          [-6.93899542e-02,  2.58553028e-02,  1.06444106e-01, ...,\n           -1.97342411e-02, -6.13023862e-02,  5.58374375e-02]]]],\n       dtype=float32)>,\n <tf.Variable 'conv2d_119/bias:0' shape=(33,) dtype=float32, numpy=\n array([0., 0., 0., 0., 0., 0., 0., 0., 0., 0., 0., 0., 0., 0., 0., 0., 0.,\n        0., 0., 0., 0., 0., 0., 0., 0., 0., 0., 0., 0., 0., 0., 0., 0.],\n       dtype=float32)>]"
     },
     "execution_count": 301,
     "metadata": {},
     "output_type": "execute_result"
    }
   ],
   "source": [
    "layer.weights  # 内部默认进行了glorot_uniform初始化"
   ],
   "metadata": {
    "collapsed": false,
    "pycharm": {
     "name": "#%%\n"
    }
   }
  },
  {
   "cell_type": "markdown",
   "source": [
    "padding = \"same\"时,输入和输出大小关系如下:输出大小等于输入大小除以步长向上取整\n",
    "\n",
    "$$ H_{out} =  \\bigg\\lceil \\frac{H_{in}}{strides[0]} \\bigg\\rceil $$\n",
    "\n",
    "$$ D_{out} =  \\bigg\\lceil \\frac{D_{in}}{strides[1]} \\bigg\\rceil $$"
   ],
   "metadata": {
    "collapsed": false,
    "pycharm": {
     "name": "#%% md\n"
    }
   }
  },
  {
   "cell_type": "code",
   "execution_count": 302,
   "outputs": [
    {
     "data": {
      "text/plain": "TensorShape([100, 17, 25, 33])"
     },
     "execution_count": 302,
     "metadata": {},
     "output_type": "execute_result"
    }
   ],
   "source": [
    "layer1 = tf.keras.layers.Conv2D(filters=33,\n",
    "                                kernel_size=(1, 5),\n",
    "                                strides=(3, 2),\n",
    "                                # one of \"valid\" or \"same\" (case-insensitive).\n",
    "                                # \"valid\" means no padding.\n",
    "                                # \"same\" results in padding with zeros evenly to the left/right or up/down of the input.\n",
    "                                # When padding=\"same\" and strides=1, the output has the same size as the input.\n",
    "                                padding=\"same\")  # 参考torch.nn.Conv2d padding参数\n",
    "layer1(input_tensor).shape"
   ],
   "metadata": {
    "collapsed": false,
    "pycharm": {
     "name": "#%%\n"
    }
   }
  },
  {
   "cell_type": "code",
   "execution_count": 303,
   "outputs": [
    {
     "data": {
      "text/plain": "TensorShape([100, 50, 49, 33])"
     },
     "execution_count": 303,
     "metadata": {},
     "output_type": "execute_result"
    }
   ],
   "source": [
    "layer2 = tf.keras.layers.Conv2D(filters=33, kernel_size=(1, 2), strides=(1, 1),\n",
    "                                # dilation_rate value != 1 is incompatible with specifying any stride value != 1.\n",
    "                                dilation_rate=(3, 1))  # 参考torch.nn.Conv2d dilation参数\n",
    "layer2(input_tensor).shape"
   ],
   "metadata": {
    "collapsed": false,
    "pycharm": {
     "name": "#%%\n"
    }
   }
  },
  {
   "cell_type": "code",
   "execution_count": 303,
   "outputs": [],
   "source": [],
   "metadata": {
    "collapsed": false,
    "pycharm": {
     "name": "#%%\n"
    }
   }
  }
 ],
 "metadata": {
  "kernelspec": {
   "display_name": "Python 3",
   "language": "python",
   "name": "python3"
  },
  "language_info": {
   "codemirror_mode": {
    "name": "ipython",
    "version": 2
   },
   "file_extension": ".py",
   "mimetype": "text/x-python",
   "name": "python",
   "nbconvert_exporter": "python",
   "pygments_lexer": "ipython2",
   "version": "2.7.6"
  }
 },
 "nbformat": 4,
 "nbformat_minor": 0
}