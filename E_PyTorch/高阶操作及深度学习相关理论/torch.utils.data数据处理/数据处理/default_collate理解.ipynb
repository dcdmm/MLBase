{
 "cells": [
  {
   "cell_type": "code",
   "execution_count": 12,
   "metadata": {
    "collapsed": true
   },
   "outputs": [],
   "source": [
    "from collections import namedtuple\n",
    "import torch\n",
    "from torch.utils.data.dataloader import default_collate # torch.utils.data.DataLoader collate_fn方法默认使用的函数"
   ]
  },
  {
   "cell_type": "code",
   "execution_count": 13,
   "outputs": [
    {
     "name": "stdout",
     "output_type": "stream",
     "text": [
      "tensor([0, 1, 2, 3])\n",
      "tensor([0., 1., 2., 3.], dtype=torch.float64)\n"
     ]
    }
   ],
   "source": [
    "# * `float` -> :class:`torch.Tensor`\n",
    "# * `int` -> :class:`torch.Tensor`\n",
    "print(default_collate([0, 1, 2, 3]))\n",
    "print(default_collate([0., 1., 2., 3.]))"
   ],
   "metadata": {
    "collapsed": false,
    "pycharm": {
     "name": "#%%\n"
    }
   }
  },
  {
   "cell_type": "code",
   "execution_count": 14,
   "outputs": [
    {
     "data": {
      "text/plain": "['a', 'b', 'c']"
     },
     "execution_count": 14,
     "metadata": {},
     "output_type": "execute_result"
    }
   ],
   "source": [
    "# * `str` -> `str` (unchanged)\n",
    "default_collate(['a', 'b', 'c'])"
   ],
   "metadata": {
    "collapsed": false,
    "pycharm": {
     "name": "#%%\n"
    }
   }
  },
  {
   "cell_type": "code",
   "execution_count": 15,
   "outputs": [
    {
     "data": {
      "text/plain": "{'A': tensor([  0, 100]), 'B': tensor([  1, 100])}"
     },
     "execution_count": 15,
     "metadata": {},
     "output_type": "execute_result"
    }
   ],
   "source": [
    "# * `Mapping[K, V_i]` -> `Mapping[K, default_collate([V_1, V_2, ...])]`\n",
    "default_collate([{'A': 0, 'B': 1}, {'A': 100, 'B': 100}])"
   ],
   "metadata": {
    "collapsed": false,
    "pycharm": {
     "name": "#%%\n"
    }
   }
  },
  {
   "cell_type": "code",
   "execution_count": 28,
   "outputs": [
    {
     "data": {
      "text/plain": "{'A': tensor([[1, 2],\n         [3, 4]]),\n 'B': tensor([[-1, -2],\n         [-3, -4]])}"
     },
     "execution_count": 28,
     "metadata": {},
     "output_type": "execute_result"
    }
   ],
   "source": [
    "default_collate([{'A': torch.tensor([1, 2]), 'B': torch.tensor([-1, -2])},\n",
    "                 {'A': torch.tensor([3, 4]), 'B': torch.tensor([-3, -4])}])"
   ],
   "metadata": {
    "collapsed": false,
    "pycharm": {
     "name": "#%%\n"
    }
   }
  },
  {
   "cell_type": "code",
   "execution_count": 17,
   "outputs": [
    {
     "data": {
      "text/plain": "Point(x=tensor([0, 1]), y=tensor([0, 1]))"
     },
     "execution_count": 17,
     "metadata": {},
     "output_type": "execute_result"
    }
   ],
   "source": [
    "# `NamedTuple[V1_i, V2_i, ...]` -> `NamedTuple[default_collate([V1_1, V1_2, ...]), default_collate([V2_1, V2_2, ...]), ...]`\n",
    "Point = namedtuple('Point', ['x', 'y'])\n",
    "default_collate([Point(0, 0), Point(1, 1)])"
   ],
   "metadata": {
    "collapsed": false,
    "pycharm": {
     "name": "#%%\n"
    }
   }
  },
  {
   "cell_type": "code",
   "execution_count": 18,
   "outputs": [
    {
     "data": {
      "text/plain": "[tensor([0, 2, 4]), tensor([1, 3, 5])]"
     },
     "execution_count": 18,
     "metadata": {},
     "output_type": "execute_result"
    }
   ],
   "source": [
    "# `Sequence[V1_i, V2_i, ...]` -> `Sequence[default_collate([V1_1, V1_2, ...]), default_collate([V2_1, V2_2, ...]), ...]`\n",
    "default_collate([[0, 1],\n",
    "                 [2, 3],\n",
    "                 [4, 5]])"
   ],
   "metadata": {
    "collapsed": false,
    "pycharm": {
     "name": "#%%\n"
    }
   }
  },
  {
   "cell_type": "code",
   "execution_count": 19,
   "outputs": [
    {
     "data": {
      "text/plain": "[('dc', 'dmm', 'come on!'), tensor([1, 3, 5])]"
     },
     "execution_count": 19,
     "metadata": {},
     "output_type": "execute_result"
    }
   ],
   "source": [
    "default_collate([[\"dc\", 1],\n",
    "                 [\"dmm\", 3],\n",
    "                 [\"come on!\", 5]])"
   ],
   "metadata": {
    "collapsed": false,
    "pycharm": {
     "name": "#%%\n"
    }
   }
  },
  {
   "cell_type": "code",
   "execution_count": 20,
   "outputs": [
    {
     "data": {
      "text/plain": "[[tensor([1, 2, 3]), tensor([1, 2, 3])], tensor([11, 22, 33])]"
     },
     "execution_count": 20,
     "metadata": {},
     "output_type": "execute_result"
    }
   ],
   "source": [
    "default_collate([[[1, 1], 11],\n",
    "                 [[2, 2], 22],\n",
    "                 [[3, 3], 33]])"
   ],
   "metadata": {
    "collapsed": false,
    "pycharm": {
     "name": "#%%\n"
    }
   }
  },
  {
   "cell_type": "code",
   "execution_count": 21,
   "outputs": [
    {
     "data": {
      "text/plain": "[tensor([[1, 1],\n         [2, 2],\n         [3, 3]]),\n tensor([11, 22, 33])]"
     },
     "execution_count": 21,
     "metadata": {},
     "output_type": "execute_result"
    }
   ],
   "source": [
    "default_collate([(torch.tensor([1, 1]), 11),\n",
    "                 (torch.tensor([2, 2]), 22),\n",
    "                 (torch.tensor([3, 3]), 33)])  # 相比于列表,合并成一个tensor"
   ],
   "metadata": {
    "collapsed": false,
    "pycharm": {
     "name": "#%%\n"
    }
   }
  },
  {
   "cell_type": "code",
   "execution_count": 22,
   "outputs": [
    {
     "data": {
      "text/plain": "[tensor([[[ 1,  1],\n          [-1, -1]],\n \n         [[ 2,  2],\n          [-2, -2]],\n \n         [[ 3,  3],\n          [-3, -3]]]),\n tensor([11, 22, 33])]"
     },
     "execution_count": 22,
     "metadata": {},
     "output_type": "execute_result"
    }
   ],
   "source": [
    "default_collate([(torch.tensor([[1, 1],\n",
    "                                [-1, -1]]), 11),\n",
    "                 (torch.tensor([[2, 2],\n",
    "                                [-2, -2]]), 22),\n",
    "                 (torch.tensor([[3, 3],\n",
    "                                [-3, -3]]), 33)])"
   ],
   "metadata": {
    "collapsed": false,
    "pycharm": {
     "name": "#%%\n"
    }
   }
  },
  {
   "cell_type": "code",
   "execution_count": 23,
   "outputs": [
    {
     "data": {
      "text/plain": "[tensor([[[[ 1,  1],\n           [-1, -1]]],\n \n \n         [[[ 2,  2],\n           [-2, -2]]],\n \n \n         [[[ 3,  3],\n           [-3, -3]]]]),\n tensor([11, 22, 33])]"
     },
     "execution_count": 23,
     "metadata": {},
     "output_type": "execute_result"
    }
   ],
   "source": [
    "default_collate([(torch.tensor([[[1, 1],\n",
    "                                 [-1, -1]]]), 11),\n",
    "                 (torch.tensor([[[2, 2],\n",
    "                                 [-2, -2]]]), 22),\n",
    "                 (torch.tensor([[[3, 3],\n",
    "                                 [-3, -3]]]), 33)])"
   ],
   "metadata": {
    "collapsed": false,
    "pycharm": {
     "name": "#%%\n"
    }
   }
  }
 ],
 "metadata": {
  "kernelspec": {
   "display_name": "Python 3",
   "language": "python",
   "name": "python3"
  },
  "language_info": {
   "codemirror_mode": {
    "name": "ipython",
    "version": 2
   },
   "file_extension": ".py",
   "mimetype": "text/x-python",
   "name": "python",
   "nbconvert_exporter": "python",
   "pygments_lexer": "ipython2",
   "version": "2.7.6"
  }
 },
 "nbformat": 4,
 "nbformat_minor": 0
}