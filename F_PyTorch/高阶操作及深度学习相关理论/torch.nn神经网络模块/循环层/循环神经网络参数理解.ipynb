{
 "cells": [
  {
   "cell_type": "markdown",
   "metadata": {
    "collapsed": true
   },
   "source": [
    "## hx形状分析\n",
    "\n",
    "\\begin{align}\n",
    "\\mathbf{z}_t &= W_{hh} \\mathbf{h}_{t-1} + W_{ih} \\mathbf{x}_t + \\mathbf{b}_{ih} +  \\mathbf{b}_{hh}  \\\\\n",
    "\\mathbf{h}_{t} &= f(\\mathbf{z}_t)\n",
    "\\end{align}"
   ]
  },
  {
   "cell_type": "code",
   "execution_count": 111,
   "metadata": {},
   "outputs": [
    {
     "name": "stdout",
     "output_type": "stream",
     "text": [
      "weight_ih_l0   shape= torch.Size([10, 100])\n",
      "weight_hh_l0   shape= torch.Size([10, 10])\n",
      "bias_ih_l0   shape= torch.Size([10])\n",
      "bias_hh_l0   shape= torch.Size([10])\n",
      "*****************************************\n",
      "torch.Size([20, 3, 10]) torch.Size([1, 3, 10])\n"
     ]
    }
   ],
   "source": [
    "import torch.nn as nn\n",
    "import torch\n",
    "import numpy as np\n",
    "\n",
    "rnn = nn.RNN(input_size=100, hidden_size=10) \n",
    "x = torch.randn(20, 3, 100) # [seq len, batch, feature len]\n",
    "h_0 = torch.ones((1, 3, 10))\n",
    "out, h = rnn(x, hx=h_0)\n",
    "\n",
    "'''\n",
    "由上计算公式可得:\n",
    "由x.shape=[20, 3, 100] ---> 输入序列长度为20,批次为3,特征维度为100 ---> x_{t}.shape=[100]\n",
    "由input_size=100, hidden_size=10 --> W_{ih}.shape=[10, 100], weight_{hh}.shape=[10, 10]\n",
    "故(W_{ih}x_t).shape=[10] ---> (W_{hh}h_{t-1}).shape=[10] ---> h_{h-1}.shape=[10]\n",
    "由批次为3,层次为1,且为单向循环神经网络,故hx.shape=(1, 3, 10)\n",
    "'''\n",
    "for name, param in rnn.named_parameters():\n",
    "    print(name, '  shape=', param.shape)\n",
    "    \n",
    "print('*****************************************')\n",
    "\n",
    "print(out.shape, h.shape) "
   ]
  },
  {
   "cell_type": "markdown",
   "metadata": {},
   "source": [
    "## out,hx形状及其关系分析(单向多层)\n",
    "\n",
    "<img src='../../../../Other/img/循环神经网络理解.png'>"
   ]
  },
  {
   "cell_type": "code",
   "execution_count": 112,
   "metadata": {},
   "outputs": [
    {
     "name": "stdout",
     "output_type": "stream",
     "text": [
      "weight_ih_l0   shape= torch.Size([16, 100])\n",
      "weight_hh_l0   shape= torch.Size([16, 4])\n",
      "bias_ih_l0   shape= torch.Size([16])\n",
      "bias_hh_l0   shape= torch.Size([16])\n",
      "weight_ih_l1   shape= torch.Size([16, 4])\n",
      "weight_hh_l1   shape= torch.Size([16, 4])\n",
      "bias_ih_l1   shape= torch.Size([16])\n",
      "bias_hh_l1   shape= torch.Size([16])\n",
      "weight_ih_l2   shape= torch.Size([16, 4])\n",
      "weight_hh_l2   shape= torch.Size([16, 4])\n",
      "bias_ih_l2   shape= torch.Size([16])\n",
      "bias_hh_l2   shape= torch.Size([16])\n",
      "*****************************************\n",
      "torch.Size([7, 3, 4]) torch.Size([3, 3, 4]) torch.Size([3, 3, 4])\n"
     ]
    }
   ],
   "source": [
    "lstm_unidir = nn.LSTM(input_size=100, \n",
    "               hidden_size=4,\n",
    "               num_layers=3,\n",
    "               bidirectional=False) # 单向\n",
    "\n",
    "x = torch.randn(7, 3, 100) # 序类长度为7\n",
    "h_0 = torch.ones((3, 3, 4))\n",
    "c_0 = torch.ones((3, 3, 4))\n",
    "\n",
    "out, (h, c) = lstm_unidir(x, hx=(h_0, c_0)) # h为h_{-1}^{(0)}, ..., h_{-1}^{(-1)}\n",
    "\n",
    "'''\n",
    "由上图可知:\n",
    "num_layers=3, input_size=100, hidden_size=4, bidirectional=False\n",
    "故可得h_{-1}^{(1)}.shape=[1, 3, 4],h_{-1}^{(2)}.shape=[1, 3, 4],h_{-1}^{(3)}.shape=[1, 3, 4] ---> h_{-1}.shape=[3, 3, 4],c_0类似\n",
    "输出层为每个时刻最后一层的h_{*}^{(-1)},又有序列长度为7,故out.shape=[7, 3, 4]\n",
    "'''\n",
    "for name, param in lstm_unidir.named_parameters():\n",
    "    print(name, '  shape=', param.shape)\n",
    "\n",
    "print('*****************************************')\n",
    "\n",
    "print(out.shape, h.shape, c.shape)"
   ]
  },
  {
   "cell_type": "code",
   "execution_count": 113,
   "metadata": {},
   "outputs": [
    {
     "data": {
      "text/plain": [
       "array([[[False, False, False, False],\n",
       "        [False, False, False, False],\n",
       "        [False, False, False, False]],\n",
       "\n",
       "       [[False, False, False, False],\n",
       "        [False, False, False, False],\n",
       "        [False, False, False, False]],\n",
       "\n",
       "       [[False, False, False, False],\n",
       "        [False, False, False, False],\n",
       "        [False, False, False, False]],\n",
       "\n",
       "       [[False, False, False, False],\n",
       "        [False, False, False, False],\n",
       "        [False, False, False, False]],\n",
       "\n",
       "       [[False, False, False, False],\n",
       "        [False, False, False, False],\n",
       "        [False, False, False, False]],\n",
       "\n",
       "       [[False, False, False, False],\n",
       "        [False, False, False, False],\n",
       "        [False, False, False, False]],\n",
       "\n",
       "       [[ True,  True,  True,  True],\n",
       "        [ True,  True,  True,  True],\n",
       "        [ True,  True,  True,  True]]])"
      ]
     },
     "execution_count": 113,
     "metadata": {},
     "output_type": "execute_result"
    }
   ],
   "source": [
    "np.isin(out.detach().numpy(), h.detach().numpy()) # 可以看出最后一个序列的out就是对应的h"
   ]
  },
  {
   "cell_type": "markdown",
   "metadata": {},
   "source": [
    "##  out,hx形状及其关系分析(双向多层)\n",
    "\n",
    "<img src='../../../../Other/img/双向循环神经网络.png'>\n",
    "\n",
    "上图模型可形式化描述为:\n",
    "\n",
    "\\begin{aligned}\n",
    "\\overrightarrow{\\mathbf{h}}_{t} &= {\\rm RNN_{FW}}\\left(\\overrightarrow{\\mathbf{h}}_{t-1}, \\mathbf{x}_{t}\\right) \\\\\n",
    "\\overleftarrow{\\mathbf{h}}_{t} &= {\\rm RNN_{BW}}\\left(\\overleftarrow{\\mathbf{h}}_{t+1}, \\mathbf{x}_{t}\\right) \\\\\n",
    "\\mathbf{h} &= \\left[\\overrightarrow{\\mathbf{h}}_{t}; \\overleftarrow{\\mathbf{h}}_{t}\\right]\n",
    "\\end{aligned}"
   ]
  },
  {
   "cell_type": "code",
   "execution_count": 117,
   "metadata": {},
   "outputs": [
    {
     "name": "stdout",
     "output_type": "stream",
     "text": [
      "weight_ih_l0   shape= torch.Size([16, 100])\n",
      "weight_hh_l0   shape= torch.Size([16, 4])\n",
      "bias_ih_l0   shape= torch.Size([16])\n",
      "bias_hh_l0   shape= torch.Size([16])\n",
      "weight_ih_l0_reverse   shape= torch.Size([16, 100])\n",
      "weight_hh_l0_reverse   shape= torch.Size([16, 4])\n",
      "bias_ih_l0_reverse   shape= torch.Size([16])\n",
      "bias_hh_l0_reverse   shape= torch.Size([16])\n",
      "weight_ih_l1   shape= torch.Size([16, 8])\n",
      "weight_hh_l1   shape= torch.Size([16, 4])\n",
      "bias_ih_l1   shape= torch.Size([16])\n",
      "bias_hh_l1   shape= torch.Size([16])\n",
      "weight_ih_l1_reverse   shape= torch.Size([16, 8])\n",
      "weight_hh_l1_reverse   shape= torch.Size([16, 4])\n",
      "bias_ih_l1_reverse   shape= torch.Size([16])\n",
      "bias_hh_l1_reverse   shape= torch.Size([16])\n",
      "weight_ih_l2   shape= torch.Size([16, 8])\n",
      "weight_hh_l2   shape= torch.Size([16, 4])\n",
      "bias_ih_l2   shape= torch.Size([16])\n",
      "bias_hh_l2   shape= torch.Size([16])\n",
      "weight_ih_l2_reverse   shape= torch.Size([16, 8])\n",
      "weight_hh_l2_reverse   shape= torch.Size([16, 4])\n",
      "bias_ih_l2_reverse   shape= torch.Size([16])\n",
      "bias_hh_l2_reverse   shape= torch.Size([16])\n",
      "*****************************************\n",
      "torch.Size([5, 3, 8]) torch.Size([6, 3, 4]) torch.Size([6, 3, 4])\n"
     ]
    }
   ],
   "source": [
    "lstm_bidirec = nn.LSTM(input_size=100, \n",
    "               hidden_size=4,\n",
    "               num_layers=3,\n",
    "               bidirectional=True) # 双向循环神经网络\n",
    "\n",
    "x = torch.randn(5, 3, 100) # 序类长度为5\n",
    "h_0 = torch.ones((6, 3, 4))\n",
    "c_0 = torch.ones((6, 3, 4))\n",
    "\n",
    "out, (h, c) = lstm_bidirec(x, hx=(h_0, c_0))\n",
    "\n",
    "'''\n",
    "num_layers=3, input_size=100, hidden_size=4, bidirectional=False\n",
    "故可得h_{-1}^{(1)}.shape=[2, 3, 4] <-->一正一反 ,h_{-1}^{(2)}.shape=[2, 3, 4] <-->一正一反 ,h_{-1}^{(3)}.shape=[2, 3, 4] <-->一正一反 ---> h_{-1}.shape=[6, 3, 4],c_0类似\n",
    "'''\n",
    "for name, param in lstm_bidirec.named_parameters():\n",
    "    print(name, '  shape=', param.shape)\n",
    "\n",
    "print('*****************************************')\n",
    "\n",
    "print(out.shape, h.shape, c.shape)"
   ]
  },
  {
   "cell_type": "code",
   "execution_count": 118,
   "metadata": {},
   "outputs": [
    {
     "data": {
      "text/plain": [
       "array([[[False, False, False, False, False, False, False, False],\n",
       "        [False, False, False, False, False, False, False, False],\n",
       "        [False, False, False, False, False, False, False, False]],\n",
       "\n",
       "       [[False, False, False, False, False, False, False, False],\n",
       "        [False, False, False, False, False, False, False, False],\n",
       "        [False, False, False, False, False, False, False, False]],\n",
       "\n",
       "       [[False, False, False, False, False, False, False, False],\n",
       "        [False, False, False, False, False, False, False, False],\n",
       "        [False, False, False, False, False, False, False, False]],\n",
       "\n",
       "       [[False, False, False, False, False, False, False, False],\n",
       "        [False, False, False, False, False, False, False, False],\n",
       "        [False, False, False, False, False, False, False, False]],\n",
       "\n",
       "       [[ True,  True,  True,  True, False, False, False, False],\n",
       "        [ True,  True,  True,  True, False, False, False, False],\n",
       "        [ True,  True,  True,  True, False, False, False, False]]])"
      ]
     },
     "execution_count": 118,
     "metadata": {},
     "output_type": "execute_result"
    }
   ],
   "source": [
    "np.isin(out.detach().numpy(), h[[4], :, :].detach().numpy()) # 其中h[[4], :, :]为h_{-1}^{(-1)}正向部分"
   ]
  },
  {
   "cell_type": "code",
   "execution_count": 133,
   "metadata": {},
   "outputs": [
    {
     "data": {
      "text/plain": [
       "tensor([[[0., 0., 0., 0.],\n",
       "         [0., 0., 0., 0.],\n",
       "         [0., 0., 0., 0.]]], grad_fn=<SubBackward0>)"
      ]
     },
     "execution_count": 133,
     "metadata": {},
     "output_type": "execute_result"
    }
   ],
   "source": [
    "torch.split(out[-1, :, :], 4, dim=1)[0] - h[[4], :, :]"
   ]
  },
  {
   "cell_type": "code",
   "execution_count": 119,
   "metadata": {},
   "outputs": [
    {
     "data": {
      "text/plain": [
       "array([[[False, False, False, False,  True,  True,  True,  True],\n",
       "        [False, False, False, False,  True,  True,  True,  True],\n",
       "        [False, False, False, False,  True,  True,  True,  True]],\n",
       "\n",
       "       [[False, False, False, False, False, False, False, False],\n",
       "        [False, False, False, False, False, False, False, False],\n",
       "        [False, False, False, False, False, False, False, False]],\n",
       "\n",
       "       [[False, False, False, False, False, False, False, False],\n",
       "        [False, False, False, False, False, False, False, False],\n",
       "        [False, False, False, False, False, False, False, False]],\n",
       "\n",
       "       [[False, False, False, False, False, False, False, False],\n",
       "        [False, False, False, False, False, False, False, False],\n",
       "        [False, False, False, False, False, False, False, False]],\n",
       "\n",
       "       [[False, False, False, False, False, False, False, False],\n",
       "        [False, False, False, False, False, False, False, False],\n",
       "        [False, False, False, False, False, False, False, False]]])"
      ]
     },
     "execution_count": 119,
     "metadata": {},
     "output_type": "execute_result"
    }
   ],
   "source": [
    "np.isin(out.detach().numpy(), h[[5], :, :].detach().numpy()) # 其中h[[5], :, :]为h_{-1}^{(-1)}正向部分"
   ]
  },
  {
   "cell_type": "code",
   "execution_count": 130,
   "metadata": {},
   "outputs": [
    {
     "data": {
      "text/plain": [
       "tensor([[[0., 0., 0., 0.],\n",
       "         [0., 0., 0., 0.],\n",
       "         [0., 0., 0., 0.]]], grad_fn=<SubBackward0>)"
      ]
     },
     "execution_count": 130,
     "metadata": {},
     "output_type": "execute_result"
    }
   ],
   "source": [
    "torch.split(out[0, :, :], 4, dim=1)[1] - h[[5], :, :]"
   ]
  },
  {
   "cell_type": "markdown",
   "metadata": {},
   "source": [
    "### <font color='red'>总结得出:双向多层时,out,hx的关系为(由上面的图易看出):</font>\n",
    "\n",
    "假设序列长度为5\n",
    "\n",
    "\\begin{equation}\n",
    "out = \n",
    "\\begin{bmatrix}\n",
    "h_{0正}^{-1}\t   & h_{4反}^{-1}     \\\\ \n",
    "h_{1正}^{-1}\t   & h_{3反}^{-1}     \\\\ \n",
    "h_{2正}^{-1}\t   & h_{2反}^{-1}     \\\\ \n",
    "h_{3正}^{-1}\t   & h_{1反}^{-1}     \\\\ \n",
    "h_{4正}^{-1}\t   & h_{0反}^{-1}     \\\\ \n",
    "\\end{bmatrix}\n",
    "\\end{equation}\n",
    "\n"
   ]
  },
  {
   "cell_type": "code",
   "execution_count": null,
   "metadata": {},
   "outputs": [],
   "source": []
  }
 ],
 "metadata": {
  "kernelspec": {
   "display_name": "Python 3",
   "language": "python",
   "name": "python3"
  },
  "language_info": {
   "codemirror_mode": {
    "name": "ipython",
    "version": 3
   },
   "file_extension": ".py",
   "mimetype": "text/x-python",
   "name": "python",
   "nbconvert_exporter": "python",
   "pygments_lexer": "ipython3",
   "version": "3.8.5"
  },
  "toc": {
   "base_numbering": 1,
   "nav_menu": {},
   "number_sections": true,
   "sideBar": true,
   "skip_h1_title": false,
   "title_cell": "Table of Contents",
   "title_sidebar": "Contents",
   "toc_cell": false,
   "toc_position": {},
   "toc_section_display": true,
   "toc_window_display": false
  }
 },
 "nbformat": 4,
 "nbformat_minor": 1
}
