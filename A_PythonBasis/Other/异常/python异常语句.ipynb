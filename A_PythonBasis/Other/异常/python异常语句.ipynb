{
 "cells": [
  {
   "cell_type": "code",
   "execution_count": 1,
   "outputs": [
    {
     "name": "stdout",
     "text": [
      "出错了!!\n程序结束\n"
     ],
     "output_type": "stream"
    }
   ],
   "source": [
    "try :\n",
    "    abc = int('abc')\n",
    "    # try语句块一旦出现异常,剩下的语句将不再被执行\n",
    "    the_sum = 1 + '1'\n",
    "    f = open(\"duanmengmeng.txt\")\n",
    "    print('hello')\n",
    "    print(f.read())\n",
    "    f.close()\n",
    "except OSError as reason: # 输出异常原因\n",
    "\tprint('文件出错了,错误的原因是' + str(reason))\n",
    "except TypeError as reason:\n",
    "\tprint('文件出错了,错误的原因是' + str(reason))\n",
    "except:  # 捕获所有发生的异常(不能用as把具体的错误信息打印出来,不推荐)\n",
    "\tprint('出错了!!')\n",
    "else: # 如果在try子句执行时没有发生异常,python将执行else语句中的语句(如果有else的话)\n",
    "    print('都没有出现异常吗?')\n",
    "finally: # finally语句块中的内容无论是否发生异常都将被执行\n",
    "    print('程序结束')"
   ],
   "metadata": {
    "collapsed": false,
    "pycharm": {
     "name": "#%%\n",
     "is_executing": false
    }
   }
  },
  {
   "cell_type": "code",
   "execution_count": 2,
   "metadata": {
    "collapsed": false,
    "pycharm": {
     "is_executing": false
    }
   },
   "outputs": [
    {
     "name": "stdout",
     "text": [
      "文件出错了,错误原因是:list index out of range\n"
     ],
     "output_type": "stream"
    }
   ],
   "source": [
    "try :\n",
    "\tlist1 = [1, 2, 3]\n",
    "\tprint(list1[4])\n",
    "except(IndexError, TypeError) as reason: # 同时捕获多个异常\n",
    "\tprint('文件出错了,错误原因是:' + str(reason))"
   ]
  },
  {
   "cell_type": "code",
   "execution_count": 3,
   "outputs": [
    {
     "name": "stdout",
     "text": [
      "0 0\n0 1\n0 2\n1 0\n1 1\n1 2\n"
     ],
     "output_type": "stream"
    },
    {
     "traceback": [
      "\u001b[1;31m---------------------------------------------------------------------------\u001b[0m",
      "\u001b[1;31mKeyboardInterrupt\u001b[0m                         Traceback (most recent call last)",
      "\u001b[1;32m<ipython-input-3-dcb6bfc58e79>\u001b[0m in \u001b[0;36m<module>\u001b[1;34m\u001b[0m\n\u001b[0;32m      4\u001b[0m                         \u001b[1;32mif\u001b[0m \u001b[0mi\u001b[0m \u001b[1;33m==\u001b[0m \u001b[1;36m2\u001b[0m\u001b[1;33m:\u001b[0m\u001b[1;33m\u001b[0m\u001b[1;33m\u001b[0m\u001b[0m\n\u001b[0;32m      5\u001b[0m                 \u001b[1;31m# 一次性跳出多层循环\u001b[0m\u001b[1;33m\u001b[0m\u001b[1;33m\u001b[0m\u001b[1;33m\u001b[0m\u001b[0m\n\u001b[1;32m----> 6\u001b[1;33m                                 \u001b[1;32mraise\u001b[0m \u001b[0mKeyboardInterrupt\u001b[0m\u001b[1;33m(\u001b[0m\u001b[1;34m'不能等于2'\u001b[0m\u001b[1;33m)\u001b[0m \u001b[1;31m# 使用raise语句自己触发异常(可以用来中断程序)\u001b[0m\u001b[1;33m\u001b[0m\u001b[1;33m\u001b[0m\u001b[0m\n\u001b[0m\u001b[0;32m      7\u001b[0m                         \u001b[0mprint\u001b[0m\u001b[1;33m(\u001b[0m\u001b[0mi\u001b[0m\u001b[1;33m,\u001b[0m\u001b[0mj\u001b[0m\u001b[1;33m)\u001b[0m\u001b[1;33m\u001b[0m\u001b[1;33m\u001b[0m\u001b[0m\n\u001b[0;32m      8\u001b[0m \u001b[1;32mexcept\u001b[0m \u001b[0mTypeError\u001b[0m \u001b[1;32mas\u001b[0m \u001b[0mreason\u001b[0m\u001b[1;33m:\u001b[0m\u001b[1;33m\u001b[0m\u001b[1;33m\u001b[0m\u001b[0m\n",
      "\u001b[1;31mKeyboardInterrupt\u001b[0m: 不能等于2"
     ],
     "ename": "KeyboardInterrupt",
     "evalue": "不能等于2",
     "output_type": "error"
    }
   ],
   "source": [
    "try :\n",
    "\tfor i in range(3):\n",
    "\t\tfor j in range(3):\n",
    "\t\t\tif i == 2:\n",
    "                # 一次性跳出多层循环\n",
    "\t\t\t\traise KeyboardInterrupt('不能等于2') # 使用raise语句自己触发异常(可以用来中断程序)                \n",
    "\t\t\tprint(i,j)\n",
    "except TypeError as reason:\n",
    "    # 这样写可以保证raise KeyboardInterrupt异常的正常的抛出\n",
    "\tprint('出错了原因是:' + str(reason))"
   ],
   "metadata": {
    "pycharm": {
     "metadata": false,
     "name": "#%%\n",
     "is_executing": false
    }
   }
  },
  {
   "cell_type": "code",
   "execution_count": null,
   "outputs": [],
   "source": [
    "\n"
   ],
   "metadata": {
    "collapsed": false,
    "pycharm": {
     "name": "#%%\n"
    }
   }
  }
 ],
 "metadata": {
  "kernelspec": {
   "name": "python3",
   "language": "python",
   "display_name": "Python 3"
  },
  "language_info": {
   "codemirror_mode": {
    "name": "ipython",
    "version": 2
   },
   "file_extension": ".py",
   "mimetype": "text/x-python",
   "name": "python",
   "nbconvert_exporter": "python",
   "pygments_lexer": "ipython2",
   "version": "2.7.6"
  },
  "pycharm": {
   "stem_cell": {
    "cell_type": "raw",
    "source": [],
    "metadata": {
     "collapsed": false
    }
   }
  }
 },
 "nbformat": 4,
 "nbformat_minor": 0
}