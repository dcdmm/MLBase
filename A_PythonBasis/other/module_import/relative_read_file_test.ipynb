{
 "cells": [
  {
   "cell_type": "code",
   "execution_count": 2,
   "metadata": {
    "collapsed": true
   },
   "outputs": [
    {
     "name": "stdout",
     "output_type": "stream",
     "text": [
      "  something  a   b     c   d message\n",
      "A       one  1   2   3.0   4     NaN\n",
      "B       two  5   6   NaN   8   world\n",
      "C     three  9  10  11.0  12     foo\n"
     ]
    }
   ],
   "source": [
    "from dir_relative_read.read_csv_file import read_csv_file\n",
    "\n",
    "# module_import\\dir_relative_read\\data.csv与module_import\\relative_read_file_test.ipynb的相对位置\n",
    "path = 'dir_relative_read/data.csv'\n",
    "dataframe = read_csv_file(path)\n",
    "print(dataframe)"
   ]
  }
 ],
 "metadata": {
  "kernelspec": {
   "display_name": "Python 3",
   "language": "python",
   "name": "python3"
  },
  "language_info": {
   "codemirror_mode": {
    "name": "ipython",
    "version": 2
   },
   "file_extension": ".py",
   "mimetype": "text/x-python",
   "name": "python",
   "nbconvert_exporter": "python",
   "pygments_lexer": "ipython2",
   "version": "2.7.6"
  }
 },
 "nbformat": 4,
 "nbformat_minor": 0
}