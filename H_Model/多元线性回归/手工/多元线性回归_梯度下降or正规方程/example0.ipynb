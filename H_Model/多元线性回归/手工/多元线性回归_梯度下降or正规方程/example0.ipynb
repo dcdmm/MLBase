{
 "cells": [
  {
   "cell_type": "code",
   "execution_count": 1,
   "outputs": [],
   "source": [
    "import numpy as np\n",
    "from sklearn import datasets\n",
    "from sklearn.model_selection import  train_test_split\n",
    "from LinearRegression import LinearRegression"
   ],
   "metadata": {
    "collapsed": false,
    "pycharm": {
     "name": "#%%\n",
     "is_executing": false
    }
   }
  },
  {
   "cell_type": "code",
   "execution_count": 2,
   "outputs": [],
   "source": [
    "boston = datasets.load_boston() # 波士顿房产数据集\n",
    "X = boston.data\n",
    "y = boston.target\n",
    "\n",
    "X = X[y < np.max(y)]\n",
    "y = y[y < np.max(y)] # 剔除异常值(上限点)\n",
    "X_train, X_test, y_train, y_test = train_test_split(X, y, test_size=0.33)"
   ],
   "metadata": {
    "collapsed": false,
    "pycharm": {
     "name": "#%%\n",
     "is_executing": false
    }
   }
  },
  {
   "cell_type": "code",
   "execution_count": 3,
   "outputs": [
    {
     "name": "stdout",
     "text": [
      "Wall time: 6.98 ms\n"
     ],
     "output_type": "stream"
    },
    {
     "data": {
      "text/plain": "<LinearRegression.LinearRegression at 0x17eeee785c8>"
     },
     "metadata": {},
     "output_type": "execute_result",
     "execution_count": 3
    }
   ],
   "source": [
    "lin_reg1 = LinearRegression()\n",
    "%time lin_reg1.fit_normal(X_train, y_train) # 正规方程求解多元线性回归"
   ],
   "metadata": {
    "collapsed": false,
    "pycharm": {
     "name": "#%%\n",
     "is_executing": false
    }
   }
  },
  {
   "cell_type": "code",
   "execution_count": 4,
   "outputs": [
    {
     "data": {
      "text/plain": "0.7750878698625818"
     },
     "metadata": {},
     "output_type": "execute_result",
     "execution_count": 4
    }
   ],
   "source": [
    "y_test_predict = lin_reg1.predict(X_test)\n",
    "lin_reg1.score(y_test, y_test_predict) # 模型的可决系数R平方(正规方程求解)"
   ],
   "metadata": {
    "collapsed": false,
    "pycharm": {
     "name": "#%%\n",
     "is_executing": false
    }
   }
  },
  {
   "cell_type": "code",
   "execution_count": 5,
   "outputs": [
    {
     "name": "stdout",
     "text": [
      "Wall time: 478 ms\n"
     ],
     "output_type": "stream"
    },
    {
     "data": {
      "text/plain": "<LinearRegression.LinearRegression at 0x17eec34c5c8>"
     },
     "metadata": {},
     "output_type": "execute_result",
     "execution_count": 5
    }
   ],
   "source": [
    "from sklearn.preprocessing import StandardScaler\n",
    "\n",
    "standardScaler = StandardScaler()\n",
    "standardScaler.fit(X_train)\n",
    "# 多维特征问题时,使这些特征具有相同或相近的尺度,可以使梯度下降法算法更快地收敛\n",
    "X_train_standard = standardScaler.transform(X_train) # 数据归一化\n",
    "\n",
    "lin_reg2 = LinearRegression() # 批量梯度下降法求解多元线性回归\n",
    "%time lin_reg2.fit_gd(X_train_standard, y_train)"
   ],
   "metadata": {
    "collapsed": false,
    "pycharm": {
     "name": "#%%\n",
     "is_executing": false
    }
   }
  },
  {
   "cell_type": "code",
   "execution_count": 6,
   "outputs": [
    {
     "data": {
      "text/plain": "0.7750718189214196"
     },
     "metadata": {},
     "output_type": "execute_result",
     "execution_count": 6
    }
   ],
   "source": [
    "X_test_standard = standardScaler.transform(X_test)\n",
    "y_test_standard_predict = lin_reg2.predict(X_test_standard)\n",
    "lin_reg2.score(y_test, y_test_standard_predict) # 模型的可决系数R平方(批量梯度下降法求解)"
   ],
   "metadata": {
    "collapsed": false,
    "pycharm": {
     "name": "#%%\n",
     "is_executing": false
    }
   }
  },
  {
   "cell_type": "code",
   "execution_count": 6,
   "outputs": [],
   "source": [
    "\n",
    "\n"
   ],
   "metadata": {
    "collapsed": false,
    "pycharm": {
     "name": "#%%\n",
     "is_executing": false
    }
   }
  }
 ],
 "metadata": {
  "kernelspec": {
   "display_name": "Python 3",
   "language": "python",
   "name": "python3"
  },
  "language_info": {
   "codemirror_mode": {
    "name": "ipython",
    "version": 2
   },
   "file_extension": ".py",
   "mimetype": "text/x-python",
   "name": "python",
   "nbconvert_exporter": "python",
   "pygments_lexer": "ipython2",
   "version": "2.7.6"
  },
  "pycharm": {
   "stem_cell": {
    "cell_type": "raw",
    "source": [],
    "metadata": {
     "collapsed": false
    }
   }
  }
 },
 "nbformat": 4,
 "nbformat_minor": 0
}