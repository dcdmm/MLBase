{
 "cells": [
  {
   "cell_type": "code",
   "execution_count": 37,
   "metadata": {
    "pycharm": {
     "name": "#%%\n"
    }
   },
   "outputs": [],
   "source": [
    "import torch.nn as nn\n",
    "import torch.optim as optim\n",
    "import numpy as np\n",
    "import torch.utils.data as Data\n",
    "import torch"
   ]
  },
  {
   "cell_type": "code",
   "execution_count": 38,
   "metadata": {
    "collapsed": true
   },
   "outputs": [],
   "source": [
    "# 手写数字训练数据集\n",
    "mnist = np.load(\"../../../../Other/datasets/NumPy/mnist.npz\")\n",
    "X_train, y_train, X_test, y_test = torch.unsqueeze(torch.tensor(mnist['x_train']), 1).to(dtype=torch.float32), \\\n",
    "                                   torch.tensor(mnist['y_train']).to(dtype=torch.long), \\\n",
    "                                   torch.unsqueeze(torch.tensor(mnist['x_test']), 1).to(dtype=torch.float32), \\\n",
    "                                   torch.tensor(mnist['y_test']).to(dtype=torch.long)\n",
    "X_train, X_test = X_train / 255.0, X_test / 255.0"
   ]
  },
  {
   "cell_type": "code",
   "execution_count": 39,
   "outputs": [],
   "source": [
    "batch_size = 200\n",
    "train_data = Data.TensorDataset(X_train, y_train)\n",
    "train_loader = Data.DataLoader(dataset=train_data,\n",
    "                               batch_size=batch_size,\n",
    "                               shuffle=True)\n",
    "train_X = Data.DataLoader(X_train, batch_size=batch_size)\n",
    "test_X = Data.DataLoader(X_test, batch_size=batch_size)"
   ],
   "metadata": {
    "collapsed": false,
    "pycharm": {
     "name": "#%%\n"
    }
   }
  },
  {
   "cell_type": "code",
   "execution_count": 40,
   "metadata": {
    "pycharm": {
     "name": "#%%\n"
    }
   },
   "outputs": [],
   "source": [
    "class LeNet(nn.Module):\n",
    "    def __init__(self):\n",
    "        super(LeNet, self).__init__()\n",
    "        self.featrues = nn.Sequential(  # 内部实现了forward函数;各模块顺序执行\n",
    "            nn.Conv2d(1, 6, 3),\n",
    "            nn.ReLU(),\n",
    "            nn.MaxPool2d(2, 2),\n",
    "            nn.Conv2d(6, 16, 3),\n",
    "            nn.ReLU(),\n",
    "            nn.MaxPool2d(2, 2)\n",
    "        )\n",
    "        self.classifier = nn.Sequential(\n",
    "            nn.Linear(400, 120),\n",
    "            nn.ReLU(),\n",
    "            nn.Linear(120, 84),\n",
    "            nn.ReLU(),\n",
    "            nn.Linear(84, 10),  # 10分类问题\n",
    "        )\n",
    "\n",
    "    def forward(self, x):\n",
    "        x = self.featrues(x)\n",
    "        x = x.reshape(x.size()[0], -1)\n",
    "        x = self.classifier(x)\n",
    "        return x"
   ]
  },
  {
   "cell_type": "code",
   "execution_count": 41,
   "metadata": {
    "pycharm": {
     "name": "#%%\n"
    }
   },
   "outputs": [],
   "source": [
    "learning_rate = 0.01\n",
    "criteon = nn.CrossEntropyLoss()  # 定义损失函数为交叉熵\n",
    "device = torch.device(\"cuda\" if torch.cuda.is_available() else \"cpu\")\n",
    "net = LeNet()\n",
    "lenet = net.to(device)  # 模型设备转移必须在优化器定义前执行\n",
    "\n",
    "# RMSprop优化器\n",
    "optimizer = optim.RMSprop(net.parameters(),\n",
    "                          lr=learning_rate,  # 学习率\n",
    "                          momentum=0.4,  # 动量参数\\alpha;默认momentum=0\n",
    "                          alpha=0.9,  # 衰减速率\\rho\n",
    "                          eps=1e-10)  # 分母中的小常数\\delta"
   ]
  },
  {
   "cell_type": "code",
   "execution_count": 42,
   "outputs": [],
   "source": [
    "from torch_model.train_evaluate import Train_Evaluate\n",
    "\n",
    "t_and_v = Train_Evaluate(model=lenet, optimizer=optimizer, criterion=criteon, epochs=5)"
   ],
   "metadata": {
    "collapsed": false,
    "pycharm": {
     "name": "#%%\n"
    }
   }
  },
  {
   "cell_type": "code",
   "execution_count": 43,
   "outputs": [
    {
     "name": "stdout",
     "output_type": "stream",
     "text": [
      "Train Epoch: 0  [0    /60000 (0  %)]\tLoss: 2.304123\n",
      "Train Epoch: 0  [2000 /60000 (3  %)]\tLoss: 2.280261\n",
      "Train Epoch: 0  [4000 /60000 (7  %)]\tLoss: 1.824708\n",
      "Train Epoch: 0  [6000 /60000 (10 %)]\tLoss: 0.865382\n",
      "Train Epoch: 0  [8000 /60000 (13 %)]\tLoss: 0.500940\n",
      "Train Epoch: 0  [10000/60000 (17 %)]\tLoss: 0.312089\n",
      "Train Epoch: 0  [12000/60000 (20 %)]\tLoss: 0.306018\n",
      "Train Epoch: 0  [14000/60000 (23 %)]\tLoss: 0.241783\n",
      "Train Epoch: 0  [16000/60000 (27 %)]\tLoss: 0.155759\n",
      "Train Epoch: 0  [18000/60000 (30 %)]\tLoss: 0.216600\n",
      "Train Epoch: 0  [20000/60000 (33 %)]\tLoss: 0.151453\n",
      "Train Epoch: 0  [22000/60000 (37 %)]\tLoss: 0.231087\n",
      "Train Epoch: 0  [24000/60000 (40 %)]\tLoss: 0.257188\n",
      "Train Epoch: 0  [26000/60000 (43 %)]\tLoss: 0.126243\n",
      "Train Epoch: 0  [28000/60000 (47 %)]\tLoss: 0.216057\n",
      "Train Epoch: 0  [30000/60000 (50 %)]\tLoss: 0.119573\n",
      "Train Epoch: 0  [32000/60000 (53 %)]\tLoss: 0.098021\n",
      "Train Epoch: 0  [34000/60000 (57 %)]\tLoss: 0.145877\n",
      "Train Epoch: 0  [36000/60000 (60 %)]\tLoss: 0.078281\n",
      "Train Epoch: 0  [38000/60000 (63 %)]\tLoss: 0.230225\n",
      "Train Epoch: 0  [40000/60000 (67 %)]\tLoss: 0.116796\n",
      "Train Epoch: 0  [42000/60000 (70 %)]\tLoss: 0.150623\n",
      "Train Epoch: 0  [44000/60000 (73 %)]\tLoss: 0.187523\n",
      "Train Epoch: 0  [46000/60000 (77 %)]\tLoss: 0.089230\n",
      "Train Epoch: 0  [48000/60000 (80 %)]\tLoss: 0.111837\n",
      "Train Epoch: 0  [50000/60000 (83 %)]\tLoss: 0.044653\n",
      "Train Epoch: 0  [52000/60000 (87 %)]\tLoss: 0.103720\n",
      "Train Epoch: 0  [54000/60000 (90 %)]\tLoss: 0.141623\n",
      "Train Epoch: 0  [56000/60000 (93 %)]\tLoss: 0.186316\n",
      "Train Epoch: 0  [58000/60000 (97 %)]\tLoss: 0.123778\n",
      "Train Epoch: 0  [60000/60000 (100%)]\tLoss: 0.088212\n",
      "----------------------------------------------------------------------------------------------------\n",
      "Train Epoch: 1  [0    /60000 (0  %)]\tLoss: 0.040983\n",
      "Train Epoch: 1  [2000 /60000 (3  %)]\tLoss: 0.117481\n",
      "Train Epoch: 1  [4000 /60000 (7  %)]\tLoss: 0.144792\n",
      "Train Epoch: 1  [6000 /60000 (10 %)]\tLoss: 0.128017\n",
      "Train Epoch: 1  [8000 /60000 (13 %)]\tLoss: 0.081969\n",
      "Train Epoch: 1  [10000/60000 (17 %)]\tLoss: 0.145490\n",
      "Train Epoch: 1  [12000/60000 (20 %)]\tLoss: 0.101937\n",
      "Train Epoch: 1  [14000/60000 (23 %)]\tLoss: 0.084850\n",
      "Train Epoch: 1  [16000/60000 (27 %)]\tLoss: 0.068991\n",
      "Train Epoch: 1  [18000/60000 (30 %)]\tLoss: 0.037215\n",
      "Train Epoch: 1  [20000/60000 (33 %)]\tLoss: 0.195621\n",
      "Train Epoch: 1  [22000/60000 (37 %)]\tLoss: 0.154863\n",
      "Train Epoch: 1  [24000/60000 (40 %)]\tLoss: 0.160849\n",
      "Train Epoch: 1  [26000/60000 (43 %)]\tLoss: 0.043265\n",
      "Train Epoch: 1  [28000/60000 (47 %)]\tLoss: 0.078247\n",
      "Train Epoch: 1  [30000/60000 (50 %)]\tLoss: 0.179374\n",
      "Train Epoch: 1  [32000/60000 (53 %)]\tLoss: 0.149897\n",
      "Train Epoch: 1  [34000/60000 (57 %)]\tLoss: 0.196304\n",
      "Train Epoch: 1  [36000/60000 (60 %)]\tLoss: 0.127471\n",
      "Train Epoch: 1  [38000/60000 (63 %)]\tLoss: 0.060887\n",
      "Train Epoch: 1  [40000/60000 (67 %)]\tLoss: 0.104199\n",
      "Train Epoch: 1  [42000/60000 (70 %)]\tLoss: 0.079838\n",
      "Train Epoch: 1  [44000/60000 (73 %)]\tLoss: 0.210804\n",
      "Train Epoch: 1  [46000/60000 (77 %)]\tLoss: 0.072458\n",
      "Train Epoch: 1  [48000/60000 (80 %)]\tLoss: 0.050965\n",
      "Train Epoch: 1  [50000/60000 (83 %)]\tLoss: 0.220027\n",
      "Train Epoch: 1  [52000/60000 (87 %)]\tLoss: 0.087922\n",
      "Train Epoch: 1  [54000/60000 (90 %)]\tLoss: 0.104812\n",
      "Train Epoch: 1  [56000/60000 (93 %)]\tLoss: 0.166436\n",
      "Train Epoch: 1  [58000/60000 (97 %)]\tLoss: 0.064138\n",
      "Train Epoch: 1  [60000/60000 (100%)]\tLoss: 0.025342\n",
      "----------------------------------------------------------------------------------------------------\n",
      "Train Epoch: 2  [0    /60000 (0  %)]\tLoss: 0.159108\n",
      "Train Epoch: 2  [2000 /60000 (3  %)]\tLoss: 0.107622\n",
      "Train Epoch: 2  [4000 /60000 (7  %)]\tLoss: 0.085941\n",
      "Train Epoch: 2  [6000 /60000 (10 %)]\tLoss: 0.077006\n",
      "Train Epoch: 2  [8000 /60000 (13 %)]\tLoss: 0.098292\n",
      "Train Epoch: 2  [10000/60000 (17 %)]\tLoss: 0.103457\n",
      "Train Epoch: 2  [12000/60000 (20 %)]\tLoss: 0.075237\n",
      "Train Epoch: 2  [14000/60000 (23 %)]\tLoss: 0.132197\n",
      "Train Epoch: 2  [16000/60000 (27 %)]\tLoss: 0.131228\n",
      "Train Epoch: 2  [18000/60000 (30 %)]\tLoss: 0.128899\n",
      "Train Epoch: 2  [20000/60000 (33 %)]\tLoss: 0.107573\n",
      "Train Epoch: 2  [22000/60000 (37 %)]\tLoss: 0.020586\n",
      "Train Epoch: 2  [24000/60000 (40 %)]\tLoss: 0.025564\n",
      "Train Epoch: 2  [26000/60000 (43 %)]\tLoss: 0.148913\n",
      "Train Epoch: 2  [28000/60000 (47 %)]\tLoss: 0.157959\n",
      "Train Epoch: 2  [30000/60000 (50 %)]\tLoss: 0.140475\n",
      "Train Epoch: 2  [32000/60000 (53 %)]\tLoss: 0.097297\n",
      "Train Epoch: 2  [34000/60000 (57 %)]\tLoss: 0.051997\n",
      "Train Epoch: 2  [36000/60000 (60 %)]\tLoss: 0.159814\n",
      "Train Epoch: 2  [38000/60000 (63 %)]\tLoss: 0.048497\n",
      "Train Epoch: 2  [40000/60000 (67 %)]\tLoss: 0.082201\n",
      "Train Epoch: 2  [42000/60000 (70 %)]\tLoss: 0.216295\n",
      "Train Epoch: 2  [44000/60000 (73 %)]\tLoss: 0.013615\n",
      "Train Epoch: 2  [46000/60000 (77 %)]\tLoss: 0.080581\n",
      "Train Epoch: 2  [48000/60000 (80 %)]\tLoss: 0.083241\n",
      "Train Epoch: 2  [50000/60000 (83 %)]\tLoss: 0.015333\n",
      "Train Epoch: 2  [52000/60000 (87 %)]\tLoss: 0.046797\n",
      "Train Epoch: 2  [54000/60000 (90 %)]\tLoss: 0.076977\n",
      "Train Epoch: 2  [56000/60000 (93 %)]\tLoss: 0.022078\n",
      "Train Epoch: 2  [58000/60000 (97 %)]\tLoss: 0.127704\n",
      "Train Epoch: 2  [60000/60000 (100%)]\tLoss: 0.118376\n",
      "----------------------------------------------------------------------------------------------------\n",
      "Train Epoch: 3  [0    /60000 (0  %)]\tLoss: 0.120031\n",
      "Train Epoch: 3  [2000 /60000 (3  %)]\tLoss: 0.049285\n",
      "Train Epoch: 3  [4000 /60000 (7  %)]\tLoss: 0.168364\n",
      "Train Epoch: 3  [6000 /60000 (10 %)]\tLoss: 0.052476\n",
      "Train Epoch: 3  [8000 /60000 (13 %)]\tLoss: 0.082066\n",
      "Train Epoch: 3  [10000/60000 (17 %)]\tLoss: 0.122078\n",
      "Train Epoch: 3  [12000/60000 (20 %)]\tLoss: 0.077993\n",
      "Train Epoch: 3  [14000/60000 (23 %)]\tLoss: 0.048626\n",
      "Train Epoch: 3  [16000/60000 (27 %)]\tLoss: 0.086455\n",
      "Train Epoch: 3  [18000/60000 (30 %)]\tLoss: 0.042748\n",
      "Train Epoch: 3  [20000/60000 (33 %)]\tLoss: 0.084463\n",
      "Train Epoch: 3  [22000/60000 (37 %)]\tLoss: 0.120493\n",
      "Train Epoch: 3  [24000/60000 (40 %)]\tLoss: 0.063999\n",
      "Train Epoch: 3  [26000/60000 (43 %)]\tLoss: 0.099045\n",
      "Train Epoch: 3  [28000/60000 (47 %)]\tLoss: 0.096871\n",
      "Train Epoch: 3  [30000/60000 (50 %)]\tLoss: 0.118062\n",
      "Train Epoch: 3  [32000/60000 (53 %)]\tLoss: 0.091228\n",
      "Train Epoch: 3  [34000/60000 (57 %)]\tLoss: 0.072600\n",
      "Train Epoch: 3  [36000/60000 (60 %)]\tLoss: 0.217948\n",
      "Train Epoch: 3  [38000/60000 (63 %)]\tLoss: 0.022926\n",
      "Train Epoch: 3  [40000/60000 (67 %)]\tLoss: 0.140035\n",
      "Train Epoch: 3  [42000/60000 (70 %)]\tLoss: 0.079789\n",
      "Train Epoch: 3  [44000/60000 (73 %)]\tLoss: 0.088787\n",
      "Train Epoch: 3  [46000/60000 (77 %)]\tLoss: 0.018201\n",
      "Train Epoch: 3  [48000/60000 (80 %)]\tLoss: 0.096407\n",
      "Train Epoch: 3  [50000/60000 (83 %)]\tLoss: 0.123102\n",
      "Train Epoch: 3  [52000/60000 (87 %)]\tLoss: 0.072492\n",
      "Train Epoch: 3  [54000/60000 (90 %)]\tLoss: 0.076000\n",
      "Train Epoch: 3  [56000/60000 (93 %)]\tLoss: 0.050868\n",
      "Train Epoch: 3  [58000/60000 (97 %)]\tLoss: 0.065931\n",
      "Train Epoch: 3  [60000/60000 (100%)]\tLoss: 0.116342\n",
      "----------------------------------------------------------------------------------------------------\n",
      "Train Epoch: 4  [0    /60000 (0  %)]\tLoss: 0.127730\n",
      "Train Epoch: 4  [2000 /60000 (3  %)]\tLoss: 0.039291\n",
      "Train Epoch: 4  [4000 /60000 (7  %)]\tLoss: 0.055988\n",
      "Train Epoch: 4  [6000 /60000 (10 %)]\tLoss: 0.036515\n",
      "Train Epoch: 4  [8000 /60000 (13 %)]\tLoss: 0.157827\n",
      "Train Epoch: 4  [10000/60000 (17 %)]\tLoss: 0.068016\n",
      "Train Epoch: 4  [12000/60000 (20 %)]\tLoss: 0.102044\n",
      "Train Epoch: 4  [14000/60000 (23 %)]\tLoss: 0.105236\n",
      "Train Epoch: 4  [16000/60000 (27 %)]\tLoss: 0.053818\n",
      "Train Epoch: 4  [18000/60000 (30 %)]\tLoss: 0.092870\n",
      "Train Epoch: 4  [20000/60000 (33 %)]\tLoss: 0.160077\n",
      "Train Epoch: 4  [22000/60000 (37 %)]\tLoss: 0.017088\n",
      "Train Epoch: 4  [24000/60000 (40 %)]\tLoss: 0.099647\n",
      "Train Epoch: 4  [26000/60000 (43 %)]\tLoss: 0.091527\n",
      "Train Epoch: 4  [28000/60000 (47 %)]\tLoss: 0.057522\n",
      "Train Epoch: 4  [30000/60000 (50 %)]\tLoss: 0.042477\n",
      "Train Epoch: 4  [32000/60000 (53 %)]\tLoss: 0.062608\n",
      "Train Epoch: 4  [34000/60000 (57 %)]\tLoss: 0.088067\n",
      "Train Epoch: 4  [36000/60000 (60 %)]\tLoss: 0.083177\n",
      "Train Epoch: 4  [38000/60000 (63 %)]\tLoss: 0.075977\n",
      "Train Epoch: 4  [40000/60000 (67 %)]\tLoss: 0.063027\n",
      "Train Epoch: 4  [42000/60000 (70 %)]\tLoss: 0.153198\n",
      "Train Epoch: 4  [44000/60000 (73 %)]\tLoss: 0.031303\n",
      "Train Epoch: 4  [46000/60000 (77 %)]\tLoss: 0.038490\n",
      "Train Epoch: 4  [48000/60000 (80 %)]\tLoss: 0.061081\n",
      "Train Epoch: 4  [50000/60000 (83 %)]\tLoss: 0.076573\n",
      "Train Epoch: 4  [52000/60000 (87 %)]\tLoss: 0.032830\n",
      "Train Epoch: 4  [54000/60000 (90 %)]\tLoss: 0.104294\n",
      "Train Epoch: 4  [56000/60000 (93 %)]\tLoss: 0.036459\n",
      "Train Epoch: 4  [58000/60000 (97 %)]\tLoss: 0.059944\n",
      "Train Epoch: 4  [60000/60000 (100%)]\tLoss: 0.144201\n",
      "----------------------------------------------------------------------------------------------------\n"
     ]
    },
    {
     "data": {
      "text/plain": "[[0.08570770174264908, 0.08818972110748291],\n [0.08514104783535004, 0.0923006534576416],\n [0.09313888102769852, 0.10468745231628418],\n [0.07586648315191269, 0.09525709599256516],\n [0.07131423056125641, 0.09882934391498566]]"
     },
     "execution_count": 43,
     "metadata": {},
     "output_type": "execute_result"
    }
   ],
   "source": [
    "metric_reslut = t_and_v.train_eval(train_loader=train_loader, valid_sets=[(train_X, y_train), (test_X, y_test)])\n",
    "metric_reslut  # 每一轮验证数据集的损失值"
   ],
   "metadata": {
    "collapsed": false,
    "pycharm": {
     "name": "#%%\n"
    }
   }
  },
  {
   "cell_type": "code",
   "execution_count": 43,
   "outputs": [],
   "source": [],
   "metadata": {
    "collapsed": false,
    "pycharm": {
     "name": "#%%\n"
    }
   }
  }
 ],
 "metadata": {
  "kernelspec": {
   "display_name": "Python 3",
   "language": "python",
   "name": "python3"
  },
  "language_info": {
   "codemirror_mode": {
    "name": "ipython",
    "version": 3
   },
   "file_extension": ".py",
   "mimetype": "text/x-python",
   "name": "python",
   "nbconvert_exporter": "python",
   "pygments_lexer": "ipython3",
   "version": "3.7.7"
  },
  "toc": {
   "base_numbering": 1,
   "nav_menu": {},
   "number_sections": true,
   "sideBar": true,
   "skip_h1_title": false,
   "title_cell": "Table of Contents",
   "title_sidebar": "Contents",
   "toc_cell": false,
   "toc_position": {},
   "toc_section_display": true,
   "toc_window_display": false
  }
 },
 "nbformat": 4,
 "nbformat_minor": 1
}