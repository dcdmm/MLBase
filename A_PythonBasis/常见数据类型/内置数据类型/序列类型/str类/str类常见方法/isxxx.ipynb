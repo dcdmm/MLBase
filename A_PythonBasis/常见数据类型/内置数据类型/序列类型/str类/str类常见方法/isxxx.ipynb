{
 "cells": [
  {
   "cell_type": "code",
   "execution_count": 1,
   "metadata": {
    "collapsed": true
   },
   "outputs": [
    {
     "name": "stdout",
     "output_type": "stream",
     "text": [
      "False\n",
      "False\n",
      "True\n"
     ]
    }
   ],
   "source": [
    "string = \"169dot6\"\n",
    "# Return True if all characters in S are alphabetic and there is at least one character in S, False otherwise.\n",
    "print(string.isalpha())\n",
    "\n",
    "# Return True if all characters in S are digits and there is at least one character in S, False otherwise.\n",
    "print(string.isdigit())\n",
    "\n",
    "#  Return True if all characters in S are alphanumeric and there is at least one character in S, False otherwise.\n",
    "print(string.isalnum())"
   ]
  },
  {
   "cell_type": "code",
   "execution_count": 5,
   "outputs": [
    {
     "name": "stdout",
     "output_type": "stream",
     "text": [
      "True\n",
      "True\n",
      "False\n",
      "True\n",
      "True\n"
     ]
    }
   ],
   "source": [
    "# Return True if the string is a whitespace string, False otherwise.\n",
    "print('  \\n '.isspace())\n",
    "print('  \\t '.isspace())\n",
    "print(''.isspace())\n",
    "print(' '.isspace())\n",
    "print('     '.isspace())"
   ],
   "metadata": {
    "collapsed": false,
    "pycharm": {
     "name": "#%%\n"
    }
   }
  }
 ],
 "metadata": {
  "kernelspec": {
   "display_name": "Python 3",
   "language": "python",
   "name": "python3"
  },
  "language_info": {
   "codemirror_mode": {
    "name": "ipython",
    "version": 2
   },
   "file_extension": ".py",
   "mimetype": "text/x-python",
   "name": "python",
   "nbconvert_exporter": "python",
   "pygments_lexer": "ipython2",
   "version": "2.7.6"
  }
 },
 "nbformat": 4,
 "nbformat_minor": 0
}