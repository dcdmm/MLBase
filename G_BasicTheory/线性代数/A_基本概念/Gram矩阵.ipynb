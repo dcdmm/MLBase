{
 "cells": [
  {
   "cell_type": "markdown",
   "metadata": {
    "collapsed": true,
    "pycharm": {
     "name": "#%% md\n"
    }
   },
   "source": [
    "<font color='red' size=4> 定义:</font>     \n",
    "&emsp;&emsp;$ n $ 维欧式空间中任意$ k(k \\leq n) $个向量 $\\alpha_1 , \\alpha_2, \\dots ,\\alpha_k$的内积组成的矩阵     \n",
    "\\begin{equation}\n",
    "    \\nabla(\\alpha_1 , \\alpha_2, \\dots ,\\alpha_k) = \n",
    "    \\begin{pmatrix}\n",
    "    (\\alpha_1, \\alpha_1) & (\\alpha_1, \\alpha_2) & \\dots & (\\alpha_1, \\alpha_k) \\\\\n",
    "    (\\alpha_2, \\alpha_1) & (\\alpha_2, \\alpha_2) & \\dots & (\\alpha_2, \\alpha_k) \\\\\n",
    "    \\dots                &   \\dots              & \\dots & \\dots                \\\\    \n",
    "    (\\alpha_k, \\alpha_1) & (\\alpha_k, \\alpha_2) & \\dots & (\\alpha_k, \\alpha_k) \\\\\n",
    "\\end{pmatrix} \n",
    "\\end{equation}    \n",
    "成为$ k$ 个向量 $ \\alpha_1 , \\alpha_2, \\dots ,\\alpha_k $ 的格拉姆(Gram)矩阵,它的行列式成为Gram行列式 \n",
    "</font>"
   ]
  },
  {
   "cell_type": "code",
   "execution_count": 12,
   "outputs": [
    {
     "data": {
      "text/plain": "array([[ 14.,  16.,  11.,  -1.,  11.],\n       [ 16.,  38., -25., -35.,  -3.],\n       [ 11., -25.,  82.,  69.,  38.],\n       [ -1., -35.,  69.,  74.,  25.],\n       [ 11.,  -3.,  38.,  25.,  21.]])"
     },
     "metadata": {},
     "output_type": "execute_result",
     "execution_count": 12
    }
   ],
   "source": [
    "import  numpy as np\n",
    "\n",
    "\n",
    "def gram(*args):\n",
    "    \"\"\"计算k个向量的Gram矩阵\"\"\"\n",
    "    length = len(args)\n",
    "    matrix = np.zeros((length, length))\n",
    "    for i in range(length):\n",
    "        for j in range(length):\n",
    "            matrix[i, j] = args[i] @ args[j]\n",
    "            \n",
    "    return matrix\n",
    "\n",
    "vec1 = np.array([1, 2, 3])\n",
    "vec2 = np.array([-3, 2, 5])\n",
    "vec3 = np.array([9, 1, 0])\n",
    "vec4 = np.array([8, -3, -1])\n",
    "vec5 = np.array([4, 2, 1])\n",
    "\n",
    "gram(vec1, vec2, vec3, vec4, vec5)"
   ],
   "metadata": {
    "collapsed": false,
    "pycharm": {
     "name": "#%%\n",
     "is_executing": false
    }
   }
  }
 ],
 "metadata": {
  "kernelspec": {
   "display_name": "Python 3",
   "language": "python",
   "name": "python3"
  },
  "language_info": {
   "codemirror_mode": {
    "name": "ipython",
    "version": 2
   },
   "file_extension": ".py",
   "mimetype": "text/x-python",
   "name": "python",
   "nbconvert_exporter": "python",
   "pygments_lexer": "ipython2",
   "version": "2.7.6"
  },
  "pycharm": {
   "stem_cell": {
    "cell_type": "raw",
    "source": [],
    "metadata": {
     "collapsed": false
    }
   }
  }
 },
 "nbformat": 4,
 "nbformat_minor": 0
}