{
 "cells": [
  {
   "cell_type": "code",
   "execution_count": 157,
   "metadata": {
    "collapsed": true
   },
   "outputs": [],
   "source": [
    "import tensorflow as tf"
   ]
  },
  {
   "cell_type": "markdown",
   "source": [
    "### 参考np.random.binomial/np.random.multinomial"
   ],
   "metadata": {
    "collapsed": false,
    "pycharm": {
     "name": "#%% md\n"
    }
   }
  },
  {
   "cell_type": "code",
   "execution_count": 158,
   "outputs": [
    {
     "data": {
      "text/plain": "<tf.Tensor: shape=(10, 1, 3), dtype=int32, numpy=\narray([[[ 7, 15, 22]],\n\n       [[ 8, 16, 25]],\n\n       [[ 7, 16, 22]],\n\n       [[ 8, 16, 22]],\n\n       [[ 6, 17, 24]],\n\n       [[ 8, 17, 25]],\n\n       [[ 7, 16, 25]],\n\n       [[10, 15, 22]],\n\n       [[ 7, 15, 25]],\n\n       [[ 9, 17, 23]]])>"
     },
     "execution_count": 158,
     "metadata": {},
     "output_type": "execute_result"
    }
   ],
   "source": [
    "'''\n",
    "shape\t        A 1-D integer Tensor or Python array. The shape of the output tensor.\n",
    "seed\t        A shape [2] Tensor, the seed to the random number generator.\n",
    "                Must have dtype int32 or int64. (When using XLA, only int32 is allowed.)\n",
    "counts\t        Tensor. The counts of the binomial distribution.\n",
    "                Must be broadcastable with probs, and broadcastable with the rightmost dimensions of shape.\n",
    "probs\t        Tensor. The probability of success for the binomial distribution.\n",
    "                Must be broadcastable with counts and broadcastable with the rightmost dimensions of shape.\n",
    "output_dtype\tThe type of the output. Default: tf.int32\n",
    "'''\n",
    "counts = tf.constant([[10., 20., 30.]])  # Probability of success.\n",
    "probs = tf.constant([0.8])\n",
    "\n",
    "tf.random.stateless_binomial(seed=[1, 2], shape=(10, 1, 3), counts=counts, probs=probs)"
   ],
   "metadata": {
    "collapsed": false,
    "pycharm": {
     "name": "#%%\n"
    }
   }
  },
  {
   "cell_type": "code",
   "execution_count": 159,
   "outputs": [
    {
     "data": {
      "text/plain": "<tf.Tensor: shape=(4, 2, 3), dtype=int32, numpy=\narray([[[ 7, 14, 19],\n        [32, 42, 45]],\n\n       [[ 8, 15, 24],\n        [32, 41, 52]],\n\n       [[ 7, 14, 23],\n        [36, 38, 48]],\n\n       [[ 8, 18, 23],\n        [32, 39, 47]]])>"
     },
     "execution_count": 159,
     "metadata": {},
     "output_type": "execute_result"
    }
   ],
   "source": [
    "'''\n",
    "解析:\n",
    "counts.shape=[2, 3]\n",
    "probs.shape=[1]\n",
    "shape=(4, 2, 3)\n",
    "\n",
    "[1] boradcasting [2, 3] --> [2, 3]\n",
    "[2, 3] boradcasting [4, 2, 3] --> [4, 2, 3]\n",
    "'''\n",
    "counts = tf.constant([[10., 20., 30.],\n",
    "                      [40., 50., 60.]])\n",
    "probs = tf.constant([0.8])\n",
    "\n",
    "tf.random.stateless_binomial(seed=[1, 2], shape=(4, 2, 3), counts=counts, probs=probs)"
   ],
   "metadata": {
    "collapsed": false,
    "pycharm": {
     "name": "#%%\n"
    }
   }
  },
  {
   "cell_type": "code",
   "execution_count": 159,
   "outputs": [],
   "source": [],
   "metadata": {
    "collapsed": false,
    "pycharm": {
     "name": "#%%\n"
    }
   }
  }
 ],
 "metadata": {
  "kernelspec": {
   "display_name": "Python 3",
   "language": "python",
   "name": "python3"
  },
  "language_info": {
   "codemirror_mode": {
    "name": "ipython",
    "version": 2
   },
   "file_extension": ".py",
   "mimetype": "text/x-python",
   "name": "python",
   "nbconvert_exporter": "python",
   "pygments_lexer": "ipython2",
   "version": "2.7.6"
  }
 },
 "nbformat": 4,
 "nbformat_minor": 0
}