{
 "cells": [
  {
   "cell_type": "markdown",
   "metadata": {
    "collapsed": true,
    "pycharm": {
     "name": "#%% md\n"
    }
   },
   "source": [
    "<font color='red' size=4> 字典的键的两个特性:</font>\n",
    "\n",
    "1. 不允许一个键对应多个值\n",
    "2. 键必须是可哈希的"
   ]
  },
  {
   "cell_type": "code",
   "execution_count": 2,
   "metadata": {
    "pycharm": {
     "is_executing": false,
     "metadata": false,
     "name": "#%%\n"
    }
   },
   "outputs": [
    {
     "data": {
      "text/plain": [
       "{}"
      ]
     },
     "execution_count": 2,
     "metadata": {},
     "output_type": "execute_result"
    }
   ],
   "source": [
    "\"\"\"\n",
    "dict() -> new empty dictionary\n",
    "dict(mapping) -> new dictionary initialized from a mapping object's\n",
    "    (key, value) pairs\n",
    "dict(iterable) -> new dictionary initialized as if via:\n",
    "    d = {}\n",
    "    for k, v in iterable:\n",
    "        d[k] = v\n",
    "dict(**kwargs) -> new dictionary initialized with the name=value pairs\n",
    "    in the keyword argument list.  For example:  dict(one=1, two=2)\n",
    "# (copied from class doc)\n",
    "\"\"\"\n",
    "empty = {}  # 创建一个空字典\n",
    "empty1 = dict()  # 同上\n",
    "empty"
   ]
  },
  {
   "cell_type": "code",
   "execution_count": 3,
   "metadata": {
    "pycharm": {
     "is_executing": false,
     "metadata": false,
     "name": "#%%\n"
    }
   },
   "outputs": [
    {
     "data": {
      "text/plain": [
       "{'f': 70, 'i': 105, 's': 115, 'h': 104, 'c': 67}"
      ]
     },
     "execution_count": 3,
     "metadata": {},
     "output_type": "execute_result"
    }
   ],
   "source": [
    "# 创建字典方法一:\n",
    "dict1 = dict((('f', 70), ('i', 105), ('s', 115), ('h', 104), ('c', 67)))\n",
    "dict1"
   ]
  },
  {
   "cell_type": "code",
   "execution_count": 5,
   "metadata": {
    "pycharm": {
     "is_executing": false,
     "metadata": false,
     "name": "#%%\n"
    }
   },
   "outputs": [
    {
     "data": {
      "text/plain": [
       "{'f': 70, 'i': 105, 's': 115, 'h': 104, 'c': 67}"
      ]
     },
     "execution_count": 5,
     "metadata": {},
     "output_type": "execute_result"
    }
   ],
   "source": [
    "# 创建字典方法二:\n",
    "dict2 = dict(zip(['f', 'i', 's', 'h', 'c'], [70, 105, 115, 104, 67]))\n",
    "dict2"
   ]
  },
  {
   "cell_type": "code",
   "execution_count": 6,
   "metadata": {
    "pycharm": {
     "is_executing": false,
     "metadata": false,
     "name": "#%%\n"
    }
   },
   "outputs": [
    {
     "data": {
      "text/plain": [
       "{'f': 70, 'i': 105, 's': 115, 'h': 104, 'c': 67}"
      ]
     },
     "execution_count": 6,
     "metadata": {},
     "output_type": "execute_result"
    }
   ],
   "source": [
    "# 创建字典方法三:\n",
    "dict3 = {'f': 70, 'i': 105, 's': 115, 'h': 104, 'c': 67}\n",
    "dict3"
   ]
  },
  {
   "cell_type": "code",
   "execution_count": 8,
   "metadata": {
    "pycharm": {
     "is_executing": false,
     "metadata": false,
     "name": "#%%\n"
    }
   },
   "outputs": [
    {
     "data": {
      "text/plain": [
       "{'f': 70, 'i': 105, 's': 115, 'h': 104, 'c': 67}"
      ]
     },
     "execution_count": 8,
     "metadata": {},
     "output_type": "execute_result"
    }
   ],
   "source": [
    "# 创建字典方法四:(键的位置不能加上字符串的引号,否则会报错)\n",
    "dict4 = dict(f=70, i=105, s=115, h=104, c=67)\n",
    "dict4"
   ]
  },
  {
   "cell_type": "code",
   "execution_count": 9,
   "metadata": {
    "pycharm": {
     "is_executing": false,
     "metadata": false,
     "name": "#%%\n"
    }
   },
   "outputs": [
    {
     "data": {
      "text/plain": [
       "{'name': 'Sue Jones', 'age': '45', 'pay': '40000', 'job': 'hdw'}"
      ]
     },
     "execution_count": 9,
     "metadata": {},
     "output_type": "execute_result"
    }
   ],
   "source": [
    "# 创建字典方法五:\n",
    "dict5 = {}\n",
    "dict5['name'] = 'Sue Jones'\n",
    "dict5['age'] = '45'\n",
    "dict5['pay'] = '40000'\n",
    "dict5['job'] = 'hdw'\n",
    "dict5"
   ]
  },
  {
   "cell_type": "code",
   "execution_count": 1,
   "metadata": {
    "pycharm": {
     "is_executing": false,
     "metadata": false,
     "name": "#%%\n"
    }
   },
   "outputs": [
    {
     "name": "stdout",
     "output_type": "stream",
     "text": [
      "70\n",
      "{'f': 70, 'i': 105, 's': 115, 'h': 104, 'c': 67, 'x': 98}\n",
      "{'f': 70, 'i': 105, 's': 115, 'h': 104, 'c': 67, 'x': 120}\n",
      "{'i': 105, 's': 115, 'h': 104, 'c': 67, 'x': 120}\n",
      "{}\n"
     ]
    },
    {
     "ename": "NameError",
     "evalue": "name 'dict6' is not defined",
     "output_type": "error",
     "traceback": [
      "\u001b[1;31m---------------------------------------------------------------------------\u001b[0m",
      "\u001b[1;31mNameError\u001b[0m                                 Traceback (most recent call last)",
      "\u001b[1;32m<ipython-input-1-d6370696323b>\u001b[0m in \u001b[0;36m<module>\u001b[1;34m\u001b[0m\n\u001b[0;32m     10\u001b[0m \u001b[0mprint\u001b[0m\u001b[1;33m(\u001b[0m\u001b[0mdict6\u001b[0m\u001b[1;33m)\u001b[0m\u001b[1;33m\u001b[0m\u001b[1;33m\u001b[0m\u001b[0m\n\u001b[0;32m     11\u001b[0m \u001b[1;32mdel\u001b[0m \u001b[0mdict6\u001b[0m          \u001b[1;31m# 删除字典dict8\u001b[0m\u001b[1;33m\u001b[0m\u001b[1;33m\u001b[0m\u001b[0m\n\u001b[1;32m---> 12\u001b[1;33m \u001b[0mprint\u001b[0m\u001b[1;33m(\u001b[0m\u001b[0mdict6\u001b[0m\u001b[1;33m)\u001b[0m\u001b[1;33m\u001b[0m\u001b[1;33m\u001b[0m\u001b[0m\n\u001b[0m\u001b[0;32m     13\u001b[0m \u001b[1;33m\u001b[0m\u001b[0m\n",
      "\u001b[1;31mNameError\u001b[0m: name 'dict6' is not defined"
     ]
    }
   ],
   "source": [
    "dict6 = {'f': 70, 'i': 105, 's': 115, 'h': 104, 'c': 67}\n",
    "print(dict6['f'])  # 字典的索引\n",
    "dict6['x'] = 98  # 键'x'不存在,创建一个新的键并赋值\n",
    "print(dict6)\n",
    "dict6['x'] = 120  # 键'x'存在,则改写键对应的值\n",
    "print(dict6)\n",
    "del dict6['f']  # 从字典中删除键及其关联的值\n",
    "print(dict6)\n",
    "dict6.clear()  # 清空字典内容\n",
    "print(dict6)\n",
    "del dict6  # 删除字典dict8\n",
    "print(dict6)"
   ]
  },
  {
   "cell_type": "code",
   "execution_count": 3,
   "metadata": {
    "pycharm": {
     "is_executing": false,
     "metadata": false,
     "name": "#%%\n"
    }
   },
   "outputs": [
    {
     "data": {
      "text/plain": [
       "{'a': 2}"
      ]
     },
     "execution_count": 3,
     "metadata": {},
     "output_type": "execute_result"
    }
   ],
   "source": [
    "dict7 = {'a': 1}\n",
    "dict7['a'] += 1\n",
    "dict7"
   ]
  },
  {
   "cell_type": "code",
   "execution_count": 1,
   "metadata": {
    "collapsed": false,
    "pycharm": {
     "is_executing": false,
     "name": "#%%\n"
    }
   },
   "outputs": [
    {
     "data": {
      "text/plain": [
       "{'b': [3, 4, 5, 6]}"
      ]
     },
     "execution_count": 1,
     "metadata": {},
     "output_type": "execute_result"
    }
   ],
   "source": [
    "dic8 = {'b': [3, 4, 5]}\n",
    "dic8['b'].append(6)\n",
    "dic8"
   ]
  }
 ],
 "metadata": {
  "kernelspec": {
   "display_name": "Python 3",
   "language": "python",
   "name": "python3"
  },
  "language_info": {
   "codemirror_mode": {
    "name": "ipython",
    "version": 2
   },
   "file_extension": ".py",
   "mimetype": "text/x-python",
   "name": "python",
   "nbconvert_exporter": "python",
   "pygments_lexer": "ipython2",
   "version": "2.7.6"
  }
 },
 "nbformat": 4,
 "nbformat_minor": 0
}
