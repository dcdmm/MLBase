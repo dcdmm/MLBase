{
 "cells": [
  {
   "cell_type": "code",
   "execution_count": 1,
   "metadata": {
    "collapsed": true
   },
   "outputs": [],
   "source": [
    "import numpy as np\n",
    "from sklearn.preprocessing import OrdinalEncoder"
   ]
  },
  {
   "cell_type": "code",
   "execution_count": 2,
   "outputs": [
    {
     "data": {
      "text/plain": "array([[-2.1],\n       [ 1. ],\n       [ 0. ],\n       [ 2.5],\n       [ 5.1],\n       [-2.1],\n       [ 3.5],\n       [ 0. ],\n       [-4. ],\n       [-2.1],\n       [ 0. ],\n       [ 3.5],\n       [ 2.5],\n       [ 5.1],\n       [-1. ],\n       [-2.1]])"
     },
     "execution_count": 2,
     "metadata": {},
     "output_type": "execute_result"
    }
   ],
   "source": [
    "arr = np.array([-2.1, 1, 0, 2.5, 5.1, -2.1, 3.5, 0, 1\n",
    "                - 5, -2.1, 0, 3.5, 2.5, 5.1, -1, -2.1]).reshape(-1, 1)\n",
    "arr"
   ],
   "metadata": {
    "collapsed": false,
    "pycharm": {
     "name": "#%%\n"
    }
   }
  },
  {
   "cell_type": "code",
   "execution_count": 3,
   "outputs": [
    {
     "data": {
      "text/plain": "array([1, 4, 3, 5, 7, 1, 6, 3, 0, 1, 3, 6, 5, 7, 2, 1])"
     },
     "execution_count": 3,
     "metadata": {},
     "output_type": "execute_result"
    }
   ],
   "source": [
    "enc = OrdinalEncoder()\n",
    "arr_enc = enc.fit_transform(arr).astype(np.int_).reshape(-1, )\n",
    "arr_enc"
   ],
   "metadata": {
    "collapsed": false,
    "pycharm": {
     "name": "#%%\n"
    }
   }
  },
  {
   "cell_type": "code",
   "execution_count": 4,
   "outputs": [
    {
     "data": {
      "text/plain": "array([1, 4, 1, 3, 1, 2, 2, 2], dtype=int64)"
     },
     "execution_count": 4,
     "metadata": {},
     "output_type": "execute_result"
    }
   ],
   "source": [
    "# Count number of occurrences of each value in array of non-negative ints.\n",
    "freq = np.bincount(arr_enc)  # 要求:arr_enc.shape=(-1, ),arr_enc元素为非负整数\n",
    "# 元素0的频率为1\n",
    "# 元素1的频率为4\n",
    "# 元素2的频率为1\n",
    "# 元素3的频率为3\n",
    "# 元素4的频率为1\n",
    "# 元素5的频率为2\n",
    "# 元素6的频率为2\n",
    "# 元素7的频率为2\n",
    "freq"
   ],
   "metadata": {
    "collapsed": false,
    "pycharm": {
     "name": "#%%\n"
    }
   }
  },
  {
   "cell_type": "code",
   "execution_count": 5,
   "outputs": [
    {
     "data": {
      "text/plain": "1"
     },
     "execution_count": 5,
     "metadata": {},
     "output_type": "execute_result"
    }
   ],
   "source": [
    "max_freq = np.argmax(freq)  # 频率最大的元素\n",
    "max_freq"
   ],
   "metadata": {
    "collapsed": false,
    "pycharm": {
     "name": "#%%\n"
    }
   }
  },
  {
   "cell_type": "code",
   "execution_count": 6,
   "outputs": [
    {
     "data": {
      "text/plain": "array([[-2.1]])"
     },
     "execution_count": 6,
     "metadata": {},
     "output_type": "execute_result"
    }
   ],
   "source": [
    "# Convert the data back to the original representation.\n",
    "enc.inverse_transform(np.array([[max_freq]]))"
   ],
   "metadata": {
    "collapsed": false,
    "pycharm": {
     "name": "#%%\n"
    }
   }
  },
  {
   "cell_type": "code",
   "execution_count": 6,
   "outputs": [],
   "source": [],
   "metadata": {
    "collapsed": false,
    "pycharm": {
     "name": "#%%\n"
    }
   }
  }
 ],
 "metadata": {
  "kernelspec": {
   "display_name": "Python 3",
   "language": "python",
   "name": "python3"
  },
  "language_info": {
   "codemirror_mode": {
    "name": "ipython",
    "version": 2
   },
   "file_extension": ".py",
   "mimetype": "text/x-python",
   "name": "python",
   "nbconvert_exporter": "python",
   "pygments_lexer": "ipython2",
   "version": "2.7.6"
  }
 },
 "nbformat": 4,
 "nbformat_minor": 0
}