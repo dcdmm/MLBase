{
 "cells": [
  {
   "cell_type": "code",
   "execution_count": 49,
   "metadata": {
    "collapsed": true
   },
   "outputs": [],
   "source": [
    "from scipy import stats\n",
    "from sklearn import preprocessing"
   ]
  },
  {
   "cell_type": "code",
   "execution_count": 50,
   "outputs": [],
   "source": [
    "sample1 = stats.uniform.rvs(size=500, random_state=1)\n",
    "sample2 = stats.norm.rvs(size=500, random_state=2)\n",
    "sample3 = stats.norm.rvs(size=500, loc=0.5, random_state=2)"
   ],
   "metadata": {
    "collapsed": false,
    "pycharm": {
     "name": "#%%\n"
    }
   }
  },
  {
   "cell_type": "code",
   "execution_count": 51,
   "outputs": [
    {
     "name": "stdout",
     "output_type": "stream",
     "text": [
      "KstestResult(statistic=0.5000456289503525, pvalue=3.904685614208365e-116)\n",
      "KstestResult(statistic=0.028486071435558508, pvalue=0.8118908534258023)\n",
      "KstestResult(statistic=0.19802340936912177, pvalue=1.1723126729061415e-17)\n"
     ]
    }
   ],
   "source": [
    "# p值低于阈值0.05,拒绝原假设,sample1不来自标准正态分布\n",
    "print(stats.kstest(sample1, stats.norm.cdf))  # Kolmogorov-Smirnov test\n",
    "\n",
    "# p值不低于阈值0.05,接受原假设,sample2来自标准正态分布\n",
    "print(stats.kstest(sample2, stats.norm.cdf))\n",
    "\n",
    "# p值低于阈值0.05,拒绝原假设,sample3不来自标准正态分布\n",
    "print(stats.kstest(sample3, stats.norm.cdf))"
   ],
   "metadata": {
    "collapsed": false,
    "pycharm": {
     "name": "#%%\n"
    }
   }
  },
  {
   "cell_type": "code",
   "execution_count": 52,
   "outputs": [
    {
     "name": "stdout",
     "output_type": "stream",
     "text": [
      "KstestResult(statistic=0.029121875570899403, pvalue=0.7901755452997481)\n"
     ]
    }
   ],
   "source": [
    "standardScalar3 = preprocessing.StandardScaler()\n",
    "# 对sample2进行均值方差缩放\n",
    "sample3_ = standardScalar3.fit_transform(sample3.reshape(-1, 1))\n",
    "sample3_ = sample3_.reshape(-1, )\n",
    "\n",
    "# p值不低于阈值0.05,接受原假设,sample2_(经sample2_缩放后的)来自标准正态分布\n",
    "print(stats.kstest(sample3_, stats.norm.cdf))"
   ],
   "metadata": {
    "collapsed": false,
    "pycharm": {
     "name": "#%%\n"
    }
   }
  },
  {
   "cell_type": "code",
   "execution_count": 53,
   "outputs": [
    {
     "name": "stdout",
     "output_type": "stream",
     "text": [
      "KstestResult(statistic=0.07450417332372261, pvalue=0.0073587688037719725)\n"
     ]
    }
   ],
   "source": [
    "standardScalar1 = preprocessing.StandardScaler()\n",
    "# 对sample1进行均值方差缩放\n",
    "sample1_ = standardScalar1.fit_transform(sample1.reshape(-1, 1))\n",
    "sample1_ = sample1_.reshape(-1, )\n",
    "\n",
    "# p值低于阈值0.05,拒绝原假设,sample1_仍不来自标准正态分布\n",
    "print(stats.kstest(sample1_, stats.norm.cdf))"
   ],
   "metadata": {
    "collapsed": false,
    "pycharm": {
     "name": "#%%\n"
    }
   }
  }
 ],
 "metadata": {
  "kernelspec": {
   "display_name": "Python 3",
   "language": "python",
   "name": "python3"
  },
  "language_info": {
   "codemirror_mode": {
    "name": "ipython",
    "version": 2
   },
   "file_extension": ".py",
   "mimetype": "text/x-python",
   "name": "python",
   "nbconvert_exporter": "python",
   "pygments_lexer": "ipython2",
   "version": "2.7.6"
  }
 },
 "nbformat": 4,
 "nbformat_minor": 0
}