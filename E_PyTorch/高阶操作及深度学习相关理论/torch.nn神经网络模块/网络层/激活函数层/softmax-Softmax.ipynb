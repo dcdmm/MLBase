{
 "cells": [
  {
   "cell_type": "markdown",
   "metadata": {
    "collapsed": true,
    "pycharm": {
     "name": "#%% md\n"
    }
   },
   "source": [
    "$$ \\operatorname{Softmax}\\left(x_{i}\\right)=\\frac{\\exp \\left(x_{i}\\right)}{\\sum_{j} \\exp \\left(x_{j}\\right)} $$"
   ]
  },
  {
   "cell_type": "code",
   "execution_count": 5,
   "outputs": [],
   "source": [
    "import torch\n",
    "import torch.nn.functional as F\n",
    "import matplotlib.pyplot as plt\n",
    "import torch.nn as nn"
   ],
   "metadata": {
    "collapsed": false,
    "pycharm": {
     "name": "#%%\n"
    }
   }
  },
  {
   "cell_type": "code",
   "execution_count": 6,
   "outputs": [
    {
     "data": {
      "text/plain": "[<matplotlib.lines.Line2D at 0x116245521c8>]"
     },
     "execution_count": 6,
     "metadata": {},
     "output_type": "execute_result"
    },
    {
     "data": {
      "text/plain": "<Figure size 432x288 with 1 Axes>",
      "image/png": "[encoded data removed]"
     },
     "metadata": {
      "needs_background": "light"
     },
     "output_type": "display_data"
    }
   ],
   "source": [
    "x = torch.linspace(-5, 5, 200)\n",
    "softmax_f = F.softmax(x, dim=0)\n",
    "\n",
    "plt.plot(x, softmax_f)"
   ],
   "metadata": {
    "collapsed": false,
    "pycharm": {
     "name": "#%%\n"
    }
   }
  },
  {
   "cell_type": "code",
   "execution_count": 7,
   "outputs": [
    {
     "data": {
      "text/plain": "tensor([2.2251e-06, 2.3398e-06, 2.4604e-06, 2.5872e-06, 2.7205e-06, 2.8607e-06,\n        3.0081e-06, 3.1632e-06, 3.3262e-06, 3.4976e-06, 3.6778e-06, 3.8674e-06,\n        4.0667e-06, 4.2763e-06, 4.4966e-06, 4.7284e-06, 4.9721e-06, 5.2283e-06,\n        5.4977e-06, 5.7811e-06, 6.0790e-06, 6.3923e-06, 6.7217e-06, 7.0681e-06,\n        7.4324e-06, 7.8154e-06, 8.2182e-06, 8.6417e-06, 9.0870e-06, 9.5553e-06,\n        1.0048e-05, 1.0566e-05, 1.1110e-05, 1.1683e-05, 1.2285e-05, 1.2918e-05,\n        1.3584e-05, 1.4284e-05, 1.5020e-05, 1.5794e-05, 1.6608e-05, 1.7464e-05,\n        1.8364e-05, 1.9310e-05, 2.0305e-05, 2.1351e-05, 2.2452e-05, 2.3609e-05,\n        2.4826e-05, 2.6105e-05, 2.7450e-05, 2.8865e-05, 3.0352e-05, 3.1917e-05,\n        3.3562e-05, 3.5291e-05, 3.7110e-05, 3.9022e-05, 4.1033e-05, 4.3148e-05,\n        4.5372e-05, 4.7710e-05, 5.0169e-05, 5.2754e-05, 5.5473e-05, 5.8332e-05,\n        6.1338e-05, 6.4499e-05, 6.7823e-05, 7.1318e-05, 7.4993e-05, 7.8858e-05,\n        8.2922e-05, 8.7196e-05, 9.1689e-05, 9.6415e-05, 1.0138e-04, 1.0661e-04,\n        1.1210e-04, 1.1788e-04, 1.2395e-04, 1.3034e-04, 1.3706e-04, 1.4412e-04,\n        1.5155e-04, 1.5936e-04, 1.6757e-04, 1.7621e-04, 1.8529e-04, 1.9484e-04,\n        2.0488e-04, 2.1544e-04, 2.2654e-04, 2.3822e-04, 2.5049e-04, 2.6340e-04,\n        2.7698e-04, 2.9125e-04, 3.0626e-04, 3.2204e-04, 3.3864e-04, 3.5609e-04,\n        3.7444e-04, 3.9374e-04, 4.1403e-04, 4.3537e-04, 4.5781e-04, 4.8140e-04,\n        5.0621e-04, 5.3230e-04, 5.5973e-04, 5.8857e-04, 6.1891e-04, 6.5080e-04,\n        6.8434e-04, 7.1961e-04, 7.5669e-04, 7.9569e-04, 8.3670e-04, 8.7982e-04,\n        9.2516e-04, 9.7284e-04, 1.0230e-03, 1.0757e-03, 1.1311e-03, 1.1894e-03,\n        1.2507e-03, 1.3152e-03, 1.3830e-03, 1.4542e-03, 1.5292e-03, 1.6080e-03,\n        1.6908e-03, 1.7780e-03, 1.8696e-03, 1.9660e-03, 2.0673e-03, 2.1738e-03,\n        2.2858e-03, 2.4036e-03, 2.5275e-03, 2.6578e-03, 2.7947e-03, 2.9388e-03,\n        3.0902e-03, 3.2495e-03, 3.4169e-03, 3.5930e-03, 3.7782e-03, 3.9729e-03,\n        4.1776e-03, 4.3929e-03, 4.6193e-03, 4.8574e-03, 5.1077e-03, 5.3709e-03,\n        5.6477e-03, 5.9388e-03, 6.2448e-03, 6.5667e-03, 6.9051e-03, 7.2609e-03,\n        7.6351e-03, 8.0286e-03, 8.4424e-03, 8.8775e-03, 9.3350e-03, 9.8160e-03,\n        1.0322e-02, 1.0854e-02, 1.1413e-02, 1.2001e-02, 1.2620e-02, 1.3270e-02,\n        1.3954e-02, 1.4673e-02, 1.5429e-02, 1.6225e-02, 1.7061e-02, 1.7940e-02,\n        1.8865e-02, 1.9837e-02, 2.0859e-02, 2.1934e-02, 2.3064e-02, 2.4253e-02,\n        2.5503e-02, 2.6817e-02, 2.8199e-02, 2.9652e-02, 3.1181e-02, 3.2788e-02,\n        3.4477e-02, 3.6254e-02, 3.8122e-02, 4.0087e-02, 4.2153e-02, 4.4325e-02,\n        4.6610e-02, 4.9012e-02])"
     },
     "execution_count": 7,
     "metadata": {},
     "output_type": "execute_result"
    }
   ],
   "source": [
    "softmax_c = nn.Softmax(dim=0)\n",
    "softmax_c(x)"
   ],
   "metadata": {
    "collapsed": false,
    "pycharm": {
     "name": "#%%\n"
    }
   }
  },
  {
   "cell_type": "code",
   "execution_count": 7,
   "outputs": [],
   "source": [
    "\n"
   ],
   "metadata": {
    "collapsed": false,
    "pycharm": {
     "name": "#%%\n"
    }
   }
  }
 ],
 "metadata": {
  "kernelspec": {
   "display_name": "Python 3",
   "language": "python",
   "name": "python3"
  },
  "language_info": {
   "codemirror_mode": {
    "name": "ipython",
    "version": 2
   },
   "file_extension": ".py",
   "mimetype": "text/x-python",
   "name": "python",
   "nbconvert_exporter": "python",
   "pygments_lexer": "ipython2",
   "version": "2.7.6"
  }
 },
 "nbformat": 4,
 "nbformat_minor": 0
}