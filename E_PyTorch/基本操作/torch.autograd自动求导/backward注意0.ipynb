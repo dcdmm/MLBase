{
 "cells": [
  {
   "cell_type": "code",
   "execution_count": 1,
   "source": [
    "import torch\n",
    "\n",
    "x = torch.tensor([[1., 2., 3.0, 4.0],\n",
    "                  [5., 6., 7.0, 8.0]], requires_grad=True)\n",
    "\n",
    "pr = torch.prod(x)\n",
    "pr"
   ],
   "outputs": [
    {
     "data": {
      "text/plain": "tensor(40320., grad_fn=<ProdBackward0>)"
     },
     "execution_count": 1,
     "metadata": {},
     "output_type": "execute_result"
    }
   ],
   "metadata": {
    "collapsed": true,
    "pycharm": {
     "name": "#%%\n"
    }
   }
  },
  {
   "cell_type": "code",
   "execution_count": 2,
   "outputs": [
    {
     "data": {
      "text/plain": "tensor([[40320., 20160., 13440., 10080.],\n        [ 8064.,  6720.,  5760.,  5040.]])"
     },
     "execution_count": 2,
     "metadata": {},
     "output_type": "execute_result"
    }
   ],
   "source": [
    "pr.backward()\n",
    "x.grad"
   ],
   "metadata": {
    "collapsed": false,
    "pycharm": {
     "name": "#%%\n"
    }
   }
  },
  {
   "cell_type": "code",
   "execution_count": 3,
   "source": [
    "su = x.sum()\n",
    "su.backward()\n",
    "print(x.grad)  # x梯度不清零,梯度累加"
   ],
   "outputs": [
    {
     "name": "stdout",
     "output_type": "stream",
     "text": [
      "tensor([[40321., 20161., 13441., 10081.],\n",
      "        [ 8065.,  6721.,  5761.,  5041.]])\n"
     ]
    }
   ],
   "metadata": {
    "collapsed": false,
    "pycharm": {
     "name": "#%%\n"
    }
   }
  },
  {
   "cell_type": "code",
   "execution_count": 4,
   "source": [
    "me = x.mean()\n",
    "x.grad.zero_()  # 手动使梯度清零\n",
    "me.backward()\n",
    "print(x.grad)  # 得到正确的梯度"
   ],
   "outputs": [
    {
     "name": "stdout",
     "output_type": "stream",
     "text": [
      "tensor([[0.1250, 0.1250, 0.1250, 0.1250],\n",
      "        [0.1250, 0.1250, 0.1250, 0.1250]])\n"
     ]
    }
   ],
   "metadata": {
    "collapsed": false,
    "pycharm": {
     "name": "#%%\n"
    }
   }
  },
  {
   "cell_type": "code",
   "execution_count": 4,
   "source": [
    "\r\n"
   ],
   "outputs": [],
   "metadata": {
    "collapsed": false,
    "pycharm": {
     "name": "#%%\n"
    }
   }
  }
 ],
 "metadata": {
  "kernelspec": {
   "name": "python3",
   "display_name": "Python 3.8.11 64-bit ('base': conda)"
  },
  "language_info": {
   "name": "python",
   "version": "3.8.11",
   "mimetype": "text/x-python",
   "codemirror_mode": {
    "name": "ipython",
    "version": 3
   },
   "pygments_lexer": "ipython3",
   "nbconvert_exporter": "python",
   "file_extension": ".py"
  },
  "interpreter": {
   "hash": "7f42f7985a9e76d558e128652df079bec508149d1eda9cc3ea1ae8669a21bab3"
  }
 },
 "nbformat": 4,
 "nbformat_minor": 2
}