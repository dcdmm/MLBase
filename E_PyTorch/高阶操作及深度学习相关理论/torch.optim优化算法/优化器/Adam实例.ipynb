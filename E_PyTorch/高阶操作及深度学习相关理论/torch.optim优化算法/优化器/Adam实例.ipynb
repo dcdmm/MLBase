{
 "cells": [
  {
   "cell_type": "code",
   "execution_count": 1,
   "outputs": [],
   "source": [
    "from abc import ABC\n",
    "import torch.nn as nn\n",
    "import torch.optim as optim\n",
    "import numpy as np\n",
    "import torch.utils.data as Data\n",
    "import torch"
   ],
   "metadata": {
    "collapsed": false,
    "pycharm": {
     "name": "#%%\n"
    }
   }
  },
  {
   "cell_type": "code",
   "execution_count": 2,
   "outputs": [],
   "source": [
    "# 手写数字训练数据集\n",
    "mnist = np.load(\"../../../../Other/datasets/NumPy/mnist.npz\")\n",
    "X_train, y_train, X_test, y_test = torch.unsqueeze(torch.tensor(mnist['x_train']), 1).to(dtype=torch.float32),\n",
    "                                   torch.tensor(mnist['y_train']).to(dtype=torch.long),\n",
    "                                   torch.unsqueeze(torch.tensor(mnist['x_test']), 1).to(dtype=torch.float32),\n",
    "                                   torch.tensor(mnist['y_test']).to(dtype=torch.long)\n",
    "X_train, X_test = X_train / 255.0, X_test / 255.0"
   ],
   "metadata": {
    "collapsed": false,
    "pycharm": {
     "name": "#%%\n"
    }
   }
  },
  {
   "cell_type": "code",
   "execution_count": 3,
   "outputs": [],
   "source": [
    "batch_size = 200\n",
    "train_data = Data.TensorDataset(X_train, y_train)\n",
    "train_loader = Data.DataLoader(dataset=train_data,\n",
    "                               batch_size=batch_size,\n",
    "                               shuffle=True)\n",
    "train_X = Data.DataLoader(X_train, batch_size=batch_size)\n",
    "test_X = Data.DataLoader(X_test, batch_size=batch_size)"
   ],
   "metadata": {
    "collapsed": false,
    "pycharm": {
     "name": "#%%\n"
    }
   }
  },
  {
   "cell_type": "code",
   "execution_count": 4,
   "outputs": [],
   "source": [
    "class LeNet(nn.Module, ABC):\n",
    "    def __init__(self):\n",
    "        super(LeNet, self).__init__()\n",
    "        self.featrues = nn.Sequential(  # 内部实现了forward函数;各模块顺序执行\n",
    "            nn.Conv2d(1, 6, 3),\n",
    "            nn.ReLU(),\n",
    "            nn.MaxPool2d(2, 2),\n",
    "            nn.Conv2d(6, 16, 3),\n",
    "            nn.ReLU(),\n",
    "            nn.MaxPool2d(2, 2)\n",
    "        )\n",
    "        self.classifier = nn.Sequential(\n",
    "            nn.Linear(400, 120),\n",
    "            nn.ReLU(),\n",
    "            nn.Linear(120, 84),\n",
    "            nn.ReLU(),\n",
    "            nn.Linear(84, 10),  # 10分类问题\n",
    "        )\n",
    "\n",
    "    def forward(self, x):\n",
    "        x = self.featrues(x)\n",
    "        x = x.reshape(x.size()[0], -1)\n",
    "        x = self.classifier(x)\n",
    "        return x"
   ],
   "metadata": {
    "collapsed": false,
    "pycharm": {
     "name": "#%%\n"
    }
   }
  },
  {
   "cell_type": "code",
   "execution_count": 5,
   "outputs": [],
   "source": [
    "learning_rate = 0.001\n",
    "criteon = nn.CrossEntropyLoss()  # 定义损失函数为交叉熵\n",
    "net = LeNet()\n",
    "device = torch.device(\"cuda\" if torch.cuda.is_available() else \"cpu\")\n",
    "lenet = net.to(device)  # 模型设备转移必须在优化器定义前执行\n",
    "\n",
    "# Adam优化器\n",
    "optimizer = optim.Adam(net.parameters(),\n",
    "                       lr=learning_rate,  # 学习率\\epsilon;默认lr=0.0001\n",
    "                       weight_decay=1e-3,  # L2正则化系数,默认weight_decay=0\n",
    "                       betas=(0.9, 0.999),  # \\rho_1, \\rho_2;默认betas=(0.9, 0.999)\n",
    "                       eps=1e-8)  # 分母中的小常数\\delta;默认eps=1e-8"
   ],
   "metadata": {
    "collapsed": false,
    "pycharm": {
     "name": "#%%\n"
    }
   }
  },
  {
   "cell_type": "code",
   "execution_count": 6,
   "outputs": [],
   "source": [
    "from torch_model.train_evaluate import Train_Evaluate\n",
    "\n",
    "t_and_v = Train_Evaluate(model=lenet, optimizer=optimizer, criterion=criteon, epochs=5)"
   ],
   "metadata": {
    "collapsed": false,
    "pycharm": {
     "name": "#%%\n"
    }
   }
  },
  {
   "cell_type": "code",
   "execution_count": 7,
   "outputs": [
    {
     "name": "stderr",
     "output_type": "stream",
     "text": [
      "C:\\Users\\duanm\\anaconda3\\lib\\site-packages\\torch\\nn\\functional.py:718: UserWarning: Named tensors and all their associated APIs are an experimental feature and subject to change. Please do not use them for anything important until they are released as stable. (Triggered internally at  ..\\c10/core/TensorImpl.h:1156.)\n",
      "  return torch.max_pool2d(input, kernel_size, stride, padding, dilation, ceil_mode)\n"
     ]
    },
    {
     "name": "stdout",
     "output_type": "stream",
     "text": [
      "Train Epoch: 0  [0    /60000 (0  %)]\tLoss: 2.304474\n",
      "Train Epoch: 0  [2000 /60000 (3  %)]\tLoss: 2.264626\n",
      "Train Epoch: 0  [4000 /60000 (7  %)]\tLoss: 2.102553\n",
      "Train Epoch: 0  [6000 /60000 (10 %)]\tLoss: 1.610993\n",
      "Train Epoch: 0  [8000 /60000 (13 %)]\tLoss: 1.025231\n",
      "Train Epoch: 0  [10000/60000 (17 %)]\tLoss: 0.734917\n",
      "Train Epoch: 0  [12000/60000 (20 %)]\tLoss: 0.622379\n",
      "Train Epoch: 0  [14000/60000 (23 %)]\tLoss: 0.402567\n",
      "Train Epoch: 0  [16000/60000 (27 %)]\tLoss: 0.434148\n",
      "Train Epoch: 0  [18000/60000 (30 %)]\tLoss: 0.458251\n",
      "Train Epoch: 0  [20000/60000 (33 %)]\tLoss: 0.377119\n",
      "Train Epoch: 0  [22000/60000 (37 %)]\tLoss: 0.387250\n",
      "Train Epoch: 0  [24000/60000 (40 %)]\tLoss: 0.436786\n",
      "Train Epoch: 0  [26000/60000 (43 %)]\tLoss: 0.435575\n",
      "Train Epoch: 0  [28000/60000 (47 %)]\tLoss: 0.411630\n",
      "Train Epoch: 0  [30000/60000 (50 %)]\tLoss: 0.301655\n",
      "Train Epoch: 0  [32000/60000 (53 %)]\tLoss: 0.376645\n",
      "Train Epoch: 0  [34000/60000 (57 %)]\tLoss: 0.243595\n",
      "Train Epoch: 0  [36000/60000 (60 %)]\tLoss: 0.354421\n",
      "Train Epoch: 0  [38000/60000 (63 %)]\tLoss: 0.310550\n",
      "Train Epoch: 0  [40000/60000 (67 %)]\tLoss: 0.371896\n",
      "Train Epoch: 0  [42000/60000 (70 %)]\tLoss: 0.221124\n",
      "Train Epoch: 0  [44000/60000 (73 %)]\tLoss: 0.270509\n",
      "Train Epoch: 0  [46000/60000 (77 %)]\tLoss: 0.344264\n",
      "Train Epoch: 0  [48000/60000 (80 %)]\tLoss: 0.289475\n",
      "Train Epoch: 0  [50000/60000 (83 %)]\tLoss: 0.253218\n",
      "Train Epoch: 0  [52000/60000 (87 %)]\tLoss: 0.161043\n",
      "Train Epoch: 0  [54000/60000 (90 %)]\tLoss: 0.171321\n",
      "Train Epoch: 0  [56000/60000 (93 %)]\tLoss: 0.128764\n",
      "Train Epoch: 0  [58000/60000 (97 %)]\tLoss: 0.151843\n",
      "Train Epoch: 0  [60000/60000 (100%)]\tLoss: 0.201296\n",
      "----------------------------------------------------------------------------------------------------\n",
      "Train Epoch: 1  [0    /60000 (0  %)]\tLoss: 0.141781\n",
      "Train Epoch: 1  [2000 /60000 (3  %)]\tLoss: 0.194732\n",
      "Train Epoch: 1  [4000 /60000 (7  %)]\tLoss: 0.161515\n",
      "Train Epoch: 1  [6000 /60000 (10 %)]\tLoss: 0.116222\n",
      "Train Epoch: 1  [8000 /60000 (13 %)]\tLoss: 0.166733\n",
      "Train Epoch: 1  [10000/60000 (17 %)]\tLoss: 0.181592\n",
      "Train Epoch: 1  [12000/60000 (20 %)]\tLoss: 0.127450\n",
      "Train Epoch: 1  [14000/60000 (23 %)]\tLoss: 0.178934\n",
      "Train Epoch: 1  [16000/60000 (27 %)]\tLoss: 0.094294\n",
      "Train Epoch: 1  [18000/60000 (30 %)]\tLoss: 0.205611\n",
      "Train Epoch: 1  [20000/60000 (33 %)]\tLoss: 0.179981\n",
      "Train Epoch: 1  [22000/60000 (37 %)]\tLoss: 0.205330\n",
      "Train Epoch: 1  [24000/60000 (40 %)]\tLoss: 0.104083\n",
      "Train Epoch: 1  [26000/60000 (43 %)]\tLoss: 0.187344\n",
      "Train Epoch: 1  [28000/60000 (47 %)]\tLoss: 0.127279\n",
      "Train Epoch: 1  [30000/60000 (50 %)]\tLoss: 0.206570\n",
      "Train Epoch: 1  [32000/60000 (53 %)]\tLoss: 0.233753\n",
      "Train Epoch: 1  [34000/60000 (57 %)]\tLoss: 0.124889\n",
      "Train Epoch: 1  [36000/60000 (60 %)]\tLoss: 0.189471\n",
      "Train Epoch: 1  [38000/60000 (63 %)]\tLoss: 0.109119\n",
      "Train Epoch: 1  [40000/60000 (67 %)]\tLoss: 0.155524\n",
      "Train Epoch: 1  [42000/60000 (70 %)]\tLoss: 0.175911\n",
      "Train Epoch: 1  [44000/60000 (73 %)]\tLoss: 0.091197\n",
      "Train Epoch: 1  [46000/60000 (77 %)]\tLoss: 0.116969\n",
      "Train Epoch: 1  [48000/60000 (80 %)]\tLoss: 0.157704\n",
      "Train Epoch: 1  [50000/60000 (83 %)]\tLoss: 0.206005\n",
      "Train Epoch: 1  [52000/60000 (87 %)]\tLoss: 0.086070\n",
      "Train Epoch: 1  [54000/60000 (90 %)]\tLoss: 0.075837\n",
      "Train Epoch: 1  [56000/60000 (93 %)]\tLoss: 0.122842\n",
      "Train Epoch: 1  [58000/60000 (97 %)]\tLoss: 0.090164\n",
      "Train Epoch: 1  [60000/60000 (100%)]\tLoss: 0.090779\n",
      "----------------------------------------------------------------------------------------------------\n",
      "Train Epoch: 2  [0    /60000 (0  %)]\tLoss: 0.094960\n",
      "Train Epoch: 2  [2000 /60000 (3  %)]\tLoss: 0.218213\n",
      "Train Epoch: 2  [4000 /60000 (7  %)]\tLoss: 0.157053\n",
      "Train Epoch: 2  [6000 /60000 (10 %)]\tLoss: 0.116517\n",
      "Train Epoch: 2  [8000 /60000 (13 %)]\tLoss: 0.097270\n",
      "Train Epoch: 2  [10000/60000 (17 %)]\tLoss: 0.058836\n",
      "Train Epoch: 2  [12000/60000 (20 %)]\tLoss: 0.073691\n",
      "Train Epoch: 2  [14000/60000 (23 %)]\tLoss: 0.087094\n",
      "Train Epoch: 2  [16000/60000 (27 %)]\tLoss: 0.120359\n",
      "Train Epoch: 2  [18000/60000 (30 %)]\tLoss: 0.084921\n",
      "Train Epoch: 2  [20000/60000 (33 %)]\tLoss: 0.116767\n",
      "Train Epoch: 2  [22000/60000 (37 %)]\tLoss: 0.108607\n",
      "Train Epoch: 2  [24000/60000 (40 %)]\tLoss: 0.130184\n",
      "Train Epoch: 2  [26000/60000 (43 %)]\tLoss: 0.212624\n",
      "Train Epoch: 2  [28000/60000 (47 %)]\tLoss: 0.182690\n",
      "Train Epoch: 2  [30000/60000 (50 %)]\tLoss: 0.113475\n",
      "Train Epoch: 2  [32000/60000 (53 %)]\tLoss: 0.133597\n",
      "Train Epoch: 2  [34000/60000 (57 %)]\tLoss: 0.068396\n",
      "Train Epoch: 2  [36000/60000 (60 %)]\tLoss: 0.102386\n",
      "Train Epoch: 2  [38000/60000 (63 %)]\tLoss: 0.101292\n",
      "Train Epoch: 2  [40000/60000 (67 %)]\tLoss: 0.094802\n",
      "Train Epoch: 2  [42000/60000 (70 %)]\tLoss: 0.135889\n",
      "Train Epoch: 2  [44000/60000 (73 %)]\tLoss: 0.074067\n",
      "Train Epoch: 2  [46000/60000 (77 %)]\tLoss: 0.132406\n",
      "Train Epoch: 2  [48000/60000 (80 %)]\tLoss: 0.049469\n",
      "Train Epoch: 2  [50000/60000 (83 %)]\tLoss: 0.140230\n",
      "Train Epoch: 2  [52000/60000 (87 %)]\tLoss: 0.119337\n",
      "Train Epoch: 2  [54000/60000 (90 %)]\tLoss: 0.050274\n",
      "Train Epoch: 2  [56000/60000 (93 %)]\tLoss: 0.092138\n",
      "Train Epoch: 2  [58000/60000 (97 %)]\tLoss: 0.109468\n",
      "Train Epoch: 2  [60000/60000 (100%)]\tLoss: 0.093804\n",
      "----------------------------------------------------------------------------------------------------\n",
      "Train Epoch: 3  [0    /60000 (0  %)]\tLoss: 0.107138\n",
      "Train Epoch: 3  [2000 /60000 (3  %)]\tLoss: 0.091093\n",
      "Train Epoch: 3  [4000 /60000 (7  %)]\tLoss: 0.055203\n",
      "Train Epoch: 3  [6000 /60000 (10 %)]\tLoss: 0.078793\n",
      "Train Epoch: 3  [8000 /60000 (13 %)]\tLoss: 0.133330\n",
      "Train Epoch: 3  [10000/60000 (17 %)]\tLoss: 0.092600\n",
      "Train Epoch: 3  [12000/60000 (20 %)]\tLoss: 0.094743\n",
      "Train Epoch: 3  [14000/60000 (23 %)]\tLoss: 0.146141\n",
      "Train Epoch: 3  [16000/60000 (27 %)]\tLoss: 0.058239\n",
      "Train Epoch: 3  [18000/60000 (30 %)]\tLoss: 0.040653\n",
      "Train Epoch: 3  [20000/60000 (33 %)]\tLoss: 0.104037\n",
      "Train Epoch: 3  [22000/60000 (37 %)]\tLoss: 0.109358\n",
      "Train Epoch: 3  [24000/60000 (40 %)]\tLoss: 0.108485\n",
      "Train Epoch: 3  [26000/60000 (43 %)]\tLoss: 0.108341\n",
      "Train Epoch: 3  [28000/60000 (47 %)]\tLoss: 0.054104\n",
      "Train Epoch: 3  [30000/60000 (50 %)]\tLoss: 0.047207\n",
      "Train Epoch: 3  [32000/60000 (53 %)]\tLoss: 0.060855\n",
      "Train Epoch: 3  [34000/60000 (57 %)]\tLoss: 0.112295\n",
      "Train Epoch: 3  [36000/60000 (60 %)]\tLoss: 0.212176\n",
      "Train Epoch: 3  [38000/60000 (63 %)]\tLoss: 0.051293\n",
      "Train Epoch: 3  [40000/60000 (67 %)]\tLoss: 0.041175\n",
      "Train Epoch: 3  [42000/60000 (70 %)]\tLoss: 0.077067\n",
      "Train Epoch: 3  [44000/60000 (73 %)]\tLoss: 0.032525\n",
      "Train Epoch: 3  [46000/60000 (77 %)]\tLoss: 0.077506\n",
      "Train Epoch: 3  [48000/60000 (80 %)]\tLoss: 0.064159\n",
      "Train Epoch: 3  [50000/60000 (83 %)]\tLoss: 0.102607\n",
      "Train Epoch: 3  [52000/60000 (87 %)]\tLoss: 0.066561\n",
      "Train Epoch: 3  [54000/60000 (90 %)]\tLoss: 0.086918\n",
      "Train Epoch: 3  [56000/60000 (93 %)]\tLoss: 0.045486\n",
      "Train Epoch: 3  [58000/60000 (97 %)]\tLoss: 0.114271\n",
      "Train Epoch: 3  [60000/60000 (100%)]\tLoss: 0.077732\n",
      "----------------------------------------------------------------------------------------------------\n",
      "Train Epoch: 4  [0    /60000 (0  %)]\tLoss: 0.053145\n",
      "Train Epoch: 4  [2000 /60000 (3  %)]\tLoss: 0.128736\n",
      "Train Epoch: 4  [4000 /60000 (7  %)]\tLoss: 0.091088\n",
      "Train Epoch: 4  [6000 /60000 (10 %)]\tLoss: 0.075910\n",
      "Train Epoch: 4  [8000 /60000 (13 %)]\tLoss: 0.058760\n",
      "Train Epoch: 4  [10000/60000 (17 %)]\tLoss: 0.150225\n",
      "Train Epoch: 4  [12000/60000 (20 %)]\tLoss: 0.098937\n",
      "Train Epoch: 4  [14000/60000 (23 %)]\tLoss: 0.047532\n",
      "Train Epoch: 4  [16000/60000 (27 %)]\tLoss: 0.133401\n",
      "Train Epoch: 4  [18000/60000 (30 %)]\tLoss: 0.062231\n",
      "Train Epoch: 4  [20000/60000 (33 %)]\tLoss: 0.122498\n",
      "Train Epoch: 4  [22000/60000 (37 %)]\tLoss: 0.052526\n",
      "Train Epoch: 4  [24000/60000 (40 %)]\tLoss: 0.081574\n",
      "Train Epoch: 4  [26000/60000 (43 %)]\tLoss: 0.052889\n",
      "Train Epoch: 4  [28000/60000 (47 %)]\tLoss: 0.086085\n",
      "Train Epoch: 4  [30000/60000 (50 %)]\tLoss: 0.067765\n",
      "Train Epoch: 4  [32000/60000 (53 %)]\tLoss: 0.096048\n",
      "Train Epoch: 4  [34000/60000 (57 %)]\tLoss: 0.100831\n",
      "Train Epoch: 4  [36000/60000 (60 %)]\tLoss: 0.038121\n",
      "Train Epoch: 4  [38000/60000 (63 %)]\tLoss: 0.042213\n",
      "Train Epoch: 4  [40000/60000 (67 %)]\tLoss: 0.089660\n",
      "Train Epoch: 4  [42000/60000 (70 %)]\tLoss: 0.091561\n",
      "Train Epoch: 4  [44000/60000 (73 %)]\tLoss: 0.065701\n",
      "Train Epoch: 4  [46000/60000 (77 %)]\tLoss: 0.067501\n",
      "Train Epoch: 4  [48000/60000 (80 %)]\tLoss: 0.137585\n",
      "Train Epoch: 4  [50000/60000 (83 %)]\tLoss: 0.078598\n",
      "Train Epoch: 4  [52000/60000 (87 %)]\tLoss: 0.107339\n",
      "Train Epoch: 4  [54000/60000 (90 %)]\tLoss: 0.078532\n",
      "Train Epoch: 4  [56000/60000 (93 %)]\tLoss: 0.137306\n",
      "Train Epoch: 4  [58000/60000 (97 %)]\tLoss: 0.089168\n",
      "Train Epoch: 4  [60000/60000 (100%)]\tLoss: 0.046961\n",
      "----------------------------------------------------------------------------------------------------\n"
     ]
    },
    {
     "data": {
      "text/plain": "[[0.20348581671714783, 0.18865929543972015],\n [0.11217640340328217, 0.10300183296203613],\n [0.08679686486721039, 0.07907784730195999],\n [0.08009027689695358, 0.07865934818983078],\n [0.07080507278442383, 0.06784366071224213]]"
     },
     "execution_count": 7,
     "metadata": {},
     "output_type": "execute_result"
    }
   ],
   "source": [
    "metric_reslut = t_and_v.train_eval(train_loader=train_loader, valid_sets=[(train_X, y_train), (test_X, y_test)])\n",
    "metric_reslut  # 每一轮验证数据集的损失值"
   ],
   "metadata": {
    "collapsed": false,
    "pycharm": {
     "name": "#%%\n"
    }
   }
  },
  {
   "cell_type": "code",
   "execution_count": 7,
   "outputs": [],
   "source": [],
   "metadata": {
    "collapsed": false,
    "pycharm": {
     "name": "#%%\n"
    }
   }
  }
 ],
 "metadata": {
  "kernelspec": {
   "display_name": "Python 3",
   "language": "python",
   "name": "python3"
  },
  "language_info": {
   "codemirror_mode": {
    "name": "ipython",
    "version": 2
   },
   "file_extension": ".py",
   "mimetype": "text/x-python",
   "name": "python",
   "nbconvert_exporter": "python",
   "pygments_lexer": "ipython2",
   "version": "2.7.6"
  }
 },
 "nbformat": 4,
 "nbformat_minor": 0
}