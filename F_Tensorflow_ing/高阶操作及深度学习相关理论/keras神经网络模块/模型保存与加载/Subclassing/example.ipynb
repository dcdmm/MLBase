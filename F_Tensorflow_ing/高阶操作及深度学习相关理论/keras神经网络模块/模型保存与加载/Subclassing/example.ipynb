{
 "cells": [
  {
   "cell_type": "code",
   "execution_count": 45,
   "metadata": {
    "collapsed": true,
    "pycharm": {
     "name": "#%%\n"
    }
   },
   "outputs": [],
   "source": [
    "import tensorflow as tf\n",
    "import pandas as pd"
   ]
  },
  {
   "cell_type": "code",
   "execution_count": 46,
   "outputs": [],
   "source": [
    "train_dataset_fp = pd.read_csv('../iris_training.csv')\n",
    "train_dataset = tf.data.Dataset.from_tensor_slices(\n",
    "    (train_dataset_fp.iloc[:, :4].values, train_dataset_fp.iloc[:, 4].values))\n",
    "train_dataset = train_dataset.batch(32)"
   ],
   "metadata": {
    "collapsed": false,
    "pycharm": {
     "name": "#%%\n"
    }
   }
  },
  {
   "cell_type": "code",
   "execution_count": 47,
   "outputs": [],
   "source": [
    "# Model\n",
    "class MyModel(tf.keras.Model):\n",
    "    def __init__(self, num_classes=3):\n",
    "        super(MyModel, self).__init__(name=\"MyModel\")\n",
    "        self.dense1 = tf.keras.layers.Dense(10, activation=tf.nn.relu)\n",
    "        self.dense2 = tf.keras.layers.Dense(10, activation=tf.nn.relu)\n",
    "        self.dense3 = tf.keras.layers.Dense(num_classes)\n",
    "\n",
    "    @tf.function(input_signature=[tf.TensorSpec([None, 4], tf.float32, name='dcdmm')])\n",
    "    def call(self, inputs):\n",
    "        return self.dense3(self.dense2(self.dense1(inputs)))"
   ],
   "metadata": {
    "collapsed": false,
    "pycharm": {
     "name": "#%%"
    }
   }
  },
  {
   "cell_type": "code",
   "execution_count": 48,
   "outputs": [
    {
     "name": "stdout",
     "output_type": "stream",
     "text": [
      "Epoch 000: Loss: 1.990\n",
      "Epoch 050: Loss: 0.630\n",
      "Epoch 100: Loss: 0.404\n",
      "Epoch 150: Loss: 0.288\n",
      "Epoch 200: Loss: 0.210\n",
      "Epoch 250: Loss: 0.164\n",
      "Epoch 300: Loss: 0.138\n"
     ]
    }
   ],
   "source": [
    "model = MyModel(3)\n",
    "loss_object = tf.keras.losses.SparseCategoricalCrossentropy(from_logits=True)\n",
    "optimizer = tf.keras.optimizers.SGD(learning_rate=0.01)\n",
    "\n",
    "\n",
    "def loss(model, x, y, training):\n",
    "    y_ = model(x, training=training)\n",
    "    return loss_object(y_true=y, y_pred=y_)\n",
    "\n",
    "\n",
    "def grad(model, inputs, targets):\n",
    "    with tf.GradientTape() as tape:\n",
    "        loss_value = loss(model, inputs, targets, training=True)\n",
    "    return loss_value, tape.gradient(loss_value, model.trainable_variables)\n",
    "\n",
    "\n",
    "num_epochs = 301\n",
    "\n",
    "for epoch in range(num_epochs):\n",
    "    epoch_loss_avg = tf.keras.metrics.Mean()\n",
    "    for x, y in train_dataset:\n",
    "        loss_value, grads = grad(model, x, y)  # 梯度计算\n",
    "        optimizer.apply_gradients(zip(grads, model.trainable_variables))  # 执行一次优化步骤\n",
    "\n",
    "        # 累计;不需要进行reset_state\n",
    "        epoch_loss_avg.update_state(loss_value)  # Add current batch loss\n",
    "    if epoch % 50 == 0:\n",
    "        print(\"Epoch {:03d}: Loss: {:.3f}\".format(epoch, epoch_loss_avg.result()))"
   ],
   "metadata": {
    "collapsed": false,
    "pycharm": {
     "name": "#%%\n"
    }
   }
  },
  {
   "cell_type": "code",
   "execution_count": 49,
   "outputs": [
    {
     "data": {
      "text/plain": "array([[  5.0435934 ,   0.62881607, -11.274467  ],\n       [ -3.7962272 ,   1.0710709 ,  -2.2412043 ],\n       [ -7.486438  ,   0.69437623,   1.4669781 ]], dtype=float32)"
     },
     "execution_count": 49,
     "metadata": {},
     "output_type": "execute_result"
    }
   ],
   "source": [
    "predict_dataset = tf.convert_to_tensor([\n",
    "    [5.1, 3.3, 1.7, 0.5, ],\n",
    "    [5.9, 3.0, 4.2, 1.5, ],\n",
    "    [6.9, 3.1, 5.4, 2.1]\n",
    "])\n",
    "\n",
    "model.predict(predict_dataset)"
   ],
   "metadata": {
    "collapsed": false,
    "pycharm": {
     "name": "#%%\n"
    }
   }
  },
  {
   "cell_type": "markdown",
   "source": [
    "### 方法一:save_weights"
   ],
   "metadata": {
    "collapsed": false,
    "pycharm": {
     "name": "#%% md\n"
    }
   }
  },
  {
   "cell_type": "code",
   "execution_count": 50,
   "outputs": [],
   "source": [
    "model.save_weights('save_weights.h5')"
   ],
   "metadata": {
    "collapsed": false,
    "pycharm": {
     "name": "#%%\n"
    }
   }
  },
  {
   "cell_type": "code",
   "execution_count": 51,
   "outputs": [],
   "source": [
    "model_k_h5 = MyModel(3)  # 重新创建网络\n",
    "model_k_h5.build(input_shape=(None, 4))"
   ],
   "metadata": {
    "collapsed": false,
    "pycharm": {
     "name": "#%%\n"
    }
   }
  },
  {
   "cell_type": "code",
   "execution_count": 52,
   "outputs": [],
   "source": [
    "model_k_h5.load_weights(\"save_weights.h5\")"
   ],
   "metadata": {
    "collapsed": false,
    "pycharm": {
     "name": "#%%\n"
    }
   }
  },
  {
   "cell_type": "code",
   "execution_count": 53,
   "outputs": [
    {
     "data": {
      "text/plain": "array([[  5.0435934 ,   0.62881607, -11.274467  ],\n       [ -3.7962272 ,   1.0710709 ,  -2.2412043 ],\n       [ -7.486438  ,   0.69437623,   1.4669781 ]], dtype=float32)"
     },
     "execution_count": 53,
     "metadata": {},
     "output_type": "execute_result"
    }
   ],
   "source": [
    "model_k_h5.predict(predict_dataset)"
   ],
   "metadata": {
    "collapsed": false,
    "pycharm": {
     "name": "#%%\n"
    }
   }
  },
  {
   "cell_type": "markdown",
   "source": [
    "### 方法二:save"
   ],
   "metadata": {
    "collapsed": false,
    "pycharm": {
     "name": "#%% md\n"
    }
   }
  },
  {
   "cell_type": "code",
   "execution_count": 54,
   "outputs": [
    {
     "name": "stdout",
     "output_type": "stream",
     "text": [
      "INFO:tensorflow:Assets written to: custom_model_tf_version\\assets\n"
     ]
    }
   ],
   "source": [
    "# ★★★★★只能保存为Tensorflow SavedModel,不能保存为HDF5 file\n",
    "model.save('custom_model_tf_version', save_format='tf')"
   ],
   "metadata": {
    "collapsed": false,
    "pycharm": {
     "name": "#%%\n"
    }
   }
  },
  {
   "cell_type": "code",
   "execution_count": 55,
   "outputs": [
    {
     "name": "stdout",
     "output_type": "stream",
     "text": [
      "WARNING:tensorflow:No training configuration found in save file, so the model was *not* compiled. Compile it manually.\n"
     ]
    },
    {
     "data": {
      "text/plain": "array([[  5.0435934 ,   0.62881607, -11.274467  ],\n       [ -3.7962272 ,   1.0710709 ,  -2.2412043 ],\n       [ -7.486438  ,   0.69437623,   1.4669781 ]], dtype=float32)"
     },
     "execution_count": 55,
     "metadata": {},
     "output_type": "execute_result"
    }
   ],
   "source": [
    "new_model = tf.keras.models.load_model('custom_model_tf_version/')\n",
    "new_model.predict(predict_dataset)"
   ],
   "metadata": {
    "collapsed": false,
    "pycharm": {
     "name": "#%%\n"
    }
   }
  },
  {
   "cell_type": "markdown",
   "source": [
    "### 方法三:tf.savaed_model.save"
   ],
   "metadata": {
    "collapsed": false,
    "pycharm": {
     "name": "#%% md\n"
    }
   }
  },
  {
   "cell_type": "code",
   "execution_count": 56,
   "outputs": [
    {
     "name": "stdout",
     "output_type": "stream",
     "text": [
      "INFO:tensorflow:Assets written to: tf_saved_model_version\\assets\n"
     ]
    }
   ],
   "source": [
    "# 一般用于模型部署\n",
    "tf.saved_model.save(model, 'tf_saved_model_version')"
   ],
   "metadata": {
    "collapsed": false,
    "pycharm": {
     "name": "#%%\n"
    }
   }
  },
  {
   "cell_type": "code",
   "execution_count": 57,
   "outputs": [
    {
     "name": "stdout",
     "output_type": "stream",
     "text": [
      "\n",
      "MetaGraphDef with tag-set: 'serve' contains the following SignatureDefs:\n",
      "\n",
      "signature_def['__saved_model_init_op']:\n",
      "  The given SavedModel SignatureDef contains the following input(s):\n",
      "  The given SavedModel SignatureDef contains the following output(s):\n",
      "    outputs['__saved_model_init_op'] tensor_info:\n",
      "        dtype: DT_INVALID\n",
      "        shape: unknown_rank\n",
      "        name: NoOp\n",
      "  Method name is: \n",
      "\n",
      "signature_def['serving_default']:\n",
      "  The given SavedModel SignatureDef contains the following input(s):\n",
      "    inputs['dcdmm'] tensor_info:\n",
      "        dtype: DT_FLOAT\n",
      "        shape: (-1, 4)\n",
      "        name: serving_default_dcdmm:0\n",
      "  The given SavedModel SignatureDef contains the following output(s):\n",
      "    outputs['output_1'] tensor_info:\n",
      "        dtype: DT_FLOAT\n",
      "        shape: (-1, 3)\n",
      "        name: StatefulPartitionedCall:0\n",
      "  Method name is: tensorflow/serving/predict\n",
      "\n",
      "Defined Functions:\n",
      "  Function Name: '__call__'\n",
      "    Option #1\n",
      "      Callable with:\n",
      "        Argument #1\n",
      "          dcdmm: TensorSpec(shape=(None, 4), dtype=tf.float32, name='dcdmm')\n",
      "    Option #2\n",
      "      Callable with:\n",
      "        Argument #1\n",
      "          inputs: TensorSpec(shape=(None, 4), dtype=tf.float32, name='inputs')\n",
      "\n",
      "  Function Name: '_default_save_signature'\n",
      "    Option #1\n",
      "      Callable with:\n",
      "        Argument #1\n",
      "          dcdmm: TensorSpec(shape=(None, 4), dtype=tf.float32, name='dcdmm')\n",
      "\n",
      "  Function Name: 'call'\n",
      "    Option #1\n",
      "      Callable with:\n",
      "        Argument #1\n",
      "          dcdmm: TensorSpec(shape=(None, 4), dtype=tf.float32, name='dcdmm')\n",
      "\n",
      "  Function Name: 'call_and_return_all_conditional_losses'\n",
      "    Option #1\n",
      "      Callable with:\n",
      "        Argument #1\n",
      "          inputs: TensorSpec(shape=(None, 4), dtype=tf.float32, name='inputs')\n",
      "    Option #2\n",
      "      Callable with:\n",
      "        Argument #1\n",
      "          dcdmm: TensorSpec(shape=(None, 4), dtype=tf.float32, name='dcdmm')\n"
     ]
    }
   ],
   "source": [
    "!saved_model_cli show --dir tf_saved_model_version --all"
   ],
   "metadata": {
    "collapsed": false,
    "pycharm": {
     "name": "#%%\n"
    }
   }
  },
  {
   "cell_type": "code",
   "execution_count": 58,
   "outputs": [
    {
     "data": {
      "text/plain": "{'output_1': <tf.Tensor: shape=(3, 3), dtype=float32, numpy=\n array([[  5.0435934 ,   0.62881607, -11.274467  ],\n        [ -3.7962272 ,   1.0710709 ,  -2.2412043 ],\n        [ -7.486438  ,   0.69437623,   1.4669781 ]], dtype=float32)>}"
     },
     "execution_count": 58,
     "metadata": {},
     "output_type": "execute_result"
    }
   ],
   "source": [
    "restored_saved_model = tf.saved_model.load('tf_saved_model_version')\n",
    "f = restored_saved_model.signatures[\"serving_default\"]\n",
    "f(dcdmm=tf.constant(predict_dataset))"
   ],
   "metadata": {
    "collapsed": false,
    "pycharm": {
     "name": "#%%\n"
    }
   }
  },
  {
   "cell_type": "code",
   "execution_count": 58,
   "outputs": [],
   "source": [],
   "metadata": {
    "collapsed": false,
    "pycharm": {
     "name": "#%%\n"
    }
   }
  }
 ],
 "metadata": {
  "kernelspec": {
   "display_name": "Python 3",
   "language": "python",
   "name": "python3"
  },
  "language_info": {
   "codemirror_mode": {
    "name": "ipython",
    "version": 2
   },
   "file_extension": ".py",
   "mimetype": "text/x-python",
   "name": "python",
   "nbconvert_exporter": "python",
   "pygments_lexer": "ipython2",
   "version": "2.7.6"
  }
 },
 "nbformat": 4,
 "nbformat_minor": 0
}