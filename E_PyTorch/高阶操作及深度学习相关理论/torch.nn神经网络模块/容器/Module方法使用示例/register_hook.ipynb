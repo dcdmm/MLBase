{
 "cells": [
  {
   "cell_type": "code",
   "execution_count": 19,
   "metadata": {
    "collapsed": true
   },
   "outputs": [
    {
     "name": "stdout",
     "output_type": "stream",
     "text": [
      "参数(w,x,a,b,y)的梯度信息 tensor([5.]) tensor([2.]) None None None\n",
      "a_grad: [tensor([2.])]\n"
     ]
    }
   ],
   "source": [
    "import torch\n",
    "\n",
    "w = torch.tensor([1.], requires_grad=True)\n",
    "x = torch.tensor([2.], requires_grad=True)\n",
    "a = torch.add(w, x)\n",
    "b = torch.add(w, 1)\n",
    "y = torch.mul(a, b)\n",
    "\n",
    "a_grad = list()\n",
    "\n",
    "def grad_hook(grad):\n",
    "    a_grad.append(grad.clone()) # 保存梯度信息(可直接保存非叶tensor的梯度)\n",
    "\n",
    "handle = a.register_hook(grad_hook)\n",
    "\n",
    "y.backward()\n",
    "\n",
    "print('参数(w,x,a,b,y)的梯度信息', w.grad, x.grad, a.grad, b.grad, y.grad)\n",
    "print(\"a_grad:\", a_grad)"
   ]
  },
  {
   "cell_type": "code",
   "execution_count": 20,
   "metadata": {
    "pycharm": {
     "name": "#%%\n"
    }
   },
   "outputs": [
    {
     "name": "stdout",
     "output_type": "stream",
     "text": [
      "原梯度为: tensor([5.])\n",
      "w.grad:  tensor([30.])\n",
      "w_grad [tensor([5.])]\n"
     ]
    }
   ],
   "source": [
    "w = torch.tensor([1.], requires_grad=True)\n",
    "x = torch.tensor([2.], requires_grad=True)\n",
    "a = torch.add(w, x)\n",
    "b = torch.add(w, 1)\n",
    "y = torch.mul(a, b)\n",
    "\n",
    "w_grad = list()\n",
    "\n",
    "def grad_hook(grad):\n",
    "    grad_clone = grad.clone()\n",
    "    print('原梯度为:', grad_clone)\n",
    "    w_grad.append(grad_clone) # grad为可变数据类型,若要保存其渐变过程,最好使用.clone()函数先拷贝,得到其副本\n",
    "    grad *= 2 # 梯度*=2\n",
    "    return grad*3 # 梯度再*=3\n",
    "\n",
    "w.register_hook(grad_hook)\n",
    "\n",
    "y.backward()\n",
    "\n",
    "print(\"w.grad: \", w.grad)\n",
    "print('w_grad', w_grad)"
   ]
  }
 ],
 "metadata": {
  "kernelspec": {
   "display_name": "Python 3",
   "language": "python",
   "name": "python3"
  },
  "language_info": {
   "codemirror_mode": {
    "name": "ipython",
    "version": 3
   },
   "file_extension": ".py",
   "mimetype": "text/x-python",
   "name": "python",
   "nbconvert_exporter": "python",
   "pygments_lexer": "ipython3",
   "version": "3.7.7"
  },
  "toc": {
   "base_numbering": 1,
   "nav_menu": {},
   "number_sections": true,
   "sideBar": true,
   "skip_h1_title": false,
   "title_cell": "Table of Contents",
   "title_sidebar": "Contents",
   "toc_cell": false,
   "toc_position": {},
   "toc_section_display": true,
   "toc_window_display": false
  }
 },
 "nbformat": 4,
 "nbformat_minor": 1
}
