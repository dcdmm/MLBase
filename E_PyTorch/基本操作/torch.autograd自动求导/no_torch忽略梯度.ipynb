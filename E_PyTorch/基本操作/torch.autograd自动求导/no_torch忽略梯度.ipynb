{
 "cells": [
  {
   "cell_type": "code",
   "execution_count": 1,
   "metadata": {
    "collapsed": true
   },
   "outputs": [],
   "source": [
    "import torch"
   ]
  },
  {
   "cell_type": "code",
   "execution_count": 2,
   "outputs": [
    {
     "name": "stdout",
     "output_type": "stream",
     "text": [
      "tensor(4.) False\n",
      "tensor(4.) False\n",
      "tensor(4.) False\n",
      "tensor(4.) False\n",
      "tensor(4.) False\n",
      "tensor(2., requires_grad=True) True\n",
      "tensor(8., grad_fn=<PowBackward0>) True\n",
      "tensor(32., grad_fn=<MulBackward0>) True\n"
     ]
    }
   ],
   "source": [
    "x = torch.tensor(2.0, requires_grad=True)\n",
    "y1 = x ** 3\n",
    "\n",
    "with torch.no_grad():  # 上下文管理器\n",
    "    for i in range(5):\n",
    "        y2 = x ** 2  # disabled gradient calculation(y2被视作常数)\n",
    "        print(y2, y2.requires_grad)\n",
    "y3 = y1 * y2\n",
    "\n",
    "print(x, x.requires_grad)\n",
    "print(y1, y1.requires_grad)\n",
    "print(y3, y3.requires_grad)"
   ],
   "metadata": {
    "collapsed": false,
    "pycharm": {
     "name": "#%%\n"
    }
   }
  },
  {
   "cell_type": "code",
   "execution_count": 3,
   "outputs": [
    {
     "name": "stdout",
     "output_type": "stream",
     "text": [
      "tensor(48.)\n"
     ]
    }
   ],
   "source": [
    "y3.backward()\n",
    "print(x.grad)"
   ],
   "metadata": {
    "collapsed": false,
    "pycharm": {
     "name": "#%%\n"
    }
   }
  },
  {
   "cell_type": "code",
   "execution_count": 4,
   "outputs": [
    {
     "name": "stdout",
     "output_type": "stream",
     "text": [
      "tensor(48.)\n"
     ]
    }
   ],
   "source": [
    "x = torch.tensor(2.0, requires_grad=True)\n",
    "y1 = x ** 3\n",
    "\n",
    "\n",
    "@torch.no_grad()  # 装饰器\n",
    "def y_2(va):\n",
    "    return va ** 2  # 与上等价\n",
    "\n",
    "\n",
    "y3 = y1 * y_2(x)\n",
    "\n",
    "y3.backward()\n",
    "print(x.grad)"
   ],
   "metadata": {
    "collapsed": false,
    "pycharm": {
     "name": "#%%\n"
    }
   }
  }
 ],
 "metadata": {
  "kernelspec": {
   "display_name": "Python 3",
   "language": "python",
   "name": "python3"
  },
  "language_info": {
   "codemirror_mode": {
    "name": "ipython",
    "version": 2
   },
   "file_extension": ".py",
   "mimetype": "text/x-python",
   "name": "python",
   "nbconvert_exporter": "python",
   "pygments_lexer": "ipython2",
   "version": "2.7.6"
  }
 },
 "nbformat": 4,
 "nbformat_minor": 0
}