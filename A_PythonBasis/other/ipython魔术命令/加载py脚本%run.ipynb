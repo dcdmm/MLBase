{
 "cells": [
  {
   "cell_type": "code",
   "execution_count": 11,
   "metadata": {
    "ExecuteTime": {
     "end_time": "2024-04-10T09:13:06.461693Z",
     "start_time": "2024-04-10T09:13:06.444100Z"
    },
    "collapsed": true,
    "pycharm": {
     "name": "#%%\n"
    }
   },
   "outputs": [
    {
     "name": "stdout",
     "output_type": "stream",
     "text": [
      "Hello python !\n",
      "play LOL !\n",
      "over!\n"
     ]
    }
   ],
   "source": [
    "%run ipython_scripy_test/hello.py  # 执行了整个python脚本"
   ]
  },
  {
   "cell_type": "code",
   "execution_count": 12,
   "metadata": {
    "ExecuteTime": {
     "end_time": "2024-04-10T09:13:06.476507Z",
     "start_time": "2024-04-10T09:13:06.463791Z"
    },
    "collapsed": false,
    "pycharm": {
     "name": "#%%\n"
    }
   },
   "outputs": [
    {
     "name": "stdout",
     "output_type": "stream",
     "text": [
      "Hello duanchao !\n"
     ]
    }
   ],
   "source": [
    "hello('duanchao')"
   ]
  },
  {
   "cell_type": "code",
   "execution_count": 13,
   "metadata": {
    "ExecuteTime": {
     "end_time": "2024-04-10T09:13:06.491692Z",
     "start_time": "2024-04-10T09:13:06.478396Z"
    },
    "collapsed": false,
    "pycharm": {
     "name": "#%%\n"
    }
   },
   "outputs": [
    {
     "name": "stdout",
     "output_type": "stream",
     "text": [
      "play DNF !\n"
     ]
    }
   ],
   "source": [
    "game('DNF')  # 脚本中的函数被加载入Jupyter notebook"
   ]
  },
  {
   "cell_type": "code",
   "execution_count": 14,
   "metadata": {
    "ExecuteTime": {
     "end_time": "2024-04-10T09:13:06.521361Z",
     "start_time": "2024-04-10T09:13:06.493783Z"
    }
   },
   "outputs": [],
   "source": [
    "%%capture \n",
    "# %%capture:忽略print打印内容(必须位于cell第一行)\n",
    "%run ipython_scripy_test/b.ipynb"
   ]
  }
 ],
 "metadata": {
  "kernelspec": {
   "display_name": "Python 3",
   "language": "python",
   "name": "python3"
  },
  "language_info": {
   "codemirror_mode": {
    "name": "ipython",
    "version": 3
   },
   "file_extension": ".py",
   "mimetype": "text/x-python",
   "name": "python",
   "nbconvert_exporter": "python",
   "pygments_lexer": "ipython3",
   "version": "3.10.12"
  }
 },
 "nbformat": 4,
 "nbformat_minor": 0
}
