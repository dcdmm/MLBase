{
 "cells": [
  {
   "cell_type": "code",
   "execution_count": 1,
   "outputs": [],
   "source": [
    "import numpy as np\n",
    "import pandas as pd"
   ],
   "metadata": {
    "collapsed": false,
    "pycharm": {
     "name": "#%%\n"
    }
   }
  },
  {
   "cell_type": "code",
   "execution_count": 2,
   "metadata": {},
   "outputs": [
    {
     "data": {
      "text/plain": "  key1 key2     data1     data2\n0    a  one -1.086640  0.177041\n1    a  two -1.890236 -0.613293\n2    b  one -0.341496  0.267180\n3    b  two -0.165470  0.209717\n4    a  one -1.493599  1.702497",
      "text/html": "<div>\n<style scoped>\n    .dataframe tbody tr th:only-of-type {\n        vertical-align: middle;\n    }\n\n    .dataframe tbody tr th {\n        vertical-align: top;\n    }\n\n    .dataframe thead th {\n        text-align: right;\n    }\n</style>\n<table border=\"1\" class=\"dataframe\">\n  <thead>\n    <tr style=\"text-align: right;\">\n      <th></th>\n      <th>key1</th>\n      <th>key2</th>\n      <th>data1</th>\n      <th>data2</th>\n    </tr>\n  </thead>\n  <tbody>\n    <tr>\n      <th>0</th>\n      <td>a</td>\n      <td>one</td>\n      <td>-1.086640</td>\n      <td>0.177041</td>\n    </tr>\n    <tr>\n      <th>1</th>\n      <td>a</td>\n      <td>two</td>\n      <td>-1.890236</td>\n      <td>-0.613293</td>\n    </tr>\n    <tr>\n      <th>2</th>\n      <td>b</td>\n      <td>one</td>\n      <td>-0.341496</td>\n      <td>0.267180</td>\n    </tr>\n    <tr>\n      <th>3</th>\n      <td>b</td>\n      <td>two</td>\n      <td>-0.165470</td>\n      <td>0.209717</td>\n    </tr>\n    <tr>\n      <th>4</th>\n      <td>a</td>\n      <td>one</td>\n      <td>-1.493599</td>\n      <td>1.702497</td>\n    </tr>\n  </tbody>\n</table>\n</div>"
     },
     "execution_count": 2,
     "metadata": {},
     "output_type": "execute_result"
    }
   ],
   "source": [
    "df = pd.DataFrame({'key1': ['a', 'a', 'b', 'b', 'a'],\n",
    "                   'key2': ['one', 'two', 'one', 'two', 'one'],\n",
    "                   'data1': np.random.randn(5),\n",
    "                   'data2': np.random.randn(5)})\n",
    "df"
   ]
  },
  {
   "cell_type": "code",
   "execution_count": 3,
   "metadata": {},
   "outputs": [
    {
     "name": "stdout",
     "output_type": "stream",
     "text": [
      "group: a\n",
      "  key1 key2     data1     data2\n",
      "0    a  one -1.086640  0.177041\n",
      "1    a  two -1.890236 -0.613293\n",
      "4    a  one -1.493599  1.702497\n",
      "group: b\n",
      "  key1 key2     data1     data2\n",
      "2    b  one -0.341496  0.267180\n",
      "3    b  two -0.165470  0.209717\n"
     ]
    }
   ],
   "source": [
    "# 通过for循环遍历\n",
    "for name, group in df.groupby(df['key1']):\n",
    "    # GroupBy对象支持迭代,返回一个包含组名和数据块的2为元组序列\n",
    "    print('group:', name)\n",
    "    print(group)"
   ]
  },
  {
   "cell_type": "code",
   "execution_count": 4,
   "metadata": {},
   "outputs": [
    {
     "name": "stdout",
     "output_type": "stream",
     "text": [
      "group: ('a', 'one')\n",
      "  key1 key2     data1     data2\n",
      "0    a  one -1.086640  0.177041\n",
      "4    a  one -1.493599  1.702497\n",
      "group: ('a', 'two')\n",
      "  key1 key2     data1     data2\n",
      "1    a  two -1.890236 -0.613293\n",
      "group: ('b', 'one')\n",
      "  key1 key2     data1    data2\n",
      "2    b  one -0.341496  0.26718\n",
      "group: ('b', 'two')\n",
      "  key1 key2    data1     data2\n",
      "3    b  two -0.16547  0.209717\n"
     ]
    }
   ],
   "source": [
    "for (k1, k2), group in df.groupby([df['key1'], df['key2']]):  # 多个分组健\n",
    "    print('group:', (k1, k2))\n",
    "    print(group)"
   ]
  },
  {
   "cell_type": "code",
   "execution_count": 5,
   "outputs": [
    {
     "name": "stdout",
     "output_type": "stream",
     "text": [
      "[('a',   key1 key2     data1     data2\n",
      "0    a  one -1.086640  0.177041\n",
      "1    a  two -1.890236 -0.613293\n",
      "4    a  one -1.493599  1.702497), ('b',   key1 key2     data1     data2\n",
      "2    b  one -0.341496  0.267180\n",
      "3    b  two -0.165470  0.209717)]\n"
     ]
    }
   ],
   "source": [
    "# 通过列表进行遍历\n",
    "print(list(df.groupby(df['key1'])))  # 2个元组组成的列表"
   ],
   "metadata": {
    "pycharm": {
     "metadata": false,
     "name": "#%%\n"
    }
   }
  },
  {
   "cell_type": "code",
   "execution_count": 6,
   "metadata": {
    "pycharm": {
     "name": "#%%\n"
    }
   },
   "outputs": [
    {
     "name": "stdout",
     "output_type": "stream",
     "text": [
      "{'a':   key1 key2     data1     data2\n",
      "0    a  one -1.086640  0.177041\n",
      "1    a  two -1.890236 -0.613293\n",
      "4    a  one -1.493599  1.702497, 'b':   key1 key2     data1     data2\n",
      "2    b  one -0.341496  0.267180\n",
      "3    b  two -0.165470  0.209717}\n",
      "  key1 key2     data1     data2\n",
      "0    a  one -1.086640  0.177041\n",
      "1    a  two -1.890236 -0.613293\n",
      "4    a  one -1.493599  1.702497\n"
     ]
    }
   ],
   "source": [
    "# 通过字典进行遍历\n",
    "pieces = dict(list(df.groupby(df['key1'])))  # 运用了字典的构造方法\n",
    "print(pieces)\n",
    "print(pieces['a'])"
   ]
  },
  {
   "cell_type": "code",
   "execution_count": 6,
   "outputs": [],
   "source": [],
   "metadata": {
    "collapsed": false,
    "pycharm": {
     "name": "#%%\n"
    }
   }
  }
 ],
 "metadata": {
  "kernelspec": {
   "name": "python3",
   "language": "python",
   "display_name": "Python 3"
  },
  "language_info": {
   "codemirror_mode": {
    "name": "ipython",
    "version": 2
   },
   "file_extension": ".py",
   "mimetype": "text/x-python",
   "name": "python",
   "nbconvert_exporter": "python",
   "pygments_lexer": "ipython2",
   "version": "2.7.6"
  }
 },
 "nbformat": 4,
 "nbformat_minor": 0
}