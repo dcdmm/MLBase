{
 "cells": [
  {
   "cell_type": "markdown",
   "metadata": {
    "collapsed": true,
    "pycharm": {
     "name": "#%% md\n"
    }
   },
   "source": [
    "$$ \\frac{\\partial \\mathbf{y}}{\\partial x} = $$\n",
    "\\begin{bmatrix}\n",
    "\\frac{\\partial y_1}{\\partial x} \\\\ \n",
    "\\vdots \\\\\n",
    "\\frac{\\partial y_m}{\\partial x}\n",
    "\\end{bmatrix}\n",
    "\n",
    "\n",
    "\n",
    "\\begin{align}\n",
    "\\frac{\\partial y}{\\partial \\mathbf{x}} &=\n",
    "\\begin{bmatrix}\n",
    "\\frac{\\partial y}{\\partial x_1} & \\dots  & \\frac{\\partial y}{\\partial x_n} \\\\\n",
    "\\end{bmatrix} \\\\\\\\ %这个地方和Typora中不同,需要\\\\\\\\才能换行\n",
    "&=\\frac{\\partial y}{\\partial \\mathbf{x}^T}\n",
    "\\end{align}\n",
    "\n",
    "\n",
    "\n",
    "$$ \\frac{\\partial Y}{\\partial x} =  $$\n",
    "\\begin{bmatrix}\n",
    "\\frac{\\partial y_{11}}{\\partial x} & \\dots  & \\frac{\\partial y_{1n}}{\\partial x} \\\\\n",
    "\\vdots                             & \\ddots & \\vdots \\\\\n",
    "\\frac{\\partial y_{m1}}{\\partial x} & \\dots  & \\frac{\\partial y_{mn}}{\\partial x} \\\\\n",
    "\\end{bmatrix}\n",
    "\n",
    "\n",
    "\n",
    "\\begin{align}\n",
    "\\frac{\\partial y}{\\partial X} &= \n",
    "\\begin{bmatrix}\n",
    "\\frac{\\partial y}{\\partial x_{11}} & \\dots  & \\frac{\\partial y}{\\partial x_{m1}} \\\\\n",
    "\\vdots                             & \\ddots & \\vdots \\\\\n",
    "\\frac{\\partial y}{\\partial x_{1n}} & \\dots  & \\frac{\\partial y}{\\partial x_{mn}} \\\\\n",
    "\\end{bmatrix} \\\\ \\\\\\\n",
    "&= \\frac{\\partial y}{\\partial X^T}\n",
    "\\end{align}\n",
    "\n",
    "\n",
    "\n",
    "\\begin{align}\n",
    "\\frac{\\partial \\mathbf{y}}{\\partial \\mathbf{x}} &= \n",
    "\\begin{bmatrix}\n",
    "\\frac{\\partial y_1}{\\partial x_{1}} & \\dots  & \\frac{\\partial y_1}{\\partial x_{n}} \\\\\n",
    "\\vdots                             & \\ddots & \\vdots \\\\\n",
    "\\frac{\\partial y_m}{\\partial x_{1}} & \\dots  & \\frac{\\partial y_m}{\\partial x_{n}} \\\\\n",
    "\\end{bmatrix} \\\\\\\\\n",
    "&= \\frac{\\partial \\mathbf{y}}{\\partial \\mathbf{x}^T}\n",
    "\\end{align}\n"
   ]
  }
 ],
 "metadata": {
  "kernelspec": {
   "display_name": "Python 3",
   "language": "python",
   "name": "python3"
  },
  "language_info": {
   "codemirror_mode": {
    "name": "ipython",
    "version": 2
   },
   "file_extension": ".py",
   "mimetype": "text/x-python",
   "name": "python",
   "nbconvert_exporter": "python",
   "pygments_lexer": "ipython2",
   "version": "2.7.6"
  },
  "pycharm": {
   "stem_cell": {
    "cell_type": "raw",
    "source": [],
    "metadata": {
     "collapsed": false
    }
   }
  }
 },
 "nbformat": 4,
 "nbformat_minor": 0
}