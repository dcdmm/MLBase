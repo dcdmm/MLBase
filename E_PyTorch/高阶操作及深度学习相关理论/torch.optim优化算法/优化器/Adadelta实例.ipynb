{
 "cells": [
  {
   "cell_type": "code",
   "execution_count": 1,
   "outputs": [],
   "source": [
    "import torch.nn as nn\n",
    "import torch.optim as optim\n",
    "from torchvision import datasets, transforms\n",
    "import torch.utils.data as Data\n",
    "import torch"
   ],
   "metadata": {
    "collapsed": false,
    "pycharm": {
     "name": "#%%\n"
    }
   }
  },
  {
   "cell_type": "code",
   "execution_count": 2,
   "outputs": [],
   "source": [
    "batch_size = 200\n",
    "\n",
    "train_data = datasets.MNIST('../../../../Other/datasets/PyTorch',\n",
    "                            train=True,\n",
    "                            transform=transforms.Compose([\n",
    "                                transforms.ToTensor(),\n",
    "                                transforms.Normalize((0.1307,), (0.3081,))\n",
    "                            ]))\n",
    "\n",
    "test_data = datasets.MNIST('../../../../Other/datasets/PyTorch',\n",
    "                           train=False,\n",
    "                           transform=transforms.Compose([\n",
    "                               transforms.ToTensor(),\n",
    "                               transforms.Normalize((0.1307,), (0.3081,))\n",
    "                           ]))\n",
    "\n",
    "# 手写数字训练数据集\n",
    "train_loader = Data.DataLoader(dataset=train_data,\n",
    "                               batch_size=batch_size,\n",
    "                               shuffle=True)\n",
    "\n",
    "# 手写数字测试数据集\n",
    "test_loader = Data.DataLoader(dataset=test_data,\n",
    "                              batch_size=batch_size,\n",
    "                              shuffle=True)"
   ],
   "metadata": {
    "collapsed": false,
    "pycharm": {
     "name": "#%%\n"
    }
   }
  },
  {
   "cell_type": "code",
   "execution_count": 3,
   "outputs": [],
   "source": [
    "class LeNet(nn.Module):\n",
    "    def __init__(self):\n",
    "        super(LeNet, self).__init__()\n",
    "        self.featrues = nn.Sequential(  # 内部实现了forward函数;各模块顺序执行\n",
    "            nn.Conv2d(1, 6, 3),\n",
    "            nn.ReLU(),\n",
    "            nn.MaxPool2d(2, 2),\n",
    "            nn.Conv2d(6, 16, 3),\n",
    "            nn.ReLU(),\n",
    "            nn.MaxPool2d(2, 2)\n",
    "        )\n",
    "        self.classifier = nn.Sequential(\n",
    "            nn.Linear(400, 120),\n",
    "            nn.ReLU(),\n",
    "            nn.Linear(120, 84),\n",
    "            nn.ReLU(),\n",
    "            nn.Linear(84, 10),  # 10分类问题\n",
    "        )\n",
    "\n",
    "    def forward(self, x):\n",
    "        x = self.featrues(x)\n",
    "        x = x.reshape(x.size()[0], -1)\n",
    "        x = self.classifier(x)\n",
    "        return x"
   ],
   "metadata": {
    "collapsed": false,
    "pycharm": {
     "name": "#%%\n"
    }
   }
  },
  {
   "cell_type": "code",
   "execution_count": 4,
   "outputs": [],
   "source": [
    "device = torch.device(\"cuda\" if torch.cuda.is_available() else \"cpu\")\n",
    "criteon = nn.CrossEntropyLoss()  # 定义损失函数为交叉熵\n",
    "net = LeNet()\n",
    "lenet = net.to(device)  # 模型设备转移必须在优化器定义前执行\n",
    "\n",
    "# Adadelta优化器\n",
    "optimizer = optim.Adadelta(net.parameters(),\n",
    "                           rho=0.9,  # 衰减速率\\rho\n",
    "                           lr=0.99,  # 缩放系数\\epsilon(default: 1.0)\n",
    "                           eps=1e-6)  # 分母中的小常数\\delta"
   ],
   "metadata": {
    "collapsed": false,
    "pycharm": {
     "name": "#%%\n"
    }
   }
  },
  {
   "cell_type": "code",
   "execution_count": 5,
   "outputs": [],
   "source": [
    "transforms_data = []\n",
    "for i, j in train_data:\n",
    "    transforms_data.append(i.tolist())\n",
    "transforms_data_ten = torch.tensor(transforms_data)"
   ],
   "metadata": {
    "collapsed": false,
    "pycharm": {
     "name": "#%%\n"
    }
   }
  },
  {
   "cell_type": "code",
   "execution_count": 6,
   "outputs": [],
   "source": [
    "transforms_data_loader = Data.DataLoader(transforms_data_ten, batch_size=200, shuffle=True)\n",
    "y_label = train_loader.dataset.targets"
   ],
   "metadata": {
    "collapsed": false,
    "pycharm": {
     "name": "#%%\n"
    }
   }
  },
  {
   "cell_type": "code",
   "execution_count": 7,
   "outputs": [],
   "source": [
    "from torch_model.train_evaluate import Train_Evaluate\n",
    "\n",
    "t_and_v = Train_Evaluate(model=lenet, optimizer=optimizer, criterion=criteon, epochs=5)"
   ],
   "metadata": {
    "collapsed": false,
    "pycharm": {
     "name": "#%%\n"
    }
   }
  },
  {
   "cell_type": "code",
   "execution_count": 8,
   "outputs": [
    {
     "name": "stderr",
     "output_type": "stream",
     "text": [
      "C:\\Users\\duanm\\anaconda3\\lib\\site-packages\\torch\\nn\\functional.py:718: UserWarning: Named tensors and all their associated APIs are an experimental feature and subject to change. Please do not use them for anything important until they are released as stable. (Triggered internally at  ..\\c10/core/TensorImpl.h:1156.)\n",
      "  return torch.max_pool2d(input, kernel_size, stride, padding, dilation, ceil_mode)\n"
     ]
    },
    {
     "name": "stdout",
     "output_type": "stream",
     "text": [
      "Train Epoch: 0  [0    /60000 (0  %)]\tLoss: 2.307814\n",
      "Train Epoch: 0  [2000 /60000 (3  %)]\tLoss: 1.984127\n",
      "Train Epoch: 0  [4000 /60000 (7  %)]\tLoss: 1.857047\n",
      "Train Epoch: 0  [6000 /60000 (10 %)]\tLoss: 0.713426\n",
      "Train Epoch: 0  [8000 /60000 (13 %)]\tLoss: 0.799830\n",
      "Train Epoch: 0  [10000/60000 (17 %)]\tLoss: 0.478472\n",
      "Train Epoch: 0  [12000/60000 (20 %)]\tLoss: 0.328703\n",
      "Train Epoch: 0  [14000/60000 (23 %)]\tLoss: 0.411160\n",
      "Train Epoch: 0  [16000/60000 (27 %)]\tLoss: 0.354696\n",
      "Train Epoch: 0  [18000/60000 (30 %)]\tLoss: 0.297814\n",
      "Train Epoch: 0  [20000/60000 (33 %)]\tLoss: 0.265019\n",
      "Train Epoch: 0  [22000/60000 (37 %)]\tLoss: 0.151864\n",
      "Train Epoch: 0  [24000/60000 (40 %)]\tLoss: 0.189594\n",
      "Train Epoch: 0  [26000/60000 (43 %)]\tLoss: 0.262190\n",
      "Train Epoch: 0  [28000/60000 (47 %)]\tLoss: 0.204083\n",
      "Train Epoch: 0  [30000/60000 (50 %)]\tLoss: 0.157008\n",
      "Train Epoch: 0  [32000/60000 (53 %)]\tLoss: 0.180553\n",
      "Train Epoch: 0  [34000/60000 (57 %)]\tLoss: 0.154233\n",
      "Train Epoch: 0  [36000/60000 (60 %)]\tLoss: 0.115775\n",
      "Train Epoch: 0  [38000/60000 (63 %)]\tLoss: 0.145616\n",
      "Train Epoch: 0  [40000/60000 (67 %)]\tLoss: 0.122637\n",
      "Train Epoch: 0  [42000/60000 (70 %)]\tLoss: 0.133207\n",
      "Train Epoch: 0  [44000/60000 (73 %)]\tLoss: 0.116752\n",
      "Train Epoch: 0  [46000/60000 (77 %)]\tLoss: 0.110540\n",
      "Train Epoch: 0  [48000/60000 (80 %)]\tLoss: 0.106197\n",
      "Train Epoch: 0  [50000/60000 (83 %)]\tLoss: 0.242956\n",
      "Train Epoch: 0  [52000/60000 (87 %)]\tLoss: 0.134031\n",
      "Train Epoch: 0  [54000/60000 (90 %)]\tLoss: 0.101986\n",
      "Train Epoch: 0  [56000/60000 (93 %)]\tLoss: 0.055899\n",
      "Train Epoch: 0  [58000/60000 (97 %)]\tLoss: 0.073848\n",
      "Train Epoch: 0  [60000/60000 (100%)]\tLoss: 0.131672\n",
      "----------------------------------------------------------------------------------------------------\n",
      "Train Epoch: 1  [0    /60000 (0  %)]\tLoss: 0.114162\n",
      "Train Epoch: 1  [2000 /60000 (3  %)]\tLoss: 0.042284\n",
      "Train Epoch: 1  [4000 /60000 (7  %)]\tLoss: 0.089465\n",
      "Train Epoch: 1  [6000 /60000 (10 %)]\tLoss: 0.063618\n",
      "Train Epoch: 1  [8000 /60000 (13 %)]\tLoss: 0.054648\n",
      "Train Epoch: 1  [10000/60000 (17 %)]\tLoss: 0.110873\n",
      "Train Epoch: 1  [12000/60000 (20 %)]\tLoss: 0.036842\n",
      "Train Epoch: 1  [14000/60000 (23 %)]\tLoss: 0.069381\n",
      "Train Epoch: 1  [16000/60000 (27 %)]\tLoss: 0.060444\n",
      "Train Epoch: 1  [18000/60000 (30 %)]\tLoss: 0.034082\n",
      "Train Epoch: 1  [20000/60000 (33 %)]\tLoss: 0.166128\n",
      "Train Epoch: 1  [22000/60000 (37 %)]\tLoss: 0.058866\n",
      "Train Epoch: 1  [24000/60000 (40 %)]\tLoss: 0.082023\n",
      "Train Epoch: 1  [26000/60000 (43 %)]\tLoss: 0.089710\n",
      "Train Epoch: 1  [28000/60000 (47 %)]\tLoss: 0.067280\n",
      "Train Epoch: 1  [30000/60000 (50 %)]\tLoss: 0.051776\n",
      "Train Epoch: 1  [32000/60000 (53 %)]\tLoss: 0.130514\n",
      "Train Epoch: 1  [34000/60000 (57 %)]\tLoss: 0.047279\n",
      "Train Epoch: 1  [36000/60000 (60 %)]\tLoss: 0.035199\n",
      "Train Epoch: 1  [38000/60000 (63 %)]\tLoss: 0.037171\n",
      "Train Epoch: 1  [40000/60000 (67 %)]\tLoss: 0.084519\n",
      "Train Epoch: 1  [42000/60000 (70 %)]\tLoss: 0.065267\n",
      "Train Epoch: 1  [44000/60000 (73 %)]\tLoss: 0.017206\n",
      "Train Epoch: 1  [46000/60000 (77 %)]\tLoss: 0.159696\n",
      "Train Epoch: 1  [48000/60000 (80 %)]\tLoss: 0.095217\n",
      "Train Epoch: 1  [50000/60000 (83 %)]\tLoss: 0.048967\n",
      "Train Epoch: 1  [52000/60000 (87 %)]\tLoss: 0.032443\n",
      "Train Epoch: 1  [54000/60000 (90 %)]\tLoss: 0.045017\n",
      "Train Epoch: 1  [56000/60000 (93 %)]\tLoss: 0.026636\n",
      "Train Epoch: 1  [58000/60000 (97 %)]\tLoss: 0.085517\n",
      "Train Epoch: 1  [60000/60000 (100%)]\tLoss: 0.070894\n",
      "----------------------------------------------------------------------------------------------------\n",
      "Train Epoch: 2  [0    /60000 (0  %)]\tLoss: 0.077490\n",
      "Train Epoch: 2  [2000 /60000 (3  %)]\tLoss: 0.034372\n",
      "Train Epoch: 2  [4000 /60000 (7  %)]\tLoss: 0.063467\n",
      "Train Epoch: 2  [6000 /60000 (10 %)]\tLoss: 0.059456\n",
      "Train Epoch: 2  [8000 /60000 (13 %)]\tLoss: 0.039909\n",
      "Train Epoch: 2  [10000/60000 (17 %)]\tLoss: 0.036993\n",
      "Train Epoch: 2  [12000/60000 (20 %)]\tLoss: 0.058386\n",
      "Train Epoch: 2  [14000/60000 (23 %)]\tLoss: 0.039898\n",
      "Train Epoch: 2  [16000/60000 (27 %)]\tLoss: 0.115239\n",
      "Train Epoch: 2  [18000/60000 (30 %)]\tLoss: 0.050957\n",
      "Train Epoch: 2  [20000/60000 (33 %)]\tLoss: 0.066143\n",
      "Train Epoch: 2  [22000/60000 (37 %)]\tLoss: 0.079869\n",
      "Train Epoch: 2  [24000/60000 (40 %)]\tLoss: 0.032849\n",
      "Train Epoch: 2  [26000/60000 (43 %)]\tLoss: 0.024020\n",
      "Train Epoch: 2  [28000/60000 (47 %)]\tLoss: 0.098951\n",
      "Train Epoch: 2  [30000/60000 (50 %)]\tLoss: 0.098011\n",
      "Train Epoch: 2  [32000/60000 (53 %)]\tLoss: 0.034629\n",
      "Train Epoch: 2  [34000/60000 (57 %)]\tLoss: 0.030212\n",
      "Train Epoch: 2  [36000/60000 (60 %)]\tLoss: 0.059002\n",
      "Train Epoch: 2  [38000/60000 (63 %)]\tLoss: 0.031190\n",
      "Train Epoch: 2  [40000/60000 (67 %)]\tLoss: 0.095198\n",
      "Train Epoch: 2  [42000/60000 (70 %)]\tLoss: 0.062041\n",
      "Train Epoch: 2  [44000/60000 (73 %)]\tLoss: 0.054804\n",
      "Train Epoch: 2  [46000/60000 (77 %)]\tLoss: 0.034065\n",
      "Train Epoch: 2  [48000/60000 (80 %)]\tLoss: 0.026488\n",
      "Train Epoch: 2  [50000/60000 (83 %)]\tLoss: 0.046399\n",
      "Train Epoch: 2  [52000/60000 (87 %)]\tLoss: 0.098366\n",
      "Train Epoch: 2  [54000/60000 (90 %)]\tLoss: 0.006332\n",
      "Train Epoch: 2  [56000/60000 (93 %)]\tLoss: 0.038084\n",
      "Train Epoch: 2  [58000/60000 (97 %)]\tLoss: 0.047762\n",
      "Train Epoch: 2  [60000/60000 (100%)]\tLoss: 0.082120\n",
      "----------------------------------------------------------------------------------------------------\n",
      "Train Epoch: 3  [0    /60000 (0  %)]\tLoss: 0.038242\n",
      "Train Epoch: 3  [2000 /60000 (3  %)]\tLoss: 0.064973\n",
      "Train Epoch: 3  [4000 /60000 (7  %)]\tLoss: 0.018095\n",
      "Train Epoch: 3  [6000 /60000 (10 %)]\tLoss: 0.021912\n",
      "Train Epoch: 3  [8000 /60000 (13 %)]\tLoss: 0.029382\n",
      "Train Epoch: 3  [10000/60000 (17 %)]\tLoss: 0.055024\n",
      "Train Epoch: 3  [12000/60000 (20 %)]\tLoss: 0.058518\n",
      "Train Epoch: 3  [14000/60000 (23 %)]\tLoss: 0.039937\n",
      "Train Epoch: 3  [16000/60000 (27 %)]\tLoss: 0.021773\n",
      "Train Epoch: 3  [18000/60000 (30 %)]\tLoss: 0.014606\n",
      "Train Epoch: 3  [20000/60000 (33 %)]\tLoss: 0.033725\n",
      "Train Epoch: 3  [22000/60000 (37 %)]\tLoss: 0.014158\n",
      "Train Epoch: 3  [24000/60000 (40 %)]\tLoss: 0.049690\n",
      "Train Epoch: 3  [26000/60000 (43 %)]\tLoss: 0.093688\n",
      "Train Epoch: 3  [28000/60000 (47 %)]\tLoss: 0.070168\n",
      "Train Epoch: 3  [30000/60000 (50 %)]\tLoss: 0.019846\n",
      "Train Epoch: 3  [32000/60000 (53 %)]\tLoss: 0.012177\n",
      "Train Epoch: 3  [34000/60000 (57 %)]\tLoss: 0.003306\n",
      "Train Epoch: 3  [36000/60000 (60 %)]\tLoss: 0.055065\n",
      "Train Epoch: 3  [38000/60000 (63 %)]\tLoss: 0.016933\n",
      "Train Epoch: 3  [40000/60000 (67 %)]\tLoss: 0.009440\n",
      "Train Epoch: 3  [42000/60000 (70 %)]\tLoss: 0.056553\n",
      "Train Epoch: 3  [44000/60000 (73 %)]\tLoss: 0.072851\n",
      "Train Epoch: 3  [46000/60000 (77 %)]\tLoss: 0.013006\n",
      "Train Epoch: 3  [48000/60000 (80 %)]\tLoss: 0.018626\n",
      "Train Epoch: 3  [50000/60000 (83 %)]\tLoss: 0.059573\n",
      "Train Epoch: 3  [52000/60000 (87 %)]\tLoss: 0.015344\n",
      "Train Epoch: 3  [54000/60000 (90 %)]\tLoss: 0.024984\n",
      "Train Epoch: 3  [56000/60000 (93 %)]\tLoss: 0.016327\n",
      "Train Epoch: 3  [58000/60000 (97 %)]\tLoss: 0.011570\n",
      "Train Epoch: 3  [60000/60000 (100%)]\tLoss: 0.015030\n",
      "----------------------------------------------------------------------------------------------------\n",
      "Train Epoch: 4  [0    /60000 (0  %)]\tLoss: 0.011020\n",
      "Train Epoch: 4  [2000 /60000 (3  %)]\tLoss: 0.019797\n",
      "Train Epoch: 4  [4000 /60000 (7  %)]\tLoss: 0.062584\n",
      "Train Epoch: 4  [6000 /60000 (10 %)]\tLoss: 0.009871\n",
      "Train Epoch: 4  [8000 /60000 (13 %)]\tLoss: 0.024504\n",
      "Train Epoch: 4  [10000/60000 (17 %)]\tLoss: 0.062804\n",
      "Train Epoch: 4  [12000/60000 (20 %)]\tLoss: 0.010512\n",
      "Train Epoch: 4  [14000/60000 (23 %)]\tLoss: 0.009381\n",
      "Train Epoch: 4  [16000/60000 (27 %)]\tLoss: 0.019581\n",
      "Train Epoch: 4  [18000/60000 (30 %)]\tLoss: 0.026343\n",
      "Train Epoch: 4  [20000/60000 (33 %)]\tLoss: 0.004095\n",
      "Train Epoch: 4  [22000/60000 (37 %)]\tLoss: 0.024506\n",
      "Train Epoch: 4  [24000/60000 (40 %)]\tLoss: 0.036913\n",
      "Train Epoch: 4  [26000/60000 (43 %)]\tLoss: 0.008275\n",
      "Train Epoch: 4  [28000/60000 (47 %)]\tLoss: 0.020444\n",
      "Train Epoch: 4  [30000/60000 (50 %)]\tLoss: 0.006560\n",
      "Train Epoch: 4  [32000/60000 (53 %)]\tLoss: 0.026655\n",
      "Train Epoch: 4  [34000/60000 (57 %)]\tLoss: 0.050970\n",
      "Train Epoch: 4  [36000/60000 (60 %)]\tLoss: 0.015255\n",
      "Train Epoch: 4  [38000/60000 (63 %)]\tLoss: 0.018974\n",
      "Train Epoch: 4  [40000/60000 (67 %)]\tLoss: 0.042085\n",
      "Train Epoch: 4  [42000/60000 (70 %)]\tLoss: 0.003160\n",
      "Train Epoch: 4  [44000/60000 (73 %)]\tLoss: 0.060505\n",
      "Train Epoch: 4  [46000/60000 (77 %)]\tLoss: 0.085351\n",
      "Train Epoch: 4  [48000/60000 (80 %)]\tLoss: 0.006696\n",
      "Train Epoch: 4  [50000/60000 (83 %)]\tLoss: 0.015964\n",
      "Train Epoch: 4  [52000/60000 (87 %)]\tLoss: 0.029189\n",
      "Train Epoch: 4  [54000/60000 (90 %)]\tLoss: 0.031988\n",
      "Train Epoch: 4  [56000/60000 (93 %)]\tLoss: 0.053889\n",
      "Train Epoch: 4  [58000/60000 (97 %)]\tLoss: 0.008365\n",
      "Train Epoch: 4  [60000/60000 (100%)]\tLoss: 0.016339\n",
      "----------------------------------------------------------------------------------------------------\n"
     ]
    },
    {
     "data": {
      "text/plain": "[[9.59778881072998],\n [11.534192085266113],\n [11.824724197387695],\n [14.456672668457031],\n [16.164148330688477]]"
     },
     "execution_count": 8,
     "metadata": {},
     "output_type": "execute_result"
    }
   ],
   "source": [
    "metric_reslut = t_and_v.train_eval(train_loader=train_loader, valid_sets=[(transforms_data_loader, y_label)])\n",
    "metric_reslut"
   ],
   "metadata": {
    "collapsed": false,
    "pycharm": {
     "name": "#%%\n"
    }
   }
  },
  {
   "cell_type": "code",
   "execution_count": 8,
   "outputs": [],
   "source": [],
   "metadata": {
    "collapsed": false,
    "pycharm": {
     "name": "#%%\n"
    }
   }
  }
 ],
 "metadata": {
  "kernelspec": {
   "display_name": "Python 3",
   "language": "python",
   "name": "python3"
  },
  "language_info": {
   "codemirror_mode": {
    "name": "ipython",
    "version": 2
   },
   "file_extension": ".py",
   "mimetype": "text/x-python",
   "name": "python",
   "nbconvert_exporter": "python",
   "pygments_lexer": "ipython2",
   "version": "2.7.6"
  }
 },
 "nbformat": 4,
 "nbformat_minor": 0
}