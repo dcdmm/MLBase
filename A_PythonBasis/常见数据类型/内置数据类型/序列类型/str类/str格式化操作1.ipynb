{
 "cells": [
  {
   "cell_type": "code",
   "execution_count": 21,
   "metadata": {
    "collapsed": true
   },
   "outputs": [
    {
     "name": "stdout",
     "output_type": "stream",
     "text": [
      "name: pi, value: 3.1415926\n",
      "name: pi, value: 3.1415926\n",
      "name: pi, value: 3.1415926{}\n",
      "name: pi, value: 3.1415926 {}\n",
      "name: PI, value: 3.1415926\n",
      "name: PI, value: 3.1415926\n",
      "name: PI, value: 3.1416\n",
      "name: pi, value: 3.1416\n"
     ]
    }
   ],
   "source": [
    "name = 'pi'\n",
    "pi = 3.1415926\n",
    "\n",
    "print(f'name: {name}, value: {pi}')  # 格式化字符串前面加f或F\n",
    "print('name: {}, value: {}'.format(name, pi))\n",
    "\n",
    "print(F'name: {name}, value: {pi}{{}}')  # 需要输出{}时\n",
    "print('name: {}, value: {} {{}}'.format(name, pi))\n",
    "\n",
    "print(f'name: {name.upper()}, value: {pi}')\n",
    "print('name: {}, value: {}'.format(name.upper(), pi))\n",
    "\n",
    "print(f'name: {name.upper()}, value: {pi:.4f}')\n",
    "print('name: {}, value: {:.4f}'.format(name, pi))"
   ]
  },
  {
   "cell_type": "code",
   "execution_count": 22,
   "outputs": [
    {
     "name": "stdout",
     "output_type": "stream",
     "text": [
      "name: pi, value: 3.1415926\n",
      "name: pi, value: 3.1415926\n"
     ]
    }
   ],
   "source": [
    "dict1 = {'name': 'pi', 'pi': 3.1415926}\n",
    "\n",
    "print(f'name: {dict1[\"name\"]}, value: {dict1[\"pi\"]}')\n",
    "print('name: {}, value: {}'.format(dict1['name'], dict1['pi']))"
   ],
   "metadata": {
    "collapsed": false,
    "pycharm": {
     "name": "#%%\n"
    }
   }
  },
  {
   "cell_type": "code",
   "execution_count": 22,
   "outputs": [],
   "source": [],
   "metadata": {
    "collapsed": false,
    "pycharm": {
     "name": "#%%\n"
    }
   }
  }
 ],
 "metadata": {
  "kernelspec": {
   "display_name": "Python 3",
   "language": "python",
   "name": "python3"
  },
  "language_info": {
   "codemirror_mode": {
    "name": "ipython",
    "version": 2
   },
   "file_extension": ".py",
   "mimetype": "text/x-python",
   "name": "python",
   "nbconvert_exporter": "python",
   "pygments_lexer": "ipython2",
   "version": "2.7.6"
  }
 },
 "nbformat": 4,
 "nbformat_minor": 0
}