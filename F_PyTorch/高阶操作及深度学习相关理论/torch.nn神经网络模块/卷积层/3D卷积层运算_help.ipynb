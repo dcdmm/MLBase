{
 "cells": [
  {
   "cell_type": "markdown",
   "metadata": {
    "collapsed": true
   },
   "source": [
    "### 计算步骤\n",
    "\n",
    "<img src=\"../../../../Other/img/3D卷积.gif\">\n",
    "\n",
    "\n",
    "### 实例分析 \n",
    "\n",
    "<img src=\"../../../../Other/img/3D卷积.png\">\n",
    "\n",
    "\n",
    "3D CNN架构分析:\n",
    "\n",
    "输入层(input):连续的(7帧)大小为$60 * 40$的视频帧图像作为输入 \n",
    "\n",
    "硬线层(hardwired;H1):每帧提取5个通道信息(灰度gray,横坐标梯度(gradient-x),纵坐标梯度(gradient-y),\n",
    "x光流(optflow-x),y光流(optflow-y)).前面三个通道的信息可以直接对每帧分别操作获取,后面的光流(x, y)则需要利用两帧的信息才能提取,\n",
    "因此H1层的特征maps数量:(7+7+7+6+6=33),特征maps的大小依然是$60 * 40$\n",
    "\n",
    "卷积层(convolution;C2):以硬线层的输出作为该层的输入,对输入5个通道信息分别使用大小为$7 * 7 * 3$的3D卷积核进行卷积操作($7* 7$表示空间维度,3表示时间维度,也就是每次操作3帧图像),同时,为了增加特征maps的个数,在这一层采用了两种不同的3D卷积核."
   ]
  },
  {
   "cell_type": "code",
   "execution_count": null,
   "metadata": {},
   "outputs": [],
   "source": []
  }
 ],
 "metadata": {
  "kernelspec": {
   "display_name": "Python 3",
   "language": "python",
   "name": "python3"
  },
  "language_info": {
   "codemirror_mode": {
    "name": "ipython",
    "version": 3
   },
   "file_extension": ".py",
   "mimetype": "text/x-python",
   "name": "python",
   "nbconvert_exporter": "python",
   "pygments_lexer": "ipython3",
   "version": "3.7.7"
  },
  "toc": {
   "base_numbering": 1,
   "nav_menu": {},
   "number_sections": true,
   "sideBar": true,
   "skip_h1_title": false,
   "title_cell": "Table of Contents",
   "title_sidebar": "Contents",
   "toc_cell": false,
   "toc_position": {},
   "toc_section_display": true,
   "toc_window_display": false
  }
 },
 "nbformat": 4,
 "nbformat_minor": 1
}
