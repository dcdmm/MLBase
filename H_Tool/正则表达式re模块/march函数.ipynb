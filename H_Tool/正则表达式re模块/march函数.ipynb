{
 "cells": [
  {
   "cell_type": "code",
   "execution_count": 61,
   "metadata": {
    "collapsed": true,
    "pycharm": {
     "is_executing": false
    }
   },
   "outputs": [
    {
     "name": "stdout",
     "output_type": "stream",
     "text": [
      "<re.Match object; span=(0, 2), match='11'>\n",
      "0\n",
      "2\n",
      "(0, 2)\n",
      "11\n",
      "()\n"
     ]
    }
   ],
   "source": [
    "import  re\n",
    "\n",
    "astr = '11you are 3344 my apple\\n 11开心果，you\\n66a77'\n",
    "# 尝试从字符串的起始位置匹配一个模式,如果不是起始位置匹配成功的话,match()就返回none。\n",
    "result = re.match('11', astr) \n",
    "'''\n",
    "groups()           方法返回一个包含所有小组字符串的元组,从1到...所含的小组号(不包括0)\n",
    "group([group1, …]) 方法用于获得一个或多个分组匹配的字符串，当要获得整个匹配的子串时,可直接使用group()或group(0)\n",
    "start([group])     方法用于获取分组匹配的子串在整个字符串中的起始位置(子串第一个字符的索引),参数默认值为 0\n",
    "end([group])       方法用于获取分组匹配的子串在整个字符串中的结束位置(子串最后一个字符的索引+1),参数默认值为 0\n",
    "span([group])      方法返回 (start(group), end(group))\n",
    "'''\n",
    "print(result)\n",
    "print(result.start()) \n",
    "print(result.end())  \n",
    "print(result.span()) \n",
    "print(result.group())  \n",
    "print(result.groups()) "
   ]
  },
  {
   "cell_type": "code",
   "execution_count": 62,
   "metadata": {
    "pycharm": {
     "is_executing": false,
     "name": "#%%\n"
    }
   },
   "outputs": [
    {
     "name": "stdout",
     "output_type": "stream",
     "text": [
      "(0, 3)\n",
      "www\n",
      "没有该匹配\n",
      "None\n"
     ]
    }
   ],
   "source": [
    "output0 = re.match('www', 'www.taobao.com')\n",
    "output1 = re.match('com', 'www.taobao.com')\n",
    "\n",
    "check_list = [output0, output1]\n",
    "for i in check_list:\n",
    "    if i is None: # None对象没有start,end,span,group,groups方法,不判断直接调用这两个方法，可能会出现异常\n",
    "        print('没有该匹配')\n",
    "        print(re.match('com', 'www.taobao.com'))\n",
    "    else:\n",
    "        print(i.span())\n",
    "        print(i.group())\n"
   ]
  },
  {
   "cell_type": "code",
   "execution_count": 63,
   "metadata": {
    "pycharm": {
     "is_executing": false,
     "name": "#%%\n"
    }
   },
   "outputs": [
    {
     "name": "stdout",
     "output_type": "stream",
     "text": [
      "matchObj.span(1): (0, 26)\n",
      "matchObj.span(0) (0, 4)\n",
      "matchObj.group() :  Cats are smarter than dogs\n",
      "matchObj.group(1) :  Cats\n",
      "matchObj.group(2) :  smarter\n",
      "matchObj.group(0, 2): ('Cats are smarter than dogs', 'smarter')\n",
      "matchObj.groups() ('Cats', 'smarter')\n"
     ]
    }
   ],
   "source": [
    "line = \"Cats are smarter than dogs\"\n",
    "\n",
    "matchObj = re.match( r'(.*) are (.*?) .*', line, re.M|re.I)\n",
    "\n",
    "if matchObj:\n",
    "   print('matchObj.span(1):', matchObj.span(0))\n",
    "   print('matchObj.span(0)', matchObj.span(1))\n",
    "   print(\"matchObj.group() : \", matchObj.group()) \n",
    "   print(\"matchObj.group(1) : \", matchObj.group(1))\n",
    "   print(\"matchObj.group(2) : \", matchObj.group(2))\n",
    "   print('matchObj.group(0, 2):', matchObj.group(0, 2))\n",
    "   print('matchObj.groups()', matchObj.groups())\n",
    "else:\n",
    "   print(\"No match!!\")"
   ]
  },
  {
   "cell_type": "code",
   "execution_count": null,
   "metadata": {
    "pycharm": {
     "name": "#%%\n"
    }
   },
   "outputs": [],
   "source": [
    "\n"
   ]
  }
 ],
 "metadata": {
  "kernelspec": {
   "display_name": "Python 3",
   "language": "python",
   "name": "python3"
  },
  "language_info": {
   "codemirror_mode": {
    "name": "ipython",
    "version": 3
   },
   "file_extension": ".py",
   "mimetype": "text/x-python",
   "name": "python",
   "nbconvert_exporter": "python",
   "pygments_lexer": "ipython3",
   "version": "3.7.7"
  },
  "pycharm": {
   "stem_cell": {
    "cell_type": "raw",
    "metadata": {
     "collapsed": false
    },
    "source": []
   }
  },
  "toc": {
   "base_numbering": 1,
   "nav_menu": {},
   "number_sections": true,
   "sideBar": true,
   "skip_h1_title": false,
   "title_cell": "Table of Contents",
   "title_sidebar": "Contents",
   "toc_cell": false,
   "toc_position": {},
   "toc_section_display": true,
   "toc_window_display": false
  }
 },
 "nbformat": 4,
 "nbformat_minor": 1
}
