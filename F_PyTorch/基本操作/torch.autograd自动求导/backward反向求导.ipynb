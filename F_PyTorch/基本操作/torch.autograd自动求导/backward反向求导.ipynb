{
 "cells": [
  {
   "cell_type": "code",
   "execution_count": 1,
   "metadata": {
    "collapsed": true,
    "pycharm": {
     "name": "#%%\n"
    }
   },
   "outputs": [],
   "source": [
    "import torch"
   ]
  },
  {
   "cell_type": "code",
   "execution_count": 2,
   "outputs": [
    {
     "name": "stdout",
     "output_type": "stream",
     "text": [
      "tensor([1.], requires_grad=True)\n",
      "tensor([2.])\n",
      "tensor([3.], grad_fn=<AddBackward0>)\n",
      "tensor([2.], grad_fn=<AddBackward0>)\n",
      "tensor([6.], grad_fn=<MulBackward0>)\n",
      "\n",
      "True True False False False\n",
      "\n",
      "True False True True True\n",
      "\n",
      "tensor([5.])\n",
      "None\n",
      "None\n",
      "None\n",
      "None\n",
      "\n",
      "None None <AddBackward0 object at 0x000001E6628490C8> <AddBackward0 object at 0x000001E662849348> <MulBackward0 object at 0x000001E6628492C8>\n"
     ]
    }
   ],
   "source": [
    "# 若requires_grad=True,则数据类型必须为浮点数类型\n",
    "w = torch.tensor([1.], requires_grad=True) # backward方法需要指定requires_grad=True(默认requires_grad=False)\n",
    "x = torch.tensor([2.])\n",
    "\n",
    "a = w + x\n",
    "b = torch.add(w, 1)\n",
    "\n",
    "y = torch.mul(a, b)\n",
    "y.backward() # 标量对标量求导\n",
    "\n",
    "print(w)\n",
    "print(x)\n",
    "print(a)\n",
    "print(b)\n",
    "print(y, end='\\n\\n')\n",
    "\n",
    "print(w.is_leaf, x.is_leaf, # w,x为叶tensor\n",
    "      a.is_leaf,\n",
    "      b.is_leaf,\n",
    "      y.is_leaf, end='\\n\\n')\n",
    "\n",
    "print(w.requires_grad,\n",
    "      x.requires_grad,\n",
    "      a.requires_grad,\n",
    "      b.requires_grad,\n",
    "      y.requires_grad, end='\\n\\n') # 是否参与梯度运算\n",
    "\n",
    "print(w.grad) # y关于w的梯度\n",
    "print(x.grad) # x.requires_grad=False,故x.grad=None\n",
    "print(a.grad) # 仅输出叶tensor .grad属性\n",
    "print(b.grad)\n",
    "print(y.grad, end='\\n\\n')\n",
    "\n",
    "print(w.grad_fn, # 叶tensor grad_fn属性为None\n",
    "      x.grad_fn,\n",
    "      a.grad_fn,\n",
    "      b.grad_fn,\n",
    "      y.grad_fn)"
   ],
   "metadata": {
    "collapsed": false,
    "pycharm": {
     "name": "#%%\n"
    }
   }
  },
  {
   "cell_type": "code",
   "execution_count": 3,
   "outputs": [
    {
     "name": "stdout",
     "output_type": "stream",
     "text": [
      "False\n",
      "\n",
      "False\n",
      "True\n",
      "\n",
      "None\n",
      "tensor([2.])\n",
      "tensor([2.])\n",
      "None\n",
      "tensor([1.])\n"
     ]
    }
   ],
   "source": [
    "w = torch.tensor([1.], requires_grad=True)\n",
    "w.requires_grad_(False) # 修改w的requires_grad属性\n",
    "print(w.requires_grad, end='\\n\\n')\n",
    "\n",
    "x = torch.tensor([2.])\n",
    "print(x.requires_grad)\n",
    "x.requires_grad_(True) # 修改x的requires_grad属性\n",
    "print(x.requires_grad, end='\\n\\n')\n",
    "\n",
    "a = w + x\n",
    "a.retain_grad() # Enables .grad attribute for non-leaf Tensors\n",
    "b = torch.add(w, 1)\n",
    "b.retain_grad()\n",
    "\n",
    "y = torch.mul(a, b)\n",
    "y.retain_grad()\n",
    "y.backward()\n",
    "\n",
    "print(w.grad)\n",
    "print(x.grad)\n",
    "print(a.grad) # 通过a.retain_grad(),则可输出y关于a(非叶tensor)的梯度\n",
    "print(b.grad)\n",
    "print(y.grad)"
   ],
   "metadata": {
    "collapsed": false,
    "pycharm": {
     "name": "#%%\n"
    }
   }
  },
  {
   "cell_type": "code",
   "execution_count": 4,
   "outputs": [
    {
     "name": "stdout",
     "output_type": "stream",
     "text": [
      "tensor([32.])\n",
      "tensor([64.])\n",
      "tensor([96.])\n"
     ]
    },
    {
     "ename": "RuntimeError",
     "evalue": "Trying to backward through the graph a second time, but the buffers have already been freed. Specify retain_graph=True when calling backward the first time.",
     "output_type": "error",
     "traceback": [
      "\u001B[1;31m---------------------------------------------------------------------------\u001B[0m",
      "\u001B[1;31mRuntimeError\u001B[0m                              Traceback (most recent call last)",
      "\u001B[1;32m<ipython-input-4-5d07a5be84bd>\u001B[0m in \u001B[0;36m<module>\u001B[1;34m\u001B[0m\n\u001B[0;32m     11\u001B[0m \u001B[0mprint\u001B[0m\u001B[1;33m(\u001B[0m\u001B[0mx\u001B[0m\u001B[1;33m.\u001B[0m\u001B[0mgrad\u001B[0m\u001B[1;33m)\u001B[0m \u001B[1;31m# 梯度继续累加\u001B[0m\u001B[1;33m\u001B[0m\u001B[1;33m\u001B[0m\u001B[0m\n\u001B[0;32m     12\u001B[0m \u001B[1;33m\u001B[0m\u001B[0m\n\u001B[1;32m---> 13\u001B[1;33m \u001B[0my\u001B[0m\u001B[1;33m.\u001B[0m\u001B[0mbackward\u001B[0m\u001B[1;33m(\u001B[0m\u001B[1;33m)\u001B[0m \u001B[1;31m# 报错,此时计算图已被释放\u001B[0m\u001B[1;33m\u001B[0m\u001B[1;33m\u001B[0m\u001B[0m\n\u001B[0m",
      "\u001B[1;32m~\\anaconda3\\lib\\site-packages\\torch\\tensor.py\u001B[0m in \u001B[0;36mbackward\u001B[1;34m(self, gradient, retain_graph, create_graph)\u001B[0m\n\u001B[0;32m    193\u001B[0m                 \u001B[0mproducts\u001B[0m\u001B[1;33m.\u001B[0m \u001B[0mDefaults\u001B[0m \u001B[0mto\u001B[0m\u001B[0;31m \u001B[0m\u001B[0;31m`\u001B[0m\u001B[0;31m`\u001B[0m\u001B[1;32mFalse\u001B[0m\u001B[0;31m`\u001B[0m\u001B[0;31m`\u001B[0m\u001B[1;33m.\u001B[0m\u001B[1;33m\u001B[0m\u001B[1;33m\u001B[0m\u001B[0m\n\u001B[0;32m    194\u001B[0m         \"\"\"\n\u001B[1;32m--> 195\u001B[1;33m         \u001B[0mtorch\u001B[0m\u001B[1;33m.\u001B[0m\u001B[0mautograd\u001B[0m\u001B[1;33m.\u001B[0m\u001B[0mbackward\u001B[0m\u001B[1;33m(\u001B[0m\u001B[0mself\u001B[0m\u001B[1;33m,\u001B[0m \u001B[0mgradient\u001B[0m\u001B[1;33m,\u001B[0m \u001B[0mretain_graph\u001B[0m\u001B[1;33m,\u001B[0m \u001B[0mcreate_graph\u001B[0m\u001B[1;33m)\u001B[0m\u001B[1;33m\u001B[0m\u001B[1;33m\u001B[0m\u001B[0m\n\u001B[0m\u001B[0;32m    196\u001B[0m \u001B[1;33m\u001B[0m\u001B[0m\n\u001B[0;32m    197\u001B[0m     \u001B[1;32mdef\u001B[0m \u001B[0mregister_hook\u001B[0m\u001B[1;33m(\u001B[0m\u001B[0mself\u001B[0m\u001B[1;33m,\u001B[0m \u001B[0mhook\u001B[0m\u001B[1;33m)\u001B[0m\u001B[1;33m:\u001B[0m\u001B[1;33m\u001B[0m\u001B[1;33m\u001B[0m\u001B[0m\n",
      "\u001B[1;32m~\\anaconda3\\lib\\site-packages\\torch\\autograd\\__init__.py\u001B[0m in \u001B[0;36mbackward\u001B[1;34m(tensors, grad_tensors, retain_graph, create_graph, grad_variables)\u001B[0m\n\u001B[0;32m     97\u001B[0m     Variable._execution_engine.run_backward(\n\u001B[0;32m     98\u001B[0m         \u001B[0mtensors\u001B[0m\u001B[1;33m,\u001B[0m \u001B[0mgrad_tensors\u001B[0m\u001B[1;33m,\u001B[0m \u001B[0mretain_graph\u001B[0m\u001B[1;33m,\u001B[0m \u001B[0mcreate_graph\u001B[0m\u001B[1;33m,\u001B[0m\u001B[1;33m\u001B[0m\u001B[1;33m\u001B[0m\u001B[0m\n\u001B[1;32m---> 99\u001B[1;33m         allow_unreachable=True)  # allow_unreachable flag\n\u001B[0m\u001B[0;32m    100\u001B[0m \u001B[1;33m\u001B[0m\u001B[0m\n\u001B[0;32m    101\u001B[0m \u001B[1;33m\u001B[0m\u001B[0m\n",
      "\u001B[1;31mRuntimeError\u001B[0m: Trying to backward through the graph a second time, but the buffers have already been freed. Specify retain_graph=True when calling backward the first time."
     ]
    }
   ],
   "source": [
    "x = torch.tensor([2.], requires_grad=True)\n",
    "y = x**4\n",
    "\n",
    "y.backward(retain_graph=True) # If False, the graph used to compute the grads will be freed\n",
    "print(x.grad)\n",
    "\n",
    "y.backward(retain_graph=True)\n",
    "print(x.grad) # 梯度累加\n",
    "\n",
    "y.backward()\n",
    "print(x.grad) # 梯度继续累加\n",
    "\n",
    "y.backward() # 报错,此时计算图已被释放"
   ],
   "metadata": {
    "collapsed": false,
    "pycharm": {
     "name": "#%%\n"
    }
   }
  }
 ],
 "metadata": {
  "kernelspec": {
   "display_name": "Python 3",
   "language": "python",
   "name": "python3"
  },
  "language_info": {
   "codemirror_mode": {
    "name": "ipython",
    "version": 2
   },
   "file_extension": ".py",
   "mimetype": "text/x-python",
   "name": "python",
   "nbconvert_exporter": "python",
   "pygments_lexer": "ipython2",
   "version": "2.7.6"
  }
 },
 "nbformat": 4,
 "nbformat_minor": 0
}