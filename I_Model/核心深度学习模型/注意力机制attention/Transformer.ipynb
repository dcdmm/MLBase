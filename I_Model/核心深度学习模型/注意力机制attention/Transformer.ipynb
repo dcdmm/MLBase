{
 "cells": [
  {
   "cell_type": "code",
   "execution_count": 225,
   "metadata": {
    "collapsed": true
   },
   "outputs": [],
   "source": [
    "import math\n",
    "import torch.nn.functional as F\n",
    "import collections\n",
    "import torch\n",
    "import torch.utils.data as Data\n",
    "import torch.nn as nn\n",
    "from nltk.translate.bleu_score import sentence_bleu, SmoothingFunction"
   ]
  },
  {
   "cell_type": "markdown",
   "source": [
    "### transformer模型及其组件"
   ],
   "metadata": {
    "collapsed": false,
    "pycharm": {
     "name": "#%% md\n"
    }
   }
  },
  {
   "cell_type": "markdown",
   "source": [
    "#### Position-wise Feed-Forward Networks\n",
    "\n",
    "$$ FFN(x) = \\max(0, xW_1 + b_1)W_2 + b_2 $$"
   ],
   "metadata": {
    "collapsed": false,
    "pycharm": {
     "name": "#%% md\n"
    }
   }
  },
  {
   "cell_type": "code",
   "execution_count": 226,
   "outputs": [
    {
     "data": {
      "text/plain": "torch.Size([2, 3, 8])"
     },
     "execution_count": 226,
     "metadata": {},
     "output_type": "execute_result"
    }
   ],
   "source": [
    "class PositionWiseFFN(nn.Module):\n",
    "    \"\"\"Position-wise Feed-Forward Networks\"\"\"\n",
    "\n",
    "    def __init__(self, ffn_num_input, ffn_num_hiddens, ffn_num_outputs):\n",
    "        super(PositionWiseFFN, self).__init__()\n",
    "        self.dense1 = nn.Linear(ffn_num_input, ffn_num_hiddens)\n",
    "        self.relu = nn.ReLU()\n",
    "        self.dense2 = nn.Linear(ffn_num_hiddens, ffn_num_outputs)\n",
    "\n",
    "    def forward(self, X):\n",
    "        return self.dense2(self.relu(self.dense1(X)))\n",
    "\n",
    "\n",
    "ffn = PositionWiseFFN(4, 5, 8)\n",
    "ffn.eval()\n",
    "ffn(torch.ones((2, 3, 4))).shape"
   ],
   "metadata": {
    "collapsed": false,
    "pycharm": {
     "name": "#%%\n"
    }
   }
  },
  {
   "cell_type": "code",
   "execution_count": 227,
   "outputs": [
    {
     "data": {
      "text/plain": "torch.Size([2, 3, 4])"
     },
     "execution_count": 227,
     "metadata": {},
     "output_type": "execute_result"
    }
   ],
   "source": [
    "class AddNorm(nn.Module):\n",
    "    \"\"\"残差连接和层归一化\"\"\"\n",
    "\n",
    "    def __init__(self,\n",
    "                 # 除mini-batch维度之外其他维度的列表(即进行层归一化的维度)\n",
    "                 normalized_shape,\n",
    "                 dropout):\n",
    "        super(AddNorm, self).__init__()\n",
    "        self.dropout = nn.Dropout(dropout)\n",
    "        self.ln = nn.LayerNorm(normalized_shape)  # Normalized_shape is input.size()[1:]\n",
    "\n",
    "    def forward(self, X, Y):\n",
    "        # 内部为残差连接\n",
    "        return self.ln(self.dropout(Y) + X)\n",
    "\n",
    "\n",
    "add_norm = AddNorm([3, 4], 0.5)\n",
    "add_norm.eval()\n",
    "add_norm(torch.ones((2, 3, 4)), torch.ones((2, 3, 4))).shape"
   ],
   "metadata": {
    "collapsed": false,
    "pycharm": {
     "name": "#%%\n"
    }
   }
  },
  {
   "cell_type": "code",
   "execution_count": 228,
   "outputs": [],
   "source": [
    "def masked_softmax(X, valid_lens=None):\n",
    "    \"\"\"通过在最后⼀个轴上遮蔽元素来执⾏softmax操作\"\"\"\n",
    "\n",
    "    def sequence_mask(X, valid_len, value=0):\n",
    "        \"\"\"Mask irrelevant entries in sequences\"\"\"\n",
    "        maxlen = X.size(1)\n",
    "        # 广播机制\n",
    "        mask = torch.arange(maxlen, device=X.device)[None, :] < valid_len[:, None]\n",
    "        X[~mask] = value\n",
    "        return X\n",
    "\n",
    "    if valid_lens is None:\n",
    "        return F.softmax(X, dim=-1)\n",
    "    else:\n",
    "        shape = X.shape\n",
    "        if valid_lens.dim() == 1:\n",
    "            valid_lens = torch.repeat_interleave(valid_lens, shape[1])\n",
    "        else:\n",
    "            valid_lens = valid_lens.reshape(-1)\n",
    "        # 被遮蔽的元素使用⼀个非常大的负值替换,使其softmax输出为0\n",
    "        X = sequence_mask(X.reshape(-1, shape[-1]), valid_lens,\n",
    "                          value=-1e6)\n",
    "        return F.softmax(X.reshape(shape), dim=-1)\n",
    "\n",
    "\n",
    "class DotProductAttention(nn.Module):\n",
    "    \"\"\"缩放点积注意力\"\"\"\n",
    "\n",
    "    def __init__(self, dropout):\n",
    "        super(DotProductAttention, self).__init__()\n",
    "        self.dropout = nn.Dropout(dropout)\n",
    "\n",
    "    def forward(self, queries, keys, values, valid_lens=None):\n",
    "        # queries.shape = (b, ?q, d)\n",
    "        # keys.shape = (b, ?k, d)\n",
    "        # scores.shape = (b, ?q, d) x (b, d, ?k) = (b, ?q, ?k)\n",
    "        d = queries.shape[-1]\n",
    "        scores = torch.bmm(queries, keys.transpose(1, 2)) / math.sqrt(d)\n",
    "        self.attention_weights = masked_softmax(scores, valid_lens)\n",
    "        # values.shape=(b, ?k, ?v)\n",
    "        # 返回值.shape=(b, ?q, ?k) x (b, ?k, ?v) = (b, ?q, ?v)\n",
    "        return torch.bmm(self.dropout(self.attention_weights), values)\n",
    "\n",
    "\n",
    "class MultiHeadAttention(nn.Module):\n",
    "    \"\"\"多头注意力\"\"\"\n",
    "\n",
    "    def __init__(self,\n",
    "                 # 查询特征数目(E_q)\n",
    "                 query_size,\n",
    "                 # 键特征数目(E_k)\n",
    "                 key_size,\n",
    "                 # 值特征数目(E_v)\n",
    "                 value_size,\n",
    "                 # 多头数目\n",
    "                 num_heads, dropout, bias=False):  # 模仿pytorch的参数组成\n",
    "        super(MultiHeadAttention, self).__init__()\n",
    "        self.num_heads = num_heads\n",
    "        assert query_size % num_heads == 0, \"query_size must be divisible by num_heads\"\n",
    "        self.W_q = nn.Linear(query_size, query_size, bias=bias)\n",
    "        self.W_k = nn.Linear(key_size, query_size, bias=bias)\n",
    "        self.W_v = nn.Linear(value_size, query_size, bias=bias)\n",
    "        self.W_o = nn.Linear(query_size, query_size, bias=bias)\n",
    "        self.attention = DotProductAttention(dropout)\n",
    "\n",
    "    @staticmethod\n",
    "    def transpose_qkv(X, num_heads):\n",
    "        # 输入:X.shape=(N, L or S, E_q)\n",
    "        # X.shape=(N, L or S, num_heads, E_q / num_heads)\n",
    "        X = X.reshape(X.shape[0], X.shape[1], num_heads, -1)\n",
    "        # X.shape=(N, num_heads, L or S, E_q / num_heads)\n",
    "        X = X.permute(0, 2, 1, 3)\n",
    "        # 返回值.shape=(N * num_heads, L or S, E_q / num_heads)\n",
    "        return X.reshape(-1, X.shape[2], X.shape[3])\n",
    "\n",
    "    def forward(self, queries, keys, values, valid_lens):\n",
    "        \"\"\"\n",
    "        queries: 查询\n",
    "        keys: 键\n",
    "        values: 值\n",
    "        valid_lens: 计算attention_weights的有效长度\n",
    "        \"\"\"\n",
    "        # queries.shape=(N, L, E_q)\n",
    "        # self.W_q(queries).shape=(N, L, E_q)\n",
    "        # queries.shape=(N * num_heads, L, E_q / num_heads)\n",
    "\n",
    "        # keys.shape=(N, S, E_k)\n",
    "        # self.W_k(queries).shape=(N, S, E_q)\n",
    "        # keys.shape=(N * num_heads, S, E_q / num_heads)\n",
    "\n",
    "        # values.shape=(N, S, E_v)\n",
    "        # self.W_v(values).shape=(N, S, E_q)\n",
    "        # values.shape=(N * num_heads, S, E_q / num_heads)\n",
    "        queries = self.transpose_qkv(self.W_q(queries), self.num_heads)\n",
    "        keys = self.transpose_qkv(self.W_k(keys), self.num_heads)\n",
    "        values = self.transpose_qkv(self.W_v(values), self.num_heads)\n",
    "\n",
    "        if valid_lens is not None:\n",
    "            # E_q维度信息增加到batch_size维度上\n",
    "            valid_lens = torch.repeat_interleave(valid_lens, repeats=self.num_heads, dim=0)\n",
    "\n",
    "        # output.shape=(N * num_heads, L, E_q / num_heads)\n",
    "        output = self.attention(queries, keys, values, valid_lens)\n",
    "        # output.shape=(N, num_heads, L, E_q / num_heads)\n",
    "        output = output.reshape(-1, self.num_heads, output.shape[1], output.shape[2])\n",
    "        # output.shape=(N, L, num_heads, E_q / num_heads)\n",
    "        output = output.permute(0, 2, 1, 3)\n",
    "        # output.shape=(N, L, E_q)\n",
    "        output_concat = output.reshape(output.shape[0], output.shape[1], -1)\n",
    "        # 返回值.shape=(N, L, E_q)\n",
    "        return self.W_o(output_concat)"
   ],
   "metadata": {
    "collapsed": false,
    "pycharm": {
     "name": "#%%\n"
    }
   }
  },
  {
   "cell_type": "code",
   "execution_count": 229,
   "outputs": [
    {
     "name": "stdout",
     "output_type": "stream",
     "text": [
      "torch.Size([2, 100, 24])\n"
     ]
    }
   ],
   "source": [
    "class EncoderBlock(nn.Module):\n",
    "    \"\"\"transformer编码器Block\"\"\"\n",
    "\n",
    "    def __init__(self,\n",
    "                 # 查询特征数目(E_q)\n",
    "                 query_size,\n",
    "                 # 键特征数目(E_k)\n",
    "                 key_size,\n",
    "                 # 值特征数目(E_v)\n",
    "                 value_size,\n",
    "                 # 除mini-batch维度之外其他维度的列表(即进行层归一化的维度)\n",
    "                 norm_shape,\n",
    "                 ffn_num_hiddens,\n",
    "                 # 多头数\n",
    "                 num_heads, dropout, use_bias=False):\n",
    "        super(EncoderBlock, self).__init__()\n",
    "        self.attention = MultiHeadAttention(query_size, key_size, value_size, num_heads, dropout, use_bias)\n",
    "        self.addnorm1 = AddNorm(norm_shape, dropout)\n",
    "        # 多头注意力`forward`返回值的shape为:(N, L, E_q)\n",
    "        # 故PositionWiseFFN第一个线性层的输入维度为E_q\n",
    "        self.ffn = PositionWiseFFN(query_size, ffn_num_hiddens, query_size)\n",
    "        self.addnorm2 = AddNorm(norm_shape, dropout)\n",
    "\n",
    "    def forward(self, X, valid_lens):\n",
    "        # transformer编码器Block结构为:\n",
    "        # =+残差连接=>多头注意力==>add & Norm=+残差连接=>Feed Forward=>add & Norm\n",
    "        Y = self.addnorm1(X, self.attention(X, X, X, valid_lens))  # 多头自注意力\n",
    "        return self.addnorm2(Y, self.ffn(Y))\n",
    "\n",
    "\n",
    "encoder_blk = EncoderBlock(query_size=24,\n",
    "                           key_size=24,\n",
    "                           value_size=24,\n",
    "                           norm_shape=[100, 24],\n",
    "                           ffn_num_hiddens=48,\n",
    "                           num_heads=8,\n",
    "                           dropout=0.5)\n",
    "encoder_blk.eval()\n",
    "\n",
    "X = torch.ones((2, 100, 24))\n",
    "valid_lens = torch.tensor([3, 2])\n",
    "\n",
    "# 可以看出Transformer编码器中的任何层都不会改变其输⼊的形状(可叠加多层)\n",
    "print(encoder_blk(X, valid_lens).shape)"
   ],
   "metadata": {
    "collapsed": false,
    "pycharm": {
     "name": "#%%\n"
    }
   }
  },
  {
   "cell_type": "code",
   "execution_count": 230,
   "outputs": [],
   "source": [
    "class PositionalEncoding(nn.Module):\n",
    "    \"\"\"位置编码\"\"\"\n",
    "\n",
    "    def __init__(self, num_hiddens, dropout, max_len=1000):\n",
    "        super(PositionalEncoding, self).__init__()\n",
    "        self.dropout = nn.Dropout(dropout)\n",
    "        # 创建⼀个足够长的P\n",
    "        self.P = torch.zeros((1, max_len, num_hiddens))\n",
    "        X = torch.arange(max_len, dtype=torch.float32).reshape(-1, 1) / torch.pow(10000, torch.arange(0, num_hiddens, 2,\n",
    "                                                                                                      dtype=torch.float32) / num_hiddens)\n",
    "        self.P[:, :, 0::2] = torch.sin(X)\n",
    "        self.P[:, :, 1::2] = torch.cos(X)\n",
    "\n",
    "    def forward(self, X):\n",
    "        X = X + self.P[:, :X.shape[1], :].to(X.device)\n",
    "        return self.dropout(X)"
   ],
   "metadata": {
    "collapsed": false,
    "pycharm": {
     "name": "#%%\n"
    }
   }
  },
  {
   "cell_type": "code",
   "execution_count": 231,
   "outputs": [
    {
     "data": {
      "text/plain": "torch.Size([2, 100, 24])"
     },
     "execution_count": 231,
     "metadata": {},
     "output_type": "execute_result"
    }
   ],
   "source": [
    "class TransformerEncoder(nn.Module):\n",
    "    \"\"\"transformer编码器\"\"\"\n",
    "\n",
    "    def __init__(self,\n",
    "                 # 单词表的单词数目\n",
    "                 vocab_size,\n",
    "                 # 查询特征数目(E_q)\n",
    "                 query_size,\n",
    "                 # 键特征数目(E_k)\n",
    "                 key_size,\n",
    "                 # 值特征数目(E_v)\n",
    "                 value_size,\n",
    "                 # 除mini-batch维度之外其他维度的列表(即进行层归一化的维度)\n",
    "                 norm_shape,\n",
    "                 ffn_num_hiddens,\n",
    "                 # 多头数\n",
    "                 num_heads,\n",
    "                 # transformer编码器Block数\n",
    "                 num_layers,\n",
    "                 dropout, use_bias=False):\n",
    "        super(TransformerEncoder, self).__init__()\n",
    "        self.query_size = query_size\n",
    "        self.pos_encoding = PositionalEncoding(query_size, dropout)\n",
    "        self.embedding = nn.Embedding(vocab_size, query_size)\n",
    "        self.blks = nn.Sequential()\n",
    "        for i in range(num_layers):\n",
    "            # 叠加多个transformer编码器Block数\n",
    "            self.blks.add_module(\"block\" + str(i), EncoderBlock(query_size=query_size,\n",
    "                                                                key_size=key_size,\n",
    "                                                                value_size=value_size,\n",
    "                                                                norm_shape=norm_shape,\n",
    "                                                                ffn_num_hiddens=ffn_num_hiddens,\n",
    "                                                                num_heads=num_heads,\n",
    "                                                                dropout=dropout,\n",
    "                                                                use_bias=use_bias))\n",
    "\n",
    "    def forward(self, X, valid_lens):\n",
    "        # 位置编码值在-1和1之间,因此嵌入值乘以嵌⼊维度的平方根进行缩放\n",
    "        X = self.pos_encoding(self.embedding(X) * math.sqrt(self.query_size))\n",
    "        self.attention_weights = [None] * len(self.blks)\n",
    "        for i, blk in enumerate(self.blks):\n",
    "            # 上一个Block数输出为下一个Block数的输入\n",
    "            X = blk(X, valid_lens)\n",
    "            self.attention_weights[i] = blk.attention.attention.attention_weights\n",
    "        return X\n",
    "\n",
    "\n",
    "encoder = TransformerEncoder(\n",
    "    vocab_size=200,\n",
    "    query_size=24,\n",
    "    key_size=24,\n",
    "    value_size=24,\n",
    "    norm_shape=[100, 24],\n",
    "    ffn_num_hiddens=48,\n",
    "    num_heads=8,\n",
    "    num_layers=2,\n",
    "    dropout=0.5)\n",
    "\n",
    "encoder.eval()\n",
    "valid_lens = torch.tensor([3, 2])\n",
    "encoder(torch.ones((2, 100), dtype=torch.long), valid_lens).shape"
   ],
   "metadata": {
    "collapsed": false,
    "pycharm": {
     "name": "#%%\n"
    }
   }
  },
  {
   "cell_type": "code",
   "execution_count": 277,
   "outputs": [
    {
     "name": "stdout",
     "output_type": "stream",
     "text": [
      "key_values.shape: torch.Size([2, 100, 24]) 0\n"
     ]
    },
    {
     "data": {
      "text/plain": "torch.Size([2, 100, 24])"
     },
     "execution_count": 277,
     "metadata": {},
     "output_type": "execute_result"
    }
   ],
   "source": [
    "class DecoderBlock(nn.Module):\n",
    "    \"\"\"transformer解码器Block\"\"\"\n",
    "\n",
    "    def __init__(self,\n",
    "                 # 查询特征数目(E_q)\n",
    "                 query_size,\n",
    "                 # 键特征数目(E_k)\n",
    "                 key_size,\n",
    "                 # 值特征数目(E_v)\n",
    "                 value_size,\n",
    "                 # 除mini-batch维度之外其他维度的列表(即进行层归一化的维度)\n",
    "                 norm_shape,\n",
    "                 ffn_num_hiddens,\n",
    "                 # 多头数\n",
    "                 num_heads,\n",
    "                 dropout,\n",
    "                 # 解码器的第i个Block块\n",
    "                 i):\n",
    "        super(DecoderBlock, self).__init__()\n",
    "        self.i = i\n",
    "        self.attention1 = MultiHeadAttention(\n",
    "            query_size=query_size, key_size=key_size,\n",
    "            value_size=value_size, num_heads=num_heads, dropout=dropout)\n",
    "        self.addnorm1 = AddNorm(norm_shape, dropout)\n",
    "        self.attention2 = MultiHeadAttention(\n",
    "            query_size=query_size, key_size=key_size,\n",
    "            value_size=value_size, num_heads=num_heads, dropout=dropout)\n",
    "        self.addnorm2 = AddNorm(norm_shape, dropout)\n",
    "        self.ffn = PositionWiseFFN(query_size, ffn_num_hiddens, query_size)\n",
    "        self.addnorm3 = AddNorm(norm_shape, dropout)\n",
    "\n",
    "    def forward(self, X, state):\n",
    "        enc_outputs, enc_valid_lens = state[0], state[1]\n",
    "        if state[2][self.i] is None:\n",
    "            # 训练阶段,输出序列的所有词元都在同一时间处理\n",
    "            # 预测阶段,第一个词所有Block结构的第一个多头注意力的key和value均为X\n",
    "            key_values = X\n",
    "        else:\n",
    "            # 预测阶段,key_values为之前state[2][self.i]和本次输入X在dim=1上的连接\n",
    "            # 具体见:transformer解码器预测_help.vsdx\n",
    "            key_values = torch.cat((state[2][self.i], X), dim=1)\n",
    "        # 更新每个Block结构对应的state[2][self.i]\n",
    "        state[2][self.i] = key_values\n",
    "        if self.training:\n",
    "            # 如果为训练模式\n",
    "            batch_size, num_steps, _ = X.shape\n",
    "            # dec_valid_lens.shape=(batch_size, num_steps)\n",
    "            # dec_valid_lens[0]=tensor([1, 2, ..., num_steps],即有效长度分别为1,2,...,num_steps\n",
    "            dec_valid_lens = torch.arange(1, num_steps + 1, device=X.device).repeat(batch_size, 1)\n",
    "        else:\n",
    "            # 预测模型时,不知道后面的内容,不需要进行遮蔽操作\n",
    "            dec_valid_lens = None\n",
    "\n",
    "        # transformer解码器Block结构为:\n",
    "        # =+残差连接=>多头注意力1==>add & Norm=+残差连接=>多头注意力2==>add & Norm=+残差连接=>Feed Forward=>add & Norm\n",
    "\n",
    "        # 第一个多头注意力的key和value为key_values\n",
    "        X2 = self.attention1(X, key_values, key_values, dec_valid_lens)\n",
    "        print(\"key_values.shape:\", key_values.shape, self.i)\n",
    "        Y = self.addnorm1(X, X2)\n",
    "        # 键和值均为编码器的输出\n",
    "        Y2 = self.attention2(Y, enc_outputs, enc_outputs, enc_valid_lens)\n",
    "        Z = self.addnorm2(Y, Y2)\n",
    "        return self.addnorm3(Z, self.ffn(Z)), state\n",
    "\n",
    "\n",
    "decoder_blk = DecoderBlock(query_size=24, key_size=24,\n",
    "                           value_size=24, norm_shape=[100, 24],\n",
    "                           ffn_num_hiddens=48, num_heads=8, dropout=0.5, i=0)\n",
    "\n",
    "decoder_blk.train()\n",
    "X = torch.ones((2, 100, 24))\n",
    "state = [encoder_blk(X, valid_lens), valid_lens, [None]]\n",
    "decoder_blk(X, state)[0].shape"
   ],
   "metadata": {
    "collapsed": false,
    "pycharm": {
     "name": "#%%\n"
    }
   }
  },
  {
   "cell_type": "code",
   "execution_count": 278,
   "outputs": [],
   "source": [
    "class TransformerDecoder(nn.Module):\n",
    "    \"\"\"transformer解码器\"\"\"\n",
    "\n",
    "    def __init__(self,\n",
    "                 # 单词表的单词数目\n",
    "                 vocab_size,\n",
    "                 # 查询特征数目(E_q)\n",
    "                 query_size,\n",
    "                 # 键特征数目(E_k)\n",
    "                 key_size,\n",
    "                 # 值特征数目(E_v)\n",
    "                 value_size,\n",
    "                 # 除mini-batch维度之外其他维度的列表(即进行层归一化的维度)\n",
    "                 norm_shape,\n",
    "                 ffn_num_hiddens,\n",
    "                 # 多头数\n",
    "                 num_heads,\n",
    "                 # transformer解码器Block数\n",
    "                 num_layers,\n",
    "                 dropout):\n",
    "        super(TransformerDecoder, self).__init__()\n",
    "        self.query_size = query_size\n",
    "        self.num_layers = num_layers\n",
    "        self.embedding = nn.Embedding(vocab_size, query_size)\n",
    "        self.pos_encoding = PositionalEncoding(query_size, dropout)\n",
    "        self.blks = nn.Sequential()\n",
    "        for i in range(num_layers):\n",
    "            self.blks.add_module(\"block\" + str(i), DecoderBlock(\n",
    "                query_size=query_size,\n",
    "                key_size=key_size,\n",
    "                value_size=value_size,\n",
    "                norm_shape=norm_shape,\n",
    "                ffn_num_hiddens=ffn_num_hiddens,\n",
    "                num_heads=num_heads,\n",
    "                dropout=dropout,\n",
    "                i=i))\n",
    "        # 最后的线性层\n",
    "        self.dense = nn.Linear(query_size, vocab_size)\n",
    "\n",
    "    def init_state(self, enc_outputs, enc_valid_lens):\n",
    "        # 初始化每一个Block结构的state[2][self.i]均为None\n",
    "        return [enc_outputs, enc_valid_lens, [None] * self.num_layers]\n",
    "\n",
    "    def forward(self, X, state):\n",
    "        X = self.pos_encoding(self.embedding(X) * math.sqrt(self.query_size))\n",
    "        self._attention_weights = [[None] * len(self.blks) for _ in range(2)]\n",
    "        for i, blk in enumerate(self.blks):\n",
    "            # 上一个Block数输出为下一个Block数的输入\n",
    "            X, state = blk(X, state)\n",
    "            # 第一个多头的注意力分数\n",
    "            self._attention_weights[0][i] = blk.attention1.attention.attention_weights\n",
    "            # 第二个多头的注意力分数\n",
    "            self._attention_weights[1][i] = blk.attention2.attention.attention_weights\n",
    "        return self.dense(X), state\n",
    "\n",
    "    @property\n",
    "    def attention_weights(self):\n",
    "        return self._attention_weights"
   ],
   "metadata": {
    "collapsed": false,
    "pycharm": {
     "name": "#%%\n"
    }
   }
  },
  {
   "cell_type": "code",
   "execution_count": 279,
   "outputs": [
    {
     "name": "stdout",
     "output_type": "stream",
     "text": [
      "None\n",
      "key_values.shape: torch.Size([2, 100, 24]) 0\n",
      "key_values.shape: torch.Size([2, 100, 24]) 1\n",
      "key_values.shape: torch.Size([2, 100, 24]) 2\n",
      "key_values.shape: torch.Size([2, 100, 24]) 3\n",
      "key_values.shape: torch.Size([2, 100, 24]) 4\n",
      "key_values.shape: torch.Size([2, 100, 24]) 5\n",
      "output.shape: torch.Size([2, 100, 1000])\n",
      "***********************************\n",
      "tensor([[ 0.2992,  4.3359,  0.4896,  ...,  6.3468,  3.9151,  6.9389],\n",
      "        [ 1.2341,  3.8251,  0.9870,  ...,  6.3468,  3.9153,  6.9389],\n",
      "        [ 1.3095,  2.7624,  1.3791,  ...,  6.3468,  3.9156,  6.9389],\n",
      "        ...,\n",
      "        [ 0.7210,  2.1968,  1.4484,  ...,  6.3457,  3.9383,  6.9386],\n",
      "        [-0.3379,  2.3144,  1.5983,  ...,  6.3457,  3.9386,  6.9386],\n",
      "        [-0.8111,  3.2690,  0.0000,  ...,  6.3456,  0.0000,  6.9386]],\n",
      "       grad_fn=<SliceBackward0>)\n",
      "torch.Size([100, 24])\n",
      "***********************************\n",
      "key_values.shape: torch.Size([2, 200, 24]) 0\n",
      "key_values.shape: torch.Size([2, 200, 24]) 1\n",
      "key_values.shape: torch.Size([2, 200, 24]) 2\n",
      "key_values.shape: torch.Size([2, 200, 24]) 3\n",
      "key_values.shape: torch.Size([2, 200, 24]) 4\n",
      "key_values.shape: torch.Size([2, 200, 24]) 5\n",
      "output.shape: torch.Size([2, 100, 1000])\n",
      "tensor([[ 0.2992,  4.3359,  0.4896,  ...,  6.3468,  3.9151,  6.9389],\n",
      "        [ 1.2341,  3.8251,  0.9870,  ...,  6.3468,  3.9153,  6.9389],\n",
      "        [ 1.3095,  2.7624,  1.3791,  ...,  6.3468,  3.9156,  6.9389],\n",
      "        ...,\n",
      "        [ 0.0000,  2.1968,  1.4484,  ...,  6.3457,  3.9383,  6.9386],\n",
      "        [-0.3379,  2.3144,  1.5983,  ...,  6.3457,  3.9386,  6.9386],\n",
      "        [-0.8111,  3.2690,  1.5136,  ...,  6.3456,  3.9388,  6.9386]],\n",
      "       grad_fn=<SliceBackward0>)\n",
      "torch.Size([200, 24])\n",
      "key_values.shape: torch.Size([2, 300, 24]) 0\n",
      "key_values.shape: torch.Size([2, 300, 24]) 1\n",
      "key_values.shape: torch.Size([2, 300, 24]) 2\n",
      "key_values.shape: torch.Size([2, 300, 24]) 3\n",
      "key_values.shape: torch.Size([2, 300, 24]) 4\n",
      "key_values.shape: torch.Size([2, 300, 24]) 5\n",
      "output.shape: torch.Size([2, 100, 1000])\n",
      "tensor([[ 0.2992,  4.3359,  0.4896,  ...,  6.3468,  3.9151,  6.9389],\n",
      "        [ 1.2341,  3.8251,  0.9870,  ...,  6.3468,  3.9153,  6.9389],\n",
      "        [ 1.3095,  2.7624,  1.3791,  ...,  6.3468,  3.9156,  6.9389],\n",
      "        ...,\n",
      "        [ 0.7210,  2.1968,  1.4484,  ...,  6.3457,  3.9383,  6.9386],\n",
      "        [-0.3379,  2.3144,  1.5983,  ...,  6.3457,  3.9386,  6.9386],\n",
      "        [-0.0000,  3.2690,  1.5136,  ...,  0.0000,  3.9388,  6.9386]],\n",
      "       grad_fn=<SliceBackward0>)\n",
      "torch.Size([300, 24])\n"
     ]
    }
   ],
   "source": [
    "num_heads, num_layers, dropout = 4, 6, 0.1\n",
    "key_size, query_size, value_size = 24, 24, 24\n",
    "ffn_num_hiddens = 48\n",
    "norm_shape = [24]\n",
    "\n",
    "decoder = TransformerDecoder(\n",
    "    vocab_size=1000,\n",
    "    query_size=query_size,\n",
    "    key_size=key_size,\n",
    "    value_size=value_size,\n",
    "    norm_shape=norm_shape,\n",
    "    ffn_num_hiddens=ffn_num_hiddens,\n",
    "    num_heads=num_heads,\n",
    "    num_layers=num_layers,\n",
    "    dropout=dropout)\n",
    "\n",
    "valid_lens = torch.tensor([3, 2])\n",
    "X0 = torch.ones((2, 100), dtype=torch.long)\n",
    "state = decoder.init_state(encoder(X0, valid_lens), valid_lens)\n",
    "for i in state[2]:\n",
    "    print(i)\n",
    "    break\n",
    "\n",
    "X1 = torch.ones((2, 100), dtype=torch.long)\n",
    "output, state = decoder(X1, state)\n",
    "print(\"output.shape:\", output.shape)\n",
    "\n",
    "print('***********************************')\n",
    "for i in state[2]:\n",
    "    print(i[0, :, :])\n",
    "    print(i[0, :, :].shape)\n",
    "    break\n",
    "\n",
    "print('***********************************')\n",
    "X2 = torch.ones((2, 100), dtype=torch.long)\n",
    "output, state = decoder(X2, state)\n",
    "print(\"output.shape:\", output.shape)\n",
    "for i in state[2]:\n",
    "    print(i[0, :, :])\n",
    "    print(i[0, :, :].shape)\n",
    "    break\n",
    "\n",
    "X3 = torch.ones((2, 100), dtype=torch.long)\n",
    "output, state = decoder(X3, state)\n",
    "print(\"output.shape:\", output.shape)\n",
    "for i in state[2]:\n",
    "    print(i[0, :, :])\n",
    "    print(i[0, :, :].shape)\n",
    "    break"
   ],
   "metadata": {
    "collapsed": false,
    "pycharm": {
     "name": "#%%\n"
    }
   }
  },
  {
   "cell_type": "code",
   "execution_count": 235,
   "outputs": [],
   "source": [
    "class EncoderDecoder(nn.Module):\n",
    "    \"\"\"The base class for the encoder-decoder architecture\"\"\"\n",
    "\n",
    "    def __init__(self, encoder, decoder):\n",
    "        super(EncoderDecoder, self).__init__()\n",
    "        self.encoder = encoder  # 编码器\n",
    "        self.decoder = decoder  # 解码器\n",
    "\n",
    "    def forward(self, enc_X, dec_X):\n",
    "        enc_outputs = self.encoder(enc_X)\n",
    "        dec_state = self.decoder.init_state(enc_outputs)\n",
    "        return self.decoder(dec_X, dec_state)"
   ],
   "metadata": {
    "collapsed": false,
    "pycharm": {
     "name": "#%%\n"
    }
   }
  },
  {
   "cell_type": "markdown",
   "source": [
    "### 数据处理"
   ],
   "metadata": {
    "collapsed": false
   }
  },
  {
   "cell_type": "code",
   "execution_count": 236,
   "outputs": [
    {
     "name": "stdout",
     "output_type": "stream",
     "text": [
      "Go.\tVa !\n",
      "Hi.\tSalut !\n",
      "Run!\tCours !\n",
      "Run!\tCourez !\n",
      "Who?\tQui ?\n",
      "Wow!\tÇa alors !\n",
      "\n"
     ]
    }
   ],
   "source": [
    "with open('fra.txt', 'r', encoding='utf-8') as f:\n",
    "    raw_text = f.read()\n",
    "\n",
    "# 左边为英文句子,右边为对应的法文句子\n",
    "print(raw_text[:75])"
   ],
   "metadata": {
    "collapsed": false,
    "pycharm": {
     "name": "#%%\n"
    }
   }
  },
  {
   "cell_type": "code",
   "execution_count": 237,
   "outputs": [
    {
     "name": "stdout",
     "output_type": "stream",
     "text": [
      "go .\tva !\n",
      "hi .\tsalut !\n",
      "run !\tcours !\n",
      "run !\tcourez !\n",
      "who ?\tqui ?\n",
      "wow !\tça alors !\n"
     ]
    }
   ],
   "source": [
    "def preprocess_nmt(text):\n",
    "    \"\"\"预处理\"英语<--->法语\"数据集\"\"\"\n",
    "\n",
    "    def no_space(char, prev_char):\n",
    "        return char in set(',.!?') and prev_char != ' '\n",
    "\n",
    "    # 使用空格替换不间断空格(non-breaking space)\n",
    "    text = text.replace('\\u202f', ' ').replace('\\xa0', ' ').lower()\n",
    "    # 使用小写字母替换大写字母\n",
    "    text = text.lower()\n",
    "    # 在单词和标点符号之间插⼊空格\n",
    "    out = [' ' + char if i > 0 and no_space(char, text[i - 1]) else char\n",
    "           for i, char in enumerate(text)]\n",
    "    return ''.join(out)\n",
    "\n",
    "\n",
    "text = preprocess_nmt(raw_text)\n",
    "print(text[:80])"
   ],
   "metadata": {
    "collapsed": false,
    "pycharm": {
     "name": "#%%\n"
    }
   }
  },
  {
   "cell_type": "code",
   "execution_count": 238,
   "outputs": [
    {
     "data": {
      "text/plain": "([['go', '.'],\n  ['hi', '.'],\n  ['run', '!'],\n  ['run', '!'],\n  ['who', '?'],\n  ['wow', '!'],\n  ['fire', '!'],\n  ['help', '!'],\n  ['jump', '.'],\n  ['stop', '!']],\n [['va', '!'],\n  ['salut', '!'],\n  ['cours', '!'],\n  ['courez', '!'],\n  ['qui', '?'],\n  ['ça', 'alors', '!'],\n  ['au', 'feu', '!'],\n  ['à', \"l'aide\", '!'],\n  ['saute', '.'],\n  ['ça', 'suffit', '!']])"
     },
     "execution_count": 238,
     "metadata": {},
     "output_type": "execute_result"
    }
   ],
   "source": [
    "def tokenize_nmt(text,\n",
    "                 num_examples=None):  # 参与训练的训练样本数\n",
    "    \"\"\"词元化\"英语<--->法语\"数据数据集\"\"\"\n",
    "    source, target = [], []\n",
    "    for i, line in enumerate(text.split('\\n')):\n",
    "        if num_examples and i > num_examples:\n",
    "            break\n",
    "        parts = line.split('\\t')\n",
    "        source.append(parts[0].split(' '))  # 英文数据\n",
    "        target.append(parts[1].split(' '))  # 法文数据\n",
    "    return source, target\n",
    "\n",
    "\n",
    "source, target = tokenize_nmt(text)\n",
    "source[:10], target[:10]  # 每个子列表表示一个句子的切分(根据' '切分)"
   ],
   "metadata": {
    "collapsed": false,
    "pycharm": {
     "name": "#%%\n"
    }
   }
  },
  {
   "cell_type": "code",
   "execution_count": 239,
   "outputs": [
    {
     "data": {
      "text/plain": "10012"
     },
     "execution_count": 239,
     "metadata": {},
     "output_type": "execute_result"
    }
   ],
   "source": [
    "def count_corpus(tokens):\n",
    "    \"\"\"Count token frequencies\"\"\"\n",
    "    # Here `tokens` is a 1D list or 2D list\n",
    "    if len(tokens) == 0 or isinstance(tokens[0], list):\n",
    "        # Flatten a list of token lists into a list of tokens\n",
    "        tokens = [token for line in tokens for token in line]\n",
    "    return collections.Counter(tokens)\n",
    "\n",
    "\n",
    "class Vocab:\n",
    "    \"\"\"Vocabulary for text\"\"\"\n",
    "\n",
    "    def __init__(self, tokens=None,\n",
    "                 # The minimum frequency needed to include a token in the vocabulary.\n",
    "                 min_freq=2,\n",
    "                 reserved_tokens=None):\n",
    "        if tokens is None:\n",
    "            tokens = []\n",
    "        if reserved_tokens is None:\n",
    "            reserved_tokens = []\n",
    "        counter = count_corpus(tokens)\n",
    "        # Sort according to frequencies\n",
    "        self._token_freqs = sorted(counter.items(), key=lambda x: x[1],\n",
    "                                   reverse=True)\n",
    "        # The index for the unknown token is 0\n",
    "        self.idx_to_token = ['<unk>'] + reserved_tokens\n",
    "        self.token_to_idx = {\n",
    "            token: idx for idx, token in enumerate(self.idx_to_token)}\n",
    "        for token, freq in self._token_freqs:\n",
    "            if freq < min_freq:\n",
    "                break\n",
    "            if token not in self.token_to_idx:\n",
    "                self.idx_to_token.append(token)\n",
    "                self.token_to_idx[token] = len(self.idx_to_token) - 1\n",
    "\n",
    "    def __len__(self):\n",
    "        return len(self.idx_to_token)\n",
    "\n",
    "    def __getitem__(self, tokens):\n",
    "        if not isinstance(tokens, (list, tuple)):\n",
    "            return self.token_to_idx.get(tokens, self.unk)\n",
    "        return [self.__getitem__(token) for token in tokens]\n",
    "\n",
    "    def to_tokens(self, indices):\n",
    "        if not isinstance(indices, (list, tuple)):\n",
    "            return self.idx_to_token[indices]\n",
    "        return [self.idx_to_token[index] for index in indices]\n",
    "\n",
    "    @property\n",
    "    def unk(self):\n",
    "        \"\"\"Index for the unknown token\"\"\"\n",
    "        return 0\n",
    "\n",
    "    @property\n",
    "    def token_freqs(self):\n",
    "        return self._token_freqs\n",
    "\n",
    "\n",
    "# '<unk>':未知词元\n",
    "# '<pad>':填充词元\n",
    "# '<sos>':开始词元\n",
    "# '<eos>':结束词元\n",
    "src_vocab = Vocab(source, min_freq=2, reserved_tokens=['<pad>', '<sos>', '<eos>'])\n",
    "len(src_vocab)"
   ],
   "metadata": {
    "collapsed": false,
    "pycharm": {
     "name": "#%%\n"
    }
   }
  },
  {
   "cell_type": "code",
   "execution_count": 240,
   "outputs": [
    {
     "data": {
      "text/plain": "[47, 4, 1, 1, 1, 1, 1, 1, 1, 1]"
     },
     "execution_count": 240,
     "metadata": {},
     "output_type": "execute_result"
    }
   ],
   "source": [
    "def truncate_pad(line, num_steps, padding_token):\n",
    "    \"\"\"截断或填充文本序列\"\"\"\n",
    "    if len(line) > num_steps:\n",
    "        return line[:num_steps]  # 句子截断\n",
    "    return line + [padding_token] * (num_steps - len(line))  # 句子填充\n",
    "\n",
    "\n",
    "truncate_pad(src_vocab[source[0]], 10, src_vocab['<pad>'])"
   ],
   "metadata": {
    "collapsed": false,
    "pycharm": {
     "name": "#%%\n"
    }
   }
  },
  {
   "cell_type": "code",
   "execution_count": 241,
   "outputs": [
    {
     "name": "stdout",
     "output_type": "stream",
     "text": [
      "tensor([[  47,    4,    3,  ...,    1,    1,    1],\n",
      "        [2944,    4,    3,  ...,    1,    1,    1],\n",
      "        [ 435,  126,    3,  ...,    1,    1,    1],\n",
      "        ...,\n",
      "        [ 381,   60,   26,  ...,  480,   68, 4696],\n",
      "        [  66,  295,   90,  ...,   10, 1170, 1526],\n",
      "        [  17,  176,   32,  ...,    8, 1963,   16]])\n",
      "torch.Size([167130, 15])\n",
      "tensor([ 3,  3,  3,  ..., 15, 15, 15])\n"
     ]
    }
   ],
   "source": [
    "def build_array_nmt(lines, vocab, num_steps):\n",
    "    \"\"\"将文本序列转换为数值矩阵\"\"\"\n",
    "    lines = [vocab[l] for l in lines]\n",
    "    lines = [l + [vocab['<eos>']] for l in lines]  # 使用'<eos>'表示句子的结尾\n",
    "    array = torch.tensor([truncate_pad(l, num_steps, vocab['<pad>']) for l in lines])\n",
    "    valid_len = (array != vocab['<pad>']).to(dtype=torch.int32).sum(1)\n",
    "    return array, valid_len\n",
    "\n",
    "\n",
    "array, valid_len = build_array_nmt(source, src_vocab, 15)\n",
    "print(array)  # 通过vocab将句子从token转换为idx(等长,不足部分1填充)\n",
    "print(array.shape)\n",
    "print(valid_len)  # 每个句子的实际长度"
   ],
   "metadata": {
    "collapsed": false,
    "pycharm": {
     "name": "#%%\n"
    }
   }
  },
  {
   "cell_type": "code",
   "execution_count": 242,
   "outputs": [
    {
     "name": "stdout",
     "output_type": "stream",
     "text": [
      "X: tensor([[ 16,  31,   4,   3,   1,   1,   1,   1,   1,   1,   1,   1,   1,   1,\n",
      "           1],\n",
      "        [ 51,   9,   4,   3,   1,   1,   1,   1,   1,   1,   1,   1,   1,   1,\n",
      "           1],\n",
      "        [ 26,  37,   4,   3,   1,   1,   1,   1,   1,   1,   1,   1,   1,   1,\n",
      "           1],\n",
      "        [ 99,   5,   3,   1,   1,   1,   1,   1,   1,   1,   1,   1,   1,   1,\n",
      "           1],\n",
      "        [  7,  67,   4,   3,   1,   1,   1,   1,   1,   1,   1,   1,   1,   1,\n",
      "           1],\n",
      "        [ 96,  15,   8,  12,   3,   1,   1,   1,   1,   1,   1,   1,   1,   1,\n",
      "           1],\n",
      "        [  8,  77,   4,   3,   1,   1,   1,   1,   1,   1,   1,   1,   1,   1,\n",
      "           1],\n",
      "        [ 72,  19,   4,   3,   1,   1,   1,   1,   1,   1,   1,   1,   1,   1,\n",
      "           1],\n",
      "        [ 26,  37,   5,   3,   1,   1,   1,   1,   1,   1,   1,   1,   1,   1,\n",
      "           1],\n",
      "        [ 52,  27,   5,   3,   1,   1,   1,   1,   1,   1,   1,   1,   1,   1,\n",
      "           1],\n",
      "        [ 34,  69,  12,   3,   1,   1,   1,   1,   1,   1,   1,   1,   1,   1,\n",
      "           1],\n",
      "        [144,  19,   4,   3,   1,   1,   1,   1,   1,   1,   1,   1,   1,   1,\n",
      "           1],\n",
      "        [127,  10,   4,   3,   1,   1,   1,   1,   1,   1,   1,   1,   1,   1,\n",
      "           1],\n",
      "        [ 36,  11,   4,   3,   1,   1,   1,   1,   1,   1,   1,   1,   1,   1,\n",
      "           1],\n",
      "        [102,  42,   4,   3,   1,   1,   1,   1,   1,   1,   1,   1,   1,   1,\n",
      "           1],\n",
      "        [119,  14,   4,   3,   1,   1,   1,   1,   1,   1,   1,   1,   1,   1,\n",
      "           1],\n",
      "        [121,   9,   4,   3,   1,   1,   1,   1,   1,   1,   1,   1,   1,   1,\n",
      "           1],\n",
      "        [153,  11,   4,   3,   1,   1,   1,   1,   1,   1,   1,   1,   1,   1,\n",
      "           1],\n",
      "        [ 52,  70,   4,   3,   1,   1,   1,   1,   1,   1,   1,   1,   1,   1,\n",
      "           1],\n",
      "        [ 45,   5,   3,   1,   1,   1,   1,   1,   1,   1,   1,   1,   1,   1,\n",
      "           1],\n",
      "        [  6,   0,   4,   3,   1,   1,   1,   1,   1,   1,   1,   1,   1,   1,\n",
      "           1],\n",
      "        [ 28,   0,   4,   3,   1,   1,   1,   1,   1,   1,   1,   1,   1,   1,\n",
      "           1],\n",
      "        [  0,   5,   3,   1,   1,   1,   1,   1,   1,   1,   1,   1,   1,   1,\n",
      "           1],\n",
      "        [  7,   0,   4,   3,   1,   1,   1,   1,   1,   1,   1,   1,   1,   1,\n",
      "           1],\n",
      "        [ 38,  33,   4,   3,   1,   1,   1,   1,   1,   1,   1,   1,   1,   1,\n",
      "           1],\n",
      "        [ 28, 154,   4,   3,   1,   1,   1,   1,   1,   1,   1,   1,   1,   1,\n",
      "           1],\n",
      "        [ 50,  14,   5,   3,   1,   1,   1,   1,   1,   1,   1,   1,   1,   1,\n",
      "           1],\n",
      "        [126,  11,   4,   3,   1,   1,   1,   1,   1,   1,   1,   1,   1,   1,\n",
      "           1],\n",
      "        [  6, 135,   4,   3,   1,   1,   1,   1,   1,   1,   1,   1,   1,   1,\n",
      "           1],\n",
      "        [ 13,  23,   4,   3,   1,   1,   1,   1,   1,   1,   1,   1,   1,   1,\n",
      "           1],\n",
      "        [  0,   5,   3,   1,   1,   1,   1,   1,   1,   1,   1,   1,   1,   1,\n",
      "           1],\n",
      "        [  8,  25,   4,   3,   1,   1,   1,   1,   1,   1,   1,   1,   1,   1,\n",
      "           1]], dtype=torch.int32)\n",
      "valid lengths for X: tensor([4, 4, 4, 3, 4, 5, 4, 4, 4, 4, 4, 4, 4, 4, 4, 4, 4, 4, 4, 3, 4, 4, 3, 4,\n",
      "        4, 4, 4, 4, 4, 4, 3, 4])\n",
      "Y: tensor([[106,   4,   3,   1,   1,   1,   1,   1,   1,   1,   1,   1,   1,   1,\n",
      "           1],\n",
      "        [104,  26,   5,   3,   1,   1,   1,   1,   1,   1,   1,   1,   1,   1,\n",
      "           1],\n",
      "        [  0,   4,   3,   1,   1,   1,   1,   1,   1,   1,   1,   1,   1,   1,\n",
      "           1],\n",
      "        [ 75,  76,   5,   3,   1,   1,   1,   1,   1,   1,   1,   1,   1,   1,\n",
      "           1],\n",
      "        [  6,   7,   0,   4,   3,   1,   1,   1,   1,   1,   1,   1,   1,   1,\n",
      "           1],\n",
      "        [ 73, 150,  71,   9,   3,   1,   1,   1,   1,   1,   1,   1,   1,   1,\n",
      "           1],\n",
      "        [ 16,  83,  57,   4,   3,   1,   1,   1,   1,   1,   1,   1,   1,   1,\n",
      "           1],\n",
      "        [154, 155,  25,   4,   3,   1,   1,   1,   1,   1,   1,   1,   1,   1,\n",
      "           1],\n",
      "        [133,   5,   3,   1,   1,   1,   1,   1,   1,   1,   1,   1,   1,   1,\n",
      "           1],\n",
      "        [ 54,   5,   3,   1,   1,   1,   1,   1,   1,   1,   1,   1,   1,   1,\n",
      "           1],\n",
      "        [ 20,  18, 157,   9,   3,   1,   1,   1,   1,   1,   1,   1,   1,   1,\n",
      "           1],\n",
      "        [  6,  33,  40,   4,   3,   1,   1,   1,   1,   1,   1,   1,   1,   1,\n",
      "           1],\n",
      "        [  0,   8,   4,   3,   1,   1,   1,   1,   1,   1,   1,   1,   1,   1,\n",
      "           1],\n",
      "        [  0,   5,   3,   1,   1,   1,   1,   1,   1,   1,   1,   1,   1,   1,\n",
      "           1],\n",
      "        [ 13,  38,   4,   3,   1,   1,   1,   1,   1,   1,   1,   1,   1,   1,\n",
      "           1],\n",
      "        [  0,   4,   3,   1,   1,   1,   1,   1,   1,   1,   1,   1,   1,   1,\n",
      "           1],\n",
      "        [  0,   5,   3,   1,   1,   1,   1,   1,   1,   1,   1,   1,   1,   1,\n",
      "           1],\n",
      "        [  0, 158,   4,   3,   1,   1,   1,   1,   1,   1,   1,   1,   1,   1,\n",
      "           1],\n",
      "        [ 54,  55,   4,   3,   1,   1,   1,   1,   1,   1,   1,   1,   1,   1,\n",
      "           1],\n",
      "        [ 24,   0,   5,   3,   1,   1,   1,   1,   1,   1,   1,   1,   1,   1,\n",
      "           1],\n",
      "        [ 17,  39, 118,  43,  22,   0,   4,   3,   1,   1,   1,   1,   1,   1,\n",
      "           1],\n",
      "        [ 65,  31,   0,   4,   3,   1,   1,   1,   1,   1,   1,   1,   1,   1,\n",
      "           1],\n",
      "        [ 13,  22,   0,   4,   3,   1,   1,   1,   1,   1,   1,   1,   1,   1,\n",
      "           1],\n",
      "        [ 28,   0,   0,   4,   3,   1,   1,   1,   1,   1,   1,   1,   1,   1,\n",
      "           1],\n",
      "        [  0,  29,   5,   3,   1,   1,   1,   1,   1,   1,   1,   1,   1,   1,\n",
      "           1],\n",
      "        [  0,   5,   3,   1,   1,   1,   1,   1,   1,   1,   1,   1,   1,   1,\n",
      "           1],\n",
      "        [127,   5,   3,   1,   1,   1,   1,   1,   1,   1,   1,   1,   1,   1,\n",
      "           1],\n",
      "        [ 95,   0,   4,   3,   1,   1,   1,   1,   1,   1,   1,   1,   1,   1,\n",
      "           1],\n",
      "        [  6,   7,   0,   4,   3,   1,   1,   1,   1,   1,   1,   1,   1,   1,\n",
      "           1],\n",
      "        [ 14,   0,   5,   3,   1,   1,   1,   1,   1,   1,   1,   1,   1,   1,\n",
      "           1],\n",
      "        [  0,   5,   3,   1,   1,   1,   1,   1,   1,   1,   1,   1,   1,   1,\n",
      "           1],\n",
      "        [ 45,   5,   3,   1,   1,   1,   1,   1,   1,   1,   1,   1,   1,   1,\n",
      "           1]], dtype=torch.int32)\n",
      "valid lengths for Y: tensor([3, 4, 3, 4, 5, 5, 5, 5, 3, 3, 5, 5, 4, 3, 4, 3, 3, 4, 4, 4, 8, 5, 5, 5,\n",
      "        4, 3, 3, 4, 5, 4, 3, 3])\n"
     ]
    }
   ],
   "source": [
    "def load_array(data_arrays, batch_size, is_train=True):\n",
    "    \"\"\"Construct a PyTorch data iterator\"\"\"\n",
    "    dataset = Data.TensorDataset(*data_arrays)\n",
    "    return Data.DataLoader(dataset, batch_size,\n",
    "                           shuffle=is_train)  # 训练模式下设置shuffle=True\n",
    "\n",
    "\n",
    "def load_data_nmt(text, batch_size, num_steps, num_examples=None):\n",
    "    \"\"\"返回翻译数据集的迭代器和词汇表\"\"\"\n",
    "    source, target = tokenize_nmt(text, num_examples=num_examples)\n",
    "    # 英文数据词表\n",
    "    src_vocab = Vocab(source, min_freq=2,\n",
    "                      reserved_tokens=['<pad>', '<bos>', '<eos>'])\n",
    "    # 法文数据词表\n",
    "    tgt_vocab = Vocab(target, min_freq=2,\n",
    "                      reserved_tokens=['<pad>', '<bos>', '<eos>'])\n",
    "    src_array, src_valid_len = build_array_nmt(source, src_vocab, num_steps)\n",
    "    tgt_array, tgt_valid_len = build_array_nmt(target, tgt_vocab, num_steps)\n",
    "    data_arrays = (src_array, src_valid_len, tgt_array, tgt_valid_len)\n",
    "    data_iter = load_array(data_arrays, batch_size)\n",
    "    return data_iter, src_vocab, tgt_vocab\n",
    "\n",
    "\n",
    "train_iter, src_vocab, tgt_vocab = load_data_nmt(text, batch_size=32, num_steps=15, num_examples=500)\n",
    "for X, X_valid_len, Y, Y_valid_len in train_iter:\n",
    "    print('X:', X.type(torch.int32))\n",
    "    print('valid lengths for X:', X_valid_len)\n",
    "    print('Y:', Y.type(torch.int32))\n",
    "    print('valid lengths for Y:', Y_valid_len)\n",
    "    break"
   ],
   "metadata": {
    "collapsed": false,
    "pycharm": {
     "name": "#%%\n"
    }
   }
  },
  {
   "cell_type": "code",
   "execution_count": null,
   "outputs": [],
   "source": [],
   "metadata": {
    "collapsed": false,
    "pycharm": {
     "name": "#%%\n"
    }
   }
  }
 ],
 "metadata": {
  "kernelspec": {
   "display_name": "Python 3",
   "language": "python",
   "name": "python3"
  },
  "language_info": {
   "codemirror_mode": {
    "name": "ipython",
    "version": 2
   },
   "file_extension": ".py",
   "mimetype": "text/x-python",
   "name": "python",
   "nbconvert_exporter": "python",
   "pygments_lexer": "ipython2",
   "version": "2.7.6"
  }
 },
 "nbformat": 4,
 "nbformat_minor": 0
}