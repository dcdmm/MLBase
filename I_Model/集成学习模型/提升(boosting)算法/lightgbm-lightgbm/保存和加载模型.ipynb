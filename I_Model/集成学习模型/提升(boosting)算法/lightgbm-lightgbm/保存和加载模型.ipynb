{
 "cells": [
  {
   "cell_type": "code",
   "execution_count": 36,
   "metadata": {
    "collapsed": true
   },
   "outputs": [],
   "source": [
    "import lightgbm as lgb\n",
    "from sklearn import datasets\n",
    "from sklearn.model_selection import train_test_split\n",
    "from sklearn.preprocessing import OrdinalEncoder"
   ]
  },
  {
   "cell_type": "code",
   "execution_count": 37,
   "outputs": [],
   "source": [
    "enc = OrdinalEncoder()\n",
    "\n",
    "X = datasets.fetch_covtype().data[:3000]\n",
    "y = datasets.fetch_covtype().target[:3000]\n",
    "\n",
    "X_1, X_test, y_1, y_test = train_test_split(X, y, test_size=0.1)\n",
    "X_train, X_va, y_train, y_va = train_test_split(X_1, y_1)\n",
    "\n",
    "y_train_enc = enc.fit_transform(y_train.reshape(-1, 1))\n",
    "y_test_enc = enc.transform(y_test.reshape(-1, 1))\n",
    "y_va_enc = enc.fit_transform(y_va.reshape(-1, 1))\n",
    "\n",
    "train_dataset = lgb.Dataset(data=X_train, label=y_train_enc.reshape(-1, ))"
   ],
   "metadata": {
    "collapsed": false,
    "pycharm": {
     "name": "#%%\n"
    }
   }
  },
  {
   "cell_type": "code",
   "execution_count": 38,
   "outputs": [],
   "source": [
    "params = {\"objective\": \"multiclass\",\n",
    "          \"num_class\": 7,\n",
    "          \"verbose\": -4}\n",
    "\n",
    "\n",
    "model = lgb.train(params=params,\n",
    "                  train_set=train_dataset)"
   ],
   "metadata": {
    "collapsed": false,
    "pycharm": {
     "name": "#%%\n"
    }
   }
  },
  {
   "cell_type": "code",
   "execution_count": 39,
   "outputs": [
    {
     "data": {
      "text/plain": "<lightgbm.basic.Booster at 0x214b4970970>"
     },
     "execution_count": 39,
     "metadata": {},
     "output_type": "execute_result"
    }
   ],
   "source": [
    "# 保存训练好的模型\n",
    "model.save_model('lgb.model')"
   ],
   "metadata": {
    "collapsed": false,
    "pycharm": {
     "name": "#%%\n"
    }
   }
  },
  {
   "cell_type": "code",
   "execution_count": 40,
   "outputs": [
    {
     "data": {
      "text/plain": "<lightgbm.basic.Booster at 0x214b45162e0>"
     },
     "execution_count": 40,
     "metadata": {},
     "output_type": "execute_result"
    }
   ],
   "source": [
    "# 加载训练好的模型\n",
    "bst = lgb.Booster(model_file='lgb.model')\n",
    "bst"
   ],
   "metadata": {
    "collapsed": false,
    "pycharm": {
     "name": "#%%\n"
    }
   }
  },
  {
   "cell_type": "code",
   "execution_count": 41,
   "outputs": [
    {
     "data": {
      "text/plain": "array([[9.89833015e-01, 9.49146563e-03, 1.06653022e-05, ...,\n        6.36889773e-04, 1.27571004e-05, 9.43776099e-06],\n       [1.15582455e-06, 2.61387795e-03, 1.85873421e-07, ...,\n        9.97383590e-01, 8.33085810e-07, 1.06339214e-07],\n       [4.59824448e-05, 9.95818235e-01, 1.65749368e-05, ...,\n        4.11043293e-03, 6.27631899e-06, 1.30805202e-06],\n       ...,\n       [5.86074506e-04, 7.48301739e-01, 1.01577139e-05, ...,\n        2.51018566e-01, 1.14652393e-05, 6.67170263e-05],\n       [4.00500636e-06, 1.35905510e-04, 1.16490104e-07, ...,\n        9.99858751e-01, 1.01452126e-06, 1.47829853e-07],\n       [1.48396726e-07, 1.09149810e-05, 2.14140711e-08, ...,\n        9.99988863e-01, 2.50503908e-08, 1.58230860e-08]])"
     },
     "execution_count": 41,
     "metadata": {},
     "output_type": "execute_result"
    }
   ],
   "source": [
    "bst.predict(X_test)\n",
    "\n",
    "\n"
   ],
   "metadata": {
    "collapsed": false,
    "pycharm": {
     "name": "#%%\n"
    }
   }
  }
 ],
 "metadata": {
  "kernelspec": {
   "display_name": "Python 3",
   "language": "python",
   "name": "python3"
  },
  "language_info": {
   "codemirror_mode": {
    "name": "ipython",
    "version": 2
   },
   "file_extension": ".py",
   "mimetype": "text/x-python",
   "name": "python",
   "nbconvert_exporter": "python",
   "pygments_lexer": "ipython2",
   "version": "2.7.6"
  }
 },
 "nbformat": 4,
 "nbformat_minor": 0
}