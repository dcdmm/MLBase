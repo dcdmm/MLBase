{
 "cells": [
  {
   "cell_type": "code",
   "execution_count": 49,
   "outputs": [
    {
     "name": "stdout",
     "output_type": "stream",
     "text": [
      "runoob.com\n"
     ]
    }
   ],
   "source": [
    "exec(\"print ('runoob.com')\")"
   ],
   "metadata": {
    "collapsed": false,
    "pycharm": {
     "name": "#%%\n"
    }
   }
  },
  {
   "cell_type": "code",
   "execution_count": 50,
   "outputs": [
    {
     "data": {
      "text/plain": "\"\\ndef sum_two(a, b):\\n    min, max = 0, 3\\n    if a > 3:\\n        return '镜检红细胞阳性'\\n    if b < 3:\\n        return '正常范围'\\n    if b > 3 and a < 3:\\n        return '镜检红细胞可疑阳性'\\n\""
     },
     "execution_count": 50,
     "metadata": {},
     "output_type": "execute_result"
    }
   ],
   "source": [
    "expr = \"\"\"\n",
    "def sum_two(a, b):\n",
    "    min, max = 0, 3\n",
    "    if a > 3:\n",
    "        return '镜检红细胞阳性'\n",
    "    if b < 3:\n",
    "        return '正常范围'\n",
    "    if b > 3 and a < 3:\n",
    "        return '镜检红细胞可疑阳性'\n",
    "\"\"\"\n",
    "expr"
   ],
   "metadata": {
    "collapsed": false,
    "pycharm": {
     "name": "#%%\n"
    }
   }
  },
  {
   "cell_type": "code",
   "execution_count": 51,
   "outputs": [
    {
     "data": {
      "text/plain": "'镜检红细胞可疑阳性'"
     },
     "execution_count": 51,
     "metadata": {},
     "output_type": "execute_result"
    }
   ],
   "source": [
    "exec(expr)\n",
    "sum_two(2, 4)"
   ],
   "metadata": {
    "collapsed": false,
    "pycharm": {
     "name": "#%%\n"
    }
   }
  },
  {
   "cell_type": "code",
   "execution_count": 52,
   "outputs": [
    {
     "data": {
      "text/plain": "15"
     },
     "execution_count": 52,
     "metadata": {},
     "output_type": "execute_result"
    }
   ],
   "source": [
    "exec('def mul_two(a, b):\\n    return a * b\\n')\n",
    "result = mul_two(3, 5)\n",
    "result\n",
    "\n",
    "\n"
   ],
   "metadata": {
    "collapsed": false,
    "pycharm": {
     "name": "#%%\n"
    }
   }
  }
 ],
 "metadata": {
  "kernelspec": {
   "display_name": "Python 3",
   "language": "python",
   "name": "python3"
  },
  "language_info": {
   "codemirror_mode": {
    "name": "ipython",
    "version": 2
   },
   "file_extension": ".py",
   "mimetype": "text/x-python",
   "name": "python",
   "nbconvert_exporter": "python",
   "pygments_lexer": "ipython2",
   "version": "2.7.6"
  }
 },
 "nbformat": 4,
 "nbformat_minor": 0
}