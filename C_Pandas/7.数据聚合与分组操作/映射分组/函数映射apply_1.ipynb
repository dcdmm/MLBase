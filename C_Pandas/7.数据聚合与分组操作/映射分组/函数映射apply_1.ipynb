{
 "cells": [
  {
   "cell_type": "code",
   "execution_count": 100,
   "metadata": {
    "pycharm": {
     "name": "#%%\n"
    }
   },
   "outputs": [],
   "source": [
    "import numpy as np\n",
    "import pandas as pd"
   ]
  },
  {
   "cell_type": "code",
   "execution_count": 101,
   "outputs": [
    {
     "data": {
      "text/plain": "     total_bill   tip   day    time  size\n0         16.99  1.01   Sun  Dinner     2\n1         10.34  1.66   Sun  Dinner     3\n2         21.01  3.50   Sun  Dinner     3\n3         23.68  3.31   Sun  Dinner     2\n4         24.59  3.61   Sun  Dinner     4\n..          ...   ...   ...     ...   ...\n239       29.03  5.92   Sat  Dinner     3\n240       27.18  2.00   Sat  Dinner     2\n241       22.67  2.00   Sat  Dinner     2\n242       17.82  1.75   Sat  Dinner     2\n243       18.78  3.00  Thur  Dinner     2\n\n[244 rows x 5 columns]",
      "text/html": "<div>\n<style scoped>\n    .dataframe tbody tr th:only-of-type {\n        vertical-align: middle;\n    }\n\n    .dataframe tbody tr th {\n        vertical-align: top;\n    }\n\n    .dataframe thead th {\n        text-align: right;\n    }\n</style>\n<table border=\"1\" class=\"dataframe\">\n  <thead>\n    <tr style=\"text-align: right;\">\n      <th></th>\n      <th>total_bill</th>\n      <th>tip</th>\n      <th>day</th>\n      <th>time</th>\n      <th>size</th>\n    </tr>\n  </thead>\n  <tbody>\n    <tr>\n      <th>0</th>\n      <td>16.99</td>\n      <td>1.01</td>\n      <td>Sun</td>\n      <td>Dinner</td>\n      <td>2</td>\n    </tr>\n    <tr>\n      <th>1</th>\n      <td>10.34</td>\n      <td>1.66</td>\n      <td>Sun</td>\n      <td>Dinner</td>\n      <td>3</td>\n    </tr>\n    <tr>\n      <th>2</th>\n      <td>21.01</td>\n      <td>3.50</td>\n      <td>Sun</td>\n      <td>Dinner</td>\n      <td>3</td>\n    </tr>\n    <tr>\n      <th>3</th>\n      <td>23.68</td>\n      <td>3.31</td>\n      <td>Sun</td>\n      <td>Dinner</td>\n      <td>2</td>\n    </tr>\n    <tr>\n      <th>4</th>\n      <td>24.59</td>\n      <td>3.61</td>\n      <td>Sun</td>\n      <td>Dinner</td>\n      <td>4</td>\n    </tr>\n    <tr>\n      <th>...</th>\n      <td>...</td>\n      <td>...</td>\n      <td>...</td>\n      <td>...</td>\n      <td>...</td>\n    </tr>\n    <tr>\n      <th>239</th>\n      <td>29.03</td>\n      <td>5.92</td>\n      <td>Sat</td>\n      <td>Dinner</td>\n      <td>3</td>\n    </tr>\n    <tr>\n      <th>240</th>\n      <td>27.18</td>\n      <td>2.00</td>\n      <td>Sat</td>\n      <td>Dinner</td>\n      <td>2</td>\n    </tr>\n    <tr>\n      <th>241</th>\n      <td>22.67</td>\n      <td>2.00</td>\n      <td>Sat</td>\n      <td>Dinner</td>\n      <td>2</td>\n    </tr>\n    <tr>\n      <th>242</th>\n      <td>17.82</td>\n      <td>1.75</td>\n      <td>Sat</td>\n      <td>Dinner</td>\n      <td>2</td>\n    </tr>\n    <tr>\n      <th>243</th>\n      <td>18.78</td>\n      <td>3.00</td>\n      <td>Thur</td>\n      <td>Dinner</td>\n      <td>2</td>\n    </tr>\n  </tbody>\n</table>\n<p>244 rows × 5 columns</p>\n</div>"
     },
     "execution_count": 101,
     "metadata": {},
     "output_type": "execute_result"
    }
   ],
   "source": [
    "tips = pd.read_csv('tips.csv')\n",
    "tips.drop(['smoker'], axis=1, inplace=True)\n",
    "tips"
   ],
   "metadata": {
    "collapsed": false,
    "pycharm": {
     "name": "#%%\n"
    }
   }
  },
  {
   "cell_type": "code",
   "execution_count": 102,
   "outputs": [],
   "source": [
    "group_df = tips.groupby('day')"
   ],
   "metadata": {
    "collapsed": false,
    "pycharm": {
     "name": "#%%\n"
    }
   }
  },
  {
   "cell_type": "code",
   "execution_count": 103,
   "outputs": [
    {
     "name": "stdout",
     "output_type": "stream",
     "text": [
      "     total_bill   tip  day    time  size\n",
      "90        28.97  3.00  Fri  Dinner     2\n",
      "91        22.49  3.50  Fri  Dinner     2\n",
      "92         5.75  1.00  Fri  Dinner     2\n",
      "93        16.32  4.30  Fri  Dinner     2\n",
      "94        22.75  3.25  Fri  Dinner     2\n",
      "95        40.17  4.73  Fri  Dinner     4\n",
      "96        27.28  4.00  Fri  Dinner     2\n",
      "97        12.03  1.50  Fri  Dinner     2\n",
      "98        21.01  3.00  Fri  Dinner     2\n",
      "99        12.46  1.50  Fri  Dinner     2\n",
      "100       11.35  2.50  Fri  Dinner     2\n",
      "101       15.38  3.00  Fri  Dinner     2\n",
      "220       12.16  2.20  Fri   Lunch     2\n",
      "221       13.42  3.48  Fri   Lunch     2\n",
      "222        8.58  1.92  Fri   Lunch     1\n",
      "223       15.98  3.00  Fri   Lunch     3\n",
      "224       13.42  1.58  Fri   Lunch     2\n",
      "225       16.27  2.50  Fri   Lunch     2\n",
      "226       10.09  2.00  Fri   Lunch     2\n",
      "\n",
      "     total_bill   tip  day    time  size\n",
      "19        20.65  3.35  Sat  Dinner     3\n",
      "20        17.92  4.08  Sat  Dinner     2\n",
      "21        20.29  2.75  Sat  Dinner     2\n",
      "22        15.77  2.23  Sat  Dinner     2\n",
      "23        39.42  7.58  Sat  Dinner     4\n",
      "..          ...   ...  ...     ...   ...\n",
      "238       35.83  4.67  Sat  Dinner     3\n",
      "239       29.03  5.92  Sat  Dinner     3\n",
      "240       27.18  2.00  Sat  Dinner     2\n",
      "241       22.67  2.00  Sat  Dinner     2\n",
      "242       17.82  1.75  Sat  Dinner     2\n",
      "\n",
      "[87 rows x 5 columns]\n",
      "\n",
      "     total_bill   tip  day    time  size\n",
      "0         16.99  1.01  Sun  Dinner     2\n",
      "1         10.34  1.66  Sun  Dinner     3\n",
      "2         21.01  3.50  Sun  Dinner     3\n",
      "3         23.68  3.31  Sun  Dinner     2\n",
      "4         24.59  3.61  Sun  Dinner     4\n",
      "..          ...   ...  ...     ...   ...\n",
      "186       20.90  3.50  Sun  Dinner     3\n",
      "187       30.46  2.00  Sun  Dinner     5\n",
      "188       18.15  3.50  Sun  Dinner     3\n",
      "189       23.10  4.00  Sun  Dinner     3\n",
      "190       15.69  1.50  Sun  Dinner     2\n",
      "\n",
      "[76 rows x 5 columns]\n",
      "\n",
      "     total_bill   tip   day    time  size\n",
      "77        27.20  4.00  Thur   Lunch     4\n",
      "78        22.76  3.00  Thur   Lunch     2\n",
      "79        17.29  2.71  Thur   Lunch     2\n",
      "80        19.44  3.00  Thur   Lunch     2\n",
      "81        16.66  3.40  Thur   Lunch     2\n",
      "..          ...   ...   ...     ...   ...\n",
      "202       13.00  2.00  Thur   Lunch     2\n",
      "203       16.40  2.50  Thur   Lunch     2\n",
      "204       20.53  4.00  Thur   Lunch     4\n",
      "205       16.47  3.23  Thur   Lunch     3\n",
      "243       18.78  3.00  Thur  Dinner     2\n",
      "\n",
      "[62 rows x 5 columns]\n",
      "\n"
     ]
    },
    {
     "data": {
      "text/plain": "day\nFri     [1, 2, 3, 4]\nSat     [1, 2, 3, 4]\nSun     [1, 2, 3, 4]\nThur    [1, 2, 3, 4]\ndtype: object"
     },
     "execution_count": 103,
     "metadata": {},
     "output_type": "execute_result"
    }
   ],
   "source": [
    "def app_f1(group):\n",
    "    print(group, end='\\n\\n')  # group每次为每个分组下的所有数据\n",
    "    return [1, 2, 3, 4]\n",
    "\n",
    "\n",
    "# 每个分组下返回值的拼接\n",
    "group_df.apply(app_f1)"
   ],
   "metadata": {
    "collapsed": false,
    "pycharm": {
     "name": "#%%\n"
    }
   }
  },
  {
   "cell_type": "code",
   "execution_count": 104,
   "outputs": [
    {
     "name": "stdout",
     "output_type": "stream",
     "text": [
      "a  one      2\n",
      "   two      3\n",
      "b  three    4\n",
      "dtype: int64\n",
      "a  one      2\n",
      "   two      3\n",
      "b  three    4\n",
      "dtype: int64\n",
      "a  one      2\n",
      "   two      3\n",
      "b  three    4\n",
      "dtype: int64\n",
      "a  one      2\n",
      "   two      3\n",
      "b  three    4\n",
      "dtype: int64\n"
     ]
    },
    {
     "data": {
      "text/plain": "       a         b\n     one two three\nday               \nFri    2   3     4\nSat    2   3     4\nSun    2   3     4\nThur   2   3     4",
      "text/html": "<div>\n<style scoped>\n    .dataframe tbody tr th:only-of-type {\n        vertical-align: middle;\n    }\n\n    .dataframe tbody tr th {\n        vertical-align: top;\n    }\n\n    .dataframe thead tr th {\n        text-align: left;\n    }\n\n    .dataframe thead tr:last-of-type th {\n        text-align: right;\n    }\n</style>\n<table border=\"1\" class=\"dataframe\">\n  <thead>\n    <tr>\n      <th></th>\n      <th colspan=\"2\" halign=\"left\">a</th>\n      <th>b</th>\n    </tr>\n    <tr>\n      <th></th>\n      <th>one</th>\n      <th>two</th>\n      <th>three</th>\n    </tr>\n    <tr>\n      <th>day</th>\n      <th></th>\n      <th></th>\n      <th></th>\n    </tr>\n  </thead>\n  <tbody>\n    <tr>\n      <th>Fri</th>\n      <td>2</td>\n      <td>3</td>\n      <td>4</td>\n    </tr>\n    <tr>\n      <th>Sat</th>\n      <td>2</td>\n      <td>3</td>\n      <td>4</td>\n    </tr>\n    <tr>\n      <th>Sun</th>\n      <td>2</td>\n      <td>3</td>\n      <td>4</td>\n    </tr>\n    <tr>\n      <th>Thur</th>\n      <td>2</td>\n      <td>3</td>\n      <td>4</td>\n    </tr>\n  </tbody>\n</table>\n</div>"
     },
     "execution_count": 104,
     "metadata": {},
     "output_type": "execute_result"
    }
   ],
   "source": [
    "def app_f2(group):\n",
    "    ser = pd.Series([2, 3, 4], index=[['a', 'a', 'b'], ['one', 'two', 'three']])\n",
    "    print(ser)  # 每个分组下Series等长\n",
    "    return ser\n",
    "\n",
    "\n",
    "group_df.apply(app_f2)  # 返回值为DataFrame"
   ],
   "metadata": {
    "collapsed": false,
    "pycharm": {
     "name": "#%%\n"
    }
   }
  },
  {
   "cell_type": "code",
   "execution_count": 105,
   "outputs": [],
   "source": [
    "def diff_ser(df):\n",
    "    result = df['tip'].diff()\n",
    "    print(result)\n",
    "    print(len(result))  # 每个分组下Series不等长\n",
    "    return result\n",
    "\n",
    "\n",
    "def diff_df(df):\n",
    "    result = df[['tip', 'tip_pct']].diff()\n",
    "    result = result.stack().unstack(level=0).stack()\n",
    "    print(result)\n",
    "    print(len(result))  # 每个分组下Series不等长\n",
    "    return result"
   ],
   "metadata": {
    "collapsed": false,
    "pycharm": {
     "name": "#%%\n"
    }
   }
  },
  {
   "cell_type": "code",
   "execution_count": 106,
   "outputs": [
    {
     "name": "stdout",
     "output_type": "stream",
     "text": [
      "0       NaN\n",
      "1      0.65\n",
      "2      1.84\n",
      "3     -0.19\n",
      "4      0.30\n",
      "       ... \n",
      "235   -0.22\n",
      "238    3.42\n",
      "239    1.25\n",
      "242   -4.17\n",
      "243    1.25\n",
      "Name: tip, Length: 151, dtype: float64\n",
      "151\n",
      "56      NaN\n",
      "58    -1.24\n",
      "60     1.45\n",
      "61    -1.21\n",
      "62    -0.02\n",
      "       ... \n",
      "234    0.00\n",
      "236   -2.00\n",
      "237    0.17\n",
      "240    0.83\n",
      "241    0.00\n",
      "Name: tip, Length: 93, dtype: float64\n",
      "93\n"
     ]
    },
    {
     "data": {
      "text/plain": "smoker     \nNo      0       NaN\n        1      0.65\n        2      1.84\n        3     -0.19\n        4      0.30\n               ... \nYes     234    0.00\n        236   -2.00\n        237    0.17\n        240    0.83\n        241    0.00\nName: tip, Length: 244, dtype: float64"
     },
     "execution_count": 106,
     "metadata": {},
     "output_type": "execute_result"
    }
   ],
   "source": [
    "tips1 = pd.read_csv('tips.csv')\n",
    "tips1['tip_pct'] = tips1['tip'] / tips1['total_bill']\n",
    "tips1.groupby('smoker').apply(diff_ser)  # 返回值为Series"
   ],
   "metadata": {
    "collapsed": false,
    "pycharm": {
     "name": "#%%\n"
    }
   }
  },
  {
   "cell_type": "code",
   "execution_count": 107,
   "outputs": [
    {
     "name": "stdout",
     "output_type": "stream",
     "text": [
      "tip      1      0.650000\n",
      "         2      1.840000\n",
      "         3     -0.190000\n",
      "         4      0.300000\n",
      "         5      1.100000\n",
      "                  ...   \n",
      "tip_pct  235   -0.012359\n",
      "         238    0.006207\n",
      "         239    0.073589\n",
      "         242   -0.105723\n",
      "         243    0.061540\n",
      "Length: 300, dtype: float64\n",
      "300\n",
      "tip      58    -1.240000\n",
      "         60     1.450000\n",
      "         61    -1.210000\n",
      "         62    -0.020000\n",
      "         63     1.780000\n",
      "                  ...   \n",
      "tip_pct  234    0.001970\n",
      "         236   -0.113809\n",
      "         237   -0.043727\n",
      "         240    0.037945\n",
      "         241    0.014639\n",
      "Length: 184, dtype: float64\n",
      "184\n"
     ]
    },
    {
     "data": {
      "text/plain": "smoker              \nNo      tip      1      0.650000\n                 2      1.840000\n                 3     -0.190000\n                 4      0.300000\n                 5      1.100000\n                          ...   \nYes     tip_pct  234    0.001970\n                 236   -0.113809\n                 237   -0.043727\n                 240    0.037945\n                 241    0.014639\nLength: 484, dtype: float64"
     },
     "execution_count": 107,
     "metadata": {},
     "output_type": "execute_result"
    }
   ],
   "source": [
    "tips1.groupby('smoker').apply(diff_df)  # 返回值为Series"
   ],
   "metadata": {
    "collapsed": false,
    "pycharm": {
     "name": "#%%\n"
    }
   }
  },
  {
   "cell_type": "code",
   "execution_count": 108,
   "outputs": [
    {
     "name": "stdout",
     "output_type": "stream",
     "text": [
      "    total_bill  tip  day    time  size\n",
      "90       28.97  3.0  Fri  Dinner     2\n",
      "91       22.49  3.5  Fri  Dinner     2\n",
      "92        5.75  1.0  Fri  Dinner     2\n",
      "\n",
      "    total_bill   tip  day    time  size\n",
      "19       20.65  3.35  Sat  Dinner     3\n",
      "20       17.92  4.08  Sat  Dinner     2\n",
      "21       20.29  2.75  Sat  Dinner     2\n",
      "\n",
      "   total_bill   tip  day    time  size\n",
      "0       16.99  1.01  Sun  Dinner     2\n",
      "1       10.34  1.66  Sun  Dinner     3\n",
      "2       21.01  3.50  Sun  Dinner     3\n",
      "\n",
      "    total_bill   tip   day   time  size\n",
      "77       27.20  4.00  Thur  Lunch     4\n",
      "78       22.76  3.00  Thur  Lunch     2\n",
      "79       17.29  2.71  Thur  Lunch     2\n",
      "\n"
     ]
    },
    {
     "data": {
      "text/plain": "     total_bill   tip\n0           NaN   NaN\n1         -6.65  0.65\n2         10.67  1.84\n3          2.67 -0.19\n4          0.91  0.30\n..          ...   ...\n239       -6.80  1.25\n240       -1.85 -3.92\n241       -4.51  0.00\n242       -4.85 -0.25\n243        2.31 -0.23\n\n[244 rows x 2 columns]",
      "text/html": "<div>\n<style scoped>\n    .dataframe tbody tr th:only-of-type {\n        vertical-align: middle;\n    }\n\n    .dataframe tbody tr th {\n        vertical-align: top;\n    }\n\n    .dataframe thead th {\n        text-align: right;\n    }\n</style>\n<table border=\"1\" class=\"dataframe\">\n  <thead>\n    <tr style=\"text-align: right;\">\n      <th></th>\n      <th>total_bill</th>\n      <th>tip</th>\n    </tr>\n  </thead>\n  <tbody>\n    <tr>\n      <th>0</th>\n      <td>NaN</td>\n      <td>NaN</td>\n    </tr>\n    <tr>\n      <th>1</th>\n      <td>-6.65</td>\n      <td>0.65</td>\n    </tr>\n    <tr>\n      <th>2</th>\n      <td>10.67</td>\n      <td>1.84</td>\n    </tr>\n    <tr>\n      <th>3</th>\n      <td>2.67</td>\n      <td>-0.19</td>\n    </tr>\n    <tr>\n      <th>4</th>\n      <td>0.91</td>\n      <td>0.30</td>\n    </tr>\n    <tr>\n      <th>...</th>\n      <td>...</td>\n      <td>...</td>\n    </tr>\n    <tr>\n      <th>239</th>\n      <td>-6.80</td>\n      <td>1.25</td>\n    </tr>\n    <tr>\n      <th>240</th>\n      <td>-1.85</td>\n      <td>-3.92</td>\n    </tr>\n    <tr>\n      <th>241</th>\n      <td>-4.51</td>\n      <td>0.00</td>\n    </tr>\n    <tr>\n      <th>242</th>\n      <td>-4.85</td>\n      <td>-0.25</td>\n    </tr>\n    <tr>\n      <th>243</th>\n      <td>2.31</td>\n      <td>-0.23</td>\n    </tr>\n  </tbody>\n</table>\n<p>244 rows × 2 columns</p>\n</div>"
     },
     "execution_count": 108,
     "metadata": {},
     "output_type": "execute_result"
    }
   ],
   "source": [
    "def app_f3(group):\n",
    "    print(group.head(3), end='\\n\\n')\n",
    "    # return group  # 无分组索引\n",
    "    # return group[:]  # 无分组索引\n",
    "    # return group[:-1]  # 有分组索引(仅使用到部分行数据)\n",
    "    # return group.head(300)  # 无分组索引\n",
    "    # return group.head(3)  # 有分组索引(部分行数据)\n",
    "    # return group[['day', 'tip']]  # 无分组索引\n",
    "    # return group[['day', 'tip']][:-1]  # 有分组索引(仅使用到部分行数据)\n",
    "    return group[['total_bill', 'tip']].diff()  # 无分组索引\n",
    "    # return group[['total_bill', 'tip']].diff()[:-1]  # 有分组索引(仅使用到部分行数据)\n",
    "\n",
    "\n",
    "group_df.apply(app_f3)"
   ],
   "metadata": {
    "collapsed": false,
    "pycharm": {
     "name": "#%%\n"
    }
   }
  },
  {
   "cell_type": "code",
   "execution_count": 109,
   "outputs": [
    {
     "name": "stdout",
     "output_type": "stream",
     "text": [
      "[40.17 5.75 4.73 1.0 'Fri' 'Fri' 'Lunch' 'Dinner' 4 1]\n",
      "total_bill  max     40.17\n",
      "            min      5.75\n",
      "tip         max      4.73\n",
      "            min       1.0\n",
      "day         max       Fri\n",
      "            min       Fri\n",
      "time        max     Lunch\n",
      "            min    Dinner\n",
      "size        max         4\n",
      "            min         1\n",
      "dtype: object\n",
      "\n",
      "[50.81 3.07 10.0 1.0 'Sat' 'Sat' 'Dinner' 'Dinner' 5 1]\n",
      "total_bill  max     50.81\n",
      "            min      3.07\n",
      "tip         max      10.0\n",
      "            min       1.0\n",
      "day         max       Sat\n",
      "            min       Sat\n",
      "time        max    Dinner\n",
      "            min    Dinner\n",
      "size        max         5\n",
      "            min         1\n",
      "dtype: object\n",
      "\n",
      "[48.17 7.25 6.5 1.01 'Sun' 'Sun' 'Dinner' 'Dinner' 6 2]\n",
      "total_bill  max     48.17\n",
      "            min      7.25\n",
      "tip         max       6.5\n",
      "            min      1.01\n",
      "day         max       Sun\n",
      "            min       Sun\n",
      "time        max    Dinner\n",
      "            min    Dinner\n",
      "size        max         6\n",
      "            min         2\n",
      "dtype: object\n",
      "\n",
      "[43.11 7.51 6.7 1.25 'Thur' 'Thur' 'Lunch' 'Dinner' 6 1]\n",
      "total_bill  max     43.11\n",
      "            min      7.51\n",
      "tip         max       6.7\n",
      "            min      1.25\n",
      "day         max      Thur\n",
      "            min      Thur\n",
      "time        max     Lunch\n",
      "            min    Dinner\n",
      "size        max         6\n",
      "            min         1\n",
      "dtype: object\n",
      "\n"
     ]
    },
    {
     "data": {
      "text/plain": "     total_bill          tip         day          time         size    \n            max   min    max   min   max   min     max     min  max min\nday                                                                    \nFri       40.17  5.75   4.73  1.00   Fri   Fri   Lunch  Dinner    4   1\nSat       50.81  3.07  10.00  1.00   Sat   Sat  Dinner  Dinner    5   1\nSun       48.17  7.25   6.50  1.01   Sun   Sun  Dinner  Dinner    6   2\nThur      43.11  7.51   6.70  1.25  Thur  Thur   Lunch  Dinner    6   1",
      "text/html": "<div>\n<style scoped>\n    .dataframe tbody tr th:only-of-type {\n        vertical-align: middle;\n    }\n\n    .dataframe tbody tr th {\n        vertical-align: top;\n    }\n\n    .dataframe thead tr th {\n        text-align: left;\n    }\n\n    .dataframe thead tr:last-of-type th {\n        text-align: right;\n    }\n</style>\n<table border=\"1\" class=\"dataframe\">\n  <thead>\n    <tr>\n      <th></th>\n      <th colspan=\"2\" halign=\"left\">total_bill</th>\n      <th colspan=\"2\" halign=\"left\">tip</th>\n      <th colspan=\"2\" halign=\"left\">day</th>\n      <th colspan=\"2\" halign=\"left\">time</th>\n      <th colspan=\"2\" halign=\"left\">size</th>\n    </tr>\n    <tr>\n      <th></th>\n      <th>max</th>\n      <th>min</th>\n      <th>max</th>\n      <th>min</th>\n      <th>max</th>\n      <th>min</th>\n      <th>max</th>\n      <th>min</th>\n      <th>max</th>\n      <th>min</th>\n    </tr>\n    <tr>\n      <th>day</th>\n      <th></th>\n      <th></th>\n      <th></th>\n      <th></th>\n      <th></th>\n      <th></th>\n      <th></th>\n      <th></th>\n      <th></th>\n      <th></th>\n    </tr>\n  </thead>\n  <tbody>\n    <tr>\n      <th>Fri</th>\n      <td>40.17</td>\n      <td>5.75</td>\n      <td>4.73</td>\n      <td>1.00</td>\n      <td>Fri</td>\n      <td>Fri</td>\n      <td>Lunch</td>\n      <td>Dinner</td>\n      <td>4</td>\n      <td>1</td>\n    </tr>\n    <tr>\n      <th>Sat</th>\n      <td>50.81</td>\n      <td>3.07</td>\n      <td>10.00</td>\n      <td>1.00</td>\n      <td>Sat</td>\n      <td>Sat</td>\n      <td>Dinner</td>\n      <td>Dinner</td>\n      <td>5</td>\n      <td>1</td>\n    </tr>\n    <tr>\n      <th>Sun</th>\n      <td>48.17</td>\n      <td>7.25</td>\n      <td>6.50</td>\n      <td>1.01</td>\n      <td>Sun</td>\n      <td>Sun</td>\n      <td>Dinner</td>\n      <td>Dinner</td>\n      <td>6</td>\n      <td>2</td>\n    </tr>\n    <tr>\n      <th>Thur</th>\n      <td>43.11</td>\n      <td>7.51</td>\n      <td>6.70</td>\n      <td>1.25</td>\n      <td>Thur</td>\n      <td>Thur</td>\n      <td>Lunch</td>\n      <td>Dinner</td>\n      <td>6</td>\n      <td>1</td>\n    </tr>\n  </tbody>\n</table>\n</div>"
     },
     "execution_count": 109,
     "metadata": {},
     "output_type": "execute_result"
    }
   ],
   "source": [
    "def app_f4(group):\n",
    "    mx = group.max()\n",
    "    mi = group.min()\n",
    "\n",
    "    # 多层索引\n",
    "    index_out = np.repeat(mi.index.values, 2)\n",
    "    index_inner = np.array(['max', 'min'] * 5)\n",
    "    all_index = np.stack((index_out, index_inner), axis=0)\n",
    "    new_columns = pd.MultiIndex.from_arrays(all_index)\n",
    "\n",
    "    values = np.stack((mx.values, mi.values), axis=0).T.flatten()\n",
    "    print(values)\n",
    "\n",
    "    result = pd.Series(values, index=new_columns)\n",
    "    print(result, end='\\n\\n')\n",
    "    return result\n",
    "\n",
    "\n",
    "group_df.apply(app_f4)"
   ],
   "metadata": {
    "collapsed": false,
    "pycharm": {
     "name": "#%%\n"
    }
   }
  }
 ],
 "metadata": {
  "kernelspec": {
   "display_name": "Python 3",
   "language": "python",
   "name": "python3"
  },
  "language_info": {
   "codemirror_mode": {
    "name": "ipython",
    "version": 3
   },
   "file_extension": ".py",
   "mimetype": "text/x-python",
   "name": "python",
   "nbconvert_exporter": "python",
   "pygments_lexer": "ipython3",
   "version": "3.7.9"
  },
  "toc": {
   "base_numbering": 1,
   "nav_menu": {},
   "number_sections": true,
   "sideBar": true,
   "skip_h1_title": false,
   "title_cell": "Table of Contents",
   "title_sidebar": "Contents",
   "toc_cell": false,
   "toc_position": {},
   "toc_section_display": true,
   "toc_window_display": false
  }
 },
 "nbformat": 4,
 "nbformat_minor": 1
}