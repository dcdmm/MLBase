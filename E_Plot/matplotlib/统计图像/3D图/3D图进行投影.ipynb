{
 "cells": [
  {
   "cell_type": "code",
   "execution_count": 68,
   "metadata": {
    "collapsed": true,
    "pycharm": {
     "is_executing": false,
     "name": "#%%\n"
    }
   },
   "outputs": [
    {
     "data": {
      "text/plain": "Text(0.5, 0, 'Z')"
     },
     "metadata": {},
     "output_type": "execute_result",
     "execution_count": 68
    }
   ],
   "source": [
    "from mpl_toolkits.mplot3d import axes3d\n",
    "import matplotlib.pyplot as plt\n",
    "from matplotlib import cm\n",
    "import numpy as np\n",
    "%matplotlib qt5\n",
    "\n",
    "fig = plt.figure()\n",
    "ax = fig.add_subplot(1, 1, 1, projection='3d')\n",
    "X = np.linspace(-30, 30, 200)\n",
    "Y = np.linspace(-30, 30, 200)\n",
    "X, Y = np.meshgrid(X, Y)\n",
    "Z = np.sqrt(X**2 + Y**2)\n",
    "\n",
    "ax.plot_surface(X, Y, Z, alpha=0.5)\n",
    "\n",
    "ax.contourf(X, Y, Z, zdir='x', offset=-50, cmap=cm.coolwarm) # 沿X轴进行投影\n",
    "ax.contourf(X, Y, Z, zdir='y', offset=50, cmap=cm.Set1) # 沿Y轴进行投影\n",
    "ax.contourf(X, Y, Z, zdir='z', offset=1, cmap=cm.cool) # 沿Z轴进行投影\n",
    "'''\n",
    "offset : scalar\n",
    "    If specified, plot a projection of the contour lines at this position in a plane normal to zdir\n",
    "'''\n",
    "ax.set_xlim(-50, 50)\n",
    "ax.set_ylim(-50, 50)\n",
    "ax.set_xlabel('X')\n",
    "ax.set_ylabel('Y')\n",
    "ax.set_zlabel('Z')"
   ]
  },
  {
   "cell_type": "code",
   "execution_count": null,
   "outputs": [],
   "source": [
    "\n"
   ],
   "metadata": {
    "collapsed": false,
    "pycharm": {
     "name": "#%%\n"
    }
   }
  }
 ],
 "metadata": {
  "kernelspec": {
   "display_name": "Python 3",
   "language": "python",
   "name": "python3"
  },
  "language_info": {
   "codemirror_mode": {
    "name": "ipython",
    "version": 2
   },
   "file_extension": ".py",
   "mimetype": "text/x-python",
   "name": "python",
   "nbconvert_exporter": "python",
   "pygments_lexer": "ipython2",
   "version": "2.7.6"
  },
  "pycharm": {
   "stem_cell": {
    "cell_type": "raw",
    "source": [],
    "metadata": {
     "collapsed": false
    }
   }
  }
 },
 "nbformat": 4,
 "nbformat_minor": 0
}