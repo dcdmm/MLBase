{
 "cells": [
  {
   "cell_type": "markdown",
   "source": [
    "python使用j来表示复数的虚部"
   ],
   "metadata": {
    "pycharm": {
     "metadata": false,
     "name": "#%% md\n"
    }
   }
  },
  {
   "cell_type": "code",
   "execution_count": 2,
   "metadata": {
    "collapsed": true,
    "pycharm": {
     "is_executing": false
    }
   },
   "outputs": [
    {
     "name": "stdout",
     "text": [
      "[0.         1.57079633 0.78539816]\n[ 0. 90. 45.]\n"
     ],
     "output_type": "stream"
    },
    {
     "data": {
      "text/plain": "'\\ndeg : bool, optional\\n    Return angle in degrees if True, radians if False (default).\\n\\n'"
     },
     "metadata": {},
     "output_type": "execute_result",
     "execution_count": 2
    }
   ],
   "source": [
    "import  numpy as np\n",
    "# Return the angle of the complex argument.\n",
    "print(np.angle([1.0, 1.0j, 1+1j]))\n",
    "print(np.angle([1.0, 1.0j, 1+1j], deg=True))\n",
    "'''\n",
    "deg : bool, optional\n",
    "    Return angle in degrees if True, radians if False (default).\n",
    "'''"
   ]
  },
  {
   "cell_type": "code",
   "execution_count": 3,
   "outputs": [
    {
     "name": "stdout",
     "text": [
      "[1. 3. 5.]\n[10.+2.j 10.+4.j 10.+6.j]\n[9.+2.j 8.+4.j 7.+6.j]\n"
     ],
     "output_type": "stream"
    }
   ],
   "source": "a = np.array([1+2j, 3+4j, 5+6j])\nprint(a.real) # The real part of the array\na.real = 10\nprint(a)\na.real = np.array([9, 8, 7])\nprint(a)",
   "metadata": {
    "pycharm": {
     "metadata": false,
     "name": "#%%\n",
     "is_executing": false
    }
   }
  },
  {
   "cell_type": "code",
   "execution_count": 4,
   "outputs": [
    {
     "name": "stdout",
     "text": [
      "[2. 4. 6.]",
      "\n[1.+10.j 3.+10.j 5.+10.j]\n[1.+9.j 3.+8.j 5.+7.j]\n"
     ],
     "output_type": "stream"
    }
   ],
   "source": "b = np.array([1+2j, 3+4j, 5+6j])\nprint(b.imag) # The imaginary part of the array\nb.imag = 10\nprint(b)\nb.imag = np.array([9, 8, 7])\nprint(b)",
   "metadata": {
    "pycharm": {
     "metadata": false,
     "name": "#%%\n",
     "is_executing": false
    }
   }
  },
  {
   "cell_type": "code",
   "execution_count": 5,
   "outputs": [
    {
     "name": "stdout",
     "text": [
      "[[1.+1.j 0.+0.j]\n [0.+0.j 1.+1.j]]\n[[1.-1.j 0.-0.j]\n [0.-0.j 1.-1.j]]\n"
     ],
     "output_type": "stream"
    }
   ],
   "source": "# Return the complex conjugate, element-wise.\nx = np.eye(2) + 1j * np.eye(2)\nprint(x)\nprint(np.conj(x))\n",
   "metadata": {
    "pycharm": {
     "metadata": false,
     "name": "#%%\n",
     "is_executing": false
    }
   }
  }
 ],
 "metadata": {
  "language_info": {
   "codemirror_mode": {
    "name": "ipython",
    "version": 2
   },
   "file_extension": ".py",
   "mimetype": "text/x-python",
   "name": "python",
   "nbconvert_exporter": "python",
   "pygments_lexer": "ipython2",
   "version": "2.7.6"
  },
  "kernelspec": {
   "name": "python3",
   "language": "python",
   "display_name": "Python 3"
  },
  "stem_cell": {
   "cell_type": "raw",
   "source": "",
   "metadata": {
    "pycharm": {
     "metadata": false
    }
   }
  },
  "pycharm": {
   "stem_cell": {
    "cell_type": "raw",
    "source": [],
    "metadata": {
     "collapsed": false
    }
   }
  }
 },
 "nbformat": 4,
 "nbformat_minor": 0
}