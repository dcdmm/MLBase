{
 "cells": [
  {
   "cell_type": "markdown",
   "metadata": {
    "pycharm": {
     "name": "#%% md\n"
    }
   },
   "source": [
    "## ndarray的储存结构(tensor类似)\n",
    "\n",
    "&emsp;&emsp;ndarray的储存结构在于数据存储与其解释方式的分离,或者说**copy**和**view**的分离,\n",
    "即让尽可能多的操作发生在解释方式上(即**view**上),而尽量少地操作实际存储数据的内存区域.\n",
    "\n",
    "解释方式主要包括:\n",
    "* dtype:数据类型,指示了每个数据占用多少个字节,这几个字节怎么解释,如int32、float32\n",
    "* ndim:有多少维\n",
    "* shape:每维上的数量\n",
    "* strides：维间距,即到达当前维下一个相邻数据需要前进的字节数,因考虑内存对齐,不一定为每个数据占用字节数的整数倍\n",
    "\n",
    "上面4个信息构成了ndarray的indexing schema,即如何索引到指定位置的数据,以及这个数据该怎么解释"
   ]
  },
  {
   "cell_type": "markdown",
   "metadata": {
    "pycharm": {
     "name": "#%% md\n"
    }
   },
   "source": [
    "&emsp;&emsp;如下所示,a通过reshape操作返回的新的对象b,a和b的shape不同,但是两者共享同一个数据block;\n",
    "c=b.T,c是b的转置,但两者仍共享同一个数据block,数据block并没有发生变化,发生变化的只是数据block的解释方式.\n",
    "\n",
    "numpy中常见的共享数据物理地址(注:不是引用地址)的操作有(详情参考arr的修改与共享内存.ipynb):\n",
    "1. reshape\n",
    "2. ravel(注:flatten不共享内存)\n",
    "3. 切片\n",
    "4. 维度变换(.T,transpose,swapaxes)\n",
    "5. 维度增减(expand_dims,squeeze)\n",
    "\n",
    "torch中常见的共享内存的操作有(详情参考tensor的修改与内存共享):\n",
    "1. reshape/view\n",
    "2. flatten\n",
    "3. detach\n",
    "4. 切片\n",
    "5. 维度变换(.T,transpose,permute)\n",
    "6. 维度增减(unsqueeze,squeeze)\n",
    "\n",
    "若要拷贝其副本:list/pandas/numpy参考深拷贝浅拷贝copy模块;torch参考复制clone-detach.ipynb"
   ]
  },
  {
   "cell_type": "code",
   "execution_count": 1,
   "metadata": {
    "pycharm": {
     "name": "#%%\n"
    }
   },
   "outputs": [
    {
     "name": "stdout",
     "output_type": "stream",
     "text": [
      "[ 0  1  2  3  4  5  6  7  8  9 10 11]\n",
      "[[ 0  1  2  3]\n",
      " [ 4  5  6  7]\n",
      " [ 8  9 10 11]]\n",
      "[[ 0  4  8]\n",
      " [ 1  5  9]\n",
      " [ 2  6 10]\n",
      " [ 3  7 11]]\n",
      "[[2 3]\n",
      " [6 7]]\n"
     ]
    }
   ],
   "source": [
    "import numpy as np\n",
    "from ctypes import string_at\n",
    "\n",
    "# NumPy arrays consist of two major components, the raw array data (from now on, referred to as the data buffer),\n",
    "# and the information about the raw array data.\n",
    "a = np.arange(12) # np.arange(12)的物理地址中保存有数据的物理地址和对数据的解释方式;变量a保存的是np.arrange(12)的指针地址\n",
    "b = a.reshape(3, 4) # 只是对数据的解释方式发生变化,数据物理地址相同;变量b保存的是a.reshape(3, 4)的指针地址\n",
    "c = b.T\n",
    "d = b[0:2, 2:]\n",
    "\n",
    "# shape各不相同\n",
    "print(a)\n",
    "print(b)\n",
    "print(c)\n",
    "print(d)"
   ]
  },
  {
   "cell_type": "code",
   "execution_count": 2,
   "metadata": {
    "pycharm": {
     "name": "#%%\n"
    }
   },
   "outputs": [
    {
     "name": "stdout",
     "output_type": "stream",
     "text": [
      "2381683444992\n",
      "2381664041200\n",
      "2381688030112\n",
      "2381688030192\n"
     ]
    }
   ],
   "source": [
    "# 指向地址各不相同\n",
    "print(id(a))\n",
    "print(id(b))\n",
    "print(id(c))\n",
    "print(id(d))"
   ]
  },
  {
   "cell_type": "code",
   "execution_count": 3,
   "metadata": {
    "pycharm": {
     "name": "#%%\n"
    }
   },
   "outputs": [
    {
     "name": "stdout",
     "output_type": "stream",
     "text": [
      "True\n",
      "True\n",
      "True\n"
     ]
    }
   ],
   "source": [
    "# a,b,c,d共享内存(数据的物理地址相同)\n",
    "print(np.shares_memory(a, b))\n",
    "print(np.shares_memory(a, c))\n",
    "print(np.shares_memory(a, d))"
   ]
  },
  {
   "cell_type": "code",
   "execution_count": 4,
   "metadata": {
    "pycharm": {
     "name": "#%%\n"
    }
   },
   "outputs": [
    {
     "name": "stdout",
     "output_type": "stream",
     "text": [
      "000000000100000002000000030000000400000005000000060000000700000008000000090000000a0000000b000000\n",
      "000000000100000002000000030000000400000005000000060000000700000008000000090000000a0000000b000000\n",
      "000000000100000002000000030000000400000005000000060000000700000008000000090000000a0000000b000000\n",
      "02000000030000000400000005000000\n"
     ]
    }
   ],
   "source": [
    "# a,b,c,d指向的数据在内存中存储结构(连续储存)\n",
    "print(string_at(a.ctypes.data, a.nbytes).hex())\n",
    "print(string_at(b.ctypes.data, b.nbytes).hex())\n",
    "print(string_at(c.ctypes.data, c.nbytes).hex())\n",
    "print(string_at(d.ctypes.data, d.nbytes).hex())"
   ]
  },
  {
   "cell_type": "markdown",
   "metadata": {
    "pycharm": {
     "name": "#%% md\n"
    }
   },
   "source": [
    "&emsp;&emsp;ndarray是为矩阵运算服务的,ndarray中的所有数据都是同一种类型,比如int32、float64等,\n",
    "每个数据占用的字节数相同、解释方式也相同,所以可以稠密地排列在一起,而list可以容纳不同类型的对象,像string、int、tuple等都可以放在一个list内,\n",
    "所以list中存放的是对象的引用,再通过引用找到具体的对象,这些对象所在的物理地址并不是连续的,如下所示:\n",
    "\n",
    "<img src=\"../../Other/img/ndarray_list数据储存.png\">\n",
    "\n",
    "所以相对ndarray,list访问到数据需要多跳转1次,list只能做到对对象引用的按秩访问,对具体的数据并不是按秩访问,所以效率上ndarray比list要快得多,\n",
    "空间上,因为ndarray只把数据紧密存储,而list需要把每个对象的所有域值都存下来,所以ndarray比list要更省空间."
   ]
  },
  {
   "cell_type": "code",
   "execution_count": 4,
   "metadata": {},
   "outputs": [],
   "source": []
  }
 ],
 "metadata": {
  "kernelspec": {
   "display_name": "Python 3",
   "language": "python",
   "name": "python3"
  },
  "language_info": {
   "codemirror_mode": {
    "name": "ipython",
    "version": 3
   },
   "file_extension": ".py",
   "mimetype": "text/x-python",
   "name": "python",
   "nbconvert_exporter": "python",
   "pygments_lexer": "ipython3",
   "version": "3.7.9"
  },
  "toc": {
   "base_numbering": 1,
   "nav_menu": {},
   "number_sections": true,
   "sideBar": true,
   "skip_h1_title": false,
   "title_cell": "Table of Contents",
   "title_sidebar": "Contents",
   "toc_cell": false,
   "toc_position": {},
   "toc_section_display": true,
   "toc_window_display": false
  }
 },
 "nbformat": 4,
 "nbformat_minor": 1
}