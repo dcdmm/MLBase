{
 "cells": [
  {
   "cell_type": "markdown",
   "source": [
    "## 标量/scalar "
   ],
   "metadata": {
    "collapsed": false
   }
  },
  {
   "cell_type": "code",
   "execution_count": 14,
   "outputs": [
    {
     "name": "stdout",
     "output_type": "stream",
     "text": [
      "0\n",
      "()\n",
      "10\n"
     ]
    }
   ],
   "source": [
    "import numpy as np\n",
    "\n",
    "arr_scalar = np.array(10) # 可视为一个点\n",
    "print(arr_scalar.ndim)\n",
    "print(arr_scalar.shape) # 空元组\n",
    "print(arr_scalar)"
   ],
   "metadata": {
    "collapsed": false,
    "pycharm": {
     "name": "#%%\n"
    }
   }
  },
  {
   "cell_type": "markdown",
   "source": [
    "## 向量/vector"
   ],
   "metadata": {
    "collapsed": false,
    "pycharm": {
     "name": "#%% md\n"
    }
   }
  },
  {
   "cell_type": "code",
   "execution_count": 15,
   "outputs": [
    {
     "name": "stdout",
     "output_type": "stream",
     "text": [
      "1\n",
      "(3,)\n",
      "[1 2 3]\n"
     ]
    }
   ],
   "source": [
    "arr_vector = np.array([1, 2, 3]) # 可视为一条线\n",
    "print(arr_vector.ndim)\n",
    "print(arr_vector.shape) # 长度为1的元组\n",
    "print(arr_vector)"
   ],
   "metadata": {
    "collapsed": false,
    "pycharm": {
     "name": "#%%\n"
    }
   }
  },
  {
   "cell_type": "markdown",
   "source": [
    "## 矩阵/matrix"
   ],
   "metadata": {
    "collapsed": false,
    "pycharm": {
     "name": "#%% md\n"
    }
   }
  },
  {
   "cell_type": "code",
   "execution_count": 16,
   "outputs": [
    {
     "name": "stdout",
     "output_type": "stream",
     "text": [
      "2\n",
      "(2, 3)\n",
      "[[1 2 3]\n",
      " [2 3 4]]\n"
     ]
    }
   ],
   "source": [
    "arr_matrix = np.array([[1, 2, 3], [2, 3, 4]]) # 可视为一个方阵\n",
    "print(arr_matrix.ndim)\n",
    "print(arr_matrix.shape) # 输出为:(行数, 列数)\n",
    "print(arr_matrix)"
   ],
   "metadata": {
    "collapsed": false,
    "pycharm": {
     "name": "#%%\n"
    }
   }
  },
  {
   "cell_type": "markdown",
   "source": [
    "### 高维矩阵(ndim>2)"
   ],
   "metadata": {
    "collapsed": false
   }
  },
  {
   "cell_type": "code",
   "execution_count": 17,
   "outputs": [
    {
     "name": "stdout",
     "output_type": "stream",
     "text": [
      "3\n",
      "(3, 4, 5)\n",
      "[[[ 0.63201006  2.35831735 -1.4056994  -1.66322055  0.12468708]\n",
      "  [ 1.97390402  0.42922964 -1.73112589 -0.38238639  1.64083322]\n",
      "  [-1.03577388 -0.56260722 -0.68168757  0.20616621  1.33441103]\n",
      "  [ 0.98832371  1.17020736 -1.72192084  1.27104512  0.02165582]]\n",
      "\n",
      " [[-0.22096697 -1.95855045 -0.58741141  0.42364186  2.47236466]\n",
      "  [ 1.02467909  0.28300463 -0.34994283 -0.09365585 -0.35852483]\n",
      "  [ 0.95551694  0.9477239  -0.68715749 -1.07265874 -1.42384115]\n",
      "  [ 0.58984722 -0.2231434  -1.33115613 -0.4342241   1.2654945 ]]\n",
      "\n",
      " [[-0.10136997  0.59096891 -0.09312857  1.16756045  2.10909585]\n",
      "  [-1.05648981  0.03790472  0.97042993 -1.14533909 -1.40218192]\n",
      "  [ 1.0706974  -0.77192948 -0.97344353  0.03300498 -0.0834474 ]\n",
      "  [-0.01833848  0.82374045  0.22742704  0.40525311 -0.61637072]]]\n"
     ]
    }
   ],
   "source": [
    "arr_mul_matrix = np.random.randn(3, 4, 5)\n",
    "print(arr_mul_matrix.ndim)\n",
    "print(arr_mul_matrix.shape)\n",
    "print(arr_mul_matrix)"
   ],
   "metadata": {
    "collapsed": false,
    "pycharm": {
     "name": "#%%\n"
    }
   }
  },
  {
   "cell_type": "code",
   "execution_count": 17,
   "outputs": [],
   "source": [
    "\n"
   ],
   "metadata": {
    "collapsed": false,
    "pycharm": {
     "name": "#%%\n"
    }
   }
  }
 ],
 "metadata": {
  "kernelspec": {
   "display_name": "Python 3",
   "language": "python",
   "name": "python3"
  },
  "language_info": {
   "codemirror_mode": {
    "name": "ipython",
    "version": 2
   },
   "file_extension": ".py",
   "mimetype": "text/x-python",
   "name": "python",
   "nbconvert_exporter": "python",
   "pygments_lexer": "ipython2",
   "version": "2.7.6"
  }
 },
 "nbformat": 4,
 "nbformat_minor": 0
}