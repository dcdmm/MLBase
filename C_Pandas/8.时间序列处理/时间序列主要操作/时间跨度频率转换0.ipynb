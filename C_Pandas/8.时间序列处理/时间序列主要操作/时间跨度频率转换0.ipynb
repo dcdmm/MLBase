{
 "cells": [
  {
   "cell_type": "code",
   "execution_count": null,
   "outputs": [],
   "source": [
    "import  numpy as np\n",
    "import  pandas as pd"
   ],
   "metadata": {
    "collapsed": false,
    "pycharm": {
     "name": "#%%\n"
    }
   }
  },
  {
   "cell_type": "code",
   "execution_count": 3,
   "metadata": {
    "pycharm": {
     "is_executing": false
    }
   },
   "outputs": [
    {
     "name": "stdout",
     "text": [
      "2007\n2007-01-01 00:00:00\n2007-12-31 23:59:59.999999999\n"
     ],
     "output_type": "stream"
    }
   ],
   "source": [
    "p = pd.Period('2007', freq='A-DEC')\n",
    "print(p)\n",
    "print(p.start_time)\n",
    "print(p.end_time)"
   ]
  },
  {
   "cell_type": "code",
   "execution_count": 4,
   "metadata": {
    "pycharm": {
     "is_executing": false
    }
   },
   "outputs": [
    {
     "data": {
      "text/plain": "Period('2007-01', 'M')"
     },
     "metadata": {},
     "output_type": "execute_result",
     "execution_count": 4
    }
   ],
   "source": "p.asfreq('M', how='start') # Convert Period to desired frequency, either at the start or end of theinterval"
  },
  {
   "cell_type": "code",
   "execution_count": 5,
   "metadata": {
    "pycharm": {
     "is_executing": false
    }
   },
   "outputs": [
    {
     "data": {
      "text/plain": "Period('2007-12', 'M')"
     },
     "metadata": {},
     "output_type": "execute_result",
     "execution_count": 5
    }
   ],
   "source": [
    "p.asfreq('M', how='end')"
   ]
  },
  {
   "cell_type": "code",
   "execution_count": 6,
   "metadata": {
    "pycharm": {
     "is_executing": false
    }
   },
   "outputs": [
    {
     "name": "stdout",
     "text": [
      "2007\n2006-07-01 00:00:00\n2007-06-30 23:59:59.999999999\n"
     ],
     "output_type": "stream"
    }
   ],
   "source": [
    "p = pd.Period('2007', freq='A-JUN')\n",
    "print(p)\n",
    "print(p.start_time)\n",
    "print(p.end_time)"
   ]
  },
  {
   "cell_type": "code",
   "execution_count": 7,
   "metadata": {
    "pycharm": {
     "is_executing": false
    }
   },
   "outputs": [
    {
     "data": {
      "text/plain": "Period('2006-07', 'M')"
     },
     "metadata": {},
     "output_type": "execute_result",
     "execution_count": 7
    }
   ],
   "source": "p.asfreq('M', 'start')"
  },
  {
   "cell_type": "code",
   "execution_count": 8,
   "outputs": [
    {
     "name": "stdout",
     "text": [
      "2007-06\n2007-06-01 00:00:00\n2007-06-30 23:59:59.999999999\n"
     ],
     "output_type": "stream"
    }
   ],
   "source": "s = p.asfreq('M', 'end')\nprint(s)\nprint(s.start_time)\nprint(s.end_time)",
   "metadata": {
    "pycharm": {
     "metadata": false,
     "name": "#%%\n",
     "is_executing": false
    }
   }
  },
  {
   "cell_type": "code",
   "execution_count": 9,
   "metadata": {
    "pycharm": {
     "is_executing": false
    }
   },
   "outputs": [
    {
     "name": "stdout",
     "text": [
      "2007-08-01 00:00:00\n2007-08-31 23:59:59.999999999\n"
     ],
     "output_type": "stream"
    }
   ],
   "source": "p = pd.Period('Aug-2007', 'M')\nprint(p.start_time)\nprint(p.end_time)"
  },
  {
   "cell_type": "code",
   "execution_count": 10,
   "metadata": {
    "pycharm": {
     "is_executing": false
    }
   },
   "outputs": [
    {
     "name": "stdout",
     "text": [
      "2008\n2007-03-01 00:00:00",
      "\n2008-02-29 23:59:59.999999999\n"
     ],
     "output_type": "stream"
    }
   ],
   "source": "# 从高频率向低频率转换时,pandas根据子区间的所属来决定父区间\nq = p.asfreq('A-FEB') # Aug-2007是2008区间的一部分\nprint(q)\nprint(q.start_time)\nprint(q.end_time)"
  },
  {
   "cell_type": "code",
   "execution_count": 27,
   "metadata": {
    "pycharm": {
     "is_executing": false
    }
   },
   "outputs": [],
   "source": "# 完整的PeriodIndex对象或时间序列也可以按照相同的语义进行频率转换\nrng = pd.period_range('2006', '2009', freq='A-JUN')\nts = pd.Series(np.random.randn(len(rng)), index=rng)"
  },
  {
   "cell_type": "code",
   "execution_count": 28,
   "outputs": [
    {
     "name": "stdout",
     "text": [
      "2006   -0.088008\n2007    2.240391\n2008    1.118077\n2009    0.647089\nFreq: A-JUN, dtype: float64\n2005-07-01 00:00:00\n2006-06-30 23:59:59.999999999\n"
     ],
     "output_type": "stream"
    }
   ],
   "source": "print(ts)\nprint(ts.index[0].start_time)\nprint(ts.index[0].end_time)",
   "metadata": {
    "pycharm": {
     "metadata": false,
     "name": "#%%\n",
     "is_executing": false
    }
   }
  },
  {
   "cell_type": "code",
   "execution_count": 29,
   "outputs": [
    {
     "name": "stdout",
     "text": [
      "PeriodIndex(['2005-07', '2006-07', '2007-07', '2008-07'], dtype='period[M]', freq='M')\n2005-07-01 00:00:00\n2005-07-31 23:59:59.999999999\n"
     ],
     "output_type": "stream"
    }
   ],
   "source": "p = rng.asfreq('M', how='start')\nprint(p)\nprint(p[0].start_time)\nprint(p[0].end_time)",
   "metadata": {
    "pycharm": {
     "metadata": false,
     "name": "#%%\n",
     "is_executing": false
    }
   }
  },
  {
   "cell_type": "code",
   "execution_count": 30,
   "metadata": {
    "pycharm": {
     "is_executing": false
    }
   },
   "outputs": [
    {
     "name": "stdout",
     "text": [
      "2005-07   -0.088008\n2006-07    2.240391\n2007-07    1.118077\n2008-07    0.647089\nFreq: M, dtype: float64\n",
      "2005-07-01 00:00:00\n2005-07-31 23:59:59.999999999\n"
     ],
     "output_type": "stream"
    }
   ],
   "source": "s = ts.asfreq('M', how='start')\nprint(s)\nprint(s.index[0].start_time)\nprint(s.index[0].end_time)"
  },
  {
   "cell_type": "code",
   "execution_count": 31,
   "metadata": {
    "pycharm": {
     "is_executing": false
    }
   },
   "outputs": [
    {
     "name": "stdout",
     "text": [
      "2006-06   -0.088008\n2007-06    2.240391\n2008-06    1.118077\n2009-06    0.647089\nFreq: M, dtype: float64\n2006-06-01 00:00:00\n2006-06-30 23:59:59.999999999\n"
     ],
     "output_type": "stream"
    }
   ],
   "source": "g = ts.asfreq('M', how='end')\nprint(g)\nprint(g.index[0].start_time)\nprint(g.index[0].end_time)"
  },
  {
   "cell_type": "code",
   "execution_count": null,
   "outputs": [],
   "source": "\n",
   "metadata": {
    "pycharm": {
     "metadata": false,
     "name": "#%%\n"
    }
   }
  }
 ],
 "metadata": {
  "kernelspec": {
   "name": "python3",
   "language": "python",
   "display_name": "Python 3"
  },
  "language_info": {
   "codemirror_mode": {
    "name": "ipython",
    "version": 2
   },
   "file_extension": ".py",
   "mimetype": "text/x-python",
   "name": "python",
   "nbconvert_exporter": "python",
   "pygments_lexer": "ipython2",
   "version": "2.7.6"
  },
  "stem_cell": {
   "cell_type": "raw",
   "source": "",
   "metadata": {
    "pycharm": {
     "metadata": false
    }
   }
  },
  "pycharm": {
   "stem_cell": {
    "cell_type": "raw",
    "source": [],
    "metadata": {
     "collapsed": false
    }
   }
  }
 },
 "nbformat": 4,
 "nbformat_minor": 0
}