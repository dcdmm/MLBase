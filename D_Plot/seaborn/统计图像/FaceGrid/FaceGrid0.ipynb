{
 "cells": [
  {
   "cell_type": "code",
   "execution_count": 251,
   "metadata": {
    "collapsed": true
   },
   "outputs": [],
   "source": [
    "import seaborn as sns\n",
    "\n",
    "sns.set_style(\"ticks\")"
   ]
  },
  {
   "cell_type": "code",
   "execution_count": 252,
   "outputs": [
    {
     "data": {
      "text/plain": "   total_bill   tip     sex smoker  day    time  size\n0       16.99  1.01  Female     No  Sun  Dinner     2\n1       10.34  1.66    Male     No  Sun  Dinner     3\n2       21.01  3.50    Male     No  Sun  Dinner     3\n3       23.68  3.31    Male     No  Sun  Dinner     2\n4       24.59  3.61  Female     No  Sun  Dinner     4",
      "text/html": "<div>\n<style scoped>\n    .dataframe tbody tr th:only-of-type {\n        vertical-align: middle;\n    }\n\n    .dataframe tbody tr th {\n        vertical-align: top;\n    }\n\n    .dataframe thead th {\n        text-align: right;\n    }\n</style>\n<table border=\"1\" class=\"dataframe\">\n  <thead>\n    <tr style=\"text-align: right;\">\n      <th></th>\n      <th>total_bill</th>\n      <th>tip</th>\n      <th>sex</th>\n      <th>smoker</th>\n      <th>day</th>\n      <th>time</th>\n      <th>size</th>\n    </tr>\n  </thead>\n  <tbody>\n    <tr>\n      <th>0</th>\n      <td>16.99</td>\n      <td>1.01</td>\n      <td>Female</td>\n      <td>No</td>\n      <td>Sun</td>\n      <td>Dinner</td>\n      <td>2</td>\n    </tr>\n    <tr>\n      <th>1</th>\n      <td>10.34</td>\n      <td>1.66</td>\n      <td>Male</td>\n      <td>No</td>\n      <td>Sun</td>\n      <td>Dinner</td>\n      <td>3</td>\n    </tr>\n    <tr>\n      <th>2</th>\n      <td>21.01</td>\n      <td>3.50</td>\n      <td>Male</td>\n      <td>No</td>\n      <td>Sun</td>\n      <td>Dinner</td>\n      <td>3</td>\n    </tr>\n    <tr>\n      <th>3</th>\n      <td>23.68</td>\n      <td>3.31</td>\n      <td>Male</td>\n      <td>No</td>\n      <td>Sun</td>\n      <td>Dinner</td>\n      <td>2</td>\n    </tr>\n    <tr>\n      <th>4</th>\n      <td>24.59</td>\n      <td>3.61</td>\n      <td>Female</td>\n      <td>No</td>\n      <td>Sun</td>\n      <td>Dinner</td>\n      <td>4</td>\n    </tr>\n  </tbody>\n</table>\n</div>"
     },
     "execution_count": 252,
     "metadata": {},
     "output_type": "execute_result"
    }
   ],
   "source": [
    "tips = sns.load_dataset(\"tips\", cache=True)\n",
    "tips.head()"
   ],
   "metadata": {
    "collapsed": false,
    "pycharm": {
     "name": "#%%\n"
    }
   }
  },
  {
   "cell_type": "code",
   "execution_count": 253,
   "outputs": [
    {
     "data": {
      "text/plain": "<seaborn.axisgrid.FacetGrid at 0x1f32052cbe0>"
     },
     "execution_count": 253,
     "metadata": {},
     "output_type": "execute_result"
    },
    {
     "data": {
      "text/plain": "<Figure size 432x216 with 2 Axes>",
      "image/png": "[encoded data removed]"
     },
     "metadata": {},
     "output_type": "display_data"
    }
   ],
   "source": [
    "sns.FacetGrid(data=tips, col=\"time\")"
   ],
   "metadata": {
    "pycharm": {
     "metadata": false,
     "name": "#%%\n"
    }
   }
  },
  {
   "cell_type": "code",
   "execution_count": 254,
   "outputs": [
    {
     "data": {
      "text/plain": "<seaborn.axisgrid.FacetGrid at 0x1f3204ece50>"
     },
     "execution_count": 254,
     "metadata": {},
     "output_type": "execute_result"
    },
    {
     "data": {
      "text/plain": "<Figure size 216x432 with 2 Axes>",
      "image/png": "[encoded data removed]"
     },
     "metadata": {},
     "output_type": "display_data"
    }
   ],
   "source": [
    "sns.FacetGrid(data=tips, row='time')"
   ],
   "metadata": {
    "collapsed": false,
    "pycharm": {
     "name": "#%%\n"
    }
   }
  },
  {
   "cell_type": "code",
   "execution_count": 255,
   "outputs": [
    {
     "data": {
      "text/plain": "<seaborn.axisgrid.FacetGrid at 0x1f31f260730>"
     },
     "execution_count": 255,
     "metadata": {},
     "output_type": "execute_result"
    },
    {
     "data": {
      "text/plain": "<Figure size 432x432 with 4 Axes>",
      "image/png": "[encoded data removed]"
     },
     "metadata": {},
     "output_type": "display_data"
    }
   ],
   "source": [
    "# 分组列为[\"time\", \"smoker\"]\n",
    "# 根据分组结果(\"Male\", \"Lunch\"), (\"Male\", \"Dinner\"),(\"Female\", \"Lunch\"),(\"Female\", \"Dinner\")绘制四个子图\n",
    "sns.FacetGrid(data=tips, col=\"time\", row=\"smoker\")"
   ],
   "metadata": {
    "collapsed": false,
    "pycharm": {
     "name": "#%%\n"
    }
   }
  },
  {
   "cell_type": "code",
   "execution_count": 256,
   "outputs": [
    {
     "name": "stdout",
     "output_type": "stream",
     "text": [
      "(('Male', 'Lunch'),      total_bill   tip\n",
      "77        27.20  4.00\n",
      "78        22.76  3.00\n",
      "79        17.29  2.71\n",
      "80        19.44  3.00\n",
      "81        16.66  3.40\n",
      "83        32.68  5.00\n",
      "84        15.98  2.03\n",
      "86        13.03  2.00\n",
      "87        18.28  4.00\n",
      "88        24.71  5.85\n",
      "89        21.16  3.00\n",
      "120       11.69  2.31\n",
      "122       14.26  2.50\n",
      "123       15.95  2.00\n",
      "126        8.52  1.48\n",
      "129       22.82  2.18\n",
      "130       19.08  1.50\n",
      "138       16.00  2.00\n",
      "141       34.30  6.70\n",
      "142       41.19  5.00\n",
      "148        9.78  1.73\n",
      "149        7.51  2.00\n",
      "192       28.44  2.56\n",
      "193       15.48  2.02\n",
      "194       16.58  4.00\n",
      "195        7.56  1.44\n",
      "196       10.34  2.00\n",
      "199       13.51  2.00\n",
      "200       18.71  4.00\n",
      "204       20.53  4.00\n",
      "220       12.16  2.20\n",
      "222        8.58  1.92\n",
      "224       13.42  1.58)\n",
      "(('Male', 'Dinner'),      total_bill   tip\n",
      "1         10.34  1.66\n",
      "2         21.01  3.50\n",
      "3         23.68  3.31\n",
      "5         25.29  4.71\n",
      "6          8.77  2.00\n",
      "..          ...   ...\n",
      "236       12.60  1.00\n",
      "237       32.83  1.17\n",
      "239       29.03  5.92\n",
      "241       22.67  2.00\n",
      "242       17.82  1.75\n",
      "\n",
      "[124 rows x 2 columns])\n",
      "(('Female', 'Lunch'),      total_bill   tip\n",
      "82        10.07  1.83\n",
      "85        34.83  5.17\n",
      "117       10.65  1.50\n",
      "118       12.43  1.80\n",
      "119       24.08  2.92\n",
      "121       13.42  1.68\n",
      "124       12.48  2.52\n",
      "125       29.80  4.20\n",
      "127       14.52  2.00\n",
      "128       11.38  2.00\n",
      "131       20.27  2.83\n",
      "132       11.17  1.50\n",
      "133       12.26  2.00\n",
      "134       18.26  3.25\n",
      "135        8.51  1.25\n",
      "136       10.33  2.00\n",
      "137       14.15  2.00\n",
      "139       13.16  2.75\n",
      "140       17.47  3.50\n",
      "143       27.05  5.00\n",
      "144       16.43  2.30\n",
      "145        8.35  1.50\n",
      "146       18.64  1.36\n",
      "147       11.87  1.63\n",
      "191       19.81  4.19\n",
      "197       43.11  5.00\n",
      "198       13.00  2.00\n",
      "201       12.74  2.01\n",
      "202       13.00  2.00\n",
      "203       16.40  2.50\n",
      "205       16.47  3.23\n",
      "221       13.42  3.48\n",
      "223       15.98  3.00\n",
      "225       16.27  2.50\n",
      "226       10.09  2.00)\n",
      "(('Female', 'Dinner'),      total_bill   tip\n",
      "0         16.99  1.01\n",
      "4         24.59  3.61\n",
      "11        35.26  5.00\n",
      "14        14.83  3.02\n",
      "16        10.33  1.67\n",
      "18        16.97  3.50\n",
      "21        20.29  2.75\n",
      "22        15.77  2.23\n",
      "29        19.65  3.00\n",
      "32        15.06  3.00\n",
      "33        20.69  2.45\n",
      "37        16.93  3.07\n",
      "51        10.29  2.60\n",
      "52        34.81  5.20\n",
      "57        26.41  1.50\n",
      "66        16.45  2.47\n",
      "67         3.07  1.00\n",
      "71        17.07  3.00\n",
      "72        26.86  3.14\n",
      "73        25.28  5.00\n",
      "74        14.73  2.20\n",
      "92         5.75  1.00\n",
      "93        16.32  4.30\n",
      "94        22.75  3.25\n",
      "100       11.35  2.50\n",
      "101       15.38  3.00\n",
      "102       44.30  2.50\n",
      "103       22.42  3.48\n",
      "104       20.92  4.08\n",
      "109       14.31  4.00\n",
      "111        7.25  1.00\n",
      "114       25.71  4.00\n",
      "115       17.31  3.50\n",
      "155       29.85  5.14\n",
      "157       25.00  3.75\n",
      "158       13.39  2.61\n",
      "162       16.21  2.00\n",
      "164       17.51  3.00\n",
      "168       10.59  1.61\n",
      "169       10.63  2.00\n",
      "178        9.60  4.00\n",
      "186       20.90  3.50\n",
      "188       18.15  3.50\n",
      "209       12.76  2.23\n",
      "213       13.27  2.50\n",
      "214       28.17  6.50\n",
      "215       12.90  1.10\n",
      "219       30.14  3.09\n",
      "229       22.12  2.88\n",
      "238       35.83  4.67\n",
      "240       27.18  2.00\n",
      "243       18.78  3.00)\n"
     ]
    }
   ],
   "source": [
    "for i in tips[['total_bill', 'tip']].groupby([tips[\"sex\"], tips[\"time\"]]):\n",
    "    print(i)"
   ],
   "metadata": {
    "collapsed": false,
    "pycharm": {
     "name": "#%%\n"
    }
   }
  },
  {
   "cell_type": "code",
   "execution_count": 257,
   "outputs": [
    {
     "data": {
      "text/plain": "<seaborn.axisgrid.FacetGrid at 0x1f32088a100>"
     },
     "execution_count": 257,
     "metadata": {},
     "output_type": "execute_result"
    },
    {
     "data": {
      "text/plain": "<Figure size 432x432 with 4 Axes>",
      "image/png": "[encoded data removed]"
     },
     "metadata": {},
     "output_type": "display_data"
    }
   ],
   "source": [
    "g = sns.FacetGrid(tips, col=\"time\", row=\"sex\")\n",
    "\n",
    "\"\"\"\n",
    "解析:\n",
    "在每个子图中通过sns.scatterplot函数依次绘制\n",
    "    \"total_bill\"和\"tip\"列中分组结果为(\"Male\", \"Lunch\")的数据\n",
    "    \"total_bill\"和\"tip\"列中分组结果为(\"Male\", \"Dinner\")的数据\n",
    "    \"total_bill\"和\"tip\"列中分组结果为(\"Female\", \"Lunch\")的数据\n",
    "    \"total_bill\"和\"tip\"列中分组结果为(\"Female\", \"Dinner\")的数据\n",
    "\"\"\"\n",
    "g.map_dataframe(sns.scatterplot,\n",
    "                x=\"total_bill\", y=\"tip\")  # 传递给函数sns.scatterplot的参数"
   ],
   "metadata": {
    "collapsed": false,
    "pycharm": {
     "name": "#%%\n"
    }
   }
  },
  {
   "cell_type": "code",
   "execution_count": 258,
   "outputs": [
    {
     "name": "stdout",
     "output_type": "stream",
     "text": [
      "Figure(432x432)\n",
      "smoker = Yes | time = Lunch\n",
      "\n",
      "xlim (0.6829999999999998, 53.197)\n",
      "ylim (0.0, 15.75)\n",
      "[ 0. 10. 20. 30. 40. 50. 60.]\n",
      "[]\n",
      "##############################\n",
      "smoker = Yes | time = Dinner\n",
      "\n",
      "xlim (0.6829999999999998, 53.197)\n",
      "ylim (0.0, 15.75)\n",
      "[ 0. 10. 20. 30. 40. 50. 60.]\n",
      "[]\n",
      "##############################\n",
      "smoker = No | time = Lunch\n",
      "total_bill\n",
      "xlim (0.6829999999999998, 53.197)\n",
      "ylim (0.0, 15.75)\n",
      "[ 0. 10. 20. 30. 40. 50. 60.]\n",
      "[Text(0.0, 0, '0'), Text(20.0, 0, '20'), Text(40.0, 0, '40'), Text(60.0, 0, '60'), Text(0.8, 0, '0.8'), Text(1.0, 0, '1.0'), Text(0, 0, '')]\n",
      "##############################\n",
      "smoker = No | time = Dinner\n",
      "total_bill\n",
      "xlim (0.6829999999999998, 53.197)\n",
      "ylim (0.0, 15.75)\n",
      "[ 0. 10. 20. 30. 40. 50. 60.]\n",
      "[Text(0.0, 0, '0'), Text(20.0, 0, '20'), Text(40.0, 0, '40'), Text(60.0, 0, '60'), Text(0.8, 0, '0.8'), Text(1.0, 0, '1.0'), Text(0, 0, '')]\n",
      "##############################\n",
      "****************************************************************************************************\n",
      "{('Yes', 'Lunch'): <AxesSubplot:title={'center':'smoker = Yes | time = Lunch'}>, ('Yes', 'Dinner'): <AxesSubplot:title={'center':'smoker = Yes | time = Dinner'}>, ('No', 'Lunch'): <AxesSubplot:title={'center':'smoker = No | time = Lunch'}, xlabel='total_bill'>, ('No', 'Dinner'): <AxesSubplot:title={'center':'smoker = No | time = Dinner'}, xlabel='total_bill'>}\n",
      "smoker = Yes | time = Lunch\n",
      "smoker = Yes | time = Lunch\n",
      "\n",
      "xlim (0.6829999999999998, 53.197)\n",
      "ylim (0.0, 15.75)\n",
      "[ 0. 10. 20. 30. 40. 50. 60.]\n",
      "[]\n",
      "##############################\n",
      "smoker = Yes | time = Dinner\n",
      "smoker = Yes | time = Dinner\n",
      "\n",
      "xlim (0.6829999999999998, 53.197)\n",
      "ylim (0.0, 15.75)\n",
      "[ 0. 10. 20. 30. 40. 50. 60.]\n",
      "[]\n",
      "##############################\n",
      "smoker = No | time = Lunch\n",
      "smoker = No | time = Lunch\n",
      "total_bill\n",
      "xlim (0.6829999999999998, 53.197)\n",
      "ylim (0.0, 15.75)\n",
      "[ 0. 10. 20. 30. 40. 50. 60.]\n",
      "[Text(0.0, 0, '0'), Text(20.0, 0, '20'), Text(40.0, 0, '40'), Text(60.0, 0, '60'), Text(0.8, 0, '0.8'), Text(1.0, 0, '1.0'), Text(0, 0, '')]\n",
      "##############################\n",
      "smoker = No | time = Dinner\n",
      "smoker = No | time = Dinner\n",
      "total_bill\n",
      "xlim (0.6829999999999998, 53.197)\n",
      "ylim (0.0, 15.75)\n",
      "[ 0. 10. 20. 30. 40. 50. 60.]\n",
      "[Text(0.0, 0, '0'), Text(20.0, 0, '20'), Text(40.0, 0, '40'), Text(60.0, 0, '60'), Text(0.8, 0, '0.8'), Text(1.0, 0, '1.0'), Text(0, 0, '')]\n",
      "##############################\n"
     ]
    },
    {
     "data": {
      "text/plain": "<Figure size 432x432 with 4 Axes>",
      "image/png": "[encoded data removed]"
     },
     "metadata": {},
     "output_type": "display_data"
    }
   ],
   "source": [
    "import matplotlib.pyplot as plt\n",
    "\n",
    "g = sns.FacetGrid(tips, col=\"time\", row=\"smoker\")\n",
    "\n",
    "g.map_dataframe(plt.hist,\n",
    "                x=\"total_bill\", bins=20)  # 传递给函数plt.hist的参数\n",
    "\n",
    "print(g.figure)  # Access the matplotlib.figure.Figure object underlying the grid.\n",
    "\n",
    "for i in g.figure.get_axes():\n",
    "    \"\"\"访问matplotlib底层方式一\"\"\"\n",
    "    print(i.get_title())\n",
    "    print(i.get_xlabel())\n",
    "    print('xlim', i.get_xlim())\n",
    "    print('ylim', i.get_ylim())\n",
    "    print(i.get_xticks())\n",
    "    print(i.get_xticklabels(), end='\\n' + '#' * 30 + '\\n')\n",
    "\n",
    "print(\"*\" * 100)\n",
    "\n",
    "print(g.axes_dict)  # An array of the matplotlib.axes.Axes objects in the grid.\n",
    "\n",
    "for (row_val, col_val), ax in g.axes_dict.items():\n",
    "    \"\"\"访问matplotlib底层方式二\"\"\"\n",
    "    print(ax.get_title())\n",
    "    print(ax.get_title())\n",
    "    print(ax.get_xlabel())\n",
    "    print('xlim', ax.get_xlim())\n",
    "    print('ylim', ax.get_ylim())\n",
    "    print(ax.get_xticks())\n",
    "    print(ax.get_xticklabels(), end='\\n' + '#' * 30 + '\\n')"
   ],
   "metadata": {
    "pycharm": {
     "metadata": false,
     "name": "#%%\n"
    }
   }
  },
  {
   "cell_type": "code",
   "execution_count": 259,
   "outputs": [
    {
     "data": {
      "text/plain": "<seaborn.axisgrid.FacetGrid at 0x1f320becdc0>"
     },
     "execution_count": 259,
     "metadata": {},
     "output_type": "execute_result"
    },
    {
     "data": {
      "text/plain": "<Figure size 501.375x216 with 2 Axes>",
      "image/png": "[encoded data removed]"
     },
     "metadata": {},
     "output_type": "display_data"
    }
   ],
   "source": [
    "g = sns.FacetGrid(tips,\n",
    "                  col=\"time\",\n",
    "                  hue=\"sex\")  # 子图中继续分组\n",
    "g.map_dataframe(sns.scatterplot, x=\"total_bill\", y=\"tip\")\n",
    "g.add_legend()"
   ],
   "metadata": {
    "pycharm": {
     "metadata": false,
     "name": "#%%\n"
    }
   }
  },
  {
   "cell_type": "code",
   "execution_count": 260,
   "outputs": [
    {
     "data": {
      "text/plain": "<seaborn.axisgrid.FacetGrid at 0x1f320ccd160>"
     },
     "execution_count": 260,
     "metadata": {},
     "output_type": "execute_result"
    },
    {
     "data": {
      "text/plain": "<Figure size 468x180 with 4 Axes>",
      "image/png": "[encoded data removed]"
     },
     "metadata": {},
     "output_type": "display_data"
    }
   ],
   "source": [
    "g = sns.FacetGrid(tips, col=\"day\",\n",
    "                  height=2.5,  # 每个子图的高度\n",
    "                  # Aspect ratio of each facet, so that aspect * height gives the width of each facet in inches.\n",
    "                  aspect=.65)  # 子图横轴比\n",
    "g.map(sns.histplot, \"total_bill\")"
   ],
   "metadata": {
    "collapsed": false,
    "pycharm": {
     "name": "#%%\n"
    }
   }
  },
  {
   "cell_type": "code",
   "execution_count": 260,
   "outputs": [],
   "source": [
    "\n",
    "\n",
    "\n"
   ],
   "metadata": {
    "collapsed": false,
    "pycharm": {
     "name": "#%%\n"
    }
   }
  }
 ],
 "metadata": {
  "language_info": {
   "codemirror_mode": {
    "name": "ipython",
    "version": 2
   },
   "file_extension": ".py",
   "mimetype": "text/x-python",
   "name": "python",
   "nbconvert_exporter": "python",
   "pygments_lexer": "ipython2",
   "version": "2.7.6"
  },
  "kernelspec": {
   "name": "python3",
   "language": "python",
   "display_name": "Python 3"
  }
 },
 "nbformat": 4,
 "nbformat_minor": 0
}