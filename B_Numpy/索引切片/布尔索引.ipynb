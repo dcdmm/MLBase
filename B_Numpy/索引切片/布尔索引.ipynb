{
 "cells": [
  {
   "cell_type": "code",
   "execution_count": 1,
   "outputs": [
    {
     "name": "stdout",
     "output_type": "stream",
     "text": [
      "['Bob' 'Joe' 'Will' 'Bob' 'Will' 'Joe' 'Joe']\n",
      "[[ 0.17363904  0.31409139  1.22052156  0.21641319]\n",
      " [ 0.70928361 -1.57655306 -1.43326677 -0.36811284]\n",
      " [ 0.21056841 -1.91964745  0.36658501 -0.14972258]\n",
      " [ 0.97875408  0.58835288 -1.11597737  1.23040249]\n",
      " [-0.32469319 -0.83897624  0.48405066  0.12275351]\n",
      " [-0.65046578 -1.32606417 -0.58335779  1.32907929]\n",
      " [-0.50219632  1.59245389 -0.08571201  0.08692958]]\n"
     ]
    }
   ],
   "source": [
    "import numpy as np\n",
    "\n",
    "names = np.array(['Bob', 'Joe', 'Will', 'Bob', 'Will', 'Joe', 'Joe'])\n",
    "data = np.random.randn(7, 4)\n",
    "print(names)\n",
    "print(data)"
   ],
   "metadata": {
    "pycharm": {
     "metadata": false,
     "name": "#%%\n"
    }
   }
  },
  {
   "cell_type": "code",
   "execution_count": 2,
   "outputs": [
    {
     "data": {
      "text/plain": "array([ True, False, False,  True, False, False, False])"
     },
     "execution_count": 2,
     "metadata": {},
     "output_type": "execute_result"
    }
   ],
   "source": [
    "check = names == 'Bob'\n",
    "check"
   ],
   "metadata": {
    "pycharm": {
     "metadata": false,
     "name": "#%%\n"
    }
   }
  },
  {
   "cell_type": "code",
   "execution_count": 3,
   "outputs": [
    {
     "data": {
      "text/plain": "array([[ 0.17363904,  0.31409139,  1.22052156,  0.21641319],\n       [ 0.97875408,  0.58835288, -1.11597737,  1.23040249]])"
     },
     "execution_count": 3,
     "metadata": {},
     "output_type": "execute_result"
    }
   ],
   "source": [
    "data[check] # 第零个维度上的布尔索引"
   ],
   "metadata": {
    "pycharm": {
     "metadata": false,
     "name": "#%%\n"
    }
   }
  },
  {
   "cell_type": "code",
   "execution_count": 4,
   "outputs": [
    {
     "data": {
      "text/plain": "array([[ 0.17363904,  0.21641319],\n       [ 0.70928361, -0.36811284],\n       [ 0.21056841, -0.14972258],\n       [ 0.97875408,  1.23040249],\n       [-0.32469319,  0.12275351],\n       [-0.65046578,  1.32907929],\n       [-0.50219632,  0.08692958]])"
     },
     "execution_count": 4,
     "metadata": {},
     "output_type": "execute_result"
    }
   ],
   "source": [
    "data[:, check[:4]] # 第一个维度上的布尔切片"
   ],
   "metadata": {
    "pycharm": {
     "metadata": false,
     "name": "#%%\n"
    }
   }
  },
  {
   "cell_type": "code",
   "execution_count": 5,
   "outputs": [
    {
     "name": "stdout",
     "output_type": "stream",
     "text": [
      "[[ 1.22052156  0.21641319]\n",
      " [-1.11597737  1.23040249]]\n",
      "[[ 1.22052156  0.21641319]\n",
      " [-1.11597737  1.23040249]]\n"
     ]
    }
   ],
   "source": [
    "print(data[names == 'Bob', 2:])\n",
    "print(data[names == 'Bob', 2:])"
   ],
   "metadata": {
    "pycharm": {
     "metadata": false,
     "name": "#%%\n"
    }
   }
  },
  {
   "cell_type": "code",
   "execution_count": 6,
   "outputs": [
    {
     "name": "stdout",
     "output_type": "stream",
     "text": [
      "[False  True  True False  True  True  True]\n",
      "[ True False False  True False False False]\n",
      "[[ 0.17363904  0.31409139  1.22052156  0.21641319]\n",
      " [ 0.97875408  0.58835288 -1.11597737  1.23040249]]\n"
     ]
    }
   ],
   "source": [
    "print(names != 'Bob')\n",
    "print(~(names != 'Bob')) # ~:取反\n",
    "print(data[~(names != 'Bob')])"
   ],
   "metadata": {
    "pycharm": {
     "metadata": false,
     "name": "#%%\n"
    }
   }
  },
  {
   "cell_type": "code",
   "execution_count": 7,
   "outputs": [
    {
     "name": "stdout",
     "output_type": "stream",
     "text": [
      "[ True False  True  True  True False False]\n",
      "[[ 0.17363904  0.31409139  1.22052156  0.21641319]\n",
      " [ 0.21056841 -1.91964745  0.36658501 -0.14972258]\n",
      " [ 0.97875408  0.58835288 -1.11597737  1.23040249]\n",
      " [-0.32469319 -0.83897624  0.48405066  0.12275351]]\n"
     ]
    }
   ],
   "source": [
    "mask = (names == 'Bob') | (names == 'Will') # |:并集,不能使用关键字or\n",
    "print(mask)\n",
    "print(data[mask])"
   ],
   "metadata": {
    "pycharm": {
     "metadata": false,
     "name": "#%%\n"
    }
   }
  },
  {
   "cell_type": "code",
   "execution_count": 8,
   "outputs": [
    {
     "name": "stdout",
     "output_type": "stream",
     "text": [
      "[False False False False False False False]\n",
      "[]\n"
     ]
    }
   ],
   "source": [
    "mask1 = (names == 'Bob') & (names == 'Will') # &:交集,不能使用关键字and\n",
    "print(mask1)\n",
    "print(data[mask1])"
   ],
   "metadata": {
    "pycharm": {
     "metadata": false,
     "name": "#%%\n"
    }
   }
  },
  {
   "cell_type": "code",
   "execution_count": 9,
   "outputs": [
    {
     "data": {
      "text/plain": "array([[False, False, False, False],\n       [False,  True,  True,  True],\n       [False,  True, False,  True],\n       [False, False,  True, False],\n       [ True,  True, False, False],\n       [ True,  True,  True, False],\n       [ True, False,  True, False]])"
     },
     "execution_count": 9,
     "metadata": {},
     "output_type": "execute_result"
    }
   ],
   "source": [
    "s = data < 0\n",
    "s"
   ],
   "metadata": {
    "pycharm": {
     "metadata": false,
     "name": "#%%\n"
    }
   }
  },
  {
   "cell_type": "code",
   "execution_count": 10,
   "outputs": [
    {
     "data": {
      "text/plain": "array([-1.57655306, -1.43326677, -0.36811284, -1.91964745, -0.14972258,\n       -1.11597737, -0.32469319, -0.83897624, -0.65046578, -1.32606417,\n       -0.58335779, -0.50219632, -0.08571201])"
     },
     "execution_count": 10,
     "metadata": {},
     "output_type": "execute_result"
    }
   ],
   "source": [
    "data[s]"
   ],
   "metadata": {
    "collapsed": false,
    "pycharm": {
     "name": "#%%\n"
    }
   }
  },
  {
   "cell_type": "code",
   "execution_count": 11,
   "outputs": [
    {
     "data": {
      "text/plain": "array([[0.17363904, 0.31409139, 1.22052156, 0.21641319],\n       [0.70928361, 0.        , 0.        , 0.        ],\n       [0.21056841, 0.        , 0.36658501, 0.        ],\n       [0.97875408, 0.58835288, 0.        , 1.23040249],\n       [0.        , 0.        , 0.48405066, 0.12275351],\n       [0.        , 0.        , 0.        , 1.32907929],\n       [0.        , 1.59245389, 0.        , 0.08692958]])"
     },
     "execution_count": 11,
     "metadata": {},
     "output_type": "execute_result"
    }
   ],
   "source": [
    "data[s] = 0  # 逐个元素的布尔索引\n",
    "data # data发生改变"
   ],
   "metadata": {
    "collapsed": false,
    "pycharm": {
     "name": "#%%\n"
    }
   }
  },
  {
   "cell_type": "code",
   "execution_count": 12,
   "outputs": [
    {
     "data": {
      "text/plain": "array([[7.        , 7.        , 7.        , 7.        ],\n       [0.70928361, 0.        , 0.        , 0.        ],\n       [7.        , 7.        , 7.        , 7.        ],\n       [7.        , 7.        , 7.        , 7.        ],\n       [7.        , 7.        , 7.        , 7.        ],\n       [0.        , 0.        , 0.        , 1.32907929],\n       [0.        , 1.59245389, 0.        , 0.08692958]])"
     },
     "execution_count": 12,
     "metadata": {},
     "output_type": "execute_result"
    }
   ],
   "source": [
    "data[names != 'Joe'] = 7 # ★★★★★和整数索引类似,只能通过对原array[索引/切片]直接进行赋值从而修改原array\n",
    "data # data发生改变"
   ],
   "metadata": {
    "pycharm": {
     "metadata": false,
     "name": "#%%\n"
    }
   }
  },
  {
   "cell_type": "code",
   "execution_count": 12,
   "outputs": [],
   "source": [],
   "metadata": {
    "collapsed": false,
    "pycharm": {
     "name": "#%%\n"
    }
   }
  }
 ],
 "metadata": {
  "kernelspec": {
   "name": "python3",
   "language": "python",
   "display_name": "Python 3"
  },
  "language_info": {
   "codemirror_mode": {
    "name": "ipython",
    "version": 2
   },
   "file_extension": ".py",
   "mimetype": "text/x-python",
   "name": "python",
   "nbconvert_exporter": "python",
   "pygments_lexer": "ipython2",
   "version": "2.7.6"
  },
  "stem_cell": {
   "cell_type": "raw",
   "source": "",
   "metadata": {
    "pycharm": {
     "metadata": false
    }
   }
  }
 },
 "nbformat": 4,
 "nbformat_minor": 0
}