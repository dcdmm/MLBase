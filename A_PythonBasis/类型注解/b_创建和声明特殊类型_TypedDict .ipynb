{
 "cells": [
  {
   "cell_type": "code",
   "execution_count": 31,
   "metadata": {
    "ExecuteTime": {
     "end_time": "2024-10-16T07:57:35.369858Z",
     "start_time": "2024-10-16T07:57:35.367180Z"
    }
   },
   "outputs": [],
   "source": [
    "from typing import TypedDict, NotRequired"
   ]
  },
  {
   "cell_type": "code",
   "execution_count": 32,
   "metadata": {
    "ExecuteTime": {
     "end_time": "2024-10-16T07:57:35.387772Z",
     "start_time": "2024-10-16T07:57:35.384486Z"
    }
   },
   "outputs": [
    {
     "name": "stdout",
     "output_type": "stream",
     "text": [
      "{'x': 1, 'y': 2, 'label': 'good'} <class 'dict'>\n",
      "{'x': 1, 'y': 2}\n"
     ]
    }
   ],
   "source": [
    "class Point2D(TypedDict):\n",
    "    x: int\n",
    "    y: int\n",
    "    label: str\n",
    "\n",
    "\n",
    "a: Point2D = {'x': 1, 'y': 2, 'label': 'good'}\n",
    "print(a, type(a))\n",
    "b: Point2D = {'x': 1, 'y': 2}  # TypedDict 'Point2D' has missing key: 'label' \n",
    "print(b)"
   ]
  },
  {
   "cell_type": "code",
   "execution_count": 33,
   "metadata": {
    "ExecuteTime": {
     "end_time": "2024-10-16T07:57:35.394773Z",
     "start_time": "2024-10-16T07:57:35.388778Z"
    }
   },
   "outputs": [
    {
     "name": "stdout",
     "output_type": "stream",
     "text": [
      "{'x': 1, 'y': 2}\n"
     ]
    }
   ],
   "source": [
    "class Point2Da(TypedDict):\n",
    "    x: int\n",
    "    y: int\n",
    "    label: NotRequired[str]  # 非必须\n",
    "\n",
    "\n",
    "a1: Point2Da = {'x': 1, 'y': 2}\n",
    "print(a1)"
   ]
  }
 ],
 "metadata": {
  "kernelspec": {
   "display_name": "ml",
   "language": "python",
   "name": "python3"
  },
  "language_info": {
   "codemirror_mode": {
    "name": "ipython",
    "version": 3
   },
   "file_extension": ".py",
   "mimetype": "text/x-python",
   "name": "python",
   "nbconvert_exporter": "python",
   "pygments_lexer": "ipython3",
   "version": "3.10.12"
  }
 },
 "nbformat": 4,
 "nbformat_minor": 2
}
