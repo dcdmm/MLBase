{
 "cells": [
  {
   "cell_type": "markdown",
   "metadata": {
    "pycharm": {
     "metadata": false,
     "name": "#%% md\n"
    }
   },
   "source": [
    "## 协方差\n",
    "<font color='red' size='4'>定义:</font>   \n",
    "&emsp;&emsp;协方差(Covariance)是度量两个变量的变动的同步程度,也就是度量两个变量线性相关性程度.如果两个变量的协方差为0,则统计\n",
    "学上认为二者线性无关.注意两个无关的变量并非完全独立,只是没有线性相关性而已.   \n",
    "&emsp;&emsp;随机变量$ X $ 和$ Y $ 的协方差定义为:  \n",
    "$$ Cov(X,Y) = E((X-E(X)(Y-E(Y)) $$   \n",
    "\n",
    "<font color='red' size='4'>计算(总体协方差自由度为$n$,样本协方差自由度为$n-1$):</font>\n",
    "\n",
    "$$ Cov(X,Y) = \\frac{{\\sum\\limits_{i = 1}^n {({X_i} - \\overline X)({Y_i} - \\overline Y)} }}{{\\text{自由度}}} $$\n",
    "\n",
    "<font color='red' size=4>性质:</font>\n",
    "\n",
    "1. 设$ X $ 和$ Y $ 是任意随机变量,则  \n",
    "\n",
    "$$ Cov(X,Y) = EXY - EXEY $$\n",
    "\n",
    "2. 设$X$和$Y$是一对独立的随机变量,则$ Cov(X,Y)=0 $,且$ \\rho_{XY} =0 $\n",
    "\n",
    "\n",
    "\n",
    "## 协方差矩阵\n",
    "&emsp;&emsp;设$X=(X_{1},X_{2},...,X_{p})',Y=(Y_{1},Y_{2},...,Y_{p})'$,称   \n",
    "\\begin{equation}\n",
    "\t\\begin{split}%加在equation环境中使之有公式编号\n",
    "\t\tD(X)&=E(X-EX)(X-EX)'\\\\\n",
    "\t\t&=\\begin{bmatrix}%生成的是中括号的矩阵\n",
    "\t\t\tCov(X_{1},X_{1}) & Cov(X_{1},X_{2}) & \\dots  & Cov(X_{1},X_{p}) \\\\\n",
    "\t\t\tCov(X_{2},X_{1}) & Cov(X_{2},X_{2}) & \\dots  & Cov(X_{1},X_{p}) \\\\\n",
    "\t\t\t\\vdots           & \\vdots           & \\vdots & \\vdots \\\\\n",
    " \t\t\tCov(X_{p},X_{1}) & Cov(X_{p},X_{1}) & \\dots & Cov(X_{p},X_{p}) \\\\\n",
    "\t\t\\end{bmatrix}\n",
    "\t\\end{split}\n",
    "\\end{equation}  \n",
    "为$ X $的方差或协差阵,有时,把$D(X)$简记为$\\sum$,$Cov(x_{i},x_{j})$简记为$\\sigma_{ij}$从而有$\\sum=(\\sigma_{ij})_{p \\times p}$<br/>\n",
    "\n",
    "称随机变量$ X $和$ Y $的协差阵为:        \n",
    "\\begin{equation}\n",
    "\t\\begin{split}%加在equation环境中使之有公式编号\n",
    "\t\tCov(X,Y)&=E(X-EX)(Y-EY)'\\\\\n",
    "\t\t&=\\begin{bmatrix}%生成的是中括号的矩阵\n",
    "\t\t\tCov(X_{1},Y_{1}) & Cov(X_{1},Y_{2}) & \\dots  & Cov(X_{1},Y_{p}) \\\\\n",
    "\t\t\tCov(X_{2},Y_{1}) & Cov(X_{2},Y_{2}) & \\dots  & Cov(X_{1},Y_{p}) \\\\\n",
    "\t\t\t\\vdots           & \\vdots           & \\vdots & \\vdots \\\\\n",
    " \t\t\tCov(X_{p},Y_{1}) & Cov(X_{p},Y_{1}) & \\dots & Cov(X_{p},Y_{p}) \\\\\n",
    "\t\t\\end{bmatrix}\n",
    "\t\\end{split}\n",
    "\\end{equation}\n",
    "\n",
    "\n",
    "<font color='red' size=4>证明:</font>协方差矩阵$\\Sigma$是半正定矩阵\n",
    "\n",
    "&emsp;&emsp;设$n$给随机变量$X_i(1 \\leq i \\leq n)$,数据期望$\\mu_i = E(X_i)$,则协方差矩阵为:\n",
    "\n",
    "\\begin{equation}\\Sigma=\\left[\\begin{array}{cccc}\n",
    "E\\left[\\left(X_{1}-\\mu_{1}\\right)\\left(X_{1}-\\mu_{1}\\right)\\right] & E\\left[\\left(X_{1}-\\mu_{1}\\right)\\left(X_{2}-\\mu_{2}\\right)\\right] & \\cdots & E\\left[\\left(X_{1}-\\mu_{1}\\right)\\left(X_{n}-\\mu_{n}\\right)\\right] \\\\\n",
    "E\\left[\\left(X_{2}-\\mu_{2}\\right)\\left(X_{1}-\\mu_{1}\\right)\\right] & E\\left[\\left(X_{2}-\\mu_{2}\\right)\\left(X_{2}-\\mu_{2}\\right)\\right] & \\cdots & E\\left[\\left(X_{2}-\\mu_{2}\\right)\\left(X_{n}-\\mu_{n}\\right)\\right] \\\\\n",
    "\\cdots & \\cdots & \\cdots & \\cdots \\\\\n",
    "E\\left[\\left(X_{n}-\\mu_{n}\\right)\\left(X_{1}-\\mu_{1}\\right)\\right] & E\\left[\\left(X_{n}-\\mu_{n}\\right)\\left(X_{2}-\\mu_{2}\\right)\\right] & \\cdots & E\\left[\\left(X_{n}-\\mu_{n}\\right)\\left(X_{n}-\\mu_{n}\\right)\\right]\n",
    "\\end{array}\\right]\\end{equation}\n",
    "\n",
    "要证$\\Sigma$为半正定矩阵,即证对于任意非零向量$\\mathrm{y} = [y_1, y_2, \\cdots, y_n]^n$,有$\\mathrm{y}^T \\Sigma \\mathrm{y} \\geq 0$\n",
    "\n",
    "先求$\\mathrm{y}^T \\Sigma$:\n",
    "\n",
    "\\begin{equation} \\mathbf{y}^T \\Sigma=  [y_1, y_2, \\cdots, y_n] \\left[\\begin{array}{cccc}\n",
    "E\\left[\\left(X_{1}-\\mu_{1}\\right)\\left(X_{1}-\\mu_{1}\\right)\\right] & E\\left[\\left(X_{1}-\\mu_{1}\\right)\\left(X_{2}-\\mu_{2}\\right)\\right] & \\cdots & E\\left[\\left(X_{1}-\\mu_{1}\\right)\\left(X_{n}-\\mu_{n}\\right)\\right] \\\\\n",
    "E\\left[\\left(X_{2}-\\mu_{2}\\right)\\left(X_{1}-\\mu_{1}\\right)\\right] & E\\left[\\left(X_{2}-\\mu_{2}\\right)\\left(X_{2}-\\mu_{2}\\right)\\right] & \\cdots & E\\left[\\left(X_{2}-\\mu_{2}\\right)\\left(X_{n}-\\mu_{n}\\right)\\right] \\\\\n",
    "\\cdots & \\cdots & \\cdots & \\cdots \\\\\n",
    "E\\left[\\left(X_{n}-\\mu_{n}\\right)\\left(X_{1}-\\mu_{1}\\right)\\right] & E\\left[\\left(X_{n}-\\mu_{n}\\right)\\left(X_{2}-\\mu_{2}\\right)\\right] & \\cdots & E\\left[\\left(X_{n}-\\mu_{n}\\right)\\left(X_{n}-\\mu_{n}\\right)\\right]\n",
    "\\end{array}\\right]\\end{equation}\n",
    "\n",
    "易知$\\mathrm{y}^T \\Sigma$为$1 \\times n$矩阵,其第$k$个元素为:\n",
    "\n",
    "$$\\sum_{i=1}^{n} y_{i} E\\left[\\left(X_{i}-\\mu_{i}\\right)\\left(X_{k}-\\mu_{k}\\right)\\right]=E\\left[\\sum_{i=1}^{n} y_{i}\\left(X_{i}-\\mu_{i}\\right)\\left(X_{k}-\\mu_{k}\\right)\\right]=E\\left[\\left(\\sum_{i=1}^{n} y_{i}\\left(X_{i}-\\mu_{i}\\right)\\right)\\left(X_{k}-\\mu_{k}\\right)\\right]$$\n",
    "\n",
    "即有:\n",
    "\n",
    "$$Y^{T} \\Sigma=\\left[ E\\left[\\left(\\sum_{i=1}^{n} y_{i}\\left(X_{i}-\\mu_{i}\\right)\\right)\\left(X_{1}-\\mu_{1}\\right)\\right] \\quad E\\left[\\left(\\sum_{i=1}^{n} y_{i}\\left(X_{i}-\\mu_{i}\\right)\\right)\\left(X_{2}-\\mu_{2}\\right)\\right] \\quad \\cdots \\quad E\\left[\\left(\\sum_{i=1}^{n} y_{i}\\left(X_{i}-\\mu_{i}\\right)\\right)\\left(X_{n}-\\mu_{i}\\right)\\right]\\right]$$\n",
    "\n",
    "再算$\\mathrm{y}^T \\Sigma \\mathbf{y}$:\n",
    "\n",
    "\\begin{align}\n",
    "\\mathbf{y}^{T} \\Sigma \\mathbf{y} &= \\sum_{k=1}^{n} E\\left[\\left(\\sum_{i=1}^{n} y_{i}\\left(X_{i}-\\mu_{i}\\right)\\right)\\left(X_{k}-\\mu_{k}\\right)\\right] y_{k} \\\\\n",
    "                                 &= E\\left[\\sum_{k=1}^{n}\\left(\\sum_{i=1}^{n} y_{i}\\left(X_{i}-\\mu_{i}\\right)\\right)\\left(X_{k}-\\mu_{k}\\right) y_{k}\\right] \\\\\n",
    "                                 &= E\\left[\\left(\\sum_{i=1}^{n} y_{i}\\left(X_{i}-\\mu_{i}\\right)\\right)\\left(\\sum_{k=1}^{n}\\left(X_{k}-\\mu_{k}\\right) y_{k}\\right)\\right]\n",
    "\\end{align}\n",
    "\n",
    "令随机变量$Z=\\sum_{i=1}^{n} y_{i}\\left(X_{i}-\\mu_{i}\\right)=\\sum_{k=1}^{n}\\left(X_{k}-\\mu_{k}\\right) y_{k}$\n",
    "\n",
    "则$\\mathbf{y}^{T} \\Sigma \\mathbf{y}=E\\left(Z^{2}\\right) \\geq 0$   "
   ]
  },
  {
   "cell_type": "code",
   "execution_count": 2,
   "metadata": {
    "collapsed": true,
    "pycharm": {
     "is_executing": false
    }
   },
   "outputs": [
    {
     "name": "stdout",
     "output_type": "stream",
     "text": [
      "[[ 2.  0. -2.]\n",
      " [ 0.  0.  0.]\n",
      " [-2.  0.  2.]]\n",
      "\n",
      "[[ 1. -1.]\n",
      " [-1.  1.]]\n"
     ]
    }
   ],
   "source": [
    "import  numpy as np\n",
    "\n",
    "x = np.array([[0, 2], [1, 1], [2, 0]]) \n",
    "print(np.cov(x, rowvar=True), end='\\n\\n') # 一行代表一个向量\n",
    "'''\n",
    "rowvar : bool, optional\n",
    "    If rowvar is True (default), then each row represents a variable, \n",
    "    with observations in the columns. Otherwise, the relationship is \n",
    "    transposed: each column represents a variable, while the rows contain observations.\n",
    "'''\n",
    "print(np.cov(x, rowvar=False)) # 一行代表一个向量"
   ]
  },
  {
   "cell_type": "code",
   "execution_count": 3,
   "metadata": {
    "pycharm": {
     "is_executing": false,
     "metadata": false,
     "name": "#%%\n"
    }
   },
   "outputs": [
    {
     "data": {
      "text/plain": [
       "array([[-2.1 , -1.  ,  4.3 ],\n",
       "       [ 3.  ,  1.1 ,  0.12]])"
      ]
     },
     "execution_count": 3,
     "metadata": {},
     "output_type": "execute_result"
    }
   ],
   "source": [
    "a = [-2.1, -1,  4.3]\n",
    "b = [3,  1.1,  0.12]\n",
    "Y = np.stack((a, b), axis=0)\n",
    "Y"
   ]
  },
  {
   "cell_type": "code",
   "execution_count": 9,
   "metadata": {
    "pycharm": {
     "is_executing": false,
     "metadata": false,
     "name": "#%%\n"
    }
   },
   "outputs": [
    {
     "name": "stdout",
     "output_type": "stream",
     "text": [
      "[[11.71       -4.286     ]\n",
      " [-4.286       2.14413333]]\n",
      "\n",
      "[[11.71       -4.286     ]\n",
      " [-4.286       2.14413333]]\n",
      "\n",
      "11.709999999999999\n"
     ]
    }
   ],
   "source": [
    "print(np.cov(Y), end='\\n\\n')\n",
    "print(np.cov(a, b), end='\\n\\n') # 与上等价\n",
    "print(np.cov(a))"
   ]
  },
  {
   "cell_type": "code",
   "execution_count": null,
   "metadata": {
    "pycharm": {
     "name": "#%%\n"
    }
   },
   "outputs": [],
   "source": []
  }
 ],
 "metadata": {
  "kernelspec": {
   "display_name": "Python 3",
   "language": "python",
   "name": "python3"
  },
  "language_info": {
   "codemirror_mode": {
    "name": "ipython",
    "version": 3
   },
   "file_extension": ".py",
   "mimetype": "text/x-python",
   "name": "python",
   "nbconvert_exporter": "python",
   "pygments_lexer": "ipython3",
   "version": "3.7.7"
  },
  "stem_cell": {
   "cell_type": "raw",
   "metadata": {
    "pycharm": {
     "metadata": false
    }
   },
   "source": ""
  },
  "toc": {
   "base_numbering": 1,
   "nav_menu": {},
   "number_sections": true,
   "sideBar": true,
   "skip_h1_title": false,
   "title_cell": "Table of Contents",
   "title_sidebar": "Contents",
   "toc_cell": false,
   "toc_position": {},
   "toc_section_display": true,
   "toc_window_display": false
  }
 },
 "nbformat": 4,
 "nbformat_minor": 1
}