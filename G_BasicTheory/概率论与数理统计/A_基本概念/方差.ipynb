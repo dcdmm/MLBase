{
 "cells": [
  {
   "cell_type": "markdown",
   "metadata": {
    "pycharm": {
     "metadata": false,
     "name": "#%% md\n"
    }
   },
   "source": [
    "<font color='red' size=4>定义:</font>   \n",
    "&emsp;&emsp;$ {s^2} = \\frac{{\\sum\\limits_{i = 1}^n {{{({x_i} - \\bar x)}^2}} }}{{n - 1}} $样本方差$s^2$是对总体方差$ \\sigma^{2} $的\n",
    "无偏估计,之所以$ s^2 $中的分母要用$ n-1 $,而不是像总体方差那样用$ n $,这是因为$ (x_{i}-\\bar{x}) $的自由度为$ n-1 $,这是由于存在\n",
    "约束条件$ \\sum_{i=1}^{n}(x_{i}-\\bar{x})^2 =0$  \n",
    "\n",
    "<font color='red' size=4>证明:</font>\n",
    "$$     \n",
    "\\begin{aligned}\n",
    "E(s^2) &= E(\\frac{1}{n-1} \\sum_{i=1}^n (x_i - \\bar{x})^2 )  \\\\\n",
    "       &= \\frac{1}{n-1}E(\\sum_{i=1}^{n}x_i^2 - n\\bar{x}^2) \\\\\n",
    "       &= \\frac{1}{n-1}(\\sum_{i=1}^nE(x_i^2) - nE(\\bar{x}^2)) \\\\\n",
    "       &= \\frac{1}{n-1}(\\sum_{i=1}^{n} \\big[D(x_i) + E^2(x_i) \\big] - n\\big[  D(\\bar{x}) + E^2(\\bar{x}) \\big]) \\\\\n",
    "       &= \\frac{1}{n-1} (\\sum_{i=1}^n[\\sigma^2 + \\mu^2] - n[\\frac{1}{n}\\sigma^2 + \\mu^2]) \\\\\n",
    "       &= \\sigma^2\n",
    "\\end{aligned}\n",
    "$$      \n",
    "这里利用了$ \\bar{x} \\sim N(u, \\frac{1}{n}\\sigma^2) $\n",
    "\n",
    "\n",
    "<font color='red' size=4>性质:</font>\n",
    "1. $ Var(aX + b) = a^2 Var X$\n",
    "1. $ Var(aX + bY) = a^2 VarX + b^2 VarY + 2abCov(X, Y)$"
   ]
  },
  {
   "cell_type": "code",
   "execution_count": 1,
   "metadata": {
    "collapsed": true,
    "pycharm": {
     "is_executing": false
    }
   },
   "outputs": [],
   "source": [
    "import numpy as np\n",
    "import pandas as pd"
   ]
  },
  {
   "cell_type": "code",
   "execution_count": 2,
   "metadata": {
    "pycharm": {
     "is_executing": false,
     "metadata": false,
     "name": "#%%\n"
    }
   },
   "outputs": [
    {
     "data": {
      "text/plain": [
       "array([[1, 2],\n",
       "       [3, 4]])"
      ]
     },
     "execution_count": 2,
     "metadata": {},
     "output_type": "execute_result"
    }
   ],
   "source": [
    "a = np.array([[1, 2], [3, 4]])\n",
    "a"
   ]
  },
  {
   "cell_type": "code",
   "execution_count": 3,
   "metadata": {
    "pycharm": {
     "is_executing": false,
     "metadata": false,
     "name": "#%%\n"
    }
   },
   "outputs": [
    {
     "data": {
      "text/plain": [
       "1.6666666666666667"
      ]
     },
     "execution_count": 3,
     "metadata": {},
     "output_type": "execute_result"
    }
   ],
   "source": [
    "np.var(a, ddof=1) # numpy默认用n来计算方差,为了得到无偏的样本方差,须设置ddof=1"
   ]
  },
  {
   "cell_type": "code",
   "execution_count": 4,
   "metadata": {
    "pycharm": {
     "is_executing": false,
     "metadata": false,
     "name": "#%%\n"
    }
   },
   "outputs": [
    {
     "data": {
      "text/plain": [
       "array([2., 2.])"
      ]
     },
     "execution_count": 4,
     "metadata": {},
     "output_type": "execute_result"
    }
   ],
   "source": [
    "np.var(a, axis=0, ddof=1) # 计算沿指定轴的方差"
   ]
  },
  {
   "cell_type": "code",
   "execution_count": 5,
   "metadata": {
    "pycharm": {
     "is_executing": false,
     "metadata": false,
     "name": "#%%\n"
    }
   },
   "outputs": [
    {
     "name": "stdout",
     "output_type": "stream",
     "text": [
      "    one  two\n",
      "a  1.40  NaN\n",
      "b  7.10 -4.5\n",
      "c   NaN  NaN\n",
      "d  0.75 -1.3\n",
      "\n",
      "a         NaN\n",
      "b    67.28000\n",
      "c         NaN\n",
      "d     2.10125\n",
      "dtype: float64\n",
      "\n",
      "a         NaN\n",
      "b    67.28000\n",
      "c         NaN\n",
      "d     2.10125\n",
      "dtype: float64\n"
     ]
    }
   ],
   "source": [
    "df = pd.DataFrame([[1.4, np.nan], [7.1, -4.5],\n",
    "                   [np.nan, np.nan], [0.75, -1.3]],\n",
    "                  index=['a', 'b', 'c', 'd'],\n",
    "                  columns=['one', 'two'])\n",
    "print(df, end='\\n\\n')\n",
    "print(df.var(axis=1), end='\\n\\n') # pands方差计算方差(默认ddof=1)\n",
    "print(np.var(df, ddof=1, axis=1))"
   ]
  },
  {
   "cell_type": "code",
   "execution_count": 6,
   "metadata": {
    "pycharm": {
     "is_executing": false,
     "metadata": false,
     "name": "#%%\n"
    }
   },
   "outputs": [
    {
     "data": {
      "text/plain": [
       "1.6666666666666667"
      ]
     },
     "execution_count": 6,
     "metadata": {},
     "output_type": "execute_result"
    }
   ],
   "source": [
    "np.var(a, ddof=1)"
   ]
  },
  {
   "cell_type": "code",
   "execution_count": 7,
   "metadata": {
    "collapsed": false,
    "pycharm": {
     "is_executing": false,
     "name": "#%%"
    }
   },
   "outputs": [
    {
     "name": "stdout",
     "output_type": "stream",
     "text": [
      "2\n"
     ]
    }
   ],
   "source": []
  }
 ],
 "metadata": {
  "kernelspec": {
   "display_name": "Python 3",
   "language": "python",
   "name": "python3"
  },
  "language_info": {
   "codemirror_mode": {
    "name": "ipython",
    "version": 2
   },
   "file_extension": ".py",
   "mimetype": "text/x-python",
   "name": "python",
   "nbconvert_exporter": "python",
   "pygments_lexer": "ipython2",
   "version": "2.7.6"
  },
  "stem_cell": {
   "cell_type": "raw",
   "metadata": {
    "pycharm": {
     "metadata": false
    }
   },
   "source": ""
  }
 },
 "nbformat": 4,
 "nbformat_minor": 0
}
