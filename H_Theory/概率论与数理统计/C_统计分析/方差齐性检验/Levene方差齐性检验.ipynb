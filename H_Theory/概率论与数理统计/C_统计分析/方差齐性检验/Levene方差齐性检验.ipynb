{
 "cells": [
  {
   "cell_type": "code",
   "execution_count": 2,
   "outputs": [
    {
     "name": "stdout",
     "text": [
      "(midian)检查统计量为: 3.641303086027156\n(midian)P值为: 0.045846812634186246\n\n(mean)检查统计量为: 3.8230426654647323\n(mean)P值为: 0.04023849907551462\n\n(trimmed)检查统计量为: 3.8230426654647323\n(trimmed)P值为: 0.04023849907551462\n\n"
     ],
     "output_type": "stream"
    }
   ],
   "source": [
    "import  numpy as np\n",
    "import  scipy.stats as stats\n",
    "\n",
    "\n",
    "inFile = 'altman_910.txt'\n",
    "data = np.genfromtxt(inFile, delimiter=',')\n",
    "    \n",
    "group1 = data[data[:,1]==1,0]\n",
    "group2 = data[data[:,1]==2,0]\n",
    "group3 = data[data[:,1]==3,0]\n",
    "\n",
    "(W, p) = stats.levene(group1, group2, group3)\n",
    "'''\n",
    "Perform Levene test for equal variances.\n",
    "\n",
    "The Levene test tests the null hypothesis that all input samples\n",
    "are from populations with equal variances.  Levene's test is an\n",
    "alternative to Bartlett's test `bartlett` in the case where\n",
    "there are significant deviations from normality.\n",
    "\n",
    "Parameters\n",
    "----------\n",
    "sample1, sample2, ... : array_like\n",
    "    The sample data, possibly with different lengths. Only one-dimensional\n",
    "    samples are accepted.\n",
    "center : {'mean', 'median', 'trimmed'}, optional\n",
    "    Which function of the data to use in the test.  The default\n",
    "    is 'median'.\n",
    "'''\n",
    "print('(midian)检查统计量为:', W)\n",
    "print('(midian)P值为:', p, end='\\n\\n')\n",
    "\n",
    "(W1, p1) = stats.levene(group1, group2, group3, center='mean')\n",
    "print('(mean)检查统计量为:', W1)\n",
    "print('(mean)P值为:', p1, end='\\n\\n')\n",
    "\n",
    "(W2, p2) = stats.levene(group1, group2, group3, center='trimmed')\n",
    "print('(trimmed)检查统计量为:', W2)\n",
    "print('(trimmed)P值为:', p2, end='\\n\\n')"
   ],
   "metadata": {
    "collapsed": false,
    "pycharm": {
     "name": "#%%\n",
     "is_executing": false
    }
   }
  },
  {
   "cell_type": "code",
   "execution_count": null,
   "outputs": [],
   "source": [
    "\n"
   ],
   "metadata": {
    "pycharm": {
     "metadata": false,
     "name": "#%%\n"
    }
   }
  }
 ],
 "metadata": {
  "language_info": {
   "codemirror_mode": {
    "name": "ipython",
    "version": 2
   },
   "file_extension": ".py",
   "mimetype": "text/x-python",
   "name": "python",
   "nbconvert_exporter": "python",
   "pygments_lexer": "ipython2",
   "version": "2.7.6"
  },
  "kernelspec": {
   "name": "python3",
   "language": "python",
   "display_name": "Python 3"
  },
  "stem_cell": {
   "cell_type": "raw",
   "source": "",
   "metadata": {
    "pycharm": {
     "metadata": false
    }
   }
  },
  "pycharm": {
   "stem_cell": {
    "cell_type": "raw",
    "source": [],
    "metadata": {
     "collapsed": false
    }
   }
  }
 },
 "nbformat": 4,
 "nbformat_minor": 0
}