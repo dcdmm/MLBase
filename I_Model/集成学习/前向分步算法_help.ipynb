{
 "cells": [
  {
   "cell_type": "markdown",
   "metadata": {},
   "source": [
    "\n",
    "&emsp;&emsp;考虑加法模型(additive model)      \n",
    "$$ f(\\mathbf{x}) = \\sum_{m=1}^M \\beta_m b(\\mathbf{x}; \\gamma_m) $$   \n",
    "其中,$b(\\mathbf{x};\\gamma_m)$为基函数,$\\gamma_m$为基函数的参数,$\\beta_m$为基函数的系数.显然,上式是一个加法模型.        \n",
    "&emsp;&emsp;在给定训练数据及损失函数$ L(y, f(\\mathbf{x})) $的情况下,学习的加法模型$f(\\mathbf{x})$为经验风险极小化即损失函数极小化问题:          \n",
    "$$ \\min_{\\beta_m ,\\gamma_m} \\sum_{i=1}^N L\\left( y_i, \\sum_{m=1}^M \\beta_m b(\\mathbf{x}_i;\\gamma_m)    \\right) \\tag{1} $$       \n",
    "&emsp;&emsp;通常这是一个复杂的优化问题.前向分步算法(forward stagewise algorithm)求解这一优解问题的想法是:\n",
    "因为学习的是加法模型,如果能够从前向后,每一步只学习一个基函数及其系数,逐步逼近优化目标函数式(1),那么就可以简化优化的复杂度.\n",
    "具体地,每步只需优化如下损失函数:                  \n",
    "$$ \\min_{\\beta, \\gamma} \\sum_{i=1}^N L(y_i, \\beta b(\\mathbf{x}_i; \\gamma))  $$                    \n",
    "&emsp;&emsp;给定训练数据集$T = \\{ (\\mathbf{x}_1, y_2), (\\mathbf{x}_2, y_2), \\cdots, (\\mathbf{x}_N, y_N) \\}, \\mathbf{x}_i \\in \\mathcal{X} \\subseteq \\mathbb{R}^n, y_i \\in \\mathcal{Y}=\\{ -1, +1 \\}$.\n",
    "损失函数$L(y,f(\\mathbf{x}))$和基函数的集合$ \\{ b(\\mathbf{x}; \\gamma) \\} $,学习的加法模型$f(\\mathbf{x})$的前向分布算法如下.          \n",
    "\n",
    "<font color='red' size=4>算法(前向分步算法):</font>       \n",
    "输入:训练数据集$T = \\{ (\\mathbf{x}_1, y_2), (\\mathbf{x}_2, y_2), \\cdots, (\\mathbf{x}_N, y_N) \\}$,损失函数$L(y,f(\\mathbf{x}))$;基函数的集合$ \\{ b(\\mathbf{x}; \\gamma) \\} $;          \n",
    "输出:加法模型$f(\\mathbf{x})$;        \n",
    "\n",
    "1. 初始化$ f_0(\\mathbf{x})  = 0$\n",
    "\n",
    "2. 对$ m=1,2,\\cdots, M  $   \n",
    "\n",
    "   a. 极小化损失函数         \n",
    "   $$  (\\beta_m, \\gamma_m) = \\mathrm{arg} \\min_{\\beta, \\gamma} \\sum_{i=1}^N L(y_i, f_{m-1}(\\mathbf{x}_i) + \\beta b(x_i, \\gamma)) $$         \n",
    "得到更新参数$ \\beta_m, \\gamma_m $\n",
    "\n",
    "   b. 更新       \n",
    "   $$  f_m(\\mathbf{x}) = f_{m-1}(\\mathbf{x}) + \\beta_m b(\\mathbf{x};\\gamma_m) $$            \n",
    "\n",
    "3. 得到加法模型    \n",
    "$$ f(\\mathbf{x}) = f_M(\\mathbf{x}) = \\sum_{m=1}^M \\beta_m b(\\mathbf{x}; \\gamma_m) $$    "
   ]
  }
 ],
 "metadata": {
  "kernelspec": {
   "display_name": "Python 3",
   "language": "python",
   "name": "python3"
  },
  "language_info": {
   "codemirror_mode": {
    "name": "ipython",
    "version": 3
   },
   "file_extension": ".py",
   "mimetype": "text/x-python",
   "name": "python",
   "nbconvert_exporter": "python",
   "pygments_lexer": "ipython3",
   "version": "3.7.7"
  },
  "pycharm": {
   "stem_cell": {
    "cell_type": "raw",
    "metadata": {
     "collapsed": false
    },
    "source": []
   }
  },
  "toc": {
   "base_numbering": 1,
   "nav_menu": {},
   "number_sections": true,
   "sideBar": true,
   "skip_h1_title": false,
   "title_cell": "Table of Contents",
   "title_sidebar": "Contents",
   "toc_cell": false,
   "toc_position": {},
   "toc_section_display": true,
   "toc_window_display": false
  }
 },
 "nbformat": 4,
 "nbformat_minor": 4
}
