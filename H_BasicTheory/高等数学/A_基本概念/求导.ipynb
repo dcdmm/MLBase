{
 "cells": [
  {
   "cell_type": "markdown",
   "metadata": {
    "collapsed": false,
    "pycharm": {
     "is_executing": false,
     "name": "#%% md\n"
    }
   },
   "source": [
    "<font color='red' size=4>导数的定义</font>  \n",
    "&emsp;&emsp;设函数$ y=f(x) $在点$ x_0 $的某领域内有定义,若极限   \n",
    "$$ \\lim \\limits _{x \\rightarrow x_0}  \\frac{f(x) - f(x_0)}{ x - x_0 }$$  \n",
    "存在,则称函数$ f$在点$ x_0$ 处可导,并称该极限为函数$ f $在点$ x_0 $处的导数,记作$ f'(x_0)$  \n",
    "&emsp;&emsp;令$ x = x_0 + \\Delta x, \\Delta y = f(x_0 + \\Delta x) - f(x_0) $,则   \n",
    "$$ \\lim \\limits _{\\Delta x \\rightarrow 0 } \\frac{\\Delta y}{\\Delta x} =\\lim \\limits _{\\Delta x \\rightarrow 0 } \\frac{f(x_0 + \\Delta x) - f(x_0)}{\\Delta x} = f'(x_0)$$   \n",
    "&emsp;&emsp;设$ f(x) $在点$x_0 $可导,那么  \n",
    "$$ \\epsilon = \\frac{\\Delta y}{\\Delta x} -f'(x_0)$$    \n",
    "是当$ \\Delta \\rightarrow 0 $时的无穷小量,于是$ \\epsilon \\cdot \\Delta x  = o(\\Delta x)$,即  \n",
    "$$ \\Delta y = f'(x_0) \\Delta x + o(\\Delta x) $$"
   ]
  },
  {
   "cell_type": "code",
   "execution_count": null,
   "metadata": {
    "collapsed": false,
    "pycharm": {
     "name": "#%%\n"
    }
   },
   "outputs": [],
   "source": [
    "from sympy import *\n",
    " \n",
    "# 建议采用此方式(可自定义符号)\n",
    "x, y, c = symbols('x, y, c') # 等价于:from sympy.abc import x, y, c\n",
    " \n",
    "z = x**2 + y**2 + c**3 + x*y*c**2 + 2*c + 3\n",
    "z"
   ]
  },
  {
   "cell_type": "code",
   "execution_count": 3,
   "metadata": {
    "pycharm": {
     "is_executing": false,
     "metadata": false,
     "name": "#%%\n"
    }
   },
   "outputs": [
    {
     "name": "stdout",
     "output_type": "stream",
     "text": [
      "21\n"
     ]
    }
   ],
   "source": [
    "result = z.subs({x: 1, y: 1, c:2}) # 将x=1,y=1,c=2代入表达式\n",
    "print(result)"
   ]
  },
  {
   "cell_type": "code",
   "execution_count": 4,
   "metadata": {
    "pycharm": {
     "is_executing": false,
     "metadata": false,
     "name": "#%%\n"
    }
   },
   "outputs": [
    {
     "data": {
      "text/latex": [
       "$\\displaystyle c^{2} y + 2 x$"
      ],
      "text/plain": [
       "c**2*y + 2*x"
      ]
     },
     "execution_count": 4,
     "metadata": {},
     "output_type": "execute_result"
    }
   ],
   "source": [
    "dx = diff(z, x) # 对x求偏导\n",
    "dx"
   ]
  },
  {
   "cell_type": "code",
   "execution_count": 5,
   "metadata": {
    "pycharm": {
     "is_executing": false,
     "metadata": false,
     "name": "#%%\n"
    }
   },
   "outputs": [
    {
     "data": {
      "text/latex": [
       "$\\displaystyle 2 c^{2} + 2$"
      ],
      "text/plain": [
       "2*c**2 + 2"
      ]
     },
     "execution_count": 5,
     "metadata": {},
     "output_type": "execute_result"
    }
   ],
   "source": [
    "result_x = dx.subs({x: 1, y: 2})\n",
    "result_x"
   ]
  },
  {
   "cell_type": "code",
   "execution_count": 6,
   "metadata": {
    "pycharm": {
     "is_executing": false,
     "metadata": false,
     "name": "#%%\n"
    }
   },
   "outputs": [
    {
     "data": {
      "text/latex": [
       "$\\displaystyle c^{2} x + 2 y$"
      ],
      "text/plain": [
       "c**2*x + 2*y"
      ]
     },
     "execution_count": 6,
     "metadata": {},
     "output_type": "execute_result"
    }
   ],
   "source": [
    "dy = diff(z, y) # 对y求偏导\n",
    "dy"
   ]
  },
  {
   "cell_type": "code",
   "execution_count": 7,
   "metadata": {
    "pycharm": {
     "is_executing": false,
     "metadata": false,
     "name": "#%%\n"
    }
   },
   "outputs": [
    {
     "name": "stdout",
     "output_type": "stream",
     "text": [
      "<class 'sympy.core.numbers.Integer'>\n",
      "8\n"
     ]
    }
   ],
   "source": [
    "result_y = dy.subs({x: 1, y: 2, c:2})\n",
    "print(type(result_y))\n",
    "print(int(result_y)) # 转化为int类型数据"
   ]
  },
  {
   "cell_type": "code",
   "execution_count": null,
   "metadata": {
    "collapsed": false,
    "pycharm": {
     "name": "#%%\n"
    }
   },
   "outputs": [],
   "source": [
    "\n"
   ]
  }
 ],
 "metadata": {
  "kernelspec": {
   "display_name": "Python 3.8.12 ('pytorch_env')",
   "language": "python",
   "name": "python3"
  },
  "language_info": {
   "codemirror_mode": {
    "name": "ipython",
    "version": 2
   },
   "file_extension": ".py",
   "mimetype": "text/x-python",
   "name": "python",
   "nbconvert_exporter": "python",
   "pygments_lexer": "ipython2",
   "version": "3.8.12"
  },
  "pycharm": {
   "stem_cell": {
    "cell_type": "raw",
    "metadata": {
     "collapsed": false
    },
    "source": []
   }
  },
  "stem_cell": {
   "cell_type": "raw",
   "metadata": {
    "pycharm": {
     "metadata": false
    }
   },
   "source": ""
  },
  "vscode": {
   "interpreter": {
    "hash": "0886a02735466d80c36da7d0d184a8055779d3e497a063b4720b0317b8699033"
   }
  }
 },
 "nbformat": 4,
 "nbformat_minor": 0
}
