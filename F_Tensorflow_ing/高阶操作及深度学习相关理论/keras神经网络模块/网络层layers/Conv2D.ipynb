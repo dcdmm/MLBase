{
 "cells": [
  {
   "cell_type": "code",
   "execution_count": 1,
   "metadata": {
    "collapsed": true
   },
   "outputs": [],
   "source": [
    "import tensorflow as tf\n",
    "import os\n",
    "\n",
    "os.environ[\"CUDA_VISIBLE_DEVICES\"] = \"-1\"  # 使用cpu训练"
   ]
  },
  {
   "cell_type": "markdown",
   "source": [
    "### 参考torch.nn.Conv2d"
   ],
   "metadata": {
    "collapsed": false,
    "pycharm": {
     "name": "#%% md\n"
    }
   }
  },
  {
   "cell_type": "code",
   "execution_count": 2,
   "outputs": [
    {
     "data": {
      "text/plain": "TensorShape([100, 50, 50, 16])"
     },
     "execution_count": 2,
     "metadata": {},
     "output_type": "execute_result"
    }
   ],
   "source": [
    "input_tensor = tf.random.stateless_normal(shape=(100, 50, 50, 16), seed=(1, 1))\n",
    "input_tensor.shape"
   ],
   "metadata": {
    "collapsed": false,
    "pycharm": {
     "name": "#%%\n"
    }
   }
  },
  {
   "cell_type": "code",
   "execution_count": 3,
   "outputs": [
    {
     "data": {
      "text/plain": "TensorShape([100, 24, 24, 33])"
     },
     "execution_count": 3,
     "metadata": {},
     "output_type": "execute_result"
    }
   ],
   "source": [
    "'''\n",
    "Conv2D默认参数:\n",
    "tf.keras.layers.Conv2D(\n",
    "    filters, kernel_size, strides=(1, 1), padding='valid', data_format=None,\n",
    "    dilation_rate=(1, 1), activation=None, use_bias=True,\n",
    "    kernel_initializer='glorot_uniform', bias_initializer='zeros',\n",
    "    kernel_regularizer=None, bias_regularizer=None, activity_regularizer=None,\n",
    "    kernel_constraint=None, bias_constraint=None, **kwargs\n",
    ")\n",
    "'''\n",
    "# C_in和C_out在最后一个维度(注意和pytorch的区别)\n",
    "# Input: (N, H_in, W_in, C_in)\n",
    "# Out: (N, H_out, W_out, C_out)\n",
    "layer = tf.keras.layers.Conv2D(filters=33,  # 即C_out,参考torch.nn.Conv2d out_channels参数\n",
    "                               kernel_size=3,  # 参考torch.nn.Conv2d kernel_size参数\n",
    "                               strides=2,  # 参考torch.nn.Conv2d stride参数\n",
    "                               activation=None)  # Activation function to use.\n",
    "layer(input_tensor).shape"
   ],
   "metadata": {
    "collapsed": false,
    "pycharm": {
     "name": "#%%\n"
    }
   }
  },
  {
   "cell_type": "code",
   "execution_count": 4,
   "outputs": [
    {
     "data": {
      "text/plain": "[<tf.Variable 'conv2d/kernel:0' shape=(3, 3, 16, 33) dtype=float32, numpy=\n array([[[[-0.0736291 ,  0.04345372,  0.02195741, ..., -0.05501389,\n            0.06862785,  0.03916122],\n          [ 0.0541836 , -0.06015601,  0.03230123, ..., -0.08621599,\n           -0.0410438 ,  0.10904548],\n          [ 0.02060126,  0.11314452, -0.02807624, ...,  0.03146471,\n            0.10737103,  0.03557988],\n          ...,\n          [-0.07068872,  0.04961506,  0.07489885, ..., -0.00893943,\n            0.10694852, -0.10251626],\n          [ 0.05683087,  0.09510848, -0.0782202 , ...,  0.00711528,\n            0.04360235,  0.04816283],\n          [-0.03750673,  0.07272948,  0.0460294 , ..., -0.11296651,\n           -0.11320092,  0.09847449]],\n \n         [[-0.07151775, -0.10037878, -0.07840855, ..., -0.11485707,\n           -0.04067167,  0.01071611],\n          [-0.09266692, -0.06939768,  0.10479885, ..., -0.11113374,\n            0.03002273, -0.10166476],\n          [-0.03915543,  0.08299032,  0.04244815, ..., -0.0629832 ,\n           -0.03503039,  0.09682587],\n          ...,\n          [ 0.10362729, -0.07819934, -0.07880276, ..., -0.06429794,\n            0.01972404, -0.0017848 ],\n          [-0.00040844, -0.07459468,  0.09411472, ...,  0.04153177,\n           -0.06744386,  0.01834843],\n          [ 0.10461381, -0.04220994, -0.05405273, ..., -0.02293069,\n           -0.02433015,  0.03956816]],\n \n         [[ 0.01861504,  0.00395001,  0.0404446 , ..., -0.02425073,\n            0.02637197, -0.05547787],\n          [-0.08429456,  0.08131537,  0.09956335, ...,  0.01011342,\n           -0.00046395, -0.02033337],\n          [ 0.06981605, -0.03463098,  0.11422251, ..., -0.06154186,\n            0.04891722, -0.10282795],\n          ...,\n          [ 0.05440839, -0.09408619, -0.02324038, ..., -0.02747663,\n            0.07753836,  0.1114171 ],\n          [ 0.08225942, -0.08542567, -0.02502632, ..., -0.10419533,\n           -0.11400287,  0.11081627],\n          [ 0.02241915,  0.09435362,  0.04406299, ..., -0.01334401,\n            0.05044392, -0.04623809]]],\n \n \n        [[[-0.04474743, -0.09731615, -0.08721942, ...,  0.04792953,\n            0.02432321, -0.00724851],\n          [ 0.08254156,  0.0980877 ,  0.01922619, ...,  0.06583717,\n            0.07568388,  0.05397914],\n          [-0.06400196,  0.0492558 ,  0.00685409, ...,  0.09640586,\n            0.00277215, -0.0406759 ],\n          ...,\n          [-0.04104285,  0.04820107, -0.02069465, ..., -0.0913626 ,\n           -0.0635542 , -0.09841339],\n          [-0.01148975,  0.07913195, -0.09104884, ..., -0.10761175,\n           -0.00777894, -0.06594048],\n          [-0.04817576, -0.05499139, -0.00192354, ..., -0.11372305,\n            0.03230937, -0.00219502]],\n \n         [[-0.09498177,  0.01975843,  0.09998809, ...,  0.0057684 ,\n           -0.07345276, -0.10033982],\n          [ 0.10859321, -0.0276045 ,  0.06939387, ..., -0.10400253,\n           -0.00143554,  0.06247623],\n          [ 0.04343401,  0.04080816,  0.01714297, ...,  0.00226647,\n            0.02350219,  0.05905442],\n          ...,\n          [ 0.01248018, -0.0035181 ,  0.03756198, ..., -0.02823993,\n            0.05628918,  0.05666398],\n          [-0.1016234 , -0.0774771 , -0.0737239 , ..., -0.0214221 ,\n            0.04526773,  0.0358319 ],\n          [-0.08034864, -0.10415025, -0.09698113, ..., -0.05185983,\n            0.10554235, -0.06463699]],\n \n         [[-0.02201945,  0.02755347,  0.01964542, ..., -0.10856326,\n            0.03204307, -0.00878434],\n          [ 0.08918694,  0.00440395,  0.08652288, ..., -0.08005583,\n           -0.10666969, -0.03623363],\n          [-0.09004366, -0.0422197 ,  0.10839334, ..., -0.08903451,\n           -0.02754565,  0.01721662],\n          ...,\n          [ 0.05807026,  0.03379636, -0.07969809, ...,  0.06100847,\n            0.03666708,  0.04146188],\n          [ 0.0705782 ,  0.11062957,  0.05201854, ...,  0.05671225,\n           -0.10049082, -0.10721838],\n          [-0.01847924,  0.03434563,  0.06819376, ..., -0.04737064,\n           -0.00587961,  0.05479783]]],\n \n \n        [[[ 0.02439307, -0.09498689,  0.11350551, ...,  0.08483185,\n           -0.01784693,  0.01164965],\n          [ 0.04101463,  0.09730574,  0.06727447, ..., -0.04272036,\n            0.04482561, -0.06033909],\n          [-0.04146753, -0.02979538,  0.07128145, ..., -0.06894316,\n           -0.0340578 ,  0.03044237],\n          ...,\n          [ 0.01022418, -0.07270654,  0.03112952, ..., -0.0174925 ,\n           -0.04084317,  0.03542662],\n          [ 0.01870784,  0.05006449,  0.02314033, ..., -0.07960424,\n            0.1080493 ,  0.07165848],\n          [ 0.02182244, -0.01475096,  0.01826183, ...,  0.04205787,\n           -0.06060814, -0.0149413 ]],\n \n         [[ 0.01144163, -0.11649793,  0.09465648, ..., -0.04470547,\n           -0.09418787, -0.0164367 ],\n          [-0.01765894, -0.05637506, -0.01847184, ...,  0.02740088,\n           -0.10625459, -0.07840422],\n          [ 0.01785116,  0.08029811,  0.07948568, ...,  0.06386466,\n           -0.04933854,  0.05130221],\n          ...,\n          [-0.00332815,  0.02223077, -0.03885125, ...,  0.09875603,\n           -0.01254899, -0.01015691],\n          [ 0.03917186,  0.09999387,  0.01392049, ...,  0.00173405,\n            0.08103554,  0.01291016],\n          [-0.06036745,  0.06180067, -0.08938572, ..., -0.11436751,\n            0.08567952, -0.11265371]],\n \n         [[-0.00405157,  0.0518101 ,  0.07294387, ..., -0.0072949 ,\n           -0.08847152, -0.0261911 ],\n          [ 0.0247398 ,  0.09149742, -0.0450423 , ..., -0.09562496,\n            0.03379875,  0.06752124],\n          [-0.00686505, -0.09368192, -0.07021849, ..., -0.030077  ,\n            0.10660857,  0.07015721],\n          ...,\n          [ 0.06438424, -0.10819053,  0.07262984, ..., -0.02776215,\n            0.04935358, -0.01367064],\n          [ 0.10060889, -0.04835927,  0.09842689, ...,  0.05392498,\n            0.03884155, -0.00055742],\n          [-0.06594817, -0.03787268, -0.06498973, ...,  0.0195099 ,\n           -0.01294328,  0.04752952]]]], dtype=float32)>,\n <tf.Variable 'conv2d/bias:0' shape=(33,) dtype=float32, numpy=\n array([0., 0., 0., 0., 0., 0., 0., 0., 0., 0., 0., 0., 0., 0., 0., 0., 0.,\n        0., 0., 0., 0., 0., 0., 0., 0., 0., 0., 0., 0., 0., 0., 0., 0.],\n       dtype=float32)>]"
     },
     "execution_count": 4,
     "metadata": {},
     "output_type": "execute_result"
    }
   ],
   "source": [
    "layer.weights  # 内部默认进行了glorot_uniform初始化"
   ],
   "metadata": {
    "collapsed": false,
    "pycharm": {
     "name": "#%%\n"
    }
   }
  },
  {
   "cell_type": "markdown",
   "source": [
    "padding = \"same\"时,输入和输出大小关系如下:输出大小等于输入大小除以步长向上取整\n",
    "\n",
    "$$ H_{out} =  \\bigg\\lceil \\frac{H_{in}}{strides[0]} \\bigg\\rceil $$\n",
    "\n",
    "$$ D_{out} =  \\bigg\\lceil \\frac{D_{in}}{strides[1]} \\bigg\\rceil $$"
   ],
   "metadata": {
    "collapsed": false,
    "pycharm": {
     "name": "#%% md\n"
    }
   }
  },
  {
   "cell_type": "code",
   "execution_count": 5,
   "outputs": [
    {
     "data": {
      "text/plain": "TensorShape([100, 17, 25, 33])"
     },
     "execution_count": 5,
     "metadata": {},
     "output_type": "execute_result"
    }
   ],
   "source": [
    "layer1 = tf.keras.layers.Conv2D(filters=33,\n",
    "                                kernel_size=(1, 5),\n",
    "                                strides=(3, 2),\n",
    "                                # one of \"valid\" or \"same\" (case-insensitive).\n",
    "                                # \"valid\" means no padding.\n",
    "                                # \"same\" results in padding with zeros evenly to the left/right or up/down of the input.\n",
    "                                # When padding=\"same\" and strides=1, the output has the same size as the input.\n",
    "                                padding=\"same\")  # 参考torch.nn.Conv2d padding参数\n",
    "layer1(input_tensor).shape"
   ],
   "metadata": {
    "collapsed": false,
    "pycharm": {
     "name": "#%%\n"
    }
   }
  },
  {
   "cell_type": "code",
   "execution_count": 6,
   "outputs": [
    {
     "data": {
      "text/plain": "TensorShape([100, 50, 49, 33])"
     },
     "execution_count": 6,
     "metadata": {},
     "output_type": "execute_result"
    }
   ],
   "source": [
    "layer2 = tf.keras.layers.Conv2D(filters=33, kernel_size=(1, 2), strides=(1, 1),\n",
    "                                # dilation_rate value != 1 is incompatible with specifying any stride value != 1.\n",
    "                                dilation_rate=(3, 1))  # 参考torch.nn.Conv2d dilation参数\n",
    "layer2(input_tensor).shape"
   ],
   "metadata": {
    "collapsed": false,
    "pycharm": {
     "name": "#%%\n"
    }
   }
  },
  {
   "cell_type": "code",
   "execution_count": 6,
   "outputs": [],
   "source": [],
   "metadata": {
    "collapsed": false,
    "pycharm": {
     "name": "#%%\n"
    }
   }
  }
 ],
 "metadata": {
  "kernelspec": {
   "display_name": "Python 3",
   "language": "python",
   "name": "python3"
  },
  "language_info": {
   "codemirror_mode": {
    "name": "ipython",
    "version": 2
   },
   "file_extension": ".py",
   "mimetype": "text/x-python",
   "name": "python",
   "nbconvert_exporter": "python",
   "pygments_lexer": "ipython2",
   "version": "2.7.6"
  }
 },
 "nbformat": 4,
 "nbformat_minor": 0
}