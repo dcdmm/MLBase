{
 "cells": [
  {
   "cell_type": "markdown",
   "source": [
    "&emsp;&emsp;两个向量$\\mathbf{a} \\subseteq \\mathbb{R}^M$和$\\mathbf{b} \\subseteq \\mathbb{R}^N$的外积(Outer Product)是一个$M \\times N$的矩阵,定义为\n",
    "\n",
    "\\begin{equation}\\mathbf{a} \\otimes \\mathbf{b}=\\left[\\begin{array}{cccc}\n",
    "a_{1} b_{1} & a_{1} b_{2} & \\dots & a_{1} b_{N} \\\\\n",
    "a_{2} b_{1} & a_{2} b_{2} & \\dots & a_{2} b_{N} \\\\\n",
    "\\vdots & \\vdots & \\ddots & \\vdots \\\\\n",
    "a_{M} b_{1} & a_{M} b_{2} & \\dots & a_{M} b_{N}\n",
    "\\end{array}\\right]=\\mathbf{a b}^{\\top}\\end{equation}\n",
    "\n",
    "其中$[\\mathbf{a} \\otimes \\mathbf{b}]_{mn} = a_m b_n$"
   ],
   "metadata": {
    "collapsed": false,
    "pycharm": {
     "name": "#%% md\n"
    }
   }
  },
  {
   "cell_type": "code",
   "execution_count": 5,
   "outputs": [],
   "source": [
    "import numpy as np\n",
    "\n",
    "arr1 = np.ones((5,))\n",
    "arr2 = np.linspace(-2, 2, 5)"
   ],
   "metadata": {
    "collapsed": false,
    "pycharm": {
     "name": "#%%\n"
    }
   }
  },
  {
   "cell_type": "code",
   "execution_count": 6,
   "outputs": [
    {
     "data": {
      "text/plain": "array([[-2., -1.,  0.,  1.,  2.],\n       [-2., -1.,  0.,  1.,  2.],\n       [-2., -1.,  0.,  1.,  2.],\n       [-2., -1.,  0.,  1.,  2.],\n       [-2., -1.,  0.,  1.,  2.]])"
     },
     "execution_count": 6,
     "metadata": {},
     "output_type": "execute_result"
    }
   ],
   "source": [
    "rl = np.outer(arr1, arr2)\n",
    "rl"
   ],
   "metadata": {
    "collapsed": false,
    "pycharm": {
     "name": "#%%\n"
    }
   }
  },
  {
   "cell_type": "code",
   "execution_count": null,
   "outputs": [],
   "source": [
    "\n"
   ],
   "metadata": {
    "collapsed": false,
    "pycharm": {
     "name": "#%%\n"
    }
   }
  }
 ],
 "metadata": {
  "kernelspec": {
   "display_name": "Python 3",
   "language": "python",
   "name": "python3"
  },
  "language_info": {
   "codemirror_mode": {
    "name": "ipython",
    "version": 2
   },
   "file_extension": ".py",
   "mimetype": "text/x-python",
   "name": "python",
   "nbconvert_exporter": "python",
   "pygments_lexer": "ipython2",
   "version": "2.7.6"
  }
 },
 "nbformat": 4,
 "nbformat_minor": 0
}