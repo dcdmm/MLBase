{
 "cells": [
  {
   "cell_type": "code",
   "execution_count": null,
   "outputs": [],
   "source": [
    "import  numpy as np \n",
    "import pandas as pd\n",
    "\n",
    "print(np.sum([0.5, 1.5])) # 求和\n",
    "print(np.cumsum([0.5, 1.5])) # 累和 "
   ],
   "metadata": {
    "collapsed": false,
    "pycharm": {
     "name": "#%%\n"
    }
   }
  },
  {
   "cell_type": "code",
   "execution_count": 2,
   "outputs": [
    {
     "name": "stdout",
     "text": [
      "2.9\n[0.5 1.2 1.4 2.9]\n"
     ],
     "output_type": "stream"
    }
   ],
   "source": [
    "print(np.sum([0.5, 0.7, 0.2, 1.5], dtype=np.float))\n",
    "print(np.cumsum([0.5, 0.7, 0.2, 1.5], dtype=np.float))"
   ],
   "metadata": {
    "pycharm": {
     "metadata": false,
     "name": "#%%\n",
     "is_executing": false
    }
   }
  },
  {
   "cell_type": "code",
   "execution_count": 3,
   "outputs": [
    {
     "name": "stdout",
     "text": [
      "21\n[ 1  3  6 10 15 21]\n"
     ],
     "output_type": "stream"
    }
   ],
   "source": [
    "a = np.array([[1, 2, 3], [4, 5, 6]])\n",
    "print(np.sum(a))\n",
    "print(np.cumsum(a))"
   ],
   "metadata": {
    "pycharm": {
     "metadata": false,
     "name": "#%%\n",
     "is_executing": false
    }
   }
  },
  {
   "cell_type": "code",
   "execution_count": 4,
   "outputs": [
    {
     "name": "stdout",
     "text": [
      "[5 7 9]\n[[1 2 3]\n [5 7 9]]\n"
     ],
     "output_type": "stream"
    }
   ],
   "source": [
    "print(np.sum(a, axis=0)) # 列和\n",
    "print(np.cumsum(a, axis=0))"
   ],
   "metadata": {
    "pycharm": {
     "metadata": false,
     "name": "#%%\n",
     "is_executing": false
    }
   }
  },
  {
   "cell_type": "code",
   "execution_count": 5,
   "outputs": [
    {
     "name": "stdout",
     "text": [
      "[ 6 15]\n[[ 1  3  6]\n [ 4  9 15]]\n"
     ],
     "output_type": "stream"
    }
   ],
   "source": [
    "print(np.sum(a, axis=1)) # 行和\n",
    "print(np.cumsum(a, axis=1))"
   ],
   "metadata": {
    "pycharm": {
     "metadata": false,
     "name": "#%%\n",
     "is_executing": false
    }
   }
  },
  {
   "cell_type": "code",
   "execution_count": 7,
   "outputs": [
    {
     "name": "stdout",
     "text": [
      "blooded  animal\nwarm     dog       4\n         falcon    2\ncold     fish      0\n         spider    8\nName: legs, dtype: int64\n"
     ],
     "output_type": "stream"
    }
   ],
   "source": "idx = pd.MultiIndex.from_arrays([\n     ['warm', 'warm', 'cold', 'cold'],\n     ['dog', 'falcon', 'fish', 'spider']],\n     names=['blooded', 'animal'])\ns = pd.Series([4, 2, 0, 8], name='legs', index=idx)\nprint(s)",
   "metadata": {
    "pycharm": {
     "metadata": false,
     "name": "#%%\n",
     "is_executing": false
    }
   }
  },
  {
   "cell_type": "code",
   "execution_count": 9,
   "outputs": [
    {
     "name": "stdout",
     "text": [
      "14\n"
     ],
     "output_type": "stream"
    }
   ],
   "source": "print(s.sum())",
   "metadata": {
    "pycharm": {
     "metadata": false,
     "name": "#%%\n",
     "is_executing": false
    }
   }
  },
  {
   "cell_type": "code",
   "execution_count": 10,
   "outputs": [
    {
     "name": "stdout",
     "text": [
      "blooded\nwarm    6\ncold    8\nName: legs, dtype: int64\n"
     ],
     "output_type": "stream"
    }
   ],
   "source": "print(s.sum(level='blooded'))",
   "metadata": {
    "pycharm": {
     "metadata": false,
     "name": "#%%\n",
     "is_executing": false
    }
   }
  },
  {
   "cell_type": "code",
   "execution_count": 17,
   "outputs": [
    {
     "name": "stdout",
     "text": [
      "    one  two\na  1.40  NaN\nb  7.10 -4.5\nc   NaN  NaN\nd  0.75 -1.3\n"
     ],
     "output_type": "stream"
    }
   ],
   "source": "df = pd.DataFrame([[1.4, np.nan], [7.1, -4.5],\n                   [np.nan, np.nan], [0.75, -1.3]],\n                  index=['a', 'b', 'c', 'd'],\n                  columns=['one', 'two'])\nprint(df)",
   "metadata": {
    "pycharm": {
     "metadata": false,
     "name": "#%%\n",
     "is_executing": false
    }
   }
  },
  {
   "cell_type": "code",
   "execution_count": 19,
   "outputs": [
    {
     "name": "stdout",
     "text": [
      "    one   two\na  1.40   NaN\nb  7.10  2.60\nc   NaN   NaN\nd  0.75 -0.55\n    one  two\na  1.40  NaN\nb  8.50 -4.5\nc   NaN  NaN\nd  9.25 -5.8\n"
     ],
     "output_type": "stream"
    }
   ],
   "source": "print(df.cumsum(axis=1)) # 默认axis=0\nprint(np.cumsum(df))",
   "metadata": {
    "pycharm": {
     "metadata": false,
     "name": "#%%\n",
     "is_executing": false
    }
   }
  },
  {
   "cell_type": "code",
   "execution_count": null,
   "outputs": [],
   "source": "\n",
   "metadata": {
    "pycharm": {
     "metadata": false,
     "name": "#%%\n"
    }
   }
  }
 ],
 "metadata": {
  "language_info": {
   "codemirror_mode": {
    "name": "ipython",
    "version": 2
   },
   "file_extension": ".py",
   "mimetype": "text/x-python",
   "name": "python",
   "nbconvert_exporter": "python",
   "pygments_lexer": "ipython2",
   "version": "2.7.6"
  },
  "kernelspec": {
   "name": "python3",
   "language": "python",
   "display_name": "Python 3"
  },
  "stem_cell": {
   "cell_type": "raw",
   "source": "",
   "metadata": {
    "pycharm": {
     "metadata": false
    }
   }
  },
  "pycharm": {
   "stem_cell": {
    "cell_type": "raw",
    "source": [],
    "metadata": {
     "collapsed": false
    }
   }
  }
 },
 "nbformat": 4,
 "nbformat_minor": 0
}