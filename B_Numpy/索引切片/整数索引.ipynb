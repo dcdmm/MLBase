{
 "cells": [
  {
   "cell_type": "code",
   "execution_count": 1,
   "outputs": [
    {
     "data": {
      "text/plain": "array([[ 0.,  0.,  0.,  0.],\n       [ 0.,  1.,  2.,  3.],\n       [ 0.,  2.,  4.,  6.],\n       [ 0.,  3.,  6.,  9.],\n       [ 0.,  4.,  8., 12.],\n       [ 0.,  5., 10., 15.],\n       [ 0.,  6., 12., 18.],\n       [ 0.,  7., 14., 21.]])"
     },
     "execution_count": 1,
     "metadata": {},
     "output_type": "execute_result"
    }
   ],
   "source": [
    "import numpy as np\n",
    "arr = np.empty((8, 4))\n",
    "for i in range(8):\n",
    "    for j in range(4):\n",
    "        arr[i, j] = i * j\n",
    "arr"
   ],
   "metadata": {
    "pycharm": {
     "metadata": false,
     "name": "#%%\n"
    }
   }
  },
  {
   "cell_type": "code",
   "execution_count": 2,
   "outputs": [
    {
     "data": {
      "text/plain": "array([[ 0.,  4.,  8., 12.],\n       [ 0.,  3.,  6.,  9.],\n       [ 0.,  0.,  0.,  0.],\n       [ 0.,  6., 12., 18.]])"
     },
     "execution_count": 2,
     "metadata": {},
     "output_type": "execute_result"
    }
   ],
   "source": [
    "arr[[4, 3, 0, 6]] # ★★★★★索引index必须为列表"
   ],
   "metadata": {
    "pycharm": {
     "metadata": false,
     "name": "#%%\n"
    }
   }
  },
  {
   "cell_type": "code",
   "execution_count": 3,
   "outputs": [
    {
     "data": {
      "text/plain": "array([[ 0.,  5., 10., 15.],\n       [ 0.,  3.,  6.,  9.],\n       [ 0.,  1.,  2.,  3.]])"
     },
     "execution_count": 3,
     "metadata": {},
     "output_type": "execute_result"
    }
   ],
   "source": [
    "arr[[-3, -5, -7]] # 且支持负数索引"
   ],
   "metadata": {
    "pycharm": {
     "metadata": false,
     "name": "#%%\n"
    }
   }
  },
  {
   "cell_type": "code",
   "execution_count": 4,
   "outputs": [
    {
     "data": {
      "text/plain": "array([[ 0.,  0.,  0.],\n       [ 3.,  2.,  0.],\n       [ 6.,  4.,  0.],\n       [ 9.,  6.,  0.],\n       [12.,  8.,  0.],\n       [15., 10.,  0.],\n       [18., 12.,  0.],\n       [21., 14.,  0.]])"
     },
     "execution_count": 4,
     "metadata": {},
     "output_type": "execute_result"
    }
   ],
   "source": [
    "arr[:, [-1, -2, 0]] # 对第一个维度进行索引"
   ],
   "metadata": {
    "pycharm": {
     "metadata": false,
     "name": "#%%\n"
    }
   }
  },
  {
   "cell_type": "code",
   "execution_count": 5,
   "outputs": [
    {
     "data": {
      "text/plain": "array([[ 0.,  4.,  8., 12.],\n       [ 0.,  3.,  6.,  9.],\n       [ 0.,  0.,  0.,  0.],\n       [ 0.,  6., 12., 18.]])"
     },
     "execution_count": 5,
     "metadata": {},
     "output_type": "execute_result"
    }
   ],
   "source": [
    "s = arr[[4, 3, 0, 6]]\n",
    "s"
   ],
   "metadata": {
    "pycharm": {
     "metadata": false,
     "name": "#%%\n"
    }
   }
  },
  {
   "cell_type": "code",
   "execution_count": 6,
   "outputs": [
    {
     "data": {
      "text/plain": "array([[100., 100., 100., 100.],\n       [100., 100., 100., 100.],\n       [100., 100., 100., 100.],\n       [100., 100., 100., 100.]])"
     },
     "execution_count": 6,
     "metadata": {},
     "output_type": "execute_result"
    }
   ],
   "source": [
    "s[:] = 100\n",
    "s"
   ],
   "metadata": {
    "pycharm": {
     "metadata": false,
     "name": "#%%\n"
    }
   }
  },
  {
   "cell_type": "code",
   "execution_count": 7,
   "outputs": [
    {
     "data": {
      "text/plain": "array([[ 0.,  0.,  0.,  0.],\n       [ 0.,  1.,  2.,  3.],\n       [ 0.,  2.,  4.,  6.],\n       [ 0.,  3.,  6.,  9.],\n       [ 0.,  4.,  8., 12.],\n       [ 0.,  5., 10., 15.],\n       [ 0.,  6., 12., 18.],\n       [ 0.,  7., 14., 21.]])"
     },
     "execution_count": 7,
     "metadata": {},
     "output_type": "execute_result"
    }
   ],
   "source": [
    "arr # ★★★★★整数索引下此方式不能修改原数组"
   ],
   "metadata": {
    "collapsed": false,
    "pycharm": {
     "name": "#%%\n"
    }
   }
  },
  {
   "cell_type": "code",
   "execution_count": 8,
   "outputs": [
    {
     "data": {
      "text/plain": "'\\n整数索引和基本索引切片的区别:\\n1. 基本索引切片只能对连续行(or/and)列进行索引,整数索引可以对任意位置的行(or/and)列进行索引\\n2. 整数索引总是将数据复制到一个新的数组中 \\n'"
     },
     "execution_count": 8,
     "metadata": {},
     "output_type": "execute_result"
    }
   ],
   "source": [
    "'''\n",
    "整数索引和基本索引切片的区别:\n",
    "1. 基本索引切片只能对连续行(or/and)列进行索引,整数索引可以对任意位置的行(or/and)列进行索引\n",
    "2. 整数索引总是将数据复制到一个新的数组中 \n",
    "'''"
   ],
   "metadata": {
    "pycharm": {
     "metadata": false,
     "name": "#%%\n"
    }
   }
  },
  {
   "cell_type": "code",
   "execution_count": 9,
   "outputs": [
    {
     "data": {
      "text/plain": "array([[ 0,  1,  2,  3],\n       [ 4,  5,  6,  7],\n       [ 8,  9, 10, 11],\n       [12, 13, 14, 15],\n       [16, 17, 18, 19],\n       [20, 21, 22, 23],\n       [24, 25, 26, 27],\n       [28, 29, 30, 31]])"
     },
     "execution_count": 9,
     "metadata": {},
     "output_type": "execute_result"
    }
   ],
   "source": [
    "arr1 = np.arange(32).reshape((8, 4))\n",
    "arr1"
   ],
   "metadata": {
    "pycharm": {
     "metadata": false,
     "name": "#%%\n"
    }
   }
  },
  {
   "cell_type": "code",
   "execution_count": 10,
   "outputs": [
    {
     "data": {
      "text/plain": "array([ 4, 23, 29, 10])"
     },
     "execution_count": 10,
     "metadata": {},
     "output_type": "execute_result"
    }
   ],
   "source": [
    "arr1[[1, 5, 7, 2], [0, 3, 1, 2]] # 选取索引为(1, 0),(5, 3),(7, 1),(2, 2)处的元素值"
   ],
   "metadata": {
    "pycharm": {
     "metadata": false,
     "name": "#%%\n"
    }
   }
  },
  {
   "cell_type": "code",
   "execution_count": 11,
   "outputs": [
    {
     "data": {
      "text/plain": "array([[    0,     1,     2,     3],\n       [11111,     5,     6,     7],\n       [    8,     9, 11111,    11],\n       [   12,    13,    14,    15],\n       [   16,    17,    18,    19],\n       [   20,    21,    22, 11111],\n       [   24,    25,    26,    27],\n       [   28, 11111,    30,    31]])"
     },
     "execution_count": 11,
     "metadata": {},
     "output_type": "execute_result"
    }
   ],
   "source": [
    "arr1[[1, 5, 7, 2], [0, 3, 1, 2]] = 11111\n",
    "arr1 # ★★★★★整数索引修改元素必须使用此方式(即对整数索引直接进行赋值)"
   ],
   "metadata": {
    "pycharm": {
     "metadata": false,
     "name": "#%%\n"
    }
   }
  },
  {
   "cell_type": "code",
   "execution_count": 12,
   "outputs": [
    {
     "data": {
      "text/plain": "array([[11111,     7,     5,     6],\n       [   20, 11111,    21,    22],\n       [   28,    31, 11111,    30],\n       [    8,    11,     9, 11111]])"
     },
     "execution_count": 12,
     "metadata": {},
     "output_type": "execute_result"
    }
   ],
   "source": [
    "# 选取行索引为(1, 5, 7, 2)和列索引为(0, 3, 1, 2)组成的数据矩阵(两次整数索引)\n",
    "arr1[[1, 5, 7, 2]][:, [0, 3, 1, 2]] # ★★★★★无法对其进行赋值进而修改arr1!如何解决?"
   ],
   "metadata": {
    "pycharm": {
     "metadata": false,
     "name": "#%%\n"
    }
   }
  },
  {
   "cell_type": "code",
   "execution_count": 13,
   "outputs": [],
   "source": [
    "# 解决方法:\n",
    "row = [1, 5, 7, 2] \n",
    "columns = [0, 3, 1, 2]\n",
    "for k in row:\n",
    "    s = arr1[k]\n",
    "    s[columns] = 333333 # 间接赋值\n"
   ],
   "metadata": {
    "pycharm": {
     "metadata": false,
     "name": "#%%\n"
    }
   }
  },
  {
   "cell_type": "code",
   "execution_count": 14,
   "outputs": [
    {
     "data": {
      "text/plain": "array([[     0,      1,      2,      3],\n       [333333, 333333, 333333, 333333],\n       [333333, 333333, 333333, 333333],\n       [    12,     13,     14,     15],\n       [    16,     17,     18,     19],\n       [333333, 333333, 333333, 333333],\n       [    24,     25,     26,     27],\n       [333333, 333333, 333333, 333333]])"
     },
     "execution_count": 14,
     "metadata": {},
     "output_type": "execute_result"
    }
   ],
   "source": [
    "arr1"
   ],
   "metadata": {
    "collapsed": false,
    "pycharm": {
     "name": "#%%\n"
    }
   }
  }
 ],
 "metadata": {
  "kernelspec": {
   "name": "python3",
   "language": "python",
   "display_name": "Python 3"
  },
  "language_info": {
   "codemirror_mode": {
    "name": "ipython",
    "version": 2
   },
   "file_extension": ".py",
   "mimetype": "text/x-python",
   "name": "python",
   "nbconvert_exporter": "python",
   "pygments_lexer": "ipython2",
   "version": "2.7.6"
  },
  "stem_cell": {
   "cell_type": "raw",
   "source": "",
   "metadata": {
    "pycharm": {
     "metadata": false
    }
   }
  }
 },
 "nbformat": 4,
 "nbformat_minor": 0
}