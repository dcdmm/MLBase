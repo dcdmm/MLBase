{
 "cells": [
  {
   "cell_type": "code",
   "execution_count": 101,
   "metadata": {
    "collapsed": true
   },
   "outputs": [],
   "source": [
    "import numpy as np\n",
    "from sklearn.preprocessing import OrdinalEncoder"
   ]
  },
  {
   "cell_type": "code",
   "execution_count": 102,
   "outputs": [
    {
     "data": {
      "text/plain": "array([['Male', '1'],\n       ['Female', '3'],\n       ['Female', '2']], dtype='<U6')"
     },
     "execution_count": 102,
     "metadata": {},
     "output_type": "execute_result"
    }
   ],
   "source": [
    "enc = OrdinalEncoder(categories='auto')  # 默认categories='auto'\n",
    "X = np.array([['Male', '1'],\n",
    "              ['Female', '3'],\n",
    "              ['Female', '2']])\n",
    "X"
   ],
   "metadata": {
    "collapsed": false,
    "pycharm": {
     "name": "#%%\n"
    }
   }
  },
  {
   "cell_type": "code",
   "execution_count": 103,
   "outputs": [
    {
     "data": {
      "text/plain": "OrdinalEncoder()"
     },
     "execution_count": 103,
     "metadata": {},
     "output_type": "execute_result"
    }
   ],
   "source": [
    "'''\n",
    "X : array-like, shape [n_samples, n_features]\n",
    "            The data to determine the categories of each feature.\n",
    "'''\n",
    "enc.fit(X)  # X必须为2D数据(n_samples, n_features)"
   ],
   "metadata": {
    "collapsed": false,
    "pycharm": {
     "name": "#%%\n"
    }
   }
  },
  {
   "cell_type": "code",
   "execution_count": 104,
   "outputs": [
    {
     "data": {
      "text/plain": "[array(['Female', 'Male'], dtype='<U6'), array(['1', '2', '3'], dtype='<U6')]"
     },
     "execution_count": 104,
     "metadata": {},
     "output_type": "execute_result"
    }
   ],
   "source": [
    "# The categories of each feature determined during fitting (in order of the features in X and corresponding with the output of transform).\n",
    "enc.categories_"
   ],
   "metadata": {
    "collapsed": false,
    "pycharm": {
     "name": "#%%\n"
    }
   }
  },
  {
   "cell_type": "code",
   "execution_count": 105,
   "outputs": [
    {
     "data": {
      "text/plain": "array([[0., 2.],\n       [1., 0.]])"
     },
     "execution_count": 105,
     "metadata": {},
     "output_type": "execute_result"
    }
   ],
   "source": [
    "# Transform X to ordinal codes.\n",
    "\"\"\"\n",
    "解析:\n",
    "根据enc.categories_\n",
    "'Female'的编码是0\n",
    "'Male'的编码是1\n",
    "'3'的编码是2\n",
    "'1'的编码是0\n",
    "\"\"\"\n",
    "enc.transform([['Female', '3'],\n",
    "               ['Male', '1']])"
   ],
   "metadata": {
    "collapsed": false,
    "pycharm": {
     "name": "#%%\n"
    }
   }
  },
  {
   "cell_type": "code",
   "execution_count": 106,
   "outputs": [
    {
     "data": {
      "text/plain": "array([[1., 0.],\n       [0., 2.],\n       [0., 1.]])"
     },
     "execution_count": 106,
     "metadata": {},
     "output_type": "execute_result"
    }
   ],
   "source": [
    "enc.transform(X)"
   ],
   "metadata": {
    "collapsed": false,
    "pycharm": {
     "name": "#%%\n"
    }
   }
  },
  {
   "cell_type": "code",
   "execution_count": 107,
   "outputs": [
    {
     "data": {
      "text/plain": "array([['Male', '1'],\n       ['Female', '2']], dtype=object)"
     },
     "execution_count": 107,
     "metadata": {},
     "output_type": "execute_result"
    }
   ],
   "source": [
    "# Convert the data back to the original representation.\n",
    "\"\"\"\n",
    "解析:\n",
    "根据enc.categories_\n",
    "第一个特征编码1的原始表示是'Male'\n",
    "第一个特征编码0的原始表示是'Female'\n",
    "第二个特征编码0的原始表示是'1'\n",
    "第二个特征编码1的原始表示是'2'\n",
    "\"\"\"\n",
    "enc.inverse_transform([[1, 0],\n",
    "                       [0, 1]])  # 必须为2D数据(n_samples, n_features)"
   ],
   "metadata": {
    "collapsed": false,
    "pycharm": {
     "name": "#%%\n"
    }
   }
  },
  {
   "cell_type": "code",
   "execution_count": 108,
   "outputs": [
    {
     "data": {
      "text/plain": "array([['Male', '1'],\n       ['Female', '3'],\n       ['Female', '2']], dtype=object)"
     },
     "execution_count": 108,
     "metadata": {},
     "output_type": "execute_result"
    }
   ],
   "source": [
    "enc.inverse_transform(enc.transform(X))"
   ],
   "metadata": {
    "collapsed": false,
    "pycharm": {
     "name": "#%%\n"
    }
   }
  },
  {
   "cell_type": "code",
   "execution_count": 109,
   "outputs": [],
   "source": [
    "seq_init = np.array([['红', '恒星'],\n",
    "                     ['白', '卫星'],\n",
    "                     ['红', '行星'],\n",
    "                     ['黑', '卫星']])\n",
    "\n",
    "# ★★★★★指定categories\n",
    "enc1 = OrdinalEncoder(categories=[['红', '黑', '白'],\n",
    "                                  ['卫星', '恒星', '行星']])"
   ],
   "metadata": {
    "collapsed": false,
    "pycharm": {
     "name": "#%%\n"
    }
   }
  },
  {
   "cell_type": "code",
   "execution_count": 110,
   "outputs": [
    {
     "data": {
      "text/plain": "array([[0., 1.],\n       [2., 0.],\n       [0., 2.],\n       [1., 0.]])"
     },
     "execution_count": 110,
     "metadata": {},
     "output_type": "execute_result"
    }
   ],
   "source": [
    "seq = enc1.fit_transform(seq_init)\n",
    "seq"
   ],
   "metadata": {
    "collapsed": false,
    "pycharm": {
     "name": "#%%\n"
    }
   }
  },
  {
   "cell_type": "code",
   "execution_count": 111,
   "outputs": [
    {
     "data": {
      "text/plain": "[array(['红', '黑', '白'], dtype='<U2'), array(['卫星', '恒星', '行星'], dtype='<U2')]"
     },
     "execution_count": 111,
     "metadata": {},
     "output_type": "execute_result"
    }
   ],
   "source": [
    "enc1.categories_"
   ],
   "metadata": {
    "collapsed": false,
    "pycharm": {
     "name": "#%%\n"
    }
   }
  },
  {
   "cell_type": "code",
   "execution_count": 111,
   "outputs": [],
   "source": [],
   "metadata": {
    "collapsed": false,
    "pycharm": {
     "name": "#%%\n"
    }
   }
  }
 ],
 "metadata": {
  "kernelspec": {
   "display_name": "Python 3",
   "language": "python",
   "name": "python3"
  },
  "language_info": {
   "codemirror_mode": {
    "name": "ipython",
    "version": 2
   },
   "file_extension": ".py",
   "mimetype": "text/x-python",
   "name": "python",
   "nbconvert_exporter": "python",
   "pygments_lexer": "ipython2",
   "version": "2.7.6"
  }
 },
 "nbformat": 4,
 "nbformat_minor": 0
}