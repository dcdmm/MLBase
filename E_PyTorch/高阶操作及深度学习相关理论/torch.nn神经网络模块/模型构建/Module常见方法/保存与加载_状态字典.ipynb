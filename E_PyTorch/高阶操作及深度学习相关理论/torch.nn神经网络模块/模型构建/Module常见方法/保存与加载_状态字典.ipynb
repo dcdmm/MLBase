{
 "cells": [
  {
   "cell_type": "code",
   "execution_count": 7,
   "metadata": {
    "collapsed": true
   },
   "outputs": [],
   "source": [
    "from abc import ABC\n",
    "import torch\n",
    "import torch.nn as nn"
   ]
  },
  {
   "cell_type": "code",
   "execution_count": 8,
   "outputs": [
    {
     "name": "stdout",
     "output_type": "stream",
     "text": [
      "iteration：0,    loss: 0.5072945356369019\n",
      "iteration：20,    loss: 0.24114477634429932\n",
      "iteration：40,    loss: 0.16167768836021423\n",
      "iteration：60,    loss: 0.13019175827503204\n",
      "iteration：80,    loss: 0.11143177002668381\n",
      "iteration：100,    loss: 0.09831245243549347\n",
      "iteration：120,    loss: 0.08842919021844864\n",
      "iteration：140,    loss: 0.0806545540690422\n",
      "iteration：160,    loss: 0.07435550540685654\n",
      "iteration：180,    loss: 0.06913800537586212\n",
      "iteration：200,    loss: 0.06474029272794724\n",
      "iteration：220,    loss: 0.06098010390996933\n",
      "iteration：240,    loss: 0.05772606283426285\n",
      "iteration：260,    loss: 0.05488075688481331\n",
      "iteration：280,    loss: 0.0523703470826149\n",
      "iteration：300,    loss: 0.05013774335384369\n",
      "iteration：320,    loss: 0.048138175159692764\n",
      "iteration：340,    loss: 0.04633596912026405\n",
      "iteration：360,    loss: 0.04470236599445343\n",
      "iteration：380,    loss: 0.04321398213505745\n",
      "iteration：400,    loss: 0.041851550340652466\n",
      "iteration：420,    loss: 0.04059908539056778\n",
      "iteration：440,    loss: 0.039443232119083405\n",
      "iteration：460,    loss: 0.0383726991713047\n",
      "iteration：480,    loss: 0.03737791255116463\n"
     ]
    }
   ],
   "source": [
    "x0, y0 = torch.normal(mean=1.7, std=1, size=(100, 2)) + 1, torch.zeros(100)  # 数据集1\n",
    "x1, y1 = torch.normal(mean=-1.7, std=1, size=(100, 2)) + 1, torch.ones(100)  # 数据集2\n",
    "train_x, train_y = torch.cat((x0, x1), 0), torch.cat((y0, y1), 0)\n",
    "\n",
    "\n",
    "class LR(nn.Module, ABC):\n",
    "    def __init__(self):\n",
    "        super(LR, self).__init__()\n",
    "        self.features = nn.Linear(2, 1)\n",
    "        self.sigmoid = nn.Sigmoid()\n",
    "\n",
    "    def forward(self, x):\n",
    "        x = self.features(x)\n",
    "        x = self.sigmoid(x)\n",
    "        return x\n",
    "\n",
    "\n",
    "lr_net = LR()\n",
    "loss_fn = nn.BCELoss()\n",
    "optimizer = torch.optim.SGD(lr_net.parameters(), lr=0.01, momentum=0.9)\n",
    "\n",
    "for iteration in range(500):\n",
    "    optimizer.zero_grad()  # 梯度清零\n",
    "    y_pred = lr_net(train_x)\n",
    "    loss = loss_fn(y_pred.squeeze(), train_y)\n",
    "    loss.backward()\n",
    "    optimizer.step()\n",
    "\n",
    "    if iteration % 20 == 0:\n",
    "        print(\"iteration：{iteration},    loss: {loss}\".format(iteration=iteration, loss=loss))"
   ],
   "metadata": {
    "collapsed": false,
    "pycharm": {
     "name": "#%%\n"
    }
   }
  },
  {
   "cell_type": "code",
   "execution_count": 9,
   "outputs": [
    {
     "data": {
      "text/plain": "OrderedDict([('features.weight', tensor([[-1.6137, -1.4067]])),\n             ('features.bias', tensor([2.1918]))])"
     },
     "execution_count": 9,
     "metadata": {},
     "output_type": "execute_result"
    }
   ],
   "source": [
    "lr_dict = lr_net.state_dict()  # Returns a dictionary containing a whole state of the module\n",
    "lr_dict"
   ],
   "metadata": {
    "collapsed": false,
    "pycharm": {
     "name": "#%%\n"
    }
   }
  },
  {
   "cell_type": "code",
   "execution_count": 10,
   "outputs": [],
   "source": [
    "torch.save(lr_dict,\n",
    "           'torch_dict.pth')  # 保存的状态字典的文件"
   ],
   "metadata": {
    "collapsed": false,
    "pycharm": {
     "name": "#%%\n"
    }
   }
  },
  {
   "cell_type": "code",
   "execution_count": 11,
   "outputs": [
    {
     "data": {
      "text/plain": "LR(\n  (features): Linear(in_features=2, out_features=1, bias=True)\n  (sigmoid): Sigmoid()\n)"
     },
     "execution_count": 11,
     "metadata": {},
     "output_type": "execute_result"
    }
   ],
   "source": [
    "lr_net_new = LR()  # 定义一个新的模型\n",
    "\n",
    "# torch.load():Loads an object saved with torch.save() from a file.\n",
    "# .load_state_dict():Copies parameters and buffers from :attr:`state_dict` into this module and its descendants\n",
    "lr_net_new.load_state_dict(torch.load('torch_dict.pth'))\n",
    "lr_net_new"
   ],
   "metadata": {
    "collapsed": false,
    "pycharm": {
     "name": "#%%\n"
    }
   }
  },
  {
   "cell_type": "code",
   "execution_count": 12,
   "outputs": [
    {
     "data": {
      "text/plain": "OrderedDict([('features.weight', tensor([[-1.6137, -1.4067]])),\n             ('features.bias', tensor([2.1918]))])"
     },
     "execution_count": 12,
     "metadata": {},
     "output_type": "execute_result"
    }
   ],
   "source": [
    "lr_net_new.state_dict()"
   ],
   "metadata": {
    "collapsed": false,
    "pycharm": {
     "name": "#%%\n"
    }
   }
  },
  {
   "cell_type": "code",
   "execution_count": 12,
   "outputs": [],
   "source": [],
   "metadata": {
    "collapsed": false,
    "pycharm": {
     "name": "#%%\n"
    }
   }
  }
 ],
 "metadata": {
  "kernelspec": {
   "display_name": "Python 3",
   "language": "python",
   "name": "python3"
  },
  "language_info": {
   "codemirror_mode": {
    "name": "ipython",
    "version": 2
   },
   "file_extension": ".py",
   "mimetype": "text/x-python",
   "name": "python",
   "nbconvert_exporter": "python",
   "pygments_lexer": "ipython2",
   "version": "2.7.6"
  }
 },
 "nbformat": 4,
 "nbformat_minor": 0
}