{
 "cells": [
  {
   "cell_type": "code",
   "execution_count": 8,
   "metadata": {
    "collapsed": true,
    "pycharm": {
     "name": "#%%\n"
    }
   },
   "outputs": [
    {
     "name": "stdout",
     "output_type": "stream",
     "text": [
      "Candidate 1 is: Name: Joe Biden, Country: USA, Age: 78\n",
      "Candidate 2 is: Name: Joe Biden, Country: USA, Age: 78\n",
      "Both the candidates are same? False\n",
      "candidates name are same? True\n"
     ]
    }
   ],
   "source": [
    "class Person_init:\n",
    "    def __init__(self, name, country, age):\n",
    "        self.Name = name\n",
    "        self.Country = country\n",
    "        self.Age = age\n",
    "\n",
    "    def __repr__(self):\n",
    "        return \"Name: {}, Country: {}, Age: {}\".format(self.Name, self.Country, self.Age)\n",
    "\n",
    "\n",
    "candidate1 = Person_init(\"Joe Biden\", \"USA\", 78)\n",
    "candidate2 = Person_init(\"Joe Biden\", \"USA\", 78)\n",
    "\n",
    "print(\"Candidate 1 is:\", candidate1)\n",
    "print(\"Candidate 2 is:\", candidate2)\n",
    "\n",
    "#  Candidate1和Candidate2被认为是两个不同的对象(尽量对象的属性值完全相同)\n",
    "print(\"Both the candidates are same?\", candidate1 == candidate2)\n",
    "print(\"candidates name are same?\", candidate1.Name == candidate2.Name)"
   ]
  },
  {
   "cell_type": "code",
   "execution_count": 9,
   "outputs": [
    {
     "name": "stdout",
     "output_type": "stream",
     "text": [
      "The candidate 1 is: Person(Name='Joe Biden', Country='USA', Age=78)\n",
      "The candidate 2 is: Person(Name='Joe Biden', Country='USA', Age=78)\n",
      "The candidate 3 is: Person(Name='Joe Biden', Country='USA', Age=79)\n",
      "candidates 1 and 2 are same? True\n",
      "candidates 1 and 3 are same? False\n",
      "candidates 1 and 3 Name are same? True\n"
     ]
    }
   ],
   "source": [
    "from dataclasses import dataclass\n",
    "from typing import List\n",
    "\n",
    "@dataclass\n",
    "class Person:\n",
    "    Name: str\n",
    "    Country: str\n",
    "    Age: int\n",
    "\n",
    "\n",
    "candidate1 = Person(\"Joe Biden\", \"USA\", 78)\n",
    "candidate2 = Person(\"Joe Biden\", \"USA\", 78)\n",
    "candidate3 = Person(\"Joe Biden\", \"USA\", 79)\n",
    "\n",
    "print(\"The candidate 1 is:\", candidate1)\n",
    "print(\"The candidate 2 is:\", candidate2)\n",
    "print(\"The candidate 3 is:\", candidate3)\n",
    "\n",
    "# candidate1和candidate2被认为是相等的,因为对象的属性是相等的\n",
    "print(\"candidates 1 and 2 are same?\", candidate1 == candidate2)\n",
    "print(\"candidates 1 and 3 are same?\", candidate1 == candidate3)\n",
    "\n",
    "print(\"candidates 1 and 3 Name are same?\", candidate1.Name == candidate3.Name)"
   ],
   "metadata": {
    "collapsed": false,
    "pycharm": {
     "name": "#%%\n"
    }
   }
  },
  {
   "cell_type": "code",
   "execution_count": 10,
   "outputs": [
    {
     "name": "stdout",
     "output_type": "stream",
     "text": [
      "Team name:Los Angeles Lakers,\n",
      "Team members:[Player(name='Lebron James', number=23, position='SF', age=25), Player(name='Anthony Davis', number=3, position='PF', age=21)]\n"
     ]
    }
   ],
   "source": [
    "@dataclass\n",
    "class Player:\n",
    "    \"\"\"描述球员的类,记录球员的信息\"\"\"\n",
    "    name: str\n",
    "    number: int\n",
    "    position: str\n",
    "    age: int\n",
    "\n",
    "\n",
    "@dataclass\n",
    "class Team:\n",
    "    \"\"\"描述球队的类,球队包括队名称、队成员\"\"\"\n",
    "    name: str\n",
    "    players: List[Player]\n",
    "\n",
    "\n",
    "james = Player('Lebron James', 23, 'SF', 25)  # 实例化一个球员james\n",
    "davis = Player('Anthony Davis', 3, 'PF', 21)  # 实例化一个球员davis\n",
    "\n",
    "# 嵌套\n",
    "lal = Team('Los Angeles Lakers', [james, davis])  # 实例化一个球队，将两个球员加入队中\n",
    "print(\"Team name:{0},\\nTeam members:{1}\".format(lal.name, lal.players))"
   ],
   "metadata": {
    "collapsed": false,
    "pycharm": {
     "name": "#%%\n"
    }
   }
  }
 ],
 "metadata": {
  "kernelspec": {
   "display_name": "Python 3",
   "language": "python",
   "name": "python3"
  },
  "language_info": {
   "codemirror_mode": {
    "name": "ipython",
    "version": 2
   },
   "file_extension": ".py",
   "mimetype": "text/x-python",
   "name": "python",
   "nbconvert_exporter": "python",
   "pygments_lexer": "ipython2",
   "version": "2.7.6"
  }
 },
 "nbformat": 4,
 "nbformat_minor": 0
}