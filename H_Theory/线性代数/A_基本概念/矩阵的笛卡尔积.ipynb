{
 "cells": [
  {
   "cell_type": "markdown",
   "metadata": {
    "collapsed": true,
    "pycharm": {
     "is_executing": false,
     "name": "#%% md\n"
    }
   },
   "source": [
    "&emsp;&emsp;如果$ A $为$ m \\times n $矩阵,$ B$为$ p \\times q  $矩阵,则它们的Kronecker积\n",
    "记为$ A \\otimes  B$,定义一个$ mp \\times np $矩阵:   \n",
    "$$ A \\otimes B = $$ \n",
    "\\begin{bmatrix}\n",
    "a_{11}B  & a_{12}B & \\dots  & a_{1n}B \\\\\n",
    "a_{21}B  & a_{22}B & \\dots  & a_{2n}B \\\\\n",
    "\\vdots   & \\vdots  & \\ddots & \\vdots \\\\\n",
    "a_{m1}B  & a_{m2}B & \\dots  & a_{mn}B    \n",
    "\\end{bmatrix}\n",
    "\n",
    "<font color='red' size=4>Kronecker 积具有以下性质</font>  \n",
    "* 令$ A \\in \\mathbf{C}^{m \\times n}, B \\in \\mathbf{C}^{p \\times q}, b \\in \\mathbf{C}^{p} $  \n",
    "    * $$ K_{pm} (A \\otimes B) = (B \\otimes A ) K_{qn} $$\n",
    "    * $$ K_{pm} (A \\otimes B) K_{nq} = B \\otimes A $$ \n",
    "    * $$ K_{pm} (A \\otimes \\mathbf{b}) = \\mathbf{b} \\otimes A $$\n",
    "    * $$ K_{mp} (\\mathbf{b} \\otimes A) =  A \\otimes \\mathbf{b} $$"
   ]
  },
  {
   "cell_type": "code",
   "execution_count": 6,
   "outputs": [
    {
     "data": {
      "text/plain": "array([  5,   6,   7,  50,  60,  70, 500, 600, 700])"
     },
     "metadata": {},
     "output_type": "execute_result",
     "execution_count": 6
    }
   ],
   "source": [
    "\n",
    "import numpy as np\n",
    "\n",
    "np.kron([1, 10, 100], [5, 6, 7])  # Kronecker积"
   ],
   "metadata": {
    "collapsed": false,
    "pycharm": {
     "name": "#%%\n",
     "is_executing": false
    }
   }
  },
  {
   "cell_type": "code",
   "execution_count": 7,
   "outputs": [
    {
     "data": {
      "text/plain": "array([  5,  50, 500,   6,  60, 600,   7,  70, 700])"
     },
     "metadata": {},
     "output_type": "execute_result",
     "execution_count": 7
    }
   ],
   "source": [
    "np.kron([5, 6, 7], [1, 10, 100])"
   ],
   "metadata": {
    "collapsed": false,
    "pycharm": {
     "name": "#%%\n",
     "is_executing": false
    }
   }
  },
  {
   "cell_type": "code",
   "execution_count": 8,
   "outputs": [
    {
     "data": {
      "text/plain": "array([[1., 1., 0., 0.],\n       [1., 1., 0., 0.],\n       [0., 0., 1., 1.],\n       [0., 0., 1., 1.]])"
     },
     "metadata": {},
     "output_type": "execute_result",
     "execution_count": 8
    }
   ],
   "source": [
    "np.kron(np.eye(2), np.ones((2, 2)))"
   ],
   "metadata": {
    "collapsed": false,
    "pycharm": {
     "name": "#%%\n",
     "is_executing": false
    }
   }
  },
  {
   "cell_type": "code",
   "execution_count": 9,
   "outputs": [
    {
     "data": {
      "text/plain": "array([[1., 0., 1., 0.],\n       [0., 1., 0., 1.],\n       [1., 0., 1., 0.],\n       [0., 1., 0., 1.]])"
     },
     "metadata": {},
     "output_type": "execute_result",
     "execution_count": 9
    }
   ],
   "source": [
    "np.kron(np.ones((2, 2)), np.eye(2))"
   ],
   "metadata": {
    "collapsed": false,
    "pycharm": {
     "name": "#%%\n",
     "is_executing": false
    }
   }
  },
  {
   "cell_type": "code",
   "execution_count": null,
   "outputs": [],
   "source": [
    "\n"
   ],
   "metadata": {
    "collapsed": false,
    "pycharm": {
     "name": "#%%\n"
    }
   }
  }
 ],
 "metadata": {
  "kernelspec": {
   "display_name": "Python 3",
   "language": "python",
   "name": "python3"
  },
  "language_info": {
   "codemirror_mode": {
    "name": "ipython",
    "version": 2
   },
   "file_extension": ".py",
   "mimetype": "text/x-python",
   "name": "python",
   "nbconvert_exporter": "python",
   "pygments_lexer": "ipython2",
   "version": "2.7.6"
  },
  "pycharm": {
   "stem_cell": {
    "cell_type": "raw",
    "source": [],
    "metadata": {
     "collapsed": false
    }
   }
  }
 },
 "nbformat": 4,
 "nbformat_minor": 0
}