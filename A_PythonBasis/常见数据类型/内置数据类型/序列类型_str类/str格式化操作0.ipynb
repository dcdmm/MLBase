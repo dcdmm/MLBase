{
 "cells": [
  {
   "cell_type": "markdown",
   "source": [
    "### 输出类型:字符串"
   ],
   "metadata": {
    "collapsed": false,
    "pycharm": {
     "name": "#%% md\n"
    }
   }
  },
  {
   "cell_type": "code",
   "source": [
    "print(\"{} {}\".format(\"hello\", \"world\"))  # 不设置指定位置(按默认顺序)\n",
    "print(\"{0} {1}\".format(\"hello\", \"world\"))  # 设置指定位置坐标\n",
    "print(\"{1} {0} {1}\".format(\"hello\", \"world\"))"
   ],
   "metadata": {
    "collapsed": false,
    "pycharm": {
     "name": "#%%\n"
    },
    "ExecuteTime": {
     "end_time": "2024-04-22T08:37:40.835102Z",
     "start_time": "2024-04-22T08:37:40.817658Z"
    }
   },
   "outputs": [
    {
     "name": "stdout",
     "output_type": "stream",
     "text": [
      "hello world\n",
      "hello world\n",
      "world hello world\n"
     ]
    }
   ],
   "execution_count": 57
  },
  {
   "cell_type": "code",
   "source": [
    "print(\"名字：{name}, 地址 {url}\".format(name=\"段超\", url=\"china\"))  # 设置指定位置名称\n",
    "\n",
    "# 通过字典设置参数\n",
    "site = {\"name\": \"duanmengmeng\", \"url\": \"USA\"}\n",
    "print(\"网站名：{name}, 地址 {url}\".format(**site))"
   ],
   "metadata": {
    "pycharm": {
     "metadata": false,
     "name": "#%%\n"
    },
    "ExecuteTime": {
     "end_time": "2024-04-22T08:37:40.866543Z",
     "start_time": "2024-04-22T08:37:40.850970Z"
    }
   },
   "outputs": [
    {
     "name": "stdout",
     "output_type": "stream",
     "text": [
      "名字：段超, 地址 china\n",
      "网站名：duanmengmeng, 地址 USA\n"
     ]
    }
   ],
   "execution_count": 58
  },
  {
   "cell_type": "code",
   "source": [
    "class AssignValue(object):\n",
    "    def __init__(self, value):\n",
    "        self.value = value\n",
    "\n",
    "\n",
    "my_value = AssignValue(6)\n",
    "print('value 为: {0.value}'.format(my_value))  # 向str.format()传入对象"
   ],
   "metadata": {
    "pycharm": {
     "metadata": false,
     "name": "#%%\n"
    },
    "ExecuteTime": {
     "end_time": "2024-04-22T08:37:40.952749Z",
     "start_time": "2024-04-22T08:37:40.938183Z"
    }
   },
   "outputs": [
    {
     "name": "stdout",
     "output_type": "stream",
     "text": [
      "value 为: 6\n"
     ]
    }
   ],
   "execution_count": 59
  },
  {
   "cell_type": "code",
   "source": [
    "print(\"{}\".format('duanchao'))  # 输出字符串本身\n",
    "print(\"{:15}\".format('duanchao'))\n",
    "print(\"{:<15}\".format('duanchao'))  # 与上等价(左对齐,空白字符填充,总宽度为15)\n",
    "print(\"{:<5}\".format('duanchao'))  # 总宽度为5(小于字符串宽度),正常输出\n",
    "print(\"{:>15}\".format('duanchao'))  # 右对其(空白字符填充,总宽度为15)\n",
    "print(\"{:!>15}\".format('duanchao'))  # 右对齐('!'字符填充,总宽度为15)\n",
    "print(\"{:!^15}\".format('duanchao'))  # 居中对其('!'字符填充,总宽度为15)"
   ],
   "metadata": {
    "pycharm": {
     "metadata": false,
     "name": "#%%\n"
    },
    "ExecuteTime": {
     "end_time": "2024-04-22T08:37:41.000929Z",
     "start_time": "2024-04-22T08:37:40.981287Z"
    }
   },
   "outputs": [
    {
     "name": "stdout",
     "output_type": "stream",
     "text": [
      "duanchao\n",
      "duanchao       \n",
      "duanchao       \n",
      "duanchao\n",
      "       duanchao\n",
      "!!!!!!!duanchao\n",
      "!!!duanchao!!!!\n"
     ]
    }
   ],
   "execution_count": 60
  },
  {
   "cell_type": "code",
   "source": [
    "print(\"{:4d}\".format(5))\n",
    "print(\"{:>4d}\".format(5))  # 与上等价(右对其,空白字符填充,总宽度为5)\n",
    "print(\"{:<4d}\".format(5))  # 左对齐(空白字符填充,总宽度为5)\n",
    "print(\"{:0<4d}\".format(5))  # 左对齐('0'字符填充,总宽度为5)\n",
    "print(\"{:x<4d}\".format(5))  # 左对其('x'字符填充,总宽度为5)\n",
    "print(\"{:x^4d}\".format(5))  # 居中对其('x'字符填充,总宽度为5)"
   ],
   "metadata": {
    "collapsed": false,
    "pycharm": {
     "name": "#%%\n"
    },
    "ExecuteTime": {
     "end_time": "2024-04-22T08:37:41.032495Z",
     "start_time": "2024-04-22T08:37:41.016615Z"
    }
   },
   "outputs": [
    {
     "name": "stdout",
     "output_type": "stream",
     "text": [
      "   5\n",
      "   5\n",
      "5   \n",
      "5000\n",
      "5xxx\n",
      "x5xx\n"
     ]
    }
   ],
   "execution_count": 61
  },
  {
   "cell_type": "code",
   "source": [
    "s = 3.141592635\n",
    "\n",
    "print(\"{:}\".format(s)) \n",
    "print(\"{:.4f}\".format(s))  # 保留小数点后四位\n",
    "print(\"{:x<10.4f}\".format(s))  # 左对齐('x'字符填充,总宽度10,保留小数点后4位)\n",
    "print(\"{:+.2f}\".format(s), end='\\n\\n')  # 带符号保留小数点后两位\n",
    "\n",
    "print(\"{:5.2f}\".format(3.14159))  # 保留小数点后两位(总宽度为5,小数点符号'.'占一位)\n",
    "print(\"{:5.2f}\".format(33.14159))\n",
    "print(\"{:5.2f}\".format(333.14159))"
   ],
   "metadata": {
    "collapsed": false,
    "pycharm": {
     "name": "#%%\n"
    },
    "ExecuteTime": {
     "end_time": "2024-04-22T08:37:41.112346Z",
     "start_time": "2024-04-22T08:37:41.096403Z"
    }
   },
   "outputs": [
    {
     "name": "stdout",
     "output_type": "stream",
     "text": [
      "3.141592635\n",
      "3.1416\n",
      "3.1416xxxx\n",
      "+3.14\n",
      "\n",
      " 3.14\n",
      "33.14\n",
      "333.14\n"
     ]
    }
   ],
   "execution_count": 62
  },
  {
   "cell_type": "code",
   "source": [
    "print(\"{:,}\".format(500000))  # 以逗号分隔的数字格式\n",
    "print(\"{:.2%}\".format(1.235))  # 以百分比结尾的数字格式\n",
    "\n",
    "print(\"{:e}\".format(100000000))\n",
    "print(\"{:.2e}\".format(1000000000))  # 科学计数法(保留2位有效数字)\n",
    "\n",
    "lis = ['{:b}',  # 二进制\n",
    "       '{:d}',  # 十进制\n",
    "       '{:o}',  # 八进制\n",
    "       '{:x}']  # 十六进制\n",
    "for i in lis:\n",
    "    print(i.format(11))\n",
    "\n",
    "print(\"{0} 对应的位置是 {{0}}\".format(\"runoob\"))  # 大括号/{}转义大括号"
   ],
   "metadata": {
    "collapsed": false,
    "pycharm": {
     "name": "#%%\n"
    },
    "ExecuteTime": {
     "end_time": "2024-04-22T08:37:41.128412Z",
     "start_time": "2024-04-22T08:37:41.112346Z"
    }
   },
   "outputs": [
    {
     "name": "stdout",
     "output_type": "stream",
     "text": [
      "500,000\n",
      "123.50%\n",
      "1.000000e+08\n",
      "1.00e+09\n",
      "1011\n",
      "11\n",
      "13\n",
      "b\n",
      "runoob 对应的位置是 {0}\n"
     ]
    }
   ],
   "execution_count": 63
  },
  {
   "cell_type": "code",
   "source": [
    "# 不能混淆使用\n",
    "print(\"年龄为{:f};学校为{:s};工资为{:d}\".format(25.25122222, \"guangcai\", 10000))  # 按默认顺序\n",
    "print(\"年龄为{0};学校为{1};工资为{2}\".format(25.25122222, \"guangcai\", 10000))\n",
    "print(\"年龄为{age};学校为{sclool};工资为{payment}\".format(age=25.25122222, sclool=\"guangcai\", payment=10000))\n"
   ],
   "metadata": {
    "collapsed": false,
    "pycharm": {
     "name": "#%%\n"
    },
    "ExecuteTime": {
     "end_time": "2024-04-22T08:37:41.144370Z",
     "start_time": "2024-04-22T08:37:41.128412Z"
    }
   },
   "outputs": [
    {
     "name": "stdout",
     "output_type": "stream",
     "text": [
      "年龄为25.251222;学校为guangcai;工资为10000\n",
      "年龄为25.25122222;学校为guangcai;工资为10000\n",
      "年龄为25.25122222;学校为guangcai;工资为10000\n"
     ]
    }
   ],
   "execution_count": 64
  }
 ],
 "metadata": {
  "kernelspec": {
   "name": "python3",
   "language": "python",
   "display_name": "Python 3"
  },
  "language_info": {
   "codemirror_mode": {
    "name": "ipython",
    "version": 2
   },
   "file_extension": ".py",
   "mimetype": "text/x-python",
   "name": "python",
   "nbconvert_exporter": "python",
   "pygments_lexer": "ipython2",
   "version": "2.7.6"
  }
 },
 "nbformat": 4,
 "nbformat_minor": 0
}
