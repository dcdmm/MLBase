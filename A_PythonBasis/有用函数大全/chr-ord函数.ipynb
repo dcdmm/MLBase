{
 "cells": [
  {
   "cell_type": "code",
   "execution_count": 1,
   "outputs": [
    {
     "name": "stdout",
     "text": [
      "\" $ 7\n"
     ],
     "output_type": "stream"
    }
   ],
   "source": [
    "print(chr(34),chr(36),chr(55))\n",
    "# Return a Unicode(统一码) string of one character with ordinal i; 0 <= i <= 0x10ffff."
   ],
   "metadata": {
    "collapsed": false,
    "pycharm": {
     "name": "#%%\n",
     "is_executing": false
    }
   }
  },
  {
   "cell_type": "code",
   "execution_count": 2,
   "metadata": {
    "pycharm": {
     "is_executing": false
    }
   },
   "outputs": [
    {
     "name": "stdout",
     "text": [
      "97 98 99 100 102\n"
     ],
     "output_type": "stream"
    }
   ],
   "source": [
    "print(ord(\"a\"), \n",
    "      ord('b'), \n",
    "      ord('c'), \n",
    "      ord('d'), \n",
    "      ord(\"f\")) # Return the Unicode(统一码) code point for a one-character string."
   ]
  }
 ],
 "metadata": {
  "kernelspec": {
   "name": "python3",
   "language": "python",
   "display_name": "Python 3"
  },
  "language_info": {
   "codemirror_mode": {
    "name": "ipython",
    "version": 2
   },
   "file_extension": ".py",
   "mimetype": "text/x-python",
   "name": "python",
   "nbconvert_exporter": "python",
   "pygments_lexer": "ipython2",
   "version": "2.7.6"
  },
  "pycharm": {
   "stem_cell": {
    "cell_type": "raw",
    "source": [],
    "metadata": {
     "collapsed": false
    }
   }
  }
 },
 "nbformat": 4,
 "nbformat_minor": 0
}