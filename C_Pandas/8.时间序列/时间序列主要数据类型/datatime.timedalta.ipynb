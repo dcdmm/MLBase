{
 "cells": [
  {
   "cell_type": "markdown",
   "source": [
    "datetime.timedelta  -表示时间间隔,即两个时间点(datetime,datetime)之间的差"
   ],
   "metadata": {
    "pycharm": {
     "metadata": false,
     "name": "#%% md\n"
    }
   }
  },
  {
   "cell_type": "code",
   "execution_count": null,
   "outputs": [],
   "source": [
    "'''\n",
    "datetime.timedelta(days=0, seconds=0, microseconds=0, milliseconds=0,\n",
    "                    minutes=0, hours=0, weeks=0)\n",
    "                   \n",
    "timedelta 实例属性(只读):\n",
    "属性取值范围\n",
    "timedelta.days\t        -999999999 ~ 999999999\n",
    "timedelta.seconds\t             0 ~ 86399\n",
    "timedelta.microseconds\t         0 ~ 999999\n",
    "'''"
   ],
   "metadata": {
    "pycharm": {
     "metadata": false,
     "name": "#%%\n"
    }
   }
  },
  {
   "cell_type": "code",
   "execution_count": 1,
   "outputs": [
    {
     "name": "stdout",
     "text": [
      "timedalta举例如下:\n31536000.0\nTrue\n3650 days, 0:00:00 10\n3285 days, 0:00:00 9\n1095 days, 0:00:00 3\nTrue\n"
     ],
     "output_type": "stream"
    }
   ],
   "source": [
    "# date.timedelta简单举例\n",
    "from datetime import timedelta\n",
    "\n",
    "print('timedalta举例如下:')\n",
    "year = timedelta(days=365)\n",
    "another_year = timedelta(weeks=40, days=84, hours=23, minutes=50, \n",
    "\t\t\t\t\t\t seconds=600)  # adds up to 365 days\n",
    "print(year.total_seconds()) # 总秒数\n",
    "print(year == another_year)\n",
    "ten_years = 10 * year\n",
    "print(ten_years, ten_years.days//365)\n",
    "nine_years = ten_years - year\n",
    "print(nine_years, nine_years.days // 365)\n",
    "three_years = nine_years // 3\n",
    "print(three_years, three_years.days // 365)\n",
    "print(abs(three_years - ten_years) == 2 * three_years + year)"
   ],
   "metadata": {
    "pycharm": {
     "metadata": false,
     "name": "#%%\n",
     "is_executing": false
    }
   }
  },
  {
   "cell_type": "code",
   "execution_count": null,
   "outputs": [],
   "source": [
    "\n"
   ],
   "metadata": {
    "collapsed": false,
    "pycharm": {
     "name": "#%%\n"
    }
   }
  }
 ],
 "metadata": {
  "kernelspec": {
   "name": "python3",
   "language": "python",
   "display_name": "Python 3"
  },
  "language_info": {
   "codemirror_mode": {
    "name": "ipython",
    "version": 2
   },
   "file_extension": ".py",
   "mimetype": "text/x-python",
   "name": "python",
   "nbconvert_exporter": "python",
   "pygments_lexer": "ipython2",
   "version": "2.7.6"
  },
  "stem_cell": {
   "cell_type": "raw",
   "source": "",
   "metadata": {
    "pycharm": {
     "metadata": false
    }
   }
  }
 },
 "nbformat": 4,
 "nbformat_minor": 0
}