{
 "cells": [
  {
   "cell_type": "code",
   "execution_count": 1,
   "metadata": {
    "collapsed": true,
    "pycharm": {
     "is_executing": false
    }
   },
   "outputs": [],
   "source": [
    "from sklearn.datasets import load_iris\n",
    "from sklearn.model_selection  import train_test_split\n",
    "import numpy as np"
   ]
  },
  {
   "cell_type": "code",
   "execution_count": 2,
   "outputs": [],
   "source": [
    "iris = load_iris() # 鸢尾花数据集\n",
    "X, y =  iris.data, iris.target\n",
    "X_train, X_test, y_train, y_test = train_test_split(X, y, test_size=0.2)"
   ],
   "metadata": {
    "collapsed": false,
    "pycharm": {
     "name": "#%%\n",
     "is_executing": false
    }
   }
  },
  {
   "cell_type": "code",
   "execution_count": 3,
   "outputs": [
    {
     "data": {
      "text/plain": "array([0, 1, 2])"
     },
     "metadata": {},
     "output_type": "execute_result",
     "execution_count": 3
    }
   ],
   "source": [
    "np.unique(y) # 多分类任务"
   ],
   "metadata": {
    "collapsed": false,
    "pycharm": {
     "name": "#%%\n",
     "is_executing": false
    }
   }
  },
  {
   "cell_type": "code",
   "execution_count": 4,
   "outputs": [
    {
     "data": {
      "text/plain": "AdaBoostClassifier(algorithm='SAMME.R',\n                   base_estimator=DecisionTreeClassifier(ccp_alpha=0.0,\n                                                         class_weight=None,\n                                                         criterion='gini',\n                                                         max_depth=2,\n                                                         max_features=None,\n                                                         max_leaf_nodes=None,\n                                                         min_impurity_decrease=0.0,\n                                                         min_impurity_split=None,\n                                                         min_samples_leaf=1,\n                                                         min_samples_split=2,\n                                                         min_weight_fraction_leaf=0.0,\n                                                         presort='deprecated',\n                                                         random_state=None,\n                                                         splitter='best'),\n                   learning_rate=1, n_estimators=100, random_state=None)"
     },
     "metadata": {},
     "output_type": "execute_result",
     "execution_count": 4
    }
   ],
   "source": [
    "from sklearn.ensemble import AdaBoostClassifier\n",
    "from sklearn.tree import DecisionTreeClassifier\n",
    "\n",
    "tree = DecisionTreeClassifier(max_depth=2, min_samples_split=2) # 多个超参数需要在此处调节\n",
    "\n",
    "clf = AdaBoostClassifier(base_estimator=tree, # 基本分类器.如果为None,则为DecisionTreeClassifier(max_depth=1),即决策树桩\n",
    "                         n_estimators=100, # 基本分类器的数量\n",
    "                         learning_rate=1) # Learning rate shrinks the contribution of each classifier by learning_rate(默认learning_rate=1)\n",
    "'''\n",
    "learning_ratefloat, optional (default=1.)\n",
    "    Learning rate shrinks the contribution of each classifier by learning_rate. \n",
    "    There is a trade-off between learning_rate and n_estimators.\n",
    "'''\n",
    "\n",
    "clf.fit(X_train, y_train) # 可以处理多分类任务(基本分类器决策树可以处理多分类任务)"
   ],
   "metadata": {
    "collapsed": false,
    "pycharm": {
     "name": "#%%\n",
     "is_executing": false
    }
   }
  },
  {
   "cell_type": "code",
   "execution_count": 5,
   "outputs": [
    {
     "data": {
      "text/plain": "array([1, 2, 1, 2, 2, 0, 1, 0, 0, 0, 2, 1, 1, 2, 0, 2, 0, 0, 0, 1, 0, 2,\n       0, 0, 1, 1, 1, 0, 1, 2])"
     },
     "metadata": {},
     "output_type": "execute_result",
     "execution_count": 5
    }
   ],
   "source": [
    "clf.predict(X_test) # 特征的重要性(值越大,重要程度越高)"
   ],
   "metadata": {
    "collapsed": false,
    "pycharm": {
     "name": "#%%\n",
     "is_executing": false
    }
   }
  },
  {
   "cell_type": "code",
   "execution_count": 45,
   "outputs": [
    {
     "data": {
      "text/plain": "array([[8.16937238e-11, 9.99939128e-01, 6.08717434e-05],\n       [5.71338646e-14, 6.88545876e-02, 9.31145412e-01],\n       [5.60482843e-11, 9.99885206e-01, 1.14793496e-04],\n       [2.45226299e-16, 3.06890490e-11, 1.00000000e+00],\n       [5.72656122e-14, 7.02012116e-02, 9.29798788e-01],\n       [9.99999339e-01, 6.52595570e-07, 8.59666689e-09],\n       [9.95093251e-11, 9.99952422e-01, 4.75783592e-05],\n       [9.99999363e-01, 6.28753197e-07, 8.63349168e-09],\n       [9.99999363e-01, 6.28753197e-07, 8.63349168e-09],\n       [9.99999339e-01, 6.52595570e-07, 8.59666689e-09],\n       [2.45226299e-16, 3.06890490e-11, 1.00000000e+00],\n       [7.20680537e-12, 9.99601081e-01, 3.98918692e-04],\n       [8.16937238e-11, 9.99939128e-01, 6.08717434e-05],\n       [2.45226299e-16, 3.06890490e-11, 1.00000000e+00],\n       [9.99999339e-01, 6.52595570e-07, 8.59666689e-09],\n       [3.66695335e-15, 4.43052650e-09, 9.99999996e-01],\n       [9.99999369e-01, 6.22619877e-07, 8.54927527e-09],\n       [9.99999369e-01, 6.22619877e-07, 8.54927527e-09],\n       [9.99999363e-01, 6.28753197e-07, 8.63349168e-09],\n       [7.85850274e-14, 9.14350393e-01, 8.56496066e-02],\n       [9.99999339e-01, 6.52595570e-07, 8.59666689e-09],\n       [7.55574693e-14, 7.60732835e-02, 9.23926717e-01],\n       [9.99999339e-01, 6.52595570e-07, 8.59666689e-09],\n       [9.99999339e-01, 6.52595570e-07, 8.59666689e-09],\n       [8.08968228e-11, 9.99939128e-01, 6.08717362e-05],\n       [6.60677886e-11, 9.99926286e-01, 7.37137176e-05],\n       [1.34995826e-10, 9.99953373e-01, 4.66270817e-05],\n       [9.99999339e-01, 6.52595570e-07, 8.59666689e-09],\n       [8.16937238e-11, 9.99939128e-01, 6.08717434e-05],\n       [5.72818234e-14, 7.13472344e-02, 9.28652766e-01]])"
     },
     "metadata": {},
     "output_type": "execute_result",
     "execution_count": 45
    }
   ],
   "source": [
    "# 预测结果可以输出为概率向量\n",
    "proba = clf.predict_proba(X_test)\n",
    "proba"
   ],
   "metadata": {
    "collapsed": false,
    "pycharm": {
     "name": "#%%\n",
     "is_executing": false
    }
   }
  },
  {
   "cell_type": "code",
   "execution_count": 46,
   "outputs": [
    {
     "data": {
      "text/plain": "array([0.99993913, 0.93114541, 0.99988521, 1.        , 0.92979879,\n       0.99999934, 0.99995242, 0.99999936, 0.99999936, 0.99999934,\n       1.        , 0.99960108, 0.99993913, 1.        , 0.99999934,\n       1.        , 0.99999937, 0.99999937, 0.99999936, 0.91435039,\n       0.99999934, 0.92392672, 0.99999934, 0.99999934, 0.99993913,\n       0.99992629, 0.99995337, 0.99999934, 0.99993913, 0.92865277])"
     },
     "metadata": {},
     "output_type": "execute_result",
     "execution_count": 46
    }
   ],
   "source": [
    "a = np.max(proba, axis=1)\n",
    "a # 每条数据输出的概率向量中最大的概率"
   ],
   "metadata": {
    "collapsed": false,
    "pycharm": {
     "name": "#%%\n",
     "is_executing": false
    }
   }
  },
  {
   "cell_type": "code",
   "execution_count": 49,
   "outputs": [
    {
     "data": {
      "text/plain": "array([1, 2, 1, 2, 2, 0, 1, 0, 0, 0, 2, 1, 1, 2, 0, 2, 0, 0, 0, 1, 0, 2,\n       0, 0, 1, 1, 1, 0, 1, 2], dtype=int64)"
     },
     "metadata": {},
     "output_type": "execute_result",
     "execution_count": 49
    }
   ],
   "source": [
    "b = list()\n",
    "for i in range(proba.shape[0]):\n",
    "    b.append(np.argwhere(proba[i,:] == a[i])[0][0])\n",
    "np.array(b) # 最大概率属于的类"
   ],
   "metadata": {
    "collapsed": false,
    "pycharm": {
     "name": "#%%\n",
     "is_executing": false
    }
   }
  },
  {
   "cell_type": "code",
   "execution_count": 12,
   "outputs": [
    {
     "data": {
      "text/plain": "0.9"
     },
     "metadata": {},
     "output_type": "execute_result",
     "execution_count": 12
    }
   ],
   "source": [
    "clf.score(X_test, y_test)"
   ],
   "metadata": {
    "collapsed": false,
    "pycharm": {
     "name": "#%%\n",
     "is_executing": false
    }
   }
  },
  {
   "cell_type": "code",
   "execution_count": 8,
   "outputs": [
    {
     "data": {
      "text/plain": "array([3.33333333e-02, 2.55269494e-02, 1.14025324e-01, 5.95571380e-03,\n       1.79318815e-02, 3.85582803e-03, 2.01872573e-02, 5.97714864e-05,\n       7.20350269e-05, 1.37487096e-04, 6.55067507e-03, 2.45260394e-05,\n       1.83957690e-05, 1.70122853e-04, 1.61740436e-03, 3.60127084e-05,\n       8.23874649e-06, 2.16965865e-04, 5.21481506e-04, 5.22529590e-05,\n       5.17835444e-06, 2.50513732e-04, 2.13835736e-04, 7.03023136e-05,\n       4.15367067e-06, 2.67397210e-04, 1.07724964e-04, 8.83854014e-05,\n       4.01530027e-06, 2.70129593e-04, 6.45296903e-05, 1.04971405e-04,\n       4.47255737e-06, 2.61482617e-04, 4.46725926e-05, 1.19002659e-04,\n       5.53043378e-06, 2.45662079e-04, 3.49612183e-05, 1.30008483e-04,\n       7.37322954e-06, 2.26729462e-04, 3.05409675e-05, 1.38025480e-04,\n       1.03032524e-05, 2.08363725e-04, 2.95697429e-05, 1.43556086e-04,\n       1.45093162e-05, 1.93868953e-04, 3.11148497e-05, 1.47694737e-04,\n       1.96419152e-05, 1.71691846e-04, 1.30377781e-05, 1.68530162e-04,\n       1.01279764e-01, 9.98812101e-02, 1.19367525e-03, 3.39813440e-04,\n       3.01218094e-04, 4.44135319e-05, 3.43100071e-04, 6.99970981e-04,\n       5.46880669e-05, 4.04659389e-02, 1.18843176e-01, 8.81713601e-02,\n       6.87217551e-06, 5.39488236e-08, 1.10997125e-03, 7.59186491e-07,\n       4.60508851e-04, 1.86308915e-06, 3.41096543e-04, 2.56339188e-09,\n       3.05847091e-03, 7.81978357e-09, 2.11086006e-03, 3.50655532e-07,\n       5.95270016e-04, 1.21323343e-06, 3.93506586e-04, 2.32239890e-09,\n       3.16047706e-03, 6.43687402e-09, 2.25201200e-03, 3.14720710e-07,\n       6.17070599e-04, 1.14253981e-06, 4.01457590e-04, 2.29059856e-09,\n       3.17498928e-03, 6.26379989e-09, 2.27251846e-03, 3.09991039e-07,\n       6.20187192e-04, 1.13297381e-06, 4.02583855e-04, 2.28618116e-09])"
     },
     "metadata": {},
     "output_type": "execute_result",
     "execution_count": 8
    }
   ],
   "source": [
    "clf.estimator_errors_ # 各个基本分类器的分类错误率"
   ],
   "metadata": {
    "collapsed": false,
    "pycharm": {
     "name": "#%%\n",
     "is_executing": false
    }
   }
  },
  {
   "cell_type": "code",
   "execution_count": 9,
   "outputs": [
    {
     "data": {
      "text/plain": "array([0.0018299 , 0.39273444, 0.39785661, 0.20757905])"
     },
     "metadata": {},
     "output_type": "execute_result",
     "execution_count": 9
    }
   ],
   "source": [
    "clf.feature_importances_ # 特征的相对重要性(值越大,重要程度越高)"
   ],
   "metadata": {
    "collapsed": false,
    "pycharm": {
     "name": "#%%\n",
     "is_executing": false
    }
   }
  }
 ],
 "metadata": {
  "kernelspec": {
   "display_name": "Python 3",
   "language": "python",
   "name": "python3"
  },
  "language_info": {
   "codemirror_mode": {
    "name": "ipython",
    "version": 2
   },
   "file_extension": ".py",
   "mimetype": "text/x-python",
   "name": "python",
   "nbconvert_exporter": "python",
   "pygments_lexer": "ipython2",
   "version": "2.7.6"
  }
 },
 "nbformat": 4,
 "nbformat_minor": 0
}