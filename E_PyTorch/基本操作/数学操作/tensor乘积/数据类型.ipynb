{
 "cells": [
  {
   "cell_type": "code",
   "execution_count": 1,
   "outputs": [],
   "source": [
    "import torch"
   ],
   "metadata": {
    "collapsed": false,
    "pycharm": {
     "name": "#%%\n"
    }
   }
  },
  {
   "cell_type": "markdown",
   "source": [
    "### 参考类似numpy/基本操作数组乘积/数据类型"
   ],
   "metadata": {
    "collapsed": false,
    "pycharm": {
     "name": "#%% md\n"
    }
   }
  },
  {
   "cell_type": "markdown",
   "source": [
    "## 标量/scalar"
   ],
   "metadata": {
    "collapsed": false,
    "pycharm": {
     "name": "#%% md\n"
    }
   }
  },
  {
   "cell_type": "code",
   "execution_count": 2,
   "outputs": [
    {
     "name": "stdout",
     "output_type": "stream",
     "text": [
      "0\n",
      "torch.Size([])\n",
      "tensor(10)\n"
     ]
    }
   ],
   "source": [
    "arr_scalar = torch.tensor(10)  # 标量\n",
    "print(arr_scalar.ndim)\n",
    "print(arr_scalar.shape)\n",
    "print(arr_scalar)"
   ],
   "metadata": {
    "collapsed": false,
    "pycharm": {
     "name": "#%%\n"
    }
   }
  },
  {
   "cell_type": "markdown",
   "source": [
    "#### 向量/vector"
   ],
   "metadata": {
    "collapsed": false,
    "pycharm": {
     "name": "#%% md\n"
    }
   }
  },
  {
   "cell_type": "code",
   "execution_count": 3,
   "outputs": [
    {
     "name": "stdout",
     "output_type": "stream",
     "text": [
      "1\n",
      "torch.Size([3])\n",
      "tensor([1, 2, 3])\n"
     ]
    }
   ],
   "source": [
    "arr_vector = torch.tensor([1, 2, 3])  # 向量\n",
    "print(arr_vector.ndim)\n",
    "print(arr_vector.shape)\n",
    "print(arr_vector)"
   ],
   "metadata": {
    "collapsed": false,
    "pycharm": {
     "name": "#%%\n"
    }
   }
  },
  {
   "cell_type": "markdown",
   "source": [
    "#### 矩阵/matrix"
   ],
   "metadata": {
    "collapsed": false,
    "pycharm": {
     "name": "#%% md\n"
    }
   }
  },
  {
   "cell_type": "code",
   "execution_count": 4,
   "outputs": [
    {
     "name": "stdout",
     "output_type": "stream",
     "text": [
      "2\n",
      "torch.Size([2, 3])\n",
      "tensor([[1, 2, 3],\n",
      "        [2, 3, 4]])\n"
     ]
    }
   ],
   "source": [
    "arr_matrix = torch.tensor([[1, 2, 3], [2, 3, 4]])  # 矩阵\n",
    "print(arr_matrix.ndim)\n",
    "print(arr_matrix.shape)\n",
    "print(arr_matrix)"
   ],
   "metadata": {
    "collapsed": false,
    "pycharm": {
     "name": "#%%\n"
    }
   }
  },
  {
   "cell_type": "markdown",
   "source": [
    "#### 高维矩阵(ndim>2)"
   ],
   "metadata": {
    "collapsed": false,
    "pycharm": {
     "name": "#%% md\n"
    }
   }
  },
  {
   "cell_type": "code",
   "source": [
    "arr_mul_matrix = torch.randn(3, 4, 5)\n",
    "print(arr_mul_matrix.ndim)\n",
    "print(arr_mul_matrix.shape)\n",
    "print(arr_mul_matrix)\n",
    "\n"
   ],
   "metadata": {
    "collapsed": false,
    "pycharm": {
     "name": "#%%\n"
    }
   },
   "execution_count": 5,
   "outputs": [
    {
     "name": "stdout",
     "output_type": "stream",
     "text": [
      "3\n",
      "torch.Size([3, 4, 5])\n",
      "tensor([[[-1.0916, -0.5561,  0.2494, -1.1408, -0.8258],\n",
      "         [ 0.9154, -0.2549,  1.2740, -0.8957, -0.4720],\n",
      "         [ 0.9578,  0.2272,  0.5415,  1.2997,  1.3651],\n",
      "         [-1.9962,  0.0868, -0.7106,  0.4563, -0.6775]],\n",
      "\n",
      "        [[ 0.1428,  0.0897, -0.1142, -0.0813, -0.1430],\n",
      "         [ 0.4661,  0.3535, -1.2587, -0.5259, -0.7321],\n",
      "         [ 0.4372, -0.5701, -2.0482, -0.3695, -0.5245],\n",
      "         [ 0.1010, -1.7244,  1.4015,  0.5585, -0.3637]],\n",
      "\n",
      "        [[-0.2122, -0.5917, -0.2613,  0.3528,  0.2051],\n",
      "         [ 0.7551, -0.5585, -0.9677,  0.1078, -0.9382],\n",
      "         [ 0.3475, -1.3767, -0.3611, -0.8340, -1.0467],\n",
      "         [ 0.6602,  0.7307,  0.2447,  0.4940, -1.3034]]])\n"
     ]
    }
   ]
  }
 ],
 "metadata": {
  "kernelspec": {
   "display_name": "Python 3",
   "language": "python",
   "name": "python3"
  },
  "language_info": {
   "codemirror_mode": {
    "name": "ipython",
    "version": 2
   },
   "file_extension": ".py",
   "mimetype": "text/x-python",
   "name": "python",
   "nbconvert_exporter": "python",
   "pygments_lexer": "ipython2",
   "version": "2.7.6"
  }
 },
 "nbformat": 4,
 "nbformat_minor": 0
}