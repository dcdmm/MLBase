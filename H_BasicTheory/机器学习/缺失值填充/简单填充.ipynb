{
 "cells": [
  {
   "cell_type": "code",
   "execution_count": 26,
   "metadata": {
    "collapsed": true
   },
   "outputs": [],
   "source": [
    "import numpy as np\n",
    "from sklearn.impute import SimpleImputer"
   ]
  },
  {
   "cell_type": "code",
   "execution_count": 27,
   "outputs": [
    {
     "data": {
      "text/plain": "array([[ 7.        ,  2.        ,  3.        ],\n       [ 4.        ,  3.28571429,  6.        ],\n       [10.        ,  5.        ,  7.28571429],\n       [10.        ,  5.        ,  9.        ],\n       [10.        ,  3.        ,  5.        ],\n       [10.        ,  1.        , 10.        ],\n       [10.        ,  5.        ,  9.        ],\n       [10.        ,  2.        ,  9.        ]])"
     },
     "execution_count": 27,
     "metadata": {},
     "output_type": "execute_result"
    }
   ],
   "source": [
    "imp_mean = SimpleImputer(missing_values=np.nan,\n",
    "                         # 每列的平均值填充缺失值\n",
    "                         strategy='mean')\n",
    "imp_mean.fit_transform([[7, 2, 3],\n",
    "                        [4, np.nan, 6],\n",
    "                        [10, 5, np.nan],\n",
    "                        [10, 5, 9],\n",
    "                        [10, 3, 5],\n",
    "                        [10, 1, 10],\n",
    "                        [10, 5, 9],\n",
    "                        [10, 2, 9],\n",
    "                        ])\n"
   ],
   "metadata": {
    "collapsed": false,
    "pycharm": {
     "name": "#%%\n"
    }
   }
  },
  {
   "cell_type": "code",
   "execution_count": 28,
   "outputs": [
    {
     "name": "stdout",
     "output_type": "stream",
     "text": [
      "[[ 8.875       2.          3.        ]\n",
      " [ 4.          3.28571429  6.        ]\n",
      " [10.          3.28571429  9.        ]]\n"
     ]
    }
   ],
   "source": [
    "X = [[np.nan, 2, 3],\n",
    "     [4, np.nan, 6],\n",
    "     [10, np.nan, 9]]\n",
    "print(imp_mean.transform(X))"
   ],
   "metadata": {
    "collapsed": false,
    "pycharm": {
     "name": "#%%\n"
    }
   }
  },
  {
   "cell_type": "code",
   "execution_count": 29,
   "outputs": [
    {
     "data": {
      "text/plain": "array([[ 7.,  2.,  3.],\n       [ 4.,  3.,  6.],\n       [10.,  5.,  9.],\n       [10.,  5.,  9.],\n       [10.,  3.,  5.],\n       [10.,  1., 10.],\n       [10.,  5.,  9.],\n       [10.,  2.,  9.]])"
     },
     "execution_count": 29,
     "metadata": {},
     "output_type": "execute_result"
    }
   ],
   "source": [
    "imp_median = SimpleImputer(missing_values=np.nan,\n",
    "                           # 每列的中位数填充缺失值\n",
    "                           strategy='median')\n",
    "imp_median.fit_transform([[7, 2, 3],\n",
    "                          [4, np.nan, 6],\n",
    "                          [10, 5, np.nan],\n",
    "                          [10, 5, 9],\n",
    "                          [10, 3, 5],\n",
    "                          [10, 1, 10],\n",
    "                          [10, 5, 9],\n",
    "                          [10, 2, 9],\n",
    "                          ])"
   ],
   "metadata": {
    "collapsed": false,
    "pycharm": {
     "name": "#%%\n"
    }
   }
  },
  {
   "cell_type": "code",
   "execution_count": 30,
   "outputs": [
    {
     "data": {
      "text/plain": "array([[ 7.,  2.,  3.],\n       [ 4.,  5.,  6.],\n       [10.,  5.,  9.],\n       [10.,  5.,  9.],\n       [10.,  3.,  5.],\n       [10.,  1., 10.],\n       [10.,  5.,  9.],\n       [10.,  2.,  9.]])"
     },
     "execution_count": 30,
     "metadata": {},
     "output_type": "execute_result"
    }
   ],
   "source": [
    "imp_most_frequent = SimpleImputer(missing_values=np.nan,\n",
    "                                  # 每列频率最高的值填充缺失值\n",
    "                                  strategy='most_frequent')\n",
    "imp_most_frequent.fit_transform([[7, 2, 3],\n",
    "                                 [4, np.nan, 6],\n",
    "                                 [10, 5, np.nan],\n",
    "                                 [10, 5, 9],\n",
    "                                 [10, 3, 5],\n",
    "                                 [10, 1, 10],\n",
    "                                 [10, 5, 9],\n",
    "                                 [10, 2, 9],\n",
    "                                 ])"
   ],
   "metadata": {
    "collapsed": false,
    "pycharm": {
     "name": "#%%\n"
    }
   }
  },
  {
   "cell_type": "code",
   "execution_count": 31,
   "outputs": [
    {
     "data": {
      "text/plain": "array([[ 7.,  2.,  3.],\n       [ 4., -1.,  6.],\n       [10.,  5., -1.],\n       [10.,  5.,  9.],\n       [10.,  3.,  5.],\n       [10.,  1., 10.],\n       [10.,  5.,  9.],\n       [10.,  2.,  9.]])"
     },
     "execution_count": 31,
     "metadata": {},
     "output_type": "execute_result"
    }
   ],
   "source": [
    "imp_constant = SimpleImputer(missing_values=np.nan,\n",
    "                                  # 使用fill_value填充缺失值\n",
    "                                  strategy='constant', fill_value=-1)\n",
    "imp_constant.fit_transform([[7, 2, 3],\n",
    "                                 [4, np.nan, 6],\n",
    "                                 [10, 5, np.nan],\n",
    "                                 [10, 5, 9],\n",
    "                                 [10, 3, 5],\n",
    "                                 [10, 1, 10],\n",
    "                                 [10, 5, 9],\n",
    "                                 [10, 2, 9],\n",
    "                                 ])\n"
   ],
   "metadata": {
    "collapsed": false,
    "pycharm": {
     "name": "#%%\n"
    }
   }
  },
  {
   "cell_type": "code",
   "execution_count": 31,
   "outputs": [],
   "source": [],
   "metadata": {
    "collapsed": false,
    "pycharm": {
     "name": "#%%\n"
    }
   }
  }
 ],
 "metadata": {
  "kernelspec": {
   "display_name": "Python 3",
   "language": "python",
   "name": "python3"
  },
  "language_info": {
   "codemirror_mode": {
    "name": "ipython",
    "version": 2
   },
   "file_extension": ".py",
   "mimetype": "text/x-python",
   "name": "python",
   "nbconvert_exporter": "python",
   "pygments_lexer": "ipython2",
   "version": "2.7.6"
  }
 },
 "nbformat": 4,
 "nbformat_minor": 0
}