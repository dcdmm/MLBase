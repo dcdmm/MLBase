{
 "cells": [
  {
   "cell_type": "code",
   "execution_count": 7,
   "metadata": {
    "pycharm": {
     "is_executing": false
    }
   },
   "outputs": [],
   "source": [
    "# 必须采用此绘图模式\n",
    "%matplotlib qt5\n",
    "import numpy as np\n",
    "import matplotlib.pyplot as plt\n",
    "import matplotlib.animation as animation"
   ]
  },
  {
   "cell_type": "code",
   "execution_count": 8,
   "metadata": {
    "pycharm": {
     "is_executing": false,
     "name": "#%%\n"
    }
   },
   "outputs": [
    {
     "data": {
      "text/plain": "'\\nfunc : callable\\n    The function to call at each frame. The first argument will be the next value in frames. Any additional positional arguments can be supplied via the fargs parameter.\\n    The required signature is: def func(frame, *fargs) -> iterable_of_artists\\n   \\nframes : iterable, int, generator function, or None, optional\\n    Source of data to pass func and each frame of the animation\\n    If an iterable, then simply use the values provided. If the iterable has a length, it will override the save_count kwarg.\\n    If an integer, then equivalent to passing range(frames)\\n    If a generator function, then must have the signature: def gen_function() -> obj\\n    If None, then equivalent to passing itertools.count.\\n \\ninterval : number, optional\\n    Delay between frames in milliseconds. Defaults to 200.\\n\\nrepeat_delay : number, optional\\n    If the animation in repeated, adds a delay in milliseconds before repeating the animation. Defaults to None.\\n\\nrepeat : bool, optional\\n    Controls whether the animation should repeat when the sequence of frames is completed. Defaults to True.\\n\\nblit : bool, optional\\n    Controls whether blitting is used to optimize drawing. \\n\\n'"
     },
     "metadata": {},
     "output_type": "execute_result",
     "execution_count": 8
    }
   ],
   "source": [
    "x = np.linspace(0, 2*np.pi, 100)\n",
    "y = np.sin(x) \n",
    "fig = plt.figure(tight_layout=True)\n",
    "plt.plot(x,y)\n",
    "point_ani, = plt.plot(x[0], y[0], color='red', marker='o') # plot函数返回值为列表\n",
    "text_pt = plt.text(4, 0.8, '', fontsize=16) \n",
    "plt.grid(ls=\"--\")\n",
    "\n",
    "\n",
    "def update_points(num):\n",
    "    \"\"\"更新动点坐标\"\"\"\n",
    "    print('num为: ', num)\n",
    "    point_ani.set_data(x[num], y[num]) # Set the x and y data.\n",
    "    text_pt.set_position((x[num], y[num]))\n",
    "    text_pt.set_text(\"x=%.3f, y=%.3f\"%(x[num], y[num])) # Set the text string s. It may contain newlines (\\n) or math in LaTeX syntax.\n",
    "    return point_ani, text_pt # 返回值为元组\n",
    "\n",
    "run_range = np.arange(0, 100)\n",
    "ani = animation.FuncAnimation(fig=fig, \n",
    "                              func=update_points, # 动画每一帧所调用的函数,函数的第一个参数是frames的下一个值\n",
    "                              frames=run_range, \n",
    "                              interval=50, # 帧之间的延迟(毫秒)\n",
    "                              repeat=True, # 是否重复播放动画\n",
    "                              repeat_delay=1000, # 重复播放动画之间添加的延迟(毫秒)\n",
    "                              blit=True) # 尝试将blit设置为True or False,选择较合适的效果\n",
    "plt.show()\n",
    "'''\n",
    "func : callable\n",
    "    The function to call at each frame. The first argument will be the next value in frames. Any additional positional arguments can be supplied via the fargs parameter.\n",
    "    The required signature is: def func(frame, *fargs) -> iterable_of_artists\n",
    "   \n",
    "frames : iterable, int, generator function, or None, optional\n",
    "    Source of data to pass func and each frame of the animation\n",
    "    If an iterable, then simply use the values provided. If the iterable has a length, it will override the save_count kwarg.\n",
    "    If an integer, then equivalent to passing range(frames)\n",
    "    If a generator function, then must have the signature: def gen_function() -> obj\n",
    "    If None, then equivalent to passing itertools.count.\n",
    " \n",
    "interval : number, optional\n",
    "    Delay between frames in milliseconds. Defaults to 200.\n",
    "\n",
    "repeat_delay : number, optional\n",
    "    If the animation in repeated, adds a delay in milliseconds before repeating the animation. Defaults to None.\n",
    "\n",
    "repeat : bool, optional\n",
    "    Controls whether the animation should repeat when the sequence of frames is completed. Defaults to True.\n",
    "\n",
    "blit : bool, optional\n",
    "    Controls whether blitting is used to optimize drawing. \n",
    "\n",
    "'''"
   ]
  }
 ],
 "metadata": {
  "kernelspec": {
   "display_name": "Python 3",
   "language": "python",
   "name": "python3"
  },
  "language_info": {
   "codemirror_mode": {
    "name": "ipython",
    "version": 3
   },
   "file_extension": ".py",
   "mimetype": "text/x-python",
   "name": "python",
   "nbconvert_exporter": "python",
   "pygments_lexer": "ipython3",
   "version": "3.7.4"
  },
  "pycharm": {
   "stem_cell": {
    "cell_type": "raw",
    "source": [],
    "metadata": {
     "collapsed": false
    }
   }
  }
 },
 "nbformat": 4,
 "nbformat_minor": 1
}