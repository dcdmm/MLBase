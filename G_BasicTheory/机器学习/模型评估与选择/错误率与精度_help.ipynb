{
 "cells": [
  {
   "cell_type": "markdown",
   "metadata": {
    "collapsed": true,
    "pycharm": {
     "name": "#%% md\n"
    }
   },
   "source": [
    "&emsp;&emsp;在预测任务中,给定样例集$ D=\\{ (\\mathbf{x}_1, y_1),(\\mathbf{x}_2, y_2), \\dots, (\\mathbf{x}_n, y_n) \\} $,其中$y_i$是示例$\\mathbf{x}_i$的真实\n",
    "标记.要评估学习器$f$的性能,就要把学习器预测结果与真实标记$y$进行比较.                 \n",
    "&emsp;&emsp;错误率和精度,这是分类任务最常用到的两种性能度量(回归任务最常用的性能度量是均方误差和可决系数R平方),既适用于\n",
    "二分类任务,也适用于多分类任务.错误率是分类错误的样本数所占样本总数的比例,精度则是分类正确的样本数占样本总数的比例.对样例集$D$,分类错    \n",
    "误率定义为                   \n",
    "$$ E(f;D)=\\frac{1}{m} \\sum_{i=1}^{m} \\mathbb{I}(f(\\mathbf{x}_i) \\neq y_i)  $$            \n",
    "&emsp;&emsp;精度则定义为        \n",
    "$$\n",
    "\\begin{aligned}\n",
    "\tacc(f;D) &= \\frac{1}{m} \\sum_{i=1}^{m} (f(\\mathbf{x}_i)=y_i) \\\\\n",
    "\t  \t\t &=1 - E(f;D)\n",
    "\\end{aligned} \n",
    "$$\n",
    "&emsp;&emsp;更一般的,对于数据分布$\\mathcal{D}$和概率密度函数$p(\\cdot)$,错误率与精度可分别描述为        \n",
    "$$ E(f;D) = \\int_{\\mathbf{x} \\sim \\mathcal{D}} \\mathbb{I}(f(\\mathbf{x}) \\neq y) p(\\mathbf{x})dx  \n",
    "\\begin{aligned}      \n",
    "acc(f;D) &= \\int_{\\mathbf{x} \\sim \\mathcal{D}} \\mathbb{I}(f(\\mathbf{x}) = y) p(x)dx  \\\\\n",
    "         &= 1 - E(f;D) \n",
    "\\end{aligned}\n",
    "$$\n",
    "\n",
    "\n",
    "\n"
   ]
  }
 ],
 "metadata": {
  "kernelspec": {
   "display_name": "Python 3.9.7 ('base')",
   "language": "python",
   "name": "python3"
  },
  "language_info": {
   "codemirror_mode": {
    "name": "ipython",
    "version": 3
   },
   "file_extension": ".py",
   "mimetype": "text/x-python",
   "name": "python",
   "nbconvert_exporter": "python",
   "pygments_lexer": "ipython3",
   "version": "3.9.7"
  },
  "pycharm": {
   "stem_cell": {
    "cell_type": "raw",
    "metadata": {
     "collapsed": false
    },
    "source": []
   }
  },
  "toc": {
   "base_numbering": 1,
   "nav_menu": {},
   "number_sections": true,
   "sideBar": true,
   "skip_h1_title": false,
   "title_cell": "Table of Contents",
   "title_sidebar": "Contents",
   "toc_cell": false,
   "toc_position": {},
   "toc_section_display": true,
   "toc_window_display": false
  },
  "vscode": {
   "interpreter": {
    "hash": "f0f00f8362c5a3720da2ab726d268bea0510b30405e73c37028dca2c1c343753"
   }
  }
 },
 "nbformat": 4,
 "nbformat_minor": 1
}
