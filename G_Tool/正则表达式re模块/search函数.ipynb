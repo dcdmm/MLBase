{
 "cells": [
  {
   "cell_type": "code",
   "execution_count": 49,
   "metadata": {
    "collapsed": true
   },
   "outputs": [],
   "source": [
    "import re"
   ]
  },
  {
   "cell_type": "code",
   "execution_count": 50,
   "outputs": [
    {
     "name": "stdout",
     "output_type": "stream",
     "text": [
      "<re.Match object; span=(3, 6), match='aab'>\n",
      "3\n",
      "6\n",
      "(3, 6)\n",
      "aab\n",
      "aab\n",
      "()\n"
     ]
    }
   ],
   "source": [
    "# Scan through string looking for a match to the pattern, returning a Match object, or None if no match was found.\n",
    "result = re.search('a+b', 'vvvaabaaabvvvaaaaab')  # 返回第一个成功的匹配\n",
    "'''\n",
    "groups()           方法返回一个包含所有小组字符串的元组,从1到...所含的小组号(不包括0)\n",
    "group(group1, …)   方法用于获得一个或多个分组匹配的字符串,当要获得整个匹配的子串时,可直接使用group()或group(0)\n",
    "start(group)       方法用于获取分组匹配的子串在整个字符串中的起始位置(子串第一个字符的索引),参数默认值为 0\n",
    "end(group)         方法用于获取分组匹配的子串在整个字符串中的结束位置(子串最后一个字符的索引+1),参数默认值为 0\n",
    "span(group)        方法返回 (start(group), end(group))\n",
    "'''\n",
    "print(result)\n",
    "print(result.start())\n",
    "print(result.end())\n",
    "print(result.span())\n",
    "print(result.group())  # 整个正则表达式匹配的内容\n",
    "print(result.group(0))  # 与上等价\n",
    "print(result.groups())"
   ],
   "metadata": {
    "collapsed": false,
    "pycharm": {
     "name": "#%%\n"
    }
   }
  },
  {
   "cell_type": "code",
   "execution_count": 51,
   "outputs": [
    {
     "name": "stdout",
     "output_type": "stream",
     "text": [
      "(4, 10)\n",
      "taobao\n",
      "没有该匹配\n"
     ]
    }
   ],
   "source": [
    "output0 = re.search('taobao', 'www.taobao.com')\n",
    "output1 = re.search('jingodong', 'www.taobao.com')\n",
    "\n",
    "check_list = [output0, output1]\n",
    "for i in check_list:\n",
    "    if i is None:  # None对象没有start,end,span,group,groups方法,不判断直接调用这两个方法,可能会出现异常\n",
    "        print('没有该匹配')\n",
    "    else:\n",
    "        print(i.span())\n",
    "        print(i.group())"
   ],
   "metadata": {
    "collapsed": false,
    "pycharm": {
     "name": "#%%\n"
    }
   }
  },
  {
   "cell_type": "code",
   "execution_count": 52,
   "outputs": [
    {
     "name": "stdout",
     "output_type": "stream",
     "text": [
      "searchOjb.span (0, 26)\n",
      "searchOjb.span (0, 4)\n",
      "searchObj.group() :  Cats are smarter than dogs\n",
      "searchObj.group(1) :  Cats\n",
      "searchObj.group(2) :  smarter\n",
      "searchObj.groups() ('Cats', 'smarter')\n"
     ]
    }
   ],
   "source": [
    "line = \"Cats are smarter than dogs\"\n",
    "\n",
    "searchObj = re.search(r'(.*) are (.*?) .*', line, re.M | re.I)\n",
    "\n",
    "if searchObj:\n",
    "    print('searchOjb.span', searchObj.span(0))\n",
    "    print('searchOjb.span', searchObj.span(1))\n",
    "    print(\"searchObj.group() : \", searchObj.group())\n",
    "    print(\"searchObj.group(1) : \", searchObj.group(1))\n",
    "    print(\"searchObj.group(2) : \", searchObj.group(2))\n",
    "    print(\"searchObj.groups()\", searchObj.groups())\n",
    "else:\n",
    "    print(\"Nothing found!!\")"
   ],
   "metadata": {
    "collapsed": false,
    "pycharm": {
     "name": "#%%\n"
    }
   }
  },
  {
   "cell_type": "code",
   "execution_count": 52,
   "outputs": [],
   "source": [
    "\n"
   ],
   "metadata": {
    "collapsed": false,
    "pycharm": {
     "name": "#%%\n"
    }
   }
  }
 ],
 "metadata": {
  "kernelspec": {
   "display_name": "Python 3",
   "language": "python",
   "name": "python3"
  },
  "language_info": {
   "codemirror_mode": {
    "name": "ipython",
    "version": 2
   },
   "file_extension": ".py",
   "mimetype": "text/x-python",
   "name": "python",
   "nbconvert_exporter": "python",
   "pygments_lexer": "ipython2",
   "version": "2.7.6"
  }
 },
 "nbformat": 4,
 "nbformat_minor": 0
}