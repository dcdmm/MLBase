{
 "cells": [
  {
   "cell_type": "code",
   "execution_count": 14,
   "metadata": {},
   "outputs": [],
   "source": [
    "from colorama import Fore, Back, Style"
   ]
  },
  {
   "cell_type": "code",
   "execution_count": 15,
   "metadata": {},
   "outputs": [
    {
     "name": "stdout",
     "output_type": "stream",
     "text": [
      "\u001B[30msome black text\n",
      "\u001B[31msome red text\n",
      "\u001B[32msome green text\n",
      "\u001B[33msome yellow text\n",
      "\u001B[34msome blue text\n",
      "\u001B[35msome magenta text\n",
      "\u001B[36msome cyan text\n",
      "\u001B[37msome white text\n",
      "未重置\n",
      "\u001B[0m重置后\n"
     ]
    }
   ],
   "source": [
    "print(Fore.BLACK + 'some black text')\n",
    "print(Fore.RED + 'some red text')\n",
    "print(Fore.GREEN + 'some green text')\n",
    "print(Fore.YELLOW + 'some yellow text')\n",
    "print(Fore.BLUE + 'some blue text')\n",
    "print(Fore.MAGENTA + 'some magenta text')\n",
    "print(Fore.CYAN + 'some cyan text')\n",
    "print(Fore.WHITE + 'some white text')\n",
    "\n",
    "print('未重置')\n",
    "print(Style.RESET_ALL, end='')\n",
    "print('重置后')"
   ]
  },
  {
   "cell_type": "code",
   "execution_count": 16,
   "metadata": {},
   "outputs": [
    {
     "name": "stdout",
     "output_type": "stream",
     "text": [
      "\u001B[40mand with a black background\n",
      "\u001B[41mand with a red background\n",
      "\u001B[42mand with a green background\n",
      "\u001B[43mand with a yellow background\n",
      "\u001B[44mand with a blue background\n",
      "\u001B[45mand with a mageate background\n",
      "\u001B[46mand with a cyan background\n",
      "\u001B[47mand with a white background\n",
      "未重置\n",
      "\u001B[0m重置后\n"
     ]
    }
   ],
   "source": [
    "print(Back.BLACK + 'and with a black background')\n",
    "print(Back.RED + 'and with a red background')\n",
    "print(Back.GREEN + 'and with a green background')\n",
    "print(Back.YELLOW + 'and with a yellow background')\n",
    "print(Back.BLUE + 'and with a blue background')\n",
    "print(Back.MAGENTA + 'and with a mageate background')\n",
    "print(Back.CYAN + 'and with a cyan background')\n",
    "print(Back.WHITE + 'and with a white background')\n",
    "\n",
    "print('未重置')\n",
    "print(Style.RESET_ALL, end='')\n",
    "print('重置后')"
   ]
  },
  {
   "cell_type": "code",
   "execution_count": 17,
   "metadata": {},
   "outputs": [
    {
     "name": "stdout",
     "output_type": "stream",
     "text": [
      "\u001B[2mand in dim text\n",
      "\u001B[1mand in bright text\n",
      "\u001B[22mand in normal text\n",
      "未重置\n",
      "\u001B[0m重置后\n"
     ]
    }
   ],
   "source": [
    "print(Style.DIM + 'and in dim text')\n",
    "print(Style.BRIGHT + 'and in bright text')\n",
    "print(Style.NORMAL + 'and in normal text')\n",
    "\n",
    "print('未重置')\n",
    "print(Style.RESET_ALL, end='')\n",
    "print('重置后')"
   ]
  },
  {
   "cell_type": "code",
   "execution_count": 18,
   "metadata": {},
   "outputs": [
    {
     "name": "stdout",
     "output_type": "stream",
     "text": [
      "\u001B[47m\u001B[31mand with a white background\n"
     ]
    }
   ],
   "source": [
    "print(Back.WHITE + Fore.RED + 'and with a white background')  # 组合"
   ]
  }
 ],
 "metadata": {
  "kernelspec": {
   "display_name": "Python 3 (ipykernel)",
   "language": "python",
   "name": "python3"
  },
  "language_info": {
   "codemirror_mode": {
    "name": "ipython",
    "version": 3
   },
   "file_extension": ".py",
   "mimetype": "text/x-python",
   "name": "python",
   "nbconvert_exporter": "python",
   "pygments_lexer": "ipython3",
   "version": "3.8.12"
  },
  "toc": {
   "base_numbering": 1,
   "nav_menu": {},
   "number_sections": true,
   "sideBar": true,
   "skip_h1_title": false,
   "title_cell": "Table of Contents",
   "title_sidebar": "Contents",
   "toc_cell": false,
   "toc_position": {},
   "toc_section_display": true,
   "toc_window_display": false
  },
  "vscode": {
   "interpreter": {
    "hash": "0886a02735466d80c36da7d0d184a8055779d3e497a063b4720b0317b8699033"
   }
  }
 },
 "nbformat": 4,
 "nbformat_minor": 1
}