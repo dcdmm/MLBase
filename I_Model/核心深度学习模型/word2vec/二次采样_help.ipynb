{
 "cells": [
  {
   "cell_type": "markdown",
   "metadata": {
    "pycharm": {
     "name": "#%% md\n"
    }
   },
   "source": [
    "&emsp;&emsp;文本数据中一般会出现一些高频词,如英文中的'the'和'in',通常来说,在一个背景窗口中,\n",
    "一个词(如'chip')和较低频词(如'microprocessor')同时出现比和较高频率(如'the')同时出现对训练词嵌入模型更有益.\n",
    "因此,训练词嵌入模型可以同时对词进行二次采样.具体来说,数据集中每个被索引词$w_i$将有一定概率被丢弃,该丢弃概率为\n",
    "\n",
    "$$ P\\left(w_{i}\\right)=\\max \\left(1-\\sqrt{\\frac{t}{f\\left(w_{i}\\right)}}, 0\\right)  $$\n",
    "\n",
    "其中,$f(w_i)$是数据集词$w_i$的个数于总词数之比,常数$t$是一个超参数(一般设置为$10^{-5}$).\n",
    "易知,只有当$f(w_i) > t$时,才有可能在二次采样中丢弃词$w_i$,并且越高频的词被丢弃的概率越大."
   ]
  }
 ],
 "metadata": {
  "kernelspec": {
   "display_name": "Python 3 (ipykernel)",
   "language": "python",
   "name": "python3"
  },
  "language_info": {
   "codemirror_mode": {
    "name": "ipython",
    "version": 3
   },
   "file_extension": ".py",
   "mimetype": "text/x-python",
   "name": "python",
   "nbconvert_exporter": "python",
   "pygments_lexer": "ipython3",
   "version": "3.8.12"
  }
 },
 "nbformat": 4,
 "nbformat_minor": 4
}
