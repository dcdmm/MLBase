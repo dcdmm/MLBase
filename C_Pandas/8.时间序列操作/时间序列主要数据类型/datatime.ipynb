{
 "cells": [
  {
   "cell_type": "markdown",
   "source": [
    "datetime.datetime   -表示日期和时间的类，常用属性： year, month, day, hour, minute, second, microsecond, tzinfo"
   ],
   "metadata": {
    "pycharm": {
     "metadata": false,
     "name": "#%% md\n"
    }
   }
  },
  {
   "cell_type": "code",
   "execution_count": null,
   "outputs": [],
   "source": [
    "'''\n",
    "datetime.datetime(year, month, day, hour=0, minute=0, second=0, microsecond=0, tzinfo=None)\n",
    "必须的参数是 year(年)、month(月)、day(日)；tzinfo 可以是 None 或者 tzinfo 子类的实例对象；其余的参数可以是整数，并且在以下范围内：\n",
    "\n",
    "MINYEAR <= year <= MAXYEAR(也就是 1 ~ 9999)\n",
    "1 <= month <= 12\n",
    "1 <= day <= 根据 year 和 month 来决定(例如 2015年2月 只有 28 天)\n",
    "0 <= hour < 24\n",
    "0 <= minute < 60\n",
    "0 <= second < 60\n",
    "0 <= microsecond < 1000000\n",
    "注：如果参数超出范围，将引发 ValueError 异常\n",
    "\n",
    "datetime 类方法(classmethod)：\n",
    "datetime.today()\n",
    "- 返回一个表示当前本地时间的 datetime 对象，等同于 datetime.fromtimestamp(time.time())\n",
    "datetime.now(tz=None)\n",
    "- 返回一个表示当前本地时间的 datetime 对象；如果提供了参数 tz，则获取 tz 参数所指时区的本地时间\n",
    "datetime.utcnow()\n",
    "- 返回一个当前 UTC 时间的 datetime 对象\n",
    "datetime.fromtimestamp(timestamp, tz=None)\n",
    "- 根据时间戮创建一个 datetime 对象，参数 tz 指定时区信息\n",
    "datetime.utcfromtimestamp(timestamp)\n",
    "- 根据时间戮创建一个 UTC(世界标准时间) 时间的 datetime 对象\n",
    "datetime.fromordinal(ordinal)\n",
    "- 返回对应 Gregorian 日历时间对应的 datetime 对象\n",
    "datetime.combine(date, time)\n",
    "- 根据参数 date 和 time，创建一个 datetime 对象\n",
    "datetime.strptime(date_string, format)\n",
    "- 将格式化字符串转换为 datetime 对象\n",
    "\n",
    "datetime 实例属性(只读)：\n",
    "属性\t取值范围\n",
    "datetime.year\tMINYEAR ~ MAXYEAR(1 ~ 9999)\n",
    "datetime.month\t1 ~ 12\n",
    "datetime.day\t1 ~ 根据 year 和 month 来决定（例如 2015年2月 只有 28 天）\n",
    "datetime.hour\t0 ~ 23\n",
    "datetime.minute\t0 ~ 59\n",
    "datetime.second\t0 ~ 59\n",
    "datetime.microsecond\t0 ~ 999999\n",
    "datetime.tzinfo\t通过构造函数的 tzinfo 参数赋值\n",
    "\n",
    "datetime 对象支持的操作：\n",
    "操作\t                                        结果\n",
    "datetime2 = datetime1 + timedelta\t 日期加上一个时间间隔，返回一个新的日期对象\n",
    "datetime2 = datetime1 - timedelta\t 日期减去一个时间间隔，相当于datetime2 + timedelta == datetime1\n",
    "timedelta = datetime1 - datetime2\t 两个日期相减得到一个时间间隔\n",
    "datetime1 < datetime2\t当 datetime1 的日期在 datetime2 之前时，我们认为 datetime1 < datetime2\n",
    "\n",
    "datetime 实例方法：\n",
    "datetime.date()\n",
    "- 返回一个 date 对象\n",
    "datetime.time() \n",
    "- 返回一个 time 对象（tzinfo 属性为 None）\n",
    "datetime.timetz()\n",
    "- 返回一个 time() 对象(带有 tzinfo 属性)\n",
    "datetime.replace([year[, month[, day[, hour[, minute[, second[, microsecond[, tzinfo]]]]]]]])\n",
    "- 生成一个新的日期对象，用参数指定日期和时间代替原有对象中的属性\n",
    "datetime.astimezone(tz=None)\n",
    "- 传入一个新的 tzinfo 属性，返回根据新时区调整好的 datetime 对象\n",
    "datetime.utcoffset()\n",
    "- 如果 tzinfo 属性是 None，则返回 None；否则返回 self.tzinfo.utcoffset(self)\n",
    "datetime.dst()\n",
    "- 如果 tzinfo 属性是 None，则返回 None；否则返回 self.tzinfo.dst(self)\n",
    "datetime.tzname()\n",
    "- 如果 tzinfo 属性是 None，则返回 None；否则返回 self.tzinfo.tzname(self)\n",
    "datetime.timetuple()\n",
    "-  返回日期对应的 time.struct_time 对象（类似于 time 模块的 time.localtime()）\n",
    "datetime.utctimetuple()\n",
    "- 返回 UTC 日期对应的 time.struct_time 对象\n",
    "datetime.toordinal()\n",
    "- 返回日期对应的 Gregorian Calendar 日期（类似于 self.date().toordinal()）\n",
    "datetime.timestamp()\n",
    "- 返回当前时间的时间戳（类似于 time 模块的 time.time()）\n",
    "datetime.weekday()\n",
    "- 返回 0 ~ 6 表示星期几（星期一是 0，依此类推）\n",
    "datetime.isoweekday()\n",
    "- 返回 1 ~ 7 表示星期几（星期一是1， 依此类推）\n",
    "datetime.isocalendar()\n",
    "- Return a 3-tuple containing ISO year, week number, and weekday.\n",
    "datetime.isoformat(sep='T')\n",
    "- 返回一个 ISO 8601 格式的日期字符串，如 \"YYYY-MM-DD\" 的字符串\n",
    "datetime.__str__()\n",
    "- 对于 date 对象 d 来说，str(d) 相当于 d.isoformat()\n",
    "datetime.ctime()\n",
    "- 返回一个表示日期的字符串，相当于 time 模块的 time.ctime(time.mktime(d.timetuple()))\n",
    "datetime.strftime(format)\n",
    "- 返回自定义格式化字符串表示日期，下面有详解\n",
    "datetime.__format__(format)\n",
    "- 跟 datetime.strftime(format) 一样，这使得调用 str.format() 时可以指定 data 对象的字符串\n",
    "'''"
   ],
   "metadata": {
    "collapsed": false,
    "pycharm": {
     "name": "#%%\n"
    }
   }
  },
  {
   "cell_type": "code",
   "execution_count": 11,
   "outputs": [
    {
     "name": "stdout",
     "output_type": "stream",
     "text": [
      "combine()函数: 2015-08-01 12:30:00\n",
      "now()函数: 2021-07-07 15:22:59.549034\n",
      "utcnow()函数: 2021-07-07 07:22:59.549034\n",
      "strptime()函数: 2014-11-21 16:30:00\n",
      "timetuple()函数: time.struct_time(tm_year=2014, tm_mon=11, tm_mday=21, tm_hour=16, tm_min=30, tm_sec=0, tm_wday=4, tm_yday=325, tm_isdst=-1)\n",
      "isocalendar()函数: (2014, 47, 5)\n",
      "format()函数: The day is 21, the month is November, the time is 04:30PM.\n"
     ]
    }
   ],
   "source": [
    "# datatime类示例\n",
    "from datetime import datetime, date, time\n",
    "\n",
    "d1 = date(2015, 8, 1)\n",
    "t1 = time(12, 30)\n",
    "print(\"combine()函数:\", datetime.combine(d1, t1))\n",
    "\n",
    "print(\"now()函数:\", datetime.now())\n",
    "print(\"utcnow()函数:\", datetime.utcnow())\n",
    "\n",
    "dt1 = datetime.strptime(\"21/11/14 16:30\", \"%d/%m/%y %H:%M\")\n",
    "print(\"strptime()函数:\", dt1)\n",
    "\n",
    "print(\"timetuple()函数:\", dt1.timetuple())\n",
    "\n",
    "print(\"isocalendar()函数:\", dt1.isocalendar())\n",
    "\n",
    "print(\"format()函数:\", 'The {1} is {0:%d}, the {2} is {0:%B}, the {3} is {0:%I:%M%p}.'.format(dt1, \"day\", \"month\", \"time\"))"
   ],
   "metadata": {
    "collapsed": false,
    "pycharm": {
     "name": "#%%\n"
    }
   }
  },
  {
   "cell_type": "code",
   "execution_count": 8,
   "outputs": [],
   "source": [],
   "metadata": {
    "collapsed": false,
    "pycharm": {
     "name": "#%%\n"
    }
   }
  }
 ],
 "metadata": {
  "language_info": {
   "codemirror_mode": {
    "name": "ipython",
    "version": 2
   },
   "file_extension": ".py",
   "mimetype": "text/x-python",
   "name": "python",
   "nbconvert_exporter": "python",
   "pygments_lexer": "ipython2",
   "version": "2.7.6"
  },
  "kernelspec": {
   "name": "python3",
   "language": "python",
   "display_name": "Python 3"
  },
  "stem_cell": {
   "cell_type": "raw",
   "source": "",
   "metadata": {
    "pycharm": {
     "metadata": false
    }
   }
  }
 },
 "nbformat": 4,
 "nbformat_minor": 0
}