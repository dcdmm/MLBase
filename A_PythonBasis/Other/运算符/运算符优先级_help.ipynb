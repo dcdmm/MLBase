{
 "cells": [
  {
   "cell_type": "markdown",
   "source": [
    "<font size=4 color='red'>优先级排序</font>  \n",
    "1. **  \t                          \n",
    "2. +x -x                           \n",
    "3.  / % //\t                \n",
    "4. \\+ \\-\t                       \n",
    "5. <= < > >=\t                \n",
    "6. <> == !=\t                \n",
    "7. = %= /= //= -= += *= **=\t\n",
    "8. is is not\t                \n",
    "9. in not in\t                \n",
    "10. not and or\t                "
   ],
   "metadata": {
    "collapsed": false,
    "pycharm": {
     "name": "#%% md\n"
    }
   }
  }
 ],
 "metadata": {
  "language_info": {
   "codemirror_mode": {
    "name": "ipython",
    "version": 2
   },
   "file_extension": ".py",
   "mimetype": "text/x-python",
   "name": "python",
   "nbconvert_exporter": "python",
   "pygments_lexer": "ipython2",
   "version": "2.7.6"
  },
  "kernelspec": {
   "name": "python3",
   "language": "python",
   "display_name": "Python 3"
  },
  "pycharm": {
   "stem_cell": {
    "cell_type": "raw",
    "source": [],
    "metadata": {
     "collapsed": false
    }
   }
  }
 },
 "nbformat": 4,
 "nbformat_minor": 0
}