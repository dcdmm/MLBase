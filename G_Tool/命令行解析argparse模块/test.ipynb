{
 "cells": [
  {
   "cell_type": "code",
   "execution_count": 1,
   "metadata": {},
   "outputs": [
    {
     "name": "stdout",
     "output_type": "stream",
     "text": [
      "usage: other_para.py [-h] [--length LENGTH] width {1.0,2.0,3.0,4.0}\n",
      "\n",
      "计算长方体体积的参数\n",
      "\n",
      "positional arguments:\n",
      "  width              这是长方体的宽\n",
      "  {1.0,2.0,3.0,4.0}  这是长方体的高\n",
      "\n",
      "optional arguments:\n",
      "  -h, --help         show this help message and exit\n",
      "  --length LENGTH    这是长方体的长\n"
     ]
    }
   ],
   "source": [
    "! python other_para.py -h # 等价于para.print_help()"
   ]
  },
  {
   "cell_type": "code",
   "execution_count": 2,
   "metadata": {},
   "outputs": [
    {
     "name": "stdout",
     "output_type": "stream",
     "text": [
      "{'length': 1.0, 'width': 44.3, 'hight': 3.0}\n"
     ]
    }
   ],
   "source": [
    "! python other_para.py 44.3 3."
   ]
  },
  {
   "cell_type": "code",
   "execution_count": 3,
   "metadata": {},
   "outputs": [
    {
     "name": "stderr",
     "output_type": "stream",
     "text": [
      "python: can't open file 'parameter.py': [Errno 2] No such file or directory\n"
     ]
    }
   ],
   "source": [
    "# 不会影到其他py文件\n",
    "! python parameter.py  --length 2.0 --width 10. --hight 43. "
   ]
  },
  {
   "cell_type": "code",
   "execution_count": 4,
   "metadata": {
    "pycharm": {
     "name": "#%%\n"
    }
   },
   "outputs": [
    {
     "name": "stdout",
     "output_type": "stream",
     "text": [
      "{'length': 3.0, 'width': 10.0, 'hight': 43.0}\n",
      "1290.0\n"
     ]
    }
   ],
   "source": [
    "# 定义model文件中参数\n",
    "! python volume_arg.py --length 3.0 --width 10 --hight 43\n",
    "\n"
   ]
  }
 ],
 "metadata": {
  "kernelspec": {
   "display_name": "Python 3",
   "language": "python",
   "name": "python3"
  },
  "language_info": {
   "codemirror_mode": {
    "name": "ipython",
    "version": 3
   },
   "file_extension": ".py",
   "mimetype": "text/x-python",
   "name": "python",
   "nbconvert_exporter": "python",
   "pygments_lexer": "ipython3",
   "version": "3.8.8"
  },
  "toc": {
   "base_numbering": 1,
   "nav_menu": {},
   "number_sections": true,
   "sideBar": true,
   "skip_h1_title": false,
   "title_cell": "Table of Contents",
   "title_sidebar": "Contents",
   "toc_cell": false,
   "toc_position": {},
   "toc_section_display": true,
   "toc_window_display": false
  }
 },
 "nbformat": 4,
 "nbformat_minor": 1
}