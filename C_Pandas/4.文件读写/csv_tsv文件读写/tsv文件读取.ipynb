{
 "cells": [
  {
   "cell_type": "code",
   "execution_count": 17,
   "metadata": {
    "collapsed": true
   },
   "outputs": [],
   "source": [
    "import pandas as pd"
   ]
  },
  {
   "cell_type": "code",
   "execution_count": 18,
   "outputs": [
    {
     "data": {
      "text/plain": "      split          genre    dataset      year   sid  score  \\\n0     train  main-captions     MSRvid  2012test     1   5.00   \n1     train  main-captions     MSRvid  2012test     4   3.80   \n2     train  main-captions     MSRvid  2012test     5   3.80   \n3     train  main-captions     MSRvid  2012test     6   2.60   \n4     train  main-captions     MSRvid  2012test     9   4.25   \n...     ...            ...        ...       ...   ...    ...   \n8623   test      main-news  headlines      2016  1354   0.00   \n8624   test      main-news  headlines      2016  1360   1.00   \n8625   test      main-news  headlines      2016  1368   1.00   \n8626   test      main-news  headlines      2016  1420   0.00   \n8627   test      main-news  headlines      2016  1432   0.00   \n\n                                              sentence1  \\\n0                                A plane is taking off.   \n1                       A man is playing a large flute.   \n2         A man is spreading shreded cheese on a pizza.   \n3                          Three men are playing chess.   \n4                           A man is playing the cello.   \n...                                                 ...   \n8623  Philippines, Canada pledge to further boost re...   \n8624  Israel bars Palestinians from Jerusalem's Old ...   \n8625         How much do you know about Secret Service?   \n8626  Obama Struggles to Soothe Saudi Fears As Iran ...   \n8627          South Korea declares end to MERS outbreak   \n\n                                              sentence2  \n0                           An air plane is taking off.  \n1                             A man is playing a flute.  \n2     A man is spreading shredded cheese on an uncoo...  \n3                            Two men are playing chess.  \n4                    A man seated is playing the cello.  \n...                                                 ...  \n8623            Philippines saves 100 after ferry sinks  \n8624  Two-state solution between Palestinians, Israe...  \n8625  Lawmakers from both sides express outrage at S...  \n8626  Myanmar Struggles to Finalize Voter Lists for ...  \n8627  North Korea Delegation Meets With South Korean...  \n\n[8628 rows x 8 columns]",
      "text/html": "<div>\n<style scoped>\n    .dataframe tbody tr th:only-of-type {\n        vertical-align: middle;\n    }\n\n    .dataframe tbody tr th {\n        vertical-align: top;\n    }\n\n    .dataframe thead th {\n        text-align: right;\n    }\n</style>\n<table border=\"1\" class=\"dataframe\">\n  <thead>\n    <tr style=\"text-align: right;\">\n      <th></th>\n      <th>split</th>\n      <th>genre</th>\n      <th>dataset</th>\n      <th>year</th>\n      <th>sid</th>\n      <th>score</th>\n      <th>sentence1</th>\n      <th>sentence2</th>\n    </tr>\n  </thead>\n  <tbody>\n    <tr>\n      <th>0</th>\n      <td>train</td>\n      <td>main-captions</td>\n      <td>MSRvid</td>\n      <td>2012test</td>\n      <td>1</td>\n      <td>5.00</td>\n      <td>A plane is taking off.</td>\n      <td>An air plane is taking off.</td>\n    </tr>\n    <tr>\n      <th>1</th>\n      <td>train</td>\n      <td>main-captions</td>\n      <td>MSRvid</td>\n      <td>2012test</td>\n      <td>4</td>\n      <td>3.80</td>\n      <td>A man is playing a large flute.</td>\n      <td>A man is playing a flute.</td>\n    </tr>\n    <tr>\n      <th>2</th>\n      <td>train</td>\n      <td>main-captions</td>\n      <td>MSRvid</td>\n      <td>2012test</td>\n      <td>5</td>\n      <td>3.80</td>\n      <td>A man is spreading shreded cheese on a pizza.</td>\n      <td>A man is spreading shredded cheese on an uncoo...</td>\n    </tr>\n    <tr>\n      <th>3</th>\n      <td>train</td>\n      <td>main-captions</td>\n      <td>MSRvid</td>\n      <td>2012test</td>\n      <td>6</td>\n      <td>2.60</td>\n      <td>Three men are playing chess.</td>\n      <td>Two men are playing chess.</td>\n    </tr>\n    <tr>\n      <th>4</th>\n      <td>train</td>\n      <td>main-captions</td>\n      <td>MSRvid</td>\n      <td>2012test</td>\n      <td>9</td>\n      <td>4.25</td>\n      <td>A man is playing the cello.</td>\n      <td>A man seated is playing the cello.</td>\n    </tr>\n    <tr>\n      <th>...</th>\n      <td>...</td>\n      <td>...</td>\n      <td>...</td>\n      <td>...</td>\n      <td>...</td>\n      <td>...</td>\n      <td>...</td>\n      <td>...</td>\n    </tr>\n    <tr>\n      <th>8623</th>\n      <td>test</td>\n      <td>main-news</td>\n      <td>headlines</td>\n      <td>2016</td>\n      <td>1354</td>\n      <td>0.00</td>\n      <td>Philippines, Canada pledge to further boost re...</td>\n      <td>Philippines saves 100 after ferry sinks</td>\n    </tr>\n    <tr>\n      <th>8624</th>\n      <td>test</td>\n      <td>main-news</td>\n      <td>headlines</td>\n      <td>2016</td>\n      <td>1360</td>\n      <td>1.00</td>\n      <td>Israel bars Palestinians from Jerusalem's Old ...</td>\n      <td>Two-state solution between Palestinians, Israe...</td>\n    </tr>\n    <tr>\n      <th>8625</th>\n      <td>test</td>\n      <td>main-news</td>\n      <td>headlines</td>\n      <td>2016</td>\n      <td>1368</td>\n      <td>1.00</td>\n      <td>How much do you know about Secret Service?</td>\n      <td>Lawmakers from both sides express outrage at S...</td>\n    </tr>\n    <tr>\n      <th>8626</th>\n      <td>test</td>\n      <td>main-news</td>\n      <td>headlines</td>\n      <td>2016</td>\n      <td>1420</td>\n      <td>0.00</td>\n      <td>Obama Struggles to Soothe Saudi Fears As Iran ...</td>\n      <td>Myanmar Struggles to Finalize Voter Lists for ...</td>\n    </tr>\n    <tr>\n      <th>8627</th>\n      <td>test</td>\n      <td>main-news</td>\n      <td>headlines</td>\n      <td>2016</td>\n      <td>1432</td>\n      <td>0.00</td>\n      <td>South Korea declares end to MERS outbreak</td>\n      <td>North Korea Delegation Meets With South Korean...</td>\n    </tr>\n  </tbody>\n</table>\n<p>8628 rows × 8 columns</p>\n</div>"
     },
     "execution_count": 18,
     "metadata": {},
     "output_type": "execute_result"
    }
   ],
   "source": [
    "'''\n",
    "QUOTE_ALL = 1\n",
    "QUOTE_MINIMAL = 0\n",
    "QUOTE_NONE = 3\n",
    "QUOTE_NONNUMERIC = 2\n",
    "\n",
    "csv.QUOTE_MINIMAL means only when required, for example, when a field contains either the quotechar or the delimiter\n",
    "csv.QUOTE_ALL means that quotes are always placed around fields.\n",
    "csv.QUOTE_NONNUMERIC means that quotes are always placed around fields which do not parse as integers or floating point numbers.\n",
    "csv.QUOTE_NONE means that quotes are never placed around fields.\n",
    "'''\n",
    "dataset = pd.read_csv('stsbenchmark.tsv',\n",
    "                      # tsv文件用制表符分隔符\n",
    "                      sep='\\t',\n",
    "                      quoting=3)  # 默认quoting=0(若默认报错,quoting=1, quoting=2, quoting=3都试试)\n",
    "dataset"
   ],
   "metadata": {
    "collapsed": false,
    "pycharm": {
     "name": "#%%\n"
    }
   }
  },
  {
   "cell_type": "code",
   "execution_count": 19,
   "outputs": [],
   "source": [
    "dataset.to_csv('stsbenchmark_1.tsv', sep='\\t', index=False)\n",
    "\n"
   ],
   "metadata": {
    "collapsed": false,
    "pycharm": {
     "name": "#%%\n"
    }
   }
  }
 ],
 "metadata": {
  "kernelspec": {
   "display_name": "Python 3",
   "language": "python",
   "name": "python3"
  },
  "language_info": {
   "codemirror_mode": {
    "name": "ipython",
    "version": 2
   },
   "file_extension": ".py",
   "mimetype": "text/x-python",
   "name": "python",
   "nbconvert_exporter": "python",
   "pygments_lexer": "ipython2",
   "version": "2.7.6"
  }
 },
 "nbformat": 4,
 "nbformat_minor": 0
}