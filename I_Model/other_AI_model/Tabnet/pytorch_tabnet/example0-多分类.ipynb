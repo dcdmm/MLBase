{
 "cells": [
  {
   "cell_type": "code",
   "execution_count": 1,
   "metadata": {},
   "outputs": [],
   "source": [
    "from pytorch_tabnet.tab_model import TabNetClassifier\n",
    "import torch\n",
    "from sklearn.model_selection import train_test_split\n",
    "import pandas as pd\n",
    "from matplotlib import pyplot as plt\n",
    "from sklearn.utils import shuffle\n",
    "%matplotlib inline"
   ]
  },
  {
   "cell_type": "markdown",
   "metadata": {
    "pycharm": {
     "name": "#%% md\n"
    }
   },
   "source": [
    "### 数据处理"
   ]
  },
  {
   "cell_type": "code",
   "execution_count": 2,
   "metadata": {},
   "outputs": [
    {
     "data": {
      "text/plain": "       Elevation  Aspect  Slope  Horizontal_Distance_To_Hydrology  \\\n0           2706      68      8                               309   \n1           2313     299     29                               108   \n2           3081     143      9                               417   \n3           3222      25      9                                 0   \n4           2952      90      8                               607   \n...          ...     ...    ...                               ...   \n39995       3142     104     11                               499   \n39996       2759     104      9                               134   \n39997       2870      89     13                               124   \n39998       2657     100      7                                90   \n39999       2606      31      7                               170   \n\n       Vertical_Distance_To_Hydrology  Horizontal_Distance_To_Roadways  \\\n0                                  24                             1806   \n1                                  23                              808   \n2                                  48                              162   \n3                                   0                             3032   \n4                                 125                             4747   \n...                               ...                              ...   \n39995                              99                              660   \n39996                              36                             2525   \n39997                              23                             4930   \n39998                              10                             1390   \n39999                              44                             1507   \n\n       Hillshade_9am  Hillshade_Noon  Hillshade_3pm  \\\n0                228             225            130   \n1                125             214            222   \n2                234             238            135   \n3                216             221            141   \n4                232             228            129   \n...              ...             ...            ...   \n39995            239             226            117   \n39996            235             229            126   \n39997            239             219            108   \n39998            232             231            131   \n39999            218             225            143   \n\n       Horizontal_Distance_To_Fire_Points  ...  Soil_Type32  Soil_Type33  \\\n0                                    5916  ...            0            0   \n1                                     674  ...            0            0   \n2                                    1321  ...            1            0   \n3                                    1974  ...            0            0   \n4                                    5219  ...            0            0   \n...                                   ...  ...          ...          ...   \n39995                                1359  ...            1            0   \n39996                                6661  ...            0            0   \n39997                                4443  ...            0            0   \n39998                                5378  ...            0            0   \n39999                                4770  ...            0            0   \n\n       Soil_Type34  Soil_Type35  Soil_Type36  Soil_Type37  Soil_Type38  \\\n0                0            0            0            0            0   \n1                0            0            0            0            0   \n2                0            0            0            0            0   \n3                0            0            0            0            0   \n4                0            0            0            0            0   \n...            ...          ...          ...          ...          ...   \n39995            0            0            0            0            0   \n39996            0            0            0            0            0   \n39997            0            0            0            0            0   \n39998            0            0            0            0            0   \n39999            0            0            0            0            0   \n\n       Soil_Type39  Soil_Type40  Covertype  \n0                0            0          2  \n1                0            0          3  \n2                0            0          2  \n3                0            0          1  \n4                0            0          2  \n...            ...          ...        ...  \n39995            0            0          2  \n39996            0            0          2  \n39997            0            0          2  \n39998            0            0          2  \n39999            0            0          2  \n\n[40000 rows x 55 columns]",
      "text/html": "<div>\n<style scoped>\n    .dataframe tbody tr th:only-of-type {\n        vertical-align: middle;\n    }\n\n    .dataframe tbody tr th {\n        vertical-align: top;\n    }\n\n    .dataframe thead th {\n        text-align: right;\n    }\n</style>\n<table border=\"1\" class=\"dataframe\">\n  <thead>\n    <tr style=\"text-align: right;\">\n      <th></th>\n      <th>Elevation</th>\n      <th>Aspect</th>\n      <th>Slope</th>\n      <th>Horizontal_Distance_To_Hydrology</th>\n      <th>Vertical_Distance_To_Hydrology</th>\n      <th>Horizontal_Distance_To_Roadways</th>\n      <th>Hillshade_9am</th>\n      <th>Hillshade_Noon</th>\n      <th>Hillshade_3pm</th>\n      <th>Horizontal_Distance_To_Fire_Points</th>\n      <th>...</th>\n      <th>Soil_Type32</th>\n      <th>Soil_Type33</th>\n      <th>Soil_Type34</th>\n      <th>Soil_Type35</th>\n      <th>Soil_Type36</th>\n      <th>Soil_Type37</th>\n      <th>Soil_Type38</th>\n      <th>Soil_Type39</th>\n      <th>Soil_Type40</th>\n      <th>Covertype</th>\n    </tr>\n  </thead>\n  <tbody>\n    <tr>\n      <th>0</th>\n      <td>2706</td>\n      <td>68</td>\n      <td>8</td>\n      <td>309</td>\n      <td>24</td>\n      <td>1806</td>\n      <td>228</td>\n      <td>225</td>\n      <td>130</td>\n      <td>5916</td>\n      <td>...</td>\n      <td>0</td>\n      <td>0</td>\n      <td>0</td>\n      <td>0</td>\n      <td>0</td>\n      <td>0</td>\n      <td>0</td>\n      <td>0</td>\n      <td>0</td>\n      <td>2</td>\n    </tr>\n    <tr>\n      <th>1</th>\n      <td>2313</td>\n      <td>299</td>\n      <td>29</td>\n      <td>108</td>\n      <td>23</td>\n      <td>808</td>\n      <td>125</td>\n      <td>214</td>\n      <td>222</td>\n      <td>674</td>\n      <td>...</td>\n      <td>0</td>\n      <td>0</td>\n      <td>0</td>\n      <td>0</td>\n      <td>0</td>\n      <td>0</td>\n      <td>0</td>\n      <td>0</td>\n      <td>0</td>\n      <td>3</td>\n    </tr>\n    <tr>\n      <th>2</th>\n      <td>3081</td>\n      <td>143</td>\n      <td>9</td>\n      <td>417</td>\n      <td>48</td>\n      <td>162</td>\n      <td>234</td>\n      <td>238</td>\n      <td>135</td>\n      <td>1321</td>\n      <td>...</td>\n      <td>1</td>\n      <td>0</td>\n      <td>0</td>\n      <td>0</td>\n      <td>0</td>\n      <td>0</td>\n      <td>0</td>\n      <td>0</td>\n      <td>0</td>\n      <td>2</td>\n    </tr>\n    <tr>\n      <th>3</th>\n      <td>3222</td>\n      <td>25</td>\n      <td>9</td>\n      <td>0</td>\n      <td>0</td>\n      <td>3032</td>\n      <td>216</td>\n      <td>221</td>\n      <td>141</td>\n      <td>1974</td>\n      <td>...</td>\n      <td>0</td>\n      <td>0</td>\n      <td>0</td>\n      <td>0</td>\n      <td>0</td>\n      <td>0</td>\n      <td>0</td>\n      <td>0</td>\n      <td>0</td>\n      <td>1</td>\n    </tr>\n    <tr>\n      <th>4</th>\n      <td>2952</td>\n      <td>90</td>\n      <td>8</td>\n      <td>607</td>\n      <td>125</td>\n      <td>4747</td>\n      <td>232</td>\n      <td>228</td>\n      <td>129</td>\n      <td>5219</td>\n      <td>...</td>\n      <td>0</td>\n      <td>0</td>\n      <td>0</td>\n      <td>0</td>\n      <td>0</td>\n      <td>0</td>\n      <td>0</td>\n      <td>0</td>\n      <td>0</td>\n      <td>2</td>\n    </tr>\n    <tr>\n      <th>...</th>\n      <td>...</td>\n      <td>...</td>\n      <td>...</td>\n      <td>...</td>\n      <td>...</td>\n      <td>...</td>\n      <td>...</td>\n      <td>...</td>\n      <td>...</td>\n      <td>...</td>\n      <td>...</td>\n      <td>...</td>\n      <td>...</td>\n      <td>...</td>\n      <td>...</td>\n      <td>...</td>\n      <td>...</td>\n      <td>...</td>\n      <td>...</td>\n      <td>...</td>\n      <td>...</td>\n    </tr>\n    <tr>\n      <th>39995</th>\n      <td>3142</td>\n      <td>104</td>\n      <td>11</td>\n      <td>499</td>\n      <td>99</td>\n      <td>660</td>\n      <td>239</td>\n      <td>226</td>\n      <td>117</td>\n      <td>1359</td>\n      <td>...</td>\n      <td>1</td>\n      <td>0</td>\n      <td>0</td>\n      <td>0</td>\n      <td>0</td>\n      <td>0</td>\n      <td>0</td>\n      <td>0</td>\n      <td>0</td>\n      <td>2</td>\n    </tr>\n    <tr>\n      <th>39996</th>\n      <td>2759</td>\n      <td>104</td>\n      <td>9</td>\n      <td>134</td>\n      <td>36</td>\n      <td>2525</td>\n      <td>235</td>\n      <td>229</td>\n      <td>126</td>\n      <td>6661</td>\n      <td>...</td>\n      <td>0</td>\n      <td>0</td>\n      <td>0</td>\n      <td>0</td>\n      <td>0</td>\n      <td>0</td>\n      <td>0</td>\n      <td>0</td>\n      <td>0</td>\n      <td>2</td>\n    </tr>\n    <tr>\n      <th>39997</th>\n      <td>2870</td>\n      <td>89</td>\n      <td>13</td>\n      <td>124</td>\n      <td>23</td>\n      <td>4930</td>\n      <td>239</td>\n      <td>219</td>\n      <td>108</td>\n      <td>4443</td>\n      <td>...</td>\n      <td>0</td>\n      <td>0</td>\n      <td>0</td>\n      <td>0</td>\n      <td>0</td>\n      <td>0</td>\n      <td>0</td>\n      <td>0</td>\n      <td>0</td>\n      <td>2</td>\n    </tr>\n    <tr>\n      <th>39998</th>\n      <td>2657</td>\n      <td>100</td>\n      <td>7</td>\n      <td>90</td>\n      <td>10</td>\n      <td>1390</td>\n      <td>232</td>\n      <td>231</td>\n      <td>131</td>\n      <td>5378</td>\n      <td>...</td>\n      <td>0</td>\n      <td>0</td>\n      <td>0</td>\n      <td>0</td>\n      <td>0</td>\n      <td>0</td>\n      <td>0</td>\n      <td>0</td>\n      <td>0</td>\n      <td>2</td>\n    </tr>\n    <tr>\n      <th>39999</th>\n      <td>2606</td>\n      <td>31</td>\n      <td>7</td>\n      <td>170</td>\n      <td>44</td>\n      <td>1507</td>\n      <td>218</td>\n      <td>225</td>\n      <td>143</td>\n      <td>4770</td>\n      <td>...</td>\n      <td>0</td>\n      <td>0</td>\n      <td>0</td>\n      <td>0</td>\n      <td>0</td>\n      <td>0</td>\n      <td>0</td>\n      <td>0</td>\n      <td>0</td>\n      <td>2</td>\n    </tr>\n  </tbody>\n</table>\n<p>40000 rows × 55 columns</p>\n</div>"
     },
     "execution_count": 2,
     "metadata": {},
     "output_type": "execute_result"
    }
   ],
   "source": [
    "target = \"Covertype\"\n",
    "\n",
    "bool_columns = [\n",
    "    \"Wilderness_Area1\", \"Wilderness_Area2\", \"Wilderness_Area3\",\n",
    "    \"Wilderness_Area4\", \"Soil_Type1\", \"Soil_Type2\", \"Soil_Type3\", \"Soil_Type4\",\n",
    "    \"Soil_Type5\", \"Soil_Type6\", \"Soil_Type7\", \"Soil_Type8\", \"Soil_Type9\",\n",
    "    \"Soil_Type10\", \"Soil_Type11\", \"Soil_Type12\", \"Soil_Type13\", \"Soil_Type14\",\n",
    "    \"Soil_Type15\", \"Soil_Type16\", \"Soil_Type17\", \"Soil_Type18\", \"Soil_Type19\",\n",
    "    \"Soil_Type20\", \"Soil_Type21\", \"Soil_Type22\", \"Soil_Type23\", \"Soil_Type24\",\n",
    "    \"Soil_Type25\", \"Soil_Type26\", \"Soil_Type27\", \"Soil_Type28\", \"Soil_Type29\",\n",
    "    \"Soil_Type30\", \"Soil_Type31\", \"Soil_Type32\", \"Soil_Type33\", \"Soil_Type34\",\n",
    "    \"Soil_Type35\", \"Soil_Type36\", \"Soil_Type37\", \"Soil_Type38\", \"Soil_Type39\",\n",
    "    \"Soil_Type40\"\n",
    "]\n",
    "\n",
    "int_columns = [\n",
    "    \"Elevation\", \"Aspect\", \"Slope\", \"Horizontal_Distance_To_Hydrology\",\n",
    "    \"Vertical_Distance_To_Hydrology\", \"Horizontal_Distance_To_Roadways\",\n",
    "    \"Hillshade_9am\", \"Hillshade_Noon\", \"Hillshade_3pm\",\n",
    "    \"Horizontal_Distance_To_Fire_Points\"\n",
    "]\n",
    "\n",
    "feature_columns = (\n",
    "        int_columns + bool_columns + [target])\n",
    "\n",
    "train = pd.read_csv('data/forest-cover-type.csv', header=None, names=feature_columns)[:40000]\n",
    "train = pd.DataFrame(shuffle(train.values), columns=train.columns)\n",
    "train"
   ]
  },
  {
   "cell_type": "code",
   "execution_count": 3,
   "outputs": [],
   "source": [
    "# test_indices:测试数据集索引\n",
    "# train_indices:训练数据集索引\n",
    "# valid_indices:验证数据集索引\n",
    "train_val_indices, test_indices = train_test_split(\n",
    "    range(len(train)), test_size=0.2, random_state=0)\n",
    "\n",
    "train_indices, valid_indices = train_test_split(\n",
    "    train_val_indices, test_size=0.2, random_state=0)"
   ],
   "metadata": {
    "collapsed": false,
    "pycharm": {
     "name": "#%%\n"
    }
   }
  },
  {
   "cell_type": "code",
   "execution_count": 4,
   "metadata": {},
   "outputs": [
    {
     "data": {
      "text/plain": "['Elevation',\n 'Aspect',\n 'Slope',\n 'Horizontal_Distance_To_Hydrology',\n 'Vertical_Distance_To_Hydrology',\n 'Horizontal_Distance_To_Roadways',\n 'Hillshade_9am',\n 'Hillshade_Noon',\n 'Hillshade_3pm',\n 'Horizontal_Distance_To_Fire_Points',\n 'Wilderness_Area1',\n 'Wilderness_Area2',\n 'Wilderness_Area3',\n 'Wilderness_Area4',\n 'Soil_Type1',\n 'Soil_Type2',\n 'Soil_Type3',\n 'Soil_Type4',\n 'Soil_Type5',\n 'Soil_Type6',\n 'Soil_Type7',\n 'Soil_Type8',\n 'Soil_Type9',\n 'Soil_Type10',\n 'Soil_Type11',\n 'Soil_Type12',\n 'Soil_Type13',\n 'Soil_Type14',\n 'Soil_Type15',\n 'Soil_Type16',\n 'Soil_Type17',\n 'Soil_Type18',\n 'Soil_Type19',\n 'Soil_Type20',\n 'Soil_Type21',\n 'Soil_Type22',\n 'Soil_Type23',\n 'Soil_Type24',\n 'Soil_Type25',\n 'Soil_Type26',\n 'Soil_Type27',\n 'Soil_Type28',\n 'Soil_Type29',\n 'Soil_Type30',\n 'Soil_Type31',\n 'Soil_Type32',\n 'Soil_Type33',\n 'Soil_Type34',\n 'Soil_Type35',\n 'Soil_Type36',\n 'Soil_Type37',\n 'Soil_Type38',\n 'Soil_Type39',\n 'Soil_Type40']"
     },
     "execution_count": 4,
     "metadata": {},
     "output_type": "execute_result"
    }
   ],
   "source": [
    "# 所有特征\n",
    "features = train.columns[:-1].tolist()\n",
    "features"
   ]
  },
  {
   "cell_type": "code",
   "execution_count": 5,
   "outputs": [
    {
     "data": {
      "text/plain": "Elevation                             1665\nAspect                                 361\nSlope                                   60\nHorizontal_Distance_To_Hydrology       402\nVertical_Distance_To_Hydrology         440\nHorizontal_Distance_To_Roadways       5743\nHillshade_9am                          176\nHillshade_Noon                         143\nHillshade_3pm                          247\nHorizontal_Distance_To_Fire_Points    5789\nWilderness_Area1                         2\nWilderness_Area2                         2\nWilderness_Area3                         2\nWilderness_Area4                         2\nSoil_Type1                               2\nSoil_Type2                               2\nSoil_Type3                               2\nSoil_Type4                               2\nSoil_Type5                               2\nSoil_Type6                               2\nSoil_Type7                               1\nSoil_Type8                               2\nSoil_Type9                               2\nSoil_Type10                              2\nSoil_Type11                              2\nSoil_Type12                              2\nSoil_Type13                              2\nSoil_Type14                              2\nSoil_Type15                              1\nSoil_Type16                              2\nSoil_Type17                              2\nSoil_Type18                              2\nSoil_Type19                              2\nSoil_Type20                              2\nSoil_Type21                              2\nSoil_Type22                              2\nSoil_Type23                              2\nSoil_Type24                              2\nSoil_Type25                              2\nSoil_Type26                              2\nSoil_Type27                              2\nSoil_Type28                              2\nSoil_Type29                              2\nSoil_Type30                              2\nSoil_Type31                              2\nSoil_Type32                              2\nSoil_Type33                              2\nSoil_Type34                              2\nSoil_Type35                              2\nSoil_Type36                              2\nSoil_Type37                              2\nSoil_Type38                              2\nSoil_Type39                              2\nSoil_Type40                              2\ndtype: int64"
     },
     "execution_count": 5,
     "metadata": {},
     "output_type": "execute_result"
    }
   ],
   "source": [
    "features_num = train[features].nunique()\n",
    "features_num"
   ],
   "metadata": {
    "collapsed": false,
    "pycharm": {
     "name": "#%%\n"
    }
   }
  },
  {
   "cell_type": "code",
   "execution_count": 6,
   "outputs": [
    {
     "data": {
      "text/plain": "Index(['Wilderness_Area1', 'Wilderness_Area2', 'Wilderness_Area3',\n       'Wilderness_Area4', 'Soil_Type1', 'Soil_Type2', 'Soil_Type3',\n       'Soil_Type4', 'Soil_Type5', 'Soil_Type6', 'Soil_Type7', 'Soil_Type8',\n       'Soil_Type9', 'Soil_Type10', 'Soil_Type11', 'Soil_Type12',\n       'Soil_Type13', 'Soil_Type14', 'Soil_Type15', 'Soil_Type16',\n       'Soil_Type17', 'Soil_Type18', 'Soil_Type19', 'Soil_Type20',\n       'Soil_Type21', 'Soil_Type22', 'Soil_Type23', 'Soil_Type24',\n       'Soil_Type25', 'Soil_Type26', 'Soil_Type27', 'Soil_Type28',\n       'Soil_Type29', 'Soil_Type30', 'Soil_Type31', 'Soil_Type32',\n       'Soil_Type33', 'Soil_Type34', 'Soil_Type35', 'Soil_Type36',\n       'Soil_Type37', 'Soil_Type38', 'Soil_Type39', 'Soil_Type40'],\n      dtype='object')"
     },
     "execution_count": 6,
     "metadata": {},
     "output_type": "execute_result"
    }
   ],
   "source": [
    "# 分类特征\n",
    "cat_features = features_num[features_num < 5].index\n",
    "cat_features"
   ],
   "metadata": {
    "collapsed": false,
    "pycharm": {
     "name": "#%%\n"
    }
   }
  },
  {
   "cell_type": "code",
   "execution_count": 7,
   "outputs": [
    {
     "data": {
      "text/plain": "[10,\n 11,\n 12,\n 13,\n 14,\n 15,\n 16,\n 17,\n 18,\n 19,\n 20,\n 21,\n 22,\n 23,\n 24,\n 25,\n 26,\n 27,\n 28,\n 29,\n 30,\n 31,\n 32,\n 33,\n 34,\n 35,\n 36,\n 37,\n 38,\n 39,\n 40,\n 41,\n 42,\n 43,\n 44,\n 45,\n 46,\n 47,\n 48,\n 49,\n 50,\n 51,\n 52,\n 53]"
     },
     "execution_count": 7,
     "metadata": {},
     "output_type": "execute_result"
    }
   ],
   "source": [
    "# 分类特征id\n",
    "cat_idxs = []\n",
    "\n",
    "for i in cat_features:\n",
    "    cat_idxs.append(features.index(i))\n",
    "cat_idxs"
   ],
   "metadata": {
    "collapsed": false,
    "pycharm": {
     "name": "#%%\n"
    }
   }
  },
  {
   "cell_type": "code",
   "execution_count": 8,
   "outputs": [
    {
     "data": {
      "text/plain": "[2,\n 2,\n 2,\n 2,\n 2,\n 2,\n 2,\n 2,\n 2,\n 2,\n 2,\n 2,\n 2,\n 2,\n 2,\n 2,\n 2,\n 2,\n 2,\n 2,\n 2,\n 2,\n 2,\n 2,\n 2,\n 2,\n 2,\n 2,\n 2,\n 2,\n 2,\n 2,\n 2,\n 2,\n 2,\n 2,\n 2,\n 2,\n 2,\n 2,\n 2,\n 2,\n 2,\n 2]"
     },
     "execution_count": 8,
     "metadata": {},
     "output_type": "execute_result"
    }
   ],
   "source": [
    "# 每个分类特征唯一值数量\n",
    "cat_dims = [2] * len(cat_idxs)\n",
    "cat_dims"
   ],
   "metadata": {
    "collapsed": false,
    "pycharm": {
     "name": "#%%\n"
    }
   }
  },
  {
   "cell_type": "code",
   "execution_count": 9,
   "outputs": [
    {
     "name": "stdout",
     "output_type": "stream",
     "text": [
      "(25600,)\n",
      "(6400,)\n",
      "(8000,)\n"
     ]
    }
   ],
   "source": [
    "X_train = train[features].values[train_indices]\n",
    "y_train = train[target].values[train_indices]\n",
    "\n",
    "X_valid = train[features].values[valid_indices]\n",
    "y_valid = train[target].values[valid_indices]\n",
    "\n",
    "X_test = train[features].values[test_indices]\n",
    "y_test = train[target].values[test_indices]\n",
    "\n",
    "print(y_train.shape)\n",
    "print(y_valid.shape)\n",
    "print(y_test.shape)"
   ],
   "metadata": {
    "collapsed": false,
    "pycharm": {
     "name": "#%%\n"
    }
   }
  },
  {
   "cell_type": "markdown",
   "metadata": {},
   "source": [
    "# TabNetClassifier多分类模型"
   ]
  },
  {
   "cell_type": "code",
   "execution_count": 10,
   "metadata": {},
   "outputs": [
    {
     "name": "stdout",
     "output_type": "stream",
     "text": [
      "Device used : cuda\n"
     ]
    }
   ],
   "source": [
    "clf = TabNetClassifier(\n",
    "    n_d=16,\n",
    "    n_a=16,\n",
    "    n_steps=4,\n",
    "    gamma=1.4,\n",
    "    n_independent=2,\n",
    "    n_shared=2,\n",
    "    cat_idxs=cat_idxs,\n",
    "    cat_dims=cat_dims,\n",
    "    lambda_sparse=1e-4,\n",
    "    clip_value=2.,\n",
    "    optimizer_fn=torch.optim.Adam,\n",
    "    optimizer_params=dict(lr=1e-2),\n",
    "    scheduler_params={\"gamma\": 0.95,\n",
    "                      \"step_size\": 20},\n",
    "    scheduler_fn=torch.optim.lr_scheduler.StepLR, epsilon=1e-15,\n",
    "    verbose=10\n",
    ")"
   ]
  },
  {
   "cell_type": "code",
   "execution_count": 11,
   "metadata": {
    "scrolled": true
   },
   "outputs": [
    {
     "name": "stdout",
     "output_type": "stream",
     "text": [
      "epoch 0  | loss: 2.09559 | train_accuracy: 0.28508 | valid_accuracy: 0.28141 |  0:00:03s\n",
      "epoch 10 | loss: 0.61318 | train_accuracy: 0.16934 | valid_accuracy: 0.17156 |  0:00:28s\n",
      "epoch 20 | loss: 0.54272 | train_accuracy: 0.63879 | valid_accuracy: 0.63219 |  0:00:54s\n",
      "epoch 30 | loss: 0.50166 | train_accuracy: 0.74523 | valid_accuracy: 0.74016 |  0:01:21s\n",
      "epoch 40 | loss: 0.4731  | train_accuracy: 0.67629 | valid_accuracy: 0.67203 |  0:01:47s\n",
      "epoch 50 | loss: 0.44209 | train_accuracy: 0.68711 | valid_accuracy: 0.69312 |  0:02:13s\n",
      "epoch 60 | loss: 0.41842 | train_accuracy: 0.70289 | valid_accuracy: 0.70125 |  0:02:38s\n",
      "epoch 70 | loss: 0.39596 | train_accuracy: 0.6675  | valid_accuracy: 0.65469 |  0:03:04s\n",
      "epoch 80 | loss: 0.39674 | train_accuracy: 0.62313 | valid_accuracy: 0.61562 |  0:03:29s\n",
      "epoch 90 | loss: 0.36954 | train_accuracy: 0.59523 | valid_accuracy: 0.59188 |  0:03:55s\n",
      "Stop training because you reached max_epochs = 100 with best_epoch = 36 and best_valid_accuracy = 0.75125\n",
      "Best weights from best epoch are automatically used!\n"
     ]
    }
   ],
   "source": [
    "clf.fit(\n",
    "    X_train=X_train, y_train=y_train,\n",
    "    eval_set=[(X_train, y_train),\n",
    "              (X_valid, y_valid)],\n",
    "    eval_name=['train', 'valid'],\n",
    "    patience=100,\n",
    "    batch_size=2048\n",
    ")"
   ]
  },
  {
   "cell_type": "markdown",
   "metadata": {
    "pycharm": {
     "name": "#%% md\n"
    }
   },
   "source": [
    "### 结果分析"
   ],
   "outputs": [
    {
     "data": {
      "text/plain": "[<matplotlib.lines.Line2D at 0x2248c37b2e0>]"
     },
     "execution_count": 129,
     "metadata": {},
     "output_type": "execute_result"
    },
    {
     "data": {
      "text/plain": "<Figure size 432x288 with 1 Axes>",
      "image/png": "[encoded data removed]"
     },
     "metadata": {
      "needs_background": "light"
     },
     "output_type": "display_data"
    }
   ],
   "execution_count": 129
  },
  {
   "cell_type": "code",
   "execution_count": 12,
   "outputs": [
    {
     "data": {
      "text/plain": "[<matplotlib.lines.Line2D at 0x1d710d4cc10>]"
     },
     "execution_count": 12,
     "metadata": {},
     "output_type": "execute_result"
    },
    {
     "data": {
      "text/plain": "<Figure size 432x288 with 1 Axes>",
      "image/png": "[encoded data removed]"
     },
     "metadata": {
      "needs_background": "light"
     },
     "output_type": "display_data"
    }
   ],
   "source": [
    "# plot losses\n",
    "plt.plot(clf.history['loss'])"
   ],
   "metadata": {
    "collapsed": false,
    "pycharm": {
     "name": "#%%\n"
    }
   }
  },
  {
   "cell_type": "code",
   "execution_count": 13,
   "outputs": [
    {
     "data": {
      "text/plain": "[<matplotlib.lines.Line2D at 0x1d70589bd30>]"
     },
     "execution_count": 13,
     "metadata": {},
     "output_type": "execute_result"
    },
    {
     "data": {
      "text/plain": "<Figure size 432x288 with 1 Axes>",
      "image/png": "[encoded data removed]"
     },
     "metadata": {
      "needs_background": "light"
     },
     "output_type": "display_data"
    }
   ],
   "source": [
    "# plot learning rates\n",
    "plt.plot(clf.history['lr'])"
   ],
   "metadata": {
    "collapsed": false,
    "pycharm": {
     "name": "#%%\n"
    }
   }
  },
  {
   "cell_type": "code",
   "execution_count": 14,
   "metadata": {},
   "outputs": [
    {
     "data": {
      "text/plain": "<matplotlib.legend.Legend at 0x1d71517e820>"
     },
     "execution_count": 14,
     "metadata": {},
     "output_type": "execute_result"
    },
    {
     "data": {
      "text/plain": "<Figure size 432x288 with 1 Axes>",
      "image/png": "[encoded data removed]"
     },
     "metadata": {
      "needs_background": "light"
     },
     "output_type": "display_data"
    }
   ],
   "source": [
    "# plot accuracy\n",
    "plt.plot(clf.history['train_accuracy'], label='train_accuracy')\n",
    "plt.plot(clf.history['valid_accuracy'], label='valid_accuracy')\n",
    "plt.legend()"
   ]
  },
  {
   "cell_type": "code",
   "metadata": {
    "pycharm": {
     "name": "#%%\n"
    }
   },
   "source": [
    "# 自动识别是否为多分类任务\n",
    "clf.classes_"
   ],
   "execution_count": 15,
   "outputs": [
    {
     "data": {
      "text/plain": "array([1, 2, 3, 4, 5, 6, 7], dtype=int64)"
     },
     "execution_count": 15,
     "metadata": {},
     "output_type": "execute_result"
    }
   ]
  },
  {
   "cell_type": "code",
   "execution_count": 16,
   "outputs": [
    {
     "data": {
      "text/plain": "array([2, 1, 3, ..., 2, 3, 2], dtype=int64)"
     },
     "execution_count": 16,
     "metadata": {},
     "output_type": "execute_result"
    }
   ],
   "source": [
    "clf.predict(X_test)"
   ],
   "metadata": {
    "collapsed": false,
    "pycharm": {
     "name": "#%%\n"
    }
   }
  },
  {
   "cell_type": "code",
   "execution_count": 17,
   "outputs": [
    {
     "data": {
      "text/plain": "array([[3.2851419e-01, 6.3971508e-01, 3.4376196e-06, ..., 3.1632483e-02,\n        4.7177720e-05, 6.7513392e-05],\n       [5.0139368e-01, 4.9722287e-01, 1.2774854e-07, ..., 1.3291604e-03,\n        6.9084217e-06, 4.6248995e-05],\n       [9.7422278e-05, 5.5773593e-03, 4.6047306e-01, ..., 6.1099445e-03,\n        3.4200725e-01, 5.0055114e-06],\n       ...,\n       [1.3887842e-02, 9.8449880e-01, 5.0027108e-08, ..., 1.5973737e-03,\n        1.5072018e-06, 1.4260288e-05],\n       [1.6257742e-05, 9.3261676e-04, 5.0850606e-01, ..., 5.7212112e-04,\n        4.8469630e-01, 1.2141420e-05],\n       [1.9762535e-02, 9.0009403e-01, 2.4726315e-04, ..., 7.9208441e-02,\n        2.9839991e-04, 2.5305417e-04]], dtype=float32)"
     },
     "execution_count": 17,
     "metadata": {},
     "output_type": "execute_result"
    }
   ],
   "source": [
    "clf.predict_proba(X_test)"
   ],
   "metadata": {
    "collapsed": false,
    "pycharm": {
     "name": "#%%\n"
    }
   }
  },
  {
   "cell_type": "code",
   "execution_count": 18,
   "outputs": [
    {
     "data": {
      "text/plain": "array([1.77756090e-01, 1.49718874e-02, 2.74487608e-03, 6.57246049e-02,\n       3.74520510e-03, 1.65291659e-01, 1.23937738e-02, 5.13016477e-05,\n       9.22778099e-06, 7.69427550e-03, 5.11231072e-03, 1.10322422e-03,\n       7.59101621e-02, 7.19210019e-02, 1.27444003e-03, 2.06041405e-02,\n       1.00135976e-02, 7.40810695e-03, 3.85032496e-03, 5.39651539e-03,\n       6.86642942e-04, 1.35419712e-02, 8.28469583e-03, 1.52915365e-04,\n       3.03378687e-04, 2.85239839e-02, 1.09978891e-03, 1.30025395e-03,\n       5.54126080e-03, 1.67657126e-03, 1.04931461e-02, 7.30576941e-03,\n       4.01179609e-03, 4.75000514e-02, 4.56939059e-05, 2.42647633e-03,\n       1.85054204e-03, 2.18688087e-02, 1.12382967e-04, 7.60794065e-04,\n       1.16017531e-02, 7.92737647e-03, 1.20804605e-02, 4.33183038e-02,\n       8.59908075e-04, 2.33562615e-05, 9.53959099e-03, 1.71044794e-02,\n       4.54674574e-04, 4.12585287e-03, 9.55036082e-04, 9.93623991e-05,\n       5.95414142e-02, 2.19047821e-02])"
     },
     "execution_count": 18,
     "metadata": {},
     "output_type": "execute_result"
    }
   ],
   "source": [
    "# 特征的相对重要性\n",
    "clf.feature_importances_"
   ],
   "metadata": {
    "collapsed": false,
    "pycharm": {
     "name": "#%%\n"
    }
   }
  }
 ],
 "metadata": {
  "kernelspec": {
   "display_name": "Python 3",
   "language": "python",
   "name": "python3"
  },
  "language_info": {
   "codemirror_mode": {
    "name": "ipython",
    "version": 3
   },
   "file_extension": ".py",
   "mimetype": "text/x-python",
   "name": "python",
   "nbconvert_exporter": "python",
   "pygments_lexer": "ipython3",
   "version": "3.7.5"
  },
  "toc": {
   "base_numbering": 1,
   "nav_menu": {},
   "number_sections": true,
   "sideBar": true,
   "skip_h1_title": false,
   "title_cell": "Table of Contents",
   "title_sidebar": "Contents",
   "toc_cell": false,
   "toc_position": {},
   "toc_section_display": true,
   "toc_window_display": false
  }
 },
 "nbformat": 4,
 "nbformat_minor": 2
}