{
 "cells": [
  {
   "cell_type": "code",
   "execution_count": 1,
   "outputs": [],
   "source": [
    "import torch.nn as nn\n",
    "import torch.optim as optim\n",
    "from torchvision import datasets, transforms\n",
    "import torch.utils.data as Data\n",
    "import torch"
   ],
   "metadata": {
    "collapsed": false,
    "pycharm": {
     "name": "#%%\n"
    }
   }
  },
  {
   "cell_type": "code",
   "execution_count": 2,
   "outputs": [],
   "source": [
    "batch_size = 200\n",
    "\n",
    "train_data = datasets.MNIST('../../../../Other/datasets/PyTorch',\n",
    "                            train=True,\n",
    "                            transform=transforms.Compose([\n",
    "                                transforms.ToTensor(),\n",
    "                                transforms.Normalize((0.1307,), (0.3081,))\n",
    "                            ]))\n",
    "\n",
    "test_data = datasets.MNIST('../../../../Other/datasets/PyTorch',\n",
    "                           train=False,\n",
    "                           transform=transforms.Compose([\n",
    "                               transforms.ToTensor(),\n",
    "                               transforms.Normalize((0.1307,), (0.3081,))\n",
    "                           ]))\n",
    "\n",
    "# 手写数字训练数据集\n",
    "train_loader = Data.DataLoader(dataset=train_data,\n",
    "                               batch_size=batch_size,\n",
    "                               shuffle=True)\n",
    "\n",
    "# 手写数字测试数据集\n",
    "test_loader = Data.DataLoader(dataset=test_data,\n",
    "                              batch_size=batch_size,\n",
    "                              shuffle=True)"
   ],
   "metadata": {
    "collapsed": false,
    "pycharm": {
     "name": "#%%\n"
    }
   }
  },
  {
   "cell_type": "code",
   "execution_count": 3,
   "outputs": [],
   "source": [
    "class LeNet(nn.Module):\n",
    "    def __init__(self):\n",
    "        super(LeNet, self).__init__()\n",
    "        self.featrues = nn.Sequential(  # 内部实现了forward函数;各模块顺序执行\n",
    "            nn.Conv2d(1, 6, 3),\n",
    "            nn.ReLU(),\n",
    "            nn.MaxPool2d(2, 2),\n",
    "            nn.Conv2d(6, 16, 3),\n",
    "            nn.ReLU(),\n",
    "            nn.MaxPool2d(2, 2)\n",
    "        )\n",
    "        self.classifier = nn.Sequential(\n",
    "            nn.Linear(400, 120),\n",
    "            nn.ReLU(),\n",
    "            nn.Linear(120, 84),\n",
    "            nn.ReLU(),\n",
    "            nn.Linear(84, 10),  # 10分类问题\n",
    "        )\n",
    "\n",
    "    def forward(self, x):\n",
    "        x = self.featrues(x)\n",
    "        x = x.reshape(x.size()[0], -1)\n",
    "        x = self.classifier(x)\n",
    "        return x"
   ],
   "metadata": {
    "collapsed": false,
    "pycharm": {
     "name": "#%%\n"
    }
   }
  },
  {
   "cell_type": "code",
   "execution_count": 4,
   "outputs": [],
   "source": [
    "device = torch.device(\"cuda\" if torch.cuda.is_available() else \"cpu\")\n",
    "criteon = nn.CrossEntropyLoss()  # 定义损失函数为交叉熵\n",
    "net = LeNet()\n",
    "lenet = net.to(device)  # 模型设备转移必须在优化器定义前执行\n",
    "\n",
    "# Adadelta优化器\n",
    "optimizer = optim.Adadelta(net.parameters(),\n",
    "                           rho=0.9,  # 衰减速率\\rho\n",
    "                           lr=0.99,  # 缩放系数\\epsilon(default: 1.0)\n",
    "                           eps=1e-6)  # 分母中的小常数\\delta"
   ],
   "metadata": {
    "collapsed": false,
    "pycharm": {
     "name": "#%%\n"
    }
   }
  },
  {
   "cell_type": "code",
   "execution_count": 5,
   "outputs": [
    {
     "data": {
      "text/plain": "torch.Size([60000, 1, 28, 28])"
     },
     "execution_count": 5,
     "metadata": {},
     "output_type": "execute_result"
    }
   ],
   "source": [
    "transforms_data = []\n",
    "for i, j in train_data:\n",
    "    transforms_data.append(i.tolist())\n",
    "transforms_data_ten = torch.tensor(transforms_data)\n",
    "transforms_data_ten.shape"
   ],
   "metadata": {
    "collapsed": false,
    "pycharm": {
     "name": "#%%\n"
    }
   }
  },
  {
   "cell_type": "code",
   "execution_count": 6,
   "outputs": [],
   "source": [
    "transforms_data_loader = Data.DataLoader(transforms_data_ten, batch_size=200, shuffle=True)\n",
    "y_label = train_loader.dataset.targets"
   ],
   "metadata": {
    "collapsed": false,
    "pycharm": {
     "name": "#%%\n"
    }
   }
  },
  {
   "cell_type": "code",
   "execution_count": 7,
   "outputs": [],
   "source": [
    "from torch_model.train_evaluate import Train_Evaluate\n",
    "\n",
    "t_and_v = Train_Evaluate(model=lenet, optimizer=optimizer, criterion=criteon, epochs=5)"
   ],
   "metadata": {
    "collapsed": false,
    "pycharm": {
     "name": "#%%\n"
    }
   }
  },
  {
   "cell_type": "code",
   "execution_count": 8,
   "outputs": [
    {
     "name": "stderr",
     "output_type": "stream",
     "text": [
      "C:\\Users\\duanm\\anaconda3\\lib\\site-packages\\torch\\nn\\functional.py:718: UserWarning: Named tensors and all their associated APIs are an experimental feature and subject to change. Please do not use them for anything important until they are released as stable. (Triggered internally at  ..\\c10/core/TensorImpl.h:1156.)\n",
      "  return torch.max_pool2d(input, kernel_size, stride, padding, dilation, ceil_mode)\n"
     ]
    },
    {
     "name": "stdout",
     "output_type": "stream",
     "text": [
      "Train Epoch: 0  [0    /60000 (0  %)]\tLoss: 2.320442\n",
      "Train Epoch: 0  [2000 /60000 (3  %)]\tLoss: 1.938994\n",
      "Train Epoch: 0  [4000 /60000 (7  %)]\tLoss: 2.041707\n",
      "Train Epoch: 0  [6000 /60000 (10 %)]\tLoss: 0.666469\n",
      "Train Epoch: 0  [8000 /60000 (13 %)]\tLoss: 0.444618\n",
      "Train Epoch: 0  [10000/60000 (17 %)]\tLoss: 0.580300\n",
      "Train Epoch: 0  [12000/60000 (20 %)]\tLoss: 0.147827\n",
      "Train Epoch: 0  [14000/60000 (23 %)]\tLoss: 0.297801\n",
      "Train Epoch: 0  [16000/60000 (27 %)]\tLoss: 0.314370\n",
      "Train Epoch: 0  [18000/60000 (30 %)]\tLoss: 0.200419\n",
      "Train Epoch: 0  [20000/60000 (33 %)]\tLoss: 0.165074\n",
      "Train Epoch: 0  [22000/60000 (37 %)]\tLoss: 0.162716\n",
      "Train Epoch: 0  [24000/60000 (40 %)]\tLoss: 0.100574\n",
      "Train Epoch: 0  [26000/60000 (43 %)]\tLoss: 0.165018\n",
      "Train Epoch: 0  [28000/60000 (47 %)]\tLoss: 0.192646\n",
      "Train Epoch: 0  [30000/60000 (50 %)]\tLoss: 0.144364\n",
      "Train Epoch: 0  [32000/60000 (53 %)]\tLoss: 0.175244\n",
      "Train Epoch: 0  [34000/60000 (57 %)]\tLoss: 0.115125\n",
      "Train Epoch: 0  [36000/60000 (60 %)]\tLoss: 0.201092\n",
      "Train Epoch: 0  [38000/60000 (63 %)]\tLoss: 0.068304\n",
      "Train Epoch: 0  [40000/60000 (67 %)]\tLoss: 0.067587\n",
      "Train Epoch: 0  [42000/60000 (70 %)]\tLoss: 0.071171\n",
      "Train Epoch: 0  [44000/60000 (73 %)]\tLoss: 0.110061\n",
      "Train Epoch: 0  [46000/60000 (77 %)]\tLoss: 0.112008\n",
      "Train Epoch: 0  [48000/60000 (80 %)]\tLoss: 0.090496\n",
      "Train Epoch: 0  [50000/60000 (83 %)]\tLoss: 0.148712\n",
      "Train Epoch: 0  [52000/60000 (87 %)]\tLoss: 0.071272\n",
      "Train Epoch: 0  [54000/60000 (90 %)]\tLoss: 0.109259\n",
      "Train Epoch: 0  [56000/60000 (93 %)]\tLoss: 0.060713\n",
      "Train Epoch: 0  [58000/60000 (97 %)]\tLoss: 0.044258\n",
      "Train Epoch: 0  [60000/60000 (100%)]\tLoss: 0.072622\n",
      "----------------------------------------------------------------------------------------------------\n",
      "Train Epoch: 1  [0    /60000 (0  %)]\tLoss: 0.151448\n",
      "Train Epoch: 1  [2000 /60000 (3  %)]\tLoss: 0.070049\n",
      "Train Epoch: 1  [4000 /60000 (7  %)]\tLoss: 0.060516\n",
      "Train Epoch: 1  [6000 /60000 (10 %)]\tLoss: 0.064974\n",
      "Train Epoch: 1  [8000 /60000 (13 %)]\tLoss: 0.069331\n",
      "Train Epoch: 1  [10000/60000 (17 %)]\tLoss: 0.042877\n",
      "Train Epoch: 1  [12000/60000 (20 %)]\tLoss: 0.091865\n",
      "Train Epoch: 1  [14000/60000 (23 %)]\tLoss: 0.074195\n",
      "Train Epoch: 1  [16000/60000 (27 %)]\tLoss: 0.046233\n",
      "Train Epoch: 1  [18000/60000 (30 %)]\tLoss: 0.076013\n",
      "Train Epoch: 1  [20000/60000 (33 %)]\tLoss: 0.080733\n",
      "Train Epoch: 1  [22000/60000 (37 %)]\tLoss: 0.110289\n",
      "Train Epoch: 1  [24000/60000 (40 %)]\tLoss: 0.031329\n",
      "Train Epoch: 1  [26000/60000 (43 %)]\tLoss: 0.083255\n",
      "Train Epoch: 1  [28000/60000 (47 %)]\tLoss: 0.136253\n",
      "Train Epoch: 1  [30000/60000 (50 %)]\tLoss: 0.134040\n",
      "Train Epoch: 1  [32000/60000 (53 %)]\tLoss: 0.035943\n",
      "Train Epoch: 1  [34000/60000 (57 %)]\tLoss: 0.120846\n",
      "Train Epoch: 1  [36000/60000 (60 %)]\tLoss: 0.071539\n",
      "Train Epoch: 1  [38000/60000 (63 %)]\tLoss: 0.070291\n",
      "Train Epoch: 1  [40000/60000 (67 %)]\tLoss: 0.101530\n",
      "Train Epoch: 1  [42000/60000 (70 %)]\tLoss: 0.040445\n",
      "Train Epoch: 1  [44000/60000 (73 %)]\tLoss: 0.028483\n",
      "Train Epoch: 1  [46000/60000 (77 %)]\tLoss: 0.135137\n",
      "Train Epoch: 1  [48000/60000 (80 %)]\tLoss: 0.039579\n",
      "Train Epoch: 1  [50000/60000 (83 %)]\tLoss: 0.037390\n",
      "Train Epoch: 1  [52000/60000 (87 %)]\tLoss: 0.047327\n",
      "Train Epoch: 1  [54000/60000 (90 %)]\tLoss: 0.075184\n",
      "Train Epoch: 1  [56000/60000 (93 %)]\tLoss: 0.087029\n",
      "Train Epoch: 1  [58000/60000 (97 %)]\tLoss: 0.050273\n",
      "Train Epoch: 1  [60000/60000 (100%)]\tLoss: 0.082487\n",
      "----------------------------------------------------------------------------------------------------\n",
      "Train Epoch: 2  [0    /60000 (0  %)]\tLoss: 0.015244\n",
      "Train Epoch: 2  [2000 /60000 (3  %)]\tLoss: 0.056776\n",
      "Train Epoch: 2  [4000 /60000 (7  %)]\tLoss: 0.030408\n",
      "Train Epoch: 2  [6000 /60000 (10 %)]\tLoss: 0.041399\n",
      "Train Epoch: 2  [8000 /60000 (13 %)]\tLoss: 0.021716\n",
      "Train Epoch: 2  [10000/60000 (17 %)]\tLoss: 0.038615\n",
      "Train Epoch: 2  [12000/60000 (20 %)]\tLoss: 0.097673\n",
      "Train Epoch: 2  [14000/60000 (23 %)]\tLoss: 0.009407\n",
      "Train Epoch: 2  [16000/60000 (27 %)]\tLoss: 0.071759\n",
      "Train Epoch: 2  [18000/60000 (30 %)]\tLoss: 0.025971\n",
      "Train Epoch: 2  [20000/60000 (33 %)]\tLoss: 0.060929\n",
      "Train Epoch: 2  [22000/60000 (37 %)]\tLoss: 0.047373\n",
      "Train Epoch: 2  [24000/60000 (40 %)]\tLoss: 0.037586\n",
      "Train Epoch: 2  [26000/60000 (43 %)]\tLoss: 0.015728\n",
      "Train Epoch: 2  [28000/60000 (47 %)]\tLoss: 0.141800\n",
      "Train Epoch: 2  [30000/60000 (50 %)]\tLoss: 0.012667\n",
      "Train Epoch: 2  [32000/60000 (53 %)]\tLoss: 0.049441\n",
      "Train Epoch: 2  [34000/60000 (57 %)]\tLoss: 0.009039\n",
      "Train Epoch: 2  [36000/60000 (60 %)]\tLoss: 0.089446\n",
      "Train Epoch: 2  [38000/60000 (63 %)]\tLoss: 0.054847\n",
      "Train Epoch: 2  [40000/60000 (67 %)]\tLoss: 0.045639\n",
      "Train Epoch: 2  [42000/60000 (70 %)]\tLoss: 0.063815\n",
      "Train Epoch: 2  [44000/60000 (73 %)]\tLoss: 0.040176\n",
      "Train Epoch: 2  [46000/60000 (77 %)]\tLoss: 0.018353\n",
      "Train Epoch: 2  [48000/60000 (80 %)]\tLoss: 0.124242\n",
      "Train Epoch: 2  [50000/60000 (83 %)]\tLoss: 0.034650\n",
      "Train Epoch: 2  [52000/60000 (87 %)]\tLoss: 0.063515\n",
      "Train Epoch: 2  [54000/60000 (90 %)]\tLoss: 0.023630\n",
      "Train Epoch: 2  [56000/60000 (93 %)]\tLoss: 0.090617\n",
      "Train Epoch: 2  [58000/60000 (97 %)]\tLoss: 0.016855\n",
      "Train Epoch: 2  [60000/60000 (100%)]\tLoss: 0.043557\n",
      "----------------------------------------------------------------------------------------------------\n",
      "Train Epoch: 3  [0    /60000 (0  %)]\tLoss: 0.032457\n",
      "Train Epoch: 3  [2000 /60000 (3  %)]\tLoss: 0.039559\n",
      "Train Epoch: 3  [4000 /60000 (7  %)]\tLoss: 0.032859\n",
      "Train Epoch: 3  [6000 /60000 (10 %)]\tLoss: 0.011264\n",
      "Train Epoch: 3  [8000 /60000 (13 %)]\tLoss: 0.062706\n",
      "Train Epoch: 3  [10000/60000 (17 %)]\tLoss: 0.003662\n",
      "Train Epoch: 3  [12000/60000 (20 %)]\tLoss: 0.075661\n",
      "Train Epoch: 3  [14000/60000 (23 %)]\tLoss: 0.029630\n",
      "Train Epoch: 3  [16000/60000 (27 %)]\tLoss: 0.010635\n",
      "Train Epoch: 3  [18000/60000 (30 %)]\tLoss: 0.031738\n",
      "Train Epoch: 3  [20000/60000 (33 %)]\tLoss: 0.018040\n",
      "Train Epoch: 3  [22000/60000 (37 %)]\tLoss: 0.029490\n",
      "Train Epoch: 3  [24000/60000 (40 %)]\tLoss: 0.040706\n",
      "Train Epoch: 3  [26000/60000 (43 %)]\tLoss: 0.047900\n",
      "Train Epoch: 3  [28000/60000 (47 %)]\tLoss: 0.008680\n",
      "Train Epoch: 3  [30000/60000 (50 %)]\tLoss: 0.038405\n",
      "Train Epoch: 3  [32000/60000 (53 %)]\tLoss: 0.028092\n",
      "Train Epoch: 3  [34000/60000 (57 %)]\tLoss: 0.066593\n",
      "Train Epoch: 3  [36000/60000 (60 %)]\tLoss: 0.020613\n",
      "Train Epoch: 3  [38000/60000 (63 %)]\tLoss: 0.016456\n",
      "Train Epoch: 3  [40000/60000 (67 %)]\tLoss: 0.030536\n",
      "Train Epoch: 3  [42000/60000 (70 %)]\tLoss: 0.066019\n",
      "Train Epoch: 3  [44000/60000 (73 %)]\tLoss: 0.057284\n",
      "Train Epoch: 3  [46000/60000 (77 %)]\tLoss: 0.029457\n",
      "Train Epoch: 3  [48000/60000 (80 %)]\tLoss: 0.028713\n",
      "Train Epoch: 3  [50000/60000 (83 %)]\tLoss: 0.053888\n",
      "Train Epoch: 3  [52000/60000 (87 %)]\tLoss: 0.029916\n",
      "Train Epoch: 3  [54000/60000 (90 %)]\tLoss: 0.021907\n",
      "Train Epoch: 3  [56000/60000 (93 %)]\tLoss: 0.024405\n",
      "Train Epoch: 3  [58000/60000 (97 %)]\tLoss: 0.032325\n",
      "Train Epoch: 3  [60000/60000 (100%)]\tLoss: 0.015409\n",
      "----------------------------------------------------------------------------------------------------\n",
      "Train Epoch: 4  [0    /60000 (0  %)]\tLoss: 0.010456\n",
      "Train Epoch: 4  [2000 /60000 (3  %)]\tLoss: 0.038453\n",
      "Train Epoch: 4  [4000 /60000 (7  %)]\tLoss: 0.016399\n",
      "Train Epoch: 4  [6000 /60000 (10 %)]\tLoss: 0.053765\n",
      "Train Epoch: 4  [8000 /60000 (13 %)]\tLoss: 0.044444\n",
      "Train Epoch: 4  [10000/60000 (17 %)]\tLoss: 0.013470\n",
      "Train Epoch: 4  [12000/60000 (20 %)]\tLoss: 0.017595\n",
      "Train Epoch: 4  [14000/60000 (23 %)]\tLoss: 0.059815\n",
      "Train Epoch: 4  [16000/60000 (27 %)]\tLoss: 0.051175\n",
      "Train Epoch: 4  [18000/60000 (30 %)]\tLoss: 0.005806\n",
      "Train Epoch: 4  [20000/60000 (33 %)]\tLoss: 0.006573\n",
      "Train Epoch: 4  [22000/60000 (37 %)]\tLoss: 0.031156\n",
      "Train Epoch: 4  [24000/60000 (40 %)]\tLoss: 0.029101\n",
      "Train Epoch: 4  [26000/60000 (43 %)]\tLoss: 0.020372\n",
      "Train Epoch: 4  [28000/60000 (47 %)]\tLoss: 0.046542\n",
      "Train Epoch: 4  [30000/60000 (50 %)]\tLoss: 0.011177\n",
      "Train Epoch: 4  [32000/60000 (53 %)]\tLoss: 0.016314\n",
      "Train Epoch: 4  [34000/60000 (57 %)]\tLoss: 0.022231\n",
      "Train Epoch: 4  [36000/60000 (60 %)]\tLoss: 0.040172\n",
      "Train Epoch: 4  [38000/60000 (63 %)]\tLoss: 0.016452\n",
      "Train Epoch: 4  [40000/60000 (67 %)]\tLoss: 0.052881\n",
      "Train Epoch: 4  [42000/60000 (70 %)]\tLoss: 0.043114\n",
      "Train Epoch: 4  [44000/60000 (73 %)]\tLoss: 0.033629\n",
      "Train Epoch: 4  [46000/60000 (77 %)]\tLoss: 0.036093\n",
      "Train Epoch: 4  [48000/60000 (80 %)]\tLoss: 0.004286\n",
      "Train Epoch: 4  [50000/60000 (83 %)]\tLoss: 0.016083\n",
      "Train Epoch: 4  [52000/60000 (87 %)]\tLoss: 0.022073\n",
      "Train Epoch: 4  [54000/60000 (90 %)]\tLoss: 0.032742\n",
      "Train Epoch: 4  [56000/60000 (93 %)]\tLoss: 0.011667\n",
      "Train Epoch: 4  [58000/60000 (97 %)]\tLoss: 0.013379\n",
      "Train Epoch: 4  [60000/60000 (100%)]\tLoss: 0.005151\n",
      "----------------------------------------------------------------------------------------------------\n"
     ]
    },
    {
     "data": {
      "text/plain": "[[10.753954887390137],\n [12.638311386108398],\n [13.660897254943848],\n [14.079205513000488],\n [16.450592041015625]]"
     },
     "execution_count": 8,
     "metadata": {},
     "output_type": "execute_result"
    }
   ],
   "source": [
    "# 每一轮的损失值\n",
    "metric_reslut = t_and_v.train_eval(train_loader=train_loader, valid_sets=[(transforms_data_loader, y_label)])\n",
    "metric_reslut"
   ],
   "metadata": {
    "collapsed": false,
    "pycharm": {
     "name": "#%%\n"
    }
   }
  },
  {
   "cell_type": "code",
   "execution_count": 8,
   "outputs": [],
   "source": [],
   "metadata": {
    "collapsed": false,
    "pycharm": {
     "name": "#%%\n"
    }
   }
  }
 ],
 "metadata": {
  "kernelspec": {
   "display_name": "Python 3",
   "language": "python",
   "name": "python3"
  },
  "language_info": {
   "codemirror_mode": {
    "name": "ipython",
    "version": 2
   },
   "file_extension": ".py",
   "mimetype": "text/x-python",
   "name": "python",
   "nbconvert_exporter": "python",
   "pygments_lexer": "ipython2",
   "version": "2.7.6"
  }
 },
 "nbformat": 4,
 "nbformat_minor": 0
}