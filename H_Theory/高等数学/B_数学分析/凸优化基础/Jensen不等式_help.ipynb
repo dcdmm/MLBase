{
 "cells": [
  {
   "cell_type": "markdown",
   "metadata": {
    "collapsed": true,
    "pycharm": {
     "name": "#%% md\n"
    }
   },
   "source": [
    "&emsp;&emsp;一个函数$ f $在实数轴的某个区间$ I$被称为凹函数,如果$ \\forall x_1, x_2  \\in I$,有\n",
    "\n",
    "$$ f(\\lambda x_1 + (1-\\lambda)x_2) \\geq \\lambda f(x_1) + (1-\\lambda)f(x_2), \\forall \\lambda \\in [0,1] $$\n",
    "\n",
    "若式中的等号只在$ x_1 = x_2$时才成立,则称$f$在区间$ I$上严格凹.如果将式中不等号改变方向,就得到凸函数的定义.如果$ f $是\n",
    "凹函数,则$ -f$是凸函数.   \n",
    "\n",
    "<font color='red' size=4>Jasen不等式</font>\n",
    "\n",
    "&emsp;&emsp;设$ f $为区间$ I$上的凹函数,$ p_i \\in [0, 1],i=1,2,\\dots,n,$且$ \\sum_{i=1}^{n}p_i = 1$,则\n",
    "对任何$ x_i \\in I$,有\n",
    "\n",
    "$$ f(\\sum_{i=1}^{n} p_i x_i ) \\geq \\sum_{i=1}^{n}p_i f(x_i) $$\n",
    "\n",
    "若$f$严格凹,则上式的等号只在下列条件满足时才成立:若$ p_i \\cdot p_j  \\neq 0$,则必有$ x_i = x_j $\n",
    "\n"
   ]
  }
 ],
 "metadata": {
  "kernelspec": {
   "display_name": "Python 3",
   "language": "python",
   "name": "python3"
  },
  "language_info": {
   "codemirror_mode": {
    "name": "ipython",
    "version": 3
   },
   "file_extension": ".py",
   "mimetype": "text/x-python",
   "name": "python",
   "nbconvert_exporter": "python",
   "pygments_lexer": "ipython3",
   "version": "3.7.7"
  },
  "toc": {
   "base_numbering": 1,
   "nav_menu": {},
   "number_sections": true,
   "sideBar": true,
   "skip_h1_title": false,
   "title_cell": "Table of Contents",
   "title_sidebar": "Contents",
   "toc_cell": false,
   "toc_position": {},
   "toc_section_display": true,
   "toc_window_display": false
  }
 },
 "nbformat": 4,
 "nbformat_minor": 1
}
