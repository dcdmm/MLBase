{
 "cells": [
  {
   "cell_type": "code",
   "execution_count": 61,
   "metadata": {
    "collapsed": true,
    "pycharm": {
     "name": "#%%\n"
    }
   },
   "outputs": [],
   "source": [
    "import ahocorasick\n",
    "\n",
    "# 基于Aho-Corasick匹配算法"
   ]
  },
  {
   "cell_type": "code",
   "execution_count": 62,
   "outputs": [
    {
     "data": {
      "text/plain": "<ahocorasick.Automaton at 0x2be75d58e30>"
     },
     "execution_count": 62,
     "metadata": {},
     "output_type": "execute_result"
    }
   ],
   "source": [
    "# Then create an Automaton:\n",
    "automaton = ahocorasick.Automaton()\n",
    "automaton"
   ],
   "metadata": {
    "collapsed": false,
    "pycharm": {
     "name": "#%%\n"
    }
   }
  },
  {
   "cell_type": "code",
   "execution_count": 63,
   "outputs": [],
   "source": [
    "# You can use the Automaton class as a trie.\n",
    "# Add some string keys and their associated value to this trie.\n",
    "# Here we associate a tuple of (insertion index, original string) as a value to each key string we add to the trie:\n",
    "for idx, key in enumerate('he her hers she'.split()):\n",
    "    automaton.add_word(key, (idx, key))"
   ],
   "metadata": {
    "collapsed": false,
    "pycharm": {
     "name": "#%%\n"
    }
   }
  },
  {
   "cell_type": "code",
   "execution_count": 64,
   "outputs": [
    {
     "name": "stdout",
     "output_type": "stream",
     "text": [
      "True\n",
      "False\n"
     ]
    }
   ],
   "source": [
    "# Then check if some string exists in the trie:\n",
    "print('he' in automaton)\n",
    "print('HER' in automaton)"
   ],
   "metadata": {
    "collapsed": false,
    "pycharm": {
     "name": "#%%\n"
    }
   }
  },
  {
   "cell_type": "code",
   "execution_count": 65,
   "outputs": [
    {
     "name": "stdout",
     "output_type": "stream",
     "text": [
      "(0, 'he')\n",
      "(3, 'she')\n",
      "not exists\n"
     ]
    },
    {
     "ename": "KeyError",
     "evalue": "",
     "output_type": "error",
     "traceback": [
      "\u001B[1;31m---------------------------------------------------------------------------\u001B[0m",
      "\u001B[1;31mKeyError\u001B[0m                                  Traceback (most recent call last)",
      "Input \u001B[1;32mIn [65]\u001B[0m, in \u001B[0;36m<cell line: 5>\u001B[1;34m()\u001B[0m\n\u001B[0;32m      3\u001B[0m \u001B[38;5;28mprint\u001B[39m(automaton\u001B[38;5;241m.\u001B[39mget(\u001B[38;5;124m'\u001B[39m\u001B[38;5;124mshe\u001B[39m\u001B[38;5;124m'\u001B[39m))\n\u001B[0;32m      4\u001B[0m \u001B[38;5;28mprint\u001B[39m(automaton\u001B[38;5;241m.\u001B[39mget(\u001B[38;5;124m'\u001B[39m\u001B[38;5;124mcat\u001B[39m\u001B[38;5;124m'\u001B[39m, \u001B[38;5;124m'\u001B[39m\u001B[38;5;124mnot exists\u001B[39m\u001B[38;5;124m'\u001B[39m))\n\u001B[1;32m----> 5\u001B[0m \u001B[38;5;28mprint\u001B[39m(\u001B[43mautomaton\u001B[49m\u001B[38;5;241;43m.\u001B[39;49m\u001B[43mget\u001B[49m\u001B[43m(\u001B[49m\u001B[38;5;124;43m'\u001B[39;49m\u001B[38;5;124;43mdog\u001B[39;49m\u001B[38;5;124;43m'\u001B[39;49m\u001B[43m)\u001B[49m)\n",
      "\u001B[1;31mKeyError\u001B[0m: "
     ]
    }
   ],
   "source": [
    "# And play with the get() dict-like method:\n",
    "print(automaton.get('he'))\n",
    "print(automaton.get('she'))\n",
    "print(automaton.get('cat', 'not exists'))\n",
    "print(automaton.get('dog'))"
   ],
   "metadata": {
    "collapsed": false,
    "pycharm": {
     "name": "#%%\n"
    }
   }
  },
  {
   "cell_type": "code",
   "execution_count": 66,
   "outputs": [],
   "source": [
    "# Now convert the trie to an Aho-Corasick automaton to enable Aho-Corasick search:\n",
    "automaton.make_automaton()\n",
    "\n",
    "\n",
    "haystack = 'hh he her hers she whos'"
   ],
   "metadata": {
    "collapsed": false,
    "pycharm": {
     "name": "#%%\n"
    }
   }
  },
  {
   "cell_type": "code",
   "execution_count": 67,
   "outputs": [
    {
     "name": "stdout",
     "output_type": "stream",
     "text": [
      "(3, 4, (0, 'he'))\n",
      "(6, 7, (0, 'he'))\n",
      "(6, 8, (1, 'her'))\n",
      "(10, 11, (0, 'he'))\n",
      "(10, 12, (1, 'her'))\n",
      "(10, 13, (2, 'hers'))\n",
      "(15, 17, (3, 'she'))\n",
      "(16, 17, (0, 'he'))\n"
     ]
    }
   ],
   "source": [
    "# 匹配所有字符串\n",
    "for end_index, (insert_order, original_value) in automaton.iter(haystack):\n",
    "    start_index = end_index - len(original_value) + 1\n",
    "    print((start_index, end_index, (insert_order, original_value)))"
   ],
   "metadata": {
    "collapsed": false,
    "pycharm": {
     "name": "#%%\n"
    }
   }
  },
  {
   "cell_type": "code",
   "execution_count": 68,
   "outputs": [
    {
     "name": "stdout",
     "output_type": "stream",
     "text": [
      "(3, 4, (0, 'he'))\n",
      "(6, 8, (1, 'her'))\n",
      "(10, 13, (2, 'hers'))\n",
      "(15, 17, (3, 'she'))\n"
     ]
    }
   ],
   "source": [
    "# 匹配最长的字符串\n",
    "for end_index, (insert_order, original_value) in automaton.iter_long(haystack):\n",
    "    start_index = end_index - len(original_value) + 1\n",
    "    print((start_index, end_index, (insert_order, original_value)))\n",
    "\n"
   ],
   "metadata": {
    "collapsed": false,
    "pycharm": {
     "name": "#%%\n"
    }
   }
  }
 ],
 "metadata": {
  "kernelspec": {
   "display_name": "Python 3",
   "language": "python",
   "name": "python3"
  },
  "language_info": {
   "codemirror_mode": {
    "name": "ipython",
    "version": 2
   },
   "file_extension": ".py",
   "mimetype": "text/x-python",
   "name": "python",
   "nbconvert_exporter": "python",
   "pygments_lexer": "ipython2",
   "version": "2.7.6"
  }
 },
 "nbformat": 4,
 "nbformat_minor": 0
}