{
 "cells": [
  {
   "cell_type": "code",
   "execution_count": 1,
   "metadata": {
    "collapsed": true,
    "pycharm": {
     "name": "#%%\n"
    }
   },
   "outputs": [],
   "source": [
    "# `import`\n",
    "# 1. 若源文件发生改变,运行test.py文件不能立马得到改变,需重启jupyter notebook\n",
    "# 2. 可以通过ctrl + 鼠标左击 进入导入库的源代码\n",
    "\n",
    "# `%run`\n",
    "# 1. 若源文件发生改变,运行test.py文件可以立马得到改变\n",
    "# 2. 不可以通过ctrl + 鼠标左击 进入导入库的源代码"
   ]
  },
  {
   "cell_type": "code",
   "execution_count": 2,
   "metadata": {
    "pycharm": {
     "name": "#%%\n"
    }
   },
   "outputs": [
    {
     "name": "stdout",
     "output_type": "stream",
     "text": [
      "36\n",
      "18\n",
      "hello: java!!\n"
     ]
    }
   ],
   "source": [
    "# ★★★★★结合2者的优势(必须`%run`语句在`import`语句的下面)\n",
    "from rect_volumes import Rect_volumes\n",
    "from rect_area import Rect_Area\n",
    "%run rect_area.py\n",
    "%run rect_volumes.py\n",
    "\n",
    "\n",
    "area = Rect_Area(1, 2)\n",
    "\n",
    "volum = Rect_volumes(area, 3)\n",
    "print(volum.volumes())\n",
    "volum.print_hello()"
   ]
  },
  {
   "cell_type": "code",
   "execution_count": 3,
   "outputs": [
    {
     "name": "stdout",
     "output_type": "stream",
     "text": [
      "hello: python!!\n"
     ]
    }
   ],
   "source": [
    "%run dir_exapmle\\print_hello.py\n",
    "\n",
    "print_hello('python')"
   ],
   "metadata": {
    "collapsed": false,
    "pycharm": {
     "name": "#%%\n"
    }
   }
  },
  {
   "cell_type": "code",
   "execution_count": 4,
   "outputs": [
    {
     "ename": "ImportError",
     "evalue": "attempted relative import with no known parent package",
     "output_type": "error",
     "traceback": [
      "\u001B[1;31m---------------------------------------------------------------------------\u001B[0m",
      "\u001B[1;31mImportError\u001B[0m                               Traceback (most recent call last)",
      "File \u001B[1;32m~\\Music\\GitHubProjects\\MLNote\\A_PythonBasis\\Other\\modul_import\\dir_test0\\print_hello1.py:1\u001B[0m, in \u001B[0;36m<module>\u001B[1;34m\u001B[0m\n\u001B[1;32m----> 1\u001B[0m \u001B[38;5;28;01mfrom\u001B[39;00m \u001B[38;5;21;01m.\u001B[39;00m\u001B[38;5;21;01mconfig\u001B[39;00m \u001B[38;5;28;01mimport\u001B[39;00m \u001B[38;5;241m*\u001B[39m\n\u001B[0;32m      4\u001B[0m \u001B[38;5;28;01mdef\u001B[39;00m \u001B[38;5;21mprint_hello1\u001B[39m(program):\n\u001B[0;32m      5\u001B[0m     \u001B[38;5;28mprint\u001B[39m(\u001B[38;5;124m\"\u001B[39m\u001B[38;5;124mPI:\u001B[39m\u001B[38;5;124m\"\u001B[39m, PI)\n",
      "\u001B[1;31mImportError\u001B[0m: attempted relative import with no known parent package"
     ]
    },
    {
     "ename": "NameError",
     "evalue": "name 'print_hello1' is not defined",
     "output_type": "error",
     "traceback": [
      "\u001B[1;31m---------------------------------------------------------------------------\u001B[0m",
      "\u001B[1;31mNameError\u001B[0m                                 Traceback (most recent call last)",
      "Input \u001B[1;32mIn [4]\u001B[0m, in \u001B[0;36m<cell line: 4>\u001B[1;34m()\u001B[0m\n\u001B[0;32m      1\u001B[0m \u001B[38;5;66;03m# 要求执行的*.py文件中不能包含相对路径(./../...)\u001B[39;00m\n\u001B[0;32m      2\u001B[0m get_ipython()\u001B[38;5;241m.\u001B[39mrun_line_magic(\u001B[38;5;124m'\u001B[39m\u001B[38;5;124mrun\u001B[39m\u001B[38;5;124m'\u001B[39m, \u001B[38;5;124m'\u001B[39m\u001B[38;5;124mdir_test0\u001B[39m\u001B[38;5;130;01m\\\\\u001B[39;00m\u001B[38;5;124mprint_hello1.py\u001B[39m\u001B[38;5;124m'\u001B[39m)\n\u001B[1;32m----> 4\u001B[0m \u001B[43mprint_hello1\u001B[49m(\u001B[38;5;124m\"\u001B[39m\u001B[38;5;124mc++\u001B[39m\u001B[38;5;124m\"\u001B[39m)\n",
      "\u001B[1;31mNameError\u001B[0m: name 'print_hello1' is not defined"
     ]
    }
   ],
   "source": [
    "# 要求执行的*.py文件中不能包含相对路径(./../...)\n",
    "%run dir_example\\print_hello1.py\n",
    "\n",
    "print_hello1(\"c++\")"
   ],
   "metadata": {
    "collapsed": false,
    "pycharm": {
     "name": "#%%\n"
    }
   }
  },
  {
   "cell_type": "code",
   "execution_count": null,
   "outputs": [],
   "source": [],
   "metadata": {
    "collapsed": false,
    "pycharm": {
     "name": "#%%\n"
    }
   }
  }
 ],
 "metadata": {
  "kernelspec": {
   "display_name": "Python 3",
   "language": "python",
   "name": "python3"
  },
  "language_info": {
   "codemirror_mode": {
    "name": "ipython",
    "version": 3
   },
   "file_extension": ".py",
   "mimetype": "text/x-python",
   "name": "python",
   "nbconvert_exporter": "python",
   "pygments_lexer": "ipython3",
   "version": "3.8.5"
  }
 },
 "nbformat": 4,
 "nbformat_minor": 1
}