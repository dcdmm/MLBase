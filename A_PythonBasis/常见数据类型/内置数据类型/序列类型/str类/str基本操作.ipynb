{
 "cells": [
  {
   "cell_type": "code",
   "execution_count": 9,
   "outputs": [
    {
     "name": "stdout",
     "text": [
      "n\n",
      "a\n",
      "uancha\n",
      "unh\n",
      "agocac\n",
      "duanchaochongya\n"
     ],
     "output_type": "stream"
    }
   ],
   "source": [
    "# 切片索引\n",
    "str1 = 'duanchaochongya'\n",
    "print(str1[3])\n",
    "print(str1[-1])\n",
    "print(str1[1:7])\n",
    "print(str1[1:7:2]) # 步长为2\n",
    "print(str1[-1:3:-2]) # 切片,步长为-2\n",
    "print(str1[:])\n",
    "print(str1[::-1]) # 字符串的翻转"
   ],
   "metadata": {
    "collapsed": false,
    "pycharm": {
     "name": "#%%\n",
     "is_executing": false
    }
   }
  },
  {
   "cell_type": "code",
   "execution_count": 10,
   "outputs": [
    {
     "name": "stdout",
     "text": [
      "abbc\n"
     ],
     "output_type": "stream"
    }
   ],
   "source": [
    "print('ab' + 'bc') # 字符串的拼接(+)"
   ],
   "metadata": {
    "collapsed": false,
    "pycharm": {
     "name": "#%%\n",
     "is_executing": false
    }
   }
  },
  {
   "cell_type": "code",
   "execution_count": 11,
   "outputs": [
    {
     "name": "stdout",
     "text": [
      "ababab\n"
     ],
     "output_type": "stream"
    }
   ],
   "source": [
    "print('ab' * 3) # 字符串的重复(*)"
   ],
   "metadata": {
    "collapsed": false,
    "pycharm": {
     "name": "#%%\n",
     "is_executing": false
    }
   }
  },
  {
   "cell_type": "code",
   "execution_count": 12,
   "outputs": [
    {
     "traceback": [
      "\u001B[1;31m---------------------------------------------------------------------------\u001B[0m",
      "\u001B[1;31mNameError\u001B[0m                                 Traceback (most recent call last)",
      "\u001B[1;32m<ipython-input-12-f4c2f71a57f6>\u001B[0m in \u001B[0;36m<module>\u001B[1;34m\u001B[0m\n\u001B[0;32m      1\u001B[0m \u001B[0mstr2\u001B[0m \u001B[1;33m=\u001B[0m \u001B[1;34m'hello java'\u001B[0m\u001B[1;33m\u001B[0m\u001B[1;33m\u001B[0m\u001B[0m\n\u001B[0;32m      2\u001B[0m \u001B[1;32mdel\u001B[0m \u001B[0mstr2\u001B[0m \u001B[1;31m# 删除字符串\u001B[0m\u001B[1;33m\u001B[0m\u001B[1;33m\u001B[0m\u001B[0m\n\u001B[1;32m----> 3\u001B[1;33m \u001B[0mprint\u001B[0m\u001B[1;33m(\u001B[0m\u001B[0mstr2\u001B[0m\u001B[1;33m)\u001B[0m\u001B[1;33m\u001B[0m\u001B[1;33m\u001B[0m\u001B[0m\n\u001B[0m\u001B[0;32m      4\u001B[0m \u001B[1;33m\u001B[0m\u001B[0m\n",
      "\u001B[1;31mNameError\u001B[0m: name 'str2' is not defined"
     ],
     "ename": "NameError",
     "evalue": "name 'str2' is not defined",
     "output_type": "error"
    }
   ],
   "source": [
    "str2 = 'hello java'\n",
    "del str2 # 删除字符串\n",
    "print(str2)"
   ],
   "metadata": {
    "collapsed": false,
    "pycharm": {
     "name": "#%%\n",
     "is_executing": false
    }
   }
  },
  {
   "cell_type": "code",
   "execution_count": null,
   "outputs": [],
   "source": [
    "\n"
   ],
   "metadata": {
    "collapsed": false,
    "pycharm": {
     "name": "#%%\n",
     "is_executing": false
    }
   }
  }
 ],
 "metadata": {
  "kernelspec": {
   "display_name": "Python 3",
   "language": "python",
   "name": "python3"
  },
  "language_info": {
   "codemirror_mode": {
    "name": "ipython",
    "version": 2
   },
   "file_extension": ".py",
   "mimetype": "text/x-python",
   "name": "python",
   "nbconvert_exporter": "python",
   "pygments_lexer": "ipython2",
   "version": "2.7.6"
  }
 },
 "nbformat": 4,
 "nbformat_minor": 0
}