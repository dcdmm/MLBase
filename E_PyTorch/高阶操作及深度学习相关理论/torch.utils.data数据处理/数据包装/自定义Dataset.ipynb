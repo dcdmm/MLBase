{
 "cells": [
  {
   "cell_type": "code",
   "execution_count": 5,
   "metadata": {
    "pycharm": {
     "name": "#%%\n"
    }
   },
   "outputs": [],
   "source": [
    "import torch\n",
    "from torch.utils.data import DataLoader, Dataset\n",
    "import pandas as pd\n",
    "from sklearn import preprocessing"
   ]
  },
  {
   "cell_type": "code",
   "execution_count": 6,
   "metadata": {
    "pycharm": {
     "name": "#%%\n"
    }
   },
   "outputs": [],
   "source": [
    "class MyDataset(Dataset):  # 继承Dataset类\n",
    "    \"\"\"可在此处对数据的读取,下载,初始化等进行相关设置\"\"\"\n",
    "\n",
    "    def __init__(self, open_dir):\n",
    "        self.dataset = pd.read_csv(open_dir, header=None).values[:100]\n",
    "        self.len = self.dataset.shape[0]\n",
    "        self.data_x = torch.from_numpy(self.dataset[:, 1:])  # 转换为tensor\n",
    "        enc = preprocessing.OneHotEncoder()  # 独热编码\n",
    "        self.data_y = enc.fit_transform(self.dataset[:, 0].reshape(-1, 1)).toarray()\n",
    "        self.data_y = torch.from_numpy(self.data_y)\n",
    "\n",
    "    def __getitem__(self, index):\n",
    "        print(\"::::::::::\", index)\n",
    "        return [self.data_x[index], self.data_y[index]]  # 自定义索引方式\n",
    "\n",
    "    def __len__(self):\n",
    "        return self.len"
   ]
  },
  {
   "cell_type": "code",
   "execution_count": 7,
   "metadata": {
    "pycharm": {
     "name": "#%%\n"
    }
   },
   "outputs": [
    {
     "name": "stdout",
     "output_type": "stream",
     "text": [
      ":::::::::: 0\n",
      "[tensor([  0,   0,   0,   0,   0,   0,   0,   0,   0,   0,   0,   0,   0,   0,\n",
      "          0,   0,   0,   0,   0,   0,   0,   0,   0,   0,   0,   0,   0,   0,\n",
      "          0,   0,   0,   0,   0,   0,   0,   0,   0,   0,   0,   0,   0,   0,\n",
      "          0,   0,   0,   0,   0,   0,   0,   0,   0,   0,   0,   0,   0,   0,\n",
      "          0,   0,   0,   0,   0,   0,   0,   0,   0,   0,   0,   0,   0,   0,\n",
      "          0,   0,   0,   0,   0,   0,   0,   0,   0,   0,   0,   0,   0,   0,\n",
      "          0,   0,   0,   0,   0,   0,   0,   0,   0,   0,   0,   0,   0,   0,\n",
      "          0,   0,   0,   0,   0,   0,   0,   0,   0,   0,   0,   0,   0,   0,\n",
      "          0,   0,   0,   0,   0,   0,   0,   0,   0,   0,   0,   0,   0,   0,\n",
      "          0,   0,   0,   0,   0,   0,   0,   0,   0,   0,   0,   0,   0,   0,\n",
      "          0,   0,   0,   0,   0,   0,   0,   0,   0,   0,   0,   0,   0,   0,\n",
      "          0,   0,  88, 163, 234, 254, 196,  96,   0,   0,   0,   0,   0,   0,\n",
      "          0,   0,   0,   0,   0,   0,   0,   0,   0,   0,   0,   0,   0,   0,\n",
      "         20, 204, 252, 253, 253, 214, 234, 249,  86,   0,   0,   0,   0,   0,\n",
      "          0,   0,   0,   0,   0,   0,   0,   0,   0,   0,   0,   0,   0,  10,\n",
      "        204, 254, 232, 126,  36,  11, 130, 253, 127,   0,   0,   0,   0,   0,\n",
      "          0,   0,   0,   0,   0,   0,   0,   0,   0,   0,   0,   0,   0,  90,\n",
      "        253, 248,  36,   0,   0,   0, 169, 253, 120,   0,   0,   0,   0,   0,\n",
      "          0,   0,   0,   0,   0,   0,   0,   0,   0,   0,   0,   0,   0, 109,\n",
      "        253, 117,   0,   0,   0,  98, 254, 214,  11,   0,   0,   0,   0,   0,\n",
      "          0,   0,   0,   0,   0,   0,   0,   0,   0,   0,   0,   0,   0, 200,\n",
      "        254,   0,   0,   0,  38, 228, 255,  83,   0,   0,   0,   0,   0,   0,\n",
      "          0,   0,   0,   0,   0,   0,   0,   0,   0,   0,   0,   0,  34, 249,\n",
      "        253,   0,   0,   8, 204, 253, 134,   2,   0,   0,   0,   0,   0,   0,\n",
      "          0,   0,   0,   0,   0,   0,   0,   0,   0,   0,   0,   0,  37, 253,\n",
      "        240,   0,  54, 210, 253, 162,  13,   0,   0,   0,   0,   0,   0,   0,\n",
      "          0,   0,   0,   0,   0,   0,   0,   0,   0,   0,   0,   0,  37, 253,\n",
      "        201,  77, 243, 250, 156,  16,   0,   0,   0,   0,   0,   0,   0,   0,\n",
      "          0,   0,   0,   0,   0,   0,   0,   0,   0,   0,   0,   0,  37, 253,\n",
      "        253, 254, 253, 120,   0,   0,   0,   0,   0,   0,   0,   0,   0,   0,\n",
      "          0,   0,   0,   0,   0,   0,   0,   0,   0,   0,   0,   0,  89, 254,\n",
      "        254, 208,  45,   0,   0,   0,   0,   0,   0,   0,   0,   0,   0,   0,\n",
      "          0,   0,   0,   0,   0,   0,   0,   0,   0,   0,  16, 127, 250, 253,\n",
      "        201,   7,   0,   0,   0,   0,   0,   0,   0,   0,   0,   0,   0,   0,\n",
      "          0,   0,   0,   0,   0,   0,   0,   0,   0,  14, 196, 245, 157, 253,\n",
      "        162,   0,   0,   0,   0,   0,   0,   0,   0,   0,   0,   0,   0,   0,\n",
      "          0,   0,   0,   0,   0,   0,   0,   0,  15, 193, 216,  49,  37, 253,\n",
      "        162,   0,   0,   0,   0,   0,   0,   0,   0,   0,   0,   0,   0,   0,\n",
      "          0,   0,   0,   0,   0,   0,   0,   0, 141, 220,  59,   0,  69, 253,\n",
      "        162,   0,   0,   0,   0,   0,   0,   0,   0,   0,   0,   0,   0,   0,\n",
      "          0,   0,   0,   0,   0,   0,   0,  95, 254, 105,   0,   0, 128, 254,\n",
      "        105,   0,   0,   0,   0,   0,   0,   0,   0,   0,   0,   0,   0,   0,\n",
      "          0,   0,   0,   0,   0,   0,   0, 128, 184,   5,   0,  12, 219, 236,\n",
      "          5,   0,   0,   0,   0,   0,   0,   0,   0,   0,   0,   0,   0,   0,\n",
      "          0,   0,   0,   0,   0,   0,   0, 128, 157,   0,  24, 147, 253, 176,\n",
      "          0,   0,   0,   0,   0,   0,   0,   0,   0,   0,   0,   0,   0,   0,\n",
      "          0,   0,   0,   0,   0,   0,   0, 128, 249, 167, 234, 253, 218,  12,\n",
      "          0,   0,   0,   0,   0,   0,   0,   0,   0,   0,   0,   0,   0,   0,\n",
      "          0,   0,   0,   0,   0,   0,   0,  49, 201, 253, 254, 181,  36,   0,\n",
      "          0,   0,   0,   0,   0,   0,   0,   0,   0,   0,   0,   0,   0,   0,\n",
      "          0,   0,   0,   0,   0,   0,   0,   0,   0,   0,   0,   0,   0,   0,\n",
      "          0,   0,   0,   0,   0,   0,   0,   0,   0,   0,   0,   0,   0,   0,\n",
      "          0,   0,   0,   0,   0,   0,   0,   0,   0,   0,   0,   0,   0,   0,\n",
      "          0,   0,   0,   0,   0,   0,   0,   0,   0,   0,   0,   0,   0,   0,\n",
      "          0,   0,   0,   0,   0,   0,   0,   0,   0,   0,   0,   0,   0,   0,\n",
      "          0,   0,   0,   0,   0,   0,   0,   0,   0,   0,   0,   0,   0,   0]), tensor([0., 0., 0., 0., 0., 0., 0., 0., 1., 0.], dtype=torch.float64)]\n"
     ]
    }
   ],
   "source": [
    "file_dir = '../../../../I_Model/核心深度学习模型/深度神经网络DNN/手写数字识别_手工_mnist/mnist_train_6000.csv'\n",
    "mydataset = MyDataset(file_dir)\n",
    "for k in mydataset:\n",
    "    print(k)\n",
    "    break"
   ]
  },
  {
   "cell_type": "code",
   "execution_count": 8,
   "metadata": {
    "pycharm": {
     "name": "#%%\n"
    }
   },
   "outputs": [
    {
     "name": "stdout",
     "output_type": "stream",
     "text": [
      ":::::::::: 3\n",
      ":::::::::: 81\n",
      ":::::::::: 70\n",
      ":::::::::: 16\n",
      ":::::::::: 53\n",
      ":::::::::: 50\n",
      ":::::::::: 96\n",
      ":::::::::: 54\n",
      ":::::::::: 40\n",
      ":::::::::: 27\n",
      ":::::::::: 65\n",
      ":::::::::: 56\n",
      ":::::::::: 39\n",
      ":::::::::: 77\n",
      ":::::::::: 97\n",
      ":::::::::: 9\n",
      ":::::::::: 79\n",
      ":::::::::: 84\n",
      ":::::::::: 87\n",
      ":::::::::: 51\n",
      ":::::::::: 36\n",
      ":::::::::: 13\n",
      ":::::::::: 35\n",
      ":::::::::: 48\n",
      ":::::::::: 11\n",
      ":::::::::: 64\n",
      ":::::::::: 28\n",
      ":::::::::: 31\n",
      ":::::::::: 21\n",
      ":::::::::: 58\n",
      ":::::::::: 73\n",
      ":::::::::: 29\n",
      "第0批大小:\n",
      " torch.Size([32, 784]) torch.Size([32, 10])\n"
     ]
    }
   ],
   "source": [
    "myloader = DataLoader(dataset=mydataset,\n",
    "                      batch_size=32,\n",
    "                      shuffle=True)\n",
    "for i, data in enumerate(myloader):\n",
    "    print('第{}批大小:\\n'.format(str(i)), data[0].shape, data[1].shape)\n",
    "    break"
   ]
  }
 ],
 "metadata": {
  "kernelspec": {
   "display_name": "Python 3",
   "language": "python",
   "name": "python3"
  },
  "language_info": {
   "codemirror_mode": {
    "name": "ipython",
    "version": 3
   },
   "file_extension": ".py",
   "mimetype": "text/x-python",
   "name": "python",
   "nbconvert_exporter": "python",
   "pygments_lexer": "ipython3",
   "version": "3.7.7"
  },
  "toc": {
   "base_numbering": 1,
   "nav_menu": {},
   "number_sections": true,
   "sideBar": true,
   "skip_h1_title": false,
   "title_cell": "Table of Contents",
   "title_sidebar": "Contents",
   "toc_cell": false,
   "toc_position": {},
   "toc_section_display": true,
   "toc_window_display": false
  }
 },
 "nbformat": 4,
 "nbformat_minor": 1
}