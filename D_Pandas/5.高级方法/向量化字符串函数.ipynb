{
 "cells": [
  {
   "cell_type": "code",
   "execution_count": 177,
   "outputs": [],
   "source": [
    "import numpy as np\n",
    "import  pandas as pd\n",
    "import re"
   ],
   "metadata": {
    "collapsed": false,
    "pycharm": {
     "name": "#%%\n"
    }
   }
  },
  {
   "cell_type": "code",
   "execution_count": 178,
   "metadata": {},
   "outputs": [
    {
     "data": {
      "text/plain": "Dave     dave@google.com\nSteve    steve@gmail.com\nRob        rob@gmail.com\nWes                  NaN\ndtype: object"
     },
     "execution_count": 178,
     "metadata": {},
     "output_type": "execute_result"
    }
   ],
   "source": [
    "data = {'Dave': 'dave@google.com', 'Steve': 'steve@gmail.com',\n",
    "        'Rob': 'rob@gmail.com', 'Wes': np.nan}\n",
    "data = pd.Series(data)\n",
    "data"
   ]
  },
  {
   "cell_type": "code",
   "execution_count": 179,
   "metadata": {},
   "outputs": [
    {
     "name": "stdout",
     "output_type": "stream",
     "text": [
      "object\n"
     ]
    }
   ],
   "source": [
    "print(data.dtypes) # 类型数据必须为object"
   ]
  },
  {
   "cell_type": "code",
   "execution_count": 180,
   "metadata": {},
   "outputs": [
    {
     "data": {
      "text/plain": "Dave     False\nSteve    False\nRob      False\nWes       True\ndtype: bool"
     },
     "execution_count": 180,
     "metadata": {},
     "output_type": "execute_result"
    }
   ],
   "source": [
    "data.isnull()"
   ]
  },
  {
   "cell_type": "code",
   "execution_count": 181,
   "metadata": {},
   "outputs": [
    {
     "data": {
      "text/plain": "Dave     False\nSteve     True\nRob       True\nWes        NaN\ndtype: object"
     },
     "execution_count": 181,
     "metadata": {},
     "output_type": "execute_result"
    }
   ],
   "source": [
    "data.str.contains('gmail')"
   ]
  },
  {
   "cell_type": "code",
   "execution_count": 182,
   "metadata": {},
   "outputs": [],
   "source": [
    "pattern = r'[A-Z0-9._%+-]+@[A-Z0-9.-]+\\.[A-Z]{2,4}'"
   ]
  },
  {
   "cell_type": "code",
   "execution_count": 183,
   "metadata": {},
   "outputs": [
    {
     "data": {
      "text/plain": "Dave     [dave@google.com]\nSteve    [steve@gmail.com]\nRob        [rob@gmail.com]\nWes                    NaN\ndtype: object"
     },
     "execution_count": 183,
     "metadata": {},
     "output_type": "execute_result"
    }
   ],
   "source": [
    "data.str.findall(pattern, flags=re.IGNORECASE)"
   ]
  },
  {
   "cell_type": "code",
   "execution_count": 184,
   "metadata": {},
   "outputs": [
    {
     "data": {
      "text/plain": "Dave     True\nSteve    True\nRob      True\nWes       NaN\ndtype: object"
     },
     "execution_count": 184,
     "metadata": {},
     "output_type": "execute_result"
    }
   ],
   "source": [
    "matches = data.str.match(pattern, flags=re.IGNORECASE)\n",
    "matches"
   ]
  },
  {
   "cell_type": "code",
   "execution_count": 185,
   "metadata": {},
   "outputs": [
    {
     "data": {
      "text/plain": "['dave@google.com']"
     },
     "execution_count": 185,
     "metadata": {},
     "output_type": "execute_result"
    }
   ],
   "source": [
    "data.str.findall(pattern, flags=re.IGNORECASE)[0]"
   ]
  },
  {
   "cell_type": "code",
   "execution_count": 186,
   "metadata": {},
   "outputs": [
    {
     "data": {
      "text/plain": "Dave       d\nSteve      s\nRob        r\nWes      NaN\ndtype: object"
     },
     "execution_count": 186,
     "metadata": {},
     "output_type": "execute_result"
    }
   ],
   "source": [
    "data.str[0] # 索引"
   ]
  },
  {
   "cell_type": "code",
   "execution_count": 187,
   "outputs": [
    {
     "data": {
      "text/plain": "Dave     dave@\nSteve    steve\nRob      rob@g\nWes        NaN\ndtype: object"
     },
     "execution_count": 187,
     "metadata": {},
     "output_type": "execute_result"
    }
   ],
   "source": [
    "data.str[:5]"
   ],
   "metadata": {
    "pycharm": {
     "metadata": false,
     "name": "#%%\n"
    }
   }
  },
  {
   "cell_type": "code",
   "execution_count": 188,
   "outputs": [
    {
     "data": {
      "text/plain": "Dave     dv@\nSteve    see\nRob      rbg\nWes      NaN\ndtype: object"
     },
     "execution_count": 188,
     "metadata": {},
     "output_type": "execute_result"
    }
   ],
   "source": [
    "data.str[:5:2] # 切片(带步长)"
   ],
   "metadata": {
    "pycharm": {
     "metadata": false,
     "name": "#%%\n"
    }
   }
  },
  {
   "cell_type": "code",
   "execution_count": 189,
   "outputs": [
    {
     "data": {
      "text/plain": "Index(['DAVE', 'STEVE', 'ROB', 'WES'], dtype='object')"
     },
     "execution_count": 189,
     "metadata": {},
     "output_type": "execute_result"
    }
   ],
   "source": [
    "data.index.str.upper()"
   ],
   "metadata": {
    "pycharm": {
     "metadata": false,
     "name": "#%%\n"
    }
   }
  },
  {
   "cell_type": "code",
   "execution_count": 190,
   "outputs": [
    {
     "data": {
      "text/plain": "0    a,b,c\n1    1,2,3\n2     a,,c\n3      NaN\ndtype: object"
     },
     "execution_count": 190,
     "metadata": {},
     "output_type": "execute_result"
    }
   ],
   "source": [
    "data1 = pd.Series(['a,b,c', '1,2,3', 'a,,c', np.nan])\n",
    "data1"
   ],
   "metadata": {
    "pycharm": {
     "metadata": false,
     "name": "#%%\n"
    }
   }
  },
  {
   "cell_type": "code",
   "execution_count": 191,
   "outputs": [
    {
     "data": {
      "text/plain": "0    [a, b, c]\n1    [1, 2, 3]\n2     [a, , c]\n3          NaN\ndtype: object"
     },
     "execution_count": 191,
     "metadata": {},
     "output_type": "execute_result"
    }
   ],
   "source": [
    "data1.str.split(',')"
   ],
   "metadata": {
    "pycharm": {
     "metadata": false,
     "name": "#%%\n"
    }
   }
  },
  {
   "cell_type": "code",
   "execution_count": 192,
   "outputs": [
    {
     "data": {
      "text/plain": "     0    1    2\n0    a    b    c\n1    1    2    3\n2    a         c\n3  NaN  NaN  NaN",
      "text/html": "<div>\n<style scoped>\n    .dataframe tbody tr th:only-of-type {\n        vertical-align: middle;\n    }\n\n    .dataframe tbody tr th {\n        vertical-align: top;\n    }\n\n    .dataframe thead th {\n        text-align: right;\n    }\n</style>\n<table border=\"1\" class=\"dataframe\">\n  <thead>\n    <tr style=\"text-align: right;\">\n      <th></th>\n      <th>0</th>\n      <th>1</th>\n      <th>2</th>\n    </tr>\n  </thead>\n  <tbody>\n    <tr>\n      <th>0</th>\n      <td>a</td>\n      <td>b</td>\n      <td>c</td>\n    </tr>\n    <tr>\n      <th>1</th>\n      <td>1</td>\n      <td>2</td>\n      <td>3</td>\n    </tr>\n    <tr>\n      <th>2</th>\n      <td>a</td>\n      <td></td>\n      <td>c</td>\n    </tr>\n    <tr>\n      <th>3</th>\n      <td>NaN</td>\n      <td>NaN</td>\n      <td>NaN</td>\n    </tr>\n  </tbody>\n</table>\n</div>"
     },
     "execution_count": 192,
     "metadata": {},
     "output_type": "execute_result"
    }
   ],
   "source": [
    "'''\n",
    "expand : bool, default False\n",
    "Expand the splitted strings into separate columns.\n",
    "\n",
    "    If True, return DataFrame/MultiIndex expanding dimensionality.\n",
    "    If False, return Series/Index, containing lists of strings.\n",
    "'''\n",
    "data1.str.split(',', expand=True)"
   ],
   "metadata": {
    "pycharm": {
     "metadata": false,
     "name": "#%%\n"
    }
   }
  },
  {
   "cell_type": "code",
   "execution_count": 193,
   "outputs": [
    {
     "data": {
      "text/plain": "\"\\n部分向量化字符串方法列表\\ncat          根据可选的分隔符按元素粘合字符串\\ncontains     返回是否含有某个模式/正则表达式的布尔值数组  \\ncount        模式出现的次数\\nextract      使用正则表达式从字符串Series中扶持抽取一个或多个字符串;\\n\\t\\t\\t 返回结果是每个分组形成的一列DataFrame\\nendwith      等价于对每个元素使用x.endwith\\nstartwith    等价于对每个元素使用x.startwith\\nfindall      找出字符串中的所有模式/正则表达式匹配项,以列表返回\\nget          对每个元素进行索引(获得第i个元素)\\nisalnum      等于内建的str.alnum\\nisalhpa      等于内建的str.isalpha\\nisdecimal    等于内建的str.decimal\\nisdigit      等于内建的str.isdigit\\nislower      等于内建的str.islower\\nisnumeric    等于内建的str.isnumeric\\nisupper      等于内建的str.isupper\\njoin         根据传递的分隔符,将Series中的字符串联合\\nlen          计算每个字符串的长度\\nlower,upper  转换大小写;等价于对每个元素进行x.lower()或x.upper()\\nmathch       使用re.match将正则表达式应用到每个元素上,将匹配分组以列表形式返回\\npad          将空白加到字符串的左边,右边或两边\\ncenter       等价于pad(side='both')\\nrepeat       重复值(例如s.str.repeat(3)等于与对每个字符串进行x*3)\\nreplace      以其他字符串替代模式/正则表达式的匹配项\\nslice        对Series中的字符串进行切片\\nsplit        以分隔符或正则表达式对字符串进行拆分\\nstrip        对字符串两侧的空白进行消除,包括换行符\\nrstrip       消除字符串右边的空白\\nlstrip       消除字符串左边的空白\\n\""
     },
     "execution_count": 193,
     "metadata": {},
     "output_type": "execute_result"
    }
   ],
   "source": [
    "\"\"\"\n",
    "部分向量化字符串方法列表\n",
    "cat          根据可选的分隔符按元素粘合字符串\n",
    "contains     返回是否含有某个模式/正则表达式的布尔值数组  \n",
    "count        模式出现的次数\n",
    "extract      使用正则表达式从字符串Series中扶持抽取一个或多个字符串;\n",
    "\t\t\t 返回结果是每个分组形成的一列DataFrame\n",
    "endwith      等价于对每个元素使用x.endwith\n",
    "startwith    等价于对每个元素使用x.startwith\n",
    "findall      找出字符串中的所有模式/正则表达式匹配项,以列表返回\n",
    "get          对每个元素进行索引(获得第i个元素)\n",
    "isalnum      等于内建的str.alnum\n",
    "isalhpa      等于内建的str.isalpha\n",
    "isdecimal    等于内建的str.decimal\n",
    "isdigit      等于内建的str.isdigit\n",
    "islower      等于内建的str.islower\n",
    "isnumeric    等于内建的str.isnumeric\n",
    "isupper      等于内建的str.isupper\n",
    "join         根据传递的分隔符,将Series中的字符串联合\n",
    "len          计算每个字符串的长度\n",
    "lower,upper  转换大小写;等价于对每个元素进行x.lower()或x.upper()\n",
    "mathch       使用re.match将正则表达式应用到每个元素上,将匹配分组以列表形式返回\n",
    "pad          将空白加到字符串的左边,右边或两边\n",
    "center       等价于pad(side='both')\n",
    "repeat       重复值(例如s.str.repeat(3)等于与对每个字符串进行x*3)\n",
    "replace      以其他字符串替代模式/正则表达式的匹配项\n",
    "slice        对Series中的字符串进行切片\n",
    "split        以分隔符或正则表达式对字符串进行拆分\n",
    "strip        对字符串两侧的空白进行消除,包括换行符\n",
    "rstrip       消除字符串右边的空白\n",
    "lstrip       消除字符串左边的空白\n",
    "\"\"\"\n"
   ],
   "metadata": {
    "pycharm": {
     "metadata": false,
     "name": "#%%\n"
    }
   }
  }
 ],
 "metadata": {
  "kernelspec": {
   "name": "python3",
   "language": "python",
   "display_name": "Python 3"
  },
  "language_info": {
   "codemirror_mode": {
    "name": "ipython",
    "version": 2
   },
   "file_extension": ".py",
   "mimetype": "text/x-python",
   "name": "python",
   "nbconvert_exporter": "python",
   "pygments_lexer": "ipython2",
   "version": "2.7.6"
  },
  "stem_cell": {
   "cell_type": "raw",
   "source": "",
   "metadata": {
    "pycharm": {
     "metadata": false
    }
   }
  }
 },
 "nbformat": 4,
 "nbformat_minor": 0
}