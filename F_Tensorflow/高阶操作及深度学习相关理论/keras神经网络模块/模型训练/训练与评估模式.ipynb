{
 "cells": [
  {
   "cell_type": "code",
   "execution_count": 34,
   "outputs": [],
   "source": [
    "import tensorflow as tf"
   ],
   "metadata": {
    "collapsed": false,
    "pycharm": {
     "name": "#%%\n"
    }
   }
  },
  {
   "cell_type": "markdown",
   "source": [
    "### Sequential_API/Function_API"
   ],
   "metadata": {
    "collapsed": false,
    "pycharm": {
     "name": "#%% md\n"
    }
   }
  },
  {
   "cell_type": "code",
   "execution_count": 35,
   "outputs": [],
   "source": [
    "inputs = tf.keras.Input(shape=(54,))\n",
    "x = tf.keras.layers.Dense(256, activation='tanh')(inputs)\n",
    "x = tf.keras.layers.Dropout(0.2)(x)\n",
    "x = tf.keras.layers.Dense(128, activation='relu')(x)\n",
    "x = tf.keras.layers.Dropout(0.4)(x)\n",
    "x = tf.keras.layers.Dense(128)(x)\n",
    "predictions = tf.keras.layers.Dense(7)(x)\n",
    "model = tf.keras.Model(inputs=inputs, outputs=predictions)"
   ],
   "metadata": {
    "collapsed": false,
    "pycharm": {
     "name": "#%%\n"
    }
   }
  },
  {
   "cell_type": "code",
   "execution_count": 36,
   "outputs": [],
   "source": [
    "data = tf.random.uniform((32, 54))\n",
    "\n",
    "# 训练模式\n",
    "output_train = model(data, training=True)\n",
    "\n",
    "# 评估模式\n",
    "output_eval = model(data, training=False)"
   ],
   "metadata": {
    "collapsed": false,
    "pycharm": {
     "name": "#%%\n"
    }
   }
  },
  {
   "cell_type": "code",
   "execution_count": 37,
   "outputs": [
    {
     "data": {
      "text/plain": "<tf.Tensor: shape=(32, 7), dtype=float32, numpy=\narray([[0., 0., 0., 0., 0., 0., 0.],\n       [0., 0., 0., 0., 0., 0., 0.],\n       [0., 0., 0., 0., 0., 0., 0.],\n       [0., 0., 0., 0., 0., 0., 0.],\n       [0., 0., 0., 0., 0., 0., 0.],\n       [0., 0., 0., 0., 0., 0., 0.],\n       [0., 0., 0., 0., 0., 0., 0.],\n       [0., 0., 0., 0., 0., 0., 0.],\n       [0., 0., 0., 0., 0., 0., 0.],\n       [0., 0., 0., 0., 0., 0., 0.],\n       [0., 0., 0., 0., 0., 0., 0.],\n       [0., 0., 0., 0., 0., 0., 0.],\n       [0., 0., 0., 0., 0., 0., 0.],\n       [0., 0., 0., 0., 0., 0., 0.],\n       [0., 0., 0., 0., 0., 0., 0.],\n       [0., 0., 0., 0., 0., 0., 0.],\n       [0., 0., 0., 0., 0., 0., 0.],\n       [0., 0., 0., 0., 0., 0., 0.],\n       [0., 0., 0., 0., 0., 0., 0.],\n       [0., 0., 0., 0., 0., 0., 0.],\n       [0., 0., 0., 0., 0., 0., 0.],\n       [0., 0., 0., 0., 0., 0., 0.],\n       [0., 0., 0., 0., 0., 0., 0.],\n       [0., 0., 0., 0., 0., 0., 0.],\n       [0., 0., 0., 0., 0., 0., 0.],\n       [0., 0., 0., 0., 0., 0., 0.],\n       [0., 0., 0., 0., 0., 0., 0.],\n       [0., 0., 0., 0., 0., 0., 0.],\n       [0., 0., 0., 0., 0., 0., 0.],\n       [0., 0., 0., 0., 0., 0., 0.],\n       [0., 0., 0., 0., 0., 0., 0.],\n       [0., 0., 0., 0., 0., 0., 0.]], dtype=float32)>"
     },
     "execution_count": 37,
     "metadata": {},
     "output_type": "execute_result"
    }
   ],
   "source": [
    "default = model(data)\n",
    "default - output_eval"
   ],
   "metadata": {
    "collapsed": false,
    "pycharm": {
     "name": "#%%\n"
    }
   }
  },
  {
   "cell_type": "markdown",
   "source": [
    "### Subclassing_API"
   ],
   "metadata": {
    "collapsed": false,
    "pycharm": {
     "name": "#%% md\n"
    }
   }
  },
  {
   "cell_type": "code",
   "execution_count": 38,
   "outputs": [],
   "source": [
    "'''\n",
    "If you subclass `Model`, you can optionally have\n",
    "  a `training` argument (boolean) in `call()`, which you can use to specify\n",
    "  a different behavior in training and inference:\n",
    "'''\n",
    "\n",
    "\n",
    "class MyModel(tf.keras.Model):\n",
    "    def __init__(self):\n",
    "        super().__init__()\n",
    "        self.dense1 = tf.keras.layers.Dense(4, activation=tf.nn.relu)\n",
    "        self.dense2 = tf.keras.layers.Dense(5, activation=tf.nn.softmax)\n",
    "        self.dropout = tf.keras.layers.Dropout(0.5)\n",
    "\n",
    "    def call(self, inputs, training=False):\n",
    "        x = self.dense1(inputs)\n",
    "        if training:\n",
    "            x = self.dropout(x, training=training)\n",
    "        return self.dense2(x)"
   ],
   "metadata": {
    "collapsed": false,
    "pycharm": {
     "name": "#%%\n"
    }
   }
  },
  {
   "cell_type": "code",
   "execution_count": 39,
   "outputs": [],
   "source": [
    "model = MyModel()"
   ],
   "metadata": {
    "collapsed": false,
    "pycharm": {
     "name": "#%%\n"
    }
   }
  },
  {
   "cell_type": "code",
   "execution_count": 40,
   "outputs": [],
   "source": [
    "data_s = tf.random.uniform((32, 4))\n",
    "\n",
    "# 训练模式\n",
    "output_train_s = model(data_s, training=True)\n",
    "\n",
    "# 评估模式\n",
    "outpu_eval_s = model(data_s, training=False)"
   ],
   "metadata": {
    "collapsed": false,
    "pycharm": {
     "name": "#%%\n"
    }
   }
  },
  {
   "cell_type": "code",
   "execution_count": 40,
   "outputs": [],
   "source": [],
   "metadata": {
    "collapsed": false,
    "pycharm": {
     "name": "#%%\n"
    }
   }
  }
 ],
 "metadata": {
  "kernelspec": {
   "display_name": "Python 3",
   "language": "python",
   "name": "python3"
  },
  "language_info": {
   "codemirror_mode": {
    "name": "ipython",
    "version": 2
   },
   "file_extension": ".py",
   "mimetype": "text/x-python",
   "name": "python",
   "nbconvert_exporter": "python",
   "pygments_lexer": "ipython2",
   "version": "2.7.6"
  }
 },
 "nbformat": 4,
 "nbformat_minor": 0
}