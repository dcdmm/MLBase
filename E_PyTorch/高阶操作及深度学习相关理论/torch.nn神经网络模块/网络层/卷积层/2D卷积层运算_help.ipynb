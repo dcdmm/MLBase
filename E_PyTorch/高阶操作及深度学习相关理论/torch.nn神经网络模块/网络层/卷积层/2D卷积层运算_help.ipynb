{
 "cells": [
  {
   "cell_type": "markdown",
   "source": [
    "## 卷积计算\r\n",
    "\r\n",
    "\r\n",
    "### 卷积运算的计算顺序\r\n",
    "<img src=\"../../../../../Other/img/CNN卷积运算.png\">\r\n",
    "\r\n",
    "<img src=\"../../../../../Other/img/CNN卷积运算1.gif\">\r\n",
    "\r\n",
    "\r\n",
    "### 卷积运算的偏置\r\n",
    "<img src=\"../../../../../Other/img/CNN卷积运算偏置.png\">\r\n",
    "\r\n",
    "\r\n",
    "## 填充\r\n",
    "<img src=\"../../../../../Other/img/CNN填充.png\">\r\n",
    "\r\n",
    "\r\n",
    "## 步幅\r\n",
    "<img src=\"../../../../../Other/img/CNN步幅.png\">\r\n",
    "\r\n",
    "\r\n",
    "&emsp;&emsp;若假设输入大小为$(H,W)$,滤波器大小为$(FH,FW)$,输出大小为$(OH,OW)$,填充为$(PH,PW)$,步幅为$(SH,SW)$,若采用向下取整有(不考虑空洞卷积)\r\n",
    "\r\n",
    "$$\r\n",
    "\\begin{array}{l}\r\n",
    "OH &= \\lfloor \\frac{H-FH+2*PH+SH}{SH}  \\rfloor \\\\\r\n",
    "OW &= \\lfloor \\frac{W-FW+2*PW+SW}{SW}  \\rfloor \\\\\r\n",
    "\\end{array}\r\n",
    "$$\r\n",
    "\r\n",
    "卷积神经网络经常用奇数高宽的卷积核,如1,3,5,7.\r\n",
    "\r\n",
    "\r\n",
    "## 3通道数据的卷积运算\r\n",
    "<img src=\"../../../../../Other/img/3通道卷积运算0.jpg\">\r\n",
    "\r\n",
    "在3通道数据的卷积运算中,输入数据和滤波器的通道数要设为相同的值\r\n",
    "\r\n",
    "<img src=\"../../../../../Other/img/3通道卷积运算1.jpg\">\r\n",
    "\r\n",
    "<img src=\"../../../../../Other/img/3通道卷积运算2.gif\">\r\n",
    "\r\n",
    "书写顺序为:(channel,height, width)\r\n",
    "\r\n",
    "### 基于多个滤波器的卷积运算\r\n",
    "\r\n",
    "<img src=\"../../../../../Other/img/多通道0.jpg\">\r\n",
    "\r\n",
    "通过应用FN个滤波器,输出特征图也生成了FN个.如果将这FN个特征图汇集在一起,就得到了形状为$(FN,OH,OW)$的方块.\r\n",
    "\r\n",
    "滤波器书写顺序为:(channel,height, width).比如,通道数为3,大小为$5 \\times 7$的滤波器有20个时,可以写成(20, 3, 5, 7).\r\n",
    "\r\n",
    "<img src=\"../../../../../Other/img/多通道1.jpg\">\r\n",
    "\r\n",
    "每个通道都有一个偏置.故偏置的形状是$(FN, 1, 1)$,滤波器的输出结果的形状仍然是是$(FN,OH,OW)$\r\n",
    "\r\n",
    "\r\n",
    "## 批处理\r\n",
    "\r\n",
    "<img src=\"../../../../../Other/img/CNN批处理.jpg\">\r\n",
    "\r\n",
    "通过批处理,能够实现处理的高效化和学习时对mini-batch的对应.具体上讲,就是按(batch_num,channel, height, width)的顺序保存数据."
   ],
   "metadata": {}
  },
  {
   "cell_type": "code",
   "execution_count": null,
   "source": [],
   "outputs": [],
   "metadata": {}
  }
 ],
 "metadata": {
  "kernelspec": {
   "name": "python3",
   "display_name": "Python 3.8.11 64-bit ('base': conda)"
  },
  "language_info": {
   "codemirror_mode": {
    "name": "ipython",
    "version": 3
   },
   "file_extension": ".py",
   "mimetype": "text/x-python",
   "name": "python",
   "nbconvert_exporter": "python",
   "pygments_lexer": "ipython3",
   "version": "3.8.11"
  },
  "toc": {
   "base_numbering": 1,
   "nav_menu": {},
   "number_sections": false,
   "sideBar": true,
   "skip_h1_title": false,
   "title_cell": "Table of Contents",
   "title_sidebar": "Contents",
   "toc_cell": false,
   "toc_position": {
    "height": "calc(100% - 180px)",
    "left": "10px",
    "top": "150px",
    "width": "284.444px"
   },
   "toc_section_display": true,
   "toc_window_display": true
  },
  "interpreter": {
   "hash": "7f42f7985a9e76d558e128652df079bec508149d1eda9cc3ea1ae8669a21bab3"
  }
 },
 "nbformat": 4,
 "nbformat_minor": 4
}