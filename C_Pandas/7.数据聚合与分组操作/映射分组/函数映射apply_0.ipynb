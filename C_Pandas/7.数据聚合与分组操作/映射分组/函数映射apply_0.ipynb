{
 "cells": [
  {
   "cell_type": "code",
   "execution_count": 29,
   "metadata": {
    "pycharm": {
     "name": "#%%\n"
    }
   },
   "outputs": [],
   "source": [
    "import pandas as pd\n",
    "import numpy as np"
   ]
  },
  {
   "cell_type": "code",
   "execution_count": 30,
   "outputs": [
    {
     "data": {
      "text/plain": "     total_bill   tip smoker   day    time  size   tip_pct\n0         16.99  1.01     No   Sun  Dinner     2  0.059447\n1         10.34  1.66     No   Sun  Dinner     3  0.160542\n2         21.01  3.50     No   Sun  Dinner     3  0.166587\n3         23.68  3.31     No   Sun  Dinner     2  0.139780\n4         24.59  3.61     No   Sun  Dinner     4  0.146808\n..          ...   ...    ...   ...     ...   ...       ...\n239       29.03  5.92     No   Sat  Dinner     3  0.203927\n240       27.18  2.00    Yes   Sat  Dinner     2  0.073584\n241       22.67  2.00    Yes   Sat  Dinner     2  0.088222\n242       17.82  1.75     No   Sat  Dinner     2  0.098204\n243       18.78  3.00     No  Thur  Dinner     2  0.159744\n\n[244 rows x 7 columns]",
      "text/html": "<div>\n<style scoped>\n    .dataframe tbody tr th:only-of-type {\n        vertical-align: middle;\n    }\n\n    .dataframe tbody tr th {\n        vertical-align: top;\n    }\n\n    .dataframe thead th {\n        text-align: right;\n    }\n</style>\n<table border=\"1\" class=\"dataframe\">\n  <thead>\n    <tr style=\"text-align: right;\">\n      <th></th>\n      <th>total_bill</th>\n      <th>tip</th>\n      <th>smoker</th>\n      <th>day</th>\n      <th>time</th>\n      <th>size</th>\n      <th>tip_pct</th>\n    </tr>\n  </thead>\n  <tbody>\n    <tr>\n      <th>0</th>\n      <td>16.99</td>\n      <td>1.01</td>\n      <td>No</td>\n      <td>Sun</td>\n      <td>Dinner</td>\n      <td>2</td>\n      <td>0.059447</td>\n    </tr>\n    <tr>\n      <th>1</th>\n      <td>10.34</td>\n      <td>1.66</td>\n      <td>No</td>\n      <td>Sun</td>\n      <td>Dinner</td>\n      <td>3</td>\n      <td>0.160542</td>\n    </tr>\n    <tr>\n      <th>2</th>\n      <td>21.01</td>\n      <td>3.50</td>\n      <td>No</td>\n      <td>Sun</td>\n      <td>Dinner</td>\n      <td>3</td>\n      <td>0.166587</td>\n    </tr>\n    <tr>\n      <th>3</th>\n      <td>23.68</td>\n      <td>3.31</td>\n      <td>No</td>\n      <td>Sun</td>\n      <td>Dinner</td>\n      <td>2</td>\n      <td>0.139780</td>\n    </tr>\n    <tr>\n      <th>4</th>\n      <td>24.59</td>\n      <td>3.61</td>\n      <td>No</td>\n      <td>Sun</td>\n      <td>Dinner</td>\n      <td>4</td>\n      <td>0.146808</td>\n    </tr>\n    <tr>\n      <th>...</th>\n      <td>...</td>\n      <td>...</td>\n      <td>...</td>\n      <td>...</td>\n      <td>...</td>\n      <td>...</td>\n      <td>...</td>\n    </tr>\n    <tr>\n      <th>239</th>\n      <td>29.03</td>\n      <td>5.92</td>\n      <td>No</td>\n      <td>Sat</td>\n      <td>Dinner</td>\n      <td>3</td>\n      <td>0.203927</td>\n    </tr>\n    <tr>\n      <th>240</th>\n      <td>27.18</td>\n      <td>2.00</td>\n      <td>Yes</td>\n      <td>Sat</td>\n      <td>Dinner</td>\n      <td>2</td>\n      <td>0.073584</td>\n    </tr>\n    <tr>\n      <th>241</th>\n      <td>22.67</td>\n      <td>2.00</td>\n      <td>Yes</td>\n      <td>Sat</td>\n      <td>Dinner</td>\n      <td>2</td>\n      <td>0.088222</td>\n    </tr>\n    <tr>\n      <th>242</th>\n      <td>17.82</td>\n      <td>1.75</td>\n      <td>No</td>\n      <td>Sat</td>\n      <td>Dinner</td>\n      <td>2</td>\n      <td>0.098204</td>\n    </tr>\n    <tr>\n      <th>243</th>\n      <td>18.78</td>\n      <td>3.00</td>\n      <td>No</td>\n      <td>Thur</td>\n      <td>Dinner</td>\n      <td>2</td>\n      <td>0.159744</td>\n    </tr>\n  </tbody>\n</table>\n<p>244 rows × 7 columns</p>\n</div>"
     },
     "execution_count": 30,
     "metadata": {},
     "output_type": "execute_result"
    }
   ],
   "source": [
    "tips = pd.read_csv('tips.csv')\n",
    "# Add tip percentage of total bill\n",
    "tips['tip_pct'] = tips['tip'] / tips['total_bill']\n",
    "tips"
   ],
   "metadata": {
    "collapsed": false,
    "pycharm": {
     "name": "#%%\n"
    }
   }
  },
  {
   "cell_type": "code",
   "execution_count": 31,
   "metadata": {
    "pycharm": {
     "metadata": false,
     "name": "#%%\n"
    }
   },
   "outputs": [
    {
     "name": "stdout",
     "output_type": "stream",
     "text": [
      "group name: No\n",
      "     total_bill   tip smoker   day    time  size   tip_pct\n",
      "0         16.99  1.01     No   Sun  Dinner     2  0.059447\n",
      "1         10.34  1.66     No   Sun  Dinner     3  0.160542\n",
      "2         21.01  3.50     No   Sun  Dinner     3  0.166587\n",
      "3         23.68  3.31     No   Sun  Dinner     2  0.139780\n",
      "4         24.59  3.61     No   Sun  Dinner     4  0.146808\n",
      "..          ...   ...    ...   ...     ...   ...       ...\n",
      "235       10.07  1.25     No   Sat  Dinner     2  0.124131\n",
      "238       35.83  4.67     No   Sat  Dinner     3  0.130338\n",
      "239       29.03  5.92     No   Sat  Dinner     3  0.203927\n",
      "242       17.82  1.75     No   Sat  Dinner     2  0.098204\n",
      "243       18.78  3.00     No  Thur  Dinner     2  0.159744\n",
      "\n",
      "[151 rows x 7 columns]\n",
      "group name: Yes\n",
      "     total_bill   tip smoker  day    time  size   tip_pct\n",
      "56        38.01  3.00    Yes  Sat  Dinner     4  0.078927\n",
      "58        11.24  1.76    Yes  Sat  Dinner     2  0.156584\n",
      "60        20.29  3.21    Yes  Sat  Dinner     2  0.158206\n",
      "61        13.81  2.00    Yes  Sat  Dinner     2  0.144823\n",
      "62        11.02  1.98    Yes  Sat  Dinner     2  0.179673\n",
      "..          ...   ...    ...  ...     ...   ...       ...\n",
      "234       15.53  3.00    Yes  Sat  Dinner     2  0.193175\n",
      "236       12.60  1.00    Yes  Sat  Dinner     2  0.079365\n",
      "237       32.83  1.17    Yes  Sat  Dinner     2  0.035638\n",
      "240       27.18  2.00    Yes  Sat  Dinner     2  0.073584\n",
      "241       22.67  2.00    Yes  Sat  Dinner     2  0.088222\n",
      "\n",
      "[93 rows x 7 columns]\n"
     ]
    }
   ],
   "source": [
    "for name, one_group in tips.groupby('smoker'):\n",
    "    print('group name:', name)\n",
    "    print(one_group)"
   ]
  },
  {
   "cell_type": "code",
   "execution_count": 32,
   "metadata": {
    "pycharm": {
     "name": "#%%\n"
    }
   },
   "outputs": [],
   "source": [
    "def top(df, n=5, columns='tip_pct'):\n",
    "    print('group name:', df.name)\n",
    "    print(df.sort_values(by=columns)[-n:])  # 包含分组列\n",
    "    return df.sort_values(by=columns)[-n:]"
   ]
  },
  {
   "cell_type": "code",
   "execution_count": 33,
   "outputs": [
    {
     "name": "stdout",
     "output_type": "stream",
     "text": [
      "group name: No\n",
      "     total_bill   tip smoker   day    time  size   tip_pct\n",
      "88        24.71  5.85     No  Thur   Lunch     2  0.236746\n",
      "185       20.69  5.00     No   Sun  Dinner     5  0.241663\n",
      "51        10.29  2.60     No   Sun  Dinner     2  0.252672\n",
      "149        7.51  2.00     No  Thur   Lunch     2  0.266312\n",
      "232       11.61  3.39     No   Sat  Dinner     2  0.291990\n",
      "group name: Yes\n",
      "     total_bill   tip smoker  day    time  size   tip_pct\n",
      "109       14.31  4.00    Yes  Sat  Dinner     2  0.279525\n",
      "183       23.17  6.50    Yes  Sun  Dinner     4  0.280535\n",
      "67         3.07  1.00    Yes  Sat  Dinner     1  0.325733\n",
      "178        9.60  4.00    Yes  Sun  Dinner     2  0.416667\n",
      "172        7.25  5.15    Yes  Sun  Dinner     2  0.710345\n"
     ]
    },
    {
     "data": {
      "text/plain": "            total_bill   tip smoker   day    time  size   tip_pct\nsmoker                                                           \nNo     88        24.71  5.85     No  Thur   Lunch     2  0.236746\n       185       20.69  5.00     No   Sun  Dinner     5  0.241663\n       51        10.29  2.60     No   Sun  Dinner     2  0.252672\n       149        7.51  2.00     No  Thur   Lunch     2  0.266312\n       232       11.61  3.39     No   Sat  Dinner     2  0.291990\nYes    109       14.31  4.00    Yes   Sat  Dinner     2  0.279525\n       183       23.17  6.50    Yes   Sun  Dinner     4  0.280535\n       67         3.07  1.00    Yes   Sat  Dinner     1  0.325733\n       178        9.60  4.00    Yes   Sun  Dinner     2  0.416667\n       172        7.25  5.15    Yes   Sun  Dinner     2  0.710345",
      "text/html": "<div>\n<style scoped>\n    .dataframe tbody tr th:only-of-type {\n        vertical-align: middle;\n    }\n\n    .dataframe tbody tr th {\n        vertical-align: top;\n    }\n\n    .dataframe thead th {\n        text-align: right;\n    }\n</style>\n<table border=\"1\" class=\"dataframe\">\n  <thead>\n    <tr style=\"text-align: right;\">\n      <th></th>\n      <th></th>\n      <th>total_bill</th>\n      <th>tip</th>\n      <th>smoker</th>\n      <th>day</th>\n      <th>time</th>\n      <th>size</th>\n      <th>tip_pct</th>\n    </tr>\n    <tr>\n      <th>smoker</th>\n      <th></th>\n      <th></th>\n      <th></th>\n      <th></th>\n      <th></th>\n      <th></th>\n      <th></th>\n      <th></th>\n    </tr>\n  </thead>\n  <tbody>\n    <tr>\n      <th rowspan=\"5\" valign=\"top\">No</th>\n      <th>88</th>\n      <td>24.71</td>\n      <td>5.85</td>\n      <td>No</td>\n      <td>Thur</td>\n      <td>Lunch</td>\n      <td>2</td>\n      <td>0.236746</td>\n    </tr>\n    <tr>\n      <th>185</th>\n      <td>20.69</td>\n      <td>5.00</td>\n      <td>No</td>\n      <td>Sun</td>\n      <td>Dinner</td>\n      <td>5</td>\n      <td>0.241663</td>\n    </tr>\n    <tr>\n      <th>51</th>\n      <td>10.29</td>\n      <td>2.60</td>\n      <td>No</td>\n      <td>Sun</td>\n      <td>Dinner</td>\n      <td>2</td>\n      <td>0.252672</td>\n    </tr>\n    <tr>\n      <th>149</th>\n      <td>7.51</td>\n      <td>2.00</td>\n      <td>No</td>\n      <td>Thur</td>\n      <td>Lunch</td>\n      <td>2</td>\n      <td>0.266312</td>\n    </tr>\n    <tr>\n      <th>232</th>\n      <td>11.61</td>\n      <td>3.39</td>\n      <td>No</td>\n      <td>Sat</td>\n      <td>Dinner</td>\n      <td>2</td>\n      <td>0.291990</td>\n    </tr>\n    <tr>\n      <th rowspan=\"5\" valign=\"top\">Yes</th>\n      <th>109</th>\n      <td>14.31</td>\n      <td>4.00</td>\n      <td>Yes</td>\n      <td>Sat</td>\n      <td>Dinner</td>\n      <td>2</td>\n      <td>0.279525</td>\n    </tr>\n    <tr>\n      <th>183</th>\n      <td>23.17</td>\n      <td>6.50</td>\n      <td>Yes</td>\n      <td>Sun</td>\n      <td>Dinner</td>\n      <td>4</td>\n      <td>0.280535</td>\n    </tr>\n    <tr>\n      <th>67</th>\n      <td>3.07</td>\n      <td>1.00</td>\n      <td>Yes</td>\n      <td>Sat</td>\n      <td>Dinner</td>\n      <td>1</td>\n      <td>0.325733</td>\n    </tr>\n    <tr>\n      <th>178</th>\n      <td>9.60</td>\n      <td>4.00</td>\n      <td>Yes</td>\n      <td>Sun</td>\n      <td>Dinner</td>\n      <td>2</td>\n      <td>0.416667</td>\n    </tr>\n    <tr>\n      <th>172</th>\n      <td>7.25</td>\n      <td>5.15</td>\n      <td>Yes</td>\n      <td>Sun</td>\n      <td>Dinner</td>\n      <td>2</td>\n      <td>0.710345</td>\n    </tr>\n  </tbody>\n</table>\n</div>"
     },
     "execution_count": 33,
     "metadata": {},
     "output_type": "execute_result"
    }
   ],
   "source": [
    "# 1. top函数在每一个分组上被调用\n",
    "# 2. 之后通过pandas.concat函数将返回结果拼接在一起,并使用分组名作为各组的index(group_keys=True时)\n",
    "tips.groupby('smoker').apply(top)"
   ],
   "metadata": {
    "collapsed": false,
    "pycharm": {
     "name": "#%%\n"
    }
   }
  },
  {
   "cell_type": "code",
   "execution_count": 34,
   "outputs": [
    {
     "name": "stdout",
     "output_type": "stream",
     "text": [
      "group name: No\n",
      "     total_bill   tip smoker   day    time  size   tip_pct\n",
      "88        24.71  5.85     No  Thur   Lunch     2  0.236746\n",
      "185       20.69  5.00     No   Sun  Dinner     5  0.241663\n",
      "51        10.29  2.60     No   Sun  Dinner     2  0.252672\n",
      "149        7.51  2.00     No  Thur   Lunch     2  0.266312\n",
      "232       11.61  3.39     No   Sat  Dinner     2  0.291990\n",
      "group name: Yes\n",
      "     total_bill   tip smoker  day    time  size   tip_pct\n",
      "109       14.31  4.00    Yes  Sat  Dinner     2  0.279525\n",
      "183       23.17  6.50    Yes  Sun  Dinner     4  0.280535\n",
      "67         3.07  1.00    Yes  Sat  Dinner     1  0.325733\n",
      "178        9.60  4.00    Yes  Sun  Dinner     2  0.416667\n",
      "172        7.25  5.15    Yes  Sun  Dinner     2  0.710345\n"
     ]
    },
    {
     "data": {
      "text/plain": "     total_bill   tip smoker   day    time  size   tip_pct\n88        24.71  5.85     No  Thur   Lunch     2  0.236746\n185       20.69  5.00     No   Sun  Dinner     5  0.241663\n51        10.29  2.60     No   Sun  Dinner     2  0.252672\n149        7.51  2.00     No  Thur   Lunch     2  0.266312\n232       11.61  3.39     No   Sat  Dinner     2  0.291990\n109       14.31  4.00    Yes   Sat  Dinner     2  0.279525\n183       23.17  6.50    Yes   Sun  Dinner     4  0.280535\n67         3.07  1.00    Yes   Sat  Dinner     1  0.325733\n178        9.60  4.00    Yes   Sun  Dinner     2  0.416667\n172        7.25  5.15    Yes   Sun  Dinner     2  0.710345",
      "text/html": "<div>\n<style scoped>\n    .dataframe tbody tr th:only-of-type {\n        vertical-align: middle;\n    }\n\n    .dataframe tbody tr th {\n        vertical-align: top;\n    }\n\n    .dataframe thead th {\n        text-align: right;\n    }\n</style>\n<table border=\"1\" class=\"dataframe\">\n  <thead>\n    <tr style=\"text-align: right;\">\n      <th></th>\n      <th>total_bill</th>\n      <th>tip</th>\n      <th>smoker</th>\n      <th>day</th>\n      <th>time</th>\n      <th>size</th>\n      <th>tip_pct</th>\n    </tr>\n  </thead>\n  <tbody>\n    <tr>\n      <th>88</th>\n      <td>24.71</td>\n      <td>5.85</td>\n      <td>No</td>\n      <td>Thur</td>\n      <td>Lunch</td>\n      <td>2</td>\n      <td>0.236746</td>\n    </tr>\n    <tr>\n      <th>185</th>\n      <td>20.69</td>\n      <td>5.00</td>\n      <td>No</td>\n      <td>Sun</td>\n      <td>Dinner</td>\n      <td>5</td>\n      <td>0.241663</td>\n    </tr>\n    <tr>\n      <th>51</th>\n      <td>10.29</td>\n      <td>2.60</td>\n      <td>No</td>\n      <td>Sun</td>\n      <td>Dinner</td>\n      <td>2</td>\n      <td>0.252672</td>\n    </tr>\n    <tr>\n      <th>149</th>\n      <td>7.51</td>\n      <td>2.00</td>\n      <td>No</td>\n      <td>Thur</td>\n      <td>Lunch</td>\n      <td>2</td>\n      <td>0.266312</td>\n    </tr>\n    <tr>\n      <th>232</th>\n      <td>11.61</td>\n      <td>3.39</td>\n      <td>No</td>\n      <td>Sat</td>\n      <td>Dinner</td>\n      <td>2</td>\n      <td>0.291990</td>\n    </tr>\n    <tr>\n      <th>109</th>\n      <td>14.31</td>\n      <td>4.00</td>\n      <td>Yes</td>\n      <td>Sat</td>\n      <td>Dinner</td>\n      <td>2</td>\n      <td>0.279525</td>\n    </tr>\n    <tr>\n      <th>183</th>\n      <td>23.17</td>\n      <td>6.50</td>\n      <td>Yes</td>\n      <td>Sun</td>\n      <td>Dinner</td>\n      <td>4</td>\n      <td>0.280535</td>\n    </tr>\n    <tr>\n      <th>67</th>\n      <td>3.07</td>\n      <td>1.00</td>\n      <td>Yes</td>\n      <td>Sat</td>\n      <td>Dinner</td>\n      <td>1</td>\n      <td>0.325733</td>\n    </tr>\n    <tr>\n      <th>178</th>\n      <td>9.60</td>\n      <td>4.00</td>\n      <td>Yes</td>\n      <td>Sun</td>\n      <td>Dinner</td>\n      <td>2</td>\n      <td>0.416667</td>\n    </tr>\n    <tr>\n      <th>172</th>\n      <td>7.25</td>\n      <td>5.15</td>\n      <td>Yes</td>\n      <td>Sun</td>\n      <td>Dinner</td>\n      <td>2</td>\n      <td>0.710345</td>\n    </tr>\n  </tbody>\n</table>\n</div>"
     },
     "execution_count": 34,
     "metadata": {},
     "output_type": "execute_result"
    }
   ],
   "source": [
    "'''\n",
    "group_keys: bool, default True\n",
    "    When calling apply, add group keys to index to identify pieces.\n",
    "'''\n",
    "tips.groupby('smoker', group_keys=False).apply(top)"
   ],
   "metadata": {
    "collapsed": false,
    "pycharm": {
     "name": "#%%\n"
    }
   }
  },
  {
   "cell_type": "code",
   "execution_count": 35,
   "outputs": [
    {
     "name": "stdout",
     "output_type": "stream",
     "text": [
      "group name: ('No', 'Fri')\n",
      "    total_bill   tip smoker  day    time  size   tip_pct\n",
      "91       22.49  3.50     No  Fri  Dinner     2  0.155625\n",
      "94       22.75  3.25     No  Fri  Dinner     2  0.142857\n",
      "group name: ('No', 'Sat')\n",
      "     total_bill   tip smoker  day    time  size   tip_pct\n",
      "59        48.27  6.73     No  Sat  Dinner     4  0.139424\n",
      "212       48.33  9.00     No  Sat  Dinner     4  0.186220\n",
      "group name: ('No', 'Sun')\n",
      "     total_bill  tip smoker  day    time  size   tip_pct\n",
      "112       38.07  4.0     No  Sun  Dinner     3  0.105070\n",
      "156       48.17  5.0     No  Sun  Dinner     6  0.103799\n",
      "group name: ('No', 'Thur')\n",
      "     total_bill   tip smoker   day   time  size   tip_pct\n",
      "85        34.83  5.17     No  Thur  Lunch     4  0.148435\n",
      "142       41.19  5.00     No  Thur  Lunch     5  0.121389\n",
      "group name: ('Yes', 'Fri')\n",
      "    total_bill   tip smoker  day    time  size   tip_pct\n",
      "90       28.97  3.00    Yes  Fri  Dinner     2  0.103555\n",
      "95       40.17  4.73    Yes  Fri  Dinner     4  0.117750\n",
      "group name: ('Yes', 'Sat')\n",
      "     total_bill   tip smoker  day    time  size   tip_pct\n",
      "102       44.30   2.5    Yes  Sat  Dinner     3  0.056433\n",
      "170       50.81  10.0    Yes  Sat  Dinner     3  0.196812\n",
      "group name: ('Yes', 'Sun')\n",
      "     total_bill  tip smoker  day    time  size   tip_pct\n",
      "184       40.55  3.0    Yes  Sun  Dinner     2  0.073983\n",
      "182       45.35  3.5    Yes  Sun  Dinner     3  0.077178\n",
      "group name: ('Yes', 'Thur')\n",
      "     total_bill  tip smoker   day   time  size   tip_pct\n",
      "83        32.68  5.0    Yes  Thur  Lunch     2  0.152999\n",
      "197       43.11  5.0    Yes  Thur  Lunch     4  0.115982\n"
     ]
    },
    {
     "data": {
      "text/plain": "                 total_bill    tip smoker   day    time  size   tip_pct\nsmoker day                                                             \nNo     Fri  91        22.49   3.50     No   Fri  Dinner     2  0.155625\n            94        22.75   3.25     No   Fri  Dinner     2  0.142857\n       Sat  59        48.27   6.73     No   Sat  Dinner     4  0.139424\n            212       48.33   9.00     No   Sat  Dinner     4  0.186220\n       Sun  112       38.07   4.00     No   Sun  Dinner     3  0.105070\n            156       48.17   5.00     No   Sun  Dinner     6  0.103799\n       Thur 85        34.83   5.17     No  Thur   Lunch     4  0.148435\n            142       41.19   5.00     No  Thur   Lunch     5  0.121389\nYes    Fri  90        28.97   3.00    Yes   Fri  Dinner     2  0.103555\n            95        40.17   4.73    Yes   Fri  Dinner     4  0.117750\n       Sat  102       44.30   2.50    Yes   Sat  Dinner     3  0.056433\n            170       50.81  10.00    Yes   Sat  Dinner     3  0.196812\n       Sun  184       40.55   3.00    Yes   Sun  Dinner     2  0.073983\n            182       45.35   3.50    Yes   Sun  Dinner     3  0.077178\n       Thur 83        32.68   5.00    Yes  Thur   Lunch     2  0.152999\n            197       43.11   5.00    Yes  Thur   Lunch     4  0.115982",
      "text/html": "<div>\n<style scoped>\n    .dataframe tbody tr th:only-of-type {\n        vertical-align: middle;\n    }\n\n    .dataframe tbody tr th {\n        vertical-align: top;\n    }\n\n    .dataframe thead th {\n        text-align: right;\n    }\n</style>\n<table border=\"1\" class=\"dataframe\">\n  <thead>\n    <tr style=\"text-align: right;\">\n      <th></th>\n      <th></th>\n      <th></th>\n      <th>total_bill</th>\n      <th>tip</th>\n      <th>smoker</th>\n      <th>day</th>\n      <th>time</th>\n      <th>size</th>\n      <th>tip_pct</th>\n    </tr>\n    <tr>\n      <th>smoker</th>\n      <th>day</th>\n      <th></th>\n      <th></th>\n      <th></th>\n      <th></th>\n      <th></th>\n      <th></th>\n      <th></th>\n      <th></th>\n    </tr>\n  </thead>\n  <tbody>\n    <tr>\n      <th rowspan=\"8\" valign=\"top\">No</th>\n      <th rowspan=\"2\" valign=\"top\">Fri</th>\n      <th>91</th>\n      <td>22.49</td>\n      <td>3.50</td>\n      <td>No</td>\n      <td>Fri</td>\n      <td>Dinner</td>\n      <td>2</td>\n      <td>0.155625</td>\n    </tr>\n    <tr>\n      <th>94</th>\n      <td>22.75</td>\n      <td>3.25</td>\n      <td>No</td>\n      <td>Fri</td>\n      <td>Dinner</td>\n      <td>2</td>\n      <td>0.142857</td>\n    </tr>\n    <tr>\n      <th rowspan=\"2\" valign=\"top\">Sat</th>\n      <th>59</th>\n      <td>48.27</td>\n      <td>6.73</td>\n      <td>No</td>\n      <td>Sat</td>\n      <td>Dinner</td>\n      <td>4</td>\n      <td>0.139424</td>\n    </tr>\n    <tr>\n      <th>212</th>\n      <td>48.33</td>\n      <td>9.00</td>\n      <td>No</td>\n      <td>Sat</td>\n      <td>Dinner</td>\n      <td>4</td>\n      <td>0.186220</td>\n    </tr>\n    <tr>\n      <th rowspan=\"2\" valign=\"top\">Sun</th>\n      <th>112</th>\n      <td>38.07</td>\n      <td>4.00</td>\n      <td>No</td>\n      <td>Sun</td>\n      <td>Dinner</td>\n      <td>3</td>\n      <td>0.105070</td>\n    </tr>\n    <tr>\n      <th>156</th>\n      <td>48.17</td>\n      <td>5.00</td>\n      <td>No</td>\n      <td>Sun</td>\n      <td>Dinner</td>\n      <td>6</td>\n      <td>0.103799</td>\n    </tr>\n    <tr>\n      <th rowspan=\"2\" valign=\"top\">Thur</th>\n      <th>85</th>\n      <td>34.83</td>\n      <td>5.17</td>\n      <td>No</td>\n      <td>Thur</td>\n      <td>Lunch</td>\n      <td>4</td>\n      <td>0.148435</td>\n    </tr>\n    <tr>\n      <th>142</th>\n      <td>41.19</td>\n      <td>5.00</td>\n      <td>No</td>\n      <td>Thur</td>\n      <td>Lunch</td>\n      <td>5</td>\n      <td>0.121389</td>\n    </tr>\n    <tr>\n      <th rowspan=\"8\" valign=\"top\">Yes</th>\n      <th rowspan=\"2\" valign=\"top\">Fri</th>\n      <th>90</th>\n      <td>28.97</td>\n      <td>3.00</td>\n      <td>Yes</td>\n      <td>Fri</td>\n      <td>Dinner</td>\n      <td>2</td>\n      <td>0.103555</td>\n    </tr>\n    <tr>\n      <th>95</th>\n      <td>40.17</td>\n      <td>4.73</td>\n      <td>Yes</td>\n      <td>Fri</td>\n      <td>Dinner</td>\n      <td>4</td>\n      <td>0.117750</td>\n    </tr>\n    <tr>\n      <th rowspan=\"2\" valign=\"top\">Sat</th>\n      <th>102</th>\n      <td>44.30</td>\n      <td>2.50</td>\n      <td>Yes</td>\n      <td>Sat</td>\n      <td>Dinner</td>\n      <td>3</td>\n      <td>0.056433</td>\n    </tr>\n    <tr>\n      <th>170</th>\n      <td>50.81</td>\n      <td>10.00</td>\n      <td>Yes</td>\n      <td>Sat</td>\n      <td>Dinner</td>\n      <td>3</td>\n      <td>0.196812</td>\n    </tr>\n    <tr>\n      <th rowspan=\"2\" valign=\"top\">Sun</th>\n      <th>184</th>\n      <td>40.55</td>\n      <td>3.00</td>\n      <td>Yes</td>\n      <td>Sun</td>\n      <td>Dinner</td>\n      <td>2</td>\n      <td>0.073983</td>\n    </tr>\n    <tr>\n      <th>182</th>\n      <td>45.35</td>\n      <td>3.50</td>\n      <td>Yes</td>\n      <td>Sun</td>\n      <td>Dinner</td>\n      <td>3</td>\n      <td>0.077178</td>\n    </tr>\n    <tr>\n      <th rowspan=\"2\" valign=\"top\">Thur</th>\n      <th>83</th>\n      <td>32.68</td>\n      <td>5.00</td>\n      <td>Yes</td>\n      <td>Thur</td>\n      <td>Lunch</td>\n      <td>2</td>\n      <td>0.152999</td>\n    </tr>\n    <tr>\n      <th>197</th>\n      <td>43.11</td>\n      <td>5.00</td>\n      <td>Yes</td>\n      <td>Thur</td>\n      <td>Lunch</td>\n      <td>4</td>\n      <td>0.115982</td>\n    </tr>\n  </tbody>\n</table>\n</div>"
     },
     "execution_count": 35,
     "metadata": {},
     "output_type": "execute_result"
    }
   ],
   "source": [
    "tips.groupby(['smoker', 'day']).apply(top, n=2, columns='total_bill')  # 向apply中的函数传递参数"
   ],
   "metadata": {
    "collapsed": false,
    "pycharm": {
     "name": "#%%\n"
    }
   }
  },
  {
   "cell_type": "code",
   "execution_count": 36,
   "outputs": [
    {
     "name": "stdout",
     "output_type": "stream",
     "text": [
      "        total_bill  tip smoker  day    time  size   tip_pct\n",
      "smoker                                                     \n",
      "No            7.25  1.0     No  Fri  Dinner     1  0.056797\n",
      "Yes           3.07  1.0    Yes  Fri  Dinner     1  0.035638\n",
      "\n",
      "        total_bill  tip  day    time  size   tip_pct\n",
      "smoker                                              \n",
      "No            7.25  1.0  Fri  Dinner     1  0.056797\n",
      "Yes           3.07  1.0  Fri  Dinner     1  0.035638\n",
      "\n",
      "        total_bill  tip  day    time  size   tip_pct\n",
      "smoker                                              \n",
      "No            7.25  1.0  Fri  Dinner     1  0.056797\n",
      "Yes           3.07  1.0  Fri  Dinner     1  0.035638\n"
     ]
    }
   ],
   "source": [
    "# 以下操作三者等价\n",
    "print(tips.groupby('smoker').apply(min), end='\\n\\n')  # 执行任何类型的操作\n",
    "print(tips.groupby('smoker').agg(min), end='\\n\\n')  # 仅支持聚合操作\n",
    "print(tips.groupby('smoker').min())"
   ],
   "metadata": {
    "collapsed": false,
    "pycharm": {
     "name": "#%%\n"
    }
   }
  },
  {
   "cell_type": "code",
   "execution_count": 37,
   "outputs": [
    {
     "data": {
      "text/plain": "        data1     data2\n0    0.238424 -1.938303\n1    1.328775  1.042610\n2    0.095036 -0.045552\n3   -2.465265 -1.013719\n4   -0.317593  0.967245\n..        ...       ...\n995 -1.368075  0.699385\n996  0.606637 -1.926481\n997 -0.795488  0.701168\n998 -0.793601  0.238169\n999  0.701902 -0.905173\n\n[1000 rows x 2 columns]",
      "text/html": "<div>\n<style scoped>\n    .dataframe tbody tr th:only-of-type {\n        vertical-align: middle;\n    }\n\n    .dataframe tbody tr th {\n        vertical-align: top;\n    }\n\n    .dataframe thead th {\n        text-align: right;\n    }\n</style>\n<table border=\"1\" class=\"dataframe\">\n  <thead>\n    <tr style=\"text-align: right;\">\n      <th></th>\n      <th>data1</th>\n      <th>data2</th>\n    </tr>\n  </thead>\n  <tbody>\n    <tr>\n      <th>0</th>\n      <td>0.238424</td>\n      <td>-1.938303</td>\n    </tr>\n    <tr>\n      <th>1</th>\n      <td>1.328775</td>\n      <td>1.042610</td>\n    </tr>\n    <tr>\n      <th>2</th>\n      <td>0.095036</td>\n      <td>-0.045552</td>\n    </tr>\n    <tr>\n      <th>3</th>\n      <td>-2.465265</td>\n      <td>-1.013719</td>\n    </tr>\n    <tr>\n      <th>4</th>\n      <td>-0.317593</td>\n      <td>0.967245</td>\n    </tr>\n    <tr>\n      <th>...</th>\n      <td>...</td>\n      <td>...</td>\n    </tr>\n    <tr>\n      <th>995</th>\n      <td>-1.368075</td>\n      <td>0.699385</td>\n    </tr>\n    <tr>\n      <th>996</th>\n      <td>0.606637</td>\n      <td>-1.926481</td>\n    </tr>\n    <tr>\n      <th>997</th>\n      <td>-0.795488</td>\n      <td>0.701168</td>\n    </tr>\n    <tr>\n      <th>998</th>\n      <td>-0.793601</td>\n      <td>0.238169</td>\n    </tr>\n    <tr>\n      <th>999</th>\n      <td>0.701902</td>\n      <td>-0.905173</td>\n    </tr>\n  </tbody>\n</table>\n<p>1000 rows × 2 columns</p>\n</div>"
     },
     "execution_count": 37,
     "metadata": {},
     "output_type": "execute_result"
    }
   ],
   "source": [
    "frame = pd.DataFrame({'data1': np.random.randn(1000),\n",
    "                      'data2': np.random.randn(1000)})\n",
    "frame"
   ],
   "metadata": {
    "collapsed": false,
    "pycharm": {
     "name": "#%%\n"
    }
   }
  },
  {
   "cell_type": "code",
   "execution_count": 38,
   "outputs": [
    {
     "data": {
      "text/plain": "0      (-2.779, -1.309]\n1         (0.156, 1.62]\n2       (-1.309, 0.156]\n3       (-1.309, 0.156]\n4         (0.156, 1.62]\n             ...       \n995       (0.156, 1.62]\n996    (-2.779, -1.309]\n997       (0.156, 1.62]\n998       (0.156, 1.62]\n999     (-1.309, 0.156]\nName: data2, Length: 1000, dtype: category\nCategories (4, interval[float64, right]): [(-2.779, -1.309] < (-1.309, 0.156] < (0.156, 1.62] < (1.62, 3.085]]"
     },
     "execution_count": 38,
     "metadata": {},
     "output_type": "execute_result"
    }
   ],
   "source": [
    "quartiles = pd.cut(frame.data2, 4)\n",
    "quartiles  # type为Series,dtype为CategoricalDtype"
   ],
   "metadata": {
    "collapsed": false,
    "pycharm": {
     "name": "#%%\n"
    }
   }
  },
  {
   "cell_type": "code",
   "execution_count": 39,
   "metadata": {
    "pycharm": {
     "metadata": false,
     "name": "#%%\n"
    }
   },
   "outputs": [
    {
     "name": "stdout",
     "output_type": "stream",
     "text": [
      "group: (-2.779, -1.309]\n",
      "0     -1.938303\n",
      "30    -1.733274\n",
      "36    -1.814221\n",
      "38    -1.859902\n",
      "44    -1.645965\n",
      "         ...   \n",
      "938   -1.355983\n",
      "947   -1.562360\n",
      "951   -1.729043\n",
      "964   -1.974445\n",
      "996   -1.926481\n",
      "Name: data2, Length: 98, dtype: float64\n",
      "group: (-1.309, 0.156]\n",
      "2     -0.045552\n",
      "3     -1.013719\n",
      "5     -0.561878\n",
      "6     -0.438378\n",
      "7      0.013811\n",
      "         ...   \n",
      "986   -0.559765\n",
      "987   -0.389295\n",
      "988    0.041947\n",
      "989    0.114650\n",
      "999   -0.905173\n",
      "Name: data2, Length: 465, dtype: float64\n",
      "group: (0.156, 1.62]\n",
      "1      1.042610\n",
      "4      0.967245\n",
      "9      0.347680\n",
      "14     1.081662\n",
      "17     0.560699\n",
      "         ...   \n",
      "993    0.352196\n",
      "994    0.694582\n",
      "995    0.699385\n",
      "997    0.701168\n",
      "998    0.238169\n",
      "Name: data2, Length: 382, dtype: float64\n",
      "group: (1.62, 3.085]\n",
      "15     1.769075\n",
      "24     1.919197\n",
      "26     2.408297\n",
      "33     1.945485\n",
      "129    1.861765\n",
      "137    1.635487\n",
      "142    2.660053\n",
      "156    1.827857\n",
      "205    1.766299\n",
      "236    1.826957\n",
      "246    2.110868\n",
      "253    1.823065\n",
      "263    2.304238\n",
      "275    1.631067\n",
      "370    1.746325\n",
      "387    1.652711\n",
      "409    1.987891\n",
      "417    1.839120\n",
      "431    1.770698\n",
      "442    1.687299\n",
      "457    3.084780\n",
      "471    1.886878\n",
      "489    2.004179\n",
      "510    1.876601\n",
      "520    2.049044\n",
      "523    1.741852\n",
      "560    1.669466\n",
      "567    1.909356\n",
      "573    1.643219\n",
      "601    1.857778\n",
      "607    1.956468\n",
      "609    2.213471\n",
      "617    1.728726\n",
      "628    2.372648\n",
      "638    2.614219\n",
      "641    1.649175\n",
      "654    1.849405\n",
      "697    2.210946\n",
      "712    1.881678\n",
      "717    1.672923\n",
      "736    2.090048\n",
      "744    2.364165\n",
      "771    1.992701\n",
      "775    1.753441\n",
      "788    1.801073\n",
      "797    2.037035\n",
      "803    1.995327\n",
      "839    1.933155\n",
      "850    1.806999\n",
      "869    1.964423\n",
      "870    1.647652\n",
      "900    2.132567\n",
      "929    1.689588\n",
      "944    1.785686\n",
      "948    2.635619\n",
      "Name: data2, dtype: float64\n"
     ]
    }
   ],
   "source": [
    "grouped = frame.data2.groupby(quartiles)\n",
    "\n",
    "for i, j in grouped:\n",
    "    print(\"group:\", i)\n",
    "    print(j)  # 属于分箱i内的样本"
   ]
  },
  {
   "cell_type": "code",
   "execution_count": 40,
   "outputs": [
    {
     "data": {
      "text/plain": "data2\n(-2.779, -1.309]   -1.741242\n(-1.309, 0.156]    -0.466090\n(0.156, 1.62]       0.733204\n(1.62, 3.085]       1.957746\nName: data2, dtype: float64"
     },
     "execution_count": 40,
     "metadata": {},
     "output_type": "execute_result"
    }
   ],
   "source": [
    "grouped.mean()"
   ],
   "metadata": {
    "collapsed": false,
    "pycharm": {
     "name": "#%%\n"
    }
   }
  },
  {
   "cell_type": "code",
   "execution_count": 41,
   "metadata": {
    "pycharm": {
     "metadata": false,
     "name": "#%%\n"
    }
   },
   "outputs": [],
   "source": [
    "def get_stats(group):\n",
    "    return pd.Series({'min': group.min(),\n",
    "                      'max': group.max(),\n",
    "                      'count': group.count(),\n",
    "                      'mean': group.mean(),\n",
    "                      'sum': np.sum(group)})  # 应用多个函数"
   ]
  },
  {
   "cell_type": "code",
   "execution_count": 42,
   "metadata": {
    "pycharm": {
     "metadata": false,
     "name": "#%%\n"
    }
   },
   "outputs": [
    {
     "data": {
      "text/plain": "data2                  \n(-2.779, -1.309]  min       -2.773413\n                  max       -1.314145\n                  count     98.000000\n                  mean      -1.741242\n                  sum     -170.641727\n(-1.309, 0.156]   min       -1.303917\n                  max        0.150176\n                  count    465.000000\n                  mean      -0.466090\n                  sum     -216.732024\n(0.156, 1.62]     min        0.159036\n                  max        1.612067\n                  count    382.000000\n                  mean       0.733204\n                  sum      280.083941\n(1.62, 3.085]     min        1.631067\n                  max        3.084780\n                  count     55.000000\n                  mean       1.957746\n                  sum      107.676046\nName: data2, dtype: float64"
     },
     "execution_count": 42,
     "metadata": {},
     "output_type": "execute_result"
    }
   ],
   "source": [
    "grouped.apply(get_stats)"
   ]
  },
  {
   "cell_type": "code",
   "execution_count": 42,
   "outputs": [],
   "source": [
    "\n"
   ],
   "metadata": {
    "collapsed": false,
    "pycharm": {
     "name": "#%%\n"
    }
   }
  }
 ],
 "metadata": {
  "kernelspec": {
   "display_name": "Python 3",
   "language": "python",
   "name": "python3"
  },
  "language_info": {
   "codemirror_mode": {
    "name": "ipython",
    "version": 3
   },
   "file_extension": ".py",
   "mimetype": "text/x-python",
   "name": "python",
   "nbconvert_exporter": "python",
   "pygments_lexer": "ipython3",
   "version": "3.7.9"
  },
  "toc": {
   "base_numbering": 1,
   "nav_menu": {},
   "number_sections": true,
   "sideBar": true,
   "skip_h1_title": false,
   "title_cell": "Table of Contents",
   "title_sidebar": "Contents",
   "toc_cell": false,
   "toc_position": {},
   "toc_section_display": true,
   "toc_window_display": false
  }
 },
 "nbformat": 4,
 "nbformat_minor": 1
}