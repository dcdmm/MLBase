{
 "cells": [
  {
   "cell_type": "code",
   "execution_count": 31,
   "metadata": {
    "collapsed": false,
    "pycharm": {
     "name": "#%%\n"
    }
   },
   "outputs": [],
   "source": [
    "import torch"
   ]
  },
  {
   "cell_type": "markdown",
   "metadata": {
    "collapsed": false,
    "pycharm": {
     "name": "#%% md\n"
    }
   },
   "source": [
    "### 参考numpy.sum/cumsum"
   ]
  },
  {
   "cell_type": "code",
   "execution_count": 32,
   "metadata": {
    "collapsed": false,
    "pycharm": {
     "name": "#%%\n"
    }
   },
   "outputs": [
    {
     "name": "stdout",
     "output_type": "stream",
     "text": [
      "tensor(2.9000)\n",
      "tensor([0.5000, 1.2000, 1.4000, 2.9000])\n"
     ]
    }
   ],
   "source": [
    "print(torch.sum(torch.tensor([0.5, 0.7, 0.2, 1.5])))  # 求和\n",
    "print(torch.cumsum(torch.tensor([0.5, 0.7, 0.2, 1.5]), dim=0))  # 累和"
   ]
  },
  {
   "cell_type": "code",
   "execution_count": 33,
   "metadata": {
    "pycharm": {
     "metadata": false,
     "name": "#%%\n"
    }
   },
   "outputs": [
    {
     "name": "stdout",
     "output_type": "stream",
     "text": [
      "tensor(21)\n",
      "tensor([[1, 2, 3],\n",
      "        [5, 7, 9]])\n"
     ]
    }
   ],
   "source": [
    "a = torch.tensor([[1, 2, 3],\n",
    "                  [4, 5, 6]])\n",
    "print(torch.sum(a))\n",
    "print(torch.cumsum(a, dim=0))  # 必须指定dim"
   ]
  },
  {
   "cell_type": "code",
   "execution_count": 34,
   "metadata": {
    "pycharm": {
     "metadata": false,
     "name": "#%%\n"
    }
   },
   "outputs": [
    {
     "name": "stdout",
     "output_type": "stream",
     "text": [
      "tensor([5, 7, 9])\n",
      "tensor([[ 1,  3,  6],\n",
      "        [ 4,  9, 15]])\n"
     ]
    }
   ],
   "source": [
    "print(torch.sum(a, dim=0))  # 列和\n",
    "print(torch.cumsum(a, dim=1))"
   ]
  },
  {
   "cell_type": "code",
   "execution_count": 35,
   "metadata": {
    "collapsed": false,
    "pycharm": {
     "name": "#%%\n"
    }
   },
   "outputs": [
    {
     "name": "stdout",
     "output_type": "stream",
     "text": [
      "tensor([ 1,  3,  6, 10, 15, 21])\n"
     ]
    }
   ],
   "source": [
    "print(torch.cumsum(a.flatten(), dim=0))"
   ]
  },
  {
   "cell_type": "code",
   "execution_count": 36,
   "metadata": {
    "collapsed": false,
    "pycharm": {
     "name": "#%%\n"
    }
   },
   "outputs": [
    {
     "data": {
      "text/plain": [
       "tensor([3.2034, 0.6086])"
      ]
     },
     "execution_count": 36,
     "metadata": {},
     "output_type": "execute_result"
    }
   ],
   "source": [
    "a = torch.randn(2, 1, 3)\n",
    "torch.sum(a, dim=(1, 2))  # 注意:dim参数也可以为元组;第0个维度所有数据的和\n"
   ]
  },
  {
   "cell_type": "code",
   "execution_count": 37,
   "metadata": {},
   "outputs": [
    {
     "name": "stdout",
     "output_type": "stream",
     "text": [
      "tensor(3.2034)\n",
      "tensor(0.6086)\n"
     ]
    }
   ],
   "source": [
    "print(a[0, 0, 0] + a[0, 0, 1] + a[0, 0, 2])\n",
    "print(a[1, 0, 0] + a[1, 0, 1] + a[1, 0, 2])  # 与上等价"
   ]
  }
 ],
 "metadata": {
  "kernelspec": {
   "display_name": "llm",
   "language": "python",
   "name": "python3"
  },
  "language_info": {
   "codemirror_mode": {
    "name": "ipython",
    "version": 3
   },
   "file_extension": ".py",
   "mimetype": "text/x-python",
   "name": "python",
   "nbconvert_exporter": "python",
   "pygments_lexer": "ipython3",
   "version": "3.10.12"
  },
  "stem_cell": {
   "cell_type": "raw",
   "metadata": {
    "pycharm": {
     "metadata": false
    }
   },
   "source": ""
  }
 },
 "nbformat": 4,
 "nbformat_minor": 0
}
