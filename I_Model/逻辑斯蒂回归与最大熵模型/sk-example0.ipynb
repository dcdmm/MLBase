{
 "cells": [
  {
   "cell_type": "markdown",
   "metadata": {
    "collapsed": true,
    "pycharm": {
     "is_executing": false,
     "name": "#%% md\n"
    }
   },
   "source": [
    "1. sklearn中LogisticRegression$L_1$正则化   \n",
    "$$ J(\\beta) + \\alpha L_1 \\Longrightarrow CJ(\\beta) + L_1$$    \n",
    "2. sklearn中LogisticRegression$L_2$正则化    \n",
    "$$ J(\\beta) + \\alpha L_2 \\Longrightarrow CJ(\\beta) + L_2 $$    \n",
    "\n",
    "易知:$C$为$\\alpha$的倒数,较小的值指定更强的正则化"
   ]
  },
  {
   "cell_type": "code",
   "execution_count": 1,
   "metadata": {
    "pycharm": {
     "name": "#%%\n"
    }
   },
   "outputs": [],
   "source": [
    "import numpy as np\n",
    "import matplotlib.pyplot as plt\n",
    "from sklearn.model_selection import train_test_split\n",
    "from sklearn.linear_model import LogisticRegression\n",
    "from sklearn.preprocessing import PolynomialFeatures\n",
    "from sklearn.pipeline import Pipeline\n",
    "from sklearn.preprocessing import StandardScaler\n",
    "\n",
    "X = np.random.normal(0, 1, size=(200, 2))\n",
    "y = np.array((X[:, 0]**2+X[:, 1])<1.5, dtype=np.int32)\n",
    "for _ in range(20):\n",
    "    y[np.random.randint(200)] = 1 # 添加一定噪音"
   ]
  },
  {
   "cell_type": "code",
   "execution_count": 2,
   "metadata": {
    "pycharm": {
     "name": "#%%\n"
    }
   },
   "outputs": [
    {
     "data": {
      "text/plain": "<Figure size 432x288 with 1 Axes>",
      "image/png": "[encoded data removed]"
     },
     "metadata": {
      "needs_background": "light"
     },
     "output_type": "display_data"
    }
   ],
   "source": [
    "plt.scatter(X[y==0,0], X[y==0,1])\n",
    "plt.scatter(X[y==1,0], X[y==1,1])\n",
    "plt.show()"
   ]
  },
  {
   "cell_type": "code",
   "execution_count": 3,
   "metadata": {
    "pycharm": {
     "name": "#%%\n"
    }
   },
   "outputs": [
    {
     "data": {
      "text/plain": "LogisticRegression(n_jobs=-1)"
     },
     "execution_count": 3,
     "metadata": {},
     "output_type": "execute_result"
    }
   ],
   "source": [
    "X_train, X_test, y_train, y_test = train_test_split(X, y, random_state=666)\n",
    "\n",
    "log_reg = LogisticRegression(solver='lbfgs', n_jobs=-1) \n",
    "# default:c=1.0\n",
    "# default:penalty='l2'\n",
    "# default:solve='lbfgs'(支持L2正则化,不支持L1正则化,支持OvR,MvM).拟牛顿法的一种\n",
    "#         solve='sag'(支持L2正则化,不支持L1正则化,支持OvR,MvM).随机平均梯度下降法,适用于样本量非常大的数据集\n",
    "#         solve='saga'(支持L2正则化,不支持L1正则化,还支持elasticnet/弹性网正则化.支持OvR,MvM).An accelerated SAGA variant,线性收敛的随机优化算法的的变种,适用于样本量非常大的数据集\n",
    "#         solve='liblinear'(支持L2正则化,不支持L1正则化,支持OvR,不支持MvM).开源的liblinear库实现,内部使用了坐标轴下降法来迭代优化损失函数,适用于小数据集\n",
    "log_reg.fit(X_train, y_train) # 使用直线进行拟合"
   ]
  },
  {
   "cell_type": "code",
   "execution_count": 4,
   "metadata": {
    "pycharm": {
     "name": "#%%\n"
    }
   },
   "outputs": [
    {
     "data": {
      "text/plain": "0.8466666666666667"
     },
     "execution_count": 4,
     "metadata": {},
     "output_type": "execute_result"
    }
   ],
   "source": [
    "log_reg.score(X_train, y_train)"
   ]
  },
  {
   "cell_type": "code",
   "execution_count": 5,
   "outputs": [
    {
     "data": {
      "text/plain": "array([[4.63796083e-01, 5.36203917e-01],\n       [8.29480443e-02, 9.17051956e-01],\n       [7.77536724e-01, 2.22463276e-01],\n       [1.40562843e-01, 8.59437157e-01],\n       [2.55499057e-01, 7.44500943e-01],\n       [5.43544095e-01, 4.56455905e-01],\n       [1.49227286e-02, 9.85077271e-01],\n       [2.45582153e-01, 7.54417847e-01],\n       [1.50188349e-01, 8.49811651e-01],\n       [2.71588266e-02, 9.72841173e-01],\n       [2.02426907e-01, 7.97573093e-01],\n       [2.16704071e-01, 7.83295929e-01],\n       [1.62210134e-02, 9.83778987e-01],\n       [8.99705141e-01, 1.00294859e-01],\n       [1.59870474e-01, 8.40129526e-01],\n       [1.86451271e-02, 9.81354873e-01],\n       [2.57387559e-01, 7.42612441e-01],\n       [6.86329968e-01, 3.13670032e-01],\n       [4.54200757e-01, 5.45799243e-01],\n       [4.71763368e-01, 5.28236632e-01],\n       [2.54749599e-01, 7.45250401e-01],\n       [3.03195232e-01, 6.96804768e-01],\n       [3.04344108e-04, 9.99695656e-01],\n       [7.62831100e-01, 2.37168900e-01],\n       [1.07172659e-01, 8.92827341e-01],\n       [5.37565347e-01, 4.62434653e-01],\n       [5.24998858e-01, 4.75001142e-01],\n       [4.25801262e-02, 9.57419874e-01],\n       [5.57764589e-02, 9.44223541e-01],\n       [1.43460224e-01, 8.56539776e-01],\n       [2.16027057e-02, 9.78397294e-01],\n       [2.88844661e-01, 7.11155339e-01],\n       [9.83120868e-01, 1.68791324e-02],\n       [6.86705011e-02, 9.31329499e-01],\n       [1.58085540e-01, 8.41914460e-01],\n       [7.53467494e-01, 2.46532506e-01],\n       [1.00472379e-01, 8.99527621e-01],\n       [1.54865668e-01, 8.45134332e-01],\n       [8.16556787e-03, 9.91834432e-01],\n       [1.81983877e-01, 8.18016123e-01],\n       [5.95294496e-01, 4.04705504e-01],\n       [4.10877027e-01, 5.89122973e-01],\n       [2.80584594e-01, 7.19415406e-01],\n       [4.53483164e-01, 5.46516836e-01],\n       [4.24765085e-01, 5.75234915e-01],\n       [2.26874136e-02, 9.77312586e-01],\n       [1.37003792e-03, 9.98629962e-01],\n       [5.25786503e-03, 9.94742135e-01],\n       [1.91707960e-01, 8.08292040e-01],\n       [4.30157982e-01, 5.69842018e-01],\n       [6.71269536e-02, 9.32873046e-01],\n       [7.97530652e-01, 2.02469348e-01],\n       [5.21409722e-01, 4.78590278e-01],\n       [8.46461189e-01, 1.53538811e-01],\n       [4.43260133e-01, 5.56739867e-01],\n       [2.61362710e-01, 7.38637290e-01],\n       [3.49641311e-02, 9.65035869e-01],\n       [8.73675207e-01, 1.26324793e-01],\n       [8.11518050e-01, 1.88481950e-01],\n       [3.47396750e-01, 6.52603250e-01],\n       [2.03917901e-01, 7.96082099e-01],\n       [6.03891110e-01, 3.96108890e-01],\n       [2.22322123e-01, 7.77677877e-01],\n       [3.12671993e-02, 9.68732801e-01],\n       [5.22599542e-01, 4.77400458e-01],\n       [2.09545194e-01, 7.90454806e-01],\n       [3.95678588e-01, 6.04321412e-01],\n       [3.39096863e-01, 6.60903137e-01],\n       [6.46845092e-01, 3.53154908e-01],\n       [8.62676035e-01, 1.37323965e-01],\n       [3.24918351e-01, 6.75081649e-01],\n       [2.19621061e-01, 7.80378939e-01],\n       [9.18890809e-01, 8.11091914e-02],\n       [3.96929635e-01, 6.03070365e-01],\n       [6.65017756e-01, 3.34982244e-01],\n       [3.67547821e-01, 6.32452179e-01],\n       [6.73738924e-02, 9.32626108e-01],\n       [5.86431606e-01, 4.13568394e-01],\n       [2.07917396e-01, 7.92082604e-01],\n       [1.44571751e-01, 8.55428249e-01],\n       [7.79594269e-01, 2.20405731e-01],\n       [8.64959092e-01, 1.35040908e-01],\n       [8.66964265e-03, 9.91330357e-01],\n       [3.25079226e-02, 9.67492077e-01],\n       [1.22628734e-01, 8.77371266e-01],\n       [6.11716789e-02, 9.38828321e-01],\n       [3.83379123e-03, 9.96166209e-01],\n       [4.02687508e-02, 9.59731249e-01],\n       [7.30102599e-01, 2.69897401e-01],\n       [3.01451499e-02, 9.69854850e-01],\n       [1.84334868e-01, 8.15665132e-01],\n       [7.47954730e-02, 9.25204527e-01],\n       [2.67355439e-02, 9.73264456e-01],\n       [8.78715631e-01, 1.21284369e-01],\n       [5.86040680e-01, 4.13959320e-01],\n       [7.62747646e-01, 2.37252354e-01],\n       [4.98792156e-01, 5.01207844e-01],\n       [4.61444572e-01, 5.38555428e-01],\n       [9.50522433e-03, 9.90494776e-01],\n       [1.92586202e-02, 9.80741380e-01],\n       [1.09705750e-01, 8.90294250e-01],\n       [6.69369213e-01, 3.30630787e-01],\n       [6.20154677e-01, 3.79845323e-01],\n       [1.10322837e-01, 8.89677163e-01],\n       [4.80718721e-01, 5.19281279e-01],\n       [3.86367939e-02, 9.61363206e-01],\n       [3.73048665e-01, 6.26951335e-01],\n       [2.79043063e-01, 7.20956937e-01],\n       [3.09734494e-02, 9.69026551e-01],\n       [8.43112840e-02, 9.15688716e-01],\n       [6.92856272e-03, 9.93071437e-01],\n       [8.36375726e-01, 1.63624274e-01],\n       [1.90311601e-01, 8.09688399e-01],\n       [4.16330710e-02, 9.58366929e-01],\n       [1.43417063e-01, 8.56582937e-01],\n       [8.99129606e-02, 9.10087039e-01],\n       [5.21748831e-01, 4.78251169e-01],\n       [4.18319035e-02, 9.58168097e-01],\n       [7.43762392e-02, 9.25623761e-01],\n       [6.02973457e-01, 3.97026543e-01],\n       [2.52817484e-01, 7.47182516e-01],\n       [6.22895945e-01, 3.77104055e-01],\n       [8.01786550e-01, 1.98213450e-01],\n       [9.04864188e-02, 9.09513581e-01],\n       [3.71997057e-02, 9.62800294e-01],\n       [2.44796898e-01, 7.55203102e-01],\n       [1.61406553e-01, 8.38593447e-01],\n       [2.94214466e-01, 7.05785534e-01],\n       [3.78288993e-01, 6.21711007e-01],\n       [6.05670727e-01, 3.94329273e-01],\n       [3.87457942e-01, 6.12542058e-01],\n       [4.05974172e-01, 5.94025828e-01],\n       [2.17638086e-01, 7.82361914e-01],\n       [3.87866960e-01, 6.12133040e-01],\n       [5.10288522e-02, 9.48971148e-01],\n       [6.14045997e-01, 3.85954003e-01],\n       [5.81203781e-01, 4.18796219e-01],\n       [1.51415296e-01, 8.48584704e-01],\n       [2.94272690e-01, 7.05727310e-01],\n       [2.70914580e-02, 9.72908542e-01],\n       [2.57717224e-01, 7.42282776e-01],\n       [1.88085428e-01, 8.11914572e-01],\n       [4.04239386e-01, 5.95760614e-01],\n       [7.30558985e-02, 9.26944101e-01],\n       [9.01892420e-02, 9.09810758e-01],\n       [6.35454493e-01, 3.64545507e-01],\n       [4.89545130e-02, 9.51045487e-01],\n       [2.96026867e-01, 7.03973133e-01],\n       [3.41721079e-01, 6.58278921e-01],\n       [2.40063738e-01, 7.59936262e-01]])"
     },
     "execution_count": 5,
     "metadata": {},
     "output_type": "execute_result"
    }
   ],
   "source": [
    "log_reg.predict_proba(X_train) # 预测结果天生就可以输出为概率向量"
   ],
   "metadata": {
    "collapsed": false,
    "pycharm": {
     "name": "#%%\n"
    }
   }
  },
  {
   "cell_type": "code",
   "execution_count": 6,
   "outputs": [
    {
     "data": {
      "text/plain": "array([1, 1, 0, 1, 1, 0, 1, 1, 1, 1, 1, 1, 1, 0, 1, 1, 1, 0, 1, 1, 1, 1,\n       1, 0, 1, 0, 0, 1, 1, 1, 1, 1, 0, 1, 1, 0, 1, 1, 1, 1, 0, 1, 1, 1,\n       1, 1, 1, 1, 1, 1, 1, 0, 0, 0, 1, 1, 1, 0, 0, 1, 1, 0, 1, 1, 0, 1,\n       1, 1, 0, 0, 1, 1, 0, 1, 0, 1, 1, 0, 1, 1, 0, 0, 1, 1, 1, 1, 1, 1,\n       0, 1, 1, 1, 1, 0, 0, 0, 1, 1, 1, 1, 1, 0, 0, 1, 1, 1, 1, 1, 1, 1,\n       1, 0, 1, 1, 1, 1, 0, 1, 1, 0, 1, 0, 0, 1, 1, 1, 1, 1, 1, 0, 1, 1,\n       1, 1, 1, 0, 0, 1, 1, 1, 1, 1, 1, 1, 1, 0, 1, 1, 1, 1])"
     },
     "execution_count": 6,
     "metadata": {},
     "output_type": "execute_result"
    }
   ],
   "source": [
    "log_reg.predict(X_train) # Predict class labels for samples in X."
   ],
   "metadata": {
    "collapsed": false,
    "pycharm": {
     "name": "#%%\n"
    }
   }
  },
  {
   "cell_type": "code",
   "execution_count": 7,
   "metadata": {
    "pycharm": {
     "name": "#%%\n"
    }
   },
   "outputs": [
    {
     "data": {
      "text/plain": "0.78"
     },
     "execution_count": 7,
     "metadata": {},
     "output_type": "execute_result"
    }
   ],
   "source": [
    "log_reg.score(X_test, y_test) # 欠拟合"
   ]
  },
  {
   "cell_type": "code",
   "execution_count": 8,
   "metadata": {
    "pycharm": {
     "name": "#%%\n"
    }
   },
   "outputs": [],
   "source": [
    "def plot_decision_boundary(model, \n",
    "                           axis): # 坐标轴范围\n",
    "    \"\"\"绘制决策边界\"\"\" \n",
    "    x0, x1 = np.meshgrid(\n",
    "        np.linspace(axis[0], axis[1], int((axis[1]-axis[0])*200)).reshape(-1, 1),\n",
    "        np.linspace(axis[2], axis[3], int((axis[3]-axis[2])*200)).reshape(-1, 1),\n",
    "    )\n",
    "    X_new = np.c_[x0.ravel(), x1.ravel()]\n",
    "\n",
    "    y_predict = model.predict(X_new)\n",
    "    zz = y_predict.reshape(x0.shape)\n",
    "\n",
    "    from matplotlib.colors import ListedColormap\n",
    "    custom_cmap = ListedColormap(['yellow', 'red'])\n",
    "    \n",
    "    plt.contourf(x0, x1, zz, cmap=custom_cmap)"
   ]
  },
  {
   "cell_type": "code",
   "execution_count": 9,
   "metadata": {
    "pycharm": {
     "name": "#%%\n"
    }
   },
   "outputs": [
    {
     "data": {
      "text/plain": "<Figure size 432x288 with 1 Axes>",
      "image/png": "[encoded data removed]"
     },
     "metadata": {
      "needs_background": "light"
     },
     "output_type": "display_data"
    }
   ],
   "source": [
    "plot_decision_boundary(log_reg, axis=[-4, 4, -4, 4])\n",
    "plt.scatter(X[y==0,0], X[y==0,1])\n",
    "plt.scatter(X[y==1,0], X[y==1,1])\n",
    "plt.show()"
   ]
  },
  {
   "cell_type": "code",
   "execution_count": 10,
   "metadata": {
    "pycharm": {
     "name": "#%%\n"
    }
   },
   "outputs": [],
   "source": [
    "def PolynomialLogisticRegression(degree):\n",
    "    # 管道机制实现了对全部步骤的流式化封装和管理\n",
    "    return Pipeline([\n",
    "        ('poly', PolynomialFeatures(degree=degree)),\n",
    "        ('std_scaler', StandardScaler()),\n",
    "        ('log_reg', LogisticRegression(n_jobs=-1, solver='lbfgs'))\n",
    "    ])"
   ]
  },
  {
   "cell_type": "code",
   "execution_count": 11,
   "metadata": {
    "pycharm": {
     "name": "#%%\n"
    }
   },
   "outputs": [
    {
     "data": {
      "text/plain": "Pipeline(steps=[('poly', PolynomialFeatures()),\n                ('std_scaler', StandardScaler()),\n                ('log_reg', LogisticRegression(n_jobs=-1))])"
     },
     "execution_count": 11,
     "metadata": {},
     "output_type": "execute_result"
    }
   ],
   "source": [
    "poly_log_reg = PolynomialLogisticRegression(degree=2) # 多项式最高项次数为2\n",
    "poly_log_reg.fit(X_train, y_train)"
   ]
  },
  {
   "cell_type": "code",
   "execution_count": 12,
   "metadata": {
    "pycharm": {
     "name": "#%%\n"
    }
   },
   "outputs": [
    {
     "data": {
      "text/plain": "0.92"
     },
     "execution_count": 12,
     "metadata": {},
     "output_type": "execute_result"
    }
   ],
   "source": [
    "poly_log_reg.score(X_train, y_train)"
   ]
  },
  {
   "cell_type": "code",
   "execution_count": 13,
   "metadata": {
    "pycharm": {
     "name": "#%%\n"
    }
   },
   "outputs": [
    {
     "data": {
      "text/plain": "0.9"
     },
     "execution_count": 13,
     "metadata": {},
     "output_type": "execute_result"
    }
   ],
   "source": [
    "poly_log_reg.score(X_test, y_test) # 拟合程度较好"
   ]
  },
  {
   "cell_type": "code",
   "execution_count": 14,
   "metadata": {
    "pycharm": {
     "name": "#%%\n"
    }
   },
   "outputs": [
    {
     "data": {
      "text/plain": "<Figure size 432x288 with 1 Axes>",
      "image/png": "[encoded data removed]"
     },
     "metadata": {
      "needs_background": "light"
     },
     "output_type": "display_data"
    }
   ],
   "source": [
    "plot_decision_boundary(poly_log_reg, axis=[-4, 4, -4, 4])\n",
    "plt.scatter(X[y==0,0], X[y==0,1])\n",
    "plt.scatter(X[y==1,0], X[y==1,1])\n",
    "plt.show()"
   ]
  },
  {
   "cell_type": "code",
   "execution_count": 15,
   "metadata": {
    "pycharm": {
     "name": "#%%\n"
    }
   },
   "outputs": [
    {
     "data": {
      "text/plain": "array([[ 0.        ,  0.6730336 , -2.42318499, -2.42113442, -0.07683733,\n        -0.67582042]])"
     },
     "execution_count": 15,
     "metadata": {},
     "output_type": "execute_result"
    }
   ],
   "source": [
    "poly_log_reg[2].coef_ # 解释变量(项)的系数"
   ]
  },
  {
   "cell_type": "code",
   "execution_count": 16,
   "metadata": {
    "pycharm": {
     "name": "#%%\n"
    }
   },
   "outputs": [
    {
     "data": {
      "text/plain": "array([1.33376235])"
     },
     "execution_count": 16,
     "metadata": {},
     "output_type": "execute_result"
    }
   ],
   "source": [
    "poly_log_reg[2].intercept_ # 截距项"
   ]
  },
  {
   "cell_type": "code",
   "execution_count": 17,
   "metadata": {
    "pycharm": {
     "name": "#%%\n"
    }
   },
   "outputs": [
    {
     "data": {
      "text/plain": "['1', 'x0', 'x1', 'x0^2', 'x0 x1', 'x1^2']"
     },
     "execution_count": 17,
     "metadata": {},
     "output_type": "execute_result"
    }
   ],
   "source": [
    "poly_log_reg[0].get_feature_names() # 多项式的各项"
   ]
  },
  {
   "cell_type": "code",
   "execution_count": 18,
   "metadata": {
    "pycharm": {
     "name": "#%%\n"
    }
   },
   "outputs": [
    {
     "data": {
      "text/plain": "Pipeline(steps=[('poly', PolynomialFeatures(degree=20)),\n                ('std_scaler', StandardScaler()),\n                ('log_reg', LogisticRegression(n_jobs=-1))])"
     },
     "execution_count": 18,
     "metadata": {},
     "output_type": "execute_result"
    }
   ],
   "source": [
    "poly_log_reg2 = PolynomialLogisticRegression(degree=20) # 多项式最高项次数为20\n",
    "poly_log_reg2.fit(X_train, y_train)"
   ]
  },
  {
   "cell_type": "code",
   "execution_count": 19,
   "metadata": {
    "pycharm": {
     "name": "#%%\n"
    }
   },
   "outputs": [
    {
     "data": {
      "text/plain": "0.92"
     },
     "execution_count": 19,
     "metadata": {},
     "output_type": "execute_result"
    }
   ],
   "source": [
    "poly_log_reg2.score(X_train, y_train)"
   ]
  },
  {
   "cell_type": "code",
   "execution_count": 20,
   "metadata": {
    "pycharm": {
     "name": "#%%\n"
    }
   },
   "outputs": [
    {
     "data": {
      "text/plain": "0.94"
     },
     "execution_count": 20,
     "metadata": {},
     "output_type": "execute_result"
    }
   ],
   "source": [
    "poly_log_reg2.score(X_test, y_test) # score没有得到提高"
   ]
  },
  {
   "cell_type": "code",
   "execution_count": 21,
   "metadata": {
    "pycharm": {
     "name": "#%%\n"
    }
   },
   "outputs": [
    {
     "data": {
      "text/plain": "<Figure size 432x288 with 1 Axes>",
      "image/png": "[encoded data removed]"
     },
     "metadata": {
      "needs_background": "light"
     },
     "output_type": "display_data"
    }
   ],
   "source": [
    "plot_decision_boundary(poly_log_reg2, axis=[-4, 4, -4, 4])\n",
    "plt.scatter(X[y==0, 0], X[y==0, 1])\n",
    "plt.scatter(X[y==1, 0], X[y==1, 1])\n",
    "plt.show() # 决策边界复杂,可能出现了过拟合"
   ]
  },
  {
   "cell_type": "code",
   "execution_count": 22,
   "metadata": {
    "pycharm": {
     "name": "#%%\n"
    }
   },
   "outputs": [],
   "source": [
    "def PolynomialLogisticRegression(degree, C, penalty='l2'):\n",
    "    return Pipeline([\n",
    "        ('poly', PolynomialFeatures(degree=degree)),\n",
    "        ('std_scaler', StandardScaler()),\n",
    "        ('log_reg', LogisticRegression(C=C, penalty=penalty, n_jobs=-1, solver='saga', max_iter=1000))\n",
    "    ])"
   ]
  },
  {
   "cell_type": "code",
   "execution_count": 23,
   "metadata": {
    "pycharm": {
     "name": "#%%\n"
    }
   },
   "outputs": [
    {
     "name": "stderr",
     "output_type": "stream",
     "text": [
      "C:\\Users\\duanm\\anaconda3\\lib\\site-packages\\sklearn\\linear_model\\_sag.py:330: ConvergenceWarning: The max_iter was reached which means the coef_ did not converge\n",
      "  \"the coef_ did not converge\", ConvergenceWarning)\n"
     ]
    },
    {
     "data": {
      "text/plain": "Pipeline(steps=[('poly', PolynomialFeatures(degree=20)),\n                ('std_scaler', StandardScaler()),\n                ('log_reg',\n                 LogisticRegression(C=0.1, max_iter=1000, n_jobs=-1,\n                                    solver='saga'))])"
     },
     "execution_count": 23,
     "metadata": {},
     "output_type": "execute_result"
    }
   ],
   "source": [
    "poly_log_reg3 = PolynomialLogisticRegression(degree=20, C=0.1, penalty='l2')\n",
    "poly_log_reg3.fit(X_train, y_train)"
   ]
  },
  {
   "cell_type": "code",
   "execution_count": 24,
   "metadata": {
    "pycharm": {
     "name": "#%%\n"
    }
   },
   "outputs": [
    {
     "data": {
      "text/plain": "0.8866666666666667"
     },
     "execution_count": 24,
     "metadata": {},
     "output_type": "execute_result"
    }
   ],
   "source": [
    "poly_log_reg3.score(X_train, y_train)"
   ]
  },
  {
   "cell_type": "code",
   "execution_count": 25,
   "metadata": {
    "pycharm": {
     "name": "#%%\n"
    }
   },
   "outputs": [
    {
     "data": {
      "text/plain": "0.86"
     },
     "execution_count": 25,
     "metadata": {},
     "output_type": "execute_result"
    }
   ],
   "source": [
    "poly_log_reg3.score(X_test, y_test)"
   ]
  },
  {
   "cell_type": "code",
   "execution_count": 26,
   "metadata": {
    "pycharm": {
     "name": "#%%\n"
    }
   },
   "outputs": [
    {
     "data": {
      "text/plain": "array([[ 0.00000000e+00,  2.61075539e-01, -7.40785250e-01,\n        -7.48794131e-01,  1.04495535e-01, -3.16657573e-01,\n         1.49346228e-01, -4.43834146e-01,  6.65102228e-02,\n        -3.58611727e-01, -3.97239714e-01,  8.41724171e-03,\n        -1.70484441e-01,  2.40620414e-02, -1.23342661e-01,\n         7.12283217e-02, -1.46227266e-01,  3.89172434e-02,\n        -1.35356425e-01,  1.01164495e-03, -1.20167787e-01,\n        -2.26061637e-01, -7.71204041e-03, -1.13281176e-01,\n        -5.03149955e-04, -3.47336428e-02,  5.58969807e-03,\n        -3.60569745e-02,  3.26028256e-02, -3.85379876e-02,\n         3.63750091e-02, -5.35842445e-02,  6.99379262e-03,\n        -4.41709116e-02, -5.55392437e-03, -3.90312918e-02,\n        -1.40007147e-01, -1.89298832e-03, -9.68945138e-02,\n        -5.23226075e-03, -2.17633518e-02,  3.61425840e-03,\n        -1.01514485e-02,  2.56003936e-03, -1.00099576e-02,\n         1.68095585e-02, -6.74036170e-03,  3.26690969e-02,\n        -2.05719047e-02,  1.45714938e-02, -2.72014799e-02,\n         1.21573245e-03, -1.46603488e-02, -4.21104259e-03,\n        -1.31997502e-02, -9.28259292e-02,  6.07046309e-03,\n        -8.84807346e-02, -4.30027499e-03, -2.08297059e-02,\n         5.84830804e-03, -9.06765323e-03,  3.15834921e-03,\n        -4.19569886e-03,  2.20900129e-03, -3.08293671e-03,\n         1.19608969e-02, -2.99723010e-04,  2.77611678e-02,\n        -9.22025676e-03,  1.71182736e-02, -1.77436284e-02,\n         7.82869589e-03, -1.25949860e-02, -7.49950295e-06,\n        -4.65130950e-03, -3.04830242e-03, -4.32885898e-03,\n        -6.51666345e-02,  1.14084379e-02, -7.95629816e-02,\n        -1.98798895e-03, -2.15935253e-02,  7.24058430e-03,\n        -1.09091218e-02,  6.69673497e-03, -5.47288659e-03,\n         2.56100398e-03, -2.48902656e-03,  2.17095506e-03,\n        -1.48007955e-03,  1.15561769e-02, -1.38742685e-03,\n         2.35449302e-02, -5.91966108e-03,  1.72041376e-02,\n        -1.30834887e-02,  1.13990950e-02, -1.30656776e-02,\n         4.47929429e-03, -4.83221840e-03, -7.07075213e-04,\n        -9.44701225e-04, -2.46145173e-03, -9.39662776e-04,\n        -4.81579461e-02,  1.40217237e-02, -6.88264866e-02,\n         6.50380089e-04, -2.22152481e-02,  7.91314299e-03,\n        -1.19900558e-02,  9.48321725e-03, -8.59130322e-03,\n         5.11552795e-03, -3.65941748e-03,  2.24260298e-03,\n        -1.97927350e-03,  2.12782643e-03, -1.28283965e-03,\n         1.25482655e-02, -4.06460998e-03,  2.09155605e-02,\n        -5.68991279e-03,  1.66598446e-02, -1.12491187e-02,\n         1.23384977e-02, -1.24145897e-02,  8.94075329e-03,\n        -7.76509940e-03,  1.86551582e-03, -1.23441549e-03,\n        -1.19553204e-03,  5.73292589e-04, -2.18672120e-03,\n         4.95940819e-04, -3.73221830e-02,  1.49048028e-02,\n        -5.75488631e-02,  3.27310505e-03, -2.27214880e-02,\n         8.38010582e-03, -1.24485229e-02,  1.03491208e-02,\n        -1.06580707e-02,  8.80571033e-03, -6.32520690e-03,\n         3.66552975e-03, -2.73093850e-03,  2.08099802e-03,\n        -1.84304187e-03,  2.07187681e-03, -1.40401806e-03,\n         1.36908486e-02, -6.58194705e-03,  1.97994531e-02,\n        -6.65599488e-03,  1.62112756e-02, -1.06533061e-02,\n         1.24213622e-02, -1.17054724e-02,  1.08545916e-02,\n        -1.04793890e-02,  6.03555836e-03, -3.40668731e-03,\n         1.55689022e-04,  3.98301984e-04, -1.50327259e-03,\n         1.24783518e-03, -2.05542500e-03,  1.16059564e-03,\n        -3.02249609e-02,  1.49357047e-02, -4.75429757e-02,\n         5.65030332e-03, -2.33709043e-02,  8.77376815e-03,\n        -1.26587839e-02,  1.05745612e-02, -1.12197451e-02,\n         1.06902195e-02, -9.63592239e-03,  6.73425699e-03,\n        -4.36868529e-03,  2.80573205e-03, -2.28136858e-03,\n         1.99593789e-03, -1.82315869e-03,  2.01984896e-03,\n        -1.55534888e-03,  1.45666585e-02, -8.56183066e-03,\n         1.96393290e-02, -7.94924778e-03,  1.61765900e-02,\n        -1.05724131e-02,  1.23027825e-02, -1.13455032e-02,\n         1.13235418e-02, -1.12193997e-02,  9.56947404e-03,\n        -7.29567625e-03,  2.88816995e-03, -8.02750274e-04,\n        -8.11529034e-04,  1.16055009e-03, -1.68264877e-03,\n         1.56591948e-03, -1.98872161e-03,  1.49129201e-03,\n        -2.54662760e-02,  1.46476374e-02, -3.96890112e-02,\n         7.53775065e-03, -2.43812694e-02,  9.10865449e-03,\n        -1.27720447e-02,  1.06732942e-02, -1.13581026e-02,\n         1.10649065e-02, -1.10214997e-02,  9.99660801e-03,\n        -7.52742191e-03,  4.67282461e-03, -3.16928115e-03,\n         2.35391731e-03, -2.07017342e-03,  1.94990058e-03,\n        -1.83501170e-03,  1.97901419e-03, -1.67320172e-03]])"
     },
     "execution_count": 26,
     "metadata": {},
     "output_type": "execute_result"
    }
   ],
   "source": [
    "poly_log_reg3[2].coef_ # L2正则不能将多项式系数收缩为0"
   ]
  },
  {
   "cell_type": "code",
   "execution_count": 27,
   "metadata": {
    "pycharm": {
     "name": "#%%\n"
    }
   },
   "outputs": [
    {
     "data": {
      "text/plain": "<Figure size 432x288 with 1 Axes>",
      "image/png": "[encoded data removed]"
     },
     "metadata": {
      "needs_background": "light"
     },
     "output_type": "display_data"
    }
   ],
   "source": [
    "plot_decision_boundary(poly_log_reg3, axis=[-4, 4, -4, 4])\n",
    "plt.scatter(X[y==0,0], X[y==0,1])\n",
    "plt.scatter(X[y==1,0], X[y==1,1])\n",
    "plt.show()"
   ]
  },
  {
   "cell_type": "code",
   "execution_count": 28,
   "metadata": {
    "pycharm": {
     "name": "#%%\n"
    }
   },
   "outputs": [
    {
     "name": "stderr",
     "output_type": "stream",
     "text": [
      "C:\\Users\\duanm\\anaconda3\\lib\\site-packages\\sklearn\\linear_model\\_sag.py:330: ConvergenceWarning: The max_iter was reached which means the coef_ did not converge\n",
      "  \"the coef_ did not converge\", ConvergenceWarning)\n"
     ]
    },
    {
     "data": {
      "text/plain": "Pipeline(steps=[('poly', PolynomialFeatures(degree=20)),\n                ('std_scaler', StandardScaler()),\n                ('log_reg',\n                 LogisticRegression(C=0.1, max_iter=1000, n_jobs=-1,\n                                    penalty='l1', solver='saga'))])"
     },
     "execution_count": 28,
     "metadata": {},
     "output_type": "execute_result"
    }
   ],
   "source": [
    "poly_log_reg4 = PolynomialLogisticRegression(degree=20, C=0.1, penalty='l1')\n",
    "poly_log_reg4.fit(X_train, y_train)"
   ]
  },
  {
   "cell_type": "code",
   "execution_count": 29,
   "metadata": {
    "pycharm": {
     "name": "#%%\n"
    }
   },
   "outputs": [
    {
     "data": {
      "text/plain": "0.8666666666666667"
     },
     "execution_count": 29,
     "metadata": {},
     "output_type": "execute_result"
    }
   ],
   "source": [
    "poly_log_reg4.score(X_train, y_train)"
   ]
  },
  {
   "cell_type": "code",
   "execution_count": 30,
   "metadata": {
    "pycharm": {
     "name": "#%%\n"
    }
   },
   "outputs": [
    {
     "data": {
      "text/plain": "0.94"
     },
     "execution_count": 30,
     "metadata": {},
     "output_type": "execute_result"
    }
   ],
   "source": [
    "poly_log_reg4.score(X_test, y_test)"
   ]
  },
  {
   "cell_type": "code",
   "execution_count": 31,
   "metadata": {
    "pycharm": {
     "name": "#%%\n"
    }
   },
   "outputs": [
    {
     "data": {
      "text/plain": "<Figure size 432x288 with 1 Axes>",
      "image/png": "[encoded data removed]"
     },
     "metadata": {
      "needs_background": "light"
     },
     "output_type": "display_data"
    }
   ],
   "source": [
    "plot_decision_boundary(poly_log_reg4, axis=[-4, 4, -4, 4])\n",
    "plt.scatter(X[y==0,0], X[y==0,1])\n",
    "plt.scatter(X[y==1,0], X[y==1,1])\n",
    "plt.show()"
   ]
  },
  {
   "cell_type": "code",
   "execution_count": 32,
   "metadata": {
    "pycharm": {
     "name": "#%%\n"
    }
   },
   "outputs": [
    {
     "data": {
      "text/plain": "array([[ 0.        ,  0.0603117 , -0.86276261, -0.84721836,  0.        ,\n         0.        ,  0.        , -0.10983221,  0.        ,  0.        ,\n        -0.05640225,  0.        ,  0.        ,  0.        ,  0.        ,\n         0.        ,  0.        ,  0.        ,  0.        ,  0.        ,\n         0.        ,  0.        ,  0.        ,  0.        ,  0.        ,\n         0.        ,  0.        ,  0.        ,  0.        ,  0.        ,\n         0.        ,  0.        ,  0.        ,  0.        ,  0.        ,\n         0.        ,  0.        ,  0.        ,  0.        ,  0.        ,\n         0.        ,  0.        ,  0.        ,  0.        ,  0.        ,\n         0.        ,  0.        ,  0.        ,  0.        ,  0.        ,\n         0.        ,  0.        ,  0.        ,  0.        ,  0.        ,\n         0.        ,  0.        ,  0.        ,  0.        ,  0.        ,\n         0.        ,  0.        ,  0.        ,  0.        ,  0.        ,\n         0.        ,  0.        ,  0.        ,  0.        ,  0.        ,\n         0.        ,  0.        ,  0.        ,  0.        ,  0.        ,\n         0.        ,  0.        ,  0.        ,  0.        ,  0.        ,\n         0.        ,  0.        ,  0.        ,  0.        ,  0.        ,\n         0.        ,  0.        ,  0.        ,  0.        ,  0.        ,\n         0.        ,  0.        ,  0.        ,  0.        ,  0.        ,\n         0.        ,  0.        ,  0.        ,  0.        ,  0.        ,\n         0.        ,  0.        ,  0.        ,  0.        ,  0.        ,\n         0.        ,  0.        ,  0.        ,  0.        ,  0.        ,\n         0.        ,  0.        ,  0.        ,  0.        ,  0.        ,\n         0.        ,  0.        ,  0.        ,  0.        ,  0.        ,\n         0.        ,  0.        ,  0.        ,  0.        ,  0.        ,\n         0.        ,  0.        ,  0.        ,  0.        ,  0.        ,\n         0.        ,  0.        ,  0.        ,  0.        ,  0.        ,\n         0.        ,  0.        ,  0.        ,  0.        ,  0.        ,\n         0.        ,  0.        ,  0.        ,  0.        ,  0.        ,\n         0.        ,  0.        ,  0.        ,  0.        ,  0.        ,\n         0.        ,  0.        ,  0.        ,  0.        ,  0.        ,\n         0.        ,  0.        ,  0.        ,  0.        ,  0.        ,\n         0.        ,  0.        ,  0.        ,  0.        ,  0.        ,\n         0.        ,  0.        ,  0.        ,  0.        ,  0.        ,\n         0.        ,  0.        ,  0.        ,  0.        ,  0.        ,\n         0.        ,  0.        ,  0.        ,  0.        ,  0.        ,\n         0.        ,  0.        ,  0.        ,  0.        ,  0.        ,\n         0.        ,  0.        ,  0.        ,  0.        ,  0.        ,\n         0.        ,  0.        ,  0.        ,  0.        ,  0.        ,\n         0.        ,  0.        ,  0.        ,  0.        ,  0.        ,\n         0.        ,  0.        ,  0.        ,  0.        ,  0.        ,\n         0.        ,  0.        ,  0.        ,  0.        ,  0.        ,\n         0.        ,  0.        ,  0.        ,  0.        ,  0.        ,\n         0.        ,  0.        ,  0.        ,  0.        ,  0.        ,\n         0.        ,  0.        ,  0.        ,  0.        ,  0.        ,\n         0.        ,  0.        ,  0.        ,  0.        ,  0.        ,\n         0.        ]])"
     },
     "execution_count": 32,
     "metadata": {},
     "output_type": "execute_result"
    }
   ],
   "source": [
    "poly_log_reg4[2].coef_ # L1正则可以将某些多项式系数收缩为0,因此可以给出一个简单的可解释的模型"
   ]
  },
  {
   "cell_type": "code",
   "execution_count": 32,
   "metadata": {
    "pycharm": {
     "name": "#%%\n"
    }
   },
   "outputs": [],
   "source": [
    "\n"
   ]
  }
 ],
 "metadata": {
  "kernelspec": {
   "display_name": "Python 3",
   "language": "python",
   "name": "python3"
  },
  "language_info": {
   "codemirror_mode": {
    "name": "ipython",
    "version": 3
   },
   "file_extension": ".py",
   "mimetype": "text/x-python",
   "name": "python",
   "nbconvert_exporter": "python",
   "pygments_lexer": "ipython3",
   "version": "3.7.4"
  },
  "toc": {
   "base_numbering": 1,
   "nav_menu": {},
   "number_sections": true,
   "sideBar": true,
   "skip_h1_title": false,
   "title_cell": "Table of Contents",
   "title_sidebar": "Contents",
   "toc_cell": false,
   "toc_position": {},
   "toc_section_display": true,
   "toc_window_display": false
  }
 },
 "nbformat": 4,
 "nbformat_minor": 1
}