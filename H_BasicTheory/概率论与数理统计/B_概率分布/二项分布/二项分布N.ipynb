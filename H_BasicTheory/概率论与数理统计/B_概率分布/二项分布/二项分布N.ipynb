{
 "cells": [
  {
   "cell_type": "code",
   "execution_count": null,
   "outputs": [],
   "source": [
    "import numpy as np\n",
    "import scipy.stats as stats\n",
    "import matplotlib.pyplot as plt\n",
    "import matplotlib.style as style\n",
    "\n",
    "style.use('classic')\n",
    "fig = plt.figure(figsize=(14, 7), dpi=100)\n",
    "ax  = plt.subplot(111)\n",
    "\n",
    "# N = 10\n",
    "ax.scatter(np.arange(11),\n",
    "            (stats.binom.pmf(np.arange(11), p=.5, n=10)),\n",
    "            alpha=0.75,\n",
    "            s=100)\n",
    "ax.plot(np.arange(11),\n",
    "         (stats.binom.pmf(np.arange(11), p=.5, n=10)),\n",
    "         alpha=0.75)\n",
    "\n",
    "# N = 15\n",
    "ax.scatter(np.arange(16),\n",
    "            (stats.binom.pmf(np.arange(16), p=.5, n=15)),\n",
    "            alpha=0.75,\n",
    "            s=100)\n",
    "ax.plot(np.arange(16),\n",
    "         (stats.binom.pmf(np.arange(16), p=.5, n=15)),\n",
    "         alpha=0.75,)\n",
    "\n",
    "# N = 20\n",
    "ax.scatter(np.arange(21),\n",
    "            (stats.binom.pmf(np.arange(21), p=.5, n=20)),\n",
    "            alpha=0.75,\n",
    "            s=100)\n",
    "ax.plot(np.arange(21),\n",
    "         (stats.binom.pmf(np.arange(21), p=.5, n=20)),\n",
    "         alpha=0.75)\n",
    "\n",
    "ax.text(x=6, y=.225, s=\"$N = 10$\", alpha=.75, weight=\"bold\", color=\"#008fd5\")\n",
    "ax.text(x=8.5, y=.2, s=\"$N = 15$\", alpha=.75, weight=\"bold\", color=\"#fc4f30\")\n",
    "ax.text(x=11, y=.175, s=\"$N = 20$\", alpha=.75, weight=\"bold\", color=\"#e5ae38\")\n",
    "\n",
    "ax.set_xticks(range(21)[::2])\n",
    "ax.tick_params(axis = 'both', which = 'major', labelsize = 18)\n",
    "ax.axhline(y = 0, color = 'black', linewidth = 1.3, alpha = .7)\n",
    "\n",
    "ax.text(x = -2.5, y = .31, s = \"Binomial Distribution - $N$\",\n",
    "               fontsize = 26, weight = 'bold', alpha = .75)\n",
    "ax.text(x = -2.5, y = .27, \n",
    "         s = 'Depicted below are three Binomial distributed random variables with varying $N$. As one can see\\nthe parameter $N$ streches the distribution (the larger $N$ the flatter the distribution).',\n",
    "         fontsize = 19, alpha = .85)"
   ],
   "metadata": {
    "collapsed": false,
    "pycharm": {
     "name": "#%%\n"
    }
   }
  },
  {
   "cell_type": "code",
   "execution_count": null,
   "metadata": {
    "pycharm": {
     "metadata": false,
     "name": "#%%\n"
    }
   },
   "outputs": [],
   "source": [
    "\n"
   ]
  }
 ],
 "metadata": {
  "kernelspec": {
   "display_name": "Python 3",
   "language": "python",
   "name": "python3"
  },
  "language_info": {
   "codemirror_mode": {
    "name": "ipython",
    "version": 3
   },
   "file_extension": ".py",
   "mimetype": "text/x-python",
   "name": "python",
   "nbconvert_exporter": "python",
   "pygments_lexer": "ipython3",
   "version": "3.7.3"
  },
  "pycharm": {
   "stem_cell": {
    "cell_type": "raw",
    "source": [],
    "metadata": {
     "collapsed": false
    }
   }
  }
 },
 "nbformat": 4,
 "nbformat_minor": 1
}