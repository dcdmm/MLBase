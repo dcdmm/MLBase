{
 "cells": [
  {
   "cell_type": "markdown",
   "source": [
    "当实例对象做self[key]运算时,会调用类中的__getitem__方法"
   ],
   "metadata": {
    "collapsed": false,
    "pycharm": {
     "name": "#%% md\n"
    }
   }
  },
  {
   "cell_type": "code",
   "execution_count": 2,
   "outputs": [
    {
     "name": "stdout",
     "output_type": "stream",
     "text": [
      "进入__getitem__方法!\n",
      "default\n",
      "进入__getitem__方法!\n",
      "25\n"
     ]
    }
   ],
   "source": [
    "class DataBase:\n",
    "    def __init__(self, age, email):\n",
    "        self.age = age\n",
    "        self.email = email\n",
    "        self.d = {self.age: 25,\n",
    "                  self.email: \"xxx@qq.com\"}\n",
    "\n",
    "    def __getitem__(self, key):\n",
    "        print('进入__getitem__方法!')\n",
    "        return self.d.get(key, \"default\")\n",
    "\n",
    "\n",
    "data = DataBase('dc age', 'dc email')\n",
    "print(data['??'])\n",
    "print(data[data.age])"
   ],
   "metadata": {
    "collapsed": false,
    "pycharm": {
     "name": "#%%\n"
    }
   }
  },
  {
   "cell_type": "code",
   "execution_count": 3,
   "outputs": [
    {
     "name": "stdout",
     "output_type": "stream",
     "text": [
      "0\n",
      "100\n",
      "200\n",
      "300\n",
      "400\n",
      "500\n",
      "600\n",
      "700\n",
      "800\n",
      "900\n",
      "1000\n",
      "1100\n",
      "1200\n",
      "1300\n",
      "1400\n",
      "1500\n",
      "1600\n",
      "1700\n",
      "1800\n",
      "1900\n"
     ]
    }
   ],
   "source": [
    "class MyList:\n",
    "    def __init__(self, infor):\n",
    "        self.data = infor\n",
    "\n",
    "    def __getitem__(self, item):\n",
    "        return self.data[item] * 100\n",
    "\n",
    "mylist = MyList(list(range(20)))\n",
    "for i in mylist:\n",
    "    print(i)"
   ],
   "metadata": {
    "collapsed": false,
    "pycharm": {
     "name": "#%%\n"
    }
   }
  },
  {
   "cell_type": "code",
   "execution_count": 32,
   "outputs": [],
   "source": [
    "\n"
   ],
   "metadata": {
    "collapsed": false,
    "pycharm": {
     "name": "#%%\n"
    }
   }
  }
 ],
 "metadata": {
  "kernelspec": {
   "display_name": "Python 3",
   "language": "python",
   "name": "python3"
  },
  "language_info": {
   "codemirror_mode": {
    "name": "ipython",
    "version": 2
   },
   "file_extension": ".py",
   "mimetype": "text/x-python",
   "name": "python",
   "nbconvert_exporter": "python",
   "pygments_lexer": "ipython2",
   "version": "2.7.6"
  }
 },
 "nbformat": 4,
 "nbformat_minor": 0
}