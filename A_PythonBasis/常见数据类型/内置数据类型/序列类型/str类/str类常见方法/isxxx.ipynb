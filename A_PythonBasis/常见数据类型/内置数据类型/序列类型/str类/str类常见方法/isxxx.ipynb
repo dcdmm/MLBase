{
 "cells": [
  {
   "cell_type": "code",
   "execution_count": 31,
   "metadata": {
    "collapsed": true
   },
   "outputs": [
    {
     "name": "stdout",
     "output_type": "stream",
     "text": [
      "False\n",
      "False\n",
      "True\n",
      "\n",
      "True\n",
      "False\n",
      "True\n",
      "\n",
      "False\n",
      "True\n",
      "True\n",
      "\n",
      "False\n",
      "False\n",
      "False\n"
     ]
    }
   ],
   "source": [
    "string = \"169dot6\"\n",
    "# Return True if all characters in S are alphabetic and there is at least one character in S, False otherwise.\n",
    "print(string.isalpha())\n",
    "\n",
    "# Return True if all characters in S are digits and there is at least one character in S, False otherwise.\n",
    "print(string.isdigit())\n",
    "\n",
    "# Return True if all characters in S are alphanumeric and there is at least one character in S, False otherwise.\n",
    "print(string.isalnum(), end='\\n\\n')\n",
    "\n",
    "string0 = 'abc'\n",
    "print(string0.isalpha())\n",
    "print(string0.isdigit())\n",
    "print(string0.isalnum(), end='\\n\\n')\n",
    "\n",
    "string1 = '31415'\n",
    "print(string1.isalpha())\n",
    "print(string1.isdigit())\n",
    "print(string1.isalnum(), end='\\n\\n')\n",
    "\n",
    "string2 = '3.1415'\n",
    "print(string2.isalpha())\n",
    "print(string2.isdigit())\n",
    "print(string2.isalnum())"
   ]
  },
  {
   "cell_type": "code",
   "execution_count": 32,
   "outputs": [
    {
     "data": {
      "text/plain": "      0     1      2\n0  True  True  False\n1  True  True   True",
      "text/html": "<div>\n<style scoped>\n    .dataframe tbody tr th:only-of-type {\n        vertical-align: middle;\n    }\n\n    .dataframe tbody tr th {\n        vertical-align: top;\n    }\n\n    .dataframe thead th {\n        text-align: right;\n    }\n</style>\n<table border=\"1\" class=\"dataframe\">\n  <thead>\n    <tr style=\"text-align: right;\">\n      <th></th>\n      <th>0</th>\n      <th>1</th>\n      <th>2</th>\n    </tr>\n  </thead>\n  <tbody>\n    <tr>\n      <th>0</th>\n      <td>True</td>\n      <td>True</td>\n      <td>False</td>\n    </tr>\n    <tr>\n      <th>1</th>\n      <td>True</td>\n      <td>True</td>\n      <td>True</td>\n    </tr>\n  </tbody>\n</table>\n</div>"
     },
     "execution_count": 32,
     "metadata": {},
     "output_type": "execute_result"
    }
   ],
   "source": [
    "import pandas as pd\n",
    "\n",
    "\n",
    "def isDigit(string):\n",
    "    \"\"\"判断字符串string是否可以转换为浮点数\"\"\"\n",
    "    try:\n",
    "        float(string)\n",
    "    except ValueError:\n",
    "        isFloat = False\n",
    "    else:\n",
    "        isFloat = True\n",
    "    return isFloat\n",
    "\n",
    "\n",
    "df = pd.DataFrame([['1.2', '2.1', '3.a3'],\n",
    "                   ['2.1334', '42', '1234']])\n",
    "df_isFloat = df.applymap(isDigit)\n",
    "df_isFloat"
   ],
   "metadata": {
    "collapsed": false,
    "pycharm": {
     "name": "#%%\n"
    }
   }
  },
  {
   "cell_type": "code",
   "execution_count": 33,
   "outputs": [
    {
     "name": "stdout",
     "output_type": "stream",
     "text": [
      "True\n",
      "True\n",
      "False\n",
      "True\n",
      "True\n"
     ]
    }
   ],
   "source": [
    "# Return True if the string is a whitespace string, False otherwise.\n",
    "print('  \\n '.isspace())\n",
    "print('  \\t '.isspace())\n",
    "print(''.isspace())\n",
    "print(' '.isspace())\n",
    "print('     '.isspace())"
   ],
   "metadata": {
    "collapsed": false,
    "pycharm": {
     "name": "#%%\n"
    }
   }
  }
 ],
 "metadata": {
  "kernelspec": {
   "display_name": "Python 3",
   "language": "python",
   "name": "python3"
  },
  "language_info": {
   "codemirror_mode": {
    "name": "ipython",
    "version": 2
   },
   "file_extension": ".py",
   "mimetype": "text/x-python",
   "name": "python",
   "nbconvert_exporter": "python",
   "pygments_lexer": "ipython2",
   "version": "2.7.6"
  }
 },
 "nbformat": 4,
 "nbformat_minor": 0
}