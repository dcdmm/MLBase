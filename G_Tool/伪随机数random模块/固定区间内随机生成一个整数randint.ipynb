{
 "cells": [
  {
   "cell_type": "code",
   "execution_count": 1,
   "metadata": {
    "collapsed": true,
    "pycharm": {
     "is_executing": false
    }
   },
   "outputs": [
    {
     "name": "stdout",
     "text": [
      "你输的太大了\n"
     ],
     "output_type": "stream"
    }
   ],
   "source": [
    "import  random\n",
    "\n",
    "# Return random integer in range [a, b], including both end points.\n",
    "secret = random.randint(1, 10) # 产生一个1-10(包含2个端点)的随机整数\n",
    "temp = 6\n",
    "judgment = True\n",
    "while temp != secret:  # 直到temp==secret,循环才跳出\n",
    "    if temp > secret:\n",
    "        judgment = False\n",
    "        print(\"你输的太大了\")\n",
    "        break\n",
    "    else:\n",
    "        pass\n",
    "        judgment = False\n",
    "        print(\"你输的数字太小了\")\n",
    "        break\n",
    "if judgment:\n",
    "    print('你猜的数字是对的')"
   ]
  },
  {
   "cell_type": "code",
   "execution_count": null,
   "outputs": [],
   "source": [
    "\n"
   ],
   "metadata": {
    "collapsed": false,
    "pycharm": {
     "name": "#%%\n"
    }
   }
  }
 ],
 "metadata": {
  "kernelspec": {
   "display_name": "Python 3",
   "language": "python",
   "name": "python3"
  },
  "language_info": {
   "codemirror_mode": {
    "name": "ipython",
    "version": 2
   },
   "file_extension": ".py",
   "mimetype": "text/x-python",
   "name": "python",
   "nbconvert_exporter": "python",
   "pygments_lexer": "ipython2",
   "version": "2.7.6"
  },
  "pycharm": {
   "stem_cell": {
    "cell_type": "raw",
    "source": [],
    "metadata": {
     "collapsed": false
    }
   }
  }
 },
 "nbformat": 4,
 "nbformat_minor": 0
}