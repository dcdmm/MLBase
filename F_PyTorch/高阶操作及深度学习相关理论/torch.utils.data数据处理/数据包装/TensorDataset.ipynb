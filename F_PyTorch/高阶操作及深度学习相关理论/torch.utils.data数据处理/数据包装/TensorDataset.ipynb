{
 "cells": [
  {
   "cell_type": "code",
   "execution_count": 1,
   "metadata": {},
   "outputs": [
    {
     "data": {
      "text/plain": "25"
     },
     "execution_count": 1,
     "metadata": {},
     "output_type": "execute_result"
    }
   ],
   "source": [
    "import torch\n",
    "import torch.utils.data as Data\n",
    "\n",
    "x = torch.linspace(0.01, 0.1, 25)\n",
    "y = torch.linspace(1, 25, 25)\n",
    "z = torch.arange(1000, 1025)\n",
    "\n",
    "torch_dataset = Data.TensorDataset(x, y, z) # 先将x,y,z打包成一个元组\n",
    "len(torch_dataset) # 调用了__len__方法"
   ]
  },
  {
   "cell_type": "code",
   "execution_count": 2,
   "metadata": {
    "pycharm": {
     "name": "#%%\n"
    }
   },
   "outputs": [
    {
     "name": "stdout",
     "output_type": "stream",
     "text": [
      "(tensor(0.0100), tensor(1.), tensor(1000))\n",
      "(tensor(0.0137), tensor(2.), tensor(1001))\n",
      "(tensor(0.0175), tensor(3.), tensor(1002))\n",
      "(tensor(0.0213), tensor(4.), tensor(1003))\n",
      "(tensor(0.0250), tensor(5.), tensor(1004))\n",
      "(tensor(0.0288), tensor(6.), tensor(1005))\n",
      "(tensor(0.0325), tensor(7.), tensor(1006))\n",
      "(tensor(0.0363), tensor(8.), tensor(1007))\n",
      "(tensor(0.0400), tensor(9.), tensor(1008))\n",
      "(tensor(0.0438), tensor(10.), tensor(1009))\n",
      "(tensor(0.0475), tensor(11.), tensor(1010))\n",
      "(tensor(0.0513), tensor(12.), tensor(1011))\n",
      "(tensor(0.0550), tensor(13.), tensor(1012))\n",
      "(tensor(0.0588), tensor(14.), tensor(1013))\n",
      "(tensor(0.0625), tensor(15.), tensor(1014))\n",
      "(tensor(0.0663), tensor(16.), tensor(1015))\n",
      "(tensor(0.0700), tensor(17.), tensor(1016))\n",
      "(tensor(0.0737), tensor(18.), tensor(1017))\n",
      "(tensor(0.0775), tensor(19.), tensor(1018))\n",
      "(tensor(0.0813), tensor(20.), tensor(1019))\n",
      "(tensor(0.0850), tensor(21.), tensor(1020))\n",
      "(tensor(0.0887), tensor(22.), tensor(1021))\n",
      "(tensor(0.0925), tensor(23.), tensor(1022))\n",
      "(tensor(0.0963), tensor(24.), tensor(1023))\n",
      "(tensor(0.1000), tensor(25.), tensor(1024))\n"
     ]
    }
   ],
   "source": [
    "for i in torch_dataset:\n",
    "    print(i) # 调用了__getitem__方法;返回值为元组"
   ]
  },
  {
   "cell_type": "code",
   "execution_count": 3,
   "metadata": {
    "pycharm": {
     "name": "#%%\n"
    }
   },
   "outputs": [
    {
     "data": {
      "text/plain": "(tensor([0.0100, 0.0137, 0.0175, 0.0213, 0.0250, 0.0288, 0.0325]),\n tensor([1., 2., 3., 4., 5., 6., 7.]),\n tensor([1000, 1001, 1002, 1003, 1004, 1005, 1006]))"
     },
     "execution_count": 3,
     "metadata": {},
     "output_type": "execute_result"
    }
   ],
   "source": [
    "torch_dataset[:7] # x,y,z的前7组数据"
   ]
  },
  {
   "cell_type": "code",
   "execution_count": 3,
   "metadata": {
    "pycharm": {
     "name": "#%%\n"
    }
   },
   "outputs": [],
   "source": []
  }
 ],
 "metadata": {
  "kernelspec": {
   "display_name": "Python 3",
   "language": "python",
   "name": "python3"
  },
  "language_info": {
   "codemirror_mode": {
    "name": "ipython",
    "version": 3
   },
   "file_extension": ".py",
   "mimetype": "text/x-python",
   "name": "python",
   "nbconvert_exporter": "python",
   "pygments_lexer": "ipython3",
   "version": "3.7.7"
  },
  "toc": {
   "base_numbering": 1,
   "nav_menu": {},
   "number_sections": true,
   "sideBar": true,
   "skip_h1_title": false,
   "title_cell": "Table of Contents",
   "title_sidebar": "Contents",
   "toc_cell": false,
   "toc_position": {},
   "toc_section_display": true,
   "toc_window_display": false
  }
 },
 "nbformat": 4,
 "nbformat_minor": 1
}