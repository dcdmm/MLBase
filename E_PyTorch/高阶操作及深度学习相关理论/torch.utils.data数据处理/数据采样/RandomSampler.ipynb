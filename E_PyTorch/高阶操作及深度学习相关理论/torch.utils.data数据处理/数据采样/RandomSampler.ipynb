{
 "cells": [
  {
   "cell_type": "code",
   "execution_count": 66,
   "metadata": {
    "collapsed": true
   },
   "outputs": [],
   "source": [
    "import torch\n",
    "import torch.utils.data as Data"
   ]
  },
  {
   "cell_type": "code",
   "execution_count": 67,
   "outputs": [
    {
     "name": "stdout",
     "output_type": "stream",
     "text": [
      "(tensor(0.0100), tensor(1.))\n",
      "(tensor(0.0109), tensor(1.0909))\n",
      "(tensor(0.0118), tensor(1.1818))\n",
      "(tensor(0.0127), tensor(1.2727))\n",
      "(tensor(0.0136), tensor(1.3636))\n",
      "(tensor(0.0145), tensor(1.4545))\n",
      "(tensor(0.0155), tensor(1.5455))\n",
      "(tensor(0.0164), tensor(1.6364))\n",
      "(tensor(0.0173), tensor(1.7273))\n",
      "(tensor(0.0182), tensor(1.8182))\n",
      "(tensor(0.0191), tensor(1.9091))\n",
      "(tensor(0.0200), tensor(2.))\n",
      "(tensor(0.0209), tensor(2.0909))\n",
      "(tensor(0.0218), tensor(2.1818))\n",
      "(tensor(0.0227), tensor(2.2727))\n",
      "(tensor(0.0236), tensor(2.3636))\n",
      "(tensor(0.0245), tensor(2.4545))\n",
      "(tensor(0.0255), tensor(2.5455))\n",
      "(tensor(0.0264), tensor(2.6364))\n",
      "(tensor(0.0273), tensor(2.7273))\n",
      "(tensor(0.0282), tensor(2.8182))\n",
      "(tensor(0.0291), tensor(2.9091))\n",
      "(tensor(0.0300), tensor(3.))\n",
      "(tensor(0.0309), tensor(3.0909))\n",
      "(tensor(0.0318), tensor(3.1818))\n",
      "(tensor(0.0327), tensor(3.2727))\n",
      "(tensor(0.0336), tensor(3.3636))\n",
      "(tensor(0.0345), tensor(3.4545))\n",
      "(tensor(0.0355), tensor(3.5455))\n",
      "(tensor(0.0364), tensor(3.6364))\n",
      "(tensor(0.0373), tensor(3.7273))\n",
      "(tensor(0.0382), tensor(3.8182))\n",
      "(tensor(0.0391), tensor(3.9091))\n",
      "(tensor(0.0400), tensor(4.))\n",
      "(tensor(0.0409), tensor(4.0909))\n",
      "(tensor(0.0418), tensor(4.1818))\n",
      "(tensor(0.0427), tensor(4.2727))\n",
      "(tensor(0.0436), tensor(4.3636))\n",
      "(tensor(0.0445), tensor(4.4545))\n",
      "(tensor(0.0455), tensor(4.5455))\n",
      "(tensor(0.0464), tensor(4.6364))\n",
      "(tensor(0.0473), tensor(4.7273))\n",
      "(tensor(0.0482), tensor(4.8182))\n",
      "(tensor(0.0491), tensor(4.9091))\n",
      "(tensor(0.0500), tensor(5.0000))\n",
      "(tensor(0.0509), tensor(5.0909))\n",
      "(tensor(0.0518), tensor(5.1818))\n",
      "(tensor(0.0527), tensor(5.2727))\n",
      "(tensor(0.0536), tensor(5.3636))\n",
      "(tensor(0.0545), tensor(5.4545))\n",
      "(tensor(0.0555), tensor(5.5455))\n",
      "(tensor(0.0564), tensor(5.6364))\n",
      "(tensor(0.0573), tensor(5.7273))\n",
      "(tensor(0.0582), tensor(5.8182))\n",
      "(tensor(0.0591), tensor(5.9091))\n",
      "(tensor(0.0600), tensor(6.))\n",
      "(tensor(0.0609), tensor(6.0909))\n",
      "(tensor(0.0618), tensor(6.1818))\n",
      "(tensor(0.0627), tensor(6.2727))\n",
      "(tensor(0.0636), tensor(6.3636))\n",
      "(tensor(0.0645), tensor(6.4545))\n",
      "(tensor(0.0655), tensor(6.5455))\n",
      "(tensor(0.0664), tensor(6.6364))\n",
      "(tensor(0.0673), tensor(6.7273))\n",
      "(tensor(0.0682), tensor(6.8182))\n",
      "(tensor(0.0691), tensor(6.9091))\n",
      "(tensor(0.0700), tensor(7.))\n",
      "(tensor(0.0709), tensor(7.0909))\n",
      "(tensor(0.0718), tensor(7.1818))\n",
      "(tensor(0.0727), tensor(7.2727))\n",
      "(tensor(0.0736), tensor(7.3636))\n",
      "(tensor(0.0745), tensor(7.4545))\n",
      "(tensor(0.0755), tensor(7.5455))\n",
      "(tensor(0.0764), tensor(7.6364))\n",
      "(tensor(0.0773), tensor(7.7273))\n",
      "(tensor(0.0782), tensor(7.8182))\n",
      "(tensor(0.0791), tensor(7.9091))\n",
      "(tensor(0.0800), tensor(8.))\n",
      "(tensor(0.0809), tensor(8.0909))\n",
      "(tensor(0.0818), tensor(8.1818))\n",
      "(tensor(0.0827), tensor(8.2727))\n",
      "(tensor(0.0836), tensor(8.3636))\n",
      "(tensor(0.0845), tensor(8.4545))\n",
      "(tensor(0.0855), tensor(8.5455))\n",
      "(tensor(0.0864), tensor(8.6364))\n",
      "(tensor(0.0873), tensor(8.7273))\n",
      "(tensor(0.0882), tensor(8.8182))\n",
      "(tensor(0.0891), tensor(8.9091))\n",
      "(tensor(0.0900), tensor(9.))\n",
      "(tensor(0.0909), tensor(9.0909))\n",
      "(tensor(0.0918), tensor(9.1818))\n",
      "(tensor(0.0927), tensor(9.2727))\n",
      "(tensor(0.0936), tensor(9.3636))\n",
      "(tensor(0.0945), tensor(9.4545))\n",
      "(tensor(0.0955), tensor(9.5455))\n",
      "(tensor(0.0964), tensor(9.6364))\n",
      "(tensor(0.0973), tensor(9.7273))\n",
      "(tensor(0.0982), tensor(9.8182))\n",
      "(tensor(0.0991), tensor(9.9091))\n",
      "(tensor(0.1000), tensor(10.))\n"
     ]
    }
   ],
   "source": [
    "x = torch.linspace(0.01, 0.1, 100)\n",
    "y = torch.linspace(1, 10, 100)\n",
    "\n",
    "torch_dataset = Data.TensorDataset(x, y)  # 包装数据集\n",
    "for i in torch_dataset:\n",
    "    print(i)"
   ],
   "metadata": {
    "collapsed": false,
    "pycharm": {
     "name": "#%%\n"
    }
   }
  },
  {
   "cell_type": "code",
   "execution_count": 68,
   "outputs": [
    {
     "data": {
      "text/plain": "<torch.utils.data.sampler.RandomSampler at 0x23e081e59d0>"
     },
     "execution_count": 68,
     "metadata": {},
     "output_type": "execute_result"
    }
   ],
   "source": [
    "# Samples elements randomly. If without replacement, then sample from a shuffled dataset.\n",
    "# If with replacement, then user can specify num_samples to draw.\n",
    "data_sampler_random0 = torch.utils.data.sampler.RandomSampler(data_source=torch_dataset,\n",
    "                                                              generator=torch.Generator().manual_seed(4))\n",
    "data_sampler_random0"
   ],
   "metadata": {
    "collapsed": false,
    "pycharm": {
     "name": "#%%\n"
    }
   }
  },
  {
   "cell_type": "code",
   "execution_count": 69,
   "outputs": [
    {
     "name": "stdout",
     "output_type": "stream",
     "text": [
      "tensor([30, 13, 49, 91, 37, 71, 73, 47, 50, 86, 68, 53, 99, 92, 36, 27, 63, 54,\n",
      "        62, 17, 38,  9, 14, 25, 70, 89, 29,  7, 67, 61, 12, 84,  8, 44, 66, 74,\n",
      "        20, 33, 15,  0, 52, 48, 80, 16, 75, 10, 60, 57, 90, 42, 79, 69, 34, 59,\n",
      "        24, 65, 21, 85, 23, 22,  4, 19, 28, 35, 55, 32, 64, 98, 77, 58, 78, 81,\n",
      "        40,  5, 31, 97, 72, 95,  2, 51, 45, 11, 43, 88,  3, 41, 83, 56, 93, 96,\n",
      "        87,  6, 26, 82, 39, 46, 94,  1, 76, 18])\n"
     ]
    }
   ],
   "source": [
    "# 返回的是data_source索引的一个随机数(与SubsetRandomSampler内部实现方式完全一致)\n",
    "print(torch.tensor([i for i in data_sampler_random0]))"
   ],
   "metadata": {
    "collapsed": false,
    "pycharm": {
     "name": "#%%\n"
    }
   }
  },
  {
   "cell_type": "code",
   "execution_count": 70,
   "outputs": [
    {
     "name": "stdout",
     "output_type": "stream",
     "text": [
      "39\n",
      "16\n",
      "53\n"
     ]
    }
   ],
   "source": [
    "data_sampler_random1 = torch.utils.data.sampler.RandomSampler(data_source=torch_dataset,\n",
    "                                                              replacement=True,\n",
    "                                                              # 返回随机数的个数(必须设置replacement=True)\n",
    "                                                              num_samples=3)\n",
    "for j in data_sampler_random1:\n",
    "    print(j)"
   ],
   "metadata": {
    "collapsed": false,
    "pycharm": {
     "name": "#%%\n"
    }
   }
  }
 ],
 "metadata": {
  "kernelspec": {
   "display_name": "Python 3",
   "language": "python",
   "name": "python3"
  },
  "language_info": {
   "codemirror_mode": {
    "name": "ipython",
    "version": 2
   },
   "file_extension": ".py",
   "mimetype": "text/x-python",
   "name": "python",
   "nbconvert_exporter": "python",
   "pygments_lexer": "ipython2",
   "version": "2.7.6"
  }
 },
 "nbformat": 4,
 "nbformat_minor": 0
}