{
 "cells": [
  {
   "cell_type": "markdown",
   "metadata": {
    "pycharm": {
     "name": "#%% md\n"
    }
   },
   "source": [
    "&emsp;&emsp;循环神经网络(Recurrent Neural Network，RNN)通过使用带自反馈的神经元,能够处理任意长度的时序数据.\n",
    "\n",
    "&emsp;&emsp;给定一个输入序列$X_{1: T}=\\left(\\mathbf{x}_{1}, \\mathbf{x}_{2}, \\ldots, \\mathbf{x}_{t}, \\ldots, \\mathbf{x}_{T}\\right)$,循环神经网络通过下面公式更新带反馈边的隐藏层的活性值$\\mathbf{h}_t$:\n",
    "\n",
    "$$ \\mathbf{h}_t = f(\\mathbf{h}_{t-1};\\mathbf{x}_t) \\tag{1} $$\n",
    "\n",
    "其中$\\mathbf{h}_0=\\mathbf{0}$,$f(*)$为一个非线性函数,可以是一个前馈网络.\n",
    "\n",
    "&emsp;&emsp;下图给出了循环神经网络的示例,其中\"延时器\"为一个虚拟单元,记录神经元的最近一次(或几次)活性值.\n",
    "\n",
    "<img src=\"../../../../../Other/img/RNN基础0.png\">\n",
    "\n",
    "&emsp;&emsp;从数学上讲,公式(1)可以看成一个动态系统.因此,隐藏层的活性值$\\mathbf{h}_t$在很多文献上也称为状态(State)或隐状态（Hidden State).\n",
    "\n",
    "***\n",
    "\n",
    "&emsp;&emsp;动态系统(Dynamical System)是一个数学上的概念,指系统状态按照一定的规律随时间变化的系统.具体地讲,动态系统是使用一个函数来描述一个给定空间(如某个物理系统的状态空间)中所有点随时间的变化情况.生活中很多现(比如钟摆晃动、台球轨迹等)都可以动态系统来描述.\n",
    "\n",
    "&emsp;&emsp;例如,考虑动态系统的经典形式:\n",
    "\n",
    "$$ s_t = f(s_{t-1};\\theta) \\tag{2} $$\n",
    "\n",
    "其中$s_t$称为系统的状态\n",
    "\n",
    "$s$在时刻$t$的定义需要参考时刻$t-1$时同样的定义,因此式(2)是循环的.\n",
    "\n",
    "***\n",
    "\n",
    "&emsp;&emsp;由于循环神经网络具有短期记忆能力,相当于存储装置,因此其计算能力十分强大.理论上,循环神经网络可以近似任意的非线性动力系统.(前馈神经网络可以模拟任何连续函数)\n",
    "\n",
    "\n",
    "&emsp;&emsp;若令变量$\\mathbf{x}_t$表示在时刻$t$时网络的输入,$\\mathbf{h}_t$表示隐藏层状态(即隐藏层神经元活性值),则$\\mathbf{h}_t$不仅和当前时刻的输入$\\mathbf{x}_t$有关,也和上一个时刻的隐藏层状态$\\mathbf{h}_{t-1}$相关,简单的循环网络在时刻$t$的更新公式为\n",
    "\n",
    "$$\n",
    "\\begin{aligned}\n",
    "\\mathbf{z}_t &= W_{hh} \\mathbf{h}_{t-1} + W_{ih} \\mathbf{x}_t + \\mathbf{b}_{ih} +  \\mathbf{b}_{hh}  \\\\\n",
    "\\mathbf{h}_{t} &= f(\\mathbf{z}_t)\n",
    "\\end{aligned}\n",
    "$$\n",
    "\n",
    "其中$\\mathbf{z}_t$为隐藏层的净输入,$W_{hh} \\in \\mathbb{R}^{D \\times D}$为状态-状态权重矩阵,$W_{ih} \\in \\mathbb{R}^{D \\times M}$为状态-输入权重矩阵,$\\mathbf{b}_{hh},\\mathbf{b}_{ih} \\in \\mathbb{R}^D$为偏置向量,$f(*)$是非线性激活函数,通常为Logistic函数或Tanh函数.上式也可直接写为\n",
    "\n",
    "$$ \\mathbf{h}_{t} = f( W_{hh} \\mathbf{h}_{t-1} + W_{ih} \\mathbf{x}_t + \\mathbf{b}_{ih} +  \\mathbf{b}_{hh}) \\tag{1} $$\n",
    "\n",
    "如果我们把每个时刻的状态都看作前馈神经网络的一层,循环神经网络可以看作在时间维度上权值共享的神经网络.下图给出了按时间展开的循环神经网络.\n",
    "\n",
    "<img src=\"../../../../../Other/img/RNN展开.png\">"
   ]
  },
  {
   "cell_type": "code",
   "execution_count": null,
   "metadata": {},
   "outputs": [],
   "source": []
  }
 ],
 "metadata": {
  "kernelspec": {
   "display_name": "Python 3",
   "language": "python",
   "name": "python3"
  },
  "language_info": {
   "codemirror_mode": {
    "name": "ipython",
    "version": 3
   },
   "file_extension": ".py",
   "mimetype": "text/x-python",
   "name": "python",
   "nbconvert_exporter": "python",
   "pygments_lexer": "ipython3",
   "version": "3.8.5"
  },
  "toc": {
   "base_numbering": 1,
   "nav_menu": {},
   "number_sections": true,
   "sideBar": true,
   "skip_h1_title": false,
   "title_cell": "Table of Contents",
   "title_sidebar": "Contents",
   "toc_cell": false,
   "toc_position": {},
   "toc_section_display": true,
   "toc_window_display": false
  }
 },
 "nbformat": 4,
 "nbformat_minor": 4
}
