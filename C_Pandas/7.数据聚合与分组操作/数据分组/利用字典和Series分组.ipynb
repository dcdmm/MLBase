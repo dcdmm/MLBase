{
 "cells": [
  {
   "cell_type": "code",
   "execution_count": 1,
   "outputs": [],
   "source": [
    "import numpy as np\n",
    "import pandas as pd"
   ],
   "metadata": {
    "collapsed": false,
    "pycharm": {
     "name": "#%%\n"
    }
   }
  },
  {
   "cell_type": "code",
   "execution_count": 2,
   "metadata": {},
   "outputs": [
    {
     "data": {
      "text/plain": "               a         b         c         d         e\nJoe     0.964514 -1.690478 -0.858596 -1.760698  1.255966\nSteve   0.606576  1.209072 -0.068620 -0.982205  1.017329\nWes     0.337924       NaN       NaN -1.838438 -1.605933\nJim    -0.230851 -0.547780 -0.292858  0.535523 -0.193637\nTravis  1.134315  1.317166  0.664279  0.553034 -0.372935",
      "text/html": "<div>\n<style scoped>\n    .dataframe tbody tr th:only-of-type {\n        vertical-align: middle;\n    }\n\n    .dataframe tbody tr th {\n        vertical-align: top;\n    }\n\n    .dataframe thead th {\n        text-align: right;\n    }\n</style>\n<table border=\"1\" class=\"dataframe\">\n  <thead>\n    <tr style=\"text-align: right;\">\n      <th></th>\n      <th>a</th>\n      <th>b</th>\n      <th>c</th>\n      <th>d</th>\n      <th>e</th>\n    </tr>\n  </thead>\n  <tbody>\n    <tr>\n      <th>Joe</th>\n      <td>0.964514</td>\n      <td>-1.690478</td>\n      <td>-0.858596</td>\n      <td>-1.760698</td>\n      <td>1.255966</td>\n    </tr>\n    <tr>\n      <th>Steve</th>\n      <td>0.606576</td>\n      <td>1.209072</td>\n      <td>-0.068620</td>\n      <td>-0.982205</td>\n      <td>1.017329</td>\n    </tr>\n    <tr>\n      <th>Wes</th>\n      <td>0.337924</td>\n      <td>NaN</td>\n      <td>NaN</td>\n      <td>-1.838438</td>\n      <td>-1.605933</td>\n    </tr>\n    <tr>\n      <th>Jim</th>\n      <td>-0.230851</td>\n      <td>-0.547780</td>\n      <td>-0.292858</td>\n      <td>0.535523</td>\n      <td>-0.193637</td>\n    </tr>\n    <tr>\n      <th>Travis</th>\n      <td>1.134315</td>\n      <td>1.317166</td>\n      <td>0.664279</td>\n      <td>0.553034</td>\n      <td>-0.372935</td>\n    </tr>\n  </tbody>\n</table>\n</div>"
     },
     "execution_count": 2,
     "metadata": {},
     "output_type": "execute_result"
    }
   ],
   "source": [
    "people = pd.DataFrame(np.random.randn(5, 5),\n",
    "                      columns=['a', 'b', 'c', 'd', 'e'],\n",
    "                      index=['Joe', 'Steve', 'Wes', 'Jim', 'Travis'])\n",
    "people.iloc[2:3, [1, 2]] = np.nan  # Add a few NA values\n",
    "people"
   ]
  },
  {
   "cell_type": "code",
   "execution_count": 3,
   "metadata": {},
   "outputs": [],
   "source": [
    "mapping = {'a': 'red', 'b': 'red', 'c': 'blue',\n",
    "           'd': 'blue', 'e': 'red'}"
   ]
  },
  {
   "cell_type": "code",
   "execution_count": 4,
   "metadata": {},
   "outputs": [],
   "source": [
    "# If a dict or Series is passed, the Series or dict VALUES will be used to determine the groups\n",
    "# 利用字典的映射关系进行分组(相比按顺序分组更加灵活)\n",
    "by_column = people.groupby(mapping, axis=1)  # 对列进行分组"
   ]
  },
  {
   "cell_type": "code",
   "execution_count": 5,
   "metadata": {},
   "outputs": [
    {
     "data": {
      "text/plain": "            blue       red\nJoe    -2.619295  0.530002\nSteve  -1.050826  2.832977\nWes    -1.838438 -1.268009\nJim     0.242665 -0.972268\nTravis  1.217314  2.078546",
      "text/html": "<div>\n<style scoped>\n    .dataframe tbody tr th:only-of-type {\n        vertical-align: middle;\n    }\n\n    .dataframe tbody tr th {\n        vertical-align: top;\n    }\n\n    .dataframe thead th {\n        text-align: right;\n    }\n</style>\n<table border=\"1\" class=\"dataframe\">\n  <thead>\n    <tr style=\"text-align: right;\">\n      <th></th>\n      <th>blue</th>\n      <th>red</th>\n    </tr>\n  </thead>\n  <tbody>\n    <tr>\n      <th>Joe</th>\n      <td>-2.619295</td>\n      <td>0.530002</td>\n    </tr>\n    <tr>\n      <th>Steve</th>\n      <td>-1.050826</td>\n      <td>2.832977</td>\n    </tr>\n    <tr>\n      <th>Wes</th>\n      <td>-1.838438</td>\n      <td>-1.268009</td>\n    </tr>\n    <tr>\n      <th>Jim</th>\n      <td>0.242665</td>\n      <td>-0.972268</td>\n    </tr>\n    <tr>\n      <th>Travis</th>\n      <td>1.217314</td>\n      <td>2.078546</td>\n    </tr>\n  </tbody>\n</table>\n</div>"
     },
     "execution_count": 5,
     "metadata": {},
     "output_type": "execute_result"
    }
   ],
   "source": [
    "by_column.sum()"
   ]
  },
  {
   "cell_type": "code",
   "execution_count": 6,
   "metadata": {},
   "outputs": [],
   "source": [
    "mapping1 = {'Joe': 'good', 'Steve': 'just so so', 'Wes': 'just so so',\n",
    "            'Jim': 'good', 'Travis': 'just so so'}"
   ]
  },
  {
   "cell_type": "code",
   "execution_count": 7,
   "outputs": [],
   "source": [
    "by_column1 = people.groupby(mapping1, axis=0)  # 对行进行分组"
   ],
   "metadata": {
    "collapsed": false,
    "pycharm": {
     "name": "#%%\n"
    }
   }
  },
  {
   "cell_type": "code",
   "execution_count": 8,
   "outputs": [
    {
     "data": {
      "text/plain": "                   a         b         c         d         e\ngood        0.733663 -2.238258 -1.151455 -1.225175  1.062329\njust so so  2.078814  2.526238  0.595659 -2.267609 -0.961539",
      "text/html": "<div>\n<style scoped>\n    .dataframe tbody tr th:only-of-type {\n        vertical-align: middle;\n    }\n\n    .dataframe tbody tr th {\n        vertical-align: top;\n    }\n\n    .dataframe thead th {\n        text-align: right;\n    }\n</style>\n<table border=\"1\" class=\"dataframe\">\n  <thead>\n    <tr style=\"text-align: right;\">\n      <th></th>\n      <th>a</th>\n      <th>b</th>\n      <th>c</th>\n      <th>d</th>\n      <th>e</th>\n    </tr>\n  </thead>\n  <tbody>\n    <tr>\n      <th>good</th>\n      <td>0.733663</td>\n      <td>-2.238258</td>\n      <td>-1.151455</td>\n      <td>-1.225175</td>\n      <td>1.062329</td>\n    </tr>\n    <tr>\n      <th>just so so</th>\n      <td>2.078814</td>\n      <td>2.526238</td>\n      <td>0.595659</td>\n      <td>-2.267609</td>\n      <td>-0.961539</td>\n    </tr>\n  </tbody>\n</table>\n</div>"
     },
     "execution_count": 8,
     "metadata": {},
     "output_type": "execute_result"
    }
   ],
   "source": [
    "by_column1.sum()"
   ],
   "metadata": {
    "collapsed": false,
    "pycharm": {
     "name": "#%%\n"
    }
   }
  },
  {
   "cell_type": "code",
   "execution_count": 9,
   "outputs": [
    {
     "data": {
      "text/plain": "a     red\nb     red\nc    blue\nd    blue\ne     red\ndtype: object"
     },
     "execution_count": 9,
     "metadata": {},
     "output_type": "execute_result"
    }
   ],
   "source": [
    "# Series与字典类似(即也存在映射关系)\n",
    "map_series = pd.Series(mapping)\n",
    "map_series"
   ],
   "metadata": {
    "collapsed": false,
    "pycharm": {
     "name": "#%%\n"
    }
   }
  },
  {
   "cell_type": "code",
   "execution_count": 10,
   "metadata": {},
   "outputs": [
    {
     "data": {
      "text/plain": "            blue       red\nJoe    -2.619295  0.530002\nSteve  -1.050826  2.832977\nWes    -1.838438 -1.268009\nJim     0.242665 -0.972268\nTravis  1.217314  2.078546",
      "text/html": "<div>\n<style scoped>\n    .dataframe tbody tr th:only-of-type {\n        vertical-align: middle;\n    }\n\n    .dataframe tbody tr th {\n        vertical-align: top;\n    }\n\n    .dataframe thead th {\n        text-align: right;\n    }\n</style>\n<table border=\"1\" class=\"dataframe\">\n  <thead>\n    <tr style=\"text-align: right;\">\n      <th></th>\n      <th>blue</th>\n      <th>red</th>\n    </tr>\n  </thead>\n  <tbody>\n    <tr>\n      <th>Joe</th>\n      <td>-2.619295</td>\n      <td>0.530002</td>\n    </tr>\n    <tr>\n      <th>Steve</th>\n      <td>-1.050826</td>\n      <td>2.832977</td>\n    </tr>\n    <tr>\n      <th>Wes</th>\n      <td>-1.838438</td>\n      <td>-1.268009</td>\n    </tr>\n    <tr>\n      <th>Jim</th>\n      <td>0.242665</td>\n      <td>-0.972268</td>\n    </tr>\n    <tr>\n      <th>Travis</th>\n      <td>1.217314</td>\n      <td>2.078546</td>\n    </tr>\n  </tbody>\n</table>\n</div>"
     },
     "execution_count": 10,
     "metadata": {},
     "output_type": "execute_result"
    }
   ],
   "source": [
    "people.groupby(map_series, axis=1).sum()"
   ]
  },
  {
   "cell_type": "code",
   "execution_count": 11,
   "metadata": {},
   "outputs": [
    {
     "data": {
      "text/plain": "                   a         b         c         d         e\ngood        0.733663 -2.238258 -1.151455 -1.225175  1.062329\njust so so  2.078814  2.526238  0.595659 -2.267609 -0.961539",
      "text/html": "<div>\n<style scoped>\n    .dataframe tbody tr th:only-of-type {\n        vertical-align: middle;\n    }\n\n    .dataframe tbody tr th {\n        vertical-align: top;\n    }\n\n    .dataframe thead th {\n        text-align: right;\n    }\n</style>\n<table border=\"1\" class=\"dataframe\">\n  <thead>\n    <tr style=\"text-align: right;\">\n      <th></th>\n      <th>a</th>\n      <th>b</th>\n      <th>c</th>\n      <th>d</th>\n      <th>e</th>\n    </tr>\n  </thead>\n  <tbody>\n    <tr>\n      <th>good</th>\n      <td>0.733663</td>\n      <td>-2.238258</td>\n      <td>-1.151455</td>\n      <td>-1.225175</td>\n      <td>1.062329</td>\n    </tr>\n    <tr>\n      <th>just so so</th>\n      <td>2.078814</td>\n      <td>2.526238</td>\n      <td>0.595659</td>\n      <td>-2.267609</td>\n      <td>-0.961539</td>\n    </tr>\n  </tbody>\n</table>\n</div>"
     },
     "execution_count": 11,
     "metadata": {},
     "output_type": "execute_result"
    }
   ],
   "source": [
    "people.groupby(pd.Series(mapping1), axis=0).sum()"
   ]
  },
  {
   "cell_type": "code",
   "execution_count": 12,
   "metadata": {
    "pycharm": {
     "name": "#%%\n"
    }
   },
   "outputs": [
    {
     "data": {
      "text/plain": "            blue       red\nJoe    -2.619295  0.530002\nSteve  -1.050826  2.832977\nWes    -1.838438 -1.268009\nJim     0.242665 -0.972268\nTravis  1.217314  2.078546",
      "text/html": "<div>\n<style scoped>\n    .dataframe tbody tr th:only-of-type {\n        vertical-align: middle;\n    }\n\n    .dataframe tbody tr th {\n        vertical-align: top;\n    }\n\n    .dataframe thead th {\n        text-align: right;\n    }\n</style>\n<table border=\"1\" class=\"dataframe\">\n  <thead>\n    <tr style=\"text-align: right;\">\n      <th></th>\n      <th>blue</th>\n      <th>red</th>\n    </tr>\n  </thead>\n  <tbody>\n    <tr>\n      <th>Joe</th>\n      <td>-2.619295</td>\n      <td>0.530002</td>\n    </tr>\n    <tr>\n      <th>Steve</th>\n      <td>-1.050826</td>\n      <td>2.832977</td>\n    </tr>\n    <tr>\n      <th>Wes</th>\n      <td>-1.838438</td>\n      <td>-1.268009</td>\n    </tr>\n    <tr>\n      <th>Jim</th>\n      <td>0.242665</td>\n      <td>-0.972268</td>\n    </tr>\n    <tr>\n      <th>Travis</th>\n      <td>1.217314</td>\n      <td>2.078546</td>\n    </tr>\n  </tbody>\n</table>\n</div>"
     },
     "execution_count": 12,
     "metadata": {},
     "output_type": "execute_result"
    }
   ],
   "source": [
    "# 按顺序进行分组\n",
    "# color_lst按序依次对应peple.columns(axis=1时)\n",
    "color_lst = ['red', 'red', 'blue', 'blue', 'red']\n",
    "arr = np.array(color_lst)\n",
    "by_column1 = people.groupby(arr, axis=1)\n",
    "by_column1.sum()"
   ]
  },
  {
   "cell_type": "code",
   "execution_count": 13,
   "outputs": [
    {
     "data": {
      "text/plain": "  key1 key2     data1     data2\n0    a  one  1.967187 -0.577494\n1    a  two -0.650766  0.684579\n2    b  one -0.347780  1.230556\n3    b  two -0.257635 -0.493592\n4    a  one  1.057957  1.824666",
      "text/html": "<div>\n<style scoped>\n    .dataframe tbody tr th:only-of-type {\n        vertical-align: middle;\n    }\n\n    .dataframe tbody tr th {\n        vertical-align: top;\n    }\n\n    .dataframe thead th {\n        text-align: right;\n    }\n</style>\n<table border=\"1\" class=\"dataframe\">\n  <thead>\n    <tr style=\"text-align: right;\">\n      <th></th>\n      <th>key1</th>\n      <th>key2</th>\n      <th>data1</th>\n      <th>data2</th>\n    </tr>\n  </thead>\n  <tbody>\n    <tr>\n      <th>0</th>\n      <td>a</td>\n      <td>one</td>\n      <td>1.967187</td>\n      <td>-0.577494</td>\n    </tr>\n    <tr>\n      <th>1</th>\n      <td>a</td>\n      <td>two</td>\n      <td>-0.650766</td>\n      <td>0.684579</td>\n    </tr>\n    <tr>\n      <th>2</th>\n      <td>b</td>\n      <td>one</td>\n      <td>-0.347780</td>\n      <td>1.230556</td>\n    </tr>\n    <tr>\n      <th>3</th>\n      <td>b</td>\n      <td>two</td>\n      <td>-0.257635</td>\n      <td>-0.493592</td>\n    </tr>\n    <tr>\n      <th>4</th>\n      <td>a</td>\n      <td>one</td>\n      <td>1.057957</td>\n      <td>1.824666</td>\n    </tr>\n  </tbody>\n</table>\n</div>"
     },
     "execution_count": 13,
     "metadata": {},
     "output_type": "execute_result"
    }
   ],
   "source": [
    "df = pd.DataFrame({'key1': ['a', 'a', 'b', 'b', 'a'],\n",
    "                   'key2': ['one', 'two', 'one', 'two', 'one'],\n",
    "                   'data1': np.random.randn(5),\n",
    "                   'data2': np.random.randn(5)})\n",
    "df"
   ],
   "metadata": {
    "collapsed": false,
    "pycharm": {
     "name": "#%%\n"
    }
   }
  },
  {
   "cell_type": "code",
   "execution_count": 14,
   "outputs": [
    {
     "data": {
      "text/plain": "key1      object\nkey2      object\ndata1    float64\ndata2    float64\ndtype: object"
     },
     "execution_count": 14,
     "metadata": {},
     "output_type": "execute_result"
    }
   ],
   "source": [
    "df.dtypes"
   ],
   "metadata": {
    "collapsed": false,
    "pycharm": {
     "name": "#%%\n"
    }
   }
  },
  {
   "cell_type": "code",
   "execution_count": 15,
   "outputs": [],
   "source": [
    "grouped = df.groupby(df.dtypes, axis=1)  # 默认axis=0"
   ],
   "metadata": {
    "collapsed": false,
    "pycharm": {
     "name": "#%%\n"
    }
   }
  },
  {
   "cell_type": "code",
   "execution_count": 21,
   "outputs": [
    {
     "data": {
      "text/plain": "[(dtype('float64'),\n        data1     data2\n  0  1.967187 -0.577494\n  1 -0.650766  0.684579\n  2 -0.347780  1.230556\n  3 -0.257635 -0.493592\n  4  1.057957  1.824666),\n (dtype('O'),\n    key1 key2\n  0    a  one\n  1    a  two\n  2    b  one\n  3    b  two\n  4    a  one)]"
     },
     "execution_count": 21,
     "metadata": {},
     "output_type": "execute_result"
    }
   ],
   "source": [
    "# 不同数据类型列得到了分离\n",
    "list(grouped)"
   ],
   "metadata": {
    "collapsed": false,
    "pycharm": {
     "name": "#%%\n"
    }
   }
  },
  {
   "cell_type": "code",
   "execution_count": 16,
   "outputs": [],
   "source": [],
   "metadata": {
    "collapsed": false,
    "pycharm": {
     "name": "#%%\n"
    }
   }
  }
 ],
 "metadata": {
  "kernelspec": {
   "name": "python3",
   "language": "python",
   "display_name": "Python 3"
  },
  "language_info": {
   "codemirror_mode": {
    "name": "ipython",
    "version": 2
   },
   "file_extension": ".py",
   "mimetype": "text/x-python",
   "name": "python",
   "nbconvert_exporter": "python",
   "pygments_lexer": "ipython2",
   "version": "2.7.6"
  },
  "stem_cell": {
   "cell_type": "raw",
   "source": "",
   "metadata": {
    "pycharm": {
     "metadata": false
    }
   }
  }
 },
 "nbformat": 4,
 "nbformat_minor": 0
}