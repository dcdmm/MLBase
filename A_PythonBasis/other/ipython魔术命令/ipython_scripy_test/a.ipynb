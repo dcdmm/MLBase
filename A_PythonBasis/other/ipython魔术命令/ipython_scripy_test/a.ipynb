{
 "cells": [
  {
   "cell_type": "code",
   "id": "initial_id",
   "metadata": {
    "collapsed": true,
    "ExecuteTime": {
     "end_time": "2024-04-10T09:11:40.443957Z",
     "start_time": "2024-04-10T09:11:40.432493Z"
    }
   },
   "source": [
    "def testa():\n",
    "    return 100"
   ],
   "outputs": [],
   "execution_count": 11
  },
  {
   "cell_type": "code",
   "id": "a2261c1e7295c96c",
   "metadata": {
    "ExecuteTime": {
     "end_time": "2024-04-10T09:11:40.459095Z",
     "start_time": "2024-04-10T09:11:40.444463Z"
    }
   },
   "source": [
    "a = testa()\n",
    "print(a)"
   ],
   "outputs": [
    {
     "name": "stdout",
     "output_type": "stream",
     "text": [
      "100\n"
     ]
    }
   ],
   "execution_count": 12
  }
 ],
 "metadata": {
  "kernelspec": {
   "display_name": "Python 3",
   "language": "python",
   "name": "python3"
  },
  "language_info": {
   "codemirror_mode": {
    "name": "ipython",
    "version": 3
   },
   "file_extension": ".py",
   "mimetype": "text/x-python",
   "name": "python",
   "nbconvert_exporter": "python",
   "pygments_lexer": "ipython3",
   "version": "3.10.12"
  }
 },
 "nbformat": 4,
 "nbformat_minor": 5
}
