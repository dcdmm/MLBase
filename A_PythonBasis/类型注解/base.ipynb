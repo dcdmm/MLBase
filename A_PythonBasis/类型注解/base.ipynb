{
 "cells": [
  {
   "cell_type": "code",
   "execution_count": 1,
   "metadata": {
    "collapsed": true,
    "pycharm": {
     "name": "#%%\n"
    }
   },
   "outputs": [
    {
     "name": "stdout",
     "output_type": "stream",
     "text": [
      "{'x': <class 'float'>, 'y': <class 'int'>, 'z': <class 'bool'>, 'm': <class 'str'>, 'return': <class 'int'>}\n",
      "1\n",
      "1\n",
      "1\n",
      "1\n",
      "1\n"
     ]
    }
   ],
   "source": [
    "# 内置注解类型:int,bool,float,str\n",
    "def func1(x: float, y: int, z: bool, m: str) -> int:\n",
    "    return 1\n",
    "\n",
    "\n",
    "print(func1.__annotations__)\n",
    "\n",
    "# 数据类型精度大小:bool===>int===>float\n",
    "print(func1(4, False, True, \"duan\"))  #  精度低类型False自动提升为精度高类型int;精度低类型int自动提升为精度高类型float\n",
    "print(func1(\"dc\", 2, True, \"chao\"))  # 提示类型不匹配\n",
    "print(func1(3.1, 2.4, False, \"chao\"))  # 提示类型不匹配\n",
    "print(func1(4.4, 2, 23, \"chao\"))  # 提示类型不匹配\n",
    "print(func1(4.4, 2, False, 51))  # 提示类型不匹配"
   ]
  },
  {
   "cell_type": "code",
   "execution_count": 2,
   "metadata": {
    "collapsed": false,
    "pycharm": {
     "name": "#%%\n"
    }
   },
   "outputs": [
    {
     "name": "stdout",
     "output_type": "stream",
     "text": [
      "{'x': typing.List[float], 'y': typing.List[str], 'return': <class 'int'>}\n",
      "1\n",
      "1\n",
      "1\n"
     ]
    }
   ],
   "source": [
    "from typing import List\n",
    "\n",
    "\n",
    "def func_List(x: List[float], y: List[str]) -> int:\n",
    "    return 1\n",
    "\n",
    "\n",
    "print(func_List.__annotations__)\n",
    "\n",
    "print(func_List(x=[1.2, \"dcgo\"], y=[\"duan\", 2.3]))  # 只需有一个元素满足要求即可\n",
    "print(func_List(x=[\"dcgo\"], y=[\"duan\", 2.3]))  # 提示类型不匹配\n",
    "print(func_List(x=[1.2, \"dcgo\"], y=[2.3]))  # 提示类型不匹配"
   ]
  },
  {
   "cell_type": "code",
   "execution_count": 3,
   "metadata": {
    "collapsed": false,
    "pycharm": {
     "name": "#%%\n"
    }
   },
   "outputs": [
    {
     "name": "stdout",
     "output_type": "stream",
     "text": [
      "{'x': typing.Tuple[int, float, str], 'return': <class 'int'>}\n",
      "1\n",
      "1\n"
     ]
    }
   ],
   "source": [
    "from typing import Tuple\n",
    "\n",
    "\n",
    "# 表明元组的第一个元素类型为int,第二个元素类型为float,第三个元素类型为str\n",
    "def func_Tuple(x: Tuple[int, float, str]) -> int:\n",
    "    return 1\n",
    "\n",
    "\n",
    "print(func_Tuple.__annotations__)\n",
    "\n",
    "print(func_Tuple(x=(3, 3.5, 'duan')))\n",
    "print(func_Tuple(x=(3, 3.5, 1)))  # 提示类型不匹配(第三个元素不匹配)"
   ]
  },
  {
   "cell_type": "code",
   "execution_count": 4,
   "metadata": {
    "collapsed": false,
    "pycharm": {
     "name": "#%%\n"
    }
   },
   "outputs": [
    {
     "name": "stdout",
     "output_type": "stream",
     "text": [
      "{'x': typing.Dict[str, int], 'return': <class 'int'>}\n",
      "1\n",
      "1\n",
      "1\n"
     ]
    }
   ],
   "source": [
    "from typing import Dict\n",
    "\n",
    "\n",
    "def func_Dict(x: Dict[str, int]) -> int:\n",
    "    return 1\n",
    "\n",
    "\n",
    "print(func_Dict.__annotations__)\n",
    "\n",
    "print(func_Dict(x={\"duan\": 3, \"chao\": 3.4, (2,): 3}))  # 只需有一个元素满足要求即可\n",
    "print(func_Dict(x={\"duan\": 3.0}))  # 提示类型不匹配\n",
    "print(func_Dict(x={(2,): 3}))  # 提示类型不匹配"
   ]
  },
  {
   "cell_type": "code",
   "execution_count": 5,
   "metadata": {
    "collapsed": false,
    "pycharm": {
     "name": "#%%\n"
    }
   },
   "outputs": [
    {
     "name": "stdout",
     "output_type": "stream",
     "text": [
      "{'x': typing.Dict[str, int], 'return': <class 'int'>}\n",
      "1\n",
      "1\n"
     ]
    }
   ],
   "source": [
    "from typing import Set\n",
    "\n",
    "\n",
    "def func_Set(x: Set[str]) -> int:\n",
    "    return 1\n",
    "\n",
    "\n",
    "print(func_Dict.__annotations__)\n",
    "\n",
    "print(func_Set(x={\"one\", \"two\", 3}))  # 只需有一个元素满足要求即可\n",
    "print(func_Set(x={1, 2, 3}))  # 提示类型不匹配"
   ]
  },
  {
   "cell_type": "code",
   "execution_count": 6,
   "metadata": {
    "collapsed": false,
    "pycharm": {
     "name": "#%%"
    }
   },
   "outputs": [
    {
     "name": "stdout",
     "output_type": "stream",
     "text": [
      "{'elements': typing.Sequence[int], 'return': typing.List[int]}\n",
      "[1, 2, 3, 4]\n",
      "[1.2, 2.4, 3.12, 4]\n",
      "[1.2, 2.4, 3.12, 4.21]\n",
      "[1, 2, 3, 4]\n",
      "[1.2, 2.4, 3.12, 4]\n",
      "[1.2, 2.4, 3.12, 4.21]\n",
      "['a', 'b', 'c', 'd']\n",
      "['d', 'u', 'a', 'n', 'c', 'h', 'a', 'o']\n",
      "['a', 1, 2, 3]\n",
      "[1, 2, 3, 4]\n",
      "[1.2, 2.4, 3.12, 4]\n",
      "[1.2, 2.4, 3.12, 4.21]\n"
     ]
    }
   ],
   "source": [
    "from typing import Sequence\n",
    "\n",
    "\n",
    "def func_Sequence(elements: Sequence[int]) -> List[int]:\n",
    "    return [x for x in elements]\n",
    "\n",
    "\n",
    "def func_Sequence1(elements: Sequence[str]) -> List[int]:\n",
    "    return [x for x in elements]\n",
    "\n",
    "\n",
    "print(func_Sequence.__annotations__)\n",
    "\n",
    "# 列表是序列类型\n",
    "print(func_Sequence([1, 2, 3, 4]))\n",
    "print(func_Sequence([1.2, 2.4, 3.12, 4]))  # 只需有一个元素满足要求即可\n",
    "print(func_Sequence([1.2, 2.4, 3.12, 4.21]))  # 提示类型不匹配\n",
    "\n",
    "# 元组是序列类型\n",
    "print(func_Sequence((1, 2, 3, 4)))\n",
    "print(func_Sequence((1.2, 2.4, 3.12, 4)))  # 只需有一个元素满足要求即可\n",
    "print(func_Sequence((1.2, 2.4, 3.12, 4.21)))  # 提示类型不匹配\n",
    "\n",
    "# 字符串是序列类型\n",
    "print(func_Sequence1(['a', 'b', 'c', 'd']))\n",
    "print(func_Sequence1(\"duanchao\"))\n",
    "print(func_Sequence1(['a', 1, 2, 3]))  # 只需有一个元素满足要求即可\n",
    "print(func_Sequence1([1, 2, 3, 4]))  # 提示类型不匹配\n",
    "print(func_Sequence1([1.2, 2.4, 3.12, 4]))  # 提示类型不匹配\n",
    "print(func_Sequence1([1.2, 2.4, 3.12, 4.21]))  # 提示类型不匹配"
   ]
  }
 ],
 "metadata": {
  "kernelspec": {
   "display_name": "Python 3",
   "language": "python",
   "name": "python3"
  },
  "language_info": {
   "codemirror_mode": {
    "name": "ipython",
    "version": 3
   },
   "file_extension": ".py",
   "mimetype": "text/x-python",
   "name": "python",
   "nbconvert_exporter": "python",
   "pygments_lexer": "ipython3",
   "version": "3.11.7"
  }
 },
 "nbformat": 4,
 "nbformat_minor": 0
}
