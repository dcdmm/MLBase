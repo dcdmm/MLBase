{
 "cells": [
  {
   "cell_type": "code",
   "execution_count": 1,
   "outputs": [
    {
     "data": {
      "text/plain": "poly1d([ 1.70119065e-04, -1.20483214e-02,  3.03126860e-01, -3.26991162e+00,\n        1.41179469e+01, -1.01744862e+01])"
     },
     "metadata": {},
     "output_type": "execute_result",
     "execution_count": 1
    }
   ],
   "source": [
    "from scipy.interpolate import  lagrange\n",
    "import matplotlib.pyplot as plt\n",
    "import  pandas as pd\n",
    "import numpy as np\n",
    "\n",
    "x = [3, 6, 9, 14, 18, 29]\n",
    "y = [10, 8, 4, 7, 9, 10]\n",
    "plt.scatter(x, y)\n",
    "df = pd.DataFrame({\"x\":np.arange(30)})\n",
    "df['y'] = lagrange(x, y)(df['x'])\n",
    "plt.plot(df['x'], df['y'], linestyle='--', color='red') \n",
    "lagrange(x, y) # 拉格朗日插值多项式"
   ],
   "metadata": {
    "collapsed": false,
    "pycharm": {
     "name": "#%%\n",
     "is_executing": false
    }
   }
  },
  {
   "cell_type": "code",
   "execution_count": 2,
   "metadata": {
    "pycharm": {
     "metadata": false,
     "name": "#%%\n",
     "is_executing": false
    }
   },
   "outputs": [
    {
     "name": "stdout",
     "text": [
      "           5           4          3        2\n",
      "0.0001701 x - 0.01205 x + 0.3031 x - 3.27 x + 14.12 x - 10.17\n"
     ],
     "output_type": "stream"
    }
   ],
   "source": [
    "print(lagrange(x, y))"
   ]
  },
  {
   "cell_type": "code",
   "execution_count": null,
   "outputs": [],
   "source": [
    "\n"
   ],
   "metadata": {
    "collapsed": false,
    "pycharm": {
     "name": "#%%\n"
    }
   }
  }
 ],
 "metadata": {
  "kernelspec": {
   "display_name": "Python 3",
   "language": "python",
   "name": "python3"
  },
  "language_info": {
   "codemirror_mode": {
    "name": "ipython",
    "version": 3
   },
   "file_extension": ".py",
   "mimetype": "text/x-python",
   "name": "python",
   "nbconvert_exporter": "python",
   "pygments_lexer": "ipython3",
   "version": "3.7.3"
  },
  "pycharm": {
   "stem_cell": {
    "cell_type": "raw",
    "source": [],
    "metadata": {
     "collapsed": false
    }
   }
  }
 },
 "nbformat": 4,
 "nbformat_minor": 1
}