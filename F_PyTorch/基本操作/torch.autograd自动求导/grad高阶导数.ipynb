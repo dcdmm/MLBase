{
 "cells": [
  {
   "cell_type": "code",
   "execution_count": 1,
   "metadata": {
    "collapsed": true,
    "pycharm": {
     "name": "#%%\n"
    }
   },
   "outputs": [
    {
     "name": "stdout",
     "output_type": "stream",
     "text": [
      "(tensor([80.], grad_fn=<MulBackward0>),)\n",
      "(tensor([160.], grad_fn=<MulBackward0>),)\n",
      "(tensor([240.]),)\n"
     ]
    }
   ],
   "source": [
    "import torch\n",
    "\n",
    "x = torch.tensor([2.], requires_grad=True)\n",
    "y = x**5\n",
    "\n",
    "# 高阶导数求解;指定create_graph=True\n",
    "grad1 = torch.autograd.grad(y, x, create_graph=True) # y对x的一阶导数\n",
    "print(grad1)\n",
    "\n",
    "grad2 = torch.autograd.grad(grad1, x, create_graph=True) # y对x的二阶导数\n",
    "print(grad2)\n",
    "\n",
    "grad3 = torch.autograd.grad(grad2, x) # y对x的三阶导数\n",
    "print(grad3)\n",
    "\n"
   ]
  }
 ],
 "metadata": {
  "kernelspec": {
   "display_name": "Python 3",
   "language": "python",
   "name": "python3"
  },
  "language_info": {
   "codemirror_mode": {
    "name": "ipython",
    "version": 2
   },
   "file_extension": ".py",
   "mimetype": "text/x-python",
   "name": "python",
   "nbconvert_exporter": "python",
   "pygments_lexer": "ipython2",
   "version": "2.7.6"
  }
 },
 "nbformat": 4,
 "nbformat_minor": 0
}