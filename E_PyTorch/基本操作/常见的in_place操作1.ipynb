{
 "cells": [
  {
   "cell_type": "markdown",
   "metadata": {
    "collapsed": true,
    "pycharm": {
     "name": "#%% md\n"
    }
   },
   "source": [
    "### fill_\n",
    "### masked_fill_\n",
    "### zero_\n",
    "### uniform_\n",
    "### index_add_"
   ]
  },
  {
   "cell_type": "code",
   "execution_count": 160,
   "metadata": {
    "collapsed": false,
    "pycharm": {
     "name": "#%%\n"
    }
   },
   "outputs": [
    {
     "data": {
      "text/plain": [
       "tensor([[-1.9397e-26,  2.1076e-42,  2.0000e+00,  1.0000e+02,  1.0000e+02],\n",
       "        [ 1.0000e+02,  1.1000e+01,  1.1000e+01,  1.1000e+01,  1.0000e+00],\n",
       "        [ 1.0000e+00,  1.0000e+00, -1.0000e+00, -1.0000e+00, -1.0000e+00]])"
      ]
     },
     "execution_count": 160,
     "metadata": {},
     "output_type": "execute_result"
    }
   ],
   "source": [
    "import torch\n",
    "\n",
    "a = torch.empty((3, 5))\n",
    "a"
   ]
  },
  {
   "cell_type": "code",
   "execution_count": 161,
   "metadata": {
    "collapsed": false,
    "pycharm": {
     "name": "#%%\n"
    }
   },
   "outputs": [
    {
     "data": {
      "text/plain": [
       "tensor([[1., 1., 1., 1., 1.],\n",
       "        [1., 1., 1., 1., 1.],\n",
       "        [1., 1., 1., 1., 1.]])"
      ]
     },
     "execution_count": 161,
     "metadata": {},
     "output_type": "execute_result"
    }
   ],
   "source": [
    "a.fill_(1)  # Fills self tensor with the specified value;In-place操作\n",
    "a"
   ]
  },
  {
   "cell_type": "code",
   "execution_count": 162,
   "metadata": {
    "collapsed": false,
    "pycharm": {
     "name": "#%%\n"
    }
   },
   "outputs": [
    {
     "data": {
      "text/plain": [
       "tensor([[1.0000e+00, 1.0000e+00, 1.0000e+00, 1.0000e+00, 1.0000e+00],\n",
       "        [1.0000e+00, 1.0000e+00, 1.0000e-08, 1.0000e-08, 1.0000e-08],\n",
       "        [1.0000e+00, 1.0000e+00, 1.0000e+00, 1.0000e-08, 1.0000e-08]])"
      ]
     },
     "execution_count": 162,
     "metadata": {},
     "output_type": "execute_result"
    }
   ],
   "source": [
    "mask0 = torch.tensor([[False, False, False, False, False],\n",
    "                      [False, False, True, True, True],\n",
    "                      [False, False, False, True, True]])\n",
    "# Fills elements of self tensor with value where mask is True. The shape of mask must be broadcastable with the shape of the underlying tensor.\n",
    "a.masked_fill_(mask0, 1e-8)\n",
    "a"
   ]
  },
  {
   "cell_type": "code",
   "execution_count": 163,
   "metadata": {
    "collapsed": false,
    "pycharm": {
     "name": "#%%\n"
    }
   },
   "outputs": [
    {
     "data": {
      "text/plain": [
       "tensor([[1., 1., 0., 0., 0.],\n",
       "        [1., 1., 0., 0., 0.],\n",
       "        [1., 1., 0., 0., 0.]])"
      ]
     },
     "execution_count": 163,
     "metadata": {},
     "output_type": "execute_result"
    }
   ],
   "source": [
    "mask1 = torch.tensor([False, False, True, True, True])\n",
    "a.masked_fill_(mask1, 0)  # 广播\n",
    "a"
   ]
  },
  {
   "cell_type": "code",
   "execution_count": 164,
   "metadata": {
    "collapsed": false,
    "pycharm": {
     "name": "#%%\n"
    }
   },
   "outputs": [
    {
     "data": {
      "text/plain": [
       "tensor([[0., 0., 0., 0., 0.],\n",
       "        [0., 0., 0., 0., 0.],\n",
       "        [0., 0., 0., 0., 0.]])"
      ]
     },
     "execution_count": 164,
     "metadata": {},
     "output_type": "execute_result"
    }
   ],
   "source": [
    "a.zero_()  #  # Fills self tensor with zeros;In-place操作\n",
    "a"
   ]
  },
  {
   "cell_type": "markdown",
   "metadata": {
    "collapsed": false
   },
   "source": [
    "Fills self tensor with numbers sampled from the continuous uniform distribution:\n",
    "\n",
    "$$ P(x) = \\frac{1}{b - a}  $$"
   ]
  },
  {
   "cell_type": "code",
   "execution_count": 165,
   "metadata": {
    "collapsed": false,
    "pycharm": {
     "name": "#%%\n"
    }
   },
   "outputs": [
    {
     "data": {
      "text/plain": [
       "tensor([[4.8874, 3.8867, 3.7503, 2.7523, 3.5886],\n",
       "        [2.6227, 2.8578, 4.1125, 3.4638, 2.6060],\n",
       "        [3.8373, 4.0988, 2.4403, 2.1240, 3.2076]])"
      ]
     },
     "execution_count": 165,
     "metadata": {},
     "output_type": "execute_result"
    }
   ],
   "source": [
    "a.uniform_(2, 5)  # a=2,b=5\n",
    "a"
   ]
  },
  {
   "cell_type": "code",
   "execution_count": 166,
   "metadata": {
    "collapsed": false,
    "pycharm": {
     "name": "#%%\n"
    }
   },
   "outputs": [
    {
     "data": {
      "text/plain": [
       "tensor([[ 2.9686, -2.3692,  1.1616,  0.7111, -4.8221],\n",
       "        [ 0.1042, -6.4417,  2.7110, -4.0927, -2.2211],\n",
       "        [ 4.1143,  0.4843, -1.3862, -7.2945,  0.1106]])"
      ]
     },
     "execution_count": 166,
     "metadata": {},
     "output_type": "execute_result"
    }
   ],
   "source": [
    "a.normal_(mean=0,\n",
    "          std=4)  # Fills self tensor with elements samples from the normal distribution parameterized by mean and std.\n",
    "a"
   ]
  },
  {
   "cell_type": "code",
   "execution_count": 167,
   "metadata": {
    "collapsed": false,
    "pycharm": {
     "name": "#%%\n"
    }
   },
   "outputs": [
    {
     "name": "stdout",
     "output_type": "stream",
     "text": [
      "tensor([[ 2.,  2.,  2.],\n",
      "        [ 1.,  1.,  1.],\n",
      "        [11., 11., 11.],\n",
      "        [ 1.,  1.,  1.],\n",
      "        [ 0.,  0.,  0.]])\n",
      "tensor([[  2.,   2.,   2.],\n",
      "        [100., 100., 100.],\n",
      "        [ 11.,  11.,  11.],\n",
      "        [  1.,   1.,   1.],\n",
      "        [ -1.,  -1.,  -1.]])\n"
     ]
    }
   ],
   "source": [
    "x = torch.ones(5, 3)\n",
    "t0 = torch.tensor([[1, 1, 1],\n",
    "                  [-1, -1, -1],\n",
    "                  [10, 10, 10]], dtype=torch.float)\n",
    "index0 = torch.tensor([0, 4, 2])\n",
    "# x.shape=(5, 3)\n",
    "# index0.shape=(3, )\n",
    "# t0.shape=(3, 3)\n",
    "x.index_add_(dim=0, index=index0, source=t0)\n",
    "print(x)\n",
    "\n",
    "t1 = torch.tensor([[99, 99, 99],\n",
    "                  [-1, -1, -1]], dtype=torch.float)\n",
    "index1 = torch.tensor([1, 4])\n",
    "# x.shape=(5, 3)\n",
    "# index0.shape=(2, )\n",
    "# t0.shape=(2, 3)\n",
    "x.index_add_(dim=0, index=index1, source=t1)\n",
    "print(x)"
   ]
  }
 ],
 "metadata": {
  "kernelspec": {
   "display_name": "llm",
   "language": "python",
   "name": "python3"
  },
  "language_info": {
   "codemirror_mode": {
    "name": "ipython",
    "version": 3
   },
   "file_extension": ".py",
   "mimetype": "text/x-python",
   "name": "python",
   "nbconvert_exporter": "python",
   "pygments_lexer": "ipython3",
   "version": "3.10.12"
  }
 },
 "nbformat": 4,
 "nbformat_minor": 0
}
