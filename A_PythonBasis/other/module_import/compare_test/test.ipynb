{
 "cells": [
  {
   "cell_type": "code",
   "execution_count": 5,
   "metadata": {
    "collapsed": true,
    "pycharm": {
     "name": "#%%\n"
    }
   },
   "outputs": [
    {
     "name": "stdout",
     "output_type": "stream",
     "text": [
      "hello: python3!!\n"
     ]
    }
   ],
   "source": [
    "# test.ipynb与print_hello.py位于不同目录结构下\n",
    "# ★★★★★建议直接通过%run魔术命令导入库\n",
    "\n",
    "# ..表示父级目录\n",
    "%run ..\\compare\\print_hello.py\n",
    "print_hello('python3')"
   ]
  },
  {
   "cell_type": "code",
   "execution_count": 6,
   "outputs": [
    {
     "ename": "ImportError",
     "evalue": "attempted relative import with no known parent package",
     "output_type": "error",
     "traceback": [
      "\u001B[1;31m---------------------------------------------------------------------------\u001B[0m",
      "\u001B[1;31mImportError\u001B[0m                               Traceback (most recent call last)",
      "File \u001B[1;32m~\\Music\\GitHubProjects\\MLNote\\A_PythonBasis\\other\\module_import\\compare\\print_hello1.py:1\u001B[0m, in \u001B[0;36m<module>\u001B[1;34m\u001B[0m\n\u001B[1;32m----> 1\u001B[0m \u001B[38;5;28;01mfrom\u001B[39;00m \u001B[38;5;21;01m.\u001B[39;00m\u001B[38;5;21;01mconfig\u001B[39;00m \u001B[38;5;28;01mimport\u001B[39;00m \u001B[38;5;241m*\u001B[39m  \u001B[38;5;66;03m# 相对路径导入\u001B[39;00m\n\u001B[0;32m      4\u001B[0m \u001B[38;5;66;03m# 从`C:\\Users\\dcdmm\\Music\\GitHubProjects\\MLNote\\A_PythonBasis\\other\\module_import\\compare`搜索路径导入\u001B[39;00m\n\u001B[0;32m      5\u001B[0m \u001B[38;5;66;03m# from config import *\u001B[39;00m\n\u001B[0;32m      6\u001B[0m \n\u001B[0;32m      7\u001B[0m \u001B[38;5;66;03m# 从`C:\\Users\\dcdmm\\Music\\GitHubProjects\\MLNot`搜索路径导入\u001B[39;00m\n\u001B[0;32m      8\u001B[0m \u001B[38;5;66;03m# from A_PythonBasis.other.module_import.compare.config import *\u001B[39;00m\n\u001B[0;32m     10\u001B[0m \u001B[38;5;28;01mdef\u001B[39;00m \u001B[38;5;21mprint_hello1\u001B[39m(program):\n",
      "\u001B[1;31mImportError\u001B[0m: attempted relative import with no known parent package"
     ]
    },
    {
     "ename": "NameError",
     "evalue": "name 'print_hello1' is not defined",
     "output_type": "error",
     "traceback": [
      "\u001B[1;31m---------------------------------------------------------------------------\u001B[0m",
      "\u001B[1;31mNameError\u001B[0m                                 Traceback (most recent call last)",
      "Input \u001B[1;32mIn [6]\u001B[0m, in \u001B[0;36m<cell line: 4>\u001B[1;34m()\u001B[0m\n\u001B[0;32m      1\u001B[0m \u001B[38;5;66;03m# 要求执行的*.py文件中不能包含相对路径(. or .. or ...)\u001B[39;00m\n\u001B[0;32m      2\u001B[0m get_ipython()\u001B[38;5;241m.\u001B[39mrun_line_magic(\u001B[38;5;124m'\u001B[39m\u001B[38;5;124mrun\u001B[39m\u001B[38;5;124m'\u001B[39m, \u001B[38;5;124m'\u001B[39m\u001B[38;5;124m..\u001B[39m\u001B[38;5;130;01m\\\\\u001B[39;00m\u001B[38;5;124mcompare\u001B[39m\u001B[38;5;130;01m\\\\\u001B[39;00m\u001B[38;5;124mprint_hello1.py\u001B[39m\u001B[38;5;124m'\u001B[39m)\n\u001B[1;32m----> 4\u001B[0m \u001B[43mprint_hello1\u001B[49m(\u001B[38;5;124m\"\u001B[39m\u001B[38;5;124mc++\u001B[39m\u001B[38;5;124m\"\u001B[39m)\n",
      "\u001B[1;31mNameError\u001B[0m: name 'print_hello1' is not defined"
     ]
    }
   ],
   "source": [
    "# 要求执行的*.py文件中不能包含相对路径(. or .. or ...)\n",
    "%run ..\\compare\\print_hello1.py\n",
    "\n",
    "print_hello1(\"c++\")"
   ],
   "metadata": {
    "collapsed": false,
    "pycharm": {
     "name": "#%%\n"
    }
   }
  },
  {
   "cell_type": "code",
   "execution_count": null,
   "outputs": [],
   "source": [],
   "metadata": {
    "collapsed": false,
    "pycharm": {
     "name": "#%%\n"
    }
   }
  }
 ],
 "metadata": {
  "kernelspec": {
   "display_name": "Python 3",
   "language": "python",
   "name": "python3"
  },
  "language_info": {
   "codemirror_mode": {
    "name": "ipython",
    "version": 2
   },
   "file_extension": ".py",
   "mimetype": "text/x-python",
   "name": "python",
   "nbconvert_exporter": "python",
   "pygments_lexer": "ipython2",
   "version": "2.7.6"
  }
 },
 "nbformat": 4,
 "nbformat_minor": 0
}