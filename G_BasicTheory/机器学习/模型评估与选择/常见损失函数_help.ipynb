{
 "cells": [
  {
   "cell_type": "markdown",
   "metadata": {
    "collapsed": true,
    "pycharm": {
     "name": "#%% md\n"
    }
   },
   "source": [
    "&emsp;&emsp;监督学习问题是在假设空间$ F $中选取模型$ f $作为决策函数,对于给定的输入$ X $,由$ f(X)$给出\n",
    "相应的输出$ f(X) $,这个输出的预测值$ f(X)$与真实值$Y$可能一致也可能不一致,用一个损失函数( loss function)或\n",
    "代价函数(cost function)来度量预测错误的程度.损失函数是$ f(X) $和$ Y $的非负实值函数,记作$ L(Y, f(X)) $.   \n",
    "&emsp;&emsp;统计学习常用的损失函数由以下几种:    \n",
    "1. 0-1损失函数(0-1 loss function)   \n",
    "   \n",
    "$$\n",
    "L(Y, f(X))=\\begin{cases}\n",
    "\t\t1, & \\text{if} \\quad  Y \\neq f(X) \\\\\n",
    "        0, & \\text{if} \\quad  Y \\in = f(X) \n",
    "     \\end{cases}\n",
    "$$\n",
    "\n",
    "2. 平方损失函数(quadratic loss function)  \n",
    "$$ L(Y, f(X)) = (Y - f(X))^2 $$  \n",
    "\n",
    "3. 绝对损失函数(absolute loss function)\n",
    "\n",
    "$$ L(Y, f(X)) = | Y - f(X) |   $$\n",
    "\n",
    "4. 对数损失函数(logarithmic loss function)\n",
    "\n",
    "$$ L(Y, P(Y \\mid X))=-\\log P(Y \\mid X) $$\n",
    "\n",
    "&emsp;&emsp;损失函数越小,模型就越好.由于模型的输入,输出$ (X, Y)  $是随机变量,遵循联合分布$P(X, Y)$,所以损失函数的期望是     \n",
    "$$\n",
    "\\begin{aligned}\n",
    "R_{\\mathrm{exp}}(f) &= E_p[L(Y, f(X))] \\\\\n",
    "           &= \\int_{\\mathcal{X} \\times \\mathcal{Y}} L(y, f(\\mathbf{x}))P(\\mathbf{x}, y) d \\mathbf{x}dy     \n",
    "\\end{aligned}\n",
    "$$    \n",
    "这是理论上模型$f(X) $关于联合分布$ P(X, Y ) $的平均意义下的损失,称为风险损失(risk function)或期望损失(expected loss).    \n",
    "&emsp;&emsp;学习的目标就是选择期望风险最小的模型.由于联合分布$ P(X, Y) $是未知的,$R_{\\mathrm{exp}}(f) $不能直接计算.实际上,如果\n",
    "知道联合分布$ P(X, Y) $,可以从联合分布直接求出条件概率$  P(Y|X) $,也就不需要学习了.正因为不知道联合概率分布,所有才需要进行\n",
    "学习.这样一来,一方面根据期望风险最小学习模型要用到联合分布,另一方面联合分布又是未知的,所有监督问题就成为一个病态问题(ill-formed problem).     \n",
    "&emsp;&emsp;给定一个训练数据集    \n",
    "$$ T=\\{  (\\mathbf{x}_1, y_1),(\\mathbf{x}_2, y_2), \\dots, (\\mathbf{x}_N, y_N)  \\}  $$   \n",
    "模型$ f(X)  $关于训练数据集的平均损失称为经验风险(empirical risk)或经验损失(empirical loss),记作$ R_{\\mathrm{emp}} $:   \n",
    "$$ R_{\\mathrm{emp}} (f) = \\frac{1}{N} \\sum_{i=1}^{N} L(y_i, f(\\mathbf{x}_i)) $$   \n",
    "&emsp;&emsp;期望风险$ R_{\\mathrm{exp}}(f) $是模型关于联合分布的期望损失,经验风险$ R_{\\mathrm{emp}} (f) $是模型关于训练样本集的平均损失.根据\n",
    "大数定律,当样本容量$N$趋于无穷时,经验风险$R_{\\mathrm{emp}} (f)  $趋于期望风险$ R_{\\mathrm{exp}}(f) $.所以一个很自然的想法是用经验风险估计\n",
    "期望风险.但是,由于现实中训练样本数目有限,甚至很小,所有用经验风险估计期望风险常常并不理想,要对风险进行一定的矫正.这就关系到监督学习的两个基本策略:经验风险\n",
    "最小化和结构风险最小化.    "
   ]
  }
 ],
 "metadata": {
  "kernelspec": {
   "display_name": "Python 3.9.7 ('base')",
   "language": "python",
   "name": "python3"
  },
  "language_info": {
   "codemirror_mode": {
    "name": "ipython",
    "version": 3
   },
   "file_extension": ".py",
   "mimetype": "text/x-python",
   "name": "python",
   "nbconvert_exporter": "python",
   "pygments_lexer": "ipython3",
   "version": "3.9.7"
  },
  "toc": {
   "base_numbering": 1,
   "nav_menu": {},
   "number_sections": true,
   "sideBar": true,
   "skip_h1_title": false,
   "title_cell": "Table of Contents",
   "title_sidebar": "Contents",
   "toc_cell": false,
   "toc_position": {},
   "toc_section_display": true,
   "toc_window_display": false
  },
  "vscode": {
   "interpreter": {
    "hash": "f0f00f8362c5a3720da2ab726d268bea0510b30405e73c37028dca2c1c343753"
   }
  }
 },
 "nbformat": 4,
 "nbformat_minor": 1
}
