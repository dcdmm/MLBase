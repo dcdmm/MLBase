{
 "cells": [
  {
   "cell_type": "code",
   "execution_count": 7,
   "metadata": {
    "collapsed": true,
    "pycharm": {
     "name": "#%%\n"
    }
   },
   "outputs": [],
   "source": [
    "from sklearn.feature_extraction.text import CountVectorizer"
   ]
  },
  {
   "cell_type": "markdown",
   "metadata": {
    "pycharm": {
     "name": "#%% md\n"
    }
   },
   "source": [
    "### n元语法基本介绍(基于马尔科夫假设)\n",
    "\n",
    "假设语句分词后为:['我', '司', '可', '办理', '正规发票']\n",
    "\n",
    "#### 一元语法(词语之间条件独立)\n",
    "\n",
    "$$\n",
    "\\begin{aligned}\n",
    "& \\quad P(\"我\", \"司\", \"可\", \"办理\", \"正规发票\", \"保真\", \"增值税\", \"发票\", \"点数\", \"优惠\")|S)\\\\\n",
    "&=P(\"我\"|S) \\times P(\"司\"|S) \\times P(\"可\"|S) \\times P(\"办理\"|S) \\times P(\"正规发票\"|S) \\times P(\"保真\"|S) \\times P(\"增值税\"|S) \\times P(\"发票\"|S) \\times P(\"点数\"|S) \\times P(\"优惠\"|S)\n",
    "\\end{aligned}\n",
    "$$\n",
    "\n",
    "#### 二元语法bigram(一个词语依赖上一个词语)\n",
    "$$\n",
    "\\begin{aligned}\n",
    "& \\quad P(\"我\", \"司\", \"可\", \"办理\", \"正规发票\", \"保真\", \"增值税\", \"发票\", \"点数\", \"优惠\")|S)\\\\\n",
    "&=P(\"我\"|S) \\times P(\"司\"|S,\"我\") \\times P(\"可\"|S，\"司\") \\times P(\"办理\"|S，\"可”) \\cdots  \\times P(\"优惠\"|S, \"点数\")\n",
    "\\end{aligned}\n",
    "$$\n",
    "\n",
    "#### 三元语法trigram(一个词语依赖上两个词语)\n",
    "$$\n",
    "\\begin{aligned}\n",
    "& \\quad P(\"我\", \"司\", \"可\", \"办理\", \"正规发票\", \"保真\", \"增值税\", \"发票\", \"点数\", \"优惠\")|S)\\\\\n",
    "&=P(\"我\"|S) \\times P(\"司\"|S,\"我\") \\times P(\"可\"|S，\"我\", \"司\") \\times P(\"办理\"|S，\"司\", \"可”) \\cdots  \\times P(\"优惠\"|S, \"发票\", \"点数\")\n",
    "\\end{aligned}\n",
    "$$\n",
    "\n",
    "若$n$过大,则会造成：\n",
    "1. 参数空间过大\n",
    "2. 数据稀疏严重\n",
    "\n",
    "&emsp;&emsp;有一些词或词组在语料中没有出现过,但这不能代表它不可能存在.\n",
    "平滑操作就是给那些没有出现过的词或词组也给一个比较小的概率,常见的平滑操作有拉普拉斯平滑(详情见:概率图模型/朴素贝叶斯/基本方法_help.ipynb)"
   ]
  },
  {
   "cell_type": "code",
   "execution_count": 8,
   "metadata": {
    "pycharm": {
     "name": "#%%\n"
    }
   },
   "outputs": [],
   "source": [
    "with open('data.txt', 'r', encoding='utf-8') as f:\n",
    "    a = f.readlines()\n",
    "\n",
    "# ngram_range=(1, 1) -->一元语法\n",
    "# ngram_range(1, 2) -->一元语法，二元语法\n",
    "# ngram_range(2, 3) -->二元语法，三元语法\n",
    "vectorizer = CountVectorizer(ngram_range=(1, 3))  # 1元语法,二元语法,三元语法"
   ]
  },
  {
   "cell_type": "code",
   "execution_count": 9,
   "metadata": {
    "pycharm": {
     "name": "#%%\n"
    }
   },
   "outputs": [
    {
     "data": {
      "text/plain": "scipy.sparse.csr.csr_matrix"
     },
     "execution_count": 9,
     "metadata": {},
     "output_type": "execute_result"
    }
   ],
   "source": [
    "X = vectorizer.fit_transform(a)\n",
    "type(X)  # 稀疏矩阵"
   ]
  },
  {
   "cell_type": "code",
   "execution_count": 10,
   "outputs": [
    {
     "data": {
      "text/plain": "(14, 825)"
     },
     "execution_count": 10,
     "metadata": {},
     "output_type": "execute_result"
    }
   ],
   "source": [
    "X.toarray().shape"
   ],
   "metadata": {
    "collapsed": false,
    "pycharm": {
     "name": "#%%\n"
    }
   }
  },
  {
   "cell_type": "code",
   "execution_count": 11,
   "metadata": {
    "pycharm": {
     "name": "#%%\n"
    }
   },
   "outputs": [
    {
     "data": {
      "text/plain": "['advance',\n 'advance of',\n 'advance of the',\n 'after',\n 'after just',\n 'after just rained',\n 'again',\n 'again stood',\n 'again stood on',\n 'age',\n 'age has',\n 'age has reached',\n 'age will',\n 'age will be',\n 'air',\n 'air is',\n 'air is fresh',\n 'already',\n 'already can',\n 'already can remember',\n 'also',\n 'also once',\n 'also once seemed',\n 'alumni',\n 'alumni in',\n 'alumni in peace',\n 'always',\n 'always feel',\n 'always feel oneself',\n 'always special',\n 'always special to',\n 'an',\n 'an arm',\n 'an arm injection',\n 'and',\n 'and more',\n 'and more found',\n 'and new',\n 'and new clothes',\n 'appearance',\n 'appearance of',\n 'appearance of the',\n 'are',\n 'are always',\n 'are always special',\n 'are lot',\n 'are lot of',\n 'are necessary',\n 'are necessary for',\n 'are optional',\n 'arm',\n 'arm injection',\n 'arm injection or',\n 'as',\n 'as if',\n 'as if nothing',\n 'as the',\n 'as the advance',\n 'at',\n 'at his',\n 'at his thrown',\n 'at last',\n 'at last dislike',\n 'at the',\n 'at the beginning',\n 'at the moment',\n 'back',\n 'back in',\n 'back in the',\n 'backed',\n 'backed out',\n 'backed out at',\n 'basketball',\n 'basketball hoops',\n 'basketball hoops suddenly',\n 'be',\n 'be back',\n 'be back in',\n 'be determined',\n 'be determined to',\n 'be guilty',\n 'be guilty in',\n 'be in',\n 'be in the',\n 'be more',\n 'be more and',\n 'became',\n 'became the',\n 'became the appearance',\n 'been',\n 'been doomed',\n 'been very',\n 'been very messy',\n 'beginning',\n 'beginning of',\n 'beginning of deep',\n 'beginning of word',\n 'belief',\n 'belief disillusionment',\n 'belief disillusionment these',\n 'blue',\n 'blue plaid',\n 'blue plaid shirt',\n 'broken',\n 'broken into',\n 'broken into various',\n 'but',\n 'but as',\n 'but as the',\n 'but more',\n 'but more often',\n 'but over',\n 'but over the',\n 'but was',\n 'but was eventually',\n 'can',\n 'can be',\n 'can be in',\n 'can remember',\n 'can remember his',\n 'childhood',\n 'childhood think',\n 'childhood think lucky',\n 'children',\n 'children of',\n 'children of the',\n 'clear',\n 'clear as',\n 'clear as if',\n 'clear want',\n 'clear want want',\n 'clothes',\n 'clothes are',\n 'clothes are necessary',\n 'constantly',\n 'corner',\n 'corner at',\n 'corner at the',\n 'could',\n 'could shake',\n 'could shake his',\n 'cowardice',\n 'cowardice finally',\n 'cowardice finally found',\n 'crush',\n 'crush on',\n 'crush on just',\n 'dark',\n 'dark the',\n 'dark the air',\n 'day',\n 'days',\n 'days my',\n 'days my mind',\n 'days of',\n 'days of do',\n 'declared',\n 'declared the',\n 'declared the end',\n 'deep',\n 'deep friendship',\n 'deeply',\n 'deeply shallow',\n 'deeply shallow suddenly',\n 'determined',\n 'determined to',\n 'determined to do',\n 'different',\n 'different life',\n 'different life became',\n 'disillusionment',\n 'disillusionment these',\n 'disillusionment these days',\n 'dislike',\n 'dislike his',\n 'dislike his cowardice',\n 'do',\n 'do finally',\n 'do finally like',\n 'do it',\n 'do just',\n 'do just green',\n 'do something',\n 'do something but',\n 'do something or',\n 'don',\n 'don want',\n 'don want to',\n 'doomed',\n 'during',\n 'during my',\n 'during my childhood',\n 'encounter',\n 'encounter that',\n 'encounter that haven',\n 'end',\n 'end in',\n 'end in our',\n 'end of',\n 'end of the',\n 'eventually',\n 'eventually infarction',\n 'eventually infarction when',\n 'factor',\n 'factor after',\n 'factor after just',\n 'feel',\n 'feel oneself',\n 'feel oneself should',\n 'feel something',\n 'feel something do',\n 'feelings',\n 'feelings in',\n 'feelings in period',\n 'finally',\n 'finally found',\n 'finally found that',\n 'finally like',\n 'finally like youth',\n 'for',\n 'for new',\n 'for new year',\n 'found',\n 'found himself',\n 'found himself has',\n 'found that',\n 'found that isn',\n 'found that there',\n 'found that those',\n 'fresh',\n 'fresh factor',\n 'fresh factor after',\n 'friendship',\n 'from',\n 'from the',\n 'from the corner',\n 'give',\n 'give oneself',\n 'give oneself an',\n 'give vent',\n 'give vent to',\n 'go',\n 'go to',\n 'go to do',\n 'graduation',\n 'graduation party',\n 'graduation party in',\n 'green',\n 'green years',\n 'green years oneself',\n 'grow',\n 'grow up',\n 'grow up it',\n 'growth',\n 'growth but',\n 'growth but over',\n 'guilty',\n 'guilty in',\n 'guilty in his',\n 'has',\n 'has already',\n 'has already can',\n 'has been',\n 'has been very',\n 'has reached',\n 'has reached the',\n 'has sweat',\n 'has sweat profusely',\n 'have',\n 'have been',\n 'have been doomed',\n 'have crush',\n 'have crush on',\n 'have declared',\n 'have declared the',\n 'haven',\n 'haven start',\n 'haven start planning',\n 'he',\n 'he backed',\n 'he backed out',\n 'he has',\n 'he has sweat',\n 'high',\n 'high school',\n 'high school children',\n 'high school think',\n 'high school thought',\n 'himself',\n 'himself has',\n 'himself has already',\n 'his',\n 'his appearance',\n 'his cowardice',\n 'his cowardice finally',\n 'his seems',\n 'his seems to',\n 'his thrown',\n 'his thrown basketball',\n 'his writing',\n 'his writing of',\n 'hoops',\n 'hoops suddenly',\n 'hoops suddenly found',\n 'ideas',\n 'ideas are',\n 'ideas are always',\n 'if',\n 'if nothing',\n 'if nothing could',\n 'important',\n 'in',\n 'in high',\n 'in high school',\n 'in his',\n 'in his seems',\n 'in my',\n 'in my mind',\n 'in our',\n 'in our life',\n 'in peace',\n 'in peace suddenly',\n 'in period',\n 'in period but',\n 'in the',\n 'in the high',\n 'in the past',\n 'in the throat',\n 'infarction',\n 'infarction when',\n 'infarction when graduation',\n 'injection',\n 'injection or',\n 'injection or is',\n 'inner',\n 'inner voice',\n 'inner voice can',\n 'into',\n 'into various',\n 'into various shapes',\n 'is',\n 'is clear',\n 'is clear as',\n 'is dark',\n 'is dark the',\n 'is fresh',\n 'is fresh factor',\n 'is he',\n 'is he backed',\n 'is not',\n 'is not so',\n 'is self',\n 'is self righteous',\n 'isn',\n 'isn really',\n 'isn really grow',\n 'it',\n 'it seems',\n 'it seems is',\n 'junior',\n 'junior high',\n 'junior high school',\n 'just',\n 'just green',\n 'just green years',\n 'just means',\n 'just means that',\n 'just rained',\n 'just rained suddenly',\n 'last',\n 'last dislike',\n 'last dislike his',\n 'later',\n 'later again',\n 'later again stood',\n 'later his',\n 'later his writing',\n 'life',\n 'life became',\n 'life became the',\n 'life trajectory',\n 'life trajectory deeply',\n 'like',\n 'like shadow',\n 'like shadow really',\n 'like youth',\n 'like youth will',\n 'line',\n 'line is',\n 'line is clear',\n 'looked',\n 'looked at',\n 'looked at his',\n 'lot',\n 'lot of',\n 'lot of different',\n 'lot of love',\n 'lot of miss',\n 'love',\n 'love there',\n 'love there are',\n 'lucky',\n 'lucky money',\n 'lucky money and',\n 'may',\n 'may be',\n 'may be back',\n 'may be guilty',\n 'means',\n 'means that',\n 'means that the',\n 'messy',\n 'messy in',\n 'messy in my',\n 'mind',\n 'mind constantly',\n 'mind has',\n 'mind has been',\n 'miss',\n 'miss like',\n 'miss like shadow',\n 'moment',\n 'moment the',\n 'moment the sky',\n 'money',\n 'money and',\n 'money and new',\n 'more',\n 'more and',\n 'more and more',\n 'more found',\n 'more found that',\n 'more often',\n 'more often is',\n 'my',\n 'my childhood',\n 'my childhood think',\n 'my mind',\n 'my mind constantly',\n 'my mind has',\n 'necessary',\n 'necessary for',\n 'necessary for new',\n 'new',\n 'new clothes',\n 'new clothes are',\n 'new year',\n 'new year but',\n 'not',\n 'not so',\n 'not so important',\n 'nothing',\n 'nothing could',\n 'nothing could shake',\n 'of',\n 'of alumni',\n 'of alumni in',\n 'of blue',\n 'of blue plaid',\n 'of deep',\n 'of deep friendship',\n 'of different',\n 'of different life',\n 'of do',\n 'of do finally',\n 'of life',\n 'of life trajectory',\n 'of love',\n 'of love there',\n 'of miss',\n 'of miss like',\n 'of stationery',\n 'of the',\n 'of the age',\n 'of the beginning',\n 'of the encounter',\n 'of the feelings',\n 'of the same',\n 'of word',\n 'often',\n 'often is',\n 'often is he',\n 'on',\n 'on just',\n 'on just means',\n 'on the',\n 'on the pitch',\n 'once',\n 'once seemed',\n 'once seemed to',\n 'oneself',\n 'oneself an',\n 'oneself an arm',\n 'oneself give',\n 'oneself give oneself',\n 'oneself should',\n 'oneself should go',\n 'oneself the',\n 'oneself the paranoid',\n 'optional',\n 'or',\n 'or is',\n 'or is self',\n 'or write',\n 'or write something',\n 'our',\n 'our life',\n 'out',\n 'out at',\n 'out at last',\n 'out your',\n 'out your inner',\n 'over',\n 'over the',\n 'over the past',\n 'paranoid',\n 'paranoid weird',\n 'paranoid weird belief',\n 'party',\n 'party in',\n 'party in the',\n 'passing',\n 'passing lot',\n 'passing lot of',\n 'past',\n 'past three',\n 'past three years',\n 'past to',\n 'past to oneself',\n 'peace',\n 'peace suddenly',\n 'peace suddenly found',\n 'period',\n 'period but',\n 'period but was',\n 'person',\n 'person time',\n 'person time your',\n 'pitch',\n 'pitch he',\n 'pitch he has',\n 'plaid',\n 'plaid shirt',\n 'planning',\n 'planning those',\n 'planning those years',\n 'profusely',\n 'profusely looked',\n 'profusely looked at',\n 'rained',\n 'rained suddenly',\n 'rained suddenly thought',\n 'reached',\n 'reached the',\n 'reached the end',\n 'real',\n 'real growth',\n 'real growth but',\n 'really',\n 'really grow',\n 'really grow up',\n 'really have',\n 'really have been',\n 'remember',\n 'remember his',\n 'remember his appearance',\n 'righteous',\n 'righteous spiritual',\n 'same',\n 'same day',\n 'school',\n 'school children',\n 'school children of',\n 'school think',\n 'school think don',\n 'school thought',\n 'school thought to',\n 'seemed',\n 'seemed to',\n 'seemed to be',\n 'seems',\n 'seems is',\n 'seems is not',\n 'seems to',\n 'seems to passing',\n 'self',\n 'self righteous',\n 'self righteous spiritual',\n 'shadow',\n 'shadow really',\n 'shadow really have',\n 'shake',\n 'shake his',\n 'shallow',\n 'shallow suddenly',\n 'shallow suddenly feel',\n 'shapes',\n 'shapes of',\n 'shapes of stationery',\n 'shirt',\n 'should',\n 'should go',\n 'should go to',\n 'sky',\n 'sky is',\n 'sky is dark',\n 'so',\n 'so important',\n 'something',\n 'something but',\n 'something but more',\n 'something do',\n 'something do it',\n 'something or',\n 'something or write',\n 'something twenty',\n 'something twenty years',\n 'special',\n 'special to',\n 'special to clear',\n 'spiritual',\n 'start',\n 'start planning',\n 'start planning those',\n 'stationery',\n 'stood',\n 'stood on',\n 'stood on the',\n 'suddenly',\n 'suddenly feel',\n 'suddenly feel something',\n 'suddenly found',\n 'suddenly found himself',\n 'suddenly found that',\n 'suddenly thought',\n 'suddenly thought of',\n 'sweat',\n 'sweat profusely',\n 'sweat profusely looked',\n 'that',\n 'that haven',\n 'that haven start',\n 'that isn',\n 'that isn really',\n 'that the',\n 'that the real',\n 'that there',\n 'that there are',\n 'that those',\n 'that those things',\n 'the',\n 'the advance',\n 'the advance of',\n 'the age',\n 'the age will',\n 'the air',\n 'the air is',\n 'the appearance',\n 'the appearance of',\n 'the beginning',\n 'the beginning of',\n 'the corner',\n 'the corner at',\n 'the encounter',\n 'the encounter that',\n 'the end',\n 'the end of',\n 'the feelings',\n 'the feelings in',\n 'the high',\n 'the high school',\n 'the moment',\n 'the moment the',\n 'the paranoid',\n 'the paranoid weird',\n 'the past',\n 'the past three',\n 'the past to',\n 'the pitch',\n 'the pitch he',\n 'the real',\n 'the real growth',\n 'the same',\n 'the same day',\n 'the sky',\n 'the sky is',\n 'the throat',\n 'the throat later',\n 'then',\n 'then in',\n 'then in high',\n 'there',\n 'there are',\n 'there are lot',\n 'these',\n 'these days',\n 'these days my',\n 'things',\n 'things are',\n 'things are optional',\n 'think',\n 'think don',\n 'think don want',\n 'think lucky',\n 'think lucky money',\n 'those',\n 'those days',\n 'those days of',\n 'those things',\n 'those things are',\n 'those were',\n 'those were broken',\n 'those who',\n 'those who do',\n 'those years',\n 'those years those',\n 'thought',\n 'thought of',\n 'thought of blue',\n 'thought to',\n 'thought to have',\n 'three',\n 'three years',\n 'three years later',\n 'throat',\n 'throat later',\n 'throat later again',\n 'thrown',\n 'thrown basketball',\n 'thrown basketball hoops',\n 'time',\n 'time your',\n 'time your ideas',\n 'to',\n 'to be',\n 'to be determined',\n 'to clear',\n 'to clear want',\n 'to do',\n 'to do something',\n 'to give',\n 'to give vent',\n 'to have',\n 'to have crush',\n 'to oneself',\n 'to oneself the',\n 'to out',\n 'to out your',\n 'to passing',\n 'to passing lot',\n 'trajectory',\n 'trajectory deeply',\n 'trajectory deeply shallow',\n 'twenty',\n 'twenty years',\n 'twenty years of',\n 'up',\n 'up it',\n 'up it seems',\n 'various',\n 'various shapes',\n 'various shapes of',\n 'vent',\n 'vent to',\n 'vent to out',\n 'very',\n 'very messy',\n 'very messy in',\n 'voice',\n 'voice can',\n 'voice can be',\n 'want',\n 'want line',\n 'want line is',\n 'want to',\n 'want to give',\n 'want want',\n 'want want line',\n 'was',\n 'was eventually',\n 'was eventually infarction',\n 'weird',\n 'weird belief',\n 'weird belief disillusionment',\n 'were',\n 'were broken',\n 'were broken into',\n 'when',\n 'when graduation',\n 'when graduation party',\n 'who',\n 'who do',\n 'who do just',\n 'will',\n 'will be',\n 'will be more',\n 'will end',\n 'will end in',\n 'word',\n 'write',\n 'write something',\n 'write something twenty',\n 'writing',\n 'writing of',\n 'writing of alumni',\n 'year',\n 'year but',\n 'year but as',\n 'years',\n 'years later',\n 'years later his',\n 'years of',\n 'years of life',\n 'years oneself',\n 'years oneself give',\n 'years those',\n 'years those days',\n 'your',\n 'your ideas',\n 'your ideas are',\n 'your inner',\n 'your inner voice',\n 'youth',\n 'youth will',\n 'youth will end']"
     },
     "execution_count": 11,
     "metadata": {},
     "output_type": "execute_result"
    }
   ],
   "source": [
    "vectorizer.get_feature_names()"
   ]
  },
  {
   "cell_type": "code",
   "execution_count": 12,
   "metadata": {
    "pycharm": {
     "name": "#%%\n"
    }
   },
   "outputs": [
    {
     "data": {
      "text/plain": "{'age': 9,\n 'has': 259,\n 'reached': 552,\n 'the': 650,\n 'end': 195,\n 'of': 454,\n 'beginning': 93,\n 'word': 798,\n 'age has': 10,\n 'has reached': 264,\n 'reached the': 553,\n 'the end': 665,\n 'end of': 198,\n 'of the': 472,\n 'the beginning': 659,\n 'beginning of': 94,\n 'of word': 478,\n 'age has reached': 11,\n 'has reached the': 265,\n 'reached the end': 554,\n 'the end of': 666,\n 'end of the': 199,\n 'of the beginning': 474,\n 'the beginning of': 660,\n 'beginning of word': 96,\n 'may': 404,\n 'be': 75,\n 'guilty': 256,\n 'in': 311,\n 'his': 291,\n 'seems': 580,\n 'to': 733,\n 'passing': 521,\n 'lot': 393,\n 'different': 167,\n 'life': 377,\n 'became': 86,\n 'appearance': 39,\n 'same': 568,\n 'day': 150,\n 'may be': 405,\n 'be guilty': 80,\n 'guilty in': 257,\n 'in his': 314,\n 'his seems': 295,\n 'seems to': 583,\n 'to passing': 748,\n 'passing lot': 522,\n 'lot of': 394,\n 'of different': 461,\n 'different life': 168,\n 'life became': 378,\n 'became the': 87,\n 'the appearance': 657,\n 'appearance of': 40,\n 'the same': 682,\n 'same day': 569,\n 'may be guilty': 407,\n 'be guilty in': 81,\n 'guilty in his': 258,\n 'in his seems': 315,\n 'his seems to': 296,\n 'seems to passing': 584,\n 'to passing lot': 749,\n 'passing lot of': 523,\n 'lot of different': 395,\n 'of different life': 462,\n 'different life became': 169,\n 'life became the': 379,\n 'became the appearance': 88,\n 'the appearance of': 658,\n 'appearance of the': 41,\n 'of the same': 477,\n 'the same day': 683,\n 'back': 66,\n 'past': 524,\n 'oneself': 490,\n 'paranoid': 515,\n 'weird': 781,\n 'belief': 97,\n 'disillusionment': 170,\n 'these': 694,\n 'days': 151,\n 'my': 434,\n 'mind': 414,\n 'been': 89,\n 'very': 765,\n 'messy': 411,\n 'constantly': 134,\n 'be back': 76,\n 'back in': 67,\n 'in the': 324,\n 'the past': 675,\n 'past to': 527,\n 'to oneself': 744,\n 'oneself the': 497,\n 'the paranoid': 673,\n 'paranoid weird': 516,\n 'weird belief': 782,\n 'belief disillusionment': 98,\n 'disillusionment these': 171,\n 'these days': 695,\n 'days my': 152,\n 'my mind': 437,\n 'mind has': 416,\n 'has been': 262,\n 'been very': 91,\n 'very messy': 766,\n 'messy in': 412,\n 'in my': 316,\n 'mind constantly': 415,\n 'may be back': 406,\n 'be back in': 77,\n 'back in the': 68,\n 'in the past': 326,\n 'the past to': 677,\n 'past to oneself': 528,\n 'to oneself the': 745,\n 'oneself the paranoid': 498,\n 'the paranoid weird': 674,\n 'paranoid weird belief': 517,\n 'weird belief disillusionment': 783,\n 'belief disillusionment these': 99,\n 'disillusionment these days': 172,\n 'these days my': 696,\n 'days my mind': 153,\n 'my mind has': 439,\n 'mind has been': 417,\n 'has been very': 263,\n 'been very messy': 92,\n 'very messy in': 767,\n 'messy in my': 413,\n 'in my mind': 317,\n 'my mind constantly': 438,\n 'always': 26,\n 'feel': 206,\n 'should': 600,\n 'go': 241,\n 'do': 176,\n 'something': 608,\n 'or': 500,\n 'write': 799,\n 'twenty': 753,\n 'years': 808,\n 'trajectory': 750,\n 'deeply': 161,\n 'shallow': 593,\n 'suddenly': 628,\n 'it': 356,\n 'always feel': 27,\n 'feel oneself': 207,\n 'oneself should': 495,\n 'should go': 601,\n 'go to': 242,\n 'to do': 738,\n 'do something': 182,\n 'something or': 613,\n 'or write': 503,\n 'write something': 800,\n 'something twenty': 615,\n 'twenty years': 754,\n 'years of': 811,\n 'of life': 465,\n 'life trajectory': 380,\n 'trajectory deeply': 751,\n 'deeply shallow': 162,\n 'shallow suddenly': 594,\n 'suddenly feel': 629,\n 'feel something': 209,\n 'something do': 611,\n 'do it': 179,\n 'always feel oneself': 28,\n 'feel oneself should': 208,\n 'oneself should go': 496,\n 'should go to': 602,\n 'go to do': 243,\n 'to do something': 739,\n 'do something or': 184,\n 'something or write': 614,\n 'or write something': 504,\n 'write something twenty': 801,\n 'something twenty years': 616,\n 'twenty years of': 755,\n 'years of life': 812,\n 'of life trajectory': 466,\n 'life trajectory deeply': 381,\n 'trajectory deeply shallow': 752,\n 'deeply shallow suddenly': 163,\n 'shallow suddenly feel': 595,\n 'suddenly feel something': 630,\n 'feel something do': 210,\n 'something do it': 612,\n 'during': 189,\n 'childhood': 120,\n 'think': 700,\n 'lucky': 401,\n 'money': 424,\n 'and': 34,\n 'new': 443,\n 'clothes': 131,\n 'are': 42,\n 'necessary': 440,\n 'for': 219,\n 'year': 805,\n 'but': 106,\n 'as': 53,\n 'advance': 0,\n 'will': 793,\n 'more': 427,\n 'found': 222,\n 'that': 639,\n 'those': 705,\n 'things': 697,\n 'optional': 499,\n 'during my': 190,\n 'my childhood': 435,\n 'childhood think': 121,\n 'think lucky': 703,\n 'lucky money': 402,\n 'money and': 425,\n 'and new': 37,\n 'new clothes': 444,\n 'clothes are': 132,\n 'are necessary': 47,\n 'necessary for': 441,\n 'for new': 220,\n 'new year': 446,\n 'year but': 806,\n 'but as': 107,\n 'as the': 56,\n 'the advance': 651,\n 'advance of': 1,\n 'the age': 653,\n 'age will': 12,\n 'will be': 794,\n 'be more': 84,\n 'more and': 428,\n 'and more': 35,\n 'more found': 430,\n 'found that': 225,\n 'that those': 648,\n 'those things': 708,\n 'things are': 698,\n 'are optional': 49,\n 'during my childhood': 191,\n 'my childhood think': 436,\n 'childhood think lucky': 122,\n 'think lucky money': 704,\n 'lucky money and': 403,\n 'money and new': 426,\n 'and new clothes': 38,\n 'new clothes are': 445,\n 'clothes are necessary': 133,\n 'are necessary for': 48,\n 'necessary for new': 442,\n 'for new year': 221,\n 'new year but': 447,\n 'year but as': 807,\n 'but as the': 108,\n 'as the advance': 57,\n 'the advance of': 652,\n 'advance of the': 2,\n 'of the age': 473,\n 'the age will': 654,\n 'age will be': 13,\n 'will be more': 795,\n 'be more and': 85,\n 'more and more': 429,\n 'and more found': 36,\n 'more found that': 431,\n 'found that those': 228,\n 'that those things': 649,\n 'those things are': 709,\n 'things are optional': 699,\n 'junior': 359,\n 'high': 283,\n 'school': 570,\n 'thought': 716,\n 'have': 268,\n 'crush': 144,\n 'on': 482,\n 'just': 362,\n 'means': 408,\n 'real': 555,\n 'growth': 253,\n 'over': 512,\n 'three': 721,\n 'later': 372,\n 'writing': 802,\n 'alumni': 23,\n 'peace': 529,\n 'isn': 353,\n 'really': 558,\n 'grow': 250,\n 'up': 756,\n 'is': 340,\n 'not': 448,\n 'so': 606,\n 'important': 310,\n 'junior high': 360,\n 'high school': 284,\n 'school thought': 575,\n 'thought to': 719,\n 'to have': 742,\n 'have crush': 271,\n 'crush on': 145,\n 'on just': 483,\n 'just means': 365,\n 'means that': 409,\n 'that the': 644,\n 'the real': 680,\n 'real growth': 556,\n 'growth but': 254,\n 'but over': 111,\n 'over the': 513,\n 'past three': 525,\n 'three years': 722,\n 'years later': 809,\n 'later his': 375,\n 'his writing': 299,\n 'writing of': 803,\n 'of alumni': 455,\n 'alumni in': 24,\n 'in peace': 320,\n 'peace suddenly': 530,\n 'suddenly found': 631,\n 'that isn': 642,\n 'isn really': 354,\n 'really grow': 559,\n 'grow up': 251,\n 'up it': 757,\n 'it seems': 357,\n 'seems is': 581,\n 'is not': 349,\n 'not so': 449,\n 'so important': 607,\n 'junior high school': 361,\n 'high school thought': 287,\n 'school thought to': 576,\n 'thought to have': 720,\n 'to have crush': 743,\n 'have crush on': 272,\n 'crush on just': 146,\n 'on just means': 484,\n 'just means that': 366,\n 'means that the': 410,\n 'that the real': 645,\n 'the real growth': 681,\n 'real growth but': 557,\n 'growth but over': 255,\n 'but over the': 112,\n 'over the past': 514,\n 'the past three': 676,\n 'past three years': 526,\n 'three years later': 723,\n 'years later his': 810,\n 'later his writing': 376,\n 'his writing of': 300,\n 'writing of alumni': 804,\n 'of alumni in': 456,\n 'alumni in peace': 25,\n 'in peace suddenly': 321,\n 'peace suddenly found': 531,\n 'suddenly found that': 633,\n 'found that isn': 226,\n 'that isn really': 643,\n 'isn really grow': 355,\n 'really grow up': 560,\n 'grow up it': 252,\n 'up it seems': 758,\n 'it seems is': 358,\n 'seems is not': 582,\n 'is not so': 350,\n 'not so important': 450,\n 'then': 688,\n 'don': 185,\n 'want': 771,\n 'give': 236,\n 'vent': 762,\n 'out': 507,\n 'your': 817,\n 'inner': 334,\n 'voice': 768,\n 'can': 115,\n 'children': 123,\n 'feelings': 211,\n 'period': 532,\n 'was': 778,\n 'eventually': 200,\n 'infarction': 328,\n 'when': 787,\n 'graduation': 244,\n 'party': 518,\n 'throat': 724,\n 'again': 6,\n 'stood': 625,\n 'pitch': 538,\n 'he': 278,\n 'sweat': 636,\n 'profusely': 546,\n 'looked': 390,\n 'at': 58,\n 'thrown': 727,\n 'basketball': 72,\n 'hoops': 301,\n 'himself': 288,\n 'already': 17,\n 'remember': 563,\n 'then in': 689,\n 'in high': 312,\n 'school think': 573,\n 'think don': 701,\n 'don want': 186,\n 'want to': 774,\n 'to give': 740,\n 'give vent': 239,\n 'vent to': 763,\n 'to out': 746,\n 'out your': 510,\n 'your inner': 820,\n 'inner voice': 335,\n 'voice can': 769,\n 'can be': 116,\n 'be in': 82,\n 'the high': 669,\n 'school children': 571,\n 'children of': 124,\n 'the feelings': 667,\n 'feelings in': 212,\n 'in period': 322,\n 'period but': 533,\n 'but was': 113,\n 'was eventually': 779,\n 'eventually infarction': 201,\n 'infarction when': 329,\n 'when graduation': 788,\n 'graduation party': 245,\n 'party in': 519,\n 'the throat': 686,\n 'throat later': 725,\n 'later again': 373,\n 'again stood': 7,\n 'stood on': 626,\n 'on the': 485,\n 'the pitch': 678,\n 'pitch he': 539,\n 'he has': 281,\n 'has sweat': 266,\n 'sweat profusely': 637,\n 'profusely looked': 547,\n 'looked at': 391,\n 'at his': 59,\n 'his thrown': 297,\n 'thrown basketball': 728,\n 'basketball hoops': 73,\n 'hoops suddenly': 302,\n 'found himself': 223,\n 'himself has': 289,\n 'has already': 260,\n 'already can': 18,\n 'can remember': 118,\n 'remember his': 564,\n 'his appearance': 292,\n 'then in high': 690,\n 'in high school': 313,\n 'high school think': 286,\n 'school think don': 574,\n 'think don want': 702,\n 'don want to': 187,\n 'want to give': 775,\n 'to give vent': 741,\n 'give vent to': 240,\n 'vent to out': 764,\n 'to out your': 747,\n 'out your inner': 511,\n 'your inner voice': 821,\n 'inner voice can': 336,\n 'voice can be': 770,\n 'can be in': 117,\n 'be in the': 83,\n 'in the high': 325,\n 'the high school': 670,\n 'high school children': 285,\n 'school children of': 572,\n 'children of the': 125,\n 'of the feelings': 476,\n 'the feelings in': 668,\n 'feelings in period': 213,\n 'in period but': 323,\n 'period but was': 534,\n 'but was eventually': 114,\n 'was eventually infarction': 780,\n 'eventually infarction when': 202,\n 'infarction when graduation': 330,\n 'when graduation party': 789,\n 'graduation party in': 246,\n 'party in the': 520,\n 'in the throat': 327,\n 'the throat later': 687,\n 'throat later again': 726,\n 'later again stood': 374,\n 'again stood on': 8,\n 'stood on the': 627,\n 'on the pitch': 486,\n 'the pitch he': 679,\n 'pitch he has': 540,\n 'he has sweat': 282,\n 'has sweat profusely': 267,\n 'sweat profusely looked': 638,\n 'profusely looked at': 548,\n 'looked at his': 392,\n 'at his thrown': 60,\n 'his thrown basketball': 298,\n 'thrown basketball hoops': 729,\n 'basketball hoops suddenly': 74,\n 'hoops suddenly found': 303,\n 'suddenly found himself': 632,\n 'found himself has': 224,\n 'himself has already': 290,\n 'has already can': 261,\n 'already can remember': 19,\n 'can remember his': 119,\n 'remember his appearance': 565,\n 'person': 535,\n 'time': 730,\n 'ideas': 304,\n 'special': 617,\n 'clear': 126,\n 'line': 387,\n 'if': 307,\n 'nothing': 451,\n 'could': 138,\n 'shake': 591,\n 'person time': 536,\n 'time your': 731,\n 'your ideas': 818,\n 'ideas are': 305,\n 'are always': 43,\n 'always special': 29,\n 'special to': 618,\n 'to clear': 736,\n 'clear want': 129,\n 'want want': 776,\n 'want line': 772,\n 'line is': 388,\n 'is clear': 341,\n 'clear as': 127,\n 'as if': 54,\n 'if nothing': 308,\n 'nothing could': 452,\n 'could shake': 139,\n 'shake his': 592,\n 'person time your': 537,\n 'time your ideas': 732,\n 'your ideas are': 819,\n 'ideas are always': 306,\n 'are always special': 44,\n 'always special to': 30,\n 'special to clear': 619,\n 'to clear want': 737,\n 'clear want want': 130,\n 'want want line': 777,\n 'want line is': 773,\n 'line is clear': 389,\n 'is clear as': 342,\n 'clear as if': 128,\n 'as if nothing': 55,\n 'if nothing could': 309,\n 'nothing could shake': 453,\n 'could shake his': 140,\n 'also': 20,\n 'once': 487,\n 'seemed': 577,\n 'determined': 164,\n 'often': 479,\n 'backed': 69,\n 'last': 369,\n 'dislike': 173,\n 'cowardice': 141,\n 'finally': 214,\n 'there': 691,\n 'love': 398,\n 'miss': 418,\n 'like': 382,\n 'shadow': 588,\n 'doomed': 188,\n 'also once': 21,\n 'once seemed': 488,\n 'seemed to': 578,\n 'to be': 734,\n 'be determined': 78,\n 'determined to': 165,\n 'something but': 609,\n 'but more': 109,\n 'more often': 432,\n 'often is': 480,\n 'is he': 347,\n 'he backed': 279,\n 'backed out': 70,\n 'out at': 508,\n 'at last': 61,\n 'last dislike': 370,\n 'dislike his': 174,\n 'his cowardice': 293,\n 'cowardice finally': 142,\n 'finally found': 215,\n 'that there': 646,\n 'there are': 692,\n 'are lot': 45,\n 'of love': 467,\n 'love there': 399,\n 'of miss': 469,\n 'miss like': 419,\n 'like shadow': 383,\n 'shadow really': 589,\n 'really have': 561,\n 'have been': 269,\n 'been doomed': 90,\n 'also once seemed': 22,\n 'once seemed to': 489,\n 'seemed to be': 579,\n 'to be determined': 735,\n 'be determined to': 79,\n 'determined to do': 166,\n 'do something but': 183,\n 'something but more': 610,\n 'but more often': 110,\n 'more often is': 433,\n 'often is he': 481,\n 'is he backed': 348,\n 'he backed out': 280,\n 'backed out at': 71,\n 'out at last': 509,\n 'at last dislike': 62,\n 'last dislike his': 371,\n 'dislike his cowardice': 175,\n 'his cowardice finally': 294,\n 'cowardice finally found': 143,\n 'finally found that': 216,\n 'found that there': 227,\n 'that there are': 647,\n 'there are lot': 693,\n 'are lot of': 46,\n 'lot of love': 396,\n 'of love there': 468,\n 'love there are': 400,\n 'lot of miss': 397,\n 'of miss like': 470,\n 'miss like shadow': 420,\n 'like shadow really': 384,\n 'shadow really have': 590,\n 'really have been': 562,\n 'have been doomed': 270,\n 'who': 790,\n 'green': 247,\n 'an': 31,\n 'arm': 50,\n 'injection': 331,\n 'self': 585,\n 'righteous': 566,\n 'spiritual': 620,\n 'those who': 712,\n 'who do': 791,\n 'do just': 180,\n 'just green': 363,\n 'green years': 248,\n 'years oneself': 813,\n 'oneself give': 493,\n 'give oneself': 237,\n 'oneself an': 491,\n 'an arm': 32,\n 'arm injection': 51,\n 'injection or': 332,\n 'or is': 501,\n 'is self': 351,\n 'self righteous': 586,\n 'righteous spiritual': 567,\n 'those who do': 713,\n 'who do just': 792,\n 'do just green': 181,\n 'just green years': 364,\n 'green years oneself': 249,\n 'years oneself give': 814,\n 'oneself give oneself': 494,\n 'give oneself an': 238,\n 'oneself an arm': 492,\n 'an arm injection': 33,\n 'arm injection or': 52,\n 'injection or is': 333,\n 'or is self': 502,\n 'is self righteous': 352,\n 'self righteous spiritual': 587,\n 'moment': 421,\n 'sky': 603,\n 'dark': 147,\n 'air': 14,\n 'fresh': 229,\n 'factor': 203,\n 'after': 3,\n 'rained': 549,\n 'blue': 100,\n 'plaid': 541,\n 'shirt': 599,\n 'at the': 63,\n 'the moment': 671,\n 'moment the': 422,\n 'the sky': 684,\n 'sky is': 604,\n 'is dark': 343,\n 'dark the': 148,\n 'the air': 655,\n 'air is': 15,\n 'is fresh': 345,\n 'fresh factor': 230,\n 'factor after': 204,\n 'after just': 4,\n 'just rained': 367,\n 'rained suddenly': 550,\n 'suddenly thought': 634,\n 'thought of': 717,\n 'of blue': 457,\n 'blue plaid': 101,\n 'plaid shirt': 542,\n 'at the moment': 65,\n 'the moment the': 672,\n 'moment the sky': 423,\n 'the sky is': 685,\n 'sky is dark': 605,\n 'is dark the': 344,\n 'dark the air': 149,\n 'the air is': 656,\n 'air is fresh': 16,\n 'is fresh factor': 346,\n 'fresh factor after': 231,\n 'factor after just': 205,\n 'after just rained': 5,\n 'just rained suddenly': 368,\n 'rained suddenly thought': 551,\n 'suddenly thought of': 635,\n 'thought of blue': 718,\n 'of blue plaid': 458,\n 'blue plaid shirt': 102,\n 'were': 784,\n 'broken': 103,\n 'into': 337,\n 'various': 759,\n 'shapes': 596,\n 'stationery': 624,\n 'those were': 710,\n 'were broken': 785,\n 'broken into': 104,\n 'into various': 338,\n 'various shapes': 760,\n 'shapes of': 597,\n 'of stationery': 471,\n 'those were broken': 711,\n 'were broken into': 786,\n 'broken into various': 105,\n 'into various shapes': 339,\n 'various shapes of': 761,\n 'shapes of stationery': 598,\n 'from': 233,\n 'corner': 135,\n 'deep': 159,\n 'friendship': 232,\n 'from the': 234,\n 'the corner': 661,\n 'corner at': 136,\n 'of deep': 459,\n 'deep friendship': 160,\n 'from the corner': 235,\n 'the corner at': 662,\n 'corner at the': 137,\n 'at the beginning': 64,\n 'beginning of deep': 95,\n 'of deep friendship': 460,\n 'declared': 156,\n 'encounter': 192,\n 'haven': 275,\n 'start': 621,\n 'planning': 543,\n 'youth': 822,\n 'our': 505,\n 'have declared': 273,\n 'declared the': 157,\n 'the encounter': 663,\n 'encounter that': 193,\n 'that haven': 640,\n 'haven start': 276,\n 'start planning': 622,\n 'planning those': 544,\n 'those years': 714,\n 'years those': 815,\n 'those days': 706,\n 'days of': 154,\n 'of do': 463,\n 'do finally': 177,\n 'finally like': 217,\n 'like youth': 385,\n 'youth will': 823,\n 'will end': 796,\n 'end in': 196,\n 'in our': 318,\n 'our life': 506,\n 'have declared the': 274,\n 'declared the end': 158,\n 'of the encounter': 475,\n 'the encounter that': 664,\n 'encounter that haven': 194,\n 'that haven start': 641,\n 'haven start planning': 277,\n 'start planning those': 623,\n 'planning those years': 545,\n 'those years those': 715,\n 'years those days': 816,\n 'those days of': 707,\n 'days of do': 155,\n 'of do finally': 464,\n 'do finally like': 178,\n 'finally like youth': 218,\n 'like youth will': 386,\n 'youth will end': 824,\n 'will end in': 797,\n 'end in our': 197,\n 'in our life': 319}"
     },
     "execution_count": 12,
     "metadata": {},
     "output_type": "execute_result"
    }
   ],
   "source": [
    "vectorizer.vocabulary_\n",
    "\n",
    "\n"
   ]
  }
 ],
 "metadata": {
  "kernelspec": {
   "display_name": "Python 3",
   "language": "python",
   "name": "python3"
  },
  "language_info": {
   "codemirror_mode": {
    "name": "ipython",
    "version": 3
   },
   "file_extension": ".py",
   "mimetype": "text/x-python",
   "name": "python",
   "nbconvert_exporter": "python",
   "pygments_lexer": "ipython3",
   "version": "3.7.7"
  },
  "toc": {
   "base_numbering": 1,
   "nav_menu": {},
   "number_sections": true,
   "sideBar": true,
   "skip_h1_title": false,
   "title_cell": "Table of Contents",
   "title_sidebar": "Contents",
   "toc_cell": false,
   "toc_position": {},
   "toc_section_display": true,
   "toc_window_display": false
  }
 },
 "nbformat": 4,
 "nbformat_minor": 1
}