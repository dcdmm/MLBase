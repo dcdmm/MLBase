{
 "cells": [
  {
   "cell_type": "code",
   "execution_count": null,
   "outputs": [],
   "source": [
    "import  numpy as np\n",
    "import  pandas as pd\n",
    "from pandas.tseries.offsets import  Hour"
   ],
   "metadata": {
    "collapsed": false,
    "pycharm": {
     "name": "#%%\n"
    }
   }
  },
  {
   "cell_type": "code",
   "execution_count": 4,
   "metadata": {
    "pycharm": {
     "is_executing": false
    }
   },
   "outputs": [
    {
     "name": "stdout",
     "text": [
      "2012Q4\n2011-11-01 00:00:00\n2012-01-31 23:59:59.999999999\n"
     ],
     "output_type": "stream"
    }
   ],
   "source": [
    "p = pd.Period('2012Q4', freq='Q-JAN')  # quarterly frequency, year ends in January\n",
    "print(p)\n",
    "print(p.start_time)\n",
    "print(p.end_time)"
   ]
  },
  {
   "cell_type": "code",
   "execution_count": 5,
   "metadata": {
    "pycharm": {
     "is_executing": false
    }
   },
   "outputs": [
    {
     "name": "stdout",
     "text": [
      "2011-11-01\n2012-01-31\n2011-11\n2012-01\n"
     ],
     "output_type": "stream"
    }
   ],
   "source": "print(p.asfreq('D', how='start'))\nprint(p.asfreq('D', 'end'))\nprint(p.asfreq('M', how='start'))\nprint(p.asfreq('M', 'end'))"
  },
  {
   "cell_type": "code",
   "execution_count": 9,
   "outputs": [
    {
     "data": {
      "text/plain": "Period('2012-01-30 00:00', 'T')"
     },
     "metadata": {},
     "output_type": "execute_result",
     "execution_count": 9
    }
   ],
   "source": "(p.asfreq('B', 'end') - 1).asfreq('T', 'start')",
   "metadata": {
    "pycharm": {
     "metadata": false,
     "name": "#%%\n",
     "is_executing": false
    }
   }
  },
  {
   "cell_type": "code",
   "execution_count": 10,
   "outputs": [
    {
     "data": {
      "text/plain": "Period('2012-01-30 16:00', 'T')"
     },
     "metadata": {},
     "output_type": "execute_result",
     "execution_count": 10
    }
   ],
   "source": "p4pm = (p.asfreq('B', 'end') - 1).asfreq('T', 'start') + Hour(16)\np4pm",
   "metadata": {
    "pycharm": {
     "metadata": false,
     "name": "#%%\n",
     "is_executing": false
    }
   }
  },
  {
   "cell_type": "code",
   "execution_count": 11,
   "metadata": {
    "pycharm": {
     "is_executing": false
    }
   },
   "outputs": [
    {
     "data": {
      "text/plain": "Timestamp('2012-01-30 16:00:00')"
     },
     "metadata": {},
     "output_type": "execute_result",
     "execution_count": 11
    }
   ],
   "source": "p4pm.to_timestamp()"
  },
  {
   "cell_type": "code",
   "execution_count": 124,
   "metadata": {
    "pycharm": {
     "is_executing": false
    }
   },
   "outputs": [
    {
     "data": {
      "text/plain": "2011Q3    0\n2011Q4    1\n2012Q1    2\n2012Q2    3\n2012Q3    4\n2012Q4    5\nFreq: Q-JAN, dtype: int32"
     },
     "metadata": {},
     "output_type": "execute_result",
     "execution_count": 124
    }
   ],
   "source": "rng = pd.period_range('2011Q3', '2012Q4', freq='Q-JAN') # quarterly frequency, year ends in January\nts = pd.Series(np.arange(len(rng)), index=rng)\nts"
  },
  {
   "cell_type": "code",
   "execution_count": 125,
   "metadata": {
    "pycharm": {
     "is_executing": false
    }
   },
   "outputs": [
    {
     "name": "stdout",
     "text": [
      "2011-11-01 00:00:00\n2012-01-31 23:59:59.999999999\n\n2011-08-01 00:00:00\n2011-10-31 23:59:59.999999999\n\n2011-05-01 00:00:00\n2011-07-31 23:59:59.999999999\n\n2011-02-01 00:00:00\n2011-04-30 23:59:59.999999999\n\n2010-11-01 00:00:00\n2011-01-31 23:59:59.999999999\n\n2010-08-01 00:00:00\n2010-10-31 23:59:59.999999999\n"
     ],
     "output_type": "stream"
    }
   ],
   "source": "print(rng[5].start_time)\nprint(rng[5].end_time, end='\\n\\n') # 11,12,1月\nprint(rng[4].start_time)\nprint(rng[4].end_time, end='\\n\\n') # 8,9,10月\nprint(rng[3].start_time)\nprint(rng[3].end_time, end='\\n\\n') # 5,6,7月\nprint(rng[2].start_time)\nprint(rng[2].end_time, end='\\n\\n') # 2,3,4月\nprint(rng[1].start_time)\nprint(rng[1].end_time, end='\\n\\n')\nprint(rng[0].start_time)\nprint(rng[0].end_time)"
  },
  {
   "cell_type": "code",
   "execution_count": 126,
   "outputs": [
    {
     "data": {
      "text/plain": "2010-10-28 16:00:00    0\n2011-01-28 16:00:00    1\n2011-04-28 16:00:00    2\n2011-07-28 16:00:00    3\n2011-10-28 16:00:00    4\n2012-01-30 16:00:00    5\ndtype: int32"
     },
     "metadata": {},
     "output_type": "execute_result",
     "execution_count": 126
    }
   ],
   "source": "new_rng = (rng.asfreq('B', how='end') - 1).asfreq('T', how='start') + 16 * 60\nts.index = new_rng.to_timestamp() \nts",
   "metadata": {
    "pycharm": {
     "metadata": false,
     "name": "#%%\n",
     "is_executing": false
    }
   }
  }
 ],
 "metadata": {
  "kernelspec": {
   "name": "python3",
   "language": "python",
   "display_name": "Python 3"
  },
  "language_info": {
   "codemirror_mode": {
    "name": "ipython",
    "version": 2
   },
   "file_extension": ".py",
   "mimetype": "text/x-python",
   "name": "python",
   "nbconvert_exporter": "python",
   "pygments_lexer": "ipython2",
   "version": "2.7.6"
  },
  "pycharm": {
   "stem_cell": {
    "cell_type": "raw",
    "source": [],
    "metadata": {
     "collapsed": false
    }
   }
  }
 },
 "nbformat": 4,
 "nbformat_minor": 0
}