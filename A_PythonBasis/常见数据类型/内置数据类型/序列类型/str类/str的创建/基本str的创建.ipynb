{
 "cells": [
  {
   "cell_type": "code",
   "execution_count": 6,
   "outputs": [
    {
     "name": "stdout",
     "text": [
      "    \"段超\"是一个好人, \n很多人都这么说\n    '特别'是女生都是这样说的\n然后我就悲剧了!\n"
     ],
     "output_type": "stream"
    }
   ],
   "source": [
    "name_0 = 'duanchao' \n",
    "name_1 = \"duanchao\" # 字符串可以用单引号或双引号括起来\n",
    "\n",
    "poem = \"\"\"    \"段超\"是一个好人, \n",
    "很多人都这么说\n",
    "    '特别'是女生都是这样说的\n",
    "然后我就悲剧了!\"\"\" # 三引号表示多行字符串(每两行间有一个隐藏的换行符)\n",
    "print(poem)"
   ],
   "metadata": {
    "collapsed": false,
    "pycharm": {
     "name": "#%%\n",
     "is_executing": false
    }
   }
  },
  {
   "cell_type": "code",
   "execution_count": 2,
   "outputs": [
    {
     "name": "stdout",
     "text": [
      "duanchao is \"good\"\nduanchao is \"good\"\n"
     ],
     "output_type": "stream"
    }
   ],
   "source": [
    "print(\"duanchao is \\\"good\\\"\") # 利用\\(转义字符)对双引号进行转义,进而输出\"\n",
    "print('duanchao is \"good\"') # 这样也可输出\"(单引号同理)"
   ],
   "metadata": {
    "pycharm": {
     "metadata": false,
     "name": "#%%\n",
     "is_executing": false
    }
   }
  },
  {
   "cell_type": "code",
   "execution_count": 3,
   "outputs": [
    {
     "data": {
      "text/plain": "'123'"
     },
     "metadata": {},
     "output_type": "execute_result",
     "execution_count": 3
    }
   ],
   "source": [
    "str(123) # str(object='') -> str"
   ],
   "metadata": {
    "pycharm": {
     "metadata": false,
     "name": "#%%\n",
     "is_executing": false
    }
   }
  },
  {
   "cell_type": "code",
   "execution_count": 4,
   "outputs": [
    {
     "data": {
      "text/plain": "\"{'runoob': 'runoob.com', 'google': 'google.com'}\""
     },
     "metadata": {},
     "output_type": "execute_result",
     "execution_count": 4
    }
   ],
   "source": [
    "dict_string = {'runoob': 'runoob.com', 'google': 'google.com'}\n",
    "str(dict_string)"
   ],
   "metadata": {
    "collapsed": false,
    "pycharm": {
     "name": "#%%\n",
     "is_executing": false
    }
   }
  },
  {
   "cell_type": "code",
   "execution_count": 5,
   "outputs": [
    {
     "data": {
      "text/plain": "\"[1, 2, 3, 4, '5']\""
     },
     "metadata": {},
     "output_type": "execute_result",
     "execution_count": 5
    }
   ],
   "source": [
    "lst = [1, 2, 3, 4, '5']\n",
    "str(lst)"
   ],
   "metadata": {
    "collapsed": false,
    "pycharm": {
     "name": "#%%\n",
     "is_executing": false
    }
   }
  },
  {
   "cell_type": "code",
   "execution_count": null,
   "outputs": [],
   "source": [
    "\n"
   ],
   "metadata": {
    "collapsed": false,
    "pycharm": {
     "name": "#%%\n"
    }
   }
  }
 ],
 "metadata": {
  "language_info": {
   "codemirror_mode": {
    "name": "ipython",
    "version": 2
   },
   "file_extension": ".py",
   "mimetype": "text/x-python",
   "name": "python",
   "nbconvert_exporter": "python",
   "pygments_lexer": "ipython2",
   "version": "2.7.6"
  },
  "kernelspec": {
   "name": "python3",
   "language": "python",
   "display_name": "Python 3"
  },
  "pycharm": {
   "stem_cell": {
    "cell_type": "raw",
    "source": [],
    "metadata": {
     "collapsed": false
    }
   }
  }
 },
 "nbformat": 4,
 "nbformat_minor": 0
}