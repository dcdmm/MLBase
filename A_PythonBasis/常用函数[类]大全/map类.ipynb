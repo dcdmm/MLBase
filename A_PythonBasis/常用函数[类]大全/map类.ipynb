{
 "cells": [
  {
   "cell_type": "code",
   "execution_count": 17,
   "metadata": {
    "collapsed": false,
    "pycharm": {
     "name": "#%%\n"
    }
   },
   "outputs": [
    {
     "data": {
      "text/plain": [
       "'\\nmap()函数语法：\\nmap(function, iterable, ...)\\n1,当seq只有一个时,将函数func作用于这个seq的每个元素上,并得到一个新的seq\\n2,当seq多于一个时,map可以并行(注意是并行)地对每个seq执行\\n'"
      ]
     },
     "execution_count": 17,
     "metadata": {},
     "output_type": "execute_result"
    }
   ],
   "source": [
    "\"\"\"\n",
    "map(func, *iterables) --> map object\n",
    "\n",
    "Make an iterator that computes the function using arguments from\n",
    "each of the iterables.  Stops when the shortest iterable is exhausted.\n",
    "\"\"\"\n",
    "'''\n",
    "map()函数语法：\n",
    "map(function, iterable, ...)\n",
    "1,当seq只有一个时,将函数func作用于这个seq的每个元素上,并得到一个新的seq\n",
    "2,当seq多于一个时,map可以并行(注意是并行)地对每个seq执行\n",
    "'''"
   ]
  },
  {
   "cell_type": "code",
   "execution_count": 18,
   "metadata": {
    "pycharm": {
     "is_executing": false
    }
   },
   "outputs": [
    {
     "name": "stdout",
     "output_type": "stream",
     "text": [
      "<map object at 0x000002C182FD3F40>\n",
      "[0, 2, 4, 6, 8, 10, 12, 14, 16, 18]\n"
     ]
    }
   ],
   "source": [
    "the_map = map(lambda x:x * 2, range(10))\n",
    "print(the_map)  # 返回值为map object(迭代器)\n",
    "print(list(the_map))"
   ]
  },
  {
   "cell_type": "code",
   "execution_count": 19,
   "metadata": {
    "pycharm": {
     "is_executing": false
    }
   },
   "outputs": [
    {
     "name": "stdout",
     "output_type": "stream",
     "text": [
      "map_list1为: [(1, 2, 'a'), (3, 4, 'b'), (5, 6, 'c')]\n"
     ]
    }
   ],
   "source": [
    "# 将zip方法中元组转换为列表进行输出(seq多于一个时)\n",
    "map_list = list(map(lambda x, y, z: (x, y, z),\n",
    "                    [1, 3, 5], [2, 4, 6, 8], ['a', 'b', 'c', 'd', 'e']))\n",
    "print('map_list1为:', map_list)"
   ]
  },
  {
   "cell_type": "code",
   "execution_count": 20,
   "metadata": {
    "pycharm": {
     "metadata": false,
     "name": "#%%\n"
    }
   },
   "outputs": [
    {
     "data": {
      "text/plain": [
       "[(1, 2, 'a'), (3, 4, 'b'), (5, 6, 'c')]"
      ]
     },
     "execution_count": 20,
     "metadata": {},
     "output_type": "execute_result"
    }
   ],
   "source": [
    "list(zip([1, 3, 5], [2, 4, 6, 8], ['a','b','c','d','e']))  # 与上等价"
   ]
  }
 ],
 "metadata": {
  "kernelspec": {
   "display_name": "base",
   "language": "python",
   "name": "python3"
  },
  "language_info": {
   "codemirror_mode": {
    "name": "ipython",
    "version": 3
   },
   "file_extension": ".py",
   "mimetype": "text/x-python",
   "name": "python",
   "nbconvert_exporter": "python",
   "pygments_lexer": "ipython3",
   "version": "3.11.7"
  }
 },
 "nbformat": 4,
 "nbformat_minor": 0
}
