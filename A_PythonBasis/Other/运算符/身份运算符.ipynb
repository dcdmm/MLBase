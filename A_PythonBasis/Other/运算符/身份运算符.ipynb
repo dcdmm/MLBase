{
 "cells": [
  {
   "cell_type": "markdown",
   "source": [
    "* is 是判断两个标识符是不是引用自一个对象\n",
    "* is not 是判断两个标识符是不是引用自不同对象"
   ],
   "metadata": {
    "collapsed": false,
    "pycharm": {
     "name": "#%% md\n"
    }
   }
  },
  {
   "cell_type": "code",
   "execution_count": 1,
   "outputs": [
    {
     "output_type": "stream",
     "name": "stdout",
     "text": [
      "140708084984208 140708084984208\nTrue\n"
     ]
    }
   ],
   "source": [
    "a = 20\n",
    "b = a\n",
    " \n",
    "print(id(a), id(b))\n",
    "print(a is b)"
   ],
   "metadata": {
    "collapsed": false,
    "pycharm": {
     "name": "#%%\n"
    }
   }
  },
  {
   "cell_type": "code",
   "execution_count": 7,
   "outputs": [
    {
     "name": "stdout",
     "text": [
      "140708679882144 140708679881664\nFalse\nTrue\n"
     ],
     "output_type": "stream"
    }
   ],
   "source": [
    "b = 5\n",
    "\n",
    "print(id(a), id(b))\n",
    "print(a is b)\n",
    "print(a is not b)"
   ],
   "metadata": {
    "pycharm": {
     "metadata": false,
     "name": "#%%\n",
     "is_executing": false
    }
   }
  },
  {
   "cell_type": "code",
   "execution_count": null,
   "outputs": [],
   "source": [
    "\n"
   ],
   "metadata": {
    "pycharm": {
     "metadata": false,
     "name": "#%%\n"
    }
   }
  }
 ],
 "metadata": {
  "language_info": {
   "codemirror_mode": {
    "name": "ipython",
    "version": 2
   },
   "file_extension": ".py",
   "mimetype": "text/x-python",
   "name": "python",
   "nbconvert_exporter": "python",
   "pygments_lexer": "ipython2",
   "version": "3.8.8"
  },
  "kernelspec": {
   "name": "python388jvsc74a57bd08ce7c5427acc869eacde8b4f6e65a38802d7ed2532878cf2022b434091642ca0",
   "display_name": "Python 3.8.8 64-bit ('base': conda)"
  },
  "pycharm": {
   "stem_cell": {
    "cell_type": "raw",
    "source": [],
    "metadata": {
     "collapsed": false
    }
   }
  }
 },
 "nbformat": 4,
 "nbformat_minor": 0
}