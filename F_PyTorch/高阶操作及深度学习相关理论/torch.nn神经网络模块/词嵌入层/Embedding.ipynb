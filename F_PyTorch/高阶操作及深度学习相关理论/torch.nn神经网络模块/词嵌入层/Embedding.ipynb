{
 "cells": [
  {
   "cell_type": "code",
   "execution_count": 8,
   "metadata": {
    "collapsed": true,
    "pycharm": {
     "name": "#%%\n"
    }
   },
   "outputs": [],
   "source": [
    "import torch\n",
    "import torch.nn as nn"
   ]
  },
  {
   "cell_type": "code",
   "execution_count": 9,
   "metadata": {
    "pycharm": {
     "name": "#%%\n"
    }
   },
   "outputs": [],
   "source": [
    "embedding = nn.Embedding(num_embeddings=10, # 单词表的单词数目\n",
    "                         embedding_dim=4, # 输出词向量的维度大小\n",
    "                         # 默认为False;这个参数的作用是为了加快非常用单词的优化,\n",
    "                         # 在深度学习模型中,当反向传播获取词向量的梯度以后,如果设置这个参数为True,\n",
    "                         # 则词向量的梯度会除以这个单词在mini-batch中出现的频率,通过这个缩放操作,\n",
    "                         # 可以让出现频率较少的单词的梯度比较大,这样可以加快低频词的词向量参数的收敛速度\n",
    "                         scale_grad_by_freq=True,\n",
    "                         # 如果这个参数设置为True,则词嵌入矩阵在反向传播中计算得到的矩阵为稀疏矩阵\n",
    "                         # 这个参数在单词表中单词数目巨大的时候非常有用.\n",
    "                         # 如果使用稀疏的梯度矩阵,则必须使用稀疏的优化器,如optim.SGD,optim.SparseAdam,optim.AdaGrad\n",
    "                         sparse=True) # 默认为False"
   ]
  },
  {
   "cell_type": "code",
   "execution_count": 10,
   "metadata": {
    "pycharm": {
     "name": "#%%\n"
    }
   },
   "outputs": [
    {
     "data": {
      "text/plain": "Parameter containing:\ntensor([[ 0.5489,  0.0701, -0.5231,  2.4895],\n        [-2.3709, -0.9461,  0.9261, -0.4524],\n        [ 1.8475, -0.9683, -2.8204, -0.7525],\n        [ 1.0084, -0.2826,  1.2107,  0.0948],\n        [-0.0520,  1.6023, -0.8701,  0.3634],\n        [-0.2520, -0.7104, -0.9665,  0.9719],\n        [-1.4742, -0.0376, -0.8666, -1.5119],\n        [ 1.0901,  0.2205,  0.1361,  0.4459],\n        [ 0.9359, -1.0470, -0.5411, -0.0244],\n        [-1.3731,  0.9568,  1.5858,  0.1038]], requires_grad=True)"
     },
     "execution_count": 10,
     "metadata": {},
     "output_type": "execute_result"
    }
   ],
   "source": [
    "embedding.weight # 内部实现了随机初始化"
   ]
  },
  {
   "cell_type": "code",
   "execution_count": 11,
   "metadata": {
    "pycharm": {
     "name": "#%%\n"
    }
   },
   "outputs": [
    {
     "data": {
      "text/plain": "Parameter containing:\ntensor([[ 0.,  1.,  2.,  3.],\n        [ 4.,  5.,  6.,  7.],\n        [ 8.,  9., 10., 11.],\n        [12., 13., 14., 15.],\n        [16., 17., 18., 19.],\n        [20., 21., 22., 23.],\n        [24., 25., 26., 27.],\n        [28., 29., 30., 31.],\n        [32., 33., 34., 35.],\n        [36., 37., 38., 39.]])"
     },
     "execution_count": 11,
     "metadata": {},
     "output_type": "execute_result"
    }
   ],
   "source": [
    "pre_em = torch.arange(40, dtype=torch.float32).reshape(10, 4)\n",
    "embedding_pre = nn.Embedding.from_pretrained(pre_em, sparse=True, scale_grad_by_freq=True) # 从预训练的词嵌入矩阵得到词嵌入模块(类方法,参数含义与上相同)\n",
    "embedding_pre.weight"
   ]
  },
  {
   "cell_type": "code",
   "execution_count": 12,
   "metadata": {
    "pycharm": {
     "name": "#%%\n"
    }
   },
   "outputs": [],
   "source": [
    "entry = torch.tensor([[0, 1, 2],\n",
    "                      [5, 6, 7]], dtype=torch.long)"
   ]
  },
  {
   "cell_type": "code",
   "execution_count": 13,
   "metadata": {
    "pycharm": {
     "name": "#%%\n"
    }
   },
   "outputs": [
    {
     "name": "stdout",
     "output_type": "stream",
     "text": [
      "tensor([[[ 0.,  1.,  2.,  3.],\n",
      "         [ 4.,  5.,  6.,  7.],\n",
      "         [ 8.,  9., 10., 11.]],\n",
      "\n",
      "        [[20., 21., 22., 23.],\n",
      "         [24., 25., 26., 27.],\n",
      "         [28., 29., 30., 31.]]])\n",
      "torch.Size([2, 3, 4])\n"
     ]
    }
   ],
   "source": [
    "print(embedding_pre(entry)) # 通过取出对应元素索引序号的行,来获取某个元素对应的词向量\n",
    "print(embedding_pre(entry).shape) # (2, 3) <--> (10, 4) --> (2, 3, 4)"
   ]
  },
  {
   "cell_type": "code",
   "execution_count": 14,
   "metadata": {
    "pycharm": {
     "name": "#%%\n"
    }
   },
   "outputs": [
    {
     "name": "stdout",
     "output_type": "stream",
     "text": [
      "tensor([[ 4.,  5.,  6.,  7.],\n",
      "        [ 8.,  9., 10., 11.]])\n",
      "torch.Size([2, 4])\n"
     ]
    }
   ],
   "source": [
    "entry1 = torch.tensor([1, 2])\n",
    "print(embedding_pre(entry1))\n",
    "print(embedding_pre(entry1).shape) # (2) <-->(10, 4) --> (2, 4)"
   ]
  },
  {
   "cell_type": "code",
   "execution_count": 14,
   "metadata": {
    "pycharm": {
     "name": "#%%\n"
    }
   },
   "outputs": [],
   "source": []
  }
 ],
 "metadata": {
  "kernelspec": {
   "display_name": "Python 3",
   "language": "python",
   "name": "python3"
  },
  "language_info": {
   "codemirror_mode": {
    "name": "ipython",
    "version": 3
   },
   "file_extension": ".py",
   "mimetype": "text/x-python",
   "name": "python",
   "nbconvert_exporter": "python",
   "pygments_lexer": "ipython3",
   "version": "3.7.7"
  },
  "toc": {
   "base_numbering": 1,
   "nav_menu": {},
   "number_sections": true,
   "sideBar": true,
   "skip_h1_title": false,
   "title_cell": "Table of Contents",
   "title_sidebar": "Contents",
   "toc_cell": false,
   "toc_position": {},
   "toc_section_display": true,
   "toc_window_display": false
  }
 },
 "nbformat": 4,
 "nbformat_minor": 1
}