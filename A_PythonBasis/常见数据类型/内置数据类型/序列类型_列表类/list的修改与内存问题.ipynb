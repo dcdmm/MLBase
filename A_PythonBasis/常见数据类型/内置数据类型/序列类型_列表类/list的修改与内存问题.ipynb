{
 "cells": [
  {
   "cell_type": "code",
   "source": [
    "'''\n",
    "解析:\n",
    "1. 新建一个列表对象(假设内存地址为lst_id,lst指向lst_id)\n",
    "2. lst_id第一个位置储存'string'的内存地址,第二个位置储存99的内存地址,第三个位置储存可变对象[-1, -2]的地址\n",
    "3. 再新建一个列表对象(假设内存地址为rangel_id,range1指向range1_id)\n",
    "4. 循环append第一轮-->range1储存对象0的地址,lst_id储存range1_id\n",
    "5. 循环append第二轮-->range1储存对象1的地址,lst_id再储存range1_id\n",
    "6. ......\n",
    "7. 最终lst_id储存的地址有:对象'string'的内存地址,对象99的内存地址,对象[-1, -2]的地址,rangel_id,...,rangel_id\n",
    "8. 由于后5个元素储存的均为rangel_id,故输出值相同\n",
    "'''\n",
    "lst = ['string', 99, [-1, -2]]\n",
    "rangel = list()\n",
    "\n",
    "for i in range(5):\n",
    "    rangel.append(i)\n",
    "    lst.append(rangel)\n",
    "\n",
    "for j in lst:\n",
    "    print(j)"
   ],
   "metadata": {
    "collapsed": false,
    "pycharm": {
     "name": "#%%\n"
    }
   },
   "execution_count": 8,
   "outputs": [
    {
     "name": "stdout",
     "output_type": "stream",
     "text": [
      "string\n",
      "99\n",
      "[-1, -2]\n",
      "[0, 1, 2, 3, 4]\n",
      "[0, 1, 2, 3, 4]\n",
      "[0, 1, 2, 3, 4]\n",
      "[0, 1, 2, 3, 4]\n",
      "[0, 1, 2, 3, 4]\n"
     ]
    }
   ]
  },
  {
   "cell_type": "markdown",
   "source": [
    "### list的修改(内置方法)\n",
    "* 指向的内存地址不变\n",
    "* 输出发生相应改变"
   ],
   "metadata": {
    "collapsed": false,
    "pycharm": {
     "name": "#%% md\n"
    }
   }
  },
  {
   "cell_type": "code",
   "execution_count": 9,
   "outputs": [
    {
     "name": "stdout",
     "output_type": "stream",
     "text": [
      "1295127326272\n",
      "1295127326272\n",
      "[0, 1, 2, 4, 5, 6, 7, 8, 9, 10]\n",
      "1295127326272\n"
     ]
    }
   ],
   "source": [
    "lst = [1, 2, 3, 4, 5, 6, 7]\n",
    "print(id(lst))\n",
    "\n",
    "# list内置方法修改\n",
    "lst.append(8)\n",
    "lst.extend([9, 10])\n",
    "lst.insert(0, 0)\n",
    "lst.pop(3)\n",
    "\n",
    "print(id(lst))  # lst指向的内存地址不变\n",
    "print(lst)  # lst也发生相应改变\n",
    "print(id(lst))"
   ],
   "metadata": {
    "collapsed": false,
    "pycharm": {
     "name": "#%%\n"
    }
   }
  },
  {
   "cell_type": "markdown",
   "source": [
    "### list的修改(直接对[索引/切片进行修改])\n",
    "* 指向的内存地址不变\n",
    "* 输出发生相应改变"
   ],
   "metadata": {
    "collapsed": false,
    "pycharm": {
     "name": "#%% md\n"
    }
   }
  },
  {
   "cell_type": "code",
   "execution_count": 10,
   "outputs": [
    {
     "name": "stdout",
     "output_type": "stream",
     "text": [
      "1295127323840\n",
      "1295127323840\n",
      "[-11111111, 2, 0, 0, 0, 1, 1, 1, [2, 2], [2, 2], [2, 2], 6, 7]\n"
     ]
    }
   ],
   "source": [
    "lst = [1, 2, [3, 5], 4, 5, 6, 7]\n",
    "print(id(lst))\n",
    "\n",
    "lst[0] = -11111111\n",
    "lst[2:5] = [0, 0, 0,\n",
    "            1, 1, 1,\n",
    "            [2, 2], [2, 2], [2, 2]]  # 形状不必一致\n",
    "\n",
    "print(id(lst))  # lst指向的内存地址不变\n",
    "print(lst)  # lst也发生相应改变"
   ],
   "metadata": {
    "collapsed": false,
    "pycharm": {
     "name": "#%%\n"
    }
   }
  },
  {
   "cell_type": "markdown",
   "source": [
    "### list的修改(追加操作)\n",
    "* 指向的内存地址不变\n",
    "* 输出发生相应改变"
   ],
   "metadata": {
    "collapsed": false,
    "pycharm": {
     "name": "#%% md\n"
    }
   }
  },
  {
   "cell_type": "code",
   "execution_count": 11,
   "outputs": [
    {
     "name": "stdout",
     "output_type": "stream",
     "text": [
      "1295127323840\n",
      "[-11111111, 2, 0, 0, 0, 1, 1, 1, [2, 2], [2, 2], [2, 2], 6, 7, -1, -2, -3]\n"
     ]
    }
   ],
   "source": [
    "lst += [-1, -2, -3]  # 可变类型的追加操作\n",
    "print(id(lst))  # lst指向的内存地址不变\n",
    "print(lst)  # lst也发生对应改变"
   ],
   "metadata": {
    "collapsed": false,
    "pycharm": {
     "name": "#%%\n"
    }
   }
  },
  {
   "cell_type": "markdown",
   "source": [
    "### list的修改(连接操作)\n",
    "* 内存地址改变\n",
    "* 输出发生相应改变"
   ],
   "metadata": {
    "collapsed": false,
    "pycharm": {
     "name": "#%% md\n"
    }
   }
  },
  {
   "cell_type": "code",
   "execution_count": 12,
   "outputs": [
    {
     "name": "stdout",
     "output_type": "stream",
     "text": [
      "1295125989696\n",
      "1295127323840\n",
      "[1, 2, 3, 4, 5, 6, 7]\n"
     ]
    }
   ],
   "source": [
    "'''\n",
    "解析:\n",
    "1. 新建一个列表对象(假设内存地址为lst_id,lst指向lst_id)\n",
    "2. 新开辟一块内存地址,在此内存地址上拼接lst与[6,7]\n",
    "3. lst指向新的内存地址\n",
    "'''\n",
    "lst = [1, 2, 3, 4, 5]\n",
    "print(id(lst))\n",
    "\n",
    "lst = lst + [6, 7]\n",
    "print(id(lst))\n",
    "print(lst)"
   ],
   "metadata": {
    "collapsed": false,
    "pycharm": {
     "name": "#%%\n"
    }
   }
  },
  {
   "cell_type": "markdown",
   "source": [
    "### list的修改间接对[索引/切片进行修改])\n",
    "* 改变内容为不可变数据类型时?\n",
    "* 改变内容为可变数据类型时?"
   ],
   "metadata": {
    "collapsed": false,
    "pycharm": {
     "name": "#%% md\n"
    }
   }
  },
  {
   "cell_type": "code",
   "execution_count": 13,
   "outputs": [
    {
     "name": "stdout",
     "output_type": "stream",
     "text": [
      "[-999, 2, 3, -1, -2]\n",
      "[1, 2, 3, 4, 5]\n"
     ]
    }
   ],
   "source": [
    "lst = [1, 2, 3, 4, 5]\n",
    "\n",
    "silce = lst[0:3]  # lst[0:3]元素为不可变数据类型,silce为其拷贝\n",
    "\n",
    "silce[0] = -999\n",
    "silce.extend([-1, -2])\n",
    "\n",
    "print(silce)\n",
    "print(lst)  # lst不变"
   ],
   "metadata": {
    "collapsed": false,
    "pycharm": {
     "name": "#%%\n"
    }
   }
  },
  {
   "cell_type": "code",
   "execution_count": 14,
   "outputs": [
    {
     "name": "stdout",
     "output_type": "stream",
     "text": [
      "1295127374080\n",
      "[[1, 2, 3, -1111], [4, 5, -9999]]\n",
      "1295127374080\n",
      "[[1, 2, 3, -1111], [4, 5, -9999], 6, 7]\n",
      "**************************************************************\n",
      "[[0, 0, 0], [4, 5, -9999], [-1, -2]]\n",
      "[[1, 2, 3, -1111], [4, 5, -9999], 6, 7]\n"
     ]
    }
   ],
   "source": [
    "lst_ = [[1, 2, 3], [4, 5], 6, 7]\n",
    "print(id(lst_))\n",
    "\n",
    "silce_ = lst_[0:2]\n",
    "silce_[0].append(-1111)  # lst[0],silce_[0]指向同一内存地址(可变数据类型),内置方法修改,指定的内存地址不变,故lst[0]也发生改变\n",
    "silce_[1].append(-9999)\n",
    "\n",
    "print(silce_)\n",
    "\n",
    "print(id(lst_))  # 指向的内存地址不变\n",
    "print(lst_)  # lst发生相应改变\n",
    "\n",
    "print('**************************************************************')\n",
    "\n",
    "silce_[0] = [0, 0, 0]  # lst[0],silce_[0]指向同一地址(可变数据类型),整体重新赋值,silce[0]指向的新的内存地址,故此时lst[0]不变\n",
    "silce_.append([-1, -2])\n",
    "\n",
    "print(silce_)\n",
    "print(lst_)  # lst不变"
   ],
   "metadata": {
    "collapsed": false,
    "pycharm": {
     "name": "#%%\n"
    }
   }
  },
  {
   "cell_type": "code",
   "execution_count": 14,
   "outputs": [],
   "source": [],
   "metadata": {
    "collapsed": false,
    "pycharm": {
     "name": "#%%\n"
    }
   }
  }
 ],
 "metadata": {
  "kernelspec": {
   "display_name": "Python 3",
   "language": "python",
   "name": "python3"
  },
  "language_info": {
   "codemirror_mode": {
    "name": "ipython",
    "version": 2
   },
   "file_extension": ".py",
   "mimetype": "text/x-python",
   "name": "python",
   "nbconvert_exporter": "python",
   "pygments_lexer": "ipython2",
   "version": "2.7.6"
  }
 },
 "nbformat": 4,
 "nbformat_minor": 0
}