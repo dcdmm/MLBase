{
 "cells": [
  {
   "cell_type": "code",
   "execution_count": 1,
   "metadata": {
    "collapsed": true
   },
   "outputs": [],
   "source": [
    "from xgboost import XGBClassifier, XGBRFRegressor\n",
    "from sklearn import datasets\n",
    "from sklearn.model_selection import train_test_split\n",
    "import matplotlib.pyplot as plt"
   ]
  },
  {
   "cell_type": "code",
   "execution_count": 2,
   "outputs": [],
   "source": [
    "X = datasets.fetch_covtype().data[:3000]\n",
    "y = datasets.fetch_covtype().target[:3000] # 多分类任务\n",
    "X_train, X_test, y_train, y_test = train_test_split(X, y)"
   ],
   "metadata": {
    "collapsed": false,
    "pycharm": {
     "name": "#%%\n"
    }
   }
  },
  {
   "cell_type": "code",
   "execution_count": 3,
   "metadata": {
    "pycharm": {
     "name": "#%%\n"
    }
   },
   "outputs": [
    {
     "name": "stdout",
     "output_type": "stream",
     "text": [
      "[0]\tvalidation_0-mlogloss:1.35492\tvalidation_1-mlogloss:1.41385\n",
      "[5]\tvalidation_0-mlogloss:0.55551\tvalidation_1-mlogloss:0.71486\n",
      "[10]\tvalidation_0-mlogloss:0.34509\tvalidation_1-mlogloss:0.54084\n",
      "[15]\tvalidation_0-mlogloss:0.24679\tvalidation_1-mlogloss:0.47025\n",
      "[20]\tvalidation_0-mlogloss:0.18639\tvalidation_1-mlogloss:0.43652\n",
      "[25]\tvalidation_0-mlogloss:0.15052\tvalidation_1-mlogloss:0.41875\n",
      "[30]\tvalidation_0-mlogloss:0.12347\tvalidation_1-mlogloss:0.40726\n",
      "[35]\tvalidation_0-mlogloss:0.10394\tvalidation_1-mlogloss:0.40106\n",
      "[40]\tvalidation_0-mlogloss:0.08330\tvalidation_1-mlogloss:0.39644\n",
      "[45]\tvalidation_0-mlogloss:0.06666\tvalidation_1-mlogloss:0.39439\n",
      "[50]\tvalidation_0-mlogloss:0.05359\tvalidation_1-mlogloss:0.39573\n",
      "[55]\tvalidation_0-mlogloss:0.04536\tvalidation_1-mlogloss:0.39682\n",
      "[60]\tvalidation_0-mlogloss:0.03981\tvalidation_1-mlogloss:0.39730\n",
      "[64]\tvalidation_0-mlogloss:0.03463\tvalidation_1-mlogloss:0.39819\n"
     ]
    },
    {
     "name": "stderr",
     "output_type": "stream",
     "text": [
      "C:\\Users\\dcdmm\\anaconda3\\lib\\site-packages\\xgboost\\sklearn.py:888: UserWarning: The use of label encoder in XGBClassifier is deprecated and will be removed in a future release. To remove this warning, do the following: 1) Pass option use_label_encoder=False when constructing XGBClassifier object; and 2) Encode your labels (y) as integers starting with 0, i.e. 0, 1, 2, ..., [num_class - 1].\n",
      "  warnings.warn(label_encoder_deprecation_msg, UserWarning)\n"
     ]
    },
    {
     "data": {
      "text/plain": "XGBClassifier(base_score=0.5, booster='gbtree', colsample_bylevel=1,\n              colsample_bynode=1, colsample_bytree=1, gamma=0, gpu_id=-1,\n              importance_type='gain', interaction_constraints='',\n              learning_rate=0.300000012, max_delta_step=0, max_depth=6,\n              min_child_weight=1, missing=nan, monotone_constraints='()',\n              n_estimators=100, n_jobs=-1, num_parallel_tree=1,\n              objective='multi:softprob', random_state=0, reg_alpha=0,\n              reg_lambda=1, scale_pos_weight=None, subsample=1,\n              tree_method='exact', validate_parameters=1, verbosity=None)"
     },
     "execution_count": 3,
     "metadata": {},
     "output_type": "execute_result"
    }
   ],
   "source": [
    "# eval_metric参数\n",
    "# rmes: 均方根误差\n",
    "# mae: 平均绝对值误差\n",
    "# logloss: 负对数似然函数值\n",
    "# mlogloss: 多分类logloss(多分类)\n",
    "# error: 二分类错误率 \n",
    "# merror: 多分类错误率(多分类)\n",
    "# auc\n",
    "\n",
    "xg1 = XGBClassifier(n_jobs=-1)\n",
    "eval_set = [(X_train, y_train), (X_test, y_test)]\n",
    "xg1.fit(X_train, y_train, \n",
    "        early_stopping_rounds=20, # mlogloss在20轮迭代之内，都没有提升的话，就stop\n",
    "        eval_set=eval_set, # A list of (X, y) tuple pairs to use as validation sets, for which metrics will be computed. Validation metrics will help us track the performance of the model.\n",
    "        eval_metric='mlogloss', verbose=5)"
   ]
  },
  {
   "cell_type": "code",
   "execution_count": 4,
   "metadata": {
    "pycharm": {
     "name": "#%%\n"
    }
   },
   "outputs": [
    {
     "data": {
      "text/plain": "array([5, 2, 2, 5, 2, 4, 2, 5, 5, 2, 5, 1, 5, 3, 7, 2, 2, 6, 2, 5, 3, 3,\n       3, 4, 4, 2, 2, 6, 1, 5, 5, 7, 2, 4, 5, 5, 3, 2, 2, 5, 2, 5, 1, 2,\n       2, 2, 5, 2, 5, 1, 1, 2, 5, 5, 7, 5, 7, 5, 5, 2, 6, 7, 2, 2, 5, 6,\n       6, 6, 5, 1, 1, 5, 6, 2, 2, 2, 1, 2, 5, 3, 6, 6, 2, 2, 2, 7, 5, 2,\n       2, 2, 2, 1, 7, 3, 2, 5, 1, 5, 1, 4, 6, 2, 4, 3, 1, 6, 5, 2, 1, 2,\n       1, 5, 6, 2, 5, 2, 1, 2, 7, 7, 2, 5, 6, 4, 5, 2, 5, 5, 5, 1, 2, 2,\n       4, 1, 2, 6, 6, 4, 5, 1, 5, 5, 7, 2, 3, 5, 6, 1, 7, 2, 2, 5, 6, 5,\n       7, 7, 5, 5, 5, 7, 5, 7, 5, 2, 5, 6, 2, 1, 7, 2, 5, 3, 5, 5, 2, 5,\n       7, 6, 2, 2, 3, 1, 5, 5, 5, 1, 5, 2, 2, 2, 1, 5, 1, 1, 2, 5, 1, 7,\n       2, 5, 6, 5, 1, 2, 2, 5, 3, 6, 2, 1, 4, 2, 1, 6, 1, 2, 6, 5, 5, 3,\n       2, 1, 5, 1, 5, 6, 2, 6, 5, 4, 2, 6, 1, 1, 5, 1, 5, 5, 1, 4, 6, 5,\n       2, 2, 1, 3, 6, 3, 1, 5, 1, 1, 1, 5, 5, 2, 1, 3, 2, 1, 2, 1, 2, 5,\n       4, 1, 2, 6, 5, 1, 1, 4, 2, 7, 7, 2, 1, 2, 3, 1, 5, 4, 2, 2, 2, 5,\n       1, 2, 2, 5, 5, 1, 6, 3, 5, 5, 7, 5, 4, 5, 1, 5, 6, 1, 4, 1, 5, 5,\n       2, 5, 1, 6, 2, 5, 2, 5, 2, 5, 2, 2, 5, 5, 1, 2, 2, 1, 5, 5, 5, 2,\n       5, 5, 6, 1, 1, 2, 5, 2, 6, 2, 1, 5, 3, 6, 7, 6, 5, 2, 5, 2, 4, 2,\n       6, 5, 5, 2, 6, 2, 4, 2, 1, 2, 1, 2, 5, 2, 5, 5, 1, 3, 2, 6, 4, 5,\n       6, 5, 2, 2, 5, 3, 2, 2, 5, 5, 6, 6, 2, 5, 6, 1, 1, 2, 5, 1, 2, 3,\n       3, 2, 5, 6, 3, 5, 5, 5, 7, 2, 2, 2, 6, 2, 4, 1, 6, 5, 1, 2, 5, 5,\n       5, 5, 2, 4, 3, 4, 2, 1, 5, 2, 6, 5, 3, 7, 1, 7, 3, 4, 3, 3, 2, 6,\n       5, 5, 1, 2, 5, 3, 5, 4, 2, 5, 2, 5, 2, 4, 5, 5, 4, 6, 7, 2, 3, 6,\n       2, 2, 3, 5, 4, 1, 5, 2, 3, 1, 2, 7, 2, 1, 2, 1, 6, 5, 1, 1, 2, 2,\n       1, 3, 5, 5, 2, 1, 1, 5, 4, 3, 1, 2, 2, 7, 1, 2, 5, 5, 7, 5, 2, 2,\n       2, 5, 6, 6, 5, 5, 5, 2, 2, 2, 5, 4, 2, 1, 2, 3, 5, 2, 2, 7, 5, 4,\n       6, 5, 1, 2, 5, 6, 2, 2, 2, 2, 4, 2, 5, 7, 2, 5, 2, 2, 2, 2, 2, 2,\n       5, 1, 2, 5, 4, 2, 5, 5, 1, 3, 1, 1, 5, 3, 5, 1, 1, 2, 6, 1, 5, 5,\n       3, 1, 5, 3, 1, 1, 5, 5, 2, 5, 5, 6, 2, 1, 2, 6, 5, 1, 5, 2, 3, 5,\n       5, 3, 3, 5, 6, 2, 5, 1, 5, 1, 1, 1, 3, 6, 5, 5, 3, 2, 2, 2, 2, 1,\n       5, 5, 1, 5, 2, 1, 6, 2, 5, 1, 2, 2, 1, 2, 2, 5, 1, 5, 5, 1, 2, 5,\n       1, 2, 2, 6, 2, 2, 5, 4, 6, 5, 5, 5, 1, 6, 6, 1, 5, 2, 5, 2, 5, 2,\n       5, 5, 7, 5, 5, 3, 6, 2, 5, 3, 5, 1, 2, 3, 3, 1, 3, 5, 6, 6, 2, 2,\n       3, 2, 5, 5, 1, 1, 1, 1, 6, 5, 2, 3, 5, 2, 3, 2, 1, 6, 6, 2, 5, 7,\n       2, 6, 1, 7, 5, 3, 1, 2, 3, 2, 2, 1, 7, 4, 2, 5, 6, 5, 5, 1, 6, 5,\n       7, 2, 5, 2, 2, 7, 5, 1, 2, 2, 2, 5, 1, 2, 6, 6, 3, 2, 6, 7, 1, 2,\n       6, 5])"
     },
     "execution_count": 4,
     "metadata": {},
     "output_type": "execute_result"
    }
   ],
   "source": [
    "xg1.predict(X_test)"
   ]
  },
  {
   "cell_type": "code",
   "execution_count": 5,
   "metadata": {
    "pycharm": {
     "name": "#%%\n"
    }
   },
   "outputs": [
    {
     "data": {
      "text/plain": "array([[8.3054372e-05, 1.8991845e-03, 4.1240954e-05, ..., 9.9788898e-01,\n        4.0253042e-05, 2.5598276e-05],\n       [4.6908937e-02, 9.5017469e-01, 3.6022984e-04, ..., 1.4570038e-03,\n        3.4886782e-04, 4.3140273e-04],\n       [1.4400902e-01, 7.8070456e-01, 1.5699026e-03, ..., 6.8140872e-02,\n        1.7095474e-03, 1.1659140e-03],\n       ...,\n       [9.2359543e-02, 6.1187679e-01, 1.3047545e-03, ..., 2.6934922e-01,\n        2.3066290e-02, 1.1063686e-03],\n       [6.0466785e-02, 3.2836345e-01, 2.3853718e-03, ..., 6.8411142e-02,\n        5.3822207e-01, 1.1647169e-03],\n       [6.5665720e-03, 4.6698652e-02, 3.1213877e-03, ..., 9.4091511e-01,\n        9.5964310e-04, 1.0096316e-03]], dtype=float32)"
     },
     "execution_count": 5,
     "metadata": {},
     "output_type": "execute_result"
    }
   ],
   "source": [
    "# 预测结果可以输出为概率向量\n",
    "xg1.predict_proba(X_test) # 仅分类算法"
   ]
  },
  {
   "cell_type": "code",
   "execution_count": 6,
   "metadata": {
    "pycharm": {
     "name": "#%%\n"
    }
   },
   "outputs": [
    {
     "data": {
      "text/plain": "0.8613333333333333"
     },
     "execution_count": 6,
     "metadata": {},
     "output_type": "execute_result"
    }
   ],
   "source": [
    "xg1.score(X_test, y_test) # 精度"
   ]
  },
  {
   "cell_type": "code",
   "execution_count": 7,
   "metadata": {
    "pycharm": {
     "name": "#%%\n"
    }
   },
   "outputs": [
    {
     "data": {
      "text/plain": "array([0.04812382, 0.00721559, 0.00950575, 0.01446954, 0.00991754,\n       0.02528663, 0.01062898, 0.0131005 , 0.00861013, 0.0127268 ,\n       0.13991252, 0.        , 0.00416043, 0.        , 0.01132893,\n       0.0263077 , 0.0032215 , 0.00436984, 0.00350656, 0.        ,\n       0.        , 0.        , 0.        , 0.01201558, 0.00726077,\n       0.08105338, 0.00948088, 0.        , 0.        , 0.01073141,\n       0.253596  , 0.00387616, 0.00844854, 0.01538014, 0.        ,\n       0.01276959, 0.04028911, 0.00722023, 0.        , 0.        ,\n       0.        , 0.        , 0.00743672, 0.14036839, 0.00547288,\n       0.00861436, 0.00428734, 0.        , 0.        , 0.        ,\n       0.        , 0.01427837, 0.0050274 , 0.        ], dtype=float32)"
     },
     "execution_count": 7,
     "metadata": {},
     "output_type": "execute_result"
    }
   ],
   "source": [
    "xg1.feature_importances_ # 特征的相对重要性(值越大,重要程度越高)"
   ]
  },
  {
   "cell_type": "code",
   "execution_count": 8,
   "metadata": {
    "pycharm": {
     "name": "#%%\n"
    }
   },
   "outputs": [],
   "source": [
    "evals_result = xg1.evals_result() # 根据fit函数中eval_set参数与eval_metric参数返回评估结果\n",
    "\n",
    "train_evals = evals_result['validation_0']['mlogloss']\n",
    "test_evals = evals_result['validation_1']['mlogloss']"
   ]
  },
  {
   "cell_type": "code",
   "execution_count": 9,
   "metadata": {
    "pycharm": {
     "name": "#%%\n"
    }
   },
   "outputs": [
    {
     "data": {
      "text/plain": "Text(0.5, 0, 'rounds')"
     },
     "execution_count": 9,
     "metadata": {},
     "output_type": "execute_result"
    },
    {
     "data": {
      "text/plain": "<Figure size 432x288 with 1 Axes>",
      "image/png": "[encoded data removed]"
     },
     "metadata": {
      "needs_background": "light"
     },
     "output_type": "display_data"
    }
   ],
   "source": [
    "plt.plot(train_evals, label='train_evals')\n",
    "plt.plot(test_evals, label='test_evals')\n",
    "plt.legend()\n",
    "plt.ylabel('mlogloss')\n",
    "plt.xlabel('rounds')"
   ]
  },
  {
   "cell_type": "code",
   "execution_count": 10,
   "outputs": [
    {
     "data": {
      "text/plain": "0.92434202822794"
     },
     "execution_count": 10,
     "metadata": {},
     "output_type": "execute_result"
    }
   ],
   "source": [
    "X = datasets.load_boston().data\n",
    "y = datasets.load_boston().target\n",
    "X_train, X_test, y_train, y_test = train_test_split(X, y)\n",
    "xg2 = XGBRFRegressor(n_jobs=-1)\n",
    "xg2.fit(X_train, y_train)\n",
    "xg2.score(X_test, y_test) # R^2"
   ],
   "metadata": {
    "collapsed": false,
    "pycharm": {
     "name": "#%%\n"
    }
   }
  },
  {
   "cell_type": "code",
   "execution_count": 11,
   "outputs": [
    {
     "data": {
      "text/plain": "array([0.0248045 , 0.00527188, 0.04180854, 0.02656319, 0.0547178 ,\n       0.21603072, 0.02016436, 0.11258519, 0.01589286, 0.03153985,\n       0.05811853, 0.01952918, 0.37297344], dtype=float32)"
     },
     "execution_count": 11,
     "metadata": {},
     "output_type": "execute_result"
    }
   ],
   "source": [
    "xg2.feature_importances_"
   ],
   "metadata": {
    "collapsed": false,
    "pycharm": {
     "name": "#%%\n"
    }
   }
  },
  {
   "cell_type": "code",
   "execution_count": 12,
   "outputs": [
    {
     "data": {
      "text/plain": "array([23.272268, 45.114845, 33.48172 , 23.680424, 14.678944, 28.585484,\n       20.520702, 27.210989, 17.997805, 40.209385, 20.988155, 23.60115 ,\n       30.096811, 31.394938, 30.226665, 25.276602, 23.012274, 23.631115,\n       20.66546 ,  8.88929 , 13.538998, 20.58521 , 20.64298 , 12.315752,\n       20.931341, 22.1457  , 19.308025, 13.673458, 20.670303, 23.753593,\n       20.910376, 47.03554 , 20.254128, 18.473848, 37.038086, 18.759222,\n       13.302771, 15.109691, 19.53363 , 17.177155, 23.440994, 16.71447 ,\n       21.087088, 12.040573, 20.849346, 14.570631, 34.53967 , 20.22602 ,\n       23.781883, 21.366497,  9.157658, 41.270653, 23.829203, 15.237023,\n       13.497606,  9.945608, 18.821943, 19.472696, 15.974691, 17.726364,\n       20.494658, 12.125123, 22.646658, 25.970833, 20.089855, 20.82742 ,\n       23.820608, 15.898731, 31.343962, 20.254738, 19.55086 , 38.631676,\n       32.26865 , 23.707577, 11.639952, 26.295214, 22.063627, 36.35311 ,\n       20.548489, 20.812004, 47.70728 , 16.044353,  9.077103, 31.958225,\n       21.860313, 20.802568, 28.901682, 38.25617 , 20.410105, 20.053751,\n       23.199995,  9.541038, 20.932617, 46.230732, 20.695135, 18.954361,\n       14.793664, 13.668272, 23.60894 , 14.894641, 19.364086, 20.069624,\n       15.431068, 15.296583, 18.636173, 35.070995, 19.9334  , 19.038143,\n       18.956987, 23.33434 , 20.643986, 21.203894, 12.842137, 17.475874,\n       14.532636, 21.14233 , 18.698675, 12.50338 , 19.859106, 34.2525  ,\n       16.508757, 21.58697 , 28.188528, 24.401482, 21.329659, 15.382516,\n       37.384468], dtype=float32)"
     },
     "execution_count": 12,
     "metadata": {},
     "output_type": "execute_result"
    }
   ],
   "source": [
    "xg2.predict(X_test)"
   ],
   "metadata": {
    "collapsed": false,
    "pycharm": {
     "name": "#%%\n"
    }
   }
  },
  {
   "cell_type": "code",
   "execution_count": 12,
   "outputs": [],
   "source": [
    "\n"
   ],
   "metadata": {
    "collapsed": false,
    "pycharm": {
     "name": "#%%\n"
    }
   }
  }
 ],
 "metadata": {
  "kernelspec": {
   "display_name": "Python 3",
   "language": "python",
   "name": "python3"
  },
  "language_info": {
   "codemirror_mode": {
    "name": "ipython",
    "version": 3
   },
   "file_extension": ".py",
   "mimetype": "text/x-python",
   "name": "python",
   "nbconvert_exporter": "python",
   "pygments_lexer": "ipython3",
   "version": "3.7.6"
  },
  "toc": {
   "base_numbering": 1,
   "nav_menu": {},
   "number_sections": true,
   "sideBar": true,
   "skip_h1_title": false,
   "title_cell": "Table of Contents",
   "title_sidebar": "Contents",
   "toc_cell": false,
   "toc_position": {},
   "toc_section_display": true,
   "toc_window_display": false
  }
 },
 "nbformat": 4,
 "nbformat_minor": 1
}