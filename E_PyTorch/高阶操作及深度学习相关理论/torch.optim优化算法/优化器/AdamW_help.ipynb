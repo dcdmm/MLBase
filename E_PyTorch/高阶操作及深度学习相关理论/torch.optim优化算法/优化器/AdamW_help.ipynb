{
 "cells": [
  {
   "cell_type": "markdown",
   "metadata": {
    "collapsed": true,
    "pycharm": {
     "name": "#%% md\n"
    }
   },
   "source": [
    "Adam自适应学习率算法中L2正则化不像在SGD中有效\n",
    "\n",
    "### Adam算法流程图\n",
    "\n",
    "<img src=\"../../../../Other/img/adam_pytorch实现流程图.png\" style=\"width:500px;height:400px;float:bottom\">\n",
    "\n",
    "### AdamW算法流程图\n",
    "\n",
    "<img src=\"../../../../Other/img/adamw_pytorch实现流程图.png\" style=\"width:500px;height:400px;float:bottom\">"
   ]
  }
 ],
 "metadata": {
  "kernelspec": {
   "display_name": "Python 3",
   "language": "python",
   "name": "python3"
  },
  "language_info": {
   "codemirror_mode": {
    "name": "ipython",
    "version": 2
   },
   "file_extension": ".py",
   "mimetype": "text/x-python",
   "name": "python",
   "nbconvert_exporter": "python",
   "pygments_lexer": "ipython2",
   "version": "3.8.8"
  }
 },
 "nbformat": 4,
 "nbformat_minor": 0
}
