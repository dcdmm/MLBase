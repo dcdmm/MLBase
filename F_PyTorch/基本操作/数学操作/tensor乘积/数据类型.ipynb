{
 "cells": [
  {
   "cell_type": "markdown",
   "source": [
    "## 标量/scalar "
   ],
   "metadata": {
    "collapsed": false
   }
  },
  {
   "cell_type": "code",
   "execution_count": 10,
   "outputs": [
    {
     "name": "stdout",
     "output_type": "stream",
     "text": [
      "0\n",
      "torch.Size([])\n",
      "tensor(10)\n"
     ]
    }
   ],
   "source": [
    "import torch\n",
    "# 完全类似numpy/基本操作数组乘积/数据类型\n",
    "\n",
    "arr_scalar = torch.tensor(10) # 可视为一个点\n",
    "print(arr_scalar.ndim)\n",
    "print(arr_scalar.shape)\n",
    "print(arr_scalar)"
   ],
   "metadata": {
    "collapsed": false,
    "pycharm": {
     "name": "#%%\n"
    }
   }
  },
  {
   "cell_type": "markdown",
   "source": [
    "## 向量/vector"
   ],
   "metadata": {
    "collapsed": false,
    "pycharm": {
     "name": "#%% md\n"
    }
   }
  },
  {
   "cell_type": "code",
   "execution_count": 11,
   "outputs": [
    {
     "name": "stdout",
     "output_type": "stream",
     "text": [
      "1\n",
      "torch.Size([3])\n",
      "tensor([1, 2, 3])\n"
     ]
    }
   ],
   "source": [
    "arr_vector = torch.tensor([1, 2, 3]) # 可视为一条线\n",
    "print(arr_vector.ndim)\n",
    "print(arr_vector.shape)\n",
    "print(arr_vector)"
   ],
   "metadata": {
    "collapsed": false,
    "pycharm": {
     "name": "#%%\n"
    }
   }
  },
  {
   "cell_type": "markdown",
   "source": [
    "## 矩阵/matrix"
   ],
   "metadata": {
    "collapsed": false,
    "pycharm": {
     "name": "#%% md\n"
    }
   }
  },
  {
   "cell_type": "code",
   "execution_count": 12,
   "outputs": [
    {
     "name": "stdout",
     "output_type": "stream",
     "text": [
      "2\n",
      "torch.Size([2, 3])\n",
      "tensor([[1, 2, 3],\n",
      "        [2, 3, 4]])\n"
     ]
    }
   ],
   "source": [
    "arr_matrix = torch.tensor([[1, 2, 3], [2, 3, 4]]) # 可视为一个方阵\n",
    "print(arr_matrix.ndim)\n",
    "print(arr_matrix.shape)\n",
    "print(arr_matrix)"
   ],
   "metadata": {
    "collapsed": false,
    "pycharm": {
     "name": "#%%\n"
    }
   }
  },
  {
   "cell_type": "markdown",
   "source": [
    "### 高维矩阵(ndim>2)"
   ],
   "metadata": {
    "collapsed": false,
    "pycharm": {
     "name": "#%% md\n"
    }
   }
  },
  {
   "cell_type": "code",
   "source": [
    "arr_mul_matrix = torch.randn(3, 4, 5)\n",
    "print(arr_mul_matrix.ndim)\n",
    "print(arr_mul_matrix.shape)\n",
    "print(arr_mul_matrix)\n",
    "\n"
   ],
   "metadata": {
    "collapsed": false,
    "pycharm": {
     "name": "#%%\n"
    }
   },
   "execution_count": 13,
   "outputs": [
    {
     "name": "stdout",
     "output_type": "stream",
     "text": [
      "3\n",
      "torch.Size([3, 4, 5])\n",
      "tensor([[[ 0.8188,  0.0754,  0.3172,  0.4301,  0.7173],\n",
      "         [-0.6246,  0.9922,  0.9258, -0.3838,  0.1279],\n",
      "         [-0.3179,  1.4397, -0.2744,  0.7844,  2.6652],\n",
      "         [-0.1234, -0.7738, -0.9814, -0.8757,  1.3948]],\n",
      "\n",
      "        [[ 1.6794,  0.3423, -1.2142, -1.5438, -1.4325],\n",
      "         [-0.8867,  0.6123,  1.0052, -1.0002,  1.1884],\n",
      "         [-1.2811,  1.6602, -0.9681,  1.3639,  2.6110],\n",
      "         [ 0.7213,  0.5105, -0.2147,  1.7475,  2.0580]],\n",
      "\n",
      "        [[-0.1684, -0.3709,  0.4435, -0.0654,  1.1055],\n",
      "         [ 0.4677, -0.5345,  0.0869, -0.9633, -0.3453],\n",
      "         [-0.4458, -0.2539,  0.5038, -0.0383, -0.3188],\n",
      "         [-1.0052,  0.8742,  1.2509,  1.8319,  0.9378]]])\n"
     ]
    }
   ]
  }
 ],
 "metadata": {
  "kernelspec": {
   "display_name": "Python 3",
   "language": "python",
   "name": "python3"
  },
  "language_info": {
   "codemirror_mode": {
    "name": "ipython",
    "version": 2
   },
   "file_extension": ".py",
   "mimetype": "text/x-python",
   "name": "python",
   "nbconvert_exporter": "python",
   "pygments_lexer": "ipython2",
   "version": "2.7.6"
  }
 },
 "nbformat": 4,
 "nbformat_minor": 0
}