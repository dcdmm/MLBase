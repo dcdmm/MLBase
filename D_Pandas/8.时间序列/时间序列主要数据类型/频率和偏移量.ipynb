{
  "cells": [
    {
      "cell_type": "code",
      "execution_count": 1,
      "outputs": [],
      "source": "import  pandas as pd\nfrom pandas.tseries.offsets import  Hour, Minute, MonthBegin",
      "metadata": {
        "pycharm": {
          "metadata": false,
          "name": "#%%\n",
          "is_executing": false
        }
      }
    },
    {
      "cell_type": "code",
      "execution_count": 2,
      "metadata": {
        "pycharm": {
          "is_executing": false
        }
      },
      "outputs": [
        {
          "data": {
            "text/plain": "\u003cHour\u003e"
          },
          "metadata": {},
          "output_type": "execute_result",
          "execution_count": 2
        }
      ],
      "source": "hour \u003d Hour()\nhour"
    },
    {
      "cell_type": "code",
      "execution_count": 3,
      "metadata": {
        "pycharm": {
          "is_executing": false
        }
      },
      "outputs": [
        {
          "data": {
            "text/plain": "\u003c4 * Hours\u003e"
          },
          "metadata": {},
          "output_type": "execute_result",
          "execution_count": 3
        }
      ],
      "source": "# 传递一个整数来定义偏移量的倍数\nfour_hours \u003d Hour(4)\nfour_hours"
    },
    {
      "cell_type": "code",
      "execution_count": 4,
      "metadata": {
        "pycharm": {
          "is_executing": false
        }
      },
      "outputs": [
        {
          "data": {
            "text/plain": "\u003c5 * MonthBegins\u003e"
          },
          "metadata": {},
          "output_type": "execute_result",
          "execution_count": 4
        }
      ],
      "source": "six_Monthbegin \u003d MonthBegin(5)\nsix_Monthbegin"
    },
    {
      "cell_type": "code",
      "execution_count": 5,
      "outputs": [],
      "source": "from pandas.tseries.offsets import  YearBegin, YearEnd\nfrom datetime import  datetime\n\nnow \u003d datetime(2011, 11, 17)",
      "metadata": {
        "pycharm": {
          "metadata": false,
          "name": "#%%\n",
          "is_executing": false
        }
      }
    },
    {
      "cell_type": "code",
      "execution_count": 6,
      "outputs": [
        {
          "data": {
            "text/plain": "Timestamp(\u00272012-01-01 00:00:00\u0027)"
          },
          "metadata": {},
          "output_type": "execute_result",
          "execution_count": 6
        }
      ],
      "source": "now + YearBegin() # 偏移至calendar year begin",
      "metadata": {
        "pycharm": {
          "metadata": false,
          "name": "#%%\n",
          "is_executing": false
        }
      }
    },
    {
      "cell_type": "code",
      "execution_count": 7,
      "outputs": [
        {
          "data": {
            "text/plain": "Timestamp(\u00272011-12-31 00:00:00\u0027)"
          },
          "metadata": {},
          "output_type": "execute_result",
          "execution_count": 7
        }
      ],
      "source": "now + YearEnd() # 偏移至calendar year end",
      "metadata": {
        "pycharm": {
          "metadata": false,
          "name": "#%%\n",
          "is_executing": false
        }
      }
    },
    {
      "cell_type": "code",
      "execution_count": 8,
      "outputs": [
        {
          "data": {
            "text/plain": "DatetimeIndex([\u00272000-01-01 00:00:00\u0027, \u00272000-01-01 04:00:00\u0027,\n               \u00272000-01-01 08:00:00\u0027, \u00272000-01-01 12:00:00\u0027,\n               \u00272000-01-01 16:00:00\u0027, \u00272000-01-01 20:00:00\u0027,\n               \u00272000-01-02 00:00:00\u0027, \u00272000-01-02 04:00:00\u0027,\n               \u00272000-01-02 08:00:00\u0027, \u00272000-01-02 12:00:00\u0027,\n               \u00272000-01-02 16:00:00\u0027, \u00272000-01-02 20:00:00\u0027,\n               \u00272000-01-03 00:00:00\u0027, \u00272000-01-03 04:00:00\u0027,\n               \u00272000-01-03 08:00:00\u0027, \u00272000-01-03 12:00:00\u0027,\n               \u00272000-01-03 16:00:00\u0027, \u00272000-01-03 20:00:00\u0027],\n              dtype\u003d\u0027datetime64[ns]\u0027, freq\u003d\u00274H\u0027)"
          },
          "metadata": {},
          "output_type": "execute_result",
          "execution_count": 8
        }
      ],
      "source": "pd.date_range(\u00272000-01-01\u0027, \u00272000-01-03 23:59\u0027, freq\u003dfour_hours)",
      "metadata": {
        "pycharm": {
          "metadata": false,
          "name": "#%%\n",
          "is_executing": false
        }
      }
    },
    {
      "cell_type": "code",
      "execution_count": 9,
      "outputs": [
        {
          "data": {
            "text/plain": "DatetimeIndex([\u00272000-01-01 00:00:00\u0027, \u00272000-01-01 04:00:00\u0027,\n               \u00272000-01-01 08:00:00\u0027, \u00272000-01-01 12:00:00\u0027,\n               \u00272000-01-01 16:00:00\u0027, \u00272000-01-01 20:00:00\u0027,\n               \u00272000-01-02 00:00:00\u0027, \u00272000-01-02 04:00:00\u0027,\n               \u00272000-01-02 08:00:00\u0027, \u00272000-01-02 12:00:00\u0027,\n               \u00272000-01-02 16:00:00\u0027, \u00272000-01-02 20:00:00\u0027,\n               \u00272000-01-03 00:00:00\u0027, \u00272000-01-03 04:00:00\u0027,\n               \u00272000-01-03 08:00:00\u0027, \u00272000-01-03 12:00:00\u0027,\n               \u00272000-01-03 16:00:00\u0027, \u00272000-01-03 20:00:00\u0027],\n              dtype\u003d\u0027datetime64[ns]\u0027, freq\u003d\u00274H\u0027)"
          },
          "metadata": {},
          "output_type": "execute_result",
          "execution_count": 9
        }
      ],
      "source": "# 在大部分应用中,不需要显式地创建这些对象,而是使用字符串别名,如\u0027H\u0027或4\u0027H\u0027.在基础频率前放一个整数可以生成倍数\npd.date_range(\u00272000-01-01\u0027, \u00272000-01-03 23:59\u0027, freq\u003d\u00274H\u0027) # 与上等价",
      "metadata": {
        "pycharm": {
          "metadata": false,
          "name": "#%%\n",
          "is_executing": false
        }
      }
    },
    {
      "cell_type": "code",
      "execution_count": 10,
      "metadata": {
        "pycharm": {
          "is_executing": false
        }
      },
      "outputs": [
        {
          "data": {
            "text/plain": "DatetimeIndex([\u00272000-01-01 00:00:00\u0027, \u00272000-01-01 01:30:00\u0027,\n               \u00272000-01-01 03:00:00\u0027, \u00272000-01-01 04:30:00\u0027,\n               \u00272000-01-01 06:00:00\u0027, \u00272000-01-01 07:30:00\u0027,\n               \u00272000-01-01 09:00:00\u0027, \u00272000-01-01 10:30:00\u0027,\n               \u00272000-01-01 12:00:00\u0027, \u00272000-01-01 13:30:00\u0027],\n              dtype\u003d\u0027datetime64[ns]\u0027, freq\u003d\u002790T\u0027)"
          },
          "metadata": {},
          "output_type": "execute_result",
          "execution_count": 10
        }
      ],
      "source": "# 某些偏移之间可以通过加法进行联合\npd.date_range(\u00272000-01-01\u0027, periods\u003d10, freq\u003dHour(1) + Minute(30))"
    },
    {
      "cell_type": "code",
      "execution_count": 11,
      "metadata": {
        "pycharm": {
          "is_executing": false
        }
      },
      "outputs": [
        {
          "data": {
            "text/plain": "DatetimeIndex([\u00272000-01-01 00:00:00\u0027, \u00272000-01-01 01:30:00\u0027,\n               \u00272000-01-01 03:00:00\u0027, \u00272000-01-01 04:30:00\u0027,\n               \u00272000-01-01 06:00:00\u0027, \u00272000-01-01 07:30:00\u0027,\n               \u00272000-01-01 09:00:00\u0027, \u00272000-01-01 10:30:00\u0027,\n               \u00272000-01-01 12:00:00\u0027, \u00272000-01-01 13:30:00\u0027],\n              dtype\u003d\u0027datetime64[ns]\u0027, freq\u003d\u002790T\u0027)"
          },
          "metadata": {},
          "output_type": "execute_result",
          "execution_count": 11
        }
      ],
      "source": "pd.date_range(\u00272000-01-01\u0027, periods\u003d10, freq\u003d\u00271H30T\u0027) # 与上等价"
    },
    {
      "cell_type": "code",
      "execution_count": 12,
      "metadata": {
        "pycharm": {
          "is_executing": false
        }
      },
      "outputs": [
        {
          "data": {
            "text/plain": "DatetimeIndex([\u00272012-06-30\u0027, \u00272013-06-30\u0027, \u00272014-06-30\u0027, \u00272015-06-30\u0027], dtype\u003d\u0027datetime64[ns]\u0027, freq\u003d\u0027A-JUN\u0027)"
          },
          "metadata": {},
          "output_type": "execute_result",
          "execution_count": 12
        }
      ],
      "source": "pd.date_range(\u00272012\u0027, \u00272016\u0027, freq\u003d\u0027A-JUN\u0027) # annual frequency, anchored end of June"
    },
    {
      "cell_type": "code",
      "execution_count": 13,
      "outputs": [
        {
          "data": {
            "text/plain": "DatetimeIndex([\u00272012-03-31\u0027, \u00272012-06-30\u0027, \u00272012-09-30\u0027, \u00272012-12-31\u0027,\n               \u00272013-03-31\u0027, \u00272013-06-30\u0027, \u00272013-09-30\u0027, \u00272013-12-31\u0027,\n               \u00272014-03-31\u0027, \u00272014-06-30\u0027, \u00272014-09-30\u0027, \u00272014-12-31\u0027,\n               \u00272015-03-31\u0027, \u00272015-06-30\u0027, \u00272015-09-30\u0027, \u00272015-12-31\u0027],\n              dtype\u003d\u0027datetime64[ns]\u0027, freq\u003d\u0027Q-JUN\u0027)"
          },
          "metadata": {},
          "output_type": "execute_result",
          "execution_count": 13
        }
      ],
      "source": "pd.date_range(\u00272012\u0027, \u00272016\u0027, freq\u003d\u0027Q-JUN\u0027) # quarterly frequency, year ends in January",
      "metadata": {
        "pycharm": {
          "metadata": false,
          "name": "#%%\n",
          "is_executing": false
        }
      }
    },
    {
      "cell_type": "code",
      "execution_count": 14,
      "outputs": [
        {
          "data": {
            "text/plain": "DatetimeIndex([\u00272012-01-01\u0027, \u00272012-01-08\u0027, \u00272012-01-15\u0027, \u00272012-01-22\u0027,\n               \u00272012-01-29\u0027, \u00272012-02-05\u0027, \u00272012-02-12\u0027, \u00272012-02-19\u0027,\n               \u00272012-02-26\u0027, \u00272012-03-04\u0027, \u00272012-03-11\u0027, \u00272012-03-18\u0027,\n               \u00272012-03-25\u0027, \u00272012-04-01\u0027, \u00272012-04-08\u0027, \u00272012-04-15\u0027,\n               \u00272012-04-22\u0027, \u00272012-04-29\u0027, \u00272012-05-06\u0027, \u00272012-05-13\u0027,\n               \u00272012-05-20\u0027, \u00272012-05-27\u0027, \u00272012-06-03\u0027, \u00272012-06-10\u0027,\n               \u00272012-06-17\u0027, \u00272012-06-24\u0027, \u00272012-07-01\u0027, \u00272012-07-08\u0027,\n               \u00272012-07-15\u0027, \u00272012-07-22\u0027, \u00272012-07-29\u0027, \u00272012-08-05\u0027,\n               \u00272012-08-12\u0027, \u00272012-08-19\u0027, \u00272012-08-26\u0027],\n              dtype\u003d\u0027datetime64[ns]\u0027, freq\u003d\u0027W-SUN\u0027)"
          },
          "metadata": {},
          "output_type": "execute_result",
          "execution_count": 14
        }
      ],
      "source": "pd.date_range(\u00272012-01-01\u0027, \u00272012-09-01\u0027, freq\u003d\u0027W-SUN\u0027) # weekly frequency (Sundays). Same as ‘W’",
      "metadata": {
        "pycharm": {
          "metadata": false,
          "name": "#%%\n",
          "is_executing": false
        }
      }
    },
    {
      "cell_type": "code",
      "execution_count": 15,
      "outputs": [
        {
          "data": {
            "text/plain": "DatetimeIndex([], dtype\u003d\u0027datetime64[ns]\u0027, freq\u003d\u0027A-DEC\u0027)"
          },
          "metadata": {},
          "output_type": "execute_result",
          "execution_count": 15
        }
      ],
      "source": "pd.date_range(\u00272012-01-01\u0027, \u00272012-09-01\u0027, freq\u003d\u0027A-DEC\u0027) # annual frequency, anchored end of December. Same as ‘A’",
      "metadata": {
        "pycharm": {
          "metadata": false,
          "name": "#%%\n",
          "is_executing": false
        }
      }
    },
    {
      "cell_type": "code",
      "execution_count": 16,
      "outputs": [
        {
          "data": {
            "text/plain": "DatetimeIndex([\u00272012-01-20\u0027, \u00272012-02-17\u0027, \u00272012-03-16\u0027, \u00272012-04-20\u0027,\n               \u00272012-05-18\u0027, \u00272012-06-15\u0027, \u00272012-07-20\u0027, \u00272012-08-17\u0027],\n              dtype\u003d\u0027datetime64[ns]\u0027, freq\u003d\u0027WOM-3FRI\u0027)"
          },
          "metadata": {},
          "output_type": "execute_result",
          "execution_count": 16
        }
      ],
      "source": "# 月中某星期(week of month)的日期是一个有用的频率类,以\u0027WOM\u0027开始\npd.date_range(\u00272012-01-01\u0027, \u00272012-09-01\u0027, freq\u003d\u0027WOM-3FRI\u0027) # 生成每月第三个星期五这样的日期",
      "metadata": {
        "pycharm": {
          "metadata": false,
          "name": "#%%\n",
          "is_executing": false
        }
      }
    },
    {
      "cell_type": "code",
      "execution_count": 20,
      "outputs": [
        {
          "data": {
            "text/plain": "DatetimeIndex([\u00272000-01-31\u0027, \u00272000-02-29\u0027, \u00272000-03-31\u0027, \u00272000-04-30\u0027,\n               \u00272000-05-31\u0027, \u00272000-06-30\u0027, \u00272000-07-31\u0027, \u00272000-08-31\u0027,\n               \u00272000-09-30\u0027, \u00272000-10-31\u0027, \u00272000-11-30\u0027],\n              dtype\u003d\u0027datetime64[ns]\u0027, freq\u003d\u0027M\u0027)"
          },
          "metadata": {},
          "output_type": "execute_result",
          "execution_count": 20
        }
      ],
      "source": "pd.date_range(\u00272000-01-01\u0027, \u00272000-12-01\u0027, freq\u003d\u0027M\u0027)",
      "metadata": {
        "pycharm": {
          "metadata": false,
          "name": "#%%\n",
          "is_executing": false
        }
      }
    },
    {
      "cell_type": "code",
      "execution_count": 21,
      "outputs": [
        {
          "data": {
            "text/plain": "DatetimeIndex([\u00272000-01-31\u0027, \u00272000-02-29\u0027, \u00272000-03-31\u0027, \u00272000-04-28\u0027,\n               \u00272000-05-31\u0027, \u00272000-06-30\u0027, \u00272000-07-31\u0027, \u00272000-08-31\u0027,\n               \u00272000-09-29\u0027, \u00272000-10-31\u0027, \u00272000-11-30\u0027],\n              dtype\u003d\u0027datetime64[ns]\u0027, freq\u003d\u0027BM\u0027)"
          },
          "metadata": {},
          "output_type": "execute_result",
          "execution_count": 21
        }
      ],
      "source": "pd.date_range(\u00272000-01-01\u0027, \u00272000-12-01\u0027, freq\u003d\u0027BM\u0027) # 每个月最后业务日期的时间索引",
      "metadata": {
        "pycharm": {
          "metadata": false,
          "name": "#%%\n",
          "is_executing": false
        }
      }
    },
    {
      "cell_type": "code",
      "execution_count": 23,
      "outputs": [
        {
          "data": {
            "text/plain": "PeriodIndex([\u00272000-01\u0027, \u00272000-02\u0027, \u00272000-03\u0027, \u00272000-04\u0027, \u00272000-05\u0027, \u00272000-06\u0027,\n             \u00272000-07\u0027, \u00272000-08\u0027, \u00272000-09\u0027, \u00272000-10\u0027, \u00272000-11\u0027, \u00272000-12\u0027],\n            dtype\u003d\u0027period[M]\u0027, freq\u003d\u0027M\u0027)"
          },
          "metadata": {},
          "output_type": "execute_result",
          "execution_count": 23
        }
      ],
      "source": "pd.period_range(\u00272000-01-01\u0027, \u00272000-12-01\u0027, freq\u003d\u0027M\u0027)",
      "metadata": {
        "pycharm": {
          "metadata": false,
          "name": "#%%\n",
          "is_executing": false
        }
      }
    },
    {
      "cell_type": "code",
      "execution_count": null,
      "outputs": [],
      "source": "\n",
      "metadata": {
        "pycharm": {
          "metadata": false,
          "name": "#%%\n"
        }
      }
    }
  ],
  "metadata": {
    "kernelspec": {
      "name": "python3",
      "language": "python",
      "display_name": "Python 3"
    },
    "language_info": {
      "codemirror_mode": {
        "name": "ipython",
        "version": 2
      },
      "file_extension": ".py",
      "mimetype": "text/x-python",
      "name": "python",
      "nbconvert_exporter": "python",
      "pygments_lexer": "ipython2",
      "version": "2.7.6"
    },
    "stem_cell": {
      "cell_type": "raw",
      "source": "# 频率和偏移量",
      "metadata": {
        "pycharm": {
          "metadata": false
        }
      }
    }
  },
  "nbformat": 4,
  "nbformat_minor": 0
}