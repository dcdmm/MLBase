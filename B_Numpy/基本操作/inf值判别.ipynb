{
 "cells": [
  {
   "cell_type": "code",
   "execution_count": 21,
   "metadata": {
    "collapsed": true
   },
   "outputs": [],
   "source": [
    "import numpy as np"
   ]
  },
  {
   "cell_type": "code",
   "execution_count": 22,
   "outputs": [
    {
     "name": "stderr",
     "output_type": "stream",
     "text": [
      "C:\\Users\\duanm\\AppData\\Local\\Temp/ipykernel_20096/4021490111.py:4: RuntimeWarning: divide by zero encountered in true_divide\n",
      "  result = arr1 / arr2\n",
      "C:\\Users\\duanm\\AppData\\Local\\Temp/ipykernel_20096/4021490111.py:4: RuntimeWarning: invalid value encountered in true_divide\n",
      "  result = arr1 / arr2\n"
     ]
    },
    {
     "data": {
      "text/plain": "array([0.33333333, 0.        ,        nan,        inf])"
     },
     "execution_count": 22,
     "metadata": {},
     "output_type": "execute_result"
    }
   ],
   "source": [
    "arr1 = np.array([1, 0, 0, 4])\n",
    "arr2 = np.array([3, 4, 0, 0])\n",
    "\n",
    "result = arr1 / arr2\n",
    "result"
   ],
   "metadata": {
    "collapsed": false,
    "pycharm": {
     "name": "#%%\n"
    }
   }
  },
  {
   "cell_type": "markdown",
   "source": [
    "### 判断是否为inf(inf或-inf)值\n",
    "* 推荐numpy/float中"
   ],
   "metadata": {
    "collapsed": false,
    "pycharm": {
     "name": "#%% md\n"
    }
   }
  },
  {
   "cell_type": "code",
   "execution_count": 24,
   "outputs": [
    {
     "name": "stdout",
     "output_type": "stream",
     "text": [
      "inf\n",
      "<class 'numpy.float64'>\n",
      "True\n",
      "True\n",
      "True\n"
     ]
    }
   ],
   "source": [
    "print(result[3])\n",
    "print(type(result[3]))  # 单个值\n",
    "\n",
    "print(np.isinf(np.inf))\n",
    "print(np.isinf(result[3]))\n",
    "print(np.isinf(float('inf')))"
   ],
   "metadata": {
    "collapsed": false,
    "pycharm": {
     "name": "#%%\n"
    }
   }
  },
  {
   "cell_type": "code",
   "execution_count": 25,
   "outputs": [
    {
     "data": {
      "text/plain": "array([False, False, False,  True])"
     },
     "execution_count": 25,
     "metadata": {},
     "output_type": "execute_result"
    }
   ],
   "source": [
    "np.isinf(result)"
   ],
   "metadata": {
    "collapsed": false,
    "pycharm": {
     "name": "#%%\n"
    }
   }
  }
 ],
 "metadata": {
  "kernelspec": {
   "display_name": "Python 3",
   "language": "python",
   "name": "python3"
  },
  "language_info": {
   "codemirror_mode": {
    "name": "ipython",
    "version": 2
   },
   "file_extension": ".py",
   "mimetype": "text/x-python",
   "name": "python",
   "nbconvert_exporter": "python",
   "pygments_lexer": "ipython2",
   "version": "2.7.6"
  }
 },
 "nbformat": 4,
 "nbformat_minor": 0
}