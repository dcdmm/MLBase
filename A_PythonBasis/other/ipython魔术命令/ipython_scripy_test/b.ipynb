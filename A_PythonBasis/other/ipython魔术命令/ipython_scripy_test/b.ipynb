{
 "cells": [
  {
   "cell_type": "code",
   "execution_count": 72,
   "id": "699515ebc5735933",
   "metadata": {
    "ExecuteTime": {
     "end_time": "2024-04-10T09:12:55.955430Z",
     "start_time": "2024-04-10T09:12:55.943095Z"
    }
   },
   "outputs": [],
   "source": [
    "%%capture\n",
    "\n",
    "import os\n",
    "\n",
    "# 分情况执行不同文件\n",
    "if os.getcwd().endswith('ipython_scripy_test'):\n",
    "    get_ipython().run_line_magic('run', 'a.ipynb')  # 相当于%run a.ipynb\n",
    "else:\n",
    "    %run ipython_scripy_test/a.ipynb\n",
    "    get_ipython().run_line_magic('run', 'ipython_scripy_test/a.ipynb')"
   ]
  },
  {
   "cell_type": "code",
   "execution_count": 73,
   "id": "d90b578a45b61a00",
   "metadata": {
    "ExecuteTime": {
     "end_time": "2024-04-10T09:12:55.971646Z",
     "start_time": "2024-04-10T09:12:55.955935Z"
    }
   },
   "outputs": [],
   "source": [
    "def testb():\n",
    "    a_value = testa()\n",
    "    return a + a_value"
   ]
  },
  {
   "cell_type": "code",
   "execution_count": 74,
   "id": "3801c8b636180c32",
   "metadata": {
    "ExecuteTime": {
     "end_time": "2024-04-10T09:12:55.984269Z",
     "start_time": "2024-04-10T09:12:55.973168Z"
    }
   },
   "outputs": [
    {
     "data": {
      "text/plain": [
       "200"
      ]
     },
     "execution_count": 74,
     "metadata": {},
     "output_type": "execute_result"
    }
   ],
   "source": [
    "b = testb()\n",
    "b"
   ]
  }
 ],
 "metadata": {
  "kernelspec": {
   "display_name": "Python 3",
   "language": "python",
   "name": "python3"
  },
  "language_info": {
   "codemirror_mode": {
    "name": "ipython",
    "version": 3
   },
   "file_extension": ".py",
   "mimetype": "text/x-python",
   "name": "python",
   "nbconvert_exporter": "python",
   "pygments_lexer": "ipython3",
   "version": "3.10.12"
  }
 },
 "nbformat": 4,
 "nbformat_minor": 5
}
