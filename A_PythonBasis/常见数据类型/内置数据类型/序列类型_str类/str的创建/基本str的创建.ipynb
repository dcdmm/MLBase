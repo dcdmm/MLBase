{
 "cells": [
  {
   "cell_type": "markdown",
   "metadata": {},
   "source": [
    "Textual data in Python is handled with str objects, or strings. Strings are immutable sequences of Unicode code points."
   ]
  },
  {
   "cell_type": "code",
   "metadata": {
    "ExecuteTime": {
     "end_time": "2024-12-25T10:02:00.309148Z",
     "start_time": "2024-12-25T10:02:00.293667Z"
    }
   },
   "source": [
    "name_0 = 'duanchao'\n",
    "name_1 = \"duanchao\"  # 字符串可以用单引号或双引号括起来\n",
    "print(name_1)\n",
    "\n",
    "poem = \"\"\"\n",
    "hello world,\n",
    "hello python\n",
    "    hello c++\n",
    "hello rust\n",
    "    hello java\"\"\"  # 三引号表示多行字符串(每两行间有一个隐藏的换行符)\n",
    "print(poem)\n",
    "\n",
    "poem = \"\"\"\\\n",
    "hello world,\\\n",
    "hello python\n",
    "    hello c++\n",
    "hello rust\\\n",
    "    hello java\\\n",
    "\"\"\"  # 三引号表示多行字符串(行末尾使用转义字符串'\\'忽略换行符)\n",
    "print(poem)\n"
   ],
   "outputs": [
    {
     "name": "stdout",
     "output_type": "stream",
     "text": [
      "duanchao\n",
      "\n",
      "hello world,\n",
      "hello python\n",
      "    hello c++\n",
      "hello rust\n",
      "    hello java\n",
      "hello world,hello python\n",
      "    hello c++\n",
      "hello rust    hello java\n"
     ]
    }
   ],
   "execution_count": 49
  },
  {
   "cell_type": "code",
   "metadata": {
    "collapsed": false,
    "pycharm": {
     "name": "#%%\n"
    },
    "ExecuteTime": {
     "end_time": "2024-12-25T10:02:00.419765Z",
     "start_time": "2024-12-25T10:02:00.403854Z"
    }
   },
   "source": [
    "example0_ = \"dcdmm\" \" come on\"\\\n",
    "            \"dcgo\" \\\n",
    "            \"hello world\"\n",
    "example0 = (\"dcdmm\" \" come on\"\n",
    "            \"dcgo\"\n",
    "            \"hello world\")\n",
    "\n",
    "print(example0_, type(example0_))  # 字符串;\n",
    "\n",
    "print(example0, type(example0))  # 字符串;与上等价(更加简洁)\n",
    "\n",
    "example1 = (\"dcgo\",)\n",
    "\n",
    "print(example1, type(example1))  # 元组"
   ],
   "outputs": [
    {
     "name": "stdout",
     "output_type": "stream",
     "text": [
      "dcdmm come ondcgohello world <class 'str'>\n",
      "dcdmm come ondcgohello world <class 'str'>\n",
      "('dcgo',) <class 'tuple'>\n"
     ]
    }
   ],
   "execution_count": 50
  },
  {
   "cell_type": "code",
   "metadata": {
    "pycharm": {
     "metadata": false,
     "name": "#%%\n"
    },
    "ExecuteTime": {
     "end_time": "2024-12-25T10:02:00.457057Z",
     "start_time": "2024-12-25T10:02:00.435842Z"
    }
   },
   "source": [
    "# 字符串中带双引号\n",
    "print(\"duanchao is \\\"good\\\"\")  # 转义字符\\对\"进行转义\n",
    "print(\"\"\"duanchao is \\\"good\\\"\"\"\")  # 转义字符\\对\"进行转义\n",
    "print('duanchao is \"good\"')  # 这样也可输出\"\n",
    "\n",
    "# 字符串中带单引号\n",
    "print('duanchao is \\'good\\'')  # 转义字符'\\'对'进行转义\n",
    "print(\"duanchao is 'good'\")  # 这样也可输出'\n",
    "print(\"\"\"duanchao is 'good'\"\"\")  # 这样也可输出'"
   ],
   "outputs": [
    {
     "name": "stdout",
     "output_type": "stream",
     "text": [
      "duanchao is \"good\"\n",
      "duanchao is \"good\"\n",
      "duanchao is \"good\"\n",
      "duanchao is 'good'\n",
      "duanchao is 'good'\n",
      "duanchao is 'good'\n"
     ]
    }
   ],
   "execution_count": 51
  },
  {
   "cell_type": "code",
   "metadata": {
    "pycharm": {
     "metadata": false,
     "name": "#%%\n"
    },
    "ExecuteTime": {
     "end_time": "2024-12-25T10:02:00.504681Z",
     "start_time": "2024-12-25T10:02:00.493723Z"
    }
   },
   "source": [
    "str(123)  # str(object='') -> str"
   ],
   "outputs": [
    {
     "data": {
      "text/plain": [
       "'123'"
      ]
     },
     "execution_count": 52,
     "metadata": {},
     "output_type": "execute_result"
    }
   ],
   "execution_count": 52
  },
  {
   "cell_type": "code",
   "metadata": {
    "collapsed": false,
    "pycharm": {
     "name": "#%%\n"
    },
    "ExecuteTime": {
     "end_time": "2024-12-25T10:02:00.608263Z",
     "start_time": "2024-12-25T10:02:00.593857Z"
    }
   },
   "source": [
    "dict_string = {'runoob': 'runoob.com', 'google': 'google.com'}\n",
    "str(dict_string)"
   ],
   "outputs": [
    {
     "data": {
      "text/plain": [
       "\"{'runoob': 'runoob.com', 'google': 'google.com'}\""
      ]
     },
     "execution_count": 53,
     "metadata": {},
     "output_type": "execute_result"
    }
   ],
   "execution_count": 53
  },
  {
   "cell_type": "code",
   "metadata": {
    "collapsed": false,
    "pycharm": {
     "name": "#%%\n"
    },
    "ExecuteTime": {
     "end_time": "2024-12-25T10:02:00.707201Z",
     "start_time": "2024-12-25T10:02:00.691546Z"
    }
   },
   "source": [
    "lst = [1, 2, 3, 4, '5']\n",
    "str(lst)"
   ],
   "outputs": [
    {
     "data": {
      "text/plain": [
       "\"[1, 2, 3, 4, '5']\""
      ]
     },
     "execution_count": 54,
     "metadata": {},
     "output_type": "execute_result"
    }
   ],
   "execution_count": 54
  }
 ],
 "metadata": {
  "kernelspec": {
   "display_name": "Python 3",
   "language": "python",
   "name": "python3"
  },
  "language_info": {
   "codemirror_mode": {
    "name": "ipython",
    "version": 3
   },
   "file_extension": ".py",
   "mimetype": "text/x-python",
   "name": "python",
   "nbconvert_exporter": "python",
   "pygments_lexer": "ipython3",
   "version": "3.11.7"
  }
 },
 "nbformat": 4,
 "nbformat_minor": 0
}
