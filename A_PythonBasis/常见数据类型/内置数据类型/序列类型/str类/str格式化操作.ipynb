{
 "cells": [
  {
   "cell_type": "code",
   "execution_count": null,
   "outputs": [],
   "source": [
    "print(\"{} {}\".format(\"hello\", \"world\") )      # 不设置指定位置,按默认顺序\n",
    "print(\"{0} {1}\".format(\"hello\", \"world\"))     # 设置指定位置\n",
    "print(\"{1} {0} {1}\".format(\"hello\", \"world\")) "
   ],
   "metadata": {
    "collapsed": false,
    "pycharm": {
     "name": "#%%\n"
    }
   }
  },
  {
   "cell_type": "code",
   "execution_count": 86,
   "outputs": [
    {
     "name": "stdout",
     "text": [
      "名字：段超, 地址 china\n网站名：duanmengmeng, 地址 USA\n"
     ],
     "output_type": "stream"
    }
   ],
   "source": [
    "print(\"名字：{name}, 地址 {url}\".format(name=\"段超\", url=\"china\"))\n",
    "# 通过字典设置参数\n",
    "site = {\"name\": \"duanmengmeng\", \"url\": \"USA\"}\n",
    "print(\"网站名：{name}, 地址 {url}\".format(**site))"
   ],
   "metadata": {
    "pycharm": {
     "metadata": false,
     "name": "#%%\n",
     "is_executing": false
    }
   }
  },
  {
   "cell_type": "code",
   "execution_count": 3,
   "outputs": [
    {
     "name": "stdout",
     "text": [
      "value 为: 6\n"
     ],
     "output_type": "stream"
    }
   ],
   "source": [
    "class AssignValue(object):\n",
    "    def __init__(self, value):\n",
    "        self.value = value\n",
    "my_value = AssignValue(6)\n",
    "print('value 为: {0.value}'.format(my_value))  # 向str.format()传入对象"
   ],
   "metadata": {
    "pycharm": {
     "metadata": false,
     "name": "#%%\n",
     "is_executing": false
    }
   }
  },
  {
   "cell_type": "code",
   "execution_count": 1,
   "outputs": [
    {
     "name": "stdout",
     "text": [
      "1.1556\n+3.14\n005\n5xxx\n500,000\n123.50%\n1.00e+09\n        12\n12        \n    12    \n1011\n11\n13\nb\nrunoob 对应的位置是 {0}\n"
     ],
     "output_type": "stream"
    }
   ],
   "source": [
    "s = 1.15555\n",
    "print(\"{:.4f}\".format(s)) # 保留小数点后四位(四舍五入)\n",
    "\n",
    "print(\"{:+.2f}\".format(3.1415926)) # 带符号保留小数点后两位\n",
    "\n",
    "print(\"{:0>3d}\".format(5)) # 数字补零 (填充左边,宽度为2)\n",
    "\n",
    "print(\"{:x<4d}\".format(5)) # 数字补x (填充右边,宽度为4)\n",
    "\n",
    "print(\"{:,}\".format(500000)) # 以逗号分隔的数字格式\n",
    "\n",
    "print(\"{:.2%}\".format(1.235)) # 以逗号分隔的数字格式\n",
    "\n",
    "print(\"{:.2e}\".format(1000000000)) # 以逗号分隔的数字格式\n",
    "\n",
    "print(\"{:10d}\".format(12)) # 右对齐 (默认, 宽度为10)\n",
    "\n",
    "print(\"{:<10d}\".format(12)) # 左对齐 (宽度为10)\n",
    "\n",
    "print(\"{:^10d}\".format(12)) # 中间对齐 (宽度为10)\n",
    "\n",
    "lis = ['{:b}',  # 二进制\n",
    "       '{:d}',  # 十进制\n",
    "       '{:o}',  # 八进制\n",
    "       '{:x}']  # 十六进制\n",
    "for i in lis:\n",
    "    print(i.format(11))\n",
    "\n",
    "print(\"{0} 对应的位置是 {{0}}\".format(\"runoob\")) # 大括号/{}转义大括号"
   ],
   "metadata": {
    "pycharm": {
     "metadata": false,
     "name": "#%%\n",
     "is_executing": false
    }
   }
  },
  {
   "cell_type": "code",
   "execution_count": null,
   "outputs": [],
   "source": "\n",
   "metadata": {
    "pycharm": {
     "metadata": false,
     "name": "#%%\n"
    }
   }
  }
 ],
 "metadata": {
  "kernelspec": {
   "name": "python3",
   "language": "python",
   "display_name": "Python 3"
  },
  "language_info": {
   "codemirror_mode": {
    "name": "ipython",
    "version": 2
   },
   "file_extension": ".py",
   "mimetype": "text/x-python",
   "name": "python",
   "nbconvert_exporter": "python",
   "pygments_lexer": "ipython2",
   "version": "2.7.6"
  },
  "pycharm": {
   "stem_cell": {
    "cell_type": "raw",
    "source": [],
    "metadata": {
     "collapsed": false
    }
   }
  }
 },
 "nbformat": 4,
 "nbformat_minor": 0
}