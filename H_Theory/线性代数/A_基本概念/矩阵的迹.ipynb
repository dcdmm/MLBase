{
 "cells": [
  {
   "cell_type": "markdown",
   "source": [
    "<font color='red' size=4>公式:</font>   \n",
    "$$ \\mathrm{tr}A = \\sum_{i=1}^{n} a_{ii} $$\n",
    "\n",
    "<font color='red' size=4>性质:</font>\n",
    "1. 若$A$与$B$均为$n \\times n $矩阵,则$\\mathrm{tr}(A \\pm B) =\\mathrm{tr}(A) \\pm \\mathrm{tr}(B) $\n",
    "2. 若$A \\in \\mathbb{C}^{m \\times n }, B \\in \\mathbb{C}^{n \\times m}$,则$\\mathrm{tr}(AB) = \\mathrm{tr}(BA)$\n",
    "3. $  \\mathrm{tr}(ABC) =  \\mathrm{tr}(BCA) = \\mathrm{tr}(CAB)$"
   ],
   "metadata": {
    "pycharm": {
     "metadata": false,
     "name": "#%% md\n"
    }
   }
  },
  {
   "cell_type": "code",
   "execution_count": 1,
   "metadata": {
    "collapsed": true,
    "pycharm": {
     "is_executing": false
    }
   },
   "outputs": [
    {
     "data": {
      "text/plain": "array([6, 8])"
     },
     "metadata": {},
     "output_type": "execute_result",
     "execution_count": 1
    }
   ],
   "source": "import  numpy as np\na = np.arange(8).reshape((2,2,2))\nnp.trace(a)"
  },
  {
   "cell_type": "code",
   "execution_count": 3,
   "outputs": [
    {
     "name": "stdout",
     "text": [
      "[[1. 0. 0.]\n [0. 1. 0.]\n [0. 0. 1.]]\n3.0\n"
     ],
     "output_type": "stream"
    }
   ],
   "source": "b = np.eye(3)\nprint(b)\nprint(np.trace(b))",
   "metadata": {
    "pycharm": {
     "metadata": false,
     "name": "#%%\n",
     "is_executing": false
    }
   }
  },
  {
   "cell_type": "code",
   "execution_count": null,
   "outputs": [],
   "source": "\n",
   "metadata": {
    "pycharm": {
     "metadata": false,
     "name": "#%%\n"
    }
   }
  }
 ],
 "metadata": {
  "language_info": {
   "codemirror_mode": {
    "name": "ipython",
    "version": 2
   },
   "file_extension": ".py",
   "mimetype": "text/x-python",
   "name": "python",
   "nbconvert_exporter": "python",
   "pygments_lexer": "ipython2",
   "version": "2.7.6"
  },
  "kernelspec": {
   "name": "python3",
   "language": "python",
   "display_name": "Python 3"
  },
  "stem_cell": {
   "cell_type": "raw",
   "source": "",
   "metadata": {
    "pycharm": {
     "metadata": false
    }
   }
  }
 },
 "nbformat": 4,
 "nbformat_minor": 0
}