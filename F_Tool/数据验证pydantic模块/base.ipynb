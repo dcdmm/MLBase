{
 "cells": [
  {
   "cell_type": "code",
   "id": "9ddaa704b4dffac6",
   "metadata": {
    "ExecuteTime": {
     "end_time": "2025-08-28T03:00:47.456892Z",
     "start_time": "2025-08-28T03:00:47.453422Z"
    }
   },
   "source": [
    "from pydantic import BaseModel, ValidationError\n",
    "from typing import List, Optional, Set"
   ],
   "outputs": [],
   "execution_count": 16
  },
  {
   "cell_type": "code",
   "id": "9ae20aeb93cbf92f",
   "metadata": {
    "ExecuteTime": {
     "end_time": "2025-08-28T03:00:47.482278Z",
     "start_time": "2025-08-28T03:00:47.476780Z"
    }
   },
   "source": [
    "class User(BaseModel):\n",
    "    id: int  # 要求为整型或可以转换为整型的字符串\n",
    "    name: str = 'Jane Doe'  # 要求为字符串(默认为:\"Jane Doe\")\n",
    "    size: Optional[float] = None  # 要求为浮点型或可以转换为浮点型的字符串或None(默认值为:None)\n",
    "    like: Set[str]  # 要求元素类型为字符串的集合\n",
    "\n",
    "\n",
    "# Validate a pydantic model instance(类方法)\n",
    "v_user = User.model_validate({\"id\": 1, \"name\": \"Alice\", \"size\": 1.75, \"like\": {\"apple\", \"banana\"}}) \n",
    "print(v_user)\n",
    "\n",
    "try:\n",
    "    User.model_validate({\"id\": 1.2, \"name\": \"Alice\", \"size\": 1.75, \"like\": {\"apple\", \"banana\"}})\n",
    "except Exception as e:\n",
    "    print(f\"验证错误: {e}\")"
   ],
   "outputs": [
    {
     "name": "stdout",
     "output_type": "stream",
     "text": [
      "id=1 name='Alice' size=1.75 like={'apple', 'banana'}\n",
      "验证错误: 1 validation error for User\n",
      "id\n",
      "  Input should be a valid integer, got a number with a fractional part [type=int_from_float, input_value=1.2, input_type=float]\n",
      "    For further information visit https://errors.pydantic.dev/2.11/v/int_from_float\n"
     ]
    }
   ],
   "execution_count": 17
  },
  {
   "cell_type": "code",
   "id": "d69dcd30",
   "metadata": {
    "ExecuteTime": {
     "end_time": "2025-08-28T03:00:47.517955Z",
     "start_time": "2025-08-28T03:00:47.512702Z"
    }
   },
   "source": [
    "user = User(id=\"1\", like={\"football\", \"game\"})\n",
    "print(user)\n",
    "print(user.id, user.name)\n",
    "# Generate a dictionary representation of the model, optionally specifying which fields to include or exclude.\n",
    "print(user.model_dump(), type(user.model_dump()))\n",
    "# Generates a JSON representation of the model using Pydantic's `to_json` method.\n",
    "print(user.model_dump_json(), type(user.model_dump_json()))"
   ],
   "outputs": [
    {
     "name": "stdout",
     "output_type": "stream",
     "text": [
      "id=1 name='Jane Doe' size=None like={'football', 'game'}\n",
      "1 Jane Doe\n",
      "{'id': 1, 'name': 'Jane Doe', 'size': None, 'like': {'football', 'game'}} <class 'dict'>\n",
      "{\"id\":1,\"name\":\"Jane Doe\",\"size\":null,\"like\":[\"football\",\"game\"]} <class 'str'>\n"
     ]
    }
   ],
   "execution_count": 18
  },
  {
   "cell_type": "code",
   "id": "2764b5cd",
   "metadata": {
    "ExecuteTime": {
     "end_time": "2025-08-28T03:00:47.553856Z",
     "start_time": "2025-08-28T03:00:47.549419Z"
    }
   },
   "source": [
    "try:\n",
    "    user1 = User(id=1.2, size=\"f\", like={1, 2, 3})\n",
    "except ValidationError as e:\n",
    "    print(e)"
   ],
   "outputs": [
    {
     "name": "stdout",
     "output_type": "stream",
     "text": [
      "5 validation errors for User\n",
      "id\n",
      "  Input should be a valid integer, got a number with a fractional part [type=int_from_float, input_value=1.2, input_type=float]\n",
      "    For further information visit https://errors.pydantic.dev/2.11/v/int_from_float\n",
      "size\n",
      "  Input should be a valid number, unable to parse string as a number [type=float_parsing, input_value='f', input_type=str]\n",
      "    For further information visit https://errors.pydantic.dev/2.11/v/float_parsing\n",
      "like.0\n",
      "  Input should be a valid string [type=string_type, input_value=1, input_type=int]\n",
      "    For further information visit https://errors.pydantic.dev/2.11/v/string_type\n",
      "like.1\n",
      "  Input should be a valid string [type=string_type, input_value=2, input_type=int]\n",
      "    For further information visit https://errors.pydantic.dev/2.11/v/string_type\n",
      "like.2\n",
      "  Input should be a valid string [type=string_type, input_value=3, input_type=int]\n",
      "    For further information visit https://errors.pydantic.dev/2.11/v/string_type\n"
     ]
    }
   ],
   "execution_count": 19
  },
  {
   "cell_type": "code",
   "id": "c66b32f9843eaf7f",
   "metadata": {
    "ExecuteTime": {
     "end_time": "2025-08-28T03:00:47.587296Z",
     "start_time": "2025-08-28T03:00:47.581242Z"
    }
   },
   "source": [
    "class Foo(BaseModel):\n",
    "    count: int\n",
    "    size: Optional[float] = None\n",
    "\n",
    "\n",
    "class Bar(BaseModel):\n",
    "    apple: str = 'x'\n",
    "    banana: str = 'y'\n",
    "\n",
    "\n",
    "# Nested models\n",
    "class Spam(BaseModel):\n",
    "    foo: Foo\n",
    "    bars: List[Bar]\n",
    "\n",
    "\n",
    "m = Spam(foo={'count': 4}, bars=[{'apple': 'x1'}, {'apple': 'x2'}])\n",
    "print(m.model_dump(), type(m.model_dump()))  # dict\n",
    "print(m.model_dump_json(), type(m.model_dump_json()))  # str"
   ],
   "outputs": [
    {
     "name": "stdout",
     "output_type": "stream",
     "text": [
      "{'foo': {'count': 4, 'size': None}, 'bars': [{'apple': 'x1', 'banana': 'y'}, {'apple': 'x2', 'banana': 'y'}]} <class 'dict'>\n",
      "{\"foo\":{\"count\":4,\"size\":null},\"bars\":[{\"apple\":\"x1\",\"banana\":\"y\"},{\"apple\":\"x2\",\"banana\":\"y\"}]} <class 'str'>\n"
     ]
    }
   ],
   "execution_count": 20
  }
 ],
 "metadata": {
  "kernelspec": {
   "display_name": "llm",
   "language": "python",
   "name": "python3"
  },
  "language_info": {
   "codemirror_mode": {
    "name": "ipython",
    "version": 3
   },
   "file_extension": ".py",
   "mimetype": "text/x-python",
   "name": "python",
   "nbconvert_exporter": "python",
   "pygments_lexer": "ipython3",
   "version": "3.12.8"
  }
 },
 "nbformat": 4,
 "nbformat_minor": 5
}
