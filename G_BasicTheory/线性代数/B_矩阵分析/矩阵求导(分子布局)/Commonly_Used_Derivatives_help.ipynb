{
 "cells": [
  {
   "cell_type": "markdown",
   "metadata": {
    "collapsed": true,
    "pycharm": {
     "name": "#%% md\n"
    }
   },
   "source": [
    "## 向量对向量\n",
    "\n",
    "1. $A$ is not a function of $ \\mathbf{x} $,$$ \\frac{\\partial \\mathbf{x}^T A}{\\partial \\mathbf{x}} = A^T$$\n",
    "2. $ a $  is not a funciont of $ \\mathbf{x}$,$ \\mathbf{u}=\\mathbf{u(x)} $,$$ \\frac{\\partial a \\mathbf{u}}{\\partial \\mathbf{x}} = a \\frac{\\partial \\mathbf{u}}{\\partial \\mathbf{x}}$$\n",
    "    1. $$ \\frac{\\partial \\mathbf{x}}{\\mathbf{x}} = \\mathbf{I} $$\n",
    "3. $ A $ is not a function of $ \\mathbf{x}$,$ \\mathbf{u}=\\mathbf{u(x)} $,$$ \\frac{\\partial A \\mathbf{u}}{\\partial \\mathbf{x}} = A \\frac{\\partial \\mathbf{u}}{\\partial \\mathbf{x}}$$\n",
    "    1. $A$ is not a function of $ \\mathbf{x} $,$$ \\frac{\\partial A \\mathbf{x}}{\\partial \\mathbf{x}} = A$$\n",
    "4. $ \\mathbf{u}=\\mathbf{u(x)} $ ,$ v=v(\\mathbf{x}) $,$$ \\frac{\\partial \\mathbf{u}v}{\\partial \\mathbf{x}} = \\frac{\\partial \\mathbf{u}}{\\partial \\mathbf{x}}v + \\mathbf{u}\\frac{\\partial v}{\\partial \\mathbf{x}}   $$\n",
    "5. $ \\mathbf{u}=\\mathbf{u(x)} $ ,$ \\mathbf{v}=\\mathbf{v(x)} $,$$ \\frac{\\partial \\mathbf{(u+v)}}{\\partial \\mathbf{x}} = \\frac{\\partial \\mathbf{u}}{\\partial \\mathbf{x}} + \\frac{\\partial \\mathbf{v}}{\\partial \\mathbf{x}}   $$\n",
    "6. $ \\mathbf{u}=\\mathbf{u(x)} $ ,$$ \\frac{\\partial g(\\mathbf{u})}{\\partial \\mathbf{x}} = \\frac{\\partial g(\\mathbf{u})}{\\partial \\mathbf{u}}  \\frac{\\partial \\mathbf{u}}{\\partial \\mathbf{x}}$$ \n",
    "\n",
    "\n",
    "## 标量对向量\n",
    "1. $ a $ is not a funciont of $ \\mathbf{x}$,$ u=u(\\mathbf{x}) $,$$ \\frac{\\partial au}{\\partial \\mathbf{x}} = a \\frac{\\partial u}{\\partial \\mathbf{x}}$$\n",
    "2. $ u=u(\\mathbf{x}) $ ,$ v=v(\\mathbf{x}) $,$$ \\frac{\\partial uv}{\\partial \\mathbf{x}} = \\frac{\\partial u}{\\partial \\mathbf{x}}v + u\\frac{\\partial v}{\\partial \\mathbf{x}}   $$\n",
    "3. $ u=u(\\mathbf{x}) $ ,$ v=v(\\mathbf{x}) $,$$ \\frac{\\partial (u+v)}{\\partial \\mathbf{x}} = \\frac{\\partial u}{\\partial \\mathbf{x}} + \\frac{\\partial v}{\\partial \\mathbf{x}}   $$\n",
    "4. $ u=u(\\mathbf{x}) $ ,$$ \\frac{\\partial g(u)}{\\partial \\mathbf{x}} = \\frac{\\partial g(u)}{\\partial u}  \\frac{\\partial u}{\\partial \\mathbf{x}}$$ \n",
    "5. $ \\mathbf{u}=\\mathbf{u(x)} $ ,$ \\mathbf{v}=\\mathbf{v(x)} $,$$ \\frac{\\partial \\mathbf{(u^Tv)}}{\\partial \\mathbf{x}} = \\mathbf{v}^T\\frac{\\partial \\mathbf{u}}{\\partial \\mathbf{x}} + \\mathbf{u}^T\\frac{\\partial \\mathbf{v}}{\\partial \\mathbf{x}}   $$\n",
    "    1. $ \\mathbf{a} $ is not a function of $ \\mathbf{x} $, $$ \\frac{\\partial \\mathbf{a}^T\\mathbf{x}}{\\partial{\\mathbf{x}}} = \\frac{\\partial \\mathbf{x}^T \\mathbf{a}}{\\partial{\\mathbf{x}}} = \\mathbf{a}^T $$\n",
    "6. $ \\mathbf{u}=\\mathbf{u(x)} $ ,$ \\mathbf{v}=\\mathbf{v(x)} $,$ A $ is not a function of $ \\mathbf{x}$,$$ \\frac{\\partial \\mathbf{(u^TAv)}}{\\partial \\mathbf{x}} = \\mathbf{v}^T A^T \\frac{\\partial \\mathbf{u}}{\\partial \\mathbf{x}} + \\mathbf{u}^T A \\frac{\\partial \\mathbf{v}}{\\partial \\mathbf{x}}   $$\n",
    "    1. $ A$ is not a function of $ \\mathbf{x}$, $$ \\frac{\\partial \\mathbf{x}^T A \\mathbf{x}}{\\partial \\mathbf{x}} =\\mathbf{x}^T(A + A^T)$$\n",
    "    2. $$ \\frac{\\partial \\mathbf{x}^T \\mathbf{x}}{\\partial \\mathbf{x}} = \\frac{\\partial \\| x \\|^2}{\\partial \\mathbf{x}}  =  2\\mathbf{x}^T$$\n",
    "\n",
    "\n",
    "## 向量对标量\n",
    "1. $ a $ is not a function of $ x $, $ \\mathbf{u} = \\mathbf{u}(x) $,$$ \\frac{\\partial a \\mathbf{u}}{\\partial x} = a \\frac{\\partial \\mathbf{u}}{\\partial x} $$\n",
    "2. $ A $ is not a function of $ x $,$ \\mathbf{u}=\\mathbf{u}(x) $,$$ \\frac{\\partial A \\mathbf{u}}{\\partial x} = A \\frac{\\partial \\mathbf{u}}{\\partial x}$$\n",
    "3. $ \\mathbf{u} = \\mathbf{u}(x),\\mathbf{v}=\\mathbf{v}(x) $,$$ \\frac{\\partial \\mathbf{(u+v)}}{\\partial x}= \\frac{\\partial \\mathbf{u}}{\\partial x} + \\frac{\\partial \\mathbf{v}}{\\partial x}$$\n",
    "4. $ \\mathbf{u} = \\mathbf{u}(x) $ , $$ \\frac{\\partial g(\\mathbf{u})}{\\partial x} = \\frac{\\partial g(\\mathbf{u})}{\\partial \\mathbf{u}} \\frac{\\partial \\mathbf{u}}{\\partial x} $$ assumes consistent matrix layout!\n",
    "\n",
    "\n",
    "## 标量对矩阵\n",
    "1. $ a $ is not  function of $ X $, $ u = u(X) $,$$ \\frac{\\partial a u}{\\partial X} = a \\frac{\\partial u}{\\partial X} $$\n",
    "2. $ u = u(X),v=v(X) $,$$ \\frac{\\partial (u+v)}{\\partial X}= \\frac{\\partial u}{\\partial X} + \\frac{\\partial v}{\\partial X}$$\n",
    "3. $ u=u(X) $ ,$ v=v(X) $,$$ \\frac{\\partial uv}{\\partial X} = \\frac{\\partial u}{\\partial X}v + u\\frac{\\partial v}{\\partial X}   $$\n",
    "4. $ u = {u}(X) $ , $$ \\frac{\\partial g(u)}{\\partial X} = \\frac{\\partial g(u)}{\\partial u} \\frac{\\partial u}{\\partial X} $$\n",
    "5. $ \\mathbf{a} $ and $ \\mathbf{b} $ are not functions of $ X $,$$ \\frac{\\partial \\mathbf{a}^T X \\mathbf{b}}{\\partial X} = \\mathbf{b} \\mathbf{a}^T$$\n",
    "6. $ \\mathbf{a} $ and $ \\mathbf{b} $ are not functions of $ X $,$$ \\frac{\\partial \\mathbf{a}^T X^T \\mathbf{b}}{\\partial X} = \\mathbf{a} \\mathbf{b}^T$$\n",
    "7. $  f(X) = \\mathbf{a}^{T} X X^T \\mathbf{b} $,其中$ X \\in \\mathbf{R}^{m \\times n},a,b \\in \\mathbf{R}^{n \\times 1} $ , $$\\frac{\\partial f(X)}{\\partial X} = X^T(\\mathbf{b}a^T + a \\mathbf{b}^T) $$\n",
    "\n",
    "\n",
    "## 矩阵对标量\n",
    "1. $ U = U(x)$, $$ \\frac{\\partial aU}{\\partial x} = a \\frac{\\partial U}{\\partial x}$$\n",
    "2. $A, B$ are not funciont of $ x$ , $ U=U(x) $, $$ \\frac{\\partial AUB}{\\partial x} = A \\frac{\\partial U}{\\partial x} B$$\n",
    "3. $ U=U(x) $ ,$ V=V(x)$,$$ \\frac{\\partial UV}{\\partial x} = \\frac{\\partial U}{\\partial x}V + U\\frac{\\partial V}{\\partial x}   $$\n",
    "4. $ U=U(x) $ ,$ V=V(x)$,$$ \\frac{\\partial (U+V)}{\\partial x} = \\frac{\\partial U}{\\partial x} + \\frac{\\partial V}{\\partial x} $$\n",
    "\n",
    "\n",
    "## 矩阵对矩阵\n",
    "1. $ F(X) = AXB $,其中$ A \\in \\mathbf{R}^{p \\times m}, X \\in \\mathbf{R}^{m \\times n}, B \\in \\mathbf{R}^{n \\times q} $,$$ \\frac{\\partial F(X)}{\\partial X} = B^T \\otimes A $$\n",
    "1. $ F(X) = AX^TB $,其中$ A \\in \\mathbf{R}^{p \\times n}, X \\in \\mathbf{R}^{m \\times n}, B \\in \\mathbf{R}^{m \\times q} $,$$ \\frac{\\partial F(X)}{\\partial X} = (B^T \\otimes A)K_{mn} $$\n"
   ]
  }
 ],
 "metadata": {
  "kernelspec": {
   "display_name": "Python 3",
   "language": "python",
   "name": "python3"
  },
  "language_info": {
   "codemirror_mode": {
    "name": "ipython",
    "version": 2
   },
   "file_extension": ".py",
   "mimetype": "text/x-python",
   "name": "python",
   "nbconvert_exporter": "python",
   "pygments_lexer": "ipython2",
   "version": "2.7.6"
  }
 },
 "nbformat": 4,
 "nbformat_minor": 0
}