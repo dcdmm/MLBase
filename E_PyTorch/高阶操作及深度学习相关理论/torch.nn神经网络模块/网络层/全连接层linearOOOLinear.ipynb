{
 "cells": [
  {
   "cell_type": "markdown",
   "metadata": {
    "collapsed": true,
    "pycharm": {
     "name": "#%% md\n"
    }
   },
   "source": [
    "Applies a linear transformation to the incoming data:$$ \\mathbf{y} = \\mathbf{x} A^T + b  $$"
   ]
  },
  {
   "cell_type": "code",
   "execution_count": 8,
   "outputs": [],
   "source": [
    "import torch\n",
    "import torch.nn.functional as F\n",
    "import torch.nn as nn"
   ],
   "metadata": {
    "collapsed": false,
    "pycharm": {
     "name": "#%%\n"
    }
   }
  },
  {
   "cell_type": "code",
   "execution_count": 9,
   "outputs": [
    {
     "data": {
      "text/plain": "tensor([[ 71., 198., 323.],\n        [ 86., 249., 410.]])"
     },
     "execution_count": 9,
     "metadata": {},
     "output_type": "execute_result"
    }
   ],
   "source": [
    "enter = torch.tensor([[1, 2, 3, 4, 5, 6],\n",
    "                      [2, 3, 4, 5, 6, 7]], dtype=torch.float32)\n",
    "weight = torch.arange(18, dtype=torch.float32).reshape(3, 6)\n",
    "bias = torch.tensor([1, 2, 1], dtype=torch.float32)\n",
    "\n",
    "# 函数\n",
    "linear_f = F.linear(input=enter, weight=weight, bias=bias)\n",
    "linear_f"
   ],
   "metadata": {
    "collapsed": false,
    "pycharm": {
     "name": "#%%\n"
    }
   }
  },
  {
   "cell_type": "code",
   "execution_count": 10,
   "outputs": [
    {
     "data": {
      "text/plain": "tensor([[ 71., 198., 323.],\n        [ 86., 249., 410.]])"
     },
     "execution_count": 10,
     "metadata": {},
     "output_type": "execute_result"
    }
   ],
   "source": [
    "# 上式计算步骤如下\n",
    "enter @ weight.T + bias  # (2, 6) x (3, 6)^T + (3)"
   ],
   "metadata": {
    "collapsed": false,
    "pycharm": {
     "name": "#%%\n"
    }
   }
  },
  {
   "cell_type": "code",
   "execution_count": 11,
   "outputs": [
    {
     "data": {
      "text/plain": "tensor([[-0.1784],\n        [ 0.0159]], grad_fn=<AddmmBackward>)"
     },
     "execution_count": 11,
     "metadata": {},
     "output_type": "execute_result"
    }
   ],
   "source": [
    "# 类\n",
    "linear_c = nn.Linear(in_features=6,  # 输入特征的维度\n",
    "                     out_features=1,  # 输出特征的维度\n",
    "                     bias=True)  # 是否引入偏置参数;默认bias=True\n",
    "linear_c(enter)"
   ],
   "metadata": {
    "collapsed": false,
    "pycharm": {
     "name": "#%%\n"
    }
   }
  },
  {
   "cell_type": "code",
   "execution_count": 12,
   "outputs": [
    {
     "data": {
      "text/plain": "Parameter containing:\ntensor([[ 0.1815,  0.2067,  0.0038,  0.0280, -0.1818, -0.0439]],\n       requires_grad=True)"
     },
     "execution_count": 12,
     "metadata": {},
     "output_type": "execute_result"
    }
   ],
   "source": [
    "linear_c.weight  # 内部默认进行了初始化:init.kaiming_uniform_(self.weight, a=math.sqrt(5))"
   ],
   "metadata": {
    "collapsed": false,
    "pycharm": {
     "name": "#%%\n"
    }
   }
  },
  {
   "cell_type": "code",
   "execution_count": 13,
   "outputs": [
    {
     "data": {
      "text/plain": "Parameter containing:\ntensor([0.2760], requires_grad=True)"
     },
     "execution_count": 13,
     "metadata": {},
     "output_type": "execute_result"
    }
   ],
   "source": [
    "linear_c.bias  # 内部默认进行了kaiming_uniform_初始化"
   ],
   "metadata": {
    "collapsed": false,
    "pycharm": {
     "name": "#%%\n"
    }
   }
  },
  {
   "cell_type": "code",
   "execution_count": 14,
   "outputs": [
    {
     "data": {
      "text/plain": "[Parameter containing:\n tensor([[ 0.1815,  0.2067,  0.0038,  0.0280, -0.1818, -0.0439]],\n        requires_grad=True),\n Parameter containing:\n tensor([0.2760], requires_grad=True)]"
     },
     "execution_count": 14,
     "metadata": {},
     "output_type": "execute_result"
    }
   ],
   "source": [
    "list(linear_c.parameters())\n"
   ],
   "metadata": {
    "collapsed": false,
    "pycharm": {
     "name": "#%%\n"
    }
   }
  }
 ],
 "metadata": {
  "kernelspec": {
   "display_name": "Python 3",
   "language": "python",
   "name": "python3"
  },
  "language_info": {
   "codemirror_mode": {
    "name": "ipython",
    "version": 2
   },
   "file_extension": ".py",
   "mimetype": "text/x-python",
   "name": "python",
   "nbconvert_exporter": "python",
   "pygments_lexer": "ipython2",
   "version": "2.7.6"
  }
 },
 "nbformat": 4,
 "nbformat_minor": 0
}