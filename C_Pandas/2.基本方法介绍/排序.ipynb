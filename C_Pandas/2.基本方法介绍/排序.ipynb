{
 "cells": [
  {
   "cell_type": "markdown",
   "source": [
    "## 排序(sort_index,sort_values)"
   ],
   "metadata": {
    "pycharm": {
     "metadata": false,
     "name": "#%% md\n"
    }
   }
  },
  {
   "cell_type": "code",
   "execution_count": 52,
   "outputs": [],
   "source": [
    "import numpy as np\n",
    "import pandas as pd"
   ],
   "metadata": {
    "pycharm": {
     "metadata": false,
     "name": "#%%\n"
    }
   }
  },
  {
   "cell_type": "code",
   "execution_count": 53,
   "outputs": [
    {
     "name": "stdout",
     "output_type": "stream",
     "text": [
      "1    c\n",
      "2    b\n",
      "3    a\n",
      "4    d\n",
      "dtype: object\n",
      "***************\n",
      "4    d\n",
      "3    a\n",
      "2    b\n",
      "1    c\n",
      "dtype: object\n"
     ]
    }
   ],
   "source": [
    "s = pd.Series(['a', 'b', 'c', 'd'], index=[3, 2, 1, 4])\n",
    "\n",
    "'''\n",
    "ascending : bool, default true\n",
    "    Sort ascending vs. descending.\n",
    "'''\n",
    "print(s.sort_index(), end=\"\\n\" + \"*\" * 15 + \"\\n\")  # 对应顺序不变\n",
    "print(s.sort_index(ascending=False))  # 逆序"
   ],
   "metadata": {
    "collapsed": false,
    "pycharm": {
     "name": "#%%\n"
    }
   }
  },
  {
   "cell_type": "code",
   "execution_count": 54,
   "outputs": [
    {
     "name": "stdout",
     "output_type": "stream",
     "text": [
      "3    a\n",
      "2    b\n",
      "1    c\n",
      "4    d\n",
      "dtype: object\n",
      "***************\n",
      "4    d\n",
      "1    c\n",
      "2    b\n",
      "3    a\n",
      "dtype: object\n"
     ]
    }
   ],
   "source": [
    "'''\n",
    "ascending : bool, default True\n",
    "    If True, sort values in ascending order, otherwise descending.\n",
    "'''\n",
    "print(s.sort_values(), end=\"\\n\" + \"*\" * 15 + \"\\n\")  # 对应顺序不变\n",
    "print(s.sort_values(ascending=False))"
   ],
   "metadata": {
    "collapsed": false,
    "pycharm": {
     "name": "#%%\n"
    }
   }
  },
  {
   "cell_type": "code",
   "execution_count": 55,
   "outputs": [
    {
     "name": "stdout",
     "output_type": "stream",
     "text": [
      "   b  d   c   a\n",
      "b  0  7   9  11\n",
      "c  2  6  10   3\n",
      "a  4  8   1   5\n",
      "***************\n",
      "   b  d   c   a\n",
      "a  4  8   1   5\n",
      "b  0  7   9  11\n",
      "c  2  6  10   3\n",
      "***************\n",
      "    a  b   c  d\n",
      "b  11  0   9  7\n",
      "c   3  2  10  6\n",
      "a   5  4   1  8\n"
     ]
    }
   ],
   "source": [
    "frame = pd.DataFrame(np.random.permutation(np.arange(12)).reshape((3, 4)),\n",
    "                     index=['b', 'c', 'a'],\n",
    "                     columns=['b', 'd', 'c', 'a'])\n",
    "\n",
    "'''\n",
    "axis : {0 or 'index', 1 or 'columns'}, default 0\n",
    "    The axis along which to sort.  The value 0 identifies the rows,\n",
    "    and 1 identifies the columns.\n",
    "'''\n",
    "print(frame, end=\"\\n\" + \"*\" * 15 + \"\\n\")\n",
    "print(frame.sort_index(), end=\"\\n\" + \"*\" * 15 + \"\\n\")\n",
    "print(frame.sort_index(axis=1))  # 默认axis=0"
   ],
   "metadata": {
    "pycharm": {
     "metadata": false,
     "name": "#%%\n"
    }
   }
  },
  {
   "cell_type": "code",
   "execution_count": 56,
   "outputs": [
    {
     "name": "stdout",
     "output_type": "stream",
     "text": [
      "   d   c  b   a\n",
      "b  7   9  0  11\n",
      "c  6  10  2   3\n",
      "a  8   1  4   5\n"
     ]
    }
   ],
   "source": [
    "'''\n",
    "level : int or level name or list of ints or list of level names\n",
    "    If not None, sort on values in specified index level(s).\n",
    "ascending : bool or list-like of bools, default True\n",
    "    Sort ascending vs. descending. When the index is a MultiIndex the\n",
    "    sort direction can be controlled for each level individually.\n",
    "'''\n",
    "frame.sort_index(axis=1, ascending=False, inplace=True)  # 降序排列\n",
    "print(frame)"
   ],
   "metadata": {
    "collapsed": false,
    "pycharm": {
     "name": "#%%\n"
    }
   }
  },
  {
   "cell_type": "code",
   "execution_count": 57,
   "outputs": [
    {
     "name": "stdout",
     "output_type": "stream",
     "text": [
      "  col1  col2  col3 col4\n",
      "0    A     2     0    a\n",
      "1    A     1     1    B\n",
      "2    B     9     9    c\n",
      "3  NaN     8     4    D\n",
      "4    D     7     2    e\n",
      "5    C     4     3    F\n",
      "\n",
      "  col1  col2  col3 col4\n",
      "0    A     2     0    a\n",
      "1    A     1     1    B\n",
      "2    B     9     9    c\n",
      "5    C     4     3    F\n",
      "4    D     7     2    e\n",
      "3  NaN     8     4    D\n",
      "\n"
     ]
    }
   ],
   "source": [
    "'''\n",
    "axis : {0 or 'index', 1 or 'columns'}, default 0\n",
    "    The axis along which to sort.  The value 0 identifies the rows,\n",
    "    and 1 identifies the columns.\n",
    "level : int or level name or list of ints or list of level names\n",
    "    If not None, sort on values in specified index level(s).\n",
    "ascending : bool or list-like of bools, default True\n",
    "    Sort ascending vs. descending. When the index is a MultiIndex the\n",
    "    sort direction can be controlled for each level individually.\n",
    "inplace : bool, default False\n",
    "    If True, perform operation in-place.\n",
    "'''\n",
    "df = pd.DataFrame({\n",
    "    'col1': ['A', 'A', 'B', np.nan, 'D', 'C'],\n",
    "    'col2': [2, 1, 9, 8, 7, 4],\n",
    "    'col3': [0, 1, 9, 4, 2, 3],\n",
    "    'col4': ['a', 'B', 'c', 'D', 'e', 'F']\n",
    "})\n",
    "print(df, end='\\n\\n')\n",
    "print(df.sort_values(by=['col1']), end='\\n\\n')  # 按col1列排序(对应顺序不变)"
   ],
   "metadata": {
    "pycharm": {
     "metadata": false,
     "name": "#%%\n"
    }
   }
  },
  {
   "cell_type": "code",
   "execution_count": 58,
   "outputs": [
    {
     "data": {
      "text/plain": "0   2011-07-06\n1   2011-08-06\n2   2011-10-06\n3   2011-02-06\n4   2011-04-06\n5   2011-01-06\ndtype: datetime64[ns]"
     },
     "execution_count": 58,
     "metadata": {},
     "output_type": "execute_result"
    }
   ],
   "source": [
    "datestrs = ['2011-07-06', '2011-08-06', '2011-10-06',\n",
    "            '2011-02-06', '2011-04-06', '2011-01-06']\n",
    "ser_time = pd.to_datetime(pd.Series(datestrs))\n",
    "ser_time"
   ],
   "metadata": {
    "collapsed": false,
    "pycharm": {
     "name": "#%%\n"
    }
   }
  },
  {
   "cell_type": "code",
   "execution_count": 59,
   "outputs": [
    {
     "data": {
      "text/plain": "5   2011-01-06\n3   2011-02-06\n4   2011-04-06\n0   2011-07-06\n1   2011-08-06\n2   2011-10-06\ndtype: datetime64[ns]"
     },
     "execution_count": 59,
     "metadata": {},
     "output_type": "execute_result"
    }
   ],
   "source": [
    "ser_time.sort_values()  # Timestamp也可以进行比较"
   ],
   "metadata": {
    "collapsed": false,
    "pycharm": {
     "name": "#%%\n"
    }
   }
  },
  {
   "cell_type": "code",
   "execution_count": 59,
   "outputs": [],
   "source": [],
   "metadata": {
    "collapsed": false,
    "pycharm": {
     "name": "#%%\n"
    }
   }
  }
 ],
 "metadata": {
  "language_info": {
   "codemirror_mode": {
    "name": "ipython",
    "version": 2
   },
   "file_extension": ".py",
   "mimetype": "text/x-python",
   "name": "python",
   "nbconvert_exporter": "python",
   "pygments_lexer": "ipython2",
   "version": "2.7.6"
  },
  "kernelspec": {
   "name": "python3",
   "language": "python",
   "display_name": "Python 3"
  },
  "stem_cell": {
   "cell_type": "raw",
   "source": "",
   "metadata": {
    "pycharm": {
     "metadata": false
    }
   }
  }
 },
 "nbformat": 4,
 "nbformat_minor": 0
}