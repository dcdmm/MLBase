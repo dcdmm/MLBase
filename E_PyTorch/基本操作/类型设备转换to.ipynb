{
 "nbformat": 4,
 "nbformat_minor": 0,
 "metadata": {
  "kernelspec": {
   "display_name": "Python 3",
   "language": "python",
   "name": "python3"
  },
  "language_info": {
   "codemirror_mode": {
    "name": "ipython",
    "version": 2
   },
   "file_extension": ".py",
   "mimetype": "text/x-python",
   "name": "python",
   "nbconvert_exporter": "python",
   "pygments_lexer": "ipython2",
   "version": "2.7.6"
  },
  "colab": {
   "name": "类型设备转换to.ipynb",
   "provenance": [],
   "collapsed_sections": []
  },
  "accelerator": "GPU"
 },
 "cells": [
  {
   "cell_type": "code",
   "metadata": {
    "collapsed": true,
    "id": "tO0pzB4F41W6",
    "colab_type": "code",
    "outputId": "cba7a003-f315-4e06-ba2f-54f9fc789d16",
    "colab": {
     "base_uri": "https://localhost:8080/",
     "height": 52
    }
   },
   "source": [
    "import torch\n",
    "\n",
    "tor = torch.arange(64).reshape(8, 8)\n",
    "print(tor.dtype)"
   ],
   "execution_count": 6,
   "outputs": [
    {
     "name": "stdout",
     "output_type": "stream",
     "text": [
      "torch.int64\n"
     ]
    }
   ]
  },
  {
   "cell_type": "code",
   "metadata": {
    "pycharm": {
     "name": "#%%\n"
    },
    "id": "a6TTJsPO41XA",
    "colab_type": "code",
    "outputId": "f7099316-cbba-493b-bd51-90d40c56f541",
    "colab": {
     "base_uri": "https://localhost:8080/",
     "height": 52
    }
   },
   "source": [
    "tor.to(dtype=torch.float64) # 数据类型转换\n",
    "tor.dtype # tor不变"
   ],
   "execution_count": 7,
   "outputs": [
    {
     "data": {
      "text/plain": "torch.int64"
     },
     "execution_count": 7,
     "metadata": {},
     "output_type": "execute_result"
    }
   ]
  },
  {
   "cell_type": "code",
   "metadata": {
    "pycharm": {
     "name": "#%%\n"
    },
    "id": "__demMvL41XG",
    "colab_type": "code",
    "outputId": "69769dae-c6c8-4a80-d628-11d100bd79d7",
    "colab": {
     "base_uri": "https://localhost:8080/",
     "height": 104
    }
   },
   "source": [
    "x = torch.tensor([1, 2, 3, 4])\n",
    "print(x.device)\n",
    "if torch.cuda.is_available(): # Returns a bool indicating if CUDA is currently available\n",
    "  device = torch.device(dtype='cuda') # GPU:dtype='cuda',CPU:dtype='cpu'\n",
    "  y = torch.ones_like(x, device=device) # 建立一个在GPU上的Tensor\n",
    "  print(y.device)\n",
    "\n",
    "  x = x.to(device) # 等价于x.to('cuda')\n",
    "  z = x + y\n",
    "  print(z)\n",
    "\n",
    "  m = z.to('cpu', torch.double)\n",
    "  print(m.device)\n",
    "  print(m.dtype)"
   ],
   "execution_count": 19,
   "outputs": [
    {
     "output_type": "stream",
     "text": [
      "cpu\n",
      "cuda:0\n",
      "tensor([2, 3, 4, 5], device='cuda:0')\n",
      "cpu\n",
      "torch.float64\n"
     ],
     "name": "stdout"
    }
   ]
  },
  {
   "cell_type": "code",
   "execution_count": null,
   "outputs": [],
   "source": [],
   "metadata": {
    "collapsed": false,
    "pycharm": {
     "name": "#%%\n"
    }
   }
  }
 ]
}