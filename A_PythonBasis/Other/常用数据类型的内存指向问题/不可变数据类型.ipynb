{
 "cells": [
  {
   "cell_type": "markdown",
   "metadata": {},
   "source": [
    "### 不可变数据类型:bool,int,float,string,tuple,frozenset"
   ]
  },
  {
   "cell_type": "code",
   "execution_count": 33,
   "metadata": {
    "pycharm": {
     "name": "#%%\n"
    }
   },
   "outputs": [
    {
     "name": "stdout",
     "output_type": "stream",
     "text": [
      "140707243532752 140707243532752 140707243532752\n"
     ]
    }
   ],
   "source": [
    "'''\n",
    "# 解析:\n",
    "1. 注意:整数的内存地址固定环境下是固定的(假设3的内存地址为3_id)\n",
    "2. a指向3_id,3_id的引用计数+1\n",
    "3. b指向3_id,3_id的引用计数+1\n",
    "'''\n",
    "a = 3\n",
    "b = 3\n",
    "print(id(a), id(b), id(3)) # 相同的对象内存地址相同"
   ]
  },
  {
   "cell_type": "code",
   "execution_count": 34,
   "outputs": [
    {
     "name": "stdout",
     "output_type": "stream",
     "text": [
      "1890872171344\n"
     ]
    }
   ],
   "source": [
    "'''\n",
    "# 解析:\n",
    "1. 为5.5在内存中开辟一块内存(假设为id_5.5)\n",
    "2. a指向5.5_id,id_5.5的引用计数+1,id_3的引用计数-1\n",
    "'''\n",
    "a = 5.5\n",
    "print(id(a))"
   ],
   "metadata": {
    "collapsed": false,
    "pycharm": {
     "name": "#%%\n"
    }
   }
  },
  {
   "cell_type": "code",
   "execution_count": 35,
   "outputs": [
    {
     "name": "stdout",
     "output_type": "stream",
     "text": [
      "1890829752368 1890829752368 1890829752368\n"
     ]
    }
   ],
   "source": [
    "name1 = 'duan'\n",
    "name2 = 'duan'\n",
    "print(id(name1), id(name2), id('duan'))"
   ],
   "metadata": {
    "collapsed": false,
    "pycharm": {
     "name": "#%%\n"
    }
   }
  }
 ],
 "metadata": {
  "kernelspec": {
   "display_name": "Python 3",
   "language": "python",
   "name": "python3"
  },
  "language_info": {
   "codemirror_mode": {
    "name": "ipython",
    "version": 3
   },
   "file_extension": ".py",
   "mimetype": "text/x-python",
   "name": "python",
   "nbconvert_exporter": "python",
   "pygments_lexer": "ipython3",
   "version": "3.7.7"
  },
  "toc": {
   "base_numbering": 1,
   "nav_menu": {},
   "number_sections": true,
   "sideBar": true,
   "skip_h1_title": false,
   "title_cell": "Table of Contents",
   "title_sidebar": "Contents",
   "toc_cell": false,
   "toc_position": {},
   "toc_section_display": true,
   "toc_window_display": false
  }
 },
 "nbformat": 4,
 "nbformat_minor": 1
}