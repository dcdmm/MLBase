{
 "cells": [
  {
   "cell_type": "code",
   "execution_count": 1,
   "metadata": {
    "collapsed": true
   },
   "outputs": [],
   "source": [
    "import numpy as np\n",
    "from sklearn.utils import shuffle"
   ]
  },
  {
   "cell_type": "code",
   "execution_count": 2,
   "outputs": [
    {
     "data": {
      "text/plain": "array([5, 4, 3, 2, 1])"
     },
     "execution_count": 2,
     "metadata": {},
     "output_type": "execute_result"
    }
   ],
   "source": [
    "x1 = np.array([1, 2, 3, 4, 5])\n",
    "shuffle(x1)  # 注意和np.random.shuffle的区别"
   ],
   "metadata": {
    "collapsed": false,
    "pycharm": {
     "name": "#%%\n"
    }
   }
  },
  {
   "cell_type": "code",
   "execution_count": 3,
   "outputs": [
    {
     "data": {
      "text/plain": "array([1, 2, 3, 4, 5])"
     },
     "execution_count": 3,
     "metadata": {},
     "output_type": "execute_result"
    }
   ],
   "source": [
    "x1  # x1不变"
   ],
   "metadata": {
    "collapsed": false,
    "pycharm": {
     "name": "#%%\n"
    }
   }
  },
  {
   "cell_type": "code",
   "execution_count": 4,
   "outputs": [
    {
     "data": {
      "text/plain": "[array([[ 3,  4,  5,  6,  7],\n        [ 2,  3,  4,  5,  6],\n        [ 1,  2,  3,  4,  5],\n        [ 8,  9, 10, 11, 12]]),\n array([3, 2, 1, 4]),\n array([['five', 'six'],\n        ['three', 'four'],\n        ['one', 'two'],\n        ['seven', 'eight']], dtype='<U5')]"
     },
     "execution_count": 4,
     "metadata": {},
     "output_type": "execute_result"
    }
   ],
   "source": [
    "x2 = np.array([[1, 2, 3, 4, 5],\n",
    "               [2, 3, 4, 5, 6],\n",
    "               [3, 4, 5, 6, 7],\n",
    "               [8, 9, 10, 11, 12]])\n",
    "\n",
    "y = np.array([1, 2, 3, 4])\n",
    "z = np.array([['one', 'two'],\n",
    "              ['three', 'four'],\n",
    "              ['five', 'six'],\n",
    "              ['seven', 'eight']])\n",
    "\n",
    "# 以一致的方式随机排列x2, y, z\n",
    "shuffle(x2, y, z, random_state=8)  # 多维时,按axis=0进行随机排列\n"
   ],
   "metadata": {
    "collapsed": false,
    "pycharm": {
     "name": "#%%\n"
    }
   }
  }
 ],
 "metadata": {
  "kernelspec": {
   "display_name": "Python 3",
   "language": "python",
   "name": "python3"
  },
  "language_info": {
   "codemirror_mode": {
    "name": "ipython",
    "version": 2
   },
   "file_extension": ".py",
   "mimetype": "text/x-python",
   "name": "python",
   "nbconvert_exporter": "python",
   "pygments_lexer": "ipython2",
   "version": "2.7.6"
  }
 },
 "nbformat": 4,
 "nbformat_minor": 0
}