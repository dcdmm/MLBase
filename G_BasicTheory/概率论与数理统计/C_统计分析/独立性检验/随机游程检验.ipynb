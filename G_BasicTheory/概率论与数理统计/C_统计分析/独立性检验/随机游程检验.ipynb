{
 "cells": [
  {
   "cell_type": "markdown",
   "source": [
    "某银行观察平时到银行柜台办理业务的人员的性别(用M表示男性,F表示女性)依次如下:   \n",
    "<center>F M M M M M F M M F M M M M F M F M M M F F F M M M</center>    \n",
    "    \n",
    "假设检验的问题如下:    \n",
    "$ H_0: $男女出现顺序随机  \n",
    "$ H_1: $男女出现顺序不随机   "
   ],
   "metadata": {
    "collapsed": false,
    "pycharm": {
     "name": "#%% md\n",
     "is_executing": false
    }
   }
  },
  {
   "cell_type": "code",
   "execution_count": 1,
   "outputs": [
    {
     "name": "stdout",
     "text": [
      "0.20022384631815468\n",
      "0.8413055181074309\n"
     ],
     "output_type": "stream"
    }
   ],
   "source": [
    "import numpy as np\n",
    "from statsmodels.sandbox.stats.runs import runstest_1samp\n",
    "\n",
    "sex_arr = np.array(['F', 'M', 'M', 'M', 'M', 'M', 'F', 'M', 'M', 'F', 'M', 'M',\n",
    "            'M', 'M', 'F', 'M', 'F', 'M', 'M', 'M', 'F',\n",
    "            'F', 'F', 'M', 'M', 'M'])\n",
    "\n",
    "sex_arr[sex_arr == 'M'] = 1\n",
    "sex_arr[sex_arr == 'F'] = 0\n",
    "sex_list = sex_arr.astype(np.float)\n",
    "x, p = runstest_1samp(sex_list) # 随机游程(独立性)检验\n",
    "print(x)\n",
    "print(p) # 不能拒绝原假设"
   ],
   "metadata": {
    "collapsed": false,
    "pycharm": {
     "name": "#%%\n",
     "is_executing": false
    }
   }
  },
  {
   "cell_type": "markdown",
   "source": [
    "实习学生在实习期迟到的情况被门禁系统纪录下来,N表示正常,F表示迟到,   \n",
    "根据下面这些纪录判断这名学生迟到是否随机.    \n",
    "<center> N N N F N N N N N N N F N N F F N N N N N N F N N N N F N N N N N F F F F N N N N N N N N N N N N N </center>  \n",
    "\n",
    "假设检验的问题如下:    \n",
    "$ H_0: $学生迟到是随机的  \n",
    "$ H_1: $学生迟到不是随机的   "
   ],
   "metadata": {
    "pycharm": {
     "metadata": false,
     "name": "#%% md\n",
     "is_executing": false
    }
   }
  },
  {
   "cell_type": "code",
   "execution_count": 2,
   "outputs": [
    {
     "name": "stdout",
     "text": [
      "-1.8073922282301278\n",
      "0.07070114486598297\n"
     ],
     "output_type": "stream"
    }
   ],
   "source": [
    "late_arr = np.array(list('NNNFNNNNNNNFNNFFNNNNNNFNNNNFNNNNNFFFFNNNNNNNNNNNNN'))\n",
    "late_arr[late_arr == 'N'] = 1\n",
    "late_arr[late_arr == 'F'] = 0\n",
    "late_arr = late_arr.astype(np.float)\n",
    "x1, p1 = runstest_1samp(late_arr)\n",
    "print(x1)\n",
    "print(p1) # 不违反随机性"
   ],
   "metadata": {
    "collapsed": false,
    "pycharm": {
     "name": "#%%\n",
     "is_executing": false
    }
   }
  },
  {
   "cell_type": "code",
   "execution_count": 2,
   "outputs": [],
   "source": [
    "\n"
   ],
   "metadata": {
    "collapsed": false,
    "pycharm": {
     "name": "#%%\n",
     "is_executing": false
    }
   }
  }
 ],
 "metadata": {
  "language_info": {
   "codemirror_mode": {
    "name": "ipython",
    "version": 2
   },
   "file_extension": ".py",
   "mimetype": "text/x-python",
   "name": "python",
   "nbconvert_exporter": "python",
   "pygments_lexer": "ipython2",
   "version": "2.7.6"
  },
  "kernelspec": {
   "name": "python3",
   "language": "python",
   "display_name": "Python 3"
  },
  "stem_cell": {
   "cell_type": "raw",
   "source": "",
   "metadata": {
    "pycharm": {
     "metadata": false
    }
   }
  },
  "pycharm": {
   "stem_cell": {
    "cell_type": "raw",
    "source": [],
    "metadata": {
     "collapsed": false
    }
   }
  }
 },
 "nbformat": 4,
 "nbformat_minor": 0
}