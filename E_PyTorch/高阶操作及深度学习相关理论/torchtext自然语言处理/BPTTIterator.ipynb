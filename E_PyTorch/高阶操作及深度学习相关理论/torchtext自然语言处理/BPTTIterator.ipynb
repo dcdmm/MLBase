{
 "cells": [
  {
   "cell_type": "code",
   "execution_count": 1,
   "metadata": {
    "pycharm": {
     "name": "#%%\n"
    }
   },
   "outputs": [],
   "source": [
    "import torch\n",
    "from torchtext.datasets import LanguageModelingDataset\n",
    "import torchtext.data as data"
   ]
  },
  {
   "cell_type": "code",
   "execution_count": 2,
   "metadata": {
    "pycharm": {
     "name": "#%%\n"
    }
   },
   "outputs": [],
   "source": [
    "device = torch.device('cuda' if torch.cuda.is_available() else 'cpu')\n",
    "TEXT = data.Field(sequential=True, lower=True)\n",
    "article = LanguageModelingDataset(path='test_text/english.txt',\n",
    "                                  text_field=TEXT, encoding='utf-8')\n",
    "TEXT.build_vocab(article, vectors='glove.6B.100d', vectors_cache='vector_cache/')"
   ]
  },
  {
   "cell_type": "code",
   "execution_count": 3,
   "metadata": {
    "pycharm": {
     "name": "#%%\n"
    }
   },
   "outputs": [
    {
     "data": {
      "text/plain": "['the',\n 'positive',\n 'meanings',\n 'of',\n 'love',\n '<eos>',\n \"we'd\",\n 'like',\n 'to',\n 'share']"
     },
     "execution_count": 3,
     "metadata": {},
     "output_type": "execute_result"
    }
   ],
   "source": [
    "article[0].text[:10]"
   ]
  },
  {
   "cell_type": "code",
   "execution_count": 4,
   "metadata": {
    "pycharm": {
     "name": "#%%\n"
    }
   },
   "outputs": [
    {
     "data": {
      "text/plain": "<torchtext.data.iterator.BPTTIterator at 0x1ee33104fa0>"
     },
     "execution_count": 4,
     "metadata": {},
     "output_type": "execute_result"
    }
   ],
   "source": [
    "# 继承自Iterator;也可以使用splits进行构建(看源代码易懂)\n",
    "# ★★★★★Defines an iterator for language modeling tasks that use BPTT\n",
    "# ★★★★★Expects a Dataset with a single example and a single field called 'text'\n",
    "# ★★★★★推荐只使用这几个参数(查看其__iter__方法易知)\n",
    "train_iterator_com = data.BPTTIterator(dataset=article, # LanguageModelingDataset的输出为单个example,单个字段且为text\n",
    "                                       device=device,\n",
    "                                       batch_size=10,\n",
    "                                       bptt_len=2) # Length of sequences for backpropagation through time.\n",
    "train_iterator_com"
   ]
  },
  {
   "cell_type": "code",
   "execution_count": 5,
   "metadata": {},
   "outputs": [
    {
     "name": "stdout",
     "output_type": "stream",
     "text": [
      "<class 'torchtext.data.batch.Batch'>\n",
      "\n",
      "\n",
      "[torchtext.data.batch.Batch of size 10]\n",
      "\t[.text]:[torch.cuda.LongTensor of size 2x10 (GPU 0)]\n",
      "\t[.target]:[torch.cuda.LongTensor of size 2x10 (GPU 0)]\n",
      "\n",
      "tensor([[  4,   2,   4,  27,  33,  18,  23,  10, 149, 293],\n",
      "        [ 90,  46, 164,  17, 111,  47,  77,  56,  58,   4]], device='cuda:0')\n",
      "tensor([[ 90,  46, 164,  17, 111,  47,  77,  56,  58,   4],\n",
      "        [ 85,  44,   8,   2,   8,   5, 171,   6,  14, 272]], device='cuda:0')\n"
     ]
    }
   ],
   "source": [
    "test_list = None\n",
    "for batch in train_iterator_com:\n",
    "    print(type(batch), end='\\n\\n')\n",
    "    print(batch, end='\\n\\n')\n",
    "    test_list = batch.text\n",
    "    print(batch.text)\n",
    "    print(batch.target) # batch.text后面一个位置处的单词\n",
    "    break"
   ]
  },
  {
   "cell_type": "code",
   "execution_count": 6,
   "metadata": {
    "pycharm": {
     "name": "#%%\n"
    }
   },
   "outputs": [
    {
     "name": "stdout",
     "output_type": "stream",
     "text": [
      "i care\n",
      "care about\n"
     ]
    }
   ],
   "source": [
    "it = iter(train_iterator_com)\n",
    "batch = next(it)\n",
    "print(\" \".join([TEXT.vocab.itos[i] for i in batch.text[:, 1].data]))\n",
    "print(\" \".join([TEXT.vocab.itos[i] for i in batch.target[:, 1].data])) # batch.text的下个单词"
   ]
  },
  {
   "cell_type": "code",
   "execution_count": 7,
   "metadata": {
    "pycharm": {
     "name": "#%%\n"
    }
   },
   "outputs": [],
   "source": [
    "def find_index(lst, find):\n",
    "    lst_len = len(lst)\n",
    "    find_len = len(find)\n",
    "    for i in range(lst_len):\n",
    "        num = 0\n",
    "        for s in range(find_len):\n",
    "            if lst[i+s] == find[s]:\n",
    "                num += 1\n",
    "        if num == find_len:\n",
    "            return i\n",
    "\n",
    "        if i == len(lst) - len(find):\n",
    "            break"
   ]
  },
  {
   "cell_type": "code",
   "execution_count": 8,
   "metadata": {
    "pycharm": {
     "name": "#%%\n"
    }
   },
   "outputs": [],
   "source": [
    "id_list = []\n",
    "for k in article.examples[0].text:\n",
    "    id_list.append(TEXT.vocab.stoi[k])\n",
    "\n",
    "inter = [] # 每个句子的起始位置\n",
    "for j in range(10):\n",
    "    index = find_index(id_list, test_list[:, j].tolist())\n",
    "    inter.append(index)"
   ]
  },
  {
   "cell_type": "markdown",
   "metadata": {
    "pycharm": {
     "name": "#%% md\n"
    }
   },
   "source": [
    "#### 通过测试可以看出:\n",
    "1. ★★★★★bptt_len决定每个句子的长度(即单词个数)\n",
    "2. ★★★★★每个句子的起始位置等于(间隔长度为:$ \\mathrm{interval} = \\lceil \\text{单词数量} / \\mathrm{batch\\_size} \\rceil $):\n",
    "    * 第一个句子的起始位置: $  \\mathrm{interval} \\cdot 0    $\n",
    "    * 第二个句子的起始位置: $  \\mathrm{interval} \\cdot 1    $\n",
    "    * 第三个句子的起始位置: $  \\mathrm{interval} \\cdot 2    $\n",
    "    * $\\cdots$\n",
    "3. 输出的数字为对应单词在单词表中的id"
   ]
  },
  {
   "cell_type": "code",
   "execution_count": 9,
   "metadata": {
    "pycharm": {
     "name": "#%%\n"
    }
   },
   "outputs": [
    {
     "name": "stdout",
     "output_type": "stream",
     "text": [
      "920\n",
      "[0, 92, 184, 190, 368, 109, 552, 633, 736, 828]\n"
     ]
    }
   ],
   "source": [
    "print(len(id_list)) # 文本长度\n",
    "print(inter)\n"
   ]
  },
  {
   "cell_type": "code",
   "execution_count": 10,
   "outputs": [
    {
     "data": {
      "text/plain": "46"
     },
     "execution_count": 10,
     "metadata": {},
     "output_type": "execute_result"
    }
   ],
   "source": [
    "len(train_iterator_com) # 等于:间隔长度/bptt_len"
   ],
   "metadata": {
    "collapsed": false,
    "pycharm": {
     "name": "#%%\n"
    }
   }
  }
 ],
 "metadata": {
  "kernelspec": {
   "display_name": "Python 3",
   "language": "python",
   "name": "python3"
  },
  "language_info": {
   "codemirror_mode": {
    "name": "ipython",
    "version": 3
   },
   "file_extension": ".py",
   "mimetype": "text/x-python",
   "name": "python",
   "nbconvert_exporter": "python",
   "pygments_lexer": "ipython3",
   "version": "3.8.5"
  },
  "toc": {
   "base_numbering": 1,
   "nav_menu": {},
   "number_sections": true,
   "sideBar": true,
   "skip_h1_title": false,
   "title_cell": "Table of Contents",
   "title_sidebar": "Contents",
   "toc_cell": false,
   "toc_position": {},
   "toc_section_display": true,
   "toc_window_display": false
  }
 },
 "nbformat": 4,
 "nbformat_minor": 1
}