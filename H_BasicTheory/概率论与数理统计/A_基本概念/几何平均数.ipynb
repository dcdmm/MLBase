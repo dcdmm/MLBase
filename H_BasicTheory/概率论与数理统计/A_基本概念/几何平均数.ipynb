{
 "cells": [
  {
   "cell_type": "markdown",
   "source": [
    "$$ mean_{geometric}=(\\prod_{i=1}^{N}x_{i})^{1/N} $$"
   ],
   "metadata": {
    "pycharm": {
     "metadata": false,
     "name": "#%% md\n"
    }
   }
  },
  {
   "cell_type": "code",
   "execution_count": 1,
   "metadata": {
    "collapsed": true,
    "pycharm": {
     "is_executing": false
    }
   },
   "outputs": [
    {
     "data": {
      "text/plain": "37.992689344834304"
     },
     "metadata": {},
     "output_type": "execute_result",
     "execution_count": 1
    }
   ],
   "source": "import  numpy as np\nfrom scipy import  stats\n\nx = np.arange(1, 101)\nstats.gmean((x))\n'''\nscipy.stats.gmean(a, axis=0, dtype=None)[source]\nCompute the geometric mean along the specified axis.\n\nReturn the geometric average of the array elements. That is: n-th root of (x1 * x2 * … * xn)\n\nParameters:\t\n    a : array_like\n        Input array or object that can be converted to an array.\n\n    axis : int or None, optional\n        Axis along which the geometric mean is computed. Default is 0. If None, compute over the whole array a.\n'''\n\n"
  }
 ],
 "metadata": {
  "language_info": {
   "codemirror_mode": {
    "name": "ipython",
    "version": 2
   },
   "file_extension": ".py",
   "mimetype": "text/x-python",
   "name": "python",
   "nbconvert_exporter": "python",
   "pygments_lexer": "ipython2",
   "version": "2.7.6"
  },
  "kernelspec": {
   "name": "python3",
   "language": "python",
   "display_name": "Python 3"
  },
  "stem_cell": {
   "cell_type": "raw",
   "source": "",
   "metadata": {
    "pycharm": {
     "metadata": false
    }
   }
  },
  "pycharm": {
   "stem_cell": {
    "cell_type": "raw",
    "source": [],
    "metadata": {
     "collapsed": false
    }
   }
  }
 },
 "nbformat": 4,
 "nbformat_minor": 0
}