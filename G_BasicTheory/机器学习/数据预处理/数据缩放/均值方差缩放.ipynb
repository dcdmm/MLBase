{
 "cells": [
  {
   "cell_type": "markdown",
   "metadata": {
    "pycharm": {
     "metadata": false,
     "name": "#%% md\n"
    }
   },
   "source": [
    "<font color='red' size=4>把所有数据归一到均值为0方差为1的分布中</font>\n",
    "\n",
    "&emsp;&emsp;对序列$x_{1},x_{2},...,x_{n}$进行变换\n",
    "\n",
    "$$\n",
    "\\begin{equation}\n",
    "    y_{i}=\\frac{x_{i}-\\bar{x}}{s},\n",
    "    这里\\bar{x}=\\frac{\\sum_{i=1}^{n}x_{i}}{n},\n",
    "    {s^2} = \\frac{{\\sum\\limits_{i = 1}^n {{{({x_i} - \\bar x)}^2}} }}{{n - 1}}\n",
    "\\end{equation}\n",
    "$$\n",
    "\n",
    "$则新序列y_{1},y_{2},...,y_{n}的均值为0,方差为1,且无量纲化$"
   ]
  },
  {
   "cell_type": "code",
   "execution_count": 34,
   "metadata": {
    "pycharm": {
     "name": "#%%\n"
    }
   },
   "outputs": [],
   "source": [
    "from sklearn import datasets\n",
    "from sklearn.model_selection import train_test_split\n",
    "from sklearn import preprocessing"
   ]
  },
  {
   "cell_type": "code",
   "execution_count": 35,
   "metadata": {
    "collapsed": false,
    "pycharm": {
     "name": "#%%\n"
    }
   },
   "outputs": [],
   "source": [
    "digits = datasets.load_digits()  # 手写数字数据集\n",
    "X_train, X_test, y_train, y_test = train_test_split(digits.data, digits.target, test_size=0.2)"
   ]
  },
  {
   "cell_type": "code",
   "execution_count": 36,
   "metadata": {
    "collapsed": false,
    "pycharm": {
     "name": "#%%\n"
    }
   },
   "outputs": [
    {
     "data": {
      "text/plain": [
       "StandardScaler()"
      ]
     },
     "execution_count": 36,
     "metadata": {},
     "output_type": "execute_result"
    }
   ],
   "source": [
    "standardScalar = preprocessing.StandardScaler()\n",
    "standardScalar.fit(X_train)  # 参数必须为二维矩阵"
   ]
  },
  {
   "cell_type": "code",
   "execution_count": 37,
   "metadata": {
    "collapsed": false,
    "pycharm": {
     "name": "#%%\n"
    }
   },
   "outputs": [
    {
     "data": {
      "text/plain": [
       "array([0.00000000e+00, 3.27766180e-01, 5.27209464e+00, 1.18893528e+01,\n",
       "       1.18469033e+01, 5.78009743e+00, 1.42519137e+00, 1.48225470e-01,\n",
       "       6.26304802e-03, 2.05288796e+00, 1.03695198e+01, 1.20215727e+01,\n",
       "       1.04307585e+01, 8.22338205e+00, 1.86151705e+00, 1.29436326e-01,\n",
       "       2.08768267e-03, 2.62143354e+00, 9.89561587e+00, 7.02574809e+00,\n",
       "       7.18302018e+00, 7.81976340e+00, 1.79401531e+00, 5.77592206e-02,\n",
       "       6.95894224e-04, 2.43284621e+00, 9.09812109e+00, 8.81280445e+00,\n",
       "       9.91997216e+00, 7.59638135e+00, 2.35281837e+00, 2.08768267e-03,\n",
       "       0.00000000e+00, 2.28253305e+00, 7.55045233e+00, 9.08559499e+00,\n",
       "       1.02762700e+01, 8.74043145e+00, 2.89074461e+00, 0.00000000e+00,\n",
       "       9.74251914e-03, 1.55323591e+00, 6.77383438e+00, 7.24634656e+00,\n",
       "       7.69241475e+00, 8.20946416e+00, 3.38970077e+00, 3.13152401e-02,\n",
       "       8.35073069e-03, 6.93806541e-01, 7.49617258e+00, 9.46207376e+00,\n",
       "       9.42797495e+00, 8.67988866e+00, 3.67084203e+00, 2.15031315e-01,\n",
       "       6.95894224e-04, 2.96450939e-01, 5.63813500e+00, 1.21510090e+01,\n",
       "       1.17599165e+01, 6.64439805e+00, 2.02992345e+00, 3.62560891e-01])"
      ]
     },
     "execution_count": 37,
     "metadata": {},
     "output_type": "execute_result"
    }
   ],
   "source": [
    "standardScalar.mean_  # 训练数据集的均值"
   ]
  },
  {
   "cell_type": "code",
   "execution_count": 38,
   "metadata": {
    "collapsed": false,
    "pycharm": {
     "name": "#%%\n"
    }
   },
   "outputs": [
    {
     "data": {
      "text/plain": [
       "array([1.        , 0.95428643, 4.79667385, 4.25062172, 4.26409968,\n",
       "       5.68082337, 3.4288887 , 1.09577158, 0.10197641, 3.25638183,\n",
       "       5.39005921, 3.97174531, 4.7104291 , 6.03638321, 3.61946353,\n",
       "       0.91607649, 0.04564345, 3.59482926, 5.71184307, 5.7727823 ,\n",
       "       6.16773575, 6.1984306 , 3.28288497, 0.47936253, 0.02637063,\n",
       "       3.10439669, 6.17643427, 5.89768035, 6.14008339, 5.87351611,\n",
       "       3.71010404, 0.04564345, 1.        , 3.4493342 , 6.31847829,\n",
       "       6.28717043, 5.91692198, 5.91544344, 3.51632508, 1.        ,\n",
       "       0.15351054, 2.9708837 , 6.47469762, 6.42437909, 6.27218664,\n",
       "       5.72642067, 4.31515653, 0.33740466, 0.22677398, 1.72687522,\n",
       "       5.67486179, 5.24773756, 5.33862356, 6.01753115, 4.91622994,\n",
       "       1.02798535, 0.02637063, 0.97986404, 5.12623054, 4.36601596,\n",
       "       4.98279372, 5.89677426, 4.05320507, 1.86721816])"
      ]
     },
     "execution_count": 38,
     "metadata": {},
     "output_type": "execute_result"
    }
   ],
   "source": [
    "standardScalar.scale_  # 训练数据集的方差"
   ]
  },
  {
   "cell_type": "code",
   "execution_count": 39,
   "metadata": {
    "collapsed": false,
    "pycharm": {
     "name": "#%%\n"
    }
   },
   "outputs": [],
   "source": [
    "# 对每列数据进行均值方差归一化\n",
    "X_train_standard = standardScalar.transform(X_train)  # X_train不变\n",
    "X_test_standard = standardScalar.transform(X_test)  # 使用测试数据集的均值和方差进行归一化处理"
   ]
  },
  {
   "cell_type": "code",
   "execution_count": 40,
   "metadata": {
    "collapsed": false,
    "pycharm": {
     "name": "#%%\n"
    }
   },
   "outputs": [
    {
     "data": {
      "text/plain": [
       "array([ 0.00000000e+00, -2.86633780e-17,  1.43703189e-17,  2.00875425e-17,\n",
       "        3.39943028e-18,  9.25572153e-17,  1.76461335e-16,  1.36440770e-16,\n",
       "       -8.32696241e-16, -8.96213437e-18,  1.38913083e-16, -4.33789516e-17,\n",
       "       -1.19057319e-16, -1.48493295e-16,  1.91913291e-16,  5.15129577e-16,\n",
       "        3.62589800e-16, -3.18310290e-17, -3.59861565e-17, -7.70279997e-17,\n",
       "        5.31547280e-17,  2.45686097e-17,  1.63790732e-17,  3.52961300e-16,\n",
       "       -4.49347704e-16, -2.45995136e-16, -2.99767943e-17, -2.39891614e-16,\n",
       "       -1.07004794e-16, -1.69971514e-18,  6.10159105e-17,  7.01296672e-16,\n",
       "        0.00000000e+00,  2.64469881e-16, -9.51067880e-17, -1.24658653e-16,\n",
       "        6.64434100e-18,  1.50656569e-17, -2.37651080e-16,  0.00000000e+00,\n",
       "        6.39633711e-16,  3.74709928e-17,  9.20936566e-17,  2.28688946e-17,\n",
       "       -4.83259918e-17,  6.57867018e-17,  2.61138053e-17,  2.63687626e-16,\n",
       "        3.59171055e-16,  1.61859237e-16,  5.99535885e-17,  1.12490238e-16,\n",
       "        2.84509136e-16, -8.90418953e-17, -2.64228444e-17,  1.68542208e-16,\n",
       "       -4.79879802e-17, -3.12438546e-16,  1.93149448e-17, -2.23744320e-16,\n",
       "        1.73602723e-16, -4.10056277e-17, -4.86736608e-17,  1.58846106e-16])"
      ]
     },
     "execution_count": 40,
     "metadata": {},
     "output_type": "execute_result"
    }
   ],
   "source": [
    "X_train_standard.mean(axis=0)  # 每一列的均值(基本接近于0)\n",
    "\n",
    "\n"
   ]
  }
 ],
 "metadata": {
  "kernelspec": {
   "display_name": "Python 3",
   "language": "python",
   "name": "python3"
  },
  "language_info": {
   "codemirror_mode": {
    "name": "ipython",
    "version": 3
   },
   "file_extension": ".py",
   "mimetype": "text/x-python",
   "name": "python",
   "nbconvert_exporter": "python",
   "pygments_lexer": "ipython3",
   "version": "3.7.3"
  },
  "stem_cell": {
   "cell_type": "raw",
   "metadata": {
    "pycharm": {
     "metadata": false
    }
   },
   "source": ""
  }
 },
 "nbformat": 4,
 "nbformat_minor": 1
}
