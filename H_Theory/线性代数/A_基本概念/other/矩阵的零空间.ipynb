{
 "cells": [
  {
   "cell_type": "markdown",
   "source": [
    "&emsp;&emsp;设$A$为$m \\times n$矩阵,令$N(A)$为齐次方程组$A \\mathbf{x} = 0$的所有解的集合,\n",
    "则$N(A)$为$\\mathbb{R}^n$的一个子空间,称为$A$的零空间,即\n",
    "\n",
    "$$N(A) = \\{ \\mathbf{x} \\in \\mathbb{R}^n | A \\mathbf{x} =0 \\}  $$\n",
    "\n",
    "&emsp;&emsp;一个矩阵的零空间的维数称为矩阵的零度.\n",
    "\n",
    "<font color='red' size=4>秩-零度定理</font>\n",
    "\n",
    "&emsp;&emsp;设$A$为一$m \\times n$矩阵,则$A$的秩与$A$的零度之和为$n$.事实上,若$A$的秩为$r$,\n",
    "则方程组$A \\mathbf{x} = 0$的独立变量的个数为$r$,自由变量的个数为$ (n-r) $.$N(A)$的维数等于自由变量的个数.\n",
    "\n",
    "\n"
   ],
   "metadata": {
    "collapsed": false,
    "pycharm": {
     "name": "#%% md\n"
    }
   }
  }
 ],
 "metadata": {
  "kernelspec": {
   "display_name": "Python 3",
   "language": "python",
   "name": "python3"
  },
  "language_info": {
   "codemirror_mode": {
    "name": "ipython",
    "version": 2
   },
   "file_extension": ".py",
   "mimetype": "text/x-python",
   "name": "python",
   "nbconvert_exporter": "python",
   "pygments_lexer": "ipython2",
   "version": "2.7.6"
  }
 },
 "nbformat": 4,
 "nbformat_minor": 0
}