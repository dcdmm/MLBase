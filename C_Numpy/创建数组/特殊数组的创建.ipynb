{
 "cells": [
  {
   "cell_type": "markdown",
   "source": [
    "## 特殊数组的创建\n",
    "1.  numpy.eye\n",
    "2.  numpy.ones/number.zeros_like\n",
    "3.  numpy.zeros/number.zeros_like\n",
    "4.  numpy.empty/numpy.empty_like\n",
    "5.  numpy.full/number.full_like\n",
    "5.  numpy.diag"
   ],
   "metadata": {
    "pycharm": {
     "metadata": false,
     "name": "#%% md\n"
    }
   }
  },
  {
   "cell_type": "code",
   "execution_count": 32,
   "outputs": [
    {
     "name": "stdout",
     "text": [
      "[[1. 0. 0.]\n",
      " [0. 1. 0.]\n",
      " [0. 0. 1.]]\n",
      "[[0. 1. 0.]\n",
      " [0. 0. 1.]\n",
      " [0. 0. 0.]]\n",
      "\n",
      "[[0. 0. 1.]\n",
      " [0. 0. 0.]\n",
      " [0. 0. 0.]]\n",
      "\n",
      "[[0. 0. 0.]\n",
      " [1. 0. 0.]\n",
      " [0. 1. 0.]]\n",
      "\n",
      "[[0. 0. 0.]\n",
      " [0. 0. 0.]\n",
      " [1. 0. 0.]]\n",
      "\n"
     ],
     "output_type": "stream"
    }
   ],
   "source": [
    "import numpy as np\n",
    "# Return a 2-D array with ones on the diagonal and zeros elsewhere.\n",
    "'''\n",
    "k : int, optional\n",
    "    Index of the diagonal: 0 (the default) refers to the main diagonal, a positive value\n",
    "    refers to an upper diagonal, and a negative value to a lower diagonal.\n",
    "'''\n",
    "print(np.eye(3)) # 默认k=0,dtype=float\n",
    "print(np.eye(3, k=1), end='\\n\\n')\n",
    "print(np.eye(3, k=2), end='\\n\\n')\n",
    "print(np.eye(3, k=-1), end='\\n\\n')\n",
    "print(np.eye(3, k=-2), end='\\n\\n')\n"
   ],
   "metadata": {
    "collapsed": false,
    "pycharm": {
     "name": "#%%\n",
     "is_executing": false
    }
   }
  },
  {
   "cell_type": "code",
   "execution_count": 33,
   "outputs": [
    {
     "name": "stdout",
     "text": [
      "[1. 1. 1. 1. 1.]\n",
      "\n",
      "[[1. 1.]\n",
      " [1. 1.]]\n",
      "[[1. 1.]\n",
      " [1. 1.]]\n"
     ],
     "output_type": "stream"
    }
   ],
   "source": [
    "# Return a new array of given shape and type, filled with ones.\n",
    "print(np.ones(5), end='\\n\\n') # 向量/vector\n",
    "one = np.ones((2, 2))\n",
    "print(one)\n",
    "one_like = np.ones_like(one)\n",
    "print(one_like)"
   ],
   "metadata": {
    "pycharm": {
     "metadata": false,
     "name": "#%%\n",
     "is_executing": false
    }
   }
  },
  {
   "cell_type": "code",
   "execution_count": 34,
   "outputs": [
    {
     "name": "stdout",
     "text": [
      "[0. 0. 0. 0. 0.]\n",
      "\n",
      "[[0. 0.]\n",
      " [0. 0.]]\n"
     ],
     "output_type": "stream"
    }
   ],
   "source": [
    "# Return a new array of given shape and type, filled with zeros.\n",
    "print(np.zeros(5), end='\\n\\n')\n",
    "print(np.zeros((2, 2)))"
   ],
   "metadata": {
    "pycharm": {
     "metadata": false,
     "name": "#%%\n",
     "is_executing": false
    }
   }
  },
  {
   "cell_type": "code",
   "execution_count": 35,
   "outputs": [
    {
     "data": {
      "text/plain": "array([[0.00000000e+000, 0.00000000e+000, 0.00000000e+000,\n        0.00000000e+000],\n       [0.00000000e+000, 6.10665138e-321, 1.24611402e-306,\n        8.34451927e-308]])"
     },
     "metadata": {},
     "output_type": "execute_result",
     "execution_count": 35
    }
   ],
   "source": [
    "np.empty((2, 4)) # Return a new array of given shape and type, without initializing entries."
   ],
   "metadata": {
    "pycharm": {
     "metadata": false,
     "name": "#%%\n",
     "is_executing": false
    }
   }
  },
  {
   "cell_type": "code",
   "execution_count": 36,
   "outputs": [
    {
     "data": {
      "text/plain": "array([[inf, inf],\n       [inf, inf]])"
     },
     "metadata": {},
     "output_type": "execute_result",
     "execution_count": 36
    }
   ],
   "source": [
    "# Return a new array of given shape and type, filled with fill_value.\n",
    "inf = np.full((2, 2), np.inf)\n",
    "inf"
   ],
   "metadata": {
    "collapsed": false,
    "pycharm": {
     "name": "#%%\n",
     "is_executing": false
    }
   }
  },
  {
   "cell_type": "code",
   "execution_count": 37,
   "outputs": [
    {
     "data": {
      "text/plain": "array([[2.71828183, 2.71828183],\n       [2.71828183, 2.71828183]])"
     },
     "metadata": {},
     "output_type": "execute_result",
     "execution_count": 37
    }
   ],
   "source": [
    "e = np.full_like(inf, np.e)\n",
    "e"
   ],
   "metadata": {
    "collapsed": false,
    "pycharm": {
     "name": "#%%\n",
     "is_executing": false
    }
   }
  },
  {
   "cell_type": "code",
   "execution_count": 38,
   "outputs": [
    {
     "name": "stdout",
     "text": [
      "[[0 1 2]\n",
      " [3 4 5]\n",
      " [6 7 8]]\n",
      "[0 4 8]\n",
      "[1 5]\n"
     ],
     "output_type": "stream"
    }
   ],
   "source": [
    "x = np.arange(9).reshape((3,3))\n",
    "print(x)\n",
    "print(np.diag(x)) # Extract a diagonal\n",
    "'''\n",
    "k : int, optional\n",
    "    Diagonal in question. The default is 0. Use k>0 for diagonals above the main \n",
    "    diagonal, and k<0 for diagonals below the main diagonal.\n",
    "'''\n",
    "print(np.diag(x, k=1))"
   ],
   "metadata": {
    "collapsed": false,
    "pycharm": {
     "name": "#%%\n",
     "is_executing": false
    }
   }
  },
  {
   "cell_type": "code",
   "execution_count": 39,
   "outputs": [
    {
     "name": "stdout",
     "text": [
      "[[2 0 0]\n",
      " [0 3 0]\n",
      " [0 0 4]]\n"
     ],
     "output_type": "stream"
    }
   ],
   "source": [
    "print(np.diag((2, 3, 4))) # construct a diagonal array.\n",
    "\n",
    "\n",
    "\n"
   ],
   "metadata": {
    "collapsed": false,
    "pycharm": {
     "name": "#%%\n",
     "is_executing": false
    }
   }
  }
 ],
 "metadata": {
  "kernelspec": {
   "name": "python3",
   "language": "python",
   "display_name": "Python 3"
  },
  "language_info": {
   "codemirror_mode": {
    "name": "ipython",
    "version": 2
   },
   "file_extension": ".py",
   "mimetype": "text/x-python",
   "name": "python",
   "nbconvert_exporter": "python",
   "pygments_lexer": "ipython2",
   "version": "2.7.6"
  },
  "stem_cell": {
   "cell_type": "raw",
   "source": "",
   "metadata": {
    "pycharm": {
     "metadata": false
    }
   }
  },
  "pycharm": {
   "stem_cell": {
    "cell_type": "raw",
    "source": [],
    "metadata": {
     "collapsed": false
    }
   }
  }
 },
 "nbformat": 4,
 "nbformat_minor": 0
}