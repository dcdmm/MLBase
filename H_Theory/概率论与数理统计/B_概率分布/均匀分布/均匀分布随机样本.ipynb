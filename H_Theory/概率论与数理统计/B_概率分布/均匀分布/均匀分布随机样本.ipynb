{
 "cells": [
  {
   "cell_type": "markdown",
   "source": [
    "## 均匀分布随机样本\n",
    "1. scipy.stats.uniform.rsv\n",
    "2. numpy.random.uniform \n",
    "3. numpy.random.rand"
   ],
   "metadata": {
    "pycharm": {
     "metadata": false,
     "name": "#%% md\n"
    }
   }
  },
  {
   "cell_type": "code",
   "execution_count": 1,
   "outputs": [
    {
     "name": "stdout",
     "text": [
      "0.04174127307962583\n",
      "\n",
      "[[0.5101813  0.14352064 0.05952323 0.8262057  0.99735161]\n",
      " [0.93874638 0.89072205 0.84083116 0.80412011 0.26664706]]\n",
      "\n",
      "[10.09870211 10.02110135 10.00559956 10.00353245 10.09779257 10.00008754\n",
      " 10.03617099 10.08240988 10.09645651 10.08435906]\n",
      "\n"
     ],
     "output_type": "stream"
    }
   ],
   "source": [
    "from  scipy.stats import  uniform\n",
    "import  numpy as np\n",
    "\n",
    "# draw a single sample\n",
    "print(uniform.rvs(), end=\"\\n\\n\")\n",
    "#rvs(loc=0, scale=1, size=1, random_state=None)\tRandom variates.\n",
    "\n",
    "# draw 10 samples\n",
    "print(uniform.rvs(size=10).reshape(2, 5), end=\"\\n\\n\")\n",
    "\n",
    "# adjust mean ('loc') and standard deviation ('scale')\n",
    "print(uniform.rvs(loc=10, scale=0.1, size=10), end=\"\\n\\n\")"
   ],
   "metadata": {
    "pycharm": {
     "metadata": false,
     "name": "#%%\n",
     "is_executing": false
    }
   }
  },
  {
   "cell_type": "code",
   "source": [
    "s = np.random.uniform(2, 3, size=5) # 与上基本类似\n",
    "s"
   ],
   "metadata": {
    "pycharm": {
     "metadata": false,
     "name": "#%%\n",
     "is_executing": false
    }
   },
   "execution_count": 2,
   "outputs": [
    {
     "data": {
      "text/plain": "array([2.23608286, 2.71019063, 2.56809768, 2.44708788, 2.78243953])"
     },
     "metadata": {},
     "output_type": "execute_result",
     "execution_count": 2
    }
   ]
  },
  {
   "cell_type": "code",
   "execution_count": 3,
   "outputs": [
    {
     "data": {
      "text/plain": "array([[0.06064523, 0.89419568],\n       [0.82960251, 0.49135479],\n       [0.92875675, 0.63572807]])"
     },
     "metadata": {},
     "output_type": "execute_result",
     "execution_count": 3
    }
   ],
   "source": [
    "np.random.rand(3, 2)  # 接受任何尺度\n",
    "# Create an array of the given shape and populate it with random samples from a uniform distribution over [0, 1).\n",
    "\n",
    "\n"
   ],
   "metadata": {
    "collapsed": false,
    "pycharm": {
     "name": "#%%\n",
     "is_executing": false
    }
   }
  }
 ],
 "metadata": {
  "language_info": {
   "codemirror_mode": {
    "name": "ipython",
    "version": 2
   },
   "file_extension": ".py",
   "mimetype": "text/x-python",
   "name": "python",
   "nbconvert_exporter": "python",
   "pygments_lexer": "ipython2",
   "version": "2.7.6"
  },
  "kernelspec": {
   "name": "python3",
   "language": "python",
   "display_name": "Python 3"
  },
  "stem_cell": {
   "cell_type": "raw",
   "source": "",
   "metadata": {
    "pycharm": {
     "metadata": false
    }
   }
  },
  "pycharm": {
   "stem_cell": {
    "cell_type": "raw",
    "source": [],
    "metadata": {
     "collapsed": false
    }
   }
  }
 },
 "nbformat": 4,
 "nbformat_minor": 0
}