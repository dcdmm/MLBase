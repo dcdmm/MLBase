{
 "cells": [
  {
   "cell_type": "markdown",
   "metadata": {
    "pycharm": {
     "name": "#%% md\n"
    }
   },
   "source": [
    "&emsp;&emsp;条件随机场(conditional random field)是给定随机变量$X$的情况下,随机变量$Y$的马尔可夫随机场.这里主要介绍定义在线性链上的特殊的条件随机场,\n",
    "称为线性链条件随机场(linear chain conditional random field).线性链条件随机场可以用于标注等问题.这时,\n",
    "在条件概率$P(Y|X)$中,$Y$是输出变量,表示标记序列,$X$是输入变量,表示需要标注的观测序列.也把标记称为状态序列(参加HMM模型).学习时,\n",
    "利用训练数据集通过极大似然估计或正则化的极大似然估计得到条件概率模型$\\hat{P}(Y|X)$;预测时,\n",
    "对于给定的输入序列$\\mathbf{x}$,求出条件概率$\\hat{P}(Y|X)$最大的输出序列$\\hat{\\mathbf{y}}$.\n",
    "\n",
    "&emsp;&emsp;<font color='red'>定义:(条件随机场)</font>设$X$与$Y$是随机变量,$P(Y|X)$是在给定$X$的条件下$Y$的条件概率分布.\n",
    "若随机变量$Y$构成一个由无向图$G=(V,E)$表示的马尔可夫随机场,即\n",
    "\n",
    "$$ P\\left(Y_{v} \\mid X, Y_{w}, w \\neq v\\right)=P\\left(Y_{v} \\mid X, Y_{w}, w \\sim v\\right) \\quad \\text{注:由局部马尔科夫性得} $$\n",
    "\n",
    "对任意结点$v$成立,则称条件概率分布$P(X|Y)$为条件随机场.式中$w \\sim v$表示在图$G=(V,E)$中结点$v$由边连接的所有结点$w$,$w \\neq v$表示结点$v$以外的所有结点,$Y_v,Y_u$与$Y_w$为结点$v,u$与$w$对应的随机变量.\n",
    "\n",
    "&emsp;&emsp;在定义中并没有要求$X$和$Y$具有相同的结构.现实中,一般假设$X$和$Y$有相同的图结构.这里主要考虑的无向图如下图所示的线性链的情况,即\n",
    "\n",
    "$$ G=(V=\\{1,2, \\cdots, n\\}, E=\\{(i, i+1)\\}), \\quad i=1,2, \\cdots, n-1 $$\n",
    "\n",
    "在此情况下,$X=(X_1,X_2,\\cdots,X_n),Y=(Y_1,Y_2,\\cdots,Y_n)$,最大团是相邻两个结点的集合.线性链条件随机场有下面的定义.\n",
    "\n",
    "<img src=\"../../../Other/img/线性链条件随机场.png\">\n",
    "\n",
    "\n",
    "&emsp;&emsp;<font color='red'>定义:(线性链条件随机场)</font>设$X=(X_1,X_2,\\cdots,X_n),Y=(Y_1,Y_2,\\cdots,Y_n)$均为线性链表示的随机变量序列,若在给定随机变量序列$X$的条件下,随机变量序列$Y$的条件概率分布$P(Y|X)$构成条件随机场,即满足马尔可夫性\n",
    "\n",
    "$$\n",
    "\\begin{array}{c}\n",
    "P\\left(Y_{i} \\mid X, Y_{1}, \\cdots, Y_{i-1}, Y_{i+1}, \\cdots, Y_{n}\\right)=P\\left(Y_{i} \\mid X, Y_{i-1}, Y_{i+1}\\right) \\\\\n",
    "i=1,2, \\cdots, n(\\text {在 } i=1 \\text { 和 } n \\text { 时只考虑单边) }\n",
    "\\end{array}\n",
    "$$\n",
    "\n",
    "则称$P(Y|X)$为线性链条件随机场,在标注问题中,$X$表示输入观测序列,$Y$表示对应的输出标记序列或状态序列."
   ]
  },
  {
   "cell_type": "code",
   "execution_count": null,
   "metadata": {
    "pycharm": {
     "name": "#%%\n"
    }
   },
   "outputs": [],
   "source": []
  }
 ],
 "metadata": {
  "kernelspec": {
   "display_name": "Python 3 (ipykernel)",
   "language": "python",
   "name": "python3"
  },
  "language_info": {
   "codemirror_mode": {
    "name": "ipython",
    "version": 3
   },
   "file_extension": ".py",
   "mimetype": "text/x-python",
   "name": "python",
   "nbconvert_exporter": "python",
   "pygments_lexer": "ipython3",
   "version": "3.8.12"
  },
  "toc": {
   "base_numbering": 1,
   "nav_menu": {},
   "number_sections": true,
   "sideBar": true,
   "skip_h1_title": false,
   "title_cell": "Table of Contents",
   "title_sidebar": "Contents",
   "toc_cell": false,
   "toc_position": {},
   "toc_section_display": true,
   "toc_window_display": false
  }
 },
 "nbformat": 4,
 "nbformat_minor": 4
}