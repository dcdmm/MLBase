{
 "cells": [
  {
   "cell_type": "code",
   "id": "initial_id",
   "metadata": {
    "collapsed": true,
    "ExecuteTime": {
     "end_time": "2024-08-01T10:13:22.142117Z",
     "start_time": "2024-08-01T10:13:22.130306Z"
    }
   },
   "source": [
    "from collections.abc import Sequence\n",
    "\n",
    "\n",
    "def func_Sequence(elements: Sequence[int]) -> list[int]:\n",
    "    return [x for x in elements]\n",
    "\n",
    "\n",
    "def func_Sequence1(elements: Sequence[str]) -> list[int]:\n",
    "    return [x for x in elements]\n",
    "\n",
    "\n",
    "print(func_Sequence.__annotations__)\n",
    "\n",
    "# 列表是序列类型\n",
    "print(func_Sequence([1, 2, 3, 4]))\n",
    "print(func_Sequence([1.2, 2.4, 3.12, 4]))  # 只需有一个元素满足要求即可\n",
    "print(func_Sequence([1.2, 2.4, 3.12, 4.21]))  # 提示类型不匹配\n",
    "\n",
    "# 元组是序列类型\n",
    "print(func_Sequence((1, 2, 3, 4)))\n",
    "print(func_Sequence((1.2, 2.4, 3.12, 4)))  # 只需有一个元素满足要求即可\n",
    "print(func_Sequence((1.2, 2.4, 3.12, 4.21)))  # 提示类型不匹配\n",
    "\n",
    "# 字符串是序列类型\n",
    "print(func_Sequence1(['a', 'b', 'c', 'd']))\n",
    "print(func_Sequence1(\"duanchao\"))\n",
    "print(func_Sequence1(['a', 1, 2, 3]))  # 只需有一个元素满足要求即可\n",
    "print(func_Sequence1([1, 2, 3, 4]))  # 提示类型不匹配\n",
    "print(func_Sequence1([1.2, 2.4, 3.12, 4]))  # 提示类型不匹配\n",
    "print(func_Sequence1([1.2, 2.4, 3.12, 4.21]))  # 提示类型不匹配"
   ],
   "outputs": [
    {
     "name": "stdout",
     "output_type": "stream",
     "text": [
      "{'elements': collections.abc.Sequence[int], 'return': list[int]}\n",
      "[1, 2, 3, 4]\n",
      "[1.2, 2.4, 3.12, 4]\n",
      "[1.2, 2.4, 3.12, 4.21]\n",
      "[1, 2, 3, 4]\n",
      "[1.2, 2.4, 3.12, 4]\n",
      "[1.2, 2.4, 3.12, 4.21]\n",
      "['a', 'b', 'c', 'd']\n",
      "['d', 'u', 'a', 'n', 'c', 'h', 'a', 'o']\n",
      "['a', 1, 2, 3]\n",
      "[1, 2, 3, 4]\n",
      "[1.2, 2.4, 3.12, 4]\n",
      "[1.2, 2.4, 3.12, 4.21]\n"
     ]
    }
   ],
   "execution_count": 5
  }
 ],
 "metadata": {
  "kernelspec": {
   "display_name": "Python 3",
   "language": "python",
   "name": "python3"
  },
  "language_info": {
   "codemirror_mode": {
    "name": "ipython",
    "version": 2
   },
   "file_extension": ".py",
   "mimetype": "text/x-python",
   "name": "python",
   "nbconvert_exporter": "python",
   "pygments_lexer": "ipython2",
   "version": "2.7.6"
  }
 },
 "nbformat": 4,
 "nbformat_minor": 5
}
