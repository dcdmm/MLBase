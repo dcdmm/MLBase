{
 "cells": [
  {
   "cell_type": "code",
   "execution_count": 21,
   "metadata": {
    "collapsed": true,
    "pycharm": {
     "name": "#%%\n"
    }
   },
   "outputs": [],
   "source": [
    "import torchtext\n",
    "from torchtext.vocab import build_vocab_from_iterator"
   ]
  },
  {
   "cell_type": "code",
   "execution_count": 22,
   "outputs": [
    {
     "data": {
      "text/plain": "<torchtext.vocab.vectors.GloVe at 0x1f887e57910>"
     },
     "execution_count": 22,
     "metadata": {},
     "output_type": "execute_result"
    }
   ],
   "source": [
    "'''\n",
    "# glove模型词向量\n",
    "glove.42B.300d\n",
    "glove.840B.300d\n",
    "glove.twitter.27B.25d\n",
    "glove.twitter.27B.50d\n",
    "glove.twitter.27B.100d\n",
    "glove.twitter.27B.200d\n",
    "glove.6B.50d\n",
    "glove.6B.100d\n",
    "glove.6B.200d\n",
    "glove.6B.300d\n",
    "'''\n",
    "vec = torchtext.vocab.GloVe(name='6B', dim=50)\n",
    "vec"
   ],
   "metadata": {
    "collapsed": false,
    "pycharm": {
     "name": "#%%\n"
    }
   }
  },
  {
   "cell_type": "code",
   "execution_count": 23,
   "outputs": [
    {
     "name": "stdout",
     "output_type": "stream",
     "text": [
      "{'and': 2, '<pad>': 0, '<unk>': 1, '段': 6, 'of': 3, 'the': 5, 'said': 4, '超': 7}\n",
      "['<pad>', '<unk>', 'and', 'of', 'said', 'the', '段', '超']\n"
     ]
    }
   ],
   "source": [
    "examples = ['the', 'said', 'of', 'and', '段', '超', '<unk>', '<pad>']\n",
    "v1 = build_vocab_from_iterator(iterator=[examples])\n",
    "print(v1.get_stoi())\n",
    "print(v1.get_itos())"
   ],
   "metadata": {
    "collapsed": false,
    "pycharm": {
     "name": "#%%\n"
    }
   }
  },
  {
   "cell_type": "code",
   "execution_count": 24,
   "outputs": [
    {
     "data": {
      "text/plain": "tensor([[ 0.0000e+00,  0.0000e+00,  0.0000e+00,  0.0000e+00,  0.0000e+00,\n          0.0000e+00,  0.0000e+00,  0.0000e+00,  0.0000e+00,  0.0000e+00,\n          0.0000e+00,  0.0000e+00,  0.0000e+00,  0.0000e+00,  0.0000e+00,\n          0.0000e+00,  0.0000e+00,  0.0000e+00,  0.0000e+00,  0.0000e+00,\n          0.0000e+00,  0.0000e+00,  0.0000e+00,  0.0000e+00,  0.0000e+00,\n          0.0000e+00,  0.0000e+00,  0.0000e+00,  0.0000e+00,  0.0000e+00,\n          0.0000e+00,  0.0000e+00,  0.0000e+00,  0.0000e+00,  0.0000e+00,\n          0.0000e+00,  0.0000e+00,  0.0000e+00,  0.0000e+00,  0.0000e+00,\n          0.0000e+00,  0.0000e+00,  0.0000e+00,  0.0000e+00,  0.0000e+00,\n          0.0000e+00,  0.0000e+00,  0.0000e+00,  0.0000e+00,  0.0000e+00],\n        [ 0.0000e+00,  0.0000e+00,  0.0000e+00,  0.0000e+00,  0.0000e+00,\n          0.0000e+00,  0.0000e+00,  0.0000e+00,  0.0000e+00,  0.0000e+00,\n          0.0000e+00,  0.0000e+00,  0.0000e+00,  0.0000e+00,  0.0000e+00,\n          0.0000e+00,  0.0000e+00,  0.0000e+00,  0.0000e+00,  0.0000e+00,\n          0.0000e+00,  0.0000e+00,  0.0000e+00,  0.0000e+00,  0.0000e+00,\n          0.0000e+00,  0.0000e+00,  0.0000e+00,  0.0000e+00,  0.0000e+00,\n          0.0000e+00,  0.0000e+00,  0.0000e+00,  0.0000e+00,  0.0000e+00,\n          0.0000e+00,  0.0000e+00,  0.0000e+00,  0.0000e+00,  0.0000e+00,\n          0.0000e+00,  0.0000e+00,  0.0000e+00,  0.0000e+00,  0.0000e+00,\n          0.0000e+00,  0.0000e+00,  0.0000e+00,  0.0000e+00,  0.0000e+00],\n        [ 2.6818e-01,  1.4346e-01, -2.7877e-01,  1.6257e-02,  1.1384e-01,\n          6.9923e-01, -5.1332e-01, -4.7368e-01, -3.3075e-01, -1.3834e-01,\n          2.7020e-01,  3.0938e-01, -4.5012e-01, -4.1270e-01, -9.9320e-02,\n          3.8085e-02,  2.9749e-02,  1.0076e-01, -2.5058e-01, -5.1818e-01,\n          3.4558e-01,  4.4922e-01,  4.8791e-01, -8.0866e-02, -1.0121e-01,\n         -1.3777e+00, -1.0866e-01, -2.3201e-01,  1.2839e-02, -4.6508e-01,\n          3.8463e+00,  3.1362e-01,  1.3643e-01, -5.2244e-01,  3.3020e-01,\n          3.3707e-01, -3.5601e-01,  3.2431e-01,  1.2041e-01,  3.5120e-01,\n         -6.9043e-02,  3.6885e-01,  2.5168e-01, -2.4517e-01,  2.5381e-01,\n          1.3670e-01, -3.1178e-01, -6.3210e-01, -2.5028e-01, -3.8097e-01],\n        [ 7.0853e-01,  5.7088e-01, -4.7160e-01,  1.8048e-01,  5.4449e-01,\n          7.2603e-01,  1.8157e-01, -5.2393e-01,  1.0381e-01, -1.7566e-01,\n          7.8852e-02, -3.6216e-01, -1.1829e-01, -8.3336e-01,  1.1917e-01,\n         -1.6605e-01,  6.1555e-02, -1.2719e-02, -5.6623e-01,  1.3616e-02,\n          2.2851e-01, -1.4396e-01, -6.7549e-02, -3.8157e-01, -2.3698e-01,\n         -1.7037e+00, -8.6692e-01, -2.6704e-01, -2.5890e-01,  1.7670e-01,\n          3.8676e+00, -1.6130e-01, -1.3273e-01, -6.8881e-01,  1.8444e-01,\n          5.2464e-03, -3.3874e-01, -7.8956e-02,  2.4185e-01,  3.6576e-01,\n         -3.4727e-01,  2.8483e-01,  7.5693e-02, -6.2178e-02, -3.8988e-01,\n          2.2902e-01, -2.1617e-01, -2.2562e-01, -9.3918e-02, -8.0375e-01],\n        [ 3.8973e-01, -2.1210e-01,  5.1837e-01,  8.0136e-01,  1.0336e+00,\n         -2.7784e-01, -8.4525e-01, -2.5333e-01,  1.2586e-01, -9.0342e-01,\n          2.4975e-01,  2.2022e-01, -1.2053e+00, -5.3771e-01,  1.0446e+00,\n          6.2778e-01,  3.9704e-01, -1.5812e-01,  3.8102e-01, -5.4674e-01,\n         -4.4009e-01,  1.0976e+00,  1.3069e-02, -8.9971e-01,  4.1226e-01,\n         -2.2309e+00,  2.8997e-01,  3.2175e-01, -7.2738e-01, -9.2244e-02,\n          3.0280e+00, -6.2599e-02,  3.8329e-02,  7.2918e-03, -3.5388e-01,\n         -9.2256e-01,  9.7932e-02,  1.0068e-01,  1.2116e+00,  8.8233e-01,\n         -4.6297e-01,  1.3186e+00,  3.2705e-01, -7.3446e-01,  8.9301e-01,\n         -4.5324e-01, -1.2698e+00,  8.6119e-01,  1.4150e-01,  1.2018e+00],\n        [ 4.1800e-01,  2.4968e-01, -4.1242e-01,  1.2170e-01,  3.4527e-01,\n         -4.4457e-02, -4.9688e-01, -1.7862e-01, -6.6023e-04, -6.5660e-01,\n          2.7843e-01, -1.4767e-01, -5.5677e-01,  1.4658e-01, -9.5095e-03,\n          1.1658e-02,  1.0204e-01, -1.2792e-01, -8.4430e-01, -1.2181e-01,\n         -1.6801e-02, -3.3279e-01, -1.5520e-01, -2.3131e-01, -1.9181e-01,\n         -1.8823e+00, -7.6746e-01,  9.9051e-02, -4.2125e-01, -1.9526e-01,\n          4.0071e+00, -1.8594e-01, -5.2287e-01, -3.1681e-01,  5.9213e-04,\n          7.4449e-03,  1.7778e-01, -1.5897e-01,  1.2041e-02, -5.4223e-02,\n         -2.9871e-01, -1.5749e-01, -3.4758e-01, -4.5637e-02, -4.4251e-01,\n          1.8785e-01,  2.7849e-03, -1.8411e-01, -1.1514e-01, -7.8581e-01],\n        [ 0.0000e+00,  0.0000e+00,  0.0000e+00,  0.0000e+00,  0.0000e+00,\n          0.0000e+00,  0.0000e+00,  0.0000e+00,  0.0000e+00,  0.0000e+00,\n          0.0000e+00,  0.0000e+00,  0.0000e+00,  0.0000e+00,  0.0000e+00,\n          0.0000e+00,  0.0000e+00,  0.0000e+00,  0.0000e+00,  0.0000e+00,\n          0.0000e+00,  0.0000e+00,  0.0000e+00,  0.0000e+00,  0.0000e+00,\n          0.0000e+00,  0.0000e+00,  0.0000e+00,  0.0000e+00,  0.0000e+00,\n          0.0000e+00,  0.0000e+00,  0.0000e+00,  0.0000e+00,  0.0000e+00,\n          0.0000e+00,  0.0000e+00,  0.0000e+00,  0.0000e+00,  0.0000e+00,\n          0.0000e+00,  0.0000e+00,  0.0000e+00,  0.0000e+00,  0.0000e+00,\n          0.0000e+00,  0.0000e+00,  0.0000e+00,  0.0000e+00,  0.0000e+00],\n        [ 0.0000e+00,  0.0000e+00,  0.0000e+00,  0.0000e+00,  0.0000e+00,\n          0.0000e+00,  0.0000e+00,  0.0000e+00,  0.0000e+00,  0.0000e+00,\n          0.0000e+00,  0.0000e+00,  0.0000e+00,  0.0000e+00,  0.0000e+00,\n          0.0000e+00,  0.0000e+00,  0.0000e+00,  0.0000e+00,  0.0000e+00,\n          0.0000e+00,  0.0000e+00,  0.0000e+00,  0.0000e+00,  0.0000e+00,\n          0.0000e+00,  0.0000e+00,  0.0000e+00,  0.0000e+00,  0.0000e+00,\n          0.0000e+00,  0.0000e+00,  0.0000e+00,  0.0000e+00,  0.0000e+00,\n          0.0000e+00,  0.0000e+00,  0.0000e+00,  0.0000e+00,  0.0000e+00,\n          0.0000e+00,  0.0000e+00,  0.0000e+00,  0.0000e+00,  0.0000e+00,\n          0.0000e+00,  0.0000e+00,  0.0000e+00,  0.0000e+00,  0.0000e+00]])"
     },
     "execution_count": 24,
     "metadata": {},
     "output_type": "execute_result"
    }
   ],
   "source": [
    "# 单词顺序为v1.get_itos()\n",
    "\n",
    "# 第1个词向量表示单词`<pad>`(不存在预训练词向量中);为全0向量\n",
    "# 第2个词向量表示单词`<unk>`(不存在预训练词向量中);为全0向量\n",
    "# 第3个词向量表示单词`and`\n",
    "# 第4个词向量表示单词`of`\n",
    "# 第5个词向量表示单词`said`\n",
    "# 第6个词向量表示单词`the`\n",
    "# 第7个词向量表示但是`段`(不存在预训练词向量中);为全0向量\n",
    "# 第9个词向量表示但是`超`(不存在预训练词向量中);为全0向量\n",
    "vec.get_vecs_by_tokens(v1.get_itos())"
   ],
   "metadata": {
    "collapsed": false,
    "pycharm": {
     "name": "#%%\n"
    }
   }
  },
  {
   "cell_type": "code",
   "execution_count": 25,
   "outputs": [
    {
     "data": {
      "text/plain": "<torchtext.vocab.vectors.Vectors at 0x1f8f55e3fa0>"
     },
     "execution_count": 25,
     "metadata": {},
     "output_type": "execute_result"
    }
   ],
   "source": [
    "'''\n",
    "max_vectors (int) –\n",
    "    this can be used to limit the number of pre-trained vectors loaded.\n",
    "    Most pre-trained vector sets are sorted in the descending order of word frequency.\n",
    "    Thus, in situations where the entire set doesn’t fit in memory, or is not needed for another reason, passing max_vectors can limit the size of the loaded set.\n",
    "'''\n",
    "# 加载预训练词向量文件(注:第一行不要为:vocab_size, vector_size;如6151, 200)\n",
    "vec1 = torchtext.vocab.Vectors(name=\"glove.6B.50d.txt\",\n",
    "                               cache='.vector_cache',\n",
    "                               max_vectors=10000)\n",
    "\n",
    "vec1"
   ],
   "metadata": {
    "collapsed": false,
    "pycharm": {
     "name": "#%%\n"
    }
   }
  },
  {
   "cell_type": "code",
   "execution_count": 26,
   "outputs": [
    {
     "data": {
      "text/plain": "tensor([[ 4.1800e-01,  2.4968e-01, -4.1242e-01,  1.2170e-01,  3.4527e-01,\n         -4.4457e-02, -4.9688e-01, -1.7862e-01, -6.6023e-04, -6.5660e-01,\n          2.7843e-01, -1.4767e-01, -5.5677e-01,  1.4658e-01, -9.5095e-03,\n          1.1658e-02,  1.0204e-01, -1.2792e-01, -8.4430e-01, -1.2181e-01,\n         -1.6801e-02, -3.3279e-01, -1.5520e-01, -2.3131e-01, -1.9181e-01,\n         -1.8823e+00, -7.6746e-01,  9.9051e-02, -4.2125e-01, -1.9526e-01,\n          4.0071e+00, -1.8594e-01, -5.2287e-01, -3.1681e-01,  5.9213e-04,\n          7.4449e-03,  1.7778e-01, -1.5897e-01,  1.2041e-02, -5.4223e-02,\n         -2.9871e-01, -1.5749e-01, -3.4758e-01, -4.5637e-02, -4.4251e-01,\n          1.8785e-01,  2.7849e-03, -1.8411e-01, -1.1514e-01, -7.8581e-01],\n        [ 3.8973e-01, -2.1210e-01,  5.1837e-01,  8.0136e-01,  1.0336e+00,\n         -2.7784e-01, -8.4525e-01, -2.5333e-01,  1.2586e-01, -9.0342e-01,\n          2.4975e-01,  2.2022e-01, -1.2053e+00, -5.3771e-01,  1.0446e+00,\n          6.2778e-01,  3.9704e-01, -1.5812e-01,  3.8102e-01, -5.4674e-01,\n         -4.4009e-01,  1.0976e+00,  1.3069e-02, -8.9971e-01,  4.1226e-01,\n         -2.2309e+00,  2.8997e-01,  3.2175e-01, -7.2738e-01, -9.2244e-02,\n          3.0280e+00, -6.2599e-02,  3.8329e-02,  7.2918e-03, -3.5388e-01,\n         -9.2256e-01,  9.7932e-02,  1.0068e-01,  1.2116e+00,  8.8233e-01,\n         -4.6297e-01,  1.3186e+00,  3.2705e-01, -7.3446e-01,  8.9301e-01,\n         -4.5324e-01, -1.2698e+00,  8.6119e-01,  1.4150e-01,  1.2018e+00],\n        [ 7.0853e-01,  5.7088e-01, -4.7160e-01,  1.8048e-01,  5.4449e-01,\n          7.2603e-01,  1.8157e-01, -5.2393e-01,  1.0381e-01, -1.7566e-01,\n          7.8852e-02, -3.6216e-01, -1.1829e-01, -8.3336e-01,  1.1917e-01,\n         -1.6605e-01,  6.1555e-02, -1.2719e-02, -5.6623e-01,  1.3616e-02,\n          2.2851e-01, -1.4396e-01, -6.7549e-02, -3.8157e-01, -2.3698e-01,\n         -1.7037e+00, -8.6692e-01, -2.6704e-01, -2.5890e-01,  1.7670e-01,\n          3.8676e+00, -1.6130e-01, -1.3273e-01, -6.8881e-01,  1.8444e-01,\n          5.2464e-03, -3.3874e-01, -7.8956e-02,  2.4185e-01,  3.6576e-01,\n         -3.4727e-01,  2.8483e-01,  7.5693e-02, -6.2178e-02, -3.8988e-01,\n          2.2902e-01, -2.1617e-01, -2.2562e-01, -9.3918e-02, -8.0375e-01],\n        [ 2.6818e-01,  1.4346e-01, -2.7877e-01,  1.6257e-02,  1.1384e-01,\n          6.9923e-01, -5.1332e-01, -4.7368e-01, -3.3075e-01, -1.3834e-01,\n          2.7020e-01,  3.0938e-01, -4.5012e-01, -4.1270e-01, -9.9320e-02,\n          3.8085e-02,  2.9749e-02,  1.0076e-01, -2.5058e-01, -5.1818e-01,\n          3.4558e-01,  4.4922e-01,  4.8791e-01, -8.0866e-02, -1.0121e-01,\n         -1.3777e+00, -1.0866e-01, -2.3201e-01,  1.2839e-02, -4.6508e-01,\n          3.8463e+00,  3.1362e-01,  1.3643e-01, -5.2244e-01,  3.3020e-01,\n          3.3707e-01, -3.5601e-01,  3.2431e-01,  1.2041e-01,  3.5120e-01,\n         -6.9043e-02,  3.6885e-01,  2.5168e-01, -2.4517e-01,  2.5381e-01,\n          1.3670e-01, -3.1178e-01, -6.3210e-01, -2.5028e-01, -3.8097e-01],\n        [ 0.0000e+00,  0.0000e+00,  0.0000e+00,  0.0000e+00,  0.0000e+00,\n          0.0000e+00,  0.0000e+00,  0.0000e+00,  0.0000e+00,  0.0000e+00,\n          0.0000e+00,  0.0000e+00,  0.0000e+00,  0.0000e+00,  0.0000e+00,\n          0.0000e+00,  0.0000e+00,  0.0000e+00,  0.0000e+00,  0.0000e+00,\n          0.0000e+00,  0.0000e+00,  0.0000e+00,  0.0000e+00,  0.0000e+00,\n          0.0000e+00,  0.0000e+00,  0.0000e+00,  0.0000e+00,  0.0000e+00,\n          0.0000e+00,  0.0000e+00,  0.0000e+00,  0.0000e+00,  0.0000e+00,\n          0.0000e+00,  0.0000e+00,  0.0000e+00,  0.0000e+00,  0.0000e+00,\n          0.0000e+00,  0.0000e+00,  0.0000e+00,  0.0000e+00,  0.0000e+00,\n          0.0000e+00,  0.0000e+00,  0.0000e+00,  0.0000e+00,  0.0000e+00],\n        [ 0.0000e+00,  0.0000e+00,  0.0000e+00,  0.0000e+00,  0.0000e+00,\n          0.0000e+00,  0.0000e+00,  0.0000e+00,  0.0000e+00,  0.0000e+00,\n          0.0000e+00,  0.0000e+00,  0.0000e+00,  0.0000e+00,  0.0000e+00,\n          0.0000e+00,  0.0000e+00,  0.0000e+00,  0.0000e+00,  0.0000e+00,\n          0.0000e+00,  0.0000e+00,  0.0000e+00,  0.0000e+00,  0.0000e+00,\n          0.0000e+00,  0.0000e+00,  0.0000e+00,  0.0000e+00,  0.0000e+00,\n          0.0000e+00,  0.0000e+00,  0.0000e+00,  0.0000e+00,  0.0000e+00,\n          0.0000e+00,  0.0000e+00,  0.0000e+00,  0.0000e+00,  0.0000e+00,\n          0.0000e+00,  0.0000e+00,  0.0000e+00,  0.0000e+00,  0.0000e+00,\n          0.0000e+00,  0.0000e+00,  0.0000e+00,  0.0000e+00,  0.0000e+00],\n        [ 0.0000e+00,  0.0000e+00,  0.0000e+00,  0.0000e+00,  0.0000e+00,\n          0.0000e+00,  0.0000e+00,  0.0000e+00,  0.0000e+00,  0.0000e+00,\n          0.0000e+00,  0.0000e+00,  0.0000e+00,  0.0000e+00,  0.0000e+00,\n          0.0000e+00,  0.0000e+00,  0.0000e+00,  0.0000e+00,  0.0000e+00,\n          0.0000e+00,  0.0000e+00,  0.0000e+00,  0.0000e+00,  0.0000e+00,\n          0.0000e+00,  0.0000e+00,  0.0000e+00,  0.0000e+00,  0.0000e+00,\n          0.0000e+00,  0.0000e+00,  0.0000e+00,  0.0000e+00,  0.0000e+00,\n          0.0000e+00,  0.0000e+00,  0.0000e+00,  0.0000e+00,  0.0000e+00,\n          0.0000e+00,  0.0000e+00,  0.0000e+00,  0.0000e+00,  0.0000e+00,\n          0.0000e+00,  0.0000e+00,  0.0000e+00,  0.0000e+00,  0.0000e+00],\n        [ 0.0000e+00,  0.0000e+00,  0.0000e+00,  0.0000e+00,  0.0000e+00,\n          0.0000e+00,  0.0000e+00,  0.0000e+00,  0.0000e+00,  0.0000e+00,\n          0.0000e+00,  0.0000e+00,  0.0000e+00,  0.0000e+00,  0.0000e+00,\n          0.0000e+00,  0.0000e+00,  0.0000e+00,  0.0000e+00,  0.0000e+00,\n          0.0000e+00,  0.0000e+00,  0.0000e+00,  0.0000e+00,  0.0000e+00,\n          0.0000e+00,  0.0000e+00,  0.0000e+00,  0.0000e+00,  0.0000e+00,\n          0.0000e+00,  0.0000e+00,  0.0000e+00,  0.0000e+00,  0.0000e+00,\n          0.0000e+00,  0.0000e+00,  0.0000e+00,  0.0000e+00,  0.0000e+00,\n          0.0000e+00,  0.0000e+00,  0.0000e+00,  0.0000e+00,  0.0000e+00,\n          0.0000e+00,  0.0000e+00,  0.0000e+00,  0.0000e+00,  0.0000e+00]])"
     },
     "execution_count": 26,
     "metadata": {},
     "output_type": "execute_result"
    }
   ],
   "source": [
    "vec1.get_vecs_by_tokens(examples)"
   ],
   "metadata": {
    "collapsed": false,
    "pycharm": {
     "name": "#%%\n"
    }
   }
  },
  {
   "cell_type": "code",
   "execution_count": 27,
   "outputs": [
    {
     "name": "stdout",
     "output_type": "stream",
     "text": [
      "torch.Size([10000, 50])\n",
      "tensor([[ 0.4180,  0.2497, -0.4124,  ..., -0.1841, -0.1151, -0.7858],\n",
      "        [ 0.0134,  0.2368, -0.1690,  ..., -0.5666,  0.0447,  0.3039],\n",
      "        [ 0.1516,  0.3018, -0.1676,  ..., -0.3565,  0.0164,  0.1022],\n",
      "        ...,\n",
      "        [ 0.4327, -0.5848,  0.9672,  ...,  0.8517,  0.5601,  0.7772],\n",
      "        [ 0.4071, -1.1284,  0.6293,  ..., -0.5801,  0.0437,  0.1718],\n",
      "        [-0.5964, -0.0399, -0.1613,  ..., -0.0675,  0.2007,  0.8581]])\n"
     ]
    }
   ],
   "source": [
    "print(vec1.vectors.shape)\n",
    "print(vec1.vectors)  # 词向量矩阵"
   ],
   "metadata": {
    "collapsed": false,
    "pycharm": {
     "name": "#%%\n"
    }
   }
  },
  {
   "cell_type": "code",
   "execution_count": 28,
   "outputs": [
    {
     "data": {
      "text/plain": "50"
     },
     "execution_count": 28,
     "metadata": {},
     "output_type": "execute_result"
    }
   ],
   "source": [
    "vec1.dim  # 词向量维度"
   ],
   "metadata": {
    "collapsed": false,
    "pycharm": {
     "name": "#%%\n"
    }
   }
  },
  {
   "cell_type": "code",
   "execution_count": 29,
   "outputs": [
    {
     "data": {
      "text/plain": "{'the': 0,\n ',': 1,\n '.': 2,\n 'of': 3,\n 'to': 4,\n 'and': 5,\n 'in': 6,\n 'a': 7,\n '\"': 8,\n \"'s\": 9,\n 'for': 10,\n '-': 11,\n 'that': 12,\n 'on': 13,\n 'is': 14,\n 'was': 15,\n 'said': 16,\n 'with': 17,\n 'he': 18,\n 'as': 19,\n 'it': 20,\n 'by': 21,\n 'at': 22,\n '(': 23,\n ')': 24,\n 'from': 25,\n 'his': 26,\n \"''\": 27,\n '``': 28,\n 'an': 29,\n 'be': 30,\n 'has': 31,\n 'are': 32,\n 'have': 33,\n 'but': 34,\n 'were': 35,\n 'not': 36,\n 'this': 37,\n 'who': 38,\n 'they': 39,\n 'had': 40,\n 'i': 41,\n 'which': 42,\n 'will': 43,\n 'their': 44,\n ':': 45,\n 'or': 46,\n 'its': 47,\n 'one': 48,\n 'after': 49,\n 'new': 50,\n 'been': 51,\n 'also': 52,\n 'we': 53,\n 'would': 54,\n 'two': 55,\n 'more': 56,\n \"'\": 57,\n 'first': 58,\n 'about': 59,\n 'up': 60,\n 'when': 61,\n 'year': 62,\n 'there': 63,\n 'all': 64,\n '--': 65,\n 'out': 66,\n 'she': 67,\n 'other': 68,\n 'people': 69,\n \"n't\": 70,\n 'her': 71,\n 'percent': 72,\n 'than': 73,\n 'over': 74,\n 'into': 75,\n 'last': 76,\n 'some': 77,\n 'government': 78,\n 'time': 79,\n '$': 80,\n 'you': 81,\n 'years': 82,\n 'if': 83,\n 'no': 84,\n 'world': 85,\n 'can': 86,\n 'three': 87,\n 'do': 88,\n ';': 89,\n 'president': 90,\n 'only': 91,\n 'state': 92,\n 'million': 93,\n 'could': 94,\n 'us': 95,\n 'most': 96,\n '_': 97,\n 'against': 98,\n 'u.s.': 99,\n 'so': 100,\n 'them': 101,\n 'what': 102,\n 'him': 103,\n 'united': 104,\n 'during': 105,\n 'before': 106,\n 'may': 107,\n 'since': 108,\n 'many': 109,\n 'while': 110,\n 'where': 111,\n 'states': 112,\n 'because': 113,\n 'now': 114,\n 'city': 115,\n 'made': 116,\n 'like': 117,\n 'between': 118,\n 'did': 119,\n 'just': 120,\n 'national': 121,\n 'day': 122,\n 'country': 123,\n 'under': 124,\n 'such': 125,\n 'second': 126,\n 'then': 127,\n 'company': 128,\n 'group': 129,\n 'any': 130,\n 'through': 131,\n 'china': 132,\n 'four': 133,\n 'being': 134,\n 'down': 135,\n 'war': 136,\n 'back': 137,\n 'off': 138,\n 'south': 139,\n 'american': 140,\n 'minister': 141,\n 'police': 142,\n 'well': 143,\n 'including': 144,\n 'team': 145,\n 'international': 146,\n 'week': 147,\n 'officials': 148,\n 'still': 149,\n 'both': 150,\n 'even': 151,\n 'high': 152,\n 'part': 153,\n 'told': 154,\n 'those': 155,\n 'end': 156,\n 'former': 157,\n 'these': 158,\n 'make': 159,\n 'billion': 160,\n 'work': 161,\n 'our': 162,\n 'home': 163,\n 'school': 164,\n 'party': 165,\n 'house': 166,\n 'old': 167,\n 'later': 168,\n 'get': 169,\n 'another': 170,\n 'tuesday': 171,\n 'news': 172,\n 'long': 173,\n 'five': 174,\n 'called': 175,\n '1': 176,\n 'wednesday': 177,\n 'military': 178,\n 'way': 179,\n 'used': 180,\n 'much': 181,\n 'next': 182,\n 'monday': 183,\n 'thursday': 184,\n 'friday': 185,\n 'game': 186,\n 'here': 187,\n '?': 188,\n 'should': 189,\n 'take': 190,\n 'very': 191,\n 'my': 192,\n 'north': 193,\n 'security': 194,\n 'season': 195,\n 'york': 196,\n 'how': 197,\n 'public': 198,\n 'early': 199,\n 'according': 200,\n 'several': 201,\n 'court': 202,\n 'say': 203,\n 'around': 204,\n 'foreign': 205,\n '10': 206,\n 'until': 207,\n 'set': 208,\n 'political': 209,\n 'says': 210,\n 'market': 211,\n 'however': 212,\n 'family': 213,\n 'life': 214,\n 'same': 215,\n 'general': 216,\n '–': 217,\n 'left': 218,\n 'good': 219,\n 'top': 220,\n 'university': 221,\n 'going': 222,\n 'number': 223,\n 'major': 224,\n 'known': 225,\n 'points': 226,\n 'won': 227,\n 'six': 228,\n 'month': 229,\n 'dollars': 230,\n 'bank': 231,\n '2': 232,\n 'iraq': 233,\n 'use': 234,\n 'members': 235,\n 'each': 236,\n 'area': 237,\n 'found': 238,\n 'official': 239,\n 'sunday': 240,\n 'place': 241,\n 'go': 242,\n 'based': 243,\n 'among': 244,\n 'third': 245,\n 'times': 246,\n 'took': 247,\n 'right': 248,\n 'days': 249,\n 'local': 250,\n 'economic': 251,\n 'countries': 252,\n 'see': 253,\n 'best': 254,\n 'report': 255,\n 'killed': 256,\n 'held': 257,\n 'business': 258,\n 'west': 259,\n 'does': 260,\n 'own': 261,\n '%': 262,\n 'came': 263,\n 'law': 264,\n 'months': 265,\n 'women': 266,\n \"'re\": 267,\n 'power': 268,\n 'think': 269,\n 'service': 270,\n 'children': 271,\n 'bush': 272,\n 'show': 273,\n '/': 274,\n 'help': 275,\n 'chief': 276,\n 'saturday': 277,\n 'system': 278,\n 'john': 279,\n 'support': 280,\n 'series': 281,\n 'play': 282,\n 'office': 283,\n 'following': 284,\n 'me': 285,\n 'meeting': 286,\n 'expected': 287,\n 'late': 288,\n 'washington': 289,\n 'games': 290,\n 'european': 291,\n 'league': 292,\n 'reported': 293,\n 'final': 294,\n 'added': 295,\n 'without': 296,\n 'british': 297,\n 'white': 298,\n 'history': 299,\n 'man': 300,\n 'men': 301,\n 'became': 302,\n 'want': 303,\n 'march': 304,\n 'case': 305,\n 'few': 306,\n 'run': 307,\n 'money': 308,\n 'began': 309,\n 'open': 310,\n 'name': 311,\n 'trade': 312,\n 'center': 313,\n '3': 314,\n 'israel': 315,\n 'oil': 316,\n 'too': 317,\n 'al': 318,\n 'film': 319,\n 'win': 320,\n 'led': 321,\n 'east': 322,\n 'central': 323,\n '20': 324,\n 'air': 325,\n 'come': 326,\n 'chinese': 327,\n 'town': 328,\n 'leader': 329,\n 'army': 330,\n 'line': 331,\n 'never': 332,\n 'little': 333,\n 'played': 334,\n 'prime': 335,\n 'death': 336,\n 'companies': 337,\n 'least': 338,\n 'put': 339,\n 'forces': 340,\n 'past': 341,\n 'de': 342,\n 'half': 343,\n 'june': 344,\n 'saying': 345,\n 'know': 346,\n 'federal': 347,\n 'french': 348,\n 'peace': 349,\n 'earlier': 350,\n 'capital': 351,\n 'force': 352,\n 'great': 353,\n 'union': 354,\n 'near': 355,\n 'released': 356,\n 'small': 357,\n 'department': 358,\n 'every': 359,\n 'health': 360,\n 'japan': 361,\n 'head': 362,\n 'ago': 363,\n 'night': 364,\n 'big': 365,\n 'cup': 366,\n 'election': 367,\n 'region': 368,\n 'director': 369,\n 'talks': 370,\n 'program': 371,\n 'far': 372,\n 'today': 373,\n 'statement': 374,\n 'july': 375,\n 'although': 376,\n 'district': 377,\n 'again': 378,\n 'born': 379,\n 'development': 380,\n 'leaders': 381,\n 'council': 382,\n 'close': 383,\n 'record': 384,\n 'along': 385,\n 'county': 386,\n 'france': 387,\n 'went': 388,\n 'point': 389,\n 'must': 390,\n 'spokesman': 391,\n 'your': 392,\n 'member': 393,\n 'plan': 394,\n 'financial': 395,\n 'april': 396,\n 'recent': 397,\n 'campaign': 398,\n 'become': 399,\n 'troops': 400,\n 'whether': 401,\n 'lost': 402,\n 'music': 403,\n '15': 404,\n 'got': 405,\n 'israeli': 406,\n '30': 407,\n 'need': 408,\n '4': 409,\n 'lead': 410,\n 'already': 411,\n 'russia': 412,\n 'though': 413,\n 'might': 414,\n 'free': 415,\n 'hit': 416,\n 'rights': 417,\n '11': 418,\n 'information': 419,\n 'away': 420,\n '12': 421,\n '5': 422,\n 'others': 423,\n 'control': 424,\n 'within': 425,\n 'large': 426,\n 'economy': 427,\n 'press': 428,\n 'agency': 429,\n 'water': 430,\n 'died': 431,\n 'career': 432,\n 'making': 433,\n '...': 434,\n 'deal': 435,\n 'attack': 436,\n 'side': 437,\n 'seven': 438,\n 'better': 439,\n 'less': 440,\n 'september': 441,\n 'once': 442,\n 'clinton': 443,\n 'main': 444,\n 'due': 445,\n 'committee': 446,\n 'building': 447,\n 'conference': 448,\n 'club': 449,\n 'january': 450,\n 'decision': 451,\n 'stock': 452,\n 'america': 453,\n 'given': 454,\n 'give': 455,\n 'often': 456,\n 'announced': 457,\n 'television': 458,\n 'industry': 459,\n 'order': 460,\n 'young': 461,\n \"'ve\": 462,\n 'palestinian': 463,\n 'age': 464,\n 'start': 465,\n 'administration': 466,\n 'russian': 467,\n 'prices': 468,\n 'round': 469,\n 'december': 470,\n 'nations': 471,\n \"'m\": 472,\n 'human': 473,\n 'india': 474,\n 'defense': 475,\n 'asked': 476,\n 'total': 477,\n 'october': 478,\n 'players': 479,\n 'bill': 480,\n 'important': 481,\n 'southern': 482,\n 'move': 483,\n 'fire': 484,\n 'population': 485,\n 'rose': 486,\n 'november': 487,\n 'include': 488,\n 'further': 489,\n 'nuclear': 490,\n 'street': 491,\n 'taken': 492,\n 'media': 493,\n 'different': 494,\n 'issue': 495,\n 'received': 496,\n 'secretary': 497,\n 'return': 498,\n 'college': 499,\n 'working': 500,\n 'community': 501,\n 'eight': 502,\n 'groups': 503,\n 'despite': 504,\n 'level': 505,\n 'largest': 506,\n 'whose': 507,\n 'attacks': 508,\n 'germany': 509,\n 'august': 510,\n 'change': 511,\n 'church': 512,\n 'nation': 513,\n 'german': 514,\n 'station': 515,\n 'london': 516,\n 'weeks': 517,\n 'having': 518,\n '18': 519,\n 'research': 520,\n 'black': 521,\n 'services': 522,\n 'story': 523,\n '6': 524,\n 'europe': 525,\n 'sales': 526,\n 'policy': 527,\n 'visit': 528,\n 'northern': 529,\n 'lot': 530,\n 'across': 531,\n 'per': 532,\n 'current': 533,\n 'board': 534,\n 'football': 535,\n 'ministry': 536,\n 'workers': 537,\n 'vote': 538,\n 'book': 539,\n 'fell': 540,\n 'seen': 541,\n 'role': 542,\n 'students': 543,\n 'shares': 544,\n 'iran': 545,\n 'process': 546,\n 'agreement': 547,\n 'quarter': 548,\n 'full': 549,\n 'match': 550,\n 'started': 551,\n 'growth': 552,\n 'yet': 553,\n 'moved': 554,\n 'possible': 555,\n 'western': 556,\n 'special': 557,\n '100': 558,\n 'plans': 559,\n 'interest': 560,\n 'behind': 561,\n 'strong': 562,\n 'england': 563,\n 'named': 564,\n 'food': 565,\n 'period': 566,\n 'real': 567,\n 'authorities': 568,\n 'car': 569,\n 'term': 570,\n 'rate': 571,\n 'race': 572,\n 'nearly': 573,\n 'korea': 574,\n 'enough': 575,\n 'site': 576,\n 'opposition': 577,\n 'keep': 578,\n '25': 579,\n 'call': 580,\n 'future': 581,\n 'taking': 582,\n 'island': 583,\n '2008': 584,\n '2006': 585,\n 'road': 586,\n 'outside': 587,\n 'really': 588,\n 'century': 589,\n 'democratic': 590,\n 'almost': 591,\n 'single': 592,\n 'share': 593,\n 'leading': 594,\n 'trying': 595,\n 'find': 596,\n 'album': 597,\n 'senior': 598,\n 'minutes': 599,\n 'together': 600,\n 'congress': 601,\n 'index': 602,\n 'australia': 603,\n 'results': 604,\n 'hard': 605,\n 'hours': 606,\n 'land': 607,\n 'action': 608,\n 'higher': 609,\n 'field': 610,\n 'cut': 611,\n 'coach': 612,\n 'elections': 613,\n 'san': 614,\n 'issues': 615,\n 'executive': 616,\n 'february': 617,\n 'production': 618,\n 'areas': 619,\n 'river': 620,\n 'face': 621,\n 'using': 622,\n 'japanese': 623,\n 'province': 624,\n 'park': 625,\n 'price': 626,\n 'commission': 627,\n 'california': 628,\n 'father': 629,\n 'son': 630,\n 'education': 631,\n '7': 632,\n 'village': 633,\n 'energy': 634,\n 'shot': 635,\n 'short': 636,\n 'africa': 637,\n 'key': 638,\n 'red': 639,\n 'association': 640,\n 'average': 641,\n 'pay': 642,\n 'exchange': 643,\n 'eu': 644,\n 'something': 645,\n 'gave': 646,\n 'likely': 647,\n 'player': 648,\n 'george': 649,\n '2007': 650,\n 'victory': 651,\n '8': 652,\n 'low': 653,\n 'things': 654,\n '2010': 655,\n 'pakistan': 656,\n '14': 657,\n 'post': 658,\n 'social': 659,\n 'continue': 660,\n 'ever': 661,\n 'look': 662,\n 'chairman': 663,\n 'job': 664,\n '2000': 665,\n 'soldiers': 666,\n 'able': 667,\n 'parliament': 668,\n 'front': 669,\n 'himself': 670,\n 'problems': 671,\n 'private': 672,\n 'lower': 673,\n 'list': 674,\n 'built': 675,\n '13': 676,\n 'efforts': 677,\n 'dollar': 678,\n 'miles': 679,\n 'included': 680,\n 'radio': 681,\n 'live': 682,\n 'form': 683,\n 'david': 684,\n 'african': 685,\n 'increase': 686,\n 'reports': 687,\n 'sent': 688,\n 'fourth': 689,\n 'always': 690,\n 'king': 691,\n '50': 692,\n 'tax': 693,\n 'taiwan': 694,\n 'britain': 695,\n '16': 696,\n 'playing': 697,\n 'title': 698,\n 'middle': 699,\n 'meet': 700,\n 'global': 701,\n 'wife': 702,\n '2009': 703,\n 'position': 704,\n 'located': 705,\n 'clear': 706,\n 'ahead': 707,\n '2004': 708,\n '2005': 709,\n 'iraqi': 710,\n 'english': 711,\n 'result': 712,\n 'release': 713,\n 'violence': 714,\n 'goal': 715,\n 'project': 716,\n 'closed': 717,\n 'border': 718,\n 'body': 719,\n 'soon': 720,\n 'crisis': 721,\n 'division': 722,\n '&amp;': 723,\n 'served': 724,\n 'tour': 725,\n 'hospital': 726,\n 'kong': 727,\n 'test': 728,\n 'hong': 729,\n 'u.n.': 730,\n 'inc.': 731,\n 'technology': 732,\n 'believe': 733,\n 'organization': 734,\n 'published': 735,\n 'weapons': 736,\n 'agreed': 737,\n 'why': 738,\n 'nine': 739,\n 'summer': 740,\n 'wanted': 741,\n 'republican': 742,\n 'act': 743,\n 'recently': 744,\n 'texas': 745,\n 'course': 746,\n 'problem': 747,\n 'senate': 748,\n 'medical': 749,\n 'un': 750,\n 'done': 751,\n 'reached': 752,\n 'star': 753,\n 'continued': 754,\n 'investors': 755,\n 'living': 756,\n 'care': 757,\n 'signed': 758,\n '17': 759,\n 'art': 760,\n 'provide': 761,\n 'worked': 762,\n 'presidential': 763,\n 'gold': 764,\n 'obama': 765,\n 'morning': 766,\n 'dead': 767,\n 'opened': 768,\n \"'ll\": 769,\n 'event': 770,\n 'previous': 771,\n 'cost': 772,\n 'instead': 773,\n 'canada': 774,\n 'band': 775,\n 'teams': 776,\n 'daily': 777,\n '2001': 778,\n 'available': 779,\n 'drug': 780,\n 'coming': 781,\n '2003': 782,\n 'investment': 783,\n '’s': 784,\n 'michael': 785,\n 'civil': 786,\n 'woman': 787,\n 'training': 788,\n 'appeared': 789,\n '9': 790,\n 'involved': 791,\n 'indian': 792,\n 'similar': 793,\n 'situation': 794,\n '24': 795,\n 'los': 796,\n 'running': 797,\n 'fighting': 798,\n 'mark': 799,\n '40': 800,\n 'trial': 801,\n 'hold': 802,\n 'australian': 803,\n 'thought': 804,\n '!': 805,\n 'study': 806,\n 'fall': 807,\n 'mother': 808,\n 'met': 809,\n 'relations': 810,\n 'anti': 811,\n '2002': 812,\n 'song': 813,\n 'popular': 814,\n 'base': 815,\n 'tv': 816,\n 'ground': 817,\n 'markets': 818,\n 'ii': 819,\n 'newspaper': 820,\n 'staff': 821,\n 'saw': 822,\n 'hand': 823,\n 'hope': 824,\n 'operations': 825,\n 'pressure': 826,\n 'americans': 827,\n 'eastern': 828,\n 'st.': 829,\n 'legal': 830,\n 'asia': 831,\n 'budget': 832,\n 'returned': 833,\n 'considered': 834,\n 'love': 835,\n 'wrote': 836,\n 'stop': 837,\n 'fight': 838,\n 'currently': 839,\n 'charges': 840,\n 'try': 841,\n 'aid': 842,\n 'ended': 843,\n 'management': 844,\n 'brought': 845,\n 'cases': 846,\n 'decided': 847,\n 'failed': 848,\n 'network': 849,\n 'works': 850,\n 'gas': 851,\n 'turned': 852,\n 'fact': 853,\n 'vice': 854,\n 'ca': 855,\n 'mexico': 856,\n 'trading': 857,\n 'especially': 858,\n 'reporters': 859,\n 'afghanistan': 860,\n 'common': 861,\n 'looking': 862,\n 'space': 863,\n 'rates': 864,\n 'manager': 865,\n 'loss': 866,\n '2011': 867,\n 'justice': 868,\n 'thousands': 869,\n 'james': 870,\n 'rather': 871,\n 'fund': 872,\n 'thing': 873,\n 'republic': 874,\n 'opening': 875,\n 'accused': 876,\n 'winning': 877,\n 'scored': 878,\n 'championship': 879,\n 'example': 880,\n 'getting': 881,\n 'biggest': 882,\n 'performance': 883,\n 'sports': 884,\n '1998': 885,\n 'let': 886,\n 'allowed': 887,\n 'schools': 888,\n 'means': 889,\n 'turn': 890,\n 'leave': 891,\n 'no.': 892,\n 'robert': 893,\n 'personal': 894,\n 'stocks': 895,\n 'showed': 896,\n 'light': 897,\n 'arrested': 898,\n 'person': 899,\n 'either': 900,\n 'offer': 901,\n 'majority': 902,\n 'battle': 903,\n '19': 904,\n 'class': 905,\n 'evidence': 906,\n 'makes': 907,\n 'society': 908,\n 'products': 909,\n 'regional': 910,\n 'needed': 911,\n 'stage': 912,\n 'am': 913,\n 'doing': 914,\n 'families': 915,\n 'construction': 916,\n 'various': 917,\n '1996': 918,\n 'sold': 919,\n 'independent': 920,\n 'kind': 921,\n 'airport': 922,\n 'paul': 923,\n 'judge': 924,\n 'internet': 925,\n 'movement': 926,\n 'room': 927,\n 'followed': 928,\n 'original': 929,\n 'angeles': 930,\n 'italy': 931,\n '`': 932,\n 'data': 933,\n 'comes': 934,\n 'parties': 935,\n 'nothing': 936,\n 'sea': 937,\n 'bring': 938,\n '2012': 939,\n 'annual': 940,\n 'officer': 941,\n 'beijing': 942,\n 'present': 943,\n 'remain': 944,\n 'nato': 945,\n '1999': 946,\n '22': 947,\n 'remains': 948,\n 'allow': 949,\n 'florida': 950,\n 'computer': 951,\n '21': 952,\n 'contract': 953,\n 'coast': 954,\n 'created': 955,\n 'demand': 956,\n 'operation': 957,\n 'events': 958,\n 'islamic': 959,\n 'beat': 960,\n 'analysts': 961,\n 'interview': 962,\n 'helped': 963,\n 'child': 964,\n 'probably': 965,\n 'spent': 966,\n 'asian': 967,\n 'effort': 968,\n 'cooperation': 969,\n 'shows': 970,\n 'calls': 971,\n 'investigation': 972,\n 'lives': 973,\n 'video': 974,\n 'yen': 975,\n 'runs': 976,\n 'tried': 977,\n 'bad': 978,\n 'described': 979,\n '1994': 980,\n 'toward': 981,\n 'written': 982,\n 'throughout': 983,\n 'established': 984,\n 'mission': 985,\n 'associated': 986,\n 'buy': 987,\n 'growing': 988,\n 'green': 989,\n 'forward': 990,\n 'competition': 991,\n 'poor': 992,\n 'latest': 993,\n 'banks': 994,\n 'question': 995,\n '1997': 996,\n 'prison': 997,\n 'feel': 998,\n 'attention': 999,\n ...}"
     },
     "execution_count": 29,
     "metadata": {},
     "output_type": "execute_result"
    }
   ],
   "source": [
    "vec1.stoi  # {word:id}"
   ],
   "metadata": {
    "collapsed": false,
    "pycharm": {
     "name": "#%%\n"
    }
   }
  },
  {
   "cell_type": "code",
   "execution_count": 30,
   "outputs": [
    {
     "data": {
      "text/plain": "['the',\n ',',\n '.',\n 'of',\n 'to',\n 'and',\n 'in',\n 'a',\n '\"',\n \"'s\",\n 'for',\n '-',\n 'that',\n 'on',\n 'is',\n 'was',\n 'said',\n 'with',\n 'he',\n 'as',\n 'it',\n 'by',\n 'at',\n '(',\n ')',\n 'from',\n 'his',\n \"''\",\n '``',\n 'an',\n 'be',\n 'has',\n 'are',\n 'have',\n 'but',\n 'were',\n 'not',\n 'this',\n 'who',\n 'they',\n 'had',\n 'i',\n 'which',\n 'will',\n 'their',\n ':',\n 'or',\n 'its',\n 'one',\n 'after',\n 'new',\n 'been',\n 'also',\n 'we',\n 'would',\n 'two',\n 'more',\n \"'\",\n 'first',\n 'about',\n 'up',\n 'when',\n 'year',\n 'there',\n 'all',\n '--',\n 'out',\n 'she',\n 'other',\n 'people',\n \"n't\",\n 'her',\n 'percent',\n 'than',\n 'over',\n 'into',\n 'last',\n 'some',\n 'government',\n 'time',\n '$',\n 'you',\n 'years',\n 'if',\n 'no',\n 'world',\n 'can',\n 'three',\n 'do',\n ';',\n 'president',\n 'only',\n 'state',\n 'million',\n 'could',\n 'us',\n 'most',\n '_',\n 'against',\n 'u.s.',\n 'so',\n 'them',\n 'what',\n 'him',\n 'united',\n 'during',\n 'before',\n 'may',\n 'since',\n 'many',\n 'while',\n 'where',\n 'states',\n 'because',\n 'now',\n 'city',\n 'made',\n 'like',\n 'between',\n 'did',\n 'just',\n 'national',\n 'day',\n 'country',\n 'under',\n 'such',\n 'second',\n 'then',\n 'company',\n 'group',\n 'any',\n 'through',\n 'china',\n 'four',\n 'being',\n 'down',\n 'war',\n 'back',\n 'off',\n 'south',\n 'american',\n 'minister',\n 'police',\n 'well',\n 'including',\n 'team',\n 'international',\n 'week',\n 'officials',\n 'still',\n 'both',\n 'even',\n 'high',\n 'part',\n 'told',\n 'those',\n 'end',\n 'former',\n 'these',\n 'make',\n 'billion',\n 'work',\n 'our',\n 'home',\n 'school',\n 'party',\n 'house',\n 'old',\n 'later',\n 'get',\n 'another',\n 'tuesday',\n 'news',\n 'long',\n 'five',\n 'called',\n '1',\n 'wednesday',\n 'military',\n 'way',\n 'used',\n 'much',\n 'next',\n 'monday',\n 'thursday',\n 'friday',\n 'game',\n 'here',\n '?',\n 'should',\n 'take',\n 'very',\n 'my',\n 'north',\n 'security',\n 'season',\n 'york',\n 'how',\n 'public',\n 'early',\n 'according',\n 'several',\n 'court',\n 'say',\n 'around',\n 'foreign',\n '10',\n 'until',\n 'set',\n 'political',\n 'says',\n 'market',\n 'however',\n 'family',\n 'life',\n 'same',\n 'general',\n '–',\n 'left',\n 'good',\n 'top',\n 'university',\n 'going',\n 'number',\n 'major',\n 'known',\n 'points',\n 'won',\n 'six',\n 'month',\n 'dollars',\n 'bank',\n '2',\n 'iraq',\n 'use',\n 'members',\n 'each',\n 'area',\n 'found',\n 'official',\n 'sunday',\n 'place',\n 'go',\n 'based',\n 'among',\n 'third',\n 'times',\n 'took',\n 'right',\n 'days',\n 'local',\n 'economic',\n 'countries',\n 'see',\n 'best',\n 'report',\n 'killed',\n 'held',\n 'business',\n 'west',\n 'does',\n 'own',\n '%',\n 'came',\n 'law',\n 'months',\n 'women',\n \"'re\",\n 'power',\n 'think',\n 'service',\n 'children',\n 'bush',\n 'show',\n '/',\n 'help',\n 'chief',\n 'saturday',\n 'system',\n 'john',\n 'support',\n 'series',\n 'play',\n 'office',\n 'following',\n 'me',\n 'meeting',\n 'expected',\n 'late',\n 'washington',\n 'games',\n 'european',\n 'league',\n 'reported',\n 'final',\n 'added',\n 'without',\n 'british',\n 'white',\n 'history',\n 'man',\n 'men',\n 'became',\n 'want',\n 'march',\n 'case',\n 'few',\n 'run',\n 'money',\n 'began',\n 'open',\n 'name',\n 'trade',\n 'center',\n '3',\n 'israel',\n 'oil',\n 'too',\n 'al',\n 'film',\n 'win',\n 'led',\n 'east',\n 'central',\n '20',\n 'air',\n 'come',\n 'chinese',\n 'town',\n 'leader',\n 'army',\n 'line',\n 'never',\n 'little',\n 'played',\n 'prime',\n 'death',\n 'companies',\n 'least',\n 'put',\n 'forces',\n 'past',\n 'de',\n 'half',\n 'june',\n 'saying',\n 'know',\n 'federal',\n 'french',\n 'peace',\n 'earlier',\n 'capital',\n 'force',\n 'great',\n 'union',\n 'near',\n 'released',\n 'small',\n 'department',\n 'every',\n 'health',\n 'japan',\n 'head',\n 'ago',\n 'night',\n 'big',\n 'cup',\n 'election',\n 'region',\n 'director',\n 'talks',\n 'program',\n 'far',\n 'today',\n 'statement',\n 'july',\n 'although',\n 'district',\n 'again',\n 'born',\n 'development',\n 'leaders',\n 'council',\n 'close',\n 'record',\n 'along',\n 'county',\n 'france',\n 'went',\n 'point',\n 'must',\n 'spokesman',\n 'your',\n 'member',\n 'plan',\n 'financial',\n 'april',\n 'recent',\n 'campaign',\n 'become',\n 'troops',\n 'whether',\n 'lost',\n 'music',\n '15',\n 'got',\n 'israeli',\n '30',\n 'need',\n '4',\n 'lead',\n 'already',\n 'russia',\n 'though',\n 'might',\n 'free',\n 'hit',\n 'rights',\n '11',\n 'information',\n 'away',\n '12',\n '5',\n 'others',\n 'control',\n 'within',\n 'large',\n 'economy',\n 'press',\n 'agency',\n 'water',\n 'died',\n 'career',\n 'making',\n '...',\n 'deal',\n 'attack',\n 'side',\n 'seven',\n 'better',\n 'less',\n 'september',\n 'once',\n 'clinton',\n 'main',\n 'due',\n 'committee',\n 'building',\n 'conference',\n 'club',\n 'january',\n 'decision',\n 'stock',\n 'america',\n 'given',\n 'give',\n 'often',\n 'announced',\n 'television',\n 'industry',\n 'order',\n 'young',\n \"'ve\",\n 'palestinian',\n 'age',\n 'start',\n 'administration',\n 'russian',\n 'prices',\n 'round',\n 'december',\n 'nations',\n \"'m\",\n 'human',\n 'india',\n 'defense',\n 'asked',\n 'total',\n 'october',\n 'players',\n 'bill',\n 'important',\n 'southern',\n 'move',\n 'fire',\n 'population',\n 'rose',\n 'november',\n 'include',\n 'further',\n 'nuclear',\n 'street',\n 'taken',\n 'media',\n 'different',\n 'issue',\n 'received',\n 'secretary',\n 'return',\n 'college',\n 'working',\n 'community',\n 'eight',\n 'groups',\n 'despite',\n 'level',\n 'largest',\n 'whose',\n 'attacks',\n 'germany',\n 'august',\n 'change',\n 'church',\n 'nation',\n 'german',\n 'station',\n 'london',\n 'weeks',\n 'having',\n '18',\n 'research',\n 'black',\n 'services',\n 'story',\n '6',\n 'europe',\n 'sales',\n 'policy',\n 'visit',\n 'northern',\n 'lot',\n 'across',\n 'per',\n 'current',\n 'board',\n 'football',\n 'ministry',\n 'workers',\n 'vote',\n 'book',\n 'fell',\n 'seen',\n 'role',\n 'students',\n 'shares',\n 'iran',\n 'process',\n 'agreement',\n 'quarter',\n 'full',\n 'match',\n 'started',\n 'growth',\n 'yet',\n 'moved',\n 'possible',\n 'western',\n 'special',\n '100',\n 'plans',\n 'interest',\n 'behind',\n 'strong',\n 'england',\n 'named',\n 'food',\n 'period',\n 'real',\n 'authorities',\n 'car',\n 'term',\n 'rate',\n 'race',\n 'nearly',\n 'korea',\n 'enough',\n 'site',\n 'opposition',\n 'keep',\n '25',\n 'call',\n 'future',\n 'taking',\n 'island',\n '2008',\n '2006',\n 'road',\n 'outside',\n 'really',\n 'century',\n 'democratic',\n 'almost',\n 'single',\n 'share',\n 'leading',\n 'trying',\n 'find',\n 'album',\n 'senior',\n 'minutes',\n 'together',\n 'congress',\n 'index',\n 'australia',\n 'results',\n 'hard',\n 'hours',\n 'land',\n 'action',\n 'higher',\n 'field',\n 'cut',\n 'coach',\n 'elections',\n 'san',\n 'issues',\n 'executive',\n 'february',\n 'production',\n 'areas',\n 'river',\n 'face',\n 'using',\n 'japanese',\n 'province',\n 'park',\n 'price',\n 'commission',\n 'california',\n 'father',\n 'son',\n 'education',\n '7',\n 'village',\n 'energy',\n 'shot',\n 'short',\n 'africa',\n 'key',\n 'red',\n 'association',\n 'average',\n 'pay',\n 'exchange',\n 'eu',\n 'something',\n 'gave',\n 'likely',\n 'player',\n 'george',\n '2007',\n 'victory',\n '8',\n 'low',\n 'things',\n '2010',\n 'pakistan',\n '14',\n 'post',\n 'social',\n 'continue',\n 'ever',\n 'look',\n 'chairman',\n 'job',\n '2000',\n 'soldiers',\n 'able',\n 'parliament',\n 'front',\n 'himself',\n 'problems',\n 'private',\n 'lower',\n 'list',\n 'built',\n '13',\n 'efforts',\n 'dollar',\n 'miles',\n 'included',\n 'radio',\n 'live',\n 'form',\n 'david',\n 'african',\n 'increase',\n 'reports',\n 'sent',\n 'fourth',\n 'always',\n 'king',\n '50',\n 'tax',\n 'taiwan',\n 'britain',\n '16',\n 'playing',\n 'title',\n 'middle',\n 'meet',\n 'global',\n 'wife',\n '2009',\n 'position',\n 'located',\n 'clear',\n 'ahead',\n '2004',\n '2005',\n 'iraqi',\n 'english',\n 'result',\n 'release',\n 'violence',\n 'goal',\n 'project',\n 'closed',\n 'border',\n 'body',\n 'soon',\n 'crisis',\n 'division',\n '&amp;',\n 'served',\n 'tour',\n 'hospital',\n 'kong',\n 'test',\n 'hong',\n 'u.n.',\n 'inc.',\n 'technology',\n 'believe',\n 'organization',\n 'published',\n 'weapons',\n 'agreed',\n 'why',\n 'nine',\n 'summer',\n 'wanted',\n 'republican',\n 'act',\n 'recently',\n 'texas',\n 'course',\n 'problem',\n 'senate',\n 'medical',\n 'un',\n 'done',\n 'reached',\n 'star',\n 'continued',\n 'investors',\n 'living',\n 'care',\n 'signed',\n '17',\n 'art',\n 'provide',\n 'worked',\n 'presidential',\n 'gold',\n 'obama',\n 'morning',\n 'dead',\n 'opened',\n \"'ll\",\n 'event',\n 'previous',\n 'cost',\n 'instead',\n 'canada',\n 'band',\n 'teams',\n 'daily',\n '2001',\n 'available',\n 'drug',\n 'coming',\n '2003',\n 'investment',\n '’s',\n 'michael',\n 'civil',\n 'woman',\n 'training',\n 'appeared',\n '9',\n 'involved',\n 'indian',\n 'similar',\n 'situation',\n '24',\n 'los',\n 'running',\n 'fighting',\n 'mark',\n '40',\n 'trial',\n 'hold',\n 'australian',\n 'thought',\n '!',\n 'study',\n 'fall',\n 'mother',\n 'met',\n 'relations',\n 'anti',\n '2002',\n 'song',\n 'popular',\n 'base',\n 'tv',\n 'ground',\n 'markets',\n 'ii',\n 'newspaper',\n 'staff',\n 'saw',\n 'hand',\n 'hope',\n 'operations',\n 'pressure',\n 'americans',\n 'eastern',\n 'st.',\n 'legal',\n 'asia',\n 'budget',\n 'returned',\n 'considered',\n 'love',\n 'wrote',\n 'stop',\n 'fight',\n 'currently',\n 'charges',\n 'try',\n 'aid',\n 'ended',\n 'management',\n 'brought',\n 'cases',\n 'decided',\n 'failed',\n 'network',\n 'works',\n 'gas',\n 'turned',\n 'fact',\n 'vice',\n 'ca',\n 'mexico',\n 'trading',\n 'especially',\n 'reporters',\n 'afghanistan',\n 'common',\n 'looking',\n 'space',\n 'rates',\n 'manager',\n 'loss',\n '2011',\n 'justice',\n 'thousands',\n 'james',\n 'rather',\n 'fund',\n 'thing',\n 'republic',\n 'opening',\n 'accused',\n 'winning',\n 'scored',\n 'championship',\n 'example',\n 'getting',\n 'biggest',\n 'performance',\n 'sports',\n '1998',\n 'let',\n 'allowed',\n 'schools',\n 'means',\n 'turn',\n 'leave',\n 'no.',\n 'robert',\n 'personal',\n 'stocks',\n 'showed',\n 'light',\n 'arrested',\n 'person',\n 'either',\n 'offer',\n 'majority',\n 'battle',\n '19',\n 'class',\n 'evidence',\n 'makes',\n 'society',\n 'products',\n 'regional',\n 'needed',\n 'stage',\n 'am',\n 'doing',\n 'families',\n 'construction',\n 'various',\n '1996',\n 'sold',\n 'independent',\n 'kind',\n 'airport',\n 'paul',\n 'judge',\n 'internet',\n 'movement',\n 'room',\n 'followed',\n 'original',\n 'angeles',\n 'italy',\n '`',\n 'data',\n 'comes',\n 'parties',\n 'nothing',\n 'sea',\n 'bring',\n '2012',\n 'annual',\n 'officer',\n 'beijing',\n 'present',\n 'remain',\n 'nato',\n '1999',\n '22',\n 'remains',\n 'allow',\n 'florida',\n 'computer',\n '21',\n 'contract',\n 'coast',\n 'created',\n 'demand',\n 'operation',\n 'events',\n 'islamic',\n 'beat',\n 'analysts',\n 'interview',\n 'helped',\n 'child',\n 'probably',\n 'spent',\n 'asian',\n 'effort',\n 'cooperation',\n 'shows',\n 'calls',\n 'investigation',\n 'lives',\n 'video',\n 'yen',\n 'runs',\n 'tried',\n 'bad',\n 'described',\n '1994',\n 'toward',\n 'written',\n 'throughout',\n 'established',\n 'mission',\n 'associated',\n 'buy',\n 'growing',\n 'green',\n 'forward',\n 'competition',\n 'poor',\n 'latest',\n 'banks',\n 'question',\n '1997',\n 'prison',\n 'feel',\n 'attention',\n ...]"
     },
     "execution_count": 30,
     "metadata": {},
     "output_type": "execute_result"
    }
   ],
   "source": [
    "vec1.itos  # [word];索引为id\n"
   ],
   "metadata": {
    "collapsed": false,
    "pycharm": {
     "name": "#%%\n"
    }
   }
  }
 ],
 "metadata": {
  "kernelspec": {
   "display_name": "Python 3",
   "language": "python",
   "name": "python3"
  },
  "language_info": {
   "codemirror_mode": {
    "name": "ipython",
    "version": 2
   },
   "file_extension": ".py",
   "mimetype": "text/x-python",
   "name": "python",
   "nbconvert_exporter": "python",
   "pygments_lexer": "ipython2",
   "version": "2.7.6"
  }
 },
 "nbformat": 4,
 "nbformat_minor": 0
}