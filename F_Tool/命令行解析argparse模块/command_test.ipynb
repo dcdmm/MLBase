{
 "cells": [
  {
   "cell_type": "code",
   "execution_count": 52,
   "metadata": {},
   "outputs": [
    {
     "name": "stdout",
     "output_type": "stream",
     "text": [
      "计算长方体体积的参数\n",
      "usage: my_argment.py [-h] [--length {1.0,2.0,3.0,4.0,5.0}] [--width WIDTH]\n",
      "                     [--hight HIGHT]\n",
      "\n",
      "计算长方体体积的参数\n",
      "\n",
      "optional arguments:\n",
      "  -h, --help            show this help message and exit\n",
      "  --length {1.0,2.0,3.0,4.0,5.0}\n",
      "                        这是长方体的长\n",
      "  --width WIDTH         这是长方体的宽\n",
      "  --hight HIGHT         这是长方体的高\n",
      "usage: my_argment.py [-h] [--length {1.0,2.0,3.0,4.0,5.0}] [--width WIDTH]\n",
      "                     [--hight HIGHT]\n",
      "\n",
      "计算长方体体积的参数\n",
      "\n",
      "optional arguments:\n",
      "  -h, --help            show this help message and exit\n",
      "  --length {1.0,2.0,3.0,4.0,5.0}\n",
      "                        这是长方体的长\n",
      "  --width WIDTH         这是长方体的宽\n",
      "  --hight HIGHT         这是长方体的高\n"
     ]
    }
   ],
   "source": [
    "! python my_argment.py -h"
   ]
  },
  {
   "cell_type": "code",
   "execution_count": 3,
   "metadata": {},
   "outputs": [
    {
     "name": "stdout",
     "output_type": "stream",
     "text": [
      "计算长方体体积的参数\n",
      "usage: my_argment.py [-h] [--length {1.0,2.0,3.0,4.0,5.0}] [--width WIDTH]\n",
      "                     [--hight HIGHT]\n",
      "\n",
      "计算长方体体积的参数\n",
      "\n",
      "optional arguments:\n",
      "  -h, --help            show this help message and exit\n",
      "  --length {1.0,2.0,3.0,4.0,5.0}\n",
      "                        这是长方体的长\n",
      "  --width WIDTH         这是长方体的宽\n",
      "  --hight HIGHT         这是长方体的高\n",
      "{'length': 1.0, 'width': 1.0, 'hight': None}\n",
      "length: 2.0 width: 10.0 hight: 43.0\n"
     ]
    }
   ],
   "source": [
    "# 可选参数\n",
    "! python my_argment.py  --length 2.0 --width 10. --hight 43."
   ]
  },
  {
   "cell_type": "code",
   "execution_count": 4,
   "metadata": {
    "collapsed": false,
    "pycharm": {
     "name": "#%%\n"
    }
   },
   "outputs": [
    {
     "name": "stdout",
     "output_type": "stream",
     "text": [
      "{'length': 1.0, 'width': 44.3, 'hight': 3.0}\n"
     ]
    }
   ],
   "source": [
    "# 位置参数\n",
    "! python other_para.py 44.3 3."
   ]
  },
  {
   "cell_type": "code",
   "execution_count": 55,
   "metadata": {
    "collapsed": false,
    "pycharm": {
     "name": "#%%\n"
    }
   },
   "outputs": [
    {
     "name": "stdout",
     "output_type": "stream",
     "text": [
      "{'length': 2.0, 'width': 44.0, 'hight': 3.0}\n"
     ]
    }
   ],
   "source": [
    "! python other_para.py 44 3. --length 2.0"
   ]
  },
  {
   "cell_type": "code",
   "execution_count": 56,
   "metadata": {
    "collapsed": false,
    "pycharm": {
     "name": "#%%\n"
    }
   },
   "outputs": [
    {
     "name": "stdout",
     "output_type": "stream",
     "text": [
      "{'length': 2.0, 'width': 44.0, 'hight': 3.0}\n"
     ]
    }
   ],
   "source": [
    "# 与上等价\n",
    "! python other_para.py 44 --length 2.0 3."
   ]
  },
  {
   "cell_type": "code",
   "execution_count": null,
   "metadata": {
    "pycharm": {
     "name": "#%%\n"
    }
   },
   "outputs": [
    {
     "name": "stdout",
     "output_type": "stream",
     "text": [
      "{'length': 3.0, 'width': 10.0, 'hight': 43.0}\n",
      "1290.0\n"
     ]
    }
   ],
   "source": [
    "# 小demo:\n",
    "! python volume_arg.py --length 3.0 --width 10 --hight 43\n"
   ]
  }
 ],
 "metadata": {
  "kernelspec": {
   "display_name": "Python 3",
   "language": "python",
   "name": "python3"
  },
  "language_info": {
   "codemirror_mode": {
    "name": "ipython",
    "version": 3
   },
   "file_extension": ".py",
   "mimetype": "text/x-python",
   "name": "python",
   "nbconvert_exporter": "python",
   "pygments_lexer": "ipython3",
   "version": "3.8.8"
  },
  "toc": {
   "base_numbering": 1,
   "nav_menu": {},
   "number_sections": true,
   "sideBar": true,
   "skip_h1_title": false,
   "title_cell": "Table of Contents",
   "title_sidebar": "Contents",
   "toc_cell": false,
   "toc_position": {},
   "toc_section_display": true,
   "toc_window_display": false
  }
 },
 "nbformat": 4,
 "nbformat_minor": 1
}
