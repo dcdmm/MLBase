{
 "cells": [
  {
   "cell_type": "markdown",
   "metadata": {
    "collapsed": true,
    "pycharm": {
     "name": "#%% md\n"
    }
   },
   "source": [
    "&emsp;&emsp;对定义于随机变量$ X $的状态空间$ \\Omega_X $ 上的两个概率分布$ P(X) $和 $ Q(X) $,\n",
    "可以用相对熵(亦称KL散度或信息散度)来度量它们直接的差异,即有\n",
    "\n",
    "$$ KL(P,Q) = \\sum_{X} P(x) \\log \\frac{P(x)}{Q(x)} $$\n",
    "\n",
    "对于连续随机变量,KL散度定义为\n",
    "\n",
    "$$ KL(P,Q) = \\int P(X) \\log \\frac{P(X)}{Q(X)} $$\n",
    "\n",
    "其中约定:$ 0 \\log \\dfrac{0}{q} = 0;p \\log \\dfrac{p}{0} = \\infty, \\forall p >0$.$KL(P, Q)$又称为$ P(X) $和$ Q(X) $之间\n",
    "的Kullback-Leibler距离.但严格来说它不是一个真正意义上的距离,因为$ KL(P,Q) \\neq KL(Q,P) $    \n",
    "\n",
    "<font color='red' size=4>定理:</font>\n",
    "&emsp;&emsp;设$ P(X) $和$Q(X)$为定义在某个变量$X$的状态空间$ \\Omega_X $上的两个概率分布,则有\n",
    "\n",
    "$$ KL(P,Q) \\geq 0 \\quad\\quad \\text{注:可利用Jensen不等式证明} $$\n",
    "\n",
    "其中,当且仅当$P$与$Q$相同,即$ P(X=x)=Q(X =x),\\forall x \\in \\Omega_X $时等号成立.\n",
    "\n",
    "\n",
    "<font color='red' size=4>推论:</font>    \n",
    "&emsp;&emsp;对于满足$ \\sum_{X} > 0 $的非负函数$ f(X) $,定义概率分布$ P^{*}(X)  $为   \n",
    "$$ P^{*}(X) = \\frac{f(X)}{\\sum_x f(x)} $$     \n",
    "那么对于任意其它的概率分布$ P(X) $,则有    \n",
    "$$ \\sum_{x} f(x) \\log P^{*}(x) \\geq \\sum_{x} f(x) \\log P(x) $$   \n",
    "其中当且仅当$ P^{*} $与$ P $ 相同时等号成立.   \n"
   ]
  }
 ],
 "metadata": {
  "kernelspec": {
   "display_name": "Python 3",
   "language": "python",
   "name": "python3"
  },
  "language_info": {
   "codemirror_mode": {
    "name": "ipython",
    "version": 2
   },
   "file_extension": ".py",
   "mimetype": "text/x-python",
   "name": "python",
   "nbconvert_exporter": "python",
   "pygments_lexer": "ipython2",
   "version": "2.7.6"
  }
 },
 "nbformat": 4,
 "nbformat_minor": 0
}