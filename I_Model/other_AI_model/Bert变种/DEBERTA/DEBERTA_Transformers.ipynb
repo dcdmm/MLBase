{
 "cells": [
  {
   "cell_type": "code",
   "execution_count": 1,
   "outputs": [],
   "source": [
    "from transformers import AutoModel, AutoTokenizer"
   ],
   "metadata": {
    "collapsed": false,
    "pycharm": {
     "name": "#%%\n"
    }
   }
  },
  {
   "cell_type": "code",
   "execution_count": 2,
   "outputs": [
    {
     "name": "stderr",
     "output_type": "stream",
     "text": [
      "Special tokens have been added in the vocabulary, make sure the associated word embeddings are fine-tuned or trained.\n"
     ]
    },
    {
     "name": "stdout",
     "output_type": "stream",
     "text": [
      "['input_ids', 'token_type_ids', 'attention_mask']\n",
      "['[CLS]', '[SEP]', '[UNK]', '[PAD]', '[MASK]']\n"
     ]
    }
   ],
   "source": [
    "'''\n",
    "主要预训练模型:\n",
    "'microsoft/deberta-v3-base'\n",
    "'microsoft/deberta-v3-large'\n",
    "'''\n",
    "tokenizer = AutoTokenizer.from_pretrained('microsoft/deberta-v3-base')  # 需安装sentencepiece(pip install sentencepiece)\n",
    "print(tokenizer.model_input_names)\n",
    "print(tokenizer.all_special_tokens)"
   ],
   "metadata": {
    "collapsed": false,
    "pycharm": {
     "name": "#%%\n"
    }
   }
  },
  {
   "cell_type": "code",
   "execution_count": 3,
   "outputs": [
    {
     "data": {
      "text/plain": "('deberta-v3-base-tokenizer\\\\tokenizer_config.json',\n 'deberta-v3-base-tokenizer\\\\special_tokens_map.json',\n 'deberta-v3-base-tokenizer\\\\spm.model',\n 'deberta-v3-base-tokenizer\\\\added_tokens.json')"
     },
     "execution_count": 3,
     "metadata": {},
     "output_type": "execute_result"
    }
   ],
   "source": [
    "# 保存分词器(包括新添加的tokens)\n",
    "tokenizer.save_pretrained(\"deberta-v3-base-tokenizer\")"
   ],
   "metadata": {
    "collapsed": false,
    "pycharm": {
     "name": "#%%\n"
    }
   }
  },
  {
   "cell_type": "code",
   "execution_count": 4,
   "outputs": [
    {
     "data": {
      "text/plain": "PreTrainedTokenizer(name_or_path='deberta-v3-base-tokenizer/', vocab_size=128000, model_max_len=1000000000000000019884624838656, is_fast=False, padding_side='right', truncation_side='right', special_tokens={'bos_token': '[CLS]', 'eos_token': '[SEP]', 'unk_token': '[UNK]', 'sep_token': '[SEP]', 'pad_token': '[PAD]', 'cls_token': '[CLS]', 'mask_token': '[MASK]'})"
     },
     "execution_count": 4,
     "metadata": {},
     "output_type": "execute_result"
    }
   ],
   "source": [
    "# 从本地加载\n",
    "AutoTokenizer.from_pretrained('deberta-v3-base-tokenizer/')"
   ],
   "metadata": {
    "collapsed": false,
    "pycharm": {
     "name": "#%%\n"
    }
   }
  },
  {
   "cell_type": "code",
   "execution_count": 5,
   "outputs": [
    {
     "name": "stderr",
     "output_type": "stream",
     "text": [
      "Some weights of the model checkpoint at microsoft/deberta-v3-base were not used when initializing DebertaV2Model: ['mask_predictions.classifier.bias', 'mask_predictions.dense.weight', 'mask_predictions.dense.bias', 'lm_predictions.lm_head.bias', 'lm_predictions.lm_head.dense.bias', 'mask_predictions.LayerNorm.weight', 'lm_predictions.lm_head.LayerNorm.weight', 'mask_predictions.LayerNorm.bias', 'lm_predictions.lm_head.dense.weight', 'mask_predictions.classifier.weight', 'lm_predictions.lm_head.LayerNorm.bias']\n",
      "- This IS expected if you are initializing DebertaV2Model from the checkpoint of a model trained on another task or with another architecture (e.g. initializing a BertForSequenceClassification model from a BertForPreTraining model).\n",
      "- This IS NOT expected if you are initializing DebertaV2Model from the checkpoint of a model that you expect to be exactly identical (initializing a BertForSequenceClassification model from a BertForSequenceClassification model).\n"
     ]
    },
    {
     "data": {
      "text/plain": "DebertaV2Model(\n  (embeddings): DebertaV2Embeddings(\n    (word_embeddings): Embedding(128100, 768, padding_idx=0)\n    (LayerNorm): LayerNorm((768,), eps=1e-07, elementwise_affine=True)\n    (dropout): StableDropout()\n  )\n  (encoder): DebertaV2Encoder(\n    (layer): ModuleList(\n      (0): DebertaV2Layer(\n        (attention): DebertaV2Attention(\n          (self): DisentangledSelfAttention(\n            (query_proj): Linear(in_features=768, out_features=768, bias=True)\n            (key_proj): Linear(in_features=768, out_features=768, bias=True)\n            (value_proj): Linear(in_features=768, out_features=768, bias=True)\n            (pos_dropout): StableDropout()\n            (dropout): StableDropout()\n          )\n          (output): DebertaV2SelfOutput(\n            (dense): Linear(in_features=768, out_features=768, bias=True)\n            (LayerNorm): LayerNorm((768,), eps=1e-07, elementwise_affine=True)\n            (dropout): StableDropout()\n          )\n        )\n        (intermediate): DebertaV2Intermediate(\n          (dense): Linear(in_features=768, out_features=3072, bias=True)\n          (intermediate_act_fn): GELUActivation()\n        )\n        (output): DebertaV2Output(\n          (dense): Linear(in_features=3072, out_features=768, bias=True)\n          (LayerNorm): LayerNorm((768,), eps=1e-07, elementwise_affine=True)\n          (dropout): StableDropout()\n        )\n      )\n      (1): DebertaV2Layer(\n        (attention): DebertaV2Attention(\n          (self): DisentangledSelfAttention(\n            (query_proj): Linear(in_features=768, out_features=768, bias=True)\n            (key_proj): Linear(in_features=768, out_features=768, bias=True)\n            (value_proj): Linear(in_features=768, out_features=768, bias=True)\n            (pos_dropout): StableDropout()\n            (dropout): StableDropout()\n          )\n          (output): DebertaV2SelfOutput(\n            (dense): Linear(in_features=768, out_features=768, bias=True)\n            (LayerNorm): LayerNorm((768,), eps=1e-07, elementwise_affine=True)\n            (dropout): StableDropout()\n          )\n        )\n        (intermediate): DebertaV2Intermediate(\n          (dense): Linear(in_features=768, out_features=3072, bias=True)\n          (intermediate_act_fn): GELUActivation()\n        )\n        (output): DebertaV2Output(\n          (dense): Linear(in_features=3072, out_features=768, bias=True)\n          (LayerNorm): LayerNorm((768,), eps=1e-07, elementwise_affine=True)\n          (dropout): StableDropout()\n        )\n      )\n      (2): DebertaV2Layer(\n        (attention): DebertaV2Attention(\n          (self): DisentangledSelfAttention(\n            (query_proj): Linear(in_features=768, out_features=768, bias=True)\n            (key_proj): Linear(in_features=768, out_features=768, bias=True)\n            (value_proj): Linear(in_features=768, out_features=768, bias=True)\n            (pos_dropout): StableDropout()\n            (dropout): StableDropout()\n          )\n          (output): DebertaV2SelfOutput(\n            (dense): Linear(in_features=768, out_features=768, bias=True)\n            (LayerNorm): LayerNorm((768,), eps=1e-07, elementwise_affine=True)\n            (dropout): StableDropout()\n          )\n        )\n        (intermediate): DebertaV2Intermediate(\n          (dense): Linear(in_features=768, out_features=3072, bias=True)\n          (intermediate_act_fn): GELUActivation()\n        )\n        (output): DebertaV2Output(\n          (dense): Linear(in_features=3072, out_features=768, bias=True)\n          (LayerNorm): LayerNorm((768,), eps=1e-07, elementwise_affine=True)\n          (dropout): StableDropout()\n        )\n      )\n      (3): DebertaV2Layer(\n        (attention): DebertaV2Attention(\n          (self): DisentangledSelfAttention(\n            (query_proj): Linear(in_features=768, out_features=768, bias=True)\n            (key_proj): Linear(in_features=768, out_features=768, bias=True)\n            (value_proj): Linear(in_features=768, out_features=768, bias=True)\n            (pos_dropout): StableDropout()\n            (dropout): StableDropout()\n          )\n          (output): DebertaV2SelfOutput(\n            (dense): Linear(in_features=768, out_features=768, bias=True)\n            (LayerNorm): LayerNorm((768,), eps=1e-07, elementwise_affine=True)\n            (dropout): StableDropout()\n          )\n        )\n        (intermediate): DebertaV2Intermediate(\n          (dense): Linear(in_features=768, out_features=3072, bias=True)\n          (intermediate_act_fn): GELUActivation()\n        )\n        (output): DebertaV2Output(\n          (dense): Linear(in_features=3072, out_features=768, bias=True)\n          (LayerNorm): LayerNorm((768,), eps=1e-07, elementwise_affine=True)\n          (dropout): StableDropout()\n        )\n      )\n      (4): DebertaV2Layer(\n        (attention): DebertaV2Attention(\n          (self): DisentangledSelfAttention(\n            (query_proj): Linear(in_features=768, out_features=768, bias=True)\n            (key_proj): Linear(in_features=768, out_features=768, bias=True)\n            (value_proj): Linear(in_features=768, out_features=768, bias=True)\n            (pos_dropout): StableDropout()\n            (dropout): StableDropout()\n          )\n          (output): DebertaV2SelfOutput(\n            (dense): Linear(in_features=768, out_features=768, bias=True)\n            (LayerNorm): LayerNorm((768,), eps=1e-07, elementwise_affine=True)\n            (dropout): StableDropout()\n          )\n        )\n        (intermediate): DebertaV2Intermediate(\n          (dense): Linear(in_features=768, out_features=3072, bias=True)\n          (intermediate_act_fn): GELUActivation()\n        )\n        (output): DebertaV2Output(\n          (dense): Linear(in_features=3072, out_features=768, bias=True)\n          (LayerNorm): LayerNorm((768,), eps=1e-07, elementwise_affine=True)\n          (dropout): StableDropout()\n        )\n      )\n      (5): DebertaV2Layer(\n        (attention): DebertaV2Attention(\n          (self): DisentangledSelfAttention(\n            (query_proj): Linear(in_features=768, out_features=768, bias=True)\n            (key_proj): Linear(in_features=768, out_features=768, bias=True)\n            (value_proj): Linear(in_features=768, out_features=768, bias=True)\n            (pos_dropout): StableDropout()\n            (dropout): StableDropout()\n          )\n          (output): DebertaV2SelfOutput(\n            (dense): Linear(in_features=768, out_features=768, bias=True)\n            (LayerNorm): LayerNorm((768,), eps=1e-07, elementwise_affine=True)\n            (dropout): StableDropout()\n          )\n        )\n        (intermediate): DebertaV2Intermediate(\n          (dense): Linear(in_features=768, out_features=3072, bias=True)\n          (intermediate_act_fn): GELUActivation()\n        )\n        (output): DebertaV2Output(\n          (dense): Linear(in_features=3072, out_features=768, bias=True)\n          (LayerNorm): LayerNorm((768,), eps=1e-07, elementwise_affine=True)\n          (dropout): StableDropout()\n        )\n      )\n      (6): DebertaV2Layer(\n        (attention): DebertaV2Attention(\n          (self): DisentangledSelfAttention(\n            (query_proj): Linear(in_features=768, out_features=768, bias=True)\n            (key_proj): Linear(in_features=768, out_features=768, bias=True)\n            (value_proj): Linear(in_features=768, out_features=768, bias=True)\n            (pos_dropout): StableDropout()\n            (dropout): StableDropout()\n          )\n          (output): DebertaV2SelfOutput(\n            (dense): Linear(in_features=768, out_features=768, bias=True)\n            (LayerNorm): LayerNorm((768,), eps=1e-07, elementwise_affine=True)\n            (dropout): StableDropout()\n          )\n        )\n        (intermediate): DebertaV2Intermediate(\n          (dense): Linear(in_features=768, out_features=3072, bias=True)\n          (intermediate_act_fn): GELUActivation()\n        )\n        (output): DebertaV2Output(\n          (dense): Linear(in_features=3072, out_features=768, bias=True)\n          (LayerNorm): LayerNorm((768,), eps=1e-07, elementwise_affine=True)\n          (dropout): StableDropout()\n        )\n      )\n      (7): DebertaV2Layer(\n        (attention): DebertaV2Attention(\n          (self): DisentangledSelfAttention(\n            (query_proj): Linear(in_features=768, out_features=768, bias=True)\n            (key_proj): Linear(in_features=768, out_features=768, bias=True)\n            (value_proj): Linear(in_features=768, out_features=768, bias=True)\n            (pos_dropout): StableDropout()\n            (dropout): StableDropout()\n          )\n          (output): DebertaV2SelfOutput(\n            (dense): Linear(in_features=768, out_features=768, bias=True)\n            (LayerNorm): LayerNorm((768,), eps=1e-07, elementwise_affine=True)\n            (dropout): StableDropout()\n          )\n        )\n        (intermediate): DebertaV2Intermediate(\n          (dense): Linear(in_features=768, out_features=3072, bias=True)\n          (intermediate_act_fn): GELUActivation()\n        )\n        (output): DebertaV2Output(\n          (dense): Linear(in_features=3072, out_features=768, bias=True)\n          (LayerNorm): LayerNorm((768,), eps=1e-07, elementwise_affine=True)\n          (dropout): StableDropout()\n        )\n      )\n      (8): DebertaV2Layer(\n        (attention): DebertaV2Attention(\n          (self): DisentangledSelfAttention(\n            (query_proj): Linear(in_features=768, out_features=768, bias=True)\n            (key_proj): Linear(in_features=768, out_features=768, bias=True)\n            (value_proj): Linear(in_features=768, out_features=768, bias=True)\n            (pos_dropout): StableDropout()\n            (dropout): StableDropout()\n          )\n          (output): DebertaV2SelfOutput(\n            (dense): Linear(in_features=768, out_features=768, bias=True)\n            (LayerNorm): LayerNorm((768,), eps=1e-07, elementwise_affine=True)\n            (dropout): StableDropout()\n          )\n        )\n        (intermediate): DebertaV2Intermediate(\n          (dense): Linear(in_features=768, out_features=3072, bias=True)\n          (intermediate_act_fn): GELUActivation()\n        )\n        (output): DebertaV2Output(\n          (dense): Linear(in_features=3072, out_features=768, bias=True)\n          (LayerNorm): LayerNorm((768,), eps=1e-07, elementwise_affine=True)\n          (dropout): StableDropout()\n        )\n      )\n      (9): DebertaV2Layer(\n        (attention): DebertaV2Attention(\n          (self): DisentangledSelfAttention(\n            (query_proj): Linear(in_features=768, out_features=768, bias=True)\n            (key_proj): Linear(in_features=768, out_features=768, bias=True)\n            (value_proj): Linear(in_features=768, out_features=768, bias=True)\n            (pos_dropout): StableDropout()\n            (dropout): StableDropout()\n          )\n          (output): DebertaV2SelfOutput(\n            (dense): Linear(in_features=768, out_features=768, bias=True)\n            (LayerNorm): LayerNorm((768,), eps=1e-07, elementwise_affine=True)\n            (dropout): StableDropout()\n          )\n        )\n        (intermediate): DebertaV2Intermediate(\n          (dense): Linear(in_features=768, out_features=3072, bias=True)\n          (intermediate_act_fn): GELUActivation()\n        )\n        (output): DebertaV2Output(\n          (dense): Linear(in_features=3072, out_features=768, bias=True)\n          (LayerNorm): LayerNorm((768,), eps=1e-07, elementwise_affine=True)\n          (dropout): StableDropout()\n        )\n      )\n      (10): DebertaV2Layer(\n        (attention): DebertaV2Attention(\n          (self): DisentangledSelfAttention(\n            (query_proj): Linear(in_features=768, out_features=768, bias=True)\n            (key_proj): Linear(in_features=768, out_features=768, bias=True)\n            (value_proj): Linear(in_features=768, out_features=768, bias=True)\n            (pos_dropout): StableDropout()\n            (dropout): StableDropout()\n          )\n          (output): DebertaV2SelfOutput(\n            (dense): Linear(in_features=768, out_features=768, bias=True)\n            (LayerNorm): LayerNorm((768,), eps=1e-07, elementwise_affine=True)\n            (dropout): StableDropout()\n          )\n        )\n        (intermediate): DebertaV2Intermediate(\n          (dense): Linear(in_features=768, out_features=3072, bias=True)\n          (intermediate_act_fn): GELUActivation()\n        )\n        (output): DebertaV2Output(\n          (dense): Linear(in_features=3072, out_features=768, bias=True)\n          (LayerNorm): LayerNorm((768,), eps=1e-07, elementwise_affine=True)\n          (dropout): StableDropout()\n        )\n      )\n      (11): DebertaV2Layer(\n        (attention): DebertaV2Attention(\n          (self): DisentangledSelfAttention(\n            (query_proj): Linear(in_features=768, out_features=768, bias=True)\n            (key_proj): Linear(in_features=768, out_features=768, bias=True)\n            (value_proj): Linear(in_features=768, out_features=768, bias=True)\n            (pos_dropout): StableDropout()\n            (dropout): StableDropout()\n          )\n          (output): DebertaV2SelfOutput(\n            (dense): Linear(in_features=768, out_features=768, bias=True)\n            (LayerNorm): LayerNorm((768,), eps=1e-07, elementwise_affine=True)\n            (dropout): StableDropout()\n          )\n        )\n        (intermediate): DebertaV2Intermediate(\n          (dense): Linear(in_features=768, out_features=3072, bias=True)\n          (intermediate_act_fn): GELUActivation()\n        )\n        (output): DebertaV2Output(\n          (dense): Linear(in_features=3072, out_features=768, bias=True)\n          (LayerNorm): LayerNorm((768,), eps=1e-07, elementwise_affine=True)\n          (dropout): StableDropout()\n        )\n      )\n    )\n    (rel_embeddings): Embedding(512, 768)\n    (LayerNorm): LayerNorm((768,), eps=1e-07, elementwise_affine=True)\n  )\n)"
     },
     "execution_count": 5,
     "metadata": {},
     "output_type": "execute_result"
    }
   ],
   "source": [
    "model = AutoModel.from_pretrained(\"microsoft/deberta-v3-base\")\n",
    "model"
   ],
   "metadata": {
    "collapsed": false,
    "pycharm": {
     "name": "#%%\n"
    }
   }
  },
  {
   "cell_type": "code",
   "execution_count": 6,
   "outputs": [
    {
     "data": {
      "text/plain": "DebertaV2Config {\n  \"_name_or_path\": \"microsoft/deberta-v3-base\",\n  \"attention_probs_dropout_prob\": 0.1,\n  \"hidden_act\": \"gelu\",\n  \"hidden_dropout_prob\": 0.1,\n  \"hidden_size\": 768,\n  \"initializer_range\": 0.02,\n  \"intermediate_size\": 3072,\n  \"layer_norm_eps\": 1e-07,\n  \"max_position_embeddings\": 512,\n  \"max_relative_positions\": -1,\n  \"model_type\": \"deberta-v2\",\n  \"norm_rel_ebd\": \"layer_norm\",\n  \"num_attention_heads\": 12,\n  \"num_hidden_layers\": 12,\n  \"pad_token_id\": 0,\n  \"pooler_dropout\": 0,\n  \"pooler_hidden_act\": \"gelu\",\n  \"pooler_hidden_size\": 768,\n  \"pos_att_type\": [\n    \"p2c\",\n    \"c2p\"\n  ],\n  \"position_biased_input\": false,\n  \"position_buckets\": 256,\n  \"relative_attention\": true,\n  \"share_att_key\": true,\n  \"transformers_version\": \"4.17.0\",\n  \"type_vocab_size\": 0,\n  \"vocab_size\": 128100\n}"
     },
     "execution_count": 6,
     "metadata": {},
     "output_type": "execute_result"
    }
   ],
   "source": [
    "model.config"
   ],
   "metadata": {
    "collapsed": false,
    "pycharm": {
     "name": "#%%\n"
    }
   }
  },
  {
   "cell_type": "code",
   "execution_count": 7,
   "outputs": [
    {
     "name": "stdout",
     "output_type": "stream",
     "text": [
      "embeddings.word_embeddings.weight\n",
      "embeddings.LayerNorm.weight\n",
      "embeddings.LayerNorm.bias\n",
      "encoder.layer.0.attention.self.query_proj.weight\n",
      "encoder.layer.0.attention.self.query_proj.bias\n",
      "encoder.layer.0.attention.self.key_proj.weight\n",
      "encoder.layer.0.attention.self.key_proj.bias\n",
      "encoder.layer.0.attention.self.value_proj.weight\n",
      "encoder.layer.0.attention.self.value_proj.bias\n",
      "encoder.layer.0.attention.output.dense.weight\n",
      "encoder.layer.0.attention.output.dense.bias\n",
      "encoder.layer.0.attention.output.LayerNorm.weight\n",
      "encoder.layer.0.attention.output.LayerNorm.bias\n",
      "encoder.layer.0.intermediate.dense.weight\n",
      "encoder.layer.0.intermediate.dense.bias\n",
      "encoder.layer.0.output.dense.weight\n",
      "encoder.layer.0.output.dense.bias\n",
      "encoder.layer.0.output.LayerNorm.weight\n",
      "encoder.layer.0.output.LayerNorm.bias\n",
      "encoder.layer.1.attention.self.query_proj.weight\n",
      "encoder.layer.1.attention.self.query_proj.bias\n",
      "encoder.layer.1.attention.self.key_proj.weight\n",
      "encoder.layer.1.attention.self.key_proj.bias\n",
      "encoder.layer.1.attention.self.value_proj.weight\n",
      "encoder.layer.1.attention.self.value_proj.bias\n",
      "encoder.layer.1.attention.output.dense.weight\n",
      "encoder.layer.1.attention.output.dense.bias\n",
      "encoder.layer.1.attention.output.LayerNorm.weight\n",
      "encoder.layer.1.attention.output.LayerNorm.bias\n",
      "encoder.layer.1.intermediate.dense.weight\n",
      "encoder.layer.1.intermediate.dense.bias\n",
      "encoder.layer.1.output.dense.weight\n",
      "encoder.layer.1.output.dense.bias\n",
      "encoder.layer.1.output.LayerNorm.weight\n",
      "encoder.layer.1.output.LayerNorm.bias\n",
      "encoder.layer.2.attention.self.query_proj.weight\n",
      "encoder.layer.2.attention.self.query_proj.bias\n",
      "encoder.layer.2.attention.self.key_proj.weight\n",
      "encoder.layer.2.attention.self.key_proj.bias\n",
      "encoder.layer.2.attention.self.value_proj.weight\n",
      "encoder.layer.2.attention.self.value_proj.bias\n",
      "encoder.layer.2.attention.output.dense.weight\n",
      "encoder.layer.2.attention.output.dense.bias\n",
      "encoder.layer.2.attention.output.LayerNorm.weight\n",
      "encoder.layer.2.attention.output.LayerNorm.bias\n",
      "encoder.layer.2.intermediate.dense.weight\n",
      "encoder.layer.2.intermediate.dense.bias\n",
      "encoder.layer.2.output.dense.weight\n",
      "encoder.layer.2.output.dense.bias\n",
      "encoder.layer.2.output.LayerNorm.weight\n",
      "encoder.layer.2.output.LayerNorm.bias\n",
      "encoder.layer.3.attention.self.query_proj.weight\n",
      "encoder.layer.3.attention.self.query_proj.bias\n",
      "encoder.layer.3.attention.self.key_proj.weight\n",
      "encoder.layer.3.attention.self.key_proj.bias\n",
      "encoder.layer.3.attention.self.value_proj.weight\n",
      "encoder.layer.3.attention.self.value_proj.bias\n",
      "encoder.layer.3.attention.output.dense.weight\n",
      "encoder.layer.3.attention.output.dense.bias\n",
      "encoder.layer.3.attention.output.LayerNorm.weight\n",
      "encoder.layer.3.attention.output.LayerNorm.bias\n",
      "encoder.layer.3.intermediate.dense.weight\n",
      "encoder.layer.3.intermediate.dense.bias\n",
      "encoder.layer.3.output.dense.weight\n",
      "encoder.layer.3.output.dense.bias\n",
      "encoder.layer.3.output.LayerNorm.weight\n",
      "encoder.layer.3.output.LayerNorm.bias\n",
      "encoder.layer.4.attention.self.query_proj.weight\n",
      "encoder.layer.4.attention.self.query_proj.bias\n",
      "encoder.layer.4.attention.self.key_proj.weight\n",
      "encoder.layer.4.attention.self.key_proj.bias\n",
      "encoder.layer.4.attention.self.value_proj.weight\n",
      "encoder.layer.4.attention.self.value_proj.bias\n",
      "encoder.layer.4.attention.output.dense.weight\n",
      "encoder.layer.4.attention.output.dense.bias\n",
      "encoder.layer.4.attention.output.LayerNorm.weight\n",
      "encoder.layer.4.attention.output.LayerNorm.bias\n",
      "encoder.layer.4.intermediate.dense.weight\n",
      "encoder.layer.4.intermediate.dense.bias\n",
      "encoder.layer.4.output.dense.weight\n",
      "encoder.layer.4.output.dense.bias\n",
      "encoder.layer.4.output.LayerNorm.weight\n",
      "encoder.layer.4.output.LayerNorm.bias\n",
      "encoder.layer.5.attention.self.query_proj.weight\n",
      "encoder.layer.5.attention.self.query_proj.bias\n",
      "encoder.layer.5.attention.self.key_proj.weight\n",
      "encoder.layer.5.attention.self.key_proj.bias\n",
      "encoder.layer.5.attention.self.value_proj.weight\n",
      "encoder.layer.5.attention.self.value_proj.bias\n",
      "encoder.layer.5.attention.output.dense.weight\n",
      "encoder.layer.5.attention.output.dense.bias\n",
      "encoder.layer.5.attention.output.LayerNorm.weight\n",
      "encoder.layer.5.attention.output.LayerNorm.bias\n",
      "encoder.layer.5.intermediate.dense.weight\n",
      "encoder.layer.5.intermediate.dense.bias\n",
      "encoder.layer.5.output.dense.weight\n",
      "encoder.layer.5.output.dense.bias\n",
      "encoder.layer.5.output.LayerNorm.weight\n",
      "encoder.layer.5.output.LayerNorm.bias\n",
      "encoder.layer.6.attention.self.query_proj.weight\n",
      "encoder.layer.6.attention.self.query_proj.bias\n",
      "encoder.layer.6.attention.self.key_proj.weight\n",
      "encoder.layer.6.attention.self.key_proj.bias\n",
      "encoder.layer.6.attention.self.value_proj.weight\n",
      "encoder.layer.6.attention.self.value_proj.bias\n",
      "encoder.layer.6.attention.output.dense.weight\n",
      "encoder.layer.6.attention.output.dense.bias\n",
      "encoder.layer.6.attention.output.LayerNorm.weight\n",
      "encoder.layer.6.attention.output.LayerNorm.bias\n",
      "encoder.layer.6.intermediate.dense.weight\n",
      "encoder.layer.6.intermediate.dense.bias\n",
      "encoder.layer.6.output.dense.weight\n",
      "encoder.layer.6.output.dense.bias\n",
      "encoder.layer.6.output.LayerNorm.weight\n",
      "encoder.layer.6.output.LayerNorm.bias\n",
      "encoder.layer.7.attention.self.query_proj.weight\n",
      "encoder.layer.7.attention.self.query_proj.bias\n",
      "encoder.layer.7.attention.self.key_proj.weight\n",
      "encoder.layer.7.attention.self.key_proj.bias\n",
      "encoder.layer.7.attention.self.value_proj.weight\n",
      "encoder.layer.7.attention.self.value_proj.bias\n",
      "encoder.layer.7.attention.output.dense.weight\n",
      "encoder.layer.7.attention.output.dense.bias\n",
      "encoder.layer.7.attention.output.LayerNorm.weight\n",
      "encoder.layer.7.attention.output.LayerNorm.bias\n",
      "encoder.layer.7.intermediate.dense.weight\n",
      "encoder.layer.7.intermediate.dense.bias\n",
      "encoder.layer.7.output.dense.weight\n",
      "encoder.layer.7.output.dense.bias\n",
      "encoder.layer.7.output.LayerNorm.weight\n",
      "encoder.layer.7.output.LayerNorm.bias\n",
      "encoder.layer.8.attention.self.query_proj.weight\n",
      "encoder.layer.8.attention.self.query_proj.bias\n",
      "encoder.layer.8.attention.self.key_proj.weight\n",
      "encoder.layer.8.attention.self.key_proj.bias\n",
      "encoder.layer.8.attention.self.value_proj.weight\n",
      "encoder.layer.8.attention.self.value_proj.bias\n",
      "encoder.layer.8.attention.output.dense.weight\n",
      "encoder.layer.8.attention.output.dense.bias\n",
      "encoder.layer.8.attention.output.LayerNorm.weight\n",
      "encoder.layer.8.attention.output.LayerNorm.bias\n",
      "encoder.layer.8.intermediate.dense.weight\n",
      "encoder.layer.8.intermediate.dense.bias\n",
      "encoder.layer.8.output.dense.weight\n",
      "encoder.layer.8.output.dense.bias\n",
      "encoder.layer.8.output.LayerNorm.weight\n",
      "encoder.layer.8.output.LayerNorm.bias\n",
      "encoder.layer.9.attention.self.query_proj.weight\n",
      "encoder.layer.9.attention.self.query_proj.bias\n",
      "encoder.layer.9.attention.self.key_proj.weight\n",
      "encoder.layer.9.attention.self.key_proj.bias\n",
      "encoder.layer.9.attention.self.value_proj.weight\n",
      "encoder.layer.9.attention.self.value_proj.bias\n",
      "encoder.layer.9.attention.output.dense.weight\n",
      "encoder.layer.9.attention.output.dense.bias\n",
      "encoder.layer.9.attention.output.LayerNorm.weight\n",
      "encoder.layer.9.attention.output.LayerNorm.bias\n",
      "encoder.layer.9.intermediate.dense.weight\n",
      "encoder.layer.9.intermediate.dense.bias\n",
      "encoder.layer.9.output.dense.weight\n",
      "encoder.layer.9.output.dense.bias\n",
      "encoder.layer.9.output.LayerNorm.weight\n",
      "encoder.layer.9.output.LayerNorm.bias\n",
      "encoder.layer.10.attention.self.query_proj.weight\n",
      "encoder.layer.10.attention.self.query_proj.bias\n",
      "encoder.layer.10.attention.self.key_proj.weight\n",
      "encoder.layer.10.attention.self.key_proj.bias\n",
      "encoder.layer.10.attention.self.value_proj.weight\n",
      "encoder.layer.10.attention.self.value_proj.bias\n",
      "encoder.layer.10.attention.output.dense.weight\n",
      "encoder.layer.10.attention.output.dense.bias\n",
      "encoder.layer.10.attention.output.LayerNorm.weight\n",
      "encoder.layer.10.attention.output.LayerNorm.bias\n",
      "encoder.layer.10.intermediate.dense.weight\n",
      "encoder.layer.10.intermediate.dense.bias\n",
      "encoder.layer.10.output.dense.weight\n",
      "encoder.layer.10.output.dense.bias\n",
      "encoder.layer.10.output.LayerNorm.weight\n",
      "encoder.layer.10.output.LayerNorm.bias\n",
      "encoder.layer.11.attention.self.query_proj.weight\n",
      "encoder.layer.11.attention.self.query_proj.bias\n",
      "encoder.layer.11.attention.self.key_proj.weight\n",
      "encoder.layer.11.attention.self.key_proj.bias\n",
      "encoder.layer.11.attention.self.value_proj.weight\n",
      "encoder.layer.11.attention.self.value_proj.bias\n",
      "encoder.layer.11.attention.output.dense.weight\n",
      "encoder.layer.11.attention.output.dense.bias\n",
      "encoder.layer.11.attention.output.LayerNorm.weight\n",
      "encoder.layer.11.attention.output.LayerNorm.bias\n",
      "encoder.layer.11.intermediate.dense.weight\n",
      "encoder.layer.11.intermediate.dense.bias\n",
      "encoder.layer.11.output.dense.weight\n",
      "encoder.layer.11.output.dense.bias\n",
      "encoder.layer.11.output.LayerNorm.weight\n",
      "encoder.layer.11.output.LayerNorm.bias\n",
      "encoder.rel_embeddings.weight\n",
      "encoder.LayerNorm.weight\n",
      "encoder.LayerNorm.bias\n"
     ]
    }
   ],
   "source": [
    "for name, para in model.named_parameters():\n",
    "    print(name)"
   ],
   "metadata": {
    "collapsed": false,
    "pycharm": {
     "name": "#%%\n"
    }
   }
  },
  {
   "cell_type": "code",
   "execution_count": 8,
   "outputs": [
    {
     "name": "stdout",
     "output_type": "stream",
     "text": [
      "{'input_ids': tensor([[    1, 19574,   351,  ...,   334,   260,     2]]), 'token_type_ids': tensor([[0, 0, 0,  ..., 0, 0, 0]]), 'attention_mask': tensor([[1, 1, 1,  ..., 1, 1, 1]])}\n",
      "dict_keys(['input_ids', 'token_type_ids', 'attention_mask'])\n",
      "torch.Size([1, 5002])\n"
     ]
    }
   ],
   "source": [
    "# 长文本\n",
    "text = \"Replace me by any text you'd like.\"\n",
    "text = text * 500\n",
    "\n",
    "encoded_input = tokenizer(text, return_tensors='pt')\n",
    "print(encoded_input)\n",
    "print(encoded_input.keys())\n",
    "print(encoded_input['input_ids'].shape)  # [1, 5002]"
   ],
   "metadata": {
    "collapsed": false,
    "pycharm": {
     "name": "#%%\n"
    }
   }
  },
  {
   "cell_type": "code",
   "execution_count": 9,
   "outputs": [
    {
     "name": "stdout",
     "output_type": "stream",
     "text": [
      "tensor([[[ 0.0239,  0.1704, -0.0316,  ..., -0.1247,  0.0810,  0.0192],\n",
      "         [ 0.4834,  0.1078,  0.0750,  ...,  0.8623,  0.4400, -0.2494],\n",
      "         [ 0.7394,  0.0288,  0.0800,  ...,  0.7303,  0.3650, -0.0103],\n",
      "         ...,\n",
      "         [ 0.6291,  0.7503,  0.4901,  ...,  0.0150, -0.2836,  0.4169],\n",
      "         [-0.0024,  0.7096,  0.5085,  ...,  0.9686, -0.4418, -0.1343],\n",
      "         [ 0.0770,  0.1935, -0.0307,  ..., -0.1302,  0.0821,  0.0261]]],\n",
      "       grad_fn=<NativeLayerNormBackward0>)\n"
     ]
    }
   ],
   "source": [
    "result = model(**encoded_input)\n",
    "print(result.last_hidden_state)"
   ],
   "metadata": {
    "collapsed": false,
    "pycharm": {
     "name": "#%%\n"
    }
   }
  },
  {
   "cell_type": "code",
   "execution_count": 10,
   "outputs": [
    {
     "data": {
      "text/plain": "torch.Size([1, 5002, 768])"
     },
     "execution_count": 10,
     "metadata": {},
     "output_type": "execute_result"
    }
   ],
   "source": [
    "result.last_hidden_state.shape  # [1, 5002, 768]"
   ],
   "metadata": {
    "collapsed": false,
    "pycharm": {
     "name": "#%%\n"
    }
   }
  },
  {
   "cell_type": "code",
   "execution_count": 10,
   "outputs": [],
   "source": [],
   "metadata": {
    "collapsed": false,
    "pycharm": {
     "name": "#%%\n"
    }
   }
  }
 ],
 "metadata": {
  "kernelspec": {
   "display_name": "Python 3",
   "language": "python",
   "name": "python3"
  },
  "language_info": {
   "codemirror_mode": {
    "name": "ipython",
    "version": 2
   },
   "file_extension": ".py",
   "mimetype": "text/x-python",
   "name": "python",
   "nbconvert_exporter": "python",
   "pygments_lexer": "ipython2",
   "version": "2.7.6"
  }
 },
 "nbformat": 4,
 "nbformat_minor": 0
}