{
 "cells": [
  {
   "cell_type": "code",
   "execution_count": 121,
   "metadata": {},
   "outputs": [],
   "source": [
    "import numpy as np"
   ]
  },
  {
   "cell_type": "code",
   "execution_count": 122,
   "metadata": {},
   "outputs": [
    {
     "data": {
      "text/plain": [
       "array([[[ 0,  1,  2,  3],\n",
       "        [ 4,  5,  6,  7],\n",
       "        [ 8,  9, 10, 11]],\n",
       "\n",
       "       [[12, 13, 14, 15],\n",
       "        [16, 17, 18, 19],\n",
       "        [20, 21, 22, 23]]])"
      ]
     },
     "execution_count": 122,
     "metadata": {},
     "output_type": "execute_result"
    }
   ],
   "source": [
    "arr = np.arange(24).reshape(2, 3, 4)\n",
    "arr"
   ]
  },
  {
   "cell_type": "code",
   "execution_count": 123,
   "metadata": {},
   "outputs": [
    {
     "name": "stdout",
     "output_type": "stream",
     "text": [
      "[[ 0  1  2  3]\n",
      " [12 13 14 15]]\n",
      "[[ 4  5  6  7]\n",
      " [16 17 18 19]]\n",
      "[[ 8  9 10 11]\n",
      " [20 21 22 23]]\n"
     ]
    }
   ],
   "source": [
    "print(arr[:, 0, :])\n",
    "print(arr[:, 1, :])\n",
    "print(arr[:, 2, :])"
   ]
  },
  {
   "cell_type": "code",
   "execution_count": 124,
   "metadata": {},
   "outputs": [
    {
     "name": "stdout",
     "output_type": "stream",
     "text": [
      "(2, 4)\n",
      "[[12 15 18 21]\n",
      " [48 51 54 57]]\n",
      "[[12 15 18 21]\n",
      " [48 51 54 57]]\n"
     ]
    }
   ],
   "source": [
    "print(np.sum(arr, axis=1).shape)  # print->(2, 4) \n",
    "print(np.sum(arr, axis=1)) \n",
    "# 分析:\n",
    "# 1.获取arr axis=1上的所有索引数组\n",
    "# 2.所有索引数组求和(axis=1消失)\n",
    "print(arr[:, 0, :] + arr[:, 1, :] + arr[:, 2, :])  # 与上等价"
   ]
  },
  {
   "cell_type": "code",
   "execution_count": 125,
   "metadata": {},
   "outputs": [
    {
     "name": "stdout",
     "output_type": "stream",
     "text": [
      "(2, 3, 4)\n",
      "[[[ 0  1  2  3]\n",
      "  [ 4  6  8 10]\n",
      "  [12 15 18 21]]\n",
      "\n",
      " [[12 13 14 15]\n",
      "  [28 30 32 34]\n",
      "  [48 51 54 57]]]\n",
      "[[[ 0  1  2  3]\n",
      "  [ 4  6  8 10]\n",
      "  [12 15 18 21]]\n",
      "\n",
      " [[12 13 14 15]\n",
      "  [28 30 32 34]\n",
      "  [48 51 54 57]]]\n"
     ]
    }
   ],
   "source": [
    "print(np.cumsum(arr, axis=1).shape)  # print->(2, 3, 4) \n",
    "print(np.cumsum(arr, axis=1)) \n",
    "# 分析:\n",
    "# 1. 获取arr axis=1上的所有索引数组\n",
    "# 2. 第一次累乘: arr[:, 0, :]\n",
    "# 3. 第二次累乘: arr[:, 0, :] + arr[:, 1, :]\n",
    "# 4. 第三次累乘: arr[:, 0, :] + arr[:, 1, :] + arr[:, 2, :]\n",
    "# 5. 重新在axis=1上堆叠(axis=1不消失)\n",
    "print(np.stack((arr[:, 0, :], arr[:, 0, :] + arr[:, 1, :], arr[:, 0, :] + arr[:, 1, :] + arr[:, 2, :]), axis=1))  # 与上等价"
   ]
  }
 ],
 "metadata": {
  "kernelspec": {
   "display_name": "llm",
   "language": "python",
   "name": "python3"
  },
  "language_info": {
   "codemirror_mode": {
    "name": "ipython",
    "version": 3
   },
   "file_extension": ".py",
   "mimetype": "text/x-python",
   "name": "python",
   "nbconvert_exporter": "python",
   "pygments_lexer": "ipython3",
   "version": "3.10.12"
  }
 },
 "nbformat": 4,
 "nbformat_minor": 2
}
