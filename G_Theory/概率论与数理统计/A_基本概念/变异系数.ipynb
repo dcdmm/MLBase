{
 "cells": [
  {
   "cell_type": "markdown",
   "source": [
    "<font color='red' size=4>定义:</font>    \n",
    "&emsp;&emsp;变异系数(Coefficient of Variation):当需要比较两组数据离散程度大小的时候, 如果两组数据的测量尺度相差太大, \n",
    "或者数据量纲的不同,直接使用标准差来进行比较不合适，此时就应当消除测量尺度和量纲的影响,而变异系数可以做到这一点,\n",
    "它是原始数据标准差与原始数据平均数的比.$CV$没有量纲,这样就可以进行客观比较.\n",
    "\n",
    "<font color='red' size=4>计算:</font>    \n",
    "1. $$ 总体变异系数CV=\\frac{\\sigma}{\\mu} \\times 100 \\% $$  \n",
    "2. $$ 样本变异系数CV=\\frac{s}{\\bar{x}} \\times 100 \\% $$  "
   ],
   "metadata": {
    "pycharm": {
     "metadata": false,
     "name": "#%% md\n"
    }
   }
  },
  {
   "cell_type": "code",
   "execution_count": 3,
   "metadata": {
    "collapsed": true,
    "pycharm": {
     "is_executing": false
    }
   },
   "outputs": [
    {
     "data": {
      "text/plain": "0.06688528218537254"
     },
     "metadata": {},
     "output_type": "execute_result",
     "execution_count": 3
    }
   ],
   "source": "import  numpy as np\n\ndata = np.array([6.5, 6.8, 6.8, 7, 7.1, 7.2, 7.2, 7.4, \n        7.4, 7.5, 7.5, 7.5, 7.6, 7.8, 8, 8.5])\nmean = np.mean(data)\nstd = np.std(data, ddof=1)\ncv = std / mean\ncv"
  },
  {
   "cell_type": "code",
   "execution_count": null,
   "outputs": [],
   "source": "\n",
   "metadata": {
    "pycharm": {
     "metadata": false,
     "name": "#%%\n"
    }
   }
  }
 ],
 "metadata": {
  "language_info": {
   "codemirror_mode": {
    "name": "ipython",
    "version": 2
   },
   "file_extension": ".py",
   "mimetype": "text/x-python",
   "name": "python",
   "nbconvert_exporter": "python",
   "pygments_lexer": "ipython2",
   "version": "2.7.6"
  },
  "kernelspec": {
   "name": "python3",
   "language": "python",
   "display_name": "Python 3"
  },
  "stem_cell": {
   "cell_type": "raw",
   "source": "",
   "metadata": {
    "pycharm": {
     "metadata": false
    }
   }
  },
  "pycharm": {
   "stem_cell": {
    "cell_type": "raw",
    "source": [],
    "metadata": {
     "collapsed": false
    }
   }
  }
 },
 "nbformat": 4,
 "nbformat_minor": 0
}