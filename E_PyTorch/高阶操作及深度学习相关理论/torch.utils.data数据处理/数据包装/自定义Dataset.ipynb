{
 "cells": [
  {
   "cell_type": "code",
   "execution_count": 5,
   "metadata": {
    "pycharm": {
     "name": "#%%\n"
    }
   },
   "outputs": [],
   "source": [
    "import torch\n",
    "from torch.utils.data import DataLoader, Dataset\n",
    "import pandas as pd\n",
    "from sklearn import preprocessing"
   ]
  },
  {
   "cell_type": "code",
   "execution_count": 6,
   "metadata": {
    "pycharm": {
     "name": "#%%\n"
    }
   },
   "outputs": [],
   "source": [
    "class MyDataset(Dataset):  # 继承Dataset类\n",
    "    \"\"\"可在此处对数据的读取,下载,初始化等进行相关设置\"\"\"\n",
    "\n",
    "    def __init__(self, open_dir):\n",
    "        self.dataset = pd.read_csv(open_dir, header=None).values[:100]\n",
    "        self.len = self.dataset.shape[0]\n",
    "        self.data_x = torch.from_numpy(self.dataset[:, 1:])  # 转换为tensor\n",
    "        enc = preprocessing.OneHotEncoder()  # 独热编码\n",
    "        self.data_y = enc.fit_transform(self.dataset[:, 0].reshape(-1, 1)).toarray()\n",
    "        self.data_y = torch.from_numpy(self.data_y)\n",
    "\n",
    "    def __getitem__(self, index):\n",
    "        print(\"::::::::::\", index)\n",
    "        return [self.data_x[index], self.data_y[index]]  # 自定义索引方式\n",
    "\n",
    "    def __len__(self):\n",
    "        return self.len"
   ]
  },
  {
   "cell_type": "code",
   "execution_count": 7,
   "metadata": {
    "pycharm": {
     "name": "#%%\n"
    }
   },
   "outputs": [],
   "source": [
    "file_dir = '../../../../I_Model/核心深度学习模型/深度神经网络DNN/手写数字识别_手工_mnist/mnist_train_6000.csv'\n",
    "mydataset = MyDataset(file_dir)"
   ]
  },
  {
   "cell_type": "code",
   "execution_count": 8,
   "metadata": {
    "pycharm": {
     "name": "#%%\n"
    }
   },
   "outputs": [
    {
     "name": "stdout",
     "output_type": "stream",
     "text": [
      ":::::::::: 51\n",
      ":::::::::: 74\n",
      ":::::::::: 19\n",
      ":::::::::: 78\n",
      ":::::::::: 30\n",
      ":::::::::: 85\n",
      ":::::::::: 36\n",
      ":::::::::: 38\n",
      ":::::::::: 41\n",
      ":::::::::: 75\n",
      ":::::::::: 50\n",
      ":::::::::: 45\n",
      ":::::::::: 59\n",
      ":::::::::: 55\n",
      ":::::::::: 46\n",
      ":::::::::: 92\n",
      ":::::::::: 49\n",
      ":::::::::: 23\n",
      ":::::::::: 22\n",
      ":::::::::: 60\n",
      ":::::::::: 87\n",
      ":::::::::: 48\n",
      ":::::::::: 17\n",
      ":::::::::: 31\n",
      ":::::::::: 5\n",
      ":::::::::: 26\n",
      ":::::::::: 39\n",
      ":::::::::: 3\n",
      ":::::::::: 63\n",
      ":::::::::: 61\n",
      ":::::::::: 80\n",
      ":::::::::: 7\n",
      "第0批大小:\n",
      " torch.Size([32, 784]) torch.Size([32, 10])\n"
     ]
    }
   ],
   "source": [
    "myloader = DataLoader(dataset=mydataset,\n",
    "                      batch_size=32,\n",
    "                      shuffle=True)\n",
    "for i, data in enumerate(myloader):\n",
    "    print('第{}批大小:\\n'.format(str(i)), data[0].shape, data[1].shape)\n",
    "    break"
   ]
  }
 ],
 "metadata": {
  "kernelspec": {
   "display_name": "Python 3",
   "language": "python",
   "name": "python3"
  },
  "language_info": {
   "codemirror_mode": {
    "name": "ipython",
    "version": 3
   },
   "file_extension": ".py",
   "mimetype": "text/x-python",
   "name": "python",
   "nbconvert_exporter": "python",
   "pygments_lexer": "ipython3",
   "version": "3.7.7"
  },
  "toc": {
   "base_numbering": 1,
   "nav_menu": {},
   "number_sections": true,
   "sideBar": true,
   "skip_h1_title": false,
   "title_cell": "Table of Contents",
   "title_sidebar": "Contents",
   "toc_cell": false,
   "toc_position": {},
   "toc_section_display": true,
   "toc_window_display": false
  }
 },
 "nbformat": 4,
 "nbformat_minor": 1
}