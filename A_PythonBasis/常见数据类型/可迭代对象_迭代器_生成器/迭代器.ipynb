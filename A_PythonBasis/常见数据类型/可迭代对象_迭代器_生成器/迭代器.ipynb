{
 "cells": [
  {
   "cell_type": "markdown",
   "metadata": {
    "collapsed": true,
    "pycharm": {}
   },
   "source": [
    "* 迭代器只能迭代一次,可以通过next或for进行迭代\n",
    "* iter(iterable) -> iterator\n",
    "* 任何实现了__iter__和__next__()方法的对象都是迭代器(鸭子类型)"
   ]
  },
  {
   "cell_type": "code",
   "execution_count": 4,
   "metadata": {
    "pycharm": {
     "is_executing": false
    }
   },
   "outputs": [
    {
     "name": "stdout",
     "text": [
      "<class 'str_iterator'>\nd\nu\na\nn\nc\nh\na\no\n"
     ],
     "output_type": "stream"
    },
    {
     "traceback": [
      "\u001B[1;31m---------------------------------------------------------------------------\u001B[0m",
      "\u001B[1;31mStopIteration\u001B[0m                             Traceback (most recent call last)",
      "\u001B[1;32m<ipython-input-4-9735ec604d75>\u001B[0m in \u001B[0;36m<module>\u001B[1;34m\u001B[0m\n\u001B[0;32m     15\u001B[0m     \u001B[0mprint\u001B[0m\u001B[1;33m(\u001B[0m\u001B[0meach\u001B[0m\u001B[1;33m)\u001B[0m\u001B[1;33m\u001B[0m\u001B[1;33m\u001B[0m\u001B[0m\n\u001B[0;32m     16\u001B[0m \u001B[1;33m\u001B[0m\u001B[0m\n\u001B[1;32m---> 17\u001B[1;33m \u001B[0mnext\u001B[0m\u001B[1;33m(\u001B[0m\u001B[0miter_name\u001B[0m\u001B[1;33m)\u001B[0m\u001B[1;33m\u001B[0m\u001B[1;33m\u001B[0m\u001B[0m\n\u001B[0m\u001B[0;32m     18\u001B[0m \u001B[1;33m\u001B[0m\u001B[0m\n",
      "\u001B[1;31mStopIteration\u001B[0m: "
     ],
     "ename": "StopIteration",
     "evalue": "",
     "output_type": "error"
    }
   ],
   "source": [
    "'''\n",
    "for循环运行步骤:\n",
    "1.先判断对象是否为可迭代对象,不是的话直接报错,抛出TypeError异常\n",
    "2.是的话,调用iter()方法,返回一个迭代器,然后不断地调用迭代器的__next__方法,每次按序返回迭代器中的一个值\n",
    "3.迭代到最后,没有更多的元素了,就抛出异常StopIteration,这个异常python自己会处理,不会暴露给开发者\n",
    "'''\n",
    "name = 'duanchao'\n",
    "iter_name = iter(name)  # 将可迭代对象转换为迭代器\n",
    "print(type(iter_name))\n",
    "while True:\n",
    "    try:\n",
    "        each = next(iter_name)  # 迭代器可以使用next函数进行访问\n",
    "    except StopIteration:\n",
    "        break\n",
    "    print(each)\n",
    "\n",
    "next(iter_name)  # 报错,迭代器已经迭代完"
   ]
  },
  {
   "cell_type": "code",
   "execution_count": 2,
   "metadata": {
    "pycharm": {
     "is_executing": false
    }
   },
   "outputs": [
    {
     "name": "stdout",
     "text": [
      "True\nTrue\n1\n1\n2\n3\n5\n8\n13\n21\n"
     ],
     "output_type": "stream"
    },
    {
     "name": "stderr",
     "text": [
      "C:\\Users\\dcgo\\Anaconda3\\lib\\site-packages\\ipykernel_launcher.py:2: DeprecationWarning: Using or importing the ABCs from 'collections' instead of from 'collections.abc' is deprecated, and in 3.8 it will stop working\n  \n"
     ],
     "output_type": "stream"
    }
   ],
   "source": [
    "# 迭代器举例\n",
    "from collections.abc import Iterable, Iterator\n",
    "\n",
    "class Fibs(object):\n",
    "    def __init__(self, n=20):\n",
    "        self.a = 0\n",
    "        self.b = 1\n",
    "        self.n = n\n",
    "\n",
    "    def __iter__(self):\n",
    "        return self\n",
    "\n",
    "    def __next__(self):\n",
    "        self.a, self.b = self.b, self.a + self.b\n",
    "        if self.a > self.n:\n",
    "            raise StopIteration\n",
    "        return self.a\n",
    "\n",
    "\n",
    "fibs = Fibs(30)\n",
    "print(isinstance(fibs, Iterator))  # 是迭代器\n",
    "print(isinstance(fibs, Iterable))  # 是可迭代对象\n",
    "for each in fibs:\n",
    "    print(each)"
   ]
  },
  {
   "cell_type": "code",
   "execution_count": 3,
   "metadata": {
    "pycharm": {
     "is_executing": false
    }
   },
   "outputs": [
    {
     "name": "stdout",
     "text": [
      "True\nFalse\nFalse\nTrue\nFalse\nTrue\nFalse\nTrue\nFalse\nTrue\n"
     ],
     "output_type": "stream"
    }
   ],
   "source": [
    "import pandas as pd\n",
    "\n",
    "print(isinstance((x for x in range(10)), Iterator))  # 生成器是迭代器\n",
    "print(isinstance('abc', Iterator))  # 字符串不是迭代器\n",
    "print(isinstance([1, 2, 3], Iterator))  # 列表不是迭代器\n",
    "print(isinstance(iter([1, 2, 3]), Iterator))  # iter(list)是迭代器\n",
    "print(isinstance({'a': 1, 'b': 2}, Iterator))  # 字典不是迭代器\n",
    "print(isinstance(iter({'a': 1, 'b': 2}), Iterator))  # iter(字典)是迭代器\n",
    "print(isinstance(pd.DataFrame([2, 3]), Iterator))  # DataFrame不是迭代器\n",
    "print(isinstance(iter(pd.DataFrame([2, 3])), Iterator))  # iter(DataFrame)是迭代器\n",
    "print(isinstance(range(13), Iterator))  # range对象不是迭代器\n",
    "print(isinstance(iter(range(13)), Iterator))  # iter(range)是迭代器"
   ]
  },
  {
   "cell_type": "code",
   "execution_count": null,
   "outputs": [],
   "source": [
    "\n"
   ],
   "metadata": {
    "pycharm": {
     "metadata": false
    }
   }
  }
 ],
 "metadata": {
  "kernelspec": {
   "name": "python3",
   "language": "python",
   "display_name": "Python 3"
  },
  "language_info": {
   "codemirror_mode": {
    "name": "ipython",
    "version": 2
   },
   "file_extension": ".py",
   "mimetype": "text/x-python",
   "name": "python",
   "nbconvert_exporter": "python",
   "pygments_lexer": "ipython2",
   "version": "2.7.6"
  }
 },
 "nbformat": 4,
 "nbformat_minor": 0
}
