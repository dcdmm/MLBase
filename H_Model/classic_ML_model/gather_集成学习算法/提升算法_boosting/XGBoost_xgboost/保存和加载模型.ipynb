{
 "cells": [
  {
   "cell_type": "code",
   "execution_count": 7,
   "metadata": {
    "collapsed": true
   },
   "outputs": [],
   "source": [
    "import xgboost as xgb\n",
    "from sklearn import datasets\n",
    "from sklearn.model_selection import train_test_split\n",
    "from sklearn.preprocessing import OrdinalEncoder"
   ]
  },
  {
   "cell_type": "code",
   "execution_count": 8,
   "outputs": [],
   "source": [
    "enc = OrdinalEncoder()\n",
    "\n",
    "X = datasets.fetch_covtype().data[:3000]\n",
    "y = datasets.fetch_covtype().target[:3000]\n",
    "\n",
    "X_1, X_test, y_1, y_test = train_test_split(X, y, test_size=0.1)\n",
    "X_train, X_va, y_train, y_va = train_test_split(X_1, y_1)\n",
    "\n",
    "y_train_enc = enc.fit_transform(y_train.reshape(-1, 1))\n",
    "y_test_enc = enc.transform(y_test.reshape(-1, 1))\n",
    "y_va_enc = enc.fit_transform(y_va.reshape(-1, 1))\n",
    "\n",
    "train_dataset = xgb.DMatrix(data=X_train, label=y_train_enc)\n",
    "test_dataset = xgb.DMatrix(data=X_test)"
   ],
   "metadata": {
    "collapsed": false,
    "pycharm": {
     "name": "#%%\n"
    }
   }
  },
  {
   "cell_type": "code",
   "execution_count": 9,
   "outputs": [],
   "source": [
    "params = {'objective': 'multi:softprob',\n",
    "          \"eval_metric\": 'mlogloss',\n",
    "          'num_class': 7}"
   ],
   "metadata": {
    "collapsed": false,
    "pycharm": {
     "name": "#%%\n"
    }
   }
  },
  {
   "cell_type": "code",
   "execution_count": 10,
   "outputs": [],
   "source": [
    "model = xgb.train(params=params,\n",
    "                  dtrain=train_dataset)"
   ],
   "metadata": {
    "collapsed": false,
    "pycharm": {
     "name": "#%%\n"
    }
   }
  },
  {
   "cell_type": "code",
   "execution_count": 11,
   "outputs": [],
   "source": [
    "# 保存训练好的模型\n",
    "model.save_model(\"xgb.model\")"
   ],
   "metadata": {
    "collapsed": false,
    "pycharm": {
     "name": "#%%\n"
    }
   }
  },
  {
   "cell_type": "code",
   "execution_count": 13,
   "outputs": [
    {
     "data": {
      "text/plain": "<xgboost.core.Booster at 0x1ccb6685ac0>"
     },
     "execution_count": 13,
     "metadata": {},
     "output_type": "execute_result"
    }
   ],
   "source": [
    "# 加载训练好的模型\n",
    "bst = xgb.Booster(model_file='xgb.model')\n",
    "bst"
   ],
   "metadata": {
    "collapsed": false,
    "pycharm": {
     "name": "#%%\n"
    }
   }
  },
  {
   "cell_type": "code",
   "execution_count": 15,
   "outputs": [
    {
     "data": {
      "text/plain": "array([[0.01306686, 0.0175231 , 0.90903336, ..., 0.01326542, 0.02159206,\n        0.01276201],\n       [0.06985125, 0.04078988, 0.09958142, ..., 0.03457582, 0.6886868 ,\n        0.03326373],\n       [0.3079888 , 0.04146855, 0.025714  , ..., 0.02626583, 0.02576764,\n        0.54709774],\n       ...,\n       [0.0425621 , 0.1631289 , 0.02657144, ..., 0.68799186, 0.02662688,\n        0.02656442],\n       [0.01486406, 0.1670449 , 0.01302533, ..., 0.76597434, 0.0130525 ,\n        0.01302189],\n       [0.04194644, 0.02615475, 0.00958628, ..., 0.009792  , 0.00960628,\n        0.89333415]], dtype=float32)"
     },
     "execution_count": 15,
     "metadata": {},
     "output_type": "execute_result"
    }
   ],
   "source": [],
   "metadata": {
    "collapsed": false,
    "pycharm": {
     "name": "#%%\n"
    }
   }
  }
 ],
 "metadata": {
  "kernelspec": {
   "display_name": "Python 3",
   "language": "python",
   "name": "python3"
  },
  "language_info": {
   "codemirror_mode": {
    "name": "ipython",
    "version": 2
   },
   "file_extension": ".py",
   "mimetype": "text/x-python",
   "name": "python",
   "nbconvert_exporter": "python",
   "pygments_lexer": "ipython2",
   "version": "2.7.6"
  }
 },
 "nbformat": 4,
 "nbformat_minor": 0
}