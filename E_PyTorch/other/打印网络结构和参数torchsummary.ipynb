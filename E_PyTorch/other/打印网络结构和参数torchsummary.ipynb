{
 "cells": [
  {
   "cell_type": "code",
   "execution_count": 21,
   "outputs": [],
   "source": [
    "import torchvision.models as models\n",
    "from torchsummary import summary"
   ],
   "metadata": {
    "collapsed": false,
    "pycharm": {
     "name": "#%%\n"
    }
   }
  },
  {
   "cell_type": "code",
   "execution_count": 22,
   "outputs": [
    {
     "name": "stdout",
     "output_type": "stream",
     "text": [
      "----------------------------------------------------------------\n",
      "        Layer (type)               Output Shape         Param #\n",
      "================================================================\n",
      "            Conv2d-1          [400, 64, 79, 79]          23,296\n",
      "              ReLU-2          [400, 64, 79, 79]               0\n",
      "         MaxPool2d-3          [400, 64, 39, 39]               0\n",
      "            Conv2d-4         [400, 192, 39, 39]         307,392\n",
      "              ReLU-5         [400, 192, 39, 39]               0\n",
      "         MaxPool2d-6         [400, 192, 19, 19]               0\n",
      "            Conv2d-7         [400, 384, 19, 19]         663,936\n",
      "              ReLU-8         [400, 384, 19, 19]               0\n",
      "            Conv2d-9         [400, 256, 19, 19]         884,992\n",
      "             ReLU-10         [400, 256, 19, 19]               0\n",
      "           Conv2d-11         [400, 256, 19, 19]         590,080\n",
      "             ReLU-12         [400, 256, 19, 19]               0\n",
      "        MaxPool2d-13           [400, 256, 9, 9]               0\n",
      "AdaptiveAvgPool2d-14           [400, 256, 6, 6]               0\n",
      "          Dropout-15                [400, 9216]               0\n",
      "           Linear-16                [400, 4096]      37,752,832\n",
      "             ReLU-17                [400, 4096]               0\n",
      "          Dropout-18                [400, 4096]               0\n",
      "           Linear-19                [400, 4096]      16,781,312\n",
      "             ReLU-20                [400, 4096]               0\n",
      "           Linear-21                [400, 1000]       4,097,000\n",
      "================================================================\n",
      "Total params: 61,100,840\n",
      "Trainable params: 61,100,840\n",
      "Non-trainable params: 0\n",
      "----------------------------------------------------------------\n",
      "Input size (MB): 468.75\n",
      "Forward/backward pass size (MB): 6888.21\n",
      "Params size (MB): 233.08\n",
      "Estimated Total Size (MB): 7590.04\n",
      "----------------------------------------------------------------\n",
      "None\n"
     ]
    }
   ],
   "source": [
    "# 打印网络结构(不能含Embedding层)和参数\n",
    "print(summary(model=models.alexnet(),\n",
    "              batch_size=400,\n",
    "              input_size=(3, 320, 320),  # 输入形状;input_size=(channels, H, W)\n",
    "              device=\"cpu\"))  # 'cpu'或'cuda'"
   ],
   "metadata": {
    "collapsed": false,
    "pycharm": {
     "name": "#%%\n"
    }
   }
  }
 ],
 "metadata": {
  "kernelspec": {
   "display_name": "Python 3",
   "language": "python",
   "name": "python3"
  },
  "language_info": {
   "codemirror_mode": {
    "name": "ipython",
    "version": 2
   },
   "file_extension": ".py",
   "mimetype": "text/x-python",
   "name": "python",
   "nbconvert_exporter": "python",
   "pygments_lexer": "ipython2",
   "version": "2.7.6"
  }
 },
 "nbformat": 4,
 "nbformat_minor": 0
}