{
 "cells": [
  {
   "cell_type": "code",
   "execution_count": 1,
   "metadata": {
    "collapsed": true,
    "pycharm": {
     "is_executing": false
    }
   },
   "outputs": [
    {
     "name": "stdout",
     "text": [
      "a\n",
      "b\n",
      "c\n",
      "a\n",
      "b\n"
     ],
     "output_type": "stream"
    }
   ],
   "source": [
    "import itertools\n",
    "\n",
    "j=0\n",
    "'''\n",
    "cycle(iterable) --> cycle object\n",
    "\n",
    "Return elements from the iterable until it is exhausted.\n",
    "Then repeat the sequence indefinitely.\n",
    "'''\n",
    "# 循环输出'abc'中的字母\n",
    "for i in itertools.cycle('abc'):\n",
    "    print(i)\n",
    "    \n",
    "    # 第5步结束循环\n",
    "    j += 1    \n",
    "    if j==5 :\n",
    "        break\n"
   ]
  },
  {
   "cell_type": "code",
   "execution_count": 2,
   "outputs": [
    {
     "name": "stdout",
     "text": [
      "段\n",
      "超\n",
      "你\n",
      "好\n",
      "段\n",
      "超\n",
      "你\n",
      "好\n"
     ],
     "output_type": "stream"
    }
   ],
   "source": [
    "n = 0\n",
    "for k in itertools.cycle(['段', '超', '你', '好']):\n",
    "    print(k)\n",
    "    \n",
    "    n += 1\n",
    "    if n == 8:\n",
    "        break\n",
    "    "
   ],
   "metadata": {
    "collapsed": false,
    "pycharm": {
     "name": "#%%\n",
     "is_executing": false
    }
   }
  },
  {
   "cell_type": "code",
   "execution_count": null,
   "outputs": [],
   "source": [
    "\n"
   ],
   "metadata": {
    "collapsed": false,
    "pycharm": {
     "name": "#%%\n"
    }
   }
  }
 ],
 "metadata": {
  "kernelspec": {
   "display_name": "Python 3",
   "language": "python",
   "name": "python3"
  },
  "language_info": {
   "codemirror_mode": {
    "name": "ipython",
    "version": 2
   },
   "file_extension": ".py",
   "mimetype": "text/x-python",
   "name": "python",
   "nbconvert_exporter": "python",
   "pygments_lexer": "ipython2",
   "version": "2.7.6"
  },
  "pycharm": {
   "stem_cell": {
    "cell_type": "raw",
    "source": [],
    "metadata": {
     "collapsed": false
    }
   }
  }
 },
 "nbformat": 4,
 "nbformat_minor": 0
}