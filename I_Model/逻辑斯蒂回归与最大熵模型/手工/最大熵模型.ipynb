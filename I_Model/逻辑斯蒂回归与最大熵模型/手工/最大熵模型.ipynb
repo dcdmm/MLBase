{
 "cells": [
  {
   "cell_type": "code",
   "execution_count": 2,
   "metadata": {
    "collapsed": true,
    "pycharm": {
     "is_executing": false,
     "name": "#%%\n"
    }
   },
   "outputs": [],
   "source": [
    "import math\n",
    "import numpy as np\n",
    "from numpy import  linalg as LA\n",
    "\n",
    "\n",
    "class MaxEntropy:\n",
    "    def __init__(self, dataset, epsilon=1e-3, maxstep=4, rate=0.1):\n",
    "        self._samples = dataset # 训练数据集\n",
    "        self.epsilon = epsilon # 停止迭代条件\n",
    "        self.maxstep = maxstep # 最大训练次数\n",
    "        self._Y = set()  # 训练数据包含的类\n",
    "        self._numXY = {}  # key:特征函数(x/特征, y/列),value:该特征函数在训练数据集中出现的次数\n",
    "        self._N = 0  # 训练数据样本个数\n",
    "        self._n = 0 # 特征函数个数\n",
    "        self._C = 0 # 最大特征数\n",
    "        self._w = None # 权值向量 \n",
    "        self._Ep_ = [] # 特征函数的概率分布(也等于特征函数关于经验分布\\hat{P}f(X, Y))的期望值\n",
    "        self._xyID = {} # key:特征函数,value:id\n",
    "        self._IDxy = {} # key:id,value:特征函数\n",
    "        self._B0 = None # BFGS算法中的B0矩阵\n",
    "        self.rate = rate # BFGS算法中一维搜索的步长\n",
    "\n",
    "         \n",
    "    def init_param(self):\n",
    "        \"\"\"模型参数初始化\"\"\"\n",
    "        for items in self._samples:\n",
    "            y = items[0] # 实例的类别\n",
    "            X = items[1:] # 实例特征向量\n",
    "            self._Y.add(y) # 添加类y,若类y已存在则忽略\n",
    "            for x in X:\n",
    "                if (x, y) in self._numXY:\n",
    "                    self._numXY[(x, y)] += 1\n",
    "                else:\n",
    "                    self._numXY[(x, y)] = 1\n",
    "\n",
    "        self._N = len(self._samples)\n",
    "        self._n = len(self._numXY)\n",
    "        self._B0 = np.eye(self._n) # 初始化的单位矩阵(满足正定对称矩阵的要求)\n",
    "        self._C = max([len(sample) - 1 for sample in self._samples])\n",
    "        self._w = np.zeros(self._n) # 权值向量初始为0向量\n",
    "        self._Ep_ = [0] * self._n # 初始化为0向量\n",
    "        for i, xy in enumerate(self._numXY):\n",
    "            self._Ep_[i] = self._numXY[xy] / self._N\n",
    "            self._xyID[xy] = i\n",
    "            self._IDxy[i] = xy\n",
    "    \n",
    "    \n",
    "    def _Zx(self, \n",
    "            X): # X为每一条训练数据集\n",
    "        \"\"\"计算Z_w(x),Z_w(x)为一个值\"\"\"\n",
    "        zx = 0\n",
    "        for y in self._Y:\n",
    "            ss = 0\n",
    "            for x in X:\n",
    "                if (x, y) in self._numXY: # 如果(\\mathbf{x}, y)是特征函数\n",
    "                    ss += self._w[self._xyID[(x, y)]]\n",
    "            zx += math.exp(ss)\n",
    "            \n",
    "        return zx\n",
    " \n",
    " \n",
    "    def _model_pyx(self, \n",
    "                   y, # y的可能取值\n",
    "                   X): # X为每一条训练数据集\n",
    "        \"\"\"计算p_w(y|x),注意:\\sum_{y} p_w(y|x)=1,p_w(y|x)为概率分布\"\"\"\n",
    "        zx = self._Zx(X)\n",
    "        ss = 0\n",
    "        for x in X:\n",
    "            if (x, y) in self._numXY:\n",
    "                ss += self._w[self._xyID[(x, y)]]\n",
    "        pyx = math.exp(ss) / zx\n",
    "        \n",
    "        return pyx\n",
    "    \n",
    "    \n",
    "    def _model_ep(self, index):\n",
    "        \"\"\"计算某个特征函数关于模型的期望值\"\"\"\n",
    "        x, y = self._IDxy[index] # 第i个特征函数\n",
    "        ep = 0\n",
    "        for sample in self._samples:\n",
    "            if x not in sample:\n",
    "                continue\n",
    "            pyx = self._model_pyx(y, sample)\n",
    "            ep += pyx / self._N\n",
    "            \n",
    "        return ep\n",
    "\n",
    "    \n",
    "    def func_grad(self):\n",
    "        \"\"\"计算目标函数关于权值向量的梯度\"\"\"\n",
    "        pxy_lst = list()\n",
    "        for i in range(self._n):\n",
    "            pxy_lst.append(self._model_ep(i))\n",
    "\n",
    "        return  np.array(pxy_lst) - self._Ep_ # 梯度\n",
    "   \n",
    "   \n",
    "    def updataB0(self, delta_lst, y_lst):\n",
    "        \"\"\"更新正定矩阵B0\"\"\"\n",
    "        delta = (delta_lst[1] - delta_lst[0]).reshape(-1, 1)\n",
    "        y = (y_lst[1] - y_lst[0]).reshape(-1, 1)\n",
    "        part1 = (y @ y.T) / (y.T @ delta)\n",
    "        part2 = (self._B0 @ delta @ delta.T @ self._B0) / (delta.T @ self._B0 @ delta)\n",
    "        self._B0 = self._B0 + part1 - part2\n",
    "    \n",
    "    \n",
    "    def BFGS(self):\n",
    "        \"\"\"最大熵模型学习的BFGS算法\"\"\"\n",
    "        self.init_param() # 模型初始化\n",
    "        g_k0 = self.func_grad()\n",
    "        y_vec = g_k0\n",
    "        distance0 = LA.norm(g_k0, ord=2) # L2范数,用来表示向量的大小\n",
    "        w_lst = [self._w, self._w] # 保留此次和上次sefl._w(权值向量)\n",
    "        g_k_lst = [g_k0, g_k0] # 保留此次和上次的g_k(梯度)\n",
    "        if distance0 < self.epsilon:\n",
    "            return self._w\n",
    "        else:\n",
    "            for i in range(self.maxstep):\n",
    "                p_k = -LA.solve(self._B0, y_vec)\n",
    "                self._w = self._w + self.rate*p_k \n",
    "                w_lst.pop(0)\n",
    "                w_lst.insert(1, self._w)\n",
    "                w_lst[1] = self._w\n",
    "                g_k1 = self.func_grad()\n",
    "                y_vec = g_k1\n",
    "                g_k_lst.pop(0)\n",
    "                g_k_lst.insert(1, g_k1)\n",
    "                distance1 = LA.norm(g_k1, ord=2)\n",
    "                if distance1 < self.epsilon:\n",
    "                    return self._w\n",
    "                else:\n",
    "                    self.updataB0(w_lst, g_k_lst) # 更新B0\n",
    "                    \n",
    "                    \n",
    "    def predict(self, X):\n",
    "        \"\"\"计算测试数据集的概率\"\"\"\n",
    "        Z = self._Zx(X)\n",
    "        result = {}\n",
    "        for y in self._Y:\n",
    "            ss = 0\n",
    "            for x in X:\n",
    "                if (x, y) in self._numXY:\n",
    "                    ss += self._w[self._xyID[(x, y)]]\n",
    "            pyx = math.exp(ss) / Z\n",
    "            result[y] = pyx # 通过p_w(y|\\mathcal{x})计算得(权值向量\\mathbf{w}是最大熵模型中的参数向量)\n",
    "        return result\n"
   ]
  },
  {
   "cell_type": "code",
   "execution_count": 3,
   "outputs": [],
   "source": [
    "# 训练数据集\n",
    "data = [['no', 'sunny', 'hot', 'high', 'FALSE'],\n",
    "           ['no', 'sunny', 'hot', 'high', 'TRUE'],\n",
    "           ['yes', 'overcast', 'hot', 'high', 'FALSE'],\n",
    "           ['yes', 'rainy', 'mild', 'high', 'FALSE'],\n",
    "           ['yes', 'rainy', 'cool', 'normal', 'FALSE'],\n",
    "           ['no', 'rainy', 'cool', 'normal', 'TRUE'],\n",
    "           ['yes', 'overcast', 'cool', 'normal', 'TRUE'],\n",
    "           ['no', 'sunny', 'mild', 'high', 'FALSE'],\n",
    "           ['yes', 'sunny', 'cool', 'normal', 'FALSE'],\n",
    "           ['yes', 'rainy', 'mild', 'normal', 'FALSE'],\n",
    "           ['yes', 'sunny', 'mild', 'normal', 'TRUE'],\n",
    "           ['yes', 'overcast', 'mild', 'high', 'TRUE'],\n",
    "           ['yes', 'overcast', 'hot', 'normal', 'FALSE'],\n",
    "           ['no', 'rainy', 'mild', 'high', 'TRUE']]"
   ],
   "metadata": {
    "collapsed": false,
    "pycharm": {
     "name": "#%%\n",
     "is_executing": false
    }
   }
  },
  {
   "cell_type": "code",
   "execution_count": 4,
   "outputs": [],
   "source": [
    "maxent = MaxEntropy(dataset=data, epsilon=1e-2, maxstep=100)\n",
    "p_x = ['overcast', 'mild', 'high', 'FALSE'] # 测试数据集"
   ],
   "metadata": {
    "collapsed": false,
    "pycharm": {
     "name": "#%%\n",
     "is_executing": false
    }
   }
  },
  {
   "cell_type": "code",
   "execution_count": 5,
   "outputs": [
    {
     "name": "stdout",
     "text": [
      "最终的权值向量为:\n",
      " [ 5.71321912  0.96202027  3.7027961  -3.77182992  2.16855512 10.56620575\n",
      " -0.96202027 -3.7027961   3.77182992 -3.24971183  4.42819421 -1.86289914\n",
      "  5.3060709   3.24971183  1.86289914 -5.3060709  -2.16855512 -4.42819421\n",
      " -5.71321912]\n"
     ],
     "output_type": "stream"
    }
   ],
   "source": [
    "last_w = maxent.BFGS()\n",
    "print('最终的权值向量为:\\n', last_w)"
   ],
   "metadata": {
    "collapsed": false,
    "pycharm": {
     "name": "#%%\n",
     "is_executing": false
    }
   }
  },
  {
   "cell_type": "code",
   "execution_count": 6,
   "outputs": [
    {
     "name": "stdout",
     "text": [
      "predict result: {'yes': 0.9999999968017492, 'no': 3.1982508065415424e-09}\n"
     ],
     "output_type": "stream"
    }
   ],
   "source": [
    "print('predict result:', maxent.predict(p_x)) # 极高的概率被认为是\"yes\""
   ],
   "metadata": {
    "collapsed": false,
    "pycharm": {
     "name": "#%%\n",
     "is_executing": false
    }
   }
  },
  {
   "cell_type": "code",
   "execution_count": 7,
   "outputs": [],
   "source": [
    "# 使用KNN算法与决策树算法进行验证\n",
    "from sklearn.neighbors import KNeighborsClassifier\n",
    "from sklearn.preprocessing import OrdinalEncoder\n",
    "from sklearn.tree import  DecisionTreeClassifier"
   ],
   "metadata": {
    "collapsed": false,
    "pycharm": {
     "name": "#%%\n",
     "is_executing": false
    }
   }
  },
  {
   "cell_type": "code",
   "execution_count": 8,
   "outputs": [
    {
     "data": {
      "text/plain": "array([[2., 1., 0., 0.],\n       [2., 1., 0., 1.],\n       [0., 1., 0., 0.],\n       [1., 2., 0., 0.],\n       [1., 0., 1., 0.],\n       [1., 0., 1., 1.],\n       [0., 0., 1., 1.],\n       [2., 2., 0., 0.],\n       [2., 0., 1., 0.],\n       [1., 2., 1., 0.],\n       [2., 2., 1., 1.],\n       [0., 2., 0., 1.],\n       [0., 1., 1., 0.],\n       [1., 2., 0., 1.]])"
     },
     "metadata": {},
     "output_type": "execute_result",
     "execution_count": 8
    }
   ],
   "source": [
    "arr_data = np.array(data)\n",
    "enc = OrdinalEncoder() # 离散型数据编码\n",
    "enc.fit(arr_data[:, 1:])\n",
    "arr_data_int = enc.transform(arr_data[:, 1:])\n",
    "arr_data_int"
   ],
   "metadata": {
    "collapsed": false,
    "pycharm": {
     "name": "#%%\n",
     "is_executing": false
    }
   }
  },
  {
   "cell_type": "code",
   "execution_count": 9,
   "outputs": [
    {
     "data": {
      "text/plain": "array([[0., 2., 0., 0.]])"
     },
     "metadata": {},
     "output_type": "execute_result",
     "execution_count": 9
    }
   ],
   "source": [
    "p_x_int = enc.transform(np.array(p_x).reshape(1, -1))\n",
    "p_x_int"
   ],
   "metadata": {
    "collapsed": false,
    "pycharm": {
     "name": "#%%\n",
     "is_executing": false
    }
   }
  },
  {
   "cell_type": "code",
   "execution_count": 10,
   "outputs": [],
   "source": [
    "kNN_classifier = KNeighborsClassifier(n_neighbors=2, # 临近点个数,即k值(默认n_neighbors=5) \n",
    "                                      weights='distance',\n",
    "                                      p=2, # 选择何种Minkowski距离(默认p=2,即欧氏距离)\n",
    "                                      n_jobs=-1)"
   ],
   "metadata": {
    "collapsed": false,
    "pycharm": {
     "name": "#%%\n",
     "is_executing": false
    }
   }
  },
  {
   "cell_type": "code",
   "execution_count": 11,
   "outputs": [
    {
     "data": {
      "text/plain": "array(['yes'], dtype='<U8')"
     },
     "metadata": {},
     "output_type": "execute_result",
     "execution_count": 11
    }
   ],
   "source": [
    "kNN_classifier.fit(arr_data_int, arr_data[:, 0])\n",
    "kNN_classifier.predict(p_x_int) # KNN算法预测结果为\"yes\""
   ],
   "metadata": {
    "collapsed": false,
    "pycharm": {
     "name": "#%%\n",
     "is_executing": false
    }
   }
  },
  {
   "cell_type": "code",
   "execution_count": 12,
   "outputs": [
    {
     "data": {
      "text/plain": "array(['yes'], dtype='<U8')"
     },
     "metadata": {},
     "output_type": "execute_result",
     "execution_count": 12
    }
   ],
   "source": [
    "clf = DecisionTreeClassifier()\n",
    "clf.fit(arr_data_int, arr_data[:, 0])\n",
    "clf.predict(p_x_int) # 决策树算法预测结果为\"yes\""
   ],
   "metadata": {
    "collapsed": false,
    "pycharm": {
     "name": "#%%\n",
     "is_executing": false
    }
   }
  }
 ],
 "metadata": {
  "kernelspec": {
   "display_name": "Python 3",
   "language": "python",
   "name": "python3"
  },
  "language_info": {
   "codemirror_mode": {
    "name": "ipython",
    "version": 2
   },
   "file_extension": ".py",
   "mimetype": "text/x-python",
   "name": "python",
   "nbconvert_exporter": "python",
   "pygments_lexer": "ipython2",
   "version": "2.7.6"
  },
  "pycharm": {
   "stem_cell": {
    "cell_type": "raw",
    "source": [],
    "metadata": {
     "collapsed": false
    }
   }
  }
 },
 "nbformat": 4,
 "nbformat_minor": 0
}