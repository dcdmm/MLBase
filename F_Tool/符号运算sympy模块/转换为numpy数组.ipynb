{
 "cells": [
  {
   "cell_type": "code",
   "execution_count": 21,
   "metadata": {
    "collapsed": true,
    "pycharm": {
     "is_executing": false
    }
   },
   "outputs": [
    {
     "data": {
      "text/plain": "Matrix([\n[3*x + 4*y + 8*z],\n[  2*x + y + 9*z]])",
      "text/latex": "$\\displaystyle \\left[\\begin{matrix}3 x + 4 y + 8 z\\\\2 x + y + 9 z\\end{matrix}\\right]$"
     },
     "metadata": {},
     "output_type": "execute_result",
     "execution_count": 21
    }
   ],
   "source": [
    "from sympy import  *\n",
    "import numpy as np\n",
    "\n",
    "x, y, z = symbols('x, y, z')\n",
    "\n",
    "a = Matrix([[3, 4, 8],\n",
    "            [2, 1, 9]])\n",
    "b = Matrix([x, y, z]) \n",
    "mul = a @ b # 矩阵乘法\n",
    "mul"
   ]
  },
  {
   "cell_type": "code",
   "execution_count": 22,
   "outputs": [
    {
     "data": {
      "text/plain": "[[[[3], [2]]], [[[4], [1]]], [[[8], [9]]]]",
      "text/latex": "$\\displaystyle \\left[\\begin{matrix}\\left[\\begin{matrix}3\\\\2\\end{matrix}\\right]\\\\\\left[\\begin{matrix}4\\\\1\\end{matrix}\\right]\\\\\\left[\\begin{matrix}8\\\\9\\end{matrix}\\right]\\end{matrix}\\right]$"
     },
     "metadata": {},
     "output_type": "execute_result",
     "execution_count": 22
    }
   ],
   "source": [
    "derivation = diff(mul, b) # 矩阵求导\n",
    "derivation"
   ],
   "metadata": {
    "collapsed": false,
    "pycharm": {
     "name": "#%%\n",
     "is_executing": false
    }
   }
  },
  {
   "cell_type": "code",
   "execution_count": 23,
   "outputs": [
    {
     "data": {
      "text/plain": "sympy.tensor.array.dense_ndim_array.MutableDenseNDimArray"
     },
     "metadata": {},
     "output_type": "execute_result",
     "execution_count": 23
    }
   ],
   "source": [
    "derivation = derivation[:, 0, :, 0] # 去除大小为1的维度\n",
    "type(derivation)"
   ],
   "metadata": {
    "collapsed": false,
    "pycharm": {
     "name": "#%%\n",
     "is_executing": false
    }
   }
  },
  {
   "cell_type": "code",
   "execution_count": 24,
   "outputs": [
    {
     "data": {
      "text/plain": "sympy.matrices.dense.MutableDenseMatrix"
     },
     "metadata": {},
     "output_type": "execute_result",
     "execution_count": 24
    }
   ],
   "source": [
    "# Converts MutableDenseNDimArray to Matrix. Can convert only 2-dim array, else will raise error\n",
    "derivation = derivation.tomatrix() # 先转换为Matrix\n",
    "type(derivation)"
   ],
   "metadata": {
    "collapsed": false,
    "pycharm": {
     "name": "#%%\n",
     "is_executing": false
    }
   }
  },
  {
   "cell_type": "code",
   "execution_count": 25,
   "outputs": [
    {
     "data": {
      "text/plain": "array([[3., 2.],\n       [4., 1.],\n       [8., 9.]], dtype=float32)"
     },
     "metadata": {},
     "output_type": "execute_result",
     "execution_count": 25
    }
   ],
   "source": [
    "matrix2numpy(derivation, dtype=np.float32) # 再转换为numpy数组"
   ],
   "metadata": {
    "collapsed": false,
    "pycharm": {
     "name": "#%%\n",
     "is_executing": false
    }
   }
  },
  {
   "cell_type": "code",
   "execution_count": 25,
   "outputs": [],
   "source": [
    "\n"
   ],
   "metadata": {
    "collapsed": false,
    "pycharm": {
     "name": "#%%\n",
     "is_executing": false
    }
   }
  }
 ],
 "metadata": {
  "kernelspec": {
   "display_name": "Python 3",
   "language": "python",
   "name": "python3"
  },
  "language_info": {
   "codemirror_mode": {
    "name": "ipython",
    "version": 2
   },
   "file_extension": ".py",
   "mimetype": "text/x-python",
   "name": "python",
   "nbconvert_exporter": "python",
   "pygments_lexer": "ipython2",
   "version": "2.7.6"
  },
  "pycharm": {
   "stem_cell": {
    "cell_type": "raw",
    "source": [],
    "metadata": {
     "collapsed": false
    }
   }
  }
 },
 "nbformat": 4,
 "nbformat_minor": 0
}