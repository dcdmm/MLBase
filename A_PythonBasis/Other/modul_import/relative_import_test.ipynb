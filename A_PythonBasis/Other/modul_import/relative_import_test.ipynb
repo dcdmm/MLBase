{
 "cells": [
  {
   "cell_type": "code",
   "execution_count": 1,
   "metadata": {
    "collapsed": true,
    "pycharm": {
     "name": "#%%\n"
    }
   },
   "outputs": [
    {
     "name": "stdout",
     "output_type": "stream",
     "text": [
      "__file__=C:\\Users\\dcdmm\\Music\\GitHubProjects\\MLNote\\A_PythonBasis\\Other\\modul_import\\dir_relative\\demos_0\\demo0.py | __name__=dir_relative.demos_0.demo0 | __package__=dir_relative.demos_0\n",
      "__file__=C:\\Users\\dcdmm\\Music\\GitHubProjects\\MLNote\\A_PythonBasis\\Other\\modul_import\\dir_relative\\config.py | __name__=dir_relative.config  | __package__=dir_relative        \n",
      "__file__=C:\\Users\\dcdmm\\Music\\GitHubProjects\\MLNote\\A_PythonBasis\\Other\\modul_import\\dir_relative\\demos_0\\demos_1\\demo1.py | __name__=dir_relative.demos_0.demos_1.demo1 | __package__=dir_relative.demos_0.demos_1\n",
      "__file__=C:\\Users\\dcdmm\\Music\\GitHubProjects\\MLNote\\A_PythonBasis\\Other\\modul_import\\dir_relative\\demo.py | __name__=dir_relative.demo    | __package__=dir_relative        \n",
      "The value of config.count is 5\n",
      "config.py!!!\n",
      "****************************************\n",
      "The value of config.count is 5\n",
      "config.py!!!\n",
      "****************************************\n",
      "The value of config.count is 5\n",
      "config.py!!!\n"
     ]
    }
   ],
   "source": [
    "from dir_relative.demos_0.demo0 import hello_demo0\n",
    "from dir_relative.demos_0.demos_1.demo1 import hello_demo1\n",
    "from dir_relative.demo import hello_demo\n",
    "\n",
    "# 项目relative_test中包含相对路径(./../...)导入的代码\n",
    "# 只能在与项目relative_test目录结构平级或更高的python文件中执行relative_test中包含相对路径(./../...)导入的代码\n",
    "hello_demo()\n",
    "print('****************************************')\n",
    "hello_demo0()\n",
    "print('****************************************')\n",
    "hello_demo1()"
   ]
  },
  {
   "cell_type": "code",
   "execution_count": 1,
   "outputs": [],
   "source": [],
   "metadata": {
    "collapsed": false,
    "pycharm": {
     "name": "#%%\n"
    }
   }
  }
 ],
 "metadata": {
  "kernelspec": {
   "display_name": "Python 3",
   "language": "python",
   "name": "python3"
  },
  "language_info": {
   "codemirror_mode": {
    "name": "ipython",
    "version": 2
   },
   "file_extension": ".py",
   "mimetype": "text/x-python",
   "name": "python",
   "nbconvert_exporter": "python",
   "pygments_lexer": "ipython2",
   "version": "2.7.6"
  }
 },
 "nbformat": 4,
 "nbformat_minor": 0
}