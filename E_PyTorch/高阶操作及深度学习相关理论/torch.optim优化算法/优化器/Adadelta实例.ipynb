{
 "cells": [
  {
   "cell_type": "code",
   "execution_count": 1,
   "outputs": [],
   "source": [
    "import torch.nn as nn\n",
    "import torch.optim as optim\n",
    "import numpy as np\n",
    "import torch.utils.data as Data\n",
    "import torch\n",
    "import matplotlib.pyplot as plt"
   ],
   "metadata": {
    "collapsed": false,
    "pycharm": {
     "name": "#%%\n"
    }
   }
  },
  {
   "cell_type": "code",
   "execution_count": 2,
   "outputs": [],
   "source": [
    "# 手写数字训练数据集\n",
    "mnist = np.load(\"../../../../Other/datasets/NumPy/mnist.npz\")\n",
    "X_train, y_train, X_val, y_val = torch.unsqueeze(torch.tensor(mnist['x_train']), 1).to(dtype=torch.float32),\\\n",
    "                                 torch.tensor(mnist['y_train']).to(dtype=torch.long),\\\n",
    "                                 torch.unsqueeze(torch.tensor(mnist['x_test']), 1).to(dtype=torch.float32),\\\n",
    "                                 torch.tensor(mnist['y_test']).to(dtype=torch.long)\n",
    "X_train, X_val = X_train / 255.0, X_val / 255.0"
   ],
   "metadata": {
    "collapsed": false,
    "pycharm": {
     "name": "#%%\n"
    }
   }
  },
  {
   "cell_type": "code",
   "execution_count": 3,
   "outputs": [],
   "source": [
    "batch_size = 200\n",
    "train_data = Data.TensorDataset(X_train, y_train)\n",
    "train_loader = Data.DataLoader(dataset=train_data,\n",
    "                               batch_size=batch_size,\n",
    "                               shuffle=True)\n",
    "val_data = Data.TensorDataset(X_val, y_val)\n",
    "val_loader = Data.DataLoader(dataset=val_data, batch_size=batch_size)\n"
   ],
   "metadata": {
    "collapsed": false,
    "pycharm": {
     "name": "#%%\n"
    }
   }
  },
  {
   "cell_type": "code",
   "execution_count": 4,
   "outputs": [],
   "source": [
    "class LeNet(nn.Module):\n",
    "    def __init__(self):\n",
    "        super(LeNet, self).__init__()\n",
    "        self.featrues = nn.Sequential(  # 内部实现了forward函数;各模块顺序执行\n",
    "            nn.Conv2d(1, 6, 3),\n",
    "            nn.ReLU(),\n",
    "            nn.MaxPool2d(2, 2),\n",
    "            nn.Conv2d(6, 16, 3),\n",
    "            nn.ReLU(),\n",
    "            nn.MaxPool2d(2, 2)\n",
    "        )\n",
    "        self.classifier = nn.Sequential(\n",
    "            nn.Linear(400, 120),\n",
    "            nn.ReLU(),\n",
    "            nn.Linear(120, 84),\n",
    "            nn.ReLU(),\n",
    "            nn.Linear(84, 10),  # 10分类问题\n",
    "        )\n",
    "\n",
    "    def forward(self, x):\n",
    "        x = self.featrues(x)\n",
    "        x = x.reshape(x.size()[0], -1)\n",
    "        x = self.classifier(x)\n",
    "        return x\n"
   ],
   "metadata": {
    "collapsed": false,
    "pycharm": {
     "name": "#%%\n"
    }
   }
  },
  {
   "cell_type": "code",
   "execution_count": 5,
   "outputs": [],
   "source": [
    "device = torch.device(\"cuda\" if torch.cuda.is_available() else \"cpu\")\n",
    "criteon = nn.CrossEntropyLoss()  # 定义损失函数为交叉熵\n",
    "net = LeNet()\n",
    "lenet = net.to(device)  # 模型设备切换必须在优化器定义前执行\n",
    "\n",
    "# Adadelta优化器\n",
    "optimizer = optim.Adadelta(net.parameters(),\n",
    "                           rho=0.9,  # 衰减速率\\rho\n",
    "                           lr=0.99,  # 缩放系数\\epsilon(default: 1.0)\n",
    "                           eps=1e-6)  # 分母中的小常数\\delta"
   ],
   "metadata": {
    "collapsed": false,
    "pycharm": {
     "name": "#%%\n"
    }
   }
  },
  {
   "cell_type": "code",
   "execution_count": 7,
   "outputs": [],
   "source": [
    "from J_Template.assembly.模型训练与评估_torch.train_evaluate import Train_Evaluate\n",
    "\n",
    "t_and_v = Train_Evaluate(model=lenet, optimizer=optimizer, criterion=criteon, epochs=10)"
   ],
   "metadata": {
    "collapsed": false,
    "pycharm": {
     "name": "#%%\n"
    }
   }
  },
  {
   "cell_type": "code",
   "execution_count": 8,
   "outputs": [
    {
     "name": "stdout",
     "output_type": "stream",
     "text": [
      "Train Epoch: 0  [0    /60000 (0  %)]\tLoss: 2.301309\n",
      "Train Epoch: 0  [4000 /60000 (7  %)]\tLoss: 1.916254\n",
      "Train Epoch: 0  [8000 /60000 (13 %)]\tLoss: 1.168436\n",
      "Train Epoch: 0  [12000/60000 (20 %)]\tLoss: 0.578160\n",
      "Train Epoch: 0  [16000/60000 (27 %)]\tLoss: 0.336718\n",
      "Train Epoch: 0  [20000/60000 (33 %)]\tLoss: 0.260523\n",
      "Train Epoch: 0  [24000/60000 (40 %)]\tLoss: 0.295310\n",
      "Train Epoch: 0  [28000/60000 (47 %)]\tLoss: 0.173445\n",
      "Train Epoch: 0  [32000/60000 (53 %)]\tLoss: 0.313440\n",
      "Train Epoch: 0  [36000/60000 (60 %)]\tLoss: 0.211300\n",
      "Train Epoch: 0  [40000/60000 (67 %)]\tLoss: 0.094547\n",
      "Train Epoch: 0  [44000/60000 (73 %)]\tLoss: 0.130910\n",
      "Train Epoch: 0  [48000/60000 (80 %)]\tLoss: 0.112302\n",
      "Train Epoch: 0  [52000/60000 (87 %)]\tLoss: 0.096920\n",
      "Train Epoch: 0  [56000/60000 (93 %)]\tLoss: 0.179988\n",
      "Train Epoch: 0  [60000/60000 (100%)]\tLoss: 0.158790\n",
      "----------------------------------------------------------------------------------------------------\n",
      "Train Epoch: 1  [0    /60000 (0  %)]\tLoss: 0.087054\n",
      "Train Epoch: 1  [4000 /60000 (7  %)]\tLoss: 0.206117\n",
      "Train Epoch: 1  [8000 /60000 (13 %)]\tLoss: 0.080715\n",
      "Train Epoch: 1  [12000/60000 (20 %)]\tLoss: 0.066813\n",
      "Train Epoch: 1  [16000/60000 (27 %)]\tLoss: 0.160213\n",
      "Train Epoch: 1  [20000/60000 (33 %)]\tLoss: 0.199327\n",
      "Train Epoch: 1  [24000/60000 (40 %)]\tLoss: 0.086850\n",
      "Train Epoch: 1  [28000/60000 (47 %)]\tLoss: 0.085642\n",
      "Train Epoch: 1  [32000/60000 (53 %)]\tLoss: 0.097424\n",
      "Train Epoch: 1  [36000/60000 (60 %)]\tLoss: 0.056767\n",
      "Train Epoch: 1  [40000/60000 (67 %)]\tLoss: 0.064572\n",
      "Train Epoch: 1  [44000/60000 (73 %)]\tLoss: 0.145149\n",
      "Train Epoch: 1  [48000/60000 (80 %)]\tLoss: 0.063994\n",
      "Train Epoch: 1  [52000/60000 (87 %)]\tLoss: 0.146575\n",
      "Train Epoch: 1  [56000/60000 (93 %)]\tLoss: 0.054388\n",
      "Train Epoch: 1  [60000/60000 (100%)]\tLoss: 0.049420\n",
      "----------------------------------------------------------------------------------------------------\n",
      "Train Epoch: 2  [0    /60000 (0  %)]\tLoss: 0.060632\n",
      "Train Epoch: 2  [4000 /60000 (7  %)]\tLoss: 0.054958\n",
      "Train Epoch: 2  [8000 /60000 (13 %)]\tLoss: 0.071023\n",
      "Train Epoch: 2  [12000/60000 (20 %)]\tLoss: 0.112128\n",
      "Train Epoch: 2  [16000/60000 (27 %)]\tLoss: 0.027065\n",
      "Train Epoch: 2  [20000/60000 (33 %)]\tLoss: 0.084665\n",
      "Train Epoch: 2  [24000/60000 (40 %)]\tLoss: 0.045362\n",
      "Train Epoch: 2  [28000/60000 (47 %)]\tLoss: 0.161446\n",
      "Train Epoch: 2  [32000/60000 (53 %)]\tLoss: 0.070655\n",
      "Train Epoch: 2  [36000/60000 (60 %)]\tLoss: 0.059119\n",
      "Train Epoch: 2  [40000/60000 (67 %)]\tLoss: 0.125101\n",
      "Train Epoch: 2  [44000/60000 (73 %)]\tLoss: 0.034682\n",
      "Train Epoch: 2  [48000/60000 (80 %)]\tLoss: 0.025119\n",
      "Train Epoch: 2  [52000/60000 (87 %)]\tLoss: 0.033226\n",
      "Train Epoch: 2  [56000/60000 (93 %)]\tLoss: 0.098846\n",
      "Train Epoch: 2  [60000/60000 (100%)]\tLoss: 0.067026\n",
      "----------------------------------------------------------------------------------------------------\n",
      "Train Epoch: 3  [0    /60000 (0  %)]\tLoss: 0.034186\n",
      "Train Epoch: 3  [4000 /60000 (7  %)]\tLoss: 0.030798\n",
      "Train Epoch: 3  [8000 /60000 (13 %)]\tLoss: 0.042902\n",
      "Train Epoch: 3  [12000/60000 (20 %)]\tLoss: 0.046131\n",
      "Train Epoch: 3  [16000/60000 (27 %)]\tLoss: 0.089252\n",
      "Train Epoch: 3  [20000/60000 (33 %)]\tLoss: 0.043266\n",
      "Train Epoch: 3  [24000/60000 (40 %)]\tLoss: 0.052369\n",
      "Train Epoch: 3  [28000/60000 (47 %)]\tLoss: 0.034868\n",
      "Train Epoch: 3  [32000/60000 (53 %)]\tLoss: 0.021262\n",
      "Train Epoch: 3  [36000/60000 (60 %)]\tLoss: 0.083627\n",
      "Train Epoch: 3  [40000/60000 (67 %)]\tLoss: 0.067090\n",
      "Train Epoch: 3  [44000/60000 (73 %)]\tLoss: 0.081929\n",
      "Train Epoch: 3  [48000/60000 (80 %)]\tLoss: 0.054129\n",
      "Train Epoch: 3  [52000/60000 (87 %)]\tLoss: 0.049610\n",
      "Train Epoch: 3  [56000/60000 (93 %)]\tLoss: 0.014529\n",
      "Train Epoch: 3  [60000/60000 (100%)]\tLoss: 0.023717\n",
      "----------------------------------------------------------------------------------------------------\n",
      "Train Epoch: 4  [0    /60000 (0  %)]\tLoss: 0.005996\n",
      "Train Epoch: 4  [4000 /60000 (7  %)]\tLoss: 0.067118\n",
      "Train Epoch: 4  [8000 /60000 (13 %)]\tLoss: 0.022838\n",
      "Train Epoch: 4  [12000/60000 (20 %)]\tLoss: 0.008742\n",
      "Train Epoch: 4  [16000/60000 (27 %)]\tLoss: 0.008941\n",
      "Train Epoch: 4  [20000/60000 (33 %)]\tLoss: 0.063931\n",
      "Train Epoch: 4  [24000/60000 (40 %)]\tLoss: 0.064686\n",
      "Train Epoch: 4  [28000/60000 (47 %)]\tLoss: 0.027378\n",
      "Train Epoch: 4  [32000/60000 (53 %)]\tLoss: 0.117718\n",
      "Train Epoch: 4  [36000/60000 (60 %)]\tLoss: 0.052875\n",
      "Train Epoch: 4  [40000/60000 (67 %)]\tLoss: 0.046902\n",
      "Train Epoch: 4  [44000/60000 (73 %)]\tLoss: 0.050696\n",
      "Train Epoch: 4  [48000/60000 (80 %)]\tLoss: 0.008704\n",
      "Train Epoch: 4  [52000/60000 (87 %)]\tLoss: 0.049640\n",
      "Train Epoch: 4  [56000/60000 (93 %)]\tLoss: 0.023465\n",
      "Train Epoch: 4  [60000/60000 (100%)]\tLoss: 0.027796\n",
      "----------------------------------------------------------------------------------------------------\n",
      "Train Epoch: 5  [0    /60000 (0  %)]\tLoss: 0.006106\n",
      "Train Epoch: 5  [4000 /60000 (7  %)]\tLoss: 0.009019\n",
      "Train Epoch: 5  [8000 /60000 (13 %)]\tLoss: 0.014184\n",
      "Train Epoch: 5  [12000/60000 (20 %)]\tLoss: 0.031690\n",
      "Train Epoch: 5  [16000/60000 (27 %)]\tLoss: 0.017040\n",
      "Train Epoch: 5  [20000/60000 (33 %)]\tLoss: 0.021113\n",
      "Train Epoch: 5  [24000/60000 (40 %)]\tLoss: 0.047863\n",
      "Train Epoch: 5  [28000/60000 (47 %)]\tLoss: 0.022746\n",
      "Train Epoch: 5  [32000/60000 (53 %)]\tLoss: 0.009954\n",
      "Train Epoch: 5  [36000/60000 (60 %)]\tLoss: 0.113285\n",
      "Train Epoch: 5  [40000/60000 (67 %)]\tLoss: 0.075617\n",
      "Train Epoch: 5  [44000/60000 (73 %)]\tLoss: 0.013039\n",
      "Train Epoch: 5  [48000/60000 (80 %)]\tLoss: 0.011238\n",
      "Train Epoch: 5  [52000/60000 (87 %)]\tLoss: 0.035408\n",
      "Train Epoch: 5  [56000/60000 (93 %)]\tLoss: 0.027396\n",
      "Train Epoch: 5  [60000/60000 (100%)]\tLoss: 0.067338\n",
      "----------------------------------------------------------------------------------------------------\n",
      "Train Epoch: 6  [0    /60000 (0  %)]\tLoss: 0.014124\n",
      "Train Epoch: 6  [4000 /60000 (7  %)]\tLoss: 0.004335\n",
      "Train Epoch: 6  [8000 /60000 (13 %)]\tLoss: 0.012353\n",
      "Train Epoch: 6  [12000/60000 (20 %)]\tLoss: 0.029078\n",
      "Train Epoch: 6  [16000/60000 (27 %)]\tLoss: 0.014347\n",
      "Train Epoch: 6  [20000/60000 (33 %)]\tLoss: 0.030108\n",
      "Train Epoch: 6  [24000/60000 (40 %)]\tLoss: 0.031276\n",
      "Train Epoch: 6  [28000/60000 (47 %)]\tLoss: 0.030518\n",
      "Train Epoch: 6  [32000/60000 (53 %)]\tLoss: 0.001254\n",
      "Train Epoch: 6  [36000/60000 (60 %)]\tLoss: 0.015964\n",
      "Train Epoch: 6  [40000/60000 (67 %)]\tLoss: 0.019333\n",
      "Train Epoch: 6  [44000/60000 (73 %)]\tLoss: 0.004669\n",
      "Train Epoch: 6  [48000/60000 (80 %)]\tLoss: 0.034572\n",
      "Train Epoch: 6  [52000/60000 (87 %)]\tLoss: 0.011471\n",
      "Train Epoch: 6  [56000/60000 (93 %)]\tLoss: 0.055960\n",
      "Train Epoch: 6  [60000/60000 (100%)]\tLoss: 0.007155\n",
      "----------------------------------------------------------------------------------------------------\n",
      "Train Epoch: 7  [0    /60000 (0  %)]\tLoss: 0.012075\n",
      "Train Epoch: 7  [4000 /60000 (7  %)]\tLoss: 0.003073\n",
      "Train Epoch: 7  [8000 /60000 (13 %)]\tLoss: 0.020911\n",
      "Train Epoch: 7  [12000/60000 (20 %)]\tLoss: 0.021108\n",
      "Train Epoch: 7  [16000/60000 (27 %)]\tLoss: 0.019195\n",
      "Train Epoch: 7  [20000/60000 (33 %)]\tLoss: 0.026798\n",
      "Train Epoch: 7  [24000/60000 (40 %)]\tLoss: 0.004647\n",
      "Train Epoch: 7  [28000/60000 (47 %)]\tLoss: 0.005145\n",
      "Train Epoch: 7  [32000/60000 (53 %)]\tLoss: 0.010919\n",
      "Train Epoch: 7  [36000/60000 (60 %)]\tLoss: 0.011141\n",
      "Train Epoch: 7  [40000/60000 (67 %)]\tLoss: 0.010760\n",
      "Train Epoch: 7  [44000/60000 (73 %)]\tLoss: 0.021616\n",
      "Train Epoch: 7  [48000/60000 (80 %)]\tLoss: 0.004817\n",
      "Train Epoch: 7  [52000/60000 (87 %)]\tLoss: 0.017311\n",
      "Train Epoch: 7  [56000/60000 (93 %)]\tLoss: 0.034480\n",
      "Train Epoch: 7  [60000/60000 (100%)]\tLoss: 0.013509\n",
      "----------------------------------------------------------------------------------------------------\n",
      "Train Epoch: 8  [0    /60000 (0  %)]\tLoss: 0.014402\n",
      "Train Epoch: 8  [4000 /60000 (7  %)]\tLoss: 0.020990\n",
      "Train Epoch: 8  [8000 /60000 (13 %)]\tLoss: 0.006840\n",
      "Train Epoch: 8  [12000/60000 (20 %)]\tLoss: 0.016069\n",
      "Train Epoch: 8  [16000/60000 (27 %)]\tLoss: 0.011155\n",
      "Train Epoch: 8  [20000/60000 (33 %)]\tLoss: 0.048214\n",
      "Train Epoch: 8  [24000/60000 (40 %)]\tLoss: 0.019220\n",
      "Train Epoch: 8  [28000/60000 (47 %)]\tLoss: 0.014169\n",
      "Train Epoch: 8  [32000/60000 (53 %)]\tLoss: 0.001989\n",
      "Train Epoch: 8  [36000/60000 (60 %)]\tLoss: 0.003526\n",
      "Train Epoch: 8  [40000/60000 (67 %)]\tLoss: 0.014667\n",
      "Train Epoch: 8  [44000/60000 (73 %)]\tLoss: 0.008130\n",
      "Train Epoch: 8  [48000/60000 (80 %)]\tLoss: 0.008603\n",
      "Train Epoch: 8  [52000/60000 (87 %)]\tLoss: 0.027609\n",
      "Train Epoch: 8  [56000/60000 (93 %)]\tLoss: 0.026880\n",
      "Train Epoch: 8  [60000/60000 (100%)]\tLoss: 0.010785\n",
      "----------------------------------------------------------------------------------------------------\n",
      "Train Epoch: 9  [0    /60000 (0  %)]\tLoss: 0.026239\n",
      "Train Epoch: 9  [4000 /60000 (7  %)]\tLoss: 0.006918\n",
      "Train Epoch: 9  [8000 /60000 (13 %)]\tLoss: 0.005938\n",
      "Train Epoch: 9  [12000/60000 (20 %)]\tLoss: 0.003779\n",
      "Train Epoch: 9  [16000/60000 (27 %)]\tLoss: 0.003919\n",
      "Train Epoch: 9  [20000/60000 (33 %)]\tLoss: 0.005961\n",
      "Train Epoch: 9  [24000/60000 (40 %)]\tLoss: 0.012420\n",
      "Train Epoch: 9  [28000/60000 (47 %)]\tLoss: 0.007248\n",
      "Train Epoch: 9  [32000/60000 (53 %)]\tLoss: 0.016234\n",
      "Train Epoch: 9  [36000/60000 (60 %)]\tLoss: 0.002944\n",
      "Train Epoch: 9  [40000/60000 (67 %)]\tLoss: 0.002085\n",
      "Train Epoch: 9  [44000/60000 (73 %)]\tLoss: 0.003725\n",
      "Train Epoch: 9  [48000/60000 (80 %)]\tLoss: 0.002601\n",
      "Train Epoch: 9  [52000/60000 (87 %)]\tLoss: 0.006415\n",
      "Train Epoch: 9  [56000/60000 (93 %)]\tLoss: 0.027424\n",
      "Train Epoch: 9  [60000/60000 (100%)]\tLoss: 0.002318\n",
      "----------------------------------------------------------------------------------------------------\n",
      "{'train_loss': [0.11542216688394547, 0.06643353402614594, 0.04580286890268326, 0.03186456114053726, 0.024648329243063927, 0.025283662602305412, 0.01562486682087183, 0.017131663858890533, 0.013662182725965977, 0.01015971228480339], 'val_loss': [0.10101883113384247, 0.067303866147995, 0.05034685507416725, 0.03877291828393936, 0.03480285033583641, 0.03752073273062706, 0.03181900084018707, 0.03572578728199005, 0.03814849257469177, 0.0408257395029068]}\n"
     ]
    }
   ],
   "source": [
    "metric_reslut = t_and_v.train_eval(train_loader=train_loader, valid_loader=val_loader)\n",
    "print(metric_reslut)  # 每一轮验证数据集的损失值"
   ],
   "metadata": {
    "collapsed": false,
    "pycharm": {
     "name": "#%%\n"
    }
   }
  },
  {
   "cell_type": "code",
   "execution_count": 9,
   "outputs": [
    {
     "data": {
      "text/plain": "<Figure size 432x288 with 1 Axes>",
      "image/png": "[encoded data removed]"
     },
     "metadata": {
      "needs_background": "light"
     },
     "output_type": "display_data"
    }
   ],
   "source": [
    "plt.plot(metric_reslut['val_loss'], label=\"val\")\n",
    "plt.plot(metric_reslut['train_loss'], label='train')\n",
    "plt.legend()\n",
    "plt.show()\n"
   ],
   "metadata": {
    "collapsed": false,
    "pycharm": {
     "name": "#%%\n"
    }
   }
  },
  {
   "cell_type": "code",
   "execution_count": null,
   "outputs": [],
   "source": [],
   "metadata": {
    "collapsed": false,
    "pycharm": {
     "name": "#%%\n"
    }
   }
  }
 ],
 "metadata": {
  "kernelspec": {
   "display_name": "Python 3",
   "language": "python",
   "name": "python3"
  },
  "language_info": {
   "codemirror_mode": {
    "name": "ipython",
    "version": 2
   },
   "file_extension": ".py",
   "mimetype": "text/x-python",
   "name": "python",
   "nbconvert_exporter": "python",
   "pygments_lexer": "ipython2",
   "version": "2.7.6"
  }
 },
 "nbformat": 4,
 "nbformat_minor": 0
}