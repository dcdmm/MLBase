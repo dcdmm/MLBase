{
 "cells": [
  {
   "cell_type": "code",
   "execution_count": 11,
   "outputs": [],
   "source": [
    "import torch\n",
    "import numpy as np"
   ],
   "metadata": {
    "collapsed": false,
    "pycharm": {
     "name": "#%%\n"
    }
   }
  },
  {
   "cell_type": "markdown",
   "source": [
    "### 参考ndarray的储存结构.ipynb\n",
    "### 参考array的修改与共享内存.ipynb"
   ],
   "metadata": {
    "collapsed": false,
    "pycharm": {
     "name": "#%% md\n"
    }
   }
  },
  {
   "cell_type": "code",
   "execution_count": 12,
   "outputs": [
    {
     "name": "stdout",
     "output_type": "stream",
     "text": [
      "2270094182464\n",
      "True\n",
      "2270094182464\n",
      "tensor([  1,   2,   3,   4, 105,   6,   7,   8])\n"
     ]
    }
   ],
   "source": [
    "tor = torch.tensor([1, 2, 3, 4, 5, 6, 7, 8])\n",
    "print(id(tor))\n",
    "\n",
    "a = tor[4]  # 注意:此处a为标量tensor,故a为可变数据类型\n",
    "print(np.shares_memory(a, tor))  # a与arr共享数据的物理地址\n",
    "a += 100  # 可变的类型的追加操作\n",
    "\n",
    "print(id(tor))  # arr指向的地址不变\n",
    "print(tor)  # 由于共享数据的物理地址,故arr指向内存的值也发生相应的改变"
   ],
   "metadata": {
    "collapsed": false,
    "pycharm": {
     "name": "#%%\n"
    }
   }
  },
  {
   "cell_type": "code",
   "execution_count": 13,
   "outputs": [
    {
     "name": "stdout",
     "output_type": "stream",
     "text": [
      "tensor([ 0,  1,  2,  3,  4,  5,  6,  7,  8,  9, 10, 11, 12, 13, 14, 15, 16, 17,\n",
      "        18, 19, 20, 21, 22, 23, 24, 25, 26, 27, 28, 29])\n",
      "tensor([[ 0,  1,  2,  3,  4,  5],\n",
      "        [ 6,  7,  8,  9, 10, 11],\n",
      "        [12, 13, 14, 15, 16, 17],\n",
      "        [18, 19, 20, 21, 22, 23],\n",
      "        [24, 25, 26, 27, 28, 29]])\n",
      "\n",
      "2270094184320\n",
      "2270094184192\n",
      "\n",
      "True\n",
      "\n",
      "2270094184320\n",
      "tensor([1000000,       1,       2,       3,       4,       5,       6,       7,\n",
      "              8,       9,      10,      11,      12,      13,      14,      15,\n",
      "             16,      17,      18,      19,      20,      21,      22,      23,\n",
      "             24,      25,      26,      27,      28,      29])\n",
      "tensor([[1000000,       1,       2,       3,       4,       5],\n",
      "        [      6,       7,       8,       9,      10,      11],\n",
      "        [     12,      13,      14,      15,      16,      17],\n",
      "        [     18,      19,      20,      21,      22,      23],\n",
      "        [     24,      25,      26,      27,      28,      29]])\n",
      "\n",
      "tensor([[ 1000000,        1,        2,        3,        4,        5],\n",
      "        [       6,        7,        8,        9,       10,       11],\n",
      "        [      12,       13,       14,       15,       16,       17],\n",
      "        [      18,       19,       20,       21,       22,       23],\n",
      "        [      24,       25,       26,       27,       28, 99999999]])\n",
      "tensor([ 1000000,        1,        2,        3,        4,        5,        6,\n",
      "               7,        8,        9,       10,       11,       12,       13,\n",
      "              14,       15,       16,       17,       18,       19,       20,\n",
      "              21,       22,       23,       24,       25,       26,       27,\n",
      "              28, 99999999])\n"
     ]
    }
   ],
   "source": [
    "a = torch.arange(30)\n",
    "b = a.reshape(5, 6)\n",
    "\n",
    "print(a)\n",
    "print(b, end='\\n\\n')\n",
    "\n",
    "print(id(a))\n",
    "print(id(b), end='\\n\\n')  # a,b指向的地址不同\n",
    "\n",
    "# ★★★★★★★★★★★★★★★shape操作共享内存\n",
    "print(np.shares_memory(a, b), end='\\n\\n')  # b与a共享数据的物理地址\n",
    "\n",
    "a[0] = 1000000  # 修改a\n",
    "print(id(a))\n",
    "print(a)  # a指向的地址不变\n",
    "print(b, end='\\n\\n')  # 由于共享数据的物理地址,故b指向内存的值相应位置也发生改变\n",
    "\n",
    "b[-1][-1] = 99999999  # 修改b\n",
    "\n",
    "print(b)\n",
    "print(a)  # 同理"
   ],
   "metadata": {
    "collapsed": false,
    "pycharm": {
     "name": "#%%\n"
    }
   }
  },
  {
   "cell_type": "code",
   "execution_count": 14,
   "outputs": [
    {
     "data": {
      "text/plain": "True"
     },
     "execution_count": 14,
     "metadata": {},
     "output_type": "execute_result"
    }
   ],
   "source": [
    "c = a.detach()\n",
    "\n",
    "# ★★★★★★★★★★★★★★★detach操作共享内存\n",
    "np.shares_memory(b, c)"
   ],
   "metadata": {
    "collapsed": false,
    "pycharm": {
     "name": "#%%\n"
    }
   }
  },
  {
   "cell_type": "code",
   "execution_count": 15,
   "outputs": [
    {
     "data": {
      "text/plain": "False"
     },
     "execution_count": 15,
     "metadata": {},
     "output_type": "execute_result"
    }
   ],
   "source": [
    "d = a.clone()\n",
    "\n",
    "# ★★★★★★★★★★★★★★★clone操作不共享内存★★★★\n",
    "np.shares_memory(b, d)"
   ],
   "metadata": {
    "collapsed": false,
    "pycharm": {
     "name": "#%%\n"
    }
   }
  },
  {
   "cell_type": "code",
   "execution_count": 16,
   "outputs": [
    {
     "data": {
      "text/plain": "True"
     },
     "execution_count": 16,
     "metadata": {},
     "output_type": "execute_result"
    }
   ],
   "source": [
    "e = a.flatten()\n",
    "\n",
    "# ★★★★★★★★★★★★★★★flatten操作共享内存\n",
    "np.shares_memory(b, e)"
   ],
   "metadata": {
    "collapsed": false,
    "pycharm": {
     "name": "#%%\n"
    }
   }
  },
  {
   "cell_type": "code",
   "execution_count": 17,
   "outputs": [
    {
     "data": {
      "text/plain": "True"
     },
     "execution_count": 17,
     "metadata": {},
     "output_type": "execute_result"
    }
   ],
   "source": [
    "f = b.transpose(0, 1)\n",
    "\n",
    "# ★★★★★★★★★★★★★★★transpose操作共享内存\n",
    "np.shares_memory(b, f)"
   ],
   "metadata": {
    "collapsed": false,
    "pycharm": {
     "name": "#%%\n"
    }
   }
  },
  {
   "cell_type": "code",
   "execution_count": 18,
   "outputs": [
    {
     "data": {
      "text/plain": "True"
     },
     "execution_count": 18,
     "metadata": {},
     "output_type": "execute_result"
    }
   ],
   "source": [
    "g = b.permute(1, 0)  # b.T同理\n",
    "\n",
    "# ★★★★★★★★★★★★★★★permute操作共享内存\n",
    "np.shares_memory(b, g)"
   ],
   "metadata": {
    "collapsed": false,
    "pycharm": {
     "name": "#%%\n"
    }
   }
  },
  {
   "cell_type": "code",
   "execution_count": 19,
   "outputs": [
    {
     "data": {
      "text/plain": "True"
     },
     "execution_count": 19,
     "metadata": {},
     "output_type": "execute_result"
    }
   ],
   "source": [
    "h = torch.unsqueeze(b, 0)\n",
    "\n",
    "# ★★★★★★★★★★★★★★★unsqueeze操作共享内存\n",
    "np.shares_memory(b, h)"
   ],
   "metadata": {
    "collapsed": false,
    "pycharm": {
     "name": "#%%\n"
    }
   }
  },
  {
   "cell_type": "code",
   "execution_count": 20,
   "outputs": [
    {
     "data": {
      "text/plain": "True"
     },
     "execution_count": 20,
     "metadata": {},
     "output_type": "execute_result"
    }
   ],
   "source": [
    "j = torch.squeeze(h)\n",
    "\n",
    "# ★★★★★★★★★★★★★★★squeeze操作共享内存\n",
    "np.shares_memory(h, j)\n",
    "\n",
    "\n"
   ],
   "metadata": {
    "collapsed": false,
    "pycharm": {
     "name": "#%%\n"
    }
   }
  }
 ],
 "metadata": {
  "kernelspec": {
   "display_name": "Python 3",
   "language": "python",
   "name": "python3"
  },
  "language_info": {
   "codemirror_mode": {
    "name": "ipython",
    "version": 2
   },
   "file_extension": ".py",
   "mimetype": "text/x-python",
   "name": "python",
   "nbconvert_exporter": "python",
   "pygments_lexer": "ipython2",
   "version": "2.7.6"
  }
 },
 "nbformat": 4,
 "nbformat_minor": 0
}