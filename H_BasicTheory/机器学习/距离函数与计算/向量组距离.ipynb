{
 "cells": [
  {
   "cell_type": "code",
   "execution_count": 32,
   "metadata": {
    "collapsed": true
   },
   "outputs": [],
   "source": [
    "import numpy as np\n",
    "from sklearn.metrics import pairwise_distances\n",
    "\n",
    "X = np.array([[2, 3],\n",
    "              [3, 5],\n",
    "              [5, 8]])\n",
    "Y = np.array([[1, 0],\n",
    "              [2, 1]])"
   ]
  },
  {
   "cell_type": "code",
   "execution_count": 33,
   "outputs": [
    {
     "data": {
      "text/plain": "array([[0.        , 2.23606798, 5.83095189],\n       [2.23606798, 0.        , 3.60555128],\n       [5.83095189, 3.60555128, 0.        ]])"
     },
     "execution_count": 33,
     "metadata": {},
     "output_type": "execute_result"
    }
   ],
   "source": [
    "# 省略Y,则计算X各行向量之间的距离\n",
    "pairwise_distances(X)  # 默认metric='euclidean'(欧式距离)"
   ],
   "metadata": {
    "collapsed": false,
    "pycharm": {
     "name": "#%%\n"
    }
   }
  },
  {
   "cell_type": "code",
   "execution_count": 34,
   "outputs": [
    {
     "data": {
      "text/plain": "array([[3.16227766, 2.        ],\n       [5.38516481, 4.12310563],\n       [8.94427191, 7.61577311]])"
     },
     "execution_count": 34,
     "metadata": {},
     "output_type": "execute_result"
    }
   ],
   "source": [
    "# 计算X,Y各行向量之间的距离\n",
    "pairwise_distances(X, Y, metric='l2')  # 欧式距离"
   ],
   "metadata": {
    "collapsed": false,
    "pycharm": {
     "name": "#%%\n"
    }
   }
  },
  {
   "cell_type": "markdown",
   "source": [
    "计算步骤如下:    \n",
    "X = [x1, x2, x3]   \n",
    "y= [y1, y2]    \n",
    "pairwise_distances(X, Y, metric='l2') =   \n",
    "[(x1, y1), (x1, y2)]    \n",
    "[(x2, y1), (x2, y2)]   \n",
    "[(x3, y1), (x3, y2)]  "
   ],
   "metadata": {
    "collapsed": false
   }
  },
  {
   "cell_type": "code",
   "execution_count": 35,
   "outputs": [
    {
     "data": {
      "text/plain": "array([[ 4.,  2.],\n       [ 7.,  5.],\n       [12., 10.]])"
     },
     "execution_count": 35,
     "metadata": {},
     "output_type": "execute_result"
    }
   ],
   "source": [
    "pairwise_distances(X, Y, metric='manhattan')  # 曼哈顿距离,等价于metric='l1'"
   ],
   "metadata": {
    "collapsed": false,
    "pycharm": {
     "name": "#%%\n"
    }
   }
  },
  {
   "cell_type": "code",
   "execution_count": 36,
   "outputs": [
    {
     "data": {
      "text/plain": "array([[0.        , 0.00113186, 0.00043225],\n       [0.00113186, 0.        , 0.00016525],\n       [0.00043225, 0.00016525, 0.        ]])"
     },
     "execution_count": 36,
     "metadata": {},
     "output_type": "execute_result"
    }
   ],
   "source": [
    "pairwise_distances(X, metric='cosine')  # 余弦距离"
   ],
   "metadata": {
    "collapsed": false,
    "pycharm": {
     "name": "#%%\n"
    }
   }
  }
 ],
 "metadata": {
  "kernelspec": {
   "display_name": "Python 3",
   "language": "python",
   "name": "python3"
  },
  "language_info": {
   "codemirror_mode": {
    "name": "ipython",
    "version": 2
   },
   "file_extension": ".py",
   "mimetype": "text/x-python",
   "name": "python",
   "nbconvert_exporter": "python",
   "pygments_lexer": "ipython2",
   "version": "2.7.6"
  }
 },
 "nbformat": 4,
 "nbformat_minor": 0
}