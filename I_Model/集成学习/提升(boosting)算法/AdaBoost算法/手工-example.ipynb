{
 "cells": [
  {
   "cell_type": "code",
   "execution_count": 244,
   "metadata": {
    "pycharm": {
     "is_executing": false
    }
   },
   "outputs": [],
   "source": [
    "import numpy as np\n",
    "import pandas as pd\n",
    "from sklearn.datasets import load_iris\n",
    "from sklearn.model_selection  import train_test_split\n",
    "import matplotlib.pyplot as plt"
   ]
  },
  {
   "cell_type": "code",
   "execution_count": 245,
   "metadata": {
    "pycharm": {
     "is_executing": false,
     "name": "#%%\n"
    }
   },
   "outputs": [],
   "source": [
    "def create_data():\n",
    "    iris = load_iris()\n",
    "    df = pd.DataFrame(iris.data, columns=iris.feature_names)\n",
    "    df['label'] = iris.target\n",
    "    df.columns = ['sepal length', 'sepal width', 'petal length', 'petal width', 'label']\n",
    "    data = np.array(df.iloc[:100, [0, 1, -1]]) # 选取前100数据和前两个特征\n",
    "    for j in range(len(data)):\n",
    "        if data[j, -1] == 0:\n",
    "            data[j, -1] = -1 # 将为0的类标签的修改为-1\n",
    "    \n",
    "    return data[:, :2], data[:, -1]"
   ]
  },
  {
   "cell_type": "code",
   "execution_count": 246,
   "metadata": {
    "pycharm": {
     "is_executing": false,
     "name": "#%%\n"
    }
   },
   "outputs": [],
   "source": [
    "X, y =  create_data()\n",
    "X_train, X_test, y_train, y_test = train_test_split(X, y, test_size=0.2)"
   ]
  },
  {
   "cell_type": "code",
   "execution_count": 247,
   "metadata": {
    "pycharm": {
     "is_executing": false,
     "name": "#%%\n"
    }
   },
   "outputs": [
    {
     "data": {
      "text/plain": "<matplotlib.legend.Legend at 0x1ec50e2cf88>"
     },
     "metadata": {},
     "output_type": "execute_result",
     "execution_count": 247
    },
    {
     "data": {
      "text/plain": "<Figure size 432x288 with 1 Axes>",
      "image/png": "[encoded data removed]"
     },
     "metadata": {
      "needs_background": "light"
     },
     "output_type": "display_data"
    }
   ],
   "source": [
    "plt.scatter(X[:50, 0],X[:50, 1], label='0')\n",
    "plt.scatter(X[50:, 0],X[50:, 1], label='1')\n",
    "plt.legend()"
   ]
  },
  {
   "cell_type": "code",
   "execution_count": 248,
   "metadata": {
    "pycharm": {
     "is_executing": false,
     "name": "#%%\n"
    }
   },
   "outputs": [],
   "source": [
    "class AdaBoost:\n",
    "    def __init__(self, n_estimators=50, learning_rate=1.0):\n",
    "        self.clf_num = n_estimators # 弱分类器的最大数量\n",
    "        self.learning_rate = learning_rate # 学习率\n",
    "        self.X = None # 训练数据集data\n",
    "        self.Y = None # 训练数据集target\n",
    "        self.M = None # 样本数量\n",
    "        self.N = None # 特征数量\n",
    "        self.clf_sets = None # 划分与分类规则(由维度,最优划分点,大于最优划分点target为1还是为-1)组成的列表\n",
    "        self.weights = None # 训练数据的权值分布\n",
    "        self.alpha = None # 弱分类器G(\\mathcal{x})系数\\alpha组成的列表\n",
    "\n",
    "\n",
    "    def init_param(self, datasets, labels):\n",
    "        \"\"\"模型参数初始化\"\"\"\n",
    "        self.X = datasets\n",
    "        self.Y = labels\n",
    "        self.M, self.N = datasets.shape\n",
    "        self.clf_sets = []  \n",
    "        self.weights = [1.0 / self.M] * self.M  # 初始化weights为均匀分布\n",
    "        self.alpha = []\n",
    "\n",
    "\n",
    "    def _G(self, features, labels, weights):\n",
    "        \"\"\"构建弱分类器(简单决策树,即所谓的决策树桩)\"\"\"\n",
    "        m = len(features) # 该特征维度下数据的数量\n",
    "        error = 100000.0\n",
    "        best_v = 0.0 # 该特征上最优的划分点\n",
    "        features_min = min(features) # 该特征的最小值\n",
    "        features_max = max(features)\n",
    "        n_step = (features_max - features_min +\n",
    "                  self.learning_rate) // self.learning_rate\n",
    "        direct = None # 何种划分规则\n",
    "        compare_array = None # 弱分类器分类结果\n",
    "        for step in range(1, int(n_step)):\n",
    "            v = features_min + self.learning_rate * step  # 逐步寻找最优划分点\n",
    "            compare_array_positive = np.array(\n",
    "                [1 if features[k] > v else -1 for k in range(m)]) # 根据最优划分点v划分数据集(大于v则target为1,小于等于v则target为-1)\n",
    "            weight_error_positive = sum([\n",
    "                weights[k] for k in range(m)\n",
    "                if compare_array_positive[k] != labels[k]]) # 该划分规则下的分类误差率\n",
    "                         \n",
    "            compare_array_nagetive = np.array(\n",
    "                [-1 if features[k] > v else 1 for k in range(m)])  # 根据最优划分点v划分数据集(大于v则target为-1,小于等于v则target为1)\n",
    "            weight_error_nagetive = sum([\n",
    "                weights[k] for k in range(m)\n",
    "                if compare_array_nagetive[k] != labels[k]])\n",
    "\n",
    "            if weight_error_positive < weight_error_nagetive: \n",
    "                # 若将大于v的数据target设置为1的分类误差率小于按大于v的数据target设置为-1的分类误差率\n",
    "                weight_error = weight_error_positive\n",
    "                _compare_array = compare_array_positive\n",
    "                direct = 'positive'\n",
    "            else:\n",
    "                weight_error = weight_error_nagetive\n",
    "                _compare_array = compare_array_nagetive\n",
    "                direct = 'nagetive'\n",
    "            \n",
    "            if weight_error < error:   \n",
    "                error = weight_error\n",
    "                compare_array = _compare_array\n",
    "                best_v = v\n",
    "        \n",
    "        # 返回最优划分点,最优划分规则,最优划分点和最优划分规则下的分类误差率,最优划分点和最优划分规则下对数据类别的划分(即弱分类器分类结果)\n",
    "        return best_v, direct, error, compare_array \n",
    "    \n",
    "    \n",
    "    @staticmethod\n",
    "    def _alpha(error):\n",
    "        \"\"\"计算\\alpha\"\"\"\n",
    "        print('error:', error)\n",
    "        return 0.5 * np.log((1 - error) / error)\n",
    "\n",
    "\n",
    "    def _Z(self, weights, a, clf):\n",
    "        \"\"\"计算规范化因子Z_t\"\"\"\n",
    "\n",
    "        return sum([\n",
    "            weights[i] * np.exp(-1 * a * self.Y[i] * clf[i])\n",
    "            for i in range(self.M)])\n",
    "\n",
    "\n",
    "    def _w(self, a, clf, Z):\n",
    "        \"\"\"更新训练数据的权值分布\"\"\"\n",
    "        for i in range(self.M):\n",
    "            self.weights[i] = self.weights[i] * np.exp(\n",
    "                -1 * a * self.Y[i] * clf[i]) / Z\n",
    "\n",
    "\n",
    "    def fit(self, X, y):\n",
    "        \"\"\"学习训练数据集\"\"\"\n",
    "        self.init_param(X, y)\n",
    "        \n",
    "        for epoch in range(self.clf_num):\n",
    "            best_clf_error, best_v, clf_result, axis, final_direct = 100000, None, None, 0, None\n",
    "            # 根据特征维度,选择分类误差最小的\n",
    "            for j in range(self.N):\n",
    "                features = self.X[:, j]\n",
    "                v, direct, error, compare_array = self._G(features, self.Y, self.weights)\n",
    "                print('error::::::', error)\n",
    "                if error < best_clf_error:\n",
    "                    best_clf_error = error\n",
    "                    best_v = v\n",
    "                    final_direct = direct\n",
    "                    clf_result = compare_array\n",
    "                    axis = j\n",
    "\n",
    "                if best_clf_error == 0:\n",
    "                    break\n",
    "\n",
    "            a = self._alpha(best_clf_error)\n",
    "            self.alpha.append(a)\n",
    "            self.clf_sets.append((axis, best_v, final_direct))\n",
    "            Z = self._Z(self.weights, a, clf_result) # 计算规范化因子Z_t\n",
    "            self._w(a, clf_result, Z) # 权值更新\n",
    "\n",
    "\n",
    "    @staticmethod\n",
    "    def G(x, v, direct):\n",
    "        \"\"\"基本分类器G_t\"\"\"\n",
    "        if direct == 'positive':\n",
    "            return 1 if x > v else -1\n",
    "        else:\n",
    "            return -1 if x > v else 1\n",
    "\n",
    "\n",
    "    def predict(self, one_data):\n",
    "        \"\"\"预测one_data的target\"\"\"\n",
    "        result = 0.0\n",
    "        for i in range(len(self.clf_sets)):\n",
    "            axis, clf_v, direct = self.clf_sets[i]\n",
    "            f_input = one_data[axis]\n",
    "            result += self.alpha[i] * self.G(f_input, clf_v, direct) # 基本分类器G_t及其系数\\alpha_t的线性组合\n",
    "        \n",
    "        return 1 if result > 0 else -1 # 即符号函数\n",
    "\n",
    "\n",
    "    def score(self, X_test, y_test):\n",
    "        \"\"\"计算分类精确度\"\"\"\n",
    "        right_count = 0\n",
    "        for i in range(len(X_test)):\n",
    "            feature = X_test[i]\n",
    "            if self.predict(feature) == y_test[i]:\n",
    "                right_count += 1\n",
    "\n",
    "        return right_count / len(X_test)\n"
   ]
  },
  {
   "cell_type": "code",
   "execution_count": 249,
   "metadata": {
    "pycharm": {
     "is_executing": false,
     "name": "#%%\n"
    }
   },
   "outputs": [
    {
     "name": "stdout",
     "text": [
      "error:::::: 0.15\n",
      "error:::::: 0.17500000000000002\n",
      "error: 0.15\n",
      "error:::::: 0.28431372549019573\n",
      "error:::::: 0.10294117647058808\n",
      "error: 0.10294117647058808\n",
      "error:::::: 0.15846994535519124\n",
      "error:::::: 0.37021857923497303\n",
      "error: 0.15846994535519124\n",
      "error:::::: 0.1754406307977736\n",
      "error:::::: 0.21996753246753256\n",
      "error: 0.1754406307977736\n",
      "error:::::: 0.3031922373787089\n",
      "error:::::: 0.21816369975608457\n",
      "error: 0.21816369975608457\n",
      "error:::::: 0.31486138591402124\n",
      "error:::::: 0.21853379829055938\n",
      "error: 0.21853379829055938\n",
      "error:::::: 0.23182641373817292\n",
      "error:::::: 0.3685158438955201\n",
      "error: 0.23182641373817292\n",
      "error:::::: 0.2857501734217496\n",
      "error:::::: 0.24875849024578137\n",
      "error: 0.24875849024578137\n",
      "error:::::: 0.1960766800605231\n",
      "error:::::: 0.4354619973141722\n",
      "error: 0.1960766800605231\n",
      "error:::::: 0.3432144417439776\n",
      "error:::::: 0.30107604279908823\n",
      "error: 0.30107604279908823\n",
      "error:::::: 0.24553060329946436\n",
      "error:::::: 0.31441861018960443\n",
      "error: 0.24553060329946436\n",
      "error:::::: 0.2771586702661954\n",
      "error:::::: 0.3199147659225646\n",
      "error: 0.2771586702661954\n",
      "error:::::: 0.3458573682997145\n",
      "error:::::: 0.2212897580443949\n",
      "error: 0.2212897580443949\n",
      "error:::::: 0.29746318026575297\n",
      "error:::::: 0.41937403887624547\n",
      "error: 0.29746318026575297\n",
      "error:::::: 0.37017597174600336\n",
      "error:::::: 0.3216904013967509\n",
      "error: 0.3216904013967509\n",
      "error:::::: 0.2861349759643975\n",
      "error:::::: 0.3337003911926486\n",
      "error: 0.2861349759643975\n",
      "error:::::: 0.26042120404884245\n",
      "error:::::: 0.35020625970257885\n",
      "error: 0.26042120404884245\n",
      "error:::::: 0.33803024284718686\n",
      "error:::::: 0.2620047495139681\n",
      "error: 0.2620047495139681\n",
      "error:::::: 0.31504705585535453\n",
      "error:::::: 0.40582735204148257\n",
      "error: 0.31504705585535453\n",
      "error:::::: 0.38704483716874827\n",
      "error:::::: 0.3296369283622379\n",
      "error: 0.3296369283622379\n",
      "error:::::: 0.28868299399544795\n",
      "error:::::: 0.32623501574707703\n",
      "error: 0.28868299399544795\n",
      "error:::::: 0.2716364187216049\n",
      "error:::::: 0.35146073816545303\n",
      "error: 0.2716364187216049\n",
      "error:::::: 0.34323517323753316\n",
      "error:::::: 0.2817584486247807\n",
      "error: 0.2817584486247807\n",
      "error:::::: 0.3229392933961431\n",
      "error:::::: 0.40876215116931297\n",
      "error: 0.3229392933961431\n",
      "error:::::: 0.39544214916356607\n",
      "error:::::: 0.32202086772141375\n",
      "error: 0.32202086772141375\n",
      "error:::::: 0.2916329797899123\n",
      "error:::::: 0.3242373864129704\n",
      "error: 0.2916329797899123\n",
      "error:::::: 0.28064725491557874\n",
      "error:::::: 0.3529243921122343\n",
      "error: 0.28064725491557874\n",
      "error:::::: 0.34753464375903736\n",
      "error:::::: 0.29683285705796647\n",
      "error: 0.29683285705796647\n",
      "error:::::: 0.3218696006901801\n",
      "error:::::: 0.41316633413670895\n",
      "error: 0.3218696006901801\n",
      "error:::::: 0.40201978047431974\n",
      "error:::::: 0.3143291435879349\n",
      "error: 0.3143291435879349\n",
      "error:::::: 0.2931579902476702\n",
      "error:::::: 0.322039382055832\n",
      "error: 0.2931579902476702\n",
      "error:::::: 0.2896308352220479\n",
      "error:::::: 0.35368582589990283\n",
      "error: 0.2896308352220479\n",
      "error:::::: 0.3519296900762088\n",
      "error:::::: 0.3051664279162569\n",
      "error: 0.3051664279162569\n",
      "error:::::: 0.3179978857351167\n",
      "error:::::: 0.41768820671342455\n",
      "error: 0.3179978857351167\n",
      "error:::::: 0.4083304916459398\n",
      "error:::::: 0.30847544898376505\n",
      "error: 0.30847544898376505\n",
      "error:::::: 0.2952393310157069\n",
      "error:::::: 0.32074314801868303\n",
      "error: 0.2952393310157069\n",
      "error:::::: 0.29668643045020177\n",
      "error:::::: 0.35473035173813317\n",
      "error: 0.29668643045020177\n",
      "error:::::: 0.3554602254582241\n",
      "error:::::: 0.3088610911597789\n",
      "error: 0.3088610911597789\n",
      "error:::::: 0.3136607847013756\n",
      "error:::::: 0.4186296272997711\n",
      "error: 0.3136607847013756\n",
      "error:::::: 0.41382500782082743\n",
      "error:::::: 0.30497283119515955\n",
      "error: 0.30497283119515955\n",
      "error:::::: 0.29770419517012214\n",
      "error:::::: 0.320183577330199\n",
      "error: 0.29770419517012214\n",
      "error:::::: 0.30156937502753245\n",
      "error:::::: 0.35597535722224527\n",
      "error: 0.30156937502753245\n",
      "error:::::: 0.3579453578655076\n",
      "error:::::: 0.30969699409261686\n",
      "error: 0.30969699409261686\n",
      "error:::::: 0.3100512895828931\n",
      "error:::::: 0.4185473852244479\n",
      "error: 0.3100512895828931\n",
      "error:::::: 0.4155615755147568\n",
      "error:::::: 0.30331775312067494\n",
      "error: 0.30331775312067494\n",
      "error:::::: 0.30016847098620847\n",
      "error:::::: 0.32017180637804593\n",
      "error: 0.30016847098620847\n",
      "error:::::: 0.3044893966237607\n",
      "error:::::: 0.35722883241957093\n",
      "error: 0.3044893966237607\n",
      "error:::::: 0.35944815044719225\n",
      "error:::::: 0.3091288163966584\n",
      "error: 0.3091288163966584\n",
      "error:::::: 0.30748509839867433\n",
      "error:::::: 0.4195233741994713\n",
      "error: 0.30748509839867433\n",
      "error:::::: 0.41446006991872675\n",
      "error:::::: 0.3028984453831919\n",
      "error: 0.3028984453831919\n"
     ],
     "output_type": "stream"
    },
    {
     "data": {
      "text/plain": "0.85"
     },
     "metadata": {},
     "output_type": "execute_result",
     "execution_count": 249
    }
   ],
   "source": [
    "clf = AdaBoost(n_estimators=50, learning_rate=0.5)\n",
    "clf.fit(X_train, y_train)\n",
    "clf.score(X_test, y_test) # 结果受train_test_split的影响"
   ]
  },
  {
   "cell_type": "code",
   "execution_count": 250,
   "metadata": {
    "pycharm": {
     "is_executing": false,
     "name": "#%%\n"
    }
   },
   "outputs": [
    {
     "data": {
      "text/plain": "[(0, 5.3, 'positive'),\n (1, 3.0, 'positive'),\n (0, 5.8, 'positive'),\n (0, 4.8, 'nagetive'),\n (1, 2.5, 'positive'),\n (1, 3.5, 'nagetive'),\n (0, 5.8, 'positive'),\n (1, 3.0, 'nagetive'),\n (0, 5.3, 'positive'),\n (1, 2.5, 'nagetive'),\n (0, 4.8, 'nagetive'),\n (0, 5.8, 'positive'),\n (1, 3.0, 'nagetive'),\n (0, 5.3, 'positive'),\n (1, 2.5, 'nagetive'),\n (0, 4.8, 'nagetive'),\n (0, 5.8, 'positive'),\n (1, 3.0, 'nagetive'),\n (0, 5.3, 'positive'),\n (1, 2.5, 'nagetive'),\n (0, 4.8, 'nagetive'),\n (0, 5.8, 'positive'),\n (1, 3.0, 'nagetive'),\n (0, 5.3, 'positive'),\n (1, 2.5, 'nagetive'),\n (0, 4.8, 'nagetive'),\n (0, 5.8, 'positive'),\n (1, 3.0, 'nagetive'),\n (0, 5.3, 'positive'),\n (1, 2.5, 'nagetive'),\n (0, 4.8, 'nagetive'),\n (0, 5.8, 'positive'),\n (1, 3.0, 'nagetive'),\n (0, 5.3, 'positive'),\n (1, 2.5, 'nagetive'),\n (0, 4.8, 'nagetive'),\n (0, 5.8, 'positive'),\n (1, 3.0, 'nagetive'),\n (0, 5.3, 'positive'),\n (1, 2.5, 'nagetive'),\n (0, 4.8, 'nagetive'),\n (0, 5.8, 'positive'),\n (1, 3.0, 'nagetive'),\n (0, 5.3, 'positive'),\n (1, 2.5, 'nagetive'),\n (0, 4.8, 'nagetive'),\n (0, 5.8, 'positive'),\n (1, 3.0, 'nagetive'),\n (0, 5.3, 'positive'),\n (1, 2.5, 'nagetive')]"
     },
     "metadata": {},
     "output_type": "execute_result",
     "execution_count": 250
    }
   ],
   "source": [
    "clf.clf_sets # 最终的划分与分类规则"
   ]
  },
  {
   "cell_type": "code",
   "execution_count": 251,
   "metadata": {
    "pycharm": {
     "is_executing": false,
     "name": "#%%\n"
    }
   },
   "outputs": [
    {
     "data": {
      "text/plain": "[0.8673005276940532,\n 1.0824818575589998,\n 0.8348283862135777,\n 0.7737742230475811,\n 0.6381998433002386,\n 0.6371156075641669,\n 0.5990134282099202,\n 0.5526223385980517,\n 0.7054990419502049,\n 0.42108954080405836,\n 0.5612965599311833,\n 0.4792997890443641,\n 0.6290830250048097,\n 0.42970367937689613,\n 0.3730071110739645,\n 0.45711512954057726,\n 0.5218902468532861,\n 0.5177873787056416,\n 0.38831406494324594,\n 0.3549138159424266,\n 0.4508945051584804,\n 0.49316793605693776,\n 0.46787789814140673,\n 0.37014828974801606,\n 0.3722500795418855,\n 0.44373312817363125,\n 0.47062664118217495,\n 0.43121270534308803,\n 0.3725965510452322,\n 0.3899785232739578,\n 0.4400477478363795,\n 0.44858882762087193,\n 0.41140752958770593,\n 0.3814940119037138,\n 0.4036281980982704,\n 0.4350359747798257,\n 0.4315635229534319,\n 0.4027245983659895,\n 0.3915299449955289,\n 0.41186412100759184,\n 0.4291271649065207,\n 0.41991788223073967,\n 0.40076812956517643,\n 0.3999397640192287,\n 0.41577423689854115,\n 0.4232478731253894,\n 0.413004996322819,\n 0.4020976572821183,\n 0.4059515654038173,\n 0.4167667585162434]"
     },
     "metadata": {},
     "output_type": "execute_result",
     "execution_count": 251
    }
   ],
   "source": [
    "clf.alpha # 最终所有的\\alpha"
   ]
  },
  {
   "cell_type": "code",
   "execution_count": 252,
   "metadata": {
    "pycharm": {
     "is_executing": false,
     "name": "#%%\n"
    }
   },
   "outputs": [
    {
     "data": {
      "text/plain": "[3.5320078841389172e-06,\n 3.5320078841389172e-06,\n 3.5320078841389172e-06,\n 0.012241537757689012,\n 0.017638485274913376,\n 0.017638485274913376,\n 0.025595232432905613,\n 2.068581372946676e-05,\n 2.068581372946676e-05,\n 0.025595232432905613,\n 0.04377514182892962,\n 9.877114286256336e-07,\n 5.174083768539261e-10,\n 9.877114286256336e-07,\n 1.4469111730475452e-10,\n 0.017638485274913376,\n 6.402062709016788e-07,\n 0.012241537757689012,\n 1.4469111730475452e-10,\n 0.049407073557589894,\n 0.025595232432905613,\n 9.877114286256336e-07,\n 3.5320078841389172e-06,\n 6.402062709016788e-07,\n 9.877114286256336e-07,\n 2.068581372946676e-05,\n 1.4469111730475452e-10,\n 0.017638485274913376,\n 2.068581372946676e-05,\n 0.017638485274913376,\n 0.017638485274913376,\n 3.986421655002233e-06,\n 6.402062709016788e-07,\n 3.5320078841389172e-06,\n 3.5320078841389172e-06,\n 6.402062709016788e-07,\n 0.09152730253934871,\n 0.012241537757689012,\n 1.4469111730475452e-10,\n 0.017638485274913376,\n 0.025595232432905613,\n 5.174083768539261e-10,\n 0.025595232432905613,\n 5.174083768539261e-10,\n 0.04377514182892962,\n 5.174083768539261e-10,\n 3.5320078841389172e-06,\n 0.017638485274913376,\n 3.5320078841389172e-06,\n 5.174083768539261e-10,\n 0.012241537757689012,\n 0.14120849304094746,\n 0.017638485274913376,\n 3.5320078841389172e-06,\n 2.068581372946676e-05,\n 0.049407073557589894,\n 0.049407073557589894,\n 0.017638485274913376,\n 0.017638485274913376,\n 6.402062709016788e-07,\n 1.4469111730475452e-10,\n 0.017638485274913376,\n 3.5320078841389172e-06,\n 0.025595232432905613,\n 3.986421655002233e-06,\n 3.5320078841389172e-06,\n 9.877114286256336e-07,\n 3.5320078841389172e-06,\n 3.986421655002233e-06,\n 0.049407073557589894,\n 9.877114286256336e-07,\n 6.402062709016788e-07,\n 0.012241537757689012,\n 5.174083768539261e-10,\n 6.402062709016788e-07,\n 6.402062709016788e-07,\n 0.012241537757689012,\n 0.017638485274913376,\n 0.025595232432905613,\n 6.402062709016788e-07]"
     },
     "metadata": {},
     "output_type": "execute_result",
     "execution_count": 252
    }
   ],
   "source": [
    "clf.weights # 最终的权值分布\n",
    "\n"
   ]
  }
 ],
 "metadata": {
  "kernelspec": {
   "display_name": "Python 3",
   "language": "python",
   "name": "python3"
  },
  "language_info": {
   "codemirror_mode": {
    "name": "ipython",
    "version": 3
   },
   "file_extension": ".py",
   "mimetype": "text/x-python",
   "name": "python",
   "nbconvert_exporter": "python",
   "pygments_lexer": "ipython3",
   "version": "3.7.6"
  },
  "pycharm": {
   "stem_cell": {
    "cell_type": "raw",
    "source": [],
    "metadata": {
     "collapsed": false
    }
   }
  },
  "toc": {
   "base_numbering": 1,
   "nav_menu": {},
   "number_sections": true,
   "sideBar": true,
   "skip_h1_title": false,
   "title_cell": "Table of Contents",
   "title_sidebar": "Contents",
   "toc_cell": false,
   "toc_position": {},
   "toc_section_display": true,
   "toc_window_display": false
  }
 },
 "nbformat": 4,
 "nbformat_minor": 1
}