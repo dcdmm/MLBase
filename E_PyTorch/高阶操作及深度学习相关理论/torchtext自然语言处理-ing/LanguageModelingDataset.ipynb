{
 "cells": [
  {
   "cell_type": "code",
   "execution_count": 1,
   "metadata": {
    "pycharm": {
     "name": "#%%\n"
    }
   },
   "outputs": [],
   "source": [
    "from torchtext.datasets import LanguageModelingDataset\n",
    "import torchtext.data as data\n",
    "\n",
    "\n",
    "TEXT = data.Field()\n",
    "# 处理语言模型数据集的一个类;其中splits为类方法;继承自data.Dataset\n",
    "train, val, test = LanguageModelingDataset.splits(path=\"test_text\",  # splits方法中为连接路径(.表示当前目录,..表示上层目录),LanguageModelingDataset直接构建则为全路径\n",
    "                                                  train=\"train.txt\", # 文件名\n",
    "                                                  validation=\"validation.txt\",\n",
    "                                                  test=\"test.txt\",\n",
    "                                                  encoding='utf-8',\n",
    "                                                  text_field=TEXT) # The field that will be used for text data."
   ]
  },
  {
   "cell_type": "code",
   "execution_count": 2,
   "metadata": {
    "pycharm": {
     "name": "#%%\n"
    }
   },
   "outputs": [
    {
     "data": {
      "text/plain": "[<torchtext.data.example.Example at 0x17eca5fe070>]"
     },
     "execution_count": 2,
     "metadata": {},
     "output_type": "execute_result"
    }
   ],
   "source": [
    "train.examples"
   ]
  },
  {
   "cell_type": "code",
   "execution_count": 3,
   "metadata": {
    "pycharm": {
     "name": "#%%\n"
    }
   },
   "outputs": [
    {
     "data": {
      "text/plain": "['Became',\n 'a',\n 'searcher',\n ',',\n 'wanting',\n 'to',\n 'find',\n 'out',\n 'who',\n 'I',\n 'was',\n 'and',\n 'what',\n 'made',\n 'me',\n 'unique',\n '.',\n 'My',\n 'view',\n 'of',\n 'myself',\n 'was',\n 'changing',\n '.',\n 'I',\n 'wanted',\n 'a',\n 'solid',\n 'base',\n 'to',\n 'start',\n 'from',\n '.',\n 'I',\n 'started',\n 'to',\n 'resist3',\n 'pressure',\n 'to',\n 'act',\n 'in',\n 'ways',\n 'that',\n 'I',\n 'didn’t',\n 'like',\n 'any',\n 'more',\n ',',\n 'and',\n 'I',\n 'was',\n 'delighted',\n 'by',\n 'who',\n 'I',\n 'really',\n 'was',\n '.',\n 'I',\n 'came',\n 'to',\n 'feel',\n 'much',\n 'more',\n 'sure',\n 'that',\n 'no',\n 'one',\n 'can',\n 'ever',\n 'take',\n 'my',\n 'place.Each',\n 'of',\n 'us',\n 'holds',\n 'a',\n 'unique',\n 'place',\n 'in',\n 'the',\n 'world',\n '.',\n 'You',\n 'are',\n 'special',\n ',',\n 'no',\n 'matter',\n 'what',\n 'others',\n 'say',\n 'or',\n 'what',\n 'you',\n 'may',\n 'think',\n '.',\n 'So',\n 'forget',\n 'about',\n 'being',\n 'replaced',\n '.',\n 'You',\n 'can’t',\n 'be',\n '.',\n '段超写于2020年8月18日!',\n '<eos>']"
     },
     "execution_count": 3,
     "metadata": {},
     "output_type": "execute_result"
    }
   ],
   "source": [
    "train.examples[0].text # 内部实现:examples = [data.Example.fromlist([text], fields)]"
   ]
  },
  {
   "cell_type": "code",
   "execution_count": 4,
   "metadata": {
    "pycharm": {
     "name": "#%%\n"
    }
   },
   "outputs": [
    {
     "data": {
      "text/plain": "[<torchtext.data.example.Example at 0x17eca61c550>]"
     },
     "execution_count": 4,
     "metadata": {},
     "output_type": "execute_result"
    }
   ],
   "source": [
    "test.examples"
   ]
  },
  {
   "cell_type": "code",
   "execution_count": 5,
   "outputs": [
    {
     "data": {
      "text/plain": "['We’re',\n 'always',\n 'on',\n 'the',\n 'go',\n 'trying',\n 'to',\n 'accomplish',\n 'so',\n 'much',\n ',',\n 'aren’s',\n 'we',\n '?',\n 'Getting',\n 'groceries',\n ',',\n 'cleaning',\n 'the',\n 'house',\n ',',\n 'mowing',\n 'the',\n 'lawn',\n '—',\n 'there’s',\n 'always',\n 'something',\n '.',\n 'It’s',\n 'so',\n 'easy',\n 'to',\n 'get',\n 'caught',\n 'up',\n 'in',\n 'everyday',\n 'life',\n 'that',\n 'we',\n 'forget',\n 'how',\n 'simple',\n 'it',\n 'can',\n 'be',\n 'to',\n 'bring',\n 'cheer',\n 'to',\n 'ourselves',\n 'and',\n 'others',\n '.',\n 'Giving',\n 'a',\n 'smile',\n 'away',\n 'takes',\n 'so',\n 'little',\n 'effort',\n 'and',\n 'time',\n ',',\n 'let’s',\n 'make',\n 'sure',\n 'that',\n 'we’ve',\n 'not',\n 'the',\n 'one',\n 'that',\n 'others',\n 'have',\n 'to',\n 'pretend',\n 'is',\n 'wearing',\n 'an',\n 'invisible',\n 'smile',\n '.',\n '<eos>']"
     },
     "execution_count": 5,
     "metadata": {},
     "output_type": "execute_result"
    }
   ],
   "source": [
    "test.examples[0].text"
   ],
   "metadata": {
    "collapsed": false,
    "pycharm": {
     "name": "#%%\n"
    }
   }
  },
  {
   "cell_type": "code",
   "execution_count": 6,
   "metadata": {
    "pycharm": {
     "name": "#%%\n"
    }
   },
   "outputs": [
    {
     "data": {
      "text/plain": "['Just',\n 'as',\n 'you',\n 'need',\n 'air',\n 'to',\n 'breathe',\n ',',\n 'you',\n 'need',\n 'opportunity',\n 'to',\n 'succeed',\n '.',\n 'It',\n 'takes',\n 'more',\n 'than',\n 'just',\n 'breathing',\n 'in',\n 'the',\n 'fresh',\n 'air',\n 'of',\n 'opportunity',\n ',',\n 'however',\n '.',\n 'You',\n 'must',\n 'make',\n 'use',\n 'of',\n 'that',\n 'opportunity',\n '.',\n \"That's\",\n 'not',\n 'up',\n 'to',\n 'the',\n 'opportunity',\n '.',\n \"That's\",\n 'up',\n 'to',\n 'you',\n '.',\n 'It',\n \"doesn't\",\n 'matter',\n 'what',\n '\"',\n 'floor',\n '\"',\n 'the',\n 'opportunity',\n 'is',\n 'on',\n '.',\n 'What',\n 'matters',\n 'is',\n 'what',\n 'you',\n 'do',\n 'with',\n 'it',\n '.',\n '<eos>']"
     },
     "execution_count": 6,
     "metadata": {},
     "output_type": "execute_result"
    }
   ],
   "source": [
    "val.examples[0].text"
   ]
  },
  {
   "cell_type": "code",
   "execution_count": 6,
   "metadata": {
    "pycharm": {
     "name": "#%%\n"
    }
   },
   "outputs": [],
   "source": []
  }
 ],
 "metadata": {
  "kernelspec": {
   "display_name": "Python 3",
   "language": "python",
   "name": "python3"
  },
  "language_info": {
   "codemirror_mode": {
    "name": "ipython",
    "version": 3
   },
   "file_extension": ".py",
   "mimetype": "text/x-python",
   "name": "python",
   "nbconvert_exporter": "python",
   "pygments_lexer": "ipython3",
   "version": "3.7.7"
  },
  "toc": {
   "base_numbering": 1,
   "nav_menu": {},
   "number_sections": true,
   "sideBar": true,
   "skip_h1_title": false,
   "title_cell": "Table of Contents",
   "title_sidebar": "Contents",
   "toc_cell": false,
   "toc_position": {},
   "toc_section_display": true,
   "toc_window_display": false
  }
 },
 "nbformat": 4,
 "nbformat_minor": 1
}