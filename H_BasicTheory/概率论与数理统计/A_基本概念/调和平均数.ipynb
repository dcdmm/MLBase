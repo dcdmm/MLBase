{
 "cells": [
  {
   "cell_type": "markdown",
   "metadata": {
    "collapsed": true,
    "pycharm": {
     "name": "#%% md\n"
    }
   },
   "source": [
    "<font color='red' size=4>简单调和平均数的计算:</font>     \n",
    "$$ H_n = \\frac{1}{\\frac{1}{n} \\sum_{i=1}^n \\frac{1}{x_{i}} } = \\frac{n}{\\sum_{i=1}^{n} \\frac{1}{x_{i}}}$$\n",
    "\n",
    "<font color='red' size=4>加权调和平均数的计算:</font>   \n",
    "\\begin{align}\n",
    "H_n &= \\frac{1}{\\frac{1}{m_1 + m_2 + ... + m_n}(\\frac{1}{x_1}m_1 + \\frac{1}{x_2}m_2 + ... + \\frac{1}{x_n}m_n )} \\\\\n",
    " &= \\frac{\\sum_{i=1}^n m_i}{ \\sum_{i=1}^n \\frac{m_i}{x_i}}\n",
    "\\end{align}"
   ]
  },
  {
   "cell_type": "code",
   "execution_count": null,
   "outputs": [],
   "source": [
    "\n",
    "\n"
   ],
   "metadata": {
    "collapsed": false,
    "pycharm": {
     "name": "#%%\n"
    }
   }
  }
 ],
 "metadata": {
  "kernelspec": {
   "display_name": "Python 3",
   "language": "python",
   "name": "python3"
  },
  "language_info": {
   "codemirror_mode": {
    "name": "ipython",
    "version": 2
   },
   "file_extension": ".py",
   "mimetype": "text/x-python",
   "name": "python",
   "nbconvert_exporter": "python",
   "pygments_lexer": "ipython2",
   "version": "2.7.6"
  },
  "pycharm": {
   "stem_cell": {
    "cell_type": "raw",
    "source": [],
    "metadata": {
     "collapsed": false
    }
   }
  }
 },
 "nbformat": 4,
 "nbformat_minor": 0
}