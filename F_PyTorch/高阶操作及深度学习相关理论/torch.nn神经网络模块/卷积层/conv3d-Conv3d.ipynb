{
 "cells": [
  {
   "cell_type": "markdown",
   "metadata": {
    "collapsed": true
   },
   "source": [
    "* input:$(N, C_{in}, D_{in}, H_{in}, W_{in})$\n",
    "\n",
    "* output:$(N, C_{out}, D_{out}, H_{out}, W_{out})$\n",
    "\n",
    "$$ D_{out} = \\left \\lfloor \\frac{D_{in} + 2 \\times padding[0] - dilation[0] \\times(kernel\\_size[0]-1)-1}{stride[0]} +1  \\right \\rfloor \\\\ $$\n",
    "\n",
    "$$ H_{out} = \\left \\lfloor \\frac{H_{in} + 2 \\times padding[1] - dilation[1] \\times(kernel\\_size[1]-1)-1}{stride[1]} +1  \\right \\rfloor \\\\ $$\n",
    "\n",
    "$$ D_{out} = \\left \\lfloor \\frac{W_{in} + 2 \\times padding[2] - dilation[2] \\times(kernel\\_size[2]-1)-1}{stride[2]} +1  \\right \\rfloor \\\\ $$\n",
    "\n"
   ]
  },
  {
   "cell_type": "code",
   "execution_count": 1,
   "metadata": {},
   "outputs": [],
   "source": [
    "import torch\n",
    "import torch.nn.functional as F\n",
    "import torch.nn as nn"
   ]
  },
  {
   "cell_type": "code",
   "execution_count": 2,
   "metadata": {
    "pycharm": {
     "name": "#%%\n"
    }
   },
   "outputs": [
    {
     "data": {
      "text/plain": [
       "torch.Size([100, 16, 10, 50, 100])"
      ]
     },
     "execution_count": 2,
     "metadata": {},
     "output_type": "execute_result"
    }
   ],
   "source": [
    "entry = torch.randn(100, 16, 10, 50, 100)\n",
    "entry.shape"
   ]
  },
  {
   "cell_type": "code",
   "execution_count": 3,
   "metadata": {
    "pycharm": {
     "name": "#%%\n"
    }
   },
   "outputs": [
    {
     "data": {
      "text/plain": [
       "torch.Size([11, 16, 3, 3, 5])"
      ]
     },
     "execution_count": 3,
     "metadata": {},
     "output_type": "execute_result"
    }
   ],
   "source": [
    "weight = torch.empty((11, 16, 3, 3, 5))\n",
    "nn.init.kaiming_normal_(weight)\n",
    "weight.shape"
   ]
  },
  {
   "cell_type": "code",
   "execution_count": 4,
   "metadata": {
    "pycharm": {
     "name": "#%%\n"
    }
   },
   "outputs": [],
   "source": [
    "bias = torch.randn(11)"
   ]
  },
  {
   "cell_type": "code",
   "execution_count": 5,
   "metadata": {
    "pycharm": {
     "name": "#%%\n"
    }
   },
   "outputs": [
    {
     "data": {
      "text/plain": [
       "torch.Size([100, 11, 8, 24, 32])"
      ]
     },
     "execution_count": 5,
     "metadata": {},
     "output_type": "execute_result"
    }
   ],
   "source": [
    "con3d_f = F.conv3d(input=entry, weight=weight, bias=bias,\n",
    "                   stride=(1, 2, 3), # D, H, W三个方向上的步幅\n",
    "                   padding=0, dilation=1, groups=1)\n",
    "'''\n",
    "input –\n",
    "    input tensor of shape (minibatch, in_channels, iT, iH, iW)\n",
    "weight –\n",
    "    sfilters of shape (out_channels, in_channels/groups, kT, kH, kW)\n",
    "bias –\n",
    "    optional bias tensor of shape (out_channels) . Default: None\n",
    "'''\n",
    "con3d_f.shape"
   ]
  },
  {
   "cell_type": "code",
   "execution_count": 6,
   "metadata": {
    "pycharm": {
     "name": "#%%\n"
    }
   },
   "outputs": [
    {
     "data": {
      "text/plain": [
       "torch.Size([100, 33, 15, 52, 102])"
      ]
     },
     "execution_count": 6,
     "metadata": {},
     "output_type": "execute_result"
    }
   ],
   "source": [
    "con3d_c = nn.Conv3d(in_channels=16, # 即C_in\n",
    "                    out_channels=33, # 即C_out\n",
    "                    kernel_size=(2, 3, 1),\n",
    "                    bias=True, stride=1, padding=(3, 2, 1))\n",
    "'''\n",
    "input size:(N, C_in, D_in, H_in, W_in)\n",
    "output size:(N, C_out, D_out, H_out, W_out)\n",
    "'''\n",
    "output = con3d_c(entry)\n",
    "output.shape"
   ]
  },
  {
   "cell_type": "code",
   "execution_count": 7,
   "metadata": {
    "pycharm": {
     "name": "#%%\n"
    }
   },
   "outputs": [
    {
     "data": {
      "text/plain": [
       "torch.Size([33, 16, 2, 3, 1])"
      ]
     },
     "execution_count": 7,
     "metadata": {},
     "output_type": "execute_result"
    }
   ],
   "source": [
    "con3d_c.weight.shape # 形状为(out_channels,in_channels,kH,KW,kD);内部默认实现了:init.kaiming_uniform_(self.weight, a=math.sqrt(5))"
   ]
  },
  {
   "cell_type": "code",
   "execution_count": 85,
   "metadata": {
    "pycharm": {
     "name": "#%%\n"
    }
   },
   "outputs": [
    {
     "data": {
      "text/plain": [
       "Parameter containing:\n",
       "tensor([-0.0239,  0.0312, -0.0136, -0.0738,  0.0840, -0.0008, -0.0017, -0.0749,\n",
       "        -0.0772, -0.0546,  0.0050,  0.0046, -0.0774,  0.0773, -0.0013,  0.0224,\n",
       "         0.0520,  0.0949, -0.0049,  0.0063, -0.0881,  0.0604, -0.0164,  0.0744,\n",
       "         0.0892, -0.0963, -0.0858,  0.0520, -0.0596,  0.0554, -0.0310,  0.0579,\n",
       "        -0.0359], requires_grad=True)"
      ]
     },
     "execution_count": 85,
     "metadata": {},
     "output_type": "execute_result"
    }
   ],
   "source": [
    "con3d_c.bias # # 内部默认进行了kaiming_uniform_初始化"
   ]
  },
  {
   "cell_type": "code",
   "execution_count": 85,
   "metadata": {
    "pycharm": {
     "name": "#%%\n"
    }
   },
   "outputs": [],
   "source": [
    "\n"
   ]
  }
 ],
 "metadata": {
  "kernelspec": {
   "display_name": "Python 3",
   "language": "python",
   "name": "python3"
  },
  "language_info": {
   "codemirror_mode": {
    "name": "ipython",
    "version": 3
   },
   "file_extension": ".py",
   "mimetype": "text/x-python",
   "name": "python",
   "nbconvert_exporter": "python",
   "pygments_lexer": "ipython3",
   "version": "3.7.7"
  },
  "toc": {
   "base_numbering": 1,
   "nav_menu": {},
   "number_sections": true,
   "sideBar": true,
   "skip_h1_title": false,
   "title_cell": "Table of Contents",
   "title_sidebar": "Contents",
   "toc_cell": false,
   "toc_position": {},
   "toc_section_display": true,
   "toc_window_display": false
  }
 },
 "nbformat": 4,
 "nbformat_minor": 1
}