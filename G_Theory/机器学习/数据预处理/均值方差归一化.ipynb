{
 "cells": [
  {
   "cell_type": "markdown",
   "metadata": {
    "pycharm": {
     "metadata": false,
     "name": "#%% md\n"
    }
   },
   "source": [
    "<font color='red' size=4>把所有数据归一到均值为0方差为1的分布中</font>\n",
    "\n",
    "&emsp;&emsp;对序列$x_{1},x_{2},...,x_{n}$进行变换\n",
    "\n",
    "\\begin{equation}\n",
    "    y_{i}=\\frac{x_{i}-\\bar{x}}{s},\n",
    "    这里\\bar{x}=\\frac{\\sum_{i=1}^{n}x_{i}}{n},\n",
    "    {s^2} = \\frac{{\\sum\\limits_{i = 1}^n {{{({x_i} - \\bar x)}^2}} }}{{n - 1}}\n",
    "\\end{equation}\n",
    "\n",
    "$则新序列y_{1},y_{2},...,y_{n}的均值为0,方差为1,且无量纲化$"
   ]
  },
  {
   "cell_type": "code",
   "execution_count": 46,
   "metadata": {
    "pycharm": {
     "is_executing": false,
     "name": "#%%\n"
    }
   },
   "outputs": [],
   "source": [
    "from sklearn import datasets\n",
    "from sklearn.model_selection import train_test_split\n",
    "from sklearn import preprocessing"
   ]
  },
  {
   "cell_type": "code",
   "execution_count": 47,
   "outputs": [],
   "source": [
    "digits = datasets.load_digits() # 手写数字数据集\n",
    "X_train, X_test, y_train, y_test = train_test_split(digits.data, digits.target, test_size=0.2)"
   ],
   "metadata": {
    "collapsed": false,
    "pycharm": {
     "name": "#%%\n",
     "is_executing": false
    }
   }
  },
  {
   "cell_type": "code",
   "execution_count": 48,
   "outputs": [
    {
     "data": {
      "text/plain": "StandardScaler(copy=True, with_mean=True, with_std=True)"
     },
     "metadata": {},
     "output_type": "execute_result",
     "execution_count": 48
    }
   ],
   "source": [
    "standardScalar = preprocessing.StandardScaler()\n",
    "standardScalar.fit(X_train) # 参数必须为二维矩阵"
   ],
   "metadata": {
    "collapsed": false,
    "pycharm": {
     "name": "#%%\n",
     "is_executing": false
    }
   }
  },
  {
   "cell_type": "code",
   "execution_count": 49,
   "outputs": [
    {
     "data": {
      "text/plain": "array([0.00000000e+00, 3.04105776e-01, 5.23242867e+00, 1.18295059e+01,\n       1.19192763e+01, 5.79192763e+00, 1.26304802e+00, 9.60334029e-02,\n       5.56715379e-03, 1.95546277e+00, 1.03716075e+01, 1.19707724e+01,\n       1.02595685e+01, 8.23312457e+00, 1.79958246e+00, 9.95128740e-02,\n       3.47947112e-03, 2.55532359e+00, 9.79262352e+00, 6.99304106e+00,\n       7.08350731e+00, 7.82950592e+00, 1.80584551e+00, 5.01043841e-02,\n       6.95894224e-04, 2.45859429e+00, 8.96311761e+00, 8.88169798e+00,\n       9.94850383e+00, 7.52400835e+00, 2.28253305e+00, 2.08768267e-03,\n       0.00000000e+00, 2.26583159e+00, 7.52540014e+00, 9.11899791e+00,\n       1.03966597e+01, 8.77940153e+00, 2.93458594e+00, 0.00000000e+00,\n       1.04384134e-02, 1.56506611e+00, 6.81558803e+00, 7.15727209e+00,\n       7.64718163e+00, 8.33959638e+00, 3.47181628e+00, 2.92275574e-02,\n       9.04662491e-03, 7.27905358e-01, 7.52679193e+00, 9.58942241e+00,\n       9.43075852e+00, 8.84829506e+00, 3.73208072e+00, 1.99025748e-01,\n       6.95894224e-04, 2.85316632e-01, 5.56924148e+00, 1.20584551e+01,\n       1.18315936e+01, 6.80027836e+00, 2.08907446e+00, 3.31941545e-01])"
     },
     "metadata": {},
     "output_type": "execute_result",
     "execution_count": 49
    }
   ],
   "source": [
    "standardScalar.mean_ # 训练数据集的均值"
   ],
   "metadata": {
    "collapsed": false,
    "pycharm": {
     "name": "#%%\n",
     "is_executing": false
    }
   }
  },
  {
   "cell_type": "code",
   "execution_count": 50,
   "outputs": [
    {
     "data": {
      "text/plain": "array([1.        , 0.90928321, 4.77003294, 4.22482547, 4.28106446,\n       5.65000948, 3.15264278, 0.841986  , 0.0912126 , 3.1394353 ,\n       5.43203478, 3.9540482 , 4.74163226, 6.05546753, 3.53039095,\n       0.77933007, 0.06970762, 3.55382627, 5.71183451, 5.76951955,\n       6.17602944, 6.23061944, 3.27862172, 0.44642903, 0.02637063,\n       3.1504588 , 6.25591134, 5.84513005, 6.13636441, 5.85408408,\n       3.66131306, 0.04564345, 1.        , 3.48217974, 6.32974239,\n       6.24943429, 5.87007935, 5.88057145, 3.56955454, 1.        ,\n       0.16012222, 2.97228749, 6.55112812, 6.42923345, 6.23580482,\n       5.66928244, 4.35227714, 0.32391615, 0.22827664, 1.81592181,\n       5.64381276, 5.18024184, 5.32377975, 6.00793539, 4.91400305,\n       0.95736483, 0.02637063, 0.95370215, 5.10545443, 4.35714962,\n       4.90247588, 5.91741352, 4.10022306, 1.76027926])"
     },
     "metadata": {},
     "output_type": "execute_result",
     "execution_count": 50
    }
   ],
   "source": [
    "standardScalar.scale_ # 训练数据集的方差"
   ],
   "metadata": {
    "collapsed": false,
    "pycharm": {
     "name": "#%%\n",
     "is_executing": false
    }
   }
  },
  {
   "cell_type": "code",
   "execution_count": 51,
   "outputs": [],
   "source": [
    "X_train_standard = standardScalar.transform(X_train) # X_train不变\n",
    "X_test_standard = standardScalar.transform(X_test) # 使用测试数据集的均值和方差进行归一化处理"
   ],
   "metadata": {
    "collapsed": false,
    "pycharm": {
     "name": "#%%\n",
     "is_executing": false
    }
   }
  },
  {
   "cell_type": "code",
   "execution_count": 52,
   "outputs": [
    {
     "data": {
      "text/plain": "array([ 0.00000000e+00, -6.59025915e-17, -4.53514903e-17,  3.94411172e-17,\n       -3.16765094e-17,  1.09902036e-16, -1.47488918e-16, -1.16874731e-16,\n        1.08501702e-16, -1.06927534e-16, -7.45846592e-17, -5.40818453e-17,\n        1.73061905e-17,  4.80555826e-17,  2.40895991e-16, -3.40329327e-17,\n        1.47807615e-16,  1.43877023e-16,  9.27117348e-19,  3.81663308e-17,\n        2.05511012e-17, -3.94797471e-17, -4.82347287e-16,  4.35590634e-16,\n       -3.82387619e-17, -1.70512332e-16, -1.54674078e-16, -9.19391370e-17,\n        6.02626276e-17,  1.44514417e-16, -4.59386646e-16,  9.66423261e-17,\n        0.00000000e+00,  4.73988744e-16,  3.36466338e-17,  1.19134579e-16,\n       -1.80787883e-17, -3.06392969e-16,  2.00025568e-16,  0.00000000e+00,\n        3.04789828e-16, -9.83516987e-17, -9.92788161e-17,  3.67756548e-17,\n       -7.72597790e-18,  3.21400681e-17,  1.01036476e-16, -1.67933787e-16,\n        2.37680053e-16,  1.73139165e-16,  9.18618773e-17,  1.08289238e-16,\n       -4.15271312e-17,  1.90561245e-16,  1.29719169e-16,  1.96432988e-16,\n       -6.31516605e-16,  2.43445564e-16,  1.08318210e-16,  3.77315031e-16,\n       -2.50283054e-16,  6.76795664e-17, -9.99741541e-17,  2.34058501e-16])"
     },
     "metadata": {},
     "output_type": "execute_result",
     "execution_count": 52
    }
   ],
   "source": [
    "X_train_standard.mean(axis=0)\n"
   ],
   "metadata": {
    "collapsed": false,
    "pycharm": {
     "name": "#%%\n",
     "is_executing": false
    }
   }
  }
 ],
 "metadata": {
  "kernelspec": {
   "display_name": "Python 3",
   "language": "python",
   "name": "python3"
  },
  "language_info": {
   "codemirror_mode": {
    "name": "ipython",
    "version": 3
   },
   "file_extension": ".py",
   "mimetype": "text/x-python",
   "name": "python",
   "nbconvert_exporter": "python",
   "pygments_lexer": "ipython3",
   "version": "3.7.3"
  },
  "stem_cell": {
   "cell_type": "raw",
   "metadata": {
    "pycharm": {
     "metadata": false
    }
   },
   "source": ""
  }
 },
 "nbformat": 4,
 "nbformat_minor": 1
}