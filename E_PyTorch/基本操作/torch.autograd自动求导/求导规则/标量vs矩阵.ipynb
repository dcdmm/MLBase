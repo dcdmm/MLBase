{
 "cells": [
  {
   "cell_type": "code",
   "execution_count": 5,
   "metadata": {
    "collapsed": true
   },
   "outputs": [],
   "source": [
    "import torch"
   ]
  },
  {
   "cell_type": "markdown",
   "source": [
    "me = $\\frac{1}{24} ( mat[0, 0] + mat[0, 1] + \\cdots + mat[3, 4] + mat[3, 5]) $"
   ],
   "metadata": {
    "collapsed": false,
    "pycharm": {
     "name": "#%% md\n"
    }
   }
  },
  {
   "cell_type": "code",
   "execution_count": 6,
   "outputs": [
    {
     "name": "stdout",
     "output_type": "stream",
     "text": [
      "tensor([[0.0417, 0.0417, 0.0417, 0.0417, 0.0417, 0.0417],\n",
      "        [0.0417, 0.0417, 0.0417, 0.0417, 0.0417, 0.0417],\n",
      "        [0.0417, 0.0417, 0.0417, 0.0417, 0.0417, 0.0417],\n",
      "        [0.0417, 0.0417, 0.0417, 0.0417, 0.0417, 0.0417]])\n"
     ]
    }
   ],
   "source": [
    "mat = torch.arange(24, dtype=torch.float32).reshape(4, 6) # mat为矩阵\n",
    "mat.requires_grad_(True)\n",
    "me = mat.mean()\n",
    "me.backward() # me对mat每个元素分别进行求导\n",
    "print(mat.grad)"
   ],
   "metadata": {
    "collapsed": false,
    "pycharm": {
     "name": "#%%\n"
    }
   }
  },
  {
   "cell_type": "markdown",
   "source": [
    "$ \\mathbf{a} $ and $ \\mathbf{b} $ are not functions of $ X $,$$ \\frac{\\partial \\mathbf{a}^T X \\mathbf{b}}{\\partial X} = \\mathbf{b} \\mathbf{a}^T$$"
   ],
   "metadata": {
    "collapsed": false,
    "pycharm": {
     "name": "#%% md\n"
    }
   }
  },
  {
   "cell_type": "code",
   "execution_count": 7,
   "outputs": [
    {
     "name": "stdout",
     "output_type": "stream",
     "text": [
      "tensor([[1., 2., 3., 4.],\n",
      "        [2., 4., 6., 8.]])\n"
     ]
    }
   ],
   "source": [
    "mat0 = torch.arange(8, dtype=torch.float32).reshape(2, 4)\n",
    "mat0.requires_grad_(True)\n",
    "a_t = torch.tensor([[1., 2.]], requires_grad=True)\n",
    "b = torch.tensor([[1.],\n",
    "                  [2.],\n",
    "                  [3.],\n",
    "                  [4.]])\n",
    "\n",
    "me0 = a_t @ mat0 @ b\n",
    "me0.backward() # 分母布局\n",
    "print(mat0.grad) # 与mat0同型"
   ],
   "metadata": {
    "collapsed": false,
    "pycharm": {
     "name": "#%%\n"
    }
   }
  },
  {
   "cell_type": "code",
   "execution_count": 8,
   "outputs": [
    {
     "data": {
      "text/plain": "tensor([[1., 2., 3., 4.],\n        [2., 4., 6., 8.]], grad_fn=<PermuteBackward>)"
     },
     "execution_count": 8,
     "metadata": {},
     "output_type": "execute_result"
    }
   ],
   "source": [
    "(b @ a_t).T # 分子布局转置即得分母布局"
   ],
   "metadata": {
    "collapsed": false,
    "pycharm": {
     "name": "#%%\n"
    }
   }
  },
  {
   "cell_type": "code",
   "execution_count": 8,
   "outputs": [],
   "source": [
    "\n"
   ],
   "metadata": {
    "collapsed": false,
    "pycharm": {
     "name": "#%%\n"
    }
   }
  }
 ],
 "metadata": {
  "kernelspec": {
   "display_name": "Python 3",
   "language": "python",
   "name": "python3"
  },
  "language_info": {
   "codemirror_mode": {
    "name": "ipython",
    "version": 2
   },
   "file_extension": ".py",
   "mimetype": "text/x-python",
   "name": "python",
   "nbconvert_exporter": "python",
   "pygments_lexer": "ipython2",
   "version": "2.7.6"
  }
 },
 "nbformat": 4,
 "nbformat_minor": 0
}