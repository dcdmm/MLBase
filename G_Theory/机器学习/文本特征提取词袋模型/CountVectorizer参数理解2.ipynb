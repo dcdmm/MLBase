{
 "cells": [
  {
   "cell_type": "code",
   "execution_count": 29,
   "metadata": {
    "collapsed": true
   },
   "outputs": [],
   "source": [
    "from sklearn.feature_extraction.text import CountVectorizer"
   ]
  },
  {
   "cell_type": "code",
   "execution_count": 30,
   "outputs": [],
   "source": [
    "def my_preprecessos(document):\n",
    "    \"\"\"自定义的CountVectorizer的预处理函数\"\"\"\n",
    "    document = document.lower()\n",
    "    document = document.replace('and', \"\")\n",
    "    document = document.replace('at', \"\")\n",
    "    document = document.replace('has', \"\")\n",
    "    document = document.replace('of', \"\")\n",
    "    document = document.replace('be', \"\")\n",
    "    return document"
   ],
   "metadata": {
    "collapsed": false,
    "pycharm": {
     "name": "#%%\n"
    }
   }
  },
  {
   "cell_type": "code",
   "execution_count": 31,
   "outputs": [],
   "source": [
    "vectorizer = CountVectorizer(preprocessor=my_preprecessos)  # 是否使用自定义的预处理函数来代替sklearn的预处理函数\n",
    "with open('data.txt', 'r', encoding='utf-8') as f:\n",
    "    a = f.readlines()\n",
    "\n",
    "X = vectorizer.fit_transform(a)"
   ],
   "metadata": {
    "collapsed": false,
    "pycharm": {
     "name": "#%%\n"
    }
   }
  },
  {
   "cell_type": "code",
   "execution_count": 32,
   "outputs": [
    {
     "data": {
      "text/plain": "{'age': 3,\n 'reached': 129,\n 'the': 157,\n 'end': 47,\n 'ginning': 58,\n 'word': 184,\n 'may': 96,\n 'guilty': 65,\n 'in': 76,\n 'his': 71,\n 'seems': 137,\n 'to': 169,\n 'passing': 119,\n 'lot': 93,\n 'different': 38,\n 'life': 89,\n 'came': 20,\n 'appearance': 10,\n 'same': 134,\n 'day': 32,\n 'back': 14,\n 'past': 120,\n 'oneself': 111,\n 'paranoid': 117,\n 'weird': 179,\n 'lief': 88,\n 'disillusionment': 39,\n 'these': 160,\n 'days': 33,\n 'my': 104,\n 'mind': 99,\n 'en': 45,\n 'very': 175,\n 'messy': 98,\n 'constantly': 26,\n 'always': 8,\n 'feel': 50,\n 'should': 144,\n 'go': 60,\n 'do': 41,\n 'something': 147,\n 'or': 113,\n 'write': 185,\n 'twenty': 171,\n 'years': 188,\n 'trajectory': 170,\n 'deeply': 36,\n 'shallow': 141,\n 'suddenly': 153,\n 'it': 83,\n 'during': 44,\n 'childhood': 22,\n 'think': 162,\n 'lucky': 95,\n 'money': 102,\n 'new': 106,\n 'clothes': 25,\n 'are': 11,\n 'necessary': 105,\n 'for': 53,\n 'year': 187,\n 'but': 19,\n 'as': 13,\n 'advance': 0,\n 'will': 183,\n 'more': 103,\n 'found': 54,\n 'th': 156,\n 'those': 163,\n 'things': 161,\n 'optional': 112,\n 'junior': 84,\n 'high': 69,\n 'school': 135,\n 'thought': 164,\n 'have': 66,\n 'crush': 30,\n 'on': 109,\n 'just': 85,\n 'means': 97,\n 'real': 130,\n 'growth': 64,\n 'over': 116,\n 'three': 165,\n 'ler': 87,\n 'writing': 186,\n 'alumni': 7,\n 'peace': 121,\n 'isn': 82,\n 'really': 131,\n 'grow': 63,\n 'up': 172,\n 'is': 81,\n 'not': 107,\n 'so': 146,\n 'important': 75,\n 'then': 158,\n 'don': 42,\n 'want': 177,\n 'give': 59,\n 'vent': 174,\n 'out': 115,\n 'your': 189,\n 'inner': 79,\n 'voice': 176,\n 'can': 21,\n 'children': 23,\n 'feelings': 51,\n 'period': 122,\n 'was': 178,\n 'eventually': 48,\n 'infarction': 77,\n 'when': 181,\n 'graduion': 61,\n 'party': 118,\n 'thro': 166,\n 'again': 2,\n 'stood': 152,\n 'pitch': 124,\n 'he': 68,\n 'swe': 154,\n 'prusely': 127,\n 'looked': 92,\n 'thrown': 167,\n 'basketball': 16,\n 'hoops': 72,\n 'himself': 70,\n 'already': 5,\n 'rememr': 132,\n 'person': 123,\n 'time': 168,\n 'ideas': 73,\n 'special': 148,\n 'clear': 24,\n 'line': 91,\n 'if': 74,\n 'nothing': 108,\n 'could': 28,\n 'shake': 140,\n 'also': 6,\n 'once': 110,\n 'seemed': 136,\n 'determined': 37,\n 'ten': 155,\n 'backed': 15,\n 'last': 86,\n 'dislike': 40,\n 'cowardice': 29,\n 'finally': 52,\n 'there': 159,\n 'love': 94,\n 'miss': 100,\n 'like': 90,\n 'shadow': 139,\n 'doomed': 43,\n 'who': 182,\n 'green': 62,\n 'an': 9,\n 'arm': 12,\n 'injection': 78,\n 'self': 138,\n 'righteous': 133,\n 'spiritual': 149,\n 'moment': 101,\n 'sky': 145,\n 'dark': 31,\n 'air': 4,\n 'fresh': 55,\n 'factor': 49,\n 'after': 1,\n 'rained': 128,\n 'blue': 17,\n 'plaid': 125,\n 'shirt': 143,\n 'were': 180,\n 'broken': 18,\n 'into': 80,\n 'various': 173,\n 'shapes': 142,\n 'stionery': 151,\n 'from': 57,\n 'corner': 27,\n 'deep': 35,\n 'friendship': 56,\n 'declared': 34,\n 'encounter': 46,\n 'haven': 67,\n 'start': 150,\n 'planning': 126,\n 'youth': 190,\n 'our': 114}"
     },
     "execution_count": 32,
     "metadata": {},
     "output_type": "execute_result"
    }
   ],
   "source": [
    "vectorizer.vocabulary_"
   ],
   "metadata": {
    "collapsed": false,
    "pycharm": {
     "name": "#%%\n"
    }
   }
  }
 ],
 "metadata": {
  "kernelspec": {
   "display_name": "Python 3",
   "language": "python",
   "name": "python3"
  },
  "language_info": {
   "codemirror_mode": {
    "name": "ipython",
    "version": 2
   },
   "file_extension": ".py",
   "mimetype": "text/x-python",
   "name": "python",
   "nbconvert_exporter": "python",
   "pygments_lexer": "ipython2",
   "version": "2.7.6"
  }
 },
 "nbformat": 4,
 "nbformat_minor": 0
}