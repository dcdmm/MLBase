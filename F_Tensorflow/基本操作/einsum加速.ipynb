{
 "cells": [
  {
   "cell_type": "code",
   "execution_count": 53,
   "outputs": [],
   "source": [
    "import tensorflow as tf"
   ],
   "metadata": {
    "collapsed": false,
    "pycharm": {
     "name": "#%%\n"
    }
   }
  },
  {
   "cell_type": "markdown",
   "source": [
    "### 参考numpy.einsum"
   ],
   "metadata": {
    "collapsed": false,
    "pycharm": {
     "name": "#%% md\n"
    }
   }
  },
  {
   "cell_type": "code",
   "execution_count": 54,
   "outputs": [
    {
     "data": {
      "text/plain": "<tf.Tensor: shape=(5, 5), dtype=int32, numpy=\narray([[ 0,  1,  2,  3,  4],\n       [ 5,  6,  7,  8,  9],\n       [10, 11, 12, 13, 14],\n       [15, 16, 17, 18, 19],\n       [20, 21, 22, 23, 24]])>"
     },
     "execution_count": 54,
     "metadata": {},
     "output_type": "execute_result"
    }
   ],
   "source": [
    "A = tf.reshape(tf.range(25), (5, 5))\n",
    "A"
   ],
   "metadata": {
    "collapsed": false,
    "pycharm": {
     "name": "#%%\n"
    }
   }
  },
  {
   "cell_type": "code",
   "execution_count": 55,
   "outputs": [
    {
     "data": {
      "text/plain": "<tf.Tensor: shape=(), dtype=int32, numpy=300>"
     },
     "execution_count": 55,
     "metadata": {},
     "output_type": "execute_result"
    }
   ],
   "source": [
    "# 全部元素求和\n",
    "tf.einsum('ij->', A) # \\sum_{i,j} A_{i,j}"
   ],
   "metadata": {
    "collapsed": false,
    "pycharm": {
     "name": "#%%\n"
    }
   }
  },
  {
   "cell_type": "code",
   "execution_count": 56,
   "outputs": [
    {
     "data": {
      "text/plain": "<tf.Tensor: shape=(), dtype=int32, numpy=60>"
     },
     "execution_count": 56,
     "metadata": {},
     "output_type": "execute_result"
    }
   ],
   "source": [
    "# 矩阵的迹\n",
    "# \\sum_{i,j} A_{i,i}\n",
    "# 即:\\sum_{i} A_{i,j}\n",
    "tf.einsum('ii->', A)"
   ],
   "metadata": {
    "collapsed": false,
    "pycharm": {
     "name": "#%%\n"
    }
   }
  },
  {
   "cell_type": "code",
   "execution_count": 57,
   "outputs": [
    {
     "data": {
      "text/plain": "<tf.Tensor: shape=(5,), dtype=int32, numpy=array([ 10,  35,  60,  85, 110])>"
     },
     "execution_count": 57,
     "metadata": {},
     "output_type": "execute_result"
    }
   ],
   "source": [
    "# 某一维度求和\n",
    "# \\sum_j A_{i=0,j}, \\sum_j A_{i=1,j}, \\sum_j A_{i=2,j}, ......\n",
    "tf.einsum('ij->i', A)  # 保留维度i"
   ],
   "metadata": {
    "collapsed": false,
    "pycharm": {
     "name": "#%%\n"
    }
   }
  },
  {
   "cell_type": "code",
   "execution_count": 58,
   "outputs": [
    {
     "data": {
      "text/plain": "<tf.Tensor: shape=(5,), dtype=int32, numpy=array([ 0,  6, 12, 18, 24])>"
     },
     "execution_count": 58,
     "metadata": {},
     "output_type": "execute_result"
    }
   ],
   "source": [
    "# 提取对角线\n",
    "# \\sum_{j} A_{i,i}\n",
    "# 即:A_{0,0}, A_{1,1}, A_{2,2}, ......\n",
    "tf.einsum('ii->i', A)"
   ],
   "metadata": {
    "collapsed": false,
    "pycharm": {
     "name": "#%%\n"
    }
   }
  },
  {
   "cell_type": "code",
   "execution_count": 59,
   "outputs": [
    {
     "data": {
      "text/plain": "<tf.Tensor: shape=(5, 5), dtype=int32, numpy=\narray([[ 0,  5, 10, 15, 20],\n       [ 1,  6, 11, 16, 21],\n       [ 2,  7, 12, 17, 22],\n       [ 3,  8, 13, 18, 23],\n       [ 4,  9, 14, 19, 24]])>"
     },
     "execution_count": 59,
     "metadata": {},
     "output_type": "execute_result"
    }
   ],
   "source": [
    "# 转置\n",
    "# B_{i,j} = A_{j, i}\n",
    "B = tf.einsum('ij->ji', A)\n",
    "B"
   ],
   "metadata": {
    "collapsed": false,
    "pycharm": {
     "name": "#%%\n"
    }
   }
  },
  {
   "cell_type": "code",
   "execution_count": 60,
   "outputs": [
    {
     "name": "stdout",
     "output_type": "stream",
     "text": [
      "[0 1 2 3 4]\r\n",
      "[0 1 2 3 4]\r\n",
      "30\r\n"
     ]
    }
   ],
   "source": [
    "x = tf.range(5)\n",
    "y = tf.range(5)\n",
    "tf.print(x)\n",
    "tf.print(y)\n",
    "\n",
    "# 向量内积\n",
    "tf.print(tf.einsum('i,i->', x, y))  # \\sum_i x_i y_i"
   ],
   "metadata": {
    "collapsed": false,
    "pycharm": {
     "name": "#%%\n"
    }
   }
  },
  {
   "cell_type": "code",
   "execution_count": 61,
   "outputs": [
    {
     "name": "stdout",
     "output_type": "stream",
     "text": [
      "[0 1 2 3 4]\r\n",
      "[0 1 2 3]\r\n",
      "[[0 0 0 0]\n",
      " [0 1 2 3]\n",
      " [0 2 4 6]\n",
      " [0 3 6 9]\n",
      " [0 4 8 12]]\r\n"
     ]
    }
   ],
   "source": [
    "x = tf.range(5)\n",
    "y = tf.range(4)\n",
    "tf.print(x)\n",
    "tf.print(y)\n",
    "\n",
    "# 向量外积\n",
    "c = tf.einsum('i,j->ij', x, y)  # c_{ij} = x_i * y_j\n",
    "tf.print(c)"
   ],
   "metadata": {
    "collapsed": false,
    "pycharm": {
     "name": "#%%\n"
    }
   }
  },
  {
   "cell_type": "code",
   "execution_count": 62,
   "outputs": [
    {
     "name": "stdout",
     "output_type": "stream",
     "text": [
      "[[0 1 2]\n",
      " [3 4 5]\n",
      " [6 7 8]]\r\n",
      "[0 1 2]\r\n",
      "42\r\n",
      "[5 14 23]\r\n",
      "[0 12 30]\r\n"
     ]
    }
   ],
   "source": [
    "A = tf.reshape(tf.range(9), (3, 3))\n",
    "b = tf.range(3)\n",
    "tf.print(A)\n",
    "tf.print(b)\n",
    "\n",
    "# \\sum_{i,j} A_{i,j} * b_{j}\n",
    "tf.print(tf.einsum('ij,j->', A, b))\n",
    "\n",
    "# \\sum_j A_{i=0,j} * b_j, \\sum_j A_{i=1,j} * b_j, \\sum_j A_{i=2,j} * b_j, ......\n",
    "tf.print(tf.einsum('ij,j->i', A, b))\n",
    "\n",
    "# \\sum_i A_{i,j=0} * b_j, \\sum_i A_{i,j=1} * b_j, \\sum_i A_{i,j=2} * b_j, ......\n",
    "tf.print(tf.einsum('ij,j->j', A, b))"
   ],
   "metadata": {
    "collapsed": false,
    "pycharm": {
     "name": "#%%\n"
    }
   }
  },
  {
   "cell_type": "code",
   "execution_count": 63,
   "outputs": [
    {
     "name": "stdout",
     "output_type": "stream",
     "text": [
      "[[0 1 2]\n",
      " [3 4 5]]\r\n",
      "[[0 1]\n",
      " [2 3]\n",
      " [4 5]]\r\n",
      "[[10 13]\n",
      " [28 40]]\r\n"
     ]
    }
   ],
   "source": [
    "a = tf.reshape(tf.range(0, 6), (2, 3))\n",
    "b = tf.reshape(tf.range(0, 6), (3, 2))\n",
    "tf.print(a)\n",
    "tf.print(b)\n",
    "\n",
    "# 矩阵乘法\n",
    "c = tf.einsum('ik,kj->ij', a, b)\n",
    "tf.print(c)"
   ],
   "metadata": {
    "collapsed": false,
    "pycharm": {
     "name": "#%%\n"
    }
   }
  },
  {
   "cell_type": "code",
   "execution_count": 64,
   "outputs": [
    {
     "name": "stdout",
     "output_type": "stream",
     "text": [
      "[[0 1 2]\n",
      " [3 4 5]]\r\n",
      "[[1 2 3]\n",
      " [4 5 6]]\r\n",
      "[[0 2 6]\n",
      " [12 20 30]]\r\n",
      "70\r\n"
     ]
    }
   ],
   "source": [
    "a = tf.reshape(tf.range(0, 6), (2, 3))\n",
    "b = tf.reshape(tf.range(1, 7), (2, 3))\n",
    "tf.print(a)\n",
    "tf.print(b)\n",
    "\n",
    "# 矩阵对应元素相乘\n",
    "c0 = tf.einsum('ij,ij->ij', a, b)\n",
    "tf.print(c0)\n",
    "\n",
    "# 矩阵对应元素相乘并求和\n",
    "c1 = tf.einsum('ij,ij->', a, b)\n",
    "tf.print(c1)"
   ],
   "metadata": {
    "collapsed": false,
    "pycharm": {
     "name": "#%%\n"
    }
   }
  },
  {
   "cell_type": "code",
   "execution_count": 65,
   "outputs": [
    {
     "name": "stdout",
     "output_type": "stream",
     "text": [
      "[[[0 1 2 3]\n",
      "  [4 5 6 7]\n",
      "  [8 9 10 11]]\n",
      "\n",
      " [[12 13 14 15]\n",
      "  [16 17 18 19]\n",
      "  [20 21 22 23]]]\r\n",
      "[[[0 12 24]\n",
      "  [45 60 75]\n",
      "  [108 126 144]\n",
      "  [189 210 231]]\n",
      "\n",
      " [[576 624 672]\n",
      "  [765 816 867]\n",
      "  [972 1026 1080]\n",
      "  [1197 1254 1311]]]\r\n"
     ]
    }
   ],
   "source": [
    "ba = tf.reshape(tf.range(0, 24), (2, 3, 4))\n",
    "bb = tf.reshape(tf.range(0, 24), (2, 4, 3))\n",
    "tf.print(ba)\n",
    "\n",
    "# 批量矩阵乘法\n",
    "bc = tf.einsum('bij,bjk->bjk', ba, bb)\n",
    "# bc = tf.einsum('...ij,...jk->...jk', ba, bb)  # 与上等价(前面或后面任意个维度可用 ... 代替)\n",
    "tf.print(bc)"
   ],
   "metadata": {
    "collapsed": false,
    "pycharm": {
     "name": "#%%\n"
    }
   }
  },
  {
   "cell_type": "code",
   "execution_count": 66,
   "outputs": [
    {
     "data": {
      "text/plain": "TensorShape([2, 3, 5, 4])"
     },
     "execution_count": 66,
     "metadata": {},
     "output_type": "execute_result"
    }
   ],
   "source": [
    "# 批量转置\n",
    "ba = tf.reshape(tf.range(0, 120), (2, 3, 4, 5))\n",
    "tf.einsum('...ij->...ji', ba).shape  # 最后两个维度转置\n",
    "# tf.einsum('mnij->mnji', ba)  # 与上等价"
   ],
   "metadata": {
    "collapsed": false,
    "pycharm": {
     "name": "#%%\n"
    }
   }
  }
 ],
 "metadata": {
  "kernelspec": {
   "display_name": "Python 3",
   "language": "python",
   "name": "python3"
  },
  "language_info": {
   "codemirror_mode": {
    "name": "ipython",
    "version": 2
   },
   "file_extension": ".py",
   "mimetype": "text/x-python",
   "name": "python",
   "nbconvert_exporter": "python",
   "pygments_lexer": "ipython2",
   "version": "2.7.6"
  }
 },
 "nbformat": 4,
 "nbformat_minor": 0
}