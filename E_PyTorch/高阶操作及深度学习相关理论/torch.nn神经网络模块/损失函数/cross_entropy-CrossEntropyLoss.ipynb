{
 "cells": [
  {
   "cell_type": "markdown",
   "metadata": {
    "collapsed": true,
    "pycharm": {
     "name": "#%% md\n"
    }
   },
   "source": [
    "$$ loss(\\mathbf{x},\\operatorname{class} ) = \\log \\left(\\frac{\\exp (\\mathbf{x}[\\operatorname{class}])}{\\sum_{j} \\exp (\\mathbf{x}[j])}\\right)=-\\mathbf{x}[\\text { class }]+\\log \\left(\\sum_{j} \\exp (\\mathbf{x}[j])\\right) \\quad \\quad \\text{class编码方式为独热编码} $$\n",
    "\n",
    "$$ \\frac{\\partial loss(\\mathbf{x},\\operatorname{class} )}{\\partial \\mathbf{x}}  = \\operatorname{Softmax} (\\mathbf{x}) - \\boldsymbol{1}[\\text { class }]$$\n",
    "\n",
    "* Input: $(N, C)$(where $C$ = number of classes\n",
    "* Target: $(N) $ where each value is $ 0 \\leq \\text{targets}[i] \\leq C $"
   ]
  },
  {
   "cell_type": "code",
   "execution_count": 13,
   "outputs": [],
   "source": [
    "import torch\n",
    "import torch.nn.functional as F\n",
    "import torch.nn as nn"
   ],
   "metadata": {
    "collapsed": false,
    "pycharm": {
     "name": "#%%\n"
    }
   }
  },
  {
   "cell_type": "code",
   "execution_count": 14,
   "outputs": [
    {
     "data": {
      "text/plain": "tensor([[ 0.,  1.,  2.],\n        [ 3.,  4.,  5.],\n        [ 6.,  7.,  8.],\n        [ 9., 10., 11.]])"
     },
     "execution_count": 14,
     "metadata": {},
     "output_type": "execute_result"
    }
   ],
   "source": [
    "x_input = torch.arange(12, dtype=torch.float32).reshape(4, 3)\n",
    "y_target = torch.tensor([1, 2, 0, 2])\n",
    "x_input"
   ],
   "metadata": {
    "collapsed": false,
    "pycharm": {
     "name": "#%%\n"
    }
   }
  },
  {
   "cell_type": "code",
   "execution_count": 15,
   "outputs": [
    {
     "data": {
      "text/plain": "tensor(1.1576)"
     },
     "execution_count": 15,
     "metadata": {},
     "output_type": "execute_result"
    }
   ],
   "source": [
    "F.cross_entropy(x_input, y_target)"
   ],
   "metadata": {
    "collapsed": false,
    "pycharm": {
     "name": "#%%\n"
    }
   }
  },
  {
   "cell_type": "code",
   "execution_count": 16,
   "outputs": [
    {
     "data": {
      "text/plain": "tensor(1.1576)"
     },
     "execution_count": 16,
     "metadata": {},
     "output_type": "execute_result"
    }
   ],
   "source": [
    "nn.CrossEntropyLoss()(x_input, y_target)"
   ],
   "metadata": {
    "collapsed": false,
    "pycharm": {
     "name": "#%%\n"
    }
   }
  },
  {
   "cell_type": "code",
   "execution_count": 17,
   "outputs": [
    {
     "data": {
      "text/plain": "tensor([1.4076, 0.4076, 2.4076, 0.4076])"
     },
     "execution_count": 17,
     "metadata": {},
     "output_type": "execute_result"
    }
   ],
   "source": [
    "nn.CrossEntropyLoss(reduction='none')(x_input, y_target)"
   ],
   "metadata": {
    "collapsed": false,
    "pycharm": {
     "name": "#%%\n"
    }
   }
  },
  {
   "cell_type": "code",
   "execution_count": 18,
   "outputs": [
    {
     "data": {
      "text/plain": "tensor([1.4076, 0.4076, 0.0000, 0.4076])"
     },
     "execution_count": 18,
     "metadata": {},
     "output_type": "execute_result"
    }
   ],
   "source": [
    "# target为0的损失直接为0(NLP任务中可指定ignore_index填充项)\n",
    "nn.CrossEntropyLoss(reduction='none', ignore_index=0)(x_input,\n",
    "                                                      y_target)  # Specifies a target value that is ignored and does not contribute to the input gradient"
   ],
   "metadata": {
    "collapsed": false,
    "pycharm": {
     "name": "#%%\n"
    }
   }
  },
  {
   "cell_type": "markdown",
   "source": [
    "上式计算步骤如下"
   ],
   "metadata": {
    "collapsed": false,
    "pycharm": {
     "name": "#%% md\n"
    }
   }
  },
  {
   "cell_type": "code",
   "execution_count": 19,
   "outputs": [
    {
     "data": {
      "text/plain": "tensor([[-2.4076, -1.4076, -0.4076],\n        [-2.4076, -1.4076, -0.4076],\n        [-2.4076, -1.4076, -0.4076],\n        [-2.4076, -1.4076, -0.4076]])"
     },
     "execution_count": 19,
     "metadata": {},
     "output_type": "execute_result"
    }
   ],
   "source": [
    "logsoftmax_output = F.log_softmax(x_input, dim=1)  # 注意:dim=1\n",
    "logsoftmax_output"
   ],
   "metadata": {
    "collapsed": false,
    "pycharm": {
     "name": "#%%\n"
    }
   }
  },
  {
   "cell_type": "code",
   "execution_count": 20,
   "outputs": [
    {
     "name": "stdout",
     "output_type": "stream",
     "text": [
      "tensor(1.1576)\n"
     ]
    }
   ],
   "source": [
    "nlloss_output = F.nll_loss(logsoftmax_output, y_target)\n",
    "print(nlloss_output)"
   ],
   "metadata": {
    "collapsed": false,
    "pycharm": {
     "name": "#%%\n"
    }
   }
  },
  {
   "cell_type": "code",
   "execution_count": null,
   "outputs": [],
   "source": [],
   "metadata": {
    "collapsed": false,
    "pycharm": {
     "name": "#%%\n"
    }
   }
  }
 ],
 "metadata": {
  "kernelspec": {
   "display_name": "Python 3",
   "language": "python",
   "name": "python3"
  },
  "language_info": {
   "codemirror_mode": {
    "name": "ipython",
    "version": 2
   },
   "file_extension": ".py",
   "mimetype": "text/x-python",
   "name": "python",
   "nbconvert_exporter": "python",
   "pygments_lexer": "ipython2",
   "version": "2.7.6"
  }
 },
 "nbformat": 4,
 "nbformat_minor": 0
}