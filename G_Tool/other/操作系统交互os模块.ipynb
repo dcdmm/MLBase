{
 "cells": [
  {
   "cell_type": "markdown",
   "metadata": {
    "pycharm": {
     "name": "#%% md\n"
    }
   },
   "source": [
    "<font color='red' size=4><center>os模块中关于文件/目录常用的函数使用方法</center></font>\n",
    "\n",
    "| 函数名 | 使用方法 |\n",
    "| :---: | :---: |\n",
    "| getcwd() | 返回当前工作目录 |\n",
    "|os.chmod(path, mode) |更改权限|\n",
    "| chdir(path) | 改变当前工作目录 |\n",
    "| listdir(path='.') | 返回path指定的文件夹包含的文件或文件夹的名字的列表(不递归)('.'表示当前目录，'..'表示上一级目录) |\n",
    "| mkdir(path) | 创建单层目录，如该目录已存在抛出异常 |\n",
    "| makedirs(path) | 递归创建多层目录，如该目录已存在抛出异常，注意：'E:\\\\\\a\\\\\\b'和'E:\\\\\\a\\\\\\c'并不会冲突 |\n",
    "| remove(path) | 删除路径为path的文件 |\n",
    "| rmdir(path) | 删除path指定的空目录，如该目录非空则抛出异常 |\n",
    "| removedirs(path) | 递归删除目录，从子目录到父目录逐层尝试删除，遇到目录非空则抛出异常 |\n",
    "| rename(old, new) | 将文件old重命名为new |\n",
    "| system(command) | 运行系统的shell命令 |\n",
    "| walk(top) | 遍历top路径以下所有的子目录，返回一个三元组：(dirpath, dirnames, filenames) |\n",
    "\n",
    "\n",
    "</br>\n",
    "</br>\n",
    "<font color='red' size=4><center>以下是支持路径操作中常用到的一些定义，支持所有平台</center></font> \n",
    "\n",
    "| os.curdir | 指代当前目录('.') |\n",
    "| :---: | :---: |\n",
    "| os.pardir | 指代上一级目录('..') |\n",
    "| os.sep | 输出操作系统特定的路径分隔符(Win下为'\\\\\\'，Linux下为'/') |\n",
    "| os.linesep | 当前平台使用的行终止符(Win下为'\\\\r\\\\n'，Linux下为'\\\\n') |\n",
    "| os.name | 指代当前使用的操作系统(包括：'posix', 'nt', 'mac', 'os2', 'ce', 'java') |\n",
    "| os.pathsep | 用于分割文件路径的字符串 |\n",
    "\n",
    "\n",
    "</br>\n",
    "</br>\n",
    "<table>\n",
    "\t<caption><font color=\"red\" size=4>os.path常用方法</font></caption>\n",
    "\t<tr align=\"center\">\n",
    "\t\t<th>函数名</th>\n",
    "\t\t<th>使用方法</th>\n",
    "\t</tr>\n",
    "\t<tr align=\"center\">\n",
    "\t\t<td>basename(path)</td>\n",
    "\t\t<td>去掉目录路径，单独返回文件名</td>\n",
    "\t</tr>\n",
    "\t<tr align=\"center\">\n",
    "\t\t<td>dirname(path)</td>\n",
    "\t\t<td>去掉文件名，单独返回目录路径</td>\n",
    "\t</tr>\n",
    "\t<tr align=\"center\">\n",
    "\t\t<td>join(path1[, path2[, ...]])</td>\n",
    "\t\t<td>将path1, path2[, ...]各部分组合成一个路径名</td>\n",
    "\t</tr>\n",
    "\t<tr align=\"center\">\n",
    "\t\t<td>split(path)</td>\n",
    "\t\t<td>分割文件名与路径，返回(f_path, f_name)元组。如果分割对象为目录，它也会将最后一个目录作为文件名分离，且不会判断文件或者目录是否存在</td>\n",
    "\t</tr>\n",
    "\t<tr align=\"center\">\n",
    "\t\t<td>splitext(path)</td>\n",
    "\t\t<td>分离文件名与扩展名，返回(f_name, f_extension)元组</td>\n",
    "\t</tr>\n",
    "\t<tr align=\"center\">\n",
    "\t\t<td>getsize(file)</td>\n",
    "\t\t<td>返回指定文件的尺寸，单位是字节</td>\n",
    "\t</tr>\n",
    "\t<tr align=\"center\">\n",
    "\t\t<td>getatime(file)</td>\n",
    "\t\t<td>返回指定文件最近的访问时间（浮点型秒数，可用time模块的gmtime()或localtime()函数换算）</td>\n",
    "\t</tr>\n",
    "\t<tr align=\"center\">\n",
    "\t\t<td>getctime(file)</td>\n",
    "\t\t<td>返回指定文件的创建时间（浮点型秒数，可用time模块的gmtime()或localtime()函数换算）</td>\n",
    "\t</tr>\n",
    "\t<tr align=\"center\">\n",
    "\t\t<td>getmtime(file)</td>\n",
    "\t\t<td>返回指定文件最新的修改时间（浮点型秒数，可用time模块的gmtime()或localtime()函数换算）</td>\n",
    "\t</tr>\n",
    "\t<tr align=\"center\">\n",
    "\t\t<td>abspath(file)</td>\n",
    "\t\t<td>返回一个文件或者目录的规范化的绝对路径</td>\n",
    "\t</tr>\n",
    "\t<tr align=\"center\">\n",
    "\t\t<td colspan=2><center>以下为函数返回 True 或 False</center></td>\n",
    "\t</tr>\n",
    "\t<tr align=\"center\">\n",
    "\t\t<td>exists(path)</td>\n",
    "\t\t<td>判断指定路径（目录或文件）是否存在</td>\n",
    "\t</tr>\n",
    "\t<tr align=\"center\">\n",
    "\t\t<td>isabs(path)</td>\n",
    "\t\t<td>判断指定路径是否为绝对路径</td>\n",
    "\t</tr>\n",
    "\t<tr align=\"center\">\n",
    "\t\t<td>isdir(path)</td>\n",
    "\t\t<td>判断指定路径是否存在且是一个目录</td>\n",
    "\t</tr>\n",
    "\t<tr align=\"center\">\n",
    "\t\t<td>isfile(path)</td>\n",
    "\t\t<td>判断指定路径是否存在且是一个文件</td>\n",
    "\t</tr>\n",
    "\t<tr align=\"center\">\n",
    "\t\t<td>islink(path)</td>\n",
    "\t\t<td>判断指定路径是否存在且是一个符号链接</td>\n",
    "\t</tr>\n",
    "\t<tr align=\"center\">\n",
    "\t\t<td>ismount(path)</td>\n",
    "\t\t<td>判断指定路径是否存在且是一个挂载点</td>\n",
    "\t</tr>\n",
    "\t<tr align=\"center\">\n",
    "\t\t<td>samefile(path1, paht2)</td>\n",
    "\t\t<td>判断path1和path2两个路径是否指向同一个文件</td>\n",
    "\t</tr>\n",
    "</table>\n"
   ]
  },
  {
   "cell_type": "code",
   "execution_count": 12,
   "metadata": {
    "pycharm": {
     "metadata": false,
     "name": "#%% \n"
    }
   },
   "outputs": [],
   "source": [
    "import os"
   ]
  },
  {
   "cell_type": "code",
   "execution_count": 13,
   "metadata": {},
   "outputs": [
    {
     "data": {
      "text/plain": "'C:\\\\Users\\\\dcdmm\\\\Music\\\\GitHubProjects\\\\MLNote\\\\G_Tool\\\\other\\\\G_Tool\\\\other\\\\操作系统交互os模块.ipynb'"
     },
     "execution_count": 13,
     "metadata": {},
     "output_type": "execute_result"
    }
   ],
   "source": [
    "from notebook import notebookapp\n",
    "import ipykernel\n",
    "import requests\n",
    "from requests import exceptions\n",
    "\n",
    "\n",
    "def ipynb_abspath():\n",
    "    \"\"\"当前*.ipynb文件的绝对路径\"\"\"\n",
    "    connection_file = os.path.basename(ipykernel.get_connection_file())\n",
    "    for srv in notebookapp.list_running_servers():\n",
    "        try:\n",
    "            sessions = requests.get(\n",
    "                f\"{srv['url']}api/sessions?token={srv['token']}\").json()\n",
    "            if not isinstance(sessions, list):\n",
    "                continue\n",
    "            for sess in sessions:\n",
    "                if sess['kernel']['id'] in connection_file:\n",
    "                    return os.path.abspath(sess['notebook']['path'])\n",
    "        except exceptions.HTTPError as e:\n",
    "            print(e)\n",
    "\n",
    "\n",
    "ipynb_abspath()"
   ]
  },
  {
   "cell_type": "code",
   "execution_count": 14,
   "metadata": {
    "pycharm": {
     "name": "#%%\n"
    }
   },
   "outputs": [
    {
     "name": "stdout",
     "output_type": "stream",
     "text": [
      "C:\\Users\\dcdmm\\Music\\GitHubProjects\\MLNote\\G_Tool\\other\n",
      "C:\\Users\\dcdmm\\Music\\GitHubProjects\\MLNote\\G_Tool\\other\n",
      "C:\\Users\\dcdmm\\Music\\GitHubProjects\\MLNote\\G_Tool\n",
      "C:\\Users\\dcdmm\\Music\\GitHubProjects\\MLNote\n",
      "C:\\Users\\dcdmm\\Music\\GitHubProjects\\MLNote\n",
      "C:\\Users\\dcdmm\\Music\\GitHubProjects\\MLNote\\G_Tool\\other\n",
      "C:\\Users\\dcdmm\\Music\\GitHubProjects\\vvvvvv\n"
     ]
    }
   ],
   "source": [
    "print(os.getcwd())  # 当前工作目录\n",
    "# print(__file__)  # 当前文件路径(仅*.py文件)\n",
    "\n",
    "print(os.path.abspath('.'))  # 当前工作目录的绝对路径\n",
    "print(os.path.abspath('..'))  # 当前工作目录父目录的绝对路径\n",
    "print(os.path.abspath('../..'))  # 当前工作目录父目录的父目录的绝对路径\n",
    "print(os.path.abspath('..' + os.sep + '..'))  # 当前工作目录父目录的父目录的绝对路径\n",
    "print(os.path.abspath('...'))  # 不支持'...'\n",
    "\n",
    "# 当前工作目录父目录的父目录的父目录下的vvvvvv(文件或文件目录;该文件或文件目录可以不存在)\n",
    "print(os.path.abspath(\"../../../vvvvvv\"))"
   ]
  },
  {
   "cell_type": "code",
   "execution_count": 15,
   "metadata": {
    "pycharm": {
     "metadata": false,
     "name": "#%%\n"
    }
   },
   "outputs": [
    {
     "name": "stdout",
     "output_type": "stream",
     "text": [
      "C:\\Users\\dcdmm\\Music\\GitHubProjects\\MLNote\\G_Tool\\other\n",
      "C:\\Users\\dcdmm\\Music\\GitHubProjects\\MLNote\\G_Tool\n",
      "C:\\Users\\dcdmm\\Music\\GitHubProjects\\MLNote\n",
      "C:\\Users\\dcdmm\\Music\\GitHubProjects\n"
     ]
    }
   ],
   "source": [
    "cwd_path = os.getcwd()\n",
    "\n",
    "print(cwd_path)\n",
    "print(os.path.dirname(cwd_path))  # 当前文件目录\n",
    "print(os.path.abspath(os.path.join(os.path.dirname(cwd_path),\n",
    "                                   os.pardir)))  # 当前文件目录的父目录\n",
    "# 当前文件目录的父目录的父目录\n",
    "print(os.path.abspath(os.path.join(os.path.dirname(cwd_path),\n",
    "                                   os.pardir + os.sep + os.pardir)))"
   ]
  },
  {
   "cell_type": "code",
   "execution_count": 16,
   "metadata": {
    "pycharm": {
     "name": "#%%\n"
    }
   },
   "outputs": [
    {
     "data": {
      "text/plain": "['my_argment.py',\n 'other_para.py',\n 'test.ipynb',\n 'volume_arg.py',\n '__init__.py',\n '__pycache__']"
     },
     "execution_count": 16,
     "metadata": {},
     "output_type": "execute_result"
    }
   ],
   "source": [
    "os.listdir('../命令行解析argparse模块')"
   ]
  },
  {
   "cell_type": "code",
   "execution_count": 17,
   "metadata": {
    "pycharm": {
     "name": "#%%\n"
    }
   },
   "outputs": [
    {
     "name": "stdout",
     "output_type": "stream",
     "text": [
      "('../命令行解析argparse模块', ['__pycache__'], ['my_argment.py', 'other_para.py', 'test.ipynb', 'volume_arg.py', '__init__.py'])\n",
      "('../命令行解析argparse模块\\\\__pycache__', [], ['my_argment.cpython-38.pyc'])\n"
     ]
    }
   ],
   "source": [
    "walk_list = list(os.walk(\"../命令行解析argparse模块\"))  # 返回一个三元组：(dirpath, dirnames, filenames)\n",
    "for i in walk_list:\n",
    "    print(i)"
   ]
  },
  {
   "cell_type": "code",
   "execution_count": 17,
   "metadata": {
    "pycharm": {
     "name": "#%%\n"
    }
   },
   "outputs": [],
   "source": [
    "\n"
   ]
  }
 ],
 "metadata": {
  "kernelspec": {
   "display_name": "Python 3",
   "language": "python",
   "name": "python3"
  },
  "language_info": {
   "codemirror_mode": {
    "name": "ipython",
    "version": 3
   },
   "file_extension": ".py",
   "mimetype": "text/x-python",
   "name": "python",
   "nbconvert_exporter": "python",
   "pygments_lexer": "ipython3",
   "version": "3.8.8"
  },
  "toc": {
   "base_numbering": 1,
   "nav_menu": {},
   "number_sections": true,
   "sideBar": true,
   "skip_h1_title": false,
   "title_cell": "Table of Contents",
   "title_sidebar": "Contents",
   "toc_cell": false,
   "toc_position": {},
   "toc_section_display": true,
   "toc_window_display": false
  }
 },
 "nbformat": 4,
 "nbformat_minor": 1
}