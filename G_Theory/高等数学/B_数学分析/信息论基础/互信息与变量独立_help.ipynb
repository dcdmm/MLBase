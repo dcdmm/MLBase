{
 "cells": [
  {
   "cell_type": "markdown",
   "metadata": {
    "collapsed": true,
    "pycharm": {
     "name": "#%% md\n"
    }
   },
   "source": [
    "<font color='red' size=4>定理:</font>     \n",
    "1. $$ I(X;Y) \\geq 0 $$   \n",
    "\\begin{align}\n",
    "I(X;Y)&=  \\sum_{x,y} P(x,y) \\log \\frac{P(x, y)}{P(x)P(y)}\\\\ \n",
    "      &=  KL(P(X,Y), P(X)P(Y))  \\\\\n",
    "      & \\geq 0         \n",
    "\\end{align}\n",
    "\n",
    "2. $$ H(X|Y) \\leq H(X) $$    \n",
    "\n",
    "\n",
    "&emsp;&emsp;接下来考虑3个变量$ X,Y$和$ Z $  直接的条件独立关系,条件熵$H(X|Z)$是给定$Z$时$X$剩余的不确定性.如果进一步\n",
    "再给定$ Y,X $的不确定性变为$ H(X|Z,Y) $.因此这两者之差即是给定$Z$时观测$Y$的取值会带来关于$X$的信息量,即       \n",
    "$$ I(X;Y|Z) = H(X|Z) - H(X|Z,Y) $$    \n",
    "称为给定$Z$时$Y$关于$X$的信息.容易证明$ I(X;Y|Z) = I(Y;X|Z) $,于是$ I(X;Y|Z) $也称为给定$Z$时$X$和$Y$的条件互信息.    \n",
    "\n",
    "\n",
    "<font color='red' size=4>定理:</font>  \n",
    "1. $$ I(X;Y|Z) \\geq 0 $$\n",
    "2. $$ H(X|Y,Z) \\leq H(X|Z) $$   \n",
    "\n",
    "上面两式当且仅当$ X \\perp Y | Z $时等号成立     \n",
    "&emsp;&emsp;给定$Z$,两个随机变量$X$和$Y$相互条件独立,当且仅当它们的条件互信息为零.或者说,$Y$关于$X$的信息已\n",
    "全部包含在$Z$中,从而观测到$Z$后,再对$Y$进行的观测不会带来关于$X$的更多信息.另一方面,如果$X$和$Y$在给定$Z$时相互\n",
    "不独立,则$ H(X|Z,Y) < H(X|Z) $,即在已知$Z$的基础上对$Y$的进一步观测将会带来关于$X$的新信息,从而降低$X$的不确定性. \n"
   ]
  }
 ],
 "metadata": {
  "kernelspec": {
   "display_name": "Python 3",
   "language": "python",
   "name": "python3"
  },
  "language_info": {
   "codemirror_mode": {
    "name": "ipython",
    "version": 2
   },
   "file_extension": ".py",
   "mimetype": "text/x-python",
   "name": "python",
   "nbconvert_exporter": "python",
   "pygments_lexer": "ipython2",
   "version": "2.7.6"
  },
  "pycharm": {
   "stem_cell": {
    "cell_type": "raw",
    "source": [],
    "metadata": {
     "collapsed": false
    }
   }
  }
 },
 "nbformat": 4,
 "nbformat_minor": 0
}