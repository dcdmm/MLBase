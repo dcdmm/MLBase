{
 "cells": [
  {
   "cell_type": "code",
   "execution_count": 1,
   "metadata": {
    "tags": []
   },
   "outputs": [],
   "source": [
    "import pandas as pd\n",
    "import json\n",
    "import numpy as np\n",
    "import random\n",
    "import torch\n",
    "from transformers import AutoTokenizer, AutoModel\n",
    "import copy\n",
    "from sklearn.metrics import accuracy_score\n",
    "import time\n",
    "\n",
    "from model import Model"
   ]
  },
  {
   "cell_type": "code",
   "execution_count": 2,
   "metadata": {
    "collapsed": false,
    "jupyter": {
     "outputs_hidden": false
    },
    "pycharm": {
     "name": "#%%\n"
    }
   },
   "outputs": [],
   "source": [
    "def set_seed(seed):\n",
    "    \"\"\"PyTorch随机数种子设置大全\"\"\"\n",
    "    np.random.seed(seed)\n",
    "    random.seed(seed)\n",
    "    torch.manual_seed(seed)  # CPU上设置随机种子\n",
    "    if torch.cuda.is_available():\n",
    "        torch.cuda.manual_seed(seed)  # 当前GPU上设置随机种子\n",
    "        # A bool that, if True, causes cuDNN to only use deterministic convolution algorithms.\n",
    "        torch.backends.cudnn.deterministic = True\n",
    "        # torch.cuda.manual_seed_all(seed) # 所有GPU上设置随机种子\n",
    "\n",
    "\n",
    "seed = 2022\n",
    "set_seed(seed)"
   ]
  },
  {
   "cell_type": "code",
   "execution_count": 3,
   "metadata": {
    "collapsed": false,
    "jupyter": {
     "outputs_hidden": false
    },
    "pycharm": {
     "name": "#%%\n"
    }
   },
   "outputs": [
    {
     "data": {
      "text/plain": [
       "device(type='cuda')"
      ]
     },
     "execution_count": 3,
     "metadata": {},
     "output_type": "execute_result"
    }
   ],
   "source": [
    "device = torch.device(\"cuda\" if torch.cuda.is_available() else \"cpu\")\n",
    "device"
   ]
  },
  {
   "cell_type": "code",
   "execution_count": 4,
   "metadata": {},
   "outputs": [],
   "source": [
    "label_to_id = {'病情诊断': 0, '病因分析': 1, '治疗方案': 2, '就医建议': 3, \n",
    "               '指标解读': 4, '疾病表述': 5, '后果表述': 6, '注意事项': 7,\n",
    "               '功效作用': 8, '医疗费用': 9, '其他': 10}"
   ]
  },
  {
   "cell_type": "code",
   "execution_count": 5,
   "metadata": {
    "collapsed": false,
    "jupyter": {
     "outputs_hidden": false
    },
    "pycharm": {
     "name": "#%%\n"
    }
   },
   "outputs": [
    {
     "data": {
      "text/plain": [
       "[['心肌缺血如何治疗与调养呢？', 2],\n",
       " ['19号来的月经，25号服用了紧急避孕药本月5号，怎么办？', 2],\n",
       " ['什么叫痔核脱出？什么叫外痔？', 5],\n",
       " ['您好，请问一岁三个月的孩子可以服用复方锌布颗粒吗？', 10],\n",
       " ['多发乳腺结节中药能治愈吗', 5]]"
      ]
     },
     "execution_count": 5,
     "metadata": {},
     "output_type": "execute_result"
    }
   ],
   "source": [
    "with open('KUAKE-QIC/KUAKE-QIC_train.json', encoding='utf-8') as f:\n",
    "    data_train = json.load(f)\n",
    "\n",
    "with open('KUAKE-QIC/KUAKE-QIC_dev.json', encoding='utf-8') as f:\n",
    "    data_valid = json.load(f)\n",
    "\n",
    "train = pd.DataFrame(data_train).iloc[:, 1:]\n",
    "train['label'] = train['label'].map(label_to_id)\n",
    "train = train.values.tolist()\n",
    "valid = pd.DataFrame(data_valid).iloc[:, 1:]\n",
    "valid['label'] = valid['label'].map(label_to_id)\n",
    "valid = valid.values.tolist()\n",
    "valid[:5]"
   ]
  },
  {
   "cell_type": "code",
   "execution_count": 6,
   "metadata": {
    "collapsed": false,
    "jupyter": {
     "outputs_hidden": false
    },
    "pycharm": {
     "name": "#%%\n"
    }
   },
   "outputs": [
    {
     "name": "stdout",
     "output_type": "stream",
     "text": [
      "['input_ids', 'token_type_ids', 'attention_mask']\n"
     ]
    },
    {
     "name": "stderr",
     "output_type": "stream",
     "text": [
      "Some weights of ErnieModel were not initialized from the model checkpoint at nghuyong/ernie-health-zh and are newly initialized: ['ernie.pooler.dense.weight', 'ernie.pooler.dense.bias']\n",
      "You should probably TRAIN this model on a down-stream task to be able to use it for predictions and inference.\n"
     ]
    },
    {
     "name": "stdout",
     "output_type": "stream",
     "text": [
      "103404288\n"
     ]
    }
   ],
   "source": [
    "model_ckpt = \"nghuyong/ernie-health-zh\"\n",
    "\n",
    "token = AutoTokenizer.from_pretrained(model_ckpt)\n",
    "print(token.model_input_names)\n",
    "pretrained = AutoModel.from_pretrained(model_ckpt)\n",
    "print(pretrained.num_parameters())"
   ]
  },
  {
   "cell_type": "code",
   "execution_count": 7,
   "metadata": {},
   "outputs": [
    {
     "name": "stdout",
     "output_type": "stream",
     "text": [
      "torch.Size([32, 152])\n",
      "torch.Size([32])\n"
     ]
    }
   ],
   "source": [
    "def get_collate_fn(tokenizer, max_len=512):\n",
    "    \"\"\"返回collate_fun函数(通过闭包函数引入形参)\"\"\"\n",
    "\n",
    "    def collate_fn(data):\n",
    "        sents = [i[0] for i in data]\n",
    "        labels = [i[1] for i in data]\n",
    "\n",
    "        # 批量编码句子\n",
    "        text_t = tokenizer(text=sents,\n",
    "                           truncation=True,\n",
    "                           padding=True,\n",
    "                           max_length=max_len,\n",
    "                           return_token_type_ids=True,\n",
    "                           return_attention_mask=True,\n",
    "                           return_tensors='pt')\n",
    "\n",
    "        input_ids = text_t['input_ids']\n",
    "        attention_mask = text_t['attention_mask']\n",
    "        token_type_ids = text_t['token_type_ids']\n",
    "        labels = torch.LongTensor(labels)\n",
    "        return input_ids, attention_mask, token_type_ids, labels\n",
    "\n",
    "    return collate_fn\n",
    "\n",
    "\n",
    "# 数据处理\n",
    "dataloader_valid = torch.utils.data.DataLoader(dataset=valid,\n",
    "                                               batch_size=32,\n",
    "                                               shuffle=False,\n",
    "                                               collate_fn=get_collate_fn(token))\n",
    "\n",
    "dataloader_train = torch.utils.data.DataLoader(dataset=train,\n",
    "                                               batch_size=32,\n",
    "                                               shuffle=True,\n",
    "                                               collate_fn=get_collate_fn(token))\n",
    "\n",
    "for i, (input_ids, attention_mask, token_type_ids, labels) in enumerate(dataloader_train):\n",
    "    print(input_ids.shape)\n",
    "    print(labels.shape)\n",
    "    break\n"
   ]
  },
  {
   "cell_type": "code",
   "execution_count": 8,
   "metadata": {},
   "outputs": [],
   "source": [
    "# 损失函数\n",
    "criterion_cross_entropy = torch.nn.CrossEntropyLoss()\n",
    "\n",
    "model_bert_base = Model(copy.deepcopy(pretrained))  # 必须进行深拷贝(pretrained(模型子网络结构)会参与梯度更新)\n",
    "model_bert_base = model_bert_base.to(device)  # 模型设备切换\n",
    "\n",
    "# 优化器\n",
    "optimizer_adamw = torch.optim.AdamW(model_bert_base.parameters(), lr=2e-5)  # 模型设备切换必须在优化器定义前执行"
   ]
  },
  {
   "cell_type": "code",
   "execution_count": 9,
   "metadata": {},
   "outputs": [],
   "source": [
    "# 模型训练\n",
    "def train(model, dataloader, criterion, optimizer, device):\n",
    "    model.train()\n",
    "\n",
    "    for idx, (input_ids, attention_mask, token_type_ids, labels) in enumerate(dataloader):\n",
    "        # 数据设备切换\n",
    "        input_ids = input_ids.to(device)\n",
    "        attention_mask = attention_mask.to(device)\n",
    "        token_type_ids = token_type_ids.to(device)\n",
    "        labels = labels.to(device)\n",
    "\n",
    "        optimizer.zero_grad()\n",
    "        out = model(input_ids=input_ids,\n",
    "                    attention_mask=attention_mask,\n",
    "                    token_type_ids=token_type_ids)\n",
    "\n",
    "        loss = criterion(out, labels)  # 每个step的损失值\n",
    "\n",
    "        loss.backward()\n",
    "        optimizer.step()\n",
    "\n",
    "        if idx % 20 == 0 and idx > 0:\n",
    "            predict = out.argmax(dim=1).cpu().numpy()\n",
    "            accuracy = accuracy_score(labels.cpu().numpy(), predict)  # 评估指标\n",
    "            print('| step {:5d} | loss {:8.5f} | accuracy {:8.5f} |'.format(idx, loss.item(), accuracy))\n",
    "\n",
    "\n",
    "# 模型验证\n",
    "def evaluate(model, dataloader, device):\n",
    "    model.eval()\n",
    "\n",
    "    predict_list = []\n",
    "    y_true_list = []\n",
    "    with torch.no_grad():\n",
    "        for input_ids, attention_mask, token_type_ids, labels in dataloader:\n",
    "            # 数据设备切换\n",
    "            input_ids = input_ids.to(device)\n",
    "            attention_mask = attention_mask.to(device)\n",
    "            token_type_ids = token_type_ids.to(device)\n",
    "            out = model(input_ids=input_ids,\n",
    "                        attention_mask=attention_mask,\n",
    "                        token_type_ids=token_type_ids)\n",
    "            predict_list.append(out.cpu())\n",
    "            y_true_list.extend(labels.tolist())\n",
    "\n",
    "    predict_all = torch.cat(predict_list, dim=0)  # 合并所有批次的预测结果\n",
    "    y_true_all = torch.tensor(y_true_list)  # 真实标签\n",
    "    accuracy = accuracy_score(y_true_all.numpy(), predict_all.argmax(dim=1).numpy())  # 验证数据集准确率\n",
    "    return accuracy"
   ]
  },
  {
   "cell_type": "code",
   "execution_count": 10,
   "metadata": {},
   "outputs": [
    {
     "name": "stdout",
     "output_type": "stream",
     "text": [
      "| step    20 | loss  2.26329 | accuracy  0.31250 |\n",
      "| step    40 | loss  2.16239 | accuracy  0.50000 |\n",
      "| step    60 | loss  2.05094 | accuracy  0.53125 |\n",
      "| step    80 | loss  1.95836 | accuracy  0.59375 |\n",
      "| step   100 | loss  1.85118 | accuracy  0.71875 |\n",
      "| step   120 | loss  2.09436 | accuracy  0.46875 |\n",
      "| step   140 | loss  2.09912 | accuracy  0.43750 |\n",
      "| step   160 | loss  2.00383 | accuracy  0.53125 |\n",
      "| step   180 | loss  1.90342 | accuracy  0.65625 |\n",
      "| step   200 | loss  1.94786 | accuracy  0.59375 |\n",
      "--------------------------------------------------------------\n",
      "| end of epoch     1 | time: 19.35s | valid accuracy  0.71202 |\n",
      "--------------------------------------------------------------\n",
      "| step    20 | loss  1.73350 | accuracy  0.84375 |\n",
      "| step    40 | loss  1.80547 | accuracy  0.75000 |\n",
      "| step    60 | loss  1.85299 | accuracy  0.71875 |\n",
      "| step    80 | loss  1.76644 | accuracy  0.78125 |\n",
      "| step   100 | loss  1.69388 | accuracy  0.84375 |\n",
      "| step   120 | loss  1.87045 | accuracy  0.65625 |\n",
      "| step   140 | loss  1.71685 | accuracy  0.84375 |\n",
      "| step   160 | loss  1.68464 | accuracy  0.87500 |\n",
      "| step   180 | loss  1.79251 | accuracy  0.75000 |\n",
      "| step   200 | loss  1.71212 | accuracy  0.84375 |\n",
      "--------------------------------------------------------------\n",
      "| end of epoch     2 | time: 19.04s | valid accuracy  0.77698 |\n",
      "--------------------------------------------------------------\n",
      "| step    20 | loss  1.77896 | accuracy  0.75000 |\n",
      "| step    40 | loss  1.77287 | accuracy  0.78125 |\n",
      "| step    60 | loss  1.68558 | accuracy  0.87500 |\n",
      "| step    80 | loss  1.84633 | accuracy  0.68750 |\n",
      "| step   100 | loss  1.71195 | accuracy  0.84375 |\n",
      "| step   120 | loss  1.69199 | accuracy  0.84375 |\n",
      "| step   140 | loss  1.78692 | accuracy  0.75000 |\n",
      "| step   160 | loss  1.67344 | accuracy  0.87500 |\n",
      "| step   180 | loss  1.73201 | accuracy  0.81250 |\n",
      "| step   200 | loss  1.76858 | accuracy  0.78125 |\n",
      "--------------------------------------------------------------\n",
      "| end of epoch     3 | time: 18.98s | valid accuracy  0.78772 |\n",
      "--------------------------------------------------------------\n",
      "| step    20 | loss  1.74238 | accuracy  0.81250 |\n",
      "| step    40 | loss  1.76673 | accuracy  0.78125 |\n",
      "| step    60 | loss  1.68943 | accuracy  0.84375 |\n",
      "| step    80 | loss  1.72840 | accuracy  0.81250 |\n",
      "| step   100 | loss  1.68462 | accuracy  0.87500 |\n",
      "| step   120 | loss  1.63937 | accuracy  0.90625 |\n",
      "| step   140 | loss  1.76307 | accuracy  0.78125 |\n",
      "| step   160 | loss  1.63626 | accuracy  0.90625 |\n",
      "| step   180 | loss  1.60523 | accuracy  0.93750 |\n",
      "| step   200 | loss  1.65407 | accuracy  0.90625 |\n",
      "--------------------------------------------------------------\n",
      "| end of epoch     4 | time: 18.89s | valid accuracy  0.78977 |\n",
      "--------------------------------------------------------------\n",
      "| step    20 | loss  1.67810 | accuracy  0.87500 |\n",
      "| step    40 | loss  1.64951 | accuracy  0.90625 |\n",
      "| step    60 | loss  1.63774 | accuracy  0.90625 |\n",
      "| step    80 | loss  1.67360 | accuracy  0.87500 |\n",
      "| step   100 | loss  1.70089 | accuracy  0.84375 |\n",
      "| step   120 | loss  1.69452 | accuracy  0.84375 |\n",
      "| step   140 | loss  1.73363 | accuracy  0.81250 |\n",
      "| step   160 | loss  1.70704 | accuracy  0.84375 |\n",
      "| step   180 | loss  1.81086 | accuracy  0.71875 |\n",
      "| step   200 | loss  1.61461 | accuracy  0.93750 |\n",
      "--------------------------------------------------------------\n",
      "| end of epoch     5 | time: 19.07s | valid accuracy  0.80409 |\n",
      "--------------------------------------------------------------\n"
     ]
    }
   ],
   "source": [
    "best_valid_acc = 0.0 \n",
    "\n",
    "for epoch in range(1, 6):\n",
    "    epoch_start_time = time.time()\n",
    "    train(model_bert_base, dataloader_train, criterion_cross_entropy, optimizer_adamw, device)\n",
    "    valid_acc = evaluate(model_bert_base, dataloader_valid, device)\n",
    "    if valid_acc > best_valid_acc:\n",
    "        best_valid_acc = valid_acc\n",
    "        torch.save(model_bert_base.state_dict(), 'torch_model.bin')\n",
    "    print('-' * 62)\n",
    "    print('| end of epoch {:5d} | time: {:5.2f}s | valid accuracy {:8.5f} |'.format(epoch, \n",
    "                                                                                    time.time() - epoch_start_time, \n",
    "                                                                                    valid_acc))\n",
    "    print('-' * 62)"
   ]
  },
  {
   "cell_type": "code",
   "execution_count": 14,
   "metadata": {},
   "outputs": [
    {
     "data": {
      "text/plain": [
       "0.8040920716112532"
      ]
     },
     "execution_count": 14,
     "metadata": {},
     "output_type": "execute_result"
    }
   ],
   "source": [
    "model_best = Model(copy.deepcopy(pretrained))\n",
    "model_best.load_state_dict(torch.load('torch_model.bin'))\n",
    "model_best = model_best.to(device)\n",
    "best_valid_acc = evaluate(model_best, dataloader_valid, device)\n",
    "best_valid_acc"
   ]
  },
  {
   "cell_type": "code",
   "execution_count": null,
   "metadata": {},
   "outputs": [],
   "source": []
  }
 ],
 "metadata": {
  "kernelspec": {
   "display_name": "env_3812",
   "language": "python",
   "name": "env_3812"
  },
  "language_info": {
   "codemirror_mode": {
    "name": "ipython",
    "version": 3
   },
   "file_extension": ".py",
   "mimetype": "text/x-python",
   "name": "python",
   "nbconvert_exporter": "python",
   "pygments_lexer": "ipython3",
   "version": "3.8.12"
  }
 },
 "nbformat": 4,
 "nbformat_minor": 4
}
