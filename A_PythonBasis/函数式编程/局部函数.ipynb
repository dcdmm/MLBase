{
 "cells": [
  {
   "cell_type": "code",
   "execution_count": 5,
   "outputs": [
    {
     "name": "stdout",
     "output_type": "stream",
     "text": [
      "square\n",
      "9\n",
      "cube\n",
      "27\n",
      "other\n",
      "6\n"
     ]
    }
   ],
   "source": [
    "# 放在函数体内定义的函数称为局部函数\n",
    "def get_math_func(fun_type, nn):\n",
    "    def square(n):\n",
    "        print(fun_type)\n",
    "        return n * n\n",
    "\n",
    "    def cube(n):\n",
    "        print(fun_type)\n",
    "        return n * n * n\n",
    "\n",
    "    def factorial(n):\n",
    "        print(fun_type)\n",
    "        result = 1\n",
    "        for index in range(2, n + 1):\n",
    "            result *= index\n",
    "        return result\n",
    "\n",
    "    if fun_type == \"square\":\n",
    "        return square(nn)\n",
    "    elif fun_type == \"cube\":\n",
    "        return cube(nn)\n",
    "    else:\n",
    "        return factorial(nn)\n",
    "\n",
    "\n",
    "print(get_math_func(\"square\", 3))\n",
    "print(get_math_func(\"cube\", 3))\n",
    "print(get_math_func(\"other\", 3))"
   ],
   "metadata": {
    "collapsed": false,
    "pycharm": {
     "name": "#%%\n"
    }
   }
  },
  {
   "cell_type": "code",
   "execution_count": 6,
   "outputs": [
    {
     "ename": "UnboundLocalError",
     "evalue": "local variable 'name' referenced before assignment",
     "output_type": "error",
     "traceback": [
      "\u001B[1;31m---------------------------------------------------------------------------\u001B[0m",
      "\u001B[1;31mUnboundLocalError\u001B[0m                         Traceback (most recent call last)",
      "Input \u001B[1;32mIn [6]\u001B[0m, in \u001B[0;36m<cell line: 12>\u001B[1;34m()\u001B[0m\n\u001B[0;32m      7\u001B[0m         name \u001B[38;5;241m=\u001B[39m \u001B[38;5;124m'\u001B[39m\u001B[38;5;124m孙悟空\u001B[39m\u001B[38;5;124m'\u001B[39m\n\u001B[0;32m      9\u001B[0m     bar()\n\u001B[1;32m---> 12\u001B[0m \u001B[43mfoo\u001B[49m\u001B[43m(\u001B[49m\u001B[43m)\u001B[49m\n",
      "Input \u001B[1;32mIn [6]\u001B[0m, in \u001B[0;36mfoo\u001B[1;34m()\u001B[0m\n\u001B[0;32m      6\u001B[0m     \u001B[38;5;28mprint\u001B[39m(name)  \u001B[38;5;66;03m# 报错,local variable 'name' referenced before assignment\u001B[39;00m\n\u001B[0;32m      7\u001B[0m     name \u001B[38;5;241m=\u001B[39m \u001B[38;5;124m'\u001B[39m\u001B[38;5;124m孙悟空\u001B[39m\u001B[38;5;124m'\u001B[39m\n\u001B[1;32m----> 9\u001B[0m \u001B[43mbar\u001B[49m\u001B[43m(\u001B[49m\u001B[43m)\u001B[49m\n",
      "Input \u001B[1;32mIn [6]\u001B[0m, in \u001B[0;36mfoo.<locals>.bar\u001B[1;34m()\u001B[0m\n\u001B[0;32m      5\u001B[0m \u001B[38;5;28;01mdef\u001B[39;00m \u001B[38;5;21mbar\u001B[39m():\n\u001B[1;32m----> 6\u001B[0m     \u001B[38;5;28mprint\u001B[39m(\u001B[43mname\u001B[49m)  \u001B[38;5;66;03m# 报错,local variable 'name' referenced before assignment\u001B[39;00m\n\u001B[0;32m      7\u001B[0m     name \u001B[38;5;241m=\u001B[39m \u001B[38;5;124m'\u001B[39m\u001B[38;5;124m孙悟空\u001B[39m\u001B[38;5;124m'\u001B[39m\n",
      "\u001B[1;31mUnboundLocalError\u001B[0m: local variable 'name' referenced before assignment"
     ]
    }
   ],
   "source": [
    "# 局部函数内的变量也会遮蔽它所在函数内的局部变量\n",
    "def foo():\n",
    "    name = 'Charlie'  # 局部变量name\n",
    "\n",
    "    def bar():\n",
    "        print(name)  # 报错,local variable 'name' referenced before assignment\n",
    "        name = '孙悟空'\n",
    "\n",
    "    bar()\n",
    "\n",
    "\n",
    "foo()"
   ],
   "metadata": {
    "pycharm": {
     "metadata": false,
     "name": "#%%\n"
    }
   }
  },
  {
   "cell_type": "code",
   "execution_count": null,
   "outputs": [],
   "source": [
    "# 解决方法一:nonlocal关键字(嵌套函数中内部函数修改外部变量的值)\n",
    "def foo1():\n",
    "    name1 = 'Charlie'\n",
    "\n",
    "    def bar1():\n",
    "        nonlocal name1\n",
    "        print(name1)\n",
    "        name1 = '孙悟空'\n",
    "\n",
    "    bar1()\n",
    "    print(name1)\n",
    "\n",
    "\n",
    "foo1()"
   ],
   "metadata": {
    "pycharm": {
     "metadata": false,
     "name": "#%%\n"
    }
   }
  },
  {
   "cell_type": "code",
   "execution_count": 7,
   "outputs": [
    {
     "name": "stdout",
     "output_type": "stream",
     "text": [
      "['Charlie']\n",
      "['孙悟空']\n"
     ]
    }
   ],
   "source": [
    "# 解决方法二:\n",
    "def foo2():\n",
    "    name2 = ['Charlie']  # 列表不是存放在栈空间\n",
    "\n",
    "    def bar2():\n",
    "        print(name2)\n",
    "        name2[0] = '孙悟空'\n",
    "\n",
    "    bar2()\n",
    "    print(name2)\n",
    "\n",
    "\n",
    "foo2()"
   ],
   "metadata": {
    "pycharm": {
     "metadata": false,
     "name": "#%%\n"
    }
   }
  },
  {
   "cell_type": "code",
   "execution_count": null,
   "outputs": [],
   "source": [],
   "metadata": {
    "collapsed": false,
    "pycharm": {
     "name": "#%%\n"
    }
   }
  }
 ],
 "metadata": {
  "language_info": {
   "codemirror_mode": {
    "name": "ipython",
    "version": 2
   },
   "file_extension": ".py",
   "mimetype": "text/x-python",
   "name": "python",
   "nbconvert_exporter": "python",
   "pygments_lexer": "ipython2",
   "version": "2.7.6"
  },
  "kernelspec": {
   "name": "python3",
   "language": "python",
   "display_name": "Python 3"
  }
 },
 "nbformat": 4,
 "nbformat_minor": 0
}