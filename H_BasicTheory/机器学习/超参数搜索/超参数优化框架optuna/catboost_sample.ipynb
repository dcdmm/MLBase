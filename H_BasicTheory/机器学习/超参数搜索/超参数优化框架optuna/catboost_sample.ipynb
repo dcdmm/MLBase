{
 "cells": [
  {
   "cell_type": "code",
   "execution_count": 17,
   "metadata": {
    "collapsed": true
   },
   "outputs": [],
   "source": [
    "import numpy as np\n",
    "import optuna\n",
    "import catboost as cb\n",
    "from sklearn.datasets import load_breast_cancer\n",
    "from sklearn.metrics import accuracy_score\n",
    "from sklearn.model_selection import train_test_split"
   ]
  },
  {
   "cell_type": "code",
   "execution_count": 18,
   "outputs": [
    {
     "name": "stdout",
     "output_type": "stream",
     "text": [
      "(569, 30)\n"
     ]
    }
   ],
   "source": [
    "# 二分类问题\n",
    "data, target = load_breast_cancer(return_X_y=True)\n",
    "print(data.shape)"
   ],
   "metadata": {
    "collapsed": false,
    "pycharm": {
     "name": "#%%\n"
    }
   }
  },
  {
   "cell_type": "code",
   "execution_count": 19,
   "outputs": [],
   "source": [
    "# 第一个参数必须为trial\n",
    "def objective(trial, data, target):\n",
    "    train_x, valid_x, train_y, valid_y = train_test_split(data, target, test_size=0.3)\n",
    "\n",
    "    param = {\n",
    "        \"allow_writing_files\": False,\n",
    "        \"objective\": trial.suggest_categorical(\"objective\", [\"Logloss\", \"CrossEntropy\"]),\n",
    "        \"colsample_bylevel\": trial.suggest_float(\"colsample_bylevel\", 0.01, 0.1),\n",
    "        \"depth\": trial.suggest_int(\"depth\", 1, 12),\n",
    "        \"boosting_type\": trial.suggest_categorical(\"boosting_type\", [\"Ordered\", \"Plain\"]),\n",
    "        \"bootstrap_type\": trial.suggest_categorical(\n",
    "            \"bootstrap_type\", [\"Bayesian\", \"Bernoulli\", \"MVS\"]\n",
    "        ),\n",
    "        \"used_ram_limit\": \"3gb\",\n",
    "    }\n",
    "\n",
    "    if param[\"bootstrap_type\"] == \"Bayesian\":\n",
    "        param[\"bagging_temperature\"] = trial.suggest_float(\"bagging_temperature\", 0, 10)\n",
    "    elif param[\"bootstrap_type\"] == \"Bernoulli\":\n",
    "        param[\"subsample\"] = trial.suggest_float(\"subsample\", 0.1, 1)\n",
    "\n",
    "    gbm = cb.CatBoostClassifier(**param)\n",
    "\n",
    "    # 也可在次进行交叉验证\n",
    "    gbm.fit(train_x, train_y, eval_set=[(valid_x, valid_y)], verbose=0, early_stopping_rounds=100)\n",
    "\n",
    "    preds = gbm.predict(valid_x)\n",
    "    pred_labels = np.around(preds)\n",
    "    accuracy = accuracy_score(valid_y, pred_labels)\n",
    "    return accuracy"
   ],
   "metadata": {
    "collapsed": false,
    "pycharm": {
     "name": "#%%\n"
    }
   }
  },
  {
   "cell_type": "code",
   "execution_count": 20,
   "outputs": [
    {
     "name": "stderr",
     "output_type": "stream",
     "text": [
      "\u001B[32m[I 2021-09-18 19:23:08,415]\u001B[0m A new study created in memory with name: no-name-9b1c7bbf-eb6d-47b5-b7d9-a2b8b4e05b46\u001B[0m\n",
      "C:\\Users\\duanm\\anaconda3\\lib\\site-packages\\optuna\\study\\study.py:393: FutureWarning: `n_jobs` argument has been deprecated in v2.7.0. This feature will be removed in v4.0.0. See https://github.com/optuna/optuna/releases/tag/v2.7.0.\n",
      "  warnings.warn(\n",
      "Custom logger is already specified. Specify more than one logger at same time is not thread safe.Custom logger is already specified. Specify more than one logger at same time is not thread safe.Custom logger is already specified. Specify more than one logger at same time is not thread safe.Custom logger is already specified. Specify more than one logger at same time is not thread safe.Custom logger is already specified. Specify more than one logger at same time is not thread safe.Custom logger is already specified. Specify more than one logger at same time is not thread safe.Custom logger is already specified. Specify more than one logger at same time is not thread safe.Custom logger is already specified. Specify more than one logger at same time is not thread safe.Custom logger is already specified. Specify more than one logger at same time is not thread safe.Custom logger is already specified. Specify more than one logger at same time is not thread safe.Custom logger is already specified. Specify more than one logger at same time is not thread safe.Custom logger is already specified. Specify more than one logger at same time is not thread safe.Custom logger is already specified. Specify more than one logger at same time is not thread safe.Custom logger is already specified. Specify more than one logger at same time is not thread safe.Custom logger is already specified. Specify more than one logger at same time is not thread safe.\u001B[32m[I 2021-09-18 19:23:13,085]\u001B[0m Trial 6 finished with value: 0.9707602339181286 and parameters: {'objective': 'Logloss', 'colsample_bylevel': 0.08512603446132337, 'depth': 4, 'boosting_type': 'Plain', 'bootstrap_type': 'Bernoulli', 'subsample': 0.8391365095971742}. Best is trial 6 with value: 0.9707602339181286.\u001B[0m\n",
      "\u001B[32m[I 2021-09-18 19:23:13,954]\u001B[0m Trial 12 finished with value: 0.9649122807017544 and parameters: {'objective': 'Logloss', 'colsample_bylevel': 0.08699540798798036, 'depth': 7, 'boosting_type': 'Plain', 'bootstrap_type': 'Bernoulli', 'subsample': 0.22593855287073222}. Best is trial 6 with value: 0.9707602339181286.\u001B[0m\n",
      "\u001B[32m[I 2021-09-18 19:23:14,580]\u001B[0m Trial 2 finished with value: 1.0 and parameters: {'objective': 'Logloss', 'colsample_bylevel': 0.04268300187977849, 'depth': 8, 'boosting_type': 'Plain', 'bootstrap_type': 'Bayesian', 'bagging_temperature': 3.8610391720677595}. Best is trial 2 with value: 1.0.\u001B[0m\n",
      "\u001B[32m[I 2021-09-18 19:23:14,922]\u001B[0m Trial 0 finished with value: 0.9590643274853801 and parameters: {'objective': 'Logloss', 'colsample_bylevel': 0.027077434430207034, 'depth': 2, 'boosting_type': 'Plain', 'bootstrap_type': 'Bernoulli', 'subsample': 0.972768416981002}. Best is trial 2 with value: 1.0.\u001B[0m\n",
      "\u001B[32m[I 2021-09-18 19:23:15,194]\u001B[0m Trial 11 finished with value: 0.9883040935672515 and parameters: {'objective': 'Logloss', 'colsample_bylevel': 0.0908488639155784, 'depth': 4, 'boosting_type': 'Plain', 'bootstrap_type': 'Bayesian', 'bagging_temperature': 5.221198551607571}. Best is trial 2 with value: 1.0.\u001B[0m\n",
      "\u001B[32m[I 2021-09-18 19:23:16,972]\u001B[0m Trial 3 finished with value: 0.9590643274853801 and parameters: {'objective': 'Logloss', 'colsample_bylevel': 0.08115464098134823, 'depth': 7, 'boosting_type': 'Plain', 'bootstrap_type': 'Bayesian', 'bagging_temperature': 8.64160955184396}. Best is trial 2 with value: 1.0.\u001B[0m\n",
      "\u001B[32m[I 2021-09-18 19:23:18,828]\u001B[0m Trial 5 finished with value: 0.9298245614035088 and parameters: {'objective': 'Logloss', 'colsample_bylevel': 0.09201206690040632, 'depth': 2, 'boosting_type': 'Ordered', 'bootstrap_type': 'MVS'}. Best is trial 2 with value: 1.0.\u001B[0m\n",
      "\u001B[32m[I 2021-09-18 19:23:34,153]\u001B[0m Trial 8 finished with value: 0.9590643274853801 and parameters: {'objective': 'CrossEntropy', 'colsample_bylevel': 0.023435032559839423, 'depth': 7, 'boosting_type': 'Ordered', 'bootstrap_type': 'Bernoulli', 'subsample': 0.32567878869403644}. Best is trial 2 with value: 1.0.\u001B[0m\n",
      "\u001B[32m[I 2021-09-18 19:23:37,608]\u001B[0m Trial 23 finished with value: 0.9707602339181286 and parameters: {'objective': 'CrossEntropy', 'colsample_bylevel': 0.08546296822750113, 'depth': 3, 'boosting_type': 'Plain', 'bootstrap_type': 'Bernoulli', 'subsample': 0.2870445145585978}. Best is trial 2 with value: 1.0.\u001B[0m\n",
      "\u001B[32m[I 2021-09-18 19:23:38,003]\u001B[0m Trial 4 finished with value: 0.9415204678362573 and parameters: {'objective': 'CrossEntropy', 'colsample_bylevel': 0.04529679557897938, 'depth': 1, 'boosting_type': 'Ordered', 'bootstrap_type': 'MVS'}. Best is trial 2 with value: 1.0.\u001B[0m\n",
      "\u001B[32m[I 2021-09-18 19:23:42,967]\u001B[0m Trial 15 finished with value: 0.9707602339181286 and parameters: {'objective': 'CrossEntropy', 'colsample_bylevel': 0.043028058518752695, 'depth': 2, 'boosting_type': 'Ordered', 'bootstrap_type': 'MVS'}. Best is trial 2 with value: 1.0.\u001B[0m\n",
      "\u001B[32m[I 2021-09-18 19:23:44,105]\u001B[0m Trial 24 finished with value: 0.9824561403508771 and parameters: {'objective': 'CrossEntropy', 'colsample_bylevel': 0.08769229999720973, 'depth': 7, 'boosting_type': 'Plain', 'bootstrap_type': 'Bernoulli', 'subsample': 0.724369936485845}. Best is trial 2 with value: 1.0.\u001B[0m\n",
      "\u001B[32m[I 2021-09-18 19:23:48,071]\u001B[0m Trial 17 finished with value: 0.9649122807017544 and parameters: {'objective': 'CrossEntropy', 'colsample_bylevel': 0.04753994412458671, 'depth': 3, 'boosting_type': 'Ordered', 'bootstrap_type': 'Bayesian', 'bagging_temperature': 3.4854885721448303}. Best is trial 2 with value: 1.0.\u001B[0m\n",
      "\u001B[32m[I 2021-09-18 19:23:48,132]\u001B[0m Trial 10 finished with value: 0.9883040935672515 and parameters: {'objective': 'Logloss', 'colsample_bylevel': 0.07043412782971009, 'depth': 4, 'boosting_type': 'Ordered', 'bootstrap_type': 'Bayesian', 'bagging_temperature': 7.745683415877056}. Best is trial 2 with value: 1.0.\u001B[0m\n",
      "\u001B[32m[I 2021-09-18 19:23:48,921]\u001B[0m Trial 18 finished with value: 0.9766081871345029 and parameters: {'objective': 'Logloss', 'colsample_bylevel': 0.07814097497697124, 'depth': 5, 'boosting_type': 'Ordered', 'bootstrap_type': 'Bernoulli', 'subsample': 0.2291476871627977}. Best is trial 2 with value: 1.0.\u001B[0m\n",
      "\u001B[32m[I 2021-09-18 19:23:48,935]\u001B[0m Trial 20 finished with value: 0.9766081871345029 and parameters: {'objective': 'CrossEntropy', 'colsample_bylevel': 0.08224993289453976, 'depth': 3, 'boosting_type': 'Ordered', 'bootstrap_type': 'Bayesian', 'bagging_temperature': 8.162627609961465}. Best is trial 2 with value: 1.0.\u001B[0m\n",
      "Custom logger is already specified. Specify more than one logger at same time is not thread safe.\u001B[32m[I 2021-09-18 19:23:51,612]\u001B[0m Trial 19 finished with value: 0.9532163742690059 and parameters: {'objective': 'CrossEntropy', 'colsample_bylevel': 0.031508983796224285, 'depth': 11, 'boosting_type': 'Ordered', 'bootstrap_type': 'Bernoulli', 'subsample': 0.769289326842635}. Best is trial 2 with value: 1.0.\u001B[0m\n",
      "\u001B[32m[I 2021-09-18 19:23:51,765]\u001B[0m Trial 22 finished with value: 0.9707602339181286 and parameters: {'objective': 'CrossEntropy', 'colsample_bylevel': 0.09120625973989116, 'depth': 1, 'boosting_type': 'Ordered', 'bootstrap_type': 'Bayesian', 'bagging_temperature': 6.760587978305669}. Best is trial 2 with value: 1.0.\u001B[0m\n",
      "\u001B[32m[I 2021-09-18 19:23:52,572]\u001B[0m Trial 1 finished with value: 0.9824561403508771 and parameters: {'objective': 'Logloss', 'colsample_bylevel': 0.057363007680379226, 'depth': 8, 'boosting_type': 'Ordered', 'bootstrap_type': 'Bayesian', 'bagging_temperature': 7.907199843605835}. Best is trial 2 with value: 1.0.\u001B[0m\n",
      "\u001B[32m[I 2021-09-18 19:23:56,812]\u001B[0m Trial 33 finished with value: 0.9473684210526315 and parameters: {'objective': 'Logloss', 'colsample_bylevel': 0.06267967542843321, 'depth': 9, 'boosting_type': 'Plain', 'bootstrap_type': 'Bayesian', 'bagging_temperature': 0.3384952405705084}. Best is trial 2 with value: 1.0.\u001B[0m\n",
      "Custom logger is already specified. Specify more than one logger at same time is not thread safe.\u001B[32m[I 2021-09-18 19:23:56,941]\u001B[0m Trial 13 finished with value: 0.9766081871345029 and parameters: {'objective': 'CrossEntropy', 'colsample_bylevel': 0.0435362947283959, 'depth': 10, 'boosting_type': 'Ordered', 'bootstrap_type': 'Bernoulli', 'subsample': 0.6746588772199489}. Best is trial 2 with value: 1.0.\u001B[0m\n",
      "\u001B[32m[I 2021-09-18 19:23:58,228]\u001B[0m Trial 32 finished with value: 0.9473684210526315 and parameters: {'objective': 'Logloss', 'colsample_bylevel': 0.010007857161068862, 'depth': 10, 'boosting_type': 'Plain', 'bootstrap_type': 'Bayesian', 'bagging_temperature': 0.7205698863207832}. Best is trial 2 with value: 1.0.\u001B[0m\n",
      "\u001B[32m[I 2021-09-18 19:23:58,685]\u001B[0m Trial 21 finished with value: 0.9532163742690059 and parameters: {'objective': 'Logloss', 'colsample_bylevel': 0.028039668549792833, 'depth': 12, 'boosting_type': 'Ordered', 'bootstrap_type': 'Bayesian', 'bagging_temperature': 6.806494356086929}. Best is trial 2 with value: 1.0.\u001B[0m\n",
      "\u001B[32m[I 2021-09-18 19:23:59,371]\u001B[0m Trial 34 finished with value: 0.9590643274853801 and parameters: {'objective': 'Logloss', 'colsample_bylevel': 0.010308063134322344, 'depth': 10, 'boosting_type': 'Plain', 'bootstrap_type': 'Bayesian', 'bagging_temperature': 1.8142602947400532}. Best is trial 2 with value: 1.0.\u001B[0m\n",
      "\u001B[32m[I 2021-09-18 19:24:01,389]\u001B[0m Trial 35 finished with value: 0.9824561403508771 and parameters: {'objective': 'Logloss', 'colsample_bylevel': 0.016763211392215913, 'depth': 10, 'boosting_type': 'Plain', 'bootstrap_type': 'Bayesian', 'bagging_temperature': 3.781345841532745}. Best is trial 2 with value: 1.0.\u001B[0m\n",
      "\u001B[32m[I 2021-09-18 19:24:03,051]\u001B[0m Trial 37 finished with value: 0.9532163742690059 and parameters: {'objective': 'Logloss', 'colsample_bylevel': 0.06974536579703591, 'depth': 5, 'boosting_type': 'Plain', 'bootstrap_type': 'Bayesian', 'bagging_temperature': 4.294695454607384}. Best is trial 2 with value: 1.0.\u001B[0m\n",
      "\u001B[32m[I 2021-09-18 19:24:03,529]\u001B[0m Trial 30 finished with value: 0.9707602339181286 and parameters: {'objective': 'Logloss', 'colsample_bylevel': 0.06500002161786808, 'depth': 10, 'boosting_type': 'Plain', 'bootstrap_type': 'Bayesian', 'bagging_temperature': 1.8088598131405882}. Best is trial 2 with value: 1.0.\u001B[0m\n",
      "\u001B[32m[I 2021-09-18 19:24:03,686]\u001B[0m Trial 16 finished with value: 0.9707602339181286 and parameters: {'objective': 'CrossEntropy', 'colsample_bylevel': 0.08529133698282246, 'depth': 7, 'boosting_type': 'Ordered', 'bootstrap_type': 'Bayesian', 'bagging_temperature': 9.075240174024009}. Best is trial 2 with value: 1.0.\u001B[0m\n",
      "Custom logger is already specified. Specify more than one logger at same time is not thread safe.\u001B[32m[I 2021-09-18 19:24:04,726]\u001B[0m Trial 9 finished with value: 0.9883040935672515 and parameters: {'objective': 'Logloss', 'colsample_bylevel': 0.055806705231937107, 'depth': 9, 'boosting_type': 'Ordered', 'bootstrap_type': 'MVS'}. Best is trial 2 with value: 1.0.\u001B[0m\n",
      "\u001B[32m[I 2021-09-18 19:24:05,166]\u001B[0m Trial 27 finished with value: 0.9649122807017544 and parameters: {'objective': 'Logloss', 'colsample_bylevel': 0.06231174656463179, 'depth': 11, 'boosting_type': 'Plain', 'bootstrap_type': 'Bayesian', 'bagging_temperature': 3.335708427424729}. Best is trial 2 with value: 1.0.\u001B[0m\n",
      "\u001B[32m[I 2021-09-18 19:24:05,558]\u001B[0m Trial 31 finished with value: 0.9590643274853801 and parameters: {'objective': 'Logloss', 'colsample_bylevel': 0.06233384073584473, 'depth': 10, 'boosting_type': 'Plain', 'bootstrap_type': 'Bayesian', 'bagging_temperature': 0.6775273723937394}. Best is trial 2 with value: 1.0.\u001B[0m\n",
      "\u001B[32m[I 2021-09-18 19:24:06,535]\u001B[0m Trial 36 finished with value: 0.9766081871345029 and parameters: {'objective': 'Logloss', 'colsample_bylevel': 0.07100501022582403, 'depth': 5, 'boosting_type': 'Plain', 'bootstrap_type': 'Bayesian', 'bagging_temperature': 4.234676652253626}. Best is trial 2 with value: 1.0.\u001B[0m\n",
      "\u001B[32m[I 2021-09-18 19:24:06,558]\u001B[0m Trial 42 finished with value: 0.9415204678362573 and parameters: {'objective': 'Logloss', 'colsample_bylevel': 0.07351771408505012, 'depth': 5, 'boosting_type': 'Plain', 'bootstrap_type': 'Bayesian', 'bagging_temperature': 5.676832604915353}. Best is trial 2 with value: 1.0.\u001B[0m\n",
      "Custom logger is already specified. Specify more than one logger at same time is not thread safe.\u001B[32m[I 2021-09-18 19:24:07,360]\u001B[0m Trial 38 finished with value: 0.9590643274853801 and parameters: {'objective': 'Logloss', 'colsample_bylevel': 0.07022849270391097, 'depth': 5, 'boosting_type': 'Plain', 'bootstrap_type': 'Bayesian', 'bagging_temperature': 4.32293312564849}. Best is trial 2 with value: 1.0.\u001B[0m\n",
      "\u001B[32m[I 2021-09-18 19:24:07,781]\u001B[0m Trial 26 finished with value: 0.9707602339181286 and parameters: {'objective': 'Logloss', 'colsample_bylevel': 0.06392655009894546, 'depth': 11, 'boosting_type': 'Plain', 'bootstrap_type': 'Bayesian', 'bagging_temperature': 3.226308987305392}. Best is trial 2 with value: 1.0.\u001B[0m\n",
      "\u001B[32m[I 2021-09-18 19:24:08,476]\u001B[0m Trial 41 finished with value: 0.9590643274853801 and parameters: {'objective': 'Logloss', 'colsample_bylevel': 0.09833414942951949, 'depth': 5, 'boosting_type': 'Plain', 'bootstrap_type': 'Bayesian', 'bagging_temperature': 5.786809232313434}. Best is trial 2 with value: 1.0.\u001B[0m\n",
      "\u001B[32m[I 2021-09-18 19:24:09,486]\u001B[0m Trial 39 finished with value: 0.9824561403508771 and parameters: {'objective': 'Logloss', 'colsample_bylevel': 0.06916899485592232, 'depth': 5, 'boosting_type': 'Plain', 'bootstrap_type': 'Bayesian', 'bagging_temperature': 4.243910600243708}. Best is trial 2 with value: 1.0.\u001B[0m\n",
      "\u001B[32m[I 2021-09-18 19:24:09,623]\u001B[0m Trial 40 finished with value: 0.9590643274853801 and parameters: {'objective': 'Logloss', 'colsample_bylevel': 0.07171473259651047, 'depth': 5, 'boosting_type': 'Plain', 'bootstrap_type': 'Bayesian', 'bagging_temperature': 5.035217263711845}. Best is trial 2 with value: 1.0.\u001B[0m\n",
      "\u001B[32m[I 2021-09-18 19:24:11,346]\u001B[0m Trial 44 finished with value: 0.9707602339181286 and parameters: {'objective': 'Logloss', 'colsample_bylevel': 0.0738077976498104, 'depth': 5, 'boosting_type': 'Plain', 'bootstrap_type': 'Bayesian', 'bagging_temperature': 5.364988422412667}. Best is trial 2 with value: 1.0.\u001B[0m\n",
      "\u001B[32m[I 2021-09-18 19:24:13,270]\u001B[0m Trial 28 finished with value: 0.9766081871345029 and parameters: {'objective': 'Logloss', 'colsample_bylevel': 0.06415727964955815, 'depth': 11, 'boosting_type': 'Plain', 'bootstrap_type': 'Bayesian', 'bagging_temperature': 4.31618694016776}. Best is trial 2 with value: 1.0.\u001B[0m\n",
      "\u001B[32m[I 2021-09-18 19:24:14,939]\u001B[0m Trial 43 finished with value: 0.9941520467836257 and parameters: {'objective': 'Logloss', 'colsample_bylevel': 0.09757857010547213, 'depth': 5, 'boosting_type': 'Plain', 'bootstrap_type': 'MVS'}. Best is trial 2 with value: 1.0.\u001B[0m\n",
      "\u001B[32m[I 2021-09-18 19:24:25,044]\u001B[0m Trial 46 finished with value: 0.9532163742690059 and parameters: {'objective': 'Logloss', 'colsample_bylevel': 0.09835189698458296, 'depth': 5, 'boosting_type': 'Ordered', 'bootstrap_type': 'MVS'}. Best is trial 2 with value: 1.0.\u001B[0m\n",
      "\u001B[32m[I 2021-09-18 19:24:29,102]\u001B[0m Trial 48 finished with value: 0.9473684210526315 and parameters: {'objective': 'Logloss', 'colsample_bylevel': 0.03621246126819706, 'depth': 8, 'boosting_type': 'Ordered', 'bootstrap_type': 'MVS'}. Best is trial 2 with value: 1.0.\u001B[0m\n",
      "\u001B[32m[I 2021-09-18 19:24:31,552]\u001B[0m Trial 45 finished with value: 0.9766081871345029 and parameters: {'objective': 'Logloss', 'colsample_bylevel': 0.07329491494922574, 'depth': 8, 'boosting_type': 'Ordered', 'bootstrap_type': 'MVS'}. Best is trial 2 with value: 1.0.\u001B[0m\n",
      "\u001B[32m[I 2021-09-18 19:24:40,761]\u001B[0m Trial 47 finished with value: 0.9590643274853801 and parameters: {'objective': 'Logloss', 'colsample_bylevel': 0.05203155584057155, 'depth': 8, 'boosting_type': 'Ordered', 'bootstrap_type': 'MVS'}. Best is trial 2 with value: 1.0.\u001B[0m\n",
      "\u001B[32m[I 2021-09-18 19:24:40,966]\u001B[0m Trial 55 finished with value: 0.9415204678362573 and parameters: {'objective': 'Logloss', 'colsample_bylevel': 0.051763096421110044, 'depth': 8, 'boosting_type': 'Ordered', 'bootstrap_type': 'MVS'}. Best is trial 2 with value: 1.0.\u001B[0m\n",
      "\u001B[32m[I 2021-09-18 19:24:49,824]\u001B[0m Trial 25 finished with value: 0.9707602339181286 and parameters: {'objective': 'Logloss', 'colsample_bylevel': 0.060935559279097155, 'depth': 11, 'boosting_type': 'Ordered', 'bootstrap_type': 'Bayesian', 'bagging_temperature': 0.4374495808508838}. Best is trial 2 with value: 1.0.\u001B[0m\n",
      "\u001B[32m[I 2021-09-18 19:24:51,762]\u001B[0m Trial 50 finished with value: 0.9590643274853801 and parameters: {'objective': 'Logloss', 'colsample_bylevel': 0.051730643157875005, 'depth': 8, 'boosting_type': 'Ordered', 'bootstrap_type': 'MVS'}. Best is trial 2 with value: 1.0.\u001B[0m\n",
      "\u001B[32m[I 2021-09-18 19:25:09,090]\u001B[0m Trial 52 finished with value: 0.9824561403508771 and parameters: {'objective': 'Logloss', 'colsample_bylevel': 0.04726144444003978, 'depth': 8, 'boosting_type': 'Ordered', 'bootstrap_type': 'MVS'}. Best is trial 2 with value: 1.0.\u001B[0m\n",
      "\u001B[32m[I 2021-09-18 19:25:09,724]\u001B[0m Trial 53 finished with value: 0.9824561403508771 and parameters: {'objective': 'Logloss', 'colsample_bylevel': 0.05213734158649393, 'depth': 8, 'boosting_type': 'Ordered', 'bootstrap_type': 'MVS'}. Best is trial 2 with value: 1.0.\u001B[0m\n",
      "\u001B[32m[I 2021-09-18 19:25:10,669]\u001B[0m Trial 49 finished with value: 0.9824561403508771 and parameters: {'objective': 'Logloss', 'colsample_bylevel': 0.052826390299173194, 'depth': 8, 'boosting_type': 'Ordered', 'bootstrap_type': 'MVS'}. Best is trial 2 with value: 1.0.\u001B[0m\n",
      "\u001B[32m[I 2021-09-18 19:25:12,878]\u001B[0m Trial 51 finished with value: 0.9824561403508771 and parameters: {'objective': 'Logloss', 'colsample_bylevel': 0.05364311323327379, 'depth': 8, 'boosting_type': 'Ordered', 'bootstrap_type': 'MVS'}. Best is trial 2 with value: 1.0.\u001B[0m\n",
      "\u001B[32m[I 2021-09-18 19:25:15,801]\u001B[0m Trial 54 finished with value: 0.9707602339181286 and parameters: {'objective': 'Logloss', 'colsample_bylevel': 0.05316872493159753, 'depth': 8, 'boosting_type': 'Ordered', 'bootstrap_type': 'MVS'}. Best is trial 2 with value: 1.0.\u001B[0m\n",
      "\u001B[32m[I 2021-09-18 19:25:16,594]\u001B[0m Trial 65 finished with value: 0.9766081871345029 and parameters: {'objective': 'Logloss', 'colsample_bylevel': 0.03777897470181576, 'depth': 6, 'boosting_type': 'Plain', 'bootstrap_type': 'MVS'}. Best is trial 2 with value: 1.0.\u001B[0m\n",
      "\u001B[32m[I 2021-09-18 19:25:22,461]\u001B[0m Trial 59 finished with value: 0.9883040935672515 and parameters: {'objective': 'Logloss', 'colsample_bylevel': 0.052814922220077616, 'depth': 6, 'boosting_type': 'Ordered', 'bootstrap_type': 'MVS'}. Best is trial 2 with value: 1.0.\u001B[0m\n",
      "\u001B[32m[I 2021-09-18 19:25:22,762]\u001B[0m Trial 56 finished with value: 0.9707602339181286 and parameters: {'objective': 'Logloss', 'colsample_bylevel': 0.05407523106795062, 'depth': 8, 'boosting_type': 'Ordered', 'bootstrap_type': 'MVS'}. Best is trial 2 with value: 1.0.\u001B[0m\n",
      "\u001B[32m[I 2021-09-18 19:25:30,485]\u001B[0m Trial 57 finished with value: 0.9824561403508771 and parameters: {'objective': 'Logloss', 'colsample_bylevel': 0.05215963768623127, 'depth': 8, 'boosting_type': 'Ordered', 'bootstrap_type': 'MVS'}. Best is trial 2 with value: 1.0.\u001B[0m\n",
      "\u001B[32m[I 2021-09-18 19:25:30,532]\u001B[0m Trial 58 finished with value: 0.9649122807017544 and parameters: {'objective': 'Logloss', 'colsample_bylevel': 0.05450402800642889, 'depth': 6, 'boosting_type': 'Ordered', 'bootstrap_type': 'MVS'}. Best is trial 2 with value: 1.0.\u001B[0m\n",
      "Custom logger is already specified. Specify more than one logger at same time is not thread safe.\u001B[32m[I 2021-09-18 19:25:32,802]\u001B[0m Trial 61 finished with value: 0.9590643274853801 and parameters: {'objective': 'Logloss', 'colsample_bylevel': 0.03985667788985481, 'depth': 6, 'boosting_type': 'Ordered', 'bootstrap_type': 'MVS'}. Best is trial 2 with value: 1.0.\u001B[0m\n",
      "\u001B[32m[I 2021-09-18 19:25:40,203]\u001B[0m Trial 74 finished with value: 0.9824561403508771 and parameters: {'objective': 'CrossEntropy', 'colsample_bylevel': 0.09349267146709386, 'depth': 4, 'boosting_type': 'Plain', 'bootstrap_type': 'Bernoulli', 'subsample': 0.5015684959150294}. Best is trial 2 with value: 1.0.\u001B[0m\n",
      "\u001B[32m[I 2021-09-18 19:25:41,020]\u001B[0m Trial 73 finished with value: 0.9590643274853801 and parameters: {'objective': 'CrossEntropy', 'colsample_bylevel': 0.08023768879192997, 'depth': 4, 'boosting_type': 'Plain', 'bootstrap_type': 'Bernoulli', 'subsample': 0.4864606165698384}. Best is trial 2 with value: 1.0.\u001B[0m\n",
      "\u001B[32m[I 2021-09-18 19:25:42,255]\u001B[0m Trial 29 finished with value: 0.9590643274853801 and parameters: {'objective': 'Logloss', 'colsample_bylevel': 0.06634620698785507, 'depth': 10, 'boosting_type': 'Ordered', 'bootstrap_type': 'Bayesian', 'bagging_temperature': 7.14138784667778}. Best is trial 2 with value: 1.0.\u001B[0m\n",
      "\u001B[32m[I 2021-09-18 19:25:43,300]\u001B[0m Trial 71 finished with value: 0.9707602339181286 and parameters: {'objective': 'CrossEntropy', 'colsample_bylevel': 0.05849095607204412, 'depth': 4, 'boosting_type': 'Ordered', 'bootstrap_type': 'MVS'}. Best is trial 2 with value: 1.0.\u001B[0m\n",
      "\u001B[32m[I 2021-09-18 19:25:46,076]\u001B[0m Trial 60 finished with value: 0.9883040935672515 and parameters: {'objective': 'Logloss', 'colsample_bylevel': 0.055761968597875015, 'depth': 6, 'boosting_type': 'Ordered', 'bootstrap_type': 'MVS'}. Best is trial 2 with value: 1.0.\u001B[0m\n",
      "\u001B[32m[I 2021-09-18 19:25:47,930]\u001B[0m Trial 76 finished with value: 0.9473684210526315 and parameters: {'objective': 'Logloss', 'colsample_bylevel': 0.09494192041205284, 'depth': 4, 'boosting_type': 'Plain', 'bootstrap_type': 'Bayesian', 'bagging_temperature': 9.900100090477384}. Best is trial 2 with value: 1.0.\u001B[0m\n",
      "\u001B[32m[I 2021-09-18 19:25:49,338]\u001B[0m Trial 68 finished with value: 0.935672514619883 and parameters: {'objective': 'Logloss', 'colsample_bylevel': 0.04050404514578332, 'depth': 6, 'boosting_type': 'Ordered', 'bootstrap_type': 'MVS'}. Best is trial 2 with value: 1.0.\u001B[0m\n",
      "\u001B[32m[I 2021-09-18 19:25:50,289]\u001B[0m Trial 75 finished with value: 0.9824561403508771 and parameters: {'objective': 'CrossEntropy', 'colsample_bylevel': 0.05823563137109372, 'depth': 4, 'boosting_type': 'Plain', 'bootstrap_type': 'Bernoulli', 'subsample': 0.4814509031604591}. Best is trial 2 with value: 1.0.\u001B[0m\n",
      "\u001B[32m[I 2021-09-18 19:25:50,890]\u001B[0m Trial 62 finished with value: 0.9766081871345029 and parameters: {'objective': 'Logloss', 'colsample_bylevel': 0.037970493361362045, 'depth': 6, 'boosting_type': 'Ordered', 'bootstrap_type': 'MVS'}. Best is trial 2 with value: 1.0.\u001B[0m\n",
      "\u001B[32m[I 2021-09-18 19:25:50,962]\u001B[0m Trial 77 finished with value: 0.9649122807017544 and parameters: {'objective': 'Logloss', 'colsample_bylevel': 0.09396849310146217, 'depth': 3, 'boosting_type': 'Plain', 'bootstrap_type': 'Bayesian', 'bagging_temperature': 9.677843123789547}. Best is trial 2 with value: 1.0.\u001B[0m\n",
      "\u001B[32m[I 2021-09-18 19:25:52,702]\u001B[0m Trial 78 finished with value: 0.9766081871345029 and parameters: {'objective': 'Logloss', 'colsample_bylevel': 0.09277105527212255, 'depth': 3, 'boosting_type': 'Plain', 'bootstrap_type': 'Bayesian', 'bagging_temperature': 6.178892614082633}. Best is trial 2 with value: 1.0.\u001B[0m\n",
      "\u001B[32m[I 2021-09-18 19:25:55,276]\u001B[0m Trial 72 finished with value: 0.9532163742690059 and parameters: {'objective': 'CrossEntropy', 'colsample_bylevel': 0.09544026409596854, 'depth': 4, 'boosting_type': 'Ordered', 'bootstrap_type': 'Bernoulli', 'subsample': 0.48742096553668907}. Best is trial 2 with value: 1.0.\u001B[0m\n",
      "\u001B[32m[I 2021-09-18 19:25:55,560]\u001B[0m Trial 63 finished with value: 0.9707602339181286 and parameters: {'objective': 'Logloss', 'colsample_bylevel': 0.03902565421429582, 'depth': 6, 'boosting_type': 'Ordered', 'bootstrap_type': 'MVS'}. Best is trial 2 with value: 1.0.\u001B[0m\n",
      "\u001B[32m[I 2021-09-18 19:26:06,247]\u001B[0m Trial 87 finished with value: 0.9532163742690059 and parameters: {'objective': 'Logloss', 'colsample_bylevel': 0.01986902678201349, 'depth': 9, 'boosting_type': 'Plain', 'bootstrap_type': 'Bayesian', 'bagging_temperature': 2.519191501094661}. Best is trial 2 with value: 1.0.\u001B[0m\n",
      "\u001B[32m[I 2021-09-18 19:26:12,007]\u001B[0m Trial 64 finished with value: 0.9649122807017544 and parameters: {'objective': 'Logloss', 'colsample_bylevel': 0.039290115040583114, 'depth': 6, 'boosting_type': 'Ordered', 'bootstrap_type': 'MVS'}. Best is trial 2 with value: 1.0.\u001B[0m\n",
      "\u001B[32m[I 2021-09-18 19:26:12,277]\u001B[0m Trial 88 finished with value: 0.9766081871345029 and parameters: {'objective': 'CrossEntropy', 'colsample_bylevel': 0.08933700536524583, 'depth': 7, 'boosting_type': 'Plain', 'bootstrap_type': 'Bernoulli', 'subsample': 0.9936337716815287}. Best is trial 2 with value: 1.0.\u001B[0m\n",
      "\u001B[32m[I 2021-09-18 19:26:20,874]\u001B[0m Trial 67 finished with value: 0.9941520467836257 and parameters: {'objective': 'Logloss', 'colsample_bylevel': 0.03903993273917089, 'depth': 6, 'boosting_type': 'Ordered', 'bootstrap_type': 'MVS'}. Best is trial 2 with value: 1.0.\u001B[0m\n",
      "\u001B[32m[I 2021-09-18 19:26:22,487]\u001B[0m Trial 66 finished with value: 0.9824561403508771 and parameters: {'objective': 'Logloss', 'colsample_bylevel': 0.0579305449043594, 'depth': 6, 'boosting_type': 'Ordered', 'bootstrap_type': 'MVS'}. Best is trial 2 with value: 1.0.\u001B[0m\n",
      "\u001B[32m[I 2021-09-18 19:26:23,191]\u001B[0m Trial 90 finished with value: 0.9415204678362573 and parameters: {'objective': 'Logloss', 'colsample_bylevel': 0.01764630368055335, 'depth': 9, 'boosting_type': 'Plain', 'bootstrap_type': 'Bayesian', 'bagging_temperature': 7.6930055456715145}. Best is trial 2 with value: 1.0.\u001B[0m\n",
      "\u001B[32m[I 2021-09-18 19:26:23,639]\u001B[0m Trial 69 finished with value: 0.9766081871345029 and parameters: {'objective': 'Logloss', 'colsample_bylevel': 0.05786798193593924, 'depth': 4, 'boosting_type': 'Ordered', 'bootstrap_type': 'Bernoulli', 'subsample': 0.4757567098332723}. Best is trial 2 with value: 1.0.\u001B[0m\n",
      "\u001B[32m[I 2021-09-18 19:26:29,519]\u001B[0m Trial 70 finished with value: 0.9766081871345029 and parameters: {'objective': 'Logloss', 'colsample_bylevel': 0.05772507407825455, 'depth': 4, 'boosting_type': 'Ordered', 'bootstrap_type': 'MVS'}. Best is trial 2 with value: 1.0.\u001B[0m\n",
      "\u001B[32m[I 2021-09-18 19:26:33,175]\u001B[0m Trial 89 finished with value: 0.9649122807017544 and parameters: {'objective': 'Logloss', 'colsample_bylevel': 0.08783364756285637, 'depth': 9, 'boosting_type': 'Plain', 'bootstrap_type': 'Bayesian', 'bagging_temperature': 7.825457537072266}. Best is trial 2 with value: 1.0.\u001B[0m\n",
      "\u001B[32m[I 2021-09-18 19:26:38,779]\u001B[0m Trial 14 finished with value: 0.9707602339181286 and parameters: {'objective': 'CrossEntropy', 'colsample_bylevel': 0.09823118031672995, 'depth': 12, 'boosting_type': 'Ordered', 'bootstrap_type': 'MVS'}. Best is trial 2 with value: 1.0.\u001B[0m\n",
      "\u001B[32m[I 2021-09-18 19:26:44,564]\u001B[0m Trial 79 finished with value: 0.9649122807017544 and parameters: {'objective': 'Logloss', 'colsample_bylevel': 0.05768657141018427, 'depth': 9, 'boosting_type': 'Ordered', 'bootstrap_type': 'MVS'}. Best is trial 2 with value: 1.0.\u001B[0m\n",
      "\u001B[32m[I 2021-09-18 19:26:47,211]\u001B[0m Trial 86 finished with value: 0.9590643274853801 and parameters: {'objective': 'Logloss', 'colsample_bylevel': 0.08902843677190622, 'depth': 9, 'boosting_type': 'Ordered', 'bootstrap_type': 'MVS'}. Best is trial 2 with value: 1.0.\u001B[0m\n",
      "\u001B[32m[I 2021-09-18 19:26:49,617]\u001B[0m Trial 97 finished with value: 0.9824561403508771 and parameters: {'objective': 'Logloss', 'colsample_bylevel': 0.044542992374197454, 'depth': 7, 'boosting_type': 'Plain', 'bootstrap_type': 'Bayesian', 'bagging_temperature': 8.750931566901233}. Best is trial 2 with value: 1.0.\u001B[0m\n",
      "\u001B[32m[I 2021-09-18 19:26:50,246]\u001B[0m Trial 82 finished with value: 0.9473684210526315 and parameters: {'objective': 'Logloss', 'colsample_bylevel': 0.04565864401237564, 'depth': 3, 'boosting_type': 'Ordered', 'bootstrap_type': 'MVS'}. Best is trial 2 with value: 1.0.\u001B[0m\n",
      "\u001B[32m[I 2021-09-18 19:26:54,393]\u001B[0m Trial 98 finished with value: 0.9883040935672515 and parameters: {'objective': 'Logloss', 'colsample_bylevel': 0.03169145810632487, 'depth': 7, 'boosting_type': 'Plain', 'bootstrap_type': 'Bayesian', 'bagging_temperature': 2.7112186909424167}. Best is trial 2 with value: 1.0.\u001B[0m\n",
      "\u001B[32m[I 2021-09-18 19:27:00,522]\u001B[0m Trial 93 finished with value: 0.935672514619883 and parameters: {'objective': 'Logloss', 'colsample_bylevel': 0.031938298377068616, 'depth': 7, 'boosting_type': 'Ordered', 'bootstrap_type': 'MVS'}. Best is trial 2 with value: 1.0.\u001B[0m\n",
      "\u001B[32m[I 2021-09-18 19:27:01,800]\u001B[0m Trial 91 finished with value: 0.9473684210526315 and parameters: {'objective': 'Logloss', 'colsample_bylevel': 0.0332273436957654, 'depth': 7, 'boosting_type': 'Ordered', 'bootstrap_type': 'MVS'}. Best is trial 2 with value: 1.0.\u001B[0m\n",
      "\u001B[32m[I 2021-09-18 19:27:04,615]\u001B[0m Trial 83 finished with value: 0.9766081871345029 and parameters: {'objective': 'Logloss', 'colsample_bylevel': 0.04803157637619412, 'depth': 9, 'boosting_type': 'Ordered', 'bootstrap_type': 'MVS'}. Best is trial 2 with value: 1.0.\u001B[0m\n",
      "\u001B[32m[I 2021-09-18 19:27:05,213]\u001B[0m Trial 92 finished with value: 0.9649122807017544 and parameters: {'objective': 'Logloss', 'colsample_bylevel': 0.03453571038289594, 'depth': 9, 'boosting_type': 'Ordered', 'bootstrap_type': 'MVS'}. Best is trial 2 with value: 1.0.\u001B[0m\n",
      "\u001B[32m[I 2021-09-18 19:27:05,283]\u001B[0m Trial 96 finished with value: 0.9766081871345029 and parameters: {'objective': 'Logloss', 'colsample_bylevel': 0.047834087558402814, 'depth': 7, 'boosting_type': 'Ordered', 'bootstrap_type': 'MVS'}. Best is trial 2 with value: 1.0.\u001B[0m\n",
      "\u001B[32m[I 2021-09-18 19:27:06,883]\u001B[0m Trial 81 finished with value: 0.9707602339181286 and parameters: {'objective': 'Logloss', 'colsample_bylevel': 0.09000456683032514, 'depth': 7, 'boosting_type': 'Ordered', 'bootstrap_type': 'MVS'}. Best is trial 2 with value: 1.0.\u001B[0m\n",
      "\u001B[32m[I 2021-09-18 19:27:12,288]\u001B[0m Trial 80 finished with value: 0.9766081871345029 and parameters: {'objective': 'Logloss', 'colsample_bylevel': 0.08906736534041919, 'depth': 9, 'boosting_type': 'Ordered', 'bootstrap_type': 'MVS'}. Best is trial 2 with value: 1.0.\u001B[0m\n",
      "\u001B[32m[I 2021-09-18 19:27:13,197]\u001B[0m Trial 85 finished with value: 0.9824561403508771 and parameters: {'objective': 'Logloss', 'colsample_bylevel': 0.08949648097401104, 'depth': 7, 'boosting_type': 'Ordered', 'bootstrap_type': 'MVS'}. Best is trial 2 with value: 1.0.\u001B[0m\n",
      "\u001B[32m[I 2021-09-18 19:27:13,750]\u001B[0m Trial 94 finished with value: 0.9473684210526315 and parameters: {'objective': 'Logloss', 'colsample_bylevel': 0.03354714410877067, 'depth': 7, 'boosting_type': 'Ordered', 'bootstrap_type': 'MVS'}. Best is trial 2 with value: 1.0.\u001B[0m\n",
      "\u001B[32m[I 2021-09-18 19:27:15,033]\u001B[0m Trial 95 finished with value: 0.9766081871345029 and parameters: {'objective': 'Logloss', 'colsample_bylevel': 0.03441153353823461, 'depth': 7, 'boosting_type': 'Ordered', 'bootstrap_type': 'MVS'}. Best is trial 2 with value: 1.0.\u001B[0m\n",
      "\u001B[32m[I 2021-09-18 19:27:15,276]\u001B[0m Trial 84 finished with value: 0.9649122807017544 and parameters: {'objective': 'Logloss', 'colsample_bylevel': 0.08846819379689898, 'depth': 9, 'boosting_type': 'Ordered', 'bootstrap_type': 'MVS'}. Best is trial 2 with value: 1.0.\u001B[0m\n",
      "\u001B[32m[I 2021-09-18 19:27:15,764]\u001B[0m Trial 99 finished with value: 0.9707602339181286 and parameters: {'objective': 'Logloss', 'colsample_bylevel': 0.046850698176476635, 'depth': 7, 'boosting_type': 'Ordered', 'bootstrap_type': 'MVS'}. Best is trial 2 with value: 1.0.\u001B[0m\n",
      "\u001B[32m[I 2021-09-18 19:28:23,853]\u001B[0m Trial 7 finished with value: 0.9707602339181286 and parameters: {'objective': 'CrossEntropy', 'colsample_bylevel': 0.09470801619084611, 'depth': 12, 'boosting_type': 'Ordered', 'bootstrap_type': 'Bernoulli', 'subsample': 0.18382588106978104}. Best is trial 2 with value: 1.0.\u001B[0m\n"
     ]
    }
   ],
   "source": [
    "study = optuna.create_study(direction=\"maximize\")\n",
    "func = lambda trial: objective(trial, data, target)\n",
    "study.optimize(func, n_trials=100, timeout=600, n_jobs=-1)"
   ],
   "metadata": {
    "collapsed": false,
    "pycharm": {
     "name": "#%%\n"
    }
   }
  },
  {
   "cell_type": "code",
   "execution_count": 21,
   "outputs": [
    {
     "name": "stdout",
     "output_type": "stream",
     "text": [
      "1.0\n",
      "{'objective': 'Logloss', 'colsample_bylevel': 0.04268300187977849, 'depth': 8, 'boosting_type': 'Plain', 'bootstrap_type': 'Bayesian', 'bagging_temperature': 3.8610391720677595}\n"
     ]
    }
   ],
   "source": [
    "# 最优结果\n",
    "print(study.best_value)\n",
    "\n",
    "# 最优参数\n",
    "print(study.best_params)\n"
   ],
   "metadata": {
    "collapsed": false,
    "pycharm": {
     "name": "#%%\n"
    }
   }
  }
 ],
 "metadata": {
  "kernelspec": {
   "display_name": "Python 3",
   "language": "python",
   "name": "python3"
  },
  "language_info": {
   "codemirror_mode": {
    "name": "ipython",
    "version": 2
   },
   "file_extension": ".py",
   "mimetype": "text/x-python",
   "name": "python",
   "nbconvert_exporter": "python",
   "pygments_lexer": "ipython2",
   "version": "2.7.6"
  }
 },
 "nbformat": 4,
 "nbformat_minor": 0
}