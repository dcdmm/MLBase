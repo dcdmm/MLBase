{
 "cells": [
  {
   "cell_type": "code",
   "execution_count": 1,
   "metadata": {
    "collapsed": true
   },
   "outputs": [
    {
     "name": "stderr",
     "output_type": "stream",
     "text": [
      "Building prefix dict from the default dictionary ...\n",
      "Dumping model to file cache C:\\Users\\duanm\\AppData\\Local\\Temp\\jieba.cache\n",
      "Loading model cost 0.754 seconds.\n",
      "Prefix dict has been built successfully.\n"
     ]
    },
    {
     "name": "stdout",
     "output_type": "stream",
     "text": [
      "word 我\t\t start: 0 \t\t end:1\n",
      "word 在\t\t start: 1 \t\t end:2\n",
      "word 学习\t\t start: 2 \t\t end:4\n",
      "word 自然语言\t\t start: 4 \t\t end:8\n",
      "word 处理\t\t start: 8 \t\t end:10\n"
     ]
    }
   ],
   "source": [
    "import jieba\n",
    "\n",
    "# Tokenize a sentence and yields tuples of (word, start, end)\n",
    "result = jieba.tokenize(u'我在学习自然语言处理')\n",
    "for tk in result:\n",
    "    print(\"word %s\\t\\t start: %d \\t\\t end:%d\" % (tk[0], tk[1], tk[2]))"
   ]
  },
  {
   "cell_type": "code",
   "execution_count": 2,
   "outputs": [
    {
     "name": "stdout",
     "output_type": "stream",
     "text": [
      "word 我\t\t start: 0 \t\t end:1\n",
      "word 在\t\t start: 1 \t\t end:2\n",
      "word 学习\t\t start: 2 \t\t end:4\n",
      "word 自然\t\t start: 4 \t\t end:6\n",
      "word 语言\t\t start: 6 \t\t end:8\n",
      "word 自然语言\t\t start: 4 \t\t end:8\n",
      "word 处理\t\t start: 8 \t\t end:10\n"
     ]
    }
   ],
   "source": [
    "result = jieba.tokenize(u'我在学习自然语言处理', mode='search')\n",
    "for tk in result:\n",
    "    print(\"word %s\\t\\t start: %d \\t\\t end:%d\" % (tk[0], tk[1], tk[2]))"
   ],
   "metadata": {
    "collapsed": false,
    "pycharm": {
     "name": "#%%\n"
    }
   }
  }
 ],
 "metadata": {
  "kernelspec": {
   "display_name": "Python 3",
   "language": "python",
   "name": "python3"
  },
  "language_info": {
   "codemirror_mode": {
    "name": "ipython",
    "version": 2
   },
   "file_extension": ".py",
   "mimetype": "text/x-python",
   "name": "python",
   "nbconvert_exporter": "python",
   "pygments_lexer": "ipython2",
   "version": "2.7.6"
  }
 },
 "nbformat": 4,
 "nbformat_minor": 0
}