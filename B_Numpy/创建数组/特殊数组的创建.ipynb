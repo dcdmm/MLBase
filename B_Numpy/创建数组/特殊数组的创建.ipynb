{
 "cells": [
  {
   "cell_type": "markdown",
   "metadata": {
    "pycharm": {
     "metadata": false,
     "name": "#%% md\n"
    }
   },
   "source": [
    "## 特殊数组的创建\n",
    "1.  numpy.eye\n",
    "2.  numpy.ones/number.zeros_like\n",
    "3.  numpy.zeros/number.zeros_like\n",
    "4.  numpy.empty/numpy.empty_like\n",
    "5.  numpy.full/number.full_like\n",
    "5.  numpy.diag"
   ]
  },
  {
   "cell_type": "code",
   "metadata": {
    "pycharm": {
     "is_executing": false,
     "name": "#%%\n"
    },
    "ExecuteTime": {
     "end_time": "2024-10-25T04:01:48.636727Z",
     "start_time": "2024-10-25T04:01:48.546021Z"
    }
   },
   "source": [
    "import numpy as np\n",
    "# Return a 2-D array with ones on the diagonal and zeros elsewhere.\n",
    "'''\n",
    "k : int, optional\n",
    "    Index of the diagonal: 0 (the default) refers to the main diagonal, a positive value\n",
    "    refers to an upper diagonal, and a negative value to a lower diagonal.\n",
    "'''\n",
    "print(np.eye(3))  # 默认k=0,dtype=float\n",
    "print(np.eye(3, k=1), end='\\n\\n')\n",
    "print(np.eye(3, k=2), end='\\n\\n')\n",
    "print(np.eye(3, k=-1), end='\\n\\n')\n",
    "print(np.eye(3, k=-2), end='\\n\\n')"
   ],
   "outputs": [
    {
     "name": "stdout",
     "output_type": "stream",
     "text": [
      "[[1. 0. 0.]\n",
      " [0. 1. 0.]\n",
      " [0. 0. 1.]]\n",
      "[[0. 1. 0.]\n",
      " [0. 0. 1.]\n",
      " [0. 0. 0.]]\n",
      "\n",
      "[[0. 0. 1.]\n",
      " [0. 0. 0.]\n",
      " [0. 0. 0.]]\n",
      "\n",
      "[[0. 0. 0.]\n",
      " [1. 0. 0.]\n",
      " [0. 1. 0.]]\n",
      "\n",
      "[[0. 0. 0.]\n",
      " [0. 0. 0.]\n",
      " [1. 0. 0.]]\n",
      "\n"
     ]
    }
   ],
   "execution_count": 1
  },
  {
   "cell_type": "code",
   "metadata": {
    "pycharm": {
     "is_executing": false,
     "metadata": false,
     "name": "#%%\n"
    },
    "ExecuteTime": {
     "end_time": "2024-10-25T04:01:48.644507Z",
     "start_time": "2024-10-25T04:01:48.640732Z"
    }
   },
   "source": [
    "# Return a new array of given shape and type, filled with ones.\n",
    "print(np.ones(5), end='\\n\\n')  # 向量/vector\n",
    "one = np.ones((2, 2))\n",
    "print(one)\n",
    "one_like = np.ones_like(one)\n",
    "print(one_like)"
   ],
   "outputs": [
    {
     "name": "stdout",
     "output_type": "stream",
     "text": [
      "[1. 1. 1. 1. 1.]\n",
      "\n",
      "[[1. 1.]\n",
      " [1. 1.]]\n",
      "[[1. 1.]\n",
      " [1. 1.]]\n"
     ]
    }
   ],
   "execution_count": 2
  },
  {
   "cell_type": "code",
   "metadata": {
    "pycharm": {
     "is_executing": false,
     "metadata": false,
     "name": "#%%\n"
    },
    "ExecuteTime": {
     "end_time": "2024-10-25T04:01:48.757853Z",
     "start_time": "2024-10-25T04:01:48.753686Z"
    }
   },
   "source": [
    "# Return a new array of given shape and type, filled with zeros.\n",
    "print(np.zeros(5), end='\\n\\n')\n",
    "print(np.zeros((2, 2)))"
   ],
   "outputs": [
    {
     "name": "stdout",
     "output_type": "stream",
     "text": [
      "[0. 0. 0. 0. 0.]\n",
      "\n",
      "[[0. 0.]\n",
      " [0. 0.]]\n"
     ]
    }
   ],
   "execution_count": 3
  },
  {
   "cell_type": "code",
   "metadata": {
    "pycharm": {
     "is_executing": false,
     "metadata": false,
     "name": "#%%\n"
    },
    "ExecuteTime": {
     "end_time": "2024-10-25T04:01:48.852595Z",
     "start_time": "2024-10-25T04:01:48.847848Z"
    }
   },
   "source": [
    "np.empty((2, 4))  # Return a new array of given shape and type, without initializing entries."
   ],
   "outputs": [
    {
     "data": {
      "text/plain": [
       "array([[0., 0., 0., 0.],\n",
       "       [0., 0., 0., 0.]])"
      ]
     },
     "execution_count": 4,
     "metadata": {},
     "output_type": "execute_result"
    }
   ],
   "execution_count": 4
  },
  {
   "cell_type": "code",
   "metadata": {
    "pycharm": {
     "is_executing": false,
     "name": "#%%\n"
    },
    "ExecuteTime": {
     "end_time": "2024-10-25T04:01:49.245123Z",
     "start_time": "2024-10-25T04:01:49.241336Z"
    }
   },
   "source": [
    "# Return a new array of given shape and type, filled with fill_value.\n",
    "inf = np.full((2, 2), np.inf)\n",
    "inf"
   ],
   "outputs": [
    {
     "data": {
      "text/plain": [
       "array([[inf, inf],\n",
       "       [inf, inf]])"
      ]
     },
     "execution_count": 5,
     "metadata": {},
     "output_type": "execute_result"
    }
   ],
   "execution_count": 5
  },
  {
   "cell_type": "code",
   "metadata": {
    "pycharm": {
     "is_executing": false,
     "name": "#%%\n"
    },
    "ExecuteTime": {
     "end_time": "2024-10-25T04:01:49.286212Z",
     "start_time": "2024-10-25T04:01:49.282213Z"
    }
   },
   "source": [
    "e = np.full_like(inf, np.e)\n",
    "e"
   ],
   "outputs": [
    {
     "data": {
      "text/plain": [
       "array([[2.71828183, 2.71828183],\n",
       "       [2.71828183, 2.71828183]])"
      ]
     },
     "execution_count": 6,
     "metadata": {},
     "output_type": "execute_result"
    }
   ],
   "execution_count": 6
  },
  {
   "cell_type": "code",
   "metadata": {
    "pycharm": {
     "is_executing": false,
     "name": "#%%\n"
    },
    "ExecuteTime": {
     "end_time": "2024-10-25T04:01:49.434255Z",
     "start_time": "2024-10-25T04:01:49.430225Z"
    }
   },
   "source": [
    "x = np.arange(9).reshape((3,3))\n",
    "print(x)\n",
    "print(np.diag(x))  # Extract a diagonal\n",
    "'''\n",
    "k : int, optional\n",
    "    Diagonal in question. The default is 0. Use k>0 for diagonals above the main \n",
    "    diagonal, and k<0 for diagonals below the main diagonal.\n",
    "'''\n",
    "print(np.diag(x, k=1))"
   ],
   "outputs": [
    {
     "name": "stdout",
     "output_type": "stream",
     "text": [
      "[[0 1 2]\n",
      " [3 4 5]\n",
      " [6 7 8]]\n",
      "[0 4 8]\n",
      "[1 5]\n"
     ]
    }
   ],
   "execution_count": 7
  },
  {
   "cell_type": "code",
   "metadata": {
    "pycharm": {
     "is_executing": false,
     "name": "#%%\n"
    },
    "ExecuteTime": {
     "end_time": "2024-10-25T04:01:49.515671Z",
     "start_time": "2024-10-25T04:01:49.512166Z"
    }
   },
   "source": [
    "print(np.diag((2, 3, 4)))  # construct a diagonal array."
   ],
   "outputs": [
    {
     "name": "stdout",
     "output_type": "stream",
     "text": [
      "[[2 0 0]\n",
      " [0 3 0]\n",
      " [0 0 4]]\n"
     ]
    }
   ],
   "execution_count": 8
  }
 ],
 "metadata": {
  "kernelspec": {
   "display_name": "Python 3 (ipykernel)",
   "language": "python",
   "name": "python3"
  },
  "language_info": {
   "codemirror_mode": {
    "name": "ipython",
    "version": 3
   },
   "file_extension": ".py",
   "mimetype": "text/x-python",
   "name": "python",
   "nbconvert_exporter": "python",
   "pygments_lexer": "ipython3",
   "version": "3.8.11"
  },
  "stem_cell": {
   "cell_type": "raw",
   "metadata": {
    "pycharm": {
     "metadata": false
    }
   },
   "source": ""
  }
 },
 "nbformat": 4,
 "nbformat_minor": 1
}
