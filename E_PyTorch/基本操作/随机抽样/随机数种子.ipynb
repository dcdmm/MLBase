{
 "cells": [
  {
   "cell_type": "code",
   "execution_count": 1,
   "metadata": {
    "collapsed": true
   },
   "outputs": [],
   "source": [
    "import torch\n",
    "import numpy as np\n",
    "import random\n",
    "\n",
    "def set_seed(seed):\n",
    "    \"\"\"PyTorch随机数种子设置大全\"\"\"\n",
    "    np.random.seed(seed)\n",
    "    random.seed(seed)\n",
    "    torch.manual_seed(seed) # CPU上设置随机种子\n",
    "    torch.cuda.manual_seed(seed) # 当前GPU上设置随机种子\n",
    "    # torch.cuda.manual_seed_all(seed) # 所有GPU设置随机种子"
   ]
  },
  {
   "cell_type": "code",
   "execution_count": 2,
   "outputs": [
    {
     "name": "stdout",
     "output_type": "stream",
     "text": [
      "[[ 1.78862847  0.43650985  0.09649747]\n",
      " [-1.8634927  -0.2773882  -0.35475898]]\n",
      "tensor([[ 0.8033,  0.1748,  0.0890],\n",
      "        [-0.6137,  0.0462, -1.3683]])\n",
      "[[ 1.78862847  0.43650985  0.09649747]\n",
      " [-1.8634927  -0.2773882  -0.35475898]]\n",
      "tensor([[ 0.8033,  0.1748,  0.0890],\n",
      "        [-0.6137,  0.0462, -1.3683]])\n",
      "[[ 1.78862847  0.43650985  0.09649747]\n",
      " [-1.8634927  -0.2773882  -0.35475898]]\n",
      "tensor([[ 0.8033,  0.1748,  0.0890],\n",
      "        [-0.6137,  0.0462, -1.3683]])\n",
      "[[ 1.78862847  0.43650985  0.09649747]\n",
      " [-1.8634927  -0.2773882  -0.35475898]]\n",
      "tensor([[ 0.8033,  0.1748,  0.0890],\n",
      "        [-0.6137,  0.0462, -1.3683]])\n",
      "[[ 1.78862847  0.43650985  0.09649747]\n",
      " [-1.8634927  -0.2773882  -0.35475898]]\n",
      "tensor([[ 0.8033,  0.1748,  0.0890],\n",
      "        [-0.6137,  0.0462, -1.3683]])\n",
      "\n",
      "\n",
      "\n",
      "[[-0.08274148 -0.62700068 -0.04381817]\n",
      " [-0.47721803 -1.31386475  0.88462238]]\n",
      "tensor([[ 0.3375,  1.0111, -1.4352],\n",
      "        [ 0.9774,  0.5220,  1.2379]])\n"
     ]
    }
   ],
   "source": [
    "num = 0\n",
    "while num < 5:\n",
    "  set_seed(3)\n",
    "  print(np.random.randn(2, 3))\n",
    "  print(torch.randn(2, 3))\n",
    "  num += 1\n",
    "\n",
    "print(end='\\n\\n\\n')\n",
    "print(np.random.randn(2, 3))\n",
    "print(torch.randn(2, 3))"
   ],
   "metadata": {
    "collapsed": false,
    "pycharm": {
     "name": "#%%\n"
    }
   }
  },
  {
   "cell_type": "code",
   "execution_count": 2,
   "outputs": [],
   "source": [
    "\n"
   ],
   "metadata": {
    "collapsed": false,
    "pycharm": {
     "name": "#%%\n"
    }
   }
  }
 ],
 "metadata": {
  "kernelspec": {
   "display_name": "Python 3",
   "language": "python",
   "name": "python3"
  },
  "language_info": {
   "codemirror_mode": {
    "name": "ipython",
    "version": 2
   },
   "file_extension": ".py",
   "mimetype": "text/x-python",
   "name": "python",
   "nbconvert_exporter": "python",
   "pygments_lexer": "ipython2",
   "version": "2.7.6"
  }
 },
 "nbformat": 4,
 "nbformat_minor": 0
}