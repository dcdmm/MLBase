{
 "cells": [
  {
   "cell_type": "code",
   "execution_count": 8,
   "metadata": {
    "collapsed": true
   },
   "outputs": [
    {
     "data": {
      "text/plain": "PackedSequence(data=tensor([4, 1, 3, 5, 2, 6]), batch_sizes=tensor([3, 2, 1]), sorted_indices=tensor([2, 0, 1]), unsorted_indices=tensor([1, 2, 0]))"
     },
     "execution_count": 8,
     "metadata": {},
     "output_type": "execute_result"
    }
   ],
   "source": [
    "import torch\n",
    "from torch.nn.utils.rnn import pack_padded_sequence, pad_packed_sequence\n",
    "\n",
    "seq = torch.tensor([[1, 2, 0],\n",
    "                    [3, 0, 0],\n",
    "                    [4, 5, 6]])\n",
    "\n",
    "lens = [2, 1, 3]\n",
    "packed = pack_padded_sequence(seq,\n",
    "                              lens, batch_first=True,\n",
    "                              enforce_sorted=False)\n",
    "packed"
   ]
  },
  {
   "cell_type": "code",
   "execution_count": 9,
   "outputs": [
    {
     "name": "stdout",
     "output_type": "stream",
     "text": [
      "tensor([[1, 2, 0],\n",
      "        [3, 0, 0],\n",
      "        [4, 5, 6]])\n",
      "tensor([2, 1, 3])\n"
     ]
    }
   ],
   "source": [
    "# Pads a packed batch of variable length sequences\n",
    "# pack_padded_sequence的反运算\n",
    "seq_unpacked, lens_unpacked = pad_packed_sequence(packed,\n",
    "                                                  padding_value=0, # values for padded elements\n",
    "                                                  batch_first=True) # if True, the output will be in B x T x * format\n",
    "print(seq_unpacked)\n",
    "print(lens_unpacked)"
   ],
   "metadata": {
    "collapsed": false,
    "pycharm": {
     "name": "#%%\n"
    }
   }
  },
  {
   "cell_type": "code",
   "execution_count": 9,
   "outputs": [],
   "source": [],
   "metadata": {
    "collapsed": false,
    "pycharm": {
     "name": "#%%\n"
    }
   }
  }
 ],
 "metadata": {
  "kernelspec": {
   "display_name": "Python 3",
   "language": "python",
   "name": "python3"
  },
  "language_info": {
   "codemirror_mode": {
    "name": "ipython",
    "version": 2
   },
   "file_extension": ".py",
   "mimetype": "text/x-python",
   "name": "python",
   "nbconvert_exporter": "python",
   "pygments_lexer": "ipython2",
   "version": "2.7.6"
  }
 },
 "nbformat": 4,
 "nbformat_minor": 0
}