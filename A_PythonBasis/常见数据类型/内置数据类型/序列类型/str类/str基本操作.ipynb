{
 "cells": [
  {
   "cell_type": "code",
   "execution_count": 7,
   "outputs": [
    {
     "name": "stdout",
     "output_type": "stream",
     "text": [
      "n\n",
      "े\n",
      "uancha\n",
      "unh\n",
      "े्मagocac\n",
      "duanchaochongyaनमस्ते\n",
      "ेत्समनaygnohcoahcnaud\n",
      "d\n",
      "u\n",
      "a\n",
      "n\n",
      "c\n",
      "h\n",
      "a\n",
      "o\n",
      "c\n",
      "h\n",
      "o\n",
      "n\n",
      "g\n",
      "y\n",
      "a\n",
      "न\n",
      "म\n",
      "स\n",
      "्\n",
      "त\n",
      "े\n"
     ]
    }
   ],
   "source": [
    "# 切片索引\n",
    "str1 = 'duanchaochongyaनमस्ते'\n",
    "print(str1[3])\n",
    "print(str1[-1])  # 最后一个位置\n",
    "print(str1[1:7])\n",
    "print(str1[1:7:2])  # 步长为2\n",
    "print(str1[-1:3:-2])  # 切片,步长为-2\n",
    "print(str1[:])\n",
    "print(str1[::-1])  # 字符串的翻转\n",
    "\n",
    "for s in str1:\n",
    "    print(s)"
   ],
   "metadata": {
    "collapsed": false,
    "pycharm": {
     "name": "#%%\n"
    }
   }
  },
  {
   "cell_type": "code",
   "execution_count": 8,
   "outputs": [
    {
     "ename": "NameError",
     "evalue": "name 'str2' is not defined",
     "output_type": "error",
     "traceback": [
      "\u001B[1;31m---------------------------------------------------------------------------\u001B[0m",
      "\u001B[1;31mNameError\u001B[0m                                 Traceback (most recent call last)",
      "Input \u001B[1;32mIn [8]\u001B[0m, in \u001B[0;36m<cell line: 3>\u001B[1;34m()\u001B[0m\n\u001B[0;32m      1\u001B[0m str2 \u001B[38;5;241m=\u001B[39m \u001B[38;5;124m'\u001B[39m\u001B[38;5;124mhello java\u001B[39m\u001B[38;5;124m'\u001B[39m\n\u001B[0;32m      2\u001B[0m \u001B[38;5;28;01mdel\u001B[39;00m str2  \u001B[38;5;66;03m# 删除字符串\u001B[39;00m\n\u001B[1;32m----> 3\u001B[0m \u001B[38;5;28mprint\u001B[39m(\u001B[43mstr2\u001B[49m)\n",
      "\u001B[1;31mNameError\u001B[0m: name 'str2' is not defined"
     ]
    }
   ],
   "source": [
    "str2 = 'hello java'\n",
    "del str2  # 删除字符串\n",
    "print(str2)"
   ],
   "metadata": {
    "collapsed": false,
    "pycharm": {
     "name": "#%%\n"
    }
   }
  },
  {
   "cell_type": "code",
   "execution_count": 9,
   "outputs": [
    {
     "name": "stdout",
     "output_type": "stream",
     "text": [
      "ababab\n"
     ]
    }
   ],
   "source": [
    "print('ab' * 3)  # 字符串的重复(*)"
   ],
   "metadata": {
    "collapsed": false,
    "pycharm": {
     "name": "#%%\n"
    }
   }
  },
  {
   "cell_type": "code",
   "execution_count": 10,
   "outputs": [
    {
     "name": "stdout",
     "output_type": "stream",
     "text": [
      "abbc\n"
     ]
    }
   ],
   "source": [
    "print('ab' + 'bc')  # 字符串的拼接(+)"
   ],
   "metadata": {
    "collapsed": false,
    "pycharm": {
     "name": "#%%\n"
    }
   }
  },
  {
   "cell_type": "code",
   "execution_count": 11,
   "outputs": [
    {
     "name": "stdout",
     "output_type": "stream",
     "text": [
      "True\n",
      "False\n",
      "False\n",
      "False\n"
     ]
    }
   ],
   "source": [
    "# 字符串驻留池中(相同的字符串常量被合并,只占用一个空间,从而节约内存)\n",
    "a = 'hello'\n",
    "b = 'world'\n",
    "c = 'hello' + 'world'\n",
    "d = 'helloworld'\n",
    "\n",
    "# 堆空间中(变量参与拼接)\n",
    "e = a + 'world'\n",
    "f = 'hello' + b\n",
    "h = a + b\n",
    "\n",
    "print(id(c) == id(d))  # True\n",
    "print(id(c) == id(e))  # False\n",
    "print(id(c) == id(f))  # True\n",
    "print(id(c) == id(h))  # False\n"
   ],
   "metadata": {
    "collapsed": false,
    "pycharm": {
     "name": "#%%\n"
    }
   }
  }
 ],
 "metadata": {
  "kernelspec": {
   "name": "python3",
   "language": "python",
   "display_name": "Python 3"
  },
  "language_info": {
   "codemirror_mode": {
    "name": "ipython",
    "version": 2
   },
   "file_extension": ".py",
   "mimetype": "text/x-python",
   "name": "python",
   "nbconvert_exporter": "python",
   "pygments_lexer": "ipython2",
   "version": "3.8.8"
  }
 },
 "nbformat": 4,
 "nbformat_minor": 0
}