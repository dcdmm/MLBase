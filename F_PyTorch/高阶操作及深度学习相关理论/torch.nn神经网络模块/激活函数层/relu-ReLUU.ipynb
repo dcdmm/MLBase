{
 "cells": [
  {
   "cell_type": "markdown",
   "metadata": {
    "collapsed": true,
    "pycharm": {
     "name": "#%% md\n"
    }
   },
   "source": [
    "$$\\operatorname{ReLU}(x)=(x)^{+}=\\max (0, x)$$"
   ]
  },
  {
   "cell_type": "code",
   "execution_count": 1,
   "outputs": [],
   "source": [
    "import torch\n",
    "import torch.nn.functional as F\n",
    "import matplotlib.pyplot as plt\n",
    "import torch.nn as nn"
   ],
   "metadata": {
    "collapsed": false,
    "pycharm": {
     "name": "#%%\n"
    }
   }
  },
  {
   "cell_type": "code",
   "execution_count": 2,
   "outputs": [
    {
     "data": {
      "text/plain": "[<matplotlib.lines.Line2D at 0x21ffbfcfe08>]"
     },
     "execution_count": 2,
     "metadata": {},
     "output_type": "execute_result"
    },
    {
     "data": {
      "text/plain": "<Figure size 432x288 with 1 Axes>",
      "image/png": "[encoded data removed]"
     },
     "metadata": {
      "needs_background": "light"
     },
     "output_type": "display_data"
    }
   ],
   "source": [
    "x = torch.linspace(-5, 5, 200)\n",
    "relu_f = F.relu(x)\n",
    "\n",
    "plt.plot(x, relu_f)"
   ],
   "metadata": {
    "collapsed": false,
    "pycharm": {
     "name": "#%%\n"
    }
   }
  },
  {
   "cell_type": "code",
   "execution_count": 3,
   "outputs": [
    {
     "data": {
      "text/plain": "tensor([0.0000, 0.0000, 0.0000, 0.0000, 0.0000, 0.0000, 0.0000, 0.0000, 0.0000,\n        0.0000, 0.0000, 0.0000, 0.0000, 0.0000, 0.0000, 0.0000, 0.0000, 0.0000,\n        0.0000, 0.0000, 0.0000, 0.0000, 0.0000, 0.0000, 0.0000, 0.0000, 0.0000,\n        0.0000, 0.0000, 0.0000, 0.0000, 0.0000, 0.0000, 0.0000, 0.0000, 0.0000,\n        0.0000, 0.0000, 0.0000, 0.0000, 0.0000, 0.0000, 0.0000, 0.0000, 0.0000,\n        0.0000, 0.0000, 0.0000, 0.0000, 0.0000, 0.0000, 0.0000, 0.0000, 0.0000,\n        0.0000, 0.0000, 0.0000, 0.0000, 0.0000, 0.0000, 0.0000, 0.0000, 0.0000,\n        0.0000, 0.0000, 0.0000, 0.0000, 0.0000, 0.0000, 0.0000, 0.0000, 0.0000,\n        0.0000, 0.0000, 0.0000, 0.0000, 0.0000, 0.0000, 0.0000, 0.0000, 0.0000,\n        0.0000, 0.0000, 0.0000, 0.0000, 0.0000, 0.0000, 0.0000, 0.0000, 0.0000,\n        0.0000, 0.0000, 0.0000, 0.0000, 0.0000, 0.0000, 0.0000, 0.0000, 0.0000,\n        0.0000, 0.0251, 0.0754, 0.1256, 0.1759, 0.2261, 0.2764, 0.3266, 0.3769,\n        0.4271, 0.4774, 0.5276, 0.5779, 0.6281, 0.6784, 0.7286, 0.7789, 0.8291,\n        0.8794, 0.9296, 0.9799, 1.0302, 1.0804, 1.1307, 1.1809, 1.2312, 1.2814,\n        1.3317, 1.3819, 1.4322, 1.4824, 1.5327, 1.5829, 1.6332, 1.6834, 1.7337,\n        1.7839, 1.8342, 1.8844, 1.9347, 1.9849, 2.0352, 2.0854, 2.1357, 2.1859,\n        2.2362, 2.2864, 2.3367, 2.3869, 2.4372, 2.4874, 2.5377, 2.5879, 2.6382,\n        2.6884, 2.7387, 2.7889, 2.8392, 2.8894, 2.9397, 2.9899, 3.0402, 3.0905,\n        3.1407, 3.1910, 3.2412, 3.2915, 3.3417, 3.3920, 3.4422, 3.4925, 3.5427,\n        3.5930, 3.6432, 3.6935, 3.7437, 3.7940, 3.8442, 3.8945, 3.9447, 3.9950,\n        4.0452, 4.0955, 4.1457, 4.1960, 4.2462, 4.2965, 4.3467, 4.3970, 4.4472,\n        4.4975, 4.5477, 4.5980, 4.6482, 4.6985, 4.7487, 4.7990, 4.8492, 4.8995,\n        4.9497, 5.0000])"
     },
     "execution_count": 3,
     "metadata": {},
     "output_type": "execute_result"
    }
   ],
   "source": [
    "relu_c = nn.ReLU()\n",
    "relu_c(x)"
   ],
   "metadata": {
    "collapsed": false,
    "pycharm": {
     "name": "#%%\n"
    }
   }
  },
  {
   "cell_type": "code",
   "execution_count": null,
   "outputs": [],
   "source": [
    "\n"
   ],
   "metadata": {
    "collapsed": false,
    "pycharm": {
     "name": "#%%\n"
    }
   }
  }
 ],
 "metadata": {
  "kernelspec": {
   "display_name": "Python 3",
   "language": "python",
   "name": "python3"
  },
  "language_info": {
   "codemirror_mode": {
    "name": "ipython",
    "version": 2
   },
   "file_extension": ".py",
   "mimetype": "text/x-python",
   "name": "python",
   "nbconvert_exporter": "python",
   "pygments_lexer": "ipython2",
   "version": "2.7.6"
  }
 },
 "nbformat": 4,
 "nbformat_minor": 0
}