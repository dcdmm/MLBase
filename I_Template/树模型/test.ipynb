{
 "cells": [
  {
   "cell_type": "code",
   "execution_count": 107,
   "metadata": {
    "collapsed": true,
    "pycharm": {
     "name": "#%%\n"
    }
   },
   "outputs": [],
   "source": [
    "from sklearn import datasets\n",
    "from sklearn.model_selection import train_test_split\n",
    "import numpy as np\n",
    "from sklearn.preprocessing import OrdinalEncoder\n",
    "from sklearn.model_selection import KFold\n",
    "from sklearn.metrics import accuracy_score\n",
    "\n",
    "from lightgbm_model import MyLightGBM\n",
    "from catboost_model import MyCatboost\n",
    "from xgboost_model import MyXgboost\n",
    "%run lightgbm_model.py\n",
    "%run catboost_model.py\n",
    "%run xgboost_model.py"
   ]
  },
  {
   "cell_type": "code",
   "execution_count": 88,
   "outputs": [
    {
     "name": "stdout",
     "output_type": "stream",
     "text": [
      "(2700, 54) (300,)\n",
      "[1 2 3 4 5 6 7]\n"
     ]
    }
   ],
   "source": [
    "X = datasets.fetch_covtype().data[:3000]\n",
    "y = datasets.fetch_covtype().target[:3000]\n",
    "X_train, X_test, y_train, y_test = train_test_split(X, y, test_size=0.1)\n",
    "\n",
    "print(X_train.shape, y_test.shape)\n",
    "print(np.unique(y_train))  # 7分类任务"
   ],
   "metadata": {
    "collapsed": false,
    "pycharm": {
     "name": "#%%\n"
    }
   }
  },
  {
   "cell_type": "code",
   "execution_count": 89,
   "outputs": [
    {
     "name": "stdout",
     "output_type": "stream",
     "text": [
      "[0. 1. 2. 3. 4. 5. 6.]\n",
      "(2700,)\n"
     ]
    }
   ],
   "source": [
    "enc = OrdinalEncoder()\n",
    "y_train_enc = enc.fit_transform(y_train.reshape(-1, 1)).reshape(-1, )\n",
    "y_test_enc = enc.transform(y_test.reshape(-1, 1)).reshape(-1, )\n",
    "print(np.unique(y_train_enc))\n",
    "print(y_train_enc.shape)"
   ],
   "metadata": {
    "collapsed": false,
    "pycharm": {
     "name": "#%%\n"
    }
   }
  },
  {
   "cell_type": "code",
   "execution_count": 90,
   "outputs": [],
   "source": [
    "kfold = KFold(n_splits=5, shuffle=True, random_state=1)\n",
    "lgb_params = {\"objective\": \"multiclass\",\n",
    "              \"num_class\": 7,\n",
    "              \"verbose\": -4, \"metric\": (\"multi_logloss\",)}\n",
    "\n",
    "cat_params = {\"loss_function\": \"MultiClass\",\n",
    "              \"eval_metric\": \"MultiClass\",\n",
    "              \"allow_writing_files\": False,\n",
    "              \"verbose\": True,\n",
    "              \"thread_count\": -1,\n",
    "              \"use_best_model\": True\n",
    "              }\n",
    "\n",
    "xgb_params = {'objective': 'multi:softprob',\n",
    "                \"eval_metric\": 'mlogloss',\n",
    "                \"verbosity\": 0,\n",
    "                'num_class': 7}"
   ],
   "metadata": {
    "collapsed": false,
    "pycharm": {
     "name": "#%%\n"
    }
   }
  },
  {
   "cell_type": "markdown",
   "source": [
    "### lightgbm测试"
   ],
   "metadata": {
    "collapsed": false,
    "pycharm": {
     "name": "#%% md\n"
    }
   }
  },
  {
   "cell_type": "code",
   "execution_count": 91,
   "outputs": [
    {
     "name": "stdout",
     "output_type": "stream",
     "text": [
      "Training fold 1\n",
      "Training until validation scores don't improve for 100 rounds\n",
      "[100]\ttraining's multi_logloss: 0.0054711\tvalid_1's multi_logloss: 0.491722\n",
      "Did not meet early stopping. Best iteration is:\n",
      "[100]\ttraining's multi_logloss: 0.0054711\tvalid_1's multi_logloss: 0.491722\n",
      "Training fold 2\n",
      "Training until validation scores don't improve for 100 rounds\n",
      "[100]\ttraining's multi_logloss: 0.00622442\tvalid_1's multi_logloss: 0.436128\n",
      "Did not meet early stopping. Best iteration is:\n",
      "[100]\ttraining's multi_logloss: 0.00622442\tvalid_1's multi_logloss: 0.436128\n",
      "Training fold 3\n",
      "Training until validation scores don't improve for 100 rounds\n",
      "[100]\ttraining's multi_logloss: 0.00594682\tvalid_1's multi_logloss: 0.481893\n",
      "Did not meet early stopping. Best iteration is:\n",
      "[100]\ttraining's multi_logloss: 0.00594682\tvalid_1's multi_logloss: 0.481893\n",
      "Training fold 4\n",
      "Training until validation scores don't improve for 100 rounds\n",
      "[100]\ttraining's multi_logloss: 0.00604186\tvalid_1's multi_logloss: 0.409178\n",
      "Did not meet early stopping. Best iteration is:\n",
      "[100]\ttraining's multi_logloss: 0.00604186\tvalid_1's multi_logloss: 0.409178\n",
      "Training fold 5\n",
      "Training until validation scores don't improve for 100 rounds\n",
      "[100]\ttraining's multi_logloss: 0.00552886\tvalid_1's multi_logloss: 0.515543\n",
      "Did not meet early stopping. Best iteration is:\n",
      "[100]\ttraining's multi_logloss: 0.00552886\tvalid_1's multi_logloss: 0.515543\n"
     ]
    }
   ],
   "source": [
    "\n",
    "lgb_train_pre, lgb_test_pre, lgb_model_list = MyLightGBM(X_train_data=X_train,\n",
    "                                                         y_train_data=y_train_enc,\n",
    "                                                         X_test_data=X_test,\n",
    "                                                         kfold=kfold,\n",
    "                                                         params=lgb_params,\n",
    "                                                         verbose_eval=100,\n",
    "                                                         early_stopping_rounds=100,\n",
    "                                                         feval=None, fweight=None, categorical_feature=\"auto\")"
   ],
   "metadata": {
    "collapsed": false,
    "pycharm": {
     "name": "#%%\n"
    }
   }
  },
  {
   "cell_type": "code",
   "execution_count": 92,
   "outputs": [
    {
     "name": "stdout",
     "output_type": "stream",
     "text": [
      "(2700, 7)\n",
      "(300, 7)\n",
      "[<lightgbm.basic.Booster object at 0x00000153839B7D60>, <lightgbm.basic.Booster object at 0x00000153839B7D30>, <lightgbm.basic.Booster object at 0x00000153839B7EE0>, <lightgbm.basic.Booster object at 0x00000153839B74C0>, <lightgbm.basic.Booster object at 0x00000153839B77C0>]\n"
     ]
    }
   ],
   "source": [
    "print(lgb_train_pre.shape)\n",
    "print(lgb_test_pre.shape)\n",
    "print(lgb_model_list)"
   ],
   "metadata": {
    "collapsed": false,
    "pycharm": {
     "name": "#%%\n"
    }
   }
  },
  {
   "cell_type": "markdown",
   "source": [
    "### catboost测试"
   ],
   "metadata": {
    "collapsed": false,
    "pycharm": {
     "name": "#%% md\n"
    }
   }
  },
  {
   "cell_type": "code",
   "execution_count": 93,
   "outputs": [
    {
     "name": "stdout",
     "output_type": "stream",
     "text": [
      "Training fold 1\n",
      "Learning rate set to 0.109652\n",
      "0:\tlearn: 1.7213354\ttest: 1.7265158\tbest: 1.7265158 (0)\ttotal: 6.96ms\tremaining: 6.95s\n",
      "200:\tlearn: 0.2844294\ttest: 0.4388946\tbest: 0.4388946 (200)\ttotal: 1.23s\tremaining: 4.89s\n",
      "400:\tlearn: 0.1731654\ttest: 0.4005388\tbest: 0.3998729 (381)\ttotal: 2.44s\tremaining: 3.65s\n",
      "600:\tlearn: 0.1177499\ttest: 0.3888427\tbest: 0.3882681 (588)\ttotal: 3.67s\tremaining: 2.43s\n",
      "Stopped by overfitting detector  (100 iterations wait)\n",
      "\n",
      "bestTest = 0.3882680654\n",
      "bestIteration = 588\n",
      "\n",
      "Shrink model to first 589 iterations.\n",
      "Training fold 2\n",
      "Learning rate set to 0.109652\n",
      "0:\tlearn: 1.7174810\ttest: 1.7236708\tbest: 1.7236708 (0)\ttotal: 36.4ms\tremaining: 36.4s\n",
      "200:\tlearn: 0.2807979\ttest: 0.4340126\tbest: 0.4340126 (200)\ttotal: 1.26s\tremaining: 5.03s\n",
      "400:\tlearn: 0.1735725\ttest: 0.3857660\tbest: 0.3857660 (400)\ttotal: 2.49s\tremaining: 3.72s\n",
      "600:\tlearn: 0.1180759\ttest: 0.3687095\tbest: 0.3685478 (590)\ttotal: 3.72s\tremaining: 2.47s\n",
      "800:\tlearn: 0.0872829\ttest: 0.3661200\tbest: 0.3660797 (795)\ttotal: 4.95s\tremaining: 1.23s\n",
      "999:\tlearn: 0.0657809\ttest: 0.3623169\tbest: 0.3620621 (991)\ttotal: 6.19s\tremaining: 0us\n",
      "\n",
      "bestTest = 0.3620621458\n",
      "bestIteration = 991\n",
      "\n",
      "Shrink model to first 992 iterations.\n",
      "Training fold 3\n",
      "Learning rate set to 0.109652\n",
      "0:\tlearn: 1.7586229\ttest: 1.7669978\tbest: 1.7669978 (0)\ttotal: 21ms\tremaining: 20.9s\n",
      "200:\tlearn: 0.2841168\ttest: 0.4436490\tbest: 0.4436490 (200)\ttotal: 1.27s\tremaining: 5.05s\n",
      "400:\tlearn: 0.1755490\ttest: 0.4017863\tbest: 0.4017863 (400)\ttotal: 2.51s\tremaining: 3.75s\n",
      "600:\tlearn: 0.1208835\ttest: 0.3894452\tbest: 0.3894452 (600)\ttotal: 3.75s\tremaining: 2.49s\n",
      "800:\tlearn: 0.0883015\ttest: 0.3850495\tbest: 0.3850204 (735)\ttotal: 4.99s\tremaining: 1.24s\n",
      "999:\tlearn: 0.0674217\ttest: 0.3850887\tbest: 0.3827335 (915)\ttotal: 6.21s\tremaining: 0us\n",
      "\n",
      "bestTest = 0.3827334657\n",
      "bestIteration = 915\n",
      "\n",
      "Shrink model to first 916 iterations.\n",
      "Training fold 4\n",
      "Learning rate set to 0.109652\n",
      "0:\tlearn: 1.7330899\ttest: 1.7439379\tbest: 1.7439379 (0)\ttotal: 7.25ms\tremaining: 7.24s\n",
      "200:\tlearn: 0.2789971\ttest: 0.4223295\tbest: 0.4223295 (200)\ttotal: 1.23s\tremaining: 4.91s\n",
      "400:\tlearn: 0.1697858\ttest: 0.3856915\tbest: 0.3851631 (394)\ttotal: 2.46s\tremaining: 3.68s\n",
      "600:\tlearn: 0.1165713\ttest: 0.3658457\tbest: 0.3658433 (594)\ttotal: 3.69s\tremaining: 2.45s\n",
      "800:\tlearn: 0.0842483\ttest: 0.3565865\tbest: 0.3565865 (800)\ttotal: 4.92s\tremaining: 1.22s\n",
      "999:\tlearn: 0.0646466\ttest: 0.3540621\tbest: 0.3538313 (989)\ttotal: 6.14s\tremaining: 0us\n",
      "\n",
      "bestTest = 0.3538313354\n",
      "bestIteration = 989\n",
      "\n",
      "Shrink model to first 990 iterations.\n",
      "Training fold 5\n",
      "Learning rate set to 0.109652\n",
      "0:\tlearn: 1.7522526\ttest: 1.7570920\tbest: 1.7570920 (0)\ttotal: 7.18ms\tremaining: 7.17s\n",
      "200:\tlearn: 0.2848343\ttest: 0.4484857\tbest: 0.4484857 (200)\ttotal: 1.24s\tremaining: 4.92s\n",
      "400:\tlearn: 0.1688235\ttest: 0.3924098\tbest: 0.3922829 (398)\ttotal: 2.46s\tremaining: 3.68s\n",
      "600:\tlearn: 0.1131831\ttest: 0.3725655\tbest: 0.3722422 (598)\ttotal: 3.7s\tremaining: 2.46s\n",
      "800:\tlearn: 0.0821110\ttest: 0.3650891\tbest: 0.3647157 (787)\ttotal: 4.93s\tremaining: 1.23s\n",
      "Stopped by overfitting detector  (100 iterations wait)\n",
      "\n",
      "bestTest = 0.3631404727\n",
      "bestIteration = 876\n",
      "\n",
      "Shrink model to first 877 iterations.\n"
     ]
    }
   ],
   "source": [
    "cat_train_pre, cat_test_pre, cat_model_list = MyCatboost(X_train_data=X_train,\n",
    "                                                         y_train_data=y_train_enc,\n",
    "                                                         X_test_data=X_test,\n",
    "                                                         kfold=kfold,\n",
    "                                                         params=cat_params,\n",
    "                                                         num_class=7,\n",
    "                                                         early_stopping_rounds=100,\n",
    "                                                         verbose_eval=200,\n",
    "                                                         fweight=None)"
   ],
   "metadata": {
    "collapsed": false,
    "pycharm": {
     "name": "#%%\n"
    }
   }
  },
  {
   "cell_type": "code",
   "execution_count": 94,
   "outputs": [
    {
     "name": "stdout",
     "output_type": "stream",
     "text": [
      "(2700, 7)\n",
      "(300, 7)\n",
      "[<catboost.core.CatBoost object at 0x00000153EE7F6E80>, <catboost.core.CatBoost object at 0x00000153EE625B20>, <catboost.core.CatBoost object at 0x00000153EDC18A90>, <catboost.core.CatBoost object at 0x00000153EDC18430>, <catboost.core.CatBoost object at 0x00000153EDC182B0>]\n"
     ]
    }
   ],
   "source": [
    "print(cat_train_pre.shape)\n",
    "print(cat_test_pre.shape)\n",
    "print(cat_model_list)"
   ],
   "metadata": {
    "collapsed": false,
    "pycharm": {
     "name": "#%%\n"
    }
   }
  },
  {
   "cell_type": "markdown",
   "source": [
    "### xgboost测试"
   ],
   "metadata": {
    "collapsed": false,
    "pycharm": {
     "name": "#%% md\n"
    }
   }
  },
  {
   "cell_type": "code",
   "execution_count": 95,
   "outputs": [
    {
     "name": "stdout",
     "output_type": "stream",
     "text": [
      "Training fold 1\n",
      "[0]\ttrain_-mlogloss:1.34850\tval_-mlogloss:1.41306\n",
      "[9]\ttrain_-mlogloss:0.35535\tval_-mlogloss:0.56068\n",
      "Training fold 2\n",
      "[0]\ttrain_-mlogloss:1.34961\tval_-mlogloss:1.40848\n",
      "[9]\ttrain_-mlogloss:0.36449\tval_-mlogloss:0.57160\n",
      "Training fold 3\n",
      "[0]\ttrain_-mlogloss:1.35684\tval_-mlogloss:1.43233\n",
      "[9]\ttrain_-mlogloss:0.35594\tval_-mlogloss:0.56430\n",
      "Training fold 4\n",
      "[0]\ttrain_-mlogloss:1.34559\tval_-mlogloss:1.41565\n",
      "[9]\ttrain_-mlogloss:0.35403\tval_-mlogloss:0.56247\n",
      "Training fold 5\n",
      "[0]\ttrain_-mlogloss:1.35737\tval_-mlogloss:1.43258\n",
      "[9]\ttrain_-mlogloss:0.34215\tval_-mlogloss:0.58344\n"
     ]
    }
   ],
   "source": [
    "xgb_train_pre, xgb_test_pre, xgb_model_list = MyXgboost(X_train_data=X_train,\n",
    "                                                        y_train_data=y_train_enc,\n",
    "                                                        X_test_data=X_test,\n",
    "                                                        kfold=kfold,\n",
    "                                                        params=xgb_params,\n",
    "                                                        early_stopping_rounds=100,\n",
    "                                                        verbose_eval=200,\n",
    "                                                        feval=None,\n",
    "                                                        fweight=None)"
   ],
   "metadata": {
    "collapsed": false,
    "pycharm": {
     "name": "#%%\n"
    }
   }
  },
  {
   "cell_type": "code",
   "execution_count": 96,
   "outputs": [
    {
     "name": "stdout",
     "output_type": "stream",
     "text": [
      "(2700, 7)\n",
      "(300, 7)\n",
      "[<xgboost.core.Booster object at 0x00000153839BFD90>, <xgboost.core.Booster object at 0x00000153839BF610>, <xgboost.core.Booster object at 0x00000153839BF460>, <xgboost.core.Booster object at 0x00000153839BF550>, <xgboost.core.Booster object at 0x00000153839BF640>]\n"
     ]
    }
   ],
   "source": [
    "print(xgb_train_pre.shape)\n",
    "print(xgb_test_pre.shape)\n",
    "print(xgb_model_list)"
   ],
   "metadata": {
    "collapsed": false,
    "pycharm": {
     "name": "#%%\n"
    }
   }
  },
  {
   "cell_type": "code",
   "execution_count": 109,
   "outputs": [
    {
     "name": "stdout",
     "output_type": "stream",
     "text": [
      "xgb score: 0.8266666666666667\n",
      "lgb score: 0.8566666666666667\n",
      "cat score 0.8466666666666667\n"
     ]
    }
   ],
   "source": [
    "xgb_score = accuracy_score(y_test_enc, np.argmax(xgb_test_pre, axis=1))\n",
    "lgb_score = accuracy_score(y_test_enc, np.argmax(lgb_test_pre, axis=1))\n",
    "cat_score = accuracy_score(y_test_enc, np.argmax(cat_test_pre, axis=1))\n",
    "\n",
    "print(\"xgb score:\", xgb_score)\n",
    "print(\"lgb score:\", lgb_score)\n",
    "print(\"cat score\", cat_score)"
   ],
   "metadata": {
    "collapsed": false,
    "pycharm": {
     "name": "#%%\n"
    }
   }
  },
  {
   "cell_type": "code",
   "execution_count": null,
   "outputs": [],
   "source": [],
   "metadata": {
    "collapsed": false,
    "pycharm": {
     "name": "#%%\n"
    }
   }
  }
 ],
 "metadata": {
  "kernelspec": {
   "display_name": "Python 3",
   "language": "python",
   "name": "python3"
  },
  "language_info": {
   "codemirror_mode": {
    "name": "ipython",
    "version": 2
   },
   "file_extension": ".py",
   "mimetype": "text/x-python",
   "name": "python",
   "nbconvert_exporter": "python",
   "pygments_lexer": "ipython2",
   "version": "2.7.6"
  }
 },
 "nbformat": 4,
 "nbformat_minor": 0
}