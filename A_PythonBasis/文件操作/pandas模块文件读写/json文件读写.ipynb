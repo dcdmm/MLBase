{
 "cells": [
  {
   "cell_type": "code",
   "execution_count": 2,
   "outputs": [],
   "source": [
    "import  pandas as pd\n",
    "import json"
   ],
   "metadata": {
    "collapsed": false,
    "pycharm": {
     "name": "#%%\n",
     "is_executing": false
    }
   }
  },
  {
   "cell_type": "code",
   "execution_count": 2,
   "metadata": {
    "pycharm": {
     "is_executing": false
    }
   },
   "outputs": [],
   "source": [
    "obj = \"\"\"\n",
    "{\"name\": \"Wes\",\n",
    " \"places_lived\": [\"United States\", \"Spain\", \"Germany\"],\n",
    " \"pet\": null,\n",
    " \"siblings\": [{\"name\": \"Scott\", \"age\": 30, \"pets\": [\"Zeus\", \"Zuko\"]},\n",
    "              {\"name\": \"Katie\", \"age\": 38,\n",
    "               \"pets\": [\"Sixes\", \"Stache\", \"Cisco\"]}]\n",
    "}\n",
    "\"\"\""
   ]
  },
  {
   "cell_type": "code",
   "execution_count": 3,
   "metadata": {
    "pycharm": {
     "is_executing": false
    }
   },
   "outputs": [
    {
     "data": {
      "text/plain": "{'name': 'Wes',\n 'places_lived': ['United States', 'Spain', 'Germany'],\n 'pet': None,\n 'siblings': [{'name': 'Scott', 'age': 30, 'pets': ['Zeus', 'Zuko']},\n  {'name': 'Katie', 'age': 38, 'pets': ['Sixes', 'Stache', 'Cisco']}]}"
     },
     "metadata": {},
     "output_type": "execute_result",
     "execution_count": 3
    }
   ],
   "source": [
    "result = json.loads(obj) # 将已编码的JSON字符串解码为Python对象\n",
    "result   # 字典"
   ]
  },
  {
   "cell_type": "code",
   "execution_count": 4,
   "metadata": {
    "pycharm": {
     "is_executing": false,
     "name": "#%%\n"
    }
   },
   "outputs": [
    {
     "data": {
      "text/plain": "'{\"name\": \"Wes\", \"places_lived\": [\"United States\", \"Spain\", \"Germany\"], \"pet\": null, \"siblings\": [{\"name\": \"Scott\", \"age\": 30, \"pets\": [\"Zeus\", \"Zuko\"]}, {\"name\": \"Katie\", \"age\": 38, \"pets\": [\"Sixes\", \"Stache\", \"Cisco\"]}]}'"
     },
     "metadata": {},
     "output_type": "execute_result",
     "execution_count": 4
    }
   ],
   "source": [
    "asjson = json.dumps(result) # 将Python对象编码成JSON字符串\n",
    "asjson"
   ]
  },
  {
   "cell_type": "code",
   "execution_count": 3,
   "outputs": [
    {
     "name": "stdout",
     "text": [
      "{\"name\": \"\\u6bb5\\u8d85\", \"age\": \"24\", \"sex\": \"\\u7537\", \"like\": \"DNF\"}\n{\"name\": \"段超\", \"age\": \"24\", \"sex\": \"男\", \"like\": \"DNF\"}\n"
     ],
     "output_type": "stream"
    }
   ],
   "source": [
    "information = {'name': '段超',\n",
    "            'age': '24',\n",
    "            'sex': '男',\n",
    "            'like': 'DNF'}\n",
    "\n",
    "information_json0 = json.dumps(information, ensure_ascii=True)\n",
    "information_json1 = json.dumps(information, ensure_ascii=False)\n",
    "print(information_json0)\n",
    "print(information_json1) # 此时方可正常显示中文"
   ],
   "metadata": {
    "collapsed": false,
    "pycharm": {
     "name": "#%%\n",
     "is_executing": false
    }
   }
  },
  {
   "cell_type": "code",
   "execution_count": 19,
   "metadata": {
    "pycharm": {
     "is_executing": false
    }
   },
   "outputs": [
    {
     "name": "stdout",
     "text": [
      "[{'a': 1, 'b': 2, 'c': 3}, {'a': 4, 'b': 5, 'c': 6}, {'a': 7, 'b': 8, 'c': 9}]\n<class 'list'>\n"
     ],
     "output_type": "stream"
    }
   ],
   "source": [
    "with open('json文件读写.json') as f:\n",
    "    read_json = f.read()\n",
    "    read_json_loads = json.loads(read_json)\n",
    "    print(read_json_loads)\n",
    "    print(type(read_json_loads))"
   ]
  },
  {
   "cell_type": "code",
   "execution_count": 16,
   "metadata": {
    "pycharm": {
     "name": "#%%\n",
     "is_executing": false
    }
   },
   "outputs": [
    {
     "data": {
      "text/plain": "   a  b  c\n0  1  2  3\n1  4  5  6\n2  7  8  9",
      "text/html": "<div>\n<style scoped>\n    .dataframe tbody tr th:only-of-type {\n        vertical-align: middle;\n    }\n\n    .dataframe tbody tr th {\n        vertical-align: top;\n    }\n\n    .dataframe thead th {\n        text-align: right;\n    }\n</style>\n<table border=\"1\" class=\"dataframe\">\n  <thead>\n    <tr style=\"text-align: right;\">\n      <th></th>\n      <th>a</th>\n      <th>b</th>\n      <th>c</th>\n    </tr>\n  </thead>\n  <tbody>\n    <tr>\n      <th>0</th>\n      <td>1</td>\n      <td>2</td>\n      <td>3</td>\n    </tr>\n    <tr>\n      <th>1</th>\n      <td>4</td>\n      <td>5</td>\n      <td>6</td>\n    </tr>\n    <tr>\n      <th>2</th>\n      <td>7</td>\n      <td>8</td>\n      <td>9</td>\n    </tr>\n  </tbody>\n</table>\n</div>"
     },
     "metadata": {},
     "output_type": "execute_result",
     "execution_count": 16
    }
   ],
   "source": [
    "data = pd.read_json('json文件读写.json') # Convert a JSON string to pandas object.\n",
    "data"
   ]
  },
  {
   "cell_type": "code",
   "execution_count": 20,
   "metadata": {
    "pycharm": {
     "is_executing": false
    }
   },
   "outputs": [
    {
     "name": "stdout",
     "text": [
      "orient='columns:' {\"a\":{\"0\":1,\"1\":4,\"2\":7},\"b\":{\"0\":2,\"1\":5,\"2\":8},\"c\":{\"0\":3,\"1\":6,\"2\":9}}\norient='records:' [{\"a\":1,\"b\":2,\"c\":3},{\"a\":4,\"b\":5,\"c\":6},{\"a\":7,\"b\":8,\"c\":9}]\norient='split': {\"columns\":[\"a\",\"b\",\"c\"],\"index\":[0,1,2],\"data\":[[1,2,3],[4,5,6],[7,8,9]]}\norient='index': {\"0\":{\"a\":1,\"b\":2,\"c\":3},\"1\":{\"a\":4,\"b\":5,\"c\":6},\"2\":{\"a\":7,\"b\":8,\"c\":9}}\norient='values': [[1,2,3],[4,5,6],[7,8,9]]\norient='table': {\"schema\": {\"fields\":[{\"name\":\"index\",\"type\":\"integer\"},{\"name\":\"a\",\"type\":\"integer\"},{\"name\":\"b\",\"type\":\"integer\"},{\"name\":\"c\",\"type\":\"integer\"}],\"primaryKey\":[\"index\"],\"pandas_version\":\"0.20.0\"}, \"data\": [{\"index\":0,\"a\":1,\"b\":2,\"c\":3},{\"index\":1,\"a\":4,\"b\":5,\"c\":6},{\"index\":2,\"a\":7,\"b\":8,\"c\":9}]}\n"
     ],
     "output_type": "stream"
    }
   ],
   "source": "print(\"orient='columns:'\", data.to_json()) # Convert the object to a JSON string.(默认orient='columns')\nprint(\"orient='records:'\", data.to_json(orient='records'))\nprint(\"orient='split':\", data.to_json(orient='split'))\nprint(\"orient='index':\", data.to_json(orient='index'))\nprint(\"orient='values':\", data.to_json(orient='values'))\nprint(\"orient='table':\", data.to_json(orient='table'))"
  },
  {
   "cell_type": "code",
   "execution_count": null,
   "outputs": [],
   "source": "\n",
   "metadata": {
    "pycharm": {
     "metadata": false,
     "name": "#%%\n"
    }
   }
  }
 ],
 "metadata": {
  "kernelspec": {
   "name": "python3",
   "language": "python",
   "display_name": "Python 3"
  },
  "language_info": {
   "codemirror_mode": {
    "name": "ipython",
    "version": 2
   },
   "file_extension": ".py",
   "mimetype": "text/x-python",
   "name": "python",
   "nbconvert_exporter": "python",
   "pygments_lexer": "ipython2",
   "version": "2.7.6"
  },
  "pycharm": {
   "stem_cell": {
    "cell_type": "raw",
    "source": [],
    "metadata": {
     "collapsed": false
    }
   }
  }
 },
 "nbformat": 4,
 "nbformat_minor": 0
}