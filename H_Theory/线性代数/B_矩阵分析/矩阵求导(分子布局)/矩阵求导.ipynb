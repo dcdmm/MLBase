{
 "cells": [
  {
   "cell_type": "code",
   "execution_count": 227,
   "metadata": {
    "pycharm": {
     "is_executing": false,
     "name": "#%%\n"
    }
   },
   "outputs": [
    {
     "name": "stdout",
     "output_type": "stream",
     "text": [
      "(2, 3)\n"
     ]
    },
    {
     "data": {
      "text/latex": [
       "$\\displaystyle \\left[\\begin{matrix}x\\\\y\\\\z\\end{matrix}\\right]$"
      ],
      "text/plain": [
       "Matrix([\n",
       "[x],\n",
       "[y],\n",
       "[z]])"
      ]
     },
     "execution_count": 227,
     "metadata": {},
     "output_type": "execute_result"
    }
   ],
   "source": [
    "from sympy import  *\n",
    "\n",
    "x, y, z = symbols('x, y, z')\n",
    "\n",
    "\n",
    "a = Matrix([[3, 4, 8],\n",
    "            [2, 1, 9]]) # 定义一个矩阵\n",
    "b = Matrix([x, y, z]) # 列向量\n",
    "\n",
    "print(a.shape)\n",
    "b"
   ]
  },
  {
   "cell_type": "code",
   "execution_count": 228,
   "metadata": {
    "pycharm": {
     "is_executing": false,
     "name": "#%%\n"
    }
   },
   "outputs": [
    {
     "data": {
      "text/latex": [
       "$\\displaystyle \\left[\\begin{matrix}3 x + 4 y + 8 z\\\\2 x + y + 9 z\\end{matrix}\\right]$"
      ],
      "text/plain": [
       "Matrix([\n",
       "[3*x + 4*y + 8*z],\n",
       "[  2*x + y + 9*z]])"
      ]
     },
     "execution_count": 228,
     "metadata": {},
     "output_type": "execute_result"
    }
   ],
   "source": [
    "mul = a @ b  # 矩阵的乘法(2, 3)*(3, 1)\n",
    "mul"
   ]
  },
  {
   "cell_type": "code",
   "execution_count": 229,
   "metadata": {
    "pycharm": {
     "is_executing": false,
     "name": "#%%\n"
    }
   },
   "outputs": [
    {
     "data": {
      "text/latex": [
       "$\\displaystyle \\left[\\begin{matrix}3 & 4 & 8\\\\2 & 1 & 9\\end{matrix}\\right]$"
      ],
      "text/plain": [
       "Matrix([\n",
       "[3, 4, 8],\n",
       "[2, 1, 9]])"
      ]
     },
     "execution_count": 229,
     "metadata": {},
     "output_type": "execute_result"
    }
   ],
   "source": [
    "derivation = diff(mul, b) # 对矩阵进行求导\n",
    "derivation = derivation[:, 0, :, 0] # 去除大小为1的维度\n",
    "# Converts MutableDenseNDimArray to Matrix. Can convert only 2-dim array, else will raise error\n",
    "derivation = derivation.tomatrix()\n",
    "#  Returns the transpose of the matrix.\n",
    "derivation = derivation.transpose() # 等价于:derivation.reshape(2, 3)\n",
    "derivation"
   ]
  },
  {
   "cell_type": "code",
   "execution_count": 230,
   "metadata": {
    "pycharm": {
     "is_executing": false,
     "name": "#%%\n"
    }
   },
   "outputs": [
    {
     "data": {
      "text/plain": [
       "array([[3., 4., 8.],\n",
       "       [2., 1., 9.]], dtype=float32)"
      ]
     },
     "execution_count": 230,
     "metadata": {},
     "output_type": "execute_result"
    }
   ],
   "source": [
    "import  numpy as np\n",
    "matrix2numpy(derivation, dtype=np.float32) # Converts SymPy's matrix to a NumPy array"
   ]
  },
  {
   "cell_type": "code",
   "execution_count": 231,
   "metadata": {
    "pycharm": {
     "is_executing": false,
     "name": "#%%\n"
    }
   },
   "outputs": [
    {
     "name": "stdout",
     "output_type": "stream",
     "text": [
      "\\left[\\begin{matrix}3 & 4 & 8\\\\2 & 1 & 9\\end{matrix}\\right]\n"
     ]
    }
   ],
   "source": [
    "print(latex(derivation)) # Convert the given expression to LaTeX string representation"
   ]
  },
  {
   "cell_type": "code",
   "execution_count": 238,
   "metadata": {
    "pycharm": {
     "is_executing": false,
     "name": "#%%\n"
    }
   },
   "outputs": [
    {
     "data": {
      "text/latex": [
       "$\\displaystyle \\left[\\begin{matrix}\\left[\\begin{matrix}\\frac{x_{2} x_{5}}{x_{1}}\\\\0\\\\e^{x_{1}} \\sin{\\left(x_{2} x_{3} \\right)}\\\\2\\end{matrix}\\right]\\\\\\left[\\begin{matrix}x_{5} \\log{\\left(x_{1} \\right)}\\\\\\sin{\\left(x_{3} \\right)}\\\\x_{3} e^{x_{1}} \\cos{\\left(x_{2} x_{3} \\right)}\\\\0\\end{matrix}\\right]\\\\\\left[\\begin{matrix}0\\\\x_{2} \\cos{\\left(x_{3} \\right)}\\\\x_{2} e^{x_{1}} \\cos{\\left(x_{2} x_{3} \\right)}\\\\0\\end{matrix}\\right]\\\\\\left[\\begin{matrix}0\\\\x_{5} \\cos{\\left(x_{4} \\right)}\\\\0\\\\3 x_{4}^{2}\\end{matrix}\\right]\\\\\\left[\\begin{matrix}x_{2} \\log{\\left(x_{1} \\right)}\\\\\\sin{\\left(x_{4} \\right)}\\\\1\\\\0\\end{matrix}\\right]\\end{matrix}\\right]$"
      ],
      "text/plain": [
       "[[[[x2*x5/x1], [0], [exp(x1)*sin(x2*x3)], [2]]], [[[x5*log(x1)], [sin(x3)], [x3*exp(x1)*cos(x2*x3)], [0]]], [[[0], [x2*cos(x3)], [x2*exp(x1)*cos(x2*x3)], [0]]], [[[0], [x5*cos(x4)], [0], [3*x4**2]]], [[[x2*log(x1)], [sin(x4)], [1], [0]]]]"
      ]
     },
     "execution_count": 238,
     "metadata": {},
     "output_type": "execute_result"
    }
   ],
   "source": [
    "x1, x2, x3, x4, x5 = symbols('x1, x2, x3, x4, x5')\n",
    "frame = Matrix([[log(x1)*x2*x5], [x2*sin(x3) + x5*sin(x4)], \n",
    "                [exp(x1)*sin(x2*x3) + x5], [x4**3+2*x1]])\n",
    "va = Matrix([x1, x2, x3, x4, x5])\n",
    "diff(frame, va) # [:, 0, :, 0].transpose() # 矩阵对向量求导(分子布局)"
   ]
  },
  {
   "cell_type": "code",
   "execution_count": null,
   "metadata": {
    "pycharm": {
     "name": "#%%\n"
    }
   },
   "outputs": [],
   "source": [
    "\n"
   ]
  }
 ],
 "metadata": {
  "kernelspec": {
   "display_name": "Python 3",
   "language": "python",
   "name": "python3"
  },
  "language_info": {
   "codemirror_mode": {
    "name": "ipython",
    "version": 3
   },
   "file_extension": ".py",
   "mimetype": "text/x-python",
   "name": "python",
   "nbconvert_exporter": "python",
   "pygments_lexer": "ipython3",
   "version": "3.7.7"
  },
  "pycharm": {
   "stem_cell": {
    "cell_type": "raw",
    "metadata": {
     "collapsed": false
    },
    "source": []
   }
  },
  "toc": {
   "base_numbering": 1,
   "nav_menu": {},
   "number_sections": true,
   "sideBar": true,
   "skip_h1_title": false,
   "title_cell": "Table of Contents",
   "title_sidebar": "Contents",
   "toc_cell": false,
   "toc_position": {},
   "toc_section_display": true,
   "toc_window_display": false
  }
 },
 "nbformat": 4,
 "nbformat_minor": 1
}
