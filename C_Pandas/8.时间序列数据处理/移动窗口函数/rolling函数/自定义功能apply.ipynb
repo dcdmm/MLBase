{
 "cells": [
  {
   "cell_type": "code",
   "execution_count": null,
   "outputs": [],
   "source": [
    "import  pandas as pd"
   ],
   "metadata": {
    "collapsed": false,
    "pycharm": {
     "name": "#%%\n"
    }
   }
  },
  {
   "cell_type": "code",
   "execution_count": 5,
   "metadata": {
    "pycharm": {
     "is_executing": false
    }
   },
   "outputs": [
    {
     "data": {
      "text/plain": "                AAPL      MSFT       XOM\n2003-01-02       NaN       NaN       NaN\n2003-01-03  0.006757  0.001421  0.000684\n2003-01-06  0.000000  0.017975  0.024624\n2003-01-07 -0.002685  0.019052 -0.033712\n2003-01-08 -0.020188 -0.028272 -0.004145",
      "text/html": "<div>\n<style scoped>\n    .dataframe tbody tr th:only-of-type {\n        vertical-align: middle;\n    }\n\n    .dataframe tbody tr th {\n        vertical-align: top;\n    }\n\n    .dataframe thead th {\n        text-align: right;\n    }\n</style>\n<table border=\"1\" class=\"dataframe\">\n  <thead>\n    <tr style=\"text-align: right;\">\n      <th></th>\n      <th>AAPL</th>\n      <th>MSFT</th>\n      <th>XOM</th>\n    </tr>\n  </thead>\n  <tbody>\n    <tr>\n      <th>2003-01-02</th>\n      <td>NaN</td>\n      <td>NaN</td>\n      <td>NaN</td>\n    </tr>\n    <tr>\n      <th>2003-01-03</th>\n      <td>0.006757</td>\n      <td>0.001421</td>\n      <td>0.000684</td>\n    </tr>\n    <tr>\n      <th>2003-01-06</th>\n      <td>0.000000</td>\n      <td>0.017975</td>\n      <td>0.024624</td>\n    </tr>\n    <tr>\n      <th>2003-01-07</th>\n      <td>-0.002685</td>\n      <td>0.019052</td>\n      <td>-0.033712</td>\n    </tr>\n    <tr>\n      <th>2003-01-08</th>\n      <td>-0.020188</td>\n      <td>-0.028272</td>\n      <td>-0.004145</td>\n    </tr>\n  </tbody>\n</table>\n</div>"
     },
     "metadata": {},
     "output_type": "execute_result",
     "execution_count": 5
    }
   ],
   "source": [
    "score_at_2percent = lambda x: sum(x)\n",
    "close_px_all = pd.read_csv('stock_px_2.csv',\n",
    "                           parse_dates=True, index_col=0)\n",
    "close_px = close_px_all[['AAPL', 'MSFT', 'XOM']]\n",
    "returns = close_px.pct_change()\n",
    "returns.head()"
   ]
  },
  {
   "cell_type": "code",
   "execution_count": 6,
   "outputs": [
    {
     "data": {
      "text/plain": "<matplotlib.axes._subplots.AxesSubplot at 0x267b44d37f0>"
     },
     "metadata": {},
     "output_type": "execute_result",
     "execution_count": 6
    },
    {
     "data": {
      "text/plain": "<Figure size 432x288 with 1 Axes>",
      "image/png": "[encoded data removed]"
     },
     "metadata": {
      "needs_background": "light"
     },
     "output_type": "display_data"
    }
   ],
   "source": "'''\nraw : bool, default None\n    False : passes each row or column as a Series to the function.\n    True or None : the passed function will receive ndarray objects instead.\n'''\nresults_ap = returns.AAPL.rolling(250).apply(score_at_2percent, raw=False)\nresults_ap.plot()",
   "metadata": {
    "pycharm": {
     "metadata": false,
     "name": "#%%\n",
     "is_executing": false
    }
   }
  },
  {
   "cell_type": "code",
   "execution_count": 7,
   "metadata": {
    "pycharm": {
     "is_executing": false
    }
   },
   "outputs": [
    {
     "data": {
      "text/plain": "2003-01-02         NaN\n2003-01-03         NaN\n2003-01-06         NaN\n2003-01-07         NaN\n2003-01-08         NaN\n                ...   \n2011-10-10    0.288792\n2011-10-11    0.311088\n2011-10-12    0.274718\n2011-10-13    0.279875\n2011-10-14    0.339861\nName: AAPL, Length: 2214, dtype: float64"
     },
     "metadata": {},
     "output_type": "execute_result",
     "execution_count": 7
    }
   ],
   "source": "results_ap"
  },
  {
   "cell_type": "code",
   "execution_count": null,
   "outputs": [],
   "source": "\n",
   "metadata": {
    "pycharm": {
     "metadata": false,
     "name": "#%%\n"
    }
   }
  }
 ],
 "metadata": {
  "kernelspec": {
   "name": "python3",
   "language": "python",
   "display_name": "Python 3"
  },
  "language_info": {
   "codemirror_mode": {
    "name": "ipython",
    "version": 2
   },
   "file_extension": ".py",
   "mimetype": "text/x-python",
   "name": "python",
   "nbconvert_exporter": "python",
   "pygments_lexer": "ipython2",
   "version": "2.7.6"
  },
  "pycharm": {
   "stem_cell": {
    "cell_type": "raw",
    "source": [],
    "metadata": {
     "collapsed": false
    }
   }
  }
 },
 "nbformat": 4,
 "nbformat_minor": 0
}