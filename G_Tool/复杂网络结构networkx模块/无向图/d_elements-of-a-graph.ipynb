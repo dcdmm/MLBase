{
 "cells": [
  {
   "cell_type": "code",
   "execution_count": 50,
   "metadata": {
    "collapsed": true
   },
   "outputs": [],
   "source": [
    "import networkx as nx"
   ]
  },
  {
   "cell_type": "code",
   "execution_count": 51,
   "outputs": [
    {
     "data": {
      "text/plain": "<Figure size 432x288 with 1 Axes>",
      "image/png": "[encoded data removed]"
     },
     "metadata": {},
     "output_type": "display_data"
    }
   ],
   "source": [
    "# 创建一个无向图\n",
    "G = nx.Graph()\n",
    "\n",
    "G.add_node(1)\n",
    "G.add_nodes_from([2, 3])\n",
    "G.add_nodes_from([\n",
    "    (4, {\"color\": \"red\"}),\n",
    "    (5, {\"color\": \"green\"}),\n",
    "])\n",
    "H = nx.path_graph(10)\n",
    "G.add_nodes_from(H)\n",
    "\n",
    "G.add_edge(3, 'm')\n",
    "G.add_edge(1, 2)\n",
    "e = (2, 3)\n",
    "G.add_edge(*e)\n",
    "G.add_edges_from([(1, 3), (1, 5)])\n",
    "G.add_edges_from(H.edges)\n",
    "nx.draw(G, with_labels=True, font_weight='bold')"
   ],
   "metadata": {
    "collapsed": false,
    "pycharm": {
     "name": "#%%\n"
    }
   }
  },
  {
   "cell_type": "code",
   "execution_count": 52,
   "outputs": [
    {
     "data": {
      "text/plain": "NodeView((1, 2, 3, 4, 5, 0, 6, 7, 8, 9, 'm'))"
     },
     "execution_count": 52,
     "metadata": {},
     "output_type": "execute_result"
    }
   ],
   "source": [
    "G.nodes"
   ],
   "metadata": {
    "collapsed": false,
    "pycharm": {
     "name": "#%%\n"
    }
   }
  },
  {
   "cell_type": "code",
   "execution_count": 53,
   "outputs": [
    {
     "data": {
      "text/plain": "[1, 2, 3, 4, 5, 0, 6, 7, 8, 9, 'm']"
     },
     "execution_count": 53,
     "metadata": {},
     "output_type": "execute_result"
    }
   ],
   "source": [
    "list(G.nodes)"
   ],
   "metadata": {
    "collapsed": false,
    "pycharm": {
     "name": "#%%\n"
    }
   }
  },
  {
   "cell_type": "code",
   "execution_count": 54,
   "outputs": [
    {
     "data": {
      "text/plain": "EdgeView([(1, 2), (1, 3), (1, 5), (1, 0), (2, 3), (3, 'm'), (3, 4), (4, 5), (5, 6), (6, 7), (7, 8), (8, 9)])"
     },
     "execution_count": 54,
     "metadata": {},
     "output_type": "execute_result"
    }
   ],
   "source": [
    "G.edges"
   ],
   "metadata": {
    "collapsed": false,
    "pycharm": {
     "name": "#%%\n"
    }
   }
  },
  {
   "cell_type": "code",
   "execution_count": 55,
   "outputs": [
    {
     "data": {
      "text/plain": "AdjacencyView({1: {2: {}, 3: {}, 5: {}, 0: {}}, 2: {1: {}, 3: {}}, 3: {'m': {}, 2: {}, 1: {}, 4: {}}, 4: {3: {}, 5: {}}, 5: {1: {}, 4: {}, 6: {}}, 0: {1: {}}, 6: {5: {}, 7: {}}, 7: {6: {}, 8: {}}, 8: {7: {}, 9: {}}, 9: {8: {}}, 'm': {3: {}}})"
     },
     "execution_count": 55,
     "metadata": {},
     "output_type": "execute_result"
    }
   ],
   "source": [
    "# 包含每个节点的邻居的图形邻接对象。\n",
    "G.adj"
   ],
   "metadata": {
    "collapsed": false,
    "pycharm": {
     "name": "#%%\n"
    }
   }
  },
  {
   "cell_type": "code",
   "execution_count": 56,
   "outputs": [
    {
     "data": {
      "text/plain": "AtlasView({2: {}, 3: {}, 5: {}, 0: {}})"
     },
     "execution_count": 56,
     "metadata": {},
     "output_type": "execute_result"
    }
   ],
   "source": [
    "G.adj[1]"
   ],
   "metadata": {
    "collapsed": false,
    "pycharm": {
     "name": "#%%\n"
    }
   }
  },
  {
   "cell_type": "code",
   "execution_count": 57,
   "outputs": [
    {
     "data": {
      "text/plain": "{1: AtlasView({2: {}, 3: {}, 5: {}, 0: {}}),\n 2: AtlasView({1: {}, 3: {}}),\n 3: AtlasView({'m': {}, 2: {}, 1: {}, 4: {}}),\n 4: AtlasView({3: {}, 5: {}}),\n 5: AtlasView({1: {}, 4: {}, 6: {}}),\n 0: AtlasView({1: {}}),\n 6: AtlasView({5: {}, 7: {}}),\n 7: AtlasView({6: {}, 8: {}}),\n 8: AtlasView({7: {}, 9: {}}),\n 9: AtlasView({8: {}}),\n 'm': AtlasView({3: {}})}"
     },
     "execution_count": 57,
     "metadata": {},
     "output_type": "execute_result"
    }
   ],
   "source": [
    "dict(G.adj)"
   ],
   "metadata": {
    "collapsed": false,
    "pycharm": {
     "name": "#%%\n"
    }
   }
  },
  {
   "cell_type": "code",
   "execution_count": 58,
   "outputs": [
    {
     "data": {
      "text/plain": "DegreeView({1: 4, 2: 2, 3: 4, 4: 2, 5: 3, 0: 1, 6: 2, 7: 2, 8: 2, 9: 1, 'm': 1})"
     },
     "execution_count": 58,
     "metadata": {},
     "output_type": "execute_result"
    }
   ],
   "source": [
    "# 关联到1的边数为4,关联到2的边数为2\n",
    "G.degree"
   ],
   "metadata": {
    "collapsed": false,
    "pycharm": {
     "name": "#%%\n"
    }
   }
  },
  {
   "cell_type": "code",
   "execution_count": 59,
   "outputs": [
    {
     "data": {
      "text/plain": "{1: 4, 2: 2, 3: 4, 4: 2, 5: 3, 0: 1, 6: 2, 7: 2, 8: 2, 9: 1, 'm': 1}"
     },
     "execution_count": 59,
     "metadata": {},
     "output_type": "execute_result"
    }
   ],
   "source": [
    "dict(G.degree)"
   ],
   "metadata": {
    "collapsed": false,
    "pycharm": {
     "name": "#%%\n"
    }
   }
  },
  {
   "cell_type": "code",
   "execution_count": 60,
   "outputs": [
    {
     "data": {
      "text/plain": "EdgeDataView([(2, 1), (2, 3), ('m', 3)])"
     },
     "execution_count": 60,
     "metadata": {},
     "output_type": "execute_result"
    }
   ],
   "source": [
    "# 节点2和节点'm'所连接的边\n",
    "G.edges([2, 'm'])"
   ],
   "metadata": {
    "collapsed": false,
    "pycharm": {
     "name": "#%%\n"
    }
   }
  },
  {
   "cell_type": "code",
   "execution_count": 61,
   "outputs": [
    {
     "data": {
      "text/plain": "DegreeView({2: 2, 3: 4, 'm': 1})"
     },
     "execution_count": 61,
     "metadata": {},
     "output_type": "execute_result"
    }
   ],
   "source": [
    "# 关联到节点2和节点'm'的边数\n",
    "G.degree([2, 'm'])\n"
   ],
   "metadata": {
    "collapsed": false,
    "pycharm": {
     "name": "#%%\n"
    }
   }
  }
 ],
 "metadata": {
  "kernelspec": {
   "display_name": "Python 3",
   "language": "python",
   "name": "python3"
  },
  "language_info": {
   "codemirror_mode": {
    "name": "ipython",
    "version": 2
   },
   "file_extension": ".py",
   "mimetype": "text/x-python",
   "name": "python",
   "nbconvert_exporter": "python",
   "pygments_lexer": "ipython2",
   "version": "2.7.6"
  }
 },
 "nbformat": 4,
 "nbformat_minor": 0
}