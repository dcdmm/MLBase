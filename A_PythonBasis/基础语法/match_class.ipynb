{
 "cells": [
  {
   "cell_type": "code",
   "execution_count": 18,
   "metadata": {
    "collapsed": true,
    "pycharm": {
     "name": "#%%\n"
    }
   },
   "outputs": [
    {
     "name": "stdout",
     "output_type": "stream",
     "text": [
      "0↑←\n",
      "3↓→\n",
      "ud=?, lr=dcdmm, x=100\n",
      "all\n"
     ]
    }
   ],
   "source": [
    "# python3.10新增\n",
    "\n",
    "class DirectPair:\n",
    "    x = 100\n",
    "\n",
    "    def __init__(self, up_down: str, left_right: str):\n",
    "        self.ud, self.lr = up_down, left_right\n",
    "\n",
    "\n",
    "# 匹配类属性和实例属性\n",
    "def compose(x, up_down: str, left_right: str) -> str:\n",
    "    obj = DirectPair(up_down, left_right)\n",
    "    if x is not None:\n",
    "        obj.x = x\n",
    "    match obj:\n",
    "        case DirectPair(x=0, ud='↑', lr='←'):  # 匹配DirectPair实例属性ud='↑'和lr='←',类属性x=0\n",
    "            return str(x) + '↑←'\n",
    "        case DirectPair(x=1, ud='↑', lr='→'):\n",
    "            return '1↑→'\n",
    "        case DirectPair(x=2, ud='↓', lr='←'):\n",
    "            return '2↓←'\n",
    "        case DirectPair(x=3, ud='↓', lr='→'):\n",
    "            return '3↓→'\n",
    "        case DirectPair(ud='?', x=udx):  # 匹配DirectPair实例对象ud='?\",且类属性x的值赋值给udx\n",
    "            return f'ud=?, lr={left_right}, x={udx}'\n",
    "        case DirectPair():  # 匹配所有DirectPair实例对象\n",
    "            return 'all'\n",
    "        case _:\n",
    "            return 'ERROR'\n",
    "\n",
    "\n",
    "print(compose(0, '↑', '←'))  # 0↑←\n",
    "print(compose(3, '↓', '→'))  # 3↓→\n",
    "\n",
    "print(compose(None, \"?\", \"dcdmm\"))  # ud=?, lr=dcdmm\n",
    "\n",
    "print(compose(3, \"china\", \"japen\"))  # all"
   ]
  }
 ],
 "metadata": {
  "kernelspec": {
   "display_name": "Python 3",
   "language": "python",
   "name": "python3"
  },
  "language_info": {
   "codemirror_mode": {
    "name": "ipython",
    "version": 2
   },
   "file_extension": ".py",
   "mimetype": "text/x-python",
   "name": "python",
   "nbconvert_exporter": "python",
   "pygments_lexer": "ipython2",
   "version": "2.7.6"
  }
 },
 "nbformat": 4,
 "nbformat_minor": 0
}