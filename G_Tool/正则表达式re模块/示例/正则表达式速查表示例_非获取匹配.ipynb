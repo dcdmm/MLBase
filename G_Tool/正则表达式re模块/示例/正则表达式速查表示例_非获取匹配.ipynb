{
 "cells": [
  {
   "cell_type": "code",
   "execution_count": 26,
   "metadata": {
    "collapsed": true
   },
   "outputs": [],
   "source": [
    "import re\n",
    "import regex as re1"
   ]
  },
  {
   "cell_type": "code",
   "execution_count": 27,
   "outputs": [
    {
     "name": "stdout",
     "output_type": "stream",
     "text": [
      "['我是']\n",
      "['我是']\n",
      "[]\n"
     ]
    }
   ],
   "source": [
    "# 匹配'学生'、'打工仔'前的'我是'\n",
    "print(re.findall(re.compile(r\"我是(?=学生|打工仔)\"), \"我是学生\"))\n",
    "print(re.findall(re.compile(r\"我是(?=学生|打工仔)\"), \"我是打工仔\"))\n",
    "print(re.findall(re.compile(r\"我是(?=学生|打工仔)\"), \"我是总统\"))"
   ],
   "metadata": {
    "collapsed": false,
    "pycharm": {
     "name": "#%%\n"
    }
   }
  },
  {
   "cell_type": "code",
   "execution_count": 28,
   "outputs": [
    {
     "name": "stdout",
     "output_type": "stream",
     "text": [
      "['很厉害']\n",
      "['很厉害']\n",
      "[]\n"
     ]
    }
   ],
   "source": [
    "# 匹配'中国人'、'美国人'后的'很厉害'\n",
    "print(re.findall(re.compile(r\"(?<=中国人|美国人)很厉害\"), \"中国人很厉害\"))\n",
    "print(re.findall(re.compile(r\"(?<=中国人|美国人)很厉害\"), \"美国人很厉害\"))\n",
    "print(re.findall(re.compile(r\"(?<=中国人|美国人)很厉害\"), \"日本人很厉害\"))"
   ],
   "metadata": {
    "collapsed": false,
    "pycharm": {
     "name": "#%%\n"
    }
   }
  },
  {
   "cell_type": "code",
   "execution_count": 29,
   "outputs": [
    {
     "name": "stdout",
     "output_type": "stream",
     "text": [
      "['很厉害']\n",
      "['很厉害']\n"
     ]
    }
   ],
   "source": [
    "# ?<=、?<!的可选匹配必须具有相同的长度\n",
    "# print(re.findall(re.compile(r\"(?<=中国人|俄罗斯人).*\"), \"中国人很厉害\"))  # 报错;len('中国人') != len('俄罗斯人')\n",
    "\n",
    "\n",
    "# 解决方法1:\n",
    "print(re.findall(re.compile(r\"(?:(?<=中国人)|(?<=俄罗斯人))很厉害\"), \"中国人很厉害\"))  # ?<!同理\n",
    "\n",
    "\n",
    "# 解决方法2:\n",
    "print(re1.findall(re1.compile(r\"(?<=中国人|俄罗斯人).*\"), \"中国人很厉害\"))"
   ],
   "metadata": {
    "collapsed": false,
    "pycharm": {
     "name": "#%%\n"
    }
   }
  },
  {
   "cell_type": "code",
   "execution_count": 30,
   "outputs": [
    {
     "name": "stdout",
     "output_type": "stream",
     "text": [
      "[]\n",
      "[]\n",
      "['SB']\n"
     ]
    }
   ],
   "source": [
    "# 不匹配'苏联人'、'美国人'前的'SB'\n",
    "print(re.findall(re.compile(r\"SB(?!苏联人|美国人)\"), \"SB美国人\"))\n",
    "print(re.findall(re.compile(r\"SB(?!苏联人|美国人)\"), \"SB苏联人\"))\n",
    "print(re.findall(re.compile(r\"SB(?!苏联人|美国人)\"), \"SB日本人\"))"
   ],
   "metadata": {
    "collapsed": false,
    "pycharm": {
     "name": "#%%\n"
    }
   }
  },
  {
   "cell_type": "code",
   "execution_count": 31,
   "outputs": [
    {
     "name": "stdout",
     "output_type": "stream",
     "text": [
      "[]\n",
      "[]\n",
      "['吃屎']\n"
     ]
    }
   ],
   "source": [
    "# 不匹配'苏联人'、'美国人'后的'吃屎'\n",
    "print(re.findall(re.compile(r\"(?<!苏联人|美国人)吃屎\"), \"美国人吃屎\"))\n",
    "print(re.findall(re.compile(r\"(?<!苏联人|美国人)吃屎\"), \"苏联人吃屎\"))\n",
    "print(re.findall(re.compile(r\"(?<!苏联人|美国人)吃屎\"), \"日本人吃屎\"))"
   ],
   "metadata": {
    "collapsed": false,
    "pycharm": {
     "name": "#%%\n"
    }
   }
  },
  {
   "cell_type": "code",
   "execution_count": 32,
   "outputs": [
    {
     "name": "stdout",
     "output_type": "stream",
     "text": [
      "['industry']\n",
      "['industries']\n",
      "['industry']\n",
      "['industries']\n"
     ]
    }
   ],
   "source": [
    "print(re.findall(re.compile(r\"industry|industries\"), \"industry\"))\n",
    "print(re.findall(re.compile(r\"industry|industries\"), \"industries\"))\n",
    "\n",
    "# 与上等价,但更为简洁\n",
    "print(re.findall(re.compile(r\"industr(?:y|ies)\"), \"industry\"))\n",
    "print(re.findall(re.compile(r\"industr(?:y|ies)\"), \"industries\"))"
   ],
   "metadata": {
    "collapsed": false,
    "pycharm": {
     "name": "#%%\n"
    }
   }
  },
  {
   "cell_type": "code",
   "execution_count": 33,
   "outputs": [
    {
     "name": "stdout",
     "output_type": "stream",
     "text": [
      "['哮喘性支气管炎']\n"
     ]
    }
   ],
   "source": [
    "html = '<span data-v-d8c58a7a=\"\" class=\"name\">哮喘性支气管炎</span>'\n",
    "pattern = '(?<=<span.*class=\"name\">).*(?=</span>)'\n",
    "# print(re.findall(pattern, html))  # 报错:error: look-behind requires fixed-width pattern\n",
    "\n",
    "# 解决方法:\n",
    "print(re1.findall(pattern, html))"
   ],
   "metadata": {
    "collapsed": false,
    "pycharm": {
     "name": "#%%\n"
    }
   }
  },
  {
   "cell_type": "code",
   "execution_count": 33,
   "outputs": [],
   "source": [],
   "metadata": {
    "collapsed": false,
    "pycharm": {
     "name": "#%%\n"
    }
   }
  }
 ],
 "metadata": {
  "kernelspec": {
   "display_name": "Python 3",
   "language": "python",
   "name": "python3"
  },
  "language_info": {
   "codemirror_mode": {
    "name": "ipython",
    "version": 2
   },
   "file_extension": ".py",
   "mimetype": "text/x-python",
   "name": "python",
   "nbconvert_exporter": "python",
   "pygments_lexer": "ipython2",
   "version": "2.7.6"
  }
 },
 "nbformat": 4,
 "nbformat_minor": 0
}