{
 "cells": [
  {
   "cell_type": "markdown",
   "metadata": {
    "collapsed": true,
    "pycharm": {
     "name": "#%% md\n"
    }
   },
   "source": [
    "Returns cosine similarity between $\\mathbf{x}_1$ and $\\mathbf{x}_2$, computed along dim\n",
    "\n",
    "$$ \\mathrm{similarity} = \\frac{\\mathbf{x}_1 \\cdot \\mathbf{x}_2}{ \\max( ||\\mathbf{x}_1 ||_2 \\cdot ||\\mathbf{x}_2||_2,\\epsilon ) } $$\n",
    "\n",
    "Input1: $(\\ast_1, D, \\ast_2)$ where D is at position dim\n",
    "\n",
    "Input2: $(\\ast_1, D, \\ast_2)$ , same shape as the Input1\n",
    "\n",
    "Output: $ (\\ast_1, \\ast_2) $"
   ]
  },
  {
   "cell_type": "code",
   "execution_count": 1,
   "outputs": [],
   "source": [
    "import torch\n",
    "import torch.nn as nn\n",
    "import torch.nn.functional as F"
   ],
   "metadata": {
    "collapsed": false,
    "pycharm": {
     "name": "#%%\n"
    }
   }
  },
  {
   "cell_type": "code",
   "execution_count": 2,
   "outputs": [],
   "source": [
    "input1 = torch.randn(10, 12, 3)\n",
    "input2 = torch.randn(10, 12, 3)"
   ],
   "metadata": {
    "collapsed": false,
    "pycharm": {
     "name": "#%%\n"
    }
   }
  },
  {
   "cell_type": "code",
   "execution_count": 3,
   "outputs": [
    {
     "name": "stdout",
     "output_type": "stream",
     "text": [
      "tensor([[ 0.2496,  0.1905,  0.3797],\n",
      "        [-0.1941,  0.0942, -0.0062],\n",
      "        [-0.2616,  0.5131,  0.6405],\n",
      "        [-0.1075,  0.1462, -0.2095],\n",
      "        [ 0.3047, -0.2233,  0.0182],\n",
      "        [ 0.1514, -0.3795,  0.5156],\n",
      "        [-0.1116,  0.3852,  0.4842],\n",
      "        [-0.2795, -0.2653,  0.1021],\n",
      "        [-0.3569, -0.0392, -0.1054],\n",
      "        [-0.2111, -0.0423,  0.1427]])\n",
      "torch.Size([10, 3])\n"
     ]
    }
   ],
   "source": [
    "output_F = F.cosine_similarity(input1, input2)  # 计算第一个维度上余弦相似度\n",
    "print(output_F)\n",
    "print(output_F.shape)"
   ],
   "metadata": {
    "collapsed": false,
    "pycharm": {
     "name": "#%%\n"
    }
   }
  },
  {
   "cell_type": "code",
   "execution_count": 4,
   "outputs": [
    {
     "name": "stdout",
     "output_type": "stream",
     "text": [
      "tensor([[ 0.2496,  0.1905,  0.3797],\n",
      "        [-0.1941,  0.0942, -0.0062],\n",
      "        [-0.2616,  0.5131,  0.6405],\n",
      "        [-0.1075,  0.1462, -0.2095],\n",
      "        [ 0.3047, -0.2233,  0.0182],\n",
      "        [ 0.1514, -0.3795,  0.5156],\n",
      "        [-0.1116,  0.3852,  0.4842],\n",
      "        [-0.2795, -0.2653,  0.1021],\n",
      "        [-0.3569, -0.0392, -0.1054],\n",
      "        [-0.2111, -0.0423,  0.1427]])\n",
      "torch.Size([10, 3])\n"
     ]
    }
   ],
   "source": [
    "output_nn = nn.CosineSimilarity()(input1, input2)\n",
    "print(output_nn)\n",
    "print(output_nn.shape)"
   ],
   "metadata": {
    "collapsed": false,
    "pycharm": {
     "name": "#%%\n"
    }
   }
  },
  {
   "cell_type": "code",
   "execution_count": 4,
   "outputs": [],
   "source": [],
   "metadata": {
    "collapsed": false,
    "pycharm": {
     "name": "#%%\n"
    }
   }
  }
 ],
 "metadata": {
  "kernelspec": {
   "display_name": "Python 3",
   "language": "python",
   "name": "python3"
  },
  "language_info": {
   "codemirror_mode": {
    "name": "ipython",
    "version": 2
   },
   "file_extension": ".py",
   "mimetype": "text/x-python",
   "name": "python",
   "nbconvert_exporter": "python",
   "pygments_lexer": "ipython2",
   "version": "2.7.6"
  }
 },
 "nbformat": 4,
 "nbformat_minor": 0
}