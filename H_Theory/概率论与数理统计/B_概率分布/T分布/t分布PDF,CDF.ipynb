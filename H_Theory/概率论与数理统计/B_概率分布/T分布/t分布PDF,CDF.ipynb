{
 "cells": [
  {
   "cell_type": "markdown",
   "source": [
    "## 概率密度函数（Probability Density Function）\n",
    "根据密度分布函数来计算"
   ],
   "metadata": {
    "pycharm": {
     "metadata": false,
     "name": "#%% md\n"
    }
   }
  },
  {
   "cell_type": "code",
   "execution_count": 3,
   "metadata": {
    "collapsed": true,
    "pycharm": {
     "is_executing": false
    }
   },
   "outputs": [
    {
     "name": "stdout",
     "text": [
      "Using matplotlib backend: Qt5Agg\n"
     ],
     "output_type": "stream"
    }
   ],
   "source": [
    "%matplotlib\n",
    "from scipy.stats import t\n",
    "\n",
    "# additional imports for plotting purpose\n",
    "import numpy as np\n",
    "import matplotlib.pyplot as plt\n",
    "import matplotlib.style as style\n",
    "\n",
    "style.use('classic')\n",
    "fig = plt.figure(figsize=(14, 7), dpi=100)\n",
    "ax  = plt.subplot(111)\n",
    "\n",
    "# continuous pdf for the plot\n",
    "x_s = np.arange(-15, 15, 0.1)\n",
    "y_s = t.pdf(x=x_s, df=4)\n",
    "plt.scatter(x_s, y_s, s=30);"
   ]
  },
  {
   "cell_type": "markdown",
   "source": [
    "<font color='yellow'>\n",
    "\n",
    "\n",
    "## Cumulative Probability Density Function¶\n",
    "\n",
    "\n",
    "</font>"
   ],
   "metadata": {
    "pycharm": {
     "metadata": false
    }
   }
  },
  {
   "cell_type": "code",
   "execution_count": 4,
   "outputs": [
    {
     "name": "stdout",
     "text": [
      "P(X <=3) = 0.9800290159641406\nP(-5 < X <= 8) = 0.9955928346047541\n"
     ],
     "output_type": "stream"
    }
   ],
   "source": "from scipy.stats import t\n\n# probability of x less or equal 0.3\nprint(\"P(X <=3) = {}\".format(t.cdf(x=3, df=4)))\n\n# probability of x in [-5, 8]\nprint(\"P(-5 < X <= 8) = {}\".format(t.cdf(x=8, df=4) - t.cdf(x=-5, df=4)))",
   "metadata": {
    "pycharm": {
     "metadata": false,
     "name": "#%%\n",
     "is_executing": false
    }
   }
  },
  {
   "cell_type": "code",
   "execution_count": null,
   "outputs": [],
   "source": "\n",
   "metadata": {
    "pycharm": {
     "metadata": false,
     "name": "#%%\n"
    }
   }
  }
 ],
 "metadata": {
  "language_info": {
   "codemirror_mode": {
    "name": "ipython",
    "version": 2
   },
   "file_extension": ".py",
   "mimetype": "text/x-python",
   "name": "python",
   "nbconvert_exporter": "python",
   "pygments_lexer": "ipython2",
   "version": "2.7.6"
  },
  "kernelspec": {
   "name": "python3",
   "language": "python",
   "display_name": "Python 3"
  },
  "stem_cell": {
   "cell_type": "raw",
   "source": "",
   "metadata": {
    "pycharm": {
     "metadata": false
    }
   }
  },
  "pycharm": {
   "stem_cell": {
    "cell_type": "raw",
    "source": [],
    "metadata": {
     "collapsed": false
    }
   }
  }
 },
 "nbformat": 4,
 "nbformat_minor": 0
}