{
 "cells": [
  {
   "cell_type": "markdown",
   "metadata": {
    "pycharm": {
     "name": "#%% md\n"
    }
   },
   "source": [
    "&emsp;&emsp;近似算法的想法是,在每个时刻$t$选择在该时刻最有可能出现的状态$i^*_t$,从而得到一个状态序列$I^*=(i^*_1,i^*_2,\\cdots,i^*_T)$,将它作为预测的结果.\n",
    "\n",
    "&emsp;&emsp;给定隐马尔可夫模型$\\boldsymbol{\\lambda}$和观测序列$O$,在时刻$t$处于状态$q_i$的概率$\\gamma_t(i)$是\n",
    "\n",
    "$$ \\gamma_{t}(i)=\\frac{\\alpha_{t}(i) \\beta_{t}(i)}{P(O \\mid \\boldsymbol{\\lambda})}=\\frac{\\alpha_{t}(i) \\beta_{t}(i)}{\\sum_{j=1}^{N} \\alpha_{t}(j) \\beta_{t}(j)} $$\n",
    "\n",
    "在每一时刻$t$最有可能的状态$i_t^*$是\n",
    "\n",
    "$$ i^*_t = \\arg \\max_{1 \\leq i \\leq N} [ r_t(i)] $$\n",
    "\n",
    "从而得到状态序列$I^*=(i^*_1,i^*_2,\\cdots,i^*_T)$.\n",
    "\n",
    "&emsp;&emsp;近似算法的优点是计算简单,其缺点是不能保证预测的状态序列整体是最有可能的状态序列,因为预测的状态序列可能有实际不发生的部分.事实上,上述方法得到的状态序列中有可能存在转移概率为0的相邻状态,即对某些$i,j,a_{ij}=0$时.尽管如此,近似算法仍然是有用的.\n"
   ]
  }
 ],
 "metadata": {
  "kernelspec": {
   "display_name": "Python 3 (ipykernel)",
   "language": "python",
   "name": "python3"
  },
  "language_info": {
   "codemirror_mode": {
    "name": "ipython",
    "version": 3
   },
   "file_extension": ".py",
   "mimetype": "text/x-python",
   "name": "python",
   "nbconvert_exporter": "python",
   "pygments_lexer": "ipython3",
   "version": "3.8.12"
  }
 },
 "nbformat": 4,
 "nbformat_minor": 4
}
