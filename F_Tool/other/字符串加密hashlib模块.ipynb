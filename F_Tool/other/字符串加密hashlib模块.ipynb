{
 "cells": [
  {
   "cell_type": "code",
   "source": [
    "import hashlib"
   ],
   "metadata": {
    "collapsed": false,
    "pycharm": {
     "name": "#%%\n"
    },
    "ExecuteTime": {
     "end_time": "2025-08-28T03:05:46.898380Z",
     "start_time": "2025-08-28T03:05:46.894736Z"
    }
   },
   "outputs": [],
   "execution_count": 26
  },
  {
   "cell_type": "code",
   "source": [
    "string = 'Return the digest of the bytes'"
   ],
   "metadata": {
    "collapsed": false,
    "pycharm": {
     "name": "#%%\n"
    },
    "ExecuteTime": {
     "end_time": "2025-08-28T03:05:46.912862Z",
     "start_time": "2025-08-28T03:05:46.908828Z"
    }
   },
   "outputs": [],
   "execution_count": 27
  },
  {
   "cell_type": "code",
   "source": [
    "md5 = hashlib.md5()\n",
    "\n",
    "'''\n",
    "Hash objects have these methods:\n",
    " - update(data): Update the hash object with the bytes in data. Repeated calls\n",
    "                 are equivalent to a single call with the concatenation of all\n",
    "                 the arguments.\n",
    " - digest():     Return the digest of the bytes passed to the update() method\n",
    "                 so far as a bytes object.\n",
    " - hexdigest():  Like digest() except the digest is returned as a string\n",
    "                 of double length, containing only hexadecimal digits.\n",
    " - copy():       Return a copy (clone) of the hash object. This can be used to\n",
    "                 efficiently compute the digests of datas that share a common\n",
    "                 initial substring.\n",
    "'''\n",
    "md5.update(string.encode('utf-8'))\n",
    "print(md5.hexdigest())\n",
    "print(md5.digest())"
   ],
   "metadata": {
    "collapsed": false,
    "pycharm": {
     "name": "#%%\n"
    },
    "ExecuteTime": {
     "end_time": "2025-08-28T03:05:46.923925Z",
     "start_time": "2025-08-28T03:05:46.918554Z"
    }
   },
   "outputs": [
    {
     "name": "stdout",
     "output_type": "stream",
     "text": [
      "bb2db373a6c5a94d52c3f6cf0a4f64f1\n",
      "b'\\xbb-\\xb3s\\xa6\\xc5\\xa9MR\\xc3\\xf6\\xcf\\nOd\\xf1'\n"
     ]
    }
   ],
   "execution_count": 28
  },
  {
   "cell_type": "code",
   "source": [
    "sha1 = hashlib.sha1()\n",
    "sha1.update(string.encode('utf-8')) # 计算哈希\n",
    "print(sha1.hexdigest())  # 获取结果(不需要计算哈希)\n",
    "print(sha1.digest())  # 获取结果(不需要计算哈希)\n",
    "\n",
    "print(hashlib.sha1(string.encode('utf-8')).hexdigest())  # 计算哈希并获取结果\n",
    "print(hashlib.sha1(string.encode('utf-8')).digest())  # 计算哈希并获取结果"
   ],
   "metadata": {
    "collapsed": false,
    "pycharm": {
     "name": "#%%\n"
    },
    "ExecuteTime": {
     "end_time": "2025-08-28T03:05:46.951358Z",
     "start_time": "2025-08-28T03:05:46.946895Z"
    }
   },
   "outputs": [
    {
     "name": "stdout",
     "output_type": "stream",
     "text": [
      "<sha1 _hashlib.HASH object @ 0x000001B63B153070>\n",
      "d38b671a53aa1d658d77eecaca26175799635d0d\n",
      "b'\\xd3\\x8bg\\x1aS\\xaa\\x1de\\x8dw\\xee\\xca\\xca&\\x17W\\x99c]\\r'\n",
      "d38b671a53aa1d658d77eecaca26175799635d0d\n",
      "b'\\xd3\\x8bg\\x1aS\\xaa\\x1de\\x8dw\\xee\\xca\\xca&\\x17W\\x99c]\\r'\n"
     ]
    }
   ],
   "execution_count": 29
  },
  {
   "cell_type": "code",
   "source": [
    "sha224 = hashlib.sha224()\n",
    "sha224.update(string.encode('utf-8'))\n",
    "print(sha224.hexdigest())\n",
    "print(sha224.digest())"
   ],
   "metadata": {
    "collapsed": false,
    "pycharm": {
     "name": "#%%\n"
    },
    "ExecuteTime": {
     "end_time": "2025-08-28T03:05:47.000743Z",
     "start_time": "2025-08-28T03:05:46.996257Z"
    }
   },
   "outputs": [
    {
     "name": "stdout",
     "output_type": "stream",
     "text": [
      "2842dc1fa536fe79990fd9b4cd5f3f7abc0ab92f4f255ad1bb1e8a6c\n",
      "b'(B\\xdc\\x1f\\xa56\\xfey\\x99\\x0f\\xd9\\xb4\\xcd_?z\\xbc\\n\\xb9/O%Z\\xd1\\xbb\\x1e\\x8al'\n"
     ]
    }
   ],
   "execution_count": 30
  },
  {
   "cell_type": "code",
   "source": [
    "sha256 = hashlib.sha256()\n",
    "sha256.update(string.encode('utf-8'))\n",
    "print(sha256.hexdigest())\n",
    "print(sha256.digest())"
   ],
   "metadata": {
    "collapsed": false,
    "pycharm": {
     "name": "#%%\n"
    },
    "ExecuteTime": {
     "end_time": "2025-08-28T03:05:47.043546Z",
     "start_time": "2025-08-28T03:05:47.038307Z"
    }
   },
   "outputs": [
    {
     "name": "stdout",
     "output_type": "stream",
     "text": [
      "6cde076463c672db44a0b698750a2759eeb9fd5be149455926a16cbeadac1b1f\n",
      "b\"l\\xde\\x07dc\\xc6r\\xdbD\\xa0\\xb6\\x98u\\n'Y\\xee\\xb9\\xfd[\\xe1IEY&\\xa1l\\xbe\\xad\\xac\\x1b\\x1f\"\n"
     ]
    }
   ],
   "execution_count": 31
  },
  {
   "cell_type": "code",
   "source": [
    "sha384 = hashlib.sha384()\n",
    "sha384.update(string.encode('utf-8'))\n",
    "print(sha384.hexdigest())\n",
    "print(sha384.digest())"
   ],
   "metadata": {
    "collapsed": false,
    "pycharm": {
     "name": "#%%\n"
    },
    "ExecuteTime": {
     "end_time": "2025-08-28T03:05:47.075860Z",
     "start_time": "2025-08-28T03:05:47.071286Z"
    }
   },
   "outputs": [
    {
     "name": "stdout",
     "output_type": "stream",
     "text": [
      "153d7afcedafbbeb85f46348058a0c37d50048c592e6ad54e7b9c820f3b0d8de40c8dda169dba5f70b78da6f53f438bd\n",
      "b'\\x15=z\\xfc\\xed\\xaf\\xbb\\xeb\\x85\\xf4cH\\x05\\x8a\\x0c7\\xd5\\x00H\\xc5\\x92\\xe6\\xadT\\xe7\\xb9\\xc8 \\xf3\\xb0\\xd8\\xde@\\xc8\\xdd\\xa1i\\xdb\\xa5\\xf7\\x0bx\\xdaoS\\xf48\\xbd'\n"
     ]
    }
   ],
   "execution_count": 32
  },
  {
   "cell_type": "code",
   "source": [
    "sha512 = hashlib.sha512()\n",
    "sha512.update(string.encode('utf-8'))\n",
    "print(sha512.hexdigest())\n",
    "print(sha512.digest())"
   ],
   "metadata": {
    "collapsed": false,
    "pycharm": {
     "name": "#%%\n"
    },
    "ExecuteTime": {
     "end_time": "2025-08-28T03:05:47.104634Z",
     "start_time": "2025-08-28T03:05:47.100126Z"
    }
   },
   "outputs": [
    {
     "name": "stdout",
     "output_type": "stream",
     "text": [
      "00bbdea0267c5ccaf998c686911e5db318d0efe496cf9ca3fff9eb6c85a3daa7d4187b58fea8ead03fac5a729cd8af39edda8a356d7cbb962c0696f3e996ca4a\n",
      "b'\\x00\\xbb\\xde\\xa0&|\\\\\\xca\\xf9\\x98\\xc6\\x86\\x91\\x1e]\\xb3\\x18\\xd0\\xef\\xe4\\x96\\xcf\\x9c\\xa3\\xff\\xf9\\xebl\\x85\\xa3\\xda\\xa7\\xd4\\x18{X\\xfe\\xa8\\xea\\xd0?\\xacZr\\x9c\\xd8\\xaf9\\xed\\xda\\x8a5m|\\xbb\\x96,\\x06\\x96\\xf3\\xe9\\x96\\xcaJ'\n"
     ]
    }
   ],
   "execution_count": 33
  }
 ],
 "metadata": {
  "kernelspec": {
   "display_name": "Python 3",
   "language": "python",
   "name": "python3"
  },
  "language_info": {
   "codemirror_mode": {
    "name": "ipython",
    "version": 2
   },
   "file_extension": ".py",
   "mimetype": "text/x-python",
   "name": "python",
   "nbconvert_exporter": "python",
   "pygments_lexer": "ipython2",
   "version": "2.7.6"
  }
 },
 "nbformat": 4,
 "nbformat_minor": 0
}
