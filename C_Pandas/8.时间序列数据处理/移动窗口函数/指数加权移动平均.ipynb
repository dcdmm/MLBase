{
 "cells": [
  {
   "cell_type": "markdown",
   "metadata": {
    "collapsed": true,
    "pycharm": {
     "name": "#%% md\n"
    }
   },
   "source": [
    "&emsp;&emsp;In general, a weighted moving average is calculated as \n",
    "$$ y_{t} = \\frac{ \\sum_{i=0}^{t} w_{i}x_{t-i} }{ \\sum_{i=0}^{t} w_{i}} $$    \n",
    "where $ x_{i} $ is the input, $ y_{i}  $ is the result and $ w_{i} $ are the wights.\n",
    "the EW functions support two variants of exponential weights. the default, adjust=True,uses the weights $ w_{i} = (1- \\alpha)^i $ which gives    \n",
    "$$ y_{t} = \\frac{ x_{t} + (1-\\alpha)x_{t-1} + (1-\\alpha)^{2}x_{t-2} +...+ (1-\\alpha)^{t}x_{0}}{ 1 + (1-\\alpha) + (1-\\alpha)^2 + ... + (1-\\alpha)^t } $$    \n",
    "\n",
    "\n",
    "&emsp;&emsp;when adjust=False is specified, moving averages are calculated as \n",
    "\n",
    "$$\n",
    "\\begin{equation} \n",
    "\\begin{split}%加在equation环境中使之有公式编号\n",
    "\t\ty_{0}&=x_{0}\\\\\n",
    "\t\ty_{t}&=(1-\\alpha)y_{t-1} + \\alpha x_{t}\n",
    "\\end{split} \n",
    "\\end{equation}  \n",
    "\n",
    "\\begin{equation} \n",
    "\\begin{split}\\alpha =\n",
    " \\begin{cases}\n",
    "     \\frac{2}{s + 1},               & \\text{for span}\\ s \\geq 1\\\\\n",
    "     \\frac{1}{1 + c},               & \\text{for center of mass}\\ c \\geq 0\\\\\n",
    "     1 - \\exp^{\\frac{\\log 0.5}{h}}, & \\text{for half-life}\\ h > 0\n",
    " \\end{cases}\\end{split}\n",
    "\\end{equation}  \n",
    "$$\n",
    "\n",
    "which is equivalent to using weights  \n",
    "\n",
    "$$\n",
    "\\begin{equation} \n",
    "\\begin{split}w_i = \\begin{cases}\n",
    "    \\alpha (1 - \\alpha)^i & \\text{if } i < t \\\\\n",
    "    (1 - \\alpha)^i        & \\text{if } i = t.\n",
    "\\end{cases}\\end{split}\n",
    "\\end{equation}  \n",
    "$$\n",
    "\n",
    "&emsp;&emsp;The difference between the above two variants arises because we are dealing with series which have finite history. Consider a series of infinite history, with `adjust=True`:\n",
    "\n",
    "$$\n",
    "\\begin{equation} \n",
    "y_t = \\frac{x_t + (1 - \\alpha)x_{t-1} + (1 - \\alpha)^2 x_{t-2} + ...}\n",
    "{1 + (1 - \\alpha) + (1 - \\alpha)^2 + ...}\n",
    "\\end{equation}  \n",
    "$$\n",
    "\n",
    "Noting that the denominator is a geometric series with initial term equal to 1 and a ratio of$ 1 - \\alpha$ we have   \n",
    "$$\n",
    "\\begin{equation} \n",
    "\\begin{split}y_t &= \\frac{x_t + (1 - \\alpha)x_{t-1} + (1 - \\alpha)^2 x_{t-2} + ...}\n",
    "{\\frac{1}{1 - (1 - \\alpha)}}\\\\\n",
    "&= [x_t + (1 - \\alpha)x_{t-1} + (1 - \\alpha)^2 x_{t-2} + ...] \\alpha \\\\\n",
    "&= \\alpha x_t + [(1-\\alpha)x_{t-1} + (1 - \\alpha)^2 x_{t-2} + ...]\\alpha \\\\\n",
    "&= \\alpha x_t + (1 - \\alpha)[x_{t-1} + (1 - \\alpha) x_{t-2} + ...]\\alpha\\\\\n",
    "&= \\alpha x_t + (1 - \\alpha) y_{t-1}\\end{split}\n",
    "\\end{equation}  \n",
    "$$\n",
    "\n",
    "&emsp;&emsp;which is the same expression as `adjust=False` above and therefore shows the equivalence of the two variants for infinite series. When `adjust=False`, we have $  y_0 = x_0$and$ y_t = \\alpha x_t + (1 - \\alpha) y_{t-1} $. Therefore, there is an assumption that $ x_{0} $ is not an ordinary value but rather an exponentially weighted moment of the infinite series up to that point.    \n",
    "\n",
    "\n",
    "&emsp;&emsp;One must have $ 0 < \\alpha \\leq 1$, and while since version 0.18.0 it has been possible to pass αα directly, it’s often easier to think about either the **span**, **center of mass (com)** or **half-life** of an EW moment:    \n",
    "$$\n",
    "\\begin{equation}\n",
    "\\begin{split}\\alpha =\n",
    " \\begin{cases}\n",
    "     \\frac{2}{s + 1},               & \\text{for span}\\ s \\geq 1\\\\\n",
    "     \\frac{1}{1 + c},               & \\text{for center of mass}\\ c \\geq 0\\\\\n",
    "     1 - \\exp^{\\frac{\\log 0.5}{h}}, & \\text{for half-life}\\ h > 0\n",
    " \\end{cases}\\end{split}\n",
    "\\end{equation}<br/>\n",
    "$$\n",
    "One must specify precisely one of **span**, **center of mass**, **half-life** and **alpha** to the EW functions:\n",
    "\n",
    "- **Span** corresponds to what is commonly called an “N-day EW moving average”.\n",
    "- **Center of mass** has a more physical interpretation and can be thought of in terms of span: $ c = (s - 1) / 2 $.\n",
    "- **Half-life** is the period of time for the exponential weight to reduce to one half.\n",
    "- **Alpha** specifies the smoothing factor directly."
   ]
  },
  {
   "cell_type": "code",
   "execution_count": 54,
   "metadata": {
    "pycharm": {
     "metadata": false,
     "name": "#%%\n"
    }
   },
   "outputs": [],
   "source": [
    "import  pandas as pd\n",
    "import  matplotlib.pyplot as plt"
   ]
  },
  {
   "cell_type": "code",
   "execution_count": 55,
   "metadata": {},
   "outputs": [],
   "source": [
    "close_px_all = pd.read_csv('stock_px_2.csv',\n",
    "                           parse_dates=True, index_col=0)"
   ]
  },
  {
   "cell_type": "code",
   "execution_count": 56,
   "metadata": {},
   "outputs": [],
   "source": [
    "close_px = close_px_all[['AAPL', 'MSFT', 'XOM']]"
   ]
  },
  {
   "cell_type": "code",
   "execution_count": 57,
   "metadata": {},
   "outputs": [
    {
     "data": {
      "text/plain": [
       "2006-01-03    74.75\n",
       "2006-01-04    74.97\n",
       "2006-01-05    74.38\n",
       "2006-01-06    76.30\n",
       "2006-01-09    76.05\n",
       "Name: AAPL, dtype: float64"
      ]
     },
     "execution_count": 57,
     "metadata": {},
     "output_type": "execute_result"
    }
   ],
   "source": [
    "aapl_px = close_px.AAPL['2006':'2007']\n",
    "aapl_px.head()"
   ]
  },
  {
   "cell_type": "code",
   "execution_count": 58,
   "metadata": {},
   "outputs": [
    {
     "data": {
      "text/html": [
       "<div>\n",
       "<style scoped>\n",
       "    .dataframe tbody tr th:only-of-type {\n",
       "        vertical-align: middle;\n",
       "    }\n",
       "\n",
       "    .dataframe tbody tr th {\n",
       "        vertical-align: top;\n",
       "    }\n",
       "\n",
       "    .dataframe thead th {\n",
       "        text-align: right;\n",
       "    }\n",
       "</style>\n",
       "<table border=\"1\" class=\"dataframe\">\n",
       "  <thead>\n",
       "    <tr style=\"text-align: right;\">\n",
       "      <th></th>\n",
       "      <th>1</th>\n",
       "      <th>2</th>\n",
       "    </tr>\n",
       "  </thead>\n",
       "  <tbody>\n",
       "    <tr>\n",
       "      <th>2006-01-03</th>\n",
       "      <td>NaN</td>\n",
       "      <td>74.750000</td>\n",
       "    </tr>\n",
       "    <tr>\n",
       "      <th>2006-01-04</th>\n",
       "      <td>NaN</td>\n",
       "      <td>74.863667</td>\n",
       "    </tr>\n",
       "    <tr>\n",
       "      <th>2006-01-05</th>\n",
       "      <td>NaN</td>\n",
       "      <td>74.691581</td>\n",
       "    </tr>\n",
       "    <tr>\n",
       "      <th>2006-01-06</th>\n",
       "      <td>NaN</td>\n",
       "      <td>75.134759</td>\n",
       "    </tr>\n",
       "    <tr>\n",
       "      <th>2006-01-09</th>\n",
       "      <td>NaN</td>\n",
       "      <td>75.342998</td>\n",
       "    </tr>\n",
       "    <tr>\n",
       "      <th>...</th>\n",
       "      <td>...</td>\n",
       "      <td>...</td>\n",
       "    </tr>\n",
       "    <tr>\n",
       "      <th>2007-12-24</th>\n",
       "      <td>180.069000</td>\n",
       "      <td>183.475732</td>\n",
       "    </tr>\n",
       "    <tr>\n",
       "      <th>2007-12-26</th>\n",
       "      <td>181.575333</td>\n",
       "      <td>184.474072</td>\n",
       "    </tr>\n",
       "    <tr>\n",
       "      <th>2007-12-27</th>\n",
       "      <td>182.529000</td>\n",
       "      <td>185.383487</td>\n",
       "    </tr>\n",
       "    <tr>\n",
       "      <th>2007-12-28</th>\n",
       "      <td>183.653000</td>\n",
       "      <td>186.315520</td>\n",
       "    </tr>\n",
       "    <tr>\n",
       "      <th>2007-12-31</th>\n",
       "      <td>184.779000</td>\n",
       "      <td>187.074518</td>\n",
       "    </tr>\n",
       "  </tbody>\n",
       "</table>\n",
       "<p>502 rows × 2 columns</p>\n",
       "</div>"
      ],
      "text/plain": [
       "                     1           2\n",
       "2006-01-03         NaN   74.750000\n",
       "2006-01-04         NaN   74.863667\n",
       "2006-01-05         NaN   74.691581\n",
       "2006-01-06         NaN   75.134759\n",
       "2006-01-09         NaN   75.342998\n",
       "...                ...         ...\n",
       "2007-12-24  180.069000  183.475732\n",
       "2007-12-26  181.575333  184.474072\n",
       "2007-12-27  182.529000  185.383487\n",
       "2007-12-28  183.653000  186.315520\n",
       "2007-12-31  184.779000  187.074518\n",
       "\n",
       "[502 rows x 2 columns]"
      ]
     },
     "execution_count": 58,
     "metadata": {},
     "output_type": "execute_result"
    }
   ],
   "source": [
    "ma30 = aapl_px.rolling(30, min_periods=20).mean() # 一次移动平均\n",
    "ewma30 = aapl_px.ewm(span=30).mean() # 指数平均平滑法(取第一期的实际值为初值)\n",
    "'''\n",
    "com : float, optional\n",
    "    Specify decay in terms of center of mass, α=1/(1+com), for com≥0.\n",
    "\n",
    "span : float, optional\n",
    "    Specify decay in terms of span, α=2/(span+1), for span≥1.\n",
    "\n",
    "halflife : float, optional\n",
    "    Specify decay in terms of half-life, α=1−exp(log(0.5)/halflife),for halflife>0.\n",
    "\n",
    "alpha : float, optional\n",
    "    Specify smoothing factor α directly, 0<α≤1.\n",
    "'''\n",
    "df_empty = pd.DataFrame({1:ma30, 2:ewma30})\n",
    "df_empty"
   ]
  },
  {
   "cell_type": "code",
   "execution_count": 59,
   "metadata": {},
   "outputs": [
    {
     "data": {
      "text/plain": [
       "<matplotlib.legend.Legend at 0x174de65db08>"
      ]
     },
     "execution_count": 59,
     "metadata": {},
     "output_type": "execute_result"
    },
    {
     "data": {
      "image/png": "[encoded data removed]",
      "text/plain": [
       "<Figure size 432x288 with 1 Axes>"
      ]
     },
     "metadata": {
      "needs_background": "light"
     },
     "output_type": "display_data"
    }
   ],
   "source": [
    "ewma30.plot(style='k-', label='EW MA')\n",
    "ma30.plot(style='k--', label='Simple MA')\n",
    "plt.legend()"
   ]
  },
  {
   "cell_type": "code",
   "execution_count": 59,
   "metadata": {
    "pycharm": {
     "metadata": false,
     "name": "#%%\n"
    }
   },
   "outputs": [],
   "source": [
    "\n"
   ]
  }
 ],
 "metadata": {
  "kernelspec": {
   "display_name": "Python 3",
   "language": "python",
   "name": "python3"
  },
  "language_info": {
   "codemirror_mode": {
    "name": "ipython",
    "version": 2
   },
   "file_extension": ".py",
   "mimetype": "text/x-python",
   "name": "python",
   "nbconvert_exporter": "python",
   "pygments_lexer": "ipython2",
   "version": "2.7.6"
  }
 },
 "nbformat": 4,
 "nbformat_minor": 0
}
