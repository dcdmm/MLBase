{
 "cells": [
  {
   "cell_type": "code",
   "execution_count": 70,
   "outputs": [],
   "source": [
    "import torch\n",
    "# 完全类似numpy 布尔索引"
   ],
   "metadata": {
    "collapsed": false,
    "pycharm": {
     "name": "#%%\n"
    }
   }
  },
  {
   "cell_type": "code",
   "execution_count": 71,
   "outputs": [
    {
     "name": "stdout",
     "output_type": "stream",
     "text": [
      "tensor([1, 2, 3, 1, 3, 2, 2])\n",
      "tensor([[ 0.1256, -0.1921,  0.8151, -1.3113],\n",
      "        [-0.9798,  0.1418, -0.0190, -0.6650],\n",
      "        [-0.7337,  0.6366, -0.9672, -0.1068],\n",
      "        [ 1.4221, -1.5907, -1.1329, -1.8081],\n",
      "        [-0.8528, -0.0483, -0.4625, -0.9620],\n",
      "        [ 0.0844,  2.3838, -0.8679,  0.1443],\n",
      "        [ 1.5581,  0.6215,  0.9683, -0.7454]])\n"
     ]
    }
   ],
   "source": [
    "target = torch.tensor([1, 2, 3, 1, 3, 2, 2])\n",
    "data = torch.randn(7, 4)\n",
    "print(target)\n",
    "print(data)"
   ],
   "metadata": {
    "collapsed": false,
    "pycharm": {
     "name": "#%%\n"
    }
   }
  },
  {
   "cell_type": "code",
   "execution_count": 72,
   "outputs": [
    {
     "name": "stdout",
     "output_type": "stream",
     "text": [
      "torch.bool\n",
      "tensor([ True, False, False,  True, False, False, False])\n"
     ]
    }
   ],
   "source": [
    "check = target == 1\n",
    "print(check.dtype)\n",
    "print(check)"
   ],
   "metadata": {
    "collapsed": false,
    "pycharm": {
     "name": "#%%\n"
    }
   }
  },
  {
   "cell_type": "code",
   "execution_count": 73,
   "outputs": [
    {
     "data": {
      "text/plain": "tensor([[ 0.1256, -0.1921,  0.8151, -1.3113],\n        [ 1.4221, -1.5907, -1.1329, -1.8081]])"
     },
     "execution_count": 73,
     "metadata": {},
     "output_type": "execute_result"
    }
   ],
   "source": [
    "data[check] # 第零个维度布尔切片"
   ],
   "metadata": {
    "collapsed": false,
    "pycharm": {
     "name": "#%%\n"
    }
   }
  },
  {
   "cell_type": "code",
   "execution_count": 74,
   "outputs": [
    {
     "data": {
      "text/plain": "tensor([[ 0.1256, -1.3113],\n        [-0.9798, -0.6650],\n        [-0.7337, -0.1068],\n        [ 1.4221, -1.8081],\n        [-0.8528, -0.9620],\n        [ 0.0844,  0.1443],\n        [ 1.5581, -0.7454]])"
     },
     "execution_count": 74,
     "metadata": {},
     "output_type": "execute_result"
    }
   ],
   "source": [
    "data[:, check[:4]] # 第一个维度上的布尔索引"
   ],
   "metadata": {
    "collapsed": false,
    "pycharm": {
     "name": "#%%\n"
    }
   }
  },
  {
   "cell_type": "code",
   "execution_count": 75,
   "outputs": [
    {
     "name": "stdout",
     "output_type": "stream",
     "text": [
      "tensor([[ 0.8151, -1.3113],\n",
      "        [-1.1329, -1.8081]])\n",
      "tensor([[ 0.8151, -1.3113],\n",
      "        [-1.1329, -1.8081]])\n"
     ]
    }
   ],
   "source": [
    "print(data[target == 1, 2:])\n",
    "print(data[target == 1, 2:])"
   ],
   "metadata": {
    "collapsed": false,
    "pycharm": {
     "name": "#%%\n"
    }
   }
  },
  {
   "cell_type": "code",
   "execution_count": 76,
   "outputs": [
    {
     "name": "stdout",
     "output_type": "stream",
     "text": [
      "tensor([False,  True,  True, False,  True,  True,  True])\n",
      "tensor([ True, False, False,  True, False, False, False])\n",
      "tensor([[ 0.1256, -0.1921,  0.8151, -1.3113],\n",
      "        [ 1.4221, -1.5907, -1.1329, -1.8081]])\n"
     ]
    }
   ],
   "source": [
    "print(target != 1)\n",
    "print(~(target != 1)) # ~:取反\n",
    "print(data[~(target != 1)])"
   ],
   "metadata": {
    "collapsed": false,
    "pycharm": {
     "name": "#%%\n"
    }
   }
  },
  {
   "cell_type": "code",
   "execution_count": 77,
   "outputs": [
    {
     "name": "stdout",
     "output_type": "stream",
     "text": [
      "tensor([ True, False,  True,  True,  True, False, False])\n",
      "tensor([[ 0.1256, -0.1921,  0.8151, -1.3113],\n",
      "        [-0.7337,  0.6366, -0.9672, -0.1068],\n",
      "        [ 1.4221, -1.5907, -1.1329, -1.8081],\n",
      "        [-0.8528, -0.0483, -0.4625, -0.9620]])\n"
     ]
    }
   ],
   "source": [
    "mask = (target == 1) | (target == 3) # |:并集,不能使用关键字or\n",
    "print(mask)\n",
    "print(data[mask])"
   ],
   "metadata": {
    "collapsed": false,
    "pycharm": {
     "name": "#%%\n"
    }
   }
  },
  {
   "cell_type": "code",
   "execution_count": 78,
   "outputs": [
    {
     "name": "stdout",
     "output_type": "stream",
     "text": [
      "tensor([False, False, False, False, False, False, False])\n",
      "tensor([], size=(0, 4))\n"
     ]
    }
   ],
   "source": [
    "mask1 = (target == 1) & (target == 3) # &:交集,不能使用关键字and\n",
    "print(mask1)\n",
    "print(data[mask1])"
   ],
   "metadata": {
    "collapsed": false,
    "pycharm": {
     "name": "#%%\n"
    }
   }
  },
  {
   "cell_type": "code",
   "execution_count": 79,
   "outputs": [
    {
     "data": {
      "text/plain": "tensor([[False,  True, False,  True],\n        [ True, False,  True,  True],\n        [ True, False,  True,  True],\n        [False,  True,  True,  True],\n        [ True,  True,  True,  True],\n        [False, False,  True, False],\n        [False, False, False,  True]])"
     },
     "execution_count": 79,
     "metadata": {},
     "output_type": "execute_result"
    }
   ],
   "source": [
    "s = data < 0\n",
    "s"
   ],
   "metadata": {
    "collapsed": false,
    "pycharm": {
     "name": "#%%\n"
    }
   }
  },
  {
   "cell_type": "code",
   "execution_count": 80,
   "outputs": [
    {
     "data": {
      "text/plain": "tensor([-0.1921, -1.3113, -0.9798, -0.0190, -0.6650, -0.7337, -0.9672, -0.1068,\n        -1.5907, -1.1329, -1.8081, -0.8528, -0.0483, -0.4625, -0.9620, -0.8679,\n        -0.7454])"
     },
     "execution_count": 80,
     "metadata": {},
     "output_type": "execute_result"
    }
   ],
   "source": [
    "data[s]"
   ],
   "metadata": {
    "collapsed": false,
    "pycharm": {
     "name": "#%%\n"
    }
   }
  },
  {
   "cell_type": "code",
   "execution_count": 81,
   "outputs": [
    {
     "data": {
      "text/plain": "tensor([[1.2560e-01, 9.9990e+03, 8.1514e-01, 9.9990e+03],\n        [9.9990e+03, 1.4181e-01, 9.9990e+03, 9.9990e+03],\n        [9.9990e+03, 6.3664e-01, 9.9990e+03, 9.9990e+03],\n        [1.4221e+00, 9.9990e+03, 9.9990e+03, 9.9990e+03],\n        [9.9990e+03, 9.9990e+03, 9.9990e+03, 9.9990e+03],\n        [8.4404e-02, 2.3838e+00, 9.9990e+03, 1.4429e-01],\n        [1.5581e+00, 6.2149e-01, 9.6832e-01, 9.9990e+03]])"
     },
     "execution_count": 81,
     "metadata": {},
     "output_type": "execute_result"
    }
   ],
   "source": [
    "data[s] = 9999  # 逐个元素的布尔索引\n",
    "data # data发生改变"
   ],
   "metadata": {
    "collapsed": false,
    "pycharm": {
     "name": "#%%\n"
    }
   }
  },
  {
   "cell_type": "code",
   "execution_count": 82,
   "outputs": [
    {
     "data": {
      "text/plain": "tensor([[7.0000e+00, 7.0000e+00, 7.0000e+00, 7.0000e+00],\n        [9.9990e+03, 1.4181e-01, 9.9990e+03, 9.9990e+03],\n        [7.0000e+00, 7.0000e+00, 7.0000e+00, 7.0000e+00],\n        [7.0000e+00, 7.0000e+00, 7.0000e+00, 7.0000e+00],\n        [7.0000e+00, 7.0000e+00, 7.0000e+00, 7.0000e+00],\n        [8.4404e-02, 2.3838e+00, 9.9990e+03, 1.4429e-01],\n        [1.5581e+00, 6.2149e-01, 9.6832e-01, 9.9990e+03]])"
     },
     "execution_count": 82,
     "metadata": {},
     "output_type": "execute_result"
    }
   ],
   "source": [
    "data[target != 2] = 7 # ★★★★★和整数索引类似,只能通过对原tensor[索引/切片]直接进行赋值从而修改原tensor\n",
    "data # data发生改变"
   ],
   "metadata": {
    "collapsed": false,
    "pycharm": {
     "name": "#%%\n"
    }
   }
  },
  {
   "cell_type": "code",
   "execution_count": 82,
   "outputs": [],
   "source": [
    "\n"
   ],
   "metadata": {
    "collapsed": false,
    "pycharm": {
     "name": "#%%\n"
    }
   }
  }
 ],
 "metadata": {
  "kernelspec": {
   "display_name": "Python 3",
   "language": "python",
   "name": "python3"
  },
  "language_info": {
   "codemirror_mode": {
    "name": "ipython",
    "version": 2
   },
   "file_extension": ".py",
   "mimetype": "text/x-python",
   "name": "python",
   "nbconvert_exporter": "python",
   "pygments_lexer": "ipython2",
   "version": "2.7.6"
  }
 },
 "nbformat": 4,
 "nbformat_minor": 0
}