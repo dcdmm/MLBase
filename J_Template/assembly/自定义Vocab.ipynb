{
 "cells": [
  {
   "cell_type": "code",
   "execution_count": 38,
   "metadata": {
    "collapsed": true
   },
   "outputs": [],
   "source": [
    "import collections\n",
    "import spacy\n",
    "\n",
    "\n",
    "class Vocab:\n",
    "    \"\"\"\n",
    "    Vocabulary for text(参考`torchtext.vocab`)\n",
    "    \"\"\"\n",
    "\n",
    "    def __init__(self, tokens=None, min_freq=2, reserved_tokens=None):\n",
    "        # min_freq: The minimum frequency needed to include a token in the vocabulary.\n",
    "        # reserved_tokens: 自定义tokens\n",
    "        if tokens is None:\n",
    "            tokens = []\n",
    "        if reserved_tokens is None:\n",
    "            reserved_tokens = []\n",
    "        counter = collections.Counter(tokens)\n",
    "        # Sort according to frequencies\n",
    "        self._token_freqs = sorted(counter.items(), key=lambda x: x[1], reverse=True)\n",
    "        # The index for the unknown token is 0\n",
    "        self.idx_to_token = ['<unk>'] + reserved_tokens\n",
    "        self.token_to_idx = {token: idx for idx, token in enumerate(self.idx_to_token)}\n",
    "        for token, freq in self._token_freqs:\n",
    "            if freq < min_freq:\n",
    "                break\n",
    "            if token not in self.token_to_idx:\n",
    "                self.idx_to_token.append(token)\n",
    "                self.token_to_idx[token] = len(self.idx_to_token) - 1\n",
    "\n",
    "    def __len__(self):\n",
    "        return len(self.idx_to_token)\n",
    "\n",
    "    def __getitem__(self, tokens):\n",
    "        if not isinstance(tokens, (list, tuple)):\n",
    "            return self.token_to_idx.get(tokens, self.unk)\n",
    "        return [self.__getitem__(token) for token in tokens]\n",
    "\n",
    "    def to_tokens(self, indices):\n",
    "        \"\"\"第indices位置处的token\"\"\"\n",
    "        if not isinstance(indices, (list, tuple)):\n",
    "            return self.idx_to_token[indices]\n",
    "        return [self.idx_to_token[index] for index in indices]\n",
    "\n",
    "    @property\n",
    "    def unk(self):\n",
    "        \"\"\"Index for the unknown token\"\"\"\n",
    "        return 0\n",
    "\n",
    "    @property\n",
    "    def token_freqs(self):\n",
    "        return self._token_freqs"
   ]
  },
  {
   "cell_type": "code",
   "execution_count": 39,
   "outputs": [
    {
     "data": {
      "text/plain": "['ust',\n 'as',\n 'you',\n 'need',\n 'air',\n 'to',\n 'breathe',\n ',',\n 'you',\n 'need',\n 'opportunity',\n 'to',\n 'succeed',\n '.',\n 'It',\n 'takes',\n 'more',\n 'than',\n 'just',\n 'breathing',\n 'in',\n 'the',\n 'fresh',\n 'air',\n 'of',\n 'opportunity',\n ',',\n 'however',\n '.',\n 'You',\n 'must',\n 'make',\n 'use',\n 'of',\n 'that',\n 'opportunity',\n '.',\n 'That',\n \"'s\",\n 'not',\n 'up',\n 'to',\n 'the',\n 'opportunity',\n '.',\n 'That',\n \"'s\",\n 'up',\n 'to',\n 'you',\n '.',\n 'It',\n 'does',\n \"n't\",\n 'matter',\n 'what',\n '\"',\n 'floor',\n '\"',\n 'the',\n 'opportunity',\n 'is',\n 'on',\n '.',\n 'What',\n 'matters',\n 'is',\n 'what',\n 'you',\n 'do',\n 'with',\n 'it',\n '.']"
     },
     "execution_count": 39,
     "metadata": {},
     "output_type": "execute_result"
    }
   ],
   "source": [
    "txt = \"ust as you need air to breathe , you need opportunity to succeed . It takes more than just breathing in the fresh air of opportunity , however . You must make use of that opportunity . That's not up to the opportunity . That's up to you . It doesn't matter what \\\" floor \\\" the opportunity is on . What matters is what you do with it .\"\n",
    "\n",
    "nlp_en = spacy.load('en_core_web_sm')\n",
    "split_lst = [tok.text for tok in nlp_en(txt)]\n",
    "split_lst"
   ],
   "metadata": {
    "collapsed": false,
    "pycharm": {
     "name": "#%%\n"
    }
   }
  },
  {
   "cell_type": "code",
   "execution_count": 40,
   "outputs": [
    {
     "data": {
      "text/plain": "48"
     },
     "execution_count": 40,
     "metadata": {},
     "output_type": "execute_result"
    }
   ],
   "source": [
    "# '<unk>':未知词元\n",
    "# '<pad>':填充词元\n",
    "# '<sos>':开始词元\n",
    "# '<eos>':结束词元\n",
    "src_vocab = Vocab(split_lst, min_freq=0, reserved_tokens=['<pad>', '<sos>', '<eos>'])\n",
    "len(src_vocab)"
   ],
   "metadata": {
    "collapsed": false,
    "pycharm": {
     "name": "#%%\n"
    }
   }
  },
  {
   "cell_type": "code",
   "execution_count": 41,
   "outputs": [
    {
     "data": {
      "text/plain": "[('.', 7),\n ('opportunity', 5),\n ('you', 4),\n ('to', 4),\n ('the', 3),\n ('need', 2),\n ('air', 2),\n (',', 2),\n ('It', 2),\n ('of', 2),\n ('That', 2),\n (\"'s\", 2),\n ('up', 2),\n ('what', 2),\n ('\"', 2),\n ('is', 2),\n ('ust', 1),\n ('as', 1),\n ('breathe', 1),\n ('succeed', 1),\n ('takes', 1),\n ('more', 1),\n ('than', 1),\n ('just', 1),\n ('breathing', 1),\n ('in', 1),\n ('fresh', 1),\n ('however', 1),\n ('You', 1),\n ('must', 1),\n ('make', 1),\n ('use', 1),\n ('that', 1),\n ('not', 1),\n ('does', 1),\n (\"n't\", 1),\n ('matter', 1),\n ('floor', 1),\n ('on', 1),\n ('What', 1),\n ('matters', 1),\n ('do', 1),\n ('with', 1),\n ('it', 1)]"
     },
     "execution_count": 41,
     "metadata": {},
     "output_type": "execute_result"
    }
   ],
   "source": [
    "src_vocab.token_freqs"
   ],
   "metadata": {
    "collapsed": false,
    "pycharm": {
     "name": "#%%\n"
    }
   }
  },
  {
   "cell_type": "code",
   "execution_count": 42,
   "outputs": [
    {
     "data": {
      "text/plain": "{'<unk>': 0,\n '<pad>': 1,\n '<sos>': 2,\n '<eos>': 3,\n '.': 4,\n 'opportunity': 5,\n 'you': 6,\n 'to': 7,\n 'the': 8,\n 'need': 9,\n 'air': 10,\n ',': 11,\n 'It': 12,\n 'of': 13,\n 'That': 14,\n \"'s\": 15,\n 'up': 16,\n 'what': 17,\n '\"': 18,\n 'is': 19,\n 'ust': 20,\n 'as': 21,\n 'breathe': 22,\n 'succeed': 23,\n 'takes': 24,\n 'more': 25,\n 'than': 26,\n 'just': 27,\n 'breathing': 28,\n 'in': 29,\n 'fresh': 30,\n 'however': 31,\n 'You': 32,\n 'must': 33,\n 'make': 34,\n 'use': 35,\n 'that': 36,\n 'not': 37,\n 'does': 38,\n \"n't\": 39,\n 'matter': 40,\n 'floor': 41,\n 'on': 42,\n 'What': 43,\n 'matters': 44,\n 'do': 45,\n 'with': 46,\n 'it': 47}"
     },
     "execution_count": 42,
     "metadata": {},
     "output_type": "execute_result"
    }
   ],
   "source": [
    "src_vocab.token_to_idx"
   ],
   "metadata": {
    "collapsed": false,
    "pycharm": {
     "name": "#%%\n"
    }
   }
  },
  {
   "cell_type": "code",
   "execution_count": 43,
   "outputs": [
    {
     "data": {
      "text/plain": "'opportunity'"
     },
     "execution_count": 43,
     "metadata": {},
     "output_type": "execute_result"
    }
   ],
   "source": [
    "# idx to token\n",
    "src_vocab.to_tokens(5)"
   ],
   "metadata": {
    "collapsed": false,
    "pycharm": {
     "name": "#%%\n"
    }
   }
  },
  {
   "cell_type": "code",
   "execution_count": 44,
   "outputs": [
    {
     "data": {
      "text/plain": "1"
     },
     "execution_count": 44,
     "metadata": {},
     "output_type": "execute_result"
    }
   ],
   "source": [
    "# token to idx\n",
    "src_vocab['<pad>']"
   ],
   "metadata": {
    "collapsed": false,
    "pycharm": {
     "name": "#%%\n"
    }
   }
  },
  {
   "cell_type": "code",
   "execution_count": 45,
   "outputs": [
    {
     "data": {
      "text/plain": "46"
     },
     "execution_count": 45,
     "metadata": {},
     "output_type": "execute_result"
    }
   ],
   "source": [
    "src_vocab['with']"
   ],
   "metadata": {
    "collapsed": false,
    "pycharm": {
     "name": "#%%\n"
    }
   }
  },
  {
   "cell_type": "code",
   "execution_count": 45,
   "outputs": [],
   "source": [],
   "metadata": {
    "collapsed": false,
    "pycharm": {
     "name": "#%%\n"
    }
   }
  }
 ],
 "metadata": {
  "kernelspec": {
   "name": "conda-env-spacy_test-py",
   "language": "python",
   "display_name": "Python [conda env:spacy_test] *"
  },
  "language_info": {
   "codemirror_mode": {
    "name": "ipython",
    "version": 2
   },
   "file_extension": ".py",
   "mimetype": "text/x-python",
   "name": "python",
   "nbconvert_exporter": "python",
   "pygments_lexer": "ipython2",
   "version": "2.7.6"
  }
 },
 "nbformat": 4,
 "nbformat_minor": 0
}