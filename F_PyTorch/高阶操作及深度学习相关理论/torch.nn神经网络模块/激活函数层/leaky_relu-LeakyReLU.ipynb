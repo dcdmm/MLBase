{
 "cells": [
  {
   "cell_type": "markdown",
   "metadata": {
    "collapsed": true,
    "pycharm": {
     "name": "#%% md\n"
    }
   },
   "source": [
    "$$ \\mathrm{LeakyReLU} (x)=\\max (0, x) + \\mathrm{negative_slope} * \\min (0, x) $$"
   ]
  },
  {
   "cell_type": "code",
   "execution_count": 5,
   "metadata": {
    "pycharm": {
     "name": "#%%\n"
    }
   },
   "outputs": [],
   "source": [
    "import torch\n",
    "import torch.nn.functional as F\n",
    "import matplotlib.pyplot as plt\n",
    "import torch.nn as nn"
   ]
  },
  {
   "cell_type": "code",
   "execution_count": 6,
   "metadata": {
    "pycharm": {
     "name": "#%%\n"
    }
   },
   "outputs": [
    {
     "data": {
      "text/plain": [
       "<matplotlib.legend.Legend at 0x1a2c3e55a88>"
      ]
     },
     "execution_count": 6,
     "metadata": {},
     "output_type": "execute_result"
    },
    {
     "data": {
      "image/png": "[encoded data removed]",
      "text/plain": [
       "<Figure size 432x288 with 1 Axes>"
      ]
     },
     "metadata": {
      "needs_background": "light"
     },
     "output_type": "display_data"
    }
   ],
   "source": [
    "x = torch.linspace(-5, 5, 200)\n",
    "leaky_relu_f = F.leaky_relu(x) # 小于0部分非常平缓\n",
    "relu_f = F.relu(x)\n",
    "\n",
    "plt.plot(x, leaky_relu_f, color='r', label='leaky_relu')\n",
    "plt.plot(x, relu_f, color='b', label='relu')\n",
    "plt.ylim(-0.1, 1.5)\n",
    "plt.xlim(-5, 2.5)\n",
    "plt.legend()"
   ]
  },
  {
   "cell_type": "code",
   "execution_count": 7,
   "metadata": {
    "pycharm": {
     "name": "#%%\n"
    }
   },
   "outputs": [
    {
     "data": {
      "text/plain": [
       "tensor([-5.0000e-02, -4.9497e-02, -4.8995e-02, -4.8492e-02, -4.7990e-02,\n",
       "        -4.7487e-02, -4.6985e-02, -4.6482e-02, -4.5980e-02, -4.5477e-02,\n",
       "        -4.4975e-02, -4.4472e-02, -4.3970e-02, -4.3467e-02, -4.2965e-02,\n",
       "        -4.2462e-02, -4.1960e-02, -4.1457e-02, -4.0955e-02, -4.0452e-02,\n",
       "        -3.9950e-02, -3.9447e-02, -3.8945e-02, -3.8442e-02, -3.7940e-02,\n",
       "        -3.7437e-02, -3.6935e-02, -3.6432e-02, -3.5930e-02, -3.5427e-02,\n",
       "        -3.4925e-02, -3.4422e-02, -3.3920e-02, -3.3417e-02, -3.2915e-02,\n",
       "        -3.2412e-02, -3.1910e-02, -3.1407e-02, -3.0905e-02, -3.0402e-02,\n",
       "        -2.9899e-02, -2.9397e-02, -2.8894e-02, -2.8392e-02, -2.7889e-02,\n",
       "        -2.7387e-02, -2.6884e-02, -2.6382e-02, -2.5879e-02, -2.5377e-02,\n",
       "        -2.4874e-02, -2.4372e-02, -2.3869e-02, -2.3367e-02, -2.2864e-02,\n",
       "        -2.2362e-02, -2.1859e-02, -2.1357e-02, -2.0854e-02, -2.0352e-02,\n",
       "        -1.9849e-02, -1.9347e-02, -1.8844e-02, -1.8342e-02, -1.7839e-02,\n",
       "        -1.7337e-02, -1.6834e-02, -1.6332e-02, -1.5829e-02, -1.5327e-02,\n",
       "        -1.4824e-02, -1.4322e-02, -1.3819e-02, -1.3317e-02, -1.2814e-02,\n",
       "        -1.2312e-02, -1.1809e-02, -1.1307e-02, -1.0804e-02, -1.0302e-02,\n",
       "        -9.7990e-03, -9.2965e-03, -8.7940e-03, -8.2915e-03, -7.7889e-03,\n",
       "        -7.2864e-03, -6.7839e-03, -6.2814e-03, -5.7789e-03, -5.2764e-03,\n",
       "        -4.7739e-03, -4.2714e-03, -3.7688e-03, -3.2663e-03, -2.7638e-03,\n",
       "        -2.2613e-03, -1.7588e-03, -1.2563e-03, -7.5377e-04, -2.5126e-04,\n",
       "         2.5126e-02,  7.5377e-02,  1.2563e-01,  1.7588e-01,  2.2613e-01,\n",
       "         2.7638e-01,  3.2663e-01,  3.7688e-01,  4.2714e-01,  4.7739e-01,\n",
       "         5.2764e-01,  5.7789e-01,  6.2814e-01,  6.7839e-01,  7.2864e-01,\n",
       "         7.7889e-01,  8.2915e-01,  8.7940e-01,  9.2965e-01,  9.7990e-01,\n",
       "         1.0302e+00,  1.0804e+00,  1.1307e+00,  1.1809e+00,  1.2312e+00,\n",
       "         1.2814e+00,  1.3317e+00,  1.3819e+00,  1.4322e+00,  1.4824e+00,\n",
       "         1.5327e+00,  1.5829e+00,  1.6332e+00,  1.6834e+00,  1.7337e+00,\n",
       "         1.7839e+00,  1.8342e+00,  1.8844e+00,  1.9347e+00,  1.9849e+00,\n",
       "         2.0352e+00,  2.0854e+00,  2.1357e+00,  2.1859e+00,  2.2362e+00,\n",
       "         2.2864e+00,  2.3367e+00,  2.3869e+00,  2.4372e+00,  2.4874e+00,\n",
       "         2.5377e+00,  2.5879e+00,  2.6382e+00,  2.6884e+00,  2.7387e+00,\n",
       "         2.7889e+00,  2.8392e+00,  2.8894e+00,  2.9397e+00,  2.9899e+00,\n",
       "         3.0402e+00,  3.0905e+00,  3.1407e+00,  3.1910e+00,  3.2412e+00,\n",
       "         3.2915e+00,  3.3417e+00,  3.3920e+00,  3.4422e+00,  3.4925e+00,\n",
       "         3.5427e+00,  3.5930e+00,  3.6432e+00,  3.6935e+00,  3.7437e+00,\n",
       "         3.7940e+00,  3.8442e+00,  3.8945e+00,  3.9447e+00,  3.9950e+00,\n",
       "         4.0452e+00,  4.0955e+00,  4.1457e+00,  4.1960e+00,  4.2462e+00,\n",
       "         4.2965e+00,  4.3467e+00,  4.3970e+00,  4.4472e+00,  4.4975e+00,\n",
       "         4.5477e+00,  4.5980e+00,  4.6482e+00,  4.6985e+00,  4.7487e+00,\n",
       "         4.7990e+00,  4.8492e+00,  4.8995e+00,  4.9497e+00,  5.0000e+00])"
      ]
     },
     "execution_count": 7,
     "metadata": {},
     "output_type": "execute_result"
    }
   ],
   "source": [
    "leaky_relu_c = nn.LeakyReLU()\n",
    "leaky_relu_c(x)"
   ]
  },
  {
   "cell_type": "code",
   "execution_count": 7,
   "metadata": {
    "pycharm": {
     "name": "#%%\n"
    }
   },
   "outputs": [],
   "source": [
    "\n"
   ]
  }
 ],
 "metadata": {
  "kernelspec": {
   "display_name": "Python 3",
   "language": "python",
   "name": "python3"
  },
  "language_info": {
   "codemirror_mode": {
    "name": "ipython",
    "version": 3
   },
   "file_extension": ".py",
   "mimetype": "text/x-python",
   "name": "python",
   "nbconvert_exporter": "python",
   "pygments_lexer": "ipython3",
   "version": "3.7.7"
  },
  "toc": {
   "base_numbering": 1,
   "nav_menu": {},
   "number_sections": true,
   "sideBar": true,
   "skip_h1_title": false,
   "title_cell": "Table of Contents",
   "title_sidebar": "Contents",
   "toc_cell": false,
   "toc_position": {},
   "toc_section_display": true,
   "toc_window_display": false
  }
 },
 "nbformat": 4,
 "nbformat_minor": 1
}
