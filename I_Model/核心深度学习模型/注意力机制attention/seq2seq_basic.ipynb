{
 "cells": [
  {
   "cell_type": "code",
   "execution_count": 1,
   "outputs": [],
   "source": [
    "import collections\n",
    "import torch\n",
    "import torch.utils.data as Data\n",
    "import torch.nn as nn\n",
    "from nltk.translate.bleu_score import sentence_bleu, SmoothingFunction"
   ],
   "metadata": {
    "collapsed": false,
    "pycharm": {
     "name": "#%%\n"
    }
   }
  },
  {
   "cell_type": "markdown",
   "source": [
    "### 数据处理"
   ],
   "metadata": {
    "collapsed": false,
    "pycharm": {
     "name": "#%% md\n"
    }
   }
  },
  {
   "cell_type": "code",
   "execution_count": 2,
   "outputs": [
    {
     "name": "stdout",
     "output_type": "stream",
     "text": [
      "Go.\tVa !\n",
      "Hi.\tSalut !\n",
      "Run!\tCours !\n",
      "Run!\tCourez !\n",
      "Who?\tQui ?\n",
      "Wow!\tÇa alors !\n",
      "\n"
     ]
    }
   ],
   "source": [
    "with open('fra.txt', 'r', encoding='utf-8') as f:\n",
    "    raw_text = f.read()\n",
    "\n",
    "# 左边为英文句子,右边为对应的法文句子\n",
    "print(raw_text[:75])"
   ],
   "metadata": {
    "collapsed": false,
    "pycharm": {
     "name": "#%%\n"
    }
   }
  },
  {
   "cell_type": "code",
   "execution_count": 3,
   "outputs": [
    {
     "name": "stdout",
     "output_type": "stream",
     "text": [
      "go .\tva !\n",
      "hi .\tsalut !\n",
      "run !\tcours !\n",
      "run !\tcourez !\n",
      "who ?\tqui ?\n",
      "wow !\tça alors !\n"
     ]
    }
   ],
   "source": [
    "def preprocess_nmt(text):\n",
    "    \"\"\"预处理\"英语<--->法语\"数据集\"\"\"\n",
    "\n",
    "    def no_space(char, prev_char):\n",
    "        return char in set(',.!?') and prev_char != ' '\n",
    "\n",
    "    # 使用空格替换不间断空格(non-breaking space)\n",
    "    text = text.replace('\\u202f', ' ').replace('\\xa0', ' ').lower()\n",
    "    # 使用小写字母替换大写字母\n",
    "    text = text.lower()\n",
    "    # 在单词和标点符号之间插⼊空格\n",
    "    out = [' ' + char if i > 0 and no_space(char, text[i - 1]) else char\n",
    "           for i, char in enumerate(text)]\n",
    "    return ''.join(out)\n",
    "\n",
    "\n",
    "text = preprocess_nmt(raw_text)\n",
    "print(text[:80])"
   ],
   "metadata": {
    "collapsed": false,
    "pycharm": {
     "name": "#%%\n"
    }
   }
  },
  {
   "cell_type": "code",
   "execution_count": 4,
   "outputs": [
    {
     "data": {
      "text/plain": "([['go', '.'],\n  ['hi', '.'],\n  ['run', '!'],\n  ['run', '!'],\n  ['who', '?'],\n  ['wow', '!'],\n  ['fire', '!'],\n  ['help', '!'],\n  ['jump', '.'],\n  ['stop', '!']],\n [['va', '!'],\n  ['salut', '!'],\n  ['cours', '!'],\n  ['courez', '!'],\n  ['qui', '?'],\n  ['ça', 'alors', '!'],\n  ['au', 'feu', '!'],\n  ['à', \"l'aide\", '!'],\n  ['saute', '.'],\n  ['ça', 'suffit', '!']])"
     },
     "execution_count": 4,
     "metadata": {},
     "output_type": "execute_result"
    }
   ],
   "source": [
    "def tokenize_nmt(text,\n",
    "                 num_examples=None):  # 使用的训练样本数\n",
    "    \"\"\"词元化\"英语<--->法语\"数据数据集\"\"\"\n",
    "    source, target = [], []\n",
    "    for i, line in enumerate(text.split('\\n')):\n",
    "        if num_examples and i > num_examples:\n",
    "            break\n",
    "        parts = line.split('\\t')\n",
    "        source.append(parts[0].split(' '))  # 英文数据\n",
    "        target.append(parts[1].split(' '))  # 法文数据\n",
    "    return source, target\n",
    "\n",
    "\n",
    "source, target = tokenize_nmt(text)\n",
    "source[:10], target[:10]  # 每个子列表表示一个句子的切分(根据' '切分)"
   ],
   "metadata": {
    "collapsed": false,
    "pycharm": {
     "name": "#%%\n"
    }
   }
  },
  {
   "cell_type": "code",
   "execution_count": 5,
   "outputs": [
    {
     "data": {
      "text/plain": "10012"
     },
     "execution_count": 5,
     "metadata": {},
     "output_type": "execute_result"
    }
   ],
   "source": [
    "def count_corpus(tokens):\n",
    "    \"\"\"Count token frequencies\"\"\"\n",
    "    # Here `tokens` is a 1D list or 2D list\n",
    "    if len(tokens) == 0 or isinstance(tokens[0], list):\n",
    "        # Flatten a list of token lists into a list of tokens\n",
    "        tokens = [token for line in tokens for token in line]\n",
    "    return collections.Counter(tokens)\n",
    "\n",
    "\n",
    "class Vocab:\n",
    "    \"\"\"Vocabulary for text\"\"\"\n",
    "\n",
    "    def __init__(self, tokens=None, min_freq=2, reserved_tokens=None):\n",
    "        if tokens is None:\n",
    "            tokens = []\n",
    "        if reserved_tokens is None:\n",
    "            reserved_tokens = []\n",
    "        counter = count_corpus(tokens)\n",
    "        # Sort according to frequencies\n",
    "        self._token_freqs = sorted(counter.items(), key=lambda x: x[1],\n",
    "                                   reverse=True)\n",
    "        # The index for the unknown token is 0\n",
    "        self.idx_to_token = ['<unk>'] + reserved_tokens\n",
    "        self.token_to_idx = {\n",
    "            token: idx for idx, token in enumerate(self.idx_to_token)}\n",
    "        for token, freq in self._token_freqs:\n",
    "            if freq < min_freq:\n",
    "                break\n",
    "            if token not in self.token_to_idx:\n",
    "                self.idx_to_token.append(token)\n",
    "                self.token_to_idx[token] = len(self.idx_to_token) - 1\n",
    "\n",
    "    def __len__(self):\n",
    "        return len(self.idx_to_token)\n",
    "\n",
    "    def __getitem__(self, tokens):\n",
    "        if not isinstance(tokens, (list, tuple)):\n",
    "            return self.token_to_idx.get(tokens, self.unk)\n",
    "        return [self.__getitem__(token) for token in tokens]\n",
    "\n",
    "    def to_tokens(self, indices):\n",
    "        if not isinstance(indices, (list, tuple)):\n",
    "            return self.idx_to_token[indices]\n",
    "        return [self.idx_to_token[index] for index in indices]\n",
    "\n",
    "    @property\n",
    "    def unk(self):\n",
    "        \"\"\"Index for the unknown token\"\"\"\n",
    "        return 0\n",
    "\n",
    "    @property\n",
    "    def token_freqs(self):\n",
    "        return self._token_freqs\n",
    "\n",
    "\n",
    "# '<unk>':未知词元\n",
    "# '<pad>':填充词元\n",
    "# '<sos>':开始词元\n",
    "# '<eos>':结束词元\n",
    "src_vocab = Vocab(source, min_freq=2, reserved_tokens=['<pad>', '<sos>', '<eos>'])\n",
    "len(src_vocab)"
   ],
   "metadata": {
    "collapsed": false,
    "pycharm": {
     "name": "#%%\n"
    }
   }
  },
  {
   "cell_type": "code",
   "execution_count": 6,
   "outputs": [
    {
     "data": {
      "text/plain": "[47, 4, 1, 1, 1, 1, 1, 1, 1, 1]"
     },
     "execution_count": 6,
     "metadata": {},
     "output_type": "execute_result"
    }
   ],
   "source": [
    "def truncate_pad(line, num_steps, padding_token):\n",
    "    \"\"\"截断或填充文本序列\"\"\"\n",
    "    if len(line) > num_steps:\n",
    "        return line[:num_steps]  # 句子截断\n",
    "    return line + [padding_token] * (num_steps - len(line))  # 句子填充\n",
    "\n",
    "\n",
    "truncate_pad(src_vocab[source[0]], 10, src_vocab['<pad>'])"
   ],
   "metadata": {
    "collapsed": false,
    "pycharm": {
     "name": "#%%\n"
    }
   }
  },
  {
   "cell_type": "code",
   "execution_count": 7,
   "outputs": [
    {
     "name": "stdout",
     "output_type": "stream",
     "text": [
      "tensor([[  47,    4,    3,  ...,    1,    1,    1],\n",
      "        [2944,    4,    3,  ...,    1,    1,    1],\n",
      "        [ 435,  126,    3,  ...,    1,    1,    1],\n",
      "        ...,\n",
      "        [ 381,   60,   26,  ...,  480,   68, 4696],\n",
      "        [  66,  295,   90,  ...,   10, 1170, 1526],\n",
      "        [  17,  176,   32,  ...,    8, 1963,   16]])\n",
      "torch.Size([167130, 15])\n",
      "tensor([ 3,  3,  3,  ..., 15, 15, 15])\n"
     ]
    }
   ],
   "source": [
    "def build_array_nmt(lines, vocab, num_steps):\n",
    "    \"\"\"将文本序列转换为数值矩阵\"\"\"\n",
    "    lines = [vocab[l] for l in lines]\n",
    "    lines = [l + [vocab['<eos>']] for l in lines]  # 使用'<eos>'表示句子的结尾\n",
    "    array = torch.tensor([truncate_pad(l, num_steps, vocab['<pad>']) for l in lines])\n",
    "    valid_len = (array != vocab['<pad>']).to(dtype=torch.int32).sum(1)\n",
    "    return array, valid_len\n",
    "\n",
    "\n",
    "array, valid_len = build_array_nmt(source, src_vocab, 15)\n",
    "print(array)  # 通过vocab将句子从token转换为idx(等长,不足部分1填充)\n",
    "print(array.shape)\n",
    "print(valid_len)  # 每个句子的实际长度"
   ],
   "metadata": {
    "collapsed": false,
    "pycharm": {
     "name": "#%%\n"
    }
   }
  },
  {
   "cell_type": "code",
   "execution_count": 8,
   "outputs": [
    {
     "name": "stdout",
     "output_type": "stream",
     "text": [
      "X: tensor([[  8, 107,   4,   3,   1,   1,   1,   1,   1,   1,   1,   1,   1,   1,\n",
      "           1],\n",
      "        [ 20,  39,   4,   3,   1,   1,   1,   1,   1,   1,   1,   1,   1,   1,\n",
      "           1],\n",
      "        [  7, 142,   4,   3,   1,   1,   1,   1,   1,   1,   1,   1,   1,   1,\n",
      "           1],\n",
      "        [ 50,  14,   4,   3,   1,   1,   1,   1,   1,   1,   1,   1,   1,   1,\n",
      "           1],\n",
      "        [  9, 145,   4,   3,   1,   1,   1,   1,   1,   1,   1,   1,   1,   1,\n",
      "           1],\n",
      "        [  6,   0,   4,   3,   1,   1,   1,   1,   1,   1,   1,   1,   1,   1,\n",
      "           1],\n",
      "        [ 38,  33,   4,   3,   1,   1,   1,   1,   1,   1,   1,   1,   1,   1,\n",
      "           1],\n",
      "        [ 87,  88,   5,   3,   1,   1,   1,   1,   1,   1,   1,   1,   1,   1,\n",
      "           1],\n",
      "        [ 92,   6,   8,  12,   3,   1,   1,   1,   1,   1,   1,   1,   1,   1,\n",
      "           1],\n",
      "        [ 50,  14,   5,   3,   1,   1,   1,   1,   1,   1,   1,   1,   1,   1,\n",
      "           1],\n",
      "        [  7,  67,   4,   3,   1,   1,   1,   1,   1,   1,   1,   1,   1,   1,\n",
      "           1],\n",
      "        [ 98,   4,   3,   1,   1,   1,   1,   1,   1,   1,   1,   1,   1,   1,\n",
      "           1],\n",
      "        [150,  11,   4,   3,   1,   1,   1,   1,   1,   1,   1,   1,   1,   1,\n",
      "           1],\n",
      "        [ 20,  70,   4,   3,   1,   1,   1,   1,   1,   1,   1,   1,   1,   1,\n",
      "           1],\n",
      "        [ 42,  17,   4,   3,   1,   1,   1,   1,   1,   1,   1,   1,   1,   1,\n",
      "           1],\n",
      "        [ 26,  37,   5,   3,   1,   1,   1,   1,   1,   1,   1,   1,   1,   1,\n",
      "           1],\n",
      "        [ 58,  18,   5,   3,   1,   1,   1,   1,   1,   1,   1,   1,   1,   1,\n",
      "           1],\n",
      "        [ 38,  33,   4,   3,   1,   1,   1,   1,   1,   1,   1,   1,   1,   1,\n",
      "           1],\n",
      "        [ 28, 154,   4,   3,   1,   1,   1,   1,   1,   1,   1,   1,   1,   1,\n",
      "           1],\n",
      "        [ 10,  69,   4,   3,   1,   1,   1,   1,   1,   1,   1,   1,   1,   1,\n",
      "           1],\n",
      "        [ 26,  37,   4,   3,   1,   1,   1,   1,   1,   1,   1,   1,   1,   1,\n",
      "           1],\n",
      "        [  7,   0,   4,   3,   1,   1,   1,   1,   1,   1,   1,   1,   1,   1,\n",
      "           1],\n",
      "        [ 16,  27,   4,   3,   1,   1,   1,   1,   1,   1,   1,   1,   1,   1,\n",
      "           1],\n",
      "        [148,   8,   5,   3,   1,   1,   1,   1,   1,   1,   1,   1,   1,   1,\n",
      "           1],\n",
      "        [ 80,  12,   3,   1,   1,   1,   1,   1,   1,   1,   1,   1,   1,   1,\n",
      "           1],\n",
      "        [ 13, 158,   4,   3,   1,   1,   1,   1,   1,   1,   1,   1,   1,   1,\n",
      "           1],\n",
      "        [  6,  35,   9,   4,   3,   1,   1,   1,   1,   1,   1,   1,   1,   1,\n",
      "           1],\n",
      "        [ 93,  69,   4,   3,   1,   1,   1,   1,   1,   1,   1,   1,   1,   1,\n",
      "           1],\n",
      "        [153,  11,   4,   3,   1,   1,   1,   1,   1,   1,   1,   1,   1,   1,\n",
      "           1],\n",
      "        [ 99,   5,   3,   1,   1,   1,   1,   1,   1,   1,   1,   1,   1,   1,\n",
      "           1],\n",
      "        [  7, 140,   4,   3,   1,   1,   1,   1,   1,   1,   1,   1,   1,   1,\n",
      "           1],\n",
      "        [ 97,  10,   4,   3,   1,   1,   1,   1,   1,   1,   1,   1,   1,   1,\n",
      "           1]], dtype=torch.int32)\n",
      "valid lengths for X: tensor([4, 4, 4, 4, 4, 4, 4, 4, 5, 4, 4, 3, 4, 4, 4, 4, 4, 4, 4, 4, 4, 4, 4, 4,\n",
      "        3, 4, 5, 4, 4, 3, 4, 4])\n",
      "Y: tensor([[ 61, 111,   5,   3,   1,   1,   1,   1,   1,   1,   1,   1,   1,   1,\n",
      "           1],\n",
      "        [101,   5,   3,   1,   1,   1,   1,   1,   1,   1,   1,   1,   1,   1,\n",
      "           1],\n",
      "        [  6,   7,   0,   4,   3,   1,   1,   1,   1,   1,   1,   1,   1,   1,\n",
      "           1],\n",
      "        [ 67,   5,   3,   1,   1,   1,   1,   1,   1,   1,   1,   1,   1,   1,\n",
      "           1],\n",
      "        [ 24,   0,   4,   3,   1,   1,   1,   1,   1,   1,   1,   1,   1,   1,\n",
      "           1],\n",
      "        [ 11,   0,   4,   3,   1,   1,   1,   1,   1,   1,   1,   1,   1,   1,\n",
      "           1],\n",
      "        [  0,  29,   4,   3,   1,   1,   1,   1,   1,   1,   1,   1,   1,   1,\n",
      "           1],\n",
      "        [ 36,   0,   5,   3,   1,   1,   1,   1,   1,   1,   1,   1,   1,   1,\n",
      "           1],\n",
      "        [ 70, 149,   9,   3,   1,   1,   1,   1,   1,   1,   1,   1,   1,   1,\n",
      "           1],\n",
      "        [127,   5,   3,   1,   1,   1,   1,   1,   1,   1,   1,   1,   1,   1,\n",
      "           1],\n",
      "        [  6,   7,   0,   4,   3,   1,   1,   1,   1,   1,   1,   1,   1,   1,\n",
      "           1],\n",
      "        [ 56,   5,   3,   1,   1,   1,   1,   1,   1,   1,   1,   1,   1,   1,\n",
      "           1],\n",
      "        [  0,   5,   3,   1,   1,   1,   1,   1,   1,   1,   1,   1,   1,   1,\n",
      "           1],\n",
      "        [ 46,  55,   4,   3,   1,   1,   1,   1,   1,   1,   1,   1,   1,   1,\n",
      "           1],\n",
      "        [132,   0,  34,   4,   3,   1,   1,   1,   1,   1,   1,   1,   1,   1,\n",
      "           1],\n",
      "        [133,   5,   3,   1,   1,   1,   1,   1,   1,   1,   1,   1,   1,   1,\n",
      "           1],\n",
      "        [ 77,  31, 112,   5,   3,   1,   1,   1,   1,   1,   1,   1,   1,   1,\n",
      "           1],\n",
      "        [  0,  29,   5,   3,   1,   1,   1,   1,   1,   1,   1,   1,   1,   1,\n",
      "           1],\n",
      "        [  0,   5,   3,   1,   1,   1,   1,   1,   1,   1,   1,   1,   1,   1,\n",
      "           1],\n",
      "        [  8,   0,   4,   3,   1,   1,   1,   1,   1,   1,   1,   1,   1,   1,\n",
      "           1],\n",
      "        [133,   5,   3,   1,   1,   1,   1,   1,   1,   1,   1,   1,   1,   1,\n",
      "           1],\n",
      "        [  6,   7, 121,   4,   3,   1,   1,   1,   1,   1,   1,   1,   1,   1,\n",
      "           1],\n",
      "        [  0,   5,   3,   1,   1,   1,   1,   1,   1,   1,   1,   1,   1,   1,\n",
      "           1],\n",
      "        [148,   5,   3,   1,   1,   1,   1,   1,   1,   1,   1,   1,   1,   1,\n",
      "           1],\n",
      "        [  0,   9,   3,   1,   1,   1,   1,   1,   1,   1,   1,   1,   1,   1,\n",
      "           1],\n",
      "        [ 72,   5,   3,   1,   1,   1,   1,   1,   1,   1,   1,   1,   1,   1,\n",
      "           1],\n",
      "        [ 11,  85,   4,   3,   1,   1,   1,   1,   1,   1,   1,   1,   1,   1,\n",
      "           1],\n",
      "        [ 53,  18,   0,   4,   3,   1,   1,   1,   1,   1,   1,   1,   1,   1,\n",
      "           1],\n",
      "        [141, 158,   4,   3,   1,   1,   1,   1,   1,   1,   1,   1,   1,   1,\n",
      "           1],\n",
      "        [ 75,  76,   5,   3,   1,   1,   1,   1,   1,   1,   1,   1,   1,   1,\n",
      "           1],\n",
      "        [  6,  35,  15,   4,   3,   1,   1,   1,   1,   1,   1,   1,   1,   1,\n",
      "           1],\n",
      "        [  0,   8,   4,   3,   1,   1,   1,   1,   1,   1,   1,   1,   1,   1,\n",
      "           1]], dtype=torch.int32)\n",
      "valid lengths for Y: tensor([4, 3, 5, 3, 4, 4, 4, 4, 4, 3, 5, 3, 3, 4, 5, 3, 5, 4, 3, 4, 3, 5, 3, 3,\n",
      "        3, 3, 4, 5, 4, 4, 5, 4])\n"
     ]
    }
   ],
   "source": [
    "def load_array(data_arrays, batch_size, is_train=True):\n",
    "    \"\"\"Construct a PyTorch data iterator\"\"\"\n",
    "    dataset = Data.TensorDataset(*data_arrays)\n",
    "    return Data.DataLoader(dataset, batch_size, shuffle=is_train)\n",
    "\n",
    "\n",
    "def load_data_nmt(text, batch_size, num_steps, num_examples=None):\n",
    "    \"\"\"返回翻译数据集的迭代器和词汇表\"\"\"\n",
    "    source, target = tokenize_nmt(text, num_examples=num_examples)\n",
    "    src_vocab = Vocab(source, min_freq=2,\n",
    "                      reserved_tokens=['<pad>', '<bos>', '<eos>'])\n",
    "    tgt_vocab = Vocab(target, min_freq=2,\n",
    "                      reserved_tokens=['<pad>', '<bos>', '<eos>'])\n",
    "    src_array, src_valid_len = build_array_nmt(source, src_vocab, num_steps)\n",
    "    tgt_array, tgt_valid_len = build_array_nmt(target, tgt_vocab, num_steps)\n",
    "    data_arrays = (src_array, src_valid_len, tgt_array, tgt_valid_len)\n",
    "    data_iter = load_array(data_arrays, batch_size)\n",
    "    return data_iter, src_vocab, tgt_vocab\n",
    "\n",
    "\n",
    "train_iter, src_vocab, tgt_vocab = load_data_nmt(text, batch_size=32, num_steps=15, num_examples=500)\n",
    "for X, X_valid_len, Y, Y_valid_len in train_iter:\n",
    "    print('X:', X.type(torch.int32))\n",
    "    print('valid lengths for X:', X_valid_len)\n",
    "    print('Y:', Y.type(torch.int32))\n",
    "    print('valid lengths for Y:', Y_valid_len)\n",
    "    break"
   ],
   "metadata": {
    "collapsed": false,
    "pycharm": {
     "name": "#%%\n"
    }
   }
  },
  {
   "cell_type": "markdown",
   "source": [
    "### Seq2Seq模型"
   ],
   "metadata": {
    "collapsed": false,
    "pycharm": {
     "name": "#%% md\n"
    }
   }
  },
  {
   "cell_type": "code",
   "execution_count": 9,
   "outputs": [
    {
     "name": "stdout",
     "output_type": "stream",
     "text": [
      "torch.Size([7, 4, 16])\n",
      "torch.Size([2, 4, 16])\n"
     ]
    }
   ],
   "source": [
    "class Seq2SeqEncoder(nn.Module):\n",
    "    \"\"\"用于序列到序列学习的循环神经⽹络编码器\"\"\"\n",
    "\n",
    "    def __init__(self, vocab_size, embed_size, hidden_size, num_layers, dropout=0, bidirectional=False):\n",
    "        super(Seq2SeqEncoder, self).__init__()\n",
    "        self.embedding = nn.Embedding(vocab_size, embed_size)\n",
    "        self.rnn = nn.GRU(embed_size, hidden_size, num_layers,\n",
    "                          dropout=dropout, bidirectional=bidirectional)\n",
    "\n",
    "    def forward(self, X):\n",
    "        # self.embedding(X).shape=(N, T, C);其中T为序列的长度,N为min-batch的大小,C为输入的特征数目\n",
    "        X = self.embedding(X)\n",
    "        # 循环神经默认输入要求为:(T, N, C)\n",
    "        X = X.permute(1, 0, 2)\n",
    "        output, state = self.rnn(X)\n",
    "        # output.shape=(T, N, hidden_size)\n",
    "        # state.shape=(num_layers, N, hidden_size)\n",
    "        return output, state\n",
    "\n",
    "\n",
    "encoder = Seq2SeqEncoder(vocab_size=10, embed_size=8, hidden_size=16,\n",
    "                         num_layers=2)\n",
    "encoder.eval()\n",
    "\n",
    "X = torch.zeros((4, 7), dtype=torch.long)\n",
    "output, state = encoder(X)\n",
    "print(output.shape)\n",
    "print(state.shape)"
   ],
   "metadata": {
    "collapsed": false,
    "pycharm": {
     "name": "#%%\n"
    }
   }
  },
  {
   "cell_type": "code",
   "execution_count": 10,
   "outputs": [
    {
     "data": {
      "text/plain": "torch.Size([4, 16])"
     },
     "execution_count": 10,
     "metadata": {},
     "output_type": "execute_result"
    }
   ],
   "source": [
    "# state[-1].shape=(N, hidden_size)\n",
    "state[-1].shape"
   ],
   "metadata": {
    "collapsed": false,
    "pycharm": {
     "name": "#%%\n"
    }
   }
  },
  {
   "cell_type": "code",
   "execution_count": 11,
   "outputs": [
    {
     "data": {
      "text/plain": "(torch.Size([4, 7, 10]), torch.Size([2, 4, 16]))"
     },
     "execution_count": 11,
     "metadata": {},
     "output_type": "execute_result"
    }
   ],
   "source": [
    "class Seq2SeqDecoder(nn.Module):\n",
    "    \"\"\"⽤于序列到序列学习的循环神经网络解码器\"\"\"\n",
    "\n",
    "    def __init__(self, vocab_size, embed_size, hidden_size, num_layers,\n",
    "                 dropout=0, bidirectional=False):\n",
    "        super(Seq2SeqDecoder, self).__init__()\n",
    "        self.embedding = nn.Embedding(vocab_size, embed_size)\n",
    "        self.rnn = nn.GRU(embed_size + hidden_size, hidden_size, num_layers,\n",
    "                          dropout=dropout, bidirectional=bidirectional)\n",
    "        self.dense = nn.Linear(hidden_size, vocab_size)\n",
    "\n",
    "    def init_state(self, enc_outputs):\n",
    "        return enc_outputs[1]\n",
    "\n",
    "    def forward(self, X, state):\n",
    "        # embedding(X).shape=(N, T, C)\n",
    "        # embedding(X).permute(1, 0, 2).shape=(T, N, C)\n",
    "        X = self.embedding(X).permute(1, 0, 2)\n",
    "        # state.shape=(num_layers, N, hidden_size)\n",
    "        # state[-1].shape=(N, hidden_size)  # 取最后一层的隐藏状态\n",
    "        # context.shape=(T, N, hidden_size)\n",
    "        context = state[-1].repeat(X.shape[0], 1, 1)  # 上下文向量(固定)\n",
    "        # Notice how the last hidden state is actually the context we pass along to the decoder\n",
    "        # X_and_context = (T, N, c+hidden_size)\n",
    "        X_and_context = torch.cat((X, context), 2)\n",
    "        # print(X_and_context.shape)\n",
    "        # 使用循环神经⽹络编码器最终的隐藏状态(或是多个隐节状态的加权总和)来初始化解码器的隐藏状态\n",
    "        output, state = self.rnn(X_and_context, state)\n",
    "        output = self.dense(output).permute(1, 0, 2)\n",
    "        return output, state\n",
    "\n",
    "\n",
    "decoder = Seq2SeqDecoder(vocab_size=10, embed_size=8, hidden_size=16,\n",
    "                         num_layers=2)\n",
    "decoder.eval()\n",
    "\n",
    "X = torch.zeros((4, 7), dtype=torch.long)\n",
    "state = decoder.init_state(encoder(X))\n",
    "output, state = decoder(X, state)\n",
    "output.shape, state.shape"
   ],
   "metadata": {
    "collapsed": false,
    "pycharm": {
     "name": "#%%\n"
    }
   }
  },
  {
   "cell_type": "code",
   "execution_count": 12,
   "outputs": [],
   "source": [
    "class EncoderDecoder(nn.Module):\n",
    "    \"\"\"The base class for the encoder-decoder architecture\"\"\"\n",
    "\n",
    "    def __init__(self, encoder, decoder):\n",
    "        super(EncoderDecoder, self).__init__()\n",
    "        self.encoder = encoder\n",
    "        self.decoder = decoder\n",
    "\n",
    "    def forward(self, enc_X, dec_X):\n",
    "        enc_outputs = self.encoder(enc_X)\n",
    "        dec_state = self.decoder.init_state(enc_outputs)\n",
    "        return self.decoder(dec_X, dec_state)"
   ],
   "metadata": {
    "collapsed": false,
    "pycharm": {
     "name": "#%%\n"
    }
   }
  },
  {
   "cell_type": "markdown",
   "source": [
    "### 自定义损失函数"
   ],
   "metadata": {
    "collapsed": false,
    "pycharm": {
     "name": "#%% md\n"
    }
   }
  },
  {
   "cell_type": "code",
   "execution_count": 13,
   "outputs": [
    {
     "data": {
      "text/plain": "tensor([[1, 0, 0],\n        [4, 5, 0]])"
     },
     "execution_count": 13,
     "metadata": {},
     "output_type": "execute_result"
    }
   ],
   "source": [
    "def sequence_mask(X, valid_len, value=0):\n",
    "    \"\"\"在序列中屏蔽不相关的项\"\"\"\n",
    "    maxlen = X.size(1)\n",
    "    # 广播机制\n",
    "    mask = torch.arange((maxlen), dtype=torch.float32, device=X.device)[None, :] < valid_len[:, None]\n",
    "    X[~mask] = value\n",
    "    return X\n",
    "\n",
    "\n",
    "X = torch.tensor([[1, 2, 3],\n",
    "                  [4, 5, 6]])\n",
    "# 通过零值化屏蔽不相关的项,以便后⾯任何不相关预测的计算都是与零的乘积,结果都等于零\n",
    "sequence_mask(X, torch.tensor([1, 2]))"
   ],
   "metadata": {
    "collapsed": false,
    "pycharm": {
     "name": "#%%\n"
    }
   }
  },
  {
   "cell_type": "code",
   "execution_count": 14,
   "outputs": [
    {
     "data": {
      "text/plain": "tensor([2.3026, 1.1513, 0.0000])"
     },
     "execution_count": 14,
     "metadata": {},
     "output_type": "execute_result"
    }
   ],
   "source": [
    "class MaskedSoftmaxCELoss(nn.Module):\n",
    "    \"\"\"带遮蔽的softmax交叉熵损失函数\"\"\"\n",
    "\n",
    "    def forward(self, pred, label, valid_len):\n",
    "        weights = torch.ones_like(label)\n",
    "        weights = sequence_mask(weights, valid_len)\n",
    "        unweighted_loss = nn.CrossEntropyLoss(reduction='none')(pred.permute(0, 2, 1), label)\n",
    "        weighted_loss = (unweighted_loss * weights).mean(dim=1)\n",
    "        return weighted_loss\n",
    "\n",
    "\n",
    "loss = MaskedSoftmaxCELoss()\n",
    "# 指定这些序列的有效⻓度为4、2、0,可以看出第⼀个序列的损失为第二个序列的两倍,第三个序列的损失为零\n",
    "loss(torch.ones(3, 4, 10), torch.ones((3, 4), dtype=torch.long), torch.tensor([4, 2, 0]))"
   ],
   "metadata": {
    "collapsed": false,
    "pycharm": {
     "name": "#%%\n"
    }
   }
  },
  {
   "cell_type": "markdown",
   "source": [
    "### 模型训练"
   ],
   "metadata": {
    "collapsed": false,
    "pycharm": {
     "name": "#%% md\n"
    }
   }
  },
  {
   "cell_type": "code",
   "execution_count": 15,
   "outputs": [],
   "source": [
    "def train_seq2seq(net, data_iter, lr, num_epochs, tgt_vocab, device):\n",
    "    \"\"\"训练seq2seq模型\"\"\"\n",
    "    net.to(device)\n",
    "    optimizer = torch.optim.Adam(net.parameters(), lr=lr)\n",
    "    loss = MaskedSoftmaxCELoss()\n",
    "    net.train()\n",
    "\n",
    "    for epoch in range(num_epochs):\n",
    "        for batch_idx, batch in enumerate(data_iter):\n",
    "            X, X_valid_len, Y, Y_valid_len = [x.to(device) for x in batch]\n",
    "            bos = torch.tensor([tgt_vocab['<sos>']] * Y.shape[0], device=device).reshape(-1, 1)\n",
    "            dec_input = torch.cat([bos, Y[:, :-1]], 1)  # Teacher Forcing\n",
    "            Y_hat, _ = net(X, dec_input)\n",
    "            l = loss(Y_hat, Y, Y_valid_len)\n",
    "            l.sum().backward()\n",
    "            torch.nn.utils.clip_grad_norm_(net.parameters(), 3)  # 梯度裁剪\n",
    "            optimizer.step()\n",
    "            if batch_idx % 300 == 0:\n",
    "                print('loss:', l.sum().item())"
   ],
   "metadata": {
    "collapsed": false,
    "pycharm": {
     "name": "#%%\n"
    }
   }
  },
  {
   "cell_type": "code",
   "execution_count": 16,
   "outputs": [
    {
     "name": "stdout",
     "output_type": "stream",
     "text": [
      "loss: 33.91590118408203\n",
      "loss: 18.085134506225586\n",
      "loss: 17.26862335205078\n",
      "loss: 17.816463470458984\n",
      "loss: 17.16301918029785\n",
      "loss: 15.098230361938477\n",
      "loss: 12.243768692016602\n",
      "loss: 11.89013671875\n",
      "loss: 11.012125015258789\n",
      "loss: 10.215425491333008\n",
      "loss: 8.221678733825684\n",
      "loss: 9.161933898925781\n",
      "loss: 7.329930782318115\n",
      "loss: 7.815098762512207\n",
      "loss: 5.945168972015381\n",
      "loss: 7.575524806976318\n",
      "loss: 6.553491592407227\n",
      "loss: 5.807292938232422\n",
      "loss: 5.255470275878906\n",
      "loss: 5.180303573608398\n",
      "loss: 5.396553993225098\n",
      "loss: 5.665897369384766\n",
      "loss: 5.24554443359375\n",
      "loss: 4.559234619140625\n",
      "loss: 4.248633861541748\n",
      "loss: 4.740425109863281\n",
      "loss: 4.453648567199707\n",
      "loss: 4.661025524139404\n",
      "loss: 4.555342674255371\n",
      "loss: 4.360511779785156\n",
      "loss: 5.905474662780762\n",
      "loss: 4.218197345733643\n",
      "loss: 4.021627426147461\n",
      "loss: 4.142810821533203\n",
      "loss: 3.6002283096313477\n",
      "loss: 4.467589378356934\n",
      "loss: 3.933612585067749\n",
      "loss: 4.298162937164307\n",
      "loss: 3.852544069290161\n",
      "loss: 3.5493593215942383\n",
      "loss: 3.612654209136963\n",
      "loss: 3.33244252204895\n",
      "loss: 3.208183765411377\n",
      "loss: 3.4442391395568848\n",
      "loss: 3.4263362884521484\n",
      "loss: 3.6507906913757324\n",
      "loss: 2.9494752883911133\n",
      "loss: 3.0490498542785645\n",
      "loss: 3.3394041061401367\n",
      "loss: 2.974609136581421\n",
      "loss: 3.609266519546509\n",
      "loss: 3.4233574867248535\n",
      "loss: 3.0233354568481445\n",
      "loss: 3.2415289878845215\n",
      "loss: 2.719846487045288\n",
      "loss: 3.110098361968994\n",
      "loss: 3.2077152729034424\n",
      "loss: 2.278482437133789\n",
      "loss: 2.853567361831665\n",
      "loss: 3.16414737701416\n",
      "loss: 2.8571295738220215\n",
      "loss: 2.8700480461120605\n",
      "loss: 2.653076171875\n",
      "loss: 3.0534708499908447\n",
      "loss: 3.032360553741455\n",
      "loss: 2.8443617820739746\n",
      "loss: 3.0112481117248535\n",
      "loss: 3.2625365257263184\n",
      "loss: 2.516932964324951\n",
      "loss: 2.8941233158111572\n",
      "loss: 2.8905465602874756\n",
      "loss: 3.2439422607421875\n",
      "loss: 2.2996437549591064\n",
      "loss: 3.2064080238342285\n",
      "loss: 3.1221094131469727\n",
      "loss: 2.706636667251587\n",
      "loss: 3.743436098098755\n",
      "loss: 2.8021161556243896\n",
      "loss: 3.17043137550354\n",
      "loss: 2.309769630432129\n",
      "loss: 2.897048234939575\n",
      "loss: 2.2363100051879883\n",
      "loss: 2.567840337753296\n",
      "loss: 2.3773951530456543\n",
      "loss: 3.2440185546875\n",
      "loss: 2.690751075744629\n",
      "loss: 2.912750244140625\n",
      "loss: 2.9048051834106445\n",
      "loss: 2.269867181777954\n",
      "loss: 3.5076467990875244\n",
      "loss: 3.0425920486450195\n",
      "loss: 2.7682945728302\n",
      "loss: 2.9255332946777344\n",
      "loss: 2.7710366249084473\n",
      "loss: 2.393660306930542\n",
      "loss: 3.091952085494995\n",
      "loss: 2.1124706268310547\n",
      "loss: 2.538402557373047\n",
      "loss: 2.3631112575531006\n",
      "loss: 3.222423553466797\n",
      "loss: 2.9955832958221436\n",
      "loss: 2.5497474670410156\n",
      "loss: 2.3430135250091553\n",
      "loss: 2.8869857788085938\n",
      "loss: 2.7057666778564453\n",
      "loss: 3.2013864517211914\n",
      "loss: 2.8526062965393066\n",
      "loss: 2.591914176940918\n",
      "loss: 2.979342460632324\n",
      "loss: 2.428065061569214\n",
      "loss: 2.1973915100097656\n",
      "loss: 2.1705257892608643\n",
      "loss: 2.8714590072631836\n",
      "loss: 2.281294345855713\n",
      "loss: 2.6184263229370117\n",
      "loss: 2.4190030097961426\n",
      "loss: 2.281261920928955\n",
      "loss: 2.5914382934570312\n",
      "loss: 2.9266433715820312\n",
      "loss: 2.6683239936828613\n",
      "loss: 2.3226566314697266\n",
      "loss: 1.9833402633666992\n",
      "loss: 2.0858566761016846\n",
      "loss: 2.496609687805176\n",
      "loss: 2.401125431060791\n",
      "loss: 2.1477599143981934\n",
      "loss: 2.445805072784424\n",
      "loss: 2.3266406059265137\n",
      "loss: 3.2245113849639893\n",
      "loss: 1.9498291015625\n",
      "loss: 2.6498491764068604\n",
      "loss: 2.330702304840088\n",
      "loss: 2.370694875717163\n",
      "loss: 2.1201374530792236\n",
      "loss: 2.6354589462280273\n",
      "loss: 2.8247170448303223\n",
      "loss: 2.2960212230682373\n",
      "loss: 2.640206813812256\n",
      "loss: 2.15670108795166\n",
      "loss: 2.4811131954193115\n",
      "loss: 2.6740641593933105\n",
      "loss: 2.2054426670074463\n",
      "loss: 2.2531180381774902\n",
      "loss: 2.7239773273468018\n",
      "loss: 3.1349873542785645\n",
      "loss: 2.2268424034118652\n",
      "loss: 2.4321365356445312\n",
      "loss: 2.7592544555664062\n",
      "loss: 2.9399900436401367\n",
      "loss: 2.1846814155578613\n",
      "loss: 2.722552537918091\n",
      "loss: 2.1323890686035156\n",
      "loss: 2.1411924362182617\n",
      "loss: 1.9739086627960205\n",
      "loss: 2.1887707710266113\n",
      "loss: 2.6955809593200684\n",
      "loss: 1.657139778137207\n",
      "loss: 2.7984087467193604\n",
      "loss: 2.2085890769958496\n",
      "loss: 2.42769718170166\n",
      "loss: 2.664475917816162\n",
      "loss: 2.1964340209960938\n",
      "loss: 2.435723304748535\n",
      "loss: 2.3462705612182617\n",
      "loss: 2.154273509979248\n",
      "loss: 2.1177749633789062\n",
      "loss: 2.4114789962768555\n",
      "loss: 2.1420340538024902\n",
      "loss: 2.7371153831481934\n",
      "loss: 1.8296020030975342\n",
      "loss: 2.174253463745117\n",
      "loss: 3.2345972061157227\n",
      "loss: 2.085001230239868\n",
      "loss: 2.091161012649536\n",
      "loss: 2.6060426235198975\n",
      "loss: 2.3129019737243652\n",
      "loss: 2.151602029800415\n",
      "loss: 2.2470874786376953\n",
      "loss: 2.638468027114868\n",
      "loss: 2.1070637702941895\n",
      "loss: 2.27815842628479\n",
      "loss: 1.786490797996521\n",
      "loss: 2.856966018676758\n",
      "loss: 1.5100104808807373\n",
      "loss: 3.3667569160461426\n",
      "loss: 2.027346611022949\n",
      "loss: 2.4380626678466797\n",
      "loss: 2.5045580863952637\n",
      "loss: 2.4216971397399902\n",
      "loss: 2.0029966831207275\n",
      "loss: 1.8808852434158325\n",
      "loss: 2.2709600925445557\n",
      "loss: 1.9860492944717407\n",
      "loss: 1.7577954530715942\n",
      "loss: 2.364018440246582\n",
      "loss: 2.317340135574341\n",
      "loss: 1.967939853668213\n",
      "loss: 1.9240422248840332\n",
      "loss: 2.346444606781006\n",
      "loss: 2.343064308166504\n"
     ]
    }
   ],
   "source": [
    "embed_size, num_hiddens, num_layers, dropout = 32, 32, 2, 0.1\n",
    "batch_size, num_steps = 32, 25\n",
    "lr, num_epochs, device = 0.005, 200, torch.device(\"cuda\" if torch.cuda.is_available() else \"cpu\")\n",
    "train_iter, src_vocab, tgt_vocab = load_data_nmt(text, batch_size, num_steps, num_examples=1000)\n",
    "encoder = Seq2SeqEncoder(len(src_vocab), embed_size, num_hiddens, num_layers,\n",
    "                         dropout)\n",
    "decoder = Seq2SeqDecoder(len(tgt_vocab), embed_size, num_hiddens, num_layers,\n",
    "                         dropout)\n",
    "net = EncoderDecoder(encoder, decoder)\n",
    "\n",
    "train_seq2seq(net, train_iter, lr, num_epochs, tgt_vocab, device)"
   ],
   "metadata": {
    "collapsed": false,
    "pycharm": {
     "name": "#%%\n"
    }
   }
  },
  {
   "cell_type": "markdown",
   "source": [
    "### 模型预测与评估"
   ],
   "metadata": {
    "collapsed": false,
    "pycharm": {
     "name": "#%% md\n"
    }
   },
   "execution_count": 111
  },
  {
   "cell_type": "code",
   "execution_count": 17,
   "outputs": [],
   "source": [
    "def predict_seq2seq(net, src_sentence, src_vocab, tgt_vocab, num_steps, device):\n",
    "    \"\"\"Seq2Seq模型的预测\"\"\"\n",
    "    net.eval()\n",
    "    src_tokens = src_vocab[src_sentence.lower().split(' ')] + [src_vocab['<eos>']]\n",
    "    src_tokens = truncate_pad(src_tokens, num_steps, src_vocab['<pad>'])\n",
    "    enc_X = torch.unsqueeze(torch.tensor(src_tokens, dtype=torch.long, device=device), dim=0)\n",
    "    enc_outputs = net.encoder(enc_X)\n",
    "    # 最终的隐藏状态\n",
    "    dec_state = net.decoder.init_state(enc_outputs)\n",
    "    # 预测的第一个单词\n",
    "    dec_X = torch.unsqueeze(torch.tensor([tgt_vocab['<sos>']], dtype=torch.long, device=device), dim=0)\n",
    "    output_seq = []\n",
    "    for _ in range(num_steps):\n",
    "        Y, dec_state = net.decoder(dec_X, dec_state)\n",
    "        # 使用具有预测最高可能性的词元,作为解码器在下⼀时间步的输⼊\n",
    "        dec_X = Y.argmax(dim=2)\n",
    "        pred = dec_X.squeeze(dim=0).type(torch.int32).item()\n",
    "        if pred == tgt_vocab['<eos>']:  # 如果单词为'<eos>',则表示输出序列预测结束\n",
    "            break\n",
    "        output_seq.append(pred)\n",
    "    # 重新翻译回句子\n",
    "    return ' '.join(tgt_vocab.to_tokens(output_seq))"
   ],
   "metadata": {
    "collapsed": false,
    "pycharm": {
     "name": "#%%\n"
    }
   }
  },
  {
   "cell_type": "code",
   "execution_count": 18,
   "outputs": [
    {
     "name": "stdout",
     "output_type": "stream",
     "text": [
      "go . => <unk> !, bleu 0.193\n",
      "i lost . => je l’ai perdu ., bleu 0.674\n",
      "he's calm . => il est riche ., bleu 0.695\n",
      "i'm home . => je suis chez moi, bleu 0.886\n"
     ]
    }
   ],
   "source": [
    "engs = ['go .', \"i lost .\", 'he\\'s calm .', 'i\\'m home .']\n",
    "fras = ['va !', 'j\\'ai perdu .', 'il est calme .', 'je suis chez moi .']\n",
    "for eng, fra in zip(engs, fras):\n",
    "    translation = predict_seq2seq(net, eng, src_vocab, tgt_vocab, num_steps, device)\n",
    "    chencherry = SmoothingFunction()\n",
    "    # 使用bleu指标进行结果评估\n",
    "    blen = sentence_bleu([translation], fra, weights=(1 / 2.0, 1 / 2.0), smoothing_function=chencherry.method1)\n",
    "    print(f'{eng} => {translation}, bleu {blen:.3f}')"
   ],
   "metadata": {
    "collapsed": false,
    "pycharm": {
     "name": "#%%\n"
    }
   }
  }
 ],
 "metadata": {
  "kernelspec": {
   "display_name": "Python 3",
   "language": "python",
   "name": "python3"
  },
  "language_info": {
   "codemirror_mode": {
    "name": "ipython",
    "version": 2
   },
   "file_extension": ".py",
   "mimetype": "text/x-python",
   "name": "python",
   "nbconvert_exporter": "python",
   "pygments_lexer": "ipython2",
   "version": "2.7.6"
  }
 },
 "nbformat": 4,
 "nbformat_minor": 0
}