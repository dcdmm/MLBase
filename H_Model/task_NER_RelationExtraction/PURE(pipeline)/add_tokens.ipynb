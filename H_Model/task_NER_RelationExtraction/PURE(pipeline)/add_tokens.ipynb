{
 "cells": [
  {
   "cell_type": "code",
   "execution_count": 6,
   "id": "fb4b18aa-5cde-45ef-96ca-b96d697db284",
   "metadata": {},
   "outputs": [],
   "source": [
    "from transformers import AutoTokenizer"
   ]
  },
  {
   "cell_type": "code",
   "execution_count": 7,
   "id": "ada54b70-514e-4d17-98ed-5414af35d664",
   "metadata": {},
   "outputs": [
    {
     "data": {
      "text/plain": [
       "PreTrainedTokenizerFast(name_or_path='hfl/chinese-roberta-wwm-ext-large', vocab_size=21128, model_max_len=1000000000000000019884624838656, is_fast=True, padding_side='right', truncation_side='right', special_tokens={'unk_token': '[UNK]', 'sep_token': '[SEP]', 'pad_token': '[PAD]', 'cls_token': '[CLS]', 'mask_token': '[MASK]'})"
      ]
     },
     "execution_count": 7,
     "metadata": {},
     "output_type": "execute_result"
    }
   ],
   "source": [
    "model_name = 'hfl/chinese-roberta-wwm-ext-large'\n",
    "tokenizer = AutoTokenizer.from_pretrained(model_name)\n",
    "tokenizer"
   ]
  },
  {
   "cell_type": "code",
   "execution_count": 8,
   "id": "3f57231a-3b21-4e63-8392-28920626aa36",
   "metadata": {},
   "outputs": [
    {
     "data": {
      "text/plain": [
       "36"
      ]
     },
     "execution_count": 8,
     "metadata": {},
     "output_type": "execute_result"
    }
   ],
   "source": [
    "tokenizer.add_tokens(new_tokens=['[修饰描述]', '[/修饰描述]',\n",
    "                                 '[否定描述]', '[/否定描述]',\n",
    "                                 '[器官组织]', '[/器官组织]',\n",
    "                                 '[属性]', '[/属性]',\n",
    "                                 '[异常现象]', '[/异常现象]',\n",
    "                                 '[手术]', '[/手术]',\n",
    "                                 '[指代]', '[/指代]',\n",
    "                                 '[数量]', '[/数量]',\n",
    "                                 '[期象]', '[/期象]',\n",
    "                                 '[检查手段]', '[/检查手段]',\n",
    "                                 '[测量值]', '[/测量值]',\n",
    "                                 '[疾病]', '[/疾病]',\n",
    "                                 '[病理分型]', '[/病理分型]',\n",
    "                                 '[病理分期]', '[/病理分期]',\n",
    "                                 '[病理分级]', '[/病理分级]',\n",
    "                                 '[累及部位]', '[/累及部位]',\n",
    "                                 '[阳性表现]', '[/阳性表现]',\n",
    "                                 '[阴性表现]', '[/阴性表现]'])"
   ]
  },
  {
   "cell_type": "code",
   "execution_count": 9,
   "id": "3ab8f3ce-acfd-4e67-9b8c-47b443f43950",
   "metadata": {},
   "outputs": [
    {
     "data": {
      "text/plain": [
       "('save_tokenizer/tokenizer_config.json',\n",
       " 'save_tokenizer/special_tokens_map.json',\n",
       " 'save_tokenizer/vocab.txt',\n",
       " 'save_tokenizer/added_tokens.json',\n",
       " 'save_tokenizer/tokenizer.json')"
      ]
     },
     "execution_count": 9,
     "metadata": {},
     "output_type": "execute_result"
    }
   ],
   "source": [
    "tokenizer.save_pretrained(\"save_tokenizer/\")"
   ]
  },
  {
   "cell_type": "code",
   "execution_count": 10,
   "id": "f9fc418d-9781-4302-b33e-faa0882a4822",
   "metadata": {},
   "outputs": [
    {
     "data": {
      "text/plain": [
       "PreTrainedTokenizerFast(name_or_path='save_tokenizer/', vocab_size=21128, model_max_len=1000000000000000019884624838656, is_fast=True, padding_side='right', truncation_side='right', special_tokens={'unk_token': '[UNK]', 'sep_token': '[SEP]', 'pad_token': '[PAD]', 'cls_token': '[CLS]', 'mask_token': '[MASK]'})"
      ]
     },
     "execution_count": 10,
     "metadata": {},
     "output_type": "execute_result"
    }
   ],
   "source": [
    "# 保存分词器(包括新添加的tokens)\n",
    "tokenizer_load = AutoTokenizer.from_pretrained('save_tokenizer/')\n",
    "tokenizer_load"
   ]
  }
 ],
 "metadata": {
  "kernelspec": {
   "display_name": "env_3812",
   "language": "python",
   "name": "env_3812"
  },
  "language_info": {
   "codemirror_mode": {
    "name": "ipython",
    "version": 3
   },
   "file_extension": ".py",
   "mimetype": "text/x-python",
   "name": "python",
   "nbconvert_exporter": "python",
   "pygments_lexer": "ipython3",
   "version": "3.8.12"
  }
 },
 "nbformat": 4,
 "nbformat_minor": 5
}