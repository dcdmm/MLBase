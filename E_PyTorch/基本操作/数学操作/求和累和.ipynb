{
 "cells": [
  {
   "cell_type": "code",
   "execution_count": 6,
   "outputs": [
    {
     "name": "stdout",
     "output_type": "stream",
     "text": [
      "tensor(2.9000)\n",
      "tensor([0.5000, 1.2000, 1.4000, 2.9000])\n"
     ]
    }
   ],
   "source": [
    "import torch\n",
    "\n",
    "# 类似numpy.sum/cumsum\n",
    "print(torch.sum(torch.tensor([0.5, 0.7, 0.2, 1.5]))) # 求和\n",
    "print(torch.cumsum(torch.tensor([0.5, 0.7, 0.2, 1.5]), dim=0)) # 累和"
   ],
   "metadata": {
    "collapsed": false,
    "pycharm": {
     "name": "#%%\n"
    }
   }
  },
  {
   "cell_type": "code",
   "execution_count": 7,
   "outputs": [
    {
     "name": "stdout",
     "output_type": "stream",
     "text": [
      "tensor(21)\n",
      "tensor([[1, 2, 3],\n",
      "        [5, 7, 9]])\n"
     ]
    }
   ],
   "source": [
    "a = torch.tensor([[1, 2, 3],\n",
    "                  [4, 5, 6]])\n",
    "print(torch.sum(a))\n",
    "print(torch.cumsum(a, dim=0)) # 必须指定dim"
   ],
   "metadata": {
    "pycharm": {
     "metadata": false,
     "name": "#%%\n"
    }
   }
  },
  {
   "cell_type": "code",
   "execution_count": 8,
   "outputs": [
    {
     "name": "stdout",
     "output_type": "stream",
     "text": [
      "tensor([5, 7, 9])\n",
      "tensor([[ 1,  3,  6],\n",
      "        [ 4,  9, 15]])\n"
     ]
    }
   ],
   "source": [
    "print(torch.sum(a, dim=0)) # 列和\n",
    "print(torch.cumsum(a, dim=1))"
   ],
   "metadata": {
    "pycharm": {
     "metadata": false,
     "name": "#%%\n"
    }
   }
  },
  {
   "cell_type": "code",
   "execution_count": 9,
   "outputs": [
    {
     "name": "stdout",
     "output_type": "stream",
     "text": [
      "tensor([ 1,  3,  6, 10, 15, 21])\n"
     ]
    }
   ],
   "source": [
    "print(torch.cumsum(a.flatten(), dim=0))"
   ],
   "metadata": {
    "collapsed": false,
    "pycharm": {
     "name": "#%%\n"
    }
   }
  },
  {
   "cell_type": "code",
   "execution_count": 10,
   "outputs": [
    {
     "data": {
      "text/plain": "tensor([ 2.5734, -0.9699])"
     },
     "execution_count": 10,
     "metadata": {},
     "output_type": "execute_result"
    }
   ],
   "source": [
    "a = torch.randn(2, 3, 4)\n",
    "torch.sum(a, dim=(1, 2)) # 注意:sum函数dim参数也可以为元组;第0个维度所有数据的和\n"
   ],
   "metadata": {
    "collapsed": false,
    "pycharm": {
     "name": "#%%\n"
    }
   }
  }
 ],
 "metadata": {
  "language_info": {
   "codemirror_mode": {
    "name": "ipython",
    "version": 2
   },
   "file_extension": ".py",
   "mimetype": "text/x-python",
   "name": "python",
   "nbconvert_exporter": "python",
   "pygments_lexer": "ipython2",
   "version": "2.7.6"
  },
  "kernelspec": {
   "name": "python3",
   "language": "python",
   "display_name": "Python 3"
  },
  "stem_cell": {
   "cell_type": "raw",
   "source": "",
   "metadata": {
    "pycharm": {
     "metadata": false
    }
   }
  }
 },
 "nbformat": 4,
 "nbformat_minor": 0
}