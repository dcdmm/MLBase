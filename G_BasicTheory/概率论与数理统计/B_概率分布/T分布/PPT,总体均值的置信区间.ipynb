{
 "cells": [
  {
   "cell_type": "markdown",
   "metadata": {
    "pycharm": {
     "metadata": false
    }
   },
   "source": [
    "## 百分点函数(Percent point function)\n",
    "CDF的反函数,PPF回答\"为了得到一定的概率,CDF相应的输入值是什么\""
   ]
  },
  {
   "cell_type": "code",
   "execution_count": 1,
   "metadata": {
    "pycharm": {
     "is_executing": false,
     "metadata": false,
     "name": "#%%\n"
    }
   },
   "outputs": [
    {
     "name": "stdout",
     "output_type": "stream",
     "text": [
      "-1.7291328115213678\n",
      "6.7258681808709e-17\n",
      "2.539483190622288\n"
     ]
    }
   ],
   "source": [
    "import numpy as np\n",
    "from scipy import  stats\n",
    "\n",
    "n = 20\n",
    "df = n-1\n",
    "print(stats.t.ppf(0.05, df))\n",
    "print(stats.t.ppf(0.5, df))\n",
    "print(stats.t.ppf(0.99, df))"
   ]
  },
  {
   "cell_type": "markdown",
   "metadata": {
    "pycharm": {
     "metadata": false
    }
   },
   "source": [
    "## 置信区间(反转一个检验统计量)\n",
    "&emsp;&emsp;当样本量小于30并且总体标准差$\\sigma$未知时,总体均值的置信区间为:  \n",
    "$$ (\\bar{x} - t_{\\alpha/2} \\frac{s}{\\sqrt{n}} ,\\bar{x} + t_{\\alpha/2} \\frac{s}{\\sqrt{n}}) $$"
   ]
  },
  {
   "cell_type": "code",
   "execution_count": 3,
   "metadata": {
    "collapsed": true,
    "pycharm": {
     "is_executing": false
    }
   },
   "outputs": [
    {
     "data": {
      "text/plain": [
       "(7.100095706426041, 7.624904293573959)"
      ]
     },
     "execution_count": 3,
     "metadata": {},
     "output_type": "execute_result"
    }
   ],
   "source": [
    "# 某地区成年人的睡眠时间服从正态分布,且总体方差未知,求该地区成年人平均睡眠时间的95%的置信区间\n",
    "data = np.array([6.5, 6.8, 6.8, 7, 7.1, 7.2, 7.2, 7.4, \n",
    "        7.4, 7.5, 7.5, 7.5, 7.6, 7.8, 8, 8.5])\n",
    "df = len(data) -1 # 自由度\n",
    "loc = np.mean(data) # loc对应\\bar{x}\n",
    "scale = stats.sem(data) # scale对应\\frac{s}{\\sqrt{n}),即标准误差\n",
    "ci = stats.t.interval(0.95, df=df, loc=loc, scale=scale) # 95%的置信区间\n",
    "ci\n"
   ]
  }
 ],
 "metadata": {
  "kernelspec": {
   "display_name": "Python 3",
   "language": "python",
   "name": "python3"
  },
  "language_info": {
   "codemirror_mode": {
    "name": "ipython",
    "version": 3
   },
   "file_extension": ".py",
   "mimetype": "text/x-python",
   "name": "python",
   "nbconvert_exporter": "python",
   "pygments_lexer": "ipython3",
   "version": "3.7.3"
  },
  "stem_cell": {
   "cell_type": "raw",
   "metadata": {
    "pycharm": {
     "metadata": false
    }
   },
   "source": ""
  },
  "pycharm": {
   "stem_cell": {
    "cell_type": "raw",
    "source": [],
    "metadata": {
     "collapsed": false
    }
   }
  }
 },
 "nbformat": 4,
 "nbformat_minor": 1
}