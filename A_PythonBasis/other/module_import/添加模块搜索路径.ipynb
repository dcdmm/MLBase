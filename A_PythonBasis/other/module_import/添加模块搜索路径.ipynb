{
 "cells": [
  {
   "cell_type": "code",
   "execution_count": 3,
   "metadata": {
    "collapsed": true,
    "ExecuteTime": {
     "end_time": "2023-12-26T07:07:33.897429900Z",
     "start_time": "2023-12-26T07:07:33.842154500Z"
    }
   },
   "outputs": [
    {
     "name": "stdout",
     "output_type": "stream",
     "text": [
      "['C:\\\\Users\\\\duanm\\\\anaconda3\\\\envs\\\\pytorch_env', 'C:\\\\Users\\\\duanm\\\\anaconda3\\\\envs\\\\pytorch_env\\\\lib\\\\site-packages']\n",
      "['C:\\\\Program Files\\\\JetBrains\\\\PyCharm 2021.3.3\\\\plugins\\\\python\\\\helpers-pro\\\\jupyter_debug', 'C:\\\\Program Files\\\\JetBrains\\\\PyCharm 2021.3.3\\\\plugins\\\\python\\\\helpers\\\\pydev', 'C:\\\\Users\\\\duanm\\\\Music\\\\GitHubProjects\\\\MLNote\\\\A_PythonBasis\\\\other', 'C:\\\\Users\\\\duanm\\\\Music\\\\GitHubProjects\\\\MLNote', 'C:\\\\Users\\\\duanm\\\\Music\\\\GitHubProjects\\\\MLNote\\\\A_PythonBasis\\\\other\\\\module_import\\\\base\\\\sources_root', 'C:\\\\Users\\\\duanm\\\\anaconda3\\\\envs\\\\pytorch_env\\\\python310.zip', 'C:\\\\Users\\\\duanm\\\\anaconda3\\\\envs\\\\pytorch_env\\\\DLLs', 'C:\\\\Users\\\\duanm\\\\anaconda3\\\\envs\\\\pytorch_env\\\\lib', 'C:\\\\Users\\\\duanm\\\\anaconda3\\\\envs\\\\pytorch_env', '', 'C:\\\\Users\\\\duanm\\\\anaconda3\\\\envs\\\\pytorch_env\\\\lib\\\\site-packages', 'C:\\\\Users\\\\duanm\\\\anaconda3\\\\envs\\\\pytorch_env\\\\lib\\\\site-packages\\\\win32', 'C:\\\\Users\\\\duanm\\\\anaconda3\\\\envs\\\\pytorch_env\\\\lib\\\\site-packages\\\\win32\\\\lib', 'C:\\\\Users\\\\duanm\\\\anaconda3\\\\envs\\\\pytorch_env\\\\lib\\\\site-packages\\\\Pythonwin', 'D:\\\\MyCode']\n"
     ]
    }
   ],
   "source": [
    "# 使用>import<语句导入一个第三方的模块时\n",
    "# Python解析器默认会在当前目录和path路径中搜索所有已安装的内置模块和第三方模块\n",
    "\"\"\"\n",
    "Python添加默认模块搜索路径:\n",
    "\n",
    "方法一：sys.path.append函数添加:\n",
    "import sys\n",
    "sys.path.append('D:\\PythonCode') # 临时添加(退出python环境后添加的路径会自动消失)\n",
    "for i in sys.path: # sys.path是python的搜索模块的路径集,为list数据类型\n",
    "    print(i)\n",
    "\n",
    "方法二：增加*.pth文件\n",
    "在所需的python(base/虚拟)环境的Lib\\site-packages目录中添加一个路径文件.如my_module_path.pth(必须以.pth为后缀),写入你要加入的模块文件所在的目录名称:\n",
    "如(Windows):D:\\work\\ai_inspection\n",
    "如(Linux):/root/work/ai-medic-predict\n",
    "\"\"\"\n",
    "\n",
    "import site\n",
    "\n",
    "# Returns a list containing all global site-packages directories.\n",
    "print(site.getsitepackages())\n",
    "\n",
    "import sys\n",
    "\n",
    "print(sys.path)"
   ]
  },
  {
   "cell_type": "code",
   "execution_count": 4,
   "outputs": [
    {
     "data": {
      "text/plain": "['C:\\\\Program Files\\\\JetBrains\\\\PyCharm 2021.3.3\\\\plugins\\\\python\\\\helpers-pro\\\\jupyter_debug',\n 'C:\\\\Program Files\\\\JetBrains\\\\PyCharm 2021.3.3\\\\plugins\\\\python\\\\helpers\\\\pydev',\n 'C:\\\\Users\\\\duanm\\\\Music\\\\GitHubProjects\\\\MLNote\\\\A_PythonBasis\\\\other',\n 'C:\\\\Users\\\\duanm\\\\Music\\\\GitHubProjects\\\\MLNote',\n 'C:\\\\Users\\\\duanm\\\\Music\\\\GitHubProjects\\\\MLNote\\\\A_PythonBasis\\\\other\\\\module_import\\\\base\\\\sources_root',\n 'C:\\\\Users\\\\duanm\\\\anaconda3\\\\envs\\\\pytorch_env\\\\python310.zip',\n 'C:\\\\Users\\\\duanm\\\\anaconda3\\\\envs\\\\pytorch_env\\\\DLLs',\n 'C:\\\\Users\\\\duanm\\\\anaconda3\\\\envs\\\\pytorch_env\\\\lib',\n 'C:\\\\Users\\\\duanm\\\\anaconda3\\\\envs\\\\pytorch_env',\n '',\n 'C:\\\\Users\\\\duanm\\\\anaconda3\\\\envs\\\\pytorch_env\\\\lib\\\\site-packages',\n 'C:\\\\Users\\\\duanm\\\\anaconda3\\\\envs\\\\pytorch_env\\\\lib\\\\site-packages\\\\win32',\n 'C:\\\\Users\\\\duanm\\\\anaconda3\\\\envs\\\\pytorch_env\\\\lib\\\\site-packages\\\\win32\\\\lib',\n 'C:\\\\Users\\\\duanm\\\\anaconda3\\\\envs\\\\pytorch_env\\\\lib\\\\site-packages\\\\Pythonwin',\n 'D:\\\\MyCode',\n 'D:\\\\MyCode']"
     },
     "execution_count": 4,
     "metadata": {},
     "output_type": "execute_result"
    }
   ],
   "source": [
    "sys.path.append('D:\\\\MyCode')\n",
    "sys.path"
   ],
   "metadata": {
    "collapsed": false,
    "pycharm": {
     "name": "#%%\n"
    },
    "ExecuteTime": {
     "end_time": "2023-12-26T07:07:33.897429900Z",
     "start_time": "2023-12-26T07:07:33.857554800Z"
    }
   }
  }
 ],
 "metadata": {
  "kernelspec": {
   "display_name": "Python 3",
   "language": "python",
   "name": "python3"
  },
  "language_info": {
   "codemirror_mode": {
    "name": "ipython",
    "version": 2
   },
   "file_extension": ".py",
   "mimetype": "text/x-python",
   "name": "python",
   "nbconvert_exporter": "python",
   "pygments_lexer": "ipython2",
   "version": "2.7.6"
  }
 },
 "nbformat": 4,
 "nbformat_minor": 0
}
