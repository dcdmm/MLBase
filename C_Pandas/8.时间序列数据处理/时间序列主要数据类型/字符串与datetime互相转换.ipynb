{
 "cells": [
  {
   "cell_type": "code",
   "execution_count": 47,
   "outputs": [],
   "source": [
    "from datetime import datetime"
   ],
   "metadata": {
    "collapsed": false,
    "pycharm": {
     "name": "#%%\n"
    }
   }
  },
  {
   "cell_type": "code",
   "execution_count": 48,
   "metadata": {},
   "outputs": [
    {
     "name": "stdout",
     "output_type": "stream",
     "text": [
      "<class 'str'> 2011-01-03 00:00:00\n",
      "<class 'str'> 2011-01-03\n"
     ]
    }
   ],
   "source": [
    "# datetime转字符串\n",
    "stamp = datetime(2011, 1, 3)\n",
    "print(type(str(stamp)), str(stamp))  # 直接全部转换\n",
    "print(type(stamp.strftime('%Y-%m-%d')), stamp.strftime('%Y-%m-%d'))"
   ]
  },
  {
   "cell_type": "code",
   "execution_count": 49,
   "metadata": {},
   "outputs": [
    {
     "data": {
      "text/plain": "'\\ndate,datetime,和time对象均支持使用strftime(format)方法,将指定的日期或时间转换\\n为自定义的格式化字符串相反的,datetime.strptime()类方法却是把格式化字符串转换为datetime对象\\n\\n格式化指令\\t                        含义\\n%a\\t        星期的简写（星期一 ~ 天：Mon, Tue, Wed, Thu, Fri, Sat, Sun）\\n%A\\t        星期的全写（星期一 ~ 天：Monday, Tuesday, Wednesday, Thursday, Friday, Saturday, Sunday）\\n%w\\t        在一个星期中的第几天（ 0 表示星期天 ... 6 表示星期六）\\n%W          一年中的星期数[00,53].以星期一为每周的第一天,一年中的第一个星期一前的日期作为第0周\\n%d\\t        在一个月中的第几天（01, 02, ..., 31）\\n%D          %m/%d%y的简写(例如:04/18/12)\\n%b\\t        月份的简写（一月 ~ 十二月：Jan, Feb, Mar, Apr, May, Jun, Jul, Aug, Sep, Oct, Nov, Dec）\\n%B\\t        月份的全写（一月 ~ 十二月：January, February, March, April, May, June, July, August, September, October, November, December）\\n%m\\t        月份（01, 02, ..., 12）\\n%y\\t        用两个数字表示年份（例如 2014年 == 14）\\n%Y\\t        用四个数字表示年份\\n%H\\t        二十四小时制（00, 01, ..., 23）\\n%I\\t        十二小时制（01, 02, ..., 11）\\n%p\\t        AM 或者 PM\\n%M\\t        分钟（00, 01, ..., 59）\\n%S\\t        秒（00, 01, ..., 59）\\n%f\\t        微秒（000000, 000001, ..., 999999）\\n%z\\t        与 UTC 时间的间隔 ；如果是本地时间，返回空字符串（(empty), +0000, -0400, +1030）\\n%Z\\t        时区名称；如果是本地时间，返回空字符串（(empty), UTC, EST, CST）\\n%j\\t        在一年中的第几天（001, 002, ..., 366）\\n%U\\t        在一年中的第几周，星期天作为第一天（00, 01, ..., 53）\\n%c\\t        用字符串表示日期和时间（Tue Aug 16 21:30:00 2014）\\n%x\\t        用字符串表示日期（08/16/14）\\n%X\\t        用字符串表示时间（21:30:00）\\n%%\\t        表示百分号\\n'"
     },
     "execution_count": 49,
     "metadata": {},
     "output_type": "execute_result"
    }
   ],
   "source": [
    "\"\"\"\n",
    "date,datetime,和time对象均支持使用strftime(format)方法,将指定的日期或时间转换\n",
    "为自定义的格式化字符串相反的,datetime.strptime()类方法却是把格式化字符串转换为datetime对象\n",
    "\n",
    "格式化指令\t                        含义\n",
    "%a\t        星期的简写（星期一 ~ 天：Mon, Tue, Wed, Thu, Fri, Sat, Sun）\n",
    "%A\t        星期的全写（星期一 ~ 天：Monday, Tuesday, Wednesday, Thursday, Friday, Saturday, Sunday）\n",
    "%w\t        在一个星期中的第几天（ 0 表示星期天 ... 6 表示星期六）\n",
    "%W          一年中的星期数[00,53].以星期一为每周的第一天,一年中的第一个星期一前的日期作为第0周\n",
    "%d\t        在一个月中的第几天（01, 02, ..., 31）\n",
    "%D          %m/%d%y的简写(例如:04/18/12)\n",
    "%b\t        月份的简写（一月 ~ 十二月：Jan, Feb, Mar, Apr, May, Jun, Jul, Aug, Sep, Oct, Nov, Dec）\n",
    "%B\t        月份的全写（一月 ~ 十二月：January, February, March, April, May, June, July, August, September, October, November, December）\n",
    "%m\t        月份（01, 02, ..., 12）\n",
    "%y\t        用两个数字表示年份（例如 2014年 == 14）\n",
    "%Y\t        用四个数字表示年份\n",
    "%H\t        二十四小时制（00, 01, ..., 23）\n",
    "%I\t        十二小时制（01, 02, ..., 11）\n",
    "%p\t        AM 或者 PM\n",
    "%M\t        分钟（00, 01, ..., 59）\n",
    "%S\t        秒（00, 01, ..., 59）\n",
    "%f\t        微秒（000000, 000001, ..., 999999）\n",
    "%z\t        与 UTC 时间的间隔 ；如果是本地时间，返回空字符串（(empty), +0000, -0400, +1030）\n",
    "%Z\t        时区名称；如果是本地时间，返回空字符串（(empty), UTC, EST, CST）\n",
    "%j\t        在一年中的第几天（001, 002, ..., 366）\n",
    "%U\t        在一年中的第几周，星期天作为第一天（00, 01, ..., 53）\n",
    "%c\t        用字符串表示日期和时间（Tue Aug 16 21:30:00 2014）\n",
    "%x\t        用字符串表示日期（08/16/14）\n",
    "%X\t        用字符串表示时间（21:30:00）\n",
    "%%\t        表示百分号\n",
    "\"\"\""
   ]
  },
  {
   "cell_type": "code",
   "execution_count": 50,
   "metadata": {},
   "outputs": [
    {
     "data": {
      "text/plain": "datetime.datetime(2019, 12, 1, 0, 0)"
     },
     "execution_count": 50,
     "metadata": {},
     "output_type": "execute_result"
    }
   ],
   "source": [
    "# 字符串转datatime\n",
    "value = '2019-12-01'\n",
    "datetime.strptime(value, '%Y-%m-%d')"
   ]
  },
  {
   "cell_type": "code",
   "execution_count": 51,
   "outputs": [
    {
     "data": {
      "text/plain": "datetime.datetime(2019, 12, 1, 0, 0)"
     },
     "execution_count": 51,
     "metadata": {},
     "output_type": "execute_result"
    }
   ],
   "source": [
    "value1 = '19-12-01'\n",
    "datetime.strptime(value1, '%y-%m-%d')"
   ],
   "metadata": {
    "collapsed": false,
    "pycharm": {
     "name": "#%%\n"
    }
   }
  },
  {
   "cell_type": "code",
   "execution_count": 52,
   "metadata": {},
   "outputs": [
    {
     "data": {
      "text/plain": "[datetime.datetime(2011, 7, 6, 0, 0), datetime.datetime(2011, 8, 6, 0, 0)]"
     },
     "execution_count": 52,
     "metadata": {},
     "output_type": "execute_result"
    }
   ],
   "source": [
    "datestrs = ['7/6/2011', '8/6/2011']\n",
    "[datetime.strptime(x, '%m/%d/%Y') for x in datestrs]  # %Y:四位的年份"
   ]
  },
  {
   "cell_type": "code",
   "execution_count": 53,
   "metadata": {},
   "outputs": [
    {
     "name": "stdout",
     "output_type": "stream",
     "text": [
      "<class 'datetime.datetime'>\n",
      "2011-01-03 00:00:00 2011 1 3\n"
     ]
    }
   ],
   "source": [
    "# 更好的办法如下:\n",
    "from dateutil.parser import parse\n",
    "\n",
    "s = parse('2011-01-03')\n",
    "print(type(s))\n",
    "print(s, s.year, s.month, s.day)"
   ]
  },
  {
   "cell_type": "code",
   "execution_count": 54,
   "metadata": {},
   "outputs": [
    {
     "data": {
      "text/plain": "datetime.datetime(1997, 1, 31, 22, 45)"
     },
     "execution_count": 54,
     "metadata": {},
     "output_type": "execute_result"
    }
   ],
   "source": [
    "# parse能够解析大部分人类可理解的日期表示\n",
    "parse('Jan 31, 1997 10:45 PM')"
   ]
  },
  {
   "cell_type": "code",
   "execution_count": 55,
   "outputs": [
    {
     "data": {
      "text/plain": "datetime.datetime(2011, 12, 6, 0, 0)"
     },
     "execution_count": 55,
     "metadata": {},
     "output_type": "execute_result"
    }
   ],
   "source": [
    "parse('6/12/2011', dayfirst=True)  # 日期出现在月份之前"
   ],
   "metadata": {
    "pycharm": {
     "metadata": false,
     "name": "#%%\n"
    }
   }
  },
  {
   "cell_type": "code",
   "execution_count": 56,
   "metadata": {},
   "outputs": [
    {
     "name": "stdout",
     "output_type": "stream",
     "text": [
      "2042-07-07 00:00:00\n",
      "2032-07-07 00:00:00\n",
      "2021-07-22 00:00:00\n"
     ]
    }
   ],
   "source": [
    "print(parse('42'))\n",
    "print(parse('32'))\n",
    "print(parse('22'))  # dateutil.parser是一个有用但并不完美的工具\n"
   ]
  }
 ],
 "metadata": {
  "kernelspec": {
   "name": "python3",
   "language": "python",
   "display_name": "Python 3"
  },
  "language_info": {
   "codemirror_mode": {
    "name": "ipython",
    "version": 2
   },
   "file_extension": ".py",
   "mimetype": "text/x-python",
   "name": "python",
   "nbconvert_exporter": "python",
   "pygments_lexer": "ipython2",
   "version": "2.7.6"
  }
 },
 "nbformat": 4,
 "nbformat_minor": 0
}