{
 "cells": [
  {
   "cell_type": "code",
   "execution_count": 5,
   "metadata": {
    "collapsed": true,
    "pycharm": {
     "name": "#%%\n"
    }
   },
   "outputs": [
    {
     "data": {
      "text/plain": "tensor([[0.3000, 0.3000, 0.3000, 0.3000, 0.3000],\n        [0.3000, 0.3000, 0.3000, 0.3000, 0.3000],\n        [0.3000, 0.3000, 0.3000, 0.3000, 0.3000]])"
     },
     "execution_count": 5,
     "metadata": {},
     "output_type": "execute_result"
    }
   ],
   "source": [
    "import torch\n",
    "import torch.nn as nn\n",
    "\n",
    "w = torch.empty(3, 5)\n",
    "# val – the value to fill the tensor with\n",
    "# ills the input Tensor with the value val\n",
    "nn.init.constant_(w, val=0.3) # In-place操作"
   ]
  },
  {
   "cell_type": "code",
   "execution_count": 6,
   "outputs": [
    {
     "data": {
      "text/plain": "tensor([[0.3000, 0.3000, 0.3000, 0.3000, 0.3000],\n        [0.3000, 0.3000, 0.3000, 0.3000, 0.3000],\n        [0.3000, 0.3000, 0.3000, 0.3000, 0.3000]])"
     },
     "execution_count": 6,
     "metadata": {},
     "output_type": "execute_result"
    }
   ],
   "source": [
    "w"
   ],
   "metadata": {
    "collapsed": false,
    "pycharm": {
     "name": "#%%\n"
    }
   }
  }
 ],
 "metadata": {
  "kernelspec": {
   "display_name": "Python 3",
   "language": "python",
   "name": "python3"
  },
  "language_info": {
   "codemirror_mode": {
    "name": "ipython",
    "version": 2
   },
   "file_extension": ".py",
   "mimetype": "text/x-python",
   "name": "python",
   "nbconvert_exporter": "python",
   "pygments_lexer": "ipython2",
   "version": "2.7.6"
  }
 },
 "nbformat": 4,
 "nbformat_minor": 0
}