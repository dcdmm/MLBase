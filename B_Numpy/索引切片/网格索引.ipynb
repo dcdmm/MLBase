{
 "cells": [
  {
   "cell_type": "code",
   "execution_count": 71,
   "metadata": {
    "collapsed": true
   },
   "outputs": [],
   "source": [
    "import numpy as np"
   ]
  },
  {
   "cell_type": "code",
   "execution_count": 72,
   "outputs": [
    {
     "data": {
      "text/plain": "array([[ 0,  1,  2,  3],\n       [ 4,  5,  6,  7],\n       [ 8,  9, 10, 11],\n       [12, 13, 14, 15],\n       [16, 17, 18, 19],\n       [20, 21, 22, 23],\n       [24, 25, 26, 27],\n       [28, 29, 30, 31]])"
     },
     "execution_count": 72,
     "metadata": {},
     "output_type": "execute_result"
    }
   ],
   "source": [
    "arr = np.arange(32).reshape((8, 4))\n",
    "arr"
   ],
   "metadata": {
    "collapsed": false,
    "pycharm": {
     "name": "#%%\n"
    }
   }
  },
  {
   "cell_type": "code",
   "execution_count": 73,
   "outputs": [
    {
     "data": {
      "text/plain": "array([ 4, 23, 29, 10])"
     },
     "execution_count": 73,
     "metadata": {},
     "output_type": "execute_result"
    }
   ],
   "source": [
    "# 选取索引为(1, 0),(5, 3),(7, 1),(2, 2)处的元素值组成[x, x, x, x]\n",
    "arr[[1, 5, 7, 2], [0, 3, 1, 2]]"
   ],
   "metadata": {
    "collapsed": false,
    "pycharm": {
     "name": "#%%\n"
    }
   }
  },
  {
   "cell_type": "code",
   "execution_count": 74,
   "outputs": [
    {
     "data": {
      "text/plain": "array([[ 0, 21, 15],\n       [10, 23,  5]])"
     },
     "execution_count": 74,
     "metadata": {},
     "output_type": "execute_result"
    }
   ],
   "source": [
    "# 选取索引为(0, 0),(5, 1),(3, 3),(2, 2),(5, 3),(1, 1)处的元素值组成[[x, x, x], [x, x, x]]\n",
    "arr[[[0, 5, 3],\n",
    "     [2, 5, 1]],\n",
    "    [[0, 1, 3],\n",
    "     [2, 3, 1]]]"
   ],
   "metadata": {
    "collapsed": false,
    "pycharm": {
     "name": "#%%\n"
    }
   }
  },
  {
   "cell_type": "code",
   "execution_count": 75,
   "outputs": [
    {
     "data": {
      "text/plain": "array([[    0,     1,     2,     3],\n       [11111,     5,     6,     7],\n       [    8,     9, 11111,    11],\n       [   12,    13,    14,    15],\n       [   16,    17,    18,    19],\n       [   20,    21,    22, 11111],\n       [   24,    25,    26,    27],\n       [   28, 11111,    30,    31]])"
     },
     "execution_count": 75,
     "metadata": {},
     "output_type": "execute_result"
    }
   ],
   "source": [
    "arr[[1, 5, 7, 2], [0, 3, 1, 2]] = 11111  # 与整数索引同理\n",
    "arr  # arr改变"
   ],
   "metadata": {
    "collapsed": false,
    "pycharm": {
     "name": "#%%\n"
    }
   }
  },
  {
   "cell_type": "code",
   "execution_count": 76,
   "outputs": [
    {
     "data": {
      "text/plain": "array([[[  0,   1,   2,   3,   4,   5],\n        [  6,   7,   8,   9,  10,  11],\n        [ 12,  13,  14,  15,  16,  17],\n        [ 18,  19,  20,  21,  22,  23]],\n\n       [[ 24,  25,  26,  27,  28,  29],\n        [ 30,  31,  32,  33,  34,  35],\n        [ 36,  37,  38,  39,  40,  41],\n        [ 42,  43,  44,  45,  46,  47]],\n\n       [[ 48,  49,  50,  51,  52,  53],\n        [ 54,  55,  56,  57,  58,  59],\n        [ 60,  61,  62,  63,  64,  65],\n        [ 66,  67,  68,  69,  70,  71]],\n\n       [[ 72,  73,  74,  75,  76,  77],\n        [ 78,  79,  80,  81,  82,  83],\n        [ 84,  85,  86,  87,  88,  89],\n        [ 90,  91,  92,  93,  94,  95]],\n\n       [[ 96,  97,  98,  99, 100, 101],\n        [102, 103, 104, 105, 106, 107],\n        [108, 109, 110, 111, 112, 113],\n        [114, 115, 116, 117, 118, 119]]])"
     },
     "execution_count": 76,
     "metadata": {},
     "output_type": "execute_result"
    }
   ],
   "source": [
    "arr1 = np.arange(120).reshape(5, 4, 6)\n",
    "arr1"
   ],
   "metadata": {
    "collapsed": false,
    "pycharm": {
     "name": "#%%\n"
    }
   }
  },
  {
   "cell_type": "code",
   "execution_count": 77,
   "outputs": [
    {
     "data": {
      "text/plain": "array([24, 19, 79, 61])"
     },
     "execution_count": 77,
     "metadata": {},
     "output_type": "execute_result"
    }
   ],
   "source": [
    "# 选取索引为(1, 0, 0),(0, 3, 1),(3, 1, 1),(2, 2, 1)处的元素值组成[x, x, x, x]\n",
    "arr1[[1, 0, 3, 2], [0, 3, 1, 2], [0, 1, 1, 1]]"
   ],
   "metadata": {
    "collapsed": false,
    "pycharm": {
     "name": "#%%\n"
    }
   }
  },
  {
   "cell_type": "code",
   "execution_count": 78,
   "outputs": [
    {
     "data": {
      "text/plain": "array([[24, 25, 26, 27, 28, 29],\n       [18, 19, 20, 21, 22, 23],\n       [78, 79, 80, 81, 82, 83],\n       [60, 61, 62, 63, 64, 65]])"
     },
     "execution_count": 78,
     "metadata": {},
     "output_type": "execute_result"
    }
   ],
   "source": [
    "# x_v表示向量(即[x, ...., x])\n",
    "# 同理x_m表示矩阵(即[[x, ..., x], [x, ..., x])\n",
    "# 选取索引为(1, 0, :),(0, 3, :),(3, 1, :),(2, 2, :)处的元素值组成[x_v, x_v, x_v, x_v]\n",
    "arr1[[1, 0, 3, 2], [0, 3, 1, 2], :]"
   ],
   "metadata": {
    "collapsed": false,
    "pycharm": {
     "name": "#%%\n"
    }
   }
  },
  {
   "cell_type": "code",
   "execution_count": 79,
   "outputs": [
    {
     "data": {
      "text/plain": "array([[[ 0,  1,  2,  3,  4,  5],\n        [30, 31, 32, 33, 34, 35],\n        [90, 91, 92, 93, 94, 95]],\n\n       [[60, 61, 62, 63, 64, 65],\n        [18, 19, 20, 21, 22, 23],\n        [30, 31, 32, 33, 34, 35]]])"
     },
     "execution_count": 79,
     "metadata": {},
     "output_type": "execute_result"
    }
   ],
   "source": [
    "# 选取索引为(0, 0, :),(1, 1, :),(3, 3, :),(2, 2, :),(0, 3, :),(1, 1, 1:)处的元素值\n",
    "# 组成[[x_v, x_v, x_v],\n",
    "#     [x_v, x_v, x_v]]\n",
    "arr1[[[0, 1, 3],\n",
    "      [2, 0, 1]],\n",
    "     [[0, 1, 3],\n",
    "      [2, 3, 1]]]"
   ],
   "metadata": {
    "collapsed": false,
    "pycharm": {
     "name": "#%%\n"
    }
   }
  },
  {
   "cell_type": "code",
   "execution_count": 79,
   "outputs": [],
   "source": [],
   "metadata": {
    "collapsed": false,
    "pycharm": {
     "name": "#%%\n"
    }
   }
  }
 ],
 "metadata": {
  "kernelspec": {
   "display_name": "Python 3",
   "language": "python",
   "name": "python3"
  },
  "language_info": {
   "codemirror_mode": {
    "name": "ipython",
    "version": 2
   },
   "file_extension": ".py",
   "mimetype": "text/x-python",
   "name": "python",
   "nbconvert_exporter": "python",
   "pygments_lexer": "ipython2",
   "version": "2.7.6"
  }
 },
 "nbformat": 4,
 "nbformat_minor": 0
}