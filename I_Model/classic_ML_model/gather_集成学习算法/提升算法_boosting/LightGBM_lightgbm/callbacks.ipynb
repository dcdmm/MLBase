{
 "cells": [
  {
   "cell_type": "markdown",
   "metadata": {
    "collapsed": true,
    "pycharm": {
     "name": "#%% md\n"
    }
   },
   "source": [
    "回调函数(通过callbacks参数传入)\n",
    "   * record_evaluation===>xgboost(evals_result)\n",
    "   * early_stopping===>xgboost(early_stopping_rounds)\n",
    "   * log_evaluation===>xgboost(verbose_eval)"
   ]
  },
  {
   "cell_type": "code",
   "execution_count": 81,
   "outputs": [],
   "source": [
    "import lightgbm as lgb\n",
    "from sklearn import datasets\n",
    "from sklearn.model_selection import train_test_split\n",
    "import numpy as np\n",
    "from sklearn.preprocessing import OrdinalEncoder"
   ],
   "metadata": {
    "collapsed": false,
    "pycharm": {
     "name": "#%%\n"
    }
   }
  },
  {
   "cell_type": "code",
   "execution_count": 82,
   "outputs": [
    {
     "name": "stdout",
     "output_type": "stream",
     "text": [
      "(2250, 54)\n",
      "(2250,)\n",
      "[1 2 3 4 5 6 7]\n"
     ]
    }
   ],
   "source": [
    "X = datasets.fetch_covtype().data[:3000]\n",
    "y = datasets.fetch_covtype().target[:3000]\n",
    "X_train, X_test, y_train, y_test = train_test_split(X, y)\n",
    "\n",
    "print(X_train.shape)\n",
    "print(y_train.shape)\n",
    "print(np.unique(y_train))  # 7分类任务"
   ],
   "metadata": {
    "collapsed": false,
    "pycharm": {
     "name": "#%%\n"
    }
   }
  },
  {
   "cell_type": "code",
   "execution_count": 83,
   "outputs": [
    {
     "name": "stdout",
     "output_type": "stream",
     "text": [
      "[0. 1. 2. 3. 4. 5. 6.]\n"
     ]
    }
   ],
   "source": [
    "enc = OrdinalEncoder()\n",
    "y_train_enc = enc.fit_transform(y_train.reshape(-1, 1)).reshape(-1, )\n",
    "y_test_enc = enc.transform(y_test.reshape(-1, 1)).reshape(-1, )\n",
    "print(np.unique(y_train_enc))"
   ],
   "metadata": {
    "collapsed": false,
    "pycharm": {
     "name": "#%%\n"
    }
   }
  },
  {
   "cell_type": "code",
   "execution_count": 84,
   "outputs": [],
   "source": [
    "train_dataset = lgb.Dataset(data=X_train, label=y_train_enc)"
   ],
   "metadata": {
    "collapsed": false,
    "pycharm": {
     "name": "#%%\n"
    }
   }
  },
  {
   "cell_type": "code",
   "execution_count": 85,
   "outputs": [
    {
     "data": {
      "text/plain": "{'training': OrderedDict([('multi_error',\n               [0.4266666666666667,\n                0.248,\n                0.164,\n                0.13466666666666666,\n                0.12088888888888889,\n                0.10844444444444444,\n                0.09688888888888889,\n                0.08933333333333333,\n                0.08266666666666667,\n                0.07866666666666666])]),\n 'valid_1': OrderedDict([('multi_error',\n               [0.48,\n                0.344,\n                0.268,\n                0.232,\n                0.22666666666666666,\n                0.21866666666666668,\n                0.20933333333333334,\n                0.19733333333333333,\n                0.19733333333333333,\n                0.19466666666666665])])}"
     },
     "execution_count": 85,
     "metadata": {},
     "output_type": "execute_result"
    }
   ],
   "source": [
    "evals_result = {}  # 储存评估指标(内置和自定义)结果\n",
    "# Create a callback that records the evaluation history into eval_result.\n",
    "re_func = lgb.record_evaluation(eval_result=evals_result)\n",
    "\n",
    "val_dataset = lgb.Dataset(data=X_test, label=y_test_enc)\n",
    "eval_set = [train_dataset, val_dataset]\n",
    "\n",
    "params = {\"objective\": \"multiclass\",\n",
    "          \"num_class\": 7,\n",
    "          \"metric\": \"multi_error\",\n",
    "          \"verbosity\": -1}\n",
    "lgb.train(params=params,\n",
    "          train_set=train_dataset,\n",
    "          valid_sets=eval_set,\n",
    "          num_boost_round=10,\n",
    "          # List of callback functions that are applied at each iteration.\n",
    "          callbacks=[re_func])\n",
    "'''\n",
    " after finishing a model training process will have the following structure:\n",
    "{\n",
    " 'training':\n",
    "     {\n",
    "      'multi_error': [0.48253, 0.35953, ...]\n",
    "     },\n",
    " 'valid1':\n",
    "     {\n",
    "      'multi_error': [0.480385, 0.357756, ...]\n",
    "     }\n",
    "}\n",
    "'''\n",
    "evals_result"
   ],
   "metadata": {
    "collapsed": false,
    "pycharm": {
     "name": "#%%\n"
    }
   }
  },
  {
   "cell_type": "code",
   "execution_count": 86,
   "outputs": [
    {
     "name": "stdout",
     "output_type": "stream",
     "text": [
      "Training until validation scores don't improve for 200 rounds\n",
      "Did not meet early stopping. Best iteration is:\n",
      "[49]\ttraining's multi_error: 0\tvalid_1's multi_error: 0.148\n"
     ]
    },
    {
     "data": {
      "text/plain": "<lightgbm.basic.Booster at 0x23b3a07c640>"
     },
     "execution_count": 86,
     "metadata": {},
     "output_type": "execute_result"
    }
   ],
   "source": [
    "# Create a callback that activates early stopping.\n",
    "es_func = lgb.early_stopping(stopping_rounds=200)\n",
    "\n",
    "val_dataset = lgb.Dataset(data=X_test, label=y_test_enc)\n",
    "eval_set = [train_dataset, val_dataset]\n",
    "\n",
    "params = {\"objective\": \"multiclass\",\n",
    "          \"num_class\": 7,\n",
    "          \"metric\": \"multi_error\",\n",
    "          \"verbosity\": -1}\n",
    "lgb.train(params=params,\n",
    "          train_set=train_dataset,\n",
    "          valid_sets=eval_set,\n",
    "          callbacks=[es_func])"
   ],
   "metadata": {
    "collapsed": false,
    "pycharm": {
     "name": "#%%\n"
    }
   }
  },
  {
   "cell_type": "code",
   "execution_count": 87,
   "outputs": [
    {
     "name": "stdout",
     "output_type": "stream",
     "text": [
      "[LightGBM] [Warning] Auto-choosing col-wise multi-threading, the overhead of testing was 0.000346 seconds.\n",
      "You can set `force_col_wise=true` to remove the overhead.\n",
      "[LightGBM] [Info] Total Bins 1871\n",
      "[LightGBM] [Info] Number of data points in the train set: 2250, number of used features: 33\n",
      "[LightGBM] [Info] Start training from score -1.818788\n",
      "[LightGBM] [Info] Start training from score -1.206940\n",
      "[LightGBM] [Info] Start training from score -2.487577\n",
      "[LightGBM] [Info] Start training from score -3.186086\n",
      "[LightGBM] [Info] Start training from score -1.320091\n",
      "[LightGBM] [Info] Start training from score -2.289340\n",
      "[LightGBM] [Info] Start training from score -3.083957\n",
      "[LightGBM] [Warning] No further splits with positive gain, best gain: -inf\n",
      "[LightGBM] [Warning] No further splits with positive gain, best gain: -inf\n",
      "[LightGBM] [Warning] No further splits with positive gain, best gain: -inf\n",
      "[LightGBM] [Warning] No further splits with positive gain, best gain: -inf\n",
      "[9]\ttraining's multi_error: 0.0826667\tvalid_1's multi_error: 0.197333\n",
      "[18]\ttraining's multi_error: 0.0417778\tvalid_1's multi_error: 0.164\n",
      "[27]\ttraining's multi_error: 0.0164444\tvalid_1's multi_error: 0.154667\n",
      "[36]\ttraining's multi_error: 0.00222222\tvalid_1's multi_error: 0.146667\n",
      "[45]\ttraining's multi_error: 0.000444444\tvalid_1's multi_error: 0.149333\n",
      "[54]\ttraining's multi_error: 0\tvalid_1's multi_error: 0.141333\n",
      "[63]\ttraining's multi_error: 0\tvalid_1's multi_error: 0.138667\n",
      "[72]\ttraining's multi_error: 0\tvalid_1's multi_error: 0.142667\n",
      "[81]\ttraining's multi_error: 0\tvalid_1's multi_error: 0.14\n",
      "[LightGBM] [Warning] No further splits with positive gain, best gain: -inf\n",
      "[LightGBM] [Warning] No further splits with positive gain, best gain: -inf\n",
      "[LightGBM] [Warning] No further splits with positive gain, best gain: -inf\n",
      "[LightGBM] [Warning] No further splits with positive gain, best gain: -inf\n",
      "[LightGBM] [Warning] No further splits with positive gain, best gain: -inf\n",
      "[LightGBM] [Warning] No further splits with positive gain, best gain: -inf\n",
      "[LightGBM] [Warning] No further splits with positive gain, best gain: -inf\n",
      "[LightGBM] [Warning] No further splits with positive gain, best gain: -inf\n",
      "[LightGBM] [Warning] No further splits with positive gain, best gain: -inf\n",
      "[90]\ttraining's multi_error: 0\tvalid_1's multi_error: 0.137333\n",
      "[LightGBM] [Warning] No further splits with positive gain, best gain: -inf\n",
      "[LightGBM] [Warning] No further splits with positive gain, best gain: -inf\n",
      "[LightGBM] [Warning] No further splits with positive gain, best gain: -inf\n",
      "[LightGBM] [Warning] No further splits with positive gain, best gain: -inf\n",
      "[LightGBM] [Warning] No further splits with positive gain, best gain: -inf\n",
      "[LightGBM] [Warning] No further splits with positive gain, best gain: -inf\n",
      "[LightGBM] [Warning] No further splits with positive gain, best gain: -inf\n",
      "[LightGBM] [Warning] No further splits with positive gain, best gain: -inf\n",
      "[LightGBM] [Warning] No further splits with positive gain, best gain: -inf\n",
      "[LightGBM] [Warning] No further splits with positive gain, best gain: -inf\n",
      "[LightGBM] [Warning] No further splits with positive gain, best gain: -inf\n",
      "[LightGBM] [Warning] No further splits with positive gain, best gain: -inf\n",
      "[LightGBM] [Warning] No further splits with positive gain, best gain: -inf\n",
      "[LightGBM] [Warning] No further splits with positive gain, best gain: -inf\n",
      "[LightGBM] [Warning] No further splits with positive gain, best gain: -inf\n",
      "[LightGBM] [Warning] No further splits with positive gain, best gain: -inf\n",
      "[99]\ttraining's multi_error: 0\tvalid_1's multi_error: 0.134667\n",
      "[LightGBM] [Warning] No further splits with positive gain, best gain: -inf\n",
      "[LightGBM] [Warning] No further splits with positive gain, best gain: -inf\n"
     ]
    },
    {
     "data": {
      "text/plain": "<lightgbm.basic.Booster at 0x23b3b3b37f0>"
     },
     "execution_count": 87,
     "metadata": {},
     "output_type": "execute_result"
    }
   ],
   "source": [
    "# Create a callback that logs the evaluation results.\n",
    "le_func = lgb.log_evaluation(\n",
    "    # period (int, optional (default=1)) –\n",
    "    # The period to log the evaluation results.\n",
    "    # The last boosting stage or the boosting stage found by using early_stopping callback is also logged.\n",
    "    period=9)\n",
    "\n",
    "val_dataset = lgb.Dataset(data=X_test, label=y_test_enc)\n",
    "eval_set = [train_dataset, val_dataset]\n",
    "\n",
    "params = {\"objective\": \"multiclass\",\n",
    "          \"num_class\": 7,\n",
    "          \"metric\": \"multi_error\"}\n",
    "\n",
    "lgb.train(params=params,\n",
    "          train_set=train_dataset,\n",
    "          valid_sets=eval_set,\n",
    "          callbacks=[le_func])"
   ],
   "metadata": {
    "collapsed": false,
    "pycharm": {
     "name": "#%%\n"
    }
   }
  }
 ],
 "metadata": {
  "kernelspec": {
   "display_name": "Python 3",
   "language": "python",
   "name": "python3"
  },
  "language_info": {
   "codemirror_mode": {
    "name": "ipython",
    "version": 2
   },
   "file_extension": ".py",
   "mimetype": "text/x-python",
   "name": "python",
   "nbconvert_exporter": "python",
   "pygments_lexer": "ipython2",
   "version": "2.7.6"
  }
 },
 "nbformat": 4,
 "nbformat_minor": 0
}