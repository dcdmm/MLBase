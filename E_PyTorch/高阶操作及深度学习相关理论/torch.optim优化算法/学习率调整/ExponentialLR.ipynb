{
 "cells": [
  {
   "cell_type": "markdown",
   "source": [
    "$$ \\alpha_t = \\alpha_0 \\gamma^t  $$\n",
    "\n",
    "其中$\\alpha_0$为初始学习率;$\\gamma$为衰减率"
   ],
   "metadata": {
    "collapsed": false,
    "pycharm": {
     "name": "#%% md\n"
    }
   }
  },
  {
   "cell_type": "code",
   "execution_count": 5,
   "outputs": [],
   "source": [
    "import torch\n",
    "import torch.optim as optim\n",
    "import matplotlib.pyplot as plt\n",
    "torch.manual_seed(1)\n",
    "\n",
    "LR = 1 # 学习率\n",
    "iteration = 10\n",
    "max_epoch = 200\n",
    "gamma = 0.94 # 衰减率\n",
    "\n",
    "weights = torch.tensor(1, requires_grad=True, dtype=torch.float32)\n",
    "target = torch.zeros(1)\n",
    "# Decays the learning rate of each parameter group by gamma every epoch.\n",
    "optimizer = optim.SGD([weights], lr=LR, momentum=0.9)\n",
    "scheduler_lr = optim.lr_scheduler.ExponentialLR(optimizer, # 调节的是优化器lr参数\n",
    "                                              gamma=gamma) # gamma (float) – Multiplicative factor of learning rate decay."
   ],
   "metadata": {
    "collapsed": false,
    "pycharm": {
     "name": "#%%\n"
    }
   }
  },
  {
   "cell_type": "code",
   "execution_count": 6,
   "outputs": [
    {
     "data": {
      "text/plain": "<Figure size 432x288 with 1 Axes>",
      "image/png": "[encoded data removed]"
     },
     "metadata": {
      "needs_background": "light"
     },
     "output_type": "display_data"
    }
   ],
   "source": [
    "lr_list, epoch_list = list(), list()\n",
    "for epoch in range(max_epoch):\n",
    "    # lr_list.append(optimizer.param_groups[0]['lr'])\n",
    "    lr_list.append(scheduler_lr.get_last_lr()) # 与上等价;Return last computed learning rate by current scheduler\n",
    "    epoch_list.append(epoch)\n",
    "    for i in range(iteration):\n",
    "        loss = torch.pow((weights - target), 2)\n",
    "        optimizer.zero_grad()\n",
    "        loss.backward()\n",
    "        optimizer.step() # 位于内层循环\n",
    "\n",
    "    scheduler_lr.step() # 位于外层循环\n",
    "\n",
    "plt.plot(epoch_list, lr_list, label=\"Step LR Scheduler\", color='red')\n",
    "plt.xlabel(\"Epoch\")\n",
    "plt.ylabel(\"Learning rate\")\n",
    "plt.legend()\n",
    "plt.show()"
   ],
   "metadata": {
    "collapsed": false,
    "pycharm": {
     "name": "#%%\n"
    }
   }
  },
  {
   "cell_type": "code",
   "execution_count": 6,
   "outputs": [],
   "source": [
    "\n"
   ],
   "metadata": {
    "collapsed": false,
    "pycharm": {
     "name": "#%%\n"
    }
   }
  }
 ],
 "metadata": {
  "kernelspec": {
   "display_name": "Python 3",
   "language": "python",
   "name": "python3"
  },
  "language_info": {
   "codemirror_mode": {
    "name": "ipython",
    "version": 2
   },
   "file_extension": ".py",
   "mimetype": "text/x-python",
   "name": "python",
   "nbconvert_exporter": "python",
   "pygments_lexer": "ipython2",
   "version": "2.7.6"
  }
 },
 "nbformat": 4,
 "nbformat_minor": 0
}