{
 "cells": [
  {
   "cell_type": "code",
   "execution_count": 1,
   "outputs": [
    {
     "name": "stdout",
     "text": [
      "inside MyDecorator.__init__()\ninside a_function()\ninside myDecorator.__call__()\n<class '__main__.MyDecorator'>\nMyDecorator\n"
     ],
     "output_type": "stream"
    }
   ],
   "source": [
    "class MyDecorator(object):\n",
    "    def __init__(self, function):\n",
    "        print(\"inside MyDecorator.__init__()\")\n",
    "        self.function = function\n",
    "        self.name = 'MyDecorator'\n",
    "\n",
    "    def __call__(self):\n",
    "        self.function()\n",
    "        print(\"inside myDecorator.__call__()\")\n",
    "\t\t\n",
    "@MyDecorator\n",
    "def a_function(): # 把当前a_function函数作为参数传入MyDecorator对象,调用__init__方法\n",
    "\tprint(\"inside a_function()\")\n",
    "    \n",
    "a_function()\n",
    "print(type(a_function)) # a_function为一个MyDecorator对象\n",
    "print(a_function.name)"
   ],
   "metadata": {
    "collapsed": false,
    "pycharm": {
     "name": "#%%\n",
     "is_executing": false
    }
   }
  },
  {
   "cell_type": "code",
   "execution_count": null,
   "outputs": [],
   "source": [
    "\n"
   ],
   "metadata": {
    "pycharm": {
     "metadata": false,
     "name": "#%%\n"
    }
   }
  }
 ],
 "metadata": {
  "language_info": {
   "codemirror_mode": {
    "name": "ipython",
    "version": 2
   },
   "file_extension": ".py",
   "mimetype": "text/x-python",
   "name": "python",
   "nbconvert_exporter": "python",
   "pygments_lexer": "ipython2",
   "version": "2.7.6"
  },
  "kernelspec": {
   "name": "python3",
   "language": "python",
   "display_name": "Python 3"
  },
  "pycharm": {
   "stem_cell": {
    "cell_type": "raw",
    "source": [],
    "metadata": {
     "collapsed": false
    }
   }
  }
 },
 "nbformat": 4,
 "nbformat_minor": 0
}