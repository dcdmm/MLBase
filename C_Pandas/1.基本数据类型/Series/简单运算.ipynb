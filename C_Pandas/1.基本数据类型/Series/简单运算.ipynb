{
 "cells": [
  {
   "cell_type": "code",
   "execution_count": 24,
   "outputs": [
    {
     "name": "stdout",
     "output_type": "stream",
     "text": [
      "a    7.3\n",
      "c   -2.5\n",
      "d    3.4\n",
      "e    1.5\n",
      "dtype: float64\n",
      "\n",
      "a   -2.1\n",
      "c    3.6\n",
      "e   -1.5\n",
      "f    4.0\n",
      "g    3.1\n",
      "dtype: float64\n",
      "\n",
      "a    3.3\n",
      "c    2.5\n",
      "d    3.4\n",
      "e    2.5\n",
      "dtype: float64\n"
     ]
    }
   ],
   "source": [
    "import pandas as pd\n",
    "import numpy as np\n",
    "\n",
    "s1 = pd.Series([7.3, -2.5, 3.4, 1.5], index=['a', 'c', 'd', 'e'])\n",
    "s2 = pd.Series([-2.1, 3.6, -1.5, 4, 3.1],\n",
    "               index=['a', 'c', 'e', 'f', 'g'])\n",
    "s3 = pd.Series([3.3, 2.5, 3.4, 2.5], index=['a', 'c', 'd', 'e'])\n",
    "print(s1, end='\\n\\n')\n",
    "print(s2, end='\\n\\n')\n",
    "print(s3)"
   ],
   "metadata": {
    "collapsed": false,
    "pycharm": {
     "name": "#%%\n"
    }
   }
  },
  {
   "cell_type": "code",
   "execution_count": 25,
   "outputs": [
    {
     "name": "stdout",
     "output_type": "stream",
     "text": [
      "a    5.2\n",
      "c    1.1\n",
      "d    NaN\n",
      "e    0.0\n",
      "f    NaN\n",
      "g    NaN\n",
      "dtype: float64\n",
      "\n",
      "a   -3.476190\n",
      "c   -0.694444\n",
      "d         NaN\n",
      "e   -1.000000\n",
      "f         NaN\n",
      "g         NaN\n",
      "dtype: float64\n",
      "\n",
      "a    9.4\n",
      "c   -6.1\n",
      "d    NaN\n",
      "e    3.0\n",
      "f    NaN\n",
      "g    NaN\n",
      "dtype: float64\n",
      "\n",
      "a   -15.33\n",
      "c    -9.00\n",
      "d      NaN\n",
      "e    -2.25\n",
      "f      NaN\n",
      "g      NaN\n",
      "dtype: float64\n",
      "\n"
     ]
    }
   ],
   "source": [
    "sum_12 = s1 + s2\n",
    "\n",
    "# sum_12索引为s1索引和s2索引的并集,未完全匹配的结果为NaN\n",
    "print(sum_12, end='\\n\\n')\n",
    "print(s1 / s2, end='\\n\\n')\n",
    "print(s1 - s2, end='\\n\\n')\n",
    "print(s1 * s2, end='\\n\\n')"
   ],
   "metadata": {
    "pycharm": {
     "metadata": false,
     "name": "#%%\n"
    }
   }
  },
  {
   "cell_type": "code",
   "execution_count": 26,
   "outputs": [
    {
     "name": "stdout",
     "output_type": "stream",
     "text": [
      "a    14.6\n",
      "c    -5.0\n",
      "d     6.8\n",
      "e     3.0\n",
      "dtype: float64\n",
      "\n",
      "a    9.3\n",
      "c   -0.5\n",
      "d    5.4\n",
      "e    3.5\n",
      "dtype: float64\n"
     ]
    }
   ],
   "source": [
    "print(s1 * 2, end='\\n\\n')  # 广播\n",
    "print(s1 + 2)"
   ],
   "metadata": {
    "pycharm": {
     "metadata": false,
     "name": "#%%\n"
    }
   }
  },
  {
   "cell_type": "code",
   "execution_count": 27,
   "outputs": [
    {
     "name": "stdout",
     "output_type": "stream",
     "text": [
      "a    8.3\n",
      "c   -0.5\n",
      "d    6.4\n",
      "e    5.5\n",
      "dtype: float64\n",
      "\n",
      "a    8.3\n",
      "c   -0.5\n",
      "d    6.4\n",
      "e    5.5\n",
      "dtype: float64\n"
     ]
    }
   ],
   "source": [
    "print(s1 + [1, 2, 3, 4], end='\\n\\n')  # 长度必须一致(使其正好一一对应)\n",
    "print(s1 + np.array([1, 2, 3, 4]))"
   ],
   "metadata": {
    "pycharm": {
     "metadata": false,
     "name": "#%%\n"
    }
   }
  },
  {
   "cell_type": "code",
   "execution_count": 28,
   "outputs": [
    {
     "name": "stdout",
     "output_type": "stream",
     "text": [
      "a    False\n",
      "c    False\n",
      "d    False\n",
      "e     True\n",
      "dtype: bool\n"
     ]
    }
   ],
   "source": [
    "print(s1 == 1.5)  # 返回值为Series"
   ],
   "metadata": {
    "pycharm": {
     "metadata": false,
     "name": "#%%\n"
    }
   }
  },
  {
   "cell_type": "code",
   "execution_count": 29,
   "outputs": [
    {
     "name": "stdout",
     "output_type": "stream",
     "text": [
      "a     True\n",
      "c    False\n",
      "d    False\n",
      "e    False\n",
      "dtype: bool\n"
     ]
    }
   ],
   "source": [
    "print(s1 > s3)  # s1和s3进行比较(要求两者index必须相同)"
   ],
   "metadata": {
    "pycharm": {
     "metadata": false,
     "name": "#%%\n"
    }
   }
  },
  {
   "cell_type": "code",
   "execution_count": 29,
   "outputs": [],
   "source": "\n",
   "metadata": {
    "pycharm": {
     "metadata": false,
     "name": "#%%\n"
    }
   }
  }
 ],
 "metadata": {
  "language_info": {
   "codemirror_mode": {
    "name": "ipython",
    "version": 2
   },
   "file_extension": ".py",
   "mimetype": "text/x-python",
   "name": "python",
   "nbconvert_exporter": "python",
   "pygments_lexer": "ipython2",
   "version": "2.7.6"
  },
  "kernelspec": {
   "name": "python3",
   "language": "python",
   "display_name": "Python 3"
  }
 },
 "nbformat": 4,
 "nbformat_minor": 0
}