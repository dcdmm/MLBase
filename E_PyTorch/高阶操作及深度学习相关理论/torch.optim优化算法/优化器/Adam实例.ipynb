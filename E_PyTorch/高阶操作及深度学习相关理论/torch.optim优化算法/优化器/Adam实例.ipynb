{
 "cells": [
  {
   "cell_type": "code",
   "execution_count": 1,
   "outputs": [],
   "source": [
    "from abc import ABC\n",
    "import torch.nn as nn\n",
    "import torch.optim as optim\n",
    "import numpy as np\n",
    "import torch.utils.data as Data\n",
    "import torch"
   ],
   "metadata": {
    "collapsed": false,
    "pycharm": {
     "name": "#%%\n"
    }
   }
  },
  {
   "cell_type": "code",
   "execution_count": 2,
   "outputs": [],
   "source": [
    "# 手写数字训练数据集\n",
    "mnist = np.load(\"../../../../Other/datasets/NumPy/mnist.npz\")\n",
    "X_train, y_train, X_test, y_test = torch.unsqueeze(torch.tensor(mnist['x_train']), 1).to(dtype=torch.float32), \\\n",
    "                                   torch.tensor(mnist['y_train']).to(dtype=torch.long), \\\n",
    "                                   torch.unsqueeze(torch.tensor(mnist['x_test']), 1).to(dtype=torch.float32), \\\n",
    "                                   torch.tensor(mnist['y_test']).to(dtype=torch.long)"
   ],
   "metadata": {
    "collapsed": false,
    "pycharm": {
     "name": "#%%\n"
    }
   }
  },
  {
   "cell_type": "code",
   "execution_count": 3,
   "outputs": [],
   "source": [
    "batch_size = 200\n",
    "train_data = Data.TensorDataset(X_train, y_train)\n",
    "train_loader = Data.DataLoader(dataset=train_data,\n",
    "                               batch_size=batch_size,\n",
    "                               shuffle=True)\n",
    "train_X = Data.DataLoader(X_train, batch_size=batch_size)\n",
    "test_X = Data.DataLoader(X_test, batch_size=batch_size)"
   ],
   "metadata": {
    "collapsed": false,
    "pycharm": {
     "name": "#%%\n"
    }
   }
  },
  {
   "cell_type": "code",
   "execution_count": 4,
   "outputs": [],
   "source": [
    "class LeNet(nn.Module, ABC):\n",
    "    def __init__(self):\n",
    "        super(LeNet, self).__init__()\n",
    "        self.featrues = nn.Sequential(  # 内部实现了forward函数;各模块顺序执行\n",
    "            nn.Conv2d(1, 6, 3),\n",
    "            nn.ReLU(),\n",
    "            nn.MaxPool2d(2, 2),\n",
    "            nn.Conv2d(6, 16, 3),\n",
    "            nn.ReLU(),\n",
    "            nn.MaxPool2d(2, 2)\n",
    "        )\n",
    "        self.classifier = nn.Sequential(\n",
    "            nn.Linear(400, 120),\n",
    "            nn.ReLU(),\n",
    "            nn.Linear(120, 84),\n",
    "            nn.ReLU(),\n",
    "            nn.Linear(84, 10),  # 10分类问题\n",
    "        )\n",
    "\n",
    "    def forward(self, x):\n",
    "        x = self.featrues(x)\n",
    "        x = x.reshape(x.size()[0], -1)\n",
    "        x = self.classifier(x)\n",
    "        return x"
   ],
   "metadata": {
    "collapsed": false,
    "pycharm": {
     "name": "#%%\n"
    }
   }
  },
  {
   "cell_type": "code",
   "execution_count": 5,
   "outputs": [],
   "source": [
    "learning_rate = 0.001\n",
    "criteon = nn.CrossEntropyLoss()  # 定义损失函数为交叉熵\n",
    "net = LeNet()\n",
    "device = torch.device(\"cuda\" if torch.cuda.is_available() else \"cpu\")\n",
    "lenet = net.to(device)  # 模型设备转移必须在优化器定义前执行\n",
    "\n",
    "# Adam优化器\n",
    "optimizer = optim.Adam(net.parameters(),\n",
    "                       lr=learning_rate,  # 学习率\\epsilon;默认lr=0.0001\n",
    "                       weight_decay=1e-3,  # L2正则化系数,默认weight_decay=0\n",
    "                       betas=(0.9, 0.999),  # \\rho_1, \\rho_2;默认betas=(0.9, 0.999)\n",
    "                       eps=1e-8)  # 分母中的小常数\\delta;默认eps=1e-8"
   ],
   "metadata": {
    "collapsed": false,
    "pycharm": {
     "name": "#%%\n"
    }
   }
  },
  {
   "cell_type": "code",
   "execution_count": 6,
   "outputs": [],
   "source": [
    "from torch_model.train_evaluate import Train_Evaluate\n",
    "\n",
    "t_and_v = Train_Evaluate(model=lenet, optimizer=optimizer, criterion=criteon, epochs=5)"
   ],
   "metadata": {
    "collapsed": false,
    "pycharm": {
     "name": "#%%\n"
    }
   }
  },
  {
   "cell_type": "code",
   "execution_count": 7,
   "outputs": [
    {
     "name": "stderr",
     "output_type": "stream",
     "text": [
      "C:\\Users\\duanm\\anaconda3\\lib\\site-packages\\torch\\nn\\functional.py:718: UserWarning: Named tensors and all their associated APIs are an experimental feature and subject to change. Please do not use them for anything important until they are released as stable. (Triggered internally at  ..\\c10/core/TensorImpl.h:1156.)\n",
      "  return torch.max_pool2d(input, kernel_size, stride, padding, dilation, ceil_mode)\n"
     ]
    },
    {
     "name": "stdout",
     "output_type": "stream",
     "text": [
      "Train Epoch: 0  [0    /60000 (0  %)]\tLoss: 4.723341\n",
      "Train Epoch: 0  [2000 /60000 (3  %)]\tLoss: 1.295726\n",
      "Train Epoch: 0  [4000 /60000 (7  %)]\tLoss: 0.708319\n",
      "Train Epoch: 0  [6000 /60000 (10 %)]\tLoss: 0.415257\n",
      "Train Epoch: 0  [8000 /60000 (13 %)]\tLoss: 0.279995\n",
      "Train Epoch: 0  [10000/60000 (17 %)]\tLoss: 0.174913\n",
      "Train Epoch: 0  [12000/60000 (20 %)]\tLoss: 0.192690\n",
      "Train Epoch: 0  [14000/60000 (23 %)]\tLoss: 0.188699\n",
      "Train Epoch: 0  [16000/60000 (27 %)]\tLoss: 0.163230\n",
      "Train Epoch: 0  [18000/60000 (30 %)]\tLoss: 0.137284\n",
      "Train Epoch: 0  [20000/60000 (33 %)]\tLoss: 0.206824\n",
      "Train Epoch: 0  [22000/60000 (37 %)]\tLoss: 0.117392\n",
      "Train Epoch: 0  [24000/60000 (40 %)]\tLoss: 0.154653\n",
      "Train Epoch: 0  [26000/60000 (43 %)]\tLoss: 0.101859\n",
      "Train Epoch: 0  [28000/60000 (47 %)]\tLoss: 0.132074\n",
      "Train Epoch: 0  [30000/60000 (50 %)]\tLoss: 0.114138\n",
      "Train Epoch: 0  [32000/60000 (53 %)]\tLoss: 0.077699\n",
      "Train Epoch: 0  [34000/60000 (57 %)]\tLoss: 0.092885\n",
      "Train Epoch: 0  [36000/60000 (60 %)]\tLoss: 0.111894\n",
      "Train Epoch: 0  [38000/60000 (63 %)]\tLoss: 0.081668\n",
      "Train Epoch: 0  [40000/60000 (67 %)]\tLoss: 0.049453\n",
      "Train Epoch: 0  [42000/60000 (70 %)]\tLoss: 0.146099\n",
      "Train Epoch: 0  [44000/60000 (73 %)]\tLoss: 0.093903\n",
      "Train Epoch: 0  [46000/60000 (77 %)]\tLoss: 0.086703\n",
      "Train Epoch: 0  [48000/60000 (80 %)]\tLoss: 0.054648\n",
      "Train Epoch: 0  [50000/60000 (83 %)]\tLoss: 0.129898\n",
      "Train Epoch: 0  [52000/60000 (87 %)]\tLoss: 0.070924\n",
      "Train Epoch: 0  [54000/60000 (90 %)]\tLoss: 0.142150\n",
      "Train Epoch: 0  [56000/60000 (93 %)]\tLoss: 0.035051\n",
      "Train Epoch: 0  [58000/60000 (97 %)]\tLoss: 0.069774\n",
      "Train Epoch: 0  [60000/60000 (100%)]\tLoss: 0.128089\n",
      "----------------------------------------------------------------------------------------------------\n",
      "Train Epoch: 1  [0    /60000 (0  %)]\tLoss: 0.124668\n",
      "Train Epoch: 1  [2000 /60000 (3  %)]\tLoss: 0.058611\n",
      "Train Epoch: 1  [4000 /60000 (7  %)]\tLoss: 0.073419\n",
      "Train Epoch: 1  [6000 /60000 (10 %)]\tLoss: 0.127991\n",
      "Train Epoch: 1  [8000 /60000 (13 %)]\tLoss: 0.071353\n",
      "Train Epoch: 1  [10000/60000 (17 %)]\tLoss: 0.036794\n",
      "Train Epoch: 1  [12000/60000 (20 %)]\tLoss: 0.057771\n",
      "Train Epoch: 1  [14000/60000 (23 %)]\tLoss: 0.083508\n",
      "Train Epoch: 1  [16000/60000 (27 %)]\tLoss: 0.033378\n",
      "Train Epoch: 1  [18000/60000 (30 %)]\tLoss: 0.155299\n",
      "Train Epoch: 1  [20000/60000 (33 %)]\tLoss: 0.054781\n",
      "Train Epoch: 1  [22000/60000 (37 %)]\tLoss: 0.056692\n",
      "Train Epoch: 1  [24000/60000 (40 %)]\tLoss: 0.075983\n",
      "Train Epoch: 1  [26000/60000 (43 %)]\tLoss: 0.089645\n",
      "Train Epoch: 1  [28000/60000 (47 %)]\tLoss: 0.048390\n",
      "Train Epoch: 1  [30000/60000 (50 %)]\tLoss: 0.059330\n",
      "Train Epoch: 1  [32000/60000 (53 %)]\tLoss: 0.052284\n",
      "Train Epoch: 1  [34000/60000 (57 %)]\tLoss: 0.019124\n",
      "Train Epoch: 1  [36000/60000 (60 %)]\tLoss: 0.126371\n",
      "Train Epoch: 1  [38000/60000 (63 %)]\tLoss: 0.067142\n",
      "Train Epoch: 1  [40000/60000 (67 %)]\tLoss: 0.056374\n",
      "Train Epoch: 1  [42000/60000 (70 %)]\tLoss: 0.021318\n",
      "Train Epoch: 1  [44000/60000 (73 %)]\tLoss: 0.047207\n",
      "Train Epoch: 1  [46000/60000 (77 %)]\tLoss: 0.060048\n",
      "Train Epoch: 1  [48000/60000 (80 %)]\tLoss: 0.072097\n",
      "Train Epoch: 1  [50000/60000 (83 %)]\tLoss: 0.043128\n",
      "Train Epoch: 1  [52000/60000 (87 %)]\tLoss: 0.087944\n",
      "Train Epoch: 1  [54000/60000 (90 %)]\tLoss: 0.057481\n",
      "Train Epoch: 1  [56000/60000 (93 %)]\tLoss: 0.083456\n",
      "Train Epoch: 1  [58000/60000 (97 %)]\tLoss: 0.090218\n",
      "Train Epoch: 1  [60000/60000 (100%)]\tLoss: 0.142201\n",
      "----------------------------------------------------------------------------------------------------\n",
      "Train Epoch: 2  [0    /60000 (0  %)]\tLoss: 0.048971\n",
      "Train Epoch: 2  [2000 /60000 (3  %)]\tLoss: 0.034658\n",
      "Train Epoch: 2  [4000 /60000 (7  %)]\tLoss: 0.045282\n",
      "Train Epoch: 2  [6000 /60000 (10 %)]\tLoss: 0.044127\n",
      "Train Epoch: 2  [8000 /60000 (13 %)]\tLoss: 0.079412\n",
      "Train Epoch: 2  [10000/60000 (17 %)]\tLoss: 0.105830\n",
      "Train Epoch: 2  [12000/60000 (20 %)]\tLoss: 0.027312\n",
      "Train Epoch: 2  [14000/60000 (23 %)]\tLoss: 0.041257\n",
      "Train Epoch: 2  [16000/60000 (27 %)]\tLoss: 0.075626\n",
      "Train Epoch: 2  [18000/60000 (30 %)]\tLoss: 0.032973\n",
      "Train Epoch: 2  [20000/60000 (33 %)]\tLoss: 0.014448\n",
      "Train Epoch: 2  [22000/60000 (37 %)]\tLoss: 0.037528\n",
      "Train Epoch: 2  [24000/60000 (40 %)]\tLoss: 0.026413\n",
      "Train Epoch: 2  [26000/60000 (43 %)]\tLoss: 0.052025\n",
      "Train Epoch: 2  [28000/60000 (47 %)]\tLoss: 0.055743\n",
      "Train Epoch: 2  [30000/60000 (50 %)]\tLoss: 0.027191\n",
      "Train Epoch: 2  [32000/60000 (53 %)]\tLoss: 0.039568\n",
      "Train Epoch: 2  [34000/60000 (57 %)]\tLoss: 0.080620\n",
      "Train Epoch: 2  [36000/60000 (60 %)]\tLoss: 0.056676\n",
      "Train Epoch: 2  [38000/60000 (63 %)]\tLoss: 0.079237\n",
      "Train Epoch: 2  [40000/60000 (67 %)]\tLoss: 0.049759\n",
      "Train Epoch: 2  [42000/60000 (70 %)]\tLoss: 0.019906\n",
      "Train Epoch: 2  [44000/60000 (73 %)]\tLoss: 0.014097\n",
      "Train Epoch: 2  [46000/60000 (77 %)]\tLoss: 0.089012\n",
      "Train Epoch: 2  [48000/60000 (80 %)]\tLoss: 0.034736\n",
      "Train Epoch: 2  [50000/60000 (83 %)]\tLoss: 0.042913\n",
      "Train Epoch: 2  [52000/60000 (87 %)]\tLoss: 0.045626\n",
      "Train Epoch: 2  [54000/60000 (90 %)]\tLoss: 0.019129\n",
      "Train Epoch: 2  [56000/60000 (93 %)]\tLoss: 0.038635\n",
      "Train Epoch: 2  [58000/60000 (97 %)]\tLoss: 0.046366\n",
      "Train Epoch: 2  [60000/60000 (100%)]\tLoss: 0.047690\n",
      "----------------------------------------------------------------------------------------------------\n",
      "Train Epoch: 3  [0    /60000 (0  %)]\tLoss: 0.015419\n",
      "Train Epoch: 3  [2000 /60000 (3  %)]\tLoss: 0.081141\n",
      "Train Epoch: 3  [4000 /60000 (7  %)]\tLoss: 0.028623\n",
      "Train Epoch: 3  [6000 /60000 (10 %)]\tLoss: 0.014279\n",
      "Train Epoch: 3  [8000 /60000 (13 %)]\tLoss: 0.029038\n",
      "Train Epoch: 3  [10000/60000 (17 %)]\tLoss: 0.040905\n",
      "Train Epoch: 3  [12000/60000 (20 %)]\tLoss: 0.011177\n",
      "Train Epoch: 3  [14000/60000 (23 %)]\tLoss: 0.039326\n",
      "Train Epoch: 3  [16000/60000 (27 %)]\tLoss: 0.016163\n",
      "Train Epoch: 3  [18000/60000 (30 %)]\tLoss: 0.060510\n",
      "Train Epoch: 3  [20000/60000 (33 %)]\tLoss: 0.079707\n",
      "Train Epoch: 3  [22000/60000 (37 %)]\tLoss: 0.013350\n",
      "Train Epoch: 3  [24000/60000 (40 %)]\tLoss: 0.016606\n",
      "Train Epoch: 3  [26000/60000 (43 %)]\tLoss: 0.039079\n",
      "Train Epoch: 3  [28000/60000 (47 %)]\tLoss: 0.027710\n",
      "Train Epoch: 3  [30000/60000 (50 %)]\tLoss: 0.050953\n",
      "Train Epoch: 3  [32000/60000 (53 %)]\tLoss: 0.052986\n",
      "Train Epoch: 3  [34000/60000 (57 %)]\tLoss: 0.034531\n",
      "Train Epoch: 3  [36000/60000 (60 %)]\tLoss: 0.034850\n",
      "Train Epoch: 3  [38000/60000 (63 %)]\tLoss: 0.011038\n",
      "Train Epoch: 3  [40000/60000 (67 %)]\tLoss: 0.061055\n",
      "Train Epoch: 3  [42000/60000 (70 %)]\tLoss: 0.009429\n",
      "Train Epoch: 3  [44000/60000 (73 %)]\tLoss: 0.017611\n",
      "Train Epoch: 3  [46000/60000 (77 %)]\tLoss: 0.049306\n",
      "Train Epoch: 3  [48000/60000 (80 %)]\tLoss: 0.052947\n",
      "Train Epoch: 3  [50000/60000 (83 %)]\tLoss: 0.070048\n",
      "Train Epoch: 3  [52000/60000 (87 %)]\tLoss: 0.035591\n",
      "Train Epoch: 3  [54000/60000 (90 %)]\tLoss: 0.065614\n",
      "Train Epoch: 3  [56000/60000 (93 %)]\tLoss: 0.044243\n",
      "Train Epoch: 3  [58000/60000 (97 %)]\tLoss: 0.032407\n",
      "Train Epoch: 3  [60000/60000 (100%)]\tLoss: 0.053136\n",
      "----------------------------------------------------------------------------------------------------\n",
      "Train Epoch: 4  [0    /60000 (0  %)]\tLoss: 0.014291\n",
      "Train Epoch: 4  [2000 /60000 (3  %)]\tLoss: 0.076477\n",
      "Train Epoch: 4  [4000 /60000 (7  %)]\tLoss: 0.014002\n",
      "Train Epoch: 4  [6000 /60000 (10 %)]\tLoss: 0.026902\n",
      "Train Epoch: 4  [8000 /60000 (13 %)]\tLoss: 0.035634\n",
      "Train Epoch: 4  [10000/60000 (17 %)]\tLoss: 0.045836\n",
      "Train Epoch: 4  [12000/60000 (20 %)]\tLoss: 0.073748\n",
      "Train Epoch: 4  [14000/60000 (23 %)]\tLoss: 0.016862\n",
      "Train Epoch: 4  [16000/60000 (27 %)]\tLoss: 0.013239\n",
      "Train Epoch: 4  [18000/60000 (30 %)]\tLoss: 0.022757\n",
      "Train Epoch: 4  [20000/60000 (33 %)]\tLoss: 0.014246\n",
      "Train Epoch: 4  [22000/60000 (37 %)]\tLoss: 0.043406\n",
      "Train Epoch: 4  [24000/60000 (40 %)]\tLoss: 0.029938\n",
      "Train Epoch: 4  [26000/60000 (43 %)]\tLoss: 0.061166\n",
      "Train Epoch: 4  [28000/60000 (47 %)]\tLoss: 0.029077\n",
      "Train Epoch: 4  [30000/60000 (50 %)]\tLoss: 0.020278\n",
      "Train Epoch: 4  [32000/60000 (53 %)]\tLoss: 0.021401\n",
      "Train Epoch: 4  [34000/60000 (57 %)]\tLoss: 0.019152\n",
      "Train Epoch: 4  [36000/60000 (60 %)]\tLoss: 0.022872\n",
      "Train Epoch: 4  [38000/60000 (63 %)]\tLoss: 0.014695\n",
      "Train Epoch: 4  [40000/60000 (67 %)]\tLoss: 0.039882\n",
      "Train Epoch: 4  [42000/60000 (70 %)]\tLoss: 0.008058\n",
      "Train Epoch: 4  [44000/60000 (73 %)]\tLoss: 0.040763\n",
      "Train Epoch: 4  [46000/60000 (77 %)]\tLoss: 0.092492\n",
      "Train Epoch: 4  [48000/60000 (80 %)]\tLoss: 0.032657\n",
      "Train Epoch: 4  [50000/60000 (83 %)]\tLoss: 0.089513\n",
      "Train Epoch: 4  [52000/60000 (87 %)]\tLoss: 0.078379\n",
      "Train Epoch: 4  [54000/60000 (90 %)]\tLoss: 0.012018\n",
      "Train Epoch: 4  [56000/60000 (93 %)]\tLoss: 0.019725\n",
      "Train Epoch: 4  [58000/60000 (97 %)]\tLoss: 0.034700\n",
      "Train Epoch: 4  [60000/60000 (100%)]\tLoss: 0.023239\n",
      "----------------------------------------------------------------------------------------------------\n"
     ]
    },
    {
     "data": {
      "text/plain": "[[0.09243426471948624, 0.09799468517303467],\n [0.05535062029957771, 0.06014716252684593],\n [0.03398586064577103, 0.04857257381081581],\n [0.02933192253112793, 0.04378315433859825],\n [0.020704414695501328, 0.03875381499528885]]"
     },
     "execution_count": 7,
     "metadata": {},
     "output_type": "execute_result"
    }
   ],
   "source": [
    "metric_reslut = t_and_v.train_eval(train_loader=train_loader, valid_sets=[(train_X, y_train), (test_X, y_test)])\n",
    "metric_reslut # 每一轮验证数据集的损失值"
   ],
   "metadata": {
    "collapsed": false,
    "pycharm": {
     "name": "#%%\n"
    }
   }
  },
  {
   "cell_type": "code",
   "execution_count": 8,
   "outputs": [],
   "source": [],
   "metadata": {
    "collapsed": false,
    "pycharm": {
     "name": "#%%\n"
    }
   }
  }
 ],
 "metadata": {
  "kernelspec": {
   "display_name": "Python 3",
   "language": "python",
   "name": "python3"
  },
  "language_info": {
   "codemirror_mode": {
    "name": "ipython",
    "version": 2
   },
   "file_extension": ".py",
   "mimetype": "text/x-python",
   "name": "python",
   "nbconvert_exporter": "python",
   "pygments_lexer": "ipython2",
   "version": "2.7.6"
  }
 },
 "nbformat": 4,
 "nbformat_minor": 0
}