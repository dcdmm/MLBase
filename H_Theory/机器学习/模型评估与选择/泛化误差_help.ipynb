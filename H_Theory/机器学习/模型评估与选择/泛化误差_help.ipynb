{
 "cells": [
  {
   "cell_type": "markdown",
   "metadata": {
    "collapsed": true,
    "pycharm": {
     "name": "#%% md\n"
    }
   },
   "source": [
    "&emsp;&emsp;学习方法的泛化能力(generalization ability)是指由该学习方法学习到的模型对未知数据的预测\n",
    "能力.现实中采用最多的方法是通过测试误差来评价学习方法的泛化能力.但这种评价是依赖于测试数据\n",
    "集的.因为测试数据集是有限的,很有可能由此得到的评价结果是不可靠的.     \n",
    "&emsp;&emsp;如果学到的模型是$ \\hat f $,那么用这个模型对未知数据预测的误差即为泛化误差(generalization error):    \n",
    "\\begin{align}\n",
    "R_{exp}(\\hat{f}) &= E_P[L(Y,\\hat{f}(X))] \\\\\n",
    "                 &= \\int _{\\mathcal{X} \\times \\mathcal{Y}}  L(y, \\hat{f}(\\mathbf{x})) P(\\mathbf{x}, y)) d\\mathbf{x}dy  \n",
    "\\end{align}    \n",
    "&emsp;&emsp;泛化误差反映了学习方法的泛化能力,如果一种学习方法的模型比另一种方法学习的模型具有更小的泛化误差,那么这种\n",
    "方法就更有效果.事实上,泛化误差就是所学习到的模型的期望风险. "
   ]
  }
 ],
 "metadata": {
  "kernelspec": {
   "display_name": "Python 3",
   "language": "python",
   "name": "python3"
  },
  "language_info": {
   "codemirror_mode": {
    "name": "ipython",
    "version": 2
   },
   "file_extension": ".py",
   "mimetype": "text/x-python",
   "name": "python",
   "nbconvert_exporter": "python",
   "pygments_lexer": "ipython2",
   "version": "2.7.6"
  },
  "pycharm": {
   "stem_cell": {
    "cell_type": "raw",
    "source": [],
    "metadata": {
     "collapsed": false
    }
   }
  }
 },
 "nbformat": 4,
 "nbformat_minor": 0
}