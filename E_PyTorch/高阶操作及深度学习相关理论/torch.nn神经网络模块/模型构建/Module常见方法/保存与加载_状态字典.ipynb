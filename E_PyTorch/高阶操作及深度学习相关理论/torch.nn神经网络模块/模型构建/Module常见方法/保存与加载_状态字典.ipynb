{
 "cells": [
  {
   "cell_type": "code",
   "execution_count": 209,
   "metadata": {
    "collapsed": true
   },
   "outputs": [],
   "source": [
    "from abc import ABC\n",
    "import torch\n",
    "import torch.nn as nn\n",
    "import copy"
   ]
  },
  {
   "cell_type": "code",
   "execution_count": 210,
   "outputs": [],
   "source": [
    "x0, y0 = torch.normal(mean=1.7, std=1, size=(100, 2)) + 1, torch.zeros(100)  # 数据集1\n",
    "x1, y1 = torch.normal(mean=-1.7, std=1, size=(100, 2)) + 1, torch.ones(100)  # 数据集2\n",
    "train_x, train_y = torch.cat((x0, x1), 0), torch.cat((y0, y1), 0)\n",
    "\n",
    "\n",
    "class LR(nn.Module, ABC):\n",
    "    def __init__(self):\n",
    "        super(LR, self).__init__()\n",
    "        self.features0 = nn.Linear(2, 2)\n",
    "        self.features1 = nn.Linear(2, 1)\n",
    "        self.sigmoid = nn.Sigmoid()\n",
    "\n",
    "    def forward(self, x):\n",
    "        x = self.features0(x)\n",
    "        x = self.features1(x)\n",
    "        x = self.sigmoid(x)\n",
    "        return x\n",
    "\n",
    "\n",
    "lr_net = LR()\n",
    "loss_fn = nn.BCELoss()\n",
    "optimizer = torch.optim.SGD(lr_net.parameters(), lr=0.01, momentum=0.9)"
   ],
   "metadata": {
    "collapsed": false,
    "pycharm": {
     "name": "#%%\n"
    }
   }
  },
  {
   "cell_type": "code",
   "execution_count": 211,
   "outputs": [
    {
     "name": "stdout",
     "output_type": "stream",
     "text": [
      "features0.weight\n",
      "features0.bias\n",
      "features1.weight\n",
      "features1.bias\n"
     ]
    }
   ],
   "source": [
    "for name, para in lr_net.named_parameters():\n",
    "    print(name)"
   ],
   "metadata": {
    "collapsed": false,
    "pycharm": {
     "name": "#%%\n"
    }
   }
  },
  {
   "cell_type": "code",
   "execution_count": 212,
   "outputs": [
    {
     "data": {
      "text/plain": "OrderedDict([('features0.weight',\n              tensor([[-0.4356,  0.2673],\n                      [ 0.0616, -0.6159]])),\n             ('features0.bias', tensor([-0.4102, -0.2546])),\n             ('features1.weight', tensor([[-0.0896,  0.0550]])),\n             ('features1.bias', tensor([-0.3759]))])"
     },
     "execution_count": 212,
     "metadata": {},
     "output_type": "execute_result"
    }
   ],
   "source": [
    "lr_dict_init = copy.deepcopy(lr_net.state_dict())  # OrderedDict\n",
    "lr_dict_init"
   ],
   "metadata": {
    "collapsed": false,
    "pycharm": {
     "name": "#%%\n"
    }
   }
  },
  {
   "cell_type": "code",
   "execution_count": 213,
   "outputs": [
    {
     "name": "stdout",
     "output_type": "stream",
     "text": [
      "iteration：0,    loss: 0.6967438459396362\n",
      "iteration：20,    loss: 0.4755525290966034\n",
      "iteration：40,    loss: 0.24046087265014648\n",
      "iteration：60,    loss: 0.1566372662782669\n",
      "iteration：80,    loss: 0.11610709130764008\n",
      "iteration：100,    loss: 0.09247508645057678\n",
      "iteration：120,    loss: 0.07726152241230011\n",
      "iteration：140,    loss: 0.06672447174787521\n",
      "iteration：160,    loss: 0.05904078856110573\n",
      "iteration：180,    loss: 0.05322685092687607\n",
      "iteration：200,    loss: 0.04869944602251053\n",
      "iteration：220,    loss: 0.04508866369724274\n",
      "iteration：240,    loss: 0.042149100452661514\n",
      "iteration：260,    loss: 0.0397125743329525\n",
      "iteration：280,    loss: 0.03766081854701042\n",
      "iteration：300,    loss: 0.035908836871385574\n",
      "iteration：320,    loss: 0.03439432010054588\n",
      "iteration：340,    loss: 0.033070798963308334\n",
      "iteration：360,    loss: 0.03190302476286888\n",
      "iteration：380,    loss: 0.030863866209983826\n",
      "iteration：400,    loss: 0.029932165518403053\n",
      "iteration：420,    loss: 0.029091153293848038\n",
      "iteration：440,    loss: 0.028327440842986107\n",
      "iteration：460,    loss: 0.02763020247220993\n",
      "iteration：480,    loss: 0.026990575715899467\n"
     ]
    }
   ],
   "source": [
    "for iteration in range(500):\n",
    "    optimizer.zero_grad()  # 梯度清零\n",
    "    y_pred = lr_net(train_x)\n",
    "    loss = loss_fn(y_pred.squeeze(), train_y)\n",
    "    loss.backward()\n",
    "    optimizer.step()\n",
    "\n",
    "    if iteration % 20 == 0:\n",
    "        print(\"iteration：{iteration},    loss: {loss}\".format(iteration=iteration, loss=loss))"
   ],
   "metadata": {
    "collapsed": false,
    "pycharm": {
     "name": "#%%\n"
    }
   }
  },
  {
   "cell_type": "code",
   "execution_count": 214,
   "outputs": [
    {
     "data": {
      "text/plain": "OrderedDict([('features0.weight',\n              tensor([[-0.2577,  0.3256],\n                      [-1.2212, -0.9174]])),\n             ('features0.bias', tensor([-0.6274,  1.4793])),\n             ('features1.weight', tensor([[-0.3847,  2.0133]])),\n             ('features1.bias', tensor([1.2211]))])"
     },
     "execution_count": 214,
     "metadata": {},
     "output_type": "execute_result"
    }
   ],
   "source": [
    "lr_dict = lr_net.state_dict()  # Returns a dictionary containing a whole state of the module\n",
    "lr_dict"
   ],
   "metadata": {
    "collapsed": false,
    "pycharm": {
     "name": "#%%\n"
    }
   }
  },
  {
   "cell_type": "code",
   "execution_count": 215,
   "outputs": [
    {
     "data": {
      "text/plain": "OrderedDict([('features0.weight',\n              tensor([[-0.4356,  0.2673],\n                      [ 0.0616, -0.6159]])),\n             ('features0.bias', tensor([-0.4102, -0.2546])),\n             ('features1.weight', tensor([[-0.0896,  0.0550]])),\n             ('features1.bias', tensor([-0.3759]))])"
     },
     "execution_count": 215,
     "metadata": {},
     "output_type": "execute_result"
    }
   ],
   "source": [
    "lr_dict_init"
   ],
   "metadata": {
    "collapsed": false,
    "pycharm": {
     "name": "#%%\n"
    }
   }
  },
  {
   "cell_type": "code",
   "execution_count": 216,
   "outputs": [],
   "source": [
    "torch.save(lr_dict,\n",
    "           'torch_dict.pth')  # 保存的状态字典的文件"
   ],
   "metadata": {
    "collapsed": false,
    "pycharm": {
     "name": "#%%\n"
    }
   }
  },
  {
   "cell_type": "code",
   "execution_count": 217,
   "outputs": [
    {
     "data": {
      "text/plain": "LR(\n  (features0): Linear(in_features=2, out_features=2, bias=True)\n  (features1): Linear(in_features=2, out_features=1, bias=True)\n  (sigmoid): Sigmoid()\n)"
     },
     "execution_count": 217,
     "metadata": {},
     "output_type": "execute_result"
    }
   ],
   "source": [
    "lr_net_new = LR()  # 定义一个新的模型\n",
    "\n",
    "# torch.load():Loads an object saved with torch.save() from a file.\n",
    "# .load_state_dict():Copies parameters and buffers from :attr:`state_dict` into this module and its descendants\n",
    "lr_net_new.load_state_dict(torch.load('torch_dict.pth'))\n",
    "lr_net_new"
   ],
   "metadata": {
    "collapsed": false,
    "pycharm": {
     "name": "#%%\n"
    }
   }
  },
  {
   "cell_type": "code",
   "execution_count": 218,
   "outputs": [
    {
     "data": {
      "text/plain": "OrderedDict([('features0.weight',\n              tensor([[-0.2577,  0.3256],\n                      [-1.2212, -0.9174]])),\n             ('features0.bias', tensor([-0.6274,  1.4793])),\n             ('features1.weight', tensor([[-0.3847,  2.0133]])),\n             ('features1.bias', tensor([1.2211]))])"
     },
     "execution_count": 218,
     "metadata": {},
     "output_type": "execute_result"
    }
   ],
   "source": [
    "lr_net_new.state_dict()"
   ],
   "metadata": {
    "collapsed": false,
    "pycharm": {
     "name": "#%%\n"
    }
   }
  },
  {
   "cell_type": "code",
   "execution_count": 218,
   "outputs": [],
   "source": [],
   "metadata": {
    "collapsed": false,
    "pycharm": {
     "name": "#%%\n"
    }
   }
  }
 ],
 "metadata": {
  "kernelspec": {
   "display_name": "Python 3",
   "language": "python",
   "name": "python3"
  },
  "language_info": {
   "codemirror_mode": {
    "name": "ipython",
    "version": 2
   },
   "file_extension": ".py",
   "mimetype": "text/x-python",
   "name": "python",
   "nbconvert_exporter": "python",
   "pygments_lexer": "ipython2",
   "version": "2.7.6"
  }
 },
 "nbformat": 4,
 "nbformat_minor": 0
}