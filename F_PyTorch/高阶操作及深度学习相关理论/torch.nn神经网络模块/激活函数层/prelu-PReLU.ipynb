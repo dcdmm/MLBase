{
 "cells": [
  {
   "cell_type": "markdown",
   "metadata": {
    "collapsed": true,
    "pycharm": {
     "name": "#%% md\n"
    }
   },
   "source": [
    "\\begin{align}\n",
    "\\operatorname{PReLU}(x) &=\\left\\{\\begin{array}{ll}\n",
    "x & \\text { if } x>0 \\\\\n",
    "a x & \\text { if } x \\leq 0\n",
    "\\end{array}\\right. \\\\\\\\\\\n",
    "&=\\max (0, x)+ a \\min (0, x)\n",
    "\\end{align}"
   ]
  },
  {
   "cell_type": "code",
   "execution_count": 4,
   "outputs": [],
   "source": [
    "import torch\n",
    "import torch.nn.functional as F\n",
    "import matplotlib.pyplot as plt\n",
    "import torch.nn as nn"
   ],
   "metadata": {
    "collapsed": false,
    "pycharm": {
     "name": "#%%\n"
    }
   }
  },
  {
   "cell_type": "code",
   "execution_count": 5,
   "outputs": [
    {
     "data": {
      "text/plain": "[<matplotlib.lines.Line2D at 0x2c7c9415bc8>]"
     },
     "execution_count": 5,
     "metadata": {},
     "output_type": "execute_result"
    },
    {
     "data": {
      "text/plain": "<Figure size 432x288 with 1 Axes>",
      "image/png": "[encoded data removed]"
     },
     "metadata": {
      "needs_background": "light"
     },
     "output_type": "display_data"
    }
   ],
   "source": [
    "x = torch.linspace(-5, 5, 200)\n",
    "prelu_f = F.prelu(x, weight=torch.tensor([0.4], # weight是可学习的参数\n",
    "                                         dtype=torch.float32))\n",
    "\n",
    "plt.plot(x, prelu_f)"
   ],
   "metadata": {
    "collapsed": false,
    "pycharm": {
     "name": "#%%\n"
    }
   }
  },
  {
   "cell_type": "code",
   "execution_count": 6,
   "outputs": [
    {
     "data": {
      "text/plain": "tensor([-1.2500, -1.2374, -1.2249, -1.2123, -1.1997, -1.1872, -1.1746, -1.1621,\n        -1.1495, -1.1369, -1.1244, -1.1118, -1.0992, -1.0867, -1.0741, -1.0616,\n        -1.0490, -1.0364, -1.0239, -1.0113, -0.9987, -0.9862, -0.9736, -0.9611,\n        -0.9485, -0.9359, -0.9234, -0.9108, -0.8982, -0.8857, -0.8731, -0.8606,\n        -0.8480, -0.8354, -0.8229, -0.8103, -0.7977, -0.7852, -0.7726, -0.7601,\n        -0.7475, -0.7349, -0.7224, -0.7098, -0.6972, -0.6847, -0.6721, -0.6595,\n        -0.6470, -0.6344, -0.6219, -0.6093, -0.5967, -0.5842, -0.5716, -0.5590,\n        -0.5465, -0.5339, -0.5214, -0.5088, -0.4962, -0.4837, -0.4711, -0.4585,\n        -0.4460, -0.4334, -0.4209, -0.4083, -0.3957, -0.3832, -0.3706, -0.3580,\n        -0.3455, -0.3329, -0.3204, -0.3078, -0.2952, -0.2827, -0.2701, -0.2575,\n        -0.2450, -0.2324, -0.2198, -0.2073, -0.1947, -0.1822, -0.1696, -0.1570,\n        -0.1445, -0.1319, -0.1193, -0.1068, -0.0942, -0.0817, -0.0691, -0.0565,\n        -0.0440, -0.0314, -0.0188, -0.0063,  0.0251,  0.0754,  0.1256,  0.1759,\n         0.2261,  0.2764,  0.3266,  0.3769,  0.4271,  0.4774,  0.5276,  0.5779,\n         0.6281,  0.6784,  0.7286,  0.7789,  0.8291,  0.8794,  0.9296,  0.9799,\n         1.0302,  1.0804,  1.1307,  1.1809,  1.2312,  1.2814,  1.3317,  1.3819,\n         1.4322,  1.4824,  1.5327,  1.5829,  1.6332,  1.6834,  1.7337,  1.7839,\n         1.8342,  1.8844,  1.9347,  1.9849,  2.0352,  2.0854,  2.1357,  2.1859,\n         2.2362,  2.2864,  2.3367,  2.3869,  2.4372,  2.4874,  2.5377,  2.5879,\n         2.6382,  2.6884,  2.7387,  2.7889,  2.8392,  2.8894,  2.9397,  2.9899,\n         3.0402,  3.0905,  3.1407,  3.1910,  3.2412,  3.2915,  3.3417,  3.3920,\n         3.4422,  3.4925,  3.5427,  3.5930,  3.6432,  3.6935,  3.7437,  3.7940,\n         3.8442,  3.8945,  3.9447,  3.9950,  4.0452,  4.0955,  4.1457,  4.1960,\n         4.2462,  4.2965,  4.3467,  4.3970,  4.4472,  4.4975,  4.5477,  4.5980,\n         4.6482,  4.6985,  4.7487,  4.7990,  4.8492,  4.8995,  4.9497,  5.0000],\n       grad_fn=<PreluBackward>)"
     },
     "execution_count": 6,
     "metadata": {},
     "output_type": "execute_result"
    }
   ],
   "source": [
    "prelu_c = nn.PReLU()\n",
    "prelu_c(x)"
   ],
   "metadata": {
    "collapsed": false,
    "pycharm": {
     "name": "#%%\n"
    }
   }
  },
  {
   "cell_type": "code",
   "execution_count": null,
   "outputs": [],
   "source": [
    "\n"
   ],
   "metadata": {
    "collapsed": false,
    "pycharm": {
     "name": "#%%\n"
    }
   }
  }
 ],
 "metadata": {
  "kernelspec": {
   "display_name": "Python 3",
   "language": "python",
   "name": "python3"
  },
  "language_info": {
   "codemirror_mode": {
    "name": "ipython",
    "version": 2
   },
   "file_extension": ".py",
   "mimetype": "text/x-python",
   "name": "python",
   "nbconvert_exporter": "python",
   "pygments_lexer": "ipython2",
   "version": "2.7.6"
  }
 },
 "nbformat": 4,
 "nbformat_minor": 0
}