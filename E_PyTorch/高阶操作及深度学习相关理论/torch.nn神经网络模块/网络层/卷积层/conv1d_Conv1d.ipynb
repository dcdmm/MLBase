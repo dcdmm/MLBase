{
 "cells": [
  {
   "cell_type": "markdown",
   "metadata": {
    "collapsed": true,
    "pycharm": {
     "name": "#%% md\n"
    }
   },
   "source": [
    "* input:$(N, C_{in}, L_{in})$\n",
    "\n",
    "* output:$(N, C_{out}, L_{out})$\n",
    "\n",
    "$$ L_{out} = \\left \\lfloor \\frac{L_{in} + 2 \\times padding[0] - dilation[0] \\times(kernel\\_size[0]-1)-1}{stride[0]} +1  \\right \\rfloor \\\\ $$"
   ]
  },
  {
   "cell_type": "code",
   "execution_count": 20,
   "outputs": [],
   "source": [
    "import torch\n",
    "import torch.nn.functional as F\n",
    "import torch.nn as nn"
   ],
   "metadata": {
    "collapsed": false,
    "pycharm": {
     "name": "#%%\n"
    }
   }
  },
  {
   "cell_type": "code",
   "execution_count": 21,
   "outputs": [],
   "source": [
    "enter = torch.randn(33, 16, 30)"
   ],
   "metadata": {
    "collapsed": false,
    "pycharm": {
     "name": "#%%\n"
    }
   }
  },
  {
   "cell_type": "code",
   "execution_count": 22,
   "outputs": [
    {
     "data": {
      "text/plain": "torch.Size([33, 20, 26])"
     },
     "execution_count": 22,
     "metadata": {},
     "output_type": "execute_result"
    }
   ],
   "source": [
    "filters = torch.randn(20, 16, 5)\n",
    "\n",
    "'''\n",
    "input – input tensor of shape (minibatch, in_channels, iW)\n",
    "weight – filters of shape (out_channels, in_channels/groups, kW)\n",
    "bias – optional bias of shape (out_channels). Default: None\n",
    "stride – the stride of the convolving kernel. Can be a single number or a one-element tuple (sW,). Default: 1\n",
    "'''\n",
    "F.conv1d(input=enter, weight=filters, stride=1, bias=None).shape"
   ],
   "metadata": {
    "collapsed": false,
    "pycharm": {
     "name": "#%%\n"
    }
   }
  },
  {
   "cell_type": "code",
   "execution_count": 23,
   "outputs": [
    {
     "data": {
      "text/plain": "torch.Size([33, 33, 28])"
     },
     "execution_count": 23,
     "metadata": {},
     "output_type": "execute_result"
    }
   ],
   "source": [
    "# padding (int, tuple or str, optional) – Padding added to both sides of the input. Default: 0\n",
    "m = nn.Conv1d(in_channels=16,\n",
    "              out_channels=33,  # out_channels (int): Number of channels produced by the convolution\n",
    "              kernel_size=3, # 1D卷积中,kernel_size只能是单个整数(或单个整数的元组)\n",
    "              stride=1,  # 1D卷积中,stride只能是单个整数(或单个整数的元组)\n",
    "              # Default: 0 padding='valid' is the same as no padding.\n",
    "              # padding='same' pads the input so the output has the shape as the input. However, this mode doesn’t support any stride values other than 1.\n",
    "              padding='valid')  # 1D卷积中,padding可选值有\"valid\",\"same\",★★★★★单个整数(或整数元组)\n",
    "output = m(enter)\n",
    "output.shape"
   ],
   "metadata": {
    "collapsed": false,
    "pycharm": {
     "name": "#%%\n"
    }
   }
  },
  {
   "cell_type": "code",
   "execution_count": 24,
   "outputs": [
    {
     "data": {
      "text/plain": "Parameter containing:\ntensor([[[ 0.1184, -0.1350, -0.0826],\n         [-0.1319,  0.0929, -0.0437],\n         [ 0.0129, -0.0743,  0.0683],\n         ...,\n         [-0.0307, -0.1363,  0.0616],\n         [ 0.0188,  0.1227,  0.0058],\n         [-0.1072, -0.0506, -0.0502]],\n\n        [[-0.0883, -0.0122,  0.0987],\n         [-0.1385, -0.0591,  0.0541],\n         [ 0.0640,  0.0636,  0.1180],\n         ...,\n         [-0.1228, -0.1312, -0.1079],\n         [ 0.0203, -0.0487,  0.0539],\n         [-0.0954, -0.1120,  0.0053]],\n\n        [[ 0.0176,  0.0220,  0.0780],\n         [-0.0051, -0.0504, -0.0087],\n         [-0.0915,  0.1297, -0.0563],\n         ...,\n         [ 0.0103,  0.0468,  0.0923],\n         [ 0.0471, -0.0502, -0.0171],\n         [ 0.0835,  0.1137, -0.1236]],\n\n        ...,\n\n        [[ 0.0034,  0.0759,  0.1333],\n         [-0.0373, -0.0325, -0.0947],\n         [-0.0661,  0.0530, -0.0426],\n         ...,\n         [-0.1026,  0.1165,  0.0917],\n         [ 0.1075, -0.1025, -0.0901],\n         [-0.0155, -0.0093,  0.0748]],\n\n        [[ 0.1396, -0.0226, -0.1225],\n         [-0.0757,  0.1437,  0.0844],\n         [-0.0197, -0.0380,  0.0814],\n         ...,\n         [ 0.0317,  0.0727,  0.1354],\n         [-0.0175,  0.1283, -0.0041],\n         [ 0.1205,  0.0799,  0.0947]],\n\n        [[-0.0962,  0.0787, -0.1241],\n         [ 0.1107,  0.0705, -0.0110],\n         [-0.0681, -0.0343, -0.0169],\n         ...,\n         [-0.0471,  0.0910, -0.0275],\n         [-0.1392,  0.1253,  0.0494],\n         [-0.0194, -0.0386, -0.1171]]], requires_grad=True)"
     },
     "execution_count": 24,
     "metadata": {},
     "output_type": "execute_result"
    }
   ],
   "source": [
    "m.weight  # 内部默认进行了kaiming_uniform_初始化"
   ],
   "metadata": {
    "collapsed": false,
    "pycharm": {
     "name": "#%%\n"
    }
   }
  }
 ],
 "metadata": {
  "kernelspec": {
   "display_name": "Python 3",
   "language": "python",
   "name": "python3"
  },
  "language_info": {
   "codemirror_mode": {
    "name": "ipython",
    "version": 2
   },
   "file_extension": ".py",
   "mimetype": "text/x-python",
   "name": "python",
   "nbconvert_exporter": "python",
   "pygments_lexer": "ipython2",
   "version": "2.7.6"
  }
 },
 "nbformat": 4,
 "nbformat_minor": 0
}