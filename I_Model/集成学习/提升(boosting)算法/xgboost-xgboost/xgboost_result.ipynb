{
 "cells": [
  {
   "cell_type": "code",
   "execution_count": 22,
   "metadata": {
    "collapsed": true,
    "pycharm": {
     "is_executing": false
    }
   },
   "outputs": [],
   "source": [
    "from xgboost import XGBClassifier, XGBRFRegressor\n",
    "from sklearn import datasets\n",
    "from sklearn.model_selection import train_test_split\n",
    "import matplotlib.pyplot  as plt"
   ]
  },
  {
   "cell_type": "code",
   "execution_count": 23,
   "outputs": [],
   "source": [
    "X = datasets.fetch_covtype().data[:3000]\n",
    "y = datasets.fetch_covtype().target[:3000] # 多分类任务\n",
    "X_train, X_test, y_train, y_test = train_test_split(X, y)"
   ],
   "metadata": {
    "collapsed": false,
    "pycharm": {
     "name": "#%%\n",
     "is_executing": false
    }
   }
  },
  {
   "cell_type": "code",
   "execution_count": 24,
   "metadata": {
    "pycharm": {
     "is_executing": false,
     "name": "#%%\n"
    }
   },
   "outputs": [
    {
     "name": "stdout",
     "text": [
      "[0]\tvalidation_0-mlogloss:1.34350\tvalidation_1-mlogloss:1.41875\n",
      "Multiple eval metrics have been passed: 'validation_1-mlogloss' will be used for early stopping.\n",
      "\n",
      "Will train until validation_1-mlogloss hasn't improved in 20 rounds.\n",
      "[5]\tvalidation_0-mlogloss:0.54737\tvalidation_1-mlogloss:0.72195\n",
      "[10]\tvalidation_0-mlogloss:0.33491\tvalidation_1-mlogloss:0.54876\n",
      "[15]\tvalidation_0-mlogloss:0.23996\tvalidation_1-mlogloss:0.46995\n",
      "[20]\tvalidation_0-mlogloss:0.18769\tvalidation_1-mlogloss:0.43613\n",
      "[25]\tvalidation_0-mlogloss:0.14691\tvalidation_1-mlogloss:0.41167\n",
      "[30]\tvalidation_0-mlogloss:0.11647\tvalidation_1-mlogloss:0.39809\n",
      "[35]\tvalidation_0-mlogloss:0.09630\tvalidation_1-mlogloss:0.38841\n",
      "[40]\tvalidation_0-mlogloss:0.07782\tvalidation_1-mlogloss:0.38065\n",
      "[45]\tvalidation_0-mlogloss:0.06769\tvalidation_1-mlogloss:0.37979\n",
      "[50]\tvalidation_0-mlogloss:0.05827\tvalidation_1-mlogloss:0.38217\n",
      "[55]\tvalidation_0-mlogloss:0.04818\tvalidation_1-mlogloss:0.38326\n",
      "[60]\tvalidation_0-mlogloss:0.04271\tvalidation_1-mlogloss:0.38449\n",
      "Stopping. Best iteration:\n",
      "[43]\tvalidation_0-mlogloss:0.07194\tvalidation_1-mlogloss:0.37935\n",
      "\n"
     ],
     "output_type": "stream"
    },
    {
     "data": {
      "text/plain": "XGBClassifier(base_score=0.5, booster=None, colsample_bylevel=1,\n              colsample_bynode=1, colsample_bytree=1, gamma=0, gpu_id=-1,\n              importance_type='gain', interaction_constraints=None,\n              learning_rate=0.300000012, max_delta_step=0, max_depth=6,\n              min_child_weight=1, missing=nan, monotone_constraints=None,\n              n_estimators=100, n_jobs=-1, num_parallel_tree=1,\n              objective='multi:softprob', random_state=0, reg_alpha=0,\n              reg_lambda=1, scale_pos_weight=None, subsample=1,\n              tree_method=None, validate_parameters=False, verbosity=None)"
     },
     "metadata": {},
     "output_type": "execute_result",
     "execution_count": 24
    }
   ],
   "source": [
    "# eval_metrix参数\n",
    "# rmes: 均方根误差\n",
    "# mae: 平均绝对值误差\n",
    "# logloss: 负对数似然函数值\n",
    "# mlogloss: 多分类logloss(多分类)\n",
    "# error: 二分类错误率 \n",
    "# merror: 多分类错误率(多分类)\n",
    "# auc\n",
    "\n",
    "xg1 = XGBClassifier(n_jobs=-1)\n",
    "eval_set = [(X_train, y_train), (X_test, y_test)]\n",
    "xg1.fit(X_train, y_train, \n",
    "        early_stopping_rounds=20, # mlogloss在20轮迭代之内，都没有提升的话，就stop\n",
    "        eval_set=eval_set, # A list of (X, y) tuple pairs to use as validation sets, for which metrics will be computed. Validation metrics will help us track the performance of the model.\n",
    "        eval_metric='mlogloss', verbose=5)"
   ]
  },
  {
   "cell_type": "code",
   "execution_count": 25,
   "metadata": {
    "pycharm": {
     "is_executing": false,
     "name": "#%%\n"
    }
   },
   "outputs": [
    {
     "data": {
      "text/plain": "array([2, 2, 7, 2, 7, 5, 1, 2, 2, 2, 4, 2, 4, 5, 2, 4, 2, 6, 6, 6, 2, 6,\n       2, 6, 7, 5, 5, 3, 3, 5, 5, 5, 3, 2, 6, 1, 5, 5, 5, 5, 2, 2, 2, 7,\n       1, 3, 2, 2, 2, 1, 5, 1, 5, 6, 2, 3, 2, 5, 2, 2, 1, 1, 1, 5, 5, 6,\n       5, 2, 2, 5, 6, 4, 5, 2, 5, 2, 6, 2, 5, 2, 2, 5, 6, 1, 2, 5, 2, 6,\n       1, 1, 7, 1, 1, 2, 2, 2, 2, 2, 4, 2, 7, 6, 5, 2, 4, 2, 5, 2, 3, 2,\n       5, 2, 6, 3, 2, 2, 7, 2, 2, 6, 5, 2, 5, 7, 2, 5, 2, 4, 5, 5, 4, 5,\n       4, 5, 6, 5, 1, 2, 5, 5, 2, 6, 2, 2, 6, 2, 2, 1, 2, 3, 5, 5, 2, 3,\n       5, 5, 1, 2, 2, 6, 1, 6, 5, 4, 4, 1, 2, 6, 6, 5, 2, 5, 2, 2, 5, 6,\n       1, 5, 6, 1, 2, 5, 6, 1, 2, 1, 2, 2, 1, 5, 2, 5, 4, 2, 2, 5, 2, 2,\n       2, 1, 5, 5, 2, 2, 6, 1, 5, 3, 6, 2, 2, 1, 1, 6, 2, 1, 2, 4, 2, 3,\n       2, 3, 2, 2, 3, 5, 2, 5, 5, 2, 5, 6, 3, 4, 1, 5, 1, 3, 1, 5, 5, 2,\n       2, 2, 2, 6, 3, 2, 5, 5, 5, 6, 5, 7, 2, 2, 5, 5, 2, 2, 5, 5, 5, 2,\n       6, 5, 6, 2, 2, 5, 5, 2, 5, 7, 6, 5, 1, 2, 2, 2, 2, 2, 5, 1, 2, 2,\n       2, 2, 5, 2, 2, 1, 5, 3, 5, 5, 2, 2, 3, 1, 5, 6, 1, 6, 5, 4, 5, 2,\n       1, 2, 3, 2, 5, 2, 2, 2, 1, 5, 2, 1, 5, 3, 5, 2, 2, 2, 7, 3, 5, 5,\n       2, 1, 2, 4, 1, 2, 5, 1, 7, 1, 2, 4, 1, 1, 5, 2, 4, 2, 3, 3, 7, 2,\n       5, 2, 7, 1, 5, 7, 6, 2, 1, 1, 1, 5, 5, 5, 1, 6, 6, 1, 6, 5, 3, 5,\n       3, 2, 2, 1, 2, 1, 2, 6, 1, 4, 2, 1, 5, 2, 2, 2, 5, 5, 5, 1, 3, 2,\n       2, 1, 1, 7, 3, 1, 2, 2, 3, 2, 1, 2, 2, 3, 5, 1, 2, 2, 5, 6, 5, 2,\n       3, 5, 6, 5, 5, 1, 2, 5, 1, 2, 1, 5, 4, 2, 2, 3, 7, 2, 5, 1, 6, 6,\n       5, 5, 1, 3, 7, 2, 1, 1, 5, 2, 2, 7, 5, 5, 1, 1, 3, 2, 1, 1, 2, 2,\n       1, 2, 1, 2, 2, 5, 3, 2, 6, 5, 2, 1, 4, 5, 5, 2, 3, 1, 6, 6, 1, 5,\n       5, 5, 3, 5, 6, 5, 6, 1, 5, 6, 4, 3, 2, 2, 5, 6, 1, 2, 2, 5, 6, 1,\n       4, 6, 2, 2, 2, 1, 5, 5, 5, 3, 5, 6, 3, 2, 5, 5, 5, 4, 1, 7, 6, 6,\n       5, 5, 2, 5, 2, 6, 2, 5, 2, 2, 5, 2, 5, 5, 1, 2, 5, 6, 1, 2, 1, 2,\n       7, 5, 7, 3, 6, 1, 5, 2, 2, 2, 2, 2, 2, 5, 2, 1, 5, 2, 2, 6, 2, 5,\n       1, 1, 1, 6, 7, 1, 1, 5, 3, 5, 2, 6, 2, 5, 2, 6, 1, 3, 1, 5, 3, 2,\n       2, 2, 2, 5, 3, 2, 1, 5, 5, 6, 5, 4, 1, 2, 6, 1, 2, 2, 2, 5, 3, 2,\n       2, 6, 1, 1, 6, 7, 7, 5, 5, 1, 5, 5, 1, 3, 1, 6, 6, 5, 5, 7, 2, 5,\n       7, 5, 1, 2, 6, 2, 4, 5, 2, 2, 3, 3, 6, 3, 2, 5, 1, 1, 7, 7, 3, 7,\n       2, 5, 3, 5, 1, 1, 2, 5, 2, 5, 2, 2, 2, 1, 2, 6, 2, 1, 7, 6, 1, 7,\n       2, 5, 4, 5, 1, 5, 2, 2, 5, 1, 2, 2, 2, 4, 2, 2, 5, 1, 2, 1, 2, 2,\n       7, 1, 3, 2, 3, 7, 2, 4, 5, 5, 6, 5, 6, 1, 5, 5, 7, 5, 5, 5, 5, 5,\n       2, 2, 6, 4, 2, 1, 2, 2, 3, 2, 2, 2, 5, 2, 5, 2, 3, 2, 2, 2, 1, 2,\n       4, 5])"
     },
     "metadata": {},
     "output_type": "execute_result",
     "execution_count": 25
    }
   ],
   "source": [
    "xg1.predict(X_test)"
   ]
  },
  {
   "cell_type": "code",
   "execution_count": 26,
   "metadata": {
    "pycharm": {
     "is_executing": false,
     "name": "#%%\n"
    }
   },
   "outputs": [
    {
     "data": {
      "text/plain": "array([[9.0076933e-03, 9.3313557e-01, 1.8509743e-03, ..., 2.4648037e-02,\n        3.0539548e-02, 3.0849333e-04],\n       [1.8339330e-01, 8.1440037e-01, 4.5345779e-04, ..., 6.0631923e-04,\n        3.4785259e-04, 4.4834713e-04],\n       [1.3612825e-01, 2.0261945e-01, 1.3023376e-03, ..., 6.9556604e-03,\n        1.3273350e-03, 6.5066075e-01],\n       ...,\n       [1.7610076e-01, 6.3352913e-01, 9.2045858e-04, ..., 1.8637858e-01,\n        9.2311262e-04, 1.2181682e-03],\n       [5.7825114e-04, 1.1219328e-03, 3.7596199e-01, ..., 1.9339687e-03,\n        7.7794589e-02, 2.9811417e-04],\n       [5.4233791e-03, 6.3961260e-02, 9.3444274e-04, ..., 9.0632939e-01,\n        2.2427246e-02, 4.7412462e-04]], dtype=float32)"
     },
     "metadata": {},
     "output_type": "execute_result",
     "execution_count": 26
    }
   ],
   "source": [
    "# 预测结果可以输出为概率向量\n",
    "xg1.predict_proba(X_test) # 仅分类算法"
   ]
  },
  {
   "cell_type": "code",
   "execution_count": 27,
   "metadata": {
    "pycharm": {
     "is_executing": false,
     "name": "#%%\n"
    }
   },
   "outputs": [
    {
     "data": {
      "text/plain": "0.8493333333333334"
     },
     "metadata": {},
     "output_type": "execute_result",
     "execution_count": 27
    }
   ],
   "source": [
    "xg1.score(X_test, y_test) # 精度"
   ]
  },
  {
   "cell_type": "code",
   "execution_count": 28,
   "metadata": {
    "pycharm": {
     "is_executing": false,
     "name": "#%%\n"
    }
   },
   "outputs": [
    {
     "data": {
      "text/plain": "array([0.05522266, 0.01027789, 0.0076129 , 0.01713795, 0.0117458 ,\n       0.02694086, 0.01142352, 0.01274354, 0.01036926, 0.01293497,\n       0.14072125, 0.        , 0.00381157, 0.        , 0.01090817,\n       0.02562974, 0.02621816, 0.        , 0.00777717, 0.00439228,\n       0.        , 0.        , 0.        , 0.00746002, 0.0142416 ,\n       0.04495807, 0.00921845, 0.        , 0.        , 0.00758998,\n       0.27133602, 0.00381228, 0.0042282 , 0.01924067, 0.        ,\n       0.01367765, 0.03491041, 0.02495222, 0.        , 0.        ,\n       0.        , 0.        , 0.00697156, 0.11703692, 0.00318799,\n       0.00540709, 0.00494895, 0.        , 0.        , 0.        ,\n       0.        , 0.00663968, 0.00431461, 0.        ], dtype=float32)"
     },
     "metadata": {},
     "output_type": "execute_result",
     "execution_count": 28
    }
   ],
   "source": [
    "xg1.feature_importances_ # 特征的相对重要性(值越大,重要程度越高)"
   ]
  },
  {
   "cell_type": "code",
   "execution_count": 29,
   "metadata": {
    "pycharm": {
     "is_executing": false,
     "name": "#%%\n"
    }
   },
   "outputs": [],
   "source": [
    "evals_result = xg1.evals_result() # 根据fit函数中eval_set参数与eval_metric参数返回评估结果\n",
    "\n",
    "train_evals = evals_result['validation_0']['mlogloss']\n",
    "test_evals = evals_result['validation_1']['mlogloss']"
   ]
  },
  {
   "cell_type": "code",
   "execution_count": 30,
   "metadata": {
    "pycharm": {
     "is_executing": false,
     "name": "#%%\n"
    }
   },
   "outputs": [
    {
     "data": {
      "text/plain": "Text(0.5, 0, 'rounds')"
     },
     "metadata": {},
     "output_type": "execute_result",
     "execution_count": 30
    },
    {
     "data": {
      "text/plain": "<Figure size 432x288 with 1 Axes>",
      "image/png": "[encoded data removed]"
     },
     "metadata": {
      "needs_background": "light"
     },
     "output_type": "display_data"
    }
   ],
   "source": [
    "plt.plot(train_evals, label='train_evals')\n",
    "plt.plot(test_evals, label='test_evals')\n",
    "plt.legend()\n",
    "plt.ylabel('mlogloss')\n",
    "plt.xlabel('rounds')"
   ]
  },
  {
   "cell_type": "code",
   "execution_count": 31,
   "outputs": [
    {
     "data": {
      "text/plain": "0.8623617742707503"
     },
     "metadata": {},
     "output_type": "execute_result",
     "execution_count": 31
    }
   ],
   "source": [
    "X = datasets.load_boston().data\n",
    "y = datasets.load_boston().target\n",
    "X_train, X_test, y_train, y_test = train_test_split(X, y)\n",
    "xg2 = XGBRFRegressor(n_jobs=-1)\n",
    "xg2.fit(X_train, y_train)\n",
    "xg2.score(X_test, y_test) # R^2"
   ],
   "metadata": {
    "collapsed": false,
    "pycharm": {
     "name": "#%%\n",
     "is_executing": false
    }
   }
  },
  {
   "cell_type": "code",
   "execution_count": 32,
   "outputs": [
    {
     "data": {
      "text/plain": "array([0.03093924, 0.00350362, 0.06949744, 0.02200447, 0.05060653,\n       0.3743455 , 0.01225269, 0.05603998, 0.01392062, 0.02865376,\n       0.05762986, 0.01308077, 0.2675255 ], dtype=float32)"
     },
     "metadata": {},
     "output_type": "execute_result",
     "execution_count": 32
    }
   ],
   "source": [
    "xg2.feature_importances_"
   ],
   "metadata": {
    "collapsed": false,
    "pycharm": {
     "name": "#%%\n",
     "is_executing": false
    }
   }
  },
  {
   "cell_type": "code",
   "execution_count": 34,
   "outputs": [
    {
     "data": {
      "text/plain": "array([20.04417  , 23.110819 , 19.769611 , 21.27759  , 20.904688 ,\n       23.634356 , 22.11364  , 12.313858 , 20.310982 , 20.651989 ,\n       30.48154  , 33.58553  , 11.847392 , 20.30512  , 19.761637 ,\n       22.213053 , 23.917452 , 33.433487 , 24.213072 , 21.155676 ,\n       20.608992 , 34.109543 , 12.411354 , 15.936315 , 20.734428 ,\n       17.296545 , 20.479542 , 23.977943 , 18.172781 , 47.347267 ,\n       11.388395 , 20.688377 , 23.712427 , 24.147476 , 29.110638 ,\n       19.720243 , 19.81666  , 22.344131 , 23.883602 , 16.31734  ,\n       29.600878 , 40.43114  , 33.411983 , 20.574564 , 21.599693 ,\n       20.52764  , 20.180065 , 20.767645 , 24.160398 , 32.482147 ,\n       17.651007 , 26.317438 , 22.594868 , 20.652876 , 21.256527 ,\n       33.798492 , 16.49691  , 21.64472  , 10.808232 , 21.921637 ,\n       15.023231 ,  9.130901 , 14.141525 , 20.423061 , 21.255466 ,\n       20.007343 , 33.559902 , 22.065434 ,  8.332447 , 20.034346 ,\n       10.968183 , 28.078182 , 33.61688  , 14.162017 , 14.497252 ,\n       16.300568 , 20.777002 , 10.723897 , 20.624758 , 47.536373 ,\n       22.67993  , 21.44873  ,  9.015668 , 14.284092 , 25.89643  ,\n       20.601973 , 19.376673 , 44.96649  , 20.82239  , 27.704636 ,\n       20.220129 , 33.497723 , 23.777657 , 23.070896 , 20.521864 ,\n       21.664553 , 33.428722 , 19.826662 , 10.949145 , 11.188385 ,\n       20.2797   , 20.183388 , 26.239794 , 20.885258 , 29.424145 ,\n       16.257294 , 20.382847 , 20.49984  , 24.026083 , 15.61005  ,\n       27.021097 , 28.946432 , 20.344282 , 24.317076 , 38.412857 ,\n       15.650053 , 14.629953 , 22.344131 , 19.117558 , 45.22812  ,\n       21.299437 , 42.071003 , 20.598585 , 16.434132 , 21.15828  ,\n       46.687946 , 15.7714405], dtype=float32)"
     },
     "metadata": {},
     "output_type": "execute_result",
     "execution_count": 34
    }
   ],
   "source": [
    "xg2.predict(X_test)"
   ],
   "metadata": {
    "collapsed": false,
    "pycharm": {
     "name": "#%%\n",
     "is_executing": false
    }
   }
  },
  {
   "cell_type": "code",
   "execution_count": null,
   "outputs": [],
   "source": [
    "\n"
   ],
   "metadata": {
    "collapsed": false,
    "pycharm": {
     "name": "#%%\n"
    }
   }
  }
 ],
 "metadata": {
  "kernelspec": {
   "display_name": "Python 3",
   "language": "python",
   "name": "python3"
  },
  "language_info": {
   "codemirror_mode": {
    "name": "ipython",
    "version": 3
   },
   "file_extension": ".py",
   "mimetype": "text/x-python",
   "name": "python",
   "nbconvert_exporter": "python",
   "pygments_lexer": "ipython3",
   "version": "3.7.6"
  },
  "pycharm": {
   "stem_cell": {
    "cell_type": "raw",
    "source": [],
    "metadata": {
     "collapsed": false
    }
   }
  },
  "toc": {
   "base_numbering": 1,
   "nav_menu": {},
   "number_sections": true,
   "sideBar": true,
   "skip_h1_title": false,
   "title_cell": "Table of Contents",
   "title_sidebar": "Contents",
   "toc_cell": false,
   "toc_position": {},
   "toc_section_display": true,
   "toc_window_display": false
  }
 },
 "nbformat": 4,
 "nbformat_minor": 1
}