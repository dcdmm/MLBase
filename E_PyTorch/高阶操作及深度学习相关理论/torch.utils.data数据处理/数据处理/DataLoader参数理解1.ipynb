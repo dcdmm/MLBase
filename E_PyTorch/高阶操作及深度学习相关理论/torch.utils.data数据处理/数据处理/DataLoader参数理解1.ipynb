{
 "cells": [
  {
   "cell_type": "markdown",
   "source": [
    "### collate_fn参数理解"
   ],
   "metadata": {
    "collapsed": false,
    "pycharm": {
     "name": "#%% md\n"
    }
   }
  },
  {
   "cell_type": "code",
   "execution_count": 26,
   "outputs": [],
   "source": [
    "import torch\n",
    "import torch.utils.data as Data"
   ],
   "metadata": {
    "collapsed": false,
    "pycharm": {
     "name": "#%%\n"
    }
   }
  },
  {
   "cell_type": "code",
   "execution_count": 27,
   "outputs": [],
   "source": [
    "BATCH_SIZE = 4\n",
    "\n",
    "x = torch.linspace(0.01, 0.1, 300).reshape(25, 3, 4)\n",
    "y = torch.linspace(1, 10, 25)\n",
    "\n",
    "torch_dataset = Data.TensorDataset(x, y)"
   ],
   "metadata": {
    "collapsed": false,
    "pycharm": {
     "name": "#%%\n"
    }
   }
  },
  {
   "cell_type": "code",
   "execution_count": 28,
   "outputs": [],
   "source": [
    "def collate_fun(data):\n",
    "    print('进入collate_fun函数------------------------------------------------')\n",
    "    print('data为:', data)  # Dataset中batch_size个__getitem__函数返回值组成的列表\n",
    "    process_list = list()\n",
    "    for i in data:  # 自定义处理\n",
    "        for _ in i:\n",
    "            process_list.append(1)\n",
    "    return process_list\n",
    "\n",
    "\n",
    "loader = Data.DataLoader(dataset=torch_dataset, batch_size=BATCH_SIZE, drop_last=True,\n",
    "                         # merges a list of samples to form a mini-batch of Tensor(s).\n",
    "                         # Used when using batched loading from a map-style dataset.\n",
    "                         collate_fn=collate_fun)  # 默认collate_fn=None,即使用`torch.utils.data.default_collate`"
   ],
   "metadata": {
    "collapsed": false,
    "pycharm": {
     "name": "#%%\n"
    }
   }
  },
  {
   "cell_type": "code",
   "execution_count": 29,
   "outputs": [
    {
     "name": "stdout",
     "output_type": "stream",
     "text": [
      "进入collate_fun函数------------------------------------------------\n",
      "data为: [(tensor([[0.0100, 0.0103, 0.0106, 0.0109],\n",
      "        [0.0112, 0.0115, 0.0118, 0.0121],\n",
      "        [0.0124, 0.0127, 0.0130, 0.0133]]), tensor(1.)), (tensor([[0.0136, 0.0139, 0.0142, 0.0145],\n",
      "        [0.0148, 0.0151, 0.0154, 0.0157],\n",
      "        [0.0160, 0.0163, 0.0166, 0.0169]]), tensor(1.3750)), (tensor([[0.0172, 0.0175, 0.0178, 0.0181],\n",
      "        [0.0184, 0.0187, 0.0190, 0.0193],\n",
      "        [0.0196, 0.0199, 0.0202, 0.0205]]), tensor(1.7500)), (tensor([[0.0208, 0.0211, 0.0214, 0.0217],\n",
      "        [0.0220, 0.0223, 0.0226, 0.0229],\n",
      "        [0.0232, 0.0235, 0.0238, 0.0241]]), tensor(2.1250))]\n",
      "batch:0, batch_data:[1, 1, 1, 1, 1, 1, 1, 1]\n",
      "进入collate_fun函数------------------------------------------------\n",
      "data为: [(tensor([[0.0244, 0.0247, 0.0251, 0.0254],\n",
      "        [0.0257, 0.0260, 0.0263, 0.0266],\n",
      "        [0.0269, 0.0272, 0.0275, 0.0278]]), tensor(2.5000)), (tensor([[0.0281, 0.0284, 0.0287, 0.0290],\n",
      "        [0.0293, 0.0296, 0.0299, 0.0302],\n",
      "        [0.0305, 0.0308, 0.0311, 0.0314]]), tensor(2.8750)), (tensor([[0.0317, 0.0320, 0.0323, 0.0326],\n",
      "        [0.0329, 0.0332, 0.0335, 0.0338],\n",
      "        [0.0341, 0.0344, 0.0347, 0.0350]]), tensor(3.2500)), (tensor([[0.0353, 0.0356, 0.0359, 0.0362],\n",
      "        [0.0365, 0.0368, 0.0371, 0.0374],\n",
      "        [0.0377, 0.0380, 0.0383, 0.0386]]), tensor(3.6250))]\n",
      "batch:1, batch_data:[1, 1, 1, 1, 1, 1, 1, 1]\n",
      "进入collate_fun函数------------------------------------------------\n",
      "data为: [(tensor([[0.0389, 0.0392, 0.0395, 0.0398],\n",
      "        [0.0401, 0.0404, 0.0407, 0.0410],\n",
      "        [0.0413, 0.0416, 0.0419, 0.0422]]), tensor(4.)), (tensor([[0.0425, 0.0428, 0.0431, 0.0434],\n",
      "        [0.0437, 0.0440, 0.0443, 0.0446],\n",
      "        [0.0449, 0.0452, 0.0455, 0.0458]]), tensor(4.3750)), (tensor([[0.0461, 0.0464, 0.0467, 0.0470],\n",
      "        [0.0473, 0.0476, 0.0479, 0.0482],\n",
      "        [0.0485, 0.0488, 0.0491, 0.0494]]), tensor(4.7500)), (tensor([[0.0497, 0.0500, 0.0503, 0.0506],\n",
      "        [0.0509, 0.0512, 0.0515, 0.0518],\n",
      "        [0.0521, 0.0524, 0.0527, 0.0530]]), tensor(5.1250))]\n",
      "batch:2, batch_data:[1, 1, 1, 1, 1, 1, 1, 1]\n",
      "进入collate_fun函数------------------------------------------------\n",
      "data为: [(tensor([[0.0533, 0.0536, 0.0539, 0.0542],\n",
      "        [0.0545, 0.0548, 0.0552, 0.0555],\n",
      "        [0.0558, 0.0561, 0.0564, 0.0567]]), tensor(5.5000)), (tensor([[0.0570, 0.0573, 0.0576, 0.0579],\n",
      "        [0.0582, 0.0585, 0.0588, 0.0591],\n",
      "        [0.0594, 0.0597, 0.0600, 0.0603]]), tensor(5.8750)), (tensor([[0.0606, 0.0609, 0.0612, 0.0615],\n",
      "        [0.0618, 0.0621, 0.0624, 0.0627],\n",
      "        [0.0630, 0.0633, 0.0636, 0.0639]]), tensor(6.2500)), (tensor([[0.0642, 0.0645, 0.0648, 0.0651],\n",
      "        [0.0654, 0.0657, 0.0660, 0.0663],\n",
      "        [0.0666, 0.0669, 0.0672, 0.0675]]), tensor(6.6250))]\n",
      "batch:3, batch_data:[1, 1, 1, 1, 1, 1, 1, 1]\n",
      "进入collate_fun函数------------------------------------------------\n",
      "data为: [(tensor([[0.0678, 0.0681, 0.0684, 0.0687],\n",
      "        [0.0690, 0.0693, 0.0696, 0.0699],\n",
      "        [0.0702, 0.0705, 0.0708, 0.0711]]), tensor(7.)), (tensor([[0.0714, 0.0717, 0.0720, 0.0723],\n",
      "        [0.0726, 0.0729, 0.0732, 0.0735],\n",
      "        [0.0738, 0.0741, 0.0744, 0.0747]]), tensor(7.3750)), (tensor([[0.0750, 0.0753, 0.0756, 0.0759],\n",
      "        [0.0762, 0.0765, 0.0768, 0.0771],\n",
      "        [0.0774, 0.0777, 0.0780, 0.0783]]), tensor(7.7500)), (tensor([[0.0786, 0.0789, 0.0792, 0.0795],\n",
      "        [0.0798, 0.0801, 0.0804, 0.0807],\n",
      "        [0.0810, 0.0813, 0.0816, 0.0819]]), tensor(8.1250))]\n",
      "batch:4, batch_data:[1, 1, 1, 1, 1, 1, 1, 1]\n",
      "进入collate_fun函数------------------------------------------------\n",
      "data为: [(tensor([[0.0822, 0.0825, 0.0828, 0.0831],\n",
      "        [0.0834, 0.0837, 0.0840, 0.0843],\n",
      "        [0.0846, 0.0849, 0.0853, 0.0856]]), tensor(8.5000)), (tensor([[0.0859, 0.0862, 0.0865, 0.0868],\n",
      "        [0.0871, 0.0874, 0.0877, 0.0880],\n",
      "        [0.0883, 0.0886, 0.0889, 0.0892]]), tensor(8.8750)), (tensor([[0.0895, 0.0898, 0.0901, 0.0904],\n",
      "        [0.0907, 0.0910, 0.0913, 0.0916],\n",
      "        [0.0919, 0.0922, 0.0925, 0.0928]]), tensor(9.2500)), (tensor([[0.0931, 0.0934, 0.0937, 0.0940],\n",
      "        [0.0943, 0.0946, 0.0949, 0.0952],\n",
      "        [0.0955, 0.0958, 0.0961, 0.0964]]), tensor(9.6250))]\n",
      "batch:5, batch_data:[1, 1, 1, 1, 1, 1, 1, 1]\n"
     ]
    }
   ],
   "source": [
    "def show_batch():\n",
    "    for step, batch_data in enumerate(loader):\n",
    "        print(\"batch:{}, batch_data:{}\".format(step, batch_data))  # tensor长度为batch_size\n",
    "\n",
    "\n",
    "show_batch()"
   ],
   "metadata": {
    "collapsed": false,
    "pycharm": {
     "name": "#%%\n"
    }
   }
  }
 ],
 "metadata": {
  "kernelspec": {
   "display_name": "Python 3",
   "language": "python",
   "name": "python3"
  },
  "language_info": {
   "codemirror_mode": {
    "name": "ipython",
    "version": 2
   },
   "file_extension": ".py",
   "mimetype": "text/x-python",
   "name": "python",
   "nbconvert_exporter": "python",
   "pygments_lexer": "ipython2",
   "version": "2.7.6"
  }
 },
 "nbformat": 4,
 "nbformat_minor": 0
}