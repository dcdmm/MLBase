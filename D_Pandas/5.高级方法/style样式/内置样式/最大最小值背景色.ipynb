{
 "cells": [
  {
   "cell_type": "code",
   "execution_count": null,
   "outputs": [],
   "source": [
    "import pandas as pd\n",
    "import numpy as np\n",
    "\n",
    "np.random.seed(24)\n",
    "df = pd.DataFrame({'A': np.linspace(1, 10, 10)})\n",
    "df = pd.concat([df, pd.DataFrame(np.random.randn(10, 4), columns=list('BCDE'))],\n",
    "               axis=1)\n",
    "df.iloc[0, 2] = np.nan"
   ],
   "metadata": {
    "collapsed": false,
    "pycharm": {
     "name": "#%%\n"
    }
   }
  },
  {
   "cell_type": "code",
   "execution_count": 2,
   "metadata": {
    "pycharm": {
     "is_executing": false,
     "metadata": false,
     "name": "#%%\n"
    }
   },
   "outputs": [
    {
     "data": {
      "text/html": [
       "<style  type=\"text/css\" >\n",
       "</style><table id=\"T_5f424ec8_b5eb_11e9_85e4_54ee75f33bb6\" ><thead>    <tr>        <th class=\"blank level0\" ></th>        <th class=\"col_heading level0 col0\" >A</th>        <th class=\"col_heading level0 col1\" >B</th>        <th class=\"col_heading level0 col2\" >C</th>        <th class=\"col_heading level0 col3\" >D</th>        <th class=\"col_heading level0 col4\" >E</th>    </tr></thead><tbody>\n",
       "                <tr>\n",
       "                        <th id=\"T_5f424ec8_b5eb_11e9_85e4_54ee75f33bb6level0_row0\" class=\"row_heading level0 row0\" >0</th>\n",
       "                        <td id=\"T_5f424ec8_b5eb_11e9_85e4_54ee75f33bb6row0_col0\" class=\"data row0 col0\" >1</td>\n",
       "                        <td id=\"T_5f424ec8_b5eb_11e9_85e4_54ee75f33bb6row0_col1\" class=\"data row0 col1\" >1.32921</td>\n",
       "                        <td id=\"T_5f424ec8_b5eb_11e9_85e4_54ee75f33bb6row0_col2\" class=\"data row0 col2\" >nan</td>\n",
       "                        <td id=\"T_5f424ec8_b5eb_11e9_85e4_54ee75f33bb6row0_col3\" class=\"data row0 col3\" >-0.31628</td>\n",
       "                        <td id=\"T_5f424ec8_b5eb_11e9_85e4_54ee75f33bb6row0_col4\" class=\"data row0 col4\" >-0.99081</td>\n",
       "            </tr>\n",
       "            <tr>\n",
       "                        <th id=\"T_5f424ec8_b5eb_11e9_85e4_54ee75f33bb6level0_row1\" class=\"row_heading level0 row1\" >1</th>\n",
       "                        <td id=\"T_5f424ec8_b5eb_11e9_85e4_54ee75f33bb6row1_col0\" class=\"data row1 col0\" >2</td>\n",
       "                        <td id=\"T_5f424ec8_b5eb_11e9_85e4_54ee75f33bb6row1_col1\" class=\"data row1 col1\" >-1.07082</td>\n",
       "                        <td id=\"T_5f424ec8_b5eb_11e9_85e4_54ee75f33bb6row1_col2\" class=\"data row1 col2\" >-1.43871</td>\n",
       "                        <td id=\"T_5f424ec8_b5eb_11e9_85e4_54ee75f33bb6row1_col3\" class=\"data row1 col3\" >0.564417</td>\n",
       "                        <td id=\"T_5f424ec8_b5eb_11e9_85e4_54ee75f33bb6row1_col4\" class=\"data row1 col4\" >0.295722</td>\n",
       "            </tr>\n",
       "            <tr>\n",
       "                        <th id=\"T_5f424ec8_b5eb_11e9_85e4_54ee75f33bb6level0_row2\" class=\"row_heading level0 row2\" >2</th>\n",
       "                        <td id=\"T_5f424ec8_b5eb_11e9_85e4_54ee75f33bb6row2_col0\" class=\"data row2 col0\" >3</td>\n",
       "                        <td id=\"T_5f424ec8_b5eb_11e9_85e4_54ee75f33bb6row2_col1\" class=\"data row2 col1\" >-1.6264</td>\n",
       "                        <td id=\"T_5f424ec8_b5eb_11e9_85e4_54ee75f33bb6row2_col2\" class=\"data row2 col2\" >0.219565</td>\n",
       "                        <td id=\"T_5f424ec8_b5eb_11e9_85e4_54ee75f33bb6row2_col3\" class=\"data row2 col3\" >0.678805</td>\n",
       "                        <td id=\"T_5f424ec8_b5eb_11e9_85e4_54ee75f33bb6row2_col4\" class=\"data row2 col4\" >1.88927</td>\n",
       "            </tr>\n",
       "            <tr>\n",
       "                        <th id=\"T_5f424ec8_b5eb_11e9_85e4_54ee75f33bb6level0_row3\" class=\"row_heading level0 row3\" >3</th>\n",
       "                        <td id=\"T_5f424ec8_b5eb_11e9_85e4_54ee75f33bb6row3_col0\" class=\"data row3 col0\" >4</td>\n",
       "                        <td id=\"T_5f424ec8_b5eb_11e9_85e4_54ee75f33bb6row3_col1\" class=\"data row3 col1\" >0.961538</td>\n",
       "                        <td id=\"T_5f424ec8_b5eb_11e9_85e4_54ee75f33bb6row3_col2\" class=\"data row3 col2\" >0.104011</td>\n",
       "                        <td id=\"T_5f424ec8_b5eb_11e9_85e4_54ee75f33bb6row3_col3\" class=\"data row3 col3\" >-0.481165</td>\n",
       "                        <td id=\"T_5f424ec8_b5eb_11e9_85e4_54ee75f33bb6row3_col4\" class=\"data row3 col4\" >0.850229</td>\n",
       "            </tr>\n",
       "            <tr>\n",
       "                        <th id=\"T_5f424ec8_b5eb_11e9_85e4_54ee75f33bb6level0_row4\" class=\"row_heading level0 row4\" >4</th>\n",
       "                        <td id=\"T_5f424ec8_b5eb_11e9_85e4_54ee75f33bb6row4_col0\" class=\"data row4 col0\" >5</td>\n",
       "                        <td id=\"T_5f424ec8_b5eb_11e9_85e4_54ee75f33bb6row4_col1\" class=\"data row4 col1\" >1.45342</td>\n",
       "                        <td id=\"T_5f424ec8_b5eb_11e9_85e4_54ee75f33bb6row4_col2\" class=\"data row4 col2\" >1.05774</td>\n",
       "                        <td id=\"T_5f424ec8_b5eb_11e9_85e4_54ee75f33bb6row4_col3\" class=\"data row4 col3\" >0.165562</td>\n",
       "                        <td id=\"T_5f424ec8_b5eb_11e9_85e4_54ee75f33bb6row4_col4\" class=\"data row4 col4\" >0.515018</td>\n",
       "            </tr>\n",
       "            <tr>\n",
       "                        <th id=\"T_5f424ec8_b5eb_11e9_85e4_54ee75f33bb6level0_row5\" class=\"row_heading level0 row5\" >5</th>\n",
       "                        <td id=\"T_5f424ec8_b5eb_11e9_85e4_54ee75f33bb6row5_col0\" class=\"data row5 col0\" >6</td>\n",
       "                        <td id=\"T_5f424ec8_b5eb_11e9_85e4_54ee75f33bb6row5_col1\" class=\"data row5 col1\" >-1.33694</td>\n",
       "                        <td id=\"T_5f424ec8_b5eb_11e9_85e4_54ee75f33bb6row5_col2\" class=\"data row5 col2\" >0.562861</td>\n",
       "                        <td id=\"T_5f424ec8_b5eb_11e9_85e4_54ee75f33bb6row5_col3\" class=\"data row5 col3\" >1.39285</td>\n",
       "                        <td id=\"T_5f424ec8_b5eb_11e9_85e4_54ee75f33bb6row5_col4\" class=\"data row5 col4\" >-0.063328</td>\n",
       "            </tr>\n",
       "            <tr>\n",
       "                        <th id=\"T_5f424ec8_b5eb_11e9_85e4_54ee75f33bb6level0_row6\" class=\"row_heading level0 row6\" >6</th>\n",
       "                        <td id=\"T_5f424ec8_b5eb_11e9_85e4_54ee75f33bb6row6_col0\" class=\"data row6 col0\" >7</td>\n",
       "                        <td id=\"T_5f424ec8_b5eb_11e9_85e4_54ee75f33bb6row6_col1\" class=\"data row6 col1\" >0.121668</td>\n",
       "                        <td id=\"T_5f424ec8_b5eb_11e9_85e4_54ee75f33bb6row6_col2\" class=\"data row6 col2\" >1.2076</td>\n",
       "                        <td id=\"T_5f424ec8_b5eb_11e9_85e4_54ee75f33bb6row6_col3\" class=\"data row6 col3\" >-0.00204021</td>\n",
       "                        <td id=\"T_5f424ec8_b5eb_11e9_85e4_54ee75f33bb6row6_col4\" class=\"data row6 col4\" >1.6278</td>\n",
       "            </tr>\n",
       "            <tr>\n",
       "                        <th id=\"T_5f424ec8_b5eb_11e9_85e4_54ee75f33bb6level0_row7\" class=\"row_heading level0 row7\" >7</th>\n",
       "                        <td id=\"T_5f424ec8_b5eb_11e9_85e4_54ee75f33bb6row7_col0\" class=\"data row7 col0\" >8</td>\n",
       "                        <td id=\"T_5f424ec8_b5eb_11e9_85e4_54ee75f33bb6row7_col1\" class=\"data row7 col1\" >0.354493</td>\n",
       "                        <td id=\"T_5f424ec8_b5eb_11e9_85e4_54ee75f33bb6row7_col2\" class=\"data row7 col2\" >1.03753</td>\n",
       "                        <td id=\"T_5f424ec8_b5eb_11e9_85e4_54ee75f33bb6row7_col3\" class=\"data row7 col3\" >-0.385684</td>\n",
       "                        <td id=\"T_5f424ec8_b5eb_11e9_85e4_54ee75f33bb6row7_col4\" class=\"data row7 col4\" >0.519818</td>\n",
       "            </tr>\n",
       "            <tr>\n",
       "                        <th id=\"T_5f424ec8_b5eb_11e9_85e4_54ee75f33bb6level0_row8\" class=\"row_heading level0 row8\" >8</th>\n",
       "                        <td id=\"T_5f424ec8_b5eb_11e9_85e4_54ee75f33bb6row8_col0\" class=\"data row8 col0\" >9</td>\n",
       "                        <td id=\"T_5f424ec8_b5eb_11e9_85e4_54ee75f33bb6row8_col1\" class=\"data row8 col1\" >1.68658</td>\n",
       "                        <td id=\"T_5f424ec8_b5eb_11e9_85e4_54ee75f33bb6row8_col2\" class=\"data row8 col2\" >-1.32596</td>\n",
       "                        <td id=\"T_5f424ec8_b5eb_11e9_85e4_54ee75f33bb6row8_col3\" class=\"data row8 col3\" >1.42898</td>\n",
       "                        <td id=\"T_5f424ec8_b5eb_11e9_85e4_54ee75f33bb6row8_col4\" class=\"data row8 col4\" >-2.08935</td>\n",
       "            </tr>\n",
       "            <tr>\n",
       "                        <th id=\"T_5f424ec8_b5eb_11e9_85e4_54ee75f33bb6level0_row9\" class=\"row_heading level0 row9\" >9</th>\n",
       "                        <td id=\"T_5f424ec8_b5eb_11e9_85e4_54ee75f33bb6row9_col0\" class=\"data row9 col0\" >10</td>\n",
       "                        <td id=\"T_5f424ec8_b5eb_11e9_85e4_54ee75f33bb6row9_col1\" class=\"data row9 col1\" >-0.12982</td>\n",
       "                        <td id=\"T_5f424ec8_b5eb_11e9_85e4_54ee75f33bb6row9_col2\" class=\"data row9 col2\" >0.631523</td>\n",
       "                        <td id=\"T_5f424ec8_b5eb_11e9_85e4_54ee75f33bb6row9_col3\" class=\"data row9 col3\" >-0.586538</td>\n",
       "                        <td id=\"T_5f424ec8_b5eb_11e9_85e4_54ee75f33bb6row9_col4\" class=\"data row9 col4\" >0.29072</td>\n",
       "            </tr>\n",
       "    </tbody></table>"
      ],
      "text/plain": [
       "<pandas.io.formats.style.Styler at 0x25536c1f978>"
      ]
     },
     "execution_count": 2,
     "metadata": {},
     "output_type": "execute_result"
    }
   ],
   "source": [
    "df.style"
   ]
  },
  {
   "cell_type": "code",
   "execution_count": 3,
   "metadata": {
    "pycharm": {
     "is_executing": false,
     "metadata": false,
     "name": "#%%\n"
    }
   },
   "outputs": [
    {
     "data": {
      "text/plain": [
       "\"\\naxis : int, str, or None; default 0\\n    0 or 'index' for columnwise (default), 1 or 'columns' for rowwise,\\n    or ``None`` for tablewise\\n\""
      ]
     },
     "execution_count": 3,
     "metadata": {},
     "output_type": "execute_result"
    }
   ],
   "source": [
    "df.style.highlight_max(axis=None)\n",
    "'''\n",
    "axis : int, str, or None; default 0\n",
    "    0 or 'index' for columnwise (default), 1 or 'columns' for rowwise,\n",
    "    or ``None`` for tablewise\n",
    "'''"
   ]
  },
  {
   "cell_type": "code",
   "execution_count": 4,
   "metadata": {
    "pycharm": {
     "is_executing": false,
     "metadata": false,
     "name": "#%%\n"
    }
   },
   "outputs": [
    {
     "data": {
      "text/html": [
       "<style  type=\"text/css\" >\n",
       "    #T_5f518700_b5eb_11e9_90bb_54ee75f33bb6row0_col1 {\n",
       "            background-color:  yellow;\n",
       "        }    #T_5f518700_b5eb_11e9_90bb_54ee75f33bb6row1_col0 {\n",
       "            background-color:  yellow;\n",
       "        }    #T_5f518700_b5eb_11e9_90bb_54ee75f33bb6row2_col0 {\n",
       "            background-color:  yellow;\n",
       "        }    #T_5f518700_b5eb_11e9_90bb_54ee75f33bb6row3_col0 {\n",
       "            background-color:  yellow;\n",
       "        }    #T_5f518700_b5eb_11e9_90bb_54ee75f33bb6row4_col0 {\n",
       "            background-color:  yellow;\n",
       "        }    #T_5f518700_b5eb_11e9_90bb_54ee75f33bb6row5_col0 {\n",
       "            background-color:  yellow;\n",
       "        }    #T_5f518700_b5eb_11e9_90bb_54ee75f33bb6row6_col0 {\n",
       "            background-color:  yellow;\n",
       "        }    #T_5f518700_b5eb_11e9_90bb_54ee75f33bb6row7_col0 {\n",
       "            background-color:  yellow;\n",
       "        }    #T_5f518700_b5eb_11e9_90bb_54ee75f33bb6row8_col0 {\n",
       "            background-color:  yellow;\n",
       "        }    #T_5f518700_b5eb_11e9_90bb_54ee75f33bb6row9_col0 {\n",
       "            background-color:  yellow;\n",
       "        }</style><table id=\"T_5f518700_b5eb_11e9_90bb_54ee75f33bb6\" ><thead>    <tr>        <th class=\"blank level0\" ></th>        <th class=\"col_heading level0 col0\" >A</th>        <th class=\"col_heading level0 col1\" >B</th>        <th class=\"col_heading level0 col2\" >C</th>        <th class=\"col_heading level0 col3\" >D</th>        <th class=\"col_heading level0 col4\" >E</th>    </tr></thead><tbody>\n",
       "                <tr>\n",
       "                        <th id=\"T_5f518700_b5eb_11e9_90bb_54ee75f33bb6level0_row0\" class=\"row_heading level0 row0\" >0</th>\n",
       "                        <td id=\"T_5f518700_b5eb_11e9_90bb_54ee75f33bb6row0_col0\" class=\"data row0 col0\" >1</td>\n",
       "                        <td id=\"T_5f518700_b5eb_11e9_90bb_54ee75f33bb6row0_col1\" class=\"data row0 col1\" >1.32921</td>\n",
       "                        <td id=\"T_5f518700_b5eb_11e9_90bb_54ee75f33bb6row0_col2\" class=\"data row0 col2\" >nan</td>\n",
       "                        <td id=\"T_5f518700_b5eb_11e9_90bb_54ee75f33bb6row0_col3\" class=\"data row0 col3\" >-0.31628</td>\n",
       "                        <td id=\"T_5f518700_b5eb_11e9_90bb_54ee75f33bb6row0_col4\" class=\"data row0 col4\" >-0.99081</td>\n",
       "            </tr>\n",
       "            <tr>\n",
       "                        <th id=\"T_5f518700_b5eb_11e9_90bb_54ee75f33bb6level0_row1\" class=\"row_heading level0 row1\" >1</th>\n",
       "                        <td id=\"T_5f518700_b5eb_11e9_90bb_54ee75f33bb6row1_col0\" class=\"data row1 col0\" >2</td>\n",
       "                        <td id=\"T_5f518700_b5eb_11e9_90bb_54ee75f33bb6row1_col1\" class=\"data row1 col1\" >-1.07082</td>\n",
       "                        <td id=\"T_5f518700_b5eb_11e9_90bb_54ee75f33bb6row1_col2\" class=\"data row1 col2\" >-1.43871</td>\n",
       "                        <td id=\"T_5f518700_b5eb_11e9_90bb_54ee75f33bb6row1_col3\" class=\"data row1 col3\" >0.564417</td>\n",
       "                        <td id=\"T_5f518700_b5eb_11e9_90bb_54ee75f33bb6row1_col4\" class=\"data row1 col4\" >0.295722</td>\n",
       "            </tr>\n",
       "            <tr>\n",
       "                        <th id=\"T_5f518700_b5eb_11e9_90bb_54ee75f33bb6level0_row2\" class=\"row_heading level0 row2\" >2</th>\n",
       "                        <td id=\"T_5f518700_b5eb_11e9_90bb_54ee75f33bb6row2_col0\" class=\"data row2 col0\" >3</td>\n",
       "                        <td id=\"T_5f518700_b5eb_11e9_90bb_54ee75f33bb6row2_col1\" class=\"data row2 col1\" >-1.6264</td>\n",
       "                        <td id=\"T_5f518700_b5eb_11e9_90bb_54ee75f33bb6row2_col2\" class=\"data row2 col2\" >0.219565</td>\n",
       "                        <td id=\"T_5f518700_b5eb_11e9_90bb_54ee75f33bb6row2_col3\" class=\"data row2 col3\" >0.678805</td>\n",
       "                        <td id=\"T_5f518700_b5eb_11e9_90bb_54ee75f33bb6row2_col4\" class=\"data row2 col4\" >1.88927</td>\n",
       "            </tr>\n",
       "            <tr>\n",
       "                        <th id=\"T_5f518700_b5eb_11e9_90bb_54ee75f33bb6level0_row3\" class=\"row_heading level0 row3\" >3</th>\n",
       "                        <td id=\"T_5f518700_b5eb_11e9_90bb_54ee75f33bb6row3_col0\" class=\"data row3 col0\" >4</td>\n",
       "                        <td id=\"T_5f518700_b5eb_11e9_90bb_54ee75f33bb6row3_col1\" class=\"data row3 col1\" >0.961538</td>\n",
       "                        <td id=\"T_5f518700_b5eb_11e9_90bb_54ee75f33bb6row3_col2\" class=\"data row3 col2\" >0.104011</td>\n",
       "                        <td id=\"T_5f518700_b5eb_11e9_90bb_54ee75f33bb6row3_col3\" class=\"data row3 col3\" >-0.481165</td>\n",
       "                        <td id=\"T_5f518700_b5eb_11e9_90bb_54ee75f33bb6row3_col4\" class=\"data row3 col4\" >0.850229</td>\n",
       "            </tr>\n",
       "            <tr>\n",
       "                        <th id=\"T_5f518700_b5eb_11e9_90bb_54ee75f33bb6level0_row4\" class=\"row_heading level0 row4\" >4</th>\n",
       "                        <td id=\"T_5f518700_b5eb_11e9_90bb_54ee75f33bb6row4_col0\" class=\"data row4 col0\" >5</td>\n",
       "                        <td id=\"T_5f518700_b5eb_11e9_90bb_54ee75f33bb6row4_col1\" class=\"data row4 col1\" >1.45342</td>\n",
       "                        <td id=\"T_5f518700_b5eb_11e9_90bb_54ee75f33bb6row4_col2\" class=\"data row4 col2\" >1.05774</td>\n",
       "                        <td id=\"T_5f518700_b5eb_11e9_90bb_54ee75f33bb6row4_col3\" class=\"data row4 col3\" >0.165562</td>\n",
       "                        <td id=\"T_5f518700_b5eb_11e9_90bb_54ee75f33bb6row4_col4\" class=\"data row4 col4\" >0.515018</td>\n",
       "            </tr>\n",
       "            <tr>\n",
       "                        <th id=\"T_5f518700_b5eb_11e9_90bb_54ee75f33bb6level0_row5\" class=\"row_heading level0 row5\" >5</th>\n",
       "                        <td id=\"T_5f518700_b5eb_11e9_90bb_54ee75f33bb6row5_col0\" class=\"data row5 col0\" >6</td>\n",
       "                        <td id=\"T_5f518700_b5eb_11e9_90bb_54ee75f33bb6row5_col1\" class=\"data row5 col1\" >-1.33694</td>\n",
       "                        <td id=\"T_5f518700_b5eb_11e9_90bb_54ee75f33bb6row5_col2\" class=\"data row5 col2\" >0.562861</td>\n",
       "                        <td id=\"T_5f518700_b5eb_11e9_90bb_54ee75f33bb6row5_col3\" class=\"data row5 col3\" >1.39285</td>\n",
       "                        <td id=\"T_5f518700_b5eb_11e9_90bb_54ee75f33bb6row5_col4\" class=\"data row5 col4\" >-0.063328</td>\n",
       "            </tr>\n",
       "            <tr>\n",
       "                        <th id=\"T_5f518700_b5eb_11e9_90bb_54ee75f33bb6level0_row6\" class=\"row_heading level0 row6\" >6</th>\n",
       "                        <td id=\"T_5f518700_b5eb_11e9_90bb_54ee75f33bb6row6_col0\" class=\"data row6 col0\" >7</td>\n",
       "                        <td id=\"T_5f518700_b5eb_11e9_90bb_54ee75f33bb6row6_col1\" class=\"data row6 col1\" >0.121668</td>\n",
       "                        <td id=\"T_5f518700_b5eb_11e9_90bb_54ee75f33bb6row6_col2\" class=\"data row6 col2\" >1.2076</td>\n",
       "                        <td id=\"T_5f518700_b5eb_11e9_90bb_54ee75f33bb6row6_col3\" class=\"data row6 col3\" >-0.00204021</td>\n",
       "                        <td id=\"T_5f518700_b5eb_11e9_90bb_54ee75f33bb6row6_col4\" class=\"data row6 col4\" >1.6278</td>\n",
       "            </tr>\n",
       "            <tr>\n",
       "                        <th id=\"T_5f518700_b5eb_11e9_90bb_54ee75f33bb6level0_row7\" class=\"row_heading level0 row7\" >7</th>\n",
       "                        <td id=\"T_5f518700_b5eb_11e9_90bb_54ee75f33bb6row7_col0\" class=\"data row7 col0\" >8</td>\n",
       "                        <td id=\"T_5f518700_b5eb_11e9_90bb_54ee75f33bb6row7_col1\" class=\"data row7 col1\" >0.354493</td>\n",
       "                        <td id=\"T_5f518700_b5eb_11e9_90bb_54ee75f33bb6row7_col2\" class=\"data row7 col2\" >1.03753</td>\n",
       "                        <td id=\"T_5f518700_b5eb_11e9_90bb_54ee75f33bb6row7_col3\" class=\"data row7 col3\" >-0.385684</td>\n",
       "                        <td id=\"T_5f518700_b5eb_11e9_90bb_54ee75f33bb6row7_col4\" class=\"data row7 col4\" >0.519818</td>\n",
       "            </tr>\n",
       "            <tr>\n",
       "                        <th id=\"T_5f518700_b5eb_11e9_90bb_54ee75f33bb6level0_row8\" class=\"row_heading level0 row8\" >8</th>\n",
       "                        <td id=\"T_5f518700_b5eb_11e9_90bb_54ee75f33bb6row8_col0\" class=\"data row8 col0\" >9</td>\n",
       "                        <td id=\"T_5f518700_b5eb_11e9_90bb_54ee75f33bb6row8_col1\" class=\"data row8 col1\" >1.68658</td>\n",
       "                        <td id=\"T_5f518700_b5eb_11e9_90bb_54ee75f33bb6row8_col2\" class=\"data row8 col2\" >-1.32596</td>\n",
       "                        <td id=\"T_5f518700_b5eb_11e9_90bb_54ee75f33bb6row8_col3\" class=\"data row8 col3\" >1.42898</td>\n",
       "                        <td id=\"T_5f518700_b5eb_11e9_90bb_54ee75f33bb6row8_col4\" class=\"data row8 col4\" >-2.08935</td>\n",
       "            </tr>\n",
       "            <tr>\n",
       "                        <th id=\"T_5f518700_b5eb_11e9_90bb_54ee75f33bb6level0_row9\" class=\"row_heading level0 row9\" >9</th>\n",
       "                        <td id=\"T_5f518700_b5eb_11e9_90bb_54ee75f33bb6row9_col0\" class=\"data row9 col0\" >10</td>\n",
       "                        <td id=\"T_5f518700_b5eb_11e9_90bb_54ee75f33bb6row9_col1\" class=\"data row9 col1\" >-0.12982</td>\n",
       "                        <td id=\"T_5f518700_b5eb_11e9_90bb_54ee75f33bb6row9_col2\" class=\"data row9 col2\" >0.631523</td>\n",
       "                        <td id=\"T_5f518700_b5eb_11e9_90bb_54ee75f33bb6row9_col3\" class=\"data row9 col3\" >-0.586538</td>\n",
       "                        <td id=\"T_5f518700_b5eb_11e9_90bb_54ee75f33bb6row9_col4\" class=\"data row9 col4\" >0.29072</td>\n",
       "            </tr>\n",
       "    </tbody></table>"
      ],
      "text/plain": [
       "<pandas.io.formats.style.Styler at 0x25539c1ea90>"
      ]
     },
     "execution_count": 4,
     "metadata": {},
     "output_type": "execute_result"
    }
   ],
   "source": [
    "df.style.highlight_max(axis=1)"
   ]
  },
  {
   "cell_type": "code",
   "execution_count": 5,
   "metadata": {
    "pycharm": {
     "is_executing": false,
     "metadata": false,
     "name": "#%%\n"
    }
   },
   "outputs": [
    {
     "data": {
      "text/html": [
       "<style  type=\"text/css\" >\n",
       "    #T_608dad64_b5eb_11e9_bfa2_54ee75f33bb6row0_col0 {\n",
       "            background-color:  yellow;\n",
       "        }    #T_608dad64_b5eb_11e9_bfa2_54ee75f33bb6row1_col2 {\n",
       "            background-color:  yellow;\n",
       "        }    #T_608dad64_b5eb_11e9_bfa2_54ee75f33bb6row2_col1 {\n",
       "            background-color:  yellow;\n",
       "        }    #T_608dad64_b5eb_11e9_bfa2_54ee75f33bb6row8_col4 {\n",
       "            background-color:  yellow;\n",
       "        }    #T_608dad64_b5eb_11e9_bfa2_54ee75f33bb6row9_col3 {\n",
       "            background-color:  yellow;\n",
       "        }</style><table id=\"T_608dad64_b5eb_11e9_bfa2_54ee75f33bb6\" ><thead>    <tr>        <th class=\"blank level0\" ></th>        <th class=\"col_heading level0 col0\" >A</th>        <th class=\"col_heading level0 col1\" >B</th>        <th class=\"col_heading level0 col2\" >C</th>        <th class=\"col_heading level0 col3\" >D</th>        <th class=\"col_heading level0 col4\" >E</th>    </tr></thead><tbody>\n",
       "                <tr>\n",
       "                        <th id=\"T_608dad64_b5eb_11e9_bfa2_54ee75f33bb6level0_row0\" class=\"row_heading level0 row0\" >0</th>\n",
       "                        <td id=\"T_608dad64_b5eb_11e9_bfa2_54ee75f33bb6row0_col0\" class=\"data row0 col0\" >1</td>\n",
       "                        <td id=\"T_608dad64_b5eb_11e9_bfa2_54ee75f33bb6row0_col1\" class=\"data row0 col1\" >1.32921</td>\n",
       "                        <td id=\"T_608dad64_b5eb_11e9_bfa2_54ee75f33bb6row0_col2\" class=\"data row0 col2\" >nan</td>\n",
       "                        <td id=\"T_608dad64_b5eb_11e9_bfa2_54ee75f33bb6row0_col3\" class=\"data row0 col3\" >-0.31628</td>\n",
       "                        <td id=\"T_608dad64_b5eb_11e9_bfa2_54ee75f33bb6row0_col4\" class=\"data row0 col4\" >-0.99081</td>\n",
       "            </tr>\n",
       "            <tr>\n",
       "                        <th id=\"T_608dad64_b5eb_11e9_bfa2_54ee75f33bb6level0_row1\" class=\"row_heading level0 row1\" >1</th>\n",
       "                        <td id=\"T_608dad64_b5eb_11e9_bfa2_54ee75f33bb6row1_col0\" class=\"data row1 col0\" >2</td>\n",
       "                        <td id=\"T_608dad64_b5eb_11e9_bfa2_54ee75f33bb6row1_col1\" class=\"data row1 col1\" >-1.07082</td>\n",
       "                        <td id=\"T_608dad64_b5eb_11e9_bfa2_54ee75f33bb6row1_col2\" class=\"data row1 col2\" >-1.43871</td>\n",
       "                        <td id=\"T_608dad64_b5eb_11e9_bfa2_54ee75f33bb6row1_col3\" class=\"data row1 col3\" >0.564417</td>\n",
       "                        <td id=\"T_608dad64_b5eb_11e9_bfa2_54ee75f33bb6row1_col4\" class=\"data row1 col4\" >0.295722</td>\n",
       "            </tr>\n",
       "            <tr>\n",
       "                        <th id=\"T_608dad64_b5eb_11e9_bfa2_54ee75f33bb6level0_row2\" class=\"row_heading level0 row2\" >2</th>\n",
       "                        <td id=\"T_608dad64_b5eb_11e9_bfa2_54ee75f33bb6row2_col0\" class=\"data row2 col0\" >3</td>\n",
       "                        <td id=\"T_608dad64_b5eb_11e9_bfa2_54ee75f33bb6row2_col1\" class=\"data row2 col1\" >-1.6264</td>\n",
       "                        <td id=\"T_608dad64_b5eb_11e9_bfa2_54ee75f33bb6row2_col2\" class=\"data row2 col2\" >0.219565</td>\n",
       "                        <td id=\"T_608dad64_b5eb_11e9_bfa2_54ee75f33bb6row2_col3\" class=\"data row2 col3\" >0.678805</td>\n",
       "                        <td id=\"T_608dad64_b5eb_11e9_bfa2_54ee75f33bb6row2_col4\" class=\"data row2 col4\" >1.88927</td>\n",
       "            </tr>\n",
       "            <tr>\n",
       "                        <th id=\"T_608dad64_b5eb_11e9_bfa2_54ee75f33bb6level0_row3\" class=\"row_heading level0 row3\" >3</th>\n",
       "                        <td id=\"T_608dad64_b5eb_11e9_bfa2_54ee75f33bb6row3_col0\" class=\"data row3 col0\" >4</td>\n",
       "                        <td id=\"T_608dad64_b5eb_11e9_bfa2_54ee75f33bb6row3_col1\" class=\"data row3 col1\" >0.961538</td>\n",
       "                        <td id=\"T_608dad64_b5eb_11e9_bfa2_54ee75f33bb6row3_col2\" class=\"data row3 col2\" >0.104011</td>\n",
       "                        <td id=\"T_608dad64_b5eb_11e9_bfa2_54ee75f33bb6row3_col3\" class=\"data row3 col3\" >-0.481165</td>\n",
       "                        <td id=\"T_608dad64_b5eb_11e9_bfa2_54ee75f33bb6row3_col4\" class=\"data row3 col4\" >0.850229</td>\n",
       "            </tr>\n",
       "            <tr>\n",
       "                        <th id=\"T_608dad64_b5eb_11e9_bfa2_54ee75f33bb6level0_row4\" class=\"row_heading level0 row4\" >4</th>\n",
       "                        <td id=\"T_608dad64_b5eb_11e9_bfa2_54ee75f33bb6row4_col0\" class=\"data row4 col0\" >5</td>\n",
       "                        <td id=\"T_608dad64_b5eb_11e9_bfa2_54ee75f33bb6row4_col1\" class=\"data row4 col1\" >1.45342</td>\n",
       "                        <td id=\"T_608dad64_b5eb_11e9_bfa2_54ee75f33bb6row4_col2\" class=\"data row4 col2\" >1.05774</td>\n",
       "                        <td id=\"T_608dad64_b5eb_11e9_bfa2_54ee75f33bb6row4_col3\" class=\"data row4 col3\" >0.165562</td>\n",
       "                        <td id=\"T_608dad64_b5eb_11e9_bfa2_54ee75f33bb6row4_col4\" class=\"data row4 col4\" >0.515018</td>\n",
       "            </tr>\n",
       "            <tr>\n",
       "                        <th id=\"T_608dad64_b5eb_11e9_bfa2_54ee75f33bb6level0_row5\" class=\"row_heading level0 row5\" >5</th>\n",
       "                        <td id=\"T_608dad64_b5eb_11e9_bfa2_54ee75f33bb6row5_col0\" class=\"data row5 col0\" >6</td>\n",
       "                        <td id=\"T_608dad64_b5eb_11e9_bfa2_54ee75f33bb6row5_col1\" class=\"data row5 col1\" >-1.33694</td>\n",
       "                        <td id=\"T_608dad64_b5eb_11e9_bfa2_54ee75f33bb6row5_col2\" class=\"data row5 col2\" >0.562861</td>\n",
       "                        <td id=\"T_608dad64_b5eb_11e9_bfa2_54ee75f33bb6row5_col3\" class=\"data row5 col3\" >1.39285</td>\n",
       "                        <td id=\"T_608dad64_b5eb_11e9_bfa2_54ee75f33bb6row5_col4\" class=\"data row5 col4\" >-0.063328</td>\n",
       "            </tr>\n",
       "            <tr>\n",
       "                        <th id=\"T_608dad64_b5eb_11e9_bfa2_54ee75f33bb6level0_row6\" class=\"row_heading level0 row6\" >6</th>\n",
       "                        <td id=\"T_608dad64_b5eb_11e9_bfa2_54ee75f33bb6row6_col0\" class=\"data row6 col0\" >7</td>\n",
       "                        <td id=\"T_608dad64_b5eb_11e9_bfa2_54ee75f33bb6row6_col1\" class=\"data row6 col1\" >0.121668</td>\n",
       "                        <td id=\"T_608dad64_b5eb_11e9_bfa2_54ee75f33bb6row6_col2\" class=\"data row6 col2\" >1.2076</td>\n",
       "                        <td id=\"T_608dad64_b5eb_11e9_bfa2_54ee75f33bb6row6_col3\" class=\"data row6 col3\" >-0.00204021</td>\n",
       "                        <td id=\"T_608dad64_b5eb_11e9_bfa2_54ee75f33bb6row6_col4\" class=\"data row6 col4\" >1.6278</td>\n",
       "            </tr>\n",
       "            <tr>\n",
       "                        <th id=\"T_608dad64_b5eb_11e9_bfa2_54ee75f33bb6level0_row7\" class=\"row_heading level0 row7\" >7</th>\n",
       "                        <td id=\"T_608dad64_b5eb_11e9_bfa2_54ee75f33bb6row7_col0\" class=\"data row7 col0\" >8</td>\n",
       "                        <td id=\"T_608dad64_b5eb_11e9_bfa2_54ee75f33bb6row7_col1\" class=\"data row7 col1\" >0.354493</td>\n",
       "                        <td id=\"T_608dad64_b5eb_11e9_bfa2_54ee75f33bb6row7_col2\" class=\"data row7 col2\" >1.03753</td>\n",
       "                        <td id=\"T_608dad64_b5eb_11e9_bfa2_54ee75f33bb6row7_col3\" class=\"data row7 col3\" >-0.385684</td>\n",
       "                        <td id=\"T_608dad64_b5eb_11e9_bfa2_54ee75f33bb6row7_col4\" class=\"data row7 col4\" >0.519818</td>\n",
       "            </tr>\n",
       "            <tr>\n",
       "                        <th id=\"T_608dad64_b5eb_11e9_bfa2_54ee75f33bb6level0_row8\" class=\"row_heading level0 row8\" >8</th>\n",
       "                        <td id=\"T_608dad64_b5eb_11e9_bfa2_54ee75f33bb6row8_col0\" class=\"data row8 col0\" >9</td>\n",
       "                        <td id=\"T_608dad64_b5eb_11e9_bfa2_54ee75f33bb6row8_col1\" class=\"data row8 col1\" >1.68658</td>\n",
       "                        <td id=\"T_608dad64_b5eb_11e9_bfa2_54ee75f33bb6row8_col2\" class=\"data row8 col2\" >-1.32596</td>\n",
       "                        <td id=\"T_608dad64_b5eb_11e9_bfa2_54ee75f33bb6row8_col3\" class=\"data row8 col3\" >1.42898</td>\n",
       "                        <td id=\"T_608dad64_b5eb_11e9_bfa2_54ee75f33bb6row8_col4\" class=\"data row8 col4\" >-2.08935</td>\n",
       "            </tr>\n",
       "            <tr>\n",
       "                        <th id=\"T_608dad64_b5eb_11e9_bfa2_54ee75f33bb6level0_row9\" class=\"row_heading level0 row9\" >9</th>\n",
       "                        <td id=\"T_608dad64_b5eb_11e9_bfa2_54ee75f33bb6row9_col0\" class=\"data row9 col0\" >10</td>\n",
       "                        <td id=\"T_608dad64_b5eb_11e9_bfa2_54ee75f33bb6row9_col1\" class=\"data row9 col1\" >-0.12982</td>\n",
       "                        <td id=\"T_608dad64_b5eb_11e9_bfa2_54ee75f33bb6row9_col2\" class=\"data row9 col2\" >0.631523</td>\n",
       "                        <td id=\"T_608dad64_b5eb_11e9_bfa2_54ee75f33bb6row9_col3\" class=\"data row9 col3\" >-0.586538</td>\n",
       "                        <td id=\"T_608dad64_b5eb_11e9_bfa2_54ee75f33bb6row9_col4\" class=\"data row9 col4\" >0.29072</td>\n",
       "            </tr>\n",
       "    </tbody></table>"
      ],
      "text/plain": [
       "<pandas.io.formats.style.Styler at 0x25536b6cef0>"
      ]
     },
     "execution_count": 5,
     "metadata": {},
     "output_type": "execute_result"
    }
   ],
   "source": [
    "df.style.highlight_min(axis=0)"
   ]
  },
  {
   "cell_type": "code",
   "execution_count": null,
   "metadata": {
    "pycharm": {
     "metadata": false,
     "name": "#%%\n"
    }
   },
   "outputs": [],
   "source": [
    "\n"
   ]
  }
 ],
 "metadata": {
  "kernelspec": {
   "display_name": "Python 3",
   "language": "python",
   "name": "python3"
  },
  "language_info": {
   "codemirror_mode": {
    "name": "ipython",
    "version": 3
   },
   "file_extension": ".py",
   "mimetype": "text/x-python",
   "name": "python",
   "nbconvert_exporter": "python",
   "pygments_lexer": "ipython3",
   "version": "3.7.3"
  },
  "pycharm": {
   "stem_cell": {
    "cell_type": "raw",
    "source": [],
    "metadata": {
     "collapsed": false
    }
   }
  }
 },
 "nbformat": 4,
 "nbformat_minor": 1
}