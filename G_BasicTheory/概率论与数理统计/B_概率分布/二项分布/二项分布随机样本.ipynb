{
 "cells": [
  {
   "cell_type": "code",
   "execution_count": 16,
   "outputs": [
    {
     "name": "stdout",
     "output_type": "stream",
     "text": [
      "2\n",
      "\n",
      "[5 4 3 2 2 1 5 3 4 0]\n",
      "\n",
      "[[6 4 2]\n",
      " [2 2 2]]\n"
     ]
    }
   ],
   "source": [
    "import numpy as np\n",
    "from scipy.stats import binom\n",
    "\n",
    "# draw a single sample\n",
    "np.random.seed(42)\n",
    "# rvs(n, p, loc=0, size=1, random_state=None)\tRandom variates.\n",
    "print(binom.rvs(p=0.3, n=10), end=\"\\n\\n\")\n",
    "\n",
    "# draw 10 samples\n",
    "print(binom.rvs(p=0.3, n=10, size=10), end=\"\\n\\n\")\n",
    "\n",
    "print(binom.rvs(p=0.3, n=10, size=(2, 3)))"
   ],
   "metadata": {
    "collapsed": false,
    "pycharm": {
     "name": "#%%\n"
    }
   }
  },
  {
   "cell_type": "code",
   "execution_count": 17,
   "outputs": [
    {
     "name": "stdout",
     "output_type": "stream",
     "text": [
      "3\n",
      "\n",
      "[3 2 3 1 2 2 3 4 2 3]\n",
      "\n",
      "[[3 1 3 2 1]\n",
      " [5 6 4 2 1]]\n"
     ]
    }
   ],
   "source": [
    "# Draw samples from a binomial distribution.\n",
    "print(np.random.binomial(p=0.3, n=10), end='\\n\\n')  # draw a single sample\n",
    "\n",
    "print(np.random.binomial(p=0.3, n=10, size=10), end='\\n\\n')  # draw 10 samples\n",
    "\n",
    "print(np.random.binomial(p=0.3, n=10, size=(2, 5)))"
   ],
   "metadata": {
    "collapsed": false,
    "pycharm": {
     "name": "#%%\n"
    }
   }
  },
  {
   "cell_type": "code",
   "execution_count": 19,
   "outputs": [
    {
     "data": {
      "text/plain": "array([[[19, 11, 15, 12, 14, 29],\n        [15, 11, 21, 16, 17, 20],\n        [19, 14, 18,  8, 11, 30]],\n\n       [[ 9, 13, 15, 14, 19, 30],\n        [13, 12, 15, 11, 19, 30],\n        [ 9, 23, 16, 10,  7, 35]],\n\n       [[17, 16, 15, 15,  8, 29],\n        [13, 10, 19, 15, 13, 30],\n        [ 9, 13, 14, 18, 16, 30]]])"
     },
     "execution_count": 19,
     "metadata": {},
     "output_type": "execute_result"
    }
   ],
   "source": [
    "# Draw samples from a multinomial distribution\n",
    "'''\n",
    "n : int\n",
    "    Number of experiments.\n",
    "pvals : sequence of floats, length p\n",
    "    Probabilities of each of the ``p`` different outcomes.  These\n",
    "    must sum to 1 (however, the last element is always assumed to\n",
    "    account for the remaining probability, as long as\n",
    "    ``sum(pvals[:-1]) <= 1)``.\n",
    "'''\n",
    "np.random.multinomial(100, [1 / 7.] * 5 + [2 / 7.], size=(3, 3))"
   ],
   "metadata": {
    "collapsed": false,
    "pycharm": {
     "name": "#%%\n"
    }
   }
  },
  {
   "cell_type": "code",
   "execution_count": null,
   "outputs": [],
   "source": [],
   "metadata": {
    "collapsed": false,
    "pycharm": {
     "name": "#%%\n"
    }
   }
  }
 ],
 "metadata": {
  "language_info": {
   "codemirror_mode": {
    "name": "ipython",
    "version": 2
   },
   "file_extension": ".py",
   "mimetype": "text/x-python",
   "name": "python",
   "nbconvert_exporter": "python",
   "pygments_lexer": "ipython2",
   "version": "2.7.6"
  },
  "kernelspec": {
   "name": "python3",
   "language": "python",
   "display_name": "Python 3"
  }
 },
 "nbformat": 4,
 "nbformat_minor": 0
}