{
 "cells": [
  {
   "cell_type": "code",
   "execution_count": 40,
   "outputs": [],
   "source": [
    "import numpy as np"
   ],
   "metadata": {
    "collapsed": false,
    "pycharm": {
     "name": "#%%\n"
    }
   }
  },
  {
   "cell_type": "code",
   "source": [
    "arr = np.array([1, 2, 3, 4, 5, 6, 7, 8])\n",
    "print(id(arr))\n",
    "\n",
    "arr[2:5] = np.array([0, 0, 0])  # 直接对切片进行赋值\n",
    "\n",
    "print(id(arr))  # arr指向的地址不变\n",
    "print(arr)  # arr发生相应改变"
   ],
   "metadata": {
    "collapsed": false,
    "pycharm": {
     "name": "#%%\n"
    }
   },
   "execution_count": 41,
   "outputs": [
    {
     "name": "stdout",
     "output_type": "stream",
     "text": [
      "2024802918832\n",
      "2024802918832\n",
      "[1 2 0 0 0 6 7 8]\n"
     ]
    }
   ]
  },
  {
   "cell_type": "code",
   "execution_count": 42,
   "outputs": [
    {
     "name": "stdout",
     "output_type": "stream",
     "text": [
      "2024811541776\n",
      "2024811541776\n",
      "[  1   2 100   4   5   6   7   8]\n"
     ]
    }
   ],
   "source": [
    "arr = np.array([1, 2, 3, 4, 5, 6, 7, 8])\n",
    "print(id(arr))\n",
    "\n",
    "arr[2] = 100  # 直接对索引值进行赋值\n",
    "\n",
    "print(id(arr))  # arr指向的地址不变\n",
    "print(arr)  # arr发生相应改变"
   ],
   "metadata": {
    "collapsed": false,
    "pycharm": {
     "name": "#%%\n"
    }
   }
  },
  {
   "cell_type": "code",
   "execution_count": 43,
   "outputs": [
    {
     "name": "stdout",
     "output_type": "stream",
     "text": [
      "2024805806128\n",
      "False\n",
      "2024805806128\n",
      "[1 2 3 4 5 6 7 8]\n"
     ]
    }
   ],
   "source": [
    "arr = np.array([1, 2, 3, 4, 5, 6, 7, 8])\n",
    "print(id(arr))\n",
    "\n",
    "a = arr[4]  # 此时a为不可变数据类型\n",
    "print(np.shares_memory(a, arr))  # 此时a与arr不共享数据的物理地址\n",
    "\n",
    "a = 55\n",
    "\n",
    "print(id(arr))  # arr指向地址不变\n",
    "print(arr)  # arr输出不变"
   ],
   "metadata": {
    "collapsed": false,
    "pycharm": {
     "name": "#%%\n"
    }
   }
  },
  {
   "cell_type": "code",
   "execution_count": 44,
   "outputs": [
    {
     "name": "stdout",
     "output_type": "stream",
     "text": [
      "id(arr): 2024811542736\n",
      "id(a): 2024805806128\n",
      "True\n",
      "after change id(a): 2024805806128\n",
      "[48]\n",
      "[ 1  2  3  4 48  6  7  8]\n"
     ]
    }
   ],
   "source": [
    "arr = np.array([1, 2, 3, 4, 5, 6, 7, 8])\n",
    "\n",
    "a = arr[4:5]  # 注意:此时a为可变数据类型\n",
    "\n",
    "print('id(arr):', id(arr))\n",
    "print('id(a):', id(a))\n",
    "\n",
    "# ★★★★★★★★★★★★★★★切片共享内存\n",
    "print(np.shares_memory(a, arr))  # a与arr共享数据的物理地址\n",
    "\n",
    "a += 43  # 可变的类型的追加操作\n",
    "print('after change id(a):', id(a))  # a指向的地址不变\n",
    "print(a)  # a输出改变\n",
    "\n",
    "print(arr)  # 由于共享数据的物理地址,故arr指向内存的值也发生相应的改变"
   ],
   "metadata": {
    "collapsed": false,
    "pycharm": {
     "name": "#%%\n"
    }
   }
  },
  {
   "cell_type": "code",
   "execution_count": 45,
   "outputs": [
    {
     "name": "stdout",
     "output_type": "stream",
     "text": [
      "id(arr): 2024813418416\n",
      "id(a): 2024813418128\n",
      "True\n",
      "after change id(a): 2024811542736\n",
      "[48]\n",
      "[1 2 3 4 5 6 7 8]\n"
     ]
    }
   ],
   "source": [
    "arr = np.array([1, 2, 3, 4, 5, 6, 7, 8])\n",
    "\n",
    "a = arr[4:5]  # 注意:此时a为可变数据类型\n",
    "\n",
    "print('id(arr):', id(arr))\n",
    "print('id(a):', id(a))\n",
    "\n",
    "print(np.shares_memory(a, arr))  # a与arr共享数据的物理地址\n",
    "\n",
    "a = a + 43  # 可变的类型的连接操作\n",
    "print('after change id(a):', id(a))  # a指向新的内存地址\n",
    "print(a)\n",
    "\n",
    "print(arr)  # 由于共享的物理地址没有改变,故arr指向内存的值不变"
   ],
   "metadata": {
    "collapsed": false,
    "pycharm": {
     "name": "#%%\n"
    }
   }
  },
  {
   "cell_type": "code",
   "execution_count": 46,
   "outputs": [
    {
     "name": "stdout",
     "output_type": "stream",
     "text": [
      "2024813418416\n",
      "True\n",
      "2024813418128\n",
      "[0 0 0]\n",
      "[1 2 3 4 5 6 7 8]\n"
     ]
    }
   ],
   "source": [
    "arr = np.array([1, 2, 3, 4, 5, 6, 7, 8])\n",
    "\n",
    "a = arr[2:5]\n",
    "print(id(a))\n",
    "print(np.shares_memory(a, arr))  # a与arr共享内存数据的物理地址\n",
    "\n",
    "a = np.array([0, 0, 0])  # 整体重新进行赋值\n",
    "print(id(a))  # a指向新的地址\n",
    "print(a)\n",
    "\n",
    "print(arr)  # 由于共享的物理地址没有改变,故arr指向地址的值不变"
   ],
   "metadata": {
    "collapsed": false,
    "pycharm": {
     "name": "#%%\n"
    }
   }
  },
  {
   "cell_type": "code",
   "execution_count": 47,
   "outputs": [
    {
     "name": "stdout",
     "output_type": "stream",
     "text": [
      "2024813419664\n",
      "True\n",
      "2024813419664\n",
      "[0 0 5 6]\n",
      "[1 2 0 0 5 6 7 8]\n"
     ]
    }
   ],
   "source": [
    "arr = np.array([1, 2, 3, 4, 5, 6, 7, 8])\n",
    "\n",
    "a = arr[2:6]\n",
    "print(id(a))\n",
    "print(np.shares_memory(a, arr))  # a与arr共享内存数据的物理地址\n",
    "\n",
    "a[:2] = np.array([0, 0])  # 对a的切片进行赋值(可进行广播)\n",
    "print(id(a))  # a指向的地址不变\n",
    "print(a)  # a输出改变\n",
    "\n",
    "print(arr)  # 共享物理地址没有改变,故arr指向内存的值不变"
   ],
   "metadata": {
    "collapsed": false,
    "pycharm": {
     "name": "#%%\n"
    }
   }
  },
  {
   "cell_type": "markdown",
   "source": [
    "### numpy中共享数据的物理地址的操作"
   ],
   "metadata": {
    "collapsed": false,
    "pycharm": {
     "name": "#%% md\n"
    }
   }
  },
  {
   "cell_type": "code",
   "execution_count": 48,
   "outputs": [
    {
     "name": "stdout",
     "output_type": "stream",
     "text": [
      "[ 0  1  2  3  4  5  6  7  8  9 10 11 12 13 14 15 16 17 18 19 20 21 22 23\n",
      " 24 25 26 27 28 29]\n",
      "[[ 0  1  2  3  4  5]\n",
      " [ 6  7  8  9 10 11]\n",
      " [12 13 14 15 16 17]\n",
      " [18 19 20 21 22 23]\n",
      " [24 25 26 27 28 29]]\n",
      "\n",
      "2024794082352\n",
      "2024811542160\n",
      "\n",
      "True\n",
      "\n",
      "2024794082352\n",
      "[1000000       1       2       3       4       5       6       7       8\n",
      "       9      10      11      12      13      14      15      16      17\n",
      "      18      19      20      21      22      23      24      25      26\n",
      "      27      28      29]\n",
      "[[1000000       1       2       3       4       5]\n",
      " [      6       7       8       9      10      11]\n",
      " [     12      13      14      15      16      17]\n",
      " [     18      19      20      21      22      23]\n",
      " [     24      25      26      27      28      29]]\n",
      "\n",
      "[ 1000000        1        2        3        4        5        6        7\n",
      "        8        9       10       11       12       13       14       15\n",
      "       16       17       18       19       20       21       22       23\n",
      "       24       25       26       27       28 99999999]\n"
     ]
    }
   ],
   "source": [
    "a = np.arange(30)\n",
    "b = a.reshape(5, 6)\n",
    "\n",
    "print(a)\n",
    "print(b, end='\\n\\n')\n",
    "\n",
    "print(id(a))\n",
    "print(id(b), end='\\n\\n')  # 变量a,b指向的地址不同\n",
    "\n",
    "# ★★★★★★★★★★★★★★★reshape操作共享内存\n",
    "print(np.shares_memory(a, b), end='\\n\\n')  # b与a共享数据的物理地址\n",
    "\n",
    "a[0] = 1000000  # 修改a\n",
    "print(id(a))  # a指向的地址不变\n",
    "print(a)\n",
    "print(b, end='\\n\\n')  # 由于共享数据的物理地址,故b指向内存的值相应位置也发生改变\n",
    "\n",
    "b[-1][-1] = 99999999  # 修改b\n",
    "print(a)  # 同理"
   ],
   "metadata": {
    "collapsed": false,
    "pycharm": {
     "name": "#%%\n"
    }
   }
  },
  {
   "cell_type": "code",
   "execution_count": 49,
   "outputs": [
    {
     "data": {
      "text/plain": "True"
     },
     "execution_count": 49,
     "metadata": {},
     "output_type": "execute_result"
    }
   ],
   "source": [
    "c = np.transpose(b)\n",
    "\n",
    "# ★★★★★★★★★★★★★★★transpose操作共享数据的物理地址\n",
    "np.shares_memory(b, c)"
   ],
   "metadata": {
    "collapsed": false,
    "pycharm": {
     "name": "#%%\n"
    }
   }
  },
  {
   "cell_type": "code",
   "execution_count": 50,
   "outputs": [
    {
     "data": {
      "text/plain": "True"
     },
     "execution_count": 50,
     "metadata": {},
     "output_type": "execute_result"
    }
   ],
   "source": [
    "d = np.swapaxes(b, 0, 1)  # b.T同理\n",
    "\n",
    "# ★★★★★★★★★★★★★★★swapaxes操作共享数据的物理地址\n",
    "np.shares_memory(b, d)"
   ],
   "metadata": {
    "collapsed": false,
    "pycharm": {
     "name": "#%%\n"
    }
   }
  },
  {
   "cell_type": "code",
   "execution_count": 51,
   "outputs": [
    {
     "data": {
      "text/plain": "True"
     },
     "execution_count": 51,
     "metadata": {},
     "output_type": "execute_result"
    }
   ],
   "source": [
    "e = np.expand_dims(b, 0)\n",
    "\n",
    "# ★★★★★★★★★★★★★★★expand_dim操作共享数据的物理地址\n",
    "np.shares_memory(b, e)"
   ],
   "metadata": {
    "collapsed": false,
    "pycharm": {
     "name": "#%%\n"
    }
   }
  },
  {
   "cell_type": "code",
   "execution_count": 52,
   "outputs": [
    {
     "data": {
      "text/plain": "True"
     },
     "execution_count": 52,
     "metadata": {},
     "output_type": "execute_result"
    }
   ],
   "source": [
    "f = np.squeeze(e)\n",
    "\n",
    "# ★★★★★★★★★★★★★★★squeeze操作共享数据的物理地址\n",
    "np.shares_memory(e, f)"
   ],
   "metadata": {
    "collapsed": false,
    "pycharm": {
     "name": "#%%\n"
    }
   }
  },
  {
   "cell_type": "code",
   "execution_count": 53,
   "outputs": [
    {
     "data": {
      "text/plain": "True"
     },
     "execution_count": 53,
     "metadata": {},
     "output_type": "execute_result"
    }
   ],
   "source": [
    "g = b.ravel()\n",
    "# ★★★★★★★★★★★★★★★ravel操作共享数据的物理地址\n",
    "np.shares_memory(b, g)"
   ],
   "metadata": {
    "collapsed": false,
    "pycharm": {
     "name": "#%%\n"
    }
   }
  },
  {
   "cell_type": "code",
   "execution_count": 54,
   "outputs": [
    {
     "data": {
      "text/plain": "False"
     },
     "execution_count": 54,
     "metadata": {},
     "output_type": "execute_result"
    }
   ],
   "source": [
    "h = b.flatten()\n",
    "# ★★★★★★★★★★★★★★★flatten操作不共享数据的物理地址\n",
    "np.shares_memory(b, h)\n"
   ],
   "metadata": {
    "collapsed": false,
    "pycharm": {
     "name": "#%%\n"
    }
   }
  }
 ],
 "metadata": {
  "kernelspec": {
   "display_name": "Python 3",
   "language": "python",
   "name": "python3"
  },
  "language_info": {
   "codemirror_mode": {
    "name": "ipython",
    "version": 2
   },
   "file_extension": ".py",
   "mimetype": "text/x-python",
   "name": "python",
   "nbconvert_exporter": "python",
   "pygments_lexer": "ipython2",
   "version": "2.7.6"
  }
 },
 "nbformat": 4,
 "nbformat_minor": 0
}