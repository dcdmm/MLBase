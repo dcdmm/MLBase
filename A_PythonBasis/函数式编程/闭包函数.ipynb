{
 "cells": [
  {
   "cell_type": "markdown",
   "source": [
    "1. 闭包函数必须返回一个函数对象\n",
    "2. 闭包函数返回的那个函数必须引用外部变量"
   ],
   "metadata": {
    "pycharm": {
     "metadata": false,
     "name": "#%% md\n"
    }
   }
  },
  {
   "cell_type": "code",
   "execution_count": 30,
   "outputs": [],
   "source": "def line_conf(a, b):\n    def line(x):\n        return a * x + b   \n    \n    return line",
   "metadata": {
    "pycharm": {
     "metadata": false,
     "name": "#%%\n",
     "is_executing": false
    }
   }
  },
  {
   "cell_type": "code",
   "execution_count": 31,
   "outputs": [
    {
     "name": "stdout",
     "text": [
      "3\n5\n"
     ],
     "output_type": "stream"
    }
   ],
   "source": "# 定义两条直线\nline_A = line_conf(2, 1) # y=2x+b\nline_B = line_conf(3, 2) # y=3x+2\n\n# 打印x对应y的值\nprint(line_A(1)) # 3\nprint(line_B(1)) # 5",
   "metadata": {
    "pycharm": {
     "metadata": false,
     "name": "#%%\n",
     "is_executing": false
    }
   }
  },
  {
   "cell_type": "code",
   "execution_count": 32,
   "outputs": [
    {
     "name": "stdout",
     "text": [
      "(<cell at 0x000001C4DA8D0CD8: int object at 0x00007FF9624F9340>, <cell at 0x000001C4DA8D0EE8: int object at 0x00007FF9624F9360>, <cell at 0x000001C4DA8D0768: int object at 0x00007FF9624F93A0>)\n1\n2\n4\n"
     ],
     "output_type": "stream"
    }
   ],
   "source": "def line_conf(y):\n    a = 1\n    b = 2\n    def line(x): \n        print(a * x * y + b)\n        \n    return line\n\nprint(line_conf(4).__closure__) #  __closure__属性返回的是一个元组对象,包含闭包引用的外部变量\nfor i in line_conf(4).__closure__: \n    print(i.cell_contents) ",
   "metadata": {
    "pycharm": {
     "metadata": false,
     "name": "#%%\n",
     "is_executing": false
    }
   }
  },
  {
   "cell_type": "code",
   "execution_count": 33,
   "outputs": [
    {
     "name": "stdout",
     "text": [
      "None\n"
     ],
     "output_type": "stream"
    }
   ],
   "source": "def line_conf1():\n    a = 1\n    b = 2\n    def line1(x): # 没有引用的外部变量\n        print(x+1)\n        \n    return line1\n\nprint(line_conf1().__closure__) # None()",
   "metadata": {
    "pycharm": {
     "metadata": false,
     "name": "#%%\n",
     "is_executing": false
    }
   }
  },
  {
   "cell_type": "code",
   "execution_count": 34,
   "outputs": [
    {
     "traceback": [
      "\u001b[1;31m---------------------------------------------------------------------------\u001b[0m",
      "\u001b[1;31mAttributeError\u001b[0m                            Traceback (most recent call last)",
      "\u001b[1;32m<ipython-input-34-caa2975adf0e>\u001b[0m in \u001b[0;36m<module>\u001b[1;34m\u001b[0m\n\u001b[0;32m      6\u001b[0m     \u001b[1;32mreturn\u001b[0m \u001b[0ma\u001b[0m\u001b[1;33m+\u001b[0m\u001b[0mb\u001b[0m\u001b[1;33m\u001b[0m\u001b[1;33m\u001b[0m\u001b[0m\n\u001b[0;32m      7\u001b[0m \u001b[1;33m\u001b[0m\u001b[0m\n\u001b[1;32m----> 8\u001b[1;33m \u001b[0mprint\u001b[0m\u001b[1;33m(\u001b[0m\u001b[0mline_conf2\u001b[0m\u001b[1;33m(\u001b[0m\u001b[1;33m)\u001b[0m\u001b[1;33m.\u001b[0m\u001b[0m__closure__\u001b[0m\u001b[1;33m)\u001b[0m \u001b[1;31m# 不存在_closure__属性(没有返回一个函数对象)\u001b[0m\u001b[1;33m\u001b[0m\u001b[1;33m\u001b[0m\u001b[0m\n\u001b[0m",
      "\u001b[1;31mAttributeError\u001b[0m: 'int' object has no attribute '__closure__'"
     ],
     "ename": "AttributeError",
     "evalue": "'int' object has no attribute '__closure__'",
     "output_type": "error"
    }
   ],
   "source": "def line_conf2():\n    a = 1\n    b = 2\n    def line2(x): # 没有返回一个函数对象\n        print(a*x+b)\n        \n    return a+b \n\nprint(line_conf2().__closure__) #  'int' object has no attribute '__closure__'\n",
   "metadata": {
    "pycharm": {
     "metadata": false,
     "name": "#%%\n",
     "is_executing": false
    }
   }
  },
  {
   "cell_type": "code",
   "execution_count": 66,
   "outputs": [
    {
     "name": "stdout",
     "text": [
      "i 2\nf 3\ni 2\nf 3\ni 2\nf 3\n"
     ],
     "output_type": "stream"
    }
   ],
   "source": "# 循环体内定义的函数是无法保存循环执行过程中的不停变化的外部变量\n_list = []\nfor i in range(3):\n    def func(a):\n        print('i', i)\n        \n        return i+a   \n    \n    _list.append(func)\n\nfor f in _list:\n    print('f', f(1))",
   "metadata": {
    "pycharm": {
     "metadata": false,
     "name": "#%%\n",
     "is_executing": false
    }
   }
  },
  {
   "cell_type": "code",
   "execution_count": 61,
   "outputs": [
    {
     "name": "stdout",
     "text": [
      "i 0\ni 1\ni 2\nf 1\nf 2\nf 3\n"
     ],
     "output_type": "stream"
    }
   ],
   "source": "# 解决方法如下(利用闭包函数):\n_list = []\nfor i in range(3):\n    def func(i):\n        print('i', i) \n        def f_closure(a):\n            return i + a\n        \n        return f_closure\n    \n    _list.append(func(i))  \n    \nfor f in _list:\n    print('f', f(1))",
   "metadata": {
    "pycharm": {
     "metadata": false,
     "name": "#%%\n",
     "is_executing": false
    }
   }
  },
  {
   "cell_type": "code",
   "execution_count": 87,
   "outputs": [
    {
     "name": "stdout",
     "text": [
      "before love mother and father 这是我的童年\nnow love own 这是我的现在\nfuther love duanemngmeng 这是我的未来\nmother and father/before/\nown/now/\nduanemngmeng/futher/"
     ],
     "output_type": "stream"
    }
   ],
   "source": "# 闭包函数举例\ndef time(period):\n    love1 = 'duanemngmeng'\n    love2 = 'mother and father'\n    love3 = 'own'\n    \n    def do(what):\n        print(period, 'love', love1, what)\n    \n    def do1(what):\n        print(period, 'love', love2, what)\n        \n    def do2(what):\n        print(period, 'love', love3, what)\n    \n    if period == 'before':\n        return do1\n    elif period == 'now':\n        return do2\n    else:\n        return do\n\ntime1 = time('before')\ntime2 = time('now')\ntime3 = time('futher')\n\ntime1('这是我的童年')\ntime2('这是我的现在')\ntime3('这是我的未来')\n\nfor  i in time1.__closure__:\n    print(i.cell_contents, end='/')\nprint()\n\nfor  j in time2.__closure__:\n    print(j.cell_contents, end='/')\nprint()  \n\nfor  k in time3.__closure__:\n    print(k.cell_contents, end='/')",
   "metadata": {
    "pycharm": {
     "metadata": false,
     "name": "#%%\n",
     "is_executing": false
    }
   }
  },
  {
   "cell_type": "code",
   "execution_count": null,
   "outputs": [],
   "source": "\n",
   "metadata": {
    "pycharm": {
     "metadata": false,
     "name": "#%%\n"
    }
   }
  }
 ],
 "metadata": {
  "language_info": {
   "codemirror_mode": {
    "name": "ipython",
    "version": 2
   },
   "file_extension": ".py",
   "mimetype": "text/x-python",
   "name": "python",
   "nbconvert_exporter": "python",
   "pygments_lexer": "ipython2",
   "version": "2.7.6"
  },
  "kernelspec": {
   "name": "python3",
   "language": "python",
   "display_name": "Python 3"
  },
  "stem_cell": {
   "cell_type": "raw",
   "source": "",
   "metadata": {
    "pycharm": {
     "metadata": false
    }
   }
  },
  "pycharm": {
   "stem_cell": {
    "cell_type": "raw",
    "source": [],
    "metadata": {
     "collapsed": false
    }
   }
  }
 },
 "nbformat": 4,
 "nbformat_minor": 0
}