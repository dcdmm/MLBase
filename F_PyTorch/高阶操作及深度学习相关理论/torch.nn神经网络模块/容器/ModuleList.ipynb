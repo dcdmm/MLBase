{
 "cells": [
  {
   "cell_type": "code",
   "execution_count": 2,
   "metadata": {
    "collapsed": true
   },
   "outputs": [
    {
     "data": {
      "text/plain": "ModuleList(\n  (linears): ModuleList(\n    (0): Linear(in_features=10, out_features=10, bias=True)\n    (1): Linear(in_features=10, out_features=10, bias=True)\n    (2): Linear(in_features=10, out_features=10, bias=True)\n    (3): Linear(in_features=10, out_features=10, bias=True)\n    (4): Linear(in_features=10, out_features=10, bias=True)\n    (5): Linear(in_features=10, out_features=10, bias=True)\n    (6): Linear(in_features=10, out_features=10, bias=True)\n    (7): Linear(in_features=10, out_features=10, bias=True)\n    (8): Linear(in_features=10, out_features=10, bias=True)\n    (9): Linear(in_features=10, out_features=10, bias=True)\n    (10): Linear(in_features=10, out_features=10, bias=True)\n    (11): Linear(in_features=10, out_features=10, bias=True)\n    (12): Linear(in_features=10, out_features=10, bias=True)\n    (13): Linear(in_features=10, out_features=10, bias=True)\n    (14): Linear(in_features=10, out_features=10, bias=True)\n    (15): Linear(in_features=10, out_features=10, bias=True)\n    (16): Linear(in_features=10, out_features=10, bias=True)\n    (17): Linear(in_features=10, out_features=10, bias=True)\n    (18): Linear(in_features=10, out_features=10, bias=True)\n    (19): Linear(in_features=10, out_features=10, bias=True)\n  )\n)"
     },
     "execution_count": 2,
     "metadata": {},
     "output_type": "execute_result"
    }
   ],
   "source": [
    "import torch.nn as nn\n",
    "\n",
    "\n",
    "class ModuleList(nn.Module):\n",
    "    def __init__(self):\n",
    "        super(ModuleList, self).__init__()\n",
    "        self.linears = nn.ModuleList([nn.Linear(10, 10) for _ in range(20)]) # 接受一个由网络层组成的列表\n",
    "\n",
    "    def change(self):\n",
    "        self.linears.append(nn.ReLU())\n",
    "        self.linears.extend([nn.Linear(10, 10), nn.Linear(10, 10)])\n",
    "\n",
    "    def forward(self, x):\n",
    "        \"\"\"前向传播\"\"\"\n",
    "        for i, linear in enumerate(self.linears):\n",
    "            x = linear[i // 2](x) + linear[x] # 通过网络层顺序进行索引\n",
    "        return x\n",
    "\n",
    "\n",
    "net = ModuleList()\n",
    "net"
   ]
  },
  {
   "cell_type": "code",
   "execution_count": 3,
   "outputs": [
    {
     "name": "stdout",
     "output_type": "stream",
     "text": [
      "Linear(in_features=10, out_features=10, bias=True)\n",
      "<class 'torch.nn.modules.linear.Linear'>\n",
      "ModuleList(\n",
      "  (0): Linear(in_features=10, out_features=10, bias=True)\n",
      "  (1): Linear(in_features=10, out_features=10, bias=True)\n",
      "  (2): Linear(in_features=10, out_features=10, bias=True)\n",
      "  (3): Linear(in_features=10, out_features=10, bias=True)\n",
      "  (4): Linear(in_features=10, out_features=10, bias=True)\n",
      "  (5): Linear(in_features=10, out_features=10, bias=True)\n",
      "  (6): Linear(in_features=10, out_features=10, bias=True)\n",
      ")\n"
     ]
    }
   ],
   "source": [
    "print(net.linears[0]) # 通过网络层顺序进行索引或切片\n",
    "print(type(net.linears[0]))\n",
    "print(net.linears[8:15])"
   ],
   "metadata": {
    "collapsed": false,
    "pycharm": {
     "name": "#%%\n"
    }
   }
  },
  {
   "cell_type": "code",
   "execution_count": 4,
   "outputs": [
    {
     "data": {
      "text/plain": "ModuleList(\n  (linears): ModuleList(\n    (0): Linear(in_features=10, out_features=10, bias=True)\n    (1): Linear(in_features=10, out_features=10, bias=True)\n    (2): Linear(in_features=10, out_features=10, bias=True)\n    (3): Linear(in_features=10, out_features=10, bias=True)\n    (4): Linear(in_features=10, out_features=10, bias=True)\n    (5): Linear(in_features=10, out_features=10, bias=True)\n    (6): Linear(in_features=10, out_features=10, bias=True)\n    (7): Linear(in_features=10, out_features=10, bias=True)\n    (8): Linear(in_features=10, out_features=10, bias=True)\n    (9): Linear(in_features=10, out_features=10, bias=True)\n    (10): Linear(in_features=10, out_features=10, bias=True)\n    (11): Linear(in_features=10, out_features=10, bias=True)\n    (12): Linear(in_features=10, out_features=10, bias=True)\n    (13): Linear(in_features=10, out_features=10, bias=True)\n    (14): Linear(in_features=10, out_features=10, bias=True)\n    (15): Linear(in_features=10, out_features=10, bias=True)\n    (16): Linear(in_features=10, out_features=10, bias=True)\n    (17): Linear(in_features=10, out_features=10, bias=True)\n    (18): Linear(in_features=10, out_features=10, bias=True)\n    (19): Linear(in_features=10, out_features=10, bias=True)\n    (20): ReLU()\n  )\n)"
     },
     "execution_count": 4,
     "metadata": {},
     "output_type": "execute_result"
    }
   ],
   "source": [
    "net.linears.append(nn.ReLU()) # 增加一个网络层(类似list中append方法)\n",
    "net"
   ],
   "metadata": {
    "collapsed": false,
    "pycharm": {
     "name": "#%%\n"
    }
   }
  },
  {
   "cell_type": "code",
   "execution_count": 5,
   "outputs": [
    {
     "data": {
      "text/plain": "ModuleList(\n  (linears): ModuleList(\n    (0): Linear(in_features=10, out_features=10, bias=True)\n    (1): Linear(in_features=10, out_features=10, bias=True)\n    (2): Linear(in_features=10, out_features=10, bias=True)\n    (3): Linear(in_features=10, out_features=10, bias=True)\n    (4): Linear(in_features=10, out_features=10, bias=True)\n    (5): Linear(in_features=10, out_features=10, bias=True)\n    (6): Linear(in_features=10, out_features=10, bias=True)\n    (7): Linear(in_features=10, out_features=10, bias=True)\n    (8): Linear(in_features=10, out_features=10, bias=True)\n    (9): Linear(in_features=10, out_features=10, bias=True)\n    (10): Linear(in_features=10, out_features=10, bias=True)\n    (11): Linear(in_features=10, out_features=10, bias=True)\n    (12): Linear(in_features=10, out_features=10, bias=True)\n    (13): Linear(in_features=10, out_features=10, bias=True)\n    (14): Linear(in_features=10, out_features=10, bias=True)\n    (15): Linear(in_features=10, out_features=10, bias=True)\n    (16): Linear(in_features=10, out_features=10, bias=True)\n    (17): Linear(in_features=10, out_features=10, bias=True)\n    (18): Linear(in_features=10, out_features=10, bias=True)\n    (19): Linear(in_features=10, out_features=10, bias=True)\n    (20): ReLU()\n    (21): Linear(in_features=10, out_features=10, bias=True)\n    (22): Linear(in_features=10, out_features=10, bias=True)\n  )\n)"
     },
     "execution_count": 5,
     "metadata": {},
     "output_type": "execute_result"
    }
   ],
   "source": [
    "net.linears.extend([nn.Linear(10, 10), nn.Linear(10, 10)]) # 类似list中extend方法\n",
    "net"
   ],
   "metadata": {
    "collapsed": false,
    "pycharm": {
     "name": "#%%\n"
    }
   }
  },
  {
   "cell_type": "code",
   "execution_count": 6,
   "outputs": [
    {
     "data": {
      "text/plain": "ModuleList(\n  (linears): ModuleList(\n    (0): Linear(in_features=10, out_features=10, bias=True)\n    (1): ReLU()\n    (2): Linear(in_features=10, out_features=10, bias=True)\n    (3): Linear(in_features=10, out_features=10, bias=True)\n    (4): Linear(in_features=10, out_features=10, bias=True)\n    (5): Linear(in_features=10, out_features=10, bias=True)\n    (6): Linear(in_features=10, out_features=10, bias=True)\n    (7): Linear(in_features=10, out_features=10, bias=True)\n    (8): Linear(in_features=10, out_features=10, bias=True)\n    (9): Linear(in_features=10, out_features=10, bias=True)\n    (10): Linear(in_features=10, out_features=10, bias=True)\n    (11): Linear(in_features=10, out_features=10, bias=True)\n    (12): Linear(in_features=10, out_features=10, bias=True)\n    (13): Linear(in_features=10, out_features=10, bias=True)\n    (14): Linear(in_features=10, out_features=10, bias=True)\n    (15): Linear(in_features=10, out_features=10, bias=True)\n    (16): Linear(in_features=10, out_features=10, bias=True)\n    (17): Linear(in_features=10, out_features=10, bias=True)\n    (18): Linear(in_features=10, out_features=10, bias=True)\n    (19): Linear(in_features=10, out_features=10, bias=True)\n    (20): Linear(in_features=10, out_features=10, bias=True)\n    (21): ReLU()\n    (22): Linear(in_features=10, out_features=10, bias=True)\n    (23): Linear(in_features=10, out_features=10, bias=True)\n  )\n)"
     },
     "execution_count": 6,
     "metadata": {},
     "output_type": "execute_result"
    }
   ],
   "source": [
    "net.linears.insert(1, nn.ReLU()) # 类似list中insert方法\n",
    "net"
   ],
   "metadata": {
    "collapsed": false,
    "pycharm": {
     "name": "#%%\n"
    }
   }
  }
 ],
 "metadata": {
  "kernelspec": {
   "display_name": "Python 3",
   "language": "python",
   "name": "python3"
  },
  "language_info": {
   "codemirror_mode": {
    "name": "ipython",
    "version": 2
   },
   "file_extension": ".py",
   "mimetype": "text/x-python",
   "name": "python",
   "nbconvert_exporter": "python",
   "pygments_lexer": "ipython2",
   "version": "2.7.6"
  }
 },
 "nbformat": 4,
 "nbformat_minor": 0
}