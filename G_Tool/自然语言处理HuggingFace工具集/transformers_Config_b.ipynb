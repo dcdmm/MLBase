{
 "cells": [
  {
   "cell_type": "code",
   "execution_count": 23,
   "metadata": {
    "collapsed": true
   },
   "outputs": [],
   "source": [
    "from transformers import BertConfig, BertForMaskedLM, BertModel"
   ]
  },
  {
   "cell_type": "code",
   "execution_count": 24,
   "outputs": [
    {
     "name": "stdout",
     "output_type": "stream",
     "text": [
      "BertForMaskedLM(\n",
      "  (bert): BertModel(\n",
      "    (embeddings): BertEmbeddings(\n",
      "      (word_embeddings): Embedding(50000, 25, padding_idx=0)\n",
      "      (position_embeddings): Embedding(128, 25)\n",
      "      (token_type_embeddings): Embedding(2, 25)\n",
      "      (LayerNorm): LayerNorm((25,), eps=1e-12, elementwise_affine=True)\n",
      "      (dropout): Dropout(p=0.1, inplace=False)\n",
      "    )\n",
      "    (encoder): BertEncoder(\n",
      "      (layer): ModuleList(\n",
      "        (0): BertLayer(\n",
      "          (attention): BertAttention(\n",
      "            (self): BertSelfAttention(\n",
      "              (query): Linear(in_features=25, out_features=25, bias=True)\n",
      "              (key): Linear(in_features=25, out_features=25, bias=True)\n",
      "              (value): Linear(in_features=25, out_features=25, bias=True)\n",
      "              (dropout): Dropout(p=0.3, inplace=False)\n",
      "            )\n",
      "            (output): BertSelfOutput(\n",
      "              (dense): Linear(in_features=25, out_features=25, bias=True)\n",
      "              (LayerNorm): LayerNorm((25,), eps=1e-12, elementwise_affine=True)\n",
      "              (dropout): Dropout(p=0.1, inplace=False)\n",
      "            )\n",
      "          )\n",
      "          (intermediate): BertIntermediate(\n",
      "            (dense): Linear(in_features=25, out_features=3072, bias=True)\n",
      "            (intermediate_act_fn): GELUActivation()\n",
      "          )\n",
      "          (output): BertOutput(\n",
      "            (dense): Linear(in_features=3072, out_features=25, bias=True)\n",
      "            (LayerNorm): LayerNorm((25,), eps=1e-12, elementwise_affine=True)\n",
      "            (dropout): Dropout(p=0.1, inplace=False)\n",
      "          )\n",
      "        )\n",
      "        (1): BertLayer(\n",
      "          (attention): BertAttention(\n",
      "            (self): BertSelfAttention(\n",
      "              (query): Linear(in_features=25, out_features=25, bias=True)\n",
      "              (key): Linear(in_features=25, out_features=25, bias=True)\n",
      "              (value): Linear(in_features=25, out_features=25, bias=True)\n",
      "              (dropout): Dropout(p=0.3, inplace=False)\n",
      "            )\n",
      "            (output): BertSelfOutput(\n",
      "              (dense): Linear(in_features=25, out_features=25, bias=True)\n",
      "              (LayerNorm): LayerNorm((25,), eps=1e-12, elementwise_affine=True)\n",
      "              (dropout): Dropout(p=0.1, inplace=False)\n",
      "            )\n",
      "          )\n",
      "          (intermediate): BertIntermediate(\n",
      "            (dense): Linear(in_features=25, out_features=3072, bias=True)\n",
      "            (intermediate_act_fn): GELUActivation()\n",
      "          )\n",
      "          (output): BertOutput(\n",
      "            (dense): Linear(in_features=3072, out_features=25, bias=True)\n",
      "            (LayerNorm): LayerNorm((25,), eps=1e-12, elementwise_affine=True)\n",
      "            (dropout): Dropout(p=0.1, inplace=False)\n",
      "          )\n",
      "        )\n",
      "      )\n",
      "    )\n",
      "  )\n",
      "  (cls): BertOnlyMLMHead(\n",
      "    (predictions): BertLMPredictionHead(\n",
      "      (transform): BertPredictionHeadTransform(\n",
      "        (dense): Linear(in_features=25, out_features=25, bias=True)\n",
      "        (transform_act_fn): GELUActivation()\n",
      "        (LayerNorm): LayerNorm((25,), eps=1e-12, elementwise_affine=True)\n",
      "      )\n",
      "      (decoder): Linear(in_features=25, out_features=50000, bias=True)\n",
      "    )\n",
      "  )\n",
      ")\n",
      "Number of parameters:  1622794\n"
     ]
    }
   ],
   "source": [
    "'''\n",
    "# 默认参数:\n",
    "def __init__(\n",
    "    self,\n",
    "    vocab_size=30522,\n",
    "    hidden_size=768,\n",
    "    num_hidden_layers=12,\n",
    "    num_attention_heads=12,\n",
    "    intermediate_size=3072,\n",
    "    hidden_act=\"gelu\",\n",
    "    hidden_dropout_prob=0.1,\n",
    "    attention_probs_dropout_prob=0.1,\n",
    "    max_position_embeddings=512,\n",
    "    type_vocab_size=2,\n",
    "    initializer_range=0.02,\n",
    "    layer_norm_eps=1e-12,\n",
    "    pad_token_id=0,\n",
    "    position_embedding_type=\"absolute\",\n",
    "    use_cache=True,\n",
    "    classifier_dropout=None,\n",
    "    **kwargs\n",
    "):\n",
    "'''\n",
    "config = BertConfig(\n",
    "    # Vocabulary size of the BERT model\n",
    "    vocab_size=50000,\n",
    "    #  Dimensionality of the encoder layers and the pooler layer.\n",
    "    hidden_size=25,\n",
    "    #  Number of hidden layers in the Transformer encoder.\n",
    "    num_hidden_layers=2,\n",
    "    #Number of attention heads for each attention layer in the Transformer encoder.\n",
    "    num_attention_heads=5,\n",
    "    # The maximum sequence length that this model might ever be used with. Typically set this to something large just in case (e.g., 512 or 1024 or 2048).\n",
    "    max_position_embeddings=128,\n",
    "    # The dropout ratio for the attention probabilities.\n",
    "    attention_probs_dropout_prob=0.3,\n",
    "    # The dropout probability for all fully connected layers in the embeddings, encoder, and pooler.\n",
    "    hidden_dropout_prob=0.1,\n",
    "    # The dropout ratio for the classification head.\n",
    "    classifier_dropout=0.3\n",
    ")\n",
    "\n",
    "model = BertForMaskedLM(config)  # 新的模型,未训练\n",
    "print(model)\n",
    "print('Number of parameters: ', model.num_parameters())"
   ],
   "metadata": {
    "collapsed": false,
    "pycharm": {
     "name": "#%%\n"
    }
   }
  },
  {
   "cell_type": "code",
   "execution_count": 24,
   "outputs": [],
   "source": [
    "\n",
    "\n",
    "\n"
   ],
   "metadata": {
    "collapsed": false,
    "pycharm": {
     "name": "#%%\n"
    }
   }
  }
 ],
 "metadata": {
  "kernelspec": {
   "display_name": "Python 3",
   "language": "python",
   "name": "python3"
  },
  "language_info": {
   "codemirror_mode": {
    "name": "ipython",
    "version": 2
   },
   "file_extension": ".py",
   "mimetype": "text/x-python",
   "name": "python",
   "nbconvert_exporter": "python",
   "pygments_lexer": "ipython2",
   "version": "2.7.6"
  }
 },
 "nbformat": 4,
 "nbformat_minor": 0
}