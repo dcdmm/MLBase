{
 "cells": [
  {
   "cell_type": "code",
   "execution_count": 1,
   "metadata": {
    "collapsed": true
   },
   "outputs": [
    {
     "data": {
      "text/plain": "array([[0, 2],\n       [4, 6]])"
     },
     "execution_count": 1,
     "metadata": {},
     "output_type": "execute_result"
    }
   ],
   "source": [
    "import  numpy as np\n",
    "\n",
    "'''\n",
    "def isin(element, test_elements, assume_unique=False, invert=False):\n",
    "    \"\"\"\n",
    "    Calculates `element in test_elements`, broadcasting over `element` only.\n",
    "    Returns a boolean array of the same shape as `element` that is True\n",
    "    where an element of `element` is in `test_elements` and False otherwise.\n",
    "\n",
    "    Parameters\n",
    "    ----------\n",
    "    element : array_like\n",
    "        Input array.\n",
    "    test_elements : array_like\n",
    "        The values against which to test each value of `element`.\n",
    "        This argument is flattened if it is an array or array_like.\n",
    "        See notes for behavior with non-array-like parameters.\n",
    "'''\n",
    "element = 2 * np.arange(4).reshape((2, 2))\n",
    "element"
   ]
  },
  {
   "cell_type": "code",
   "execution_count": 2,
   "outputs": [],
   "source": [
    "test_elements = [1, 2, 4, 8]"
   ],
   "metadata": {
    "pycharm": {
     "metadata": false,
     "name": "#%%\n"
    }
   }
  },
  {
   "cell_type": "code",
   "execution_count": 3,
   "outputs": [
    {
     "data": {
      "text/plain": "array([[False,  True],\n       [ True, False]])"
     },
     "execution_count": 3,
     "metadata": {},
     "output_type": "execute_result"
    }
   ],
   "source": [
    "mask = np.isin(element, test_elements)\n",
    "mask"
   ],
   "metadata": {
    "pycharm": {
     "metadata": false,
     "name": "#%%\n"
    }
   }
  },
  {
   "cell_type": "code",
   "execution_count": 4,
   "outputs": [
    {
     "data": {
      "text/plain": "array([2, 4])"
     },
     "execution_count": 4,
     "metadata": {},
     "output_type": "execute_result"
    }
   ],
   "source": [
    "element[mask]  # element,test_elements共用的元素为2, 4"
   ],
   "metadata": {
    "pycharm": {
     "metadata": false,
     "name": "#%%\n"
    }
   }
  },
  {
   "cell_type": "code",
   "execution_count": 5,
   "outputs": [
    {
     "data": {
      "text/plain": "(array([0, 1], dtype=int64), array([1, 0], dtype=int64))"
     },
     "execution_count": 5,
     "metadata": {},
     "output_type": "execute_result"
    }
   ],
   "source": [
    "np.nonzero(mask)  # 返回非零元素的索引"
   ],
   "metadata": {
    "pycharm": {
     "metadata": false,
     "name": "#%%\n"
    }
   }
  },
  {
   "cell_type": "code",
   "execution_count": 6,
   "outputs": [
    {
     "data": {
      "text/plain": "array([[ True, False],\n       [False,  True]])"
     },
     "execution_count": 6,
     "metadata": {},
     "output_type": "execute_result"
    }
   ],
   "source": [
    "mask_invert = np.isin(element, test_elements, invert=True)\n",
    "'''\n",
    "invert : bool, optional\n",
    "    If True, the values in the returned array are inverted, as if\n",
    "    calculating `element not in test_elements`. Default is False.\n",
    "    ``np.isin(a, b, invert=True)`` is equivalent to (but faster\n",
    "    than) ``np.invert(np.isin(a, b))`\n",
    "'''\n",
    "mask_invert"
   ],
   "metadata": {
    "pycharm": {
     "metadata": false,
     "name": "#%%\n"
    }
   }
  },
  {
   "cell_type": "code",
   "execution_count": 7,
   "outputs": [
    {
     "data": {
      "text/plain": "array([0, 6])"
     },
     "execution_count": 7,
     "metadata": {},
     "output_type": "execute_result"
    }
   ],
   "source": [
    "element[mask_invert]  # 元素0, 6是test_element所不含的"
   ],
   "metadata": {
    "pycharm": {
     "metadata": false,
     "name": "#%%\n"
    }
   }
  },
  {
   "cell_type": "code",
   "execution_count": 8,
   "outputs": [
    {
     "data": {
      "text/plain": "array([[False, False],\n       [False, False]])"
     },
     "execution_count": 8,
     "metadata": {},
     "output_type": "execute_result"
    }
   ],
   "source": [
    "test_set = {1, 2, 4, 8}\n",
    "np.isin(element, test_set)  # 失败,Because of how array handles sets, the following does not work as expected:"
   ],
   "metadata": {
    "pycharm": {
     "metadata": false,
     "name": "#%%\n"
    }
   }
  },
  {
   "cell_type": "code",
   "execution_count": 9,
   "outputs": [
    {
     "data": {
      "text/plain": "array([[False,  True],\n       [ True, False]])"
     },
     "execution_count": 9,
     "metadata": {},
     "output_type": "execute_result"
    }
   ],
   "source": [
    "# 解决方法如下:\n",
    "np.isin(element, list(test_set))"
   ],
   "metadata": {
    "pycharm": {
     "metadata": false,
     "name": "#%%\n"
    }
   }
  },
  {
   "cell_type": "markdown",
   "source": [
    "### 判断一个数组是否在另一个数组中(将数组看作一个整体)"
   ],
   "metadata": {
    "pycharm": {
     "metadata": false,
     "name": "#%% md\n",
     "is_executing": false
    }
   }
  },
  {
   "cell_type": "code",
   "execution_count": 10,
   "outputs": [],
   "source": [
    "arr_e = np.array([1, 2, 3, 4, 5], ndmin=2)\n",
    "arr_c = np.array([[3, 2, 3, 4, 1],\n",
    "                  [1, 2, 3, 4, 5],\n",
    "                  [3, 4, 5, 6, 7]])"
   ],
   "metadata": {
    "pycharm": {
     "metadata": false,
     "name": "#%%\n"
    }
   }
  },
  {
   "cell_type": "code",
   "execution_count": 11,
   "outputs": [
    {
     "data": {
      "text/plain": "1"
     },
     "execution_count": 11,
     "metadata": {},
     "output_type": "execute_result"
    }
   ],
   "source": [
    "# 方法一(自定义函数)\n",
    "def isin_whole(arr, arr1):\n",
    "    \"\"\"二维数组的整体包含关系判断\"\"\"   \n",
    "    def put_list(to_list):\n",
    "        if to_list.shape[0] == 1:\n",
    "            return to_list.tolist()[0]\n",
    "        else:\n",
    "            return to_list.tolist()\n",
    "        \n",
    "    if arr.shape[1] != arr1.shape[1]:\n",
    "        return False\n",
    "    else:\n",
    "        try:\n",
    "            result = put_list(arr).index(put_list(arr1))\n",
    "        except ValueError:\n",
    "            return False\n",
    "        else:\n",
    "            return result\n",
    "\n",
    "isin_whole(arr_c, arr_e)"
   ],
   "metadata": {
    "pycharm": {
     "metadata": false,
     "name": "#%%\n"
    }
   }
  },
  {
   "cell_type": "code",
   "execution_count": 12,
   "outputs": [
    {
     "data": {
      "text/plain": "[1, 2, 3, 4, 5]"
     },
     "execution_count": 12,
     "metadata": {},
     "output_type": "execute_result"
    }
   ],
   "source": [
    "# 方法二(利用tolist()先转换为列表,再通过成员运算符in进行判断)\n",
    "\n",
    "arr_e_list = arr_e.tolist()[0]\n",
    "arr_e_list"
   ],
   "metadata": {
    "pycharm": {
     "metadata": false,
     "name": "#%%\n"
    }
   }
  },
  {
   "cell_type": "code",
   "execution_count": 13,
   "outputs": [
    {
     "data": {
      "text/plain": "[[3, 2, 3, 4, 1], [1, 2, 3, 4, 5], [3, 4, 5, 6, 7]]"
     },
     "execution_count": 13,
     "metadata": {},
     "output_type": "execute_result"
    }
   ],
   "source": [
    "arr_c_list = arr_c.tolist()\n",
    "arr_c_list"
   ],
   "metadata": {
    "collapsed": false,
    "pycharm": {
     "name": "#%%\n"
    }
   }
  },
  {
   "cell_type": "code",
   "execution_count": 14,
   "outputs": [
    {
     "data": {
      "text/plain": "True"
     },
     "execution_count": 14,
     "metadata": {},
     "output_type": "execute_result"
    }
   ],
   "source": [
    "arr_e_list in arr_c_list"
   ],
   "metadata": {
    "collapsed": false,
    "pycharm": {
     "name": "#%%\n"
    }
   }
  },
  {
   "cell_type": "code",
   "execution_count": 14,
   "outputs": [],
   "source": [
    "\n"
   ],
   "metadata": {
    "collapsed": false,
    "pycharm": {
     "name": "#%%\n"
    }
   }
  }
 ],
 "metadata": {
  "language_info": {
   "codemirror_mode": {
    "name": "ipython",
    "version": 2
   },
   "file_extension": ".py",
   "mimetype": "text/x-python",
   "name": "python",
   "nbconvert_exporter": "python",
   "pygments_lexer": "ipython2",
   "version": "2.7.6"
  },
  "kernelspec": {
   "name": "python3",
   "language": "python",
   "display_name": "Python 3"
  }
 },
 "nbformat": 4,
 "nbformat_minor": 0
}