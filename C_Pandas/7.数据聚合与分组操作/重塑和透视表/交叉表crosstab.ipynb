{
 "cells": [
  {
   "cell_type": "markdown",
   "source": [
    "## 交叉表(是数据透视表的一个特殊情况)"
   ],
   "metadata": {
    "collapsed": false
   }
  },
  {
   "cell_type": "code",
   "execution_count": null,
   "outputs": [],
   "source": [
    "import  pandas as pd\n",
    "import  numpy as np"
   ],
   "metadata": {
    "collapsed": false,
    "pycharm": {
     "name": "#%%\n"
    }
   }
  },
  {
   "cell_type": "code",
   "execution_count": 25,
   "metadata": {
    "pycharm": {
     "is_executing": false
    }
   },
   "outputs": [
    {
     "data": {
      "text/plain": "   total_bill   tip smoker  day    time  size   tip_pct\n0       16.99  1.01     No  Sun  Dinner     2  0.059447\n1       10.34  1.66     No  Sun  Dinner     3  0.160542\n2       21.01  3.50     No  Sun  Dinner     3  0.166587\n3       23.68  3.31     No  Sun  Dinner     2  0.139780\n4       24.59  3.61     No  Sun  Dinner     4  0.146808",
      "text/html": "<div>\n<style scoped>\n    .dataframe tbody tr th:only-of-type {\n        vertical-align: middle;\n    }\n\n    .dataframe tbody tr th {\n        vertical-align: top;\n    }\n\n    .dataframe thead th {\n        text-align: right;\n    }\n</style>\n<table border=\"1\" class=\"dataframe\">\n  <thead>\n    <tr style=\"text-align: right;\">\n      <th></th>\n      <th>total_bill</th>\n      <th>tip</th>\n      <th>smoker</th>\n      <th>day</th>\n      <th>time</th>\n      <th>size</th>\n      <th>tip_pct</th>\n    </tr>\n  </thead>\n  <tbody>\n    <tr>\n      <th>0</th>\n      <td>16.99</td>\n      <td>1.01</td>\n      <td>No</td>\n      <td>Sun</td>\n      <td>Dinner</td>\n      <td>2</td>\n      <td>0.059447</td>\n    </tr>\n    <tr>\n      <th>1</th>\n      <td>10.34</td>\n      <td>1.66</td>\n      <td>No</td>\n      <td>Sun</td>\n      <td>Dinner</td>\n      <td>3</td>\n      <td>0.160542</td>\n    </tr>\n    <tr>\n      <th>2</th>\n      <td>21.01</td>\n      <td>3.50</td>\n      <td>No</td>\n      <td>Sun</td>\n      <td>Dinner</td>\n      <td>3</td>\n      <td>0.166587</td>\n    </tr>\n    <tr>\n      <th>3</th>\n      <td>23.68</td>\n      <td>3.31</td>\n      <td>No</td>\n      <td>Sun</td>\n      <td>Dinner</td>\n      <td>2</td>\n      <td>0.139780</td>\n    </tr>\n    <tr>\n      <th>4</th>\n      <td>24.59</td>\n      <td>3.61</td>\n      <td>No</td>\n      <td>Sun</td>\n      <td>Dinner</td>\n      <td>4</td>\n      <td>0.146808</td>\n    </tr>\n  </tbody>\n</table>\n</div>"
     },
     "metadata": {},
     "output_type": "execute_result",
     "execution_count": 25
    }
   ],
   "source": [
    "tips = pd.read_csv('tips.csv')\n",
    "# Add tip percentage of total bill\n",
    "tips['tip_pct'] = tips['tip'] / tips['total_bill']\n",
    "tips.head()"
   ]
  },
  {
   "cell_type": "code",
   "execution_count": 26,
   "metadata": {
    "pycharm": {
     "is_executing": false
    }
   },
   "outputs": [
    {
     "data": {
      "text/plain": "day     Fri  Sat  Sun  Thur\ntime                       \nDinner   12   87   76     1\nLunch     7    0    0    61",
      "text/html": "<div>\n<style scoped>\n    .dataframe tbody tr th:only-of-type {\n        vertical-align: middle;\n    }\n\n    .dataframe tbody tr th {\n        vertical-align: top;\n    }\n\n    .dataframe thead th {\n        text-align: right;\n    }\n</style>\n<table border=\"1\" class=\"dataframe\">\n  <thead>\n    <tr style=\"text-align: right;\">\n      <th>day</th>\n      <th>Fri</th>\n      <th>Sat</th>\n      <th>Sun</th>\n      <th>Thur</th>\n    </tr>\n    <tr>\n      <th>time</th>\n      <th></th>\n      <th></th>\n      <th></th>\n      <th></th>\n    </tr>\n  </thead>\n  <tbody>\n    <tr>\n      <th>Dinner</th>\n      <td>12</td>\n      <td>87</td>\n      <td>76</td>\n      <td>1</td>\n    </tr>\n    <tr>\n      <th>Lunch</th>\n      <td>7</td>\n      <td>0</td>\n      <td>0</td>\n      <td>61</td>\n    </tr>\n  </tbody>\n</table>\n</div>"
     },
     "metadata": {},
     "output_type": "execute_result",
     "execution_count": 26
    }
   ],
   "source": "pd.crosstab(tips.time, tips.day) # 默认情况下,计算因素的频率表,除非传递值数组和聚合函数"
  },
  {
   "cell_type": "code",
   "execution_count": 27,
   "outputs": [
    {
     "data": {
      "text/plain": "smoker       No  Yes\ntime   day          \nDinner Fri    3    9\n       Sat   45   42\n       Sun   57   19\n       Thur   1    0\nLunch  Fri    1    6\n       Thur  44   17",
      "text/html": "<div>\n<style scoped>\n    .dataframe tbody tr th:only-of-type {\n        vertical-align: middle;\n    }\n\n    .dataframe tbody tr th {\n        vertical-align: top;\n    }\n\n    .dataframe thead th {\n        text-align: right;\n    }\n</style>\n<table border=\"1\" class=\"dataframe\">\n  <thead>\n    <tr style=\"text-align: right;\">\n      <th></th>\n      <th>smoker</th>\n      <th>No</th>\n      <th>Yes</th>\n    </tr>\n    <tr>\n      <th>time</th>\n      <th>day</th>\n      <th></th>\n      <th></th>\n    </tr>\n  </thead>\n  <tbody>\n    <tr>\n      <th rowspan=\"4\" valign=\"top\">Dinner</th>\n      <th>Fri</th>\n      <td>3</td>\n      <td>9</td>\n    </tr>\n    <tr>\n      <th>Sat</th>\n      <td>45</td>\n      <td>42</td>\n    </tr>\n    <tr>\n      <th>Sun</th>\n      <td>57</td>\n      <td>19</td>\n    </tr>\n    <tr>\n      <th>Thur</th>\n      <td>1</td>\n      <td>0</td>\n    </tr>\n    <tr>\n      <th rowspan=\"2\" valign=\"top\">Lunch</th>\n      <th>Fri</th>\n      <td>1</td>\n      <td>6</td>\n    </tr>\n    <tr>\n      <th>Thur</th>\n      <td>44</td>\n      <td>17</td>\n    </tr>\n  </tbody>\n</table>\n</div>"
     },
     "metadata": {},
     "output_type": "execute_result",
     "execution_count": 27
    }
   ],
   "source": "pd.crosstab([tips.time, tips.day], tips.smoker)",
   "metadata": {
    "pycharm": {
     "metadata": false,
     "name": "#%%\n",
     "is_executing": false
    }
   }
  },
  {
   "cell_type": "code",
   "execution_count": 31,
   "outputs": [
    {
     "data": {
      "text/plain": "smoker     No          Yes      \ntime   Dinner Lunch Dinner Lunch\nday                             \nFri         3     1      9     6\nSat        45     0     42     0\nSun        57     0     19     0\nThur        1    44      0    17",
      "text/html": "<div>\n<style scoped>\n    .dataframe tbody tr th:only-of-type {\n        vertical-align: middle;\n    }\n\n    .dataframe tbody tr th {\n        vertical-align: top;\n    }\n\n    .dataframe thead tr th {\n        text-align: left;\n    }\n\n    .dataframe thead tr:last-of-type th {\n        text-align: right;\n    }\n</style>\n<table border=\"1\" class=\"dataframe\">\n  <thead>\n    <tr>\n      <th>smoker</th>\n      <th colspan=\"2\" halign=\"left\">No</th>\n      <th colspan=\"2\" halign=\"left\">Yes</th>\n    </tr>\n    <tr>\n      <th>time</th>\n      <th>Dinner</th>\n      <th>Lunch</th>\n      <th>Dinner</th>\n      <th>Lunch</th>\n    </tr>\n    <tr>\n      <th>day</th>\n      <th></th>\n      <th></th>\n      <th></th>\n      <th></th>\n    </tr>\n  </thead>\n  <tbody>\n    <tr>\n      <th>Fri</th>\n      <td>3</td>\n      <td>1</td>\n      <td>9</td>\n      <td>6</td>\n    </tr>\n    <tr>\n      <th>Sat</th>\n      <td>45</td>\n      <td>0</td>\n      <td>42</td>\n      <td>0</td>\n    </tr>\n    <tr>\n      <th>Sun</th>\n      <td>57</td>\n      <td>0</td>\n      <td>19</td>\n      <td>0</td>\n    </tr>\n    <tr>\n      <th>Thur</th>\n      <td>1</td>\n      <td>44</td>\n      <td>0</td>\n      <td>17</td>\n    </tr>\n  </tbody>\n</table>\n</div>"
     },
     "metadata": {},
     "output_type": "execute_result",
     "execution_count": 31
    }
   ],
   "source": "pd.crosstab(tips.day, [tips.smoker, tips.time])",
   "metadata": {
    "pycharm": {
     "metadata": false,
     "name": "#%%\n",
     "is_executing": false
    }
   }
  },
  {
   "cell_type": "code",
   "execution_count": 32,
   "outputs": [
    {
     "data": {
      "text/plain": "smoker     No          Yes         总计\ntime   Dinner Lunch Dinner Lunch     \nday                                  \nFri         3     1      9     6   19\nSat        45     0     42     0   87\nSun        57     0     19     0   76\nThur        1    44      0    17   62\n总计        106    45     70    23  244",
      "text/html": "<div>\n<style scoped>\n    .dataframe tbody tr th:only-of-type {\n        vertical-align: middle;\n    }\n\n    .dataframe tbody tr th {\n        vertical-align: top;\n    }\n\n    .dataframe thead tr th {\n        text-align: left;\n    }\n\n    .dataframe thead tr:last-of-type th {\n        text-align: right;\n    }\n</style>\n<table border=\"1\" class=\"dataframe\">\n  <thead>\n    <tr>\n      <th>smoker</th>\n      <th colspan=\"2\" halign=\"left\">No</th>\n      <th colspan=\"2\" halign=\"left\">Yes</th>\n      <th>总计</th>\n    </tr>\n    <tr>\n      <th>time</th>\n      <th>Dinner</th>\n      <th>Lunch</th>\n      <th>Dinner</th>\n      <th>Lunch</th>\n      <th></th>\n    </tr>\n    <tr>\n      <th>day</th>\n      <th></th>\n      <th></th>\n      <th></th>\n      <th></th>\n      <th></th>\n    </tr>\n  </thead>\n  <tbody>\n    <tr>\n      <th>Fri</th>\n      <td>3</td>\n      <td>1</td>\n      <td>9</td>\n      <td>6</td>\n      <td>19</td>\n    </tr>\n    <tr>\n      <th>Sat</th>\n      <td>45</td>\n      <td>0</td>\n      <td>42</td>\n      <td>0</td>\n      <td>87</td>\n    </tr>\n    <tr>\n      <th>Sun</th>\n      <td>57</td>\n      <td>0</td>\n      <td>19</td>\n      <td>0</td>\n      <td>76</td>\n    </tr>\n    <tr>\n      <th>Thur</th>\n      <td>1</td>\n      <td>44</td>\n      <td>0</td>\n      <td>17</td>\n      <td>62</td>\n    </tr>\n    <tr>\n      <th>总计</th>\n      <td>106</td>\n      <td>45</td>\n      <td>70</td>\n      <td>23</td>\n      <td>244</td>\n    </tr>\n  </tbody>\n</table>\n</div>"
     },
     "metadata": {},
     "output_type": "execute_result",
     "execution_count": 32
    }
   ],
   "source": "pd.crosstab(tips.day, [tips.smoker, tips.time], margins=True, margins_name='总计')",
   "metadata": {
    "pycharm": {
     "metadata": false,
     "name": "#%%\n",
     "is_executing": false
    }
   }
  },
  {
   "cell_type": "code",
   "execution_count": 51,
   "outputs": [
    {
     "data": {
      "text/plain": "是否吸烟     No          Yes           总计\n时间   Dinner Lunch Dinner Lunch       \n星期                                   \nFri     3.0   1.0    9.0   6.0   19.0\nSat    45.0   NaN   42.0   NaN   87.0\nSun    57.0   NaN   19.0   NaN   76.0\nThur    1.0  44.0    NaN  17.0   62.0\n总计    106.0  45.0   70.0  23.0  244.0",
      "text/html": "<div>\n<style scoped>\n    .dataframe tbody tr th:only-of-type {\n        vertical-align: middle;\n    }\n\n    .dataframe tbody tr th {\n        vertical-align: top;\n    }\n\n    .dataframe thead tr th {\n        text-align: left;\n    }\n\n    .dataframe thead tr:last-of-type th {\n        text-align: right;\n    }\n</style>\n<table border=\"1\" class=\"dataframe\">\n  <thead>\n    <tr>\n      <th>是否吸烟</th>\n      <th colspan=\"2\" halign=\"left\">No</th>\n      <th colspan=\"2\" halign=\"left\">Yes</th>\n      <th>总计</th>\n    </tr>\n    <tr>\n      <th>时间</th>\n      <th>Dinner</th>\n      <th>Lunch</th>\n      <th>Dinner</th>\n      <th>Lunch</th>\n      <th></th>\n    </tr>\n    <tr>\n      <th>星期</th>\n      <th></th>\n      <th></th>\n      <th></th>\n      <th></th>\n      <th></th>\n    </tr>\n  </thead>\n  <tbody>\n    <tr>\n      <th>Fri</th>\n      <td>3.0</td>\n      <td>1.0</td>\n      <td>9.0</td>\n      <td>6.0</td>\n      <td>19.0</td>\n    </tr>\n    <tr>\n      <th>Sat</th>\n      <td>45.0</td>\n      <td>NaN</td>\n      <td>42.0</td>\n      <td>NaN</td>\n      <td>87.0</td>\n    </tr>\n    <tr>\n      <th>Sun</th>\n      <td>57.0</td>\n      <td>NaN</td>\n      <td>19.0</td>\n      <td>NaN</td>\n      <td>76.0</td>\n    </tr>\n    <tr>\n      <th>Thur</th>\n      <td>1.0</td>\n      <td>44.0</td>\n      <td>NaN</td>\n      <td>17.0</td>\n      <td>62.0</td>\n    </tr>\n    <tr>\n      <th>总计</th>\n      <td>106.0</td>\n      <td>45.0</td>\n      <td>70.0</td>\n      <td>23.0</td>\n      <td>244.0</td>\n    </tr>\n  </tbody>\n</table>\n</div>"
     },
     "metadata": {},
     "output_type": "execute_result",
     "execution_count": 51
    }
   ],
   "source": "pd.crosstab(index=tips.day, rownames=['星期'], \n            colnames=['是否吸烟', '时间'], columns=[tips.smoker, tips.time],\n            values=tips.tip, aggfunc=np.size, # 计算因素的频率表(与默认情况等价)\n            margins=True, margins_name='总计')",
   "metadata": {
    "pycharm": {
     "metadata": false,
     "name": "#%%\n",
     "is_executing": false
    }
   }
  },
  {
   "cell_type": "code",
   "execution_count": 53,
   "outputs": [
    {
     "data": {
      "text/plain": "是否吸烟        No                 Yes                  总计\n时间      Dinner     Lunch    Dinner     Lunch          \n星期                                                    \nFri   2.750000  3.000000  3.003333  2.280000  2.734737\nSat   3.102889       NaN  2.875476       NaN  2.993103\nSun   3.167895       NaN  3.516842       NaN  3.255132\nThur  3.000000  2.666364       NaN  3.030000  2.771452\n总计    3.126887  2.673778  3.066000  2.834348  2.998279",
      "text/html": "<div>\n<style scoped>\n    .dataframe tbody tr th:only-of-type {\n        vertical-align: middle;\n    }\n\n    .dataframe tbody tr th {\n        vertical-align: top;\n    }\n\n    .dataframe thead tr th {\n        text-align: left;\n    }\n\n    .dataframe thead tr:last-of-type th {\n        text-align: right;\n    }\n</style>\n<table border=\"1\" class=\"dataframe\">\n  <thead>\n    <tr>\n      <th>是否吸烟</th>\n      <th colspan=\"2\" halign=\"left\">No</th>\n      <th colspan=\"2\" halign=\"left\">Yes</th>\n      <th>总计</th>\n    </tr>\n    <tr>\n      <th>时间</th>\n      <th>Dinner</th>\n      <th>Lunch</th>\n      <th>Dinner</th>\n      <th>Lunch</th>\n      <th></th>\n    </tr>\n    <tr>\n      <th>星期</th>\n      <th></th>\n      <th></th>\n      <th></th>\n      <th></th>\n      <th></th>\n    </tr>\n  </thead>\n  <tbody>\n    <tr>\n      <th>Fri</th>\n      <td>2.750000</td>\n      <td>3.000000</td>\n      <td>3.003333</td>\n      <td>2.280000</td>\n      <td>2.734737</td>\n    </tr>\n    <tr>\n      <th>Sat</th>\n      <td>3.102889</td>\n      <td>NaN</td>\n      <td>2.875476</td>\n      <td>NaN</td>\n      <td>2.993103</td>\n    </tr>\n    <tr>\n      <th>Sun</th>\n      <td>3.167895</td>\n      <td>NaN</td>\n      <td>3.516842</td>\n      <td>NaN</td>\n      <td>3.255132</td>\n    </tr>\n    <tr>\n      <th>Thur</th>\n      <td>3.000000</td>\n      <td>2.666364</td>\n      <td>NaN</td>\n      <td>3.030000</td>\n      <td>2.771452</td>\n    </tr>\n    <tr>\n      <th>总计</th>\n      <td>3.126887</td>\n      <td>2.673778</td>\n      <td>3.066000</td>\n      <td>2.834348</td>\n      <td>2.998279</td>\n    </tr>\n  </tbody>\n</table>\n</div>"
     },
     "metadata": {},
     "output_type": "execute_result",
     "execution_count": 53
    }
   ],
   "source": "pd.crosstab(index=tips.day, rownames=['星期'], \n            colnames=['是否吸烟', '时间'], columns=[tips.smoker, tips.time],\n            values=tips.tip, aggfunc=np.mean, # 计算均值\n            margins=True, margins_name='总计')",
   "metadata": {
    "pycharm": {
     "metadata": false,
     "name": "#%%\n",
     "is_executing": false
    }
   }
  },
  {
   "cell_type": "code",
   "execution_count": null,
   "outputs": [],
   "source": "'''\nvalues : array-like, optional\n    Array of values to aggregate according to the factors. Requires aggfunc be specified.\n\naggfunc : function, optional\n    If specified, requires values be specified as well\n'''\n",
   "metadata": {
    "pycharm": {
     "metadata": false,
     "name": "#%%\n"
    }
   }
  }
 ],
 "metadata": {
  "kernelspec": {
   "name": "python3",
   "language": "python",
   "display_name": "Python 3"
  },
  "language_info": {
   "codemirror_mode": {
    "name": "ipython",
    "version": 2
   },
   "file_extension": ".py",
   "mimetype": "text/x-python",
   "name": "python",
   "nbconvert_exporter": "python",
   "pygments_lexer": "ipython2",
   "version": "2.7.6"
  },
  "pycharm": {
   "stem_cell": {
    "cell_type": "raw",
    "source": [],
    "metadata": {
     "collapsed": false
    }
   }
  }
 },
 "nbformat": 4,
 "nbformat_minor": 0
}