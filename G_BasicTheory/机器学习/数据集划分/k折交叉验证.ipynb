{
 "cells": [
  {
   "cell_type": "markdown",
   "metadata": {
    "pycharm": {
     "is_executing": false,
     "name": "#%% md\n"
    }
   },
   "source": [
    "&emsp;&emsp;\"交叉验证法\"(cross validation)先将数据集$ D $ 划分为k个大小相似的互斥子集,\n",
    "即$ D = D_1 \\bigcup D_2 \\bigcup \\dots D_k , \\quad D_i \\bigcap D_j = \\varnothing ( i \\neq j)$.每个子集$ D_i$ 都\n",
    "尽可能保持数据分布的一致性,即从$ D $中通过分层采样得到.然后,每次用k-1个子集的并集作为训练集,余下的那个子集作为测试集;这样就\n",
    "可以获得k组训练/测试集,从而可进行k次训练和测试,最终返回的是这k个测试结果的均值.显然,交叉验证法评估结果的稳定性和保真性在很大\n",
    "程度上取决于k的取值,为强调这一点,通常把交叉验证法称为\"k折交叉验证\"(k-flod cross validation).k最常用的取值是10,此时\n",
    "称为10折交叉验证;  \n",
    "\n",
    "\n",
    "<img src=\"../../../Other/img/10折交叉验证.png\" style=\"width:400px;height:300px;float:bottom\">\n",
    "\n",
    "&emsp;&emsp;与留出法相似,将数据集$ D $ 划分为k个子集同样存在多种划分方式.为了减少因样本划分不同而引入的差别,k折\n",
    "交叉验证通常需要使用不同的划分重新p次,最终的评估结果是这p次k折交叉验证结果的均值,例如常见的有\"10次10折交叉验证\".    \n",
    "&emsp;&emsp;假定数据集$ D $ 中包含m个样本,若令$ k=m $,则得到了交叉验证法的一个特例:留一法(Leave-One-Out,简称LOO).显然,\n",
    "留一法不受随机样本划分方式的影响,因为m个样本只有唯一的方式划分为m个子集(每个子集包含一个样本).留出法的训练集与初始数据集\n",
    "相比只少了一个样本,这就使得在绝大数情况下;留一法中被实际评估的模型与期望评估的用$ D $训练出的模型很相似.因此,留一法的评估结果\n",
    "往往被认为比较准确.然而,留一法也有其缺陷:在数据集比较大时,训练m个模型的计算开销可能是难以忍受的(例如数据集包含1百万个样本,则需要训练一百万个模型),\n",
    "而这还是在未考虑算法调参的情况下."
   ]
  },
  {
   "cell_type": "code",
   "execution_count": 41,
   "metadata": {
    "pycharm": {
     "name": "#%%\n"
    }
   },
   "outputs": [],
   "source": [
    "import numpy as np\n",
    "from sklearn.model_selection import KFold, RepeatedKFold, LeaveOneOut, StratifiedKFold, GroupKFold"
   ]
  },
  {
   "cell_type": "code",
   "execution_count": 42,
   "metadata": {
    "pycharm": {
     "name": "#%%\n"
    }
   },
   "outputs": [],
   "source": [
    "X = np.array([\"a\", \"b\", \"c\", \"d\", \"e\", \"f\", \"g\", \"h\", \"m\", \"n\"])\n",
    "kf = KFold(n_splits=5,  # 5折交叉验证\n",
    "           shuffle=True, random_state=4)  # Whether to shuffle the data before splitting into batches."
   ]
  },
  {
   "cell_type": "code",
   "execution_count": 43,
   "outputs": [
    {
     "data": {
      "text/plain": "5"
     },
     "execution_count": 43,
     "metadata": {},
     "output_type": "execute_result"
    }
   ],
   "source": [
    "# k折交叉验证次数\n",
    "kf.n_splits"
   ],
   "metadata": {
    "collapsed": false,
    "pycharm": {
     "name": "#%%\n"
    }
   }
  },
  {
   "cell_type": "code",
   "execution_count": 44,
   "outputs": [
    {
     "name": "stdout",
     "output_type": "stream",
     "text": [
      "训练集索引为:[0 1 2 4 5 6 7 9],验证集索引为:[3 8]\n",
      "训练集数据为['a' 'b' 'c' 'e' 'f' 'g' 'h' 'n'],验证集数据为['d' 'm']\n",
      "训练集索引为:[0 1 2 3 5 6 7 8],验证集索引为:[4 9]\n",
      "训练集数据为['a' 'b' 'c' 'd' 'f' 'g' 'h' 'm'],验证集数据为['e' 'n']\n",
      "训练集索引为:[0 1 3 4 5 7 8 9],验证集索引为:[2 6]\n",
      "训练集数据为['a' 'b' 'd' 'e' 'f' 'h' 'm' 'n'],验证集数据为['c' 'g']\n",
      "训练集索引为:[2 3 4 5 6 7 8 9],验证集索引为:[0 1]\n",
      "训练集数据为['c' 'd' 'e' 'f' 'g' 'h' 'm' 'n'],验证集数据为['a' 'b']\n",
      "训练集索引为:[0 1 2 3 4 6 8 9],验证集索引为:[5 7]\n",
      "训练集数据为['a' 'b' 'c' 'd' 'e' 'g' 'm' 'n'],验证集数据为['f' 'h']\n"
     ]
    }
   ],
   "source": [
    "for train, test in kf.split(X):\n",
    "    # (k-1)折用于训练,剩下的1折用于验证\n",
    "    print(\"训练集索引为:%s,验证集索引为:%s\" % (train, test))\n",
    "    print(\"训练集数据为%s,验证集数据为%s\" % (X[train], X[test]))"
   ],
   "metadata": {
    "collapsed": false,
    "pycharm": {
     "name": "#%%\n"
    }
   }
  },
  {
   "cell_type": "code",
   "execution_count": 45,
   "outputs": [
    {
     "name": "stdout",
     "output_type": "stream",
     "text": [
      "训练集索引为:[0 1 2 4 5 6 7 9],验证集索引为:[3 8]\n",
      "训练集数据为['a' 'b' 'c' 'e' 'f' 'g' 'h' 'n'],验证集数据为['d' 'm']\n",
      "训练集索引为:[0 1 2 3 5 6 7 8],验证集索引为:[4 9]\n",
      "训练集数据为['a' 'b' 'c' 'd' 'f' 'g' 'h' 'm'],验证集数据为['e' 'n']\n",
      "训练集索引为:[0 1 3 4 5 7 8 9],验证集索引为:[2 6]\n",
      "训练集数据为['a' 'b' 'd' 'e' 'f' 'h' 'm' 'n'],验证集数据为['c' 'g']\n",
      "训练集索引为:[2 3 4 5 6 7 8 9],验证集索引为:[0 1]\n",
      "训练集数据为['c' 'd' 'e' 'f' 'g' 'h' 'm' 'n'],验证集数据为['a' 'b']\n",
      "训练集索引为:[0 1 2 3 4 6 8 9],验证集索引为:[5 7]\n",
      "训练集数据为['a' 'b' 'c' 'd' 'e' 'g' 'm' 'n'],验证集数据为['f' 'h']\n"
     ]
    }
   ],
   "source": [
    "# 与上不相同,多个模型是可以只定义一个KFold\n",
    "for train, test in kf.split(X):\n",
    "    # (k-1)折用于训练,剩下的1折用于验证\n",
    "    print(\"训练集索引为:%s,验证集索引为:%s\" % (train, test))\n",
    "    print(\"训练集数据为%s,验证集数据为%s\" % (X[train], X[test]))"
   ],
   "metadata": {
    "collapsed": false,
    "pycharm": {
     "name": "#%%\n"
    }
   }
  },
  {
   "cell_type": "code",
   "execution_count": 46,
   "metadata": {
    "pycharm": {
     "name": "#%%\n"
    }
   },
   "outputs": [
    {
     "name": "stdout",
     "output_type": "stream",
     "text": [
      "训练集索引为:[0 1 2 3 5 6 7 8],测试集索引为:[4 9]\n",
      "训练集数据为['a' 'b' 'c' 'd' 'f' 'g' 'h' 'm'],测试集数据为['e' 'n']\n",
      "训练集索引为:[0 1 2 3 4 7 8 9],测试集索引为:[5 6]\n",
      "训练集数据为['a' 'b' 'c' 'd' 'e' 'h' 'm' 'n'],测试集数据为['f' 'g']\n",
      "训练集索引为:[1 2 4 5 6 7 8 9],测试集索引为:[0 3]\n",
      "训练集数据为['b' 'c' 'e' 'f' 'g' 'h' 'm' 'n'],测试集数据为['a' 'd']\n",
      "训练集索引为:[0 3 4 5 6 7 8 9],测试集索引为:[1 2]\n",
      "训练集数据为['a' 'd' 'e' 'f' 'g' 'h' 'm' 'n'],测试集数据为['b' 'c']\n",
      "训练集索引为:[0 1 2 3 4 5 6 9],测试集索引为:[7 8]\n",
      "训练集数据为['a' 'b' 'c' 'd' 'e' 'f' 'g' 'n'],测试集数据为['h' 'm']\n",
      "训练集索引为:[0 1 2 3 5 6 7 8],测试集索引为:[4 9]\n",
      "训练集数据为['a' 'b' 'c' 'd' 'f' 'g' 'h' 'm'],测试集数据为['e' 'n']\n",
      "训练集索引为:[0 1 4 5 6 7 8 9],测试集索引为:[2 3]\n",
      "训练集数据为['a' 'b' 'e' 'f' 'g' 'h' 'm' 'n'],测试集数据为['c' 'd']\n",
      "训练集索引为:[0 1 2 3 4 6 7 9],测试集索引为:[5 8]\n",
      "训练集数据为['a' 'b' 'c' 'd' 'e' 'g' 'h' 'n'],测试集数据为['f' 'm']\n",
      "训练集索引为:[2 3 4 5 6 7 8 9],测试集索引为:[0 1]\n",
      "训练集数据为['c' 'd' 'e' 'f' 'g' 'h' 'm' 'n'],测试集数据为['a' 'b']\n",
      "训练集索引为:[0 1 2 3 4 5 8 9],测试集索引为:[6 7]\n",
      "训练集数据为['a' 'b' 'c' 'd' 'e' 'f' 'm' 'n'],测试集数据为['g' 'h']\n",
      "训练集索引为:[0 1 2 3 6 7 8 9],测试集索引为:[4 5]\n",
      "训练集数据为['a' 'b' 'c' 'd' 'g' 'h' 'm' 'n'],测试集数据为['e' 'f']\n",
      "训练集索引为:[1 2 3 4 5 7 8 9],测试集索引为:[0 6]\n",
      "训练集数据为['b' 'c' 'd' 'e' 'f' 'h' 'm' 'n'],测试集数据为['a' 'g']\n",
      "训练集索引为:[0 1 4 5 6 7 8 9],测试集索引为:[2 3]\n",
      "训练集数据为['a' 'b' 'e' 'f' 'g' 'h' 'm' 'n'],测试集数据为['c' 'd']\n",
      "训练集索引为:[0 1 2 3 4 5 6 9],测试集索引为:[7 8]\n",
      "训练集数据为['a' 'b' 'c' 'd' 'e' 'f' 'g' 'n'],测试集数据为['h' 'm']\n",
      "训练集索引为:[0 2 3 4 5 6 7 8],测试集索引为:[1 9]\n",
      "训练集数据为['a' 'c' 'd' 'e' 'f' 'g' 'h' 'm'],测试集数据为['b' 'n']\n",
      "训练集索引为:[0 1 2 3 4 5 7 9],测试集索引为:[6 8]\n",
      "训练集数据为['a' 'b' 'c' 'd' 'e' 'f' 'h' 'n'],测试集数据为['g' 'm']\n",
      "训练集索引为:[0 1 2 3 4 6 7 8],测试集索引为:[5 9]\n",
      "训练集数据为['a' 'b' 'c' 'd' 'e' 'g' 'h' 'm'],测试集数据为['f' 'n']\n",
      "训练集索引为:[2 3 4 5 6 7 8 9],测试集索引为:[0 1]\n",
      "训练集数据为['c' 'd' 'e' 'f' 'g' 'h' 'm' 'n'],测试集数据为['a' 'b']\n",
      "训练集索引为:[0 1 2 3 5 6 8 9],测试集索引为:[4 7]\n",
      "训练集数据为['a' 'b' 'c' 'd' 'f' 'g' 'm' 'n'],测试集数据为['e' 'h']\n",
      "训练集索引为:[0 1 4 5 6 7 8 9],测试集索引为:[2 3]\n",
      "训练集数据为['a' 'b' 'e' 'f' 'g' 'h' 'm' 'n'],测试集数据为['c' 'd']\n",
      "训练集索引为:[0 2 3 5 6 7 8 9],测试集索引为:[1 4]\n",
      "训练集数据为['a' 'c' 'd' 'f' 'g' 'h' 'm' 'n'],测试集数据为['b' 'e']\n",
      "训练集索引为:[1 2 3 4 5 6 7 8],测试集索引为:[0 9]\n",
      "训练集数据为['b' 'c' 'd' 'e' 'f' 'g' 'h' 'm'],测试集数据为['a' 'n']\n",
      "训练集索引为:[0 1 4 5 6 7 8 9],测试集索引为:[2 3]\n",
      "训练集数据为['a' 'b' 'e' 'f' 'g' 'h' 'm' 'n'],测试集数据为['c' 'd']\n",
      "训练集索引为:[0 1 2 3 4 6 7 9],测试集索引为:[5 8]\n",
      "训练集数据为['a' 'b' 'c' 'd' 'e' 'g' 'h' 'n'],测试集数据为['f' 'm']\n",
      "训练集索引为:[0 1 2 3 4 5 8 9],测试集索引为:[6 7]\n",
      "训练集数据为['a' 'b' 'c' 'd' 'e' 'f' 'm' 'n'],测试集数据为['g' 'h']\n"
     ]
    }
   ],
   "source": [
    "X = np.array([\"a\", \"b\", \"c\", \"d\", \"e\", \"f\", \"g\", \"h\", \"m\", \"n\"])\n",
    "rkf = RepeatedKFold(n_splits=5, n_repeats=5)  # 5次5折交叉验证\n",
    "for train, test in rkf.split(X):\n",
    "    print(\"训练集索引为:%s,测试集索引为:%s\" % (train, test))\n",
    "    print(\"训练集数据为%s,测试集数据为%s\" % (X[train], X[test]))"
   ]
  },
  {
   "cell_type": "code",
   "execution_count": 47,
   "outputs": [
    {
     "data": {
      "text/plain": "5"
     },
     "execution_count": 47,
     "metadata": {},
     "output_type": "execute_result"
    }
   ],
   "source": [
    "rkf.n_repeats"
   ],
   "metadata": {
    "collapsed": false,
    "pycharm": {
     "name": "#%%\n"
    }
   }
  },
  {
   "cell_type": "code",
   "execution_count": 48,
   "metadata": {
    "pycharm": {
     "name": "#%%\n"
    }
   },
   "outputs": [
    {
     "name": "stdout",
     "output_type": "stream",
     "text": [
      "训练集索引为:[1 2 3 4 5 6 7 8 9],测试集索引为:[0]\n",
      "训练集数据为['b' 'c' 'd' 'e' 'f' 'g' 'h' 'm' 'n'],测试集数据为['a']\n",
      "训练集索引为:[0 2 3 4 5 6 7 8 9],测试集索引为:[1]\n",
      "训练集数据为['a' 'c' 'd' 'e' 'f' 'g' 'h' 'm' 'n'],测试集数据为['b']\n",
      "训练集索引为:[0 1 3 4 5 6 7 8 9],测试集索引为:[2]\n",
      "训练集数据为['a' 'b' 'd' 'e' 'f' 'g' 'h' 'm' 'n'],测试集数据为['c']\n",
      "训练集索引为:[0 1 2 4 5 6 7 8 9],测试集索引为:[3]\n",
      "训练集数据为['a' 'b' 'c' 'e' 'f' 'g' 'h' 'm' 'n'],测试集数据为['d']\n",
      "训练集索引为:[0 1 2 3 5 6 7 8 9],测试集索引为:[4]\n",
      "训练集数据为['a' 'b' 'c' 'd' 'f' 'g' 'h' 'm' 'n'],测试集数据为['e']\n",
      "训练集索引为:[0 1 2 3 4 6 7 8 9],测试集索引为:[5]\n",
      "训练集数据为['a' 'b' 'c' 'd' 'e' 'g' 'h' 'm' 'n'],测试集数据为['f']\n",
      "训练集索引为:[0 1 2 3 4 5 7 8 9],测试集索引为:[6]\n",
      "训练集数据为['a' 'b' 'c' 'd' 'e' 'f' 'h' 'm' 'n'],测试集数据为['g']\n",
      "训练集索引为:[0 1 2 3 4 5 6 8 9],测试集索引为:[7]\n",
      "训练集数据为['a' 'b' 'c' 'd' 'e' 'f' 'g' 'm' 'n'],测试集数据为['h']\n",
      "训练集索引为:[0 1 2 3 4 5 6 7 9],测试集索引为:[8]\n",
      "训练集数据为['a' 'b' 'c' 'd' 'e' 'f' 'g' 'h' 'n'],测试集数据为['m']\n",
      "训练集索引为:[0 1 2 3 4 5 6 7 8],测试集索引为:[9]\n",
      "训练集数据为['a' 'b' 'c' 'd' 'e' 'f' 'g' 'h' 'm'],测试集数据为['n']\n"
     ]
    }
   ],
   "source": [
    "X = np.array([\"a\", \"b\", \"c\", \"d\", \"e\", \"f\", \"g\", \"h\", \"m\", \"n\"])\n",
    "loo = LeaveOneOut()  # 留一法\n",
    "for train, test in loo.split(X):\n",
    "    print(\"训练集索引为:%s,测试集索引为:%s\" % (train, test))\n",
    "    print(\"训练集数据为%s,测试集数据为%s\" % (X[train], X[test]))"
   ]
  },
  {
   "cell_type": "code",
   "execution_count": 49,
   "metadata": {
    "pycharm": {
     "name": "#%%\n"
    }
   },
   "outputs": [
    {
     "name": "stdout",
     "output_type": "stream",
     "text": [
      "训练集索引为:[ 0  1  4  6  7  9 10 11],测试集索引为:[2 3 5 8]\n",
      "训练集数据为['a' 'b' 'e' 'g' 'h' 'n' 'z' 'v'],测试集数据为['c' 'd' 'f' 'm']\n",
      "******************************************************\n",
      "训练集索引为:[ 1  2  3  5  7  8  9 10],测试集索引为:[ 0  4  6 11]\n",
      "训练集数据为['b' 'c' 'd' 'f' 'h' 'm' 'n' 'z'],测试集数据为['a' 'e' 'g' 'v']\n",
      "******************************************************\n",
      "训练集索引为:[ 0  2  3  4  5  6  8 11],测试集索引为:[ 1  7  9 10]\n",
      "训练集数据为['a' 'c' 'd' 'e' 'f' 'g' 'm' 'v'],测试集数据为['b' 'h' 'n' 'z']\n",
      "******************************************************\n"
     ]
    }
   ],
   "source": [
    "X = np.array([\"a\", \"b\", \"c\", \"d\", \"e\", \"f\", \"g\", \"h\", \"m\", \"n\", 'z', 'v'])\n",
    "groups = ([0] * 4) + ([1] * 8)\n",
    "# 层次为[0, 1, 2, 3], [4, 5, 6, 7, 8, 8, 10, 11]\n",
    "skf = StratifiedKFold(n_splits=3, random_state=0, shuffle=True)  # 分层k折\n",
    "for train, test in skf.split(X, groups):\n",
    "    print(\"训练集索引为:%s,测试集索引为:%s\" % (train, test))\n",
    "    print(\"训练集数据为%s,测试集数据为%s\" % (X[train], X[test]))\n",
    "    print('******************************************************')"
   ]
  },
  {
   "cell_type": "code",
   "execution_count": 50,
   "outputs": [
    {
     "data": {
      "text/plain": "3"
     },
     "execution_count": 50,
     "metadata": {},
     "output_type": "execute_result"
    }
   ],
   "source": [
    "skf.n_splits"
   ],
   "metadata": {
    "collapsed": false,
    "pycharm": {
     "name": "#%%\n"
    }
   }
  },
  {
   "cell_type": "code",
   "execution_count": 51,
   "outputs": [
    {
     "name": "stdout",
     "output_type": "stream",
     "text": [
      "0\n",
      "训练集索引为:[ 0  1  4  6  7  9 10 11],测试集索引为:[2 3 5 8]\n",
      "训练集数据为['a' 'b' 'e' 'g' 'h' 'n' 'z' 'v'],测试集数据为['c' 'd' 'f' 'm']\n",
      "******************************************************\n",
      "1\n",
      "训练集索引为:[ 1  2  3  5  7  8  9 10],测试集索引为:[ 0  4  6 11]\n",
      "训练集数据为['b' 'c' 'd' 'f' 'h' 'm' 'n' 'z'],测试集数据为['a' 'e' 'g' 'v']\n",
      "******************************************************\n",
      "2\n",
      "训练集索引为:[ 0  2  3  4  5  6  8 11],测试集索引为:[ 1  7  9 10]\n",
      "训练集数据为['a' 'c' 'd' 'e' 'f' 'g' 'm' 'v'],测试集数据为['b' 'h' 'n' 'z']\n",
      "******************************************************\n"
     ]
    }
   ],
   "source": [
    "for epoch, (train, test) in enumerate(skf.split(X, groups)):\n",
    "    print(epoch)\n",
    "    print(\"训练集索引为:%s,测试集索引为:%s\" % (train, test))\n",
    "    print(\"训练集数据为%s,测试集数据为%s\" % (X[train], X[test]))\n",
    "    print('******************************************************')"
   ],
   "metadata": {
    "collapsed": false,
    "pycharm": {
     "name": "#%%\n"
    }
   }
  },
  {
   "cell_type": "code",
   "execution_count": 52,
   "outputs": [
    {
     "name": "stdout",
     "output_type": "stream",
     "text": [
      "TRAIN: [ 0  1  2  3  6  7  8 10] TEST: [ 4  5  9 11]\n",
      "[[ 1  2]\n",
      " [ 3  4]\n",
      " [ 5  6]\n",
      " [ 7  8]\n",
      " [13 14]\n",
      " [15 16]\n",
      " [17 18]\n",
      " [21 22]]\n",
      "[[ 9 10]\n",
      " [11 12]\n",
      " [19 20]\n",
      " [23 24]]\n",
      "[ 0  1  2  3  6  7  8 10]\n",
      "[ 4  5  9 11]\n",
      "\n",
      "TRAIN: [ 0  1  3  4  5  8  9 11] TEST: [ 2  6  7 10]\n",
      "[[ 1  2]\n",
      " [ 3  4]\n",
      " [ 7  8]\n",
      " [ 9 10]\n",
      " [11 12]\n",
      " [17 18]\n",
      " [19 20]\n",
      " [23 24]]\n",
      "[[ 5  6]\n",
      " [13 14]\n",
      " [15 16]\n",
      " [21 22]]\n",
      "[ 0  1  3  4  5  8  9 11]\n",
      "[ 2  6  7 10]\n",
      "\n",
      "TRAIN: [ 2  4  5  6  7  9 10 11] TEST: [0 1 3 8]\n",
      "[[ 5  6]\n",
      " [ 9 10]\n",
      " [11 12]\n",
      " [13 14]\n",
      " [15 16]\n",
      " [19 20]\n",
      " [21 22]\n",
      " [23 24]]\n",
      "[[ 1  2]\n",
      " [ 3  4]\n",
      " [ 7  8]\n",
      " [17 18]]\n",
      "[ 2  4  5  6  7  9 10 11]\n",
      "[0 1 3 8]\n",
      "\n"
     ]
    }
   ],
   "source": [
    "X = np.array([[1, 2],\n",
    "              [3, 4],\n",
    "              [5, 6],\n",
    "              [7, 8],\n",
    "              [9, 10],\n",
    "              [11, 12],\n",
    "              [13, 14],\n",
    "              [15, 16],\n",
    "              [17, 18],\n",
    "              [19, 20],\n",
    "              [21, 22],\n",
    "              [23, 24]])\n",
    "y = np.array([0, 1, 2, 3, 4, 5, 6, 7, 8, 9, 10, 11])\n",
    "groups = np.array([0, 0, 1, 0, 2, 2, 1, 1, 0, 2, 1, 2])\n",
    "'''\n",
    "n_splits : int, default=5\n",
    "    Number of folds. Must be at least 2.\n",
    "'''\n",
    "# K-fold iterator variant with non-overlapping groups.\n",
    "group_kfold = GroupKFold(n_splits=3)  # 保证同一个group的数据不会同时出现在训练集和测试集上\n",
    "for train_index, test_index in group_kfold.split(X, y, groups):\n",
    "    print(\"TRAIN:\", train_index, \"TEST:\", test_index)\n",
    "    X_train, X_test = X[train_index], X[test_index]\n",
    "    y_train, y_test = y[train_index], y[test_index]\n",
    "    print(X_train)\n",
    "    print(X_test)\n",
    "    print(y_train)\n",
    "    print(y_test)\n",
    "    print()"
   ],
   "metadata": {
    "collapsed": false,
    "pycharm": {
     "name": "#%%\n"
    }
   }
  },
  {
   "cell_type": "code",
   "execution_count": 52,
   "outputs": [],
   "source": [],
   "metadata": {
    "collapsed": false,
    "pycharm": {
     "name": "#%%\n"
    }
   }
  }
 ],
 "metadata": {
  "kernelspec": {
   "display_name": "Python 3",
   "language": "python",
   "name": "python3"
  },
  "language_info": {
   "codemirror_mode": {
    "name": "ipython",
    "version": 3
   },
   "file_extension": ".py",
   "mimetype": "text/x-python",
   "name": "python",
   "nbconvert_exporter": "python",
   "pygments_lexer": "ipython3",
   "version": "3.7.9"
  },
  "toc": {
   "base_numbering": 1,
   "nav_menu": {},
   "number_sections": true,
   "sideBar": true,
   "skip_h1_title": false,
   "title_cell": "Table of Contents",
   "title_sidebar": "Contents",
   "toc_cell": false,
   "toc_position": {},
   "toc_section_display": true,
   "toc_window_display": false
  }
 },
 "nbformat": 4,
 "nbformat_minor": 1
}