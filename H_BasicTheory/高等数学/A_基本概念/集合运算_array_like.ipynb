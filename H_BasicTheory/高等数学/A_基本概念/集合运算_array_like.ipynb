{
 "cells": [
  {
   "cell_type": "markdown",
   "metadata": {
    "pycharm": {
     "name": "#%% md\n"
    }
   },
   "source": [
    "## 交集"
   ]
  },
  {
   "cell_type": "code",
   "execution_count": 7,
   "metadata": {
    "pycharm": {
     "metadata": false,
     "name": "#%% \n"
    },
    "ExecuteTime": {
     "end_time": "2023-12-18T07:28:58.920962500Z",
     "start_time": "2023-12-18T07:28:58.901771600Z"
    }
   },
   "outputs": [
    {
     "name": "stdout",
     "output_type": "stream",
     "text": [
      "[1 3]\n",
      "[]\n"
     ]
    }
   ],
   "source": [
    "import numpy as np\n",
    "\n",
    "'''\n",
    "Find the intersection of two arrays.\n",
    "\n",
    "Return the sorted, unique values that are in both of the input arrays.\n",
    "'''\n",
    "print(np.intersect1d([1, 3, 4, 3], [3, 1, 2, 1]))  # 返回值为array\n",
    "print(np.intersect1d([1, 3, 4, 3], []))"
   ]
  },
  {
   "cell_type": "code",
   "execution_count": 8,
   "metadata": {
    "pycharm": {
     "metadata": false,
     "name": "#%%\n"
    },
    "ExecuteTime": {
     "end_time": "2023-12-18T07:28:58.963097600Z",
     "start_time": "2023-12-18T07:28:58.924054900Z"
    }
   },
   "outputs": [
    {
     "data": {
      "text/plain": "array([3])"
     },
     "execution_count": 8,
     "metadata": {},
     "output_type": "execute_result"
    }
   ],
   "source": [
    "# To intersect more than two arrays, use functools.reduce:\n",
    "from functools import reduce\n",
    "\n",
    "reduce(np.intersect1d, ([1, 3, 4, 3], [3, 1, 2, 1], [6, 3, 4, 2]))"
   ]
  },
  {
   "cell_type": "markdown",
   "metadata": {
    "pycharm": {
     "metadata": false,
     "name": "#%% md\n"
    }
   },
   "source": [
    "## 并集"
   ]
  },
  {
   "cell_type": "code",
   "execution_count": 9,
   "metadata": {
    "pycharm": {
     "metadata": false,
     "name": "#%% \n"
    },
    "ExecuteTime": {
     "end_time": "2023-12-18T07:28:58.990019500Z",
     "start_time": "2023-12-18T07:28:58.934057500Z"
    }
   },
   "outputs": [
    {
     "name": "stdout",
     "output_type": "stream",
     "text": [
      "[-2 -1  0  1  2]\n",
      "[-1.  0.  1.]\n"
     ]
    }
   ],
   "source": [
    "print(np.union1d([-1, 0, 1], [-2, 0, 2]))\n",
    "print(np.union1d([-1, 0, 1], []))"
   ]
  },
  {
   "cell_type": "code",
   "execution_count": 10,
   "metadata": {
    "pycharm": {
     "metadata": false,
     "name": "#%%\n"
    },
    "ExecuteTime": {
     "end_time": "2023-12-18T07:28:59.045346600Z",
     "start_time": "2023-12-18T07:28:58.948709500Z"
    }
   },
   "outputs": [
    {
     "data": {
      "text/plain": "array([1, 2, 3, 4, 6])"
     },
     "execution_count": 10,
     "metadata": {},
     "output_type": "execute_result"
    }
   ],
   "source": [
    "# To find the union of more than two arrays, use functools.reduce:\n",
    "reduce(np.union1d, ([1, 3, 4, 3], [3, 1, 2, 1], [6, 3, 4, 2]))"
   ]
  },
  {
   "cell_type": "markdown",
   "metadata": {
    "pycharm": {
     "metadata": false,
     "name": "#%% md\n"
    }
   },
   "source": [
    "## 差集"
   ]
  },
  {
   "cell_type": "code",
   "execution_count": 11,
   "metadata": {
    "pycharm": {
     "name": "#%%\n"
    },
    "ExecuteTime": {
     "end_time": "2023-12-18T07:28:59.047429800Z",
     "start_time": "2023-12-18T07:28:58.961028900Z"
    }
   },
   "outputs": [
    {
     "name": "stdout",
     "output_type": "stream",
     "text": [
      "[1 2] <class 'numpy.ndarray'>\n",
      "[5 6]\n",
      "[3 4 5 6]\n"
     ]
    }
   ],
   "source": [
    "a = np.array([1, 2, 3, 2, 4, 1])\n",
    "b = np.array([3, 4, 5, 6])\n",
    "\n",
    "print(np.setdiff1d(a, b), type(np.setdiff1d(a, b)))\n",
    "print(np.setdiff1d(b, a))\n",
    "print(np.setdiff1d(b, []))"
   ]
  },
  {
   "cell_type": "code",
   "execution_count": 11,
   "outputs": [],
   "source": [],
   "metadata": {
    "collapsed": false,
    "ExecuteTime": {
     "end_time": "2023-12-18T07:28:59.047429800Z",
     "start_time": "2023-12-18T07:28:58.975326900Z"
    }
   }
  }
 ],
 "metadata": {
  "kernelspec": {
   "display_name": "Python 3",
   "language": "python",
   "name": "python3"
  },
  "language_info": {
   "codemirror_mode": {
    "name": "ipython",
    "version": 3
   },
   "file_extension": ".py",
   "mimetype": "text/x-python",
   "name": "python",
   "nbconvert_exporter": "python",
   "pygments_lexer": "ipython3",
   "version": "3.7.7"
  },
  "toc": {
   "base_numbering": 1,
   "nav_menu": {},
   "number_sections": true,
   "sideBar": true,
   "skip_h1_title": false,
   "title_cell": "Table of Contents",
   "title_sidebar": "Contents",
   "toc_cell": false,
   "toc_position": {},
   "toc_section_display": true,
   "toc_window_display": false
  }
 },
 "nbformat": 4,
 "nbformat_minor": 1
}
