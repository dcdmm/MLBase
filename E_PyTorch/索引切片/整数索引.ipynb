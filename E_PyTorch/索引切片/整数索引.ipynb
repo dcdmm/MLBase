{
 "cells": [
  {
   "cell_type": "code",
   "execution_count": 127,
   "outputs": [
    {
     "data": {
      "text/plain": "tensor([[ 0.,  0.,  0.,  0.],\n        [ 0.,  1.,  2.,  3.],\n        [ 0.,  2.,  4.,  6.],\n        [ 0.,  3.,  6.,  9.],\n        [ 0.,  4.,  8., 12.],\n        [ 0.,  5., 10., 15.],\n        [ 0.,  6., 12., 18.],\n        [ 0.,  7., 14., 21.]])"
     },
     "execution_count": 127,
     "metadata": {},
     "output_type": "execute_result"
    }
   ],
   "source": [
    "import torch\n",
    "# 类似numpy整数索引"
   ],
   "metadata": {
    "collapsed": false,
    "pycharm": {
     "name": "#%%\n"
    }
   }
  },
  {
   "cell_type": "code",
   "execution_count": null,
   "outputs": [],
   "source": [
    "tor = torch.empty((8, 4))\n",
    "for i in range(8):\n",
    "    for j in range(4):\n",
    "        tor[i, j] = i * j\n",
    "tor"
   ],
   "metadata": {
    "collapsed": false,
    "pycharm": {
     "name": "#%%\n"
    }
   }
  },
  {
   "cell_type": "code",
   "execution_count": 128,
   "metadata": {
    "collapsed": true
   },
   "outputs": [
    {
     "data": {
      "text/plain": "tensor([[ 0.,  4.,  8., 12.],\n        [ 0.,  3.,  6.,  9.],\n        [ 0.,  0.,  0.,  0.],\n        [ 0.,  6., 12., 18.]])"
     },
     "execution_count": 128,
     "metadata": {},
     "output_type": "execute_result"
    }
   ],
   "source": [
    "tor[[4, 3, 0, 6]] # ★★★★★索引index必须为列表"
   ]
  },
  {
   "cell_type": "code",
   "execution_count": 129,
   "outputs": [
    {
     "data": {
      "text/plain": "tensor([[ 0.,  5., 10., 15.],\n        [ 0.,  3.,  6.,  9.],\n        [ 0.,  1.,  2.,  3.]])"
     },
     "execution_count": 129,
     "metadata": {},
     "output_type": "execute_result"
    }
   ],
   "source": [
    "tor[[-3, -5, -7]] # 支持负数索引"
   ],
   "metadata": {
    "collapsed": false,
    "pycharm": {
     "name": "#%%\n"
    }
   }
  },
  {
   "cell_type": "code",
   "execution_count": 130,
   "outputs": [
    {
     "data": {
      "text/plain": "tensor([[ 0.,  0.,  0.],\n        [ 3.,  2.,  0.],\n        [ 6.,  4.,  0.],\n        [ 9.,  6.,  0.],\n        [12.,  8.,  0.],\n        [15., 10.,  0.],\n        [18., 12.,  0.],\n        [21., 14.,  0.]])"
     },
     "execution_count": 130,
     "metadata": {},
     "output_type": "execute_result"
    }
   ],
   "source": [
    "tor[:, [-1, -2, 0]] # 对第二个维度进行索引"
   ],
   "metadata": {
    "collapsed": false,
    "pycharm": {
     "name": "#%%\n"
    }
   }
  },
  {
   "cell_type": "code",
   "execution_count": 131,
   "outputs": [
    {
     "data": {
      "text/plain": "tensor([[ 0.,  4.,  8., 12.],\n        [ 0.,  3.,  6.,  9.],\n        [ 0.,  0.,  0.,  0.],\n        [ 0.,  6., 12., 18.]])"
     },
     "execution_count": 131,
     "metadata": {},
     "output_type": "execute_result"
    }
   ],
   "source": [
    "s = tor[[4, 3, 0, 6]]\n",
    "s"
   ],
   "metadata": {
    "collapsed": false,
    "pycharm": {
     "name": "#%%\n"
    }
   }
  },
  {
   "cell_type": "code",
   "execution_count": 132,
   "outputs": [
    {
     "data": {
      "text/plain": "tensor([[100., 100., 100., 100.],\n        [100., 100., 100., 100.],\n        [100., 100., 100., 100.],\n        [  0.,   6.,  12.,  18.]])"
     },
     "execution_count": 132,
     "metadata": {},
     "output_type": "execute_result"
    }
   ],
   "source": [
    "s[0:3] = 100\n",
    "s"
   ],
   "metadata": {
    "collapsed": false,
    "pycharm": {
     "name": "#%%\n"
    }
   }
  },
  {
   "cell_type": "code",
   "execution_count": 133,
   "outputs": [
    {
     "data": {
      "text/plain": "tensor([[ 0.,  0.,  0.,  0.],\n        [ 0.,  1.,  2.,  3.],\n        [ 0.,  2.,  4.,  6.],\n        [ 0.,  3.,  6.,  9.],\n        [ 0.,  4.,  8., 12.],\n        [ 0.,  5., 10., 15.],\n        [ 0.,  6., 12., 18.],\n        [ 0.,  7., 14., 21.]])"
     },
     "execution_count": 133,
     "metadata": {},
     "output_type": "execute_result"
    }
   ],
   "source": [
    "tor # ★★★★★整数索引不能通过此方式修改原tensor"
   ],
   "metadata": {
    "collapsed": false,
    "pycharm": {
     "name": "#%%\n"
    }
   }
  },
  {
   "cell_type": "code",
   "execution_count": 134,
   "outputs": [
    {
     "data": {
      "text/plain": "tensor([[ 0,  1,  2,  3],\n        [ 4,  5,  6,  7],\n        [ 8,  9, 10, 11],\n        [12, 13, 14, 15],\n        [16, 17, 18, 19],\n        [20, 21, 22, 23],\n        [24, 25, 26, 27],\n        [28, 29, 30, 31]])"
     },
     "execution_count": 134,
     "metadata": {},
     "output_type": "execute_result"
    }
   ],
   "source": [
    "tor1 = torch.arange(32).reshape((8, 4))\n",
    "tor1"
   ],
   "metadata": {
    "collapsed": false,
    "pycharm": {
     "name": "#%%\n"
    }
   }
  },
  {
   "cell_type": "code",
   "execution_count": 135,
   "outputs": [
    {
     "data": {
      "text/plain": "tensor([ 4, 23, 29, 10])"
     },
     "execution_count": 135,
     "metadata": {},
     "output_type": "execute_result"
    }
   ],
   "source": [
    "tor1[[1, 5, 7, 2], [0, 3, 1, 2]] # 选取索引为(1, 0),(5, 3),(7, 1),(2, 2)处的元素值"
   ],
   "metadata": {
    "collapsed": false,
    "pycharm": {
     "name": "#%%\n"
    }
   }
  },
  {
   "cell_type": "code",
   "execution_count": 136,
   "outputs": [
    {
     "data": {
      "text/plain": "tensor([[    0,     1,     2,     3],\n        [11111,     5,     6,     7],\n        [    8,     9, 11111,    11],\n        [   12,    13,    14,    15],\n        [   16,    17,    18,    19],\n        [   20,    21,    22, 11111],\n        [   24,    25,    26,    27],\n        [   28, 11111,    30,    31]])"
     },
     "execution_count": 136,
     "metadata": {},
     "output_type": "execute_result"
    }
   ],
   "source": [
    "tor1[[1, 5, 7, 2], [0, 3, 1, 2]] = 11111\n",
    "tor1 # ★★★★★整数索引修改元素必须使用此方式(即对原tensor索引/切片直接进行赋值)"
   ],
   "metadata": {
    "collapsed": false,
    "pycharm": {
     "name": "#%%\n"
    }
   }
  },
  {
   "cell_type": "code",
   "execution_count": 137,
   "outputs": [
    {
     "data": {
      "text/plain": "tensor([[11111,     7,     5,     6],\n        [   20, 11111,    21,    22],\n        [   28,    31, 11111,    30],\n        [    8,    11,     9, 11111]])"
     },
     "execution_count": 137,
     "metadata": {},
     "output_type": "execute_result"
    }
   ],
   "source": [
    "# 选取行索引为(1, 5, 7, 2)和列索引为(0, 3, 1, 2)组成的数据矩阵(两次整数索引)\n",
    "tor1[[1, 5, 7, 2]][:, [0, 3, 1, 2]] # ★★★★★无法对其进行赋值进而修改tor1!如何解决?"
   ],
   "metadata": {
    "collapsed": false,
    "pycharm": {
     "name": "#%%\n"
    }
   }
  },
  {
   "cell_type": "code",
   "execution_count": 138,
   "outputs": [],
   "source": [
    "row = [1, 5, 7, 2] \n",
    "columns = [0, 3, 1, 2]\n",
    "for k in row:\n",
    "    s = tor1[k]\n",
    "    s[columns] = 333333 # 间接赋值"
   ],
   "metadata": {
    "collapsed": false,
    "pycharm": {
     "name": "#%%\n"
    }
   }
  },
  {
   "cell_type": "code",
   "execution_count": 139,
   "outputs": [
    {
     "data": {
      "text/plain": "tensor([[     0,      1,      2,      3],\n        [333333, 333333, 333333, 333333],\n        [333333, 333333, 333333, 333333],\n        [    12,     13,     14,     15],\n        [    16,     17,     18,     19],\n        [333333, 333333, 333333, 333333],\n        [    24,     25,     26,     27],\n        [333333, 333333, 333333, 333333]])"
     },
     "execution_count": 139,
     "metadata": {},
     "output_type": "execute_result"
    }
   ],
   "source": [
    "tor1\n"
   ],
   "metadata": {
    "collapsed": false,
    "pycharm": {
     "name": "#%%\n"
    }
   }
  }
 ],
 "metadata": {
  "kernelspec": {
   "display_name": "Python 3",
   "language": "python",
   "name": "python3"
  },
  "language_info": {
   "codemirror_mode": {
    "name": "ipython",
    "version": 2
   },
   "file_extension": ".py",
   "mimetype": "text/x-python",
   "name": "python",
   "nbconvert_exporter": "python",
   "pygments_lexer": "ipython2",
   "version": "2.7.6"
  }
 },
 "nbformat": 4,
 "nbformat_minor": 0
}