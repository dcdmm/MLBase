{
 "cells": [
  {
   "cell_type": "markdown",
   "source": [
    "&emsp;&emsp;首先需要将$n$个数据$x_{1},x_{2},...,x_{n}$按照从小到大排序后记为$x_{(1)},x_{(2)},...,x_{(n)}$\n",
    "中位数位置的确定公式为:   \n",
    "\\begin{equation}\n",
    "\tM_{e}=\n",
    "\t\\begin{cases}\n",
    "\t\tx_{(\\frac{n+1}{2})}, & \\text{if  n 是奇数}  \\\\\n",
    "\t\t\\frac{1}{2} \\{x_{(\\frac{n}{2})} + x_{(\\frac{n}{2}+1)} \\}, & \\text{if  n 是偶数}\n",
    "\t\\end{cases}\n",
    "\\end{equation}"
   ],
   "metadata": {
    "pycharm": {
     "metadata": false,
     "name": "#%% md\n"
    }
   }
  },
  {
   "cell_type": "code",
   "execution_count": 2,
   "metadata": {
    "collapsed": true,
    "pycharm": {
     "is_executing": false
    }
   },
   "outputs": [],
   "source": [
    "import numpy as np"
   ]
  },
  {
   "cell_type": "code",
   "execution_count": 3,
   "outputs": [
    {
     "data": {
      "text/plain": "array([[10,  7,  4],\n       [ 3,  2,  1]])"
     },
     "metadata": {},
     "output_type": "execute_result",
     "execution_count": 3
    }
   ],
   "source": "# np.midian(a)-->a : array_like\na = np.array([[10, 7, 4], [3, 2, 1]])\na",
   "metadata": {
    "pycharm": {
     "metadata": false,
     "name": "#%%\n",
     "is_executing": false
    }
   }
  },
  {
   "cell_type": "code",
   "execution_count": 4,
   "outputs": [
    {
     "data": {
      "text/plain": "3.5"
     },
     "metadata": {},
     "output_type": "execute_result",
     "execution_count": 4
    }
   ],
   "source": "np.median(a) # 默认axis=None",
   "metadata": {
    "pycharm": {
     "metadata": false,
     "name": "#%%\n",
     "is_executing": false
    }
   }
  },
  {
   "cell_type": "code",
   "execution_count": 5,
   "outputs": [
    {
     "data": {
      "text/plain": "array([6.5, 4.5, 2.5])"
     },
     "metadata": {},
     "output_type": "execute_result",
     "execution_count": 5
    }
   ],
   "source": "np.median(a, axis=0) # 计算沿指定轴的中位数\n\n\n",
   "metadata": {
    "pycharm": {
     "metadata": false,
     "name": "#%%\n",
     "is_executing": false
    }
   }
  }
 ],
 "metadata": {
  "language_info": {
   "codemirror_mode": {
    "name": "ipython",
    "version": 2
   },
   "file_extension": ".py",
   "mimetype": "text/x-python",
   "name": "python",
   "nbconvert_exporter": "python",
   "pygments_lexer": "ipython2",
   "version": "2.7.6"
  },
  "kernelspec": {
   "name": "python3",
   "language": "python",
   "display_name": "Python 3"
  },
  "stem_cell": {
   "cell_type": "raw",
   "source": "",
   "metadata": {
    "pycharm": {
     "metadata": false
    }
   }
  },
  "pycharm": {
   "stem_cell": {
    "cell_type": "raw",
    "source": [],
    "metadata": {
     "collapsed": false
    }
   }
  }
 },
 "nbformat": 4,
 "nbformat_minor": 0
}