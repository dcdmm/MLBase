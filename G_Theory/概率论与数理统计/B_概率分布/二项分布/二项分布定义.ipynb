{
 "cells": [
  {
   "cell_type": "markdown",
   "metadata": {
    "pycharm": {}
   },
   "source": [
    "## 参数为$ p $的二项分布/两点分布$ Bernoulli(p) $         \n",
    "* 概率质量函数: $ P(X=x|p) = p^x(1-p)^{1-x};x=0,1;0\\leq p \\leq 1 $  \n",
    "* 期望和方差: $ EX=p, VarX = p(1-p) $   \n",
    "* 矩母函数: $ M_X (t) = (1-p) + pe^t $\n",
    "\n",
    "\n",
    "\n",
    "## 参数为$ (n,p) $的二项分布/n重伯努利试验$ Bernoulli(n, p) $       \n",
    "<font size=4 color='red'>特点:</font>\n",
    "1. 每个试验都是独立的.\n",
    "2. 在试验中只有两个可能的结果：成功或失败.\n",
    "3. 总共进行了$n$次相同的试验.\n",
    "4. 所有试验成功和失败的概率是相同的.(试验是一样的)    \n",
    "   \n",
    "\n",
    "* 概率质量函数:$ P(X=x|n,p) = {n \\choose x}p^{x}(1-p)^{n-x}; x=0,1,2,...,n;0 \\leq p \\leq 1$  \n",
    "* 期望和方差:$ E(X)=np,Var(X)=np(1-p) $\n",
    "* 矩母函数:$ M_X(t) = [ pe^t + (1-p) ]^n $   \n",
    "\n",
    "<font size=4 color='red'>说明1:</font>   \n",
    "&emsp;&emsp;对于非负整数$n$和$r$,其中$ n \\geq r$,我们定义$ {n \\choose k} $为:\n",
    "<center>\n",
    "\n",
    "\\begin{equation}\n",
    "    {n \\choose r} = \\frac{n!}{r!(n-r)!}\n",
    "\\end{equation}\n",
    "</center>\n",
    "\n",
    "\n",
    "## 多项分布(二项分布在多变量情况的推广)\n",
    "<font size=4 color='red'>定义:</font>  \n",
    "&emsp;&emsp;设$ m,n $为整数,数$ p_1, ....,p_n$ 满足$ 0 \\leq p_i \\leq 1, i =1,...,n $ 且 $ \\sum_i^n p_i =1 $,如果随机变量向量\n",
    "$ X_1, ...., X_n $的联合概率密度函数为:\n",
    "<center>\n",
    "\n",
    "\\begin{equation}    \n",
    "f(x_1,...,x_n) = \\frac{m!}{x_1 ! ...x_n !} p_1^{x_1} ...p_n^{x_n} = m! \\prod_{i=1}^n \\frac{p_i^{x_i}}{x_i !}\n",
    "\\end{equation}\n",
    "</center> \n",
    "\n",
    "其中$ (x_1,...,x_n) $满足:每个$ x_i$均为非负整数且$ \\sum_{i=1}^n = m$,则称$ (X_1, ..., X_n) $服从$ m $ 次试验丶元概率为\n",
    "$ p_1, ..., p_n $的多项分布\n",
    "\n",
    "## 多项式定理(二项式定理为其$ n=2的特例 $)            \n",
    "<font size=4 color='red'>定义:</font>        \n",
    "&emsp;&emsp;设$ m,n$ 为正整数,$ A $ 是满足每个$ x_i$ 均为非负整数且$ \\sum_{i=1}^n = m  $的全体向量$ x=(x_1,...x_n)$所构成的集合,则对任意\n",
    "实数$ p_1, ...p_n$,都有  \n",
    "<center>\n",
    "\n",
    "\\begin{equation}\n",
    "(p_1 + ... + p_n)^m = \\sum_{x \\in A} \\frac{m!}{x_1 !...x_n !} p_1^{x_1}...p_n^{x_n}\n",
    "\\end{equation}\n",
    "</center>\n",
    "\n"
   ]
  },
  {
   "cell_type": "code",
   "execution_count": 1,
   "metadata": {
    "pycharm": {
     "is_executing": false
    }
   },
   "outputs": [
    {
     "data": {
      "text/plain": "Text(-2.5, 1.1, 'Depicted below are the normed probability mass function (pmf) and the cumulative density\\nfunction (cdf) of a Binomial distributed random variable $ y \\\\sim Binom(N, p) $, given $ N = 20$ and $p =0.5 $.')"
     },
     "metadata": {},
     "output_type": "execute_result",
     "execution_count": 1
    }
   ],
   "source": [
    "import numpy as np\n",
    "import scipy.stats as stats\n",
    "import matplotlib.pyplot as plt\n",
    "import matplotlib.style as style\n",
    "\n",
    "style.use('classic')\n",
    "fig = plt.figure(figsize=(14, 7), dpi=100)\n",
    "ax  = plt.subplot(111)\n",
    "\n",
    "# PDF(pmf):概率密度函数\n",
    "ax.bar(x=np.arange(20), \n",
    "        height=(stats.binom.pmf(k=np.arange(20), p=.5, n=20)), \n",
    "        width=.75,\n",
    "        alpha=0.75)\n",
    "\n",
    "# CDF(cdf):累计分布函数\n",
    "ax.plot(np.arange(20),\n",
    "         stats.binom.cdf(k=np.arange(20), p=.5, n=20),\n",
    "         color=\"#fc4f30\")\n",
    "\n",
    "plt.text(x=4.5, y=.7, s=\"pmf (normed)\", alpha=.75, weight=\"bold\", color=\"#008fd5\")\n",
    "plt.text(x=14.5, y=.9, s=\"cdf\", alpha=.75, weight=\"bold\", color=\"#fc4f30\")\n",
    "\n",
    "ax.set_xticks(range(21)[::2])\n",
    "ax.tick_params(axis = 'both', which = 'major', labelsize = 18)\n",
    "ax.axhline(y = 0.005, color = 'black', linewidth = 1.3, alpha = .7)\n",
    "\n",
    "ax.text(x = -2.5, y = 1.25, s = \"Binomial Distribution - Overview\",\n",
    "               fontsize = 26, weight = 'bold', alpha = .75)\n",
    "ax.text(x = -2.5, y = 1.1, \n",
    "         s = 'Depicted below are the normed probability mass function (pmf) and the cumulative density\\nfunction (cdf) of a Binomial distributed random variable $ y \\sim Binom(N, p) $, given $ N = 20$ and $p =0.5 $.',\n",
    "         fontsize = 19, alpha = .85)"
   ]
  },
  {
   "cell_type": "code",
   "execution_count": null,
   "metadata": {
    "pycharm": {
     "metadata": false,
     "name": "#%%\n"
    }
   },
   "outputs": [],
   "source": [
    "\n"
   ]
  }
 ],
 "metadata": {
  "kernelspec": {
   "display_name": "Python 3",
   "language": "python",
   "name": "python3"
  },
  "language_info": {
   "codemirror_mode": {
    "name": "ipython",
    "version": 3
   },
   "file_extension": ".py",
   "mimetype": "text/x-python",
   "name": "python",
   "nbconvert_exporter": "python",
   "pygments_lexer": "ipython3",
   "version": "3.7.3"
  },
  "pycharm": {
   "stem_cell": {
    "cell_type": "raw",
    "source": [],
    "metadata": {
     "collapsed": false
    }
   }
  }
 },
 "nbformat": 4,
 "nbformat_minor": 2
}