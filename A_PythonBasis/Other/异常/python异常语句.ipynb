{
 "cells": [
  {
   "cell_type": "code",
   "execution_count": 7,
   "outputs": [
    {
     "name": "stdout",
     "output_type": "stream",
     "text": [
      "文件出错了,错误的原因是:invalid literal for int() with base 10: 'abc'\n",
      "程序结束\n",
      "仍然会执行!\n"
     ]
    }
   ],
   "source": [
    "try:\n",
    "    abc = int('abc')  # try子句中定义的变量为局部变量\n",
    "    # try子句中一旦出现异常,之后的语句将不再被执行\n",
    "    the_sum = 1 + '1'\n",
    "    f = open(\"duanmengmeng.txt\")\n",
    "    print('hello')\n",
    "    print(f.read())\n",
    "    f.close()\n",
    "# 若存在多个except子句,则:\n",
    "# 1. 某个except子句捕获到异常时,之后的except子句不再进行匹配\n",
    "# 2. 若捕获的多个异常类之间存在父子关系时,捕获异常时必须先捕获子类,后捕获父类\n",
    "# except Exception as reason: #  Exception类为TypeError/OSError/ValueError类的父类\n",
    "#      print(\"over\")\n",
    "except TypeError as reason:\n",
    "    print('文件出错了,错误的原因是:' + str(reason))\n",
    "except OSError as reason:  # 输出异常原因\n",
    "    print('文件出错了,错误的原因是:' + str(reason))\n",
    "except ValueError as reason:\n",
    "    print('文件出错了,错误的原因是:' + str(reason))\n",
    "except:  # 捕获所有发生的异常(不能用as把具体的错误信息打印出来,不推荐)\n",
    "    print('出错了!!')\n",
    "else:  # 如果在try子句执行时没有发生异常,python将执行else子句中的内容(如果有else的话,可选)\n",
    "    print('都没有出现异常吗?')\n",
    "finally:  # finally子句中的内容无论是否发生异常都将被执行(可选)\n",
    "    # 基于finally子句的这种特性,在某些情况下,当try子句中的程序打开了一些物理资源(文件、数据库连接等)时,由于这些资源必须手动回收，而回收工作通常就放在finally子句中\n",
    "    print('程序结束')\n",
    "\n",
    "print(\"仍然会执行!\")"
   ],
   "metadata": {
    "collapsed": false,
    "pycharm": {
     "name": "#%%\n"
    }
   }
  },
  {
   "cell_type": "code",
   "execution_count": 8,
   "metadata": {
    "collapsed": false
   },
   "outputs": [
    {
     "name": "stdout",
     "output_type": "stream",
     "text": [
      "文件出错了,错误原因是:list index out of range\n"
     ]
    }
   ],
   "source": [
    "try:\n",
    "    list1 = [1, 2, 3]\n",
    "    print(list1[4])\n",
    "except(IndexError, TypeError) as reason:  # 同时捕获多个异常\n",
    "    print('文件出错了,错误原因是:' + str(reason))"
   ]
  },
  {
   "cell_type": "code",
   "execution_count": 9,
   "outputs": [
    {
     "name": "stdout",
     "output_type": "stream",
     "text": [
      "0 0\n",
      "0 1\n",
      "0 2\n",
      "1 0\n",
      "1 1\n",
      "1 2\n"
     ]
    },
    {
     "ename": "KeyboardInterrupt",
     "evalue": "不能等于2",
     "output_type": "error",
     "traceback": [
      "\u001B[1;31m---------------------------------------------------------------------------\u001B[0m",
      "\u001B[1;31mKeyboardInterrupt\u001B[0m                         Traceback (most recent call last)",
      "\u001B[1;32m<ipython-input-9-49457dba8701>\u001B[0m in \u001B[0;36m<module>\u001B[1;34m\u001B[0m\n\u001B[0;32m      4\u001B[0m             \u001B[1;32mif\u001B[0m \u001B[0mi\u001B[0m \u001B[1;33m==\u001B[0m \u001B[1;36m2\u001B[0m\u001B[1;33m:\u001B[0m\u001B[1;33m\u001B[0m\u001B[1;33m\u001B[0m\u001B[0m\n\u001B[0;32m      5\u001B[0m                 \u001B[1;31m# 可跳出多层循环\u001B[0m\u001B[1;33m\u001B[0m\u001B[1;33m\u001B[0m\u001B[1;33m\u001B[0m\u001B[0m\n\u001B[1;32m----> 6\u001B[1;33m                 \u001B[1;32mraise\u001B[0m \u001B[0mKeyboardInterrupt\u001B[0m\u001B[1;33m(\u001B[0m\u001B[1;34m'不能等于2'\u001B[0m\u001B[1;33m)\u001B[0m  \u001B[1;31m# 使用raise关键字主动触发异常(可以用来中断程序)\u001B[0m\u001B[1;33m\u001B[0m\u001B[1;33m\u001B[0m\u001B[0m\n\u001B[0m\u001B[0;32m      7\u001B[0m             \u001B[0mprint\u001B[0m\u001B[1;33m(\u001B[0m\u001B[0mi\u001B[0m\u001B[1;33m,\u001B[0m \u001B[0mj\u001B[0m\u001B[1;33m)\u001B[0m\u001B[1;33m\u001B[0m\u001B[1;33m\u001B[0m\u001B[0m\n\u001B[0;32m      8\u001B[0m \u001B[1;32mexcept\u001B[0m \u001B[0mTypeError\u001B[0m \u001B[1;32mas\u001B[0m \u001B[0mreason\u001B[0m\u001B[1;33m:\u001B[0m\u001B[1;33m\u001B[0m\u001B[1;33m\u001B[0m\u001B[0m\n",
      "\u001B[1;31mKeyboardInterrupt\u001B[0m: 不能等于2"
     ]
    }
   ],
   "source": [
    "try:\n",
    "    for i in range(3):\n",
    "        for j in range(3):\n",
    "            if i == 2:\n",
    "                # 可跳出多层循环\n",
    "                raise KeyboardInterrupt('不能等于2')  # 使用raise关键字主动触发异常(可以用来中断程序)\n",
    "            print(i, j)\n",
    "except TypeError as reason:\n",
    "    # 这样写可以保证raise KeyboardInterrupt异常的正常的抛出\n",
    "    print('出错了原因是:' + str(reason))"
   ],
   "metadata": {
    "pycharm": {
     "metadata": false,
     "name": "#%%\n"
    }
   }
  },
  {
   "cell_type": "code",
   "execution_count": null,
   "outputs": [],
   "source": [
    "\n"
   ],
   "metadata": {
    "collapsed": false,
    "pycharm": {
     "name": "#%%\n"
    }
   }
  }
 ],
 "metadata": {
  "kernelspec": {
   "name": "python3",
   "language": "python",
   "display_name": "Python 3"
  },
  "language_info": {
   "codemirror_mode": {
    "name": "ipython",
    "version": 2
   },
   "file_extension": ".py",
   "mimetype": "text/x-python",
   "name": "python",
   "nbconvert_exporter": "python",
   "pygments_lexer": "ipython2",
   "version": "2.7.6"
  }
 },
 "nbformat": 4,
 "nbformat_minor": 0
}