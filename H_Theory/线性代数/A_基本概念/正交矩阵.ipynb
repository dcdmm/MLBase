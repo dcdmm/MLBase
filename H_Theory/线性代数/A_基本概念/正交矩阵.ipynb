{
 "cells": [
  {
   "cell_type": "markdown",
   "metadata": {
    "collapsed": true,
    "pycharm": {
     "name": "#%% md\n"
    }
   },
   "source": [
    "&emsp;&emsp;向量$\\mathbf{x}_1, \\mathbf{x}_2, \\cdots, \\mathbf{x}_k \\in \\mathbb{C}^n$组成一正交组,\n",
    "若$ \\mathbf{x}_i^H \\mathbf{x}_j =0 , 1 \\leq i < j \\leq k$.此外,若向量还是归一的,即$ ||\\mathbf{x}||_2^2 = \\mathbf{x}_i^H \\mathbf{x}_i =0, i=1,\\cdots,k  $,\n",
    "则称该正交组为标准正交组.\n",
    "\n",
    "<font color='red' size=4>定理:</font>一组正交的非零向量是线性无关的.\n",
    "\n",
    "&emsp;&emsp;<font color='red' size=4>证明:</font>假设$ { \\mathbf{x}_1, \\mathbf{x}_2, \\cdots, \\mathbf{x}_k } $是一正交组,\n",
    "并假定$ 0 = \\alpha_1 \\mathbf{x}_1 + \\cdots, + \\alpha_k \\mathbf{x}_k $,于是有\n",
    "$$  0 = \\mathbf{0}^H \\mathbf{0} = \\sum_{i=1}^k \\sum_{j=1}^k \\alpha_i^* \\alpha_j  \\mathbf{x}_i^H \\mathbf{x}_j = \\sum_{i=1}^k |\\alpha_i|^2  \\mathbf{x}_i^H \\mathbf{x}_i $$\n",
    "由于向量是正交的,且$  \\mathbf{x}_i^H \\mathbf{x}_j >0 $,故$ \\sum_{i=1}^k |\\alpha_i|^2  \\mathbf{x}_i^H \\mathbf{x}_i =0  $的条件是所有$ | \\alpha_i|^2 =0$即所有$ \\alpha_i =0 $,\n",
    "从而$ { \\mathbf{x}_1, \\mathbf{x}_2, \\cdots, \\mathbf{x}_k }   $是线性无关的.\n",
    "\n",
    "<font color='red' size=4>定义:</font>实方阵$ Q \\in  \\mathbb{R}^{n \\times n}  $称为正交矩阵,若\n",
    "\n",
    "$$ QQ^T = Q^T Q = I $$"
   ]
  },
  {
   "cell_type": "code",
   "execution_count": 3,
   "outputs": [
    {
     "data": {
      "text/plain": "array([[1, 0, 0, 0],\n       [0, 1, 0, 0],\n       [0, 0, 1, 0],\n       [0, 0, 0, 1]])"
     },
     "metadata": {},
     "output_type": "execute_result",
     "execution_count": 3
    }
   ],
   "source": [
    "import numpy as np\n",
    "\n",
    "u = np.array([[0, 0, 0, 1],\n",
    "              [0, 1, 0, 0],\n",
    "              [1, 0, 0, 0],\n",
    "              [0, 0, 1, 0]])\n",
    "np.dot(u, u.T) # 易知u为正交矩阵"
   ],
   "metadata": {
    "collapsed": false,
    "pycharm": {
     "name": "#%%\n",
     "is_executing": false
    }
   }
  },
  {
   "cell_type": "code",
   "execution_count": null,
   "outputs": [],
   "source": [
    "\n"
   ],
   "metadata": {
    "collapsed": false,
    "pycharm": {
     "name": "#%%\n"
    }
   }
  }
 ],
 "metadata": {
  "kernelspec": {
   "display_name": "Python 3",
   "language": "python",
   "name": "python3"
  },
  "language_info": {
   "codemirror_mode": {
    "name": "ipython",
    "version": 2
   },
   "file_extension": ".py",
   "mimetype": "text/x-python",
   "name": "python",
   "nbconvert_exporter": "python",
   "pygments_lexer": "ipython2",
   "version": "2.7.6"
  }
 },
 "nbformat": 4,
 "nbformat_minor": 0
}