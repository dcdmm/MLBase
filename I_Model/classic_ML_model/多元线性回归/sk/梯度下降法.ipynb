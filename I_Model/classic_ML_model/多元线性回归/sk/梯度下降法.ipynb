{
 "cells": [
  {
   "cell_type": "code",
   "execution_count": 1,
   "metadata": {
    "collapsed": true,
    "pycharm": {
     "name": "#%%\n"
    }
   },
   "outputs": [],
   "source": [
    "from sklearn.linear_model import SGDRegressor\n",
    "from sklearn import datasets\n",
    "from sklearn.model_selection import train_test_split\n",
    "from sklearn.preprocessing import StandardScaler"
   ]
  },
  {
   "cell_type": "code",
   "execution_count": 2,
   "outputs": [],
   "source": [
    "boston = datasets.load_boston() # 波士顿房产数据集\n",
    "X = boston.data\n",
    "y = boston.target\n",
    "X = X[y < 50.0]\n",
    "y = y[y < 50.0]\n",
    "X_train, X_test, y_train, y_test = train_test_split(X, y, test_size=0.3333)"
   ],
   "metadata": {
    "collapsed": false,
    "pycharm": {
     "name": "#%%\n"
    }
   }
  },
  {
   "cell_type": "code",
   "execution_count": 3,
   "outputs": [],
   "source": [
    "standardScaler = StandardScaler()\n",
    "standardScaler.fit(X_train)\n",
    "X_train_standard = standardScaler.transform(X_train) # 数据归一化\n",
    "X_test_standard = standardScaler.transform(X_test)"
   ],
   "metadata": {
    "collapsed": false,
    "pycharm": {
     "name": "#%%\n"
    }
   }
  },
  {
   "cell_type": "code",
   "execution_count": 4,
   "outputs": [
    {
     "name": "stdout",
     "output_type": "stream",
     "text": [
      "Wall time: 1.99 ms\n"
     ]
    },
    {
     "data": {
      "text/plain": "SGDRegressor(max_iter=100)"
     },
     "execution_count": 4,
     "metadata": {},
     "output_type": "execute_result"
    }
   ],
   "source": [
    "sgd_reg = SGDRegressor(max_iter=100)\n",
    "# max_iter:训练的最大轮数\n",
    "%time sgd_reg.fit(X_train_standard, y_train)"
   ],
   "metadata": {
    "collapsed": false,
    "pycharm": {
     "name": "#%%\n"
    }
   }
  },
  {
   "cell_type": "code",
   "execution_count": 5,
   "outputs": [
    {
     "data": {
      "text/plain": "0.7618111730778725"
     },
     "execution_count": 5,
     "metadata": {},
     "output_type": "execute_result"
    }
   ],
   "source": [
    "sgd_reg.score(X_test_standard, y_test) # 模型的可决系数R平方"
   ],
   "metadata": {
    "collapsed": false,
    "pycharm": {
     "name": "#%%\n"
    }
   }
  },
  {
   "cell_type": "code",
   "execution_count": 6,
   "outputs": [
    {
     "data": {
      "text/plain": "array([ -313.62638031,  -595.31814097,  -283.47201646,  -326.36071956,\n        -288.89070497, -1219.67563906, -1005.01984503,  -359.57405761,\n        -392.3626436 ,  -305.51280059,  -317.44937954, -1214.78520417,\n        -316.42056157,  -332.32799036,  -321.12387179,  -334.795128  ,\n       -1220.85409379,  -551.38647738,  -980.12419271,  -977.28380606,\n        -347.45175037,  -286.74460438,  -495.30005859, -1044.17417245,\n        -186.16345546,  -291.22665749, -1044.2239542 ,  -444.27337174,\n        -993.69244641,  -269.94788509,  -211.21038011,  -575.1418147 ,\n       -1027.06260011,  -349.93446569,  -198.62109667,  -365.32126738,\n        -331.52098303, -1024.4625965 ,  -294.24444384,  -975.04447201,\n       -1049.27462928,  -502.04400147, -1211.21493757,  -201.70747873,\n        -605.88976133,  -283.01682946,  -177.10135959,  -288.5732279 ,\n       -1059.11085944,  -486.60477858,  -325.49276444,  -380.16089483,\n        -298.78650087,  -998.70602237,  -356.91672785, -1178.14563996,\n       -1015.1475812 ,  -303.6056143 ,  -261.44330707, -1241.78117055,\n        -326.95323157,  -575.67637805,  -173.3330213 ,  -252.26152644,\n        -305.51164253,  -602.79578302,  -503.77847884,  -314.65118393,\n        -607.70059572,  -274.43829405,  -173.6311902 ,  -306.01658904,\n        -441.20603158,  -170.78243109,  -495.61444926,  -952.65896985,\n       -1043.93443421,  -627.4312216 ,  -513.26750861,  -259.24064678,\n        -952.50049233, -1004.19262427, -1228.33458176,  -309.33950547,\n       -1066.34804117,  -207.38241752,  -298.82943255,  -298.19265802,\n       -1103.07892535,  -347.79622354,  -414.89361549,  -369.00925157,\n        -509.02193764, -1027.44339777,  -246.62572234,  -401.57424775,\n        -391.58730906,  -326.43710938, -1259.28809789,  -183.89912509,\n        -348.31398754,  -510.29957941,  -974.14605047, -1178.47892309,\n        -307.89304999,  -213.51619458,  -355.35452106,  -278.27477333,\n       -1026.13588988,  -250.50401775,  -620.7343219 ,  -224.45576447,\n        -209.9246995 ,  -379.38463829,  -359.80365185,  -569.00772924,\n        -962.16437997,  -298.73080125,  -269.6295684 ,  -236.30757213,\n        -277.77712992,  -286.08193045,  -457.27634885,  -251.21997821,\n        -291.34790792,  -367.19861594,  -574.08711364,  -162.41653273,\n        -999.5490311 ,  -319.46921148,  -971.62896664,  -290.86304623,\n        -604.3724473 ,  -393.44482255,  -306.20223212, -1147.99134996,\n        -328.83726953, -1104.3642508 ,  -289.82397264,  -351.94889483,\n        -531.27696102,  -973.51383787, -1131.69804328,  -382.91777362,\n        -272.61292159,  -955.68838725,  -147.00772729,  -993.76826884,\n       -1046.42588456,  -364.8784486 ,  -296.22881312,  -301.82843636,\n       -1188.68306076,  -714.3512176 ,  -319.33017338,  -578.00996006,\n        -432.01498003,  -325.2245672 , -1033.68459864, -1183.83046484,\n       -1124.48452079,  -585.05926003, -1226.02824762,  -166.97208983])"
     },
     "execution_count": 6,
     "metadata": {},
     "output_type": "execute_result"
    }
   ],
   "source": [
    "sgd_reg.predict(X_test) # Predict using the linear model"
   ],
   "metadata": {
    "collapsed": false,
    "pycharm": {
     "name": "#%%\n"
    }
   }
  },
  {
   "cell_type": "code",
   "execution_count": 7,
   "outputs": [
    {
     "data": {
      "text/plain": "array([-0.50016983,  0.61325797, -0.4401598 ,  0.18381878, -1.49938989,\n        2.31869362, -0.39049692, -2.28977295,  1.45509046, -1.74647065,\n       -1.73460871,  0.61420742, -2.90627853])"
     },
     "execution_count": 7,
     "metadata": {},
     "output_type": "execute_result"
    }
   ],
   "source": [
    "sgd_reg.coef_ # 解释变量系数"
   ],
   "metadata": {
    "collapsed": false,
    "pycharm": {
     "name": "#%%\n"
    }
   }
  },
  {
   "cell_type": "code",
   "execution_count": 8,
   "outputs": [
    {
     "data": {
      "text/plain": "array([21.49157662])"
     },
     "execution_count": 8,
     "metadata": {},
     "output_type": "execute_result"
    }
   ],
   "source": [
    "sgd_reg.intercept_ # 截距项"
   ],
   "metadata": {
    "collapsed": false,
    "pycharm": {
     "name": "#%%\n"
    }
   }
  },
  {
   "cell_type": "code",
   "execution_count": 9,
   "outputs": [
    {
     "data": {
      "text/plain": "59"
     },
     "execution_count": 9,
     "metadata": {},
     "output_type": "execute_result"
    }
   ],
   "source": [
    "sgd_reg.n_iter_ # 达到停止条件时实际迭代轮数"
   ],
   "metadata": {
    "collapsed": false,
    "pycharm": {
     "name": "#%%\n"
    }
   }
  },
  {
   "cell_type": "code",
   "execution_count": 9,
   "outputs": [],
   "source": [
    "\n"
   ],
   "metadata": {
    "collapsed": false,
    "pycharm": {
     "name": "#%%\n"
    }
   }
  }
 ],
 "metadata": {
  "kernelspec": {
   "display_name": "Python 3",
   "language": "python",
   "name": "python3"
  },
  "language_info": {
   "codemirror_mode": {
    "name": "ipython",
    "version": 2
   },
   "file_extension": ".py",
   "mimetype": "text/x-python",
   "name": "python",
   "nbconvert_exporter": "python",
   "pygments_lexer": "ipython2",
   "version": "2.7.6"
  },
  "pycharm": {
   "stem_cell": {
    "cell_type": "raw",
    "source": [],
    "metadata": {
     "collapsed": false
    }
   }
  }
 },
 "nbformat": 4,
 "nbformat_minor": 0
}