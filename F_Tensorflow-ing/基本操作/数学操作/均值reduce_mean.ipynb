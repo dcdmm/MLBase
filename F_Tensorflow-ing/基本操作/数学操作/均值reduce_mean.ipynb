{
 "cells": [
  {
   "cell_type": "code",
   "execution_count": 12,
   "metadata": {
    "collapsed": true
   },
   "outputs": [],
   "source": [
    "import tensorflow as tf"
   ]
  },
  {
   "cell_type": "markdown",
   "source": [
    "### 参考numpy.mean"
   ],
   "metadata": {
    "collapsed": false,
    "pycharm": {
     "name": "#%% md\n"
    }
   }
  },
  {
   "cell_type": "code",
   "execution_count": 13,
   "outputs": [
    {
     "data": {
      "text/plain": "<tf.Tensor: shape=(2, 3, 4), dtype=float32, numpy=\narray([[[ 3.6323304 ,  2.622141  ,  2.220693  ,  2.1393037 ],\n        [-1.9047699 , -0.8615699 ,  4.5251856 ,  7.8190603 ],\n        [ 3.9537735 ,  5.31466   ,  6.1238685 ,  5.4462557 ]],\n\n       [[ 5.246394  ,  3.6531477 ,  2.2102885 ,  4.122155  ],\n        [ 4.6657124 ,  0.60701835,  5.6253    , -0.37034798],\n        [-0.1914711 , -0.16226149,  3.0958257 ,  1.4914773 ]]],\n      dtype=float32)>"
     },
     "execution_count": 13,
     "metadata": {},
     "output_type": "execute_result"
    }
   ],
   "source": [
    "a = tf.random.stateless_normal(mean=2, stddev=3, shape=(2, 3, 4), seed=(1, 2))\n",
    "a"
   ],
   "metadata": {
    "collapsed": false,
    "pycharm": {
     "name": "#%%\n"
    }
   }
  },
  {
   "cell_type": "code",
   "execution_count": 14,
   "outputs": [
    {
     "data": {
      "text/plain": "<tf.Tensor: shape=(), dtype=float32, numpy=2.9593403>"
     },
     "execution_count": 14,
     "metadata": {},
     "output_type": "execute_result"
    }
   ],
   "source": [
    "# Computes the mean of elements across dimensions of a tensor.\n",
    "tf.math.reduce_mean(a)"
   ],
   "metadata": {
    "collapsed": false,
    "pycharm": {
     "name": "#%%\n"
    }
   }
  },
  {
   "cell_type": "code",
   "execution_count": 15,
   "outputs": [
    {
     "data": {
      "text/plain": "<tf.Tensor: shape=(3, 4), dtype=float32, numpy=\narray([[ 4.4393625 ,  3.1376443 ,  2.2154908 ,  3.1307294 ],\n       [ 1.3804712 , -0.12727576,  5.075243  ,  3.7243562 ],\n       [ 1.8811512 ,  2.5761993 ,  4.609847  ,  3.4688663 ]],\n      dtype=float32)>"
     },
     "execution_count": 15,
     "metadata": {},
     "output_type": "execute_result"
    }
   ],
   "source": [
    "# The dimensions to reduce. If None (the default), reduces all dimensions\n",
    "tf.math.reduce_mean(a, axis=0)"
   ],
   "metadata": {
    "collapsed": false,
    "pycharm": {
     "name": "#%%\n"
    }
   }
  },
  {
   "cell_type": "code",
   "execution_count": 16,
   "outputs": [
    {
     "data": {
      "text/plain": "<tf.Tensor: shape=(2,), dtype=float32, numpy=array([3.419244 , 2.4994366], dtype=float32)>"
     },
     "execution_count": 16,
     "metadata": {},
     "output_type": "execute_result"
    }
   ],
   "source": [
    "# 注意:axis参数也可以为元组;第0个维度上所有数据的均值\n",
    "tf.math.reduce_mean(a, axis=(1, 2))"
   ],
   "metadata": {
    "collapsed": false,
    "pycharm": {
     "name": "#%%\n"
    }
   }
  },
  {
   "cell_type": "code",
   "execution_count": 17,
   "outputs": [
    {
     "data": {
      "text/plain": "TensorShape([1, 3, 4])"
     },
     "execution_count": 17,
     "metadata": {},
     "output_type": "execute_result"
    }
   ],
   "source": [
    "# If true, retains reduced dimensions with length 1.\n",
    "tf.math.reduce_mean(a, axis=0, keepdims=True).shape  # 保留缩减的维度(广播时使用)\n",
    "\n",
    "\n"
   ],
   "metadata": {
    "collapsed": false,
    "pycharm": {
     "name": "#%%\n"
    }
   }
  }
 ],
 "metadata": {
  "kernelspec": {
   "display_name": "Python 3",
   "language": "python",
   "name": "python3"
  },
  "language_info": {
   "codemirror_mode": {
    "name": "ipython",
    "version": 2
   },
   "file_extension": ".py",
   "mimetype": "text/x-python",
   "name": "python",
   "nbconvert_exporter": "python",
   "pygments_lexer": "ipython2",
   "version": "2.7.6"
  }
 },
 "nbformat": 4,
 "nbformat_minor": 0
}