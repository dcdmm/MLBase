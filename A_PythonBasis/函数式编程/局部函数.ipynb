{
 "cells": [
  {
   "cell_type": "code",
   "execution_count": null,
   "outputs": [],
   "source": [
    "# 放在函数体内定义的函数称为局部函数\n",
    "def get_math_func(fun_type, nn) :\n",
    "    def square(n) : \n",
    "        return n * n\n",
    "\n",
    "    def cube(n) :  \n",
    "        return n * n * n\n",
    "\n",
    "    def factorial(n) :   \n",
    "        result = 1\n",
    "        for index in range(2, n + 1) :\n",
    "            result *= index\n",
    "        return result\n",
    "\n",
    "    if fun_type == \"square\" :\n",
    "        return square(nn)\n",
    "    elif fun_type == \"cube\":\n",
    "        return cube(nn)\n",
    "    else:\n",
    "        return factorial(nn)\n",
    "print(get_math_func(\"square\", 3)) \n",
    "print(get_math_func(\"cube\", 3)) \n",
    "print(get_math_func(\"\", 3))"
   ],
   "metadata": {
    "collapsed": false,
    "pycharm": {
     "name": "#%%\n"
    }
   }
  },
  {
   "cell_type": "code",
   "execution_count": 7,
   "outputs": [
    {
     "traceback": [
      "\u001B[1;31m---------------------------------------------------------------------------\u001B[0m",
      "\u001B[1;31mUnboundLocalError\u001B[0m                         Traceback (most recent call last)",
      "\u001B[1;32m<ipython-input-7-0eef3404b4cc>\u001B[0m in \u001B[0;36m<module>\u001B[1;34m\u001B[0m\n\u001B[0;32m      6\u001B[0m         \u001B[0mname\u001B[0m \u001B[1;33m=\u001B[0m \u001B[1;34m'孙悟空'\u001B[0m\u001B[1;33m\u001B[0m\u001B[1;33m\u001B[0m\u001B[0m\n\u001B[0;32m      7\u001B[0m     \u001B[0mbar\u001B[0m\u001B[1;33m(\u001B[0m\u001B[1;33m)\u001B[0m\u001B[1;33m\u001B[0m\u001B[1;33m\u001B[0m\u001B[0m\n\u001B[1;32m----> 8\u001B[1;33m \u001B[0mfoo\u001B[0m\u001B[1;33m(\u001B[0m\u001B[1;33m)\u001B[0m\u001B[1;33m\u001B[0m\u001B[1;33m\u001B[0m\u001B[0m\n\u001B[0m",
      "\u001B[1;32m<ipython-input-7-0eef3404b4cc>\u001B[0m in \u001B[0;36mfoo\u001B[1;34m()\u001B[0m\n\u001B[0;32m      5\u001B[0m         \u001B[0mprint\u001B[0m\u001B[1;33m(\u001B[0m\u001B[0mname\u001B[0m\u001B[1;33m)\u001B[0m \u001B[1;31m# 报错,local variable 'name' referenced before assignment\u001B[0m\u001B[1;33m\u001B[0m\u001B[1;33m\u001B[0m\u001B[0m\n\u001B[0;32m      6\u001B[0m         \u001B[0mname\u001B[0m \u001B[1;33m=\u001B[0m \u001B[1;34m'孙悟空'\u001B[0m\u001B[1;33m\u001B[0m\u001B[1;33m\u001B[0m\u001B[0m\n\u001B[1;32m----> 7\u001B[1;33m     \u001B[0mbar\u001B[0m\u001B[1;33m(\u001B[0m\u001B[1;33m)\u001B[0m\u001B[1;33m\u001B[0m\u001B[1;33m\u001B[0m\u001B[0m\n\u001B[0m\u001B[0;32m      8\u001B[0m \u001B[0mfoo\u001B[0m\u001B[1;33m(\u001B[0m\u001B[1;33m)\u001B[0m\u001B[1;33m\u001B[0m\u001B[1;33m\u001B[0m\u001B[0m\n",
      "\u001B[1;32m<ipython-input-7-0eef3404b4cc>\u001B[0m in \u001B[0;36mbar\u001B[1;34m()\u001B[0m\n\u001B[0;32m      3\u001B[0m     \u001B[0mname\u001B[0m \u001B[1;33m=\u001B[0m \u001B[1;34m'Charlie'\u001B[0m \u001B[1;31m# 局部变量name\u001B[0m\u001B[1;33m\u001B[0m\u001B[1;33m\u001B[0m\u001B[0m\n\u001B[0;32m      4\u001B[0m     \u001B[1;32mdef\u001B[0m \u001B[0mbar\u001B[0m \u001B[1;33m(\u001B[0m\u001B[1;33m)\u001B[0m\u001B[1;33m:\u001B[0m\u001B[1;33m\u001B[0m\u001B[1;33m\u001B[0m\u001B[0m\n\u001B[1;32m----> 5\u001B[1;33m         \u001B[0mprint\u001B[0m\u001B[1;33m(\u001B[0m\u001B[0mname\u001B[0m\u001B[1;33m)\u001B[0m \u001B[1;31m# 报错,local variable 'name' referenced before assignment\u001B[0m\u001B[1;33m\u001B[0m\u001B[1;33m\u001B[0m\u001B[0m\n\u001B[0m\u001B[0;32m      6\u001B[0m         \u001B[0mname\u001B[0m \u001B[1;33m=\u001B[0m \u001B[1;34m'孙悟空'\u001B[0m\u001B[1;33m\u001B[0m\u001B[1;33m\u001B[0m\u001B[0m\n\u001B[0;32m      7\u001B[0m     \u001B[0mbar\u001B[0m\u001B[1;33m(\u001B[0m\u001B[1;33m)\u001B[0m\u001B[1;33m\u001B[0m\u001B[1;33m\u001B[0m\u001B[0m\n",
      "\u001B[1;31mUnboundLocalError\u001B[0m: local variable 'name' referenced before assignment"
     ],
     "ename": "UnboundLocalError",
     "evalue": "local variable 'name' referenced before assignment",
     "output_type": "error"
    }
   ],
   "source": [
    "# 局部函数内的变量也会遮蔽它所在函数内的局部变量\n",
    "def foo ():\n",
    "    name = 'Charlie'  # 局部变量name\n",
    "    def bar ():\n",
    "        print(name)  # 报错,local variable 'name' referenced before assignment\n",
    "        name = '孙悟空'\n",
    "    bar()\n",
    "foo()"
   ],
   "metadata": {
    "pycharm": {
     "metadata": false,
     "name": "#%%\n",
     "is_executing": false
    }
   }
  },
  {
   "cell_type": "code",
   "execution_count": 13,
   "outputs": [
    {
     "name": "stdout",
     "text": [
      "Charlie\n孙悟空\n"
     ],
     "output_type": "stream"
    }
   ],
   "source": [
    "# 解决方法一:nonlocal关键字(嵌套函数中内部函数修改外部变量的值)\n",
    "def foo1():\n",
    "    name1 = 'Charlie'\n",
    "    def bar1():\n",
    "        nonlocal name1\n",
    "        print(name1) \n",
    "        name1 = '孙悟空'\n",
    "    bar1()\n",
    "    print(name1)\n",
    "    \n",
    "foo1()"
   ],
   "metadata": {
    "pycharm": {
     "metadata": false,
     "name": "#%%\n",
     "is_executing": false
    }
   }
  },
  {
   "cell_type": "code",
   "execution_count": 19,
   "outputs": [
    {
     "name": "stdout",
     "text": [
      "['Charlie']\n['孙悟空']\n"
     ],
     "output_type": "stream"
    }
   ],
   "source": [
    "# 解决方法二:\n",
    "def foo2():\n",
    "    name2 = ['Charlie']  # 列表不是存放在栈空间\n",
    "    def bar2():\n",
    "        print(name2) \n",
    "        name2[0] = '孙悟空'\n",
    "    bar2()\n",
    "    print(name2)\n",
    "    \n",
    "foo2()\n"
   ],
   "metadata": {
    "pycharm": {
     "metadata": false,
     "name": "#%%\n",
     "is_executing": false
    }
   }
  }
 ],
 "metadata": {
  "language_info": {
   "codemirror_mode": {
    "name": "ipython",
    "version": 2
   },
   "file_extension": ".py",
   "mimetype": "text/x-python",
   "name": "python",
   "nbconvert_exporter": "python",
   "pygments_lexer": "ipython2",
   "version": "2.7.6"
  },
  "kernelspec": {
   "name": "python3",
   "language": "python",
   "display_name": "Python 3"
  }
 },
 "nbformat": 4,
 "nbformat_minor": 0
}