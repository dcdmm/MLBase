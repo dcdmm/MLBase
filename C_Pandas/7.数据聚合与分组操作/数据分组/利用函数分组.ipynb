{
 "cells": [
  {
   "cell_type": "code",
   "execution_count": 39,
   "outputs": [
    {
     "data": {
      "text/plain": "               a         b         c         d         e\nJoe    -1.090577 -0.069222 -0.498907 -0.154092  0.673856\nSteve   0.086184 -1.726535 -0.869632 -0.192265  1.147788\nWes    -1.610391       NaN       NaN  2.318417  0.378051\nJim     0.038999 -0.111999 -0.922771  0.632313  0.832629\nTravis -0.556759  0.403296 -0.424165 -0.156359 -1.294784",
      "text/html": "<div>\n<style scoped>\n    .dataframe tbody tr th:only-of-type {\n        vertical-align: middle;\n    }\n\n    .dataframe tbody tr th {\n        vertical-align: top;\n    }\n\n    .dataframe thead th {\n        text-align: right;\n    }\n</style>\n<table border=\"1\" class=\"dataframe\">\n  <thead>\n    <tr style=\"text-align: right;\">\n      <th></th>\n      <th>a</th>\n      <th>b</th>\n      <th>c</th>\n      <th>d</th>\n      <th>e</th>\n    </tr>\n  </thead>\n  <tbody>\n    <tr>\n      <th>Joe</th>\n      <td>-1.090577</td>\n      <td>-0.069222</td>\n      <td>-0.498907</td>\n      <td>-0.154092</td>\n      <td>0.673856</td>\n    </tr>\n    <tr>\n      <th>Steve</th>\n      <td>0.086184</td>\n      <td>-1.726535</td>\n      <td>-0.869632</td>\n      <td>-0.192265</td>\n      <td>1.147788</td>\n    </tr>\n    <tr>\n      <th>Wes</th>\n      <td>-1.610391</td>\n      <td>NaN</td>\n      <td>NaN</td>\n      <td>2.318417</td>\n      <td>0.378051</td>\n    </tr>\n    <tr>\n      <th>Jim</th>\n      <td>0.038999</td>\n      <td>-0.111999</td>\n      <td>-0.922771</td>\n      <td>0.632313</td>\n      <td>0.832629</td>\n    </tr>\n    <tr>\n      <th>Travis</th>\n      <td>-0.556759</td>\n      <td>0.403296</td>\n      <td>-0.424165</td>\n      <td>-0.156359</td>\n      <td>-1.294784</td>\n    </tr>\n  </tbody>\n</table>\n</div>"
     },
     "execution_count": 39,
     "metadata": {},
     "output_type": "execute_result"
    }
   ],
   "source": [
    "import pandas as pd\n",
    "import numpy as np\n",
    "\n",
    "people = pd.DataFrame(np.random.randn(5, 5),\n",
    "                      columns=['a', 'b', 'c', 'd', 'e'],\n",
    "                      index=['Joe', 'Steve', 'Wes', 'Jim', 'Travis'])\n",
    "people.iloc[2:3, [1, 2]] = np.nan  # Add a few NA values\n",
    "people"
   ],
   "metadata": {
    "collapsed": false,
    "pycharm": {
     "name": "#%%\n"
    }
   }
  },
  {
   "cell_type": "code",
   "execution_count": 40,
   "outputs": [
    {
     "data": {
      "text/plain": "          a         b         c         d         e\n3 -2.661969 -0.181221 -1.421678  2.796639  1.884537\n5  0.086184 -1.726535 -0.869632 -0.192265  1.147788\n6 -0.556759  0.403296 -0.424165 -0.156359 -1.294784",
      "text/html": "<div>\n<style scoped>\n    .dataframe tbody tr th:only-of-type {\n        vertical-align: middle;\n    }\n\n    .dataframe tbody tr th {\n        vertical-align: top;\n    }\n\n    .dataframe thead th {\n        text-align: right;\n    }\n</style>\n<table border=\"1\" class=\"dataframe\">\n  <thead>\n    <tr style=\"text-align: right;\">\n      <th></th>\n      <th>a</th>\n      <th>b</th>\n      <th>c</th>\n      <th>d</th>\n      <th>e</th>\n    </tr>\n  </thead>\n  <tbody>\n    <tr>\n      <th>3</th>\n      <td>-2.661969</td>\n      <td>-0.181221</td>\n      <td>-1.421678</td>\n      <td>2.796639</td>\n      <td>1.884537</td>\n    </tr>\n    <tr>\n      <th>5</th>\n      <td>0.086184</td>\n      <td>-1.726535</td>\n      <td>-0.869632</td>\n      <td>-0.192265</td>\n      <td>1.147788</td>\n    </tr>\n    <tr>\n      <th>6</th>\n      <td>-0.556759</td>\n      <td>0.403296</td>\n      <td>-0.424165</td>\n      <td>-0.156359</td>\n      <td>-1.294784</td>\n    </tr>\n  </tbody>\n</table>\n</div>"
     },
     "execution_count": 40,
     "metadata": {},
     "output_type": "execute_result"
    }
   ],
   "source": [
    "#  If by is a function, it’s called on each value of the object’s index\n",
    "people.groupby(len).sum()"
   ],
   "metadata": {
    "pycharm": {
     "metadata": false,
     "name": "#%%\n"
    }
   }
  },
  {
   "cell_type": "code",
   "execution_count": 41,
   "outputs": [
    {
     "data": {
      "text/plain": "Joe          Joe\nSteve      Steve\nWes          Wes\nJim          Jim\nTravis    Travis\ndtype: object"
     },
     "execution_count": 41,
     "metadata": {},
     "output_type": "execute_result"
    }
   ],
   "source": [
    "ser = pd.Series(people.index)\n",
    "ser.index = ser.values\n",
    "ser"
   ],
   "metadata": {
    "pycharm": {
     "metadata": false,
     "name": "#%%\n"
    }
   }
  },
  {
   "cell_type": "code",
   "execution_count": 42,
   "outputs": [
    {
     "data": {
      "text/plain": "Joe       3\nSteve     5\nWes       3\nJim       3\nTravis    6\ndtype: int64"
     },
     "execution_count": 42,
     "metadata": {},
     "output_type": "execute_result"
    }
   ],
   "source": [
    "def newlen(x):\n",
    "    return len(x)\n",
    "\n",
    "\n",
    "ser.apply(newlen)"
   ],
   "metadata": {
    "pycharm": {
     "metadata": false,
     "name": "#%%\n"
    }
   }
  },
  {
   "cell_type": "code",
   "execution_count": 43,
   "outputs": [
    {
     "data": {
      "text/plain": "          a         b         c         d         e\n3 -2.661969 -0.181221 -1.421678  2.796639  1.884537\n5  0.086184 -1.726535 -0.869632 -0.192265  1.147788\n6 -0.556759  0.403296 -0.424165 -0.156359 -1.294784",
      "text/html": "<div>\n<style scoped>\n    .dataframe tbody tr th:only-of-type {\n        vertical-align: middle;\n    }\n\n    .dataframe tbody tr th {\n        vertical-align: top;\n    }\n\n    .dataframe thead th {\n        text-align: right;\n    }\n</style>\n<table border=\"1\" class=\"dataframe\">\n  <thead>\n    <tr style=\"text-align: right;\">\n      <th></th>\n      <th>a</th>\n      <th>b</th>\n      <th>c</th>\n      <th>d</th>\n      <th>e</th>\n    </tr>\n  </thead>\n  <tbody>\n    <tr>\n      <th>3</th>\n      <td>-2.661969</td>\n      <td>-0.181221</td>\n      <td>-1.421678</td>\n      <td>2.796639</td>\n      <td>1.884537</td>\n    </tr>\n    <tr>\n      <th>5</th>\n      <td>0.086184</td>\n      <td>-1.726535</td>\n      <td>-0.869632</td>\n      <td>-0.192265</td>\n      <td>1.147788</td>\n    </tr>\n    <tr>\n      <th>6</th>\n      <td>-0.556759</td>\n      <td>0.403296</td>\n      <td>-0.424165</td>\n      <td>-0.156359</td>\n      <td>-1.294784</td>\n    </tr>\n  </tbody>\n</table>\n</div>"
     },
     "execution_count": 43,
     "metadata": {},
     "output_type": "execute_result"
    }
   ],
   "source": [
    "people.groupby(newlen).sum()  # 与上等价"
   ],
   "metadata": {
    "collapsed": false,
    "pycharm": {
     "name": "#%%\n"
    }
   }
  },
  {
   "cell_type": "code",
   "execution_count": 44,
   "outputs": [
    {
     "data": {
      "text/plain": "          a         b         c         d         e\n3 -2.661969 -0.181221 -1.421678  2.796639  1.884537\n5  0.086184 -1.726535 -0.869632 -0.192265  1.147788\n6 -0.556759  0.403296 -0.424165 -0.156359 -1.294784",
      "text/html": "<div>\n<style scoped>\n    .dataframe tbody tr th:only-of-type {\n        vertical-align: middle;\n    }\n\n    .dataframe tbody tr th {\n        vertical-align: top;\n    }\n\n    .dataframe thead th {\n        text-align: right;\n    }\n</style>\n<table border=\"1\" class=\"dataframe\">\n  <thead>\n    <tr style=\"text-align: right;\">\n      <th></th>\n      <th>a</th>\n      <th>b</th>\n      <th>c</th>\n      <th>d</th>\n      <th>e</th>\n    </tr>\n  </thead>\n  <tbody>\n    <tr>\n      <th>3</th>\n      <td>-2.661969</td>\n      <td>-0.181221</td>\n      <td>-1.421678</td>\n      <td>2.796639</td>\n      <td>1.884537</td>\n    </tr>\n    <tr>\n      <th>5</th>\n      <td>0.086184</td>\n      <td>-1.726535</td>\n      <td>-0.869632</td>\n      <td>-0.192265</td>\n      <td>1.147788</td>\n    </tr>\n    <tr>\n      <th>6</th>\n      <td>-0.556759</td>\n      <td>0.403296</td>\n      <td>-0.424165</td>\n      <td>-0.156359</td>\n      <td>-1.294784</td>\n    </tr>\n  </tbody>\n</table>\n</div>"
     },
     "execution_count": 44,
     "metadata": {},
     "output_type": "execute_result"
    }
   ],
   "source": [
    "people.groupby(ser.apply(newlen)).sum()  # 与上等价"
   ],
   "metadata": {
    "collapsed": false,
    "pycharm": {
     "name": "#%%\n"
    }
   }
  },
  {
   "cell_type": "code",
   "execution_count": 45,
   "outputs": [
    {
     "data": {
      "text/plain": "              a         b         c         d         e\n3 one -1.610391 -0.069222 -0.498907 -0.154092  0.378051\n  two  0.038999 -0.111999 -0.922771  0.632313  0.832629\n5 one  0.086184 -1.726535 -0.869632 -0.192265  1.147788\n6 two -0.556759  0.403296 -0.424165 -0.156359 -1.294784",
      "text/html": "<div>\n<style scoped>\n    .dataframe tbody tr th:only-of-type {\n        vertical-align: middle;\n    }\n\n    .dataframe tbody tr th {\n        vertical-align: top;\n    }\n\n    .dataframe thead th {\n        text-align: right;\n    }\n</style>\n<table border=\"1\" class=\"dataframe\">\n  <thead>\n    <tr style=\"text-align: right;\">\n      <th></th>\n      <th></th>\n      <th>a</th>\n      <th>b</th>\n      <th>c</th>\n      <th>d</th>\n      <th>e</th>\n    </tr>\n  </thead>\n  <tbody>\n    <tr>\n      <th rowspan=\"2\" valign=\"top\">3</th>\n      <th>one</th>\n      <td>-1.610391</td>\n      <td>-0.069222</td>\n      <td>-0.498907</td>\n      <td>-0.154092</td>\n      <td>0.378051</td>\n    </tr>\n    <tr>\n      <th>two</th>\n      <td>0.038999</td>\n      <td>-0.111999</td>\n      <td>-0.922771</td>\n      <td>0.632313</td>\n      <td>0.832629</td>\n    </tr>\n    <tr>\n      <th>5</th>\n      <th>one</th>\n      <td>0.086184</td>\n      <td>-1.726535</td>\n      <td>-0.869632</td>\n      <td>-0.192265</td>\n      <td>1.147788</td>\n    </tr>\n    <tr>\n      <th>6</th>\n      <th>two</th>\n      <td>-0.556759</td>\n      <td>0.403296</td>\n      <td>-0.424165</td>\n      <td>-0.156359</td>\n      <td>-1.294784</td>\n    </tr>\n  </tbody>\n</table>\n</div>"
     },
     "execution_count": 45,
     "metadata": {},
     "output_type": "execute_result"
    }
   ],
   "source": [
    "key_list = ['one', 'one', 'one', 'two', 'two']\n",
    "people.groupby([len, key_list]).min()"
   ],
   "metadata": {
    "pycharm": {
     "metadata": false,
     "name": "#%%\n"
    }
   }
  },
  {
   "cell_type": "code",
   "execution_count": 45,
   "outputs": [],
   "source": "\n",
   "metadata": {
    "pycharm": {
     "metadata": false,
     "name": "#%%\n"
    }
   }
  }
 ],
 "metadata": {
  "language_info": {
   "codemirror_mode": {
    "name": "ipython",
    "version": 2
   },
   "file_extension": ".py",
   "mimetype": "text/x-python",
   "name": "python",
   "nbconvert_exporter": "python",
   "pygments_lexer": "ipython2",
   "version": "2.7.6"
  },
  "kernelspec": {
   "name": "python3",
   "language": "python",
   "display_name": "Python 3"
  }
 },
 "nbformat": 4,
 "nbformat_minor": 0
}