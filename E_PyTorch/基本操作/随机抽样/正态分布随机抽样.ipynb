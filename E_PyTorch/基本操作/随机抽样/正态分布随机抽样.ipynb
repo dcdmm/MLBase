{
 "cells": [
  {
   "cell_type": "code",
   "execution_count": 1,
   "outputs": [
    {
     "data": {
      "text/plain": "tensor([[-1.6053,  0.2325,  2.2399],\n        [ 0.8473,  1.2006, -0.4016]])"
     },
     "execution_count": 1,
     "metadata": {},
     "output_type": "execute_result"
    }
   ],
   "source": [
    "import torch\n",
    "\n",
    "generator_state = torch.Generator().manual_seed(4)\n",
    "\n",
    "# 标准正态分布抽样\n",
    "torch.randn(2, 3,\n",
    "            generator=generator_state)  # 作用类似于numpy中的random_state"
   ],
   "metadata": {
    "collapsed": false,
    "pycharm": {
     "name": "#%%\n"
    }
   }
  },
  {
   "cell_type": "code",
   "execution_count": 2,
   "outputs": [
    {
     "data": {
      "text/plain": "tensor([-0.9718, -0.7744,  0.7411,  1.2979,  0.1763, -0.0637, -0.5999, -0.0186,\n         0.3497, -0.5790,  0.0230,  0.2454,  0.1445, -0.7114, -0.2423,  0.5338,\n        -0.6445,  0.2545, -1.2709, -0.8835,  1.6074, -0.3471, -1.4280, -1.4274,\n         1.3898, -0.1331, -0.8514,  1.6025, -0.4724, -1.1792, -0.4956,  0.4205,\n        -0.5324,  1.3637,  0.0305,  0.3146,  1.0338, -2.9175,  0.5563,  0.2883,\n        -1.0196,  0.0666,  0.5078, -0.5498, -0.6450, -0.4451,  0.1970, -0.0233,\n        -1.7346,  1.3673])"
     },
     "execution_count": 2,
     "metadata": {},
     "output_type": "execute_result"
    }
   ],
   "source": [
    "torch.randn(50)"
   ],
   "metadata": {
    "collapsed": false,
    "pycharm": {
     "name": "#%%\n"
    }
   }
  },
  {
   "cell_type": "code",
   "execution_count": 3,
   "outputs": [
    {
     "data": {
      "text/plain": "tensor([[-2.2781,  4.7118,  4.5671,  4.0666],\n        [ 4.6550,  7.3119,  1.7572,  2.1538]])"
     },
     "execution_count": 3,
     "metadata": {},
     "output_type": "execute_result"
    }
   ],
   "source": [
    "torch.normal(mean=2, std=3, size=(2, 4), generator=generator_state)  # 从均值为2,标准差为3的正态分布抽样"
   ],
   "metadata": {
    "collapsed": false,
    "pycharm": {
     "name": "#%%\n"
    }
   }
  },
  {
   "cell_type": "code",
   "execution_count": 4,
   "outputs": [
    {
     "data": {
      "text/plain": "tensor([[0.2290, 3.5135, 1.5203, 3.8510, 5.7048],\n        [6.1441, 7.0408, 7.9359, 8.9698, 9.9812]])"
     },
     "execution_count": 4,
     "metadata": {},
     "output_type": "execute_result"
    }
   ],
   "source": [
    "torch.normal(mean=torch.arange(1., 11.).reshape(2, 5),  # 每个元素的均值\n",
    "             std=torch.arange(1, 0, -0.1).reshape(2, 5))  # 每个元素的标准差"
   ],
   "metadata": {
    "collapsed": false,
    "pycharm": {
     "name": "#%%\n"
    }
   }
  },
  {
   "cell_type": "code",
   "execution_count": 5,
   "outputs": [
    {
     "data": {
      "text/plain": "tensor([  1.8449,  -2.2226,   1.1920,   4.4565,   2.2937,   0.1710,  -0.4421,\n         15.2119,  -2.1365,  -0.0777,  -9.1603,   4.3779,  21.3144,  17.6740,\n         12.5293,  24.9864, -16.6256,   1.8742,  -1.7940, -12.8444, -39.9310,\n         12.2759, -20.7866,  18.1147])"
     },
     "execution_count": 5,
     "metadata": {},
     "output_type": "execute_result"
    }
   ],
   "source": [
    "torch.normal(mean=0.5, std=torch.arange(1., 25.))  # 所有元素均值相同(不同标准差)"
   ],
   "metadata": {
    "collapsed": false,
    "pycharm": {
     "name": "#%%\n"
    }
   }
  },
  {
   "cell_type": "code",
   "execution_count": 6,
   "outputs": [
    {
     "data": {
      "text/plain": "tensor([[-0.2929,  1.5107,  2.5384,  3.3907,  3.9120,  7.3404],\n        [ 8.4267,  7.6865,  9.1171, 10.3611, 10.9402, 13.9230],\n        [13.1760, 13.7268, 16.6538, 15.3305, 16.7538, 19.1229],\n        [18.2353, 19.4150, 21.7879, 21.0440, 22.4098, 24.1798]])"
     },
     "execution_count": 6,
     "metadata": {},
     "output_type": "execute_result"
    }
   ],
   "source": [
    "torch.normal(mean=torch.arange(1., 25.).reshape(4, 6), std=1)  # 所有元素标准差相同(不同均值)"
   ],
   "metadata": {
    "collapsed": false,
    "pycharm": {
     "name": "#%%\n"
    }
   }
  }
 ],
 "metadata": {
  "kernelspec": {
   "display_name": "Python 3",
   "language": "python",
   "name": "python3"
  },
  "language_info": {
   "codemirror_mode": {
    "name": "ipython",
    "version": 2
   },
   "file_extension": ".py",
   "mimetype": "text/x-python",
   "name": "python",
   "nbconvert_exporter": "python",
   "pygments_lexer": "ipython2",
   "version": "2.7.6"
  }
 },
 "nbformat": 4,
 "nbformat_minor": 0
}