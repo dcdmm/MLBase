{
 "cells": [
  {
   "cell_type": "code",
   "execution_count": 49,
   "metadata": {
    "collapsed": true,
    "pycharm": {
     "is_executing": false
    }
   },
   "outputs": [],
   "source": [
    "import pandas as pd\n",
    "from sklearn.datasets import load_iris\n",
    "from sklearn.model_selection import train_test_split"
   ]
  },
  {
   "cell_type": "code",
   "execution_count": 50,
   "outputs": [],
   "source": [
    "def create_data():\n",
    "    iris = load_iris() # 鸢尾花数据集\n",
    "    df = pd.DataFrame(iris.data, columns=iris.feature_names)\n",
    "    print(df)\n",
    "    df['label'] = iris.target\n",
    "    df.columns = ['sepal length', 'sepal width', 'petal length', 'petal width', 'label']\n",
    "    return iris.data, iris.target"
   ],
   "metadata": {
    "collapsed": false,
    "pycharm": {
     "name": "#%%\n",
     "is_executing": false
    }
   }
  },
  {
   "cell_type": "code",
   "execution_count": 51,
   "outputs": [
    {
     "name": "stdout",
     "text": [
      "     sepal length (cm)  sepal width (cm)  petal length (cm)  petal width (cm)\n",
      "0                  5.1               3.5                1.4               0.2\n",
      "1                  4.9               3.0                1.4               0.2\n",
      "2                  4.7               3.2                1.3               0.2\n",
      "3                  4.6               3.1                1.5               0.2\n",
      "4                  5.0               3.6                1.4               0.2\n",
      "..                 ...               ...                ...               ...\n",
      "145                6.7               3.0                5.2               2.3\n",
      "146                6.3               2.5                5.0               1.9\n",
      "147                6.5               3.0                5.2               2.0\n",
      "148                6.2               3.4                5.4               2.3\n",
      "149                5.9               3.0                5.1               1.8\n",
      "\n",
      "[150 rows x 4 columns]\n"
     ],
     "output_type": "stream"
    }
   ],
   "source": [
    "X, y = create_data()\n",
    "X_train, X_test, y_train, y_test = train_test_split(X, y, test_size=0.3)"
   ],
   "metadata": {
    "collapsed": false,
    "pycharm": {
     "name": "#%%\n",
     "is_executing": false
    }
   }
  },
  {
   "cell_type": "code",
   "execution_count": 52,
   "outputs": [],
   "source": [
    "from sklearn.naive_bayes import GaussianNB # 基于高斯分布\n",
    "from sklearn.naive_bayes import BernoulliNB # 基于伯努利分布\n",
    "from sklearn.naive_bayes import MultinomialNB # 基于多项式分布"
   ],
   "metadata": {
    "collapsed": false,
    "pycharm": {
     "name": "#%%\n",
     "is_executing": false
    }
   }
  },
  {
   "cell_type": "code",
   "execution_count": 53,
   "outputs": [
    {
     "data": {
      "text/plain": "GaussianNB(priors=None, var_smoothing=1e-09)"
     },
     "metadata": {},
     "output_type": "execute_result",
     "execution_count": 53
    }
   ],
   "source": [
    "clf = GaussianNB() # 高斯朴素贝叶斯\n",
    "clf.fit(X_train, y_train)"
   ],
   "metadata": {
    "collapsed": false,
    "pycharm": {
     "name": "#%%\n",
     "is_executing": false
    }
   }
  },
  {
   "cell_type": "code",
   "execution_count": 60,
   "outputs": [
    {
     "data": {
      "text/plain": "array([[3.58957693e-026, 9.99999996e-001, 3.91754698e-009],\n       [3.53858592e-091, 9.92260261e-001, 7.73973942e-003],\n       [2.59723749e-168, 1.51786185e-006, 9.99998482e-001],\n       [1.00648315e-109, 2.87837616e-001, 7.12162384e-001],\n       [1.00000000e+000, 1.08797523e-017, 1.55227314e-029],\n       [1.00000000e+000, 1.10469256e-014, 3.99585706e-026],\n       [7.00651986e-093, 9.80934997e-001, 1.90650033e-002],\n       [1.00000000e+000, 5.60400762e-016, 4.45151737e-029],\n       [6.25630041e-073, 9.99171741e-001, 8.28258762e-004],\n       [8.82025305e-113, 1.39990924e-001, 8.60009076e-001],\n       [1.00000000e+000, 4.25759181e-018, 5.36509735e-028],\n       [4.52116291e-158, 2.85957514e-007, 9.99999714e-001],\n       [5.22040874e-123, 8.54972498e-001, 1.45027502e-001],\n       [1.00000000e+000, 2.20085758e-018, 2.09352451e-030],\n       [1.00000000e+000, 1.47159994e-018, 2.11226009e-031],\n       [1.00000000e+000, 8.80326354e-015, 2.33782307e-026],\n       [1.00000000e+000, 2.46466388e-015, 1.19754613e-028],\n       [3.82483186e-144, 1.75245023e-003, 9.98247550e-001],\n       [3.61412792e-086, 9.34849586e-001, 6.51504137e-002],\n       [1.00000000e+000, 3.81732323e-015, 5.66276537e-026],\n       [1.00000000e+000, 1.44636971e-017, 1.88165070e-030],\n       [1.00000000e+000, 4.67490295e-018, 1.87393342e-031],\n       [6.57339953e-089, 9.21448970e-001, 7.85510297e-002],\n       [1.38244959e-106, 9.04043641e-001, 9.59563588e-002],\n       [1.00000000e+000, 9.27487293e-016, 2.93194220e-028],\n       [1.00000000e+000, 1.04943013e-018, 1.03079438e-030],\n       [8.38486997e-171, 1.12764631e-006, 9.99998872e-001],\n       [1.51827514e-100, 6.19830144e-001, 3.80169856e-001],\n       [4.39477646e-161, 2.16572287e-006, 9.99997834e-001],\n       [1.08042643e-166, 1.66276015e-007, 9.99999834e-001],\n       [1.00000000e+000, 1.73802095e-018, 5.80447761e-032],\n       [1.65809068e-059, 9.99998984e-001, 1.01570461e-006],\n       [1.00000000e+000, 1.92158913e-016, 5.74839918e-029],\n       [1.00000000e+000, 2.13001556e-019, 1.32670694e-031],\n       [1.00000000e+000, 4.83070943e-018, 2.11384125e-030],\n       [1.00000000e+000, 1.87779506e-020, 3.96831156e-033],\n       [9.15285892e-056, 9.99999175e-001, 8.25318492e-007],\n       [2.73844370e-211, 4.56655512e-011, 1.00000000e+000],\n       [1.00000000e+000, 6.90980216e-019, 1.63476654e-031],\n       [6.05140284e-221, 3.25225113e-013, 1.00000000e+000],\n       [1.24220700e-061, 9.99991247e-001, 8.75292073e-006],\n       [2.98165230e-103, 9.95237109e-001, 4.76289076e-003],\n       [1.45192239e-094, 7.79213455e-001, 2.20786545e-001],\n       [1.00000000e+000, 4.60728437e-018, 5.16744008e-030],\n       [1.99392212e-156, 4.13632970e-004, 9.99586367e-001]])"
     },
     "metadata": {},
     "output_type": "execute_result",
     "execution_count": 60
    }
   ],
   "source": [
    "# 预测结果天生就可以输出为概率向量\n",
    "clf.predict_proba(X_test) # 测试数据X_test的概率估计"
   ],
   "metadata": {
    "collapsed": false,
    "pycharm": {
     "name": "#%%\n",
     "is_executing": false
    }
   }
  },
  {
   "cell_type": "code",
   "execution_count": 61,
   "outputs": [
    {
     "data": {
      "text/plain": "array([1, 1, 2, 2, 0, 0, 1, 0, 1, 2, 0, 2, 1, 0, 0, 0, 0, 2, 1, 0, 0, 0,\n       1, 1, 0, 0, 2, 1, 2, 2, 0, 1, 0, 0, 0, 0, 1, 2, 0, 2, 1, 1, 1, 0,\n       2])"
     },
     "metadata": {},
     "output_type": "execute_result",
     "execution_count": 61
    }
   ],
   "source": [
    "clf.predict(X_test) # 对测试数据X_test进行分类"
   ],
   "metadata": {
    "collapsed": false,
    "pycharm": {
     "name": "#%%\n",
     "is_executing": false
    }
   }
  },
  {
   "cell_type": "code",
   "execution_count": 62,
   "outputs": [
    {
     "data": {
      "text/plain": "0.9111111111111111"
     },
     "metadata": {},
     "output_type": "execute_result",
     "execution_count": 62
    }
   ],
   "source": [
    "clf.score(X_test, y_test) # 测试数据X_test的分类准确率"
   ],
   "metadata": {
    "collapsed": false,
    "pycharm": {
     "name": "#%%\n",
     "is_executing": false
    }
   }
  },
  {
   "cell_type": "code",
   "execution_count": 56,
   "outputs": [],
   "source": [
    "\n"
   ],
   "metadata": {
    "collapsed": false,
    "pycharm": {
     "name": "#%%\n",
     "is_executing": false
    }
   }
  }
 ],
 "metadata": {
  "kernelspec": {
   "display_name": "Python 3",
   "language": "python",
   "name": "python3"
  },
  "language_info": {
   "codemirror_mode": {
    "name": "ipython",
    "version": 2
   },
   "file_extension": ".py",
   "mimetype": "text/x-python",
   "name": "python",
   "nbconvert_exporter": "python",
   "pygments_lexer": "ipython2",
   "version": "2.7.6"
  }
 },
 "nbformat": 4,
 "nbformat_minor": 0
}