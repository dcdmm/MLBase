{
 "cells": [
  {
   "cell_type": "markdown",
   "source": [
    "### collate_fn参数理解"
   ],
   "metadata": {
    "collapsed": false,
    "pycharm": {
     "name": "#%% md\n"
    }
   }
  },
  {
   "cell_type": "code",
   "execution_count": 189,
   "outputs": [],
   "source": [
    "import numpy as np\n",
    "import torch\n",
    "import torch.utils.data as Data"
   ],
   "metadata": {
    "collapsed": false,
    "pycharm": {
     "name": "#%%\n"
    }
   }
  },
  {
   "cell_type": "code",
   "execution_count": 190,
   "outputs": [],
   "source": [
    "BATCH_SIZE = 4\n",
    "\n",
    "x = torch.linspace(0.01, 0.1, 25)\n",
    "y = torch.linspace(1, 10, 25)\n",
    "\n",
    "torch_dataset = Data.TensorDataset(x, y)"
   ],
   "metadata": {
    "collapsed": false,
    "pycharm": {
     "name": "#%%\n"
    }
   }
  },
  {
   "cell_type": "code",
   "execution_count": 191,
   "outputs": [],
   "source": [
    "def collate_fun(data):\n",
    "    # print('进入collate_fun函数------------------------------------------------')\n",
    "    print('data为:', data)\n",
    "    process_list = list()\n",
    "    for i in data: # 自定义处理\n",
    "        for j in i:\n",
    "            process_list.append(np.round(j.item(), decimals=5))\n",
    "    return process_list\n",
    "\n",
    "\n",
    "loader = Data.DataLoader(dataset=torch_dataset, batch_size=BATCH_SIZE, drop_last=True,\n",
    "                         collate_fn=collate_fun) # merges a list of samples to form a mini-batch of Tensor(s). Used when using batched loading from a map-style dataset."
   ],
   "metadata": {
    "collapsed": false,
    "pycharm": {
     "name": "#%%\n"
    }
   }
  },
  {
   "cell_type": "code",
   "execution_count": 192,
   "outputs": [
    {
     "name": "stdout",
     "output_type": "stream",
     "text": [
      "data为: [(tensor(0.0100), tensor(1.)), (tensor(0.0137), tensor(1.3750)), (tensor(0.0175), tensor(1.7500)), (tensor(0.0213), tensor(2.1250))]\n",
      "batch:0, batch_data:[0.01, 1.0, 0.01375, 1.375, 0.0175, 1.75, 0.02125, 2.125]\n",
      "data为: [(tensor(0.0250), tensor(2.5000)), (tensor(0.0288), tensor(2.8750)), (tensor(0.0325), tensor(3.2500)), (tensor(0.0363), tensor(3.6250))]\n",
      "batch:1, batch_data:[0.025, 2.5, 0.02875, 2.875, 0.0325, 3.25, 0.03625, 3.625]\n",
      "data为: [(tensor(0.0400), tensor(4.)), (tensor(0.0437), tensor(4.3750)), (tensor(0.0475), tensor(4.7500)), (tensor(0.0512), tensor(5.1250))]\n",
      "batch:2, batch_data:[0.04, 4.0, 0.04375, 4.375, 0.0475, 4.75, 0.05125, 5.125]\n",
      "data为: [(tensor(0.0550), tensor(5.5000)), (tensor(0.0587), tensor(5.8750)), (tensor(0.0625), tensor(6.2500)), (tensor(0.0662), tensor(6.6250))]\n",
      "batch:3, batch_data:[0.055, 5.5, 0.05875, 5.875, 0.0625, 6.25, 0.06625, 6.625]\n",
      "data为: [(tensor(0.0700), tensor(7.)), (tensor(0.0738), tensor(7.3750)), (tensor(0.0775), tensor(7.7500)), (tensor(0.0812), tensor(8.1250))]\n",
      "batch:4, batch_data:[0.07, 7.0, 0.07375, 7.375, 0.0775, 7.75, 0.08125, 8.125]\n",
      "data为: [(tensor(0.0850), tensor(8.5000)), (tensor(0.0888), tensor(8.8750)), (tensor(0.0925), tensor(9.2500)), (tensor(0.0962), tensor(9.6250))]\n",
      "batch:5, batch_data:[0.085, 8.5, 0.08875, 8.875, 0.0925, 9.25, 0.09625, 9.625]\n"
     ]
    }
   ],
   "source": [
    "def show_batch():\n",
    "    for step, batch_data in enumerate(loader):\n",
    "        print(\"batch:{}, batch_data:{}\".format(step, batch_data)) # tensor长度为batch_size\n",
    "\n",
    "show_batch()"
   ],
   "metadata": {
    "collapsed": false,
    "pycharm": {
     "name": "#%%\n"
    }
   }
  },
  {
   "cell_type": "code",
   "execution_count": 192,
   "outputs": [],
   "source": [
    "\n"
   ],
   "metadata": {
    "collapsed": false,
    "pycharm": {
     "name": "#%%\n"
    }
   }
  }
 ],
 "metadata": {
  "kernelspec": {
   "display_name": "Python 3",
   "language": "python",
   "name": "python3"
  },
  "language_info": {
   "codemirror_mode": {
    "name": "ipython",
    "version": 2
   },
   "file_extension": ".py",
   "mimetype": "text/x-python",
   "name": "python",
   "nbconvert_exporter": "python",
   "pygments_lexer": "ipython2",
   "version": "2.7.6"
  }
 },
 "nbformat": 4,
 "nbformat_minor": 0
}