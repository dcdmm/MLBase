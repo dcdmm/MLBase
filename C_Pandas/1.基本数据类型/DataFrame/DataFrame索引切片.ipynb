{
 "cells": [
  {
   "cell_type": "code",
   "source": [
    "import numpy as np\n",
    "import pandas as pd"
   ],
   "metadata": {
    "collapsed": false,
    "pycharm": {
     "name": "#%%\n"
    },
    "ExecuteTime": {
     "end_time": "2024-11-29T02:01:22.701960Z",
     "start_time": "2024-11-29T02:01:22.696454Z"
    }
   },
   "outputs": [],
   "execution_count": 147
  },
  {
   "cell_type": "code",
   "source": [
    "data1 = pd.DataFrame(np.arange(16).reshape((4, 4)),\n",
    "                     index=['Ohio', 'Colorado', 'Utah', 'New York'],\n",
    "                     columns=['one', 'two', 'three', 'four'])\n",
    "data1"
   ],
   "metadata": {
    "pycharm": {
     "metadata": false,
     "name": "#%%\n"
    },
    "ExecuteTime": {
     "end_time": "2024-11-29T02:01:22.751733Z",
     "start_time": "2024-11-29T02:01:22.736102Z"
    }
   },
   "outputs": [
    {
     "data": {
      "text/plain": [
       "          one  two  three  four\n",
       "Ohio        0    1      2     3\n",
       "Colorado    4    5      6     7\n",
       "Utah        8    9     10    11\n",
       "New York   12   13     14    15"
      ],
      "text/html": [
       "<div>\n",
       "<style scoped>\n",
       "    .dataframe tbody tr th:only-of-type {\n",
       "        vertical-align: middle;\n",
       "    }\n",
       "\n",
       "    .dataframe tbody tr th {\n",
       "        vertical-align: top;\n",
       "    }\n",
       "\n",
       "    .dataframe thead th {\n",
       "        text-align: right;\n",
       "    }\n",
       "</style>\n",
       "<table border=\"1\" class=\"dataframe\">\n",
       "  <thead>\n",
       "    <tr style=\"text-align: right;\">\n",
       "      <th></th>\n",
       "      <th>one</th>\n",
       "      <th>two</th>\n",
       "      <th>three</th>\n",
       "      <th>four</th>\n",
       "    </tr>\n",
       "  </thead>\n",
       "  <tbody>\n",
       "    <tr>\n",
       "      <th>Ohio</th>\n",
       "      <td>0</td>\n",
       "      <td>1</td>\n",
       "      <td>2</td>\n",
       "      <td>3</td>\n",
       "    </tr>\n",
       "    <tr>\n",
       "      <th>Colorado</th>\n",
       "      <td>4</td>\n",
       "      <td>5</td>\n",
       "      <td>6</td>\n",
       "      <td>7</td>\n",
       "    </tr>\n",
       "    <tr>\n",
       "      <th>Utah</th>\n",
       "      <td>8</td>\n",
       "      <td>9</td>\n",
       "      <td>10</td>\n",
       "      <td>11</td>\n",
       "    </tr>\n",
       "    <tr>\n",
       "      <th>New York</th>\n",
       "      <td>12</td>\n",
       "      <td>13</td>\n",
       "      <td>14</td>\n",
       "      <td>15</td>\n",
       "    </tr>\n",
       "  </tbody>\n",
       "</table>\n",
       "</div>"
      ]
     },
     "execution_count": 148,
     "metadata": {},
     "output_type": "execute_result"
    }
   ],
   "execution_count": 148
  },
  {
   "cell_type": "code",
   "source": [
    "print(data1['one'], end='\\n\\n')  # 默认对★★列进行索引(注意:不支持data1[0])\n",
    "print(type(data1['one']))  # 数据类型为Series"
   ],
   "metadata": {
    "pycharm": {
     "metadata": false,
     "name": "#%%\n"
    },
    "ExecuteTime": {
     "end_time": "2024-11-29T02:01:22.804481Z",
     "start_time": "2024-11-29T02:01:22.786100Z"
    }
   },
   "outputs": [
    {
     "name": "stdout",
     "output_type": "stream",
     "text": [
      "Ohio         0\n",
      "Colorado     4\n",
      "Utah         8\n",
      "New York    12\n",
      "Name: one, dtype: int32\n",
      "\n",
      "<class 'pandas.core.series.Series'>\n"
     ]
    }
   ],
   "execution_count": 149
  },
  {
   "cell_type": "code",
   "source": [
    "print(data1['one'])  # Series\n",
    "print(data1[['one']])  # DataFrame"
   ],
   "metadata": {
    "collapsed": false,
    "pycharm": {
     "name": "#%%\n"
    },
    "ExecuteTime": {
     "end_time": "2024-11-29T02:01:22.968120Z",
     "start_time": "2024-11-29T02:01:22.963214Z"
    }
   },
   "outputs": [
    {
     "name": "stdout",
     "output_type": "stream",
     "text": [
      "Ohio         0\n",
      "Colorado     4\n",
      "Utah         8\n",
      "New York    12\n",
      "Name: one, dtype: int32\n",
      "          one\n",
      "Ohio        0\n",
      "Colorado    4\n",
      "Utah        8\n",
      "New York   12\n"
     ]
    }
   ],
   "execution_count": 150
  },
  {
   "cell_type": "code",
   "source": [
    "print(data1.loc['Ohio'], end='\\n\\n')  # loc,iloc默认对行进行索引切片\n",
    "print(data1.loc[:, 'one'], end='\\n\\n')\n",
    "print(data1.iloc[0], end='\\n\\n')\n",
    "print(data1.iloc[:, 0])  # 位置索引"
   ],
   "metadata": {
    "collapsed": false,
    "pycharm": {
     "name": "#%%\n"
    },
    "ExecuteTime": {
     "end_time": "2024-11-29T02:01:23.031135Z",
     "start_time": "2024-11-29T02:01:23.023188Z"
    }
   },
   "outputs": [
    {
     "name": "stdout",
     "output_type": "stream",
     "text": [
      "one      0\n",
      "two      1\n",
      "three    2\n",
      "four     3\n",
      "Name: Ohio, dtype: int32\n",
      "\n",
      "Ohio         0\n",
      "Colorado     4\n",
      "Utah         8\n",
      "New York    12\n",
      "Name: one, dtype: int32\n",
      "\n",
      "one      0\n",
      "two      1\n",
      "three    2\n",
      "four     3\n",
      "Name: Ohio, dtype: int32\n",
      "\n",
      "Ohio         0\n",
      "Colorado     4\n",
      "Utah         8\n",
      "New York    12\n",
      "Name: one, dtype: int32\n"
     ]
    }
   ],
   "execution_count": 151
  },
  {
   "cell_type": "code",
   "source": [
    "print(data1[['three', 'one']], end='\\n\\n')  # 索引多列数据\n",
    "print(data1.loc[:, ['three', 'one']], end='\\n\\n')\n",
    "print(data1.iloc[:, [2, 0]])"
   ],
   "metadata": {
    "pycharm": {
     "metadata": false,
     "name": "#%%\n"
    },
    "ExecuteTime": {
     "end_time": "2024-11-29T02:01:23.123269Z",
     "start_time": "2024-11-29T02:01:23.105565Z"
    }
   },
   "outputs": [
    {
     "name": "stdout",
     "output_type": "stream",
     "text": [
      "          three  one\n",
      "Ohio          2    0\n",
      "Colorado      6    4\n",
      "Utah         10    8\n",
      "New York     14   12\n",
      "\n",
      "          three  one\n",
      "Ohio          2    0\n",
      "Colorado      6    4\n",
      "Utah         10    8\n",
      "New York     14   12\n",
      "\n",
      "          three  one\n",
      "Ohio          2    0\n",
      "Colorado      6    4\n",
      "Utah         10    8\n",
      "New York     14   12\n"
     ]
    }
   ],
   "execution_count": 152
  },
  {
   "cell_type": "code",
   "source": [
    "print(data1['Ohio': 'Utah'], end='\\n\\n')  # 包含尾部(标签)(默认对行★★进行切片)\n",
    "print(data1[0: 3], end='\\n\\n')  # 不包含尾部(位置)\n",
    "print(data1.loc['Ohio': 'Utah'], end='\\n\\n')  # 包含尾部(标签)\n",
    "print(data1.iloc[0: 3])  # 不包含尾部(尾部)"
   ],
   "metadata": {
    "pycharm": {
     "metadata": false,
     "name": "#%%\n"
    },
    "ExecuteTime": {
     "end_time": "2024-11-29T02:01:23.196921Z",
     "start_time": "2024-11-29T02:01:23.181388Z"
    }
   },
   "outputs": [
    {
     "name": "stdout",
     "output_type": "stream",
     "text": [
      "          one  two  three  four\n",
      "Ohio        0    1      2     3\n",
      "Colorado    4    5      6     7\n",
      "Utah        8    9     10    11\n",
      "\n",
      "          one  two  three  four\n",
      "Ohio        0    1      2     3\n",
      "Colorado    4    5      6     7\n",
      "Utah        8    9     10    11\n",
      "\n",
      "          one  two  three  four\n",
      "Ohio        0    1      2     3\n",
      "Colorado    4    5      6     7\n",
      "Utah        8    9     10    11\n",
      "\n",
      "          one  two  three  four\n",
      "Ohio        0    1      2     3\n",
      "Colorado    4    5      6     7\n",
      "Utah        8    9     10    11\n"
     ]
    }
   ],
   "execution_count": 153
  },
  {
   "cell_type": "markdown",
   "source": [
    "### 切片多行和多列"
   ],
   "metadata": {
    "pycharm": {
     "metadata": false,
     "name": "#%% md\n"
    }
   }
  },
  {
   "cell_type": "code",
   "source": [
    "print(data1.loc['Colorado', ['two', 'three']], end='\\n\\n')\n",
    "print(data1.iloc[1, [1, 2]])"
   ],
   "metadata": {
    "collapsed": false,
    "pycharm": {
     "name": "#%%\n"
    },
    "ExecuteTime": {
     "end_time": "2024-11-29T02:01:23.242918Z",
     "start_time": "2024-11-29T02:01:23.226291Z"
    }
   },
   "outputs": [
    {
     "name": "stdout",
     "output_type": "stream",
     "text": [
      "two      5\n",
      "three    6\n",
      "Name: Colorado, dtype: int32\n",
      "\n",
      "two      5\n",
      "three    6\n",
      "Name: Colorado, dtype: int32\n"
     ]
    }
   ],
   "execution_count": 154
  },
  {
   "cell_type": "code",
   "source": [
    "print(data1.loc[['Colorado', 'Ohio'], ['two', 'three']], end='\\n\\n')\n",
    "print(data1.iloc[[1, 0], [1, 2]])"
   ],
   "metadata": {
    "pycharm": {
     "metadata": false,
     "name": "#%%\n"
    },
    "ExecuteTime": {
     "end_time": "2024-11-29T02:01:23.291454Z",
     "start_time": "2024-11-29T02:01:23.271390Z"
    }
   },
   "outputs": [
    {
     "name": "stdout",
     "output_type": "stream",
     "text": [
      "          two  three\n",
      "Colorado    5      6\n",
      "Ohio        1      2\n",
      "\n",
      "          two  three\n",
      "Colorado    5      6\n",
      "Ohio        1      2\n"
     ]
    }
   ],
   "execution_count": 155
  },
  {
   "cell_type": "code",
   "source": [
    "print(data1.loc[:'Utah', 'two'], end='\\n\\n')\n",
    "print(data1.iloc[:3, 1])"
   ],
   "metadata": {
    "pycharm": {
     "metadata": false,
     "name": "#%%\n"
    },
    "ExecuteTime": {
     "end_time": "2024-11-29T02:01:23.335616Z",
     "start_time": "2024-11-29T02:01:23.313964Z"
    }
   },
   "outputs": [
    {
     "name": "stdout",
     "output_type": "stream",
     "text": [
      "Ohio        1\n",
      "Colorado    5\n",
      "Utah        9\n",
      "Name: two, dtype: int32\n",
      "\n",
      "Ohio        1\n",
      "Colorado    5\n",
      "Utah        9\n",
      "Name: two, dtype: int32\n"
     ]
    }
   ],
   "execution_count": 156
  },
  {
   "cell_type": "code",
   "source": [
    "print(data1.loc[:'Utah', :'three'], end='\\n\\n')\n",
    "print(data1.iloc[:3, :3])"
   ],
   "metadata": {
    "pycharm": {
     "metadata": false,
     "name": "#%%\n"
    },
    "ExecuteTime": {
     "end_time": "2024-11-29T02:01:23.392077Z",
     "start_time": "2024-11-29T02:01:23.375889Z"
    }
   },
   "outputs": [
    {
     "name": "stdout",
     "output_type": "stream",
     "text": [
      "          one  two  three\n",
      "Ohio        0    1      2\n",
      "Colorado    4    5      6\n",
      "Utah        8    9     10\n",
      "\n",
      "          one  two  three\n",
      "Ohio        0    1      2\n",
      "Colorado    4    5      6\n",
      "Utah        8    9     10\n"
     ]
    }
   ],
   "execution_count": 157
  },
  {
   "cell_type": "code",
   "source": [
    "print(data1.loc['Ohio': 'Utah', 'three':'four'], end='\\n\\n')\n",
    "print(data1.iloc[0:3, 2:])"
   ],
   "metadata": {
    "pycharm": {
     "metadata": false,
     "name": "#%%\n"
    },
    "ExecuteTime": {
     "end_time": "2024-11-29T02:01:23.423190Z",
     "start_time": "2024-11-29T02:01:23.418100Z"
    }
   },
   "outputs": [
    {
     "name": "stdout",
     "output_type": "stream",
     "text": [
      "          three  four\n",
      "Ohio          2     3\n",
      "Colorado      6     7\n",
      "Utah         10    11\n",
      "\n",
      "          three  four\n",
      "Ohio          2     3\n",
      "Colorado      6     7\n",
      "Utah         10    11\n"
     ]
    }
   ],
   "execution_count": 158
  },
  {
   "cell_type": "markdown",
   "source": [
    "### 布尔索引"
   ],
   "metadata": {
    "pycharm": {
     "metadata": false,
     "name": "#%% md\n"
    }
   }
  },
  {
   "cell_type": "code",
   "source": [
    "print(data1 < 5)\n",
    "print(data1[data1 < 5])  # (元素)布尔索引"
   ],
   "metadata": {
    "collapsed": false,
    "pycharm": {
     "name": "#%%\n"
    },
    "ExecuteTime": {
     "end_time": "2024-11-29T02:01:23.468832Z",
     "start_time": "2024-11-29T02:01:23.453189Z"
    }
   },
   "outputs": [
    {
     "name": "stdout",
     "output_type": "stream",
     "text": [
      "            one    two  three   four\n",
      "Ohio       True   True   True   True\n",
      "Colorado   True  False  False  False\n",
      "Utah      False  False  False  False\n",
      "New York  False  False  False  False\n",
      "          one  two  three  four\n",
      "Ohio      0.0  1.0    2.0   3.0\n",
      "Colorado  4.0  NaN    NaN   NaN\n",
      "Utah      NaN  NaN    NaN   NaN\n",
      "New York  NaN  NaN    NaN   NaN\n"
     ]
    }
   ],
   "execution_count": 159
  },
  {
   "metadata": {
    "ExecuteTime": {
     "end_time": "2024-11-29T02:01:23.567664Z",
     "start_time": "2024-11-29T02:01:23.550582Z"
    }
   },
   "cell_type": "code",
   "source": "print(data1[[True, False, True, False]])  # (行)布尔索引",
   "outputs": [
    {
     "name": "stdout",
     "output_type": "stream",
     "text": [
      "      one  two  three  four\n",
      "Ohio    0    1      2     3\n",
      "Utah    8    9     10    11\n"
     ]
    }
   ],
   "execution_count": 160
  },
  {
   "cell_type": "markdown",
   "source": [
    "### ps:"
   ],
   "metadata": {
    "collapsed": false,
    "pycharm": {
     "name": "#%% md\n"
    }
   }
  },
  {
   "cell_type": "code",
   "source": [
    "print(data1.iloc[0], end='\\n\\n')  # Series\n",
    "print(data1.iloc[0:1, :], end='\\n\\n')  # DataFrame\n",
    "\n",
    "print(data1.iloc[0, 1], end='\\n\\n')  # 标量\n",
    "print(data1.iloc[0:1, 1:2])  # DataFrame"
   ],
   "metadata": {
    "collapsed": false,
    "pycharm": {
     "name": "#%%\n"
    },
    "ExecuteTime": {
     "end_time": "2024-11-29T02:01:23.651848Z",
     "start_time": "2024-11-29T02:01:23.629639Z"
    }
   },
   "outputs": [
    {
     "name": "stdout",
     "output_type": "stream",
     "text": [
      "one      0\n",
      "two      1\n",
      "three    2\n",
      "four     3\n",
      "Name: Ohio, dtype: int32\n",
      "\n",
      "      one  two  three  four\n",
      "Ohio    0    1      2     3\n",
      "\n",
      "1\n",
      "\n",
      "      two\n",
      "Ohio    1\n"
     ]
    }
   ],
   "execution_count": 161
  },
  {
   "cell_type": "code",
   "source": [
    "data1.iloc[[0, 1, 2], [0, 2, 1]]  # 笛卡尔积(与numpy中整数索引不同)"
   ],
   "metadata": {
    "pycharm": {
     "metadata": false,
     "name": "#%%\n"
    },
    "ExecuteTime": {
     "end_time": "2024-11-29T02:01:23.715745Z",
     "start_time": "2024-11-29T02:01:23.707747Z"
    }
   },
   "outputs": [
    {
     "data": {
      "text/plain": [
       "          one  three  two\n",
       "Ohio        0      2    1\n",
       "Colorado    4      6    5\n",
       "Utah        8     10    9"
      ],
      "text/html": [
       "<div>\n",
       "<style scoped>\n",
       "    .dataframe tbody tr th:only-of-type {\n",
       "        vertical-align: middle;\n",
       "    }\n",
       "\n",
       "    .dataframe tbody tr th {\n",
       "        vertical-align: top;\n",
       "    }\n",
       "\n",
       "    .dataframe thead th {\n",
       "        text-align: right;\n",
       "    }\n",
       "</style>\n",
       "<table border=\"1\" class=\"dataframe\">\n",
       "  <thead>\n",
       "    <tr style=\"text-align: right;\">\n",
       "      <th></th>\n",
       "      <th>one</th>\n",
       "      <th>three</th>\n",
       "      <th>two</th>\n",
       "    </tr>\n",
       "  </thead>\n",
       "  <tbody>\n",
       "    <tr>\n",
       "      <th>Ohio</th>\n",
       "      <td>0</td>\n",
       "      <td>2</td>\n",
       "      <td>1</td>\n",
       "    </tr>\n",
       "    <tr>\n",
       "      <th>Colorado</th>\n",
       "      <td>4</td>\n",
       "      <td>6</td>\n",
       "      <td>5</td>\n",
       "    </tr>\n",
       "    <tr>\n",
       "      <th>Utah</th>\n",
       "      <td>8</td>\n",
       "      <td>10</td>\n",
       "      <td>9</td>\n",
       "    </tr>\n",
       "  </tbody>\n",
       "</table>\n",
       "</div>"
      ]
     },
     "execution_count": 162,
     "metadata": {},
     "output_type": "execute_result"
    }
   ],
   "execution_count": 162
  },
  {
   "cell_type": "code",
   "source": [
    "data1.values[[0, 1, 2], [0, 2, 1]]  # numpy中的整数索引"
   ],
   "metadata": {
    "collapsed": false,
    "pycharm": {
     "name": "#%%\n"
    },
    "ExecuteTime": {
     "end_time": "2024-11-29T02:01:23.784998Z",
     "start_time": "2024-11-29T02:01:23.769370Z"
    }
   },
   "outputs": [
    {
     "data": {
      "text/plain": [
       "array([0, 6, 9])"
      ]
     },
     "execution_count": 163,
     "metadata": {},
     "output_type": "execute_result"
    }
   ],
   "execution_count": 163
  }
 ],
 "metadata": {
  "language_info": {
   "codemirror_mode": {
    "name": "ipython",
    "version": 2
   },
   "file_extension": ".py",
   "mimetype": "text/x-python",
   "name": "python",
   "nbconvert_exporter": "python",
   "pygments_lexer": "ipython2",
   "version": "2.7.6"
  },
  "kernelspec": {
   "name": "python3",
   "language": "python",
   "display_name": "Python 3"
  }
 },
 "nbformat": 4,
 "nbformat_minor": 0
}
