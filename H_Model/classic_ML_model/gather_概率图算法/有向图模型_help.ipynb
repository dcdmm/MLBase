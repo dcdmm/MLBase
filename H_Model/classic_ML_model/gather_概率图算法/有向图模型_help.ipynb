{
 "cells": [
  {
   "cell_type": "markdown",
   "metadata": {
    "pycharm": {
     "name": "#%% md\n"
    }
   },
   "source": [
    "&emsp;&emsp;有向图模型(Directed Graphical Model),也称为贝叶斯网络(Bayesian Network)或信念网络(Belief Network),是一类用有向图来描述随机变量概率分布的模型\n",
    "\n",
    "<font color='red' size=4>定义:(贝叶斯网络)</font>对于一个$K$维随机向量$X$和一个有$K$个节点的有向非循环图$G$,$G$中的每个节点都对应一个随机变量,每个连接$e_{ij}$表示两个随机变量$X_i$和$X_j$之间具有非独立的因果关系,令$X_{\\pi_k}$表示变量$X_k$的所有父节点变量集合,$P(X_k|X_{\\pi_k})$表示每个随机变量的局部条件概率分布(local Conditional Probability Distribution),如果$X$的联合概率分布可以分解为每个随机变量$X_k$的局部条件概率的连乘形式,即\n",
    "\n",
    "$$ p(\\boldsymbol{x})=\\prod_{k=1}^{K} p\\left(x_{k} \\mid \\boldsymbol{x}_{\\pi_{k}}\\right) $$\n",
    "\n",
    "那么$(G,X)$构成了一个贝叶斯网络.\n",
    "\n",
    "<font color='red' size=4>条件独立性</font>在贝叶斯网络中,如果两个节点是直接连接的,它们肯定是非条件独立的,是直接因果关系.父节点是“因”,子节点是“果”.\n",
    "\n",
    "&emsp;&emsp;如果两个节点不是直接连接的,但可以由一条经过其他节点的路径来连接,那么这两个节点之间的条件独立性就比较复杂.以三个节点的贝叶斯网络为例,给定三个节点$X_1,X_2,X_3$,其中$X_1$和$X_3$是不直接连接的,通过节点$X_2$连接.这三个节点之间可以有四种连接关系,如下图所示,在图a和图b中,$X_{1} \\times {X}_{3} \\mid \\varnothing$,但$X_{1}  \\perp {X}_{3} \\mid X_2$,在图c中,$X_1 \\times X_3 \\mid \\varnothing$,但$X_{1}  \\perp {X}_{3} \\mid X_2$,在图d中,$X_{1}  \\perp {X}_{3} \\mid \\varnothing$,但$X_{1} \\times {X}_{3} \\mid X_2$.\n",
    "\n",
    "<img src=\"../../../Other/img/有向图模型.png\" style=\"width:500px;height:200px\">\n",
    "\n",
    "&emsp;&emsp;上图四种关系分布为:\n",
    "\n",
    "1. 间接因果关系(图a),当$X_2$已知时,$X_1$和$X_3$为条件独立,即$X_{1}  \\perp {X}_{3} \\mid X_2$\n",
    "\n",
    "2. 间接因果关系(图b),当$X_2$已知时,$X_1$和$X_3$为条件独立,即$X_{1}  \\perp {X}_{3} \\mid X_2$\n",
    "\n",
    "3. 共因关系(图c),当$X_2$未知时,$X_1$和$X_3$是不独立的,当$X_2$已知时,$X_1$和$X_3$条件独立,即$X_{1}  \\perp {X}_{3} \\mid X_2$\n",
    "\n",
    "4. 共果关系(图c),当$X_2$未知时,$X_1$和$X_3$是独立的,当$X_2$已知时,$X_1$和$X_3$不独立,即$X_{1}  \\times {X}_{3} \\mid X_2$\n",
    "\n",
    "\n",
    "\n",
    "<font color='red' size=4>局部马尔可夫性质:</font>对一个更一般的贝叶斯网络,其局部马尔可夫性质为:每个随机变量在给定父节点的情况下,条件独立于它的非后代节点.\n",
    "\n",
    "$$ X_{k} \\perp Z \\mid X_{\\pi_{k}} $$\n",
    "\n",
    "其中,$Z$为$X_k$的非后代变量.\n",
    "\n",
    "&emsp;&emsp;很多经典的机器学习模型可以使用有向图模型来描述,比如朴素贝叶斯分类器,隐马尔可夫模型,深度信念网络等\n",
    "\n"
   ]
  }
 ],
 "metadata": {
  "kernelspec": {
   "display_name": "Python 3.8.12 ('pytorch_env')",
   "language": "python",
   "name": "python3"
  },
  "language_info": {
   "codemirror_mode": {
    "name": "ipython",
    "version": 3
   },
   "file_extension": ".py",
   "mimetype": "text/x-python",
   "name": "python",
   "nbconvert_exporter": "python",
   "pygments_lexer": "ipython3",
   "version": "3.8.12"
  },
  "toc": {
   "base_numbering": 1,
   "nav_menu": {},
   "number_sections": true,
   "sideBar": true,
   "skip_h1_title": false,
   "title_cell": "Table of Contents",
   "title_sidebar": "Contents",
   "toc_cell": false,
   "toc_position": {},
   "toc_section_display": true,
   "toc_window_display": false
  },
  "vscode": {
   "interpreter": {
    "hash": "0886a02735466d80c36da7d0d184a8055779d3e497a063b4720b0317b8699033"
   }
  }
 },
 "nbformat": 4,
 "nbformat_minor": 1
}
