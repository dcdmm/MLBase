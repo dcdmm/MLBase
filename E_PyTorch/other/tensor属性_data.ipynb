{
 "cells": [
  {
   "cell_type": "code",
   "execution_count": 70,
   "metadata": {
    "collapsed": true
   },
   "outputs": [],
   "source": [
    "import torch\n",
    "import numpy as np"
   ]
  },
  {
   "cell_type": "code",
   "execution_count": 71,
   "outputs": [
    {
     "name": "stdout",
     "output_type": "stream",
     "text": [
      "True False False\n"
     ]
    }
   ],
   "source": [
    "t = torch.tensor([0, 1.], requires_grad=True)\n",
    "t1 = t.data\n",
    "t2 = t.detach()\n",
    "# t1.requires_grad=t2.requires_grad=False\n",
    "print(t.requires_grad, t1.requires_grad, t2.requires_grad)"
   ],
   "metadata": {
    "collapsed": false,
    "pycharm": {
     "name": "#%%\n"
    }
   }
  },
  {
   "cell_type": "code",
   "execution_count": 72,
   "outputs": [
    {
     "data": {
      "text/plain": "tensor([-1, -2, -3])"
     },
     "execution_count": 72,
     "metadata": {},
     "output_type": "execute_result"
    }
   ],
   "source": [
    "y = torch.tensor([-1, -2, -3])\n",
    "y"
   ],
   "metadata": {
    "collapsed": false,
    "pycharm": {
     "name": "#%%\n"
    }
   }
  },
  {
   "cell_type": "code",
   "execution_count": 73,
   "outputs": [
    {
     "name": "stdout",
     "output_type": "stream",
     "text": [
      "True\n",
      "tensor([1, 2, 3])\n",
      "tensor([0, 0, 0])\n",
      "True\n"
     ]
    }
   ],
   "source": [
    "# y.data与y共享数据的物理地址\n",
    "# y.data的任何改变都会致使y改变\n",
    "print(np.shares_memory(y, y.data))\n",
    "y.data = torch.tensor([1, 2, 3])\n",
    "print(y)\n",
    "y.data.fill_(0)\n",
    "print(y)\n",
    "print(np.shares_memory(y, y.data))"
   ],
   "metadata": {
    "collapsed": false,
    "pycharm": {
     "name": "#%%\n"
    }
   }
  },
  {
   "cell_type": "code",
   "execution_count": 74,
   "outputs": [
    {
     "name": "stdout",
     "output_type": "stream",
     "text": [
      "True\n",
      "tensor([2, 2, 2])\n",
      "tensor([12, 12, 12])\n",
      "True\n",
      "2201782369232\n",
      "2201780930496\n",
      "tensor([12, 12, 12])\n",
      "False\n"
     ]
    }
   ],
   "source": [
    "# y1与y共享数据的物理地址\n",
    "# 只有不改变y1内存地址的操作时才会指使y改变\n",
    "y1 = y.detach()\n",
    "print(np.shares_memory(y1, y))\n",
    "y1.fill_(2)\n",
    "print(y)\n",
    "\n",
    "y1.add_(10)  # in-place操作,y1内存地址不变\n",
    "print(y)  # y发生相应改变\n",
    "print(np.shares_memory(y1, y))\n",
    "\n",
    "print(id(y1))\n",
    "y1 = [-1, -2, -3]\n",
    "print(id(y1))  # 重新赋值操作,y1内存地址改变\n",
    "print(y)  # y不变\n",
    "print(np.shares_memory(y1, y))"
   ],
   "metadata": {
    "collapsed": false,
    "pycharm": {
     "name": "#%%\n"
    }
   }
  },
  {
   "cell_type": "code",
   "execution_count": 75,
   "outputs": [
    {
     "name": "stdout",
     "output_type": "stream",
     "text": [
      "True\n",
      "tensor([-2, -2, -2])\n",
      "True\n",
      "2201775158752\n",
      "2201782250688\n",
      "tensor([-2, -2, -2])\n",
      "False\n"
     ]
    }
   ],
   "source": [
    "y2 = y.data\n",
    "print(np.shares_memory(y2, y))\n",
    "y2.fill_(-2)\n",
    "print(y)\n",
    "print(np.shares_memory(y2, y))\n",
    "\n",
    "print(id(y2))\n",
    "y2 = [-4, -5, -6]\n",
    "print(id(y2))  # 重新赋值操作,y2内存地址改变\n",
    "print(y)  # y不变\n",
    "print(np.shares_memory(y2, y))"
   ],
   "metadata": {
    "collapsed": false,
    "pycharm": {
     "name": "#%%\n"
    }
   }
  }
 ],
 "metadata": {
  "kernelspec": {
   "display_name": "Python 3",
   "language": "python",
   "name": "python3"
  },
  "language_info": {
   "codemirror_mode": {
    "name": "ipython",
    "version": 2
   },
   "file_extension": ".py",
   "mimetype": "text/x-python",
   "name": "python",
   "nbconvert_exporter": "python",
   "pygments_lexer": "ipython2",
   "version": "2.7.6"
  }
 },
 "nbformat": 4,
 "nbformat_minor": 0
}