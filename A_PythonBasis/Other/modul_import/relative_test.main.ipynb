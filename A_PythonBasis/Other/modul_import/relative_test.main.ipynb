{
 "cells": [
  {
   "cell_type": "code",
   "execution_count": 5,
   "metadata": {
    "collapsed": true,
    "pycharm": {
     "name": "#%%\n"
    }
   },
   "outputs": [
    {
     "name": "stdout",
     "output_type": "stream",
     "text": [
      "The value of config.count is 5\n",
      "config.py!!!\n",
      "****************************************\n",
      "The value of config.count is 5\n",
      "config.py!!!\n",
      "****************************************\n",
      "The value of config.count is 5\n",
      "config.py!!!\n"
     ]
    }
   ],
   "source": [
    "from relative_test.demos_0.demo0 import hello_demo0\n",
    "from relative_test.demos_0.demos_1.demo1 import hello_demo1\n",
    "from relative_test.demo import hello_demo\n",
    "\n",
    "# 项目relative_test中包含相对路径(./../...)导入的代码\n",
    "# 只能在与项目relative_test目录结构平级或更高的python文件中运行\n",
    "hello_demo()\n",
    "print('****************************************')\n",
    "hello_demo0()\n",
    "print('****************************************')\n",
    "hello_demo1()\n"
   ]
  }
 ],
 "metadata": {
  "kernelspec": {
   "display_name": "Python 3",
   "language": "python",
   "name": "python3"
  },
  "language_info": {
   "codemirror_mode": {
    "name": "ipython",
    "version": 2
   },
   "file_extension": ".py",
   "mimetype": "text/x-python",
   "name": "python",
   "nbconvert_exporter": "python",
   "pygments_lexer": "ipython2",
   "version": "2.7.6"
  }
 },
 "nbformat": 4,
 "nbformat_minor": 0
}