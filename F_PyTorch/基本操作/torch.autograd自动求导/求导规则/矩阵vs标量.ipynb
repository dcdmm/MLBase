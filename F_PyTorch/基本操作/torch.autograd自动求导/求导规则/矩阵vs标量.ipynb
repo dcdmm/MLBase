{
 "cells": [
  {
   "cell_type": "code",
   "execution_count": 24,
   "metadata": {
    "collapsed": true,
    "pycharm": {
     "name": "#%%\n"
    }
   },
   "outputs": [],
   "source": [
    "import torch"
   ]
  },
  {
   "cell_type": "code",
   "execution_count": 25,
   "outputs": [
    {
     "name": "stdout",
     "output_type": "stream",
     "text": [
      "False\n",
      "tensor([4.])\n"
     ]
    }
   ],
   "source": [
    "w = torch.tensor([1.], requires_grad=True) # w为标量\n",
    "x = torch.tensor([2.], requires_grad=True)\n",
    "\n",
    "y0 = torch.mul(x, w)\n",
    "y1 = torch.add(x, w)\n",
    "y2 = torch.div(x, w)\n",
    "y3 = x**w\n",
    "\n",
    "q = torch.cat([y0, y1], dim=0).reshape(1, 2)\n",
    "q1 = torch.cat([y2, y3], dim=0).reshape(1, 2)\n",
    "q2 = torch.cat((q, q1), dim=0)\n",
    "\n",
    "s = torch.ones_like(q2) # 权重向量(与s同型)\n",
    "q2.backward(gradient=s)\n",
    "\n",
    "print(q2.is_leaf) # q2不能是叶tensor\n",
    "\n",
    "# 与向量vs标量计算步骤相同\n",
    "# q[0][0]对x的梯度*s[0][0]+q[0][1]对x的梯度*s[0][1]+ ... + q[1][1]对x的梯度*s[1][1]\n",
    "print(x.grad) #"
   ],
   "metadata": {
    "collapsed": false,
    "pycharm": {
     "name": "#%%\n"
    }
   }
  },
  {
   "cell_type": "code",
   "execution_count": 26,
   "outputs": [
    {
     "data": {
      "text/plain": "tensor([[40320., 20160., 13440., 10080.],\n        [ 8064.,  6720.,  5760.,  5040.]])"
     },
     "execution_count": 26,
     "metadata": {},
     "output_type": "execute_result"
    }
   ],
   "source": [
    "y = torch.tensor([[1., 2., 3.0, 4.0],\n",
    "                  [5., 6., 7.0, 8.0]], requires_grad=True)\n",
    "\n",
    "'''\n",
    "pr = y_0*y_1*...y_7\n",
    "'''\n",
    "pr = y.prod()\n",
    "\n",
    "pr.backward()\n",
    "y.grad\n"
   ],
   "metadata": {
    "collapsed": false,
    "pycharm": {
     "name": "#%%\n"
    }
   }
  }
 ],
 "metadata": {
  "kernelspec": {
   "display_name": "Python 3",
   "language": "python",
   "name": "python3"
  },
  "language_info": {
   "codemirror_mode": {
    "name": "ipython",
    "version": 2
   },
   "file_extension": ".py",
   "mimetype": "text/x-python",
   "name": "python",
   "nbconvert_exporter": "python",
   "pygments_lexer": "ipython2",
   "version": "2.7.6"
  }
 },
 "nbformat": 4,
 "nbformat_minor": 0
}