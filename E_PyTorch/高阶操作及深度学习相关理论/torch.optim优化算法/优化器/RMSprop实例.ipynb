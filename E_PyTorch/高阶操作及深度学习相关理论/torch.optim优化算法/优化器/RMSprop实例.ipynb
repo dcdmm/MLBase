{
 "cells": [
  {
   "cell_type": "code",
   "execution_count": 1,
   "metadata": {
    "pycharm": {
     "name": "#%%\n"
    }
   },
   "outputs": [],
   "source": [
    "import torch.nn as nn\n",
    "import torch.optim as optim\n",
    "from torchvision import datasets, transforms\n",
    "import torch.utils.data as Data\n",
    "import torch"
   ]
  },
  {
   "cell_type": "code",
   "execution_count": 2,
   "metadata": {
    "collapsed": true
   },
   "outputs": [],
   "source": [
    "batch_size = 200\n",
    "learning_rate = 0.01\n",
    "\n",
    "train_data = datasets.MNIST('../../../../Other/datasets/PyTorch',\n",
    "                            train=True,\n",
    "                            transform=transforms.Compose([\n",
    "                                transforms.ToTensor(),\n",
    "                                transforms.Normalize((0.1307,), (0.3081,))\n",
    "                            ]))\n",
    "\n",
    "test_data = datasets.MNIST('../../../../Other/datasets/PyTorch',\n",
    "                           train=False,\n",
    "                           transform=transforms.Compose([\n",
    "                               transforms.ToTensor(),\n",
    "                               transforms.Normalize((0.1307,), (0.3081,))\n",
    "                           ]))\n",
    "\n",
    "# 手写数字训练数据集\n",
    "train_loader = Data.DataLoader(dataset=train_data,\n",
    "                               batch_size=batch_size,\n",
    "                               shuffle=True)\n",
    "\n",
    "# 手写数字测试数据集\n",
    "test_loader = Data.DataLoader(dataset=test_data,\n",
    "                              batch_size=batch_size,\n",
    "                              shuffle=True)"
   ]
  },
  {
   "cell_type": "code",
   "execution_count": 3,
   "metadata": {
    "pycharm": {
     "name": "#%%\n"
    }
   },
   "outputs": [],
   "source": [
    "class LeNet(nn.Module):\n",
    "    def __init__(self):\n",
    "        super(LeNet, self).__init__()\n",
    "        self.featrues = nn.Sequential(  # 内部实现了forward函数;各模块顺序执行\n",
    "            nn.Conv2d(1, 6, 3),\n",
    "            nn.ReLU(),\n",
    "            nn.MaxPool2d(2, 2),\n",
    "            nn.Conv2d(6, 16, 3),\n",
    "            nn.ReLU(),\n",
    "            nn.MaxPool2d(2, 2)\n",
    "        )\n",
    "        self.classifier = nn.Sequential(\n",
    "            nn.Linear(400, 120),\n",
    "            nn.ReLU(),\n",
    "            nn.Linear(120, 84),\n",
    "            nn.ReLU(),\n",
    "            nn.Linear(84, 10),  # 10分类问题\n",
    "        )\n",
    "\n",
    "    def forward(self, x):\n",
    "        x = self.featrues(x)\n",
    "        x = x.reshape(x.size()[0], -1)\n",
    "        x = self.classifier(x)\n",
    "        return x"
   ]
  },
  {
   "cell_type": "code",
   "execution_count": 4,
   "metadata": {
    "pycharm": {
     "name": "#%%\n"
    }
   },
   "outputs": [],
   "source": [
    "criteon = nn.CrossEntropyLoss()  # 定义损失函数为交叉熵\n",
    "device = torch.device(\"cuda\" if torch.cuda.is_available() else \"cpu\")\n",
    "net = LeNet()\n",
    "lenet = net.to(device)  # 模型设备转移必须在优化器定义前执行\n",
    "\n",
    "# RMSprop优化器\n",
    "optimizer = optim.RMSprop(net.parameters(),\n",
    "                          lr=learning_rate,  # 学习率\n",
    "                          momentum=0.4,  # 动量参数\\alpha;默认momentum=0\n",
    "                          alpha=0.9,  # 衰减速率\\rho\n",
    "                          eps=1e-10)  # 分母中的小常数\\delta"
   ]
  },
  {
   "cell_type": "code",
   "execution_count": 5,
   "outputs": [],
   "source": [
    "transforms_data = []\n",
    "for i, j in train_data:\n",
    "    transforms_data.append(i.tolist())\n",
    "transforms_data_ten = torch.tensor(transforms_data)"
   ],
   "metadata": {
    "collapsed": false,
    "pycharm": {
     "name": "#%%\n"
    }
   }
  },
  {
   "cell_type": "code",
   "execution_count": 6,
   "outputs": [],
   "source": [
    "transforms_data_loader = Data.DataLoader(transforms_data_ten, batch_size=200, shuffle=True)\n",
    "y_label = train_loader.dataset.targets"
   ],
   "metadata": {
    "collapsed": false,
    "pycharm": {
     "name": "#%%\n"
    }
   }
  },
  {
   "cell_type": "code",
   "execution_count": 7,
   "outputs": [],
   "source": [
    "from torch_model.train_evaluate import Train_Evaluate\n",
    "\n",
    "t_and_v = Train_Evaluate(model=lenet, optimizer=optimizer, criterion=criteon, epochs=5)"
   ],
   "metadata": {
    "collapsed": false,
    "pycharm": {
     "name": "#%%\n"
    }
   }
  },
  {
   "cell_type": "code",
   "execution_count": 8,
   "outputs": [
    {
     "name": "stderr",
     "output_type": "stream",
     "text": [
      "C:\\Users\\duanm\\anaconda3\\lib\\site-packages\\torch\\nn\\functional.py:718: UserWarning: Named tensors and all their associated APIs are an experimental feature and subject to change. Please do not use them for anything important until they are released as stable. (Triggered internally at  ..\\c10/core/TensorImpl.h:1156.)\n",
      "  return torch.max_pool2d(input, kernel_size, stride, padding, dilation, ceil_mode)\n"
     ]
    },
    {
     "name": "stdout",
     "output_type": "stream",
     "text": [
      "Train Epoch: 0  [0    /60000 (0  %)]\tLoss: 2.323794\n",
      "Train Epoch: 0  [2000 /60000 (3  %)]\tLoss: 2.306546\n",
      "Train Epoch: 0  [4000 /60000 (7  %)]\tLoss: 2.310361\n",
      "Train Epoch: 0  [6000 /60000 (10 %)]\tLoss: 2.309551\n",
      "Train Epoch: 0  [8000 /60000 (13 %)]\tLoss: 2.309053\n",
      "Train Epoch: 0  [10000/60000 (17 %)]\tLoss: 2.317848\n",
      "Train Epoch: 0  [12000/60000 (20 %)]\tLoss: 2.318051\n",
      "Train Epoch: 0  [14000/60000 (23 %)]\tLoss: 2.307055\n",
      "Train Epoch: 0  [16000/60000 (27 %)]\tLoss: 2.310153\n",
      "Train Epoch: 0  [18000/60000 (30 %)]\tLoss: 2.314801\n",
      "Train Epoch: 0  [20000/60000 (33 %)]\tLoss: 2.313111\n",
      "Train Epoch: 0  [22000/60000 (37 %)]\tLoss: 2.313128\n",
      "Train Epoch: 0  [24000/60000 (40 %)]\tLoss: 2.309982\n",
      "Train Epoch: 0  [26000/60000 (43 %)]\tLoss: 2.313602\n",
      "Train Epoch: 0  [28000/60000 (47 %)]\tLoss: 2.316634\n",
      "Train Epoch: 0  [30000/60000 (50 %)]\tLoss: 2.313341\n",
      "Train Epoch: 0  [32000/60000 (53 %)]\tLoss: 2.315033\n",
      "Train Epoch: 0  [34000/60000 (57 %)]\tLoss: 2.307365\n",
      "Train Epoch: 0  [36000/60000 (60 %)]\tLoss: 2.311847\n",
      "Train Epoch: 0  [38000/60000 (63 %)]\tLoss: 2.311858\n",
      "Train Epoch: 0  [40000/60000 (67 %)]\tLoss: 2.320047\n",
      "Train Epoch: 0  [42000/60000 (70 %)]\tLoss: 2.316902\n",
      "Train Epoch: 0  [44000/60000 (73 %)]\tLoss: 2.317258\n",
      "Train Epoch: 0  [46000/60000 (77 %)]\tLoss: 2.311162\n",
      "Train Epoch: 0  [48000/60000 (80 %)]\tLoss: 2.313932\n",
      "Train Epoch: 0  [50000/60000 (83 %)]\tLoss: 2.312952\n",
      "Train Epoch: 0  [52000/60000 (87 %)]\tLoss: 2.315923\n",
      "Train Epoch: 0  [54000/60000 (90 %)]\tLoss: 2.313597\n",
      "Train Epoch: 0  [56000/60000 (93 %)]\tLoss: 2.318554\n",
      "Train Epoch: 0  [58000/60000 (97 %)]\tLoss: 2.315076\n",
      "Train Epoch: 0  [60000/60000 (100%)]\tLoss: 2.311698\n",
      "----------------------------------------------------------------------------------------------------\n",
      "Train Epoch: 1  [0    /60000 (0  %)]\tLoss: 2.313220\n",
      "Train Epoch: 1  [2000 /60000 (3  %)]\tLoss: 2.315088\n",
      "Train Epoch: 1  [4000 /60000 (7  %)]\tLoss: 2.310505\n",
      "Train Epoch: 1  [6000 /60000 (10 %)]\tLoss: 2.311822\n",
      "Train Epoch: 1  [8000 /60000 (13 %)]\tLoss: 2.320795\n",
      "Train Epoch: 1  [10000/60000 (17 %)]\tLoss: 2.316393\n",
      "Train Epoch: 1  [12000/60000 (20 %)]\tLoss: 2.309713\n",
      "Train Epoch: 1  [14000/60000 (23 %)]\tLoss: 2.308039\n",
      "Train Epoch: 1  [16000/60000 (27 %)]\tLoss: 2.317342\n",
      "Train Epoch: 1  [18000/60000 (30 %)]\tLoss: 2.315266\n",
      "Train Epoch: 1  [20000/60000 (33 %)]\tLoss: 2.314846\n",
      "Train Epoch: 1  [22000/60000 (37 %)]\tLoss: 2.313338\n",
      "Train Epoch: 1  [24000/60000 (40 %)]\tLoss: 2.308079\n",
      "Train Epoch: 1  [26000/60000 (43 %)]\tLoss: 2.311572\n",
      "Train Epoch: 1  [28000/60000 (47 %)]\tLoss: 2.307870\n",
      "Train Epoch: 1  [30000/60000 (50 %)]\tLoss: 2.312425\n",
      "Train Epoch: 1  [32000/60000 (53 %)]\tLoss: 2.309997\n",
      "Train Epoch: 1  [34000/60000 (57 %)]\tLoss: 2.311371\n",
      "Train Epoch: 1  [36000/60000 (60 %)]\tLoss: 2.314255\n",
      "Train Epoch: 1  [38000/60000 (63 %)]\tLoss: 2.311479\n",
      "Train Epoch: 1  [40000/60000 (67 %)]\tLoss: 2.316788\n",
      "Train Epoch: 1  [42000/60000 (70 %)]\tLoss: 2.317159\n",
      "Train Epoch: 1  [44000/60000 (73 %)]\tLoss: 2.312123\n",
      "Train Epoch: 1  [46000/60000 (77 %)]\tLoss: 2.308469\n",
      "Train Epoch: 1  [48000/60000 (80 %)]\tLoss: 2.312850\n",
      "Train Epoch: 1  [50000/60000 (83 %)]\tLoss: 2.323325\n",
      "Train Epoch: 1  [52000/60000 (87 %)]\tLoss: 2.317577\n",
      "Train Epoch: 1  [54000/60000 (90 %)]\tLoss: 2.314579\n",
      "Train Epoch: 1  [56000/60000 (93 %)]\tLoss: 2.316218\n",
      "Train Epoch: 1  [58000/60000 (97 %)]\tLoss: 2.306967\n",
      "Train Epoch: 1  [60000/60000 (100%)]\tLoss: 2.309019\n",
      "----------------------------------------------------------------------------------------------------\n",
      "Train Epoch: 2  [0    /60000 (0  %)]\tLoss: 2.311344\n",
      "Train Epoch: 2  [2000 /60000 (3  %)]\tLoss: 2.314594\n",
      "Train Epoch: 2  [4000 /60000 (7  %)]\tLoss: 2.317006\n",
      "Train Epoch: 2  [6000 /60000 (10 %)]\tLoss: 2.317916\n",
      "Train Epoch: 2  [8000 /60000 (13 %)]\tLoss: 2.314063\n",
      "Train Epoch: 2  [10000/60000 (17 %)]\tLoss: 2.312662\n",
      "Train Epoch: 2  [12000/60000 (20 %)]\tLoss: 2.311409\n",
      "Train Epoch: 2  [14000/60000 (23 %)]\tLoss: 2.313764\n",
      "Train Epoch: 2  [16000/60000 (27 %)]\tLoss: 2.316526\n",
      "Train Epoch: 2  [18000/60000 (30 %)]\tLoss: 2.313313\n",
      "Train Epoch: 2  [20000/60000 (33 %)]\tLoss: 2.317914\n",
      "Train Epoch: 2  [22000/60000 (37 %)]\tLoss: 2.311669\n",
      "Train Epoch: 2  [24000/60000 (40 %)]\tLoss: 2.308118\n",
      "Train Epoch: 2  [26000/60000 (43 %)]\tLoss: 2.319349\n",
      "Train Epoch: 2  [28000/60000 (47 %)]\tLoss: 2.319549\n",
      "Train Epoch: 2  [30000/60000 (50 %)]\tLoss: 2.314242\n",
      "Train Epoch: 2  [32000/60000 (53 %)]\tLoss: 2.308203\n",
      "Train Epoch: 2  [34000/60000 (57 %)]\tLoss: 2.313327\n",
      "Train Epoch: 2  [36000/60000 (60 %)]\tLoss: 2.315186\n",
      "Train Epoch: 2  [38000/60000 (63 %)]\tLoss: 2.315737\n",
      "Train Epoch: 2  [40000/60000 (67 %)]\tLoss: 2.317918\n",
      "Train Epoch: 2  [42000/60000 (70 %)]\tLoss: 2.315876\n",
      "Train Epoch: 2  [44000/60000 (73 %)]\tLoss: 2.317461\n",
      "Train Epoch: 2  [46000/60000 (77 %)]\tLoss: 2.314369\n",
      "Train Epoch: 2  [48000/60000 (80 %)]\tLoss: 2.315305\n",
      "Train Epoch: 2  [50000/60000 (83 %)]\tLoss: 2.314997\n",
      "Train Epoch: 2  [52000/60000 (87 %)]\tLoss: 2.307607\n",
      "Train Epoch: 2  [54000/60000 (90 %)]\tLoss: 2.309995\n",
      "Train Epoch: 2  [56000/60000 (93 %)]\tLoss: 2.315959\n",
      "Train Epoch: 2  [58000/60000 (97 %)]\tLoss: 2.311007\n",
      "Train Epoch: 2  [60000/60000 (100%)]\tLoss: 2.312526\n",
      "----------------------------------------------------------------------------------------------------\n",
      "Train Epoch: 3  [0    /60000 (0  %)]\tLoss: 2.314423\n",
      "Train Epoch: 3  [2000 /60000 (3  %)]\tLoss: 2.311364\n",
      "Train Epoch: 3  [4000 /60000 (7  %)]\tLoss: 2.314548\n",
      "Train Epoch: 3  [6000 /60000 (10 %)]\tLoss: 2.316963\n",
      "Train Epoch: 3  [8000 /60000 (13 %)]\tLoss: 2.315026\n",
      "Train Epoch: 3  [10000/60000 (17 %)]\tLoss: 2.317129\n",
      "Train Epoch: 3  [12000/60000 (20 %)]\tLoss: 2.318562\n",
      "Train Epoch: 3  [14000/60000 (23 %)]\tLoss: 2.310051\n",
      "Train Epoch: 3  [16000/60000 (27 %)]\tLoss: 2.306582\n",
      "Train Epoch: 3  [18000/60000 (30 %)]\tLoss: 2.308847\n",
      "Train Epoch: 3  [20000/60000 (33 %)]\tLoss: 2.327082\n",
      "Train Epoch: 3  [22000/60000 (37 %)]\tLoss: 2.312173\n",
      "Train Epoch: 3  [24000/60000 (40 %)]\tLoss: 2.311351\n",
      "Train Epoch: 3  [26000/60000 (43 %)]\tLoss: 2.308593\n",
      "Train Epoch: 3  [28000/60000 (47 %)]\tLoss: 2.312652\n",
      "Train Epoch: 3  [30000/60000 (50 %)]\tLoss: 2.305364\n",
      "Train Epoch: 3  [32000/60000 (53 %)]\tLoss: 2.317498\n",
      "Train Epoch: 3  [34000/60000 (57 %)]\tLoss: 2.311707\n",
      "Train Epoch: 3  [36000/60000 (60 %)]\tLoss: 2.313616\n",
      "Train Epoch: 3  [38000/60000 (63 %)]\tLoss: 2.309860\n",
      "Train Epoch: 3  [40000/60000 (67 %)]\tLoss: 2.315279\n",
      "Train Epoch: 3  [42000/60000 (70 %)]\tLoss: 2.311571\n",
      "Train Epoch: 3  [44000/60000 (73 %)]\tLoss: 2.318189\n",
      "Train Epoch: 3  [46000/60000 (77 %)]\tLoss: 2.313387\n",
      "Train Epoch: 3  [48000/60000 (80 %)]\tLoss: 2.313992\n",
      "Train Epoch: 3  [50000/60000 (83 %)]\tLoss: 2.315237\n",
      "Train Epoch: 3  [52000/60000 (87 %)]\tLoss: 2.318956\n",
      "Train Epoch: 3  [54000/60000 (90 %)]\tLoss: 2.317384\n",
      "Train Epoch: 3  [56000/60000 (93 %)]\tLoss: 2.322025\n",
      "Train Epoch: 3  [58000/60000 (97 %)]\tLoss: 2.314400\n",
      "Train Epoch: 3  [60000/60000 (100%)]\tLoss: 2.316787\n",
      "----------------------------------------------------------------------------------------------------\n",
      "Train Epoch: 4  [0    /60000 (0  %)]\tLoss: 2.316523\n",
      "Train Epoch: 4  [2000 /60000 (3  %)]\tLoss: 2.311618\n",
      "Train Epoch: 4  [4000 /60000 (7  %)]\tLoss: 2.305792\n",
      "Train Epoch: 4  [6000 /60000 (10 %)]\tLoss: 2.310961\n",
      "Train Epoch: 4  [8000 /60000 (13 %)]\tLoss: 2.308155\n",
      "Train Epoch: 4  [10000/60000 (17 %)]\tLoss: 2.312341\n",
      "Train Epoch: 4  [12000/60000 (20 %)]\tLoss: 2.319316\n",
      "Train Epoch: 4  [14000/60000 (23 %)]\tLoss: 2.314974\n",
      "Train Epoch: 4  [16000/60000 (27 %)]\tLoss: 2.318740\n",
      "Train Epoch: 4  [18000/60000 (30 %)]\tLoss: 2.315201\n",
      "Train Epoch: 4  [20000/60000 (33 %)]\tLoss: 2.323449\n",
      "Train Epoch: 4  [22000/60000 (37 %)]\tLoss: 2.315802\n",
      "Train Epoch: 4  [24000/60000 (40 %)]\tLoss: 2.307849\n",
      "Train Epoch: 4  [26000/60000 (43 %)]\tLoss: 2.313116\n",
      "Train Epoch: 4  [28000/60000 (47 %)]\tLoss: 2.324395\n",
      "Train Epoch: 4  [30000/60000 (50 %)]\tLoss: 2.318629\n",
      "Train Epoch: 4  [32000/60000 (53 %)]\tLoss: 2.314449\n",
      "Train Epoch: 4  [34000/60000 (57 %)]\tLoss: 2.319724\n",
      "Train Epoch: 4  [36000/60000 (60 %)]\tLoss: 2.314497\n",
      "Train Epoch: 4  [38000/60000 (63 %)]\tLoss: 2.310978\n",
      "Train Epoch: 4  [40000/60000 (67 %)]\tLoss: 2.316717\n",
      "Train Epoch: 4  [42000/60000 (70 %)]\tLoss: 2.315180\n",
      "Train Epoch: 4  [44000/60000 (73 %)]\tLoss: 2.314998\n",
      "Train Epoch: 4  [46000/60000 (77 %)]\tLoss: 2.318590\n",
      "Train Epoch: 4  [48000/60000 (80 %)]\tLoss: 2.314258\n",
      "Train Epoch: 4  [50000/60000 (83 %)]\tLoss: 2.317461\n",
      "Train Epoch: 4  [52000/60000 (87 %)]\tLoss: 2.317696\n",
      "Train Epoch: 4  [54000/60000 (90 %)]\tLoss: 2.309330\n",
      "Train Epoch: 4  [56000/60000 (93 %)]\tLoss: 2.305979\n",
      "Train Epoch: 4  [58000/60000 (97 %)]\tLoss: 2.320680\n",
      "Train Epoch: 4  [60000/60000 (100%)]\tLoss: 2.318157\n",
      "----------------------------------------------------------------------------------------------------\n"
     ]
    },
    {
     "data": {
      "text/plain": "[[2.305208683013916],\n [2.3053956031799316],\n [2.305366039276123],\n [2.305485725402832],\n [2.305246591567993]]"
     },
     "execution_count": 8,
     "metadata": {},
     "output_type": "execute_result"
    }
   ],
   "source": [
    "metric_reslut = t_and_v.train_eval(train_loader=train_loader, valid_sets=[(transforms_data_loader, y_label)])\n",
    "metric_reslut"
   ],
   "metadata": {
    "collapsed": false,
    "pycharm": {
     "name": "#%%\n"
    }
   }
  },
  {
   "cell_type": "code",
   "execution_count": 8,
   "outputs": [],
   "source": [],
   "metadata": {
    "collapsed": false,
    "pycharm": {
     "name": "#%%\n"
    }
   }
  }
 ],
 "metadata": {
  "kernelspec": {
   "display_name": "Python 3",
   "language": "python",
   "name": "python3"
  },
  "language_info": {
   "codemirror_mode": {
    "name": "ipython",
    "version": 3
   },
   "file_extension": ".py",
   "mimetype": "text/x-python",
   "name": "python",
   "nbconvert_exporter": "python",
   "pygments_lexer": "ipython3",
   "version": "3.7.7"
  },
  "toc": {
   "base_numbering": 1,
   "nav_menu": {},
   "number_sections": true,
   "sideBar": true,
   "skip_h1_title": false,
   "title_cell": "Table of Contents",
   "title_sidebar": "Contents",
   "toc_cell": false,
   "toc_position": {},
   "toc_section_display": true,
   "toc_window_display": false
  }
 },
 "nbformat": 4,
 "nbformat_minor": 1
}