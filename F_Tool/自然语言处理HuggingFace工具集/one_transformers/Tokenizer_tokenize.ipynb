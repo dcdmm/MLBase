{
 "cells": [
  {
   "cell_type": "code",
   "execution_count": 11,
   "metadata": {
    "collapsed": true
   },
   "outputs": [],
   "source": [
    "from transformers import BertTokenizer"
   ]
  },
  {
   "cell_type": "code",
   "execution_count": 12,
   "metadata": {
    "collapsed": false,
    "pycharm": {
     "name": "#%%\n"
    }
   },
   "outputs": [
    {
     "name": "stdout",
     "output_type": "stream",
     "text": [
      "['input_ids', 'token_type_ids', 'attention_mask']\n",
      "['[UNK]', '[SEP]', '[PAD]', '[CLS]', '[MASK]']\n"
     ]
    }
   ],
   "source": [
    "tokenizer = BertTokenizer.from_pretrained('bert-base-uncased')\n",
    "print(tokenizer.model_input_names)\n",
    "print(tokenizer.all_special_tokens)"
   ]
  },
  {
   "cell_type": "code",
   "execution_count": 13,
   "metadata": {
    "collapsed": false,
    "pycharm": {
     "name": "#%%\n"
    }
   },
   "outputs": [
    {
     "data": {
      "text/plain": [
       "{'input_ids': [101, 2440, 9207, 3550, 7375, 1012, 11974, 1010, 9268, 2035, 15932, 1999, 1000, 3556, 6251, 1000, 9896, 1010, 2029, 12099, 5335, 2731, 2836, 102], 'token_type_ids': [0, 0, 0, 0, 0, 0, 0, 0, 0, 0, 0, 0, 0, 0, 0, 0, 0, 0, 0, 0, 0, 0, 0, 0], 'attention_mask': [1, 1, 1, 1, 1, 1, 1, 1, 1, 1, 1, 1, 1, 1, 1, 1, 1, 1, 1, 1, 1, 1, 1, 1]}"
      ]
     },
     "execution_count": 13,
     "metadata": {},
     "output_type": "execute_result"
    }
   ],
   "source": [
    "sentence = 'Full vectorized implementation. Specially, removing all loops in \"score sentence\" algorithm, which dramatically improve training performance'\n",
    "a = tokenizer(sentence)\n",
    "a"
   ]
  },
  {
   "cell_type": "code",
   "execution_count": 14,
   "metadata": {
    "collapsed": false,
    "pycharm": {
     "name": "#%%\n"
    }
   },
   "outputs": [
    {
     "data": {
      "text/plain": [
       "[101,\n",
       " 2440,\n",
       " 9207,\n",
       " 3550,\n",
       " 7375,\n",
       " 1012,\n",
       " 11974,\n",
       " 1010,\n",
       " 9268,\n",
       " 2035,\n",
       " 15932,\n",
       " 1999,\n",
       " 1000,\n",
       " 3556,\n",
       " 6251,\n",
       " 1000,\n",
       " 9896,\n",
       " 1010,\n",
       " 2029,\n",
       " 12099,\n",
       " 5335,\n",
       " 2731,\n",
       " 2836,\n",
       " 102]"
      ]
     },
     "execution_count": 14,
     "metadata": {},
     "output_type": "execute_result"
    }
   ],
   "source": [
    "a['input_ids']"
   ]
  },
  {
   "cell_type": "code",
   "execution_count": 15,
   "metadata": {
    "collapsed": false,
    "pycharm": {
     "name": "#%%\n"
    }
   },
   "outputs": [
    {
     "data": {
      "text/plain": [
       "24"
      ]
     },
     "execution_count": 15,
     "metadata": {},
     "output_type": "execute_result"
    }
   ],
   "source": [
    "len(a['input_ids'])"
   ]
  },
  {
   "cell_type": "code",
   "execution_count": 16,
   "metadata": {
    "collapsed": false,
    "pycharm": {
     "name": "#%%\n"
    }
   },
   "outputs": [
    {
     "data": {
      "text/plain": [
       "'[CLS] full vectorized implementation. specially, removing all loops in \" score sentence \" algorithm, which dramatically improve training performance [SEP]'"
      ]
     },
     "execution_count": 16,
     "metadata": {},
     "output_type": "execute_result"
    }
   ],
   "source": [
    "tokenizer.decode(a['input_ids'])"
   ]
  },
  {
   "cell_type": "code",
   "execution_count": 17,
   "metadata": {
    "collapsed": false,
    "pycharm": {
     "name": "#%%\n"
    }
   },
   "outputs": [
    {
     "data": {
      "text/plain": [
       "['full',\n",
       " 'vector',\n",
       " '##ized',\n",
       " 'implementation',\n",
       " '.',\n",
       " 'specially',\n",
       " ',',\n",
       " 'removing',\n",
       " 'all',\n",
       " 'loops',\n",
       " 'in',\n",
       " '\"',\n",
       " 'score',\n",
       " 'sentence',\n",
       " '\"',\n",
       " 'algorithm',\n",
       " ',',\n",
       " 'which',\n",
       " 'dramatically',\n",
       " 'improve',\n",
       " 'training',\n",
       " 'performance']"
      ]
     },
     "execution_count": 17,
     "metadata": {},
     "output_type": "execute_result"
    }
   ],
   "source": [
    "# Converts a string in a sequence of tokens, using the tokenizer.\n",
    "b = tokenizer.tokenize(text=sentence)\n",
    "b  # 英文情况下,Bert使用wordPiece分词"
   ]
  },
  {
   "cell_type": "code",
   "execution_count": 18,
   "metadata": {
    "collapsed": false,
    "pycharm": {
     "name": "#%%\n"
    }
   },
   "outputs": [
    {
     "data": {
      "text/plain": [
       "BertTokenizer(name_or_path='bert-base-uncased', vocab_size=30522, model_max_length=512, is_fast=False, padding_side='right', truncation_side='right', special_tokens={'unk_token': '[UNK]', 'sep_token': '[SEP]', 'pad_token': '[PAD]', 'cls_token': '[CLS]', 'mask_token': '[MASK]'}, clean_up_tokenization_spaces=True),  added_tokens_decoder={\n",
       "\t0: AddedToken(\"[PAD]\", rstrip=False, lstrip=False, single_word=False, normalized=False, special=True),\n",
       "\t100: AddedToken(\"[UNK]\", rstrip=False, lstrip=False, single_word=False, normalized=False, special=True),\n",
       "\t101: AddedToken(\"[CLS]\", rstrip=False, lstrip=False, single_word=False, normalized=False, special=True),\n",
       "\t102: AddedToken(\"[SEP]\", rstrip=False, lstrip=False, single_word=False, normalized=False, special=True),\n",
       "\t103: AddedToken(\"[MASK]\", rstrip=False, lstrip=False, single_word=False, normalized=False, special=True),\n",
       "}"
      ]
     },
     "execution_count": 18,
     "metadata": {},
     "output_type": "execute_result"
    }
   ],
   "source": [
    "tokenizer"
   ]
  },
  {
   "cell_type": "code",
   "execution_count": 19,
   "metadata": {
    "collapsed": false,
    "pycharm": {
     "name": "#%%\n"
    }
   },
   "outputs": [
    {
     "data": {
      "text/plain": [
       "22"
      ]
     },
     "execution_count": 19,
     "metadata": {},
     "output_type": "execute_result"
    }
   ],
   "source": [
    "len(b)  # len(b) = len(a['input_ids']) - 2"
   ]
  },
  {
   "cell_type": "code",
   "execution_count": 20,
   "metadata": {
    "collapsed": false,
    "pycharm": {
     "name": "#%%\n"
    }
   },
   "outputs": [
    {
     "data": {
      "text/plain": [
       "['汉',\n",
       " '民',\n",
       " '族',\n",
       " '民',\n",
       " '族',\n",
       " '意',\n",
       " '识',\n",
       " '与',\n",
       " '天',\n",
       " '下',\n",
       " '观',\n",
       " '相',\n",
       " '互',\n",
       " '影',\n",
       " '响',\n",
       " '。',\n",
       " '[UNK]',\n",
       " 'cl',\n",
       " '##an',\n",
       " '[UNK]',\n",
       " 'con',\n",
       " '##sc',\n",
       " '##ious',\n",
       " '##ness',\n",
       " 'is',\n",
       " 'see',\n",
       " '##n',\n",
       " 'the',\n",
       " 'int',\n",
       " '##era',\n",
       " '##ction',\n",
       " 'with',\n",
       " 'the',\n",
       " '[UNK]',\n",
       " 'or',\n",
       " 'the',\n",
       " 'world',\n",
       " '.']"
      ]
     },
     "execution_count": 20,
     "metadata": {},
     "output_type": "execute_result"
    }
   ],
   "source": [
    "tokenizer_chinese = BertTokenizer.from_pretrained('bert-base-chinese')\n",
    "sentence_chinese = '汉民族民族意识与天下观相互影响。 Chinese clan Minzu consciousness is seen the interaction with the China or the world.'\n",
    "tokenizer_chinese.tokenize(sentence_chinese)  # 中文按字分词\n"
   ]
  }
 ],
 "metadata": {
  "kernelspec": {
   "display_name": "nlp_base",
   "language": "python",
   "name": "python3"
  },
  "language_info": {
   "codemirror_mode": {
    "name": "ipython",
    "version": 3
   },
   "file_extension": ".py",
   "mimetype": "text/x-python",
   "name": "python",
   "nbconvert_exporter": "python",
   "pygments_lexer": "ipython3",
   "version": "3.10.12"
  }
 },
 "nbformat": 4,
 "nbformat_minor": 0
}
