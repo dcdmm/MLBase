{
 "cells": [
  {
   "cell_type": "code",
   "execution_count": 82,
   "outputs": [],
   "source": [
    "import torch"
   ],
   "metadata": {
    "collapsed": false,
    "pycharm": {
     "name": "#%%\n"
    }
   }
  },
  {
   "cell_type": "markdown",
   "source": [
    "### 参考numpy整数和网格索引"
   ],
   "metadata": {
    "collapsed": false,
    "pycharm": {
     "name": "#%% md\n"
    }
   }
  },
  {
   "cell_type": "code",
   "execution_count": 83,
   "metadata": {
    "collapsed": true
   },
   "outputs": [
    {
     "data": {
      "text/plain": "tensor([[ 0.,  0.,  0.,  0.],\n        [ 0.,  1.,  2.,  3.],\n        [ 0.,  2.,  4.,  6.],\n        [ 0.,  3.,  6.,  9.],\n        [ 0.,  4.,  8., 12.],\n        [ 0.,  5., 10., 15.],\n        [ 0.,  6., 12., 18.],\n        [ 0.,  7., 14., 21.]])"
     },
     "execution_count": 83,
     "metadata": {},
     "output_type": "execute_result"
    }
   ],
   "source": [
    "arr = torch.empty((8, 4))\n",
    "for i in range(8):\n",
    "    for j in range(4):\n",
    "        arr[i, j] = i * j\n",
    "arr"
   ]
  },
  {
   "cell_type": "markdown",
   "source": [
    "### 整数索引"
   ],
   "metadata": {
    "collapsed": false,
    "pycharm": {
     "name": "#%% md\n"
    }
   }
  },
  {
   "cell_type": "code",
   "execution_count": 84,
   "outputs": [
    {
     "data": {
      "text/plain": "tensor([[ 0.,  4.,  8., 12.],\n        [ 0.,  3.,  6.,  9.],\n        [ 0.,  0.,  0.,  0.],\n        [ 0.,  6., 12., 18.]])"
     },
     "execution_count": 84,
     "metadata": {},
     "output_type": "execute_result"
    }
   ],
   "source": [
    "arr[[4, 3, 0, 6]]  # ★★★★★索引index必须为列表"
   ],
   "metadata": {
    "collapsed": false,
    "pycharm": {
     "name": "#%%\n"
    }
   }
  },
  {
   "cell_type": "code",
   "execution_count": 85,
   "outputs": [
    {
     "data": {
      "text/plain": "tensor([[ 0.,  5., 10., 15.],\n        [ 0.,  3.,  6.,  9.],\n        [ 0.,  1.,  2.,  3.]])"
     },
     "execution_count": 85,
     "metadata": {},
     "output_type": "execute_result"
    }
   ],
   "source": [
    "arr[[-3, -5, -7]]  # 且支持负数索引"
   ],
   "metadata": {
    "collapsed": false,
    "pycharm": {
     "name": "#%%\n"
    }
   }
  },
  {
   "cell_type": "code",
   "execution_count": 86,
   "outputs": [
    {
     "data": {
      "text/plain": "tensor([[ 0.,  0.,  0.],\n        [ 3.,  2.,  0.],\n        [ 6.,  4.,  0.],\n        [ 9.,  6.,  0.],\n        [12.,  8.,  0.],\n        [15., 10.,  0.],\n        [18., 12.,  0.],\n        [21., 14.,  0.]])"
     },
     "execution_count": 86,
     "metadata": {},
     "output_type": "execute_result"
    }
   ],
   "source": [
    "arr[:, [-1, -2, 0]]  # 对第一个维度进行索引"
   ],
   "metadata": {
    "collapsed": false,
    "pycharm": {
     "name": "#%%\n"
    }
   }
  },
  {
   "cell_type": "code",
   "execution_count": 87,
   "outputs": [
    {
     "data": {
      "text/plain": "tensor([[ 0.,  4.,  8., 12.],\n        [ 0.,  3.,  6.,  9.],\n        [ 0.,  0.,  0.,  0.],\n        [ 0.,  6., 12., 18.]])"
     },
     "execution_count": 87,
     "metadata": {},
     "output_type": "execute_result"
    }
   ],
   "source": [
    "s = arr[[4, 3, 0, 6]]\n",
    "s"
   ],
   "metadata": {
    "collapsed": false,
    "pycharm": {
     "name": "#%%\n"
    }
   }
  },
  {
   "cell_type": "code",
   "execution_count": 88,
   "outputs": [
    {
     "data": {
      "text/plain": "tensor([[100., 100., 100., 100.],\n        [100., 100., 100., 100.],\n        [100., 100., 100., 100.],\n        [100., 100., 100., 100.]])"
     },
     "execution_count": 88,
     "metadata": {},
     "output_type": "execute_result"
    }
   ],
   "source": [
    "s[:] = 100\n",
    "s"
   ],
   "metadata": {
    "collapsed": false,
    "pycharm": {
     "name": "#%%\n"
    }
   }
  },
  {
   "cell_type": "code",
   "execution_count": 89,
   "outputs": [
    {
     "data": {
      "text/plain": "tensor([[ 0.,  0.,  0.,  0.],\n        [ 0.,  1.,  2.,  3.],\n        [ 0.,  2.,  4.,  6.],\n        [ 0.,  3.,  6.,  9.],\n        [ 0.,  4.,  8., 12.],\n        [ 0.,  5., 10., 15.],\n        [ 0.,  6., 12., 18.],\n        [ 0.,  7., 14., 21.]])"
     },
     "execution_count": 89,
     "metadata": {},
     "output_type": "execute_result"
    }
   ],
   "source": [
    "# 整数索引和基本索引切片的区别:\n",
    "# 基本索引切片只能对连续行(or/and)列进行索引,整数索引可以对任意位置的行(or/and)列进行索引\n",
    "# 整数索引总是将数据复制到一个新的数组中\n",
    "arr  # ★★★★★整数索引下此方式不能修改原数组"
   ],
   "metadata": {
    "collapsed": false,
    "pycharm": {
     "name": "#%%\n"
    }
   }
  },
  {
   "cell_type": "code",
   "execution_count": 90,
   "outputs": [
    {
     "data": {
      "text/plain": "tensor([[100., 100., 100., 100.],\n        [  0.,   1.,   2.,   3.],\n        [  0.,   2.,   4.,   6.],\n        [100., 100., 100., 100.],\n        [100., 100., 100., 100.],\n        [  0.,   5.,  10.,  15.],\n        [100., 100., 100., 100.],\n        [  0.,   7.,  14.,  21.]])"
     },
     "execution_count": 90,
     "metadata": {},
     "output_type": "execute_result"
    }
   ],
   "source": [
    "arr[[4, 3, 0, 6]] = 100  # ★★★★★直接对整数索引进行赋值\n",
    "arr  # arr改变"
   ],
   "metadata": {
    "collapsed": false,
    "pycharm": {
     "name": "#%%\n"
    }
   }
  },
  {
   "cell_type": "code",
   "execution_count": 91,
   "outputs": [
    {
     "data": {
      "text/plain": "tensor([[ 0,  1,  2,  3],\n        [ 4,  5,  6,  7],\n        [ 8,  9, 10, 11],\n        [12, 13, 14, 15],\n        [16, 17, 18, 19],\n        [20, 21, 22, 23],\n        [24, 25, 26, 27],\n        [28, 29, 30, 31]])"
     },
     "execution_count": 91,
     "metadata": {},
     "output_type": "execute_result"
    }
   ],
   "source": [
    "arr0 = torch.arange(32).reshape((8, 4))\n",
    "arr0"
   ],
   "metadata": {
    "collapsed": false,
    "pycharm": {
     "name": "#%%\n"
    }
   }
  },
  {
   "cell_type": "code",
   "execution_count": 92,
   "outputs": [
    {
     "data": {
      "text/plain": "tensor([[ 4,  7,  5,  6],\n        [20, 23, 21, 22],\n        [28, 31, 29, 30],\n        [ 8, 11,  9, 10]])"
     },
     "execution_count": 92,
     "metadata": {},
     "output_type": "execute_result"
    }
   ],
   "source": [
    "# 选取行索引为(1, 5, 7, 2)和列索引为(0, 3, 1, 2)组成的数据矩阵(两次整数索引)\n",
    "arr0[[1, 5, 7, 2]][:, [0, 3, 1, 2]]"
   ],
   "metadata": {
    "collapsed": false,
    "pycharm": {
     "name": "#%%\n"
    }
   }
  },
  {
   "cell_type": "code",
   "execution_count": 93,
   "outputs": [
    {
     "data": {
      "text/plain": "tensor([[ 0,  1,  2,  3],\n        [ 4,  5,  6,  7],\n        [ 8,  9, 10, 11],\n        [12, 13, 14, 15],\n        [16, 17, 18, 19],\n        [20, 21, 22, 23],\n        [24, 25, 26, 27],\n        [28, 29, 30, 31]])"
     },
     "execution_count": 93,
     "metadata": {},
     "output_type": "execute_result"
    }
   ],
   "source": [
    "arr0[[1, 5, 7, 2]][:, [0, 3, 1, 2]] = 111111\n",
    "arr0  # arr不变,如何解决?"
   ],
   "metadata": {
    "collapsed": false,
    "pycharm": {
     "name": "#%%\n"
    }
   }
  },
  {
   "cell_type": "code",
   "execution_count": 94,
   "outputs": [
    {
     "data": {
      "text/plain": "tensor([[     0,      1,      2,      3],\n        [333333, 333333, 333333, 333333],\n        [333333, 333333, 333333, 333333],\n        [    12,     13,     14,     15],\n        [    16,     17,     18,     19],\n        [333333, 333333, 333333, 333333],\n        [    24,     25,     26,     27],\n        [333333, 333333, 333333, 333333]])"
     },
     "execution_count": 94,
     "metadata": {},
     "output_type": "execute_result"
    }
   ],
   "source": [
    "# 解决方法如下:\n",
    "row = [1, 5, 7, 2]\n",
    "columns = [0, 3, 1, 2]\n",
    "for k in row:\n",
    "    s = arr0[k]\n",
    "    s[columns] = 333333  # 间接赋值\n",
    "arr0"
   ],
   "metadata": {
    "collapsed": false,
    "pycharm": {
     "name": "#%%\n"
    }
   }
  },
  {
   "cell_type": "markdown",
   "source": [
    "### 网格索引"
   ],
   "metadata": {
    "collapsed": false,
    "pycharm": {
     "name": "#%% md\n"
    }
   }
  },
  {
   "cell_type": "code",
   "execution_count": 95,
   "outputs": [
    {
     "data": {
      "text/plain": "tensor([[[  0,   1,   2,   3,   4,   5,   6,   7,   8,   9],\n         [ 10,  11,  12,  13,  14,  15,  16,  17,  18,  19],\n         [ 20,  21,  22,  23,  24,  25,  26,  27,  28,  29],\n         [ 30,  31,  32,  33,  34,  35,  36,  37,  38,  39]],\n\n        [[ 40,  41,  42,  43,  44,  45,  46,  47,  48,  49],\n         [ 50,  51,  52,  53,  54,  55,  56,  57,  58,  59],\n         [ 60,  61,  62,  63,  64,  65,  66,  67,  68,  69],\n         [ 70,  71,  72,  73,  74,  75,  76,  77,  78,  79]],\n\n        [[ 80,  81,  82,  83,  84,  85,  86,  87,  88,  89],\n         [ 90,  91,  92,  93,  94,  95,  96,  97,  98,  99],\n         [100, 101, 102, 103, 104, 105, 106, 107, 108, 109],\n         [110, 111, 112, 113, 114, 115, 116, 117, 118, 119]],\n\n        [[120, 121, 122, 123, 124, 125, 126, 127, 128, 129],\n         [130, 131, 132, 133, 134, 135, 136, 137, 138, 139],\n         [140, 141, 142, 143, 144, 145, 146, 147, 148, 149],\n         [150, 151, 152, 153, 154, 155, 156, 157, 158, 159]],\n\n        [[160, 161, 162, 163, 164, 165, 166, 167, 168, 169],\n         [170, 171, 172, 173, 174, 175, 176, 177, 178, 179],\n         [180, 181, 182, 183, 184, 185, 186, 187, 188, 189],\n         [190, 191, 192, 193, 194, 195, 196, 197, 198, 199]],\n\n        [[200, 201, 202, 203, 204, 205, 206, 207, 208, 209],\n         [210, 211, 212, 213, 214, 215, 216, 217, 218, 219],\n         [220, 221, 222, 223, 224, 225, 226, 227, 228, 229],\n         [230, 231, 232, 233, 234, 235, 236, 237, 238, 239]],\n\n        [[240, 241, 242, 243, 244, 245, 246, 247, 248, 249],\n         [250, 251, 252, 253, 254, 255, 256, 257, 258, 259],\n         [260, 261, 262, 263, 264, 265, 266, 267, 268, 269],\n         [270, 271, 272, 273, 274, 275, 276, 277, 278, 279]],\n\n        [[280, 281, 282, 283, 284, 285, 286, 287, 288, 289],\n         [290, 291, 292, 293, 294, 295, 296, 297, 298, 299],\n         [300, 301, 302, 303, 304, 305, 306, 307, 308, 309],\n         [310, 311, 312, 313, 314, 315, 316, 317, 318, 319]]])"
     },
     "execution_count": 95,
     "metadata": {},
     "output_type": "execute_result"
    }
   ],
   "source": [
    "arr1 = torch.arange(320).reshape((8, 4, 10))\n",
    "arr1"
   ],
   "metadata": {
    "collapsed": false,
    "pycharm": {
     "name": "#%%\n"
    }
   }
  },
  {
   "cell_type": "code",
   "execution_count": 96,
   "outputs": [
    {
     "data": {
      "text/plain": "tensor([[ 40,  41,  42,  43,  44,  45,  46,  47,  48,  49],\n        [230, 231, 232, 233, 234, 235, 236, 237, 238, 239],\n        [290, 291, 292, 293, 294, 295, 296, 297, 298, 299],\n        [100, 101, 102, 103, 104, 105, 106, 107, 108, 109]])"
     },
     "execution_count": 96,
     "metadata": {},
     "output_type": "execute_result"
    }
   ],
   "source": [
    "arr1[[1, 5, 7, 2], [0, 3, 1, 2]]  # 选取索引为(1, 0),(5, 3),(7, 1),(2, 2)处的元素值"
   ],
   "metadata": {
    "collapsed": false,
    "pycharm": {
     "name": "#%%\n"
    }
   }
  },
  {
   "cell_type": "code",
   "execution_count": 97,
   "outputs": [
    {
     "data": {
      "text/plain": "tensor([[[    0,     1,     2,     3,     4,     5,     6,     7,     8,     9],\n         [   10,    11,    12,    13,    14,    15,    16,    17,    18,    19],\n         [   20,    21,    22,    23,    24,    25,    26,    27,    28,    29],\n         [   30,    31,    32,    33,    34,    35,    36,    37,    38,    39]],\n\n        [[11111, 11111, 11111, 11111, 11111, 11111, 11111, 11111, 11111, 11111],\n         [   50,    51,    52,    53,    54,    55,    56,    57,    58,    59],\n         [   60,    61,    62,    63,    64,    65,    66,    67,    68,    69],\n         [   70,    71,    72,    73,    74,    75,    76,    77,    78,    79]],\n\n        [[   80,    81,    82,    83,    84,    85,    86,    87,    88,    89],\n         [   90,    91,    92,    93,    94,    95,    96,    97,    98,    99],\n         [11111, 11111, 11111, 11111, 11111, 11111, 11111, 11111, 11111, 11111],\n         [  110,   111,   112,   113,   114,   115,   116,   117,   118,   119]],\n\n        [[  120,   121,   122,   123,   124,   125,   126,   127,   128,   129],\n         [  130,   131,   132,   133,   134,   135,   136,   137,   138,   139],\n         [  140,   141,   142,   143,   144,   145,   146,   147,   148,   149],\n         [  150,   151,   152,   153,   154,   155,   156,   157,   158,   159]],\n\n        [[  160,   161,   162,   163,   164,   165,   166,   167,   168,   169],\n         [  170,   171,   172,   173,   174,   175,   176,   177,   178,   179],\n         [  180,   181,   182,   183,   184,   185,   186,   187,   188,   189],\n         [  190,   191,   192,   193,   194,   195,   196,   197,   198,   199]],\n\n        [[  200,   201,   202,   203,   204,   205,   206,   207,   208,   209],\n         [  210,   211,   212,   213,   214,   215,   216,   217,   218,   219],\n         [  220,   221,   222,   223,   224,   225,   226,   227,   228,   229],\n         [11111, 11111, 11111, 11111, 11111, 11111, 11111, 11111, 11111, 11111]],\n\n        [[  240,   241,   242,   243,   244,   245,   246,   247,   248,   249],\n         [  250,   251,   252,   253,   254,   255,   256,   257,   258,   259],\n         [  260,   261,   262,   263,   264,   265,   266,   267,   268,   269],\n         [  270,   271,   272,   273,   274,   275,   276,   277,   278,   279]],\n\n        [[  280,   281,   282,   283,   284,   285,   286,   287,   288,   289],\n         [11111, 11111, 11111, 11111, 11111, 11111, 11111, 11111, 11111, 11111],\n         [  300,   301,   302,   303,   304,   305,   306,   307,   308,   309],\n         [  310,   311,   312,   313,   314,   315,   316,   317,   318,   319]]])"
     },
     "execution_count": 97,
     "metadata": {},
     "output_type": "execute_result"
    }
   ],
   "source": [
    "arr1[[1, 5, 7, 2], [0, 3, 1, 2]] = 11111  # 与整数索引同理\n",
    "arr1  # arr改变"
   ],
   "metadata": {
    "collapsed": false,
    "pycharm": {
     "name": "#%%\n"
    }
   }
  },
  {
   "cell_type": "code",
   "execution_count": 97,
   "outputs": [],
   "source": [],
   "metadata": {
    "collapsed": false,
    "pycharm": {
     "name": "#%%\n"
    }
   }
  }
 ],
 "metadata": {
  "kernelspec": {
   "display_name": "Python 3",
   "language": "python",
   "name": "python3"
  },
  "language_info": {
   "codemirror_mode": {
    "name": "ipython",
    "version": 2
   },
   "file_extension": ".py",
   "mimetype": "text/x-python",
   "name": "python",
   "nbconvert_exporter": "python",
   "pygments_lexer": "ipython2",
   "version": "2.7.6"
  }
 },
 "nbformat": 4,
 "nbformat_minor": 0
}