{
 "cells": [
  {
   "cell_type": "code",
   "execution_count": 15,
   "metadata": {
    "collapsed": true
   },
   "outputs": [],
   "source": [
    "import  numpy as np"
   ]
  },
  {
   "cell_type": "code",
   "execution_count": 16,
   "metadata": {},
   "outputs": [
    {
     "name": "stdout",
     "output_type": "stream",
     "text": [
      "<class 'numpy.ndarray'>\n",
      "3\n"
     ]
    }
   ],
   "source": [
    "arr_scalar = np.array(3)\n",
    "print(type(arr_scalar))\n",
    "print(arr_scalar)"
   ]
  },
  {
   "cell_type": "code",
   "execution_count": 17,
   "outputs": [
    {
     "name": "stdout",
     "output_type": "stream",
     "text": [
      "[0 1 2 3 4 5 6 7 8 9]\n"
     ]
    }
   ],
   "source": [
    "arr_vector = np.array(range(10), dtype=np.int32)\n",
    "'''\n",
    "object : array_like\n",
    "    An array, any object exposing the array interface, an object whose\n",
    "    __array__ method returns an array, or any (nested) sequence.\n",
    "\n",
    "dtype : data-type, optional\n",
    "    The desired data-type for the array. If not given, then the type will be determined as the minimum type required to hold the objects in the sequence. \n",
    "\n",
    "ndmin : int, optional\n",
    "    Specifies the minimum number of dimensions that the resulting\n",
    "    array should have.  Ones will be pre-pended to the shape as\n",
    "    needed to meet this requirement.   \n",
    "'''\n",
    "print(arr_vector)"
   ],
   "metadata": {
    "collapsed": false,
    "pycharm": {
     "name": "#%%\n"
    }
   }
  },
  {
   "cell_type": "code",
   "execution_count": 18,
   "outputs": [
    {
     "name": "stdout",
     "output_type": "stream",
     "text": [
      "1\n",
      "[1 2 3]\n",
      "[1 2 3]\n"
     ]
    }
   ],
   "source": [
    "arr_lst = np.array([1, 2, 3]) \n",
    "print(arr_lst.ndim)\n",
    "print(arr_lst)\n",
    "print(arr_lst.T) # nidim=1的数组,转置不变"
   ],
   "metadata": {
    "collapsed": false,
    "pycharm": {
     "name": "#%%\n"
    }
   }
  },
  {
   "cell_type": "code",
   "execution_count": 19,
   "outputs": [
    {
     "name": "stdout",
     "output_type": "stream",
     "text": [
      "(2, 3)\n",
      "[[1 2 3]\n",
      " [2 3 4]]\n"
     ]
    }
   ],
   "source": [
    "arr_matrix = np.array([[1, 2, 3], [2, 3, 4]])\n",
    "print(arr_matrix.shape) # 2 * 3的矩阵\n",
    "print(arr_matrix)"
   ],
   "metadata": {
    "pycharm": {
     "metadata": false,
     "name": "#%%\n"
    }
   }
  },
  {
   "cell_type": "code",
   "execution_count": 20,
   "metadata": {
    "pycharm": {
     "name": "#%%\n"
    }
   },
   "outputs": [
    {
     "name": "stdout",
     "output_type": "stream",
     "text": [
      "[list([1, 2, 3, 4]) list(['a', 'b', 'c', 'd', 'e'])]\n",
      "1\n",
      "[1, 2, 3, 4]\n"
     ]
    }
   ],
   "source": [
    "a = [1, 2, 3, 4]\n",
    "b = ['a', 'b', 'c', 'd', 'e']\n",
    "arr3 = np.array([a, b])\n",
    "print(arr3)\n",
    "print(arr3.ndim) \n",
    "print(arr3[0]) # [a, b]不是方阵!a/b被视为一个整体"
   ]
  },
  {
   "cell_type": "code",
   "execution_count": 21,
   "outputs": [
    {
     "name": "stdout",
     "output_type": "stream",
     "text": [
      "[['0' '1' '2' '3' '4']\n",
      " ['a' 'b' 'c' 'd' 'e']]\n",
      "<U11\n"
     ]
    }
   ],
   "source": [
    "a1 = [0, 1, 2, 3, 4]\n",
    "b1 = ['a', 'b', 'c', 'd', 'e']\n",
    "arr4 = np.array([a1, b1])\n",
    "print(arr4)\n",
    "print(arr4.dtype) # 被综合成Unicode类型"
   ],
   "metadata": {
    "collapsed": false,
    "pycharm": {
     "name": "#%%\n"
    }
   }
  },
  {
   "cell_type": "code",
   "execution_count": 22,
   "outputs": [
    {
     "name": "stdout",
     "output_type": "stream",
     "text": [
      "object\n",
      "[<__main__.A object at 0x000002039A442CC8>\n",
      " <__main__.B object at 0x000002039A427048>]\n"
     ]
    }
   ],
   "source": [
    "class A:\n",
    "    pass\n",
    "\n",
    "class B:\n",
    "    pass\n",
    "\n",
    "a = A()\n",
    "b = B()\n",
    "\n",
    "arr_op = np.array([a, b])\n",
    "print(arr_op.dtype) # Object(对象)类型\n",
    "print(arr_op) "
   ],
   "metadata": {
    "collapsed": false,
    "pycharm": {
     "name": "#%%\n"
    }
   }
  },
  {
   "cell_type": "code",
   "execution_count": 23,
   "outputs": [
    {
     "name": "stdout",
     "output_type": "stream",
     "text": [
      "float64\n",
      "[[1.]\n",
      " [2.]\n",
      " [3.]\n",
      " [3.]\n",
      " [5.]]\n"
     ]
    }
   ],
   "source": [
    "lst = ['1', '2', '3', '3', 5]\n",
    "arr_re = np.array(lst, dtype=np.float, ndmin=2).T # 可在数组创建的时候将数字型字符串转换为float\n",
    "print(arr_re.dtype)\n",
    "print(arr_re)"
   ],
   "metadata": {
    "pycharm": {
     "metadata": false,
     "name": "#%%\n"
    }
   }
  },
  {
   "cell_type": "code",
   "execution_count": 24,
   "outputs": [],
   "source": [
    "dic = {'a':1, 'b':2, 'c':3, 'd':4}"
   ],
   "metadata": {
    "pycharm": {
     "metadata": false,
     "name": "#%%\n"
    }
   }
  },
  {
   "cell_type": "code",
   "execution_count": 25,
   "outputs": [
    {
     "data": {
      "text/plain": "array({'a': 1, 'b': 2, 'c': 3, 'd': 4}, dtype=object)"
     },
     "execution_count": 25,
     "metadata": {},
     "output_type": "execute_result"
    }
   ],
   "source": [
    "np.array(dic) # 注意:dic被视为一个整体"
   ],
   "metadata": {
    "collapsed": false,
    "pycharm": {
     "name": "#%%\n"
    }
   }
  },
  {
   "cell_type": "code",
   "execution_count": 26,
   "outputs": [
    {
     "data": {
      "text/plain": "array(dict_values([1, 2, 3, 4]), dtype=object)"
     },
     "execution_count": 26,
     "metadata": {},
     "output_type": "execute_result"
    }
   ],
   "source": [
    "np.array(dic.values()) # 注意:dic.values被视为一个整体"
   ],
   "metadata": {
    "collapsed": false,
    "pycharm": {
     "name": "#%%\n"
    }
   }
  },
  {
   "cell_type": "code",
   "execution_count": 27,
   "outputs": [
    {
     "data": {
      "text/plain": "array(dict_keys(['a', 'b', 'c', 'd']), dtype=object)"
     },
     "execution_count": 27,
     "metadata": {},
     "output_type": "execute_result"
    }
   ],
   "source": [
    "np.array(dic.keys()) # 注意:dic.keys()被视为一个整体"
   ],
   "metadata": {
    "collapsed": false,
    "pycharm": {
     "name": "#%%\n"
    }
   }
  },
  {
   "cell_type": "code",
   "execution_count": 28,
   "outputs": [
    {
     "data": {
      "text/plain": "array(['a', 'b', 'c', 'd'], dtype='<U1')"
     },
     "execution_count": 28,
     "metadata": {},
     "output_type": "execute_result"
    }
   ],
   "source": [
    "np.array(list(dic.keys())) # 可能是你想要的结果"
   ],
   "metadata": {
    "collapsed": false,
    "pycharm": {
     "name": "#%%\n"
    }
   }
  }
 ],
 "metadata": {
  "kernelspec": {
   "name": "python3",
   "language": "python",
   "display_name": "Python 3"
  },
  "language_info": {
   "codemirror_mode": {
    "name": "ipython",
    "version": 2
   },
   "file_extension": ".py",
   "mimetype": "text/x-python",
   "name": "python",
   "nbconvert_exporter": "python",
   "pygments_lexer": "ipython2",
   "version": "2.7.6"
  }
 },
 "nbformat": 4,
 "nbformat_minor": 0
}