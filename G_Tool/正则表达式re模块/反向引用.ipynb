{
 "cells": [
  {
   "cell_type": "code",
   "execution_count": 1,
   "metadata": {
    "collapsed": true,
    "pycharm": {
     "is_executing": false,
     "name": "#%%\n"
    }
   },
   "outputs": [
    {
     "name": "stdout",
     "text": [
      "['go']\ngo go\n"
     ],
     "output_type": "stream"
    }
   ],
   "source": [
    "import re\n",
    "\n",
    "# 匹配字符串中连续出现的两个相同的单词\n",
    "s = 'hello blue go go hello'\n",
    "p = re.compile(r'\\b(\\w+)\\b\\s+\\1\\b')  # 这里的'\\1'就对应前面的(\\w+)\n",
    "print(re.findall(p, s)) # 只对子组进行匹配\n",
    "print(re.search(p, s).group())"
   ]
  },
  {
   "cell_type": "code",
   "execution_count": 2,
   "outputs": [
    {
     "name": "stdout",
     "text": [
      "['go']\ngo go\n"
     ],
     "output_type": "stream"
    }
   ],
   "source": [
    "s = 'hello blue go go hello'\n",
    "p = re.compile(r'\\b(?P<my_group1>\\w+)\\b\\s+(?P=my_group1)\\b')\n",
    "print(re.findall(p,s))\n",
    "print(re.search(p, s).group())"
   ],
   "metadata": {
    "collapsed": false,
    "pycharm": {
     "name": "#%%\n",
     "is_executing": false
    }
   }
  },
  {
   "cell_type": "code",
   "execution_count": 3,
   "outputs": [
    {
     "name": "stdout",
     "text": [
      "abab\n"
     ],
     "output_type": "stream"
    }
   ],
   "source": [
    "s = 'abab cdcd efek'\n",
    "p = re.compile(r'(\\w\\w)\\1') # 匹配\"ABAB\"型字符串\n",
    "print(re.search(p, s).group())"
   ],
   "metadata": {
    "collapsed": false,
    "pycharm": {
     "name": "#%%\n",
     "is_executing": false
    }
   }
  },
  {
   "cell_type": "code",
   "execution_count": 4,
   "outputs": [
    {
     "name": "stdout",
     "text": [
      "xxyy\n"
     ],
     "output_type": "stream"
    }
   ],
   "source": [
    "s = 'abab cdcd xxyy'\n",
    "p = re.compile(r'(\\w)\\1(\\w)\\2') # 匹配\"AABB\"型字符串\n",
    "print(re.search(p, s).group())"
   ],
   "metadata": {
    "collapsed": false,
    "pycharm": {
     "name": "#%%\n",
     "is_executing": false
    }
   }
  },
  {
   "cell_type": "code",
   "execution_count": 5,
   "outputs": [
    {
     "name": "stdout",
     "text": [
      "xxyx\n"
     ],
     "output_type": "stream"
    }
   ],
   "source": [
    "s = 'abab cdcd xxyx'\n",
    "p = re.compile(r'(\\w)\\1(?:\\w)\\1') # 匹配\"AABA\"型字符串\n",
    "print(re.search(p, s).group())"
   ],
   "metadata": {
    "collapsed": false,
    "pycharm": {
     "name": "#%%\n",
     "is_executing": false
    }
   }
  },
  {
   "cell_type": "code",
   "execution_count": 6,
   "outputs": [
    {
     "name": "stdout",
     "text": [
      "toot\n"
     ],
     "output_type": "stream"
    }
   ],
   "source": [
    "s = 'abab toot'\n",
    "p = re.compile(r'(\\w)(\\w)\\2\\1') # 匹配\"ABBA\"型字符串\n",
    "print(re.search(p, s).group())"
   ],
   "metadata": {
    "collapsed": false,
    "pycharm": {
     "name": "#%%\n",
     "is_executing": false
    }
   }
  },
  {
   "cell_type": "code",
   "execution_count": 7,
   "outputs": [
    {
     "name": "stdout",
     "text": [
      "1,234,567,890\n"
     ],
     "output_type": "stream"
    }
   ],
   "source": [
    "s = '1234567890'\n",
    "s = s[::-1]\n",
    "s = re.sub(r'(...)', r'\\1,', s) # 在字符串中从后往前每隔3个字符插入一个,符号\n",
    "                                # 小数点匹配除了换行符（\\n）以外的任意一个字符\n",
    "print(s[::-1])"
   ],
   "metadata": {
    "collapsed": false,
    "pycharm": {
     "name": "#%%\n",
     "is_executing": false
    }
   }
  },
  {
   "cell_type": "code",
   "execution_count": 8,
   "outputs": [
    {
     "name": "stdout",
     "text": [
      "\\\\\\\\\n\\\\\\\\\\\n"
     ],
     "output_type": "stream"
    }
   ],
   "source": [
    "escapes = r'\\\\\\\\'\n",
    "print(escapes)\n",
    "escapes = re.sub(r'(\\\\+)', r'\\1\\\\', escapes)\n",
    "print(escapes)\n",
    "\n",
    "\n"
   ],
   "metadata": {
    "collapsed": false,
    "pycharm": {
     "name": "#%%\n",
     "is_executing": false
    }
   }
  }
 ],
 "metadata": {
  "kernelspec": {
   "display_name": "Python 3",
   "language": "python",
   "name": "python3"
  },
  "language_info": {
   "codemirror_mode": {
    "name": "ipython",
    "version": 2
   },
   "file_extension": ".py",
   "mimetype": "text/x-python",
   "name": "python",
   "nbconvert_exporter": "python",
   "pygments_lexer": "ipython2",
   "version": "2.7.6"
  },
  "pycharm": {
   "stem_cell": {
    "cell_type": "raw",
    "source": [],
    "metadata": {
     "collapsed": false
    }
   }
  }
 },
 "nbformat": 4,
 "nbformat_minor": 0
}