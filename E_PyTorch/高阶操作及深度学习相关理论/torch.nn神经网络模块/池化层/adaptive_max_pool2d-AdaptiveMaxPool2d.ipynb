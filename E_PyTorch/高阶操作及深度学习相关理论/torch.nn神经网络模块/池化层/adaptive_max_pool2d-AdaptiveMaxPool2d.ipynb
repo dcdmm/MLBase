{
 "cells": [
  {
   "cell_type": "code",
   "execution_count": 16,
   "metadata": {
    "collapsed": true
   },
   "outputs": [],
   "source": [
    "import torch.nn as nn\n",
    "import torch.nn.functional as F\n",
    "import torch"
   ]
  },
  {
   "cell_type": "code",
   "execution_count": 17,
   "metadata": {
    "pycharm": {
     "name": "#%%\n"
    }
   },
   "outputs": [
    {
     "data": {
      "text/plain": [
       "torch.Size([1, 64, 5, 7])"
      ]
     },
     "execution_count": 17,
     "metadata": {},
     "output_type": "execute_result"
    }
   ],
   "source": [
    "entry = torch.randn(1, 64, 8, 9)\n",
    "re_f, indices_f = F.adaptive_max_pool2d(entry, output_size=(5, 7), return_indices=True)\n",
    "re_f.shape"
   ]
  },
  {
   "cell_type": "code",
   "execution_count": 18,
   "metadata": {
    "pycharm": {
     "name": "#%%\n"
    }
   },
   "outputs": [
    {
     "data": {
      "text/plain": [
       "tensor([[[[ 9, 11, 12,  ...,  6,  6,  8],\n",
       "          [19, 19, 12,  ..., 33, 33, 35],\n",
       "          [36, 29, 29,  ..., 33, 33, 35],\n",
       "          [54, 47, 47,  ..., 50, 60, 43],\n",
       "          [54, 56, 56,  ..., 60, 60, 70]],\n",
       "\n",
       "         [[ 0, 11, 11,  ...,  6,  7,  7],\n",
       "          [27, 29, 29,  ..., 14, 25, 35],\n",
       "          [36, 29, 29,  ..., 32, 33, 35],\n",
       "          [46, 46, 39,  ..., 50, 43, 53],\n",
       "          [63, 65, 66,  ..., 59, 70, 62]],\n",
       "\n",
       "         [[ 0, 11, 11,  ..., 14, 16, 16],\n",
       "          [18, 11, 11,  ..., 23, 25, 25],\n",
       "          [36, 38, 38,  ..., 41, 34, 34],\n",
       "          [46, 38, 38,  ..., 60, 60, 52],\n",
       "          [64, 56, 56,  ..., 60, 60, 71]],\n",
       "\n",
       "         ...,\n",
       "\n",
       "         [[10,  2,  2,  ...,  5,  6,  8],\n",
       "          [10, 10, 20,  ..., 23, 16, 26],\n",
       "          [37, 38, 38,  ..., 33, 43, 44],\n",
       "          [55, 55, 38,  ..., 60, 60, 44],\n",
       "          [63, 55, 66,  ..., 60, 70, 70]],\n",
       "\n",
       "         [[ 9, 10, 12,  ..., 14,  7,  8],\n",
       "          [ 9, 10, 12,  ..., 23, 25, 35],\n",
       "          [37, 37, 39,  ..., 42, 43, 43],\n",
       "          [37, 37, 48,  ..., 42, 43, 43],\n",
       "          [64, 65, 65,  ..., 69, 69, 70]],\n",
       "\n",
       "         [[10, 10,  3,  ..., 14,  6, 16],\n",
       "          [10, 10, 20,  ..., 14, 25, 25],\n",
       "          [36, 28, 30,  ..., 33, 33, 35],\n",
       "          [36, 37, 48,  ..., 60, 60, 62],\n",
       "          [63, 65, 65,  ..., 60, 60, 62]]]])"
      ]
     },
     "execution_count": 18,
     "metadata": {},
     "output_type": "execute_result"
    }
   ],
   "source": [
    "indices_f # shape=(5, 7)"
   ]
  },
  {
   "cell_type": "code",
   "execution_count": 19,
   "metadata": {
    "pycharm": {
     "name": "#%%\n"
    }
   },
   "outputs": [
    {
     "data": {
      "text/plain": [
       "torch.Size([1, 64, 5, 7])"
      ]
     },
     "execution_count": 19,
     "metadata": {},
     "output_type": "execute_result"
    }
   ],
   "source": [
    "# Applies a 2D adaptive max pooling over an input signal composed of several input planes.\n",
    "amp_c = nn.AdaptiveMaxPool2d(output_size=(5, 7), # 输出形状的大小\n",
    "                             return_indices=True)\n",
    "'''\n",
    "output_size –\n",
    "    the target output size of the image of the form H x W.\n",
    "    Can be a tuple (H, W) or a single H for a square image H x H.\n",
    "    H and W can be either a int, or None which means the size will be the same as that of the input.\n",
    "\n",
    "return_indices –\n",
    "    if True, will return the indices along with the outputs.\n",
    "    Useful to pass to nn.MaxUnpool2d. Default: False\n",
    "'''\n",
    "re_c, indices_c = amp_c(entry)\n",
    "re_c.shape"
   ]
  },
  {
   "cell_type": "code",
   "execution_count": 20,
   "metadata": {
    "pycharm": {
     "name": "#%%\n"
    }
   },
   "outputs": [
    {
     "data": {
      "text/plain": [
       "tensor([[[[ 9, 11, 12,  ...,  6,  6,  8],\n",
       "          [19, 19, 12,  ..., 33, 33, 35],\n",
       "          [36, 29, 29,  ..., 33, 33, 35],\n",
       "          [54, 47, 47,  ..., 50, 60, 43],\n",
       "          [54, 56, 56,  ..., 60, 60, 70]],\n",
       "\n",
       "         [[ 0, 11, 11,  ...,  6,  7,  7],\n",
       "          [27, 29, 29,  ..., 14, 25, 35],\n",
       "          [36, 29, 29,  ..., 32, 33, 35],\n",
       "          [46, 46, 39,  ..., 50, 43, 53],\n",
       "          [63, 65, 66,  ..., 59, 70, 62]],\n",
       "\n",
       "         [[ 0, 11, 11,  ..., 14, 16, 16],\n",
       "          [18, 11, 11,  ..., 23, 25, 25],\n",
       "          [36, 38, 38,  ..., 41, 34, 34],\n",
       "          [46, 38, 38,  ..., 60, 60, 52],\n",
       "          [64, 56, 56,  ..., 60, 60, 71]],\n",
       "\n",
       "         ...,\n",
       "\n",
       "         [[10,  2,  2,  ...,  5,  6,  8],\n",
       "          [10, 10, 20,  ..., 23, 16, 26],\n",
       "          [37, 38, 38,  ..., 33, 43, 44],\n",
       "          [55, 55, 38,  ..., 60, 60, 44],\n",
       "          [63, 55, 66,  ..., 60, 70, 70]],\n",
       "\n",
       "         [[ 9, 10, 12,  ..., 14,  7,  8],\n",
       "          [ 9, 10, 12,  ..., 23, 25, 35],\n",
       "          [37, 37, 39,  ..., 42, 43, 43],\n",
       "          [37, 37, 48,  ..., 42, 43, 43],\n",
       "          [64, 65, 65,  ..., 69, 69, 70]],\n",
       "\n",
       "         [[10, 10,  3,  ..., 14,  6, 16],\n",
       "          [10, 10, 20,  ..., 14, 25, 25],\n",
       "          [36, 28, 30,  ..., 33, 33, 35],\n",
       "          [36, 37, 48,  ..., 60, 60, 62],\n",
       "          [63, 65, 65,  ..., 60, 60, 62]]]])"
      ]
     },
     "execution_count": 20,
     "metadata": {},
     "output_type": "execute_result"
    }
   ],
   "source": [
    "indices_c"
   ]
  },
  {
   "cell_type": "code",
   "execution_count": 20,
   "metadata": {
    "pycharm": {
     "name": "#%%\n"
    }
   },
   "outputs": [],
   "source": [
    "\n"
   ]
  }
 ],
 "metadata": {
  "kernelspec": {
   "display_name": "Python 3",
   "language": "python",
   "name": "python3"
  },
  "language_info": {
   "codemirror_mode": {
    "name": "ipython",
    "version": 3
   },
   "file_extension": ".py",
   "mimetype": "text/x-python",
   "name": "python",
   "nbconvert_exporter": "python",
   "pygments_lexer": "ipython3",
   "version": "3.7.7"
  },
  "toc": {
   "base_numbering": 1,
   "nav_menu": {},
   "number_sections": true,
   "sideBar": true,
   "skip_h1_title": false,
   "title_cell": "Table of Contents",
   "title_sidebar": "Contents",
   "toc_cell": false,
   "toc_position": {},
   "toc_section_display": true,
   "toc_window_display": false
  }
 },
 "nbformat": 4,
 "nbformat_minor": 1
}
