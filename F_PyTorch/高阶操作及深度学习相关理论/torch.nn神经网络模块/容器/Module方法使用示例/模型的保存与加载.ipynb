{
 "cells": [
  {
   "cell_type": "code",
   "execution_count": 2,
   "metadata": {
    "collapsed": true
   },
   "outputs": [],
   "source": [
    "from abc import ABC\n",
    "import torch\n",
    "import torch.nn as nn"
   ]
  },
  {
   "cell_type": "code",
   "execution_count": 3,
   "outputs": [
    {
     "name": "stdout",
     "output_type": "stream",
     "text": [
      "iteration：0,    loss: 0.4025896191596985\n",
      "iteration：20,    loss: 0.22843216359615326\n",
      "iteration：40,    loss: 0.16785705089569092\n",
      "iteration：60,    loss: 0.141874760389328\n",
      "iteration：80,    loss: 0.12539862096309662\n",
      "iteration：100,    loss: 0.11337655782699585\n",
      "iteration：120,    loss: 0.10405278205871582\n",
      "iteration：140,    loss: 0.09656625986099243\n",
      "iteration：160,    loss: 0.09040964394807816\n",
      "iteration：180,    loss: 0.08525297045707703\n",
      "iteration：200,    loss: 0.08086848258972168\n",
      "iteration：220,    loss: 0.07709279656410217\n",
      "iteration：240,    loss: 0.07380522042512894\n",
      "iteration：260,    loss: 0.0709148421883583\n",
      "iteration：280,    loss: 0.06835179775953293\n",
      "iteration：300,    loss: 0.06606166064739227\n",
      "iteration：320,    loss: 0.06400143355131149\n",
      "iteration：340,    loss: 0.06213672086596489\n",
      "iteration：360,    loss: 0.06043971702456474\n",
      "iteration：380,    loss: 0.05888770893216133\n",
      "iteration：400,    loss: 0.0574619434773922\n",
      "iteration：420,    loss: 0.056146811693906784\n",
      "iteration：440,    loss: 0.05492924153804779\n",
      "iteration：460,    loss: 0.05379815399646759\n",
      "iteration：480,    loss: 0.05274413526058197\n"
     ]
    }
   ],
   "source": [
    "x0, y0 = torch.normal(mean=1.7, std=1, size=(100, 2)) + 1, torch.zeros(100) # 数据集1\n",
    "x1, y1 = torch.normal(mean=-1.7, std=1, size=(100, 2)) + 1, torch.ones(100) # 数据集2\n",
    "train_x, train_y = torch.cat((x0, x1), 0), torch.cat((y0, y1), 0)\n",
    "\n",
    "class LR(nn.Module, ABC):\n",
    "    def __init__(self):\n",
    "        super(LR, self).__init__()\n",
    "        self.features = nn.Linear(2, 1)\n",
    "        self.sigmoid = nn.Sigmoid()\n",
    "\n",
    "    def forward(self, x):\n",
    "        x = self.features(x)\n",
    "        x = self.sigmoid(x)\n",
    "        return x\n",
    "\n",
    "lr_net = LR()\n",
    "loss_fn = nn.BCELoss()\n",
    "optimizer = torch.optim.SGD(lr_net.parameters(), lr=0.01, momentum=0.9)\n",
    "\n",
    "for iteration in range(500):\n",
    "    optimizer.zero_grad()  # 梯度清零\n",
    "    y_pred = lr_net(train_x)\n",
    "    loss = loss_fn(y_pred.squeeze(), train_y)\n",
    "    loss.backward()\n",
    "    optimizer.step()\n",
    "\n",
    "    if iteration % 20 == 0:\n",
    "        print(\"iteration：{iteration},    loss: {loss}\".format(iteration=iteration, loss=loss))"
   ],
   "metadata": {
    "collapsed": false,
    "pycharm": {
     "name": "#%%\n"
    }
   }
  },
  {
   "cell_type": "code",
   "execution_count": 4,
   "outputs": [
    {
     "data": {
      "text/plain": "OrderedDict([('features.weight', tensor([[-1.2754, -1.4625]])),\n             ('features.bias', tensor([2.2650]))])"
     },
     "execution_count": 4,
     "metadata": {},
     "output_type": "execute_result"
    }
   ],
   "source": [
    "lr_dict = lr_net.state_dict() # Returns a dictionary containing a whole state of the module\n",
    "lr_dict"
   ],
   "metadata": {
    "collapsed": false,
    "pycharm": {
     "name": "#%%\n"
    }
   }
  },
  {
   "cell_type": "code",
   "execution_count": 5,
   "outputs": [],
   "source": [
    "torch.save(lr_dict,\n",
    "           'lr_dict.pth') # 保存的状态字典的文件"
   ],
   "metadata": {
    "collapsed": false,
    "pycharm": {
     "name": "#%%\n"
    }
   }
  },
  {
   "cell_type": "code",
   "execution_count": 6,
   "outputs": [
    {
     "data": {
      "text/plain": "<All keys matched successfully>"
     },
     "execution_count": 6,
     "metadata": {},
     "output_type": "execute_result"
    }
   ],
   "source": [
    "lr_net_new = LR() # 定义一个新的模型\n",
    "\n",
    "# torch.load():Loads an object saved with torch.save() from a file.\n",
    "# .load_state_dict():Copies parameters and buffers from :attr:`state_dict` into this module and its descendants\n",
    "lr_net_new.load_state_dict(torch.load('lr_dict.pth'))"
   ],
   "metadata": {
    "collapsed": false,
    "pycharm": {
     "name": "#%%\n"
    }
   }
  },
  {
   "cell_type": "code",
   "execution_count": 7,
   "outputs": [
    {
     "data": {
      "text/plain": "OrderedDict([('features.weight', tensor([[-1.2754, -1.4625]])),\n             ('features.bias', tensor([2.2650]))])"
     },
     "execution_count": 7,
     "metadata": {},
     "output_type": "execute_result"
    }
   ],
   "source": [
    "lr_net_new.state_dict() # successful!!!!!!so eary!!!!!!"
   ],
   "metadata": {
    "collapsed": false,
    "pycharm": {
     "name": "#%%\n"
    }
   }
  },
  {
   "cell_type": "code",
   "execution_count": null,
   "outputs": [],
   "source": [],
   "metadata": {
    "collapsed": false,
    "pycharm": {
     "name": "#%%\n"
    }
   }
  }
 ],
 "metadata": {
  "kernelspec": {
   "display_name": "Python 3",
   "language": "python",
   "name": "python3"
  },
  "language_info": {
   "codemirror_mode": {
    "name": "ipython",
    "version": 2
   },
   "file_extension": ".py",
   "mimetype": "text/x-python",
   "name": "python",
   "nbconvert_exporter": "python",
   "pygments_lexer": "ipython2",
   "version": "2.7.6"
  }
 },
 "nbformat": 4,
 "nbformat_minor": 0
}