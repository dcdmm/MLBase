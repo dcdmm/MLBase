{
 "cells": [
  {
   "cell_type": "code",
   "execution_count": 17,
   "outputs": [],
   "source": [
    "from transformers import AutoModel, AutoTokenizer"
   ],
   "metadata": {
    "collapsed": false,
    "pycharm": {
     "name": "#%%\n"
    }
   }
  },
  {
   "cell_type": "code",
   "execution_count": 18,
   "metadata": {
    "collapsed": false,
    "pycharm": {
     "name": "#%%\n"
    }
   },
   "outputs": [
    {
     "name": "stdout",
     "output_type": "stream",
     "text": [
      "['input_ids', 'token_type_ids', 'attention_mask']\n",
      "['<s>', '</s>', '<unk>', '<sep>', '<pad>', '<cls>', '<mask>', '<eop>', '<eod>']\n"
     ]
    }
   ],
   "source": [
    "'''\n",
    "主要预训练模型:\n",
    "'xlnet-base-cased'\n",
    "'xlnet-large-cased'\n",
    "'hfl/chinese-xlnet-base'\n",
    "'hfl/chinese-xlnet-mid'\n",
    "'''\n",
    "tokenizer = AutoTokenizer.from_pretrained('xlnet-base-cased')\n",
    "print(tokenizer.model_input_names)\n",
    "print(tokenizer.all_special_tokens)"
   ]
  },
  {
   "cell_type": "code",
   "execution_count": 19,
   "metadata": {
    "collapsed": false,
    "pycharm": {
     "name": "#%%\n"
    }
   },
   "outputs": [
    {
     "name": "stderr",
     "output_type": "stream",
     "text": [
      "Some weights of the model checkpoint at xlnet-base-cased were not used when initializing XLNetModel: ['lm_loss.bias', 'lm_loss.weight']\n",
      "- This IS expected if you are initializing XLNetModel from the checkpoint of a model trained on another task or with another architecture (e.g. initializing a BertForSequenceClassification model from a BertForPreTraining model).\n",
      "- This IS NOT expected if you are initializing XLNetModel from the checkpoint of a model that you expect to be exactly identical (initializing a BertForSequenceClassification model from a BertForSequenceClassification model).\n"
     ]
    },
    {
     "data": {
      "text/plain": "XLNetModel(\n  (word_embedding): Embedding(32000, 768)\n  (layer): ModuleList(\n    (0): XLNetLayer(\n      (rel_attn): XLNetRelativeAttention(\n        (layer_norm): LayerNorm((768,), eps=1e-12, elementwise_affine=True)\n        (dropout): Dropout(p=0.1, inplace=False)\n      )\n      (ff): XLNetFeedForward(\n        (layer_norm): LayerNorm((768,), eps=1e-12, elementwise_affine=True)\n        (layer_1): Linear(in_features=768, out_features=3072, bias=True)\n        (layer_2): Linear(in_features=3072, out_features=768, bias=True)\n        (dropout): Dropout(p=0.1, inplace=False)\n        (activation_function): GELUActivation()\n      )\n      (dropout): Dropout(p=0.1, inplace=False)\n    )\n    (1): XLNetLayer(\n      (rel_attn): XLNetRelativeAttention(\n        (layer_norm): LayerNorm((768,), eps=1e-12, elementwise_affine=True)\n        (dropout): Dropout(p=0.1, inplace=False)\n      )\n      (ff): XLNetFeedForward(\n        (layer_norm): LayerNorm((768,), eps=1e-12, elementwise_affine=True)\n        (layer_1): Linear(in_features=768, out_features=3072, bias=True)\n        (layer_2): Linear(in_features=3072, out_features=768, bias=True)\n        (dropout): Dropout(p=0.1, inplace=False)\n        (activation_function): GELUActivation()\n      )\n      (dropout): Dropout(p=0.1, inplace=False)\n    )\n    (2): XLNetLayer(\n      (rel_attn): XLNetRelativeAttention(\n        (layer_norm): LayerNorm((768,), eps=1e-12, elementwise_affine=True)\n        (dropout): Dropout(p=0.1, inplace=False)\n      )\n      (ff): XLNetFeedForward(\n        (layer_norm): LayerNorm((768,), eps=1e-12, elementwise_affine=True)\n        (layer_1): Linear(in_features=768, out_features=3072, bias=True)\n        (layer_2): Linear(in_features=3072, out_features=768, bias=True)\n        (dropout): Dropout(p=0.1, inplace=False)\n        (activation_function): GELUActivation()\n      )\n      (dropout): Dropout(p=0.1, inplace=False)\n    )\n    (3): XLNetLayer(\n      (rel_attn): XLNetRelativeAttention(\n        (layer_norm): LayerNorm((768,), eps=1e-12, elementwise_affine=True)\n        (dropout): Dropout(p=0.1, inplace=False)\n      )\n      (ff): XLNetFeedForward(\n        (layer_norm): LayerNorm((768,), eps=1e-12, elementwise_affine=True)\n        (layer_1): Linear(in_features=768, out_features=3072, bias=True)\n        (layer_2): Linear(in_features=3072, out_features=768, bias=True)\n        (dropout): Dropout(p=0.1, inplace=False)\n        (activation_function): GELUActivation()\n      )\n      (dropout): Dropout(p=0.1, inplace=False)\n    )\n    (4): XLNetLayer(\n      (rel_attn): XLNetRelativeAttention(\n        (layer_norm): LayerNorm((768,), eps=1e-12, elementwise_affine=True)\n        (dropout): Dropout(p=0.1, inplace=False)\n      )\n      (ff): XLNetFeedForward(\n        (layer_norm): LayerNorm((768,), eps=1e-12, elementwise_affine=True)\n        (layer_1): Linear(in_features=768, out_features=3072, bias=True)\n        (layer_2): Linear(in_features=3072, out_features=768, bias=True)\n        (dropout): Dropout(p=0.1, inplace=False)\n        (activation_function): GELUActivation()\n      )\n      (dropout): Dropout(p=0.1, inplace=False)\n    )\n    (5): XLNetLayer(\n      (rel_attn): XLNetRelativeAttention(\n        (layer_norm): LayerNorm((768,), eps=1e-12, elementwise_affine=True)\n        (dropout): Dropout(p=0.1, inplace=False)\n      )\n      (ff): XLNetFeedForward(\n        (layer_norm): LayerNorm((768,), eps=1e-12, elementwise_affine=True)\n        (layer_1): Linear(in_features=768, out_features=3072, bias=True)\n        (layer_2): Linear(in_features=3072, out_features=768, bias=True)\n        (dropout): Dropout(p=0.1, inplace=False)\n        (activation_function): GELUActivation()\n      )\n      (dropout): Dropout(p=0.1, inplace=False)\n    )\n    (6): XLNetLayer(\n      (rel_attn): XLNetRelativeAttention(\n        (layer_norm): LayerNorm((768,), eps=1e-12, elementwise_affine=True)\n        (dropout): Dropout(p=0.1, inplace=False)\n      )\n      (ff): XLNetFeedForward(\n        (layer_norm): LayerNorm((768,), eps=1e-12, elementwise_affine=True)\n        (layer_1): Linear(in_features=768, out_features=3072, bias=True)\n        (layer_2): Linear(in_features=3072, out_features=768, bias=True)\n        (dropout): Dropout(p=0.1, inplace=False)\n        (activation_function): GELUActivation()\n      )\n      (dropout): Dropout(p=0.1, inplace=False)\n    )\n    (7): XLNetLayer(\n      (rel_attn): XLNetRelativeAttention(\n        (layer_norm): LayerNorm((768,), eps=1e-12, elementwise_affine=True)\n        (dropout): Dropout(p=0.1, inplace=False)\n      )\n      (ff): XLNetFeedForward(\n        (layer_norm): LayerNorm((768,), eps=1e-12, elementwise_affine=True)\n        (layer_1): Linear(in_features=768, out_features=3072, bias=True)\n        (layer_2): Linear(in_features=3072, out_features=768, bias=True)\n        (dropout): Dropout(p=0.1, inplace=False)\n        (activation_function): GELUActivation()\n      )\n      (dropout): Dropout(p=0.1, inplace=False)\n    )\n    (8): XLNetLayer(\n      (rel_attn): XLNetRelativeAttention(\n        (layer_norm): LayerNorm((768,), eps=1e-12, elementwise_affine=True)\n        (dropout): Dropout(p=0.1, inplace=False)\n      )\n      (ff): XLNetFeedForward(\n        (layer_norm): LayerNorm((768,), eps=1e-12, elementwise_affine=True)\n        (layer_1): Linear(in_features=768, out_features=3072, bias=True)\n        (layer_2): Linear(in_features=3072, out_features=768, bias=True)\n        (dropout): Dropout(p=0.1, inplace=False)\n        (activation_function): GELUActivation()\n      )\n      (dropout): Dropout(p=0.1, inplace=False)\n    )\n    (9): XLNetLayer(\n      (rel_attn): XLNetRelativeAttention(\n        (layer_norm): LayerNorm((768,), eps=1e-12, elementwise_affine=True)\n        (dropout): Dropout(p=0.1, inplace=False)\n      )\n      (ff): XLNetFeedForward(\n        (layer_norm): LayerNorm((768,), eps=1e-12, elementwise_affine=True)\n        (layer_1): Linear(in_features=768, out_features=3072, bias=True)\n        (layer_2): Linear(in_features=3072, out_features=768, bias=True)\n        (dropout): Dropout(p=0.1, inplace=False)\n        (activation_function): GELUActivation()\n      )\n      (dropout): Dropout(p=0.1, inplace=False)\n    )\n    (10): XLNetLayer(\n      (rel_attn): XLNetRelativeAttention(\n        (layer_norm): LayerNorm((768,), eps=1e-12, elementwise_affine=True)\n        (dropout): Dropout(p=0.1, inplace=False)\n      )\n      (ff): XLNetFeedForward(\n        (layer_norm): LayerNorm((768,), eps=1e-12, elementwise_affine=True)\n        (layer_1): Linear(in_features=768, out_features=3072, bias=True)\n        (layer_2): Linear(in_features=3072, out_features=768, bias=True)\n        (dropout): Dropout(p=0.1, inplace=False)\n        (activation_function): GELUActivation()\n      )\n      (dropout): Dropout(p=0.1, inplace=False)\n    )\n    (11): XLNetLayer(\n      (rel_attn): XLNetRelativeAttention(\n        (layer_norm): LayerNorm((768,), eps=1e-12, elementwise_affine=True)\n        (dropout): Dropout(p=0.1, inplace=False)\n      )\n      (ff): XLNetFeedForward(\n        (layer_norm): LayerNorm((768,), eps=1e-12, elementwise_affine=True)\n        (layer_1): Linear(in_features=768, out_features=3072, bias=True)\n        (layer_2): Linear(in_features=3072, out_features=768, bias=True)\n        (dropout): Dropout(p=0.1, inplace=False)\n        (activation_function): GELUActivation()\n      )\n      (dropout): Dropout(p=0.1, inplace=False)\n    )\n  )\n  (dropout): Dropout(p=0.1, inplace=False)\n)"
     },
     "execution_count": 19,
     "metadata": {},
     "output_type": "execute_result"
    }
   ],
   "source": [
    "model = AutoModel.from_pretrained(\"xlnet-base-cased\")\n",
    "model"
   ]
  },
  {
   "cell_type": "code",
   "execution_count": 20,
   "metadata": {
    "collapsed": false,
    "pycharm": {
     "name": "#%%\n"
    }
   },
   "outputs": [
    {
     "data": {
      "text/plain": "XLNetConfig {\n  \"_name_or_path\": \"xlnet-base-cased\",\n  \"architectures\": [\n    \"XLNetLMHeadModel\"\n  ],\n  \"attn_type\": \"bi\",\n  \"bi_data\": false,\n  \"bos_token_id\": 1,\n  \"clamp_len\": -1,\n  \"d_head\": 64,\n  \"d_inner\": 3072,\n  \"d_model\": 768,\n  \"dropout\": 0.1,\n  \"end_n_top\": 5,\n  \"eos_token_id\": 2,\n  \"ff_activation\": \"gelu\",\n  \"initializer_range\": 0.02,\n  \"layer_norm_eps\": 1e-12,\n  \"mem_len\": null,\n  \"model_type\": \"xlnet\",\n  \"n_head\": 12,\n  \"n_layer\": 12,\n  \"pad_token_id\": 5,\n  \"reuse_len\": null,\n  \"same_length\": false,\n  \"start_n_top\": 5,\n  \"summary_activation\": \"tanh\",\n  \"summary_last_dropout\": 0.1,\n  \"summary_type\": \"last\",\n  \"summary_use_proj\": true,\n  \"task_specific_params\": {\n    \"text-generation\": {\n      \"do_sample\": true,\n      \"max_length\": 250\n    }\n  },\n  \"transformers_version\": \"4.17.0\",\n  \"untie_r\": true,\n  \"use_mems_eval\": true,\n  \"use_mems_train\": false,\n  \"vocab_size\": 32000\n}"
     },
     "execution_count": 20,
     "metadata": {},
     "output_type": "execute_result"
    }
   ],
   "source": [
    "model.config"
   ]
  },
  {
   "cell_type": "code",
   "execution_count": 21,
   "metadata": {
    "collapsed": false,
    "pycharm": {
     "name": "#%%\n"
    }
   },
   "outputs": [
    {
     "name": "stdout",
     "output_type": "stream",
     "text": [
      "{'input_ids': tensor([[   17, 21442,   118,  ...,     9,     4,     3]]), 'token_type_ids': tensor([[0, 0, 0,  ..., 0, 0, 2]]), 'attention_mask': tensor([[1, 1, 1,  ..., 1, 1, 1]])}\n",
      "dict_keys(['input_ids', 'token_type_ids', 'attention_mask'])\n",
      "torch.Size([1, 1010])\n",
      "Transformer-based models are unable to process long sequences due to their self-attention operation, which scales quadratically with the sequence length. To address this limitation, we introduce the Longformer with an attention mechanism that scales linearly with sequence length, making it easy to process documents of thousands of tokens or longer. Longformer’s attention mechanism is a drop-in replacement for the standard self-attention and combines a local windowed attention with a task motivated global attention. Following prior work on long-sequence transformers, we evaluate Longformer on character-level language modeling and achieve state-of-the-art results on text8 and enwik8. In contrast to most prior work, we also pretrain Longformer and finetune it on a variety of downstream tasks. Our pretrained Longformer consistently outperforms RoBERTa on long document tasks and sets new state-of-the-art results on Wiki-Hop and TriviaQA. We finally introduce the Longformer-Encoder-Decoder (LED), a Longformer variant for supporting long document generative sequence-to-sequence tasks, and demonstrate its effectiveness on the arXiv summarization dataset. Longformer’s attention mechanism is a combination of a windowed local-context self-attention and an end task motivated global attention that encodes inductive bias about the task. Through ablations and controlled trials we show both attention types are essential – the local attention is primarily used to build contextual representations, while the global attention allows Longformer to build full sequence representations for prediction. Transformer-based models are unable to process long sequences due to their self-attention operation, which scales quadratically with the sequence length. To address this limitation, we introduce the Longformer with an attention mechanism that scales linearly with sequence length, making it easy to process documents of thousands of tokens or longer. Longformer’s attention mechanism is a drop-in replacement for the standard self-attention and combines a local windowed attention with a task motivated global attention. Following prior work on long-sequence transformers, we evaluate Longformer on character-level language modeling and achieve state-of-the-art results on text8 and enwik8. In contrast to most prior work, we also pretrain Longformer and finetune it on a variety of downstream tasks. Our pretrained Longformer consistently outperforms RoBERTa on long document tasks and sets new state-of-the-art results on Wiki-Hop and TriviaQA. We finally introduce the Longformer-Encoder-Decoder (LED), a Longformer variant for supporting long document generative sequence-to-sequence tasks, and demonstrate its effectiveness on the arXiv summarization dataset. Longformer’s attention mechanism is a combination of a windowed local-context self-attention and an end task motivated global attention that encodes inductive bias about the task. Through ablations and controlled trials we show both attention types are essential – the local attention is primarily used to build contextual representations, while the global attention allows Longformer to build full sequence representations for prediction. Transformer-based models are unable to process long sequences due to their self-attention operation, which scales quadratically with the sequence length. To address this limitation, we introduce the Longformer with an attention mechanism that scales linearly with sequence length, making it easy to process documents of thousands of tokens or longer. Longformer’s attention mechanism is a drop-in replacement for the standard self-attention and combines a local windowed attention with a task motivated global attention. Following prior work on long-sequence transformers, we evaluate Longformer on character-level language modeling and achieve state-of-the-art results on text8 and enwik8. In contrast to most prior work, we also pretrain Longformer and finetune it on a variety of downstream tasks. Our pretrained Longformer consistently outperforms RoBERTa on long document tasks and sets new state-of-the-art results on Wiki-Hop and TriviaQA. We finally introduce the Longformer-Encoder-Decoder (LED), a Longformer variant for supporting long document generative sequence-to-sequence tasks, and demonstrate its effectiveness on the arXiv summarization dataset. Longformer’s attention mechanism is a combination of a windowed local-context self-attention and an end task motivated global attention that encodes inductive bias about the task. Through ablations and controlled trials we show both attention types are essential – the local attention is primarily used to build contextual representations, while the global attention allows Longformer to build full sequence representations for prediction.<sep><cls>\n"
     ]
    }
   ],
   "source": [
    "# 长文本\n",
    "text = \"\"\"Transformer-based models are unable to process long sequences due to their self-attention operation, which scales quadratically with the sequence length.\n",
    "To address this limitation, we introduce the Longformer with an attention mechanism that scales linearly with sequence length, making it easy to process documents of thousands of tokens or longer.\n",
    "Longformer’s attention mechanism is a drop-in replacement for the standard self-attention and combines a local windowed attention with a task motivated global attention.\n",
    "Following prior work on long-sequence transformers, we evaluate Longformer on character-level language modeling and achieve state-of-the-art results on text8 and enwik8.\n",
    "In contrast to most prior work, we also pretrain Longformer and finetune it on a variety of downstream tasks.\n",
    "Our pretrained Longformer consistently outperforms RoBERTa on long document tasks and sets new state-of-the-art results on Wiki-Hop and TriviaQA.\n",
    "We finally introduce the Longformer-Encoder-Decoder (LED), a Longformer variant for supporting long document generative sequence-to-sequence tasks, and demonstrate its effectiveness on the arXiv summarization dataset.\n",
    "Longformer’s attention mechanism is a combination of a windowed local-context self-attention and an end task motivated global attention that encodes inductive bias about the task.\n",
    "Through ablations and controlled trials we show both attention types are essential – the local attention is primarily used to build contextual representations, while the global attention allows Longformer to build full sequence representations for prediction.\n",
    "Transformer-based models are unable to process long sequences due to their self-attention operation, which scales quadratically with the sequence length.\n",
    "To address this limitation, we introduce the Longformer with an attention mechanism that scales linearly with sequence length, making it easy to process documents of thousands of tokens or longer.\n",
    "Longformer’s attention mechanism is a drop-in replacement for the standard self-attention and combines a local windowed attention with a task motivated global attention.\n",
    "Following prior work on long-sequence transformers, we evaluate Longformer on character-level language modeling and achieve state-of-the-art results on text8 and enwik8.\n",
    "In contrast to most prior work, we also pretrain Longformer and finetune it on a variety of downstream tasks.\n",
    "Our pretrained Longformer consistently outperforms RoBERTa on long document tasks and sets new state-of-the-art results on Wiki-Hop and TriviaQA.\n",
    "We finally introduce the Longformer-Encoder-Decoder (LED), a Longformer variant for supporting long document generative sequence-to-sequence tasks, and demonstrate its effectiveness on the arXiv summarization dataset.\n",
    "Longformer’s attention mechanism is a combination of a windowed local-context self-attention and an end task motivated global attention that encodes inductive bias about the task.\n",
    "Through ablations and controlled trials we show both attention types are essential – the local attention is primarily used to build contextual representations, while the global attention allows Longformer to build full sequence representations for prediction.\n",
    "Transformer-based models are unable to process long sequences due to their self-attention operation, which scales quadratically with the sequence length.\n",
    "To address this limitation, we introduce the Longformer with an attention mechanism that scales linearly with sequence length, making it easy to process documents of thousands of tokens or longer.\n",
    "Longformer’s attention mechanism is a drop-in replacement for the standard self-attention and combines a local windowed attention with a task motivated global attention.\n",
    "Following prior work on long-sequence transformers, we evaluate Longformer on character-level language modeling and achieve state-of-the-art results on text8 and enwik8.\n",
    "In contrast to most prior work, we also pretrain Longformer and finetune it on a variety of downstream tasks.\n",
    "Our pretrained Longformer consistently outperforms RoBERTa on long document tasks and sets new state-of-the-art results on Wiki-Hop and TriviaQA.\n",
    "We finally introduce the Longformer-Encoder-Decoder (LED), a Longformer variant for supporting long document generative sequence-to-sequence tasks, and demonstrate its effectiveness on the arXiv summarization dataset.\n",
    "Longformer’s attention mechanism is a combination of a windowed local-context self-attention and an end task motivated global attention that encodes inductive bias about the task.\n",
    "Through ablations and controlled trials we show both attention types are essential – the local attention is primarily used to build contextual representations, while the global attention allows Longformer to build full sequence representations for prediction.\"\"\"\n",
    "\n",
    "encoded_input = tokenizer(text, return_tensors='pt')\n",
    "print(encoded_input)\n",
    "print(encoded_input.keys())\n",
    "print(encoded_input['input_ids'].shape)\n",
    "print(tokenizer.decode(encoded_input['input_ids'].tolist()[0]))"
   ]
  },
  {
   "cell_type": "code",
   "execution_count": 22,
   "metadata": {
    "collapsed": false,
    "pycharm": {
     "name": "#%%\n"
    }
   },
   "outputs": [
    {
     "name": "stdout",
     "output_type": "stream",
     "text": [
      "tensor([[[-1.8599, -1.9898, -3.2491,  ..., -1.8696, -1.2809, -0.3724],\n",
      "         [-1.6866, -3.8323, -4.7616,  ..., -0.8816,  2.4035, -0.6347],\n",
      "         [-2.6908, -2.3114, -3.9258,  ...,  1.7374,  0.6104, -0.2453],\n",
      "         ...,\n",
      "         [-0.1982,  1.6690, -4.0155,  ..., -0.9422, -0.7568, -2.5739],\n",
      "         [ 0.4941,  0.6821, -3.5591,  ..., -0.4079, -0.8808, -2.2032],\n",
      "         [-0.1750,  0.1639, -2.7219,  ..., -0.3246, -0.7513, -0.7439]]],\n",
      "       grad_fn=<PermuteBackward0>)\n",
      "torch.Size([1, 1010, 768])\n"
     ]
    }
   ],
   "source": [
    "result = model(**encoded_input)\n",
    "print(result.last_hidden_state)\n",
    "print(result.last_hidden_state.shape)\n"
   ]
  }
 ],
 "metadata": {
  "kernelspec": {
   "display_name": "Python 3",
   "language": "python",
   "name": "python3"
  },
  "language_info": {
   "codemirror_mode": {
    "name": "ipython",
    "version": 2
   },
   "file_extension": ".py",
   "mimetype": "text/x-python",
   "name": "python",
   "nbconvert_exporter": "python",
   "pygments_lexer": "ipython2",
   "version": "2.7.6"
  }
 },
 "nbformat": 4,
 "nbformat_minor": 0
}