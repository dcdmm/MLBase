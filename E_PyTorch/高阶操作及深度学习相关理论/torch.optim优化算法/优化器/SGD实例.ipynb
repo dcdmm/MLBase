{
 "cells": [
  {
   "cell_type": "code",
   "execution_count": 1,
   "metadata": {
    "collapsed": true
   },
   "outputs": [],
   "source": [
    "import torch.nn as nn\n",
    "import torch.optim as optim\n",
    "import torch.utils.data as Data\n",
    "import torch\n",
    "import numpy as np"
   ]
  },
  {
   "cell_type": "code",
   "execution_count": 2,
   "metadata": {
    "pycharm": {
     "name": "#%%\n"
    }
   },
   "outputs": [],
   "source": [
    "# 手写数字训练数据集\n",
    "mnist = np.load(\"../../../../Other/datasets/NumPy/mnist.npz\")\n",
    "X_train, y_train, X_test, y_test = torch.unsqueeze(torch.tensor(mnist['x_train']), 1).to(dtype=torch.float32), \\\n",
    "                                   torch.tensor(mnist['y_train']).to(dtype=torch.long), \\\n",
    "                                   torch.unsqueeze(torch.tensor(mnist['x_test']), 1).to(dtype=torch.float32), \\\n",
    "                                   torch.tensor(mnist['y_test']).to(dtype=torch.long)"
   ]
  },
  {
   "cell_type": "code",
   "execution_count": 3,
   "outputs": [],
   "source": [
    "batch_size = 200\n",
    "train_data = Data.TensorDataset(X_train, y_train)\n",
    "train_loader = Data.DataLoader(dataset=train_data,\n",
    "                               batch_size=batch_size,\n",
    "                               shuffle=True)\n",
    "train_X = Data.DataLoader(X_train, batch_size=batch_size)\n",
    "test_X = Data.DataLoader(X_test, batch_size=batch_size)"
   ],
   "metadata": {
    "collapsed": false,
    "pycharm": {
     "name": "#%%\n"
    }
   }
  },
  {
   "cell_type": "code",
   "execution_count": 5,
   "outputs": [],
   "source": [
    "class LeNet(nn.Module):\n",
    "    def __init__(self):\n",
    "        super(LeNet, self).__init__()\n",
    "        self.featrues = nn.Sequential(  # 内部实现了forward函数;各模块顺序执行\n",
    "            nn.Conv2d(1, 6, 3),\n",
    "            nn.ReLU(),\n",
    "            nn.MaxPool2d(2, 2),\n",
    "            nn.Conv2d(6, 16, 3),\n",
    "            nn.ReLU(),\n",
    "            nn.MaxPool2d(2, 2)\n",
    "        )\n",
    "        self.classifier = nn.Sequential(\n",
    "            nn.Linear(400, 120),\n",
    "            nn.ReLU(),\n",
    "            nn.Linear(120, 84),\n",
    "            nn.ReLU(),\n",
    "            nn.Linear(84, 10),  # 10分类问题\n",
    "        )\n",
    "\n",
    "    def forward(self, x):\n",
    "        x = self.featrues(x)\n",
    "        x = x.reshape(x.size()[0], -1)\n",
    "        x = self.classifier(x)\n",
    "        return x"
   ],
   "metadata": {
    "collapsed": false,
    "pycharm": {
     "name": "#%%\n"
    }
   }
  },
  {
   "cell_type": "code",
   "execution_count": 6,
   "metadata": {
    "pycharm": {
     "name": "#%%\n"
    }
   },
   "outputs": [],
   "source": [
    "learning_rate = 0.01\n",
    "epochs = 5\n",
    "criteon = nn.CrossEntropyLoss()  # 定义损失函数为交叉熵\n",
    "device = torch.device(\"cuda\" if torch.cuda.is_available() else \"cpu\")\n",
    "net = LeNet()\n",
    "lenet = net.to(device)  # 模型设备转移必须在优化器定义前执行\n",
    "\n",
    "# 多参数组的SGD优化器\n",
    "optimizer = optim.SGD([dict(params=net.featrues.parameters(), momentum=0.9),\n",
    "                       dict(params=net.classifier.parameters(),\n",
    "                            momentum=0.95,  # 动量参数\\alpha;默认momentum=0\n",
    "                            nesterov=True)],  # 是否启用Nesterov动量\n",
    "                      lr=learning_rate)  # 学习率"
   ]
  },
  {
   "cell_type": "code",
   "execution_count": 7,
   "outputs": [],
   "source": [
    "from torch_model.train_evaluate import Train_Evaluate\n",
    "\n",
    "t_and_v = Train_Evaluate(model=lenet, optimizer=optimizer, criterion=criteon, epochs=5)"
   ],
   "metadata": {
    "collapsed": false,
    "pycharm": {
     "name": "#%%\n"
    }
   }
  },
  {
   "cell_type": "code",
   "execution_count": 9,
   "outputs": [
    {
     "name": "stdout",
     "output_type": "stream",
     "text": [
      "Train Epoch: 0  [0    /60000 (0  %)]\tLoss: 0.086389\n",
      "Train Epoch: 0  [2000 /60000 (3  %)]\tLoss: 0.058056\n",
      "Train Epoch: 0  [4000 /60000 (7  %)]\tLoss: 0.096914\n",
      "Train Epoch: 0  [6000 /60000 (10 %)]\tLoss: 0.119162\n",
      "Train Epoch: 0  [8000 /60000 (13 %)]\tLoss: 0.025495\n",
      "Train Epoch: 0  [10000/60000 (17 %)]\tLoss: 0.047373\n",
      "Train Epoch: 0  [12000/60000 (20 %)]\tLoss: 0.057710\n",
      "Train Epoch: 0  [14000/60000 (23 %)]\tLoss: 0.107245\n",
      "Train Epoch: 0  [16000/60000 (27 %)]\tLoss: 0.026530\n",
      "Train Epoch: 0  [18000/60000 (30 %)]\tLoss: 0.051508\n",
      "Train Epoch: 0  [20000/60000 (33 %)]\tLoss: 0.022600\n",
      "Train Epoch: 0  [22000/60000 (37 %)]\tLoss: 0.043644\n",
      "Train Epoch: 0  [24000/60000 (40 %)]\tLoss: 0.056189\n",
      "Train Epoch: 0  [26000/60000 (43 %)]\tLoss: 0.071068\n",
      "Train Epoch: 0  [28000/60000 (47 %)]\tLoss: 0.060058\n",
      "Train Epoch: 0  [30000/60000 (50 %)]\tLoss: 0.053159\n",
      "Train Epoch: 0  [32000/60000 (53 %)]\tLoss: 0.101320\n",
      "Train Epoch: 0  [34000/60000 (57 %)]\tLoss: 0.091254\n",
      "Train Epoch: 0  [36000/60000 (60 %)]\tLoss: 0.039646\n",
      "Train Epoch: 0  [38000/60000 (63 %)]\tLoss: 0.069861\n",
      "Train Epoch: 0  [40000/60000 (67 %)]\tLoss: 0.046561\n",
      "Train Epoch: 0  [42000/60000 (70 %)]\tLoss: 0.075852\n",
      "Train Epoch: 0  [44000/60000 (73 %)]\tLoss: 0.026778\n",
      "Train Epoch: 0  [46000/60000 (77 %)]\tLoss: 0.093852\n",
      "Train Epoch: 0  [48000/60000 (80 %)]\tLoss: 0.101308\n",
      "Train Epoch: 0  [50000/60000 (83 %)]\tLoss: 0.015407\n",
      "Train Epoch: 0  [52000/60000 (87 %)]\tLoss: 0.043514\n",
      "Train Epoch: 0  [54000/60000 (90 %)]\tLoss: 0.104546\n",
      "Train Epoch: 0  [56000/60000 (93 %)]\tLoss: 0.070753\n",
      "Train Epoch: 0  [58000/60000 (97 %)]\tLoss: 0.043708\n",
      "Train Epoch: 0  [60000/60000 (100%)]\tLoss: 0.148869\n",
      "----------------------------------------------------------------------------------------------------\n",
      "Train Epoch: 1  [0    /60000 (0  %)]\tLoss: 0.077099\n",
      "Train Epoch: 1  [2000 /60000 (3  %)]\tLoss: 0.068229\n",
      "Train Epoch: 1  [4000 /60000 (7  %)]\tLoss: 0.078340\n",
      "Train Epoch: 1  [6000 /60000 (10 %)]\tLoss: 0.063262\n",
      "Train Epoch: 1  [8000 /60000 (13 %)]\tLoss: 0.076533\n",
      "Train Epoch: 1  [10000/60000 (17 %)]\tLoss: 0.046752\n",
      "Train Epoch: 1  [12000/60000 (20 %)]\tLoss: 0.056882\n",
      "Train Epoch: 1  [14000/60000 (23 %)]\tLoss: 0.038689\n",
      "Train Epoch: 1  [16000/60000 (27 %)]\tLoss: 0.048572\n",
      "Train Epoch: 1  [18000/60000 (30 %)]\tLoss: 0.069898\n",
      "Train Epoch: 1  [20000/60000 (33 %)]\tLoss: 0.105665\n",
      "Train Epoch: 1  [22000/60000 (37 %)]\tLoss: 0.090766\n",
      "Train Epoch: 1  [24000/60000 (40 %)]\tLoss: 0.084099\n",
      "Train Epoch: 1  [26000/60000 (43 %)]\tLoss: 0.095027\n",
      "Train Epoch: 1  [28000/60000 (47 %)]\tLoss: 0.077710\n",
      "Train Epoch: 1  [30000/60000 (50 %)]\tLoss: 0.043257\n",
      "Train Epoch: 1  [32000/60000 (53 %)]\tLoss: 0.041492\n",
      "Train Epoch: 1  [34000/60000 (57 %)]\tLoss: 0.063340\n",
      "Train Epoch: 1  [36000/60000 (60 %)]\tLoss: 0.093457\n",
      "Train Epoch: 1  [38000/60000 (63 %)]\tLoss: 0.060283\n",
      "Train Epoch: 1  [40000/60000 (67 %)]\tLoss: 0.091982\n",
      "Train Epoch: 1  [42000/60000 (70 %)]\tLoss: 0.042942\n",
      "Train Epoch: 1  [44000/60000 (73 %)]\tLoss: 0.173628\n",
      "Train Epoch: 1  [46000/60000 (77 %)]\tLoss: 0.104523\n",
      "Train Epoch: 1  [48000/60000 (80 %)]\tLoss: 0.022780\n",
      "Train Epoch: 1  [50000/60000 (83 %)]\tLoss: 0.099258\n",
      "Train Epoch: 1  [52000/60000 (87 %)]\tLoss: 0.141411\n",
      "Train Epoch: 1  [54000/60000 (90 %)]\tLoss: 0.046015\n",
      "Train Epoch: 1  [56000/60000 (93 %)]\tLoss: 0.071746\n",
      "Train Epoch: 1  [58000/60000 (97 %)]\tLoss: 0.101165\n",
      "Train Epoch: 1  [60000/60000 (100%)]\tLoss: 0.066722\n",
      "----------------------------------------------------------------------------------------------------\n",
      "Train Epoch: 2  [0    /60000 (0  %)]\tLoss: 0.100973\n",
      "Train Epoch: 2  [2000 /60000 (3  %)]\tLoss: 0.056431\n",
      "Train Epoch: 2  [4000 /60000 (7  %)]\tLoss: 0.018642\n",
      "Train Epoch: 2  [6000 /60000 (10 %)]\tLoss: 0.041774\n",
      "Train Epoch: 2  [8000 /60000 (13 %)]\tLoss: 0.047662\n",
      "Train Epoch: 2  [10000/60000 (17 %)]\tLoss: 0.043788\n",
      "Train Epoch: 2  [12000/60000 (20 %)]\tLoss: 0.010034\n",
      "Train Epoch: 2  [14000/60000 (23 %)]\tLoss: 0.074406\n",
      "Train Epoch: 2  [16000/60000 (27 %)]\tLoss: 0.092040\n",
      "Train Epoch: 2  [18000/60000 (30 %)]\tLoss: 0.122986\n",
      "Train Epoch: 2  [20000/60000 (33 %)]\tLoss: 0.078015\n",
      "Train Epoch: 2  [22000/60000 (37 %)]\tLoss: 0.101940\n",
      "Train Epoch: 2  [24000/60000 (40 %)]\tLoss: 0.051019\n",
      "Train Epoch: 2  [26000/60000 (43 %)]\tLoss: 0.086933\n",
      "Train Epoch: 2  [28000/60000 (47 %)]\tLoss: 0.140974\n",
      "Train Epoch: 2  [30000/60000 (50 %)]\tLoss: 0.056638\n",
      "Train Epoch: 2  [32000/60000 (53 %)]\tLoss: 0.029201\n",
      "Train Epoch: 2  [34000/60000 (57 %)]\tLoss: 0.028390\n",
      "Train Epoch: 2  [36000/60000 (60 %)]\tLoss: 0.042026\n",
      "Train Epoch: 2  [38000/60000 (63 %)]\tLoss: 0.060358\n",
      "Train Epoch: 2  [40000/60000 (67 %)]\tLoss: 0.037772\n",
      "Train Epoch: 2  [42000/60000 (70 %)]\tLoss: 0.053285\n",
      "Train Epoch: 2  [44000/60000 (73 %)]\tLoss: 0.090623\n",
      "Train Epoch: 2  [46000/60000 (77 %)]\tLoss: 0.076950\n",
      "Train Epoch: 2  [48000/60000 (80 %)]\tLoss: 0.043276\n",
      "Train Epoch: 2  [50000/60000 (83 %)]\tLoss: 0.136698\n",
      "Train Epoch: 2  [52000/60000 (87 %)]\tLoss: 0.154833\n",
      "Train Epoch: 2  [54000/60000 (90 %)]\tLoss: 0.052280\n",
      "Train Epoch: 2  [56000/60000 (93 %)]\tLoss: 0.055255\n",
      "Train Epoch: 2  [58000/60000 (97 %)]\tLoss: 0.039187\n",
      "Train Epoch: 2  [60000/60000 (100%)]\tLoss: 0.080742\n",
      "----------------------------------------------------------------------------------------------------\n",
      "Train Epoch: 3  [0    /60000 (0  %)]\tLoss: 0.016519\n",
      "Train Epoch: 3  [2000 /60000 (3  %)]\tLoss: 0.050852\n",
      "Train Epoch: 3  [4000 /60000 (7  %)]\tLoss: 0.034064\n",
      "Train Epoch: 3  [6000 /60000 (10 %)]\tLoss: 0.017634\n",
      "Train Epoch: 3  [8000 /60000 (13 %)]\tLoss: 0.009036\n",
      "Train Epoch: 3  [10000/60000 (17 %)]\tLoss: 0.027211\n",
      "Train Epoch: 3  [12000/60000 (20 %)]\tLoss: 0.067794\n",
      "Train Epoch: 3  [14000/60000 (23 %)]\tLoss: 0.052093\n",
      "Train Epoch: 3  [16000/60000 (27 %)]\tLoss: 0.038318\n",
      "Train Epoch: 3  [18000/60000 (30 %)]\tLoss: 0.036234\n",
      "Train Epoch: 3  [20000/60000 (33 %)]\tLoss: 0.086700\n",
      "Train Epoch: 3  [22000/60000 (37 %)]\tLoss: 0.069060\n",
      "Train Epoch: 3  [24000/60000 (40 %)]\tLoss: 0.090824\n",
      "Train Epoch: 3  [26000/60000 (43 %)]\tLoss: 0.021485\n",
      "Train Epoch: 3  [28000/60000 (47 %)]\tLoss: 0.058863\n",
      "Train Epoch: 3  [30000/60000 (50 %)]\tLoss: 0.076379\n",
      "Train Epoch: 3  [32000/60000 (53 %)]\tLoss: 0.077973\n",
      "Train Epoch: 3  [34000/60000 (57 %)]\tLoss: 0.056705\n",
      "Train Epoch: 3  [36000/60000 (60 %)]\tLoss: 0.065843\n",
      "Train Epoch: 3  [38000/60000 (63 %)]\tLoss: 0.075466\n",
      "Train Epoch: 3  [40000/60000 (67 %)]\tLoss: 0.073116\n",
      "Train Epoch: 3  [42000/60000 (70 %)]\tLoss: 0.123311\n",
      "Train Epoch: 3  [44000/60000 (73 %)]\tLoss: 0.026135\n",
      "Train Epoch: 3  [46000/60000 (77 %)]\tLoss: 0.032119\n",
      "Train Epoch: 3  [48000/60000 (80 %)]\tLoss: 0.058429\n",
      "Train Epoch: 3  [50000/60000 (83 %)]\tLoss: 0.037236\n",
      "Train Epoch: 3  [52000/60000 (87 %)]\tLoss: 0.067115\n",
      "Train Epoch: 3  [54000/60000 (90 %)]\tLoss: 0.121391\n",
      "Train Epoch: 3  [56000/60000 (93 %)]\tLoss: 0.056506\n",
      "Train Epoch: 3  [58000/60000 (97 %)]\tLoss: 0.140788\n",
      "Train Epoch: 3  [60000/60000 (100%)]\tLoss: 0.060190\n",
      "----------------------------------------------------------------------------------------------------\n",
      "Train Epoch: 4  [0    /60000 (0  %)]\tLoss: 0.047128\n",
      "Train Epoch: 4  [2000 /60000 (3  %)]\tLoss: 0.005739\n",
      "Train Epoch: 4  [4000 /60000 (7  %)]\tLoss: 0.086140\n",
      "Train Epoch: 4  [6000 /60000 (10 %)]\tLoss: 0.070288\n",
      "Train Epoch: 4  [8000 /60000 (13 %)]\tLoss: 0.079879\n",
      "Train Epoch: 4  [10000/60000 (17 %)]\tLoss: 0.150346\n",
      "Train Epoch: 4  [12000/60000 (20 %)]\tLoss: 0.082816\n",
      "Train Epoch: 4  [14000/60000 (23 %)]\tLoss: 0.019885\n",
      "Train Epoch: 4  [16000/60000 (27 %)]\tLoss: 0.082800\n",
      "Train Epoch: 4  [18000/60000 (30 %)]\tLoss: 0.042866\n",
      "Train Epoch: 4  [20000/60000 (33 %)]\tLoss: 0.096103\n",
      "Train Epoch: 4  [22000/60000 (37 %)]\tLoss: 0.063538\n",
      "Train Epoch: 4  [24000/60000 (40 %)]\tLoss: 0.073561\n",
      "Train Epoch: 4  [26000/60000 (43 %)]\tLoss: 0.124768\n",
      "Train Epoch: 4  [28000/60000 (47 %)]\tLoss: 0.024378\n",
      "Train Epoch: 4  [30000/60000 (50 %)]\tLoss: 0.044090\n",
      "Train Epoch: 4  [32000/60000 (53 %)]\tLoss: 0.025238\n",
      "Train Epoch: 4  [34000/60000 (57 %)]\tLoss: 0.140765\n",
      "Train Epoch: 4  [36000/60000 (60 %)]\tLoss: 0.059255\n",
      "Train Epoch: 4  [38000/60000 (63 %)]\tLoss: 0.040716\n",
      "Train Epoch: 4  [40000/60000 (67 %)]\tLoss: 0.140388\n",
      "Train Epoch: 4  [42000/60000 (70 %)]\tLoss: 0.113316\n",
      "Train Epoch: 4  [44000/60000 (73 %)]\tLoss: 0.065129\n",
      "Train Epoch: 4  [46000/60000 (77 %)]\tLoss: 0.095911\n",
      "Train Epoch: 4  [48000/60000 (80 %)]\tLoss: 0.069758\n",
      "Train Epoch: 4  [50000/60000 (83 %)]\tLoss: 0.020200\n",
      "Train Epoch: 4  [52000/60000 (87 %)]\tLoss: 0.074002\n",
      "Train Epoch: 4  [54000/60000 (90 %)]\tLoss: 0.075752\n",
      "Train Epoch: 4  [56000/60000 (93 %)]\tLoss: 0.036892\n",
      "Train Epoch: 4  [58000/60000 (97 %)]\tLoss: 0.048629\n",
      "Train Epoch: 4  [60000/60000 (100%)]\tLoss: 0.053978\n",
      "----------------------------------------------------------------------------------------------------\n"
     ]
    },
    {
     "data": {
      "text/plain": "[[0.09028316289186478, 0.10863973200321198],\n [0.09001655131578445, 0.10880725085735321],\n [0.05875048041343689, 0.0808248519897461],\n [0.054144714027643204, 0.07462306320667267],\n [0.04376066476106644, 0.06450728327035904]]"
     },
     "execution_count": 9,
     "metadata": {},
     "output_type": "execute_result"
    }
   ],
   "source": [
    "metric_reslut = t_and_v.train_eval(train_loader=train_loader, valid_sets=[(train_X, y_train), (test_X, y_test)])\n",
    "metric_reslut  # 每一轮验证数据集的损失值\n",
    "\n"
   ],
   "metadata": {
    "collapsed": false,
    "pycharm": {
     "name": "#%%\n"
    }
   }
  }
 ],
 "metadata": {
  "kernelspec": {
   "display_name": "Python 3",
   "language": "python",
   "name": "python3"
  },
  "language_info": {
   "codemirror_mode": {
    "name": "ipython",
    "version": 3
   },
   "file_extension": ".py",
   "mimetype": "text/x-python",
   "name": "python",
   "nbconvert_exporter": "python",
   "pygments_lexer": "ipython3",
   "version": "3.7.7"
  },
  "toc": {
   "base_numbering": 1,
   "nav_menu": {},
   "number_sections": true,
   "sideBar": true,
   "skip_h1_title": false,
   "title_cell": "Table of Contents",
   "title_sidebar": "Contents",
   "toc_cell": false,
   "toc_position": {},
   "toc_section_display": true,
   "toc_window_display": false
  }
 },
 "nbformat": 4,
 "nbformat_minor": 1
}