{
 "cells": [
  {
   "cell_type": "code",
   "execution_count": 4,
   "metadata": {
    "collapsed": true
   },
   "outputs": [
    {
     "name": "stdout",
     "output_type": "stream",
     "text": [
      "内部类的方法\n",
      "外部类的类方法\n",
      "外部类的方法\n"
     ]
    }
   ],
   "source": [
    "class A(object):\n",
    "    def __init__(self, name):\n",
    "        self.name = name\n",
    "\n",
    "    @classmethod\n",
    "    def outer_class_method(cls):\n",
    "        print('外部类的类方法')\n",
    "\n",
    "    def out_object_method(self):\n",
    "        print(\"外部类的方法\")\n",
    "\n",
    "    class B(object):\n",
    "        def __init__(self, inner_name, obj):\n",
    "            self.inner_name = inner_name\n",
    "            self.obj = obj\n",
    "\n",
    "        def inner_method(self):\n",
    "            print(\"内部类的方法\")\n",
    "            A.outer_class_method()\n",
    "            self.obj.out_object_method()\n",
    "\n",
    "\n",
    "a = A(\"Join\")\n",
    "b = a.B(\"July\", a)  # 内部类相当于外部类的一个属性\n",
    "b.inner_method()\n"
   ]
  }
 ],
 "metadata": {
  "kernelspec": {
   "display_name": "Python 3",
   "language": "python",
   "name": "python3"
  },
  "language_info": {
   "codemirror_mode": {
    "name": "ipython",
    "version": 2
   },
   "file_extension": ".py",
   "mimetype": "text/x-python",
   "name": "python",
   "nbconvert_exporter": "python",
   "pygments_lexer": "ipython2",
   "version": "2.7.6"
  }
 },
 "nbformat": 4,
 "nbformat_minor": 0
}