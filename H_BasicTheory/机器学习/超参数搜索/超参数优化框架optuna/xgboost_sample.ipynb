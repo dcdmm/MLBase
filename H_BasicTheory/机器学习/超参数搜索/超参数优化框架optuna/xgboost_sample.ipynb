{
 "cells": [
  {
   "cell_type": "code",
   "execution_count": 87,
   "outputs": [],
   "source": [
    "import numpy as np\n",
    "import optuna\n",
    "import sklearn.datasets\n",
    "import sklearn.metrics\n",
    "from sklearn.model_selection import train_test_split\n",
    "import xgboost as xgb"
   ],
   "metadata": {
    "collapsed": false,
    "pycharm": {
     "name": "#%%\n"
    }
   }
  },
  {
   "cell_type": "code",
   "execution_count": 88,
   "outputs": [
    {
     "name": "stdout",
     "output_type": "stream",
     "text": [
      "(569, 30)\n"
     ]
    }
   ],
   "source": [
    "# 二分类问题\n",
    "data, target = sklearn.datasets.load_breast_cancer(return_X_y=True)\n",
    "print(data.shape)"
   ],
   "metadata": {
    "collapsed": false,
    "pycharm": {
     "name": "#%%\n"
    }
   }
  },
  {
   "cell_type": "code",
   "execution_count": 89,
   "outputs": [],
   "source": [
    "# 第一个参数必须为trial\n",
    "def objective(trial, data, target):\n",
    "    train_x, valid_x, train_y, valid_y = train_test_split(data, target, test_size=0.25)\n",
    "    dtrain = xgb.DMatrix(train_x, label=train_y)\n",
    "    dvalid = xgb.DMatrix(valid_x, label=valid_y)\n",
    "\n",
    "    param = {\n",
    "        \"verbosity\": 0,\n",
    "        \"objective\": \"binary:logistic\",\n",
    "        \"tree_method\": \"exact\",\n",
    "        # 超参数类型为分类数值\n",
    "        \"booster\": trial.suggest_categorical(name=\"booster\",  # 参数名称\n",
    "                                             choices=[\"gbtree\", \"gblinear\", \"dart\"]),\n",
    "        # 超参数类型为浮点数\n",
    "        \"lambda\": trial.suggest_float(name=\"lambda\",\n",
    "                                      # 搜索范围为[low, high);不包括high\n",
    "                                      low=1e-8, high=1.0,\n",
    "                                      # If log is true, the value is sampled from the range in the log domain.\n",
    "                                      # Otherwise, the value is sampled from the range in the linear domain\n",
    "                                      log=True),\n",
    "        \"alpha\": trial.suggest_float(\"alpha\", 1e-8, 1.0, log=True),\n",
    "        \"subsample\": trial.suggest_float(\"subsample\", 0.2, 1.0),\n",
    "        \"colsample_bytree\": trial.suggest_float(\"colsample_bytree\", 0.2, 1.0),\n",
    "    }\n",
    "\n",
    "    if param[\"booster\"] in [\"gbtree\", \"dart\"]:\n",
    "        param[\"max_depth\"] = trial.suggest_int(\"max_depth\", 3, 9,\n",
    "                                               # A step of discretization.\n",
    "                                               step=2)\n",
    "        param[\"min_child_weight\"] = trial.suggest_int(\"min_child_weight\", 2, 10)\n",
    "        param[\"eta\"] = trial.suggest_float(\"eta\", 1e-8, 1.0, log=True)\n",
    "        param[\"gamma\"] = trial.suggest_float(\"gamma\", 1e-8, 1.0, log=True)\n",
    "        param[\"grow_policy\"] = trial.suggest_categorical(\"grow_policy\", [\"depthwise\", \"lossguide\"])\n",
    "\n",
    "    if param[\"booster\"] == \"dart\":\n",
    "        param[\"sample_type\"] = trial.suggest_categorical(\"sample_type\", [\"uniform\", \"weighted\"])\n",
    "        param[\"normalize_type\"] = trial.suggest_categorical(\"normalize_type\", [\"tree\", \"forest\"])\n",
    "        param[\"rate_drop\"] = trial.suggest_float(\"rate_drop\", 1e-8, 1.0, log=True)\n",
    "        param[\"skip_drop\"] = trial.suggest_float(\"skip_drop\", 1e-8, 1.0, log=True)\n",
    "\n",
    "    # 也可在次进行交叉验证\n",
    "    bst = xgb.train(param, dtrain)\n",
    "    preds = bst.predict(dvalid)\n",
    "    pred_labels = np.around(preds)\n",
    "    accuracy = sklearn.metrics.accuracy_score(valid_y, pred_labels)\n",
    "    return accuracy  # 返回一个评价指标"
   ],
   "metadata": {
    "collapsed": false,
    "pycharm": {
     "name": "#%%\n"
    }
   }
  },
  {
   "cell_type": "code",
   "execution_count": 90,
   "outputs": [
    {
     "name": "stderr",
     "output_type": "stream",
     "text": [
      "\u001B[32m[I 2021-09-18 18:46:47,294]\u001B[0m A new study created in memory with name: no-name-2af3af7d-a418-4ebf-91c5-9b58da0d81c0\u001B[0m\n",
      "C:\\Users\\duanm\\anaconda3\\lib\\site-packages\\optuna\\study\\study.py:393: FutureWarning: `n_jobs` argument has been deprecated in v2.7.0. This feature will be removed in v4.0.0. See https://github.com/optuna/optuna/releases/tag/v2.7.0.\n",
      "  warnings.warn(\n",
      "\u001B[32m[I 2021-09-18 18:46:47,372]\u001B[0m Trial 0 finished with value: 0.8601398601398601 and parameters: {'booster': 'gblinear', 'lambda': 4.902955253031039e-05, 'alpha': 0.0029160557364711266, 'subsample': 0.3481567275053239, 'colsample_bytree': 0.7766045626335871}. Best is trial 0 with value: 0.8601398601398601.\u001B[0m\n",
      "\u001B[32m[I 2021-09-18 18:46:47,386]\u001B[0m Trial 5 finished with value: 0.9090909090909091 and parameters: {'booster': 'gblinear', 'lambda': 2.5246689512293522e-06, 'alpha': 1.2919241074245777e-07, 'subsample': 0.9607942965364187, 'colsample_bytree': 0.9983025282598896}. Best is trial 5 with value: 0.9090909090909091.\u001B[0m\n",
      "\u001B[32m[I 2021-09-18 18:46:47,392]\u001B[0m Trial 3 finished with value: 0.9090909090909091 and parameters: {'booster': 'gblinear', 'lambda': 6.212058435568517e-07, 'alpha': 1.218025692017841e-05, 'subsample': 0.9627615544362584, 'colsample_bytree': 0.8479649568115468}. Best is trial 5 with value: 0.9090909090909091.\u001B[0m\n",
      "\u001B[32m[I 2021-09-18 18:46:47,400]\u001B[0m Trial 6 finished with value: 0.9440559440559441 and parameters: {'booster': 'gblinear', 'lambda': 0.00015787743512902974, 'alpha': 0.002891053810696139, 'subsample': 0.5986669772776683, 'colsample_bytree': 0.945578403963409}. Best is trial 6 with value: 0.9440559440559441.\u001B[0m\n",
      "\u001B[32m[I 2021-09-18 18:46:47,406]\u001B[0m Trial 12 finished with value: 0.8671328671328671 and parameters: {'booster': 'gblinear', 'lambda': 7.881909714903547e-05, 'alpha': 0.09994992912904087, 'subsample': 0.9620256207528517, 'colsample_bytree': 0.4207282727076475}. Best is trial 6 with value: 0.9440559440559441.\u001B[0m\n",
      "\u001B[32m[I 2021-09-18 18:46:47,408]\u001B[0m Trial 13 finished with value: 0.9440559440559441 and parameters: {'booster': 'gblinear', 'lambda': 8.232330329476726e-08, 'alpha': 1.4332558808536754e-07, 'subsample': 0.5479789932950094, 'colsample_bytree': 0.6677330599480271}. Best is trial 6 with value: 0.9440559440559441.\u001B[0m\n",
      "\u001B[32m[I 2021-09-18 18:46:47,410]\u001B[0m Trial 11 finished with value: 0.9020979020979021 and parameters: {'booster': 'gblinear', 'lambda': 7.467265906015168e-08, 'alpha': 0.0005196462740200736, 'subsample': 0.6457036035062738, 'colsample_bytree': 0.75076939819046}. Best is trial 6 with value: 0.9440559440559441.\u001B[0m\n",
      "\u001B[32m[I 2021-09-18 18:46:47,410]\u001B[0m Trial 7 finished with value: 0.916083916083916 and parameters: {'booster': 'gblinear', 'lambda': 1.7601327742078572e-06, 'alpha': 0.16231364502572013, 'subsample': 0.2949088864861, 'colsample_bytree': 0.5064531584272962}. Best is trial 6 with value: 0.9440559440559441.\u001B[0m\n",
      "\u001B[32m[I 2021-09-18 18:46:47,411]\u001B[0m Trial 8 finished with value: 0.8951048951048951 and parameters: {'booster': 'gblinear', 'lambda': 0.00589703884990937, 'alpha': 0.6388407471555729, 'subsample': 0.6345308929829452, 'colsample_bytree': 0.22655910658800124}. Best is trial 6 with value: 0.9440559440559441.\u001B[0m\n",
      "\u001B[32m[I 2021-09-18 18:46:47,412]\u001B[0m Trial 1 finished with value: 0.916083916083916 and parameters: {'booster': 'dart', 'lambda': 6.463794775338948e-05, 'alpha': 6.198139314468906e-08, 'subsample': 0.6155915376367196, 'colsample_bytree': 0.22646735274515795, 'max_depth': 7, 'min_child_weight': 6, 'eta': 0.012832669146925598, 'gamma': 2.7775315191791743e-06, 'grow_policy': 'lossguide', 'sample_type': 'uniform', 'normalize_type': 'forest', 'rate_drop': 0.0018065335125789477, 'skip_drop': 8.022800173689583e-06}. Best is trial 6 with value: 0.9440559440559441.\u001B[0m\n",
      "\u001B[32m[I 2021-09-18 18:46:47,437]\u001B[0m Trial 15 finished with value: 0.9370629370629371 and parameters: {'booster': 'gblinear', 'lambda': 1.0972480151341787e-07, 'alpha': 2.863258230681866e-07, 'subsample': 0.3820312921327485, 'colsample_bytree': 0.9249115745084109}. Best is trial 6 with value: 0.9440559440559441.\u001B[0m\n",
      "\u001B[32m[I 2021-09-18 18:46:47,447]\u001B[0m Trial 2 finished with value: 0.9440559440559441 and parameters: {'booster': 'gbtree', 'lambda': 0.00042457696457129363, 'alpha': 0.010764194585225156, 'subsample': 0.7014516361927099, 'colsample_bytree': 0.6220508380142362, 'max_depth': 5, 'min_child_weight': 7, 'eta': 3.048726949883094e-06, 'gamma': 0.0027207774202808906, 'grow_policy': 'lossguide'}. Best is trial 6 with value: 0.9440559440559441.\u001B[0m\n",
      "\u001B[32m[I 2021-09-18 18:46:47,448]\u001B[0m Trial 10 finished with value: 0.8951048951048951 and parameters: {'booster': 'gbtree', 'lambda': 0.15845369687478822, 'alpha': 4.4627234248263944e-07, 'subsample': 0.41970081928205405, 'colsample_bytree': 0.37867369484590485, 'max_depth': 7, 'min_child_weight': 4, 'eta': 0.0005220875687185668, 'gamma': 0.0120417457806491, 'grow_policy': 'lossguide'}. Best is trial 6 with value: 0.9440559440559441.\u001B[0m\n",
      "\u001B[32m[I 2021-09-18 18:46:47,461]\u001B[0m Trial 4 finished with value: 0.916083916083916 and parameters: {'booster': 'gbtree', 'lambda': 0.00011531276446071742, 'alpha': 0.00452637705634499, 'subsample': 0.7759896852442647, 'colsample_bytree': 0.6840884369371703, 'max_depth': 7, 'min_child_weight': 6, 'eta': 0.0003292104373972223, 'gamma': 0.006754149799207834, 'grow_policy': 'depthwise'}. Best is trial 6 with value: 0.9440559440559441.\u001B[0m\n",
      "\u001B[32m[I 2021-09-18 18:46:47,470]\u001B[0m Trial 14 finished with value: 0.951048951048951 and parameters: {'booster': 'gbtree', 'lambda': 9.338424570947044e-05, 'alpha': 8.761941764387575e-07, 'subsample': 0.6218918523373539, 'colsample_bytree': 0.6046403234769031, 'max_depth': 5, 'min_child_weight': 8, 'eta': 0.04975409334960545, 'gamma': 3.2697898361545805e-07, 'grow_policy': 'lossguide'}. Best is trial 14 with value: 0.951048951048951.\u001B[0m\n",
      "\u001B[32m[I 2021-09-18 18:46:47,501]\u001B[0m Trial 9 finished with value: 0.8811188811188811 and parameters: {'booster': 'dart', 'lambda': 4.611560200957008e-06, 'alpha': 1.8943691969510576e-07, 'subsample': 0.4283846684487036, 'colsample_bytree': 0.5875297583092947, 'max_depth': 7, 'min_child_weight': 8, 'eta': 2.980372768649451e-06, 'gamma': 0.17054989117549696, 'grow_policy': 'depthwise', 'sample_type': 'weighted', 'normalize_type': 'forest', 'rate_drop': 0.00021438966336205216, 'skip_drop': 6.770592727538101e-05}. Best is trial 14 with value: 0.951048951048951.\u001B[0m\n",
      "\u001B[32m[I 2021-09-18 18:46:47,560]\u001B[0m Trial 16 finished with value: 0.9370629370629371 and parameters: {'booster': 'gblinear', 'lambda': 0.010529073666235244, 'alpha': 1.1546645494166421e-06, 'subsample': 0.9980904564589401, 'colsample_bytree': 0.7457425299550409}. Best is trial 14 with value: 0.951048951048951.\u001B[0m\n",
      "\u001B[32m[I 2021-09-18 18:46:47,792]\u001B[0m Trial 19 finished with value: 0.9230769230769231 and parameters: {'booster': 'gbtree', 'lambda': 0.0026459190491466833, 'alpha': 1.6275673524834272e-05, 'subsample': 0.7949541473529784, 'colsample_bytree': 0.5668147826647727, 'max_depth': 3, 'min_child_weight': 9, 'eta': 2.329653409089322e-07, 'gamma': 1.755161435956808e-08, 'grow_policy': 'lossguide'}. Best is trial 14 with value: 0.951048951048951.\u001B[0m\n",
      "\u001B[32m[I 2021-09-18 18:46:47,804]\u001B[0m Trial 20 finished with value: 0.916083916083916 and parameters: {'booster': 'gbtree', 'lambda': 0.008037481800719523, 'alpha': 8.292560536581428e-06, 'subsample': 0.8185884324945207, 'colsample_bytree': 0.54841296343653, 'max_depth': 3, 'min_child_weight': 10, 'eta': 1.4795572481103602e-08, 'gamma': 4.805954143094437e-07, 'grow_policy': 'lossguide'}. Best is trial 14 with value: 0.951048951048951.\u001B[0m\n",
      "\u001B[32m[I 2021-09-18 18:46:47,871]\u001B[0m Trial 17 finished with value: 0.958041958041958 and parameters: {'booster': 'gbtree', 'lambda': 0.3700966634234942, 'alpha': 1.0274406779492521e-05, 'subsample': 0.796450686285791, 'colsample_bytree': 0.6600620642796706, 'max_depth': 3, 'min_child_weight': 10, 'eta': 1.3085280319298796e-08, 'gamma': 0.2956848515885117, 'grow_policy': 'lossguide'}. Best is trial 17 with value: 0.958041958041958.\u001B[0m\n",
      "\u001B[32m[I 2021-09-18 18:46:47,877]\u001B[0m Trial 24 finished with value: 0.951048951048951 and parameters: {'booster': 'gbtree', 'lambda': 0.0013727118418208897, 'alpha': 1.0239897069795362e-08, 'subsample': 0.7614339095957091, 'colsample_bytree': 0.5144387100504364, 'max_depth': 3, 'min_child_weight': 10, 'eta': 2.5495659436972584e-08, 'gamma': 3.308101591971321e-08, 'grow_policy': 'lossguide'}. Best is trial 17 with value: 0.958041958041958.\u001B[0m\n",
      "\u001B[32m[I 2021-09-18 18:46:47,890]\u001B[0m Trial 18 finished with value: 0.9230769230769231 and parameters: {'booster': 'gbtree', 'lambda': 0.0046716738022592645, 'alpha': 1.0651790125425675e-08, 'subsample': 0.7863183520790985, 'colsample_bytree': 0.546580453178941, 'max_depth': 3, 'min_child_weight': 10, 'eta': 1.0525202259229138e-08, 'gamma': 1.8000607169139798e-08, 'grow_policy': 'lossguide'}. Best is trial 17 with value: 0.958041958041958.\u001B[0m\n",
      "\u001B[32m[I 2021-09-18 18:46:47,943]\u001B[0m Trial 27 finished with value: 0.951048951048951 and parameters: {'booster': 'gbtree', 'lambda': 0.0017637582938152278, 'alpha': 1.0655301177594716e-08, 'subsample': 0.7783200497692201, 'colsample_bytree': 0.5458911533029283, 'max_depth': 3, 'min_child_weight': 10, 'eta': 2.1694658587307847e-08, 'gamma': 1.0241079356643602e-08, 'grow_policy': 'lossguide'}. Best is trial 17 with value: 0.958041958041958.\u001B[0m\n",
      "\u001B[32m[I 2021-09-18 18:46:48,048]\u001B[0m Trial 21 finished with value: 0.958041958041958 and parameters: {'booster': 'gbtree', 'lambda': 0.00588932862203574, 'alpha': 5.076867691969293e-06, 'subsample': 0.7775788359434743, 'colsample_bytree': 0.5510924923832382, 'max_depth': 3, 'min_child_weight': 10, 'eta': 2.9760636002436183e-08, 'gamma': 3.027546339611472e-08, 'grow_policy': 'lossguide'}. Best is trial 17 with value: 0.958041958041958.\u001B[0m\n",
      "\u001B[32m[I 2021-09-18 18:46:48,160]\u001B[0m Trial 23 finished with value: 0.9020979020979021 and parameters: {'booster': 'gbtree', 'lambda': 0.0023483580817845505, 'alpha': 2.3114633177540997e-05, 'subsample': 0.7449433521743042, 'colsample_bytree': 0.5378985337755376, 'max_depth': 3, 'min_child_weight': 10, 'eta': 1.4806747629562544e-08, 'gamma': 1.8489978644533815e-08, 'grow_policy': 'lossguide'}. Best is trial 17 with value: 0.958041958041958.\u001B[0m\n",
      "\u001B[32m[I 2021-09-18 18:46:48,170]\u001B[0m Trial 37 finished with value: 0.8881118881118881 and parameters: {'booster': 'gbtree', 'lambda': 0.4181328473084603, 'alpha': 3.077173458312794e-06, 'subsample': 0.8643128203363583, 'colsample_bytree': 0.3834223321376736, 'max_depth': 5, 'min_child_weight': 8, 'eta': 0.26383828010661653, 'gamma': 1.7262589312074076e-05, 'grow_policy': 'lossguide'}. Best is trial 17 with value: 0.958041958041958.\u001B[0m\n",
      "\u001B[32m[I 2021-09-18 18:46:48,217]\u001B[0m Trial 32 finished with value: 0.9300699300699301 and parameters: {'booster': 'gbtree', 'lambda': 0.5221505139597301, 'alpha': 0.00013162024469357906, 'subsample': 0.5085456538252823, 'colsample_bytree': 0.41567532788218725, 'max_depth': 5, 'min_child_weight': 8, 'eta': 3.2814660992036e-07, 'gamma': 6.312044690653252e-05, 'grow_policy': 'lossguide'}. Best is trial 17 with value: 0.958041958041958.\u001B[0m\n",
      "\u001B[32m[I 2021-09-18 18:46:48,240]\u001B[0m Trial 38 finished with value: 0.9090909090909091 and parameters: {'booster': 'gbtree', 'lambda': 0.4783619367311614, 'alpha': 2.631854338463508e-06, 'subsample': 0.8957184583055314, 'colsample_bytree': 0.44139795627501677, 'max_depth': 5, 'min_child_weight': 9, 'eta': 8.123354593973598e-07, 'gamma': 3.994131043097309e-05, 'grow_policy': 'lossguide'}. Best is trial 17 with value: 0.958041958041958.\u001B[0m\n",
      "\u001B[32m[I 2021-09-18 18:46:48,246]\u001B[0m Trial 39 finished with value: 0.9300699300699301 and parameters: {'booster': 'gbtree', 'lambda': 0.5729741886622345, 'alpha': 0.0001276684332200237, 'subsample': 0.903080073109412, 'colsample_bytree': 0.4376174418207914, 'max_depth': 5, 'min_child_weight': 9, 'eta': 4.916556021345916e-07, 'gamma': 4.357186108236171e-05, 'grow_policy': 'lossguide'}. Best is trial 17 with value: 0.958041958041958.\u001B[0m\n",
      "\u001B[32m[I 2021-09-18 18:46:48,263]\u001B[0m Trial 34 finished with value: 0.958041958041958 and parameters: {'booster': 'gbtree', 'lambda': 0.22767805611887454, 'alpha': 0.0001169342461687107, 'subsample': 0.728685926413116, 'colsample_bytree': 0.39994685944262737, 'max_depth': 5, 'min_child_weight': 2, 'eta': 4.843999732480856e-07, 'gamma': 4.606357289845718e-05, 'grow_policy': 'lossguide'}. Best is trial 17 with value: 0.958041958041958.\u001B[0m\n",
      "\u001B[32m[I 2021-09-18 18:46:48,264]\u001B[0m Trial 33 finished with value: 0.951048951048951 and parameters: {'booster': 'gbtree', 'lambda': 0.000577306579891417, 'alpha': 2.444769124908332e-06, 'subsample': 0.8774171940148834, 'colsample_bytree': 0.4487248508311182, 'max_depth': 5, 'min_child_weight': 2, 'eta': 7.329229878782964e-07, 'gamma': 3.9354019506565366e-05, 'grow_policy': 'lossguide'}. Best is trial 17 with value: 0.958041958041958.\u001B[0m\n",
      "\u001B[32m[I 2021-09-18 18:46:48,367]\u001B[0m Trial 40 finished with value: 0.965034965034965 and parameters: {'booster': 'gbtree', 'lambda': 0.04709325928915972, 'alpha': 9.162606787236844e-05, 'subsample': 0.8684690169989323, 'colsample_bytree': 0.4479780583615151, 'max_depth': 9, 'min_child_weight': 2, 'eta': 5.109371214585626e-07, 'gamma': 0.00021923933196419426, 'grow_policy': 'depthwise'}. Best is trial 40 with value: 0.965034965034965.\u001B[0m\n",
      "\u001B[32m[I 2021-09-18 18:46:48,391]\u001B[0m Trial 41 finished with value: 0.9370629370629371 and parameters: {'booster': 'dart', 'lambda': 0.05663243119288391, 'alpha': 9.348212749366398e-05, 'subsample': 0.8660975492241028, 'colsample_bytree': 0.6769614181613118, 'max_depth': 9, 'min_child_weight': 3, 'eta': 9.311657443948924e-08, 'gamma': 5.414313835495625e-07, 'grow_policy': 'depthwise', 'sample_type': 'weighted', 'normalize_type': 'tree', 'rate_drop': 2.4538221676738838e-08, 'skip_drop': 0.43063068047611075}. Best is trial 40 with value: 0.965034965034965.\u001B[0m\n",
      "\u001B[32m[I 2021-09-18 18:46:48,457]\u001B[0m Trial 30 finished with value: 0.965034965034965 and parameters: {'booster': 'gbtree', 'lambda': 0.0010053117110279811, 'alpha': 1.7362857790939423e-08, 'subsample': 0.7241517408238095, 'colsample_bytree': 0.4650023906640157, 'max_depth': 5, 'min_child_weight': 7, 'eta': 0.9372190500167539, 'gamma': 2.258296043971215e-05, 'grow_policy': 'depthwise'}. Best is trial 40 with value: 0.965034965034965.\u001B[0m\n",
      "\u001B[32m[I 2021-09-18 18:46:48,477]\u001B[0m Trial 22 finished with value: 0.958041958041958 and parameters: {'booster': 'gbtree', 'lambda': 0.0036563755548455006, 'alpha': 3.81511965421225e-05, 'subsample': 0.7936552214422501, 'colsample_bytree': 0.5533531654419608, 'max_depth': 3, 'min_child_weight': 10, 'eta': 0.22900800515068445, 'gamma': 1.7172910660365304e-05, 'grow_policy': 'depthwise'}. Best is trial 40 with value: 0.965034965034965.\u001B[0m\n",
      "\u001B[32m[I 2021-09-18 18:46:48,538]\u001B[0m Trial 31 finished with value: 0.9300699300699301 and parameters: {'booster': 'gbtree', 'lambda': 0.0012032921510622, 'alpha': 2.4623792158225914e-06, 'subsample': 0.7146729936118545, 'colsample_bytree': 0.3183657047971209, 'max_depth': 9, 'min_child_weight': 2, 'eta': 1.760564239650611e-05, 'gamma': 0.0005543989673985382, 'grow_policy': 'depthwise'}. Best is trial 40 with value: 0.965034965034965.\u001B[0m\n",
      "\u001B[32m[I 2021-09-18 18:46:48,641]\u001B[0m Trial 28 finished with value: 0.9370629370629371 and parameters: {'booster': 'gbtree', 'lambda': 0.0019299134470797251, 'alpha': 0.00010842643612003345, 'subsample': 0.8627765430101114, 'colsample_bytree': 0.45586806814288183, 'max_depth': 5, 'min_child_weight': 8, 'eta': 0.30670793469080604, 'gamma': 0.0008202299461988737, 'grow_policy': 'depthwise'}. Best is trial 40 with value: 0.965034965034965.\u001B[0m\n",
      "\u001B[32m[I 2021-09-18 18:46:48,683]\u001B[0m Trial 26 finished with value: 0.9300699300699301 and parameters: {'booster': 'gbtree', 'lambda': 0.002181007298680919, 'alpha': 2.300525316905008e-06, 'subsample': 0.7048583302248285, 'colsample_bytree': 0.3060553175571844, 'max_depth': 9, 'min_child_weight': 2, 'eta': 1.6026457684101656e-05, 'gamma': 0.00031924744516637397, 'grow_policy': 'depthwise'}. Best is trial 40 with value: 0.965034965034965.\u001B[0m\n",
      "\u001B[32m[I 2021-09-18 18:46:48,713]\u001B[0m Trial 44 finished with value: 0.9300699300699301 and parameters: {'booster': 'dart', 'lambda': 0.035427643455063974, 'alpha': 4.177863651290692e-05, 'subsample': 0.7022972600692058, 'colsample_bytree': 0.32278365925626523, 'max_depth': 9, 'min_child_weight': 4, 'eta': 2.1098713224525026e-05, 'gamma': 0.4534099796897479, 'grow_policy': 'depthwise', 'sample_type': 'uniform', 'normalize_type': 'tree', 'rate_drop': 0.6559165871943591, 'skip_drop': 2.0158341121634928e-08}. Best is trial 40 with value: 0.965034965034965.\u001B[0m\n",
      "\u001B[32m[I 2021-09-18 18:46:48,717]\u001B[0m Trial 45 finished with value: 0.9370629370629371 and parameters: {'booster': 'dart', 'lambda': 0.053093905483466035, 'alpha': 5.908435410509451e-05, 'subsample': 0.7105370060685154, 'colsample_bytree': 0.27681202496516444, 'max_depth': 9, 'min_child_weight': 4, 'eta': 3.2140812545566876e-05, 'gamma': 0.2632855104247859, 'grow_policy': 'depthwise', 'sample_type': 'uniform', 'normalize_type': 'tree', 'rate_drop': 0.6007787154253923, 'skip_drop': 9.403309474418199e-08}. Best is trial 40 with value: 0.965034965034965.\u001B[0m\n",
      "\u001B[32m[I 2021-09-18 18:46:48,739]\u001B[0m Trial 47 finished with value: 0.9300699300699301 and parameters: {'booster': 'dart', 'lambda': 0.039878176792246756, 'alpha': 0.0008383732474808999, 'subsample': 0.686153220942567, 'colsample_bytree': 0.291430581296323, 'max_depth': 9, 'min_child_weight': 4, 'eta': 5.8202408993329624e-05, 'gamma': 0.00039318697505224176, 'grow_policy': 'depthwise', 'sample_type': 'uniform', 'normalize_type': 'tree', 'rate_drop': 0.5842536078054732, 'skip_drop': 1.2093565104471657e-08}. Best is trial 40 with value: 0.965034965034965.\u001B[0m\n",
      "\u001B[32m[I 2021-09-18 18:46:48,766]\u001B[0m Trial 51 finished with value: 0.9020979020979021 and parameters: {'booster': 'dart', 'lambda': 0.028018462521024794, 'alpha': 0.0005309235466587344, 'subsample': 0.7050988814271495, 'colsample_bytree': 0.27559819772894406, 'max_depth': 9, 'min_child_weight': 4, 'eta': 8.704354495022306e-08, 'gamma': 0.19251650359607764, 'grow_policy': 'depthwise', 'sample_type': 'uniform', 'normalize_type': 'tree', 'rate_drop': 0.7131665349843995, 'skip_drop': 0.7928217045932076}. Best is trial 40 with value: 0.965034965034965.\u001B[0m\n",
      "\u001B[32m[I 2021-09-18 18:46:48,924]\u001B[0m Trial 52 finished with value: 0.9230769230769231 and parameters: {'booster': 'dart', 'lambda': 0.030365982654704506, 'alpha': 0.0007947670869215233, 'subsample': 0.21193135324038725, 'colsample_bytree': 0.6382972941125156, 'max_depth': 3, 'min_child_weight': 6, 'eta': 7.953244125169162e-08, 'gamma': 5.002362799679598e-06, 'grow_policy': 'depthwise', 'sample_type': 'weighted', 'normalize_type': 'forest', 'rate_drop': 7.516462573870294e-08, 'skip_drop': 0.002294783902394542}. Best is trial 40 with value: 0.965034965034965.\u001B[0m\n",
      "\u001B[32m[I 2021-09-18 18:46:48,956]\u001B[0m Trial 42 finished with value: 0.9370629370629371 and parameters: {'booster': 'dart', 'lambda': 0.05179412762725731, 'alpha': 5.332509302694711e-05, 'subsample': 0.7001876721761666, 'colsample_bytree': 0.3218104926780587, 'max_depth': 9, 'min_child_weight': 2, 'eta': 2.0288663034835893e-05, 'gamma': 0.0005409334591060186, 'grow_policy': 'depthwise', 'sample_type': 'weighted', 'normalize_type': 'tree', 'rate_drop': 2.9321401967181468e-08, 'skip_drop': 1.1613796946063053e-08}. Best is trial 40 with value: 0.965034965034965.\u001B[0m\n",
      "\u001B[32m[I 2021-09-18 18:46:48,970]\u001B[0m Trial 35 finished with value: 0.9300699300699301 and parameters: {'booster': 'gbtree', 'lambda': 0.24056721309823897, 'alpha': 9.301345361753618e-05, 'subsample': 0.8670895041273944, 'colsample_bytree': 0.4551188695771576, 'max_depth': 5, 'min_child_weight': 8, 'eta': 2.4912270050167756e-05, 'gamma': 0.00029045307045916615, 'grow_policy': 'depthwise'}. Best is trial 40 with value: 0.965034965034965.\u001B[0m\n",
      "\u001B[32m[I 2021-09-18 18:46:48,972]\u001B[0m Trial 25 finished with value: 0.9440559440559441 and parameters: {'booster': 'gbtree', 'lambda': 0.002152643699892261, 'alpha': 1.7121136052863177e-05, 'subsample': 0.7788191171290172, 'colsample_bytree': 0.5537141008769713, 'max_depth': 3, 'min_child_weight': 8, 'eta': 2.839684348937242e-05, 'gamma': 0.0007240065326050426, 'grow_policy': 'depthwise'}. Best is trial 40 with value: 0.965034965034965.\u001B[0m\n",
      "\u001B[32m[I 2021-09-18 18:46:49,066]\u001B[0m Trial 58 finished with value: 0.9370629370629371 and parameters: {'booster': 'gbtree', 'lambda': 0.0004989830055797397, 'alpha': 4.8192065433025626e-08, 'subsample': 0.8196483752581926, 'colsample_bytree': 0.49502628869045534, 'max_depth': 3, 'min_child_weight': 5, 'eta': 0.00536083849553187, 'gamma': 0.056744507966710364, 'grow_policy': 'depthwise'}. Best is trial 40 with value: 0.965034965034965.\u001B[0m\n",
      "\u001B[32m[I 2021-09-18 18:46:49,113]\u001B[0m Trial 59 finished with value: 0.9370629370629371 and parameters: {'booster': 'gbtree', 'lambda': 2.2149981464546453e-05, 'alpha': 7.485909929456182e-06, 'subsample': 0.8231157796451719, 'colsample_bytree': 0.49754558807067684, 'max_depth': 3, 'min_child_weight': 6, 'eta': 0.0030791684506042047, 'gamma': 0.02923520444901748, 'grow_policy': 'depthwise'}. Best is trial 40 with value: 0.965034965034965.\u001B[0m\n",
      "\u001B[32m[I 2021-09-18 18:46:49,218]\u001B[0m Trial 60 finished with value: 0.958041958041958 and parameters: {'booster': 'gbtree', 'lambda': 1.4701188168898081e-05, 'alpha': 3.533561724995311e-08, 'subsample': 0.8206540450656798, 'colsample_bytree': 0.7267236609174361, 'max_depth': 3, 'min_child_weight': 7, 'eta': 0.07338931176551053, 'gamma': 5.578209768332861e-06, 'grow_policy': 'depthwise'}. Best is trial 40 with value: 0.965034965034965.\u001B[0m\n",
      "\u001B[32m[I 2021-09-18 18:46:49,220]\u001B[0m Trial 61 finished with value: 0.951048951048951 and parameters: {'booster': 'gbtree', 'lambda': 0.00023259219719944235, 'alpha': 6.25300968742025e-06, 'subsample': 0.8254778519109132, 'colsample_bytree': 0.5006456023703791, 'max_depth': 7, 'min_child_weight': 7, 'eta': 0.6146193200346727, 'gamma': 6.490820207894889e-06, 'grow_policy': 'depthwise'}. Best is trial 40 with value: 0.965034965034965.\u001B[0m\n",
      "\u001B[32m[I 2021-09-18 18:46:49,273]\u001B[0m Trial 62 finished with value: 0.958041958041958 and parameters: {'booster': 'gbtree', 'lambda': 1.184651918116275e-05, 'alpha': 0.0038538288669247153, 'subsample': 0.9297020757132178, 'colsample_bytree': 0.381220957702083, 'max_depth': 7, 'min_child_weight': 3, 'eta': 3.457707137512954e-06, 'gamma': 1.4904934553403641e-06, 'grow_policy': 'lossguide'}. Best is trial 40 with value: 0.965034965034965.\u001B[0m\n",
      "\u001B[32m[I 2021-09-18 18:46:49,287]\u001B[0m Trial 53 finished with value: 0.9300699300699301 and parameters: {'booster': 'dart', 'lambda': 0.029561094100280266, 'alpha': 0.000747074663852129, 'subsample': 0.22339442041884533, 'colsample_bytree': 0.8155177958441382, 'max_depth': 3, 'min_child_weight': 6, 'eta': 0.045831743554980736, 'gamma': 4.02444283844016e-06, 'grow_policy': 'lossguide', 'sample_type': 'weighted', 'normalize_type': 'forest', 'rate_drop': 2.9063573108901344e-06, 'skip_drop': 0.008556032183191476}. Best is trial 40 with value: 0.965034965034965.\u001B[0m\n",
      "\u001B[32m[I 2021-09-18 18:46:49,295]\u001B[0m Trial 63 finished with value: 0.9440559440559441 and parameters: {'booster': 'gbtree', 'lambda': 0.1270539127188673, 'alpha': 0.02011129484045706, 'subsample': 0.583609596897138, 'colsample_bytree': 0.3741495826342366, 'max_depth': 7, 'min_child_weight': 3, 'eta': 3.862405855570142e-06, 'gamma': 0.0032216863618239207, 'grow_policy': 'lossguide'}. Best is trial 40 with value: 0.965034965034965.\u001B[0m\n",
      "\u001B[32m[I 2021-09-18 18:46:49,317]\u001B[0m Trial 56 finished with value: 0.958041958041958 and parameters: {'booster': 'gbtree', 'lambda': 0.15484096522509713, 'alpha': 0.00035364238705822904, 'subsample': 0.8302338480210054, 'colsample_bytree': 0.49733596564981924, 'max_depth': 7, 'min_child_weight': 3, 'eta': 0.8935811575395591, 'gamma': 2.5466257558235835e-06, 'grow_policy': 'depthwise'}. Best is trial 40 with value: 0.965034965034965.\u001B[0m\n",
      "\u001B[32m[I 2021-09-18 18:46:49,350]\u001B[0m Trial 55 finished with value: 0.9440559440559441 and parameters: {'booster': 'gbtree', 'lambda': 0.0002699609664336351, 'alpha': 3.200614433989535e-08, 'subsample': 0.8158043945736474, 'colsample_bytree': 0.5090211629185046, 'max_depth': 7, 'min_child_weight': 6, 'eta': 0.9633872726703956, 'gamma': 3.726432668887731e-06, 'grow_policy': 'depthwise'}. Best is trial 40 with value: 0.965034965034965.\u001B[0m\n",
      "\u001B[32m[I 2021-09-18 18:46:49,378]\u001B[0m Trial 48 finished with value: 0.958041958041958 and parameters: {'booster': 'dart', 'lambda': 0.03800156238152057, 'alpha': 0.0006876050452682265, 'subsample': 0.7004531482588372, 'colsample_bytree': 0.3065506034411558, 'max_depth': 9, 'min_child_weight': 2, 'eta': 3.076615461063305e-05, 'gamma': 0.0006653197789059311, 'grow_policy': 'depthwise', 'sample_type': 'weighted', 'normalize_type': 'forest', 'rate_drop': 2.4764673928767354e-08, 'skip_drop': 0.007675120639511836}. Best is trial 40 with value: 0.965034965034965.\u001B[0m\n",
      "\u001B[32m[I 2021-09-18 18:46:49,487]\u001B[0m Trial 66 finished with value: 0.9090909090909091 and parameters: {'booster': 'gbtree', 'lambda': 2.3040661165866955e-05, 'alpha': 0.002418096653143158, 'subsample': 0.9083666653562505, 'colsample_bytree': 0.357589672210858, 'max_depth': 7, 'min_child_weight': 7, 'eta': 0.07940943392550716, 'gamma': 1.406021776506287e-06, 'grow_policy': 'depthwise'}. Best is trial 40 with value: 0.965034965034965.\u001B[0m\n",
      "\u001B[32m[I 2021-09-18 18:46:49,488]\u001B[0m Trial 65 finished with value: 0.965034965034965 and parameters: {'booster': 'gbtree', 'lambda': 2.6958678835208445e-05, 'alpha': 0.012958951142123297, 'subsample': 0.9334844526324045, 'colsample_bytree': 0.371965045949675, 'max_depth': 7, 'min_child_weight': 3, 'eta': 0.10259484618033277, 'gamma': 1.5523730402841948e-06, 'grow_policy': 'depthwise'}. Best is trial 40 with value: 0.965034965034965.\u001B[0m\n",
      "\u001B[32m[I 2021-09-18 18:46:49,564]\u001B[0m Trial 67 finished with value: 0.916083916083916 and parameters: {'booster': 'gbtree', 'lambda': 3.448685440614448e-05, 'alpha': 0.002875640243947424, 'subsample': 0.9314545824521154, 'colsample_bytree': 0.7296119546065143, 'max_depth': 3, 'min_child_weight': 7, 'eta': 0.08656670716116271, 'gamma': 1.2495656897306434e-05, 'grow_policy': 'depthwise'}. Best is trial 40 with value: 0.965034965034965.\u001B[0m\n",
      "\u001B[32m[I 2021-09-18 18:46:49,578]\u001B[0m Trial 68 finished with value: 0.9300699300699301 and parameters: {'booster': 'gbtree', 'lambda': 2.3245388581796296e-05, 'alpha': 0.0016633136129527253, 'subsample': 0.9576882387748031, 'colsample_bytree': 0.7096895697387566, 'max_depth': 3, 'min_child_weight': 7, 'eta': 0.07087050619106733, 'gamma': 1.2093679097171059e-05, 'grow_policy': 'depthwise'}. Best is trial 40 with value: 0.965034965034965.\u001B[0m\n",
      "\u001B[32m[I 2021-09-18 18:46:49,587]\u001B[0m Trial 54 finished with value: 0.9020979020979021 and parameters: {'booster': 'gbtree', 'lambda': 0.014321689086100094, 'alpha': 0.0022066555417317294, 'subsample': 0.8261984973960923, 'colsample_bytree': 0.4863770954169644, 'max_depth': 7, 'min_child_weight': 7, 'eta': 0.049036338543747414, 'gamma': 1.4039624647717968e-06, 'grow_policy': 'depthwise'}. Best is trial 40 with value: 0.965034965034965.\u001B[0m\n",
      "\u001B[32m[I 2021-09-18 18:46:49,716]\u001B[0m Trial 74 finished with value: 0.8601398601398601 and parameters: {'booster': 'gblinear', 'lambda': 0.01303831255246742, 'alpha': 0.04665656345064569, 'subsample': 0.651715680672306, 'colsample_bytree': 0.3529418317348201}. Best is trial 40 with value: 0.965034965034965.\u001B[0m\n",
      "\u001B[32m[I 2021-09-18 18:46:49,765]\u001B[0m Trial 75 finished with value: 0.8671328671328671 and parameters: {'booster': 'gblinear', 'lambda': 0.0055765445394737176, 'alpha': 0.008530188686577435, 'subsample': 0.6703615449608763, 'colsample_bytree': 0.5889866708233865}. Best is trial 40 with value: 0.965034965034965.\u001B[0m\n",
      "\u001B[32m[I 2021-09-18 18:46:49,768]\u001B[0m Trial 76 finished with value: 0.8321678321678322 and parameters: {'booster': 'gblinear', 'lambda': 0.012982736329388846, 'alpha': 0.024638931828290477, 'subsample': 0.6588372498971367, 'colsample_bytree': 0.2096719510588918}. Best is trial 40 with value: 0.965034965034965.\u001B[0m\n",
      "\u001B[32m[I 2021-09-18 18:46:49,853]\u001B[0m Trial 69 finished with value: 0.9370629370629371 and parameters: {'booster': 'gbtree', 'lambda': 0.9549544245767194, 'alpha': 0.00024580760555202125, 'subsample': 0.9374538103264679, 'colsample_bytree': 0.5890791120649285, 'max_depth': 5, 'min_child_weight': 5, 'eta': 0.0003476119678945053, 'gamma': 1.1882235283678509e-07, 'grow_policy': 'depthwise'}. Best is trial 40 with value: 0.965034965034965.\u001B[0m\n",
      "\u001B[32m[I 2021-09-18 18:46:49,854]\u001B[0m Trial 72 finished with value: 0.951048951048951 and parameters: {'booster': 'gbtree', 'lambda': 0.015389020414559246, 'alpha': 0.02745977856821413, 'subsample': 0.6569408754966543, 'colsample_bytree': 0.6013327311609604, 'max_depth': 5, 'min_child_weight': 2, 'eta': 1.6961239450605244e-06, 'gamma': 9.254840146323192e-08, 'grow_policy': 'depthwise'}. Best is trial 40 with value: 0.965034965034965.\u001B[0m\n",
      "\u001B[32m[I 2021-09-18 18:46:49,864]\u001B[0m Trial 70 finished with value: 0.986013986013986 and parameters: {'booster': 'gbtree', 'lambda': 3.426691811726348e-05, 'alpha': 0.0002783574616715599, 'subsample': 0.6557884073710252, 'colsample_bytree': 0.581811677359619, 'max_depth': 5, 'min_child_weight': 2, 'eta': 0.0002620312743960121, 'gamma': 8.412518245161964e-08, 'grow_policy': 'depthwise'}. Best is trial 70 with value: 0.986013986013986.\u001B[0m\n",
      "\u001B[32m[I 2021-09-18 18:46:49,877]\u001B[0m Trial 57 finished with value: 0.9370629370629371 and parameters: {'booster': 'gbtree', 'lambda': 1.4908088980258907e-05, 'alpha': 0.0019370943201138721, 'subsample': 0.2331508919212283, 'colsample_bytree': 0.4822614132147923, 'max_depth': 7, 'min_child_weight': 6, 'eta': 0.03880562722996402, 'gamma': 7.46138754206432e-08, 'grow_policy': 'depthwise'}. Best is trial 70 with value: 0.986013986013986.\u001B[0m\n",
      "\u001B[32m[I 2021-09-18 18:46:49,909]\u001B[0m Trial 50 finished with value: 0.951048951048951 and parameters: {'booster': 'dart', 'lambda': 0.0356889337025272, 'alpha': 0.0010718699654564132, 'subsample': 0.22005286984531264, 'colsample_bytree': 0.4892327552500447, 'max_depth': 7, 'min_child_weight': 3, 'eta': 0.0657049834113593, 'gamma': 1.2907505863784765e-05, 'grow_policy': 'depthwise', 'sample_type': 'uniform', 'normalize_type': 'forest', 'rate_drop': 0.007465076873358765, 'skip_drop': 0.022064363576569372}. Best is trial 70 with value: 0.986013986013986.\u001B[0m\n",
      "\u001B[32m[I 2021-09-18 18:46:49,914]\u001B[0m Trial 43 finished with value: 0.9300699300699301 and parameters: {'booster': 'dart', 'lambda': 0.050272818721352426, 'alpha': 5.280587039035582e-05, 'subsample': 0.7018442373163196, 'colsample_bytree': 0.29838672550449735, 'max_depth': 9, 'min_child_weight': 2, 'eta': 0.9308482596312438, 'gamma': 6.179477964231936e-06, 'grow_policy': 'lossguide', 'sample_type': 'weighted', 'normalize_type': 'forest', 'rate_drop': 4.901695095773693e-06, 'skip_drop': 1.1774655006338286e-06}. Best is trial 70 with value: 0.986013986013986.\u001B[0m\n",
      "\u001B[32m[I 2021-09-18 18:46:49,917]\u001B[0m Trial 49 finished with value: 0.9370629370629371 and parameters: {'booster': 'dart', 'lambda': 0.03813496361701491, 'alpha': 0.0006546070566169714, 'subsample': 0.8291693785178376, 'colsample_bytree': 0.493009859111292, 'max_depth': 7, 'min_child_weight': 3, 'eta': 0.923212583123799, 'gamma': 0.0023391219093872157, 'grow_policy': 'depthwise', 'sample_type': 'weighted', 'normalize_type': 'forest', 'rate_drop': 1.6186346482356322e-06, 'skip_drop': 1.15996192500867e-06}. Best is trial 70 with value: 0.986013986013986.\u001B[0m\n",
      "\u001B[32m[I 2021-09-18 18:46:49,922]\u001B[0m Trial 36 finished with value: 0.8881118881118881 and parameters: {'booster': 'gbtree', 'lambda': 0.3403133901970527, 'alpha': 6.384378936803805e-05, 'subsample': 0.7091345950856384, 'colsample_bytree': 0.2853563432270953, 'max_depth': 7, 'min_child_weight': 7, 'eta': 0.04923780065063977, 'gamma': 1.0981170197436767e-07, 'grow_policy': 'depthwise'}. Best is trial 70 with value: 0.986013986013986.\u001B[0m\n",
      "\u001B[32m[I 2021-09-18 18:46:49,944]\u001B[0m Trial 73 finished with value: 0.9440559440559441 and parameters: {'booster': 'gbtree', 'lambda': 0.013760243120008706, 'alpha': 0.05279736595919575, 'subsample': 0.6479935962426058, 'colsample_bytree': 0.2192295842450048, 'max_depth': 9, 'min_child_weight': 9, 'eta': 0.0004559036920649392, 'gamma': 9.241153266672109e-08, 'grow_policy': 'depthwise'}. Best is trial 70 with value: 0.986013986013986.\u001B[0m\n",
      "\u001B[32m[I 2021-09-18 18:46:50,002]\u001B[0m Trial 46 finished with value: 0.9090909090909091 and parameters: {'booster': 'dart', 'lambda': 0.046323978705010545, 'alpha': 0.0007903217094654095, 'subsample': 0.8451372112752574, 'colsample_bytree': 0.7856260848733332, 'max_depth': 7, 'min_child_weight': 5, 'eta': 0.00029664250139792395, 'gamma': 1.9311068659604932e-07, 'grow_policy': 'depthwise', 'sample_type': 'weighted', 'normalize_type': 'forest', 'rate_drop': 2.099240352307216e-06, 'skip_drop': 0.021252886990784}. Best is trial 70 with value: 0.986013986013986.\u001B[0m\n",
      "\u001B[32m[I 2021-09-18 18:46:50,011]\u001B[0m Trial 29 finished with value: 0.9440559440559441 and parameters: {'booster': 'gbtree', 'lambda': 0.5255762267710741, 'alpha': 2.157033451503272e-06, 'subsample': 0.6846982143634589, 'colsample_bytree': 0.267746156621508, 'max_depth': 7, 'min_child_weight': 7, 'eta': 0.00030018736939003613, 'gamma': 0.00018197983811429734, 'grow_policy': 'depthwise'}. Best is trial 70 with value: 0.986013986013986.\u001B[0m\n",
      "\u001B[32m[I 2021-09-18 18:46:50,013]\u001B[0m Trial 71 finished with value: 0.916083916083916 and parameters: {'booster': 'gbtree', 'lambda': 6.936764269667189e-07, 'alpha': 0.019116927064173752, 'subsample': 0.942774989044061, 'colsample_bytree': 0.5902013702063856, 'max_depth': 9, 'min_child_weight': 9, 'eta': 0.000272027111126127, 'gamma': 1.4243385422997476e-07, 'grow_policy': 'depthwise'}. Best is trial 70 with value: 0.986013986013986.\u001B[0m\n",
      "\u001B[32m[I 2021-09-18 18:46:50,056]\u001B[0m Trial 64 finished with value: 0.9370629370629371 and parameters: {'booster': 'gbtree', 'lambda': 1.4426407547595752e-05, 'alpha': 0.21470459402861095, 'subsample': 0.7498295333014365, 'colsample_bytree': 0.4121843335868376, 'max_depth': 5, 'min_child_weight': 3, 'eta': 6.097418699668617e-06, 'gamma': 0.00017891050589587403, 'grow_policy': 'lossguide'}. Best is trial 70 with value: 0.986013986013986.\u001B[0m\n",
      "\u001B[32m[I 2021-09-18 18:46:50,349]\u001B[0m Trial 78 finished with value: 0.965034965034965 and parameters: {'booster': 'gbtree', 'lambda': 5.692636810827013e-07, 'alpha': 0.0065455109633976065, 'subsample': 0.7374634765093468, 'colsample_bytree': 0.4050352373749014, 'max_depth': 5, 'min_child_weight': 2, 'eta': 0.22431278715838576, 'gamma': 0.00012408486036808429, 'grow_policy': 'depthwise'}. Best is trial 70 with value: 0.986013986013986.\u001B[0m\n",
      "\u001B[32m[I 2021-09-18 18:46:50,353]\u001B[0m Trial 77 finished with value: 0.9300699300699301 and parameters: {'booster': 'gbtree', 'lambda': 0.10842693357039265, 'alpha': 0.4119258634366606, 'subsample': 0.7392682809260733, 'colsample_bytree': 0.6183652391973118, 'max_depth': 5, 'min_child_weight': 3, 'eta': 0.0012336163528637227, 'gamma': 5.830229349603613e-07, 'grow_policy': 'depthwise'}. Best is trial 70 with value: 0.986013986013986.\u001B[0m\n",
      "\u001B[32m[I 2021-09-18 18:46:50,453]\u001B[0m Trial 94 finished with value: 0.9230769230769231 and parameters: {'booster': 'gbtree', 'lambda': 2.0844917377622984e-08, 'alpha': 0.00029589118656012765, 'subsample': 0.6227768707256202, 'colsample_bytree': 0.41013558235215425, 'max_depth': 5, 'min_child_weight': 2, 'eta': 0.1627885662133428, 'gamma': 0.00013376537079173962, 'grow_policy': 'depthwise'}. Best is trial 70 with value: 0.986013986013986.\u001B[0m\n",
      "\u001B[32m[I 2021-09-18 18:46:50,529]\u001B[0m Trial 93 finished with value: 0.951048951048951 and parameters: {'booster': 'gbtree', 'lambda': 4.404859479688823e-08, 'alpha': 0.0003527523792759379, 'subsample': 0.7312137801559626, 'colsample_bytree': 0.4650289281190656, 'max_depth': 5, 'min_child_weight': 2, 'eta': 0.015326055245716178, 'gamma': 9.364255708700853e-05, 'grow_policy': 'depthwise'}. Best is trial 70 with value: 0.986013986013986.\u001B[0m\n",
      "\u001B[32m[I 2021-09-18 18:46:50,533]\u001B[0m Trial 91 finished with value: 0.986013986013986 and parameters: {'booster': 'gbtree', 'lambda': 7.96674921193353e-05, 'alpha': 0.00025420276181127154, 'subsample': 0.9938419573006472, 'colsample_bytree': 0.5292416039858412, 'max_depth': 5, 'min_child_weight': 2, 'eta': 0.18649377085119603, 'gamma': 9.153371729640552e-05, 'grow_policy': 'lossguide'}. Best is trial 70 with value: 0.986013986013986.\u001B[0m\n",
      "\u001B[32m[I 2021-09-18 18:46:50,550]\u001B[0m Trial 79 finished with value: 0.965034965034965 and parameters: {'booster': 'gbtree', 'lambda': 8.98010613825653e-06, 'alpha': 0.8247231046482236, 'subsample': 0.7478292598290245, 'colsample_bytree': 0.5320595084583157, 'max_depth': 5, 'min_child_weight': 2, 'eta': 0.21830058503827118, 'gamma': 3.931063947081325e-08, 'grow_policy': 'lossguide'}. Best is trial 70 with value: 0.986013986013986.\u001B[0m\n",
      "\u001B[32m[I 2021-09-18 18:46:50,598]\u001B[0m Trial 90 finished with value: 0.965034965034965 and parameters: {'booster': 'gbtree', 'lambda': 5.6141386083166044e-06, 'alpha': 0.0002917996653953522, 'subsample': 0.9898276445372101, 'colsample_bytree': 0.6270651499108876, 'max_depth': 5, 'min_child_weight': 2, 'eta': 0.17381884645458792, 'gamma': 9.981672242663674e-05, 'grow_policy': 'lossguide'}. Best is trial 70 with value: 0.986013986013986.\u001B[0m\n",
      "\u001B[32m[I 2021-09-18 18:46:50,600]\u001B[0m Trial 92 finished with value: 0.9020979020979021 and parameters: {'booster': 'gbtree', 'lambda': 0.09732933415022568, 'alpha': 2.2264009345938178e-08, 'subsample': 0.9929693260695641, 'colsample_bytree': 0.9040734161962837, 'max_depth': 5, 'min_child_weight': 2, 'eta': 0.0014673789370712623, 'gamma': 1.3333074124696797e-08, 'grow_policy': 'lossguide'}. Best is trial 70 with value: 0.986013986013986.\u001B[0m\n",
      "\u001B[32m[I 2021-09-18 18:46:50,602]\u001B[0m Trial 80 finished with value: 0.965034965034965 and parameters: {'booster': 'gbtree', 'lambda': 5.050514287671182e-06, 'alpha': 0.3386002796157614, 'subsample': 0.7458620371160882, 'colsample_bytree': 0.6396533277559607, 'max_depth': 5, 'min_child_weight': 2, 'eta': 0.21138625185969476, 'gamma': 8.00896076100258e-05, 'grow_policy': 'lossguide'}. Best is trial 70 with value: 0.986013986013986.\u001B[0m\n",
      "\u001B[32m[I 2021-09-18 18:46:50,703]\u001B[0m Trial 84 finished with value: 0.965034965034965 and parameters: {'booster': 'gbtree', 'lambda': 0.10278309949727386, 'alpha': 0.00030398407918522384, 'subsample': 0.9825887096582786, 'colsample_bytree': 0.529003294660134, 'max_depth': 5, 'min_child_weight': 2, 'eta': 0.016764469068966, 'gamma': 2.13552498940535e-08, 'grow_policy': 'lossguide'}. Best is trial 70 with value: 0.986013986013986.\u001B[0m\n",
      "\u001B[32m[I 2021-09-18 18:46:50,705]\u001B[0m Trial 83 finished with value: 0.993006993006993 and parameters: {'booster': 'gbtree', 'lambda': 5.7018439180325875e-06, 'alpha': 0.000276768329263099, 'subsample': 0.7929088020078279, 'colsample_bytree': 0.2502794583397271, 'max_depth': 5, 'min_child_weight': 2, 'eta': 0.18853333134518047, 'gamma': 4.7803845381287927e-08, 'grow_policy': 'lossguide'}. Best is trial 83 with value: 0.993006993006993.\u001B[0m\n",
      "\u001B[32m[I 2021-09-18 18:46:50,715]\u001B[0m Trial 82 finished with value: 0.9370629370629371 and parameters: {'booster': 'gbtree', 'lambda': 9.108768865656954e-06, 'alpha': 0.0002051362583254558, 'subsample': 0.745463163020735, 'colsample_bytree': 0.6432242169295856, 'max_depth': 5, 'min_child_weight': 2, 'eta': 0.02237357624709001, 'gamma': 1.138019293623814e-08, 'grow_policy': 'lossguide'}. Best is trial 83 with value: 0.993006993006993.\u001B[0m\n",
      "\u001B[32m[I 2021-09-18 18:46:50,722]\u001B[0m Trial 87 finished with value: 0.965034965034965 and parameters: {'booster': 'gbtree', 'lambda': 1.1029960797505984e-05, 'alpha': 0.38157423092491405, 'subsample': 0.9887733460347617, 'colsample_bytree': 0.5250397984893241, 'max_depth': 5, 'min_child_weight': 2, 'eta': 0.23833017159379488, 'gamma': 4.775459199805869e-08, 'grow_policy': 'lossguide'}. Best is trial 83 with value: 0.993006993006993.\u001B[0m\n",
      "\u001B[32m[I 2021-09-18 18:46:50,778]\u001B[0m Trial 85 finished with value: 0.9440559440559441 and parameters: {'booster': 'gbtree', 'lambda': 6.313280625906489e-06, 'alpha': 0.00026582559165769834, 'subsample': 0.590962467428279, 'colsample_bytree': 0.5320734373225552, 'max_depth': 5, 'min_child_weight': 2, 'eta': 0.019848168994776143, 'gamma': 3.903723222862575e-08, 'grow_policy': 'lossguide'}. Best is trial 83 with value: 0.993006993006993.\u001B[0m\n",
      "\u001B[32m[I 2021-09-18 18:46:50,780]\u001B[0m Trial 89 finished with value: 0.8951048951048951 and parameters: {'booster': 'gbtree', 'lambda': 4.078069873979797e-06, 'alpha': 0.0003119544077295799, 'subsample': 0.6167613968172792, 'colsample_bytree': 0.5299651178680094, 'max_depth': 5, 'min_child_weight': 10, 'eta': 3.790308308171796e-08, 'gamma': 7.771976546428207e-05, 'grow_policy': 'lossguide'}. Best is trial 83 with value: 0.993006993006993.\u001B[0m\n",
      "\u001B[32m[I 2021-09-18 18:46:50,781]\u001B[0m Trial 81 finished with value: 0.9370629370629371 and parameters: {'booster': 'gbtree', 'lambda': 3.375530599254299e-06, 'alpha': 0.00026688313188243546, 'subsample': 0.7463310542006509, 'colsample_bytree': 0.41711742670457114, 'max_depth': 5, 'min_child_weight': 2, 'eta': 4.0483545751126825e-08, 'gamma': 2.4069444165519675e-05, 'grow_policy': 'lossguide'}. Best is trial 83 with value: 0.993006993006993.\u001B[0m\n",
      "\u001B[32m[I 2021-09-18 18:46:50,843]\u001B[0m Trial 86 finished with value: 0.958041958041958 and parameters: {'booster': 'gbtree', 'lambda': 5.902225894052877e-06, 'alpha': 0.0002602671337437089, 'subsample': 0.6046341433077237, 'colsample_bytree': 0.9145982667051977, 'max_depth': 5, 'min_child_weight': 10, 'eta': 0.16224010373974845, 'gamma': 2.677290755739917e-05, 'grow_policy': 'lossguide'}. Best is trial 83 with value: 0.993006993006993.\u001B[0m\n",
      "\u001B[32m[I 2021-09-18 18:46:50,846]\u001B[0m Trial 96 finished with value: 0.9790209790209791 and parameters: {'booster': 'gbtree', 'lambda': 3.7768991447693122e-06, 'alpha': 0.004819657343944879, 'subsample': 0.9969154074532923, 'colsample_bytree': 0.3903437771290667, 'max_depth': 5, 'min_child_weight': 2, 'eta': 0.34949142752481493, 'gamma': 2.377512624095742e-05, 'grow_policy': 'lossguide'}. Best is trial 83 with value: 0.993006993006993.\u001B[0m\n",
      "\u001B[32m[I 2021-09-18 18:46:50,859]\u001B[0m Trial 88 finished with value: 0.958041958041958 and parameters: {'booster': 'gbtree', 'lambda': 5.43564644653869e-06, 'alpha': 0.00028963177314133166, 'subsample': 0.9870400033670561, 'colsample_bytree': 0.6268243334814678, 'max_depth': 5, 'min_child_weight': 10, 'eta': 0.36232485184337304, 'gamma': 2.5783201790106028e-05, 'grow_policy': 'lossguide'}. Best is trial 83 with value: 0.993006993006993.\u001B[0m\n",
      "\u001B[32m[I 2021-09-18 18:46:50,873]\u001B[0m Trial 97 finished with value: 0.9440559440559441 and parameters: {'booster': 'gbtree', 'lambda': 3.6033212047209946e-06, 'alpha': 0.005797438765282657, 'subsample': 0.9966174338527587, 'colsample_bytree': 0.6460767976923086, 'max_depth': 5, 'min_child_weight': 2, 'eta': 0.345310456517693, 'gamma': 0.0013971295204739786, 'grow_policy': 'lossguide'}. Best is trial 83 with value: 0.993006993006993.\u001B[0m\n",
      "\u001B[32m[I 2021-09-18 18:46:50,893]\u001B[0m Trial 98 finished with value: 0.9440559440559441 and parameters: {'booster': 'gbtree', 'lambda': 5.351638945646565e-06, 'alpha': 8.979649162742568e-08, 'subsample': 0.9903361597423801, 'colsample_bytree': 0.523865227057249, 'max_depth': 5, 'min_child_weight': 2, 'eta': 0.39441758621544076, 'gamma': 2.2883777429918074e-08, 'grow_policy': 'lossguide'}. Best is trial 83 with value: 0.993006993006993.\u001B[0m\n",
      "\u001B[32m[I 2021-09-18 18:46:50,901]\u001B[0m Trial 95 finished with value: 0.972027972027972 and parameters: {'booster': 'gbtree', 'lambda': 4.02435907049784e-06, 'alpha': 2.485106533924535e-08, 'subsample': 0.9812272244636249, 'colsample_bytree': 0.5618792564687153, 'max_depth': 5, 'min_child_weight': 2, 'eta': 0.386693040551923, 'gamma': 0.0012585577281479941, 'grow_policy': 'lossguide'}. Best is trial 83 with value: 0.993006993006993.\u001B[0m\n",
      "\u001B[32m[I 2021-09-18 18:46:50,903]\u001B[0m Trial 99 finished with value: 0.951048951048951 and parameters: {'booster': 'gbtree', 'lambda': 4.559313749431609e-06, 'alpha': 0.692373572900557, 'subsample': 0.7958761623198546, 'colsample_bytree': 0.4355365314102059, 'max_depth': 5, 'min_child_weight': 3, 'eta': 0.50380566299569, 'gamma': 2.3143456201026945e-08, 'grow_policy': 'lossguide'}. Best is trial 83 with value: 0.993006993006993.\u001B[0m\n"
     ]
    }
   ],
   "source": [
    "study = optuna.create_study(direction=\"maximize\")  # 默认direction=\"minimize\",即优化方为最小化\n",
    "func = lambda trial: objective(trial, data, target)\n",
    "\n",
    "study.optimize(func,\n",
    "               n_jobs=-1,\n",
    "               n_trials=100,  # 实验次数\n",
    "               # 给定timeout秒后停止训练\n",
    "               timeout=600)  # 默认timeout=None,即不受时间限制"
   ],
   "metadata": {
    "collapsed": false,
    "pycharm": {
     "name": "#%%\n"
    }
   }
  },
  {
   "cell_type": "code",
   "execution_count": 91,
   "outputs": [
    {
     "name": "stdout",
     "output_type": "stream",
     "text": [
      "0.993006993006993\n",
      "{'booster': 'gbtree', 'lambda': 5.7018439180325875e-06, 'alpha': 0.000276768329263099, 'subsample': 0.7929088020078279, 'colsample_bytree': 0.2502794583397271, 'max_depth': 5, 'min_child_weight': 2, 'eta': 0.18853333134518047, 'gamma': 4.7803845381287927e-08, 'grow_policy': 'lossguide'}\n"
     ]
    }
   ],
   "source": [
    "# 最优结果\n",
    "print(study.best_value)\n",
    "\n",
    "# 最优参数\n",
    "print(study.best_params)"
   ],
   "metadata": {
    "collapsed": false,
    "pycharm": {
     "name": "#%%\n"
    }
   }
  }
 ],
 "metadata": {
  "kernelspec": {
   "display_name": "Python 3",
   "language": "python",
   "name": "python3"
  },
  "language_info": {
   "codemirror_mode": {
    "name": "ipython",
    "version": 2
   },
   "file_extension": ".py",
   "mimetype": "text/x-python",
   "name": "python",
   "nbconvert_exporter": "python",
   "pygments_lexer": "ipython2",
   "version": "2.7.6"
  }
 },
 "nbformat": 4,
 "nbformat_minor": 0
}