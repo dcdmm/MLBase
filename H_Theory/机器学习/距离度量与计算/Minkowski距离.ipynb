{
 "cells": [
  {
   "cell_type": "markdown",
   "metadata": {
    "collapsed": true,
    "pycharm": {
     "name": "#%% md\n"
    }
   },
   "source": [
    "&emsp;&emsp;设特征空间$ \\mathcal{X} $是$ n $ 向量空间$ \\mathbf{R}^n,\\mathbf{x}_i = (x_i^{(1)},x_i^{(2)}, \\dots, x_i^{(n)} ), \\mathbf{x}_j = (x_j^{(1)},x_j^{(2)}, \\dots, x_j^{(n)},x_i, x_j $的$  L_p$距离定义为   \n",
    "$$ L_p(\\mathbf{x}_i, \\mathbf{x}_j) = \\left( \\sum \\limits _{l=1}^{n} |x_i^{(l)} - x_j^{(l)} |^p  \\right)^{\\frac{1}{p}} $$   \n",
    "这里$ p \\leq 1 $.当$ p=2$,称为欧氏距离,即   \n",
    "$$ L_2(\\mathbf{x}_1, \\mathbf{x}_j)  = \\left(\\sum \\limits _{l=1}^{n} |x_i^{(l)} - x_j^{(l)} |^2 \\right)^{\\frac{1}{2}} $$   \n",
    "当$p=1$时,称为曼哈顿距离,即     \n",
    "$$ L_1(\\mathbf{x}_1, \\mathbf{x}x_j)  = \\sum \\limits _{l=1}^{n}  \\left|x_i^{(l)} - x_j^{(l)} \\right | $$  \n",
    "当$ p=\\infty  $,它是各个坐标距离(切比雪夫距离)的最大值,即  \n",
    "$$ L_{\\infty}(\\mathbf{x}_1, \\mathbf{x}_j)  = \\max_l \\left |x_i^{(l)} - x_j^{(l)} \\right|  $$   \n",
    "\n",
    "<img src=\"../../../Other/img/distance.png\" style=\"width=400px;height=300px;float=bottom\">"
   ]
  },
  {
   "cell_type": "code",
   "execution_count": 7,
   "outputs": [
    {
     "data": {
      "text/plain": "array([[1, 3, 5],\n       [2, 4, 6]])"
     },
     "metadata": {},
     "output_type": "execute_result",
     "execution_count": 7
    }
   ],
   "source": [
    "import numpy as np\n",
    "from scipy.spatial import  distance # scipy实现\n",
    "x = np.array([1, 3, 5])\n",
    "y = np.array([2, 4, 6])\n",
    "mat = np.vstack([x, y])\n",
    "mat"
   ],
   "metadata": {
    "collapsed": false,
    "pycharm": {
     "name": "#%%\n",
     "is_executing": false
    }
   }
  },
  {
   "cell_type": "code",
   "execution_count": 8,
   "outputs": [
    {
     "data": {
      "text/plain": "array([1.73205081])"
     },
     "metadata": {},
     "output_type": "execute_result",
     "execution_count": 8
    }
   ],
   "source": [
    "# 计算(行)向量x,y的距离\n",
    "distance.pdist(mat) # 默认metric='euclidean'(欧氏距离)"
   ],
   "metadata": {
    "collapsed": false,
    "pycharm": {
     "name": "#%%\n",
     "is_executing": false
    }
   }
  },
  {
   "cell_type": "code",
   "execution_count": 9,
   "outputs": [
    {
     "data": {
      "text/plain": "array([3.])"
     },
     "metadata": {},
     "output_type": "execute_result",
     "execution_count": 9
    }
   ],
   "source": [
    "distance.pdist(mat, metric='cityblock') # 曼哈顿距离"
   ],
   "metadata": {
    "collapsed": false,
    "pycharm": {
     "name": "#%%\n",
     "is_executing": false
    }
   }
  },
  {
   "cell_type": "code",
   "execution_count": 10,
   "outputs": [
    {
     "data": {
      "text/plain": "array([1.])"
     },
     "metadata": {},
     "output_type": "execute_result",
     "execution_count": 10
    }
   ],
   "source": [
    "distance.pdist(mat, metric='chebyshev') # 切比雪夫距离\n"
   ],
   "metadata": {
    "collapsed": false,
    "pycharm": {
     "name": "#%%\n",
     "is_executing": false
    }
   }
  }
 ],
 "metadata": {
  "kernelspec": {
   "display_name": "Python 3",
   "language": "python",
   "name": "python3"
  },
  "language_info": {
   "codemirror_mode": {
    "name": "ipython",
    "version": 2
   },
   "file_extension": ".py",
   "mimetype": "text/x-python",
   "name": "python",
   "nbconvert_exporter": "python",
   "pygments_lexer": "ipython2",
   "version": "2.7.6"
  }
 },
 "nbformat": 4,
 "nbformat_minor": 0
}