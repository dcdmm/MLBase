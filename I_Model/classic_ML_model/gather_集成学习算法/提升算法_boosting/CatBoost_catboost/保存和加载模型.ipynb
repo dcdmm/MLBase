{
 "cells": [
  {
   "cell_type": "code",
   "execution_count": 13,
   "metadata": {
    "collapsed": true
   },
   "outputs": [],
   "source": [
    "import catboost as cat\n",
    "from sklearn import datasets\n",
    "from sklearn.model_selection import train_test_split"
   ]
  },
  {
   "cell_type": "code",
   "execution_count": 14,
   "outputs": [],
   "source": [
    "X = datasets.fetch_covtype().data[:3000]\n",
    "y = datasets.fetch_covtype().target[:3000]\n",
    "X_1, X_test, y_1, y_test = train_test_split(X, y, test_size=0.1)\n",
    "X_train, X_va, y_train, y_va = train_test_split(X_1, y_1)\n",
    "\n",
    "train_dataset = cat.Pool(X_train, label=y_train)"
   ],
   "metadata": {
    "collapsed": false,
    "pycharm": {
     "name": "#%%\n"
    }
   }
  },
  {
   "cell_type": "code",
   "execution_count": 15,
   "outputs": [],
   "source": [
    "params = {\"loss_function\": \"MultiClass\",\n",
    "          \"eval_metric\": \"MultiClass\",\n",
    "          \"allow_writing_files\": False,\n",
    "          \"verbose\": False,\n",
    "          \"thread_count\": -1,\n",
    "          }\n",
    "\n",
    "model = cat.train(pool=train_dataset, params=params)"
   ],
   "metadata": {
    "collapsed": false,
    "pycharm": {
     "name": "#%%\n"
    }
   }
  },
  {
   "cell_type": "code",
   "execution_count": 16,
   "outputs": [],
   "source": [
    "# 保存训练好的模型\n",
    "model.save_model(\"cat.model\")"
   ],
   "metadata": {
    "collapsed": false,
    "pycharm": {
     "name": "#%%\n"
    }
   }
  },
  {
   "cell_type": "code",
   "execution_count": 17,
   "outputs": [
    {
     "data": {
      "text/plain": "<catboost.core.CatBoost at 0x16cafc66eb0>"
     },
     "execution_count": 17,
     "metadata": {},
     "output_type": "execute_result"
    }
   ],
   "source": [
    "# 加载训练好的模型\n",
    "bst = cat.CatBoost()\n",
    "bst.load_model(\"cat.model\")\n",
    "bst"
   ],
   "metadata": {
    "collapsed": false,
    "pycharm": {
     "name": "#%%\n"
    }
   }
  },
  {
   "cell_type": "code",
   "execution_count": 18,
   "outputs": [
    {
     "data": {
      "text/plain": "array([[ 2.10357196,  0.57674235, -3.43714476, ...,  6.76347276,\n         0.07989127, -3.37069998],\n       [ 4.06100433,  7.36871905, -3.61390732, ..., -1.04569939,\n        -2.79342274,  0.54457757],\n       [ 1.14248572,  4.60575871, -1.48448944, ...,  5.48832989,\n        -2.68523703, -3.27278725],\n       ...,\n       [ 2.29063429,  3.26954861, -3.67760018, ...,  2.50575766,\n         2.16199228, -4.20177798],\n       [ 0.85815781,  0.55367634, -2.45156596, ...,  7.07950568,\n         0.66859134, -3.93000969],\n       [-1.10331087,  1.25414006, -1.26338948, ...,  7.74765869,\n        -1.1378422 , -4.78719836]])"
     },
     "execution_count": 18,
     "metadata": {},
     "output_type": "execute_result"
    }
   ],
   "source": [
    "bst.predict(X_test)\n",
    "\n",
    "\n",
    "\n"
   ],
   "metadata": {
    "collapsed": false,
    "pycharm": {
     "name": "#%%\n"
    }
   }
  }
 ],
 "metadata": {
  "kernelspec": {
   "display_name": "Python 3",
   "language": "python",
   "name": "python3"
  },
  "language_info": {
   "codemirror_mode": {
    "name": "ipython",
    "version": 2
   },
   "file_extension": ".py",
   "mimetype": "text/x-python",
   "name": "python",
   "nbconvert_exporter": "python",
   "pygments_lexer": "ipython2",
   "version": "2.7.6"
  }
 },
 "nbformat": 4,
 "nbformat_minor": 0
}