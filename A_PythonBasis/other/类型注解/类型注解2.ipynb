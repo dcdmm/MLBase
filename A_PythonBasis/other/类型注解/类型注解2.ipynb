{
 "cells": [
  {
   "cell_type": "code",
   "execution_count": 1,
   "metadata": {
    "collapsed": true
   },
   "outputs": [
    {
     "name": "stdout",
     "output_type": "stream",
     "text": [
      "{'x': typing.Any, 'return': <class 'int'>}\n",
      "1\n",
      "1\n",
      "1\n"
     ]
    }
   ],
   "source": [
    "from typing import Any\n",
    "\n",
    "\n",
    "def func_Any(x):\n",
    "    return 1\n",
    "\n",
    "\n",
    "def func_Any1(x: Any) -> int:  # 与上等价(x可以为任意类型)\n",
    "    return 1\n",
    "\n",
    "\n",
    "print(func_Any1.__annotations__)\n",
    "\n",
    "print(func_Any1(x=3))\n",
    "print(func_Any1(x=False))\n",
    "print(func_Any1(x=3.14))"
   ]
  },
  {
   "cell_type": "code",
   "execution_count": 2,
   "outputs": [
    {
     "name": "stdout",
     "output_type": "stream",
     "text": [
      "{'return': typing.NoReturn}\n",
      "hello world\n",
      "None\n"
     ]
    }
   ],
   "source": [
    "from typing import NoReturn\n",
    "\n",
    "\n",
    "def func_NoReturn(x) -> NoReturn:  # 没有返回值时\n",
    "    print(\"hello world\")\n",
    "\n",
    "\n",
    "print(func_NoReturn.__annotations__)\n",
    "\n",
    "print(func_NoReturn(1))"
   ],
   "metadata": {
    "collapsed": false,
    "pycharm": {
     "name": "#%%\n"
    }
   }
  },
  {
   "cell_type": "code",
   "execution_count": 3,
   "outputs": [
    {
     "name": "stdout",
     "output_type": "stream",
     "text": [
      "{'x': ~T_type, 'return': <class 'int'>}\n",
      "1\n",
      "1\n",
      "1\n",
      "1\n",
      "1\n",
      "1\n"
     ]
    }
   ],
   "source": [
    "from typing import TypeVar\n",
    "import torch\n",
    "\n",
    "T = TypeVar('T')  # Can be anything\n",
    "\n",
    "T_type = TypeVar('T_type', int, float, torch.FloatTensor)  # 可以为int 或 float 或 torch.FloatTensor类型\n",
    "\n",
    "\n",
    "def func_TypeVar(x: T_type) -> int:\n",
    "    return 1\n",
    "\n",
    "\n",
    "print(func_TypeVar.__annotations__)\n",
    "print(func_TypeVar(False))\n",
    "print(func_TypeVar(21))\n",
    "print(func_TypeVar(3.41))\n",
    "\n",
    "tor = torch.tensor([1.1, 2.0, 2.0], dtype=torch.float)\n",
    "print(func_TypeVar(tor))\n",
    "\n",
    "print(func_TypeVar('23'))  # 提示类型不匹配\n",
    "print(func_TypeVar([2, 3]))  # 提示类型不匹配"
   ],
   "metadata": {
    "collapsed": false,
    "pycharm": {
     "name": "#%%\n"
    }
   }
  }
 ],
 "metadata": {
  "kernelspec": {
   "display_name": "Python 3",
   "language": "python",
   "name": "python3"
  },
  "language_info": {
   "codemirror_mode": {
    "name": "ipython",
    "version": 2
   },
   "file_extension": ".py",
   "mimetype": "text/x-python",
   "name": "python",
   "nbconvert_exporter": "python",
   "pygments_lexer": "ipython2",
   "version": "2.7.6"
  }
 },
 "nbformat": 4,
 "nbformat_minor": 0
}