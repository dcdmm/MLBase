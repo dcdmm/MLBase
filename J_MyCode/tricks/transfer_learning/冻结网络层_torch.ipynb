{
 "cells": [
  {
   "cell_type": "code",
   "execution_count": 13,
   "metadata": {
    "collapsed": true,
    "pycharm": {
     "name": "#%%\n"
    }
   },
   "outputs": [],
   "source": [
    "import torch.nn as nn\n",
    "import torch\n",
    "import torch.optim as optim"
   ]
  },
  {
   "cell_type": "code",
   "execution_count": 14,
   "outputs": [],
   "source": [
    "# 定义一个简单的网络\n",
    "class net(nn.Module):\n",
    "    def __init__(self, num_class=10):\n",
    "        super(net, self).__init__()\n",
    "        self.fc1 = nn.Linear(8, 4)\n",
    "        self.fc2 = nn.Linear(4, num_class)\n",
    "\n",
    "    def forward(self, x):\n",
    "        return self.fc2(self.fc1(x))"
   ],
   "metadata": {
    "collapsed": false,
    "pycharm": {
     "name": "#%%\n"
    }
   }
  },
  {
   "cell_type": "code",
   "execution_count": 15,
   "outputs": [],
   "source": [
    "model = net()\n",
    "loss_fn = nn.CrossEntropyLoss()"
   ],
   "metadata": {
    "collapsed": false,
    "pycharm": {
     "name": "#%%\n"
    }
   }
  },
  {
   "cell_type": "code",
   "execution_count": 16,
   "outputs": [
    {
     "name": "stdout",
     "output_type": "stream",
     "text": [
      "model.fc1.weight Parameter containing:\n",
      "tensor([[-0.0624, -0.1627, -0.1996,  0.1495,  0.2983, -0.2941, -0.2399, -0.2755],\n",
      "        [ 0.2841,  0.2877, -0.0122,  0.2792, -0.0042,  0.1647,  0.0747, -0.3440],\n",
      "        [-0.2076,  0.1101, -0.0151,  0.1523,  0.1737,  0.2304, -0.1436, -0.0883],\n",
      "        [ 0.1509, -0.0522, -0.3128, -0.2118,  0.0528,  0.1268, -0.2851,  0.0909]],\n",
      "       requires_grad=True)\n",
      "model.fc2.weight Parameter containing:\n",
      "tensor([[ 0.4246, -0.1300, -0.1669, -0.1591],\n",
      "        [ 0.0152,  0.2271,  0.1063,  0.2823],\n",
      "        [ 0.3106,  0.1452,  0.1611, -0.1234],\n",
      "        [-0.2521, -0.1838, -0.4629,  0.2355],\n",
      "        [ 0.0928, -0.4808,  0.4481,  0.0825],\n",
      "        [ 0.4910, -0.0614,  0.1732,  0.0329],\n",
      "        [-0.3894,  0.4884,  0.1835,  0.4894],\n",
      "        [ 0.2525, -0.4871,  0.3600,  0.2108],\n",
      "        [-0.3905, -0.1755,  0.2169,  0.4896],\n",
      "        [-0.3713,  0.0057, -0.2189, -0.0039]], requires_grad=True)\n",
      "model.fc1.weight.requires_grad: True\n",
      "model.fc2.weight.requires_grad: True\n"
     ]
    }
   ],
   "source": [
    "# 训练前的模型参数\n",
    "print(\"model.fc1.weight\", model.fc1.weight)\n",
    "print(\"model.fc2.weight\", model.fc2.weight)\n",
    "print(\"model.fc1.weight.requires_grad:\", model.fc1.weight.requires_grad)\n",
    "print(\"model.fc2.weight.requires_grad:\", model.fc2.weight.requires_grad)"
   ],
   "metadata": {
    "collapsed": false,
    "pycharm": {
     "name": "#%%\n"
    }
   }
  },
  {
   "cell_type": "code",
   "execution_count": 17,
   "outputs": [
    {
     "name": "stdout",
     "output_type": "stream",
     "text": [
      "model.fc1.weight Parameter containing:\n",
      "tensor([[-0.0624, -0.1627, -0.1996,  0.1495,  0.2983, -0.2941, -0.2399, -0.2755],\n",
      "        [ 0.2841,  0.2877, -0.0122,  0.2792, -0.0042,  0.1647,  0.0747, -0.3440],\n",
      "        [-0.2076,  0.1101, -0.0151,  0.1523,  0.1737,  0.2304, -0.1436, -0.0883],\n",
      "        [ 0.1509, -0.0522, -0.3128, -0.2118,  0.0528,  0.1268, -0.2851,  0.0909]])\n",
      "model.fc2.weight Parameter containing:\n",
      "tensor([[ 0.4230, -0.1221, -0.1666, -0.1624],\n",
      "        [ 0.0144,  0.2241,  0.1178,  0.2899],\n",
      "        [ 0.3056,  0.1448,  0.1660, -0.1174],\n",
      "        [-0.2497, -0.1847, -0.4646,  0.2338],\n",
      "        [ 0.0927, -0.4808,  0.4453,  0.0812],\n",
      "        [ 0.4900, -0.0619,  0.1709,  0.0317],\n",
      "        [-0.3879,  0.4873,  0.1820,  0.4883],\n",
      "        [ 0.2517, -0.4870,  0.3567,  0.2088],\n",
      "        [-0.3880, -0.1763,  0.2137,  0.4873],\n",
      "        [-0.3683,  0.0044, -0.2208, -0.0047]], requires_grad=True)\n",
      "model.fc1.weight.requires_grad: False\n",
      "model.fc2.weight.requires_grad: True\n"
     ]
    }
   ],
   "source": [
    "# 冻结fc1层的参数\n",
    "for name, param in model.named_parameters():\n",
    "    if \"fc1\" in name:\n",
    "        param.requires_grad = False\n",
    "\n",
    "# 定义一个filter, 只传入requires_grad=True的模型参数\n",
    "optimizer = optim.SGD(filter(lambda p: p.requires_grad, model.parameters()), lr=1e-2)\n",
    "\n",
    "for epoch in range(10):\n",
    "    x = torch.randn((3, 8))\n",
    "    label = torch.randint(0, 3, [3]).long()\n",
    "    output = model(x)\n",
    "\n",
    "    loss = loss_fn(output, label)\n",
    "    optimizer.zero_grad()\n",
    "    loss.backward()\n",
    "    optimizer.step()\n",
    "\n",
    "# fc1层参数不变\n",
    "print(\"model.fc1.weight\", model.fc1.weight)\n",
    "print(\"model.fc2.weight\", model.fc2.weight)\n",
    "\n",
    "print(\"model.fc1.weight.requires_grad:\", model.fc1.weight.requires_grad)\n",
    "print(\"model.fc2.weight.requires_grad:\", model.fc2.weight.requires_grad)"
   ],
   "metadata": {
    "collapsed": false,
    "pycharm": {
     "name": "#%%\n"
    }
   }
  }
 ],
 "metadata": {
  "kernelspec": {
   "display_name": "Python 3",
   "language": "python",
   "name": "python3"
  },
  "language_info": {
   "codemirror_mode": {
    "name": "ipython",
    "version": 2
   },
   "file_extension": ".py",
   "mimetype": "text/x-python",
   "name": "python",
   "nbconvert_exporter": "python",
   "pygments_lexer": "ipython2",
   "version": "2.7.6"
  }
 },
 "nbformat": 4,
 "nbformat_minor": 0
}