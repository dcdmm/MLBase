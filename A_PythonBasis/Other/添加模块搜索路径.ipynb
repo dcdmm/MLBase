{
 "cells": [
  {
   "cell_type": "code",
   "execution_count": 1,
   "metadata": {
    "collapsed": true
   },
   "outputs": [
    {
     "data": {
      "text/plain": "['D:\\\\PythonCode\\\\A_PythonBasis\\\\Other',\n 'C:\\\\Users\\\\duanm\\\\anaconda3\\\\python37.zip',\n 'C:\\\\Users\\\\duanm\\\\anaconda3\\\\DLLs',\n 'C:\\\\Users\\\\duanm\\\\anaconda3\\\\lib',\n 'C:\\\\Users\\\\duanm\\\\anaconda3',\n '',\n 'C:\\\\Users\\\\duanm\\\\anaconda3\\\\lib\\\\site-packages',\n 'C:\\\\Users\\\\duanm\\\\anaconda3\\\\lib\\\\site-packages\\\\win32',\n 'C:\\\\Users\\\\duanm\\\\anaconda3\\\\lib\\\\site-packages\\\\win32\\\\lib',\n 'C:\\\\Users\\\\duanm\\\\anaconda3\\\\lib\\\\site-packages\\\\Pythonwin',\n 'C:\\\\Users\\\\duanm\\\\anaconda3\\\\lib\\\\site-packages\\\\IPython\\\\extensions',\n 'C:\\\\Users\\\\duanm\\\\.ipython']"
     },
     "execution_count": 1,
     "metadata": {},
     "output_type": "execute_result"
    }
   ],
   "source": [
    "\"\"\"\n",
    "Python添加默认模块搜索路径(作用:导入或打开文件时可直接从默认搜索路径读取):\n",
    "方法一：sys.path.append函数添加:\n",
    "import sys\n",
    "sys.path.append('D:\\PythonCode') # 临时添加(退出python环境后添加的路径会自动消失)\n",
    "for i in sys.path: # sys.path是python的搜索模块的路径集,为list数据类型\n",
    "    print(i)\n",
    "\n",
    "方法二：增加*.pth文件\n",
    "在Anaconda3\\Lib\\site-packages中添加一个路径文件.如my_module_path.pth(必须以.pth为后缀),写入你要加入的模块文件所在的目录名称\n",
    "\"\"\"\n",
    "\n",
    "import sys\n",
    "sys.path"
   ]
  },
  {
   "cell_type": "code",
   "execution_count": 2,
   "outputs": [
    {
     "data": {
      "text/plain": "['D:\\\\PythonCode\\\\A_PythonBasis\\\\Other',\n 'C:\\\\Users\\\\duanm\\\\anaconda3\\\\python37.zip',\n 'C:\\\\Users\\\\duanm\\\\anaconda3\\\\DLLs',\n 'C:\\\\Users\\\\duanm\\\\anaconda3\\\\lib',\n 'C:\\\\Users\\\\duanm\\\\anaconda3',\n '',\n 'C:\\\\Users\\\\duanm\\\\anaconda3\\\\lib\\\\site-packages',\n 'C:\\\\Users\\\\duanm\\\\anaconda3\\\\lib\\\\site-packages\\\\win32',\n 'C:\\\\Users\\\\duanm\\\\anaconda3\\\\lib\\\\site-packages\\\\win32\\\\lib',\n 'C:\\\\Users\\\\duanm\\\\anaconda3\\\\lib\\\\site-packages\\\\Pythonwin',\n 'C:\\\\Users\\\\duanm\\\\anaconda3\\\\lib\\\\site-packages\\\\IPython\\\\extensions',\n 'C:\\\\Users\\\\duanm\\\\.ipython',\n 'D:\\\\Program Files\\\\pycharm\\\\PyCharm 2020.1.4\\\\plugins\\\\python\\\\helpers\\\\pydev',\n 'D:\\\\Program Files\\\\pycharm\\\\PyCharm 2020.1.4\\\\plugins\\\\python\\\\helpers-pro\\\\jupyter_debug',\n 'D:\\\\MyCode']"
     },
     "execution_count": 2,
     "metadata": {},
     "output_type": "execute_result"
    }
   ],
   "source": [
    "sys.path.append('D:\\\\MyCode')\n",
    "sys.path"
   ],
   "metadata": {
    "collapsed": false,
    "pycharm": {
     "name": "#%%\n"
    }
   }
  }
 ],
 "metadata": {
  "kernelspec": {
   "display_name": "Python 3",
   "language": "python",
   "name": "python3"
  },
  "language_info": {
   "codemirror_mode": {
    "name": "ipython",
    "version": 2
   },
   "file_extension": ".py",
   "mimetype": "text/x-python",
   "name": "python",
   "nbconvert_exporter": "python",
   "pygments_lexer": "ipython2",
   "version": "2.7.6"
  }
 },
 "nbformat": 4,
 "nbformat_minor": 0
}