{
 "cells": [
  {
   "cell_type": "markdown",
   "metadata": {
    "pycharm": {
     "name": "#%% md\n"
    }
   },
   "source": [
    "<font color='red' size=4><center>os模块中关于文件/目录常用的函数使用方法</center></font>\n",
    "\n",
    "| 函数名 | 使用方法 |\n",
    "| :---: | :---: |\n",
    "| getcwd() | 返回当前工作目录 |\n",
    "|os.chmod(path, mode) |更改权限|\n",
    "| chdir(path) | 改变当前工作目录 |\n",
    "| listdir(path='.') | 返回path指定的文件夹包含的文件或文件夹的名字的列表(不递归)('.'表示当前目录，'..'表示上一级目录) |\n",
    "| mkdir(path) | 创建单层目录，如该目录已存在抛出异常 |\n",
    "| makedirs(path) | 递归创建多层目录，如该目录已存在抛出异常，注意：'E:\\\\\\a\\\\\\b'和'E:\\\\\\a\\\\\\c'并不会冲突 |\n",
    "| remove(path) | 删除路径为path的文件 |\n",
    "| rmdir(path) | 删除path指定的空目录，如该目录非空则抛出异常 |\n",
    "| removedirs(path) | 递归删除目录，从子目录到父目录逐层尝试删除，遇到目录非空则抛出异常 |\n",
    "| rename(old, new) | 将文件old重命名为new |\n",
    "| system(command) | 运行系统的shell命令 |\n",
    "| walk(top) | 遍历top路径以下所有的子目录，返回一个三元组：(dirpath, dirnames, filenames) |\n",
    "\n",
    "\n",
    "</br>\n",
    "</br>\n",
    "<font color='red' size=4><center>以下是支持路径操作中常用到的一些定义，支持所有平台</center></font> \n",
    "\n",
    "| os.curdir | 指代当前目录('.') |\n",
    "| :---: | :---: |\n",
    "| os.pardir | 指代上一级目录('..') |\n",
    "| os.sep | 输出操作系统特定的路径分隔符(Win下为'\\\\\\'，Linux下为'/') |\n",
    "| os.linesep | 当前平台使用的行终止符(Win下为'\\\\r\\\\n'，Linux下为'\\\\n') |\n",
    "| os.name | 指代当前使用的操作系统(包括：'posix', 'nt', 'mac', 'os2', 'ce', 'java') |\n",
    "| os.pathsep | 用于分割文件路径的字符串 |\n",
    "\n",
    "\n",
    "</br>\n",
    "</br>\n",
    "<table>\n",
    "\t<caption><font color=\"red\" size=4>os.path常用方法</font></caption>\n",
    "\t<tr align=\"center\">\n",
    "\t\t<th>函数名</th>\n",
    "\t\t<th>使用方法</th>\n",
    "\t</tr>\n",
    "\t<tr align=\"center\">\n",
    "\t\t<td>basename(path)</td>\n",
    "\t\t<td>去掉目录路径，单独返回文件名</td>\n",
    "\t</tr>\n",
    "\t<tr align=\"center\">\n",
    "\t\t<td>dirname(path)</td>\n",
    "\t\t<td>去掉文件名，单独返回目录路径</td>\n",
    "\t</tr>\n",
    "\t<tr align=\"center\">\n",
    "\t\t<td>join(path1[, path2[, ...]])</td>\n",
    "\t\t<td>将path1, path2各部分组合成一个路径名</td>\n",
    "\t</tr>\n",
    "\t<tr align=\"center\">\n",
    "\t\t<td>split(path)</td>\n",
    "\t\t<td>分割文件名与路径，返回(f_path, f_name)元组。如果分割对象为目录，它也会将最后一个目录作为文件名分离，且不会判断文件或者目录是否存在</td>\n",
    "\t</tr>\n",
    "\t<tr align=\"center\">\n",
    "\t\t<td>splitext(path)</td>\n",
    "\t\t<td>分离文件名与扩展名，返回(f_name, f_extension)元组</td>\n",
    "\t</tr>\n",
    "\t<tr align=\"center\">\n",
    "\t\t<td>getsize(file)</td>\n",
    "\t\t<td>返回指定文件的尺寸，单位是字节</td>\n",
    "\t</tr>\n",
    "\t<tr align=\"center\">\n",
    "\t\t<td>getatime(file)</td>\n",
    "\t\t<td>返回指定文件最近的访问时间（浮点型秒数，可用time模块的gmtime()或localtime()函数换算）</td>\n",
    "\t</tr>\n",
    "\t<tr align=\"center\">\n",
    "\t\t<td>getctime(file)</td>\n",
    "\t\t<td>返回指定文件的创建时间（浮点型秒数，可用time模块的gmtime()或localtime()函数换算）</td>\n",
    "\t</tr>\n",
    "\t<tr align=\"center\">\n",
    "\t\t<td>getmtime(file)</td>\n",
    "\t\t<td>返回指定文件最新的修改时间（浮点型秒数，可用time模块的gmtime()或localtime()函数换算）</td>\n",
    "\t</tr>\n",
    "\t<tr align=\"center\">\n",
    "\t\t<td>abspath(file)</td>\n",
    "\t\t<td>返回一个文件或者目录的规范化的绝对路径</td>\n",
    "\t</tr>\n",
    "\t<tr align=\"center\">\n",
    "\t\t<td colspan=2><center>以下为函数返回 True 或 False</center></td>\n",
    "\t</tr>\n",
    "\t<tr align=\"center\">\n",
    "\t\t<td>exists(path)</td>\n",
    "\t\t<td>判断指定路径（目录或文件）是否存在</td>\n",
    "\t</tr>\n",
    "\t<tr align=\"center\">\n",
    "\t\t<td>isabs(path)</td>\n",
    "\t\t<td>判断指定路径是否为绝对路径</td>\n",
    "\t</tr>\n",
    "\t<tr align=\"center\">\n",
    "\t\t<td>isdir(path)</td>\n",
    "\t\t<td>判断指定路径是否存在且是一个目录</td>\n",
    "\t</tr>\n",
    "\t<tr align=\"center\">\n",
    "\t\t<td>isfile(path)</td>\n",
    "\t\t<td>判断指定路径是否存在且是一个文件</td>\n",
    "\t</tr>\n",
    "\t<tr align=\"center\">\n",
    "\t\t<td>islink(path)</td>\n",
    "\t\t<td>判断指定路径是否存在且是一个符号链接</td>\n",
    "\t</tr>\n",
    "\t<tr align=\"center\">\n",
    "\t\t<td>ismount(path)</td>\n",
    "\t\t<td>判断指定路径是否存在且是一个挂载点</td>\n",
    "\t</tr>\n",
    "\t<tr align=\"center\">\n",
    "\t\t<td>samefile(path1, paht2)</td>\n",
    "\t\t<td>判断path1和path2两个路径是否指向同一个文件</td>\n",
    "\t</tr>\n",
    "</table>\n"
   ]
  },
  {
   "cell_type": "code",
   "execution_count": 4,
   "metadata": {
    "pycharm": {
     "metadata": false,
     "name": "#%% \n"
    }
   },
   "outputs": [],
   "source": [
    "import os"
   ]
  },
  {
   "cell_type": "code",
   "execution_count": 5,
   "outputs": [
    {
     "data": {
      "text/plain": "'D:\\\\GitHubProjects\\\\MLNote\\\\F_Tool'"
     },
     "execution_count": 5,
     "metadata": {},
     "output_type": "execute_result"
    }
   ],
   "source": [
    "os.getcwd()"
   ],
   "metadata": {
    "collapsed": false,
    "pycharm": {
     "name": "#%%\n"
    }
   }
  },
  {
   "cell_type": "code",
   "execution_count": 6,
   "metadata": {
    "pycharm": {
     "metadata": false,
     "name": "#%%\n"
    }
   },
   "outputs": [
    {
     "data": {
      "text/plain": "['os模块.ipynb',\n 'razorback.mp3',\n '__init__.py',\n '伪随机数random模块',\n '命令行解析argparse模块',\n '容器collections模块',\n '并行处理jielib.ipynb',\n '正则表达式re模块',\n '深拷贝浅拷贝copy模块',\n '符号运算sympy模块',\n '精确的浮点运算decimal模块.ipynb',\n '网络下载wget.ipynb',\n '自然语言处理工具-jieba模块(中)',\n '自然语言处理工具spacy模块',\n '计时工具timeit模块.ipynb',\n '进度条tqdm模块.ipynb',\n '迭代器itertools模块']"
     },
     "execution_count": 6,
     "metadata": {},
     "output_type": "execute_result"
    }
   ],
   "source": [
    "os.listdir('D:\\GitHubProjects\\MLNote\\F_Tool')"
   ]
  },
  {
   "cell_type": "code",
   "execution_count": 9,
   "metadata": {
    "pycharm": {
     "name": "#%%\n"
    }
   },
   "outputs": [
    {
     "name": "stdout",
     "output_type": "stream",
     "text": [
      "('D:\\\\GitHubProjects\\\\MLNote\\\\F_Tool', ['伪随机数random模块', '命令行解析argparse模块', '容器collections模块', '正则表达式re模块', '深拷贝浅拷贝copy模块', '符号运算sympy模块', '自然语言处理工具-jieba模块(中)', '自然语言处理工具spacy模块', '迭代器itertools模块'], ['os模块.ipynb', 'razorback.mp3', '__init__.py', '并行处理jielib.ipynb', '精确的浮点运算decimal模块.ipynb', '网络下载wget.ipynb', '计时工具timeit模块.ipynb', '进度条tqdm模块.ipynb'])\n",
      "('D:\\\\GitHubProjects\\\\MLNote\\\\F_Tool\\\\伪随机数random模块', [], ['固定区间内随机生成一个整数randint.ipynb', '随机数种子.ipynb', '随机选取一个元素choice.ipynb', '随机选择一个元素(依概率)choices.ipynb', '随机选择多个元素sample.ipynb'])\n",
      "('D:\\\\GitHubProjects\\\\MLNote\\\\F_Tool\\\\命令行解析argparse模块', [], ['my_argment.py', 'other_para.py', 'test.ipynb', 'volume_arg.py', '__init__.py'])\n",
      "('D:\\\\GitHubProjects\\\\MLNote\\\\F_Tool\\\\容器collections模块', [], ['双端队列deque.ipynb', '命名元组namedtuple.ipynb', '快速计数Counter.ipynb', '有序字典OrderDict.ipynb', '默认字典defaultdict.ipynb'])\n",
      "('D:\\\\GitHubProjects\\\\MLNote\\\\F_Tool\\\\正则表达式re模块', [], ['compile函数.ipynb', 'findall函数.ipynb', 'march函数.ipynb', 'search函数.ipynb', 'split函数.ipynb', 'sub函数.ipynb', '分组.ipynb', '匹配模式.ipynb', '反向引用.ipynb', '常见正则表达式.ipynb', '正则表达式速查表.ipynb'])\n",
      "('D:\\\\GitHubProjects\\\\MLNote\\\\F_Tool\\\\深拷贝浅拷贝copy模块', [], ['不同数据类型的拷贝.ipynb', '传引用深(浅)拷贝内存指向.ipynb'])\n",
      "('D:\\\\GitHubProjects\\\\MLNote\\\\F_Tool\\\\符号运算sympy模块', [], ['变量替换.ipynb', '表达式拆分.ipynb', '转换为numpy数组.ipynb', '转换为浮点数.ipynb'])\n",
      "('D:\\\\GitHubProjects\\\\MLNote\\\\F_Tool\\\\自然语言处理工具-jieba模块(中)', ['关键字提取', '分词', '词性标注'], ['add_word-del_word.ipynb', 'load_userdict.ipynb', 'suggest_freq.ipynb', 'tokenize.ipynb', 'userdict.txt'])\n",
      "('D:\\\\GitHubProjects\\\\MLNote\\\\F_Tool\\\\自然语言处理工具-jieba模块(中)\\\\关键字提取', [], ['extract_tags.ipynb', 'NBA.txt', 'set_stop_words.ipynb', 'stop_words.txt', 'textrank.ipynb', 'TextRank.pdf'])\n",
      "('D:\\\\GitHubProjects\\\\MLNote\\\\F_Tool\\\\自然语言处理工具-jieba模块(中)\\\\分词', [], ['cut.ipynb', 'cut_for_search.ipynb', '并行分词.ipynb', '西游记.txt'])\n",
      "('D:\\\\GitHubProjects\\\\MLNote\\\\F_Tool\\\\自然语言处理工具-jieba模块(中)\\\\词性标注', [], ['posseg.ipynb'])\n",
      "('D:\\\\GitHubProjects\\\\MLNote\\\\F_Tool\\\\自然语言处理工具spacy模块', [], ['分词.ipynb'])\n",
      "('D:\\\\GitHubProjects\\\\MLNote\\\\F_Tool\\\\迭代器itertools模块', [], ['chain函数.ipynb', 'count函数.ipynb', 'cycle函数.ipynb', 'islice函数.ipynb', 'permutations函数.ipynb', 'product函数.ipynb', 'repeat函数.ipynb'])\n"
     ]
    }
   ],
   "source": [
    "walk_list = list(os.walk(\"D:\\GitHubProjects\\MLNote\\F_Tool\"))  # 返回一个三元组：(dirpath, dirnames, filenames)\n",
    "for i in walk_list:\n",
    "    print(i)"
   ]
  },
  {
   "cell_type": "code",
   "execution_count": 7,
   "metadata": {
    "pycharm": {
     "name": "#%%\n"
    }
   },
   "outputs": [],
   "source": [
    "\n"
   ]
  }
 ],
 "metadata": {
  "kernelspec": {
   "display_name": "Python 3",
   "language": "python",
   "name": "python3"
  },
  "language_info": {
   "codemirror_mode": {
    "name": "ipython",
    "version": 3
   },
   "file_extension": ".py",
   "mimetype": "text/x-python",
   "name": "python",
   "nbconvert_exporter": "python",
   "pygments_lexer": "ipython3",
   "version": "3.7.7"
  },
  "toc": {
   "base_numbering": 1,
   "nav_menu": {},
   "number_sections": true,
   "sideBar": true,
   "skip_h1_title": false,
   "title_cell": "Table of Contents",
   "title_sidebar": "Contents",
   "toc_cell": false,
   "toc_position": {},
   "toc_section_display": true,
   "toc_window_display": false
  }
 },
 "nbformat": 4,
 "nbformat_minor": 1
}