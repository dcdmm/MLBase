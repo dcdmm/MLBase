{
 "cells": [
  {
   "cell_type": "code",
   "metadata": {
    "collapsed": true,
    "pycharm": {
     "name": "#%% \n"
    }
   },
   "source": [
    "import torch"
   ],
   "execution_count": 49,
   "outputs": []
  },
  {
   "cell_type": "code",
   "execution_count": 50,
   "outputs": [
    {
     "data": {
      "text/plain": "torch.Size([1])"
     },
     "execution_count": 50,
     "metadata": {},
     "output_type": "execute_result"
    }
   ],
   "source": [
    "# 完全类似numpy/基本操作/数组乘积/数据类型之间的转换\n",
    "tor_scalar_vetor = torch.tensor(10).reshape(1) # 标量转向量(法一)\n",
    "tor_scalar_vetor.shape"
   ],
   "metadata": {
    "collapsed": false,
    "pycharm": {
     "name": "#%%\n"
    }
   }
  },
  {
   "cell_type": "code",
   "execution_count": 51,
   "outputs": [
    {
     "data": {
      "text/plain": "tensor([10])"
     },
     "execution_count": 51,
     "metadata": {},
     "output_type": "execute_result"
    }
   ],
   "source": [
    "tor_scalar_vetor1 = torch.tensor(10).unsqueeze(0) # 标量转向量(法二)\n",
    "tor_scalar_vetor1"
   ],
   "metadata": {
    "collapsed": false,
    "pycharm": {
     "name": "#%%\n"
    }
   }
  },
  {
   "cell_type": "code",
   "execution_count": 52,
   "outputs": [
    {
     "data": {
      "text/plain": "torch.Size([1, 1])"
     },
     "execution_count": 52,
     "metadata": {},
     "output_type": "execute_result"
    }
   ],
   "source": [
    "tor_scalar_matrix = torch.tensor(10).reshape(1, 1) # 标量转矩阵(法一)\n",
    "tor_scalar_matrix.shape"
   ],
   "metadata": {
    "collapsed": false,
    "pycharm": {
     "name": "#%%\n"
    }
   }
  },
  {
   "cell_type": "code",
   "execution_count": 53,
   "outputs": [
    {
     "name": "stdout",
     "output_type": "stream",
     "text": [
      "torch.Size([1, 1])\n",
      "tensor([[10]])\n"
     ]
    }
   ],
   "source": [
    "tor_scalar_matrix1 = torch.tensor(10).unsqueeze(0).unsqueeze(0) # 标量转矩阵(法二)\n",
    "print(tor_scalar_matrix.shape) # (0维度尺寸=1, 1维度尺寸=1)\n",
    "print(tor_scalar_matrix)"
   ],
   "metadata": {
    "collapsed": false,
    "pycharm": {
     "name": "#%%\n"
    }
   }
  },
  {
   "cell_type": "code",
   "execution_count": 54,
   "outputs": [
    {
     "name": "stdout",
     "output_type": "stream",
     "text": [
      "torch.Size([1, 3])\n",
      "tensor([[1, 2, 3]])\n"
     ]
    }
   ],
   "source": [
    "tor_vector_matrix = torch.tensor([1, 2, 3]).reshape(1, 3) # 向量转矩阵(法一)\n",
    "print(tor_vector_matrix.shape) # (0维度尺寸=1, 1维度尺寸=3)\n",
    "print(tor_vector_matrix)"
   ],
   "metadata": {
    "collapsed": false,
    "pycharm": {
     "name": "#%%\n"
    }
   }
  },
  {
   "cell_type": "code",
   "execution_count": 55,
   "outputs": [
    {
     "name": "stdout",
     "output_type": "stream",
     "text": [
      "torch.Size([1, 3])\n",
      "tensor([[1, 2, 3]])\n"
     ]
    }
   ],
   "source": [
    "tor_vector_matrix1 = torch.tensor([1, 2, 3]).unsqueeze(0) # 向量转矩阵(法二)\n",
    "print(tor_vector_matrix1.shape) # (0维度尺寸=1, 1维度尺寸=3)--->数学中的行向量\n",
    "print(tor_vector_matrix1)"
   ],
   "metadata": {
    "collapsed": false,
    "pycharm": {
     "name": "#%%\n"
    }
   }
  },
  {
   "cell_type": "code",
   "execution_count": 56,
   "outputs": [
    {
     "data": {
      "text/plain": "tensor([[[[[1]],\n\n          [[2]],\n\n          [[3]]]]])"
     },
     "execution_count": 56,
     "metadata": {},
     "output_type": "execute_result"
    }
   ],
   "source": [
    "tor_vector_mul_matrix = torch.tensor([1, 2, 3]).reshape(1, 1, 3, 1, 1) # 高维矩阵\n",
    "tor_vector_mul_matrix"
   ],
   "metadata": {
    "collapsed": false,
    "pycharm": {
     "name": "#%%\n"
    }
   }
  },
  {
   "cell_type": "code",
   "execution_count": 57,
   "outputs": [
    {
     "data": {
      "text/plain": "tensor([[[[[1]],\n\n          [[2]],\n\n          [[3]]]]])"
     },
     "execution_count": 57,
     "metadata": {},
     "output_type": "execute_result"
    }
   ],
   "source": [
    "tor_vector_mul_matrix = torch.tensor([1, 2, 3]).\\\n",
    "    unsqueeze(0).unsqueeze(0).unsqueeze(-1).unsqueeze(-1) # 高维矩阵\n",
    "tor_vector_mul_matrix"
   ],
   "metadata": {
    "collapsed": false,
    "pycharm": {
     "name": "#%%\n"
    }
   }
  },
  {
   "cell_type": "code",
   "execution_count": 57,
   "outputs": [],
   "source": [
    "\n"
   ],
   "metadata": {
    "collapsed": false,
    "pycharm": {
     "name": "#%%\n"
    }
   }
  }
 ],
 "metadata": {
  "kernelspec": {
   "display_name": "Python 3",
   "language": "python",
   "name": "python3"
  },
  "language_info": {
   "codemirror_mode": {
    "name": "ipython",
    "version": 2
   },
   "file_extension": ".py",
   "mimetype": "text/x-python",
   "name": "python",
   "nbconvert_exporter": "python",
   "pygments_lexer": "ipython2",
   "version": "2.7.6"
  }
 },
 "nbformat": 4,
 "nbformat_minor": 0
}