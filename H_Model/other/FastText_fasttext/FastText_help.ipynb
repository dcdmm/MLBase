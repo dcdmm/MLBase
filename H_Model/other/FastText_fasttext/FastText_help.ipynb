{
 "cells": [
  {
   "cell_type": "markdown",
   "metadata": {
    "collapsed": true,
    "pycharm": {
     "name": "#%% md\n"
    }
   },
   "source": [
    "<img src=\"../../../Other/img/fasttext.jpg\" width=\"450\" height=\"310\">\n",
    "\n",
    "\n",
    "### Hierarchical softmax\n",
    "\n",
    "When the number of classes is large, computing the linear classifier is computationally expensive. \n",
    "More precisely, the computational complexity is $ O(kh) $ where $ k $ is the number of classes and h the dimension of the text representation.\n",
    "In order to improve our running time, we use a hierarchical softmax (Goodman, 2001) based on the Huffman coding tree (Mikolov et al., 2013). During training, the computational complexity drops to $ O(h log2(k))$."
   ]
  }
 ],
 "metadata": {
  "kernelspec": {
   "display_name": "Python 3",
   "language": "python",
   "name": "python3"
  },
  "language_info": {
   "codemirror_mode": {
    "name": "ipython",
    "version": 2
   },
   "file_extension": ".py",
   "mimetype": "text/x-python",
   "name": "python",
   "nbconvert_exporter": "python",
   "pygments_lexer": "ipython2",
   "version": "2.7.6"
  }
 },
 "nbformat": 4,
 "nbformat_minor": 0
}