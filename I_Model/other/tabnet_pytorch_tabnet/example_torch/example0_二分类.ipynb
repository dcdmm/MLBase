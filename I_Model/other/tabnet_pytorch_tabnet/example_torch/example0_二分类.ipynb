{
 "cells": [
  {
   "cell_type": "code",
   "execution_count": 24,
   "metadata": {
    "collapsed": true,
    "pycharm": {
     "name": "#%%\n"
    }
   },
   "outputs": [],
   "source": [
    "from pytorch_tabnet.tab_model import TabNetClassifier\n",
    "from sklearn.preprocessing import OrdinalEncoder\n",
    "import pandas as pd\n",
    "import numpy as np\n",
    "import matplotlib.pyplot as plt\n",
    "import torch\n",
    "import torch.nn.functional as F\n",
    "% matplotlib inline"
   ]
  },
  {
   "cell_type": "markdown",
   "source": [],
   "metadata": {
    "collapsed": false,
    "pycharm": {
     "name": "#%% md\n"
    }
   }
  },
  {
   "cell_type": "markdown",
   "metadata": {
    "collapsed": false,
    "pycharm": {
     "name": "#%% md\n"
    }
   },
   "source": [
    "### 数据处理"
   ]
  },
  {
   "cell_type": "code",
   "execution_count": 25,
   "metadata": {
    "collapsed": false,
    "pycharm": {
     "name": "#%%\n"
    }
   },
   "outputs": [
    {
     "data": {
      "text/plain": "       39          State-gov   77516    Bachelors   13        Never-married  \\\n0      50   Self-emp-not-inc   83311    Bachelors   13   Married-civ-spouse   \n1      38            Private  215646      HS-grad    9             Divorced   \n2      53            Private  234721         11th    7   Married-civ-spouse   \n3      28            Private  338409    Bachelors   13   Married-civ-spouse   \n4      37            Private  284582      Masters   14   Married-civ-spouse   \n...    ..                ...     ...          ...  ...                  ...   \n32555  27            Private  257302   Assoc-acdm   12   Married-civ-spouse   \n32556  40            Private  154374      HS-grad    9   Married-civ-spouse   \n32557  58            Private  151910      HS-grad    9              Widowed   \n32558  22            Private  201490      HS-grad    9        Never-married   \n32559  52       Self-emp-inc  287927      HS-grad    9   Married-civ-spouse   \n\n             Adm-clerical   Not-in-family   White     Male   2174   0   40  \\\n0         Exec-managerial         Husband   White     Male      0   0   13   \n1       Handlers-cleaners   Not-in-family   White     Male      0   0   40   \n2       Handlers-cleaners         Husband   Black     Male      0   0   40   \n3          Prof-specialty            Wife   Black   Female      0   0   40   \n4         Exec-managerial            Wife   White   Female      0   0   40   \n...                   ...             ...     ...      ...    ...  ..  ...   \n32555        Tech-support            Wife   White   Female      0   0   38   \n32556   Machine-op-inspct         Husband   White     Male      0   0   40   \n32557        Adm-clerical       Unmarried   White   Female      0   0   40   \n32558        Adm-clerical       Own-child   White     Male      0   0   20   \n32559     Exec-managerial            Wife   White   Female  15024   0   40   \n\n        United-States   <=50K  \n0       United-States   <=50K  \n1       United-States   <=50K  \n2       United-States   <=50K  \n3                Cuba   <=50K  \n4       United-States   <=50K  \n...               ...     ...  \n32555   United-States   <=50K  \n32556   United-States    >50K  \n32557   United-States   <=50K  \n32558   United-States   <=50K  \n32559   United-States    >50K  \n\n[32560 rows x 15 columns]",
      "text/html": "<div>\n<style scoped>\n    .dataframe tbody tr th:only-of-type {\n        vertical-align: middle;\n    }\n\n    .dataframe tbody tr th {\n        vertical-align: top;\n    }\n\n    .dataframe thead th {\n        text-align: right;\n    }\n</style>\n<table border=\"1\" class=\"dataframe\">\n  <thead>\n    <tr style=\"text-align: right;\">\n      <th></th>\n      <th>39</th>\n      <th>State-gov</th>\n      <th>77516</th>\n      <th>Bachelors</th>\n      <th>13</th>\n      <th>Never-married</th>\n      <th>Adm-clerical</th>\n      <th>Not-in-family</th>\n      <th>White</th>\n      <th>Male</th>\n      <th>2174</th>\n      <th>0</th>\n      <th>40</th>\n      <th>United-States</th>\n      <th>&lt;=50K</th>\n    </tr>\n  </thead>\n  <tbody>\n    <tr>\n      <th>0</th>\n      <td>50</td>\n      <td>Self-emp-not-inc</td>\n      <td>83311</td>\n      <td>Bachelors</td>\n      <td>13</td>\n      <td>Married-civ-spouse</td>\n      <td>Exec-managerial</td>\n      <td>Husband</td>\n      <td>White</td>\n      <td>Male</td>\n      <td>0</td>\n      <td>0</td>\n      <td>13</td>\n      <td>United-States</td>\n      <td>&lt;=50K</td>\n    </tr>\n    <tr>\n      <th>1</th>\n      <td>38</td>\n      <td>Private</td>\n      <td>215646</td>\n      <td>HS-grad</td>\n      <td>9</td>\n      <td>Divorced</td>\n      <td>Handlers-cleaners</td>\n      <td>Not-in-family</td>\n      <td>White</td>\n      <td>Male</td>\n      <td>0</td>\n      <td>0</td>\n      <td>40</td>\n      <td>United-States</td>\n      <td>&lt;=50K</td>\n    </tr>\n    <tr>\n      <th>2</th>\n      <td>53</td>\n      <td>Private</td>\n      <td>234721</td>\n      <td>11th</td>\n      <td>7</td>\n      <td>Married-civ-spouse</td>\n      <td>Handlers-cleaners</td>\n      <td>Husband</td>\n      <td>Black</td>\n      <td>Male</td>\n      <td>0</td>\n      <td>0</td>\n      <td>40</td>\n      <td>United-States</td>\n      <td>&lt;=50K</td>\n    </tr>\n    <tr>\n      <th>3</th>\n      <td>28</td>\n      <td>Private</td>\n      <td>338409</td>\n      <td>Bachelors</td>\n      <td>13</td>\n      <td>Married-civ-spouse</td>\n      <td>Prof-specialty</td>\n      <td>Wife</td>\n      <td>Black</td>\n      <td>Female</td>\n      <td>0</td>\n      <td>0</td>\n      <td>40</td>\n      <td>Cuba</td>\n      <td>&lt;=50K</td>\n    </tr>\n    <tr>\n      <th>4</th>\n      <td>37</td>\n      <td>Private</td>\n      <td>284582</td>\n      <td>Masters</td>\n      <td>14</td>\n      <td>Married-civ-spouse</td>\n      <td>Exec-managerial</td>\n      <td>Wife</td>\n      <td>White</td>\n      <td>Female</td>\n      <td>0</td>\n      <td>0</td>\n      <td>40</td>\n      <td>United-States</td>\n      <td>&lt;=50K</td>\n    </tr>\n    <tr>\n      <th>...</th>\n      <td>...</td>\n      <td>...</td>\n      <td>...</td>\n      <td>...</td>\n      <td>...</td>\n      <td>...</td>\n      <td>...</td>\n      <td>...</td>\n      <td>...</td>\n      <td>...</td>\n      <td>...</td>\n      <td>...</td>\n      <td>...</td>\n      <td>...</td>\n      <td>...</td>\n    </tr>\n    <tr>\n      <th>32555</th>\n      <td>27</td>\n      <td>Private</td>\n      <td>257302</td>\n      <td>Assoc-acdm</td>\n      <td>12</td>\n      <td>Married-civ-spouse</td>\n      <td>Tech-support</td>\n      <td>Wife</td>\n      <td>White</td>\n      <td>Female</td>\n      <td>0</td>\n      <td>0</td>\n      <td>38</td>\n      <td>United-States</td>\n      <td>&lt;=50K</td>\n    </tr>\n    <tr>\n      <th>32556</th>\n      <td>40</td>\n      <td>Private</td>\n      <td>154374</td>\n      <td>HS-grad</td>\n      <td>9</td>\n      <td>Married-civ-spouse</td>\n      <td>Machine-op-inspct</td>\n      <td>Husband</td>\n      <td>White</td>\n      <td>Male</td>\n      <td>0</td>\n      <td>0</td>\n      <td>40</td>\n      <td>United-States</td>\n      <td>&gt;50K</td>\n    </tr>\n    <tr>\n      <th>32557</th>\n      <td>58</td>\n      <td>Private</td>\n      <td>151910</td>\n      <td>HS-grad</td>\n      <td>9</td>\n      <td>Widowed</td>\n      <td>Adm-clerical</td>\n      <td>Unmarried</td>\n      <td>White</td>\n      <td>Female</td>\n      <td>0</td>\n      <td>0</td>\n      <td>40</td>\n      <td>United-States</td>\n      <td>&lt;=50K</td>\n    </tr>\n    <tr>\n      <th>32558</th>\n      <td>22</td>\n      <td>Private</td>\n      <td>201490</td>\n      <td>HS-grad</td>\n      <td>9</td>\n      <td>Never-married</td>\n      <td>Adm-clerical</td>\n      <td>Own-child</td>\n      <td>White</td>\n      <td>Male</td>\n      <td>0</td>\n      <td>0</td>\n      <td>20</td>\n      <td>United-States</td>\n      <td>&lt;=50K</td>\n    </tr>\n    <tr>\n      <th>32559</th>\n      <td>52</td>\n      <td>Self-emp-inc</td>\n      <td>287927</td>\n      <td>HS-grad</td>\n      <td>9</td>\n      <td>Married-civ-spouse</td>\n      <td>Exec-managerial</td>\n      <td>Wife</td>\n      <td>White</td>\n      <td>Female</td>\n      <td>15024</td>\n      <td>0</td>\n      <td>40</td>\n      <td>United-States</td>\n      <td>&gt;50K</td>\n    </tr>\n  </tbody>\n</table>\n<p>32560 rows × 15 columns</p>\n</div>"
     },
     "execution_count": 25,
     "metadata": {},
     "output_type": "execute_result"
    }
   ],
   "source": [
    "train = pd.read_csv('data/census-income.csv')\n",
    "train"
   ]
  },
  {
   "cell_type": "code",
   "execution_count": 26,
   "metadata": {
    "collapsed": false,
    "pycharm": {
     "name": "#%%\n"
    }
   },
   "outputs": [],
   "source": [
    "if \"Set\" not in train.columns:\n",
    "    train[\"Set\"] = np.random.choice([\"train\", \"valid\", \"test\"], p=[.8, .1, .1],\n",
    "                                    size=(train.shape[0],))  # 训练数据集,验证数据集,测试数据集比例\n",
    "\n",
    "train_indices = train[train.loc[:, \"Set\"] == \"train\"].index  # 训练数据集索引\n",
    "valid_indices = train[train.loc[:, \"Set\"] == \"valid\"].index  # 验证数据集索引\n",
    "test_indices = train[train.loc[:, \"Set\"] == \"test\"].index  # 测试数据集索引"
   ]
  },
  {
   "cell_type": "code",
   "execution_count": 27,
   "metadata": {
    "collapsed": false,
    "pycharm": {
     "name": "#%%\n"
    }
   },
   "outputs": [
    {
     "data": {
      "text/plain": "39                   73\n State-gov            9\n 77516            21647\n Bachelors           16\n 13                  16\n Never-married        7\n Adm-clerical        15\n Not-in-family        6\n White                5\n Male                 2\n 2174               119\n 0                   92\n 40                  94\n United-States       42\n <=50K                2\nSet                   3\ndtype: int64"
     },
     "execution_count": 27,
     "metadata": {},
     "output_type": "execute_result"
    }
   ],
   "source": [
    "nunique = train.nunique()\n",
    "nunique"
   ]
  },
  {
   "cell_type": "code",
   "execution_count": 28,
   "metadata": {
    "collapsed": false,
    "pycharm": {
     "name": "#%%\n"
    }
   },
   "outputs": [
    {
     "data": {
      "text/plain": "39                 int64\n State-gov        object\n 77516             int64\n Bachelors        object\n 13                int64\n Never-married    object\n Adm-clerical     object\n Not-in-family    object\n White            object\n Male             object\n 2174              int64\n 0                 int64\n 40                int64\n United-States    object\n <=50K            object\nSet               object\ndtype: object"
     },
     "execution_count": 28,
     "metadata": {},
     "output_type": "execute_result"
    }
   ],
   "source": [
    "types = train.dtypes\n",
    "types"
   ]
  },
  {
   "cell_type": "code",
   "execution_count": 29,
   "metadata": {
    "collapsed": false,
    "pycharm": {
     "name": "#%%\n"
    }
   },
   "outputs": [
    {
     "name": "stdout",
     "output_type": "stream",
     "text": [
      "39 73\n",
      " State-gov 9\n",
      " Bachelors 16\n",
      " 13 16\n",
      " Never-married 7\n",
      " Adm-clerical 15\n",
      " Not-in-family 6\n",
      " White 5\n",
      " Male 2\n",
      " 2174 119\n",
      " 0 92\n",
      " 40 94\n",
      " United-States 42\n",
      " <=50K 2\n",
      "Set 3\n",
      "['39', ' State-gov', ' Bachelors', ' 13', ' Never-married', ' Adm-clerical', ' Not-in-family', ' White', ' Male', ' 2174', ' 0', ' 40', ' United-States', ' <=50K', 'Set']\n",
      "{'39': 73, ' State-gov': 9, ' Bachelors': 16, ' 13': 16, ' Never-married': 7, ' Adm-clerical': 15, ' Not-in-family': 6, ' White': 5, ' Male': 2, ' 2174': 119, ' 0': 92, ' 40': 94, ' United-States': 42, ' <=50K': 2, 'Set': 3}\n"
     ]
    }
   ],
   "source": [
    "\n",
    "categorical_columns = []  # 分类特征\n",
    "categorical_dims = {}  # 分类特征和该特征唯一值数量\n",
    "for col in train.columns:\n",
    "    # 分类特征处理\n",
    "    if types[col] == 'object' or nunique[col] < 200:\n",
    "        print(col, train[col].nunique())\n",
    "        l_enc = OrdinalEncoder()  # 标签编码\n",
    "        train[col] = train[col].fillna(\"VV_likely\")\n",
    "        train[col] = l_enc.fit_transform(train[col].values.reshape(-1, 1))\n",
    "        categorical_columns.append(col)\n",
    "        categorical_dims[col] = len(l_enc.categories_[0])\n",
    "    else:\n",
    "        # 非分类特征缺失值处理\n",
    "        train.fillna(train.loc[train_indices, col].mean(), inplace=True)\n",
    "\n",
    "print(categorical_columns)\n",
    "print(categorical_dims)"
   ]
  },
  {
   "cell_type": "code",
   "execution_count": 30,
   "metadata": {
    "collapsed": false,
    "pycharm": {
     "name": "#%%\n"
    }
   },
   "outputs": [],
   "source": [
    "# 标签处理\n",
    "target = ' <=50K'\n",
    "train.loc[train[target] == 0, target] = \"wealthy\"\n",
    "train.loc[train[target] == 1, target] = \"not_wealthy\""
   ]
  },
  {
   "cell_type": "code",
   "execution_count": 31,
   "metadata": {
    "collapsed": false,
    "pycharm": {
     "name": "#%%\n"
    }
   },
   "outputs": [
    {
     "name": "stdout",
     "output_type": "stream",
     "text": [
      "['39', ' State-gov', ' 77516', ' Bachelors', ' 13', ' Never-married', ' Adm-clerical', ' Not-in-family', ' White', ' Male', ' 2174', ' 0', ' 40', ' United-States']\n",
      "[0, 1, 3, 4, 5, 6, 7, 8, 9, 10, 11, 12, 13]\n",
      "[73, 9, 16, 16, 7, 15, 6, 5, 2, 119, 92, 94, 42]\n"
     ]
    }
   ],
   "source": [
    "unused_feat = ['Set']\n",
    "\n",
    "# 特征\n",
    "features = [col for col in train.columns if col not in unused_feat + [target]]\n",
    "\n",
    "# 分类特征id\n",
    "cat_idxs = [i for i, f in enumerate(features) if f in categorical_columns]\n",
    "\n",
    "# 每个分类特征唯一值数量\n",
    "cat_dims = [categorical_dims[f] for i, f in enumerate(features) if f in categorical_columns]\n",
    "\n",
    "print(features)\n",
    "print(cat_idxs)\n",
    "print(cat_dims)"
   ]
  },
  {
   "cell_type": "code",
   "execution_count": 32,
   "metadata": {
    "collapsed": false,
    "pycharm": {
     "name": "#%%\n"
    }
   },
   "outputs": [],
   "source": [
    "X_train = train[features].values[train_indices]\n",
    "y_train = train[target].values[train_indices]\n",
    "\n",
    "X_valid = train[features].values[valid_indices]\n",
    "y_valid = train[target].values[valid_indices]\n",
    "\n",
    "X_test = train[features].values[test_indices]\n",
    "y_test = train[target].values[test_indices]"
   ]
  },
  {
   "cell_type": "code",
   "execution_count": 33,
   "metadata": {
    "collapsed": false,
    "pycharm": {
     "name": "#%%\n"
    }
   },
   "outputs": [
    {
     "name": "stdout",
     "output_type": "stream",
     "text": [
      "(25946, 14)\n",
      "(25946,)\n"
     ]
    }
   ],
   "source": [
    "# X_trainl.shape = (n_sample, n_feature)\n",
    "print(X_train.shape)\n",
    "# y_train.shape = (n_sample, )\n",
    "print(y_train.shape)"
   ]
  },
  {
   "cell_type": "markdown",
   "metadata": {
    "collapsed": false,
    "pycharm": {
     "name": "#%% md\n"
    }
   },
   "source": [
    "### TabNetClassifier二分类模型"
   ]
  },
  {
   "cell_type": "code",
   "execution_count": 34,
   "metadata": {
    "collapsed": false,
    "pycharm": {
     "name": "#%%\n"
    }
   },
   "outputs": [
    {
     "name": "stdout",
     "output_type": "stream",
     "text": [
      "Device used : cuda\n"
     ]
    },
    {
     "data": {
      "text/plain": "TabNetClassifier(n_d=8, n_a=8, n_steps=3, gamma=1.3, cat_idxs=[0, 1, 3, 4, 5, 6, 7, 8, 9, 10, 11, 12, 13], cat_dims=[73, 9, 16, 16, 7, 15, 6, 5, 2, 119, 92, 94, 42], cat_emb_dim=1, n_independent=2, n_shared=2, epsilon=1e-15, momentum=0.02, lambda_sparse=0.001, seed=1, clip_value=2.0, verbose=10, optimizer_fn=<class 'torch.optim.adam.Adam'>, optimizer_params={'lr': 0.02}, scheduler_fn=<class 'torch.optim.lr_scheduler.StepLR'>, scheduler_params={'step_size': 50, 'gamma': 0.9}, mask_type='entmax', input_dim=None, output_dim=None, device_name='auto')"
     },
     "execution_count": 34,
     "metadata": {},
     "output_type": "execute_result"
    }
   ],
   "source": [
    "clf = TabNetClassifier(\n",
    "    # Width of the decision prediction layer.\n",
    "    # Bigger values gives more capacity to the model with the risk of overfitting.\n",
    "    # Values typically range from 8 to 64.\n",
    "    n_d=8,  # 默认n_d=8\n",
    "    # Width of the attention embedding for each mask.\n",
    "    # According to the paper n_d=n_a is usually a good choice. (default=8)\n",
    "    n_a=8,  # 默认n_a=3\n",
    "    # Number of steps in the architecture (usually between 3 and 10)\n",
    "    n_steps=3,  # 默认n_steps=3\n",
    "    # This is the coefficient for feature reusage in the masks.\n",
    "    # A value close to 1 will make mask selection least correlated between layers.\n",
    "    # Values range from 1.0 to 2.0.\n",
    "    gamma=1.3,  # 默认gamam=1.3\n",
    "    # Number of shared Gated Linear Units at each step Usual values range from 1 to 5\n",
    "    n_shared=2,  # 默认n_shared=2\n",
    "    # This is the extra sparsity loss coefficient as proposed in the original paper.\n",
    "    # The bigger this coefficient is, the sparser your model will be in terms of feature selection.\n",
    "    # Depending on the difficulty of your problem, reducing this value could help.\n",
    "    lambda_sparse=1e-3,  #  默认lambda_sparse=1e-3\n",
    "    # 分类特征索引列表;默认值[]\n",
    "    cat_idxs=cat_idxs,\n",
    "    # 每个分类特征唯一值数量;默认值[]\n",
    "    cat_dims=cat_dims,\n",
    "    # pytorch优化器;默认torch.optim.Adam\n",
    "    optimizer_fn=torch.optim.Adam,\n",
    "    # pytorch优化器参数\n",
    "    optimizer_params=dict(lr=2e-2),\n",
    "    # pytorch学习率调整\n",
    "    scheduler_fn=torch.optim.lr_scheduler.StepLR,\n",
    "    # pytorch学习率调整对于参数\n",
    "    scheduler_params={\"step_size\": 50,  # how to use learning rate scheduler\n",
    "                      \"gamma\": 0.9},\n",
    "    # this is the masking function to use for selecting features.\n",
    "    # (default='sparsemax') Either \"sparsemax\" or \"entmax\"\n",
    "    mask_type='entmax',\n",
    "    # clip_value : float (default None)\n",
    "    # If a float is given this will clip the gradient at clip_value.\n",
    "    clip_value=2.0,\n",
    "    seed=1,\n",
    "    device_name='auto',  # 默认device_name='auto',可选参数'auto'/'cuda'/'cpu'\n",
    "    # Verbosity for notebooks plots, set to 1 to see every epoch, 0 to get None.\n",
    "    verbose=10  # 默认verbose=1\n",
    ")\n",
    "clf"
   ]
  },
  {
   "cell_type": "code",
   "execution_count": 35,
   "metadata": {
    "collapsed": false,
    "pycharm": {
     "name": "#%%\n"
    }
   },
   "outputs": [],
   "source": [
    "from sklearn.metrics import roc_auc_score\n",
    "from pytorch_tabnet.metrics import Metric\n",
    "\n",
    "\n",
    "class Gini(Metric):\n",
    "    \"\"\"自定义评价指标\"\"\"\n",
    "\n",
    "    def __init__(self):\n",
    "        self._name = \"gini\"  # write an understandable name here\n",
    "        self._maximize = True\n",
    "\n",
    "    def __call__(self, y_true, y_score):\n",
    "        auc = roc_auc_score(y_true, y_score[:, 1])\n",
    "        return max(2 * auc - 1, 0.)\n",
    "\n",
    "\n",
    "def my_loss_fn(y_pred, y_true):\n",
    "    \"\"\"自定义损失函数\"\"\"\n",
    "    softmax_pred = torch.nn.Softmax(dim=-1)(y_pred)\n",
    "    logloss = (1 - y_true) * torch.log(softmax_pred[:, 0])\n",
    "    logloss += y_true * torch.log(softmax_pred[:, 1])\n",
    "    return -torch.mean(logloss)"
   ]
  },
  {
   "cell_type": "code",
   "execution_count": 36,
   "metadata": {
    "collapsed": false,
    "pycharm": {
     "name": "#%%\n"
    }
   },
   "outputs": [
    {
     "name": "stdout",
     "output_type": "stream",
     "text": [
      "epoch 0  | loss: 0.65123 | train_auc: 0.63552 | train_gini: 0.27103 | valid_auc: 0.63715 | valid_gini: 0.27429 |  0:00:05s\n",
      "epoch 10 | loss: 0.35999 | train_auc: 0.90876 | train_gini: 0.81752 | valid_auc: 0.89795 | valid_gini: 0.7959  |  0:00:28s\n",
      "epoch 20 | loss: 0.32745 | train_auc: 0.93211 | train_gini: 0.86423 | valid_auc: 0.91972 | valid_gini: 0.83943 |  0:00:51s\n",
      "epoch 30 | loss: 0.3153  | train_auc: 0.93819 | train_gini: 0.87637 | valid_auc: 0.92213 | valid_gini: 0.84426 |  0:01:14s\n",
      "epoch 40 | loss: 0.31444 | train_auc: 0.94064 | train_gini: 0.88127 | valid_auc: 0.9213  | valid_gini: 0.84259 |  0:01:40s\n",
      "epoch 50 | loss: 0.31683 | train_auc: 0.93933 | train_gini: 0.87866 | valid_auc: 0.91692 | valid_gini: 0.83384 |  0:02:05s\n",
      "\n",
      "Early stopping occurred at epoch 51 with best_epoch = 31 and best_valid_gini = 0.84651\n",
      "Best weights from best epoch are automatically used!\n"
     ]
    }
   ],
   "source": [
    "clf.fit(\n",
    "    # 输入不能包括缺失值和无穷值\n",
    "    # ValueError: Input contains NaN, infinity or a value too large for dtype('float64')\n",
    "    X_train=X_train,\n",
    "    y_train=y_train,\n",
    "    # List of eval tuple set (X, y).\n",
    "    eval_set=[(X_train, y_train), (X_valid, y_valid)],\n",
    "    # List of eval set names.\n",
    "    eval_name=['train', 'valid'],\n",
    "    # List of evaluation metrics.\n",
    "    # The last metric is used for early stopping.\n",
    "    # binary classification metrics : 'auc', 'accuracy', 'balanced_accuracy', 'logloss'\n",
    "    # multiclass classification : 'accuracy', 'balanced_accuracy', 'logloss'\n",
    "    # regression: 'mse', 'mae', 'rmse', 'rmsle'\n",
    "    eval_metric=['auc', Gini],\n",
    "    # loss function for training (default to mse for regression and cross entropy for classification)\n",
    "    loss_fn=F.cross_entropy,  # 使用pytorch其他损失函数\n",
    "    # Maximum number of epochs for trainng.\n",
    "    max_epochs=300,  # 默认值200\n",
    "    # Number of consecutive epochs without improvement before performing early stopping.\n",
    "    patience=20,  # 默认值15\n",
    "    # Number of examples per batch. Large batch sizes are recommended.\n",
    "    batch_size=1024,  # 默认值1024\n",
    "    # Number or workers used in torch.utils.data.Dataloader\n",
    "    # num_workers=8,  # 默认值0\n",
    "\n",
    "    # Size of the mini batches used for \"Ghost Batch Normalization\". /!\\ virtual_batch_size should divide batch_size\n",
    "    virtual_batch_size=128,  # 默认值128\n",
    "    # Only for TabNetClassifier Sampling parameter 0 : no sampling 1 : automated sampling with inverse class occurrences dict : keys are classes, values are weights for each class\n",
    "    weights=1,\n",
    "    # Whether to drop last batch if not complete during training\n",
    "    drop_last=False  # 默认值false\n",
    ")"
   ]
  },
  {
   "cell_type": "markdown",
   "metadata": {
    "collapsed": false,
    "pycharm": {
     "name": "#%% md\n"
    }
   },
   "source": [
    "### 结果分析"
   ]
  },
  {
   "cell_type": "code",
   "execution_count": 37,
   "metadata": {
    "collapsed": false,
    "pycharm": {
     "name": "#%%\n"
    }
   },
   "outputs": [
    {
     "data": {
      "text/plain": "{'loss': [0.6512299176860608, 0.5145118210835437, 0.46466223366376497, 0.4366756219554405, 0.4138338853626844, 0.4038585981485205, 0.39647020660883514, 0.3864773483928972, 0.377915892668185, 0.36724892468613446, 0.35999306277845394, 0.35540570472500277, 0.36032449999495514, 0.35006179998772446, 0.346794359131546, 0.3355686527389077, 0.3410760621093504, 0.3401582213100725, 0.32816842412706015, 0.3325526762107909, 0.32745238969065604, 0.32946149154533844, 0.3237778056120897, 0.3281345921920699, 0.33041546004625116, 0.319092522893389, 0.32215223379549734, 0.32178774371296376, 0.31481276155850535, 0.3197285085215856, 0.3153029190430817, 0.32159107578459606, 0.3260603866369109, 0.31299205301381905, 0.3111092911522491, 0.3068005111492618, 0.3176031705248487, 0.31626555820727303, 0.3168283703469976, 0.31475474236833556, 0.31443621601961375, 0.31956794864411137, 0.31338765220221965, 0.30962639353990756, 0.31413505083886273, 0.3091051492282679, 0.311042736747404, 0.30928236607237897, 0.3075945615483572, 0.30676887080028553, 0.3168306115951257, 0.3077952503275873], 'lr': [0.02, 0.02, 0.02, 0.02, 0.02, 0.02, 0.02, 0.02, 0.02, 0.02, 0.02, 0.02, 0.02, 0.02, 0.02, 0.02, 0.02, 0.02, 0.02, 0.02, 0.02, 0.02, 0.02, 0.02, 0.02, 0.02, 0.02, 0.02, 0.02, 0.02, 0.02, 0.02, 0.02, 0.02, 0.02, 0.02, 0.02, 0.02, 0.02, 0.02, 0.02, 0.02, 0.02, 0.02, 0.02, 0.02, 0.02, 0.02, 0.02, 0.02, 0.018000000000000002, 0.018000000000000002], 'train_auc': [0.6355158878668198, 0.7911641754338554, 0.837035974069275, 0.8672110861723215, 0.8783705600664632, 0.880425883839243, 0.8813481519319895, 0.8841055474604395, 0.892526791647914, 0.9043333185903935, 0.9087623893347953, 0.9109424448589748, 0.921242178546398, 0.9257358711603147, 0.9282090843727107, 0.9291748036353821, 0.92861744760505, 0.9314483188674312, 0.931332967514013, 0.9339162869954634, 0.9321140233547609, 0.9348704913740842, 0.9346864476416643, 0.9352634757760538, 0.9345099576407798, 0.9357489154218603, 0.9354334691627922, 0.9371148163953156, 0.9362100575687499, 0.9365553542307216, 0.9381868184833047, 0.9387286782257795, 0.9383727010329455, 0.9392181195266834, 0.9390509856222314, 0.9396253729882773, 0.9387735712876225, 0.9386901967226606, 0.940201992046589, 0.9386539185600004, 0.9406355519351648, 0.940510010132126, 0.93838160350046, 0.9404672880086761, 0.9405411485171358, 0.9408113736434469, 0.9415077426355775, 0.9411036726769257, 0.9412968861939012, 0.9407027781206996, 0.9393312391878357, 0.9388954314059613], 'train_gini': [0.27103177573363957, 0.5823283508677108, 0.67407194813855, 0.7344221723446429, 0.7567411201329264, 0.7608517676784861, 0.7626963038639789, 0.7682110949208789, 0.7850535832958281, 0.8086666371807869, 0.8175247786695905, 0.8218848897179496, 0.842484357092796, 0.8514717423206295, 0.8564181687454213, 0.8583496072707641, 0.8572348952101001, 0.8628966377348624, 0.8626659350280259, 0.8678325739909267, 0.8642280467095218, 0.8697409827481684, 0.8693728952833286, 0.8705269515521077, 0.8690199152815596, 0.8714978308437207, 0.8708669383255845, 0.8742296327906312, 0.8724201151374997, 0.8731107084614431, 0.8763736369666093, 0.8774573564515591, 0.8767454020658909, 0.8784362390533669, 0.8781019712444629, 0.8792507459765546, 0.877547142575245, 0.8773803934453213, 0.8804039840931781, 0.8773078371200007, 0.8812711038703296, 0.881020020264252, 0.8767632070009199, 0.8809345760173521, 0.8810822970342715, 0.8816227472868938, 0.8830154852711549, 0.8822073453538515, 0.8825937723878023, 0.8814055562413992, 0.8786624783756714, 0.8777908628119226], 'valid_auc': [0.6371474046356127, 0.7846640198177002, 0.8315090503400616, 0.8591716634601638, 0.8658245672928903, 0.8716909305331447, 0.8712400846848545, 0.8729297807591287, 0.8822579960487557, 0.8915769406986451, 0.8979517253392444, 0.8995004101038262, 0.9080806311451534, 0.9122353415328076, 0.9157703828432662, 0.9143053778005261, 0.917846030287668, 0.9174449531369162, 0.9181024366656728, 0.9216064945222717, 0.9197157719442142, 0.9204515679823331, 0.920895582832922, 0.9201392938016991, 0.9204066785688669, 0.9208633795580442, 0.9227340970714049, 0.9229426864655004, 0.9215728274621722, 0.9211697985977914, 0.9221276020612048, 0.9232542287535235, 0.9211141747593659, 0.9213298391153661, 0.922681400803423, 0.9210746525583795, 0.9199182622332192, 0.9182519867224922, 0.9214806089932036, 0.9228956013742015, 0.9212966599836738, 0.922338143168929, 0.9230858934530255, 0.9218314295180098, 0.9212081009777597, 0.9196630756762322, 0.9203208031691927, 0.9204305870608218, 0.9184286168059133, 0.9179465435395595, 0.9169218938843543, 0.9163290608695567], 'valid_gini': [0.2742948092712254, 0.5693280396354004, 0.6630181006801232, 0.7183433269203277, 0.7316491345857805, 0.7433818610662895, 0.742480169369709, 0.7458595615182575, 0.7645159920975113, 0.7831538813972903, 0.7959034506784888, 0.7990008202076524, 0.8161612622903067, 0.8244706830656152, 0.8315407656865323, 0.8286107556010522, 0.835692060575336, 0.8348899062738324, 0.8362048733313456, 0.8432129890445434, 0.8394315438884283, 0.8409031359646661, 0.8417911656658441, 0.8402785876033982, 0.8408133571377339, 0.8417267591160884, 0.8454681941428097, 0.8458853729310007, 0.8431456549243443, 0.8423395971955827, 0.8442552041224096, 0.846508457507047, 0.8422283495187317, 0.8426596782307323, 0.845362801606846, 0.842149305116759, 0.8398365244664383, 0.8365039734449844, 0.8429612179864072, 0.8457912027484029, 0.8425933199673477, 0.8446762863378581, 0.846171786906051, 0.8436628590360196, 0.8424162019555195, 0.8393261513524644, 0.8406416063383855, 0.8408611741216436, 0.8368572336118265, 0.835893087079119, 0.8338437877687086, 0.8326581217391134]}"
     },
     "execution_count": 37,
     "metadata": {},
     "output_type": "execute_result"
    }
   ],
   "source": [
    "# pytorch_tabnet.callbacks.History类型\n",
    "clf.history"
   ]
  },
  {
   "cell_type": "code",
   "execution_count": 38,
   "metadata": {
    "collapsed": false,
    "pycharm": {
     "name": "#%%\n"
    }
   },
   "outputs": [
    {
     "data": {
      "text/plain": "{'loss': [0.6512299176860608,\n  0.5145118210835437,\n  0.46466223366376497,\n  0.4366756219554405,\n  0.4138338853626844,\n  0.4038585981485205,\n  0.39647020660883514,\n  0.3864773483928972,\n  0.377915892668185,\n  0.36724892468613446,\n  0.35999306277845394,\n  0.35540570472500277,\n  0.36032449999495514,\n  0.35006179998772446,\n  0.346794359131546,\n  0.3355686527389077,\n  0.3410760621093504,\n  0.3401582213100725,\n  0.32816842412706015,\n  0.3325526762107909,\n  0.32745238969065604,\n  0.32946149154533844,\n  0.3237778056120897,\n  0.3281345921920699,\n  0.33041546004625116,\n  0.319092522893389,\n  0.32215223379549734,\n  0.32178774371296376,\n  0.31481276155850535,\n  0.3197285085215856,\n  0.3153029190430817,\n  0.32159107578459606,\n  0.3260603866369109,\n  0.31299205301381905,\n  0.3111092911522491,\n  0.3068005111492618,\n  0.3176031705248487,\n  0.31626555820727303,\n  0.3168283703469976,\n  0.31475474236833556,\n  0.31443621601961375,\n  0.31956794864411137,\n  0.31338765220221965,\n  0.30962639353990756,\n  0.31413505083886273,\n  0.3091051492282679,\n  0.311042736747404,\n  0.30928236607237897,\n  0.3075945615483572,\n  0.30676887080028553,\n  0.3168306115951257,\n  0.3077952503275873],\n 'lr': [0.02,\n  0.02,\n  0.02,\n  0.02,\n  0.02,\n  0.02,\n  0.02,\n  0.02,\n  0.02,\n  0.02,\n  0.02,\n  0.02,\n  0.02,\n  0.02,\n  0.02,\n  0.02,\n  0.02,\n  0.02,\n  0.02,\n  0.02,\n  0.02,\n  0.02,\n  0.02,\n  0.02,\n  0.02,\n  0.02,\n  0.02,\n  0.02,\n  0.02,\n  0.02,\n  0.02,\n  0.02,\n  0.02,\n  0.02,\n  0.02,\n  0.02,\n  0.02,\n  0.02,\n  0.02,\n  0.02,\n  0.02,\n  0.02,\n  0.02,\n  0.02,\n  0.02,\n  0.02,\n  0.02,\n  0.02,\n  0.02,\n  0.02,\n  0.018000000000000002,\n  0.018000000000000002],\n 'train_auc': [0.6355158878668198,\n  0.7911641754338554,\n  0.837035974069275,\n  0.8672110861723215,\n  0.8783705600664632,\n  0.880425883839243,\n  0.8813481519319895,\n  0.8841055474604395,\n  0.892526791647914,\n  0.9043333185903935,\n  0.9087623893347953,\n  0.9109424448589748,\n  0.921242178546398,\n  0.9257358711603147,\n  0.9282090843727107,\n  0.9291748036353821,\n  0.92861744760505,\n  0.9314483188674312,\n  0.931332967514013,\n  0.9339162869954634,\n  0.9321140233547609,\n  0.9348704913740842,\n  0.9346864476416643,\n  0.9352634757760538,\n  0.9345099576407798,\n  0.9357489154218603,\n  0.9354334691627922,\n  0.9371148163953156,\n  0.9362100575687499,\n  0.9365553542307216,\n  0.9381868184833047,\n  0.9387286782257795,\n  0.9383727010329455,\n  0.9392181195266834,\n  0.9390509856222314,\n  0.9396253729882773,\n  0.9387735712876225,\n  0.9386901967226606,\n  0.940201992046589,\n  0.9386539185600004,\n  0.9406355519351648,\n  0.940510010132126,\n  0.93838160350046,\n  0.9404672880086761,\n  0.9405411485171358,\n  0.9408113736434469,\n  0.9415077426355775,\n  0.9411036726769257,\n  0.9412968861939012,\n  0.9407027781206996,\n  0.9393312391878357,\n  0.9388954314059613],\n 'train_gini': [0.27103177573363957,\n  0.5823283508677108,\n  0.67407194813855,\n  0.7344221723446429,\n  0.7567411201329264,\n  0.7608517676784861,\n  0.7626963038639789,\n  0.7682110949208789,\n  0.7850535832958281,\n  0.8086666371807869,\n  0.8175247786695905,\n  0.8218848897179496,\n  0.842484357092796,\n  0.8514717423206295,\n  0.8564181687454213,\n  0.8583496072707641,\n  0.8572348952101001,\n  0.8628966377348624,\n  0.8626659350280259,\n  0.8678325739909267,\n  0.8642280467095218,\n  0.8697409827481684,\n  0.8693728952833286,\n  0.8705269515521077,\n  0.8690199152815596,\n  0.8714978308437207,\n  0.8708669383255845,\n  0.8742296327906312,\n  0.8724201151374997,\n  0.8731107084614431,\n  0.8763736369666093,\n  0.8774573564515591,\n  0.8767454020658909,\n  0.8784362390533669,\n  0.8781019712444629,\n  0.8792507459765546,\n  0.877547142575245,\n  0.8773803934453213,\n  0.8804039840931781,\n  0.8773078371200007,\n  0.8812711038703296,\n  0.881020020264252,\n  0.8767632070009199,\n  0.8809345760173521,\n  0.8810822970342715,\n  0.8816227472868938,\n  0.8830154852711549,\n  0.8822073453538515,\n  0.8825937723878023,\n  0.8814055562413992,\n  0.8786624783756714,\n  0.8777908628119226],\n 'valid_auc': [0.6371474046356127,\n  0.7846640198177002,\n  0.8315090503400616,\n  0.8591716634601638,\n  0.8658245672928903,\n  0.8716909305331447,\n  0.8712400846848545,\n  0.8729297807591287,\n  0.8822579960487557,\n  0.8915769406986451,\n  0.8979517253392444,\n  0.8995004101038262,\n  0.9080806311451534,\n  0.9122353415328076,\n  0.9157703828432662,\n  0.9143053778005261,\n  0.917846030287668,\n  0.9174449531369162,\n  0.9181024366656728,\n  0.9216064945222717,\n  0.9197157719442142,\n  0.9204515679823331,\n  0.920895582832922,\n  0.9201392938016991,\n  0.9204066785688669,\n  0.9208633795580442,\n  0.9227340970714049,\n  0.9229426864655004,\n  0.9215728274621722,\n  0.9211697985977914,\n  0.9221276020612048,\n  0.9232542287535235,\n  0.9211141747593659,\n  0.9213298391153661,\n  0.922681400803423,\n  0.9210746525583795,\n  0.9199182622332192,\n  0.9182519867224922,\n  0.9214806089932036,\n  0.9228956013742015,\n  0.9212966599836738,\n  0.922338143168929,\n  0.9230858934530255,\n  0.9218314295180098,\n  0.9212081009777597,\n  0.9196630756762322,\n  0.9203208031691927,\n  0.9204305870608218,\n  0.9184286168059133,\n  0.9179465435395595,\n  0.9169218938843543,\n  0.9163290608695567],\n 'valid_gini': [0.2742948092712254,\n  0.5693280396354004,\n  0.6630181006801232,\n  0.7183433269203277,\n  0.7316491345857805,\n  0.7433818610662895,\n  0.742480169369709,\n  0.7458595615182575,\n  0.7645159920975113,\n  0.7831538813972903,\n  0.7959034506784888,\n  0.7990008202076524,\n  0.8161612622903067,\n  0.8244706830656152,\n  0.8315407656865323,\n  0.8286107556010522,\n  0.835692060575336,\n  0.8348899062738324,\n  0.8362048733313456,\n  0.8432129890445434,\n  0.8394315438884283,\n  0.8409031359646661,\n  0.8417911656658441,\n  0.8402785876033982,\n  0.8408133571377339,\n  0.8417267591160884,\n  0.8454681941428097,\n  0.8458853729310007,\n  0.8431456549243443,\n  0.8423395971955827,\n  0.8442552041224096,\n  0.846508457507047,\n  0.8422283495187317,\n  0.8426596782307323,\n  0.845362801606846,\n  0.842149305116759,\n  0.8398365244664383,\n  0.8365039734449844,\n  0.8429612179864072,\n  0.8457912027484029,\n  0.8425933199673477,\n  0.8446762863378581,\n  0.846171786906051,\n  0.8436628590360196,\n  0.8424162019555195,\n  0.8393261513524644,\n  0.8406416063383855,\n  0.8408611741216436,\n  0.8368572336118265,\n  0.835893087079119,\n  0.8338437877687086,\n  0.8326581217391134]}"
     },
     "execution_count": 38,
     "metadata": {},
     "output_type": "execute_result"
    }
   ],
   "source": [
    "# 字典类型\n",
    "clf.history.history"
   ]
  },
  {
   "cell_type": "code",
   "execution_count": 39,
   "metadata": {
    "collapsed": false,
    "pycharm": {
     "name": "#%%\n"
    }
   },
   "outputs": [
    {
     "data": {
      "text/plain": "dict_keys(['loss', 'lr', 'train_auc', 'train_gini', 'valid_auc', 'valid_gini'])"
     },
     "execution_count": 39,
     "metadata": {},
     "output_type": "execute_result"
    }
   ],
   "source": [
    "# 通过设置eval_set,eval_metric参数生成评估指标(train_auc,train_gini,valid_auc,valid_gini)\n",
    "clf.history.history.keys()"
   ]
  },
  {
   "cell_type": "code",
   "execution_count": 40,
   "metadata": {
    "collapsed": false,
    "pycharm": {
     "name": "#%%\n"
    }
   },
   "outputs": [
    {
     "data": {
      "text/plain": "[<matplotlib.lines.Line2D at 0x228f98fd400>]"
     },
     "execution_count": 40,
     "metadata": {},
     "output_type": "execute_result"
    },
    {
     "data": {
      "text/plain": "<Figure size 432x288 with 1 Axes>",
      "image/png": "[encoded data removed]"
     },
     "metadata": {
      "needs_background": "light"
     },
     "output_type": "display_data"
    }
   ],
   "source": [
    "# plot losses(训练数据集)\n",
    "plt.plot(clf.history['loss'])"
   ]
  },
  {
   "cell_type": "code",
   "execution_count": 41,
   "metadata": {
    "collapsed": false,
    "pycharm": {
     "name": "#%%\n"
    }
   },
   "outputs": [
    {
     "data": {
      "text/plain": "<matplotlib.legend.Legend at 0x228f97ac820>"
     },
     "execution_count": 41,
     "metadata": {},
     "output_type": "execute_result"
    },
    {
     "data": {
      "text/plain": "<Figure size 432x288 with 1 Axes>",
      "image/png": "[encoded data removed]"
     },
     "metadata": {
      "needs_background": "light"
     },
     "output_type": "display_data"
    }
   ],
   "source": [
    "# plot auc\n",
    "plt.plot(clf.history['train_auc'], label=\"train_auc\")\n",
    "plt.plot(clf.history['valid_auc'], label=\"valid_auc\")\n",
    "plt.legend()"
   ]
  },
  {
   "cell_type": "code",
   "execution_count": 42,
   "metadata": {
    "collapsed": false,
    "pycharm": {
     "name": "#%%\n"
    }
   },
   "outputs": [
    {
     "data": {
      "text/plain": "<matplotlib.legend.Legend at 0x228f97835e0>"
     },
     "execution_count": 42,
     "metadata": {},
     "output_type": "execute_result"
    },
    {
     "data": {
      "text/plain": "<Figure size 432x288 with 1 Axes>",
      "image/png": "[encoded data removed]"
     },
     "metadata": {
      "needs_background": "light"
     },
     "output_type": "display_data"
    }
   ],
   "source": [
    "# plot gini\n",
    "plt.plot(clf.history['train_gini'], label=\"train_auc\")\n",
    "plt.plot(clf.history['valid_gini'], label=\"valid_auc\")\n",
    "plt.legend()"
   ]
  },
  {
   "cell_type": "code",
   "execution_count": 43,
   "metadata": {
    "collapsed": false,
    "pycharm": {
     "name": "#%%\n"
    }
   },
   "outputs": [
    {
     "data": {
      "text/plain": "[<matplotlib.lines.Line2D at 0x228f965d520>]"
     },
     "execution_count": 43,
     "metadata": {},
     "output_type": "execute_result"
    },
    {
     "data": {
      "text/plain": "<Figure size 432x288 with 1 Axes>",
      "image/png": "[encoded data removed]"
     },
     "metadata": {
      "needs_background": "light"
     },
     "output_type": "display_data"
    }
   ],
   "source": [
    "# plot learning rates\n",
    "plt.plot(clf.history['lr'])"
   ]
  },
  {
   "cell_type": "code",
   "execution_count": 44,
   "metadata": {
    "collapsed": false,
    "pycharm": {
     "name": "#%%\n"
    }
   },
   "outputs": [
    {
     "data": {
      "text/plain": "array(['not_wealthy', 'wealthy'], dtype='<U11')"
     },
     "execution_count": 44,
     "metadata": {},
     "output_type": "execute_result"
    }
   ],
   "source": [
    "# 数据类别\n",
    "clf.classes_"
   ]
  },
  {
   "cell_type": "code",
   "execution_count": 45,
   "metadata": {
    "collapsed": false,
    "pycharm": {
     "name": "#%%\n"
    }
   },
   "outputs": [
    {
     "data": {
      "text/plain": "array(['not_wealthy', 'not_wealthy', 'wealthy', ..., 'wealthy',\n       'not_wealthy', 'wealthy'], dtype='<U11')"
     },
     "execution_count": 45,
     "metadata": {},
     "output_type": "execute_result"
    }
   ],
   "source": [
    "clf.predict(X_test)  # (n_sample, )"
   ]
  },
  {
   "cell_type": "code",
   "execution_count": 46,
   "metadata": {
    "collapsed": false,
    "pycharm": {
     "name": "#%%\n"
    }
   },
   "outputs": [
    {
     "data": {
      "text/plain": "array([[0.7811616 , 0.21883835],\n       [0.78739625, 0.21260373],\n       [0.00940684, 0.99059314],\n       ...,\n       [0.4213873 , 0.57861274],\n       [0.8050957 , 0.19490431],\n       [0.22367571, 0.77632433]], dtype=float32)"
     },
     "execution_count": 46,
     "metadata": {},
     "output_type": "execute_result"
    }
   ],
   "source": [
    "clf.predict_proba(X_test)  # (n_sample, num_class)"
   ]
  },
  {
   "cell_type": "code",
   "execution_count": 47,
   "metadata": {
    "collapsed": false,
    "pycharm": {
     "name": "#%%\n"
    }
   },
   "outputs": [
    {
     "data": {
      "text/plain": "array([0.07336164, 0.03336358, 0.02978641, 0.03980599, 0.08091561,\n       0.06906659, 0.12115281, 0.13244133, 0.00256218, 0.10938718,\n       0.18255853, 0.10643507, 0.01854509, 0.00061799])"
     },
     "execution_count": 47,
     "metadata": {},
     "output_type": "execute_result"
    }
   ],
   "source": [
    "# 特征的相对重要性\n",
    "clf.feature_importances_"
   ]
  },
  {
   "cell_type": "markdown",
   "metadata": {
    "collapsed": false,
    "pycharm": {
     "name": "#%% md\n"
    }
   },
   "source": [
    "### 保存和加载模型"
   ]
  },
  {
   "cell_type": "code",
   "execution_count": 48,
   "metadata": {
    "collapsed": false,
    "pycharm": {
     "name": "#%%\n"
    }
   },
   "outputs": [
    {
     "name": "stdout",
     "output_type": "stream",
     "text": [
      "Successfully saved model at ./tabnet_model_test_1.zip\n"
     ]
    }
   ],
   "source": [
    "# save tabnet model\n",
    "saving_path_name = \"./tabnet_model_test_1\"\n",
    "saved_filepath = clf.save_model(saving_path_name)"
   ]
  },
  {
   "cell_type": "code",
   "execution_count": 49,
   "metadata": {
    "collapsed": false,
    "pycharm": {
     "name": "#%%\n"
    }
   },
   "outputs": [
    {
     "name": "stdout",
     "output_type": "stream",
     "text": [
      "Device used : cuda\n",
      "Device used : cuda\n"
     ]
    }
   ],
   "source": [
    "# define new model with basic parameters and load state dict weights\n",
    "loaded_clf = TabNetClassifier()\n",
    "loaded_clf.load_model('tabnet_model_test_1.zip')"
   ]
  },
  {
   "cell_type": "code",
   "execution_count": 50,
   "metadata": {
    "collapsed": false,
    "pycharm": {
     "name": "#%%\n"
    }
   },
   "outputs": [
    {
     "name": "stdout",
     "output_type": "stream",
     "text": [
      "FINAL TEST SCORE FOR census-income : 0.9152196172178384\n",
      "['not_wealthy' 'not_wealthy' 'wealthy' ... 'wealthy' 'not_wealthy'\n",
      " 'wealthy']\n"
     ]
    }
   ],
   "source": [
    "loaded_preds = loaded_clf.predict_proba(X_test)\n",
    "loaded_test_auc = roc_auc_score(y_score=loaded_preds[:, 1], y_true=y_test)\n",
    "\n",
    "print(f\"FINAL TEST SCORE FOR census-income : {loaded_test_auc}\")\n",
    "print(loaded_clf.predict(X_test))"
   ]
  },
  {
   "cell_type": "code",
   "execution_count": 50,
   "metadata": {
    "collapsed": false,
    "pycharm": {
     "name": "#%%\n"
    }
   },
   "outputs": [],
   "source": []
  }
 ],
 "metadata": {
  "kernelspec": {
   "display_name": "Python 3",
   "language": "python",
   "name": "python3"
  },
  "language_info": {
   "codemirror_mode": {
    "name": "ipython",
    "version": 2
   },
   "file_extension": ".py",
   "mimetype": "text/x-python",
   "name": "python",
   "nbconvert_exporter": "python",
   "pygments_lexer": "ipython2",
   "version": "2.7.6"
  }
 },
 "nbformat": 4,
 "nbformat_minor": 0
}