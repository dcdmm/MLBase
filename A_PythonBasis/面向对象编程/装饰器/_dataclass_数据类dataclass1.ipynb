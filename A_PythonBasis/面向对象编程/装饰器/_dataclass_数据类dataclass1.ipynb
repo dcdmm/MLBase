{
 "cells": [
  {
   "cell_type": "code",
   "execution_count": 73,
   "metadata": {
    "collapsed": true
   },
   "outputs": [],
   "source": [
    "from dataclasses import dataclass, field\n",
    "from typing import Any, List, Tuple, Dict"
   ]
  },
  {
   "cell_type": "code",
   "execution_count": 74,
   "outputs": [
    {
     "ename": "FrozenInstanceError",
     "evalue": "cannot assign to field 'name'",
     "output_type": "error",
     "traceback": [
      "\u001B[1;31m---------------------------------------------------------------------------\u001B[0m",
      "\u001B[1;31mFrozenInstanceError\u001B[0m                       Traceback (most recent call last)",
      "Input \u001B[1;32mIn [74]\u001B[0m, in \u001B[0;36m<cell line: 9>\u001B[1;34m()\u001B[0m\n\u001B[0;32m      5\u001B[0m     age: Any \u001B[38;5;241m=\u001B[39m \u001B[38;5;241m23\u001B[39m\n\u001B[0;32m      8\u001B[0m data \u001B[38;5;241m=\u001B[39m Student(\u001B[38;5;124m'\u001B[39m\u001B[38;5;124mmy_name\u001B[39m\u001B[38;5;124m'\u001B[39m, \u001B[38;5;241m19\u001B[39m)\n\u001B[1;32m----> 9\u001B[0m data\u001B[38;5;241m.\u001B[39mname \u001B[38;5;241m=\u001B[39m \u001B[38;5;124m'\u001B[39m\u001B[38;5;124mother\u001B[39m\u001B[38;5;124m'\u001B[39m\n",
      "File \u001B[1;32m<string>:4\u001B[0m, in \u001B[0;36m__setattr__\u001B[1;34m(self, name, value)\u001B[0m\n",
      "\u001B[1;31mFrozenInstanceError\u001B[0m: cannot assign to field 'name'"
     ]
    }
   ],
   "source": [
    "# 对象初始化后,禁止更改值(通过设置forzen=True)\n",
    "@dataclass(frozen=True)\n",
    "class Student:\n",
    "    name: Any\n",
    "    age: Any = 23\n",
    "\n",
    "\n",
    "data = Student('my_name', 19)\n",
    "data.name = 'other'  # FrozenInstanceError: cannot assign to field 'name'"
   ],
   "metadata": {
    "collapsed": false,
    "pycharm": {
     "name": "#%%\n"
    }
   }
  },
  {
   "cell_type": "code",
   "execution_count": 75,
   "outputs": [],
   "source": [
    "def default_list():  # 必须为无参函数\n",
    "    return [1, 2, 3, 4, 5]\n",
    "\n",
    "\n",
    "def default_dict():  # 必须为无参函数\n",
    "    return {'AA': 0, 'BB': 1}\n",
    "\n",
    "\n",
    "@dataclass\n",
    "class Filed_test:\n",
    "    # tuple为不可变数据类型\n",
    "    my_tuple: Tuple[int, str] = (4, 'A')\n",
    "\n",
    "    # some dataclass features that require additional per-field information. To satisfy this need for additional information, you can replace the default field value with a call to the provided field() function.\n",
    "    # list为可变数据类型,指定默认值必须使用`default_factory`\n",
    "    my_list: List[int] = field(\n",
    "        # If provided, it must be a zero-argument callable that will be called when a default value is needed for this field.\n",
    "        default_factory=list)\n",
    "\n",
    "    my_list1: List[int] = field(default_factory=default_list)\n",
    "\n",
    "    # dict为可变数据类型\n",
    "    my_dict: Dict[str, float] = field(default_factory=dict)\n",
    "\n",
    "    my_dict1: Dict[str, float] = field(default_factory=default_dict)"
   ],
   "metadata": {
    "collapsed": false,
    "pycharm": {
     "name": "#%%\n"
    }
   }
  },
  {
   "cell_type": "code",
   "execution_count": 76,
   "outputs": [
    {
     "name": "stdout",
     "output_type": "stream",
     "text": [
      "Filed_test(my_tuple=(4, 'A'), my_list=[], my_list1=[1, 2, 3, 4, 5], my_dict={}, my_dict1={'AA': 0, 'BB': 1})\n",
      "Filed_test(my_tuple=(4, 'A'), my_list=[1, 2, 3], my_list1=[1, 2, 3, 4, 5], my_dict={}, my_dict1={'AA': 0, 'BB': 1})\n",
      "Filed_test(my_tuple=(4, 'A'), my_list=[1, 2, 3], my_list1=[1, 2, 3, 4, 5], my_dict={'B': 2}, my_dict1={'AA': 0, 'BB': 1})\n"
     ]
    }
   ],
   "source": [
    "f1 = Filed_test()\n",
    "print(f1)\n",
    "f1.my_list += [1, 2, 3]\n",
    "print(f1)\n",
    "f1.my_dict.update({'B': 2})\n",
    "print(f1)"
   ],
   "metadata": {
    "collapsed": false,
    "pycharm": {
     "name": "#%%\n"
    }
   }
  },
  {
   "cell_type": "code",
   "execution_count": 77,
   "outputs": [
    {
     "name": "stdout",
     "output_type": "stream",
     "text": [
      "10\n",
      "20\n"
     ]
    }
   ],
   "source": [
    "@dataclass\n",
    "class Filed_test1:\n",
    "    a: float  # 成员变量`a`在构造的时候必须初始化\n",
    "    b: float  # 成员变量`b`在构造的时候必须初始化\n",
    "    c: float = field(\n",
    "        # init: If true (the default), this field is included as a parameter to the generated __init__() method.\n",
    "        init=False)  # 可以先不初始化成员变量`c`\n",
    "\n",
    "\n",
    "f2 = Filed_test1(10, 20)  # 不给成员变量`c`赋值\n",
    "\n",
    "print(f2.a)\n",
    "print(f2.b)"
   ],
   "metadata": {
    "collapsed": false,
    "pycharm": {
     "name": "#%%\n"
    }
   }
  },
  {
   "cell_type": "code",
   "execution_count": 78,
   "outputs": [
    {
     "ename": "AttributeError",
     "evalue": "'Filed_test1' object has no attribute 'c'",
     "output_type": "error",
     "traceback": [
      "\u001B[1;31m---------------------------------------------------------------------------\u001B[0m",
      "\u001B[1;31mAttributeError\u001B[0m                            Traceback (most recent call last)",
      "Input \u001B[1;32mIn [78]\u001B[0m, in \u001B[0;36m<cell line: 1>\u001B[1;34m()\u001B[0m\n\u001B[1;32m----> 1\u001B[0m \u001B[38;5;28;43mprint\u001B[39;49m\u001B[43m(\u001B[49m\u001B[43mf2\u001B[49m\u001B[43m)\u001B[49m\n",
      "File \u001B[1;32m~\\anaconda3\\envs\\pytorch_env\\lib\\dataclasses.py:368\u001B[0m, in \u001B[0;36m_recursive_repr.<locals>.wrapper\u001B[1;34m(self)\u001B[0m\n\u001B[0;32m    366\u001B[0m repr_running\u001B[38;5;241m.\u001B[39madd(key)\n\u001B[0;32m    367\u001B[0m \u001B[38;5;28;01mtry\u001B[39;00m:\n\u001B[1;32m--> 368\u001B[0m     result \u001B[38;5;241m=\u001B[39m \u001B[43muser_function\u001B[49m\u001B[43m(\u001B[49m\u001B[38;5;28;43mself\u001B[39;49m\u001B[43m)\u001B[49m\n\u001B[0;32m    369\u001B[0m \u001B[38;5;28;01mfinally\u001B[39;00m:\n\u001B[0;32m    370\u001B[0m     repr_running\u001B[38;5;241m.\u001B[39mdiscard(key)\n",
      "File \u001B[1;32m<string>:3\u001B[0m, in \u001B[0;36m__repr__\u001B[1;34m(self)\u001B[0m\n",
      "\u001B[1;31mAttributeError\u001B[0m: 'Filed_test1' object has no attribute 'c'"
     ]
    }
   ],
   "source": [
    "print(f2)  # AttributeError: 'Filed_test1' object has no attribute 'c'"
   ],
   "metadata": {
    "collapsed": false,
    "pycharm": {
     "name": "#%%\n"
    }
   }
  },
  {
   "cell_type": "code",
   "execution_count": 79,
   "outputs": [
    {
     "ename": "AttributeError",
     "evalue": "'Filed_test1' object has no attribute 'c'",
     "output_type": "error",
     "traceback": [
      "\u001B[1;31m---------------------------------------------------------------------------\u001B[0m",
      "\u001B[1;31mAttributeError\u001B[0m                            Traceback (most recent call last)",
      "Input \u001B[1;32mIn [79]\u001B[0m, in \u001B[0;36m<cell line: 1>\u001B[1;34m()\u001B[0m\n\u001B[1;32m----> 1\u001B[0m \u001B[38;5;28mprint\u001B[39m(\u001B[43mf2\u001B[49m\u001B[38;5;241;43m.\u001B[39;49m\u001B[43mc\u001B[49m)\n",
      "\u001B[1;31mAttributeError\u001B[0m: 'Filed_test1' object has no attribute 'c'"
     ]
    }
   ],
   "source": [
    "print(f2.c)  # AttributeError: 'Filed_test1' object has no attribute 'c'"
   ],
   "metadata": {
    "collapsed": false,
    "pycharm": {
     "name": "#%%\n"
    }
   }
  },
  {
   "cell_type": "code",
   "execution_count": 80,
   "outputs": [
    {
     "name": "stdout",
     "output_type": "stream",
     "text": [
      "Filed_test1(a=10, b=20, c=100)\n",
      "100\n"
     ]
    }
   ],
   "source": [
    "f2.c = 100\n",
    "\n",
    "print(f2)\n",
    "print(f2.c)"
   ],
   "metadata": {
    "collapsed": false,
    "pycharm": {
     "name": "#%%\n"
    }
   }
  },
  {
   "cell_type": "code",
   "execution_count": 89,
   "outputs": [
    {
     "name": "stdout",
     "output_type": "stream",
     "text": [
      "Post_Init(a=1.0, b=3.3, c0=3.3, c1=4.3)\n"
     ]
    }
   ],
   "source": [
    "@dataclass\n",
    "class Post_Init:\n",
    "    a: float\n",
    "    b: float\n",
    "    c0: float = 3.14\n",
    "    c1: float = field(init=False)  # 先不进行初始化\n",
    "\n",
    "    # Among other uses, this allows for initializing field values that depend on one or more other fields.\n",
    "    def __post_init__(self):\n",
    "        self.c0 = self.a * self.b\n",
    "        self.c1 = self.a + self.b  # 成员变量`c`依赖其他成员变量的值\n",
    "\n",
    "\n",
    "p1 = Post_Init(1.0, 3.3)\n",
    "print(p1)"
   ],
   "metadata": {
    "collapsed": false,
    "pycharm": {
     "name": "#%%\n"
    }
   }
  },
  {
   "cell_type": "code",
   "execution_count": null,
   "outputs": [],
   "source": [],
   "metadata": {
    "collapsed": false,
    "pycharm": {
     "name": "#%%\n"
    }
   }
  }
 ],
 "metadata": {
  "kernelspec": {
   "display_name": "Python 3",
   "language": "python",
   "name": "python3"
  },
  "language_info": {
   "codemirror_mode": {
    "name": "ipython",
    "version": 2
   },
   "file_extension": ".py",
   "mimetype": "text/x-python",
   "name": "python",
   "nbconvert_exporter": "python",
   "pygments_lexer": "ipython2",
   "version": "2.7.6"
  }
 },
 "nbformat": 4,
 "nbformat_minor": 0
}