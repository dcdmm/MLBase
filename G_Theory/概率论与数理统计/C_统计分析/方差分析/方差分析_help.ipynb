{
 "cells": [
  {
   "cell_type": "markdown",
   "metadata": {
    "pycharm": {
     "name": "#%% md\n"
    }
   },
   "source": [
    "## 一种方式分组的ANOVA的假设\n",
    "&emsp;&emsp;观测的随机变量$ Y_{ij} $遵从模型     \n",
    "$$ Y_{ij} = \\theta_i + \\epsilon_{ij} ,i=1,...,k,j=1,...,n_i $$    \n",
    "其中:\n",
    "1. 对于所有的$ i, j, E \\epsilon_{ij} =0, Var (\\epsilon_{ij}) = \\theta_i^2 < \\infty $;对于所有$ i,i',j,j',i \\neq i',j \\neq j'  $\n",
    "有$Cov(\\epsilon_{ij}, \\epsilon_{i',j'}) =0 $  \n",
    "2. $ \\epsilon_{ij} $ 相互独立,并服从正态分布(正态误差) \n",
    "    * 对于适当的样本大小和总体,在渐进分布误差不太大的情况下,我们可以用中心极限定理(CLT)\n",
    "3. 对于所有的$ i,\\sigma_i^2 = \\sigma^2 $(等方差,也称为方差齐性)\n",
    "\n",
    "零假设和备择假设为:   \n",
    "$ H_0 : \\theta_1 = \\theta_2 =...=\\theta_k $    \n",
    "$ H_1 : \\theta_i \\neq \\theta_j $对于某些$ i,j$    \n",
    "\n",
    "零假设和备择假设用关于对比的假设表示:    \n",
    "$ H_0: \\sum_{i=1}^k a_i \\theta_i =0 $ 对于所有满足$ \\sum_{i=1}^k a_i =0 $的$ ( a_1,...a_k)$    \n",
    "$ H_1: \\sum_{i=1}^k a_i \\theta_i \\neq 0 $ 对于满足某个$ \\sum_{i=1}^k a_i =0 $的$ ( a_1,...a_k)$\n",
    "\n",
    "\n",
    "## 均值的线性组合的推断\n",
    "&emsp;&emsp;在一种方式分组ANOVA的假定下,有   \n",
    "$$ Y_{ij} \\sim n(\\theta_i, \\sigma^2), i=1,...,k,j=1,...n_i $$   \n",
    "因此,   \n",
    "$$ \\overline{Y_{i.}}= \\frac{1}{n_i} \\sum_{j=1}^{n_i} Y_{ij} \\sim n(\\theta_i, \\sigma / n_i), i=1,...k$$   \n",
    "&emsp;&emsp;对任何常数向量$ a=(a_1, ... ,a_k), \\sum_{i=1}^k a_i \\overline{Y_{i.}}$也是正态的,并且   \n",
    "$$E(\\sum_{i=1}^k a_i \\overline{Y_{i.}}) = \\sum_{i=1}^{k}a_i \\theta_i, Var(\\sum_{i=1}^k a_i \\overline{Y_{i.}}) = \\sigma^2 \\sum_{i=1}^k \\frac{a_i^2}{n_i} $$    \n",
    "进一步,  \n",
    "$$ \\frac{\\sum_{i=1}^k a_i \\overline{Y_{i.}} - \\sum_{i=1}^k a_i \\theta_i}{\\sqrt{ \\sigma ^2 \\sum_{i=1}^k \\frac{a_i^2}{n_i} }} \\sim n(0,1) $$   \n",
    "&emsp;&emsp;在每个总体中,如果记样本方差为$ S_i^2 $,即   \n",
    "$$ S_i^2 = \\frac{1}{n_i -1} \\sum_{i=1}^{n_i} (Y_{ij} - \\overline{Y_{i.}})^2 , i=1,...,k$$\n",
    "则$ S_i^2  $是 $ \\sigma^2 $的一个估计量并且$ (n_i -1)S_i^2 / \\sigma^2 \\sim \\chi_{n_i -1}^2 $.进一步,在ANOVA的假定下,由于\n",
    "每个$ S_i^2 $都是 $ \\sigma^2 $的估计量,我们可以把这些估计量结合起来得到更好的估计量,于是,我们使用$ \\sigma^2 $ 的组合估计量,定义为   \n",
    "$$ S_p^2 = \\frac{1}{N-k} \\sum_{i=1}^k (n_i -1)S_i^2 = \\frac{1}{N-k} \\sum_{i=1}^k \\sum_{j=1}^{n_i} (Y_{ij} - \\overline{Y_{i.}})^2 $$   \n",
    "注意: $ N-k = \\sum_{i=1}^k (n_i -1) $,由于每个$ S_i^2$是独立的,则有$ (N-k)S_p^2 / \\sigma^2 \\sim \\chi_{N-k}^2 $,此外,$ S_p^2 $ 与$ \\overline{Y_{i.}} $ 独立,因此   \n",
    "$$ \\frac{\\sum_{i=1}^k a_i \\overline{Y_{i.}} - \\sum_{i=1}^k a_i \\theta_i}{\\sqrt{ S_p^2 \\sum_{i=1}^k \\frac{a_i^2}{n_i} }} \\sim t_{N-k} $$   \n",
    "即自由度为$ N-k $ 的学生t分布    \n",
    "&emsp;&emsp;为在水平$ \\alpha $ 上检验  \n",
    "$$ H_0: \\sum_{i=1}^k a_i \\theta_i =0 对 H_1: \\sum_{i=1}^k a_i \\theta_i \\neq 0 $$    \n",
    "我们将在  \n",
    "$$ \\Bigg| \\frac{\\sum_{i=1}^k a_i \\overline{Y_{i.}} - \\sum_{i=1}^k a_i \\theta_i}{\\sqrt{ S_p^2 \\sum_{i=1}^k \\frac{a_i^2}{n_i} }}\\bigg| > t_{N-k, \\alpha/2} $$     \n",
    "时,拒绝$ H_0$    \n",
    "<font color='red' size=4>扩展:</font>   \n",
    "&emsp;&emsp;利用$ \\alpha $ 的特定取值可以给出一些特殊的检验或置信区间.例如,为比较处理1和处理2,取$ a=(1,-1,0,...,0) $.那么,由上可得,\n",
    "为检验$ H_0: \\theta_1 = \\theta_2 对 \\theta_1 \\neq \\theta_2 $, 我们将在   \n",
    "$$ \\Bigg|  \\frac{\\overline{Y_{1.}} - \\overline{Y_{2.}}}{\\sqrt{S_p^2}(\\frac{1}{n_1} + \\frac{1}{n_2})}   \\Bigg| > t_{N_k,\\alpha/2}$$   \n",
    "时拒绝$ H_0 $.注意,这个检验与两样本t检验之间的差别在于,来自处理3,处理4...连同处理1,处理2的信息一起用来估计$ \\sigma^2$ \n",
    "\n",
    "\n",
    "## ANOVA F检验\n",
    "&emsp;&emsp;由并-交方法知道,如果对任意$ a$ 我们都能拒绝,那么对于极大化$ T_a$ 的$ a$ 也能够被拒绝,因此,ANOVA零假设的并-交检验是当\n",
    "$ \\sup_a T_a > k $时拒绝 $ H_0 $,这里$ k$ 满足$ P_{H_0} (\\sup_a T_a > k) = \\alpha) $   \n",
    "&emsp;&emsp;极大化$ T_a $ 等价于极大化 $ T_a^2$,有     \n",
    "$$  T_a^2 = \\frac{(\\sum_{i=1}^k a_i \\overline{Y_{i.}} - \\sum_{i=1}^k a_i \\theta_i)^2}{S_p^2 \\sum_{i=1}^k \\frac{a_i^2}{n_i} } =  \\frac{(\\sum_{i=1}^k a_i \\overline{U_i})^2}{S_p^2 \\sum_{i=1}^k \\frac{a_i^2}{n_i} } \\qquad (\\overline{U_i}=\\overline{Y_i} - \\theta_i)$$      \n",
    "即有:    \n",
    "\\begin{equation}\n",
    "\\sup \\limits _{a:\\sum a_i =0} T_a^2 = \\frac\n",
    "{\\sum_{i=1}^k n_i \\big(  (\\overline{Y_{i.}} -  \\overline{\\overline{Y}} - (\\theta_i - \\overline{\\theta}) ) \\big)}\n",
    "{S_p^2}\n",
    "\\end{equation}   \n",
    "其中$ \\overline{\\overline{Y}} = \\sum n_i \\overline{Y_{i.}}/\\sum n_i, \\overline{\\theta} = \\sum n_i \\theta_i / \\sum n_i $\n",
    "进一步,在ANOVA假设下,有      \n",
    "$$ \\sup \\limits _{a: \\sum a_i = 0} T_a^2 \\sim (k-1)F_{k-1, N-k} $$    \n",
    "即$ \\sup_{a: \\sum a_i =0} T_a^2 / (k-1) $ 服从自由度 $ k-1 $ 和 $ N-k $ 的F分布($N = \\sum n_i$)    \n",
    "&emsp;&emsp;于是,对ANOVA的假设     \n",
    "$$ H_0 : \\theta_1 =...= \\theta_k 对 H_1 : \\theta_i \\neq \\theta_j 对于某 i,j $$    \n",
    "的水平$ \\alpha $ 检验,我们当    \n",
    "\\begin{equation}\n",
    "    \\frac{\\sum_{i=1}^k n_i \\big( \\overline{Y_{i.}} - \\overline{\\overline{Y}} \\big)^2 / (k-1) }\n",
    "    {S_p^2} >  F_{k-1, N-k, \\alpha}\n",
    "\\end{equation}    \n",
    "时拒绝$ H_0$,其中F称为ANOVA的F统计量.  \n",
    "\n",
    "\n",
    "## 平方和的分解\n",
    "&emsp;&emsp;对任意数$ y_{ij},i =1,...,k$ 且 $ j=1,...,n_j$    \n",
    "\\begin{equation}\n",
    "    \\sum_{i-1}^k \\sum_{j=1}^{n_j} (y_{ij} - \\overline{\\overline{y}})^2 =\n",
    "     \\sum_{i=1}^k n_i (\\overline{y_{i.}} - \\overline{\\overline{y}})^2 +\n",
    "     \\sum_{i=1}^k \\sum_{j=1}^{n_i} ( y_{ij} - \\overline{y_{i.}} )^2   \n",
    "\\end{equation}    \n",
    "其中 $ \\overline{y_{i.}} = \\frac{1}{n_i} \\sum_j y_{ij}, \\overline{\\overline{y}} = \\sum_i n_i \\overline{y_{i.}} / \\sum_i n_i$    \n",
    "在ANOVA假定下特别如果$ Y_{ij} \\sim n(\\theta_i, \\sigma^2)$容易证明     \n",
    "1. $ \\frac{1}{\\sigma^2} \\sum_{i-1}^k \\sum_{j=1}^{n_j} (Y_{ij} - \\overline{\\overline{Y}})^2 \\sim  \\chi_{N-1}^2 $\n",
    "2. $ \\frac{1}{\\sigma^2} \\sum_{i=1}^k n_i (\\overline{Y_{i.}} - \\overline{\\overline{Y}})^2  \\sim \\chi_{k-1}^2 $ \n",
    "3. $ \\frac{1}{\\sigma^2} \\sum_{i=1}^k \\sum_{j=1}^{n_i} ( Y_{ij} - \\overline{Y_{i.}} )^2 \\sim \\chi_{N-k}^2 $ \n",
    "\n",
    "因此,在$ H_0 : \\theta_1 = ...\\theta_k $下,上式中的平方和分解是一个卡方随机变量的分解.    \n",
    "\n",
    "\n",
    "##  一种方式分组的ANOVA表\n",
    "| 变异来源 | 自由度 | 平方和 | 均方 | F统计量 |\n",
    "| -------- | ------ | ------ | ---- | ------- |\n",
    "| 处理组间 | k-1    | <div style=\"width: 200px\">$ SSB = \\sum n_i (\\overline{y_{i.}} - \\overline{\\overline{y}})^2 $</div> | <div style=\"width: 200px\">$ MSB=SSB/(k-1) $</div> |<div style=\"width: 200px\"> $F= MSB/MSW $</div> |\n",
    "| 处理组内 | N-k | $ SSW= \\sum \\sum (y_{ij} - \\overline{y_{i.}})^2 $ | $ MSW=SSW/(N-k) $ | None |\n",
    "| 总和 | N-1 | $ SST = \\sum \\sum (y_{ij} - \\overline{\\overline{y}})^2$ | None | None |"
   ]
  },
  {
   "cell_type": "code",
   "execution_count": null,
   "metadata": {},
   "outputs": [],
   "source": []
  }
 ],
 "metadata": {
  "kernelspec": {
   "display_name": "Python 3",
   "language": "python",
   "name": "python3"
  },
  "language_info": {
   "codemirror_mode": {
    "name": "ipython",
    "version": 3
   },
   "file_extension": ".py",
   "mimetype": "text/x-python",
   "name": "python",
   "nbconvert_exporter": "python",
   "pygments_lexer": "ipython3",
   "version": "3.7.6"
  },
  "pycharm": {
   "stem_cell": {
    "cell_type": "raw",
    "source": [],
    "metadata": {
     "collapsed": false
    }
   }
  }
 },
 "nbformat": 4,
 "nbformat_minor": 4
}