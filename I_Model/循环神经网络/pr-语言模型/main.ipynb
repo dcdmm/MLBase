{
 "nbformat": 4,
 "nbformat_minor": 0,
 "metadata": {
  "kernelspec": {
   "display_name": "Python 3",
   "language": "python",
   "name": "python3"
  },
  "language_info": {
   "codemirror_mode": {
    "name": "ipython",
    "version": 3
   },
   "file_extension": ".py",
   "mimetype": "text/x-python",
   "name": "python",
   "nbconvert_exporter": "python",
   "pygments_lexer": "ipython3",
   "version": "3.8.5"
  },
  "colab": {
   "name": "main.ipynb",
   "provenance": [],
   "collapsed_sections": [],
   "toc_visible": true
  },
  "accelerator": "GPU"
 },
 "cells": [
  {
   "cell_type": "code",
   "metadata": {
    "id": "itpmuZ5EHZkv",
    "colab_type": "code",
    "colab": {},
    "executionInfo": {
     "status": "ok",
     "timestamp": 1599915385602,
     "user_tz": -480,
     "elapsed": 867,
     "user": {
      "displayName": "chao duan",
      "photoUrl": "",
      "userId": "16986074214670067064"
     }
    }
   },
   "source": [
    "import torchtext\n",
    "import torch\n",
    "import torch.nn as nn\n",
    "import numpy as np\n",
    "import random"
   ],
   "execution_count": 5,
   "outputs": []
  },
  {
   "cell_type": "code",
   "metadata": {
    "id": "yf3ZhEjoHdUD",
    "colab_type": "code",
    "colab": {
     "base_uri": "https://localhost:8080/",
     "height": 35
    },
    "executionInfo": {
     "status": "ok",
     "timestamp": 1599915387561,
     "user_tz": -480,
     "elapsed": 854,
     "user": {
      "displayName": "chao duan",
      "photoUrl": "",
      "userId": "16986074214670067064"
     }
    },
    "outputId": "eeffa9d0-65bd-42af-e572-90228e2217a4"
   },
   "source": [
    "torch.cuda.get_device_name(None)"
   ],
   "execution_count": 6,
   "outputs": [
    {
     "output_type": "execute_result",
     "data": {
      "application/vnd.google.colaboratory.intrinsic+json": {
       "type": "string"
      },
      "text/plain": [
       "'Tesla P4'"
      ]
     },
     "metadata": {
      "tags": []
     },
     "execution_count": 6
    }
   ]
  },
  {
   "cell_type": "markdown",
   "metadata": {
    "pycharm": {
     "name": "#%% md\n"
    },
    "id": "MR2fr7ZyHZkz",
    "colab_type": "text"
   },
   "source": [
    "## 数据处理部分"
   ]
  },
  {
   "cell_type": "code",
   "metadata": {
    "pycharm": {
     "name": "#%%\n"
    },
    "id": "eGGp6He0HZkz",
    "colab_type": "code",
    "colab": {}
   },
   "source": [
    "def set_seed(seed):\n",
    "    \"\"\"随机数种子设置\"\"\"\n",
    "    np.random.seed(seed)\n",
    "    random.seed(seed)\n",
    "    torch.manual_seed(seed) # CPU上设置随机种子\n",
    "    torch.cuda.manual_seed(seed) # 当前GPU上设置随机种子\n",
    "\n",
    "set_seed(0)"
   ],
   "execution_count": null,
   "outputs": []
  },
  {
   "cell_type": "code",
   "metadata": {
    "pycharm": {
     "name": "#%%\n"
    },
    "id": "-qlSKL3kHZk1",
    "colab_type": "code",
    "colab": {},
    "executionInfo": {
     "status": "ok",
     "timestamp": 1599915454896,
     "user_tz": -480,
     "elapsed": 13581,
     "user": {
      "displayName": "chao duan",
      "photoUrl": "",
      "userId": "16986074214670067064"
     }
    }
   },
   "source": [
    "MAX_VOCAB_SIZE = 10000\n",
    "TEXT = torchtext.data.Field(lower=True)\n",
    "train, val, test = torchtext.datasets.LanguageModelingDataset.\\\n",
    "    splits(path='.', train='text8.train.txt', validation='text8.dev.txt',\n",
    "           test='text8.test.txt', text_field=TEXT)\n",
    "TEXT.build_vocab(train, max_size=MAX_VOCAB_SIZE)"
   ],
   "execution_count": 8,
   "outputs": []
  },
  {
   "cell_type": "code",
   "metadata": {
    "pycharm": {
     "name": "#%%\n"
    },
    "id": "d6GFbPiPHZk3",
    "colab_type": "code",
    "colab": {
     "base_uri": "https://localhost:8080/",
     "height": 35
    },
    "executionInfo": {
     "status": "ok",
     "timestamp": 1599915456943,
     "user_tz": -480,
     "elapsed": 773,
     "user": {
      "displayName": "chao duan",
      "photoUrl": "",
      "userId": "16986074214670067064"
     }
    },
    "outputId": "df175cd8-4005-4fc5-c084-95c8c5a9d4f7"
   },
   "source": [
    "VOCAB_SIZE = len(TEXT.vocab) # 单词数目\n",
    "print(\"vocabulary size: {}\".format(VOCAB_SIZE))"
   ],
   "execution_count": 9,
   "outputs": [
    {
     "output_type": "stream",
     "text": [
      "vocabulary size: 10002\n"
     ],
     "name": "stdout"
    }
   ]
  },
  {
   "cell_type": "code",
   "metadata": {
    "pycharm": {
     "name": "#%%\n"
    },
    "id": "VYZev-TlHZk7",
    "colab_type": "code",
    "colab": {},
    "executionInfo": {
     "status": "ok",
     "timestamp": 1599915460770,
     "user_tz": -480,
     "elapsed": 690,
     "user": {
      "displayName": "chao duan",
      "photoUrl": "",
      "userId": "16986074214670067064"
     }
    }
   },
   "source": [
    "device = torch.device('cuda' if torch.cuda.is_available() else 'cpu')\n",
    "BATCH_SIZE = 32\n",
    "train_iter = torchtext.data.BPTTIterator(train, batch_size=BATCH_SIZE, device=device, bptt_len=30, shuffle=True)\n",
    "val_iter = torchtext.data.BPTTIterator(val, batch_size=BATCH_SIZE, device=device, bptt_len=30, shuffle=False)\n",
    "test_iter = torchtext.data.BPTTIterator(test, batch_size=BATCH_SIZE, device=device,bptt_len=30, shuffle=False)"
   ],
   "execution_count": 10,
   "outputs": []
  },
  {
   "cell_type": "code",
   "metadata": {
    "pycharm": {
     "name": "#%%\n"
    },
    "id": "IxtEcxxbHZk9",
    "colab_type": "code",
    "colab": {
     "base_uri": "https://localhost:8080/",
     "height": 1000
    },
    "executionInfo": {
     "status": "ok",
     "timestamp": 1599915476659,
     "user_tz": -480,
     "elapsed": 13336,
     "user": {
      "displayName": "chao duan",
      "photoUrl": "",
      "userId": "16986074214670067064"
     }
    },
    "outputId": "8c9d4c91-e45e-4c93-f24f-500d14623636"
   },
   "source": [
    "for i in train_iter:\n",
    "    print(i.text.shape, '\\n', i.text)\n",
    "    print(i.target.shape, '\\n', i.target)\n",
    "    break"
   ],
   "execution_count": 11,
   "outputs": [
    {
     "output_type": "stream",
     "text": [
      "torch.Size([30, 32]) \n",
      " tensor([[5269, 6271,  417,    9,    6,  375,  317, 2278,    6,   21,   72,   54,\n",
      "          742,    2, 4434,  283,   23,  531,    0,    5,  463, 5850,   22, 8624,\n",
      "         1455,   68,   11,   66,    2, 5931,    3,    0],\n",
      "        [3110,    6,  288,    2, 3047,    2,   25,  109,  261,   50, 6129,  892,\n",
      "            7,    0,   25,    0,   18,    5,  556,   10,    7, 4664,    5,   43,\n",
      "          163,    5,    9,    2, 1311,   57,  168,    6],\n",
      "        [  13, 3593,  458, 1259,   40,  375,   10,  550,    3,    0,   21,    0,\n",
      "            0,    3,    2,    7, 2316,   10,  427,    5, 1185,  127,   48,  504,\n",
      "         2461,    0,    9,  277,    3,   12,    0,  314],\n",
      "        [   7,    4,    0,    0,   55,   19,   11,    4, 3278, 4858,  176,  119,\n",
      "          340,    0, 8644,  381,    0,    5,  882,   18, 8991,  416,   49,   27,\n",
      "            8, 1435,   18,    6,    2,   95,  497, 1853],\n",
      "        [ 196,  105, 3693, 1416,  289,   78,   17,    0, 1180,    3,  130,    5,\n",
      "            3,   19,  211,  139,    0,   10,  334, 4110,   36, 4664,    0,   90,\n",
      "            0,    2,  312,   37, 6939, 1918,   25,   19],\n",
      "        [   3,  191,  894,   32, 5157,  332,   11,   41,  202,    0,  176, 5510,\n",
      "            2,   21,  712,    3, 5734,   22,  260,   26,    2,   59,  241,  130,\n",
      "          349, 5703, 2425,   48,  282,   35, 3892,    7],\n",
      "        [3081,   66,   58, 1676,   21, 1040,   17,    0,    3,  943,  119,  278,\n",
      "          632,   28,    3,   34,  443,   11,  638,    2,   65, 2379,   80,  378,\n",
      "          318,   88,   15,  544,  144,   42,    0,  378],\n",
      "        [  47,    0, 7591, 1416,    2,    4,   18,  126,  448,  804,   34,    2,\n",
      "          801,   19, 2199,  465, 5734,   36,  427,    0,    0,    0,    7,    3,\n",
      "           30,    6,    7,  231,   58,    8,  737,    3],\n",
      "        [  61,    3,    0,   15,    0,    2, 2034,   48, 2316,   64, 9953, 1052,\n",
      "            8, 2651, 1676,    3, 4246,    2,  882,    3, 1260, 2708,  115,  502,\n",
      "            0,  576,   70,  728, 1442,   33,  172,    0],\n",
      "        [ 156, 3593, 4428,    2, 1398, 2555,    6,  135, 7335, 6329, 2853,  652,\n",
      "           31,    8,   60, 4142,    0,   65,  334, 2341, 3204,    0,    3,   30,\n",
      "            2,   13,    5, 1198,    4, 2310, 1148,    4],\n",
      "        [ 129,   37,    0,    0,   76,   19,    2,    0, 2326,   43,  838, 2325,\n",
      "         2934, 5277,   27,   12,  263,    2,    0,   29,   12,    0,  172,  130,\n",
      "            0,    2,  125,  156,   44,    0,  715,    0],\n",
      "        [ 746,   27,    6,  282, 2838, 9186, 3176,   15,  114, 2133,    3,  350,\n",
      "          486,   60,    7, 8607,    5, 1947,    0,    2, 5453,   11,    0, 1132,\n",
      "          681,   16,    5,    2, 1519,    8,    0,   87],\n",
      "        [ 459,    2,    0,    3,    2,  713,  212,    2,  953,    0, 5137, 1270,\n",
      "           16,   41,  406,   20,   10,   19,    0,  246,   80,    9,    3,    3,\n",
      "         1455,    0,   17,  550,   93,   31,    3,    2],\n",
      "        [   0, 4859,   27, 3489,  676,   62,   36, 8433,  202,  215,   19,    8,\n",
      "          128,   11,    3,  600,   17,  188, 2543,  128,  327,    9,  550,  502,\n",
      "           15,    0, 1627,  550, 9705, 3923,  550, 8626],\n",
      "        [ 137, 2320,  698, 1181, 8238,    2,    2,    3,    3,   38,   47,   34,\n",
      "           42, 2129,    5,    0,   11,  221,    0, 1059,  198,   18, 2740, 1740,\n",
      "          139,  184,    6,    0,    0,  183,    4,   84],\n",
      "        [   2, 1067, 4063,   19,   56,  168,    5,  369,  448,  141,  253,   28,\n",
      "           93,    0,   17,   16,  850, 1045,   19, 2341,  636,    2,   20,   31,\n",
      "            0,  951,    2,   20,   13,   87,   20,    0],\n",
      "        [   0,    3, 6574,  494,   13, 4307,   10,  723,  600,  218,   20, 1445,\n",
      "           55,   36, 1127,  750,    0, 1103,    7,   20, 5453, 4721,  168,  300,\n",
      "           49, 3548, 5914,    2,   45, 4283,  524,   19],\n",
      "        [   3,  842,  142, 2213,    2,    6,   10,    0, 1307,    0, 7361,   98,\n",
      "         2495,    2, 4434, 2972,    5,    0,  413,  838,   80,  345, 1097,  122,\n",
      "            8,   16, 4992, 3313, 4613,   13,    3, 2182],\n",
      "        [   2,   34,    2,    7, 2195,    5,   10, 4473,  980,    4,   51, 1888,\n",
      "         4159, 8769, 1224,   60,   24,   29,  541,  728,    2,  342,    6,    0,\n",
      "            0,    0,    3,    0, 5355,    3,    5,   20],\n",
      "        [ 102, 8292,    0,    0,  587,   10, 1836,  567, 4536,   46,    0,    2,\n",
      "            6,  237,    4,   16,   10,    7, 3344, 5071, 2915,  588,    2,  232,\n",
      "            0,    0,    7,   21,  140,  547,   10, 5765],\n",
      "        [ 868,   25,  142, 1259, 1374,    5,   28,    0, 2321, 2462,  198,  119,\n",
      "         1633, 1395,    5, 1037,    5,  906, 4627,    2,    0,    7, 1189,    0,\n",
      "            8,    6, 4137,   48,   28,   11,   22,  100],\n",
      "        [   4,    2,   12,    0,    2,   10,   12,    8,  651,   27,   53,    5,\n",
      "            4,    6,   17,   80,    5, 1000, 1414,  463,    7,    0,    3,  312,\n",
      "         1693,  102,  111,   41,   19,   10,    5, 4147],\n",
      "        [   2,  587, 2289,  238,  115, 4202,    2,    0,  320,  860,  799, 4992,\n",
      "         1674,    2, 8281,    0,   14,    6,   35,   70,  242, 1213,    5,    0,\n",
      "         2934,   34,  148,  717,   38,   11,   54, 2675],\n",
      "        [   0,    3,  177,   26,    3,  135,  527,   15, 1246, 5370,   21,   15,\n",
      "           13,    5, 4293,   69,   17,   46,   19, 7612, 7967,    8,   10, 1673,\n",
      "            2,   12,  119,    8,  112,    9,   41,    6],\n",
      "        [   0,  173,   29,    7, 4257,    2,    3, 6710, 8013,    2,   89,    7,\n",
      "          112,   10, 4434,   39,   24,  906,  263,   51,    3,  582,   22,    0,\n",
      "            0,  959,    5, 3377,  648,    9,  769,    0],\n",
      "        [   3, 2151,  441, 1416,    6,    0,    2,    2,    0,  124,  198,   65,\n",
      "           13,   23, 1224,    2,  148, 6855,  213, 2327,    0, 4557,   11,  232,\n",
      "            0,  592,   14,  104,   36,   17,    6,   16],\n",
      "        [   2,  214,    6,    0,    2,  404,    0,  445,   74,    0, 2077, 9181,\n",
      "           26,    9,  138,  274,    0,  101,    5,   71,    0, 5850,    7,  378,\n",
      "            0,    8,   23,  769,    2, 3528, 1114,    0],\n",
      "        [ 155,    6,   46,    2, 1002, 2362,  232,  135,    0, 7493,    8, 1612,\n",
      "          195,   16,  183,   12,  694,   35,   17,    6,    2, 1340,  392,    3,\n",
      "          535,   13,    5,   20,   65,  452,  132, 5765],\n",
      "        [ 868,   37, 4497,    0,    4,  375,    0,  242,    0,   29,  688,    2,\n",
      "           69,   50,  816, 8030, 4489,   19,   11,   54,  237,  127, 1273,    0,\n",
      "          201,  698,  312,  330,    3, 2612,    0, 1226],\n",
      "        [3549, 3593,    0,  211,    2,    0,   13,   62,    0,    5,   52,   11,\n",
      "           39, 1561,   29,  565,    0,    0,   23,   44,  168,  416,  727,  312,\n",
      "          318,    2,    5, 2576,   46,    0,    2,  117]], device='cuda:0')\n",
      "torch.Size([30, 32]) \n",
      " tensor([[3110,    6,  288,    2, 3047,    2,   25,  109,  261,   50, 6129,  892,\n",
      "            7,    0,   25,    0,   18,    5,  556,   10,    7, 4664,    5,   43,\n",
      "          163,    5,    9,    2, 1311,   57,  168,    6],\n",
      "        [  13, 3593,  458, 1259,   40,  375,   10,  550,    3,    0,   21,    0,\n",
      "            0,    3,    2,    7, 2316,   10,  427,    5, 1185,  127,   48,  504,\n",
      "         2461,    0,    9,  277,    3,   12,    0,  314],\n",
      "        [   7,    4,    0,    0,   55,   19,   11,    4, 3278, 4858,  176,  119,\n",
      "          340,    0, 8644,  381,    0,    5,  882,   18, 8991,  416,   49,   27,\n",
      "            8, 1435,   18,    6,    2,   95,  497, 1853],\n",
      "        [ 196,  105, 3693, 1416,  289,   78,   17,    0, 1180,    3,  130,    5,\n",
      "            3,   19,  211,  139,    0,   10,  334, 4110,   36, 4664,    0,   90,\n",
      "            0,    2,  312,   37, 6939, 1918,   25,   19],\n",
      "        [   3,  191,  894,   32, 5157,  332,   11,   41,  202,    0,  176, 5510,\n",
      "            2,   21,  712,    3, 5734,   22,  260,   26,    2,   59,  241,  130,\n",
      "          349, 5703, 2425,   48,  282,   35, 3892,    7],\n",
      "        [3081,   66,   58, 1676,   21, 1040,   17,    0,    3,  943,  119,  278,\n",
      "          632,   28,    3,   34,  443,   11,  638,    2,   65, 2379,   80,  378,\n",
      "          318,   88,   15,  544,  144,   42,    0,  378],\n",
      "        [  47,    0, 7591, 1416,    2,    4,   18,  126,  448,  804,   34,    2,\n",
      "          801,   19, 2199,  465, 5734,   36,  427,    0,    0,    0,    7,    3,\n",
      "           30,    6,    7,  231,   58,    8,  737,    3],\n",
      "        [  61,    3,    0,   15,    0,    2, 2034,   48, 2316,   64, 9953, 1052,\n",
      "            8, 2651, 1676,    3, 4246,    2,  882,    3, 1260, 2708,  115,  502,\n",
      "            0,  576,   70,  728, 1442,   33,  172,    0],\n",
      "        [ 156, 3593, 4428,    2, 1398, 2555,    6,  135, 7335, 6329, 2853,  652,\n",
      "           31,    8,   60, 4142,    0,   65,  334, 2341, 3204,    0,    3,   30,\n",
      "            2,   13,    5, 1198,    4, 2310, 1148,    4],\n",
      "        [ 129,   37,    0,    0,   76,   19,    2,    0, 2326,   43,  838, 2325,\n",
      "         2934, 5277,   27,   12,  263,    2,    0,   29,   12,    0,  172,  130,\n",
      "            0,    2,  125,  156,   44,    0,  715,    0],\n",
      "        [ 746,   27,    6,  282, 2838, 9186, 3176,   15,  114, 2133,    3,  350,\n",
      "          486,   60,    7, 8607,    5, 1947,    0,    2, 5453,   11,    0, 1132,\n",
      "          681,   16,    5,    2, 1519,    8,    0,   87],\n",
      "        [ 459,    2,    0,    3,    2,  713,  212,    2,  953,    0, 5137, 1270,\n",
      "           16,   41,  406,   20,   10,   19,    0,  246,   80,    9,    3,    3,\n",
      "         1455,    0,   17,  550,   93,   31,    3,    2],\n",
      "        [   0, 4859,   27, 3489,  676,   62,   36, 8433,  202,  215,   19,    8,\n",
      "          128,   11,    3,  600,   17,  188, 2543,  128,  327,    9,  550,  502,\n",
      "           15,    0, 1627,  550, 9705, 3923,  550, 8626],\n",
      "        [ 137, 2320,  698, 1181, 8238,    2,    2,    3,    3,   38,   47,   34,\n",
      "           42, 2129,    5,    0,   11,  221,    0, 1059,  198,   18, 2740, 1740,\n",
      "          139,  184,    6,    0,    0,  183,    4,   84],\n",
      "        [   2, 1067, 4063,   19,   56,  168,    5,  369,  448,  141,  253,   28,\n",
      "           93,    0,   17,   16,  850, 1045,   19, 2341,  636,    2,   20,   31,\n",
      "            0,  951,    2,   20,   13,   87,   20,    0],\n",
      "        [   0,    3, 6574,  494,   13, 4307,   10,  723,  600,  218,   20, 1445,\n",
      "           55,   36, 1127,  750,    0, 1103,    7,   20, 5453, 4721,  168,  300,\n",
      "           49, 3548, 5914,    2,   45, 4283,  524,   19],\n",
      "        [   3,  842,  142, 2213,    2,    6,   10,    0, 1307,    0, 7361,   98,\n",
      "         2495,    2, 4434, 2972,    5,    0,  413,  838,   80,  345, 1097,  122,\n",
      "            8,   16, 4992, 3313, 4613,   13,    3, 2182],\n",
      "        [   2,   34,    2,    7, 2195,    5,   10, 4473,  980,    4,   51, 1888,\n",
      "         4159, 8769, 1224,   60,   24,   29,  541,  728,    2,  342,    6,    0,\n",
      "            0,    0,    3,    0, 5355,    3,    5,   20],\n",
      "        [ 102, 8292,    0,    0,  587,   10, 1836,  567, 4536,   46,    0,    2,\n",
      "            6,  237,    4,   16,   10,    7, 3344, 5071, 2915,  588,    2,  232,\n",
      "            0,    0,    7,   21,  140,  547,   10, 5765],\n",
      "        [ 868,   25,  142, 1259, 1374,    5,   28,    0, 2321, 2462,  198,  119,\n",
      "         1633, 1395,    5, 1037,    5,  906, 4627,    2,    0,    7, 1189,    0,\n",
      "            8,    6, 4137,   48,   28,   11,   22,  100],\n",
      "        [   4,    2,   12,    0,    2,   10,   12,    8,  651,   27,   53,    5,\n",
      "            4,    6,   17,   80,    5, 1000, 1414,  463,    7,    0,    3,  312,\n",
      "         1693,  102,  111,   41,   19,   10,    5, 4147],\n",
      "        [   2,  587, 2289,  238,  115, 4202,    2,    0,  320,  860,  799, 4992,\n",
      "         1674,    2, 8281,    0,   14,    6,   35,   70,  242, 1213,    5,    0,\n",
      "         2934,   34,  148,  717,   38,   11,   54, 2675],\n",
      "        [   0,    3,  177,   26,    3,  135,  527,   15, 1246, 5370,   21,   15,\n",
      "           13,    5, 4293,   69,   17,   46,   19, 7612, 7967,    8,   10, 1673,\n",
      "            2,   12,  119,    8,  112,    9,   41,    6],\n",
      "        [   0,  173,   29,    7, 4257,    2,    3, 6710, 8013,    2,   89,    7,\n",
      "          112,   10, 4434,   39,   24,  906,  263,   51,    3,  582,   22,    0,\n",
      "            0,  959,    5, 3377,  648,    9,  769,    0],\n",
      "        [   3, 2151,  441, 1416,    6,    0,    2,    2,    0,  124,  198,   65,\n",
      "           13,   23, 1224,    2,  148, 6855,  213, 2327,    0, 4557,   11,  232,\n",
      "            0,  592,   14,  104,   36,   17,    6,   16],\n",
      "        [   2,  214,    6,    0,    2,  404,    0,  445,   74,    0, 2077, 9181,\n",
      "           26,    9,  138,  274,    0,  101,    5,   71,    0, 5850,    7,  378,\n",
      "            0,    8,   23,  769,    2, 3528, 1114,    0],\n",
      "        [ 155,    6,   46,    2, 1002, 2362,  232,  135,    0, 7493,    8, 1612,\n",
      "          195,   16,  183,   12,  694,   35,   17,    6,    2, 1340,  392,    3,\n",
      "          535,   13,    5,   20,   65,  452,  132, 5765],\n",
      "        [ 868,   37, 4497,    0,    4,  375,    0,  242,    0,   29,  688,    2,\n",
      "           69,   50,  816, 8030, 4489,   19,   11,   54,  237,  127, 1273,    0,\n",
      "          201,  698,  312,  330,    3, 2612,    0, 1226],\n",
      "        [3549, 3593,    0,  211,    2,    0,   13,   62,    0,    5,   52,   11,\n",
      "           39, 1561,   29,  565,    0,    0,   23,   44,  168,  416,  727,  312,\n",
      "          318,    2,    5, 2576,   46,    0,    2,  117],\n",
      "        [   2,   30, 9612, 4007, 8830,    4,  112,  151,   59,   10,    2,    9,\n",
      "          174,  438,   11,    5, 7061, 1091,    5, 1379,  147,    0,    2,  161,\n",
      "            4,    0,    2,  155,  896,   42, 3493,   13]], device='cuda:0')\n"
     ],
     "name": "stdout"
    }
   ]
  },
  {
   "cell_type": "markdown",
   "metadata": {
    "pycharm": {
     "name": "#%% md\n"
    },
    "id": "_cAL_nvbHZlA",
    "colab_type": "text"
   },
   "source": [
    "## 模型部分"
   ]
  },
  {
   "cell_type": "code",
   "metadata": {
    "pycharm": {
     "name": "#%%\n"
    },
    "id": "gNrP6KtUHZlA",
    "colab_type": "code",
    "colab": {
     "base_uri": "https://localhost:8080/",
     "height": 125
    },
    "executionInfo": {
     "status": "ok",
     "timestamp": 1599915566735,
     "user_tz": -480,
     "elapsed": 1730,
     "user": {
      "displayName": "chao duan",
      "photoUrl": "",
      "userId": "16986074214670067064"
     }
    },
    "outputId": "7b54fa8b-27f4-4359-9cc2-508b33779be5"
   },
   "source": [
    "from RNNModel import RNNModel\n",
    "%run RNNModel.py\n",
    "\n",
    "EMBEDDING_SIZE = 650\n",
    "HIDDEN_SIZE = 100\n",
    "model = RNNModel(\"LSTM\", VOCAB_SIZE, EMBEDDING_SIZE, HIDDEN_SIZE, 2).to(device)\n",
    "model"
   ],
   "execution_count": 14,
   "outputs": [
    {
     "output_type": "execute_result",
     "data": {
      "text/plain": [
       "RNNModel(\n",
       "  (drop): Dropout(p=0.5, inplace=False)\n",
       "  (embed): Embedding(10002, 650)\n",
       "  (rnn): LSTM(650, 100, num_layers=2, dropout=0.5)\n",
       "  (linear): Linear(in_features=100, out_features=10002, bias=True)\n",
       ")"
      ]
     },
     "metadata": {
      "tags": []
     },
     "execution_count": 14
    }
   ]
  },
  {
   "cell_type": "code",
   "metadata": {
    "pycharm": {
     "name": "#%%\n"
    },
    "id": "XKUt-XjYHZlD",
    "colab_type": "code",
    "colab": {},
    "executionInfo": {
     "status": "ok",
     "timestamp": 1599915574935,
     "user_tz": -480,
     "elapsed": 2402,
     "user": {
      "displayName": "chao duan",
      "photoUrl": "",
      "userId": "16986074214670067064"
     }
    }
   },
   "source": [
    "loss_fn = nn.CrossEntropyLoss() # 损失函数\n",
    "learning_rate = 0.001\n",
    "optimizer = torch.optim.Adam(model.parameters(), lr=learning_rate)\n",
    "scheduler = torch.optim.lr_scheduler.ExponentialLR(optimizer, 0.5)"
   ],
   "execution_count": 16,
   "outputs": []
  },
  {
   "cell_type": "code",
   "metadata": {
    "pycharm": {
     "name": "#%%\n"
    },
    "id": "JC0ooEKOHZlF",
    "colab_type": "code",
    "colab": {
     "base_uri": "https://localhost:8080/",
     "height": 629
    },
    "executionInfo": {
     "status": "ok",
     "timestamp": 1599916103717,
     "user_tz": -480,
     "elapsed": 517780,
     "user": {
      "displayName": "chao duan",
      "photoUrl": "",
      "userId": "16986074214670067064"
     }
    },
    "outputId": "c8a78fb3-b681-4517-a6aa-a84d08f77f5e"
   },
   "source": [
    "from RNN_train import RNN_train\n",
    "%run RNN_train.py\n",
    "\n",
    "CRAD_CLIP = 1\n",
    "NUM_EPOCHS = 2\n",
    "\n",
    "net = RNN_train(model=model, optimizer=optimizer, criterion=loss_fn, device=device, batch_size=BATCH_SIZE)\n",
    "for epoch in range(NUM_EPOCHS):\n",
    "    train_loss = net.train(train_iter, CRAD_CLIP)\n",
    "    valid_loss = net.evaluate(val_iter)\n",
    "\n",
    "torch.save(net.model.state_dict(), 'net.pth')"
   ],
   "execution_count": 17,
   "outputs": [
    {
     "output_type": "stream",
     "text": [
      "train loss: tensor(9.2191, device='cuda:0', grad_fn=<NllLossBackward>)\n",
      "train loss: tensor(6.1607, device='cuda:0', grad_fn=<NllLossBackward>)\n",
      "train loss: tensor(5.6713, device='cuda:0', grad_fn=<NllLossBackward>)\n",
      "train loss: tensor(6.0158, device='cuda:0', grad_fn=<NllLossBackward>)\n",
      "train loss: tensor(5.5789, device='cuda:0', grad_fn=<NllLossBackward>)\n",
      "train loss: tensor(5.6051, device='cuda:0', grad_fn=<NllLossBackward>)\n",
      "train loss: tensor(5.5207, device='cuda:0', grad_fn=<NllLossBackward>)\n",
      "train loss: tensor(5.4126, device='cuda:0', grad_fn=<NllLossBackward>)\n",
      "train loss: tensor(5.4051, device='cuda:0', grad_fn=<NllLossBackward>)\n",
      "train loss: tensor(5.3712, device='cuda:0', grad_fn=<NllLossBackward>)\n",
      "train loss: tensor(5.3398, device='cuda:0', grad_fn=<NllLossBackward>)\n",
      "train loss: tensor(5.4990, device='cuda:0', grad_fn=<NllLossBackward>)\n",
      "train loss: tensor(5.3214, device='cuda:0', grad_fn=<NllLossBackward>)\n",
      "train loss: tensor(5.1796, device='cuda:0', grad_fn=<NllLossBackward>)\n",
      "train loss: tensor(5.2083, device='cuda:0', grad_fn=<NllLossBackward>)\n",
      "train loss: tensor(5.2890, device='cuda:0', grad_fn=<NllLossBackward>)\n",
      "valid loss: tensor(5.1601, device='cuda:0')\n",
      "train loss: tensor(5.4569, device='cuda:0', grad_fn=<NllLossBackward>)\n",
      "train loss: tensor(5.3937, device='cuda:0', grad_fn=<NllLossBackward>)\n",
      "train loss: tensor(5.0678, device='cuda:0', grad_fn=<NllLossBackward>)\n",
      "train loss: tensor(5.4364, device='cuda:0', grad_fn=<NllLossBackward>)\n",
      "train loss: tensor(5.2383, device='cuda:0', grad_fn=<NllLossBackward>)\n",
      "train loss: tensor(5.2817, device='cuda:0', grad_fn=<NllLossBackward>)\n",
      "train loss: tensor(5.3282, device='cuda:0', grad_fn=<NllLossBackward>)\n",
      "train loss: tensor(5.1800, device='cuda:0', grad_fn=<NllLossBackward>)\n",
      "train loss: tensor(5.2197, device='cuda:0', grad_fn=<NllLossBackward>)\n",
      "train loss: tensor(5.1288, device='cuda:0', grad_fn=<NllLossBackward>)\n",
      "train loss: tensor(5.1677, device='cuda:0', grad_fn=<NllLossBackward>)\n",
      "train loss: tensor(5.3324, device='cuda:0', grad_fn=<NllLossBackward>)\n",
      "train loss: tensor(5.1941, device='cuda:0', grad_fn=<NllLossBackward>)\n",
      "train loss: tensor(5.0479, device='cuda:0', grad_fn=<NllLossBackward>)\n",
      "train loss: tensor(5.0815, device='cuda:0', grad_fn=<NllLossBackward>)\n",
      "train loss: tensor(5.2070, device='cuda:0', grad_fn=<NllLossBackward>)\n",
      "valid loss: tensor(5.0108, device='cuda:0')\n"
     ],
     "name": "stdout"
    }
   ]
  },
  {
   "cell_type": "code",
   "metadata": {
    "pycharm": {
     "name": "#%%\n"
    },
    "id": "TWzNYRG7HZlG",
    "colab_type": "code",
    "colab": {
     "base_uri": "https://localhost:8080/",
     "height": 125
    },
    "executionInfo": {
     "status": "ok",
     "timestamp": 1599916105085,
     "user_tz": -480,
     "elapsed": 1354,
     "user": {
      "displayName": "chao duan",
      "photoUrl": "",
      "userId": "16986074214670067064"
     }
    },
    "outputId": "8815e5fa-2d5f-4af8-a98a-23a6baf7c279"
   },
   "source": [
    "best_model = RNNModel(\"LSTM\", VOCAB_SIZE, EMBEDDING_SIZE, HIDDEN_SIZE, 2).to(device) # 读入保存好的模型\n",
    "best_model.load_state_dict(torch.load(\"net.pth\"))\n",
    "best_model"
   ],
   "execution_count": 18,
   "outputs": [
    {
     "output_type": "execute_result",
     "data": {
      "text/plain": [
       "RNNModel(\n",
       "  (drop): Dropout(p=0.5, inplace=False)\n",
       "  (embed): Embedding(10002, 650)\n",
       "  (rnn): LSTM(650, 100, num_layers=2, dropout=0.5)\n",
       "  (linear): Linear(in_features=100, out_features=10002, bias=True)\n",
       ")"
      ]
     },
     "metadata": {
      "tags": []
     },
     "execution_count": 18
    }
   ]
  },
  {
   "cell_type": "code",
   "metadata": {
    "pycharm": {
     "name": "#%%\n"
    },
    "id": "ZiEtezqGHZlI",
    "colab_type": "code",
    "colab": {
     "base_uri": "https://localhost:8080/",
     "height": 53
    },
    "executionInfo": {
     "status": "ok",
     "timestamp": 1599916108911,
     "user_tz": -480,
     "elapsed": 5175,
     "user": {
      "displayName": "chao duan",
      "photoUrl": "",
      "userId": "16986074214670067064"
     }
    },
    "outputId": "3f7a664a-4f35-44cd-a9ba-6f413b01a4cc"
   },
   "source": [
    "test_loss = RNN_train(model, optimizer, loss_fn, device, BATCH_SIZE).evaluate(test_iter) # 测试数据集的损失\n",
    "print(\"perplexity: \", np.exp(test_loss)) # 测试数据的困惑度"
   ],
   "execution_count": 19,
   "outputs": [
    {
     "output_type": "stream",
     "text": [
      "valid loss: tensor(4.6224, device='cuda:0')\n",
      "perplexity:  137.98903409089112\n"
     ],
     "name": "stdout"
    }
   ]
  },
  {
   "cell_type": "code",
   "metadata": {
    "pycharm": {
     "name": "#%%\n"
    },
    "id": "iLK_59W6HZlK",
    "colab_type": "code",
    "colab": {
     "base_uri": "https://localhost:8080/",
     "height": 55
    },
    "executionInfo": {
     "status": "ok",
     "timestamp": 1599916108912,
     "user_tz": -480,
     "elapsed": 5173,
     "user": {
      "displayName": "chao duan",
      "photoUrl": "",
      "userId": "16986074214670067064"
     }
    },
    "outputId": "c508caa0-f96f-4b34-8bdb-3e5f23628dc3"
   },
   "source": [
    "test_net = RNN_train(model, optimizer, loss_fn, device, 1)\n",
    "hidden = test_net.init_hidden()\n",
    "input_int = torch.randint(VOCAB_SIZE, (1, 1), dtype=torch.long).to(device) # 随机生成一个整数\n",
    "\n",
    "words = []\n",
    "for i in range(100):\n",
    "     output, hidden = best_model(input_int, hidden)\n",
    "     word_weights = output.squeeze().exp() # 函数.exp(是为了防止出现负值)\n",
    "     word_idx = torch.multinomial(word_weights, 1)[0] # 使用多项式概率(权重为word_weights)随机抽样出一个单词\n",
    "     input_int.fill_(word_idx) # 用来预测下一个单词\n",
    "     word = TEXT.vocab.itos[word_idx]\n",
    "     words.append(word)\n",
    "print(\" \".join(words)) # (LSTM)语言模型生成的文本"
   ],
   "execution_count": 20,
   "outputs": [
    {
     "output_type": "stream",
     "text": [
      "disagree <unk> at <unk> it started two zero zero many te attend half one zero eight five martin five in david election incorporated on under <unk> and i of deities used similar to lowered becomes supported by other the homosexual body only an pure encryption manual just of regular sources recent intelligence standard and humanity social channel one one which goes a whole but of one groups them with the lowest <unk> this in <unk> to experience what the c one and the man first vary in the so were sonata that also allow the applications of <unk> and for\n"
     ],
     "name": "stdout"
    }
   ]
  },
  {
   "cell_type": "code",
   "metadata": {
    "id": "kETJ1HXzHZlM",
    "colab_type": "code",
    "colab": {}
   },
   "source": [
    ""
   ],
   "execution_count": null,
   "outputs": []
  }
 ]
}