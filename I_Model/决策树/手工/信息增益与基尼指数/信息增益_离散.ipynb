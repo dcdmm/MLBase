{
 "cells": [
  {
   "cell_type": "code",
   "execution_count": 1,
   "outputs": [],
   "source": [
    "import numpy as np\n",
    "import pandas as pd\n",
    "from collections import  Counter"
   ],
   "metadata": {
    "collapsed": false,
    "pycharm": {
     "name": "#%%\n",
     "is_executing": false
    }
   }
  },
  {
   "cell_type": "code",
   "execution_count": 2,
   "outputs": [],
   "source": [
    "def create_data():\n",
    "    record = [['青年', '否', '否', '一般', '否'],\n",
    "               ['青年', '否', '否', '好', '否'],\n",
    "               ['青年', '是', '否', '好', '是'],\n",
    "               ['青年', '是', '是', '一般', '是'],\n",
    "               ['青年', '否', '否', '一般', '否'],\n",
    "               ['中年', '否', '否', '一般', '否'],\n",
    "               ['中年', '否', '否', '好', '否'],\n",
    "               ['中年', '是', '是', '好', '是'],\n",
    "               ['中年', '否', '是', '非常好', '是'],\n",
    "               ['中年', '否', '是', '非常好', '是'],\n",
    "               ['老年', '否', '是', '非常好', '是'],\n",
    "               ['老年', '否', '是', '好', '是'],\n",
    "               ['老年', '是', '否', '好', '是'],\n",
    "               ['老年', '是', '否', '非常好', '是'],\n",
    "               ['老年', '否', '否', '一般', '否'],\n",
    "               ]\n",
    "    tags = [u'年龄', u'有工作', u'有自己的房子', u'信贷情况', u'类别']\n",
    "    # 返回训练数据集和各特征的名称\n",
    "    return np.array(record), tags"
   ],
   "metadata": {
    "collapsed": false,
    "pycharm": {
     "name": "#%%\n",
     "is_executing": false
    }
   }
  },
  {
   "cell_type": "code",
   "execution_count": 3,
   "outputs": [],
   "source": [
    "data, labels = create_data()\n",
    "train_data = pd.DataFrame(data, columns=labels)"
   ],
   "metadata": {
    "collapsed": false,
    "pycharm": {
     "name": "#%%\n",
     "is_executing": false
    }
   }
  },
  {
   "cell_type": "code",
   "execution_count": 4,
   "outputs": [
    {
     "data": {
      "text/plain": "    年龄 有工作 有自己的房子 信贷情况 类别\n0   青年   否      否   一般  否\n1   青年   否      否    好  否\n2   青年   是      否    好  是\n3   青年   是      是   一般  是\n4   青年   否      否   一般  否\n5   中年   否      否   一般  否\n6   中年   否      否    好  否\n7   中年   是      是    好  是\n8   中年   否      是  非常好  是\n9   中年   否      是  非常好  是\n10  老年   否      是  非常好  是\n11  老年   否      是    好  是\n12  老年   是      否    好  是\n13  老年   是      否  非常好  是\n14  老年   否      否   一般  否",
      "text/html": "<div>\n<style scoped>\n    .dataframe tbody tr th:only-of-type {\n        vertical-align: middle;\n    }\n\n    .dataframe tbody tr th {\n        vertical-align: top;\n    }\n\n    .dataframe thead th {\n        text-align: right;\n    }\n</style>\n<table border=\"1\" class=\"dataframe\">\n  <thead>\n    <tr style=\"text-align: right;\">\n      <th></th>\n      <th>年龄</th>\n      <th>有工作</th>\n      <th>有自己的房子</th>\n      <th>信贷情况</th>\n      <th>类别</th>\n    </tr>\n  </thead>\n  <tbody>\n    <tr>\n      <td>0</td>\n      <td>青年</td>\n      <td>否</td>\n      <td>否</td>\n      <td>一般</td>\n      <td>否</td>\n    </tr>\n    <tr>\n      <td>1</td>\n      <td>青年</td>\n      <td>否</td>\n      <td>否</td>\n      <td>好</td>\n      <td>否</td>\n    </tr>\n    <tr>\n      <td>2</td>\n      <td>青年</td>\n      <td>是</td>\n      <td>否</td>\n      <td>好</td>\n      <td>是</td>\n    </tr>\n    <tr>\n      <td>3</td>\n      <td>青年</td>\n      <td>是</td>\n      <td>是</td>\n      <td>一般</td>\n      <td>是</td>\n    </tr>\n    <tr>\n      <td>4</td>\n      <td>青年</td>\n      <td>否</td>\n      <td>否</td>\n      <td>一般</td>\n      <td>否</td>\n    </tr>\n    <tr>\n      <td>5</td>\n      <td>中年</td>\n      <td>否</td>\n      <td>否</td>\n      <td>一般</td>\n      <td>否</td>\n    </tr>\n    <tr>\n      <td>6</td>\n      <td>中年</td>\n      <td>否</td>\n      <td>否</td>\n      <td>好</td>\n      <td>否</td>\n    </tr>\n    <tr>\n      <td>7</td>\n      <td>中年</td>\n      <td>是</td>\n      <td>是</td>\n      <td>好</td>\n      <td>是</td>\n    </tr>\n    <tr>\n      <td>8</td>\n      <td>中年</td>\n      <td>否</td>\n      <td>是</td>\n      <td>非常好</td>\n      <td>是</td>\n    </tr>\n    <tr>\n      <td>9</td>\n      <td>中年</td>\n      <td>否</td>\n      <td>是</td>\n      <td>非常好</td>\n      <td>是</td>\n    </tr>\n    <tr>\n      <td>10</td>\n      <td>老年</td>\n      <td>否</td>\n      <td>是</td>\n      <td>非常好</td>\n      <td>是</td>\n    </tr>\n    <tr>\n      <td>11</td>\n      <td>老年</td>\n      <td>否</td>\n      <td>是</td>\n      <td>好</td>\n      <td>是</td>\n    </tr>\n    <tr>\n      <td>12</td>\n      <td>老年</td>\n      <td>是</td>\n      <td>否</td>\n      <td>好</td>\n      <td>是</td>\n    </tr>\n    <tr>\n      <td>13</td>\n      <td>老年</td>\n      <td>是</td>\n      <td>否</td>\n      <td>非常好</td>\n      <td>是</td>\n    </tr>\n    <tr>\n      <td>14</td>\n      <td>老年</td>\n      <td>否</td>\n      <td>否</td>\n      <td>一般</td>\n      <td>否</td>\n    </tr>\n  </tbody>\n</table>\n</div>"
     },
     "metadata": {},
     "output_type": "execute_result",
     "execution_count": 4
    }
   ],
   "source": [
    "train_data"
   ],
   "metadata": {
    "collapsed": false,
    "pycharm": {
     "name": "#%%\n",
     "is_executing": false
    }
   }
  },
  {
   "cell_type": "code",
   "execution_count": 5,
   "outputs": [],
   "source": [
    "def calc_ent(data):\n",
    "    \"\"\"计算熵\"\"\"\n",
    "    counter = Counter(data[:, -1]) # 不同类的个数\n",
    "    pro_vector = np.array(list(counter.values())) / len(data) # 不同类所占的比例\n",
    "    res =  - pro_vector @ np.log2(pro_vector)\n",
    "\n",
    "    return res"
   ],
   "metadata": {
    "collapsed": false,
    "pycharm": {
     "name": "#%%\n",
     "is_executing": false
    }
   }
  },
  {
   "cell_type": "code",
   "execution_count": 6,
   "outputs": [
    {
     "data": {
      "text/plain": "0.9709505944546686"
     },
     "metadata": {},
     "output_type": "execute_result",
     "execution_count": 6
    }
   ],
   "source": [
    "calc_ent(data) # 经验熵H(D)"
   ],
   "metadata": {
    "collapsed": false,
    "pycharm": {
     "name": "#%%\n",
     "is_executing": false
    }
   }
  },
  {
   "cell_type": "code",
   "execution_count": 7,
   "outputs": [],
   "source": [
    "def calc_cond_ent(data, col=0):\n",
    "    \"\"\"计算条件熵\"\"\"\n",
    "    conter = Counter(data[:, col]) # 特征col不同取值的个数\n",
    "    data_length = len(data)\n",
    "    pro_vector = np.array(list(conter.values())) / data_length # 特征col不同取值所占的比例\n",
    "    hd_vector = list()\n",
    "    for i in conter.keys():\n",
    "        hd_vector.append(calc_ent(data[np.argwhere(data==i)[:, 0]]))\n",
    "    result = pro_vector @ hd_vector\n",
    "    \n",
    "    return result"
   ],
   "metadata": {
    "collapsed": false,
    "pycharm": {
     "name": "#%%\n",
     "is_executing": false
    }
   }
  },
  {
   "cell_type": "code",
   "execution_count": 8,
   "outputs": [
    {
     "data": {
      "text/plain": "0.8879430945988998"
     },
     "metadata": {},
     "output_type": "execute_result",
     "execution_count": 8
    }
   ],
   "source": [
    "calc_cond_ent(data) # 条件熵H(D|A)"
   ],
   "metadata": {
    "collapsed": false,
    "pycharm": {
     "name": "#%%\n",
     "is_executing": false
    }
   }
  },
  {
   "cell_type": "code",
   "execution_count": 9,
   "outputs": [],
   "source": [
    "def info_gain(ent, cond_ent):\n",
    "    \"\"\"信息增益\"\"\"\n",
    "    return ent - cond_ent\n",
    "\n",
    "def info_gain_train(data):\n",
    "    \"\"\"找出信息增益最大的特征\"\"\"\n",
    "    count = len(data[0]) - 1\n",
    "    ent = calc_ent(data)\n",
    "    best_feature = []\n",
    "    for c in range(count):\n",
    "        c_info_gain = info_gain(ent, calc_cond_ent(data, col=c)) # 不同特征划分的信息增益g(D,A)\n",
    "        best_feature.append((c, c_info_gain))\n",
    "        print('特征({}) - info_gain - {:.3f}'.format(labels[c], c_info_gain))\n",
    "            \n",
    "    best_ = max(best_feature, key=lambda x: x[-1])\n",
    "    return '特征({})的信息增益最大，选择为根节点特征'.format(labels[best_[0]])"
   ],
   "metadata": {
    "collapsed": false,
    "pycharm": {
     "name": "#%%\n",
     "is_executing": false
    }
   }
  },
  {
   "cell_type": "code",
   "execution_count": 10,
   "outputs": [
    {
     "name": "stdout",
     "text": [
      "特征(年龄) - info_gain - 0.083\n",
      "特征(有工作) - info_gain - 0.401\n",
      "特征(有自己的房子) - info_gain - 0.458\n",
      "特征(信贷情况) - info_gain - 0.363\n"
     ],
     "output_type": "stream"
    },
    {
     "data": {
      "text/plain": "'特征(有自己的房子)的信息增益最大，选择为根节点特征'"
     },
     "metadata": {},
     "output_type": "execute_result",
     "execution_count": 10
    }
   ],
   "source": [
    "info_gain_train(np.array(data))"
   ],
   "metadata": {
    "collapsed": false,
    "pycharm": {
     "name": "#%%\n",
     "is_executing": false
    }
   }
  },
  {
   "cell_type": "code",
   "execution_count": 10,
   "outputs": [],
   "source": [
    "\n"
   ],
   "metadata": {
    "collapsed": false,
    "pycharm": {
     "name": "#%%\n",
     "is_executing": false
    }
   }
  }
 ],
 "metadata": {
  "kernelspec": {
   "display_name": "Python 3",
   "language": "python",
   "name": "python3"
  },
  "language_info": {
   "codemirror_mode": {
    "name": "ipython",
    "version": 2
   },
   "file_extension": ".py",
   "mimetype": "text/x-python",
   "name": "python",
   "nbconvert_exporter": "python",
   "pygments_lexer": "ipython2",
   "version": "2.7.6"
  },
  "pycharm": {
   "stem_cell": {
    "cell_type": "raw",
    "source": [],
    "metadata": {
     "collapsed": false
    }
   }
  }
 },
 "nbformat": 4,
 "nbformat_minor": 0
}