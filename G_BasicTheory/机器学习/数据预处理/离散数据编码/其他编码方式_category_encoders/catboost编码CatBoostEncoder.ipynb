{
 "cells": [
  {
   "cell_type": "code",
   "execution_count": 54,
   "metadata": {
    "collapsed": true
   },
   "outputs": [],
   "source": [
    "from category_encoders import CatBoostEncoder\n",
    "import pandas as pd"
   ]
  },
  {
   "cell_type": "code",
   "execution_count": 55,
   "outputs": [
    {
     "data": {
      "text/plain": "  cat_feat  label\n0        A      0\n1        A      1\n2        C      0\n3        B      1\n4        A      0\n5        C      1\n6        B      1\n7        A      0\n8        C      1\n9        C      1",
      "text/html": "<div>\n<style scoped>\n    .dataframe tbody tr th:only-of-type {\n        vertical-align: middle;\n    }\n\n    .dataframe tbody tr th {\n        vertical-align: top;\n    }\n\n    .dataframe thead th {\n        text-align: right;\n    }\n</style>\n<table border=\"1\" class=\"dataframe\">\n  <thead>\n    <tr style=\"text-align: right;\">\n      <th></th>\n      <th>cat_feat</th>\n      <th>label</th>\n    </tr>\n  </thead>\n  <tbody>\n    <tr>\n      <th>0</th>\n      <td>A</td>\n      <td>0</td>\n    </tr>\n    <tr>\n      <th>1</th>\n      <td>A</td>\n      <td>1</td>\n    </tr>\n    <tr>\n      <th>2</th>\n      <td>C</td>\n      <td>0</td>\n    </tr>\n    <tr>\n      <th>3</th>\n      <td>B</td>\n      <td>1</td>\n    </tr>\n    <tr>\n      <th>4</th>\n      <td>A</td>\n      <td>0</td>\n    </tr>\n    <tr>\n      <th>5</th>\n      <td>C</td>\n      <td>1</td>\n    </tr>\n    <tr>\n      <th>6</th>\n      <td>B</td>\n      <td>1</td>\n    </tr>\n    <tr>\n      <th>7</th>\n      <td>A</td>\n      <td>0</td>\n    </tr>\n    <tr>\n      <th>8</th>\n      <td>C</td>\n      <td>1</td>\n    </tr>\n    <tr>\n      <th>9</th>\n      <td>C</td>\n      <td>1</td>\n    </tr>\n  </tbody>\n</table>\n</div>"
     },
     "execution_count": 55,
     "metadata": {},
     "output_type": "execute_result"
    }
   ],
   "source": [
    "df = pd.DataFrame({'cat_feat': ['A', 'A', 'C', 'B', 'A', 'C', 'B', 'A', 'C', 'C'],\n",
    "                   'label': [0, 1, 0, 1, 0, 1, 1, 0, 1, 1]})\n",
    "df"
   ],
   "metadata": {
    "collapsed": false,
    "pycharm": {
     "name": "#%%\n"
    }
   }
  },
  {
   "cell_type": "code",
   "execution_count": 56,
   "outputs": [
    {
     "data": {
      "text/plain": "   cat_feat  label\n0  0.320000      0\n1  0.320000      1\n2  0.720000      0\n3  0.866667      1\n4  0.320000      0\n5  0.720000      1\n6  0.866667      1\n7  0.320000      0\n8  0.720000      1\n9  0.720000      1",
      "text/html": "<div>\n<style scoped>\n    .dataframe tbody tr th:only-of-type {\n        vertical-align: middle;\n    }\n\n    .dataframe tbody tr th {\n        vertical-align: top;\n    }\n\n    .dataframe thead th {\n        text-align: right;\n    }\n</style>\n<table border=\"1\" class=\"dataframe\">\n  <thead>\n    <tr style=\"text-align: right;\">\n      <th></th>\n      <th>cat_feat</th>\n      <th>label</th>\n    </tr>\n  </thead>\n  <tbody>\n    <tr>\n      <th>0</th>\n      <td>0.320000</td>\n      <td>0</td>\n    </tr>\n    <tr>\n      <th>1</th>\n      <td>0.320000</td>\n      <td>1</td>\n    </tr>\n    <tr>\n      <th>2</th>\n      <td>0.720000</td>\n      <td>0</td>\n    </tr>\n    <tr>\n      <th>3</th>\n      <td>0.866667</td>\n      <td>1</td>\n    </tr>\n    <tr>\n      <th>4</th>\n      <td>0.320000</td>\n      <td>0</td>\n    </tr>\n    <tr>\n      <th>5</th>\n      <td>0.720000</td>\n      <td>1</td>\n    </tr>\n    <tr>\n      <th>6</th>\n      <td>0.866667</td>\n      <td>1</td>\n    </tr>\n    <tr>\n      <th>7</th>\n      <td>0.320000</td>\n      <td>0</td>\n    </tr>\n    <tr>\n      <th>8</th>\n      <td>0.720000</td>\n      <td>1</td>\n    </tr>\n    <tr>\n      <th>9</th>\n      <td>0.720000</td>\n      <td>1</td>\n    </tr>\n  </tbody>\n</table>\n</div>"
     },
     "execution_count": 56,
     "metadata": {},
     "output_type": "execute_result"
    }
   ],
   "source": [
    "'''\n",
    "# 核心计算代码\n",
    "\n",
    "temp = y.groupby(X[col].astype(str)).agg(['cumsum', 'cumcount'])\n",
    "X[col] = (temp['cumsum'] - y + self._mean * self.a) / (temp['cumcount'] + self.a)\n",
    "\n",
    "if self.sigma is not None and y is not None:\n",
    "    X[col] = X[col] * random_state_.normal(1., self.sigma, X[col].shape[0])  # 添加噪音,防止过拟合\n",
    "'''\n",
    "enc = CatBoostEncoder(cols=['cat_feat'],\n",
    "                      # adds normal (Gaussian) distribution noise into training data in order to decrease overfitting (testing data are untouched).\n",
    "                      sigma=5,\n",
    "                      a=1)\n",
    "enc.fit(X=df, y=df['label'])\n",
    "enc.transform(df)"
   ],
   "metadata": {
    "collapsed": false,
    "pycharm": {
     "name": "#%%\n"
    }
   }
  }
 ],
 "metadata": {
  "kernelspec": {
   "display_name": "Python 3",
   "language": "python",
   "name": "python3"
  },
  "language_info": {
   "codemirror_mode": {
    "name": "ipython",
    "version": 2
   },
   "file_extension": ".py",
   "mimetype": "text/x-python",
   "name": "python",
   "nbconvert_exporter": "python",
   "pygments_lexer": "ipython2",
   "version": "2.7.6"
  }
 },
 "nbformat": 4,
 "nbformat_minor": 0
}