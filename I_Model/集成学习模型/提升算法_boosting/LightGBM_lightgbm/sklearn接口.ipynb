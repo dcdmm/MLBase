{
 "cells": [
  {
   "cell_type": "code",
   "execution_count": 36,
   "metadata": {
    "collapsed": true
   },
   "outputs": [],
   "source": [
    "from lightgbm import LGBMClassifier\n",
    "from sklearn import datasets\n",
    "from sklearn.model_selection import train_test_split\n",
    "import numpy as np\n",
    "from sklearn.preprocessing import OrdinalEncoder\n",
    "import lightgbm as lgb"
   ]
  },
  {
   "cell_type": "code",
   "execution_count": 37,
   "outputs": [
    {
     "name": "stdout",
     "output_type": "stream",
     "text": [
      "(2025, 54) (2025,)\n",
      "[1 2 3 4 5 6 7]\n"
     ]
    }
   ],
   "source": [
    "X = datasets.fetch_covtype().data[:3000]\n",
    "y = datasets.fetch_covtype().target[:3000]\n",
    "X_1, X_test, y_1, y_test = train_test_split(X, y, test_size=0.1)\n",
    "X_train, X_va, y_train, y_va = train_test_split(X_1, y_1)\n",
    "\n",
    "print(X_train.shape, y_train.shape)\n",
    "print(np.unique(y_train))  # 7分类任务"
   ],
   "metadata": {
    "collapsed": false,
    "pycharm": {
     "name": "#%%\n"
    }
   }
  },
  {
   "cell_type": "code",
   "execution_count": 38,
   "outputs": [
    {
     "name": "stdout",
     "output_type": "stream",
     "text": [
      "[0. 1. 2. 3. 4. 5. 6.]\n",
      "(2025,)\n"
     ]
    }
   ],
   "source": [
    "enc = OrdinalEncoder()\n",
    "\n",
    "# y*.shape = (num_sample, )\n",
    "y_train_enc = enc.fit_transform(y_train.reshape(-1, 1)).reshape(-1, )\n",
    "y_test_enc = enc.transform(y_test.reshape(-1, 1)).reshape(-1, )\n",
    "y_va_enc = enc.fit_transform(y_va.reshape(-1, 1)).reshape(-1, )\n",
    "print(np.unique(y_train_enc))\n",
    "print(y_train_enc.shape)"
   ],
   "metadata": {
    "collapsed": false,
    "pycharm": {
     "name": "#%%\n"
    }
   }
  },
  {
   "cell_type": "code",
   "execution_count": 39,
   "outputs": [],
   "source": [
    "# 不需要指定num_class参数\n",
    "model = LGBMClassifier(\n",
    "    boosting_type='gbdt',  # 对应boosting\n",
    "    objective='multiclass',\n",
    "    n_jobs=-1,\n",
    "    max_depth=-1,\n",
    "    min_child_weight=1e-3,\n",
    "    min_child_samples=20,\n",
    "    num_leaves=31,\n",
    "    subsample=1.0,\n",
    "    subsample_freq=0,\n",
    "    learning_rate=0.1,\n",
    "    colsample_bytree=1.0,\n",
    "    reg_alpha=0.0,\n",
    "    reg_lambda=0.0,\n",
    "    n_estimators=100)"
   ],
   "metadata": {
    "collapsed": false,
    "pycharm": {
     "name": "#%%\n"
    }
   }
  },
  {
   "cell_type": "code",
   "execution_count": 40,
   "outputs": [
    {
     "name": "stdout",
     "output_type": "stream",
     "text": [
      "Training until validation scores don't improve for 100 rounds\n",
      "[10]\ttraining's multi_logloss: 0.539461\tvalid_1's multi_logloss: 0.739649\n",
      "[20]\ttraining's multi_logloss: 0.305268\tvalid_1's multi_logloss: 0.556365\n",
      "[30]\ttraining's multi_logloss: 0.182832\tvalid_1's multi_logloss: 0.507673\n"
     ]
    },
    {
     "name": "stderr",
     "output_type": "stream",
     "text": [
      "C:\\Users\\duanm\\anaconda3\\lib\\site-packages\\lightgbm\\basic.py:2065: UserWarning: Using categorical_feature in Dataset.\n",
      "  _log_warning('Using categorical_feature in Dataset.')\n",
      "C:\\Users\\duanm\\anaconda3\\lib\\site-packages\\lightgbm\\basic.py:2068: UserWarning: categorical_feature in Dataset is overridden.\n",
      "New categorical_feature is [0, 1]\n",
      "  _log_warning('categorical_feature in Dataset is overridden.\\n'\n",
      "C:\\Users\\duanm\\anaconda3\\lib\\site-packages\\lightgbm\\basic.py:1780: UserWarning: Overriding the parameters from Reference Dataset.\n",
      "  _log_warning('Overriding the parameters from Reference Dataset.')\n",
      "C:\\Users\\duanm\\anaconda3\\lib\\site-packages\\lightgbm\\basic.py:1513: UserWarning: categorical_column in param dict is overridden.\n",
      "  _log_warning(f'{cat_alias} in param dict is overridden.')\n"
     ]
    },
    {
     "name": "stdout",
     "output_type": "stream",
     "text": [
      "[40]\ttraining's multi_logloss: 0.117077\tvalid_1's multi_logloss: 0.481155\n",
      "[50]\ttraining's multi_logloss: 0.0772842\tvalid_1's multi_logloss: 0.477927\n",
      "[60]\ttraining's multi_logloss: 0.0511849\tvalid_1's multi_logloss: 0.484929\n",
      "[70]\ttraining's multi_logloss: 0.0345667\tvalid_1's multi_logloss: 0.492579\n",
      "[80]\ttraining's multi_logloss: 0.0238417\tvalid_1's multi_logloss: 0.507314\n",
      "[90]\ttraining's multi_logloss: 0.0166043\tvalid_1's multi_logloss: 0.524041\n",
      "[100]\ttraining's multi_logloss: 0.0115204\tvalid_1's multi_logloss: 0.539894\n",
      "Did not meet early stopping. Best iteration is:\n",
      "[100]\ttraining's multi_logloss: 0.0115204\tvalid_1's multi_logloss: 0.539894\n"
     ]
    },
    {
     "data": {
      "text/plain": "LGBMClassifier(objective='multiclass')"
     },
     "execution_count": 40,
     "metadata": {},
     "output_type": "execute_result"
    }
   ],
   "source": [
    "model.fit(X_train, y_train_enc,\n",
    "          eval_set=[(X_train, y_train_enc), (X_va, y_va_enc)],  # 对应valid_sets\n",
    "          sample_weight=1 / (1 + y_train_enc),  # 对应Dataset(weight)\n",
    "          eval_metric='multiclass',  # 对应metric+feval\n",
    "          callbacks=[lgb.early_stopping(100),\n",
    "                     lgb.log_evaluation(10)],\n",
    "          categorical_feature=[0, 1]  # 对应Dataset(categorical_feature)\n",
    "          )"
   ],
   "metadata": {
    "collapsed": false,
    "pycharm": {
     "name": "#%%\n"
    }
   }
  },
  {
   "cell_type": "code",
   "execution_count": 41,
   "outputs": [
    {
     "data": {
      "text/plain": "array([3., 5., 2., 6., 0., 0., 1., 1., 0., 4., 1., 1., 4., 6., 4., 4., 1.,\n       1., 4., 4., 0., 1., 5., 4., 1., 2., 1., 4., 3., 1., 1., 2., 1., 3.,\n       0., 4., 0., 2., 4., 3., 1., 5., 0., 4., 1., 2., 0., 5., 1., 5., 4.,\n       1., 6., 1., 4., 0., 4., 0., 6., 1., 1., 4., 1., 4., 1., 4., 0., 3.,\n       5., 1., 1., 4., 0., 4., 1., 2., 0., 3., 4., 0., 4., 4., 0., 4., 4.,\n       1., 4., 2., 4., 2., 4., 4., 1., 0., 1., 6., 4., 0., 1., 4., 1., 4.,\n       0., 1., 1., 1., 0., 2., 4., 4., 5., 1., 4., 1., 4., 1., 1., 1., 1.,\n       0., 1., 5., 4., 4., 2., 0., 4., 0., 1., 6., 4., 0., 4., 5., 5., 1.,\n       1., 0., 1., 1., 2., 0., 3., 1., 5., 4., 1., 3., 0., 1., 4., 0., 0.,\n       1., 0., 1., 2., 4., 6., 4., 0., 4., 4., 3., 4., 0., 2., 0., 2., 1.,\n       5., 4., 2., 4., 5., 1., 0., 2., 6., 4., 1., 0., 1., 1., 0., 4., 4.,\n       1., 1., 1., 4., 1., 2., 4., 5., 1., 1., 1., 1., 4., 1., 6., 6., 4.,\n       1., 1., 5., 4., 6., 0., 0., 1., 1., 4., 1., 0., 4., 1., 2., 0., 1.,\n       1., 0., 1., 0., 1., 1., 1., 2., 1., 5., 1., 0., 4., 6., 4., 1., 0.,\n       1., 4., 4., 0., 4., 0., 1., 3., 4., 4., 1., 5., 1., 4., 1., 1., 1.,\n       4., 5., 1., 4., 4., 5., 0., 1., 0., 6., 0., 0., 1., 1., 4., 3., 4.,\n       2., 1., 1., 1., 2., 1., 1., 4., 1., 2., 4., 1., 1., 1., 2., 4., 6.,\n       1., 3., 1., 4., 6., 4., 3., 0., 4., 0., 0.])"
     },
     "execution_count": 41,
     "metadata": {},
     "output_type": "execute_result"
    }
   ],
   "source": [
    "# 预测结果(num_sample, )\n",
    "model.predict(X_test)"
   ],
   "metadata": {
    "collapsed": false,
    "pycharm": {
     "name": "#%%\n"
    }
   }
  },
  {
   "cell_type": "code",
   "execution_count": 42,
   "outputs": [
    {
     "data": {
      "text/plain": "array([[7.10974557e-06, 3.64727187e-05, 6.25161142e-06, ...,\n        8.02662335e-07, 7.96691684e-06, 2.59997922e-09],\n       [3.90810812e-03, 3.75766364e-03, 8.83785029e-06, ...,\n        1.70052280e-02, 9.75319218e-01, 3.70915640e-07],\n       [1.09318463e-03, 1.95396168e-02, 8.90701499e-01, ...,\n        1.47094890e-04, 8.84975834e-02, 3.69756452e-06],\n       ...,\n       [1.26482067e-04, 4.65056301e-03, 3.06306459e-06, ...,\n        9.95214898e-01, 4.19501981e-06, 3.01481075e-07],\n       [9.61158470e-01, 3.85877556e-02, 3.02781671e-06, ...,\n        2.04506006e-04, 1.07884696e-05, 3.36567938e-05],\n       [8.46784573e-01, 1.53002290e-01, 9.76241447e-06, ...,\n        1.90862681e-04, 6.33343986e-06, 2.33390961e-06]])"
     },
     "execution_count": 42,
     "metadata": {},
     "output_type": "execute_result"
    }
   ],
   "source": [
    "# 预测结果的概率矩阵\n",
    "model.predict_proba(X_test)"
   ],
   "metadata": {
    "collapsed": false,
    "pycharm": {
     "name": "#%%\n"
    }
   }
  },
  {
   "cell_type": "code",
   "execution_count": 43,
   "outputs": [
    {
     "data": {
      "text/plain": "0.08"
     },
     "execution_count": 43,
     "metadata": {},
     "output_type": "execute_result"
    }
   ],
   "source": [
    "# 准确率\n",
    "model.score(X_test, y_test)"
   ],
   "metadata": {
    "collapsed": false,
    "pycharm": {
     "name": "#%%\n"
    }
   }
  },
  {
   "cell_type": "code",
   "execution_count": 44,
   "outputs": [
    {
     "data": {
      "text/plain": "{'training': OrderedDict([('multi_logloss',\n               [1.1561551880416103,\n                1.0231784217447917,\n                0.9215532298075977,\n                0.839746662952777,\n                0.7711498246602154,\n                0.712617973752986,\n                0.6606118937280026,\n                0.6151070946559782,\n                0.5758164843332558,\n                0.5394608762966535,\n                0.507393455967087,\n                0.4776522081998148,\n                0.45099702229363897,\n                0.42787510678739954,\n                0.4053016939862736,\n                0.3851596261253566,\n                0.3621042987849802,\n                0.3418509221763085,\n                0.32281899662415864,\n                0.30526755198891103,\n                0.2888317222005251,\n                0.2732321925084135,\n                0.2592365725333679,\n                0.24483969035901526,\n                0.2329051678581431,\n                0.2222033865458336,\n                0.2112483932954698,\n                0.20104450820674627,\n                0.19202568559912786,\n                0.18283177933991104,\n                0.17489404209790094,\n                0.16656981466333953,\n                0.1589980992529898,\n                0.1524966500555863,\n                0.1457057094064107,\n                0.13940583689249333,\n                0.1338602416586875,\n                0.12762772246867554,\n                0.1220591627237605,\n                0.11707729037017355,\n                0.11234592062578838,\n                0.10770938273600875,\n                0.10307746217992787,\n                0.09885643512674912,\n                0.09489932618090739,\n                0.09090444630521795,\n                0.08688925163666414,\n                0.08339578850362543,\n                0.08012197446363663,\n                0.07728421850998847,\n                0.07394970150055251,\n                0.07084801745336093,\n                0.06782977403733177,\n                0.06473624910927439,\n                0.06214652286629443,\n                0.059720225716270954,\n                0.057361430025405676,\n                0.05515003994811806,\n                0.053136885786085955,\n                0.051184863916661195,\n                0.04947988791480603,\n                0.04717919831051554,\n                0.045519937082014475,\n                0.04356502552555533,\n                0.04187652438850339,\n                0.04038669786369497,\n                0.038888118294026136,\n                0.03750731860407072,\n                0.036049882828646455,\n                0.03456666316145848,\n                0.03331702338296175,\n                0.03208825033321404,\n                0.031012825892437756,\n                0.029823351578443773,\n                0.028727125159084294,\n                0.027530127682705244,\n                0.026542085877565513,\n                0.02564391215756849,\n                0.024667316309150266,\n                0.023841661516094837,\n                0.02292987779683002,\n                0.022156115286582036,\n                0.021405322714787088,\n                0.020569291504028708,\n                0.01987694336768498,\n                0.019114444785189987,\n                0.01834280546958511,\n                0.017769188589732327,\n                0.01715277927875832,\n                0.01660428864976853,\n                0.015992453682615867,\n                0.015360500320978583,\n                0.014885441791354847,\n                0.014299332649602661,\n                0.013806460080825284,\n                0.013321581596311052,\n                0.012876074592499493,\n                0.01242560756617271,\n                0.0119806591479939,\n                0.011520447916133832])]),\n 'valid_1': OrderedDict([('multi_logloss',\n               [1.4728570667164398,\n                1.2994691479221099,\n                1.1696873678784245,\n                1.064807322389951,\n                0.982634812873846,\n                0.9146596970074421,\n                0.8591011793598687,\n                0.8132121045737329,\n                0.7773649070120454,\n                0.7396493340945458,\n                0.7100026689167998,\n                0.6829323435794715,\n                0.6592901219675094,\n                0.6399602844833223,\n                0.6210926192417104,\n                0.6045058635270648,\n                0.5901061570550135,\n                0.5792963137875693,\n                0.566419647587737,\n                0.5563646670737661,\n                0.5493597165863618,\n                0.5442924716343878,\n                0.538193702784225,\n                0.5326152178027871,\n                0.5285880938723747,\n                0.5223779967544971,\n                0.5183560955601739,\n                0.5143994339706969,\n                0.5100297510378929,\n                0.5076731860647283,\n                0.50416535223865,\n                0.498379760392321,\n                0.4941904834596315,\n                0.49185647540498434,\n                0.48950236862014174,\n                0.4866253210034954,\n                0.48488864043037966,\n                0.4820997036438337,\n                0.48247881606866233,\n                0.48115455991445794,\n                0.4810727037061343,\n                0.47999354595415844,\n                0.4799958367763073,\n                0.4802633926165268,\n                0.48002171201972144,\n                0.47775718594845196,\n                0.47852351103830987,\n                0.4779383209848747,\n                0.4774826723375014,\n                0.4779272401491276,\n                0.47796606208171977,\n                0.47752738866096084,\n                0.47763977488754994,\n                0.47903508757795255,\n                0.48007250355622005,\n                0.4808636723922019,\n                0.4821968384326101,\n                0.48217130854057705,\n                0.48317000057444687,\n                0.4849291132240771,\n                0.48535003263077925,\n                0.48670741485675667,\n                0.487070431892704,\n                0.48757786397944797,\n                0.4879123104719392,\n                0.48906316818843926,\n                0.4900193470643648,\n                0.4905505943984603,\n                0.4932040940475528,\n                0.4925792052552277,\n                0.49479271112760476,\n                0.4950726114930523,\n                0.4972068012801668,\n                0.5001412645757927,\n                0.502643502040265,\n                0.5042271922759656,\n                0.5054128307900894,\n                0.5066840221640112,\n                0.5074234506374726,\n                0.507314346558307,\n                0.5101568338237544,\n                0.5117449062944812,\n                0.5132487575899713,\n                0.5141369221258515,\n                0.515616170196242,\n                0.517225483534922,\n                0.5187025968401284,\n                0.5201635666297956,\n                0.5227985071173663,\n                0.5240406334204134,\n                0.5272231079813984,\n                0.5296276227499581,\n                0.5315785791949065,\n                0.5343669030495619,\n                0.5344660744225825,\n                0.5366119973389714,\n                0.5373266686491921,\n                0.5394420794579533,\n                0.5405056325771069,\n                0.5398939920197187])])}"
     },
     "execution_count": 44,
     "metadata": {},
     "output_type": "execute_result"
    }
   ],
   "source": [
    "# 对应vals_result\n",
    "model.evals_result_"
   ],
   "metadata": {
    "collapsed": false,
    "pycharm": {
     "name": "#%%\n"
    }
   }
  },
  {
   "cell_type": "code",
   "execution_count": 45,
   "outputs": [
    {
     "data": {
      "text/plain": "array([  84,  168, 1104, 2121, 1954, 3636, 2080, 1986, 1775, 3488,  181,\n          0,  123,  217,  150,   49,    0,    0,   25,    0,    0,    0,\n          0,  116,    0,  164,   30,    0,    0,    0,   37,   19,    0,\n         79,    0,   78,  101,   29,    0,    0,    0,    0,  173,  204,\n          9,    0,   49,    0,    0,    0,    0,  168,  236,    0])"
     },
     "execution_count": 45,
     "metadata": {},
     "output_type": "execute_result"
    }
   ],
   "source": [
    "# 特征相对重要性\n",
    "model.feature_importances_"
   ],
   "metadata": {
    "collapsed": false,
    "pycharm": {
     "name": "#%%\n"
    }
   }
  },
  {
   "cell_type": "code",
   "execution_count": 46,
   "outputs": [
    {
     "data": {
      "text/plain": "<lightgbm.basic.Booster at 0x286bb755d60>"
     },
     "execution_count": 46,
     "metadata": {},
     "output_type": "execute_result"
    }
   ],
   "source": [
    "# The underlying Booster of this model.\n",
    "model.booster_"
   ],
   "metadata": {
    "collapsed": false,
    "pycharm": {
     "name": "#%%\n"
    }
   }
  },
  {
   "cell_type": "code",
   "execution_count": 47,
   "outputs": [
    {
     "data": {
      "text/plain": "<lightgbm.basic.Booster at 0x286bb755d60>"
     },
     "execution_count": 47,
     "metadata": {},
     "output_type": "execute_result"
    }
   ],
   "source": [
    "# 保存训练好的模型\n",
    "model.booster_.save_model(\"lgb1.model\")"
   ],
   "metadata": {
    "collapsed": false,
    "pycharm": {
     "name": "#%%\n"
    }
   }
  },
  {
   "cell_type": "code",
   "execution_count": 48,
   "outputs": [
    {
     "data": {
      "text/plain": "<lightgbm.basic.Booster at 0x286bb2c5700>"
     },
     "execution_count": 48,
     "metadata": {},
     "output_type": "execute_result"
    }
   ],
   "source": [
    "import lightgbm as lgb\n",
    "\n",
    "# 加载训练好的模型\n",
    "bst = lgb.Booster(model_file='lgb1.model')\n",
    "bst"
   ],
   "metadata": {
    "collapsed": false,
    "pycharm": {
     "name": "#%%\n"
    }
   }
  },
  {
   "cell_type": "code",
   "execution_count": 49,
   "outputs": [
    {
     "data": {
      "text/plain": "array([[0., 0., 0., ..., 0., 0., 0.],\n       [0., 0., 0., ..., 0., 0., 0.],\n       [0., 0., 0., ..., 0., 0., 0.],\n       ...,\n       [0., 0., 0., ..., 0., 0., 0.],\n       [0., 0., 0., ..., 0., 0., 0.],\n       [0., 0., 0., ..., 0., 0., 0.]])"
     },
     "execution_count": 49,
     "metadata": {},
     "output_type": "execute_result"
    }
   ],
   "source": [
    "bst.predict(X_test) - model.predict_proba(X_test)"
   ],
   "metadata": {
    "collapsed": false,
    "pycharm": {
     "name": "#%%\n"
    }
   }
  },
  {
   "cell_type": "code",
   "execution_count": 50,
   "outputs": [
    {
     "data": {
      "text/plain": "<Figure size 432x288 with 1 Axes>",
      "image/png": "[encoded data removed]"
     },
     "metadata": {
      "needs_background": "light"
     },
     "output_type": "display_data"
    }
   ],
   "source": [
    "import matplotlib.pyplot as plt\n",
    "\n",
    "# 绘制特征的相对重要性\n",
    "lgb.plot_importance(model)\n",
    "plt.show()"
   ],
   "metadata": {
    "collapsed": false,
    "pycharm": {
     "name": "#%%\n"
    }
   }
  },
  {
   "cell_type": "code",
   "execution_count": 51,
   "outputs": [],
   "source": [
    "# 可视化lgb分割过程\n",
    "img = lgb.create_tree_digraph(model)"
   ],
   "metadata": {
    "collapsed": false,
    "pycharm": {
     "name": "#%%\n"
    }
   }
  },
  {
   "cell_type": "code",
   "execution_count": 52,
   "outputs": [
    {
     "data": {
      "text/plain": "graphviz.dot.Digraph"
     },
     "execution_count": 52,
     "metadata": {},
     "output_type": "execute_result"
    }
   ],
   "source": [
    "type(img)"
   ],
   "metadata": {
    "collapsed": false,
    "pycharm": {
     "name": "#%%\n"
    }
   }
  },
  {
   "cell_type": "code",
   "execution_count": 52,
   "outputs": [],
   "source": [],
   "metadata": {
    "collapsed": false,
    "pycharm": {
     "name": "#%%\n"
    }
   }
  }
 ],
 "metadata": {
  "kernelspec": {
   "display_name": "Python 3",
   "language": "python",
   "name": "python3"
  },
  "language_info": {
   "codemirror_mode": {
    "name": "ipython",
    "version": 2
   },
   "file_extension": ".py",
   "mimetype": "text/x-python",
   "name": "python",
   "nbconvert_exporter": "python",
   "pygments_lexer": "ipython2",
   "version": "2.7.6"
  }
 },
 "nbformat": 4,
 "nbformat_minor": 0
}