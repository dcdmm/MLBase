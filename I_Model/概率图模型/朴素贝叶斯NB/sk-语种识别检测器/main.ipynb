{
 "cells": [
  {
   "cell_type": "code",
   "execution_count": 41,
   "metadata": {
    "collapsed": true
   },
   "outputs": [],
   "source": [
    "import re\n",
    "from sklearn.feature_extraction.text import CountVectorizer\n",
    "from sklearn.model_selection import train_test_split\n",
    "from sklearn.naive_bayes import MultinomialNB"
   ]
  },
  {
   "cell_type": "code",
   "execution_count": 42,
   "outputs": [],
   "source": [
    "def _remove_noise(document):\n",
    "    \"\"\"去除和语种信息无关的一些噪音\"\"\"\n",
    "    noise_pattern = re.compile(\"|\".join([\"http\\S+\", \"\\@\\w+\", \"\\#\\w+\", '\\d+']))\n",
    "    clean_text = re.sub(noise_pattern, \"\", document)\n",
    "    return clean_text"
   ],
   "metadata": {
    "collapsed": false,
    "pycharm": {
     "name": "#%%\n"
    }
   }
  },
  {
   "cell_type": "code",
   "execution_count": 43,
   "outputs": [
    {
     "data": {
      "text/plain": "' Trump images are now more popular than cat gifs.   '"
     },
     "execution_count": 43,
     "metadata": {},
     "output_type": "execute_result"
    }
   ],
   "source": [
    "# _remove_noise函数测试\n",
    "_remove_noise(\"1234 Trump images are now more popular than cat gifs. @trump #trends http://www.trumptrends.html\")"
   ],
   "metadata": {
    "collapsed": false,
    "pycharm": {
     "name": "#%%\n"
    }
   }
  },
  {
   "cell_type": "code",
   "execution_count": 44,
   "outputs": [],
   "source": [
    "class LanguageDetector:\n",
    "    def __init__(self, classifier=MultinomialNB()):\n",
    "        self.classifier = classifier\n",
    "        self.vectorizer = CountVectorizer(ngram_range=(1, 2), max_features=1000, preprocessor=_remove_noise)\n",
    "\n",
    "    def features(self, X):\n",
    "        return self.vectorizer.transform(X)\n",
    "\n",
    "    def fit(self, X, y):\n",
    "        self.vectorizer.fit(X)\n",
    "        self.classifier.fit(self.features(X), y)\n",
    "\n",
    "    def predict(self, x):\n",
    "        return self.classifier.predict(self.features([x]))\n",
    "\n",
    "    def score(self, X, y):\n",
    "        return self.classifier.score(self.features(X), y)"
   ],
   "metadata": {
    "collapsed": false,
    "pycharm": {
     "name": "#%%\n"
    }
   }
  },
  {
   "cell_type": "code",
   "execution_count": 45,
   "outputs": [],
   "source": [
    "in_f = open('data.csv', encoding='UTF-8')\n",
    "lines = in_f.readlines() # 返回值为列表\n",
    "in_f.close()"
   ],
   "metadata": {
    "collapsed": false,
    "pycharm": {
     "name": "#%%\n"
    }
   }
  },
  {
   "cell_type": "code",
   "execution_count": 46,
   "outputs": [],
   "source": [
    "dataset = [(line.strip()[:-3], line.strip()[-2:]) for line in lines]\n",
    "x, y = zip(*dataset)\n",
    "x_train, x_test, y_train, y_test = train_test_split(x, y, random_state=1)"
   ],
   "metadata": {
    "collapsed": false,
    "pycharm": {
     "name": "#%%\n"
    }
   }
  },
  {
   "cell_type": "code",
   "execution_count": 47,
   "outputs": [],
   "source": [
    "language_detector = LanguageDetector()\n",
    "language_detector.fit(x_train, y_train)"
   ],
   "metadata": {
    "collapsed": false,
    "pycharm": {
     "name": "#%%\n"
    }
   }
  },
  {
   "cell_type": "code",
   "execution_count": 48,
   "outputs": [
    {
     "name": "stdout",
     "output_type": "stream",
     "text": [
      "['en']\n",
      "0.9788266431407145\n"
     ]
    }
   ],
   "source": [
    "print(language_detector.predict('This is an English sentence'))\n",
    "print(language_detector.score(x_test, y_test))"
   ],
   "metadata": {
    "collapsed": false,
    "pycharm": {
     "name": "#%%\n"
    }
   }
  },
  {
   "cell_type": "code",
   "execution_count": 49,
   "outputs": [
    {
     "data": {
      "text/plain": "['aan',\n 'ab',\n 'abbiamo',\n 'aber',\n 'able',\n 'able to',\n 'about',\n 'account',\n 'ad',\n 'adam',\n 'admits',\n 'admitted',\n 'af',\n 'afp',\n 'after',\n 'against',\n 'ahora',\n 'ai',\n 'airport',\n 'al',\n 'alaska',\n 'algerie',\n 'algo',\n 'all',\n 'alla',\n 'alle',\n 'alles',\n 'als',\n 'also',\n 'altri',\n 'am',\n 'am besten',\n 'americanchopper',\n 'amsterdam',\n 'an',\n 'anche',\n 'ancora',\n 'and',\n 'android',\n 'ans',\n 'any',\n 'apoyo',\n 'app',\n 'apps',\n 'appwednesday',\n 'après',\n 'aquí',\n 'are',\n 'as',\n 'assange',\n 'at',\n 'at ep',\n 'at least',\n 'at pm',\n 'at the',\n 'au',\n 'auch',\n 'auf',\n 'aujourdhui',\n 'aus',\n 'aussi',\n 'auto',\n 'aux',\n 'avant',\n 'avec',\n 'avete',\n 'ayudamos',\n 'ayudar',\n 'año',\n 'back',\n 'bbc',\n 'be',\n 'bedankt',\n 'bedankt voor',\n 'been',\n 'bei',\n 'bei uns',\n 'beim',\n 'believes',\n 'ben',\n 'bene',\n 'berlin',\n 'berlusconi',\n 'best',\n 'beste',\n 'besten',\n 'between',\n 'bien',\n 'bij',\n 'bij het',\n 'bin',\n 'bitte',\n 'blog',\n 'bon',\n 'bonne',\n 'boss',\n 'brand',\n 'buenas',\n 'buenas tardes',\n 'buenos',\n 'but',\n 'by',\n 'cada',\n 'cairo',\n 'call',\n 'cameron',\n 'campo',\n 'can',\n 'canal',\n 'casa',\n 'caso',\n 'cc',\n 'ce',\n 'ce matin',\n 'cest',\n 'cette',\n 'chance',\n 'change',\n 'che',\n 'check',\n 'chelsea',\n 'chi',\n 'ci',\n 'ci sono',\n 'city',\n 'claims',\n 'client',\n 'cnn',\n 'column',\n 'come',\n 'coming',\n 'comme',\n 'como',\n 'con',\n 'con el',\n 'con la',\n 'conseil',\n 'continue',\n 'contre',\n 'contro',\n 'cooper',\n 'cosa',\n 'così',\n 'could',\n 'cs',\n 'cuando',\n 'cè',\n 'da',\n 'dag',\n 'dal',\n 'dan',\n 'dank',\n 'danke',\n 'danke für',\n 'dann',\n 'dans',\n 'dans la',\n 'dans le',\n 'dans les',\n 'das',\n 'dass',\n 'dat',\n 'date',\n 'david',\n 'day',\n 'de',\n 'de la',\n 'de las',\n 'de los',\n 'de twitter',\n 'de unicef',\n 'de week',\n 'deal',\n 'dei',\n 'del',\n 'della',\n 'delle',\n 'dem',\n 'demain',\n 'demploi',\n 'den',\n 'denn',\n 'depuis',\n 'der',\n 'derby',\n 'des',\n 'desde',\n 'después',\n 'deutsche',\n 'deutschland',\n 'deux',\n 'deze',\n 'di',\n 'di the',\n 'di twitter',\n 'dice',\n 'die',\n 'dir',\n 'direct',\n 'directo',\n 'diretta',\n 'dirtyjobs',\n 'disponible',\n 'dit',\n 'dm',\n 'do',\n 'doch',\n 'doit',\n 'dont',\n 'door',\n 'dopo',\n 'down',\n 'droits',\n 'du',\n 'due',\n 'dun',\n 'dune',\n 'día',\n 'días',\n 'ecco',\n 'ed',\n 'een',\n 'eerste',\n 'egitto',\n 'egypt',\n 'egypte',\n 'egyptian',\n 'egypts',\n 'ein',\n 'eine',\n 'einen',\n 'einer',\n 'el',\n 'el de',\n 'el día',\n 'emploi',\n 'emplois',\n 'en',\n 'en direct',\n 'en directo',\n 'en egypte',\n 'en el',\n 'en español',\n 'en france',\n 'en haití',\n 'en inglés',\n 'en la',\n 'en mtv',\n 'encore',\n 'end',\n 'england',\n 'enlace',\n 'entre',\n 'ep',\n 'episodio',\n 'er',\n 'erreichbar',\n 'es',\n 'es el',\n 'es que',\n 'esa',\n 'eso',\n 'españa',\n 'español',\n 'esperamos',\n 'est',\n 'esta',\n 'esta noche',\n 'estamos',\n 'este',\n 'estreno',\n 'está',\n 'et',\n 'et de',\n 'et la',\n 'et les',\n 'eten',\n 'etwas',\n 'euch',\n 'even',\n 'fa',\n 'face',\n 'facebook',\n 'facebook nellalbum',\n 'faire',\n 'fait',\n 'fan',\n 'fans',\n 'fare',\n 'faut',\n 'feb',\n 'festival',\n 'ff',\n 'fifa',\n 'film',\n 'fin',\n 'finale',\n 'finalisti',\n 'find',\n 'fine',\n 'first',\n 'flyingwildalaska',\n 'folgt',\n 'follow',\n 'followfriday',\n 'football',\n 'for',\n 'for the',\n 'for you',\n 'former',\n 'foto',\n 'foto su',\n 'fotos',\n 'franais',\n 'franaise',\n 'france',\n 'friday',\n 'from',\n 'future',\n 'für',\n 'für die',\n 'gaan',\n 'gaat',\n 'geefeenmaaltijd',\n 'geen',\n 'gegen',\n 'geht',\n 'gerade',\n 'get',\n 'gi',\n 'gibt',\n 'gibt es',\n 'giffords',\n 'giornata',\n 'giorno',\n 'gli',\n 'goal',\n 'goed',\n 'goldrush',\n 'goldrush alaska',\n 'google',\n 'got',\n 'government',\n 'governo',\n 'gracias',\n 'gracias por',\n 'grand',\n 'grande',\n 'gratis',\n 'grazie',\n 'grote',\n 'gut',\n 'gute',\n 'gypte',\n 'gypten',\n 'ha',\n 'haar',\n 'habe',\n 'haben',\n 'had',\n 'hai',\n 'haiti',\n 'haití',\n 'ham',\n 'han',\n 'handball',\n 'hannover',\n 'has',\n 'has been',\n 'hashtag',\n 'hast',\n 'hasta',\n 'hat',\n 'have',\n 'have you',\n 'hay',\n 'haïti',\n 'he',\n 'hear',\n 'hebben',\n 'heeft',\n 'help',\n 'helpen',\n 'hemos',\n 'here',\n 'het',\n 'het qijsblok',\n 'heute',\n 'heutede',\n 'heutede video',\n 'hi',\n 'hicisteis',\n 'hier',\n 'his',\n 'ho',\n 'ho pubblicato',\n 'hoe',\n 'hola',\n 'honger',\n 'hopes',\n 'hotline',\n 'how',\n 'hoy',\n 'hun',\n 'ibra',\n 'ich',\n 'if',\n 'ihr',\n 'ik',\n 'il',\n 'il faut',\n 'im',\n 'im livestream',\n 'immer',\n 'in',\n 'in cairo',\n 'in campo',\n 'in de',\n 'in den',\n 'in der',\n 'in egypt',\n 'in het',\n 'in the',\n 'in tilburg',\n 'infancia',\n 'info',\n 'inglés',\n 'internet',\n 'interview',\n 'io',\n 'ipad',\n 'iphone',\n 'is',\n 'is het',\n 'iss',\n 'ist',\n 'it',\n 'italia',\n 'italiani',\n 'italiano',\n 'its',\n 'ja',\n 'jaar',\n 'jai',\n 'jan',\n 'jarige',\n 'je',\n 'jetzt',\n 'jeunes',\n 'jij',\n 'jmstv',\n 'jour',\n 'journée',\n 'julian',\n 'julian assange',\n 'jullie',\n 'jullie steun',\n 'jullie support',\n 'just',\n 'kan',\n 'kann',\n 'kannst',\n 'keep',\n 'kein',\n 'keine',\n 'kijk',\n 'killed',\n 'kimbo',\n 'kind',\n 'kinderen',\n 'know',\n 'kom',\n 'kommt',\n 'komt',\n 'kostenlos',\n 'kunnen',\n 'können',\n 'la',\n 'la france',\n 'la infancia',\n 'la journée',\n 'la web',\n 'lang',\n 'las',\n 'le',\n 'le président',\n 'league',\n 'least',\n 'leider',\n 'les',\n 'let',\n 'leur',\n 'like',\n 'link',\n 'live',\n 'liverpool',\n 'livestream',\n 'lo',\n 'lo que',\n 'look',\n 'los',\n 'los niños',\n 'love',\n 'lunes',\n 'ma',\n 'maakt',\n 'maar',\n 'mac',\n 'macht',\n 'madrid',\n 'mai',\n 'mais',\n 'mal',\n 'mam',\n 'man',\n 'manager',\n 'manchester',\n 'mark',\n 'mars',\n 'matin',\n 'mañana',\n 'me',\n 'media',\n 'meer',\n 'meglio',\n 'mehr',\n 'mejor',\n 'merci',\n 'message',\n 'met',\n 'met de',\n 'mi',\n 'mich',\n 'milano',\n 'mini',\n 'mini cooper',\n 'minister',\n 'mir',\n 'mit',\n 'mobile',\n 'moerdijk',\n 'moet',\n 'moi',\n 'molto',\n 'moment',\n 'momento',\n 'mon',\n 'monde',\n 'more',\n 'morgen',\n 'moubarak',\n 'move',\n 'mtv',\n 'mubarak',\n 'muchas',\n 'muchas gracias',\n 'musicmonday',\n 'muss',\n 'muy',\n 'más',\n 'même',\n 'móvil',\n 'na',\n 'naar',\n 'nach',\n 'ne',\n 'nederland',\n 'need',\n 'nein',\n 'nel',\n 'nella',\n 'nellalbum',\n 'nellalbum the',\n 'nest',\n 'nest pas',\n 'network',\n 'neue',\n 'new',\n 'news',\n 'ngel',\n 'ni',\n 'nicht',\n 'niet',\n 'nieuwe',\n 'nieuwe blog',\n 'night',\n 'ninasmal',\n 'niños',\n 'nn',\n 'no',\n 'noch',\n 'noche',\n 'nog',\n 'nombre',\n 'non',\n 'nos',\n 'nos sigues',\n 'nosotros',\n 'nosotros te',\n 'not',\n 'notre',\n 'nous',\n 'nouveau',\n 'nouvelle',\n 'now',\n 'nu',\n 'nuestra',\n 'nuestro',\n 'nueva',\n 'nuevo',\n 'nuova',\n 'nuovo',\n 'nur',\n 'obama',\n 'oder',\n 'of',\n 'of the',\n 'off',\n 'oggi',\n 'oh',\n 'ok',\n 'om',\n 'on',\n 'on the',\n 'onder',\n 'ondervoede',\n 'ondervoede kinderen',\n 'one',\n 'online',\n 'only',\n 'ons',\n 'ont',\n 'onze',\n 'ook',\n 'op',\n 'op de',\n 'or',\n 'ora',\n 'os',\n 'ou',\n 'oui',\n 'our',\n 'out',\n 'over',\n 'où',\n 'page',\n 'pakistan',\n 'par',\n 'para',\n 'para dm',\n 'para el',\n 'parece',\n 'paris',\n 'part',\n 'parte',\n 'partita',\n 'pas',\n 'pato',\n 'paul',\n 'pays',\n 'pdef',\n 'pdef sécurité',\n 'people',\n 'pequeñasmentirosas',\n 'per',\n 'per il',\n 'per la',\n 'pero',\n 'phone',\n 'più',\n 'place',\n 'plan',\n 'plans',\n 'please',\n 'plus',\n 'pm',\n 'po',\n 'poco',\n 'podemos',\n 'police',\n 'politie',\n 'politique',\n 'por',\n 'por el',\n 'por la',\n 'post',\n 'pour',\n 'pour la',\n 'pour le',\n 'pour les',\n 'pouvoir',\n 'premier',\n 'president',\n 'president mubarak',\n 'prima',\n 'prime',\n 'prime minister',\n 'primer',\n 'problem',\n 'programa',\n 'pronto',\n 'protesters',\n 'protests',\n 'présidence',\n 'président',\n 'pubblicato',\n 'pubblicato foto',\n 'puedes',\n 'pues',\n 'puntata',\n 'qijsblok',\n 'qsnowcase',\n 'quando',\n 'que',\n 'que hicisteis',\n 'que la',\n 'que me',\n 'que no',\n 'que se',\n 'que te',\n 'questa',\n 'question',\n 'questions',\n 'questo',\n 'qui',\n 'quieres',\n 'quil',\n 'quoi',\n 'qué',\n 'ragazzi',\n 'reports',\n 'return',\n 'roberto',\n 'roma',\n 'rtl',\n 'ruby',\n 'sa',\n 'saber',\n 'saludos',\n 'san',\n 'sans',\n 'sar',\n 'sarkozy',\n 'sarkozy la',\n 'sarkozy pdef',\n 'sarkozy tunisie',\n 'says',\n 'schon',\n 'se',\n 'secondo',\n 'secretary',\n 'see',\n 'sehr',\n 'sei',\n 'sein',\n 'selon',\n 'semana',\n 'ser',\n 'sera',\n 'serie',\n 'series',\n 'service',\n 'should',\n 'show',\n 'si',\n 'sich',\n 'sie',\n 'sigues',\n 'sigues para',\n 'sin',\n 'since',\n 'sind',\n 'site',\n 'sleutel',\n 'slqh',\n 'sms',\n 'sms unicef',\n 'smw',\n 'so',\n 'sobre',\n 'social',\n 'social media',\n 'socialtv',\n 'socialtv smw',\n 'soir',\n 'solo',\n 'son',\n 'sono',\n 'sont',\n 'sorry',\n 'sorry to',\n 'spa',\n 'square',\n 'sta',\n 'start',\n 'state',\n 'stato',\n 'step',\n 'steun',\n 'still',\n 'striker',\n 'su',\n 'su facebook',\n 'su twitter',\n 'sud',\n 'sufrocomogeno',\n 'suis',\n 'suivez',\n 'sul',\n 'suo',\n 'super',\n 'support',\n 'sur',\n 'sur la',\n 'sur le',\n 'sur les',\n 'sur twitter',\n 'sus',\n 'sé',\n 'sé lo',\n 'sécurité',\n 'sí',\n 'tahrir',\n 'tahrir square',\n 'take',\n 'también',\n 'tardes',\n 'te',\n 'te ayudamos',\n 'team',\n 'tegen',\n 'tells',\n 'tempo',\n 'tenemos',\n 'terrorisme',\n 'th',\n 'thanks',\n 'that',\n 'that he',\n 'the',\n 'the chance',\n 'their',\n 'them',\n 'thema',\n 'there',\n 'they',\n 'this',\n 'ti',\n 'tiene',\n 'tienes',\n 'tienes que',\n 'tilburg',\n 'time',\n 'to',\n 'to be',\n 'to hear',\n 'to see',\n 'to the',\n 'todo',\n 'todos',\n 'tonight',\n 'tonight at',\n 'tony',\n 'top',\n 'torres',\n 'tot',\n 'tour',\n 'tous',\n 'tout',\n 'tra',\n 'try',\n 'très',\n 'tu',\n 'tunisie',\n 'tuo',\n 'tus',\n 'tussen',\n 'tutti',\n 'tv',\n 'tweede',\n 'tweet',\n 'tweets',\n 'twitter',\n 'tú',\n 'uhr',\n 'uit',\n 'um',\n 'un',\n 'un po',\n 'una',\n 'und',\n 'une',\n 'unicef',\n 'unicef naar',\n 'united',\n 'uno',\n 'uns',\n 'unser',\n 'up',\n 'update',\n 'us',\n 'usa',\n 'utenti',\n 'uur',\n 'va',\n 'van',\n 'van de',\n 'van het',\n 'vanaf',\n 'vanavond',\n 'vandaag',\n 'veel',\n 'ver',\n 'ver el',\n 'version',\n 'vi',\n 'via',\n 'video',\n 'viel',\n 'viele',\n 'villa',\n 'violence',\n 'visto',\n 'vn',\n 'vodafone',\n 'voi',\n 'von',\n 'voor',\n 'voor de',\n 'voor je',\n 'voor jullie',\n 'vor',\n 'vos',\n 'vosotros',\n 'vous',\n 'vrijdag',\n 'vs',\n 'vía',\n 'waarin',\n 'want',\n 'war',\n 'was',\n 'wat',\n 'watch',\n 'we',\n 'we can',\n 'web',\n 'webmh',\n 'wed',\n 'week',\n 'week waarin',\n 'weer',\n 'wel',\n 'well',\n 'wenn',\n 'wer',\n 'werden',\n 'were',\n 'west',\n 'west ham',\n 'westcoast',\n 'what',\n 'when',\n 'wie',\n 'wieder',\n 'wikileaks',\n 'wil',\n 'will',\n 'will be',\n 'win',\n 'wir',\n 'wir haben',\n 'wird',\n 'with',\n 'wm',\n 'wolves',\n 'worden',\n 'wordt',\n 'world',\n 'would',\n 'wpblogger',\n 'ya',\n 'yes',\n 'yo',\n 'you',\n 'you can',\n 'your',\n 'youre',\n 'zdf',\n 'ze',\n 'zich',\n 'zie',\n 'zijn',\n 'zo',\n 'zu',\n 'zum',\n 'zur',\n 'été',\n 'être',\n 'über']"
     },
     "execution_count": 49,
     "metadata": {},
     "output_type": "execute_result"
    }
   ],
   "source": [
    "language_detector.vectorizer.get_feature_names() # CountVectorizer的所提取到的特征"
   ],
   "metadata": {
    "collapsed": false,
    "pycharm": {
     "name": "#%%\n"
    }
   }
  },
  {
   "cell_type": "code",
   "execution_count": 49,
   "outputs": [],
   "source": [
    "\n",
    "\n"
   ],
   "metadata": {
    "collapsed": false,
    "pycharm": {
     "name": "#%%\n"
    }
   }
  }
 ],
 "metadata": {
  "kernelspec": {
   "display_name": "Python 3",
   "language": "python",
   "name": "python3"
  },
  "language_info": {
   "codemirror_mode": {
    "name": "ipython",
    "version": 2
   },
   "file_extension": ".py",
   "mimetype": "text/x-python",
   "name": "python",
   "nbconvert_exporter": "python",
   "pygments_lexer": "ipython2",
   "version": "2.7.6"
  }
 },
 "nbformat": 4,
 "nbformat_minor": 0
}