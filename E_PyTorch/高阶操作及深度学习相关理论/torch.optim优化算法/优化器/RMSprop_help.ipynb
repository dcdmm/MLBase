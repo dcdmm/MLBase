{
 "cells": [
  {
   "cell_type": "markdown",
   "metadata": {
    "pycharm": {
     "name": "#%% md\n"
    }
   },
   "source": [
    "&emsp;&emsp;RMSprop 算法是Geoff Hinton提出的一种<font color='red' size=4>自适应学习率</font>的方法可以在有些情况下避免AdaGrad 算法中学习率不断单调下降以至于过早衰减的缺点．\n",
    "\n",
    "***\n",
    "\n",
    "**Require**: 学习率$\\epsilon $,衰减速率$\\rho$\n",
    "\n",
    "**Require**: 初始参数$\\boldsymbol{\\theta_0}$\n",
    "\n",
    "**Require**: 小常数$\\delta$,为了数值稳定大约设为$10^{-8}$\n",
    "\n",
    "&emsp;&emsp;初始化梯度累计变量$\\boldsymbol{r}=\\boldsymbol{0}$\n",
    "\n",
    "&emsp;&emsp;初始时间步$ t \\leftarrow 0$ \n",
    "\n",
    "&emsp;&emsp;**while** 停止准则未满足 **do**\n",
    "\n",
    "&emsp;&emsp;&emsp;&emsp;从训练集中随机选取$m$个样本(小批量)$\\{ \\mathbf{x^{1}},\\mathbf{x^{2}}, \\cdots, \\mathbf{x^{m}} \\}$,其中$\\mathbf{x^{i}}$对应目标为$y^{i}$\n",
    "\n",
    "&emsp;&emsp;&emsp;&emsp;计算梯度:$\\boldsymbol{g_t} \\leftarrow \\frac{1}{m} \\nabla_{\\boldsymbol{\\theta_t}} \\sum_i L\\left(f(\\mathbf{x^{i}};\\boldsymbol{\\theta_t}), y^i \\right)$\n",
    "\n",
    "&emsp;&emsp;&emsp;&emsp;$t \\leftarrow t+1$\n",
    "\n",
    "&emsp;&emsp;&emsp;&emsp;累计梯度平方:$\\boldsymbol{r}_{t} \\leftarrow \\rho \\boldsymbol{r}_{t-1} + (1-\\rho) \\boldsymbol{g_t} \\odot \\boldsymbol{g_t}$\n",
    "\n",
    "&emsp;&emsp;&emsp;&emsp;计算更新:$\\Delta \\boldsymbol{\\theta_{t-1}}  \\leftarrow  - \\frac{\\epsilon}{ \\sqrt{\\delta+\\boldsymbol{r_t}}} \\odot \\boldsymbol{g_t}$\n",
    "\n",
    "&emsp;&emsp;&emsp;&emsp;参数更新:$\\boldsymbol{\\theta_{t}} \\leftarrow \\boldsymbol{\\theta_{t-1}} + \\Delta \\boldsymbol{\\theta_{t-1}} $\n",
    "\n",
    "&emsp;&emsp;**end while**\n",
    "\n",
    "***\n",
    "\n",
    "其中$\\odot$表示逐元素相乘\n",
    "\n",
    "&emsp;&emsp;可以看出,RMSProp 算法和AdaGrad 算法的区别在于$r_t$的计算由累积方式变成了指数衰减移动平均.在迭代过程中,每个参数的学习率并不是呈衰减趋势,既可以变小也可以变大．\n",
    "\n",
    "\n",
    "\n",
    "### 使用Nesterov 动量的RMSProp 算法\n",
    "\n",
    "***\n",
    "\n",
    "**Require**: 学习率$\\epsilon $,衰减速率$\\rho$,动量系数$\\alpha$\n",
    "\n",
    "**Require**: 初始参数$\\boldsymbol{\\theta_0}$,初始参数$\\boldsymbol{v_0}$\n",
    "\n",
    "**Require**: 小常数$\\delta$,为了数值稳定大约设为$10^{-8}$\n",
    "\n",
    "&emsp;&emsp;初始化梯度累计变量$\\boldsymbol{r_0} =\\boldsymbol{0}$\n",
    "\n",
    "&emsp;&emsp;初始时间步$ t \\leftarrow 0$ \n",
    "\n",
    "&emsp;&emsp;**while** 停止准则未满足 **do**\n",
    "\n",
    "&emsp;&emsp;&emsp;&emsp;从训练集中随机选取$m$个样本(小批量)$\\{ \\mathbf{x^{1}},\\mathbf{x^{2}}, \\cdots, \\mathbf{x^{m}} \\}$,其中$\\mathbf{x^{i}}$对应目标为$y^{i}$\n",
    "\n",
    "&emsp;&emsp;&emsp;&emsp;计算临时更新:$\\boldsymbol{\\hat{\\theta}} \\leftarrow \\boldsymbol{\\theta_t} + \\alpha \\boldsymbol{v}_{t-1}$\n",
    "\n",
    "\n",
    "&emsp;&emsp;&emsp;&emsp;计算梯度:$ \\boldsymbol{g_t} \\leftarrow \\frac{1}{m} \\nabla_{\\boldsymbol{\\hat{\\theta}}} \\sum_i L\\left(f(\\mathbf{x^{i}};\\boldsymbol{\\hat{\\theta}}), y^i \\right)$\n",
    "\n",
    "&emsp;&emsp;&emsp;&emsp;$t \\leftarrow t+1$\n",
    "\n",
    "&emsp;&emsp;&emsp;&emsp;累计梯度平方:$\\boldsymbol{r}_{t} \\leftarrow \\rho \\boldsymbol{r}_{t-1} + (1-\\rho) \\boldsymbol{g_t} \\odot \\boldsymbol{g_t}$\n",
    "\n",
    "&emsp;&emsp;&emsp;&emsp;计算速度更新:$\\boldsymbol{v}_{t} \\leftarrow \\alpha \\boldsymbol{v}_{t-1} - \\frac{\\epsilon}{\\sqrt{\\boldsymbol{r_t}}} \\odot \\boldsymbol{g_t}$\n",
    "\n",
    "&emsp;&emsp;&emsp;&emsp;参数更新:$\\boldsymbol{\\theta_{t}} \\leftarrow \\boldsymbol{\\theta_{t-1}} + \\boldsymbol{v}_{t}$\n",
    "\n",
    "&emsp;&emsp;**end while**\n",
    "\n",
    "***"
   ]
  },
  {
   "cell_type": "code",
   "execution_count": null,
   "metadata": {},
   "outputs": [],
   "source": []
  }
 ],
 "metadata": {
  "kernelspec": {
   "display_name": "Python 3",
   "language": "python",
   "name": "python3"
  },
  "language_info": {
   "codemirror_mode": {
    "name": "ipython",
    "version": 3
   },
   "file_extension": ".py",
   "mimetype": "text/x-python",
   "name": "python",
   "nbconvert_exporter": "python",
   "pygments_lexer": "ipython3",
   "version": "3.7.7"
  },
  "toc": {
   "base_numbering": 1,
   "nav_menu": {},
   "number_sections": true,
   "sideBar": true,
   "skip_h1_title": false,
   "title_cell": "Table of Contents",
   "title_sidebar": "Contents",
   "toc_cell": false,
   "toc_position": {},
   "toc_section_display": true,
   "toc_window_display": false
  }
 },
 "nbformat": 4,
 "nbformat_minor": 1
}