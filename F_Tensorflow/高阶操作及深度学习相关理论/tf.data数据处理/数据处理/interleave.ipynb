{
 "cells": [
  {
   "cell_type": "code",
   "execution_count": 79,
   "metadata": {
    "collapsed": true
   },
   "outputs": [],
   "source": [
    "import tensorflow as tf"
   ]
  },
  {
   "cell_type": "code",
   "execution_count": 80,
   "outputs": [
    {
     "data": {
      "text/plain": "[1,\n 1,\n 1,\n 1,\n 1,\n 2,\n 2,\n 2,\n 2,\n 2,\n 1,\n 2,\n 3,\n 3,\n 3,\n 3,\n 3,\n 4,\n 4,\n 4,\n 4,\n 4,\n 3,\n 4,\n 5,\n 5,\n 5,\n 5,\n 5,\n 5]"
     },
     "execution_count": 80,
     "metadata": {},
     "output_type": "execute_result"
    }
   ],
   "source": [
    "\n",
    "dataset = tf.data.Dataset.from_tensor_slices([1, 2, 3, 4, 5])\n",
    "\n",
    "\n",
    "def func(x):\n",
    "    return tf.data.Dataset.from_tensors(x).repeat(6)\n",
    "\n",
    "\n",
    "'''\n",
    "map_func:\t        A function that takes a dataset element and returns a tf.data.Dataset.\n",
    "num_parallel_calls:\t(Optional.) If specified, the implementation creates a threadpool, which is used to fetch inputs from cycle elements asynchronously and in parallel. The default behavior is to fetch inputs from cycle elements synchronously with no parallelism. If the value tf.data.AUTOTUNE is used, then the number of parallel calls is set dynamically based on available CPU.\n",
    "'''\n",
    "dataset = dataset.interleave(map_func=func,\n",
    "                             cycle_length=2, block_length=5,\n",
    "                             num_parallel_calls=tf.data.AUTOTUNE)\n",
    "\"\"\"\n",
    "执行过程解析:\n",
    "1. 从dataset中取出cycle_length个元素\n",
    "2. 这些元素应用与map_func得到cycle_length个Dataset\n",
    "3. 每个Dataset每次取block_length个数据\n",
    "...\n",
    "\"\"\"\n",
    "list(dataset.as_numpy_iterator())"
   ],
   "metadata": {
    "collapsed": false,
    "pycharm": {
     "name": "#%%\n"
    }
   }
  }
 ],
 "metadata": {
  "kernelspec": {
   "display_name": "Python 3",
   "language": "python",
   "name": "python3"
  },
  "language_info": {
   "codemirror_mode": {
    "name": "ipython",
    "version": 2
   },
   "file_extension": ".py",
   "mimetype": "text/x-python",
   "name": "python",
   "nbconvert_exporter": "python",
   "pygments_lexer": "ipython2",
   "version": "2.7.6"
  }
 },
 "nbformat": 4,
 "nbformat_minor": 0
}