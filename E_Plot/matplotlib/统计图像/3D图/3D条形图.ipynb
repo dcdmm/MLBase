{
 "cells": [
  {
   "cell_type": "code",
   "execution_count": 20,
   "metadata": {
    "pycharm": {
     "is_executing": false,
     "metadata": false,
     "name": "#%%\n"
    }
   },
   "outputs": [],
   "source": [
    "%matplotlib qt5\n",
    "from mpl_toolkits.mplot3d import Axes3D \n",
    "\n",
    "import matplotlib.pyplot as plt\n",
    "import numpy as np\n",
    "\n",
    "fig = plt.figure()\n",
    "ax = fig.add_subplot(111, projection='3d')\n",
    "\n",
    "xpos = np.array([0.25, 0.25, 0.25, 0.25, 1.25, 1.25, 1.25, 1.25, 2.25, 2.25, 2.25,\n",
    "       2.25, 3.25, 3.25, 3.25, 3.25])\n",
    "ypos = np.array([0.25, 1.25, 2.25, 3.25, 0.25, 1.25, 2.25, 3.25, 0.25, 1.25, 2.25,\n",
    "       3.25, 0.25, 1.25, 2.25, 3.25])\n",
    "\n",
    "zpos = 0\n",
    "\n",
    "dx = dy = 0.5\n",
    "dz = np.array(range(16))\n",
    "color=['red', 'yellow', 'black', 'green'] * 4\n",
    "\n",
    "ax.bar3d(xpos, ypos, zpos, dx, dy, dz, color=color)\n",
    "'''\n",
    "x, y, z : array-like\n",
    "    The coordinates of the anchor point of the bars.\n",
    "\n",
    "dx, dy, dz : scalar or array-like\n",
    "    The width, depth, and height of the bars, respectively.\n",
    "\n",
    "color : sequence of valid color specifications, optional\n",
    "    The color of the bars can be specified globally or individually. This parameter can be:\n",
    "        A single color value, to color all bars the same color.\n",
    "        An array of colors of length N bars, to color each bar independently.\n",
    "        An array of colors of length 6, to color the faces of the bars similarly.\n",
    "        An array of colors of length 6 * N bars, to color each face independently.\n",
    "'''\n",
    "ax.grid(b=False) # 不显示网格\n",
    "plt.show()"
   ]
  },
  {
   "cell_type": "code",
   "execution_count": null,
   "outputs": [],
   "source": [
    "\n"
   ],
   "metadata": {
    "collapsed": false,
    "pycharm": {
     "name": "#%%\n"
    }
   }
  }
 ],
 "metadata": {
  "kernelspec": {
   "display_name": "Python 3",
   "language": "python",
   "name": "python3"
  },
  "language_info": {
   "codemirror_mode": {
    "name": "ipython",
    "version": 3
   },
   "file_extension": ".py",
   "mimetype": "text/x-python",
   "name": "python",
   "nbconvert_exporter": "python",
   "pygments_lexer": "ipython3",
   "version": "3.7.3"
  },
  "stem_cell": {
   "cell_type": "raw",
   "metadata": {
    "pycharm": {
     "metadata": false
    }
   },
   "source": ""
  },
  "pycharm": {
   "stem_cell": {
    "cell_type": "raw",
    "source": [],
    "metadata": {
     "collapsed": false
    }
   }
  }
 },
 "nbformat": 4,
 "nbformat_minor": 1
}