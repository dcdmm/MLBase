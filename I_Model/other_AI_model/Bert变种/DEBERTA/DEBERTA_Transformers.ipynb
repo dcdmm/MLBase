{
 "cells": [
  {
   "cell_type": "code",
   "execution_count": 29,
   "outputs": [],
   "source": [
    "from transformers import AutoModel, AutoTokenizer"
   ],
   "metadata": {
    "collapsed": false,
    "pycharm": {
     "name": "#%%\n"
    }
   }
  },
  {
   "cell_type": "code",
   "execution_count": 30,
   "outputs": [
    {
     "name": "stderr",
     "output_type": "stream",
     "text": [
      "Special tokens have been added in the vocabulary, make sure the associated word embeddings are fine-tuned or trained.\n"
     ]
    },
    {
     "name": "stdout",
     "output_type": "stream",
     "text": [
      "['input_ids', 'token_type_ids', 'attention_mask']\n",
      "['[CLS]', '[SEP]', '[UNK]', '[PAD]', '[MASK]']\n"
     ]
    }
   ],
   "source": [
    "'''\n",
    "主要预训练模型:\n",
    "'microsoft/deberta-v3-base'\n",
    "'microsoft/deberta-v3-large'\n",
    "'''\n",
    "tokenizer = AutoTokenizer.from_pretrained('microsoft/deberta-v3-base')\n",
    "print(tokenizer.model_input_names)\n",
    "print(tokenizer.all_special_tokens)"
   ],
   "metadata": {
    "collapsed": false,
    "pycharm": {
     "name": "#%%\n"
    }
   }
  },
  {
   "cell_type": "code",
   "execution_count": 31,
   "outputs": [
    {
     "data": {
      "text/plain": "('deberta-v3-base-tokenizer\\\\tokenizer_config.json',\n 'deberta-v3-base-tokenizer\\\\special_tokens_map.json',\n 'deberta-v3-base-tokenizer\\\\spm.model',\n 'deberta-v3-base-tokenizer\\\\added_tokens.json')"
     },
     "execution_count": 31,
     "metadata": {},
     "output_type": "execute_result"
    }
   ],
   "source": [
    "# 保存分词器(包括新添加的tokens)\n",
    "tokenizer.save_pretrained(\"deberta-v3-base-tokenizer\")"
   ],
   "metadata": {
    "collapsed": false,
    "pycharm": {
     "name": "#%%\n"
    }
   }
  },
  {
   "cell_type": "code",
   "execution_count": 32,
   "outputs": [
    {
     "data": {
      "text/plain": "PreTrainedTokenizer(name_or_path='deberta-v3-base-tokenizer/', vocab_size=128000, model_max_len=1000000000000000019884624838656, is_fast=False, padding_side='right', truncation_side='right', special_tokens={'bos_token': '[CLS]', 'eos_token': '[SEP]', 'unk_token': '[UNK]', 'sep_token': '[SEP]', 'pad_token': '[PAD]', 'cls_token': '[CLS]', 'mask_token': '[MASK]'})"
     },
     "execution_count": 32,
     "metadata": {},
     "output_type": "execute_result"
    }
   ],
   "source": [
    "# 从本地加载\n",
    "AutoTokenizer.from_pretrained('deberta-v3-base-tokenizer/')"
   ],
   "metadata": {
    "collapsed": false,
    "pycharm": {
     "name": "#%%\n"
    }
   }
  },
  {
   "cell_type": "code",
   "execution_count": 33,
   "outputs": [
    {
     "name": "stderr",
     "output_type": "stream",
     "text": [
      "Some weights of the model checkpoint at microsoft/deberta-v3-base were not used when initializing DebertaV2Model: ['mask_predictions.dense.bias', 'mask_predictions.classifier.bias', 'lm_predictions.lm_head.bias', 'lm_predictions.lm_head.dense.bias', 'mask_predictions.LayerNorm.weight', 'mask_predictions.classifier.weight', 'lm_predictions.lm_head.LayerNorm.bias', 'mask_predictions.dense.weight', 'lm_predictions.lm_head.dense.weight', 'mask_predictions.LayerNorm.bias', 'lm_predictions.lm_head.LayerNorm.weight']\n",
      "- This IS expected if you are initializing DebertaV2Model from the checkpoint of a model trained on another task or with another architecture (e.g. initializing a BertForSequenceClassification model from a BertForPreTraining model).\n",
      "- This IS NOT expected if you are initializing DebertaV2Model from the checkpoint of a model that you expect to be exactly identical (initializing a BertForSequenceClassification model from a BertForSequenceClassification model).\n"
     ]
    },
    {
     "data": {
      "text/plain": "DebertaV2Model(\n  (embeddings): DebertaV2Embeddings(\n    (word_embeddings): Embedding(128100, 768, padding_idx=0)\n    (LayerNorm): LayerNorm((768,), eps=1e-07, elementwise_affine=True)\n    (dropout): StableDropout()\n  )\n  (encoder): DebertaV2Encoder(\n    (layer): ModuleList(\n      (0): DebertaV2Layer(\n        (attention): DebertaV2Attention(\n          (self): DisentangledSelfAttention(\n            (query_proj): Linear(in_features=768, out_features=768, bias=True)\n            (key_proj): Linear(in_features=768, out_features=768, bias=True)\n            (value_proj): Linear(in_features=768, out_features=768, bias=True)\n            (pos_dropout): StableDropout()\n            (dropout): StableDropout()\n          )\n          (output): DebertaV2SelfOutput(\n            (dense): Linear(in_features=768, out_features=768, bias=True)\n            (LayerNorm): LayerNorm((768,), eps=1e-07, elementwise_affine=True)\n            (dropout): StableDropout()\n          )\n        )\n        (intermediate): DebertaV2Intermediate(\n          (dense): Linear(in_features=768, out_features=3072, bias=True)\n          (intermediate_act_fn): GELUActivation()\n        )\n        (output): DebertaV2Output(\n          (dense): Linear(in_features=3072, out_features=768, bias=True)\n          (LayerNorm): LayerNorm((768,), eps=1e-07, elementwise_affine=True)\n          (dropout): StableDropout()\n        )\n      )\n      (1): DebertaV2Layer(\n        (attention): DebertaV2Attention(\n          (self): DisentangledSelfAttention(\n            (query_proj): Linear(in_features=768, out_features=768, bias=True)\n            (key_proj): Linear(in_features=768, out_features=768, bias=True)\n            (value_proj): Linear(in_features=768, out_features=768, bias=True)\n            (pos_dropout): StableDropout()\n            (dropout): StableDropout()\n          )\n          (output): DebertaV2SelfOutput(\n            (dense): Linear(in_features=768, out_features=768, bias=True)\n            (LayerNorm): LayerNorm((768,), eps=1e-07, elementwise_affine=True)\n            (dropout): StableDropout()\n          )\n        )\n        (intermediate): DebertaV2Intermediate(\n          (dense): Linear(in_features=768, out_features=3072, bias=True)\n          (intermediate_act_fn): GELUActivation()\n        )\n        (output): DebertaV2Output(\n          (dense): Linear(in_features=3072, out_features=768, bias=True)\n          (LayerNorm): LayerNorm((768,), eps=1e-07, elementwise_affine=True)\n          (dropout): StableDropout()\n        )\n      )\n      (2): DebertaV2Layer(\n        (attention): DebertaV2Attention(\n          (self): DisentangledSelfAttention(\n            (query_proj): Linear(in_features=768, out_features=768, bias=True)\n            (key_proj): Linear(in_features=768, out_features=768, bias=True)\n            (value_proj): Linear(in_features=768, out_features=768, bias=True)\n            (pos_dropout): StableDropout()\n            (dropout): StableDropout()\n          )\n          (output): DebertaV2SelfOutput(\n            (dense): Linear(in_features=768, out_features=768, bias=True)\n            (LayerNorm): LayerNorm((768,), eps=1e-07, elementwise_affine=True)\n            (dropout): StableDropout()\n          )\n        )\n        (intermediate): DebertaV2Intermediate(\n          (dense): Linear(in_features=768, out_features=3072, bias=True)\n          (intermediate_act_fn): GELUActivation()\n        )\n        (output): DebertaV2Output(\n          (dense): Linear(in_features=3072, out_features=768, bias=True)\n          (LayerNorm): LayerNorm((768,), eps=1e-07, elementwise_affine=True)\n          (dropout): StableDropout()\n        )\n      )\n      (3): DebertaV2Layer(\n        (attention): DebertaV2Attention(\n          (self): DisentangledSelfAttention(\n            (query_proj): Linear(in_features=768, out_features=768, bias=True)\n            (key_proj): Linear(in_features=768, out_features=768, bias=True)\n            (value_proj): Linear(in_features=768, out_features=768, bias=True)\n            (pos_dropout): StableDropout()\n            (dropout): StableDropout()\n          )\n          (output): DebertaV2SelfOutput(\n            (dense): Linear(in_features=768, out_features=768, bias=True)\n            (LayerNorm): LayerNorm((768,), eps=1e-07, elementwise_affine=True)\n            (dropout): StableDropout()\n          )\n        )\n        (intermediate): DebertaV2Intermediate(\n          (dense): Linear(in_features=768, out_features=3072, bias=True)\n          (intermediate_act_fn): GELUActivation()\n        )\n        (output): DebertaV2Output(\n          (dense): Linear(in_features=3072, out_features=768, bias=True)\n          (LayerNorm): LayerNorm((768,), eps=1e-07, elementwise_affine=True)\n          (dropout): StableDropout()\n        )\n      )\n      (4): DebertaV2Layer(\n        (attention): DebertaV2Attention(\n          (self): DisentangledSelfAttention(\n            (query_proj): Linear(in_features=768, out_features=768, bias=True)\n            (key_proj): Linear(in_features=768, out_features=768, bias=True)\n            (value_proj): Linear(in_features=768, out_features=768, bias=True)\n            (pos_dropout): StableDropout()\n            (dropout): StableDropout()\n          )\n          (output): DebertaV2SelfOutput(\n            (dense): Linear(in_features=768, out_features=768, bias=True)\n            (LayerNorm): LayerNorm((768,), eps=1e-07, elementwise_affine=True)\n            (dropout): StableDropout()\n          )\n        )\n        (intermediate): DebertaV2Intermediate(\n          (dense): Linear(in_features=768, out_features=3072, bias=True)\n          (intermediate_act_fn): GELUActivation()\n        )\n        (output): DebertaV2Output(\n          (dense): Linear(in_features=3072, out_features=768, bias=True)\n          (LayerNorm): LayerNorm((768,), eps=1e-07, elementwise_affine=True)\n          (dropout): StableDropout()\n        )\n      )\n      (5): DebertaV2Layer(\n        (attention): DebertaV2Attention(\n          (self): DisentangledSelfAttention(\n            (query_proj): Linear(in_features=768, out_features=768, bias=True)\n            (key_proj): Linear(in_features=768, out_features=768, bias=True)\n            (value_proj): Linear(in_features=768, out_features=768, bias=True)\n            (pos_dropout): StableDropout()\n            (dropout): StableDropout()\n          )\n          (output): DebertaV2SelfOutput(\n            (dense): Linear(in_features=768, out_features=768, bias=True)\n            (LayerNorm): LayerNorm((768,), eps=1e-07, elementwise_affine=True)\n            (dropout): StableDropout()\n          )\n        )\n        (intermediate): DebertaV2Intermediate(\n          (dense): Linear(in_features=768, out_features=3072, bias=True)\n          (intermediate_act_fn): GELUActivation()\n        )\n        (output): DebertaV2Output(\n          (dense): Linear(in_features=3072, out_features=768, bias=True)\n          (LayerNorm): LayerNorm((768,), eps=1e-07, elementwise_affine=True)\n          (dropout): StableDropout()\n        )\n      )\n      (6): DebertaV2Layer(\n        (attention): DebertaV2Attention(\n          (self): DisentangledSelfAttention(\n            (query_proj): Linear(in_features=768, out_features=768, bias=True)\n            (key_proj): Linear(in_features=768, out_features=768, bias=True)\n            (value_proj): Linear(in_features=768, out_features=768, bias=True)\n            (pos_dropout): StableDropout()\n            (dropout): StableDropout()\n          )\n          (output): DebertaV2SelfOutput(\n            (dense): Linear(in_features=768, out_features=768, bias=True)\n            (LayerNorm): LayerNorm((768,), eps=1e-07, elementwise_affine=True)\n            (dropout): StableDropout()\n          )\n        )\n        (intermediate): DebertaV2Intermediate(\n          (dense): Linear(in_features=768, out_features=3072, bias=True)\n          (intermediate_act_fn): GELUActivation()\n        )\n        (output): DebertaV2Output(\n          (dense): Linear(in_features=3072, out_features=768, bias=True)\n          (LayerNorm): LayerNorm((768,), eps=1e-07, elementwise_affine=True)\n          (dropout): StableDropout()\n        )\n      )\n      (7): DebertaV2Layer(\n        (attention): DebertaV2Attention(\n          (self): DisentangledSelfAttention(\n            (query_proj): Linear(in_features=768, out_features=768, bias=True)\n            (key_proj): Linear(in_features=768, out_features=768, bias=True)\n            (value_proj): Linear(in_features=768, out_features=768, bias=True)\n            (pos_dropout): StableDropout()\n            (dropout): StableDropout()\n          )\n          (output): DebertaV2SelfOutput(\n            (dense): Linear(in_features=768, out_features=768, bias=True)\n            (LayerNorm): LayerNorm((768,), eps=1e-07, elementwise_affine=True)\n            (dropout): StableDropout()\n          )\n        )\n        (intermediate): DebertaV2Intermediate(\n          (dense): Linear(in_features=768, out_features=3072, bias=True)\n          (intermediate_act_fn): GELUActivation()\n        )\n        (output): DebertaV2Output(\n          (dense): Linear(in_features=3072, out_features=768, bias=True)\n          (LayerNorm): LayerNorm((768,), eps=1e-07, elementwise_affine=True)\n          (dropout): StableDropout()\n        )\n      )\n      (8): DebertaV2Layer(\n        (attention): DebertaV2Attention(\n          (self): DisentangledSelfAttention(\n            (query_proj): Linear(in_features=768, out_features=768, bias=True)\n            (key_proj): Linear(in_features=768, out_features=768, bias=True)\n            (value_proj): Linear(in_features=768, out_features=768, bias=True)\n            (pos_dropout): StableDropout()\n            (dropout): StableDropout()\n          )\n          (output): DebertaV2SelfOutput(\n            (dense): Linear(in_features=768, out_features=768, bias=True)\n            (LayerNorm): LayerNorm((768,), eps=1e-07, elementwise_affine=True)\n            (dropout): StableDropout()\n          )\n        )\n        (intermediate): DebertaV2Intermediate(\n          (dense): Linear(in_features=768, out_features=3072, bias=True)\n          (intermediate_act_fn): GELUActivation()\n        )\n        (output): DebertaV2Output(\n          (dense): Linear(in_features=3072, out_features=768, bias=True)\n          (LayerNorm): LayerNorm((768,), eps=1e-07, elementwise_affine=True)\n          (dropout): StableDropout()\n        )\n      )\n      (9): DebertaV2Layer(\n        (attention): DebertaV2Attention(\n          (self): DisentangledSelfAttention(\n            (query_proj): Linear(in_features=768, out_features=768, bias=True)\n            (key_proj): Linear(in_features=768, out_features=768, bias=True)\n            (value_proj): Linear(in_features=768, out_features=768, bias=True)\n            (pos_dropout): StableDropout()\n            (dropout): StableDropout()\n          )\n          (output): DebertaV2SelfOutput(\n            (dense): Linear(in_features=768, out_features=768, bias=True)\n            (LayerNorm): LayerNorm((768,), eps=1e-07, elementwise_affine=True)\n            (dropout): StableDropout()\n          )\n        )\n        (intermediate): DebertaV2Intermediate(\n          (dense): Linear(in_features=768, out_features=3072, bias=True)\n          (intermediate_act_fn): GELUActivation()\n        )\n        (output): DebertaV2Output(\n          (dense): Linear(in_features=3072, out_features=768, bias=True)\n          (LayerNorm): LayerNorm((768,), eps=1e-07, elementwise_affine=True)\n          (dropout): StableDropout()\n        )\n      )\n      (10): DebertaV2Layer(\n        (attention): DebertaV2Attention(\n          (self): DisentangledSelfAttention(\n            (query_proj): Linear(in_features=768, out_features=768, bias=True)\n            (key_proj): Linear(in_features=768, out_features=768, bias=True)\n            (value_proj): Linear(in_features=768, out_features=768, bias=True)\n            (pos_dropout): StableDropout()\n            (dropout): StableDropout()\n          )\n          (output): DebertaV2SelfOutput(\n            (dense): Linear(in_features=768, out_features=768, bias=True)\n            (LayerNorm): LayerNorm((768,), eps=1e-07, elementwise_affine=True)\n            (dropout): StableDropout()\n          )\n        )\n        (intermediate): DebertaV2Intermediate(\n          (dense): Linear(in_features=768, out_features=3072, bias=True)\n          (intermediate_act_fn): GELUActivation()\n        )\n        (output): DebertaV2Output(\n          (dense): Linear(in_features=3072, out_features=768, bias=True)\n          (LayerNorm): LayerNorm((768,), eps=1e-07, elementwise_affine=True)\n          (dropout): StableDropout()\n        )\n      )\n      (11): DebertaV2Layer(\n        (attention): DebertaV2Attention(\n          (self): DisentangledSelfAttention(\n            (query_proj): Linear(in_features=768, out_features=768, bias=True)\n            (key_proj): Linear(in_features=768, out_features=768, bias=True)\n            (value_proj): Linear(in_features=768, out_features=768, bias=True)\n            (pos_dropout): StableDropout()\n            (dropout): StableDropout()\n          )\n          (output): DebertaV2SelfOutput(\n            (dense): Linear(in_features=768, out_features=768, bias=True)\n            (LayerNorm): LayerNorm((768,), eps=1e-07, elementwise_affine=True)\n            (dropout): StableDropout()\n          )\n        )\n        (intermediate): DebertaV2Intermediate(\n          (dense): Linear(in_features=768, out_features=3072, bias=True)\n          (intermediate_act_fn): GELUActivation()\n        )\n        (output): DebertaV2Output(\n          (dense): Linear(in_features=3072, out_features=768, bias=True)\n          (LayerNorm): LayerNorm((768,), eps=1e-07, elementwise_affine=True)\n          (dropout): StableDropout()\n        )\n      )\n    )\n    (rel_embeddings): Embedding(512, 768)\n    (LayerNorm): LayerNorm((768,), eps=1e-07, elementwise_affine=True)\n  )\n)"
     },
     "execution_count": 33,
     "metadata": {},
     "output_type": "execute_result"
    }
   ],
   "source": [
    "model = AutoModel.from_pretrained(\"microsoft/deberta-v3-base\")\n",
    "model"
   ],
   "metadata": {
    "collapsed": false,
    "pycharm": {
     "name": "#%%\n"
    }
   }
  },
  {
   "cell_type": "code",
   "execution_count": 34,
   "outputs": [
    {
     "name": "stdout",
     "output_type": "stream",
     "text": [
      "{'input_ids': tensor([[    1, 19574,   351,   293,   356,  1529,   274,   280,   407,   334,\n",
      "           260,     2]]), 'token_type_ids': tensor([[0, 0, 0, 0, 0, 0, 0, 0, 0, 0, 0, 0]]), 'attention_mask': tensor([[1, 1, 1, 1, 1, 1, 1, 1, 1, 1, 1, 1]])}\n",
      "dict_keys(['input_ids', 'token_type_ids', 'attention_mask'])\n",
      "Replace me by any text you'd like.\n"
     ]
    }
   ],
   "source": [
    "text = \"Replace me by any text you'd like.\"\n",
    "encoded_input = tokenizer(text, return_tensors='pt')\n",
    "print(encoded_input)\n",
    "print(encoded_input.keys())\n",
    "print(tokenizer.decode(encoded_input['input_ids'].tolist()[0]))"
   ],
   "metadata": {
    "collapsed": false,
    "pycharm": {
     "name": "#%%\n"
    }
   }
  },
  {
   "cell_type": "code",
   "execution_count": 37,
   "outputs": [
    {
     "name": "stdout",
     "output_type": "stream",
     "text": [
      "tensor([[[ 0.1316,  0.2103,  0.0847,  ..., -0.0413,  0.1524,  0.0332],\n",
      "         [ 0.2253, -0.3303,  0.0159,  ..., -1.0018, -0.4345, -0.1509],\n",
      "         [ 1.1123,  0.5899, -0.1260,  ..., -1.2558, -0.4807,  0.0534],\n",
      "         ...,\n",
      "         [-0.6335,  0.8787,  0.5693,  ..., -1.0320,  0.0452,  1.6530],\n",
      "         [ 0.5552,  0.2686,  0.0575,  ...,  0.4742, -0.6619, -0.2915],\n",
      "         [ 0.2180,  0.2560,  0.0393,  ..., -0.0518,  0.1922,  0.0427]]],\n",
      "       grad_fn=<NativeLayerNormBackward0>)\n"
     ]
    }
   ],
   "source": [
    "result = model(**encoded_input)\n",
    "print(result.last_hidden_state)"
   ],
   "metadata": {
    "collapsed": false,
    "pycharm": {
     "name": "#%%\n"
    }
   }
  },
  {
   "cell_type": "code",
   "execution_count": 38,
   "outputs": [
    {
     "data": {
      "text/plain": "torch.Size([1, 12, 768])"
     },
     "execution_count": 38,
     "metadata": {},
     "output_type": "execute_result"
    }
   ],
   "source": [
    "result.last_hidden_state.shape"
   ],
   "metadata": {
    "collapsed": false,
    "pycharm": {
     "name": "#%%\n"
    }
   }
  },
  {
   "cell_type": "code",
   "execution_count": null,
   "outputs": [],
   "source": [],
   "metadata": {
    "collapsed": false,
    "pycharm": {
     "name": "#%%\n"
    }
   }
  }
 ],
 "metadata": {
  "kernelspec": {
   "display_name": "Python 3",
   "language": "python",
   "name": "python3"
  },
  "language_info": {
   "codemirror_mode": {
    "name": "ipython",
    "version": 2
   },
   "file_extension": ".py",
   "mimetype": "text/x-python",
   "name": "python",
   "nbconvert_exporter": "python",
   "pygments_lexer": "ipython2",
   "version": "2.7.6"
  }
 },
 "nbformat": 4,
 "nbformat_minor": 0
}