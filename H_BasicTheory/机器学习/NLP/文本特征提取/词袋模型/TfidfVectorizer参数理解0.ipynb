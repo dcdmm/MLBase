{
 "cells": [
  {
   "cell_type": "code",
   "execution_count": 1,
   "metadata": {
    "collapsed": true
   },
   "outputs": [],
   "source": [
    "from sklearn.feature_extraction.text import TfidfVectorizer"
   ]
  },
  {
   "cell_type": "code",
   "execution_count": 5,
   "metadata": {
    "pycharm": {
     "name": "#%%\n"
    }
   },
   "outputs": [
    {
     "name": "stdout",
     "output_type": "stream",
     "text": [
      "a ['Age has reached the end of the beginning of a word.\\n', 'May be guilty in his seems to passing a lot of different life became the appearance of the same day;\\n', 'May be back in the past, to oneself the paranoid weird belief disillusionment, these days, my mind has been very messy, in my mind constantly.\\n', 'Always feel oneself should go to do something, or write something. Twenty years of life trajectory deeply shallow, suddenly feel something, do it.\\n', 'During my childhood, think lucky money and new clothes are necessary for New Year, but as the advance of the age, will be more and more found that those things are optional;\\n', \"Junior high school, thought to have a crush on just means that the real growth, but over the past three years later, his writing of alumni in peace, suddenly found that isn't really grow up, it seems is not so important;\\n\", \"Then in high school, think don't want to give vent to out your inner voice can be in the high school children of the feelings in a period, but was eventually infarction when graduation party in the throat, later again stood on the pitch he has sweat profusely, looked at his thrown a basketball hoops, suddenly found himself has already can't remember his appearance.\\n\", \"A person's time, your ideas are always special to clear. Want, want, line is clear, as if nothing could shake his.\\n\", 'Also once seemed to be determined to do something, but more often is he backed out at last. Dislike his cowardice, finally found that there are a lot of love, there are a lot of miss, like shadow really have been doomed.\\n', 'Those who do, just green years oneself give oneself an arm injection, or is a self-righteous spiritual.\\n', 'At the moment, the sky is dark, the air is fresh factor after just rained. Suddenly thought of blue plaid shirt;\\n', 'Those were broken into various shapes of stationery;\\n', 'From the corner at the beginning of deep friendship;\\n', \"Have declared the end of the encounter that haven't start planning... Those years, those days of do, finally, like youth, will end in our life.\"]\n"
     ]
    }
   ],
   "source": [
    "def my_preprecessos(document):\n",
    "    \"\"\"自定义的CountVectorizer的预处理函数\"\"\"\n",
    "    document = document.lower()\n",
    "    document = document.replace('and', \"\")\n",
    "    document = document.replace('at', \"\")\n",
    "    document = document.replace('has', \"\")\n",
    "    document = document.replace('of', \"\")\n",
    "    document = document.replace('be', \"\")\n",
    "    return document\n",
    "\n",
    "stop_word = ['as', 'at', 'was', 'were', 'when', 'to', 'on', 'of', 'has', 'in', 'an']\n",
    "\n",
    "with open('data.txt', 'r', encoding='utf-8') as f:\n",
    "    a = f.readlines()\n",
    "    print('a', a)\n",
    "\n",
    "# 以下参数含义与CountVectorizer参数含义相同\n",
    "vectorizer = TfidfVectorizer(ngram_range=(1, 1),\n",
    "                             max_df=0.7,\n",
    "                             min_df=0.2,\n",
    "                             max_features=10,\n",
    "                             stop_words=stop_word,\n",
    "                             preprocessor=my_preprecessos)\n",
    "X = vectorizer.fit_transform(a)"
   ]
  },
  {
   "cell_type": "code",
   "execution_count": 3,
   "metadata": {
    "pycharm": {
     "name": "#%%\n"
    }
   },
   "outputs": [
    {
     "data": {
      "text/plain": [
       "['are', 'but', 'do', 'found', 'his', 'is', 'oneself', 'th', 'the', 'those']"
      ]
     },
     "execution_count": 3,
     "metadata": {},
     "output_type": "execute_result"
    }
   ],
   "source": [
    "vectorizer.get_feature_names()"
   ]
  },
  {
   "cell_type": "code",
   "execution_count": 4,
   "metadata": {
    "pycharm": {
     "name": "#%%\n"
    }
   },
   "outputs": [
    {
     "data": {
      "text/plain": [
       "{'the': 8,\n",
       " 'his': 4,\n",
       " 'oneself': 6,\n",
       " 'do': 2,\n",
       " 'are': 0,\n",
       " 'but': 1,\n",
       " 'found': 3,\n",
       " 'th': 7,\n",
       " 'those': 9,\n",
       " 'is': 5}"
      ]
     },
     "execution_count": 4,
     "metadata": {},
     "output_type": "execute_result"
    }
   ],
   "source": [
    "vectorizer.vocabulary_"
   ]
  },
  {
   "cell_type": "code",
   "execution_count": 4,
   "metadata": {
    "pycharm": {
     "name": "#%%\n"
    }
   },
   "outputs": [],
   "source": [
    "\n"
   ]
  }
 ],
 "metadata": {
  "kernelspec": {
   "display_name": "Python 3.8.12 ('pytorch_env')",
   "language": "python",
   "name": "python3"
  },
  "language_info": {
   "codemirror_mode": {
    "name": "ipython",
    "version": 3
   },
   "file_extension": ".py",
   "mimetype": "text/x-python",
   "name": "python",
   "nbconvert_exporter": "python",
   "pygments_lexer": "ipython3",
   "version": "3.8.12"
  },
  "toc": {
   "base_numbering": 1,
   "nav_menu": {},
   "number_sections": true,
   "sideBar": true,
   "skip_h1_title": false,
   "title_cell": "Table of Contents",
   "title_sidebar": "Contents",
   "toc_cell": false,
   "toc_position": {},
   "toc_section_display": true,
   "toc_window_display": false
  },
  "vscode": {
   "interpreter": {
    "hash": "0886a02735466d80c36da7d0d184a8055779d3e497a063b4720b0317b8699033"
   }
  }
 },
 "nbformat": 4,
 "nbformat_minor": 1
}
