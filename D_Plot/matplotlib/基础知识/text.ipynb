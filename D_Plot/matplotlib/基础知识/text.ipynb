{
 "cells": [
  {
   "cell_type": "markdown",
   "metadata": {
    "collapsed": true,
    "pycharm": {
     "name": "#%% md\n"
    }
   },
   "source": [
    "## text.Text\n",
    "\n",
    "可设置Text properties的方法有:\n",
    "* set_title\n",
    "* set_xlabel/set_ylabel\n",
    "* set_subtitle\n",
    "* set_xticklabels\n",
    "* text\n",
    "* annotate\n",
    "* table.get_celld()的每个小cell"
   ]
  },
  {
   "cell_type": "code",
   "execution_count": 48,
   "outputs": [
    {
     "data": {
      "text/plain": "<Figure size 432x288 with 1 Axes>",
      "image/png": "[encoded data removed]"
     },
     "metadata": {
      "needs_background": "light"
     },
     "output_type": "display_data"
    }
   ],
   "source": [
    "%matplotlib inline\n",
    "import numpy as np\n",
    "import matplotlib.pyplot as plt\n",
    "import matplotlib\n",
    "\n",
    "# 设置中文字体和负号正常显示\n",
    "matplotlib.rcParams['font.sans-serif'] = ['SimHei']\n",
    "matplotlib.rcParams['axes.unicode_minus'] = False\n",
    "\n",
    "fig = plt.figure()\n",
    "ax1 = plt.subplot(111)\n",
    "t = np.arange(0.0, 1.0 + 0.01, 0.01)\n",
    "s = np.cos(2 * 2 * np.pi * t)\n",
    "ax1.plot(t, s, '-', lw=2)\n",
    "title = ax1.set_title('sin(x)')\n",
    "\n",
    "# Set the foreground color of the text\n",
    "title.set_color('red')\n",
    "\n",
    "'''\n",
    "Set the font size.\n",
    "fontsizefloat or {'xx-small', 'x-small', 'small', 'medium', 'large', 'x-large', 'xx-large'}\n",
    "    If float, the fontsize in points. The string values denote sizes relative to the default font size.'''\n",
    "title.set_fontsize(20)\n",
    "\n",
    "# 设置文字透明度\n",
    "title.set_alpha(0.9)\n",
    "\n",
    "'''\n",
    "Set the font family\n",
    "font.serif:      DejaVu Serif, Bitstream Vera Serif, Computer Modern Roman, New Century Schoolbook, Century Schoolbook L, Utopia, ITC Bookman, Bookman, Nimbus Roman No9 L, Times New Roman, Times, Palatino, Charter, serif\n",
    "font.sans-serif: DejaVu Sans, Bitstream Vera Sans, Computer Modern Sans Serif, Lucida Grande, Verdana, Geneva, Lucid, Arial, Helvetica, Avant Garde, sans-serif\n",
    "font.cursive:    Apple Chancery, Textile, Zapf Chancery, Sand, Script MT, Felipa, Comic Neue, Comic Sans MS, cursive\n",
    "font.fantasy:    Chicago, Charcoal, Impact, Western, Humor Sans, xkcd, fantasy\n",
    "font.monospace:  DejaVu Sans Mono, Bitstream Vera Sans Mono, Computer Modern Typewriter, Andale Mono, Nimbus Mono L, Courier New, Courier, Fixed, Terminal, monospace\n",
    "'''\n",
    "title.set_fontfamily('Impact')\n",
    "\n",
    "'''\n",
    "Set the rotation of the text.\n",
    "s:float or {'vertical', 'horizontal'}\n",
    "    The rotation angle in degrees in mathematically positive direction (counterclockwise). 'horizontal' equals 0, 'vertical' equals 90.\n",
    "'''\n",
    "title.set_rotation(20)\n",
    "\n",
    "'''\n",
    "Set text rotation mode.\n",
    "m:{None, 'default', 'anchor'}\n",
    "    If None or \"default\", the text will be first rotated, then aligned according to their horizontal and vertical alignments. If \"anchor\", then alignment occurs before rotation.\n",
    "'''\n",
    "title.set_rotation_mode('anchor')  # None:先进行选择再进行对齐;anchor:先对齐再进行选择\n",
    "\n",
    "\"\"\"\n",
    "Set the horizontal alignment to one of\n",
    "    align:{'center', 'right', 'left'}\n",
    "\"\"\"\n",
    "title.set_ha('center')  # 水平对其方式\n",
    "\n",
    "'''\n",
    "Set the vertical alignment.\n",
    "    align:{'center', 'top', 'bottom', 'baseline', 'center_baseline'}\n",
    "'''\n",
    "title.set_va('top')  # 垂直对齐方式"
   ],
   "metadata": {
    "collapsed": false,
    "pycharm": {
     "name": "#%%\n"
    }
   }
  },
  {
   "cell_type": "code",
   "execution_count": 18,
   "outputs": [
    {
     "name": "stdout",
     "output_type": "stream",
     "text": [
      "<class 'matplotlib.text.Text'>\n"
     ]
    }
   ],
   "source": [
    "print(type(title))  # text.Text对象"
   ],
   "metadata": {
    "collapsed": false,
    "pycharm": {
     "name": "#%%\n"
    }
   }
  },
  {
   "cell_type": "code",
   "execution_count": null,
   "outputs": [],
   "source": [],
   "metadata": {
    "collapsed": false,
    "pycharm": {
     "name": "#%%\n"
    }
   }
  }
 ],
 "metadata": {
  "kernelspec": {
   "display_name": "Python 3",
   "language": "python",
   "name": "python3"
  },
  "language_info": {
   "codemirror_mode": {
    "name": "ipython",
    "version": 2
   },
   "file_extension": ".py",
   "mimetype": "text/x-python",
   "name": "python",
   "nbconvert_exporter": "python",
   "pygments_lexer": "ipython2",
   "version": "2.7.6"
  }
 },
 "nbformat": 4,
 "nbformat_minor": 0
}