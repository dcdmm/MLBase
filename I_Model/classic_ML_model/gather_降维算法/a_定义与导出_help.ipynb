{
 "cells": [
  {
   "cell_type": "markdown",
   "metadata": {
    "pycharm": {
     "name": "#%% md\n"
    }
   },
   "source": [
    "&emsp;&emsp;假设$X=( X_1, X_2, \\cdots,X_m )^T$是$m$维随机变量向量,其均值向量是$\\boldsymbol{\\mu}$\n",
    "\n",
    "$$ \\boldsymbol{\\mu} = E(X) = (\\mu_1, \\mu_2,\\cdots,\\mu_m)^T $$\n",
    "\n",
    "协方差矩阵是$\\Sigma$\n",
    "\n",
    "$$ \\Sigma = cov(X, X) = E[(X - \\boldsymbol{\\mu})(X - \\boldsymbol{\\mu})^T] $$\n",
    "\n",
    "&emsp;&emsp;考虑由$m$维随机向量$X$到$m$维随机向量$Y$的线性变换\n",
    "\n",
    "$$ Y_i = \\boldsymbol{\\alpha}_i^T X = \\alpha_{1i} X_1 +  \\alpha_{2i} X_2 + \\cdots + \\alpha_{mi} X_m \\tag{1} $$\n",
    "\n",
    "其中$  \\boldsymbol{\\alpha}_i^T = (\\alpha_{1i},\\alpha_{2i},\\cdots,\\alpha_{mi}), i=1,2,\\cdots,m$\n",
    "\n",
    "&emsp;&emsp;由随机变量的性质可知,\n",
    "\n",
    "$$\n",
    "\\begin{aligned}\n",
    "& E(Y_i) = \\boldsymbol{\\alpha}_i^T \\boldsymbol{\\mu} \\quad i=1,2,\\cdots,m\\\\\n",
    "& \\mathrm{var}(Y_i) = \\boldsymbol{\\alpha}_i^T \\Sigma \\boldsymbol{\\alpha}, \\quad i=1,2,\\cdots,m\\\\\n",
    "& cov(Y_i, Y_j) = \\boldsymbol{\\alpha}_i^T \\Sigma \\boldsymbol{\\alpha}_j, \\quad i=1,2,\\cdots,m  \\quad j=1,2,\\cdots,m\n",
    "\\end{aligned}\n",
    "$$\n",
    "\n",
    "\n",
    "<font color='red' size=4>定义:总体主成分</font>给定一个如式(1)所示的线性变换,如果它们满足下列条件:\n",
    "\n",
    "1. 系数向量$ \\boldsymbol{\\alpha}_i^T $是单位向量,即$ \\alpha_i^T \\alpha_i, \\quad i=1,2,\\cdots,m $\n",
    "\n",
    "2. 变量$Y_i$与$Y_j$互不相关,即$cov(Y_i, Y_j) = 0 (i \\neq j)$\n",
    "\n",
    "3. 变量$Y_1$是$X$的所有线性变换中方差最大的;$Y_2$是与$Y_1$不相关的$X$的所有线性变换中方差最大的;一般地,$Y_i$是与$Y_1,Y_2, \\cdots,Y_{i-1}(i=1,2,\\cdots,m)$都不相关的$X$的所有线性变换中方差最大的;这时分别称$Y_1,Y_2,\\cdots,Y_m$为$X$的第一主成分,第二主成分,$\\cdots,$第$m$主成分.\n",
    "\n",
    "定义中的条件(1)(2)表明线性变换是正交变换,$\\alpha_1, \\alpha_2, \\cdots,\\alpha_m$是一组标准正交基,\n",
    "\n",
    "$$\n",
    "\\alpha_i^T \\alpha_j=\\begin{cases}\n",
    "\t\t1, & \\text{if} \\quad  i =j\\\\\n",
    "        0, & \\text{if} \\quad i \\neq j\n",
    "     \\end{cases}\n",
    "$$\n",
    "\n",
    "条件(2)(3)给出了一个求主成分的方法:第一步,在$X$的所有线性变换\n",
    "\n",
    "$$ \\boldsymbol{\\alpha}_1^T X  = \\sum_{i=1}^m \\alpha_{i1} X_i $$\n",
    "\n",
    "中,在$\\boldsymbol{\\alpha}_1^T \\boldsymbol{\\alpha}_1$条件下,求方差最大的,得到$X$的第一主成分;第二步,在与$ \\boldsymbol{\\alpha}_1^T X  $不先关的$X$的所有线性变换\n",
    "\n",
    "$$ \\boldsymbol{\\alpha}_2^T X  = \\sum_{i=1}^m \\alpha_{i2} X_i $$\n",
    "\n",
    "中,在$\\boldsymbol{\\alpha}_2^T \\boldsymbol{\\alpha}_2$条件下,求方差最大的,得到$X$的第二主成分;第$k$步,在与$\\boldsymbol{\\alpha}_1^T X,\\boldsymbol{\\alpha}_2^T X,\\cdots,\\boldsymbol{\\alpha}_{k-1}^T X$不相关的$X$的所有线性变换\n",
    "\n",
    "$$ \\boldsymbol{\\alpha}_k^T X  = \\sum_{i=1}^m \\alpha_{ik} X_i $$\n",
    "\n",
    "中,在$\\boldsymbol{\\alpha}_k^T \\boldsymbol{\\alpha}_k$条件下,求方差最大的,得到$X$的第$k$主成分;如下继续下去,直到得到$X$的第$m$主成分.\n",
    "\n"
   ]
  },
  {
   "cell_type": "code",
   "execution_count": null,
   "metadata": {},
   "outputs": [],
   "source": []
  }
 ],
 "metadata": {
  "kernelspec": {
   "display_name": "Python 3 (ipykernel)",
   "language": "python",
   "name": "python3"
  },
  "language_info": {
   "codemirror_mode": {
    "name": "ipython",
    "version": 3
   },
   "file_extension": ".py",
   "mimetype": "text/x-python",
   "name": "python",
   "nbconvert_exporter": "python",
   "pygments_lexer": "ipython3",
   "version": "3.8.12"
  },
  "toc": {
   "base_numbering": 1,
   "nav_menu": {},
   "number_sections": true,
   "sideBar": true,
   "skip_h1_title": false,
   "title_cell": "Table of Contents",
   "title_sidebar": "Contents",
   "toc_cell": false,
   "toc_position": {},
   "toc_section_display": true,
   "toc_window_display": false
  }
 },
 "nbformat": 4,
 "nbformat_minor": 4
}
