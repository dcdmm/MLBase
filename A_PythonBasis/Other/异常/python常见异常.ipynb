{
 "cells": [
  {
   "cell_type": "markdown",
   "metadata": {
    "pycharm": {
     "name": "#%% md\n"
    }
   },
   "source": [
    "## 标准异常\n",
    "<font size=4 color='red'>Python标准异常总结:</font>  \n",
    "\n",
    "|   异常    |  异常含义 |  \n",
    "| :---: | :---: |  \n",
    "|AssertionError|             断言语句（assert）失败|\n",
    "|AttributeError\t|             尝试访问未知的对象属性|\n",
    "|EOFError\t   |              用户输入文件末尾标志EOF（Ctrl+d）|\n",
    "|FloatingPointError\t|         浮点计算错误|\n",
    "|GeneratorExit\t     |        generator.close()方法被调用的时候|\n",
    "|ImportError\t     |            导入模块失败的时候|\n",
    "|IndexError\t         |        索引超出序列的范围|\n",
    "|KeyError\t         |        字典中查找一个不存在的关键字|\n",
    "|KeyboardInterrupt\t |        用户输入中断键(Ctrl+c) |\n",
    "|MemoryError\t     |            内存溢出(可通过删除对象释放内存)|\n",
    "|NameError\t        |         尝试访问一个不存在的变量|\n",
    "|NotImplementedError|\t         尚未实现的方法|\n",
    "|OSError             |         操作系统产生的异常（例如打开一个不存在的文件）|\n",
    "|OverflowError\t     |        数值运算超出最大限制|\n",
    "|ReferenceError\t     |        弱引用(weak reference)试图访问一个已经被垃圾回收机制回收了的对象|\n",
    "|RuntimeError\t    |         一般的运行时错误|\n",
    "|StopIteration\t    |         迭代器没有更多的\n",
    "|SyntaxError        |          Python的语法错误|\n",
    "|IndentationError\t|         缩进错误|\n",
    "|TabError\t        |         Tab和空格混合使用|\n",
    "|SystemError\t    |             Python编译器系统错误|\n",
    "|SystemExit\t        |         Python编译器进程被关闭|\n",
    "|TypeError\t        |         不同类型间的无效操作|\n",
    "|UnboundLocalError\t|         访问一个未初始化的本地变量(NameError的子类)|\n",
    "|UnicodeError\t    |         Unicode相关的错误(ValueError的子类)|\n",
    "|UnicodeEncodeError\t|         Unicode编码时的错误(UnicodeError的子类)|\n",
    "|UnicodeDecodeError\t|         Unicode解码时的错误(UnicodeError的子类)|\n",
    "|UnicodeTranslateError|\t     Unicode转换时的错误(UnicodeError的子类)|\n",
    "|ValueError\t         |        传入无效的参数|\n",
    "|ZeroDivisionError\t |        除数为零|   \n",
    "\n",
    "\n",
    "</br>\n",
    "</br>\n",
    "<font size=4 color='red'>以下是 Python 内置异常类的层次结构:</font>\n",
    "\n",
    "```markdown\n",
    "BaseException\n",
    "+-- SystemExit\n",
    "+-- KeyboardInterrupt\n",
    "+-- GeneratorExit\n",
    "+-- Exception\n",
    "      +-- StopIteration\n",
    "      +-- ArithmeticError\n",
    "      |    +-- FloatingPointError\n",
    "      |    +-- OverflowError\n",
    "      |    +-- ZeroDivisionError\n",
    "      +-- AssertionError\n",
    "      +-- AttributeError\n",
    "      +-- BufferError\n",
    "      +-- EOFError\n",
    "      +-- ImportError\n",
    "      +-- LookupError\n",
    "      |    +-- IndexError\n",
    "      |    +-- KeyError\n",
    "      +-- MemoryError\n",
    "      +-- NameError\n",
    "      |    +-- UnboundLocalError\n",
    "      +-- OSError\n",
    "      |    +-- BlockingIOError\n",
    "      |    +-- ChildProcessError\n",
    "      |    +-- ConnectionError\n",
    "      |    |    +-- BrokenPipeError\n",
    "      |    |    +-- ConnectionAbortedError\n",
    "      |    |    +-- ConnectionRefusedError\n",
    "      |    |    +-- ConnectionResetError\n",
    "      |    +-- FileExistsError\n",
    "      |    +-- FileNotFoundError\n",
    "      |    +-- InterruptedError\n",
    "      |    +-- IsADirectoryError\n",
    "      |    +-- NotADirectoryError\n",
    "      |    +-- PermissionError\n",
    "      |    +-- ProcessLookupError\n",
    "      |    +-- TimeoutError\n",
    "      +-- ReferenceError\n",
    "      +-- RuntimeError\n",
    "      |    +-- NotImplementedError\n",
    "      +-- SyntaxError\n",
    "      |    +-- IndentationError\n",
    "      |         +-- TabError\n",
    "      +-- SystemError\n",
    "      +-- TypeError\n",
    "      +-- ValueError\n",
    "      |    +-- UnicodeError\n",
    "      |         +-- UnicodeDecodeError\n",
    "      |         +-- UnicodeEncodeError\n",
    "      |         +-- UnicodeTranslateError\n",
    "      +-- Warning\n",
    "           +-- DeprecationWarning\n",
    "           +-- PendingDeprecationWarning\n",
    "           +-- RuntimeWarning\n",
    "           +-- SyntaxWarning\n",
    "           +-- UserWarning\n",
    "           +-- FutureWarning\n",
    "           +-- ImportWarning\n",
    "           +-- UnicodeWarning\n",
    "           +-- BytesWarning\n",
    "           +-- ResourceWarning\n",
    "```"
   ]
  },
  {
   "cell_type": "code",
   "execution_count": 1,
   "metadata": {
    "pycharm": {
     "is_executing": false
    }
   },
   "outputs": [
    {
     "ename": "AssertionError",
     "evalue": "",
     "output_type": "error",
     "traceback": [
      "\u001b[1;31m---------------------------------------------------------------------------\u001b[0m",
      "\u001b[1;31mAssertionError\u001b[0m                            Traceback (most recent call last)",
      "\u001b[1;32m<ipython-input-1-1e9431bc2c04>\u001b[0m in \u001b[0;36m<module>\u001b[1;34m\u001b[0m\n\u001b[0;32m      3\u001b[0m \u001b[0m时候就很好用\u001b[0m\u001b[1;33m,\u001b[0m\u001b[0m因为与其让错误的条件导致程序今后莫名其妙地崩溃\u001b[0m\u001b[1;33m,\u001b[0m\u001b[0m不如在错误条件出现的一瞬间实现自我毁灭\u001b[0m\u001b[1;33m\u001b[0m\u001b[1;33m\u001b[0m\u001b[0m\n\u001b[0;32m      4\u001b[0m '''\n\u001b[1;32m----> 5\u001b[1;33m \u001b[1;32massert\u001b[0m \u001b[1;36m3\u001b[0m \u001b[1;33m>\u001b[0m \u001b[1;36m4\u001b[0m\u001b[1;33m\u001b[0m\u001b[1;33m\u001b[0m\u001b[0m\n\u001b[0m",
      "\u001b[1;31mAssertionError\u001b[0m: "
     ]
    }
   ],
   "source": [
    "'''\n",
    "assert(断言)后面的条件为假的时候,程序自动崩溃并抛出AssertionError的异常当我们在测试程序的时\n",
    "候就很好用,因为与其让错误的条件导致程序今后莫名其妙地崩溃,不如在错误条件出现的一瞬间实现自我毁灭\n",
    "'''\n",
    "assert 3 > 4"
   ]
  },
  {
   "cell_type": "code",
   "execution_count": null,
   "metadata": {
    "pycharm": {
     "metadata": false,
     "name": "#%%\n"
    }
   },
   "outputs": [],
   "source": [
    "\n"
   ]
  }
 ],
 "metadata": {
  "kernelspec": {
   "display_name": "Python 3",
   "language": "python",
   "name": "python3"
  },
  "language_info": {
   "codemirror_mode": {
    "name": "ipython",
    "version": 3
   },
   "file_extension": ".py",
   "mimetype": "text/x-python",
   "name": "python",
   "nbconvert_exporter": "python",
   "pygments_lexer": "ipython3",
   "version": "3.7.4"
  },
  "pycharm": {
   "stem_cell": {
    "cell_type": "raw",
    "metadata": {
     "collapsed": false
    },
    "source": []
   }
  },
  "toc": {
   "base_numbering": 1,
   "nav_menu": {},
   "number_sections": true,
   "sideBar": true,
   "skip_h1_title": false,
   "title_cell": "Table of Contents",
   "title_sidebar": "Contents",
   "toc_cell": false,
   "toc_position": {},
   "toc_section_display": true,
   "toc_window_display": false
  }
 },
 "nbformat": 4,
 "nbformat_minor": 1
}
