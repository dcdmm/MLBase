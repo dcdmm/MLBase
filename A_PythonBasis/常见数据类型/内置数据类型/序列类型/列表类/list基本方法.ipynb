{
 "cells": [
  {
   "cell_type": "code",
   "execution_count": 1,
   "metadata": {
    "pycharm": {
     "name": "#%%\n"
    }
   },
   "outputs": [
    {
     "name": "stdout",
     "output_type": "stream",
     "text": [
      "[1, 2, 3, 4, 5, 6]\n",
      "3108785441536\n",
      "3108785441536\n",
      "[1, 2, 3, 4, 5, 6, [7, 8]]\n"
     ]
    }
   ],
   "source": [
    "'''\n",
    "|  append(...)\n",
    "|      L.append(object) -> None -- append object to end\n",
    "'''\n",
    "list_append = [1, 2, 3, 4, 5]\n",
    "list_append.append(6)\n",
    "print(list_append)\n",
    "\n",
    "want_append = [7, 8]\n",
    "print(id(want_append))\n",
    "\n",
    "list_append.append(want_append)  # [7, 8]被当作一个元素\n",
    "\n",
    "print(id(list_append[-1]))  # 指向同一内存地址(复制的是want_apend的引用到末尾)\n",
    "print(list_append)"
   ]
  },
  {
   "cell_type": "code",
   "execution_count": 2,
   "metadata": {},
   "outputs": [
    {
     "name": "stdout",
     "output_type": "stream",
     "text": [
      "3108785443904\n",
      "3108785443904\n",
      "[1, 2, 3, 4, 5, 6, 7, [-1, -1]]\n",
      "[1, 2, 3, 4, 5, 6, 7, [-1, -1], 8, 9]\n",
      "[1, 2, 3, 4, 5, 6, 7, [-1, -1], 8, 9, 'd', 'u', 'a', 'n']\n"
     ]
    }
   ],
   "source": [
    "'''\n",
    "|  extend(...)\n",
    "|      L.extend(iterable) -> None -- extend list by appending elements from the iterable\n",
    "'''\n",
    "list_extend = [1, 2, 3, 4, 5]\n",
    "\n",
    "want_extend = [6, 7, [-1, -1]]\n",
    "print(id(want_extend[-1]))\n",
    "\n",
    "list_extend.extend(want_extend)  # 参数为可迭代对象\n",
    "\n",
    "print(id(list_extend[-1]))  # 指向同一内存地址(复制的是want_extend元素的引用)\n",
    "print(list_extend)\n",
    "\n",
    "list_extend.extend((8, 9 ))\n",
    "print(list_extend)\n",
    "\n",
    "list_extend.extend('duan')  # 'duan'的元素是'd','u','a','a'\n",
    "print(list_extend)"
   ]
  },
  {
   "cell_type": "code",
   "execution_count": 3,
   "metadata": {},
   "outputs": [
    {
     "name": "stdout",
     "output_type": "stream",
     "text": [
      "[1, 2, 3, 4, 5, 0]\n"
     ]
    }
   ],
   "source": [
    "'''\n",
    "|  insert(...)\n",
    "|      L.insert(index, object) -- insert object before index\n",
    "'''\n",
    "list_insert = [1, 2, 3, 4, 5]\n",
    "list_insert.insert(5, 0)\n",
    "print(list_insert)"
   ]
  },
  {
   "cell_type": "code",
   "execution_count": 4,
   "metadata": {},
   "outputs": [
    {
     "data": {
      "text/plain": "[5, 6, 3, 2, 1]"
     },
     "execution_count": 4,
     "metadata": {},
     "output_type": "execute_result"
    }
   ],
   "source": [
    "'''\n",
    "|  reverse(...)\n",
    "|      L.reverse() -- reverse *IN PLACE*\n",
    "'''\n",
    "list_reverse = [1, 2, 3, 6, 5]\n",
    "list_reverse.reverse()\n",
    "list_reverse  # 本身发生改变"
   ]
  },
  {
   "cell_type": "code",
   "execution_count": 5,
   "metadata": {},
   "outputs": [
    {
     "data": {
      "text/plain": "[]"
     },
     "execution_count": 5,
     "metadata": {},
     "output_type": "execute_result"
    }
   ],
   "source": [
    "'''\n",
    "|  clear(...)\n",
    "|      L.clear() -> None -- remove all items from L\n",
    "'''\n",
    "list_clear = [1, 2, 3, 4, 5]\n",
    "list_clear.clear()\n",
    "list_clear  # 此时list_clear为空列表"
   ]
  },
  {
   "cell_type": "code",
   "execution_count": 6,
   "metadata": {},
   "outputs": [
    {
     "data": {
      "text/plain": "[1, 2, 4, 5]"
     },
     "execution_count": 6,
     "metadata": {},
     "output_type": "execute_result"
    }
   ],
   "source": [
    "'''\n",
    "|  remove(...)\n",
    "|      L.remove(value) -> None -- remove first occurrence of value.\n",
    "|      Raises ValueError if the value is not present.\n",
    "'''\n",
    "list_remove = [1, 2, 3, 4, 5]\n",
    "list_remove.remove(3)\n",
    "list_remove"
   ]
  },
  {
   "cell_type": "code",
   "execution_count": 7,
   "metadata": {},
   "outputs": [
    {
     "name": "stdout",
     "output_type": "stream",
     "text": [
      "everyday\n",
      "duanmengmeng\n",
      "the\n",
      "['promise', 'i', 'love', 'duanchao']\n"
     ]
    }
   ],
   "source": [
    "'''\n",
    "|  pop(...)\n",
    "|      L.pop([index]) -> item -- remove and return item at index (default last).\n",
    "|      Raises IndexError if list is empty or index is out of range.\n",
    "'''\n",
    "promise = ['the', 'promise', \"i\", \"love\", \"duanchao\", 'duanmengmeng', \"everyday\"]\n",
    "print(promise.pop())   # 弹出的为:everyday,默认弹出列表最后一个元素\n",
    "print(promise.pop())   # 弹出的为duanmengmeng\n",
    "print(promise.pop(0))  # 弹出的为the\n",
    "print(promise)         # 原列表弹出了3个元素"
   ]
  },
  {
   "cell_type": "code",
   "execution_count": 8,
   "metadata": {},
   "outputs": [
    {
     "name": "stdout",
     "output_type": "stream",
     "text": [
      "[542, 525, 432, 53, 23, 3]\n"
     ]
    }
   ],
   "source": [
    "'''\n",
    "sort(...)\n",
    " |      L.sort(key=None, reverse=False) -> None -- stable sort *IN PLACE*\n",
    "'''\n",
    "list_sort = [3, 432, 23, 53, 542, 525]\n",
    "list_sort.sort(key=None, reverse=True)  # 若reverse=True,则为降序排列\n",
    "print(list_sort)  # 本身发生改变"
   ]
  },
  {
   "cell_type": "code",
   "execution_count": 9,
   "metadata": {
    "pycharm": {
     "name": "#%%\n"
    }
   },
   "outputs": [
    {
     "data": {
      "text/plain": "[[2, 3], [4, 7], [5, 4], [7, 2], [8, 1], [9, 6]]"
     },
     "execution_count": 9,
     "metadata": {},
     "output_type": "execute_result"
    }
   ],
   "source": [
    "data = [[2, 3], [5, 4], [9, 6],\n",
    "        [4, 7], [8, 1], [7, 2]]  # [2, 3],[5, 4], [9, 6]....被视为一个元素\n",
    "data.sort()  # 对列表的第一列排序(默认),元素不变([2, 3]排序后仍为[2, 3])\n",
    "data"
   ]
  },
  {
   "cell_type": "code",
   "execution_count": 10,
   "metadata": {
    "pycharm": {
     "name": "#%%\n"
    }
   },
   "outputs": [
    {
     "data": {
      "text/plain": "[[8, 1], [7, 2], [2, 3], [5, 4], [9, 6], [4, 7]]"
     },
     "execution_count": 10,
     "metadata": {},
     "output_type": "execute_result"
    }
   ],
   "source": [
    "data = [[2, 3], [5, 4], [9, 6], [4, 7], [8, 1], [7, 2]]\n",
    "data.sort(key=lambda x : x[1])  # 对列表的第二列排序\n",
    "data"
   ]
  },
  {
   "cell_type": "code",
   "execution_count": 11,
   "metadata": {
    "pycharm": {
     "name": "#%%\n"
    }
   },
   "outputs": [
    {
     "data": {
      "text/plain": "1"
     },
     "execution_count": 11,
     "metadata": {},
     "output_type": "execute_result"
    }
   ],
   "source": [
    "'''\n",
    "def index(self, value, start=None, stop=None): # real signature unknown; restored from __doc__\n",
    "    \"\"\"\n",
    "    L.index(value, [start, [stop]]) -> integer -- return first index of value.\n",
    "    Raises ValueError if the value is not present.\n",
    "    \"\"\"\n",
    "    return 0\n",
    "'''\n",
    "list_index = [\"my\", [\"love\", 'is', \"duanmengmeng\"], \"i am sure\"]\n",
    "list_index.index([\"love\", 'is', \"duanmengmeng\"])"
   ]
  },
  {
   "cell_type": "code",
   "execution_count": 12,
   "outputs": [
    {
     "ename": "ValueError",
     "evalue": "34 is not in list",
     "output_type": "error",
     "traceback": [
      "\u001B[1;31m---------------------------------------------------------------------------\u001B[0m",
      "\u001B[1;31mValueError\u001B[0m                                Traceback (most recent call last)",
      "\u001B[1;32m~\\AppData\\Local\\Temp/ipykernel_21292/3312311699.py\u001B[0m in \u001B[0;36m<module>\u001B[1;34m\u001B[0m\n\u001B[1;32m----> 1\u001B[1;33m \u001B[0mlist_index\u001B[0m\u001B[1;33m.\u001B[0m\u001B[0mindex\u001B[0m\u001B[1;33m(\u001B[0m\u001B[1;36m34\u001B[0m\u001B[1;33m)\u001B[0m\u001B[1;33m\u001B[0m\u001B[1;33m\u001B[0m\u001B[0m\n\u001B[0m\u001B[0;32m      2\u001B[0m \u001B[1;33m\u001B[0m\u001B[0m\n",
      "\u001B[1;31mValueError\u001B[0m: 34 is not in list"
     ]
    }
   ],
   "source": [
    "list_index.index(34)"
   ],
   "metadata": {
    "collapsed": false,
    "pycharm": {
     "name": "#%%\n"
    }
   }
  },
  {
   "cell_type": "code",
   "execution_count": 13,
   "metadata": {
    "pycharm": {
     "metadata": false,
     "name": "#%%\n"
    }
   },
   "outputs": [
    {
     "data": {
      "text/plain": "2"
     },
     "execution_count": 13,
     "metadata": {},
     "output_type": "execute_result"
    }
   ],
   "source": [
    "'''\n",
    "def count(self, value): # real signature unknown; restored from __doc__\n",
    "    \"\"\" L.count(value) -> integer -- return number of occurrences of value \"\"\"\n",
    "    return 0\n",
    "'''\n",
    "list_count = ['a', 'b', 'c', 'd', 'e', 'a', 'c']\n",
    "list_count.count('a')\n"
   ]
  }
 ],
 "metadata": {
  "kernelspec": {
   "display_name": "Python 3",
   "language": "python",
   "name": "python3"
  },
  "language_info": {
   "codemirror_mode": {
    "name": "ipython",
    "version": 3
   },
   "file_extension": ".py",
   "mimetype": "text/x-python",
   "name": "python",
   "nbconvert_exporter": "python",
   "pygments_lexer": "ipython3",
   "version": "3.7.7"
  },
  "toc": {
   "base_numbering": 1,
   "nav_menu": {},
   "number_sections": true,
   "sideBar": true,
   "skip_h1_title": false,
   "title_cell": "Table of Contents",
   "title_sidebar": "Contents",
   "toc_cell": false,
   "toc_position": {},
   "toc_section_display": true,
   "toc_window_display": false
  }
 },
 "nbformat": 4,
 "nbformat_minor": 1
}