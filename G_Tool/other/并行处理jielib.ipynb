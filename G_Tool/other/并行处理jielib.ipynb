{
 "cells": [
  {
   "cell_type": "code",
   "execution_count": 24,
   "metadata": {
    "collapsed": true
   },
   "outputs": [],
   "source": [
    "from joblib import Parallel, delayed\n",
    "import time, math"
   ]
  },
  {
   "cell_type": "code",
   "execution_count": 25,
   "outputs": [],
   "source": [
    "def my_fun1p(i):\n",
    "    time.sleep(1)\n",
    "    return math.sqrt(i ** 2)"
   ],
   "metadata": {
    "collapsed": false,
    "pycharm": {
     "name": "#%%\n"
    }
   }
  },
  {
   "cell_type": "code",
   "execution_count": 26,
   "outputs": [
    {
     "name": "stdout",
     "output_type": "stream",
     "text": [
      "10.0843 s\n"
     ]
    }
   ],
   "source": [
    "num = 10\n",
    "start = time.time()\n",
    "for i in range(num):\n",
    "    my_fun1p(i)\n",
    "\n",
    "end = time.time()\n",
    "\n",
    "print('{:.4f} s'.format(end - start))"
   ],
   "metadata": {
    "collapsed": false,
    "pycharm": {
     "name": "#%%\n"
    }
   }
  },
  {
   "cell_type": "code",
   "execution_count": 27,
   "outputs": [
    {
     "name": "stdout",
     "output_type": "stream",
     "text": [
      "[0.0, 1.0, 2.0, 3.0, 4.0, 5.0, 6.0, 7.0, 8.0, 9.0]\n",
      "5.0580 s\n"
     ]
    }
   ],
   "source": [
    "start = time.time()\n",
    "# njobs:The maximum number of concurrently running jobs\n",
    "# If -1 all CPUs are used\n",
    "result = Parallel(n_jobs=2)(delayed(my_fun1p)(i) for i in range(num))  # 函数my_fun1的参数为i\n",
    "print(result)  #  结果被打包为一个列表\n",
    "end = time.time()\n",
    "print('{:.4f} s'.format(end - start))"
   ],
   "metadata": {
    "collapsed": false,
    "pycharm": {
     "name": "#%%\n"
    }
   }
  },
  {
   "cell_type": "code",
   "execution_count": 28,
   "outputs": [],
   "source": [
    "def my_fun_2p(i, j):\n",
    "    time.sleep(1)\n",
    "    return math.sqrt(i ** j)"
   ],
   "metadata": {
    "collapsed": false,
    "pycharm": {
     "name": "#%%\n"
    }
   }
  },
  {
   "cell_type": "code",
   "execution_count": 29,
   "outputs": [
    {
     "name": "stdout",
     "output_type": "stream",
     "text": [
      "30.2930 s\n",
      "30.2452 s\n"
     ]
    }
   ],
   "source": [
    "j_num = 3\n",
    "num = 10\n",
    "start = time.time()\n",
    "for i in range(num):\n",
    "    for j in range(j_num):\n",
    "        my_fun_2p(i, j)\n",
    "\n",
    "end = time.time()\n",
    "print('{:.4f} s'.format(end - start))"
   ],
   "metadata": {
    "collapsed": false,
    "pycharm": {
     "name": "#%%\n"
    }
   }
  },
  {
   "cell_type": "code",
   "execution_count": 30,
   "outputs": [
    {
     "name": "stderr",
     "output_type": "stream",
     "text": [
      "[Parallel(n_jobs=2)]: Using backend LokyBackend with 2 concurrent workers.\n",
      "[Parallel(n_jobs=2)]: Done   1 tasks      | elapsed:    0.9s\n",
      "[Parallel(n_jobs=2)]: Done   4 tasks      | elapsed:    1.9s\n",
      "[Parallel(n_jobs=2)]: Done   9 tasks      | elapsed:    4.9s\n",
      "[Parallel(n_jobs=2)]: Done  14 tasks      | elapsed:    6.9s\n",
      "[Parallel(n_jobs=2)]: Done  21 tasks      | elapsed:   11.0s\n",
      "[Parallel(n_jobs=2)]: Done  30 out of  30 | elapsed:   15.0s finished\n",
      "[Parallel(n_jobs=2)]: Using backend LokyBackend with 2 concurrent workers.\n",
      "[Parallel(n_jobs=2)]: Done   1 tasks      | elapsed:    0.9s\n",
      "[Parallel(n_jobs=2)]: Done   4 tasks      | elapsed:    1.9s\n",
      "[Parallel(n_jobs=2)]: Done   9 tasks      | elapsed:    4.9s\n",
      "[Parallel(n_jobs=2)]: Done  14 tasks      | elapsed:    7.0s\n",
      "[Parallel(n_jobs=2)]: Done  21 tasks      | elapsed:   11.0s\n",
      "[Parallel(n_jobs=2)]: Done  30 out of  30 | elapsed:   15.0s finished\n"
     ]
    }
   ],
   "source": [
    "\"\"\"\n",
    "verbose: int, optional\n",
    "    The verbosity level:\n",
    "    if non zero, progress messages are printed.\n",
    "    Above 50, the output is sent to stdout.\n",
    "    The frequency of the messages increases with the verbosity level.\n",
    "    If it more than 10, all iterations are reported.\n",
    "\"\"\"\n",
    "start = time.time()\n",
    "# 函数my_fun_2p的参数为(i, j)\n",
    "Parallel(n_jobs=2, verbose=10)(delayed(my_fun_2p)(i, j) for i in range(num) for j in range(j_num))\n",
    "end = time.time()"
   ],
   "metadata": {
    "collapsed": false,
    "pycharm": {
     "name": "#%%\n"
    }
   }
  }
 ],
 "metadata": {
  "kernelspec": {
   "display_name": "Python 3",
   "language": "python",
   "name": "python3"
  },
  "language_info": {
   "codemirror_mode": {
    "name": "ipython",
    "version": 2
   },
   "file_extension": ".py",
   "mimetype": "text/x-python",
   "name": "python",
   "nbconvert_exporter": "python",
   "pygments_lexer": "ipython2",
   "version": "2.7.6"
  }
 },
 "nbformat": 4,
 "nbformat_minor": 0
}