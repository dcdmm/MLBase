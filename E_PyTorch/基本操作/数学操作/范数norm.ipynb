{
 "cells": [
  {
   "cell_type": "code",
   "execution_count": 14,
   "metadata": {
    "collapsed": true
   },
   "outputs": [
    {
     "name": "stdout",
     "output_type": "stream",
     "text": [
      "tensor([1., 1., 1., 1., 1., 1., 1., 1.])\n",
      "tensor([[1., 1., 1., 1.],\n",
      "        [1., 1., 1., 1.]])\n",
      "tensor([[[1., 1.],\n",
      "         [1., 1.]],\n",
      "\n",
      "        [[1., 1.],\n",
      "         [1., 1.]]])\n"
     ]
    }
   ],
   "source": [
    "import torch\n",
    "\n",
    "\n",
    "a = torch.full((8, ), 1)\n",
    "b = a.reshape(2, 4)\n",
    "c = a.reshape(2, 2, 2)\n",
    "print(a)\n",
    "print(b)\n",
    "print(c)"
   ]
  },
  {
   "cell_type": "code",
   "execution_count": 15,
   "outputs": [
    {
     "name": "stdout",
     "output_type": "stream",
     "text": [
      "tensor(8.)\n",
      "tensor(8.)\n",
      "tensor(8.)\n"
     ]
    }
   ],
   "source": [
    "# 完全类似numpy.linalg.norm\n",
    "print(torch.norm(a, 1)) # L_1范数;p=1\n",
    "print(torch.norm(b, 1))\n",
    "print(torch.norm(c, 1))"
   ],
   "metadata": {
    "collapsed": false,
    "pycharm": {
     "name": "#%%\n"
    }
   }
  },
  {
   "cell_type": "code",
   "execution_count": 16,
   "outputs": [
    {
     "name": "stdout",
     "output_type": "stream",
     "text": [
      "tensor(2.8284)\n",
      "tensor(2.8284)\n",
      "tensor(2.8284)\n"
     ]
    }
   ],
   "source": [
    "print(torch.norm(a, p=2)) # 默认p='fro';Frobenisu范数;p=2\n",
    "print(torch.norm(b))\n",
    "print(torch.norm(c))"
   ],
   "metadata": {
    "collapsed": false,
    "pycharm": {
     "name": "#%%\n"
    }
   }
  },
  {
   "cell_type": "code",
   "execution_count": 17,
   "outputs": [
    {
     "name": "stdout",
     "output_type": "stream",
     "text": [
      "tensor(7., dtype=torch.float64)\n",
      "tensor(7., dtype=torch.float64)\n",
      "tensor(7., dtype=torch.float64)\n"
     ]
    }
   ],
   "source": [
    "import numpy as np\n",
    "\n",
    "a1 = torch.arange(8, dtype=torch.double)\n",
    "b1 = a1.reshape(2, 4)\n",
    "c1 = a1.reshape(2, 2, 2)\n",
    "print(torch.norm(a1, p=np.inf)) # 最大范数;p=np.inf\n",
    "print(torch.norm(b1, p=np.inf))\n",
    "print(torch.norm(c1, p=np.inf))"
   ],
   "metadata": {
    "collapsed": false,
    "pycharm": {
     "name": "#%%\n"
    }
   }
  },
  {
   "cell_type": "code",
   "execution_count": 18,
   "outputs": [
    {
     "data": {
      "text/plain": "tensor([1.4142, 2.2361, 5.0000], dtype=torch.float64)"
     },
     "execution_count": 18,
     "metadata": {},
     "output_type": "execute_result"
    }
   ],
   "source": [
    "matrix = torch.tensor([[ 1, 2, 3],\n",
    "                       [-1, 1, 4]], dtype=torch.double)\n",
    "torch.norm(matrix, dim=0) # 计算指定维度上的范数(默认dim=None)"
   ],
   "metadata": {
    "collapsed": false,
    "pycharm": {
     "name": "#%%\n"
    }
   }
  },
  {
   "cell_type": "code",
   "execution_count": 19,
   "outputs": [
    {
     "data": {
      "text/plain": "tensor([3.4364, 3.5918])"
     },
     "execution_count": 19,
     "metadata": {},
     "output_type": "execute_result"
    }
   ],
   "source": [
    "a = torch.randn(2, 3, 4)\n",
    "torch.norm(a, p=2, dim=(1, 2)) # 注意:norm函数dim参数可以为元组;第0个维度所有数据的范数"
   ],
   "metadata": {
    "collapsed": false,
    "pycharm": {
     "name": "#%%\n"
    }
   }
  }
 ],
 "metadata": {
  "kernelspec": {
   "display_name": "Python 3",
   "language": "python",
   "name": "python3"
  },
  "language_info": {
   "codemirror_mode": {
    "name": "ipython",
    "version": 2
   },
   "file_extension": ".py",
   "mimetype": "text/x-python",
   "name": "python",
   "nbconvert_exporter": "python",
   "pygments_lexer": "ipython2",
   "version": "2.7.6"
  }
 },
 "nbformat": 4,
 "nbformat_minor": 0
}