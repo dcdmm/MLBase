{
 "cells": [
  {
   "cell_type": "markdown",
   "metadata": {
    "collapsed": true,
    "pycharm": {
     "name": "#%% md\n"
    }
   },
   "source": [
    "## ID3生成算法\n",
    "输入:训练数据集$ D $,特征集$ A $阙值$ \\epsilon $;   \n",
    "输出:决策树$T$.   \n",
    "1. 若$ D $中所有实例属于同一类$C_k$,则$T $ 为单结点树,并将类$C_k$ 作为\n",
    "该节点的类标记,返回$ T $.\n",
    "2. 若$A  = \\varnothing$,则置$T$为单结点树,并将$D$中实例树最大的类$ C_k $作为\n",
    "该节点的类标记,返回$T$.  \n",
    "3. 否则,计算$A$中各特征对$D$的信息增益,选择信息增益最大的特征$A_g$;\n",
    "4. 如果$A_g$的信息增益小于阙值$\\epsilon$,则置$T$为单节点树,并将$D$中实例数最大的\n",
    "类$C_k$作为该结点的类标记,返回$T$;\n",
    "5. 否则,对$A_g$的每一可能值$a_i$,依$A_g = a_i$将$D$分割为若干个非空子集$D_i$,将$D_i$中实例\n",
    "数最大的类作为标记,构建子结点,由节点及其子结点构成树$T$,返回$T$;\n",
    "6. 对结点$ i $,以$D_i$为训练集,以$ A-\\{ A_g \\} $为特征集,递归地调用步1 $ \\sim 5$ 步,得到子树$T_i$,返回$T_i$.\n",
    "\n",
    "\n",
    "## C4.5生成算法   \n",
    "输入:训练数据集$ D $,特征集$ A $阙值$ \\epsilon $;   \n",
    "输出:决策树$T$.   \n",
    "1. 若$ D $中所有实例属于同一类$C_k$,则$T $ 为单结点树,并将类$C_k$ 作为\n",
    "该节点的类标记,返回$ T $.\n",
    "2. 若$A  = \\varnothing$,则置$T$为单结点树,并将$D$中实例树最大的类$ C_k $作为\n",
    "该节点的类标记,返回$T$.  \n",
    "3. 否则,计算$A$中各特征对$D$的信息增益比,选择信息增益比最大的特征$A_g$;\n",
    "4. 如果$A_g$的信息增益比小于阙值$\\epsilon$,则置$T$为单节点树,并将$D$中实例数最大的\n",
    "类$C_k$作为该结点的类标记,返回$T$;\n",
    "5. 否则,对$A_g$的每一可能值$a_i$,依$A_g = a_i$将$D$分割为若干个非空子集$D_i$,将$D_i$中实例\n",
    "数最大的类作为标记,构建子结点,由节点及其子结点构成树$T$,返回$T$;\n",
    "6. 对结点$ i $,以$D_i$为训练集,以$ A-\\{ A_g \\} $为特征集,递归地调用步1 $ \\sim 5$ 步,得到子树$T_i$,返回$T_i$.   \n",
    "\n",
    "## C4.5对ID3的改进 \n",
    "1. 使用信息增益率对特征进行选择,克服了用信息增益选择特征时偏向选择取值较多的特征的不足\n",
    "2. 采用PEP(Pessimistic Error Pruning,悲观剪枝)进行剪枝(完全使用训练数据来生成决策树,又用这些训练数据来完成剪枝)\n",
    "3. 能对连续数据进行离散化处理\n",
    "4. 能对缺失值进行处理 "
   ]
  },
  {
   "cell_type": "code",
   "execution_count": null,
   "metadata": {},
   "outputs": [],
   "source": []
  }
 ],
 "metadata": {
  "kernelspec": {
   "display_name": "Python 3",
   "language": "python",
   "name": "python3"
  },
  "language_info": {
   "codemirror_mode": {
    "name": "ipython",
    "version": 3
   },
   "file_extension": ".py",
   "mimetype": "text/x-python",
   "name": "python",
   "nbconvert_exporter": "python",
   "pygments_lexer": "ipython3",
   "version": "3.7.7"
  },
  "pycharm": {
   "stem_cell": {
    "cell_type": "raw",
    "metadata": {
     "collapsed": false
    },
    "source": []
   }
  },
  "toc": {
   "base_numbering": 1,
   "nav_menu": {},
   "number_sections": true,
   "sideBar": true,
   "skip_h1_title": false,
   "title_cell": "Table of Contents",
   "title_sidebar": "Contents",
   "toc_cell": false,
   "toc_position": {},
   "toc_section_display": true,
   "toc_window_display": false
  }
 },
 "nbformat": 4,
 "nbformat_minor": 1
}
