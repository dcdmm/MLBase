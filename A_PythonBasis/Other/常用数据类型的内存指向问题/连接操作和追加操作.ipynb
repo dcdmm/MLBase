{
 "cells": [
  {
   "cell_type": "markdown",
   "source": [
    "1. 对于可变类型：  \n",
    "+:  代表连接操作,其结果会创建一个新的对象\n",
    "+=: 代表追加操作,即 in-place操作,在原地把另一个对象的内容追加到对象中\n",
    "2. 对于不可变类型:\n",
    "+与 +=都代表连接或求和操作,两者没有什么区别,其操作的结果都会产生一个新的对象"
   ],
   "metadata": {
    "collapsed": false,
    "pycharm": {
     "name": "#%% md\n"
    }
   }
  },
  {
   "cell_type": "code",
   "execution_count": 27,
   "outputs": [
    {
     "name": "stdout",
     "output_type": "stream",
     "text": [
      "True\n",
      "True\n"
     ]
    }
   ],
   "source": [
    "a = [1, 2, 3, 4] # 可变类型\n",
    "t = a\n",
    "\n",
    "print(t is a)\n",
    "\n",
    "t += [0]*6 # 追加操作\n",
    "\n",
    "print(t is a)  # 输出True"
   ],
   "metadata": {
    "collapsed": false,
    "pycharm": {
     "name": "#%%\n"
    }
   }
  },
  {
   "cell_type": "code",
   "execution_count": 28,
   "outputs": [
    {
     "name": "stdout",
     "output_type": "stream",
     "text": [
      "True\n",
      "False\n"
     ]
    }
   ],
   "source": [
    "a = [1, 2, 3, 4]\n",
    "t = a\n",
    "print(t is a)\n",
    "\n",
    "t = [0]*6 + t # 连接操作\n",
    "print(t is a) # 输出False"
   ],
   "metadata": {
    "collapsed": false,
    "pycharm": {
     "name": "#%%\n"
    }
   }
  },
  {
   "cell_type": "code",
   "execution_count": 29,
   "outputs": [
    {
     "name": "stdout",
     "output_type": "stream",
     "text": [
      "2308715836800\n",
      "True\n",
      "2308715836800\n",
      "True\n"
     ]
    }
   ],
   "source": [
    "import numpy as np\n",
    "a = np.array([1, 2, 3, 4]) # 可变类型\n",
    "t = a\n",
    "print(id(a))\n",
    "print(t is a)\n",
    "\n",
    "t += [1, 1, 1, 1] # 追加操作\n",
    "print(id(a))\n",
    "print(t is a) # 输出True"
   ],
   "metadata": {
    "collapsed": false,
    "pycharm": {
     "name": "#%%\n"
    }
   }
  },
  {
   "cell_type": "code",
   "execution_count": 30,
   "outputs": [
    {
     "name": "stdout",
     "output_type": "stream",
     "text": [
      "True\n",
      "False\n"
     ]
    }
   ],
   "source": [
    "a = np.array([1, 2, 3, 4])\n",
    "t = a\n",
    "print(t is a)\n",
    "\n",
    "t = t + np.array([1, 1, 1, 1]) # 连接操作\n",
    "print(t is a) # 输出False"
   ],
   "metadata": {
    "collapsed": false,
    "pycharm": {
     "name": "#%%\n"
    }
   }
  },
  {
   "cell_type": "code",
   "execution_count": 31,
   "outputs": [
    {
     "name": "stdout",
     "output_type": "stream",
     "text": [
      "True\n",
      "False\n"
     ]
    }
   ],
   "source": [
    "a = 12 # 不可变类型\n",
    "t = a\n",
    "print(t is a)\n",
    "\n",
    "t += 5 # 追加操作\n",
    "print(t is a) # 输出False"
   ],
   "metadata": {
    "collapsed": false,
    "pycharm": {
     "name": "#%%\n"
    }
   }
  },
  {
   "cell_type": "code",
   "execution_count": 32,
   "outputs": [
    {
     "name": "stdout",
     "output_type": "stream",
     "text": [
      "True\n",
      "False\n"
     ]
    }
   ],
   "source": [
    "a = 12\n",
    "t = a\n",
    "print(t is a)\n",
    "\n",
    "t = t + 5 # 连接操作\n",
    "print(t is a) # 输出False"
   ],
   "metadata": {
    "collapsed": false,
    "pycharm": {
     "name": "#%%\n"
    }
   }
  },
  {
   "cell_type": "code",
   "execution_count": 32,
   "outputs": [],
   "source": [],
   "metadata": {
    "collapsed": false,
    "pycharm": {
     "name": "#%%\n"
    }
   }
  }
 ],
 "metadata": {
  "language_info": {
   "codemirror_mode": {
    "name": "ipython",
    "version": 2
   },
   "file_extension": ".py",
   "mimetype": "text/x-python",
   "name": "python",
   "nbconvert_exporter": "python",
   "pygments_lexer": "ipython2",
   "version": "2.7.6"
  },
  "kernelspec": {
   "name": "python3",
   "language": "python",
   "display_name": "Python 3"
  }
 },
 "nbformat": 4,
 "nbformat_minor": 0
}