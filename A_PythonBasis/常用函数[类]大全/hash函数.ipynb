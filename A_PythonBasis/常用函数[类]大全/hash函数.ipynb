{
 "cells": [
  {
   "cell_type": "code",
   "execution_count": 2,
   "id": "initial_id",
   "metadata": {
    "collapsed": true,
    "ExecuteTime": {
     "end_time": "2024-01-11T08:10:16.150610200Z",
     "start_time": "2024-01-11T08:10:16.129984500Z"
    }
   },
   "outputs": [
    {
     "data": {
      "text/plain": "123456"
     },
     "execution_count": 2,
     "metadata": {},
     "output_type": "execute_result"
    }
   ],
   "source": [
    "'''\n",
    "Return the hash value for the given object.\n",
    "    \n",
    "Two objects that compare equal must also have the same hash value, but the reverse is not necessarily true.\n",
    "'''\n",
    "hash(123456)"
   ]
  },
  {
   "cell_type": "code",
   "execution_count": 3,
   "outputs": [
    {
     "data": {
      "text/plain": "127074182999320809"
     },
     "execution_count": 3,
     "metadata": {},
     "output_type": "execute_result"
    }
   ],
   "source": [
    "hash(\"123456\")"
   ],
   "metadata": {
    "collapsed": false,
    "ExecuteTime": {
     "end_time": "2024-01-11T08:10:16.170113400Z",
     "start_time": "2024-01-11T08:10:16.151738Z"
    }
   },
   "id": "61c30a31ea12acc"
  },
  {
   "cell_type": "code",
   "execution_count": 4,
   "outputs": [
    {
     "data": {
      "text/plain": "5881802312257552497"
     },
     "execution_count": 4,
     "metadata": {},
     "output_type": "execute_result"
    }
   ],
   "source": [
    "hash((1, 2, 3, 4, 5, 6))"
   ],
   "metadata": {
    "collapsed": false,
    "ExecuteTime": {
     "end_time": "2024-01-11T08:10:26.186298800Z",
     "start_time": "2024-01-11T08:10:26.165294200Z"
    }
   },
   "id": "9da3901e965c73da"
  },
  {
   "cell_type": "code",
   "execution_count": 5,
   "outputs": [
    {
     "ename": "TypeError",
     "evalue": "unhashable type: 'list'",
     "output_type": "error",
     "traceback": [
      "\u001B[1;31m---------------------------------------------------------------------------\u001B[0m",
      "\u001B[1;31mTypeError\u001B[0m                                 Traceback (most recent call last)",
      "Cell \u001B[1;32mIn[5], line 1\u001B[0m\n\u001B[1;32m----> 1\u001B[0m \u001B[38;5;28;43mhash\u001B[39;49m\u001B[43m(\u001B[49m\u001B[43m[\u001B[49m\u001B[38;5;241;43m1\u001B[39;49m\u001B[43m,\u001B[49m\u001B[43m \u001B[49m\u001B[38;5;241;43m2\u001B[39;49m\u001B[43m,\u001B[49m\u001B[43m \u001B[49m\u001B[38;5;241;43m3\u001B[39;49m\u001B[43m,\u001B[49m\u001B[43m \u001B[49m\u001B[38;5;241;43m4\u001B[39;49m\u001B[43m,\u001B[49m\u001B[43m \u001B[49m\u001B[38;5;241;43m5\u001B[39;49m\u001B[43m,\u001B[49m\u001B[43m \u001B[49m\u001B[38;5;241;43m6\u001B[39;49m\u001B[43m]\u001B[49m\u001B[43m)\u001B[49m\n",
      "\u001B[1;31mTypeError\u001B[0m: unhashable type: 'list'"
     ]
    }
   ],
   "source": [
    "# 在python中,只有不可变的数据类型是可哈希的\n",
    "hash([1, 2, 3, 4, 5, 6])"
   ],
   "metadata": {
    "collapsed": false,
    "ExecuteTime": {
     "end_time": "2024-01-11T08:11:42.183884600Z",
     "start_time": "2024-01-11T08:11:41.472891900Z"
    }
   },
   "id": "dedd9c5131ae89a5"
  },
  {
   "cell_type": "code",
   "execution_count": 13,
   "outputs": [
    {
     "name": "stdout",
     "output_type": "stream",
     "text": [
      "b\tc\td\te\t"
     ]
    }
   ],
   "source": [
    "class People:\n",
    "    def __init__(self, name, age, salary):\n",
    "        self.name = name\n",
    "        self.age = age\n",
    "        self.salary = salary\n",
    "\n",
    "    def __hash__(self):\n",
    "        return hash((self.name, self.age))  # 如果x==y,则必须hash(x)==hash(y),反之不一定要求\n",
    "\n",
    "    def __eq__(self, other):\n",
    "        return (self.name == other.name) and (self.age == other.age) and (self.salary == other.salary)\n",
    "\n",
    "    def __str__(self):\n",
    "        return self.name + \", \" + str(self.age) + \", \" + str(self.salary)\n",
    "\n",
    "\n",
    "p1 = People(\"xiaobai\", 1, 20)\n",
    "p2 = People(\"xiaobai\", 1, 30)\n",
    "p3 = People(\"xiaohei\", 2, 20)\n",
    "p4 = People(\"xiaoli\", 14, 20)\n",
    "p5 = People(\"xiaoming\", 10, 20)\n",
    "\n",
    "dit = {p1: 'a', p2: 'b', p3: 'c', p4: 'd', p5: 'e'}\n",
    "for key, value in dict.items():\n",
    "    print(value, end='\\t')  # print->b\tc\td\te"
   ],
   "metadata": {
    "collapsed": false,
    "ExecuteTime": {
     "end_time": "2024-01-11T15:34:00.855815900Z",
     "start_time": "2024-01-11T15:34:00.807397400Z"
    }
   },
   "id": "18835aceff422c03"
  },
  {
   "cell_type": "code",
   "execution_count": 14,
   "outputs": [
    {
     "name": "stdout",
     "output_type": "stream",
     "text": [
      "a\tb\tc\td\te\t"
     ]
    }
   ],
   "source": [
    "class People1:\n",
    "    def __init__(self, name, age, salary):\n",
    "        self.name = name\n",
    "        self.age = age\n",
    "        self.salary = salary\n",
    "\n",
    "    def __hash__(self):\n",
    "        return hash((self.name, self.age))  # 如果x==y,则必须hash(x)==hash(y),反之不一定要求\n",
    "\n",
    "    def __eq__(self, other):\n",
    "        return (self.name == other.name) and (self.age == other.age) and (self.salary == other.salary)\n",
    "\n",
    "    def __str__(self):\n",
    "        return self.name + \", \" + str(self.age) + \", \" + str(self.salary)\n",
    "\n",
    "\n",
    "p11 = People1(\"xiaobai\", 1, 20)\n",
    "p12 = People1(\"xiaobai\", 1, 30)\n",
    "p13 = People1(\"xiaohei\", 2, 20)\n",
    "p14 = People1(\"xiaoli\", 14, 20)\n",
    "p15 = People1(\"xiaoming\", 10, 20)\n",
    "\n",
    "dit1 = {p11: 'a', p12: 'b', p13: 'c', p14: 'd', p15: 'e'}\n",
    "for key, value in dit1.items():\n",
    "    print(value, end='\\t')  # print->a\tb\tc\td\te"
   ],
   "metadata": {
    "collapsed": false,
    "ExecuteTime": {
     "end_time": "2024-01-11T15:35:17.984963100Z",
     "start_time": "2024-01-11T15:35:17.942086200Z"
    }
   },
   "id": "8a48b14ba6638c3e"
  },
  {
   "cell_type": "code",
   "execution_count": null,
   "outputs": [],
   "source": [],
   "metadata": {
    "collapsed": false
   },
   "id": "2a2c8cbfc3b51513"
  }
 ],
 "metadata": {
  "kernelspec": {
   "display_name": "Python 3",
   "language": "python",
   "name": "python3"
  },
  "language_info": {
   "codemirror_mode": {
    "name": "ipython",
    "version": 2
   },
   "file_extension": ".py",
   "mimetype": "text/x-python",
   "name": "python",
   "nbconvert_exporter": "python",
   "pygments_lexer": "ipython2",
   "version": "2.7.6"
  }
 },
 "nbformat": 4,
 "nbformat_minor": 5
}
