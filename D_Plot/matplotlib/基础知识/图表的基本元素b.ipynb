{
 "cells": [
  {
   "cell_type": "markdown",
   "source": [
    "1. Axes.get_xlim,Axes.set_xlim\n",
    "2. Axes.get_xticks, Axes.set_xticks\n",
    "3. Axes.get_xticklabels, Axes.set_xticklabels\n",
    "4. plt.tight_layout()"
   ],
   "metadata": {
    "pycharm": {
     "metadata": false
    }
   }
  },
  {
   "cell_type": "code",
   "execution_count": 1,
   "outputs": [
    {
     "name": "stdout",
     "output_type": "stream",
     "text": [
      "未自定义xticks时,xticks为xlim向下取整后再分成若干份--------------------------------------------------\n",
      "未自定义xlim时,xim为: (-0.05, 1.05)\n",
      "未自定义xlim时,xticks为: [-0.2  0.   0.2  0.4  0.6  0.8  1.   1.2]\n",
      "自定义xlim=(-5.4, 3.3)后,xim为: (-5.4, 3.3)\n",
      "自定义xlim=(-5.4, 3.3)后,xticks为: [-6. -5. -4. -3. -2. -1.  0.  1.  2.  3.  4.]\n",
      "自定义xticks=(-2.4, -1.2, ..., 7.2, 8.4)之后,xlim为原xlim与自定义xticsk的交集--------------------------------------------------\n",
      "自定义xticks=(-2.4, -1.2, ..., 7.2, 8.4)之后,xticks即为自定义后的xticks\n",
      "自定义xticks=(-2.4, -1.2, ..., 7.2, 8.4)之后,xlim为: (-5.4, 8.4)\n",
      "自定义xticks=(-2.4, -1.2, ..., 7.2, 8.4)之后,xticks为: [-2.4 -1.2  0.   1.2  2.4  3.6  4.8  6.   7.2  8.4]\n",
      "自定义xticks之后,xticks不再随xlim的改变而改变--------------------------------------------------\n",
      "再设置xlim=(-6, 7)此时,xlim为 (-6.0, 7.0)\n",
      "再设置xlim=(-6, 7)此时,xticks为: [-2.4 -1.2  0.   1.2  2.4  3.6  4.8  6.   7.2  8.4]\n",
      "未自定义xticklabels时,xticklabels为: Text(0, 0, '')\n",
      "未自定义xticklabels时,xticklabels为: Text(0, 0, '')\n",
      "未自定义xticklabels时,xticklabels为: Text(0, 0, '')\n",
      "未自定义xticklabels时,xticklabels为: Text(0, 0, '')\n",
      "未自定义xticklabels时,xticklabels为: Text(0, 0, '')\n",
      "未自定义xticklabels时,xticklabels为: Text(0, 0, '')\n",
      "未自定义xticklabels时,xticklabels为: Text(0, 0, '')\n",
      "未自定义xticklabels时,xticklabels为: Text(0, 0, '')\n",
      "未自定义xticklabels时,xticklabels为: Text(0, 0, '')\n",
      "未自定义xticklabels时,xticklabels为: Text(0, 0, '')\n",
      "自定义xticklabels之后,xticklabels为: Text(-2.4, 0, 'A')\n",
      "自定义xticklabels之后,xticklabels为: Text(-1.2, 0, 'B')\n",
      "自定义xticklabels之后,xticklabels为: Text(0.0, 0, 'C')\n",
      "自定义xticklabels之后,xticklabels为: Text(1.2, 0, 'D')\n",
      "自定义xticklabels之后,xticklabels为: Text(2.4, 0, 'E')\n",
      "自定义xticklabels之后,xticklabels为: Text(3.5999999999999996, 0, 'F')\n",
      "自定义xticklabels之后,xticklabels为: Text(4.8, 0, 'G')\n",
      "自定义xticklabels之后,xticklabels为: Text(6.0, 0, 'H')\n",
      "自定义xticklabels之后,xticklabels为: Text(7.199999999999999, 0, 'I')\n",
      "自定义xticklabels之后,xticklabels为: Text(8.4, 0, 'J')\n"
     ]
    },
    {
     "data": {
      "text/plain": "<Figure size 432x288 with 2 Axes>",
      "image/png": "[encoded data removed]"
     },
     "metadata": {
      "needs_background": "light"
     },
     "output_type": "display_data"
    }
   ],
   "source": [
    "import numpy as np\n",
    "import matplotlib.pyplot as plt\n",
    "\n",
    "t = np.arange(0.0, 1.0 + 0.01, 0.01)\n",
    "s = np.cos(2 * 2 * np.pi * t)\n",
    "t[41:60] = np.nan\n",
    "fig = plt.figure()\n",
    "\n",
    "ax1 = plt.subplot(211)\n",
    "ax1.plot(t, s, '-', lw=2)\n",
    "ax1.grid(True)\n",
    "print('未自定义xticks时,xticks为xlim向下取整后再分成若干份--------------------------------------------------')\n",
    "print('未自定义xlim时,xim为:', ax1.get_xlim())  # Return the x-axis view limits.\n",
    "print('未自定义xlim时,xticks为:', ax1.get_xticks())\n",
    "'''\n",
    "Axes.get_xlim(self)\n",
    "    Return the x-axis view limits.\n",
    "\n",
    "    Returns:\t\n",
    "        left, right : (float, float)\n",
    "        The current x-axis limits in data coordinates.\n",
    "\n",
    "Axes.get_xticks(minor=False)\n",
    "    Return the x ticks as a list of locations\n",
    "    \n",
    "    minor : bool, optional\n",
    "            If True return the minor ticks, else return the major ticks.\n",
    "'''\n",
    "ax1.set_xlim(-5.4, 3.3)\n",
    "'''\n",
    "Axes.set_xlim(left=None, right=None, emit=True, auto=False, *, xmin=None, xmax=None)\n",
    "Set the x-axis view limits.\n",
    "    \n",
    "    Parameters:\n",
    "        left : scalar, optional\n",
    "            The left xlim in data coordinates. Passing None leaves the limit unchanged.\n",
    "            The left and right xlims may be passed as the tuple (left, right) as the first positional argument (or as the left keyword argument).\n",
    "    \n",
    "        right : scalar, optional\n",
    "            The right xlim in data coordinates. Passing None leaves the limit unchanged.\n",
    "'''\n",
    "print('自定义xlim=(-5.4, 3.3)后,xim为:', ax1.get_xlim())\n",
    "print('自定义xlim=(-5.4, 3.3)后,xticks为:', ax1.get_xticks())\n",
    "\n",
    "ax1.set_xticks(np.array(range(-2, 8)) * 1.2)\n",
    "'''\n",
    "Axes.set_xticks(ticks, minor=False)\n",
    "Set the x ticks with list of ticks\n",
    "    \n",
    "    Parameters:\n",
    "        ticks : list\n",
    "            List of x-axis tick locations.\n",
    "\n",
    "        minor : bool, optional\n",
    "            If False sets major ticks, if True sets minor ticks. Default is False.\n",
    "\n",
    "'''\n",
    "ax1.text(6, 0, 'duanchao')  # 坐标指的是(xticks, yticks)\n",
    "print(\n",
    "    '自定义xticks=(-2.4, -1.2, ..., 7.2, 8.4)之后,xlim为原xlim与自定义xticsk的交集--------------------------------------------------')\n",
    "print('自定义xticks=(-2.4, -1.2, ..., 7.2, 8.4)之后,xticks即为自定义后的xticks')\n",
    "print('自定义xticks=(-2.4, -1.2, ..., 7.2, 8.4)之后,xlim为:', ax1.get_xlim())\n",
    "print('自定义xticks=(-2.4, -1.2, ..., 7.2, 8.4)之后,xticks为:', ax1.get_xticks())\n",
    "\n",
    "ax1.set_xlim(-6, 7)\n",
    "print('自定义xticks之后,xticks不再随xlim的改变而改变--------------------------------------------------')\n",
    "print('再设置xlim=(-6, 7)此时,xlim为', ax1.get_xlim())\n",
    "print('再设置xlim=(-6, 7)此时,xticks为:', ax1.get_xticks())\n",
    "\n",
    "for i in ax1.get_xticklabels():\n",
    "    print('未自定义xticklabels时,xticklabels为:', i)\n",
    "'''\n",
    "Axes.get_xticklabels(minor=False, which=None)\n",
    "    Get the x tick labels as a list of Text instances.\n",
    "    \n",
    "    Parameters:\n",
    "        minor : bool, optional\n",
    "            If True return the minor ticklabels, else return the major ticklabels.\n",
    "\n",
    "        which : None, ('minor', 'major', 'both')\n",
    "            Overrides minor.\n",
    "            Selects which ticklabels to return\n",
    "'''\n",
    "label_list = list('ABCDEFGHIJ')\n",
    "ax1.set_xticklabels(label_list, rotation=30, color='red', fontsize=10)\n",
    "'''\n",
    "Axes.set_xticklabels(labels, fontdict=None, minor=False, **kwargs)\n",
    "Set the x-tick labels with list of string labels.\n",
    "\n",
    "    Parameters:\t\n",
    "    labels : List[str]\n",
    "        List of string labels.\n",
    "    minor : bool, optional\n",
    "        Whether to set the minor ticklabels rather than the major ones.\n",
    "'''\n",
    "for j in ax1.get_xticklabels():\n",
    "    print('自定义xticklabels之后,xticklabels为:', j)\n",
    "\n",
    "ax2 = plt.subplot(2, 1, 2)\n",
    "t[0] = np.nan\n",
    "t[-1] = np.nan\n",
    "ax2.plot(t, s, '-', lw=2)\n",
    "ax2.grid(True)\n",
    "\n",
    "plt.tight_layout()  # tight_layout会自动调整子图参数，使之填充整个图像区域"
   ],
   "metadata": {
    "pycharm": {
     "metadata": false,
     "name": "#%%\n"
    }
   }
  },
  {
   "cell_type": "code",
   "execution_count": 1,
   "outputs": [],
   "source": [
    "\n"
   ],
   "metadata": {
    "pycharm": {
     "metadata": false,
     "name": "#%%\n"
    }
   }
  }
 ],
 "metadata": {
  "language_info": {
   "codemirror_mode": {
    "name": "ipython",
    "version": 2
   },
   "file_extension": ".py",
   "mimetype": "text/x-python",
   "name": "python",
   "nbconvert_exporter": "python",
   "pygments_lexer": "ipython2",
   "version": "2.7.6"
  },
  "kernelspec": {
   "name": "python3",
   "language": "python",
   "display_name": "Python 3"
  },
  "stem_cell": {
   "cell_type": "raw",
   "source": "",
   "metadata": {
    "pycharm": {
     "metadata": false
    }
   }
  }
 },
 "nbformat": 4,
 "nbformat_minor": 0
}