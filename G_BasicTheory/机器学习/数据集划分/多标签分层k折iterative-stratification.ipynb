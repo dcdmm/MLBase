{
 "cells": [
  {
   "cell_type": "code",
   "execution_count": 8,
   "metadata": {
    "collapsed": true
   },
   "outputs": [],
   "source": [
    "from iterstrat.ml_stratifiers import MultilabelStratifiedKFold\n",
    "import numpy as np"
   ]
  },
  {
   "cell_type": "code",
   "execution_count": 9,
   "outputs": [
    {
     "name": "stdout",
     "output_type": "stream",
     "text": [
      "TRAIN: [0 1 2 3 4 6 7] TEST: [5]\n",
      "TRAIN: [0 1 2 3 5 6 7] TEST: [4]\n",
      "TRAIN: [0 1 3 4 5 6 7] TEST: [2]\n",
      "TRAIN: [0 1 2 3 4 5 7] TEST: [6]\n",
      "TRAIN: [1 2 3 4 5 6 7] TEST: [0]\n",
      "TRAIN: [0 1 2 4 5 6 7] TEST: [3]\n",
      "TRAIN: [0 2 3 4 5 6 7] TEST: [1]\n",
      "TRAIN: [0 1 2 3 4 5 6] TEST: [7]\n"
     ]
    }
   ],
   "source": [
    "X = np.array([[1, 2],\n",
    "              [3, 4],\n",
    "              [1, 2],\n",
    "              [3, 4],\n",
    "              [1, 2],\n",
    "              [3, 4],\n",
    "              [1, 2],\n",
    "              [3, 4]])\n",
    "y = np.array([[0, 0],\n",
    "              [0, 0],\n",
    "              [0, 1],\n",
    "              [0, 1],\n",
    "              [1, 1],\n",
    "              [1, 1],\n",
    "              [1, 0],\n",
    "              [1, 0]])\n",
    "\n",
    "mskf = MultilabelStratifiedKFold(n_splits=8, shuffle=True, random_state=0)\n",
    "\n",
    "for train_index, test_index in mskf.split(X, y):\n",
    "    print(\"TRAIN:\", train_index, \"TEST:\", test_index)\n",
    "    X_train, X_test = X[train_index], X[test_index]\n",
    "    y_train, y_test = y[train_index], y[test_index]"
   ],
   "metadata": {
    "collapsed": false,
    "pycharm": {
     "name": "#%%\n"
    }
   }
  }
 ],
 "metadata": {
  "kernelspec": {
   "display_name": "Python 3",
   "language": "python",
   "name": "python3"
  },
  "language_info": {
   "codemirror_mode": {
    "name": "ipython",
    "version": 2
   },
   "file_extension": ".py",
   "mimetype": "text/x-python",
   "name": "python",
   "nbconvert_exporter": "python",
   "pygments_lexer": "ipython2",
   "version": "2.7.6"
  }
 },
 "nbformat": 4,
 "nbformat_minor": 0
}