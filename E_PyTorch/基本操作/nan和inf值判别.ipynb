{
 "cells": [
  {
   "cell_type": "code",
   "execution_count": 14,
   "metadata": {
    "collapsed": true,
    "tags": []
   },
   "outputs": [],
   "source": [
    "import numpy as np\n",
    "import torch"
   ]
  },
  {
   "cell_type": "markdown",
   "metadata": {
    "collapsed": false,
    "pycharm": {
     "name": "#%% md\n"
    }
   },
   "source": [
    "### 参考numpy.isnan/numpy.isinf\n",
    "* 仅推荐torch中"
   ]
  },
  {
   "cell_type": "code",
   "execution_count": 15,
   "metadata": {
    "collapsed": false,
    "pycharm": {
     "name": "#%%\n"
    }
   },
   "outputs": [
    {
     "name": "stderr",
     "output_type": "stream",
     "text": [
      "C:\\Users\\duanm\\AppData\\Local\\Temp/ipykernel_10652/636390702.py:4: RuntimeWarning: divide by zero encountered in true_divide\n",
      "  result = arr1 / arr2\n",
      "C:\\Users\\duanm\\AppData\\Local\\Temp/ipykernel_10652/636390702.py:4: RuntimeWarning: invalid value encountered in true_divide\n",
      "  result = arr1 / arr2\n"
     ]
    },
    {
     "data": {
      "text/plain": [
       "tensor([0.3333, 0.0000,    nan,    inf], dtype=torch.float64)"
      ]
     },
     "execution_count": 15,
     "metadata": {},
     "output_type": "execute_result"
    }
   ],
   "source": [
    "arr1 = np.array([1, 0, 0, 4])\n",
    "arr2 = np.array([3, 4, 0, 0])\n",
    "\n",
    "result = arr1 / arr2\n",
    "result = torch.tensor(result)\n",
    "result"
   ]
  },
  {
   "cell_type": "code",
   "execution_count": 16,
   "metadata": {
    "collapsed": false,
    "pycharm": {
     "name": "#%%\n"
    }
   },
   "outputs": [
    {
     "name": "stdout",
     "output_type": "stream",
     "text": [
      "tensor(nan, dtype=torch.float64)\n",
      "tensor(True)\n",
      "tensor([False, False,  True, False])\n"
     ]
    }
   ],
   "source": [
    "print(result[2])  # 单个值\n",
    "\n",
    "print(torch.isnan(result[2]))\n",
    "print(torch.isnan(result))"
   ]
  },
  {
   "cell_type": "code",
   "execution_count": 17,
   "metadata": {
    "collapsed": false,
    "pycharm": {
     "name": "#%%\n"
    }
   },
   "outputs": [
    {
     "name": "stdout",
     "output_type": "stream",
     "text": [
      "tensor(inf, dtype=torch.float64)\n",
      "tensor(True)\n",
      "tensor([False, False, False,  True])\n"
     ]
    }
   ],
   "source": [
    "print(result[3])  # 单个值\n",
    "print(torch.isinf(result[3]))\n",
    "print(torch.isinf(result))"
   ]
  }
 ],
 "metadata": {
  "kernelspec": {
   "display_name": "Python 3.8.12 ('pytorch_env')",
   "language": "python",
   "name": "python3"
  },
  "language_info": {
   "codemirror_mode": {
    "name": "ipython",
    "version": 2
   },
   "file_extension": ".py",
   "mimetype": "text/x-python",
   "name": "python",
   "nbconvert_exporter": "python",
   "pygments_lexer": "ipython2",
   "version": "3.8.12"
  },
  "vscode": {
   "interpreter": {
    "hash": "0886a02735466d80c36da7d0d184a8055779d3e497a063b4720b0317b8699033"
   }
  }
 },
 "nbformat": 4,
 "nbformat_minor": 0
}
