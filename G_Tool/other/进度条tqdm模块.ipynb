{
 "cells": [
  {
   "cell_type": "code",
   "execution_count": 17,
   "metadata": {},
   "outputs": [],
   "source": [
    "import time\n",
    "from tqdm import tqdm\n",
    "import math"
   ]
  },
  {
   "cell_type": "code",
   "execution_count": 18,
   "metadata": {
    "pycharm": {
     "name": "#%%\n"
    }
   },
   "outputs": [
    {
     "name": "stderr",
     "output_type": "stream",
     "text": [
      "Processing 9: 100%|██████████| 10/10 [00:01<00:00,  9.22it/s, accuray=0.9, loss=3]  \n"
     ]
    }
   ],
   "source": [
    "my_range = range(0, 10)\n",
    "pbar = tqdm(my_range)\n",
    "for char in pbar:\n",
    "    pbar.set_description(\"Processing %d\" % char)  # 在进度条前面设置描述\n",
    "    pbar.set_postfix(loss=math.sqrt(char), accuray=char / 10)  # 在进度条最后设置其他显示\n",
    "    time.sleep(0.1)  # 每迭代一次执行一次time.sleep(0.1)"
   ]
  },
  {
   "cell_type": "code",
   "execution_count": 19,
   "metadata": {
    "pycharm": {
     "name": "#%%\n"
    }
   },
   "outputs": [
    {
     "name": "stderr",
     "output_type": "stream",
     "text": [
      " 10%|█         | 2/20 [00:00<00:01,  9.39it/s]"
     ]
    },
    {
     "name": "stdout",
     "output_type": "stream",
     "text": [
      "char is 0\n",
      "char is 1\n"
     ]
    },
    {
     "name": "stderr",
     "output_type": "stream",
     "text": [
      " 20%|██        | 4/20 [00:00<00:01,  8.97it/s]"
     ]
    },
    {
     "name": "stdout",
     "output_type": "stream",
     "text": [
      "char is 2\n",
      "char is 3\n"
     ]
    },
    {
     "name": "stderr",
     "output_type": "stream",
     "text": [
      " 30%|███       | 6/20 [00:00<00:01,  9.06it/s]"
     ]
    },
    {
     "name": "stdout",
     "output_type": "stream",
     "text": [
      "char is 4\n",
      "char is 5\n"
     ]
    },
    {
     "name": "stderr",
     "output_type": "stream",
     "text": [
      " 40%|████      | 8/20 [00:00<00:01,  9.11it/s]"
     ]
    },
    {
     "name": "stdout",
     "output_type": "stream",
     "text": [
      "char is 6\n",
      "char is 7\n"
     ]
    },
    {
     "name": "stderr",
     "output_type": "stream",
     "text": [
      " 50%|█████     | 10/20 [00:01<00:01,  9.20it/s]"
     ]
    },
    {
     "name": "stdout",
     "output_type": "stream",
     "text": [
      "char is 8\n",
      "char is 9\n"
     ]
    },
    {
     "name": "stderr",
     "output_type": "stream",
     "text": [
      " 60%|██████    | 12/20 [00:01<00:00,  9.47it/s]"
     ]
    },
    {
     "name": "stdout",
     "output_type": "stream",
     "text": [
      "char is 10\n",
      "char is 11\n"
     ]
    },
    {
     "name": "stderr",
     "output_type": "stream",
     "text": [
      " 70%|███████   | 14/20 [00:01<00:00,  9.42it/s]"
     ]
    },
    {
     "name": "stdout",
     "output_type": "stream",
     "text": [
      "char is 12\n",
      "char is 13\n"
     ]
    },
    {
     "name": "stderr",
     "output_type": "stream",
     "text": [
      " 80%|████████  | 16/20 [00:01<00:00,  9.28it/s]"
     ]
    },
    {
     "name": "stdout",
     "output_type": "stream",
     "text": [
      "char is 14\n",
      "char is 15\n"
     ]
    },
    {
     "name": "stderr",
     "output_type": "stream",
     "text": [
      " 90%|█████████ | 18/20 [00:01<00:00,  9.35it/s]"
     ]
    },
    {
     "name": "stdout",
     "output_type": "stream",
     "text": [
      "char is 16\n",
      "char is 17\n"
     ]
    },
    {
     "name": "stderr",
     "output_type": "stream",
     "text": [
      "100%|██████████| 20/20 [00:02<00:00,  9.22it/s]"
     ]
    },
    {
     "name": "stdout",
     "output_type": "stream",
     "text": [
      "char is 18\n",
      "char is 19\n"
     ]
    },
    {
     "name": "stderr",
     "output_type": "stream",
     "text": [
      "\n"
     ]
    }
   ],
   "source": [
    "# 展示进度条的过程(方式一:)\n",
    "my_range = range(0, 20)\n",
    "pbar = tqdm(my_range)\n",
    "for char in pbar:\n",
    "    time.sleep(0.1)  # 每迭代一次执行一次time.sleep(0.1)\n",
    "    print(\"char is\", char)"
   ]
  },
  {
   "cell_type": "code",
   "execution_count": 23,
   "metadata": {
    "pycharm": {
     "name": "#%%\n"
    }
   },
   "outputs": [
    {
     "name": "stderr",
     "output_type": "stream",
     "text": [
      "  0%|          | 0/1 [00:00<?, ?it/s]\n",
      "  0%|          | 0/5 [00:00<?, ?it/s]\u001b[A\n",
      "Processing 0:   0%|          | 0/5 [00:00<?, ?it/s]\u001b[A\n",
      "Processing 0:   0%|          | 0/5 [00:00<?, ?it/s, accuray=0, loss=1]\u001b[A\n",
      "Processing 0:  20%|██        | 1/5 [00:00<00:00,  8.74it/s, accuray=0, loss=1]\u001b[A\n",
      "Processing 20:  20%|██        | 1/5 [00:00<00:00,  8.74it/s, accuray=0, loss=1]\u001b[A\n",
      "Processing 20:  20%|██        | 1/5 [00:00<00:00,  8.74it/s, accuray=0.2, loss=4.58]\u001b[A\n",
      "Processing 20:  40%|████      | 2/5 [00:00<00:00,  8.77it/s, accuray=0.2, loss=4.58]\u001b[A\n",
      "Processing 40:  40%|████      | 2/5 [00:00<00:00,  8.77it/s, accuray=0.2, loss=4.58]\u001b[A\n",
      "Processing 40:  40%|████      | 2/5 [00:00<00:00,  8.77it/s, accuray=0.4, loss=6.4] \u001b[A\n",
      "Processing 40:  60%|██████    | 3/5 [00:00<00:00,  8.58it/s, accuray=0.4, loss=6.4]\u001b[A\n",
      "Processing 60:  60%|██████    | 3/5 [00:00<00:00,  8.58it/s, accuray=0.4, loss=6.4]\u001b[A\n",
      "Processing 60:  60%|██████    | 3/5 [00:00<00:00,  8.58it/s, accuray=0.6, loss=7.81]\u001b[A\n",
      "Processing 60:  80%|████████  | 4/5 [00:00<00:00,  8.62it/s, accuray=0.6, loss=7.81]\u001b[A\n",
      "Processing 80:  80%|████████  | 4/5 [00:00<00:00,  8.62it/s, accuray=0.6, loss=7.81]\u001b[A\n",
      "Processing 80:  80%|████████  | 4/5 [00:00<00:00,  8.62it/s, accuray=0.8, loss=9]   \u001b[A\n",
      "Processing 80: 100%|██████████| 5/5 [00:00<00:00,  8.60it/s, accuray=0.8, loss=9]\u001b[A\n",
      "100%|██████████| 1/1 [00:00<00:00,  1.71it/s]\n"
     ]
    }
   ],
   "source": [
    "# 展示进度条的过程(方式二:),必须按照以下格式!!!\n",
    "for i in tqdm(range(1)):\n",
    "    a = tqdm(range(0, 100, 20))\n",
    "    for j in a:\n",
    "        a.set_description(\"Processing %d\" % j)\n",
    "        a.set_postfix(loss=math.sqrt(j + 1), accuray=j / 100)\n",
    "        time.sleep(0.1)"
   ]
  },
  {
   "cell_type": "code",
   "execution_count": null,
   "metadata": {
    "pycharm": {
     "name": "#%%\n"
    }
   },
   "outputs": [],
   "source": []
  }
 ],
 "metadata": {
  "kernelspec": {
   "display_name": "Python 3 (ipykernel)",
   "language": "python",
   "name": "python3"
  },
  "language_info": {
   "codemirror_mode": {
    "name": "ipython",
    "version": 3
   },
   "file_extension": ".py",
   "mimetype": "text/x-python",
   "name": "python",
   "nbconvert_exporter": "python",
   "pygments_lexer": "ipython3",
   "version": "3.9.7"
  },
  "toc": {
   "base_numbering": 1,
   "nav_menu": {},
   "number_sections": true,
   "sideBar": true,
   "skip_h1_title": false,
   "title_cell": "Table of Contents",
   "title_sidebar": "Contents",
   "toc_cell": false,
   "toc_position": {},
   "toc_section_display": true,
   "toc_window_display": false
  }
 },
 "nbformat": 4,
 "nbformat_minor": 1
}
