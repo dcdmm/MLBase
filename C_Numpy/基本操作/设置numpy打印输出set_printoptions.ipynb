{
 "cells": [
  {
   "cell_type": "code",
   "execution_count": 2,
   "outputs": [],
   "source": [
    "import numpy as np\n",
    "# set_printoptions作用于整个.ipynb文件"
   ],
   "metadata": {
    "pycharm": {
     "metadata": false,
     "name": "#%%\n",
     "is_executing": false
    }
   }
  },
  {
   "cell_type": "code",
   "execution_count": 10,
   "outputs": [
    {
     "name": "stdout",
     "text": [
      "[1.1235]\n"
     ],
     "output_type": "stream"
    }
   ],
   "source": [
    "# Floating point precision can be set:\n",
    "np.set_printoptions(precision=4) \n",
    "print(np.array([1.123456789]))"
   ],
   "metadata": {
    "pycharm": {
     "metadata": false,
     "name": "#%%\n",
     "is_executing": false
    }
   }
  },
  {
   "cell_type": "code",
   "execution_count": 11,
   "outputs": [
    {
     "name": "stdout",
     "text": [
      "[  0   1   2 ... 997 998 999]\n"
     ],
     "output_type": "stream"
    }
   ],
   "source": [
    "# Long arrays can be summarised:\n",
    "np.set_printoptions(threshold=999) \n",
    "s = np.arange(1000)\n",
    "print(s)\n",
    "# 若threshold>=len(s),则显示所有s元素\n",
    "# 若threshold<len(s),则只显示部分元素(前后各三个)"
   ],
   "metadata": {
    "pycharm": {
     "metadata": false,
     "name": "#%%\n",
     "is_executing": false
    }
   }
  },
  {
   "cell_type": "code",
   "execution_count": 12,
   "outputs": [
    {
     "name": "stdout",
     "text": [
      "[int: 0 int: -1 int: -2]\n"
     ],
     "output_type": "stream"
    },
    {
     "data": {
      "text/plain": "'\\nformatter : dict of callables, optional\\nIf not None, the keys should indicate the type(s) that the respective formatting function applies to. Callables should return a string. Types that are not specified (by their corresponding keys) are handled by the default formatters. Individual types for which a formatter can be set are:\\n\\n‘bool’\\n‘int’\\n‘timedelta’ : a numpy.timedelta64\\n‘datetime’ : a numpy.datetime64\\n‘float’\\n‘longfloat’ : 128-bit floats\\n‘complexfloat’\\n‘longcomplexfloat’ : composed of two 128-bit floats\\n‘numpystr’ : types numpy.string_ and numpy.unicode_\\n‘object’ : np.object_ arrays\\n‘str’ : all other strings\\n    Other keys that can be used to set a group of types at once are:\\n‘all’ : sets all types\\n‘int_kind’ : sets ‘int’\\n‘float_kind’ : sets ‘float’ and ‘longfloat’\\n‘complex_kind’ : sets ‘complexfloat’ and ‘longcomplexfloat’\\n‘str_kind’ : sets ‘str’ and ‘numpystr’\\n'"
     },
     "metadata": {},
     "output_type": "execute_result",
     "execution_count": 12
    }
   ],
   "source": "# A custom formatter can be used to display array elements as desired:\nnp.set_printoptions(formatter={'all':lambda x: 'int: ' + str(-x)}) \nx = np.arange(3)\nprint(x)\n'''\nformatter : dict of callables, optional\nIf not None, the keys should indicate the type(s) that the respective formatting function applies to. Callables\nshould return a string. Types that are not specified (by their corresponding keys) are handled by the default\nformatters. Individual types for which a formatter can be set are:\n    ‘bool’\n    ‘int’\n    ‘timedelta’ : a numpy.timedelta64\n    ‘datetime’ : a numpy.datetime64\n    ‘float’\n    ‘longfloat’ : 128-bit floats\n    ‘complexfloat’\n    ‘longcomplexfloat’ : composed of two 128-bit floats\n    ‘numpystr’ : types numpy.string_ and numpy.unicode_\n    ‘object’ : np.object_ arrays\n    ‘str’ : all other strings\nOther keys that can be used to set a group of types at once are:\n    ‘all’ : sets all types\n    ‘int_kind’ : sets ‘int’\n    ‘float_kind’ : sets ‘float’ and ‘longfloat’\n    ‘complex_kind’ : sets ‘complexfloat’ and ‘longcomplexfloat’\n    ‘str_kind’ : sets ‘str’ and ‘numpystr’\n'''",
   "metadata": {
    "pycharm": {
     "metadata": false,
     "name": "#%%\n",
     "is_executing": false
    }
   }
  },
  {
   "cell_type": "code",
   "execution_count": 13,
   "outputs": [
    {
     "name": "stdout",
     "text": [
      "[1.12345679]\n[0 1 2 3 4 5 6 7 8 9]\n[0 1 2]\n"
     ],
     "output_type": "stream"
    }
   ],
   "source": "# To put back the default options, you can use:\nnp.set_printoptions(edgeitems=3, infstr='inf',\n    linewidth=75, nanstr='nan', precision=8,\n    suppress=False, threshold=1000, formatter=None) \nprint(np.array([1.123456789]))\nprint(np.arange(10))\nprint(x)",
   "metadata": {
    "pycharm": {
     "metadata": false,
     "name": "#%%\n",
     "is_executing": false
    }
   }
  },
  {
   "cell_type": "code",
   "execution_count": 14,
   "outputs": [
    {
     "name": "stdout",
     "text": [
      "[1.1235]",
      "\n[0 1 2 ... 7 8 9]\n"
     ],
     "output_type": "stream"
    }
   ],
   "source": "import numpy as np\nfrom contextlib import contextmanager\n@contextmanager\ndef printoptions(*args, **kwargs):\n    original_options = np.get_printoptions()\n    np.set_printoptions(*args, **kwargs)\n    try:\n        yield\n    finally:\n        np.set_printoptions(**original_options)\n        \nwith printoptions(precision=4, threshold=5):\n    # 局部设置,用with做代码块区分\n    print(np.array([1.123456789]))\n    print(np.arange(10))",
   "metadata": {
    "pycharm": {
     "metadata": false,
     "name": "#%%\n",
     "is_executing": false
    }
   }
  },
  {
   "cell_type": "code",
   "execution_count": 15,
   "outputs": [
    {
     "name": "stdout",
     "text": [
      "[1.12345679]\n[0 1 2 3 4 5 6 7 8 9]\n"
     ],
     "output_type": "stream"
    }
   ],
   "source": "print(np.array([1.123456789]))\nprint(np.arange(10)) # 退出with块时,将自动恢复选项值\n\n",
   "metadata": {
    "pycharm": {
     "metadata": false,
     "name": "#%%\n",
     "is_executing": false
    }
   }
  }
 ],
 "metadata": {
  "language_info": {
   "codemirror_mode": {
    "name": "ipython",
    "version": 2
   },
   "file_extension": ".py",
   "mimetype": "text/x-python",
   "name": "python",
   "nbconvert_exporter": "python",
   "pygments_lexer": "ipython2",
   "version": "2.7.6"
  },
  "kernelspec": {
   "name": "python3",
   "language": "python",
   "display_name": "Python 3"
  },
  "stem_cell": {
   "cell_type": "raw",
   "source": "",
   "metadata": {
    "pycharm": {
     "metadata": false
    }
   }
  },
  "pycharm": {
   "stem_cell": {
    "cell_type": "raw",
    "source": [],
    "metadata": {
     "collapsed": false
    }
   }
  }
 },
 "nbformat": 4,
 "nbformat_minor": 0
}