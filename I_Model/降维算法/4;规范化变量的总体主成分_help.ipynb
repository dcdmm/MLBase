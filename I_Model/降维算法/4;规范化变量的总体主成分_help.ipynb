{
 "cells": [
  {
   "cell_type": "markdown",
   "metadata": {
    "collapsed": true,
    "pycharm": {
     "name": "#%% md\n"
    }
   },
   "source": [
    "&emsp;&emsp;在实际问题中,不同变量可能有不同的量纲,直接求主成分有时会产生不合理的结果.为了消除这个影响,\n",
    "常常对各个随机变量实现规范化,使其均值为0,方差为1.\n",
    "\n",
    "&emsp;&emsp;设$X=(X_1,X_2,\\cdots,X_m)^T$为$m$维随机变量,$X_i$为第$i$个随机变量,$i=1,2,\\cdots,m$,令\n",
    "\n",
    "$$ X_i^* = \\frac{X_i -E(X_i)}{\\mathrm{var}(X_i)} \\quad i=1,2,\\cdots,m $$\n",
    "\n",
    "其中$E(X_i),\\mathrm{var}(X_i)$分别是随机变量$X_i$的均值和方差,这时$X_i^*$就是$X_i$的规范化随机变量.\n",
    "\n",
    "&emsp;&emsp;显然,规范化随机变量的协方差矩阵就是相关矩阵$R$.主成分分析通常在规范化随机变量的协方差矩阵即相关阵上进行.\n",
    "\n",
    "&emsp;&emsp;对照总体主成分的性质可知,规范化随机变量的总体主成分有以下性质:\n",
    "\n",
    "1. 规范化变量主成分的协方差矩阵是\n",
    "\n",
    "$$ \\Lambda^* = \\mathrm{diag}(\\lambda_1^*, \\lambda_2^*,\\cdots,\\lambda_m^*) $$\n",
    "\n",
    "其中$\\lambda_1^* \\geq \\lambda_2^* \\geq \\cdots \\geq \\lambda_m^* \\geq 0 $为相关阵$R$的特征值.\n",
    "\n",
    "2. 协方差矩阵的特征值之和为$m$(即协方差矩阵的迹)\n",
    "\n",
    "$$ \\sum_{k=1}^m \\lambda_k^* = m $$\n",
    "\n",
    "3. 规范化随机变量$X_i^*$与主成分$Y_k^*$的相关系数(因子载荷量)为\n",
    "\n",
    "$$ \\rho(Y_k^*,X_i^*) = \\sqrt{\\lambda_k^*} \\mathbf{e}^*_{ik}, \\quad k,i=1,2,\\cdots,m $$\n",
    "\n",
    "其中$\\mathbf{e}_{ik}^* = (e^*_{1k}, e^*_{2k}, \\cdots,e^*_{mk})$为矩阵$R$对应于特征值$\\lambda_k^*$的特征向量.\n",
    "\n",
    "4. 所有规范化随机变量$X_i^*$与主成分$Y_k^*$的相关系数的平方和等于$\\lambda_k^*$\n",
    "\n",
    "$$ \\sum_{i=1}^m \\rho^2(Y_k^*, X_i^*) = \\sum_{i=1}^m \\lambda_k^* e^{*2}_{ik} =  \\lambda_k^*, \\quad k=1,2,\\cdots,m $$\n",
    "\n",
    "5. 规范化随机变量$X_i^*$与所有主成分$Y_k^*$的相关系数的平方和等于1\n",
    "\n",
    "$$ \\sum_{k=1}^m \\rho^2(Y_k^*, X_i^*) = \\sum_{k=1}^m \\lambda_k^* e^{*2}_{ik} =  1, \\quad k=1,2,\\cdots,m $$\n"
   ]
  }
 ],
 "metadata": {
  "kernelspec": {
   "display_name": "Python 3",
   "language": "python",
   "name": "python3"
  },
  "language_info": {
   "codemirror_mode": {
    "name": "ipython",
    "version": 3
   },
   "file_extension": ".py",
   "mimetype": "text/x-python",
   "name": "python",
   "nbconvert_exporter": "python",
   "pygments_lexer": "ipython3",
   "version": "3.7.7"
  },
  "toc": {
   "base_numbering": 1,
   "nav_menu": {},
   "number_sections": true,
   "sideBar": true,
   "skip_h1_title": false,
   "title_cell": "Table of Contents",
   "title_sidebar": "Contents",
   "toc_cell": false,
   "toc_position": {},
   "toc_section_display": true,
   "toc_window_display": false
  }
 },
 "nbformat": 4,
 "nbformat_minor": 1
}
