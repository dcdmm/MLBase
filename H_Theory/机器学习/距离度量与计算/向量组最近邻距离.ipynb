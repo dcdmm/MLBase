{
 "cells": [
  {
   "cell_type": "code",
   "execution_count": 1,
   "metadata": {
    "collapsed": true,
    "pycharm": {
     "is_executing": false
    }
   },
   "outputs": [
    {
     "data": {
      "text/plain": "array([[1., 1., 1., 0.],\n       [0., 1., 1., 1.],\n       [1., 1., 1., 0.],\n       [1., 1., 0., 1.]])"
     },
     "metadata": {},
     "output_type": "execute_result",
     "execution_count": 1
    }
   ],
   "source": [
    "import numpy as np\n",
    "from sklearn.neighbors import kneighbors_graph\n",
    "X = np.array([[0, 1],\n",
    "              [3, 2],\n",
    "              [1, 3],\n",
    "              [4, 0]]) # 矩阵形式(X为4个(行)向量组成的矩阵)\n",
    "# Computes the (weighted) graph of k-Neighbors for points in X\n",
    "A = kneighbors_graph(X, n_neighbors=3, # 最近邻样本个数\n",
    "                     mode='connectivity', # 是最近邻样本则返回1,否则返回0\n",
    "                     include_self=True, # 是否将自身作为第一个最近邻样本 \n",
    "                     n_jobs=-1)\n",
    "A.toarray()"
   ]
  },
  {
   "cell_type": "code",
   "execution_count": 2,
   "outputs": [
    {
     "data": {
      "text/plain": "array([[0.        , 3.16227766, 2.23606798, 0.        ],\n       [0.        , 0.        , 2.23606798, 2.23606798],\n       [2.23606798, 2.23606798, 0.        , 0.        ],\n       [4.12310563, 2.23606798, 0.        , 0.        ]])"
     },
     "metadata": {},
     "output_type": "execute_result",
     "execution_count": 2
    }
   ],
   "source": [
    "B = kneighbors_graph(X, n_neighbors=2, # 最近邻样本个数\n",
    "                     mode='distance', # 是最近邻样本则返回样本与最近邻样本的距离,否则返回0\n",
    "                     include_self=False,\n",
    "                     n_jobs=-1)\n",
    "B.toarray()"
   ],
   "metadata": {
    "collapsed": false,
    "pycharm": {
     "name": "#%%\n",
     "is_executing": false
    }
   }
  },
  {
   "cell_type": "code",
   "execution_count": 3,
   "outputs": [
    {
     "data": {
      "text/plain": "array([[0., 4., 3., 0.],\n       [0., 0., 3., 3.],\n       [3., 3., 0., 0.],\n       [5., 3., 0., 0.]])"
     },
     "metadata": {},
     "output_type": "execute_result",
     "execution_count": 3
    }
   ],
   "source": [
    "C = kneighbors_graph(X, n_neighbors=2, \n",
    "                     mode='distance', \n",
    "                     include_self=False,\n",
    "                     metric='minkowski', # 默认metric='minkowski',即minkowski距离.sklearn.neighbors.DistanceMetric类提供了可用指标的列表\n",
    "                     p=1, # 默认p=2,即欧式距离(必须指定metric='minkowski')\n",
    "                     n_jobs=-1)\n",
    "C.toarray()"
   ],
   "metadata": {
    "collapsed": false,
    "pycharm": {
     "name": "#%%\n",
     "is_executing": false
    }
   }
  }
 ],
 "metadata": {
  "kernelspec": {
   "display_name": "Python 3",
   "language": "python",
   "name": "python3"
  },
  "language_info": {
   "codemirror_mode": {
    "name": "ipython",
    "version": 2
   },
   "file_extension": ".py",
   "mimetype": "text/x-python",
   "name": "python",
   "nbconvert_exporter": "python",
   "pygments_lexer": "ipython2",
   "version": "2.7.6"
  }
 },
 "nbformat": 4,
 "nbformat_minor": 0
}