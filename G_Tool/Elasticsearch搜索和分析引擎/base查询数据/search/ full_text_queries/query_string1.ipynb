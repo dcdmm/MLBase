{
 "cells": [
  {
   "cell_type": "code",
   "execution_count": 147,
   "metadata": {
    "collapsed": true,
    "pycharm": {
     "name": "#%%\n"
    }
   },
   "outputs": [
    {
     "data": {
      "text/plain": "{'acknowledged': True, 'shards_acknowledged': True, 'index': 'es0'}"
     },
     "execution_count": 147,
     "metadata": {},
     "output_type": "execute_result"
    }
   ],
   "source": [
    "from elasticsearch import Elasticsearch\n",
    "\n",
    "es = Elasticsearch([{'host': 'localhost', 'port': 9200}])\n",
    "es.indices.create(\"es0\")"
   ]
  },
  {
   "cell_type": "code",
   "execution_count": 148,
   "outputs": [
    {
     "data": {
      "text/plain": "{'_index': 'es0',\n '_type': '_doc',\n '_id': 'r8npNIYBw-CyhYObGcDL',\n '_version': 1,\n 'result': 'created',\n '_shards': {'total': 2, 'successful': 1, 'failed': 0},\n '_seq_no': 3,\n '_primary_term': 1}"
     },
     "execution_count": 148,
     "metadata": {},
     "output_type": "execute_result"
    }
   ],
   "source": [
    "es.index(index='es0', body={\"content\": \"this\",\n",
    "                            \"name\": \"that\"})\n",
    "\n",
    "es.index(index='es0', body={\"content\": \"that\",\n",
    "                            \"name\": \"this\"})\n",
    "\n",
    "es.index(index='es0', body={\"content\": \"fuck\",\n",
    "                            \"name\": \"that this\"})\n",
    "\n",
    "es.index(index='es0', body={\"content\": \"ca\",\n",
    "                            \"name\": \"this that\"})"
   ],
   "metadata": {
    "collapsed": false,
    "pycharm": {
     "name": "#%%\n"
    }
   }
  },
  {
   "cell_type": "code",
   "execution_count": 149,
   "outputs": [
    {
     "data": {
      "text/plain": "{'took': 1,\n 'timed_out': False,\n '_shards': {'total': 1, 'successful': 1, 'skipped': 0, 'failed': 0},\n 'hits': {'total': {'value': 1, 'relation': 'eq'},\n  'max_score': 0.5753642,\n  'hits': [{'_index': 'es0',\n    '_type': '_doc',\n    '_id': 'rMnpNIYBw-CyhYObGcBv',\n    '_score': 0.5753642,\n    '_source': {'content': 'this', 'name': 'that'}}]}}"
     },
     "execution_count": 149,
     "metadata": {},
     "output_type": "execute_result"
    }
   ],
   "source": [
    "es.search(index='es0', body={\n",
    "    \"query\": {\n",
    "        \"query_string\": {\n",
    "            \"fields\": [\"content\", \"name\"],\n",
    "            \"query\": \"this AND that\",\n",
    "            # 参数含义参考`multi_match`\n",
    "            \"type\": \"best_fields\"\n",
    "        }\n",
    "    }\n",
    "})"
   ],
   "metadata": {
    "collapsed": false,
    "pycharm": {
     "name": "#%%\n"
    }
   }
  },
  {
   "cell_type": "code",
   "execution_count": 150,
   "outputs": [
    {
     "data": {
      "text/plain": "{'took': 1,\n 'timed_out': False,\n '_shards': {'total': 1, 'successful': 1, 'skipped': 0, 'failed': 0},\n 'hits': {'total': {'value': 3, 'relation': 'eq'},\n  'max_score': 1.6169648,\n  'hits': [{'_index': 'es0',\n    '_type': '_doc',\n    '_id': 'rMnpNIYBw-CyhYObGcBv',\n    '_score': 1.6169648,\n    '_source': {'content': 'this', 'name': 'that'}},\n   {'_index': 'es0',\n    '_type': '_doc',\n    '_id': 'rsnpNIYBw-CyhYObGcDD',\n    '_score': 0.62774795,\n    '_source': {'content': 'fuck', 'name': 'that this'}},\n   {'_index': 'es0',\n    '_type': '_doc',\n    '_id': 'r8npNIYBw-CyhYObGcDL',\n    '_score': 0.62774795,\n    '_source': {'content': 'ca', 'name': 'this that'}}]}}"
     },
     "execution_count": 150,
     "metadata": {},
     "output_type": "execute_result"
    }
   ],
   "source": [
    "'''\n",
    "where the status field contains active\n",
    "    status:active\n",
    "\n",
    "where the title field contains quick or brown\n",
    "    title:(quick OR brown)\n",
    "\n",
    "where the author field contains the exact phrase \"john smith\"\n",
    "    author:\"John Smith\"\n",
    "\n",
    "where the first name field contains Alice (note how we need to escape the space with a backslash)\n",
    "    first\\ name:Alice\n",
    "\n",
    "where any of the fields book.title, book.content or book.date contains quick or brown (note how we need to escape the * with a backslash):\n",
    "    book.\\*:(quick OR brown)\n",
    "'''\n",
    "es.search(index='es0', body=\n",
    "{\n",
    "    \"query\": {\n",
    "        \"query_string\": {\n",
    "            # 匹配:{'content': 'this', 'name': 'that'}}\n",
    "            # 匹配:{'content': 'fuck', 'name': 'that this'}\n",
    "            # 不匹配:{'content': 'that', 'name': 'this'}\n",
    "            \"query\": \"(content:this OR name:this) AND (name:that)\"\n",
    "        }\n",
    "    }\n",
    "})"
   ],
   "metadata": {
    "collapsed": false,
    "pycharm": {
     "name": "#%%\n"
    }
   }
  },
  {
   "cell_type": "code",
   "execution_count": 151,
   "outputs": [
    {
     "data": {
      "text/plain": "{'took': 1,\n 'timed_out': False,\n '_shards': {'total': 1, 'successful': 1, 'skipped': 0, 'failed': 0},\n 'hits': {'total': {'value': 1, 'relation': 'eq'},\n  'max_score': 0.62774795,\n  'hits': [{'_index': 'es0',\n    '_type': '_doc',\n    '_id': 'rsnpNIYBw-CyhYObGcDD',\n    '_score': 0.62774795,\n    '_source': {'content': 'fuck', 'name': 'that this'}}]}}"
     },
     "execution_count": 151,
     "metadata": {},
     "output_type": "execute_result"
    }
   ],
   "source": [
    "es.search(index='es0', body=\n",
    "{\n",
    "    \"query\": {\n",
    "        \"query_string\": {\n",
    "            # 匹配:{'content': 'fuck', 'name': 'that this'}\n",
    "            # 不匹配:{'content': 'fuck', 'name': 'this that'}\n",
    "            \"query\": 'name:\"that this\"'\n",
    "        }\n",
    "    }\n",
    "})"
   ],
   "metadata": {
    "collapsed": false,
    "pycharm": {
     "name": "#%%\n"
    }
   }
  },
  {
   "cell_type": "code",
   "execution_count": 152,
   "outputs": [
    {
     "data": {
      "text/plain": "{'acknowledged': True}"
     },
     "execution_count": 152,
     "metadata": {},
     "output_type": "execute_result"
    }
   ],
   "source": [
    "es.indices.delete('es0')"
   ],
   "metadata": {
    "collapsed": false,
    "pycharm": {
     "name": "#%%\n"
    }
   }
  },
  {
   "cell_type": "code",
   "execution_count": null,
   "outputs": [],
   "source": [],
   "metadata": {
    "collapsed": false,
    "pycharm": {
     "name": "#%%\n"
    }
   }
  }
 ],
 "metadata": {
  "kernelspec": {
   "display_name": "Python 3",
   "language": "python",
   "name": "python3"
  },
  "language_info": {
   "codemirror_mode": {
    "name": "ipython",
    "version": 2
   },
   "file_extension": ".py",
   "mimetype": "text/x-python",
   "name": "python",
   "nbconvert_exporter": "python",
   "pygments_lexer": "ipython2",
   "version": "2.7.6"
  }
 },
 "nbformat": 4,
 "nbformat_minor": 0
}