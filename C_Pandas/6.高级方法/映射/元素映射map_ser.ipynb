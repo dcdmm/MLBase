{
 "cells": [
  {
   "cell_type": "code",
   "execution_count": 28,
   "metadata": {
    "collapsed": true,
    "ExecuteTime": {
     "end_time": "2023-12-25T08:15:09.434428200Z",
     "start_time": "2023-12-25T08:15:09.347185500Z"
    }
   },
   "outputs": [],
   "source": [
    "import numpy as np\n",
    "import pandas as pd"
   ]
  },
  {
   "cell_type": "code",
   "execution_count": 29,
   "outputs": [
    {
     "data": {
      "text/plain": "0       cat\n1       dog\n2       NaN\n3    rabbit\n4       cat\ndtype: object"
     },
     "execution_count": 29,
     "metadata": {},
     "output_type": "execute_result"
    }
   ],
   "source": [
    "s = pd.Series(['cat', 'dog', np.nan, 'rabbit', 'cat'])\n",
    "s"
   ],
   "metadata": {
    "collapsed": false,
    "pycharm": {
     "name": "#%%\n"
    },
    "ExecuteTime": {
     "end_time": "2023-12-25T08:15:09.435471700Z",
     "start_time": "2023-12-25T08:15:09.361388300Z"
    }
   }
  },
  {
   "cell_type": "code",
   "execution_count": 30,
   "outputs": [
    {
     "data": {
      "text/plain": "0    kitten\n1     puppy\n2       NaN\n3       NaN\n4    kitten\ndtype: object"
     },
     "execution_count": 30,
     "metadata": {},
     "output_type": "execute_result"
    }
   ],
   "source": [
    "# Map values of Series according to an input mapping or function.\n",
    "'''\n",
    "arg : function, collections.abc.Mapping subclass or Series\n",
    "            Mapping correspondence.\n",
    "'''\n",
    "# 未出现在字典(键)的值为NaN\n",
    "s.map(arg={'cat': 'kitten', 'dog': 'puppy'})"
   ],
   "metadata": {
    "collapsed": false,
    "pycharm": {
     "name": "#%%\n"
    },
    "ExecuteTime": {
     "end_time": "2023-12-25T08:15:09.438937700Z",
     "start_time": "2023-12-25T08:15:09.377375500Z"
    }
   }
  },
  {
   "cell_type": "code",
   "execution_count": 31,
   "outputs": [
    {
     "data": {
      "text/plain": "0       cat\n1       dog\n2       NaN\n3    rabbit\n4       cat\ndtype: object"
     },
     "execution_count": 31,
     "metadata": {},
     "output_type": "execute_result"
    }
   ],
   "source": [
    "s  # s不变"
   ],
   "metadata": {
    "collapsed": false,
    "pycharm": {
     "name": "#%%\n"
    },
    "ExecuteTime": {
     "end_time": "2023-12-25T08:15:09.440020900Z",
     "start_time": "2023-12-25T08:15:09.394996400Z"
    }
   }
  },
  {
   "cell_type": "code",
   "execution_count": 32,
   "outputs": [
    {
     "data": {
      "text/plain": "0    3.0\n1    3.0\n2    NaN\n3    6.0\n4    3.0\ndtype: float64"
     },
     "execution_count": 32,
     "metadata": {},
     "output_type": "execute_result"
    }
   ],
   "source": [
    "'''\n",
    "na_action: {None, ‘ignore’}, default None\n",
    "    If ‘ignore’, propagate NaN values, without passing them to the mapping correspondence.\n",
    "'''\n",
    "s.map(arg=len, na_action='ignore')"
   ],
   "metadata": {
    "collapsed": false,
    "pycharm": {
     "name": "#%%\n"
    },
    "ExecuteTime": {
     "end_time": "2023-12-25T08:15:09.539689400Z",
     "start_time": "2023-12-25T08:15:09.409312800Z"
    }
   }
  },
  {
   "cell_type": "code",
   "execution_count": 33,
   "outputs": [
    {
     "name": "stdout",
     "output_type": "stream",
     "text": [
      "x: cat\n",
      "x: dog\n",
      "x: rabbit\n",
      "x: cat\n"
     ]
    },
    {
     "data": {
      "text/plain": "0    3.0\n1    3.0\n2    NaN\n3    6.0\n4    3.0\ndtype: float64"
     },
     "execution_count": 33,
     "metadata": {},
     "output_type": "execute_result"
    }
   ],
   "source": [
    "def length(x):\n",
    "    print(\"x:\", x)  # 不含缺失值\n",
    "    return len(x)  # 若要获取元素x对应的index,请使用apply方法\n",
    "\n",
    "\n",
    "s.map(arg=length, na_action='ignore')  # 与上等价"
   ],
   "metadata": {
    "collapsed": false,
    "pycharm": {
     "name": "#%%\n"
    },
    "ExecuteTime": {
     "end_time": "2023-12-25T08:15:09.540942800Z",
     "start_time": "2023-12-25T08:15:09.423426700Z"
    }
   }
  },
  {
   "cell_type": "code",
   "execution_count": 34,
   "outputs": [
    {
     "data": {
      "text/plain": "0                      [cat, catcat, catcatcat]\n1                      [dog, dogdog, dogdogdog]\n2                                           NaN\n3    [rabbit, rabbitrabbit, rabbitrabbitrabbit]\n4                      [cat, catcat, catcatcat]\ndtype: object"
     },
     "execution_count": 34,
     "metadata": {},
     "output_type": "execute_result"
    }
   ],
   "source": [
    "def lst(x):\n",
    "    return [x, x * 2, x * 3]\n",
    "\n",
    "\n",
    "s.map(arg=lst, na_action='ignore')"
   ],
   "metadata": {
    "collapsed": false,
    "pycharm": {
     "name": "#%%\n"
    },
    "ExecuteTime": {
     "end_time": "2023-12-25T08:15:09.541975500Z",
     "start_time": "2023-12-25T08:15:09.440020900Z"
    }
   }
  },
  {
   "cell_type": "code",
   "execution_count": 35,
   "outputs": [
    {
     "data": {
      "text/plain": "0       I am a cat\n1       I am a dog\n2       I am a nan\n3    I am a rabbit\n4       I am a cat\ndtype: object"
     },
     "execution_count": 35,
     "metadata": {},
     "output_type": "execute_result"
    }
   ],
   "source": [
    "s.map(arg='I am a {}'.format)"
   ],
   "metadata": {
    "collapsed": false,
    "pycharm": {
     "name": "#%%\n"
    },
    "ExecuteTime": {
     "end_time": "2023-12-25T08:15:09.543003800Z",
     "start_time": "2023-12-25T08:15:09.456540600Z"
    }
   }
  },
  {
   "cell_type": "code",
   "execution_count": 36,
   "outputs": [
    {
     "data": {
      "text/plain": "0       I am a cat\n1       I am a dog\n2              NaN\n3    I am a rabbit\n4       I am a cat\ndtype: object"
     },
     "execution_count": 36,
     "metadata": {},
     "output_type": "execute_result"
    }
   ],
   "source": [
    "s.map(arg='I am a {}'.format, na_action='ignore')"
   ],
   "metadata": {
    "collapsed": false,
    "pycharm": {
     "name": "#%%\n"
    },
    "ExecuteTime": {
     "end_time": "2023-12-25T08:15:09.543003800Z",
     "start_time": "2023-12-25T08:15:09.470253100Z"
    }
   }
  },
  {
   "cell_type": "code",
   "execution_count": 36,
   "outputs": [],
   "source": [],
   "metadata": {
    "collapsed": false,
    "pycharm": {
     "name": "#%%\n"
    },
    "ExecuteTime": {
     "end_time": "2023-12-25T08:15:09.599292200Z",
     "start_time": "2023-12-25T08:15:09.486924800Z"
    }
   }
  }
 ],
 "metadata": {
  "kernelspec": {
   "display_name": "Python 3",
   "language": "python",
   "name": "python3"
  },
  "language_info": {
   "codemirror_mode": {
    "name": "ipython",
    "version": 2
   },
   "file_extension": ".py",
   "mimetype": "text/x-python",
   "name": "python",
   "nbconvert_exporter": "python",
   "pygments_lexer": "ipython2",
   "version": "2.7.6"
  }
 },
 "nbformat": 4,
 "nbformat_minor": 0
}
