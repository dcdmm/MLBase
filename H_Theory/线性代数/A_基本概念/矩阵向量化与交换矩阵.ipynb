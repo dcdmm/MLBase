{
 "cells": [
  {
   "cell_type": "markdown",
   "metadata": {
    "collapsed": true,
    "pycharm": {
     "name": "#%% md\n"
    }
   },
   "source": [
    "&emsp;&emsp;矩阵$ A  \\in \\mathbf{R} $的向量化是一线性变换,它将矩阵$ A = [a_{ij}] $的元素\n",
    "按列堆栈(column stacking)排列成一个$ mn \\times 1 $向量   \n",
    "$$ \\mathrm{vec}(A) = [a_{11}, \\dots, a_{m1}, \\dots, a_{1n}, \\dots, a_{mn}]^T$$    \n",
    "&emsp;&emsp;矩阵也可以按行堆栈为行向量,称为矩阵的行向量化,用符号$\\mathrm{rvec}(A) $表示,定义为   \n",
    "$$ \\mathrm{rvec}(A)= [a_{11}, \\dots, a_{1n}, \\dots, a_{m1}, \\dots, a_{mn}]  $$       \n",
    "&emsp;&emsp;显然,矩阵的向量化和行向量化之间存在下列关系      \n",
    "$$ \\mathrm{rec}(A) = (\\mathrm{vec}(A^T))^T \\qquad  \\mathrm{vec}(A^T)=(\\mathrm{rvec}(A))^T $$   \n",
    "&emsp;&emsp;显然,对于一个$ m \\times n  $矩阵$ A$ ,向量$ \\mathrm{vec}(A) $和$ \\mathrm{vec}(A^T) $含有相同的元素,但排列\n",
    "次序不同.因此存在一个唯一的$ mn \\times mn $矩阵,可以将一个矩阵的向量化$\\mathrm{vec}(A) $变换为其转置矩阵的向量化$ \\mathrm{vec}(A^T)  $.这一\n",
    "置换矩阵称为交换矩阵(commutation matrix).记作$ K_{mn} $,定义为   \n",
    "$$ K_{mn}  \\mathrm{vec}(A) = \\mathrm{vec}(A^T)  $$   \n",
    "&emsp;&emsp;易知$ K_{nm}K_{mn} \\mathrm{vec}(A) = K_{nm}\\mathrm{vec}(A^T) = \\mathrm{vec}(A)  $由于此式对\n",
    "任意$ m \\times n $矩阵均成立,故 $ K_{nm}K_{mn} = I_{mn} $,即有$ K_{mn}^{-1} =K_{nm} $    \n",
    "\n",
    "<font color='red' size=4>$ mn \\times mn  $交换矩阵$ K_{mn}具有以下常用性质 $</font>      \n",
    "* $$ K_{mn}^T = K_{nm} $$   \n",
    "\n",
    "&emsp;&emsp;$ mn \\times mn  $交换矩阵$ K_{mn} $的构造方法如下,每一行只赋一个元素1,其他元素全部为0.首先,第1行第一个元素为1,然后\n",
    "这个1元素右移m位,变成第2行该位置的1元素.第2行该位置的1元素再右移m位,又变成第3行该位置的1元素.依此类推,找到下一行1元素的位置.然是,如果\n",
    "向右移位时超过第mn列,则应该转到下一行继续移位,并且多移1位,再在此位置赋1.例如       \n",
    "$$ K_{24} =$$\n",
    "\\begin{bmatrix}\n",
    "1 & 0 & 0 & 0 & 0 & 0 & 0 & 0 \\\\\n",
    "0 & 0 & 1 & 0 & 0 & 0 & 0 & 0 \\\\\n",
    "0 & 0 & 0 & 0 & 1 & 0 & 0 & 0 \\\\\n",
    "0 & 0 & 0 & 0 & 0 & 0 & 1 & 0 \\\\\n",
    "0 & 1 & 0 & 0 & 0 & 0 & 0 & 0 \\\\\n",
    "0 & 0 & 0 & 1 & 0 & 0 & 0 & 0 \\\\\n",
    "0 & 0 & 0 & 0 & 0 & 1 & 0 & 0 \\\\\n",
    "0 & 0 & 0 & 0 & 0 & 0 & 0 & 1 \\\\\n",
    "\\end{bmatrix}  \n",
    "\n",
    "$$ K_{42} =$$\n",
    "\\begin{bmatrix}\n",
    "1 & 0 & 0 & 0 & 0 & 0 & 0 & 0 \\\\\n",
    "0 & 0 & 0 & 0 & 1 & 0 & 0 & 0 \\\\\n",
    "0 & 1 & 0 & 0 & 0 & 0 & 0 & 0 \\\\\n",
    "0 & 0 & 0 & 0 & 0 & 1 & 0 & 0 \\\\\n",
    "0 & 0 & 1 & 0 & 0 & 0 & 0 & 0 \\\\\n",
    "0 & 0 & 0 & 0 & 0 & 0 & 1 & 0 \\\\\n",
    "0 & 0 & 0 & 1 & 0 & 0 & 0 & 0 \\\\\n",
    "0 & 0 & 0 & 0 & 0 & 0 & 0 & 1 \\\\\n",
    "\\end{bmatrix}"
   ]
  },
  {
   "cell_type": "code",
   "execution_count": 53,
   "outputs": [
    {
     "name": "stdout",
     "text": [
      "[[1 2]\n [3 4]]\n[[1 3]\n [2 4]]\n"
     ],
     "output_type": "stream"
    }
   ],
   "source": [
    "import numpy as np\n",
    "matrix = np.array([[1,2], [3,4]])\n",
    "matrix_t = matrix.T\n",
    "print(matrix)\n",
    "print(matrix_t)"
   ],
   "metadata": {
    "collapsed": false,
    "pycharm": {
     "name": "#%% \n",
     "is_executing": false
    }
   }
  },
  {
   "cell_type": "code",
   "execution_count": 54,
   "outputs": [
    {
     "data": {
      "text/plain": "array([[1],\n       [3],\n       [2],\n       [4]])"
     },
     "metadata": {},
     "output_type": "execute_result",
     "execution_count": 54
    }
   ],
   "source": [
    "vec = matrix.flatten(order='F').reshape(-1, 1) # 按列向量化\n",
    "vec # vec(A)"
   ],
   "metadata": {
    "collapsed": false,
    "pycharm": {
     "name": "#%%\n",
     "is_executing": false
    }
   }
  },
  {
   "cell_type": "code",
   "execution_count": 55,
   "outputs": [
    {
     "data": {
      "text/plain": "array([[1, 2, 3, 4]])"
     },
     "metadata": {},
     "output_type": "execute_result",
     "execution_count": 55
    }
   ],
   "source": [
    "rvec = matrix.flatten(order='C').reshape(1, -1) # 按行向量化\n",
    "rvec # rvec(A)"
   ],
   "metadata": {
    "collapsed": false,
    "pycharm": {
     "name": "#%%\n",
     "is_executing": false
    }
   }
  },
  {
   "cell_type": "code",
   "execution_count": 56,
   "outputs": [
    {
     "data": {
      "text/plain": "array([[1, 2, 3, 4]])"
     },
     "metadata": {},
     "output_type": "execute_result",
     "execution_count": 56
    }
   ],
   "source": [
    "matrix_t.flatten(order='F').reshape(-1, 1).T # vec(A.T).T "
   ],
   "metadata": {
    "collapsed": false,
    "pycharm": {
     "name": "#%%\n",
     "is_executing": false
    }
   }
  },
  {
   "cell_type": "code",
   "execution_count": 51,
   "outputs": [
    {
     "name": "stdout",
     "text": [
      "[[1. 0. 0. 0. 0. 0. 0. 0.]\n [0. 0. 1. 0. 0. 0. 0. 0.]\n [0. 0. 0. 0. 1. 0. 0. 0.]\n [0. 0. 0. 0. 0. 0. 1. 0.]\n [0. 1. 0. 0. 0. 0. 0. 0.]\n [0. 0. 0. 1. 0. 0. 0. 0.]\n [0. 0. 0. 0. 0. 1. 0. 0.]\n [0. 0. 0. 0. 0. 0. 0. 1.]]\n"
     ],
     "output_type": "stream"
    }
   ],
   "source": [
    "def commutaion_matrix(m, n):\n",
    "    \"\"\"构造交换矩阵\"\"\"\n",
    "    shape = m*n\n",
    "    ma = np.zeros((shape, shape))\n",
    "    columns = 0\n",
    "    for i in range(shape):\n",
    "        ma[i, columns] = 1\n",
    "        columns += m\n",
    "        if columns > shape-1:\n",
    "            columns = columns + 1 - shape\n",
    "    \n",
    "    return ma\n",
    "\n",
    "\n",
    "print(commutaion_matrix(2, 4))"
   ],
   "metadata": {
    "collapsed": false,
    "pycharm": {
     "name": "#%%\n",
     "is_executing": false
    }
   }
  },
  {
   "cell_type": "code",
   "execution_count": null,
   "outputs": [],
   "source": [
    "\n"
   ],
   "metadata": {
    "collapsed": false,
    "pycharm": {
     "name": "#%%\n"
    }
   }
  }
 ],
 "metadata": {
  "kernelspec": {
   "display_name": "Python 3",
   "language": "python",
   "name": "python3"
  },
  "language_info": {
   "codemirror_mode": {
    "name": "ipython",
    "version": 2
   },
   "file_extension": ".py",
   "mimetype": "text/x-python",
   "name": "python",
   "nbconvert_exporter": "python",
   "pygments_lexer": "ipython2",
   "version": "2.7.6"
  },
  "pycharm": {
   "stem_cell": {
    "cell_type": "raw",
    "source": [],
    "metadata": {
     "collapsed": false
    }
   }
  }
 },
 "nbformat": 4,
 "nbformat_minor": 0
}