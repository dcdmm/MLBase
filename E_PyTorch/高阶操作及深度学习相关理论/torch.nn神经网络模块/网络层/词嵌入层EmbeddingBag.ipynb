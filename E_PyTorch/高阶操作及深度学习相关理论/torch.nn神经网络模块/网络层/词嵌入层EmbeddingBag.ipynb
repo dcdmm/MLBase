{
 "cells": [
  {
   "cell_type": "code",
   "execution_count": 25,
   "metadata": {
    "collapsed": true
   },
   "outputs": [],
   "source": [
    "import torch\n",
    "import torch.nn as nn"
   ]
  },
  {
   "cell_type": "code",
   "execution_count": 26,
   "outputs": [
    {
     "data": {
      "text/plain": "tensor([[-1.5703,  2.4495,  0.6793],\n        [-1.6527, -1.1441, -0.8045]], grad_fn=<EmbeddingBagBackward0>)"
     },
     "execution_count": 26,
     "metadata": {},
     "output_type": "execute_result"
    }
   ],
   "source": [
    "# 参数函数与Embedding完全相同\n",
    "embedding_sum = nn.EmbeddingBag(10, 3, mode='sum')\n",
    "\n",
    "input = torch.tensor([1, 2, 4, 5, 4, 3, 2, 9], dtype=torch.long)\n",
    "offsets = torch.tensor([0, 4], dtype=torch.long)\n",
    "\n",
    "\"\"\"\n",
    "offsets (Tensor, optional) –\n",
    "    Only used when input is 1D. offsets determines the starting index position of each bag (sequence) in input.\n",
    "\"\"\"\n",
    "embedding_sum(input=input,\n",
    "              offsets=offsets)  # 确定每个序列序列的起始索引位置"
   ],
   "metadata": {
    "collapsed": false,
    "pycharm": {
     "name": "#%%\n"
    }
   }
  },
  {
   "cell_type": "code",
   "execution_count": 27,
   "outputs": [
    {
     "data": {
      "text/plain": "tensor([[-1.5703,  2.4495,  0.6793],\n        [-1.6527, -1.1441, -0.8045]], grad_fn=<EmbeddingBagBackward0>)"
     },
     "execution_count": 27,
     "metadata": {},
     "output_type": "execute_result"
    }
   ],
   "source": [
    "# 与上等价\n",
    "input_1 = torch.tensor([[1, 2, 4, 5],\n",
    "                        [4, 3, 2, 9]])\n",
    "embedding_sum(input_1)"
   ],
   "metadata": {
    "collapsed": false,
    "pycharm": {
     "name": "#%%\n"
    }
   }
  },
  {
   "cell_type": "markdown",
   "source": [
    "* with mode=\"sum\" is equivalent to Embedding followed by torch.sum(dim=1),\n",
    "\n",
    "* with mode=\"mean\" is equivalent to Embedding followed by torch.mean(dim=1),\n",
    "\n",
    "* with mode=\"max\" is equivalent to Embedding followed by torch.max(dim=1)."
   ],
   "metadata": {
    "collapsed": false,
    "pycharm": {
     "name": "#%% md\n"
    }
   }
  },
  {
   "cell_type": "code",
   "execution_count": 28,
   "outputs": [
    {
     "name": "stdout",
     "output_type": "stream",
     "text": [
      "tensor([[2.5000, 3.7000, 4.6500]])\n",
      "tensor([[5.0000, 7.4000, 9.3000]])\n",
      "tensor([[4.0000, 5.1000, 6.3000]])\n",
      "tensor([[[4.0000, 5.1000, 6.3000],\n",
      "         [1.0000, 2.3000, 3.0000]]])\n"
     ]
    }
   ],
   "source": [
    "weight = torch.tensor([[1, 2.3, 3],\n",
    "                       [4, 5.1, 6.3]])\n",
    "input = torch.tensor([[1, 0]])\n",
    "\n",
    "embeddingbag_mean = nn.EmbeddingBag.from_pretrained(weight, mode=\"mean\")(input)  # 默认mode='mean'\n",
    "embeddingbag_max = nn.EmbeddingBag.from_pretrained(weight, mode='sum')(input)\n",
    "embeddingbag_sum = nn.EmbeddingBag.from_pretrained(weight, mode='max')(input)\n",
    "embedding = nn.Embedding.from_pretrained(weight)(input)\n",
    "\n",
    "print(embeddingbag_mean)\n",
    "print(embeddingbag_max)\n",
    "print(embeddingbag_sum)\n",
    "print(embedding)"
   ],
   "metadata": {
    "collapsed": false,
    "pycharm": {
     "name": "#%%\n"
    }
   }
  },
  {
   "cell_type": "code",
   "execution_count": 28,
   "outputs": [],
   "source": [],
   "metadata": {
    "collapsed": false,
    "pycharm": {
     "name": "#%%\n"
    }
   }
  }
 ],
 "metadata": {
  "kernelspec": {
   "display_name": "Python 3",
   "language": "python",
   "name": "python3"
  },
  "language_info": {
   "codemirror_mode": {
    "name": "ipython",
    "version": 2
   },
   "file_extension": ".py",
   "mimetype": "text/x-python",
   "name": "python",
   "nbconvert_exporter": "python",
   "pygments_lexer": "ipython2",
   "version": "2.7.6"
  }
 },
 "nbformat": 4,
 "nbformat_minor": 0
}