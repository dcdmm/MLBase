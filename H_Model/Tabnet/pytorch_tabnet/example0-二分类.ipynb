{
 "cells": [
  {
   "cell_type": "code",
   "execution_count": 131,
   "metadata": {
    "collapsed": true,
    "pycharm": {
     "name": "#%%\n"
    }
   },
   "outputs": [],
   "source": [
    "from pytorch_tabnet.tab_model import TabNetClassifier\n",
    "from sklearn.preprocessing import LabelEncoder\n",
    "from sklearn.metrics import roc_auc_score\n",
    "import pandas as pd\n",
    "import numpy as np\n",
    "import matplotlib.pyplot as plt\n",
    "import torch\n",
    "import torch.nn.functional as F\n",
    "% matplotlib inline"
   ]
  },
  {
   "cell_type": "markdown",
   "source": [
    "### 数据处理"
   ],
   "metadata": {
    "collapsed": false,
    "pycharm": {
     "name": "#%% md\n"
    }
   }
  },
  {
   "cell_type": "code",
   "execution_count": null,
   "outputs": [],
   "source": [
    "train = pd.read_csv('data/census-income.csv')\n",
    "train"
   ],
   "metadata": {
    "collapsed": false,
    "pycharm": {
     "name": "#%%\n"
    }
   }
  },
  {
   "cell_type": "code",
   "execution_count": null,
   "outputs": [],
   "source": [
    "if \"Set\" not in train.columns:\n",
    "    train[\"Set\"] = np.random.choice([\"train\", \"valid\", \"test\"], p=[.8, .1, .1],\n",
    "                                    size=(train.shape[0],))\n",
    "\n",
    "train_indices = train[train.loc[:, \"Set\"] == \"train\"].index  # 训练数据集索引\n",
    "valid_indices = train[train.loc[:, \"Set\"] == \"valid\"].index  # 验证数据集索引\n",
    "test_indices = train[train.loc[:, \"Set\"] == \"test\"].index  # 测试数据集索引"
   ],
   "metadata": {
    "collapsed": false,
    "pycharm": {
     "name": "#%%\n"
    }
   }
  },
  {
   "cell_type": "code",
   "execution_count": null,
   "outputs": [],
   "source": [
    "nunique = train.nunique()\n",
    "nunique"
   ],
   "metadata": {
    "collapsed": false,
    "pycharm": {
     "name": "#%%\n"
    }
   }
  },
  {
   "cell_type": "code",
   "execution_count": null,
   "outputs": [],
   "source": [
    "types = train.dtypes\n",
    "types"
   ],
   "metadata": {
    "collapsed": false,
    "pycharm": {
     "name": "#%%\n"
    }
   }
  },
  {
   "cell_type": "code",
   "execution_count": null,
   "outputs": [],
   "source": [
    "categorical_columns = []  # 分类特征\n",
    "categorical_dims = {}  # 分类特征和该特征唯一值数量\n",
    "for col in train.columns:\n",
    "    # 分类特征处理\n",
    "    if types[col] == 'object' or nunique[col] < 200:\n",
    "        print(col, train[col].nunique())\n",
    "        l_enc = LabelEncoder()  # 标签二值化\n",
    "        train[col] = train[col].fillna(\"VV_likely\")\n",
    "        train[col] = l_enc.fit_transform(train[col].values)\n",
    "        categorical_columns.append(col)\n",
    "        categorical_dims[col] = len(l_enc.classes_)\n",
    "    else:\n",
    "        # 非分类特征缺失值处理\n",
    "        train.fillna(train.loc[train_indices, col].mean(), inplace=True)\n",
    "\n",
    "print(categorical_columns)\n",
    "print(categorical_dims)"
   ],
   "metadata": {
    "collapsed": false,
    "pycharm": {
     "name": "#%%\n"
    }
   }
  },
  {
   "cell_type": "code",
   "execution_count": 110,
   "outputs": [],
   "source": [
    "# 标签处理\n",
    "target = ' <=50K'\n",
    "train.loc[train[target] == 0, target] = \"wealthy\"\n",
    "train.loc[train[target] == 1, target] = \"not_wealthy\""
   ],
   "metadata": {
    "collapsed": false,
    "pycharm": {
     "name": "#%%\n"
    }
   }
  },
  {
   "cell_type": "code",
   "execution_count": 111,
   "outputs": [],
   "source": [
    "unused_feat = ['Set']\n",
    "\n",
    "# 特征\n",
    "features = [col for col in train.columns if col not in unused_feat + [target]]\n",
    "\n",
    "# 分类特征id\n",
    "cat_idxs = [i for i, f in enumerate(features) if f in categorical_columns]\n",
    "\n",
    "# 每个分类特征唯一值数量\n",
    "cat_dims = [categorical_dims[f] for i, f in enumerate(features) if f in categorical_columns]"
   ],
   "metadata": {
    "collapsed": false,
    "pycharm": {
     "name": "#%%\n"
    }
   }
  },
  {
   "cell_type": "code",
   "execution_count": 112,
   "outputs": [],
   "source": [
    "X_train = train[features].values[train_indices]\n",
    "y_train = train[target].values[train_indices]\n",
    "\n",
    "X_valid = train[features].values[valid_indices]\n",
    "y_valid = train[target].values[valid_indices]\n",
    "\n",
    "X_test = train[features].values[test_indices]\n",
    "y_test = train[target].values[test_indices]"
   ],
   "metadata": {
    "collapsed": false,
    "pycharm": {
     "name": "#%%\n"
    }
   }
  },
  {
   "cell_type": "code",
   "execution_count": 113,
   "outputs": [],
   "source": [
    "### TabNetClassifier模型"
   ],
   "metadata": {
    "collapsed": false,
    "pycharm": {
     "name": "#%%\n"
    }
   }
  },
  {
   "cell_type": "code",
   "execution_count": 114,
   "outputs": [
    {
     "name": "stdout",
     "output_type": "stream",
     "text": [
      "Device used : cuda\n"
     ]
    },
    {
     "data": {
      "text/plain": "TabNetClassifier(n_d=8, n_a=8, n_steps=3, gamma=1.3, cat_idxs=[0, 1, 3, 4, 5, 6, 7, 8, 9, 10, 11, 12, 13], cat_dims=[73, 9, 16, 16, 7, 15, 6, 5, 2, 119, 92, 94, 42], cat_emb_dim=1, n_independent=2, n_shared=2, epsilon=1e-15, momentum=0.02, lambda_sparse=0.001, seed=0, clip_value=1, verbose=1, optimizer_fn=<class 'torch.optim.adam.Adam'>, optimizer_params={'lr': 0.02}, scheduler_fn=<class 'torch.optim.lr_scheduler.StepLR'>, scheduler_params={'step_size': 50, 'gamma': 0.9}, mask_type='entmax', input_dim=None, output_dim=None, device_name='auto')"
     },
     "execution_count": 114,
     "metadata": {},
     "output_type": "execute_result"
    }
   ],
   "source": [
    "clf = TabNetClassifier(\n",
    "    # 分类特征索引列表;默认值[]\n",
    "    cat_idxs=cat_idxs,\n",
    "    # 每个分类特征唯一值数量;默认值[]\n",
    "    cat_dims=cat_dims,\n",
    "    # pytorch优化器;默认torch.optim.Adam\n",
    "    optimizer_fn=torch.optim.Adam,\n",
    "    # pytorch优化器参数\n",
    "    optimizer_params=dict(lr=2e-2),\n",
    "    # pytorch学习率调整\n",
    "    scheduler_fn=torch.optim.lr_scheduler.StepLR,\n",
    "    # pytorch学习率调整对于参数\n",
    "    scheduler_params={\"step_size\": 50,  # how to use learning rate scheduler\n",
    "                      \"gamma\": 0.9},\n",
    "    # this is the masking function to use for selecting features.\n",
    "    # (default='sparsemax') Either \"sparsemax\" or \"entmax\"\n",
    "    mask_type='entmax'\n",
    ")\n",
    "clf"
   ],
   "metadata": {
    "collapsed": false,
    "pycharm": {
     "name": "#%%\n"
    }
   }
  },
  {
   "cell_type": "code",
   "execution_count": 118,
   "outputs": [
    {
     "name": "stdout",
     "output_type": "stream",
     "text": [
      "epoch 0  | loss: 0.31273 | train_auc: 0.93558 | valid_auc: 0.92262 |  0:00:30s\n",
      "epoch 1  | loss: 0.31627 | train_auc: 0.93776 | valid_auc: 0.92528 |  0:00:41s\n",
      "epoch 2  | loss: 0.31923 | train_auc: 0.93342 | valid_auc: 0.9225  |  0:00:52s\n",
      "epoch 3  | loss: 0.32288 | train_auc: 0.90464 | valid_auc: 0.88927 |  0:01:03s\n",
      "epoch 4  | loss: 0.3189  | train_auc: 0.93742 | valid_auc: 0.92767 |  0:01:14s\n",
      "epoch 5  | loss: 0.31342 | train_auc: 0.93917 | valid_auc: 0.92622 |  0:01:45s\n",
      "epoch 6  | loss: 0.3203  | train_auc: 0.93865 | valid_auc: 0.92368 |  0:01:57s\n",
      "epoch 7  | loss: 0.31095 | train_auc: 0.93978 | valid_auc: 0.92713 |  0:02:08s\n",
      "epoch 8  | loss: 0.31703 | train_auc: 0.93965 | valid_auc: 0.92645 |  0:02:19s\n",
      "epoch 9  | loss: 0.31638 | train_auc: 0.93729 | valid_auc: 0.92558 |  0:02:30s\n",
      "epoch 10 | loss: 0.31126 | train_auc: 0.9393  | valid_auc: 0.92603 |  0:02:42s\n",
      "epoch 11 | loss: 0.31416 | train_auc: 0.94012 | valid_auc: 0.92589 |  0:02:53s\n",
      "epoch 12 | loss: 0.30375 | train_auc: 0.94093 | valid_auc: 0.92655 |  0:03:04s\n",
      "epoch 13 | loss: 0.30976 | train_auc: 0.94101 | valid_auc: 0.92493 |  0:03:15s\n",
      "epoch 14 | loss: 0.30697 | train_auc: 0.9406  | valid_auc: 0.92618 |  0:03:49s\n",
      "epoch 15 | loss: 0.30944 | train_auc: 0.94065 | valid_auc: 0.92479 |  0:04:00s\n",
      "epoch 16 | loss: 0.31219 | train_auc: 0.94154 | valid_auc: 0.92497 |  0:04:11s\n",
      "epoch 17 | loss: 0.3089  | train_auc: 0.94143 | valid_auc: 0.92394 |  0:04:23s\n",
      "epoch 18 | loss: 0.30814 | train_auc: 0.93589 | valid_auc: 0.92157 |  0:04:34s\n",
      "epoch 19 | loss: 0.31546 | train_auc: 0.93936 | valid_auc: 0.92338 |  0:04:45s\n",
      "epoch 20 | loss: 0.30315 | train_auc: 0.94063 | valid_auc: 0.92358 |  0:04:57s\n",
      "epoch 21 | loss: 0.3078  | train_auc: 0.94115 | valid_auc: 0.92412 |  0:05:08s\n",
      "epoch 22 | loss: 0.30831 | train_auc: 0.94152 | valid_auc: 0.92332 |  0:05:19s\n",
      "epoch 23 | loss: 0.31069 | train_auc: 0.94161 | valid_auc: 0.92621 |  0:05:30s\n",
      "epoch 24 | loss: 0.30963 | train_auc: 0.94252 | valid_auc: 0.92372 |  0:06:01s\n",
      "\n",
      "Early stopping occurred at epoch 24 with best_epoch = 4 and best_valid_auc = 0.92767\n",
      "Best weights from best epoch are automatically used!\n"
     ]
    }
   ],
   "source": [
    "clf.fit(\n",
    "    X_train=X_train,\n",
    "    y_train=y_train,\n",
    "    # List of eval tuple set (X, y).\n",
    "    eval_set=[(X_train, y_train), (X_valid, y_valid)],\n",
    "    # List of eval set names.\n",
    "    eval_name=['train', 'valid'],\n",
    "    # List of evaluation metrics.\n",
    "    # The last metric is used for early stopping.\n",
    "    # binary classification metrics : 'auc', 'accuracy', 'balanced_accuracy', 'logloss'\n",
    "    # multiclass classification : 'accuracy', 'balanced_accuracy', 'logloss'\n",
    "    # regression: 'mse', 'mae', 'rmse', 'rmsle'\n",
    "    eval_metric=['auc'],\n",
    "    # oss function for training (default to mse for regression and cross entropy for classification)\n",
    "    loss_fn=F.cross_entropy,\n",
    "    # Maximum number of epochs for trainng.\n",
    "    max_epochs=1000,  # 默认值200\n",
    "    # Number of consecutive epochs without improvement before performing early stopping.\n",
    "    patience=20,  # 默认值15\n",
    "    # Number of examples per batch. Large batch sizes are recommended.\n",
    "    batch_size=1024,  # 默认值1024\n",
    "    # Number or workers used in torch.utils.data.Dataloader\n",
    "    num_workers=2,  # 默认值0\n",
    "    # Only for TabNetClassifier Sampling parameter 0 : no sampling 1 : automated sampling with inverse class occurrences dict : keys are classes, values are weights for each class\n",
    "    weights=1,\n",
    "    # Whether to drop last batch if not complete during training\n",
    "    drop_last=False  # 默认值false\n",
    ")"
   ],
   "metadata": {
    "collapsed": false,
    "pycharm": {
     "name": "#%%\n"
    }
   }
  },
  {
   "cell_type": "markdown",
   "source": [
    "### 结果分析"
   ],
   "metadata": {
    "collapsed": false,
    "pycharm": {
     "name": "#%% md\n"
    }
   }
  },
  {
   "cell_type": "code",
   "execution_count": null,
   "outputs": [],
   "source": [
    "clf.history"
   ],
   "metadata": {
    "collapsed": false,
    "pycharm": {
     "name": "#%%\n"
    }
   }
  },
  {
   "cell_type": "code",
   "execution_count": 120,
   "outputs": [
    {
     "data": {
      "text/plain": "[<matplotlib.lines.Line2D at 0x14fad120dc0>]"
     },
     "execution_count": 120,
     "metadata": {},
     "output_type": "execute_result"
    },
    {
     "data": {
      "text/plain": "<Figure size 432x288 with 1 Axes>",
      "image/png": "[encoded data removed]"
     },
     "metadata": {
      "needs_background": "light"
     },
     "output_type": "display_data"
    }
   ],
   "source": [
    "# plot losses\n",
    "plt.plot(clf.history['loss'])"
   ],
   "metadata": {
    "collapsed": false,
    "pycharm": {
     "name": "#%%\n"
    }
   }
  },
  {
   "cell_type": "code",
   "execution_count": 123,
   "outputs": [
    {
     "data": {
      "text/plain": "<matplotlib.legend.Legend at 0x14fbeed9550>"
     },
     "execution_count": 123,
     "metadata": {},
     "output_type": "execute_result"
    },
    {
     "data": {
      "text/plain": "<Figure size 432x288 with 1 Axes>",
      "image/png": "[encoded data removed]"
     },
     "metadata": {
      "needs_background": "light"
     },
     "output_type": "display_data"
    }
   ],
   "source": [
    "# plot auc\n",
    "plt.plot(clf.history['train_auc'], label=\"train_auc\")\n",
    "plt.plot(clf.history['valid_auc'], label=\"valid_auc\")\n",
    "plt.legend()"
   ],
   "metadata": {
    "collapsed": false,
    "pycharm": {
     "name": "#%%\n"
    }
   }
  },
  {
   "cell_type": "code",
   "execution_count": 122,
   "outputs": [
    {
     "data": {
      "text/plain": "[<matplotlib.lines.Line2D at 0x14fbaf3a340>]"
     },
     "execution_count": 122,
     "metadata": {},
     "output_type": "execute_result"
    },
    {
     "data": {
      "text/plain": "<Figure size 432x288 with 1 Axes>",
      "image/png": "[encoded data removed]"
     },
     "metadata": {
      "needs_background": "light"
     },
     "output_type": "display_data"
    }
   ],
   "source": [
    "# plot learning rates\n",
    "plt.plot(clf.history['lr'])"
   ],
   "metadata": {
    "collapsed": false,
    "pycharm": {
     "name": "#%%\n"
    }
   }
  },
  {
   "cell_type": "code",
   "execution_count": 127,
   "outputs": [
    {
     "name": "stdout",
     "output_type": "stream",
     "text": [
      "BEST VALID SCORE FOR census-income : 0.9276657993935479\n",
      "FINAL TEST SCORE FOR census-income : 0.9247857504228778\n"
     ]
    }
   ],
   "source": [
    "dataset_name = 'census-income'\n",
    "preds = clf.predict_proba(X_test)\n",
    "test_auc = roc_auc_score(y_score=preds[:, 1], y_true=y_test)\n",
    "\n",
    "preds_valid = clf.predict_proba(X_valid)\n",
    "valid_auc = roc_auc_score(y_score=preds_valid[:, 1], y_true=y_valid)\n",
    "\n",
    "print(f\"BEST VALID SCORE FOR {dataset_name} : {clf.best_cost}\")\n",
    "print(f\"FINAL TEST SCORE FOR {dataset_name} : {test_auc}\")"
   ],
   "metadata": {
    "collapsed": false,
    "pycharm": {
     "name": "#%%\n"
    }
   }
  },
  {
   "cell_type": "code",
   "execution_count": 132,
   "outputs": [
    {
     "data": {
      "text/plain": "array(['not_wealthy', 'not_wealthy', 'wealthy', ..., 'not_wealthy',\n       'wealthy', 'wealthy'], dtype='<U11')"
     },
     "execution_count": 132,
     "metadata": {},
     "output_type": "execute_result"
    }
   ],
   "source": [
    "clf.predict(X_test)"
   ],
   "metadata": {
    "collapsed": false,
    "pycharm": {
     "name": "#%%\n"
    }
   }
  },
  {
   "cell_type": "code",
   "execution_count": 139,
   "outputs": [
    {
     "data": {
      "text/plain": "array([9.96654166e-02, 1.10205676e-02, 4.35952822e-05, 9.59305451e-02,\n       2.82291796e-02, 1.52706929e-01, 1.07018043e-01, 1.24005704e-01,\n       2.50945580e-02, 3.47026322e-02, 1.93938960e-01, 6.85843127e-02,\n       4.87449188e-02, 1.03146381e-02])"
     },
     "execution_count": 139,
     "metadata": {},
     "output_type": "execute_result"
    }
   ],
   "source": [
    "# 特征的想对重要性\n",
    "clf.feature_importances_"
   ],
   "metadata": {
    "collapsed": false,
    "pycharm": {
     "name": "#%%\n"
    }
   }
  },
  {
   "cell_type": "markdown",
   "source": [
    "### 保存和加载模型"
   ],
   "metadata": {
    "collapsed": false,
    "pycharm": {
     "name": "#%% md\n"
    }
   }
  },
  {
   "cell_type": "code",
   "execution_count": null,
   "outputs": [],
   "source": [
    "# save tabnet model\n",
    "saving_path_name = \"./tabnet_model_test_1\"\n",
    "saved_filepath = clf.save_model(saving_path_name)"
   ],
   "metadata": {
    "collapsed": false,
    "pycharm": {
     "name": "#%%\n"
    }
   }
  },
  {
   "cell_type": "code",
   "execution_count": 134,
   "outputs": [
    {
     "name": "stdout",
     "output_type": "stream",
     "text": [
      "Device used : cuda\n",
      "Device used : cuda\n"
     ]
    }
   ],
   "source": [
    "# define new model with basic parameters and load state dict weights\n",
    "loaded_clf = TabNetClassifier()\n",
    "loaded_clf.load_model(saved_filepath)"
   ],
   "metadata": {
    "collapsed": false,
    "pycharm": {
     "name": "#%%\n"
    }
   }
  },
  {
   "cell_type": "code",
   "execution_count": 138,
   "outputs": [
    {
     "name": "stdout",
     "output_type": "stream",
     "text": [
      "FINAL TEST SCORE FOR census-income : 0.9279809692206273\n",
      "['not_wealthy' 'not_wealthy' 'wealthy' ... 'not_wealthy' 'wealthy'\n",
      " 'wealthy']\n"
     ]
    }
   ],
   "source": [
    "loaded_preds = loaded_clf.predict_proba(X_test)\n",
    "loaded_test_auc = roc_auc_score(y_score=loaded_preds[:, 1], y_true=y_test)\n",
    "\n",
    "print(f\"FINAL TEST SCORE FOR {dataset_name} : {loaded_test_auc}\")\n",
    "print(loaded_clf.predict(X_test))\n"
   ],
   "metadata": {
    "collapsed": false,
    "pycharm": {
     "name": "#%%\n"
    }
   }
  }
 ],
 "metadata": {
  "kernelspec": {
   "display_name": "Python 3",
   "language": "python",
   "name": "python3"
  },
  "language_info": {
   "codemirror_mode": {
    "name": "ipython",
    "version": 2
   },
   "file_extension": ".py",
   "mimetype": "text/x-python",
   "name": "python",
   "nbconvert_exporter": "python",
   "pygments_lexer": "ipython2",
   "version": "2.7.6"
  }
 },
 "nbformat": 4,
 "nbformat_minor": 0
}