{
 "cells": [
  {
   "cell_type": "code",
   "execution_count": 1,
   "metadata": {
    "collapsed": true
   },
   "outputs": [],
   "source": [
    "import torch.nn as nn\n",
    "import torch.optim as optim\n",
    "from torchvision import datasets, transforms\n",
    "import torch.utils.data as Data\n",
    "import torch"
   ]
  },
  {
   "cell_type": "code",
   "execution_count": 2,
   "metadata": {
    "pycharm": {
     "name": "#%%\n"
    }
   },
   "outputs": [],
   "source": [
    "batch_size = 200\n",
    "\n",
    "train_data = datasets.MNIST('../../../../Other/datasets/PyTorch',\n",
    "                            train=True,\n",
    "                            transform=transforms.Compose([\n",
    "                                transforms.ToTensor(),\n",
    "                                transforms.Normalize((0.1307,), (0.3081,))\n",
    "                            ]))\n",
    "\n",
    "test_data = datasets.MNIST('../../../../Other/datasets/PyTorch',\n",
    "                           train=False,\n",
    "                           transform=transforms.Compose([\n",
    "                               transforms.ToTensor(),\n",
    "                               transforms.Normalize((0.1307,), (0.3081,))\n",
    "                           ]))\n",
    "\n",
    "# 手写数字训练数据集\n",
    "train_loader = Data.DataLoader(dataset=train_data,\n",
    "                               batch_size=batch_size,\n",
    "                               shuffle=True)\n",
    "\n",
    "# 手写数字测试数据集\n",
    "test_loader = Data.DataLoader(dataset=test_data,\n",
    "                              batch_size=batch_size,\n",
    "                              shuffle=True)"
   ]
  },
  {
   "cell_type": "code",
   "execution_count": 3,
   "metadata": {
    "pycharm": {
     "name": "#%%\n"
    }
   },
   "outputs": [],
   "source": [
    "class LeNet(nn.Module):\n",
    "    def __init__(self):\n",
    "        super(LeNet, self).__init__()\n",
    "        self.featrues = nn.Sequential(  # 内部实现了forward函数;各模块顺序执行\n",
    "            nn.Conv2d(1, 6, 3),\n",
    "            nn.ReLU(),\n",
    "            nn.MaxPool2d(2, 2),\n",
    "            nn.Conv2d(6, 16, 3),\n",
    "            nn.ReLU(),\n",
    "            nn.MaxPool2d(2, 2)\n",
    "        )\n",
    "        self.classifier = nn.Sequential(\n",
    "            nn.Linear(400, 120),\n",
    "            nn.ReLU(),\n",
    "            nn.Linear(120, 84),\n",
    "            nn.ReLU(),\n",
    "            nn.Linear(84, 10),  # 10分类问题\n",
    "        )\n",
    "\n",
    "    def forward(self, x):\n",
    "        x = self.featrues(x)\n",
    "        x = x.reshape(x.size()[0], -1)\n",
    "        x = self.classifier(x)\n",
    "        return x"
   ]
  },
  {
   "cell_type": "code",
   "execution_count": 4,
   "metadata": {
    "pycharm": {
     "name": "#%%\n"
    }
   },
   "outputs": [],
   "source": [
    "learning_rate = 0.01\n",
    "epochs = 5\n",
    "criteon = nn.CrossEntropyLoss()  # 定义损失函数为交叉熵\n",
    "device = torch.device(\"cuda\" if torch.cuda.is_available() else \"cpu\")\n",
    "net = LeNet()\n",
    "lenet = net.to(device)  # 模型设备转移必须在优化器定义前执行\n",
    "\n",
    "# 多参数组的SGD优化器\n",
    "optimizer = optim.SGD([dict(params=net.featrues.parameters(), momentum=0.9),\n",
    "                       dict(params=net.classifier.parameters(),\n",
    "                            momentum=0.95,  # 动量参数\\alpha;默认momentum=0\n",
    "                            nesterov=True)],  # 是否启用Nesterov动量\n",
    "                      lr=learning_rate)  # 学习率"
   ]
  },
  {
   "cell_type": "code",
   "execution_count": 5,
   "outputs": [
    {
     "data": {
      "text/plain": "torch.Size([60000, 1, 28, 28])"
     },
     "execution_count": 5,
     "metadata": {},
     "output_type": "execute_result"
    }
   ],
   "source": [
    "transforms_data = []\n",
    "for i, j in train_data:\n",
    "    transforms_data.append(i.tolist())\n",
    "transforms_data_ten = torch.tensor(transforms_data)\n",
    "transforms_data_ten.shape"
   ],
   "metadata": {
    "collapsed": false,
    "pycharm": {
     "name": "#%%\n"
    }
   }
  },
  {
   "cell_type": "code",
   "execution_count": 6,
   "outputs": [],
   "source": [
    "transforms_data_loader = Data.DataLoader(transforms_data_ten, batch_size=200, shuffle=True)\n",
    "y_label = train_loader.dataset.targets"
   ],
   "metadata": {
    "collapsed": false,
    "pycharm": {
     "name": "#%%\n"
    }
   }
  },
  {
   "cell_type": "code",
   "execution_count": 7,
   "outputs": [],
   "source": [
    "from torch_model.train_evaluate import Train_Evaluate\n",
    "\n",
    "t_and_v = Train_Evaluate(model=lenet, optimizer=optimizer, criterion=criteon, epochs=5)"
   ],
   "metadata": {
    "collapsed": false,
    "pycharm": {
     "name": "#%%\n"
    }
   }
  },
  {
   "cell_type": "code",
   "execution_count": 8,
   "outputs": [
    {
     "name": "stderr",
     "output_type": "stream",
     "text": [
      "C:\\Users\\duanm\\anaconda3\\lib\\site-packages\\torch\\nn\\functional.py:718: UserWarning: Named tensors and all their associated APIs are an experimental feature and subject to change. Please do not use them for anything important until they are released as stable. (Triggered internally at  ..\\c10/core/TensorImpl.h:1156.)\n",
      "  return torch.max_pool2d(input, kernel_size, stride, padding, dilation, ceil_mode)\n"
     ]
    },
    {
     "name": "stdout",
     "output_type": "stream",
     "text": [
      "Train Epoch: 0  [0    /60000 (0  %)]\tLoss: 2.288614\n",
      "Train Epoch: 0  [2000 /60000 (3  %)]\tLoss: 2.294754\n",
      "Train Epoch: 0  [4000 /60000 (7  %)]\tLoss: 2.274831\n",
      "Train Epoch: 0  [6000 /60000 (10 %)]\tLoss: 2.238443\n",
      "Train Epoch: 0  [8000 /60000 (13 %)]\tLoss: 2.136668\n",
      "Train Epoch: 0  [10000/60000 (17 %)]\tLoss: 1.879867\n",
      "Train Epoch: 0  [12000/60000 (20 %)]\tLoss: 0.995124\n",
      "Train Epoch: 0  [14000/60000 (23 %)]\tLoss: 0.875213\n",
      "Train Epoch: 0  [16000/60000 (27 %)]\tLoss: 0.511748\n",
      "Train Epoch: 0  [18000/60000 (30 %)]\tLoss: 0.475811\n",
      "Train Epoch: 0  [20000/60000 (33 %)]\tLoss: 0.276004\n",
      "Train Epoch: 0  [22000/60000 (37 %)]\tLoss: 0.379357\n",
      "Train Epoch: 0  [24000/60000 (40 %)]\tLoss: 0.287552\n",
      "Train Epoch: 0  [26000/60000 (43 %)]\tLoss: 0.342058\n",
      "Train Epoch: 0  [28000/60000 (47 %)]\tLoss: 0.176625\n",
      "Train Epoch: 0  [30000/60000 (50 %)]\tLoss: 0.255112\n",
      "Train Epoch: 0  [32000/60000 (53 %)]\tLoss: 0.152837\n",
      "Train Epoch: 0  [34000/60000 (57 %)]\tLoss: 0.161829\n",
      "Train Epoch: 0  [36000/60000 (60 %)]\tLoss: 0.251553\n",
      "Train Epoch: 0  [38000/60000 (63 %)]\tLoss: 0.160121\n",
      "Train Epoch: 0  [40000/60000 (67 %)]\tLoss: 0.164873\n",
      "Train Epoch: 0  [42000/60000 (70 %)]\tLoss: 0.187111\n",
      "Train Epoch: 0  [44000/60000 (73 %)]\tLoss: 0.169940\n",
      "Train Epoch: 0  [46000/60000 (77 %)]\tLoss: 0.163496\n",
      "Train Epoch: 0  [48000/60000 (80 %)]\tLoss: 0.191323\n",
      "Train Epoch: 0  [50000/60000 (83 %)]\tLoss: 0.162435\n",
      "Train Epoch: 0  [52000/60000 (87 %)]\tLoss: 0.216320\n",
      "Train Epoch: 0  [54000/60000 (90 %)]\tLoss: 0.123218\n",
      "Train Epoch: 0  [56000/60000 (93 %)]\tLoss: 0.153917\n",
      "Train Epoch: 0  [58000/60000 (97 %)]\tLoss: 0.174440\n",
      "Train Epoch: 0  [60000/60000 (100%)]\tLoss: 0.201909\n",
      "----------------------------------------------------------------------------------------------------\n",
      "Train Epoch: 1  [0    /60000 (0  %)]\tLoss: 0.128827\n",
      "Train Epoch: 1  [2000 /60000 (3  %)]\tLoss: 0.129060\n",
      "Train Epoch: 1  [4000 /60000 (7  %)]\tLoss: 0.156473\n",
      "Train Epoch: 1  [6000 /60000 (10 %)]\tLoss: 0.062095\n",
      "Train Epoch: 1  [8000 /60000 (13 %)]\tLoss: 0.129548\n",
      "Train Epoch: 1  [10000/60000 (17 %)]\tLoss: 0.070777\n",
      "Train Epoch: 1  [12000/60000 (20 %)]\tLoss: 0.139240\n",
      "Train Epoch: 1  [14000/60000 (23 %)]\tLoss: 0.084869\n",
      "Train Epoch: 1  [16000/60000 (27 %)]\tLoss: 0.151450\n",
      "Train Epoch: 1  [18000/60000 (30 %)]\tLoss: 0.148161\n",
      "Train Epoch: 1  [20000/60000 (33 %)]\tLoss: 0.124484\n",
      "Train Epoch: 1  [22000/60000 (37 %)]\tLoss: 0.116085\n",
      "Train Epoch: 1  [24000/60000 (40 %)]\tLoss: 0.108583\n",
      "Train Epoch: 1  [26000/60000 (43 %)]\tLoss: 0.177856\n",
      "Train Epoch: 1  [28000/60000 (47 %)]\tLoss: 0.099583\n",
      "Train Epoch: 1  [30000/60000 (50 %)]\tLoss: 0.082622\n",
      "Train Epoch: 1  [32000/60000 (53 %)]\tLoss: 0.072171\n",
      "Train Epoch: 1  [34000/60000 (57 %)]\tLoss: 0.080100\n",
      "Train Epoch: 1  [36000/60000 (60 %)]\tLoss: 0.171803\n",
      "Train Epoch: 1  [38000/60000 (63 %)]\tLoss: 0.060112\n",
      "Train Epoch: 1  [40000/60000 (67 %)]\tLoss: 0.096239\n",
      "Train Epoch: 1  [42000/60000 (70 %)]\tLoss: 0.092264\n",
      "Train Epoch: 1  [44000/60000 (73 %)]\tLoss: 0.103615\n",
      "Train Epoch: 1  [46000/60000 (77 %)]\tLoss: 0.152041\n",
      "Train Epoch: 1  [48000/60000 (80 %)]\tLoss: 0.075902\n",
      "Train Epoch: 1  [50000/60000 (83 %)]\tLoss: 0.100503\n",
      "Train Epoch: 1  [52000/60000 (87 %)]\tLoss: 0.056233\n",
      "Train Epoch: 1  [54000/60000 (90 %)]\tLoss: 0.086946\n",
      "Train Epoch: 1  [56000/60000 (93 %)]\tLoss: 0.041264\n",
      "Train Epoch: 1  [58000/60000 (97 %)]\tLoss: 0.071094\n",
      "Train Epoch: 1  [60000/60000 (100%)]\tLoss: 0.059972\n",
      "----------------------------------------------------------------------------------------------------\n",
      "Train Epoch: 2  [0    /60000 (0  %)]\tLoss: 0.059472\n",
      "Train Epoch: 2  [2000 /60000 (3  %)]\tLoss: 0.107244\n",
      "Train Epoch: 2  [4000 /60000 (7  %)]\tLoss: 0.067530\n",
      "Train Epoch: 2  [6000 /60000 (10 %)]\tLoss: 0.113101\n",
      "Train Epoch: 2  [8000 /60000 (13 %)]\tLoss: 0.039241\n",
      "Train Epoch: 2  [10000/60000 (17 %)]\tLoss: 0.080265\n",
      "Train Epoch: 2  [12000/60000 (20 %)]\tLoss: 0.093643\n",
      "Train Epoch: 2  [14000/60000 (23 %)]\tLoss: 0.053148\n",
      "Train Epoch: 2  [16000/60000 (27 %)]\tLoss: 0.065302\n",
      "Train Epoch: 2  [18000/60000 (30 %)]\tLoss: 0.054063\n",
      "Train Epoch: 2  [20000/60000 (33 %)]\tLoss: 0.042147\n",
      "Train Epoch: 2  [22000/60000 (37 %)]\tLoss: 0.043570\n",
      "Train Epoch: 2  [24000/60000 (40 %)]\tLoss: 0.047366\n",
      "Train Epoch: 2  [26000/60000 (43 %)]\tLoss: 0.072605\n",
      "Train Epoch: 2  [28000/60000 (47 %)]\tLoss: 0.028317\n",
      "Train Epoch: 2  [30000/60000 (50 %)]\tLoss: 0.012035\n",
      "Train Epoch: 2  [32000/60000 (53 %)]\tLoss: 0.061516\n",
      "Train Epoch: 2  [34000/60000 (57 %)]\tLoss: 0.071872\n",
      "Train Epoch: 2  [36000/60000 (60 %)]\tLoss: 0.031538\n",
      "Train Epoch: 2  [38000/60000 (63 %)]\tLoss: 0.043372\n",
      "Train Epoch: 2  [40000/60000 (67 %)]\tLoss: 0.044599\n",
      "Train Epoch: 2  [42000/60000 (70 %)]\tLoss: 0.064353\n",
      "Train Epoch: 2  [44000/60000 (73 %)]\tLoss: 0.097505\n",
      "Train Epoch: 2  [46000/60000 (77 %)]\tLoss: 0.015563\n",
      "Train Epoch: 2  [48000/60000 (80 %)]\tLoss: 0.040038\n",
      "Train Epoch: 2  [50000/60000 (83 %)]\tLoss: 0.223003\n",
      "Train Epoch: 2  [52000/60000 (87 %)]\tLoss: 0.082335\n",
      "Train Epoch: 2  [54000/60000 (90 %)]\tLoss: 0.032394\n",
      "Train Epoch: 2  [56000/60000 (93 %)]\tLoss: 0.100863\n",
      "Train Epoch: 2  [58000/60000 (97 %)]\tLoss: 0.037119\n",
      "Train Epoch: 2  [60000/60000 (100%)]\tLoss: 0.027355\n",
      "----------------------------------------------------------------------------------------------------\n",
      "Train Epoch: 3  [0    /60000 (0  %)]\tLoss: 0.104373\n",
      "Train Epoch: 3  [2000 /60000 (3  %)]\tLoss: 0.053101\n",
      "Train Epoch: 3  [4000 /60000 (7  %)]\tLoss: 0.061569\n",
      "Train Epoch: 3  [6000 /60000 (10 %)]\tLoss: 0.057701\n",
      "Train Epoch: 3  [8000 /60000 (13 %)]\tLoss: 0.074807\n",
      "Train Epoch: 3  [10000/60000 (17 %)]\tLoss: 0.025541\n",
      "Train Epoch: 3  [12000/60000 (20 %)]\tLoss: 0.051463\n",
      "Train Epoch: 3  [14000/60000 (23 %)]\tLoss: 0.061272\n",
      "Train Epoch: 3  [16000/60000 (27 %)]\tLoss: 0.028101\n",
      "Train Epoch: 3  [18000/60000 (30 %)]\tLoss: 0.035771\n",
      "Train Epoch: 3  [20000/60000 (33 %)]\tLoss: 0.035157\n",
      "Train Epoch: 3  [22000/60000 (37 %)]\tLoss: 0.023404\n",
      "Train Epoch: 3  [24000/60000 (40 %)]\tLoss: 0.040352\n",
      "Train Epoch: 3  [26000/60000 (43 %)]\tLoss: 0.029056\n",
      "Train Epoch: 3  [28000/60000 (47 %)]\tLoss: 0.018545\n",
      "Train Epoch: 3  [30000/60000 (50 %)]\tLoss: 0.058768\n",
      "Train Epoch: 3  [32000/60000 (53 %)]\tLoss: 0.047712\n",
      "Train Epoch: 3  [34000/60000 (57 %)]\tLoss: 0.020673\n",
      "Train Epoch: 3  [36000/60000 (60 %)]\tLoss: 0.136220\n",
      "Train Epoch: 3  [38000/60000 (63 %)]\tLoss: 0.093197\n",
      "Train Epoch: 3  [40000/60000 (67 %)]\tLoss: 0.103185\n",
      "Train Epoch: 3  [42000/60000 (70 %)]\tLoss: 0.039051\n",
      "Train Epoch: 3  [44000/60000 (73 %)]\tLoss: 0.089185\n",
      "Train Epoch: 3  [46000/60000 (77 %)]\tLoss: 0.067338\n",
      "Train Epoch: 3  [48000/60000 (80 %)]\tLoss: 0.011177\n",
      "Train Epoch: 3  [50000/60000 (83 %)]\tLoss: 0.059034\n",
      "Train Epoch: 3  [52000/60000 (87 %)]\tLoss: 0.027451\n",
      "Train Epoch: 3  [54000/60000 (90 %)]\tLoss: 0.044704\n",
      "Train Epoch: 3  [56000/60000 (93 %)]\tLoss: 0.077175\n",
      "Train Epoch: 3  [58000/60000 (97 %)]\tLoss: 0.030412\n",
      "Train Epoch: 3  [60000/60000 (100%)]\tLoss: 0.043274\n",
      "----------------------------------------------------------------------------------------------------\n",
      "Train Epoch: 4  [0    /60000 (0  %)]\tLoss: 0.017063\n",
      "Train Epoch: 4  [2000 /60000 (3  %)]\tLoss: 0.061952\n",
      "Train Epoch: 4  [4000 /60000 (7  %)]\tLoss: 0.062617\n",
      "Train Epoch: 4  [6000 /60000 (10 %)]\tLoss: 0.024602\n",
      "Train Epoch: 4  [8000 /60000 (13 %)]\tLoss: 0.044697\n",
      "Train Epoch: 4  [10000/60000 (17 %)]\tLoss: 0.055942\n",
      "Train Epoch: 4  [12000/60000 (20 %)]\tLoss: 0.048397\n",
      "Train Epoch: 4  [14000/60000 (23 %)]\tLoss: 0.051317\n",
      "Train Epoch: 4  [16000/60000 (27 %)]\tLoss: 0.059055\n",
      "Train Epoch: 4  [18000/60000 (30 %)]\tLoss: 0.071385\n",
      "Train Epoch: 4  [20000/60000 (33 %)]\tLoss: 0.069936\n",
      "Train Epoch: 4  [22000/60000 (37 %)]\tLoss: 0.033380\n",
      "Train Epoch: 4  [24000/60000 (40 %)]\tLoss: 0.064308\n",
      "Train Epoch: 4  [26000/60000 (43 %)]\tLoss: 0.027302\n",
      "Train Epoch: 4  [28000/60000 (47 %)]\tLoss: 0.054284\n",
      "Train Epoch: 4  [30000/60000 (50 %)]\tLoss: 0.026113\n",
      "Train Epoch: 4  [32000/60000 (53 %)]\tLoss: 0.048697\n",
      "Train Epoch: 4  [34000/60000 (57 %)]\tLoss: 0.026592\n",
      "Train Epoch: 4  [36000/60000 (60 %)]\tLoss: 0.012901\n",
      "Train Epoch: 4  [38000/60000 (63 %)]\tLoss: 0.021015\n",
      "Train Epoch: 4  [40000/60000 (67 %)]\tLoss: 0.064926\n",
      "Train Epoch: 4  [42000/60000 (70 %)]\tLoss: 0.060761\n",
      "Train Epoch: 4  [44000/60000 (73 %)]\tLoss: 0.068490\n",
      "Train Epoch: 4  [46000/60000 (77 %)]\tLoss: 0.014429\n",
      "Train Epoch: 4  [48000/60000 (80 %)]\tLoss: 0.027390\n",
      "Train Epoch: 4  [50000/60000 (83 %)]\tLoss: 0.037112\n",
      "Train Epoch: 4  [52000/60000 (87 %)]\tLoss: 0.057162\n",
      "Train Epoch: 4  [54000/60000 (90 %)]\tLoss: 0.013592\n",
      "Train Epoch: 4  [56000/60000 (93 %)]\tLoss: 0.093354\n",
      "Train Epoch: 4  [58000/60000 (97 %)]\tLoss: 0.023129\n",
      "Train Epoch: 4  [60000/60000 (100%)]\tLoss: 0.053554\n",
      "----------------------------------------------------------------------------------------------------\n"
     ]
    },
    {
     "data": {
      "text/plain": "[[10.173917770385742],\n [11.648571014404297],\n [12.112378120422363],\n [13.070528030395508],\n [14.225959777832031]]"
     },
     "execution_count": 8,
     "metadata": {},
     "output_type": "execute_result"
    }
   ],
   "source": [
    "# 每一轮的损失值\n",
    "metric_reslut = t_and_v.train_eval(train_loader=train_loader, valid_sets=[(transforms_data_loader, y_label)])\n",
    "metric_reslut"
   ],
   "metadata": {
    "collapsed": false,
    "pycharm": {
     "name": "#%%\n"
    }
   }
  },
  {
   "cell_type": "code",
   "execution_count": 8,
   "outputs": [],
   "source": [],
   "metadata": {
    "collapsed": false,
    "pycharm": {
     "name": "#%%\n"
    }
   }
  }
 ],
 "metadata": {
  "kernelspec": {
   "display_name": "Python 3",
   "language": "python",
   "name": "python3"
  },
  "language_info": {
   "codemirror_mode": {
    "name": "ipython",
    "version": 3
   },
   "file_extension": ".py",
   "mimetype": "text/x-python",
   "name": "python",
   "nbconvert_exporter": "python",
   "pygments_lexer": "ipython3",
   "version": "3.7.7"
  },
  "toc": {
   "base_numbering": 1,
   "nav_menu": {},
   "number_sections": true,
   "sideBar": true,
   "skip_h1_title": false,
   "title_cell": "Table of Contents",
   "title_sidebar": "Contents",
   "toc_cell": false,
   "toc_position": {},
   "toc_section_display": true,
   "toc_window_display": false
  }
 },
 "nbformat": 4,
 "nbformat_minor": 1
}