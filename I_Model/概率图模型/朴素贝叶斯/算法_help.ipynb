{
 "cells": [
  {
   "cell_type": "markdown",
   "metadata": {
    "pycharm": {
     "name": "#%% md\n"
    }
   },
   "source": [
    "输入:训练数据集$T={(\\mathbf{x}_1, y_1), (\\mathbf{x}_2, y_2), \\cdots, (\\mathbf{x}_N, y_N)}$,\n",
    "其中$ \\mathbf{x}_i = (X_i^{(1)},X_i^{(2)}, \\cdots, X_i^{(n)})^T $,$X_i^{(j)} $是第$i$个样本的第$j$个特征,\n",
    "$ X_i^{(j)} \\in  \\{  a_{j1}, a_{j2}, \\dots, a_{jS_j} \\}$ ,$ a_{jl}$是第$j$个特征可能取得第$l$个值,\n",
    "$ j=1,2,\\cdots, n , l=1,2,\\cdots, S_j, y_i \\in \\{ c_1, c_2, \\cdots, c_K \\}$;实例$ \\mathbf{x} $       \n",
    "输出:实例$\\mathbf{x}$的分类       \n",
    "1. 计算先验概率条件概率(这里采用最大似然估计)      \n",
    "\n",
    "\\begin{align}\n",
    "& P(Y=c_k) = \\frac{\\sum_{i=1}^N I(y_i = c_k)}{N} \\quad k=1,2,3\\dots,K \\\\\n",
    "& P(X^{(j)} = a_{jl} |Y=c_k) = \\frac{\\sum_{i=1}^N I(X_i^{(j)} = a_{jl}, y_i=c_k)}{\\sum_{i=1}^N I(y_i = c_k)}, \\\\\n",
    "&j=1,2,\\cdots, n; \\quad l = 1,2,\\cdots, S_j; \\quad k=1,2,\\cdots, K\n",
    "\\end{align}                  \n",
    "\n",
    "2. 对于给定的实例$ \\mathbf{x}=(x^{(1)}, x^{(2)}, \\cdots, x^{(n)}) $,计算         \n",
    "$$ P(Y= c_k)\\prod_{j} P(X^{(j)} = x^{(j)} | Y = c_k), \\quad k=1,2,\\cdots, K$$ \n",
    "\n",
    "3. 确定实例$\\mathbf{x}$的类            \n",
    "$$ y= \\mathrm{arg} \\max_{c_k} P(Y= c_k)\\prod_{j}^n P(X^{(j)} = x^{(j)} | Y = c_k) $$     "
   ]
  }
 ],
 "metadata": {
  "kernelspec": {
   "display_name": "Python 3",
   "language": "python",
   "name": "python3"
  },
  "language_info": {
   "codemirror_mode": {
    "name": "ipython",
    "version": 3
   },
   "file_extension": ".py",
   "mimetype": "text/x-python",
   "name": "python",
   "nbconvert_exporter": "python",
   "pygments_lexer": "ipython3",
   "version": "3.7.7"
  },
  "pycharm": {
   "stem_cell": {
    "cell_type": "raw",
    "metadata": {
     "collapsed": false
    },
    "source": []
   }
  },
  "toc": {
   "base_numbering": 1,
   "nav_menu": {},
   "number_sections": true,
   "sideBar": true,
   "skip_h1_title": false,
   "title_cell": "Table of Contents",
   "title_sidebar": "Contents",
   "toc_cell": false,
   "toc_position": {},
   "toc_section_display": true,
   "toc_window_display": false
  }
 },
 "nbformat": 4,
 "nbformat_minor": 4
}
