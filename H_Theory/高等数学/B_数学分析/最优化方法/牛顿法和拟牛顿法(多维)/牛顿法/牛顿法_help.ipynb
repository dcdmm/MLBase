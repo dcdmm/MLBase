{
 "cells": [
  {
   "cell_type": "markdown",
   "metadata": {
    "collapsed": true,
    "pycharm": {
     "name": "#%% md\n"
    }
   },
   "source": [
    "&emsp;&emsp;考虑无约束最优化问题    \n",
    "$$  \\min_{\\mathbf{x} \\in \\mathbf{R}^n} f(\\mathbf{x}) $$   \n",
    "其中$ \\mathbf{x}^* $为目标函数的极小值.   \n",
    "&emsp;&emsp;假设$f(\\mathbf{x})$具有二阶连续偏导数,若第$k$次迭代之为$ \\mathbf{x}^{(k)} $,则可将$f(\\mathbf{x})$在$\\mathbf{x}^{(k)}$附近进行二阶泰勒展开:    \n",
    "1. $$ f(\\mathbf{x}) = f(\\mathbf{x}^{(k)})  + g_k^T (\\mathbf{x} - \\mathbf{x}^{(k)}) + \\frac{1}{2} ( \\mathbf{x} - \\mathbf{x}x=^{(k)} )^T H (\\mathbf{x}^{(k)}) (\\mathbf{x} - \\mathbf{x}^{(k)})$$      \n",
    "\n",
    "这里,$ g_k = g(\\mathbf{x}^{(k)}) = \\nabla f(\\mathbf{x}^{(k)}) $是$f(\\mathbf{x})$的梯度向量在点$ \\mathbf{x}^{(k)}$的值,$ H(\\mathbf{x}^{(k)}) $是$f(\\mathbf{x})$的黑塞矩阵(Hessian matrix)     \n",
    "$$ H(\\mathbf{x}) = \\left[ \\frac{\\partial^2 f}{\\partial x_i \\partial x_j} \\right]_{n \\times n} $$   \n",
    "在点$\\mathbf{x}^{(k)} $ 的值.函数$ f(\\mathbf{x})$有极值的必要条件是极值点处的一阶导数为0,即梯度向量为0.特别是当$ H( \\mathbf{x}^{(k)} )$是正定矩阵时(由正定矩阵的性质知,此时$ \\frac{1}{2} ( \\mathbf{x} - \\mathbf{x}^{(k)} )^T H (\\mathbf{x}^{(k)}) (\\mathbf{x} - \\mathbf{x}^{(k)}) $恒大于0),函数$ f(\\mathbf{x})$的极值为极小值.     \n",
    "&emsp;&emsp;牛顿法利用极小值的必要条件     \n",
    "$$ \\nabla f(\\mathbf{x}) =0 $$   \n",
    "每次迭代中从点$ \\mathbf{x}^{(k)} $开始,求目标函数的极小点,作为第$k+1$次迭代值$ \\mathbf{x}^{(k+1)} $.具体地,假设$ \\mathbf{x}^{(k+1)} $满足     \n",
    "2. $$ \\nabla f(\\mathbf{x}^{(k+1)} )  = 0 $$     \n",
    "\n",
    "对1式进行求导(分母求导法则)可得    \n",
    "$$ \\nabla f(\\mathbf{x}) = g_k + H_k(\\mathbf{x}-\\mathbf{x}^{(k)}) $$   \n",
    "***\n",
    "此处用到的求导法则有(分子布局):   \n",
    "1. $ \\mathbf{a} $ is not a function of $ \\mathbf{\\mathbf{x}} $, $$ \\frac{\\partial \\mathbf{a}^T\\mathbf{\\mathbf{x}}}{\\partial{\\mathbf{\\mathbf{x}}}} = \\frac{\\partial \\mathbf{\\mathbf{x}}^T \\mathbf{a}}{\\partial{\\mathbf{\\mathbf{x}}}} = \\mathbf{a}^T $$\n",
    "2. $ A$ is not a function of $ \\mathbf{\\mathbf{x}}$, $$ \\frac{\\partial \\mathbf{\\mathbf{x}}^T A \\mathbf{\\mathbf{x}}}{\\partial \\mathbf{\\mathbf{x}}} =\\mathbf{\\mathbf{x}}^T(A + A^T)$$\n",
    "***\n",
    "其中$ H_k = H(\\mathbf{x}^{(k)}) $.这样,2式成为      \n",
    "$$ g_k + H_k( \\mathbf{x}^{(k+1)} - \\mathbf{x}^{(k)}) = 0 $$   \n",
    "因此,   \n",
    "$$ \\mathbf{x}^{(k+1)} = \\mathbf{x}^{(k)} - H_k^{-1} g_k $$   \n",
    "或者   \n",
    "$$ \\mathbf{x}^{(k+1)} = \\mathbf{x}^{(k)} + p_k $$   \n",
    "其中,   \n",
    "$$ H_k p_k = -g_k $$     \n",
    "\n",
    "<font size=4 color='red'>算法:</font>    \n",
    "输入: 目标函数$f(\\mathbf{x})$,梯度$ g(\\mathbf{x}) = \\nabla f(\\mathbf{x}) $,黑塞矩阵$ H(\\mathbf{x}) $,精度要求$ \\epsilon $;   \n",
    "输出:$f(\\mathbf{x})$的极小值点$\\mathbf{x}^*$.   \n",
    "1. 取初始点$\\mathbf{x}^{(0)}$,置$ k=0 $   \n",
    "2. 计算$ g_k = g(\\mathbf{x}^{(k)}) $    \n",
    "3. 若$ ||g_k|| < \\epsilon $,则停止计算,得近似解$ \\mathbf{x}^* = \\mathbf{x}^{(k)} $    \n",
    "4. 计算$ H_k = H(\\mathbf{x}^{(k)}) $,并求$ p_k $     \n",
    "$$ H_k p_k = -g_k $$\n",
    "5. 置$ \\mathbf{x}^{(k+1)} = \\mathbf{x}^{(k)} + p_k $    \n",
    "6. 置$k = k+ 1$,转2     \n",
    "\n",
    "步骤4,求$ p_k, p_k = -H_k^{-1} g_k $,要求$ H_k^{-1} $,计算比较复杂,所以有其他改进的方法.    \n"
   ]
  }
 ],
 "metadata": {
  "kernelspec": {
   "display_name": "Python 3",
   "language": "python",
   "name": "python3"
  },
  "language_info": {
   "codemirror_mode": {
    "name": "ipython",
    "version": 3
   },
   "file_extension": ".py",
   "mimetype": "text/x-python",
   "name": "python",
   "nbconvert_exporter": "python",
   "pygments_lexer": "ipython3",
   "version": "3.7.7"
  },
  "pycharm": {
   "stem_cell": {
    "cell_type": "raw",
    "metadata": {
     "collapsed": false
    },
    "source": []
   }
  },
  "toc": {
   "base_numbering": 1,
   "nav_menu": {},
   "number_sections": true,
   "sideBar": true,
   "skip_h1_title": false,
   "title_cell": "Table of Contents",
   "title_sidebar": "Contents",
   "toc_cell": false,
   "toc_position": {},
   "toc_section_display": true,
   "toc_window_display": false
  }
 },
 "nbformat": 4,
 "nbformat_minor": 1
}
