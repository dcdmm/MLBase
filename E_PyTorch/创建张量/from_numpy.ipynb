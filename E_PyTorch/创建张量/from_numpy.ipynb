{
 "cells": [
  {
   "cell_type": "code",
   "execution_count": 13,
   "metadata": {
    "collapsed": true
   },
   "outputs": [
    {
     "data": {
      "text/plain": "tensor([[1.2000, 2.0000, 3.0000],\n        [2.0000, 3.0000, 4.0000]], dtype=torch.float64)"
     },
     "execution_count": 13,
     "metadata": {},
     "output_type": "execute_result"
    }
   ],
   "source": [
    "import numpy as np\n",
    "import torch\n",
    "\n",
    "# 从numpy创建tensor方法一:\n",
    "a = np.array([[1.2, 2, 3],\n",
    "              [2, 3, 4]])\n",
    "x = torch.tensor(a)\n",
    "x"
   ]
  },
  {
   "cell_type": "code",
   "execution_count": 14,
   "outputs": [
    {
     "name": "stdout",
     "output_type": "stream",
     "text": [
      "tensor([[1000.,    2.,    3.],\n",
      "        [   2.,    3.,    4.]], dtype=torch.float64)\n",
      "[[1.2 2.  3. ]\n",
      " [2.  3.  4. ]]\n",
      "2257410211968 2257387872400\n",
      "False\n"
     ]
    }
   ],
   "source": [
    "x[0][0] = 1000\n",
    "print(x)\n",
    "print(a)\n",
    "# x,a不指向相同的内存地址,也不共享数据的物理地址\n",
    "print(id(x), id(a))\n",
    "print(np.shares_memory(x, a))"
   ],
   "metadata": {
    "collapsed": false,
    "pycharm": {
     "name": "#%%\n"
    }
   }
  },
  {
   "cell_type": "code",
   "execution_count": 15,
   "outputs": [
    {
     "name": "stdout",
     "output_type": "stream",
     "text": [
      "tensor([[999.,   2.,   3.],\n",
      "        [  2.,   3.,   4.]], dtype=torch.float64)\n",
      "[[999.   2.   3.]\n",
      " [  2.   3.   4.]]\n",
      "2257387872400 2257410918464\n",
      "True\n"
     ]
    }
   ],
   "source": [
    "# 从numpy创建tensor方法二:\n",
    "y = torch.from_numpy(a)  # 与上等价\n",
    "y[0][0] = 999\n",
    "print(y)\n",
    "print(a)\n",
    "# y,a共享数据的物理地址\n",
    "print(id(a), id(y))\n",
    "print(np.shares_memory(a, y))\n"
   ],
   "metadata": {
    "collapsed": false,
    "pycharm": {
     "name": "#%%\n"
    }
   }
  }
 ],
 "metadata": {
  "kernelspec": {
   "display_name": "Python 3",
   "language": "python",
   "name": "python3"
  },
  "language_info": {
   "codemirror_mode": {
    "name": "ipython",
    "version": 2
   },
   "file_extension": ".py",
   "mimetype": "text/x-python",
   "name": "python",
   "nbconvert_exporter": "python",
   "pygments_lexer": "ipython2",
   "version": "2.7.6"
  }
 },
 "nbformat": 4,
 "nbformat_minor": 0
}