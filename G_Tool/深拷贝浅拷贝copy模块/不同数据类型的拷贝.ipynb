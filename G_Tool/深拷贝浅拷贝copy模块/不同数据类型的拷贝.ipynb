{
 "cells": [
  {
   "cell_type": "code",
   "execution_count": 173,
   "outputs": [],
   "source": [
    "import copy\n",
    "import numpy as np\n",
    "import pandas as pd"
   ],
   "metadata": {
    "collapsed": false,
    "pycharm": {
     "name": "#%%\n"
    }
   }
  },
  {
   "cell_type": "markdown",
   "source": [
    "### 列表的拷贝"
   ],
   "metadata": {
    "collapsed": false,
    "pycharm": {
     "name": "#%% md\n"
    }
   }
  },
  {
   "cell_type": "code",
   "execution_count": 174,
   "outputs": [],
   "source": [
    "init_list = [1, 2, 3, 4, ['A', 'B']]\n",
    "\n",
    "list_plain = init_list  # init_list,list_plain指向的地址相同\n",
    "list_shallow = copy.copy(init_list)  # 浅拷贝\n",
    "list_deep = copy.deepcopy(init_list)  # 深拷贝"
   ],
   "metadata": {
    "collapsed": false,
    "pycharm": {
     "name": "#%%\n"
    }
   }
  },
  {
   "cell_type": "code",
   "execution_count": 175,
   "outputs": [],
   "source": [
    "init_list.append(5)\n",
    "init_list[4].append('C')"
   ],
   "metadata": {
    "collapsed": false,
    "pycharm": {
     "name": "#%%\n"
    }
   }
  },
  {
   "cell_type": "code",
   "execution_count": 176,
   "outputs": [
    {
     "name": "stdout",
     "output_type": "stream",
     "text": [
      "init_list =  [1, 2, 3, 4, ['A', 'B', 'C'], 5] 1915602381952\n",
      "list_plain =  [1, 2, 3, 4, ['A', 'B', 'C'], 5] 1915602381952\n",
      "\n",
      "list_shallow =  [1, 2, 3, 4, ['A', 'B', 'C']] 1915602696000\n",
      "list_deep =  [1, 2, 3, 4, ['A', 'B']] 1915602262016\n",
      "\n",
      "id(init_list[4]): 1915602261696\n",
      "id(list_shallow[4]): 1915602261696\n",
      "id(list_deep[4]): 1915602262016\n"
     ]
    }
   ],
   "source": [
    "# list三种拷贝之间的区别\n",
    "\n",
    "print('init_list = ', init_list, id(init_list))\n",
    "print('list_plain = ', list_plain, id(list_plain), end='\\n\\n')\n",
    "\n",
    "print('list_shallow = ', list_shallow, id(list_shallow))  # 浅拷贝只能拷贝外层的副本\n",
    "print('list_deep = ', list_deep, id(list_deep), end='\\n\\n')\n",
    "\n",
    "print('id(init_list[4]):', id(init_list[4]))\n",
    "print('id(list_shallow[4]):', id(list_shallow[4]))\n",
    "print('id(list_deep[4]):', id(list_deep))"
   ],
   "metadata": {
    "collapsed": false,
    "pycharm": {
     "name": "#%%\n"
    }
   }
  },
  {
   "cell_type": "markdown",
   "source": [
    "### 字典的拷贝"
   ],
   "metadata": {
    "collapsed": false,
    "pycharm": {
     "name": "#%% md\n"
    }
   }
  },
  {
   "cell_type": "code",
   "execution_count": 177,
   "outputs": [],
   "source": [
    "init_dic = {'a': [1, 2, 3], 'b': 'dc'}\n",
    "dic_plain = init_dic  # init_dic,dic_plain指向的地址相同\n",
    "dic_shallow = copy.copy(init_dic)  # 浅拷贝\n",
    "dic_deep = copy.deepcopy(init_dic)  # 深拷贝"
   ],
   "metadata": {
    "collapsed": false,
    "pycharm": {
     "name": "#%%\n"
    }
   }
  },
  {
   "cell_type": "code",
   "execution_count": 178,
   "outputs": [],
   "source": [
    "init_dic['a'].append(4)\n",
    "init_dic['b'] = 'dcdmm'"
   ],
   "metadata": {
    "collapsed": false,
    "pycharm": {
     "name": "#%%\n"
    }
   }
  },
  {
   "cell_type": "code",
   "execution_count": 179,
   "outputs": [
    {
     "name": "stdout",
     "output_type": "stream",
     "text": [
      "init_dic =  {'a': [1, 2, 3, 4], 'b': 'dcdmm'} 1915584013824\n",
      "dic_plain =  {'a': [1, 2, 3, 4], 'b': 'dcdmm'} 1915584013824\n",
      "\n",
      "dic_shallow =  {'a': [1, 2, 3, 4], 'b': 'dc'} 1915602646016\n",
      "dic_deep =  {'a': [1, 2, 3], 'b': 'dc'} 1915602263296\n",
      "\n",
      "id(init_dic[0]): 1915602312512\n",
      "id(dic_shallow[0]): 1915602312512\n",
      "id(dic_deep[0]): 1915602266304\n"
     ]
    }
   ],
   "source": [
    "# dic三种拷贝之间的区别\n",
    "\n",
    "print('init_dic = ', init_dic, id(init_dic))\n",
    "print('dic_plain = ', dic_plain, id(dic_plain), end='\\n\\n')\n",
    "\n",
    "print('dic_shallow = ', dic_shallow, id(dic_shallow))  # 浅拷贝只能拷贝外层的副本\n",
    "print('dic_deep = ', dic_deep, id(dic_deep), end='\\n\\n')\n",
    "\n",
    "print('id(init_dic[0]):', id(init_dic['a']))\n",
    "print('id(dic_shallow[0]):', id(dic_shallow['a']))\n",
    "print('id(dic_deep[0]):', id(dic_deep['a']))"
   ],
   "metadata": {
    "collapsed": false,
    "pycharm": {
     "name": "#%%\n"
    }
   }
  },
  {
   "cell_type": "markdown",
   "source": [
    "### numpy数组拷贝"
   ],
   "metadata": {
    "collapsed": false,
    "pycharm": {
     "name": "#%% md\n"
    }
   }
  },
  {
   "cell_type": "code",
   "execution_count": 180,
   "outputs": [],
   "source": [
    "init_arr = np.array([[list('ab'), 0],\n",
    "                     [1, 2]], dtype=object)\n",
    "\n",
    "arr_plain = init_arr  # init_arr,arr_plain指向的地址相同\n",
    "arr_shallow = copy.copy(init_arr)  # 浅拷贝\n",
    "arr_deep = copy.deepcopy(init_arr)  # 深拷贝"
   ],
   "metadata": {
    "collapsed": false,
    "pycharm": {
     "name": "#%%\n"
    }
   }
  },
  {
   "cell_type": "code",
   "execution_count": 181,
   "outputs": [],
   "source": [
    "init_arr[-1, -1] = -9999\n",
    "init_arr[0][0].append('C')"
   ],
   "metadata": {
    "collapsed": false,
    "pycharm": {
     "name": "#%%\n"
    }
   }
  },
  {
   "cell_type": "code",
   "execution_count": 182,
   "outputs": [
    {
     "name": "stdout",
     "output_type": "stream",
     "text": [
      "init_arr = \n",
      "  [[list(['a', 'b', 'C']) 0]\n",
      " [1 -9999]] 1915593460496\n",
      "arr_plain = \n",
      " [[list(['a', 'b', 'C']) 0]\n",
      " [1 -9999]] 1915593460496\n",
      "\n",
      "arr_shallow = \n",
      "  [[list(['a', 'b', 'C']) 0]\n",
      " [1 2]] 1915593459920\n",
      "arr_deep = \n",
      " [[list(['a', 'b']) 0]\n",
      " [1 2]] 1915593460208\n",
      "\n",
      "id(init_arr[0][0]): 1915602361600\n",
      "id(arr_shallow[0][0]): 1915602361600\n",
      "id(arr_deep[0][0]): 1915593460208\n"
     ]
    }
   ],
   "source": [
    "# array三种拷贝之间的区别\n",
    "\n",
    "print('init_arr = \\n ', init_arr, id(init_arr))\n",
    "print('arr_plain = \\n', arr_plain, id(arr_plain), end='\\n\\n')\n",
    "\n",
    "print('arr_shallow = \\n ', arr_shallow, id(arr_shallow))  # 浅拷贝只能拷贝外层的副本\n",
    "print('arr_deep = \\n', arr_deep, id(arr_deep), end='\\n\\n')\n",
    "\n",
    "print('id(init_arr[0][0]):', id(init_arr[0][0]))\n",
    "print('id(arr_shallow[0][0]):', id(arr_shallow[0][0]))\n",
    "print('id(arr_deep[0][0]):', id(arr_deep))"
   ],
   "metadata": {
    "collapsed": false,
    "pycharm": {
     "name": "#%%\n"
    }
   }
  },
  {
   "cell_type": "markdown",
   "metadata": {
    "pycharm": {
     "is_executing": false,
     "metadata": false,
     "name": "#%% md\n"
    }
   },
   "source": [
    "#### DataFrame(Series同理)三种拷贝之间的区别"
   ]
  },
  {
   "cell_type": "code",
   "execution_count": 183,
   "outputs": [
    {
     "data": {
      "text/plain": "        A  B\n0  [a, b]  0\n1       1  2",
      "text/html": "<div>\n<style scoped>\n    .dataframe tbody tr th:only-of-type {\n        vertical-align: middle;\n    }\n\n    .dataframe tbody tr th {\n        vertical-align: top;\n    }\n\n    .dataframe thead th {\n        text-align: right;\n    }\n</style>\n<table border=\"1\" class=\"dataframe\">\n  <thead>\n    <tr style=\"text-align: right;\">\n      <th></th>\n      <th>A</th>\n      <th>B</th>\n    </tr>\n  </thead>\n  <tbody>\n    <tr>\n      <th>0</th>\n      <td>[a, b]</td>\n      <td>0</td>\n    </tr>\n    <tr>\n      <th>1</th>\n      <td>1</td>\n      <td>2</td>\n    </tr>\n  </tbody>\n</table>\n</div>"
     },
     "execution_count": 183,
     "metadata": {},
     "output_type": "execute_result"
    }
   ],
   "source": [
    "init_frame = pd.DataFrame(np.array([[list('ab'), 0],\n",
    "                                    [1, 2]], dtype=object), columns=['A', 'B'])\n",
    "init_frame"
   ],
   "metadata": {
    "collapsed": false,
    "pycharm": {
     "name": "#%%\n"
    }
   }
  },
  {
   "cell_type": "code",
   "execution_count": 184,
   "outputs": [],
   "source": [
    "frame_plain = init_frame  # init_frame,frame_plain指向的地址相同\n",
    "frame_shallow = copy.copy(init_frame)  # 浅拷贝\n",
    "frame_deep = copy.deepcopy(init_frame)  # 深拷贝"
   ],
   "metadata": {
    "collapsed": false,
    "pycharm": {
     "name": "#%%\n"
    }
   }
  },
  {
   "cell_type": "code",
   "execution_count": 185,
   "outputs": [],
   "source": [
    "init_frame.iloc[-1, -1] = -9999\n",
    "init_frame.iloc[0, 0].append('C')"
   ],
   "metadata": {
    "collapsed": false,
    "pycharm": {
     "name": "#%%\n"
    }
   }
  },
  {
   "cell_type": "code",
   "execution_count": 186,
   "outputs": [
    {
     "name": "stdout",
     "output_type": "stream",
     "text": [
      "init_frame = \n",
      "             A      B\n",
      "0  [a, b, C]      0\n",
      "1          1  -9999 1915591237488\n",
      "frame_plain = \n",
      "            A      B\n",
      "0  [a, b, C]      0\n",
      "1          1  -9999 1915591237488\n",
      "\n",
      "frame_shallow = \n",
      "             A  B\n",
      "0  [a, b, C]  0\n",
      "1          1  2 1915590533856\n",
      "frame_deep = \n",
      "            A  B\n",
      "0  [a, b, C]  0\n",
      "1          1  2 1915590535728\n",
      "\n",
      "id(init_frame.iloc[0, 0]): 1915584679168\n",
      "id(frame_shallow.iloc[0, 0]): 1915584679168\n",
      "id(frame_deep[0, 0]): 1915584679168\n"
     ]
    }
   ],
   "source": [
    "# DataFrame三种拷贝之间的区别\n",
    "\n",
    "print('init_frame = \\n ', init_frame, id(init_frame))\n",
    "print('frame_plain = \\n', frame_plain, id(frame_plain), end='\\n\\n')\n",
    "\n",
    "print('frame_shallow = \\n ', frame_shallow, id(frame_shallow))  #  浅拷贝只能拷贝外层的副本\n",
    "print('frame_deep = \\n', frame_deep, id(frame_deep), end='\\n\\n')\n",
    "\n",
    "print('id(init_frame.iloc[0, 0]):', id(init_frame.iloc[0, 0]))\n",
    "print('id(frame_shallow.iloc[0, 0]):', id(frame_shallow.iloc[0, 0]))\n",
    "print('id(frame_deep[0, 0]):', id(frame_deep.iloc[0, 0]))  # 内部可变数据类型对应仍指向相同的地址"
   ],
   "metadata": {
    "collapsed": false,
    "pycharm": {
     "name": "#%%\n"
    }
   }
  },
  {
   "cell_type": "code",
   "execution_count": 187,
   "outputs": [
    {
     "name": "stdout",
     "output_type": "stream",
     "text": [
      "             A      B\n",
      "0  [AAA, b, C]      0\n",
      "1            1  -9999\n",
      "           A      B\n",
      "0  [a, b, C]      0\n",
      "1          1  -9999\n"
     ]
    }
   ],
   "source": [
    "'''\n",
    "如何解决???\n",
    "方法如下:\n",
    "'''\n",
    "frame_real_deepcopy = pd.DataFrame(copy.deepcopy(init_frame.values),\n",
    "                                   index=init_frame.index, columns=init_frame.columns)\n",
    "init_frame.iloc[0, 0][0] = 'AAA'\n",
    "\n",
    "print(init_frame)\n",
    "print(frame_real_deepcopy)  # frame_real_deepcopy不变,此时实现了真正的深拷贝"
   ],
   "metadata": {
    "collapsed": false,
    "pycharm": {
     "name": "#%%\n"
    }
   }
  },
  {
   "cell_type": "code",
   "execution_count": 187,
   "outputs": [],
   "source": [],
   "metadata": {
    "collapsed": false,
    "pycharm": {
     "name": "#%%\n"
    }
   }
  }
 ],
 "metadata": {
  "kernelspec": {
   "display_name": "Python 3",
   "language": "python",
   "name": "python3"
  },
  "language_info": {
   "codemirror_mode": {
    "name": "ipython",
    "version": 3
   },
   "file_extension": ".py",
   "mimetype": "text/x-python",
   "name": "python",
   "nbconvert_exporter": "python",
   "pygments_lexer": "ipython3",
   "version": "3.7.3"
  }
 },
 "nbformat": 4,
 "nbformat_minor": 1
}