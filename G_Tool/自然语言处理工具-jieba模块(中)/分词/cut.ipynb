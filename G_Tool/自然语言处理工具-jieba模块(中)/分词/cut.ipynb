{
 "cells": [
  {
   "cell_type": "code",
   "execution_count": 26,
   "metadata": {
    "collapsed": true
   },
   "outputs": [
    {
     "data": {
      "text/plain": "<generator object Tokenizer.cut at 0x000001DC11225848>"
     },
     "execution_count": 26,
     "metadata": {},
     "output_type": "execute_result"
    }
   ],
   "source": [
    "import jieba\n",
    "\n",
    "seg_gen0 = jieba.cut(\"我在学习自然语言处理\",\n",
    "                     cut_all=True) # 全模式:把句子中所有的可以成词的词语都扫描出来,速度非常快,但是不能解决歧义\n",
    "seg_gen0 # 生成器对象"
   ]
  },
  {
   "cell_type": "code",
   "execution_count": 27,
   "outputs": [
    {
     "name": "stdout",
     "output_type": "stream",
     "text": [
      "Full Mode: 我/ 在/ 学习/ 自然/ 自然语言/ 语言/ 处理\n"
     ]
    }
   ],
   "source": [
    "print(\"Full Mode: \" + \"/ \".join(seg_gen0))"
   ],
   "metadata": {
    "collapsed": false,
    "pycharm": {
     "name": "#%%\n"
    }
   }
  },
  {
   "cell_type": "code",
   "execution_count": 28,
   "outputs": [
    {
     "name": "stdout",
     "output_type": "stream",
     "text": [
      "Full Mode: 我/ 在/ 学习/ 自然语言/ 处理\n"
     ]
    }
   ],
   "source": [
    "seg_gen1 = jieba.cut(\"我在学习自然语言处理\",\n",
    "                     cut_all=False) # 精准模式(默认):试图将句子最精确地切开,适合文本分析\n",
    "print(\"Full Mode: \" + \"/ \".join(seg_gen1))"
   ],
   "metadata": {
    "collapsed": false,
    "pycharm": {
     "name": "#%%\n"
    }
   }
  },
  {
   "cell_type": "code",
   "execution_count": 29,
   "outputs": [
    {
     "data": {
      "text/plain": "['我', '在', '学习', '自然语言', '处理']"
     },
     "execution_count": 29,
     "metadata": {},
     "output_type": "execute_result"
    }
   ],
   "source": [
    "seg_list = jieba.lcut(\"我在学习自然语言处理\",\n",
    "                     cut_all=False)\n",
    "seg_list # 直接返回为列表"
   ],
   "metadata": {
    "collapsed": false,
    "pycharm": {
     "name": "#%%\n"
    }
   }
  },
  {
   "cell_type": "code",
   "execution_count": 29,
   "outputs": [],
   "source": [
    "\n"
   ],
   "metadata": {
    "collapsed": false,
    "pycharm": {
     "name": "#%%\n"
    }
   }
  }
 ],
 "metadata": {
  "kernelspec": {
   "display_name": "Python 3",
   "language": "python",
   "name": "python3"
  },
  "language_info": {
   "codemirror_mode": {
    "name": "ipython",
    "version": 2
   },
   "file_extension": ".py",
   "mimetype": "text/x-python",
   "name": "python",
   "nbconvert_exporter": "python",
   "pygments_lexer": "ipython2",
   "version": "2.7.6"
  }
 },
 "nbformat": 4,
 "nbformat_minor": 0
}