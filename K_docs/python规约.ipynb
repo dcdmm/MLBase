{
 "cells": [
  {
   "cell_type": "code",
   "execution_count": 1,
   "outputs": [
    {
     "data": {
      "text/plain": "['False',\n 'None',\n 'True',\n 'and',\n 'as',\n 'assert',\n 'async',\n 'await',\n 'break',\n 'class',\n 'continue',\n 'def',\n 'del',\n 'elif',\n 'else',\n 'except',\n 'finally',\n 'for',\n 'from',\n 'global',\n 'if',\n 'import',\n 'in',\n 'is',\n 'lambda',\n 'nonlocal',\n 'not',\n 'or',\n 'pass',\n 'raise',\n 'return',\n 'try',\n 'while',\n 'with',\n 'yield']"
     },
     "execution_count": 1,
     "metadata": {},
     "output_type": "execute_result"
    }
   ],
   "source": [
    "import keyword\n",
    "\n",
    "keyword.kwlist  # python 关键字列表"
   ],
   "metadata": {
    "collapsed": false,
    "pycharm": {
     "name": "#%%\n"
    }
   }
  },
  {
   "cell_type": "markdown",
   "metadata": {
    "collapsed": true,
    "pycharm": {
     "name": "#%% md\n"
    }
   },
   "source": [
    "import 遵循如下顺序:标准库、第三方库、本地应用库,每部分之间1个空行分割\n",
    "```python\n",
    "import sys\n",
    "import os\n",
    "\n",
    "import pandas\n",
    "import numpy as np\n",
    "import matplotlib.pyplot as plt\n",
    "\n",
    "from BRNNModel import BRNN\n",
    "from RNN_train import repackage_hidden\n",
    "from MyLogisticRegression import LogisticRegression\n",
    "```"
   ]
  },
  {
   "cell_type": "markdown",
   "source": [
    "标识符可以由字母、下划线 、数字组成(注意:不能以数字开头,不能与关键字重名),严格区分大小写\n",
    "\n",
    "### package/module\n",
    "```python\n",
    "import pandas # 全部小写,单词间用下划线分隔\n",
    "```\n",
    "\n",
    "### 类名\n",
    "类名使用首字母大写驼峰式命名\n",
    "```python\n",
    "class MyClass:  # 首字母大写,其余组成词首字母依次大写\n",
    "    pass\n",
    "```\n",
    "\n",
    "### 函数名/变量名\n",
    "```python\n",
    "def my_func():  # 函数名/变量名一律小写,如有多个单词,用下划线隔开\n",
    "    pass\n",
    "\n",
    "my_shape = (3, 5)\n",
    "```"
   ],
   "metadata": {
    "collapsed": false,
    "pycharm": {
     "name": "#%% md\n"
    }
   }
  },
  {
   "cell_type": "code",
   "execution_count": 1,
   "outputs": [
    {
     "name": "stdout",
     "output_type": "stream",
     "text": [
      "MY_DEFINE_PI\n"
     ]
    },
    {
     "ename": "ConstError",
     "evalue": "Can't rebind const(MY_DEFINE_PI)",
     "output_type": "error",
     "traceback": [
      "\u001B[1;31m---------------------------------------------------------------------------\u001B[0m",
      "\u001B[1;31mConstError\u001B[0m                                Traceback (most recent call last)",
      "\u001B[1;32m<ipython-input-1-37a306111a05>\u001B[0m in \u001B[0;36m<module>\u001B[1;34m\u001B[0m\n\u001B[0;32m     12\u001B[0m \u001B[0mprint\u001B[0m\u001B[1;33m(\u001B[0m\u001B[0mconst\u001B[0m\u001B[1;33m.\u001B[0m\u001B[0mMY_DEFINE_PI\u001B[0m\u001B[1;33m)\u001B[0m\u001B[1;33m\u001B[0m\u001B[1;33m\u001B[0m\u001B[0m\n\u001B[0;32m     13\u001B[0m \u001B[1;33m\u001B[0m\u001B[0m\n\u001B[1;32m---> 14\u001B[1;33m \u001B[0mconst\u001B[0m\u001B[1;33m.\u001B[0m\u001B[0mMY_DEFINE_PI\u001B[0m \u001B[1;33m=\u001B[0m \u001B[1;36m2.7\u001B[0m\u001B[1;33m\u001B[0m\u001B[1;33m\u001B[0m\u001B[0m\n\u001B[0m\u001B[0;32m     15\u001B[0m \u001B[0mprint\u001B[0m\u001B[1;33m(\u001B[0m\u001B[0mconst\u001B[0m\u001B[1;33m.\u001B[0m\u001B[0mMY_DEFINE_PI\u001B[0m\u001B[1;33m)\u001B[0m  \u001B[1;31m# 常量,不能被修改\u001B[0m\u001B[1;33m\u001B[0m\u001B[1;33m\u001B[0m\u001B[0m\n\u001B[0;32m     16\u001B[0m \u001B[1;33m\u001B[0m\u001B[0m\n",
      "\u001B[1;32m<ipython-input-1-37a306111a05>\u001B[0m in \u001B[0;36m__setattr__\u001B[1;34m(self, key, value)\u001B[0m\n\u001B[0;32m      4\u001B[0m     \u001B[1;32mdef\u001B[0m \u001B[0m__setattr__\u001B[0m\u001B[1;33m(\u001B[0m\u001B[0mself\u001B[0m\u001B[1;33m,\u001B[0m \u001B[0mkey\u001B[0m\u001B[1;33m,\u001B[0m \u001B[0mvalue\u001B[0m\u001B[1;33m)\u001B[0m\u001B[1;33m:\u001B[0m\u001B[1;33m\u001B[0m\u001B[1;33m\u001B[0m\u001B[0m\n\u001B[0;32m      5\u001B[0m         \u001B[1;32mif\u001B[0m \u001B[0mkey\u001B[0m \u001B[1;32min\u001B[0m \u001B[0mself\u001B[0m\u001B[1;33m.\u001B[0m\u001B[0m__dict__\u001B[0m\u001B[1;33m:\u001B[0m\u001B[1;33m\u001B[0m\u001B[1;33m\u001B[0m\u001B[0m\n\u001B[1;32m----> 6\u001B[1;33m             \u001B[1;32mraise\u001B[0m \u001B[0mself\u001B[0m\u001B[1;33m.\u001B[0m\u001B[0mConstError\u001B[0m\u001B[1;33m(\u001B[0m\u001B[1;34m\"Can't rebind const(%s)\"\u001B[0m \u001B[1;33m%\u001B[0m \u001B[0mkey\u001B[0m\u001B[1;33m)\u001B[0m\u001B[1;33m\u001B[0m\u001B[1;33m\u001B[0m\u001B[0m\n\u001B[0m\u001B[0;32m      7\u001B[0m         \u001B[0mself\u001B[0m\u001B[1;33m.\u001B[0m\u001B[0m__dict__\u001B[0m\u001B[1;33m[\u001B[0m\u001B[0mkey\u001B[0m\u001B[1;33m]\u001B[0m \u001B[1;33m=\u001B[0m \u001B[0mkey\u001B[0m\u001B[1;33m\u001B[0m\u001B[1;33m\u001B[0m\u001B[0m\n\u001B[0;32m      8\u001B[0m \u001B[1;33m\u001B[0m\u001B[0m\n",
      "\u001B[1;31mConstError\u001B[0m: Can't rebind const(MY_DEFINE_PI)"
     ]
    }
   ],
   "source": [
    "# 常量的定义(或使用元组进行定义)\n",
    "class _const:\n",
    "    class ConstError(TypeError):pass\n",
    "    def __setattr__(self, key, value):\n",
    "        if key in self.__dict__:\n",
    "            raise self.ConstError(\"Can't rebind const(%s)\" % key)\n",
    "        self.__dict__[key] = key\n",
    "\n",
    "const = _const()\n",
    "\n",
    "const.MY_DEFINE_PI = 3.14  # 常量名全部大写,如有多个单词,用下划线隔开\n",
    "print(const.MY_DEFINE_PI)\n",
    "\n",
    "const.MY_DEFINE_PI = 2.7\n",
    "print(const.MY_DEFINE_PI)  # 常量,不能被修改"
   ],
   "metadata": {
    "collapsed": false,
    "pycharm": {
     "name": "#%%\n"
    }
   }
  },
  {
   "cell_type": "markdown",
   "source": [
    "行内注释应该至少和代码语句之间有2个空格的间隔,并且以#和一个空格开始\n",
    "```python\n",
    "\n",
    "for i in range(100):\n",
    "    print(\"hello python\")  # 标准行内注释\n",
    "```"
   ],
   "metadata": {
    "collapsed": false,
    "pycharm": {
     "name": "#%% md\n"
    }
   }
  },
  {
   "cell_type": "markdown",
   "source": [
    "换行缩进要保证缩进行与左括号(圆括号、方括号和花括号)垂直对齐\n",
    "\n",
    "```python\n",
    "tup = ((1, 2), (2, 3),\n",
    "       (3, 4))\n",
    "\n",
    "lst = [[1, 2, 3],\n",
    "       [4, 5, 6]]\n",
    "\n",
    "dit = [{\"a\": 1}, {\"b\": 2},\n",
    "       {\"c\": 3}, {\"d\": 4}]\n",
    "```"
   ],
   "metadata": {
    "collapsed": false,
    "pycharm": {
     "name": "#%% md\n"
    }
   }
  },
  {
   "cell_type": "markdown",
   "source": [
    "二元运算符在运算符之前换行\n",
    "```python\n",
    "operation = 100 + 101 + 102 \\\n",
    "            + 103 + 104\\\n",
    "            + 105 * 0.1 * 0.2\\\n",
    "            * 0.5 / 22 / 33 \\\n",
    "            / 44 - 4 - 5\n",
    "```\n",
    "\n",
    "\n",
    "所有二元运算符前后各加1个空格\n",
    "```python\n",
    "def add(a, b):\n",
    "    return a + b\n",
    "\n",
    "add(3 + 4 + 5, 3 * 4 * 5)\n",
    "```"
   ],
   "metadata": {
    "collapsed": false,
    "pycharm": {
     "name": "#%% md\n"
    }
   }
  },
  {
   "cell_type": "markdown",
   "source": [
    "```python\n",
    "# 避免单双引号混用\n",
    "str_corr = ['a', 'b', 'c']  # 正确示例\n",
    "str_error = [\"a\", 'b', \"c\"]  # 错误示例\n",
    "```"
   ],
   "metadata": {
    "collapsed": false,
    "pycharm": {
     "name": "#%% md\n"
    }
   }
  },
  {
   "cell_type": "markdown",
   "source": [
    "函数之间2个空行\n",
    "类方法之间1个空行\n",
    "类与类、函数与类之间2个空行\n",
    "全局变量与类或函数之间2个空行\n",
    "\n",
    "```python\n",
    "MAX_VALUE = 1111111111\n",
    "\n",
    "\n",
    "class A:\n",
    "    def __init__(self):\n",
    "        pass\n",
    "\n",
    "    def __eq__(self, other):\n",
    "        pass\n",
    "\n",
    "    def __iter__(self):\n",
    "        pass\n",
    "\n",
    "    def add(self):\n",
    "        pass\n",
    "\n",
    "\n",
    "class B:\n",
    "    pass\n",
    "\n",
    "\n",
    "class C():\n",
    "    pass\n",
    "\n",
    "def f0():\n",
    "    pass\n",
    "\n",
    "def f2():\n",
    "    pass\n",
    "```"
   ],
   "metadata": {
    "collapsed": false,
    "pycharm": {
     "name": "#%% md\n"
    }
   }
  },
  {
   "cell_type": "code",
   "execution_count": null,
   "outputs": [],
   "source": [
    "# 逗号、分号、冒号前不加空格,后加1个空格\n",
    "comma = [1, 2, 3, 4]\n",
    "olon = {\"a\": 97, \"b\": 98}\n",
    "\n",
    "if comma:\n",
    "    print(\"非空\")\n",
    "else:\n",
    "    print(\"空\")"
   ],
   "metadata": {
    "collapsed": false,
    "pycharm": {
     "name": "#%%\n"
    }
   }
  },
  {
   "cell_type": "markdown",
   "source": [
    "* 当返回较长列表数据时建议使用generator函数\n",
    "\n",
    "\n",
    "\n",
    "\n",
    "\n",
    "\n",
    "\n",
    "\n",
    "\n",
    "\n",
    "\n",
    "\n",
    "\n",
    "\n",
    "\n",
    "\n"
   ],
   "metadata": {
    "collapsed": false,
    "pycharm": {
     "name": "#%% md\n"
    }
   }
  }
 ],
 "metadata": {
  "kernelspec": {
   "display_name": "Python 3",
   "language": "python",
   "name": "python3"
  },
  "language_info": {
   "codemirror_mode": {
    "name": "ipython",
    "version": 2
   },
   "file_extension": ".py",
   "mimetype": "text/x-python",
   "name": "python",
   "nbconvert_exporter": "python",
   "pygments_lexer": "ipython2",
   "version": "2.7.6"
  }
 },
 "nbformat": 4,
 "nbformat_minor": 0
}