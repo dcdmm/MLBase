{
 "cells": [
  {
   "cell_type": "code",
   "execution_count": 58,
   "metadata": {
    "collapsed": true
   },
   "outputs": [],
   "source": [
    "import pandas as pd\n",
    "from torchtext import data\n",
    "from torch.nn import init\n",
    "import spacy"
   ]
  },
  {
   "cell_type": "code",
   "execution_count": 59,
   "metadata": {
    "pycharm": {
     "name": "#%%\n"
    }
   },
   "outputs": [],
   "source": [
    "spacy_en = spacy.load('en_core_web_sm')\n",
    "\n",
    "def tokenizer(text):\n",
    "    \"\"\"create a tokenizer function\"\"\"\n",
    "    return [tok.text for tok in spacy_en.tokenizer(text)]"
   ]
  },
  {
   "cell_type": "code",
   "execution_count": 60,
   "metadata": {
    "pycharm": {
     "name": "#%%\n"
    }
   },
   "outputs": [],
   "source": [
    "LABEL = data.Field(sequential=False,\n",
    "                   # Whether to use a Vocab object. If False, the data in this field should already be numerical. Default: True.\n",
    "                   # ★★★★★若设置use_vocal=True,则必须使用build_vocab方法,否则会报错\n",
    "                   use_vocab=False)\n",
    "TEXT = data.Field(sequential=True, tokenize=tokenizer, lower=True)"
   ]
  },
  {
   "cell_type": "code",
   "execution_count": 61,
   "metadata": {
    "pycharm": {
     "name": "#%%\n"
    }
   },
   "outputs": [
    {
     "data": {
      "text/plain": "   PhraseId  SentenceId                                             Phrase  \\\n0     99737        5233  The darker elements of misogyny and unprovoked...   \n1     10281         432                           playing Malcolm McDowell   \n2     39662        1893                                      're in luck .   \n3     72011        3677                   these guys ' superhuman capacity   \n4     99388        5211  it 's waltzed itself into the art film pantheon .   \n\n   Sentiment  \n0          1  \n1          2  \n2          3  \n3          3  \n4          4  ",
      "text/html": "<div>\n<style scoped>\n    .dataframe tbody tr th:only-of-type {\n        vertical-align: middle;\n    }\n\n    .dataframe tbody tr th {\n        vertical-align: top;\n    }\n\n    .dataframe thead th {\n        text-align: right;\n    }\n</style>\n<table border=\"1\" class=\"dataframe\">\n  <thead>\n    <tr style=\"text-align: right;\">\n      <th></th>\n      <th>PhraseId</th>\n      <th>SentenceId</th>\n      <th>Phrase</th>\n      <th>Sentiment</th>\n    </tr>\n  </thead>\n  <tbody>\n    <tr>\n      <th>0</th>\n      <td>99737</td>\n      <td>5233</td>\n      <td>The darker elements of misogyny and unprovoked...</td>\n      <td>1</td>\n    </tr>\n    <tr>\n      <th>1</th>\n      <td>10281</td>\n      <td>432</td>\n      <td>playing Malcolm McDowell</td>\n      <td>2</td>\n    </tr>\n    <tr>\n      <th>2</th>\n      <td>39662</td>\n      <td>1893</td>\n      <td>'re in luck .</td>\n      <td>3</td>\n    </tr>\n    <tr>\n      <th>3</th>\n      <td>72011</td>\n      <td>3677</td>\n      <td>these guys ' superhuman capacity</td>\n      <td>3</td>\n    </tr>\n    <tr>\n      <th>4</th>\n      <td>99388</td>\n      <td>5211</td>\n      <td>it 's waltzed itself into the art film pantheon .</td>\n      <td>4</td>\n    </tr>\n  </tbody>\n</table>\n</div>"
     },
     "execution_count": 61,
     "metadata": {},
     "output_type": "execute_result"
    }
   ],
   "source": [
    "train_df = pd.read_csv('test_text/train.csv', sep=',')\n",
    "train_df.head() # 查看数据格式"
   ]
  },
  {
   "cell_type": "code",
   "execution_count": 62,
   "metadata": {
    "pycharm": {
     "name": "#%%\n"
    }
   },
   "outputs": [],
   "source": [
    "train, val = data.TabularDataset.splits(path='test_text',\n",
    "                                        train='train.csv',\n",
    "                                        validation='val.csv',\n",
    "                                        format='csv',\n",
    "                                        skip_header=True,\n",
    "                                        fields=[('PhraseId', None), # 通过设置PhraseID字段的Field为None,从而忽略该字段\n",
    "                                                ('SentenceId', None),\n",
    "                                                ('Phrase', TEXT),\n",
    "                                                ('Sentiment', LABEL)])"
   ]
  },
  {
   "cell_type": "code",
   "execution_count": 63,
   "metadata": {
    "pycharm": {
     "name": "#%%\n"
    }
   },
   "outputs": [
    {
     "data": {
      "text/plain": "{'Phrase': ['the',\n  'darker',\n  'elements',\n  'of',\n  'misogyny',\n  'and',\n  'unprovoked',\n  'violence',\n  'suffocate',\n  'the',\n  'illumination',\n  'created',\n  'by',\n  'the',\n  'two',\n  'daughters',\n  'and'],\n 'Sentiment': '1'}"
     },
     "execution_count": 63,
     "metadata": {},
     "output_type": "execute_result"
    }
   ],
   "source": [
    "train.examples[0].__dict__"
   ]
  },
  {
   "cell_type": "code",
   "execution_count": 64,
   "metadata": {
    "pycharm": {
     "name": "#%%\n"
    }
   },
   "outputs": [
    {
     "data": {
      "text/plain": "dict_keys(['Phrase', 'Sentiment'])"
     },
     "execution_count": 64,
     "metadata": {},
     "output_type": "execute_result"
    }
   ],
   "source": [
    "train[0].__dict__.keys() # 不含PhraseID和SentenceId字段"
   ]
  },
  {
   "cell_type": "code",
   "execution_count": 65,
   "metadata": {
    "pycharm": {
     "name": "#%%\n"
    }
   },
   "outputs": [],
   "source": [
    "'''\n",
    "预训练词向量有:\n",
    "charngram.100d\n",
    "fasttext.en.300d\n",
    "fasttext.simple.300d\n",
    "\n",
    "# glove词嵌入提供的预训练模型\n",
    "glove.42B.300d\n",
    "glove.840B.300d\n",
    "glove.twitter.27B.25d\n",
    "glove.twitter.27B.50d\n",
    "glove.twitter.27B.100d\n",
    "glove.twitter.27B.200d\n",
    "glove.6B.50d\n",
    "glove.6B.100d\n",
    "glove.6B.200d\n",
    "glove.6B.300d\n",
    "'''\n",
    "# 参数为类torchtext.vocab.Vocab的参数\n",
    "# Construct the Vocab object for this field from one or more datasets\n",
    "TEXT.build_vocab(train,\n",
    "                 # 默认vectors=None\n",
    "                 vectors='glove.6B.100d', #  One of either the available pretrained vectors or custom pretrained vectors (see Vocab.load_vectors)\n",
    "                 # unk_init必须是函数;若没有设置vectors参数,则必须设置unk_init=None\n",
    "                 unk_init = init.zeros_, # by default, initialize out-of-vocabulary word vectors to zero vectors; can be any function that takes in a Tensor and returns a Tensor of the same size. Default: torch.Tensor.zero_\n",
    "                 max_size=2000, # The maximum size of the vocabulary, or None for no maximum. Default: None.\n",
    "                 min_freq=1, # The minimum frequency needed to include a token in the vocabulary. Values less than 1 will be set to 1. Default: 1.\n",
    "                 specials=['<unk>', '<pad>'], # The list of special tokens (e.g., padding or eos) that will be prepended to the vocabulary. Default: [‘<unk’>, ‘<pad>’]\n",
    "                 vectors_cache='vector_cache/')"
   ]
  },
  {
   "cell_type": "code",
   "execution_count": 66,
   "metadata": {
    "pycharm": {
     "name": "#%%\n"
    }
   },
   "outputs": [
    {
     "data": {
      "text/plain": "<torchtext.vocab.Vocab at 0x1754d3ad730>"
     },
     "execution_count": 66,
     "metadata": {},
     "output_type": "execute_result"
    }
   ],
   "source": [
    "TEXT.vocab # 类型为torchtext.vocab.Vocab;"
   ]
  },
  {
   "cell_type": "code",
   "execution_count": 67,
   "metadata": {
    "pycharm": {
     "name": "#%%\n"
    }
   },
   "outputs": [
    {
     "data": {
      "text/plain": "defaultdict(<bound method Vocab._default_unk_index of <torchtext.vocab.Vocab object at 0x000001754D3AD730>>,\n            {'<unk>': 0,\n             '<pad>': 1,\n             'the': 2,\n             ',': 3,\n             'a': 4,\n             'of': 5,\n             'and': 6,\n             '-': 7,\n             'to': 8,\n             '.': 9,\n             \"'s\": 10,\n             'in': 11,\n             'is': 12,\n             'that': 13,\n             'it': 14,\n             'as': 15,\n             'with': 16,\n             'for': 17,\n             'its': 18,\n             'film': 19,\n             'an': 20,\n             'movie': 21,\n             'this': 22,\n             '`': 23,\n             'but': 24,\n             'be': 25,\n             'on': 26,\n             'you': 27,\n             'by': 28,\n             'more': 29,\n             \"n't\": 30,\n             \"'\": 31,\n             'his': 32,\n             'one': 33,\n             'about': 34,\n             'not': 35,\n             'at': 36,\n             'than': 37,\n             'from': 38,\n             'or': 39,\n             'all': 40,\n             '--': 41,\n             'like': 42,\n             'have': 43,\n             'are': 44,\n             'has': 45,\n             'so': 46,\n             'out': 47,\n             'story': 48,\n             '-rrb-': 49,\n             'up': 50,\n             'who': 51,\n             'good': 52,\n             'too': 53,\n             'most': 54,\n             'into': 55,\n             '-lrb-': 56,\n             'if': 57,\n             'their': 58,\n             'what': 59,\n             'time': 60,\n             'no': 61,\n             'characters': 62,\n             '...': 63,\n             'much': 64,\n             \"''\": 65,\n             'comedy': 66,\n             'i': 67,\n             'can': 68,\n             'your': 69,\n             'just': 70,\n             'life': 71,\n             'some': 72,\n             'does': 73,\n             'funny': 74,\n             'even': 75,\n             'little': 76,\n             'will': 77,\n             'well': 78,\n             'way': 79,\n             'very': 80,\n             'any': 81,\n             'been': 82,\n             'make': 83,\n             'only': 84,\n             'which': 85,\n             'he': 86,\n             'movies': 87,\n             'love': 88,\n             'bad': 89,\n             'do': 90,\n             'there': 91,\n             'new': 92,\n             'director': 93,\n             'work': 94,\n             'own': 95,\n             'enough': 96,\n             'her': 97,\n             'was': 98,\n             'they': 99,\n             'us': 100,\n             'old': 101,\n             'made': 102,\n             'other': 103,\n             'something': 104,\n             'action': 105,\n             'two': 106,\n             'would': 107,\n             'never': 108,\n             'best': 109,\n             'we': 110,\n             'many': 111,\n             'through': 112,\n             'people': 113,\n             'when': 114,\n             'off': 115,\n             'self': 116,\n             'them': 117,\n             'see': 118,\n             'character': 119,\n             'makes': 120,\n             'world': 121,\n             'how': 122,\n             'first': 123,\n             'films': 124,\n             'over': 125,\n             'may': 126,\n             'plot': 127,\n             'drama': 128,\n             'being': 129,\n             'could': 130,\n             'audience': 131,\n             'long': 132,\n             'big': 133,\n             'better': 134,\n             'really': 135,\n             'look': 136,\n             'feel': 137,\n             'those': 138,\n             'man': 139,\n             'sense': 140,\n             'great': 141,\n             'real': 142,\n             'every': 143,\n             'without': 144,\n             'humor': 145,\n             'get': 146,\n             'few': 147,\n             'minutes': 148,\n             'screen': 149,\n             \"'re\": 150,\n             'ever': 151,\n             'another': 152,\n             'should': 153,\n             'such': 154,\n             'both': 155,\n             'hollywood': 156,\n             'still': 157,\n             'performances': 158,\n             'down': 159,\n             'human': 160,\n             'cast': 161,\n             'fun': 162,\n             'nothing': 163,\n             'family': 164,\n             'while': 165,\n             ':': 166,\n             'hard': 167,\n             'american': 168,\n             'heart': 169,\n             'between': 170,\n             'might': 171,\n             'far': 172,\n             'less': 173,\n             'often': 174,\n             'performance': 175,\n             'things': 176,\n             'were': 177,\n             'kind': 178,\n             'had': 179,\n             'moments': 180,\n             'before': 181,\n             'these': 182,\n             'script': 183,\n             'after': 184,\n             'interesting': 185,\n             'acting': 186,\n             'our': 187,\n             'back': 188,\n             'original': 189,\n             'also': 190,\n             'seen': 191,\n             'because': 192,\n             'rather': 193,\n             'young': 194,\n             'right': 195,\n             'almost': 196,\n             'watch': 197,\n             'end': 198,\n             'material': 199,\n             'my': 200,\n             'entertaining': 201,\n             'full': 202,\n             'actors': 203,\n             'emotional': 204,\n             'picture': 205,\n             'thriller': 206,\n             'find': 207,\n             'go': 208,\n             'take': 209,\n             'here': 210,\n             'cinema': 211,\n             'me': 212,\n             'war': 213,\n             'tale': 214,\n             'year': 215,\n             'music': 216,\n             'scenes': 217,\n             'come': 218,\n             'lot': 219,\n             've': 220,\n             'dialogue': 221,\n             'yet': 222,\n             'times': 223,\n             'same': 224,\n             'half': 225,\n             'romantic': 226,\n             'years': 227,\n             'quite': 228,\n             'style': 229,\n             'going': 230,\n             'him': 231,\n             'star': 232,\n             'watching': 233,\n             'itself': 234,\n             'thing': 235,\n             'making': 236,\n             'documentary': 237,\n             'special': 238,\n             'high': 239,\n             'seems': 240,\n             'kids': 241,\n             'subject': 242,\n             'comes': 243,\n             'give': 244,\n             'worth': 245,\n             'where': 246,\n             'ca': 247,\n             'point': 248,\n             'women': 249,\n             'last': 250,\n             'dark': 251,\n             'history': 252,\n             'though': 253,\n             'seem': 254,\n             \"'ll\": 255,\n             'art': 256,\n             'compelling': 257,\n             'show': 258,\n             'three': 259,\n             'keep': 260,\n             'comic': 261,\n             'works': 262,\n             'anything': 263,\n             'feels': 264,\n             'hour': 265,\n             'did': 266,\n             'want': 267,\n             'ultimately': 268,\n             'least': 269,\n             'care': 270,\n             'think': 271,\n             'video': 272,\n             'together': 273,\n             'familiar': 274,\n             'bit': 275,\n             'takes': 276,\n             ';': 277,\n             'place': 278,\n             'around': 279,\n             'pretty': 280,\n             'true': 281,\n             'visual': 282,\n             'sweet': 283,\n             'actually': 284,\n             'say': 285,\n             'looking': 286,\n             '?': 287,\n             'entertainment': 288,\n             'gets': 289,\n             'sometimes': 290,\n             'away': 291,\n             'she': 292,\n             'nearly': 293,\n             'under': 294,\n             'day': 295,\n             'part': 296,\n             'then': 297,\n             'need': 298,\n             'once': 299,\n             'feature': 300,\n             'know': 301,\n             'lives': 302,\n             'experience': 303,\n             'set': 304,\n             'moving': 305,\n             'again': 306,\n             'piece': 307,\n             'direction': 308,\n             'low': 309,\n             'short': 310,\n             'why': 311,\n             'anyone': 312,\n             'dull': 313,\n             'fans': 314,\n             'cinematic': 315,\n             'face': 316,\n             'culture': 317,\n             'genre': 318,\n             'flick': 319,\n             'clever': 320,\n             'tv': 321,\n             'fascinating': 322,\n             'laughs': 323,\n             'children': 324,\n             'narrative': 325,\n             'summer': 326,\n             'done': 327,\n             'matter': 328,\n             'theater': 329,\n             'modern': 330,\n             'gives': 331,\n             'light': 332,\n             'screenplay': 333,\n             'series': 334,\n             'black': 335,\n             'trying': 336,\n             'age': 337,\n             'writer': 338,\n             'each': 339,\n             'interest': 340,\n             'premise': 341,\n             'silly': 342,\n             'book': 343,\n             'effects': 344,\n             'men': 345,\n             'since': 346,\n             'smart': 347,\n             'title': 348,\n             'girl': 349,\n             'woman': 350,\n             'idea': 351,\n             'whole': 352,\n             'study': 353,\n             'always': 354,\n             'horror': 355,\n             'enjoyable': 356,\n             'whose': 357,\n             'power': 358,\n             'dramatic': 359,\n             'level': 360,\n             'amusing': 361,\n             'small': 362,\n             'middle': 363,\n             'simply': 364,\n             'everything': 365,\n             'live': 366,\n             'easy': 367,\n             'mind': 368,\n             'next': 369,\n             'energy': 370,\n             'beautiful': 371,\n             'filmmakers': 372,\n             'stories': 373,\n             'engaging': 374,\n             'especially': 375,\n             'himself': 376,\n             'powerful': 377,\n             'strong': 378,\n             'feeling': 379,\n             'french': 380,\n             'goes': 381,\n             'obvious': 382,\n             'hours': 383,\n             'political': 384,\n             'wit': 385,\n             'line': 386,\n             'probably': 387,\n             'school': 388,\n             'coming': 389,\n             'social': 390,\n             'head': 391,\n             'mr.': 392,\n             'become': 393,\n             'effort': 394,\n             'past': 395,\n             'spirit': 396,\n             'tone': 397,\n             'serious': 398,\n             'filmmaking': 399,\n             'instead': 400,\n             'intelligence': 401,\n             'john': 402,\n             'worst': 403,\n             'romance': 404,\n             'surprisingly': 405,\n             'camera': 406,\n             'side': 407,\n             'classic': 408,\n             'opera': 409,\n             'thought': 410,\n             'turn': 411,\n             'actor': 412,\n             'debut': 413,\n             'perfect': 414,\n             'predictable': 415,\n             'run': 416,\n             'else': 417,\n             'melodrama': 418,\n             'version': 419,\n             'everyone': 420,\n             'exercise': 421,\n             'portrait': 422,\n             'charming': 423,\n             'intelligent': 424,\n             'written': 425,\n             \"'d\": 426,\n             'fresh': 427,\n             'project': 428,\n             'believe': 429,\n             'either': 430,\n             'manages': 431,\n             'ideas': 432,\n             'death': 433,\n             'stand': 434,\n             'leave': 435,\n             'now': 436,\n             'offers': 437,\n             'recent': 438,\n             'stuff': 439,\n             'laugh': 440,\n             'reason': 441,\n             'teen': 442,\n             'home': 443,\n             'quirky': 444,\n             'charm': 445,\n             'truly': 446,\n             'boy': 447,\n             'cold': 448,\n             'audiences': 449,\n             'de': 450,\n             'solid': 451,\n             'sure': 452,\n             'already': 453,\n             'likely': 454,\n             'message': 455,\n             'reality': 456,\n             'sort': 457,\n             'dead': 458,\n             'despite': 459,\n             'enjoy': 460,\n             'crime': 461,\n             'filmmaker': 462,\n             'gags': 463,\n             'impossible': 464,\n             'sex': 465,\n             'suspense': 466,\n             'fine': 467,\n             'inside': 468,\n             'put': 469,\n             'rich': 470,\n             'lack': 471,\n             'adventure': 472,\n             'becomes': 473,\n             'beyond': 474,\n             'left': 475,\n             'tragedy': 476,\n             'plays': 477,\n             'play': 478,\n             'shot': 479,\n             'wo': 480,\n             '!': 481,\n             'act': 482,\n             'directed': 483,\n             'satisfying': 484,\n             'themselves': 485,\n             'deeply': 486,\n             'jokes': 487,\n             'storytelling': 488,\n             'complex': 489,\n             'personal': 490,\n             'turns': 491,\n             'ways': 492,\n             'different': 493,\n             'ending': 494,\n             'class': 495,\n             'michael': 496,\n             'pop': 497,\n             'slow': 498,\n             'thin': 499,\n             'moral': 500,\n             'above': 501,\n             'eyes': 502,\n             'flat': 503,\n             'ride': 504,\n             'boring': 505,\n             'role': 506,\n             'violence': 507,\n             'particularly': 508,\n             'scene': 509,\n             'during': 510,\n             'viewers': 511,\n             'concept': 512,\n             'rare': 513,\n             'sad': 514,\n             'viewer': 515,\n             'intriguing': 516,\n             'must': 517,\n             'otherwise': 518,\n             'pleasure': 519,\n             'working': 520,\n             'beautifully': 521,\n             'dumb': 522,\n             'tell': 523,\n             'imagination': 524,\n             'running': 525,\n             'hilarious': 526,\n             'simple': 527,\n             'city': 528,\n             'comedies': 529,\n             'cool': 530,\n             'game': 531,\n             'mystery': 532,\n             'days': 533,\n             'house': 534,\n             'passion': 535,\n             'soap': 536,\n             'top': 537,\n             'm': 538,\n             'honest': 539,\n             'strange': 540,\n             'against': 541,\n             'four': 542,\n             'cut': 543,\n             'difficult': 544,\n             'easily': 545,\n             'heavy': 546,\n             'historical': 547,\n             'attention': 548,\n             'talent': 549,\n             'animation': 550,\n             'completely': 551,\n             'contrived': 552,\n             'sequences': 553,\n             'seeing': 554,\n             'straight': 555,\n             'beauty': 556,\n             'final': 557,\n             'budget': 558,\n             'close': 559,\n             'deep': 560,\n             'nature': 561,\n             'period': 562,\n             'second': 563,\n             'shows': 564,\n             'single': 565,\n             'wrong': 566,\n             'attempt': 567,\n             'elements': 568,\n             'hero': 569,\n             'looks': 570,\n             'view': 571,\n             'fact': 572,\n             'fashioned': 573,\n             'hand': 574,\n             'ii': 575,\n             'sequel': 576,\n             'cliches': 577,\n             'fairly': 578,\n             'formula': 579,\n             'help': 580,\n             'none': 581,\n             'cultural': 582,\n             'fails': 583,\n             'having': 584,\n             'important': 585,\n             'rock': 586,\n             'memorable': 587,\n             'possible': 588,\n             'tries': 589,\n             'bland': 590,\n             'certainly': 591,\n             'emotionally': 592,\n             'fantasy': 593,\n             'guys': 594,\n             'images': 595,\n             'production': 596,\n             'white': 597,\n             'getting': 598,\n             'moment': 599,\n             'pictures': 600,\n             'writing': 601,\n             'along': 602,\n             'career': 603,\n             'nor': 604,\n             'oscar': 605,\n             'room': 606,\n             'whether': 607,\n             'issues': 608,\n             'novel': 609,\n             'supposed': 610,\n             'usual': 611,\n             'call': 612,\n             'emotions': 613,\n             'events': 614,\n             'eye': 615,\n             'gone': 616,\n             'america': 617,\n             'case': 618,\n             'lacks': 619,\n             'playing': 620,\n             'creepy': 621,\n             'earnest': 622,\n             'given': 623,\n             'got': 624,\n             'lost': 625,\n             'night': 626,\n             'proves': 627,\n             'quality': 628,\n             'artist': 629,\n             'mood': 630,\n             'psychological': 631,\n             'spy': 632,\n             'tired': 633,\n             'told': 634,\n             'york': 635,\n             'found': 636,\n             'b': 637,\n             'change': 638,\n             'creative': 639,\n             'guy': 640,\n             'road': 641,\n             'scary': 642,\n             'gentle': 643,\n             'kid': 644,\n             'mean': 645,\n             'neither': 646,\n             'adults': 647,\n             'dog': 648,\n             'hit': 649,\n             'plenty': 650,\n             'touching': 651,\n             'ambitious': 652,\n             'entirely': 653,\n             'lead': 654,\n             'visually': 655,\n             'fire': 656,\n             'mostly': 657,\n             'vision': 658,\n             'barely': 659,\n             'brilliant': 660,\n             'ones': 661,\n             'wild': 662,\n             'ends': 663,\n             'remarkable': 664,\n             'sit': 665,\n             'previous': 666,\n             'approach': 667,\n             'certain': 668,\n             'major': 669,\n             'mess': 670,\n             'odd': 671,\n             'surprising': 672,\n             'taste': 673,\n             'wonderful': 674,\n             'air': 675,\n             'dry': 676,\n             'inspired': 677,\n             'perfectly': 678,\n             'remains': 679,\n             'truth': 680,\n             'unsettling': 681,\n             'gorgeous': 682,\n             'job': 683,\n             'loud': 684,\n             'problem': 685,\n             'talented': 686,\n             'thinking': 687,\n             'college': 688,\n             'date': 689,\n             'relationships': 690,\n             'somewhat': 691,\n             'try': 692,\n             'convincing': 693,\n             'disney': 694,\n             'sentimental': 695,\n             'themes': 696,\n             'acted': 697,\n             'cheap': 698,\n             'future': 699,\n             'monster': 700,\n             'parents': 701,\n             'ugly': 702,\n             'bring': 703,\n             'finally': 704,\n             'flawed': 705,\n             'hip': 706,\n             'occasionally': 707,\n             'terrific': 708,\n             'female': 709,\n             'flicks': 710,\n             'knows': 711,\n             'large': 712,\n             'touch': 713,\n             'expect': 714,\n             'urban': 715,\n             'latest': 716,\n             'pretentious': 717,\n             'process': 718,\n             'thoughtful': 719,\n             'clear': 720,\n             'free': 721,\n             'meaning': 722,\n             'pace': 723,\n             'success': 724,\n             'warm': 725,\n             'crowd': 726,\n             'cute': 727,\n             'robert': 728,\n             'saw': 729,\n             'sci': 730,\n             'able': 731,\n             'appealing': 732,\n             'century': 733,\n             'country': 734,\n             'fi': 735,\n             'situation': 736,\n             'used': 737,\n             'welcome': 738,\n             'worthy': 739,\n             'doing': 740,\n             'epic': 741,\n             'relationship': 742,\n             'seat': 743,\n             'based': 744,\n             'several': 745,\n             'today': 746,\n             'appeal': 747,\n             'behind': 748,\n             'british': 749,\n             'gross': 750,\n             'hold': 751,\n             'battle': 752,\n             'decent': 753,\n             'episode': 754,\n             'genuine': 755,\n             'keeps': 756,\n             'soul': 757,\n             'stupid': 758,\n             'trip': 759,\n             'car': 760,\n             'fully': 761,\n             'taking': 762,\n             'actress': 763,\n             'couple': 764,\n             'entire': 765,\n             'insight': 766,\n             'tension': 767,\n             'thoroughly': 768,\n             'use': 769,\n             'words': 770,\n             'david': 771,\n             'edge': 772,\n             'examination': 773,\n             'overall': 774,\n             'painful': 775,\n             'satire': 776,\n             'television': 777,\n             'throughout': 778,\n             'unexpected': 779,\n             'water': 780,\n             'adaptation': 781,\n             'animated': 782,\n             'living': 783,\n             'name': 784,\n             'nice': 785,\n             'business': 786,\n             'called': 787,\n             'contemporary': 788,\n             'core': 789,\n             'journey': 790,\n             'money': 791,\n             'others': 792,\n             'skin': 793,\n             'target': 794,\n             'company': 795,\n             'felt': 796,\n             'imagine': 797,\n             'problems': 798,\n             'taken': 799,\n             'execution': 800,\n             'fast': 801,\n             'gay': 802,\n             'humanity': 803,\n             'potential': 804,\n             'word': 805,\n             'across': 806,\n             'crazy': 807,\n             'create': 808,\n             'engrossing': 809,\n             'era': 810,\n             'places': 811,\n             'sexual': 812,\n             'situations': 813,\n             'winning': 814,\n             'depth': 815,\n             'falls': 816,\n             'spielberg': 817,\n             'sustain': 818,\n             'frame': 819,\n             'hell': 820,\n             'mediocre': 821,\n             'understand': 822,\n             'worse': 823,\n             '90': 824,\n             'evil': 825,\n             'goofy': 826,\n             'magic': 827,\n             'manner': 828,\n             'needs': 829,\n             'offer': 830,\n             'ya': 831,\n             'co': 832,\n             'flaws': 833,\n             'girls': 834,\n             'hot': 835,\n             'stylish': 836,\n             'tragic': 837,\n             'unique': 838,\n             'average': 839,\n             'brain': 840,\n             'dream': 841,\n             'excellent': 842,\n             'fiction': 843,\n             'pieces': 844,\n             'quiet': 845,\n             'start': 846,\n             'ago': 847,\n             'delightful': 848,\n             'exactly': 849,\n             'let': 850,\n             'pay': 851,\n             'break': 852,\n             'colorful': 853,\n             'crafted': 854,\n             'pure': 855,\n             'remake': 856,\n             'someone': 857,\n             'highly': 858,\n             'huge': 859,\n             'means': 860,\n             'memory': 861,\n             'successful': 862,\n             'surprise': 863,\n             'ensemble': 864,\n             'justice': 865,\n             'leaves': 866,\n             'five': 867,\n             'force': 868,\n             'minute': 869,\n             'purpose': 870,\n             'share': 871,\n             'sincere': 872,\n             'spiritual': 873,\n             'ultimate': 874,\n             'unfunny': 875,\n             'voice': 876,\n             'wants': 877,\n             'form': 878,\n             'post': 879,\n             'promise': 880,\n             'shoot': 881,\n             'shots': 882,\n             'slightly': 883,\n             'stars': 884,\n             'trouble': 885,\n             'viewing': 886,\n             'warmth': 887,\n             'blood': 888,\n             'extreme': 889,\n             'forget': 890,\n             'killer': 891,\n             'master': 892,\n             'merely': 893,\n             'mother': 894,\n             'pacing': 895,\n             'rest': 896,\n             'uses': 897,\n             'wife': 898,\n             'bizarre': 899,\n             'cartoon': 900,\n             'george': 901,\n             'happy': 902,\n             'impact': 903,\n             'intended': 904,\n             'interested': 905,\n             'late': 906,\n             'masterpiece': 907,\n             'plain': 908,\n             'sharp': 909,\n             'slight': 910,\n             'sophisticated': 911,\n             'believable': 912,\n             'conclusion': 913,\n             'equally': 914,\n             'festival': 915,\n             'indie': 916,\n             'list': 917,\n             'starts': 918,\n             'tom': 919,\n             'upon': 920,\n             'among': 921,\n             'cause': 922,\n             'friendship': 923,\n             'manipulative': 924,\n             'open': 925,\n             'poor': 926,\n             'steven': 927,\n             'subtle': 928,\n             'until': 929,\n             'grace': 930,\n             'impressive': 931,\n             'intrigue': 932,\n             'perspective': 933,\n             'release': 934,\n             'telling': 935,\n             'wanted': 936,\n             'awful': 937,\n             'considerable': 938,\n             'delivers': 939,\n             'figure': 940,\n             'grant': 941,\n             'happen': 942,\n             'party': 943,\n             'sensitive': 944,\n             'step': 945,\n             'typical': 946,\n             'weird': 947,\n             'child': 948,\n             'computer': 949,\n             'dreams': 950,\n             'funnier': 951,\n             'mildly': 952,\n             'popcorn': 953,\n             'wish': 954,\n             'witty': 955,\n             'amount': 956,\n             'boys': 957,\n             'greatest': 958,\n             'identity': 959,\n             'intimate': 960,\n             'inventive': 961,\n             'length': 962,\n             'maybe': 963,\n             'murder': 964,\n             'society': 965,\n             'substance': 966,\n             'twice': 967,\n             'favor': 968,\n             'fit': 969,\n             'franchise': 970,\n             'joke': 971,\n             'meditation': 972,\n             'minded': 973,\n             'politics': 974,\n             'questions': 975,\n             'rate': 976,\n             'science': 977,\n             'slapstick': 978,\n             'surprises': 979,\n             'tedious': 980,\n             '2002': 981,\n             'conflict': 982,\n             'lovely': 983,\n             'particular': 984,\n             'points': 985,\n             'read': 986,\n             'red': 987,\n             'shallow': 988,\n             'sound': 989,\n             'sports': 990,\n             'twists': 991,\n             'utterly': 992,\n             'watchable': 993,\n             'artistic': 994,\n             'forced': 995,\n             'growing': 996,\n             'holiday': 997,\n             'key': 998,\n             'motion': 999,\n             ...})"
     },
     "execution_count": 67,
     "metadata": {},
     "output_type": "execute_result"
    }
   ],
   "source": [
    "TEXT.vocab.stoi # {word:id}"
   ]
  },
  {
   "cell_type": "code",
   "execution_count": 68,
   "metadata": {
    "pycharm": {
     "name": "#%%\n"
    }
   },
   "outputs": [
    {
     "data": {
      "text/plain": "['<unk>',\n '<pad>',\n 'the',\n ',',\n 'a',\n 'of',\n 'and',\n '-',\n 'to',\n '.',\n \"'s\",\n 'in',\n 'is',\n 'that',\n 'it',\n 'as',\n 'with',\n 'for',\n 'its',\n 'film',\n 'an',\n 'movie',\n 'this',\n '`',\n 'but',\n 'be',\n 'on',\n 'you',\n 'by',\n 'more',\n \"n't\",\n \"'\",\n 'his',\n 'one',\n 'about',\n 'not',\n 'at',\n 'than',\n 'from',\n 'or',\n 'all',\n '--',\n 'like',\n 'have',\n 'are',\n 'has',\n 'so',\n 'out',\n 'story',\n '-rrb-',\n 'up',\n 'who',\n 'good',\n 'too',\n 'most',\n 'into',\n '-lrb-',\n 'if',\n 'their',\n 'what',\n 'time',\n 'no',\n 'characters',\n '...',\n 'much',\n \"''\",\n 'comedy',\n 'i',\n 'can',\n 'your',\n 'just',\n 'life',\n 'some',\n 'does',\n 'funny',\n 'even',\n 'little',\n 'will',\n 'well',\n 'way',\n 'very',\n 'any',\n 'been',\n 'make',\n 'only',\n 'which',\n 'he',\n 'movies',\n 'love',\n 'bad',\n 'do',\n 'there',\n 'new',\n 'director',\n 'work',\n 'own',\n 'enough',\n 'her',\n 'was',\n 'they',\n 'us',\n 'old',\n 'made',\n 'other',\n 'something',\n 'action',\n 'two',\n 'would',\n 'never',\n 'best',\n 'we',\n 'many',\n 'through',\n 'people',\n 'when',\n 'off',\n 'self',\n 'them',\n 'see',\n 'character',\n 'makes',\n 'world',\n 'how',\n 'first',\n 'films',\n 'over',\n 'may',\n 'plot',\n 'drama',\n 'being',\n 'could',\n 'audience',\n 'long',\n 'big',\n 'better',\n 'really',\n 'look',\n 'feel',\n 'those',\n 'man',\n 'sense',\n 'great',\n 'real',\n 'every',\n 'without',\n 'humor',\n 'get',\n 'few',\n 'minutes',\n 'screen',\n \"'re\",\n 'ever',\n 'another',\n 'should',\n 'such',\n 'both',\n 'hollywood',\n 'still',\n 'performances',\n 'down',\n 'human',\n 'cast',\n 'fun',\n 'nothing',\n 'family',\n 'while',\n ':',\n 'hard',\n 'american',\n 'heart',\n 'between',\n 'might',\n 'far',\n 'less',\n 'often',\n 'performance',\n 'things',\n 'were',\n 'kind',\n 'had',\n 'moments',\n 'before',\n 'these',\n 'script',\n 'after',\n 'interesting',\n 'acting',\n 'our',\n 'back',\n 'original',\n 'also',\n 'seen',\n 'because',\n 'rather',\n 'young',\n 'right',\n 'almost',\n 'watch',\n 'end',\n 'material',\n 'my',\n 'entertaining',\n 'full',\n 'actors',\n 'emotional',\n 'picture',\n 'thriller',\n 'find',\n 'go',\n 'take',\n 'here',\n 'cinema',\n 'me',\n 'war',\n 'tale',\n 'year',\n 'music',\n 'scenes',\n 'come',\n 'lot',\n 've',\n 'dialogue',\n 'yet',\n 'times',\n 'same',\n 'half',\n 'romantic',\n 'years',\n 'quite',\n 'style',\n 'going',\n 'him',\n 'star',\n 'watching',\n 'itself',\n 'thing',\n 'making',\n 'documentary',\n 'special',\n 'high',\n 'seems',\n 'kids',\n 'subject',\n 'comes',\n 'give',\n 'worth',\n 'where',\n 'ca',\n 'point',\n 'women',\n 'last',\n 'dark',\n 'history',\n 'though',\n 'seem',\n \"'ll\",\n 'art',\n 'compelling',\n 'show',\n 'three',\n 'keep',\n 'comic',\n 'works',\n 'anything',\n 'feels',\n 'hour',\n 'did',\n 'want',\n 'ultimately',\n 'least',\n 'care',\n 'think',\n 'video',\n 'together',\n 'familiar',\n 'bit',\n 'takes',\n ';',\n 'place',\n 'around',\n 'pretty',\n 'true',\n 'visual',\n 'sweet',\n 'actually',\n 'say',\n 'looking',\n '?',\n 'entertainment',\n 'gets',\n 'sometimes',\n 'away',\n 'she',\n 'nearly',\n 'under',\n 'day',\n 'part',\n 'then',\n 'need',\n 'once',\n 'feature',\n 'know',\n 'lives',\n 'experience',\n 'set',\n 'moving',\n 'again',\n 'piece',\n 'direction',\n 'low',\n 'short',\n 'why',\n 'anyone',\n 'dull',\n 'fans',\n 'cinematic',\n 'face',\n 'culture',\n 'genre',\n 'flick',\n 'clever',\n 'tv',\n 'fascinating',\n 'laughs',\n 'children',\n 'narrative',\n 'summer',\n 'done',\n 'matter',\n 'theater',\n 'modern',\n 'gives',\n 'light',\n 'screenplay',\n 'series',\n 'black',\n 'trying',\n 'age',\n 'writer',\n 'each',\n 'interest',\n 'premise',\n 'silly',\n 'book',\n 'effects',\n 'men',\n 'since',\n 'smart',\n 'title',\n 'girl',\n 'woman',\n 'idea',\n 'whole',\n 'study',\n 'always',\n 'horror',\n 'enjoyable',\n 'whose',\n 'power',\n 'dramatic',\n 'level',\n 'amusing',\n 'small',\n 'middle',\n 'simply',\n 'everything',\n 'live',\n 'easy',\n 'mind',\n 'next',\n 'energy',\n 'beautiful',\n 'filmmakers',\n 'stories',\n 'engaging',\n 'especially',\n 'himself',\n 'powerful',\n 'strong',\n 'feeling',\n 'french',\n 'goes',\n 'obvious',\n 'hours',\n 'political',\n 'wit',\n 'line',\n 'probably',\n 'school',\n 'coming',\n 'social',\n 'head',\n 'mr.',\n 'become',\n 'effort',\n 'past',\n 'spirit',\n 'tone',\n 'serious',\n 'filmmaking',\n 'instead',\n 'intelligence',\n 'john',\n 'worst',\n 'romance',\n 'surprisingly',\n 'camera',\n 'side',\n 'classic',\n 'opera',\n 'thought',\n 'turn',\n 'actor',\n 'debut',\n 'perfect',\n 'predictable',\n 'run',\n 'else',\n 'melodrama',\n 'version',\n 'everyone',\n 'exercise',\n 'portrait',\n 'charming',\n 'intelligent',\n 'written',\n \"'d\",\n 'fresh',\n 'project',\n 'believe',\n 'either',\n 'manages',\n 'ideas',\n 'death',\n 'stand',\n 'leave',\n 'now',\n 'offers',\n 'recent',\n 'stuff',\n 'laugh',\n 'reason',\n 'teen',\n 'home',\n 'quirky',\n 'charm',\n 'truly',\n 'boy',\n 'cold',\n 'audiences',\n 'de',\n 'solid',\n 'sure',\n 'already',\n 'likely',\n 'message',\n 'reality',\n 'sort',\n 'dead',\n 'despite',\n 'enjoy',\n 'crime',\n 'filmmaker',\n 'gags',\n 'impossible',\n 'sex',\n 'suspense',\n 'fine',\n 'inside',\n 'put',\n 'rich',\n 'lack',\n 'adventure',\n 'becomes',\n 'beyond',\n 'left',\n 'tragedy',\n 'plays',\n 'play',\n 'shot',\n 'wo',\n '!',\n 'act',\n 'directed',\n 'satisfying',\n 'themselves',\n 'deeply',\n 'jokes',\n 'storytelling',\n 'complex',\n 'personal',\n 'turns',\n 'ways',\n 'different',\n 'ending',\n 'class',\n 'michael',\n 'pop',\n 'slow',\n 'thin',\n 'moral',\n 'above',\n 'eyes',\n 'flat',\n 'ride',\n 'boring',\n 'role',\n 'violence',\n 'particularly',\n 'scene',\n 'during',\n 'viewers',\n 'concept',\n 'rare',\n 'sad',\n 'viewer',\n 'intriguing',\n 'must',\n 'otherwise',\n 'pleasure',\n 'working',\n 'beautifully',\n 'dumb',\n 'tell',\n 'imagination',\n 'running',\n 'hilarious',\n 'simple',\n 'city',\n 'comedies',\n 'cool',\n 'game',\n 'mystery',\n 'days',\n 'house',\n 'passion',\n 'soap',\n 'top',\n 'm',\n 'honest',\n 'strange',\n 'against',\n 'four',\n 'cut',\n 'difficult',\n 'easily',\n 'heavy',\n 'historical',\n 'attention',\n 'talent',\n 'animation',\n 'completely',\n 'contrived',\n 'sequences',\n 'seeing',\n 'straight',\n 'beauty',\n 'final',\n 'budget',\n 'close',\n 'deep',\n 'nature',\n 'period',\n 'second',\n 'shows',\n 'single',\n 'wrong',\n 'attempt',\n 'elements',\n 'hero',\n 'looks',\n 'view',\n 'fact',\n 'fashioned',\n 'hand',\n 'ii',\n 'sequel',\n 'cliches',\n 'fairly',\n 'formula',\n 'help',\n 'none',\n 'cultural',\n 'fails',\n 'having',\n 'important',\n 'rock',\n 'memorable',\n 'possible',\n 'tries',\n 'bland',\n 'certainly',\n 'emotionally',\n 'fantasy',\n 'guys',\n 'images',\n 'production',\n 'white',\n 'getting',\n 'moment',\n 'pictures',\n 'writing',\n 'along',\n 'career',\n 'nor',\n 'oscar',\n 'room',\n 'whether',\n 'issues',\n 'novel',\n 'supposed',\n 'usual',\n 'call',\n 'emotions',\n 'events',\n 'eye',\n 'gone',\n 'america',\n 'case',\n 'lacks',\n 'playing',\n 'creepy',\n 'earnest',\n 'given',\n 'got',\n 'lost',\n 'night',\n 'proves',\n 'quality',\n 'artist',\n 'mood',\n 'psychological',\n 'spy',\n 'tired',\n 'told',\n 'york',\n 'found',\n 'b',\n 'change',\n 'creative',\n 'guy',\n 'road',\n 'scary',\n 'gentle',\n 'kid',\n 'mean',\n 'neither',\n 'adults',\n 'dog',\n 'hit',\n 'plenty',\n 'touching',\n 'ambitious',\n 'entirely',\n 'lead',\n 'visually',\n 'fire',\n 'mostly',\n 'vision',\n 'barely',\n 'brilliant',\n 'ones',\n 'wild',\n 'ends',\n 'remarkable',\n 'sit',\n 'previous',\n 'approach',\n 'certain',\n 'major',\n 'mess',\n 'odd',\n 'surprising',\n 'taste',\n 'wonderful',\n 'air',\n 'dry',\n 'inspired',\n 'perfectly',\n 'remains',\n 'truth',\n 'unsettling',\n 'gorgeous',\n 'job',\n 'loud',\n 'problem',\n 'talented',\n 'thinking',\n 'college',\n 'date',\n 'relationships',\n 'somewhat',\n 'try',\n 'convincing',\n 'disney',\n 'sentimental',\n 'themes',\n 'acted',\n 'cheap',\n 'future',\n 'monster',\n 'parents',\n 'ugly',\n 'bring',\n 'finally',\n 'flawed',\n 'hip',\n 'occasionally',\n 'terrific',\n 'female',\n 'flicks',\n 'knows',\n 'large',\n 'touch',\n 'expect',\n 'urban',\n 'latest',\n 'pretentious',\n 'process',\n 'thoughtful',\n 'clear',\n 'free',\n 'meaning',\n 'pace',\n 'success',\n 'warm',\n 'crowd',\n 'cute',\n 'robert',\n 'saw',\n 'sci',\n 'able',\n 'appealing',\n 'century',\n 'country',\n 'fi',\n 'situation',\n 'used',\n 'welcome',\n 'worthy',\n 'doing',\n 'epic',\n 'relationship',\n 'seat',\n 'based',\n 'several',\n 'today',\n 'appeal',\n 'behind',\n 'british',\n 'gross',\n 'hold',\n 'battle',\n 'decent',\n 'episode',\n 'genuine',\n 'keeps',\n 'soul',\n 'stupid',\n 'trip',\n 'car',\n 'fully',\n 'taking',\n 'actress',\n 'couple',\n 'entire',\n 'insight',\n 'tension',\n 'thoroughly',\n 'use',\n 'words',\n 'david',\n 'edge',\n 'examination',\n 'overall',\n 'painful',\n 'satire',\n 'television',\n 'throughout',\n 'unexpected',\n 'water',\n 'adaptation',\n 'animated',\n 'living',\n 'name',\n 'nice',\n 'business',\n 'called',\n 'contemporary',\n 'core',\n 'journey',\n 'money',\n 'others',\n 'skin',\n 'target',\n 'company',\n 'felt',\n 'imagine',\n 'problems',\n 'taken',\n 'execution',\n 'fast',\n 'gay',\n 'humanity',\n 'potential',\n 'word',\n 'across',\n 'crazy',\n 'create',\n 'engrossing',\n 'era',\n 'places',\n 'sexual',\n 'situations',\n 'winning',\n 'depth',\n 'falls',\n 'spielberg',\n 'sustain',\n 'frame',\n 'hell',\n 'mediocre',\n 'understand',\n 'worse',\n '90',\n 'evil',\n 'goofy',\n 'magic',\n 'manner',\n 'needs',\n 'offer',\n 'ya',\n 'co',\n 'flaws',\n 'girls',\n 'hot',\n 'stylish',\n 'tragic',\n 'unique',\n 'average',\n 'brain',\n 'dream',\n 'excellent',\n 'fiction',\n 'pieces',\n 'quiet',\n 'start',\n 'ago',\n 'delightful',\n 'exactly',\n 'let',\n 'pay',\n 'break',\n 'colorful',\n 'crafted',\n 'pure',\n 'remake',\n 'someone',\n 'highly',\n 'huge',\n 'means',\n 'memory',\n 'successful',\n 'surprise',\n 'ensemble',\n 'justice',\n 'leaves',\n 'five',\n 'force',\n 'minute',\n 'purpose',\n 'share',\n 'sincere',\n 'spiritual',\n 'ultimate',\n 'unfunny',\n 'voice',\n 'wants',\n 'form',\n 'post',\n 'promise',\n 'shoot',\n 'shots',\n 'slightly',\n 'stars',\n 'trouble',\n 'viewing',\n 'warmth',\n 'blood',\n 'extreme',\n 'forget',\n 'killer',\n 'master',\n 'merely',\n 'mother',\n 'pacing',\n 'rest',\n 'uses',\n 'wife',\n 'bizarre',\n 'cartoon',\n 'george',\n 'happy',\n 'impact',\n 'intended',\n 'interested',\n 'late',\n 'masterpiece',\n 'plain',\n 'sharp',\n 'slight',\n 'sophisticated',\n 'believable',\n 'conclusion',\n 'equally',\n 'festival',\n 'indie',\n 'list',\n 'starts',\n 'tom',\n 'upon',\n 'among',\n 'cause',\n 'friendship',\n 'manipulative',\n 'open',\n 'poor',\n 'steven',\n 'subtle',\n 'until',\n 'grace',\n 'impressive',\n 'intrigue',\n 'perspective',\n 'release',\n 'telling',\n 'wanted',\n 'awful',\n 'considerable',\n 'delivers',\n 'figure',\n 'grant',\n 'happen',\n 'party',\n 'sensitive',\n 'step',\n 'typical',\n 'weird',\n 'child',\n 'computer',\n 'dreams',\n 'funnier',\n 'mildly',\n 'popcorn',\n 'wish',\n 'witty',\n 'amount',\n 'boys',\n 'greatest',\n 'identity',\n 'intimate',\n 'inventive',\n 'length',\n 'maybe',\n 'murder',\n 'society',\n 'substance',\n 'twice',\n 'favor',\n 'fit',\n 'franchise',\n 'joke',\n 'meditation',\n 'minded',\n 'politics',\n 'questions',\n 'rate',\n 'science',\n 'slapstick',\n 'surprises',\n 'tedious',\n '2002',\n 'conflict',\n 'lovely',\n 'particular',\n 'points',\n 'read',\n 'red',\n 'shallow',\n 'sound',\n 'sports',\n 'twists',\n 'utterly',\n 'watchable',\n 'artistic',\n 'forced',\n 'growing',\n 'holiday',\n 'key',\n 'motion',\n ...]"
     },
     "execution_count": 68,
     "metadata": {},
     "output_type": "execute_result"
    }
   ],
   "source": [
    "TEXT.vocab.itos # [word];索引为id"
   ]
  },
  {
   "cell_type": "code",
   "execution_count": 69,
   "metadata": {
    "pycharm": {
     "name": "#%%\n"
    }
   },
   "outputs": [
    {
     "data": {
      "text/plain": "Counter({'the': 41360,\n         'darker': 58,\n         'elements': 170,\n         'of': 26108,\n         'misogyny': 23,\n         'and': 25674,\n         'unprovoked': 7,\n         'violence': 191,\n         'suffocate': 4,\n         'illumination': 6,\n         'created': 74,\n         'by': 3190,\n         'two': 926,\n         'daughters': 22,\n         'playing': 159,\n         'malcolm': 8,\n         'mcdowell': 4,\n         \"'re\": 650,\n         'in': 11309,\n         'luck': 40,\n         '.': 14161,\n         'these': 534,\n         'guys': 165,\n         \"'\": 3127,\n         'superhuman': 15,\n         'capacity': 45,\n         'it': 9419,\n         \"'s\": 13595,\n         'waltzed': 6,\n         'itself': 419,\n         'into': 1745,\n         'art': 386,\n         'film': 5354,\n         'pantheon': 30,\n         'new': 1031,\n         'to': 18267,\n         'see': 825,\n         'pretty': 348,\n         'funny': 1284,\n         'stomp': 7,\n         'could': 764,\n         'be': 4041,\n         'this': 4559,\n         'good': 1841,\n         'a': 29092,\n         'large': 140,\n         'dog': 153,\n         'is': 10800,\n         'one': 2995,\n         'hour': 375,\n         'thirty': 32,\n         '-': 18500,\n         'three': 383,\n         'minutes': 655,\n         'kilted': 1,\n         'jackson': 75,\n         'task': 31,\n         'movie': 5024,\n         ',': 33540,\n         'few': 661,\n         'nice': 127,\n         'twists': 102,\n         'masterpiece': 110,\n         'had': 540,\n         'her': 989,\n         'beaten': 16,\n         'pulp': 41,\n         'his': 3101,\n         'dangerous': 64,\n         'game': 183,\n         'curling': 20,\n         'may': 787,\n         'unique': 119,\n         'sport': 26,\n         'but': 4101,\n         'men': 277,\n         'with': 6219,\n         'brooms': 13,\n         'distinctly': 28,\n         'ordinary': 76,\n         'freshening': 6,\n         'suckers': 7,\n         'even': 1283,\n         'if': 1601,\n         'made': 947,\n         'its': 5622,\n         'original': 522,\n         'release': 107,\n         'date': 144,\n         'last': 393,\n         'fall': 85,\n         'will': 1253,\n         'no': 1513,\n         'doubt': 89,\n         'rally': 18,\n         'cause': 108,\n         'trotting': 12,\n         'out': 2249,\n         'threadbare': 25,\n         'standbys': 11,\n         'like': 2544,\n         '`': 4499,\n         'triumph': 81,\n         'all': 2690,\n         'that': 9858,\n         'malarkey': 11,\n         'without': 673,\n         'an': 5283,\n         'apparent': 68,\n         'audience': 747,\n         'sad': 188,\n         'sordid': 25,\n         'universe': 27,\n         'i': 1438,\n         'do': 1048,\n         \"n't\": 3144,\n         'know': 320,\n         'frailty': 36,\n         'turn': 236,\n         'bill': 40,\n         'paxton': 25,\n         'list': 109,\n         'director': 1016,\n         've': 446,\n         'seen': 517,\n         'some': 1346,\n         'bad': 1050,\n         'singer': 21,\n         'turned': 97,\n         'actors': 485,\n         'interesting': 529,\n         'where': 397,\n         'imagination': 185,\n         'lead': 152,\n         'when': 844,\n         'given': 158,\n         'opportunity': 97,\n         'you': 3884,\n         'extreme': 111,\n         'action': 927,\n         'packed': 69,\n         'hint': 23,\n         'humor': 668,\n         'strident': 5,\n         'inelegant': 11,\n         'small': 265,\n         'independent': 34,\n         'suffering': 70,\n         'from': 2764,\n         'severe': 35,\n         'case': 160,\n         'hollywood': 622,\n         'itis': 6,\n         'burning': 24,\n         'blasting': 9,\n         'annoying': 79,\n         'specimen': 24,\n         'humanity': 124,\n         'modeled': 4,\n         'after': 530,\n         '-lrb-': 1684,\n         'seagal': 79,\n         '-rrb-': 1946,\n         'earlier': 27,\n         'copycat': 19,\n         'under': 323,\n         'siege': 17,\n         'joel': 31,\n         'zwick': 8,\n         'less': 561,\n         'than': 2837,\n         'weird': 106,\n         'meditation': 103,\n         'on': 3988,\n         'success': 137,\n         'artistic': 101,\n         'integrity': 46,\n         'intellectual': 72,\n         'bankruptcy': 8,\n         'heavy': 177,\n         'subject': 403,\n         'matter': 296,\n         'dystopian': 5,\n         'catalytic': 7,\n         'wasted': 62,\n         'nearly': 326,\n         'hours': 250,\n         'your': 1417,\n         'own': 1003,\n         'precious': 54,\n         'life': 1392,\n         'silly': 280,\n         'little': 1281,\n         'puddle': 11,\n         'feels': 377,\n         'sentence': 39,\n         'casts': 30,\n         'spooky': 69,\n         'net': 21,\n         'atlantic': 33,\n         'ocean': 33,\n         'spits': 15,\n         'back': 524,\n         'cling': 5,\n         'modern': 294,\n         'day': 322,\n         'royals': 3,\n         'have': 2527,\n         'nothing': 590,\n         'comes': 402,\n         'scandals': 8,\n         'symbols': 6,\n         'seldahl': 20,\n         'wollter': 26,\n         'rewarded': 12,\n         'script': 532,\n         'assumes': 11,\n         'are': 2465,\n         'very': 1196,\n         'bright': 85,\n         'bring': 141,\n         'fresh': 229,\n         'unforced': 38,\n         'naturalism': 19,\n         'their': 1543,\n         'characters': 1496,\n         'direction': 314,\n         'costumes': 26,\n         'gorgeous': 145,\n         'finely': 34,\n         'detailed': 63,\n         'ethan': 5,\n         'hawke': 17,\n         'child': 105,\n         'those': 705,\n         'rare': 188,\n         'films': 791,\n         'seems': 404,\n         'as': 7015,\n         'though': 389,\n         'was': 973,\n         'written': 230,\n         'for': 6015,\n         'somehow': 57,\n         'assassin': 38,\n         'greatest': 104,\n         'hits': 71,\n         'holland': 11,\n         'lets': 72,\n         'things': 557,\n         'peter': 93,\n         'midway': 19,\n         'notably': 11,\n         'better': 726,\n         'acted': 142,\n         '--': 2683,\n         'far': 561,\n         'crass': 49,\n         'other': 947,\n         'recent': 222,\n         'efforts': 71,\n         'burgeoning': 9,\n         'genre': 309,\n         'about': 2975,\n         'black': 287,\n         'urban': 139,\n         'professionals': 28,\n         'would': 926,\n         'want': 367,\n         'live': 263,\n         'waydowntown': 21,\n         'hilarious': 184,\n         'place': 349,\n         'visit': 39,\n         'final': 173,\n         'previous': 148,\n         'unseen': 6,\n         'material': 498,\n         'resides': 6,\n         'chateau': 16,\n         'has': 2431,\n         'joke': 103,\n         'decent': 131,\n         'ones': 150,\n         'amounts': 43,\n         'mildly': 105,\n         'sometimes': 333,\n         'tedious': 103,\n         'ultimately': 365,\n         'insignificant': 7,\n         'bermuda': 9,\n         'triangle': 49,\n         'uplifting': 47,\n         'moving': 318,\n         'answer': 29,\n         'generosity': 21,\n         'optimism': 26,\n         'birds': 5,\n         'tries': 166,\n         'force': 113,\n         'quirkiness': 14,\n         'upon': 109,\n         'technical': 43,\n         'exercise': 231,\n         'much': 1481,\n         'maudlin': 63,\n         'any': 1180,\n         'school': 248,\n         'special': 412,\n         'can': 1417,\n         'imagine': 125,\n         'disney': 143,\n         'cinderella': 20,\n         'proved': 14,\n         'dream': 118,\n         'wish': 105,\n         'heart': 564,\n         'makes': 812,\n         'then': 322,\n         'ii': 169,\n         'proves': 158,\n         'nightmare': 55,\n         'studio': 93,\n         'wallet': 33,\n         'there': 1033,\n         'many': 877,\n         'conclusive': 8,\n         'answers': 84,\n         'story': 2043,\n         'pointed': 37,\n         'personalities': 41,\n         'courage': 82,\n         'tragedy': 204,\n         'vs.': 65,\n         'big': 729,\n         'werewolf': 8,\n         'avoiding': 9,\n         'eye': 161,\n         'contact': 21,\n         'walking': 34,\n         'slowly': 42,\n         'away': 332,\n         \"'ll\": 386,\n         'forget': 111,\n         'monday': 12,\n         'they': 965,\n         'old': 954,\n         'enough': 995,\n         'developed': 69,\n         'taste': 147,\n         'so': 2289,\n         'kids': 403,\n         'gorgeously': 27,\n         'atmospheric': 31,\n         'changing': 81,\n         'chance': 87,\n         'encounters': 25,\n         'teddy': 6,\n         'bears': 74,\n         'come': 446,\n         'family': 584,\n         'eats': 19,\n         'meddles': 14,\n         'argues': 12,\n         'laughs': 303,\n         'kibbitzes': 10,\n         'fights': 46,\n         'make': 1133,\n         'stones': 10,\n         'weep': 18,\n         'shameful': 8,\n         'never': 921,\n         'boring': 191,\n         'channels': 6,\n         'possibility': 24,\n         'exploration': 90,\n         'thornier': 9,\n         'aspects': 70,\n         'nature\\\\/nurture': 11,\n         'argument': 19,\n         'regards': 12,\n         'japanese': 67,\n         'monster': 142,\n         'construct': 36,\n         'real': 697,\n         'time': 1525,\n         'reliance': 13,\n         'formula': 168,\n         'fails': 167,\n         'exactly': 117,\n         'what': 1528,\n         'directly': 22,\n         'influenced': 33,\n         'girl': 276,\n         'meets': 56,\n         'love': 1052,\n         'entertaining': 489,\n         'worth': 398,\n         'look': 721,\n         'lived': 89,\n         'screen': 653,\n         'experience': 319,\n         'six': 39,\n         'winner': 46,\n         'miss': 70,\n         'hawaiian': 24,\n         'tropic': 13,\n         'pageant': 12,\n         'not': 2930,\n         'absolutely': 66,\n         'sense': 702,\n         'unbelievably': 4,\n         'stupid': 131,\n         'occasionally': 141,\n         'fun': 596,\n         'absurdity': 43,\n         'unforgettably': 10,\n         'stunts': 52,\n         'or': 2758,\n         'uproariously': 6,\n         'rude': 38,\n         'lines': 84,\n         'dialogue': 445,\n         'remember': 95,\n         'squeeze': 40,\n         'our': 527,\n         'emotions': 161,\n         'too': 1796,\n         'familiar': 352,\n         'dramatic': 269,\n         'arc': 37,\n         'holocaust': 60,\n         'escape': 81,\n         'collapses': 17,\n         '30': 37,\n         'slap': 56,\n         'happy': 110,\n         'series': 289,\n         'adolescent': 73,\n         'how': 805,\n         'long': 738,\n         'filmmakers': 258,\n         'copy': 37,\n         'saving': 43,\n         'private': 51,\n         'ryan': 80,\n         \"''\": 1472,\n         'battle': 131,\n         'scenes': 449,\n         'before': 538,\n         'realizing': 18,\n         'steven': 108,\n         'spielberg': 122,\n         'keeps': 131,\n         'grounded': 16,\n         'undeniable': 50,\n         'social': 247,\n         'realism': 91,\n         'midnight': 53,\n         'bits': 72,\n         'funnier': 105,\n         'malle': 9,\n         'dud': 26,\n         'music': 451,\n         'writer': 285,\n         '\\\\/': 49,\n         'm.': 19,\n         'night': 158,\n         'shyamalan': 44,\n         'ability': 99,\n         'pull': 73,\n         'together': 353,\n         'easily': 177,\n         'accessible': 54,\n         'stories': 258,\n         'resonate': 22,\n         'profundity': 7,\n         'gangs': 49,\n         'despite': 211,\n         'gravity': 38,\n         'often': 561,\n         'watch': 506,\n         'spaghetti': 10,\n         'western': 41,\n         'go': 478,\n         'them': 826,\n         'both': 629,\n         'continue': 8,\n         'negotiate': 24,\n         'imperfect': 12,\n         'hate': 91,\n         'relationship': 134,\n         'worse': 121,\n         'bland': 165,\n         'inconsequential': 34,\n         'treat': 63,\n         'watching': 420,\n         'shaw': 7,\n         'british': 132,\n         'stage': 63,\n         'icon': 24,\n         'melting': 5,\n         'heat': 29,\n         'phocion': 10,\n         'attentions': 10,\n         'somber': 57,\n         'clockstoppers': 27,\n         'sci': 136,\n         'fi': 135,\n         'excuse': 67,\n         'him': 425,\n         'undeniably': 66,\n         'hard': 573,\n         'colorful': 116,\n         'deceptively': 45,\n         'buoyant': 53,\n         'until': 108,\n         'suddenly': 25,\n         'pulls': 59,\n         'rug': 20,\n         'burkinabe': 7,\n         'filmmaker': 210,\n         'dani': 15,\n         'kouyate': 20,\n         'reworking': 12,\n         'folk': 47,\n         'whose': 271,\n         'roots': 55,\n         '7th': 18,\n         'century': 135,\n         'oral': 16,\n         'traditions': 38,\n         'also': 520,\n         'political': 250,\n         'allegory': 35,\n         'thrills': 81,\n         'should': 647,\n         'most': 1774,\n         'mind': 261,\n         'killer': 111,\n         'lively': 37,\n         'songs': 71,\n         'deft': 57,\n         'punctuation': 9,\n         'wore': 16,\n         'welcome': 135,\n         'audiences': 215,\n         'several': 133,\n         'years': 433,\n         'ago': 117,\n         'travel': 44,\n         'agency': 20,\n         'video': 355,\n         'faith': 93,\n         'madness': 57,\n         'blood': 111,\n         'curdling': 14,\n         'stuff': 222,\n         'lives': 320,\n         'altar': 12,\n         'boys': 104,\n         'allen': 93,\n         'been': 1171,\n         'making': 415,\n         'piffle': 21,\n         'while': 579,\n         'ending': 195,\n         'way': 1216,\n         'saying': 58,\n         'airhead': 15,\n         'business': 126,\n         'deserves': 97,\n         'right': 512,\n         'now': 223,\n         'douglas': 15,\n         'mcgrath': 16,\n         'takes': 351,\n         'nickleby': 25,\n         'halfhearted': 9,\n         'zeal': 25,\n         '8th': 11,\n         'grade': 80,\n         'boy': 217,\n         'delving': 13,\n         'required': 39,\n         'reading': 72,\n         'debut': 235,\n         'insists': 12,\n         'importance': 53,\n         'moments': 540,\n         'people': 859,\n         'connect': 78,\n         'express': 37,\n         'each': 283,\n         'b': 155,\n         'frame': 121,\n         'louts': 5,\n         'idea': 275,\n         'climbing': 6,\n         'steps': 8,\n         'stadium': 10,\n         'seat': 134,\n         'megaplex': 15,\n         'dragonfly': 28,\n         'shoot': 112,\n         'feel': 712,\n         'pissed': 7,\n         'off': 843,\n         'still': 611,\n         'looking': 336,\n         'common': 81,\n         'through': 871,\n         'line': 248,\n         'works': 380,\n         'schumacher': 17,\n         'does': 1331,\n         'probably': 248,\n         'job': 145,\n         'anyone': 313,\n         'at': 2892,\n         'bringing': 43,\n         'hopkins\\\\/rock': 9,\n         'collision': 29,\n         'acting': 527,\n         'styles': 24,\n         'onscreen': 75,\n         'personas': 11,\n         'sing': 21,\n         'beautifully': 186,\n         'audacious': 32,\n         'impossible': 210,\n         'yet': 445,\n         'compelling': 386,\n         'witty': 105,\n         'trenchant': 28,\n         'maggie': 11,\n         'g.': 3,\n         'amazing': 58,\n         'breakthrough': 30,\n         'first': 793,\n         'starring': 79,\n         'role': 191,\n         'up': 1946,\n         'times': 443,\n         'my': 493,\n         'loved': 50,\n         'more': 3150,\n         'flirts': 20,\n         'kitsch': 13,\n         'fahrenheit': 9,\n         'laugh': 221,\n         'loud': 145,\n         'between': 563,\n         'brutal': 44,\n         'work': 1009,\n         'intriguing': 187,\n         'bit': 351,\n         'characterisations': 5,\n         'inoffensive': 36,\n         'actually': 342,\n         'rather': 513,\n         'sweet': 345,\n         'melt': 24,\n         'iranian': 68,\n         'american': 567,\n         '1979': 9,\n         'crazy': 123,\n         'hell': 121,\n         'chasing': 30,\n         'amy': 51,\n         'truly': 218,\n         'egregious': 12,\n         'luckiest': 14,\n         'best': 910,\n         'moves': 51,\n         'beyond': 204,\n         'surfaces': 7,\n         'opposite': 12,\n         'musical': 70,\n         'passion': 182,\n         'attack': 20,\n         'clones': 11,\n         'technological': 11,\n         'lacks': 159,\n         'juice': 13,\n         'delight': 84,\n         'silver': 47,\n         'platter': 9,\n         'aged': 64,\n         'loses': 64,\n         'fire': 151,\n         'flickering': 8,\n         'perfunctory': 17,\n         'conclusion': 109,\n         'think': 357,\n         'inconsistencies': 14,\n         'janice': 23,\n         'behavior': 95,\n         'low': 314,\n         'comedy': 1438,\n         'downright': 68,\n         'doltish': 9,\n         'uneventful': 16,\n         'successful': 115,\n         'light': 290,\n         'consistently': 71,\n         'delightful': 117,\n         'gently': 36,\n         'swaying': 5,\n         'forth': 36,\n         'cradles': 10,\n         'veiling': 9,\n         'tension': 129,\n         'beneath': 71,\n         'otherwise': 187,\n         'tender': 68,\n         'movements': 49,\n         'attributable': 5,\n         'drab': 16,\n         'emotional': 482,\n         'ghosts': 20,\n         'throughout': 128,\n         'term': 51,\n         'serves': 55,\n         'fashioned': 169,\n         'drama': 772,\n         'character': 816,\n         'parker': 46,\n         'viewers': 189,\n         'barney': 26,\n         'crushingly': 12,\n         'self': 826,\n         'indulgent': 80,\n         'spectacle': 83,\n         'stultifyingly': 9,\n         'obvious': 252,\n         'accomplish': 14,\n         'sequels': 88,\n         'which': 1094,\n         'seem': 388,\n         'ask': 67,\n         'whether': 163,\n         'civilization': 10,\n         'offers': 222,\n         'cure': 19,\n         'vincent': 50,\n         'complaint': 33,\n         'cherish': 12,\n         'romantic': 434,\n         'least': 361,\n         'only': 1112,\n         'hat': 28,\n         'set': 319,\n         'turd': 15,\n         'squashed': 11,\n         'freshman': 7,\n         'fluke': 12,\n         'hype': 46,\n         'quieter': 22,\n         'monumental': 13,\n         'achievement': 58,\n         'practically': 22,\n         'every': 684,\n         'facet': 22,\n         'inept': 57,\n         'filmmaking': 242,\n         'constantly': 33,\n         'being': 769,\n         'interrupted': 7,\n         'elizabeth': 27,\n         'hurley': 23,\n         'bathing': 10,\n         'suit': 40,\n         'arguments': 35,\n         'bard': 42,\n         'immortal': 8,\n         'plays': 203,\n         'clear': 137,\n         'videos': 42,\n         'setting': 101,\n         'soaked': 33,\n         'murderous': 14,\n         'ambition': 62,\n         'era': 123,\n         'richard': 43,\n         'nixon': 11,\n         'excels': 19,\n         'because': 516,\n         'unlike': 36,\n         'movies': 1060,\n         'ilk': 22,\n         'hope': 96,\n         'sy': 10,\n         'another': 647,\n         'open': 108,\n         'faced': 67,\n         'smiling': 23,\n         'madmen': 9,\n         'usual': 162,\n         'fantasies': 47,\n         'produces': 5,\n         'tough': 71,\n         'pill': 12,\n         'swallow': 42,\n         'get': 667,\n         'behold': 40,\n         'wearing': 40,\n         'somewhat': 144,\n         'cumbersome': 18,\n         '3d': 23,\n         'goggles': 14,\n         'theater': 295,\n         'gives': 291,\n         'ample': 12,\n         'scale': 47,\n         'suspense': 208,\n         'bunch': 61,\n         'slapped': 4,\n         'anemic': 12,\n         'pretentious': 138,\n         'ensemble': 114,\n         'cast': 597,\n         'turns': 196,\n         'collectively': 18,\n         'stellar': 8,\n         'performance': 559,\n         'florid': 19,\n         'biopic': 41,\n         'next': 261,\n         'shock': 72,\n         'buff': 8,\n         'unfairly': 4,\n         'perfect': 235,\n         'example': 49,\n         'rancid': 4,\n         'well': 1228,\n         'intentioned': 32,\n         'shamelessly': 32,\n         'manipulative': 108,\n         'wise': 94,\n         'powerful': 255,\n         'tale': 453,\n         'calm': 37,\n         'thoughtful': 138,\n         'scare': 17,\n         'notable': 25,\n         'observation': 35,\n         'pop': 194,\n         'farts': 36,\n         'boobs': 26,\n         'unmentionables': 13,\n         'bracing': 25,\n         'truth': 146,\n         'refreshing': 72,\n         'phoniness': 13,\n         'female': 140,\n         'bonding': 18,\n         'pictures': 164,\n         'divine': 47,\n         'secrets': 58,\n         'ya': 120,\n         'sisterhood': 33,\n         'strong': 255,\n         'message': 213,\n         'end': 501,\n         'inspiring': 86,\n         'insightful': 82,\n         'transcend': 28,\n         'bio': 43,\n         'pic': 68,\n         'waste': 100,\n         'fearless': 16,\n         'purity': 8,\n         'hip': 141,\n         'hop': 79,\n         'indie': 109,\n         'snipes': 39,\n         'springs': 6,\n         'cynical': 56,\n         'creeps': 12,\n         'revolution': 80,\n         'studios': 27,\n         'entertainment': 335,\n         'excepting': 12,\n         'hewitt': 24,\n         'found': 156,\n         'remarkable': 149,\n         'novel': 162,\n         'concept': 188,\n         'overlong': 35,\n         'infomercial': 29,\n         'capable': 62,\n         'trio': 9,\n         'watchable': 102,\n         'put': 207,\n         'sleep': 47,\n         'bewildered': 9,\n         'artsy': 29,\n         'pointless': 94,\n         'visuals': 85,\n         'home': 219,\n         'alabama': 32,\n         'dumb': 186,\n         'candy': 59,\n         'including': 71,\n         'gere': 23,\n         'dancing': 69,\n         'shoes': 14,\n         'convincing': 143,\n         'gem': 39,\n         'guns': 85,\n         'brand': 59,\n         'name': 127,\n         'limp': 26,\n         'eddie': 34,\n         'murphy': 81,\n         'world': 806,\n         'tremors': 14,\n         'exceedingly': 28,\n         'avengers': 6,\n         'wild': 150,\n         'west': 45,\n         'situation': 135,\n         'balanced': 31,\n         'fashion': 72,\n         'takashi': 7,\n         'miike': 13,\n         'potential': 124,\n         'sanctimoniousness': 7,\n         'sadistic': 12,\n         'bike': 9,\n         'flick': 308,\n         'vittorio': 12,\n         'de': 215,\n         'sica': 13,\n         'proud': 40,\n         'say': 340,\n         'mother\\\\/daughter': 23,\n         'pair': 53,\n         'feeble': 9,\n         'evocative': 56,\n         'images': 165,\n         'striking': 76,\n         'traits': 7,\n         'delights': 44,\n         'abiding': 3,\n         'impression': 53,\n         'going': 428,\n         'trip': 131,\n         'burn': 39,\n         'brain': 118,\n         'we': 907,\n         'suffice': 4,\n         'total': 58,\n         'promise': 112,\n         'ice': 99,\n         'cube': 27,\n         'quite': 431,\n         'ripe': 23,\n         'screwball': 31,\n         'ideas': 227,\n         'friday': 59,\n         'spreads': 9,\n         'thin': 194,\n         'thoroughly': 129,\n         'debated': 16,\n         'media': 47,\n         'doofus': 18,\n         'tommy': 7,\n         'clean': 47,\n         'peep': 12,\n         'booths': 12,\n         'surrounding': 38,\n         'betrayed': 6,\n         'surprisingly': 239,\n         'shoddy': 23,\n         'makeup': 23,\n         'candles': 8,\n         'storytelling': 198,\n         'skills': 31,\n         'hill': 33,\n         'blends': 2,\n         'uneasily': 7,\n         'titillating': 7,\n         'lee': 64,\n         'nine': 24,\n         'queens': 26,\n         'maelstrom': 19,\n         'strange': 179,\n         'contemplative': 11,\n         'mctiernan': 6,\n         'remake': 116,\n         'brilliant': 150,\n         'deftly': 47,\n         'sewing': 6,\n         'confusing': 60,\n         'horrifying': 58,\n         'vision': 151,\n         'intense': 83,\n         'engrossing': 123,\n         ...})"
     },
     "execution_count": 69,
     "metadata": {},
     "output_type": "execute_result"
    }
   ],
   "source": [
    "TEXT.vocab.freqs # 词频"
   ]
  },
  {
   "cell_type": "code",
   "execution_count": 70,
   "metadata": {
    "pycharm": {
     "name": "#%%\n"
    }
   },
   "outputs": [
    {
     "data": {
      "text/plain": "2002"
     },
     "execution_count": 70,
     "metadata": {},
     "output_type": "execute_result"
    }
   ],
   "source": [
    "len(TEXT.vocab.itos)"
   ]
  },
  {
   "cell_type": "code",
   "execution_count": 71,
   "metadata": {
    "pycharm": {
     "name": "#%%\n"
    }
   },
   "outputs": [
    {
     "data": {
      "text/plain": "tensor([[ 0.0000,  0.0000,  0.0000,  ...,  0.0000,  0.0000,  0.0000],\n        [ 0.0000,  0.0000,  0.0000,  ...,  0.0000,  0.0000,  0.0000],\n        [-0.0382, -0.2449,  0.7281,  ..., -0.1459,  0.8278,  0.2706],\n        ...,\n        [ 0.3620,  0.4363,  0.1054,  ...,  0.1954,  0.3780,  0.4060],\n        [ 0.0186,  0.5835,  0.4911,  ..., -0.6450, -0.4011,  1.0333],\n        [ 0.1054, -0.1024,  0.3480,  ..., -0.5547, -0.2831, -0.1007]])"
     },
     "execution_count": 71,
     "metadata": {},
     "output_type": "execute_result"
    }
   ],
   "source": [
    "TEXT.vocab.vectors # 词向量矩阵"
   ]
  },
  {
   "cell_type": "code",
   "execution_count": 72,
   "metadata": {
    "pycharm": {
     "name": "#%%\n"
    }
   },
   "outputs": [
    {
     "data": {
      "text/plain": "torch.Size([2002, 100])"
     },
     "execution_count": 72,
     "metadata": {},
     "output_type": "execute_result"
    }
   ],
   "source": [
    "TEXT.vocab.vectors.shape # 单词个数为2002,词向量维度为100"
   ]
  },
  {
   "cell_type": "code",
   "execution_count": 73,
   "metadata": {
    "pycharm": {
     "name": "#%%\n"
    }
   },
   "outputs": [
    {
     "data": {
      "text/plain": "52"
     },
     "execution_count": 73,
     "metadata": {},
     "output_type": "execute_result"
    }
   ],
   "source": [
    "TEXT.vocab.stoi['good'] # 单词'good'在单词表中的id"
   ]
  },
  {
   "cell_type": "code",
   "execution_count": 74,
   "metadata": {
    "pycharm": {
     "name": "#%%\n"
    }
   },
   "outputs": [
    {
     "name": "stdout",
     "output_type": "stream",
     "text": [
      "torch.Size([100])\n",
      "tensor([-0.0308,  0.1199,  0.5391, -0.4370, -0.7394, -0.1534,  0.0811, -0.3856,\n",
      "        -0.6880, -0.4163, -0.1318, -0.2492,  0.4410,  0.0859,  0.2087, -0.0636,\n",
      "         0.0622, -0.0512, -0.1340,  1.1418,  0.0365,  0.4903, -0.2457, -0.4120,\n",
      "         0.1235,  0.4134, -0.4840, -0.5424, -0.2779, -0.2601, -0.3848,  0.7866,\n",
      "         0.1023, -0.2071,  0.4075,  0.3203, -0.5105,  0.4836, -0.0099, -0.3868,\n",
      "         0.0350, -0.1670,  0.4237, -0.5416, -0.3032, -0.3698,  0.0828, -0.5254,\n",
      "        -0.0645, -1.3980, -0.1487, -0.3533, -0.1118,  1.0912,  0.0959, -2.8129,\n",
      "         0.4524,  0.4621,  1.6012, -0.2084, -0.2738,  0.7120, -1.0754, -0.0470,\n",
      "         0.6748, -0.0658,  0.7582,  0.3941,  0.1551, -0.6472,  0.3280, -0.0317,\n",
      "         0.5290, -0.4389,  0.6740,  0.4214, -0.1198, -0.2178, -0.2976, -0.1351,\n",
      "         0.5990,  0.4653, -0.5826, -0.0232, -1.5442,  0.0190, -0.0159,  0.0245,\n",
      "        -0.5802, -0.6766, -0.0404, -0.4404,  0.0833,  0.2004, -0.7550,  0.1692,\n",
      "        -0.2657, -0.5288,  0.1758,  1.0650])\n"
     ]
    }
   ],
   "source": [
    "word_vec = TEXT.vocab.vectors[TEXT.vocab.stoi['good']]\n",
    "print(word_vec.shape)\n",
    "print(word_vec) # 单词'good'对应的词向量\n"
   ]
  }
 ],
 "metadata": {
  "kernelspec": {
   "display_name": "Python 3",
   "language": "python",
   "name": "python3"
  },
  "language_info": {
   "codemirror_mode": {
    "name": "ipython",
    "version": 3
   },
   "file_extension": ".py",
   "mimetype": "text/x-python",
   "name": "python",
   "nbconvert_exporter": "python",
   "pygments_lexer": "ipython3",
   "version": "3.7.7"
  },
  "toc": {
   "base_numbering": 1,
   "nav_menu": {},
   "number_sections": true,
   "sideBar": true,
   "skip_h1_title": false,
   "title_cell": "Table of Contents",
   "title_sidebar": "Contents",
   "toc_cell": false,
   "toc_position": {},
   "toc_section_display": true,
   "toc_window_display": false
  }
 },
 "nbformat": 4,
 "nbformat_minor": 1
}