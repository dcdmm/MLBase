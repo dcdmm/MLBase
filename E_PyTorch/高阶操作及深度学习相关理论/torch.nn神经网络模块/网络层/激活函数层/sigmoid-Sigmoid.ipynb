{
 "cells": [
  {
   "cell_type": "markdown",
   "metadata": {
    "collapsed": true,
    "pycharm": {
     "name": "#%% md\n"
    }
   },
   "source": [
    "$$ \\mathrm{Sigmoid}(x) = \\sigma(x) = \\frac{1}{1 + \\exp(-x)}  $$\n",
    "\n",
    "$$ \\sigma'(x) = \\sigma(x)(1 - \\sigma(x))  \\in [0, 0.25] $$"
   ]
  },
  {
   "cell_type": "code",
   "execution_count": 5,
   "outputs": [],
   "source": [
    "import torch\n",
    "import matplotlib.pyplot as plt\n",
    "import torch.nn as nn"
   ],
   "metadata": {
    "collapsed": false,
    "pycharm": {
     "name": "#%%\n"
    }
   }
  },
  {
   "cell_type": "code",
   "execution_count": 6,
   "outputs": [
    {
     "data": {
      "text/plain": "<matplotlib.legend.Legend at 0x201905b9400>"
     },
     "execution_count": 6,
     "metadata": {},
     "output_type": "execute_result"
    },
    {
     "data": {
      "text/plain": "<Figure size 432x288 with 1 Axes>",
      "image/png": "[encoded data removed]"
     },
     "metadata": {
      "needs_background": "light"
     },
     "output_type": "display_data"
    }
   ],
   "source": [
    "x = torch.linspace(-20, 20, 200)\n",
    "sigmoid_f = torch.sigmoid(x)\n",
    "\n",
    "sigmoid_f_dx = sigmoid_f * (1 - sigmoid_f)\n",
    "\n",
    "sigmoid_f_f = torch.sigmoid(sigmoid_f)\n",
    "\n",
    "plt.plot(x, sigmoid_f, color='red', label='one sigmoid', lw=0.9)\n",
    "plt.plot(x, sigmoid_f_f, color='b', label='two sigmoid', lw=0.9)\n",
    "plt.axhline(0.5, color='black')\n",
    "plt.legend()"
   ],
   "metadata": {
    "collapsed": false,
    "pycharm": {
     "name": "#%%\n"
    }
   }
  },
  {
   "cell_type": "code",
   "execution_count": 7,
   "outputs": [
    {
     "data": {
      "text/plain": "[<matplotlib.lines.Line2D at 0x2019093a760>]"
     },
     "execution_count": 7,
     "metadata": {},
     "output_type": "execute_result"
    },
    {
     "data": {
      "text/plain": "<Figure size 432x288 with 1 Axes>",
      "image/png": "[encoded data removed]"
     },
     "metadata": {
      "needs_background": "light"
     },
     "output_type": "display_data"
    }
   ],
   "source": [
    "'''\n",
    "由于Sigmoid型函数(sigmoid,tanh)的饱和性,饱和区的导数更是接近于0(最大也不超过0.25).\n",
    "这样,误差经过每一层传递都会不断衰减.当网络层数很深时,梯度就会不停衰减,\n",
    "甚至消失,使得整个网络很难训练.这就是所谓的梯度消失问题(Vanishing GradientProblem),\n",
    "也称为梯度弥散问题．\n",
    "'''\n",
    "plt.plot(x, sigmoid_f_dx, color='red')"
   ],
   "metadata": {
    "collapsed": false,
    "pycharm": {
     "name": "#%%\n"
    }
   }
  },
  {
   "cell_type": "code",
   "execution_count": 8,
   "outputs": [
    {
     "data": {
      "text/plain": "tensor([2.0612e-09, 2.5200e-09, 3.0811e-09, 3.7670e-09, 4.6057e-09, 5.6310e-09,\n        6.8847e-09, 8.4174e-09, 1.0291e-08, 1.2583e-08, 1.5384e-08, 1.8809e-08,\n        2.2996e-08, 2.8116e-08, 3.4375e-08, 4.2028e-08, 5.1385e-08, 6.2825e-08,\n        7.6812e-08, 9.3912e-08, 1.1482e-07, 1.4038e-07, 1.7164e-07, 2.0985e-07,\n        2.5657e-07, 3.1369e-07, 3.8352e-07, 4.6891e-07, 5.7330e-07, 7.0093e-07,\n        8.5698e-07, 1.0478e-06, 1.2810e-06, 1.5662e-06, 1.9149e-06, 2.3412e-06,\n        2.8625e-06, 3.4998e-06, 4.2789e-06, 5.2315e-06, 6.3962e-06, 7.8202e-06,\n        9.5612e-06, 1.1690e-05, 1.4292e-05, 1.7474e-05, 2.1364e-05, 2.6121e-05,\n        3.1936e-05, 3.9045e-05, 4.7737e-05, 5.8365e-05, 7.1357e-05, 8.7242e-05,\n        1.0666e-04, 1.3041e-04, 1.5943e-04, 1.9492e-04, 2.3831e-04, 2.9135e-04,\n        3.5619e-04, 4.3545e-04, 5.3234e-04, 6.5078e-04, 7.9555e-04, 9.7249e-04,\n        1.1887e-03, 1.4530e-03, 1.7759e-03, 2.1704e-03, 2.6524e-03, 3.2409e-03,\n        3.9596e-03, 4.8369e-03, 5.9074e-03, 7.2131e-03, 8.8048e-03, 1.0744e-02,\n        1.3104e-02, 1.5975e-02, 1.9463e-02, 2.3693e-02, 2.8816e-02, 3.5007e-02,\n        4.2469e-02, 5.1438e-02, 6.2177e-02, 7.4982e-02, 9.0170e-02, 1.0808e-01,\n        1.2903e-01, 1.5335e-01, 1.8130e-01, 2.1307e-01, 2.4871e-01, 2.8812e-01,\n        3.3103e-01, 3.7695e-01, 4.2519e-01, 4.7490e-01, 5.2510e-01, 5.7481e-01,\n        6.2305e-01, 6.6897e-01, 7.1188e-01, 7.5129e-01, 7.8693e-01, 8.1870e-01,\n        8.4665e-01, 8.7097e-01, 8.9192e-01, 9.0983e-01, 9.2502e-01, 9.3782e-01,\n        9.4856e-01, 9.5753e-01, 9.6499e-01, 9.7118e-01, 9.7631e-01, 9.8054e-01,\n        9.8402e-01, 9.8690e-01, 9.8926e-01, 9.9120e-01, 9.9279e-01, 9.9409e-01,\n        9.9516e-01, 9.9604e-01, 9.9676e-01, 9.9735e-01, 9.9783e-01, 9.9822e-01,\n        9.9855e-01, 9.9881e-01, 9.9903e-01, 9.9920e-01, 9.9935e-01, 9.9947e-01,\n        9.9956e-01, 9.9964e-01, 9.9971e-01, 9.9976e-01, 9.9981e-01, 9.9984e-01,\n        9.9987e-01, 9.9989e-01, 9.9991e-01, 9.9993e-01, 9.9994e-01, 9.9995e-01,\n        9.9996e-01, 9.9997e-01, 9.9997e-01, 9.9998e-01, 9.9998e-01, 9.9999e-01,\n        9.9999e-01, 9.9999e-01, 9.9999e-01, 9.9999e-01, 9.9999e-01, 1.0000e+00,\n        1.0000e+00, 1.0000e+00, 1.0000e+00, 1.0000e+00, 1.0000e+00, 1.0000e+00,\n        1.0000e+00, 1.0000e+00, 1.0000e+00, 1.0000e+00, 1.0000e+00, 1.0000e+00,\n        1.0000e+00, 1.0000e+00, 1.0000e+00, 1.0000e+00, 1.0000e+00, 1.0000e+00,\n        1.0000e+00, 1.0000e+00, 1.0000e+00, 1.0000e+00, 1.0000e+00, 1.0000e+00,\n        1.0000e+00, 1.0000e+00, 1.0000e+00, 1.0000e+00, 1.0000e+00, 1.0000e+00,\n        1.0000e+00, 1.0000e+00, 1.0000e+00, 1.0000e+00, 1.0000e+00, 1.0000e+00,\n        1.0000e+00, 1.0000e+00])"
     },
     "execution_count": 8,
     "metadata": {},
     "output_type": "execute_result"
    }
   ],
   "source": [
    "sigmoid_c = nn.Sigmoid()\n",
    "sigmoid_c(x)"
   ],
   "metadata": {
    "collapsed": false,
    "pycharm": {
     "name": "#%%\n"
    }
   }
  },
  {
   "cell_type": "code",
   "execution_count": 8,
   "outputs": [],
   "source": [
    "\n"
   ],
   "metadata": {
    "collapsed": false,
    "pycharm": {
     "name": "#%%\n"
    }
   }
  }
 ],
 "metadata": {
  "kernelspec": {
   "display_name": "Python 3",
   "language": "python",
   "name": "python3"
  },
  "language_info": {
   "codemirror_mode": {
    "name": "ipython",
    "version": 2
   },
   "file_extension": ".py",
   "mimetype": "text/x-python",
   "name": "python",
   "nbconvert_exporter": "python",
   "pygments_lexer": "ipython2",
   "version": "2.7.6"
  }
 },
 "nbformat": 4,
 "nbformat_minor": 0
}