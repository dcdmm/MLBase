{
 "cells": [
  {
   "cell_type": "code",
   "execution_count": 1,
   "metadata": {
    "collapsed": true
   },
   "outputs": [],
   "source": [
    "from transformers import AutoModel, AutoTokenizer"
   ]
  },
  {
   "cell_type": "code",
   "execution_count": 2,
   "outputs": [
    {
     "name": "stdout",
     "output_type": "stream",
     "text": [
      "['input_ids', 'token_type_ids', 'attention_mask']\n",
      "['<s>', '</s>', '<unk>', '<sep>', '<pad>', '<cls>', '<mask>']\n"
     ]
    }
   ],
   "source": [
    "'''\n",
    "主要预训练模型:\n",
    "'funnel-transformer/small'\n",
    "'funnel-transformer/medium'\n",
    "'funnel-transformer/large'\n",
    "'funnel-transformer/xlarge'\n",
    "'''\n",
    "tokenizer = AutoTokenizer.from_pretrained('funnel-transformer/small')\n",
    "print(tokenizer.model_input_names)  # 动态编码\n",
    "print(tokenizer.all_special_tokens)"
   ],
   "metadata": {
    "collapsed": false,
    "pycharm": {
     "name": "#%%\n"
    }
   }
  },
  {
   "cell_type": "code",
   "execution_count": 3,
   "outputs": [
    {
     "data": {
      "text/plain": "FunnelModel(\n  (embeddings): FunnelEmbeddings(\n    (word_embeddings): Embedding(30522, 768)\n    (layer_norm): LayerNorm((768,), eps=1e-09, elementwise_affine=True)\n    (dropout): Dropout(p=0.1, inplace=False)\n  )\n  (encoder): FunnelEncoder(\n    (attention_structure): FunnelAttentionStructure(\n      (sin_dropout): Dropout(p=0.1, inplace=False)\n      (cos_dropout): Dropout(p=0.1, inplace=False)\n    )\n    (blocks): ModuleList(\n      (0): ModuleList(\n        (0): FunnelLayer(\n          (attention): FunnelRelMultiheadAttention(\n            (hidden_dropout): Dropout(p=0.1, inplace=False)\n            (attention_dropout): Dropout(p=0.1, inplace=False)\n            (q_head): Linear(in_features=768, out_features=768, bias=False)\n            (k_head): Linear(in_features=768, out_features=768, bias=True)\n            (v_head): Linear(in_features=768, out_features=768, bias=True)\n            (post_proj): Linear(in_features=768, out_features=768, bias=True)\n            (layer_norm): LayerNorm((768,), eps=1e-09, elementwise_affine=True)\n          )\n          (ffn): FunnelPositionwiseFFN(\n            (linear_1): Linear(in_features=768, out_features=3072, bias=True)\n            (activation_function): NewGELUActivation()\n            (activation_dropout): Dropout(p=0.0, inplace=False)\n            (linear_2): Linear(in_features=3072, out_features=768, bias=True)\n            (dropout): Dropout(p=0.1, inplace=False)\n            (layer_norm): LayerNorm((768,), eps=1e-09, elementwise_affine=True)\n          )\n        )\n        (1): FunnelLayer(\n          (attention): FunnelRelMultiheadAttention(\n            (hidden_dropout): Dropout(p=0.1, inplace=False)\n            (attention_dropout): Dropout(p=0.1, inplace=False)\n            (q_head): Linear(in_features=768, out_features=768, bias=False)\n            (k_head): Linear(in_features=768, out_features=768, bias=True)\n            (v_head): Linear(in_features=768, out_features=768, bias=True)\n            (post_proj): Linear(in_features=768, out_features=768, bias=True)\n            (layer_norm): LayerNorm((768,), eps=1e-09, elementwise_affine=True)\n          )\n          (ffn): FunnelPositionwiseFFN(\n            (linear_1): Linear(in_features=768, out_features=3072, bias=True)\n            (activation_function): NewGELUActivation()\n            (activation_dropout): Dropout(p=0.0, inplace=False)\n            (linear_2): Linear(in_features=3072, out_features=768, bias=True)\n            (dropout): Dropout(p=0.1, inplace=False)\n            (layer_norm): LayerNorm((768,), eps=1e-09, elementwise_affine=True)\n          )\n        )\n        (2): FunnelLayer(\n          (attention): FunnelRelMultiheadAttention(\n            (hidden_dropout): Dropout(p=0.1, inplace=False)\n            (attention_dropout): Dropout(p=0.1, inplace=False)\n            (q_head): Linear(in_features=768, out_features=768, bias=False)\n            (k_head): Linear(in_features=768, out_features=768, bias=True)\n            (v_head): Linear(in_features=768, out_features=768, bias=True)\n            (post_proj): Linear(in_features=768, out_features=768, bias=True)\n            (layer_norm): LayerNorm((768,), eps=1e-09, elementwise_affine=True)\n          )\n          (ffn): FunnelPositionwiseFFN(\n            (linear_1): Linear(in_features=768, out_features=3072, bias=True)\n            (activation_function): NewGELUActivation()\n            (activation_dropout): Dropout(p=0.0, inplace=False)\n            (linear_2): Linear(in_features=3072, out_features=768, bias=True)\n            (dropout): Dropout(p=0.1, inplace=False)\n            (layer_norm): LayerNorm((768,), eps=1e-09, elementwise_affine=True)\n          )\n        )\n        (3): FunnelLayer(\n          (attention): FunnelRelMultiheadAttention(\n            (hidden_dropout): Dropout(p=0.1, inplace=False)\n            (attention_dropout): Dropout(p=0.1, inplace=False)\n            (q_head): Linear(in_features=768, out_features=768, bias=False)\n            (k_head): Linear(in_features=768, out_features=768, bias=True)\n            (v_head): Linear(in_features=768, out_features=768, bias=True)\n            (post_proj): Linear(in_features=768, out_features=768, bias=True)\n            (layer_norm): LayerNorm((768,), eps=1e-09, elementwise_affine=True)\n          )\n          (ffn): FunnelPositionwiseFFN(\n            (linear_1): Linear(in_features=768, out_features=3072, bias=True)\n            (activation_function): NewGELUActivation()\n            (activation_dropout): Dropout(p=0.0, inplace=False)\n            (linear_2): Linear(in_features=3072, out_features=768, bias=True)\n            (dropout): Dropout(p=0.1, inplace=False)\n            (layer_norm): LayerNorm((768,), eps=1e-09, elementwise_affine=True)\n          )\n        )\n      )\n      (1): ModuleList(\n        (0): FunnelLayer(\n          (attention): FunnelRelMultiheadAttention(\n            (hidden_dropout): Dropout(p=0.1, inplace=False)\n            (attention_dropout): Dropout(p=0.1, inplace=False)\n            (q_head): Linear(in_features=768, out_features=768, bias=False)\n            (k_head): Linear(in_features=768, out_features=768, bias=True)\n            (v_head): Linear(in_features=768, out_features=768, bias=True)\n            (post_proj): Linear(in_features=768, out_features=768, bias=True)\n            (layer_norm): LayerNorm((768,), eps=1e-09, elementwise_affine=True)\n          )\n          (ffn): FunnelPositionwiseFFN(\n            (linear_1): Linear(in_features=768, out_features=3072, bias=True)\n            (activation_function): NewGELUActivation()\n            (activation_dropout): Dropout(p=0.0, inplace=False)\n            (linear_2): Linear(in_features=3072, out_features=768, bias=True)\n            (dropout): Dropout(p=0.1, inplace=False)\n            (layer_norm): LayerNorm((768,), eps=1e-09, elementwise_affine=True)\n          )\n        )\n        (1): FunnelLayer(\n          (attention): FunnelRelMultiheadAttention(\n            (hidden_dropout): Dropout(p=0.1, inplace=False)\n            (attention_dropout): Dropout(p=0.1, inplace=False)\n            (q_head): Linear(in_features=768, out_features=768, bias=False)\n            (k_head): Linear(in_features=768, out_features=768, bias=True)\n            (v_head): Linear(in_features=768, out_features=768, bias=True)\n            (post_proj): Linear(in_features=768, out_features=768, bias=True)\n            (layer_norm): LayerNorm((768,), eps=1e-09, elementwise_affine=True)\n          )\n          (ffn): FunnelPositionwiseFFN(\n            (linear_1): Linear(in_features=768, out_features=3072, bias=True)\n            (activation_function): NewGELUActivation()\n            (activation_dropout): Dropout(p=0.0, inplace=False)\n            (linear_2): Linear(in_features=3072, out_features=768, bias=True)\n            (dropout): Dropout(p=0.1, inplace=False)\n            (layer_norm): LayerNorm((768,), eps=1e-09, elementwise_affine=True)\n          )\n        )\n        (2): FunnelLayer(\n          (attention): FunnelRelMultiheadAttention(\n            (hidden_dropout): Dropout(p=0.1, inplace=False)\n            (attention_dropout): Dropout(p=0.1, inplace=False)\n            (q_head): Linear(in_features=768, out_features=768, bias=False)\n            (k_head): Linear(in_features=768, out_features=768, bias=True)\n            (v_head): Linear(in_features=768, out_features=768, bias=True)\n            (post_proj): Linear(in_features=768, out_features=768, bias=True)\n            (layer_norm): LayerNorm((768,), eps=1e-09, elementwise_affine=True)\n          )\n          (ffn): FunnelPositionwiseFFN(\n            (linear_1): Linear(in_features=768, out_features=3072, bias=True)\n            (activation_function): NewGELUActivation()\n            (activation_dropout): Dropout(p=0.0, inplace=False)\n            (linear_2): Linear(in_features=3072, out_features=768, bias=True)\n            (dropout): Dropout(p=0.1, inplace=False)\n            (layer_norm): LayerNorm((768,), eps=1e-09, elementwise_affine=True)\n          )\n        )\n        (3): FunnelLayer(\n          (attention): FunnelRelMultiheadAttention(\n            (hidden_dropout): Dropout(p=0.1, inplace=False)\n            (attention_dropout): Dropout(p=0.1, inplace=False)\n            (q_head): Linear(in_features=768, out_features=768, bias=False)\n            (k_head): Linear(in_features=768, out_features=768, bias=True)\n            (v_head): Linear(in_features=768, out_features=768, bias=True)\n            (post_proj): Linear(in_features=768, out_features=768, bias=True)\n            (layer_norm): LayerNorm((768,), eps=1e-09, elementwise_affine=True)\n          )\n          (ffn): FunnelPositionwiseFFN(\n            (linear_1): Linear(in_features=768, out_features=3072, bias=True)\n            (activation_function): NewGELUActivation()\n            (activation_dropout): Dropout(p=0.0, inplace=False)\n            (linear_2): Linear(in_features=3072, out_features=768, bias=True)\n            (dropout): Dropout(p=0.1, inplace=False)\n            (layer_norm): LayerNorm((768,), eps=1e-09, elementwise_affine=True)\n          )\n        )\n      )\n      (2): ModuleList(\n        (0): FunnelLayer(\n          (attention): FunnelRelMultiheadAttention(\n            (hidden_dropout): Dropout(p=0.1, inplace=False)\n            (attention_dropout): Dropout(p=0.1, inplace=False)\n            (q_head): Linear(in_features=768, out_features=768, bias=False)\n            (k_head): Linear(in_features=768, out_features=768, bias=True)\n            (v_head): Linear(in_features=768, out_features=768, bias=True)\n            (post_proj): Linear(in_features=768, out_features=768, bias=True)\n            (layer_norm): LayerNorm((768,), eps=1e-09, elementwise_affine=True)\n          )\n          (ffn): FunnelPositionwiseFFN(\n            (linear_1): Linear(in_features=768, out_features=3072, bias=True)\n            (activation_function): NewGELUActivation()\n            (activation_dropout): Dropout(p=0.0, inplace=False)\n            (linear_2): Linear(in_features=3072, out_features=768, bias=True)\n            (dropout): Dropout(p=0.1, inplace=False)\n            (layer_norm): LayerNorm((768,), eps=1e-09, elementwise_affine=True)\n          )\n        )\n        (1): FunnelLayer(\n          (attention): FunnelRelMultiheadAttention(\n            (hidden_dropout): Dropout(p=0.1, inplace=False)\n            (attention_dropout): Dropout(p=0.1, inplace=False)\n            (q_head): Linear(in_features=768, out_features=768, bias=False)\n            (k_head): Linear(in_features=768, out_features=768, bias=True)\n            (v_head): Linear(in_features=768, out_features=768, bias=True)\n            (post_proj): Linear(in_features=768, out_features=768, bias=True)\n            (layer_norm): LayerNorm((768,), eps=1e-09, elementwise_affine=True)\n          )\n          (ffn): FunnelPositionwiseFFN(\n            (linear_1): Linear(in_features=768, out_features=3072, bias=True)\n            (activation_function): NewGELUActivation()\n            (activation_dropout): Dropout(p=0.0, inplace=False)\n            (linear_2): Linear(in_features=3072, out_features=768, bias=True)\n            (dropout): Dropout(p=0.1, inplace=False)\n            (layer_norm): LayerNorm((768,), eps=1e-09, elementwise_affine=True)\n          )\n        )\n        (2): FunnelLayer(\n          (attention): FunnelRelMultiheadAttention(\n            (hidden_dropout): Dropout(p=0.1, inplace=False)\n            (attention_dropout): Dropout(p=0.1, inplace=False)\n            (q_head): Linear(in_features=768, out_features=768, bias=False)\n            (k_head): Linear(in_features=768, out_features=768, bias=True)\n            (v_head): Linear(in_features=768, out_features=768, bias=True)\n            (post_proj): Linear(in_features=768, out_features=768, bias=True)\n            (layer_norm): LayerNorm((768,), eps=1e-09, elementwise_affine=True)\n          )\n          (ffn): FunnelPositionwiseFFN(\n            (linear_1): Linear(in_features=768, out_features=3072, bias=True)\n            (activation_function): NewGELUActivation()\n            (activation_dropout): Dropout(p=0.0, inplace=False)\n            (linear_2): Linear(in_features=3072, out_features=768, bias=True)\n            (dropout): Dropout(p=0.1, inplace=False)\n            (layer_norm): LayerNorm((768,), eps=1e-09, elementwise_affine=True)\n          )\n        )\n        (3): FunnelLayer(\n          (attention): FunnelRelMultiheadAttention(\n            (hidden_dropout): Dropout(p=0.1, inplace=False)\n            (attention_dropout): Dropout(p=0.1, inplace=False)\n            (q_head): Linear(in_features=768, out_features=768, bias=False)\n            (k_head): Linear(in_features=768, out_features=768, bias=True)\n            (v_head): Linear(in_features=768, out_features=768, bias=True)\n            (post_proj): Linear(in_features=768, out_features=768, bias=True)\n            (layer_norm): LayerNorm((768,), eps=1e-09, elementwise_affine=True)\n          )\n          (ffn): FunnelPositionwiseFFN(\n            (linear_1): Linear(in_features=768, out_features=3072, bias=True)\n            (activation_function): NewGELUActivation()\n            (activation_dropout): Dropout(p=0.0, inplace=False)\n            (linear_2): Linear(in_features=3072, out_features=768, bias=True)\n            (dropout): Dropout(p=0.1, inplace=False)\n            (layer_norm): LayerNorm((768,), eps=1e-09, elementwise_affine=True)\n          )\n        )\n      )\n    )\n  )\n  (decoder): FunnelDecoder(\n    (attention_structure): FunnelAttentionStructure(\n      (sin_dropout): Dropout(p=0.1, inplace=False)\n      (cos_dropout): Dropout(p=0.1, inplace=False)\n    )\n    (layers): ModuleList(\n      (0): FunnelLayer(\n        (attention): FunnelRelMultiheadAttention(\n          (hidden_dropout): Dropout(p=0.1, inplace=False)\n          (attention_dropout): Dropout(p=0.1, inplace=False)\n          (q_head): Linear(in_features=768, out_features=768, bias=False)\n          (k_head): Linear(in_features=768, out_features=768, bias=True)\n          (v_head): Linear(in_features=768, out_features=768, bias=True)\n          (post_proj): Linear(in_features=768, out_features=768, bias=True)\n          (layer_norm): LayerNorm((768,), eps=1e-09, elementwise_affine=True)\n        )\n        (ffn): FunnelPositionwiseFFN(\n          (linear_1): Linear(in_features=768, out_features=3072, bias=True)\n          (activation_function): NewGELUActivation()\n          (activation_dropout): Dropout(p=0.0, inplace=False)\n          (linear_2): Linear(in_features=3072, out_features=768, bias=True)\n          (dropout): Dropout(p=0.1, inplace=False)\n          (layer_norm): LayerNorm((768,), eps=1e-09, elementwise_affine=True)\n        )\n      )\n      (1): FunnelLayer(\n        (attention): FunnelRelMultiheadAttention(\n          (hidden_dropout): Dropout(p=0.1, inplace=False)\n          (attention_dropout): Dropout(p=0.1, inplace=False)\n          (q_head): Linear(in_features=768, out_features=768, bias=False)\n          (k_head): Linear(in_features=768, out_features=768, bias=True)\n          (v_head): Linear(in_features=768, out_features=768, bias=True)\n          (post_proj): Linear(in_features=768, out_features=768, bias=True)\n          (layer_norm): LayerNorm((768,), eps=1e-09, elementwise_affine=True)\n        )\n        (ffn): FunnelPositionwiseFFN(\n          (linear_1): Linear(in_features=768, out_features=3072, bias=True)\n          (activation_function): NewGELUActivation()\n          (activation_dropout): Dropout(p=0.0, inplace=False)\n          (linear_2): Linear(in_features=3072, out_features=768, bias=True)\n          (dropout): Dropout(p=0.1, inplace=False)\n          (layer_norm): LayerNorm((768,), eps=1e-09, elementwise_affine=True)\n        )\n      )\n    )\n  )\n)"
     },
     "execution_count": 3,
     "metadata": {},
     "output_type": "execute_result"
    }
   ],
   "source": [
    "model = AutoModel.from_pretrained(\"funnel-transformer/small\")\n",
    "model"
   ],
   "metadata": {
    "collapsed": false,
    "pycharm": {
     "name": "#%%\n"
    }
   }
  },
  {
   "cell_type": "code",
   "execution_count": 4,
   "outputs": [
    {
     "data": {
      "text/plain": "FunnelConfig {\n  \"_name_or_path\": \"funnel-transformer/small\",\n  \"activation_dropout\": 0.0,\n  \"architectures\": [\n    \"FunnelModel\"\n  ],\n  \"attention_dropout\": 0.1,\n  \"attention_type\": \"relative_shift\",\n  \"block_repeats\": [\n    1,\n    1,\n    1\n  ],\n  \"block_sizes\": [\n    4,\n    4,\n    4\n  ],\n  \"d_head\": 64,\n  \"d_inner\": 3072,\n  \"d_model\": 768,\n  \"hidden_act\": \"gelu_new\",\n  \"hidden_dropout\": 0.1,\n  \"initializer_range\": 0.1,\n  \"initializer_std\": null,\n  \"layer_norm_eps\": 1e-09,\n  \"max_position_embeddings\": 512,\n  \"model_type\": \"funnel\",\n  \"n_head\": 12,\n  \"num_decoder_layers\": 2,\n  \"pool_q_only\": true,\n  \"pooling_type\": \"mean\",\n  \"rel_attn_type\": \"factorized\",\n  \"separate_cls\": true,\n  \"transformers_version\": \"4.17.0\",\n  \"truncate_seq\": true,\n  \"type_vocab_size\": 3,\n  \"vocab_size\": 30522\n}"
     },
     "execution_count": 4,
     "metadata": {},
     "output_type": "execute_result"
    }
   ],
   "source": [
    "model.config"
   ],
   "metadata": {
    "collapsed": false,
    "pycharm": {
     "name": "#%%\n"
    }
   }
  },
  {
   "cell_type": "code",
   "execution_count": 5,
   "outputs": [
    {
     "name": "stdout",
     "output_type": "stream",
     "text": [
      "embeddings.word_embeddings.weight\n",
      "embeddings.layer_norm.weight\n",
      "embeddings.layer_norm.bias\n",
      "encoder.blocks.0.0.attention.r_w_bias\n",
      "encoder.blocks.0.0.attention.r_r_bias\n",
      "encoder.blocks.0.0.attention.r_kernel\n",
      "encoder.blocks.0.0.attention.r_s_bias\n",
      "encoder.blocks.0.0.attention.seg_embed\n",
      "encoder.blocks.0.0.attention.q_head.weight\n",
      "encoder.blocks.0.0.attention.k_head.weight\n",
      "encoder.blocks.0.0.attention.k_head.bias\n",
      "encoder.blocks.0.0.attention.v_head.weight\n",
      "encoder.blocks.0.0.attention.v_head.bias\n",
      "encoder.blocks.0.0.attention.post_proj.weight\n",
      "encoder.blocks.0.0.attention.post_proj.bias\n",
      "encoder.blocks.0.0.attention.layer_norm.weight\n",
      "encoder.blocks.0.0.attention.layer_norm.bias\n",
      "encoder.blocks.0.0.ffn.linear_1.weight\n",
      "encoder.blocks.0.0.ffn.linear_1.bias\n",
      "encoder.blocks.0.0.ffn.linear_2.weight\n",
      "encoder.blocks.0.0.ffn.linear_2.bias\n",
      "encoder.blocks.0.0.ffn.layer_norm.weight\n",
      "encoder.blocks.0.0.ffn.layer_norm.bias\n",
      "encoder.blocks.0.1.attention.r_w_bias\n",
      "encoder.blocks.0.1.attention.r_r_bias\n",
      "encoder.blocks.0.1.attention.r_kernel\n",
      "encoder.blocks.0.1.attention.r_s_bias\n",
      "encoder.blocks.0.1.attention.seg_embed\n",
      "encoder.blocks.0.1.attention.q_head.weight\n",
      "encoder.blocks.0.1.attention.k_head.weight\n",
      "encoder.blocks.0.1.attention.k_head.bias\n",
      "encoder.blocks.0.1.attention.v_head.weight\n",
      "encoder.blocks.0.1.attention.v_head.bias\n",
      "encoder.blocks.0.1.attention.post_proj.weight\n",
      "encoder.blocks.0.1.attention.post_proj.bias\n",
      "encoder.blocks.0.1.attention.layer_norm.weight\n",
      "encoder.blocks.0.1.attention.layer_norm.bias\n",
      "encoder.blocks.0.1.ffn.linear_1.weight\n",
      "encoder.blocks.0.1.ffn.linear_1.bias\n",
      "encoder.blocks.0.1.ffn.linear_2.weight\n",
      "encoder.blocks.0.1.ffn.linear_2.bias\n",
      "encoder.blocks.0.1.ffn.layer_norm.weight\n",
      "encoder.blocks.0.1.ffn.layer_norm.bias\n",
      "encoder.blocks.0.2.attention.r_w_bias\n",
      "encoder.blocks.0.2.attention.r_r_bias\n",
      "encoder.blocks.0.2.attention.r_kernel\n",
      "encoder.blocks.0.2.attention.r_s_bias\n",
      "encoder.blocks.0.2.attention.seg_embed\n",
      "encoder.blocks.0.2.attention.q_head.weight\n",
      "encoder.blocks.0.2.attention.k_head.weight\n",
      "encoder.blocks.0.2.attention.k_head.bias\n",
      "encoder.blocks.0.2.attention.v_head.weight\n",
      "encoder.blocks.0.2.attention.v_head.bias\n",
      "encoder.blocks.0.2.attention.post_proj.weight\n",
      "encoder.blocks.0.2.attention.post_proj.bias\n",
      "encoder.blocks.0.2.attention.layer_norm.weight\n",
      "encoder.blocks.0.2.attention.layer_norm.bias\n",
      "encoder.blocks.0.2.ffn.linear_1.weight\n",
      "encoder.blocks.0.2.ffn.linear_1.bias\n",
      "encoder.blocks.0.2.ffn.linear_2.weight\n",
      "encoder.blocks.0.2.ffn.linear_2.bias\n",
      "encoder.blocks.0.2.ffn.layer_norm.weight\n",
      "encoder.blocks.0.2.ffn.layer_norm.bias\n",
      "encoder.blocks.0.3.attention.r_w_bias\n",
      "encoder.blocks.0.3.attention.r_r_bias\n",
      "encoder.blocks.0.3.attention.r_kernel\n",
      "encoder.blocks.0.3.attention.r_s_bias\n",
      "encoder.blocks.0.3.attention.seg_embed\n",
      "encoder.blocks.0.3.attention.q_head.weight\n",
      "encoder.blocks.0.3.attention.k_head.weight\n",
      "encoder.blocks.0.3.attention.k_head.bias\n",
      "encoder.blocks.0.3.attention.v_head.weight\n",
      "encoder.blocks.0.3.attention.v_head.bias\n",
      "encoder.blocks.0.3.attention.post_proj.weight\n",
      "encoder.blocks.0.3.attention.post_proj.bias\n",
      "encoder.blocks.0.3.attention.layer_norm.weight\n",
      "encoder.blocks.0.3.attention.layer_norm.bias\n",
      "encoder.blocks.0.3.ffn.linear_1.weight\n",
      "encoder.blocks.0.3.ffn.linear_1.bias\n",
      "encoder.blocks.0.3.ffn.linear_2.weight\n",
      "encoder.blocks.0.3.ffn.linear_2.bias\n",
      "encoder.blocks.0.3.ffn.layer_norm.weight\n",
      "encoder.blocks.0.3.ffn.layer_norm.bias\n",
      "encoder.blocks.1.0.attention.r_w_bias\n",
      "encoder.blocks.1.0.attention.r_r_bias\n",
      "encoder.blocks.1.0.attention.r_kernel\n",
      "encoder.blocks.1.0.attention.r_s_bias\n",
      "encoder.blocks.1.0.attention.seg_embed\n",
      "encoder.blocks.1.0.attention.q_head.weight\n",
      "encoder.blocks.1.0.attention.k_head.weight\n",
      "encoder.blocks.1.0.attention.k_head.bias\n",
      "encoder.blocks.1.0.attention.v_head.weight\n",
      "encoder.blocks.1.0.attention.v_head.bias\n",
      "encoder.blocks.1.0.attention.post_proj.weight\n",
      "encoder.blocks.1.0.attention.post_proj.bias\n",
      "encoder.blocks.1.0.attention.layer_norm.weight\n",
      "encoder.blocks.1.0.attention.layer_norm.bias\n",
      "encoder.blocks.1.0.ffn.linear_1.weight\n",
      "encoder.blocks.1.0.ffn.linear_1.bias\n",
      "encoder.blocks.1.0.ffn.linear_2.weight\n",
      "encoder.blocks.1.0.ffn.linear_2.bias\n",
      "encoder.blocks.1.0.ffn.layer_norm.weight\n",
      "encoder.blocks.1.0.ffn.layer_norm.bias\n",
      "encoder.blocks.1.1.attention.r_w_bias\n",
      "encoder.blocks.1.1.attention.r_r_bias\n",
      "encoder.blocks.1.1.attention.r_kernel\n",
      "encoder.blocks.1.1.attention.r_s_bias\n",
      "encoder.blocks.1.1.attention.seg_embed\n",
      "encoder.blocks.1.1.attention.q_head.weight\n",
      "encoder.blocks.1.1.attention.k_head.weight\n",
      "encoder.blocks.1.1.attention.k_head.bias\n",
      "encoder.blocks.1.1.attention.v_head.weight\n",
      "encoder.blocks.1.1.attention.v_head.bias\n",
      "encoder.blocks.1.1.attention.post_proj.weight\n",
      "encoder.blocks.1.1.attention.post_proj.bias\n",
      "encoder.blocks.1.1.attention.layer_norm.weight\n",
      "encoder.blocks.1.1.attention.layer_norm.bias\n",
      "encoder.blocks.1.1.ffn.linear_1.weight\n",
      "encoder.blocks.1.1.ffn.linear_1.bias\n",
      "encoder.blocks.1.1.ffn.linear_2.weight\n",
      "encoder.blocks.1.1.ffn.linear_2.bias\n",
      "encoder.blocks.1.1.ffn.layer_norm.weight\n",
      "encoder.blocks.1.1.ffn.layer_norm.bias\n",
      "encoder.blocks.1.2.attention.r_w_bias\n",
      "encoder.blocks.1.2.attention.r_r_bias\n",
      "encoder.blocks.1.2.attention.r_kernel\n",
      "encoder.blocks.1.2.attention.r_s_bias\n",
      "encoder.blocks.1.2.attention.seg_embed\n",
      "encoder.blocks.1.2.attention.q_head.weight\n",
      "encoder.blocks.1.2.attention.k_head.weight\n",
      "encoder.blocks.1.2.attention.k_head.bias\n",
      "encoder.blocks.1.2.attention.v_head.weight\n",
      "encoder.blocks.1.2.attention.v_head.bias\n",
      "encoder.blocks.1.2.attention.post_proj.weight\n",
      "encoder.blocks.1.2.attention.post_proj.bias\n",
      "encoder.blocks.1.2.attention.layer_norm.weight\n",
      "encoder.blocks.1.2.attention.layer_norm.bias\n",
      "encoder.blocks.1.2.ffn.linear_1.weight\n",
      "encoder.blocks.1.2.ffn.linear_1.bias\n",
      "encoder.blocks.1.2.ffn.linear_2.weight\n",
      "encoder.blocks.1.2.ffn.linear_2.bias\n",
      "encoder.blocks.1.2.ffn.layer_norm.weight\n",
      "encoder.blocks.1.2.ffn.layer_norm.bias\n",
      "encoder.blocks.1.3.attention.r_w_bias\n",
      "encoder.blocks.1.3.attention.r_r_bias\n",
      "encoder.blocks.1.3.attention.r_kernel\n",
      "encoder.blocks.1.3.attention.r_s_bias\n",
      "encoder.blocks.1.3.attention.seg_embed\n",
      "encoder.blocks.1.3.attention.q_head.weight\n",
      "encoder.blocks.1.3.attention.k_head.weight\n",
      "encoder.blocks.1.3.attention.k_head.bias\n",
      "encoder.blocks.1.3.attention.v_head.weight\n",
      "encoder.blocks.1.3.attention.v_head.bias\n",
      "encoder.blocks.1.3.attention.post_proj.weight\n",
      "encoder.blocks.1.3.attention.post_proj.bias\n",
      "encoder.blocks.1.3.attention.layer_norm.weight\n",
      "encoder.blocks.1.3.attention.layer_norm.bias\n",
      "encoder.blocks.1.3.ffn.linear_1.weight\n",
      "encoder.blocks.1.3.ffn.linear_1.bias\n",
      "encoder.blocks.1.3.ffn.linear_2.weight\n",
      "encoder.blocks.1.3.ffn.linear_2.bias\n",
      "encoder.blocks.1.3.ffn.layer_norm.weight\n",
      "encoder.blocks.1.3.ffn.layer_norm.bias\n",
      "encoder.blocks.2.0.attention.r_w_bias\n",
      "encoder.blocks.2.0.attention.r_r_bias\n",
      "encoder.blocks.2.0.attention.r_kernel\n",
      "encoder.blocks.2.0.attention.r_s_bias\n",
      "encoder.blocks.2.0.attention.seg_embed\n",
      "encoder.blocks.2.0.attention.q_head.weight\n",
      "encoder.blocks.2.0.attention.k_head.weight\n",
      "encoder.blocks.2.0.attention.k_head.bias\n",
      "encoder.blocks.2.0.attention.v_head.weight\n",
      "encoder.blocks.2.0.attention.v_head.bias\n",
      "encoder.blocks.2.0.attention.post_proj.weight\n",
      "encoder.blocks.2.0.attention.post_proj.bias\n",
      "encoder.blocks.2.0.attention.layer_norm.weight\n",
      "encoder.blocks.2.0.attention.layer_norm.bias\n",
      "encoder.blocks.2.0.ffn.linear_1.weight\n",
      "encoder.blocks.2.0.ffn.linear_1.bias\n",
      "encoder.blocks.2.0.ffn.linear_2.weight\n",
      "encoder.blocks.2.0.ffn.linear_2.bias\n",
      "encoder.blocks.2.0.ffn.layer_norm.weight\n",
      "encoder.blocks.2.0.ffn.layer_norm.bias\n",
      "encoder.blocks.2.1.attention.r_w_bias\n",
      "encoder.blocks.2.1.attention.r_r_bias\n",
      "encoder.blocks.2.1.attention.r_kernel\n",
      "encoder.blocks.2.1.attention.r_s_bias\n",
      "encoder.blocks.2.1.attention.seg_embed\n",
      "encoder.blocks.2.1.attention.q_head.weight\n",
      "encoder.blocks.2.1.attention.k_head.weight\n",
      "encoder.blocks.2.1.attention.k_head.bias\n",
      "encoder.blocks.2.1.attention.v_head.weight\n",
      "encoder.blocks.2.1.attention.v_head.bias\n",
      "encoder.blocks.2.1.attention.post_proj.weight\n",
      "encoder.blocks.2.1.attention.post_proj.bias\n",
      "encoder.blocks.2.1.attention.layer_norm.weight\n",
      "encoder.blocks.2.1.attention.layer_norm.bias\n",
      "encoder.blocks.2.1.ffn.linear_1.weight\n",
      "encoder.blocks.2.1.ffn.linear_1.bias\n",
      "encoder.blocks.2.1.ffn.linear_2.weight\n",
      "encoder.blocks.2.1.ffn.linear_2.bias\n",
      "encoder.blocks.2.1.ffn.layer_norm.weight\n",
      "encoder.blocks.2.1.ffn.layer_norm.bias\n",
      "encoder.blocks.2.2.attention.r_w_bias\n",
      "encoder.blocks.2.2.attention.r_r_bias\n",
      "encoder.blocks.2.2.attention.r_kernel\n",
      "encoder.blocks.2.2.attention.r_s_bias\n",
      "encoder.blocks.2.2.attention.seg_embed\n",
      "encoder.blocks.2.2.attention.q_head.weight\n",
      "encoder.blocks.2.2.attention.k_head.weight\n",
      "encoder.blocks.2.2.attention.k_head.bias\n",
      "encoder.blocks.2.2.attention.v_head.weight\n",
      "encoder.blocks.2.2.attention.v_head.bias\n",
      "encoder.blocks.2.2.attention.post_proj.weight\n",
      "encoder.blocks.2.2.attention.post_proj.bias\n",
      "encoder.blocks.2.2.attention.layer_norm.weight\n",
      "encoder.blocks.2.2.attention.layer_norm.bias\n",
      "encoder.blocks.2.2.ffn.linear_1.weight\n",
      "encoder.blocks.2.2.ffn.linear_1.bias\n",
      "encoder.blocks.2.2.ffn.linear_2.weight\n",
      "encoder.blocks.2.2.ffn.linear_2.bias\n",
      "encoder.blocks.2.2.ffn.layer_norm.weight\n",
      "encoder.blocks.2.2.ffn.layer_norm.bias\n",
      "encoder.blocks.2.3.attention.r_w_bias\n",
      "encoder.blocks.2.3.attention.r_r_bias\n",
      "encoder.blocks.2.3.attention.r_kernel\n",
      "encoder.blocks.2.3.attention.r_s_bias\n",
      "encoder.blocks.2.3.attention.seg_embed\n",
      "encoder.blocks.2.3.attention.q_head.weight\n",
      "encoder.blocks.2.3.attention.k_head.weight\n",
      "encoder.blocks.2.3.attention.k_head.bias\n",
      "encoder.blocks.2.3.attention.v_head.weight\n",
      "encoder.blocks.2.3.attention.v_head.bias\n",
      "encoder.blocks.2.3.attention.post_proj.weight\n",
      "encoder.blocks.2.3.attention.post_proj.bias\n",
      "encoder.blocks.2.3.attention.layer_norm.weight\n",
      "encoder.blocks.2.3.attention.layer_norm.bias\n",
      "encoder.blocks.2.3.ffn.linear_1.weight\n",
      "encoder.blocks.2.3.ffn.linear_1.bias\n",
      "encoder.blocks.2.3.ffn.linear_2.weight\n",
      "encoder.blocks.2.3.ffn.linear_2.bias\n",
      "encoder.blocks.2.3.ffn.layer_norm.weight\n",
      "encoder.blocks.2.3.ffn.layer_norm.bias\n",
      "decoder.layers.0.attention.r_w_bias\n",
      "decoder.layers.0.attention.r_r_bias\n",
      "decoder.layers.0.attention.r_kernel\n",
      "decoder.layers.0.attention.r_s_bias\n",
      "decoder.layers.0.attention.seg_embed\n",
      "decoder.layers.0.attention.q_head.weight\n",
      "decoder.layers.0.attention.k_head.weight\n",
      "decoder.layers.0.attention.k_head.bias\n",
      "decoder.layers.0.attention.v_head.weight\n",
      "decoder.layers.0.attention.v_head.bias\n",
      "decoder.layers.0.attention.post_proj.weight\n",
      "decoder.layers.0.attention.post_proj.bias\n",
      "decoder.layers.0.attention.layer_norm.weight\n",
      "decoder.layers.0.attention.layer_norm.bias\n",
      "decoder.layers.0.ffn.linear_1.weight\n",
      "decoder.layers.0.ffn.linear_1.bias\n",
      "decoder.layers.0.ffn.linear_2.weight\n",
      "decoder.layers.0.ffn.linear_2.bias\n",
      "decoder.layers.0.ffn.layer_norm.weight\n",
      "decoder.layers.0.ffn.layer_norm.bias\n",
      "decoder.layers.1.attention.r_w_bias\n",
      "decoder.layers.1.attention.r_r_bias\n",
      "decoder.layers.1.attention.r_kernel\n",
      "decoder.layers.1.attention.r_s_bias\n",
      "decoder.layers.1.attention.seg_embed\n",
      "decoder.layers.1.attention.q_head.weight\n",
      "decoder.layers.1.attention.k_head.weight\n",
      "decoder.layers.1.attention.k_head.bias\n",
      "decoder.layers.1.attention.v_head.weight\n",
      "decoder.layers.1.attention.v_head.bias\n",
      "decoder.layers.1.attention.post_proj.weight\n",
      "decoder.layers.1.attention.post_proj.bias\n",
      "decoder.layers.1.attention.layer_norm.weight\n",
      "decoder.layers.1.attention.layer_norm.bias\n",
      "decoder.layers.1.ffn.linear_1.weight\n",
      "decoder.layers.1.ffn.linear_1.bias\n",
      "decoder.layers.1.ffn.linear_2.weight\n",
      "decoder.layers.1.ffn.linear_2.bias\n",
      "decoder.layers.1.ffn.layer_norm.weight\n",
      "decoder.layers.1.ffn.layer_norm.bias\n"
     ]
    }
   ],
   "source": [
    "for name, para in model.named_parameters():\n",
    "    print(name)"
   ],
   "metadata": {
    "collapsed": false,
    "pycharm": {
     "name": "#%%\n"
    }
   }
  },
  {
   "cell_type": "code",
   "execution_count": 6,
   "outputs": [
    {
     "name": "stderr",
     "output_type": "stream",
     "text": [
      "Token indices sequence length is longer than the specified maximum sequence length for this model (1007 > 512). Running this sequence through the model will result in indexing errors\n"
     ]
    },
    {
     "name": "stdout",
     "output_type": "stream",
     "text": [
      "{'input_ids': tensor([[  101, 10938,  2121,  ..., 19062,  1012,   102]]), 'token_type_ids': tensor([[2, 0, 0,  ..., 0, 0, 0]]), 'attention_mask': tensor([[1, 1, 1,  ..., 1, 1, 1]])}\n",
      "dict_keys(['input_ids', 'token_type_ids', 'attention_mask'])\n",
      "torch.Size([1, 1007])\n"
     ]
    }
   ],
   "source": [
    "text = \"\"\"Transformer-based models are unable to process long sequences due to their self-attention operation, which scales quadratically with the sequence length.\n",
    "To address this limitation, we introduce the Longformer with an attention mechanism that scales linearly with sequence length, making it easy to process documents of thousands of tokens or longer.\n",
    "Longformer’s attention mechanism is a drop-in replacement for the standard self-attention and combines a local windowed attention with a task motivated global attention.\n",
    "Following prior work on long-sequence transformers, we evaluate Longformer on character-level language modeling and achieve state-of-the-art results on text8 and enwik8.\n",
    "In contrast to most prior work, we also pretrain Longformer and finetune it on a variety of downstream tasks.\n",
    "Our pretrained Longformer consistently outperforms RoBERTa on long document tasks and sets new state-of-the-art results on Wiki-Hop and TriviaQA.\"\"\"\n",
    "text = text * 5\n",
    "encoded_input = tokenizer(text, return_tensors='pt')\n",
    "print(encoded_input)\n",
    "print(encoded_input.keys())\n",
    "print(encoded_input['input_ids'].shape)  # [1, 408]"
   ],
   "metadata": {
    "collapsed": false,
    "pycharm": {
     "name": "#%%\n"
    }
   }
  },
  {
   "cell_type": "code",
   "execution_count": 8,
   "outputs": [
    {
     "name": "stdout",
     "output_type": "stream",
     "text": [
      "tensor([[[-0.2550, -0.2578,  0.6413,  ..., -0.1377,  0.9703, -0.4526],\n",
      "         [ 0.0523, -0.1231, -0.0771,  ...,  0.4967,  0.8560,  0.2351],\n",
      "         [-0.4890,  0.0853,  0.2728,  ...,  0.2254,  0.4350,  0.0144],\n",
      "         ...,\n",
      "         [-0.1395, -0.4087,  0.3198,  ...,  0.0335,  0.1080, -0.7443],\n",
      "         [-0.4720, -0.1379, -0.0346,  ...,  0.3574,  0.7269, -1.5495],\n",
      "         [-0.2128, -0.1527, -0.2427,  ...,  0.7988,  0.5887, -0.4585]]],\n",
      "       grad_fn=<NativeLayerNormBackward0>)\n",
      "torch.Size([1, 1007, 768])\n"
     ]
    }
   ],
   "source": [
    "result = model(**encoded_input)\n",
    "print(result.last_hidden_state)\n",
    "print(result.last_hidden_state.shape)  # [1, 408, 768]"
   ],
   "metadata": {
    "collapsed": false,
    "pycharm": {
     "name": "#%%\n"
    }
   }
  },
  {
   "cell_type": "code",
   "execution_count": 7,
   "outputs": [],
   "source": [],
   "metadata": {
    "collapsed": false,
    "pycharm": {
     "name": "#%%\n"
    }
   }
  }
 ],
 "metadata": {
  "kernelspec": {
   "display_name": "Python 3",
   "language": "python",
   "name": "python3"
  },
  "language_info": {
   "codemirror_mode": {
    "name": "ipython",
    "version": 2
   },
   "file_extension": ".py",
   "mimetype": "text/x-python",
   "name": "python",
   "nbconvert_exporter": "python",
   "pygments_lexer": "ipython2",
   "version": "2.7.6"
  }
 },
 "nbformat": 4,
 "nbformat_minor": 0
}