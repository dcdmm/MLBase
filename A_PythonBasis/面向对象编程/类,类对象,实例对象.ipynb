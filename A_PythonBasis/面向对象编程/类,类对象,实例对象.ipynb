{
 "cells": [
  {
   "cell_type": "code",
   "execution_count": 3,
   "outputs": [
    {
     "name": "stdout",
     "text": [
      "FishC\n<__main__.MyLove object at 0x0000016C294E07C8>\nHello FishC!\n<__main__.MyLove object at 0x0000016C294E07C8>\nHello FishC!\nFishC\n<__main__.MyLove object at 0x0000016C294E07C8>\nHello FishC!\n"
     ],
     "output_type": "stream"
    }
   ],
   "source": [
    "class MyLove:\n",
    "\tname = 'FishC' # 类属性\n",
    "    # 类属性是静态变量\n",
    "    # 类属性与类对象绑定,并不依赖任何它的实例对象\n",
    "\n",
    "\tdef myfun(self): # 类方法\n",
    "\t\tprint(self) # self表示实例本身\n",
    "\t\tprint(\"Hello FishC!\")\n",
    "\n",
    "\n",
    "print(MyLove.name) # 直接访问类属性(不需要通过实例对象访问) \n",
    "\n",
    "a = MyLove()\n",
    "a.myfun() # 自动将实例本身(a)作为函数myfun的第一个参数(self)\n",
    "# MyClass.myFun() # 报错,myFun() missing 1 required positional argument: 'self'\n",
    "MyLove.myfun(a) # 与上等价(等价于MyLove.myfun(self=a))\n",
    "\n",
    "del MyLove\n",
    "print(a.name)\n",
    "a.myfun() # 实例a仍能调用printXY方法\n",
    "# 类中属性丶方法为静态变量,只有当程序退出时,才会释放"
   ],
   "metadata": {
    "collapsed": false,
    "pycharm": {
     "name": "#%%\n",
     "is_executing": false
    }
   }
  },
  {
   "cell_type": "code",
   "execution_count": 6,
   "metadata": {
    "pycharm": {
     "is_executing": false
    }
   },
   "outputs": [
    {
     "name": "stdout",
     "text": [
      "{'__module__': '__main__', 'some': 1, '__init__': <function Example.__init__ at 0x0000027124173EA0>, 'add': <function Example.add at 0x0000027124173AE8>, '__dict__': <attribute '__dict__' of 'Example' objects>, '__weakref__': <attribute '__weakref__' of 'Example' objects>, '__doc__': None}\n{'num': 10}\n\n{'__module__': '__main__', 'some': 1, '__init__': <function Example.__init__ at 0x0000027124173EA0>, 'add': <function Example.add at 0x0000027124173AE8>, '__dict__': <attribute '__dict__' of 'Example' objects>, '__weakref__': <attribute '__weakref__' of 'Example' objects>, '__doc__': None, 'other': 2}\n{'num': 10, 'age': 10}\n{'num': 10, 'age': 10, 'name': 'duanchao'}\n{'num': 100}\n"
     ],
     "output_type": "stream"
    }
   ],
   "source": [
    "class Example:\n",
    "     some = 1\n",
    "     def __init__(self, num):\n",
    "         self.num = num\n",
    "         \n",
    "     def add(self, name):\n",
    "         self.name = name # 最好不要在除了__init__函数之外的地方进行初始化\n",
    "    \n",
    "        \n",
    "a = Example(10)\n",
    "# __dict__是用来存储对象属性的一个字典,其键为属性名,值为属性的值\n",
    "print(Example.__dict__)\n",
    "print(a.__dict__, end='\\n\\n')\n",
    "a.age = 10 # 动态绑定属性\n",
    "Example.other = 2 # 实例和类都可以在运行过程动态添加属性\n",
    "print(Example.__dict__) # 属性other仅属于类对象Example(类的__dict__存储所有实例共享的变量和函数(类属性,方法等),类的__dict__并不包含其父类的属性)\n",
    "print(a.__dict__) # 属性age仅属于实例对象a(实例的__dict__仅(★★★★★)存储与该实例相关的实例属性(正是因为实例的__dict__属性,每个实例的实例属性才会互不影响))\n",
    "a.add('duanchao')\n",
    "print(a.__dict__)\n",
    "b = Example(100)\n",
    "print(b.__dict__)"
   ]
  },
  {
   "cell_type": "code",
   "execution_count": 12,
   "outputs": [
    {
     "name": "stdout",
     "text": [
      "0\n0 0 0 0\n0 0 10 0\n100 100 10 100\n{'__module__': '__main__', 'count': 100, '__dict__': <attribute '__dict__' of 'MyCount' objects>, '__weakref__': <attribute '__weakref__' of 'MyCount' objects>, '__doc__': None}\n{}\n{'count': 10}\n"
     ],
     "output_type": "stream"
    }
   ],
   "source": [
    "class MyCount:\n",
    "    count = 0\n",
    "\n",
    "a1 = MyCount()\n",
    "b1 = MyCount()\n",
    "c1 = MyCount()\n",
    "\n",
    "print(a1.count, b1.count, c1.count, MyCount.count) # a1为实例对象,MyCount为类对象\n",
    "c1.count += 10\n",
    "print(a1.count, b1.count, c1.count, MyCount.count)\n",
    "MyCount.count += 100\n",
    "print(a1.count, b1.count, c1.count, MyCount.count)\n",
    "\n",
    "print(MyCount.__dict__) \n",
    "print(a1.__dict__) \n",
    "print(c1.__dict__) # 实例属性屏蔽掉同名的类属性"
   ],
   "metadata": {
    "pycharm": {
     "metadata": false,
     "name": "#%%\n",
     "is_executing": false
    }
   }
  },
  {
   "cell_type": "code",
   "execution_count": 10,
   "outputs": [
    {
     "name": "stdout",
     "text": [
      "b\ngood\n"
     ],
     "output_type": "stream"
    }
   ],
   "source": [
    "# 如果属性的名字跟方法名相同,属性会覆盖方法\n",
    "class Print_b:\n",
    "\tdef b(self):\n",
    "\t\tprint('b')\n",
    "\t\t\n",
    "pb = Print_b()\n",
    "pb.b()\n",
    "pb.b = 'good'\n",
    "print(pb.b)\n",
    "# pb.b() 报错"
   ],
   "metadata": {
    "pycharm": {
     "metadata": false,
     "name": "#%%\n",
     "is_executing": false
    }
   }
  },
  {
   "cell_type": "code",
   "execution_count": 16,
   "outputs": [
    {
     "name": "stdout",
     "text": [
      "2\n{'__module__': '__main__', 'count': 2, '__init__': <function Point.__init__ at 0x00000271241AB2F0>, 'put_out': <function Point.put_out at 0x00000271241AB6A8>, '__dict__': <attribute '__dict__' of 'Point' objects>, '__weakref__': <attribute '__weakref__' of 'Point' objects>, '__doc__': None}\n['__class__', '__delattr__', '__dict__', '__dir__', '__doc__', '__eq__', '__format__', '__ge__', '__getattribute__', '__gt__', '__hash__', '__init__', '__init_subclass__', '__le__', '__lt__', '__module__', '__ne__', '__new__', '__reduce__', '__reduce_ex__', '__repr__', '__setattr__', '__sizeof__', '__str__', '__subclasshook__', '__weakref__', 'count', 'put_out']\n{'x': 1, 'y': 2}\n['__class__', '__delattr__', '__dict__', '__dir__', '__doc__', '__eq__', '__format__', '__ge__', '__getattribute__', '__gt__', '__hash__', '__init__', '__init_subclass__', '__le__', '__lt__', '__module__', '__ne__', '__new__', '__reduce__', '__reduce_ex__', '__repr__', '__setattr__', '__sizeof__', '__str__', '__subclasshook__', '__weakref__', 'count', 'put_out', 'x', 'y']\n<class '__main__.Point'>\n2\n"
     ],
     "output_type": "stream"
    }
   ],
   "source": [
    "class Point:\n",
    "    count = 0\n",
    "    def __init__(self, x, y): # 初始化函数\n",
    "        self.x = x\n",
    "        self.y = y \n",
    "        Point.count += 1\n",
    "    \n",
    "    def put_out(self):\n",
    "        print(self.x)\n",
    "\n",
    "\n",
    "p1 = Point(1, 2)\n",
    "p2 = Point(3, 4)\n",
    "\n",
    "print(Point.count)\n",
    "print(Point.__dict__)\n",
    "print(dir(Point)) # dir()是Python提供的一个API函数,dir()函数会自动寻找一个对象的所有属性(包括从父类中继承的属性)\n",
    "print(p1.__dict__)\n",
    "print(dir(p1))\n",
    "print(p1.__class__)\n",
    "print(p1.__class__.count) # 实例调用__class__属性时会指向该实例对应的类,然后可以再去调用其它类属性\n"
   ],
   "metadata": {
    "pycharm": {
     "metadata": false,
     "name": "#%%\n",
     "is_executing": false
    }
   }
  }
 ],
 "metadata": {
  "kernelspec": {
   "name": "python3",
   "language": "python",
   "display_name": "Python 3"
  },
  "language_info": {
   "codemirror_mode": {
    "name": "ipython",
    "version": 2
   },
   "file_extension": ".py",
   "mimetype": "text/x-python",
   "name": "python",
   "nbconvert_exporter": "python",
   "pygments_lexer": "ipython2",
   "version": "2.7.6"
  },
  "pycharm": {
   "stem_cell": {
    "cell_type": "raw",
    "source": [],
    "metadata": {
     "collapsed": false
    }
   }
  }
 },
 "nbformat": 4,
 "nbformat_minor": 0
}