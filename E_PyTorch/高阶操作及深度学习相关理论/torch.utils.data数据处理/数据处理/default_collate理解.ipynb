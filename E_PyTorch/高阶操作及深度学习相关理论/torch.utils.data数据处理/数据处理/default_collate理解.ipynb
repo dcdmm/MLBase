{
 "cells": [
  {
   "cell_type": "code",
   "execution_count": 193,
   "metadata": {
    "collapsed": true
   },
   "outputs": [],
   "source": [
    "from collections import namedtuple\n",
    "import torch\n",
    "from torch.utils.data.dataloader import default_collate  # torch.utils.data.DataLoader collate_fn方法默认使用的函数"
   ]
  },
  {
   "cell_type": "code",
   "execution_count": 194,
   "metadata": {
    "collapsed": false,
    "pycharm": {
     "name": "#%%\n"
    }
   },
   "outputs": [
    {
     "name": "stdout",
     "output_type": "stream",
     "text": [
      "tensor([0, 1, 2, 3])\n",
      "tensor([0., 1., 2., 3.], dtype=torch.float64)\n"
     ]
    }
   ],
   "source": [
    "# * `float` -> :class:`torch.Tensor`\n",
    "# * `int` -> :class:`torch.Tensor`\n",
    "print(default_collate([0, 1, 2, 3]))\n",
    "print(default_collate([0., 1., 2., 3.]))"
   ]
  },
  {
   "cell_type": "code",
   "execution_count": 195,
   "metadata": {
    "collapsed": false,
    "pycharm": {
     "name": "#%%\n"
    }
   },
   "outputs": [
    {
     "data": {
      "text/plain": [
       "['a', 'b', 'c']"
      ]
     },
     "execution_count": 195,
     "metadata": {},
     "output_type": "execute_result"
    }
   ],
   "source": [
    "# * `str` -> `str` (unchanged)\n",
    "default_collate(['a', 'b', 'c'])"
   ]
  },
  {
   "cell_type": "code",
   "execution_count": 196,
   "metadata": {
    "collapsed": false,
    "pycharm": {
     "name": "#%%\n"
    }
   },
   "outputs": [
    {
     "data": {
      "text/plain": [
       "{'A': tensor([  0, 100]), 'B': tensor([  1, 100])}"
      ]
     },
     "execution_count": 196,
     "metadata": {},
     "output_type": "execute_result"
    }
   ],
   "source": [
    "# * `Mapping[K, V_i]` -> `Mapping[K, default_collate([V_1, V_2, ...])]`\n",
    "default_collate([{'A': 0, 'B': 1},\n",
    "                 {'A': 100, 'B': 100}])"
   ]
  },
  {
   "cell_type": "code",
   "execution_count": 197,
   "metadata": {},
   "outputs": [
    {
     "data": {
      "text/plain": [
       "{'A': [tensor([1, 3]), tensor([2, 4])],\n",
       " 'B': tensor([[-1, -2],\n",
       "         [-3, -4]])}"
      ]
     },
     "execution_count": 197,
     "metadata": {},
     "output_type": "execute_result"
    }
   ],
   "source": [
    "default_collate([{'A': [1, 2], 'B': torch.tensor([-1, -2])},\n",
    "                 {'A': [3, 4], 'B': torch.tensor([-3, -4])}])"
   ]
  },
  {
   "cell_type": "code",
   "execution_count": 198,
   "metadata": {
    "collapsed": false,
    "pycharm": {
     "name": "#%%\n"
    }
   },
   "outputs": [
    {
     "data": {
      "text/plain": [
       "{'A': tensor([[1, 2],\n",
       "         [3, 4]]),\n",
       " 'B': tensor([[-1, -2],\n",
       "         [-3, -4]])}"
      ]
     },
     "execution_count": 198,
     "metadata": {},
     "output_type": "execute_result"
    }
   ],
   "source": [
    "default_collate([{'A': torch.tensor([1, 2]), 'B': torch.tensor([-1, -2])},\n",
    "                 {'A': torch.tensor([3, 4]), 'B': torch.tensor([-3, -4])}])  # 相比于列表,tensor合并(new dimension)成一个tensor"
   ]
  },
  {
   "cell_type": "code",
   "execution_count": 199,
   "metadata": {
    "collapsed": false,
    "pycharm": {
     "name": "#%%\n"
    }
   },
   "outputs": [
    {
     "data": {
      "text/plain": [
       "Point(x=tensor([0, 1]), y=tensor([0, 1]))"
      ]
     },
     "execution_count": 199,
     "metadata": {},
     "output_type": "execute_result"
    }
   ],
   "source": [
    "# `NamedTuple[V1_i, V2_i, ...]` -> `NamedTuple[default_collate([V1_1, V1_2, ...]), default_collate([V2_1, V2_2, ...]), ...]`\n",
    "Point = namedtuple('Point', ['x', 'y'])\n",
    "default_collate([Point(0, 0), Point(1, 1)])"
   ]
  },
  {
   "cell_type": "code",
   "execution_count": 200,
   "metadata": {
    "collapsed": false,
    "pycharm": {
     "name": "#%%\n"
    }
   },
   "outputs": [
    {
     "data": {
      "text/plain": [
       "[tensor([0, 2, 4]), tensor([1, 3, 5])]"
      ]
     },
     "execution_count": 200,
     "metadata": {},
     "output_type": "execute_result"
    }
   ],
   "source": [
    "# `Sequence[V1_i, V2_i, ...]` -> `Sequence[default_collate([V1_1, V1_2, ...]), default_collate([V2_1, V2_2, ...]), ...]`\n",
    "default_collate([[0, 1],\n",
    "                 [2, 3],\n",
    "                 [4, 5]])"
   ]
  },
  {
   "cell_type": "code",
   "execution_count": 201,
   "metadata": {
    "collapsed": false,
    "pycharm": {
     "name": "#%%\n"
    }
   },
   "outputs": [
    {
     "data": {
      "text/plain": [
       "[('dc', 'dmm', 'come on!'), tensor([1, 3, 5])]"
      ]
     },
     "execution_count": 201,
     "metadata": {},
     "output_type": "execute_result"
    }
   ],
   "source": [
    "default_collate([[\"dc\", 1],\n",
    "                 [\"dmm\", 3],\n",
    "                 [\"come on!\", 5]])"
   ]
  },
  {
   "cell_type": "code",
   "execution_count": 202,
   "metadata": {
    "collapsed": false,
    "pycharm": {
     "name": "#%%\n"
    }
   },
   "outputs": [
    {
     "data": {
      "text/plain": [
       "[[tensor([1, 2, 3]), tensor([1, 2, 3])], tensor([11, 22, 33])]"
      ]
     },
     "execution_count": 202,
     "metadata": {},
     "output_type": "execute_result"
    }
   ],
   "source": [
    "default_collate([[[1, 1], 11],\n",
    "                 [[2, 2], 22],\n",
    "                 [[3, 3], 33]])"
   ]
  },
  {
   "cell_type": "code",
   "execution_count": 203,
   "metadata": {
    "collapsed": false,
    "pycharm": {
     "name": "#%%\n"
    }
   },
   "outputs": [
    {
     "data": {
      "text/plain": [
       "[tensor([[1, 1],\n",
       "         [2, 2],\n",
       "         [3, 3]]),\n",
       " tensor([11, 22, 33])]"
      ]
     },
     "execution_count": 203,
     "metadata": {},
     "output_type": "execute_result"
    }
   ],
   "source": [
    "default_collate([(torch.tensor([1, 1]), 11),\n",
    "                 (torch.tensor([2, 2]), 22),\n",
    "                 (torch.tensor([3, 3]), 33)])  # 相比于列表,合并(new dimension)成一个tensor"
   ]
  },
  {
   "cell_type": "code",
   "execution_count": 204,
   "metadata": {
    "collapsed": false,
    "pycharm": {
     "name": "#%%\n"
    }
   },
   "outputs": [
    {
     "data": {
      "text/plain": [
       "[tensor([[[ 1,  1],\n",
       "          [-1, -1]],\n",
       " \n",
       "         [[ 2,  2],\n",
       "          [-2, -2]],\n",
       " \n",
       "         [[ 3,  3],\n",
       "          [-3, -3]]]),\n",
       " tensor([11, 22, 33])]"
      ]
     },
     "execution_count": 204,
     "metadata": {},
     "output_type": "execute_result"
    }
   ],
   "source": [
    "default_collate([(torch.tensor([[1, 1],\n",
    "                                [-1, -1]]), 11),\n",
    "                 (torch.tensor([[2, 2],\n",
    "                                [-2, -2]]), 22),\n",
    "                 (torch.tensor([[3, 3],\n",
    "                                [-3, -3]]), 33)])"
   ]
  },
  {
   "cell_type": "code",
   "execution_count": 205,
   "metadata": {
    "collapsed": false,
    "pycharm": {
     "name": "#%%\n"
    }
   },
   "outputs": [
    {
     "data": {
      "text/plain": [
       "[tensor([[[[ 1,  1],\n",
       "           [-1, -1]]],\n",
       " \n",
       " \n",
       "         [[[ 2,  2],\n",
       "           [-2, -2]]],\n",
       " \n",
       " \n",
       "         [[[ 3,  3],\n",
       "           [-3, -3]]]]),\n",
       " tensor([11, 22, 33])]"
      ]
     },
     "execution_count": 205,
     "metadata": {},
     "output_type": "execute_result"
    }
   ],
   "source": [
    "default_collate([(torch.tensor([[[1, 1],\n",
    "                                 [-1, -1]]]), 11),\n",
    "                 (torch.tensor([[[2, 2],\n",
    "                                 [-2, -2]]]), 22),\n",
    "                 (torch.tensor([[[3, 3],\n",
    "                                 [-3, -3]]]), 33)])"
   ]
  }
 ],
 "metadata": {
  "kernelspec": {
   "display_name": "nlp_base",
   "language": "python",
   "name": "python3"
  },
  "language_info": {
   "codemirror_mode": {
    "name": "ipython",
    "version": 3
   },
   "file_extension": ".py",
   "mimetype": "text/x-python",
   "name": "python",
   "nbconvert_exporter": "python",
   "pygments_lexer": "ipython3",
   "version": "3.10.12"
  }
 },
 "nbformat": 4,
 "nbformat_minor": 0
}
