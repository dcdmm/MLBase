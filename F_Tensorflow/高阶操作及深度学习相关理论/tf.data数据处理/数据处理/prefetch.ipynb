{
 "cells": [
  {
   "cell_type": "code",
   "execution_count": 67,
   "metadata": {
    "collapsed": true,
    "pycharm": {
     "name": "#%%\n"
    }
   },
   "outputs": [],
   "source": [
    "import tensorflow as tf\n",
    "import os"
   ]
  },
  {
   "cell_type": "code",
   "execution_count": 68,
   "outputs": [],
   "source": [
    "data_dir = '../../../../Other/datasets/cats_vs_dogs'\n",
    "train_cats_dir = data_dir + '/train/cats/'\n",
    "train_dogs_dir = data_dir + '/train/dogs/'\n",
    "test_cats_dir = data_dir + '/valid/cats/'\n",
    "test_dogs_dir = data_dir + '/valid/dogs/'\n",
    "\n",
    "# 构建训练数据集\n",
    "train_cat_filenames = tf.constant([train_cats_dir + filename for filename in os.listdir(train_cats_dir)][:10000])\n",
    "train_dog_filenames = tf.constant([train_dogs_dir + filename for filename in os.listdir(train_dogs_dir)][:10000])\n",
    "train_filenames = tf.concat([train_cat_filenames, train_dog_filenames], axis=-1)\n",
    "train_labels = tf.concat([\n",
    "    tf.zeros(train_cat_filenames.shape, dtype=tf.int32),\n",
    "    tf.ones(train_dog_filenames.shape, dtype=tf.int32)],\n",
    "    axis=-1)"
   ],
   "metadata": {
    "collapsed": false,
    "pycharm": {
     "name": "#%%\n"
    }
   }
  },
  {
   "cell_type": "code",
   "execution_count": 69,
   "outputs": [
    {
     "data": {
      "text/plain": "<tf.Tensor: shape=(10000,), dtype=string, numpy=\narray([b'../../../../Other/datasets/cats_vs_dogs/train/dogs/dog.0.jpg',\n       b'../../../../Other/datasets/cats_vs_dogs/train/dogs/dog.1.jpg',\n       b'../../../../Other/datasets/cats_vs_dogs/train/dogs/dog.10.jpg',\n       ...,\n       b'../../../../Other/datasets/cats_vs_dogs/train/dogs/dog.8537.jpg',\n       b'../../../../Other/datasets/cats_vs_dogs/train/dogs/dog.8538.jpg',\n       b'../../../../Other/datasets/cats_vs_dogs/train/dogs/dog.8539.jpg'],\n      dtype=object)>"
     },
     "execution_count": 69,
     "metadata": {},
     "output_type": "execute_result"
    }
   ],
   "source": [
    "train_dog_filenames  # 文件路径"
   ],
   "metadata": {
    "collapsed": false,
    "pycharm": {
     "name": "#%%\n"
    }
   }
  },
  {
   "cell_type": "code",
   "execution_count": 70,
   "outputs": [
    {
     "data": {
      "text/plain": "<tf.Tensor: shape=(20000,), dtype=int32, numpy=array([0, 0, 0, ..., 1, 1, 1])>"
     },
     "execution_count": 70,
     "metadata": {},
     "output_type": "execute_result"
    }
   ],
   "source": [
    "train_labels"
   ],
   "metadata": {
    "collapsed": false,
    "pycharm": {
     "name": "#%%\n"
    }
   }
  },
  {
   "cell_type": "code",
   "execution_count": 71,
   "outputs": [],
   "source": [
    "def _decode_and_resize(filename, label):\n",
    "    image_string = tf.io.read_file(filename)  # 读取原始文件\n",
    "    image_decoded = tf.image.decode_jpeg(image_string)  # 解码JPEG图片\n",
    "    image_resized = tf.image.resize(image_decoded, [256, 256]) / 255.0\n",
    "    return image_resized, label\n",
    "\n",
    "\n",
    "train_dataset = tf.data.Dataset.from_tensor_slices((train_filenames, train_labels))"
   ],
   "metadata": {
    "collapsed": false,
    "pycharm": {
     "name": "#%%\n"
    }
   }
  },
  {
   "cell_type": "code",
   "execution_count": 72,
   "outputs": [
    {
     "name": "stdout",
     "output_type": "stream",
     "text": [
      "13.2 ms ± 3.28 ms per loop (mean ± std. dev. of 7 runs, 100 loops each)\n"
     ]
    }
   ],
   "source": [
    "%%timeit\n",
    "train_dataset.map(map_func=_decode_and_resize,\n",
    "                  num_parallel_calls=tf.data.AUTOTUNE)"
   ],
   "metadata": {
    "collapsed": false,
    "pycharm": {
     "name": "#%%\n"
    }
   }
  },
  {
   "cell_type": "markdown",
   "source": [
    "Creates a Dataset that prefetches elements from this dataset.\n",
    "\n",
    "Most dataset input pipelines should end with a call to prefetch.\n",
    "This allows later elements to be prepared while the current element is being processed.\n",
    "This often improves latency and throughput, at the cost of using additional memory to store prefetched elements."
   ],
   "metadata": {
    "collapsed": false,
    "pycharm": {
     "name": "#%% md\n"
    }
   }
  },
  {
   "cell_type": "code",
   "execution_count": 73,
   "outputs": [
    {
     "name": "stdout",
     "output_type": "stream",
     "text": [
      "10.6 ms ± 487 µs per loop (mean ± std. dev. of 7 runs, 100 loops each)\n"
     ]
    }
   ],
   "source": [
    "%%timeit\n",
    "train_dataset.map(map_func=_decode_and_resize,\n",
    "                  num_parallel_calls=tf.data.experimental.AUTOTUNE).\\\n",
    "    prefetch(tf.data.experimental.AUTOTUNE)  # 性能得到提升"
   ],
   "metadata": {
    "collapsed": false,
    "pycharm": {
     "name": "#%%\n"
    }
   }
  },
  {
   "cell_type": "code",
   "execution_count": 73,
   "outputs": [],
   "source": [],
   "metadata": {
    "collapsed": false,
    "pycharm": {
     "name": "#%%\n"
    }
   }
  }
 ],
 "metadata": {
  "kernelspec": {
   "display_name": "Python 3",
   "language": "python",
   "name": "python3"
  },
  "language_info": {
   "codemirror_mode": {
    "name": "ipython",
    "version": 2
   },
   "file_extension": ".py",
   "mimetype": "text/x-python",
   "name": "python",
   "nbconvert_exporter": "python",
   "pygments_lexer": "ipython2",
   "version": "2.7.6"
  }
 },
 "nbformat": 4,
 "nbformat_minor": 0
}