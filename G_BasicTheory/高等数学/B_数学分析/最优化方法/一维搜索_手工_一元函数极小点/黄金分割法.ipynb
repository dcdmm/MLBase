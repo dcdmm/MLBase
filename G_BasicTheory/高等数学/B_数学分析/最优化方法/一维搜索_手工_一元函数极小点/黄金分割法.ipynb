{
 "cells": [
  {
   "cell_type": "code",
   "execution_count": 1,
   "outputs": [],
   "source": [
    "%matplotlib inline\n",
    "import numpy as np\n",
    "import matplotlib.pyplot as plt\n",
    "from scipy.optimize import fminbound\n",
    "\n",
    "def func(x):\n",
    "    \"\"\"目标函数(单峰函数)\"\"\"\n",
    "    result = np.exp(-x)+x**2\n",
    "    return result\n",
    "\n",
    "def golden(f, a, b, # [a, b]为搜索区间\n",
    "           epsilon=1e-3, # 停止迭代条件\n",
    "           maxstep=10000):\n",
    "    a1 = b - 0.618*(b-a)\n",
    "    a2 = a + 0.618*(b-a)\n",
    "    f1 = f(a1)\n",
    "    f2 = f(a2)\n",
    "    locus = list() # 迭代轨迹\n",
    "    for _ in range(maxstep):\n",
    "        locus.append([a, b])\n",
    "        if b - a < epsilon: # 满足迭代条件时跳出循环\n",
    "            issue = (b+a)/2 # 最终迭代结果\n",
    "            return np.array(locus), issue\n",
    "        if f1<f2: # 比较函数值大小\n",
    "            b = a2\n",
    "            a2 = a1\n",
    "            a1 = b - 0.618*(b-a)\n",
    "            f2 = f1\n",
    "            f1 = f(a1)\n",
    "        else:\n",
    "            a = a1\n",
    "            a1 = a2\n",
    "            f1 = f2\n",
    "            a2 = a + 0.618*(b-a)\n",
    "            f2 = f(a2)\n",
    "            \n",
    "\n",
    "def plot_picture(f, a, b, locus):\n",
    "    \"\"\"绘制整个迭代过程\"\"\"\n",
    "    x = np.linspace(a, b, 1000)\n",
    "    y = f(x)\n",
    "    y_locus = f(locus)\n",
    "    plt.plot(x, y)\n",
    "    plt.scatter(locus, y_locus)\n",
    "    plt.show()"
   ],
   "metadata": {
    "collapsed": false,
    "pycharm": {
     "name": "#%%\n",
     "is_executing": false
    }
   }
  },
  {
   "cell_type": "code",
   "execution_count": 2,
   "outputs": [
    {
     "name": "stdout",
     "text": [
      "迭代轨迹为:\n",
      " [[0.         1.        ]\n",
      " [0.         0.618     ]\n",
      " [0.236076   0.618     ]\n",
      " [0.236076   0.47210503]\n",
      " [0.236076   0.382     ]\n",
      " [0.29181897 0.382     ]\n",
      " [0.32623909 0.382     ]\n",
      " [0.32623909 0.36069933]\n",
      " [0.3394029  0.36069933]\n",
      " [0.34755085 0.36069933]\n",
      " [0.34755085 0.35567661]\n",
      " [0.35065489 0.35567661]\n",
      " [0.35065489 0.35375831]\n",
      " [0.35065489 0.3525641 ]\n",
      " [0.35138421 0.3525641 ]\n",
      " [0.35138421 0.35211338]]\n",
      "最优点和最优点的函数值为: 0.3517487917821026 0.8271840264349385\n"
     ],
     "output_type": "stream"
    }
   ],
   "source": [
    "trajectory, solution = golden(func, 0, 1)\n",
    "print(\"迭代轨迹为:\\n\", np.array(trajectory))\n",
    "print(\"最优点和最优点的函数值为:\", solution, func(solution))"
   ],
   "metadata": {
    "collapsed": false,
    "pycharm": {
     "name": "#%%\n",
     "is_executing": false
    }
   }
  },
  {
   "cell_type": "code",
   "execution_count": 3,
   "outputs": [
    {
     "name": "stdout",
     "text": [
      "min_global=  0.35173538036861207\n"
     ],
     "output_type": "stream"
    }
   ],
   "source": [
    "min_global = fminbound(func, 0, 1) # 调用的scipy库中的fminboud函数进行验证\n",
    "print('min_global= ', min_global)"
   ],
   "metadata": {
    "collapsed": false,
    "pycharm": {
     "name": "#%%\n",
     "is_executing": false
    }
   }
  },
  {
   "cell_type": "code",
   "execution_count": 4,
   "outputs": [
    {
     "data": {
      "text/plain": "<Figure size 432x288 with 1 Axes>",
      "image/png": "[encoded data removed]"
     },
     "metadata": {
      "needs_background": "light"
     },
     "output_type": "display_data"
    }
   ],
   "source": [
    "plot_picture(func, 0, 1, trajectory)"
   ],
   "metadata": {
    "collapsed": false,
    "pycharm": {
     "name": "#%%\n",
     "is_executing": false
    }
   }
  },
  {
   "cell_type": "code",
   "execution_count": 4,
   "outputs": [],
   "source": [],
   "metadata": {
    "collapsed": false,
    "pycharm": {
     "name": "#%%\n",
     "is_executing": false
    }
   }
  }
 ],
 "metadata": {
  "kernelspec": {
   "display_name": "Python 3",
   "language": "python",
   "name": "python3"
  },
  "language_info": {
   "codemirror_mode": {
    "name": "ipython",
    "version": 2
   },
   "file_extension": ".py",
   "mimetype": "text/x-python",
   "name": "python",
   "nbconvert_exporter": "python",
   "pygments_lexer": "ipython2",
   "version": "2.7.6"
  },
  "pycharm": {
   "stem_cell": {
    "cell_type": "raw",
    "source": [],
    "metadata": {
     "collapsed": false
    }
   }
  }
 },
 "nbformat": 4,
 "nbformat_minor": 0
}