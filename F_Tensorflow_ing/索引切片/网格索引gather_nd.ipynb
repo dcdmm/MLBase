{
 "cells": [
  {
   "cell_type": "code",
   "execution_count": 174,
   "metadata": {
    "collapsed": true
   },
   "outputs": [],
   "source": [
    "import tensorflow as tf"
   ]
  },
  {
   "cell_type": "markdown",
   "source": [
    "### 参考numpy网格索引"
   ],
   "metadata": {
    "collapsed": false
   }
  },
  {
   "cell_type": "code",
   "execution_count": null,
   "outputs": [],
   "source": [
    "indices = [[0, 0],\n",
    "           [1, 1]]\n",
    "tor = tf.constant([['a', 'b'],\n",
    "                   ['c', 'd']])\n",
    "\n",
    "print(tf.stack([tor[0, 1], tor[1, 1], tor[0, 1]]))\n",
    "\n",
    "# 选取索引为(0, 0),(1, 1),(0, 1)处的元素值\n",
    "print(tf.gather_nd(tor, [[0, 0], [1, 1], [0, 1]]))  # 与上等价"
   ],
   "metadata": {
    "collapsed": false,
    "pycharm": {
     "name": "#%%\n"
    }
   }
  },
  {
   "cell_type": "code",
   "execution_count": 176,
   "outputs": [
    {
     "data": {
      "text/plain": "<tf.Tensor: shape=(2, 3, 4), dtype=int32, numpy=\narray([[[ 0,  1,  2,  3],\n        [ 4,  5,  6,  7],\n        [ 8,  9, 10, 11]],\n\n       [[12, 13, 14, 15],\n        [16, 17, 18, 19],\n        [20, 21, 22, 23]]])>"
     },
     "execution_count": 176,
     "metadata": {},
     "output_type": "execute_result"
    }
   ],
   "source": [
    "tor = tf.reshape(tf.range(24), (2, 3, 4))\n",
    "tor"
   ],
   "metadata": {
    "collapsed": false,
    "pycharm": {
     "name": "#%%\n"
    }
   }
  },
  {
   "cell_type": "code",
   "execution_count": 177,
   "outputs": [
    {
     "name": "stdout",
     "output_type": "stream",
     "text": [
      "tf.Tensor([ 1 21 23], shape=(3,), dtype=int32)\n",
      "tf.Tensor([ 1 21 23], shape=(3,), dtype=int32)\n"
     ]
    }
   ],
   "source": [
    "print(tf.stack([tor[0, 0, 1], tor[1, 2, 1], tor[1, 2, 3]]))\n",
    "# 选取索引为(0, 0, 1),(1, 2, 1),(1, 2, 3)处的元素值\n",
    "print(tf.gather_nd(tor, [[0, 0, 1], [1, 2, 1], [1, 2, 3]]))  # 与上等价"
   ],
   "metadata": {
    "collapsed": false,
    "pycharm": {
     "name": "#%%\n"
    }
   }
  },
  {
   "cell_type": "code",
   "execution_count": 177,
   "outputs": [],
   "source": [],
   "metadata": {
    "collapsed": false,
    "pycharm": {
     "name": "#%%\n"
    }
   }
  }
 ],
 "metadata": {
  "kernelspec": {
   "display_name": "Python 3",
   "language": "python",
   "name": "python3"
  },
  "language_info": {
   "codemirror_mode": {
    "name": "ipython",
    "version": 2
   },
   "file_extension": ".py",
   "mimetype": "text/x-python",
   "name": "python",
   "nbconvert_exporter": "python",
   "pygments_lexer": "ipython2",
   "version": "2.7.6"
  }
 },
 "nbformat": 4,
 "nbformat_minor": 0
}