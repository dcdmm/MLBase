{
 "cells": [
  {
   "cell_type": "code",
   "execution_count": 1,
   "metadata": {
    "collapsed": true
   },
   "outputs": [],
   "source": [
    "import torch.nn as nn\n",
    "import torch.optim as optim\n",
    "import torch.utils.data as Data\n",
    "import torch\n",
    "import numpy as np"
   ]
  },
  {
   "cell_type": "code",
   "execution_count": 2,
   "metadata": {
    "pycharm": {
     "name": "#%%\n"
    }
   },
   "outputs": [],
   "source": [
    "# 手写数字训练数据集\n",
    "mnist = np.load(\"../../../../Other/datasets/NumPy/mnist.npz\")\n",
    "X_train, y_train, X_test, y_test = torch.unsqueeze(torch.tensor(mnist['x_train']), 1).to(dtype=torch.float32), \\\n",
    "                                   torch.tensor(mnist['y_train']).to(dtype=torch.long), \\\n",
    "                                   torch.unsqueeze(torch.tensor(mnist['x_test']), 1).to(dtype=torch.float32), \\\n",
    "                                   torch.tensor(mnist['y_test']).to(dtype=torch.long)\n",
    "X_train, X_test = X_train / 255.0, X_test / 255.0"
   ]
  },
  {
   "cell_type": "code",
   "execution_count": 3,
   "outputs": [],
   "source": [
    "batch_size = 200\n",
    "train_data = Data.TensorDataset(X_train, y_train)\n",
    "train_loader = Data.DataLoader(dataset=train_data,\n",
    "                               batch_size=batch_size,\n",
    "                               shuffle=True)\n",
    "train_X = Data.DataLoader(X_train, batch_size=batch_size)\n",
    "test_X = Data.DataLoader(X_test, batch_size=batch_size)"
   ],
   "metadata": {
    "collapsed": false,
    "pycharm": {
     "name": "#%%\n"
    }
   }
  },
  {
   "cell_type": "code",
   "execution_count": 4,
   "outputs": [],
   "source": [
    "class LeNet(nn.Module):\n",
    "    def __init__(self):\n",
    "        super(LeNet, self).__init__()\n",
    "        self.featrues = nn.Sequential(  # 内部实现了forward函数;各模块顺序执行\n",
    "            nn.Conv2d(1, 6, 3),\n",
    "            nn.ReLU(),\n",
    "            nn.MaxPool2d(2, 2),\n",
    "            nn.Conv2d(6, 16, 3),\n",
    "            nn.ReLU(),\n",
    "            nn.MaxPool2d(2, 2)\n",
    "        )\n",
    "        self.classifier = nn.Sequential(\n",
    "            nn.Linear(400, 120),\n",
    "            nn.ReLU(),\n",
    "            nn.Linear(120, 84),\n",
    "            nn.ReLU(),\n",
    "            nn.Linear(84, 10),  # 10分类问题\n",
    "        )\n",
    "\n",
    "    def forward(self, x):\n",
    "        x = self.featrues(x)\n",
    "        x = x.reshape(x.size()[0], -1)\n",
    "        x = self.classifier(x)\n",
    "        return x"
   ],
   "metadata": {
    "collapsed": false,
    "pycharm": {
     "name": "#%%\n"
    }
   }
  },
  {
   "cell_type": "code",
   "execution_count": 5,
   "metadata": {
    "pycharm": {
     "name": "#%%\n"
    }
   },
   "outputs": [],
   "source": [
    "learning_rate = 0.01\n",
    "epochs = 5\n",
    "criteon = nn.CrossEntropyLoss()  # 定义损失函数为交叉熵\n",
    "device = torch.device(\"cuda\" if torch.cuda.is_available() else \"cpu\")\n",
    "net = LeNet()\n",
    "lenet = net.to(device)  # 模型设备转移必须在优化器定义前执行\n",
    "\n",
    "# 多参数组的SGD优化器\n",
    "optimizer = optim.SGD([dict(params=net.featrues.parameters(), momentum=0.9),\n",
    "                       dict(params=net.classifier.parameters(),\n",
    "                            momentum=0.95,  # 动量参数\\alpha;默认momentum=0\n",
    "                            nesterov=True)],  # 是否启用Nesterov动量\n",
    "                      lr=learning_rate)  # 学习率"
   ]
  },
  {
   "cell_type": "code",
   "execution_count": 6,
   "outputs": [],
   "source": [
    "from torch_model.train_evaluate import Train_Evaluate\n",
    "\n",
    "t_and_v = Train_Evaluate(model=lenet, optimizer=optimizer, criterion=criteon, epochs=5)"
   ],
   "metadata": {
    "collapsed": false,
    "pycharm": {
     "name": "#%%\n"
    }
   }
  },
  {
   "cell_type": "code",
   "execution_count": 7,
   "outputs": [
    {
     "name": "stderr",
     "output_type": "stream",
     "text": [
      "C:\\Users\\duanm\\anaconda3\\lib\\site-packages\\torch\\nn\\functional.py:718: UserWarning: Named tensors and all their associated APIs are an experimental feature and subject to change. Please do not use them for anything important until they are released as stable. (Triggered internally at  ..\\c10/core/TensorImpl.h:1156.)\n",
      "  return torch.max_pool2d(input, kernel_size, stride, padding, dilation, ceil_mode)\n"
     ]
    },
    {
     "name": "stdout",
     "output_type": "stream",
     "text": [
      "Train Epoch: 0  [0    /60000 (0  %)]\tLoss: 2.307459\n",
      "Train Epoch: 0  [2000 /60000 (3  %)]\tLoss: 2.301410\n",
      "Train Epoch: 0  [4000 /60000 (7  %)]\tLoss: 2.303872\n",
      "Train Epoch: 0  [6000 /60000 (10 %)]\tLoss: 2.299463\n",
      "Train Epoch: 0  [8000 /60000 (13 %)]\tLoss: 2.295502\n",
      "Train Epoch: 0  [10000/60000 (17 %)]\tLoss: 2.292671\n",
      "Train Epoch: 0  [12000/60000 (20 %)]\tLoss: 2.299921\n",
      "Train Epoch: 0  [14000/60000 (23 %)]\tLoss: 2.303147\n",
      "Train Epoch: 0  [16000/60000 (27 %)]\tLoss: 2.293887\n",
      "Train Epoch: 0  [18000/60000 (30 %)]\tLoss: 2.287347\n",
      "Train Epoch: 0  [20000/60000 (33 %)]\tLoss: 2.290908\n",
      "Train Epoch: 0  [22000/60000 (37 %)]\tLoss: 2.286760\n",
      "Train Epoch: 0  [24000/60000 (40 %)]\tLoss: 2.277392\n",
      "Train Epoch: 0  [26000/60000 (43 %)]\tLoss: 2.261851\n",
      "Train Epoch: 0  [28000/60000 (47 %)]\tLoss: 2.237933\n",
      "Train Epoch: 0  [30000/60000 (50 %)]\tLoss: 2.207959\n",
      "Train Epoch: 0  [32000/60000 (53 %)]\tLoss: 2.109284\n",
      "Train Epoch: 0  [34000/60000 (57 %)]\tLoss: 1.862985\n",
      "Train Epoch: 0  [36000/60000 (60 %)]\tLoss: 1.419257\n",
      "Train Epoch: 0  [38000/60000 (63 %)]\tLoss: 0.896892\n",
      "Train Epoch: 0  [40000/60000 (67 %)]\tLoss: 0.711944\n",
      "Train Epoch: 0  [42000/60000 (70 %)]\tLoss: 0.638173\n",
      "Train Epoch: 0  [44000/60000 (73 %)]\tLoss: 0.415788\n",
      "Train Epoch: 0  [46000/60000 (77 %)]\tLoss: 0.519718\n",
      "Train Epoch: 0  [48000/60000 (80 %)]\tLoss: 0.382847\n",
      "Train Epoch: 0  [50000/60000 (83 %)]\tLoss: 0.370524\n",
      "Train Epoch: 0  [52000/60000 (87 %)]\tLoss: 0.438894\n",
      "Train Epoch: 0  [54000/60000 (90 %)]\tLoss: 0.370742\n",
      "Train Epoch: 0  [56000/60000 (93 %)]\tLoss: 0.511467\n",
      "Train Epoch: 0  [58000/60000 (97 %)]\tLoss: 0.405908\n",
      "Train Epoch: 0  [60000/60000 (100%)]\tLoss: 0.309633\n",
      "----------------------------------------------------------------------------------------------------\n",
      "Train Epoch: 1  [0    /60000 (0  %)]\tLoss: 0.450277\n",
      "Train Epoch: 1  [2000 /60000 (3  %)]\tLoss: 0.182902\n",
      "Train Epoch: 1  [4000 /60000 (7  %)]\tLoss: 0.301894\n",
      "Train Epoch: 1  [6000 /60000 (10 %)]\tLoss: 0.256996\n",
      "Train Epoch: 1  [8000 /60000 (13 %)]\tLoss: 0.161814\n",
      "Train Epoch: 1  [10000/60000 (17 %)]\tLoss: 0.256913\n",
      "Train Epoch: 1  [12000/60000 (20 %)]\tLoss: 0.165991\n",
      "Train Epoch: 1  [14000/60000 (23 %)]\tLoss: 0.183672\n",
      "Train Epoch: 1  [16000/60000 (27 %)]\tLoss: 0.238724\n",
      "Train Epoch: 1  [18000/60000 (30 %)]\tLoss: 0.191562\n",
      "Train Epoch: 1  [20000/60000 (33 %)]\tLoss: 0.243005\n",
      "Train Epoch: 1  [22000/60000 (37 %)]\tLoss: 0.195636\n",
      "Train Epoch: 1  [24000/60000 (40 %)]\tLoss: 0.230077\n",
      "Train Epoch: 1  [26000/60000 (43 %)]\tLoss: 0.146003\n",
      "Train Epoch: 1  [28000/60000 (47 %)]\tLoss: 0.141429\n",
      "Train Epoch: 1  [30000/60000 (50 %)]\tLoss: 0.246912\n",
      "Train Epoch: 1  [32000/60000 (53 %)]\tLoss: 0.177894\n",
      "Train Epoch: 1  [34000/60000 (57 %)]\tLoss: 0.209785\n",
      "Train Epoch: 1  [36000/60000 (60 %)]\tLoss: 0.152729\n",
      "Train Epoch: 1  [38000/60000 (63 %)]\tLoss: 0.113348\n",
      "Train Epoch: 1  [40000/60000 (67 %)]\tLoss: 0.117892\n",
      "Train Epoch: 1  [42000/60000 (70 %)]\tLoss: 0.141746\n",
      "Train Epoch: 1  [44000/60000 (73 %)]\tLoss: 0.125936\n",
      "Train Epoch: 1  [46000/60000 (77 %)]\tLoss: 0.196321\n",
      "Train Epoch: 1  [48000/60000 (80 %)]\tLoss: 0.147134\n",
      "Train Epoch: 1  [50000/60000 (83 %)]\tLoss: 0.128773\n",
      "Train Epoch: 1  [52000/60000 (87 %)]\tLoss: 0.132346\n",
      "Train Epoch: 1  [54000/60000 (90 %)]\tLoss: 0.260323\n",
      "Train Epoch: 1  [56000/60000 (93 %)]\tLoss: 0.131201\n",
      "Train Epoch: 1  [58000/60000 (97 %)]\tLoss: 0.102837\n",
      "Train Epoch: 1  [60000/60000 (100%)]\tLoss: 0.116971\n",
      "----------------------------------------------------------------------------------------------------\n",
      "Train Epoch: 2  [0    /60000 (0  %)]\tLoss: 0.173335\n",
      "Train Epoch: 2  [2000 /60000 (3  %)]\tLoss: 0.108248\n",
      "Train Epoch: 2  [4000 /60000 (7  %)]\tLoss: 0.072123\n",
      "Train Epoch: 2  [6000 /60000 (10 %)]\tLoss: 0.070042\n",
      "Train Epoch: 2  [8000 /60000 (13 %)]\tLoss: 0.137096\n",
      "Train Epoch: 2  [10000/60000 (17 %)]\tLoss: 0.061194\n",
      "Train Epoch: 2  [12000/60000 (20 %)]\tLoss: 0.064902\n",
      "Train Epoch: 2  [14000/60000 (23 %)]\tLoss: 0.065064\n",
      "Train Epoch: 2  [16000/60000 (27 %)]\tLoss: 0.089997\n",
      "Train Epoch: 2  [18000/60000 (30 %)]\tLoss: 0.047225\n",
      "Train Epoch: 2  [20000/60000 (33 %)]\tLoss: 0.125339\n",
      "Train Epoch: 2  [22000/60000 (37 %)]\tLoss: 0.133803\n",
      "Train Epoch: 2  [24000/60000 (40 %)]\tLoss: 0.060472\n",
      "Train Epoch: 2  [26000/60000 (43 %)]\tLoss: 0.071701\n",
      "Train Epoch: 2  [28000/60000 (47 %)]\tLoss: 0.082533\n",
      "Train Epoch: 2  [30000/60000 (50 %)]\tLoss: 0.087893\n",
      "Train Epoch: 2  [32000/60000 (53 %)]\tLoss: 0.155417\n",
      "Train Epoch: 2  [34000/60000 (57 %)]\tLoss: 0.098645\n",
      "Train Epoch: 2  [36000/60000 (60 %)]\tLoss: 0.069222\n",
      "Train Epoch: 2  [38000/60000 (63 %)]\tLoss: 0.120197\n",
      "Train Epoch: 2  [40000/60000 (67 %)]\tLoss: 0.124026\n",
      "Train Epoch: 2  [42000/60000 (70 %)]\tLoss: 0.103425\n",
      "Train Epoch: 2  [44000/60000 (73 %)]\tLoss: 0.098395\n",
      "Train Epoch: 2  [46000/60000 (77 %)]\tLoss: 0.094974\n",
      "Train Epoch: 2  [48000/60000 (80 %)]\tLoss: 0.058470\n",
      "Train Epoch: 2  [50000/60000 (83 %)]\tLoss: 0.069462\n",
      "Train Epoch: 2  [52000/60000 (87 %)]\tLoss: 0.044633\n",
      "Train Epoch: 2  [54000/60000 (90 %)]\tLoss: 0.065439\n",
      "Train Epoch: 2  [56000/60000 (93 %)]\tLoss: 0.065301\n",
      "Train Epoch: 2  [58000/60000 (97 %)]\tLoss: 0.077237\n",
      "Train Epoch: 2  [60000/60000 (100%)]\tLoss: 0.062861\n",
      "----------------------------------------------------------------------------------------------------\n",
      "Train Epoch: 3  [0    /60000 (0  %)]\tLoss: 0.039643\n",
      "Train Epoch: 3  [2000 /60000 (3  %)]\tLoss: 0.042381\n",
      "Train Epoch: 3  [4000 /60000 (7  %)]\tLoss: 0.039418\n",
      "Train Epoch: 3  [6000 /60000 (10 %)]\tLoss: 0.055961\n",
      "Train Epoch: 3  [8000 /60000 (13 %)]\tLoss: 0.172600\n",
      "Train Epoch: 3  [10000/60000 (17 %)]\tLoss: 0.071234\n",
      "Train Epoch: 3  [12000/60000 (20 %)]\tLoss: 0.084247\n",
      "Train Epoch: 3  [14000/60000 (23 %)]\tLoss: 0.109519\n",
      "Train Epoch: 3  [16000/60000 (27 %)]\tLoss: 0.079282\n",
      "Train Epoch: 3  [18000/60000 (30 %)]\tLoss: 0.058456\n",
      "Train Epoch: 3  [20000/60000 (33 %)]\tLoss: 0.042970\n",
      "Train Epoch: 3  [22000/60000 (37 %)]\tLoss: 0.090370\n",
      "Train Epoch: 3  [24000/60000 (40 %)]\tLoss: 0.033936\n",
      "Train Epoch: 3  [26000/60000 (43 %)]\tLoss: 0.054992\n",
      "Train Epoch: 3  [28000/60000 (47 %)]\tLoss: 0.040877\n",
      "Train Epoch: 3  [30000/60000 (50 %)]\tLoss: 0.091252\n",
      "Train Epoch: 3  [32000/60000 (53 %)]\tLoss: 0.081972\n",
      "Train Epoch: 3  [34000/60000 (57 %)]\tLoss: 0.129179\n",
      "Train Epoch: 3  [36000/60000 (60 %)]\tLoss: 0.059500\n",
      "Train Epoch: 3  [38000/60000 (63 %)]\tLoss: 0.069378\n",
      "Train Epoch: 3  [40000/60000 (67 %)]\tLoss: 0.081018\n",
      "Train Epoch: 3  [42000/60000 (70 %)]\tLoss: 0.063562\n",
      "Train Epoch: 3  [44000/60000 (73 %)]\tLoss: 0.031379\n",
      "Train Epoch: 3  [46000/60000 (77 %)]\tLoss: 0.059966\n",
      "Train Epoch: 3  [48000/60000 (80 %)]\tLoss: 0.102312\n",
      "Train Epoch: 3  [50000/60000 (83 %)]\tLoss: 0.047513\n",
      "Train Epoch: 3  [52000/60000 (87 %)]\tLoss: 0.044474\n",
      "Train Epoch: 3  [54000/60000 (90 %)]\tLoss: 0.077298\n",
      "Train Epoch: 3  [56000/60000 (93 %)]\tLoss: 0.071244\n",
      "Train Epoch: 3  [58000/60000 (97 %)]\tLoss: 0.094038\n",
      "Train Epoch: 3  [60000/60000 (100%)]\tLoss: 0.048432\n",
      "----------------------------------------------------------------------------------------------------\n",
      "Train Epoch: 4  [0    /60000 (0  %)]\tLoss: 0.054720\n",
      "Train Epoch: 4  [2000 /60000 (3  %)]\tLoss: 0.049135\n",
      "Train Epoch: 4  [4000 /60000 (7  %)]\tLoss: 0.123643\n",
      "Train Epoch: 4  [6000 /60000 (10 %)]\tLoss: 0.040085\n",
      "Train Epoch: 4  [8000 /60000 (13 %)]\tLoss: 0.066934\n",
      "Train Epoch: 4  [10000/60000 (17 %)]\tLoss: 0.028721\n",
      "Train Epoch: 4  [12000/60000 (20 %)]\tLoss: 0.085210\n",
      "Train Epoch: 4  [14000/60000 (23 %)]\tLoss: 0.126343\n",
      "Train Epoch: 4  [16000/60000 (27 %)]\tLoss: 0.076901\n",
      "Train Epoch: 4  [18000/60000 (30 %)]\tLoss: 0.043954\n",
      "Train Epoch: 4  [20000/60000 (33 %)]\tLoss: 0.111298\n",
      "Train Epoch: 4  [22000/60000 (37 %)]\tLoss: 0.036907\n",
      "Train Epoch: 4  [24000/60000 (40 %)]\tLoss: 0.041651\n",
      "Train Epoch: 4  [26000/60000 (43 %)]\tLoss: 0.043030\n",
      "Train Epoch: 4  [28000/60000 (47 %)]\tLoss: 0.111200\n",
      "Train Epoch: 4  [30000/60000 (50 %)]\tLoss: 0.037138\n",
      "Train Epoch: 4  [32000/60000 (53 %)]\tLoss: 0.069043\n",
      "Train Epoch: 4  [34000/60000 (57 %)]\tLoss: 0.049619\n",
      "Train Epoch: 4  [36000/60000 (60 %)]\tLoss: 0.034099\n",
      "Train Epoch: 4  [38000/60000 (63 %)]\tLoss: 0.102173\n",
      "Train Epoch: 4  [40000/60000 (67 %)]\tLoss: 0.049121\n",
      "Train Epoch: 4  [42000/60000 (70 %)]\tLoss: 0.062263\n",
      "Train Epoch: 4  [44000/60000 (73 %)]\tLoss: 0.058220\n",
      "Train Epoch: 4  [46000/60000 (77 %)]\tLoss: 0.056434\n",
      "Train Epoch: 4  [48000/60000 (80 %)]\tLoss: 0.060242\n",
      "Train Epoch: 4  [50000/60000 (83 %)]\tLoss: 0.052587\n",
      "Train Epoch: 4  [52000/60000 (87 %)]\tLoss: 0.029390\n",
      "Train Epoch: 4  [54000/60000 (90 %)]\tLoss: 0.037014\n",
      "Train Epoch: 4  [56000/60000 (93 %)]\tLoss: 0.081164\n",
      "Train Epoch: 4  [58000/60000 (97 %)]\tLoss: 0.047882\n",
      "Train Epoch: 4  [60000/60000 (100%)]\tLoss: 0.072486\n",
      "----------------------------------------------------------------------------------------------------\n"
     ]
    },
    {
     "data": {
      "text/plain": "[[0.2970397472381592, 0.27800387144088745],\n [0.11796893924474716, 0.11249450594186783],\n [0.07793153822422028, 0.07405985891819],\n [0.06347984820604324, 0.06620202958583832],\n [0.048738084733486176, 0.053294841200113297]]"
     },
     "execution_count": 7,
     "metadata": {},
     "output_type": "execute_result"
    }
   ],
   "source": [
    "metric_reslut = t_and_v.train_eval(train_loader=train_loader, valid_sets=[(train_X, y_train), (test_X, y_test)])\n",
    "metric_reslut  # 每一轮验证数据集的损失值\n",
    "\n"
   ],
   "metadata": {
    "collapsed": false,
    "pycharm": {
     "name": "#%%\n"
    }
   }
  }
 ],
 "metadata": {
  "kernelspec": {
   "display_name": "Python 3",
   "language": "python",
   "name": "python3"
  },
  "language_info": {
   "codemirror_mode": {
    "name": "ipython",
    "version": 3
   },
   "file_extension": ".py",
   "mimetype": "text/x-python",
   "name": "python",
   "nbconvert_exporter": "python",
   "pygments_lexer": "ipython3",
   "version": "3.7.7"
  },
  "toc": {
   "base_numbering": 1,
   "nav_menu": {},
   "number_sections": true,
   "sideBar": true,
   "skip_h1_title": false,
   "title_cell": "Table of Contents",
   "title_sidebar": "Contents",
   "toc_cell": false,
   "toc_position": {},
   "toc_section_display": true,
   "toc_window_display": false
  }
 },
 "nbformat": 4,
 "nbformat_minor": 1
}