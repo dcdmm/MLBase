{
 "cells": [
  {
   "cell_type": "code",
   "execution_count": 1,
   "outputs": [],
   "source": [
    "import numpy as np\n",
    "import  pandas as pd"
   ],
   "metadata": {
    "collapsed": false,
    "pycharm": {
     "name": "#%%\n",
     "is_executing": false
    }
   }
  },
  {
   "cell_type": "code",
   "execution_count": 14,
   "outputs": [],
   "source": [
    "data = pd.DataFrame(np.arange(6).reshape((2, 3)),\n",
    "                    index=pd.Index(['Ohio', 'Colorado'], name='state'),\n",
    "                    columns=pd.Index(['one', 'two', 'three'],\n",
    "                    name='number'))"
   ],
   "metadata": {
    "pycharm": {
     "metadata": false,
     "name": "#%%\n",
     "is_executing": false
    }
   }
  },
  {
   "cell_type": "code",
   "execution_count": 15,
   "outputs": [
    {
     "data": {
      "text/plain": "number    one  two  three\nstate                    \nOhio        0    1      2\nColorado    3    4      5",
      "text/html": "<div>\n<style scoped>\n    .dataframe tbody tr th:only-of-type {\n        vertical-align: middle;\n    }\n\n    .dataframe tbody tr th {\n        vertical-align: top;\n    }\n\n    .dataframe thead th {\n        text-align: right;\n    }\n</style>\n<table border=\"1\" class=\"dataframe\">\n  <thead>\n    <tr style=\"text-align: right;\">\n      <th>number</th>\n      <th>one</th>\n      <th>two</th>\n      <th>three</th>\n    </tr>\n    <tr>\n      <th>state</th>\n      <th></th>\n      <th></th>\n      <th></th>\n    </tr>\n  </thead>\n  <tbody>\n    <tr>\n      <td>Ohio</td>\n      <td>0</td>\n      <td>1</td>\n      <td>2</td>\n    </tr>\n    <tr>\n      <td>Colorado</td>\n      <td>3</td>\n      <td>4</td>\n      <td>5</td>\n    </tr>\n  </tbody>\n</table>\n</div>"
     },
     "metadata": {},
     "output_type": "execute_result",
     "execution_count": 15
    }
   ],
   "source": [
    "data"
   ],
   "metadata": {
    "pycharm": {
     "metadata": false,
     "name": "#%%\n",
     "is_executing": false
    }
   }
  },
  {
   "cell_type": "code",
   "execution_count": 16,
   "outputs": [],
   "source": [
    "result = data.stack() # 列索引(默认level=-1,最内层)转换为行索引"
   ],
   "metadata": {
    "pycharm": {
     "metadata": false,
     "name": "#%%\n",
     "is_executing": false
    }
   }
  },
  {
   "cell_type": "code",
   "execution_count": 17,
   "outputs": [
    {
     "data": {
      "text/plain": "state     number\nOhio      one       0\n          two       1\n          three     2\nColorado  one       3\n          two       4\n          three     5\ndtype: int32"
     },
     "metadata": {},
     "output_type": "execute_result",
     "execution_count": 17
    }
   ],
   "source": [
    "result"
   ],
   "metadata": {
    "pycharm": {
     "metadata": false,
     "name": "#%%\n",
     "is_executing": false
    }
   }
  },
  {
   "cell_type": "code",
   "execution_count": 18,
   "outputs": [
    {
     "data": {
      "text/plain": "number    one  two  three\nstate                    \nOhio        0    1      2\nColorado    3    4      5",
      "text/html": "<div>\n<style scoped>\n    .dataframe tbody tr th:only-of-type {\n        vertical-align: middle;\n    }\n\n    .dataframe tbody tr th {\n        vertical-align: top;\n    }\n\n    .dataframe thead th {\n        text-align: right;\n    }\n</style>\n<table border=\"1\" class=\"dataframe\">\n  <thead>\n    <tr style=\"text-align: right;\">\n      <th>number</th>\n      <th>one</th>\n      <th>two</th>\n      <th>three</th>\n    </tr>\n    <tr>\n      <th>state</th>\n      <th></th>\n      <th></th>\n      <th></th>\n    </tr>\n  </thead>\n  <tbody>\n    <tr>\n      <td>Ohio</td>\n      <td>0</td>\n      <td>1</td>\n      <td>2</td>\n    </tr>\n    <tr>\n      <td>Colorado</td>\n      <td>3</td>\n      <td>4</td>\n      <td>5</td>\n    </tr>\n  </tbody>\n</table>\n</div>"
     },
     "metadata": {},
     "output_type": "execute_result",
     "execution_count": 18
    }
   ],
   "source": [
    "result.unstack() # 行索引(默认为level=-1,最内层)引转换为列索引"
   ],
   "metadata": {
    "pycharm": {
     "metadata": false,
     "name": "#%%\n",
     "is_executing": false
    }
   }
  },
  {
   "cell_type": "code",
   "execution_count": 19,
   "outputs": [
    {
     "data": {
      "text/plain": "state   Ohio  Colorado\nnumber                \none        0         3\ntwo        1         4\nthree      2         5",
      "text/html": "<div>\n<style scoped>\n    .dataframe tbody tr th:only-of-type {\n        vertical-align: middle;\n    }\n\n    .dataframe tbody tr th {\n        vertical-align: top;\n    }\n\n    .dataframe thead th {\n        text-align: right;\n    }\n</style>\n<table border=\"1\" class=\"dataframe\">\n  <thead>\n    <tr style=\"text-align: right;\">\n      <th>state</th>\n      <th>Ohio</th>\n      <th>Colorado</th>\n    </tr>\n    <tr>\n      <th>number</th>\n      <th></th>\n      <th></th>\n    </tr>\n  </thead>\n  <tbody>\n    <tr>\n      <td>one</td>\n      <td>0</td>\n      <td>3</td>\n    </tr>\n    <tr>\n      <td>two</td>\n      <td>1</td>\n      <td>4</td>\n    </tr>\n    <tr>\n      <td>three</td>\n      <td>2</td>\n      <td>5</td>\n    </tr>\n  </tbody>\n</table>\n</div>"
     },
     "metadata": {},
     "output_type": "execute_result",
     "execution_count": 19
    }
   ],
   "source": [
    "result.unstack(level=0) # 实现了行列转换(表格的转置)"
   ],
   "metadata": {
    "pycharm": {
     "metadata": false,
     "name": "#%%\n",
     "is_executing": false
    }
   }
  },
  {
   "cell_type": "code",
   "execution_count": 20,
   "outputs": [
    {
     "data": {
      "text/plain": "state   Ohio  Colorado\nnumber                \none        0         3\ntwo        1         4\nthree      2         5",
      "text/html": "<div>\n<style scoped>\n    .dataframe tbody tr th:only-of-type {\n        vertical-align: middle;\n    }\n\n    .dataframe tbody tr th {\n        vertical-align: top;\n    }\n\n    .dataframe thead th {\n        text-align: right;\n    }\n</style>\n<table border=\"1\" class=\"dataframe\">\n  <thead>\n    <tr style=\"text-align: right;\">\n      <th>state</th>\n      <th>Ohio</th>\n      <th>Colorado</th>\n    </tr>\n    <tr>\n      <th>number</th>\n      <th></th>\n      <th></th>\n    </tr>\n  </thead>\n  <tbody>\n    <tr>\n      <td>one</td>\n      <td>0</td>\n      <td>3</td>\n    </tr>\n    <tr>\n      <td>two</td>\n      <td>1</td>\n      <td>4</td>\n    </tr>\n    <tr>\n      <td>three</td>\n      <td>2</td>\n      <td>5</td>\n    </tr>\n  </tbody>\n</table>\n</div>"
     },
     "metadata": {},
     "output_type": "execute_result",
     "execution_count": 20
    }
   ],
   "source": [
    "result.unstack(level='state') # 也可以按照级别名称进行拆堆(等价于result.unstack(0))"
   ],
   "metadata": {
    "pycharm": {
     "metadata": false,
     "name": "#%%\n",
     "is_executing": false
    }
   }
  },
  {
   "cell_type": "code",
   "execution_count": 21,
   "outputs": [
    {
     "data": {
      "text/plain": "one  a    0\n     b    1\n     c    2\n     d    3\ntwo  c    4\n     d    5\n     e    6\ndtype: int64"
     },
     "metadata": {},
     "output_type": "execute_result",
     "execution_count": 21
    }
   ],
   "source": [
    "s1 = pd.Series([0, 1, 2, 3], index=['a', 'b', 'c', 'd'])\n",
    "s2 = pd.Series([4, 5, 6], index=['c', 'd', 'e'])\n",
    "data1 = pd.concat([s1, s2], keys=['one', 'two'])\n",
    "data1"
   ],
   "metadata": {
    "pycharm": {
     "metadata": false,
     "name": "#%%\n",
     "is_executing": false
    }
   }
  },
  {
   "cell_type": "code",
   "execution_count": 22,
   "outputs": [
    {
     "data": {
      "text/plain": "     a  b  c  d  e\none  0  1  2  3  空\ntwo  空  空  4  5  6",
      "text/html": "<div>\n<style scoped>\n    .dataframe tbody tr th:only-of-type {\n        vertical-align: middle;\n    }\n\n    .dataframe tbody tr th {\n        vertical-align: top;\n    }\n\n    .dataframe thead th {\n        text-align: right;\n    }\n</style>\n<table border=\"1\" class=\"dataframe\">\n  <thead>\n    <tr style=\"text-align: right;\">\n      <th></th>\n      <th>a</th>\n      <th>b</th>\n      <th>c</th>\n      <th>d</th>\n      <th>e</th>\n    </tr>\n  </thead>\n  <tbody>\n    <tr>\n      <td>one</td>\n      <td>0</td>\n      <td>1</td>\n      <td>2</td>\n      <td>3</td>\n      <td>空</td>\n    </tr>\n    <tr>\n      <td>two</td>\n      <td>空</td>\n      <td>空</td>\n      <td>4</td>\n      <td>5</td>\n      <td>6</td>\n    </tr>\n  </tbody>\n</table>\n</div>"
     },
     "metadata": {},
     "output_type": "execute_result",
     "execution_count": 22
    }
   ],
   "source": [
    "'''\n",
    "fill_value : replace NaN with this value if the unstack produces\n",
    "    missing values\n",
    "'''\n",
    "data1.unstack(fill_value='空') # 默认fill_value=None"
   ],
   "metadata": {
    "pycharm": {
     "metadata": false,
     "name": "#%%\n",
     "is_executing": false
    }
   }
  },
  {
   "cell_type": "code",
   "execution_count": 23,
   "outputs": [
    {
     "data": {
      "text/plain": "one  a    0.0\n     b    1.0\n     c    2.0\n     d    3.0\ntwo  c    4.0\n     d    5.0\n     e    6.0\ndtype: float64"
     },
     "metadata": {},
     "output_type": "execute_result",
     "execution_count": 23
    }
   ],
   "source": [
    "data1.unstack().stack() # 默认情况下,堆叠会过滤出缺失值,因此堆叠拆堆是可逆的"
   ],
   "metadata": {
    "pycharm": {
     "metadata": false,
     "name": "#%%\n",
     "is_executing": false
    }
   }
  },
  {
   "cell_type": "code",
   "execution_count": 24,
   "outputs": [
    {
     "data": {
      "text/plain": "one  a    0.0\n     b    1.0\n     c    2.0\n     d    3.0\n     e    NaN\ntwo  a    NaN\n     b    NaN\n     c    4.0\n     d    5.0\n     e    6.0\ndtype: float64"
     },
     "metadata": {},
     "output_type": "execute_result",
     "execution_count": 24
    }
   ],
   "source": [
    "data1.unstack().stack(dropna=False) # dropna:bool，默认为True,False则不删除缺失值行"
   ],
   "metadata": {
    "pycharm": {
     "metadata": false,
     "name": "#%%\n",
     "is_executing": false
    }
   }
  },
  {
   "cell_type": "code",
   "execution_count": 25,
   "outputs": [
    {
     "data": {
      "text/plain": "exp                 A         B         A         B\nanimal            cat       cat       dog       dog\nhair_length      long      long     short     short\n0           -1.347954 -0.693583  0.397692 -0.072737\n1           -1.108119 -1.926243  1.949626  2.456465\n2           -2.426339  0.046738 -0.067806 -0.501661\n3            0.395709 -1.074723  0.476600  1.032024",
      "text/html": "<div>\n<style scoped>\n    .dataframe tbody tr th:only-of-type {\n        vertical-align: middle;\n    }\n\n    .dataframe tbody tr th {\n        vertical-align: top;\n    }\n\n    .dataframe thead tr th {\n        text-align: left;\n    }\n</style>\n<table border=\"1\" class=\"dataframe\">\n  <thead>\n    <tr>\n      <th>exp</th>\n      <th>A</th>\n      <th>B</th>\n      <th>A</th>\n      <th>B</th>\n    </tr>\n    <tr>\n      <th>animal</th>\n      <th>cat</th>\n      <th>cat</th>\n      <th>dog</th>\n      <th>dog</th>\n    </tr>\n    <tr>\n      <th>hair_length</th>\n      <th>long</th>\n      <th>long</th>\n      <th>short</th>\n      <th>short</th>\n    </tr>\n  </thead>\n  <tbody>\n    <tr>\n      <td>0</td>\n      <td>-1.347954</td>\n      <td>-0.693583</td>\n      <td>0.397692</td>\n      <td>-0.072737</td>\n    </tr>\n    <tr>\n      <td>1</td>\n      <td>-1.108119</td>\n      <td>-1.926243</td>\n      <td>1.949626</td>\n      <td>2.456465</td>\n    </tr>\n    <tr>\n      <td>2</td>\n      <td>-2.426339</td>\n      <td>0.046738</td>\n      <td>-0.067806</td>\n      <td>-0.501661</td>\n    </tr>\n    <tr>\n      <td>3</td>\n      <td>0.395709</td>\n      <td>-1.074723</td>\n      <td>0.476600</td>\n      <td>1.032024</td>\n    </tr>\n  </tbody>\n</table>\n</div>"
     },
     "metadata": {},
     "output_type": "execute_result",
     "execution_count": 25
    }
   ],
   "source": [
    "columns = pd.MultiIndex.from_tuples([\n",
    "     ('A', 'cat', 'long'), ('B', 'cat', 'long'),\n",
    "     ('A', 'dog', 'short'), ('B', 'dog', 'short')],\n",
    "     names=['exp', 'animal', 'hair_length'])\n",
    "df = pd.DataFrame(np.random.randn(4, 4), columns=columns)\n",
    "df"
   ],
   "metadata": {
    "pycharm": {
     "metadata": false,
     "name": "#%%\n",
     "is_executing": false
    }
   }
  },
  {
   "cell_type": "code",
   "execution_count": 26,
   "outputs": [
    {
     "data": {
      "text/plain": "exp                          A         B\n  animal hair_length                    \n0 cat    long        -1.347954 -0.693583\n  dog    short        0.397692 -0.072737\n1 cat    long        -1.108119 -1.926243\n  dog    short        1.949626  2.456465\n2 cat    long        -2.426339  0.046738\n  dog    short       -0.067806 -0.501661\n3 cat    long         0.395709 -1.074723\n  dog    short        0.476600  1.032024",
      "text/html": "<div>\n<style scoped>\n    .dataframe tbody tr th:only-of-type {\n        vertical-align: middle;\n    }\n\n    .dataframe tbody tr th {\n        vertical-align: top;\n    }\n\n    .dataframe thead th {\n        text-align: right;\n    }\n</style>\n<table border=\"1\" class=\"dataframe\">\n  <thead>\n    <tr style=\"text-align: right;\">\n      <th></th>\n      <th></th>\n      <th>exp</th>\n      <th>A</th>\n      <th>B</th>\n    </tr>\n    <tr>\n      <th></th>\n      <th>animal</th>\n      <th>hair_length</th>\n      <th></th>\n      <th></th>\n    </tr>\n  </thead>\n  <tbody>\n    <tr>\n      <td rowspan=\"2\" valign=\"top\">0</td>\n      <td>cat</td>\n      <td>long</td>\n      <td>-1.347954</td>\n      <td>-0.693583</td>\n    </tr>\n    <tr>\n      <td>dog</td>\n      <td>short</td>\n      <td>0.397692</td>\n      <td>-0.072737</td>\n    </tr>\n    <tr>\n      <td rowspan=\"2\" valign=\"top\">1</td>\n      <td>cat</td>\n      <td>long</td>\n      <td>-1.108119</td>\n      <td>-1.926243</td>\n    </tr>\n    <tr>\n      <td>dog</td>\n      <td>short</td>\n      <td>1.949626</td>\n      <td>2.456465</td>\n    </tr>\n    <tr>\n      <td rowspan=\"2\" valign=\"top\">2</td>\n      <td>cat</td>\n      <td>long</td>\n      <td>-2.426339</td>\n      <td>0.046738</td>\n    </tr>\n    <tr>\n      <td>dog</td>\n      <td>short</td>\n      <td>-0.067806</td>\n      <td>-0.501661</td>\n    </tr>\n    <tr>\n      <td rowspan=\"2\" valign=\"top\">3</td>\n      <td>cat</td>\n      <td>long</td>\n      <td>0.395709</td>\n      <td>-1.074723</td>\n    </tr>\n    <tr>\n      <td>dog</td>\n      <td>short</td>\n      <td>0.476600</td>\n      <td>1.032024</td>\n    </tr>\n  </tbody>\n</table>\n</div>"
     },
     "metadata": {},
     "output_type": "execute_result",
     "execution_count": 26
    }
   ],
   "source": [
    "# 等价于:df.stack(level=[1, 2])\n",
    "df.stack(level=['animal', 'hair_length']) # 默认为level=-1(最内层)"
   ],
   "metadata": {
    "pycharm": {
     "metadata": false,
     "name": "#%%\n",
     "is_executing": false
    }
   }
  },
  {
   "cell_type": "code",
   "execution_count": null,
   "outputs": [],
   "source": [
    "\n"
   ],
   "metadata": {
    "collapsed": false,
    "pycharm": {
     "name": "#%%\n"
    }
   }
  }
 ],
 "metadata": {
  "language_info": {
   "codemirror_mode": {
    "name": "ipython",
    "version": 2
   },
   "file_extension": ".py",
   "mimetype": "text/x-python",
   "name": "python",
   "nbconvert_exporter": "python",
   "pygments_lexer": "ipython2",
   "version": "2.7.6"
  },
  "kernelspec": {
   "name": "python3",
   "language": "python",
   "display_name": "Python 3"
  },
  "pycharm": {
   "stem_cell": {
    "cell_type": "raw",
    "source": [],
    "metadata": {
     "collapsed": false
    }
   }
  }
 },
 "nbformat": 4,
 "nbformat_minor": 0
}