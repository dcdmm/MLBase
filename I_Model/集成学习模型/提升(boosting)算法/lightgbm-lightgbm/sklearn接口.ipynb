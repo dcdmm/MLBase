{
 "cells": [
  {
   "cell_type": "code",
   "execution_count": 18,
   "metadata": {
    "collapsed": true
   },
   "outputs": [],
   "source": [
    "from lightgbm import LGBMClassifier\n",
    "from sklearn import datasets\n",
    "from sklearn.model_selection import train_test_split\n",
    "import numpy as np\n",
    "from sklearn.preprocessing import OrdinalEncoder"
   ]
  },
  {
   "cell_type": "code",
   "execution_count": 19,
   "outputs": [
    {
     "name": "stdout",
     "output_type": "stream",
     "text": [
      "(2025, 54) (2025,)\n",
      "[1 2 3 4 5 6 7]\n"
     ]
    }
   ],
   "source": [
    "X = datasets.fetch_covtype().data[:3000]\n",
    "y = datasets.fetch_covtype().target[:3000]\n",
    "X_1, X_test, y_1, y_test = train_test_split(X, y, test_size=0.1)\n",
    "X_train, X_va, y_train, y_va = train_test_split(X_1, y_1)\n",
    "\n",
    "print(X_train.shape, y_train.shape)\n",
    "print(np.unique(y_train))  # 7分类任务"
   ],
   "metadata": {
    "collapsed": false,
    "pycharm": {
     "name": "#%%\n"
    }
   }
  },
  {
   "cell_type": "code",
   "execution_count": 20,
   "outputs": [
    {
     "name": "stdout",
     "output_type": "stream",
     "text": [
      "[0. 1. 2. 3. 4. 5. 6.]\n",
      "(2025,)\n"
     ]
    }
   ],
   "source": [
    "enc = OrdinalEncoder()\n",
    "\n",
    "# y*.shape = (num_sample, )\n",
    "y_train_enc = enc.fit_transform(y_train.reshape(-1, 1)).reshape(-1, )\n",
    "y_test_enc = enc.transform(y_test.reshape(-1, 1)).reshape(-1, )\n",
    "y_va_enc = enc.fit_transform(y_va.reshape(-1, 1)).reshape(-1, )\n",
    "print(np.unique(y_train_enc))\n",
    "print(y_train_enc.shape)"
   ],
   "metadata": {
    "collapsed": false,
    "pycharm": {
     "name": "#%%\n"
    }
   }
  },
  {
   "cell_type": "code",
   "execution_count": 21,
   "outputs": [],
   "source": [
    "# 不需要指定num_class参数\n",
    "model = LGBMClassifier(\n",
    "    boosting_type='gbdt',  # 对应boosting\n",
    "    objective='multiclass',\n",
    "    n_jobs=-1,\n",
    "    max_depth=-1,\n",
    "    min_child_weight=1e-3,\n",
    "    min_child_samples=20,\n",
    "    num_leaves=31,\n",
    "    subsample=1.0,\n",
    "    subsample_freq=0,\n",
    "    learning_rate=0.1,\n",
    "    colsample_bytree=1.0,\n",
    "    reg_alpha=0.0,\n",
    "    reg_lambda=0.0,\n",
    "    n_estimators=100)"
   ],
   "metadata": {
    "collapsed": false,
    "pycharm": {
     "name": "#%%\n"
    }
   }
  },
  {
   "cell_type": "code",
   "execution_count": 22,
   "outputs": [
    {
     "name": "stdout",
     "output_type": "stream",
     "text": [
      "Training until validation scores don't improve for 100 rounds\n",
      "[10]\ttraining's multi_logloss: 0.52141\tvalid_1's multi_logloss: 0.745348\n",
      "[20]\ttraining's multi_logloss: 0.295561\tvalid_1's multi_logloss: 0.585215\n",
      "[30]\ttraining's multi_logloss: 0.175696\tvalid_1's multi_logloss: 0.535157\n"
     ]
    },
    {
     "name": "stderr",
     "output_type": "stream",
     "text": [
      "C:\\Users\\duanm\\anaconda3\\lib\\site-packages\\lightgbm\\basic.py:1702: UserWarning: Using categorical_feature in Dataset.\n",
      "  _log_warning('Using categorical_feature in Dataset.')\n",
      "C:\\Users\\duanm\\anaconda3\\lib\\site-packages\\lightgbm\\basic.py:1705: UserWarning: categorical_feature in Dataset is overridden.\n",
      "New categorical_feature is [0, 1]\n",
      "  _log_warning('categorical_feature in Dataset is overridden.\\n'\n",
      "C:\\Users\\duanm\\anaconda3\\lib\\site-packages\\lightgbm\\basic.py:1433: UserWarning: Overriding the parameters from Reference Dataset.\n",
      "  _log_warning('Overriding the parameters from Reference Dataset.')\n",
      "C:\\Users\\duanm\\anaconda3\\lib\\site-packages\\lightgbm\\basic.py:1245: UserWarning: categorical_column in param dict is overridden.\n",
      "  _log_warning('{} in param dict is overridden.'.format(cat_alias))\n"
     ]
    },
    {
     "name": "stdout",
     "output_type": "stream",
     "text": [
      "[40]\ttraining's multi_logloss: 0.107794\tvalid_1's multi_logloss: 0.530288\n",
      "[50]\ttraining's multi_logloss: 0.0687438\tvalid_1's multi_logloss: 0.534637\n",
      "[60]\ttraining's multi_logloss: 0.0448519\tvalid_1's multi_logloss: 0.543686\n",
      "[70]\ttraining's multi_logloss: 0.029737\tvalid_1's multi_logloss: 0.561752\n",
      "[80]\ttraining's multi_logloss: 0.0200618\tvalid_1's multi_logloss: 0.581237\n",
      "[90]\ttraining's multi_logloss: 0.0137928\tvalid_1's multi_logloss: 0.597057\n",
      "[100]\ttraining's multi_logloss: 0.00977601\tvalid_1's multi_logloss: 0.6164\n",
      "Did not meet early stopping. Best iteration is:\n",
      "[100]\ttraining's multi_logloss: 0.00977601\tvalid_1's multi_logloss: 0.6164\n"
     ]
    },
    {
     "data": {
      "text/plain": "LGBMClassifier(objective='multiclass')"
     },
     "execution_count": 22,
     "metadata": {},
     "output_type": "execute_result"
    }
   ],
   "source": [
    "model.fit(X_train, y_train_enc,\n",
    "          eval_set=[(X_train, y_train_enc), (X_va, y_va_enc)],  # 对应valid_sets\n",
    "          verbose=10,  # 对应verbose_eval\n",
    "          sample_weight=1 / (1 + y_train_enc),  # 对应Dataset(weight)\n",
    "          eval_metric='multiclass',  # 对应metric+feval\n",
    "          early_stopping_rounds=100,\n",
    "          categorical_feature=[0, 1]  # 对应Dataset(categorical_feature)\n",
    "          )"
   ],
   "metadata": {
    "collapsed": false,
    "pycharm": {
     "name": "#%%\n"
    }
   }
  },
  {
   "cell_type": "code",
   "execution_count": 23,
   "outputs": [
    {
     "data": {
      "text/plain": "array([4., 4., 6., 1., 1., 4., 1., 6., 1., 1., 1., 4., 4., 1., 4., 5., 1.,\n       1., 0., 0., 2., 2., 0., 6., 2., 1., 2., 4., 2., 6., 4., 5., 4., 4.,\n       2., 1., 1., 1., 1., 1., 4., 1., 1., 5., 1., 0., 5., 1., 6., 2., 5.,\n       3., 3., 3., 1., 0., 4., 0., 2., 2., 5., 4., 5., 4., 0., 0., 4., 0.,\n       6., 1., 4., 2., 5., 3., 1., 3., 1., 4., 1., 0., 3., 2., 1., 0., 0.,\n       4., 4., 1., 4., 5., 4., 1., 3., 1., 1., 1., 4., 1., 2., 1., 1., 1.,\n       3., 1., 3., 1., 1., 0., 0., 4., 3., 6., 1., 2., 1., 5., 4., 4., 5.,\n       4., 1., 2., 2., 1., 4., 0., 4., 2., 1., 0., 1., 4., 4., 6., 2., 4.,\n       0., 5., 2., 4., 4., 0., 6., 1., 1., 5., 3., 4., 3., 4., 4., 5., 5.,\n       5., 4., 1., 3., 3., 5., 3., 2., 1., 4., 1., 4., 4., 1., 2., 4., 1.,\n       0., 1., 0., 4., 0., 2., 4., 4., 0., 1., 1., 1., 4., 6., 4., 6., 1.,\n       0., 4., 1., 6., 4., 6., 3., 6., 4., 2., 1., 4., 5., 5., 2., 4., 4.,\n       5., 1., 5., 4., 1., 4., 4., 4., 1., 1., 4., 5., 4., 1., 4., 2., 0.,\n       1., 1., 0., 4., 4., 4., 0., 4., 1., 1., 4., 0., 4., 1., 1., 1., 4.,\n       0., 1., 1., 5., 1., 0., 4., 2., 3., 2., 0., 0., 0., 2., 1., 5., 1.,\n       4., 1., 2., 1., 0., 4., 2., 0., 0., 6., 2., 1., 0., 0., 4., 1., 0.,\n       6., 0., 1., 4., 1., 6., 1., 4., 1., 0., 2., 3., 1., 1., 5., 5., 4.,\n       1., 4., 0., 1., 1., 1., 5., 0., 0., 4., 0.])"
     },
     "execution_count": 23,
     "metadata": {},
     "output_type": "execute_result"
    }
   ],
   "source": [
    "# 预测结果(num_sample, )\n",
    "model.predict(X_test)"
   ],
   "metadata": {
    "collapsed": false,
    "pycharm": {
     "name": "#%%\n"
    }
   }
  },
  {
   "cell_type": "code",
   "execution_count": 24,
   "outputs": [
    {
     "data": {
      "text/plain": "array([[4.49955515e-06, 1.07274084e-02, 5.47185135e-07, ...,\n        9.89267035e-01, 2.07962279e-07, 2.15023523e-07],\n       [1.51260561e-04, 1.57842117e-04, 5.08571771e-07, ...,\n        9.99688782e-01, 1.44215128e-06, 1.13964265e-07],\n       [9.21012930e-02, 4.48157947e-01, 2.44356766e-05, ...,\n        1.11969806e-02, 1.61918299e-05, 4.48493008e-01],\n       ...,\n       [8.39992935e-01, 1.59799397e-01, 9.82578524e-06, ...,\n        2.19942604e-05, 3.49719844e-06, 1.70952570e-04],\n       [7.24201907e-02, 3.06792155e-04, 7.09199183e-07, ...,\n        9.27266906e-01, 4.76238771e-06, 3.45075021e-07],\n       [9.41488427e-01, 1.42647124e-02, 4.93334669e-06, ...,\n        8.37419818e-03, 3.27216699e-06, 3.58624077e-02]])"
     },
     "execution_count": 24,
     "metadata": {},
     "output_type": "execute_result"
    }
   ],
   "source": [
    "# 预测结果的概率矩阵\n",
    "model.predict_proba(X_test)"
   ],
   "metadata": {
    "collapsed": false,
    "pycharm": {
     "name": "#%%\n"
    }
   }
  },
  {
   "cell_type": "code",
   "execution_count": 25,
   "outputs": [
    {
     "data": {
      "text/plain": "0.07"
     },
     "execution_count": 25,
     "metadata": {},
     "output_type": "execute_result"
    }
   ],
   "source": [
    "# 准确率\n",
    "model.score(X_test, y_test)"
   ],
   "metadata": {
    "collapsed": false,
    "pycharm": {
     "name": "#%%\n"
    }
   }
  },
  {
   "cell_type": "code",
   "execution_count": 26,
   "outputs": [
    {
     "data": {
      "text/plain": "{'training': OrderedDict([('multi_logloss',\n               [1.1481077919002052,\n                1.0077687310229357,\n                0.9019436375954694,\n                0.8187597089695372,\n                0.74967226529149,\n                0.6900916725304393,\n                0.6409043285540447,\n                0.5956494291163245,\n                0.5568949283571736,\n                0.5214103514780845,\n                0.4892388996079107,\n                0.4610454483026968,\n                0.4354131976989099,\n                0.41121090972984,\n                0.3882190564687108,\n                0.36805681521811007,\n                0.3469776041538881,\n                0.3291695121973209,\n                0.3104424983735136,\n                0.29556057453009466,\n                0.2791289844816211,\n                0.26389628517828184,\n                0.2506152119939559,\n                0.23769237274318666,\n                0.22465481054378034,\n                0.21426276459779234,\n                0.2034038986232353,\n                0.19320890492746187,\n                0.18426849756024102,\n                0.175696147961813,\n                0.16716504633328821,\n                0.1596506229869354,\n                0.1513366063598627,\n                0.14422593878922937,\n                0.13678847081601572,\n                0.12970081193128605,\n                0.12378114450397414,\n                0.1186103550170152,\n                0.11319521181745516,\n                0.10779406086568001,\n                0.10294178506981858,\n                0.09830725117010844,\n                0.0941348853628337,\n                0.08981715127311189,\n                0.08582827998309411,\n                0.08204529787850147,\n                0.0786178589611357,\n                0.07558359693323413,\n                0.07186307510333959,\n                0.06874380263472853,\n                0.0659684724667917,\n                0.063003416465642,\n                0.06062865473168379,\n                0.058136251074336245,\n                0.055426571449769826,\n                0.052995140127413395,\n                0.05084133778900833,\n                0.04873896733595297,\n                0.04686748321678726,\n                0.04485186631521624,\n                0.04292804087833695,\n                0.04106608496759057,\n                0.03925581212519002,\n                0.03765116376321514,\n                0.03624484428519489,\n                0.03461291668873148,\n                0.0332356800205369,\n                0.031876612309421896,\n                0.030734340959983977,\n                0.029737007178023914,\n                0.028549299700721353,\n                0.027374270472573816,\n                0.02627595645153412,\n                0.025272314439799593,\n                0.024157297472007167,\n                0.023249951745745442,\n                0.022379436335289396,\n                0.021588667833729938,\n                0.020795357966268184,\n                0.020061824861542205,\n                0.019246939479045693,\n                0.018635571423210495,\n                0.01798809682812695,\n                0.017404990882469485,\n                0.016658831636868487,\n                0.016041997547031568,\n                0.01542826059035542,\n                0.014898717340209457,\n                0.014364471174576324,\n                0.01379277068304418,\n                0.013308197550068126,\n                0.012875785168700552,\n                0.012493814172980289,\n                0.01205875216796965,\n                0.011622176083950773,\n                0.011262252752271279,\n                0.010858438661756828,\n                0.0105041728442965,\n                0.01017529581548052,\n                0.009776007851823011])]),\n 'valid_1': OrderedDict([('multi_logloss',\n               [1.4208063592629327,\n                1.2456760036633654,\n                1.1231277551889893,\n                1.0305153769594038,\n                0.960879269836569,\n                0.8995028668875777,\n                0.8504929604275675,\n                0.8096242578146958,\n                0.7754888053079834,\n                0.745347519412977,\n                0.7200516495590686,\n                0.6965665212672453,\n                0.678885969272032,\n                0.6618015210464554,\n                0.6427579722597102,\n                0.631109260864832,\n                0.6126619573223459,\n                0.6033197006030219,\n                0.5924962794579081,\n                0.5852146406784263,\n                0.5793613850456345,\n                0.5697596540853934,\n                0.5654945456064563,\n                0.5588513581740295,\n                0.5517917485620831,\n                0.5459856754262556,\n                0.5396993179543109,\n                0.5381983716314652,\n                0.5367548338238104,\n                0.5351565950970404,\n                0.5338188894730292,\n                0.532340348827829,\n                0.5323116998131088,\n                0.5327641965405974,\n                0.531360635179789,\n                0.529462289983378,\n                0.5275768095790051,\n                0.5280521390510311,\n                0.5287846237770268,\n                0.5302883725772098,\n                0.5298058429188318,\n                0.5276705273701405,\n                0.528923928745676,\n                0.5282848041689123,\n                0.5277247113684532,\n                0.5285245785251623,\n                0.5301598629012926,\n                0.5304608931085519,\n                0.5316797573195614,\n                0.5346371486440754,\n                0.5362625047823173,\n                0.5369687008669618,\n                0.5378158036082433,\n                0.5385172338855005,\n                0.5411722137524779,\n                0.5406103859616562,\n                0.5418297230736295,\n                0.5425341110380649,\n                0.5440332430778825,\n                0.5436864293426102,\n                0.5453066393165161,\n                0.5480326715604147,\n                0.5491532910633606,\n                0.5505755575284816,\n                0.5524473943648415,\n                0.5541850021428706,\n                0.5549521051233369,\n                0.55742470597073,\n                0.5586464046397653,\n                0.5617524224261365,\n                0.5632166167165944,\n                0.5646703266812656,\n                0.5664310916401247,\n                0.5676251105384909,\n                0.5688142699469977,\n                0.569311465785962,\n                0.5728426777163037,\n                0.5755782708519983,\n                0.578683311113114,\n                0.5812367889011398,\n                0.5823405820154068,\n                0.5832561572173787,\n                0.5847267890601421,\n                0.5861637138231796,\n                0.5894956526394611,\n                0.5911361704270284,\n                0.5927686739455101,\n                0.5932680960402275,\n                0.5948828179087271,\n                0.5970571327396689,\n                0.5992193315343537,\n                0.6011995654441169,\n                0.6027864063201972,\n                0.6038370332274343,\n                0.605578628917986,\n                0.6074529015955472,\n                0.6100230217517156,\n                0.6108138580402439,\n                0.6128746658836941,\n                0.6164000006885857])])}"
     },
     "execution_count": 26,
     "metadata": {},
     "output_type": "execute_result"
    }
   ],
   "source": [
    "# 对应vals_result\n",
    "model.evals_result_"
   ],
   "metadata": {
    "collapsed": false,
    "pycharm": {
     "name": "#%%\n"
    }
   }
  },
  {
   "cell_type": "code",
   "execution_count": 27,
   "outputs": [
    {
     "data": {
      "text/plain": "array([  66,  176, 1194, 2061, 1958, 3652, 1993, 1862, 1769, 3538,  191,\n          0,  116,  232,  163,    0,    0,    0,   70,    0,    0,    0,\n          0,   97,    0,  264,   44,    0,    0,    0,   46,   26,    0,\n        101,    0,   91,   90,   43,    0,    0,    0,    0,  147,  199,\n          1,   52,   43,    0,    0,    0,    0,  136,  167,    0])"
     },
     "execution_count": 27,
     "metadata": {},
     "output_type": "execute_result"
    }
   ],
   "source": [
    "# 特征相对重要性\n",
    "model.feature_importances_"
   ],
   "metadata": {
    "collapsed": false,
    "pycharm": {
     "name": "#%%\n"
    }
   }
  },
  {
   "cell_type": "code",
   "execution_count": 28,
   "outputs": [
    {
     "data": {
      "text/plain": "<lightgbm.basic.Booster at 0x2b0f1aad1f0>"
     },
     "execution_count": 28,
     "metadata": {},
     "output_type": "execute_result"
    }
   ],
   "source": [
    "# The underlying Booster of this model.\n",
    "model.booster_"
   ],
   "metadata": {
    "collapsed": false,
    "pycharm": {
     "name": "#%%\n"
    }
   }
  },
  {
   "cell_type": "code",
   "execution_count": 29,
   "outputs": [
    {
     "data": {
      "text/plain": "<lightgbm.basic.Booster at 0x2b0f1aad1f0>"
     },
     "execution_count": 29,
     "metadata": {},
     "output_type": "execute_result"
    }
   ],
   "source": [
    "# 保存训练好的模型\n",
    "model.booster_.save_model(\"lgb1.model\")"
   ],
   "metadata": {
    "collapsed": false,
    "pycharm": {
     "name": "#%%\n"
    }
   }
  },
  {
   "cell_type": "code",
   "execution_count": 30,
   "outputs": [
    {
     "data": {
      "text/plain": "<lightgbm.basic.Booster at 0x2b0f1ad47c0>"
     },
     "execution_count": 30,
     "metadata": {},
     "output_type": "execute_result"
    }
   ],
   "source": [
    "import lightgbm as lgb\n",
    "\n",
    "# 加载训练好的模型\n",
    "bst = lgb.Booster(model_file='lgb1.model')\n",
    "bst"
   ],
   "metadata": {
    "collapsed": false,
    "pycharm": {
     "name": "#%%\n"
    }
   }
  },
  {
   "cell_type": "code",
   "execution_count": 31,
   "outputs": [
    {
     "data": {
      "text/plain": "array([[0., 0., 0., ..., 0., 0., 0.],\n       [0., 0., 0., ..., 0., 0., 0.],\n       [0., 0., 0., ..., 0., 0., 0.],\n       ...,\n       [0., 0., 0., ..., 0., 0., 0.],\n       [0., 0., 0., ..., 0., 0., 0.],\n       [0., 0., 0., ..., 0., 0., 0.]])"
     },
     "execution_count": 31,
     "metadata": {},
     "output_type": "execute_result"
    }
   ],
   "source": [
    "bst.predict(X_test) - model.predict_proba(X_test)"
   ],
   "metadata": {
    "collapsed": false,
    "pycharm": {
     "name": "#%%\n"
    }
   }
  },
  {
   "cell_type": "code",
   "execution_count": 32,
   "outputs": [
    {
     "data": {
      "text/plain": "<Figure size 432x288 with 1 Axes>",
      "image/png": "[encoded data removed]"
     },
     "metadata": {
      "needs_background": "light"
     },
     "output_type": "display_data"
    }
   ],
   "source": [
    "import matplotlib.pyplot as plt\n",
    "\n",
    "# 绘制特征的相对重要性\n",
    "lgb.plot_importance(model)\n",
    "plt.show()"
   ],
   "metadata": {
    "collapsed": false,
    "pycharm": {
     "name": "#%%\n"
    }
   }
  },
  {
   "cell_type": "code",
   "execution_count": 34,
   "outputs": [],
   "source": [
    "# 可视化lgb分割过程\n",
    "img = lgb.create_tree_digraph(model)"
   ],
   "metadata": {
    "collapsed": false,
    "pycharm": {
     "name": "#%%\n"
    }
   }
  },
  {
   "cell_type": "code",
   "execution_count": 35,
   "outputs": [
    {
     "data": {
      "text/plain": "graphviz.dot.Digraph"
     },
     "execution_count": 35,
     "metadata": {},
     "output_type": "execute_result"
    }
   ],
   "source": [
    "type(img)"
   ],
   "metadata": {
    "collapsed": false,
    "pycharm": {
     "name": "#%%\n"
    }
   }
  },
  {
   "cell_type": "code",
   "execution_count": null,
   "outputs": [],
   "source": [],
   "metadata": {
    "collapsed": false,
    "pycharm": {
     "name": "#%%\n"
    }
   }
  }
 ],
 "metadata": {
  "kernelspec": {
   "display_name": "Python 3",
   "language": "python",
   "name": "python3"
  },
  "language_info": {
   "codemirror_mode": {
    "name": "ipython",
    "version": 2
   },
   "file_extension": ".py",
   "mimetype": "text/x-python",
   "name": "python",
   "nbconvert_exporter": "python",
   "pygments_lexer": "ipython2",
   "version": "2.7.6"
  }
 },
 "nbformat": 4,
 "nbformat_minor": 0
}