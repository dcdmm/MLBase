{
 "cells": [
  {
   "cell_type": "code",
   "execution_count": 1,
   "metadata": {
    "colab": {
     "base_uri": "https://localhost:8080/",
     "height": 50
    },
    "colab_type": "code",
    "collapsed": true,
    "executionInfo": {
     "elapsed": 4258,
     "status": "ok",
     "timestamp": 1592742464518,
     "user": {
      "displayName": "chao duan",
      "photoUrl": "",
      "userId": "16986074214670067064"
     },
     "user_tz": -480
    },
    "id": "ZgmZKnW214ip",
    "outputId": "21ccee4e-9a53-4052-b3a9-81578c5f86fe"
   },
   "outputs": [],
   "source": [
    "import torch\n",
    "import numpy as np"
   ]
  },
  {
   "cell_type": "code",
   "execution_count": 2,
   "metadata": {
    "collapsed": false,
    "pycharm": {
     "name": "#%%\n"
    }
   },
   "outputs": [
    {
     "data": {
      "text/plain": [
       "tensor([[1.2000, 2.0000, 3.0000],\n",
       "        [2.0000, 3.0000, 4.0000]], dtype=torch.float64)"
      ]
     },
     "execution_count": 2,
     "metadata": {},
     "output_type": "execute_result"
    }
   ],
   "source": [
    "a = np.array([[1.2, 2, 3],\n",
    "              [2, 3, 4]])\n",
    "x = torch.tensor(a)\n",
    "x"
   ]
  },
  {
   "cell_type": "markdown",
   "metadata": {
    "colab": {
     "base_uri": "https://localhost:8080/",
     "height": 33
    },
    "colab_type": "code",
    "executionInfo": {
     "elapsed": 4241,
     "status": "ok",
     "timestamp": 1592742464519,
     "user": {
      "displayName": "chao duan",
      "photoUrl": "",
      "userId": "16986074214670067064"
     },
     "user_tz": -480
    },
    "id": "fQOV10np14iu",
    "outputId": "b00a9aae-b24e-4910-cd01-f40b08354a8a",
    "pycharm": {
     "name": "#%% md\n"
    }
   },
   "source": [
    "### 参考array相关属性"
   ]
  },
  {
   "cell_type": "code",
   "execution_count": 3,
   "metadata": {
    "collapsed": false,
    "pycharm": {
     "name": "#%%\n"
    }
   },
   "outputs": [
    {
     "data": {
      "text/plain": [
       "torch.float64"
      ]
     },
     "execution_count": 3,
     "metadata": {},
     "output_type": "execute_result"
    }
   ],
   "source": [
    "x.dtype"
   ]
  },
  {
   "cell_type": "code",
   "execution_count": 4,
   "metadata": {
    "colab": {
     "base_uri": "https://localhost:8080/",
     "height": 50
    },
    "colab_type": "code",
    "executionInfo": {
     "elapsed": 4228,
     "status": "ok",
     "timestamp": 1592742464520,
     "user": {
      "displayName": "chao duan",
      "photoUrl": "",
      "userId": "16986074214670067064"
     },
     "user_tz": -480
    },
    "id": "8o6hb9Qu14ix",
    "outputId": "b1ca2ac7-7c70-4fe1-cd74-44d44f2fce77",
    "pycharm": {
     "name": "#%%\n"
    }
   },
   "outputs": [
    {
     "name": "stdout",
     "output_type": "stream",
     "text": [
      "2\n",
      "2\n"
     ]
    }
   ],
   "source": [
    "print(x.ndim)\n",
    "print(x.dim())  # 与上等价"
   ]
  },
  {
   "cell_type": "code",
   "execution_count": 5,
   "metadata": {
    "colab": {
     "base_uri": "https://localhost:8080/",
     "height": 50
    },
    "colab_type": "code",
    "executionInfo": {
     "elapsed": 4217,
     "status": "ok",
     "timestamp": 1592742464521,
     "user": {
      "displayName": "chao duan",
      "photoUrl": "",
      "userId": "16986074214670067064"
     },
     "user_tz": -480
    },
    "id": "nTO8YG-q14i0",
    "outputId": "e5549d3c-8292-4b5d-f47e-eba93251fd3f",
    "pycharm": {
     "name": "#%%\n"
    }
   },
   "outputs": [
    {
     "name": "stdout",
     "output_type": "stream",
     "text": [
      "torch.Size([2, 3])\n",
      "torch.Size([2, 3])\n"
     ]
    }
   ],
   "source": [
    "print(x.shape)\n",
    "print(x.size())  # 与上等价"
   ]
  },
  {
   "cell_type": "code",
   "execution_count": 6,
   "metadata": {
    "colab": {
     "base_uri": "https://localhost:8080/",
     "height": 33
    },
    "colab_type": "code",
    "executionInfo": {
     "elapsed": 4204,
     "status": "ok",
     "timestamp": 1592742464522,
     "user": {
      "displayName": "chao duan",
      "photoUrl": "",
      "userId": "16986074214670067064"
     },
     "user_tz": -480
    },
    "id": "2VOZX4t114i3",
    "outputId": "6fb352a1-b759-4d82-8214-ea9f0559c1f1",
    "pycharm": {
     "name": "#%%\n"
    }
   },
   "outputs": [
    {
     "data": {
      "text/plain": [
       "[2, 3]"
      ]
     },
     "execution_count": 6,
     "metadata": {},
     "output_type": "execute_result"
    }
   ],
   "source": [
    "list(x.shape)"
   ]
  },
  {
   "cell_type": "code",
   "execution_count": 7,
   "metadata": {
    "colab": {
     "base_uri": "https://localhost:8080/",
     "height": 33
    },
    "colab_type": "code",
    "executionInfo": {
     "elapsed": 4190,
     "status": "ok",
     "timestamp": 1592742464523,
     "user": {
      "displayName": "chao duan",
      "photoUrl": "",
      "userId": "16986074214670067064"
     },
     "user_tz": -480
    },
    "id": "m8h7xLt214i6",
    "outputId": "c7ff0338-9008-4d28-da15-b03af9f7c8fd",
    "pycharm": {
     "name": "#%%\n"
    }
   },
   "outputs": [
    {
     "data": {
      "text/plain": [
       "2"
      ]
     },
     "execution_count": 7,
     "metadata": {},
     "output_type": "execute_result"
    }
   ],
   "source": [
    "x.shape[0]"
   ]
  },
  {
   "cell_type": "code",
   "execution_count": 8,
   "metadata": {
    "colab": {
     "base_uri": "https://localhost:8080/",
     "height": 33
    },
    "colab_type": "code",
    "executionInfo": {
     "elapsed": 4173,
     "status": "ok",
     "timestamp": 1592742464523,
     "user": {
      "displayName": "chao duan",
      "photoUrl": "",
      "userId": "16986074214670067064"
     },
     "user_tz": -480
    },
    "id": "4ZL7lZGz14i8",
    "outputId": "9a572b62-e78d-42b2-9120-b5d0947a52ba",
    "pycharm": {
     "name": "#%%\n"
    }
   },
   "outputs": [
    {
     "data": {
      "text/plain": [
       "3"
      ]
     },
     "execution_count": 8,
     "metadata": {},
     "output_type": "execute_result"
    }
   ],
   "source": [
    "x.shape[1]"
   ]
  },
  {
   "cell_type": "code",
   "execution_count": 9,
   "metadata": {
    "colab": {
     "base_uri": "https://localhost:8080/",
     "height": 33
    },
    "colab_type": "code",
    "executionInfo": {
     "elapsed": 4158,
     "status": "ok",
     "timestamp": 1592742464524,
     "user": {
      "displayName": "chao duan",
      "photoUrl": "",
      "userId": "16986074214670067064"
     },
     "user_tz": -480
    },
    "id": "_FTBMbMi14i_",
    "outputId": "388cb0c1-4320-4eee-8b5b-dcbd2526dab5",
    "pycharm": {
     "name": "#%%\n"
    }
   },
   "outputs": [
    {
     "data": {
      "text/plain": [
       "torch.Size([3, 5, 7])"
      ]
     },
     "execution_count": 9,
     "metadata": {},
     "output_type": "execute_result"
    }
   ],
   "source": [
    "y = torch.randn(3, 5, 7)\n",
    "y.shape"
   ]
  },
  {
   "cell_type": "code",
   "execution_count": 10,
   "metadata": {
    "colab": {
     "base_uri": "https://localhost:8080/",
     "height": 33
    },
    "colab_type": "code",
    "executionInfo": {
     "elapsed": 4144,
     "status": "ok",
     "timestamp": 1592742464525,
     "user": {
      "displayName": "chao duan",
      "photoUrl": "",
      "userId": "16986074214670067064"
     },
     "user_tz": -480
    },
    "id": "f4JTaKXJ14jD",
    "outputId": "80755266-f56a-4533-f4db-5d2e28e84c58",
    "pycharm": {
     "name": "#%%\n"
    }
   },
   "outputs": [
    {
     "name": "stderr",
     "output_type": "stream",
     "text": [
      "C:\\Users\\dcdmm\\AppData\\Local\\Temp\\ipykernel_15568\\2685651285.py:1: UserWarning: The use of `x.T` on tensors of dimension other than 2 to reverse their shape is deprecated and it will throw an error in a future release. Consider `x.mT` to transpose batches of matricesor `x.permute(*torch.arange(x.ndim - 1, -1, -1))` to reverse the dimensions of a tensor. (Triggered internally at  C:\\cb\\pytorch_1000000000000\\work\\aten\\src\\ATen\\native\\TensorShape.cpp:2318.)\n",
      "  y.T.shape  # 若self.ndim < 2则返回其本身\n"
     ]
    },
    {
     "data": {
      "text/plain": [
       "torch.Size([7, 5, 3])"
      ]
     },
     "execution_count": 10,
     "metadata": {},
     "output_type": "execute_result"
    }
   ],
   "source": [
    "y.T.shape  # 若self.ndim < 2则返回其本身"
   ]
  },
  {
   "cell_type": "code",
   "execution_count": 11,
   "metadata": {
    "colab": {
     "base_uri": "https://localhost:8080/",
     "height": 33
    },
    "colab_type": "code",
    "executionInfo": {
     "elapsed": 4130,
     "status": "ok",
     "timestamp": 1592742464525,
     "user": {
      "displayName": "chao duan",
      "photoUrl": "",
      "userId": "16986074214670067064"
     },
     "user_tz": -480
    },
    "id": "ugQvxbtC14jG",
    "outputId": "134a3ca5-886a-4f6b-f1cf-448342b1073b",
    "pycharm": {
     "name": "#%%\n"
    }
   },
   "outputs": [
    {
     "data": {
      "text/plain": [
       "torch.Size([7, 5, 3])"
      ]
     },
     "execution_count": 11,
     "metadata": {},
     "output_type": "execute_result"
    }
   ],
   "source": [
    "torch.transpose(y, 0, -1).shape  # 与上等价"
   ]
  },
  {
   "cell_type": "code",
   "execution_count": 12,
   "metadata": {
    "colab": {
     "base_uri": "https://localhost:8080/",
     "height": 33
    },
    "colab_type": "code",
    "executionInfo": {
     "elapsed": 4118,
     "status": "ok",
     "timestamp": 1592742464526,
     "user": {
      "displayName": "chao duan",
      "photoUrl": "",
      "userId": "16986074214670067064"
     },
     "user_tz": -480
    },
    "id": "RLRK8NUy14jI",
    "outputId": "754fdd86-8cf7-4f08-b8f6-0e1cd09f2fa6",
    "pycharm": {
     "name": "#%%\n"
    }
   },
   "outputs": [
    {
     "data": {
      "text/plain": [
       "device(type='cpu')"
      ]
     },
     "execution_count": 12,
     "metadata": {},
     "output_type": "execute_result"
    }
   ],
   "source": [
    "y.device"
   ]
  },
  {
   "cell_type": "code",
   "execution_count": 13,
   "metadata": {
    "colab": {
     "base_uri": "https://localhost:8080/",
     "height": 133
    },
    "colab_type": "code",
    "executionInfo": {
     "elapsed": 4104,
     "status": "ok",
     "timestamp": 1592742464526,
     "user": {
      "displayName": "chao duan",
      "photoUrl": "",
      "userId": "16986074214670067064"
     },
     "user_tz": -480
    },
    "id": "-EKMiKRw14jK",
    "outputId": "566e3e31-50fd-42f6-8939-40c03850135e",
    "pycharm": {
     "name": "#%%\n"
    }
   },
   "outputs": [
    {
     "name": "stdout",
     "output_type": "stream",
     "text": [
      "True\n",
      "tensor([[[ 0.0241,  1.3741,  1.0556,  1.3041, -0.6486, -2.6906, -1.2507],\n",
      "         [ 0.2915, -0.9355,  0.6353,  1.0142, -1.1491,  1.0566,  1.8739],\n",
      "         [ 0.4936,  0.1391,  0.0677, -0.8961, -0.0057, -1.4293, -0.1383],\n",
      "         [-0.9509,  1.7960, -0.2852,  0.2607, -1.2618,  0.3613,  0.2403],\n",
      "         [-0.4701,  1.4007,  0.8983,  0.6325, -0.9324,  0.6111,  1.1223]],\n",
      "\n",
      "        [[-0.2831,  0.9277,  0.3157,  0.3774,  0.1009,  0.0092, -1.1599],\n",
      "         [-0.3318, -0.1547,  1.0364,  0.1380, -2.0457,  1.9329, -0.6748],\n",
      "         [ 1.1735, -1.4019, -0.6595,  0.7673,  0.7168,  0.0191, -0.4773],\n",
      "         [-0.2690,  1.0208, -0.8962, -1.2613,  0.3015, -0.1322,  1.7307],\n",
      "         [-1.7923,  0.5658,  0.2756,  0.8516,  0.9547,  0.7264, -0.2342]],\n",
      "\n",
      "        [[-0.9782, -0.1255,  0.8465,  0.3255, -0.7191, -1.8012,  1.6162],\n",
      "         [-1.6400,  0.2353,  1.9993,  0.9134, -1.0393,  0.3839,  0.1995],\n",
      "         [ 0.8598,  2.0485, -1.2952, -0.7263,  0.7567, -0.0407,  0.3047],\n",
      "         [-0.5897,  0.3339,  0.5177,  0.4833,  0.0465, -0.4647,  0.0664],\n",
      "         [ 0.3379,  0.5130, -0.1136, -0.5993, -0.3942,  0.0271,  0.7346]]])\n",
      "tensor([1, 2, 3])\n",
      "tensor([0, 0, 0])\n",
      "True\n",
      "tensor([2, 2, 2])\n",
      "tensor([12, 12, 12])\n",
      "2322730929824\n",
      "2322731064512\n",
      "tensor([12, 12, 12])\n"
     ]
    }
   ],
   "source": [
    "# y.data与y共享数据的物理地址\n",
    "# y.data的任何改变都会致使y改变\n",
    "print(np.shares_memory(y, y.data))\n",
    "print(y)\n",
    "y.data = torch.tensor([1, 2, 3])\n",
    "print(y)\n",
    "y.data.fill_(0)\n",
    "print(y)\n",
    "\n",
    "# y1与y共享数据的物理地址\n",
    "# 只有不改变y1内存地址的操作时才会指使y改变\n",
    "y1 = y.detach()\n",
    "print(np.shares_memory(y1, y))\n",
    "y1.fill_(2)\n",
    "print(y)\n",
    "\n",
    "y1.add_(10)  # in-place操作,y1内存地址不变\n",
    "print(y)  # y发生相应改变\n",
    "\n",
    "print(id(y1))\n",
    "y1 = [-1, -2, -3]\n",
    "print(id(y1))  # 重新赋值操作,y1内存地址改变\n",
    "print(y)  # y不变"
   ]
  },
  {
   "cell_type": "code",
   "execution_count": 14,
   "metadata": {
    "colab": {
     "base_uri": "https://localhost:8080/",
     "height": 50
    },
    "colab_type": "code",
    "executionInfo": {
     "elapsed": 1077,
     "status": "ok",
     "timestamp": 1592742502580,
     "user": {
      "displayName": "chao duan",
      "photoUrl": "",
      "userId": "16986074214670067064"
     },
     "user_tz": -480
    },
    "id": "obfzFPLI14jP",
    "outputId": "b1e23f56-9169-47d5-c15a-9887a1cc6421",
    "pycharm": {
     "name": "#%%\n"
    }
   },
   "outputs": [
    {
     "name": "stdout",
     "output_type": "stream",
     "text": [
      "tensor([12, 12, 12], device='cuda:0')\n",
      "True\n"
     ]
    }
   ],
   "source": [
    "device = torch.device(\"cuda\" if torch.cuda.is_available() else \"cpu\")\n",
    "y = y.to(device)\n",
    "print(y)\n",
    "print(y.is_cuda)  # Is True if the Tensor is stored on the GPU, False otherwise."
   ]
  }
 ],
 "metadata": {
  "accelerator": "GPU",
  "colab": {
   "collapsed_sections": [],
   "name": "tensor相关属性.ipynb",
   "provenance": []
  },
  "interpreter": {
   "hash": "8ce7c5427acc869eacde8b4f6e65a38802d7ed2532878cf2022b434091642ca0"
  },
  "kernelspec": {
   "display_name": "pytorch_env",
   "language": "python",
   "name": "python3"
  },
  "language_info": {
   "codemirror_mode": {
    "name": "ipython",
    "version": 3
   },
   "file_extension": ".py",
   "mimetype": "text/x-python",
   "name": "python",
   "nbconvert_exporter": "python",
   "pygments_lexer": "ipython3",
   "version": "3.8.12"
  }
 },
 "nbformat": 4,
 "nbformat_minor": 0
}
