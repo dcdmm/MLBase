{
 "cells": [
  {
   "cell_type": "code",
   "execution_count": 182,
   "metadata": {
    "pycharm": {
     "name": "#%%\n"
    }
   },
   "outputs": [],
   "source": [
    "import  numpy as np"
   ]
  },
  {
   "cell_type": "code",
   "execution_count": 183,
   "outputs": [
    {
     "data": {
      "text/plain": "array([[ 0,  1,  2,  3,  4,  5,  6,  7,  8,  9],\n       [10, 11, 12, 13, 14, 15, 16, 17, 18, 19],\n       [20, 21, 22, 23, 24, 25, 26, 27, 28, 29],\n       [30, 31, 32, 33, 34, 35, 36, 37, 38, 39]])"
     },
     "execution_count": 183,
     "metadata": {},
     "output_type": "execute_result"
    }
   ],
   "source": [
    "arr1 = np.arange(40).reshape((4, 10))\n",
    "arr1"
   ],
   "metadata": {
    "collapsed": false,
    "pycharm": {
     "name": "#%%\n"
    }
   }
  },
  {
   "cell_type": "code",
   "execution_count": 184,
   "outputs": [
    {
     "name": "stdout",
     "output_type": "stream",
     "text": [
      "[[ 0]\n",
      " [10]\n",
      " [20]\n",
      " [30]]\n",
      "[[ 1  2]\n",
      " [11 12]\n",
      " [21 22]\n",
      " [31 32]]\n",
      "[[ 3  4  5  6]\n",
      " [13 14 15 16]\n",
      " [23 24 25 26]\n",
      " [33 34 35 36]]\n",
      "[[ 7  8  9]\n",
      " [17 18 19]\n",
      " [27 28 29]\n",
      " [37 38 39]]\n"
     ]
    }
   ],
   "source": [
    "a, b, c, d = np.split(arr1, [1, 3, 7], axis=1)\n",
    "print(a) # 即arr1[:, 0:1]\n",
    "print(b) # 即arr1[:, 1:3]\n",
    "print(c) # 即arr1[:, 3:7]\n",
    "print(d) # 即arr1[:, 7:]"
   ],
   "metadata": {
    "collapsed": false,
    "pycharm": {
     "name": "#%%\n"
    }
   }
  },
  {
   "cell_type": "code",
   "execution_count": 185,
   "outputs": [
    {
     "name": "stdout",
     "output_type": "stream",
     "text": [
      "[[ 0  1  2  3  4  5  6  7  8  9]\n",
      " [10 11 12 13 14 15 16 17 18 19]]\n",
      "[[20 21 22 23 24 25 26 27 28 29]]\n",
      "[[30 31 32 33 34 35 36 37 38 39]]\n"
     ]
    }
   ],
   "source": [
    "m, n, z = np.split(arr1, [2, 3], axis=0)\n",
    "print(m) # 即arr1[0:2, :]\n",
    "print(n) # 即arr1[2:3, :]\n",
    "print(z) # 即arr1[3:, :]"
   ],
   "metadata": {
    "collapsed": false,
    "pycharm": {
     "name": "#%%\n"
    }
   }
  },
  {
   "cell_type": "code",
   "execution_count": 186,
   "outputs": [
    {
     "data": {
      "text/plain": "[array([[0, 1, 2, 3, 4, 5, 6, 7, 8, 9]]),\n array([[10, 11, 12, 13, 14, 15, 16, 17, 18, 19]]),\n array([[20, 21, 22, 23, 24, 25, 26, 27, 28, 29]]),\n array([[30, 31, 32, 33, 34, 35, 36, 37, 38, 39]])]"
     },
     "execution_count": 186,
     "metadata": {},
     "output_type": "execute_result"
    }
   ],
   "source": [
    "np.split(arr1, 4, axis=0) # 拆分成大小均等的快"
   ],
   "metadata": {
    "collapsed": false,
    "pycharm": {
     "name": "#%%\n"
    }
   }
  },
  {
   "cell_type": "code",
   "execution_count": 186,
   "outputs": [],
   "source": [
    "\n"
   ],
   "metadata": {
    "collapsed": false,
    "pycharm": {
     "name": "#%%\n"
    }
   }
  }
 ],
 "metadata": {
  "kernelspec": {
   "display_name": "Python 3",
   "language": "python",
   "name": "python3"
  },
  "language_info": {
   "codemirror_mode": {
    "name": "ipython",
    "version": 3
   },
   "file_extension": ".py",
   "mimetype": "text/x-python",
   "name": "python",
   "nbconvert_exporter": "python",
   "pygments_lexer": "ipython3",
   "version": "3.7.3"
  }
 },
 "nbformat": 4,
 "nbformat_minor": 1
}