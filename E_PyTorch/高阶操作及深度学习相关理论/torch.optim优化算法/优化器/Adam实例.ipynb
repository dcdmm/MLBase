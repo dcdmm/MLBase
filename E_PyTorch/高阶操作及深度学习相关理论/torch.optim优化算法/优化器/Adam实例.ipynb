{
 "cells": [
  {
   "cell_type": "code",
   "execution_count": 1,
   "outputs": [],
   "source": [
    "from abc import ABC\n",
    "import torch.nn as nn\n",
    "import torch.optim as optim\n",
    "from torchvision import datasets, transforms\n",
    "import torch.utils.data as Data\n",
    "import torch"
   ],
   "metadata": {
    "collapsed": false,
    "pycharm": {
     "name": "#%%\n"
    }
   }
  },
  {
   "cell_type": "code",
   "execution_count": 2,
   "outputs": [],
   "source": [
    "batch_size = 200\n",
    "learning_rate = 0.001\n",
    "\n",
    "train_data = datasets.MNIST('../../../../Other/datasets/PyTorch',\n",
    "                            train=True,\n",
    "                            transform=transforms.Compose([\n",
    "                                transforms.ToTensor(),\n",
    "                                transforms.Normalize((0.1307,), (0.3081,))\n",
    "                            ]))\n",
    "\n",
    "test_data = datasets.MNIST('../../../../Other/datasets/PyTorch',\n",
    "                           train=False,\n",
    "                           transform=transforms.Compose([\n",
    "                               transforms.ToTensor(),\n",
    "                               transforms.Normalize((0.1307,), (0.3081,))\n",
    "                           ]))\n",
    "\n",
    "# 手写数字训练数据集\n",
    "train_loader = Data.DataLoader(dataset=train_data,\n",
    "                               batch_size=batch_size,\n",
    "                               shuffle=True)\n",
    "\n",
    "# 手写数字测试数据集\n",
    "test_loader = Data.DataLoader(dataset=test_data,\n",
    "                              batch_size=batch_size,\n",
    "                              shuffle=True)"
   ],
   "metadata": {
    "collapsed": false,
    "pycharm": {
     "name": "#%%\n"
    }
   }
  },
  {
   "cell_type": "code",
   "execution_count": 3,
   "outputs": [],
   "source": [
    "class LeNet(nn.Module, ABC):\n",
    "    def __init__(self):\n",
    "        super(LeNet, self).__init__()\n",
    "        self.featrues = nn.Sequential(  # 内部实现了forward函数;各模块顺序执行\n",
    "            nn.Conv2d(1, 6, 3),\n",
    "            nn.ReLU(),\n",
    "            nn.MaxPool2d(2, 2),\n",
    "            nn.Conv2d(6, 16, 3),\n",
    "            nn.ReLU(),\n",
    "            nn.MaxPool2d(2, 2)\n",
    "        )\n",
    "        self.classifier = nn.Sequential(\n",
    "            nn.Linear(400, 120),\n",
    "            nn.ReLU(),\n",
    "            nn.Linear(120, 84),\n",
    "            nn.ReLU(),\n",
    "            nn.Linear(84, 10),  # 10分类问题\n",
    "        )\n",
    "\n",
    "    def forward(self, x):\n",
    "        x = self.featrues(x)\n",
    "        x = x.reshape(x.size()[0], -1)\n",
    "        x = self.classifier(x)\n",
    "        return x"
   ],
   "metadata": {
    "collapsed": false,
    "pycharm": {
     "name": "#%%\n"
    }
   }
  },
  {
   "cell_type": "code",
   "execution_count": 4,
   "outputs": [],
   "source": [
    "criteon = nn.CrossEntropyLoss()  # 定义损失函数为交叉熵\n",
    "net = LeNet()\n",
    "device = torch.device(\"cuda\" if torch.cuda.is_available() else \"cpu\")\n",
    "lenet = net.to(device)  # 模型设备转移必须在优化器定义前执行\n",
    "\n",
    "# Adam优化器\n",
    "optimizer = optim.Adam(net.parameters(),\n",
    "                       lr=learning_rate,  # 学习率\\epsilon;默认lr=0.0001\n",
    "                       weight_decay=1e-3,  # L2正则化系数,默认weight_decay=0\n",
    "                       betas=(0.9, 0.999),  # \\rho_1, \\rho_2;默认betas=(0.9, 0.999)\n",
    "                       eps=1e-8)  # 分母中的小常数\\delta;默认eps=1e-8\n"
   ],
   "metadata": {
    "collapsed": false,
    "pycharm": {
     "name": "#%%\n"
    }
   }
  },
  {
   "cell_type": "code",
   "execution_count": 5,
   "outputs": [],
   "source": [
    "transforms_data = []\n",
    "for i, j in train_data:\n",
    "    transforms_data.append(i.tolist())\n",
    "transforms_data_ten = torch.tensor(transforms_data)"
   ],
   "metadata": {
    "collapsed": false,
    "pycharm": {
     "name": "#%%\n"
    }
   }
  },
  {
   "cell_type": "code",
   "execution_count": 6,
   "outputs": [],
   "source": [
    "transforms_data_loader = Data.DataLoader(transforms_data_ten, batch_size=200, shuffle=True)\n",
    "y_label = train_loader.dataset.targets"
   ],
   "metadata": {
    "collapsed": false,
    "pycharm": {
     "name": "#%%\n"
    }
   }
  },
  {
   "cell_type": "code",
   "execution_count": 7,
   "outputs": [],
   "source": [
    "from torch_model.train_evaluate import Train_Evaluate\n",
    "\n",
    "t_and_v = Train_Evaluate(model=lenet, optimizer=optimizer, criterion=criteon, epochs=5)"
   ],
   "metadata": {
    "collapsed": false,
    "pycharm": {
     "name": "#%%\n"
    }
   }
  },
  {
   "cell_type": "code",
   "execution_count": 8,
   "outputs": [
    {
     "name": "stderr",
     "output_type": "stream",
     "text": [
      "C:\\Users\\duanm\\anaconda3\\lib\\site-packages\\torch\\nn\\functional.py:718: UserWarning: Named tensors and all their associated APIs are an experimental feature and subject to change. Please do not use them for anything important until they are released as stable. (Triggered internally at  ..\\c10/core/TensorImpl.h:1156.)\n",
      "  return torch.max_pool2d(input, kernel_size, stride, padding, dilation, ceil_mode)\n"
     ]
    },
    {
     "name": "stdout",
     "output_type": "stream",
     "text": [
      "Train Epoch: 0  [0    /60000 (0  %)]\tLoss: 2.306758\n",
      "Train Epoch: 0  [2000 /60000 (3  %)]\tLoss: 2.189475\n",
      "Train Epoch: 0  [4000 /60000 (7  %)]\tLoss: 1.849173\n",
      "Train Epoch: 0  [6000 /60000 (10 %)]\tLoss: 1.117167\n",
      "Train Epoch: 0  [8000 /60000 (13 %)]\tLoss: 0.650872\n",
      "Train Epoch: 0  [10000/60000 (17 %)]\tLoss: 0.593202\n",
      "Train Epoch: 0  [12000/60000 (20 %)]\tLoss: 0.491511\n",
      "Train Epoch: 0  [14000/60000 (23 %)]\tLoss: 0.430686\n",
      "Train Epoch: 0  [16000/60000 (27 %)]\tLoss: 0.347545\n",
      "Train Epoch: 0  [18000/60000 (30 %)]\tLoss: 0.395268\n",
      "Train Epoch: 0  [20000/60000 (33 %)]\tLoss: 0.277985\n",
      "Train Epoch: 0  [22000/60000 (37 %)]\tLoss: 0.332124\n",
      "Train Epoch: 0  [24000/60000 (40 %)]\tLoss: 0.385583\n",
      "Train Epoch: 0  [26000/60000 (43 %)]\tLoss: 0.218823\n",
      "Train Epoch: 0  [28000/60000 (47 %)]\tLoss: 0.279915\n",
      "Train Epoch: 0  [30000/60000 (50 %)]\tLoss: 0.170750\n",
      "Train Epoch: 0  [32000/60000 (53 %)]\tLoss: 0.256626\n",
      "Train Epoch: 0  [34000/60000 (57 %)]\tLoss: 0.327773\n",
      "Train Epoch: 0  [36000/60000 (60 %)]\tLoss: 0.252361\n",
      "Train Epoch: 0  [38000/60000 (63 %)]\tLoss: 0.262846\n",
      "Train Epoch: 0  [40000/60000 (67 %)]\tLoss: 0.200319\n",
      "Train Epoch: 0  [42000/60000 (70 %)]\tLoss: 0.246910\n",
      "Train Epoch: 0  [44000/60000 (73 %)]\tLoss: 0.120498\n",
      "Train Epoch: 0  [46000/60000 (77 %)]\tLoss: 0.178924\n",
      "Train Epoch: 0  [48000/60000 (80 %)]\tLoss: 0.199142\n",
      "Train Epoch: 0  [50000/60000 (83 %)]\tLoss: 0.107848\n",
      "Train Epoch: 0  [52000/60000 (87 %)]\tLoss: 0.168474\n",
      "Train Epoch: 0  [54000/60000 (90 %)]\tLoss: 0.206930\n",
      "Train Epoch: 0  [56000/60000 (93 %)]\tLoss: 0.248898\n",
      "Train Epoch: 0  [58000/60000 (97 %)]\tLoss: 0.138245\n",
      "Train Epoch: 0  [60000/60000 (100%)]\tLoss: 0.150387\n",
      "----------------------------------------------------------------------------------------------------\n",
      "Train Epoch: 1  [0    /60000 (0  %)]\tLoss: 0.138289\n",
      "Train Epoch: 1  [2000 /60000 (3  %)]\tLoss: 0.140215\n",
      "Train Epoch: 1  [4000 /60000 (7  %)]\tLoss: 0.138127\n",
      "Train Epoch: 1  [6000 /60000 (10 %)]\tLoss: 0.175900\n",
      "Train Epoch: 1  [8000 /60000 (13 %)]\tLoss: 0.177067\n",
      "Train Epoch: 1  [10000/60000 (17 %)]\tLoss: 0.091425\n",
      "Train Epoch: 1  [12000/60000 (20 %)]\tLoss: 0.150517\n",
      "Train Epoch: 1  [14000/60000 (23 %)]\tLoss: 0.115767\n",
      "Train Epoch: 1  [16000/60000 (27 %)]\tLoss: 0.101295\n",
      "Train Epoch: 1  [18000/60000 (30 %)]\tLoss: 0.139693\n",
      "Train Epoch: 1  [20000/60000 (33 %)]\tLoss: 0.070076\n",
      "Train Epoch: 1  [22000/60000 (37 %)]\tLoss: 0.083621\n",
      "Train Epoch: 1  [24000/60000 (40 %)]\tLoss: 0.163899\n",
      "Train Epoch: 1  [26000/60000 (43 %)]\tLoss: 0.053957\n",
      "Train Epoch: 1  [28000/60000 (47 %)]\tLoss: 0.178024\n",
      "Train Epoch: 1  [30000/60000 (50 %)]\tLoss: 0.141304\n",
      "Train Epoch: 1  [32000/60000 (53 %)]\tLoss: 0.107261\n",
      "Train Epoch: 1  [34000/60000 (57 %)]\tLoss: 0.126535\n",
      "Train Epoch: 1  [36000/60000 (60 %)]\tLoss: 0.112870\n",
      "Train Epoch: 1  [38000/60000 (63 %)]\tLoss: 0.068375\n",
      "Train Epoch: 1  [40000/60000 (67 %)]\tLoss: 0.067071\n",
      "Train Epoch: 1  [42000/60000 (70 %)]\tLoss: 0.147853\n",
      "Train Epoch: 1  [44000/60000 (73 %)]\tLoss: 0.082579\n",
      "Train Epoch: 1  [46000/60000 (77 %)]\tLoss: 0.081165\n",
      "Train Epoch: 1  [48000/60000 (80 %)]\tLoss: 0.100998\n",
      "Train Epoch: 1  [50000/60000 (83 %)]\tLoss: 0.145899\n",
      "Train Epoch: 1  [52000/60000 (87 %)]\tLoss: 0.074799\n",
      "Train Epoch: 1  [54000/60000 (90 %)]\tLoss: 0.069619\n",
      "Train Epoch: 1  [56000/60000 (93 %)]\tLoss: 0.119123\n",
      "Train Epoch: 1  [58000/60000 (97 %)]\tLoss: 0.133913\n",
      "Train Epoch: 1  [60000/60000 (100%)]\tLoss: 0.050851\n",
      "----------------------------------------------------------------------------------------------------\n",
      "Train Epoch: 2  [0    /60000 (0  %)]\tLoss: 0.051483\n",
      "Train Epoch: 2  [2000 /60000 (3  %)]\tLoss: 0.099491\n",
      "Train Epoch: 2  [4000 /60000 (7  %)]\tLoss: 0.043520\n",
      "Train Epoch: 2  [6000 /60000 (10 %)]\tLoss: 0.078521\n",
      "Train Epoch: 2  [8000 /60000 (13 %)]\tLoss: 0.083262\n",
      "Train Epoch: 2  [10000/60000 (17 %)]\tLoss: 0.038695\n",
      "Train Epoch: 2  [12000/60000 (20 %)]\tLoss: 0.059970\n",
      "Train Epoch: 2  [14000/60000 (23 %)]\tLoss: 0.055273\n",
      "Train Epoch: 2  [16000/60000 (27 %)]\tLoss: 0.082665\n",
      "Train Epoch: 2  [18000/60000 (30 %)]\tLoss: 0.060090\n",
      "Train Epoch: 2  [20000/60000 (33 %)]\tLoss: 0.089497\n",
      "Train Epoch: 2  [22000/60000 (37 %)]\tLoss: 0.098647\n",
      "Train Epoch: 2  [24000/60000 (40 %)]\tLoss: 0.096749\n",
      "Train Epoch: 2  [26000/60000 (43 %)]\tLoss: 0.089216\n",
      "Train Epoch: 2  [28000/60000 (47 %)]\tLoss: 0.107631\n",
      "Train Epoch: 2  [30000/60000 (50 %)]\tLoss: 0.077615\n",
      "Train Epoch: 2  [32000/60000 (53 %)]\tLoss: 0.075667\n",
      "Train Epoch: 2  [34000/60000 (57 %)]\tLoss: 0.051462\n",
      "Train Epoch: 2  [36000/60000 (60 %)]\tLoss: 0.061392\n",
      "Train Epoch: 2  [38000/60000 (63 %)]\tLoss: 0.064340\n",
      "Train Epoch: 2  [40000/60000 (67 %)]\tLoss: 0.093258\n",
      "Train Epoch: 2  [42000/60000 (70 %)]\tLoss: 0.074655\n",
      "Train Epoch: 2  [44000/60000 (73 %)]\tLoss: 0.105668\n",
      "Train Epoch: 2  [46000/60000 (77 %)]\tLoss: 0.111249\n",
      "Train Epoch: 2  [48000/60000 (80 %)]\tLoss: 0.104558\n",
      "Train Epoch: 2  [50000/60000 (83 %)]\tLoss: 0.040628\n",
      "Train Epoch: 2  [52000/60000 (87 %)]\tLoss: 0.054956\n",
      "Train Epoch: 2  [54000/60000 (90 %)]\tLoss: 0.093384\n",
      "Train Epoch: 2  [56000/60000 (93 %)]\tLoss: 0.095664\n",
      "Train Epoch: 2  [58000/60000 (97 %)]\tLoss: 0.044439\n",
      "Train Epoch: 2  [60000/60000 (100%)]\tLoss: 0.090546\n",
      "----------------------------------------------------------------------------------------------------\n",
      "Train Epoch: 3  [0    /60000 (0  %)]\tLoss: 0.061545\n",
      "Train Epoch: 3  [2000 /60000 (3  %)]\tLoss: 0.063899\n",
      "Train Epoch: 3  [4000 /60000 (7  %)]\tLoss: 0.064171\n",
      "Train Epoch: 3  [6000 /60000 (10 %)]\tLoss: 0.074871\n",
      "Train Epoch: 3  [8000 /60000 (13 %)]\tLoss: 0.062724\n",
      "Train Epoch: 3  [10000/60000 (17 %)]\tLoss: 0.043194\n",
      "Train Epoch: 3  [12000/60000 (20 %)]\tLoss: 0.051968\n",
      "Train Epoch: 3  [14000/60000 (23 %)]\tLoss: 0.022027\n",
      "Train Epoch: 3  [16000/60000 (27 %)]\tLoss: 0.078781\n",
      "Train Epoch: 3  [18000/60000 (30 %)]\tLoss: 0.071802\n",
      "Train Epoch: 3  [20000/60000 (33 %)]\tLoss: 0.067444\n",
      "Train Epoch: 3  [22000/60000 (37 %)]\tLoss: 0.083212\n",
      "Train Epoch: 3  [24000/60000 (40 %)]\tLoss: 0.033774\n",
      "Train Epoch: 3  [26000/60000 (43 %)]\tLoss: 0.120207\n",
      "Train Epoch: 3  [28000/60000 (47 %)]\tLoss: 0.122886\n",
      "Train Epoch: 3  [30000/60000 (50 %)]\tLoss: 0.033705\n",
      "Train Epoch: 3  [32000/60000 (53 %)]\tLoss: 0.064760\n",
      "Train Epoch: 3  [34000/60000 (57 %)]\tLoss: 0.065342\n",
      "Train Epoch: 3  [36000/60000 (60 %)]\tLoss: 0.060473\n",
      "Train Epoch: 3  [38000/60000 (63 %)]\tLoss: 0.066886\n",
      "Train Epoch: 3  [40000/60000 (67 %)]\tLoss: 0.111538\n",
      "Train Epoch: 3  [42000/60000 (70 %)]\tLoss: 0.074535\n",
      "Train Epoch: 3  [44000/60000 (73 %)]\tLoss: 0.048312\n",
      "Train Epoch: 3  [46000/60000 (77 %)]\tLoss: 0.146034\n",
      "Train Epoch: 3  [48000/60000 (80 %)]\tLoss: 0.037777\n",
      "Train Epoch: 3  [50000/60000 (83 %)]\tLoss: 0.041694\n",
      "Train Epoch: 3  [52000/60000 (87 %)]\tLoss: 0.061329\n",
      "Train Epoch: 3  [54000/60000 (90 %)]\tLoss: 0.054343\n",
      "Train Epoch: 3  [56000/60000 (93 %)]\tLoss: 0.042255\n",
      "Train Epoch: 3  [58000/60000 (97 %)]\tLoss: 0.024107\n",
      "Train Epoch: 3  [60000/60000 (100%)]\tLoss: 0.084852\n",
      "----------------------------------------------------------------------------------------------------\n",
      "Train Epoch: 4  [0    /60000 (0  %)]\tLoss: 0.032268\n",
      "Train Epoch: 4  [2000 /60000 (3  %)]\tLoss: 0.021448\n",
      "Train Epoch: 4  [4000 /60000 (7  %)]\tLoss: 0.026464\n",
      "Train Epoch: 4  [6000 /60000 (10 %)]\tLoss: 0.064117\n",
      "Train Epoch: 4  [8000 /60000 (13 %)]\tLoss: 0.067918\n",
      "Train Epoch: 4  [10000/60000 (17 %)]\tLoss: 0.080017\n",
      "Train Epoch: 4  [12000/60000 (20 %)]\tLoss: 0.037904\n",
      "Train Epoch: 4  [14000/60000 (23 %)]\tLoss: 0.051817\n",
      "Train Epoch: 4  [16000/60000 (27 %)]\tLoss: 0.075106\n",
      "Train Epoch: 4  [18000/60000 (30 %)]\tLoss: 0.052336\n",
      "Train Epoch: 4  [20000/60000 (33 %)]\tLoss: 0.095610\n",
      "Train Epoch: 4  [22000/60000 (37 %)]\tLoss: 0.057049\n",
      "Train Epoch: 4  [24000/60000 (40 %)]\tLoss: 0.025346\n",
      "Train Epoch: 4  [26000/60000 (43 %)]\tLoss: 0.089419\n",
      "Train Epoch: 4  [28000/60000 (47 %)]\tLoss: 0.045731\n",
      "Train Epoch: 4  [30000/60000 (50 %)]\tLoss: 0.067243\n",
      "Train Epoch: 4  [32000/60000 (53 %)]\tLoss: 0.054329\n",
      "Train Epoch: 4  [34000/60000 (57 %)]\tLoss: 0.038921\n",
      "Train Epoch: 4  [36000/60000 (60 %)]\tLoss: 0.072138\n",
      "Train Epoch: 4  [38000/60000 (63 %)]\tLoss: 0.084315\n",
      "Train Epoch: 4  [40000/60000 (67 %)]\tLoss: 0.083493\n",
      "Train Epoch: 4  [42000/60000 (70 %)]\tLoss: 0.064690\n",
      "Train Epoch: 4  [44000/60000 (73 %)]\tLoss: 0.044778\n",
      "Train Epoch: 4  [46000/60000 (77 %)]\tLoss: 0.051239\n",
      "Train Epoch: 4  [48000/60000 (80 %)]\tLoss: 0.024344\n",
      "Train Epoch: 4  [50000/60000 (83 %)]\tLoss: 0.030786\n",
      "Train Epoch: 4  [52000/60000 (87 %)]\tLoss: 0.070017\n",
      "Train Epoch: 4  [54000/60000 (90 %)]\tLoss: 0.035822\n",
      "Train Epoch: 4  [56000/60000 (93 %)]\tLoss: 0.066470\n",
      "Train Epoch: 4  [58000/60000 (97 %)]\tLoss: 0.035775\n",
      "Train Epoch: 4  [60000/60000 (100%)]\tLoss: 0.037046\n",
      "----------------------------------------------------------------------------------------------------\n"
     ]
    },
    {
     "data": {
      "text/plain": "[[9.598855018615723],\n [10.133383750915527],\n [11.071761131286621],\n [11.107213973999023],\n [11.695172309875488]]"
     },
     "execution_count": 8,
     "metadata": {},
     "output_type": "execute_result"
    }
   ],
   "source": [
    "metric_reslut = t_and_v.train_eval(train_loader=train_loader, valid_sets=[(transforms_data_loader, y_label)])\n",
    "metric_reslut"
   ],
   "metadata": {
    "collapsed": false,
    "pycharm": {
     "name": "#%%\n"
    }
   }
  },
  {
   "cell_type": "code",
   "execution_count": 8,
   "outputs": [],
   "source": [],
   "metadata": {
    "collapsed": false,
    "pycharm": {
     "name": "#%%\n"
    }
   }
  }
 ],
 "metadata": {
  "kernelspec": {
   "display_name": "Python 3",
   "language": "python",
   "name": "python3"
  },
  "language_info": {
   "codemirror_mode": {
    "name": "ipython",
    "version": 2
   },
   "file_extension": ".py",
   "mimetype": "text/x-python",
   "name": "python",
   "nbconvert_exporter": "python",
   "pygments_lexer": "ipython2",
   "version": "2.7.6"
  }
 },
 "nbformat": 4,
 "nbformat_minor": 0
}