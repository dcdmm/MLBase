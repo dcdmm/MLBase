{
 "cells": [
  {
   "cell_type": "code",
   "execution_count": null,
   "outputs": [],
   "source": [
    "import  numpy as np\n",
    "import  pandas as pd"
   ],
   "metadata": {
    "collapsed": false,
    "pycharm": {
     "name": "#%%\n"
    }
   }
  },
  {
   "cell_type": "code",
   "execution_count": 23,
   "metadata": {
    "collapsed": true,
    "pycharm": {
     "is_executing": false
    }
   },
   "outputs": [
    {
     "data": {
      "text/plain": "2000-01-01 00:00:00     1\n2000-01-01 00:01:00     2\n2000-01-01 00:02:00     3\n2000-01-01 00:03:00     4\n2000-01-01 00:04:00     5\n2000-01-01 00:05:00     6\n2000-01-01 00:06:00     7\n2000-01-01 00:07:00     8\n2000-01-01 00:08:00     9\n2000-01-01 00:09:00    10\n2000-01-01 00:10:00    11\n2000-01-01 00:11:00    12\nFreq: T, dtype: int32"
     },
     "metadata": {},
     "output_type": "execute_result",
     "execution_count": 23
    }
   ],
   "source": [
    "rng = pd.date_range('2000-01-01', periods=12, freq='T')\n",
    "ts = pd.Series(np.arange(12) + 1 , index=rng)\n",
    "ts"
   ]
  },
  {
   "cell_type": "code",
   "execution_count": 24,
   "metadata": {
    "pycharm": {
     "is_executing": false
    }
   },
   "outputs": [
    {
     "data": {
      "text/plain": "1999-12-31 23:55:00     1\n2000-01-01 00:00:00    20\n2000-01-01 00:05:00    45\n2000-01-01 00:10:00    12\nFreq: 5T, dtype: int32"
     },
     "metadata": {},
     "output_type": "execute_result",
     "execution_count": 24
    }
   ],
   "source": "'''\nclosed : {'right', 'left'}, default None\n    Which side of bin interval is closed. The default is 'left'\n    for all frequency offsets except for 'M', 'A', 'Q', 'BM',\n    'BA', 'BQ', and 'W' which all have a default of 'right'.\n'''\nts.resample('5min', closed='right').sum()"
  },
  {
   "cell_type": "code",
   "execution_count": 25,
   "metadata": {
    "pycharm": {
     "is_executing": false
    }
   },
   "outputs": [
    {
     "data": {
      "text/plain": "2000-01-01 00:00:00    15\n2000-01-01 00:05:00    40\n2000-01-01 00:10:00    23\nFreq: 5T, dtype: int32"
     },
     "metadata": {},
     "output_type": "execute_result",
     "execution_count": 25
    }
   ],
   "source": "ts.resample('5min', closed='left').sum()"
  },
  {
   "cell_type": "code",
   "execution_count": 26,
   "metadata": {
    "pycharm": {
     "is_executing": false
    }
   },
   "outputs": [
    {
     "data": {
      "text/plain": "2000-01-01 00:00:00     1\n2000-01-01 00:05:00    20\n2000-01-01 00:10:00    45\n2000-01-01 00:15:00    12\nFreq: 5T, dtype: int32"
     },
     "metadata": {},
     "output_type": "execute_result",
     "execution_count": 26
    }
   ],
   "source": "'''\nlabel : {'right', 'left'}, default None\n    Which bin edge label to label bucket with. The default is 'left'\n    for all frequency offsets except for 'M', 'A', 'Q', 'BM',\n    'BA', 'BQ', and 'W' which all have a default of 'right'.\n'''\nts.resample('5min', closed='right', label='right').sum()"
  },
  {
   "cell_type": "code",
   "execution_count": 27,
   "outputs": [
    {
     "data": {
      "text/plain": "1999-12-31 23:55:00     1\n2000-01-01 00:00:00    20\n2000-01-01 00:05:00    45\n2000-01-01 00:10:00    12\nFreq: 5T, dtype: int32"
     },
     "metadata": {},
     "output_type": "execute_result",
     "execution_count": 27
    }
   ],
   "source": "ts.resample('5min', closed='right', label='left').sum()",
   "metadata": {
    "pycharm": {
     "metadata": false,
     "name": "#%%\n",
     "is_executing": false
    }
   }
  },
  {
   "cell_type": "code",
   "execution_count": 28,
   "outputs": [
    {
     "data": {
      "text/plain": "1999-12-31 23:54:59     1\n1999-12-31 23:59:59    20\n2000-01-01 00:04:59    45\n2000-01-01 00:09:59    12\nFreq: 5T, dtype: int32"
     },
     "metadata": {},
     "output_type": "execute_result",
     "execution_count": 28
    }
   ],
   "source": "'''\nloffset : timedelta, default None\n    Adjust the resampled time labels.\n'''\nts.resample('5min', closed='right', label='left',\n            loffset='-1s').sum()",
   "metadata": {
    "pycharm": {
     "metadata": false,
     "name": "#%%\n",
     "is_executing": false
    }
   }
  },
  {
   "cell_type": "code",
   "execution_count": 29,
   "metadata": {
    "pycharm": {
     "is_executing": false
    }
   },
   "outputs": [
    {
     "data": {
      "text/plain": "2000-01-01 00:00:00    0\n2000-01-01 00:01:00    1\n2000-01-01 00:02:00    2\n2000-01-01 00:03:00    3\n2000-01-01 00:04:00    4\n2000-01-01 00:05:00    5\n2000-01-01 00:06:00    6\n2000-01-01 00:07:00    7\n2000-01-01 00:08:00    8\nFreq: T, dtype: int64"
     },
     "metadata": {},
     "output_type": "execute_result",
     "execution_count": 29
    }
   ],
   "source": "index = pd.date_range('1/1/2000', periods=9, freq='T')\nseries = pd.Series(range(9), index=index)\nseries"
  },
  {
   "cell_type": "code",
   "execution_count": 30,
   "metadata": {
    "pycharm": {
     "is_executing": false
    }
   },
   "outputs": [
    {
     "data": {
      "text/plain": "2000-01-01 00:00:00     3\n2000-01-01 00:03:00    12\n2000-01-01 00:06:00    21\nFreq: 3T, dtype: int64"
     },
     "metadata": {},
     "output_type": "execute_result",
     "execution_count": 30
    }
   ],
   "source": "series.resample('3T').sum()"
  },
  {
   "cell_type": "code",
   "execution_count": 31,
   "metadata": {
    "pycharm": {
     "is_executing": false
    }
   },
   "outputs": [
    {
     "data": {
      "text/plain": "2000-01-01 00:03:00     3\n2000-01-01 00:06:00    12\n2000-01-01 00:09:00    21\nFreq: 3T, dtype: int64"
     },
     "metadata": {},
     "output_type": "execute_result",
     "execution_count": 31
    }
   ],
   "source": "series.resample('3T', label='right').sum()"
  },
  {
   "cell_type": "code",
   "execution_count": 32,
   "metadata": {
    "pycharm": {
     "is_executing": false
    }
   },
   "outputs": [
    {
     "data": {
      "text/plain": "2000-01-01 00:00:00     3\n2000-01-01 00:03:00    12\n2000-01-01 00:06:00    21\nFreq: 3T, dtype: int64"
     },
     "metadata": {},
     "output_type": "execute_result",
     "execution_count": 32
    }
   ],
   "source": [
    "series.resample('3T', label='left').sum()"
   ]
  },
  {
   "cell_type": "code",
   "execution_count": 33,
   "metadata": {
    "pycharm": {
     "is_executing": false
    }
   },
   "outputs": [
    {
     "data": {
      "text/plain": "1999-12-31 23:57:00     0\n2000-01-01 00:00:00     6\n2000-01-01 00:03:00    15\n2000-01-01 00:06:00    15\nFreq: 3T, dtype: int64"
     },
     "metadata": {},
     "output_type": "execute_result",
     "execution_count": 33
    }
   ],
   "source": "series.resample('3T', closed='right').sum()"
  },
  {
   "cell_type": "code",
   "execution_count": 34,
   "metadata": {
    "pycharm": {
     "is_executing": false
    }
   },
   "outputs": [
    {
     "data": {
      "text/plain": "2000-01-01 00:00:00     3\n2000-01-01 00:03:00    12\n2000-01-01 00:06:00    21\nFreq: 3T, dtype: int64"
     },
     "metadata": {},
     "output_type": "execute_result",
     "execution_count": 34
    }
   ],
   "source": "series.resample('3T', closed='left').sum()"
  },
  {
   "cell_type": "code",
   "execution_count": 35,
   "metadata": {
    "pycharm": {
     "is_executing": false
    }
   },
   "outputs": [
    {
     "data": {
      "text/plain": "2000-01-01 00:00:00     0\n2000-01-01 00:03:00     6\n2000-01-01 00:06:00    15\n2000-01-01 00:09:00    15\nFreq: 3T, dtype: int64"
     },
     "metadata": {},
     "output_type": "execute_result",
     "execution_count": 35
    }
   ],
   "source": [
    "series.resample('3T', closed='right', label='right').sum()"
   ]
  },
  {
   "cell_type": "code",
   "execution_count": 36,
   "metadata": {
    "pycharm": {
     "is_executing": false
    }
   },
   "outputs": [
    {
     "data": {
      "text/plain": "2000-01-01 00:00:00     3\n2000-01-01 00:03:00    12\n2000-01-01 00:06:00    21\nFreq: 3T, dtype: int64"
     },
     "metadata": {},
     "output_type": "execute_result",
     "execution_count": 36
    }
   ],
   "source": [
    "series.resample('3T', closed='left', label='left').sum()"
   ]
  },
  {
   "cell_type": "code",
   "execution_count": 37,
   "metadata": {
    "pycharm": {
     "is_executing": false
    }
   },
   "outputs": [
    {
     "name": "stdout",
     "text": [
      "                     open  high  low  close\n2000-01-01 00:00:00     1     5    1      5\n2000-01-01 00:05:00     6    10    6     10\n2000-01-01 00:10:00    11    12   11     12\n2000-01-01 00:00:00    15\n2000-01-01 00:05:00    40\n2000-01-01 00:10:00    23\nFreq: 5T, dtype: int32\n2000-01-01 00:00:00     3.0\n2000-01-01 00:05:00     8.0\n2000-01-01 00:10:00    11.5\nFreq: 5T, dtype: float64\n"
     ],
     "output_type": "stream"
    }
   ],
   "source": "# 开端-峰值-谷值-结束(OHLC)重新采样\nprint(ts.resample('5min').ohlc())\nprint(ts.resample('5min').sum())\nprint(ts.resample('5T').mean())"
  }
 ],
 "metadata": {
  "kernelspec": {
   "name": "python3",
   "language": "python",
   "display_name": "Python 3"
  },
  "language_info": {
   "codemirror_mode": {
    "name": "ipython",
    "version": 2
   },
   "file_extension": ".py",
   "mimetype": "text/x-python",
   "name": "python",
   "nbconvert_exporter": "python",
   "pygments_lexer": "ipython2",
   "version": "2.7.6"
  },
  "pycharm": {
   "stem_cell": {
    "cell_type": "raw",
    "source": [],
    "metadata": {
     "collapsed": false
    }
   }
  }
 },
 "nbformat": 4,
 "nbformat_minor": 0
}