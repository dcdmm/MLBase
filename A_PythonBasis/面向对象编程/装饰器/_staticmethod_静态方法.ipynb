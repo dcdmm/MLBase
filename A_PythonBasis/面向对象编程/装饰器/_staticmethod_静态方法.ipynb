{
 "cells": [
  {
   "cell_type": "code",
   "execution_count": 2,
   "metadata": {
    "collapsed": true,
    "ExecuteTime": {
     "end_time": "2023-11-29T01:59:53.784534700Z",
     "start_time": "2023-11-29T01:59:53.763847300Z"
    }
   },
   "outputs": [
    {
     "name": "stdout",
     "output_type": "stream",
     "text": [
      "22\n",
      "china\n",
      "34\n",
      "china\n"
     ]
    }
   ],
   "source": [
    "class People:\n",
    "    country = 'china'\n",
    "\n",
    "    # 静态方法(使用staticmethod作为装饰器)\n",
    "    @staticmethod\n",
    "    def getCountry(age):  # 静态方法不需要多定义参数cls\n",
    "        print(age)\n",
    "        return People.country\n",
    "\n",
    "\n",
    "print(People.getCountry(22))  # 可以通过类对象调用\n",
    "\n",
    "p = People()\n",
    "print(p.getCountry(34))  # 可以用过实例对象调用\n"
   ]
  }
 ],
 "metadata": {
  "kernelspec": {
   "display_name": "Python 3",
   "language": "python",
   "name": "python3"
  },
  "language_info": {
   "codemirror_mode": {
    "name": "ipython",
    "version": 3
   },
   "file_extension": ".py",
   "mimetype": "text/x-python",
   "name": "python",
   "nbconvert_exporter": "python",
   "pygments_lexer": "ipython3",
   "version": "3.7.7"
  },
  "toc": {
   "base_numbering": 1,
   "nav_menu": {},
   "number_sections": true,
   "sideBar": true,
   "skip_h1_title": false,
   "title_cell": "Table of Contents",
   "title_sidebar": "Contents",
   "toc_cell": false,
   "toc_position": {},
   "toc_section_display": true,
   "toc_window_display": false
  }
 },
 "nbformat": 4,
 "nbformat_minor": 1
}
