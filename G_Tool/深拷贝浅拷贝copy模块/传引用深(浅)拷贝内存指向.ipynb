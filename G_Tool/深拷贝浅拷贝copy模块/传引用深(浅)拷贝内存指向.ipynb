{
 "cells": [
  {
   "cell_type": "markdown",
   "metadata": {
    "collapsed": true,
    "pycharm": {
     "name": "#%% md\n"
    }
   },
   "source": [
    "## 引用传递\n",
    "<img src=\"../../Other/img/引用传递.png\" style=\"width:500px;height:300px\">\n",
    "\n",
    "## 浅拷贝\n",
    "<img src=\"../../Other/img/copy.png\" style=\"width:500px;height:300px\">\n",
    "\n",
    "## 深拷贝\n",
    "<img src=\"../../Other/img/deepcopy.png\" style=\"width:500px;height:300px\">"
   ]
  },
  {
   "cell_type": "code",
   "execution_count": 34,
   "metadata": {
    "pycharm": {
     "name": "#%%\n"
    }
   },
   "outputs": [
    {
     "name": "stdout",
     "output_type": "stream",
     "text": [
      "2122438125760\n",
      "2122438125760\n",
      "\n",
      "2122443909376\n",
      "2122443909376\n",
      "\n",
      "2122443932928\n",
      "2122443932928\n",
      "\n",
      "2122443122496\n",
      "2122443122496\n"
     ]
    }
   ],
   "source": [
    "import copy\n",
    "\n",
    "warmtones = [[[[[1, 2], 1, 2], 1, 2], 1, 2], 1, 2]\n",
    "paltte_quote = warmtones  # paltte_quote,warmtones指向同一块内存地址\n",
    "\n",
    "print(id(warmtones))\n",
    "print(id(paltte_quote), end='\\n\\n')  # 指向地址相同\n",
    "\n",
    "print(id(warmtones[0]))\n",
    "print(id(paltte_quote[0]), end='\\n\\n')\n",
    "\n",
    "print(id(warmtones[0][0]))\n",
    "print(id(paltte_quote[0][0]), end='\\n\\n')\n",
    "\n",
    "print(id(warmtones[0][0][0]))\n",
    "print(id(paltte_quote[0][0][0]))"
   ]
  },
  {
   "cell_type": "code",
   "execution_count": 35,
   "metadata": {
    "pycharm": {
     "name": "#%%\n"
    }
   },
   "outputs": [
    {
     "name": "stdout",
     "output_type": "stream",
     "text": [
      "2122442672000\n",
      "2122442851392\n",
      "\n",
      "2122453184384\n",
      "2122453184384\n",
      "\n",
      "2122443749120\n",
      "2122443932928\n",
      "\n",
      "2122442672960\n",
      "2122442672960\n"
     ]
    }
   ],
   "source": [
    "warmtones = [[[[[1, 2], 1, 2], 1, 2], 1, 2], 1, 2]\n",
    "paltte_copy = copy.copy(warmtones)  # 浅拷贝(拷贝外层的副本)\n",
    "\n",
    "print(id(warmtones))\n",
    "print(id(paltte_copy), end='\\n\\n')  # 指向的地址不同(最外层)\n",
    "\n",
    "print(id(warmtones[0]))\n",
    "print(id(paltte_copy[0]), end='\\n\\n')  # 仍指向相同的内存地址\n",
    "\n",
    "print(id(warmtones[0][0]))\n",
    "print(id(paltte_quote[0][0]), end='\\n\\n')\n",
    "\n",
    "print(id(warmtones[0][0][0]))\n",
    "print(id(paltte_copy[0][0][0]))"
   ]
  },
  {
   "cell_type": "code",
   "execution_count": 36,
   "metadata": {
    "pycharm": {
     "name": "#%%\n"
    }
   },
   "outputs": [
    {
     "name": "stdout",
     "output_type": "stream",
     "text": [
      "2122443182656\n",
      "2122453265408\n",
      "\n",
      "2122443182528\n",
      "2122453265728\n",
      "\n",
      "2122453262656\n",
      "2122444190400\n",
      "\n",
      "2122453262400\n",
      "2122443941824\n",
      "\n",
      "2122453263616\n",
      "2122444191104\n"
     ]
    }
   ],
   "source": [
    "warmtones = [[[[[1, 2], 1, 2], 1, 2], 1, 2], 1, 2]\n",
    "paltte_deep_copy = copy.deepcopy(warmtones)  # 深拷贝(拷贝所有数据的副本)\n",
    "\n",
    "print(id(warmtones))\n",
    "print(id(paltte_deep_copy), end='\\n\\n')  # 指向的地址不同\n",
    "\n",
    "print(id(warmtones[0]))\n",
    "print(id(paltte_deep_copy[0]), end='\\n\\n')  # 指向不同的地址\n",
    "\n",
    "print(id(warmtones[0][0]))\n",
    "print(id(paltte_deep_copy[0][0]), end='\\n\\n')  # 指向不同的地址\n",
    "\n",
    "print(id(warmtones[0][0][0]))\n",
    "print(id(paltte_deep_copy[0][0][0]), end='\\n\\n')  # 指向不同的地址\n",
    "\n",
    "print(id(warmtones[0][0][0][0]))\n",
    "print(id(paltte_deep_copy[0][0][0][0]))  # 指向不同的地址\n"
   ]
  }
 ],
 "metadata": {
  "kernelspec": {
   "display_name": "Python 3",
   "language": "python",
   "name": "python3"
  },
  "language_info": {
   "codemirror_mode": {
    "name": "ipython",
    "version": 3
   },
   "file_extension": ".py",
   "mimetype": "text/x-python",
   "name": "python",
   "nbconvert_exporter": "python",
   "pygments_lexer": "ipython3",
   "version": "3.7.9"
  },
  "toc": {
   "base_numbering": 1,
   "nav_menu": {},
   "number_sections": true,
   "sideBar": true,
   "skip_h1_title": false,
   "title_cell": "Table of Contents",
   "title_sidebar": "Contents",
   "toc_cell": false,
   "toc_position": {},
   "toc_section_display": true,
   "toc_window_display": false
  }
 },
 "nbformat": 4,
 "nbformat_minor": 1
}