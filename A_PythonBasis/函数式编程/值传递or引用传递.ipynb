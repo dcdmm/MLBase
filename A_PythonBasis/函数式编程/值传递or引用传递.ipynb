{
 "cells": [
  {
   "cell_type": "markdown",
   "source": [
    "### 参考不可变数据类型.ipynb,可变数据类型.ipynb"
   ],
   "metadata": {
    "collapsed": false,
    "pycharm": {
     "name": "#%% md\n"
    }
   }
  },
  {
   "cell_type": "code",
   "execution_count": 7,
   "outputs": [
    {
     "name": "stdout",
     "output_type": "stream",
     "text": [
      "2693050493576\n",
      "2693050493576\n",
      "[1, 2]\n",
      "2693050493576\n",
      "['A', 2]\n",
      "2693050493576\n",
      "['A', 2, 'q']\n",
      "2693050493576\n",
      "['A', 2, 'q', 's']\n",
      "2693050501960\n",
      "['A', 2, 'q']\n"
     ]
    }
   ],
   "source": [
    "l = [1, 2, 3] # 可变数据类型\n",
    "print(id(l)) # 指针内存地址\n",
    "\n",
    "def a(x):\n",
    "  print(id(x))\n",
    "  x.pop()\n",
    "  print(x)\n",
    "  print(id(x)) # 内存指向不变\n",
    "  \n",
    "  x[0] = 'A'\n",
    "  print(x)\n",
    "  print(id(x)) # 内存指向不变\n",
    "  \n",
    "  x += ['q']\n",
    "  print(x)\n",
    "  print(id(x)) # 内存指向不变\n",
    "  \n",
    "  x = x + ['s']\n",
    "  print(x)\n",
    "  print(id(x)) # 内存指向改变\n",
    "  \n",
    "a(l)\n",
    "print(l)"
   ],
   "metadata": {
    "collapsed": false,
    "pycharm": {
     "name": "#%%\n"
    }
   }
  },
  {
   "cell_type": "code",
   "execution_count": 8,
   "outputs": [
    {
     "name": "stdout",
     "output_type": "stream",
     "text": [
      "2693032709040\n",
      "2693032709040\n",
      "2693032709488\n",
      "2693044085264\n",
      "2693032709040\n",
      "duanchao\n"
     ]
    }
   ],
   "source": [
    "m = 'duanchao' # 不可变数据类型\n",
    "print(id(m)) # 值内存地址\n",
    "\n",
    "def b(y):\n",
    "    print(id(y))\n",
    "    m = 'duanmengmeng' # 创建了一个新对象\n",
    "    print(id(m))\n",
    "    m += ' chongya' # 创建了一个新对象   \n",
    "    print(id(m))\n",
    "    \n",
    "b(m)    \n",
    "print(id(m))\n",
    "print(m) # m(不可变对象)不变(内存指向发送了改变)"
   ],
   "metadata": {
    "collapsed": false,
    "pycharm": {
     "name": "#%%\n"
    }
   }
  },
  {
   "cell_type": "code",
   "execution_count": 8,
   "outputs": [],
   "source": [
    "\n"
   ],
   "metadata": {
    "collapsed": false,
    "pycharm": {
     "name": "#%%\n"
    }
   }
  }
 ],
 "metadata": {
  "kernelspec": {
   "display_name": "Python 3",
   "language": "python",
   "name": "python3"
  },
  "language_info": {
   "codemirror_mode": {
    "name": "ipython",
    "version": 2
   },
   "file_extension": ".py",
   "mimetype": "text/x-python",
   "name": "python",
   "nbconvert_exporter": "python",
   "pygments_lexer": "ipython2",
   "version": "2.7.6"
  }
 },
 "nbformat": 4,
 "nbformat_minor": 0
}