{
 "cells": [
  {
   "cell_type": "markdown",
   "metadata": {
    "collapsed": true,
    "pycharm": {
     "name": "#%% md\n"
    }
   },
   "source": [
    "##  定序变量的相关性(非参数方法)\n",
    "肯德尔相关系数和斯皮尔曼相关系数具有皮尔逊相关系数不具备的优点,表现在:\n",
    "1. 对定序资料也适用\n",
    "2. 对线性假定条件没有特别的要求\n",
    "3. 对异常值不是很敏感  "
   ]
  },
  {
   "cell_type": "code",
   "execution_count": 10,
   "outputs": [
    {
     "name": "stdout",
     "text": [
      "correlation_p 0.7659287946267688\npvalue_p 0.026696497749233782\ncorrelation_s 1.0\npvalue_s 0.0\n"
     ],
     "output_type": "stream"
    },
    {
     "data": {
      "text/plain": "<Figure size 432x288 with 1 Axes>",
      "image/png": "[encoded data removed]"
     },
     "metadata": {
      "needs_background": "light"
     },
     "output_type": "display_data"
    }
   ],
   "source": "import scipy.stats as stats\nimport matplotlib.pyplot as plt\nimport numpy as np\n\nx = [0.6, 0.7, 1, 2.1, 2.9, 3.2, 5.5, 6.7]\ny = np.power(x,10) + np.random.randn(8)\nplt.scatter(x, y) # 非线性关系\n\ncorrelation_p, pvalue_p = stats.stats.pearsonr(x, y)\ncorrelation_s, pvalue_s = stats.stats.spearmanr(x, y)  \n\nprint ('correlation_p', correlation_p)\nprint ('pvalue_p', pvalue_p)\nprint ('correlation_s', correlation_s)\nprint ('pvalue_s', pvalue_s)",
   "metadata": {
    "pycharm": {
     "metadata": false,
     "name": "#%%\n",
     "is_executing": false
    }
   }
  },
  {
   "cell_type": "code",
   "execution_count": 11,
   "outputs": [
    {
     "name": "stdout",
     "text": [
      "tau 0.6888888888888888\np_value 0.00468694885361552\n"
     ],
     "output_type": "stream"
    }
   ],
   "source": "# 研究体重和肺活量的关系\nx1 = [75, 95, 85, 70, 76, 68, 60, 66, 80, 88] # 体重\nx2 = [2.62, 2.91, 2.94, 2.11, 2.17, 1.98, 2.04, \n      2.20, 2.65, 2.69] # 肺活量\n\ntau, p_value = stats.kendalltau(x1, x2)\nprint ('tau', tau)\nprint ('p_value', p_value)\n\n",
   "metadata": {
    "pycharm": {
     "metadata": false,
     "name": "#%%\n",
     "is_executing": false
    }
   }
  }
 ],
 "metadata": {
  "language_info": {
   "codemirror_mode": {
    "name": "ipython",
    "version": 2
   },
   "file_extension": ".py",
   "mimetype": "text/x-python",
   "name": "python",
   "nbconvert_exporter": "python",
   "pygments_lexer": "ipython2",
   "version": "2.7.6"
  },
  "kernelspec": {
   "name": "python3",
   "language": "python",
   "display_name": "Python 3"
  },
  "pycharm": {
   "stem_cell": {
    "cell_type": "raw",
    "source": [],
    "metadata": {
     "collapsed": false
    }
   }
  }
 },
 "nbformat": 4,
 "nbformat_minor": 0
}