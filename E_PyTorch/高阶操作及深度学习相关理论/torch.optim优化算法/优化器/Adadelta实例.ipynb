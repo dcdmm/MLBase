{
 "cells": [
  {
   "cell_type": "code",
   "execution_count": 1,
   "outputs": [],
   "source": [
    "import torch.nn as nn\n",
    "import torch.optim as optim\n",
    "import numpy as np\n",
    "import torch.utils.data as Data\n",
    "import torch\n",
    "import matplotlib.pyplot as plt"
   ],
   "metadata": {
    "collapsed": false,
    "pycharm": {
     "name": "#%%\n"
    }
   }
  },
  {
   "cell_type": "code",
   "execution_count": 2,
   "outputs": [],
   "source": [
    "# 手写数字训练数据集\n",
    "mnist = np.load(\"../../../../Other/datasets/NumPy/mnist.npz\")\n",
    "X_train, y_train, X_val, y_val = torch.unsqueeze(torch.tensor(mnist['x_train']), 1).to(dtype=torch.float32),\\\n",
    "                                 torch.tensor(mnist['y_train']).to(dtype=torch.long),\\\n",
    "                                 torch.unsqueeze(torch.tensor(mnist['x_test']), 1).to(dtype=torch.float32),\\\n",
    "                                 torch.tensor(mnist['y_test']).to(dtype=torch.long)\n",
    "X_train, X_val = X_train / 255.0, X_val / 255.0"
   ],
   "metadata": {
    "collapsed": false,
    "pycharm": {
     "name": "#%%\n"
    }
   }
  },
  {
   "cell_type": "code",
   "execution_count": 3,
   "outputs": [],
   "source": [
    "batch_size = 200\n",
    "train_data = Data.TensorDataset(X_train, y_train)\n",
    "train_loader = Data.DataLoader(dataset=train_data,\n",
    "                               batch_size=batch_size,\n",
    "                               shuffle=True)\n",
    "val_data = Data.TensorDataset(X_val, y_val)\n",
    "val_loader = Data.DataLoader(dataset=val_data, batch_size=batch_size)\n"
   ],
   "metadata": {
    "collapsed": false,
    "pycharm": {
     "name": "#%%\n"
    }
   }
  },
  {
   "cell_type": "code",
   "execution_count": 4,
   "outputs": [],
   "source": [
    "class LeNet(nn.Module):\n",
    "    def __init__(self):\n",
    "        super(LeNet, self).__init__()\n",
    "        self.featrues = nn.Sequential(  # 内部实现了forward函数;各模块顺序执行\n",
    "            nn.Conv2d(1, 6, 3),\n",
    "            nn.ReLU(),\n",
    "            nn.MaxPool2d(2, 2),\n",
    "            nn.Conv2d(6, 16, 3),\n",
    "            nn.ReLU(),\n",
    "            nn.MaxPool2d(2, 2)\n",
    "        )\n",
    "        self.classifier = nn.Sequential(\n",
    "            nn.Linear(400, 120),\n",
    "            nn.ReLU(),\n",
    "            nn.Linear(120, 84),\n",
    "            nn.ReLU(),\n",
    "            nn.Linear(84, 10),  # 10分类问题\n",
    "        )\n",
    "\n",
    "    def forward(self, x):\n",
    "        x = self.featrues(x)\n",
    "        x = x.reshape(x.size()[0], -1)\n",
    "        x = self.classifier(x)\n",
    "        return x\n"
   ],
   "metadata": {
    "collapsed": false,
    "pycharm": {
     "name": "#%%\n"
    }
   }
  },
  {
   "cell_type": "code",
   "execution_count": 5,
   "outputs": [],
   "source": [
    "device = torch.device(\"cuda\" if torch.cuda.is_available() else \"cpu\")\n",
    "criteon = nn.CrossEntropyLoss()  # 定义损失函数为交叉熵\n",
    "net = LeNet()\n",
    "lenet = net.to(device)  # 模型设备切换必须在优化器定义前执行\n",
    "\n",
    "# Adadelta优化器\n",
    "optimizer = optim.Adadelta(net.parameters(),\n",
    "                           rho=0.9,  # 衰减速率\\rho\n",
    "                           lr=0.99,  # 缩放系数\\epsilon(default: 1.0)\n",
    "                           eps=1e-6)  # 分母中的小常数\\delta"
   ],
   "metadata": {
    "collapsed": false,
    "pycharm": {
     "name": "#%%\n"
    }
   }
  },
  {
   "cell_type": "code",
   "execution_count": 6,
   "outputs": [
    {
     "name": "stdout",
     "output_type": "stream",
     "text": [
      "Train Epoch: 0  [0    /60000 (0  %)]\tLoss: 2.312142\n",
      "Train Epoch: 0  [4000 /60000 (7  %)]\tLoss: 2.057297\n",
      "Train Epoch: 0  [8000 /60000 (13 %)]\tLoss: 1.189942\n",
      "Train Epoch: 0  [12000/60000 (20 %)]\tLoss: 1.037536\n",
      "Train Epoch: 0  [16000/60000 (27 %)]\tLoss: 0.523723\n",
      "Train Epoch: 0  [20000/60000 (33 %)]\tLoss: 0.483481\n",
      "Train Epoch: 0  [24000/60000 (40 %)]\tLoss: 0.236921\n",
      "Train Epoch: 0  [28000/60000 (47 %)]\tLoss: 0.317318\n",
      "Train Epoch: 0  [32000/60000 (53 %)]\tLoss: 0.226414\n",
      "Train Epoch: 0  [36000/60000 (60 %)]\tLoss: 0.147668\n",
      "Train Epoch: 0  [40000/60000 (67 %)]\tLoss: 0.162431\n",
      "Train Epoch: 0  [44000/60000 (73 %)]\tLoss: 0.208056\n",
      "Train Epoch: 0  [48000/60000 (80 %)]\tLoss: 0.241331\n",
      "Train Epoch: 0  [52000/60000 (87 %)]\tLoss: 0.184489\n",
      "Train Epoch: 0  [56000/60000 (93 %)]\tLoss: 0.127125\n",
      "Train Epoch: 0  [60000/60000 (100%)]\tLoss: 0.125974\n",
      "----------------------------------------------------------------------------------------------------\n",
      "Train Epoch: 1  [0    /60000 (0  %)]\tLoss: 0.080270\n",
      "Train Epoch: 1  [4000 /60000 (7  %)]\tLoss: 0.081468\n",
      "Train Epoch: 1  [8000 /60000 (13 %)]\tLoss: 0.160774\n",
      "Train Epoch: 1  [12000/60000 (20 %)]\tLoss: 0.075874\n",
      "Train Epoch: 1  [16000/60000 (27 %)]\tLoss: 0.062854\n",
      "Train Epoch: 1  [20000/60000 (33 %)]\tLoss: 0.047745\n",
      "Train Epoch: 1  [24000/60000 (40 %)]\tLoss: 0.077165\n",
      "Train Epoch: 1  [28000/60000 (47 %)]\tLoss: 0.141346\n",
      "Train Epoch: 1  [32000/60000 (53 %)]\tLoss: 0.059990\n",
      "Train Epoch: 1  [36000/60000 (60 %)]\tLoss: 0.094407\n",
      "Train Epoch: 1  [40000/60000 (67 %)]\tLoss: 0.088112\n",
      "Train Epoch: 1  [44000/60000 (73 %)]\tLoss: 0.076221\n",
      "Train Epoch: 1  [48000/60000 (80 %)]\tLoss: 0.045091\n",
      "Train Epoch: 1  [52000/60000 (87 %)]\tLoss: 0.041214\n",
      "Train Epoch: 1  [56000/60000 (93 %)]\tLoss: 0.069249\n",
      "Train Epoch: 1  [60000/60000 (100%)]\tLoss: 0.101556\n",
      "----------------------------------------------------------------------------------------------------\n",
      "Train Epoch: 2  [0    /60000 (0  %)]\tLoss: 0.066849\n",
      "Train Epoch: 2  [4000 /60000 (7  %)]\tLoss: 0.068995\n",
      "Train Epoch: 2  [8000 /60000 (13 %)]\tLoss: 0.082248\n",
      "Train Epoch: 2  [12000/60000 (20 %)]\tLoss: 0.071087\n",
      "Train Epoch: 2  [16000/60000 (27 %)]\tLoss: 0.036722\n",
      "Train Epoch: 2  [20000/60000 (33 %)]\tLoss: 0.086354\n",
      "Train Epoch: 2  [24000/60000 (40 %)]\tLoss: 0.097453\n",
      "Train Epoch: 2  [28000/60000 (47 %)]\tLoss: 0.079006\n",
      "Train Epoch: 2  [32000/60000 (53 %)]\tLoss: 0.100232\n",
      "Train Epoch: 2  [36000/60000 (60 %)]\tLoss: 0.067806\n",
      "Train Epoch: 2  [40000/60000 (67 %)]\tLoss: 0.103919\n",
      "Train Epoch: 2  [44000/60000 (73 %)]\tLoss: 0.108348\n",
      "Train Epoch: 2  [48000/60000 (80 %)]\tLoss: 0.044273\n",
      "Train Epoch: 2  [52000/60000 (87 %)]\tLoss: 0.059678\n",
      "Train Epoch: 2  [56000/60000 (93 %)]\tLoss: 0.039707\n",
      "Train Epoch: 2  [60000/60000 (100%)]\tLoss: 0.040697\n",
      "----------------------------------------------------------------------------------------------------\n",
      "Train Epoch: 3  [0    /60000 (0  %)]\tLoss: 0.066967\n",
      "Train Epoch: 3  [4000 /60000 (7  %)]\tLoss: 0.054169\n",
      "Train Epoch: 3  [8000 /60000 (13 %)]\tLoss: 0.132592\n",
      "Train Epoch: 3  [12000/60000 (20 %)]\tLoss: 0.043266\n",
      "Train Epoch: 3  [16000/60000 (27 %)]\tLoss: 0.028119\n",
      "Train Epoch: 3  [20000/60000 (33 %)]\tLoss: 0.061102\n",
      "Train Epoch: 3  [24000/60000 (40 %)]\tLoss: 0.052132\n",
      "Train Epoch: 3  [28000/60000 (47 %)]\tLoss: 0.023082\n",
      "Train Epoch: 3  [32000/60000 (53 %)]\tLoss: 0.056349\n",
      "Train Epoch: 3  [36000/60000 (60 %)]\tLoss: 0.067835\n",
      "Train Epoch: 3  [40000/60000 (67 %)]\tLoss: 0.029994\n",
      "Train Epoch: 3  [44000/60000 (73 %)]\tLoss: 0.069685\n",
      "Train Epoch: 3  [48000/60000 (80 %)]\tLoss: 0.121513\n",
      "Train Epoch: 3  [52000/60000 (87 %)]\tLoss: 0.042646\n",
      "Train Epoch: 3  [56000/60000 (93 %)]\tLoss: 0.061639\n",
      "Train Epoch: 3  [60000/60000 (100%)]\tLoss: 0.012648\n",
      "----------------------------------------------------------------------------------------------------\n",
      "Train Epoch: 4  [0    /60000 (0  %)]\tLoss: 0.038238\n",
      "Train Epoch: 4  [4000 /60000 (7  %)]\tLoss: 0.022433\n",
      "Train Epoch: 4  [8000 /60000 (13 %)]\tLoss: 0.039960\n",
      "Train Epoch: 4  [12000/60000 (20 %)]\tLoss: 0.029473\n",
      "Train Epoch: 4  [16000/60000 (27 %)]\tLoss: 0.024989\n",
      "Train Epoch: 4  [20000/60000 (33 %)]\tLoss: 0.072788\n",
      "Train Epoch: 4  [24000/60000 (40 %)]\tLoss: 0.085449\n",
      "Train Epoch: 4  [28000/60000 (47 %)]\tLoss: 0.009989\n",
      "Train Epoch: 4  [32000/60000 (53 %)]\tLoss: 0.052455\n",
      "Train Epoch: 4  [36000/60000 (60 %)]\tLoss: 0.070692\n",
      "Train Epoch: 4  [40000/60000 (67 %)]\tLoss: 0.024452\n",
      "Train Epoch: 4  [44000/60000 (73 %)]\tLoss: 0.031638\n",
      "Train Epoch: 4  [48000/60000 (80 %)]\tLoss: 0.097659\n",
      "Train Epoch: 4  [52000/60000 (87 %)]\tLoss: 0.094100\n",
      "Train Epoch: 4  [56000/60000 (93 %)]\tLoss: 0.030994\n",
      "Train Epoch: 4  [60000/60000 (100%)]\tLoss: 0.011958\n",
      "----------------------------------------------------------------------------------------------------\n",
      "Train Epoch: 5  [0    /60000 (0  %)]\tLoss: 0.030777\n",
      "Train Epoch: 5  [4000 /60000 (7  %)]\tLoss: 0.010802\n",
      "Train Epoch: 5  [8000 /60000 (13 %)]\tLoss: 0.027125\n",
      "Train Epoch: 5  [12000/60000 (20 %)]\tLoss: 0.044995\n",
      "Train Epoch: 5  [16000/60000 (27 %)]\tLoss: 0.012300\n",
      "Train Epoch: 5  [20000/60000 (33 %)]\tLoss: 0.024724\n",
      "Train Epoch: 5  [24000/60000 (40 %)]\tLoss: 0.029691\n",
      "Train Epoch: 5  [28000/60000 (47 %)]\tLoss: 0.011528\n",
      "Train Epoch: 5  [32000/60000 (53 %)]\tLoss: 0.011979\n",
      "Train Epoch: 5  [36000/60000 (60 %)]\tLoss: 0.016192\n",
      "Train Epoch: 5  [40000/60000 (67 %)]\tLoss: 0.027394\n",
      "Train Epoch: 5  [44000/60000 (73 %)]\tLoss: 0.034947\n",
      "Train Epoch: 5  [48000/60000 (80 %)]\tLoss: 0.022328\n",
      "Train Epoch: 5  [52000/60000 (87 %)]\tLoss: 0.003787\n",
      "Train Epoch: 5  [56000/60000 (93 %)]\tLoss: 0.033394\n",
      "Train Epoch: 5  [60000/60000 (100%)]\tLoss: 0.032608\n",
      "----------------------------------------------------------------------------------------------------\n",
      "Train Epoch: 6  [0    /60000 (0  %)]\tLoss: 0.048519\n",
      "Train Epoch: 6  [4000 /60000 (7  %)]\tLoss: 0.034846\n",
      "Train Epoch: 6  [8000 /60000 (13 %)]\tLoss: 0.013788\n",
      "Train Epoch: 6  [12000/60000 (20 %)]\tLoss: 0.005458\n",
      "Train Epoch: 6  [16000/60000 (27 %)]\tLoss: 0.011091\n",
      "Train Epoch: 6  [20000/60000 (33 %)]\tLoss: 0.045510\n",
      "Train Epoch: 6  [24000/60000 (40 %)]\tLoss: 0.011738\n",
      "Train Epoch: 6  [28000/60000 (47 %)]\tLoss: 0.033263\n",
      "Train Epoch: 6  [32000/60000 (53 %)]\tLoss: 0.009368\n",
      "Train Epoch: 6  [36000/60000 (60 %)]\tLoss: 0.026995\n",
      "Train Epoch: 6  [40000/60000 (67 %)]\tLoss: 0.070664\n",
      "Train Epoch: 6  [44000/60000 (73 %)]\tLoss: 0.008082\n",
      "Train Epoch: 6  [48000/60000 (80 %)]\tLoss: 0.032893\n",
      "Train Epoch: 6  [52000/60000 (87 %)]\tLoss: 0.018852\n",
      "Train Epoch: 6  [56000/60000 (93 %)]\tLoss: 0.029242\n",
      "Train Epoch: 6  [60000/60000 (100%)]\tLoss: 0.025650\n",
      "----------------------------------------------------------------------------------------------------\n",
      "Train Epoch: 7  [0    /60000 (0  %)]\tLoss: 0.020039\n",
      "Train Epoch: 7  [4000 /60000 (7  %)]\tLoss: 0.008339\n",
      "Train Epoch: 7  [8000 /60000 (13 %)]\tLoss: 0.018803\n",
      "Train Epoch: 7  [12000/60000 (20 %)]\tLoss: 0.045555\n",
      "Train Epoch: 7  [16000/60000 (27 %)]\tLoss: 0.007238\n",
      "Train Epoch: 7  [20000/60000 (33 %)]\tLoss: 0.010715\n",
      "Train Epoch: 7  [24000/60000 (40 %)]\tLoss: 0.051139\n",
      "Train Epoch: 7  [28000/60000 (47 %)]\tLoss: 0.004340\n",
      "Train Epoch: 7  [32000/60000 (53 %)]\tLoss: 0.026928\n",
      "Train Epoch: 7  [36000/60000 (60 %)]\tLoss: 0.024671\n",
      "Train Epoch: 7  [40000/60000 (67 %)]\tLoss: 0.002965\n",
      "Train Epoch: 7  [44000/60000 (73 %)]\tLoss: 0.016019\n",
      "Train Epoch: 7  [48000/60000 (80 %)]\tLoss: 0.008802\n",
      "Train Epoch: 7  [52000/60000 (87 %)]\tLoss: 0.016876\n",
      "Train Epoch: 7  [56000/60000 (93 %)]\tLoss: 0.020509\n",
      "Train Epoch: 7  [60000/60000 (100%)]\tLoss: 0.006468\n",
      "----------------------------------------------------------------------------------------------------\n",
      "Train Epoch: 8  [0    /60000 (0  %)]\tLoss: 0.016491\n",
      "Train Epoch: 8  [4000 /60000 (7  %)]\tLoss: 0.045602\n",
      "Train Epoch: 8  [8000 /60000 (13 %)]\tLoss: 0.014617\n",
      "Train Epoch: 8  [12000/60000 (20 %)]\tLoss: 0.014434\n",
      "Train Epoch: 8  [16000/60000 (27 %)]\tLoss: 0.007094\n",
      "Train Epoch: 8  [20000/60000 (33 %)]\tLoss: 0.013464\n",
      "Train Epoch: 8  [24000/60000 (40 %)]\tLoss: 0.014872\n",
      "Train Epoch: 8  [28000/60000 (47 %)]\tLoss: 0.012702\n",
      "Train Epoch: 8  [32000/60000 (53 %)]\tLoss: 0.021582\n",
      "Train Epoch: 8  [36000/60000 (60 %)]\tLoss: 0.054992\n",
      "Train Epoch: 8  [40000/60000 (67 %)]\tLoss: 0.030734\n",
      "Train Epoch: 8  [44000/60000 (73 %)]\tLoss: 0.050041\n",
      "Train Epoch: 8  [48000/60000 (80 %)]\tLoss: 0.025269\n",
      "Train Epoch: 8  [52000/60000 (87 %)]\tLoss: 0.025061\n",
      "Train Epoch: 8  [56000/60000 (93 %)]\tLoss: 0.007691\n",
      "Train Epoch: 8  [60000/60000 (100%)]\tLoss: 0.002375\n",
      "----------------------------------------------------------------------------------------------------\n",
      "Train Epoch: 9  [0    /60000 (0  %)]\tLoss: 0.003977\n",
      "Train Epoch: 9  [4000 /60000 (7  %)]\tLoss: 0.004748\n",
      "Train Epoch: 9  [8000 /60000 (13 %)]\tLoss: 0.016002\n",
      "Train Epoch: 9  [12000/60000 (20 %)]\tLoss: 0.001181\n",
      "Train Epoch: 9  [16000/60000 (27 %)]\tLoss: 0.021454\n",
      "Train Epoch: 9  [20000/60000 (33 %)]\tLoss: 0.056332\n",
      "Train Epoch: 9  [24000/60000 (40 %)]\tLoss: 0.008993\n",
      "Train Epoch: 9  [28000/60000 (47 %)]\tLoss: 0.004457\n",
      "Train Epoch: 9  [32000/60000 (53 %)]\tLoss: 0.038898\n",
      "Train Epoch: 9  [36000/60000 (60 %)]\tLoss: 0.010659\n",
      "Train Epoch: 9  [40000/60000 (67 %)]\tLoss: 0.018546\n",
      "Train Epoch: 9  [44000/60000 (73 %)]\tLoss: 0.007357\n",
      "Train Epoch: 9  [48000/60000 (80 %)]\tLoss: 0.007628\n",
      "Train Epoch: 9  [52000/60000 (87 %)]\tLoss: 0.004110\n",
      "Train Epoch: 9  [56000/60000 (93 %)]\tLoss: 0.008044\n",
      "Train Epoch: 9  [60000/60000 (100%)]\tLoss: 0.003298\n",
      "----------------------------------------------------------------------------------------------------\n",
      "{'train_loss': [0.10648456960916519, 0.0706983283162117, 0.041594237089157104, 0.02932262048125267, 0.029237203299999237, 0.025738557800650597, 0.020442120730876923, 0.019615504890680313, 0.011831230483949184, 0.011182422749698162], 'val_loss': [0.09671463817358017, 0.0685478150844574, 0.047570325434207916, 0.03875211626291275, 0.042460616677999496, 0.044624146074056625, 0.03513246029615402, 0.04166124388575554, 0.034701768308877945, 0.03696824982762337]}\n"
     ]
    }
   ],
   "source": [
    "from J_Template.assembly.torch_模型训练与评估.train_evaluate import Train_Evaluate\n",
    "\n",
    "t_and_v = Train_Evaluate(model=lenet, optimizer=optimizer, criterion=criteon, epochs=10)"
   ],
   "metadata": {
    "collapsed": false,
    "pycharm": {
     "name": "#%%\n"
    }
   }
  },
  {
   "cell_type": "code",
   "execution_count": null,
   "outputs": [],
   "source": [
    "metric_reslut = t_and_v.train_eval(train_loader=train_loader, valid_loader=val_loader)\n",
    "print(metric_reslut)  # 每一轮验证数据集的损失值"
   ],
   "metadata": {
    "collapsed": false,
    "pycharm": {
     "name": "#%%\n"
    }
   }
  },
  {
   "cell_type": "code",
   "execution_count": 7,
   "outputs": [
    {
     "data": {
      "text/plain": "<Figure size 432x288 with 1 Axes>",
      "image/png": "[encoded data removed]"
     },
     "metadata": {
      "needs_background": "light"
     },
     "output_type": "display_data"
    }
   ],
   "source": [
    "plt.plot(metric_reslut['val_loss'], label=\"val\")\n",
    "plt.plot(metric_reslut['train_loss'], label='train')\n",
    "plt.legend()\n",
    "plt.show()\n",
    "\n"
   ],
   "metadata": {
    "collapsed": false,
    "pycharm": {
     "name": "#%%\n"
    }
   }
  }
 ],
 "metadata": {
  "kernelspec": {
   "display_name": "Python 3",
   "language": "python",
   "name": "python3"
  },
  "language_info": {
   "codemirror_mode": {
    "name": "ipython",
    "version": 2
   },
   "file_extension": ".py",
   "mimetype": "text/x-python",
   "name": "python",
   "nbconvert_exporter": "python",
   "pygments_lexer": "ipython2",
   "version": "2.7.6"
  }
 },
 "nbformat": 4,
 "nbformat_minor": 0
}