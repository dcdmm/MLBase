{
 "cells": [
  {
   "cell_type": "markdown",
   "metadata": {
    "collapsed": true,
    "pycharm": {
     "name": "#%% md\n"
    }
   },
   "source": [
    "插值思路:均值/中位数/众数/临近值/(拉格朗日)插值法..."
   ]
  },
  {
   "cell_type": "code",
   "execution_count": 1,
   "outputs": [
    {
     "data": {
      "text/plain": "          0         1         2\n0  0.133708       NaN       NaN\n1 -0.152254       NaN       NaN\n2  0.677750       NaN  1.017885\n3 -0.232096       NaN -1.495759\n4 -1.002455  0.869390  0.653912\n5 -0.149095  0.578337 -0.816572\n6  1.640716  0.775522 -0.564226",
      "text/html": "<div>\n<style scoped>\n    .dataframe tbody tr th:only-of-type {\n        vertical-align: middle;\n    }\n\n    .dataframe tbody tr th {\n        vertical-align: top;\n    }\n\n    .dataframe thead th {\n        text-align: right;\n    }\n</style>\n<table border=\"1\" class=\"dataframe\">\n  <thead>\n    <tr style=\"text-align: right;\">\n      <th></th>\n      <th>0</th>\n      <th>1</th>\n      <th>2</th>\n    </tr>\n  </thead>\n  <tbody>\n    <tr>\n      <th>0</th>\n      <td>0.133708</td>\n      <td>NaN</td>\n      <td>NaN</td>\n    </tr>\n    <tr>\n      <th>1</th>\n      <td>-0.152254</td>\n      <td>NaN</td>\n      <td>NaN</td>\n    </tr>\n    <tr>\n      <th>2</th>\n      <td>0.677750</td>\n      <td>NaN</td>\n      <td>1.017885</td>\n    </tr>\n    <tr>\n      <th>3</th>\n      <td>-0.232096</td>\n      <td>NaN</td>\n      <td>-1.495759</td>\n    </tr>\n    <tr>\n      <th>4</th>\n      <td>-1.002455</td>\n      <td>0.869390</td>\n      <td>0.653912</td>\n    </tr>\n    <tr>\n      <th>5</th>\n      <td>-0.149095</td>\n      <td>0.578337</td>\n      <td>-0.816572</td>\n    </tr>\n    <tr>\n      <th>6</th>\n      <td>1.640716</td>\n      <td>0.775522</td>\n      <td>-0.564226</td>\n    </tr>\n  </tbody>\n</table>\n</div>"
     },
     "metadata": {},
     "output_type": "execute_result",
     "execution_count": 1
    }
   ],
   "source": [
    "import numpy as np\n",
    "import pandas as pd\n",
    "from  numpy import  nan as NA\n",
    "'''\n",
    "fillna函数参数\n",
    "value           标量值或字典型对象用于填充缺失值\n",
    "method          插值方法,如果没有其他参数,默认是'ffill'\n",
    "    method : {‘backfill’, ‘bfill’, ‘pad’, ‘ffill’, None}, default None\n",
    "        Method to use for filling holes in reindexed Series pad / ffill: propagate last \n",
    "        valid observation forward to next valid backfill / bfill: use NEXT valid observation to fill gap\n",
    "axis            需要填充的轴,默认是axis=0\n",
    "inplace         修改被调用的对象,而不是生成一个备份\n",
    "limit           用于前向或后向填充时最大的填充范围\n",
    "'''\n",
    "df = pd.DataFrame(np.random.randn(7, 3))\n",
    "df.iloc[:4, 1] = NA\n",
    "df.iloc[:2, 2] = NA\n",
    "df"
   ],
   "metadata": {
    "pycharm": {
     "metadata": false,
     "name": "#%%\n",
     "is_executing": false
    }
   }
  },
  {
   "cell_type": "code",
   "execution_count": 2,
   "outputs": [
    {
     "data": {
      "text/plain": "          0         1         2\n0  0.133708  0.000000  0.000000\n1 -0.152254  0.000000  0.000000\n2  0.677750  0.000000  1.017885\n3 -0.232096  0.000000 -1.495759\n4 -1.002455  0.869390  0.653912\n5 -0.149095  0.578337 -0.816572\n6  1.640716  0.775522 -0.564226",
      "text/html": "<div>\n<style scoped>\n    .dataframe tbody tr th:only-of-type {\n        vertical-align: middle;\n    }\n\n    .dataframe tbody tr th {\n        vertical-align: top;\n    }\n\n    .dataframe thead th {\n        text-align: right;\n    }\n</style>\n<table border=\"1\" class=\"dataframe\">\n  <thead>\n    <tr style=\"text-align: right;\">\n      <th></th>\n      <th>0</th>\n      <th>1</th>\n      <th>2</th>\n    </tr>\n  </thead>\n  <tbody>\n    <tr>\n      <th>0</th>\n      <td>0.133708</td>\n      <td>0.000000</td>\n      <td>0.000000</td>\n    </tr>\n    <tr>\n      <th>1</th>\n      <td>-0.152254</td>\n      <td>0.000000</td>\n      <td>0.000000</td>\n    </tr>\n    <tr>\n      <th>2</th>\n      <td>0.677750</td>\n      <td>0.000000</td>\n      <td>1.017885</td>\n    </tr>\n    <tr>\n      <th>3</th>\n      <td>-0.232096</td>\n      <td>0.000000</td>\n      <td>-1.495759</td>\n    </tr>\n    <tr>\n      <th>4</th>\n      <td>-1.002455</td>\n      <td>0.869390</td>\n      <td>0.653912</td>\n    </tr>\n    <tr>\n      <th>5</th>\n      <td>-0.149095</td>\n      <td>0.578337</td>\n      <td>-0.816572</td>\n    </tr>\n    <tr>\n      <th>6</th>\n      <td>1.640716</td>\n      <td>0.775522</td>\n      <td>-0.564226</td>\n    </tr>\n  </tbody>\n</table>\n</div>"
     },
     "metadata": {},
     "output_type": "execute_result",
     "execution_count": 2
    }
   ],
   "source": [
    "df.fillna(0)   # 用0代替缺失值NA"
   ],
   "metadata": {
    "pycharm": {
     "metadata": false,
     "name": "#%%\n",
     "is_executing": false
    }
   }
  },
  {
   "cell_type": "code",
   "execution_count": 3,
   "outputs": [
    {
     "data": {
      "text/plain": "          0         1         2\n0  0.133708  0.869390  1.017885\n1 -0.152254  0.869390  1.017885\n2  0.677750  0.869390  1.017885\n3 -0.232096  0.869390 -1.495759\n4 -1.002455  0.869390  0.653912\n5 -0.149095  0.578337 -0.816572\n6  1.640716  0.775522 -0.564226",
      "text/html": "<div>\n<style scoped>\n    .dataframe tbody tr th:only-of-type {\n        vertical-align: middle;\n    }\n\n    .dataframe tbody tr th {\n        vertical-align: top;\n    }\n\n    .dataframe thead th {\n        text-align: right;\n    }\n</style>\n<table border=\"1\" class=\"dataframe\">\n  <thead>\n    <tr style=\"text-align: right;\">\n      <th></th>\n      <th>0</th>\n      <th>1</th>\n      <th>2</th>\n    </tr>\n  </thead>\n  <tbody>\n    <tr>\n      <th>0</th>\n      <td>0.133708</td>\n      <td>0.869390</td>\n      <td>1.017885</td>\n    </tr>\n    <tr>\n      <th>1</th>\n      <td>-0.152254</td>\n      <td>0.869390</td>\n      <td>1.017885</td>\n    </tr>\n    <tr>\n      <th>2</th>\n      <td>0.677750</td>\n      <td>0.869390</td>\n      <td>1.017885</td>\n    </tr>\n    <tr>\n      <th>3</th>\n      <td>-0.232096</td>\n      <td>0.869390</td>\n      <td>-1.495759</td>\n    </tr>\n    <tr>\n      <th>4</th>\n      <td>-1.002455</td>\n      <td>0.869390</td>\n      <td>0.653912</td>\n    </tr>\n    <tr>\n      <th>5</th>\n      <td>-0.149095</td>\n      <td>0.578337</td>\n      <td>-0.816572</td>\n    </tr>\n    <tr>\n      <th>6</th>\n      <td>1.640716</td>\n      <td>0.775522</td>\n      <td>-0.564226</td>\n    </tr>\n  </tbody>\n</table>\n</div>"
     },
     "metadata": {},
     "output_type": "execute_result",
     "execution_count": 3
    }
   ],
   "source": [
    "df.fillna(method='bfill')"
   ],
   "metadata": {
    "pycharm": {
     "metadata": false,
     "name": "#%%\n",
     "is_executing": false
    }
   }
  },
  {
   "cell_type": "code",
   "execution_count": 4,
   "outputs": [
    {
     "data": {
      "text/plain": "          0         1         2\n0  0.133708  0.500000  0.000000\n1 -0.152254  0.500000  0.000000\n2  0.677750  0.500000  1.017885\n3 -0.232096  0.500000 -1.495759\n4 -1.002455  0.869390  0.653912\n5 -0.149095  0.578337 -0.816572\n6  1.640716  0.775522 -0.564226",
      "text/html": "<div>\n<style scoped>\n    .dataframe tbody tr th:only-of-type {\n        vertical-align: middle;\n    }\n\n    .dataframe tbody tr th {\n        vertical-align: top;\n    }\n\n    .dataframe thead th {\n        text-align: right;\n    }\n</style>\n<table border=\"1\" class=\"dataframe\">\n  <thead>\n    <tr style=\"text-align: right;\">\n      <th></th>\n      <th>0</th>\n      <th>1</th>\n      <th>2</th>\n    </tr>\n  </thead>\n  <tbody>\n    <tr>\n      <th>0</th>\n      <td>0.133708</td>\n      <td>0.500000</td>\n      <td>0.000000</td>\n    </tr>\n    <tr>\n      <th>1</th>\n      <td>-0.152254</td>\n      <td>0.500000</td>\n      <td>0.000000</td>\n    </tr>\n    <tr>\n      <th>2</th>\n      <td>0.677750</td>\n      <td>0.500000</td>\n      <td>1.017885</td>\n    </tr>\n    <tr>\n      <th>3</th>\n      <td>-0.232096</td>\n      <td>0.500000</td>\n      <td>-1.495759</td>\n    </tr>\n    <tr>\n      <th>4</th>\n      <td>-1.002455</td>\n      <td>0.869390</td>\n      <td>0.653912</td>\n    </tr>\n    <tr>\n      <th>5</th>\n      <td>-0.149095</td>\n      <td>0.578337</td>\n      <td>-0.816572</td>\n    </tr>\n    <tr>\n      <th>6</th>\n      <td>1.640716</td>\n      <td>0.775522</td>\n      <td>-0.564226</td>\n    </tr>\n  </tbody>\n</table>\n</div>"
     },
     "metadata": {},
     "output_type": "execute_result",
     "execution_count": 4
    }
   ],
   "source": [
    "df.fillna(value={1: 0.5, 2: 0}) # 不同的列用不同的填充值进行填充"
   ],
   "metadata": {
    "pycharm": {
     "metadata": false,
     "name": "#%%\n",
     "is_executing": false
    }
   }
  },
  {
   "cell_type": "code",
   "execution_count": 5,
   "outputs": [
    {
     "data": {
      "text/plain": "          0         1         2\n0  0.133708  0.000000  0.000000\n1 -0.152254  0.000000  0.000000\n2  0.677750  0.000000  1.017885\n3 -0.232096  0.000000 -1.495759\n4 -1.002455  0.869390  0.653912\n5 -0.149095  0.578337 -0.816572\n6  1.640716  0.775522 -0.564226",
      "text/html": "<div>\n<style scoped>\n    .dataframe tbody tr th:only-of-type {\n        vertical-align: middle;\n    }\n\n    .dataframe tbody tr th {\n        vertical-align: top;\n    }\n\n    .dataframe thead th {\n        text-align: right;\n    }\n</style>\n<table border=\"1\" class=\"dataframe\">\n  <thead>\n    <tr style=\"text-align: right;\">\n      <th></th>\n      <th>0</th>\n      <th>1</th>\n      <th>2</th>\n    </tr>\n  </thead>\n  <tbody>\n    <tr>\n      <th>0</th>\n      <td>0.133708</td>\n      <td>0.000000</td>\n      <td>0.000000</td>\n    </tr>\n    <tr>\n      <th>1</th>\n      <td>-0.152254</td>\n      <td>0.000000</td>\n      <td>0.000000</td>\n    </tr>\n    <tr>\n      <th>2</th>\n      <td>0.677750</td>\n      <td>0.000000</td>\n      <td>1.017885</td>\n    </tr>\n    <tr>\n      <th>3</th>\n      <td>-0.232096</td>\n      <td>0.000000</td>\n      <td>-1.495759</td>\n    </tr>\n    <tr>\n      <th>4</th>\n      <td>-1.002455</td>\n      <td>0.869390</td>\n      <td>0.653912</td>\n    </tr>\n    <tr>\n      <th>5</th>\n      <td>-0.149095</td>\n      <td>0.578337</td>\n      <td>-0.816572</td>\n    </tr>\n    <tr>\n      <th>6</th>\n      <td>1.640716</td>\n      <td>0.775522</td>\n      <td>-0.564226</td>\n    </tr>\n  </tbody>\n</table>\n</div>"
     },
     "metadata": {},
     "output_type": "execute_result",
     "execution_count": 5
    }
   ],
   "source": [
    "df.fillna(0, inplace=True)  # df发生变化\n",
    "df"
   ],
   "metadata": {
    "pycharm": {
     "metadata": false,
     "name": "#%%\n",
     "is_executing": false
    }
   }
  },
  {
   "cell_type": "code",
   "execution_count": 6,
   "outputs": [
    {
     "data": {
      "text/plain": "          0         1         2\n0  0.286093  1.033250  0.048941\n1  1.016756  0.920037  0.973772\n2  0.294090       NaN  1.012717\n3 -0.393015       NaN  0.105540\n4 -0.308137       NaN       NaN\n5 -0.683320       NaN       NaN",
      "text/html": "<div>\n<style scoped>\n    .dataframe tbody tr th:only-of-type {\n        vertical-align: middle;\n    }\n\n    .dataframe tbody tr th {\n        vertical-align: top;\n    }\n\n    .dataframe thead th {\n        text-align: right;\n    }\n</style>\n<table border=\"1\" class=\"dataframe\">\n  <thead>\n    <tr style=\"text-align: right;\">\n      <th></th>\n      <th>0</th>\n      <th>1</th>\n      <th>2</th>\n    </tr>\n  </thead>\n  <tbody>\n    <tr>\n      <th>0</th>\n      <td>0.286093</td>\n      <td>1.033250</td>\n      <td>0.048941</td>\n    </tr>\n    <tr>\n      <th>1</th>\n      <td>1.016756</td>\n      <td>0.920037</td>\n      <td>0.973772</td>\n    </tr>\n    <tr>\n      <th>2</th>\n      <td>0.294090</td>\n      <td>NaN</td>\n      <td>1.012717</td>\n    </tr>\n    <tr>\n      <th>3</th>\n      <td>-0.393015</td>\n      <td>NaN</td>\n      <td>0.105540</td>\n    </tr>\n    <tr>\n      <th>4</th>\n      <td>-0.308137</td>\n      <td>NaN</td>\n      <td>NaN</td>\n    </tr>\n    <tr>\n      <th>5</th>\n      <td>-0.683320</td>\n      <td>NaN</td>\n      <td>NaN</td>\n    </tr>\n  </tbody>\n</table>\n</div>"
     },
     "metadata": {},
     "output_type": "execute_result",
     "execution_count": 6
    }
   ],
   "source": [
    "df1 = pd.DataFrame(np.random.randn(6, 3))\n",
    "df1.iloc[2:, 1] = NA\n",
    "df1.iloc[4:, 2] = NA\n",
    "df1"
   ],
   "metadata": {
    "pycharm": {
     "metadata": false,
     "name": "#%%\n",
     "is_executing": false
    }
   }
  },
  {
   "cell_type": "code",
   "execution_count": 7,
   "outputs": [
    {
     "data": {
      "text/plain": "          0         1         2\n0  0.286093  1.033250  0.048941\n1  1.016756  0.920037  0.973772\n2  0.294090  0.920037  1.012717\n3 -0.393015  0.920037  0.105540\n4 -0.308137  0.920037  0.105540\n5 -0.683320  0.920037  0.105540",
      "text/html": "<div>\n<style scoped>\n    .dataframe tbody tr th:only-of-type {\n        vertical-align: middle;\n    }\n\n    .dataframe tbody tr th {\n        vertical-align: top;\n    }\n\n    .dataframe thead th {\n        text-align: right;\n    }\n</style>\n<table border=\"1\" class=\"dataframe\">\n  <thead>\n    <tr style=\"text-align: right;\">\n      <th></th>\n      <th>0</th>\n      <th>1</th>\n      <th>2</th>\n    </tr>\n  </thead>\n  <tbody>\n    <tr>\n      <th>0</th>\n      <td>0.286093</td>\n      <td>1.033250</td>\n      <td>0.048941</td>\n    </tr>\n    <tr>\n      <th>1</th>\n      <td>1.016756</td>\n      <td>0.920037</td>\n      <td>0.973772</td>\n    </tr>\n    <tr>\n      <th>2</th>\n      <td>0.294090</td>\n      <td>0.920037</td>\n      <td>1.012717</td>\n    </tr>\n    <tr>\n      <th>3</th>\n      <td>-0.393015</td>\n      <td>0.920037</td>\n      <td>0.105540</td>\n    </tr>\n    <tr>\n      <th>4</th>\n      <td>-0.308137</td>\n      <td>0.920037</td>\n      <td>0.105540</td>\n    </tr>\n    <tr>\n      <th>5</th>\n      <td>-0.683320</td>\n      <td>0.920037</td>\n      <td>0.105540</td>\n    </tr>\n  </tbody>\n</table>\n</div>"
     },
     "metadata": {},
     "output_type": "execute_result",
     "execution_count": 7
    }
   ],
   "source": [
    "df1.fillna(method='ffill')"
   ],
   "metadata": {
    "pycharm": {
     "metadata": false,
     "name": "#%%\n",
     "is_executing": false
    }
   }
  },
  {
   "cell_type": "code",
   "execution_count": 8,
   "outputs": [
    {
     "data": {
      "text/plain": "          0         1         2\n0  0.286093  1.033250  0.048941\n1  1.016756  0.920037  0.973772\n2  0.294090  0.920037  1.012717\n3 -0.393015  0.920037  0.105540\n4 -0.308137       NaN  0.105540\n5 -0.683320       NaN  0.105540",
      "text/html": "<div>\n<style scoped>\n    .dataframe tbody tr th:only-of-type {\n        vertical-align: middle;\n    }\n\n    .dataframe tbody tr th {\n        vertical-align: top;\n    }\n\n    .dataframe thead th {\n        text-align: right;\n    }\n</style>\n<table border=\"1\" class=\"dataframe\">\n  <thead>\n    <tr style=\"text-align: right;\">\n      <th></th>\n      <th>0</th>\n      <th>1</th>\n      <th>2</th>\n    </tr>\n  </thead>\n  <tbody>\n    <tr>\n      <th>0</th>\n      <td>0.286093</td>\n      <td>1.033250</td>\n      <td>0.048941</td>\n    </tr>\n    <tr>\n      <th>1</th>\n      <td>1.016756</td>\n      <td>0.920037</td>\n      <td>0.973772</td>\n    </tr>\n    <tr>\n      <th>2</th>\n      <td>0.294090</td>\n      <td>0.920037</td>\n      <td>1.012717</td>\n    </tr>\n    <tr>\n      <th>3</th>\n      <td>-0.393015</td>\n      <td>0.920037</td>\n      <td>0.105540</td>\n    </tr>\n    <tr>\n      <th>4</th>\n      <td>-0.308137</td>\n      <td>NaN</td>\n      <td>0.105540</td>\n    </tr>\n    <tr>\n      <th>5</th>\n      <td>-0.683320</td>\n      <td>NaN</td>\n      <td>0.105540</td>\n    </tr>\n  </tbody>\n</table>\n</div>"
     },
     "metadata": {},
     "output_type": "execute_result",
     "execution_count": 8
    }
   ],
   "source": [
    "df1.fillna(method='ffill', limit=2)"
   ],
   "metadata": {
    "pycharm": {
     "metadata": false,
     "name": "#%%\n",
     "is_executing": false
    }
   }
  },
  {
   "cell_type": "code",
   "execution_count": 27,
   "outputs": [],
   "source": [
    "# 举例\n",
    "import matplotlib.pyplot as plt\n",
    "import matplotlib\n",
    "import seaborn as sns\n",
    "from scipy.interpolate import  lagrange\n",
    "import copy\n",
    "\n",
    "matplotlib.rcParams['font.sans-serif'] = ['SimHei']\n",
    "matplotlib.rcParams['axes.unicode_minus'] = False\n",
    "\n",
    "data = pd.Series(np.random.rand(100)*100)\n",
    "data[3, 6, 33, 56, 45, 66, 80, 90] = np.nan"
   ],
   "metadata": {
    "pycharm": {
     "metadata": false,
     "name": "#%%\n",
     "is_executing": false
    }
   }
  },
  {
   "cell_type": "code",
   "execution_count": 28,
   "outputs": [
    {
     "data": {
      "text/plain": "0     73.823246\n1     54.288379\n2     70.292994\n3     54.597962\n4     62.837052\n        ...    \n95     7.824852\n96    43.958786\n97    11.040603\n98    72.942227\n99    80.668603\nLength: 100, dtype: float64"
     },
     "metadata": {},
     "output_type": "execute_result",
     "execution_count": 28
    }
   ],
   "source": [
    "data_m = data.fillna(data.median()) # 中位数填充缺失值\n",
    "data_m"
   ],
   "metadata": {
    "pycharm": {
     "metadata": false,
     "name": "#%%\n",
     "is_executing": false
    }
   }
  },
  {
   "cell_type": "code",
   "execution_count": 29,
   "outputs": [
    {
     "name": "stdout",
     "text": [
      "在 3 个位置填充缺失值 64.40027512249438\n在 6 个位置填充缺失值 96.44978038822546\n",
      "在 33 个位置填充缺失值 -6.227957725524902\n",
      "在 45 个位置填充缺失值 6.58740234375\n在 56 个位置填充缺失值 97.486328125\n",
      "在 66 个位置填充缺失值 -728.46875\n在",
      " 80 个位置填充缺失值 -400.0\n在 90 个位置填充缺失值 -13696.0\n"
     ],
     "output_type": "stream"
    },
    {
     "data": {
      "text/plain": "0     73.823246\n1     54.288379\n2     70.292994\n3     64.400275\n4     62.837052\n        ...    \n95     7.824852\n96    43.958786\n97    11.040603\n98    72.942227\n99    80.668603\nLength: 100, dtype: float64"
     },
     "metadata": {},
     "output_type": "execute_result",
     "execution_count": 29
    }
   ],
   "source": [
    "data_la = copy.deepcopy(data)\n",
    "def La(s, n, k=5):\n",
    "    y = s.reindex(list(range(n-k, n+1+k)))\n",
    "    y = y[y.notnull()]\n",
    "    return lagrange(y.index, list(y))(n)\n",
    "\n",
    "for i in range(len(data)):\n",
    "    if data_la .isnull()[i]:\n",
    "        data_la.iloc[i] = La(data, i)\n",
    "        print('在', i, '个位置填充缺失值', La(data_la , i))\n",
    "\n",
    "data_la.dropna(inplace=True)\n",
    "data_la"
   ],
   "metadata": {
    "pycharm": {
     "metadata": false,
     "name": "#%%\n",
     "is_executing": false
    }
   }
  },
  {
   "cell_type": "code",
   "execution_count": 30,
   "outputs": [
    {
     "data": {
      "text/plain": "<matplotlib.legend.Legend at 0x1f686eefc50>"
     },
     "metadata": {},
     "output_type": "execute_result",
     "execution_count": 30
    },
    {
     "data": {
      "text/plain": "<Figure size 720x504 with 1 Axes>",
      "image/png": "[encoded data removed]"
     },
     "metadata": {
      "needs_background": "light"
     },
     "output_type": "display_data"
    }
   ],
   "source": [
    "plt.figure(figsize=(10, 7))\n",
    "ax = plt.subplot(111)\n",
    "sns.kdeplot(data, shade=True, color=\"r\", label='未进行填充')\n",
    "sns.kdeplot(data_m, shade=True, color=\"g\", label='中位数填充')\n",
    "sns.kdeplot(data_la, shade=True, color='b', label='拉格朗日插值法填充')\n",
    "ax.legend()"
   ],
   "metadata": {
    "pycharm": {
     "metadata": false,
     "name": "#%%\n",
     "is_executing": false
    }
   }
  },
  {
   "cell_type": "code",
   "execution_count": 30,
   "outputs": [],
   "source": [],
   "metadata": {
    "pycharm": {
     "metadata": false,
     "name": "#%%",
     "is_executing": false
    }
   }
  }
 ],
 "metadata": {
  "language_info": {
   "codemirror_mode": {
    "name": "ipython",
    "version": 2
   },
   "file_extension": ".py",
   "mimetype": "text/x-python",
   "name": "python",
   "nbconvert_exporter": "python",
   "pygments_lexer": "ipython2",
   "version": "2.7.6"
  },
  "kernelspec": {
   "name": "python3",
   "language": "python",
   "display_name": "Python 3"
  },
  "pycharm": {
   "stem_cell": {
    "cell_type": "raw",
    "source": [],
    "metadata": {
     "collapsed": false
    }
   }
  }
 },
 "nbformat": 4,
 "nbformat_minor": 0
}