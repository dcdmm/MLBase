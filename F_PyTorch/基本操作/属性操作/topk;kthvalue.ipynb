{
 "cells": [
  {
   "cell_type": "code",
   "execution_count": 57,
   "outputs": [
    {
     "data": {
      "text/plain": "tensor([[[ 68,  10,  23,  44,  55,  32,  65,   2],\n         [ 56,  81,  59,  40,   3,   0,  48,  80],\n         [ 47, 111,  13,  74,  95,  26,  42,   7],\n         [ 63,  20,  31,  29,   8, 114,  28,  97]],\n\n        [[  6, 126, 116,  61,  11, 117,  51,  64],\n         [  5,  22, 102,  54, 115,  25,  50,  87],\n         [ 69,  21,  41, 104,  92,  83, 103,  99],\n         [ 17,  93,  84,  35,  34,  62,  88,  86]],\n\n        [[ 19,  33, 108, 100,  89, 112,  98,  94],\n         [ 71, 119,  15,  49, 106, 110,  27,  79],\n         [ 39, 118,  58,   9, 121, 113,  46,  14],\n         [ 82,  66, 107,  57,  70,  43,  24, 122]],\n\n        [[ 90, 127, 123,  85,  96,   1, 124,  75],\n         [ 38,  78, 105,  30, 125, 120,  18,  45],\n         [ 72,  53,  36,  67,  12,  60,  16,  91],\n         [109,  73,  37,   4,  76,  52, 101,  77]]])"
     },
     "execution_count": 57,
     "metadata": {},
     "output_type": "execute_result"
    }
   ],
   "source": [
    "import torch\n",
    "\n",
    "x = torch.arange(128)\n",
    "ix = torch.randperm(128)\n",
    "x = x[ix].reshape(4, 4, 8) # 对x随机化\n",
    "x"
   ],
   "metadata": {
    "collapsed": false,
    "pycharm": {
     "name": "#%%\n"
    }
   }
  },
  {
   "cell_type": "code",
   "execution_count": 58,
   "outputs": [
    {
     "data": {
      "text/plain": "torch.return_types.topk(\nvalues=tensor([[[ 90, 127, 123, 100,  96, 117, 124,  94],\n         [ 71, 119, 105,  54, 125, 120,  50,  87],\n         [ 72, 118,  58, 104, 121, 113, 103,  99],\n         [109,  93, 107,  57,  76, 114, 101, 122]],\n\n        [[ 68, 126, 116,  85,  89, 112,  98,  75],\n         [ 56,  81, 102,  49, 115, 110,  48,  80],\n         [ 69, 111,  41,  74,  95,  83,  46,  91],\n         [ 82,  73,  84,  35,  70,  62,  88,  97]]]),\nindices=tensor([[[3, 3, 3, 2, 3, 1, 3, 2],\n         [2, 2, 3, 1, 3, 3, 1, 1],\n         [3, 2, 2, 1, 2, 2, 1, 1],\n         [3, 1, 2, 2, 3, 0, 3, 2]],\n\n        [[0, 1, 1, 3, 2, 2, 2, 3],\n         [0, 0, 1, 2, 1, 2, 0, 0],\n         [1, 0, 1, 0, 0, 1, 2, 3],\n         [2, 3, 1, 1, 2, 1, 1, 0]]]))"
     },
     "execution_count": 58,
     "metadata": {},
     "output_type": "execute_result"
    }
   ],
   "source": [
    "torch.topk(x, k=2, dim=0) # 返回x在维度dim上最大的k个元素及这k个元素在维度dim上的索引"
   ],
   "metadata": {
    "collapsed": false,
    "pycharm": {
     "name": "#%%\n"
    }
   }
  },
  {
   "cell_type": "code",
   "execution_count": 59,
   "outputs": [
    {
     "data": {
      "text/plain": "torch.return_types.topk(\nvalues=tensor([[[  6,  10,  23,  44,  11,   1,  51,   2],\n         [  5,  22,  15,  30,   3,   0,  18,  45],\n         [ 39,  21,  13,   9,  12,  26,  16,   7],\n         [ 17,  20,  31,   4,   8,  43,  24,  77]],\n\n        [[ 19,  33, 108,  61,  55,  32,  65,  64],\n         [ 38,  78,  59,  40, 106,  25,  27,  79],\n         [ 47,  53,  36,  67,  92,  60,  42,  14],\n         [ 63,  66,  37,  29,  34,  52,  28,  86]]]),\nindices=tensor([[[1, 0, 0, 0, 1, 3, 1, 0],\n         [1, 1, 2, 3, 0, 0, 3, 3],\n         [2, 1, 0, 2, 3, 0, 3, 0],\n         [1, 0, 0, 3, 0, 2, 2, 3]],\n\n        [[2, 2, 2, 1, 0, 0, 0, 1],\n         [3, 3, 0, 0, 2, 1, 2, 2],\n         [0, 3, 3, 3, 1, 3, 0, 2],\n         [0, 2, 3, 0, 1, 3, 0, 1]]]))"
     },
     "execution_count": 59,
     "metadata": {},
     "output_type": "execute_result"
    }
   ],
   "source": [
    "torch.topk(x, k=2, dim=0,\n",
    "           largest=False) # 返回x在维度dim上最小的k个元素及这k个元素在维度dim上的索引"
   ],
   "metadata": {
    "collapsed": false,
    "pycharm": {
     "name": "#%%\n"
    }
   }
  },
  {
   "cell_type": "code",
   "execution_count": 60,
   "outputs": [
    {
     "data": {
      "text/plain": "torch.return_types.kthvalue(\nvalues=tensor([[ 6, 10, 23, 44, 11,  1, 51,  2],\n        [ 5, 22, 15, 30,  3,  0, 18, 45],\n        [39, 21, 13,  9, 12, 26, 16,  7],\n        [17, 20, 31,  4,  8, 43, 24, 77]]),\nindices=tensor([[1, 0, 0, 0, 1, 3, 1, 0],\n        [1, 1, 2, 3, 0, 0, 3, 3],\n        [2, 1, 0, 2, 3, 0, 3, 0],\n        [1, 0, 0, 3, 0, 2, 2, 3]]))"
     },
     "execution_count": 60,
     "metadata": {},
     "output_type": "execute_result"
    }
   ],
   "source": [
    "torch.kthvalue(x, k=1, dim=0) # 返回x在维度dim上排序第1(从0开始)大的元素及这个元素在维度dim上的索引"
   ],
   "metadata": {
    "collapsed": false,
    "pycharm": {
     "name": "#%%\n"
    }
   }
  }
 ],
 "metadata": {
  "kernelspec": {
   "display_name": "Python 3",
   "language": "python",
   "name": "python3"
  },
  "language_info": {
   "codemirror_mode": {
    "name": "ipython",
    "version": 2
   },
   "file_extension": ".py",
   "mimetype": "text/x-python",
   "name": "python",
   "nbconvert_exporter": "python",
   "pygments_lexer": "ipython2",
   "version": "2.7.6"
  }
 },
 "nbformat": 4,
 "nbformat_minor": 0
}