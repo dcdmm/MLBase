{
 "cells": [
  {
   "cell_type": "markdown",
   "source": [
    "### 基本参数理解"
   ],
   "metadata": {
    "collapsed": false,
    "pycharm": {
     "name": "#%% md\n"
    }
   }
  },
  {
   "cell_type": "code",
   "execution_count": 7,
   "outputs": [],
   "source": [
    "import torch\n",
    "import torch.utils.data as Data\n",
    "\n",
    "BATCH_SIZE = 4\n",
    "\n",
    "x = torch.linspace(0.01, 0.1, 25)\n",
    "y = torch.linspace(1, 10, 25)\n",
    "\n",
    "torch_dataset = Data.TensorDataset(x, y)  # 包装数据集"
   ],
   "metadata": {
    "collapsed": false,
    "pycharm": {
     "name": "#%%\n"
    }
   }
  },
  {
   "cell_type": "code",
   "execution_count": 8,
   "outputs": [
    {
     "name": "stdout",
     "output_type": "stream",
     "text": [
      "batch:0, batch_data:[tensor([0.0550, 0.0250, 0.0363, 0.0437]), tensor([5.5000, 2.5000, 3.6250, 4.3750])]\n",
      "batch:1, batch_data:[tensor([0.0587, 0.0475, 0.0812, 0.0400]), tensor([5.8750, 4.7500, 8.1250, 4.0000])]\n",
      "batch:2, batch_data:[tensor([0.0213, 0.0850, 0.0662, 0.1000]), tensor([ 2.1250,  8.5000,  6.6250, 10.0000])]\n",
      "batch:3, batch_data:[tensor([0.0738, 0.0625, 0.0100, 0.0325]), tensor([7.3750, 6.2500, 1.0000, 3.2500])]\n",
      "batch:4, batch_data:[tensor([0.0512, 0.0888, 0.0700, 0.0775]), tensor([5.1250, 8.8750, 7.0000, 7.7500])]\n",
      "batch:5, batch_data:[tensor([0.0137, 0.0962, 0.0925, 0.0175]), tensor([1.3750, 9.6250, 9.2500, 1.7500])]\n",
      "batch:6, batch_data:[tensor([0.0288]), tensor([2.8750])]\n",
      "\n",
      "batch:0, batch_data:[tensor([0.0812, 0.0213, 0.0512, 0.0325]), tensor([8.1250, 2.1250, 5.1250, 3.2500])]\n",
      "batch:1, batch_data:[tensor([0.0850, 0.0775, 0.0100, 0.0888]), tensor([8.5000, 7.7500, 1.0000, 8.8750])]\n",
      "batch:2, batch_data:[tensor([0.0400, 0.0738, 0.0550, 0.0925]), tensor([4.0000, 7.3750, 5.5000, 9.2500])]\n",
      "batch:3, batch_data:[tensor([0.0700, 0.0137, 0.0250, 0.0625]), tensor([7.0000, 1.3750, 2.5000, 6.2500])]\n",
      "batch:4, batch_data:[tensor([0.0962, 0.1000, 0.0437, 0.0288]), tensor([ 9.6250, 10.0000,  4.3750,  2.8750])]\n",
      "batch:5, batch_data:[tensor([0.0175, 0.0587, 0.0363, 0.0475]), tensor([1.7500, 5.8750, 3.6250, 4.7500])]\n",
      "batch:6, batch_data:[tensor([0.0662]), tensor([6.6250])]\n",
      "\n",
      "batch:0, batch_data:[tensor([0.0250, 0.0175, 0.0625, 0.0775]), tensor([2.5000, 1.7500, 6.2500, 7.7500])]\n",
      "batch:1, batch_data:[tensor([0.0738, 0.0100, 0.1000, 0.0550]), tensor([ 7.3750,  1.0000, 10.0000,  5.5000])]\n",
      "batch:2, batch_data:[tensor([0.0587, 0.0437, 0.0812, 0.0850]), tensor([5.8750, 4.3750, 8.1250, 8.5000])]\n",
      "batch:3, batch_data:[tensor([0.0400, 0.0888, 0.0213, 0.0512]), tensor([4.0000, 8.8750, 2.1250, 5.1250])]\n",
      "batch:4, batch_data:[tensor([0.0700, 0.0288, 0.0925, 0.0662]), tensor([7.0000, 2.8750, 9.2500, 6.6250])]\n",
      "batch:5, batch_data:[tensor([0.0137, 0.0962, 0.0325, 0.0475]), tensor([1.3750, 9.6250, 3.2500, 4.7500])]\n",
      "batch:6, batch_data:[tensor([0.0363]), tensor([3.6250])]\n",
      "\n"
     ]
    }
   ],
   "source": [
    "def show_batch():\n",
    "    loader = Data.DataLoader(\n",
    "        dataset=torch_dataset,  # dataset from which to load the data\n",
    "        batch_size=BATCH_SIZE,  # how many samples per batch to load (default: 1)\n",
    "        # how many subprocesses to use for data loading. 0 means that the data will be loaded in the main process. (default: 0)\n",
    "        num_workers=2,  # .py文件多进程需要在if __name__ == '__main__':代码块中运行\n",
    "        drop_last=False,  # 数据集大小不能被batch_size大小整除时,是否舍弃最后一批数据(default:False)\n",
    "        # 若shuffle=True,则使用的是RandomSampler采样\n",
    "        shuffle=True,\n",
    "        #  set to True to have the data reshuffled at every epoch (default: False);内部实现为RandomSampler(dataset, generator=generator)\n",
    "        generator=torch.Generator().manual_seed(3)  # 功能类似numpy中的random_state,作用于shuffle参数\n",
    "    )\n",
    "    for epoch in range(3):\n",
    "        for step, batch_data in enumerate(loader):\n",
    "            print(\"batch:{}, batch_data:{}\".format(step, batch_data))  # tensor长度为batch_size\n",
    "        print()  # 换行\n",
    "\n",
    "\n",
    "show_batch()\n"
   ],
   "metadata": {
    "collapsed": false,
    "pycharm": {
     "name": "#%%\n"
    }
   }
  }
 ],
 "metadata": {
  "kernelspec": {
   "display_name": "Python 3",
   "language": "python",
   "name": "python3"
  },
  "language_info": {
   "codemirror_mode": {
    "name": "ipython",
    "version": 2
   },
   "file_extension": ".py",
   "mimetype": "text/x-python",
   "name": "python",
   "nbconvert_exporter": "python",
   "pygments_lexer": "ipython2",
   "version": "2.7.6"
  }
 },
 "nbformat": 4,
 "nbformat_minor": 0
}