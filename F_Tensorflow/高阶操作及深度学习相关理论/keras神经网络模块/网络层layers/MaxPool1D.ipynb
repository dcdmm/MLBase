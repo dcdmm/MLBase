{
 "cells": [
  {
   "cell_type": "code",
   "execution_count": 18,
   "metadata": {
    "collapsed": true
   },
   "outputs": [],
   "source": [
    "import tensorflow as tf\n",
    "import os\n",
    "\n",
    "os.environ[\"CUDA_VISIBLE_DEVICES\"] = \"-1\"  # 使用cpu训练"
   ]
  },
  {
   "cell_type": "markdown",
   "source": [
    "### 参考torch.nn.MaxPool1D"
   ],
   "metadata": {
    "collapsed": false,
    "pycharm": {
     "name": "#%% md\n"
    }
   }
  },
  {
   "cell_type": "code",
   "execution_count": null,
   "outputs": [],
   "source": [
    "'''\n",
    "MaxPool1D默认参数:\n",
    "tf.keras.layers.MaxPool1D(\n",
    "    pool_size=2, strides=None, padding='valid',\n",
    "    data_format='channels_last', **kwargs\n",
    ")\n",
    "'''\n",
    "# C_in和C_out在最后一个维度(注意和pytorch的区别)\n",
    "# Input: (N, C_in, L_in)\n",
    "# Out: (N, C_out, L_in)\n",
    "enter = tf.random.stateless_normal(shape=(20, 50, 16), seed=(1, 1))\n",
    "layer = tf.keras.layers.MaxPool1D(pool_size=3,\n",
    "                                  strides=1,\n",
    "                                  # One of \"valid\" or \"same\" (case-insensitive).\n",
    "                                  # \"valid\" means no padding.\n",
    "                                  # \"same\" results in padding evenly to the left/right or up/down of the input such that output has the same height/width dimension as the input.\n",
    "                                  padding=\"valid\")\n",
    "\n"
   ],
   "metadata": {
    "collapsed": false,
    "pycharm": {
     "name": "#%%\n"
    }
   }
  },
  {
   "cell_type": "code",
   "execution_count": 20,
   "outputs": [
    {
     "data": {
      "text/plain": "<keras.layers.pooling.MaxPooling1D at 0x1a39580ebe0>"
     },
     "execution_count": 20,
     "metadata": {},
     "output_type": "execute_result"
    }
   ],
   "source": [
    "layer"
   ],
   "metadata": {
    "collapsed": false,
    "pycharm": {
     "name": "#%%"
    }
   }
  },
  {
   "cell_type": "code",
   "execution_count": 21,
   "outputs": [
    {
     "data": {
      "text/plain": "TensorShape([20, 48, 16])"
     },
     "execution_count": 21,
     "metadata": {},
     "output_type": "execute_result"
    }
   ],
   "source": [
    "layer(enter).shape"
   ],
   "metadata": {
    "collapsed": false,
    "pycharm": {
     "name": "#%%\n"
    }
   }
  },
  {
   "cell_type": "code",
   "execution_count": 21,
   "outputs": [],
   "source": [],
   "metadata": {
    "collapsed": false,
    "pycharm": {
     "name": "#%%\n"
    }
   }
  }
 ],
 "metadata": {
  "kernelspec": {
   "display_name": "Python 3",
   "language": "python",
   "name": "python3"
  },
  "language_info": {
   "codemirror_mode": {
    "name": "ipython",
    "version": 2
   },
   "file_extension": ".py",
   "mimetype": "text/x-python",
   "name": "python",
   "nbconvert_exporter": "python",
   "pygments_lexer": "ipython2",
   "version": "2.7.6"
  }
 },
 "nbformat": 4,
 "nbformat_minor": 0
}