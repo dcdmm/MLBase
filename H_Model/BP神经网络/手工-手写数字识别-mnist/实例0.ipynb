{
 "cells": [
  {
   "cell_type": "code",
   "execution_count": 304,
   "metadata": {
    "pycharm": {
     "name": "#%%\n"
    }
   },
   "outputs": [],
   "source": [
    "import numpy as np\n",
    "import pandas as pd\n",
    "import scipy.special"
   ]
  },
  {
   "cell_type": "code",
   "execution_count": 305,
   "metadata": {
    "pycharm": {
     "name": "#%%\n"
    }
   },
   "outputs": [],
   "source": [
    "class neuralNetwork:\n",
    "\n",
    "    def __init__(self, inputnodes, hiddennodes, outputnodes, learningrate):\n",
    "        self.inodes = inputnodes\n",
    "        self.hnodes = hiddennodes\n",
    "        self.onodes = outputnodes\n",
    "        self.vih = np.random.normal(0.0, pow(self.inodes, -0.5),\n",
    "                                    (self.hnodes, self.inodes+1)) # 初始化输入层和隐层之间的权重矩阵\n",
    "        self.whj = np.random.normal(0.0, pow(self.hnodes, -0.5),\n",
    "                                    (self.onodes, self.hnodes+1)) # 初始化隐层和输出层之间的权重矩阵\n",
    "        self.lr = learningrate\n",
    "        self.activation_function = lambda x: scipy.special.expit(x) # sigmoid激活函数\n",
    "\n",
    "    def train(self, inputs_list, targets_list):\n",
    "        inputs = inputs_list # 输入层输出\n",
    "        targets = targets_list.reshape(-1, 1)\n",
    "\n",
    "        hidden_inputs = np.dot(self.vih, inputs) # 隐藏层输入\n",
    "        hidden_outputs = self.activation_function(hidden_inputs)\n",
    "        hidden_outputs = np.concatenate((hidden_outputs, np.array([[1]])), axis=0) # 隐层输出\n",
    "        final_inputs = np.dot(self.whj, hidden_outputs) # 输出层输入\n",
    "        final_outputs = self.activation_function(final_inputs) # 输出层输出\n",
    "\n",
    "        A_2 = np.diag((final_outputs * (1-final_outputs)).reshape(-1, )) # 计算A_2\n",
    "        delta_2 = A_2 @ (final_outputs - targets) # 计算\\mathbf{\\delata}_2\n",
    "        change_whj = delta_2 @ hidden_outputs.T\n",
    "        self.whj = self.whj - self.lr * change_whj # 更新隐层和输出层之间的权重矩阵\n",
    "\n",
    "        A_1 = np.diag((hidden_outputs[:-1] * (1-hidden_outputs[:-1])).reshape(-1, ))\n",
    "        A_1 = np.concatenate((A_1, np.zeros((hidden_nodes, 1))), axis=1) # 计算A_1\n",
    "        change_vih = A_1 @ self.whj.T @ delta_2 @ inputs.reshape(1, -1)\n",
    "        self.vih = self.vih - self.lr * change_vih # 更新输入层和隐层之间的权重矩阵\n",
    "\n",
    "    def query(self, inputs_list):\n",
    "        inputs = inputs_list # 输入层输出\n",
    "        hidden_inputs = np.dot(self.vih, inputs) # 隐藏层输入\n",
    "        hidden_outputs = self.activation_function(hidden_inputs)\n",
    "        hidden_outputs = np.concatenate((hidden_outputs, np.array([[1]])), axis=0) # 隐藏层输出\n",
    "        final_inputs = np.dot(self.whj, hidden_outputs) # 输出层输入\n",
    "        final_outputs = self.activation_function(final_inputs) # 输出层输出\n",
    "\n",
    "        return final_outputs"
   ]
  },
  {
   "cell_type": "code",
   "execution_count": 306,
   "metadata": {
    "pycharm": {
     "name": "#%%\n"
    }
   },
   "outputs": [],
   "source": [
    "input_nodes = 784 # 输入层神经元个数\n",
    "hidden_nodes = 200 # 隐藏层神经元个数\n",
    "output_nodes = 10 # 输出层神经元个数(对应10个标签)\n",
    "\n",
    "learning_rate = 0.01 # 学习率\n",
    "\n",
    "# create instance of neural network\n",
    "n = neuralNetwork(input_nodes, hidden_nodes, output_nodes, learning_rate)"
   ]
  },
  {
   "cell_type": "code",
   "execution_count": 307,
   "metadata": {
    "pycharm": {
     "name": "#%%\n"
    }
   },
   "outputs": [],
   "source": [
    "training_data = pd.read_csv('mnist_train_6000.csv', header=None).values\n",
    "epochs = 20 # 训练轮数\n",
    "for e in range(epochs):\n",
    "    for i in range(training_data.shape[1]):\n",
    "        inputs = (training_data[i, 1:] / 255.0 * 0.99) + 0.01\n",
    "        inputs = np.concatenate((inputs.reshape(-1, 1), np.array([[1]])), axis=0) # 带偏置\n",
    "\n",
    "        # 独热编码\n",
    "        targets = np.zeros(output_nodes) + 0.001\n",
    "        targets[int(training_data[i, 0])] = 0.999\n",
    "\n",
    "        n.train(inputs, targets)"
   ]
  },
  {
   "cell_type": "code",
   "execution_count": 308,
   "metadata": {
    "pycharm": {
     "name": "#%%\n"
    }
   },
   "outputs": [
    {
     "name": "stdout",
     "output_type": "stream",
     "text": [
      "performance =  0.798\n"
     ]
    }
   ],
   "source": [
    "testing_data = pd.read_csv('mnist_test_1000.csv', header=None).values\n",
    "scorecard = []\n",
    "\n",
    "for j in range(testing_data.shape[0]):\n",
    "    correct_label = testing_data[j, 0]\n",
    "    inputs = (testing_data[j, 1:] / 255.0 * 0.99) + 0.01\n",
    "    inputs = np.concatenate((inputs.reshape(-1, 1), np.array([[1]])), axis=0)\n",
    "    outputs = n.query(inputs)\n",
    "    label = np.argmax(outputs)\n",
    "    if label == correct_label:\n",
    "        scorecard.append(1)\n",
    "    else:\n",
    "        scorecard.append(0)\n",
    "\n",
    "scorecard_array = np.array(scorecard)\n",
    "print (\"performance = \", scorecard_array.sum() / scorecard_array.size)\n"
   ]
  }
 ],
 "metadata": {
  "kernelspec": {
   "display_name": "Python 3",
   "language": "python",
   "name": "python3"
  },
  "language_info": {
   "codemirror_mode": {
    "name": "ipython",
    "version": 3
   },
   "file_extension": ".py",
   "mimetype": "text/x-python",
   "name": "python",
   "nbconvert_exporter": "python",
   "pygments_lexer": "ipython3",
   "version": "3.7.7"
  },
  "toc": {
   "base_numbering": 1,
   "nav_menu": {},
   "number_sections": true,
   "sideBar": true,
   "skip_h1_title": false,
   "title_cell": "Table of Contents",
   "title_sidebar": "Contents",
   "toc_cell": false,
   "toc_position": {},
   "toc_section_display": true,
   "toc_window_display": false
  }
 },
 "nbformat": 4,
 "nbformat_minor": 1
}