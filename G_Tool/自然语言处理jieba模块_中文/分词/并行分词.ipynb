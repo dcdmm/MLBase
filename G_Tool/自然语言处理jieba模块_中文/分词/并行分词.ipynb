{
 "cells": [
  {
   "cell_type": "code",
   "execution_count": 5,
   "metadata": {
    "collapsed": true
   },
   "outputs": [],
   "source": [
    "import time\n",
    "import jieba\n",
    "\n",
    "jieba.enable_parallel()  # 开启并行分词模式(不支持Windows系统，需在Linux系统上进行)\n",
    "content = open('西游记.txt', \"r\", encoding='gb18030').read()"
   ]
  },
  {
   "cell_type": "code",
   "execution_count": 6,
   "metadata": {
    "pycharm": {
     "name": "#%%\n"
    }
   },
   "outputs": [
    {
     "name": "stdout",
     "output_type": "stream",
     "text": [
      "并行分词速度为 459099.03429680713 bytes/second\n"
     ]
    }
   ],
   "source": [
    "t1 = time.time()\n",
    "words = \"/ \".join(jieba.cut(content))\n",
    "t2 = time.time()\n",
    "tm_cost = t2 - t1\n",
    "print('并行分词速度为 %s bytes/second' % (len(content) / tm_cost))  # 并行速度较快"
   ]
  },
  {
   "cell_type": "code",
   "execution_count": 7,
   "metadata": {
    "pycharm": {
     "name": "#%%\n"
    }
   },
   "outputs": [
    {
     "name": "stdout",
     "output_type": "stream",
     "text": [
      "非并行分词速度为 159814.07927955856 bytes/second\n"
     ]
    }
   ],
   "source": [
    "jieba.disable_parallel()  # 关闭并行分词模式\n",
    "content_d = open('西游记.txt', \"r\", encoding='gb18030').read()\n",
    "t1_d = time.time()\n",
    "words_d = \"/ \".join(jieba.cut(content_d))\n",
    "t2_d = time.time()\n",
    "tm_cost_d = t2_d - t1_d\n",
    "print('非并行分词速度为 %s bytes/second' % (len(content_d) / tm_cost_d))"
   ]
  }
 ],
 "metadata": {
  "kernelspec": {
   "display_name": "Python 3",
   "language": "python",
   "name": "python3"
  },
  "language_info": {
   "codemirror_mode": {
    "name": "ipython",
    "version": 3
   },
   "file_extension": ".py",
   "mimetype": "text/x-python",
   "name": "python",
   "nbconvert_exporter": "python",
   "pygments_lexer": "ipython3",
   "version": "3.7.7"
  },
  "toc": {
   "base_numbering": 1,
   "nav_menu": {},
   "number_sections": true,
   "sideBar": true,
   "skip_h1_title": false,
   "title_cell": "Table of Contents",
   "title_sidebar": "Contents",
   "toc_cell": false,
   "toc_position": {},
   "toc_section_display": true,
   "toc_window_display": false
  }
 },
 "nbformat": 4,
 "nbformat_minor": 1
}
