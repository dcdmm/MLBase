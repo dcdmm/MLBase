{
 "cells": [
  {
   "cell_type": "code",
   "execution_count": 19,
   "metadata": {
    "collapsed": true
   },
   "outputs": [],
   "source": [
    "from sklearn import datasets\n",
    "from sklearn.model_selection import train_test_split\n",
    "import numpy as np\n",
    "import tensorflow as tf\n",
    "from sklearn.preprocessing import OrdinalEncoder"
   ]
  },
  {
   "cell_type": "code",
   "execution_count": 20,
   "outputs": [
    {
     "name": "stdout",
     "output_type": "stream",
     "text": [
      "(4500, 54) (4500,)\n",
      "[0. 1. 2. 3. 4. 5. 6.]\n"
     ]
    }
   ],
   "source": [
    "X = datasets.fetch_covtype().data[:5000]\n",
    "y = datasets.fetch_covtype().target[:5000]\n",
    "X_train, X_test, y_train, y_test = train_test_split(X, y, test_size=0.1)\n",
    "\n",
    "print(X_train.shape, y_train.shape)\n",
    "\n",
    "enc = OrdinalEncoder()\n",
    "y_train = enc.fit_transform(y_train.reshape(-1, 1)).reshape(-1, )\n",
    "y_test = enc.transform(y_test.reshape(-1, 1)).reshape(-1, )\n",
    "print(np.unique(y_train))  # 7分类任务\n",
    "\n",
    "X_train, X_test, y_train, y_test = tf.constant(X_train), tf.constant(X_test), tf.constant(y_train), tf.constant(y_test)"
   ],
   "metadata": {
    "collapsed": false,
    "pycharm": {
     "name": "#%%\n"
    }
   }
  },
  {
   "cell_type": "code",
   "execution_count": 21,
   "outputs": [
    {
     "name": "stdout",
     "output_type": "stream",
     "text": [
      "Model: \"model_2\"\n",
      "_________________________________________________________________\n",
      " Layer (type)                Output Shape              Param #   \n",
      "=================================================================\n",
      " input_3 (InputLayer)        [(None, 54)]              0         \n",
      "                                                                 \n",
      " dense_8 (Dense)             (None, 256)               14080     \n",
      "                                                                 \n",
      " dropout_2 (Dropout)         (None, 256)               0         \n",
      "                                                                 \n",
      " dense_9 (Dense)             (None, 128)               32896     \n",
      "                                                                 \n",
      " dense_10 (Dense)            (None, 128)               16512     \n",
      "                                                                 \n",
      " dense_11 (Dense)            (None, 7)                 903       \n",
      "                                                                 \n",
      "=================================================================\n",
      "Total params: 64,391\n",
      "Trainable params: 64,391\n",
      "Non-trainable params: 0\n",
      "_________________________________________________________________\n"
     ]
    }
   ],
   "source": [
    "inputs = tf.keras.Input(shape=(54,))\n",
    "x = tf.keras.layers.Dense(256, activation='tanh')(inputs)\n",
    "x = tf.keras.layers.Dropout(0.2)(x)\n",
    "x = tf.keras.layers.Dense(128, activation='relu')(x)\n",
    "x = tf.keras.layers.Dense(128)(x)\n",
    "predictions = tf.keras.layers.Dense(7)(x)\n",
    "model = tf.keras.Model(inputs=inputs, outputs=predictions)\n",
    "\n",
    "model.summary()"
   ],
   "metadata": {
    "collapsed": false,
    "pycharm": {
     "name": "#%%\n"
    }
   }
  },
  {
   "cell_type": "code",
   "execution_count": 22,
   "outputs": [],
   "source": [
    "# Configures the model for training.\n",
    "model.compile(optimizer=tf.keras.optimizers.Adam(learning_rate=0.001),  # 优化器\n",
    "              loss=tf.keras.losses.SparseCategoricalCrossentropy(from_logits=True),  # 损失函数\n",
    "              metrics=['accuracy'])  # 评估函数"
   ],
   "metadata": {
    "collapsed": false,
    "pycharm": {
     "name": "#%%\n"
    }
   }
  },
  {
   "cell_type": "code",
   "execution_count": 23,
   "outputs": [
    {
     "name": "stdout",
     "output_type": "stream",
     "text": [
      "Epoch 1/10\n",
      "71/71 - 1s - loss: 1.4717 - accuracy: 0.4180 - val_loss: 1.2283 - val_accuracy: 0.5040 - 1s/epoch - 17ms/step\n",
      "Epoch 2/10\n",
      "71/71 - 0s - loss: 1.2364 - accuracy: 0.5007 - val_loss: 1.1889 - val_accuracy: 0.4900 - 255ms/epoch - 4ms/step\n",
      "Epoch 3/10\n",
      "71/71 - 0s - loss: 1.2003 - accuracy: 0.5016 - val_loss: 1.1062 - val_accuracy: 0.5380 - 279ms/epoch - 4ms/step\n",
      "Epoch 4/10\n",
      "71/71 - 0s - loss: 1.1677 - accuracy: 0.5211 - val_loss: 1.0849 - val_accuracy: 0.5520 - 264ms/epoch - 4ms/step\n",
      "Epoch 5/10\n",
      "71/71 - 0s - loss: 1.1824 - accuracy: 0.5256 - val_loss: 1.1241 - val_accuracy: 0.5320 - 280ms/epoch - 4ms/step\n",
      "Epoch 6/10\n",
      "71/71 - 0s - loss: 1.1419 - accuracy: 0.5444 - val_loss: 1.0926 - val_accuracy: 0.5500 - 273ms/epoch - 4ms/step\n",
      "Epoch 7/10\n",
      "71/71 - 0s - loss: 1.1190 - accuracy: 0.5489 - val_loss: 1.0357 - val_accuracy: 0.5580 - 271ms/epoch - 4ms/step\n",
      "Epoch 8/10\n",
      "71/71 - 0s - loss: 1.1016 - accuracy: 0.5478 - val_loss: 1.0889 - val_accuracy: 0.5700 - 253ms/epoch - 4ms/step\n",
      "Epoch 9/10\n",
      "71/71 - 0s - loss: 1.0887 - accuracy: 0.5476 - val_loss: 1.0140 - val_accuracy: 0.5760 - 265ms/epoch - 4ms/step\n",
      "Epoch 10/10\n",
      "71/71 - 0s - loss: 1.0691 - accuracy: 0.5671 - val_loss: 0.9797 - val_accuracy: 0.5860 - 278ms/epoch - 4ms/step\n"
     ]
    },
    {
     "data": {
      "text/plain": "<keras.callbacks.History at 0x28aa1dfd040>"
     },
     "execution_count": 23,
     "metadata": {},
     "output_type": "execute_result"
    }
   ],
   "source": [
    "# Trains the model for a fixed number of epochs (iterations on a dataset).\n",
    "model.fit(X_train,  # Input data\n",
    "          y_train,  # Target data\n",
    "          # x是生成器或 tf.data.Dataset 的对象时,将忽略此参数\n",
    "          # Boolean (whether to shuffle the training data before each epoch) or str (for 'batch'). This argument is ignored when x is a generator or an object of tf.data.\n",
    "          shuffle=True,\n",
    "          # Integer or None. Number of samples per gradient update. If unspecified, batch_size will default to 32.\n",
    "          batch_size=64,\n",
    "          epochs=10,  # Integer. Number of epochs to train the model.\n",
    "          # 'auto', 0, 1, or 2. Verbosity mode. 0 = silent, 1 = progress bar, 2 = one line per epoch. 'auto' defaults to 1 for most cases\n",
    "          verbose=2,\n",
    "          # Data on which to evaluate the loss and any model metrics at the end of each epoch. The model will not be trained on this data.\n",
    "          validation_data=(X_test, y_test),\n",
    "          # Float between 0 and 1. Fraction of the training data to be used as validation data. The model will set apart this fraction of the training data, will not train on it, and will evaluate the loss and any model metrics on this data at the end of each epoch.\n",
    "          # validation_split=0.2 # 验证数据集占训练数据集的比例,取值范围为0~1\n",
    "          )"
   ],
   "metadata": {
    "collapsed": false,
    "pycharm": {
     "name": "#%%\n"
    }
   }
  },
  {
   "cell_type": "code",
   "execution_count": 24,
   "outputs": [
    {
     "data": {
      "text/plain": "dict_items([('loss', [1.471740484237671, 1.2363803386688232, 1.2002722024917603, 1.1676579713821411, 1.1824363470077515, 1.1418557167053223, 1.1189563274383545, 1.1016052961349487, 1.0886876583099365, 1.0690973997116089]), ('accuracy', [0.4180000126361847, 0.5006666779518127, 0.5015555620193481, 0.5211111307144165, 0.5255555510520935, 0.5444444417953491, 0.5488888621330261, 0.5477777719497681, 0.5475555658340454, 0.5671111345291138]), ('val_loss', [1.2283138036727905, 1.1888833045959473, 1.106217622756958, 1.0848801136016846, 1.1241456270217896, 1.0925740003585815, 1.0357253551483154, 1.0888891220092773, 1.0139648914337158, 0.9796877503395081]), ('val_accuracy', [0.5040000081062317, 0.49000000953674316, 0.5379999876022339, 0.5519999861717224, 0.5320000052452087, 0.550000011920929, 0.5580000281333923, 0.5699999928474426, 0.5759999752044678, 0.5860000252723694])])"
     },
     "execution_count": 24,
     "metadata": {},
     "output_type": "execute_result"
    }
   ],
   "source": [
    "model.history.history.items()"
   ],
   "metadata": {
    "collapsed": false,
    "pycharm": {
     "name": "#%%\n"
    }
   }
  },
  {
   "cell_type": "code",
   "execution_count": 25,
   "outputs": [
    {
     "name": "stdout",
     "output_type": "stream",
     "text": [
      "test loss: 0.9796877503395081\n",
      "test acc: 0.5860000252723694\n"
     ]
    }
   ],
   "source": [
    "# Returns the loss value & metrics values for the model in test mode.\n",
    "'''\n",
    "batch_size:Integer or None. Number of samples per batch of computation. If unspecified, batch_size will default to 32. Do not specify the batch_size if your data is in the form of a dataset, generators, or keras.utils.Sequence instances (since they generate batches).\n",
    "verbose:0 or 1. Verbosity mode. 0 = silent, 1 = progress bar.\n",
    "'''\n",
    "loss, metric = model.evaluate(X_test, y_test, batch_size=32, verbose=0)\n",
    "\n",
    "print(\"test loss:\", loss)\n",
    "print(\"test acc:\", metric)"
   ],
   "metadata": {
    "collapsed": false,
    "pycharm": {
     "name": "#%%\n"
    }
   }
  },
  {
   "cell_type": "code",
   "execution_count": 26,
   "outputs": [
    {
     "name": "stdout",
     "output_type": "stream",
     "text": [
      "predictions shape: [[-3.5170515  -0.6050846   4.145291    3.2827766   0.10767475  3.1674106\n",
      "  -6.2613826 ]\n",
      " [-4.278873   -1.6365532   5.038116    5.8987365  -0.33728406  3.3239233\n",
      "  -7.3653684 ]\n",
      " [-2.0400677   0.06075101  3.1786692   2.3567138   0.12059799  2.6694014\n",
      "  -4.585171  ]\n",
      " [-3.5209007  -1.448727    3.5494657   6.5712767   0.35043392  2.4523618\n",
      "  -7.2593274 ]\n",
      " [ 0.38359606  2.1430786  -2.2262008   1.4163525   5.915867   -2.7572339\n",
      "  -6.6106715 ]\n",
      " [ 3.889718    3.9759626  -3.5077465  -4.3880277   2.7897003  -2.5785437\n",
      "   1.0711036 ]\n",
      " [-2.8535764  -0.66872084  2.174545    3.783858    0.8995967   1.9356933\n",
      "  -5.1803555 ]\n",
      " [ 2.4447854   2.229871   -3.2365537  -3.4057086   1.7557681  -2.3464875\n",
      "   2.8480449 ]\n",
      " [ 3.141587    3.027517   -2.8610396  -3.2871904   2.8824985  -2.2985315\n",
      "   1.2145189 ]\n",
      " [ 2.1436365   2.0264874   0.02591743 -0.37070662  2.6864734  -0.5036128\n",
      "  -2.603583  ]]\n"
     ]
    }
   ],
   "source": [
    "# Generates output predictions for the input samples.\n",
    "'''\n",
    "batch_size:Integer or None. Number of samples per batch. If unspecified, batch_size will default to 32. Do not specify the batch_size if your data is in the form of dataset, generators, or keras.utils.Sequence instances (since they generate batches).\n",
    "verbose:Verbosity mode, 0 or 1.\n",
    "'''\n",
    "predictions = model.predict(X_test[:10],  # 预测10条样本\n",
    "                            batch_size=32, verbose=0)\n",
    "print('predictions shape:', predictions)"
   ],
   "metadata": {
    "collapsed": false,
    "pycharm": {
     "name": "#%%\n"
    }
   }
  },
  {
   "cell_type": "code",
   "execution_count": 26,
   "outputs": [],
   "source": [],
   "metadata": {
    "collapsed": false,
    "pycharm": {
     "name": "#%%\n"
    }
   }
  }
 ],
 "metadata": {
  "kernelspec": {
   "display_name": "Python 3",
   "language": "python",
   "name": "python3"
  },
  "language_info": {
   "codemirror_mode": {
    "name": "ipython",
    "version": 2
   },
   "file_extension": ".py",
   "mimetype": "text/x-python",
   "name": "python",
   "nbconvert_exporter": "python",
   "pygments_lexer": "ipython2",
   "version": "2.7.6"
  }
 },
 "nbformat": 4,
 "nbformat_minor": 0
}