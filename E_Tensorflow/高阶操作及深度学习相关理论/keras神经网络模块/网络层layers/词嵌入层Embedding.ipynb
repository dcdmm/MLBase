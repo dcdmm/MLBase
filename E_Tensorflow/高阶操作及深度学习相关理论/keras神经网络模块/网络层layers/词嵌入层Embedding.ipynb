{
 "cells": [
  {
   "cell_type": "code",
   "execution_count": 73,
   "metadata": {
    "collapsed": true,
    "pycharm": {
     "name": "#%%\n"
    }
   },
   "outputs": [],
   "source": [
    "import tensorflow as tf"
   ]
  },
  {
   "cell_type": "markdown",
   "source": [
    "### 参考torch.nn.Embedding"
   ],
   "metadata": {
    "collapsed": false,
    "pycharm": {
     "name": "#%% md\n"
    }
   }
  },
  {
   "cell_type": "code",
   "execution_count": 74,
   "outputs": [],
   "source": [
    "embedding_layer = tf.keras.layers.Embedding(input_dim=10,  # 单词表的单词数目\n",
    "                                            output_dim=4,  # 输出词向量的维度大小\n",
    "                                            embeddings_initializer='uniform')  # weights默认初始化方式为'uniform'"
   ],
   "metadata": {
    "collapsed": false,
    "pycharm": {
     "name": "#%%\n"
    }
   }
  },
  {
   "cell_type": "code",
   "execution_count": 75,
   "outputs": [
    {
     "data": {
      "text/plain": "TensorShape([2, 3, 4])"
     },
     "execution_count": 75,
     "metadata": {},
     "output_type": "execute_result"
    }
   ],
   "source": [
    "entry = tf.constant([[0, 1, 2],\n",
    "                     [5, 6, 7]])\n",
    "embedding_layer(entry).shape  # (2, 3) <--> (10, 4) --> (2, 3, 4)"
   ],
   "metadata": {
    "collapsed": false,
    "pycharm": {
     "name": "#%%\n"
    }
   }
  },
  {
   "cell_type": "code",
   "execution_count": 76,
   "outputs": [
    {
     "data": {
      "text/plain": "TensorShape([2, 4])"
     },
     "execution_count": 76,
     "metadata": {},
     "output_type": "execute_result"
    }
   ],
   "source": [
    "entry1 = tf.constant([1, 2])\n",
    "embedding_layer(entry1).shape  # (2,) <-->(10, 4) --> (2, 4)"
   ],
   "metadata": {
    "collapsed": false,
    "pycharm": {
     "name": "#%%\n"
    }
   }
  },
  {
   "cell_type": "code",
   "execution_count": 77,
   "outputs": [
    {
     "data": {
      "text/plain": "[<tf.Variable 'embedding_19/embeddings:0' shape=(10, 4) dtype=float32, numpy=\n array([[ 0.0107214 ,  0.01793375, -0.00260446,  0.02034502],\n        [ 0.03038294,  0.02573884,  0.00455999,  0.04014516],\n        [-0.03237878,  0.00241567,  0.00340134,  0.03319966],\n        [-0.03099068, -0.01909008,  0.00859548, -0.04406189],\n        [ 0.00258317,  0.03146804,  0.009677  ,  0.02528796],\n        [ 0.01112701, -0.04220629, -0.01254604,  0.04269984],\n        [-0.01665797,  0.01770309,  0.01233388,  0.04624638],\n        [-0.04678979, -0.03998946,  0.01149254,  0.04814534],\n        [-0.03276344, -0.04124607,  0.0356291 , -0.02320024],\n        [-0.02898715,  0.00441409, -0.01136855, -0.01158078]],\n       dtype=float32)>]"
     },
     "execution_count": 77,
     "metadata": {},
     "output_type": "execute_result"
    }
   ],
   "source": [
    "embedding_layer.weights"
   ],
   "metadata": {
    "collapsed": false,
    "pycharm": {
     "name": "#%%\n"
    }
   }
  }
 ],
 "metadata": {
  "kernelspec": {
   "display_name": "Python 3",
   "language": "python",
   "name": "python3"
  },
  "language_info": {
   "codemirror_mode": {
    "name": "ipython",
    "version": 3
   },
   "file_extension": ".py",
   "mimetype": "text/x-python",
   "name": "python",
   "nbconvert_exporter": "python",
   "pygments_lexer": "ipython3",
   "version": "3.7.7"
  },
  "toc": {
   "base_numbering": 1,
   "nav_menu": {},
   "number_sections": true,
   "sideBar": true,
   "skip_h1_title": false,
   "title_cell": "Table of Contents",
   "title_sidebar": "Contents",
   "toc_cell": false,
   "toc_position": {},
   "toc_section_display": true,
   "toc_window_display": false
  }
 },
 "nbformat": 4,
 "nbformat_minor": 1
}