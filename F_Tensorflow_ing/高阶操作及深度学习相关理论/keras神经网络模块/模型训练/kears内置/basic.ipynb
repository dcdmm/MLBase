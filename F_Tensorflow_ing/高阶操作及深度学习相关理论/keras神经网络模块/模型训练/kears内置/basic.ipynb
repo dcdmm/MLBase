{
 "cells": [
  {
   "cell_type": "code",
   "execution_count": 1,
   "metadata": {
    "collapsed": true
   },
   "outputs": [],
   "source": [
    "from sklearn import datasets\n",
    "from sklearn.model_selection import train_test_split\n",
    "import numpy as np\n",
    "import tensorflow as tf\n",
    "from sklearn.preprocessing import OrdinalEncoder"
   ]
  },
  {
   "cell_type": "code",
   "execution_count": 2,
   "outputs": [
    {
     "name": "stdout",
     "output_type": "stream",
     "text": [
      "(4500, 54) (4500,)\n",
      "[0. 1. 2. 3. 4. 5. 6.]\n"
     ]
    }
   ],
   "source": [
    "X = datasets.fetch_covtype().data[:5000]\n",
    "y = datasets.fetch_covtype().target[:5000]\n",
    "X_train, X_test, y_train, y_test = train_test_split(X, y, test_size=0.1)\n",
    "\n",
    "print(X_train.shape, y_train.shape)\n",
    "\n",
    "enc = OrdinalEncoder()\n",
    "y_train = enc.fit_transform(y_train.reshape(-1, 1)).reshape(-1, )\n",
    "y_test = enc.transform(y_test.reshape(-1, 1)).reshape(-1, )\n",
    "print(np.unique(y_train))  # 7分类任务\n",
    "\n",
    "X_train, X_test, y_train, y_test = tf.constant(X_train), tf.constant(X_test), tf.constant(y_train), tf.constant(y_test)"
   ],
   "metadata": {
    "collapsed": false,
    "pycharm": {
     "name": "#%%\n"
    }
   }
  },
  {
   "cell_type": "code",
   "execution_count": 3,
   "outputs": [
    {
     "name": "stdout",
     "output_type": "stream",
     "text": [
      "Model: \"model\"\n",
      "_________________________________________________________________\n",
      " Layer (type)                Output Shape              Param #   \n",
      "=================================================================\n",
      " input_1 (InputLayer)        [(None, 54)]              0         \n",
      "                                                                 \n",
      " dense (Dense)               (None, 256)               14080     \n",
      "                                                                 \n",
      " dropout (Dropout)           (None, 256)               0         \n",
      "                                                                 \n",
      " dense_1 (Dense)             (None, 128)               32896     \n",
      "                                                                 \n",
      " dense_2 (Dense)             (None, 128)               16512     \n",
      "                                                                 \n",
      " dense_3 (Dense)             (None, 7)                 903       \n",
      "                                                                 \n",
      "=================================================================\n",
      "Total params: 64,391\n",
      "Trainable params: 64,391\n",
      "Non-trainable params: 0\n",
      "_________________________________________________________________\n"
     ]
    }
   ],
   "source": [
    "inputs = tf.keras.Input(shape=(54,))\n",
    "x = tf.keras.layers.Dense(256, activation='tanh')(inputs)\n",
    "x = tf.keras.layers.Dropout(0.2)(x)\n",
    "x = tf.keras.layers.Dense(128, activation='relu')(x)\n",
    "x = tf.keras.layers.Dense(128)(x)\n",
    "predictions = tf.keras.layers.Dense(7)(x)\n",
    "model = tf.keras.Model(inputs=inputs, outputs=predictions)\n",
    "\n",
    "model.summary()"
   ],
   "metadata": {
    "collapsed": false,
    "pycharm": {
     "name": "#%%\n"
    }
   }
  },
  {
   "cell_type": "code",
   "execution_count": 4,
   "outputs": [],
   "source": [
    "# Configures the model for training.\n",
    "model.compile(optimizer=tf.keras.optimizers.Adam(learning_rate=0.001),  # 优化器\n",
    "              loss=tf.keras.losses.SparseCategoricalCrossentropy(from_logits=True),  # 损失函数\n",
    "              metrics=[tf.keras.metrics.SparseCategoricalAccuracy()])  # 评估函数(根据模型的输入与输出选择)"
   ],
   "metadata": {
    "collapsed": false,
    "pycharm": {
     "name": "#%%\n"
    }
   }
  },
  {
   "cell_type": "code",
   "execution_count": 5,
   "outputs": [
    {
     "name": "stdout",
     "output_type": "stream",
     "text": [
      "Epoch 1/10\n",
      "71/71 - 1s - loss: 1.5064 - sparse_categorical_accuracy: 0.4224 - val_loss: 1.1983 - val_sparse_categorical_accuracy: 0.5720 - 1s/epoch - 17ms/step\n",
      "Epoch 2/10\n",
      "71/71 - 0s - loss: 1.2740 - sparse_categorical_accuracy: 0.4811 - val_loss: 1.1930 - val_sparse_categorical_accuracy: 0.5620 - 180ms/epoch - 3ms/step\n",
      "Epoch 3/10\n",
      "71/71 - 0s - loss: 1.2033 - sparse_categorical_accuracy: 0.5053 - val_loss: 1.1079 - val_sparse_categorical_accuracy: 0.5800 - 193ms/epoch - 3ms/step\n",
      "Epoch 4/10\n",
      "71/71 - 0s - loss: 1.1852 - sparse_categorical_accuracy: 0.5151 - val_loss: 1.0900 - val_sparse_categorical_accuracy: 0.5660 - 197ms/epoch - 3ms/step\n",
      "Epoch 5/10\n",
      "71/71 - 0s - loss: 1.1576 - sparse_categorical_accuracy: 0.5282 - val_loss: 1.0824 - val_sparse_categorical_accuracy: 0.5920 - 192ms/epoch - 3ms/step\n",
      "Epoch 6/10\n",
      "71/71 - 0s - loss: 1.1332 - sparse_categorical_accuracy: 0.5429 - val_loss: 1.0285 - val_sparse_categorical_accuracy: 0.6120 - 184ms/epoch - 3ms/step\n",
      "Epoch 7/10\n",
      "71/71 - 0s - loss: 1.1300 - sparse_categorical_accuracy: 0.5344 - val_loss: 1.0849 - val_sparse_categorical_accuracy: 0.5860 - 245ms/epoch - 3ms/step\n",
      "Epoch 8/10\n",
      "71/71 - 0s - loss: 1.1259 - sparse_categorical_accuracy: 0.5393 - val_loss: 0.9656 - val_sparse_categorical_accuracy: 0.6280 - 229ms/epoch - 3ms/step\n",
      "Epoch 9/10\n",
      "71/71 - 0s - loss: 1.0706 - sparse_categorical_accuracy: 0.5689 - val_loss: 0.9374 - val_sparse_categorical_accuracy: 0.6360 - 199ms/epoch - 3ms/step\n",
      "Epoch 10/10\n",
      "71/71 - 0s - loss: 1.1086 - sparse_categorical_accuracy: 0.5467 - val_loss: 0.9748 - val_sparse_categorical_accuracy: 0.6360 - 219ms/epoch - 3ms/step\n"
     ]
    },
    {
     "data": {
      "text/plain": "<keras.callbacks.History at 0x15f49567ee0>"
     },
     "execution_count": 5,
     "metadata": {},
     "output_type": "execute_result"
    }
   ],
   "source": [
    "# Trains the model for a fixed number of epochs (iterations on a dataset).\n",
    "'''\n",
    "x:  Input data. It could be:\n",
    "    A Numpy array (or array-like), or a list of arrays (in case the model has multiple inputs).\n",
    "    A TensorFlow tensor, or a list of tensors (in case the model has multiple inputs).\n",
    "    A dict mapping input names to the corresponding array/tensors, if the model has named inputs.\n",
    "    A tf.data dataset. Should return a tuple of either (inputs, targets) or (inputs, targets, sample_weights).\n",
    "    A generator or keras.utils.Sequence returning (inputs, targets) or (inputs, targets, sample_weights).\n",
    "y:  Target data. Like the input data x, it could be either Numpy array(s) or TensorFlow tensor(s).\n",
    "    It should be consistent with x (you cannot have Numpy inputs and tensor targets, or inversely).\n",
    "    If x is a dataset, generator, or keras.utils.Sequence instance, y should not be specified (since targets will be obtained from x).\n",
    "batch_size:  Integer or None.\n",
    "             Number of samples per gradient update.\n",
    "             If unspecified, batch_size will default to 32.\n",
    "             Do not specify the batch_size if your data is in the form of datasets, generators, or keras.utils.Sequence instances (since they generate batches).\n",
    "shuffle:  Boolean (whether to shuffle the training data before each epoch) or str (for 'batch').\n",
    "          This argument is ignored when x is a generator or an object of tf.data.Dataset.\n",
    "          'batch' is a special option for dealing with the limitations of HDF5 data;\n",
    "          it shuffles in batch-sized chunks. Has no effect when steps_per_epoch is not None.\n",
    "\n",
    "validation_split:  Float between 0 and 1. Fraction of the training data to be used as validation data.\n",
    "                   The model will set apart this fraction of the training data, will not train on it, and will evaluate the loss and any model metrics on this data at the end of each epoch.\n",
    "                   The validation data is selected from the last samples in the x and y data provided, before shuffling.\n",
    "                   This argument is not supported when x is a dataset, generator or keras.utils.Sequence instance.\n",
    "                   validation_split is not yet supported with tf.distribute.experimental.ParameterServerStrategy.\n",
    "\n",
    "validation_data:  Data on which to evaluate the loss and any model metrics at the end of each epoch.\n",
    "                  The model will not be trained on this data. Thus, note the fact that the validation loss of data provided using validation_split or validation_data is not affected by regularization layers like noise and dropout.\n",
    "                  validation_data will override validation_split. validation_data could be:\n",
    "                  * A tuple (x_val, y_val) of Numpy arrays or tensors.\n",
    "                  * A tuple (x_val, y_val, val_sample_weights) of NumPy arrays.\n",
    "                  * A tf.data.Dataset.\n",
    "                  * A Python generator or keras.utils.Sequence returning (inputs, targets) or (inputs, targets, sample_weights). validation_data is not yet supported with tf.distribute.experimental.ParameterServerStrategy.\n",
    "'''\n",
    "model.fit(\n",
    "    # ★★★★★x的输入为tf.data.Dataset格式时,参数y、shuffle、batch_size不需要再指定(tf.data.Dataset中已包含)\n",
    "    x=X_train, y=y_train, shuffle=True, batch_size=64,\n",
    "    epochs=10,  # Integer. Number of epochs to train the model.\n",
    "    # 'auto', 0, 1, or 2. Verbosity mode. 0 = silent, 1 = progress bar, 2 = one line per epoch. 'auto' defaults to 1 for most cases\n",
    "    verbose=2,\n",
    "    validation_data=(X_test, y_test),\n",
    "    # validation_split=0.2 # 验证数据集占训练数据集的比例,取值范围为0~1\n",
    ")"
   ],
   "metadata": {
    "collapsed": false,
    "pycharm": {
     "name": "#%%\n"
    }
   }
  },
  {
   "cell_type": "code",
   "execution_count": 6,
   "outputs": [
    {
     "data": {
      "text/plain": "dict_items([('loss', [1.5064438581466675, 1.273985505104065, 1.2033445835113525, 1.1852405071258545, 1.1576391458511353, 1.133159875869751, 1.1300488710403442, 1.1259403228759766, 1.0705616474151611, 1.1086022853851318]), ('sparse_categorical_accuracy', [0.4224444329738617, 0.4811111092567444, 0.5053333044052124, 0.5151110887527466, 0.5282222032546997, 0.542888879776001, 0.5344444513320923, 0.5393333435058594, 0.5688889026641846, 0.54666668176651]), ('val_loss', [1.1983457803726196, 1.1929835081100464, 1.1079190969467163, 1.0899882316589355, 1.0823750495910645, 1.028539776802063, 1.084852695465088, 0.9655709266662598, 0.9374366998672485, 0.9748281836509705]), ('val_sparse_categorical_accuracy', [0.5720000267028809, 0.5619999766349792, 0.5799999833106995, 0.5659999847412109, 0.5920000076293945, 0.6119999885559082, 0.5860000252723694, 0.628000020980835, 0.6359999775886536, 0.6359999775886536])])"
     },
     "execution_count": 6,
     "metadata": {},
     "output_type": "execute_result"
    }
   ],
   "source": [
    "model.history.history.items()"
   ],
   "metadata": {
    "collapsed": false,
    "pycharm": {
     "name": "#%%\n"
    }
   }
  },
  {
   "cell_type": "code",
   "execution_count": 7,
   "outputs": [
    {
     "name": "stdout",
     "output_type": "stream",
     "text": [
      "test loss: 0.9748282432556152\n",
      "test acc: 0.6359999775886536\n"
     ]
    }
   ],
   "source": [
    "# Returns the loss value & metrics values for the model in test mode.\n",
    "'''\n",
    "batch_size:Integer or None. Number of samples per batch of computation. If unspecified, batch_size will default to 32. Do not specify the batch_size if your data is in the form of a dataset, generators, or keras.utils.Sequence instances (since they generate batches).\n",
    "verbose:0 or 1. Verbosity mode. 0 = silent, 1 = progress bar.\n",
    "'''\n",
    "loss, metric = model.evaluate(X_test, y_test, batch_size=32, verbose=0)\n",
    "\n",
    "print(\"test loss:\", loss)\n",
    "print(\"test acc:\", metric)"
   ],
   "metadata": {
    "collapsed": false,
    "pycharm": {
     "name": "#%%\n"
    }
   }
  },
  {
   "cell_type": "code",
   "execution_count": 8,
   "outputs": [
    {
     "name": "stdout",
     "output_type": "stream",
     "text": [
      "predictions shape: [[-2.1469142e+00  2.8040659e-01  1.6221796e+00  2.2470996e+00\n",
      "   7.5516933e-01  1.3969027e+00 -4.4346781e+00]\n",
      " [-3.5667901e+00 -5.5741332e-03  2.8905621e+00 -5.8800167e-01\n",
      "   2.1176803e+00  2.2385547e+00 -5.7242589e+00]\n",
      " [-1.6141566e+00  2.5832698e-01  1.1618479e+00  3.4982401e-01\n",
      "  -1.2971216e-01  1.5149839e+00 -3.4997342e+00]\n",
      " [-4.8402553e+00 -7.7331239e-01  4.2455177e+00  2.7187142e+00\n",
      "   1.6327490e+00  2.7895849e+00 -7.4197755e+00]\n",
      " [ 8.6835194e-01  4.1537166e+00 -8.7388647e-01 -6.4929968e-01\n",
      "   7.6327486e+00 -4.9395636e-01 -5.3424716e+00]\n",
      " [ 4.9506507e+00  6.3273096e+00 -3.9324994e+00 -3.1245191e+00\n",
      "   6.7442697e-01 -4.1873379e+00  1.3151098e+00]\n",
      " [-2.5609262e+00 -2.9262003e-02  2.4307187e+00  2.0010431e+00\n",
      "   6.2011433e-01  2.3030858e+00 -5.7678533e+00]\n",
      " [ 2.3241200e+00  2.1024721e+00 -2.6059020e+00 -2.8757370e+00\n",
      "   1.4059093e+00 -2.3189299e+00  3.2203088e+00]\n",
      " [-1.9971784e+00  2.1660222e-01  9.5035160e-01  3.7708831e+00\n",
      "   2.5086462e-01  1.2604591e+00 -4.3579965e+00]\n",
      " [ 5.0145817e+00  6.1564188e+00 -3.7902021e+00 -3.2150855e+00\n",
      "   2.1608603e-01 -4.0113420e+00  1.6366519e+00]]\n"
     ]
    }
   ],
   "source": [
    "# Generates output predictions for the input samples.\n",
    "'''\n",
    "batch_size:Integer or None. Number of samples per batch. If unspecified, batch_size will default to 32. Do not specify the batch_size if your data is in the form of dataset, generators, or keras.utils.Sequence instances (since they generate batches).\n",
    "verbose:Verbosity mode, 0 or 1.\n",
    "'''\n",
    "predictions = model.predict(X_test[:10],  # 预测10条样本\n",
    "                            batch_size=32, verbose=0)\n",
    "print('predictions shape:', predictions)"
   ],
   "metadata": {
    "collapsed": false,
    "pycharm": {
     "name": "#%%\n"
    }
   }
  },
  {
   "cell_type": "code",
   "execution_count": 8,
   "outputs": [],
   "source": [],
   "metadata": {
    "collapsed": false,
    "pycharm": {
     "name": "#%%\n"
    }
   }
  }
 ],
 "metadata": {
  "kernelspec": {
   "display_name": "Python 3",
   "language": "python",
   "name": "python3"
  },
  "language_info": {
   "codemirror_mode": {
    "name": "ipython",
    "version": 2
   },
   "file_extension": ".py",
   "mimetype": "text/x-python",
   "name": "python",
   "nbconvert_exporter": "python",
   "pygments_lexer": "ipython2",
   "version": "2.7.6"
  }
 },
 "nbformat": 4,
 "nbformat_minor": 0
}