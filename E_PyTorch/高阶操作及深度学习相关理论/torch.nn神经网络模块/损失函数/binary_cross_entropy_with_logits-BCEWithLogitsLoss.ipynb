{
 "cells": [
  {
   "cell_type": "markdown",
   "metadata": {
    "collapsed": true,
    "pycharm": {
     "name": "#%% md\n"
    }
   },
   "source": [
    "This loss combines a Sigmoid layer and the BCELoss in one single class. This version is more numerically stable than using a plain Sigmoid followed by a BCELoss as,\n",
    "by combining the operations into one layer, we take advantage of the log-sum-exp trick for numerical stability.\n",
    "\n",
    "$$ l(\\mathbf{x}, \\mathbf{y}) = L = (l_1, l_2, \\cdots, l_N)^T \\qquad \\text{if  reduction='none'}$$\n",
    "\n",
    "* $$ l_n = -\\mathbf{w}_n [ \\mathbf{y}_n \\cdot \\log \\sigma(\\mathbf{x}_n) + (1 - \\mathbf{y}_n) \\cdot ( 1 - \\log \\sigma( \\mathbf{x}_n))] $$\n",
    "\n",
    "where N is the batch size. If reduction is not 'none' (default 'mean'), then\n",
    "\n",
    "$$\n",
    "\\begin{equation}\n",
    "l(X, \\mathbf{y}) =\\begin{cases}\n",
    "\t\t\\mathrm{mean}(L), & \\text{if  reduction='mean'} \\\\\n",
    "        \\mathrm{sum}(L), & \\text{if  reduction='sum'}\n",
    "     \\end{cases}\n",
    "\\end{equation}\n",
    "$$\n",
    "\n",
    "Note that the targets $ \\mathbf{y}$ should be numbers between 0 and 1"
   ]
  },
  {
   "cell_type": "markdown",
   "source": [
    "* Input: $(*)$where * means, any number of additional dimensions\n",
    "\n",
    "* Target: $(*)$, same shape as the input\n",
    "\n",
    "* Output: scalar. If reduction is 'none', then (*), same shape as input."
   ],
   "metadata": {
    "collapsed": false,
    "pycharm": {
     "name": "#%% md\n"
    }
   }
  },
  {
   "cell_type": "code",
   "execution_count": 8,
   "outputs": [],
   "source": [
    "import torch\n",
    "import torch.nn.functional as F\n",
    "import torch.nn as nn"
   ],
   "metadata": {
    "collapsed": false,
    "pycharm": {
     "name": "#%%\n"
    }
   }
  },
  {
   "cell_type": "code",
   "execution_count": 9,
   "outputs": [
    {
     "name": "stdout",
     "output_type": "stream",
     "text": [
      "tensor(0.7780)\n",
      "tensor(4.6680)\n",
      "tensor([[0.9741, 0.5130, 0.8544],\n",
      "        [0.5544, 0.7981, 0.9741]])\n"
     ]
    }
   ],
   "source": [
    "# enter.shape=(2, 3)\n",
    "enter = torch.tensor([[0.5, 0.4, 0.3],\n",
    "                      [0.3, 0.2, 0.5]])\n",
    "# target.shape=(2, 3)\n",
    "target = torch.tensor([[0., 1., 0.],\n",
    "                       [1., 0., 0.]])\n",
    "\n",
    "# Function that measures Binary Cross Entropy between target and output logits.\n",
    "print(F.binary_cross_entropy_with_logits(enter, target, reduction='mean'))  # 默认reduction='mean',参考BCELos\n",
    "print(F.binary_cross_entropy_with_logits(enter, target, reduction='sum'))\n",
    "print(F.binary_cross_entropy_with_logits(enter, target, reduction='none'))  # shape(2, 3)"
   ],
   "metadata": {
    "collapsed": false,
    "pycharm": {
     "name": "#%%\n"
    }
   }
  },
  {
   "cell_type": "code",
   "execution_count": 10,
   "outputs": [
    {
     "data": {
      "text/plain": "tensor([[0.9741, 0.5130, 0.8544],\n        [0.5544, 0.7981, 0.9741]])"
     },
     "execution_count": 10,
     "metadata": {},
     "output_type": "execute_result"
    }
   ],
   "source": [
    "# 参数reduction含义与BCEloss相同\n",
    "nn.BCEWithLogitsLoss(reduction='none',\n",
    "                     # weight(样本权重,可间接实现类别权重)形状与enter形状相等;默认weight=None,此时weight为全为1的张量\n",
    "                     weight=torch.ones_like(enter))(enter, target)"
   ],
   "metadata": {
    "collapsed": false,
    "pycharm": {
     "name": "#%%\n"
    }
   }
  },
  {
   "cell_type": "markdown",
   "source": [
    "### 上式计算步骤如下"
   ],
   "metadata": {
    "collapsed": false
   }
  },
  {
   "cell_type": "code",
   "execution_count": 11,
   "outputs": [
    {
     "data": {
      "text/plain": "tensor([[1., 1., 1.],\n        [1., 1., 1.]])"
     },
     "execution_count": 11,
     "metadata": {},
     "output_type": "execute_result"
    }
   ],
   "source": [
    "weight = torch.ones_like(enter)  # 默认权重\n",
    "weight"
   ],
   "metadata": {
    "collapsed": false,
    "pycharm": {
     "name": "#%%\n"
    }
   }
  },
  {
   "cell_type": "code",
   "execution_count": 12,
   "outputs": [
    {
     "data": {
      "text/plain": "tensor([[-0.9741, -0.5130, -0.8544],\n        [-0.5544, -0.7981, -0.9741]])"
     },
     "execution_count": 12,
     "metadata": {},
     "output_type": "execute_result"
    }
   ],
   "source": [
    "# sigmoid函数对应计算公式中的$\\sigma$\n",
    "step1 = (target * torch.log(torch.sigmoid(enter)) + (1 - target) * torch.log(1 - torch.sigmoid(enter)))  # 样本交叉熵\n",
    "step1"
   ],
   "metadata": {
    "collapsed": false,
    "pycharm": {
     "name": "#%%\n"
    }
   }
  },
  {
   "cell_type": "code",
   "execution_count": 13,
   "outputs": [
    {
     "data": {
      "text/plain": "tensor(-4.6680)"
     },
     "execution_count": 13,
     "metadata": {},
     "output_type": "execute_result"
    }
   ],
   "source": [
    "the_sum = torch.sum(step1 * weight)  # 最终结果\n",
    "the_sum"
   ],
   "metadata": {
    "collapsed": false,
    "pycharm": {
     "name": "#%%\n"
    }
   }
  },
  {
   "cell_type": "code",
   "execution_count": 14,
   "outputs": [
    {
     "data": {
      "text/plain": "tensor(-0.7780)"
     },
     "execution_count": 14,
     "metadata": {},
     "output_type": "execute_result"
    }
   ],
   "source": [
    "the_mean = torch.mean(step1 * weight)\n",
    "the_mean\n"
   ],
   "metadata": {
    "collapsed": false,
    "pycharm": {
     "name": "#%%\n"
    }
   }
  }
 ],
 "metadata": {
  "kernelspec": {
   "display_name": "Python 3",
   "language": "python",
   "name": "python3"
  },
  "language_info": {
   "codemirror_mode": {
    "name": "ipython",
    "version": 2
   },
   "file_extension": ".py",
   "mimetype": "text/x-python",
   "name": "python",
   "nbconvert_exporter": "python",
   "pygments_lexer": "ipython2",
   "version": "2.7.6"
  }
 },
 "nbformat": 4,
 "nbformat_minor": 0
}