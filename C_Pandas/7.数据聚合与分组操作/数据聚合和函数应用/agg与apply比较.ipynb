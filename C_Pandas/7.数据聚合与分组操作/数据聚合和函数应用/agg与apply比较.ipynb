{
 "cells": [
  {
   "cell_type": "code",
   "execution_count": 254,
   "metadata": {
    "pycharm": {
     "name": "#%%\n"
    }
   },
   "outputs": [],
   "source": [
    "import numpy as np\n",
    "import pandas as pd"
   ]
  },
  {
   "cell_type": "code",
   "execution_count": 255,
   "outputs": [
    {
     "data": {
      "text/plain": "   total_bill   tip  day    time  size\n0       16.99  1.01  Sun  Dinner     2\n1       10.34  1.66  Sun  Dinner     3\n2       21.01  3.50  Sun  Dinner     3\n3       23.68  3.31  Sun  Dinner     2\n4       24.59  3.61  Sun  Dinner     4",
      "text/html": "<div>\n<style scoped>\n    .dataframe tbody tr th:only-of-type {\n        vertical-align: middle;\n    }\n\n    .dataframe tbody tr th {\n        vertical-align: top;\n    }\n\n    .dataframe thead th {\n        text-align: right;\n    }\n</style>\n<table border=\"1\" class=\"dataframe\">\n  <thead>\n    <tr style=\"text-align: right;\">\n      <th></th>\n      <th>total_bill</th>\n      <th>tip</th>\n      <th>day</th>\n      <th>time</th>\n      <th>size</th>\n    </tr>\n  </thead>\n  <tbody>\n    <tr>\n      <th>0</th>\n      <td>16.99</td>\n      <td>1.01</td>\n      <td>Sun</td>\n      <td>Dinner</td>\n      <td>2</td>\n    </tr>\n    <tr>\n      <th>1</th>\n      <td>10.34</td>\n      <td>1.66</td>\n      <td>Sun</td>\n      <td>Dinner</td>\n      <td>3</td>\n    </tr>\n    <tr>\n      <th>2</th>\n      <td>21.01</td>\n      <td>3.50</td>\n      <td>Sun</td>\n      <td>Dinner</td>\n      <td>3</td>\n    </tr>\n    <tr>\n      <th>3</th>\n      <td>23.68</td>\n      <td>3.31</td>\n      <td>Sun</td>\n      <td>Dinner</td>\n      <td>2</td>\n    </tr>\n    <tr>\n      <th>4</th>\n      <td>24.59</td>\n      <td>3.61</td>\n      <td>Sun</td>\n      <td>Dinner</td>\n      <td>4</td>\n    </tr>\n  </tbody>\n</table>\n</div>"
     },
     "execution_count": 255,
     "metadata": {},
     "output_type": "execute_result"
    }
   ],
   "source": [
    "tips = pd.read_csv('tips.csv')\n",
    "tips.drop(['smoker'], axis=1, inplace=True)\n",
    "tips.head()"
   ],
   "metadata": {
    "collapsed": false,
    "pycharm": {
     "name": "#%%\n"
    }
   }
  },
  {
   "cell_type": "markdown",
   "metadata": {
    "pycharm": {
     "name": "#%% md\n"
    }
   },
   "source": [
    "### 参数传递"
   ]
  },
  {
   "cell_type": "code",
   "execution_count": 256,
   "outputs": [],
   "source": [
    "group_df = tips.groupby('day')"
   ],
   "metadata": {
    "collapsed": false,
    "pycharm": {
     "name": "#%%\n"
    }
   }
  },
  {
   "cell_type": "code",
   "execution_count": 257,
   "outputs": [],
   "source": [
    "def fun_agg(group, func_name='mean'):\n",
    "    if func_name == 'mean':\n",
    "        return group.mean()\n",
    "    else:\n",
    "        return group.sum()"
   ],
   "metadata": {
    "collapsed": false,
    "pycharm": {
     "name": "#%%\n"
    }
   }
  },
  {
   "cell_type": "code",
   "execution_count": 258,
   "outputs": [
    {
     "data": {
      "text/plain": "      total_bill       tip      size\nday                                 \nFri    17.151579  2.734737  2.105263\nSat    20.441379  2.993103  2.517241\nSun    21.410000  3.255132  2.842105\nThur   17.682742  2.771452  2.451613",
      "text/html": "<div>\n<style scoped>\n    .dataframe tbody tr th:only-of-type {\n        vertical-align: middle;\n    }\n\n    .dataframe tbody tr th {\n        vertical-align: top;\n    }\n\n    .dataframe thead th {\n        text-align: right;\n    }\n</style>\n<table border=\"1\" class=\"dataframe\">\n  <thead>\n    <tr style=\"text-align: right;\">\n      <th></th>\n      <th>total_bill</th>\n      <th>tip</th>\n      <th>size</th>\n    </tr>\n    <tr>\n      <th>day</th>\n      <th></th>\n      <th></th>\n      <th></th>\n    </tr>\n  </thead>\n  <tbody>\n    <tr>\n      <th>Fri</th>\n      <td>17.151579</td>\n      <td>2.734737</td>\n      <td>2.105263</td>\n    </tr>\n    <tr>\n      <th>Sat</th>\n      <td>20.441379</td>\n      <td>2.993103</td>\n      <td>2.517241</td>\n    </tr>\n    <tr>\n      <th>Sun</th>\n      <td>21.410000</td>\n      <td>3.255132</td>\n      <td>2.842105</td>\n    </tr>\n    <tr>\n      <th>Thur</th>\n      <td>17.682742</td>\n      <td>2.771452</td>\n      <td>2.451613</td>\n    </tr>\n  </tbody>\n</table>\n</div>"
     },
     "execution_count": 258,
     "metadata": {},
     "output_type": "execute_result"
    }
   ],
   "source": [
    "# 只包含可参与运算的列\n",
    "group_df.apply(fun_agg, func_name='mean')"
   ],
   "metadata": {
    "collapsed": false,
    "pycharm": {
     "name": "#%%\n"
    }
   }
  },
  {
   "cell_type": "code",
   "execution_count": 259,
   "outputs": [
    {
     "data": {
      "text/plain": "      total_bill       tip  time      size\nday                                       \nFri    17.151579  2.734737   NaN  2.105263\nSat    20.441379  2.993103   NaN  2.517241\nSun    21.410000  3.255132   NaN  2.842105\nThur   17.682742  2.771452   NaN  2.451613",
      "text/html": "<div>\n<style scoped>\n    .dataframe tbody tr th:only-of-type {\n        vertical-align: middle;\n    }\n\n    .dataframe tbody tr th {\n        vertical-align: top;\n    }\n\n    .dataframe thead th {\n        text-align: right;\n    }\n</style>\n<table border=\"1\" class=\"dataframe\">\n  <thead>\n    <tr style=\"text-align: right;\">\n      <th></th>\n      <th>total_bill</th>\n      <th>tip</th>\n      <th>time</th>\n      <th>size</th>\n    </tr>\n    <tr>\n      <th>day</th>\n      <th></th>\n      <th></th>\n      <th></th>\n      <th></th>\n    </tr>\n  </thead>\n  <tbody>\n    <tr>\n      <th>Fri</th>\n      <td>17.151579</td>\n      <td>2.734737</td>\n      <td>NaN</td>\n      <td>2.105263</td>\n    </tr>\n    <tr>\n      <th>Sat</th>\n      <td>20.441379</td>\n      <td>2.993103</td>\n      <td>NaN</td>\n      <td>2.517241</td>\n    </tr>\n    <tr>\n      <th>Sun</th>\n      <td>21.410000</td>\n      <td>3.255132</td>\n      <td>NaN</td>\n      <td>2.842105</td>\n    </tr>\n    <tr>\n      <th>Thur</th>\n      <td>17.682742</td>\n      <td>2.771452</td>\n      <td>NaN</td>\n      <td>2.451613</td>\n    </tr>\n  </tbody>\n</table>\n</div>"
     },
     "execution_count": 259,
     "metadata": {},
     "output_type": "execute_result"
    }
   ],
   "source": [
    "# 全部列\n",
    "group_df.agg(fun_agg, func_name='mean')"
   ],
   "metadata": {
    "collapsed": false,
    "pycharm": {
     "name": "#%%\n"
    }
   }
  },
  {
   "cell_type": "markdown",
   "source": [
    "### apply函数的特点"
   ],
   "metadata": {
    "collapsed": false,
    "pycharm": {
     "name": "#%% md\n"
    }
   }
  },
  {
   "cell_type": "code",
   "execution_count": 260,
   "outputs": [
    {
     "name": "stdout",
     "output_type": "stream",
     "text": [
      "     total_bill   tip  day    time  size\n",
      "90        28.97  3.00  Fri  Dinner     2\n",
      "91        22.49  3.50  Fri  Dinner     2\n",
      "92         5.75  1.00  Fri  Dinner     2\n",
      "93        16.32  4.30  Fri  Dinner     2\n",
      "94        22.75  3.25  Fri  Dinner     2\n",
      "95        40.17  4.73  Fri  Dinner     4\n",
      "96        27.28  4.00  Fri  Dinner     2\n",
      "97        12.03  1.50  Fri  Dinner     2\n",
      "98        21.01  3.00  Fri  Dinner     2\n",
      "99        12.46  1.50  Fri  Dinner     2\n",
      "100       11.35  2.50  Fri  Dinner     2\n",
      "101       15.38  3.00  Fri  Dinner     2\n",
      "220       12.16  2.20  Fri   Lunch     2\n",
      "221       13.42  3.48  Fri   Lunch     2\n",
      "222        8.58  1.92  Fri   Lunch     1\n",
      "223       15.98  3.00  Fri   Lunch     3\n",
      "224       13.42  1.58  Fri   Lunch     2\n",
      "225       16.27  2.50  Fri   Lunch     2\n",
      "226       10.09  2.00  Fri   Lunch     2\n",
      "\n",
      "     total_bill   tip  day    time  size\n",
      "19        20.65  3.35  Sat  Dinner     3\n",
      "20        17.92  4.08  Sat  Dinner     2\n",
      "21        20.29  2.75  Sat  Dinner     2\n",
      "22        15.77  2.23  Sat  Dinner     2\n",
      "23        39.42  7.58  Sat  Dinner     4\n",
      "..          ...   ...  ...     ...   ...\n",
      "238       35.83  4.67  Sat  Dinner     3\n",
      "239       29.03  5.92  Sat  Dinner     3\n",
      "240       27.18  2.00  Sat  Dinner     2\n",
      "241       22.67  2.00  Sat  Dinner     2\n",
      "242       17.82  1.75  Sat  Dinner     2\n",
      "\n",
      "[87 rows x 5 columns]\n",
      "\n",
      "     total_bill   tip  day    time  size\n",
      "0         16.99  1.01  Sun  Dinner     2\n",
      "1         10.34  1.66  Sun  Dinner     3\n",
      "2         21.01  3.50  Sun  Dinner     3\n",
      "3         23.68  3.31  Sun  Dinner     2\n",
      "4         24.59  3.61  Sun  Dinner     4\n",
      "..          ...   ...  ...     ...   ...\n",
      "186       20.90  3.50  Sun  Dinner     3\n",
      "187       30.46  2.00  Sun  Dinner     5\n",
      "188       18.15  3.50  Sun  Dinner     3\n",
      "189       23.10  4.00  Sun  Dinner     3\n",
      "190       15.69  1.50  Sun  Dinner     2\n",
      "\n",
      "[76 rows x 5 columns]\n",
      "\n",
      "     total_bill   tip   day    time  size\n",
      "77        27.20  4.00  Thur   Lunch     4\n",
      "78        22.76  3.00  Thur   Lunch     2\n",
      "79        17.29  2.71  Thur   Lunch     2\n",
      "80        19.44  3.00  Thur   Lunch     2\n",
      "81        16.66  3.40  Thur   Lunch     2\n",
      "..          ...   ...   ...     ...   ...\n",
      "202       13.00  2.00  Thur   Lunch     2\n",
      "203       16.40  2.50  Thur   Lunch     2\n",
      "204       20.53  4.00  Thur   Lunch     4\n",
      "205       16.47  3.23  Thur   Lunch     3\n",
      "243       18.78  3.00  Thur  Dinner     2\n",
      "\n",
      "[62 rows x 5 columns]\n",
      "\n"
     ]
    },
    {
     "data": {
      "text/plain": "day\nFri     (2, 3, 4)\nSat     (2, 3, 4)\nSun     (2, 3, 4)\nThur    (2, 3, 4)\ndtype: object"
     },
     "execution_count": 260,
     "metadata": {},
     "output_type": "execute_result"
    }
   ],
   "source": [
    "def app_f1(group):\n",
    "    print(group, end='\\n\\n')  # 每个分类下的所有的数据为一个group\n",
    "    return 2, 3, 4\n",
    "\n",
    "\n",
    "# 每个分组下返回值的拼接\n",
    "group_df.apply(app_f1)"
   ],
   "metadata": {
    "collapsed": false,
    "pycharm": {
     "name": "#%%\n"
    }
   }
  },
  {
   "cell_type": "code",
   "execution_count": 261,
   "outputs": [
    {
     "name": "stdout",
     "output_type": "stream",
     "text": [
      "one      2\n",
      "two      3\n",
      "three    4\n",
      "dtype: int64\n",
      "\n",
      "one      2\n",
      "two      3\n",
      "three    4\n",
      "dtype: int64\n",
      "\n",
      "one      2\n",
      "two      3\n",
      "three    4\n",
      "dtype: int64\n",
      "\n",
      "one      2\n",
      "two      3\n",
      "three    4\n",
      "dtype: int64\n",
      "\n"
     ]
    },
    {
     "data": {
      "text/plain": "      one  two  three\nday                  \nFri     2    3      4\nSat     2    3      4\nSun     2    3      4\nThur    2    3      4",
      "text/html": "<div>\n<style scoped>\n    .dataframe tbody tr th:only-of-type {\n        vertical-align: middle;\n    }\n\n    .dataframe tbody tr th {\n        vertical-align: top;\n    }\n\n    .dataframe thead th {\n        text-align: right;\n    }\n</style>\n<table border=\"1\" class=\"dataframe\">\n  <thead>\n    <tr style=\"text-align: right;\">\n      <th></th>\n      <th>one</th>\n      <th>two</th>\n      <th>three</th>\n    </tr>\n    <tr>\n      <th>day</th>\n      <th></th>\n      <th></th>\n      <th></th>\n    </tr>\n  </thead>\n  <tbody>\n    <tr>\n      <th>Fri</th>\n      <td>2</td>\n      <td>3</td>\n      <td>4</td>\n    </tr>\n    <tr>\n      <th>Sat</th>\n      <td>2</td>\n      <td>3</td>\n      <td>4</td>\n    </tr>\n    <tr>\n      <th>Sun</th>\n      <td>2</td>\n      <td>3</td>\n      <td>4</td>\n    </tr>\n    <tr>\n      <th>Thur</th>\n      <td>2</td>\n      <td>3</td>\n      <td>4</td>\n    </tr>\n  </tbody>\n</table>\n</div>"
     },
     "execution_count": 261,
     "metadata": {},
     "output_type": "execute_result"
    }
   ],
   "source": [
    "def app_f2(group):\n",
    "    ser = pd.Series([2, 3, 4], index=['one', 'two', 'three'])\n",
    "    print(ser, end='\\n\\n')\n",
    "    return ser\n",
    "\n",
    "\n",
    "group_df.apply(app_f2)"
   ],
   "metadata": {
    "collapsed": false,
    "pycharm": {
     "name": "#%%\n"
    }
   }
  },
  {
   "cell_type": "code",
   "execution_count": 262,
   "outputs": [
    {
     "name": "stdout",
     "output_type": "stream",
     "text": [
      "    total_bill  tip  day    time  size\n",
      "90       28.97  3.0  Fri  Dinner     2\n",
      "91       22.49  3.5  Fri  Dinner     2\n",
      "92        5.75  1.0  Fri  Dinner     2\n",
      "\n",
      "    total_bill   tip  day    time  size\n",
      "19       20.65  3.35  Sat  Dinner     3\n",
      "20       17.92  4.08  Sat  Dinner     2\n",
      "21       20.29  2.75  Sat  Dinner     2\n",
      "\n",
      "   total_bill   tip  day    time  size\n",
      "0       16.99  1.01  Sun  Dinner     2\n",
      "1       10.34  1.66  Sun  Dinner     3\n",
      "2       21.01  3.50  Sun  Dinner     3\n",
      "\n",
      "    total_bill   tip   day   time  size\n",
      "77       27.20  4.00  Thur  Lunch     4\n",
      "78       22.76  3.00  Thur  Lunch     2\n",
      "79       17.29  2.71  Thur  Lunch     2\n",
      "\n"
     ]
    },
    {
     "data": {
      "text/plain": "         total_bill   tip   day    time  size\nday                                          \nFri  90       28.97  3.00   Fri  Dinner     2\n     91       22.49  3.50   Fri  Dinner     2\n     92        5.75  1.00   Fri  Dinner     2\nSat  19       20.65  3.35   Sat  Dinner     3\n     20       17.92  4.08   Sat  Dinner     2\n     21       20.29  2.75   Sat  Dinner     2\nSun  0        16.99  1.01   Sun  Dinner     2\n     1        10.34  1.66   Sun  Dinner     3\n     2        21.01  3.50   Sun  Dinner     3\nThur 77       27.20  4.00  Thur   Lunch     4\n     78       22.76  3.00  Thur   Lunch     2\n     79       17.29  2.71  Thur   Lunch     2",
      "text/html": "<div>\n<style scoped>\n    .dataframe tbody tr th:only-of-type {\n        vertical-align: middle;\n    }\n\n    .dataframe tbody tr th {\n        vertical-align: top;\n    }\n\n    .dataframe thead th {\n        text-align: right;\n    }\n</style>\n<table border=\"1\" class=\"dataframe\">\n  <thead>\n    <tr style=\"text-align: right;\">\n      <th></th>\n      <th></th>\n      <th>total_bill</th>\n      <th>tip</th>\n      <th>day</th>\n      <th>time</th>\n      <th>size</th>\n    </tr>\n    <tr>\n      <th>day</th>\n      <th></th>\n      <th></th>\n      <th></th>\n      <th></th>\n      <th></th>\n      <th></th>\n    </tr>\n  </thead>\n  <tbody>\n    <tr>\n      <th rowspan=\"3\" valign=\"top\">Fri</th>\n      <th>90</th>\n      <td>28.97</td>\n      <td>3.00</td>\n      <td>Fri</td>\n      <td>Dinner</td>\n      <td>2</td>\n    </tr>\n    <tr>\n      <th>91</th>\n      <td>22.49</td>\n      <td>3.50</td>\n      <td>Fri</td>\n      <td>Dinner</td>\n      <td>2</td>\n    </tr>\n    <tr>\n      <th>92</th>\n      <td>5.75</td>\n      <td>1.00</td>\n      <td>Fri</td>\n      <td>Dinner</td>\n      <td>2</td>\n    </tr>\n    <tr>\n      <th rowspan=\"3\" valign=\"top\">Sat</th>\n      <th>19</th>\n      <td>20.65</td>\n      <td>3.35</td>\n      <td>Sat</td>\n      <td>Dinner</td>\n      <td>3</td>\n    </tr>\n    <tr>\n      <th>20</th>\n      <td>17.92</td>\n      <td>4.08</td>\n      <td>Sat</td>\n      <td>Dinner</td>\n      <td>2</td>\n    </tr>\n    <tr>\n      <th>21</th>\n      <td>20.29</td>\n      <td>2.75</td>\n      <td>Sat</td>\n      <td>Dinner</td>\n      <td>2</td>\n    </tr>\n    <tr>\n      <th rowspan=\"3\" valign=\"top\">Sun</th>\n      <th>0</th>\n      <td>16.99</td>\n      <td>1.01</td>\n      <td>Sun</td>\n      <td>Dinner</td>\n      <td>2</td>\n    </tr>\n    <tr>\n      <th>1</th>\n      <td>10.34</td>\n      <td>1.66</td>\n      <td>Sun</td>\n      <td>Dinner</td>\n      <td>3</td>\n    </tr>\n    <tr>\n      <th>2</th>\n      <td>21.01</td>\n      <td>3.50</td>\n      <td>Sun</td>\n      <td>Dinner</td>\n      <td>3</td>\n    </tr>\n    <tr>\n      <th rowspan=\"3\" valign=\"top\">Thur</th>\n      <th>77</th>\n      <td>27.20</td>\n      <td>4.00</td>\n      <td>Thur</td>\n      <td>Lunch</td>\n      <td>4</td>\n    </tr>\n    <tr>\n      <th>78</th>\n      <td>22.76</td>\n      <td>3.00</td>\n      <td>Thur</td>\n      <td>Lunch</td>\n      <td>2</td>\n    </tr>\n    <tr>\n      <th>79</th>\n      <td>17.29</td>\n      <td>2.71</td>\n      <td>Thur</td>\n      <td>Lunch</td>\n      <td>2</td>\n    </tr>\n  </tbody>\n</table>\n</div>"
     },
     "execution_count": 262,
     "metadata": {},
     "output_type": "execute_result"
    }
   ],
   "source": [
    "def app_f3(group):\n",
    "    print(group.head(3), end='\\n\\n')\n",
    "    return group.head(3)\n",
    "\n",
    "\n",
    "group_df.apply(app_f3)"
   ],
   "metadata": {
    "collapsed": false,
    "pycharm": {
     "name": "#%%\n"
    }
   }
  },
  {
   "cell_type": "code",
   "execution_count": 263,
   "outputs": [
    {
     "name": "stdout",
     "output_type": "stream",
     "text": [
      "total_bill  max     40.17\n",
      "            min      5.75\n",
      "tip         max      4.73\n",
      "            min       1.0\n",
      "day         max       Fri\n",
      "            min       Fri\n",
      "time        max     Lunch\n",
      "            min    Dinner\n",
      "size        max         4\n",
      "            min         1\n",
      "dtype: object\n",
      "\n",
      "total_bill  max     50.81\n",
      "            min      3.07\n",
      "tip         max      10.0\n",
      "            min       1.0\n",
      "day         max       Sat\n",
      "            min       Sat\n",
      "time        max    Dinner\n",
      "            min    Dinner\n",
      "size        max         5\n",
      "            min         1\n",
      "dtype: object\n",
      "\n",
      "total_bill  max     48.17\n",
      "            min      7.25\n",
      "tip         max       6.5\n",
      "            min      1.01\n",
      "day         max       Sun\n",
      "            min       Sun\n",
      "time        max    Dinner\n",
      "            min    Dinner\n",
      "size        max         6\n",
      "            min         2\n",
      "dtype: object\n",
      "\n",
      "total_bill  max     43.11\n",
      "            min      7.51\n",
      "tip         max       6.7\n",
      "            min      1.25\n",
      "day         max      Thur\n",
      "            min      Thur\n",
      "time        max     Lunch\n",
      "            min    Dinner\n",
      "size        max         6\n",
      "            min         1\n",
      "dtype: object\n",
      "\n"
     ]
    },
    {
     "data": {
      "text/plain": "     total_bill          tip         day          time         size    \n            max   min    max   min   max   min     max     min  max min\nday                                                                    \nFri       40.17  5.75   4.73  1.00   Fri   Fri   Lunch  Dinner    4   1\nSat       50.81  3.07  10.00  1.00   Sat   Sat  Dinner  Dinner    5   1\nSun       48.17  7.25   6.50  1.01   Sun   Sun  Dinner  Dinner    6   2\nThur      43.11  7.51   6.70  1.25  Thur  Thur   Lunch  Dinner    6   1",
      "text/html": "<div>\n<style scoped>\n    .dataframe tbody tr th:only-of-type {\n        vertical-align: middle;\n    }\n\n    .dataframe tbody tr th {\n        vertical-align: top;\n    }\n\n    .dataframe thead tr th {\n        text-align: left;\n    }\n\n    .dataframe thead tr:last-of-type th {\n        text-align: right;\n    }\n</style>\n<table border=\"1\" class=\"dataframe\">\n  <thead>\n    <tr>\n      <th></th>\n      <th colspan=\"2\" halign=\"left\">total_bill</th>\n      <th colspan=\"2\" halign=\"left\">tip</th>\n      <th colspan=\"2\" halign=\"left\">day</th>\n      <th colspan=\"2\" halign=\"left\">time</th>\n      <th colspan=\"2\" halign=\"left\">size</th>\n    </tr>\n    <tr>\n      <th></th>\n      <th>max</th>\n      <th>min</th>\n      <th>max</th>\n      <th>min</th>\n      <th>max</th>\n      <th>min</th>\n      <th>max</th>\n      <th>min</th>\n      <th>max</th>\n      <th>min</th>\n    </tr>\n    <tr>\n      <th>day</th>\n      <th></th>\n      <th></th>\n      <th></th>\n      <th></th>\n      <th></th>\n      <th></th>\n      <th></th>\n      <th></th>\n      <th></th>\n      <th></th>\n    </tr>\n  </thead>\n  <tbody>\n    <tr>\n      <th>Fri</th>\n      <td>40.17</td>\n      <td>5.75</td>\n      <td>4.73</td>\n      <td>1.00</td>\n      <td>Fri</td>\n      <td>Fri</td>\n      <td>Lunch</td>\n      <td>Dinner</td>\n      <td>4</td>\n      <td>1</td>\n    </tr>\n    <tr>\n      <th>Sat</th>\n      <td>50.81</td>\n      <td>3.07</td>\n      <td>10.00</td>\n      <td>1.00</td>\n      <td>Sat</td>\n      <td>Sat</td>\n      <td>Dinner</td>\n      <td>Dinner</td>\n      <td>5</td>\n      <td>1</td>\n    </tr>\n    <tr>\n      <th>Sun</th>\n      <td>48.17</td>\n      <td>7.25</td>\n      <td>6.50</td>\n      <td>1.01</td>\n      <td>Sun</td>\n      <td>Sun</td>\n      <td>Dinner</td>\n      <td>Dinner</td>\n      <td>6</td>\n      <td>2</td>\n    </tr>\n    <tr>\n      <th>Thur</th>\n      <td>43.11</td>\n      <td>7.51</td>\n      <td>6.70</td>\n      <td>1.25</td>\n      <td>Thur</td>\n      <td>Thur</td>\n      <td>Lunch</td>\n      <td>Dinner</td>\n      <td>6</td>\n      <td>1</td>\n    </tr>\n  </tbody>\n</table>\n</div>"
     },
     "execution_count": 263,
     "metadata": {},
     "output_type": "execute_result"
    }
   ],
   "source": [
    "def app_f4(group):\n",
    "    mx = group.max()\n",
    "    mi = group.min()\n",
    "\n",
    "    # 多层索引\n",
    "    index_out = np.repeat(mi.index.values, 2)\n",
    "    index_inner = np.array(['max', 'min'] * 5)\n",
    "    all_index = np.stack((index_out, index_inner), axis=0)\n",
    "    new_columns = pd.MultiIndex.from_arrays(all_index)\n",
    "    values = np.stack((mx.values, mi.values), axis=0).T.flatten()\n",
    "\n",
    "    result = pd.Series(values, index=new_columns)\n",
    "    print(result, end='\\n\\n')\n",
    "    return result\n",
    "\n",
    "\n",
    "group_df.apply(app_f4)"
   ],
   "metadata": {
    "collapsed": false,
    "pycharm": {
     "name": "#%%\n"
    }
   }
  },
  {
   "cell_type": "markdown",
   "source": [
    "### agg函数的特点"
   ],
   "metadata": {
    "collapsed": false,
    "pycharm": {
     "name": "#%% md\n"
    }
   }
  },
  {
   "cell_type": "code",
   "execution_count": 264,
   "outputs": [
    {
     "data": {
      "text/plain": "      total_bill  tip  time  size\nday                              \nFri          2.0  2.0     2     2\nSat          2.0  2.0     2     2\nSun          2.0  2.0     2     2\nThur         2.0  2.0     2     2",
      "text/html": "<div>\n<style scoped>\n    .dataframe tbody tr th:only-of-type {\n        vertical-align: middle;\n    }\n\n    .dataframe tbody tr th {\n        vertical-align: top;\n    }\n\n    .dataframe thead th {\n        text-align: right;\n    }\n</style>\n<table border=\"1\" class=\"dataframe\">\n  <thead>\n    <tr style=\"text-align: right;\">\n      <th></th>\n      <th>total_bill</th>\n      <th>tip</th>\n      <th>time</th>\n      <th>size</th>\n    </tr>\n    <tr>\n      <th>day</th>\n      <th></th>\n      <th></th>\n      <th></th>\n      <th></th>\n    </tr>\n  </thead>\n  <tbody>\n    <tr>\n      <th>Fri</th>\n      <td>2.0</td>\n      <td>2.0</td>\n      <td>2</td>\n      <td>2</td>\n    </tr>\n    <tr>\n      <th>Sat</th>\n      <td>2.0</td>\n      <td>2.0</td>\n      <td>2</td>\n      <td>2</td>\n    </tr>\n    <tr>\n      <th>Sun</th>\n      <td>2.0</td>\n      <td>2.0</td>\n      <td>2</td>\n      <td>2</td>\n    </tr>\n    <tr>\n      <th>Thur</th>\n      <td>2.0</td>\n      <td>2.0</td>\n      <td>2</td>\n      <td>2</td>\n    </tr>\n  </tbody>\n</table>\n</div>"
     },
     "execution_count": 264,
     "metadata": {},
     "output_type": "execute_result"
    }
   ],
   "source": [
    "def agg_f1(group):\n",
    "    return 2\n",
    "\n",
    "\n",
    "# 不包括用于确定groupby的组\n",
    "group_df.agg(agg_f1)"
   ],
   "metadata": {
    "collapsed": false,
    "pycharm": {
     "name": "#%%\n"
    }
   }
  },
  {
   "cell_type": "code",
   "execution_count": 265,
   "outputs": [
    {
     "name": "stdout",
     "output_type": "stream",
     "text": [
      "total_bill\n",
      "17.151578947368417\n",
      "\n",
      "total_bill\n",
      "20.441379310344825\n",
      "\n",
      "total_bill\n",
      "21.410000000000004\n",
      "\n",
      "total_bill\n",
      "17.682741935483865\n",
      "\n",
      "tip\n",
      "2.734736842105263\n",
      "\n",
      "tip\n",
      "2.993103448275862\n",
      "\n",
      "tip\n",
      "3.255131578947369\n",
      "\n",
      "tip\n",
      "2.771451612903226\n",
      "\n",
      "time\n",
      "Fri\n",
      "size\n",
      "2.1052631578947367\n",
      "\n",
      "size\n",
      "2.5172413793103448\n",
      "\n",
      "size\n",
      "2.8421052631578947\n",
      "\n",
      "size\n",
      "2.4516129032258065\n",
      "\n"
     ]
    },
    {
     "data": {
      "text/plain": "      total_bill       tip      size\nday                                 \nFri    17.151579  2.734737  2.105263\nSat    20.441379  2.993103  2.517241\nSun    21.410000  3.255132  2.842105\nThur   17.682742  2.771452  2.451613",
      "text/html": "<div>\n<style scoped>\n    .dataframe tbody tr th:only-of-type {\n        vertical-align: middle;\n    }\n\n    .dataframe tbody tr th {\n        vertical-align: top;\n    }\n\n    .dataframe thead th {\n        text-align: right;\n    }\n</style>\n<table border=\"1\" class=\"dataframe\">\n  <thead>\n    <tr style=\"text-align: right;\">\n      <th></th>\n      <th>total_bill</th>\n      <th>tip</th>\n      <th>size</th>\n    </tr>\n    <tr>\n      <th>day</th>\n      <th></th>\n      <th></th>\n      <th></th>\n    </tr>\n  </thead>\n  <tbody>\n    <tr>\n      <th>Fri</th>\n      <td>17.151579</td>\n      <td>2.734737</td>\n      <td>2.105263</td>\n    </tr>\n    <tr>\n      <th>Sat</th>\n      <td>20.441379</td>\n      <td>2.993103</td>\n      <td>2.517241</td>\n    </tr>\n    <tr>\n      <th>Sun</th>\n      <td>21.410000</td>\n      <td>3.255132</td>\n      <td>2.842105</td>\n    </tr>\n    <tr>\n      <th>Thur</th>\n      <td>17.682742</td>\n      <td>2.771452</td>\n      <td>2.451613</td>\n    </tr>\n  </tbody>\n</table>\n</div>"
     },
     "execution_count": 265,
     "metadata": {},
     "output_type": "execute_result"
    }
   ],
   "source": [
    "def agg_f2(group):\n",
    "    print(group.name)  # 每个分组下的每列为一个group\n",
    "    print(group.mean(), end='\\n\\n')  # 标量\n",
    "\n",
    "    # ★★★★★返回值必须为标量(agg函数的作用为聚合,聚合就是数据由向量缩减为标量).若返回值不为标量,请使用apply函数\n",
    "    return group.mean()\n",
    "\n",
    "\n",
    "# 将每个分组下的每列返回值组合\n",
    "group_df.agg(agg_f2)\n"
   ],
   "metadata": {
    "collapsed": false,
    "pycharm": {
     "name": "#%%\n"
    }
   }
  },
  {
   "cell_type": "code",
   "execution_count": 265,
   "outputs": [],
   "source": [],
   "metadata": {
    "collapsed": false,
    "pycharm": {
     "name": "#%%\n"
    }
   }
  }
 ],
 "metadata": {
  "kernelspec": {
   "display_name": "Python 3",
   "language": "python",
   "name": "python3"
  },
  "language_info": {
   "codemirror_mode": {
    "name": "ipython",
    "version": 3
   },
   "file_extension": ".py",
   "mimetype": "text/x-python",
   "name": "python",
   "nbconvert_exporter": "python",
   "pygments_lexer": "ipython3",
   "version": "3.7.9"
  },
  "toc": {
   "base_numbering": 1,
   "nav_menu": {},
   "number_sections": true,
   "sideBar": true,
   "skip_h1_title": false,
   "title_cell": "Table of Contents",
   "title_sidebar": "Contents",
   "toc_cell": false,
   "toc_position": {},
   "toc_section_display": true,
   "toc_window_display": false
  }
 },
 "nbformat": 4,
 "nbformat_minor": 1
}