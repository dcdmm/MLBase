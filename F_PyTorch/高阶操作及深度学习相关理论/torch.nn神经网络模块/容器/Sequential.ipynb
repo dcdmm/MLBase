{
 "cells": [
  {
   "cell_type": "code",
   "execution_count": 11,
   "metadata": {
    "collapsed": true
   },
   "outputs": [],
   "source": [
    "import torch.nn as nn\n",
    "import torch\n",
    "from collections import OrderedDict"
   ]
  },
  {
   "cell_type": "code",
   "execution_count": 12,
   "outputs": [],
   "source": [
    "class LeNet(nn.Module):\n",
    "    def __init__(self):\n",
    "        super(LeNet, self).__init__()\n",
    "        self.featrues = nn.Sequential( # 内部实现了forward函数;各网络层顺序执行\n",
    "            nn.Conv2d(1, 6, 3),\n",
    "            nn.ReLU(),\n",
    "            nn.MaxPool2d(2, 2),\n",
    "            nn.Conv2d(6, 16, 3),\n",
    "            nn.ReLU(),\n",
    "            nn.MaxPool2d(2, 2)\n",
    "        )\n",
    "        self.classifier = nn.Sequential(\n",
    "            nn.Linear(16*6*6, 120),\n",
    "            nn.ReLU(),\n",
    "            nn.Linear(120, 84),\n",
    "            nn.ReLU(),\n",
    "            nn.Linear(84, 10),\n",
    "        )\n",
    "\n",
    "    def forward(self, x):\n",
    "        x = self.featrues(x)\n",
    "        x = x.reshape(x.size()[0], -1)\n",
    "        x = self.classifier(x)\n",
    "        return x"
   ],
   "metadata": {
    "collapsed": false,
    "pycharm": {
     "name": "#%%\n"
    }
   }
  },
  {
   "cell_type": "code",
   "execution_count": 13,
   "outputs": [
    {
     "data": {
      "text/plain": "LeNet(\n  (featrues): Sequential(\n    (0): Conv2d(1, 6, kernel_size=(3, 3), stride=(1, 1))\n    (1): ReLU()\n    (2): MaxPool2d(kernel_size=2, stride=2, padding=0, dilation=1, ceil_mode=False)\n    (3): Conv2d(6, 16, kernel_size=(3, 3), stride=(1, 1))\n    (4): ReLU()\n    (5): MaxPool2d(kernel_size=2, stride=2, padding=0, dilation=1, ceil_mode=False)\n  )\n  (classifier): Sequential(\n    (0): Linear(in_features=576, out_features=120, bias=True)\n    (1): ReLU()\n    (2): Linear(in_features=120, out_features=84, bias=True)\n    (3): ReLU()\n    (4): Linear(in_features=84, out_features=10, bias=True)\n  )\n)"
     },
     "execution_count": 13,
     "metadata": {},
     "output_type": "execute_result"
    }
   ],
   "source": [
    "net = LeNet()\n",
    "net"
   ],
   "metadata": {
    "collapsed": false,
    "pycharm": {
     "name": "#%%\n"
    }
   }
  },
  {
   "cell_type": "code",
   "execution_count": 14,
   "outputs": [
    {
     "name": "stdout",
     "output_type": "stream",
     "text": [
      "Conv2d(1, 6, kernel_size=(3, 3), stride=(1, 1))\n",
      "<class 'torch.nn.modules.conv.Conv2d'>\n",
      "Sequential(\n",
      "  (0): Conv2d(1, 6, kernel_size=(3, 3), stride=(1, 1))\n",
      "  (1): ReLU()\n",
      "  (2): MaxPool2d(kernel_size=2, stride=2, padding=0, dilation=1, ceil_mode=False)\n",
      ")\n"
     ]
    }
   ],
   "source": [
    "print(net.featrues[0]) # 通过网络层顺序进行索引或切片\n",
    "print(type(net.featrues[0]))\n",
    "print(net.featrues[0:3])"
   ],
   "metadata": {
    "collapsed": false,
    "pycharm": {
     "name": "#%%\n"
    }
   }
  },
  {
   "cell_type": "code",
   "execution_count": 15,
   "outputs": [
    {
     "data": {
      "text/plain": "tensor([[ 0.0874, -0.0706,  0.0642,  0.2153, -0.0228,  0.0939,  0.0963,  0.1423,\n          0.0593,  0.0394]], grad_fn=<AddmmBackward>)"
     },
     "execution_count": 15,
     "metadata": {},
     "output_type": "execute_result"
    }
   ],
   "source": [
    "img = torch.randn((1, 1, 32, 32), dtype=torch.float32)\n",
    "ret = net(img) # 调用forward方法(通过__call__方法),继承自nn.Module\n",
    "ret"
   ],
   "metadata": {
    "collapsed": false,
    "pycharm": {
     "name": "#%%\n"
    }
   }
  },
  {
   "cell_type": "code",
   "execution_count": 16,
   "outputs": [],
   "source": [
    "class LeNet1(LeNet):\n",
    "    def __init__(self):\n",
    "        super(LeNet1, self).__init__()\n",
    "        self.featrues = nn.Sequential(OrderedDict({ # 有序字典\n",
    "            'conv1': nn.Conv2d(1, 6, 3), # 通过有序字典指定各模块的名称\n",
    "            'relu1': nn.ReLU(),\n",
    "            'pool1': nn.MaxPool2d(2, 2),\n",
    "            'conv2': nn.Conv2d(6, 16, 3),\n",
    "            'relu2': nn.ReLU(),\n",
    "            'pool2': nn.MaxPool2d(2, 2)\n",
    "        }))\n",
    "        self.classifier = nn.Sequential(OrderedDict({\n",
    "            'line1': nn.Linear(16*6*6, 120),\n",
    "            'relu1': nn.ReLU(),\n",
    "            'line2': nn.Linear(120, 84),\n",
    "            'relu2': nn.ReLU(),\n",
    "            'line3': nn.Linear(84, 10),\n",
    "        }))\n",
    "\n",
    "    def forward(self, x):\n",
    "        x = self.featrues(x)\n",
    "        x = x.reshape(x.size()[0], -1)\n",
    "        x = self.classifier(x)\n",
    "        return x"
   ],
   "metadata": {
    "collapsed": false,
    "pycharm": {
     "name": "#%%\n"
    }
   }
  },
  {
   "cell_type": "code",
   "execution_count": 17,
   "outputs": [
    {
     "data": {
      "text/plain": "LeNet1(\n  (featrues): Sequential(\n    (conv1): Conv2d(1, 6, kernel_size=(3, 3), stride=(1, 1))\n    (relu1): ReLU()\n    (pool1): MaxPool2d(kernel_size=2, stride=2, padding=0, dilation=1, ceil_mode=False)\n    (conv2): Conv2d(6, 16, kernel_size=(3, 3), stride=(1, 1))\n    (relu2): ReLU()\n    (pool2): MaxPool2d(kernel_size=2, stride=2, padding=0, dilation=1, ceil_mode=False)\n  )\n  (classifier): Sequential(\n    (line1): Linear(in_features=576, out_features=120, bias=True)\n    (relu1): ReLU()\n    (line2): Linear(in_features=120, out_features=84, bias=True)\n    (relu2): ReLU()\n    (line3): Linear(in_features=84, out_features=10, bias=True)\n  )\n)"
     },
     "execution_count": 17,
     "metadata": {},
     "output_type": "execute_result"
    }
   ],
   "source": [
    "net1 = LeNet1()\n",
    "net1"
   ],
   "metadata": {
    "collapsed": false,
    "pycharm": {
     "name": "#%%\n"
    }
   }
  },
  {
   "cell_type": "code",
   "execution_count": 18,
   "outputs": [
    {
     "name": "stdout",
     "output_type": "stream",
     "text": [
      "Conv2d(1, 6, kernel_size=(3, 3), stride=(1, 1))\n",
      "Sequential(\n",
      "  (0): Conv2d(1, 6, kernel_size=(3, 3), stride=(1, 1))\n",
      "  (1): ReLU()\n",
      "  (2): MaxPool2d(kernel_size=2, stride=2, padding=0, dilation=1, ceil_mode=False)\n",
      "  (3): Conv2d(6, 16, kernel_size=(3, 3), stride=(1, 1))\n",
      ")\n",
      "Conv2d(6, 16, kernel_size=(3, 3), stride=(1, 1))\n"
     ]
    }
   ],
   "source": [
    "print(net1.featrues[0]) # 通过网络层顺序进行索引或切片\n",
    "print(net.featrues[0:4])\n",
    "print(net1.featrues.conv2) # 还可以通过名称(即有序字典的key)进行索引"
   ],
   "metadata": {
    "collapsed": false,
    "pycharm": {
     "name": "#%%\n"
    }
   }
  },
  {
   "cell_type": "code",
   "execution_count": 19,
   "outputs": [
    {
     "data": {
      "text/plain": "tensor([[-0.0172, -0.1413,  0.1419, -0.0052,  0.0612, -0.0540, -0.0895,  0.0453,\n         -0.0634, -0.0467]], grad_fn=<AddmmBackward>)"
     },
     "execution_count": 19,
     "metadata": {},
     "output_type": "execute_result"
    }
   ],
   "source": [
    "img1 = torch.randn((1, 1, 32, 32), dtype=torch.float32)\n",
    "ret1 = net1(img)\n",
    "ret1"
   ],
   "metadata": {
    "collapsed": false,
    "pycharm": {
     "name": "#%%\n"
    }
   }
  }
 ],
 "metadata": {
  "kernelspec": {
   "display_name": "Python 3",
   "language": "python",
   "name": "python3"
  },
  "language_info": {
   "codemirror_mode": {
    "name": "ipython",
    "version": 2
   },
   "file_extension": ".py",
   "mimetype": "text/x-python",
   "name": "python",
   "nbconvert_exporter": "python",
   "pygments_lexer": "ipython2",
   "version": "2.7.6"
  }
 },
 "nbformat": 4,
 "nbformat_minor": 0
}