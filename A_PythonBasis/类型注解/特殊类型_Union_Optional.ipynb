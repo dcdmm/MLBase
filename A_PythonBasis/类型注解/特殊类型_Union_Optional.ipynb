{
 "cells": [
  {
   "cell_type": "code",
   "metadata": {
    "collapsed": false,
    "pycharm": {
     "name": "#%%\n"
    },
    "ExecuteTime": {
     "end_time": "2024-08-01T09:26:34.394988Z",
     "start_time": "2024-08-01T09:26:34.379374Z"
    }
   },
   "source": [
    "\"\"\"\n",
    "Union type; Union[X, Y] is equivalent to X | Y and means either X or Y.\n",
    "\n",
    "To define a union, use e.g. Union[int, str] or the shorthand int | str. Using that shorthand is recommended\n",
    "\"\"\"\n",
    "\n",
    "from typing import Union\n",
    "\n",
    "\n",
    "def func_Union(x: Union[int, bool]) -> int:  # x的类型为int或bool类型\n",
    "    return 1\n",
    "\n",
    "\n",
    "print(func_Union.__annotations__)\n",
    "print(func_Union(x=3))\n",
    "print(func_Union(x=False))\n",
    "print(func_Union(x=3.14))  # 提示类型不匹配"
   ],
   "outputs": [
    {
     "name": "stdout",
     "output_type": "stream",
     "text": [
      "{'x': typing.Union[int, bool], 'return': <class 'int'>}\n",
      "1\n",
      "1\n",
      "1\n"
     ]
    }
   ],
   "execution_count": 1
  },
  {
   "cell_type": "markdown",
   "metadata": {
    "collapsed": false,
    "pycharm": {
     "name": "#%% md\n"
    }
   },
   "source": [
    "### Optional"
   ]
  },
  {
   "cell_type": "code",
   "metadata": {
    "collapsed": false,
    "pycharm": {
     "name": "#%%\n"
    },
    "ExecuteTime": {
     "end_time": "2024-08-01T09:26:34.411601Z",
     "start_time": "2024-08-01T09:26:34.395989Z"
    }
   },
   "source": [
    "# Optional[X] is equivalent to X | None (or Union[X, None]).\n",
    "\n",
    "from typing import Optional\n",
    "\n",
    "\n",
    "def func_Optional(x: Optional[int]) -> int:\n",
    "    return 1\n",
    "\n",
    "\n",
    "print(func_Optional.__annotations__)\n",
    "\n",
    "print(func_Optional(x=3))\n",
    "print(func_Optional(x=False))\n",
    "print(func_Optional(x=None))\n",
    "print(func_Optional(x=3.14))  # 提示类型不匹配"
   ],
   "outputs": [
    {
     "name": "stdout",
     "output_type": "stream",
     "text": [
      "{'x': typing.Optional[int], 'return': <class 'int'>}\n",
      "1\n",
      "1\n",
      "1\n",
      "1\n"
     ]
    }
   ],
   "execution_count": 2
  }
 ],
 "metadata": {
  "kernelspec": {
   "display_name": "Python 3",
   "language": "python",
   "name": "python3"
  },
  "language_info": {
   "codemirror_mode": {
    "name": "ipython",
    "version": 3
   },
   "file_extension": ".py",
   "mimetype": "text/x-python",
   "name": "python",
   "nbconvert_exporter": "python",
   "pygments_lexer": "ipython3",
   "version": "3.11.7"
  }
 },
 "nbformat": 4,
 "nbformat_minor": 0
}
