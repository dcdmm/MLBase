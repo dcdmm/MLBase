{
 "cells": [
  {
   "cell_type": "code",
   "execution_count": 1,
   "metadata": {
    "collapsed": true,
    "pycharm": {
     "name": "#%%\n"
    },
    "ExecuteTime": {
     "end_time": "2024-03-27T07:16:30.849001300Z",
     "start_time": "2024-03-27T07:16:30.818416300Z"
    }
   },
   "outputs": [
    {
     "data": {
      "text/plain": "'I  Duanmengmeng Love ?'"
     },
     "execution_count": 1,
     "metadata": {},
     "output_type": "execute_result"
    }
   ],
   "source": [
    "example = '  \\n\\tI  Duanmengmeng Love ? \\n\\t\\t   '\n",
    "\n",
    "\"\"\"\n",
    "S.strip([chars]) -> str\n",
    "\n",
    "Return a copy of the string S with leading and trailing\n",
    "whitespace removed.\n",
    "If chars is given and not None, remove characters in chars instead.\n",
    "\"\"\"\n",
    "example.strip() "
   ]
  },
  {
   "cell_type": "code",
   "execution_count": 2,
   "outputs": [
    {
     "data": {
      "text/plain": "'duanmengmeng'"
     },
     "execution_count": 2,
     "metadata": {},
     "output_type": "execute_result"
    }
   ],
   "source": [
    "love = '!duanmengmeng!'\n",
    "love.strip('!') "
   ],
   "metadata": {
    "collapsed": false,
    "pycharm": {
     "name": "#%%\n"
    },
    "ExecuteTime": {
     "end_time": "2024-03-27T07:16:30.869212Z",
     "start_time": "2024-03-27T07:16:30.836811500Z"
    }
   }
  },
  {
   "cell_type": "code",
   "execution_count": 2,
   "outputs": [],
   "source": [
    "\n"
   ],
   "metadata": {
    "collapsed": false,
    "pycharm": {
     "name": "#%%\n"
    },
    "ExecuteTime": {
     "end_time": "2024-03-27T07:16:30.870245300Z",
     "start_time": "2024-03-27T07:16:30.850483700Z"
    }
   }
  }
 ],
 "metadata": {
  "kernelspec": {
   "display_name": "Python 3",
   "language": "python",
   "name": "python3"
  },
  "language_info": {
   "codemirror_mode": {
    "name": "ipython",
    "version": 2
   },
   "file_extension": ".py",
   "mimetype": "text/x-python",
   "name": "python",
   "nbconvert_exporter": "python",
   "pygments_lexer": "ipython2",
   "version": "2.7.6"
  },
  "pycharm": {
   "stem_cell": {
    "cell_type": "raw",
    "source": [],
    "metadata": {
     "collapsed": false
    }
   }
  }
 },
 "nbformat": 4,
 "nbformat_minor": 0
}
