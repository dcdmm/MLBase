{
 "cells": [
  {
   "cell_type": "code",
   "execution_count": 7,
   "metadata": {
    "collapsed": true
   },
   "outputs": [],
   "source": [
    "import torch\n",
    "import torch.nn as nn"
   ]
  },
  {
   "cell_type": "markdown",
   "metadata": {
    "pycharm": {
     "name": "#%% md\n"
    }
   },
   "source": [
    "bound = gain $ \\times \\sqrt{ \\frac{3}{fan\\_mode} }$"
   ]
  },
  {
   "cell_type": "code",
   "execution_count": 8,
   "metadata": {
    "pycharm": {
     "name": "#%%\n"
    }
   },
   "outputs": [
    {
     "data": {
      "text/plain": [
       "tensor([[ 1.0724, -0.6178, -0.6536, -0.3788,  0.2658],\n",
       "        [-1.0841,  0.4606, -0.4266,  1.0848, -0.4995],\n",
       "        [-0.6498, -0.4751, -0.4109, -0.1725,  0.0928]])"
      ]
     },
     "execution_count": 8,
     "metadata": {},
     "output_type": "execute_result"
    }
   ],
   "source": [
    "w = torch.empty(3, 5)\n",
    "'''\n",
    "a – the negative slope of the rectifier used after this layer (only with 'leaky_relu')\n",
    "\n",
    "mode –\n",
    "    either 'fan_in' (default) or 'fan_out'. Choosing 'fan_in' preserves the magnitude of the variance of the weights in the forward pass.\n",
    "    Choosing 'fan_out' preserves the magnitudes in the backwards pass.\n",
    "\n",
    "nonlinearity –\n",
    "    the non-linear function (nn.functional name), recommended to use only with 'relu' or 'leaky_relu' (default).\n",
    "\n",
    "'''\n",
    "nn.init.kaiming_uniform_(w,\n",
    "                         a=0.1, # 默认a=0\n",
    "                         mode='fan_in', # 默认mode='fan_in'\n",
    "                         nonlinearity='leaky_relu') # 默认nonlinearity=leaky_relu"
   ]
  },
  {
   "cell_type": "markdown",
   "metadata": {
    "pycharm": {
     "name": "#%% md\n"
    }
   },
   "source": [
    "std = gain $ \\times \\frac{1}{\\sqrt{fan\\_mode}} $"
   ]
  },
  {
   "cell_type": "code",
   "execution_count": 9,
   "metadata": {
    "pycharm": {
     "name": "#%%\n"
    }
   },
   "outputs": [
    {
     "data": {
      "text/plain": [
       "tensor([[-0.5450, -0.3269, -0.2447, -0.4212,  0.3772],\n",
       "        [-0.3564,  0.2386, -0.0280,  0.1242,  0.5371],\n",
       "        [-1.3396, -0.4469,  0.0636, -0.1124,  0.0297]])"
      ]
     },
     "execution_count": 9,
     "metadata": {},
     "output_type": "execute_result"
    }
   ],
   "source": [
    "w = torch.empty(3, 5)\n",
    "nn.init.kaiming_normal_(w,\n",
    "                        a=0.1, # 默认a=0\n",
    "                        mode='fan_out', # 默认mode='fan_in'\n",
    "                        nonlinearity='leaky_relu') # 默认nonlinearity=leaky_relu\n",
    "\n"
   ]
  }
 ],
 "metadata": {
  "kernelspec": {
   "display_name": "Python 3",
   "language": "python",
   "name": "python3"
  },
  "language_info": {
   "codemirror_mode": {
    "name": "ipython",
    "version": 3
   },
   "file_extension": ".py",
   "mimetype": "text/x-python",
   "name": "python",
   "nbconvert_exporter": "python",
   "pygments_lexer": "ipython3",
   "version": "3.7.7"
  },
  "toc": {
   "base_numbering": 1,
   "nav_menu": {},
   "number_sections": true,
   "sideBar": true,
   "skip_h1_title": false,
   "title_cell": "Table of Contents",
   "title_sidebar": "Contents",
   "toc_cell": false,
   "toc_position": {},
   "toc_section_display": true,
   "toc_window_display": false
  }
 },
 "nbformat": 4,
 "nbformat_minor": 1
}
