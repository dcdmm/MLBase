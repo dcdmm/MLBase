{
 "cells": [
  {
   "cell_type": "markdown",
   "metadata": {
    "pycharm": {
     "name": "#%% md\n"
    }
   },
   "source": [
    "* input:$(N, C_{in}, H_{in}, W_{in})$\n",
    "\n",
    "* output:$(N, C_{out}, H_{out}, W_{out})$\n",
    "\n",
    "$$ H_{out} = \\left \\lfloor \\frac{H_{in} + 2 \\times padding[0] - dilation[0] \\times(kernel\\_size[0]-1)-1}{stride[0]} +1  \\right \\rfloor \\\\ $$\n",
    "\n",
    "$$ D_{out} = \\left \\lfloor \\frac{W_{in} + 2 \\times padding[1] - dilation[1] \\times(kernel\\_size[1]-1)-1}{stride[1]} +1  \\right \\rfloor \\\\ $$"
   ]
  },
  {
   "cell_type": "code",
   "execution_count": 290,
   "metadata": {},
   "outputs": [],
   "source": [
    "import torch.nn as nn\n",
    "import torch"
   ]
  },
  {
   "cell_type": "code",
   "execution_count": 291,
   "metadata": {
    "pycharm": {
     "name": "#%%\n"
    }
   },
   "outputs": [
    {
     "data": {
      "text/plain": "torch.Size([100, 33, 24, 24])"
     },
     "execution_count": 291,
     "metadata": {},
     "output_type": "execute_result"
    }
   ],
   "source": [
    "input_tensor = torch.randn((100, 16, 50, 50))\n",
    "# Input: (N, C_in, H_in, W_in)\n",
    "# Out: (N, C_out, H_out, W_out)\n",
    "conv2d_c0 = nn.Conv2d(in_channels=16,  # 即C_in\n",
    "                      out_channels=33,  # 即C_out\n",
    "                      kernel_size=3,\n",
    "                      stride=2)\n",
    "\n",
    "'''\n",
    "in_channels (int) – Number of channels in the input image\n",
    "out_channels (int) – Number of channels produced by the convolution\n",
    "kernel_size (int or tuple) – Size of the convolving kernel\n",
    "stride (int or tuple, optional) – Stride of the convolution. Default: 1\n",
    "'''\n",
    "conv2d_c0(input_tensor).shape"
   ]
  },
  {
   "cell_type": "code",
   "execution_count": 292,
   "metadata": {
    "pycharm": {
     "name": "#%%\n"
    }
   },
   "outputs": [
    {
     "data": {
      "text/plain": "torch.Size([33, 16, 3, 3])"
     },
     "execution_count": 292,
     "metadata": {},
     "output_type": "execute_result"
    }
   ],
   "source": [
    "conv2d_c0.weight.shape  # 形状为(out_channels,in_channels,kH,KW);内部默认实现了:init.kaiming_uniform_(self.weight, a=math.sqrt(5))"
   ]
  },
  {
   "cell_type": "code",
   "execution_count": 293,
   "metadata": {
    "pycharm": {
     "name": "#%%\n"
    }
   },
   "outputs": [
    {
     "data": {
      "text/plain": "Parameter containing:\ntensor([ 0.0075,  0.0074,  0.0606,  0.0290,  0.0231,  0.0763, -0.0306, -0.0694,\n        -0.0527,  0.0663,  0.0144,  0.0437,  0.0436, -0.0355,  0.0214,  0.0394,\n         0.0471,  0.0301,  0.0811, -0.0581, -0.0766, -0.0176, -0.0632, -0.0263,\n        -0.0463, -0.0438, -0.0402,  0.0094, -0.0795, -0.0222, -0.0465, -0.0673,\n         0.0068], requires_grad=True)"
     },
     "execution_count": 293,
     "metadata": {},
     "output_type": "execute_result"
    }
   ],
   "source": [
    "conv2d_c0.bias  # 内部默认进行了kaiming_uniform_初始化"
   ]
  },
  {
   "cell_type": "code",
   "execution_count": 294,
   "metadata": {
    "pycharm": {
     "name": "#%%\n"
    }
   },
   "outputs": [
    {
     "data": {
      "text/plain": "torch.Size([100, 33, 50, 50])"
     },
     "execution_count": 294,
     "metadata": {},
     "output_type": "execute_result"
    }
   ],
   "source": [
    "conv2d_c1 = nn.Conv2d(in_channels=16,\n",
    "                      out_channels=33,\n",
    "                      kernel_size=(1, 5),\n",
    "                      stride=(1, 1),\n",
    "                      # implicit paddings on both sides of the input.\n",
    "                      # Can be a string {‘valid’, ‘same’}, single number or a tuple (padH, padW).\n",
    "                      # Default: 0 padding='valid' is the same as no padding.\n",
    "                      # padding='same' pads the input so the output has the shape as the input. However, this mode doesn’t support any stride values other than 1.\n",
    "                      padding='same')\n",
    "conv2d_c1(input_tensor).shape"
   ]
  },
  {
   "cell_type": "code",
   "execution_count": 295,
   "metadata": {
    "pycharm": {
     "name": "#%%\n"
    }
   },
   "outputs": [
    {
     "data": {
      "text/plain": "torch.Size([100, 33, 26, 50])"
     },
     "execution_count": 295,
     "metadata": {},
     "output_type": "execute_result"
    }
   ],
   "source": [
    "conv2d_c = nn.Conv2d(16, 33, (3, 5), stride=(2, 1), padding=(4, 2),\n",
    "                     # H,W方向的膨胀率(膨胀率为1时即为普通的卷积核)\n",
    "                     dilation=(3, 1))  # 默认dilation=1\n",
    "conv2d_c(input_tensor).shape\n",
    "\n"
   ]
  }
 ],
 "metadata": {
  "kernelspec": {
   "display_name": "Python 3",
   "language": "python",
   "name": "python3"
  },
  "language_info": {
   "codemirror_mode": {
    "name": "ipython",
    "version": 3
   },
   "file_extension": ".py",
   "mimetype": "text/x-python",
   "name": "python",
   "nbconvert_exporter": "python",
   "pygments_lexer": "ipython3",
   "version": "3.7.7"
  },
  "toc": {
   "base_numbering": 1,
   "nav_menu": {},
   "number_sections": true,
   "sideBar": true,
   "skip_h1_title": false,
   "title_cell": "Table of Contents",
   "title_sidebar": "Contents",
   "toc_cell": false,
   "toc_position": {},
   "toc_section_display": true,
   "toc_window_display": false
  }
 },
 "nbformat": 4,
 "nbformat_minor": 1
}