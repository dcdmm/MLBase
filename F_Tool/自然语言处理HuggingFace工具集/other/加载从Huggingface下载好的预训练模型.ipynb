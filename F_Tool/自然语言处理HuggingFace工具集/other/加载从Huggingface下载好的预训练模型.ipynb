{
 "cells": [
  {
   "cell_type": "code",
   "execution_count": 4,
   "metadata": {
    "collapsed": true
   },
   "outputs": [],
   "source": [
    "from transformers import AutoTokenizer, AutoModel\n",
    "from transformers import BertTokenizer, BertModel\n",
    "from sentence_transformers import SentenceTransformer"
   ]
  },
  {
   "cell_type": "code",
   "execution_count": 5,
   "outputs": [],
   "source": [
    "# 从huggingFace下载所有配置文件(pytorch选择pytorch_model.bin模型文件;tensorflow选择tf_model.h5模型文件)"
   ],
   "metadata": {
    "collapsed": false,
    "pycharm": {
     "name": "#%%\n"
    }
   }
  },
  {
   "cell_type": "code",
   "execution_count": 6,
   "outputs": [
    {
     "name": "stderr",
     "output_type": "stream",
     "text": [
      "You are using a model of type mpnet to instantiate a model of type bert. This is not supported for all configurations of models and can yield errors.\n",
      "Some weights of the model checkpoint at huggingFace_Files/ were not used when initializing BertModel: ['encoder.layer.9.attention.attn.o.weight', 'encoder.layer.2.attention.attn.q.weight', 'encoder.layer.8.attention.attn.o.weight', 'encoder.layer.3.attention.attn.o.bias', 'encoder.layer.4.attention.attn.k.weight', 'encoder.layer.6.attention.attn.o.weight', 'encoder.layer.10.attention.attn.k.bias', 'encoder.layer.0.attention.LayerNorm.weight', 'encoder.layer.6.attention.attn.v.bias', 'encoder.layer.1.attention.attn.o.weight', 'encoder.layer.2.attention.LayerNorm.weight', 'encoder.layer.7.attention.attn.o.bias', 'encoder.layer.10.attention.attn.k.weight', 'encoder.layer.9.attention.attn.v.weight', 'encoder.layer.3.attention.attn.q.bias', 'encoder.layer.3.attention.attn.o.weight', 'encoder.layer.0.attention.LayerNorm.bias', 'encoder.layer.0.attention.attn.k.bias', 'encoder.layer.5.attention.attn.q.bias', 'encoder.layer.9.attention.attn.k.bias', 'encoder.layer.10.attention.attn.o.weight', 'encoder.layer.11.attention.LayerNorm.weight', 'encoder.layer.4.attention.attn.q.bias', 'encoder.layer.6.attention.attn.k.bias', 'encoder.layer.8.attention.LayerNorm.bias', 'encoder.layer.1.attention.attn.k.weight', 'encoder.relative_attention_bias.weight', 'encoder.layer.9.attention.attn.k.weight', 'encoder.layer.5.attention.attn.o.weight', 'encoder.layer.5.attention.attn.v.bias', 'encoder.layer.6.attention.attn.o.bias', 'encoder.layer.11.attention.attn.k.bias', 'encoder.layer.2.attention.attn.o.bias', 'encoder.layer.7.attention.attn.q.bias', 'encoder.layer.7.attention.LayerNorm.weight', 'encoder.layer.2.attention.attn.k.bias', 'encoder.layer.3.attention.attn.v.bias', 'encoder.layer.3.attention.attn.v.weight', 'encoder.layer.8.attention.attn.k.weight', 'encoder.layer.4.attention.attn.k.bias', 'encoder.layer.1.attention.attn.k.bias', 'encoder.layer.0.attention.attn.o.bias', 'encoder.layer.5.attention.LayerNorm.bias', 'encoder.layer.9.attention.attn.o.bias', 'encoder.layer.8.attention.LayerNorm.weight', 'encoder.layer.9.attention.attn.q.bias', 'encoder.layer.1.attention.LayerNorm.weight', 'encoder.layer.0.attention.attn.v.weight', 'encoder.layer.11.attention.attn.v.bias', 'encoder.layer.0.attention.attn.k.weight', 'encoder.layer.7.attention.attn.v.weight', 'encoder.layer.8.attention.attn.k.bias', 'encoder.layer.10.attention.attn.v.weight', 'encoder.layer.9.attention.attn.q.weight', 'encoder.layer.7.attention.attn.k.weight', 'encoder.layer.0.attention.attn.v.bias', 'encoder.layer.11.attention.attn.q.bias', 'encoder.layer.10.attention.attn.o.bias', 'encoder.layer.3.attention.LayerNorm.bias', 'encoder.layer.2.attention.attn.k.weight', 'encoder.layer.4.attention.attn.q.weight', 'encoder.layer.5.attention.attn.v.weight', 'encoder.layer.10.attention.attn.v.bias', 'encoder.layer.4.attention.attn.v.bias', 'encoder.layer.7.attention.attn.v.bias', 'encoder.layer.3.attention.attn.k.bias', 'encoder.layer.2.attention.attn.o.weight', 'encoder.layer.3.attention.LayerNorm.weight', 'encoder.layer.11.attention.attn.v.weight', 'encoder.layer.11.attention.attn.o.weight', 'encoder.layer.8.attention.attn.q.weight', 'encoder.layer.10.attention.attn.q.weight', 'encoder.layer.2.attention.LayerNorm.bias', 'encoder.layer.6.attention.LayerNorm.weight', 'encoder.layer.8.attention.attn.v.bias', 'encoder.layer.0.attention.attn.q.bias', 'encoder.layer.1.attention.attn.q.bias', 'encoder.layer.10.attention.LayerNorm.bias', 'encoder.layer.9.attention.attn.v.bias', 'encoder.layer.2.attention.attn.v.bias', 'encoder.layer.4.attention.attn.o.weight', 'encoder.layer.9.attention.LayerNorm.weight', 'encoder.layer.3.attention.attn.k.weight', 'encoder.layer.6.attention.attn.v.weight', 'encoder.layer.7.attention.attn.q.weight', 'encoder.layer.8.attention.attn.o.bias', 'encoder.layer.10.attention.attn.q.bias', 'encoder.layer.8.attention.attn.q.bias', 'encoder.layer.1.attention.LayerNorm.bias', 'encoder.layer.7.attention.attn.k.bias', 'encoder.layer.6.attention.attn.q.bias', 'encoder.layer.7.attention.attn.o.weight', 'encoder.layer.9.attention.LayerNorm.bias', 'encoder.layer.2.attention.attn.q.bias', 'encoder.layer.5.attention.LayerNorm.weight', 'encoder.layer.1.attention.attn.v.bias', 'encoder.layer.11.attention.attn.q.weight', 'encoder.layer.6.attention.attn.q.weight', 'encoder.layer.1.attention.attn.q.weight', 'encoder.layer.10.attention.LayerNorm.weight', 'encoder.layer.11.attention.attn.o.bias', 'encoder.layer.6.attention.LayerNorm.bias', 'encoder.layer.0.attention.attn.q.weight', 'encoder.layer.4.attention.attn.o.bias', 'encoder.layer.1.attention.attn.v.weight', 'encoder.layer.3.attention.attn.q.weight', 'encoder.layer.5.attention.attn.o.bias', 'encoder.layer.4.attention.attn.v.weight', 'encoder.layer.5.attention.attn.q.weight', 'encoder.layer.4.attention.LayerNorm.weight', 'encoder.layer.5.attention.attn.k.weight', 'encoder.layer.6.attention.attn.k.weight', 'encoder.layer.11.attention.LayerNorm.bias', 'encoder.layer.8.attention.attn.v.weight', 'encoder.layer.2.attention.attn.v.weight', 'encoder.layer.5.attention.attn.k.bias', 'encoder.layer.4.attention.LayerNorm.bias', 'encoder.layer.11.attention.attn.k.weight', 'encoder.layer.1.attention.attn.o.bias', 'encoder.layer.7.attention.LayerNorm.bias', 'encoder.layer.0.attention.attn.o.weight']\n",
      "- This IS expected if you are initializing BertModel from the checkpoint of a model trained on another task or with another architecture (e.g. initializing a BertForSequenceClassification model from a BertForPreTraining model).\n",
      "- This IS NOT expected if you are initializing BertModel from the checkpoint of a model that you expect to be exactly identical (initializing a BertForSequenceClassification model from a BertForSequenceClassification model).\n",
      "Some weights of BertModel were not initialized from the model checkpoint at huggingFace_Files/ and are newly initialized: ['encoder.layer.4.attention.self.value.weight', 'encoder.layer.7.attention.output.LayerNorm.weight', 'encoder.layer.10.attention.output.dense.weight', 'encoder.layer.2.attention.output.dense.bias', 'encoder.layer.11.attention.output.LayerNorm.bias', 'encoder.layer.5.attention.self.value.weight', 'encoder.layer.3.attention.output.dense.weight', 'encoder.layer.11.attention.self.key.bias', 'encoder.layer.4.attention.self.query.weight', 'encoder.layer.4.attention.self.value.bias', 'encoder.layer.5.attention.output.LayerNorm.weight', 'encoder.layer.10.attention.output.LayerNorm.weight', 'encoder.layer.8.attention.self.value.bias', 'encoder.layer.11.attention.self.value.bias', 'encoder.layer.1.attention.self.key.bias', 'encoder.layer.11.attention.self.query.weight', 'encoder.layer.1.attention.self.query.weight', 'encoder.layer.2.attention.self.query.bias', 'encoder.layer.11.attention.output.dense.bias', 'encoder.layer.0.attention.output.LayerNorm.bias', 'encoder.layer.11.attention.output.LayerNorm.weight', 'encoder.layer.10.attention.output.LayerNorm.bias', 'encoder.layer.10.attention.self.key.weight', 'encoder.layer.2.attention.self.query.weight', 'encoder.layer.2.attention.self.key.weight', 'embeddings.token_type_embeddings.weight', 'encoder.layer.5.attention.output.LayerNorm.bias', 'encoder.layer.7.attention.self.query.bias', 'encoder.layer.7.attention.self.value.weight', 'encoder.layer.6.attention.output.LayerNorm.bias', 'encoder.layer.9.attention.self.query.bias', 'encoder.layer.10.attention.self.query.bias', 'encoder.layer.6.attention.self.key.weight', 'encoder.layer.7.attention.self.query.weight', 'encoder.layer.3.attention.self.query.bias', 'encoder.layer.9.attention.output.dense.bias', 'encoder.layer.4.attention.output.dense.weight', 'encoder.layer.9.attention.self.query.weight', 'encoder.layer.1.attention.self.value.weight', 'encoder.layer.6.attention.self.key.bias', 'encoder.layer.8.attention.output.dense.weight', 'encoder.layer.0.attention.output.dense.weight', 'encoder.layer.7.attention.self.key.weight', 'encoder.layer.11.attention.self.value.weight', 'encoder.layer.10.attention.self.value.weight', 'encoder.layer.4.attention.self.query.bias', 'encoder.layer.1.attention.output.LayerNorm.bias', 'encoder.layer.0.attention.self.value.weight', 'encoder.layer.3.attention.output.LayerNorm.bias', 'encoder.layer.7.attention.output.dense.bias', 'encoder.layer.3.attention.self.key.weight', 'encoder.layer.5.attention.self.key.weight', 'encoder.layer.6.attention.self.query.weight', 'encoder.layer.7.attention.self.key.bias', 'encoder.layer.10.attention.output.dense.bias', 'encoder.layer.3.attention.self.key.bias', 'encoder.layer.9.attention.output.LayerNorm.weight', 'encoder.layer.6.attention.output.LayerNorm.weight', 'encoder.layer.5.attention.self.query.bias', 'encoder.layer.5.attention.self.key.bias', 'encoder.layer.2.attention.self.value.weight', 'encoder.layer.6.attention.self.query.bias', 'encoder.layer.9.attention.self.value.weight', 'encoder.layer.7.attention.output.dense.weight', 'encoder.layer.1.attention.output.dense.weight', 'encoder.layer.2.attention.self.key.bias', 'encoder.layer.4.attention.output.dense.bias', 'encoder.layer.10.attention.self.value.bias', 'encoder.layer.1.attention.output.dense.bias', 'encoder.layer.2.attention.output.dense.weight', 'encoder.layer.8.attention.self.value.weight', 'encoder.layer.1.attention.self.query.bias', 'encoder.layer.0.attention.output.LayerNorm.weight', 'encoder.layer.9.attention.self.key.weight', 'encoder.layer.1.attention.self.key.weight', 'encoder.layer.0.attention.self.value.bias', 'encoder.layer.8.attention.output.dense.bias', 'encoder.layer.5.attention.output.dense.weight', 'encoder.layer.4.attention.output.LayerNorm.bias', 'encoder.layer.6.attention.output.dense.bias', 'encoder.layer.0.attention.self.query.weight', 'encoder.layer.3.attention.output.dense.bias', 'encoder.layer.5.attention.output.dense.bias', 'encoder.layer.8.attention.output.LayerNorm.weight', 'encoder.layer.1.attention.self.value.bias', 'encoder.layer.8.attention.self.key.bias', 'encoder.layer.2.attention.output.LayerNorm.bias', 'encoder.layer.3.attention.output.LayerNorm.weight', 'encoder.layer.0.attention.self.query.bias', 'encoder.layer.4.attention.self.key.weight', 'encoder.layer.0.attention.self.key.weight', 'encoder.layer.3.attention.self.value.bias', 'encoder.layer.0.attention.self.key.bias', 'encoder.layer.2.attention.output.LayerNorm.weight', 'encoder.layer.9.attention.self.key.bias', 'encoder.layer.4.attention.self.key.bias', 'encoder.layer.2.attention.self.value.bias', 'encoder.layer.7.attention.self.value.bias', 'encoder.layer.10.attention.self.query.weight', 'encoder.layer.9.attention.output.dense.weight', 'encoder.layer.8.attention.self.query.bias', 'encoder.layer.8.attention.self.key.weight', 'encoder.layer.6.attention.self.value.weight', 'encoder.layer.11.attention.output.dense.weight', 'encoder.layer.9.attention.self.value.bias', 'encoder.layer.10.attention.self.key.bias', 'encoder.layer.0.attention.output.dense.bias', 'encoder.layer.8.attention.self.query.weight', 'encoder.layer.7.attention.output.LayerNorm.bias', 'encoder.layer.11.attention.self.query.bias', 'encoder.layer.5.attention.self.value.bias', 'encoder.layer.1.attention.output.LayerNorm.weight', 'encoder.layer.4.attention.output.LayerNorm.weight', 'encoder.layer.6.attention.output.dense.weight', 'encoder.layer.6.attention.self.value.bias', 'encoder.layer.3.attention.self.query.weight', 'encoder.layer.9.attention.output.LayerNorm.bias', 'encoder.layer.3.attention.self.value.weight', 'encoder.layer.8.attention.output.LayerNorm.bias', 'encoder.layer.11.attention.self.key.weight', 'encoder.layer.5.attention.self.query.weight']\n",
      "You should probably TRAIN this model on a down-stream task to be able to use it for predictions and inference.\n"
     ]
    }
   ],
   "source": [
    "bertmodel = BertModel.from_pretrained('../extra_dataset/huggingFace_Files/')\n",
    "automodel = AutoModel.from_pretrained('../extra_dataset/huggingFace_Files/')"
   ],
   "metadata": {
    "collapsed": false,
    "pycharm": {
     "name": "#%%\n"
    }
   }
  },
  {
   "cell_type": "code",
   "execution_count": 7,
   "outputs": [
    {
     "name": "stderr",
     "output_type": "stream",
     "text": [
      "The tokenizer class you load from this checkpoint is not the same type as the class this function is called from. It may result in unexpected tokenization. \n",
      "The tokenizer class you load from this checkpoint is 'MPNetTokenizer'. \n",
      "The class this function is called from is 'BertTokenizer'.\n"
     ]
    },
    {
     "data": {
      "text/plain": "PreTrainedTokenizer(name_or_path='huggingFace_Files/', vocab_size=30527, model_max_len=512, is_fast=False, padding_side='right', truncation_side='right', special_tokens={'bos_token': '<s>', 'eos_token': '</s>', 'unk_token': '[UNK]', 'sep_token': '</s>', 'pad_token': '<pad>', 'cls_token': '<s>', 'mask_token': AddedToken(\"<mask>\", rstrip=False, lstrip=True, single_word=False, normalized=False)})"
     },
     "execution_count": 7,
     "metadata": {},
     "output_type": "execute_result"
    }
   ],
   "source": [
    "berttokenizer = BertTokenizer.from_pretrained('../extra_dataset/huggingFace_Files/')\n",
    "berttokenizer"
   ],
   "metadata": {
    "collapsed": false,
    "pycharm": {
     "name": "#%%\n"
    }
   }
  },
  {
   "cell_type": "code",
   "execution_count": 8,
   "outputs": [
    {
     "data": {
      "text/plain": "PreTrainedTokenizerFast(name_or_path='huggingFace_Files/', vocab_size=30527, model_max_len=512, is_fast=True, padding_side='right', truncation_side='right', special_tokens={'bos_token': '<s>', 'eos_token': '</s>', 'unk_token': '[UNK]', 'sep_token': '</s>', 'pad_token': '<pad>', 'cls_token': '<s>', 'mask_token': AddedToken(\"<mask>\", rstrip=False, lstrip=True, single_word=False, normalized=False)})"
     },
     "execution_count": 8,
     "metadata": {},
     "output_type": "execute_result"
    }
   ],
   "source": [
    "autotokenizer = AutoTokenizer.from_pretrained('../extra_dataset/huggingFace_Files/')\n",
    "autotokenizer"
   ],
   "metadata": {
    "collapsed": false,
    "pycharm": {
     "name": "#%%\n"
    }
   }
  },
  {
   "cell_type": "code",
   "execution_count": 9,
   "outputs": [
    {
     "data": {
      "text/plain": "SentenceTransformer(\n  (0): Transformer({'max_seq_length': 384, 'do_lower_case': False}) with Transformer model: MPNetModel \n  (1): Pooling({'word_embedding_dimension': 768, 'pooling_mode_cls_token': False, 'pooling_mode_mean_tokens': True, 'pooling_mode_max_tokens': False, 'pooling_mode_mean_sqrt_len_tokens': False})\n  (2): Normalize()\n)"
     },
     "execution_count": 9,
     "metadata": {},
     "output_type": "execute_result"
    }
   ],
   "source": [
    "model = SentenceTransformer(model_name_or_path='../extra_dataset/huggingFace_Files/', device='cuda')  # 从Huggingface加载预训练模型\n",
    "model"
   ],
   "metadata": {
    "collapsed": false,
    "pycharm": {
     "name": "#%%\n"
    }
   }
  }
 ],
 "metadata": {
  "kernelspec": {
   "display_name": "Python 3",
   "language": "python",
   "name": "python3"
  },
  "language_info": {
   "codemirror_mode": {
    "name": "ipython",
    "version": 2
   },
   "file_extension": ".py",
   "mimetype": "text/x-python",
   "name": "python",
   "nbconvert_exporter": "python",
   "pygments_lexer": "ipython2",
   "version": "2.7.6"
  }
 },
 "nbformat": 4,
 "nbformat_minor": 0
}