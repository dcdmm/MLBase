{
 "cells": [
  {
   "cell_type": "markdown",
   "source": [
    "## 标量/scalar "
   ],
   "metadata": {
    "collapsed": false
   }
  },
  {
   "cell_type": "code",
   "execution_count": 1,
   "outputs": [
    {
     "name": "stdout",
     "output_type": "stream",
     "text": [
      "0\n",
      "()\n",
      "10\n"
     ]
    }
   ],
   "source": [
    "import numpy as np\n",
    "\n",
    "arr_scalar = np.array(10)  # 标量\n",
    "print(arr_scalar.ndim)\n",
    "print(arr_scalar.shape)  # 空元组\n",
    "print(arr_scalar)"
   ],
   "metadata": {
    "collapsed": false,
    "pycharm": {
     "name": "#%%\n"
    }
   }
  },
  {
   "cell_type": "markdown",
   "source": [
    "## 向量/vector"
   ],
   "metadata": {
    "collapsed": false,
    "pycharm": {
     "name": "#%% md\n"
    }
   }
  },
  {
   "cell_type": "code",
   "execution_count": 2,
   "outputs": [
    {
     "name": "stdout",
     "output_type": "stream",
     "text": [
      "1\n",
      "(3,)\n",
      "[1 2 3]\n"
     ]
    }
   ],
   "source": [
    "arr_vector = np.array([1, 2, 3])  # 向量\n",
    "print(arr_vector.ndim)\n",
    "print(arr_vector.shape)  # 长度为1的元组\n",
    "print(arr_vector)"
   ],
   "metadata": {
    "collapsed": false,
    "pycharm": {
     "name": "#%%\n"
    }
   }
  },
  {
   "cell_type": "markdown",
   "source": [
    "## 矩阵/matrix"
   ],
   "metadata": {
    "collapsed": false,
    "pycharm": {
     "name": "#%% md\n"
    }
   }
  },
  {
   "cell_type": "code",
   "execution_count": 3,
   "outputs": [
    {
     "name": "stdout",
     "output_type": "stream",
     "text": [
      "2\n",
      "(2, 3)\n",
      "[[1 2 3]\n",
      " [2 3 4]]\n"
     ]
    }
   ],
   "source": [
    "arr_matrix = np.array([[1, 2, 3], [2, 3, 4]])  # 矩阵\n",
    "print(arr_matrix.ndim)\n",
    "print(arr_matrix.shape)  # 输出为:(行数, 列数)\n",
    "print(arr_matrix)"
   ],
   "metadata": {
    "collapsed": false,
    "pycharm": {
     "name": "#%%\n"
    }
   }
  },
  {
   "cell_type": "markdown",
   "source": [
    "### 高维矩阵(ndim>2)"
   ],
   "metadata": {
    "collapsed": false
   }
  },
  {
   "cell_type": "code",
   "execution_count": 4,
   "outputs": [
    {
     "name": "stdout",
     "output_type": "stream",
     "text": [
      "3\n",
      "(3, 4, 5)\n",
      "[[[-7.62794717e-01 -5.35980154e-01 -1.16266031e+00 -4.15661740e-01\n",
      "    7.96767871e-01]\n",
      "  [ 1.48125790e-01 -2.88769727e-01 -1.42446423e+00 -9.13251350e-01\n",
      "    1.29086102e+00]\n",
      "  [-8.84309965e-01  9.20351290e-01  3.26244313e-01 -8.32744218e-01\n",
      "   -1.11012725e+00]\n",
      "  [ 7.53834211e-01 -9.75819857e-01  6.27811392e-01  3.93740127e-01\n",
      "   -2.55775327e+00]]\n",
      "\n",
      " [[ 1.46662007e+00 -3.68799663e-01  1.47802670e-01  1.81125034e+00\n",
      "    5.00763041e-01]\n",
      "  [ 8.18479327e-01 -1.00932418e+00  1.64906143e-01 -7.83190810e-01\n",
      "   -1.66920732e+00]\n",
      "  [-1.34171294e+00  4.00638540e-01  1.28945530e+00 -9.31681649e-01\n",
      "    3.21086558e-01]\n",
      "  [ 1.95599085e+00  8.57323137e-01 -2.42234106e-01  1.62389856e-03\n",
      "   -1.18853377e+00]]\n",
      "\n",
      " [[-1.49779846e-01 -2.06278296e+00  3.18311055e-01  6.71170588e-01\n",
      "    2.69539065e-01]\n",
      "  [-1.35706885e+00 -3.04418398e-01 -6.28064967e-01  9.12818264e-01\n",
      "   -7.57542572e-01]\n",
      "  [ 1.76243911e+00 -1.37194007e+00 -1.76442543e-02 -3.44045799e-01\n",
      "    5.81944516e-01]\n",
      "  [ 8.72793172e-01  7.75855808e-01 -1.61606194e+00  1.76229870e+00\n",
      "    1.23666642e+00]]]\n"
     ]
    }
   ],
   "source": [
    "arr_mul_matrix = np.random.randn(3, 4, 5)\n",
    "print(arr_mul_matrix.ndim)\n",
    "print(arr_mul_matrix.shape)\n",
    "print(arr_mul_matrix)"
   ],
   "metadata": {
    "collapsed": false,
    "pycharm": {
     "name": "#%%\n"
    }
   }
  },
  {
   "cell_type": "code",
   "execution_count": 4,
   "outputs": [],
   "source": [
    "\n"
   ],
   "metadata": {
    "collapsed": false,
    "pycharm": {
     "name": "#%%\n"
    }
   }
  }
 ],
 "metadata": {
  "kernelspec": {
   "display_name": "Python 3",
   "language": "python",
   "name": "python3"
  },
  "language_info": {
   "codemirror_mode": {
    "name": "ipython",
    "version": 2
   },
   "file_extension": ".py",
   "mimetype": "text/x-python",
   "name": "python",
   "nbconvert_exporter": "python",
   "pygments_lexer": "ipython2",
   "version": "2.7.6"
  }
 },
 "nbformat": 4,
 "nbformat_minor": 0
}