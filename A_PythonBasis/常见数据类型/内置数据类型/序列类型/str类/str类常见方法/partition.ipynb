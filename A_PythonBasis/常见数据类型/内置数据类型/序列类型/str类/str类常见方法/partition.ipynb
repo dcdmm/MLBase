{
 "cells": [
  {
   "cell_type": "code",
   "execution_count": 3,
   "metadata": {
    "collapsed": true,
    "pycharm": {
     "name": "#%%\n",
     "is_executing": false
    }
   },
   "outputs": [
    {
     "name": "stdout",
     "text": [
      "按VE切片:: ('i LO', 'VE', ' \\tch  \\tina\\tEVERYDAY ')\n按hello切片: ('i LOVE \\tch  \\tina\\tEVERYDAY ', '', '')\n"
     ],
     "output_type": "stream"
    }
   ],
   "source": [
    "example = \"i LOVE \\tch  \\tina\\tEVERYDAY \"\n",
    "\n",
    "# partition(self, sep),找到字符串sep首次出现的位置,把字符串切片为一个三元组(pre_sep, sep, fol_sep),如果字符串中不包含sep则返回('原字符串','','')\n",
    "example_partition = example.partition(\"VE\")\n",
    "print('按VE切片::', example_partition)\n",
    "print('按hello切片:', example.partition(\"hello\"))"
   ]
  },
  {
   "cell_type": "code",
   "execution_count": null,
   "outputs": [],
   "source": [
    "\n"
   ],
   "metadata": {
    "collapsed": false,
    "pycharm": {
     "name": "#%%\n"
    }
   }
  }
 ],
 "metadata": {
  "kernelspec": {
   "display_name": "Python 3",
   "language": "python",
   "name": "python3"
  },
  "language_info": {
   "codemirror_mode": {
    "name": "ipython",
    "version": 2
   },
   "file_extension": ".py",
   "mimetype": "text/x-python",
   "name": "python",
   "nbconvert_exporter": "python",
   "pygments_lexer": "ipython2",
   "version": "2.7.6"
  },
  "pycharm": {
   "stem_cell": {
    "cell_type": "raw",
    "source": [],
    "metadata": {
     "collapsed": false
    }
   }
  }
 },
 "nbformat": 4,
 "nbformat_minor": 0
}