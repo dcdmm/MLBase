{
 "cells": [
  {
   "cell_type": "code",
   "execution_count": 213,
   "metadata": {
    "collapsed": true
   },
   "outputs": [],
   "source": [
    "from sklearn.preprocessing import OrdinalEncoder\n",
    "\n",
    "from MyHMM import *\n",
    "\n",
    "%run MyHMM.py"
   ]
  },
  {
   "cell_type": "code",
   "execution_count": 214,
   "outputs": [],
   "source": [
    "A = np.array([[0.5, 0.2, 0.3],\n",
    "              [0.3, 0.5, 0.2],\n",
    "              [0.2, 0.3, 0.5]])  # 状态集合Q={1, 2, 3}\n",
    "B = np.array([[0.5, 0.5],\n",
    "              [0.4, 0.6],\n",
    "              [0.7, 0.3]])\n",
    "pi = np.array([[0.2, 0.4, 0.4]]).T\n",
    "visible_seq_init = np.array(['红', '白', '红'], dtype=object).reshape(-1, 1)\n",
    "\n",
    "enc = OrdinalEncoder(categories=[['红', '白']])\n",
    "visible_seq = enc.fit_transform(visible_seq_init).astype(np.int32).reshape(-1, )"
   ],
   "metadata": {
    "collapsed": false,
    "pycharm": {
     "name": "#%%\n"
    }
   }
  },
  {
   "cell_type": "code",
   "execution_count": 215,
   "outputs": [
    {
     "name": "stdout",
     "output_type": "stream",
     "text": [
      "0.130218\n",
      "[[0.1 ]\n",
      " [0.16]\n",
      " [0.28]]\n",
      "[[0.077 ]\n",
      " [0.1104]\n",
      " [0.0606]]\n",
      "[[0.04187 ]\n",
      " [0.035512]\n",
      " [0.052836]]\n"
     ]
    }
   ],
   "source": [
    "# 前向算法测试\n",
    "forward_test = MyHMM(hidden_status_num=3, visible_status_num=2, pi=pi, A=A, B=B)\n",
    "print(forward_test.forward(visible_seq=visible_seq))\n",
    "print(forward_test.forward(visible_seq=visible_seq, want_t=1))\n",
    "print(forward_test.forward(visible_seq=visible_seq, want_t=2))\n",
    "print(forward_test.forward(visible_seq=visible_seq, want_t=3))"
   ],
   "metadata": {
    "collapsed": false,
    "pycharm": {
     "name": "#%%\n"
    }
   }
  },
  {
   "cell_type": "code",
   "execution_count": 216,
   "outputs": [
    {
     "name": "stdout",
     "output_type": "stream",
     "text": [
      "0.130218\n",
      "[[0.2451]\n",
      " [0.2622]\n",
      " [0.2277]]\n",
      "[[0.54]\n",
      " [0.49]\n",
      " [0.57]]\n",
      "[[1.]\n",
      " [1.]\n",
      " [1.]]\n"
     ]
    }
   ],
   "source": [
    "# 后向算法测试\n",
    "backward_test = MyHMM(hidden_status_num=3, visible_status_num=2, pi=pi, A=A, B=B)\n",
    "print(backward_test.backward(visible_seq=visible_seq))\n",
    "print(backward_test.backward(visible_seq=visible_seq, want_t=1))\n",
    "print(backward_test.backward(visible_seq=visible_seq, want_t=2))\n",
    "print(backward_test.backward(visible_seq=visible_seq, want_t=3))"
   ],
   "metadata": {
    "collapsed": false,
    "pycharm": {
     "name": "#%%\n"
    }
   }
  },
  {
   "cell_type": "code",
   "execution_count": 217,
   "outputs": [
    {
     "name": "stdout",
     "output_type": "stream",
     "text": [
      "[[0.18822283]\n",
      " [0.32216744]\n",
      " [0.48960973]]\n",
      "[[0.31931069]\n",
      " [0.41542644]\n",
      " [0.26526287]]\n",
      "[[0.32153773]\n",
      " [0.27271191]\n",
      " [0.40575036]]\n"
     ]
    }
   ],
   "source": [
    "# \\gamma计算测试\n",
    "gamma_test = MyHMM(hidden_status_num=3, visible_status_num=2, pi=pi, A=A, B=B)\n",
    "print(gamma_test.gamma_t(visible_seq=visible_seq, want_t=1))\n",
    "print(gamma_test.gamma_t(visible_seq=visible_seq, want_t=2))\n",
    "print(gamma_test.gamma_t(visible_seq=visible_seq, want_t=3))"
   ],
   "metadata": {
    "collapsed": false,
    "pycharm": {
     "name": "#%%\n"
    }
   }
  },
  {
   "cell_type": "code",
   "execution_count": 218,
   "outputs": [
    {
     "name": "stdout",
     "output_type": "stream",
     "text": [
      "[[0.1036723  0.04515505 0.03939548]\n",
      " [0.09952541 0.18062019 0.04202184]\n",
      " [0.11611298 0.1896512  0.18384555]]\n",
      "0.04515504768925955\n",
      "[[0.14782903 0.04730529 0.12417638]\n",
      " [0.12717136 0.16956181 0.11869327]\n",
      " [0.04653735 0.05584481 0.16288071]]\n"
     ]
    }
   ],
   "source": [
    "# \\xi计算测试\n",
    "xi_test = MyHMM(hidden_status_num=3, visible_status_num=2, pi=pi, A=A, B=B)\n",
    "result_t_1 = xi_test.xi_t(visible_seq=visible_seq, t=1)\n",
    "print(result_t_1)\n",
    "print(result_t_1[0, 1])  # t=1时刻状态为0, t=2时刻状态为1的概率\n",
    "print(xi_test.xi_t(visible_seq=visible_seq, t=2))"
   ],
   "metadata": {
    "collapsed": false,
    "pycharm": {
     "name": "#%%\n"
    }
   }
  },
  {
   "cell_type": "code",
   "execution_count": 219,
   "outputs": [
    {
     "name": "stdout",
     "output_type": "stream",
     "text": [
      "最优路径: [2, 2, 2] 最优路径概率: 0.014699999999999998\n"
     ]
    }
   ],
   "source": [
    "vitiver_test = MyHMM(hidden_status_num=3, visible_status_num=2, pi=pi, A=A, B=B)\n",
    "best_hidden_status, bset_hidden_status_pro = vitiver_test.viterbi(visible_seq=visible_seq)\n",
    "print(\"最优路径:\", best_hidden_status, '最优路径概率:', bset_hidden_status_pro)"
   ],
   "metadata": {
    "collapsed": false,
    "pycharm": {
     "name": "#%%\n"
    }
   }
  },
  {
   "cell_type": "code",
   "execution_count": 220,
   "outputs": [],
   "source": [
    "O = [\n",
    "    [1, 2, 3, 0, 1, 3, 4],\n",
    "    [1, 2, 3],\n",
    "    [0, 2, 4, 2],\n",
    "    [4, 3, 2, 1],\n",
    "    [3, 1, 1, 1, 1],\n",
    "    [2, 1, 3, 2, 1, 3, 4]]\n",
    "I = O"
   ],
   "metadata": {
    "collapsed": false,
    "pycharm": {
     "name": "#%%\n"
    }
   }
  },
  {
   "cell_type": "code",
   "execution_count": 221,
   "outputs": [
    {
     "name": "stdout",
     "output_type": "stream",
     "text": [
      "[[0.16666667]\n",
      " [0.33333333]\n",
      " [0.16666667]\n",
      " [0.16666667]\n",
      " [0.16666667]]\n",
      "[[9.99999950e-09 1.25000000e-01 1.66666667e-01 1.66666665e-09\n",
      "  3.33333328e-09]\n",
      " [9.99999950e-09 3.74999999e-01 3.33333332e-01 4.99999998e-01\n",
      "  3.33333328e-09]\n",
      " [9.99999950e-09 3.74999999e-01 1.66666665e-09 3.33333332e-01\n",
      "  3.33333331e-01]\n",
      " [9.99999960e-01 1.25000000e-01 3.33333332e-01 1.66666665e-09\n",
      "  6.66666659e-01]\n",
      " [9.99999950e-09 1.24999999e-09 1.66666667e-01 1.66666667e-01\n",
      "  3.33333328e-09]]\n",
      "[[9.99999980e-01 1.24999999e-09 1.66666665e-09 1.66666665e-09\n",
      "  4.99999988e-09]\n",
      " [4.99999988e-09 9.99999995e-01 1.66666665e-09 1.66666665e-09\n",
      "  4.99999988e-09]\n",
      " [4.99999988e-09 1.24999999e-09 9.99999993e-01 1.66666665e-09\n",
      "  4.99999988e-09]\n",
      " [4.99999988e-09 1.24999999e-09 1.66666665e-09 9.99999993e-01\n",
      "  4.99999988e-09]\n",
      " [4.99999988e-09 1.24999999e-09 1.66666665e-09 1.66666665e-09\n",
      "  9.99999980e-01]]\n"
     ]
    }
   ],
   "source": [
    "hmm_supervision = MyHMM(hidden_status_num=5, visible_status_num=5)\n",
    "hmm_supervision.supervision(visible_seq=O, hidden_seq=I)\n",
    "print(hmm_supervision.pi)\n",
    "print(hmm_supervision.A)\n",
    "print(hmm_supervision.B)"
   ],
   "metadata": {
    "collapsed": false,
    "pycharm": {
     "name": "#%%\n"
    }
   }
  },
  {
   "cell_type": "code",
   "execution_count": 222,
   "outputs": [
    {
     "name": "stdout",
     "output_type": "stream",
     "text": [
      "[[1.0000000e+00]\n",
      " [3.5341444e-96]\n",
      " [0.0000000e+00]\n",
      " [0.0000000e+00]\n",
      " [0.0000000e+00]]\n",
      "[[0.00000000e+00 6.01853628e-34 4.00128909e-01 3.89201723e-49\n",
      "  9.97962862e-01]\n",
      " [6.24736842e-01 1.17858880e-41 0.00000000e+00 1.82054273e-01\n",
      "  1.28994031e-32]\n",
      " [0.00000000e+00 1.00000000e+00 0.00000000e+00 4.98834561e-27\n",
      "  2.03713792e-03]\n",
      " [0.00000000e+00 4.68387157e-50 2.00064455e-01 8.17945727e-01\n",
      "  0.00000000e+00]\n",
      " [3.75263158e-01 0.00000000e+00 3.99806636e-01 0.00000000e+00\n",
      "  1.61782974e-32]]\n",
      "[[0.00000000e+000 7.18008670e-001 0.00000000e+000 0.00000000e+000\n",
      "  0.00000000e+000]\n",
      " [1.00000000e+000 1.02467967e-001 1.85715792e-001 0.00000000e+000\n",
      "  3.63846770e-001]\n",
      " [0.00000000e+000 3.02806776e-045 2.96870396e-137 1.00000000e+000\n",
      "  3.51319550e-083]\n",
      " [0.00000000e+000 2.76817291e-046 3.25754025e-001 0.00000000e+000\n",
      "  6.36153230e-001]\n",
      " [3.03965112e-062 1.79523363e-001 4.88530183e-001 0.00000000e+000\n",
      "  2.40834687e-063]]\n"
     ]
    }
   ],
   "source": [
    "hmm_no_supervision = MyHMM(hidden_status_num=5, visible_status_num=5)\n",
    "hmm_no_supervision.baum_welch(O[0] + O[1] + O[2] + O[3] + O[4] + O[5])\n",
    "print(hmm_no_supervision.pi)\n",
    "print(hmm_no_supervision.A)\n",
    "print(hmm_no_supervision.B)\n",
    "\n"
   ],
   "metadata": {
    "collapsed": false,
    "pycharm": {
     "name": "#%%\n"
    }
   }
  }
 ],
 "metadata": {
  "kernelspec": {
   "display_name": "Python 3",
   "language": "python",
   "name": "python3"
  },
  "language_info": {
   "codemirror_mode": {
    "name": "ipython",
    "version": 2
   },
   "file_extension": ".py",
   "mimetype": "text/x-python",
   "name": "python",
   "nbconvert_exporter": "python",
   "pygments_lexer": "ipython2",
   "version": "2.7.6"
  }
 },
 "nbformat": 4,
 "nbformat_minor": 0
}