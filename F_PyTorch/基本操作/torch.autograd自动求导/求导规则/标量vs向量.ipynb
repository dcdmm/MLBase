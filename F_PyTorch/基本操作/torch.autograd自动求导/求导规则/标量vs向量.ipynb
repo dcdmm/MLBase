{
 "cells": [
  {
   "cell_type": "code",
   "execution_count": 4,
   "metadata": {
    "collapsed": true
   },
   "outputs": [],
   "source": [
    "import torch"
   ]
  },
  {
   "cell_type": "markdown",
   "source": [
    "pr = $ vec[0] \\times vec[1] \\times vec[2] \\times vec[3]$"
   ],
   "metadata": {
    "collapsed": false,
    "pycharm": {
     "name": "#%% md\n"
    }
   }
  },
  {
   "cell_type": "code",
   "execution_count": 5,
   "outputs": [
    {
     "name": "stdout",
     "output_type": "stream",
     "text": [
      "tensor([[24.],\n",
      "        [12.],\n",
      "        [ 8.],\n",
      "        [ 6.]])\n"
     ]
    }
   ],
   "source": [
    "vec = torch.tensor([[1.],\n",
    "                    [2.],\n",
    "                    [3.],\n",
    "                    [4.]], requires_grad=True) # vec为向量\n",
    "\n",
    "pr = vec.prod()\n",
    "pr.backward(torch.ones_like(pr)) # pr对vec每个元素分别进行求导\n",
    "print(vec.grad)"
   ],
   "metadata": {
    "collapsed": false,
    "pycharm": {
     "name": "#%%\n"
    }
   }
  },
  {
   "cell_type": "markdown",
   "source": [
    "$ \\mathbf{a} $ is not a function of $ \\mathbf{x} $, $$ \\frac{\\partial \\mathbf{a}^T\\mathbf{x}}{\\partial{\\mathbf{x}}} = \\frac{\\partial \\mathbf{x}^T \\mathbf{a}}{\\partial{\\mathbf{x}}} = \\mathbf{a}^T $$"
   ],
   "metadata": {
    "collapsed": false,
    "pycharm": {
     "name": "#%% md\n"
    }
   }
  },
  {
   "cell_type": "code",
   "execution_count": 6,
   "outputs": [
    {
     "name": "stdout",
     "output_type": "stream",
     "text": [
      "tensor([[2.],\n",
      "        [3.],\n",
      "        [4.],\n",
      "        [5.]])\n",
      "tensor([[1., 2., 3., 4.]])\n"
     ]
    }
   ],
   "source": [
    "vec0 = torch.tensor([[1.],\n",
    "                     [2.],\n",
    "                     [3.],\n",
    "                     [4.]], requires_grad=True)\n",
    "\n",
    "vec1 = torch.tensor([[2., 3., 4., 5.]], requires_grad=True)\n",
    "\n",
    "mm = vec1 @ vec0\n",
    "mm.backward() # 分母布局\n",
    "print(vec0.grad) # 与vec0同型\n",
    "print(vec1.grad)"
   ],
   "metadata": {
    "collapsed": false,
    "pycharm": {
     "name": "#%%\n"
    }
   }
  },
  {
   "cell_type": "code",
   "execution_count": 6,
   "outputs": [],
   "source": [
    "\n"
   ],
   "metadata": {
    "collapsed": false,
    "pycharm": {
     "name": "#%%\n"
    }
   }
  }
 ],
 "metadata": {
  "kernelspec": {
   "display_name": "Python 3",
   "language": "python",
   "name": "python3"
  },
  "language_info": {
   "codemirror_mode": {
    "name": "ipython",
    "version": 2
   },
   "file_extension": ".py",
   "mimetype": "text/x-python",
   "name": "python",
   "nbconvert_exporter": "python",
   "pygments_lexer": "ipython2",
   "version": "2.7.6"
  }
 },
 "nbformat": 4,
 "nbformat_minor": 0
}