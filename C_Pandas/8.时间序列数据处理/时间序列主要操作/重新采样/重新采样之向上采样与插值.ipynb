{
 "cells": [
  {
   "cell_type": "code",
   "execution_count": null,
   "outputs": [],
   "source": [
    "import pandas as pd\n",
    "import  numpy as np"
   ],
   "metadata": {
    "collapsed": false,
    "pycharm": {
     "name": "#%%\n"
    }
   }
  },
  {
   "cell_type": "code",
   "execution_count": 60,
   "metadata": {
    "pycharm": {
     "is_executing": false
    }
   },
   "outputs": [
    {
     "data": {
      "text/plain": "            Colorado     Texas  New York      Ohio\n2000-01-05 -0.054302  0.122337 -1.186423  1.366850\n2000-01-12 -0.555084 -1.484977  0.476049 -0.249538",
      "text/html": "<div>\n<style scoped>\n    .dataframe tbody tr th:only-of-type {\n        vertical-align: middle;\n    }\n\n    .dataframe tbody tr th {\n        vertical-align: top;\n    }\n\n    .dataframe thead th {\n        text-align: right;\n    }\n</style>\n<table border=\"1\" class=\"dataframe\">\n  <thead>\n    <tr style=\"text-align: right;\">\n      <th></th>\n      <th>Colorado</th>\n      <th>Texas</th>\n      <th>New York</th>\n      <th>Ohio</th>\n    </tr>\n  </thead>\n  <tbody>\n    <tr>\n      <th>2000-01-05</th>\n      <td>-0.054302</td>\n      <td>0.122337</td>\n      <td>-1.186423</td>\n      <td>1.366850</td>\n    </tr>\n    <tr>\n      <th>2000-01-12</th>\n      <td>-0.555084</td>\n      <td>-1.484977</td>\n      <td>0.476049</td>\n      <td>-0.249538</td>\n    </tr>\n  </tbody>\n</table>\n</div>"
     },
     "metadata": {},
     "output_type": "execute_result",
     "execution_count": 60
    }
   ],
   "source": [
    "frame = pd.DataFrame(np.random.randn(2, 4),\n",
    "                     index=pd.date_range('1/1/2000', periods=2,\n",
    "                                         freq='W-WED'),\n",
    "                     columns=['Colorado', 'Texas', 'New York', 'Ohio'])\n",
    "frame"
   ]
  },
  {
   "cell_type": "code",
   "execution_count": 61,
   "metadata": {
    "pycharm": {
     "is_executing": false
    }
   },
   "outputs": [
    {
     "data": {
      "text/plain": "            Colorado     Texas  New York      Ohio\n2000-01-05 -0.054302  0.122337 -1.186423  1.366850\n2000-01-06       NaN       NaN       NaN       NaN\n2000-01-07       NaN       NaN       NaN       NaN\n2000-01-08       NaN       NaN       NaN       NaN\n2000-01-09       NaN       NaN       NaN       NaN\n2000-01-10       NaN       NaN       NaN       NaN\n2000-01-11       NaN       NaN       NaN       NaN\n2000-01-12 -0.555084 -1.484977  0.476049 -0.249538",
      "text/html": "<div>\n<style scoped>\n    .dataframe tbody tr th:only-of-type {\n        vertical-align: middle;\n    }\n\n    .dataframe tbody tr th {\n        vertical-align: top;\n    }\n\n    .dataframe thead th {\n        text-align: right;\n    }\n</style>\n<table border=\"1\" class=\"dataframe\">\n  <thead>\n    <tr style=\"text-align: right;\">\n      <th></th>\n      <th>Colorado</th>\n      <th>Texas</th>\n      <th>New York</th>\n      <th>Ohio</th>\n    </tr>\n  </thead>\n  <tbody>\n    <tr>\n      <th>2000-01-05</th>\n      <td>-0.054302</td>\n      <td>0.122337</td>\n      <td>-1.186423</td>\n      <td>1.366850</td>\n    </tr>\n    <tr>\n      <th>2000-01-06</th>\n      <td>NaN</td>\n      <td>NaN</td>\n      <td>NaN</td>\n      <td>NaN</td>\n    </tr>\n    <tr>\n      <th>2000-01-07</th>\n      <td>NaN</td>\n      <td>NaN</td>\n      <td>NaN</td>\n      <td>NaN</td>\n    </tr>\n    <tr>\n      <th>2000-01-08</th>\n      <td>NaN</td>\n      <td>NaN</td>\n      <td>NaN</td>\n      <td>NaN</td>\n    </tr>\n    <tr>\n      <th>2000-01-09</th>\n      <td>NaN</td>\n      <td>NaN</td>\n      <td>NaN</td>\n      <td>NaN</td>\n    </tr>\n    <tr>\n      <th>2000-01-10</th>\n      <td>NaN</td>\n      <td>NaN</td>\n      <td>NaN</td>\n      <td>NaN</td>\n    </tr>\n    <tr>\n      <th>2000-01-11</th>\n      <td>NaN</td>\n      <td>NaN</td>\n      <td>NaN</td>\n      <td>NaN</td>\n    </tr>\n    <tr>\n      <th>2000-01-12</th>\n      <td>-0.555084</td>\n      <td>-1.484977</td>\n      <td>0.476049</td>\n      <td>-0.249538</td>\n    </tr>\n  </tbody>\n</table>\n</div>"
     },
     "metadata": {},
     "output_type": "execute_result",
     "execution_count": 61
    }
   ],
   "source": "'''\nResampler.asfreq(fill_value=None)\n\tReturn the values at the new freq\n'''\nframe.resample('D').asfreq()"
  },
  {
   "cell_type": "code",
   "execution_count": 62,
   "metadata": {
    "pycharm": {
     "is_executing": false
    }
   },
   "outputs": [
    {
     "data": {
      "text/plain": "            Colorado     Texas  New York      Ohio\n2000-01-05 -0.054302  0.122337 -1.186423  1.366850\n2000-01-06 -0.054302  0.122337 -1.186423  1.366850\n2000-01-07 -0.054302  0.122337 -1.186423  1.366850\n2000-01-08 -0.054302  0.122337 -1.186423  1.366850\n2000-01-09 -0.054302  0.122337 -1.186423  1.366850\n2000-01-10 -0.054302  0.122337 -1.186423  1.366850\n2000-01-11 -0.054302  0.122337 -1.186423  1.366850\n2000-01-12 -0.555084 -1.484977  0.476049 -0.249538",
      "text/html": "<div>\n<style scoped>\n    .dataframe tbody tr th:only-of-type {\n        vertical-align: middle;\n    }\n\n    .dataframe tbody tr th {\n        vertical-align: top;\n    }\n\n    .dataframe thead th {\n        text-align: right;\n    }\n</style>\n<table border=\"1\" class=\"dataframe\">\n  <thead>\n    <tr style=\"text-align: right;\">\n      <th></th>\n      <th>Colorado</th>\n      <th>Texas</th>\n      <th>New York</th>\n      <th>Ohio</th>\n    </tr>\n  </thead>\n  <tbody>\n    <tr>\n      <th>2000-01-05</th>\n      <td>-0.054302</td>\n      <td>0.122337</td>\n      <td>-1.186423</td>\n      <td>1.366850</td>\n    </tr>\n    <tr>\n      <th>2000-01-06</th>\n      <td>-0.054302</td>\n      <td>0.122337</td>\n      <td>-1.186423</td>\n      <td>1.366850</td>\n    </tr>\n    <tr>\n      <th>2000-01-07</th>\n      <td>-0.054302</td>\n      <td>0.122337</td>\n      <td>-1.186423</td>\n      <td>1.366850</td>\n    </tr>\n    <tr>\n      <th>2000-01-08</th>\n      <td>-0.054302</td>\n      <td>0.122337</td>\n      <td>-1.186423</td>\n      <td>1.366850</td>\n    </tr>\n    <tr>\n      <th>2000-01-09</th>\n      <td>-0.054302</td>\n      <td>0.122337</td>\n      <td>-1.186423</td>\n      <td>1.366850</td>\n    </tr>\n    <tr>\n      <th>2000-01-10</th>\n      <td>-0.054302</td>\n      <td>0.122337</td>\n      <td>-1.186423</td>\n      <td>1.366850</td>\n    </tr>\n    <tr>\n      <th>2000-01-11</th>\n      <td>-0.054302</td>\n      <td>0.122337</td>\n      <td>-1.186423</td>\n      <td>1.366850</td>\n    </tr>\n    <tr>\n      <th>2000-01-12</th>\n      <td>-0.555084</td>\n      <td>-1.484977</td>\n      <td>0.476049</td>\n      <td>-0.249538</td>\n    </tr>\n  </tbody>\n</table>\n</div>"
     },
     "metadata": {},
     "output_type": "execute_result",
     "execution_count": 62
    }
   ],
   "source": "frame.resample('D').ffill() # finna和reindex方法中可用的填充或插值方法可用于重采样"
  },
  {
   "cell_type": "code",
   "execution_count": 63,
   "metadata": {
    "pycharm": {
     "is_executing": false
    }
   },
   "outputs": [
    {
     "data": {
      "text/plain": "            Colorado     Texas  New York      Ohio\n2000-01-05 -0.054302  0.122337 -1.186423  1.366850\n2000-01-06 -0.054302  0.122337 -1.186423  1.366850\n2000-01-07 -0.054302  0.122337 -1.186423  1.366850\n2000-01-08       NaN       NaN       NaN       NaN\n2000-01-09       NaN       NaN       NaN       NaN\n2000-01-10       NaN       NaN       NaN       NaN\n2000-01-11       NaN       NaN       NaN       NaN\n2000-01-12 -0.555084 -1.484977  0.476049 -0.249538",
      "text/html": "<div>\n<style scoped>\n    .dataframe tbody tr th:only-of-type {\n        vertical-align: middle;\n    }\n\n    .dataframe tbody tr th {\n        vertical-align: top;\n    }\n\n    .dataframe thead th {\n        text-align: right;\n    }\n</style>\n<table border=\"1\" class=\"dataframe\">\n  <thead>\n    <tr style=\"text-align: right;\">\n      <th></th>\n      <th>Colorado</th>\n      <th>Texas</th>\n      <th>New York</th>\n      <th>Ohio</th>\n    </tr>\n  </thead>\n  <tbody>\n    <tr>\n      <th>2000-01-05</th>\n      <td>-0.054302</td>\n      <td>0.122337</td>\n      <td>-1.186423</td>\n      <td>1.366850</td>\n    </tr>\n    <tr>\n      <th>2000-01-06</th>\n      <td>-0.054302</td>\n      <td>0.122337</td>\n      <td>-1.186423</td>\n      <td>1.366850</td>\n    </tr>\n    <tr>\n      <th>2000-01-07</th>\n      <td>-0.054302</td>\n      <td>0.122337</td>\n      <td>-1.186423</td>\n      <td>1.366850</td>\n    </tr>\n    <tr>\n      <th>2000-01-08</th>\n      <td>NaN</td>\n      <td>NaN</td>\n      <td>NaN</td>\n      <td>NaN</td>\n    </tr>\n    <tr>\n      <th>2000-01-09</th>\n      <td>NaN</td>\n      <td>NaN</td>\n      <td>NaN</td>\n      <td>NaN</td>\n    </tr>\n    <tr>\n      <th>2000-01-10</th>\n      <td>NaN</td>\n      <td>NaN</td>\n      <td>NaN</td>\n      <td>NaN</td>\n    </tr>\n    <tr>\n      <th>2000-01-11</th>\n      <td>NaN</td>\n      <td>NaN</td>\n      <td>NaN</td>\n      <td>NaN</td>\n    </tr>\n    <tr>\n      <th>2000-01-12</th>\n      <td>-0.555084</td>\n      <td>-1.484977</td>\n      <td>0.476049</td>\n      <td>-0.249538</td>\n    </tr>\n  </tbody>\n</table>\n</div>"
     },
     "metadata": {},
     "output_type": "execute_result",
     "execution_count": 63
    }
   ],
   "source": "frame.resample('D').ffill(limit=2) # 选择仅向前填充一定数量的区间"
  },
  {
   "cell_type": "code",
   "execution_count": 64,
   "outputs": [
    {
     "name": "stdout",
     "text": [
      "            Colorado  Texas  New York  Ohio\n2000-01-06       NaN    NaN       NaN   NaN\n2000-01-13       NaN    NaN       NaN   NaN\n",
      "            Colorado     Texas  New York      Ohio\n2000-01-06 -0.054302  0.122337 -1.186423  1.366850\n2000-01-13 -0.555084 -1.484977  0.476049 -0.249538\n"
     ],
     "output_type": "stream"
    }
   ],
   "source": "print(frame.resample('W-THU').asfreq())\nprint(frame.resample('W-THU').ffill()) # 新的索引日期不需要与旧的索引重叠",
   "metadata": {
    "pycharm": {
     "metadata": false,
     "name": "#%%\n",
     "is_executing": false
    }
   }
  },
  {
   "cell_type": "code",
   "execution_count": null,
   "outputs": [],
   "source": "\n",
   "metadata": {
    "pycharm": {
     "metadata": false,
     "name": "#%%\n"
    }
   }
  }
 ],
 "metadata": {
  "kernelspec": {
   "name": "python3",
   "language": "python",
   "display_name": "Python 3"
  },
  "language_info": {
   "codemirror_mode": {
    "name": "ipython",
    "version": 2
   },
   "file_extension": ".py",
   "mimetype": "text/x-python",
   "name": "python",
   "nbconvert_exporter": "python",
   "pygments_lexer": "ipython2",
   "version": "2.7.6"
  },
  "pycharm": {
   "stem_cell": {
    "cell_type": "raw",
    "source": [],
    "metadata": {
     "collapsed": false
    }
   }
  }
 },
 "nbformat": 4,
 "nbformat_minor": 0
}