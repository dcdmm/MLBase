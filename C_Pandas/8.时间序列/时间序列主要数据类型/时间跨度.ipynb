{
 "cells": [
  {
   "cell_type": "markdown",
   "source": [
    "## 时间跨度(Time spans)\n",
    "### 标量类(Period)\n",
    "### 数组类(PeriodIndex)"
   ],
   "metadata": {
    "pycharm": {
     "metadata": false,
     "name": "#%% md\n"
    }
   }
  },
  {
   "cell_type": "code",
   "execution_count": 76,
   "metadata": {
    "collapsed": true,
    "pycharm": {
     "is_executing": false
    }
   },
   "outputs": [],
   "source": "import  pandas as pd\nimport  numpy as np"
  },
  {
   "cell_type": "code",
   "execution_count": 77,
   "metadata": {
    "pycharm": {
     "is_executing": false
    }
   },
   "outputs": [
    {
     "data": {
      "text/plain": "Period('2007', 'A-DEC')"
     },
     "metadata": {},
     "output_type": "execute_result",
     "execution_count": 77
    }
   ],
   "source": "p = pd.Period(2007, freq='A-DEC') # 标量类(Period)\n'''\n Parameters\n----------\nvalue : Period or compat.string_types, default None\n    The time period represented (e.g., '4Q2005')\n    \nfreq : str, default None\n    One of pandas period strings or corresponding objects\n    \nyear : int, default None\nmonth : int, default 1\nquarter : int, default None\nday : int, default 1\nhour : int, default 0\nminute : int, default 0\nsecond : int, default 0\n'''\np"
  },
  {
   "cell_type": "code",
   "execution_count": 78,
   "metadata": {
    "pycharm": {
     "is_executing": false
    }
   },
   "outputs": [
    {
     "name": "stdout",
     "text": [
      "2007-01-01 00:00:00\n2007-12-31 23:59:59.999999999\n"
     ],
     "output_type": "stream"
    }
   ],
   "source": "print(p.start_time) # 获取时间跨度开始的时间戳\nprint(p.end_time)  # 获取时间跨度结束的时间戳"
  },
  {
   "cell_type": "code",
   "execution_count": 79,
   "metadata": {
    "pycharm": {
     "is_executing": false
    }
   },
   "outputs": [
    {
     "data": {
      "text/plain": "Period('2012', 'A-DEC')"
     },
     "metadata": {},
     "output_type": "execute_result",
     "execution_count": 79
    }
   ],
   "source": [
    "p + 5"
   ]
  },
  {
   "cell_type": "code",
   "execution_count": 80,
   "metadata": {
    "pycharm": {
     "is_executing": false
    }
   },
   "outputs": [
    {
     "data": {
      "text/plain": "Period('2005', 'A-DEC')"
     },
     "metadata": {},
     "output_type": "execute_result",
     "execution_count": 80
    }
   ],
   "source": "p - 2 # 在时间跨度上增加或减去整数可以方便地根据它们的频率进行移位"
  },
  {
   "cell_type": "code",
   "execution_count": 117,
   "metadata": {
    "pycharm": {
     "is_executing": false
    }
   },
   "outputs": [
    {
     "data": {
      "text/plain": "<7 * YearEnds: month=12>"
     },
     "metadata": {},
     "output_type": "execute_result",
     "execution_count": 117
    }
   ],
   "source": "# 如果两个时间跨度拥有相同的频率,则它们的差是它们之间的单位数\npd.Period('2014', freq='A-DEC') - p"
  },
  {
   "cell_type": "code",
   "execution_count": 118,
   "outputs": [
    {
     "data": {
      "text/plain": "Period('2005Q4', 'Q-DEC')"
     },
     "metadata": {},
     "output_type": "execute_result",
     "execution_count": 118
    }
   ],
   "source": "pd.Period('4Q2005', freq='Q-DEC')",
   "metadata": {
    "pycharm": {
     "metadata": false,
     "name": "#%%\n",
     "is_executing": false
    }
   }
  },
  {
   "cell_type": "code",
   "execution_count": 119,
   "outputs": [
    {
     "data": {
      "text/plain": "Period('2005Q4', 'Q-DEC')"
     },
     "metadata": {},
     "output_type": "execute_result",
     "execution_count": 119
    }
   ],
   "source": "pd.Period(year=2005, quarter=4, freq='Q-DEC') # 与上等价",
   "metadata": {
    "pycharm": {
     "metadata": false,
     "name": "#%%\n",
     "is_executing": false
    }
   }
  },
  {
   "cell_type": "code",
   "execution_count": null,
   "outputs": [],
   "source": "rng = pd.period_range('2000-01-01', '2000-06-30', freq='M') # 数组类(PeriodIndex)\nrng",
   "metadata": {
    "pycharm": {
     "metadata": false,
     "name": "#%%\n"
    }
   }
  },
  {
   "cell_type": "code",
   "execution_count": 84,
   "metadata": {
    "pycharm": {
     "is_executing": false
    }
   },
   "outputs": [
    {
     "name": "stdout",
     "text": [
      "DatetimeIndex(['2000-01-01', '2000-02-01', '2000-03-01', '2000-04-01',\n               '2000-05-01', '2000-06-01'],\n              dtype='datetime64[ns]', freq='MS')\nDatetimeIndex(['2000-01-31 23:59:59.999999999',\n               '2000-02-29 23:59:59.999999999',\n               '2000-03-31 23:59:59.999999999',\n               '2000-04-30 23:59:59.999999999',\n               '2000-05-31 23:59:59.999999999',\n               '2000-06-30 23:59:59.999999999'],\n              dtype='datetime64[ns]', freq='M')\n"
     ],
     "output_type": "stream"
    }
   ],
   "source": "print(rng.start_time)\nprint(rng.end_time)"
  },
  {
   "cell_type": "code",
   "execution_count": 85,
   "metadata": {
    "pycharm": {
     "is_executing": false
    }
   },
   "outputs": [
    {
     "data": {
      "text/plain": "2000-01    1.625978\n2000-02   -2.105674\n2000-03   -0.408193\n2000-04    1.001723\n2000-05    1.851240\n2000-06   -1.773354\nFreq: M, dtype: float64"
     },
     "metadata": {},
     "output_type": "execute_result",
     "execution_count": 85
    }
   ],
   "source": [
    "pd.Series(np.random.randn(6), index=rng)"
   ]
  },
  {
   "cell_type": "code",
   "execution_count": 94,
   "metadata": {
    "pycharm": {
     "is_executing": false
    }
   },
   "outputs": [
    {
     "data": {
      "text/plain": "PeriodIndex(['2001Q4', '2001Q2', '2001Q1'], dtype='period[Q-DEC]', freq='Q-DEC')"
     },
     "metadata": {},
     "output_type": "execute_result",
     "execution_count": 94
    }
   ],
   "source": "values = ['2001Q4', '2001Q2', '2001Q1']  # Q4表示第4个季度\nindex = pd.PeriodIndex(data=values, freq='Q-DEC') # 数组类(PeriodIndex)\n'''\nParameters\n----------\ndata : array-like (1-dimensional), optional\n    Optional period-like data to construct index with\n    \nfreq : string or period object, optional\n    One of pandas period strings or corresponding objects\n      \nyear : int, array, or Series, default None\nmonth : int, array, or Series, default None\nquarter : int, array, or Series, default None\nday : int, array, or Series, default None\nhour : int, array, or Series, default None\nminute : int, array, or Series, default None\nsecond : int, array, or Series, default None\ntz : object, default None\n    Timezone for converting datetime64 data to Periods\n\n'''\nindex"
  },
  {
   "cell_type": "code",
   "execution_count": 97,
   "metadata": {
    "pycharm": {
     "is_executing": false
    }
   },
   "outputs": [
    {
     "name": "stdout",
     "text": [
      "DatetimeIndex(['2001-12-31 23:59:59.999999999',\n               '2001-06-30 23:59:59.999999999',\n               '2001-03-31 23:59:59.999999999'],\n              dtype='datetime64[ns]', freq=None)\nDatetimeIndex(['2001-10-01', '2001-04-01', '2001-01-01'], dtype='datetime64[ns]', freq=None)\n<class 'pandas._libs.tslibs.period.Period'>\n2001-01-01 00:00:00\n2001-03-31 23:59:59.999999999\n"
     ],
     "output_type": "stream"
    }
   ],
   "source": "print(index.end_time)\nprint(index.start_time)\nprint(type(index[2]))\nprint(index[2].start_time)\nprint(index[2].end_time)"
  },
  {
   "cell_type": "code",
   "execution_count": 88,
   "outputs": [
    {
     "data": {
      "text/plain": "     year  quarter   realgdp  realcons  realinv  realgovt  realdpi    cpi  \\\n0  1959.0      1.0  2710.349    1707.4  286.898   470.045   1886.9  28.98   \n1  1959.0      2.0  2778.801    1733.7  310.859   481.301   1919.7  29.15   \n2  1959.0      3.0  2775.488    1751.8  289.226   491.260   1916.4  29.35   \n3  1959.0      4.0  2785.204    1753.7  299.356   484.052   1931.3  29.37   \n4  1960.0      1.0  2847.699    1770.5  331.722   462.199   1955.5  29.54   \n\n      m1  tbilrate  unemp      pop  infl  realint  \n0  139.7      2.82    5.8  177.146  0.00     0.00  \n1  141.7      3.08    5.1  177.830  2.34     0.74  \n2  140.5      3.82    5.3  178.657  2.74     1.09  \n3  140.0      4.33    5.6  179.386  0.27     4.06  \n4  139.6      3.50    5.2  180.007  2.31     1.19  ",
      "text/html": "<div>\n<style scoped>\n    .dataframe tbody tr th:only-of-type {\n        vertical-align: middle;\n    }\n\n    .dataframe tbody tr th {\n        vertical-align: top;\n    }\n\n    .dataframe thead th {\n        text-align: right;\n    }\n</style>\n<table border=\"1\" class=\"dataframe\">\n  <thead>\n    <tr style=\"text-align: right;\">\n      <th></th>\n      <th>year</th>\n      <th>quarter</th>\n      <th>realgdp</th>\n      <th>realcons</th>\n      <th>realinv</th>\n      <th>realgovt</th>\n      <th>realdpi</th>\n      <th>cpi</th>\n      <th>m1</th>\n      <th>tbilrate</th>\n      <th>unemp</th>\n      <th>pop</th>\n      <th>infl</th>\n      <th>realint</th>\n    </tr>\n  </thead>\n  <tbody>\n    <tr>\n      <th>0</th>\n      <td>1959.0</td>\n      <td>1.0</td>\n      <td>2710.349</td>\n      <td>1707.4</td>\n      <td>286.898</td>\n      <td>470.045</td>\n      <td>1886.9</td>\n      <td>28.98</td>\n      <td>139.7</td>\n      <td>2.82</td>\n      <td>5.8</td>\n      <td>177.146</td>\n      <td>0.00</td>\n      <td>0.00</td>\n    </tr>\n    <tr>\n      <th>1</th>\n      <td>1959.0</td>\n      <td>2.0</td>\n      <td>2778.801</td>\n      <td>1733.7</td>\n      <td>310.859</td>\n      <td>481.301</td>\n      <td>1919.7</td>\n      <td>29.15</td>\n      <td>141.7</td>\n      <td>3.08</td>\n      <td>5.1</td>\n      <td>177.830</td>\n      <td>2.34</td>\n      <td>0.74</td>\n    </tr>\n    <tr>\n      <th>2</th>\n      <td>1959.0</td>\n      <td>3.0</td>\n      <td>2775.488</td>\n      <td>1751.8</td>\n      <td>289.226</td>\n      <td>491.260</td>\n      <td>1916.4</td>\n      <td>29.35</td>\n      <td>140.5</td>\n      <td>3.82</td>\n      <td>5.3</td>\n      <td>178.657</td>\n      <td>2.74</td>\n      <td>1.09</td>\n    </tr>\n    <tr>\n      <th>3</th>\n      <td>1959.0</td>\n      <td>4.0</td>\n      <td>2785.204</td>\n      <td>1753.7</td>\n      <td>299.356</td>\n      <td>484.052</td>\n      <td>1931.3</td>\n      <td>29.37</td>\n      <td>140.0</td>\n      <td>4.33</td>\n      <td>5.6</td>\n      <td>179.386</td>\n      <td>0.27</td>\n      <td>4.06</td>\n    </tr>\n    <tr>\n      <th>4</th>\n      <td>1960.0</td>\n      <td>1.0</td>\n      <td>2847.699</td>\n      <td>1770.5</td>\n      <td>331.722</td>\n      <td>462.199</td>\n      <td>1955.5</td>\n      <td>29.54</td>\n      <td>139.6</td>\n      <td>3.50</td>\n      <td>5.2</td>\n      <td>180.007</td>\n      <td>2.31</td>\n      <td>1.19</td>\n    </tr>\n  </tbody>\n</table>\n</div>"
     },
     "metadata": {},
     "output_type": "execute_result",
     "execution_count": 88
    }
   ],
   "source": "data = pd.read_csv('macrodata.csv')\ndata.head(5).head()",
   "metadata": {
    "pycharm": {
     "metadata": false,
     "name": "#%%\n",
     "is_executing": false
    }
   }
  },
  {
   "cell_type": "code",
   "execution_count": 89,
   "outputs": [
    {
     "data": {
      "text/plain": "0    1.0\n1    2.0\n2    3.0\n3    4.0\n4    1.0\nName: quarter, dtype: float64"
     },
     "metadata": {},
     "output_type": "execute_result",
     "execution_count": 89
    }
   ],
   "source": "data.quarter.head()",
   "metadata": {
    "pycharm": {
     "metadata": false,
     "name": "#%%\n",
     "is_executing": false
    }
   }
  },
  {
   "cell_type": "code",
   "execution_count": 90,
   "outputs": [
    {
     "data": {
      "text/plain": "PeriodIndex(['1959Q1', '1959Q2', '1959Q3', '1959Q4', '1960Q1', '1960Q2',\n             '1960Q3', '1960Q4', '1961Q1', '1961Q2',\n             ...\n             '2007Q2', '2007Q3', '2007Q4', '2008Q1', '2008Q2', '2008Q3',\n             '2008Q4', '2009Q1', '2009Q2', '2009Q3'],\n            dtype='period[Q-DEC]', length=203, freq='Q-DEC')"
     },
     "metadata": {},
     "output_type": "execute_result",
     "execution_count": 90
    }
   ],
   "source": "index = pd.PeriodIndex(year=data.year, quarter=data.quarter,\n                       freq='Q-DEC')\nindex",
   "metadata": {
    "pycharm": {
     "metadata": false,
     "name": "#%%\n",
     "is_executing": false
    }
   }
  },
  {
   "cell_type": "code",
   "execution_count": 91,
   "outputs": [],
   "source": "data.index = index",
   "metadata": {
    "pycharm": {
     "metadata": false,
     "name": "#%%\n",
     "is_executing": false
    }
   }
  },
  {
   "cell_type": "code",
   "execution_count": 92,
   "outputs": [
    {
     "data": {
      "text/plain": "          year  quarter   realgdp  realcons  realinv  realgovt  realdpi  \\\n1959Q1  1959.0      1.0  2710.349    1707.4  286.898   470.045   1886.9   \n1959Q2  1959.0      2.0  2778.801    1733.7  310.859   481.301   1919.7   \n1959Q3  1959.0      3.0  2775.488    1751.8  289.226   491.260   1916.4   \n1959Q4  1959.0      4.0  2785.204    1753.7  299.356   484.052   1931.3   \n1960Q1  1960.0      1.0  2847.699    1770.5  331.722   462.199   1955.5   \n\n          cpi     m1  tbilrate  unemp      pop  infl  realint  \n1959Q1  28.98  139.7      2.82    5.8  177.146  0.00     0.00  \n1959Q2  29.15  141.7      3.08    5.1  177.830  2.34     0.74  \n1959Q3  29.35  140.5      3.82    5.3  178.657  2.74     1.09  \n1959Q4  29.37  140.0      4.33    5.6  179.386  0.27     4.06  \n1960Q1  29.54  139.6      3.50    5.2  180.007  2.31     1.19  ",
      "text/html": "<div>\n<style scoped>\n    .dataframe tbody tr th:only-of-type {\n        vertical-align: middle;\n    }\n\n    .dataframe tbody tr th {\n        vertical-align: top;\n    }\n\n    .dataframe thead th {\n        text-align: right;\n    }\n</style>\n<table border=\"1\" class=\"dataframe\">\n  <thead>\n    <tr style=\"text-align: right;\">\n      <th></th>\n      <th>year</th>\n      <th>quarter</th>\n      <th>realgdp</th>\n      <th>realcons</th>\n      <th>realinv</th>\n      <th>realgovt</th>\n      <th>realdpi</th>\n      <th>cpi</th>\n      <th>m1</th>\n      <th>tbilrate</th>\n      <th>unemp</th>\n      <th>pop</th>\n      <th>infl</th>\n      <th>realint</th>\n    </tr>\n  </thead>\n  <tbody>\n    <tr>\n      <th>1959Q1</th>\n      <td>1959.0</td>\n      <td>1.0</td>\n      <td>2710.349</td>\n      <td>1707.4</td>\n      <td>286.898</td>\n      <td>470.045</td>\n      <td>1886.9</td>\n      <td>28.98</td>\n      <td>139.7</td>\n      <td>2.82</td>\n      <td>5.8</td>\n      <td>177.146</td>\n      <td>0.00</td>\n      <td>0.00</td>\n    </tr>\n    <tr>\n      <th>1959Q2</th>\n      <td>1959.0</td>\n      <td>2.0</td>\n      <td>2778.801</td>\n      <td>1733.7</td>\n      <td>310.859</td>\n      <td>481.301</td>\n      <td>1919.7</td>\n      <td>29.15</td>\n      <td>141.7</td>\n      <td>3.08</td>\n      <td>5.1</td>\n      <td>177.830</td>\n      <td>2.34</td>\n      <td>0.74</td>\n    </tr>\n    <tr>\n      <th>1959Q3</th>\n      <td>1959.0</td>\n      <td>3.0</td>\n      <td>2775.488</td>\n      <td>1751.8</td>\n      <td>289.226</td>\n      <td>491.260</td>\n      <td>1916.4</td>\n      <td>29.35</td>\n      <td>140.5</td>\n      <td>3.82</td>\n      <td>5.3</td>\n      <td>178.657</td>\n      <td>2.74</td>\n      <td>1.09</td>\n    </tr>\n    <tr>\n      <th>1959Q4</th>\n      <td>1959.0</td>\n      <td>4.0</td>\n      <td>2785.204</td>\n      <td>1753.7</td>\n      <td>299.356</td>\n      <td>484.052</td>\n      <td>1931.3</td>\n      <td>29.37</td>\n      <td>140.0</td>\n      <td>4.33</td>\n      <td>5.6</td>\n      <td>179.386</td>\n      <td>0.27</td>\n      <td>4.06</td>\n    </tr>\n    <tr>\n      <th>1960Q1</th>\n      <td>1960.0</td>\n      <td>1.0</td>\n      <td>2847.699</td>\n      <td>1770.5</td>\n      <td>331.722</td>\n      <td>462.199</td>\n      <td>1955.5</td>\n      <td>29.54</td>\n      <td>139.6</td>\n      <td>3.50</td>\n      <td>5.2</td>\n      <td>180.007</td>\n      <td>2.31</td>\n      <td>1.19</td>\n    </tr>\n  </tbody>\n</table>\n</div>"
     },
     "metadata": {},
     "output_type": "execute_result",
     "execution_count": 92
    }
   ],
   "source": "data.head()",
   "metadata": {
    "pycharm": {
     "metadata": false,
     "name": "#%%\n",
     "is_executing": false
    }
   }
  },
  {
   "cell_type": "code",
   "execution_count": 93,
   "outputs": [
    {
     "data": {
      "text/plain": "1959Q1    0.00\n1959Q2    2.34\n1959Q3    2.74\n1959Q4    0.27\n1960Q1    2.31\nFreq: Q-DEC, Name: infl, dtype: float64"
     },
     "metadata": {},
     "output_type": "execute_result",
     "execution_count": 93
    }
   ],
   "source": "data.infl.head()",
   "metadata": {
    "pycharm": {
     "metadata": false,
     "name": "#%%\n",
     "is_executing": false
    }
   }
  },
  {
   "cell_type": "code",
   "execution_count": null,
   "outputs": [],
   "source": "",
   "metadata": {
    "pycharm": {
     "metadata": false,
     "name": "#%%"
    }
   }
  }
 ],
 "metadata": {
  "kernelspec": {
   "name": "python3",
   "language": "python",
   "display_name": "Python 3"
  },
  "language_info": {
   "codemirror_mode": {
    "name": "ipython",
    "version": 2
   },
   "file_extension": ".py",
   "mimetype": "text/x-python",
   "name": "python",
   "nbconvert_exporter": "python",
   "pygments_lexer": "ipython2",
   "version": "2.7.6"
  },
  "stem_cell": {
   "cell_type": "raw",
   "source": "",
   "metadata": {
    "pycharm": {
     "metadata": false
    }
   }
  },
  "pycharm": {
   "stem_cell": {
    "cell_type": "raw",
    "source": [],
    "metadata": {
     "collapsed": false
    }
   }
  }
 },
 "nbformat": 4,
 "nbformat_minor": 0
}