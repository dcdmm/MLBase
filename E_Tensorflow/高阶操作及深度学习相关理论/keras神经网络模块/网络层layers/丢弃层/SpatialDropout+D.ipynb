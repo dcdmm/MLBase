{
 "cells": [
  {
   "cell_type": "code",
   "execution_count": 1,
   "metadata": {
    "collapsed": true
   },
   "outputs": [],
   "source": [
    "import tensorflow as tf"
   ]
  },
  {
   "cell_type": "code",
   "execution_count": 2,
   "outputs": [
    {
     "data": {
      "text/plain": "<tf.Tensor: shape=(2, 3, 4), dtype=float32, numpy=\narray([[[1., 1., 1., 1.],\n        [1., 1., 1., 1.],\n        [1., 1., 1., 1.]],\n\n       [[1., 1., 1., 1.],\n        [1., 1., 1., 1.],\n        [1., 1., 1., 1.]]], dtype=float32)>"
     },
     "execution_count": 2,
     "metadata": {},
     "output_type": "execute_result"
    }
   ],
   "source": [
    "a = tf.ones((2, 3, 4))\n",
    "a"
   ],
   "metadata": {
    "collapsed": false,
    "pycharm": {
     "name": "#%%\n"
    }
   }
  },
  {
   "cell_type": "markdown",
   "source": [
    "### 参考torch.nn.Dropout1d"
   ],
   "metadata": {
    "collapsed": false,
    "pycharm": {
     "name": "#%% md\n"
    }
   }
  },
  {
   "cell_type": "code",
   "execution_count": 3,
   "outputs": [
    {
     "data": {
      "text/plain": "<tf.Tensor: shape=(2, 3, 4), dtype=float32, numpy=\narray([[[0.  , 1.25, 1.25, 1.25],\n        [0.  , 1.25, 1.25, 1.25],\n        [0.  , 1.25, 1.25, 1.25]],\n\n       [[1.25, 1.25, 1.25, 1.25],\n        [1.25, 1.25, 1.25, 1.25],\n        [1.25, 1.25, 1.25, 1.25]]], dtype=float32)>"
     },
     "execution_count": 3,
     "metadata": {},
     "output_type": "execute_result"
    }
   ],
   "source": [
    "# This version performs the same function as Dropout, however, it drops entire 1D feature maps instead of individual elements.\n",
    "layder1d = tf.keras.layers.SpatialDropout1D(rate=0.2)\n",
    "# 对中间1个特征维度整体进行dropout\n",
    "layder1d(inputs=a,  # 3D张量\n",
    "         training=True)  # 是否为训练模式(eval模式下不执行Dropout操作)"
   ],
   "metadata": {
    "collapsed": false,
    "pycharm": {
     "name": "#%%\n"
    }
   }
  },
  {
   "cell_type": "code",
   "execution_count": 4,
   "outputs": [
    {
     "data": {
      "text/plain": "<tf.Tensor: shape=(2, 3, 4, 5), dtype=float32, numpy=\narray([[[[1., 1., 1., 1., 1.],\n         [1., 1., 1., 1., 1.],\n         [1., 1., 1., 1., 1.],\n         [1., 1., 1., 1., 1.]],\n\n        [[1., 1., 1., 1., 1.],\n         [1., 1., 1., 1., 1.],\n         [1., 1., 1., 1., 1.],\n         [1., 1., 1., 1., 1.]],\n\n        [[1., 1., 1., 1., 1.],\n         [1., 1., 1., 1., 1.],\n         [1., 1., 1., 1., 1.],\n         [1., 1., 1., 1., 1.]]],\n\n\n       [[[1., 1., 1., 1., 1.],\n         [1., 1., 1., 1., 1.],\n         [1., 1., 1., 1., 1.],\n         [1., 1., 1., 1., 1.]],\n\n        [[1., 1., 1., 1., 1.],\n         [1., 1., 1., 1., 1.],\n         [1., 1., 1., 1., 1.],\n         [1., 1., 1., 1., 1.]],\n\n        [[1., 1., 1., 1., 1.],\n         [1., 1., 1., 1., 1.],\n         [1., 1., 1., 1., 1.],\n         [1., 1., 1., 1., 1.]]]], dtype=float32)>"
     },
     "execution_count": 4,
     "metadata": {},
     "output_type": "execute_result"
    }
   ],
   "source": [
    "b = tf.ones((2, 3, 4, 5))\n",
    "b"
   ],
   "metadata": {
    "collapsed": false,
    "pycharm": {
     "name": "#%%\n"
    }
   }
  },
  {
   "cell_type": "markdown",
   "source": [
    "### 参考torch.nn.Dropout1d"
   ],
   "metadata": {
    "collapsed": false
   }
  },
  {
   "cell_type": "code",
   "execution_count": 5,
   "outputs": [
    {
     "data": {
      "text/plain": "<tf.Tensor: shape=(2, 3, 4, 5), dtype=float32, numpy=\narray([[[[0., 2., 2., 0., 0.],\n         [0., 2., 2., 0., 0.],\n         [0., 2., 2., 0., 0.],\n         [0., 2., 2., 0., 0.]],\n\n        [[0., 2., 2., 0., 0.],\n         [0., 2., 2., 0., 0.],\n         [0., 2., 2., 0., 0.],\n         [0., 2., 2., 0., 0.]],\n\n        [[0., 2., 2., 0., 0.],\n         [0., 2., 2., 0., 0.],\n         [0., 2., 2., 0., 0.],\n         [0., 2., 2., 0., 0.]]],\n\n\n       [[[2., 0., 2., 2., 2.],\n         [2., 0., 2., 2., 2.],\n         [2., 0., 2., 2., 2.],\n         [2., 0., 2., 2., 2.]],\n\n        [[2., 0., 2., 2., 2.],\n         [2., 0., 2., 2., 2.],\n         [2., 0., 2., 2., 2.],\n         [2., 0., 2., 2., 2.]],\n\n        [[2., 0., 2., 2., 2.],\n         [2., 0., 2., 2., 2.],\n         [2., 0., 2., 2., 2.],\n         [2., 0., 2., 2., 2.]]]], dtype=float32)>"
     },
     "execution_count": 5,
     "metadata": {},
     "output_type": "execute_result"
    }
   ],
   "source": [
    "# This version performs the same function as Dropout, however, it drops entire 2D feature maps instead of individual elements.\n",
    "layder2d = tf.keras.layers.SpatialDropout2D(rate=0.5)\n",
    "# 对中间2个特征维度整体进行dropout\n",
    "layder2d(inputs=b,  # 4D张量\n",
    "         training=True)  # 是否为训练模式(eval模式下不执行Dropout操作)"
   ],
   "metadata": {
    "collapsed": false,
    "pycharm": {
     "name": "#%%\n"
    }
   }
  }
 ],
 "metadata": {
  "kernelspec": {
   "display_name": "Python 3",
   "language": "python",
   "name": "python3"
  },
  "language_info": {
   "codemirror_mode": {
    "name": "ipython",
    "version": 2
   },
   "file_extension": ".py",
   "mimetype": "text/x-python",
   "name": "python",
   "nbconvert_exporter": "python",
   "pygments_lexer": "ipython2",
   "version": "2.7.6"
  }
 },
 "nbformat": 4,
 "nbformat_minor": 0
}