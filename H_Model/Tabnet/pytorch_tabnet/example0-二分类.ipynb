{
 "cells": [
  {
   "cell_type": "code",
   "execution_count": 2,
   "metadata": {
    "collapsed": true,
    "pycharm": {
     "name": "#%%\n"
    }
   },
   "outputs": [],
   "source": [
    "from pytorch_tabnet.tab_model import TabNetClassifier\n",
    "from sklearn.preprocessing import LabelEncoder\n",
    "from sklearn.metrics import roc_auc_score\n",
    "import pandas as pd\n",
    "import numpy as np\n",
    "import matplotlib.pyplot as plt\n",
    "import torch\n",
    "import torch.nn.functional as F\n",
    "% matplotlib inline"
   ]
  },
  {
   "cell_type": "markdown",
   "source": [
    "### 数据处理"
   ],
   "metadata": {
    "collapsed": false,
    "pycharm": {
     "name": "#%% md\n"
    }
   }
  },
  {
   "cell_type": "code",
   "execution_count": 3,
   "outputs": [
    {
     "data": {
      "text/plain": "       39          State-gov   77516    Bachelors   13        Never-married  \\\n0      50   Self-emp-not-inc   83311    Bachelors   13   Married-civ-spouse   \n1      38            Private  215646      HS-grad    9             Divorced   \n2      53            Private  234721         11th    7   Married-civ-spouse   \n3      28            Private  338409    Bachelors   13   Married-civ-spouse   \n4      37            Private  284582      Masters   14   Married-civ-spouse   \n...    ..                ...     ...          ...  ...                  ...   \n32555  27            Private  257302   Assoc-acdm   12   Married-civ-spouse   \n32556  40            Private  154374      HS-grad    9   Married-civ-spouse   \n32557  58            Private  151910      HS-grad    9              Widowed   \n32558  22            Private  201490      HS-grad    9        Never-married   \n32559  52       Self-emp-inc  287927      HS-grad    9   Married-civ-spouse   \n\n             Adm-clerical   Not-in-family   White     Male   2174   0   40  \\\n0         Exec-managerial         Husband   White     Male      0   0   13   \n1       Handlers-cleaners   Not-in-family   White     Male      0   0   40   \n2       Handlers-cleaners         Husband   Black     Male      0   0   40   \n3          Prof-specialty            Wife   Black   Female      0   0   40   \n4         Exec-managerial            Wife   White   Female      0   0   40   \n...                   ...             ...     ...      ...    ...  ..  ...   \n32555        Tech-support            Wife   White   Female      0   0   38   \n32556   Machine-op-inspct         Husband   White     Male      0   0   40   \n32557        Adm-clerical       Unmarried   White   Female      0   0   40   \n32558        Adm-clerical       Own-child   White     Male      0   0   20   \n32559     Exec-managerial            Wife   White   Female  15024   0   40   \n\n        United-States   <=50K  \n0       United-States   <=50K  \n1       United-States   <=50K  \n2       United-States   <=50K  \n3                Cuba   <=50K  \n4       United-States   <=50K  \n...               ...     ...  \n32555   United-States   <=50K  \n32556   United-States    >50K  \n32557   United-States   <=50K  \n32558   United-States   <=50K  \n32559   United-States    >50K  \n\n[32560 rows x 15 columns]",
      "text/html": "<div>\n<style scoped>\n    .dataframe tbody tr th:only-of-type {\n        vertical-align: middle;\n    }\n\n    .dataframe tbody tr th {\n        vertical-align: top;\n    }\n\n    .dataframe thead th {\n        text-align: right;\n    }\n</style>\n<table border=\"1\" class=\"dataframe\">\n  <thead>\n    <tr style=\"text-align: right;\">\n      <th></th>\n      <th>39</th>\n      <th>State-gov</th>\n      <th>77516</th>\n      <th>Bachelors</th>\n      <th>13</th>\n      <th>Never-married</th>\n      <th>Adm-clerical</th>\n      <th>Not-in-family</th>\n      <th>White</th>\n      <th>Male</th>\n      <th>2174</th>\n      <th>0</th>\n      <th>40</th>\n      <th>United-States</th>\n      <th>&lt;=50K</th>\n    </tr>\n  </thead>\n  <tbody>\n    <tr>\n      <th>0</th>\n      <td>50</td>\n      <td>Self-emp-not-inc</td>\n      <td>83311</td>\n      <td>Bachelors</td>\n      <td>13</td>\n      <td>Married-civ-spouse</td>\n      <td>Exec-managerial</td>\n      <td>Husband</td>\n      <td>White</td>\n      <td>Male</td>\n      <td>0</td>\n      <td>0</td>\n      <td>13</td>\n      <td>United-States</td>\n      <td>&lt;=50K</td>\n    </tr>\n    <tr>\n      <th>1</th>\n      <td>38</td>\n      <td>Private</td>\n      <td>215646</td>\n      <td>HS-grad</td>\n      <td>9</td>\n      <td>Divorced</td>\n      <td>Handlers-cleaners</td>\n      <td>Not-in-family</td>\n      <td>White</td>\n      <td>Male</td>\n      <td>0</td>\n      <td>0</td>\n      <td>40</td>\n      <td>United-States</td>\n      <td>&lt;=50K</td>\n    </tr>\n    <tr>\n      <th>2</th>\n      <td>53</td>\n      <td>Private</td>\n      <td>234721</td>\n      <td>11th</td>\n      <td>7</td>\n      <td>Married-civ-spouse</td>\n      <td>Handlers-cleaners</td>\n      <td>Husband</td>\n      <td>Black</td>\n      <td>Male</td>\n      <td>0</td>\n      <td>0</td>\n      <td>40</td>\n      <td>United-States</td>\n      <td>&lt;=50K</td>\n    </tr>\n    <tr>\n      <th>3</th>\n      <td>28</td>\n      <td>Private</td>\n      <td>338409</td>\n      <td>Bachelors</td>\n      <td>13</td>\n      <td>Married-civ-spouse</td>\n      <td>Prof-specialty</td>\n      <td>Wife</td>\n      <td>Black</td>\n      <td>Female</td>\n      <td>0</td>\n      <td>0</td>\n      <td>40</td>\n      <td>Cuba</td>\n      <td>&lt;=50K</td>\n    </tr>\n    <tr>\n      <th>4</th>\n      <td>37</td>\n      <td>Private</td>\n      <td>284582</td>\n      <td>Masters</td>\n      <td>14</td>\n      <td>Married-civ-spouse</td>\n      <td>Exec-managerial</td>\n      <td>Wife</td>\n      <td>White</td>\n      <td>Female</td>\n      <td>0</td>\n      <td>0</td>\n      <td>40</td>\n      <td>United-States</td>\n      <td>&lt;=50K</td>\n    </tr>\n    <tr>\n      <th>...</th>\n      <td>...</td>\n      <td>...</td>\n      <td>...</td>\n      <td>...</td>\n      <td>...</td>\n      <td>...</td>\n      <td>...</td>\n      <td>...</td>\n      <td>...</td>\n      <td>...</td>\n      <td>...</td>\n      <td>...</td>\n      <td>...</td>\n      <td>...</td>\n      <td>...</td>\n    </tr>\n    <tr>\n      <th>32555</th>\n      <td>27</td>\n      <td>Private</td>\n      <td>257302</td>\n      <td>Assoc-acdm</td>\n      <td>12</td>\n      <td>Married-civ-spouse</td>\n      <td>Tech-support</td>\n      <td>Wife</td>\n      <td>White</td>\n      <td>Female</td>\n      <td>0</td>\n      <td>0</td>\n      <td>38</td>\n      <td>United-States</td>\n      <td>&lt;=50K</td>\n    </tr>\n    <tr>\n      <th>32556</th>\n      <td>40</td>\n      <td>Private</td>\n      <td>154374</td>\n      <td>HS-grad</td>\n      <td>9</td>\n      <td>Married-civ-spouse</td>\n      <td>Machine-op-inspct</td>\n      <td>Husband</td>\n      <td>White</td>\n      <td>Male</td>\n      <td>0</td>\n      <td>0</td>\n      <td>40</td>\n      <td>United-States</td>\n      <td>&gt;50K</td>\n    </tr>\n    <tr>\n      <th>32557</th>\n      <td>58</td>\n      <td>Private</td>\n      <td>151910</td>\n      <td>HS-grad</td>\n      <td>9</td>\n      <td>Widowed</td>\n      <td>Adm-clerical</td>\n      <td>Unmarried</td>\n      <td>White</td>\n      <td>Female</td>\n      <td>0</td>\n      <td>0</td>\n      <td>40</td>\n      <td>United-States</td>\n      <td>&lt;=50K</td>\n    </tr>\n    <tr>\n      <th>32558</th>\n      <td>22</td>\n      <td>Private</td>\n      <td>201490</td>\n      <td>HS-grad</td>\n      <td>9</td>\n      <td>Never-married</td>\n      <td>Adm-clerical</td>\n      <td>Own-child</td>\n      <td>White</td>\n      <td>Male</td>\n      <td>0</td>\n      <td>0</td>\n      <td>20</td>\n      <td>United-States</td>\n      <td>&lt;=50K</td>\n    </tr>\n    <tr>\n      <th>32559</th>\n      <td>52</td>\n      <td>Self-emp-inc</td>\n      <td>287927</td>\n      <td>HS-grad</td>\n      <td>9</td>\n      <td>Married-civ-spouse</td>\n      <td>Exec-managerial</td>\n      <td>Wife</td>\n      <td>White</td>\n      <td>Female</td>\n      <td>15024</td>\n      <td>0</td>\n      <td>40</td>\n      <td>United-States</td>\n      <td>&gt;50K</td>\n    </tr>\n  </tbody>\n</table>\n<p>32560 rows × 15 columns</p>\n</div>"
     },
     "execution_count": 3,
     "metadata": {},
     "output_type": "execute_result"
    }
   ],
   "source": [
    "train = pd.read_csv('data/census-income.csv')\n",
    "train"
   ],
   "metadata": {
    "collapsed": false,
    "pycharm": {
     "name": "#%%\n"
    }
   }
  },
  {
   "cell_type": "code",
   "execution_count": 4,
   "outputs": [],
   "source": [
    "if \"Set\" not in train.columns:\n",
    "    train[\"Set\"] = np.random.choice([\"train\", \"valid\", \"test\"], p=[.8, .1, .1],\n",
    "                                    size=(train.shape[0],))\n",
    "\n",
    "train_indices = train[train.loc[:, \"Set\"] == \"train\"].index  # 训练数据集索引\n",
    "valid_indices = train[train.loc[:, \"Set\"] == \"valid\"].index  # 验证数据集索引\n",
    "test_indices = train[train.loc[:, \"Set\"] == \"test\"].index  # 测试数据集索引"
   ],
   "metadata": {
    "collapsed": false,
    "pycharm": {
     "name": "#%%\n"
    }
   }
  },
  {
   "cell_type": "code",
   "execution_count": 5,
   "outputs": [
    {
     "data": {
      "text/plain": "39                   73\n State-gov            9\n 77516            21647\n Bachelors           16\n 13                  16\n Never-married        7\n Adm-clerical        15\n Not-in-family        6\n White                5\n Male                 2\n 2174               119\n 0                   92\n 40                  94\n United-States       42\n <=50K                2\nSet                   3\ndtype: int64"
     },
     "execution_count": 5,
     "metadata": {},
     "output_type": "execute_result"
    }
   ],
   "source": [
    "nunique = train.nunique()\n",
    "nunique"
   ],
   "metadata": {
    "collapsed": false,
    "pycharm": {
     "name": "#%%\n"
    }
   }
  },
  {
   "cell_type": "code",
   "execution_count": 6,
   "outputs": [
    {
     "data": {
      "text/plain": "39                 int64\n State-gov        object\n 77516             int64\n Bachelors        object\n 13                int64\n Never-married    object\n Adm-clerical     object\n Not-in-family    object\n White            object\n Male             object\n 2174              int64\n 0                 int64\n 40                int64\n United-States    object\n <=50K            object\nSet               object\ndtype: object"
     },
     "execution_count": 6,
     "metadata": {},
     "output_type": "execute_result"
    }
   ],
   "source": [
    "types = train.dtypes\n",
    "types"
   ],
   "metadata": {
    "collapsed": false,
    "pycharm": {
     "name": "#%%\n"
    }
   }
  },
  {
   "cell_type": "code",
   "execution_count": 7,
   "outputs": [
    {
     "name": "stdout",
     "output_type": "stream",
     "text": [
      "39 73\n",
      " State-gov 9\n",
      " Bachelors 16\n",
      " 13 16\n",
      " Never-married 7\n",
      " Adm-clerical 15\n",
      " Not-in-family 6\n",
      " White 5\n",
      " Male 2\n",
      " 2174 119\n",
      " 0 92\n",
      " 40 94\n",
      " United-States 42\n",
      " <=50K 2\n",
      "Set 3\n",
      "['39', ' State-gov', ' Bachelors', ' 13', ' Never-married', ' Adm-clerical', ' Not-in-family', ' White', ' Male', ' 2174', ' 0', ' 40', ' United-States', ' <=50K', 'Set']\n",
      "{'39': 73, ' State-gov': 9, ' Bachelors': 16, ' 13': 16, ' Never-married': 7, ' Adm-clerical': 15, ' Not-in-family': 6, ' White': 5, ' Male': 2, ' 2174': 119, ' 0': 92, ' 40': 94, ' United-States': 42, ' <=50K': 2, 'Set': 3}\n"
     ]
    }
   ],
   "source": [
    "categorical_columns = []  # 分类特征\n",
    "categorical_dims = {}  # 分类特征和该特征唯一值数量\n",
    "for col in train.columns:\n",
    "    # 分类特征处理\n",
    "    if types[col] == 'object' or nunique[col] < 200:\n",
    "        print(col, train[col].nunique())\n",
    "        l_enc = LabelEncoder()  # 标签二值化\n",
    "        train[col] = train[col].fillna(\"VV_likely\")\n",
    "        train[col] = l_enc.fit_transform(train[col].values)\n",
    "        categorical_columns.append(col)\n",
    "        categorical_dims[col] = len(l_enc.classes_)\n",
    "    else:\n",
    "        # 非分类特征缺失值处理\n",
    "        train.fillna(train.loc[train_indices, col].mean(), inplace=True)\n",
    "\n",
    "print(categorical_columns)\n",
    "print(categorical_dims)"
   ],
   "metadata": {
    "collapsed": false,
    "pycharm": {
     "name": "#%%\n"
    }
   }
  },
  {
   "cell_type": "code",
   "execution_count": 8,
   "outputs": [],
   "source": [
    "# 标签处理\n",
    "target = ' <=50K'\n",
    "train.loc[train[target] == 0, target] = \"wealthy\"\n",
    "train.loc[train[target] == 1, target] = \"not_wealthy\""
   ],
   "metadata": {
    "collapsed": false,
    "pycharm": {
     "name": "#%%\n"
    }
   }
  },
  {
   "cell_type": "code",
   "execution_count": 9,
   "outputs": [],
   "source": [
    "unused_feat = ['Set']\n",
    "\n",
    "# 特征\n",
    "features = [col for col in train.columns if col not in unused_feat + [target]]\n",
    "\n",
    "# 分类特征id\n",
    "cat_idxs = [i for i, f in enumerate(features) if f in categorical_columns]\n",
    "\n",
    "# 每个分类特征唯一值数量\n",
    "cat_dims = [categorical_dims[f] for i, f in enumerate(features) if f in categorical_columns]"
   ],
   "metadata": {
    "collapsed": false,
    "pycharm": {
     "name": "#%%\n"
    }
   }
  },
  {
   "cell_type": "code",
   "execution_count": 10,
   "outputs": [],
   "source": [
    "X_train = train[features].values[train_indices]\n",
    "y_train = train[target].values[train_indices]\n",
    "\n",
    "X_valid = train[features].values[valid_indices]\n",
    "y_valid = train[target].values[valid_indices]\n",
    "\n",
    "X_test = train[features].values[test_indices]\n",
    "y_test = train[target].values[test_indices]"
   ],
   "metadata": {
    "collapsed": false,
    "pycharm": {
     "name": "#%%\n"
    }
   }
  },
  {
   "cell_type": "code",
   "execution_count": 11,
   "outputs": [],
   "source": [
    "### TabNetClassifier模型"
   ],
   "metadata": {
    "collapsed": false,
    "pycharm": {
     "name": "#%%\n"
    }
   }
  },
  {
   "cell_type": "code",
   "execution_count": 12,
   "outputs": [
    {
     "name": "stdout",
     "output_type": "stream",
     "text": [
      "Device used : cuda\n"
     ]
    },
    {
     "data": {
      "text/plain": "TabNetClassifier(n_d=8, n_a=8, n_steps=3, gamma=1.3, cat_idxs=[0, 1, 3, 4, 5, 6, 7, 8, 9, 10, 11, 12, 13], cat_dims=[73, 9, 16, 16, 7, 15, 6, 5, 2, 119, 92, 94, 42], cat_emb_dim=1, n_independent=2, n_shared=2, epsilon=1e-15, momentum=0.02, lambda_sparse=0.001, seed=0, clip_value=1, verbose=1, optimizer_fn=<class 'torch.optim.adam.Adam'>, optimizer_params={'lr': 0.02}, scheduler_fn=<class 'torch.optim.lr_scheduler.StepLR'>, scheduler_params={'step_size': 50, 'gamma': 0.9}, mask_type='entmax', input_dim=None, output_dim=None, device_name='auto')"
     },
     "execution_count": 12,
     "metadata": {},
     "output_type": "execute_result"
    }
   ],
   "source": [
    "clf = TabNetClassifier(\n",
    "    # 分类特征索引列表;默认值[]\n",
    "    cat_idxs=cat_idxs,\n",
    "    # 每个分类特征唯一值数量;默认值[]\n",
    "    cat_dims=cat_dims,\n",
    "    # pytorch优化器;默认torch.optim.Adam\n",
    "    optimizer_fn=torch.optim.Adam,\n",
    "    # pytorch优化器参数\n",
    "    optimizer_params=dict(lr=2e-2),\n",
    "    # pytorch学习率调整\n",
    "    scheduler_fn=torch.optim.lr_scheduler.StepLR,\n",
    "    # pytorch学习率调整对于参数\n",
    "    scheduler_params={\"step_size\": 50,  # how to use learning rate scheduler\n",
    "                      \"gamma\": 0.9},\n",
    "    # this is the masking function to use for selecting features.\n",
    "    # (default='sparsemax') Either \"sparsemax\" or \"entmax\"\n",
    "    mask_type='entmax'\n",
    ")\n",
    "clf"
   ],
   "metadata": {
    "collapsed": false,
    "pycharm": {
     "name": "#%%\n"
    }
   }
  },
  {
   "cell_type": "code",
   "execution_count": 13,
   "outputs": [],
   "source": [
    "from sklearn.metrics import roc_auc_score\n",
    "from pytorch_tabnet.metrics import Metric\n",
    "\n",
    "\n",
    "class Gini(Metric):\n",
    "    \"\"\"自定义评价指标\"\"\"\n",
    "\n",
    "    def __init__(self):\n",
    "        self._name = \"gini\"   # write an understandable name here\n",
    "        self._maximize = True\n",
    "\n",
    "    def __call__(self, y_true, y_score):\n",
    "        auc = roc_auc_score(y_true, y_score[:, 1])\n",
    "        return max(2 * auc - 1, 0.)\n",
    "\n",
    "\n",
    "def my_loss_fn(y_pred, y_true):\n",
    "    \"\"\"自定义损失函数\"\"\"\n",
    "    softmax_pred = torch.nn.Softmax(dim=-1)(y_pred)\n",
    "    logloss = (1 - y_true) * torch.log(softmax_pred[:, 0])\n",
    "    logloss += y_true * torch.log(softmax_pred[:, 1])\n",
    "    return -torch.mean(logloss)"
   ],
   "metadata": {
    "collapsed": false,
    "pycharm": {
     "name": "#%%\n"
    }
   }
  },
  {
   "cell_type": "code",
   "execution_count": 14,
   "outputs": [
    {
     "name": "stdout",
     "output_type": "stream",
     "text": [
      "epoch 0  | loss: 0.65273 | train_auc: 0.78114 | train_gini: 0.56229 | valid_auc: 0.77691 | valid_gini: 0.55383 |  0:00:54s\n",
      "epoch 1  | loss: 0.5164  | train_auc: 0.83202 | train_gini: 0.66404 | valid_auc: 0.833   | valid_gini: 0.66601 |  0:01:06s\n",
      "epoch 2  | loss: 0.47577 | train_auc: 0.8513  | train_gini: 0.70261 | valid_auc: 0.85408 | valid_gini: 0.70816 |  0:01:17s\n",
      "epoch 3  | loss: 0.45895 | train_auc: 0.86537 | train_gini: 0.73074 | valid_auc: 0.86897 | valid_gini: 0.73794 |  0:02:14s\n",
      "epoch 4  | loss: 0.44634 | train_auc: 0.87919 | train_gini: 0.75838 | valid_auc: 0.88239 | valid_gini: 0.76477 |  0:02:25s\n",
      "epoch 5  | loss: 0.41464 | train_auc: 0.89099 | train_gini: 0.78198 | valid_auc: 0.89471 | valid_gini: 0.78942 |  0:03:00s\n",
      "epoch 6  | loss: 0.40493 | train_auc: 0.90243 | train_gini: 0.80486 | valid_auc: 0.90672 | valid_gini: 0.81343 |  0:03:12s\n",
      "epoch 7  | loss: 0.39806 | train_auc: 0.90506 | train_gini: 0.81011 | valid_auc: 0.91094 | valid_gini: 0.82189 |  0:03:23s\n",
      "epoch 8  | loss: 0.38613 | train_auc: 0.9067  | train_gini: 0.8134  | valid_auc: 0.91339 | valid_gini: 0.82678 |  0:03:35s\n",
      "epoch 9  | loss: 0.3795  | train_auc: 0.91056 | train_gini: 0.82113 | valid_auc: 0.91847 | valid_gini: 0.83694 |  0:03:46s\n",
      "epoch 10 | loss: 0.36327 | train_auc: 0.90837 | train_gini: 0.81674 | valid_auc: 0.91603 | valid_gini: 0.83206 |  0:03:58s\n",
      "epoch 11 | loss: 0.36245 | train_auc: 0.91435 | train_gini: 0.8287  | valid_auc: 0.92016 | valid_gini: 0.84033 |  0:04:09s\n",
      "epoch 12 | loss: 0.359   | train_auc: 0.91885 | train_gini: 0.83771 | valid_auc: 0.92648 | valid_gini: 0.85296 |  0:04:21s\n",
      "epoch 13 | loss: 0.35599 | train_auc: 0.92142 | train_gini: 0.84283 | valid_auc: 0.92516 | valid_gini: 0.85033 |  0:04:33s\n",
      "epoch 14 | loss: 0.36417 | train_auc: 0.92165 | train_gini: 0.8433  | valid_auc: 0.92839 | valid_gini: 0.85677 |  0:04:45s\n",
      "epoch 15 | loss: 0.35447 | train_auc: 0.92299 | train_gini: 0.84598 | valid_auc: 0.92848 | valid_gini: 0.85697 |  0:04:57s\n",
      "epoch 16 | loss: 0.3542  | train_auc: 0.92428 | train_gini: 0.84855 | valid_auc: 0.93002 | valid_gini: 0.86004 |  0:05:20s\n",
      "epoch 17 | loss: 0.3488  | train_auc: 0.92632 | train_gini: 0.85264 | valid_auc: 0.93085 | valid_gini: 0.86171 |  0:05:50s\n",
      "epoch 18 | loss: 0.33987 | train_auc: 0.92227 | train_gini: 0.84453 | valid_auc: 0.9263  | valid_gini: 0.85261 |  0:06:02s\n",
      "epoch 19 | loss: 0.34779 | train_auc: 0.92738 | train_gini: 0.85476 | valid_auc: 0.93094 | valid_gini: 0.86188 |  0:06:14s\n",
      "epoch 20 | loss: 0.34292 | train_auc: 0.92851 | train_gini: 0.85702 | valid_auc: 0.93225 | valid_gini: 0.86449 |  0:06:26s\n",
      "epoch 21 | loss: 0.34084 | train_auc: 0.9273  | train_gini: 0.8546  | valid_auc: 0.92964 | valid_gini: 0.85929 |  0:06:48s\n",
      "epoch 22 | loss: 0.33445 | train_auc: 0.92829 | train_gini: 0.85658 | valid_auc: 0.93012 | valid_gini: 0.86024 |  0:07:13s\n",
      "epoch 23 | loss: 0.33936 | train_auc: 0.92924 | train_gini: 0.85849 | valid_auc: 0.93226 | valid_gini: 0.86452 |  0:07:24s\n",
      "epoch 24 | loss: 0.33169 | train_auc: 0.92922 | train_gini: 0.85844 | valid_auc: 0.93107 | valid_gini: 0.86215 |  0:07:36s\n",
      "epoch 25 | loss: 0.32996 | train_auc: 0.93017 | train_gini: 0.86035 | valid_auc: 0.93214 | valid_gini: 0.86429 |  0:07:47s\n",
      "epoch 26 | loss: 0.33562 | train_auc: 0.9295  | train_gini: 0.859   | valid_auc: 0.93003 | valid_gini: 0.86006 |  0:07:59s\n",
      "epoch 27 | loss: 0.33464 | train_auc: 0.93146 | train_gini: 0.86293 | valid_auc: 0.93152 | valid_gini: 0.86304 |  0:08:11s\n",
      "epoch 28 | loss: 0.33358 | train_auc: 0.93385 | train_gini: 0.86771 | valid_auc: 0.9337  | valid_gini: 0.8674  |  0:08:22s\n",
      "epoch 29 | loss: 0.32772 | train_auc: 0.93372 | train_gini: 0.86743 | valid_auc: 0.93469 | valid_gini: 0.86939 |  0:08:49s\n",
      "epoch 30 | loss: 0.32781 | train_auc: 0.93409 | train_gini: 0.86818 | valid_auc: 0.9337  | valid_gini: 0.86741 |  0:09:26s\n",
      "epoch 31 | loss: 0.32579 | train_auc: 0.93383 | train_gini: 0.86767 | valid_auc: 0.93391 | valid_gini: 0.86782 |  0:09:50s\n",
      "epoch 32 | loss: 0.31873 | train_auc: 0.93451 | train_gini: 0.86902 | valid_auc: 0.93136 | valid_gini: 0.86273 |  0:10:16s\n",
      "epoch 33 | loss: 0.32837 | train_auc: 0.93484 | train_gini: 0.86967 | valid_auc: 0.93142 | valid_gini: 0.86285 |  0:10:28s\n",
      "epoch 34 | loss: 0.3217  | train_auc: 0.93487 | train_gini: 0.86974 | valid_auc: 0.9329  | valid_gini: 0.8658  |  0:10:54s\n",
      "epoch 35 | loss: 0.32018 | train_auc: 0.93527 | train_gini: 0.87053 | valid_auc: 0.93307 | valid_gini: 0.86614 |  0:11:06s\n",
      "epoch 36 | loss: 0.32505 | train_auc: 0.93511 | train_gini: 0.87022 | valid_auc: 0.93397 | valid_gini: 0.86794 |  0:11:37s\n",
      "epoch 37 | loss: 0.32884 | train_auc: 0.93498 | train_gini: 0.86996 | valid_auc: 0.93356 | valid_gini: 0.86711 |  0:12:15s\n",
      "epoch 38 | loss: 0.31928 | train_auc: 0.93572 | train_gini: 0.87143 | valid_auc: 0.9331  | valid_gini: 0.86621 |  0:12:30s\n",
      "epoch 39 | loss: 0.3142  | train_auc: 0.93617 | train_gini: 0.87234 | valid_auc: 0.93348 | valid_gini: 0.86696 |  0:12:42s\n",
      "epoch 40 | loss: 0.32023 | train_auc: 0.93685 | train_gini: 0.8737  | valid_auc: 0.93392 | valid_gini: 0.86785 |  0:13:20s\n",
      "epoch 41 | loss: 0.31476 | train_auc: 0.93723 | train_gini: 0.87447 | valid_auc: 0.93242 | valid_gini: 0.86485 |  0:13:32s\n",
      "epoch 42 | loss: 0.31633 | train_auc: 0.93609 | train_gini: 0.87217 | valid_auc: 0.93323 | valid_gini: 0.86646 |  0:13:44s\n",
      "epoch 43 | loss: 0.32128 | train_auc: 0.93576 | train_gini: 0.87153 | valid_auc: 0.93296 | valid_gini: 0.86591 |  0:13:56s\n",
      "epoch 44 | loss: 0.31766 | train_auc: 0.93592 | train_gini: 0.87185 | valid_auc: 0.9338  | valid_gini: 0.86761 |  0:14:08s\n",
      "epoch 45 | loss: 0.32686 | train_auc: 0.9335  | train_gini: 0.86699 | valid_auc: 0.93078 | valid_gini: 0.86155 |  0:14:20s\n",
      "epoch 46 | loss: 0.3256  | train_auc: 0.93635 | train_gini: 0.8727  | valid_auc: 0.92969 | valid_gini: 0.85939 |  0:14:31s\n",
      "epoch 47 | loss: 0.32099 | train_auc: 0.93737 | train_gini: 0.87475 | valid_auc: 0.93208 | valid_gini: 0.86416 |  0:14:43s\n",
      "epoch 48 | loss: 0.31972 | train_auc: 0.93632 | train_gini: 0.87264 | valid_auc: 0.9317  | valid_gini: 0.8634  |  0:14:54s\n",
      "epoch 49 | loss: 0.31553 | train_auc: 0.9371  | train_gini: 0.87419 | valid_auc: 0.93099 | valid_gini: 0.86198 |  0:15:06s\n",
      "\n",
      "Early stopping occurred at epoch 49 with best_epoch = 29 and best_valid_gini = 0.86939\n",
      "Best weights from best epoch are automatically used!\n"
     ]
    }
   ],
   "source": [
    "\n",
    "clf.fit(\n",
    "    X_train=X_train,\n",
    "    y_train=y_train,\n",
    "    # List of eval tuple set (X, y).\n",
    "    eval_set=[(X_train, y_train), (X_valid, y_valid)],\n",
    "    # List of eval set names.\n",
    "    eval_name=['train', 'valid'],\n",
    "    # List of evaluation metrics.\n",
    "    # The last metric is used for early stopping.\n",
    "    # binary classification metrics : 'auc', 'accuracy', 'balanced_accuracy', 'logloss'\n",
    "    # multiclass classification : 'accuracy', 'balanced_accuracy', 'logloss'\n",
    "    # regression: 'mse', 'mae', 'rmse', 'rmsle'\n",
    "    eval_metric=['auc', Gini],\n",
    "    # loss function for training (default to mse for regression and cross entropy for classification)\n",
    "    loss_fn=F.cross_entropy,  # 使用pytorch其他损失函数\n",
    "    # Maximum number of epochs for trainng.\n",
    "    max_epochs=1000,  # 默认值200\n",
    "    # Number of consecutive epochs without improvement before performing early stopping.\n",
    "    patience=20,  # 默认值15\n",
    "    # Number of examples per batch. Large batch sizes are recommended.\n",
    "    batch_size=1024,  # 默认值1024\n",
    "    # Number or workers used in torch.utils.data.Dataloader\n",
    "    num_workers=2,  # 默认值0\n",
    "    # Only for TabNetClassifier Sampling parameter 0 : no sampling 1 : automated sampling with inverse class occurrences dict : keys are classes, values are weights for each class\n",
    "    weights=1,\n",
    "    # Whether to drop last batch if not complete during training\n",
    "    drop_last=False  # 默认值false\n",
    ")"
   ],
   "metadata": {
    "collapsed": false,
    "pycharm": {
     "name": "#%%\n"
    }
   }
  },
  {
   "cell_type": "markdown",
   "source": [
    "### 结果分析"
   ],
   "metadata": {
    "collapsed": false,
    "pycharm": {
     "name": "#%% md\n"
    }
   }
  },
  {
   "cell_type": "code",
   "execution_count": 15,
   "outputs": [
    {
     "data": {
      "text/plain": "{'loss': [0.6527312830075641, 0.5164037395422933, 0.47577391942955705, 0.45894655416095514, 0.44633713575234435, 0.41463638440414424, 0.4049300554940308, 0.3980554655357981, 0.38613166824971107, 0.3795015929806129, 0.3632677677265279, 0.3624490971337946, 0.35900332112965094, 0.3559914542465265, 0.36416670991874944, 0.3544659732494741, 0.3542008049671044, 0.34880175513908723, 0.33986596312447426, 0.34778601444242846, 0.3429174668948991, 0.3408406301926493, 0.33445159129908886, 0.3393579038128908, 0.3316877617730316, 0.329955586351227, 0.33561875357087184, 0.33464336013376345, 0.3335836631316528, 0.32772324105520506, 0.32780725670051325, 0.3257896585852592, 0.31872780834318004, 0.3283717092614556, 0.3216992646714477, 0.3201786294079252, 0.3250538755568563, 0.3288430693357086, 0.3192818454194382, 0.3141955406474217, 0.3202291641164286, 0.31476216261916384, 0.3163272652554972, 0.3212792548663863, 0.31766024057909287, 0.32685947022130707, 0.32559548460220133, 0.32098500167177857, 0.31971598357898606, 0.3155262699973027], 'lr': [0.02, 0.02, 0.02, 0.02, 0.02, 0.02, 0.02, 0.02, 0.02, 0.02, 0.02, 0.02, 0.02, 0.02, 0.02, 0.02, 0.02, 0.02, 0.02, 0.02, 0.02, 0.02, 0.02, 0.02, 0.02, 0.02, 0.02, 0.02, 0.02, 0.02, 0.02, 0.02, 0.02, 0.02, 0.02, 0.02, 0.02, 0.02, 0.02, 0.02, 0.02, 0.02, 0.02, 0.02, 0.02, 0.02, 0.02, 0.02, 0.02, 0.02], 'train_auc': [0.7811436187230285, 0.8320181517954128, 0.8513028457928766, 0.8653721820421816, 0.8791902986032929, 0.8909887933365582, 0.9024298846815849, 0.9050554331240818, 0.9066982434494709, 0.9105630504683488, 0.908370899159421, 0.9143497522480498, 0.918853115873774, 0.9214168660599321, 0.9216487737930199, 0.9229903777182027, 0.9242767262133307, 0.9263202275541293, 0.9222651176448647, 0.9273810228308579, 0.9285089091217457, 0.9272979253310869, 0.928289458000364, 0.9292440695770477, 0.9292184071138831, 0.9301732911413859, 0.9295008344407323, 0.9314631895104192, 0.9338532723326635, 0.9337169828171279, 0.9340882691772422, 0.9338347576968657, 0.9345102233764164, 0.9348350168056079, 0.9348680674939208, 0.9352663505248865, 0.9351095310388193, 0.9349778892137242, 0.9357154496402107, 0.9361677660791758, 0.9368511208125863, 0.9372345432540317, 0.9360865757351374, 0.9357625435655871, 0.9359247479619577, 0.9334968185156615, 0.9363509531952331, 0.9373727158855214, 0.9363187158527472, 0.937095837740793], 'train_gini': [0.562287237446057, 0.6640363035908257, 0.7026056915857533, 0.7307443640843632, 0.7583805972065858, 0.7819775866731165, 0.8048597693631698, 0.8101108662481635, 0.8133964868989418, 0.8211261009366977, 0.8167417983188421, 0.8286995044960996, 0.8377062317475481, 0.8428337321198642, 0.8432975475860398, 0.8459807554364054, 0.8485534524266614, 0.8526404551082587, 0.8445302352897295, 0.8547620456617158, 0.8570178182434913, 0.8545958506621738, 0.856578916000728, 0.8584881391540955, 0.8584368142277663, 0.8603465822827718, 0.8590016688814646, 0.8629263790208384, 0.8677065446653269, 0.8674339656342558, 0.8681765383544844, 0.8676695153937315, 0.8690204467528329, 0.8696700336112158, 0.8697361349878416, 0.870532701049773, 0.8702190620776387, 0.8699557784274483, 0.8714308992804214, 0.8723355321583517, 0.8737022416251725, 0.8744690865080633, 0.8721731514702749, 0.8715250871311742, 0.8718494959239154, 0.8669936370313229, 0.8727019063904662, 0.8747454317710428, 0.8726374317054943, 0.8741916754815859], 'valid_auc': [0.7769135475716293, 0.833003418567744, 0.8540819027242874, 0.8689688243125882, 0.8823869794533714, 0.8947092204719576, 0.9067159710614264, 0.910943643446504, 0.913388065304003, 0.9184706312123185, 0.9160307379255723, 0.9201643166738956, 0.926480666525107, 0.925164361959603, 0.9283866916375412, 0.928482797972408, 0.9300194929812183, 0.9308547626978607, 0.9263045554402728, 0.9309423150657499, 0.9322470466171073, 0.9296426152596733, 0.9301176120141974, 0.9322616386784222, 0.931072637268527, 0.9321438958388473, 0.9300295564717805, 0.9315214689475902, 0.933701724177838, 0.934694487521775, 0.9337037368759503, 0.933912051130583, 0.9313627173839756, 0.9314248594381956, 0.9328996639800502, 0.9330704917323394, 0.9339704193758421, 0.9335553003901615, 0.9331039528384578, 0.9334813337345313, 0.9339246304937852, 0.9324236608764697, 0.9332310044068024, 0.9329550131781408, 0.9338043717815699, 0.9307752611224215, 0.9296936874742752, 0.9320812506100993, 0.931700095905065, 0.9309891102968629], 'valid_gini': [0.5538270951432587, 0.6660068371354879, 0.7081638054485748, 0.7379376486251763, 0.7647739589067428, 0.7894184409439151, 0.8134319421228529, 0.821887286893008, 0.8267761306080059, 0.8369412624246371, 0.8320614758511446, 0.8403286333477913, 0.8529613330502139, 0.8503287239192061, 0.8567733832750823, 0.8569655959448159, 0.8600389859624367, 0.8617095253957214, 0.8526091108805456, 0.8618846301314997, 0.8644940932342147, 0.8592852305193466, 0.8602352240283948, 0.8645232773568443, 0.8621452745370539, 0.8642877916776945, 0.8600591129435611, 0.8630429378951805, 0.8674034483556761, 0.86938897504355, 0.8674074737519006, 0.8678241022611659, 0.8627254347679512, 0.8628497188763913, 0.8657993279601004, 0.8661409834646787, 0.8679408387516843, 0.8671106007803231, 0.8662079056769156, 0.8669626674690627, 0.8678492609875703, 0.8648473217529393, 0.8664620088136048, 0.8659100263562816, 0.8676087435631399, 0.861550522244843, 0.8593873749485503, 0.8641625012201986, 0.86340019181013, 0.8619782205937259]}"
     },
     "execution_count": 15,
     "metadata": {},
     "output_type": "execute_result"
    }
   ],
   "source": [
    "clf.history"
   ],
   "metadata": {
    "collapsed": false,
    "pycharm": {
     "name": "#%%\n"
    }
   }
  },
  {
   "cell_type": "code",
   "execution_count": 16,
   "outputs": [
    {
     "data": {
      "text/plain": "[<matplotlib.lines.Line2D at 0x13387206250>]"
     },
     "execution_count": 16,
     "metadata": {},
     "output_type": "execute_result"
    },
    {
     "data": {
      "text/plain": "<Figure size 432x288 with 1 Axes>",
      "image/png": "[encoded data removed]"
     },
     "metadata": {
      "needs_background": "light"
     },
     "output_type": "display_data"
    }
   ],
   "source": [
    "# plot losses\n",
    "plt.plot(clf.history['loss'])"
   ],
   "metadata": {
    "collapsed": false,
    "pycharm": {
     "name": "#%%\n"
    }
   }
  },
  {
   "cell_type": "code",
   "execution_count": 17,
   "outputs": [
    {
     "data": {
      "text/plain": "<matplotlib.legend.Legend at 0x133872cfbe0>"
     },
     "execution_count": 17,
     "metadata": {},
     "output_type": "execute_result"
    },
    {
     "data": {
      "text/plain": "<Figure size 432x288 with 1 Axes>",
      "image/png": "[encoded data removed]"
     },
     "metadata": {
      "needs_background": "light"
     },
     "output_type": "display_data"
    }
   ],
   "source": [
    "# plot auc\n",
    "plt.plot(clf.history['train_auc'], label=\"train_auc\")\n",
    "plt.plot(clf.history['valid_auc'], label=\"valid_auc\")\n",
    "plt.legend()"
   ],
   "metadata": {
    "collapsed": false,
    "pycharm": {
     "name": "#%%\n"
    }
   }
  },
  {
   "cell_type": "code",
   "execution_count": 18,
   "outputs": [
    {
     "data": {
      "text/plain": "[<matplotlib.lines.Line2D at 0x13388aa0e80>]"
     },
     "execution_count": 18,
     "metadata": {},
     "output_type": "execute_result"
    },
    {
     "data": {
      "text/plain": "<Figure size 432x288 with 1 Axes>",
      "image/png": "[encoded data removed]"
     },
     "metadata": {
      "needs_background": "light"
     },
     "output_type": "display_data"
    }
   ],
   "source": [
    "# plot learning rates\n",
    "plt.plot(clf.history['lr'])"
   ],
   "metadata": {
    "collapsed": false,
    "pycharm": {
     "name": "#%%\n"
    }
   }
  },
  {
   "cell_type": "code",
   "execution_count": 19,
   "outputs": [
    {
     "name": "stdout",
     "output_type": "stream",
     "text": [
      "BEST VALID SCORE FOR census-income : 0.86938897504355\n",
      "FINAL TEST SCORE FOR census-income : 0.9183272845772344\n"
     ]
    }
   ],
   "source": [
    "dataset_name = 'census-income'\n",
    "preds = clf.predict_proba(X_test)\n",
    "test_auc = roc_auc_score(y_score=preds[:, 1], y_true=y_test)\n",
    "\n",
    "preds_valid = clf.predict_proba(X_valid)\n",
    "valid_auc = roc_auc_score(y_score=preds_valid[:, 1], y_true=y_valid)\n",
    "\n",
    "print(f\"BEST VALID SCORE FOR {dataset_name} : {clf.best_cost}\")\n",
    "print(f\"FINAL TEST SCORE FOR {dataset_name} : {test_auc}\")"
   ],
   "metadata": {
    "collapsed": false,
    "pycharm": {
     "name": "#%%\n"
    }
   }
  },
  {
   "cell_type": "code",
   "execution_count": 20,
   "outputs": [
    {
     "data": {
      "text/plain": "array(['wealthy', 'wealthy', 'wealthy', ..., 'wealthy', 'wealthy',\n       'wealthy'], dtype='<U11')"
     },
     "execution_count": 20,
     "metadata": {},
     "output_type": "execute_result"
    }
   ],
   "source": [
    "clf.predict(X_test)"
   ],
   "metadata": {
    "collapsed": false,
    "pycharm": {
     "name": "#%%\n"
    }
   }
  },
  {
   "cell_type": "code",
   "execution_count": 21,
   "outputs": [
    {
     "data": {
      "text/plain": "array([0.0818902 , 0.07788036, 0.00104959, 0.1942333 , 0.02534461,\n       0.26021981, 0.03839474, 0.07318998, 0.01446298, 0.03290445,\n       0.05575965, 0.00302245, 0.13298253, 0.00866537])"
     },
     "execution_count": 21,
     "metadata": {},
     "output_type": "execute_result"
    }
   ],
   "source": [
    "# 特征的想对重要性\n",
    "clf.feature_importances_"
   ],
   "metadata": {
    "collapsed": false,
    "pycharm": {
     "name": "#%%\n"
    }
   }
  },
  {
   "cell_type": "markdown",
   "source": [
    "### 保存和加载模型"
   ],
   "metadata": {
    "collapsed": false,
    "pycharm": {
     "name": "#%% md\n"
    }
   }
  },
  {
   "cell_type": "code",
   "execution_count": 22,
   "outputs": [
    {
     "name": "stdout",
     "output_type": "stream",
     "text": [
      "Successfully saved model at ./tabnet_model_test_1.zip\n"
     ]
    }
   ],
   "source": [
    "# save tabnet model\n",
    "saving_path_name = \"./tabnet_model_test_1\"\n",
    "saved_filepath = clf.save_model(saving_path_name)"
   ],
   "metadata": {
    "collapsed": false,
    "pycharm": {
     "name": "#%%\n"
    }
   }
  },
  {
   "cell_type": "code",
   "execution_count": 27,
   "outputs": [
    {
     "name": "stdout",
     "output_type": "stream",
     "text": [
      "Device used : cuda\n",
      "Device used : cuda\n"
     ]
    }
   ],
   "source": [
    "# define new model with basic parameters and load state dict weights\n",
    "loaded_clf = TabNetClassifier()\n",
    "loaded_clf.load_model('tabnet_model_test_1.zip')"
   ],
   "metadata": {
    "collapsed": false,
    "pycharm": {
     "name": "#%%\n"
    }
   }
  },
  {
   "cell_type": "code",
   "execution_count": 28,
   "outputs": [
    {
     "name": "stdout",
     "output_type": "stream",
     "text": [
      "FINAL TEST SCORE FOR census-income : 0.9183272845772344\n",
      "['wealthy' 'wealthy' 'wealthy' ... 'wealthy' 'wealthy' 'wealthy']\n"
     ]
    }
   ],
   "source": [
    "loaded_preds = loaded_clf.predict_proba(X_test)\n",
    "loaded_test_auc = roc_auc_score(y_score=loaded_preds[:, 1], y_true=y_test)\n",
    "\n",
    "print(f\"FINAL TEST SCORE FOR {dataset_name} : {loaded_test_auc}\")\n",
    "print(loaded_clf.predict(X_test))\n"
   ],
   "metadata": {
    "collapsed": false,
    "pycharm": {
     "name": "#%%\n"
    }
   }
  }
 ],
 "metadata": {
  "kernelspec": {
   "display_name": "Python 3",
   "language": "python",
   "name": "python3"
  },
  "language_info": {
   "codemirror_mode": {
    "name": "ipython",
    "version": 2
   },
   "file_extension": ".py",
   "mimetype": "text/x-python",
   "name": "python",
   "nbconvert_exporter": "python",
   "pygments_lexer": "ipython2",
   "version": "2.7.6"
  }
 },
 "nbformat": 4,
 "nbformat_minor": 0
}