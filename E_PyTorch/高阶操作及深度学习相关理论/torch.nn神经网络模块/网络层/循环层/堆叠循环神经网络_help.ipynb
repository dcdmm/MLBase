{
 "cells": [
  {
   "cell_type": "markdown",
   "metadata": {
    "collapsed": true,
    "pycharm": {
     "name": "#%% md\n"
    }
   },
   "source": [
    "&emsp;&emsp;RNN可以有多个隐藏层,此时下层的隐藏状态的输出可以作为上层隐藏状态的输入.这样的循环神经网络被称为堆叠循环神经网络\n",
    "\n",
    "<img src='../../../../../Other/img/堆叠RNN.png'>\n",
    "\n",
    "上图模型(LSTM,GRU类似)可形式化描述为:\n",
    "\n",
    "$$\n",
    "\\begin{aligned}\n",
    "\\mathbf{h}_{t}^1 &= {\\rm RNN}_1\\left(\\mathbf{x}^{(t)}, \\mathbf{h}_{(t-1)}^1 \\right) \\\\\n",
    "\\mathbf{h}_{t}^2 &= {\\rm RNN}_2\\left(\\mathbf{h}_{t}^1, \\mathbf{h}_{(t-1)}^2 \\right) \\\\\n",
    "\\mathbf{h}_{t}^3 &= {\\rm RNN}_3\\left(\\mathbf{h}_{t}^2, \\mathbf{h}_{(t-1)}^3 \\right) \\\\\n",
    "\\end{aligned}\n",
    "$$"
   ]
  },
  {
   "cell_type": "code",
   "execution_count": null,
   "metadata": {
    "pycharm": {
     "name": "#%%\n"
    }
   },
   "outputs": [],
   "source": []
  }
 ],
 "metadata": {
  "kernelspec": {
   "display_name": "Python 3.8.12 ('pytorch_env')",
   "language": "python",
   "name": "python3"
  },
  "language_info": {
   "codemirror_mode": {
    "name": "ipython",
    "version": 3
   },
   "file_extension": ".py",
   "mimetype": "text/x-python",
   "name": "python",
   "nbconvert_exporter": "python",
   "pygments_lexer": "ipython3",
   "version": "3.8.12"
  },
  "toc": {
   "base_numbering": 1,
   "nav_menu": {},
   "number_sections": true,
   "sideBar": true,
   "skip_h1_title": false,
   "title_cell": "Table of Contents",
   "title_sidebar": "Contents",
   "toc_cell": false,
   "toc_position": {},
   "toc_section_display": true,
   "toc_window_display": false
  },
  "vscode": {
   "interpreter": {
    "hash": "0886a02735466d80c36da7d0d184a8055779d3e497a063b4720b0317b8699033"
   }
  }
 },
 "nbformat": 4,
 "nbformat_minor": 1
}
