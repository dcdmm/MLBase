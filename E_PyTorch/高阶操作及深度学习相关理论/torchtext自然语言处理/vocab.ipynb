{
 "cells": [
  {
   "cell_type": "code",
   "execution_count": 94,
   "metadata": {
    "collapsed": true,
    "pycharm": {
     "name": "#%%\n"
    }
   },
   "outputs": [],
   "source": [
    "from torchtext.vocab import vocab, build_vocab_from_iterator\n",
    "from collections import Counter, OrderedDict\n",
    "import spacy"
   ]
  },
  {
   "cell_type": "code",
   "execution_count": 95,
   "outputs": [
    {
     "data": {
      "text/plain": "['ust',\n 'as',\n 'you',\n 'need',\n 'air',\n 'to',\n 'breathe',\n ',',\n 'you',\n 'need',\n 'opportunity',\n 'to',\n 'succeed',\n '.',\n 'It',\n 'takes',\n 'more',\n 'than',\n 'just',\n 'breathing',\n 'in',\n 'the',\n 'fresh',\n 'air',\n 'of',\n 'opportunity',\n ',',\n 'however',\n '.',\n 'You',\n 'must',\n 'make',\n 'use',\n 'of',\n 'that',\n 'opportunity',\n '.',\n 'That',\n \"'s\",\n 'not',\n 'up',\n 'to',\n 'the',\n 'opportunity',\n '.',\n 'That',\n \"'s\",\n 'up',\n 'to',\n 'you',\n '.',\n 'It',\n 'does',\n \"n't\",\n 'matter',\n 'what',\n '\"',\n 'floor',\n '\"',\n 'the',\n 'opportunity',\n 'is',\n 'on',\n '.',\n 'What',\n 'matters',\n 'is',\n 'what',\n 'you',\n 'do',\n 'with',\n 'it',\n '.']"
     },
     "execution_count": 95,
     "metadata": {},
     "output_type": "execute_result"
    }
   ],
   "source": [
    "txt = \"ust as you need air to breathe , you need opportunity to succeed . It takes more than just breathing in the fresh air of opportunity , however . You must make use of that opportunity . That's not up to the opportunity . That's up to you . It doesn't matter what \\\" floor \\\" the opportunity is on . What matters is what you do with it .\"\n",
    "\n",
    "nlp_en = spacy.load('en_core_web_sm')\n",
    "split_lst = [tok.text for tok in nlp_en(txt)]\n",
    "split_lst"
   ],
   "metadata": {
    "collapsed": false,
    "pycharm": {
     "name": "#%%\n"
    }
   }
  },
  {
   "cell_type": "code",
   "execution_count": 96,
   "outputs": [
    {
     "data": {
      "text/plain": "OrderedDict([('ust', 1),\n             ('as', 1),\n             ('you', 4),\n             ('need', 2),\n             ('air', 2),\n             ('to', 4),\n             ('breathe', 1),\n             (',', 2),\n             ('opportunity', 5),\n             ('succeed', 1),\n             ('.', 7),\n             ('It', 2),\n             ('takes', 1),\n             ('more', 1),\n             ('than', 1),\n             ('just', 1),\n             ('breathing', 1),\n             ('in', 1),\n             ('the', 3),\n             ('fresh', 1),\n             ('of', 2),\n             ('however', 1),\n             ('You', 1),\n             ('must', 1),\n             ('make', 1),\n             ('use', 1),\n             ('that', 1),\n             ('That', 2),\n             (\"'s\", 2),\n             ('not', 1),\n             ('up', 2),\n             ('does', 1),\n             (\"n't\", 1),\n             ('matter', 1),\n             ('what', 2),\n             ('\"', 2),\n             ('floor', 1),\n             ('is', 2),\n             ('on', 1),\n             ('What', 1),\n             ('matters', 1),\n             ('do', 1),\n             ('with', 1),\n             ('it', 1)])"
     },
     "execution_count": 96,
     "metadata": {},
     "output_type": "execute_result"
    }
   ],
   "source": [
    "counter = Counter(split_lst)\n",
    "ordered_dict = OrderedDict(counter)\n",
    "ordered_dict"
   ],
   "metadata": {
    "collapsed": false,
    "pycharm": {
     "name": "#%%\n"
    }
   }
  },
  {
   "cell_type": "code",
   "execution_count": 97,
   "outputs": [
    {
     "data": {
      "text/plain": "Vocab()"
     },
     "execution_count": 97,
     "metadata": {},
     "output_type": "execute_result"
    }
   ],
   "source": [
    "# Factory method for creating a vocab object which maps tokens to indices.\n",
    "# min_freq – The minimum frequency needed to include a token in the vocabulary.\n",
    "v1 = vocab(ordered_dict, min_freq=2)  # 默认min_freq=2\n",
    "v1"
   ],
   "metadata": {
    "collapsed": false,
    "pycharm": {
     "name": "#%%\n"
    }
   }
  },
  {
   "cell_type": "code",
   "execution_count": 98,
   "outputs": [
    {
     "data": {
      "text/plain": "16"
     },
     "execution_count": 98,
     "metadata": {},
     "output_type": "execute_result"
    }
   ],
   "source": [
    "# The length of the vocab.\n",
    "len(v1)"
   ],
   "metadata": {
    "collapsed": false,
    "pycharm": {
     "name": "#%%\n"
    }
   }
  },
  {
   "cell_type": "code",
   "execution_count": 99,
   "outputs": [
    {
     "data": {
      "text/plain": "{'to': 3,\n 'you': 0,\n 'need': 1,\n 'air': 2,\n ',': 4,\n 'opportunity': 5,\n '.': 6,\n 'It': 7,\n 'the': 8,\n 'of': 9,\n 'That': 10,\n \"'s\": 11,\n 'up': 12,\n 'what': 13,\n '\"': 14,\n 'is': 15}"
     },
     "execution_count": 99,
     "metadata": {},
     "output_type": "execute_result"
    }
   ],
   "source": [
    "# Dictionary mapping tokens to indices.\n",
    "v1.get_stoi()"
   ],
   "metadata": {
    "collapsed": false,
    "pycharm": {
     "name": "#%%\n"
    }
   }
  },
  {
   "cell_type": "code",
   "execution_count": 100,
   "outputs": [
    {
     "data": {
      "text/plain": "['you',\n 'need',\n 'air',\n 'to',\n ',',\n 'opportunity',\n '.',\n 'It',\n 'the',\n 'of',\n 'That',\n \"'s\",\n 'up',\n 'what',\n '\"',\n 'is']"
     },
     "execution_count": 100,
     "metadata": {},
     "output_type": "execute_result"
    }
   ],
   "source": [
    "# List mapping indices to tokens.\n",
    "v1.get_itos()  # 索引为v1.get_stoi().values()"
   ],
   "metadata": {
    "collapsed": false,
    "pycharm": {
     "name": "#%%\n"
    }
   }
  },
  {
   "cell_type": "code",
   "execution_count": 102,
   "outputs": [
    {
     "name": "stdout",
     "output_type": "stream",
     "text": [
      "15\n",
      "[15, 13]\n"
     ]
    },
    {
     "ename": "RuntimeError",
     "evalue": "Token out of vocal not found and default index is not set",
     "output_type": "error",
     "traceback": [
      "\u001B[1;31m---------------------------------------------------------------------------\u001B[0m",
      "\u001B[1;31mRuntimeError\u001B[0m                              Traceback (most recent call last)",
      "\u001B[1;32m~\\AppData\\Local\\Temp/ipykernel_2136/3009075701.py\u001B[0m in \u001B[0;36m<module>\u001B[1;34m\u001B[0m\n\u001B[0;32m      1\u001B[0m \u001B[0mprint\u001B[0m\u001B[1;33m(\u001B[0m\u001B[0mv1\u001B[0m\u001B[1;33m[\u001B[0m\u001B[1;34m'is'\u001B[0m\u001B[1;33m]\u001B[0m\u001B[1;33m)\u001B[0m  \u001B[1;31m# 只能索引单个单词\u001B[0m\u001B[1;33m\u001B[0m\u001B[1;33m\u001B[0m\u001B[0m\n\u001B[0;32m      2\u001B[0m \u001B[0mprint\u001B[0m\u001B[1;33m(\u001B[0m\u001B[0mv1\u001B[0m\u001B[1;33m(\u001B[0m\u001B[1;33m[\u001B[0m\u001B[1;34m'is'\u001B[0m\u001B[1;33m,\u001B[0m \u001B[1;34m'what'\u001B[0m\u001B[1;33m]\u001B[0m\u001B[1;33m)\u001B[0m\u001B[1;33m)\u001B[0m  \u001B[1;31m# 索引多个单词\u001B[0m\u001B[1;33m\u001B[0m\u001B[1;33m\u001B[0m\u001B[0m\n\u001B[1;32m----> 3\u001B[1;33m \u001B[0mprint\u001B[0m\u001B[1;33m(\u001B[0m\u001B[0mv1\u001B[0m\u001B[1;33m(\u001B[0m\u001B[1;33m[\u001B[0m\u001B[1;34m'out of vocal'\u001B[0m\u001B[1;33m]\u001B[0m\u001B[1;33m)\u001B[0m\u001B[1;33m)\u001B[0m\u001B[1;33m\u001B[0m\u001B[1;33m\u001B[0m\u001B[0m\n\u001B[0m\u001B[0;32m      4\u001B[0m \u001B[1;33m\u001B[0m\u001B[0m\n",
      "\u001B[1;32m~\\anaconda3\\envs\\spacy_test\\lib\\site-packages\\torch\\nn\\modules\\module.py\u001B[0m in \u001B[0;36m_call_impl\u001B[1;34m(self, *input, **kwargs)\u001B[0m\n\u001B[0;32m   1100\u001B[0m         if not (self._backward_hooks or self._forward_hooks or self._forward_pre_hooks or _global_backward_hooks\n\u001B[0;32m   1101\u001B[0m                 or _global_forward_hooks or _global_forward_pre_hooks):\n\u001B[1;32m-> 1102\u001B[1;33m             \u001B[1;32mreturn\u001B[0m \u001B[0mforward_call\u001B[0m\u001B[1;33m(\u001B[0m\u001B[1;33m*\u001B[0m\u001B[0minput\u001B[0m\u001B[1;33m,\u001B[0m \u001B[1;33m**\u001B[0m\u001B[0mkwargs\u001B[0m\u001B[1;33m)\u001B[0m\u001B[1;33m\u001B[0m\u001B[1;33m\u001B[0m\u001B[0m\n\u001B[0m\u001B[0;32m   1103\u001B[0m         \u001B[1;31m# Do not call functions when jit is used\u001B[0m\u001B[1;33m\u001B[0m\u001B[1;33m\u001B[0m\u001B[1;33m\u001B[0m\u001B[0m\n\u001B[0;32m   1104\u001B[0m         \u001B[0mfull_backward_hooks\u001B[0m\u001B[1;33m,\u001B[0m \u001B[0mnon_full_backward_hooks\u001B[0m \u001B[1;33m=\u001B[0m \u001B[1;33m[\u001B[0m\u001B[1;33m]\u001B[0m\u001B[1;33m,\u001B[0m \u001B[1;33m[\u001B[0m\u001B[1;33m]\u001B[0m\u001B[1;33m\u001B[0m\u001B[1;33m\u001B[0m\u001B[0m\n",
      "\u001B[1;32m~\\anaconda3\\envs\\spacy_test\\lib\\site-packages\\torchtext\\vocab\\vocab.py\u001B[0m in \u001B[0;36mforward\u001B[1;34m(self, tokens)\u001B[0m\n\u001B[0;32m     32\u001B[0m             \u001B[0mThe\u001B[0m \u001B[0mindices\u001B[0m \u001B[0massociated\u001B[0m \u001B[1;32mwith\u001B[0m \u001B[0ma\u001B[0m \u001B[0mlist\u001B[0m \u001B[0mof\u001B[0m\u001B[0;31m \u001B[0m\u001B[0;31m`\u001B[0m\u001B[0mtokens\u001B[0m\u001B[0;31m`\u001B[0m\u001B[1;33m.\u001B[0m\u001B[1;33m\u001B[0m\u001B[1;33m\u001B[0m\u001B[0m\n\u001B[0;32m     33\u001B[0m         \"\"\"\n\u001B[1;32m---> 34\u001B[1;33m         \u001B[1;32mreturn\u001B[0m \u001B[0mself\u001B[0m\u001B[1;33m.\u001B[0m\u001B[0mvocab\u001B[0m\u001B[1;33m.\u001B[0m\u001B[0mlookup_indices\u001B[0m\u001B[1;33m(\u001B[0m\u001B[0mtokens\u001B[0m\u001B[1;33m)\u001B[0m\u001B[1;33m\u001B[0m\u001B[1;33m\u001B[0m\u001B[0m\n\u001B[0m\u001B[0;32m     35\u001B[0m \u001B[1;33m\u001B[0m\u001B[0m\n\u001B[0;32m     36\u001B[0m     \u001B[1;33m@\u001B[0m\u001B[0mtorch\u001B[0m\u001B[1;33m.\u001B[0m\u001B[0mjit\u001B[0m\u001B[1;33m.\u001B[0m\u001B[0mexport\u001B[0m\u001B[1;33m\u001B[0m\u001B[1;33m\u001B[0m\u001B[0m\n",
      "\u001B[1;31mRuntimeError\u001B[0m: Token out of vocal not found and default index is not set"
     ]
    }
   ],
   "source": [
    "print(v1['is'])  # 只能索引单个单词\n",
    "print(v1(['is', 'what']))  # 支持索引多个单词\n",
    "print(v1(['out of vocal']))"
   ],
   "metadata": {
    "collapsed": false,
    "pycharm": {
     "name": "#%%\n"
    }
   }
  },
  {
   "cell_type": "code",
   "execution_count": 103,
   "outputs": [
    {
     "data": {
      "text/plain": "{'<unk>': 0,\n '<pad>': 1,\n 'to': 5,\n 'you': 2,\n 'need': 3,\n 'air': 4,\n ',': 6,\n 'opportunity': 7,\n '.': 8,\n 'It': 9,\n 'the': 10,\n 'of': 11,\n 'That': 12,\n \"'s\": 13,\n 'up': 14,\n 'what': 15,\n '\"': 16,\n 'is': 17}"
     },
     "execution_count": 103,
     "metadata": {},
     "output_type": "execute_result"
    }
   ],
   "source": [
    "unk_token = '<unk>'  # 标识符:低频词或未在词表中的词\n",
    "pad_token = '<pad>'  # 标识符:补全字符\n",
    "begin_token = 'SOS'  # 句子起始标识符\n",
    "end_token = 'EOS'  # 句子结束标识符\n",
    "\"\"\"\n",
    "token – The token used to lookup the corresponding index.\n",
    "index – The index corresponding to the associated token.\n",
    "\"\"\"\n",
    "v1.insert_token(unk_token, 0)\n",
    "v1.insert_token(pad_token, 1)\n",
    "v1.get_stoi()"
   ],
   "metadata": {
    "collapsed": false,
    "pycharm": {
     "name": "#%%\n"
    }
   }
  },
  {
   "cell_type": "code",
   "execution_count": 104,
   "outputs": [],
   "source": [
    "default_index = -1\n",
    "# index – Value of default index. This index will be returned when OOV token is queried.\n",
    "v1.set_default_index(index=default_index)"
   ],
   "metadata": {
    "collapsed": false,
    "pycharm": {
     "name": "#%%\n"
    }
   }
  },
  {
   "cell_type": "code",
   "execution_count": 105,
   "outputs": [
    {
     "name": "stdout",
     "output_type": "stream",
     "text": [
      "[-1]\n"
     ]
    }
   ],
   "source": [
    "print(v1(['out of vocab']))"
   ],
   "metadata": {
    "collapsed": false,
    "pycharm": {
     "name": "#%%\n"
    }
   }
  },
  {
   "cell_type": "code",
   "execution_count": 106,
   "outputs": [
    {
     "data": {
      "text/plain": "['.',\n 'opportunity',\n 'to',\n 'you',\n 'the',\n '\"',\n \"'s\",\n ',',\n 'It',\n 'That',\n 'air',\n 'is',\n 'need',\n 'of',\n 'up',\n 'what']"
     },
     "execution_count": 106,
     "metadata": {},
     "output_type": "execute_result"
    }
   ],
   "source": [
    "# Build a Vocab from an iterator.\n",
    "# 内部已经实现了词频统计\n",
    "v2 = build_vocab_from_iterator(iterator=[split_lst], min_freq=2)\n",
    "v2.get_itos()"
   ],
   "metadata": {
    "collapsed": false,
    "pycharm": {
     "name": "#%%\n"
    }
   }
  },
  {
   "cell_type": "code",
   "execution_count": 107,
   "outputs": [
    {
     "data": {
      "text/plain": "[13, 14]"
     },
     "execution_count": 107,
     "metadata": {},
     "output_type": "execute_result"
    }
   ],
   "source": [
    "v2(['of', 'up'])"
   ],
   "metadata": {
    "collapsed": false,
    "pycharm": {
     "name": "#%%\n"
    }
   }
  },
  {
   "cell_type": "code",
   "execution_count": null,
   "outputs": [],
   "source": [],
   "metadata": {
    "collapsed": false,
    "pycharm": {
     "name": "#%%\n"
    }
   }
  }
 ],
 "metadata": {
  "kernelspec": {
   "display_name": "Python 3",
   "language": "python",
   "name": "python3"
  },
  "language_info": {
   "codemirror_mode": {
    "name": "ipython",
    "version": 2
   },
   "file_extension": ".py",
   "mimetype": "text/x-python",
   "name": "python",
   "nbconvert_exporter": "python",
   "pygments_lexer": "ipython2",
   "version": "2.7.6"
  }
 },
 "nbformat": 4,
 "nbformat_minor": 0
}