{
 "cells": [
  {
   "cell_type": "code",
   "execution_count": 10,
   "metadata": {
    "executionInfo": {
     "elapsed": 392,
     "status": "ok",
     "timestamp": 1659961444791,
     "user": {
      "displayName": "mengmeng duan",
      "userId": "11863779736323605079"
     },
     "user_tz": -480
    },
    "id": "DomQ4z0XYTbD"
   },
   "outputs": [],
   "source": [
    "import torch\n",
    "import torch.nn as nn"
   ]
  },
  {
   "cell_type": "code",
   "execution_count": 11,
   "metadata": {
    "colab": {
     "base_uri": "https://localhost:8080/"
    },
    "executionInfo": {
     "elapsed": 6,
     "status": "ok",
     "timestamp": 1659961445187,
     "user": {
      "displayName": "mengmeng duan",
      "userId": "11863779736323605079"
     },
     "user_tz": -480
    },
    "id": "GrCe0mULYmn7",
    "outputId": "a09f09b3-3cf2-4d93-bac4-7babe3de414c"
   },
   "outputs": [
    {
     "data": {
      "text/plain": [
       "tensor([[[1., 1., 1., 1.],\n",
       "         [1., 1., 1., 1.],\n",
       "         [1., 1., 1., 1.]],\n",
       "\n",
       "        [[1., 1., 1., 1.],\n",
       "         [1., 1., 1., 1.],\n",
       "         [1., 1., 1., 1.]]])"
      ]
     },
     "execution_count": 11,
     "metadata": {},
     "output_type": "execute_result"
    }
   ],
   "source": [
    "# Input: (N, C, L) or (C, L)\n",
    "a = torch.ones((2, 3, 4))\n",
    "a"
   ]
  },
  {
   "cell_type": "code",
   "execution_count": 12,
   "metadata": {
    "colab": {
     "base_uri": "https://localhost:8080/"
    },
    "executionInfo": {
     "elapsed": 5,
     "status": "ok",
     "timestamp": 1659961445187,
     "user": {
      "displayName": "mengmeng duan",
      "userId": "11863779736323605079"
     },
     "user_tz": -480
    },
    "id": "KotSV0k0ZTwA",
    "outputId": "53813e77-4c13-4ad2-8147-9ca64c78f90c"
   },
   "outputs": [
    {
     "data": {
      "text/plain": [
       "tensor([[[1.2500, 1.2500, 1.2500, 1.2500],\n",
       "         [1.2500, 1.2500, 1.2500, 1.2500],\n",
       "         [0.0000, 0.0000, 0.0000, 0.0000]],\n",
       "\n",
       "        [[0.0000, 0.0000, 0.0000, 0.0000],\n",
       "         [1.2500, 1.2500, 1.2500, 1.2500],\n",
       "         [0.0000, 0.0000, 0.0000, 0.0000]]])"
      ]
     },
     "execution_count": 12,
     "metadata": {},
     "output_type": "execute_result"
    }
   ],
   "source": [
    "m1d = nn.Dropout1d(p=0.2)\n",
    "m1d(a)  # 对最后一个维度整体进行dropout"
   ]
  },
  {
   "cell_type": "code",
   "execution_count": 13,
   "metadata": {
    "colab": {
     "base_uri": "https://localhost:8080/"
    },
    "executionInfo": {
     "elapsed": 5,
     "status": "ok",
     "timestamp": 1659961445188,
     "user": {
      "displayName": "mengmeng duan",
      "userId": "11863779736323605079"
     },
     "user_tz": -480
    },
    "id": "9J7pUir1ZVAI",
    "outputId": "3f1b20eb-ac6e-494f-f26e-4d4ab86be750"
   },
   "outputs": [
    {
     "data": {
      "text/plain": [
       "tensor([[[[1., 1., 1., 1., 1.],\n",
       "          [1., 1., 1., 1., 1.],\n",
       "          [1., 1., 1., 1., 1.],\n",
       "          [1., 1., 1., 1., 1.]],\n",
       "\n",
       "         [[1., 1., 1., 1., 1.],\n",
       "          [1., 1., 1., 1., 1.],\n",
       "          [1., 1., 1., 1., 1.],\n",
       "          [1., 1., 1., 1., 1.]],\n",
       "\n",
       "         [[1., 1., 1., 1., 1.],\n",
       "          [1., 1., 1., 1., 1.],\n",
       "          [1., 1., 1., 1., 1.],\n",
       "          [1., 1., 1., 1., 1.]]],\n",
       "\n",
       "\n",
       "        [[[1., 1., 1., 1., 1.],\n",
       "          [1., 1., 1., 1., 1.],\n",
       "          [1., 1., 1., 1., 1.],\n",
       "          [1., 1., 1., 1., 1.]],\n",
       "\n",
       "         [[1., 1., 1., 1., 1.],\n",
       "          [1., 1., 1., 1., 1.],\n",
       "          [1., 1., 1., 1., 1.],\n",
       "          [1., 1., 1., 1., 1.]],\n",
       "\n",
       "         [[1., 1., 1., 1., 1.],\n",
       "          [1., 1., 1., 1., 1.],\n",
       "          [1., 1., 1., 1., 1.],\n",
       "          [1., 1., 1., 1., 1.]]]])"
      ]
     },
     "execution_count": 13,
     "metadata": {},
     "output_type": "execute_result"
    }
   ],
   "source": [
    "b = torch.ones((2, 3, 4, 5))\n",
    "b"
   ]
  },
  {
   "cell_type": "code",
   "execution_count": 15,
   "metadata": {
    "colab": {
     "base_uri": "https://localhost:8080/"
    },
    "executionInfo": {
     "elapsed": 396,
     "status": "ok",
     "timestamp": 1659961468498,
     "user": {
      "displayName": "mengmeng duan",
      "userId": "11863779736323605079"
     },
     "user_tz": -480
    },
    "id": "wy40ejKraUKd",
    "outputId": "b1367873-7f70-4027-af29-f5331a9f89b2"
   },
   "outputs": [
    {
     "data": {
      "text/plain": [
       "tensor([[[[1.2500, 1.2500, 1.2500, 1.2500, 1.2500],\n",
       "          [1.2500, 1.2500, 1.2500, 1.2500, 1.2500],\n",
       "          [1.2500, 1.2500, 1.2500, 1.2500, 1.2500],\n",
       "          [1.2500, 1.2500, 1.2500, 1.2500, 1.2500]],\n",
       "\n",
       "         [[1.2500, 1.2500, 1.2500, 1.2500, 1.2500],\n",
       "          [1.2500, 1.2500, 1.2500, 1.2500, 1.2500],\n",
       "          [1.2500, 1.2500, 1.2500, 1.2500, 1.2500],\n",
       "          [1.2500, 1.2500, 1.2500, 1.2500, 1.2500]],\n",
       "\n",
       "         [[0.0000, 0.0000, 0.0000, 0.0000, 0.0000],\n",
       "          [0.0000, 0.0000, 0.0000, 0.0000, 0.0000],\n",
       "          [0.0000, 0.0000, 0.0000, 0.0000, 0.0000],\n",
       "          [0.0000, 0.0000, 0.0000, 0.0000, 0.0000]]],\n",
       "\n",
       "\n",
       "        [[[1.2500, 1.2500, 1.2500, 1.2500, 1.2500],\n",
       "          [1.2500, 1.2500, 1.2500, 1.2500, 1.2500],\n",
       "          [1.2500, 1.2500, 1.2500, 1.2500, 1.2500],\n",
       "          [1.2500, 1.2500, 1.2500, 1.2500, 1.2500]],\n",
       "\n",
       "         [[1.2500, 1.2500, 1.2500, 1.2500, 1.2500],\n",
       "          [1.2500, 1.2500, 1.2500, 1.2500, 1.2500],\n",
       "          [1.2500, 1.2500, 1.2500, 1.2500, 1.2500],\n",
       "          [1.2500, 1.2500, 1.2500, 1.2500, 1.2500]],\n",
       "\n",
       "         [[1.2500, 1.2500, 1.2500, 1.2500, 1.2500],\n",
       "          [1.2500, 1.2500, 1.2500, 1.2500, 1.2500],\n",
       "          [1.2500, 1.2500, 1.2500, 1.2500, 1.2500],\n",
       "          [1.2500, 1.2500, 1.2500, 1.2500, 1.2500]]]])"
      ]
     },
     "execution_count": 15,
     "metadata": {},
     "output_type": "execute_result"
    }
   ],
   "source": [
    "# Input: (N, C, H, W) or (N, C, L)\n",
    "m2d = nn.Dropout2d(p=0.2)\n",
    "m2d(b)  # 对最后两个个维度整体进行dropout"
   ]
  }
 ],
 "metadata": {
  "colab": {
   "authorship_tag": "ABX9TyMP+1JIxpEiRhMUpc1uBrsU",
   "collapsed_sections": [],
   "name": "Dropout+d.ipynb",
   "provenance": []
  },
  "kernelspec": {
   "display_name": "Python [conda env:pytorch_env] *",
   "language": "python",
   "name": "conda-env-pytorch_env-py"
  },
  "language_info": {
   "name": "python"
  }
 },
 "nbformat": 4,
 "nbformat_minor": 0
}
