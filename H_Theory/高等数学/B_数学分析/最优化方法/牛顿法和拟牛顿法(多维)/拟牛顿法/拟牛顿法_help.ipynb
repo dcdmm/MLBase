{
 "cells": [
  {
   "cell_type": "markdown",
   "source": [
    "## 拟牛顿法的思路   \n",
    "&emsp;&emsp;在牛顿法的迭代中,需要计算黑塞矩阵的逆矩阵$ H^{-1} $,这一计算比较复杂,考虑用\n",
    "一个$ n $阶矩阵$ G_k = G(\\mathbf{x}^{(k)}) $来近似代替$ H^{-1}  = H^{-1}(\\mathbf{x}^{(k)})  $.这就是拟牛顿法的基本思想.   \n",
    "&emsp;&emsp;先看牛顿法迭代中黑塞矩阵$ H_k $满足的条件.首先,$ H_k $满足以下关系.    \n",
    "&emsp;&emsp;在式$ \\nabla f(\\mathbf{x}) = g_k + H_k(\\mathbf{x}-\\mathbf{x}^{(k)}) $中取$ \\mathbf{x}= \\mathbf{x}^{(k+1)} $,即得    \n",
    "$$ g_{k+1} - g_k = H_k(\\mathbf{x}^{(k+1)} - \\mathbf{x}^{(k)}) $$     \n",
    "记$ y_k = g_{k+1} - g_k, \\delta_k = \\mathbf{x}^{(k+1)} -\\mathbf{x}^{(k)} $,则   \n",
    "$$ y_k = H_k \\delta_k $$   \n",
    "或   \n",
    "$$ H_k^{-1}y_k = \\delta_k $$    \n",
    "&emsp;&emsp;如果假定$ H_k $是正定的($ H_k^{-1} $也是正定的),那么可以保证牛顿法搜索方向$ p_k $是下降方向.这是因为\n",
    "搜索方向是$ p_k = -H_k^{-1} g_k $,可得    \n",
    "$$ \\mathbf{x}= \\mathbf{x}^{(k)} + \\lambda p_k = \\mathbf{x}^{(k)} - \\lambda H_k^{-1}g_k $$   \n",
    "所以$ f(\\mathbf{x}) $在$ \\mathbf{x}^{(k)} $的泰勒展开可以近似写成(一阶展开):    \n",
    "$$ f(\\mathbf{x}) = f(\\mathbf{x}^{(k)}) -\\lambda g_k^{T} H_k^{-1} g_k $$    \n",
    "因$H_k^{-1}$正定,故有$ g_k^{T} H_k^{-1} g_k >0 $.当$ \\lambda $为一个充分小的正数时,总有$ f(\\mathbf{x}) < f(\\mathbf{x}^{(k)}) $,也就是说$ p_k $是下降方向.     \n",
    "拟牛顿法将$G_k$作为$H_k^{(-1)}$的近似,要求矩阵$G_k$满足同样的条件.首先,每次迭代矩阵$G_k$是正定的.同时,$G_k$满足下面的拟牛顿条件(将$f(\\mathbf{x})$在$ \\mathbf{x}^{(k+1)} $附近进行二阶泰勒展开,并取$\\mathbf{x}=\\mathbf{x}^{(k)}$):   \n",
    "$$ G_{k+1} y_k = \\delta_k $$   \n",
    "&emsp;&emsp;按照拟牛顿条件选择$G_k$作为$H_k^{-1}$的近似或选择$ B_k $作为$H_k$的近似的算法称为拟牛顿法.    \n",
    "&emsp;&emsp;按照拟牛顿法条件,在每次迭代过程中可以选择更新矩阵$G_{k+1}$:     \n",
    "$$  G_{k+1} = G_k+ \\Delta G_k $$    \n",
    "这种选择有一定的灵活性,因此有多种具体实现方法.    \n",
    "\n",
    "\n",
    "## DFP(Davidon-Fletcher-Powell)算法 \n",
    "&emsp;&emsp;DPF算法选择$G_{k+1}$的方法是,假设每一步迭代中矩阵$G_{k+1}$是由$G_k$加上两个附加项构成的,即   \n",
    "$$ G_{k+1} = G_k + P_k + Q_k $$   \n",
    "其中$P_k, Q_k$是待定矩阵.这时,   \n",
    "$$ G_{k+1} y_k = G_k y_k + P_k y_k + Q_k y_k $$    \n",
    "为使$G_{k+1}$满足拟牛顿条件,可使$P_k$和$Q_k$满足:     \n",
    "$$ P_k y_k = \\delta_k  $$   \n",
    "$$ Q_k y_k = -G_k y_k $$   \n",
    "事实上,不难找出这样的$P_k$和$Q_k$,例如取    \n",
    "$$ P_k= \\frac{\\delta_k \\delta_k^T}{\\delta_k^T y_k} $$   \n",
    "$$ Q_k = -\\frac{G_k y_k y_k^T G_k}{y_k^T G_k y_k } $$    \n",
    "这样就可以得到矩阵$G_{k+1}$的迭代公式:    \n",
    "$$ G_{k+1} = G_k + \\frac{\\delta_k \\delta_k^T}{\\delta_k^T y_k} - \\frac{G_k y_k y_k^T G_k}{y_k^T G_k y_k }  $$    \n",
    "称为DFP算法.     \n",
    "&emsp;&emsp;可以证明,如果初定矩阵$G_0$是正定的,则迭代过程中每个矩阵$G_k$都是正定的.   \n",
    "\n",
    "\n",
    "<font size=4 color='red'>DFP算法:</font>    \n",
    "输入:目标函数$f(\\mathbf{x})$,梯度$g(\\mathbf{x})=\\nabla f(\\mathbf{x}) $,精度要求$\\epsilon$;   \n",
    "输出:$f(\\mathbf{x})$的极小点$\\mathbf{x}^*$     \n",
    "1. 选定初始值点$\\mathbf{x}^{(0)}$,取$G_0$为正定堆成矩阵,置$k=0$  \n",
    "2. 计算$g_K = g(\\mathbf{x}^{(k)}$,若$ ||g_k|| < \\epsilon $,则停止计算,得近似解$\\mathbf{x}^* = \\mathbf{x}^{(k)}$;否则转3\n",
    "3. 置$ p_k = -G_k g_k $    \n",
    "4. 一维搜索:求$\\lambda_k$使得   \n",
    "$$ f(\\mathbf{x}^{(k)} + \\lambda_k p_k) = \\min_{\\lambda \\leq 0}  f(\\mathbf{x}^{(k)} + \\lambda p_k)$$    \n",
    "5. 置$ \\mathbf{x}^{(k+1)} = \\mathbf{x}^{(k)} + \\lambda_k p_k $  \n",
    "6. 计算$ g_{k+1} = g(\\mathbf{x}^{(k+1)}) $,若$  || g_{k+1} < \\epsilon||$,则停止计算,得近似解$\\mathbf{x}^* = \\mathbf{x}^{(k+1)}$;否则,计算$G_{k+1}$   \n",
    "7. 置$ k=k+1$,转3\n",
    "\n",
    "\n",
    "## DFGS(Broyden-Fletcher-Goldfarb-Shanno)算法   \n",
    "&emsp;&emsp;可以考虑用$G_k$逼近黑塞矩阵得逆矩阵$H^{-1}$,也可以考虑用$B_k$逼近黑塞矩阵$H$.    \n",
    "&emsp;&emsp;这时,相应的拟牛顿条件是    \n",
    "$$ B_{k+ 1} \\delta_k = y_k $$    \n",
    "可以用同样的方法得到另一迭代公式.首先令    \n",
    "$$ B_{k+1} = B_k + P_k + Q_k $$  \n",
    "$$ B_{k+1} \\delta_k = B_k \\delta_k + P_k \\delta_k +   Q_k \\delta_k $$   \n",
    "考虑使$P_k$和$Q_k$满足:    \n",
    "$$ P_k \\delta_k = y_k $$     \n",
    "$$ Q_k \\delta_k = - B_k \\delta_k $$   \n",
    "找出适合条件的$P_k$ 和$Q_k$,得到BFGS算法矩阵$B_{k+1}$的迭代公式:     \n",
    "$$ B_{k+1} = B_k + \\frac{y_k y_k^T}{y_k^T \\delta_k} -\\frac{B_k \\delta_k \\delta_k^T B_k}{\\delta_k^T B_k \\delta_k} $$     \n",
    "可以证明,如果初始矩阵$B_0$是正定的,则迭代过程中每个矩阵$B_k$都是正定的.      \n",
    "\n",
    "<font size=4 color='red'>BFGS算法:</font>    \n",
    "输入:目标函数$f(\\mathbf{x})$,梯度$g(\\mathbf{x})=\\nabla f(\\mathbf{x}) $,精度要求$\\epsilon$;   \n",
    "输出:$f(\\mathbf{x})$的极小点$\\mathbf{x}^*$     \n",
    "1. 选定初始值点$\\mathbf{x}^{(0)}$,取$B_0$为正定堆成矩阵,置$ k=0 $  \n",
    "2. 计算$g_K = g(\\mathbf{x}^{(k)}$,若$ ||g_k|| < \\epsilon $,则停止计算,得近似解$\\mathbf{x}^* = \\mathbf{x}^{(k)}$;否则转3\n",
    "3. 由$B_k p_k = -g_k$求出$p_k$         \n",
    "4. 一维搜索:求$\\lambda_k$使得   \n",
    "$$ f(\\mathbf{x}^{(k)} + \\lambda_k p_k) = \\min_{\\lambda \\leq 0}  f(\\mathbf{x}^{(k)} + \\lambda p_k)$$    \n",
    "5. 置$ \\mathbf{x}^{(k+1)} = \\mathbf{x}^{(k)} + \\lambda_k p_k $  \n",
    "6. 计算$ g_{k+1} = g(\\mathbf{x}^{(k+1)}) $,若$  || g_{k+1} < \\epsilon||$,则停止计算,得近似解$\\mathbf{x}^* = \\mathbf{x}^{(k+1)}$;否则,计算$B_{k+1}$   \n",
    "7. 置$ k=k+1$,转3"
   ],
   "metadata": {
    "collapsed": false,
    "pycharm": {
     "name": "#%% md\n"
    }
   }
  }
 ],
 "metadata": {
  "kernelspec": {
   "display_name": "Python 3",
   "language": "python",
   "name": "python3"
  },
  "language_info": {
   "codemirror_mode": {
    "name": "ipython",
    "version": 2
   },
   "file_extension": ".py",
   "mimetype": "text/x-python",
   "name": "python",
   "nbconvert_exporter": "python",
   "pygments_lexer": "ipython2",
   "version": "2.7.6"
  },
  "pycharm": {
   "stem_cell": {
    "cell_type": "raw",
    "source": [],
    "metadata": {
     "collapsed": false
    }
   }
  }
 },
 "nbformat": 4,
 "nbformat_minor": 0
}