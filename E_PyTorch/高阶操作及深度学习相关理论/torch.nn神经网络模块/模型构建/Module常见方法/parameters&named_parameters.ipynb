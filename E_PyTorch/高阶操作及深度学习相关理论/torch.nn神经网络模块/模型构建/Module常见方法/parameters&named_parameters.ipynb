{
 "cells": [
  {
   "cell_type": "code",
   "metadata": {
    "collapsed": true,
    "ExecuteTime": {
     "end_time": "2024-12-16T03:12:41.426632Z",
     "start_time": "2024-12-16T03:12:41.400048Z"
    }
   },
   "source": [
    "from abc import ABC\n",
    "import torch.nn as nn\n",
    "from collections import OrderedDict\n",
    "\n",
    "\n",
    "class LeNet1(nn.Module, ABC):\n",
    "    def __init__(self):\n",
    "        super(LeNet1, self).__init__()\n",
    "        self.featrues = nn.Sequential(OrderedDict({  # 有序字典\n",
    "            'conv1': nn.Conv2d(1, 6, 3),  # 通过有序字典指定各模块的名称\n",
    "            'relu1': nn.ReLU(),\n",
    "            'pool1': nn.MaxPool2d(2, 2),\n",
    "            'conv2': nn.Conv2d(6, 16, 3),\n",
    "            'relu2': nn.ReLU(),\n",
    "            'pool2': nn.MaxPool2d(2, 2)\n",
    "        }))\n",
    "        self.classifier = nn.Sequential(OrderedDict({\n",
    "            'line1': nn.Linear(16 * 6 * 6, 120),\n",
    "            'relu1': nn.ReLU(),\n",
    "            'line2': nn.Linear(120, 84),\n",
    "            'relu2': nn.ReLU(),\n",
    "            'line3': nn.Linear(84, 10),\n",
    "        }))\n",
    "\n",
    "    def forward(self, x):\n",
    "        x = self.featrues(x)\n",
    "        x = x.reshape(x.size()[0], -1)\n",
    "        x = self.classifier(x)\n",
    "        return x\n",
    "\n",
    "\n",
    "net = LeNet1()\n",
    "net"
   ],
   "outputs": [
    {
     "data": {
      "text/plain": [
       "LeNet1(\n",
       "  (featrues): Sequential(\n",
       "    (conv1): Conv2d(1, 6, kernel_size=(3, 3), stride=(1, 1))\n",
       "    (relu1): ReLU()\n",
       "    (pool1): MaxPool2d(kernel_size=2, stride=2, padding=0, dilation=1, ceil_mode=False)\n",
       "    (conv2): Conv2d(6, 16, kernel_size=(3, 3), stride=(1, 1))\n",
       "    (relu2): ReLU()\n",
       "    (pool2): MaxPool2d(kernel_size=2, stride=2, padding=0, dilation=1, ceil_mode=False)\n",
       "  )\n",
       "  (classifier): Sequential(\n",
       "    (line1): Linear(in_features=576, out_features=120, bias=True)\n",
       "    (relu1): ReLU()\n",
       "    (line2): Linear(in_features=120, out_features=84, bias=True)\n",
       "    (relu2): ReLU()\n",
       "    (line3): Linear(in_features=84, out_features=10, bias=True)\n",
       "  )\n",
       ")"
      ]
     },
     "execution_count": 22,
     "metadata": {},
     "output_type": "execute_result"
    }
   ],
   "execution_count": 22
  },
  {
   "cell_type": "code",
   "source": [
    "# Returns an iterator over module parameters.\n",
    "for i in net.parameters():\n",
    "    print(i.shape)\n",
    "    print(i.numel())  # 参数量"
   ],
   "metadata": {
    "collapsed": false,
    "pycharm": {
     "name": "#%%\n"
    },
    "ExecuteTime": {
     "end_time": "2024-12-16T03:12:41.537817Z",
     "start_time": "2024-12-16T03:12:41.521743Z"
    }
   },
   "outputs": [
    {
     "name": "stdout",
     "output_type": "stream",
     "text": [
      "torch.Size([6, 1, 3, 3])\n",
      "54\n",
      "torch.Size([6])\n",
      "6\n",
      "torch.Size([16, 6, 3, 3])\n",
      "864\n",
      "torch.Size([16])\n",
      "16\n",
      "torch.Size([120, 576])\n",
      "69120\n",
      "torch.Size([120])\n",
      "120\n",
      "torch.Size([84, 120])\n",
      "10080\n",
      "torch.Size([84])\n",
      "84\n",
      "torch.Size([10, 84])\n",
      "840\n",
      "torch.Size([10])\n",
      "10\n"
     ]
    }
   ],
   "execution_count": 23
  },
  {
   "cell_type": "code",
   "source": [
    "net.named_parameters()  # 生成器"
   ],
   "metadata": {
    "collapsed": false,
    "pycharm": {
     "name": "#%%\n"
    },
    "ExecuteTime": {
     "end_time": "2024-12-16T03:12:41.553940Z",
     "start_time": "2024-12-16T03:12:41.549918Z"
    }
   },
   "outputs": [
    {
     "data": {
      "text/plain": [
       "<generator object Module.named_parameters at 0x0000011E0853C5F0>"
      ]
     },
     "execution_count": 24,
     "metadata": {},
     "output_type": "execute_result"
    }
   ],
   "execution_count": 24
  },
  {
   "cell_type": "code",
   "source": [
    "# Returns an iterator over module parameters, yielding both the name of the parameter as well as the parameter itself.\n",
    "for name, param in net.named_parameters():\n",
    "    print(name + ': ', param.shape, ', ', param.numel())"
   ],
   "metadata": {
    "collapsed": false,
    "pycharm": {
     "name": "#%%\n"
    },
    "ExecuteTime": {
     "end_time": "2024-12-16T03:12:41.600861Z",
     "start_time": "2024-12-16T03:12:41.590Z"
    }
   },
   "outputs": [
    {
     "name": "stdout",
     "output_type": "stream",
     "text": [
      "featrues.conv1.weight:  torch.Size([6, 1, 3, 3]) ,  54\n",
      "featrues.conv1.bias:  torch.Size([6]) ,  6\n",
      "featrues.conv2.weight:  torch.Size([16, 6, 3, 3]) ,  864\n",
      "featrues.conv2.bias:  torch.Size([16]) ,  16\n",
      "classifier.line1.weight:  torch.Size([120, 576]) ,  69120\n",
      "classifier.line1.bias:  torch.Size([120]) ,  120\n",
      "classifier.line2.weight:  torch.Size([84, 120]) ,  10080\n",
      "classifier.line2.bias:  torch.Size([84]) ,  84\n",
      "classifier.line3.weight:  torch.Size([10, 84]) ,  840\n",
      "classifier.line3.bias:  torch.Size([10]) ,  10\n"
     ]
    }
   ],
   "execution_count": 25
  }
 ],
 "metadata": {
  "kernelspec": {
   "display_name": "Python 3",
   "language": "python",
   "name": "python3"
  },
  "language_info": {
   "codemirror_mode": {
    "name": "ipython",
    "version": 2
   },
   "file_extension": ".py",
   "mimetype": "text/x-python",
   "name": "python",
   "nbconvert_exporter": "python",
   "pygments_lexer": "ipython2",
   "version": "2.7.6"
  }
 },
 "nbformat": 4,
 "nbformat_minor": 0
}
