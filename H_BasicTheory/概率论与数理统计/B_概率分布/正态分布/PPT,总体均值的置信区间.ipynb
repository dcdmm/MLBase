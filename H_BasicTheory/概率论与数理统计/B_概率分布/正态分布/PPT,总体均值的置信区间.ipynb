{
 "cells": [
  {
   "cell_type": "markdown",
   "metadata": {
    "pycharm": {
     "metadata": false,
     "name": "#%% md\n"
    }
   },
   "source": [
    "## 百分点函数(Percent point function)\n",
    "CDF的反函数,PPF回答\"为了得到一定的概率,CDF相应的输入值是什么\""
   ]
  },
  {
   "cell_type": "code",
   "execution_count": 28,
   "metadata": {
    "pycharm": {
     "is_executing": false,
     "metadata": false,
     "name": "#%%\n"
    }
   },
   "outputs": [
    {
     "name": "stdout",
     "output_type": "stream",
     "text": [
      "0.0\n",
      "2.3263478740408408\n"
     ]
    }
   ],
   "source": [
    "import numpy as np\n",
    "from scipy import  stats\n",
    "\n",
    "n = 20\n",
    "mu = 0\n",
    "sigma = 1\n",
    "print(stats.norm.ppf(0.5, loc=mu, scale=sigma))\n",
    "print(stats.norm.ppf(0.99, loc=mu, scale=sigma))"
   ]
  },
  {
   "cell_type": "markdown",
   "metadata": {
    "pycharm": {
     "metadata": false,
     "name": "#%% md\n"
    }
   },
   "source": [
    "## 置信区间(反转一个检验统计量)\n",
    "<font size=4 color='red'>公式:</font>  \n",
    "&emsp;&emsp;当总体标准差已知时,样本均值抽样分布的标准差为$s_{\\bar{x}}=\\sigma / \\sqrt{n}$,一般的,置信  \n",
    "区间为$1-\\alpha$的总体均值的置信区间为:  \n",
    "$$ (\\bar{x} - z_{\\alpha/2} \\frac{\\sigma}{\\sqrt{n}} ,\\bar{x} + z_{\\alpha/2} \\frac{\\sigma}{\\sqrt{n}}) $$\n",
    "\n",
    "&emsp;&emsp;如果总体标准差是未知的且为大样本时($n>30$),标准误差为$s_{\\bar{x}}=s / \\sqrt{n}$,其中$s$是样本  \n",
    "标准差.此时总体均值的置信区间为:\n",
    "$$ (\\bar{x} - z_{\\alpha/2} \\frac{s}{\\sqrt{n}} ,\\bar{x} + z_{\\alpha/2} \\frac{s}{\\sqrt{n}}) $$"
   ]
  },
  {
   "cell_type": "code",
   "execution_count": 29,
   "metadata": {
    "pycharm": {
     "is_executing": false,
     "metadata": false,
     "name": "#%%\n"
    }
   },
   "outputs": [
    {
     "data": {
      "text/plain": [
       "(7.215502701159496, 7.509497298840504)"
      ]
     },
     "execution_count": 29,
     "metadata": {},
     "output_type": "execute_result"
    }
   ],
   "source": [
    "# 某地区成年人的睡眠时间服从正态分布,假设总体标准差为0.3小时,求该地区成年人平均睡眠时间的95%的置信区间\n",
    "data = np.array([6.5, 6.8, 6.8, 7, 7.1, 7.2, 7.2, 7.4, \n",
    "        7.4, 7.5, 7.5, 7.5, 7.6, 7.8, 8, 8.5])\n",
    "number = len(data) \n",
    "loc = np.mean(data) # loc对应\\bar{x}\n",
    "scale = 0.3/np.sqrt(number) # scale对应\\frac{s}{\\sqrt{n}),即标准误差\n",
    "ci = stats.norm.interval(0.95, loc=loc, scale=scale) # 95%的置信区间\n",
    "ci"
   ]
  },
  {
   "cell_type": "code",
   "execution_count": 34,
   "metadata": {
    "pycharm": {
     "is_executing": false,
     "metadata": false,
     "name": "#%%\n"
    }
   },
   "outputs": [
    {
     "name": "stdout",
     "output_type": "stream",
     "text": [
      "95% confidence interval:7.215502701159496 - 7.509497298840504\n"
     ]
    }
   ],
   "source": [
    "# 与上等价\n",
    "mean = np.mean(data)\n",
    "var = np.std(data, ddof=1)\n",
    "interval1 = loc + stats.norm.ppf(0.025) * scale\n",
    "interval2 = loc + stats.norm.ppf(0.975) * scale\n",
    "print('95% confidence interval:{0:4.15f} - {1:4.15f}'.format(\n",
    "    interval1, interval2))\n"
   ]
  }
 ],
 "metadata": {
  "kernelspec": {
   "display_name": "Python 3",
   "language": "python",
   "name": "python3"
  },
  "language_info": {
   "codemirror_mode": {
    "name": "ipython",
    "version": 3
   },
   "file_extension": ".py",
   "mimetype": "text/x-python",
   "name": "python",
   "nbconvert_exporter": "python",
   "pygments_lexer": "ipython3",
   "version": "3.7.3"
  },
  "stem_cell": {
   "cell_type": "raw",
   "metadata": {
    "pycharm": {
     "metadata": false
    }
   },
   "source": ""
  },
  "pycharm": {
   "stem_cell": {
    "cell_type": "raw",
    "source": [],
    "metadata": {
     "collapsed": false
    }
   }
  }
 },
 "nbformat": 4,
 "nbformat_minor": 1
}