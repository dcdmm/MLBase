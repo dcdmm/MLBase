{
 "cells": [
  {
   "cell_type": "markdown",
   "metadata": {
    "pycharm": {
     "name": "#%% md\n"
    }
   },
   "source": [
    "&emsp;&emsp;假设已知训练数据包含$S$个长度相同的观测序列和对应的状态序列$\\{ (O_1,I_1), (O_2,I_2),\\cdots,(O_S,I_S)\\}$,那么可以利用极大似然估计来估计隐马尔可夫模型的参数.具体方法如下.\n",
    "\n",
    "1. 转移概率$a_{ij}$的估计\n",
    "\n",
    "&emsp;&emsp;设样本中时刻$t$处于状态$i$时刻$t+1$转移到状态$j$的频数为$A_{ij}$,那么状态转移概率$a_{ij}$的估计是\n",
    "\n",
    "$$ \\hat{a}_{i j}=\\frac{A_{i j}}{\\sum_{j=1}^{N} A_{i j}}, \\quad i=1,2, \\cdots, N ; \\quad j=1,2, \\cdots, N $$\n",
    "\n",
    "\n",
    "2.观测概率$b_j(k)$的估计\n",
    "\n",
    "&emsp;&emsp;设样本中状态为$j$并观测为$k$的频数是$B_{jk}$,那么状态为$j$观测为$k$的概率$b_j(k)$的估计是\n",
    "\n",
    "$$ \\hat{b}_{j}(k)=\\frac{B_{j k}}{\\sum_{k=1}^{M} B_{j k}}, \\quad j=1,2, \\cdots, N ; \\quad k=1,2, \\cdots, M $$\n",
    "\n",
    "3. 初始状态概率$\\pi_i$的估计$\\hat{\\pi}_{i}$为$S$个样本中初始状态为$q_i$的频率"
   ]
  }
 ],
 "metadata": {
  "kernelspec": {
   "display_name": "Python 3 (ipykernel)",
   "language": "python",
   "name": "python3"
  },
  "language_info": {
   "codemirror_mode": {
    "name": "ipython",
    "version": 3
   },
   "file_extension": ".py",
   "mimetype": "text/x-python",
   "name": "python",
   "nbconvert_exporter": "python",
   "pygments_lexer": "ipython3",
   "version": "3.8.12"
  }
 },
 "nbformat": 4,
 "nbformat_minor": 4
}
