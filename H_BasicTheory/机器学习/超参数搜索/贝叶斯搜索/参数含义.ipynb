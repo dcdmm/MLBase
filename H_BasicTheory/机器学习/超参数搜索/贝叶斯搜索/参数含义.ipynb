{
 "cells": [
  {
   "cell_type": "code",
   "execution_count": 56,
   "metadata": {
    "collapsed": true,
    "pycharm": {
     "name": "#%%\n"
    }
   },
   "outputs": [],
   "source": [
    "from bayes_opt import BayesianOptimization"
   ]
  },
  {
   "cell_type": "code",
   "execution_count": 57,
   "outputs": [],
   "source": [
    "def black_box_function(x, y):\n",
    "    \"\"\"Function with unknown internals we wish to maximize\"\"\"\n",
    "    return -x ** 2 - (y - 1) ** 2 + 1"
   ],
   "metadata": {
    "collapsed": false,
    "pycharm": {
     "name": "#%%\n"
    }
   }
  },
  {
   "cell_type": "code",
   "execution_count": 58,
   "outputs": [],
   "source": [
    "# Bounded region of parameter space\n",
    "pbounds = {'x': (-4, 4), 'y': (-3, 3)}  # 指定合理的参数空间范围"
   ],
   "metadata": {
    "collapsed": false,
    "pycharm": {
     "name": "#%%\n"
    }
   }
  },
  {
   "cell_type": "code",
   "execution_count": 59,
   "outputs": [],
   "source": [
    "optimizer = BayesianOptimization(\n",
    "    f=black_box_function,\n",
    "    pbounds=pbounds,\n",
    "    # verbose = 1 prints only when a maximum is observed, verbose = 0 is silent\n",
    "    verbose=2,  # 默认verbose=2\n",
    "    random_state=1,\n",
    ")"
   ],
   "metadata": {
    "collapsed": false,
    "pycharm": {
     "name": "#%%\n"
    }
   }
  },
  {
   "cell_type": "code",
   "execution_count": 60,
   "outputs": [
    {
     "name": "stdout",
     "output_type": "stream",
     "text": [
      "|   iter    |  target   |     x     |     y     |\n",
      "-------------------------------------------------\n",
      "| \u001B[0m 1       \u001B[0m | \u001B[0m 0.4557  \u001B[0m | \u001B[0m-0.6638  \u001B[0m | \u001B[0m 1.322   \u001B[0m |\n",
      "| \u001B[0m 2       \u001B[0m | \u001B[0m-19.77   \u001B[0m | \u001B[0m-3.999   \u001B[0m | \u001B[0m-1.186   \u001B[0m |\n",
      "| \u001B[0m 3       \u001B[0m | \u001B[0m 0.2023  \u001B[0m | \u001B[0m-0.7395  \u001B[0m | \u001B[0m 1.501   \u001B[0m |\n",
      "| \u001B[0m 4       \u001B[0m | \u001B[0m-7.221   \u001B[0m | \u001B[0m 2.758   \u001B[0m | \u001B[0m 1.783   \u001B[0m |\n",
      "| \u001B[0m 5       \u001B[0m | \u001B[0m-12.65   \u001B[0m | \u001B[0m 1.656   \u001B[0m | \u001B[0m-2.303   \u001B[0m |\n",
      "=================================================\n"
     ]
    }
   ],
   "source": [
    "optimizer.maximize(\n",
    "    # init_points: How many steps of random exploration you want to perform. Random exploration can help by diversifying the exploration space.\n",
    "    # init_points越大,算法陷入局部极小值的可能性越小\n",
    "    init_points=2,  # 默认init_points=5\n",
    "    # n_iter: How many steps of bayesian optimization you want to perform. The more steps the more likely to find a good maximum you are.\n",
    "    n_iter=3,  # 默认n_iter=25\n",
    ")"
   ],
   "metadata": {
    "collapsed": false,
    "pycharm": {
     "name": "#%%\n"
    }
   }
  },
  {
   "cell_type": "code",
   "execution_count": 61,
   "outputs": [
    {
     "data": {
      "text/plain": "['x', 'y']"
     },
     "execution_count": 61,
     "metadata": {},
     "output_type": "execute_result"
    }
   ],
   "source": [
    "# 优化器参数列表\n",
    "optimizer.space.keys"
   ],
   "metadata": {
    "collapsed": false,
    "pycharm": {
     "name": "#%%\n"
    }
   }
  },
  {
   "cell_type": "code",
   "execution_count": 62,
   "outputs": [
    {
     "data": {
      "text/plain": "array([[-4.,  4.],\n       [-3.,  3.]])"
     },
     "execution_count": 62,
     "metadata": {},
     "output_type": "execute_result"
    }
   ],
   "source": [
    "# 优化器参数范围\n",
    "optimizer.space.bounds"
   ],
   "metadata": {
    "collapsed": false,
    "pycharm": {
     "name": "#%%\n"
    }
   }
  },
  {
   "cell_type": "code",
   "execution_count": 63,
   "outputs": [
    {
     "data": {
      "text/plain": "{'target': 0.45568790149723093,\n 'params': {'x': -0.663823962379408, 'y': 1.3219469606529488}}"
     },
     "execution_count": 63,
     "metadata": {},
     "output_type": "execute_result"
    }
   ],
   "source": [
    "# The best combination of parameters and target value found can be accessed via the property bo.max.\n",
    "optimizer.max"
   ],
   "metadata": {
    "collapsed": false,
    "pycharm": {
     "name": "#%%\n"
    }
   }
  },
  {
   "cell_type": "code",
   "execution_count": 64,
   "outputs": [
    {
     "name": "stdout",
     "output_type": "stream",
     "text": [
      "Iteration 0: \n",
      "\t{'target': 0.45568790149723093, 'params': {'x': -0.663823962379408, 'y': 1.3219469606529488}}\n",
      "Iteration 1: \n",
      "\t{'target': -19.771296803654664, 'params': {'x': -3.999085001461241, 'y': -1.1860045642089614}}\n",
      "Iteration 2: \n",
      "\t{'target': 0.2023469994876097, 'params': {'x': -0.7395395871681797, 'y': 1.5007336612646573}}\n",
      "Iteration 3: \n",
      "\t{'target': -7.22113636541444, 'params': {'x': 2.7582747197644584, 'y': 1.7829795244594453}}\n",
      "Iteration 4: \n",
      "\t{'target': -12.653501303123512, 'params': {'x': 1.655564036014782, 'y': -2.3034238338090915}}\n"
     ]
    }
   ],
   "source": [
    "# While the list of all parameters probed and their corresponding target values is available via the property bo.res.\n",
    "for i, res in enumerate(optimizer.res):\n",
    "    print(\"Iteration {}: \\n\\t{}\".format(i, res))\n"
   ],
   "metadata": {
    "collapsed": false,
    "pycharm": {
     "name": "#%%\n"
    }
   }
  }
 ],
 "metadata": {
  "kernelspec": {
   "display_name": "Python 3",
   "language": "python",
   "name": "python3"
  },
  "language_info": {
   "codemirror_mode": {
    "name": "ipython",
    "version": 2
   },
   "file_extension": ".py",
   "mimetype": "text/x-python",
   "name": "python",
   "nbconvert_exporter": "python",
   "pygments_lexer": "ipython2",
   "version": "2.7.6"
  }
 },
 "nbformat": 4,
 "nbformat_minor": 0
}