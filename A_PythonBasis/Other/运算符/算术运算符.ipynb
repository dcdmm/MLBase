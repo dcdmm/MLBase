{
 "cells": [
  {
   "cell_type": "code",
   "execution_count": null,
   "outputs": [],
   "source": [
    "# +(加)\n",
    "print(1 + 3)\n",
    "print('a' + 'b')\n",
    "print((1, 3) + (3, 4))\n",
    "print(([1, 2]) + [3, 4])"
   ],
   "metadata": {
    "collapsed": false,
    "pycharm": {
     "name": "#%%\n"
    }
   }
  },
  {
   "cell_type": "code",
   "execution_count": 10,
   "outputs": [
    {
     "name": "stdout",
     "text": [
      "-2\n"
     ],
     "output_type": "stream"
    }
   ],
   "source": [
    "# -(减)\n",
    "print(1 - 3)"
   ],
   "metadata": {
    "pycharm": {
     "metadata": false,
     "name": "#%%\n",
     "is_executing": false
    }
   }
  },
  {
   "cell_type": "code",
   "execution_count": 12,
   "outputs": [
    {
     "name": "stdout",
     "text": [
      "3\naaa\n(1, 3, 1, 3, 1, 3)\n[1, 2, 1, 2, 1, 2]\n"
     ],
     "output_type": "stream"
    }
   ],
   "source": [
    "# *(乘)\n",
    "print(1 * 3)\n",
    "print('a' * 3)\n",
    "print((1, 3) * 3)\n",
    "print(([1, 2]) * 3)"
   ],
   "metadata": {
    "pycharm": {
     "metadata": false,
     "name": "#%%\n",
     "is_executing": false
    }
   }
  },
  {
   "cell_type": "code",
   "execution_count": 1,
   "outputs": [
    {
     "name": "stdout",
     "output_type": "stream",
     "text": [
      "0.3333333333333333\n"
     ]
    }
   ],
   "source": [
    "# /(除)\n",
    "print(1 / 3)"
   ],
   "metadata": {
    "pycharm": {
     "metadata": false,
     "name": "#%%\n"
    }
   }
  },
  {
   "cell_type": "code",
   "execution_count": 5,
   "outputs": [
    {
     "name": "stdout",
     "text": [
      "1\n2\n"
     ],
     "output_type": "stream"
    }
   ],
   "source": [
    "# %(返回除法的余数)\n",
    "print(5 % 2)\n",
    "print(2 % 5)"
   ],
   "metadata": {
    "pycharm": {
     "metadata": false,
     "name": "#%%\n",
     "is_executing": false
    }
   }
  },
  {
   "cell_type": "code",
   "execution_count": 4,
   "outputs": [
    {
     "name": "stdout",
     "text": [
      "2\n-3\n2.0\n"
     ],
     "output_type": "stream"
    }
   ],
   "source": [
    "# //(地板除法:向下取接近除数的整数)\n",
    "print(5 // 2)\n",
    "print(-5 // 2)\n",
    "print(3.3 // 1.1)"
   ],
   "metadata": {
    "pycharm": {
     "metadata": false,
     "name": "#%%\n",
     "is_executing": false
    }
   }
  },
  {
   "cell_type": "code",
   "execution_count": 28,
   "outputs": [
    {
     "name": "stdout",
     "text": [
      "0.1111111111111111\n-9\n9\n"
     ],
     "output_type": "stream"
    }
   ],
   "source": [
    "# **(幂)(比左侧一元运算符高,比右侧一元运算符低)\n",
    "print(3 ** -2)\n",
    "print(-3 ** 2)\n",
    "print((-3) ** 2)"
   ],
   "metadata": {
    "pycharm": {
     "metadata": false,
     "name": "#%%\n",
     "is_executing": false
    }
   }
  },
  {
   "cell_type": "code",
   "execution_count": null,
   "outputs": [],
   "source": "\n",
   "metadata": {
    "pycharm": {
     "metadata": false,
     "name": "#%%\n"
    }
   }
  }
 ],
 "metadata": {
  "language_info": {
   "codemirror_mode": {
    "name": "ipython",
    "version": 2
   },
   "file_extension": ".py",
   "mimetype": "text/x-python",
   "name": "python",
   "nbconvert_exporter": "python",
   "pygments_lexer": "ipython2",
   "version": "2.7.6"
  },
  "kernelspec": {
   "name": "python3",
   "language": "python",
   "display_name": "Python 3"
  }
 },
 "nbformat": 4,
 "nbformat_minor": 0
}