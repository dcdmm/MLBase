{
 "cells": [
  {
   "cell_type": "markdown",
   "source": [
    "datetime.datetime   -表示日期和时间的类，常用属性： year, month, day, hour, minute, second, microsecond, tzinfo"
   ],
   "metadata": {
    "pycharm": {
     "metadata": false,
     "name": "#%% md\n"
    }
   }
  },
  {
   "cell_type": "code",
   "execution_count": 3,
   "outputs": [
    {
     "data": {
      "text/plain": "'\\ndatetime.datetime(year, month, day, hour=0, minute=0, second=0, microsecond=0, tzinfo=None)\\n必须的参数是 year(年)、month(月)、day(日)；tzinfo 可以是 None 或者 tzinfo 子类的实例对象；其余的参数可以是整数，并且在以下范围内：\\n\\nMINYEAR <= year <= MAXYEAR(也就是 1 ~ 9999)\\n1 <= month <= 12\\n1 <= day <= 根据 year 和 month 来决定(例如 2015年2月 只有 28 天)\\n0 <= hour < 24\\n0 <= minute < 60\\n0 <= second < 60\\n0 <= microsecond < 1000000\\n注：如果参数超出范围，将引发 ValueError 异常\\n\\ndatetime 类方法(classmethod)：\\ndatetime.today()\\n- 返回一个表示当前本地时间的 datetime 对象，等同于 datetime.fromtimestamp(time.time())\\ndatetime.now(tz=None)\\n- 返回一个表示当前本地时间的 datetime 对象；如果提供了参数 tz，则获取 tz 参数所指时区的本地时间\\ndatetime.utcnow()\\n- 返回一个当前 UTC 时间的 datetime 对象\\ndatetime.fromtimestamp(timestamp, tz=None)\\n- 根据时间戮创建一个 datetime 对象，参数 tz 指定时区信息\\ndatetime.utcfromtimestamp(timestamp)\\n- 根据时间戮创建一个 UTC(世界标准时间) 时间的 datetime 对象\\ndatetime.fromordinal(ordinal)\\n- 返回对应 Gregorian 日历时间对应的 datetime 对象\\ndatetime.combine(date, time)\\n- 根据参数 date 和 time，创建一个 datetime 对象\\ndatetime.strptime(date_string, format)\\n- 将格式化字符串转换为 datetime 对象\\n\\ndatetime 实例属性(只读)：\\n属性\\t取值范围\\ndatetime.year\\tMINYEAR ~ MAXYEAR(1 ~ 9999)\\ndatetime.month\\t1 ~ 12\\ndatetime.day\\t1 ~ 根据 year 和 month 来决定（例如 2015年2月 只有 28 天）\\ndatetime.hour\\t0 ~ 23\\ndatetime.minute\\t0 ~ 59\\ndatetime.second\\t0 ~ 59\\ndatetime.microsecond\\t0 ~ 999999\\ndatetime.tzinfo\\t通过构造函数的 tzinfo 参数赋值\\n\\ndatetime 对象支持的操作：\\n操作\\t                                        结果\\ndatetime2 = datetime1 + timedelta\\t 日期加上一个时间间隔，返回一个新的日期对象\\ndatetime2 = datetime1 - timedelta\\t 日期减去一个时间间隔，相当于datetime2 + timedelta == datetime1\\ntimedelta = datetime1 - datetime2\\t 两个日期相减得到一个时间间隔\\ndatetime1 < datetime2\\t当 datetime1 的日期在 datetime2 之前时，我们认为 datetime1 < datetime2\\n\\ndatetime 实例方法：\\ndatetime.date()\\n- 返回一个 date 对象\\ndatetime.time() \\n- 返回一个 time 对象（tzinfo 属性为 None）\\ndatetime.timetz()\\n- 返回一个 time() 对象(带有 tzinfo 属性)\\ndatetime.replace([year[, month[, day[, hour[, minute[, second[, microsecond[, tzinfo]]]]]]]])\\n- 生成一个新的日期对象，用参数指定日期和时间代替原有对象中的属性\\ndatetime.astimezone(tz=None)\\n- 传入一个新的 tzinfo 属性，返回根据新时区调整好的 datetime 对象\\ndatetime.utcoffset()\\n- 如果 tzinfo 属性是 None，则返回 None；否则返回 self.tzinfo.utcoffset(self)\\ndatetime.dst()\\n- 如果 tzinfo 属性是 None，则返回 None；否则返回 self.tzinfo.dst(self)\\ndatetime.tzname()\\n- 如果 tzinfo 属性是 None，则返回 None；否则返回 self.tzinfo.tzname(self)\\ndatetime.timetuple()\\n-  返回日期对应的 time.struct_time 对象（类似于 time 模块的 time.localtime()）\\ndatetime.utctimetuple()\\n- 返回 UTC 日期对应的 time.struct_time 对象\\ndatetime.toordinal()\\n- 返回日期对应的 Gregorian Calendar 日期（类似于 self.date().toordinal()）\\ndatetime.timestamp()\\n- 返回当前时间的时间戳（类似于 time 模块的 time.time()）\\ndatetime.weekday()\\n- 返回 0 ~ 6 表示星期几（星期一是 0，依此类推）\\ndatetime.isoweekday()\\n- 返回 1 ~ 7 表示星期几（星期一是1， 依此类推）\\ndatetime.isocalendar()\\n- Return a 3-tuple containing ISO year, week number, and weekday.\\ndatetime.isoformat(sep=\\'T\\')\\n- 返回一个 ISO 8601 格式的日期字符串，如 \"YYYY-MM-DD\" 的字符串\\ndatetime.__str__()\\n- 对于 date 对象 d 来说，str(d) 相当于 d.isoformat()\\ndatetime.ctime()\\n- 返回一个表示日期的字符串，相当于 time 模块的 time.ctime(time.mktime(d.timetuple()))\\ndatetime.strftime(format)\\n- 返回自定义格式化字符串表示日期，下面有详解\\ndatetime.__format__(format)\\n- 跟 datetime.strftime(format) 一样，这使得调用 str.format() 时可以指定 data 对象的字符串\\n'"
     },
     "metadata": {},
     "output_type": "execute_result",
     "execution_count": 3
    }
   ],
   "source": "'''\ndatetime.datetime(year, month, day, hour=0, minute=0, second=0, microsecond=0, tzinfo=None)\n必须的参数是 year(年)、month(月)、day(日)；tzinfo 可以是 None 或者 tzinfo 子类的实例对象；其余的参数可以是整数，并且在以下范围内：\n\nMINYEAR <= year <= MAXYEAR(也就是 1 ~ 9999)\n1 <= month <= 12\n1 <= day <= 根据 year 和 month 来决定(例如 2015年2月 只有 28 天)\n0 <= hour < 24\n0 <= minute < 60\n0 <= second < 60\n0 <= microsecond < 1000000\n注：如果参数超出范围，将引发 ValueError 异常\n\ndatetime 类方法(classmethod)：\ndatetime.today()\n- 返回一个表示当前本地时间的 datetime 对象，等同于 datetime.fromtimestamp(time.time())\ndatetime.now(tz=None)\n- 返回一个表示当前本地时间的 datetime 对象；如果提供了参数 tz，则获取 tz 参数所指时区的本地时间\ndatetime.utcnow()\n- 返回一个当前 UTC 时间的 datetime 对象\ndatetime.fromtimestamp(timestamp, tz=None)\n- 根据时间戮创建一个 datetime 对象，参数 tz 指定时区信息\ndatetime.utcfromtimestamp(timestamp)\n- 根据时间戮创建一个 UTC(世界标准时间) 时间的 datetime 对象\ndatetime.fromordinal(ordinal)\n- 返回对应 Gregorian 日历时间对应的 datetime 对象\ndatetime.combine(date, time)\n- 根据参数 date 和 time，创建一个 datetime 对象\ndatetime.strptime(date_string, format)\n- 将格式化字符串转换为 datetime 对象\n\ndatetime 实例属性(只读)：\n属性\t取值范围\ndatetime.year\tMINYEAR ~ MAXYEAR(1 ~ 9999)\ndatetime.month\t1 ~ 12\ndatetime.day\t1 ~ 根据 year 和 month 来决定（例如 2015年2月 只有 28 天）\ndatetime.hour\t0 ~ 23\ndatetime.minute\t0 ~ 59\ndatetime.second\t0 ~ 59\ndatetime.microsecond\t0 ~ 999999\ndatetime.tzinfo\t通过构造函数的 tzinfo 参数赋值\n\ndatetime 对象支持的操作：\n操作\t                                        结果\ndatetime2 = datetime1 + timedelta\t 日期加上一个时间间隔，返回一个新的日期对象\ndatetime2 = datetime1 - timedelta\t 日期减去一个时间间隔，相当于datetime2 + timedelta == datetime1\ntimedelta = datetime1 - datetime2\t 两个日期相减得到一个时间间隔\ndatetime1 < datetime2\t当 datetime1 的日期在 datetime2 之前时，我们认为 datetime1 < datetime2\n\ndatetime 实例方法：\ndatetime.date()\n- 返回一个 date 对象\ndatetime.time() \n- 返回一个 time 对象（tzinfo 属性为 None）\ndatetime.timetz()\n- 返回一个 time() 对象(带有 tzinfo 属性)\ndatetime.replace([year[, month[, day[, hour[, minute[, second[, microsecond[, tzinfo]]]]]]]])\n- 生成一个新的日期对象，用参数指定日期和时间代替原有对象中的属性\ndatetime.astimezone(tz=None)\n- 传入一个新的 tzinfo 属性，返回根据新时区调整好的 datetime 对象\ndatetime.utcoffset()\n- 如果 tzinfo 属性是 None，则返回 None；否则返回 self.tzinfo.utcoffset(self)\ndatetime.dst()\n- 如果 tzinfo 属性是 None，则返回 None；否则返回 self.tzinfo.dst(self)\ndatetime.tzname()\n- 如果 tzinfo 属性是 None，则返回 None；否则返回 self.tzinfo.tzname(self)\ndatetime.timetuple()\n-  返回日期对应的 time.struct_time 对象（类似于 time 模块的 time.localtime()）\ndatetime.utctimetuple()\n- 返回 UTC 日期对应的 time.struct_time 对象\ndatetime.toordinal()\n- 返回日期对应的 Gregorian Calendar 日期（类似于 self.date().toordinal()）\ndatetime.timestamp()\n- 返回当前时间的时间戳（类似于 time 模块的 time.time()）\ndatetime.weekday()\n- 返回 0 ~ 6 表示星期几（星期一是 0，依此类推）\ndatetime.isoweekday()\n- 返回 1 ~ 7 表示星期几（星期一是1， 依此类推）\ndatetime.isocalendar()\n- Return a 3-tuple containing ISO year, week number, and weekday.\ndatetime.isoformat(sep='T')\n- 返回一个 ISO 8601 格式的日期字符串，如 \"YYYY-MM-DD\" 的字符串\ndatetime.__str__()\n- 对于 date 对象 d 来说，str(d) 相当于 d.isoformat()\ndatetime.ctime()\n- 返回一个表示日期的字符串，相当于 time 模块的 time.ctime(time.mktime(d.timetuple()))\ndatetime.strftime(format)\n- 返回自定义格式化字符串表示日期，下面有详解\ndatetime.__format__(format)\n- 跟 datetime.strftime(format) 一样，这使得调用 str.format() 时可以指定 data 对象的字符串\n'''",
   "metadata": {
    "pycharm": {
     "metadata": false,
     "name": "#%%\n",
     "is_executing": false
    }
   }
  },
  {
   "cell_type": "code",
   "execution_count": 3,
   "outputs": [
    {
     "name": "stdout",
     "text": [
      "2015-08-01 12:30:00\n2019-07-26 15:12:55.615014\n2019-07-26 07:12:55.615014\n2014-11-21 16:30:00\n<class 'datetime.datetime'>\n<class 'float'>\ntime.struct_time(tm_year=2014, tm_mon=11, tm_mday=21, tm_hour=16, tm_min=30, tm_sec=0, tm_wday=4, tm_yday=325, tm_isdst=-1)\n(2014, 47, 5)\nThe day is 21, the month is November, the time is 04:30PM.\n"
     ],
     "output_type": "stream"
    }
   ],
   "source": "from datetime import datetime, date, time\n\nd1 = date(2015, 8, 1)\nt1 = time(12, 30)\nprint(datetime.combine(d1, t1))\n\nprint(datetime.now())\nprint(datetime.utcnow())\n\ndt1 = datetime.strptime(\"21/11/14 16:30\", \"%d/%m/%y %H:%M\")\nprint(dt1)\n\nprint(dt1.timetuple())\n\nprint(dt1.isocalendar())\n\nprint('The {1} is {0:%d}, the {2} is {0:%B}, the {3} is {0:%I:%M%p}.'.format(dt1, \"day\", \"month\", \"time\"))",
   "metadata": {
    "pycharm": {
     "metadata": false,
     "name": "#%%\n",
     "is_executing": false
    }
   }
  }
 ],
 "metadata": {
  "language_info": {
   "codemirror_mode": {
    "name": "ipython",
    "version": 2
   },
   "file_extension": ".py",
   "mimetype": "text/x-python",
   "name": "python",
   "nbconvert_exporter": "python",
   "pygments_lexer": "ipython2",
   "version": "2.7.6"
  },
  "kernelspec": {
   "name": "python3",
   "language": "python",
   "display_name": "Python 3"
  },
  "stem_cell": {
   "cell_type": "raw",
   "source": "",
   "metadata": {
    "pycharm": {
     "metadata": false
    }
   }
  },
  "pycharm": {
   "stem_cell": {
    "cell_type": "raw",
    "source": [],
    "metadata": {
     "collapsed": false
    }
   }
  }
 },
 "nbformat": 4,
 "nbformat_minor": 0
}