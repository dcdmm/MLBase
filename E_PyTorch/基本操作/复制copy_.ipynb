{
 "cells": [
  {
   "cell_type": "code",
   "execution_count": 1,
   "metadata": {
    "collapsed": true
   },
   "outputs": [],
   "source": [
    "import torch"
   ]
  },
  {
   "cell_type": "code",
   "execution_count": 2,
   "outputs": [
    {
     "data": {
      "text/plain": "tensor([[0.],\n        [1.],\n        [2.]], grad_fn=<ViewBackward>)"
     },
     "execution_count": 2,
     "metadata": {},
     "output_type": "execute_result"
    }
   ],
   "source": [
    "init = torch.arange(3, dtype=torch.float32, requires_grad=True).reshape(3, 1)\n",
    "init"
   ],
   "metadata": {
    "collapsed": false,
    "pycharm": {
     "name": "#%%\n"
    }
   }
  },
  {
   "cell_type": "code",
   "execution_count": 3,
   "outputs": [
    {
     "data": {
      "text/plain": "tensor([[3.2483e+33, 1.9690e-19, 6.8589e+22, 1.3340e+31, 1.1708e-19],\n        [7.2128e+22, 9.2216e+29, 7.5546e+31, 1.6932e+22, 3.0728e+32],\n        [2.9514e+29, 2.8940e+12, 7.5338e+28, 1.8037e+28, 3.4740e-12]])"
     },
     "execution_count": 3,
     "metadata": {},
     "output_type": "execute_result"
    }
   ],
   "source": [
    "init_co = torch.empty((3, 5))\n",
    "init_co"
   ],
   "metadata": {
    "collapsed": false,
    "pycharm": {
     "name": "#%%\n"
    }
   }
  },
  {
   "cell_type": "code",
   "execution_count": 4,
   "outputs": [
    {
     "data": {
      "text/plain": "tensor([[0., 0., 0., 0., 0.],\n        [1., 1., 1., 1., 1.],\n        [2., 2., 2., 2., 2.]], grad_fn=<CopyBackwards>)"
     },
     "execution_count": 4,
     "metadata": {},
     "output_type": "execute_result"
    }
   ],
   "source": [
    "init_co.copy_(init)  # 将 数据从init复制到init_co(支持广播机制)\n",
    "init_co  # int_co没有脱离计算图"
   ],
   "metadata": {
    "collapsed": false,
    "pycharm": {
     "name": "#%%\n"
    }
   }
  },
  {
   "cell_type": "code",
   "execution_count": 5,
   "outputs": [
    {
     "data": {
      "text/plain": "tensor([[-1., -1., -1., -1., -1.],\n        [-1., -1., -1., -1., -1.],\n        [-1., -1., -1., -1., -1.]], grad_fn=<FillBackward0>)"
     },
     "execution_count": 5,
     "metadata": {},
     "output_type": "execute_result"
    }
   ],
   "source": [
    "init_co.fill_(-1)\n",
    "init_co"
   ],
   "metadata": {
    "collapsed": false,
    "pycharm": {
     "name": "#%%\n"
    }
   }
  },
  {
   "cell_type": "code",
   "execution_count": 6,
   "outputs": [
    {
     "data": {
      "text/plain": "tensor([[0.],\n        [1.],\n        [2.]], grad_fn=<ViewBackward>)"
     },
     "execution_count": 6,
     "metadata": {},
     "output_type": "execute_result"
    }
   ],
   "source": [
    "init  # init_co不与init共享内存"
   ],
   "metadata": {
    "collapsed": false,
    "pycharm": {
     "name": "#%%\n"
    }
   }
  },
  {
   "cell_type": "code",
   "execution_count": 7,
   "outputs": [
    {
     "data": {
      "text/plain": "tensor([[0., 0., 0., 0., 0.],\n        [1., 1., 1., 1., 1.],\n        [2., 2., 2., 2., 2.]])"
     },
     "execution_count": 7,
     "metadata": {},
     "output_type": "execute_result"
    }
   ],
   "source": [
    "init_co_data = torch.empty((3, 5))\n",
    "init_co_data.data.copy_(init)\n",
    "init_co_data"
   ],
   "metadata": {
    "collapsed": false,
    "pycharm": {
     "name": "#%%\n"
    }
   }
  },
  {
   "cell_type": "code",
   "execution_count": 8,
   "outputs": [
    {
     "name": "stdout",
     "output_type": "stream",
     "text": [
      "tensor([[-1., -1., -1., -1., -1.],\n",
      "        [-1., -1., -1., -1., -1.],\n",
      "        [-1., -1., -1., -1., -1.]])\n",
      "tensor([[0.],\n",
      "        [1.],\n",
      "        [2.]], grad_fn=<ViewBackward>)\n"
     ]
    }
   ],
   "source": [
    "init_co_data.fill_(-1)\n",
    "print(init_co_data)\n",
    "print(init)  # 此时既脱离了计算图又不共享内存"
   ],
   "metadata": {
    "collapsed": false,
    "pycharm": {
     "name": "#%%\n"
    }
   }
  },
  {
   "cell_type": "code",
   "execution_count": 9,
   "outputs": [
    {
     "data": {
      "text/plain": "tensor([[0., 0., 0., 0., 0.],\n        [1., 1., 1., 1., 1.],\n        [2., 2., 2., 2., 2.]])"
     },
     "execution_count": 9,
     "metadata": {},
     "output_type": "execute_result"
    }
   ],
   "source": [
    "init_co_detach = torch.empty((3, 5))\n",
    "init_co_detach.detach().copy_(init)\n",
    "init_co_detach"
   ],
   "metadata": {
    "collapsed": false,
    "pycharm": {
     "name": "#%%\n"
    }
   }
  },
  {
   "cell_type": "code",
   "execution_count": 10,
   "outputs": [
    {
     "name": "stdout",
     "output_type": "stream",
     "text": [
      "tensor([[-1., -1., -1., -1., -1.],\n",
      "        [-1., -1., -1., -1., -1.],\n",
      "        [-1., -1., -1., -1., -1.]])\n",
      "tensor([[0.],\n",
      "        [1.],\n",
      "        [2.]], grad_fn=<ViewBackward>)\n"
     ]
    }
   ],
   "source": [
    "init_co_detach.fill_(-1)\n",
    "print(init_co_detach)\n",
    "print(init)  # 此时既脱离了计算图又不共享内存\n"
   ],
   "metadata": {
    "collapsed": false,
    "pycharm": {
     "name": "#%%\n"
    }
   }
  }
 ],
 "metadata": {
  "kernelspec": {
   "display_name": "Python 3",
   "language": "python",
   "name": "python3"
  },
  "language_info": {
   "codemirror_mode": {
    "name": "ipython",
    "version": 2
   },
   "file_extension": ".py",
   "mimetype": "text/x-python",
   "name": "python",
   "nbconvert_exporter": "python",
   "pygments_lexer": "ipython2",
   "version": "2.7.6"
  }
 },
 "nbformat": 4,
 "nbformat_minor": 0
}