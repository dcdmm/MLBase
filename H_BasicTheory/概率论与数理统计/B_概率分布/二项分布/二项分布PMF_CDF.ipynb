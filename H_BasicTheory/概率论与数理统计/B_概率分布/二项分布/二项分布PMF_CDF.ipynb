{
 "cells": [
  {
   "cell_type": "markdown",
   "metadata": {
    "collapsed": true,
    "pycharm": {
     "is_executing": false,
     "name": "#%% md\n"
    }
   },
   "source": [
    "## 概率质量函数（Probability Mass Function）\n",
    "根据密度分布函数来计算"
   ]
  },
  {
   "cell_type": "code",
   "execution_count": 1,
   "metadata": {
    "pycharm": {
     "is_executing": false,
     "metadata": false,
     "name": "#%%\n"
    },
    "ExecuteTime": {
     "end_time": "2023-05-31T11:36:11.628564400Z",
     "start_time": "2023-05-31T11:36:09.253769700Z"
    }
   },
   "outputs": [
    {
     "name": "stderr",
     "output_type": "stream",
     "text": [
      "<frozen importlib._bootstrap>:219: RuntimeWarning: scipy._lib.messagestream.MessageStream size changed, may indicate binary incompatibility. Expected 56 from C header, got 64 from PyObject\n"
     ]
    },
    {
     "name": "stdout",
     "output_type": "stream",
     "text": [
      "pmf(X=1) = 0.12106082099999989\n",
      "pmf(X=7) = 0.009001691999999992\n"
     ]
    },
    {
     "data": {
      "text/plain": "<matplotlib.collections.PathCollection at 0x21822adf640>"
     },
     "execution_count": 1,
     "metadata": {},
     "output_type": "execute_result"
    },
    {
     "data": {
      "text/plain": "<Figure size 640x480 with 1 Axes>",
      "image/png": "[encoded data removed]"
     },
     "metadata": {},
     "output_type": "display_data"
    }
   ],
   "source": [
    "from scipy.stats import binom\n",
    "import numpy as np\n",
    "import matplotlib.pyplot as plt\n",
    "\n",
    "# likelihood of x and y\n",
    "x = 1\n",
    "y = 7\n",
    "print(\"pmf(X=1) = {}\\npmf(X=7) = {}\".format(binom.pmf(k=x, p=0.3, n=10), binom.pmf(k=y, p=0.3, n=10)))\n",
    "# pmf(k, n, p, loc=0)\tProbability mass function.\n",
    "\n",
    "# continuous pdf for the plot\n",
    "x_s = np.arange(11)\n",
    "y_s = binom.pmf(k=x_s, p=0.3, n=10)\n",
    "plt.scatter(x_s, y_s, s=100)"
   ]
  },
  {
   "cell_type": "markdown",
   "source": [
    "## 累积概率密度函数（Cumulative Probability Density Function）"
   ],
   "metadata": {
    "collapsed": false
   }
  },
  {
   "cell_type": "code",
   "execution_count": 2,
   "metadata": {
    "pycharm": {
     "is_executing": false,
     "metadata": false,
     "name": "#%%\n"
    },
    "ExecuteTime": {
     "end_time": "2023-05-31T11:36:11.628564400Z",
     "start_time": "2023-05-31T11:36:11.618464700Z"
    }
   },
   "outputs": [
    {
     "name": "stdout",
     "output_type": "stream",
     "text": [
      "P(X <=3) = 0.6496107184000002\n",
      "P(2 <= X <= 8) = 0.8505479682000001\n"
     ]
    }
   ],
   "source": [
    "from scipy.stats import binom\n",
    "\n",
    "# probability of x less or equal 0.3\n",
    "print(\"P(X <=3) = {}\".format(binom.cdf(k=3, p=0.3, n=10)))\n",
    "#cdf(k, n, p, loc=0)\tCumulative distribution function.\n",
    "\n",
    "# probability of x in [-0.2, +0.2]\n",
    "print(\"P(2 <= X <= 8) = {}\".format(binom.cdf(k=8, p=0.3, n=10) - binom.cdf(k=1, p=0.3, n=10)))"
   ]
  }
 ],
 "metadata": {
  "kernelspec": {
   "display_name": "Python 3",
   "language": "python",
   "name": "python3"
  },
  "language_info": {
   "codemirror_mode": {
    "name": "ipython",
    "version": 3
   },
   "file_extension": ".py",
   "mimetype": "text/x-python",
   "name": "python",
   "nbconvert_exporter": "python",
   "pygments_lexer": "ipython3",
   "version": "3.7.3"
  },
  "pycharm": {
   "stem_cell": {
    "cell_type": "raw",
    "source": [],
    "metadata": {
     "collapsed": false
    }
   }
  }
 },
 "nbformat": 4,
 "nbformat_minor": 1
}
