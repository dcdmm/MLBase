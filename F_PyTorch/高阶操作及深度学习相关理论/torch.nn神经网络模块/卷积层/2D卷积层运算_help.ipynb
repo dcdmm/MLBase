{
 "cells": [
  {
   "cell_type": "markdown",
   "metadata": {},
   "source": [
    "## 卷积计算\n",
    "\n",
    "\n",
    "### 卷积运算的计算顺序\n",
    "<img src=\"../../../../Other/img/CNN卷积运算.png\">\n",
    "\n",
    "<img src=\"../../../../Other/img/CNN卷积运算1.gif\">\n",
    "\n",
    "\n",
    "### 卷积运算的偏置\n",
    "<img src=\"../../../../Other/img/CNN卷积运算偏置.png\">\n",
    "\n",
    "\n",
    "## 填充\n",
    "<img src=\"../../../../Other/img/CNN填充.png\">\n",
    "\n",
    "\n",
    "## 步幅\n",
    "<img src=\"../../../../Other/img/CNN步幅.png\">\n",
    "\n",
    "\n",
    "&emsp;&emsp;若假设输入大小为$(H,W)$,滤波器大小为$(FH,FW)$,输出大小为$(OH,OW)$,填充为$(PH,PW)$,步幅为$(SH,SW)$,若采用向下取整有(不考虑空洞卷积)\n",
    "\n",
    "\\begin{array}{l}\n",
    "OH &= \\lfloor \\frac{H-FH+2*PH+SH}{SH}  \\rfloor \\\\\n",
    "OW &= \\lfloor \\frac{W-FW+2*PW+SW}{SW}  \\rfloor \\\\\n",
    "\\end{array}\n",
    "\n",
    "卷积神经网络经常用奇数高宽的卷积核,如1,3,5,7.\n",
    "\n",
    "\n",
    "## 3通道数据的卷积运算\n",
    "<img src=\"../../../../Other/img/3通道卷积运算0.jpg\">\n",
    "\n",
    "在3通道数据的卷积运算中,输入数据和滤波器的通道数要设为相同的值\n",
    "\n",
    "<img src=\"../../../../Other/img/3通道卷积运算1.jpg\">\n",
    "\n",
    "<img src=\"../../../../Other/img/3通道卷积运算2.gif\">\n",
    "\n",
    "书写顺序为:(channel,height, width)\n",
    "\n",
    "### 基于多个滤波器的卷积运算\n",
    "\n",
    "<img src=\"../../../../Other/img/多通道0.jpg\">\n",
    "\n",
    "通过应用FN个滤波器,输出特征图也生成了FN个.如果将这FN个特征图汇集在一起,就得到了形状为$(FN,OH,OW)$的方块.\n",
    "\n",
    "滤波器书写顺序为:(channel,height, width).比如,通道数为3,大小为$5 \\times 7$的滤波器有20个时,可以写成(20, 3, 5, 7).\n",
    "\n",
    "<img src=\"../../../../Other/img/多通道1.jpg\">\n",
    "\n",
    "每个通道都有一个偏置.故偏置的形状是$(FN, 1, 1)$,滤波器的输出结果的形状仍然是是$(FN,OH,OW)$\n",
    "\n",
    "\n",
    "## 批处理\n",
    "\n",
    "<img src=\"../../../../Other/img/CNN批处理.jpg\">\n",
    "\n",
    "通过批处理,能够实现处理的高效化和学习时对mini-batch的对应.具体上讲,就是按(batch_num,channel, height, width)的顺序保存数据."
   ]
  },
  {
   "cell_type": "code",
   "execution_count": null,
   "metadata": {},
   "outputs": [],
   "source": []
  }
 ],
 "metadata": {
  "kernelspec": {
   "display_name": "Python 3",
   "language": "python",
   "name": "python3"
  },
  "language_info": {
   "codemirror_mode": {
    "name": "ipython",
    "version": 3
   },
   "file_extension": ".py",
   "mimetype": "text/x-python",
   "name": "python",
   "nbconvert_exporter": "python",
   "pygments_lexer": "ipython3",
   "version": "3.7.7"
  },
  "toc": {
   "base_numbering": 1,
   "nav_menu": {},
   "number_sections": false,
   "sideBar": true,
   "skip_h1_title": false,
   "title_cell": "Table of Contents",
   "title_sidebar": "Contents",
   "toc_cell": false,
   "toc_position": {
    "height": "calc(100% - 180px)",
    "left": "10px",
    "top": "150px",
    "width": "284.444px"
   },
   "toc_section_display": true,
   "toc_window_display": true
  }
 },
 "nbformat": 4,
 "nbformat_minor": 4
}
