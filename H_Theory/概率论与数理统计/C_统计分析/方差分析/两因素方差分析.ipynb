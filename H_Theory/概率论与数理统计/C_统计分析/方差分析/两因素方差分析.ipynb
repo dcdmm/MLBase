{
 "cells": [
  {
   "cell_type": "markdown",
   "metadata": {
    "pycharm": {
     "name": "#%% md\n"
    }
   },
   "source": [
    "<center>Two-way Analysis of Variance (ANOVA)</center>     \n",
    "&emsp;&emsp;The model is formulated using the \"patsy\" formula description. This is very\n",
    "similar to the way models are expressed in R."
   ]
  },
  {
   "cell_type": "code",
   "execution_count": 3,
   "metadata": {
    "pycharm": {
     "is_executing": false,
     "name": "#%%\n"
    }
   },
   "outputs": [],
   "source": [
    "import numpy as np\n",
    "import pandas as pd\n",
    "from statsmodels.formula.api import ols\n",
    "from statsmodels.stats.anova import anova_lm\n",
    "\n",
    "def anova_interaction():\n",
    "    \"\"\"ANOVA with interaction: Measurement of fetal head circumference,\n",
    "    by four observers in three fetuses, from a study investigating the\n",
    "    reproducibility of ultrasonic fetal head circumference data.\n",
    "    \"\"\"\n",
    "\n",
    "    inFile = 'altman_12_6.txt'\n",
    "    data = np.genfromtxt(inFile, delimiter=',')\n",
    "    \n",
    "    # Bring them in DataFrame-format\n",
    "    df = pd.DataFrame(data, columns=['hs', 'fetus', 'observer'])\n",
    "    \n",
    "    # Determine the ANOVA with interaction\n",
    "    formula = 'hs ~ C(fetus) + C(observer) + C(fetus):C(observer)'\n",
    "    lm = ols(formula, df).fit()\n",
    "    anovaResults = anova_lm(lm)\n",
    "    print(anovaResults, end='\\n\\n')\n",
    "    later_anovaResults = pd.DataFrame(anovaResults.values, index=['因素fetus', '因素observer', '交互效应', '误差(处理组内)'], \n",
    "                                      columns=['自由度', '离差平方和', '均方', 'F值', 'P值'])\n",
    "    \n",
    "    return  later_anovaResults"
   ]
  },
  {
   "cell_type": "code",
   "execution_count": 4,
   "metadata": {
    "pycharm": {
     "is_executing": false,
     "metadata": false,
     "name": "#%%\n"
    }
   },
   "outputs": [
    {
     "name": "stdout",
     "output_type": "stream",
     "text": [
      "                        df      sum_sq     mean_sq            F        PR(>F)\n",
      "C(fetus)               2.0  324.008889  162.004444  2113.101449  1.051039e-27\n",
      "C(observer)            3.0    1.198611    0.399537     5.211353  6.497055e-03\n",
      "C(fetus):C(observer)   6.0    0.562222    0.093704     1.222222  3.295509e-01\n",
      "Residual              24.0    1.840000    0.076667          NaN           NaN\n",
      "\n"
     ]
    },
    {
     "data": {
      "text/html": [
       "<div>\n",
       "<style scoped>\n",
       "    .dataframe tbody tr th:only-of-type {\n",
       "        vertical-align: middle;\n",
       "    }\n",
       "\n",
       "    .dataframe tbody tr th {\n",
       "        vertical-align: top;\n",
       "    }\n",
       "\n",
       "    .dataframe thead th {\n",
       "        text-align: right;\n",
       "    }\n",
       "</style>\n",
       "<table border=\"1\" class=\"dataframe\">\n",
       "  <thead>\n",
       "    <tr style=\"text-align: right;\">\n",
       "      <th></th>\n",
       "      <th>自由度</th>\n",
       "      <th>离差平方和</th>\n",
       "      <th>均方</th>\n",
       "      <th>F值</th>\n",
       "      <th>P值</th>\n",
       "    </tr>\n",
       "  </thead>\n",
       "  <tbody>\n",
       "    <tr>\n",
       "      <th>因素fetus</th>\n",
       "      <td>2.0</td>\n",
       "      <td>324.008889</td>\n",
       "      <td>162.004444</td>\n",
       "      <td>2113.101449</td>\n",
       "      <td>1.051039e-27</td>\n",
       "    </tr>\n",
       "    <tr>\n",
       "      <th>因素observer</th>\n",
       "      <td>3.0</td>\n",
       "      <td>1.198611</td>\n",
       "      <td>0.399537</td>\n",
       "      <td>5.211353</td>\n",
       "      <td>6.497055e-03</td>\n",
       "    </tr>\n",
       "    <tr>\n",
       "      <th>交互效应</th>\n",
       "      <td>6.0</td>\n",
       "      <td>0.562222</td>\n",
       "      <td>0.093704</td>\n",
       "      <td>1.222222</td>\n",
       "      <td>3.295509e-01</td>\n",
       "    </tr>\n",
       "    <tr>\n",
       "      <th>误差(处理组内)</th>\n",
       "      <td>24.0</td>\n",
       "      <td>1.840000</td>\n",
       "      <td>0.076667</td>\n",
       "      <td>NaN</td>\n",
       "      <td>NaN</td>\n",
       "    </tr>\n",
       "  </tbody>\n",
       "</table>\n",
       "</div>"
      ],
      "text/plain": [
       "             自由度       离差平方和          均方           F值            P值\n",
       "因素fetus      2.0  324.008889  162.004444  2113.101449  1.051039e-27\n",
       "因素observer   3.0    1.198611    0.399537     5.211353  6.497055e-03\n",
       "交互效应         6.0    0.562222    0.093704     1.222222  3.295509e-01\n",
       "误差(处理组内)    24.0    1.840000    0.076667          NaN           NaN"
      ]
     },
     "execution_count": 4,
     "metadata": {},
     "output_type": "execute_result"
    }
   ],
   "source": [
    "anova_interaction()"
   ]
  }
 ],
 "metadata": {
  "kernelspec": {
   "display_name": "Python 3",
   "language": "python",
   "name": "python3"
  },
  "language_info": {
   "codemirror_mode": {
    "name": "ipython",
    "version": 3
   },
   "file_extension": ".py",
   "mimetype": "text/x-python",
   "name": "python",
   "nbconvert_exporter": "python",
   "pygments_lexer": "ipython3",
   "version": "3.7.7"
  },
  "pycharm": {
   "stem_cell": {
    "cell_type": "raw",
    "metadata": {
     "collapsed": false
    },
    "source": []
   }
  },
  "toc": {
   "base_numbering": 1,
   "nav_menu": {},
   "number_sections": true,
   "sideBar": true,
   "skip_h1_title": false,
   "title_cell": "Table of Contents",
   "title_sidebar": "Contents",
   "toc_cell": false,
   "toc_position": {},
   "toc_section_display": true,
   "toc_window_display": false
  }
 },
 "nbformat": 4,
 "nbformat_minor": 1
}
