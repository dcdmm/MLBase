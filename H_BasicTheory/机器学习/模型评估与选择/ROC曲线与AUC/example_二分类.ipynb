{
 "cells": [
  {
   "cell_type": "code",
   "execution_count": 1,
   "metadata": {
    "collapsed": true
   },
   "outputs": [],
   "source": [
    "from sklearn.metrics import roc_auc_score\n",
    "from sklearn.metrics import roc_curve\n",
    "from sklearn.metrics import plot_roc_curve\n",
    "from sklearn import datasets\n",
    "import copy\n",
    "from sklearn.model_selection import train_test_split\n",
    "from sklearn.linear_model import LogisticRegression\n",
    "import matplotlib.pyplot as plt\n",
    "import matplotlib\n",
    "\n",
    "matplotlib.rcParams['font.sans-serif'] = ['SimHei']\n",
    "matplotlib.rcParams['axes.unicode_minus'] = False"
   ]
  },
  {
   "cell_type": "code",
   "execution_count": 2,
   "outputs": [
    {
     "data": {
      "text/plain": "LogisticRegression(max_iter=10000, solver='sag')"
     },
     "execution_count": 2,
     "metadata": {},
     "output_type": "execute_result"
    }
   ],
   "source": [
    "digits = datasets.load_digits()  # 手写数字数据集\n",
    "X = digits.data\n",
    "y = copy.deepcopy(digits.target)\n",
    "y[digits.target == 9] = 1\n",
    "y[digits.target != 9] = 0  # 使数据类别不平衡(使其变为二分类问题)\n",
    "X_train, X_test, y_train, y_test = train_test_split(X, y, random_state=666)\n",
    "log_reg = LogisticRegression(solver='sag', max_iter=10000)\n",
    "log_reg.fit(X_train, y_train)"
   ],
   "metadata": {
    "collapsed": false,
    "pycharm": {
     "name": "#%%\n"
    }
   }
  },
  {
   "cell_type": "code",
   "execution_count": 3,
   "outputs": [
    {
     "data": {
      "text/plain": "0.9829903978052126"
     },
     "execution_count": 3,
     "metadata": {},
     "output_type": "execute_result"
    }
   ],
   "source": [
    "decision_scores = log_reg.decision_function(X_test)  # 计算样本到分离超平面的有符号距离\n",
    "fprs, tprs, thresholds = roc_curve(y_test, decision_scores)\n",
    "auc = roc_auc_score(y_true=y_test,\n",
    "                    # In the binary and multilabel cases, these can be either probability estimates or non-thresholded decision values (as returned by decision_function on some classifiers).\n",
    "                    y_score=decision_scores)  # 计算AUC(二分类)\n",
    "auc"
   ],
   "metadata": {
    "collapsed": false,
    "pycharm": {
     "name": "#%%\n"
    }
   }
  },
  {
   "cell_type": "code",
   "execution_count": 4,
   "outputs": [
    {
     "data": {
      "text/plain": "<Figure size 432x288 with 1 Axes>",
      "image/png": "[encoded data removed]"
     },
     "metadata": {
      "needs_background": "light"
     },
     "output_type": "display_data"
    }
   ],
   "source": [
    "plt.plot(thresholds, fprs, label='假正例率')\n",
    "plt.plot(thresholds, tprs, label='真正例率')\n",
    "plt.xlabel('thresholds', color='red', size=20)\n",
    "plt.ylabel('TPR or FPR', color='red', size=20)\n",
    "plt.legend()\n",
    "plt.show()"
   ],
   "metadata": {
    "collapsed": false,
    "pycharm": {
     "name": "#%%\n"
    }
   }
  },
  {
   "cell_type": "code",
   "execution_count": 7,
   "outputs": [
    {
     "data": {
      "text/plain": "array([0.        , 0.        , 0.        , 0.00246914, 0.00246914,\n       0.00493827, 0.00493827, 0.00740741, 0.00740741, 0.01481481,\n       0.01481481, 0.01728395, 0.01728395, 0.03209877, 0.03209877,\n       0.04938272, 0.04938272, 0.05432099, 0.05432099, 0.08395062,\n       0.08395062, 0.20740741, 0.20740741, 0.25432099, 0.25432099,\n       1.        ])"
     },
     "execution_count": 7,
     "metadata": {},
     "output_type": "execute_result"
    }
   ],
   "source": [
    "fprs"
   ],
   "metadata": {
    "collapsed": false,
    "pycharm": {
     "name": "#%%\n"
    }
   }
  },
  {
   "cell_type": "code",
   "execution_count": 8,
   "outputs": [
    {
     "data": {
      "text/plain": "array([0.        , 0.02222222, 0.51111111, 0.51111111, 0.68888889,\n       0.68888889, 0.8       , 0.8       , 0.82222222, 0.82222222,\n       0.84444444, 0.84444444, 0.86666667, 0.86666667, 0.88888889,\n       0.88888889, 0.91111111, 0.91111111, 0.93333333, 0.93333333,\n       0.95555556, 0.95555556, 0.97777778, 0.97777778, 1.        ,\n       1.        ])"
     },
     "execution_count": 8,
     "metadata": {},
     "output_type": "execute_result"
    }
   ],
   "source": [
    "tprs"
   ],
   "metadata": {
    "collapsed": false,
    "pycharm": {
     "name": "#%%\n"
    }
   }
  },
  {
   "cell_type": "code",
   "execution_count": null,
   "outputs": [],
   "source": [
    "# 手工绘制ROC曲线\n",
    "plt.plot(fprs, tprs, label='ROC曲线,AUC={}'.format(str(auc)))  # 绘制ROC曲线(仅二分类)\n",
    "plt.legend()\n",
    "plt.xlabel('假正例率', color='red', size=20)\n",
    "plt.ylabel('真正例率', color='red', size=20)\n",
    "plt.show()"
   ],
   "metadata": {
    "collapsed": false,
    "pycharm": {
     "name": "#%%\n"
    }
   }
  },
  {
   "cell_type": "code",
   "execution_count": 6,
   "outputs": [
    {
     "data": {
      "text/plain": "<sklearn.metrics._plot.roc_curve.RocCurveDisplay at 0x2c4e9611a30>"
     },
     "execution_count": 6,
     "metadata": {},
     "output_type": "execute_result"
    },
    {
     "data": {
      "text/plain": "<Figure size 432x288 with 1 Axes>",
      "image/png": "[encoded data removed]"
     },
     "metadata": {
      "needs_background": "light"
     },
     "output_type": "display_data"
    }
   ],
   "source": [
    "# sklearn包绘制\n",
    "plot_roc_curve(log_reg, X_test, y_test)"
   ],
   "metadata": {
    "collapsed": false,
    "pycharm": {
     "name": "#%%\n"
    }
   }
  },
  {
   "cell_type": "code",
   "execution_count": 6,
   "outputs": [],
   "source": [
    "\n",
    "\n",
    "\n"
   ],
   "metadata": {
    "collapsed": false,
    "pycharm": {
     "name": "#%%\n"
    }
   }
  }
 ],
 "metadata": {
  "kernelspec": {
   "display_name": "Python 3",
   "language": "python",
   "name": "python3"
  },
  "language_info": {
   "codemirror_mode": {
    "name": "ipython",
    "version": 2
   },
   "file_extension": ".py",
   "mimetype": "text/x-python",
   "name": "python",
   "nbconvert_exporter": "python",
   "pygments_lexer": "ipython2",
   "version": "2.7.6"
  }
 },
 "nbformat": 4,
 "nbformat_minor": 0
}