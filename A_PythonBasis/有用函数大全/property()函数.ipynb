{
 "cells": [
  {
   "cell_type": "code",
   "execution_count": null,
   "outputs": [],
   "source": [
    "'''\n",
    "property(fget=None, fset=None, fdel=None, doc=None) -> property attribute\n",
    "\n",
    "fget is a function to be used for getting an attribute value, and likewise\n",
    "fset is a function for setting, and fdel a function for del'ing, an\n",
    "attribute.  Typical use is to define a managed attribute x:\n",
    "\n",
    "class C(object):\n",
    "    def getx(self): return self._x\n",
    "    def setx(self, value): self._x = value\n",
    "    def delx(self): del self._x\n",
    "    x = property(getx, setx, delx, \"I'm the 'x' property.\")\n",
    "\n",
    "Decorators make defining new properties or modifying existing ones easy:\n",
    "\n",
    "class C(object):\n",
    "    @property\n",
    "    def x(self):\n",
    "        \"I am the 'x' property.\"\n",
    "        return self._x\n",
    "    @x.setter\n",
    "    def x(self, value):\n",
    "        self._x = value\n",
    "    @x.deleter\n",
    "    def x(self):\n",
    "        del self._x\n",
    "'''"
   ],
   "metadata": {
    "collapsed": false,
    "pycharm": {
     "name": "#%%\n"
    }
   }
  },
  {
   "cell_type": "code",
   "execution_count": 14,
   "metadata": {
    "collapsed": false,
    "pycharm": {
     "is_executing": false
    }
   },
   "outputs": [
    {
     "name": "stdout",
     "text": [
      "10\n12\n"
     ],
     "output_type": "stream"
    }
   ],
   "source": [
    "class C:\n",
    "    def __init__(self, size=10):\n",
    "        self.size = size\n",
    "    \n",
    "    def getsize(self):\n",
    "        return self.size\n",
    "    \n",
    "    def setsize(self,value):\n",
    "        self.size = value\n",
    "    \n",
    "    def delsize(self):\n",
    "        del self.size\n",
    "    \n",
    "    x = property(getsize, setsize, delsize) # 把方法当属性来操作\n",
    "\n",
    "c = C()\n",
    "print(c.x)  # 触发了getsize()方法\n",
    "c.x = 12    # 触发了setsize()方法\n",
    "print(c.x)\n",
    "del c.x     # 触发了delsize()方法"
   ]
  },
  {
   "cell_type": "code",
   "execution_count": 3,
   "outputs": [
    {
     "name": "stdout",
     "text": [
      "10\n12\n"
     ],
     "output_type": "stream"
    }
   ],
   "source": "class D: # 与上等价\n    def __init__(self, _x=10):\n        self._x = _x\n \n    @property\n    def x(self):\n        \"\"\"I'm the 'x' property.\"\"\"\n        return self._x\n \n    @x.setter\n    def x(self, value):\n        self._x = value\n \n    @x.deleter\n    def x(self):\n        del self._x\n\nd = D()\nprint(d.x)  \nd.x = 12   \nprint(d.x)\ndel d.x ",
   "metadata": {
    "pycharm": {
     "metadata": false,
     "name": "#%%\n",
     "is_executing": false
    }
   }
  },
  {
   "cell_type": "code",
   "execution_count": null,
   "outputs": [],
   "source": "\n",
   "metadata": {
    "pycharm": {
     "metadata": false,
     "name": "#%%\n"
    }
   }
  }
 ],
 "metadata": {
  "kernelspec": {
   "name": "python3",
   "language": "python",
   "display_name": "Python 3"
  },
  "language_info": {
   "codemirror_mode": {
    "name": "ipython",
    "version": 2
   },
   "file_extension": ".py",
   "mimetype": "text/x-python",
   "name": "python",
   "nbconvert_exporter": "python",
   "pygments_lexer": "ipython2",
   "version": "2.7.6"
  },
  "pycharm": {
   "stem_cell": {
    "cell_type": "raw",
    "source": [],
    "metadata": {
     "collapsed": false
    }
   }
  }
 },
 "nbformat": 4,
 "nbformat_minor": 0
}