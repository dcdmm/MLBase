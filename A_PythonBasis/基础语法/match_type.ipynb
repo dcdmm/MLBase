{
 "cells": [
  {
   "cell_type": "code",
   "execution_count": null,
   "metadata": {
    "collapsed": true
   },
   "outputs": [],
   "source": [
    "# python3.10新增\n",
    "\n",
    "import numpy as np\n",
    "\n",
    "\n",
    "def match_type(e):\n",
    "    match e:\n",
    "        case i if isinstance(i, int):\n",
    "            return \"int object\"\n",
    "        case i if isinstance(i, str):\n",
    "            return \"str object\"\n",
    "        case i if isinstance(i, list):\n",
    "            return \"list object\"\n",
    "        case i if isinstance(i, np.ndarray):\n",
    "            return \"array object\"\n",
    "        case i:\n",
    "            return i\n",
    "\n",
    "\n",
    "print(match_type(\"duanchao\"))  # str object\n",
    "print(match_type(123456))  # int object\n",
    "print(match_type([1, 2, 3, 4, 5]))  # list object\n",
    "print(match_type(np.array([1, 2, 3, 4, 5])))  # array object\n",
    "print(match_type({\"a\": 2, \"b\": 3}))  # {'a': 2, 'b': 3}"
   ]
  }
 ],
 "metadata": {
  "kernelspec": {
   "display_name": "Python 3",
   "language": "python",
   "name": "python3"
  },
  "language_info": {
   "codemirror_mode": {
    "name": "ipython",
    "version": 2
   },
   "file_extension": ".py",
   "mimetype": "text/x-python",
   "name": "python",
   "nbconvert_exporter": "python",
   "pygments_lexer": "ipython2",
   "version": "2.7.6"
  }
 },
 "nbformat": 4,
 "nbformat_minor": 0
}