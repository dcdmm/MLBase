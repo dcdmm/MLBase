{
 "cells": [
  {
   "cell_type": "code",
   "execution_count": 37,
   "metadata": {},
   "outputs": [],
   "source": [
    "import time\n",
    "from tqdm import tqdm\n",
    "import math"
   ]
  },
  {
   "cell_type": "code",
   "execution_count": 38,
   "metadata": {
    "pycharm": {
     "name": "#%%\n"
    }
   },
   "outputs": [
    {
     "name": "stderr",
     "output_type": "stream",
     "text": [
      "Processing 99: 100%|████████████████████████████████████████| 100/100 [00:10<00:00,  9.61it/s, accuray=0.99, loss=9.95]\n"
     ]
    }
   ],
   "source": [
    "my_range = range(0, 100)\n",
    "pbar = tqdm(my_range)\n",
    "for char in pbar:\n",
    "    pbar.set_description(\"Processing %d\" % char)  # 在进度条前面设置描述\n",
    "    pbar.set_postfix(loss=math.sqrt(char), accuray=char / 100)  # 在进度条最后设置其他显示\n",
    "    time.sleep(0.1)  # 每迭代一次执行一次time.sleep(0.2)"
   ]
  },
  {
   "cell_type": "code",
   "execution_count": 48,
   "metadata": {
    "pycharm": {
     "name": "#%%\n"
    }
   },
   "outputs": [
    {
     "name": "stderr",
     "output_type": "stream",
     "text": [
      "  0%|                                                                                            | 0/1 [00:00<?, ?it/s]\n",
      "  0%|                                                                                           | 0/20 [00:00<?, ?it/s]\u001B[A\n",
      "Processing 0:   0%|                                                                             | 0/20 [00:00<?, ?it/s]\u001B[A\n",
      "Processing 0:   0%|                                                          | 0/20 [00:00<?, ?it/s, accuray=0, loss=1]\u001B[A\n",
      "Processing 0:   5%|██▌                                               | 1/20 [00:00<00:02,  9.03it/s, accuray=0, loss=1]\u001B[A\n",
      "Processing 5:   5%|██▌                                               | 1/20 [00:00<00:02,  9.03it/s, accuray=0, loss=1]\u001B[A\n",
      "Processing 5:   5%|██▏                                         | 1/20 [00:00<00:02,  9.03it/s, accuray=0.05, loss=2.45]\u001B[A\n",
      "Processing 5:  10%|████▍                                       | 2/20 [00:00<00:01,  9.06it/s, accuray=0.05, loss=2.45]\u001B[A\n",
      "Processing 10:  10%|████▎                                      | 2/20 [00:00<00:01,  9.06it/s, accuray=0.05, loss=2.45]\u001B[A\n",
      "Processing 10:  10%|████▍                                       | 2/20 [00:00<00:01,  9.06it/s, accuray=0.1, loss=3.32]\u001B[A\n",
      "Processing 10:  15%|██████▌                                     | 3/20 [00:00<00:01,  9.17it/s, accuray=0.1, loss=3.32]\u001B[A\n",
      "Processing 15:  15%|██████▌                                     | 3/20 [00:00<00:01,  9.17it/s, accuray=0.1, loss=3.32]\u001B[A\n",
      "Processing 15:  15%|██████▉                                       | 3/20 [00:00<00:01,  9.17it/s, accuray=0.15, loss=4]\u001B[A\n",
      "Processing 15:  20%|█████████▏                                    | 4/20 [00:00<00:01,  9.13it/s, accuray=0.15, loss=4]\u001B[A\n",
      "Processing 20:  20%|█████████▏                                    | 4/20 [00:00<00:01,  9.13it/s, accuray=0.15, loss=4]\u001B[A\n",
      "Processing 20:  20%|████████▊                                   | 4/20 [00:00<00:01,  9.13it/s, accuray=0.2, loss=4.58]\u001B[A\n",
      "Processing 20:  25%|███████████                                 | 5/20 [00:00<00:01,  9.12it/s, accuray=0.2, loss=4.58]\u001B[A\n",
      "Processing 25:  25%|███████████                                 | 5/20 [00:00<00:01,  9.12it/s, accuray=0.2, loss=4.58]\u001B[A\n",
      "Processing 25:  25%|███████████                                 | 5/20 [00:00<00:01,  9.12it/s, accuray=0.25, loss=5.1]\u001B[A\n",
      "Processing 25:  30%|█████████████▏                              | 6/20 [00:00<00:01,  9.17it/s, accuray=0.25, loss=5.1]\u001B[A\n",
      "Processing 30:  30%|█████████████▏                              | 6/20 [00:00<00:01,  9.17it/s, accuray=0.25, loss=5.1]\u001B[A\n",
      "Processing 30:  30%|█████████████▏                              | 6/20 [00:00<00:01,  9.17it/s, accuray=0.3, loss=5.57]\u001B[A\n",
      "Processing 30:  35%|███████████████▍                            | 7/20 [00:00<00:01,  8.98it/s, accuray=0.3, loss=5.57]\u001B[A\n",
      "Processing 35:  35%|███████████████▍                            | 7/20 [00:00<00:01,  8.98it/s, accuray=0.3, loss=5.57]\u001B[A\n",
      "Processing 35:  35%|████████████████                              | 7/20 [00:00<00:01,  8.98it/s, accuray=0.35, loss=6]\u001B[A\n",
      "Processing 35:  40%|██████████████████▍                           | 8/20 [00:00<00:01,  9.08it/s, accuray=0.35, loss=6]\u001B[A\n",
      "Processing 40:  40%|██████████████████▍                           | 8/20 [00:00<00:01,  9.08it/s, accuray=0.35, loss=6]\u001B[A\n",
      "Processing 40:  40%|██████████████████                           | 8/20 [00:00<00:01,  9.08it/s, accuray=0.4, loss=6.4]\u001B[A\n",
      "Processing 40:  45%|████████████████████▎                        | 9/20 [00:00<00:01,  8.87it/s, accuray=0.4, loss=6.4]\u001B[A\n",
      "Processing 45:  45%|████████████████████▎                        | 9/20 [00:01<00:01,  8.87it/s, accuray=0.4, loss=6.4]\u001B[A\n",
      "Processing 45:  45%|███████████████████▎                       | 9/20 [00:01<00:01,  8.87it/s, accuray=0.45, loss=6.78]\u001B[A\n",
      "Processing 45:  50%|█████████████████████                     | 10/20 [00:01<00:01,  8.95it/s, accuray=0.45, loss=6.78]\u001B[A\n",
      "Processing 50:  50%|█████████████████████                     | 10/20 [00:01<00:01,  8.95it/s, accuray=0.45, loss=6.78]\u001B[A\n",
      "Processing 50:  50%|█████████████████████▌                     | 10/20 [00:01<00:01,  8.95it/s, accuray=0.5, loss=7.14]\u001B[A\n",
      "Processing 50:  55%|███████████████████████▋                   | 11/20 [00:01<00:00,  9.07it/s, accuray=0.5, loss=7.14]\u001B[A\n",
      "Processing 55:  55%|███████████████████████▋                   | 11/20 [00:01<00:00,  9.07it/s, accuray=0.5, loss=7.14]\u001B[A\n",
      "Processing 55:  55%|███████████████████████                   | 11/20 [00:01<00:00,  9.07it/s, accuray=0.55, loss=7.48]\u001B[A\n",
      "Processing 55:  60%|█████████████████████████▏                | 12/20 [00:01<00:00,  9.16it/s, accuray=0.55, loss=7.48]\u001B[A\n",
      "Processing 60:  60%|█████████████████████████▏                | 12/20 [00:01<00:00,  9.16it/s, accuray=0.55, loss=7.48]\u001B[A\n",
      "Processing 60:  60%|█████████████████████████▊                 | 12/20 [00:01<00:00,  9.16it/s, accuray=0.6, loss=7.81]\u001B[A\n",
      "Processing 60:  65%|███████████████████████████▉               | 13/20 [00:01<00:00,  9.16it/s, accuray=0.6, loss=7.81]\u001B[A\n",
      "Processing 65:  65%|███████████████████████████▉               | 13/20 [00:01<00:00,  9.16it/s, accuray=0.6, loss=7.81]\u001B[A\n",
      "Processing 65:  65%|███████████████████████████▎              | 13/20 [00:01<00:00,  9.16it/s, accuray=0.65, loss=8.12]\u001B[A\n",
      "Processing 65:  70%|█████████████████████████████▍            | 14/20 [00:01<00:00,  9.18it/s, accuray=0.65, loss=8.12]\u001B[A\n",
      "Processing 70:  70%|█████████████████████████████▍            | 14/20 [00:01<00:00,  9.18it/s, accuray=0.65, loss=8.12]\u001B[A\n",
      "Processing 70:  70%|██████████████████████████████             | 14/20 [00:01<00:00,  9.18it/s, accuray=0.7, loss=8.43]\u001B[A\n",
      "Processing 70:  75%|████████████████████████████████▎          | 15/20 [00:01<00:00,  9.16it/s, accuray=0.7, loss=8.43]\u001B[A\n",
      "Processing 75:  75%|████████████████████████████████▎          | 15/20 [00:01<00:00,  9.16it/s, accuray=0.7, loss=8.43]\u001B[A\n",
      "Processing 75:  75%|███████████████████████████████▌          | 15/20 [00:01<00:00,  9.16it/s, accuray=0.75, loss=8.72]\u001B[A\n",
      "Processing 75:  80%|█████████████████████████████████▌        | 16/20 [00:01<00:00,  9.20it/s, accuray=0.75, loss=8.72]\u001B[A\n",
      "Processing 80:  80%|█████████████████████████████████▌        | 16/20 [00:01<00:00,  9.20it/s, accuray=0.75, loss=8.72]\u001B[A\n",
      "Processing 80:  80%|████████████████████████████████████▊         | 16/20 [00:01<00:00,  9.20it/s, accuray=0.8, loss=9]\u001B[A\n",
      "Processing 80:  85%|███████████████████████████████████████       | 17/20 [00:01<00:00,  9.17it/s, accuray=0.8, loss=9]\u001B[A\n",
      "Processing 85:  85%|███████████████████████████████████████       | 17/20 [00:01<00:00,  9.17it/s, accuray=0.8, loss=9]\u001B[A\n",
      "Processing 85:  85%|███████████████████████████████████▋      | 17/20 [00:01<00:00,  9.17it/s, accuray=0.85, loss=9.27]\u001B[A\n",
      "Processing 85:  90%|█████████████████████████████████████▊    | 18/20 [00:01<00:00,  9.18it/s, accuray=0.85, loss=9.27]\u001B[A\n",
      "Processing 90:  90%|█████████████████████████████████████▊    | 18/20 [00:01<00:00,  9.18it/s, accuray=0.85, loss=9.27]\u001B[A\n",
      "Processing 90:  90%|██████████████████████████████████████▋    | 18/20 [00:01<00:00,  9.18it/s, accuray=0.9, loss=9.54]\u001B[A\n",
      "Processing 90:  95%|████████████████████████████████████████▊  | 19/20 [00:02<00:00,  9.04it/s, accuray=0.9, loss=9.54]\u001B[A\n",
      "Processing 95:  95%|████████████████████████████████████████▊  | 19/20 [00:02<00:00,  9.04it/s, accuray=0.9, loss=9.54]\u001B[A\n",
      "Processing 95:  95%|████████████████████████████████████████▊  | 19/20 [00:02<00:00,  9.04it/s, accuray=0.95, loss=9.8]\u001B[A\n",
      "Processing 95: 100%|███████████████████████████████████████████| 20/20 [00:02<00:00,  9.09it/s, accuray=0.95, loss=9.8]\u001B[A\n",
      "                                                                                                                       \r"
     ]
    }
   ],
   "source": [
    "# 展示进度条的过程,必须按照以下格式!!!\n",
    "for i in tqdm(range(1), leave=False):\n",
    "    a = tqdm(range(0, 100, 5))  # 不要让range(0, 1000, 50)长度太大,否则造成显示过大\n",
    "    for j in a:\n",
    "        a.set_description(\"Processing %d\" % j)\n",
    "        a.set_postfix(loss=math.sqrt(j + 1), accuray=j / 100)\n",
    "        time.sleep(0.1)"
   ]
  }
 ],
 "metadata": {
  "kernelspec": {
   "display_name": "Python 3",
   "language": "python",
   "name": "python3"
  },
  "language_info": {
   "codemirror_mode": {
    "name": "ipython",
    "version": 3
   },
   "file_extension": ".py",
   "mimetype": "text/x-python",
   "name": "python",
   "nbconvert_exporter": "python",
   "pygments_lexer": "ipython3",
   "version": "3.7.7"
  },
  "toc": {
   "base_numbering": 1,
   "nav_menu": {},
   "number_sections": true,
   "sideBar": true,
   "skip_h1_title": false,
   "title_cell": "Table of Contents",
   "title_sidebar": "Contents",
   "toc_cell": false,
   "toc_position": {},
   "toc_section_display": true,
   "toc_window_display": false
  }
 },
 "nbformat": 4,
 "nbformat_minor": 1
}