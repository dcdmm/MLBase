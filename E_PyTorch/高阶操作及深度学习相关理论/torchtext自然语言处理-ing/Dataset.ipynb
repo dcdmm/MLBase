{
 "cells": [
  {
   "cell_type": "code",
   "execution_count": 81,
   "metadata": {
    "collapsed": true,
    "pycharm": {
     "name": "#%%\n"
    }
   },
   "outputs": [],
   "source": [
    "import torchtext.data as data\n",
    "\n",
    "id_TEXT = data.Field(lower=True)\n",
    "text_TEXT = data.Field(lower=True)\n",
    "keys_TEXT = data.Field(lower=True)\n",
    "\n",
    "# 每条数据'id','text','keys'对应的Fields\n",
    "fields_list = [('id', id_TEXT),\n",
    "               ('text', text_TEXT),\n",
    "               ('keys', keys_TEXT)] # Dataset参数fields的格式"
   ]
  },
  {
   "cell_type": "code",
   "execution_count": 82,
   "outputs": [],
   "source": [
    "# 为继承自Dataset的类提供了一个基本的模板\n",
    "tr, va, te = data.Dataset.splits(path='test_text', # 连接路径\n",
    "                                 train=\"train.txt\", # 文件名\n",
    "                                 validation=\"validation.txt\",\n",
    "                                 test=\"test.txt\",\n",
    "                                 fields=fields_list)"
   ],
   "metadata": {
    "collapsed": false,
    "pycharm": {
     "name": "#%%\n"
    }
   }
  },
  {
   "cell_type": "code",
   "execution_count": 83,
   "outputs": [],
   "source": [
    "# 与上使用splits方法等价;若需对不同数据集设置不同的参数,则需分别进行设置(即采用下面的设置方法)\n",
    "tr_ = data.Dataset(examples='test_text/train.txt', fields=fields_list)\n",
    "va_ = data.Dataset('test_text/validation.txt', fields=fields_list)\n",
    "te_ = data.Dataset('test_text/test.txt', fields=fields_list)"
   ],
   "metadata": {
    "collapsed": false,
    "pycharm": {
     "name": "#%%\n"
    }
   }
  },
  {
   "cell_type": "code",
   "execution_count": 84,
   "outputs": [
    {
     "name": "stdout",
     "output_type": "stream",
     "text": [
      "<torchtext.data.dataset.Dataset object at 0x00000252C3401100>\n",
      "<torchtext.data.dataset.Dataset object at 0x00000252C3401040>\n",
      "<torchtext.data.dataset.Dataset object at 0x00000252C3401910>\n"
     ]
    }
   ],
   "source": [
    "print(tr)\n",
    "print(va)\n",
    "print(te)"
   ],
   "metadata": {
    "collapsed": false,
    "pycharm": {
     "name": "#%%\n"
    }
   }
  },
  {
   "cell_type": "code",
   "execution_count": 85,
   "outputs": [
    {
     "name": "stdout",
     "output_type": "stream",
     "text": [
      "train: <torchtext.data.dataset.Dataset object at 0x00000252C3494340>\n",
      "var <torchtext.data.dataset.Dataset object at 0x00000252C34947C0>\n"
     ]
    }
   ],
   "source": [
    "import numpy as np\n",
    "\n",
    "train, var = tr.split(split_ratio=0.8, random_state=np.random.seed(3)) # 将tr划分成trian(80%),var(20%)\n",
    "print('train:', train)\n",
    "print('var', var)"
   ],
   "metadata": {
    "collapsed": false,
    "pycharm": {
     "name": "#%%\n"
    }
   }
  },
  {
   "cell_type": "code",
   "execution_count": 86,
   "outputs": [
    {
     "name": "stdout",
     "output_type": "stream",
     "text": [
      "test_text\\train.txt\n",
      "test_text\\validation.txt\n",
      "test_text\\test.txt\n"
     ]
    }
   ],
   "source": [
    "print(tr.examples)\n",
    "print(va.examples)\n",
    "print(te.examples)"
   ],
   "metadata": {
    "collapsed": false,
    "pycharm": {
     "name": "#%%\n"
    }
   }
  },
  {
   "cell_type": "code",
   "execution_count": 87,
   "outputs": [
    {
     "name": "stdout",
     "output_type": "stream",
     "text": [
      "{'id': <torchtext.data.field.Field object at 0x00000252C3762670>, 'text': <torchtext.data.field.Field object at 0x00000252C3762F10>, 'keys': <torchtext.data.field.Field object at 0x00000252C37621F0>}\n",
      "{'id': <torchtext.data.field.Field object at 0x00000252C3762670>, 'text': <torchtext.data.field.Field object at 0x00000252C3762F10>, 'keys': <torchtext.data.field.Field object at 0x00000252C37621F0>}\n",
      "{'id': <torchtext.data.field.Field object at 0x00000252C3762670>, 'text': <torchtext.data.field.Field object at 0x00000252C3762F10>, 'keys': <torchtext.data.field.Field object at 0x00000252C37621F0>}\n"
     ]
    }
   ],
   "source": [
    "print(tr.fields)\n",
    "print(va.fields)\n",
    "print(te.fields) # 三者的fields相等"
   ],
   "metadata": {
    "collapsed": false,
    "pycharm": {
     "name": "#%%\n"
    }
   }
  },
  {
   "cell_type": "markdown",
   "source": [
    "### 重写Dataset举例"
   ],
   "metadata": {
    "collapsed": false,
    "pycharm": {
     "name": "#%% md\n"
    }
   }
  },
  {
   "cell_type": "code",
   "execution_count": 88,
   "outputs": [],
   "source": [
    "class DataFrameDataset(data.Dataset):\n",
    "    \"\"\"重写一个处理DataFrame数据类型的Dataset(通过模仿Dataset源代码)\"\"\"\n",
    "    def __init__(self, df, fields, is_test=False, **kwargs):\n",
    "        examples = []\n",
    "        for i, row in df.iterrows():\n",
    "            label = row.label if not is_test else None\n",
    "            text = row.text\n",
    "            examples.append(data.Example.fromlist([text, label], fields))\n",
    "        super().__init__(examples, fields, **kwargs)\n",
    "\n",
    "    @classmethod\n",
    "    def splits(cls, train_df=None, val_df=None, test_df=None, **kwargs):\n",
    "\n",
    "        train_data = None if train_df is None else cls(\n",
    "            train_df.copy(), **kwargs)\n",
    "        val_data = None if val_df is None else cls(\n",
    "            val_df.copy(), **kwargs)\n",
    "        test_data = None if test_df is None else cls(\n",
    "            test_df.copy(), is_test=True, **kwargs)\n",
    "\n",
    "        return tuple(d for d in (train_data, val_data, test_data)\n",
    "                     if d is not None)"
   ],
   "metadata": {
    "collapsed": false,
    "pycharm": {
     "name": "#%%\n"
    }
   }
  },
  {
   "cell_type": "code",
   "execution_count": 89,
   "outputs": [
    {
     "data": {
      "text/plain": "                                                text  label\n0                  Duan Chao does not study hard now      1\n1  There is something wrong with Duan Chaos menta...      1\n2                 Duan Chao is not tired of learning      0",
      "text/html": "<div>\n<style scoped>\n    .dataframe tbody tr th:only-of-type {\n        vertical-align: middle;\n    }\n\n    .dataframe tbody tr th {\n        vertical-align: top;\n    }\n\n    .dataframe thead th {\n        text-align: right;\n    }\n</style>\n<table border=\"1\" class=\"dataframe\">\n  <thead>\n    <tr style=\"text-align: right;\">\n      <th></th>\n      <th>text</th>\n      <th>label</th>\n    </tr>\n  </thead>\n  <tbody>\n    <tr>\n      <th>0</th>\n      <td>Duan Chao does not study hard now</td>\n      <td>1</td>\n    </tr>\n    <tr>\n      <th>1</th>\n      <td>There is something wrong with Duan Chaos menta...</td>\n      <td>1</td>\n    </tr>\n    <tr>\n      <th>2</th>\n      <td>Duan Chao is not tired of learning</td>\n      <td>0</td>\n    </tr>\n  </tbody>\n</table>\n</div>"
     },
     "execution_count": 89,
     "metadata": {},
     "output_type": "execute_result"
    }
   ],
   "source": [
    "import pandas as pd\n",
    "\n",
    "tr_df = pd.DataFrame([['Duan Chao does not study hard now', 1],\n",
    "                      ['There is something wrong with Duan Chaos mentality', 1],\n",
    "                      ['Duan Chao is not tired of learning', 0]],\n",
    "                     columns=['text', 'label'])\n",
    "\n",
    "tr_df"
   ],
   "metadata": {
    "collapsed": false,
    "pycharm": {
     "name": "#%%%\n"
    }
   }
  },
  {
   "cell_type": "code",
   "execution_count": 90,
   "outputs": [
    {
     "data": {
      "text/plain": "                               text\n0  A little addicted to cell phones\n1         A little bit of a fantasy\n2  Do not want to face difficulties",
      "text/html": "<div>\n<style scoped>\n    .dataframe tbody tr th:only-of-type {\n        vertical-align: middle;\n    }\n\n    .dataframe tbody tr th {\n        vertical-align: top;\n    }\n\n    .dataframe thead th {\n        text-align: right;\n    }\n</style>\n<table border=\"1\" class=\"dataframe\">\n  <thead>\n    <tr style=\"text-align: right;\">\n      <th></th>\n      <th>text</th>\n    </tr>\n  </thead>\n  <tbody>\n    <tr>\n      <th>0</th>\n      <td>A little addicted to cell phones</td>\n    </tr>\n    <tr>\n      <th>1</th>\n      <td>A little bit of a fantasy</td>\n    </tr>\n    <tr>\n      <th>2</th>\n      <td>Do not want to face difficulties</td>\n    </tr>\n  </tbody>\n</table>\n</div>"
     },
     "execution_count": 90,
     "metadata": {},
     "output_type": "execute_result"
    }
   ],
   "source": [
    "te_df = pd.DataFrame([['A little addicted to cell phones'],\n",
    "                      ['A little bit of a fantasy'],\n",
    "                      ['Do not want to face difficulties']],\n",
    "                     columns=['text'])\n",
    "te_df"
   ],
   "metadata": {
    "collapsed": false,
    "pycharm": {
     "name": "#%%\n"
    }
   }
  },
  {
   "cell_type": "code",
   "execution_count": 91,
   "outputs": [],
   "source": [
    "TEXT = data.Field(lower=True)\n",
    "LABEL = data.Field()\n",
    "\n",
    "all_fields = [('text', TEXT),\n",
    "              ('label', LABEL)]"
   ],
   "metadata": {
    "collapsed": false,
    "pycharm": {
     "name": "#%%\n"
    }
   }
  },
  {
   "cell_type": "code",
   "execution_count": 92,
   "outputs": [],
   "source": [
    "my_df_tr, my_df_te = DataFrameDataset.splits(train_df=tr_df,\n",
    "                                             test_df=te_df,\n",
    "                                             fields=all_fields)"
   ],
   "metadata": {
    "collapsed": false,
    "pycharm": {
     "name": "#%%\n"
    }
   }
  },
  {
   "cell_type": "code",
   "execution_count": 93,
   "outputs": [
    {
     "data": {
      "text/plain": "<__main__.DataFrameDataset at 0x252c349c5b0>"
     },
     "execution_count": 93,
     "metadata": {},
     "output_type": "execute_result"
    }
   ],
   "source": [
    "my_df_tr"
   ],
   "metadata": {
    "collapsed": false,
    "pycharm": {
     "name": "#%%\n"
    }
   }
  },
  {
   "cell_type": "code",
   "execution_count": 94,
   "outputs": [
    {
     "data": {
      "text/plain": "[<torchtext.data.example.Example at 0x252c3791700>,\n <torchtext.data.example.Example at 0x252c3791160>,\n <torchtext.data.example.Example at 0x252c3791e50>]"
     },
     "execution_count": 94,
     "metadata": {},
     "output_type": "execute_result"
    }
   ],
   "source": [
    "my_df_tr.examples"
   ],
   "metadata": {
    "collapsed": false,
    "pycharm": {
     "name": "#%%\n"
    }
   }
  },
  {
   "cell_type": "code",
   "execution_count": 95,
   "outputs": [
    {
     "name": "stdout",
     "output_type": "stream",
     "text": [
      "{'text': ['duan', 'chao', 'does', 'not', 'study', 'hard', 'now'], 'label': 1}\n",
      "{'text': ['there', 'is', 'something', 'wrong', 'with', 'duan', 'chaos', 'mentality'], 'label': 1}\n",
      "{'text': ['duan', 'chao', 'is', 'not', 'tired', 'of', 'learning'], 'label': 0}\n"
     ]
    }
   ],
   "source": [
    "print(my_df_tr.examples[0].__dict__)\n",
    "print(my_df_tr.examples[1].__dict__)\n",
    "print(my_df_tr.examples[2].__dict__)"
   ],
   "metadata": {
    "collapsed": false,
    "pycharm": {
     "name": "#%%\n"
    }
   }
  },
  {
   "cell_type": "code",
   "execution_count": 96,
   "outputs": [
    {
     "name": "stdout",
     "output_type": "stream",
     "text": [
      "{'text': ['a', 'little', 'addicted', 'to', 'cell', 'phones'], 'label': None}\n",
      "{'text': ['a', 'little', 'bit', 'of', 'a', 'fantasy'], 'label': None}\n",
      "{'text': ['do', 'not', 'want', 'to', 'face', 'difficulties'], 'label': None}\n"
     ]
    }
   ],
   "source": [
    "print(my_df_te.examples[0].__dict__)\n",
    "print(my_df_te.examples[1].__dict__)\n",
    "print(my_df_te.examples[2].__dict__)"
   ],
   "metadata": {
    "collapsed": false,
    "pycharm": {
     "name": "#%%\n"
    }
   }
  }
 ],
 "metadata": {
  "kernelspec": {
   "display_name": "Python 3",
   "language": "python",
   "name": "python3"
  },
  "language_info": {
   "codemirror_mode": {
    "name": "ipython",
    "version": 2
   },
   "file_extension": ".py",
   "mimetype": "text/x-python",
   "name": "python",
   "nbconvert_exporter": "python",
   "pygments_lexer": "ipython2",
   "version": "2.7.6"
  }
 },
 "nbformat": 4,
 "nbformat_minor": 0
}