{
 "cells": [
  {
   "cell_type": "code",
   "execution_count": 4,
   "metadata": {
    "collapsed": true,
    "pycharm": {
     "is_executing": false
    }
   },
   "outputs": [
    {
     "name": "stdout",
     "text": [
      "False\nFalse\nTrue\n"
     ],
     "output_type": "stream"
    }
   ],
   "source": [
    "string = \"169dot6\"\n",
    "# Return True if all characters in S are alphabetic and there is at least one character in S, False otherwise.\n",
    "print(string.isalpha()) \n",
    "\n",
    "# Return True if all characters in S are digits and there is at least one character in S, False otherwise.\n",
    "print(string.isdigit()) \n",
    "\n",
    "#  Return True if all characters in S are alphanumeric and there is at least one character in S, False otherwise.\n",
    "print(string.isalnum()) "
   ]
  },
  {
   "cell_type": "code",
   "execution_count": null,
   "outputs": [],
   "source": [
    "\n"
   ],
   "metadata": {
    "collapsed": false,
    "pycharm": {
     "name": "#%%\n"
    }
   }
  }
 ],
 "metadata": {
  "kernelspec": {
   "display_name": "Python 3",
   "language": "python",
   "name": "python3"
  },
  "language_info": {
   "codemirror_mode": {
    "name": "ipython",
    "version": 2
   },
   "file_extension": ".py",
   "mimetype": "text/x-python",
   "name": "python",
   "nbconvert_exporter": "python",
   "pygments_lexer": "ipython2",
   "version": "2.7.6"
  },
  "pycharm": {
   "stem_cell": {
    "cell_type": "raw",
    "source": [],
    "metadata": {
     "collapsed": false
    }
   }
  }
 },
 "nbformat": 4,
 "nbformat_minor": 0
}