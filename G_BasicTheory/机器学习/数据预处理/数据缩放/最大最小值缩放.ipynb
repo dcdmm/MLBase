{
 "cells": [
  {
   "cell_type": "markdown",
   "source": [
    "<font color='red' size=4>默认把所有数据映射到0和1之间</font>\n",
    "$$ x_{scale} = \\frac{x - x_{min}}{x_{max} - x_{min}} $$"
   ],
   "metadata": {
    "collapsed": false,
    "pycharm": {
     "name": "#%% md\n"
    }
   }
  },
  {
   "cell_type": "code",
   "execution_count": 11,
   "metadata": {
    "collapsed": true,
    "pycharm": {
     "name": "#%%\n"
    }
   },
   "outputs": [],
   "source": [
    "from sklearn import datasets\n",
    "from sklearn.model_selection import train_test_split\n",
    "from sklearn import preprocessing"
   ]
  },
  {
   "cell_type": "code",
   "execution_count": 12,
   "outputs": [],
   "source": [
    "digits = datasets.load_digits()  # 手写数字数据集\n",
    "X_train, X_test, y_train, y_test = train_test_split(digits.data, digits.target, test_size=0.2)"
   ],
   "metadata": {
    "collapsed": false,
    "pycharm": {
     "name": "#%%\n"
    }
   }
  },
  {
   "cell_type": "code",
   "execution_count": 13,
   "outputs": [
    {
     "data": {
      "text/plain": "MinMaxScaler()"
     },
     "execution_count": 13,
     "metadata": {},
     "output_type": "execute_result"
    }
   ],
   "source": [
    "standardScalar = preprocessing.MinMaxScaler(feature_range=(0, 1))  # 归一化范围\n",
    "standardScalar.fit(X_train)"
   ],
   "metadata": {
    "collapsed": false,
    "pycharm": {
     "name": "#%%\n"
    }
   }
  },
  {
   "cell_type": "code",
   "execution_count": 14,
   "outputs": [
    {
     "name": "stdout",
     "output_type": "stream",
     "text": [
      "(1437, 64)\n",
      "[ 0.  8. 16. 16. 16. 16. 16. 15.  2. 16. 16. 16. 16. 16. 16. 12.  1. 16.\n",
      " 16. 16. 16. 16. 16.  8.  1. 15. 16. 16. 16. 16. 15.  1.  0. 14. 16. 16.\n",
      " 16. 16. 14.  0.  4. 16. 16. 16. 16. 16. 16.  6.  8. 16. 16. 16. 16. 16.\n",
      " 16. 13.  1.  9. 16. 16. 16. 16. 16. 16.]\n"
     ]
    }
   ],
   "source": [
    "print(X_train.shape)\n",
    "print(standardScalar.data_max_)  # 每一列的最大值"
   ],
   "metadata": {
    "collapsed": false,
    "pycharm": {
     "name": "#%%\n"
    }
   }
  },
  {
   "cell_type": "code",
   "execution_count": 15,
   "outputs": [
    {
     "data": {
      "text/plain": "array([0., 0., 0., 0., 0., 0., 0., 0., 0., 0., 0., 0., 0., 0., 0., 0., 0.,\n       0., 0., 0., 0., 0., 0., 0., 0., 0., 0., 0., 0., 0., 0., 0., 0., 0.,\n       0., 0., 0., 0., 0., 0., 0., 0., 0., 0., 0., 0., 0., 0., 0., 0., 0.,\n       0., 0., 0., 0., 0., 0., 0., 0., 0., 0., 0., 0., 0.])"
     },
     "execution_count": 15,
     "metadata": {},
     "output_type": "execute_result"
    }
   ],
   "source": [
    "standardScalar.data_min_  # 最小值"
   ],
   "metadata": {
    "collapsed": false,
    "pycharm": {
     "name": "#%%\n"
    }
   }
  },
  {
   "cell_type": "code",
   "execution_count": 16,
   "outputs": [
    {
     "data": {
      "text/plain": "array([ 0.,  8., 16., 16., 16., 16., 16., 15.,  2., 16., 16., 16., 16.,\n       16., 16., 12.,  1., 16., 16., 16., 16., 16., 16.,  8.,  1., 15.,\n       16., 16., 16., 16., 15.,  1.,  0., 14., 16., 16., 16., 16., 14.,\n        0.,  4., 16., 16., 16., 16., 16., 16.,  6.,  8., 16., 16., 16.,\n       16., 16., 16., 13.,  1.,  9., 16., 16., 16., 16., 16., 16.])"
     },
     "execution_count": 16,
     "metadata": {},
     "output_type": "execute_result"
    }
   ],
   "source": [
    "standardScalar.data_range_  # 最大值-最小值"
   ],
   "metadata": {
    "collapsed": false,
    "pycharm": {
     "name": "#%%\n"
    }
   }
  },
  {
   "cell_type": "code",
   "execution_count": 17,
   "outputs": [],
   "source": [
    "# 对每列数据进行最值归一化\n",
    "X_train_standard = standardScalar.transform(X_train)  # X_train不变\n",
    "X_test_standard = standardScalar.transform(X_test)  # 使用测试数据集的data_max_和data_min_进行归一化处理"
   ],
   "metadata": {
    "collapsed": false,
    "pycharm": {
     "name": "#%%\n"
    }
   }
  },
  {
   "cell_type": "code",
   "execution_count": 18,
   "outputs": [
    {
     "data": {
      "text/plain": "array([[0.    , 0.    , 0.25  , ..., 0.6875, 0.    , 0.    ],\n       [0.    , 0.375 , 0.9375, ..., 0.75  , 0.5625, 0.    ],\n       [0.    , 0.125 , 0.5   , ..., 0.4375, 0.    , 0.    ],\n       ...,\n       [0.    , 0.    , 0.    , ..., 0.    , 0.    , 0.    ],\n       [0.    , 0.375 , 0.9375, ..., 0.    , 0.    , 0.    ],\n       [0.    , 0.    , 0.    , ..., 0.    , 0.    , 0.    ]])"
     },
     "execution_count": 18,
     "metadata": {},
     "output_type": "execute_result"
    }
   ],
   "source": [
    "X_train_standard"
   ],
   "metadata": {
    "collapsed": false,
    "pycharm": {
     "name": "#%%\n"
    }
   }
  },
  {
   "cell_type": "code",
   "execution_count": 19,
   "outputs": [
    {
     "data": {
      "text/plain": "array([[0.    , 0.    , 0.25  , ..., 0.6875, 0.    , 0.    ],\n       [0.    , 0.375 , 0.9375, ..., 0.75  , 0.5625, 0.    ],\n       [0.    , 0.125 , 0.5   , ..., 0.4375, 0.    , 0.    ],\n       ...,\n       [0.    , 0.    , 0.    , ..., 0.    , 0.    , 0.    ],\n       [0.    , 0.375 , 0.9375, ..., 0.    , 0.    , 0.    ],\n       [0.    , 0.    , 0.    , ..., 0.    , 0.    , 0.    ]])"
     },
     "execution_count": 19,
     "metadata": {},
     "output_type": "execute_result"
    }
   ],
   "source": [
    "# 函数形式(形式更加简单)\n",
    "preprocessing.minmax_scale(X_train, feature_range=(0, 1), axis=0)\n"
   ],
   "metadata": {
    "collapsed": false,
    "pycharm": {
     "name": "#%%\n"
    }
   }
  }
 ],
 "metadata": {
  "kernelspec": {
   "display_name": "Python 3",
   "language": "python",
   "name": "python3"
  },
  "language_info": {
   "codemirror_mode": {
    "name": "ipython",
    "version": 2
   },
   "file_extension": ".py",
   "mimetype": "text/x-python",
   "name": "python",
   "nbconvert_exporter": "python",
   "pygments_lexer": "ipython2",
   "version": "2.7.6"
  }
 },
 "nbformat": 4,
 "nbformat_minor": 0
}