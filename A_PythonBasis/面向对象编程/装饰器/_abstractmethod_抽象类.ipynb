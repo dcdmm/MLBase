{
 "cells": [
  {
   "cell_type": "code",
   "execution_count": 18,
   "id": "initial_id",
   "metadata": {
    "collapsed": true,
    "ExecuteTime": {
     "end_time": "2024-01-12T08:58:46.175137Z",
     "start_time": "2024-01-12T08:58:46.151301600Z"
    }
   },
   "outputs": [
    {
     "name": "stdout",
     "output_type": "stream",
     "text": [
      "SubClass0 实现抽象方法my_abstract_method0\n",
      "SubClass0 实现抽象方法my_abstract_method1\n",
      "SubClass1 实现抽象方法my_abstract_method2\n"
     ]
    }
   ],
   "source": [
    "from abc import ABC, abstractmethod\n",
    "\n",
    "\n",
    "class MyAbstractClass(ABC):  # 抽象类(包含抽象方法的类)\n",
    "    @abstractmethod\n",
    "    def my_abstract_method0(self):  # 抽象方法(@abstractmethod修饰)\n",
    "        pass\n",
    "\n",
    "    # 当存在多个装饰器时,@abstractmethod应置于最内层\n",
    "    @staticmethod\n",
    "    @abstractmethod\n",
    "    def my_abstract_method1():\n",
    "        pass\n",
    "\n",
    "    @classmethod\n",
    "    @abstractmethod\n",
    "    def my_abstract_method2(cls):\n",
    "        pass\n",
    "\n",
    "\n",
    "class SubClass0(MyAbstractClass):  # SubClass0仍为抽象类(没有实现基类中所有的抽象方法,仍包含抽象方法)\n",
    "    def my_abstract_method0(self):\n",
    "        print(\"SubClass0 实现抽象方法my_abstract_method0\")\n",
    "\n",
    "    @staticmethod  # 其他装饰器子类不能省略\n",
    "    def my_abstract_method1():\n",
    "        print(\"SubClass0 实现抽象方法my_abstract_method1\")\n",
    "\n",
    "\n",
    "class SubClass1(SubClass0):\n",
    "    @classmethod\n",
    "    def my_abstract_method2(cls):\n",
    "        print(\"SubClass1 实现抽象方法my_abstract_method2\")\n",
    "\n",
    "\n",
    "# mac = MyAbstractClass()  # 抽象类不能被实例化\n",
    "# sc0 = SubClass0()  # 抽象类不能被实例化\n",
    "sc1 = SubClass1()\n",
    "sc1.my_abstract_method0()\n",
    "SubClass1.my_abstract_method1()\n",
    "sc1.my_abstract_method2()"
   ]
  }
 ],
 "metadata": {
  "kernelspec": {
   "display_name": "Python 3",
   "language": "python",
   "name": "python3"
  },
  "language_info": {
   "codemirror_mode": {
    "name": "ipython",
    "version": 2
   },
   "file_extension": ".py",
   "mimetype": "text/x-python",
   "name": "python",
   "nbconvert_exporter": "python",
   "pygments_lexer": "ipython2",
   "version": "2.7.6"
  }
 },
 "nbformat": 4,
 "nbformat_minor": 5
}
