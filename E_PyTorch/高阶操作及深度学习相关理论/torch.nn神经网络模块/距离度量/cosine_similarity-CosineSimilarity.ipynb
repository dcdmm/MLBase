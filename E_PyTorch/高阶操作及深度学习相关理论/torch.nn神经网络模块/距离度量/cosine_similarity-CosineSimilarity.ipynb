{
 "cells": [
  {
   "cell_type": "markdown",
   "metadata": {
    "collapsed": true,
    "pycharm": {
     "name": "#%% md\n"
    }
   },
   "source": [
    "Returns cosine similarity between $\\mathbf{x}_1$ and $\\mathbf{x}_2$, computed along dim\n",
    "\n",
    "$$ \\mathrm{similarity} = \\frac{\\mathbf{x}_1 \\cdot \\mathbf{x}_2}{ \\max( ||\\mathbf{x}_1 ||_2 \\cdot ||\\mathbf{x}_2||_2,\\epsilon ) } $$\n",
    "\n",
    "Input1: $(\\ast_1, D, \\ast_2)$ where D is at position dim\n",
    "\n",
    "Input2: $(\\ast_1, D, \\ast_2)$ , same shape as the Input1\n",
    "\n",
    "Output: $ (\\ast_1, \\ast_2) $"
   ]
  },
  {
   "cell_type": "code",
   "execution_count": 25,
   "outputs": [],
   "source": [
    "import torch\n",
    "import torch.nn as nn\n",
    "import torch.nn.functional as F"
   ],
   "metadata": {
    "collapsed": false,
    "pycharm": {
     "name": "#%%\n"
    }
   }
  },
  {
   "cell_type": "code",
   "execution_count": 26,
   "outputs": [],
   "source": [
    "input1 = torch.randn(10, 12, 3)\n",
    "input2 = torch.randn(10, 12, 3)"
   ],
   "metadata": {
    "collapsed": false,
    "pycharm": {
     "name": "#%%\n"
    }
   }
  },
  {
   "cell_type": "code",
   "execution_count": 27,
   "outputs": [
    {
     "name": "stdout",
     "output_type": "stream",
     "text": [
      "tensor([[ 0.1195,  0.2342, -0.0091],\n",
      "        [ 0.1141, -0.1536, -0.2931],\n",
      "        [ 0.0257,  0.1945, -0.2427],\n",
      "        [-0.2679,  0.6834,  0.2668],\n",
      "        [ 0.3847, -0.1686,  0.0753],\n",
      "        [-0.2151, -0.4225, -0.0028],\n",
      "        [ 0.0526, -0.6597, -0.0443],\n",
      "        [ 0.0454,  0.0847,  0.3176],\n",
      "        [-0.1281, -0.0700, -0.1556],\n",
      "        [ 0.0347,  0.1099, -0.0481]])\n",
      "torch.Size([10, 3])\n"
     ]
    }
   ],
   "source": [
    "output_F = F.cosine_similarity(input1, input2) # 计算第一个维度上余弦相似度\n",
    "print(output_F)\n",
    "print(output_F.shape)"
   ],
   "metadata": {
    "collapsed": false,
    "pycharm": {
     "name": "#%%\n"
    }
   }
  },
  {
   "cell_type": "code",
   "execution_count": 28,
   "outputs": [
    {
     "name": "stdout",
     "output_type": "stream",
     "text": [
      "tensor([[ 0.1195,  0.2342, -0.0091],\n",
      "        [ 0.1141, -0.1536, -0.2931],\n",
      "        [ 0.0257,  0.1945, -0.2427],\n",
      "        [-0.2679,  0.6834,  0.2668],\n",
      "        [ 0.3847, -0.1686,  0.0753],\n",
      "        [-0.2151, -0.4225, -0.0028],\n",
      "        [ 0.0526, -0.6597, -0.0443],\n",
      "        [ 0.0454,  0.0847,  0.3176],\n",
      "        [-0.1281, -0.0700, -0.1556],\n",
      "        [ 0.0347,  0.1099, -0.0481]])\n",
      "torch.Size([10, 3])\n"
     ]
    }
   ],
   "source": [
    "output_nn = nn.CosineSimilarity()(input1, input2)\n",
    "print(output_nn)\n",
    "print(output_nn.shape)"
   ],
   "metadata": {
    "collapsed": false,
    "pycharm": {
     "name": "#%%\n"
    }
   }
  },
  {
   "cell_type": "code",
   "execution_count": 28,
   "outputs": [],
   "source": [],
   "metadata": {
    "collapsed": false,
    "pycharm": {
     "name": "#%%\n"
    }
   }
  }
 ],
 "metadata": {
  "kernelspec": {
   "display_name": "Python 3",
   "language": "python",
   "name": "python3"
  },
  "language_info": {
   "codemirror_mode": {
    "name": "ipython",
    "version": 2
   },
   "file_extension": ".py",
   "mimetype": "text/x-python",
   "name": "python",
   "nbconvert_exporter": "python",
   "pygments_lexer": "ipython2",
   "version": "2.7.6"
  }
 },
 "nbformat": 4,
 "nbformat_minor": 0
}