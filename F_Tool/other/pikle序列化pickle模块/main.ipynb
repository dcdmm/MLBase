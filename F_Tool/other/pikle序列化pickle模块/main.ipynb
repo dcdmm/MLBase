{
 "cells": [
  {
   "cell_type": "code",
   "execution_count": 1,
   "outputs": [],
   "source": [
    "# pickle的实质就是利用一些算法将你的数据对象\"腌制\"成二进制文件,存储在磁盘上\n",
    "import pickle\n",
    "\n",
    "my_list = [1, 2, 3, 'duanchao', ['one', 'two', 'three']]\n",
    "pickle_file = open(r'pickle序列化.pkl', 'wb')\n",
    "pickle.dump(my_list, pickle_file)\n",
    "# 将my_list以二进制的形式写入到my_list.pkl中\n",
    "pickle_file.close()"
   ],
   "metadata": {
    "collapsed": false,
    "pycharm": {
     "name": "#%%\n"
    }
   }
  },
  {
   "cell_type": "code",
   "execution_count": 2,
   "metadata": {
    "collapsed": false
   },
   "outputs": [
    {
     "name": "stdout",
     "output_type": "stream",
     "text": [
      "[1, 2, 3, 'duanchao', ['one', 'two', 'three']]\n"
     ]
    }
   ],
   "source": [
    "pickle_file1 = open(r\"pickle序列化.pkl\", 'rb')\n",
    "my_list1 = pickle.load(pickle_file1)\n",
    "# 将my_list.pkl中的文件读出到my_list1中\n",
    "pickle_file1.close()\n",
    "print(my_list1)"
   ]
  },
  {
   "cell_type": "code",
   "execution_count": 2,
   "outputs": [],
   "source": [
    "\n"
   ],
   "metadata": {
    "collapsed": false,
    "pycharm": {
     "name": "#%%\n"
    }
   }
  }
 ],
 "metadata": {
  "kernelspec": {
   "name": "python3",
   "language": "python",
   "display_name": "Python 3"
  },
  "language_info": {
   "codemirror_mode": {
    "name": "ipython",
    "version": 2
   },
   "file_extension": ".py",
   "mimetype": "text/x-python",
   "name": "python",
   "nbconvert_exporter": "python",
   "pygments_lexer": "ipython2",
   "version": "2.7.6"
  }
 },
 "nbformat": 4,
 "nbformat_minor": 0
}