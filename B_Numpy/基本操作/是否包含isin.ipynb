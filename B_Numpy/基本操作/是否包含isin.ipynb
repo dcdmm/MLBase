{
 "cells": [
  {
   "cell_type": "code",
   "execution_count": 96,
   "metadata": {
    "collapsed": true
   },
   "outputs": [
    {
     "data": {
      "text/plain": "array([[0, 2],\n       [4, 6]])"
     },
     "execution_count": 96,
     "metadata": {},
     "output_type": "execute_result"
    }
   ],
   "source": [
    "import numpy as np\n",
    "\n",
    "'''\n",
    "def isin(element, test_elements, assume_unique=False, invert=False):\n",
    "    \"\"\"\n",
    "    Calculates `element in test_elements`, broadcasting over `element` only.\n",
    "    Returns a boolean array of the same shape as `element` that is True\n",
    "    where an element of `element` is in `test_elements` and False otherwise.\n",
    "\n",
    "    Parameters\n",
    "    ----------\n",
    "    element : array_like\n",
    "        Input array.\n",
    "    test_elements : array_like\n",
    "        The values against which to test each value of `element`.\n",
    "        This argument is flattened if it is an array or array_like.\n",
    "        See notes for behavior with non-array-like parameters.\n",
    "'''\n",
    "element = 2 * np.arange(4).reshape((2, 2))\n",
    "element"
   ]
  },
  {
   "cell_type": "code",
   "execution_count": 97,
   "outputs": [],
   "source": [
    "test_elements = [1, 2, 4, 8]"
   ],
   "metadata": {
    "pycharm": {
     "metadata": false,
     "name": "#%%\n"
    }
   }
  },
  {
   "cell_type": "code",
   "execution_count": 98,
   "outputs": [
    {
     "data": {
      "text/plain": "array([[False,  True],\n       [ True, False]])"
     },
     "execution_count": 98,
     "metadata": {},
     "output_type": "execute_result"
    }
   ],
   "source": [
    "mask = np.isin(element, test_elements)\n",
    "mask"
   ],
   "metadata": {
    "pycharm": {
     "metadata": false,
     "name": "#%%\n"
    }
   }
  },
  {
   "cell_type": "code",
   "execution_count": 99,
   "outputs": [
    {
     "data": {
      "text/plain": "array([2, 4])"
     },
     "execution_count": 99,
     "metadata": {},
     "output_type": "execute_result"
    }
   ],
   "source": [
    "element[mask]  # element,test_elements共用的元素为2, 4"
   ],
   "metadata": {
    "pycharm": {
     "metadata": false,
     "name": "#%%\n"
    }
   }
  },
  {
   "cell_type": "code",
   "execution_count": 100,
   "outputs": [
    {
     "data": {
      "text/plain": "(array([0, 1], dtype=int64), array([1, 0], dtype=int64))"
     },
     "execution_count": 100,
     "metadata": {},
     "output_type": "execute_result"
    }
   ],
   "source": [
    "np.nonzero(mask)  # 返回非零元素的索引"
   ],
   "metadata": {
    "pycharm": {
     "metadata": false,
     "name": "#%%\n"
    }
   }
  },
  {
   "cell_type": "code",
   "execution_count": 101,
   "outputs": [
    {
     "data": {
      "text/plain": "array([[ True, False],\n       [False,  True]])"
     },
     "execution_count": 101,
     "metadata": {},
     "output_type": "execute_result"
    }
   ],
   "source": [
    "mask_invert = np.isin(element, test_elements, invert=True)\n",
    "'''\n",
    "invert : bool, optional\n",
    "    If True, the values in the returned array are inverted, as if\n",
    "    calculating `element not in test_elements`. Default is False.\n",
    "    ``np.isin(a, b, invert=True)`` is equivalent to (but faster\n",
    "    than) ``np.invert(np.isin(a, b))`\n",
    "'''\n",
    "mask_invert"
   ],
   "metadata": {
    "pycharm": {
     "metadata": false,
     "name": "#%%\n"
    }
   }
  },
  {
   "cell_type": "code",
   "execution_count": 102,
   "outputs": [
    {
     "data": {
      "text/plain": "array([0, 6])"
     },
     "execution_count": 102,
     "metadata": {},
     "output_type": "execute_result"
    }
   ],
   "source": [
    "element[mask_invert]  # 元素0, 6是test_element所不含的"
   ],
   "metadata": {
    "pycharm": {
     "metadata": false,
     "name": "#%%\n"
    }
   }
  },
  {
   "cell_type": "code",
   "execution_count": 103,
   "outputs": [
    {
     "name": "stdout",
     "output_type": "stream",
     "text": [
      "[[False False]\n",
      " [False False]]\n",
      "\n",
      "[[False  True]\n",
      " [ True False]]\n"
     ]
    }
   ],
   "source": [
    "test_set = {1, 2, 4, 8}\n",
    "\n",
    "# 失败,Because of how array handles sets, the following does not work as expected:\n",
    "print(np.isin(element, test_set), end='\\n\\n')\n",
    "\n",
    "# 解决方法如下:\n",
    "print(np.isin(element, list(test_set)))"
   ],
   "metadata": {
    "pycharm": {
     "metadata": false,
     "name": "#%%\n"
    }
   }
  }
 ],
 "metadata": {
  "language_info": {
   "codemirror_mode": {
    "name": "ipython",
    "version": 2
   },
   "file_extension": ".py",
   "mimetype": "text/x-python",
   "name": "python",
   "nbconvert_exporter": "python",
   "pygments_lexer": "ipython2",
   "version": "2.7.6"
  },
  "kernelspec": {
   "name": "python3",
   "language": "python",
   "display_name": "Python 3"
  }
 },
 "nbformat": 4,
 "nbformat_minor": 0
}