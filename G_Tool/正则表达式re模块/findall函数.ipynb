{
 "cells": [
  {
   "cell_type": "code",
   "execution_count": 2,
   "metadata": {
    "collapsed": true,
    "pycharm": {
     "is_executing": false
    }
   },
   "outputs": [
    {
     "name": "stdout",
     "text": [
      "['123', '456']\n"
     ],
     "output_type": "stream"
    }
   ],
   "source": [
    "import re\n",
    " \n",
    "# 在字符串中找到正则表达式所匹配的所有子组(注意:是字组★★★★★),并返回一个列表,如果没有找到匹配的,则返回空列表\n",
    "result1 = re.findall(r'\\d+', 'school 123 google 456') # 用于匹配至少一个数字\n",
    "print(result1)"
   ]
  },
  {
   "cell_type": "code",
   "execution_count": 3,
   "outputs": [
    {
     "name": "stdout",
     "text": [
      "[':', '/', '/', '.', '.', '/', '/', '/', '.', '.']\n"
     ],
     "output_type": "stream"
    }
   ],
   "source": [
    "result2 = re.findall(r\"\\W\",\"https://docs.python.org/3/whatsnew/3.6.html\") # 匹配除了字母与数字以外的特殊符号\n",
    "print (result2)"
   ],
   "metadata": {
    "collapsed": false,
    "pycharm": {
     "name": "#%%\n",
     "is_executing": false
    }
   }
  },
  {
   "cell_type": "code",
   "execution_count": 4,
   "outputs": [
    {
     "name": "stdout",
     "text": [
      "[('2017-07-10', '2017-07', '2017', '20', '00')]\n"
     ],
     "output_type": "stream"
    }
   ],
   "source": [
    "time  = '2017-07-10 20:00'\n",
    "p = re.compile(r'(((\\d{4})-\\d{2})-\\d{2}) (\\d{2}):(\\d{2})')\n",
    "print(re.findall(p, time)) # 只匹配子组"
   ],
   "metadata": {
    "collapsed": false,
    "pycharm": {
     "name": "#%%\n",
     "is_executing": false
    }
   }
  },
  {
   "cell_type": "code",
   "execution_count": null,
   "outputs": [],
   "source": [
    "\n"
   ],
   "metadata": {
    "collapsed": false,
    "pycharm": {
     "name": "#%%\n"
    }
   }
  }
 ],
 "metadata": {
  "kernelspec": {
   "display_name": "Python 3",
   "language": "python",
   "name": "python3"
  },
  "language_info": {
   "codemirror_mode": {
    "name": "ipython",
    "version": 2
   },
   "file_extension": ".py",
   "mimetype": "text/x-python",
   "name": "python",
   "nbconvert_exporter": "python",
   "pygments_lexer": "ipython2",
   "version": "2.7.6"
  },
  "pycharm": {
   "stem_cell": {
    "cell_type": "raw",
    "source": [],
    "metadata": {
     "collapsed": false
    }
   }
  }
 },
 "nbformat": 4,
 "nbformat_minor": 0
}