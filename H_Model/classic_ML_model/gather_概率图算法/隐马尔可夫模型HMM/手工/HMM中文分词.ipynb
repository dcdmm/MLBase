{
 "cells": [
  {
   "cell_type": "code",
   "execution_count": 1,
   "metadata": {},
   "outputs": [],
   "source": [
    "visible_seqs = []  # 观测序列\n",
    "hidden_seqs = []  # 状态序列\n",
    "char2idx = {}\n",
    "# {B,M,E,S}标注集,即词首(Begin),词尾(End),词中(Middle)以及单字成词(Single)\n",
    "idx2hidden = {0: \"B\", 1: \"M\", 2: \"E\", 3: \"S\"}"
   ]
  },
  {
   "cell_type": "code",
   "execution_count": 2,
   "metadata": {
    "pycharm": {
     "name": "#%%\n"
    }
   },
   "outputs": [],
   "source": [
    "count = 0\n",
    "for line in open(\"data.txt\", encoding=\"utf8\"):\n",
    "    visible_seq = []\n",
    "    hidden_seq = []\n",
    "    arrs = line.strip().split(\" \")\n",
    "    for item in arrs:\n",
    "        if len(item) == 1:\n",
    "            hidden_seq.append(3)\n",
    "        elif len(item) == 2:\n",
    "            hidden_seq.extend([0, 2])\n",
    "        else:\n",
    "            hidden_seq.extend([0] + [1] * (len(item) - 2) + [2])\n",
    "\n",
    "        for c in item:\n",
    "            if c in char2idx:\n",
    "                visible_seq.append(char2idx[c])\n",
    "            else:\n",
    "                char2idx[c] = count\n",
    "                visible_seq.append(count)\n",
    "                count += 1\n",
    "\n",
    "        visible_seqs.append(visible_seq)\n",
    "        hidden_seqs.append(hidden_seq)"
   ]
  },
  {
   "cell_type": "code",
   "execution_count": 3,
   "metadata": {
    "pycharm": {
     "name": "#%%\n"
    }
   },
   "outputs": [
    {
     "data": {
      "text/plain": "4656"
     },
     "execution_count": 3,
     "metadata": {},
     "output_type": "execute_result"
    }
   ],
   "source": [
    "len(char2idx)  # 观测序列共有4656个"
   ]
  },
  {
   "cell_type": "code",
   "execution_count": 4,
   "metadata": {
    "pycharm": {
     "name": "#%%\n"
    }
   },
   "outputs": [],
   "source": [
    "from MyHMM import MyHMM\n",
    "\n",
    "hmm = MyHMM(hidden_status_num=4, visible_status_num=len(char2idx))\n",
    "hmm.supervision(visible_seqs, hidden_seqs)  # 已有已经标注好的训练数据"
   ]
  },
  {
   "cell_type": "code",
   "execution_count": 5,
   "metadata": {
    "pycharm": {
     "name": "#%%\n"
    }
   },
   "outputs": [],
   "source": [
    "def seg(vis, hid):\n",
    "    \"\"\"\n",
    "    根据状态序列拆解句子\n",
    "    :param vis:要拆解的句子\n",
    "    :param hid:状态序列\n",
    "    :return:拆解后的句子\n",
    "    \"\"\"\n",
    "    rst = []\n",
    "    for i in range(0, len(hid)):\n",
    "        if hid[i] in [2, 3]:\n",
    "            rst.append(vis[i])\n",
    "            rst.append(\"/\")\n",
    "        else:\n",
    "            rst.append(vis[i])\n",
    "    return \"\".join(rst)"
   ]
  },
  {
   "cell_type": "code",
   "execution_count": 6,
   "metadata": {
    "pycharm": {
     "name": "#%%\n"
    }
   },
   "outputs": [
    {
     "data": {
      "text/plain": "'我/和/我/的/祖国/，/一刻/也/不能/分离/'"
     },
     "execution_count": 6,
     "metadata": {},
     "output_type": "execute_result"
    }
   ],
   "source": [
    "example0 = \"我和我的祖国，一刻也不能分离\"\n",
    "seg(example0, hmm.viterbi([char2idx[c] for c in example0])[0])"
   ]
  },
  {
   "cell_type": "code",
   "execution_count": 7,
   "metadata": {
    "pycharm": {
     "name": "#%%\n"
    }
   },
   "outputs": [
    {
     "data": {
      "text/plain": "'小龙/女/说/，/我/也/想过/过过/过过/过过/的/生活/'"
     },
     "execution_count": 7,
     "metadata": {},
     "output_type": "execute_result"
    }
   ],
   "source": [
    "example1 = \"小龙女说，我也想过过过过过过过的生活\"\n",
    "seg(example1, hmm.viterbi([char2idx[c] for c in example1])[0])"
   ]
  },
  {
   "cell_type": "code",
   "execution_count": 8,
   "metadata": {
    "pycharm": {
     "name": "#%%\n"
    }
   },
   "outputs": [
    {
     "data": {
      "text/plain": "'萌萌/你/有/在/学校/好/好/学习/吗/，/没有/'"
     },
     "execution_count": 8,
     "metadata": {},
     "output_type": "execute_result"
    }
   ],
   "source": [
    "example2 = \"萌萌你有在学校好好学习吗，没有\"\n",
    "seg(example2, hmm.viterbi([char2idx[c] for c in example2])[0])"
   ]
  },
  {
   "cell_type": "code",
   "execution_count": 8,
   "outputs": [],
   "source": [],
   "metadata": {
    "collapsed": false,
    "pycharm": {
     "name": "#%%\n"
    }
   }
  }
 ],
 "metadata": {
  "kernelspec": {
   "display_name": "Python 3",
   "language": "python",
   "name": "python3"
  },
  "language_info": {
   "codemirror_mode": {
    "name": "ipython",
    "version": 3
   },
   "file_extension": ".py",
   "mimetype": "text/x-python",
   "name": "python",
   "nbconvert_exporter": "python",
   "pygments_lexer": "ipython3",
   "version": "3.7.7"
  },
  "toc": {
   "base_numbering": 1,
   "nav_menu": {},
   "number_sections": true,
   "sideBar": true,
   "skip_h1_title": false,
   "title_cell": "Table of Contents",
   "title_sidebar": "Contents",
   "toc_cell": false,
   "toc_position": {},
   "toc_section_display": true,
   "toc_window_display": false
  }
 },
 "nbformat": 4,
 "nbformat_minor": 1
}