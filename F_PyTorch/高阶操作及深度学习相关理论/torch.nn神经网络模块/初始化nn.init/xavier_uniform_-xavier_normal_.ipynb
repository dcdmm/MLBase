{
 "cells": [
  {
   "cell_type": "code",
   "execution_count": 2,
   "metadata": {
    "collapsed": true
   },
   "outputs": [
    {
     "data": {
      "text/plain": "tensor([[ 0.0646,  0.0552,  0.0739,  ..., -0.1301, -0.0898, -0.1699],\n        [-0.0002,  0.0392, -0.0741,  ...,  0.0342,  0.0379,  0.0204],\n        [ 0.1256,  0.0802, -0.0961,  ..., -0.0790, -0.0861, -0.0179],\n        ...,\n        [-0.0509,  0.0948,  0.1107,  ..., -0.1706,  0.1124, -0.0188],\n        [ 0.0827, -0.0407, -0.0164,  ...,  0.0936,  0.1537,  0.1094],\n        [-0.0825, -0.1274,  0.1449,  ..., -0.0353,  0.1637,  0.0735]])"
     },
     "execution_count": 2,
     "metadata": {},
     "output_type": "execute_result"
    }
   ],
   "source": [
    "import torch.nn as nn\n",
    "import torch\n",
    "\n",
    "w = torch.empty(300, 500)\n",
    "# gain – an optional scaling factor\n",
    "nn.init.xavier_uniform_(w,\n",
    "                        gain=2.0) # 缩放因子\\rho"
   ]
  },
  {
   "cell_type": "code",
   "execution_count": 4,
   "outputs": [
    {
     "data": {
      "text/plain": "tensor([[-0.0306,  0.1895,  0.1741,  ...,  0.0962, -0.0918,  0.0065],\n        [ 0.0785,  0.1423, -0.1102,  ...,  0.0268, -0.1746, -0.0356],\n        [-0.0227, -0.0486,  0.0281,  ..., -0.0136,  0.0544,  0.0476],\n        ...,\n        [ 0.1417,  0.0113,  0.1617,  ...,  0.1134,  0.0221, -0.0138],\n        [ 0.1073, -0.0454, -0.0089,  ..., -0.1511,  0.0208, -0.1514],\n        [-0.1258,  0.1058,  0.0728,  ..., -0.1640,  0.1956,  0.2189]])"
     },
     "execution_count": 4,
     "metadata": {},
     "output_type": "execute_result"
    }
   ],
   "source": [
    "w = torch.empty(300, 500)\n",
    "nn.init.xavier_normal_(w, gain=2.0)"
   ],
   "metadata": {
    "collapsed": false,
    "pycharm": {
     "name": "#%%\n"
    }
   }
  },
  {
   "cell_type": "code",
   "execution_count": null,
   "outputs": [],
   "source": [
    "\n"
   ],
   "metadata": {
    "collapsed": false,
    "pycharm": {
     "name": "#%%\n"
    }
   }
  }
 ],
 "metadata": {
  "kernelspec": {
   "display_name": "Python 3",
   "language": "python",
   "name": "python3"
  },
  "language_info": {
   "codemirror_mode": {
    "name": "ipython",
    "version": 2
   },
   "file_extension": ".py",
   "mimetype": "text/x-python",
   "name": "python",
   "nbconvert_exporter": "python",
   "pygments_lexer": "ipython2",
   "version": "2.7.6"
  }
 },
 "nbformat": 4,
 "nbformat_minor": 0
}