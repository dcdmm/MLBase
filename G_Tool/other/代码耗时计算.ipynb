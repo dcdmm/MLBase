{
 "cells": [
  {
   "cell_type": "code",
   "execution_count": 13,
   "metadata": {
    "collapsed": true,
    "pycharm": {
     "name": "#%%\n"
    }
   },
   "outputs": [],
   "source": [
    "import timeit  # 更加精确\n",
    "import time"
   ]
  },
  {
   "cell_type": "code",
   "execution_count": 14,
   "outputs": [
    {
     "name": "stdout",
     "output_type": "stream",
     "text": [
      "2.6865006999999963\n"
     ]
    }
   ],
   "source": [
    "# stmt:测试的代码或者语句\n",
    "# number:被测试的函数或语句执行的次数\n",
    "print(timeit.timeit(stmt=\"[i for i in range(1000)]\", number=100000))  # 测试语句"
   ],
   "metadata": {
    "collapsed": false,
    "pycharm": {
     "name": "#%%\n"
    }
   }
  },
  {
   "cell_type": "code",
   "execution_count": 15,
   "outputs": [],
   "source": [
    "def add():\n",
    "    \"\"\"待测试函数\"\"\"\n",
    "    return sum(range(111))"
   ],
   "metadata": {
    "collapsed": false,
    "pycharm": {
     "name": "#%%\n"
    }
   }
  },
  {
   "cell_type": "code",
   "execution_count": 16,
   "outputs": [
    {
     "name": "stdout",
     "output_type": "stream",
     "text": [
      "0.11453639999999865\n"
     ]
    }
   ],
   "source": [
    "t = timeit.timeit(stmt=add, number=100000)  # 测试函数\n",
    "print(t)"
   ],
   "metadata": {
    "collapsed": false,
    "pycharm": {
     "name": "#%%\n"
    }
   }
  },
  {
   "cell_type": "code",
   "execution_count": 17,
   "outputs": [
    {
     "name": "stdout",
     "output_type": "stream",
     "text": [
      "[0.12433279999999769, 0.11375299999999555, 0.11106980000000277, 0.1125123000000059, 0.11337910000000306, 0.11144159999999204, 0.11770810000000154, 0.11202910000000088, 0.11373350000000926, 0.10988030000000037]\n"
     ]
    }
   ],
   "source": [
    "# repeat:重复测试的次数\n",
    "t = timeit.repeat(stmt=add, number=100000, repeat=10)  # 重复测试10次\n",
    "print(t)"
   ],
   "metadata": {
    "collapsed": false,
    "pycharm": {
     "name": "#%%\n"
    }
   }
  },
  {
   "cell_type": "code",
   "execution_count": 18,
   "outputs": [
    {
     "name": "stdout",
     "output_type": "stream",
     "text": [
      "1649955461.452229\n",
      "2022-04-15 00:57:41.452229\n",
      "4999999950000000\n",
      "1649955474.435811\n",
      "2022-04-15 00:57:54.435811\n",
      "time()方法用时：12.983582019805908s\n",
      "测试完毕\n"
     ]
    }
   ],
   "source": [
    "from datetime import datetime\n",
    "\n",
    "t0 = time.time()  # 代码开始执行时间\n",
    "print(t0)\n",
    "print(datetime.fromtimestamp(t0))\n",
    "\n",
    "r = 0\n",
    "for i in range(100000000):\n",
    "    r += i\n",
    "print(r)\n",
    "\n",
    "t1 = time.time()  # 代码结束执行时间\n",
    "print(t1)\n",
    "print(datetime.fromtimestamp(t1))\n",
    "\n",
    "spend1 = t1 - t0\n",
    "\n",
    "print(\"time()方法用时：{}s\".format(spend1))\n",
    "print(\"测试完毕\")"
   ],
   "metadata": {
    "collapsed": false,
    "pycharm": {
     "name": "#%%\n"
    }
   }
  },
  {
   "cell_type": "code",
   "execution_count": 18,
   "outputs": [],
   "source": [],
   "metadata": {
    "collapsed": false,
    "pycharm": {
     "name": "#%%\n"
    }
   }
  }
 ],
 "metadata": {
  "kernelspec": {
   "display_name": "Python 3",
   "language": "python",
   "name": "python3"
  },
  "language_info": {
   "codemirror_mode": {
    "name": "ipython",
    "version": 2
   },
   "file_extension": ".py",
   "mimetype": "text/x-python",
   "name": "python",
   "nbconvert_exporter": "python",
   "pygments_lexer": "ipython2",
   "version": "2.7.6"
  }
 },
 "nbformat": 4,
 "nbformat_minor": 0
}