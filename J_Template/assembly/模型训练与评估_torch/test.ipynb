{
 "cells": [
  {
   "cell_type": "code",
   "execution_count": 11,
   "metadata": {
    "collapsed": true
   },
   "outputs": [],
   "source": [
    "import torch.nn as nn\n",
    "import torch.optim as optim\n",
    "import numpy as np\n",
    "import torch.utils.data as Data\n",
    "import torch\n",
    "import pandas as pd\n",
    "import matplotlib.pyplot as plt\n",
    "from sklearn.metrics import accuracy_score\n",
    "\n",
    "from train_evaluate import Trainer\n",
    "\n",
    "%run train_evaluate.py"
   ]
  },
  {
   "cell_type": "code",
   "execution_count": 12,
   "outputs": [],
   "source": [
    "# 手写数字训练数据集\n",
    "mnist = np.load(\"../../../Other/datasets/NumPy/mnist.npz\")\n",
    "X_train, y_train, X_val, y_val = torch.unsqueeze(torch.tensor(mnist['x_train']), 1).to(dtype=torch.float32), \\\n",
    "                                 torch.tensor(mnist['y_train']).to(dtype=torch.long), \\\n",
    "                                 torch.unsqueeze(torch.tensor(mnist['x_test']), 1).to(dtype=torch.float32), \\\n",
    "                                 torch.tensor(mnist['y_test']).to(dtype=torch.long)\n",
    "X_train, X_val = X_train / 255.0, X_val / 255.0"
   ],
   "metadata": {
    "collapsed": false,
    "pycharm": {
     "name": "#%%\n"
    }
   }
  },
  {
   "cell_type": "code",
   "execution_count": 13,
   "outputs": [],
   "source": [
    "batch_size = 200\n",
    "train_data = Data.TensorDataset(X_train, y_train)\n",
    "train_loader = Data.DataLoader(dataset=train_data,\n",
    "                               batch_size=batch_size,\n",
    "                               shuffle=True)\n",
    "val_data = Data.TensorDataset(X_val, y_val)\n",
    "val_loader = Data.DataLoader(dataset=val_data, batch_size=batch_size)\n",
    "\n",
    "test_data = Data.TensorDataset(X_val)\n",
    "test_loader = Data.DataLoader(dataset=test_data, batch_size=batch_size)"
   ],
   "metadata": {
    "collapsed": false,
    "pycharm": {
     "name": "#%%\n"
    }
   }
  },
  {
   "cell_type": "code",
   "execution_count": 14,
   "outputs": [
    {
     "name": "stdout",
     "output_type": "stream",
     "text": [
      "300\n",
      "60000\n"
     ]
    }
   ],
   "source": [
    "print(len(train_loader))\n",
    "print(len(train_loader.dataset))"
   ],
   "metadata": {
    "collapsed": false,
    "pycharm": {
     "name": "#%%\n"
    }
   }
  },
  {
   "cell_type": "code",
   "execution_count": 15,
   "outputs": [],
   "source": [
    "class LeNet(nn.Module):\n",
    "    def __init__(self):\n",
    "        super(LeNet, self).__init__()\n",
    "        self.featrues = nn.Sequential(  # 内部实现了forward函数;各模块顺序执行\n",
    "            nn.Conv2d(1, 6, 3),\n",
    "            nn.ReLU(),\n",
    "            nn.MaxPool2d(2, 2),\n",
    "            nn.Conv2d(6, 16, 3),\n",
    "            nn.ReLU(),\n",
    "            nn.MaxPool2d(2, 2)\n",
    "        )\n",
    "        self.classifier = nn.Sequential(\n",
    "            nn.Linear(400, 120),\n",
    "            nn.ReLU(),\n",
    "            nn.Linear(120, 84),\n",
    "            nn.ReLU(),\n",
    "            nn.Linear(84, 10),  # 10分类问题\n",
    "        )\n",
    "\n",
    "    def forward(self, x):\n",
    "        x = self.featrues(x)\n",
    "        x = x.reshape(x.size()[0], -1)\n",
    "        x = self.classifier(x)\n",
    "        return x"
   ],
   "metadata": {
    "collapsed": false,
    "pycharm": {
     "name": "#%%\n"
    }
   }
  },
  {
   "cell_type": "code",
   "execution_count": 16,
   "outputs": [],
   "source": [
    "learning_rate = 0.001\n",
    "criteon = nn.CrossEntropyLoss()  # 定义损失函数为交叉熵\n",
    "net = LeNet()\n",
    "device = torch.device(\"cuda\" if torch.cuda.is_available() else \"cpu\")\n",
    "lenet = net.to(device)  # 模型设备切换必须在优化器定义前执行\n",
    "optimizer = optim.AdamW(net.parameters(), lr=learning_rate)"
   ],
   "metadata": {
    "collapsed": false,
    "pycharm": {
     "name": "#%%\n"
    }
   }
  },
  {
   "cell_type": "code",
   "execution_count": 17,
   "outputs": [],
   "source": [
    "t_and_v = Trainer(model=lenet, optimizer=optimizer, criterion=criteon, epochs=10)"
   ],
   "metadata": {
    "collapsed": false,
    "pycharm": {
     "name": "#%%\n"
    }
   }
  },
  {
   "cell_type": "code",
   "execution_count": 18,
   "outputs": [],
   "source": [
    "def compute_metrics_acc(predict_all, y_true):\n",
    "    predict = predict_all.argmax(-1)\n",
    "    label = y_true\n",
    "    acc = accuracy_score(label, predict)\n",
    "    return {\"acc\": acc}"
   ],
   "metadata": {
    "collapsed": false,
    "pycharm": {
     "name": "#%%\n"
    }
   }
  },
  {
   "cell_type": "code",
   "execution_count": 19,
   "outputs": [
    {
     "name": "stdout",
     "output_type": "stream",
     "text": [
      "Train Epoch: 0  [0    /60000 (0  %)]\tLoss: 2.297695\tacc: 0.120000\n",
      "Train Epoch: 0  [4000 /60000 (7  %)]\tLoss: 2.121043\tacc: 0.645000\n",
      "Train Epoch: 0  [8000 /60000 (13 %)]\tLoss: 1.094205\tacc: 0.675000\n",
      "Train Epoch: 0  [12000/60000 (20 %)]\tLoss: 0.541826\tacc: 0.785000\n",
      "Train Epoch: 0  [16000/60000 (27 %)]\tLoss: 0.596948\tacc: 0.790000\n",
      "Train Epoch: 0  [20000/60000 (33 %)]\tLoss: 0.619564\tacc: 0.810000\n",
      "Train Epoch: 0  [24000/60000 (40 %)]\tLoss: 0.582427\tacc: 0.825000\n",
      "Train Epoch: 0  [28000/60000 (47 %)]\tLoss: 0.220300\tacc: 0.940000\n",
      "Train Epoch: 0  [32000/60000 (53 %)]\tLoss: 0.428458\tacc: 0.865000\n",
      "Train Epoch: 0  [36000/60000 (60 %)]\tLoss: 0.228408\tacc: 0.940000\n",
      "Train Epoch: 0  [40000/60000 (67 %)]\tLoss: 0.278002\tacc: 0.935000\n",
      "Train Epoch: 0  [44000/60000 (73 %)]\tLoss: 0.219371\tacc: 0.935000\n",
      "Train Epoch: 0  [48000/60000 (80 %)]\tLoss: 0.185753\tacc: 0.950000\n",
      "Train Epoch: 0  [52000/60000 (87 %)]\tLoss: 0.263152\tacc: 0.910000\n",
      "Train Epoch: 0  [56000/60000 (93 %)]\tLoss: 0.171572\tacc: 0.955000\n",
      "Train Epoch: 0  [60000/60000 (100%)]\tLoss: 0.157983\tacc: 0.940000\n",
      "----------------------------------------------------------------------------------------------------\n",
      "Train Epoch: 1  [0    /60000 (0  %)]\tLoss: 0.184791\tacc: 0.940000\n",
      "Train Epoch: 1  [4000 /60000 (7  %)]\tLoss: 0.133306\tacc: 0.955000\n",
      "Train Epoch: 1  [8000 /60000 (13 %)]\tLoss: 0.162912\tacc: 0.945000\n",
      "Train Epoch: 1  [12000/60000 (20 %)]\tLoss: 0.206570\tacc: 0.950000\n",
      "Train Epoch: 1  [16000/60000 (27 %)]\tLoss: 0.149991\tacc: 0.960000\n",
      "Train Epoch: 1  [20000/60000 (33 %)]\tLoss: 0.170219\tacc: 0.930000\n",
      "Train Epoch: 1  [24000/60000 (40 %)]\tLoss: 0.193408\tacc: 0.920000\n",
      "Train Epoch: 1  [28000/60000 (47 %)]\tLoss: 0.181421\tacc: 0.955000\n",
      "Train Epoch: 1  [32000/60000 (53 %)]\tLoss: 0.086225\tacc: 0.975000\n",
      "Train Epoch: 1  [36000/60000 (60 %)]\tLoss: 0.146343\tacc: 0.955000\n",
      "Train Epoch: 1  [40000/60000 (67 %)]\tLoss: 0.129791\tacc: 0.955000\n",
      "Train Epoch: 1  [44000/60000 (73 %)]\tLoss: 0.117044\tacc: 0.960000\n",
      "Train Epoch: 1  [48000/60000 (80 %)]\tLoss: 0.102139\tacc: 0.965000\n",
      "Train Epoch: 1  [52000/60000 (87 %)]\tLoss: 0.102822\tacc: 0.950000\n",
      "Train Epoch: 1  [56000/60000 (93 %)]\tLoss: 0.132620\tacc: 0.970000\n",
      "Train Epoch: 1  [60000/60000 (100%)]\tLoss: 0.123552\tacc: 0.970000\n",
      "----------------------------------------------------------------------------------------------------\n",
      "Train Epoch: 2  [0    /60000 (0  %)]\tLoss: 0.131700\tacc: 0.955000\n",
      "Train Epoch: 2  [4000 /60000 (7  %)]\tLoss: 0.098361\tacc: 0.985000\n",
      "Train Epoch: 2  [8000 /60000 (13 %)]\tLoss: 0.084575\tacc: 0.980000\n",
      "Train Epoch: 2  [12000/60000 (20 %)]\tLoss: 0.137516\tacc: 0.955000\n",
      "Train Epoch: 2  [16000/60000 (27 %)]\tLoss: 0.063900\tacc: 0.970000\n",
      "Train Epoch: 2  [20000/60000 (33 %)]\tLoss: 0.138354\tacc: 0.960000\n",
      "Train Epoch: 2  [24000/60000 (40 %)]\tLoss: 0.101132\tacc: 0.970000\n",
      "Train Epoch: 2  [28000/60000 (47 %)]\tLoss: 0.123719\tacc: 0.960000\n",
      "Train Epoch: 2  [32000/60000 (53 %)]\tLoss: 0.083780\tacc: 0.965000\n",
      "Train Epoch: 2  [36000/60000 (60 %)]\tLoss: 0.096696\tacc: 0.975000\n",
      "Train Epoch: 2  [40000/60000 (67 %)]\tLoss: 0.088449\tacc: 0.975000\n",
      "Train Epoch: 2  [44000/60000 (73 %)]\tLoss: 0.087888\tacc: 0.965000\n",
      "Train Epoch: 2  [48000/60000 (80 %)]\tLoss: 0.139515\tacc: 0.970000\n",
      "Train Epoch: 2  [52000/60000 (87 %)]\tLoss: 0.078879\tacc: 0.970000\n",
      "Train Epoch: 2  [56000/60000 (93 %)]\tLoss: 0.067193\tacc: 0.980000\n",
      "Train Epoch: 2  [60000/60000 (100%)]\tLoss: 0.153695\tacc: 0.965000\n",
      "----------------------------------------------------------------------------------------------------\n",
      "Train Epoch: 3  [0    /60000 (0  %)]\tLoss: 0.096248\tacc: 0.970000\n",
      "Train Epoch: 3  [4000 /60000 (7  %)]\tLoss: 0.067818\tacc: 0.975000\n",
      "Train Epoch: 3  [8000 /60000 (13 %)]\tLoss: 0.059218\tacc: 0.980000\n",
      "Train Epoch: 3  [12000/60000 (20 %)]\tLoss: 0.100802\tacc: 0.975000\n",
      "Train Epoch: 3  [16000/60000 (27 %)]\tLoss: 0.104754\tacc: 0.960000\n",
      "Train Epoch: 3  [20000/60000 (33 %)]\tLoss: 0.074785\tacc: 0.975000\n",
      "Train Epoch: 3  [24000/60000 (40 %)]\tLoss: 0.026827\tacc: 0.990000\n",
      "Train Epoch: 3  [28000/60000 (47 %)]\tLoss: 0.151365\tacc: 0.960000\n",
      "Train Epoch: 3  [32000/60000 (53 %)]\tLoss: 0.123897\tacc: 0.965000\n",
      "Train Epoch: 3  [36000/60000 (60 %)]\tLoss: 0.057411\tacc: 0.980000\n",
      "Train Epoch: 3  [40000/60000 (67 %)]\tLoss: 0.055643\tacc: 0.985000\n",
      "Train Epoch: 3  [44000/60000 (73 %)]\tLoss: 0.050535\tacc: 0.985000\n",
      "Train Epoch: 3  [48000/60000 (80 %)]\tLoss: 0.049018\tacc: 0.990000\n",
      "Train Epoch: 3  [52000/60000 (87 %)]\tLoss: 0.049903\tacc: 0.980000\n",
      "Train Epoch: 3  [56000/60000 (93 %)]\tLoss: 0.106314\tacc: 0.965000\n",
      "Train Epoch: 3  [60000/60000 (100%)]\tLoss: 0.055338\tacc: 0.980000\n",
      "----------------------------------------------------------------------------------------------------\n",
      "Train Epoch: 4  [0    /60000 (0  %)]\tLoss: 0.080886\tacc: 0.975000\n",
      "Train Epoch: 4  [4000 /60000 (7  %)]\tLoss: 0.141985\tacc: 0.950000\n",
      "Train Epoch: 4  [8000 /60000 (13 %)]\tLoss: 0.054523\tacc: 0.975000\n",
      "Train Epoch: 4  [12000/60000 (20 %)]\tLoss: 0.050586\tacc: 0.970000\n",
      "Train Epoch: 4  [16000/60000 (27 %)]\tLoss: 0.062244\tacc: 0.975000\n",
      "Train Epoch: 4  [20000/60000 (33 %)]\tLoss: 0.024123\tacc: 0.995000\n",
      "Train Epoch: 4  [24000/60000 (40 %)]\tLoss: 0.076884\tacc: 0.965000\n",
      "Train Epoch: 4  [28000/60000 (47 %)]\tLoss: 0.088052\tacc: 0.975000\n",
      "Train Epoch: 4  [32000/60000 (53 %)]\tLoss: 0.048542\tacc: 0.980000\n",
      "Train Epoch: 4  [36000/60000 (60 %)]\tLoss: 0.080229\tacc: 0.970000\n",
      "Train Epoch: 4  [40000/60000 (67 %)]\tLoss: 0.103746\tacc: 0.975000\n",
      "Train Epoch: 4  [44000/60000 (73 %)]\tLoss: 0.045171\tacc: 0.985000\n",
      "Train Epoch: 4  [48000/60000 (80 %)]\tLoss: 0.077197\tacc: 0.980000\n",
      "Train Epoch: 4  [52000/60000 (87 %)]\tLoss: 0.060381\tacc: 0.980000\n",
      "Train Epoch: 4  [56000/60000 (93 %)]\tLoss: 0.036767\tacc: 0.985000\n",
      "Train Epoch: 4  [60000/60000 (100%)]\tLoss: 0.025598\tacc: 0.990000\n",
      "----------------------------------------------------------------------------------------------------\n",
      "Train Epoch: 5  [0    /60000 (0  %)]\tLoss: 0.078590\tacc: 0.980000\n",
      "Train Epoch: 5  [4000 /60000 (7  %)]\tLoss: 0.105032\tacc: 0.970000\n",
      "Train Epoch: 5  [8000 /60000 (13 %)]\tLoss: 0.023620\tacc: 0.990000\n",
      "Train Epoch: 5  [12000/60000 (20 %)]\tLoss: 0.043563\tacc: 0.985000\n",
      "Train Epoch: 5  [16000/60000 (27 %)]\tLoss: 0.036491\tacc: 0.995000\n",
      "Train Epoch: 5  [20000/60000 (33 %)]\tLoss: 0.084332\tacc: 0.980000\n",
      "Train Epoch: 5  [24000/60000 (40 %)]\tLoss: 0.043651\tacc: 0.985000\n",
      "Train Epoch: 5  [28000/60000 (47 %)]\tLoss: 0.095537\tacc: 0.980000\n",
      "Train Epoch: 5  [32000/60000 (53 %)]\tLoss: 0.067043\tacc: 0.980000\n",
      "Train Epoch: 5  [36000/60000 (60 %)]\tLoss: 0.035970\tacc: 0.990000\n",
      "Train Epoch: 5  [40000/60000 (67 %)]\tLoss: 0.048685\tacc: 0.985000\n",
      "Train Epoch: 5  [44000/60000 (73 %)]\tLoss: 0.043725\tacc: 0.980000\n",
      "Train Epoch: 5  [48000/60000 (80 %)]\tLoss: 0.082283\tacc: 0.965000\n",
      "Train Epoch: 5  [52000/60000 (87 %)]\tLoss: 0.042217\tacc: 0.995000\n",
      "Train Epoch: 5  [56000/60000 (93 %)]\tLoss: 0.039862\tacc: 0.985000\n",
      "Train Epoch: 5  [60000/60000 (100%)]\tLoss: 0.087360\tacc: 0.970000\n",
      "----------------------------------------------------------------------------------------------------\n",
      "Train Epoch: 6  [0    /60000 (0  %)]\tLoss: 0.048414\tacc: 0.980000\n",
      "Train Epoch: 6  [4000 /60000 (7  %)]\tLoss: 0.042423\tacc: 0.985000\n",
      "Train Epoch: 6  [8000 /60000 (13 %)]\tLoss: 0.032369\tacc: 0.990000\n",
      "Train Epoch: 6  [12000/60000 (20 %)]\tLoss: 0.031092\tacc: 0.990000\n",
      "Train Epoch: 6  [16000/60000 (27 %)]\tLoss: 0.035677\tacc: 0.985000\n",
      "Train Epoch: 6  [20000/60000 (33 %)]\tLoss: 0.034741\tacc: 0.985000\n",
      "Train Epoch: 6  [24000/60000 (40 %)]\tLoss: 0.059198\tacc: 0.975000\n",
      "Train Epoch: 6  [28000/60000 (47 %)]\tLoss: 0.040763\tacc: 0.995000\n",
      "Train Epoch: 6  [32000/60000 (53 %)]\tLoss: 0.040748\tacc: 0.995000\n",
      "Train Epoch: 6  [36000/60000 (60 %)]\tLoss: 0.052361\tacc: 0.990000\n",
      "Train Epoch: 6  [40000/60000 (67 %)]\tLoss: 0.035405\tacc: 0.995000\n",
      "Train Epoch: 6  [44000/60000 (73 %)]\tLoss: 0.068452\tacc: 0.975000\n",
      "Train Epoch: 6  [48000/60000 (80 %)]\tLoss: 0.039084\tacc: 0.985000\n",
      "Train Epoch: 6  [52000/60000 (87 %)]\tLoss: 0.018754\tacc: 0.995000\n",
      "Train Epoch: 6  [56000/60000 (93 %)]\tLoss: 0.046612\tacc: 0.980000\n",
      "Train Epoch: 6  [60000/60000 (100%)]\tLoss: 0.016472\tacc: 0.995000\n",
      "----------------------------------------------------------------------------------------------------\n",
      "Train Epoch: 7  [0    /60000 (0  %)]\tLoss: 0.010100\tacc: 1.000000\n",
      "Train Epoch: 7  [4000 /60000 (7  %)]\tLoss: 0.026345\tacc: 0.990000\n",
      "Train Epoch: 7  [8000 /60000 (13 %)]\tLoss: 0.036097\tacc: 0.990000\n",
      "Train Epoch: 7  [12000/60000 (20 %)]\tLoss: 0.010427\tacc: 1.000000\n",
      "Train Epoch: 7  [16000/60000 (27 %)]\tLoss: 0.057551\tacc: 0.985000\n",
      "Train Epoch: 7  [20000/60000 (33 %)]\tLoss: 0.070416\tacc: 0.980000\n",
      "Train Epoch: 7  [24000/60000 (40 %)]\tLoss: 0.016303\tacc: 0.995000\n",
      "Train Epoch: 7  [28000/60000 (47 %)]\tLoss: 0.052102\tacc: 0.990000\n",
      "Train Epoch: 7  [32000/60000 (53 %)]\tLoss: 0.054375\tacc: 0.990000\n",
      "Train Epoch: 7  [36000/60000 (60 %)]\tLoss: 0.031863\tacc: 0.985000\n",
      "Train Epoch: 7  [40000/60000 (67 %)]\tLoss: 0.128689\tacc: 0.985000\n",
      "Train Epoch: 7  [44000/60000 (73 %)]\tLoss: 0.026706\tacc: 0.990000\n",
      "Train Epoch: 7  [48000/60000 (80 %)]\tLoss: 0.018205\tacc: 0.995000\n",
      "Train Epoch: 7  [52000/60000 (87 %)]\tLoss: 0.058774\tacc: 0.975000\n",
      "Train Epoch: 7  [56000/60000 (93 %)]\tLoss: 0.085483\tacc: 0.985000\n",
      "Train Epoch: 7  [60000/60000 (100%)]\tLoss: 0.026538\tacc: 0.990000\n",
      "----------------------------------------------------------------------------------------------------\n",
      "Train Epoch: 8  [0    /60000 (0  %)]\tLoss: 0.020981\tacc: 0.995000\n",
      "Train Epoch: 8  [4000 /60000 (7  %)]\tLoss: 0.039047\tacc: 0.990000\n",
      "Train Epoch: 8  [8000 /60000 (13 %)]\tLoss: 0.097605\tacc: 0.970000\n",
      "Train Epoch: 8  [12000/60000 (20 %)]\tLoss: 0.021457\tacc: 0.995000\n",
      "Train Epoch: 8  [16000/60000 (27 %)]\tLoss: 0.026764\tacc: 0.990000\n",
      "Train Epoch: 8  [20000/60000 (33 %)]\tLoss: 0.028100\tacc: 0.990000\n",
      "Train Epoch: 8  [24000/60000 (40 %)]\tLoss: 0.063256\tacc: 0.980000\n",
      "Train Epoch: 8  [28000/60000 (47 %)]\tLoss: 0.024914\tacc: 0.995000\n",
      "Train Epoch: 8  [32000/60000 (53 %)]\tLoss: 0.066555\tacc: 0.980000\n",
      "Train Epoch: 8  [36000/60000 (60 %)]\tLoss: 0.053777\tacc: 0.985000\n",
      "Train Epoch: 8  [40000/60000 (67 %)]\tLoss: 0.019797\tacc: 0.995000\n",
      "Train Epoch: 8  [44000/60000 (73 %)]\tLoss: 0.066216\tacc: 0.990000\n",
      "Train Epoch: 8  [48000/60000 (80 %)]\tLoss: 0.042874\tacc: 0.985000\n",
      "Train Epoch: 8  [52000/60000 (87 %)]\tLoss: 0.029402\tacc: 0.985000\n",
      "Train Epoch: 8  [56000/60000 (93 %)]\tLoss: 0.034070\tacc: 0.980000\n",
      "Train Epoch: 8  [60000/60000 (100%)]\tLoss: 0.041640\tacc: 0.990000\n",
      "----------------------------------------------------------------------------------------------------\n",
      "Train Epoch: 9  [0    /60000 (0  %)]\tLoss: 0.039287\tacc: 0.980000\n",
      "Train Epoch: 9  [4000 /60000 (7  %)]\tLoss: 0.036444\tacc: 0.985000\n",
      "Train Epoch: 9  [8000 /60000 (13 %)]\tLoss: 0.035188\tacc: 0.990000\n",
      "Train Epoch: 9  [12000/60000 (20 %)]\tLoss: 0.012021\tacc: 0.995000\n",
      "Train Epoch: 9  [16000/60000 (27 %)]\tLoss: 0.019724\tacc: 0.990000\n",
      "Train Epoch: 9  [20000/60000 (33 %)]\tLoss: 0.036336\tacc: 0.980000\n",
      "Train Epoch: 9  [24000/60000 (40 %)]\tLoss: 0.044225\tacc: 0.990000\n",
      "Train Epoch: 9  [28000/60000 (47 %)]\tLoss: 0.059575\tacc: 0.975000\n",
      "Train Epoch: 9  [32000/60000 (53 %)]\tLoss: 0.040412\tacc: 0.980000\n",
      "Train Epoch: 9  [36000/60000 (60 %)]\tLoss: 0.025670\tacc: 0.990000\n",
      "Train Epoch: 9  [40000/60000 (67 %)]\tLoss: 0.025807\tacc: 0.990000\n",
      "Train Epoch: 9  [44000/60000 (73 %)]\tLoss: 0.082038\tacc: 0.965000\n",
      "Train Epoch: 9  [48000/60000 (80 %)]\tLoss: 0.036951\tacc: 0.985000\n",
      "Train Epoch: 9  [52000/60000 (87 %)]\tLoss: 0.008035\tacc: 1.000000\n",
      "Train Epoch: 9  [56000/60000 (93 %)]\tLoss: 0.034362\tacc: 0.990000\n",
      "Train Epoch: 9  [60000/60000 (100%)]\tLoss: 0.018152\tacc: 0.995000\n",
      "----------------------------------------------------------------------------------------------------\n",
      "{'Training loss': [0.19739758968353271, 0.11551197618246078, 0.07782600820064545, 0.06161529943346977, 0.05140293762087822, 0.046151190996170044, 0.03890213370323181, 0.03968118131160736, 0.03621290624141693, 0.028912942856550217], 'Training acc': [0.9381333333333334, 0.9641666666666666, 0.9759333333333333, 0.98105, 0.9846333333333334, 0.9860833333333333, 0.9882333333333333, 0.98755, 0.98845, 0.9914666666666667], 'Validation loss': [0.18104779720306396, 0.10194322466850281, 0.07265593111515045, 0.058915235102176666, 0.0504317432641983, 0.04895787686109543, 0.04592844098806381, 0.046298298984766006, 0.04446019232273102, 0.040769271552562714], 'Validation acc': [0.9447, 0.968, 0.9773, 0.9808, 0.9834, 0.9835, 0.9854, 0.9845, 0.9861, 0.9869]}\n"
     ]
    }
   ],
   "source": [
    "metric_result = t_and_v.train(train_loader=train_loader, valid_loader=val_loader, compute_metrics=compute_metrics_acc)\n",
    "print(metric_result)  # 每一轮验证数据集的损失值"
   ],
   "metadata": {
    "collapsed": false,
    "pycharm": {
     "name": "#%%\n"
    }
   }
  },
  {
   "cell_type": "code",
   "execution_count": 20,
   "outputs": [
    {
     "data": {
      "text/plain": "       Training loss  Training acc  Validation loss  Validation acc\nepoch                                                              \n0           0.197398      0.938133         0.181048          0.9447\n1           0.115512      0.964167         0.101943          0.9680\n2           0.077826      0.975933         0.072656          0.9773\n3           0.061615      0.981050         0.058915          0.9808\n4           0.051403      0.984633         0.050432          0.9834\n5           0.046151      0.986083         0.048958          0.9835\n6           0.038902      0.988233         0.045928          0.9854\n7           0.039681      0.987550         0.046298          0.9845\n8           0.036213      0.988450         0.044460          0.9861\n9           0.028913      0.991467         0.040769          0.9869",
      "text/html": "<div>\n<style scoped>\n    .dataframe tbody tr th:only-of-type {\n        vertical-align: middle;\n    }\n\n    .dataframe tbody tr th {\n        vertical-align: top;\n    }\n\n    .dataframe thead th {\n        text-align: right;\n    }\n</style>\n<table border=\"1\" class=\"dataframe\">\n  <thead>\n    <tr style=\"text-align: right;\">\n      <th></th>\n      <th>Training loss</th>\n      <th>Training acc</th>\n      <th>Validation loss</th>\n      <th>Validation acc</th>\n    </tr>\n    <tr>\n      <th>epoch</th>\n      <th></th>\n      <th></th>\n      <th></th>\n      <th></th>\n    </tr>\n  </thead>\n  <tbody>\n    <tr>\n      <th>0</th>\n      <td>0.197398</td>\n      <td>0.938133</td>\n      <td>0.181048</td>\n      <td>0.9447</td>\n    </tr>\n    <tr>\n      <th>1</th>\n      <td>0.115512</td>\n      <td>0.964167</td>\n      <td>0.101943</td>\n      <td>0.9680</td>\n    </tr>\n    <tr>\n      <th>2</th>\n      <td>0.077826</td>\n      <td>0.975933</td>\n      <td>0.072656</td>\n      <td>0.9773</td>\n    </tr>\n    <tr>\n      <th>3</th>\n      <td>0.061615</td>\n      <td>0.981050</td>\n      <td>0.058915</td>\n      <td>0.9808</td>\n    </tr>\n    <tr>\n      <th>4</th>\n      <td>0.051403</td>\n      <td>0.984633</td>\n      <td>0.050432</td>\n      <td>0.9834</td>\n    </tr>\n    <tr>\n      <th>5</th>\n      <td>0.046151</td>\n      <td>0.986083</td>\n      <td>0.048958</td>\n      <td>0.9835</td>\n    </tr>\n    <tr>\n      <th>6</th>\n      <td>0.038902</td>\n      <td>0.988233</td>\n      <td>0.045928</td>\n      <td>0.9854</td>\n    </tr>\n    <tr>\n      <th>7</th>\n      <td>0.039681</td>\n      <td>0.987550</td>\n      <td>0.046298</td>\n      <td>0.9845</td>\n    </tr>\n    <tr>\n      <th>8</th>\n      <td>0.036213</td>\n      <td>0.988450</td>\n      <td>0.044460</td>\n      <td>0.9861</td>\n    </tr>\n    <tr>\n      <th>9</th>\n      <td>0.028913</td>\n      <td>0.991467</td>\n      <td>0.040769</td>\n      <td>0.9869</td>\n    </tr>\n  </tbody>\n</table>\n</div>"
     },
     "execution_count": 20,
     "metadata": {},
     "output_type": "execute_result"
    }
   ],
   "source": [
    "metric_result_df = pd.DataFrame(metric_result)\n",
    "metric_result_df.index.name = 'epoch'\n",
    "metric_result_df"
   ],
   "metadata": {
    "collapsed": false,
    "pycharm": {
     "name": "#%%\n"
    }
   }
  },
  {
   "cell_type": "code",
   "execution_count": 26,
   "outputs": [
    {
     "data": {
      "text/plain": "<Figure size 432x288 with 1 Axes>",
      "image/png": "[encoded data removed]"
     },
     "metadata": {
      "needs_background": "light"
     },
     "output_type": "display_data"
    }
   ],
   "source": [
    "plt.plot(metric_result['Training loss'], label='Training loss')\n",
    "plt.plot(metric_result['Validation loss'], label='Validation loss')\n",
    "plt.ylabel('loss')\n",
    "plt.xlabel('epoch')\n",
    "plt.legend()\n",
    "plt.show()"
   ],
   "metadata": {
    "collapsed": false,
    "pycharm": {
     "name": "#%%\n"
    }
   }
  },
  {
   "cell_type": "code",
   "execution_count": 27,
   "outputs": [
    {
     "data": {
      "text/plain": "<Figure size 432x288 with 1 Axes>",
      "image/png": "[encoded data removed]"
     },
     "metadata": {
      "needs_background": "light"
     },
     "output_type": "display_data"
    }
   ],
   "source": [
    "plt.plot(metric_result['Training acc'], label='Training acc')\n",
    "plt.plot(metric_result['Validation acc'], label='Validation acc')\n",
    "plt.ylabel('acc')\n",
    "plt.xlabel('epoch')\n",
    "plt.legend()\n",
    "plt.show()"
   ],
   "metadata": {
    "collapsed": false,
    "pycharm": {
     "name": "#%%\n"
    }
   }
  },
  {
   "cell_type": "code",
   "execution_count": 23,
   "outputs": [
    {
     "name": "stdout",
     "output_type": "stream",
     "text": [
      "tensor([[ -3.3228,  -0.7422,   1.1993,  ...,  14.3720,  -3.8392,  -0.5684],\n",
      "        [  2.7593,   4.2663,  18.0228,  ...,  -6.7618,   0.5068, -11.2879],\n",
      "        [ -2.9025,   9.2152,  -0.1106,  ...,   0.4085,  -0.9986,  -5.0396],\n",
      "        ...,\n",
      "        [ -8.1527,  -2.8910,  -5.4181,  ...,  -1.7568,  -0.5016,  -2.2881],\n",
      "        [ -4.4256, -10.7319,  -9.7188,  ...,  -7.7688,   4.5311,  -3.7905],\n",
      "        [ -0.1946, -10.1519,   0.1435,  ..., -13.4627,   1.2175,  -4.9107]],\n",
      "       device='cuda:0')\n",
      "torch.Size([10000, 10])\n"
     ]
    }
   ],
   "source": [
    "pre_result = t_and_v.predict(test_loader, status='Test')\n",
    "print(pre_result)\n",
    "print(pre_result.shape)"
   ],
   "metadata": {
    "collapsed": false,
    "pycharm": {
     "name": "#%%\n"
    }
   }
  }
 ],
 "metadata": {
  "kernelspec": {
   "display_name": "Python 3",
   "language": "python",
   "name": "python3"
  },
  "language_info": {
   "codemirror_mode": {
    "name": "ipython",
    "version": 2
   },
   "file_extension": ".py",
   "mimetype": "text/x-python",
   "name": "python",
   "nbconvert_exporter": "python",
   "pygments_lexer": "ipython2",
   "version": "2.7.6"
  }
 },
 "nbformat": 4,
 "nbformat_minor": 0
}