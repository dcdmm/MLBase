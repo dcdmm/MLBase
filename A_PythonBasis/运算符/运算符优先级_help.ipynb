{
 "cells": [
  {
   "cell_type": "markdown",
   "source": [
    "<font size=4 color='red'>优先级排序</font>  \n",
    "1. **(指数运算)\n",
    "2. ~\n",
    "3. *; /; %;//\n",
    "4. \\+; \\-\n",
    "5. &; |\n",
    "6. <=; <; >; >=\n",
    "7. ==; !=\n",
    "8. =; %=; /=; //=; -=; +=; *=; **=\n",
    "9. is; is not\n",
    "10. in; not in\n",
    "11. not; and; or"
   ],
   "metadata": {
    "collapsed": false,
    "pycharm": {
     "name": "#%% md\n"
    }
   }
  }
 ],
 "metadata": {
  "language_info": {
   "codemirror_mode": {
    "name": "ipython",
    "version": 2
   },
   "file_extension": ".py",
   "mimetype": "text/x-python",
   "name": "python",
   "nbconvert_exporter": "python",
   "pygments_lexer": "ipython2",
   "version": "2.7.6"
  },
  "kernelspec": {
   "name": "python3",
   "language": "python",
   "display_name": "Python 3"
  }
 },
 "nbformat": 4,
 "nbformat_minor": 0
}