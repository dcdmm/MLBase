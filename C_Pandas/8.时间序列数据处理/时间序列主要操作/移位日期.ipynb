{
 "cells": [
  {
   "cell_type": "code",
   "execution_count": null,
   "outputs": [],
   "source": [
    "import numpy as np\n",
    "import  pandas as pd\n",
    "from datetime import  datetime"
   ],
   "metadata": {
    "collapsed": false,
    "pycharm": {
     "name": "#%%\n"
    }
   }
  },
  {
   "cell_type": "code",
   "execution_count": 2,
   "metadata": {
    "pycharm": {
     "is_executing": false
    }
   },
   "outputs": [
    {
     "data": {
      "text/plain": "2000-01-31   -0.178284\n2000-02-29    1.890044\n2000-03-31    1.754700\n2000-04-30   -0.282851\nFreq: M, dtype: float64"
     },
     "metadata": {},
     "output_type": "execute_result",
     "execution_count": 2
    }
   ],
   "source": [
    "ts = pd.Series(np.random.randn(4),\n",
    "               index=pd.date_range('1/1/2000', periods=4, freq='M'))\n",
    "ts"
   ]
  },
  {
   "cell_type": "code",
   "execution_count": 3,
   "metadata": {
    "pycharm": {
     "is_executing": false
    }
   },
   "outputs": [
    {
     "data": {
      "text/plain": "2000-01-31         NaN\n2000-02-29         NaN\n2000-03-31   -0.178284\n2000-04-30    1.890044\nFreq: M, dtype: float64"
     },
     "metadata": {},
     "output_type": "execute_result",
     "execution_count": 3
    }
   ],
   "source": [
    "ts.shift(2) # 将数据向后移位,不改变索引"
   ]
  },
  {
   "cell_type": "code",
   "execution_count": 4,
   "metadata": {
    "pycharm": {
     "is_executing": false
    }
   },
   "outputs": [
    {
     "data": {
      "text/plain": "2000-01-31    1.754700\n2000-02-29   -0.282851\n2000-03-31         NaN\n2000-04-30         NaN\nFreq: M, dtype: float64"
     },
     "metadata": {},
     "output_type": "execute_result",
     "execution_count": 4
    }
   ],
   "source": [
    "ts.shift(-2)\n",
    "# 会在时间序列的起始位或结束位引入缺失值"
   ]
  },
  {
   "cell_type": "code",
   "execution_count": 5,
   "metadata": {
    "pycharm": {
     "is_executing": false
    }
   },
   "outputs": [
    {
     "data": {
      "text/plain": "2000-01-31          NaN\n2000-02-29   -10.601334\n2000-03-31     0.928391\n2000-04-30    -0.161196\nFreq: M, dtype: float64"
     },
     "metadata": {},
     "output_type": "execute_result",
     "execution_count": 5
    }
   ],
   "source": [
    "# shift常用于计算时间序列或DataFrame多列时间序列的百分比变化\n",
    "ts / ts.shift(1) "
   ]
  },
  {
   "cell_type": "code",
   "execution_count": 6,
   "metadata": {
    "pycharm": {
     "is_executing": false
    }
   },
   "outputs": [
    {
     "data": {
      "text/plain": "2000-03-31   -0.178284\n2000-04-30    1.890044\n2000-05-31    1.754700\n2000-06-30   -0.282851\nFreq: M, dtype: float64"
     },
     "metadata": {},
     "output_type": "execute_result",
     "execution_count": 6
    }
   ],
   "source": [
    "ts.shift(2, freq='M') # 通过将频率传递给shift来推移时间戳而不是简单的移位数据"
   ]
  },
  {
   "cell_type": "code",
   "execution_count": 7,
   "metadata": {
    "pycharm": {
     "is_executing": false
    }
   },
   "outputs": [
    {
     "data": {
      "text/plain": "2000-02-03   -0.178284\n2000-03-03    1.890044\n2000-04-03    1.754700\n2000-05-03   -0.282851\ndtype: float64"
     },
     "metadata": {},
     "output_type": "execute_result",
     "execution_count": 7
    }
   ],
   "source": [
    "ts.shift(3, freq='D')"
   ]
  },
  {
   "cell_type": "code",
   "execution_count": 8,
   "metadata": {
    "pycharm": {
     "is_executing": false
    }
   },
   "outputs": [
    {
     "data": {
      "text/plain": "2000-01-31 01:30:00   -0.178284\n2000-02-29 01:30:00    1.890044\n2000-03-31 01:30:00    1.754700\n2000-04-30 01:30:00   -0.282851\nFreq: M, dtype: float64"
     },
     "metadata": {},
     "output_type": "execute_result",
     "execution_count": 8
    }
   ],
   "source": [
    "ts.shift(1, freq='90T')  # T代表分钟"
   ]
  },
  {
   "cell_type": "code",
   "execution_count": 9,
   "metadata": {
    "pycharm": {
     "is_executing": false
    }
   },
   "outputs": [],
   "source": [
    "from pandas.tseries.offsets import  MonthEnd, Day, YearBegin, YearEnd\n",
    "now = datetime(2011, 11, 17)"
   ]
  },
  {
   "cell_type": "code",
   "execution_count": 10,
   "outputs": [
    {
     "data": {
      "text/plain": "Timestamp('2011-11-20 00:00:00')"
     },
     "metadata": {},
     "output_type": "execute_result",
     "execution_count": 10
    }
   ],
   "source": [
    "now + 3 * Day() # 向前偏移三天"
   ],
   "metadata": {
    "pycharm": {
     "metadata": false,
     "name": "#%%\n",
     "is_executing": false
    }
   }
  },
  {
   "cell_type": "code",
   "execution_count": 11,
   "outputs": [
    {
     "data": {
      "text/plain": "Timestamp('2011-11-30 00:00:00')"
     },
     "metadata": {},
     "output_type": "execute_result",
     "execution_count": 11
    }
   ],
   "source": [
    "now + MonthEnd()"
   ],
   "metadata": {
    "pycharm": {
     "metadata": false,
     "name": "#%%\n",
     "is_executing": false
    }
   }
  },
  {
   "cell_type": "code",
   "execution_count": 12,
   "outputs": [
    {
     "data": {
      "text/plain": "Timestamp('2012-01-01 00:00:00')"
     },
     "metadata": {},
     "output_type": "execute_result",
     "execution_count": 12
    }
   ],
   "source": [
    "now + YearBegin() # 偏移至calendar year begin"
   ],
   "metadata": {
    "pycharm": {
     "metadata": false,
     "name": "#%%\n",
     "is_executing": false
    }
   }
  },
  {
   "cell_type": "code",
   "execution_count": 13,
   "outputs": [
    {
     "data": {
      "text/plain": "Timestamp('2011-12-31 00:00:00')"
     },
     "metadata": {},
     "output_type": "execute_result",
     "execution_count": 13
    }
   ],
   "source": [
    "now + YearEnd() # 偏移至calendar year end"
   ],
   "metadata": {
    "pycharm": {
     "metadata": false,
     "name": "#%%\n",
     "is_executing": false
    }
   }
  },
  {
   "cell_type": "code",
   "execution_count": 14,
   "metadata": {
    "pycharm": {
     "is_executing": false
    }
   },
   "outputs": [
    {
     "data": {
      "text/plain": "pandas.tseries.offsets.MonthEnd"
     },
     "metadata": {},
     "output_type": "execute_result",
     "execution_count": 14
    }
   ],
   "source": [
    "# 使用rollforward和rollback分别显式地将日期向前或向后'滚动'\n",
    "offset = MonthEnd()\n",
    "type(offset)"
   ]
  },
  {
   "cell_type": "code",
   "execution_count": 15,
   "metadata": {
    "pycharm": {
     "is_executing": false
    }
   },
   "outputs": [
    {
     "data": {
      "text/plain": "Timestamp('2011-11-30 00:00:00')"
     },
     "metadata": {},
     "output_type": "execute_result",
     "execution_count": 15
    }
   ],
   "source": [
    "offset.rollforward(now) # Roll provided date forward to next offset only if not on offset."
   ]
  },
  {
   "cell_type": "code",
   "execution_count": 16,
   "metadata": {
    "pycharm": {
     "is_executing": false
    }
   },
   "outputs": [
    {
     "data": {
      "text/plain": "Timestamp('2011-10-31 00:00:00')"
     },
     "metadata": {},
     "output_type": "execute_result",
     "execution_count": 16
    }
   ],
   "source": [
    "offset.rollback(now) # Roll provided date backward to next offset only if not on offset."
   ]
  },
  {
   "cell_type": "code",
   "execution_count": 17,
   "metadata": {
    "pycharm": {
     "is_executing": false
    }
   },
   "outputs": [
    {
     "data": {
      "text/plain": "2000-01-15   -0.725910\n2000-01-19   -1.348110\n2000-01-23   -1.377435\n2000-01-27    1.060186\n2000-01-31    1.547069\n2000-02-04    0.113114\n2000-02-08    0.159558\n2000-02-12   -0.669182\n2000-02-16    1.617083\n2000-02-20    1.746069\n2000-02-24   -1.030340\n2000-02-28    0.445303\n2000-03-03    0.295365\n2000-03-07   -0.311792\n2000-03-11    1.026323\n2000-03-15   -0.804583\n2000-03-19    0.883406\n2000-03-23    0.593096\n2000-03-27   -1.143772\n2000-03-31    0.576670\nFreq: 4D, dtype: float64"
     },
     "metadata": {},
     "output_type": "execute_result",
     "execution_count": 17
    }
   ],
   "source": [
    "ts = pd.Series(np.random.randn(20),\n",
    "               index=pd.date_range('1/15/2000', periods=20, freq='4d'))\n",
    "ts"
   ]
  },
  {
   "cell_type": "code",
   "execution_count": 18,
   "metadata": {
    "pycharm": {
     "is_executing": false
    }
   },
   "outputs": [
    {
     "name": "stdout",
     "text": [
      "(Timestamp('2000-01-31 00:00:00'), 2000-01-15   -0.725910\n2000-01-19   -1.348110\n2000-01-23   -1.377435\n2000-01-27    1.060186\n2000-01-31    1.547069\nFreq: 4D, dtype: float64)\n(Timestamp('2000-02-29 00:00:00'), 2000-02-04    0.113114\n2000-02-08    0.159558\n2000-02-12   -0.669182\n2000-02-16    1.617083\n2000-02-20    1.746069\n2000-02-24   -1.030340\n2000-02-28    0.445303\nFreq: 4D, dtype: float64)\n(Timestamp('2000-03-31 00:00:00'), 2000-03-03    0.295365\n2000-03-07   -0.311792\n2000-03-11    1.026323\n2000-03-15   -0.804583\n2000-03-19    0.883406\n2000-03-23    0.593096\n2000-03-27   -1.143772\n2000-03-31    0.576670\nFreq: 4D, dtype: float64)\n"
     ],
     "output_type": "stream"
    }
   ],
   "source": [
    "s = ts.groupby(offset.rollforward) # 移位方法与groupby一起使用\n",
    "for i in s:\n",
    "\tprint(i)"
   ]
  },
  {
   "cell_type": "code",
   "execution_count": null,
   "outputs": [],
   "source": [
    "\n"
   ],
   "metadata": {
    "collapsed": false,
    "pycharm": {
     "name": "#%%\n"
    }
   }
  }
 ],
 "metadata": {
  "kernelspec": {
   "name": "python3",
   "language": "python",
   "display_name": "Python 3"
  },
  "language_info": {
   "codemirror_mode": {
    "name": "ipython",
    "version": 2
   },
   "file_extension": ".py",
   "mimetype": "text/x-python",
   "name": "python",
   "nbconvert_exporter": "python",
   "pygments_lexer": "ipython2",
   "version": "2.7.6"
  },
  "pycharm": {
   "stem_cell": {
    "cell_type": "raw",
    "source": [],
    "metadata": {
     "collapsed": false
    }
   }
  }
 },
 "nbformat": 4,
 "nbformat_minor": 0
}