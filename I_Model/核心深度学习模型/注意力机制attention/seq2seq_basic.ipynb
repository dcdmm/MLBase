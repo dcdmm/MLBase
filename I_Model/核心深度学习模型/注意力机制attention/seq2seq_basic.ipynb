{
 "cells": [
  {
   "cell_type": "code",
   "execution_count": 19,
   "outputs": [],
   "source": [
    "import collections\n",
    "import torch\n",
    "import torch.utils.data as Data\n",
    "import torch.nn as nn\n",
    "from nltk.translate.bleu_score import sentence_bleu, SmoothingFunction"
   ],
   "metadata": {
    "collapsed": false,
    "pycharm": {
     "name": "#%%\n"
    }
   }
  },
  {
   "cell_type": "markdown",
   "source": [
    "### 数据处理"
   ],
   "metadata": {
    "collapsed": false,
    "pycharm": {
     "name": "#%% md\n"
    }
   }
  },
  {
   "cell_type": "code",
   "execution_count": 20,
   "outputs": [
    {
     "name": "stdout",
     "output_type": "stream",
     "text": [
      "Go.\tVa !\n",
      "Hi.\tSalut !\n",
      "Run!\tCours !\n",
      "Run!\tCourez !\n",
      "Who?\tQui ?\n",
      "Wow!\tÇa alors !\n",
      "\n"
     ]
    }
   ],
   "source": [
    "with open('fra.txt', 'r', encoding='utf-8') as f:\n",
    "    raw_text = f.read()\n",
    "\n",
    "# 左边为英文句子,右边为对应的法文句子\n",
    "print(raw_text[:75])"
   ],
   "metadata": {
    "collapsed": false,
    "pycharm": {
     "name": "#%%\n"
    }
   }
  },
  {
   "cell_type": "code",
   "execution_count": 21,
   "outputs": [
    {
     "name": "stdout",
     "output_type": "stream",
     "text": [
      "go .\tva !\n",
      "hi .\tsalut !\n",
      "run !\tcours !\n",
      "run !\tcourez !\n",
      "who ?\tqui ?\n",
      "wow !\tça alors !\n"
     ]
    }
   ],
   "source": [
    "def preprocess_nmt(text):\n",
    "    \"\"\"预处理\"英语<--->法语\"数据集\"\"\"\n",
    "\n",
    "    def no_space(char, prev_char):\n",
    "        return char in set(',.!?') and prev_char != ' '\n",
    "\n",
    "    # 使用空格替换不间断空格(non-breaking space)\n",
    "    text = text.replace('\\u202f', ' ').replace('\\xa0', ' ').lower()\n",
    "    # 使用小写字母替换大写字母\n",
    "    text = text.lower()\n",
    "    # 在单词和标点符号之间插⼊空格\n",
    "    out = [' ' + char if i > 0 and no_space(char, text[i - 1]) else char\n",
    "           for i, char in enumerate(text)]\n",
    "    return ''.join(out)\n",
    "\n",
    "\n",
    "text = preprocess_nmt(raw_text)\n",
    "print(text[:80])"
   ],
   "metadata": {
    "collapsed": false,
    "pycharm": {
     "name": "#%%\n"
    }
   }
  },
  {
   "cell_type": "code",
   "execution_count": 22,
   "outputs": [
    {
     "data": {
      "text/plain": "([['go', '.'],\n  ['hi', '.'],\n  ['run', '!'],\n  ['run', '!'],\n  ['who', '?'],\n  ['wow', '!'],\n  ['fire', '!'],\n  ['help', '!'],\n  ['jump', '.'],\n  ['stop', '!']],\n [['va', '!'],\n  ['salut', '!'],\n  ['cours', '!'],\n  ['courez', '!'],\n  ['qui', '?'],\n  ['ça', 'alors', '!'],\n  ['au', 'feu', '!'],\n  ['à', \"l'aide\", '!'],\n  ['saute', '.'],\n  ['ça', 'suffit', '!']])"
     },
     "execution_count": 22,
     "metadata": {},
     "output_type": "execute_result"
    }
   ],
   "source": [
    "def tokenize_nmt(text,\n",
    "                 num_examples=None):  # 使用的训练样本数\n",
    "    \"\"\"词元化\"英语<--->法语\"数据数据集\"\"\"\n",
    "    source, target = [], []\n",
    "    for i, line in enumerate(text.split('\\n')):\n",
    "        if num_examples and i > num_examples:\n",
    "            break\n",
    "        parts = line.split('\\t')\n",
    "        source.append(parts[0].split(' '))  # 英文数据\n",
    "        target.append(parts[1].split(' '))  # 法文数据\n",
    "    return source, target\n",
    "\n",
    "\n",
    "source, target = tokenize_nmt(text)\n",
    "source[:10], target[:10]  # 每个子列表表示一个句子的切分(根据' '切分)"
   ],
   "metadata": {
    "collapsed": false,
    "pycharm": {
     "name": "#%%\n"
    }
   }
  },
  {
   "cell_type": "code",
   "execution_count": 23,
   "outputs": [
    {
     "data": {
      "text/plain": "10012"
     },
     "execution_count": 23,
     "metadata": {},
     "output_type": "execute_result"
    }
   ],
   "source": [
    "def count_corpus(tokens):\n",
    "    \"\"\"Count token frequencies\"\"\"\n",
    "    # Here `tokens` is a 1D list or 2D list\n",
    "    if len(tokens) == 0 or isinstance(tokens[0], list):\n",
    "        # Flatten a list of token lists into a list of tokens\n",
    "        tokens = [token for line in tokens for token in line]\n",
    "    return collections.Counter(tokens)\n",
    "\n",
    "\n",
    "class Vocab:\n",
    "    \"\"\"Vocabulary for text\"\"\"\n",
    "\n",
    "    def __init__(self, tokens=None, min_freq=2, reserved_tokens=None):\n",
    "        if tokens is None:\n",
    "            tokens = []\n",
    "        if reserved_tokens is None:\n",
    "            reserved_tokens = []\n",
    "        counter = count_corpus(tokens)\n",
    "        # Sort according to frequencies\n",
    "        self._token_freqs = sorted(counter.items(), key=lambda x: x[1],\n",
    "                                   reverse=True)\n",
    "        # The index for the unknown token is 0\n",
    "        self.idx_to_token = ['<unk>'] + reserved_tokens\n",
    "        self.token_to_idx = {\n",
    "            token: idx for idx, token in enumerate(self.idx_to_token)}\n",
    "        for token, freq in self._token_freqs:\n",
    "            if freq < min_freq:\n",
    "                break\n",
    "            if token not in self.token_to_idx:\n",
    "                self.idx_to_token.append(token)\n",
    "                self.token_to_idx[token] = len(self.idx_to_token) - 1\n",
    "\n",
    "    def __len__(self):\n",
    "        return len(self.idx_to_token)\n",
    "\n",
    "    def __getitem__(self, tokens):\n",
    "        if not isinstance(tokens, (list, tuple)):\n",
    "            return self.token_to_idx.get(tokens, self.unk)\n",
    "        return [self.__getitem__(token) for token in tokens]\n",
    "\n",
    "    def to_tokens(self, indices):\n",
    "        if not isinstance(indices, (list, tuple)):\n",
    "            return self.idx_to_token[indices]\n",
    "        return [self.idx_to_token[index] for index in indices]\n",
    "\n",
    "    @property\n",
    "    def unk(self):\n",
    "        \"\"\"Index for the unknown token\"\"\"\n",
    "        return 0\n",
    "\n",
    "    @property\n",
    "    def token_freqs(self):\n",
    "        return self._token_freqs\n",
    "\n",
    "\n",
    "# '<unk>':未知词元\n",
    "# '<pad>':填充词元\n",
    "# '<sos>':开始词元\n",
    "# '<eos>':结束词元\n",
    "src_vocab = Vocab(source, min_freq=2, reserved_tokens=['<pad>', '<sos>', '<eos>'])\n",
    "len(src_vocab)"
   ],
   "metadata": {
    "collapsed": false,
    "pycharm": {
     "name": "#%%\n"
    }
   }
  },
  {
   "cell_type": "code",
   "execution_count": 24,
   "outputs": [
    {
     "data": {
      "text/plain": "[47, 4, 1, 1, 1, 1, 1, 1, 1, 1]"
     },
     "execution_count": 24,
     "metadata": {},
     "output_type": "execute_result"
    }
   ],
   "source": [
    "def truncate_pad(line, num_steps, padding_token):\n",
    "    \"\"\"截断或填充文本序列\"\"\"\n",
    "    if len(line) > num_steps:\n",
    "        return line[:num_steps]  # 句子截断\n",
    "    return line + [padding_token] * (num_steps - len(line))  # 句子填充\n",
    "\n",
    "\n",
    "truncate_pad(src_vocab[source[0]], 10, src_vocab['<pad>'])"
   ],
   "metadata": {
    "collapsed": false,
    "pycharm": {
     "name": "#%%\n"
    }
   }
  },
  {
   "cell_type": "code",
   "execution_count": 25,
   "outputs": [
    {
     "name": "stdout",
     "output_type": "stream",
     "text": [
      "tensor([[  47,    4,    3,  ...,    1,    1,    1],\n",
      "        [2944,    4,    3,  ...,    1,    1,    1],\n",
      "        [ 435,  126,    3,  ...,    1,    1,    1],\n",
      "        ...,\n",
      "        [ 381,   60,   26,  ...,  480,   68, 4696],\n",
      "        [  66,  295,   90,  ...,   10, 1170, 1526],\n",
      "        [  17,  176,   32,  ...,    8, 1963,   16]])\n",
      "torch.Size([167130, 15])\n",
      "tensor([ 3,  3,  3,  ..., 15, 15, 15])\n"
     ]
    }
   ],
   "source": [
    "def build_array_nmt(lines, vocab, num_steps):\n",
    "    \"\"\"将文本序列转换为数值矩阵\"\"\"\n",
    "    lines = [vocab[l] for l in lines]\n",
    "    lines = [l + [vocab['<eos>']] for l in lines]  # 使用'<eos>'表示句子的结尾\n",
    "    array = torch.tensor([truncate_pad(l, num_steps, vocab['<pad>']) for l in lines])\n",
    "    valid_len = (array != vocab['<pad>']).to(dtype=torch.int32).sum(1)\n",
    "    return array, valid_len\n",
    "\n",
    "\n",
    "array, valid_len = build_array_nmt(source, src_vocab, 15)\n",
    "print(array)  # 通过vocab将句子从token转换为idx(等长,不足部分1填充)\n",
    "print(array.shape)\n",
    "print(valid_len)  # 每个句子的实际长度"
   ],
   "metadata": {
    "collapsed": false,
    "pycharm": {
     "name": "#%%\n"
    }
   }
  },
  {
   "cell_type": "code",
   "execution_count": 26,
   "outputs": [
    {
     "name": "stdout",
     "output_type": "stream",
     "text": [
      "X: tensor([[  6,  47,   4,   3,   1,   1,   1,   1,   1,   1,   1,   1,   1,   1,\n",
      "           1],\n",
      "        [ 49,  14,   5,   3,   1,   1,   1,   1,   1,   1,   1,   1,   1,   1,\n",
      "           1],\n",
      "        [  0,   9,   4,   3,   1,   1,   1,   1,   1,   1,   1,   1,   1,   1,\n",
      "           1],\n",
      "        [ 22,  29,   5,   3,   1,   1,   1,   1,   1,   1,   1,   1,   1,   1,\n",
      "           1],\n",
      "        [ 50,  14,   5,   3,   1,   1,   1,   1,   1,   1,   1,   1,   1,   1,\n",
      "           1],\n",
      "        [  9,   0,   4,   3,   1,   1,   1,   1,   1,   1,   1,   1,   1,   1,\n",
      "           1],\n",
      "        [ 50,  14,   5,   3,   1,   1,   1,   1,   1,   1,   1,   1,   1,   1,\n",
      "           1],\n",
      "        [  0,  42,   4,   3,   1,   1,   1,   1,   1,   1,   1,   1,   1,   1,\n",
      "           1],\n",
      "        [109,   9,   5,   3,   1,   1,   1,   1,   1,   1,   1,   1,   1,   1,\n",
      "           1],\n",
      "        [  0,   4,   3,   1,   1,   1,   1,   1,   1,   1,   1,   1,   1,   1,\n",
      "           1],\n",
      "        [ 20,  39,   4,   3,   1,   1,   1,   1,   1,   1,   1,   1,   1,   1,\n",
      "           1],\n",
      "        [  7,  68,   4,   3,   1,   1,   1,   1,   1,   1,   1,   1,   1,   1,\n",
      "           1],\n",
      "        [ 59,   0,   4,   3,   1,   1,   1,   1,   1,   1,   1,   1,   1,   1,\n",
      "           1],\n",
      "        [  6, 111,   4,   3,   1,   1,   1,   1,   1,   1,   1,   1,   1,   1,\n",
      "           1],\n",
      "        [  9, 145,   4,   3,   1,   1,   1,   1,   1,   1,   1,   1,   1,   1,\n",
      "           1],\n",
      "        [ 11, 117, 118,   4,   3,   1,   1,   1,   1,   1,   1,   1,   1,   1,\n",
      "           1],\n",
      "        [  7,   0,   4,   3,   1,   1,   1,   1,   1,   1,   1,   1,   1,   1,\n",
      "           1],\n",
      "        [  7,  55,   4,   3,   1,   1,   1,   1,   1,   1,   1,   1,   1,   1,\n",
      "           1],\n",
      "        [ 87,  88,   5,   3,   1,   1,   1,   1,   1,   1,   1,   1,   1,   1,\n",
      "           1],\n",
      "        [  7, 142,   4,   3,   1,   1,   1,   1,   1,   1,   1,   1,   1,   1,\n",
      "           1],\n",
      "        [ 16,   0,   5,   3,   1,   1,   1,   1,   1,   1,   1,   1,   1,   1,\n",
      "           1],\n",
      "        [ 16,  14,   4,   3,   1,   1,   1,   1,   1,   1,   1,   1,   1,   1,\n",
      "           1],\n",
      "        [ 97,  63,   4,   3,   1,   1,   1,   1,   1,   1,   1,   1,   1,   1,\n",
      "           1],\n",
      "        [ 20,  26,   4,   3,   1,   1,   1,   1,   1,   1,   1,   1,   1,   1,\n",
      "           1],\n",
      "        [ 13,  23,   4,   3,   1,   1,   1,   1,   1,   1,   1,   1,   1,   1,\n",
      "           1],\n",
      "        [ 26,  37,   5,   3,   1,   1,   1,   1,   1,   1,   1,   1,   1,   1,\n",
      "           1],\n",
      "        [  6,  16,   9,   4,   3,   1,   1,   1,   1,   1,   1,   1,   1,   1,\n",
      "           1],\n",
      "        [  7,  26,   4,   3,   1,   1,   1,   1,   1,   1,   1,   1,   1,   1,\n",
      "           1],\n",
      "        [ 57,   9,   5,   3,   1,   1,   1,   1,   1,   1,   1,   1,   1,   1,\n",
      "           1],\n",
      "        [ 22,  29,   5,   3,   1,   1,   1,   1,   1,   1,   1,   1,   1,   1,\n",
      "           1],\n",
      "        [  0,   5,   3,   1,   1,   1,   1,   1,   1,   1,   1,   1,   1,   1,\n",
      "           1],\n",
      "        [  8,  64,   4,   3,   1,   1,   1,   1,   1,   1,   1,   1,   1,   1,\n",
      "           1]], dtype=torch.int32)\n",
      "valid lengths for X: tensor([4, 4, 4, 4, 4, 4, 4, 4, 4, 3, 4, 4, 4, 4, 4, 5, 4, 4, 4, 4, 4, 4, 4, 4,\n",
      "        4, 4, 5, 4, 4, 4, 3, 4])\n",
      "Y: tensor([[  6,   0,   4,   3,   1,   1,   1,   1,   1,   1,   1,   1,   1,   1,\n",
      "           1],\n",
      "        [  0,   5,   3,   1,   1,   1,   1,   1,   1,   1,   1,   1,   1,   1,\n",
      "           1],\n",
      "        [ 45,   5,   3,   1,   1,   1,   1,   1,   1,   1,   1,   1,   1,   1,\n",
      "           1],\n",
      "        [ 27,   0,  18,  42,  59,   5,   3,   1,   1,   1,   1,   1,   1,   1,\n",
      "           1],\n",
      "        [ 67,   5,   3,   1,   1,   1,   1,   1,   1,   1,   1,   1,   1,   1,\n",
      "           1],\n",
      "        [ 24,  39,   0,   4,   3,   1,   1,   1,   1,   1,   1,   1,   1,   1,\n",
      "           1],\n",
      "        [127,   5,   3,   1,   1,   1,   1,   1,   1,   1,   1,   1,   1,   1,\n",
      "           1],\n",
      "        [  0,  64,   4,   3,   1,   1,   1,   1,   1,   1,   1,   1,   1,   1,\n",
      "           1],\n",
      "        [115,   0,  38,   5,   3,   1,   1,   1,   1,   1,   1,   1,   1,   1,\n",
      "           1],\n",
      "        [  0,   4,   3,   1,   1,   1,   1,   1,   1,   1,   1,   1,   1,   1,\n",
      "           1],\n",
      "        [102,   5,   3,   1,   1,   1,   1,   1,   1,   1,   1,   1,   1,   1,\n",
      "           1],\n",
      "        [ 28,   7, 147,   4,   3,   1,   1,   1,   1,   1,   1,   1,   1,   1,\n",
      "           1],\n",
      "        [  6,   0,   4,   3,   1,   1,   1,   1,   1,   1,   1,   1,   1,   1,\n",
      "           1],\n",
      "        [  6,  23,   7,   0,   4,   3,   1,   1,   1,   1,   1,   1,   1,   1,\n",
      "           1],\n",
      "        [ 53,   0,   4,   3,   1,   1,   1,   1,   1,   1,   1,   1,   1,   1,\n",
      "           1],\n",
      "        [ 66,   0,   4,   3,   1,   1,   1,   1,   1,   1,   1,   1,   1,   1,\n",
      "           1],\n",
      "        [  6,   7,   0,   4,   3,   1,   1,   1,   1,   1,   1,   1,   1,   1,\n",
      "           1],\n",
      "        [ 24,  16,   4,   3,   1,   1,   1,   1,   1,   1,   1,   1,   1,   1,\n",
      "           1],\n",
      "        [ 36,   0,   5,   3,   1,   1,   1,   1,   1,   1,   1,   1,   1,   1,\n",
      "           1],\n",
      "        [  6,   7,   0,   4,   3,   1,   1,   1,   1,   1,   1,   1,   1,   1,\n",
      "           1],\n",
      "        [ 19,   0,   5,   3,   1,   1,   1,   1,   1,   1,   1,   1,   1,   1,\n",
      "           1],\n",
      "        [  0,   4,   3,   1,   1,   1,   1,   1,   1,   1,   1,   1,   1,   1,\n",
      "           1],\n",
      "        [  0,   4,   3,   1,   1,   1,   1,   1,   1,   1,   1,   1,   1,   1,\n",
      "           1],\n",
      "        [  0,   5,   3,   1,   1,   1,   1,   1,   1,   1,   1,   1,   1,   1,\n",
      "           1],\n",
      "        [ 14,   0,   5,   3,   1,   1,   1,   1,   1,   1,   1,   1,   1,   1,\n",
      "           1],\n",
      "        [134,   4,   3,   1,   1,   1,   1,   1,   1,   1,   1,   1,   1,   1,\n",
      "           1],\n",
      "        [ 11,  41,   4,   3,   1,   1,   1,   1,   1,   1,   1,   1,   1,   1,\n",
      "           1],\n",
      "        [ 23,   0,   4,   3,   1,   1,   1,   1,   1,   1,   1,   1,   1,   1,\n",
      "           1],\n",
      "        [  0,  26,   5,   3,   1,   1,   1,   1,   1,   1,   1,   1,   1,   1,\n",
      "           1],\n",
      "        [ 12,   0,   5,   3,   1,   1,   1,   1,   1,   1,   1,   1,   1,   1,\n",
      "           1],\n",
      "        [  0,   5,   3,   1,   1,   1,   1,   1,   1,   1,   1,   1,   1,   1,\n",
      "           1],\n",
      "        [ 79,   5,   3,   1,   1,   1,   1,   1,   1,   1,   1,   1,   1,   1,\n",
      "           1]], dtype=torch.int32)\n",
      "valid lengths for Y: tensor([4, 3, 3, 7, 3, 5, 3, 4, 5, 3, 3, 5, 4, 6, 4, 4, 5, 4, 4, 5, 4, 3, 3, 3,\n",
      "        4, 3, 4, 4, 4, 4, 3, 3])\n"
     ]
    }
   ],
   "source": [
    "def load_array(data_arrays, batch_size, is_train=True):\n",
    "    \"\"\"Construct a PyTorch data iterator\"\"\"\n",
    "    dataset = Data.TensorDataset(*data_arrays)\n",
    "    return Data.DataLoader(dataset, batch_size, shuffle=is_train)\n",
    "\n",
    "\n",
    "def load_data_nmt(text, batch_size, num_steps, num_examples=None):\n",
    "    \"\"\"返回翻译数据集的迭代器和词汇表\"\"\"\n",
    "    source, target = tokenize_nmt(text, num_examples=num_examples)\n",
    "    src_vocab = Vocab(source, min_freq=2,\n",
    "                      reserved_tokens=['<pad>', '<bos>', '<eos>'])\n",
    "    tgt_vocab = Vocab(target, min_freq=2,\n",
    "                      reserved_tokens=['<pad>', '<bos>', '<eos>'])\n",
    "    src_array, src_valid_len = build_array_nmt(source, src_vocab, num_steps)\n",
    "    tgt_array, tgt_valid_len = build_array_nmt(target, tgt_vocab, num_steps)\n",
    "    data_arrays = (src_array, src_valid_len, tgt_array, tgt_valid_len)\n",
    "    data_iter = load_array(data_arrays, batch_size)\n",
    "    return data_iter, src_vocab, tgt_vocab\n",
    "\n",
    "\n",
    "train_iter, src_vocab, tgt_vocab = load_data_nmt(text, batch_size=32, num_steps=15, num_examples=500)\n",
    "for X, X_valid_len, Y, Y_valid_len in train_iter:\n",
    "    print('X:', X.type(torch.int32))\n",
    "    print('valid lengths for X:', X_valid_len)\n",
    "    print('Y:', Y.type(torch.int32))\n",
    "    print('valid lengths for Y:', Y_valid_len)\n",
    "    break"
   ],
   "metadata": {
    "collapsed": false,
    "pycharm": {
     "name": "#%%\n"
    }
   }
  },
  {
   "cell_type": "markdown",
   "source": [
    "### Seq2Seq模型"
   ],
   "metadata": {
    "collapsed": false,
    "pycharm": {
     "name": "#%% md\n"
    }
   }
  },
  {
   "cell_type": "code",
   "execution_count": 27,
   "outputs": [
    {
     "name": "stdout",
     "output_type": "stream",
     "text": [
      "torch.Size([7, 4, 16])\n",
      "torch.Size([2, 4, 16])\n"
     ]
    }
   ],
   "source": [
    "class Seq2SeqEncoder(nn.Module):\n",
    "    \"\"\"用于序列到序列学习的循环神经⽹络编码器\"\"\"\n",
    "\n",
    "    def __init__(self, vocab_size, embed_size, hidden_size, num_layers, dropout=0, bidirectional=False):\n",
    "        super(Seq2SeqEncoder, self).__init__()\n",
    "        self.embedding = nn.Embedding(vocab_size, embed_size)\n",
    "        self.rnn = nn.GRU(embed_size, hidden_size, num_layers,\n",
    "                          dropout=dropout, bidirectional=bidirectional)\n",
    "\n",
    "    def forward(self, X):\n",
    "        # X.shape=(N, T, C);其中T为序列的长度,N为min-batch的大小,C为输入的特征数目\n",
    "        X = self.embedding(X)\n",
    "        # 循环神经默认输入要求为:(T, N, C)\n",
    "        X = X.permute(1, 0, 2)\n",
    "        output, state = self.rnn(X)\n",
    "        # output.shape=(T, N, hidden_size)\n",
    "        # state.shape=(num_layers, N, hidden_size)\n",
    "        return output, state\n",
    "\n",
    "\n",
    "encoder = Seq2SeqEncoder(vocab_size=10, embed_size=8, hidden_size=16,\n",
    "                         num_layers=2)\n",
    "encoder.eval()\n",
    "\n",
    "X = torch.zeros((4, 7), dtype=torch.long)\n",
    "output, state = encoder(X)\n",
    "print(output.shape)\n",
    "print(state.shape)"
   ],
   "metadata": {
    "collapsed": false,
    "pycharm": {
     "name": "#%%\n"
    }
   }
  },
  {
   "cell_type": "code",
   "execution_count": 28,
   "outputs": [
    {
     "data": {
      "text/plain": "torch.Size([4, 16])"
     },
     "execution_count": 28,
     "metadata": {},
     "output_type": "execute_result"
    }
   ],
   "source": [
    "# state[-1].shape=(N, hidden_size)\n",
    "state[-1].shape"
   ],
   "metadata": {
    "collapsed": false,
    "pycharm": {
     "name": "#%%\n"
    }
   }
  },
  {
   "cell_type": "code",
   "execution_count": 29,
   "outputs": [
    {
     "data": {
      "text/plain": "(torch.Size([4, 7, 10]), torch.Size([2, 4, 16]))"
     },
     "execution_count": 29,
     "metadata": {},
     "output_type": "execute_result"
    }
   ],
   "source": [
    "class Seq2SeqDecoder(nn.Module):\n",
    "    \"\"\"⽤于序列到序列学习的循环神经网络解码器\"\"\"\n",
    "\n",
    "    def __init__(self, vocab_size, embed_size, hidden_size, num_layers,\n",
    "                 dropout=0, bidirectional=False):\n",
    "        super(Seq2SeqDecoder, self).__init__()\n",
    "        self.embedding = nn.Embedding(vocab_size, embed_size)\n",
    "        self.rnn = nn.GRU(embed_size + hidden_size, hidden_size, num_layers,\n",
    "                          dropout=dropout, bidirectional=bidirectional)\n",
    "        self.dense = nn.Linear(hidden_size, vocab_size)\n",
    "\n",
    "    def init_state(self, enc_outputs):\n",
    "        return enc_outputs[1]\n",
    "\n",
    "    def forward(self, X, state):\n",
    "        # embedding(X).shape=(N, T, C)\n",
    "        # embedding(X).permute(1, 0, 2).shape=(T, N, C)\n",
    "        X = self.embedding(X).permute(1, 0, 2)\n",
    "        # state.shape=(num_layers, N, hidden_size)\n",
    "        # state[-1].shape=(N, hidden_size)  # 去最后一层的隐藏状态\n",
    "        # context.shape=(T, N, hidden_size)\n",
    "        context = state[-1].repeat(X.shape[0], 1, 1)  # 上下文向量\n",
    "        # Notice how the last hidden state is actually the context we pass along to the decoder\n",
    "        # X_and_context = (T, N, c+hidden_size)\n",
    "        X_and_context = torch.cat((X, context), 2)\n",
    "        # print(X_and_context.shape)\n",
    "        # 使用循环神经⽹络编码器最终的隐藏状态(或是多个隐节状态的加权总和)来初始化解码器的隐藏状态\n",
    "        output, state = self.rnn(X_and_context, state)\n",
    "        output = self.dense(output).permute(1, 0, 2)\n",
    "        return output, state\n",
    "\n",
    "\n",
    "decoder = Seq2SeqDecoder(vocab_size=10, embed_size=8, hidden_size=16,\n",
    "                         num_layers=2)\n",
    "decoder.eval()\n",
    "\n",
    "X = torch.zeros((4, 7), dtype=torch.long)\n",
    "state = decoder.init_state(encoder(X))\n",
    "output, state = decoder(X, state)\n",
    "output.shape, state.shape"
   ],
   "metadata": {
    "collapsed": false,
    "pycharm": {
     "name": "#%%\n"
    }
   }
  },
  {
   "cell_type": "code",
   "execution_count": 30,
   "outputs": [],
   "source": [
    "class EncoderDecoder(nn.Module):\n",
    "    \"\"\"The base class for the encoder-decoder architecture\"\"\"\n",
    "\n",
    "    def __init__(self, encoder, decoder):\n",
    "        super(EncoderDecoder, self).__init__()\n",
    "        self.encoder = encoder\n",
    "        self.decoder = decoder\n",
    "\n",
    "    def forward(self, enc_X, dec_X):\n",
    "        enc_outputs = self.encoder(enc_X)\n",
    "        dec_state = self.decoder.init_state(enc_outputs)\n",
    "        return self.decoder(dec_X, dec_state)"
   ],
   "metadata": {
    "collapsed": false,
    "pycharm": {
     "name": "#%%\n"
    }
   }
  },
  {
   "cell_type": "markdown",
   "source": [
    "### 自定义损失函数"
   ],
   "metadata": {
    "collapsed": false,
    "pycharm": {
     "name": "#%% md\n"
    }
   }
  },
  {
   "cell_type": "code",
   "execution_count": 31,
   "outputs": [
    {
     "data": {
      "text/plain": "tensor([[1, 0, 0],\n        [4, 5, 0]])"
     },
     "execution_count": 31,
     "metadata": {},
     "output_type": "execute_result"
    }
   ],
   "source": [
    "def sequence_mask(X, valid_len, value=0):\n",
    "    \"\"\"在序列中屏蔽不相关的项\"\"\"\n",
    "    maxlen = X.size(1)\n",
    "    # 广播机制\n",
    "    mask = torch.arange((maxlen), dtype=torch.float32, device=X.device)[None, :] < valid_len[:, None]\n",
    "    X[~mask] = value\n",
    "    return X\n",
    "\n",
    "\n",
    "X = torch.tensor([[1, 2, 3],\n",
    "                  [4, 5, 6]])\n",
    "# 通过零值化屏蔽不相关的项,以便后⾯任何不相关预测的计算都是与零的乘积,结果都等于零\n",
    "sequence_mask(X, torch.tensor([1, 2]))"
   ],
   "metadata": {
    "collapsed": false,
    "pycharm": {
     "name": "#%%\n"
    }
   }
  },
  {
   "cell_type": "code",
   "execution_count": 32,
   "outputs": [
    {
     "data": {
      "text/plain": "tensor([2.3026, 1.1513, 0.0000])"
     },
     "execution_count": 32,
     "metadata": {},
     "output_type": "execute_result"
    }
   ],
   "source": [
    "class MaskedSoftmaxCELoss(nn.Module):\n",
    "    \"\"\"带遮蔽的softmax交叉熵损失函数\"\"\"\n",
    "\n",
    "    def forward(self, pred, label, valid_len):\n",
    "        weights = torch.ones_like(label)\n",
    "        weights = sequence_mask(weights, valid_len)\n",
    "        unweighted_loss = nn.CrossEntropyLoss(reduction='none')(pred.permute(0, 2, 1), label)\n",
    "        weighted_loss = (unweighted_loss * weights).mean(dim=1)\n",
    "        return weighted_loss\n",
    "\n",
    "\n",
    "loss = MaskedSoftmaxCELoss()\n",
    "# 指定这些序列的有效⻓度为4、2、0,可以看出第⼀个序列的损失为第二个序列的两倍,第三个序列的损失为零\n",
    "loss(torch.ones(3, 4, 10), torch.ones((3, 4), dtype=torch.long), torch.tensor([4, 2, 0]))"
   ],
   "metadata": {
    "collapsed": false,
    "pycharm": {
     "name": "#%%\n"
    }
   }
  },
  {
   "cell_type": "markdown",
   "source": [
    "### 模型训练"
   ],
   "metadata": {
    "collapsed": false,
    "pycharm": {
     "name": "#%% md\n"
    }
   }
  },
  {
   "cell_type": "code",
   "execution_count": 33,
   "outputs": [],
   "source": [
    "def train_seq2seq(net, data_iter, lr, num_epochs, tgt_vocab, device):\n",
    "    \"\"\"训练seq2seq模型\"\"\"\n",
    "    net.to(device)\n",
    "    optimizer = torch.optim.Adam(net.parameters(), lr=lr)\n",
    "    loss = MaskedSoftmaxCELoss()\n",
    "    net.train()\n",
    "\n",
    "    for epoch in range(num_epochs):\n",
    "        for batch_idx, batch in enumerate(data_iter):\n",
    "            X, X_valid_len, Y, Y_valid_len = [x.to(device) for x in batch]\n",
    "            bos = torch.tensor([tgt_vocab['<sos>']] * Y.shape[0], device=device).reshape(-1, 1)\n",
    "            dec_input = torch.cat([bos, Y[:, :-1]], 1)  # Teacher Forcing\n",
    "            Y_hat, _ = net(X, dec_input)\n",
    "            l = loss(Y_hat, Y, Y_valid_len)\n",
    "            l.sum().backward()\n",
    "            torch.nn.utils.clip_grad_norm_(net.parameters(), 3)  # 梯度裁剪\n",
    "            optimizer.step()\n",
    "            if batch_idx % 300 == 0:\n",
    "                print('loss:', l.sum().item())"
   ],
   "metadata": {
    "collapsed": false,
    "pycharm": {
     "name": "#%%\n"
    }
   }
  },
  {
   "cell_type": "code",
   "execution_count": 34,
   "outputs": [
    {
     "name": "stdout",
     "output_type": "stream",
     "text": [
      "loss: 50.35504913330078\n",
      "loss: 21.938505172729492\n",
      "loss: 20.243608474731445\n",
      "loss: 16.879150390625\n",
      "loss: 16.21190643310547\n",
      "loss: 13.283170700073242\n",
      "loss: 13.361434936523438\n",
      "loss: 13.831281661987305\n",
      "loss: 13.050973892211914\n",
      "loss: 13.287291526794434\n",
      "loss: 11.796201705932617\n",
      "loss: 12.66900634765625\n",
      "loss: 9.178775787353516\n",
      "loss: 11.231664657592773\n",
      "loss: 11.181718826293945\n",
      "loss: 11.85147476196289\n",
      "loss: 11.234529495239258\n",
      "loss: 11.700849533081055\n",
      "loss: 11.868060111999512\n",
      "loss: 10.002949714660645\n",
      "loss: 8.588444709777832\n",
      "loss: 10.2490816116333\n",
      "loss: 8.493492126464844\n",
      "loss: 9.107772827148438\n",
      "loss: 10.677312850952148\n",
      "loss: 9.047487258911133\n",
      "loss: 7.691577911376953\n",
      "loss: 10.826924324035645\n",
      "loss: 7.8461408615112305\n",
      "loss: 8.549467086791992\n",
      "loss: 8.972054481506348\n",
      "loss: 11.273391723632812\n",
      "loss: 9.415220260620117\n",
      "loss: 9.617134094238281\n",
      "loss: 8.024632453918457\n",
      "loss: 9.096795082092285\n",
      "loss: 8.005224227905273\n",
      "loss: 8.572555541992188\n",
      "loss: 8.297327041625977\n",
      "loss: 8.59272575378418\n",
      "loss: 7.0522356033325195\n",
      "loss: 7.824902534484863\n",
      "loss: 7.9993577003479\n",
      "loss: 11.615039825439453\n",
      "loss: 7.654178142547607\n",
      "loss: 8.94292163848877\n",
      "loss: 8.741955757141113\n",
      "loss: 8.709247589111328\n",
      "loss: 10.153556823730469\n",
      "loss: 11.774618148803711\n",
      "loss: 6.506506443023682\n",
      "loss: 7.49722957611084\n",
      "loss: 6.675694465637207\n",
      "loss: 9.563328742980957\n",
      "loss: 8.087419509887695\n",
      "loss: 9.18356704711914\n",
      "loss: 6.565129280090332\n",
      "loss: 8.421638488769531\n",
      "loss: 6.590764999389648\n",
      "loss: 7.338200569152832\n",
      "loss: 7.519015789031982\n",
      "loss: 8.332128524780273\n",
      "loss: 6.531619071960449\n",
      "loss: 8.359004974365234\n",
      "loss: 6.950888633728027\n",
      "loss: 8.622505187988281\n",
      "loss: 8.744087219238281\n",
      "loss: 8.32983112335205\n",
      "loss: 7.657862186431885\n",
      "loss: 7.36906623840332\n",
      "loss: 8.458455085754395\n",
      "loss: 6.599132061004639\n",
      "loss: 8.948890686035156\n",
      "loss: 8.74667739868164\n",
      "loss: 7.618446350097656\n",
      "loss: 7.871008396148682\n",
      "loss: 8.602581977844238\n",
      "loss: 7.528987884521484\n",
      "loss: 7.334235668182373\n",
      "loss: 10.127574920654297\n",
      "loss: 7.22232723236084\n",
      "loss: 8.816067695617676\n",
      "loss: 5.681107521057129\n",
      "loss: 9.160557746887207\n",
      "loss: 5.772078037261963\n",
      "loss: 7.626043319702148\n",
      "loss: 7.544259071350098\n",
      "loss: 7.099074840545654\n",
      "loss: 6.986137390136719\n",
      "loss: 11.10948371887207\n",
      "loss: 6.536232948303223\n",
      "loss: 7.743166446685791\n",
      "loss: 8.807933807373047\n",
      "loss: 8.110803604125977\n",
      "loss: 7.6825456619262695\n",
      "loss: 7.113397598266602\n",
      "loss: 7.72175931930542\n",
      "loss: 7.063685417175293\n",
      "loss: 6.852566719055176\n",
      "loss: 7.717039585113525\n",
      "loss: 7.613086223602295\n",
      "loss: 7.331386566162109\n",
      "loss: 6.31641960144043\n",
      "loss: 6.489589691162109\n",
      "loss: 7.78600549697876\n",
      "loss: 6.906825542449951\n",
      "loss: 6.216109275817871\n",
      "loss: 8.312968254089355\n",
      "loss: 7.495274543762207\n",
      "loss: 7.336978435516357\n",
      "loss: 8.467655181884766\n",
      "loss: 7.012887477874756\n",
      "loss: 8.203123092651367\n",
      "loss: 8.377093315124512\n",
      "loss: 6.33633279800415\n",
      "loss: 7.793277740478516\n",
      "loss: 7.040689468383789\n",
      "loss: 6.459589004516602\n",
      "loss: 7.532863616943359\n",
      "loss: 7.28493595123291\n",
      "loss: 8.65408706665039\n",
      "loss: 8.410680770874023\n",
      "loss: 6.5458478927612305\n",
      "loss: 7.984477519989014\n",
      "loss: 6.338494300842285\n",
      "loss: 8.040918350219727\n",
      "loss: 7.308696269989014\n",
      "loss: 6.852612018585205\n",
      "loss: 8.609618186950684\n",
      "loss: 6.590162754058838\n",
      "loss: 5.339269638061523\n",
      "loss: 6.359161376953125\n",
      "loss: 5.675111770629883\n",
      "loss: 10.139556884765625\n",
      "loss: 7.028639793395996\n",
      "loss: 7.193525314331055\n",
      "loss: 5.408547401428223\n",
      "loss: 8.049365997314453\n",
      "loss: 5.288246154785156\n",
      "loss: 8.856402397155762\n",
      "loss: 5.476341247558594\n",
      "loss: 6.742480278015137\n",
      "loss: 5.880244255065918\n",
      "loss: 7.313444137573242\n",
      "loss: 5.717648506164551\n",
      "loss: 7.542441368103027\n",
      "loss: 6.416196823120117\n",
      "loss: 7.367095947265625\n",
      "loss: 6.263126373291016\n",
      "loss: 7.601978302001953\n",
      "loss: 6.131672382354736\n",
      "loss: 8.156623840332031\n",
      "loss: 5.623596668243408\n",
      "loss: 6.869921684265137\n",
      "loss: 6.812091827392578\n",
      "loss: 7.643202304840088\n",
      "loss: 4.938427925109863\n",
      "loss: 6.977605819702148\n",
      "loss: 4.675163269042969\n",
      "loss: 7.72648811340332\n",
      "loss: 5.81241512298584\n",
      "loss: 7.3475189208984375\n",
      "loss: 5.9228620529174805\n",
      "loss: 8.025553703308105\n",
      "loss: 5.463866710662842\n",
      "loss: 6.524241924285889\n",
      "loss: 5.6858415603637695\n",
      "loss: 7.798582553863525\n",
      "loss: 6.804939270019531\n",
      "loss: 5.825193405151367\n",
      "loss: 4.747106552124023\n",
      "loss: 5.993196964263916\n",
      "loss: 6.543294906616211\n",
      "loss: 7.595520496368408\n",
      "loss: 5.862758636474609\n",
      "loss: 5.221004962921143\n",
      "loss: 5.0175042152404785\n",
      "loss: 5.912489891052246\n",
      "loss: 5.717464447021484\n",
      "loss: 6.9738850593566895\n",
      "loss: 6.111670017242432\n",
      "loss: 8.407596588134766\n",
      "loss: 6.658974647521973\n",
      "loss: 8.786666870117188\n",
      "loss: 8.350156784057617\n",
      "loss: 7.008243560791016\n",
      "loss: 4.953058242797852\n",
      "loss: 6.116189956665039\n",
      "loss: 6.030882358551025\n",
      "loss: 5.710730075836182\n",
      "loss: 5.688208103179932\n",
      "loss: 6.640235900878906\n",
      "loss: 5.235400676727295\n",
      "loss: 7.207594871520996\n",
      "loss: 7.740856170654297\n",
      "loss: 5.408036708831787\n",
      "loss: 4.943855285644531\n",
      "loss: 7.046106338500977\n",
      "loss: 5.6159257888793945\n",
      "loss: 7.060964584350586\n",
      "loss: 7.759961128234863\n",
      "loss: 4.883459091186523\n",
      "loss: 5.924165725708008\n",
      "loss: 6.051931858062744\n",
      "loss: 5.046203136444092\n",
      "loss: 6.357404708862305\n",
      "loss: 5.403545379638672\n",
      "loss: 7.877859115600586\n",
      "loss: 6.402318477630615\n",
      "loss: 5.972524642944336\n",
      "loss: 4.990322113037109\n",
      "loss: 7.254408359527588\n",
      "loss: 5.090277671813965\n",
      "loss: 5.89981746673584\n",
      "loss: 5.929006576538086\n",
      "loss: 6.652745246887207\n",
      "loss: 6.884320259094238\n",
      "loss: 7.782043933868408\n",
      "loss: 6.772547721862793\n",
      "loss: 6.863677978515625\n",
      "loss: 6.279901504516602\n",
      "loss: 6.760465145111084\n",
      "loss: 7.485194206237793\n",
      "loss: 7.670775413513184\n",
      "loss: 5.6865434646606445\n",
      "loss: 8.691730499267578\n",
      "loss: 5.190156936645508\n",
      "loss: 6.712483882904053\n",
      "loss: 4.915334224700928\n",
      "loss: 6.771162033081055\n",
      "loss: 7.206825256347656\n",
      "loss: 7.368043899536133\n",
      "loss: 5.978795051574707\n",
      "loss: 6.133884429931641\n",
      "loss: 7.330239295959473\n",
      "loss: 8.28603744506836\n",
      "loss: 5.060625076293945\n",
      "loss: 6.656810283660889\n",
      "loss: 5.956399917602539\n",
      "loss: 6.422939300537109\n",
      "loss: 5.729945659637451\n",
      "loss: 6.3261003494262695\n",
      "loss: 5.341402053833008\n",
      "loss: 6.47707986831665\n",
      "loss: 6.250601768493652\n",
      "loss: 5.479709625244141\n",
      "loss: 7.045991897583008\n",
      "loss: 7.420055866241455\n",
      "loss: 5.2462053298950195\n",
      "loss: 6.460344314575195\n",
      "loss: 6.493170738220215\n",
      "loss: 6.488022804260254\n",
      "loss: 6.152573585510254\n",
      "loss: 5.839799404144287\n",
      "loss: 5.554384231567383\n",
      "loss: 7.419568061828613\n",
      "loss: 6.288102149963379\n",
      "loss: 8.027024269104004\n",
      "loss: 6.1339921951293945\n",
      "loss: 5.4050798416137695\n",
      "loss: 5.5716400146484375\n",
      "loss: 8.119593620300293\n",
      "loss: 6.889706611633301\n",
      "loss: 7.49798583984375\n",
      "loss: 4.602533340454102\n",
      "loss: 6.835397720336914\n",
      "loss: 5.287417888641357\n",
      "loss: 4.732994079589844\n",
      "loss: 6.6330766677856445\n",
      "loss: 5.512280464172363\n",
      "loss: 6.1200714111328125\n",
      "loss: 6.79003381729126\n",
      "loss: 6.336159706115723\n",
      "loss: 7.687996864318848\n",
      "loss: 4.978155136108398\n",
      "loss: 6.584433555603027\n",
      "loss: 4.101863861083984\n",
      "loss: 5.885871887207031\n",
      "loss: 5.2946367263793945\n",
      "loss: 6.541221618652344\n",
      "loss: 6.1776227951049805\n",
      "loss: 6.717421531677246\n",
      "loss: 6.173364639282227\n",
      "loss: 6.495794296264648\n",
      "loss: 7.275789260864258\n",
      "loss: 5.5387115478515625\n",
      "loss: 7.35405158996582\n",
      "loss: 6.217629432678223\n",
      "loss: 4.976091384887695\n",
      "loss: 6.9147138595581055\n",
      "loss: 6.375644683837891\n",
      "loss: 7.238011837005615\n",
      "loss: 5.515223503112793\n",
      "loss: 6.179139137268066\n",
      "loss: 6.913852691650391\n",
      "loss: 6.844569206237793\n",
      "loss: 5.5139336585998535\n",
      "loss: 6.182270050048828\n",
      "loss: 6.916496753692627\n",
      "loss: 6.710134506225586\n",
      "loss: 4.635066032409668\n",
      "loss: 8.363019943237305\n",
      "loss: 7.068371295928955\n",
      "loss: 7.496370315551758\n",
      "loss: 6.172090530395508\n",
      "loss: 5.4982991218566895\n",
      "loss: 7.490307807922363\n",
      "loss: 7.477119445800781\n",
      "loss: 5.333507537841797\n",
      "loss: 6.580846786499023\n",
      "loss: 5.339389324188232\n",
      "loss: 6.697669506072998\n",
      "loss: 5.1774444580078125\n",
      "loss: 6.1640119552612305\n",
      "loss: 8.869975090026855\n",
      "loss: 6.351404190063477\n",
      "loss: 5.625609397888184\n",
      "loss: 7.052721977233887\n",
      "loss: 4.364383220672607\n",
      "loss: 6.545133590698242\n",
      "loss: 7.16628360748291\n",
      "loss: 7.818048000335693\n",
      "loss: 7.084467887878418\n",
      "loss: 8.201499938964844\n",
      "loss: 5.570507049560547\n",
      "loss: 5.789402961730957\n",
      "loss: 5.829660415649414\n",
      "loss: 5.741499900817871\n",
      "loss: 6.85164737701416\n",
      "loss: 5.713436126708984\n",
      "loss: 8.09334659576416\n",
      "loss: 7.280412673950195\n",
      "loss: 5.683801651000977\n",
      "loss: 6.23604679107666\n",
      "loss: 6.591506004333496\n",
      "loss: 6.447147369384766\n",
      "loss: 6.487009525299072\n",
      "loss: 6.199650287628174\n",
      "loss: 5.558920383453369\n",
      "loss: 7.767232894897461\n",
      "loss: 4.609363555908203\n",
      "loss: 7.777325630187988\n",
      "loss: 7.238498210906982\n",
      "loss: 6.790310859680176\n",
      "loss: 7.018566608428955\n",
      "loss: 6.382383346557617\n",
      "loss: 5.777762413024902\n",
      "loss: 6.571892738342285\n",
      "loss: 4.486378192901611\n",
      "loss: 5.899308204650879\n",
      "loss: 4.9704413414001465\n",
      "loss: 5.4994988441467285\n",
      "loss: 4.909144878387451\n",
      "loss: 6.908808708190918\n",
      "loss: 5.341502666473389\n",
      "loss: 8.364773750305176\n",
      "loss: 6.69998025894165\n",
      "loss: 8.16369915008545\n",
      "loss: 5.329042434692383\n",
      "loss: 6.5385942459106445\n",
      "loss: 6.076205253601074\n",
      "loss: 5.935665130615234\n",
      "loss: 6.902698516845703\n",
      "loss: 4.987428188323975\n",
      "loss: 5.302460670471191\n",
      "loss: 5.991786956787109\n",
      "loss: 5.348133087158203\n",
      "loss: 5.9632744789123535\n",
      "loss: 4.356537342071533\n",
      "loss: 5.946375846862793\n",
      "loss: 5.653622627258301\n",
      "loss: 5.388073921203613\n",
      "loss: 3.7334463596343994\n",
      "loss: 5.390329360961914\n",
      "loss: 5.542703151702881\n",
      "loss: 6.1099395751953125\n",
      "loss: 7.318748474121094\n",
      "loss: 7.133374214172363\n",
      "loss: 6.347521781921387\n",
      "loss: 7.340280055999756\n",
      "loss: 6.586663722991943\n",
      "loss: 6.758471488952637\n",
      "loss: 5.484192848205566\n",
      "loss: 8.324885368347168\n",
      "loss: 5.915388107299805\n",
      "loss: 6.061145782470703\n",
      "loss: 4.152224540710449\n",
      "loss: 6.607470512390137\n",
      "loss: 7.41337776184082\n",
      "loss: 8.34963607788086\n",
      "loss: 5.494429111480713\n",
      "loss: 7.436079025268555\n",
      "loss: 7.955100059509277\n",
      "loss: 4.954972743988037\n",
      "loss: 7.34552001953125\n",
      "loss: 6.188504219055176\n",
      "loss: 6.595926284790039\n",
      "loss: 6.0154032707214355\n",
      "loss: 5.576992034912109\n",
      "loss: 7.930850028991699\n"
     ]
    }
   ],
   "source": [
    "embed_size, num_hiddens, num_layers, dropout = 32, 32, 2, 0.1\n",
    "batch_size, num_steps = 32, 25\n",
    "lr, num_epochs, device = 0.005, 200, torch.device(\"cuda\" if torch.cuda.is_available() else \"cpu\")\n",
    "train_iter, src_vocab, tgt_vocab = load_data_nmt(text, batch_size, num_steps, num_examples=10000)\n",
    "encoder = Seq2SeqEncoder(len(src_vocab), embed_size, num_hiddens, num_layers,\n",
    "                         dropout)\n",
    "decoder = Seq2SeqDecoder(len(tgt_vocab), embed_size, num_hiddens, num_layers,\n",
    "                         dropout)\n",
    "\n",
    "net = EncoderDecoder(encoder, decoder)\n",
    "train_seq2seq(net, train_iter, lr, num_epochs, tgt_vocab, device)"
   ],
   "metadata": {
    "collapsed": false,
    "pycharm": {
     "name": "#%%\n"
    }
   }
  },
  {
   "cell_type": "markdown",
   "source": [
    "### 模型预测与评估"
   ],
   "metadata": {
    "collapsed": false,
    "pycharm": {
     "name": "#%% md\n"
    }
   },
   "execution_count": 111
  },
  {
   "cell_type": "code",
   "execution_count": 35,
   "outputs": [],
   "source": [
    "def predict_seq2seq(net, src_sentence, src_vocab, tgt_vocab, num_steps, device):\n",
    "    \"\"\"Seq2Seq模型的预测\"\"\"\n",
    "    net.eval()\n",
    "    src_tokens = src_vocab[src_sentence.lower().split(' ')] + [src_vocab['<eos>']]\n",
    "    src_tokens = truncate_pad(src_tokens, num_steps, src_vocab['<pad>'])\n",
    "    enc_X = torch.unsqueeze(torch.tensor(src_tokens, dtype=torch.long, device=device), dim=0)\n",
    "    enc_outputs = net.encoder(enc_X)\n",
    "    # 最终的隐藏状态\n",
    "    dec_state = net.decoder.init_state(enc_outputs)\n",
    "    dec_X = torch.unsqueeze(torch.tensor([tgt_vocab['<bos>']], dtype=torch.long, device=device), dim=0)\n",
    "    output_seq = []\n",
    "    for _ in range(num_steps):\n",
    "        Y, dec_state = net.decoder(dec_X, dec_state)\n",
    "        # 使用具有预测最高可能性的词元,作为解码器在下⼀时间步的输⼊\n",
    "        dec_X = Y.argmax(dim=2)\n",
    "        pred = dec_X.squeeze(dim=0).type(torch.int32).item()\n",
    "        if pred == tgt_vocab['<eos>']:  # 如果单词为'<eos>',则表示输出序列预测结束\n",
    "            break\n",
    "        output_seq.append(pred)\n",
    "    # 重新翻译回句子\n",
    "    return ' '.join(tgt_vocab.to_tokens(output_seq))"
   ],
   "metadata": {
    "collapsed": false,
    "pycharm": {
     "name": "#%%\n"
    }
   }
  },
  {
   "cell_type": "code",
   "execution_count": 36,
   "outputs": [
    {
     "name": "stdout",
     "output_type": "stream",
     "text": [
      "go . => va chez aller !, bleu 0.064\n",
      "i lost . => j'ai perdu mal l'air . d'aide noyer, bleu 0.147\n",
      "he's calm . => il est calme malade aux ferme . ., bleu 0.257\n",
      "i'm home . => je suis <unk> ., bleu 0.511\n"
     ]
    }
   ],
   "source": [
    "engs = ['go .', \"i lost .\", 'he\\'s calm .', 'i\\'m home .']\n",
    "fras = ['va !', 'j\\'ai perdu .', 'il est calme .', 'je suis chez moi .']\n",
    "for eng, fra in zip(engs, fras):\n",
    "    translation = predict_seq2seq(net, eng, src_vocab, tgt_vocab, num_steps, device)\n",
    "    chencherry = SmoothingFunction()\n",
    "    # 使用bleu指标进行结果评估\n",
    "    blen = sentence_bleu([translation], fra, weights=(1 / 2.0, 1 / 2.0), smoothing_function=chencherry.method1)\n",
    "    print(f'{eng} => {translation}, bleu {blen:.3f}')"
   ],
   "metadata": {
    "collapsed": false,
    "pycharm": {
     "name": "#%%\n"
    }
   }
  }
 ],
 "metadata": {
  "kernelspec": {
   "display_name": "Python 3",
   "language": "python",
   "name": "python3"
  },
  "language_info": {
   "codemirror_mode": {
    "name": "ipython",
    "version": 2
   },
   "file_extension": ".py",
   "mimetype": "text/x-python",
   "name": "python",
   "nbconvert_exporter": "python",
   "pygments_lexer": "ipython2",
   "version": "2.7.6"
  }
 },
 "nbformat": 4,
 "nbformat_minor": 0
}