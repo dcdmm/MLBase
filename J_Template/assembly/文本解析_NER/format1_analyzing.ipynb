{
 "cells": [
  {
   "cell_type": "code",
   "execution_count": 17,
   "metadata": {
    "collapsed": true
   },
   "outputs": [],
   "source": [
    "from tqdm import tqdm\n",
    "import pandas as pd"
   ]
  },
  {
   "cell_type": "code",
   "execution_count": 18,
   "outputs": [
    {
     "name": "stderr",
     "output_type": "stream",
     "text": [
      "100%|██████████| 2288791/2288791 [00:09<00:00, 236305.59it/s]\n"
     ]
    }
   ],
   "source": [
    "with open('format1_example.txt', 'r', encoding='utf-8') as f:\n",
    "    tmp = []\n",
    "    cnt = 1\n",
    "    for line in tqdm(f.read().split('\\n')):  # 句子与句子之间通过'\\n'分隔\n",
    "        sentence_id = f'sentence_{cnt}'\n",
    "        if line != '\\n' and len(line.strip()) > 0:\n",
    "            word_tags = line.split(' ')\n",
    "            if len(word_tags) == 2:  # 如:'枪 B-16'、'黑 I-16'、'色 I-16'\n",
    "                tmp.append([sentence_id] + word_tags)\n",
    "            elif len(word_tags) == 3:  # 如:'  O'\n",
    "                word = '[SEP]'  # 这里使用Bert模型的sep_token('[SEP]')表示空格(' ')\n",
    "                tag = word_tags[-1]\n",
    "                tmp.append([sentence_id, word, tag])\n",
    "        else:\n",
    "            cnt += 1"
   ],
   "metadata": {
    "collapsed": false,
    "pycharm": {
     "name": "#%%\n"
    }
   }
  },
  {
   "cell_type": "code",
   "execution_count": 19,
   "outputs": [
    {
     "data": {
      "text/plain": "    sentence_id  words  tags\n0    sentence_1      手  B-40\n1    sentence_1      机  I-40\n2    sentence_1      三   B-4\n3    sentence_1      脚   I-4\n4    sentence_1      架   I-4\n5    sentence_1      网  B-14\n6    sentence_1      红  I-14\n7    sentence_1      直   B-5\n8    sentence_1      播   I-5\n9    sentence_1      支   B-4\n10   sentence_1      架   I-4\n11   sentence_1      桌   B-7\n12   sentence_1      面   I-7\n13   sentence_1      自   B-4\n14   sentence_1      拍   I-4\n15   sentence_1      杆   I-4\n16   sentence_1      蓝  B-11\n17   sentence_1      牙  I-11\n18   sentence_1      遥  B-11\n19   sentence_1      控  I-11\n20   sentence_1      三   B-4\n21   sentence_1      脚   I-4\n22   sentence_1      架   I-4\n23   sentence_1      摄   B-5\n24   sentence_1      影   I-5\n25   sentence_1      拍   B-5\n26   sentence_1      摄   I-5\n27   sentence_1      拍   B-5\n28   sentence_1      照   I-5\n29   sentence_1      抖  B-13\n30   sentence_1      音  I-13\n31   sentence_1      看   B-4\n32   sentence_1      电   I-4\n33   sentence_1      视   I-4\n34   sentence_1      神   I-4\n35   sentence_1      器   I-4\n36   sentence_1      三   B-4\n37   sentence_1      角   I-4\n38   sentence_1      架   I-4\n39   sentence_1      便  B-11\n40   sentence_1      携  I-11\n41   sentence_1      伸  B-11\n42   sentence_1      缩  I-11\n43   sentence_1      懒   B-8\n44   sentence_1      人   I-8\n45   sentence_1      户   B-7\n46   sentence_1      外   I-7\n47   sentence_1      支   B-4\n48   sentence_1      撑   I-4\n49   sentence_1      架   I-4\n50   sentence_1  [SEP]     O\n51   sentence_1      【     O\n52   sentence_1      女  B-16\n53   sentence_1      神  I-16\n54   sentence_1      粉  I-16\n55   sentence_1      】     O\n56   sentence_1      自     O\n57   sentence_1      带     O\n58   sentence_1      三   B-4\n59   sentence_1      脚   I-4\n60   sentence_1      架   I-4\n61   sentence_1      +     O\n62   sentence_1      蓝  B-11\n63   sentence_1      牙  I-11\n64   sentence_1      遥  B-11\n65   sentence_1      控  I-11\n66   sentence_2      牛   B-4\n67   sentence_2      皮   I-4\n68   sentence_2      纸   I-4\n69   sentence_2      袋   I-4\n70   sentence_2      手   B-4\n71   sentence_2      提   I-4\n72   sentence_2      袋   I-4\n73   sentence_2      定  B-29\n74   sentence_2      制  I-29\n75   sentence_2      l  I-29\n76   sentence_2      o  I-29\n77   sentence_2      g  I-29\n78   sentence_2      o  I-29\n79   sentence_2      烘   B-9\n80   sentence_2      焙   I-9\n81   sentence_2      购   B-5\n82   sentence_2      物   I-5\n83   sentence_2      服  B-40\n84   sentence_2      装  I-40\n85   sentence_2      包   B-4\n86   sentence_2      装   I-4\n87   sentence_2      外  B-40\n88   sentence_2      卖  I-40\n89   sentence_2      打   B-5\n90   sentence_2      包   I-5\n91   sentence_2      袋   B-4\n92   sentence_2      子   I-4\n93   sentence_2      礼   B-4\n94   sentence_2      品   I-4\n95   sentence_2      袋   I-4\n96   sentence_2      纸  B-12\n97   sentence_2      质  I-12\n98   sentence_2  [SEP]     O\n99   sentence_2      黑  B-16\n100  sentence_2      色  I-16\n101  sentence_2  [SEP]     O\n102  sentence_2      3  B-18\n103  sentence_2      2  I-18\n104  sentence_2      *  I-18\n105  sentence_2      1  I-18\n106  sentence_2      1  I-18\n107  sentence_2      *  I-18\n108  sentence_2      2  I-18\n109  sentence_2      5  I-18\n110  sentence_2  [SEP]     O\n111  sentence_2      大  B-13\n112  sentence_2      横  I-13\n113  sentence_2      1  B-18\n114  sentence_2      0  I-18\n115  sentence_2      0  I-18\n116  sentence_2      个  I-18\n117  sentence_3      彩  B-16\n118  sentence_3      色  I-16\n119  sentence_3      金  B-12",
      "text/html": "<div>\n<style scoped>\n    .dataframe tbody tr th:only-of-type {\n        vertical-align: middle;\n    }\n\n    .dataframe tbody tr th {\n        vertical-align: top;\n    }\n\n    .dataframe thead th {\n        text-align: right;\n    }\n</style>\n<table border=\"1\" class=\"dataframe\">\n  <thead>\n    <tr style=\"text-align: right;\">\n      <th></th>\n      <th>sentence_id</th>\n      <th>words</th>\n      <th>tags</th>\n    </tr>\n  </thead>\n  <tbody>\n    <tr>\n      <th>0</th>\n      <td>sentence_1</td>\n      <td>手</td>\n      <td>B-40</td>\n    </tr>\n    <tr>\n      <th>1</th>\n      <td>sentence_1</td>\n      <td>机</td>\n      <td>I-40</td>\n    </tr>\n    <tr>\n      <th>2</th>\n      <td>sentence_1</td>\n      <td>三</td>\n      <td>B-4</td>\n    </tr>\n    <tr>\n      <th>3</th>\n      <td>sentence_1</td>\n      <td>脚</td>\n      <td>I-4</td>\n    </tr>\n    <tr>\n      <th>4</th>\n      <td>sentence_1</td>\n      <td>架</td>\n      <td>I-4</td>\n    </tr>\n    <tr>\n      <th>5</th>\n      <td>sentence_1</td>\n      <td>网</td>\n      <td>B-14</td>\n    </tr>\n    <tr>\n      <th>6</th>\n      <td>sentence_1</td>\n      <td>红</td>\n      <td>I-14</td>\n    </tr>\n    <tr>\n      <th>7</th>\n      <td>sentence_1</td>\n      <td>直</td>\n      <td>B-5</td>\n    </tr>\n    <tr>\n      <th>8</th>\n      <td>sentence_1</td>\n      <td>播</td>\n      <td>I-5</td>\n    </tr>\n    <tr>\n      <th>9</th>\n      <td>sentence_1</td>\n      <td>支</td>\n      <td>B-4</td>\n    </tr>\n    <tr>\n      <th>10</th>\n      <td>sentence_1</td>\n      <td>架</td>\n      <td>I-4</td>\n    </tr>\n    <tr>\n      <th>11</th>\n      <td>sentence_1</td>\n      <td>桌</td>\n      <td>B-7</td>\n    </tr>\n    <tr>\n      <th>12</th>\n      <td>sentence_1</td>\n      <td>面</td>\n      <td>I-7</td>\n    </tr>\n    <tr>\n      <th>13</th>\n      <td>sentence_1</td>\n      <td>自</td>\n      <td>B-4</td>\n    </tr>\n    <tr>\n      <th>14</th>\n      <td>sentence_1</td>\n      <td>拍</td>\n      <td>I-4</td>\n    </tr>\n    <tr>\n      <th>15</th>\n      <td>sentence_1</td>\n      <td>杆</td>\n      <td>I-4</td>\n    </tr>\n    <tr>\n      <th>16</th>\n      <td>sentence_1</td>\n      <td>蓝</td>\n      <td>B-11</td>\n    </tr>\n    <tr>\n      <th>17</th>\n      <td>sentence_1</td>\n      <td>牙</td>\n      <td>I-11</td>\n    </tr>\n    <tr>\n      <th>18</th>\n      <td>sentence_1</td>\n      <td>遥</td>\n      <td>B-11</td>\n    </tr>\n    <tr>\n      <th>19</th>\n      <td>sentence_1</td>\n      <td>控</td>\n      <td>I-11</td>\n    </tr>\n    <tr>\n      <th>20</th>\n      <td>sentence_1</td>\n      <td>三</td>\n      <td>B-4</td>\n    </tr>\n    <tr>\n      <th>21</th>\n      <td>sentence_1</td>\n      <td>脚</td>\n      <td>I-4</td>\n    </tr>\n    <tr>\n      <th>22</th>\n      <td>sentence_1</td>\n      <td>架</td>\n      <td>I-4</td>\n    </tr>\n    <tr>\n      <th>23</th>\n      <td>sentence_1</td>\n      <td>摄</td>\n      <td>B-5</td>\n    </tr>\n    <tr>\n      <th>24</th>\n      <td>sentence_1</td>\n      <td>影</td>\n      <td>I-5</td>\n    </tr>\n    <tr>\n      <th>25</th>\n      <td>sentence_1</td>\n      <td>拍</td>\n      <td>B-5</td>\n    </tr>\n    <tr>\n      <th>26</th>\n      <td>sentence_1</td>\n      <td>摄</td>\n      <td>I-5</td>\n    </tr>\n    <tr>\n      <th>27</th>\n      <td>sentence_1</td>\n      <td>拍</td>\n      <td>B-5</td>\n    </tr>\n    <tr>\n      <th>28</th>\n      <td>sentence_1</td>\n      <td>照</td>\n      <td>I-5</td>\n    </tr>\n    <tr>\n      <th>29</th>\n      <td>sentence_1</td>\n      <td>抖</td>\n      <td>B-13</td>\n    </tr>\n    <tr>\n      <th>30</th>\n      <td>sentence_1</td>\n      <td>音</td>\n      <td>I-13</td>\n    </tr>\n    <tr>\n      <th>31</th>\n      <td>sentence_1</td>\n      <td>看</td>\n      <td>B-4</td>\n    </tr>\n    <tr>\n      <th>32</th>\n      <td>sentence_1</td>\n      <td>电</td>\n      <td>I-4</td>\n    </tr>\n    <tr>\n      <th>33</th>\n      <td>sentence_1</td>\n      <td>视</td>\n      <td>I-4</td>\n    </tr>\n    <tr>\n      <th>34</th>\n      <td>sentence_1</td>\n      <td>神</td>\n      <td>I-4</td>\n    </tr>\n    <tr>\n      <th>35</th>\n      <td>sentence_1</td>\n      <td>器</td>\n      <td>I-4</td>\n    </tr>\n    <tr>\n      <th>36</th>\n      <td>sentence_1</td>\n      <td>三</td>\n      <td>B-4</td>\n    </tr>\n    <tr>\n      <th>37</th>\n      <td>sentence_1</td>\n      <td>角</td>\n      <td>I-4</td>\n    </tr>\n    <tr>\n      <th>38</th>\n      <td>sentence_1</td>\n      <td>架</td>\n      <td>I-4</td>\n    </tr>\n    <tr>\n      <th>39</th>\n      <td>sentence_1</td>\n      <td>便</td>\n      <td>B-11</td>\n    </tr>\n    <tr>\n      <th>40</th>\n      <td>sentence_1</td>\n      <td>携</td>\n      <td>I-11</td>\n    </tr>\n    <tr>\n      <th>41</th>\n      <td>sentence_1</td>\n      <td>伸</td>\n      <td>B-11</td>\n    </tr>\n    <tr>\n      <th>42</th>\n      <td>sentence_1</td>\n      <td>缩</td>\n      <td>I-11</td>\n    </tr>\n    <tr>\n      <th>43</th>\n      <td>sentence_1</td>\n      <td>懒</td>\n      <td>B-8</td>\n    </tr>\n    <tr>\n      <th>44</th>\n      <td>sentence_1</td>\n      <td>人</td>\n      <td>I-8</td>\n    </tr>\n    <tr>\n      <th>45</th>\n      <td>sentence_1</td>\n      <td>户</td>\n      <td>B-7</td>\n    </tr>\n    <tr>\n      <th>46</th>\n      <td>sentence_1</td>\n      <td>外</td>\n      <td>I-7</td>\n    </tr>\n    <tr>\n      <th>47</th>\n      <td>sentence_1</td>\n      <td>支</td>\n      <td>B-4</td>\n    </tr>\n    <tr>\n      <th>48</th>\n      <td>sentence_1</td>\n      <td>撑</td>\n      <td>I-4</td>\n    </tr>\n    <tr>\n      <th>49</th>\n      <td>sentence_1</td>\n      <td>架</td>\n      <td>I-4</td>\n    </tr>\n    <tr>\n      <th>50</th>\n      <td>sentence_1</td>\n      <td>[SEP]</td>\n      <td>O</td>\n    </tr>\n    <tr>\n      <th>51</th>\n      <td>sentence_1</td>\n      <td>【</td>\n      <td>O</td>\n    </tr>\n    <tr>\n      <th>52</th>\n      <td>sentence_1</td>\n      <td>女</td>\n      <td>B-16</td>\n    </tr>\n    <tr>\n      <th>53</th>\n      <td>sentence_1</td>\n      <td>神</td>\n      <td>I-16</td>\n    </tr>\n    <tr>\n      <th>54</th>\n      <td>sentence_1</td>\n      <td>粉</td>\n      <td>I-16</td>\n    </tr>\n    <tr>\n      <th>55</th>\n      <td>sentence_1</td>\n      <td>】</td>\n      <td>O</td>\n    </tr>\n    <tr>\n      <th>56</th>\n      <td>sentence_1</td>\n      <td>自</td>\n      <td>O</td>\n    </tr>\n    <tr>\n      <th>57</th>\n      <td>sentence_1</td>\n      <td>带</td>\n      <td>O</td>\n    </tr>\n    <tr>\n      <th>58</th>\n      <td>sentence_1</td>\n      <td>三</td>\n      <td>B-4</td>\n    </tr>\n    <tr>\n      <th>59</th>\n      <td>sentence_1</td>\n      <td>脚</td>\n      <td>I-4</td>\n    </tr>\n    <tr>\n      <th>60</th>\n      <td>sentence_1</td>\n      <td>架</td>\n      <td>I-4</td>\n    </tr>\n    <tr>\n      <th>61</th>\n      <td>sentence_1</td>\n      <td>+</td>\n      <td>O</td>\n    </tr>\n    <tr>\n      <th>62</th>\n      <td>sentence_1</td>\n      <td>蓝</td>\n      <td>B-11</td>\n    </tr>\n    <tr>\n      <th>63</th>\n      <td>sentence_1</td>\n      <td>牙</td>\n      <td>I-11</td>\n    </tr>\n    <tr>\n      <th>64</th>\n      <td>sentence_1</td>\n      <td>遥</td>\n      <td>B-11</td>\n    </tr>\n    <tr>\n      <th>65</th>\n      <td>sentence_1</td>\n      <td>控</td>\n      <td>I-11</td>\n    </tr>\n    <tr>\n      <th>66</th>\n      <td>sentence_2</td>\n      <td>牛</td>\n      <td>B-4</td>\n    </tr>\n    <tr>\n      <th>67</th>\n      <td>sentence_2</td>\n      <td>皮</td>\n      <td>I-4</td>\n    </tr>\n    <tr>\n      <th>68</th>\n      <td>sentence_2</td>\n      <td>纸</td>\n      <td>I-4</td>\n    </tr>\n    <tr>\n      <th>69</th>\n      <td>sentence_2</td>\n      <td>袋</td>\n      <td>I-4</td>\n    </tr>\n    <tr>\n      <th>70</th>\n      <td>sentence_2</td>\n      <td>手</td>\n      <td>B-4</td>\n    </tr>\n    <tr>\n      <th>71</th>\n      <td>sentence_2</td>\n      <td>提</td>\n      <td>I-4</td>\n    </tr>\n    <tr>\n      <th>72</th>\n      <td>sentence_2</td>\n      <td>袋</td>\n      <td>I-4</td>\n    </tr>\n    <tr>\n      <th>73</th>\n      <td>sentence_2</td>\n      <td>定</td>\n      <td>B-29</td>\n    </tr>\n    <tr>\n      <th>74</th>\n      <td>sentence_2</td>\n      <td>制</td>\n      <td>I-29</td>\n    </tr>\n    <tr>\n      <th>75</th>\n      <td>sentence_2</td>\n      <td>l</td>\n      <td>I-29</td>\n    </tr>\n    <tr>\n      <th>76</th>\n      <td>sentence_2</td>\n      <td>o</td>\n      <td>I-29</td>\n    </tr>\n    <tr>\n      <th>77</th>\n      <td>sentence_2</td>\n      <td>g</td>\n      <td>I-29</td>\n    </tr>\n    <tr>\n      <th>78</th>\n      <td>sentence_2</td>\n      <td>o</td>\n      <td>I-29</td>\n    </tr>\n    <tr>\n      <th>79</th>\n      <td>sentence_2</td>\n      <td>烘</td>\n      <td>B-9</td>\n    </tr>\n    <tr>\n      <th>80</th>\n      <td>sentence_2</td>\n      <td>焙</td>\n      <td>I-9</td>\n    </tr>\n    <tr>\n      <th>81</th>\n      <td>sentence_2</td>\n      <td>购</td>\n      <td>B-5</td>\n    </tr>\n    <tr>\n      <th>82</th>\n      <td>sentence_2</td>\n      <td>物</td>\n      <td>I-5</td>\n    </tr>\n    <tr>\n      <th>83</th>\n      <td>sentence_2</td>\n      <td>服</td>\n      <td>B-40</td>\n    </tr>\n    <tr>\n      <th>84</th>\n      <td>sentence_2</td>\n      <td>装</td>\n      <td>I-40</td>\n    </tr>\n    <tr>\n      <th>85</th>\n      <td>sentence_2</td>\n      <td>包</td>\n      <td>B-4</td>\n    </tr>\n    <tr>\n      <th>86</th>\n      <td>sentence_2</td>\n      <td>装</td>\n      <td>I-4</td>\n    </tr>\n    <tr>\n      <th>87</th>\n      <td>sentence_2</td>\n      <td>外</td>\n      <td>B-40</td>\n    </tr>\n    <tr>\n      <th>88</th>\n      <td>sentence_2</td>\n      <td>卖</td>\n      <td>I-40</td>\n    </tr>\n    <tr>\n      <th>89</th>\n      <td>sentence_2</td>\n      <td>打</td>\n      <td>B-5</td>\n    </tr>\n    <tr>\n      <th>90</th>\n      <td>sentence_2</td>\n      <td>包</td>\n      <td>I-5</td>\n    </tr>\n    <tr>\n      <th>91</th>\n      <td>sentence_2</td>\n      <td>袋</td>\n      <td>B-4</td>\n    </tr>\n    <tr>\n      <th>92</th>\n      <td>sentence_2</td>\n      <td>子</td>\n      <td>I-4</td>\n    </tr>\n    <tr>\n      <th>93</th>\n      <td>sentence_2</td>\n      <td>礼</td>\n      <td>B-4</td>\n    </tr>\n    <tr>\n      <th>94</th>\n      <td>sentence_2</td>\n      <td>品</td>\n      <td>I-4</td>\n    </tr>\n    <tr>\n      <th>95</th>\n      <td>sentence_2</td>\n      <td>袋</td>\n      <td>I-4</td>\n    </tr>\n    <tr>\n      <th>96</th>\n      <td>sentence_2</td>\n      <td>纸</td>\n      <td>B-12</td>\n    </tr>\n    <tr>\n      <th>97</th>\n      <td>sentence_2</td>\n      <td>质</td>\n      <td>I-12</td>\n    </tr>\n    <tr>\n      <th>98</th>\n      <td>sentence_2</td>\n      <td>[SEP]</td>\n      <td>O</td>\n    </tr>\n    <tr>\n      <th>99</th>\n      <td>sentence_2</td>\n      <td>黑</td>\n      <td>B-16</td>\n    </tr>\n    <tr>\n      <th>100</th>\n      <td>sentence_2</td>\n      <td>色</td>\n      <td>I-16</td>\n    </tr>\n    <tr>\n      <th>101</th>\n      <td>sentence_2</td>\n      <td>[SEP]</td>\n      <td>O</td>\n    </tr>\n    <tr>\n      <th>102</th>\n      <td>sentence_2</td>\n      <td>3</td>\n      <td>B-18</td>\n    </tr>\n    <tr>\n      <th>103</th>\n      <td>sentence_2</td>\n      <td>2</td>\n      <td>I-18</td>\n    </tr>\n    <tr>\n      <th>104</th>\n      <td>sentence_2</td>\n      <td>*</td>\n      <td>I-18</td>\n    </tr>\n    <tr>\n      <th>105</th>\n      <td>sentence_2</td>\n      <td>1</td>\n      <td>I-18</td>\n    </tr>\n    <tr>\n      <th>106</th>\n      <td>sentence_2</td>\n      <td>1</td>\n      <td>I-18</td>\n    </tr>\n    <tr>\n      <th>107</th>\n      <td>sentence_2</td>\n      <td>*</td>\n      <td>I-18</td>\n    </tr>\n    <tr>\n      <th>108</th>\n      <td>sentence_2</td>\n      <td>2</td>\n      <td>I-18</td>\n    </tr>\n    <tr>\n      <th>109</th>\n      <td>sentence_2</td>\n      <td>5</td>\n      <td>I-18</td>\n    </tr>\n    <tr>\n      <th>110</th>\n      <td>sentence_2</td>\n      <td>[SEP]</td>\n      <td>O</td>\n    </tr>\n    <tr>\n      <th>111</th>\n      <td>sentence_2</td>\n      <td>大</td>\n      <td>B-13</td>\n    </tr>\n    <tr>\n      <th>112</th>\n      <td>sentence_2</td>\n      <td>横</td>\n      <td>I-13</td>\n    </tr>\n    <tr>\n      <th>113</th>\n      <td>sentence_2</td>\n      <td>1</td>\n      <td>B-18</td>\n    </tr>\n    <tr>\n      <th>114</th>\n      <td>sentence_2</td>\n      <td>0</td>\n      <td>I-18</td>\n    </tr>\n    <tr>\n      <th>115</th>\n      <td>sentence_2</td>\n      <td>0</td>\n      <td>I-18</td>\n    </tr>\n    <tr>\n      <th>116</th>\n      <td>sentence_2</td>\n      <td>个</td>\n      <td>I-18</td>\n    </tr>\n    <tr>\n      <th>117</th>\n      <td>sentence_3</td>\n      <td>彩</td>\n      <td>B-16</td>\n    </tr>\n    <tr>\n      <th>118</th>\n      <td>sentence_3</td>\n      <td>色</td>\n      <td>I-16</td>\n    </tr>\n    <tr>\n      <th>119</th>\n      <td>sentence_3</td>\n      <td>金</td>\n      <td>B-12</td>\n    </tr>\n  </tbody>\n</table>\n</div>"
     },
     "execution_count": 19,
     "metadata": {},
     "output_type": "execute_result"
    }
   ],
   "source": [
    "pd.set_option('display.max_rows', 120)\n",
    "\n",
    "data = pd.DataFrame(tmp, columns=['sentence_id', 'words', 'tags'])\n",
    "data.head(120)"
   ],
   "metadata": {
    "collapsed": false,
    "pycharm": {
     "name": "#%%\n"
    }
   }
  },
  {
   "cell_type": "code",
   "execution_count": 19,
   "outputs": [],
   "source": [],
   "metadata": {
    "collapsed": false,
    "pycharm": {
     "name": "#%%\n"
    }
   }
  }
 ],
 "metadata": {
  "kernelspec": {
   "display_name": "Python 3",
   "language": "python",
   "name": "python3"
  },
  "language_info": {
   "codemirror_mode": {
    "name": "ipython",
    "version": 2
   },
   "file_extension": ".py",
   "mimetype": "text/x-python",
   "name": "python",
   "nbconvert_exporter": "python",
   "pygments_lexer": "ipython2",
   "version": "2.7.6"
  }
 },
 "nbformat": 4,
 "nbformat_minor": 0
}