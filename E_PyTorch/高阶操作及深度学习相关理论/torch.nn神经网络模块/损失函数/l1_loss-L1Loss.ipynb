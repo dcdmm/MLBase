{
 "cells": [
  {
   "cell_type": "code",
   "execution_count": 76,
   "outputs": [],
   "source": [
    "import torch\n",
    "import torch.nn.functional as F\n",
    "import torch.nn as nn"
   ],
   "metadata": {
    "collapsed": false,
    "pycharm": {
     "name": "#%%\n"
    }
   }
  },
  {
   "cell_type": "markdown",
   "source": [
    "* Input: (*), where *∗ means any number of dimensions.\n",
    "\n",
    "* Target: (*), same shape as the input.\n",
    "\n",
    "* Output: scalar. If reduction is 'none', then (*), same shape as the input."
   ],
   "metadata": {
    "collapsed": false,
    "pycharm": {
     "name": "#%% md\n"
    }
   }
  },
  {
   "cell_type": "code",
   "execution_count": 77,
   "outputs": [],
   "source": [
    "a = torch.tensor([[1, 2, 3, 4],\n",
    "                  [2, 3, 4, 5]], dtype=torch.float32)\n",
    "b = torch.tensor([[3, 4, 5, 6],\n",
    "                  [4, 5, 6, 7]], dtype=torch.float32)"
   ],
   "metadata": {
    "collapsed": false,
    "pycharm": {
     "name": "#%%\n"
    }
   }
  },
  {
   "cell_type": "code",
   "execution_count": 78,
   "outputs": [
    {
     "name": "stdout",
     "output_type": "stream",
     "text": [
      "tensor(2.)\n",
      "tensor(16.)\n",
      "tensor([[2., 2., 2., 2.],\n",
      "        [2., 2., 2., 2.]])\n"
     ]
    }
   ],
   "source": [
    "# 平均绝对误差损失函数\n",
    "print(F.l1_loss(a, b, reduction='mean'))  # 默认reduction='mean'\n",
    "print(F.l1_loss(a, b, reduction='sum'))\n",
    "print(F.l1_loss(a, b, reduction='none'))"
   ],
   "metadata": {
    "collapsed": false,
    "pycharm": {
     "name": "#%%\n"
    }
   }
  },
  {
   "cell_type": "code",
   "execution_count": 79,
   "outputs": [
    {
     "name": "stdout",
     "output_type": "stream",
     "text": [
      "tensor(2.)\n",
      "tensor(16.)\n",
      "tensor([[2., 2., 2., 2.],\n",
      "        [2., 2., 2., 2.]])\n"
     ]
    }
   ],
   "source": [
    "# 平均绝对损失函数\n",
    "print(nn.L1Loss(reduction='mean')(a, b))  # 默认reduction='mean'\n",
    "print(nn.L1Loss(reduction='sum')(a, b))\n",
    "print(nn.L1Loss(reduction='none')(a, b))"
   ],
   "metadata": {
    "collapsed": false,
    "pycharm": {
     "name": "#%%\n"
    }
   }
  }
 ],
 "metadata": {
  "kernelspec": {
   "display_name": "Python 3",
   "language": "python",
   "name": "python3"
  },
  "language_info": {
   "codemirror_mode": {
    "name": "ipython",
    "version": 2
   },
   "file_extension": ".py",
   "mimetype": "text/x-python",
   "name": "python",
   "nbconvert_exporter": "python",
   "pygments_lexer": "ipython2",
   "version": "2.7.6"
  }
 },
 "nbformat": 4,
 "nbformat_minor": 0
}