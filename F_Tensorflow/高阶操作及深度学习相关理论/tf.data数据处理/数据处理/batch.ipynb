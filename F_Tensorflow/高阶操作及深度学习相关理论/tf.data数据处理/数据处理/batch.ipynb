{
 "cells": [
  {
   "cell_type": "code",
   "execution_count": 33,
   "metadata": {
    "collapsed": true
   },
   "outputs": [],
   "source": [
    "import tensorflow as tf"
   ]
  },
  {
   "cell_type": "code",
   "execution_count": 34,
   "outputs": [],
   "source": [
    "x = tf.linspace(0.0, 0.1, 100)\n",
    "y = tf.reshape(tf.linspace(1, 400, 400), (100, 2, 2))\n",
    "z = tf.reshape(tf.range(1000, 1500), (100, 5))\n",
    "dataset = tf.data.Dataset.from_tensor_slices((x, y, z))"
   ],
   "metadata": {
    "collapsed": false,
    "pycharm": {
     "name": "#%%\n"
    }
   }
  },
  {
   "cell_type": "code",
   "execution_count": 35,
   "outputs": [
    {
     "name": "stdout",
     "output_type": "stream",
     "text": [
      "(6,) (6, 2, 2) (6, 5)\n",
      "(6,) (6, 2, 2) (6, 5)\n",
      "(6,) (6, 2, 2) (6, 5)\n",
      "(6,) (6, 2, 2) (6, 5)\n",
      "(6,) (6, 2, 2) (6, 5)\n",
      "(6,) (6, 2, 2) (6, 5)\n",
      "(6,) (6, 2, 2) (6, 5)\n",
      "(6,) (6, 2, 2) (6, 5)\n",
      "(6,) (6, 2, 2) (6, 5)\n",
      "(6,) (6, 2, 2) (6, 5)\n",
      "(6,) (6, 2, 2) (6, 5)\n",
      "(6,) (6, 2, 2) (6, 5)\n",
      "(6,) (6, 2, 2) (6, 5)\n",
      "(6,) (6, 2, 2) (6, 5)\n",
      "(6,) (6, 2, 2) (6, 5)\n",
      "(6,) (6, 2, 2) (6, 5)\n",
      "(4,) (4, 2, 2) (4, 5)\n"
     ]
    }
   ],
   "source": [
    "# Combines consecutive elements of this dataset into batches.\n",
    "dataset_batch = dataset.batch(6)\n",
    "for i, j, k in dataset_batch:\n",
    "    # 第一个维度信息为批次\n",
    "    print(i.numpy().shape, j.numpy().shape, k.numpy().shape)"
   ],
   "metadata": {
    "collapsed": false,
    "pycharm": {
     "name": "#%%\n"
    }
   }
  },
  {
   "cell_type": "code",
   "execution_count": 36,
   "outputs": [
    {
     "name": "stdout",
     "output_type": "stream",
     "text": [
      "(6,) (6, 2, 2) (6, 5)\n",
      "(6,) (6, 2, 2) (6, 5)\n",
      "(6,) (6, 2, 2) (6, 5)\n",
      "(6,) (6, 2, 2) (6, 5)\n",
      "(6,) (6, 2, 2) (6, 5)\n",
      "(6,) (6, 2, 2) (6, 5)\n",
      "(6,) (6, 2, 2) (6, 5)\n",
      "(6,) (6, 2, 2) (6, 5)\n",
      "(6,) (6, 2, 2) (6, 5)\n",
      "(6,) (6, 2, 2) (6, 5)\n",
      "(6,) (6, 2, 2) (6, 5)\n",
      "(6,) (6, 2, 2) (6, 5)\n",
      "(6,) (6, 2, 2) (6, 5)\n",
      "(6,) (6, 2, 2) (6, 5)\n",
      "(6,) (6, 2, 2) (6, 5)\n",
      "(6,) (6, 2, 2) (6, 5)\n"
     ]
    }
   ],
   "source": [
    "# drop_remainder: (Optional.) A tf.bool scalar tf.Tensor, representing whether the last batch should be dropped in the case it has fewer than batch_size elements;\n",
    "#                 the default behavior is not to drop the smaller batch.\n",
    "dataset_batch = dataset.batch(6, drop_remainder=True)\n",
    "for i, j, k in dataset_batch.as_numpy_iterator():\n",
    "    print(i.shape, j.shape, k.shape)"
   ],
   "metadata": {
    "collapsed": false,
    "pycharm": {
     "name": "#%%\n"
    }
   }
  }
 ],
 "metadata": {
  "kernelspec": {
   "display_name": "Python 3",
   "language": "python",
   "name": "python3"
  },
  "language_info": {
   "codemirror_mode": {
    "name": "ipython",
    "version": 2
   },
   "file_extension": ".py",
   "mimetype": "text/x-python",
   "name": "python",
   "nbconvert_exporter": "python",
   "pygments_lexer": "ipython2",
   "version": "2.7.6"
  }
 },
 "nbformat": 4,
 "nbformat_minor": 0
}