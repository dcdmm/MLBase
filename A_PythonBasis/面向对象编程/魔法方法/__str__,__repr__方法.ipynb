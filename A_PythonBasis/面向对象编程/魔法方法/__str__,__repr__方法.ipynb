{
 "cells": [
  {
   "cell_type": "code",
   "execution_count": 1,
   "outputs": [
    {
     "name": "stdout",
     "text": [
      "调用了__repr__方法\n"
     ],
     "output_type": "stream"
    }
   ],
   "source": [
    "class Student:\n",
    "    def __init__(self, n):\n",
    "        self.name = n\n",
    "        \n",
    "    # def __str__(self):\n",
    "    #     return '调用了__str__方法'   # 返回值必须为字符串\n",
    "\n",
    "    def __repr__(self):\n",
    "        return \"调用了__repr__方法\"  # 返回值也必须为字符串\n",
    "\n",
    "student1 = Student(\"小明\")\n",
    "print(student1) # print输出优先调用__str__方法(如果只重写了其中一个方法,则调用该方法)"
   ],
   "metadata": {
    "collapsed": false,
    "pycharm": {
     "name": "#%%\n",
     "is_executing": false
    }
   }
  },
  {
   "cell_type": "code",
   "execution_count": 16,
   "outputs": [
    {
     "data": {
      "text/plain": "调用了__repr__方法"
     },
     "metadata": {},
     "output_type": "execute_result",
     "execution_count": 16
    }
   ],
   "source": [
    "student1 # 控制台输出优先调用__repr__方法(如果只重写了其中一个方法,则调用该方法)"
   ],
   "metadata": {
    "pycharm": {
     "metadata": false,
     "name": "#%%\n",
     "is_executing": false
    }
   }
  },
  {
   "cell_type": "code",
   "execution_count": null,
   "outputs": [],
   "source": "\n",
   "metadata": {
    "pycharm": {
     "metadata": false,
     "name": "#%%\n"
    }
   }
  }
 ],
 "metadata": {
  "language_info": {
   "codemirror_mode": {
    "name": "ipython",
    "version": 2
   },
   "file_extension": ".py",
   "mimetype": "text/x-python",
   "name": "python",
   "nbconvert_exporter": "python",
   "pygments_lexer": "ipython2",
   "version": "2.7.6"
  },
  "kernelspec": {
   "name": "python3",
   "language": "python",
   "display_name": "Python 3"
  },
  "pycharm": {
   "stem_cell": {
    "cell_type": "raw",
    "source": [],
    "metadata": {
     "collapsed": false
    }
   }
  }
 },
 "nbformat": 4,
 "nbformat_minor": 0
}