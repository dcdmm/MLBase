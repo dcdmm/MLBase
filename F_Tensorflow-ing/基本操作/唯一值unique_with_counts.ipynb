{
 "cells": [
  {
   "cell_type": "code",
   "execution_count": 27,
   "metadata": {
    "collapsed": true
   },
   "outputs": [],
   "source": [
    "import tensorflow as tf"
   ]
  },
  {
   "cell_type": "code",
   "execution_count": 28,
   "outputs": [
    {
     "data": {
      "text/plain": "<tf.Tensor: shape=(9,), dtype=int32, numpy=array([1, 1, 2, 4, 4, 4, 7, 8, 8])>"
     },
     "execution_count": 28,
     "metadata": {},
     "output_type": "execute_result"
    }
   ],
   "source": [
    "tor = tf.constant([1, 1, 2, 4, 4, 4, 7, 8, 8])  # tor必须为1维张量\n",
    "tor"
   ],
   "metadata": {
    "pycharm": {
     "metadata": false,
     "name": "#%%\n"
    }
   }
  },
  {
   "cell_type": "markdown",
   "source": [
    "### 参考numpy.unique"
   ],
   "metadata": {
    "collapsed": false,
    "pycharm": {
     "name": "#%% md\n"
    }
   }
  },
  {
   "cell_type": "code",
   "execution_count": 29,
   "outputs": [
    {
     "name": "stdout",
     "output_type": "stream",
     "text": [
      "tf.Tensor([1 2 4 7 8], shape=(5,), dtype=int32)\n",
      "tf.Tensor([0 0 1 2 2 2 3 4 4], shape=(9,), dtype=int32)\n",
      "tf.Tensor([2 1 3 1 2], shape=(5,), dtype=int32)\n"
     ]
    }
   ],
   "source": [
    "# This operation returns a tensor y containing all of the unique elements of x sorted in the same order that they occur in x.\n",
    "# This operation also returns a tensor idx the same size as x that contains the index of each value of x in the unique output y.\n",
    "# Finally, it returns a third tensor count that contains the count of each element of y in x. In other words:\n",
    "a = tf.unique_with_counts(tor)  # Finds unique elements in a 1-D tensor.\n",
    "\n",
    "print(a.y)  # 唯一值(顺序保持不变)\n",
    "print(a.idx)  # 唯一值索引\n",
    "print(a.count)  # 唯一值出现的次数"
   ],
   "metadata": {
    "collapsed": false,
    "pycharm": {
     "name": "#%%\n"
    }
   }
  },
  {
   "cell_type": "code",
   "execution_count": 29,
   "outputs": [],
   "source": [],
   "metadata": {
    "collapsed": false,
    "pycharm": {
     "name": "#%%"
    }
   }
  }
 ],
 "metadata": {
  "language_info": {
   "codemirror_mode": {
    "name": "ipython",
    "version": 2
   },
   "file_extension": ".py",
   "mimetype": "text/x-python",
   "name": "python",
   "nbconvert_exporter": "python",
   "pygments_lexer": "ipython2",
   "version": "2.7.6"
  },
  "kernelspec": {
   "name": "python3",
   "language": "python",
   "display_name": "Python 3"
  }
 },
 "nbformat": 4,
 "nbformat_minor": 0
}