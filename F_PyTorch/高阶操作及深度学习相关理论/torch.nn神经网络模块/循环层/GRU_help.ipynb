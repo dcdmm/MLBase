{
 "cells": [
  {
   "cell_type": "markdown",
   "metadata": {
    "collapsed": true,
    "pycharm": {
     "name": "#%% md\n"
    }
   },
   "source": [
    "<img src=\"../../../../Other/img/GRU.png\">\n",
    "\n",
    "&emsp;&emsp;由上图可知,GRU网络的结构为:\n",
    "\n",
    "\\begin{array}{l}\n",
    "\\mathbf{r}_{t} = \\sigma\\left([W_{ih}]_r \\mathbf{x}_{t} + [W_{hh}]_r \\mathbf{h}_{t-1} + \\mathbf{b}_r \\right) \\\\\n",
    "\\mathbf{z}_{t} =  \\sigma\\left([W_{ih}]_z \\mathbf{x}_{t} + [W_{hh}]_z \\mathbf{h}_{t-1} + \\mathbf{b}_z \\right) \\\\\n",
    "\\tilde{\\mathbf{h}}_{t} = \\tanh \\left( [W_{ih}]_h \\mathbf{x}_{t} +  [W_{hh}]_h \\left(\\mathbf{h}_{t-1}* \\mathbf{r}_{t}  \\right) + \\mathbf{b}_h \\right) \\\\\n",
    "\\mathbf{h}_{t}= \\left(1- \\mathbf{z}_{t}\\right) * \\tilde{\\mathbf{h}}_{t} + \\mathbf{z}_{t} * \\mathbf{h}_{t-1}\n",
    "\\end{array}\n",
    "\n",
    "其中,\n",
    "* $\\tilde{\\mathbf{h}}_{t}$表示当前时刻的候选状态\n",
    "* $ \\mathbf{z}_{t} \\in [0, 1]^D$为更新门(Update Gate),用来控制当前状态需要从历史状态中保留多少信息(不经过非线性变换),以及需要从候选状态中接受多少新信息\n",
    "* $ \\mathbf{r}_{r} \\in [0, 1]^D$为重置门(Reset Gate),用来控制用来控制候选状态$\\tilde{\\mathbf{h}}_{t}$的计算是否依赖上一时刻的状态$\\mathbf{h}_{t-1}$\n",
    "\n",
    "\n",
    "&emsp;&emsp;在LSTM网络中,输入门和遗忘门是互补关系,具有一定的冗余性.GRU网络直接使用一个门来控制输入和遗忘之间的平衡.当$\\mathbf{z}_{t}=0$时,当前状态$\\mathbf{h}_{t}$和前一时刻的状态$\\mathbf{h}_{t-1}$之间为非线性函数关系;当$\\mathbf{z}_{t}=1$时,$\\mathbf{h}_{t}$和$\\mathbf{h}_{t-1}$之间为线性函数关系.即\n",
    "* $ \\mathbf{z}_{t}=0, \\mathbf{r}=1 $时,GRU网络退化为简单循环网络\n",
    "* $\\mathbf{z}_{t}=0, \\mathbf{r}=0$时,当前状态$\\mathbf{h}_t$只和当前输入$\\mathbf{x}_t$相关,和历史状态$\\mathbf{h}_{t-1}$无关\n",
    "* $\\mathbf{z}_{t}=1$时,当前状态$\\mathbf{h}_t=\\mathbf{h}_{t-1}$等于上一时刻状态$\\mathbf{h}_{t-1}$,和当前输入$\\mathbf{x}_t$无关"
   ]
  },
  {
   "cell_type": "code",
   "execution_count": null,
   "metadata": {},
   "outputs": [],
   "source": []
  }
 ],
 "metadata": {
  "kernelspec": {
   "display_name": "Python 3",
   "language": "python",
   "name": "python3"
  },
  "language_info": {
   "codemirror_mode": {
    "name": "ipython",
    "version": 3
   },
   "file_extension": ".py",
   "mimetype": "text/x-python",
   "name": "python",
   "nbconvert_exporter": "python",
   "pygments_lexer": "ipython3",
   "version": "3.7.7"
  },
  "toc": {
   "base_numbering": 1,
   "nav_menu": {},
   "number_sections": true,
   "sideBar": true,
   "skip_h1_title": false,
   "title_cell": "Table of Contents",
   "title_sidebar": "Contents",
   "toc_cell": false,
   "toc_position": {},
   "toc_section_display": true,
   "toc_window_display": false
  }
 },
 "nbformat": 4,
 "nbformat_minor": 1
}
