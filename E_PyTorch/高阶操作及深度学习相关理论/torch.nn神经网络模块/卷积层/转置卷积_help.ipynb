{
 "cells": [
  {
   "cell_type": "markdown",
   "metadata": {
    "collapsed": true,
    "pycharm": {
     "name": "#%% md\n"
    }
   },
   "source": [
    "### 卷积运算过程解析\n",
    "\n",
    "&emsp;&emsp;若定义$C$为卷积核,Large为输入图像,Small为输出图像.则经过卷积运算($p=0,s=1$)后,实现了高维特征到低维特征的转换.计算机内部矩阵乘法实现步骤如下:\n",
    "\n",
    "1. 确定小图像small的大小($S_h, S_w$)\n",
    "2. 将大图像平展为列向量矩阵Large_f\n",
    "3. 将卷积核转换为稀疏矩阵C_s\n",
    "4. 计算output = Large_f @ C_s\n",
    "5. 将output的shape恢复成(S_h, S_w)\n",
    "\n",
    "下图展示了这种运算的工作方式.它将输入($4 \\times 4$)平展为$16 \\times 1$的矩阵,并将卷积核转换为一个稀疏矩阵$(4 \\times 16)$.然后,在稀疏矩阵和平展的输入之间使用矩阵乘法.之后,再将所得到的矩阵$(4×1)$转换为$2\\times2$的输出\n",
    "\n",
    "<img src=\"../../../../Other/img/转置卷积0.jpeg\">\n",
    "\n",
    "即实现了下图的卷积计算\n",
    "\n",
    "<img src=\"../../../../Other/img/卷积0.gif\">\n",
    "\n",
    "\n",
    "### 转置卷积计算过程解析\n",
    "\n",
    "若要实现将Small输入图像$(2\\times2)$转换为Large输出图像$(4\\times4)$.可通过下列方式实现(并不是逆运算,只是形式上\n",
    "的转置关系;$C_s @ C_s^T \\neq I $):\n",
    "\n",
    "<img src=\"../../../../Other/img/转置卷积1.jpeg\">\n",
    "\n",
    "相当于实现了下图的卷积运算\n",
    "\n",
    "<img src=\"../../../../Other/img/转置卷积2.gif\">\n",
    "\n",
    "\n",
    "### 微步卷积\n",
    "&emsp;&emsp;可以通过增加卷积操作的步长$S > 1$实现大幅度降低特征维数的下采样操作.同样,也可以通过减少转置卷积的步长$S < 1$\n",
    "实现大幅提高特征维数的上采样操作.步长$S< 1$的转置卷积也称为微步卷积(Fractionally-Strided Convolution).为了实现微步卷积,可以在输入特征之间插入0来间接地使得步长变小.\n",
    "\n",
    "&emsp;&emsp;如果卷积操作的步长为$S > 1$,希望其对应的转置卷积的步长为$\\frac{1}{S}$,需要在输入特征之间插入$S -1$个0来使得其移动的速度变慢．\n",
    "\n",
    "示例如下:\n",
    "\n",
    "<img src=\"../../../../Other/img/微步卷积.png\">"
   ]
  },
  {
   "cell_type": "code",
   "execution_count": null,
   "metadata": {},
   "outputs": [],
   "source": []
  }
 ],
 "metadata": {
  "kernelspec": {
   "display_name": "Python 3",
   "language": "python",
   "name": "python3"
  },
  "language_info": {
   "codemirror_mode": {
    "name": "ipython",
    "version": 3
   },
   "file_extension": ".py",
   "mimetype": "text/x-python",
   "name": "python",
   "nbconvert_exporter": "python",
   "pygments_lexer": "ipython3",
   "version": "3.7.7"
  },
  "toc": {
   "base_numbering": 1,
   "nav_menu": {},
   "number_sections": true,
   "sideBar": true,
   "skip_h1_title": false,
   "title_cell": "Table of Contents",
   "title_sidebar": "Contents",
   "toc_cell": false,
   "toc_position": {},
   "toc_section_display": true,
   "toc_window_display": false
  }
 },
 "nbformat": 4,
 "nbformat_minor": 1
}
