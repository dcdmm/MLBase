{
 "cells": [
  {
   "cell_type": "markdown",
   "metadata": {
    "collapsed": true,
    "pycharm": {
     "name": "#%% md\n"
    }
   },
   "source": [
    "&emsp;&emsp;给定样例集$ \\{ (\\mathbf{x}_1, y_1), (\\mathbf{x}_2, y_1),\\dots, (\\mathbf{x}_m, y_m) \\} $,其中$ y_i $是示例$ \\mathbf{x}_i $的\n",
    "真实标记.则学习器预测结果$ f(\\mathbf{x}) $与真实标记$ y $的均方误差(回归任务最常用)为:\n",
    "\n",
    "$$ E(f:D) = \\frac{1}{m}\\sum \\limits_{i=1}^{m} \\left(f(x_i) - y_i  \\right)^2$$"
   ]
  },
  {
   "cell_type": "code",
   "execution_count": 13,
   "outputs": [
    {
     "data": {
      "text/plain": "0.375"
     },
     "metadata": {},
     "output_type": "execute_result",
     "execution_count": 13
    }
   ],
   "source": [
    "# 均方误差(MSE)\n",
    "from sklearn.metrics import mean_squared_error\n",
    "\n",
    "y_true = [3, -0.5, 2, 7]\n",
    "y_pred = [2.5, 0.0, 2, 8]\n",
    "'''\n",
    "y_true : array-like of shape = (n_samples) or (n_samples, n_outputs)\n",
    "    Ground truth (correct) target values.\n",
    "\n",
    "y_pred : array-like of shape = (n_samples) or (n_samples, n_outputs)\n",
    "    Estimated target values.\n",
    "'''\n",
    "mean_squared_error(y_true, y_pred)"
   ],
   "metadata": {
    "collapsed": false,
    "pycharm": {
     "name": "#%%\n",
     "is_executing": false
    }
   }
  },
  {
   "cell_type": "code",
   "execution_count": null,
   "outputs": [],
   "source": [
    "\n"
   ],
   "metadata": {
    "collapsed": false,
    "pycharm": {
     "name": "#%%\n"
    }
   }
  }
 ],
 "metadata": {
  "kernelspec": {
   "display_name": "Python 3",
   "language": "python",
   "name": "python3"
  },
  "language_info": {
   "codemirror_mode": {
    "name": "ipython",
    "version": 2
   },
   "file_extension": ".py",
   "mimetype": "text/x-python",
   "name": "python",
   "nbconvert_exporter": "python",
   "pygments_lexer": "ipython2",
   "version": "2.7.6"
  }
 },
 "nbformat": 4,
 "nbformat_minor": 0
}