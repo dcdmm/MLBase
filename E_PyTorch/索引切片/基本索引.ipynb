{
 "cells": [
  {
   "cell_type": "code",
   "source": [
    "import torch"
   ],
   "metadata": {
    "collapsed": false,
    "pycharm": {
     "name": "#%%\n"
    }
   },
   "execution_count": 1,
   "outputs": []
  },
  {
   "cell_type": "markdown",
   "source": [
    "### 参考numpy索引切片"
   ],
   "metadata": {
    "collapsed": false,
    "pycharm": {
     "name": "#%% md\n"
    }
   }
  },
  {
   "cell_type": "code",
   "execution_count": 2,
   "outputs": [
    {
     "data": {
      "text/plain": "tensor([[[ 0.9672, -1.6929, -0.5048, -0.2972],\n         [ 0.5303, -0.1054,  1.5279, -0.4121],\n         [ 0.1771, -1.3289, -0.6828, -1.6901],\n         [ 0.4893,  0.3962, -1.1001,  0.3957],\n         [ 0.8524, -0.6336, -0.6616,  1.3318],\n         [-0.1594,  1.4567, -0.0216, -0.3005],\n         [ 0.5914,  1.7116, -0.2129, -0.8229]],\n\n        [[-0.2324, -0.9761,  1.4941,  0.2118],\n         [-1.7350,  0.5763, -0.1811,  0.2002],\n         [ 1.4847,  0.3684, -0.7969,  0.9902],\n         [-1.0704,  0.3925,  1.3898,  1.6254],\n         [-0.7718, -0.0184,  0.1712, -0.0478],\n         [-0.8331, -1.2002, -1.7076, -1.8246],\n         [-0.2920,  0.7690,  0.4669, -0.4152]],\n\n        [[ 0.8127, -0.8381, -1.9896,  0.0340],\n         [ 0.0481,  1.4258, -0.9284,  0.1308],\n         [ 1.2577,  0.4648, -0.0158,  0.8425],\n         [ 0.9101,  0.0743, -1.3114,  0.3598],\n         [ 0.7879, -0.4554, -0.2268, -1.4626],\n         [-1.2332, -1.0919, -1.4127,  0.1769],\n         [-1.0726, -1.6809, -0.6117, -0.7506]],\n\n        [[ 0.1272,  0.0831,  0.2246,  0.4242],\n         [ 1.4955, -0.0394, -1.8590,  1.2099],\n         [-1.0877, -0.7268, -1.2885,  0.4923],\n         [-2.1003,  1.2718,  0.1599, -1.0854],\n         [-1.9257,  2.0003, -0.9011, -0.3231],\n         [ 1.4474, -1.0834,  1.2284,  0.6986],\n         [-0.0921, -0.0621,  0.3253,  0.9783]],\n\n        [[-0.3899,  0.2991, -0.3020, -0.2165],\n         [-0.5637,  1.3135,  2.3768,  1.4210],\n         [ 0.8325,  0.7553, -1.1089,  0.8665],\n         [-1.0062,  2.7672, -0.8069,  1.9880],\n         [-0.6108,  0.7017,  1.2076,  1.2303],\n         [ 0.2621,  0.3741, -0.5687, -0.7067],\n         [ 0.1051, -0.2546,  0.5801, -0.6976]]])"
     },
     "execution_count": 2,
     "metadata": {},
     "output_type": "execute_result"
    }
   ],
   "source": [
    "tor_mul = torch.randn(5, 7, 4)\n",
    "tor_mul"
   ],
   "metadata": {
    "collapsed": false,
    "pycharm": {
     "name": "#%%\n"
    }
   }
  },
  {
   "cell_type": "code",
   "execution_count": 3,
   "outputs": [
    {
     "data": {
      "text/plain": "tensor(-0.1054)"
     },
     "execution_count": 3,
     "metadata": {},
     "output_type": "execute_result"
    }
   ],
   "source": [
    "tor_mul[0, 1, 1]  # 索引,返回tensor"
   ],
   "metadata": {
    "collapsed": false,
    "pycharm": {
     "name": "#%%\n"
    }
   }
  },
  {
   "cell_type": "code",
   "execution_count": 4,
   "outputs": [
    {
     "data": {
      "text/plain": "tensor([[ 0.9672, -1.6929, -0.5048, -0.2972],\n        [ 0.5303, -0.1054,  1.5279, -0.4121],\n        [ 0.1771, -1.3289, -0.6828, -1.6901],\n        [ 0.4893,  0.3962, -1.1001,  0.3957],\n        [ 0.8524, -0.6336, -0.6616,  1.3318],\n        [-0.1594,  1.4567, -0.0216, -0.3005],\n        [ 0.5914,  1.7116, -0.2129, -0.8229]])"
     },
     "execution_count": 4,
     "metadata": {},
     "output_type": "execute_result"
    }
   ],
   "source": [
    "tor_mul[0]  # 从第零个维度开始索引切片(DataFrame从列开始进行索引切片)"
   ],
   "metadata": {
    "collapsed": false,
    "pycharm": {
     "name": "#%%\n"
    }
   }
  },
  {
   "cell_type": "code",
   "execution_count": 5,
   "outputs": [
    {
     "data": {
      "text/plain": "tensor(-0.2972)"
     },
     "execution_count": 5,
     "metadata": {},
     "output_type": "execute_result"
    }
   ],
   "source": [
    "tor_mul[0, 0, -1]  # 索引,返回tensor.支持负数索引"
   ],
   "metadata": {
    "collapsed": false,
    "pycharm": {
     "name": "#%%\n"
    }
   }
  },
  {
   "cell_type": "code",
   "execution_count": 6,
   "outputs": [
    {
     "data": {
      "text/plain": "tensor([[[ 0.9672, -1.6929, -0.5048, -0.2972],\n         [ 0.5303, -0.1054,  1.5279, -0.4121],\n         [ 0.1771, -1.3289, -0.6828, -1.6901],\n         [ 0.4893,  0.3962, -1.1001,  0.3957],\n         [ 0.8524, -0.6336, -0.6616,  1.3318],\n         [-0.1594,  1.4567, -0.0216, -0.3005],\n         [ 0.5914,  1.7116, -0.2129, -0.8229]],\n\n        [[-0.2324, -0.9761,  1.4941,  0.2118],\n         [-1.7350,  0.5763, -0.1811,  0.2002],\n         [ 1.4847,  0.3684, -0.7969,  0.9902],\n         [-1.0704,  0.3925,  1.3898,  1.6254],\n         [-0.7718, -0.0184,  0.1712, -0.0478],\n         [-0.8331, -1.2002, -1.7076, -1.8246],\n         [-0.2920,  0.7690,  0.4669, -0.4152]]])"
     },
     "execution_count": 6,
     "metadata": {},
     "output_type": "execute_result"
    }
   ],
   "source": [
    "tor_mul[0:2]  # 切片,返回tensor"
   ],
   "metadata": {
    "collapsed": false,
    "pycharm": {
     "name": "#%%\n"
    }
   }
  },
  {
   "cell_type": "code",
   "execution_count": 7,
   "outputs": [
    {
     "data": {
      "text/plain": "tensor([[ 0.9672,  0.5303,  0.1771],\n        [-0.2324, -1.7350,  1.4847]])"
     },
     "execution_count": 7,
     "metadata": {},
     "output_type": "execute_result"
    }
   ],
   "source": [
    "tor_mul[0:2, 0:3, 0]  # 在多个维度上索引切片"
   ],
   "metadata": {
    "collapsed": false,
    "pycharm": {
     "name": "#%%\n"
    }
   }
  },
  {
   "cell_type": "code",
   "execution_count": 8,
   "outputs": [
    {
     "data": {
      "text/plain": "tensor([[-0.5048, -0.6828, -0.6616],\n        [ 1.4941, -0.7969,  0.1712]])"
     },
     "execution_count": 8,
     "metadata": {},
     "output_type": "execute_result"
    }
   ],
   "source": [
    "tor_mul[0:2, 0:6:2, 2]  # 第一个维度上的切片步长为2(不支持步长为负数),切片范围为0-6"
   ],
   "metadata": {
    "collapsed": false,
    "pycharm": {
     "name": "#%%\n"
    }
   }
  },
  {
   "cell_type": "code",
   "execution_count": 9,
   "outputs": [
    {
     "data": {
      "text/plain": "tensor([[[ 0.9672, -1.6929, -0.5048, -0.2972],\n         [ 0.5303, -0.1054,  1.5279, -0.4121],\n         [ 0.1771, -1.3289, -0.6828, -1.6901],\n         [ 0.4893,  0.3962, -1.1001,  0.3957],\n         [ 0.8524, -0.6336, -0.6616,  1.3318],\n         [-0.1594,  1.4567, -0.0216, -0.3005],\n         [ 0.5914,  1.7116, -0.2129, -0.8229]],\n\n        [[-0.2324, -0.9761,  1.4941,  0.2118],\n         [-1.7350,  0.5763, -0.1811,  0.2002],\n         [ 1.4847,  0.3684, -0.7969,  0.9902],\n         [-1.0704,  0.3925,  1.3898,  1.6254],\n         [-0.7718, -0.0184,  0.1712, -0.0478],\n         [-0.8331, -1.2002, -1.7076, -1.8246],\n         [-0.2920,  0.7690,  0.4669, -0.4152]],\n\n        [[ 0.8127, -0.8381, -1.9896,  0.0340],\n         [ 0.0481,  1.4258, -0.9284,  0.1308],\n         [ 1.2577,  0.4648, -0.0158,  0.8425],\n         [ 0.9101,  0.0743, -1.3114,  0.3598],\n         [ 0.7879, -0.4554, -0.2268, -1.4626],\n         [-1.2332, -1.0919, -1.4127,  0.1769],\n         [-1.0726, -1.6809, -0.6117, -0.7506]],\n\n        [[ 0.1272,  0.0831,  0.2246,  0.4242],\n         [ 1.4955, -0.0394, -1.8590,  1.2099],\n         [-1.0877, -0.7268, -1.2885,  0.4923],\n         [-2.1003,  1.2718,  0.1599, -1.0854],\n         [-1.9257,  2.0003, -0.9011, -0.3231],\n         [ 1.4474, -1.0834,  1.2284,  0.6986],\n         [-0.0921, -0.0621,  0.3253,  0.9783]],\n\n        [[-0.3899,  0.2991, -0.3020, -0.2165],\n         [-0.5637,  1.3135,  2.3768,  1.4210],\n         [ 0.8325,  0.7553, -1.1089,  0.8665],\n         [-1.0062,  2.7672, -0.8069,  1.9880],\n         [-0.6108,  0.7017,  1.2076,  1.2303],\n         [ 0.2621,  0.3741, -0.5687, -0.7067],\n         [ 0.1051, -0.2546,  0.5801, -0.6976]]])"
     },
     "execution_count": 9,
     "metadata": {},
     "output_type": "execute_result"
    }
   ],
   "source": [
    "tor_mul[:]  # 等价于tor_mul[:, :, :]"
   ],
   "metadata": {
    "collapsed": false,
    "pycharm": {
     "name": "#%%\n"
    }
   }
  },
  {
   "cell_type": "code",
   "execution_count": 10,
   "outputs": [
    {
     "data": {
      "text/plain": "tensor([[[ 0.9672, -1.6929, -0.5048, -0.2972],\n         [ 0.5303, -0.1054,  1.5279, -0.4121],\n         [ 0.1771, -1.3289, -0.6828, -1.6901],\n         [ 0.4893,  0.3962, -1.1001,  0.3957],\n         [ 0.8524, -0.6336, -0.6616,  1.3318],\n         [-0.1594,  1.4567, -0.0216, -0.3005],\n         [ 0.5914,  1.7116, -0.2129, -0.8229]],\n\n        [[ 0.8127, -0.8381, -1.9896,  0.0340],\n         [ 0.0481,  1.4258, -0.9284,  0.1308],\n         [ 1.2577,  0.4648, -0.0158,  0.8425],\n         [ 0.9101,  0.0743, -1.3114,  0.3598],\n         [ 0.7879, -0.4554, -0.2268, -1.4626],\n         [-1.2332, -1.0919, -1.4127,  0.1769],\n         [-1.0726, -1.6809, -0.6117, -0.7506]],\n\n        [[-0.3899,  0.2991, -0.3020, -0.2165],\n         [-0.5637,  1.3135,  2.3768,  1.4210],\n         [ 0.8325,  0.7553, -1.1089,  0.8665],\n         [-1.0062,  2.7672, -0.8069,  1.9880],\n         [-0.6108,  0.7017,  1.2076,  1.2303],\n         [ 0.2621,  0.3741, -0.5687, -0.7067],\n         [ 0.1051, -0.2546,  0.5801, -0.6976]]])"
     },
     "execution_count": 10,
     "metadata": {},
     "output_type": "execute_result"
    }
   ],
   "source": [
    "tor_mul[::2]  # 第一个维度上切片步长为2,范围为整个维度;等价于tor_mul[::2, :, :]"
   ],
   "metadata": {
    "collapsed": false,
    "pycharm": {
     "name": "#%%\n"
    }
   }
  },
  {
   "cell_type": "code",
   "execution_count": 11,
   "outputs": [
    {
     "data": {
      "text/plain": "torch.Size([12, 7, 8, 10, 9, 15, 14])"
     },
     "execution_count": 11,
     "metadata": {},
     "output_type": "execute_result"
    }
   ],
   "source": [
    "tor_complex = torch.randn(12, 7, 8, 10, 9, 15, 14)\n",
    "tor_complex.shape"
   ],
   "metadata": {
    "collapsed": false,
    "pycharm": {
     "name": "#%%\n"
    }
   }
  },
  {
   "cell_type": "code",
   "execution_count": 12,
   "outputs": [
    {
     "name": "stdout",
     "output_type": "stream",
     "text": [
      "torch.Size([4, 7, 8, 10, 9, 15, 14])\n",
      "torch.Size([4, 7, 8, 10, 9, 15, 14])\n",
      "torch.Size([4, 7, 8, 10, 9, 15, 14])\n"
     ]
    }
   ],
   "source": [
    "print(tor_complex[1:5].shape)\n",
    "print(tor_complex[1:5, :, :, :, :, :].shape)\n",
    "print(tor_complex[1:5, ...].shape)  # ...:剩余维度上所有数据"
   ],
   "metadata": {
    "collapsed": false,
    "pycharm": {
     "name": "#%%\n"
    }
   }
  },
  {
   "cell_type": "code",
   "execution_count": 13,
   "outputs": [
    {
     "name": "stdout",
     "output_type": "stream",
     "text": [
      "torch.Size([12, 7, 8, 10, 9, 15, 2])\n",
      "torch.Size([12, 7, 8, 10, 9, 15, 2])\n"
     ]
    }
   ],
   "source": [
    "print(tor_complex[:, :, :, :, :, :, 2:4].shape)\n",
    "print(tor_complex[..., 2:4].shape)"
   ],
   "metadata": {
    "collapsed": false,
    "pycharm": {
     "name": "#%%\n"
    }
   }
  },
  {
   "cell_type": "code",
   "execution_count": 14,
   "outputs": [
    {
     "name": "stdout",
     "output_type": "stream",
     "text": [
      "torch.Size([5, 7, 8, 10, 9, 15])\n",
      "torch.Size([5, 7, 8, 10, 9, 15])\n"
     ]
    }
   ],
   "source": [
    "print(tor_complex[2:7, :, :, :, :, :, 4].shape)\n",
    "print(tor_complex[2:7, ..., 4].shape)\n"
   ],
   "metadata": {
    "collapsed": false,
    "pycharm": {
     "name": "#%%\n"
    }
   }
  }
 ],
 "metadata": {
  "kernelspec": {
   "display_name": "Python 3",
   "language": "python",
   "name": "python3"
  },
  "language_info": {
   "codemirror_mode": {
    "name": "ipython",
    "version": 2
   },
   "file_extension": ".py",
   "mimetype": "text/x-python",
   "name": "python",
   "nbconvert_exporter": "python",
   "pygments_lexer": "ipython2",
   "version": "2.7.6"
  }
 },
 "nbformat": 4,
 "nbformat_minor": 0
}