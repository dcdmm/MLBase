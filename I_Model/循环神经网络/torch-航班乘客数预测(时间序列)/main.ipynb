{
 "cells": [
  {
   "cell_type": "code",
   "execution_count": 31,
   "metadata": {
    "pycharm": {
     "name": "#%%\n"
    }
   },
   "outputs": [],
   "source": [
    "from abc import ABC\n",
    "import torch\n",
    "import torch.nn as nn\n",
    "import pandas as pd\n",
    "import matplotlib.pyplot as plt\n",
    "import matplotlib\n",
    "# 设置中文字体和负号正常显示\n",
    "matplotlib.rcParams['font.sans-serif'] = ['SimHei']\n",
    "matplotlib.rcParams['axes.unicode_minus'] = False"
   ]
  },
  {
   "cell_type": "code",
   "execution_count": 32,
   "metadata": {
    "pycharm": {
     "name": "#%%\n"
    }
   },
   "outputs": [
    {
     "data": {
      "text/plain": "   year     month  passengers\n0  1949   January         112\n1  1949  February         118\n2  1949     March         132\n3  1949     April         129\n4  1949       May         121",
      "text/html": "<div>\n<style scoped>\n    .dataframe tbody tr th:only-of-type {\n        vertical-align: middle;\n    }\n\n    .dataframe tbody tr th {\n        vertical-align: top;\n    }\n\n    .dataframe thead th {\n        text-align: right;\n    }\n</style>\n<table border=\"1\" class=\"dataframe\">\n  <thead>\n    <tr style=\"text-align: right;\">\n      <th></th>\n      <th>year</th>\n      <th>month</th>\n      <th>passengers</th>\n    </tr>\n  </thead>\n  <tbody>\n    <tr>\n      <th>0</th>\n      <td>1949</td>\n      <td>January</td>\n      <td>112</td>\n    </tr>\n    <tr>\n      <th>1</th>\n      <td>1949</td>\n      <td>February</td>\n      <td>118</td>\n    </tr>\n    <tr>\n      <th>2</th>\n      <td>1949</td>\n      <td>March</td>\n      <td>132</td>\n    </tr>\n    <tr>\n      <th>3</th>\n      <td>1949</td>\n      <td>April</td>\n      <td>129</td>\n    </tr>\n    <tr>\n      <th>4</th>\n      <td>1949</td>\n      <td>May</td>\n      <td>121</td>\n    </tr>\n  </tbody>\n</table>\n</div>"
     },
     "execution_count": 32,
     "metadata": {},
     "output_type": "execute_result"
    }
   ],
   "source": [
    "# 读取数据\n",
    "flight_data = pd.read_csv('flights.csv')\n",
    "flight_data.head()"
   ]
  },
  {
   "cell_type": "code",
   "execution_count": 33,
   "metadata": {
    "pycharm": {
     "name": "#%%\n"
    }
   },
   "outputs": [
    {
     "data": {
      "text/plain": "[<matplotlib.lines.Line2D at 0x2843bb13f40>]"
     },
     "execution_count": 33,
     "metadata": {},
     "output_type": "execute_result"
    },
    {
     "data": {
      "text/plain": "<Figure size 432x288 with 1 Axes>",
      "image/png": "[encoded data removed]"
     },
     "metadata": {
      "needs_background": "light"
     },
     "output_type": "display_data"
    }
   ],
   "source": [
    "# 数据可视化\n",
    "plt.title('Month vs Passenger')\n",
    "plt.ylabel('Total Passengers')\n",
    "plt.xlabel('Months')\n",
    "plt.grid(True)\n",
    "plt.plot(flight_data['passengers'])"
   ]
  },
  {
   "cell_type": "code",
   "execution_count": 34,
   "metadata": {
    "pycharm": {
     "name": "#%%\n"
    }
   },
   "outputs": [
    {
     "data": {
      "text/plain": "array([112., 118., 132., 129., 121., 135., 148., 148., 136., 119., 104.,\n       118., 115., 126., 141., 135., 125., 149., 170., 170., 158., 133.,\n       114., 140., 145., 150., 178., 163., 172., 178., 199., 199., 184.,\n       162., 146., 166., 171., 180., 193., 181., 183., 218., 230., 242.,\n       209., 191., 172., 194., 196., 196., 236., 235., 229., 243., 264.,\n       272., 237., 211., 180., 201., 204., 188., 235., 227., 234., 264.,\n       302., 293., 259., 229., 203., 229., 242., 233., 267., 269., 270.,\n       315., 364., 347., 312., 274., 237., 278., 284., 277., 317., 313.,\n       318., 374., 413., 405., 355., 306., 271., 306., 315., 301., 356.,\n       348., 355., 422., 465., 467., 404., 347., 305., 336., 340., 318.,\n       362., 348., 363., 435., 491., 505., 404., 359., 310., 337., 360.,\n       342., 406., 396., 420., 472., 548., 559., 463., 407., 362., 405.,\n       417., 391., 419., 461., 472., 535., 622., 606., 508., 461., 390.,\n       432.])"
     },
     "execution_count": 34,
     "metadata": {},
     "output_type": "execute_result"
    }
   ],
   "source": [
    "all_data = flight_data['passengers'].values.astype(float)\n",
    "all_data"
   ]
  },
  {
   "cell_type": "code",
   "execution_count": 35,
   "metadata": {
    "pycharm": {
     "name": "#%%\n"
    }
   },
   "outputs": [
    {
     "data": {
      "text/plain": "(144,)"
     },
     "execution_count": 35,
     "metadata": {},
     "output_type": "execute_result"
    }
   ],
   "source": [
    "all_data.shape # 共有144条数据"
   ]
  },
  {
   "cell_type": "code",
   "execution_count": 36,
   "metadata": {
    "pycharm": {
     "name": "#%%\n"
    }
   },
   "outputs": [],
   "source": [
    "test_data_size = 12\n",
    "train_data = all_data[:-test_data_size] # 训练数据集\n",
    "test_data = all_data[-test_data_size:]  # 测试数据集(最后12条)"
   ]
  },
  {
   "cell_type": "code",
   "execution_count": 37,
   "metadata": {
    "pycharm": {
     "name": "#%%\n"
    }
   },
   "outputs": [],
   "source": [
    "from sklearn.preprocessing import MinMaxScaler\n",
    "\n",
    "# 最大最小归一化处理\n",
    "scaler = MinMaxScaler(feature_range=(0, 1))\n",
    "train_data_normalized = scaler.fit_transform(train_data.reshape(-1, 1))\n",
    "train_data_normalized = torch.from_numpy(train_data_normalized).to(torch.float32)"
   ]
  },
  {
   "cell_type": "code",
   "execution_count": 38,
   "metadata": {
    "pycharm": {
     "name": "#%%\n"
    }
   },
   "outputs": [
    {
     "data": {
      "text/plain": "(tensor([[0.0176],\n         [0.0308],\n         [0.0615],\n         [0.0549],\n         [0.0374],\n         [0.0681],\n         [0.0967],\n         [0.0967],\n         [0.0703],\n         [0.0330],\n         [0.0000],\n         [0.0308]]),\n tensor([[0.0242]]))"
     },
     "execution_count": 38,
     "metadata": {},
     "output_type": "execute_result"
    }
   ],
   "source": [
    "train_window = 12 # 特征窗口大小为12\n",
    "def create_inout_sequences(input_data, tw):\n",
    "    \"\"\"用前12条数据预测第13条数据\"\"\"\n",
    "    inout_seq = []\n",
    "    L = len(input_data)\n",
    "    for i in range(L-tw):\n",
    "        train_seq = input_data[i:i+tw]\n",
    "        train_label = input_data[i+tw:i+tw+1]\n",
    "        inout_seq.append((train_seq, train_label))\n",
    "    return inout_seq\n",
    "\n",
    "train_inout_seq = create_inout_sequences(train_data_normalized, train_window)\n",
    "train_inout_seq[0]"
   ]
  },
  {
   "cell_type": "code",
   "execution_count": 39,
   "metadata": {
    "pycharm": {
     "name": "#%%\n"
    }
   },
   "outputs": [
    {
     "data": {
      "text/plain": "LSTM(\n  (lstm): LSTM(1, 100)\n  (linear): Linear(in_features=100, out_features=1, bias=True)\n)"
     },
     "execution_count": 39,
     "metadata": {},
     "output_type": "execute_result"
    }
   ],
   "source": [
    "# 定义LSTM模型\n",
    "class LSTM(nn.Module, ABC):\n",
    "    def __init__(self, input_size=1, hidden_layer_size=100, output_size=1):\n",
    "        super().__init__()\n",
    "        self.hidden_layer_size = hidden_layer_size\n",
    "\n",
    "        self.lstm = nn.LSTM(input_size, hidden_layer_size)\n",
    "\n",
    "        self.linear = nn.Linear(hidden_layer_size, output_size)\n",
    "\n",
    "        self.hidden_cell = (torch.zeros(1, 1, self.hidden_layer_size),\n",
    "                             torch.zeros(1, 1, self.hidden_layer_size))\n",
    "\n",
    "    def forward(self, input_seq):\n",
    "        lstm_out, self.hidden_cell = self.lstm(input_seq.reshape(input_seq.shape[0], 1, 1)) # 这里设置不接受上次的记忆h/c\n",
    "        lstm_out = lstm_out.reshape(lstm_out.size()[0], -1)\n",
    "        predictions = self.linear(lstm_out)\n",
    "        return predictions[-1] # 预测值,这里取最后一个数据的输出\n",
    "\n",
    "\n",
    "model = LSTM()\n",
    "loss_function = nn.MSELoss()\n",
    "optimizer = torch.optim.Adam(model.parameters(), lr=0.001)\n",
    "model"
   ]
  },
  {
   "cell_type": "code",
   "execution_count": 40,
   "metadata": {
    "pycharm": {
     "name": "#%%\n"
    }
   },
   "outputs": [
    {
     "name": "stdout",
     "output_type": "stream",
     "text": [
      "epoch:  25 loss: 0.00590132\n",
      "epoch:  50 loss: 0.00235566\n",
      "epoch:  75 loss: 0.00156222\n",
      "epoch: 100 loss: 0.00195363\n",
      "epoch: 125 loss: 0.00005249\n",
      "epoch: 150 loss: 0.00037933\n",
      "epoch: 175 loss: 0.00009153\n",
      "epoch: 200 loss: 0.00014818\n"
     ]
    }
   ],
   "source": [
    "epochs = 200 # 训练epochs\n",
    "\n",
    "for j in range(epochs):\n",
    "    single_loss = 0\n",
    "    for seq, labels in train_inout_seq:\n",
    "        optimizer.zero_grad()\n",
    "        model.hidden_cell = (torch.zeros(1, 1, model.hidden_layer_size),\n",
    "                             torch.zeros(1, 1, model.hidden_layer_size))\n",
    "\n",
    "        y_pred = model(seq)\n",
    "        single_loss = loss_function(y_pred, labels[0])\n",
    "        single_loss.backward()\n",
    "        optimizer.step()\n",
    "\n",
    "    if (j+1)%25 == 0:\n",
    "        print(f'epoch: {j+1:3} loss: {single_loss.item():10.8f}')"
   ]
  },
  {
   "cell_type": "code",
   "execution_count": 41,
   "metadata": {
    "pycharm": {
     "name": "#%%\n"
    }
   },
   "outputs": [
    {
     "data": {
      "text/plain": "tensor([[0.5626],\n        [0.5231],\n        [0.6637],\n        [0.6418],\n        [0.6945],\n        [0.8088],\n        [0.9758],\n        [1.0000],\n        [0.7890],\n        [0.6659],\n        [0.5670],\n        [0.6615]])"
     },
     "execution_count": 41,
     "metadata": {},
     "output_type": "execute_result"
    }
   ],
   "source": [
    "seq = train_data_normalized[-12:]\n",
    "seq"
   ]
  },
  {
   "cell_type": "code",
   "execution_count": 42,
   "metadata": {
    "pycharm": {
     "name": "#%%\n"
    }
   },
   "outputs": [],
   "source": [
    "for k in range(12):\n",
    "    # 预测最后12条数据\n",
    "    with torch.no_grad():\n",
    "        model.hidden = (torch.zeros(1, 1, model.hidden_layer_size),\n",
    "                        torch.zeros(1, 1, model.hidden_layer_size))\n",
    "        predict = model(seq).reshape(1, 1)\n",
    "        seq = torch.cat((seq, predict), dim=0) # 将新预测的点添加到seq中"
   ]
  },
  {
   "cell_type": "code",
   "execution_count": 43,
   "metadata": {
    "pycharm": {
     "name": "#%%\n"
    }
   },
   "outputs": [
    {
     "data": {
      "text/plain": "array([[360.     ],\n       [342.     ],\n       [406.     ],\n       [396.     ],\n       [420.     ],\n       [472.00003],\n       [548.     ],\n       [559.     ],\n       [463.     ],\n       [407.     ],\n       [362.     ],\n       [405.     ],\n       [447.15057],\n       [414.5581 ],\n       [446.17316],\n       [463.22482],\n       [516.69867],\n       [598.985  ],\n       [690.3855 ],\n       [711.0537 ],\n       [631.26135],\n       [517.4296 ],\n       [426.01425],\n       [429.71335]], dtype=float32)"
     },
     "execution_count": 43,
     "metadata": {},
     "output_type": "execute_result"
    }
   ],
   "source": [
    "actual_predictions = scaler.inverse_transform(seq.numpy()) # 预测输出重新转换为实际值\n",
    "actual_predictions"
   ]
  },
  {
   "cell_type": "code",
   "execution_count": 44,
   "metadata": {
    "pycharm": {
     "name": "#%%\n"
    }
   },
   "outputs": [
    {
     "data": {
      "text/plain": "array([[447.15057],\n       [414.5581 ],\n       [446.17316],\n       [463.22482],\n       [516.69867],\n       [598.985  ],\n       [690.3855 ],\n       [711.0537 ],\n       [631.26135],\n       [517.4296 ],\n       [426.01425],\n       [429.71335]], dtype=float32)"
     },
     "execution_count": 44,
     "metadata": {},
     "output_type": "execute_result"
    }
   ],
   "source": [
    "actual_predictions[-12:] # 最后12条数据的预测值"
   ]
  },
  {
   "cell_type": "code",
   "execution_count": 45,
   "metadata": {
    "pycharm": {
     "name": "#%%\n"
    }
   },
   "outputs": [
    {
     "data": {
      "text/plain": "<Figure size 432x288 with 1 Axes>",
      "image/png": "[encoded data removed]"
     },
     "metadata": {
      "needs_background": "light"
     },
     "output_type": "display_data"
    }
   ],
   "source": [
    "import numpy as np\n",
    "step = np.arange(132, 144, 1)\n",
    "\n",
    "# 查看拟合效果\n",
    "plt.plot(flight_data['passengers'], label='真实曲线', color='b')\n",
    "plt.plot(step, actual_predictions[-12:].reshape(12, ), color='red', label='最后10条数据的预测') # 拟合效果图\n",
    "plt.legend()\n",
    "plt.show()"
   ]
  },
  {
   "cell_type": "code",
   "execution_count": 45,
   "metadata": {
    "pycharm": {
     "name": "#%%\n"
    }
   },
   "outputs": [],
   "source": []
  }
 ],
 "metadata": {
  "kernelspec": {
   "display_name": "Python 3",
   "language": "python",
   "name": "python3"
  },
  "language_info": {
   "codemirror_mode": {
    "name": "ipython",
    "version": 3
   },
   "file_extension": ".py",
   "mimetype": "text/x-python",
   "name": "python",
   "nbconvert_exporter": "python",
   "pygments_lexer": "ipython3",
   "version": "3.7.9"
  },
  "toc": {
   "base_numbering": 1,
   "nav_menu": {},
   "number_sections": true,
   "sideBar": true,
   "skip_h1_title": false,
   "title_cell": "Table of Contents",
   "title_sidebar": "Contents",
   "toc_cell": false,
   "toc_position": {},
   "toc_section_display": true,
   "toc_window_display": false
  }
 },
 "nbformat": 4,
 "nbformat_minor": 1
}