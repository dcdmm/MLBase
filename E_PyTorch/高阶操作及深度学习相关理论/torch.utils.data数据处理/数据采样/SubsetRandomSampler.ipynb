{
 "cells": [
  {
   "cell_type": "code",
   "execution_count": 36,
   "metadata": {
    "collapsed": true
   },
   "outputs": [],
   "source": [
    "import torch\n",
    "import torch.utils.data as Data"
   ]
  },
  {
   "cell_type": "code",
   "execution_count": 37,
   "outputs": [],
   "source": [
    "x = torch.linspace(0.01, 0.1, 100)\n",
    "y = torch.linspace(1, 10, 100)\n",
    "\n",
    "torch_dataset = Data.TensorDataset(x, y)  # 包装数据集\n",
    "indices = torch.arange(len(x))"
   ],
   "metadata": {
    "collapsed": false,
    "pycharm": {
     "name": "#%%\n"
    }
   }
  },
  {
   "cell_type": "code",
   "execution_count": 38,
   "outputs": [
    {
     "data": {
      "text/plain": "<torch.utils.data.sampler.SubsetRandomSampler at 0x1eaee4f5700>"
     },
     "execution_count": 38,
     "metadata": {},
     "output_type": "execute_result"
    }
   ],
   "source": [
    "\n",
    "# Samples elements randomly from a given list of indices, without replacement\n",
    "'''\n",
    "SubsetRandomSampler类源码\n",
    "class SubsetRandomSampler(Sampler):\n",
    "    def __init__(self, indices, generator=None):\n",
    "        self.indices = indices # 索引\n",
    "        self.generator = generator\n",
    "\n",
    "    def __iter__(self):\n",
    "        return (self.indices[i] for i in torch.randperm(len(self.indices), generator=self.generator)) # 随机化\n",
    "\n",
    "    def __len__(self):\n",
    "        return len(self.indices)\n",
    "'''\n",
    "data_sampler_subsetrandom = torch.utils.data.sampler.SubsetRandomSampler(indices=indices,\n",
    "                                                                         generator=torch.Generator().manual_seed(4))\n",
    "data_sampler_subsetrandom"
   ],
   "metadata": {
    "collapsed": false,
    "pycharm": {
     "name": "#%%\n"
    }
   }
  },
  {
   "cell_type": "code",
   "execution_count": 39,
   "outputs": [
    {
     "name": "stdout",
     "output_type": "stream",
     "text": [
      "tensor([ 0,  1,  2,  3,  4,  5,  6,  7,  8,  9, 10, 11, 12, 13, 14, 15, 16, 17,\n",
      "        18, 19, 20, 21, 22, 23, 24, 25, 26, 27, 28, 29, 30, 31, 32, 33, 34, 35,\n",
      "        36, 37, 38, 39, 40, 41, 42, 43, 44, 45, 46, 47, 48, 49, 50, 51, 52, 53,\n",
      "        54, 55, 56, 57, 58, 59, 60, 61, 62, 63, 64, 65, 66, 67, 68, 69, 70, 71,\n",
      "        72, 73, 74, 75, 76, 77, 78, 79, 80, 81, 82, 83, 84, 85, 86, 87, 88, 89,\n",
      "        90, 91, 92, 93, 94, 95, 96, 97, 98, 99])\n",
      "\n",
      "tensor([30, 13, 49, 91, 37, 71, 73, 47, 50, 86, 68, 53, 99, 92, 36, 27, 63, 54,\n",
      "        62, 17, 38,  9, 14, 25, 70, 89, 29,  7, 67, 61, 12, 84,  8, 44, 66, 74,\n",
      "        20, 33, 15,  0, 52, 48, 80, 16, 75, 10, 60, 57, 90, 42, 79, 69, 34, 59,\n",
      "        24, 65, 21, 85, 23, 22,  4, 19, 28, 35, 55, 32, 64, 98, 77, 58, 78, 81,\n",
      "        40,  5, 31, 97, 72, 95,  2, 51, 45, 11, 43, 88,  3, 41, 83, 56, 93, 96,\n",
      "        87,  6, 26, 82, 39, 46, 94,  1, 76, 18])\n"
     ]
    }
   ],
   "source": [
    "print(data_sampler_subsetrandom.indices, end='\\n\\n')\n",
    "print(torch.tensor([i.item() for i in data_sampler_subsetrandom]))"
   ],
   "metadata": {
    "collapsed": false,
    "pycharm": {
     "name": "#%%\n"
    }
   }
  },
  {
   "cell_type": "code",
   "execution_count": 39,
   "outputs": [],
   "source": [],
   "metadata": {
    "collapsed": false,
    "pycharm": {
     "name": "#%%\n"
    }
   }
  }
 ],
 "metadata": {
  "kernelspec": {
   "display_name": "Python 3",
   "language": "python",
   "name": "python3"
  },
  "language_info": {
   "codemirror_mode": {
    "name": "ipython",
    "version": 2
   },
   "file_extension": ".py",
   "mimetype": "text/x-python",
   "name": "python",
   "nbconvert_exporter": "python",
   "pygments_lexer": "ipython2",
   "version": "2.7.6"
  }
 },
 "nbformat": 4,
 "nbformat_minor": 0
}