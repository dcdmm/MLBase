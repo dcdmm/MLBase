{
 "cells": [
  {
   "cell_type": "code",
   "execution_count": 41,
   "outputs": [],
   "source": [
    "import torchvision.models as models\n",
    "from torchinfo import summary\n",
    "import torch.nn as nn\n",
    "import torch"
   ],
   "metadata": {
    "collapsed": false,
    "pycharm": {
     "name": "#%%\n"
    }
   }
  },
  {
   "cell_type": "code",
   "execution_count": 42,
   "outputs": [
    {
     "name": "stdout",
     "output_type": "stream",
     "text": [
      "==========================================================================================\n",
      "Layer (type:depth-idx)                   Output Shape              Param #\n",
      "==========================================================================================\n",
      "AlexNet                                  --                        --\n",
      "├─Sequential: 1-1                        [16, 256, 2, 2]           --\n",
      "│    └─Conv2d: 2-1                       [16, 64, 24, 24]          23,296\n",
      "│    └─ReLU: 2-2                         [16, 64, 24, 24]          --\n",
      "│    └─MaxPool2d: 2-3                    [16, 64, 11, 11]          --\n",
      "│    └─Conv2d: 2-4                       [16, 192, 11, 11]         307,392\n",
      "│    └─ReLU: 2-5                         [16, 192, 11, 11]         --\n",
      "│    └─MaxPool2d: 2-6                    [16, 192, 5, 5]           --\n",
      "│    └─Conv2d: 2-7                       [16, 384, 5, 5]           663,936\n",
      "│    └─ReLU: 2-8                         [16, 384, 5, 5]           --\n",
      "│    └─Conv2d: 2-9                       [16, 256, 5, 5]           884,992\n",
      "│    └─ReLU: 2-10                        [16, 256, 5, 5]           --\n",
      "│    └─Conv2d: 2-11                      [16, 256, 5, 5]           590,080\n",
      "│    └─ReLU: 2-12                        [16, 256, 5, 5]           --\n",
      "│    └─MaxPool2d: 2-13                   [16, 256, 2, 2]           --\n",
      "├─AdaptiveAvgPool2d: 1-2                 [16, 256, 6, 6]           --\n",
      "├─Sequential: 1-3                        [16, 1000]                --\n",
      "│    └─Dropout: 2-14                     [16, 9216]                --\n",
      "│    └─Linear: 2-15                      [16, 4096]                37,752,832\n",
      "│    └─ReLU: 2-16                        [16, 4096]                --\n",
      "│    └─Dropout: 2-17                     [16, 4096]                --\n",
      "│    └─Linear: 2-18                      [16, 4096]                16,781,312\n",
      "│    └─ReLU: 2-19                        [16, 4096]                --\n",
      "│    └─Linear: 2-20                      [16, 1000]                4,097,000\n",
      "==========================================================================================\n",
      "Total params: 61,100,840\n",
      "Trainable params: 61,100,840\n",
      "Non-trainable params: 0\n",
      "Total mult-adds (G): 2.60\n",
      "==========================================================================================\n",
      "Input size (MB): 1.92\n",
      "Forward/backward pass size (MB): 11.74\n",
      "Params size (MB): 244.40\n",
      "Estimated Total Size (MB): 258.06\n",
      "==========================================================================================\n"
     ]
    },
    {
     "data": {
      "text/plain": "==========================================================================================\nLayer (type:depth-idx)                   Output Shape              Param #\n==========================================================================================\nAlexNet                                  --                        --\n├─Sequential: 1-1                        [16, 256, 2, 2]           --\n│    └─Conv2d: 2-1                       [16, 64, 24, 24]          23,296\n│    └─ReLU: 2-2                         [16, 64, 24, 24]          --\n│    └─MaxPool2d: 2-3                    [16, 64, 11, 11]          --\n│    └─Conv2d: 2-4                       [16, 192, 11, 11]         307,392\n│    └─ReLU: 2-5                         [16, 192, 11, 11]         --\n│    └─MaxPool2d: 2-6                    [16, 192, 5, 5]           --\n│    └─Conv2d: 2-7                       [16, 384, 5, 5]           663,936\n│    └─ReLU: 2-8                         [16, 384, 5, 5]           --\n│    └─Conv2d: 2-9                       [16, 256, 5, 5]           884,992\n│    └─ReLU: 2-10                        [16, 256, 5, 5]           --\n│    └─Conv2d: 2-11                      [16, 256, 5, 5]           590,080\n│    └─ReLU: 2-12                        [16, 256, 5, 5]           --\n│    └─MaxPool2d: 2-13                   [16, 256, 2, 2]           --\n├─AdaptiveAvgPool2d: 1-2                 [16, 256, 6, 6]           --\n├─Sequential: 1-3                        [16, 1000]                --\n│    └─Dropout: 2-14                     [16, 9216]                --\n│    └─Linear: 2-15                      [16, 4096]                37,752,832\n│    └─ReLU: 2-16                        [16, 4096]                --\n│    └─Dropout: 2-17                     [16, 4096]                --\n│    └─Linear: 2-18                      [16, 4096]                16,781,312\n│    └─ReLU: 2-19                        [16, 4096]                --\n│    └─Linear: 2-20                      [16, 1000]                4,097,000\n==========================================================================================\nTotal params: 61,100,840\nTrainable params: 61,100,840\nNon-trainable params: 0\nTotal mult-adds (G): 2.60\n==========================================================================================\nInput size (MB): 1.92\nForward/backward pass size (MB): 11.74\nParams size (MB): 244.40\nEstimated Total Size (MB): 258.06\n=========================================================================================="
     },
     "execution_count": 42,
     "metadata": {},
     "output_type": "execute_result"
    }
   ],
   "source": [
    "batch_size = 16\n",
    "'''\n",
    "verbose (int):\n",
    "            0 (quiet): No output\n",
    "            1 (default): Print model summary\n",
    "            2 (verbose): Show weight and bias layers in full detail\n",
    "'''\n",
    "summary(model=models.alexnet(),\n",
    "        input_size=(batch_size, 3, 100, 100),\n",
    "        verbose=1)  # 默认verbose=1"
   ],
   "metadata": {
    "collapsed": false,
    "pycharm": {
     "name": "#%%\n"
    }
   }
  },
  {
   "cell_type": "code",
   "execution_count": 43,
   "outputs": [
    {
     "name": "stdout",
     "output_type": "stream",
     "text": [
      "============================================================================================================================================\n",
      "Layer (type:depth-idx)                   Kernel Shape              Output Shape              Param #                   Mult-Adds\n",
      "============================================================================================================================================\n",
      "LSTMNet                                  --                        --                        --                        --\n",
      "├─Embedding: 1-1                         [300, 20]                 [1, 100, 300]             6,000                     6,000\n",
      "│    └─weight                            [300, 20]                                           └─6,000\n",
      "├─LSTM: 1-2                              --                        [1, 100, 512]             3,768,320                 376,832,000\n",
      "│    └─weight_ih_l0                      [2048, 300]                                         ├─614,400\n",
      "│    └─weight_hh_l0                      [2048, 512]                                         ├─1,048,576\n",
      "│    └─bias_ih_l0                        [2048]                                              ├─2,048\n",
      "│    └─bias_hh_l0                        [2048]                                              ├─2,048\n",
      "│    └─weight_ih_l1                      [2048, 512]                                         ├─1,048,576\n",
      "│    └─weight_hh_l1                      [2048, 512]                                         ├─1,048,576\n",
      "│    └─bias_ih_l1                        [2048]                                              ├─2,048\n",
      "│    └─bias_hh_l1                        [2048]                                              └─2,048\n",
      "├─Linear: 1-3                            [512, 20]                 [1, 100, 20]              10,260                    10,260\n",
      "│    └─weight                            [512, 20]                                           ├─10,240\n",
      "│    └─bias                              [20]                                                └─20\n",
      "============================================================================================================================================\n",
      "Total params: 3,784,580\n",
      "Trainable params: 3,784,580\n",
      "Non-trainable params: 0\n",
      "Total mult-adds (M): 376.85\n",
      "============================================================================================================================================\n",
      "Input size (MB): 0.00\n",
      "Forward/backward pass size (MB): 0.67\n",
      "Params size (MB): 15.14\n",
      "Estimated Total Size (MB): 15.80\n",
      "============================================================================================================================================\n"
     ]
    },
    {
     "data": {
      "text/plain": "============================================================================================================================================\nLayer (type:depth-idx)                   Kernel Shape              Output Shape              Param #                   Mult-Adds\n============================================================================================================================================\nLSTMNet                                  --                        --                        --                        --\n├─Embedding: 1-1                         [300, 20]                 [1, 100, 300]             6,000                     6,000\n│    └─weight                            [300, 20]                                           └─6,000\n├─LSTM: 1-2                              --                        [1, 100, 512]             3,768,320                 376,832,000\n│    └─weight_ih_l0                      [2048, 300]                                         ├─614,400\n│    └─weight_hh_l0                      [2048, 512]                                         ├─1,048,576\n│    └─bias_ih_l0                        [2048]                                              ├─2,048\n│    └─bias_hh_l0                        [2048]                                              ├─2,048\n│    └─weight_ih_l1                      [2048, 512]                                         ├─1,048,576\n│    └─weight_hh_l1                      [2048, 512]                                         ├─1,048,576\n│    └─bias_ih_l1                        [2048]                                              ├─2,048\n│    └─bias_hh_l1                        [2048]                                              └─2,048\n├─Linear: 1-3                            [512, 20]                 [1, 100, 20]              10,260                    10,260\n│    └─weight                            [512, 20]                                           ├─10,240\n│    └─bias                              [20]                                                └─20\n============================================================================================================================================\nTotal params: 3,784,580\nTrainable params: 3,784,580\nNon-trainable params: 0\nTotal mult-adds (M): 376.85\n============================================================================================================================================\nInput size (MB): 0.00\nForward/backward pass size (MB): 0.67\nParams size (MB): 15.14\nEstimated Total Size (MB): 15.80\n============================================================================================================================================"
     },
     "execution_count": 43,
     "metadata": {},
     "output_type": "execute_result"
    }
   ],
   "source": [
    "class LSTMNet(nn.Module):\n",
    "    def __init__(self, vocab_size=20, embed_dim=300, hidden_dim=512, num_layers=2):\n",
    "        super().__init__()\n",
    "        self.hidden_dim = hidden_dim\n",
    "        self.embedding = nn.Embedding(vocab_size, embed_dim)\n",
    "        self.encoder = nn.LSTM(embed_dim, hidden_dim, num_layers=num_layers, batch_first=True)\n",
    "        self.decoder = nn.Linear(hidden_dim, vocab_size)\n",
    "\n",
    "    def forward(self, x):\n",
    "        embed = self.embedding(x)\n",
    "        out, hidden = self.encoder(embed)\n",
    "        out = self.decoder(out)\n",
    "        out = out.view(-1, out.size(2))\n",
    "        return out, hidden\n",
    "\n",
    "\n",
    "'''\n",
    "col_names (Iterable[str]):\n",
    "        Specify which columns to show in the output. Currently supported: (\n",
    "            \"input_size\",\n",
    "            \"output_size\",\n",
    "            \"num_params\",\n",
    "            \"kernel_size\",\n",
    "            \"mult_adds\",\n",
    "        )\n",
    "        Default: (\"output_size\", \"num_params\")\n",
    "\n",
    "dtypes (List[torch.dtype]):\n",
    "        If you use input_size, torchinfo assumes your input uses FloatTensors.\n",
    "        If your model use a different data type, specify that dtype.\n",
    "'''\n",
    "summary(\n",
    "    model=LSTMNet(),\n",
    "    input_size=(1, 100),\n",
    "    dtypes=[torch.long],\n",
    "    verbose=2,\n",
    "    col_names=[\"kernel_size\", \"output_size\", \"num_params\", \"mult_adds\"],\n",
    ")"
   ],
   "metadata": {
    "collapsed": false,
    "pycharm": {
     "name": "#%%\n"
    }
   }
  },
  {
   "cell_type": "code",
   "execution_count": 43,
   "outputs": [],
   "source": [],
   "metadata": {
    "collapsed": false,
    "pycharm": {
     "name": "#%%\n"
    }
   }
  }
 ],
 "metadata": {
  "kernelspec": {
   "display_name": "Python 3",
   "language": "python",
   "name": "python3"
  },
  "language_info": {
   "codemirror_mode": {
    "name": "ipython",
    "version": 2
   },
   "file_extension": ".py",
   "mimetype": "text/x-python",
   "name": "python",
   "nbconvert_exporter": "python",
   "pygments_lexer": "ipython2",
   "version": "2.7.6"
  }
 },
 "nbformat": 4,
 "nbformat_minor": 0
}