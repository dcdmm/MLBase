{
 "cells": [
  {
   "cell_type": "code",
   "execution_count": 199,
   "metadata": {},
   "outputs": [],
   "source": [
    "from pytorch_tabnet.tab_model import TabNetClassifier\n",
    "import torch\n",
    "from sklearn.model_selection import train_test_split\n",
    "import pandas as pd\n",
    "from matplotlib import pyplot as plt\n",
    "%matplotlib inline"
   ]
  },
  {
   "cell_type": "markdown",
   "metadata": {
    "pycharm": {
     "name": "#%% md\n"
    }
   },
   "source": [
    "### 数据处理"
   ]
  },
  {
   "cell_type": "code",
   "execution_count": 200,
   "metadata": {},
   "outputs": [
    {
     "data": {
      "text/plain": "       Elevation  Aspect  Slope  Horizontal_Distance_To_Hydrology  \\\n0           2596      51      3                               258   \n1           2590      56      2                               212   \n2           2804     139      9                               268   \n3           2785     155     18                               242   \n4           2595      45      2                               153   \n...          ...     ...    ...                               ...   \n39995       2712     202      4                               108   \n39996       2714     230      7                                95   \n39997       2718     222      7                                90   \n39998       2719     182      5                                90   \n39999       2719     221      4                                90   \n\n       Vertical_Distance_To_Hydrology  Horizontal_Distance_To_Roadways  \\\n0                                   0                              510   \n1                                  -6                              390   \n2                                  65                             3180   \n3                                 118                             3090   \n4                                  -1                              391   \n...                               ...                              ...   \n39995                               3                             1909   \n39996                               5                             1879   \n39997                               9                             1850   \n39998                              10                             1820   \n39999                              10                             1790   \n\n       Hillshade_9am  Hillshade_Noon  Hillshade_3pm  \\\n0                221             232            148   \n1                220             235            151   \n2                234             238            135   \n3                238             238            122   \n4                220             234            150   \n...              ...             ...            ...   \n39995            218             244            162   \n39996            209             247            175   \n39997            211             247            172   \n39998            222             244            157   \n39999            215             244            166   \n\n       Horizontal_Distance_To_Fire_Points  ...  Soil_Type32  Soil_Type33  \\\n0                                    6279  ...            0            0   \n1                                    6225  ...            0            0   \n2                                    6121  ...            0            0   \n3                                    6211  ...            0            0   \n4                                    6172  ...            0            0   \n...                                   ...  ...          ...          ...   \n39995                                4245  ...            0            0   \n39996                                4224  ...            0            0   \n39997                                4204  ...            0            0   \n39998                                4183  ...            0            0   \n39999                                4163  ...            0            0   \n\n       Soil_Type34  Soil_Type35  Soil_Type36  Soil_Type37  Soil_Type38  \\\n0                0            0            0            0            0   \n1                0            0            0            0            0   \n2                0            0            0            0            0   \n3                0            0            0            0            0   \n4                0            0            0            0            0   \n...            ...          ...          ...          ...          ...   \n39995            0            0            0            0            0   \n39996            0            0            0            0            0   \n39997            0            0            0            0            0   \n39998            0            0            0            0            0   \n39999            0            0            0            0            0   \n\n       Soil_Type39  Soil_Type40  Covertype  \n0                0            0          5  \n1                0            0          5  \n2                0            0          2  \n3                0            0          2  \n4                0            0          5  \n...            ...          ...        ...  \n39995            0            0          2  \n39996            0            0          2  \n39997            0            0          2  \n39998            0            0          2  \n39999            0            0          2  \n\n[40000 rows x 55 columns]",
      "text/html": "<div>\n<style scoped>\n    .dataframe tbody tr th:only-of-type {\n        vertical-align: middle;\n    }\n\n    .dataframe tbody tr th {\n        vertical-align: top;\n    }\n\n    .dataframe thead th {\n        text-align: right;\n    }\n</style>\n<table border=\"1\" class=\"dataframe\">\n  <thead>\n    <tr style=\"text-align: right;\">\n      <th></th>\n      <th>Elevation</th>\n      <th>Aspect</th>\n      <th>Slope</th>\n      <th>Horizontal_Distance_To_Hydrology</th>\n      <th>Vertical_Distance_To_Hydrology</th>\n      <th>Horizontal_Distance_To_Roadways</th>\n      <th>Hillshade_9am</th>\n      <th>Hillshade_Noon</th>\n      <th>Hillshade_3pm</th>\n      <th>Horizontal_Distance_To_Fire_Points</th>\n      <th>...</th>\n      <th>Soil_Type32</th>\n      <th>Soil_Type33</th>\n      <th>Soil_Type34</th>\n      <th>Soil_Type35</th>\n      <th>Soil_Type36</th>\n      <th>Soil_Type37</th>\n      <th>Soil_Type38</th>\n      <th>Soil_Type39</th>\n      <th>Soil_Type40</th>\n      <th>Covertype</th>\n    </tr>\n  </thead>\n  <tbody>\n    <tr>\n      <th>0</th>\n      <td>2596</td>\n      <td>51</td>\n      <td>3</td>\n      <td>258</td>\n      <td>0</td>\n      <td>510</td>\n      <td>221</td>\n      <td>232</td>\n      <td>148</td>\n      <td>6279</td>\n      <td>...</td>\n      <td>0</td>\n      <td>0</td>\n      <td>0</td>\n      <td>0</td>\n      <td>0</td>\n      <td>0</td>\n      <td>0</td>\n      <td>0</td>\n      <td>0</td>\n      <td>5</td>\n    </tr>\n    <tr>\n      <th>1</th>\n      <td>2590</td>\n      <td>56</td>\n      <td>2</td>\n      <td>212</td>\n      <td>-6</td>\n      <td>390</td>\n      <td>220</td>\n      <td>235</td>\n      <td>151</td>\n      <td>6225</td>\n      <td>...</td>\n      <td>0</td>\n      <td>0</td>\n      <td>0</td>\n      <td>0</td>\n      <td>0</td>\n      <td>0</td>\n      <td>0</td>\n      <td>0</td>\n      <td>0</td>\n      <td>5</td>\n    </tr>\n    <tr>\n      <th>2</th>\n      <td>2804</td>\n      <td>139</td>\n      <td>9</td>\n      <td>268</td>\n      <td>65</td>\n      <td>3180</td>\n      <td>234</td>\n      <td>238</td>\n      <td>135</td>\n      <td>6121</td>\n      <td>...</td>\n      <td>0</td>\n      <td>0</td>\n      <td>0</td>\n      <td>0</td>\n      <td>0</td>\n      <td>0</td>\n      <td>0</td>\n      <td>0</td>\n      <td>0</td>\n      <td>2</td>\n    </tr>\n    <tr>\n      <th>3</th>\n      <td>2785</td>\n      <td>155</td>\n      <td>18</td>\n      <td>242</td>\n      <td>118</td>\n      <td>3090</td>\n      <td>238</td>\n      <td>238</td>\n      <td>122</td>\n      <td>6211</td>\n      <td>...</td>\n      <td>0</td>\n      <td>0</td>\n      <td>0</td>\n      <td>0</td>\n      <td>0</td>\n      <td>0</td>\n      <td>0</td>\n      <td>0</td>\n      <td>0</td>\n      <td>2</td>\n    </tr>\n    <tr>\n      <th>4</th>\n      <td>2595</td>\n      <td>45</td>\n      <td>2</td>\n      <td>153</td>\n      <td>-1</td>\n      <td>391</td>\n      <td>220</td>\n      <td>234</td>\n      <td>150</td>\n      <td>6172</td>\n      <td>...</td>\n      <td>0</td>\n      <td>0</td>\n      <td>0</td>\n      <td>0</td>\n      <td>0</td>\n      <td>0</td>\n      <td>0</td>\n      <td>0</td>\n      <td>0</td>\n      <td>5</td>\n    </tr>\n    <tr>\n      <th>...</th>\n      <td>...</td>\n      <td>...</td>\n      <td>...</td>\n      <td>...</td>\n      <td>...</td>\n      <td>...</td>\n      <td>...</td>\n      <td>...</td>\n      <td>...</td>\n      <td>...</td>\n      <td>...</td>\n      <td>...</td>\n      <td>...</td>\n      <td>...</td>\n      <td>...</td>\n      <td>...</td>\n      <td>...</td>\n      <td>...</td>\n      <td>...</td>\n      <td>...</td>\n      <td>...</td>\n    </tr>\n    <tr>\n      <th>39995</th>\n      <td>2712</td>\n      <td>202</td>\n      <td>4</td>\n      <td>108</td>\n      <td>3</td>\n      <td>1909</td>\n      <td>218</td>\n      <td>244</td>\n      <td>162</td>\n      <td>4245</td>\n      <td>...</td>\n      <td>0</td>\n      <td>0</td>\n      <td>0</td>\n      <td>0</td>\n      <td>0</td>\n      <td>0</td>\n      <td>0</td>\n      <td>0</td>\n      <td>0</td>\n      <td>2</td>\n    </tr>\n    <tr>\n      <th>39996</th>\n      <td>2714</td>\n      <td>230</td>\n      <td>7</td>\n      <td>95</td>\n      <td>5</td>\n      <td>1879</td>\n      <td>209</td>\n      <td>247</td>\n      <td>175</td>\n      <td>4224</td>\n      <td>...</td>\n      <td>0</td>\n      <td>0</td>\n      <td>0</td>\n      <td>0</td>\n      <td>0</td>\n      <td>0</td>\n      <td>0</td>\n      <td>0</td>\n      <td>0</td>\n      <td>2</td>\n    </tr>\n    <tr>\n      <th>39997</th>\n      <td>2718</td>\n      <td>222</td>\n      <td>7</td>\n      <td>90</td>\n      <td>9</td>\n      <td>1850</td>\n      <td>211</td>\n      <td>247</td>\n      <td>172</td>\n      <td>4204</td>\n      <td>...</td>\n      <td>0</td>\n      <td>0</td>\n      <td>0</td>\n      <td>0</td>\n      <td>0</td>\n      <td>0</td>\n      <td>0</td>\n      <td>0</td>\n      <td>0</td>\n      <td>2</td>\n    </tr>\n    <tr>\n      <th>39998</th>\n      <td>2719</td>\n      <td>182</td>\n      <td>5</td>\n      <td>90</td>\n      <td>10</td>\n      <td>1820</td>\n      <td>222</td>\n      <td>244</td>\n      <td>157</td>\n      <td>4183</td>\n      <td>...</td>\n      <td>0</td>\n      <td>0</td>\n      <td>0</td>\n      <td>0</td>\n      <td>0</td>\n      <td>0</td>\n      <td>0</td>\n      <td>0</td>\n      <td>0</td>\n      <td>2</td>\n    </tr>\n    <tr>\n      <th>39999</th>\n      <td>2719</td>\n      <td>221</td>\n      <td>4</td>\n      <td>90</td>\n      <td>10</td>\n      <td>1790</td>\n      <td>215</td>\n      <td>244</td>\n      <td>166</td>\n      <td>4163</td>\n      <td>...</td>\n      <td>0</td>\n      <td>0</td>\n      <td>0</td>\n      <td>0</td>\n      <td>0</td>\n      <td>0</td>\n      <td>0</td>\n      <td>0</td>\n      <td>0</td>\n      <td>2</td>\n    </tr>\n  </tbody>\n</table>\n<p>40000 rows × 55 columns</p>\n</div>"
     },
     "execution_count": 200,
     "metadata": {},
     "output_type": "execute_result"
    }
   ],
   "source": [
    "target = \"Covertype\"\n",
    "\n",
    "bool_columns = [\n",
    "    \"Wilderness_Area1\", \"Wilderness_Area2\", \"Wilderness_Area3\",\n",
    "    \"Wilderness_Area4\", \"Soil_Type1\", \"Soil_Type2\", \"Soil_Type3\", \"Soil_Type4\",\n",
    "    \"Soil_Type5\", \"Soil_Type6\", \"Soil_Type7\", \"Soil_Type8\", \"Soil_Type9\",\n",
    "    \"Soil_Type10\", \"Soil_Type11\", \"Soil_Type12\", \"Soil_Type13\", \"Soil_Type14\",\n",
    "    \"Soil_Type15\", \"Soil_Type16\", \"Soil_Type17\", \"Soil_Type18\", \"Soil_Type19\",\n",
    "    \"Soil_Type20\", \"Soil_Type21\", \"Soil_Type22\", \"Soil_Type23\", \"Soil_Type24\",\n",
    "    \"Soil_Type25\", \"Soil_Type26\", \"Soil_Type27\", \"Soil_Type28\", \"Soil_Type29\",\n",
    "    \"Soil_Type30\", \"Soil_Type31\", \"Soil_Type32\", \"Soil_Type33\", \"Soil_Type34\",\n",
    "    \"Soil_Type35\", \"Soil_Type36\", \"Soil_Type37\", \"Soil_Type38\", \"Soil_Type39\",\n",
    "    \"Soil_Type40\"\n",
    "]\n",
    "\n",
    "int_columns = [\n",
    "    \"Elevation\", \"Aspect\", \"Slope\", \"Horizontal_Distance_To_Hydrology\",\n",
    "    \"Vertical_Distance_To_Hydrology\", \"Horizontal_Distance_To_Roadways\",\n",
    "    \"Hillshade_9am\", \"Hillshade_Noon\", \"Hillshade_3pm\",\n",
    "    \"Horizontal_Distance_To_Fire_Points\"\n",
    "]\n",
    "\n",
    "feature_columns = (\n",
    "        int_columns + bool_columns + [target])\n",
    "\n",
    "train = pd.read_csv('data/forest-cover-type.csv', header=None, names=feature_columns)[:40000]\n",
    "train"
   ]
  },
  {
   "cell_type": "code",
   "execution_count": 201,
   "outputs": [],
   "source": [
    "# test_indices:测试数据集索引\n",
    "# train_indices:训练数据集索引\n",
    "# valid_indices:验证数据集索引\n",
    "train_val_indices, test_indices = train_test_split(\n",
    "    range(len(train)), test_size=0.2, random_state=0)\n",
    "\n",
    "train_indices, valid_indices = train_test_split(\n",
    "    train_val_indices, test_size=0.2, random_state=0)"
   ],
   "metadata": {
    "collapsed": false,
    "pycharm": {
     "name": "#%%\n"
    }
   }
  },
  {
   "cell_type": "code",
   "execution_count": 202,
   "metadata": {},
   "outputs": [
    {
     "data": {
      "text/plain": "['Elevation',\n 'Aspect',\n 'Slope',\n 'Horizontal_Distance_To_Hydrology',\n 'Vertical_Distance_To_Hydrology',\n 'Horizontal_Distance_To_Roadways',\n 'Hillshade_9am',\n 'Hillshade_Noon',\n 'Hillshade_3pm',\n 'Horizontal_Distance_To_Fire_Points',\n 'Wilderness_Area1',\n 'Wilderness_Area2',\n 'Wilderness_Area3',\n 'Wilderness_Area4',\n 'Soil_Type1',\n 'Soil_Type2',\n 'Soil_Type3',\n 'Soil_Type4',\n 'Soil_Type5',\n 'Soil_Type6',\n 'Soil_Type7',\n 'Soil_Type8',\n 'Soil_Type9',\n 'Soil_Type10',\n 'Soil_Type11',\n 'Soil_Type12',\n 'Soil_Type13',\n 'Soil_Type14',\n 'Soil_Type15',\n 'Soil_Type16',\n 'Soil_Type17',\n 'Soil_Type18',\n 'Soil_Type19',\n 'Soil_Type20',\n 'Soil_Type21',\n 'Soil_Type22',\n 'Soil_Type23',\n 'Soil_Type24',\n 'Soil_Type25',\n 'Soil_Type26',\n 'Soil_Type27',\n 'Soil_Type28',\n 'Soil_Type29',\n 'Soil_Type30',\n 'Soil_Type31',\n 'Soil_Type32',\n 'Soil_Type33',\n 'Soil_Type34',\n 'Soil_Type35',\n 'Soil_Type36',\n 'Soil_Type37',\n 'Soil_Type38',\n 'Soil_Type39',\n 'Soil_Type40']"
     },
     "execution_count": 202,
     "metadata": {},
     "output_type": "execute_result"
    }
   ],
   "source": [
    "# 所有特征\n",
    "features = train.columns[:-1].tolist()\n",
    "features"
   ]
  },
  {
   "cell_type": "code",
   "execution_count": 204,
   "outputs": [
    {
     "data": {
      "text/plain": "Elevation                             1665\nAspect                                 361\nSlope                                   60\nHorizontal_Distance_To_Hydrology       402\nVertical_Distance_To_Hydrology         440\nHorizontal_Distance_To_Roadways       5743\nHillshade_9am                          176\nHillshade_Noon                         143\nHillshade_3pm                          247\nHorizontal_Distance_To_Fire_Points    5789\nWilderness_Area1                         2\nWilderness_Area2                         2\nWilderness_Area3                         2\nWilderness_Area4                         2\nSoil_Type1                               2\nSoil_Type2                               2\nSoil_Type3                               2\nSoil_Type4                               2\nSoil_Type5                               2\nSoil_Type6                               2\nSoil_Type7                               1\nSoil_Type8                               2\nSoil_Type9                               2\nSoil_Type10                              2\nSoil_Type11                              2\nSoil_Type12                              2\nSoil_Type13                              2\nSoil_Type14                              2\nSoil_Type15                              1\nSoil_Type16                              2\nSoil_Type17                              2\nSoil_Type18                              2\nSoil_Type19                              2\nSoil_Type20                              2\nSoil_Type21                              2\nSoil_Type22                              2\nSoil_Type23                              2\nSoil_Type24                              2\nSoil_Type25                              2\nSoil_Type26                              2\nSoil_Type27                              2\nSoil_Type28                              2\nSoil_Type29                              2\nSoil_Type30                              2\nSoil_Type31                              2\nSoil_Type32                              2\nSoil_Type33                              2\nSoil_Type34                              2\nSoil_Type35                              2\nSoil_Type36                              2\nSoil_Type37                              2\nSoil_Type38                              2\nSoil_Type39                              2\nSoil_Type40                              2\ndtype: int64"
     },
     "execution_count": 204,
     "metadata": {},
     "output_type": "execute_result"
    }
   ],
   "source": [
    "features_num = train[features].nunique()\n",
    "features_num"
   ],
   "metadata": {
    "collapsed": false,
    "pycharm": {
     "name": "#%%\n"
    }
   }
  },
  {
   "cell_type": "code",
   "execution_count": 206,
   "outputs": [
    {
     "data": {
      "text/plain": "Index(['Wilderness_Area1', 'Wilderness_Area2', 'Wilderness_Area3',\n       'Wilderness_Area4', 'Soil_Type1', 'Soil_Type2', 'Soil_Type3',\n       'Soil_Type4', 'Soil_Type5', 'Soil_Type6', 'Soil_Type7', 'Soil_Type8',\n       'Soil_Type9', 'Soil_Type10', 'Soil_Type11', 'Soil_Type12',\n       'Soil_Type13', 'Soil_Type14', 'Soil_Type15', 'Soil_Type16',\n       'Soil_Type17', 'Soil_Type18', 'Soil_Type19', 'Soil_Type20',\n       'Soil_Type21', 'Soil_Type22', 'Soil_Type23', 'Soil_Type24',\n       'Soil_Type25', 'Soil_Type26', 'Soil_Type27', 'Soil_Type28',\n       'Soil_Type29', 'Soil_Type30', 'Soil_Type31', 'Soil_Type32',\n       'Soil_Type33', 'Soil_Type34', 'Soil_Type35', 'Soil_Type36',\n       'Soil_Type37', 'Soil_Type38', 'Soil_Type39', 'Soil_Type40'],\n      dtype='object')"
     },
     "execution_count": 206,
     "metadata": {},
     "output_type": "execute_result"
    }
   ],
   "source": [
    "# 分类特征\n",
    "cat_features = features_num[features_num < 5].index\n",
    "cat_features"
   ],
   "metadata": {
    "collapsed": false,
    "pycharm": {
     "name": "#%%\n"
    }
   }
  },
  {
   "cell_type": "code",
   "execution_count": 207,
   "outputs": [
    {
     "data": {
      "text/plain": "[10,\n 11,\n 12,\n 13,\n 14,\n 15,\n 16,\n 17,\n 18,\n 19,\n 20,\n 21,\n 22,\n 23,\n 24,\n 25,\n 26,\n 27,\n 28,\n 29,\n 30,\n 31,\n 32,\n 33,\n 34,\n 35,\n 36,\n 37,\n 38,\n 39,\n 40,\n 41,\n 42,\n 43,\n 44,\n 45,\n 46,\n 47,\n 48,\n 49,\n 50,\n 51,\n 52,\n 53]"
     },
     "execution_count": 207,
     "metadata": {},
     "output_type": "execute_result"
    }
   ],
   "source": [
    "# 分类特征id\n",
    "cat_idxs = []\n",
    "\n",
    "for i in cat_features:\n",
    "    cat_idxs.append(features.index(i))\n",
    "cat_idxs"
   ],
   "metadata": {
    "collapsed": false,
    "pycharm": {
     "name": "#%%\n"
    }
   }
  },
  {
   "cell_type": "code",
   "execution_count": 208,
   "outputs": [
    {
     "data": {
      "text/plain": "[2,\n 2,\n 2,\n 2,\n 2,\n 2,\n 2,\n 2,\n 2,\n 2,\n 2,\n 2,\n 2,\n 2,\n 2,\n 2,\n 2,\n 2,\n 2,\n 2,\n 2,\n 2,\n 2,\n 2,\n 2,\n 2,\n 2,\n 2,\n 2,\n 2,\n 2,\n 2,\n 2,\n 2,\n 2,\n 2,\n 2,\n 2,\n 2,\n 2,\n 2,\n 2,\n 2,\n 2]"
     },
     "execution_count": 208,
     "metadata": {},
     "output_type": "execute_result"
    }
   ],
   "source": [
    "# 每个分类特征唯一值数量\n",
    "cat_dims = [2] * len(cat_idxs)\n",
    "cat_dims"
   ],
   "metadata": {
    "collapsed": false,
    "pycharm": {
     "name": "#%%\n"
    }
   }
  },
  {
   "cell_type": "code",
   "execution_count": 209,
   "outputs": [
    {
     "name": "stdout",
     "output_type": "stream",
     "text": [
      "(25600,)\n",
      "(6400,)\n",
      "(8000,)\n"
     ]
    }
   ],
   "source": [
    "X_train = train[features].values[train_indices]\n",
    "y_train = train[target].values[train_indices]\n",
    "\n",
    "X_valid = train[features].values[valid_indices]\n",
    "y_valid = train[target].values[valid_indices]\n",
    "\n",
    "X_test = train[features].values[test_indices]\n",
    "y_test = train[target].values[test_indices]\n",
    "\n",
    "print(y_train.shape)\n",
    "print(y_valid.shape)\n",
    "print(y_test.shape)"
   ],
   "metadata": {
    "collapsed": false,
    "pycharm": {
     "name": "#%%\n"
    }
   }
  },
  {
   "cell_type": "markdown",
   "metadata": {},
   "source": [
    "# TabNetClassifier多分类模型"
   ]
  },
  {
   "cell_type": "code",
   "execution_count": 211,
   "metadata": {},
   "outputs": [
    {
     "name": "stdout",
     "output_type": "stream",
     "text": [
      "Device used : cuda\n"
     ]
    }
   ],
   "source": [
    "clf = TabNetClassifier(\n",
    "    n_d=16,\n",
    "    n_a=16,\n",
    "    n_steps=4,\n",
    "    gamma=1.4,\n",
    "    n_independent=2,\n",
    "    n_shared=2,\n",
    "    cat_idxs=cat_idxs,\n",
    "    cat_dims=cat_dims,\n",
    "    lambda_sparse=1e-4,\n",
    "    clip_value=2.,\n",
    "    optimizer_fn=torch.optim.Adam,\n",
    "    optimizer_params=dict(lr=1e-2),\n",
    "    scheduler_params={\"gamma\": 0.95,\n",
    "                      \"step_size\": 20},\n",
    "    scheduler_fn=torch.optim.lr_scheduler.StepLR, epsilon=1e-15,\n",
    "    verbose=10\n",
    ")"
   ]
  },
  {
   "cell_type": "code",
   "execution_count": 212,
   "metadata": {
    "scrolled": true
   },
   "outputs": [
    {
     "name": "stdout",
     "output_type": "stream",
     "text": [
      "epoch 0  | loss: 1.79731 | train_accuracy: 0.25504 | valid_accuracy: 0.25938 |  0:00:02s\n",
      "epoch 10 | loss: 0.53851 | train_accuracy: 0.60738 | valid_accuracy: 0.60109 |  0:00:29s\n",
      "epoch 20 | loss: 0.48452 | train_accuracy: 0.73344 | valid_accuracy: 0.73219 |  0:00:56s\n",
      "epoch 30 | loss: 0.47226 | train_accuracy: 0.6232  | valid_accuracy: 0.61391 |  0:01:23s\n",
      "epoch 40 | loss: 0.43931 | train_accuracy: 0.6525  | valid_accuracy: 0.65672 |  0:01:51s\n",
      "epoch 50 | loss: 0.43587 | train_accuracy: 0.59141 | valid_accuracy: 0.59984 |  0:02:21s\n",
      "epoch 60 | loss: 0.40556 | train_accuracy: 0.68297 | valid_accuracy: 0.68969 |  0:02:52s\n",
      "epoch 70 | loss: 0.41898 | train_accuracy: 0.65836 | valid_accuracy: 0.65484 |  0:03:18s\n",
      "epoch 80 | loss: 0.41845 | train_accuracy: 0.63867 | valid_accuracy: 0.64438 |  0:03:45s\n",
      "epoch 90 | loss: 0.39263 | train_accuracy: 0.65875 | valid_accuracy: 0.66516 |  0:04:11s\n",
      "Stop training because you reached max_epochs = 100 with best_epoch = 22 and best_valid_accuracy = 0.76875\n",
      "Best weights from best epoch are automatically used!\n"
     ]
    }
   ],
   "source": [
    "clf.fit(\n",
    "    X_train=X_train, y_train=y_train,\n",
    "    eval_set=[(X_train, y_train),\n",
    "              (X_valid, y_valid)],\n",
    "    eval_name=['train', 'valid'],\n",
    "    patience=100\n",
    ")"
   ]
  },
  {
   "cell_type": "markdown",
   "metadata": {
    "pycharm": {
     "name": "#%% md\n"
    }
   },
   "source": [
    "### 结果分析"
   ],
   "outputs": [
    {
     "data": {
      "text/plain": "[<matplotlib.lines.Line2D at 0x2248c37b2e0>]"
     },
     "execution_count": 129,
     "metadata": {},
     "output_type": "execute_result"
    },
    {
     "data": {
      "text/plain": "<Figure size 432x288 with 1 Axes>",
      "image/png": "[encoded data removed]"
     },
     "metadata": {
      "needs_background": "light"
     },
     "output_type": "display_data"
    }
   ],
   "execution_count": 129
  },
  {
   "cell_type": "code",
   "execution_count": 213,
   "outputs": [
    {
     "data": {
      "text/plain": "[<matplotlib.lines.Line2D at 0x224aec14790>]"
     },
     "execution_count": 213,
     "metadata": {},
     "output_type": "execute_result"
    },
    {
     "data": {
      "text/plain": "<Figure size 432x288 with 1 Axes>",
      "image/png": "[encoded data removed]"
     },
     "metadata": {
      "needs_background": "light"
     },
     "output_type": "display_data"
    }
   ],
   "source": [
    "# plot losses\n",
    "plt.plot(clf.history['loss'])"
   ],
   "metadata": {
    "collapsed": false,
    "pycharm": {
     "name": "#%%\n"
    }
   }
  },
  {
   "cell_type": "code",
   "execution_count": 214,
   "outputs": [
    {
     "data": {
      "text/plain": "[<matplotlib.lines.Line2D at 0x224aeae1700>]"
     },
     "execution_count": 214,
     "metadata": {},
     "output_type": "execute_result"
    },
    {
     "data": {
      "text/plain": "<Figure size 432x288 with 1 Axes>",
      "image/png": "[encoded data removed]"
     },
     "metadata": {
      "needs_background": "light"
     },
     "output_type": "display_data"
    }
   ],
   "source": [
    "# plot learning rates\n",
    "plt.plot(clf.history['lr'])"
   ],
   "metadata": {
    "collapsed": false,
    "pycharm": {
     "name": "#%%\n"
    }
   }
  },
  {
   "cell_type": "code",
   "execution_count": 219,
   "metadata": {},
   "outputs": [
    {
     "data": {
      "text/plain": "<matplotlib.legend.Legend at 0x224ae9614c0>"
     },
     "execution_count": 219,
     "metadata": {},
     "output_type": "execute_result"
    },
    {
     "data": {
      "text/plain": "<Figure size 432x288 with 1 Axes>",
      "image/png": "[encoded data removed]"
     },
     "metadata": {
      "needs_background": "light"
     },
     "output_type": "display_data"
    }
   ],
   "source": [
    "# plot accuracy\n",
    "plt.plot(clf.history['train_accuracy'], label='train_accuracy')\n",
    "plt.plot(clf.history['valid_accuracy'], label='valid_accuracy')\n",
    "plt.legend()"
   ]
  },
  {
   "cell_type": "code",
   "metadata": {
    "pycharm": {
     "name": "#%%\n"
    }
   },
   "source": [
    "# 自动识别是否为多分类任务\n",
    "clf.classes_"
   ],
   "execution_count": 216,
   "outputs": [
    {
     "data": {
      "text/plain": "array([1, 2, 3, 4, 5, 6, 7], dtype=int64)"
     },
     "execution_count": 216,
     "metadata": {},
     "output_type": "execute_result"
    }
   ]
  },
  {
   "cell_type": "code",
   "execution_count": 217,
   "outputs": [
    {
     "data": {
      "text/plain": "array([2, 3, 6, ..., 2, 2, 4], dtype=int64)"
     },
     "execution_count": 217,
     "metadata": {},
     "output_type": "execute_result"
    }
   ],
   "source": [
    "clf.predict(X_test)"
   ],
   "metadata": {
    "collapsed": false,
    "pycharm": {
     "name": "#%%\n"
    }
   }
  },
  {
   "cell_type": "code",
   "execution_count": null,
   "outputs": [],
   "source": [
    "clf.predict_proba(X_test)"
   ],
   "metadata": {
    "collapsed": false,
    "pycharm": {
     "name": "#%%\n"
    }
   }
  }
 ],
 "metadata": {
  "kernelspec": {
   "display_name": "Python 3",
   "language": "python",
   "name": "python3"
  },
  "language_info": {
   "codemirror_mode": {
    "name": "ipython",
    "version": 3
   },
   "file_extension": ".py",
   "mimetype": "text/x-python",
   "name": "python",
   "nbconvert_exporter": "python",
   "pygments_lexer": "ipython3",
   "version": "3.7.5"
  },
  "toc": {
   "base_numbering": 1,
   "nav_menu": {},
   "number_sections": true,
   "sideBar": true,
   "skip_h1_title": false,
   "title_cell": "Table of Contents",
   "title_sidebar": "Contents",
   "toc_cell": false,
   "toc_position": {},
   "toc_section_display": true,
   "toc_window_display": false
  }
 },
 "nbformat": 4,
 "nbformat_minor": 2
}