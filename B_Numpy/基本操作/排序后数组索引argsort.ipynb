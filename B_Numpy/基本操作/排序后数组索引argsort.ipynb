{
 "cells": [
  {
   "cell_type": "code",
   "execution_count": 14,
   "metadata": {
    "collapsed": true,
    "pycharm": {
     "is_executing": false
    },
    "ExecuteTime": {
     "end_time": "2024-09-17T14:28:23.468979Z",
     "start_time": "2024-09-17T14:28:23.465272Z"
    }
   },
   "outputs": [
    {
     "name": "stdout",
     "output_type": "stream",
     "text": [
      "[1 2 0]\n",
      "[1 2 3]\n"
     ]
    }
   ],
   "source": [
    "import numpy as np\n",
    "\n",
    "x = np.array([3, 1, 2])\n",
    "print(np.argsort(x))\n",
    "print(x[np.argsort(x)])  # Returns the indices that would sort an array."
   ]
  },
  {
   "cell_type": "code",
   "execution_count": 15,
   "metadata": {
    "collapsed": false,
    "pycharm": {
     "is_executing": false,
     "name": "#%%\n"
    },
    "ExecuteTime": {
     "end_time": "2024-09-17T14:28:23.477463Z",
     "start_time": "2024-09-17T14:28:23.469983Z"
    }
   },
   "outputs": [
    {
     "data": {
      "text/plain": "array([[0, 1],\n       [1, 0]], dtype=int64)"
     },
     "execution_count": 15,
     "metadata": {},
     "output_type": "execute_result"
    }
   ],
   "source": [
    "x = np.array([[0, 3],\n",
    "              [2, 1]])\n",
    "np.argsort(x)  # 默认axis=-1"
   ]
  },
  {
   "cell_type": "code",
   "execution_count": 16,
   "metadata": {
    "collapsed": false,
    "pycharm": {
     "is_executing": false,
     "name": "#%%\n"
    },
    "ExecuteTime": {
     "end_time": "2024-09-17T14:28:23.489545Z",
     "start_time": "2024-09-17T14:28:23.478491Z"
    }
   },
   "outputs": [
    {
     "data": {
      "text/plain": "array([[0, 1],\n       [1, 0]], dtype=int64)"
     },
     "execution_count": 16,
     "metadata": {},
     "output_type": "execute_result"
    }
   ],
   "source": [
    "np.argsort(x, axis=0)"
   ]
  },
  {
   "cell_type": "code",
   "execution_count": 17,
   "metadata": {
    "collapsed": false,
    "pycharm": {
     "is_executing": false,
     "name": "#%%\n"
    },
    "ExecuteTime": {
     "end_time": "2024-09-17T14:28:23.502713Z",
     "start_time": "2024-09-17T14:28:23.489545Z"
    }
   },
   "outputs": [
    {
     "data": {
      "text/plain": "array([0, 3, 2, 1], dtype=int64)"
     },
     "execution_count": 17,
     "metadata": {},
     "output_type": "execute_result"
    }
   ],
   "source": [
    "np.argsort(x, axis=None)  # If None,the flattened array is used."
   ]
  }
 ],
 "metadata": {
  "kernelspec": {
   "name": "python3",
   "language": "python",
   "display_name": "Python 3 (ipykernel)"
  },
  "language_info": {
   "codemirror_mode": {
    "name": "ipython",
    "version": 3
   },
   "file_extension": ".py",
   "mimetype": "text/x-python",
   "name": "python",
   "nbconvert_exporter": "python",
   "pygments_lexer": "ipython3",
   "version": "3.10.10"
  }
 },
 "nbformat": 4,
 "nbformat_minor": 0
}
