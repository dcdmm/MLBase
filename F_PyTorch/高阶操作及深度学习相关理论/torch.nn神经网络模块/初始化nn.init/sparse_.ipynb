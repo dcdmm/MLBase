{
 "cells": [
  {
   "cell_type": "code",
   "execution_count": 8,
   "metadata": {
    "collapsed": true,
    "pycharm": {
     "name": "#%%\n"
    }
   },
   "outputs": [
    {
     "data": {
      "text/plain": "tensor([[-0.0063,  0.0000,  0.0000, -0.0122],\n        [-0.0140, -0.0063,  0.0000,  0.0089],\n        [ 0.0000,  0.0000,  0.0000,  0.0000],\n        [ 0.0000,  0.0081, -0.0084,  0.0000],\n        [ 0.0031,  0.0000,  0.0026, -0.0082],\n        [ 0.0129,  0.0000, -0.0024, -0.0141],\n        [ 0.0000,  0.0000,  0.0000,  0.0000],\n        [ 0.0077, -0.0151,  0.0000, -0.0074],\n        [ 0.0000, -0.0217, -0.0065,  0.0000],\n        [ 0.0000, -0.0018,  0.0104,  0.0000]])"
     },
     "execution_count": 8,
     "metadata": {},
     "output_type": "execute_result"
    }
   ],
   "source": [
    "import torch\n",
    "import torch.nn as nn\n",
    "\n",
    "w = torch.ones(10, 4)\n",
    "'''\n",
    "sparsity – The fraction of elements in each column to be set to zero\n",
    "std – the standard deviation of the normal distribution used to generate the non-zero values\n",
    "'''\n",
    "# Fills the 2D input Tensor as a sparse matrix, where the non-zero elements will be drawn from the normal distribution N(0,0.01)\n",
    "nn.init.sparse_(w, sparsity=0.5) # 每列元素的稀疏率"
   ]
  },
  {
   "cell_type": "code",
   "execution_count": 8,
   "outputs": [],
   "source": [
    "\n"
   ],
   "metadata": {
    "collapsed": false,
    "pycharm": {
     "name": "#%%\n"
    }
   }
  }
 ],
 "metadata": {
  "kernelspec": {
   "display_name": "Python 3",
   "language": "python",
   "name": "python3"
  },
  "language_info": {
   "codemirror_mode": {
    "name": "ipython",
    "version": 2
   },
   "file_extension": ".py",
   "mimetype": "text/x-python",
   "name": "python",
   "nbconvert_exporter": "python",
   "pygments_lexer": "ipython2",
   "version": "2.7.6"
  }
 },
 "nbformat": 4,
 "nbformat_minor": 0
}