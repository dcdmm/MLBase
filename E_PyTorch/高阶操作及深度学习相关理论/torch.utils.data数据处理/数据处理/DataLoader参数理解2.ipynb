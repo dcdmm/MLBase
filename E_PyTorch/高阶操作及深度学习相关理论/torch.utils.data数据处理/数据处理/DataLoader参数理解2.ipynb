{
 "cells": [
  {
   "cell_type": "markdown",
   "metadata": {
    "collapsed": true,
    "pycharm": {
     "name": "#%% md\n"
    }
   },
   "source": [
    "### sampler参数理解"
   ]
  },
  {
   "cell_type": "code",
   "execution_count": 6,
   "outputs": [],
   "source": [
    "import torch\n",
    "import torch.utils.data as Data\n",
    "\n",
    "BATCH_SIZE = 4\n",
    "\n",
    "x = torch.linspace(0.01, 0.1, 100)\n",
    "y = torch.linspace(1, 10, 100)\n",
    "\n",
    "torch_dataset = Data.TensorDataset(x, y)  # 包装数据集\n",
    "indices = torch.arange(len(x))"
   ],
   "metadata": {
    "collapsed": false,
    "pycharm": {
     "name": "#%%\n"
    }
   }
  },
  {
   "cell_type": "code",
   "execution_count": 7,
   "outputs": [],
   "source": [
    "data_sampler_subsetrandom = torch.utils.data.sampler.SubsetRandomSampler(indices=indices,\n",
    "                                                                         generator=torch.Generator().manual_seed(4))\n",
    "data_loader_subsetrandom = Data.DataLoader(dataset=torch_dataset, batch_size=BATCH_SIZE,\n",
    "                                           # sampler (Sampler, optional) -\n",
    "                                           #    defines the strategy to draw samples from the dataset.\n",
    "                                           #    If specified, shuffle must be False.\n",
    "                                           sampler=data_sampler_subsetrandom)"
   ],
   "metadata": {
    "collapsed": false,
    "pycharm": {
     "name": "#%%\n"
    }
   }
  },
  {
   "cell_type": "code",
   "execution_count": 8,
   "outputs": [],
   "source": [
    "def show_batch(dataset):\n",
    "    for epoch in range(3):\n",
    "        for step, batch_data in enumerate(dataset):\n",
    "            print(\"batch:{}, batch_data:{}\".format(step, batch_data))  # tensor长度为batch_size\n",
    "        print()"
   ],
   "metadata": {
    "collapsed": false,
    "pycharm": {
     "name": "#%%\n"
    }
   }
  },
  {
   "cell_type": "code",
   "execution_count": 9,
   "outputs": [
    {
     "name": "stdout",
     "output_type": "stream",
     "text": [
      "batch:0, batch_data:[tensor([0.0373, 0.0218, 0.0545, 0.0927]), tensor([3.7273, 2.1818, 5.4545, 9.2727])]\n",
      "batch:1, batch_data:[tensor([0.0436, 0.0745, 0.0764, 0.0527]), tensor([4.3636, 7.4545, 7.6364, 5.2727])]\n",
      "batch:2, batch_data:[tensor([0.0555, 0.0882, 0.0718, 0.0582]), tensor([5.5455, 8.8182, 7.1818, 5.8182])]\n",
      "batch:3, batch_data:[tensor([0.1000, 0.0936, 0.0427, 0.0345]), tensor([10.0000,  9.3636,  4.2727,  3.4545])]\n",
      "batch:4, batch_data:[tensor([0.0673, 0.0591, 0.0664, 0.0255]), tensor([6.7273, 5.9091, 6.6364, 2.5455])]\n",
      "batch:5, batch_data:[tensor([0.0445, 0.0182, 0.0227, 0.0327]), tensor([4.4545, 1.8182, 2.2727, 3.2727])]\n",
      "batch:6, batch_data:[tensor([0.0736, 0.0909, 0.0364, 0.0164]), tensor([7.3636, 9.0909, 3.6364, 1.6364])]\n",
      "batch:7, batch_data:[tensor([0.0709, 0.0655, 0.0209, 0.0864]), tensor([7.0909, 6.5455, 2.0909, 8.6364])]\n",
      "batch:8, batch_data:[tensor([0.0173, 0.0500, 0.0700, 0.0773]), tensor([1.7273, 5.0000, 7.0000, 7.7273])]\n",
      "batch:9, batch_data:[tensor([0.0282, 0.0400, 0.0236, 0.0100]), tensor([2.8182, 4.0000, 2.3636, 1.0000])]\n",
      "batch:10, batch_data:[tensor([0.0573, 0.0536, 0.0827, 0.0245]), tensor([5.7273, 5.3636, 8.2727, 2.4545])]\n",
      "batch:11, batch_data:[tensor([0.0782, 0.0191, 0.0645, 0.0618]), tensor([7.8182, 1.9091, 6.4545, 6.1818])]\n",
      "batch:12, batch_data:[tensor([0.0918, 0.0482, 0.0818, 0.0727]), tensor([9.1818, 4.8182, 8.1818, 7.2727])]\n",
      "batch:13, batch_data:[tensor([0.0409, 0.0636, 0.0318, 0.0691]), tensor([4.0909, 6.3636, 3.1818, 6.9091])]\n",
      "batch:14, batch_data:[tensor([0.0291, 0.0873, 0.0309, 0.0300]), tensor([2.9091, 8.7273, 3.0909, 3.0000])]\n",
      "batch:15, batch_data:[tensor([0.0136, 0.0273, 0.0355, 0.0418]), tensor([1.3636, 2.7273, 3.5455, 4.1818])]\n",
      "batch:16, batch_data:[tensor([0.0600, 0.0391, 0.0682, 0.0991]), tensor([6.0000, 3.9091, 6.8182, 9.9091])]\n",
      "batch:17, batch_data:[tensor([0.0800, 0.0627, 0.0809, 0.0836]), tensor([8.0000, 6.2727, 8.0909, 8.3636])]\n",
      "batch:18, batch_data:[tensor([0.0464, 0.0145, 0.0382, 0.0982]), tensor([4.6364, 1.4545, 3.8182, 9.8182])]\n",
      "batch:19, batch_data:[tensor([0.0755, 0.0964, 0.0118, 0.0564]), tensor([7.5455, 9.6364, 1.1818, 5.6364])]\n",
      "batch:20, batch_data:[tensor([0.0509, 0.0200, 0.0491, 0.0900]), tensor([5.0909, 2.0000, 4.9091, 9.0000])]\n",
      "batch:21, batch_data:[tensor([0.0127, 0.0473, 0.0855, 0.0609]), tensor([1.2727, 4.7273, 8.5455, 6.0909])]\n",
      "batch:22, batch_data:[tensor([0.0945, 0.0973, 0.0891, 0.0155]), tensor([9.4545, 9.7273, 8.9091, 1.5455])]\n",
      "batch:23, batch_data:[tensor([0.0336, 0.0845, 0.0455, 0.0518]), tensor([3.3636, 8.4545, 4.5455, 5.1818])]\n",
      "batch:24, batch_data:[tensor([0.0955, 0.0109, 0.0791, 0.0264]), tensor([9.5455, 1.0909, 7.9091, 2.6364])]\n",
      "\n",
      "batch:0, batch_data:[tensor([0.0564, 0.0873, 0.0164, 0.0118]), tensor([5.6364, 8.7273, 1.6364, 1.1818])]\n",
      "batch:1, batch_data:[tensor([0.0945, 0.0255, 0.0300, 0.0127]), tensor([9.4545, 2.5455, 3.0000, 1.2727])]\n",
      "batch:2, batch_data:[tensor([0.0627, 0.0636, 0.0973, 0.0218]), tensor([6.2727, 6.3636, 9.7273, 2.1818])]\n",
      "batch:3, batch_data:[tensor([0.0209, 0.0809, 0.0200, 0.0427]), tensor([2.0909, 8.0909, 2.0000, 4.2727])]\n",
      "batch:4, batch_data:[tensor([0.0382, 0.0527, 0.0155, 0.0827]), tensor([3.8182, 5.2727, 1.5455, 8.2727])]\n",
      "batch:5, batch_data:[tensor([0.0645, 0.0664, 0.0191, 0.0991]), tensor([6.4545, 6.6364, 1.9091, 9.9091])]\n",
      "batch:6, batch_data:[tensor([0.0509, 0.0727, 0.0464, 0.0982]), tensor([5.0909, 7.2727, 4.6364, 9.8182])]\n",
      "batch:7, batch_data:[tensor([0.0955, 0.0327, 0.0655, 0.0964]), tensor([9.5455, 3.2727, 6.5455, 9.6364])]\n",
      "batch:8, batch_data:[tensor([0.0245, 0.0891, 0.0718, 0.0100]), tensor([2.4545, 8.9091, 7.1818, 1.0000])]\n",
      "batch:9, batch_data:[tensor([0.0264, 0.0936, 0.0109, 0.0391]), tensor([2.6364, 9.3636, 1.0909, 3.9091])]\n",
      "batch:10, batch_data:[tensor([0.0909, 0.0436, 0.0573, 0.0709]), tensor([9.0909, 4.3636, 5.7273, 7.0909])]\n",
      "batch:11, batch_data:[tensor([0.0227, 0.0455, 0.0345, 0.0136]), tensor([2.2727, 4.5455, 3.4545, 1.3636])]\n",
      "batch:12, batch_data:[tensor([0.0282, 0.0409, 0.0736, 0.0745]), tensor([2.8182, 4.0909, 7.3636, 7.4545])]\n",
      "batch:13, batch_data:[tensor([0.1000, 0.0618, 0.0291, 0.0418]), tensor([10.0000,  6.1818,  2.9091,  4.1818])]\n",
      "batch:14, batch_data:[tensor([0.0473, 0.0800, 0.0764, 0.0355]), tensor([4.7273, 8.0000, 7.6364, 3.5455])]\n",
      "batch:15, batch_data:[tensor([0.0927, 0.0373, 0.0555, 0.0309]), tensor([9.2727, 3.7273, 5.5455, 3.0909])]\n",
      "batch:16, batch_data:[tensor([0.0273, 0.0364, 0.0591, 0.0600]), tensor([2.7273, 3.6364, 5.9091, 6.0000])]\n",
      "batch:17, batch_data:[tensor([0.0545, 0.0400, 0.0845, 0.0182]), tensor([5.4545, 4.0000, 8.4545, 1.8182])]\n",
      "batch:18, batch_data:[tensor([0.0673, 0.0173, 0.0500, 0.0782]), tensor([6.7273, 1.7273, 5.0000, 7.8182])]\n",
      "batch:19, batch_data:[tensor([0.0145, 0.0918, 0.0755, 0.0682]), tensor([1.4545, 9.1818, 7.5455, 6.8182])]\n",
      "batch:20, batch_data:[tensor([0.0491, 0.0536, 0.0336, 0.0518]), tensor([4.9091, 5.3636, 3.3636, 5.1818])]\n",
      "batch:21, batch_data:[tensor([0.0836, 0.0236, 0.0818, 0.0609]), tensor([8.3636, 2.3636, 8.1818, 6.0909])]\n",
      "batch:22, batch_data:[tensor([0.0482, 0.0445, 0.0773, 0.0318]), tensor([4.8182, 4.4545, 7.7273, 3.1818])]\n",
      "batch:23, batch_data:[tensor([0.0791, 0.0700, 0.0582, 0.0855]), tensor([7.9091, 7.0000, 5.8182, 8.5455])]\n",
      "batch:24, batch_data:[tensor([0.0864, 0.0691, 0.0882, 0.0900]), tensor([8.6364, 6.9091, 8.8182, 9.0000])]\n",
      "\n",
      "batch:0, batch_data:[tensor([0.0373, 0.0173, 0.0882, 0.0309]), tensor([3.7273, 1.7273, 8.8182, 3.0909])]\n",
      "batch:1, batch_data:[tensor([0.0509, 0.0800, 0.0682, 0.0136]), tensor([5.0909, 8.0000, 6.8182, 1.3636])]\n",
      "batch:2, batch_data:[tensor([0.0600, 0.0455, 0.0218, 0.0864]), tensor([6.0000, 4.5455, 2.1818, 8.6364])]\n",
      "batch:3, batch_data:[tensor([0.0364, 0.0936, 0.0964, 0.0809]), tensor([3.6364, 9.3636, 9.6364, 8.0909])]\n",
      "batch:4, batch_data:[tensor([0.0291, 0.0791, 0.0591, 0.0991]), tensor([2.9091, 7.9091, 5.9091, 9.9091])]\n",
      "batch:5, batch_data:[tensor([0.0400, 0.0973, 0.0264, 0.0955]), tensor([4.0000, 9.7273, 2.6364, 9.5455])]\n",
      "batch:6, batch_data:[tensor([0.0700, 0.0927, 0.0236, 0.0318]), tensor([7.0000, 9.2727, 2.3636, 3.1818])]\n",
      "batch:7, batch_data:[tensor([0.0555, 0.0564, 0.1000, 0.0436]), tensor([ 5.5455,  5.6364, 10.0000,  4.3636])]\n",
      "batch:8, batch_data:[tensor([0.0155, 0.0773, 0.0273, 0.0755]), tensor([1.5455, 7.7273, 2.7273, 7.5455])]\n",
      "batch:9, batch_data:[tensor([0.0673, 0.0336, 0.0718, 0.0282]), tensor([6.7273, 3.3636, 7.1818, 2.8182])]\n",
      "batch:10, batch_data:[tensor([0.0855, 0.0255, 0.0827, 0.0209]), tensor([8.5455, 2.5455, 8.2727, 2.0909])]\n",
      "batch:11, batch_data:[tensor([0.0627, 0.0355, 0.0618, 0.0445]), tensor([6.2727, 3.5455, 6.1818, 4.4545])]\n",
      "batch:12, batch_data:[tensor([0.0909, 0.0464, 0.0727, 0.0891]), tensor([9.0909, 4.6364, 7.2727, 8.9091])]\n",
      "batch:13, batch_data:[tensor([0.0191, 0.0473, 0.0900, 0.0636]), tensor([1.9091, 4.7273, 9.0000, 6.3636])]\n",
      "batch:14, batch_data:[tensor([0.0736, 0.0545, 0.0609, 0.0164]), tensor([7.3636, 5.4545, 6.0909, 1.6364])]\n",
      "batch:15, batch_data:[tensor([0.0182, 0.0664, 0.0982, 0.0582]), tensor([1.8182, 6.6364, 9.8182, 5.8182])]\n",
      "batch:16, batch_data:[tensor([0.0836, 0.0382, 0.0227, 0.0200]), tensor([8.3636, 3.8182, 2.2727, 2.0000])]\n",
      "batch:17, batch_data:[tensor([0.0518, 0.0945, 0.0345, 0.0391]), tensor([5.1818, 9.4545, 3.4545, 3.9091])]\n",
      "batch:18, batch_data:[tensor([0.0409, 0.0427, 0.0845, 0.0500]), tensor([4.0909, 4.2727, 8.4545, 5.0000])]\n",
      "batch:19, batch_data:[tensor([0.0482, 0.0145, 0.0782, 0.0691]), tensor([4.8182, 1.4545, 7.8182, 6.9091])]\n",
      "batch:20, batch_data:[tensor([0.0100, 0.0655, 0.0327, 0.0645]), tensor([1.0000, 6.5455, 3.2727, 6.4545])]\n",
      "batch:21, batch_data:[tensor([0.0918, 0.0536, 0.0745, 0.0491]), tensor([9.1818, 5.3636, 7.4545, 4.9091])]\n",
      "batch:22, batch_data:[tensor([0.0109, 0.0118, 0.0873, 0.0573]), tensor([1.0909, 1.1818, 8.7273, 5.7273])]\n",
      "batch:23, batch_data:[tensor([0.0527, 0.0127, 0.0418, 0.0709]), tensor([5.2727, 1.2727, 4.1818, 7.0909])]\n",
      "batch:24, batch_data:[tensor([0.0818, 0.0245, 0.0300, 0.0764]), tensor([8.1818, 2.4545, 3.0000, 7.6364])]\n",
      "\n"
     ]
    }
   ],
   "source": [
    "show_batch(data_loader_subsetrandom)\n"
   ],
   "metadata": {
    "collapsed": false,
    "pycharm": {
     "name": "#%%\n"
    }
   }
  }
 ],
 "metadata": {
  "kernelspec": {
   "display_name": "Python 3",
   "language": "python",
   "name": "python3"
  },
  "language_info": {
   "codemirror_mode": {
    "name": "ipython",
    "version": 2
   },
   "file_extension": ".py",
   "mimetype": "text/x-python",
   "name": "python",
   "nbconvert_exporter": "python",
   "pygments_lexer": "ipython2",
   "version": "2.7.6"
  }
 },
 "nbformat": 4,
 "nbformat_minor": 0
}