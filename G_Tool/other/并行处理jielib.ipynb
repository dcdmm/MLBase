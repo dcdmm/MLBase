{
 "cells": [
  {
   "cell_type": "code",
   "execution_count": 26,
   "metadata": {
    "collapsed": true
   },
   "outputs": [],
   "source": [
    "from joblib import Parallel, delayed\n",
    "import time, math"
   ]
  },
  {
   "cell_type": "code",
   "execution_count": 27,
   "outputs": [],
   "source": [
    "def my_fun1p(i):\n",
    "    time.sleep(1)\n",
    "    return math.sqrt(i ** 2)"
   ],
   "metadata": {
    "collapsed": false,
    "pycharm": {
     "name": "#%%\n"
    }
   }
  },
  {
   "cell_type": "code",
   "execution_count": 28,
   "outputs": [
    {
     "name": "stdout",
     "output_type": "stream",
     "text": [
      "10.0770 s\n"
     ]
    }
   ],
   "source": [
    "num = 10\n",
    "start = time.time()\n",
    "for i in range(num):\n",
    "    my_fun1p(i)\n",
    "\n",
    "end = time.time()\n",
    "\n",
    "print('{:.4f} s'.format(end - start))"
   ],
   "metadata": {
    "collapsed": false,
    "pycharm": {
     "name": "#%%\n"
    }
   }
  },
  {
   "cell_type": "code",
   "execution_count": 29,
   "outputs": [
    {
     "name": "stdout",
     "output_type": "stream",
     "text": [
      "[0.0, 1.0, 2.0, 3.0, 4.0, 5.0, 6.0, 7.0, 8.0, 9.0]\n",
      "5.0388 s\n"
     ]
    }
   ],
   "source": [
    "start = time.time()\n",
    "# njobs:The maximum number of concurrently running jobs, If -1 all CPUs are used\n",
    "# 注:notebook中要求my_fun1p位于当前notebook或可以通过import的方式导入,即不能与当前notebook处于不同文件夹\n",
    "# 并行执行多个函数\n",
    "result = Parallel(n_jobs=2)(delayed(my_fun1p)(i) for i in range(num))  # 函数my_fun1的参数为i\n",
    "# result = Parallel(n_jobs=2)([delayed(my_fun1p)(0), delayed(my_fun1p)(1), delayed(my_fun1p)(2), ..., delayed(my_fun1p)(num-1)])  # 与上等价\n",
    "print(result)  # 所有函数返回值结果被打包为一个列表\n",
    "end = time.time()\n",
    "print('{:.4f} s'.format(end - start))"
   ],
   "metadata": {
    "collapsed": false,
    "pycharm": {
     "name": "#%%\n"
    }
   }
  },
  {
   "cell_type": "code",
   "execution_count": 30,
   "outputs": [],
   "source": [
    "def my_fun_2p(i, j):\n",
    "    time.sleep(1)\n",
    "    return math.sqrt(i ** j)"
   ],
   "metadata": {
    "collapsed": false,
    "pycharm": {
     "name": "#%%\n"
    }
   }
  },
  {
   "cell_type": "code",
   "execution_count": 31,
   "outputs": [
    {
     "name": "stdout",
     "output_type": "stream",
     "text": [
      "30.1671 s\n"
     ]
    }
   ],
   "source": [
    "j_num = 3\n",
    "num = 10\n",
    "start = time.time()\n",
    "for i in range(num):\n",
    "    for j in range(j_num):\n",
    "        my_fun_2p(i, j)\n",
    "\n",
    "end = time.time()\n",
    "print('{:.4f} s'.format(end - start))"
   ],
   "metadata": {
    "collapsed": false,
    "pycharm": {
     "name": "#%%\n"
    }
   }
  },
  {
   "cell_type": "code",
   "execution_count": 32,
   "outputs": [
    {
     "name": "stderr",
     "output_type": "stream",
     "text": [
      "[Parallel(n_jobs=2)]: Using backend LokyBackend with 2 concurrent workers.\n",
      "[Parallel(n_jobs=2)]: Done   1 tasks      | elapsed:    0.9s\n",
      "[Parallel(n_jobs=2)]: Done   4 tasks      | elapsed:    1.9s\n",
      "[Parallel(n_jobs=2)]: Done   9 tasks      | elapsed:    5.0s\n",
      "[Parallel(n_jobs=2)]: Done  14 tasks      | elapsed:    7.0s\n",
      "[Parallel(n_jobs=2)]: Done  21 tasks      | elapsed:   11.0s\n",
      "[Parallel(n_jobs=2)]: Done  30 out of  30 | elapsed:   15.0s finished\n"
     ]
    }
   ],
   "source": [
    "\"\"\"\n",
    "verbose: int, optional\n",
    "    The verbosity level:\n",
    "    if non zero, progress messages are printed.\n",
    "    Above 50, the output is sent to stdout.\n",
    "    The frequency of the messages increases with the verbosity level.\n",
    "    If it more than 10, all iterations are reported.\n",
    "\"\"\"\n",
    "start = time.time()\n",
    "# 函数my_fun_2p的参数为(i, j)\n",
    "Parallel(n_jobs=2, verbose=10)(delayed(my_fun_2p)(i, j) for i in range(num) for j in range(j_num))\n",
    "end = time.time()"
   ],
   "metadata": {
    "collapsed": false,
    "pycharm": {
     "name": "#%%\n"
    }
   }
  }
 ],
 "metadata": {
  "kernelspec": {
   "display_name": "Python 3",
   "language": "python",
   "name": "python3"
  },
  "language_info": {
   "codemirror_mode": {
    "name": "ipython",
    "version": 2
   },
   "file_extension": ".py",
   "mimetype": "text/x-python",
   "name": "python",
   "nbconvert_exporter": "python",
   "pygments_lexer": "ipython2",
   "version": "2.7.6"
  }
 },
 "nbformat": 4,
 "nbformat_minor": 0
}