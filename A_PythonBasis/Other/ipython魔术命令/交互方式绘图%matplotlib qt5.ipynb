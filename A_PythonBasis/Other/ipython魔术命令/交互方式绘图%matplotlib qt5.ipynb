{
 "cells": [
  {
   "cell_type": "code",
   "execution_count": 6,
   "outputs": [],
   "source": [
    "# 交互方式,用户能对图像进行操作(需要安装PyQt5)\n",
    "%matplotlib qt5\n",
    "import numpy as np\n",
    "import pandas as pd\n",
    "import matplotlib.pyplot as plt\n",
    "\n",
    "fig = plt.figure()\n",
    "ax = plt.subplot(111)\n",
    "s = pd.Series(np.random.randn(1000))  # Data must be 1-dimensional\n",
    "ax.hist(x=s, bins=1000, histtype='barstacked', align='mid',\n",
    "        orientation='vertical', alpha=0.8, facecolor='red',\n",
    "        edgecolor='g', density=True, label='hist')\n",
    "ax.legend()\n",
    "ax.grid()\n"
   ],
   "metadata": {
    "collapsed": false,
    "pycharm": {
     "name": "#%%\n"
    }
   }
  },
  {
   "cell_type": "code",
   "execution_count": null,
   "outputs": [],
   "source": [],
   "metadata": {
    "collapsed": false,
    "pycharm": {
     "name": "#%%\n"
    }
   }
  }
 ],
 "metadata": {
  "language_info": {
   "codemirror_mode": {
    "name": "ipython",
    "version": 2
   },
   "file_extension": ".py",
   "mimetype": "text/x-python",
   "name": "python",
   "nbconvert_exporter": "python",
   "pygments_lexer": "ipython2",
   "version": "2.7.6"
  },
  "kernelspec": {
   "name": "python3",
   "language": "python",
   "display_name": "Python 3"
  }
 },
 "nbformat": 4,
 "nbformat_minor": 0
}