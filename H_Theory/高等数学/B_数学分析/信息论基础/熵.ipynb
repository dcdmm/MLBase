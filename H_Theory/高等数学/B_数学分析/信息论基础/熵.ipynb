{
 "cells": [
  {
   "cell_type": "markdown",
   "metadata": {
    "collapsed": true,
    "pycharm": {
     "name": "#%% md\n"
    }
   },
   "source": [
    "&emsp;&emsp;一个随机变量$X $的熵$  H(X) $的定义为     \n",
    "$$ H(X) = \\sum_{x} P(x) \\log \\frac{1}{P(x)} = -\\sum_{x} P(x) \\log P(x) $$    \n",
    "其中约定$ 0  \\log \\dfrac{1}{0} = 0 $.上式的对数若以2为底,则熵的单位是比特,若以$ e $为底,则其单位是奈特.    \n",
    "&emsp;&emsp;熵是对随机变量的不确定性的度量.随机变量$X$的熵越大,说明它的不确定性也越大.由定义知,熵只依赖于$X$的分布而与$X$的取值无关.    \n",
    "\n",
    "<font color='red' size=4> 熵的基本性质</font>      \n",
    "1. $$ H(X) \\geq 0 $$    \n",
    "显然成立,因为对于$X$的任意取值$x$,总有     \n",
    "$$ -P(X=x) \\log P(X=x) \\geq 0 $$   \n",
    "2. $$H(X) \\leq \\log |X|  $$等号成立当且仅当对$X$的所有取值$x$有$$ P(X = x) = \\frac{1}{|X|} $$     \n",
    "\\begin{align}\n",
    "H(X) &=  \\sum_{x} P(x) \\log \\frac{1}{P(x) } \\\\\n",
    "     & \\leq  \\log \\sum_{x} P(x)  \\frac{1}{P(x)} = \\log |X|\n",
    "\\end{align}"
   ]
  },
  {
   "cell_type": "code",
   "execution_count": 1,
   "outputs": [],
   "source": [
    "import numpy as np\n",
    "import matplotlib.pyplot as plt"
   ],
   "metadata": {
    "collapsed": false,
    "pycharm": {
     "name": "#%%\n",
     "is_executing": false
    }
   }
  },
  {
   "cell_type": "code",
   "execution_count": 2,
   "outputs": [],
   "source": [
    "def entropy(p):\n",
    "    \"\"\"两分类问题的信息熵\"\"\"\n",
    "    return -p * np.log(p) - (1-p) * np.log(1-p)"
   ],
   "metadata": {
    "collapsed": false,
    "pycharm": {
     "name": "#%%\n",
     "is_executing": false
    }
   }
  },
  {
   "cell_type": "code",
   "execution_count": 3,
   "outputs": [],
   "source": [
    "x = np.linspace(0.01, 0.99, 200)"
   ],
   "metadata": {
    "collapsed": false,
    "pycharm": {
     "name": "#%%\n",
     "is_executing": false
    }
   }
  },
  {
   "cell_type": "code",
   "execution_count": 7,
   "outputs": [
    {
     "data": {
      "text/plain": "<Figure size 432x288 with 1 Axes>",
      "image/png": "[encoded data removed]"
     },
     "metadata": {
      "needs_background": "light"
     },
     "output_type": "display_data"
    }
   ],
   "source": [
    "plt.plot(x, entropy(x))\n",
    "plt.axhline(np.log(2), color='red') # e为底\n",
    "plt.show()"
   ],
   "metadata": {
    "collapsed": false,
    "pycharm": {
     "name": "#%%\n",
     "is_executing": false
    }
   }
  }
 ],
 "metadata": {
  "kernelspec": {
   "display_name": "Python 3",
   "language": "python",
   "name": "python3"
  },
  "language_info": {
   "codemirror_mode": {
    "name": "ipython",
    "version": 2
   },
   "file_extension": ".py",
   "mimetype": "text/x-python",
   "name": "python",
   "nbconvert_exporter": "python",
   "pygments_lexer": "ipython2",
   "version": "2.7.6"
  },
  "pycharm": {
   "stem_cell": {
    "cell_type": "raw",
    "source": [],
    "metadata": {
     "collapsed": false
    }
   }
  }
 },
 "nbformat": 4,
 "nbformat_minor": 0
}