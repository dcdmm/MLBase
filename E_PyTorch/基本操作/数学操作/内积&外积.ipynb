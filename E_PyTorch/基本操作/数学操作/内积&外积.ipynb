{
 "cells": [
  {
   "cell_type": "code",
   "execution_count": 9,
   "id": "7a92f4fc",
   "metadata": {},
   "outputs": [],
   "source": [
    "import torch"
   ]
  },
  {
   "cell_type": "markdown",
   "id": "52252bf5",
   "metadata": {},
   "source": [
    "### 参考numpy.dot/numpy.outer"
   ]
  },
  {
   "cell_type": "code",
   "execution_count": 10,
   "id": "5fc30378",
   "metadata": {},
   "outputs": [
    {
     "name": "stdout",
     "output_type": "stream",
     "text": [
      "tensor(70)\n",
      "tensor(70)\n"
     ]
    }
   ],
   "source": [
    "arr1 = torch.tensor([1, 2, 3, 4, 5])\n",
    "arr2 = torch.tensor([2, 3, 4, 5, 6])\n",
    "print(arr1 @ arr2)  # 向量的内积(点积)\n",
    "print(torch.dot(arr1, arr2))  # 与上等价"
   ]
  },
  {
   "cell_type": "code",
   "execution_count": 11,
   "id": "5b946c1d",
   "metadata": {},
   "outputs": [
    {
     "data": {
      "text/plain": [
       "tensor([[ 2,  3,  4,  5,  6],\n",
       "        [ 4,  6,  8, 10, 12],\n",
       "        [ 6,  9, 12, 15, 18],\n",
       "        [ 8, 12, 16, 20, 24],\n",
       "        [10, 15, 20, 25, 30]])"
      ]
     },
     "execution_count": 11,
     "metadata": {},
     "output_type": "execute_result"
    }
   ],
   "source": [
    "rl = torch.outer(arr1, arr2)  # 向量的外积\n",
    "rl"
   ]
  }
 ],
 "metadata": {
  "kernelspec": {
   "display_name": "llm",
   "language": "python",
   "name": "python3"
  },
  "language_info": {
   "codemirror_mode": {
    "name": "ipython",
    "version": 3
   },
   "file_extension": ".py",
   "mimetype": "text/x-python",
   "name": "python",
   "nbconvert_exporter": "python",
   "pygments_lexer": "ipython3",
   "version": "3.10.12"
  }
 },
 "nbformat": 4,
 "nbformat_minor": 5
}
