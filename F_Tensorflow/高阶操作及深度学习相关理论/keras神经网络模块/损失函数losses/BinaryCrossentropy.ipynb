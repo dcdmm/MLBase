{
 "cells": [
  {
   "cell_type": "code",
   "execution_count": 1,
   "metadata": {
    "collapsed": true
   },
   "outputs": [],
   "source": [
    "import tensorflow as tf"
   ]
  },
  {
   "cell_type": "markdown",
   "source": [
    "### 二元交叉熵损失函数\n",
    "### 参考torch.BCELoss===>对应from_logits=False\n",
    "### 参考torch.BCEWithLogitsLoss===>对应from_logits=True"
   ],
   "metadata": {
    "collapsed": false,
    "pycharm": {
     "name": "#%% md\n"
    }
   }
  },
  {
   "cell_type": "code",
   "execution_count": 2,
   "outputs": [],
   "source": [
    "y_pred = tf.constant([[0.5, 0.4, 0.3],\n",
    "                      [0.3, 0.2, 0.5]])\n",
    "y_true = tf.constant([[0., 1., 0.],\n",
    "                      [1., 0., 0.]])"
   ],
   "metadata": {
    "collapsed": false,
    "pycharm": {
     "name": "#%%\n"
    }
   }
  },
  {
   "cell_type": "code",
   "execution_count": 3,
   "outputs": [
    {
     "name": "stdout",
     "output_type": "stream",
     "text": [
      "binary_crossentropy\n",
      "0.68106246\r\n"
     ]
    }
   ],
   "source": [
    "'''\n",
    "from_logits: Whether to interpret y_pred as a tensor of logit values.\n",
    "             By default, we assume that y_pred contains probabilities (i.e., values in [0, 1]).\n",
    "'''\n",
    "bce = tf.keras.losses.BinaryCrossentropy(from_logits=False,\n",
    "                                         # 默认,参考MeanSquaredError\n",
    "                                         reduction=tf.keras.losses.Reduction.SUM_OVER_BATCH_SIZE,\n",
    "                                         name='binary_crossentropy')\n",
    "\n",
    "print(bce.name)\n",
    "tf.print(bce(y_true, y_pred,\n",
    "             # 批次样本权重,参考MeanSquaredError\n",
    "             sample_weight=None))"
   ],
   "metadata": {
    "collapsed": false,
    "pycharm": {
     "name": "#%%\n"
    }
   }
  },
  {
   "cell_type": "code",
   "execution_count": 4,
   "outputs": [
    {
     "data": {
      "text/plain": "0.7780031"
     },
     "execution_count": 4,
     "metadata": {},
     "output_type": "execute_result"
    }
   ],
   "source": [
    "bce = tf.keras.losses.BinaryCrossentropy(from_logits=True)  # 默认freom_logits=True\n",
    "bce(y_true, y_pred).numpy()"
   ],
   "metadata": {
    "collapsed": false,
    "pycharm": {
     "name": "#%%\n"
    }
   }
  },
  {
   "cell_type": "code",
   "execution_count": 5,
   "outputs": [
    {
     "data": {
      "text/plain": "<tf.Tensor: shape=(2, 3), dtype=float32, numpy=\narray([[0.6931472 , 0.9162907 , 0.35667497],\n       [1.2039728 , 0.22314353, 0.6931472 ]], dtype=float32)>"
     },
     "execution_count": 5,
     "metadata": {},
     "output_type": "execute_result"
    }
   ],
   "source": [
    "result = -(y_true * tf.math.log(y_pred) + (1 - y_true) * tf.math.log(1 - y_pred))\n",
    "result"
   ],
   "metadata": {
    "collapsed": false,
    "pycharm": {
     "name": "#%%\n"
    }
   }
  },
  {
   "cell_type": "code",
   "execution_count": 6,
   "outputs": [
    {
     "name": "stdout",
     "output_type": "stream",
     "text": [
      "tf.Tensor(1.3621254, shape=(), dtype=float32)\n",
      "tf.Tensor(1.3621249, shape=(), dtype=float32)\n"
     ]
    }
   ],
   "source": [
    "'''\n",
    "默认reduction=losses_utils.ReductionV2.AUTO;参考torch中reduction='mean'\n",
    "AUTO: Indicates that the reduction option will be determined by the usage context. For almost all cases this defaults to SUM_OVER_BATCH_SIZE\n",
    "NONE: No additional reduction is applied to the output of the wrapped loss function.\n",
    "SUM: Scalar sum of weighted losses\n",
    "SUM_OVER_BATCH_SIZE: Scalar SUM divided by number of elements in losses(即均值)\n",
    "'''\n",
    "print(tf.math.reduce_sum(result) / 3)\n",
    "print(tf.keras.losses.BinaryCrossentropy(from_logits=False,\n",
    "                                         # 默认reduction=tf.keras.losses.Reduction.SUM_OVER_BATCH_SIZE\n",
    "                                         reduction=tf.keras.losses.Reduction.SUM)(y_true,\n",
    "                                                                                  y_pred))  # 与上等价;参考torch中reduction='sum'"
   ],
   "metadata": {
    "collapsed": false,
    "pycharm": {
     "name": "#%%\n"
    }
   }
  },
  {
   "cell_type": "code",
   "execution_count": 7,
   "outputs": [
    {
     "name": "stdout",
     "output_type": "stream",
     "text": [
      "tf.Tensor([0.65537095 0.7067545 ], shape=(2,), dtype=float32)\n",
      "tf.Tensor([0.6553708 0.7067542], shape=(2,), dtype=float32)\n"
     ]
    }
   ],
   "source": [
    "print(tf.math.reduce_mean(result, axis=1))\n",
    "print(tf.keras.losses.BinaryCrossentropy(from_logits=False,\n",
    "                                         reduction=tf.keras.losses.Reduction.NONE)(y_true,\n",
    "                                                                                   y_pred))  # 与上等价;参考torch中reduction='none'"
   ],
   "metadata": {
    "collapsed": false,
    "pycharm": {
     "name": "#%%\n"
    }
   }
  },
  {
   "cell_type": "code",
   "execution_count": 7,
   "outputs": [],
   "source": [],
   "metadata": {
    "collapsed": false,
    "pycharm": {
     "name": "#%%\n"
    }
   }
  }
 ],
 "metadata": {
  "kernelspec": {
   "display_name": "Python 3",
   "language": "python",
   "name": "python3"
  },
  "language_info": {
   "codemirror_mode": {
    "name": "ipython",
    "version": 2
   },
   "file_extension": ".py",
   "mimetype": "text/x-python",
   "name": "python",
   "nbconvert_exporter": "python",
   "pygments_lexer": "ipython2",
   "version": "2.7.6"
  }
 },
 "nbformat": 4,
 "nbformat_minor": 0
}