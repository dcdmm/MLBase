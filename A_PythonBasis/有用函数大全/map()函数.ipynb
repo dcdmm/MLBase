{
 "cells": [
  {
   "cell_type": "code",
   "execution_count": null,
   "outputs": [],
   "source": [
    "\"\"\"\n",
    "map(func, *iterables) --> map object\n",
    "\n",
    "Make an iterator that computes the function using arguments from\n",
    "each of the iterables.  Stops when the shortest iterable is exhausted.\n",
    "\"\"\"\n",
    "'''\n",
    "map()函数语法：\n",
    "map(function, iterable, ...)\n",
    "1,当seq只有一个时,将函数func作用于这个seq的每个元素上,并得到一个新的seq\n",
    "2,当seq多于一个时,map可以并行(注意是并行)地对每个seq执行\n",
    "'''"
   ],
   "metadata": {
    "collapsed": false,
    "pycharm": {
     "name": "#%%\n"
    }
   }
  },
  {
   "cell_type": "code",
   "execution_count": 2,
   "metadata": {
    "pycharm": {
     "is_executing": false
    }
   },
   "outputs": [
    {
     "name": "stdout",
     "text": [
      "<map object at 0x0000028708015400>\n[0, 2, 4, 6, 8, 10, 12, 14, 16, 18]\n"
     ],
     "output_type": "stream"
    }
   ],
   "source": [
    "the_map = map(lambda x:x * 2, range(10))\n",
    "print(the_map) # 返回值为map object(迭代器)\n",
    "print(list(the_map))"
   ]
  },
  {
   "cell_type": "code",
   "execution_count": 7,
   "metadata": {
    "pycharm": {
     "is_executing": false
    }
   },
   "outputs": [
    {
     "name": "stdout",
     "text": [
      "map_list1为: [[1, 2, 'a'], [3, 4, 'b'], [5, 6, 'c']]\n"
     ],
     "output_type": "stream"
    }
   ],
   "source": "# 将zip方法中元组转换为列表进行输出(seq多于一个时)\nmap_list = list(map(lambda x, y, z: [x,y,z], \n                     [1, 3, 5], [2, 4, 6, 8], ['a','b','c','d','e']))\nprint('map_list1为:', map_list)"
  },
  {
   "cell_type": "code",
   "execution_count": 8,
   "metadata": {
    "pycharm": {
     "is_executing": false
    }
   },
   "outputs": [
    {
     "data": {
      "text/plain": "[3, 7, 11, 15, 19]"
     },
     "metadata": {},
     "output_type": "execute_result",
     "execution_count": 8
    }
   ],
   "source": "list(map(lambda x, y: x + y, [1, 3, 5, 7, 9], [2, 4, 6, 8, 10]))"
  },
  {
   "cell_type": "code",
   "execution_count": null,
   "outputs": [],
   "source": "\n",
   "metadata": {
    "pycharm": {
     "metadata": false,
     "name": "#%%\n"
    }
   }
  }
 ],
 "metadata": {
  "kernelspec": {
   "name": "python3",
   "language": "python",
   "display_name": "Python 3"
  },
  "language_info": {
   "codemirror_mode": {
    "name": "ipython",
    "version": 2
   },
   "file_extension": ".py",
   "mimetype": "text/x-python",
   "name": "python",
   "nbconvert_exporter": "python",
   "pygments_lexer": "ipython2",
   "version": "2.7.6"
  },
  "pycharm": {
   "stem_cell": {
    "cell_type": "raw",
    "source": [],
    "metadata": {
     "collapsed": false
    }
   }
  }
 },
 "nbformat": 4,
 "nbformat_minor": 0
}