{
 "cells": [
  {
   "cell_type": "code",
   "execution_count": null,
   "outputs": [],
   "source": [
    "# 局部变量是指在函数内部定义并使用的变量,它只在函数内部有效。\n",
    "def text():\n",
    "    age = '24'\n",
    "    print(age)\n",
    "    \n",
    "text()\n",
    "print('局部变量 demo 的值为：', age) # name 'age' is not defined"
   ],
   "metadata": {
    "collapsed": false,
    "pycharm": {
     "name": "#%%\n"
    }
   }
  },
  {
   "cell_type": "code",
   "execution_count": 44,
   "outputs": [
    {
     "name": "stdout",
     "text": [
      "函数体内访问： 2019\n函数体外访问： 2019\n"
     ],
     "output_type": "stream"
    }
   ],
   "source": [
    "# 全局变量指的是能作用于函数内外的变量,即全局变量既可以在各个函数的外部使用,也可以在各函数内部使用\n",
    "data = \"2019\"\n",
    "def text1():\n",
    "    print(\"函数体内访问：\", data)\n",
    "        \n",
    "text1()\n",
    "print('函数体外访问：', data)"
   ],
   "metadata": {
    "pycharm": {
     "metadata": false,
     "name": "#%%\n",
     "is_executing": false
    }
   }
  },
  {
   "cell_type": "code",
   "execution_count": 45,
   "outputs": [
    {
     "name": "stdout",
     "text": [
      "函数体外访问： guangzhou\n"
     ],
     "output_type": "stream"
    }
   ],
   "source": [
    "# 所有的函数都可以直接访问全局变量,但函数内部不能直接通过赋值语句来改变全局变量\n",
    "adress = \"guangzhou\"\n",
    "def text2():\n",
    "    data = 'beijing'\n",
    "        \n",
    "text2()\n",
    "print('函数体外访问：', adress) "
   ],
   "metadata": {
    "pycharm": {
     "metadata": false,
     "name": "#%%\n",
     "is_executing": false
    }
   }
  },
  {
   "cell_type": "code",
   "execution_count": 46,
   "outputs": [
    {
     "traceback": [
      "\u001b[1;31m---------------------------------------------------------------------------\u001b[0m",
      "\u001b[1;31mUnboundLocalError\u001b[0m                         Traceback (most recent call last)",
      "\u001b[1;32m<ipython-input-46-bf1e99d9d0a5>\u001b[0m in \u001b[0;36m<module>\u001b[1;34m\u001b[0m\n\u001b[0;32m      5\u001b[0m     \u001b[0mlike\u001b[0m \u001b[1;33m=\u001b[0m \u001b[1;34m'milk'\u001b[0m\u001b[1;33m\u001b[0m\u001b[1;33m\u001b[0m\u001b[0m\n\u001b[0;32m      6\u001b[0m \u001b[1;33m\u001b[0m\u001b[0m\n\u001b[1;32m----> 7\u001b[1;33m \u001b[0mtext3\u001b[0m\u001b[1;33m(\u001b[0m\u001b[1;33m)\u001b[0m\u001b[1;33m\u001b[0m\u001b[1;33m\u001b[0m\u001b[0m\n\u001b[0m\u001b[0;32m      8\u001b[0m \u001b[0mprint\u001b[0m\u001b[1;33m(\u001b[0m\u001b[1;34m'函数体外访问：'\u001b[0m\u001b[1;33m,\u001b[0m \u001b[0madress\u001b[0m\u001b[1;33m)\u001b[0m\u001b[1;33m\u001b[0m\u001b[1;33m\u001b[0m\u001b[0m\n",
      "\u001b[1;32m<ipython-input-46-bf1e99d9d0a5>\u001b[0m in \u001b[0;36mtext3\u001b[1;34m()\u001b[0m\n\u001b[0;32m      2\u001b[0m \u001b[0mlike\u001b[0m \u001b[1;33m=\u001b[0m \u001b[1;34m\"vegetable\"\u001b[0m\u001b[1;33m\u001b[0m\u001b[1;33m\u001b[0m\u001b[0m\n\u001b[0;32m      3\u001b[0m \u001b[1;32mdef\u001b[0m \u001b[0mtext3\u001b[0m\u001b[1;33m(\u001b[0m\u001b[1;33m)\u001b[0m\u001b[1;33m:\u001b[0m\u001b[1;33m\u001b[0m\u001b[1;33m\u001b[0m\u001b[0m\n\u001b[1;32m----> 4\u001b[1;33m     \u001b[0mprint\u001b[0m\u001b[1;33m(\u001b[0m\u001b[0mlike\u001b[0m\u001b[1;33m)\u001b[0m \u001b[1;31m# 报错,local variable 'like' referenced before assignment\u001b[0m\u001b[1;33m\u001b[0m\u001b[1;33m\u001b[0m\u001b[0m\n\u001b[0m\u001b[0;32m      5\u001b[0m     \u001b[0mlike\u001b[0m \u001b[1;33m=\u001b[0m \u001b[1;34m'milk'\u001b[0m\u001b[1;33m\u001b[0m\u001b[1;33m\u001b[0m\u001b[0m\n\u001b[0;32m      6\u001b[0m \u001b[1;33m\u001b[0m\u001b[0m\n",
      "\u001b[1;31mUnboundLocalError\u001b[0m: local variable 'like' referenced before assignment"
     ],
     "ename": "UnboundLocalError",
     "evalue": "local variable 'like' referenced before assignment",
     "output_type": "error"
    }
   ],
   "source": [
    "# 全局变量和局部变量的遮蔽现象\n",
    "like = \"vegetable\"\n",
    "def text3():\n",
    "    print(like) # 报错,local variable 'like' referenced before assignment\n",
    "    like = 'milk'\n",
    "    \n",
    "text3()\n",
    "print('函数体外访问：', adress) "
   ],
   "metadata": {
    "pycharm": {
     "metadata": false,
     "name": "#%%\n",
     "is_executing": false
    }
   }
  },
  {
   "cell_type": "code",
   "execution_count": 51,
   "outputs": [
    {
     "name": "stdout",
     "text": [
      "函数体内访问： caida\ncity\n函数体外访问： city\n"
     ],
     "output_type": "stream"
    }
   ],
   "source": [
    "# 解决方法一:关键字global\n",
    "school = 'caida'\n",
    "def text4():\n",
    "    global school # 变量school通过关键字global被定义为全局变量\n",
    "    print(\"函数体内访问：\", school)\n",
    "    school = 'city'\n",
    "    print(school)\n",
    "    \n",
    "text4()\n",
    "print('函数体外访问：', school)"
   ],
   "metadata": {
    "pycharm": {
     "metadata": false,
     "name": "#%%\n",
     "is_executing": false
    }
   }
  },
  {
   "cell_type": "code",
   "execution_count": 50,
   "outputs": [
    {
     "name": "stdout",
     "text": [
      "vegetable\nmilk\n函数体外访问： tomato\n"
     ],
     "output_type": "stream"
    }
   ],
   "source": "# 解决方法二:通过globals()函数访问被遮蔽的全局变量\nlove = \"vegetable\"\ndef text4():\n    print(globals()['love'])\n    globals()['love'] = 'tomato'\n    love = 'milk' # 此行代码中的love为局部变量\n    print(love) # 函数在读取变量时,优先读取函数本身自有的局部变量,再去读全局变量\n    \ntext4()\nprint('函数体外访问：', love)",
   "metadata": {
    "pycharm": {
     "metadata": false,
     "name": "#%%\n",
     "is_executing": false
    }
   }
  },
  {
   "cell_type": "code",
   "execution_count": null,
   "outputs": [],
   "source": "\n",
   "metadata": {
    "pycharm": {
     "metadata": false,
     "name": "#%%\n"
    }
   }
  }
 ],
 "metadata": {
  "language_info": {
   "codemirror_mode": {
    "name": "ipython",
    "version": 2
   },
   "file_extension": ".py",
   "mimetype": "text/x-python",
   "name": "python",
   "nbconvert_exporter": "python",
   "pygments_lexer": "ipython2",
   "version": "2.7.6"
  },
  "kernelspec": {
   "name": "python3",
   "language": "python",
   "display_name": "Python 3"
  },
  "pycharm": {
   "stem_cell": {
    "cell_type": "raw",
    "source": [],
    "metadata": {
     "collapsed": false
    }
   }
  }
 },
 "nbformat": 4,
 "nbformat_minor": 0
}