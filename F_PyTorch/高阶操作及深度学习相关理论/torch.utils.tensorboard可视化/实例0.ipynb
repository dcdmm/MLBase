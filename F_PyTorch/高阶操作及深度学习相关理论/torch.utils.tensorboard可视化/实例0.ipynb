{
 "cells": [
  {
   "cell_type": "code",
   "execution_count": 22,
   "outputs": [],
   "source": [
    "from torch.utils.tensorboard import SummaryWriter\n",
    "import torch.nn as nn\n",
    "import torch.optim as optim\n",
    "from torchvision import datasets, transforms\n",
    "import torch.utils.data as Data\n",
    "import torch"
   ],
   "metadata": {
    "collapsed": false,
    "pycharm": {
     "name": "#%%\n"
    }
   }
  },
  {
   "cell_type": "code",
   "execution_count": 23,
   "outputs": [],
   "source": [
    "batch_size = 200\n",
    "learning_rate = 0.01\n",
    "epochs = 4\n",
    "\n",
    "train_data = datasets.MNIST('../../../Other/datasets/PyTorch',\n",
    "                   train=True,\n",
    "                   transform=transforms.Compose([\n",
    "                       transforms.ToTensor(),\n",
    "                       transforms.Normalize((0.1307,), (0.3081,))\n",
    "                   ]))\n",
    "\n",
    "test_data = datasets.MNIST('../../../Other/datasets/PyTorch',\n",
    "                           train=False,\n",
    "                           transform=transforms.Compose([\n",
    "                               transforms.ToTensor(),\n",
    "                               transforms.Normalize((0.1307,), (0.3081,))\n",
    "                           ]))\n",
    "\n",
    "\n",
    "# 手写数字训练数据集\n",
    "train_loader = Data.DataLoader(dataset=train_data,\n",
    "                               batch_size=batch_size,\n",
    "                               shuffle=True)\n",
    "\n",
    "# 手写数字测试数据集\n",
    "test_loader = Data.DataLoader(dataset=test_data,\n",
    "                              batch_size=batch_size,\n",
    "                              shuffle=True)"
   ],
   "metadata": {
    "collapsed": false,
    "pycharm": {
     "name": "#%%\n"
    }
   }
  },
  {
   "cell_type": "code",
   "execution_count": 24,
   "outputs": [],
   "source": [
    "class LeNet(nn.Module):\n",
    "    def __init__(self):\n",
    "        super(LeNet, self).__init__()\n",
    "        self.featrues = nn.Sequential( # 内部实现了forward函数;各模块顺序执行\n",
    "            nn.Conv2d(1, 6, 3),\n",
    "            nn.ReLU(),\n",
    "            nn.MaxPool2d(2, 2),\n",
    "            nn.Conv2d(6, 16, 3),\n",
    "            nn.ReLU(),\n",
    "            nn.MaxPool2d(2, 2)\n",
    "        )\n",
    "        self.classifier = nn.Sequential(\n",
    "            nn.Linear(400, 120),\n",
    "            nn.ReLU(),\n",
    "            nn.Linear(120, 84),\n",
    "            nn.ReLU(),\n",
    "            nn.Linear(84, 10), # 10分类问题\n",
    "        )\n",
    "\n",
    "    def forward(self, x):\n",
    "        x = self.featrues(x)\n",
    "        x = x.reshape(x.size()[0], -1)\n",
    "        x = self.classifier(x)\n",
    "        return x"
   ],
   "metadata": {
    "collapsed": false,
    "pycharm": {
     "name": "#%%\n"
    }
   }
  },
  {
   "cell_type": "code",
   "execution_count": 25,
   "outputs": [],
   "source": [
    "criteon = nn.CrossEntropyLoss() # 定义损失函数为交叉熵\n",
    "net = LeNet()\n",
    "writer = SummaryWriter(log_dir='./data/实例0', filename_suffix=\"tb\")\n",
    "\n",
    "# 多参数组的SGD优化器\n",
    "optimizer = optim.SGD([dict(params=net.featrues.parameters(), momentum=0.9),\n",
    "                       dict(params=net.classifier.parameters(),\n",
    "                            momentum=0.95, # 动量参数\\alpha;默认momentum=0\n",
    "                            nesterov=True)], # 是否启用Nesterov动量\n",
    "                      lr=learning_rate) # 学习率\n",
    "\n",
    "train_acc_lst = list() # 训练数据精度\n",
    "test_acc_lst = list() # 测试数据精度\n",
    "train_loss_lst = list() # 训练数据损失\n",
    "\n",
    "num = 0\n",
    "for epoch in range(0, epochs):\n",
    "    for batch_index, (data, target) in enumerate(train_loader):\n",
    "        cnn = net(data)\n",
    "\n",
    "        loss = criteon(cnn, target)\n",
    "        optimizer.zero_grad() # 梯度清零\n",
    "        loss.backward() # 反向传播\n",
    "        optimizer.step() # 进行一次梯度更新\n",
    "\n",
    "        if (batch_index+1) % 10 == 0:\n",
    "            num += 1\n",
    "            writer.add_scalar('train_loss', loss, num)\n",
    "            train_loss_lst.append(loss)\n",
    "            valid_train_sampler = Data.sampler.SubsetRandomSampler(torch.randperm(len(train_data))[:500])\n",
    "            valid_train_loader = Data.DataLoader(dataset=train_data, sampler=valid_train_sampler) # 随机选取500条数据进行验证\n",
    "            valid_test_sampler = Data.sampler.SubsetRandomSampler(torch.randperm(len(test_data))[:500])\n",
    "            valid_test_loader = Data.DataLoader(dataset=test_data, sampler=valid_test_sampler)\n",
    "            train_t_n = 0\n",
    "            test_t_n = 0\n",
    "            for i, j in valid_train_loader:\n",
    "                predict = torch.argmax(net(i), dim=1)\n",
    "                if (predict[0].item() - j) == 0:\n",
    "                    train_t_n = train_t_n + 1\n",
    "            for m, n in valid_test_loader:\n",
    "                predict = torch.argmax(net(m), dim=1)\n",
    "                if (predict[0].item()) - n == 0:\n",
    "                   test_t_n = test_t_n + 1\n",
    "\n",
    "            train_acc = train_t_n / 500\n",
    "            test_acc = test_t_n / 500\n",
    "            writer.add_scalars('train and test accuracy',\n",
    "                               tag_scalar_dict={'train_acc':train_acc, 'test_acc': test_acc},\n",
    "                               global_step=num)\n",
    "\n",
    "    for name, param in net.named_parameters():\n",
    "        writer.add_histogram(name + '.grad', param.grad, epoch) # 若使用hood可以得到简化\n",
    "        writer.add_histogram(name + '.data', param, epoch)"
   ],
   "metadata": {
    "collapsed": false,
    "pycharm": {
     "name": "#%%\n"
    }
   }
  }
 ],
 "metadata": {
  "kernelspec": {
   "display_name": "Python 3",
   "language": "python",
   "name": "python3"
  },
  "language_info": {
   "codemirror_mode": {
    "name": "ipython",
    "version": 2
   },
   "file_extension": ".py",
   "mimetype": "text/x-python",
   "name": "python",
   "nbconvert_exporter": "python",
   "pygments_lexer": "ipython2",
   "version": "2.7.6"
  }
 },
 "nbformat": 4,
 "nbformat_minor": 0
}