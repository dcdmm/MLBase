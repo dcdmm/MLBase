{
 "cells": [
  {
   "cell_type": "code",
   "execution_count": 14,
   "outputs": [],
   "source": [
    "import pandas as pd"
   ],
   "metadata": {
    "collapsed": false,
    "pycharm": {
     "name": "#%%\n"
    }
   }
  },
  {
   "cell_type": "code",
   "execution_count": 15,
   "metadata": {
    "pycharm": {
     "name": "#%%\n"
    }
   },
   "outputs": [
    {
     "data": {
      "text/plain": "   total_bill   tip smoker  day  size   tip_pct\n0       16.99  1.01     No  Sun     2  0.059447\n1       10.34  1.66     No  Sun     3  0.160542\n2       21.01  3.50     No  Sun     3  0.166587\n3       23.68  3.31     No  Sun     2  0.139780\n4       24.59  3.61     No  Sun     4  0.146808\n5       25.29  4.71     No  Sun     4  0.186240",
      "text/html": "<div>\n<style scoped>\n    .dataframe tbody tr th:only-of-type {\n        vertical-align: middle;\n    }\n\n    .dataframe tbody tr th {\n        vertical-align: top;\n    }\n\n    .dataframe thead th {\n        text-align: right;\n    }\n</style>\n<table border=\"1\" class=\"dataframe\">\n  <thead>\n    <tr style=\"text-align: right;\">\n      <th></th>\n      <th>total_bill</th>\n      <th>tip</th>\n      <th>smoker</th>\n      <th>day</th>\n      <th>size</th>\n      <th>tip_pct</th>\n    </tr>\n  </thead>\n  <tbody>\n    <tr>\n      <th>0</th>\n      <td>16.99</td>\n      <td>1.01</td>\n      <td>No</td>\n      <td>Sun</td>\n      <td>2</td>\n      <td>0.059447</td>\n    </tr>\n    <tr>\n      <th>1</th>\n      <td>10.34</td>\n      <td>1.66</td>\n      <td>No</td>\n      <td>Sun</td>\n      <td>3</td>\n      <td>0.160542</td>\n    </tr>\n    <tr>\n      <th>2</th>\n      <td>21.01</td>\n      <td>3.50</td>\n      <td>No</td>\n      <td>Sun</td>\n      <td>3</td>\n      <td>0.166587</td>\n    </tr>\n    <tr>\n      <th>3</th>\n      <td>23.68</td>\n      <td>3.31</td>\n      <td>No</td>\n      <td>Sun</td>\n      <td>2</td>\n      <td>0.139780</td>\n    </tr>\n    <tr>\n      <th>4</th>\n      <td>24.59</td>\n      <td>3.61</td>\n      <td>No</td>\n      <td>Sun</td>\n      <td>4</td>\n      <td>0.146808</td>\n    </tr>\n    <tr>\n      <th>5</th>\n      <td>25.29</td>\n      <td>4.71</td>\n      <td>No</td>\n      <td>Sun</td>\n      <td>4</td>\n      <td>0.186240</td>\n    </tr>\n  </tbody>\n</table>\n</div>"
     },
     "execution_count": 15,
     "metadata": {},
     "output_type": "execute_result"
    }
   ],
   "source": [
    "tips = pd.read_csv('tips.csv')\n",
    "tips['tip_pct'] = tips['tip'] / tips['total_bill']\n",
    "tips.drop('time', axis=1, inplace=True)\n",
    "tips[:6]"
   ]
  },
  {
   "cell_type": "code",
   "execution_count": 16,
   "outputs": [
    {
     "name": "stdout",
     "output_type": "stream",
     "text": [
      "<pandas.core.groupby.generic.DataFrameGroupBy object at 0x000001EE371423A0>\n",
      "<pandas.core.groupby.generic.SeriesGroupBy object at 0x000001EE375F5640>\n"
     ]
    }
   ],
   "source": [
    "group_df = tips.groupby([tips['day'], tips['smoker']])\n",
    "group_ser = group_df['tip_pct']\n",
    "print(group_df)  # DataFrameGroupBy object\n",
    "print(group_ser)  # SeriesGroupBy object"
   ],
   "metadata": {
    "collapsed": false,
    "pycharm": {
     "name": "#%%\n"
    }
   }
  },
  {
   "cell_type": "code",
   "execution_count": 17,
   "outputs": [
    {
     "data": {
      "text/plain": "             total_bill    tip  size   tip_pct\nday  smoker                                   \nFri  No          19.235  3.125   2.0  0.149241\n     Yes         13.420  2.500   2.0  0.173913\nSat  No          17.820  2.750   2.0  0.150152\n     Yes         20.390  2.690   2.0  0.153624\nSun  No          18.430  3.020   3.0  0.161665\n     Yes         23.100  3.500   2.0  0.138122\nThur No          15.950  2.180   2.0  0.153492\n     Yes         16.470  2.560   2.0  0.153846",
      "text/html": "<div>\n<style scoped>\n    .dataframe tbody tr th:only-of-type {\n        vertical-align: middle;\n    }\n\n    .dataframe tbody tr th {\n        vertical-align: top;\n    }\n\n    .dataframe thead th {\n        text-align: right;\n    }\n</style>\n<table border=\"1\" class=\"dataframe\">\n  <thead>\n    <tr style=\"text-align: right;\">\n      <th></th>\n      <th></th>\n      <th>total_bill</th>\n      <th>tip</th>\n      <th>size</th>\n      <th>tip_pct</th>\n    </tr>\n    <tr>\n      <th>day</th>\n      <th>smoker</th>\n      <th></th>\n      <th></th>\n      <th></th>\n      <th></th>\n    </tr>\n  </thead>\n  <tbody>\n    <tr>\n      <th rowspan=\"2\" valign=\"top\">Fri</th>\n      <th>No</th>\n      <td>19.235</td>\n      <td>3.125</td>\n      <td>2.0</td>\n      <td>0.149241</td>\n    </tr>\n    <tr>\n      <th>Yes</th>\n      <td>13.420</td>\n      <td>2.500</td>\n      <td>2.0</td>\n      <td>0.173913</td>\n    </tr>\n    <tr>\n      <th rowspan=\"2\" valign=\"top\">Sat</th>\n      <th>No</th>\n      <td>17.820</td>\n      <td>2.750</td>\n      <td>2.0</td>\n      <td>0.150152</td>\n    </tr>\n    <tr>\n      <th>Yes</th>\n      <td>20.390</td>\n      <td>2.690</td>\n      <td>2.0</td>\n      <td>0.153624</td>\n    </tr>\n    <tr>\n      <th rowspan=\"2\" valign=\"top\">Sun</th>\n      <th>No</th>\n      <td>18.430</td>\n      <td>3.020</td>\n      <td>3.0</td>\n      <td>0.161665</td>\n    </tr>\n    <tr>\n      <th>Yes</th>\n      <td>23.100</td>\n      <td>3.500</td>\n      <td>2.0</td>\n      <td>0.138122</td>\n    </tr>\n    <tr>\n      <th rowspan=\"2\" valign=\"top\">Thur</th>\n      <th>No</th>\n      <td>15.950</td>\n      <td>2.180</td>\n      <td>2.0</td>\n      <td>0.153492</td>\n    </tr>\n    <tr>\n      <th>Yes</th>\n      <td>16.470</td>\n      <td>2.560</td>\n      <td>2.0</td>\n      <td>0.153846</td>\n    </tr>\n  </tbody>\n</table>\n</div>"
     },
     "execution_count": 17,
     "metadata": {},
     "output_type": "execute_result"
    }
   ],
   "source": [
    "group_df.quantile()"
   ],
   "metadata": {
    "collapsed": false,
    "pycharm": {
     "name": "#%%\n"
    }
   }
  },
  {
   "cell_type": "code",
   "execution_count": 18,
   "outputs": [],
   "source": [
    "# 常见内置groupby函数\n",
    "# 官网链接:https://pandas.pydata.org/pandas-docs/stable/reference/groupby.html\n",
    "\"\"\"\n",
    "聚合函数\n",
    "any       Return True if any value in the group is truthful, else False\n",
    "all       Return True if all values in the group are truthful, else False.\n",
    "count     Compute count of group, excluding missing values.\n",
    "sum       Compute sum of group values.\n",
    "prod \t  Compute prod of group values.\n",
    "first     Compute first of group values.\n",
    "last      Compute last of group values.\n",
    "mean      Compute mean of groups, excluding missing values.\n",
    "median    Compute median of groups, excluding missing values.\n",
    "min       Compute min of group values.\n",
    "max       Compute max of group values.\n",
    "size      Compute group sizes.\n",
    "var \t  Compute variance of groups, excluding missing values.\n",
    "std       Compute standard deviation of groups, excluding missing values.\n",
    "quntile   Return group values at the given quantile, a la numpy.percentile.\n",
    "describe  Generate descriptive statistics.\n",
    "\n",
    "# 非聚合函数\n",
    "head      Return first n rows of each group.\n",
    "cumsum    Cumulative sum for each group.\n",
    "cumprod   Cumulative product for each group\n",
    "pctchange Calculate pct_change of each value to previous entry in group.\n",
    "\"\"\"\n",
    "\n",
    "agg_func_list = ['any', 'all', 'count', 'sum', 'prod', 'first', 'last', 'mean', 'median',\n",
    "                 'min', 'max', 'size', 'var', 'std', 'quantile', 'describe']"
   ],
   "metadata": {
    "collapsed": false,
    "pycharm": {
     "name": "#%%\n"
    }
   }
  },
  {
   "cell_type": "code",
   "execution_count": 19,
   "outputs": [
    {
     "name": "stdout",
     "output_type": "stream",
     "text": [
      "any:\n",
      "day   smoker\n",
      "Fri   No        True\n",
      "      Yes       True\n",
      "Sat   No        True\n",
      "      Yes       True\n",
      "Sun   No        True\n",
      "      Yes       True\n",
      "Thur  No        True\n",
      "      Yes       True\n",
      "Name: tip_pct, dtype: bool\n",
      "\n",
      "all:\n",
      "day   smoker\n",
      "Fri   No        True\n",
      "      Yes       True\n",
      "Sat   No        True\n",
      "      Yes       True\n",
      "Sun   No        True\n",
      "      Yes       True\n",
      "Thur  No        True\n",
      "      Yes       True\n",
      "Name: tip_pct, dtype: bool\n",
      "\n",
      "count:\n",
      "day   smoker\n",
      "Fri   No         4\n",
      "      Yes       15\n",
      "Sat   No        45\n",
      "      Yes       42\n",
      "Sun   No        57\n",
      "      Yes       19\n",
      "Thur  No        45\n",
      "      Yes       17\n",
      "Name: tip_pct, dtype: int64\n",
      "\n",
      "sum:\n",
      "day   smoker\n",
      "Fri   No        0.606602\n",
      "      Yes       2.621746\n",
      "Sat   No        7.112145\n",
      "      Yes       6.212055\n",
      "Sun   No        9.126438\n",
      "      Yes       3.557756\n",
      "Thur  No        7.213414\n",
      "      Yes       2.785676\n",
      "Name: tip_pct, dtype: float64\n",
      "\n",
      "prod:\n",
      "day   smoker\n",
      "Fri   No        5.024562e-04\n",
      "      Yes       2.359303e-12\n",
      "Sat   No        2.060591e-37\n",
      "      Yes       2.582433e-37\n",
      "Sun   No        4.802404e-47\n",
      "      Yes       2.605449e-16\n",
      "Thur  No        4.198484e-37\n",
      "      Yes       2.731852e-14\n",
      "Name: tip_pct, dtype: float64\n",
      "\n",
      "first:\n",
      "day   smoker\n",
      "Fri   No        0.155625\n",
      "      Yes       0.103555\n",
      "Sat   No        0.162228\n",
      "      Yes       0.078927\n",
      "Sun   No        0.059447\n",
      "      Yes       0.171331\n",
      "Thur  No        0.147059\n",
      "      Yes       0.154321\n",
      "Name: tip_pct, dtype: float64\n",
      "\n",
      "last:\n",
      "day   smoker\n",
      "Fri   No        0.187735\n",
      "      Yes       0.198216\n",
      "Sat   No        0.098204\n",
      "      Yes       0.088222\n",
      "Sun   No        0.241663\n",
      "      Yes       0.095602\n",
      "Thur  No        0.159744\n",
      "      Yes       0.196114\n",
      "Name: tip_pct, dtype: float64\n",
      "\n",
      "mean:\n",
      "day   smoker\n",
      "Fri   No        0.151650\n",
      "      Yes       0.174783\n",
      "Sat   No        0.158048\n",
      "      Yes       0.147906\n",
      "Sun   No        0.160113\n",
      "      Yes       0.187250\n",
      "Thur  No        0.160298\n",
      "      Yes       0.163863\n",
      "Name: tip_pct, dtype: float64\n",
      "\n",
      "median:\n",
      "day   smoker\n",
      "Fri   No        0.149241\n",
      "      Yes       0.173913\n",
      "Sat   No        0.150152\n",
      "      Yes       0.153624\n",
      "Sun   No        0.161665\n",
      "      Yes       0.138122\n",
      "Thur  No        0.153492\n",
      "      Yes       0.153846\n",
      "Name: tip_pct, dtype: float64\n",
      "\n",
      "min:\n",
      "day   smoker\n",
      "Fri   No        0.120385\n",
      "      Yes       0.103555\n",
      "Sat   No        0.056797\n",
      "      Yes       0.035638\n",
      "Sun   No        0.059447\n",
      "      Yes       0.065660\n",
      "Thur  No        0.072961\n",
      "      Yes       0.090014\n",
      "Name: tip_pct, dtype: float64\n",
      "\n",
      "max:\n",
      "day   smoker\n",
      "Fri   No        0.187735\n",
      "      Yes       0.263480\n",
      "Sat   No        0.291990\n",
      "      Yes       0.325733\n",
      "Sun   No        0.252672\n",
      "      Yes       0.710345\n",
      "Thur  No        0.266312\n",
      "      Yes       0.241255\n",
      "Name: tip_pct, dtype: float64\n",
      "\n",
      "size:\n",
      "day   smoker\n",
      "Fri   No         4\n",
      "      Yes       15\n",
      "Sat   No        45\n",
      "      Yes       42\n",
      "Sun   No        57\n",
      "      Yes       19\n",
      "Thur  No        45\n",
      "      Yes       17\n",
      "Name: tip_pct, dtype: int64\n",
      "\n",
      "var:\n",
      "day   smoker\n",
      "Fri   No        0.000791\n",
      "      Yes       0.002631\n",
      "Sat   No        0.001581\n",
      "      Yes       0.003767\n",
      "Sun   No        0.001793\n",
      "      Yes       0.023757\n",
      "Thur  No        0.001503\n",
      "      Yes       0.001551\n",
      "Name: tip_pct, dtype: float64\n",
      "\n",
      "std:\n",
      "day   smoker\n",
      "Fri   No        0.028123\n",
      "      Yes       0.051293\n",
      "Sat   No        0.039767\n",
      "      Yes       0.061375\n",
      "Sun   No        0.042347\n",
      "      Yes       0.154134\n",
      "Thur  No        0.038774\n",
      "      Yes       0.039389\n",
      "Name: tip_pct, dtype: float64\n",
      "\n",
      "quantile:\n",
      "day   smoker\n",
      "Fri   No        0.149241\n",
      "      Yes       0.173913\n",
      "Sat   No        0.150152\n",
      "      Yes       0.153624\n",
      "Sun   No        0.161665\n",
      "      Yes       0.138122\n",
      "Thur  No        0.153492\n",
      "      Yes       0.153846\n",
      "Name: tip_pct, dtype: float64\n",
      "\n",
      "describe:\n",
      "             count      mean       std       min       25%       50%  \\\n",
      "day  smoker                                                            \n",
      "Fri  No        4.0  0.151650  0.028123  0.120385  0.137239  0.149241   \n",
      "     Yes      15.0  0.174783  0.051293  0.103555  0.133739  0.173913   \n",
      "Sat  No       45.0  0.158048  0.039767  0.056797  0.136240  0.150152   \n",
      "     Yes      42.0  0.147906  0.061375  0.035638  0.091797  0.153624   \n",
      "Sun  No       57.0  0.160113  0.042347  0.059447  0.139780  0.161665   \n",
      "     Yes      19.0  0.187250  0.154134  0.065660  0.097723  0.138122   \n",
      "Thur No       45.0  0.160298  0.038774  0.072961  0.137741  0.153492   \n",
      "     Yes      17.0  0.163863  0.039389  0.090014  0.148038  0.153846   \n",
      "\n",
      "                  75%       max  \n",
      "day  smoker                      \n",
      "Fri  No      0.163652  0.187735  \n",
      "     Yes     0.209240  0.263480  \n",
      "Sat  No      0.183915  0.291990  \n",
      "     Yes     0.190502  0.325733  \n",
      "Sun  No      0.185185  0.252672  \n",
      "     Yes     0.215325  0.710345  \n",
      "Thur No      0.184843  0.266312  \n",
      "     Yes     0.194837  0.241255  \n",
      "\n"
     ]
    }
   ],
   "source": [
    "for agg_func in agg_func_list:\n",
    "    # SeriesGroupBy object 测试\n",
    "    print(agg_func + \":\")\n",
    "    print(group_ser.agg(agg_func), end='\\n\\n')"
   ],
   "metadata": {
    "collapsed": false,
    "pycharm": {
     "name": "#%%\n"
    }
   }
  },
  {
   "cell_type": "code",
   "execution_count": 20,
   "outputs": [
    {
     "name": "stdout",
     "output_type": "stream",
     "text": [
      "any\n",
      "             total_bill   tip  size  tip_pct\n",
      "day  smoker                                 \n",
      "Fri  No            True  True  True     True\n",
      "     Yes           True  True  True     True\n",
      "Sat  No            True  True  True     True\n",
      "     Yes           True  True  True     True\n",
      "Sun  No            True  True  True     True\n",
      "     Yes           True  True  True     True\n",
      "Thur No            True  True  True     True\n",
      "     Yes           True  True  True     True\n",
      "\n",
      "all\n",
      "             total_bill   tip  size  tip_pct\n",
      "day  smoker                                 \n",
      "Fri  No            True  True  True     True\n",
      "     Yes           True  True  True     True\n",
      "Sat  No            True  True  True     True\n",
      "     Yes           True  True  True     True\n",
      "Sun  No            True  True  True     True\n",
      "     Yes           True  True  True     True\n",
      "Thur No            True  True  True     True\n",
      "     Yes           True  True  True     True\n",
      "\n",
      "count\n",
      "             total_bill  tip  size  tip_pct\n",
      "day  smoker                                \n",
      "Fri  No               4    4     4        4\n",
      "     Yes             15   15    15       15\n",
      "Sat  No              45   45    45       45\n",
      "     Yes             42   42    42       42\n",
      "Sun  No              57   57    57       57\n",
      "     Yes             19   19    19       19\n",
      "Thur No              45   45    45       45\n",
      "     Yes             17   17    17       17\n",
      "\n",
      "sum\n",
      "             total_bill     tip  size   tip_pct\n",
      "day  smoker                                    \n",
      "Fri  No           73.68   11.25     9  0.606602\n",
      "     Yes         252.20   40.71    31  2.621746\n",
      "Sat  No          884.78  139.63   115  7.112145\n",
      "     Yes         893.62  120.77   104  6.212055\n",
      "Sun  No         1168.88  180.57   167  9.126438\n",
      "     Yes         458.28   66.82    49  3.557756\n",
      "Thur No          770.09  120.32   112  7.213414\n",
      "     Yes         326.24   51.51    40  2.785676\n",
      "\n",
      "prod\n",
      "               total_bill           tip          size       tip_pct\n",
      "day  smoker                                                        \n",
      "Fri  No      1.018745e+05  5.118750e+01  2.400000e+01  5.024562e-04\n",
      "     Yes     4.054443e+17  9.565658e+05  3.276800e+04  2.359303e-12\n",
      "Sat  No      4.070017e+56  8.386640e+19  2.921628e+17  2.060591e-37\n",
      "     Yes     4.145582e+53  1.070569e+17  4.007720e+15  2.582433e-37\n",
      "Sun  No      8.789798e+72  4.221216e+26  1.531774e+25  4.802404e-47\n",
      "     Yes     2.779444e+25  7.241701e+09  2.654208e+07  2.605449e-16\n",
      "Thur No      5.659538e+53  2.376148e+17  2.137451e+16  4.198484e-37\n",
      "     Yes     1.977325e+21  5.401758e+07  1.179648e+06  2.731852e-14\n",
      "\n",
      "first\n",
      "             total_bill   tip  size   tip_pct\n",
      "day  smoker                                  \n",
      "Fri  No           22.49  3.50     2  0.155625\n",
      "     Yes          28.97  3.00     2  0.103555\n",
      "Sat  No           20.65  3.35     3  0.162228\n",
      "     Yes          38.01  3.00     4  0.078927\n",
      "Sun  No           16.99  1.01     2  0.059447\n",
      "     Yes          17.51  3.00     2  0.171331\n",
      "Thur No           27.20  4.00     4  0.147059\n",
      "     Yes          19.44  3.00     2  0.154321\n",
      "\n",
      "last\n",
      "             total_bill   tip  size   tip_pct\n",
      "day  smoker                                  \n",
      "Fri  No           15.98  3.00     3  0.187735\n",
      "     Yes          10.09  2.00     2  0.198216\n",
      "Sat  No           17.82  1.75     2  0.098204\n",
      "     Yes          22.67  2.00     2  0.088222\n",
      "Sun  No           20.69  5.00     5  0.241663\n",
      "     Yes          15.69  1.50     2  0.095602\n",
      "Thur No           18.78  3.00     2  0.159744\n",
      "     Yes          16.47  3.23     3  0.196114\n",
      "\n",
      "mean\n",
      "             total_bill       tip      size   tip_pct\n",
      "day  smoker                                          \n",
      "Fri  No       18.420000  2.812500  2.250000  0.151650\n",
      "     Yes      16.813333  2.714000  2.066667  0.174783\n",
      "Sat  No       19.661778  3.102889  2.555556  0.158048\n",
      "     Yes      21.276667  2.875476  2.476190  0.147906\n",
      "Sun  No       20.506667  3.167895  2.929825  0.160113\n",
      "     Yes      24.120000  3.516842  2.578947  0.187250\n",
      "Thur No       17.113111  2.673778  2.488889  0.160298\n",
      "     Yes      19.190588  3.030000  2.352941  0.163863\n",
      "\n",
      "median\n",
      "             total_bill    tip  size   tip_pct\n",
      "day  smoker                                   \n",
      "Fri  No          19.235  3.125   2.0  0.149241\n",
      "     Yes         13.420  2.500   2.0  0.173913\n",
      "Sat  No          17.820  2.750   2.0  0.150152\n",
      "     Yes         20.390  2.690   2.0  0.153624\n",
      "Sun  No          18.430  3.020   3.0  0.161665\n",
      "     Yes         23.100  3.500   2.0  0.138122\n",
      "Thur No          15.950  2.180   2.0  0.153492\n",
      "     Yes         16.470  2.560   2.0  0.153846\n",
      "\n",
      "min\n",
      "             total_bill   tip  size   tip_pct\n",
      "day  smoker                                  \n",
      "Fri  No           12.46  1.50     2  0.120385\n",
      "     Yes           5.75  1.00     1  0.103555\n",
      "Sat  No            7.25  1.00     1  0.056797\n",
      "     Yes           3.07  1.00     1  0.035638\n",
      "Sun  No            8.77  1.01     2  0.059447\n",
      "     Yes           7.25  1.50     2  0.065660\n",
      "Thur No            7.51  1.25     1  0.072961\n",
      "     Yes          10.34  2.00     2  0.090014\n",
      "\n",
      "max\n",
      "             total_bill    tip  size   tip_pct\n",
      "day  smoker                                   \n",
      "Fri  No           22.75   3.50     3  0.187735\n",
      "     Yes          40.17   4.73     4  0.263480\n",
      "Sat  No           48.33   9.00     4  0.291990\n",
      "     Yes          50.81  10.00     5  0.325733\n",
      "Sun  No           48.17   6.00     6  0.252672\n",
      "     Yes          45.35   6.50     5  0.710345\n",
      "Thur No           41.19   6.70     6  0.266312\n",
      "     Yes          43.11   5.00     4  0.241255\n",
      "\n",
      "size\n",
      "day   smoker\n",
      "Fri   No         4\n",
      "      Yes       15\n",
      "Sat   No        45\n",
      "      Yes       42\n",
      "Sun   No        57\n",
      "      Yes       19\n",
      "Thur  No        45\n",
      "      Yes       17\n",
      "dtype: int64\n",
      "\n",
      "var\n",
      "             total_bill       tip      size   tip_pct\n",
      "day  smoker                                          \n",
      "Fri  No       25.596333  0.807292  0.250000  0.000791\n",
      "     Yes      82.562438  1.161369  0.352381  0.002631\n",
      "Sat  No       79.908965  2.696453  0.616162  0.001581\n",
      "     Yes     101.387535  2.658791  0.743322  0.003767\n",
      "Sun  No       66.099980  1.500099  1.066416  0.001793\n",
      "     Yes     109.046044  1.590501  0.812865  0.023757\n",
      "Thur No       59.625081  1.645997  1.391919  0.001503\n",
      "     Yes      69.808518  1.239863  0.492647  0.001551\n",
      "\n",
      "std\n",
      "             total_bill       tip      size   tip_pct\n",
      "day  smoker                                          \n",
      "Fri  No        5.059282  0.898494  0.500000  0.028123\n",
      "     Yes       9.086388  1.077668  0.593617  0.051293\n",
      "Sat  No        8.939181  1.642088  0.784960  0.039767\n",
      "     Yes      10.069138  1.630580  0.862161  0.061375\n",
      "Sun  No        8.130189  1.224785  1.032674  0.042347\n",
      "     Yes      10.442511  1.261151  0.901591  0.154134\n",
      "Thur No        7.721728  1.282964  1.179796  0.038774\n",
      "     Yes       8.355149  1.113491  0.701888  0.039389\n",
      "\n",
      "quantile\n",
      "             total_bill    tip  size   tip_pct\n",
      "day  smoker                                   \n",
      "Fri  No          19.235  3.125   2.0  0.149241\n",
      "     Yes         13.420  2.500   2.0  0.173913\n",
      "Sat  No          17.820  2.750   2.0  0.150152\n",
      "     Yes         20.390  2.690   2.0  0.153624\n",
      "Sun  No          18.430  3.020   3.0  0.161665\n",
      "     Yes         23.100  3.500   2.0  0.138122\n",
      "Thur No          15.950  2.180   2.0  0.153492\n",
      "     Yes         16.470  2.560   2.0  0.153846\n",
      "\n",
      "describe\n",
      "            total_bill                                                        \\\n",
      "                 count       mean        std    min     25%     50%      75%   \n",
      "day  smoker                                                                    \n",
      "Fri  No            4.0  18.420000   5.059282  12.46  15.100  19.235  22.5550   \n",
      "     Yes          15.0  16.813333   9.086388   5.75  11.690  13.420  18.6650   \n",
      "Sat  No           45.0  19.661778   8.939181   7.25  14.730  17.820  20.6500   \n",
      "     Yes          42.0  21.276667  10.069138   3.07  13.405  20.390  26.7925   \n",
      "Sun  No           57.0  20.506667   8.130189   8.77  14.780  18.430  25.0000   \n",
      "     Yes          19.0  24.120000  10.442511   7.25  17.165  23.100  32.3750   \n",
      "Thur No           45.0  17.113111   7.721728   7.51  11.690  15.950  20.2700   \n",
      "     Yes          17.0  19.190588   8.355149  10.34  13.510  16.470  19.8100   \n",
      "\n",
      "                     tip            ...  size      tip_pct            \\\n",
      "               max count      mean  ...   75%  max   count      mean   \n",
      "day  smoker                         ...                                \n",
      "Fri  No      22.75   4.0  2.812500  ...  2.25  3.0     4.0  0.151650   \n",
      "     Yes     40.17  15.0  2.714000  ...  2.00  4.0    15.0  0.174783   \n",
      "Sat  No      48.33  45.0  3.102889  ...  3.00  4.0    45.0  0.158048   \n",
      "     Yes     50.81  42.0  2.875476  ...  3.00  5.0    42.0  0.147906   \n",
      "Sun  No      48.17  57.0  3.167895  ...  4.00  6.0    57.0  0.160113   \n",
      "     Yes     45.35  19.0  3.516842  ...  3.00  5.0    19.0  0.187250   \n",
      "Thur No      41.19  45.0  2.673778  ...  2.00  6.0    45.0  0.160298   \n",
      "     Yes     43.11  17.0  3.030000  ...  2.00  4.0    17.0  0.163863   \n",
      "\n",
      "                                                                         \n",
      "                  std       min       25%       50%       75%       max  \n",
      "day  smoker                                                              \n",
      "Fri  No      0.028123  0.120385  0.137239  0.149241  0.163652  0.187735  \n",
      "     Yes     0.051293  0.103555  0.133739  0.173913  0.209240  0.263480  \n",
      "Sat  No      0.039767  0.056797  0.136240  0.150152  0.183915  0.291990  \n",
      "     Yes     0.061375  0.035638  0.091797  0.153624  0.190502  0.325733  \n",
      "Sun  No      0.042347  0.059447  0.139780  0.161665  0.185185  0.252672  \n",
      "     Yes     0.154134  0.065660  0.097723  0.138122  0.215325  0.710345  \n",
      "Thur No      0.038774  0.072961  0.137741  0.153492  0.184843  0.266312  \n",
      "     Yes     0.039389  0.090014  0.148038  0.153846  0.194837  0.241255  \n",
      "\n",
      "[8 rows x 32 columns]\n",
      "\n"
     ]
    }
   ],
   "source": [
    "for agg_func in agg_func_list:\n",
    "    # DataFrameGroupBy object 测试\n",
    "    print(agg_func)\n",
    "    print(group_df.agg(agg_func), end='\\n\\n')"
   ],
   "metadata": {
    "collapsed": false,
    "pycharm": {
     "name": "#%%\n"
    }
   }
  },
  {
   "cell_type": "markdown",
   "source": [
    "## 直接调用"
   ],
   "metadata": {
    "collapsed": false,
    "pycharm": {
     "name": "#%% md\n"
    }
   }
  },
  {
   "cell_type": "code",
   "execution_count": 21,
   "outputs": [
    {
     "data": {
      "text/plain": "             total_bill       tip      size   tip_pct\nday  smoker                                          \nFri  No       18.420000  2.812500  2.250000  0.151650\n     Yes      16.813333  2.714000  2.066667  0.174783\nSat  No       19.661778  3.102889  2.555556  0.158048\n     Yes      21.276667  2.875476  2.476190  0.147906\nSun  No       20.506667  3.167895  2.929825  0.160113\n     Yes      24.120000  3.516842  2.578947  0.187250\nThur No       17.113111  2.673778  2.488889  0.160298\n     Yes      19.190588  3.030000  2.352941  0.163863",
      "text/html": "<div>\n<style scoped>\n    .dataframe tbody tr th:only-of-type {\n        vertical-align: middle;\n    }\n\n    .dataframe tbody tr th {\n        vertical-align: top;\n    }\n\n    .dataframe thead th {\n        text-align: right;\n    }\n</style>\n<table border=\"1\" class=\"dataframe\">\n  <thead>\n    <tr style=\"text-align: right;\">\n      <th></th>\n      <th></th>\n      <th>total_bill</th>\n      <th>tip</th>\n      <th>size</th>\n      <th>tip_pct</th>\n    </tr>\n    <tr>\n      <th>day</th>\n      <th>smoker</th>\n      <th></th>\n      <th></th>\n      <th></th>\n      <th></th>\n    </tr>\n  </thead>\n  <tbody>\n    <tr>\n      <th rowspan=\"2\" valign=\"top\">Fri</th>\n      <th>No</th>\n      <td>18.420000</td>\n      <td>2.812500</td>\n      <td>2.250000</td>\n      <td>0.151650</td>\n    </tr>\n    <tr>\n      <th>Yes</th>\n      <td>16.813333</td>\n      <td>2.714000</td>\n      <td>2.066667</td>\n      <td>0.174783</td>\n    </tr>\n    <tr>\n      <th rowspan=\"2\" valign=\"top\">Sat</th>\n      <th>No</th>\n      <td>19.661778</td>\n      <td>3.102889</td>\n      <td>2.555556</td>\n      <td>0.158048</td>\n    </tr>\n    <tr>\n      <th>Yes</th>\n      <td>21.276667</td>\n      <td>2.875476</td>\n      <td>2.476190</td>\n      <td>0.147906</td>\n    </tr>\n    <tr>\n      <th rowspan=\"2\" valign=\"top\">Sun</th>\n      <th>No</th>\n      <td>20.506667</td>\n      <td>3.167895</td>\n      <td>2.929825</td>\n      <td>0.160113</td>\n    </tr>\n    <tr>\n      <th>Yes</th>\n      <td>24.120000</td>\n      <td>3.516842</td>\n      <td>2.578947</td>\n      <td>0.187250</td>\n    </tr>\n    <tr>\n      <th rowspan=\"2\" valign=\"top\">Thur</th>\n      <th>No</th>\n      <td>17.113111</td>\n      <td>2.673778</td>\n      <td>2.488889</td>\n      <td>0.160298</td>\n    </tr>\n    <tr>\n      <th>Yes</th>\n      <td>19.190588</td>\n      <td>3.030000</td>\n      <td>2.352941</td>\n      <td>0.163863</td>\n    </tr>\n  </tbody>\n</table>\n</div>"
     },
     "execution_count": 21,
     "metadata": {},
     "output_type": "execute_result"
    }
   ],
   "source": [
    "group_df.mean()"
   ],
   "metadata": {
    "collapsed": false,
    "pycharm": {
     "name": "#%%\n"
    }
   }
  },
  {
   "cell_type": "code",
   "execution_count": 22,
   "outputs": [
    {
     "data": {
      "text/plain": "day   smoker\nFri   No        0.151650\n      Yes       0.174783\nSat   No        0.158048\n      Yes       0.147906\nSun   No        0.160113\n      Yes       0.187250\nThur  No        0.160298\n      Yes       0.163863\nName: tip_pct, dtype: float64"
     },
     "execution_count": 22,
     "metadata": {},
     "output_type": "execute_result"
    }
   ],
   "source": [
    "group_ser.mean()"
   ],
   "metadata": {
    "collapsed": false,
    "pycharm": {
     "name": "#%%\n"
    }
   }
  },
  {
   "cell_type": "markdown",
   "source": [
    "### 几个特殊内置groupby函数的说明\n",
    "* head,pct_chage,cumsum,cumprod不是聚合函数"
   ],
   "metadata": {
    "collapsed": false,
    "pycharm": {
     "name": "#%% md\n"
    }
   }
  },
  {
   "cell_type": "code",
   "execution_count": 23,
   "outputs": [
    {
     "data": {
      "text/plain": "     total_bill   tip smoker   day  size   tip_pct\n0         16.99  1.01     No   Sun     2  0.059447\n1         10.34  1.66     No   Sun     3  0.160542\n2         21.01  3.50     No   Sun     3  0.166587\n3         23.68  3.31     No   Sun     2  0.139780\n4         24.59  3.61     No   Sun     4  0.146808\n19        20.65  3.35     No   Sat     3  0.162228\n20        17.92  4.08     No   Sat     2  0.227679\n21        20.29  2.75     No   Sat     2  0.135535\n22        15.77  2.23     No   Sat     2  0.141408\n23        39.42  7.58     No   Sat     4  0.192288\n56        38.01  3.00    Yes   Sat     4  0.078927\n58        11.24  1.76    Yes   Sat     2  0.156584\n60        20.29  3.21    Yes   Sat     2  0.158206\n61        13.81  2.00    Yes   Sat     2  0.144823\n62        11.02  1.98    Yes   Sat     2  0.179673\n77        27.20  4.00     No  Thur     4  0.147059\n78        22.76  3.00     No  Thur     2  0.131810\n79        17.29  2.71     No  Thur     2  0.156738\n80        19.44  3.00    Yes  Thur     2  0.154321\n81        16.66  3.40     No  Thur     2  0.204082\n82        10.07  1.83     No  Thur     1  0.181728\n83        32.68  5.00    Yes  Thur     2  0.152999\n90        28.97  3.00    Yes   Fri     2  0.103555\n91        22.49  3.50     No   Fri     2  0.155625\n92         5.75  1.00    Yes   Fri     2  0.173913\n93        16.32  4.30    Yes   Fri     2  0.263480\n94        22.75  3.25     No   Fri     2  0.142857\n95        40.17  4.73    Yes   Fri     4  0.117750\n96        27.28  4.00    Yes   Fri     2  0.146628\n99        12.46  1.50     No   Fri     2  0.120385\n138       16.00  2.00    Yes  Thur     2  0.125000\n164       17.51  3.00    Yes   Sun     2  0.171331\n172        7.25  5.15    Yes   Sun     2  0.710345\n173       31.85  3.18    Yes   Sun     2  0.099843\n174       16.82  4.00    Yes   Sun     2  0.237812\n175       32.90  3.11    Yes   Sun     2  0.094529\n191       19.81  4.19    Yes  Thur     2  0.211509\n192       28.44  2.56    Yes  Thur     2  0.090014\n223       15.98  3.00     No   Fri     3  0.187735",
      "text/html": "<div>\n<style scoped>\n    .dataframe tbody tr th:only-of-type {\n        vertical-align: middle;\n    }\n\n    .dataframe tbody tr th {\n        vertical-align: top;\n    }\n\n    .dataframe thead th {\n        text-align: right;\n    }\n</style>\n<table border=\"1\" class=\"dataframe\">\n  <thead>\n    <tr style=\"text-align: right;\">\n      <th></th>\n      <th>total_bill</th>\n      <th>tip</th>\n      <th>smoker</th>\n      <th>day</th>\n      <th>size</th>\n      <th>tip_pct</th>\n    </tr>\n  </thead>\n  <tbody>\n    <tr>\n      <th>0</th>\n      <td>16.99</td>\n      <td>1.01</td>\n      <td>No</td>\n      <td>Sun</td>\n      <td>2</td>\n      <td>0.059447</td>\n    </tr>\n    <tr>\n      <th>1</th>\n      <td>10.34</td>\n      <td>1.66</td>\n      <td>No</td>\n      <td>Sun</td>\n      <td>3</td>\n      <td>0.160542</td>\n    </tr>\n    <tr>\n      <th>2</th>\n      <td>21.01</td>\n      <td>3.50</td>\n      <td>No</td>\n      <td>Sun</td>\n      <td>3</td>\n      <td>0.166587</td>\n    </tr>\n    <tr>\n      <th>3</th>\n      <td>23.68</td>\n      <td>3.31</td>\n      <td>No</td>\n      <td>Sun</td>\n      <td>2</td>\n      <td>0.139780</td>\n    </tr>\n    <tr>\n      <th>4</th>\n      <td>24.59</td>\n      <td>3.61</td>\n      <td>No</td>\n      <td>Sun</td>\n      <td>4</td>\n      <td>0.146808</td>\n    </tr>\n    <tr>\n      <th>19</th>\n      <td>20.65</td>\n      <td>3.35</td>\n      <td>No</td>\n      <td>Sat</td>\n      <td>3</td>\n      <td>0.162228</td>\n    </tr>\n    <tr>\n      <th>20</th>\n      <td>17.92</td>\n      <td>4.08</td>\n      <td>No</td>\n      <td>Sat</td>\n      <td>2</td>\n      <td>0.227679</td>\n    </tr>\n    <tr>\n      <th>21</th>\n      <td>20.29</td>\n      <td>2.75</td>\n      <td>No</td>\n      <td>Sat</td>\n      <td>2</td>\n      <td>0.135535</td>\n    </tr>\n    <tr>\n      <th>22</th>\n      <td>15.77</td>\n      <td>2.23</td>\n      <td>No</td>\n      <td>Sat</td>\n      <td>2</td>\n      <td>0.141408</td>\n    </tr>\n    <tr>\n      <th>23</th>\n      <td>39.42</td>\n      <td>7.58</td>\n      <td>No</td>\n      <td>Sat</td>\n      <td>4</td>\n      <td>0.192288</td>\n    </tr>\n    <tr>\n      <th>56</th>\n      <td>38.01</td>\n      <td>3.00</td>\n      <td>Yes</td>\n      <td>Sat</td>\n      <td>4</td>\n      <td>0.078927</td>\n    </tr>\n    <tr>\n      <th>58</th>\n      <td>11.24</td>\n      <td>1.76</td>\n      <td>Yes</td>\n      <td>Sat</td>\n      <td>2</td>\n      <td>0.156584</td>\n    </tr>\n    <tr>\n      <th>60</th>\n      <td>20.29</td>\n      <td>3.21</td>\n      <td>Yes</td>\n      <td>Sat</td>\n      <td>2</td>\n      <td>0.158206</td>\n    </tr>\n    <tr>\n      <th>61</th>\n      <td>13.81</td>\n      <td>2.00</td>\n      <td>Yes</td>\n      <td>Sat</td>\n      <td>2</td>\n      <td>0.144823</td>\n    </tr>\n    <tr>\n      <th>62</th>\n      <td>11.02</td>\n      <td>1.98</td>\n      <td>Yes</td>\n      <td>Sat</td>\n      <td>2</td>\n      <td>0.179673</td>\n    </tr>\n    <tr>\n      <th>77</th>\n      <td>27.20</td>\n      <td>4.00</td>\n      <td>No</td>\n      <td>Thur</td>\n      <td>4</td>\n      <td>0.147059</td>\n    </tr>\n    <tr>\n      <th>78</th>\n      <td>22.76</td>\n      <td>3.00</td>\n      <td>No</td>\n      <td>Thur</td>\n      <td>2</td>\n      <td>0.131810</td>\n    </tr>\n    <tr>\n      <th>79</th>\n      <td>17.29</td>\n      <td>2.71</td>\n      <td>No</td>\n      <td>Thur</td>\n      <td>2</td>\n      <td>0.156738</td>\n    </tr>\n    <tr>\n      <th>80</th>\n      <td>19.44</td>\n      <td>3.00</td>\n      <td>Yes</td>\n      <td>Thur</td>\n      <td>2</td>\n      <td>0.154321</td>\n    </tr>\n    <tr>\n      <th>81</th>\n      <td>16.66</td>\n      <td>3.40</td>\n      <td>No</td>\n      <td>Thur</td>\n      <td>2</td>\n      <td>0.204082</td>\n    </tr>\n    <tr>\n      <th>82</th>\n      <td>10.07</td>\n      <td>1.83</td>\n      <td>No</td>\n      <td>Thur</td>\n      <td>1</td>\n      <td>0.181728</td>\n    </tr>\n    <tr>\n      <th>83</th>\n      <td>32.68</td>\n      <td>5.00</td>\n      <td>Yes</td>\n      <td>Thur</td>\n      <td>2</td>\n      <td>0.152999</td>\n    </tr>\n    <tr>\n      <th>90</th>\n      <td>28.97</td>\n      <td>3.00</td>\n      <td>Yes</td>\n      <td>Fri</td>\n      <td>2</td>\n      <td>0.103555</td>\n    </tr>\n    <tr>\n      <th>91</th>\n      <td>22.49</td>\n      <td>3.50</td>\n      <td>No</td>\n      <td>Fri</td>\n      <td>2</td>\n      <td>0.155625</td>\n    </tr>\n    <tr>\n      <th>92</th>\n      <td>5.75</td>\n      <td>1.00</td>\n      <td>Yes</td>\n      <td>Fri</td>\n      <td>2</td>\n      <td>0.173913</td>\n    </tr>\n    <tr>\n      <th>93</th>\n      <td>16.32</td>\n      <td>4.30</td>\n      <td>Yes</td>\n      <td>Fri</td>\n      <td>2</td>\n      <td>0.263480</td>\n    </tr>\n    <tr>\n      <th>94</th>\n      <td>22.75</td>\n      <td>3.25</td>\n      <td>No</td>\n      <td>Fri</td>\n      <td>2</td>\n      <td>0.142857</td>\n    </tr>\n    <tr>\n      <th>95</th>\n      <td>40.17</td>\n      <td>4.73</td>\n      <td>Yes</td>\n      <td>Fri</td>\n      <td>4</td>\n      <td>0.117750</td>\n    </tr>\n    <tr>\n      <th>96</th>\n      <td>27.28</td>\n      <td>4.00</td>\n      <td>Yes</td>\n      <td>Fri</td>\n      <td>2</td>\n      <td>0.146628</td>\n    </tr>\n    <tr>\n      <th>99</th>\n      <td>12.46</td>\n      <td>1.50</td>\n      <td>No</td>\n      <td>Fri</td>\n      <td>2</td>\n      <td>0.120385</td>\n    </tr>\n    <tr>\n      <th>138</th>\n      <td>16.00</td>\n      <td>2.00</td>\n      <td>Yes</td>\n      <td>Thur</td>\n      <td>2</td>\n      <td>0.125000</td>\n    </tr>\n    <tr>\n      <th>164</th>\n      <td>17.51</td>\n      <td>3.00</td>\n      <td>Yes</td>\n      <td>Sun</td>\n      <td>2</td>\n      <td>0.171331</td>\n    </tr>\n    <tr>\n      <th>172</th>\n      <td>7.25</td>\n      <td>5.15</td>\n      <td>Yes</td>\n      <td>Sun</td>\n      <td>2</td>\n      <td>0.710345</td>\n    </tr>\n    <tr>\n      <th>173</th>\n      <td>31.85</td>\n      <td>3.18</td>\n      <td>Yes</td>\n      <td>Sun</td>\n      <td>2</td>\n      <td>0.099843</td>\n    </tr>\n    <tr>\n      <th>174</th>\n      <td>16.82</td>\n      <td>4.00</td>\n      <td>Yes</td>\n      <td>Sun</td>\n      <td>2</td>\n      <td>0.237812</td>\n    </tr>\n    <tr>\n      <th>175</th>\n      <td>32.90</td>\n      <td>3.11</td>\n      <td>Yes</td>\n      <td>Sun</td>\n      <td>2</td>\n      <td>0.094529</td>\n    </tr>\n    <tr>\n      <th>191</th>\n      <td>19.81</td>\n      <td>4.19</td>\n      <td>Yes</td>\n      <td>Thur</td>\n      <td>2</td>\n      <td>0.211509</td>\n    </tr>\n    <tr>\n      <th>192</th>\n      <td>28.44</td>\n      <td>2.56</td>\n      <td>Yes</td>\n      <td>Thur</td>\n      <td>2</td>\n      <td>0.090014</td>\n    </tr>\n    <tr>\n      <th>223</th>\n      <td>15.98</td>\n      <td>3.00</td>\n      <td>No</td>\n      <td>Fri</td>\n      <td>3</td>\n      <td>0.187735</td>\n    </tr>\n  </tbody>\n</table>\n</div>"
     },
     "execution_count": 23,
     "metadata": {},
     "output_type": "execute_result"
    }
   ],
   "source": [
    "group_df.head()  # 包含用于确定groupby的组"
   ],
   "metadata": {
    "collapsed": false,
    "pycharm": {
     "name": "#%%\n"
    }
   }
  },
  {
   "cell_type": "code",
   "execution_count": 24,
   "outputs": [
    {
     "data": {
      "text/plain": "     total_bill       tip      size   tip_pct\n0           NaN       NaN       NaN       NaN\n1     -0.391407  0.643564  0.500000  1.700596\n2      1.031915  1.108434  0.000000  0.037658\n3      0.127082 -0.054286 -0.333333 -0.160918\n4      0.038429  0.090634  1.000000  0.050273\n..          ...       ...       ...       ...\n239   -0.189785  0.267666  0.000000  0.564605\n240   -0.172099  0.709402  0.000000  1.064741\n241   -0.165931  0.000000  0.000000  0.198941\n242   -0.386152 -0.704392 -0.333333 -0.518434\n243    1.484127  1.083333  0.000000 -0.161342\n\n[244 rows x 4 columns]",
      "text/html": "<div>\n<style scoped>\n    .dataframe tbody tr th:only-of-type {\n        vertical-align: middle;\n    }\n\n    .dataframe tbody tr th {\n        vertical-align: top;\n    }\n\n    .dataframe thead th {\n        text-align: right;\n    }\n</style>\n<table border=\"1\" class=\"dataframe\">\n  <thead>\n    <tr style=\"text-align: right;\">\n      <th></th>\n      <th>total_bill</th>\n      <th>tip</th>\n      <th>size</th>\n      <th>tip_pct</th>\n    </tr>\n  </thead>\n  <tbody>\n    <tr>\n      <th>0</th>\n      <td>NaN</td>\n      <td>NaN</td>\n      <td>NaN</td>\n      <td>NaN</td>\n    </tr>\n    <tr>\n      <th>1</th>\n      <td>-0.391407</td>\n      <td>0.643564</td>\n      <td>0.500000</td>\n      <td>1.700596</td>\n    </tr>\n    <tr>\n      <th>2</th>\n      <td>1.031915</td>\n      <td>1.108434</td>\n      <td>0.000000</td>\n      <td>0.037658</td>\n    </tr>\n    <tr>\n      <th>3</th>\n      <td>0.127082</td>\n      <td>-0.054286</td>\n      <td>-0.333333</td>\n      <td>-0.160918</td>\n    </tr>\n    <tr>\n      <th>4</th>\n      <td>0.038429</td>\n      <td>0.090634</td>\n      <td>1.000000</td>\n      <td>0.050273</td>\n    </tr>\n    <tr>\n      <th>...</th>\n      <td>...</td>\n      <td>...</td>\n      <td>...</td>\n      <td>...</td>\n    </tr>\n    <tr>\n      <th>239</th>\n      <td>-0.189785</td>\n      <td>0.267666</td>\n      <td>0.000000</td>\n      <td>0.564605</td>\n    </tr>\n    <tr>\n      <th>240</th>\n      <td>-0.172099</td>\n      <td>0.709402</td>\n      <td>0.000000</td>\n      <td>1.064741</td>\n    </tr>\n    <tr>\n      <th>241</th>\n      <td>-0.165931</td>\n      <td>0.000000</td>\n      <td>0.000000</td>\n      <td>0.198941</td>\n    </tr>\n    <tr>\n      <th>242</th>\n      <td>-0.386152</td>\n      <td>-0.704392</td>\n      <td>-0.333333</td>\n      <td>-0.518434</td>\n    </tr>\n    <tr>\n      <th>243</th>\n      <td>1.484127</td>\n      <td>1.083333</td>\n      <td>0.000000</td>\n      <td>-0.161342</td>\n    </tr>\n  </tbody>\n</table>\n<p>244 rows × 4 columns</p>\n</div>"
     },
     "execution_count": 24,
     "metadata": {},
     "output_type": "execute_result"
    }
   ],
   "source": [
    "group_df.pct_change()"
   ],
   "metadata": {
    "collapsed": false,
    "pycharm": {
     "name": "#%%\n"
    }
   }
  },
  {
   "cell_type": "code",
   "execution_count": 25,
   "outputs": [
    {
     "data": {
      "text/plain": "                  total_bill     tip  size   tip_pct\nday  smoker                                         \nFri  No     0.25     15.1000  2.6250  2.00  0.137239\n            0.50     19.2350  3.1250  2.00  0.149241\n            0.75     22.5550  3.3125  2.25  0.163652\n     Yes    0.25     11.6900  1.9600  2.00  0.133739\n            0.50     13.4200  2.5000  2.00  0.173913\n            0.75     18.6650  3.2400  2.00  0.209240\nSat  No     0.25     14.7300  2.0100  2.00  0.136240\n            0.50     17.8200  2.7500  2.00  0.150152\n            0.75     20.6500  3.3900  3.00  0.183915\n     Yes    0.25     13.4050  2.0000  2.00  0.091797\n            0.50     20.3900  2.6900  2.00  0.153624\n            0.75     26.7925  3.1975  3.00  0.190502\nSun  No     0.25     14.7800  2.0000  2.00  0.139780\n            0.50     18.4300  3.0200  3.00  0.161665\n            0.75     25.0000  3.9200  4.00  0.185185\n     Yes    0.25     17.1650  3.0000  2.00  0.097723\n            0.50     23.1000  3.5000  2.00  0.138122\n            0.75     32.3750  4.0000  3.00  0.215325\nThur No     0.25     11.6900  1.8000  2.00  0.137741\n            0.50     15.9500  2.1800  2.00  0.153492\n            0.75     20.2700  3.0000  2.00  0.184843\n     Yes    0.25     13.5100  2.0000  2.00  0.148038\n            0.50     16.4700  2.5600  2.00  0.153846\n            0.75     19.8100  4.0000  2.00  0.194837",
      "text/html": "<div>\n<style scoped>\n    .dataframe tbody tr th:only-of-type {\n        vertical-align: middle;\n    }\n\n    .dataframe tbody tr th {\n        vertical-align: top;\n    }\n\n    .dataframe thead th {\n        text-align: right;\n    }\n</style>\n<table border=\"1\" class=\"dataframe\">\n  <thead>\n    <tr style=\"text-align: right;\">\n      <th></th>\n      <th></th>\n      <th></th>\n      <th>total_bill</th>\n      <th>tip</th>\n      <th>size</th>\n      <th>tip_pct</th>\n    </tr>\n    <tr>\n      <th>day</th>\n      <th>smoker</th>\n      <th></th>\n      <th></th>\n      <th></th>\n      <th></th>\n      <th></th>\n    </tr>\n  </thead>\n  <tbody>\n    <tr>\n      <th rowspan=\"6\" valign=\"top\">Fri</th>\n      <th rowspan=\"3\" valign=\"top\">No</th>\n      <th>0.25</th>\n      <td>15.1000</td>\n      <td>2.6250</td>\n      <td>2.00</td>\n      <td>0.137239</td>\n    </tr>\n    <tr>\n      <th>0.50</th>\n      <td>19.2350</td>\n      <td>3.1250</td>\n      <td>2.00</td>\n      <td>0.149241</td>\n    </tr>\n    <tr>\n      <th>0.75</th>\n      <td>22.5550</td>\n      <td>3.3125</td>\n      <td>2.25</td>\n      <td>0.163652</td>\n    </tr>\n    <tr>\n      <th rowspan=\"3\" valign=\"top\">Yes</th>\n      <th>0.25</th>\n      <td>11.6900</td>\n      <td>1.9600</td>\n      <td>2.00</td>\n      <td>0.133739</td>\n    </tr>\n    <tr>\n      <th>0.50</th>\n      <td>13.4200</td>\n      <td>2.5000</td>\n      <td>2.00</td>\n      <td>0.173913</td>\n    </tr>\n    <tr>\n      <th>0.75</th>\n      <td>18.6650</td>\n      <td>3.2400</td>\n      <td>2.00</td>\n      <td>0.209240</td>\n    </tr>\n    <tr>\n      <th rowspan=\"6\" valign=\"top\">Sat</th>\n      <th rowspan=\"3\" valign=\"top\">No</th>\n      <th>0.25</th>\n      <td>14.7300</td>\n      <td>2.0100</td>\n      <td>2.00</td>\n      <td>0.136240</td>\n    </tr>\n    <tr>\n      <th>0.50</th>\n      <td>17.8200</td>\n      <td>2.7500</td>\n      <td>2.00</td>\n      <td>0.150152</td>\n    </tr>\n    <tr>\n      <th>0.75</th>\n      <td>20.6500</td>\n      <td>3.3900</td>\n      <td>3.00</td>\n      <td>0.183915</td>\n    </tr>\n    <tr>\n      <th rowspan=\"3\" valign=\"top\">Yes</th>\n      <th>0.25</th>\n      <td>13.4050</td>\n      <td>2.0000</td>\n      <td>2.00</td>\n      <td>0.091797</td>\n    </tr>\n    <tr>\n      <th>0.50</th>\n      <td>20.3900</td>\n      <td>2.6900</td>\n      <td>2.00</td>\n      <td>0.153624</td>\n    </tr>\n    <tr>\n      <th>0.75</th>\n      <td>26.7925</td>\n      <td>3.1975</td>\n      <td>3.00</td>\n      <td>0.190502</td>\n    </tr>\n    <tr>\n      <th rowspan=\"6\" valign=\"top\">Sun</th>\n      <th rowspan=\"3\" valign=\"top\">No</th>\n      <th>0.25</th>\n      <td>14.7800</td>\n      <td>2.0000</td>\n      <td>2.00</td>\n      <td>0.139780</td>\n    </tr>\n    <tr>\n      <th>0.50</th>\n      <td>18.4300</td>\n      <td>3.0200</td>\n      <td>3.00</td>\n      <td>0.161665</td>\n    </tr>\n    <tr>\n      <th>0.75</th>\n      <td>25.0000</td>\n      <td>3.9200</td>\n      <td>4.00</td>\n      <td>0.185185</td>\n    </tr>\n    <tr>\n      <th rowspan=\"3\" valign=\"top\">Yes</th>\n      <th>0.25</th>\n      <td>17.1650</td>\n      <td>3.0000</td>\n      <td>2.00</td>\n      <td>0.097723</td>\n    </tr>\n    <tr>\n      <th>0.50</th>\n      <td>23.1000</td>\n      <td>3.5000</td>\n      <td>2.00</td>\n      <td>0.138122</td>\n    </tr>\n    <tr>\n      <th>0.75</th>\n      <td>32.3750</td>\n      <td>4.0000</td>\n      <td>3.00</td>\n      <td>0.215325</td>\n    </tr>\n    <tr>\n      <th rowspan=\"6\" valign=\"top\">Thur</th>\n      <th rowspan=\"3\" valign=\"top\">No</th>\n      <th>0.25</th>\n      <td>11.6900</td>\n      <td>1.8000</td>\n      <td>2.00</td>\n      <td>0.137741</td>\n    </tr>\n    <tr>\n      <th>0.50</th>\n      <td>15.9500</td>\n      <td>2.1800</td>\n      <td>2.00</td>\n      <td>0.153492</td>\n    </tr>\n    <tr>\n      <th>0.75</th>\n      <td>20.2700</td>\n      <td>3.0000</td>\n      <td>2.00</td>\n      <td>0.184843</td>\n    </tr>\n    <tr>\n      <th rowspan=\"3\" valign=\"top\">Yes</th>\n      <th>0.25</th>\n      <td>13.5100</td>\n      <td>2.0000</td>\n      <td>2.00</td>\n      <td>0.148038</td>\n    </tr>\n    <tr>\n      <th>0.50</th>\n      <td>16.4700</td>\n      <td>2.5600</td>\n      <td>2.00</td>\n      <td>0.153846</td>\n    </tr>\n    <tr>\n      <th>0.75</th>\n      <td>19.8100</td>\n      <td>4.0000</td>\n      <td>2.00</td>\n      <td>0.194837</td>\n    </tr>\n  </tbody>\n</table>\n</div>"
     },
     "execution_count": 25,
     "metadata": {},
     "output_type": "execute_result"
    }
   ],
   "source": [
    "group_df.quantile(q=[0.25, 0.5, 0.75])  # 默认q=0.5"
   ],
   "metadata": {
    "collapsed": false,
    "pycharm": {
     "name": "#%%\n"
    }
   }
  },
  {
   "cell_type": "code",
   "execution_count": 26,
   "outputs": [
    {
     "data": {
      "text/plain": "     total_bill     tip  size   tip_pct\n0         16.99    1.01     2  0.059447\n1         27.33    2.67     5  0.219988\n2         48.34    6.17     8  0.386576\n3         72.02    9.48    10  0.526356\n4         96.61   13.09    14  0.673164\n..          ...     ...   ...       ...\n239      866.96  137.88   113  7.013940\n240      870.95  118.77   102  6.123832\n241      893.62  120.77   104  6.212055\n242      884.78  139.63   115  7.112145\n243      770.09  120.32   112  7.213414\n\n[244 rows x 4 columns]",
      "text/html": "<div>\n<style scoped>\n    .dataframe tbody tr th:only-of-type {\n        vertical-align: middle;\n    }\n\n    .dataframe tbody tr th {\n        vertical-align: top;\n    }\n\n    .dataframe thead th {\n        text-align: right;\n    }\n</style>\n<table border=\"1\" class=\"dataframe\">\n  <thead>\n    <tr style=\"text-align: right;\">\n      <th></th>\n      <th>total_bill</th>\n      <th>tip</th>\n      <th>size</th>\n      <th>tip_pct</th>\n    </tr>\n  </thead>\n  <tbody>\n    <tr>\n      <th>0</th>\n      <td>16.99</td>\n      <td>1.01</td>\n      <td>2</td>\n      <td>0.059447</td>\n    </tr>\n    <tr>\n      <th>1</th>\n      <td>27.33</td>\n      <td>2.67</td>\n      <td>5</td>\n      <td>0.219988</td>\n    </tr>\n    <tr>\n      <th>2</th>\n      <td>48.34</td>\n      <td>6.17</td>\n      <td>8</td>\n      <td>0.386576</td>\n    </tr>\n    <tr>\n      <th>3</th>\n      <td>72.02</td>\n      <td>9.48</td>\n      <td>10</td>\n      <td>0.526356</td>\n    </tr>\n    <tr>\n      <th>4</th>\n      <td>96.61</td>\n      <td>13.09</td>\n      <td>14</td>\n      <td>0.673164</td>\n    </tr>\n    <tr>\n      <th>...</th>\n      <td>...</td>\n      <td>...</td>\n      <td>...</td>\n      <td>...</td>\n    </tr>\n    <tr>\n      <th>239</th>\n      <td>866.96</td>\n      <td>137.88</td>\n      <td>113</td>\n      <td>7.013940</td>\n    </tr>\n    <tr>\n      <th>240</th>\n      <td>870.95</td>\n      <td>118.77</td>\n      <td>102</td>\n      <td>6.123832</td>\n    </tr>\n    <tr>\n      <th>241</th>\n      <td>893.62</td>\n      <td>120.77</td>\n      <td>104</td>\n      <td>6.212055</td>\n    </tr>\n    <tr>\n      <th>242</th>\n      <td>884.78</td>\n      <td>139.63</td>\n      <td>115</td>\n      <td>7.112145</td>\n    </tr>\n    <tr>\n      <th>243</th>\n      <td>770.09</td>\n      <td>120.32</td>\n      <td>112</td>\n      <td>7.213414</td>\n    </tr>\n  </tbody>\n</table>\n<p>244 rows × 4 columns</p>\n</div>"
     },
     "execution_count": 26,
     "metadata": {},
     "output_type": "execute_result"
    }
   ],
   "source": [
    "group_df.cumsum()"
   ],
   "metadata": {
    "collapsed": false,
    "pycharm": {
     "name": "#%%\n"
    }
   }
  },
  {
   "cell_type": "code",
   "execution_count": 27,
   "outputs": [
    {
     "data": {
      "text/plain": "     total_bill   tip smoker   day  size   tip_pct\n0         16.99  1.01     No   Sun     2  0.059447\n1         10.34  1.66     No   Sun     3  0.160542\n2         21.01  3.50     No   Sun     3  0.166587\n3         23.68  3.31     No   Sun     2  0.139780\n4         24.59  3.61     No   Sun     4  0.146808\n19        20.65  3.35     No   Sat     3  0.162228\n20        17.92  4.08     No   Sat     2  0.227679\n21        20.29  2.75     No   Sat     2  0.135535\n22        15.77  2.23     No   Sat     2  0.141408\n23        39.42  7.58     No   Sat     4  0.192288\n56        38.01  3.00    Yes   Sat     4  0.078927\n58        11.24  1.76    Yes   Sat     2  0.156584\n60        20.29  3.21    Yes   Sat     2  0.158206\n61        13.81  2.00    Yes   Sat     2  0.144823\n62        11.02  1.98    Yes   Sat     2  0.179673\n77        27.20  4.00     No  Thur     4  0.147059\n78        22.76  3.00     No  Thur     2  0.131810\n79        17.29  2.71     No  Thur     2  0.156738\n80        19.44  3.00    Yes  Thur     2  0.154321\n81        16.66  3.40     No  Thur     2  0.204082\n82        10.07  1.83     No  Thur     1  0.181728\n83        32.68  5.00    Yes  Thur     2  0.152999\n90        28.97  3.00    Yes   Fri     2  0.103555\n91        22.49  3.50     No   Fri     2  0.155625\n92         5.75  1.00    Yes   Fri     2  0.173913\n93        16.32  4.30    Yes   Fri     2  0.263480\n94        22.75  3.25     No   Fri     2  0.142857\n95        40.17  4.73    Yes   Fri     4  0.117750\n96        27.28  4.00    Yes   Fri     2  0.146628\n99        12.46  1.50     No   Fri     2  0.120385\n138       16.00  2.00    Yes  Thur     2  0.125000\n164       17.51  3.00    Yes   Sun     2  0.171331\n172        7.25  5.15    Yes   Sun     2  0.710345\n173       31.85  3.18    Yes   Sun     2  0.099843\n174       16.82  4.00    Yes   Sun     2  0.237812\n175       32.90  3.11    Yes   Sun     2  0.094529\n191       19.81  4.19    Yes  Thur     2  0.211509\n192       28.44  2.56    Yes  Thur     2  0.090014\n223       15.98  3.00     No   Fri     3  0.187735",
      "text/html": "<div>\n<style scoped>\n    .dataframe tbody tr th:only-of-type {\n        vertical-align: middle;\n    }\n\n    .dataframe tbody tr th {\n        vertical-align: top;\n    }\n\n    .dataframe thead th {\n        text-align: right;\n    }\n</style>\n<table border=\"1\" class=\"dataframe\">\n  <thead>\n    <tr style=\"text-align: right;\">\n      <th></th>\n      <th>total_bill</th>\n      <th>tip</th>\n      <th>smoker</th>\n      <th>day</th>\n      <th>size</th>\n      <th>tip_pct</th>\n    </tr>\n  </thead>\n  <tbody>\n    <tr>\n      <th>0</th>\n      <td>16.99</td>\n      <td>1.01</td>\n      <td>No</td>\n      <td>Sun</td>\n      <td>2</td>\n      <td>0.059447</td>\n    </tr>\n    <tr>\n      <th>1</th>\n      <td>10.34</td>\n      <td>1.66</td>\n      <td>No</td>\n      <td>Sun</td>\n      <td>3</td>\n      <td>0.160542</td>\n    </tr>\n    <tr>\n      <th>2</th>\n      <td>21.01</td>\n      <td>3.50</td>\n      <td>No</td>\n      <td>Sun</td>\n      <td>3</td>\n      <td>0.166587</td>\n    </tr>\n    <tr>\n      <th>3</th>\n      <td>23.68</td>\n      <td>3.31</td>\n      <td>No</td>\n      <td>Sun</td>\n      <td>2</td>\n      <td>0.139780</td>\n    </tr>\n    <tr>\n      <th>4</th>\n      <td>24.59</td>\n      <td>3.61</td>\n      <td>No</td>\n      <td>Sun</td>\n      <td>4</td>\n      <td>0.146808</td>\n    </tr>\n    <tr>\n      <th>19</th>\n      <td>20.65</td>\n      <td>3.35</td>\n      <td>No</td>\n      <td>Sat</td>\n      <td>3</td>\n      <td>0.162228</td>\n    </tr>\n    <tr>\n      <th>20</th>\n      <td>17.92</td>\n      <td>4.08</td>\n      <td>No</td>\n      <td>Sat</td>\n      <td>2</td>\n      <td>0.227679</td>\n    </tr>\n    <tr>\n      <th>21</th>\n      <td>20.29</td>\n      <td>2.75</td>\n      <td>No</td>\n      <td>Sat</td>\n      <td>2</td>\n      <td>0.135535</td>\n    </tr>\n    <tr>\n      <th>22</th>\n      <td>15.77</td>\n      <td>2.23</td>\n      <td>No</td>\n      <td>Sat</td>\n      <td>2</td>\n      <td>0.141408</td>\n    </tr>\n    <tr>\n      <th>23</th>\n      <td>39.42</td>\n      <td>7.58</td>\n      <td>No</td>\n      <td>Sat</td>\n      <td>4</td>\n      <td>0.192288</td>\n    </tr>\n    <tr>\n      <th>56</th>\n      <td>38.01</td>\n      <td>3.00</td>\n      <td>Yes</td>\n      <td>Sat</td>\n      <td>4</td>\n      <td>0.078927</td>\n    </tr>\n    <tr>\n      <th>58</th>\n      <td>11.24</td>\n      <td>1.76</td>\n      <td>Yes</td>\n      <td>Sat</td>\n      <td>2</td>\n      <td>0.156584</td>\n    </tr>\n    <tr>\n      <th>60</th>\n      <td>20.29</td>\n      <td>3.21</td>\n      <td>Yes</td>\n      <td>Sat</td>\n      <td>2</td>\n      <td>0.158206</td>\n    </tr>\n    <tr>\n      <th>61</th>\n      <td>13.81</td>\n      <td>2.00</td>\n      <td>Yes</td>\n      <td>Sat</td>\n      <td>2</td>\n      <td>0.144823</td>\n    </tr>\n    <tr>\n      <th>62</th>\n      <td>11.02</td>\n      <td>1.98</td>\n      <td>Yes</td>\n      <td>Sat</td>\n      <td>2</td>\n      <td>0.179673</td>\n    </tr>\n    <tr>\n      <th>77</th>\n      <td>27.20</td>\n      <td>4.00</td>\n      <td>No</td>\n      <td>Thur</td>\n      <td>4</td>\n      <td>0.147059</td>\n    </tr>\n    <tr>\n      <th>78</th>\n      <td>22.76</td>\n      <td>3.00</td>\n      <td>No</td>\n      <td>Thur</td>\n      <td>2</td>\n      <td>0.131810</td>\n    </tr>\n    <tr>\n      <th>79</th>\n      <td>17.29</td>\n      <td>2.71</td>\n      <td>No</td>\n      <td>Thur</td>\n      <td>2</td>\n      <td>0.156738</td>\n    </tr>\n    <tr>\n      <th>80</th>\n      <td>19.44</td>\n      <td>3.00</td>\n      <td>Yes</td>\n      <td>Thur</td>\n      <td>2</td>\n      <td>0.154321</td>\n    </tr>\n    <tr>\n      <th>81</th>\n      <td>16.66</td>\n      <td>3.40</td>\n      <td>No</td>\n      <td>Thur</td>\n      <td>2</td>\n      <td>0.204082</td>\n    </tr>\n    <tr>\n      <th>82</th>\n      <td>10.07</td>\n      <td>1.83</td>\n      <td>No</td>\n      <td>Thur</td>\n      <td>1</td>\n      <td>0.181728</td>\n    </tr>\n    <tr>\n      <th>83</th>\n      <td>32.68</td>\n      <td>5.00</td>\n      <td>Yes</td>\n      <td>Thur</td>\n      <td>2</td>\n      <td>0.152999</td>\n    </tr>\n    <tr>\n      <th>90</th>\n      <td>28.97</td>\n      <td>3.00</td>\n      <td>Yes</td>\n      <td>Fri</td>\n      <td>2</td>\n      <td>0.103555</td>\n    </tr>\n    <tr>\n      <th>91</th>\n      <td>22.49</td>\n      <td>3.50</td>\n      <td>No</td>\n      <td>Fri</td>\n      <td>2</td>\n      <td>0.155625</td>\n    </tr>\n    <tr>\n      <th>92</th>\n      <td>5.75</td>\n      <td>1.00</td>\n      <td>Yes</td>\n      <td>Fri</td>\n      <td>2</td>\n      <td>0.173913</td>\n    </tr>\n    <tr>\n      <th>93</th>\n      <td>16.32</td>\n      <td>4.30</td>\n      <td>Yes</td>\n      <td>Fri</td>\n      <td>2</td>\n      <td>0.263480</td>\n    </tr>\n    <tr>\n      <th>94</th>\n      <td>22.75</td>\n      <td>3.25</td>\n      <td>No</td>\n      <td>Fri</td>\n      <td>2</td>\n      <td>0.142857</td>\n    </tr>\n    <tr>\n      <th>95</th>\n      <td>40.17</td>\n      <td>4.73</td>\n      <td>Yes</td>\n      <td>Fri</td>\n      <td>4</td>\n      <td>0.117750</td>\n    </tr>\n    <tr>\n      <th>96</th>\n      <td>27.28</td>\n      <td>4.00</td>\n      <td>Yes</td>\n      <td>Fri</td>\n      <td>2</td>\n      <td>0.146628</td>\n    </tr>\n    <tr>\n      <th>99</th>\n      <td>12.46</td>\n      <td>1.50</td>\n      <td>No</td>\n      <td>Fri</td>\n      <td>2</td>\n      <td>0.120385</td>\n    </tr>\n    <tr>\n      <th>138</th>\n      <td>16.00</td>\n      <td>2.00</td>\n      <td>Yes</td>\n      <td>Thur</td>\n      <td>2</td>\n      <td>0.125000</td>\n    </tr>\n    <tr>\n      <th>164</th>\n      <td>17.51</td>\n      <td>3.00</td>\n      <td>Yes</td>\n      <td>Sun</td>\n      <td>2</td>\n      <td>0.171331</td>\n    </tr>\n    <tr>\n      <th>172</th>\n      <td>7.25</td>\n      <td>5.15</td>\n      <td>Yes</td>\n      <td>Sun</td>\n      <td>2</td>\n      <td>0.710345</td>\n    </tr>\n    <tr>\n      <th>173</th>\n      <td>31.85</td>\n      <td>3.18</td>\n      <td>Yes</td>\n      <td>Sun</td>\n      <td>2</td>\n      <td>0.099843</td>\n    </tr>\n    <tr>\n      <th>174</th>\n      <td>16.82</td>\n      <td>4.00</td>\n      <td>Yes</td>\n      <td>Sun</td>\n      <td>2</td>\n      <td>0.237812</td>\n    </tr>\n    <tr>\n      <th>175</th>\n      <td>32.90</td>\n      <td>3.11</td>\n      <td>Yes</td>\n      <td>Sun</td>\n      <td>2</td>\n      <td>0.094529</td>\n    </tr>\n    <tr>\n      <th>191</th>\n      <td>19.81</td>\n      <td>4.19</td>\n      <td>Yes</td>\n      <td>Thur</td>\n      <td>2</td>\n      <td>0.211509</td>\n    </tr>\n    <tr>\n      <th>192</th>\n      <td>28.44</td>\n      <td>2.56</td>\n      <td>Yes</td>\n      <td>Thur</td>\n      <td>2</td>\n      <td>0.090014</td>\n    </tr>\n    <tr>\n      <th>223</th>\n      <td>15.98</td>\n      <td>3.00</td>\n      <td>No</td>\n      <td>Fri</td>\n      <td>3</td>\n      <td>0.187735</td>\n    </tr>\n  </tbody>\n</table>\n</div>"
     },
     "execution_count": 27,
     "metadata": {},
     "output_type": "execute_result"
    }
   ],
   "source": [
    "group_df.agg('head')  # head,pct_chage,cumsum,cumprod不合适使用agg函数进行数据聚合"
   ],
   "metadata": {
    "collapsed": false,
    "pycharm": {
     "name": "#%%\n"
    }
   }
  },
  {
   "cell_type": "code",
   "execution_count": 28,
   "outputs": [
    {
     "data": {
      "text/plain": "                 total_bill   tip smoker   day  size   tip_pct\nday  smoker                                                   \nFri  No     91        22.49  3.50     No   Fri     2  0.155625\n            94        22.75  3.25     No   Fri     2  0.142857\n            99        12.46  1.50     No   Fri     2  0.120385\n            223       15.98  3.00     No   Fri     3  0.187735\n     Yes    90        28.97  3.00    Yes   Fri     2  0.103555\n            92         5.75  1.00    Yes   Fri     2  0.173913\n            93        16.32  4.30    Yes   Fri     2  0.263480\n            95        40.17  4.73    Yes   Fri     4  0.117750\n            96        27.28  4.00    Yes   Fri     2  0.146628\nSat  No     19        20.65  3.35     No   Sat     3  0.162228\n            20        17.92  4.08     No   Sat     2  0.227679\n            21        20.29  2.75     No   Sat     2  0.135535\n            22        15.77  2.23     No   Sat     2  0.141408\n            23        39.42  7.58     No   Sat     4  0.192288\n     Yes    56        38.01  3.00    Yes   Sat     4  0.078927\n            58        11.24  1.76    Yes   Sat     2  0.156584\n            60        20.29  3.21    Yes   Sat     2  0.158206\n            61        13.81  2.00    Yes   Sat     2  0.144823\n            62        11.02  1.98    Yes   Sat     2  0.179673\nSun  No     0         16.99  1.01     No   Sun     2  0.059447\n            1         10.34  1.66     No   Sun     3  0.160542\n            2         21.01  3.50     No   Sun     3  0.166587\n            3         23.68  3.31     No   Sun     2  0.139780\n            4         24.59  3.61     No   Sun     4  0.146808\n     Yes    164       17.51  3.00    Yes   Sun     2  0.171331\n            172        7.25  5.15    Yes   Sun     2  0.710345\n            173       31.85  3.18    Yes   Sun     2  0.099843\n            174       16.82  4.00    Yes   Sun     2  0.237812\n            175       32.90  3.11    Yes   Sun     2  0.094529\nThur No     77        27.20  4.00     No  Thur     4  0.147059\n            78        22.76  3.00     No  Thur     2  0.131810\n            79        17.29  2.71     No  Thur     2  0.156738\n            81        16.66  3.40     No  Thur     2  0.204082\n            82        10.07  1.83     No  Thur     1  0.181728\n     Yes    80        19.44  3.00    Yes  Thur     2  0.154321\n            83        32.68  5.00    Yes  Thur     2  0.152999\n            138       16.00  2.00    Yes  Thur     2  0.125000\n            191       19.81  4.19    Yes  Thur     2  0.211509\n            192       28.44  2.56    Yes  Thur     2  0.090014",
      "text/html": "<div>\n<style scoped>\n    .dataframe tbody tr th:only-of-type {\n        vertical-align: middle;\n    }\n\n    .dataframe tbody tr th {\n        vertical-align: top;\n    }\n\n    .dataframe thead th {\n        text-align: right;\n    }\n</style>\n<table border=\"1\" class=\"dataframe\">\n  <thead>\n    <tr style=\"text-align: right;\">\n      <th></th>\n      <th></th>\n      <th></th>\n      <th>total_bill</th>\n      <th>tip</th>\n      <th>smoker</th>\n      <th>day</th>\n      <th>size</th>\n      <th>tip_pct</th>\n    </tr>\n    <tr>\n      <th>day</th>\n      <th>smoker</th>\n      <th></th>\n      <th></th>\n      <th></th>\n      <th></th>\n      <th></th>\n      <th></th>\n      <th></th>\n    </tr>\n  </thead>\n  <tbody>\n    <tr>\n      <th rowspan=\"9\" valign=\"top\">Fri</th>\n      <th rowspan=\"4\" valign=\"top\">No</th>\n      <th>91</th>\n      <td>22.49</td>\n      <td>3.50</td>\n      <td>No</td>\n      <td>Fri</td>\n      <td>2</td>\n      <td>0.155625</td>\n    </tr>\n    <tr>\n      <th>94</th>\n      <td>22.75</td>\n      <td>3.25</td>\n      <td>No</td>\n      <td>Fri</td>\n      <td>2</td>\n      <td>0.142857</td>\n    </tr>\n    <tr>\n      <th>99</th>\n      <td>12.46</td>\n      <td>1.50</td>\n      <td>No</td>\n      <td>Fri</td>\n      <td>2</td>\n      <td>0.120385</td>\n    </tr>\n    <tr>\n      <th>223</th>\n      <td>15.98</td>\n      <td>3.00</td>\n      <td>No</td>\n      <td>Fri</td>\n      <td>3</td>\n      <td>0.187735</td>\n    </tr>\n    <tr>\n      <th rowspan=\"5\" valign=\"top\">Yes</th>\n      <th>90</th>\n      <td>28.97</td>\n      <td>3.00</td>\n      <td>Yes</td>\n      <td>Fri</td>\n      <td>2</td>\n      <td>0.103555</td>\n    </tr>\n    <tr>\n      <th>92</th>\n      <td>5.75</td>\n      <td>1.00</td>\n      <td>Yes</td>\n      <td>Fri</td>\n      <td>2</td>\n      <td>0.173913</td>\n    </tr>\n    <tr>\n      <th>93</th>\n      <td>16.32</td>\n      <td>4.30</td>\n      <td>Yes</td>\n      <td>Fri</td>\n      <td>2</td>\n      <td>0.263480</td>\n    </tr>\n    <tr>\n      <th>95</th>\n      <td>40.17</td>\n      <td>4.73</td>\n      <td>Yes</td>\n      <td>Fri</td>\n      <td>4</td>\n      <td>0.117750</td>\n    </tr>\n    <tr>\n      <th>96</th>\n      <td>27.28</td>\n      <td>4.00</td>\n      <td>Yes</td>\n      <td>Fri</td>\n      <td>2</td>\n      <td>0.146628</td>\n    </tr>\n    <tr>\n      <th rowspan=\"10\" valign=\"top\">Sat</th>\n      <th rowspan=\"5\" valign=\"top\">No</th>\n      <th>19</th>\n      <td>20.65</td>\n      <td>3.35</td>\n      <td>No</td>\n      <td>Sat</td>\n      <td>3</td>\n      <td>0.162228</td>\n    </tr>\n    <tr>\n      <th>20</th>\n      <td>17.92</td>\n      <td>4.08</td>\n      <td>No</td>\n      <td>Sat</td>\n      <td>2</td>\n      <td>0.227679</td>\n    </tr>\n    <tr>\n      <th>21</th>\n      <td>20.29</td>\n      <td>2.75</td>\n      <td>No</td>\n      <td>Sat</td>\n      <td>2</td>\n      <td>0.135535</td>\n    </tr>\n    <tr>\n      <th>22</th>\n      <td>15.77</td>\n      <td>2.23</td>\n      <td>No</td>\n      <td>Sat</td>\n      <td>2</td>\n      <td>0.141408</td>\n    </tr>\n    <tr>\n      <th>23</th>\n      <td>39.42</td>\n      <td>7.58</td>\n      <td>No</td>\n      <td>Sat</td>\n      <td>4</td>\n      <td>0.192288</td>\n    </tr>\n    <tr>\n      <th rowspan=\"5\" valign=\"top\">Yes</th>\n      <th>56</th>\n      <td>38.01</td>\n      <td>3.00</td>\n      <td>Yes</td>\n      <td>Sat</td>\n      <td>4</td>\n      <td>0.078927</td>\n    </tr>\n    <tr>\n      <th>58</th>\n      <td>11.24</td>\n      <td>1.76</td>\n      <td>Yes</td>\n      <td>Sat</td>\n      <td>2</td>\n      <td>0.156584</td>\n    </tr>\n    <tr>\n      <th>60</th>\n      <td>20.29</td>\n      <td>3.21</td>\n      <td>Yes</td>\n      <td>Sat</td>\n      <td>2</td>\n      <td>0.158206</td>\n    </tr>\n    <tr>\n      <th>61</th>\n      <td>13.81</td>\n      <td>2.00</td>\n      <td>Yes</td>\n      <td>Sat</td>\n      <td>2</td>\n      <td>0.144823</td>\n    </tr>\n    <tr>\n      <th>62</th>\n      <td>11.02</td>\n      <td>1.98</td>\n      <td>Yes</td>\n      <td>Sat</td>\n      <td>2</td>\n      <td>0.179673</td>\n    </tr>\n    <tr>\n      <th rowspan=\"10\" valign=\"top\">Sun</th>\n      <th rowspan=\"5\" valign=\"top\">No</th>\n      <th>0</th>\n      <td>16.99</td>\n      <td>1.01</td>\n      <td>No</td>\n      <td>Sun</td>\n      <td>2</td>\n      <td>0.059447</td>\n    </tr>\n    <tr>\n      <th>1</th>\n      <td>10.34</td>\n      <td>1.66</td>\n      <td>No</td>\n      <td>Sun</td>\n      <td>3</td>\n      <td>0.160542</td>\n    </tr>\n    <tr>\n      <th>2</th>\n      <td>21.01</td>\n      <td>3.50</td>\n      <td>No</td>\n      <td>Sun</td>\n      <td>3</td>\n      <td>0.166587</td>\n    </tr>\n    <tr>\n      <th>3</th>\n      <td>23.68</td>\n      <td>3.31</td>\n      <td>No</td>\n      <td>Sun</td>\n      <td>2</td>\n      <td>0.139780</td>\n    </tr>\n    <tr>\n      <th>4</th>\n      <td>24.59</td>\n      <td>3.61</td>\n      <td>No</td>\n      <td>Sun</td>\n      <td>4</td>\n      <td>0.146808</td>\n    </tr>\n    <tr>\n      <th rowspan=\"5\" valign=\"top\">Yes</th>\n      <th>164</th>\n      <td>17.51</td>\n      <td>3.00</td>\n      <td>Yes</td>\n      <td>Sun</td>\n      <td>2</td>\n      <td>0.171331</td>\n    </tr>\n    <tr>\n      <th>172</th>\n      <td>7.25</td>\n      <td>5.15</td>\n      <td>Yes</td>\n      <td>Sun</td>\n      <td>2</td>\n      <td>0.710345</td>\n    </tr>\n    <tr>\n      <th>173</th>\n      <td>31.85</td>\n      <td>3.18</td>\n      <td>Yes</td>\n      <td>Sun</td>\n      <td>2</td>\n      <td>0.099843</td>\n    </tr>\n    <tr>\n      <th>174</th>\n      <td>16.82</td>\n      <td>4.00</td>\n      <td>Yes</td>\n      <td>Sun</td>\n      <td>2</td>\n      <td>0.237812</td>\n    </tr>\n    <tr>\n      <th>175</th>\n      <td>32.90</td>\n      <td>3.11</td>\n      <td>Yes</td>\n      <td>Sun</td>\n      <td>2</td>\n      <td>0.094529</td>\n    </tr>\n    <tr>\n      <th rowspan=\"10\" valign=\"top\">Thur</th>\n      <th rowspan=\"5\" valign=\"top\">No</th>\n      <th>77</th>\n      <td>27.20</td>\n      <td>4.00</td>\n      <td>No</td>\n      <td>Thur</td>\n      <td>4</td>\n      <td>0.147059</td>\n    </tr>\n    <tr>\n      <th>78</th>\n      <td>22.76</td>\n      <td>3.00</td>\n      <td>No</td>\n      <td>Thur</td>\n      <td>2</td>\n      <td>0.131810</td>\n    </tr>\n    <tr>\n      <th>79</th>\n      <td>17.29</td>\n      <td>2.71</td>\n      <td>No</td>\n      <td>Thur</td>\n      <td>2</td>\n      <td>0.156738</td>\n    </tr>\n    <tr>\n      <th>81</th>\n      <td>16.66</td>\n      <td>3.40</td>\n      <td>No</td>\n      <td>Thur</td>\n      <td>2</td>\n      <td>0.204082</td>\n    </tr>\n    <tr>\n      <th>82</th>\n      <td>10.07</td>\n      <td>1.83</td>\n      <td>No</td>\n      <td>Thur</td>\n      <td>1</td>\n      <td>0.181728</td>\n    </tr>\n    <tr>\n      <th rowspan=\"5\" valign=\"top\">Yes</th>\n      <th>80</th>\n      <td>19.44</td>\n      <td>3.00</td>\n      <td>Yes</td>\n      <td>Thur</td>\n      <td>2</td>\n      <td>0.154321</td>\n    </tr>\n    <tr>\n      <th>83</th>\n      <td>32.68</td>\n      <td>5.00</td>\n      <td>Yes</td>\n      <td>Thur</td>\n      <td>2</td>\n      <td>0.152999</td>\n    </tr>\n    <tr>\n      <th>138</th>\n      <td>16.00</td>\n      <td>2.00</td>\n      <td>Yes</td>\n      <td>Thur</td>\n      <td>2</td>\n      <td>0.125000</td>\n    </tr>\n    <tr>\n      <th>191</th>\n      <td>19.81</td>\n      <td>4.19</td>\n      <td>Yes</td>\n      <td>Thur</td>\n      <td>2</td>\n      <td>0.211509</td>\n    </tr>\n    <tr>\n      <th>192</th>\n      <td>28.44</td>\n      <td>2.56</td>\n      <td>Yes</td>\n      <td>Thur</td>\n      <td>2</td>\n      <td>0.090014</td>\n    </tr>\n  </tbody>\n</table>\n</div>"
     },
     "execution_count": 28,
     "metadata": {},
     "output_type": "execute_result"
    }
   ],
   "source": [
    "def data_head(group):\n",
    "    return group.head()\n",
    "\n",
    "\n",
    "group_df.apply(data_head)  # 效果更好\n",
    "\n"
   ],
   "metadata": {
    "collapsed": false,
    "pycharm": {
     "name": "#%%\n"
    }
   }
  }
 ],
 "metadata": {
  "kernelspec": {
   "name": "python3",
   "language": "python",
   "display_name": "Python 3"
  },
  "language_info": {
   "codemirror_mode": {
    "name": "ipython",
    "version": 2
   },
   "file_extension": ".py",
   "mimetype": "text/x-python",
   "name": "python",
   "nbconvert_exporter": "python",
   "pygments_lexer": "ipython2",
   "version": "2.7.6"
  }
 },
 "nbformat": 4,
 "nbformat_minor": 0
}