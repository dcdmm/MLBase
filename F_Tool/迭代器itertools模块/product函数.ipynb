{
 "cells": [
  {
   "cell_type": "code",
   "execution_count": 2,
   "metadata": {
    "collapsed": true,
    "pycharm": {
     "is_executing": false
    }
   },
   "outputs": [
    {
     "name": "stdout",
     "text": [
      "不重复：\n",
      "('a', '1')\n",
      "('a', '2')\n",
      "('b', '1')\n",
      "('b', '2')\n",
      "重复3次：\n",
      "('a', 'a', 'a')\n",
      "('a', 'a', 'b')\n",
      "('a', 'b', 'a')\n",
      "('a', 'b', 'b')\n",
      "('b', 'a', 'a')\n",
      "('b', 'a', 'b')\n",
      "('b', 'b', 'a')\n",
      "('b', 'b', 'b')\n"
     ],
     "output_type": "stream"
    }
   ],
   "source": [
    "import itertools\n",
    "\n",
    "print('不重复：')\n",
    "for i in itertools.product('ab', '12'):  # 笛卡尔积\n",
    "    print(i)\n",
    "\n",
    "print('重复3次：')\n",
    "for i in itertools.product('ab', repeat=3):  # 默认repeat=1\n",
    "    print(i)"
   ]
  },
  {
   "cell_type": "code",
   "execution_count": 2,
   "outputs": [
    {
     "name": "stdout",
     "output_type": "stream",
     "text": [
      "1\n",
      "3\n",
      "5\n",
      "7\n",
      "9\n",
      "11\n",
      "13\n",
      "15\n",
      "17\n",
      "19\n",
      "21\n",
      "23\n",
      "25\n",
      "27\n",
      "29\n",
      "31\n",
      "33\n",
      "35\n",
      "37\n",
      "39\n",
      "41\n",
      "43\n",
      "45\n",
      "47\n",
      "49\n",
      "51\n",
      "53\n",
      "55\n",
      "57\n",
      "59\n",
      "61\n",
      "63\n",
      "65\n",
      "67\n",
      "69\n",
      "71\n",
      "73\n",
      "75\n",
      "77\n",
      "79\n",
      "81\n",
      "83\n",
      "85\n",
      "87\n",
      "89\n",
      "91\n",
      "93\n",
      "95\n",
      "97\n",
      "99\n"
     ]
    }
   ],
   "source": [
    "# 返回n以内的奇数\n",
    "def odds(n):\n",
    "    for i in range(1, n + 1):\n",
    "        if i % 2 == 1:\n",
    "            yield i\n",
    "\n",
    "\n",
    "for i in odds(100):\n",
    "    print(i)"
   ],
   "metadata": {
    "collapsed": false,
    "pycharm": {
     "name": "#%%\n"
    }
   }
  },
  {
   "cell_type": "code",
   "execution_count": null,
   "outputs": [],
   "source": [
    "\n",
    "#返回n以内的奇数\n",
    "def odds(n):\n",
    "\n",
    "\n",
    "    ret = []\n",
    "for i in xrange(1, n + 1):\n",
    "    if i % 2 == 1:\n",
    "    ret.append(i)\n",
    "return ret\n",
    "for i in odds(1000):\n",
    "    print(i)\n",
    " \n",
    "\n",
    "\n"
   ],
   "metadata": {
    "collapsed": false,
    "pycharm": {
     "name": "#%%\n"
    }
   }
  }
 ],
 "metadata": {
  "kernelspec": {
   "display_name": "Python 3",
   "language": "python",
   "name": "python3"
  },
  "language_info": {
   "codemirror_mode": {
    "name": "ipython",
    "version": 2
   },
   "file_extension": ".py",
   "mimetype": "text/x-python",
   "name": "python",
   "nbconvert_exporter": "python",
   "pygments_lexer": "ipython2",
   "version": "2.7.6"
  }
 },
 "nbformat": 4,
 "nbformat_minor": 0
}