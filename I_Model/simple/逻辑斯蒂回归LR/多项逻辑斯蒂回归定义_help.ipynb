{
 "cells": [
  {
   "cell_type": "markdown",
   "source": [
    "&emsp;&emsp;多项逻辑斯蒂回归模型(multi-nominal logistic regression model),用于多类分类.\n",
    "假设离散型随机变量$Y$的取值集合是$\\{ 1,2,\\cdots,K \\}$,那么多项逻辑斯蒂回归模型是:\n",
    "\n",
    "\\begin{array}{l}\n",
    "P(Y=k \\mid \\mathbf{x})=\\frac{\\exp \\left(\\mathbf{w}_{k} \\cdot \\mathbf{x} \\right)}{1+\\sum_{k=1}^{K-1} \\exp \\left(\\mathbf{w}_{k} \\cdot \\mathbf{x} \\right)}, \\quad k=1,2, \\cdots, K-1 \\\\\n",
    "P(Y=K \\mid \\mathbf{x})=\\frac{1}{1+\\sum_{k=1}^{K-1} \\exp \\left(\\mathbf{w}_{k} \\cdot \\mathbf{x} \\right)}\n",
    "\\end{array}\n",
    "\n",
    "这里,$\\mathbf{x} \\in \\mathbf{R}^{n+1},\\mathbf{w}_k \\in \\mathbf{R}^{n+1}$"
   ],
   "metadata": {
    "collapsed": false,
    "pycharm": {
     "name": "#%% md\n"
    }
   }
  }
 ],
 "metadata": {
  "kernelspec": {
   "display_name": "Python 3",
   "language": "python",
   "name": "python3"
  },
  "language_info": {
   "codemirror_mode": {
    "name": "ipython",
    "version": 2
   },
   "file_extension": ".py",
   "mimetype": "text/x-python",
   "name": "python",
   "nbconvert_exporter": "python",
   "pygments_lexer": "ipython2",
   "version": "2.7.6"
  }
 },
 "nbformat": 4,
 "nbformat_minor": 0
}