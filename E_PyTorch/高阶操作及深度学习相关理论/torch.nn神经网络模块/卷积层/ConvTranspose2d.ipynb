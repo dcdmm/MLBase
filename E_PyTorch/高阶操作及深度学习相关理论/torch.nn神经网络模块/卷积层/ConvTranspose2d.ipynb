{
 "cells": [
  {
   "cell_type": "markdown",
   "metadata": {
    "collapsed": true,
    "pycharm": {
     "name": "#%% md\n"
    }
   },
   "source": [
    "input:$(N, C_{in}, H_{in}, W_{in})$\n",
    "\n",
    "output:$N, C_{out}, H_{out}, W_{out}$\n",
    "\n",
    "$$ H_{out} = (H_{in} - 1) \\times stride[0] -2 \\times padding[0] + dilation[0]×(kernel\\_size[0]−1) + output\\_padding[0] + 1 $$\n",
    "\n",
    "$$ W_{out} = (W_{in} - 1) \\times stride[1] -2 \\times padding[1] + dilation[1]×(kernel\\_size[1]−1) + output\\_padding[1] + 1 $$"
   ]
  },
  {
   "cell_type": "code",
   "execution_count": 16,
   "metadata": {
    "pycharm": {
     "name": "#%%\n"
    }
   },
   "outputs": [],
   "source": [
    "import torch.nn as nn\n",
    "import torch"
   ]
  },
  {
   "cell_type": "code",
   "execution_count": 17,
   "metadata": {
    "pycharm": {
     "name": "#%%\n"
    }
   },
   "outputs": [
    {
     "data": {
      "text/plain": "torch.Size([100, 33, 24, 24])"
     },
     "execution_count": 17,
     "metadata": {},
     "output_type": "execute_result"
    }
   ],
   "source": [
    "input_tensor = torch.randn((100, 16, 50, 50))\n",
    "conv2d_c0 = nn.Conv2d(in_channels=16, out_channels=33, bias=True,\n",
    "                      kernel_size=3, padding=2,\n",
    "                      stride=2, dilation=3)\n",
    "conv2d_c0_re = conv2d_c0(input_tensor)\n",
    "conv2d_c0_re.shape"
   ]
  },
  {
   "cell_type": "code",
   "execution_count": 18,
   "metadata": {
    "pycharm": {
     "name": "#%%\n"
    }
   },
   "outputs": [
    {
     "data": {
      "text/plain": "torch.Size([100, 16, 50, 50])"
     },
     "execution_count": 18,
     "metadata": {},
     "output_type": "execute_result"
    }
   ],
   "source": [
    "# ConvTranspose2d可通过使用与Conv2d相同的参数(kernel_size,stride,padding,dilation)重新将H_{out}恢复成H_{in}(注:只是形状得到恢复)\n",
    "# 若经转置矩阵得到的H'_{in}仍小于H_{in}(注:因为Conv2d计算H_out时进行了向下取整),则可通过output_padding参数对其进行合适的填充,使之完全相同\n",
    "ct2d_c0 = nn.ConvTranspose2d(in_channels=33, out_channels=16,\n",
    "                             kernel_size=3, stride=2,\n",
    "                             padding=2, dilation=3,\n",
    "                             bias=True, output_padding=1)\n",
    "'''\n",
    "output_padding (int or tuple, optional) –\n",
    "    Additional size added to one side of each dimension in the output shape. Default: 0\n",
    "bias (bool, optional) –\n",
    "    If True, adds a learnable bias to the output. Default: True\n",
    "'''\n",
    "ct2d_c0_re = ct2d_c0(conv2d_c0_re) # 形状得到恢复\n",
    "ct2d_c0_re.shape"
   ]
  },
  {
   "cell_type": "code",
   "execution_count": 19,
   "metadata": {
    "pycharm": {
     "name": "#%%\n"
    }
   },
   "outputs": [
    {
     "data": {
      "text/plain": "torch.Size([33, 16, 3, 3])"
     },
     "execution_count": 19,
     "metadata": {},
     "output_type": "execute_result"
    }
   ],
   "source": [
    "ct2d_c0.weight.shape # 形状为(out_channels,in_channels,kH,KW);内部默认实现了:init.kaiming_uniform_(self.weight, a=math.sqrt(5))"
   ]
  },
  {
   "cell_type": "code",
   "execution_count": 20,
   "metadata": {
    "pycharm": {
     "name": "#%%\n"
    }
   },
   "outputs": [
    {
     "data": {
      "text/plain": "Parameter containing:\ntensor([-0.0739,  0.0470,  0.0072, -0.0620,  0.0403, -0.0189,  0.0008, -0.0634,\n         0.0728,  0.0184, -0.0559,  0.0682,  0.0186, -0.0774,  0.0084, -0.0652],\n       requires_grad=True)"
     },
     "execution_count": 20,
     "metadata": {},
     "output_type": "execute_result"
    }
   ],
   "source": [
    "ct2d_c0.bias # 内部默认进行了kaiming_uniform_初始化"
   ]
  },
  {
   "cell_type": "code",
   "execution_count": 20,
   "metadata": {
    "pycharm": {
     "name": "#%%\n"
    }
   },
   "outputs": [],
   "source": [
    "\n"
   ]
  }
 ],
 "metadata": {
  "kernelspec": {
   "display_name": "Python 3",
   "language": "python",
   "name": "python3"
  },
  "language_info": {
   "codemirror_mode": {
    "name": "ipython",
    "version": 3
   },
   "file_extension": ".py",
   "mimetype": "text/x-python",
   "name": "python",
   "nbconvert_exporter": "python",
   "pygments_lexer": "ipython3",
   "version": "3.7.7"
  },
  "toc": {
   "base_numbering": 1,
   "nav_menu": {},
   "number_sections": true,
   "sideBar": true,
   "skip_h1_title": false,
   "title_cell": "Table of Contents",
   "title_sidebar": "Contents",
   "toc_cell": false,
   "toc_position": {},
   "toc_section_display": true,
   "toc_window_display": false
  }
 },
 "nbformat": 4,
 "nbformat_minor": 1
}