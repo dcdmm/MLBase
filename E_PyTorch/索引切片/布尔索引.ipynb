{
 "cells": [
  {
   "cell_type": "code",
   "execution_count": 80,
   "outputs": [],
   "source": [
    "import torch"
   ],
   "metadata": {
    "collapsed": false,
    "pycharm": {
     "name": "#%%\n"
    }
   }
  },
  {
   "cell_type": "markdown",
   "source": [
    "### 参考numpy布尔索引"
   ],
   "metadata": {
    "collapsed": false,
    "pycharm": {
     "name": "#%% md\n"
    }
   }
  },
  {
   "cell_type": "code",
   "execution_count": 81,
   "outputs": [
    {
     "name": "stdout",
     "output_type": "stream",
     "text": [
      "tensor([1, 2, 3, 1, 3, 2, 2])\n",
      "tensor([[ 0.9061,  1.3232,  0.6042,  0.6767],\n",
      "        [ 1.7679, -1.8281, -0.4181, -1.4143],\n",
      "        [-0.4579,  0.9693,  0.1141,  0.6920],\n",
      "        [ 0.3613, -1.1792,  0.1941,  1.4430],\n",
      "        [-0.7636, -2.2736,  0.5939, -0.3412],\n",
      "        [-1.6486, -0.3177, -1.1767,  0.1879],\n",
      "        [ 0.5034, -1.0108,  0.6210, -0.9517]])\n"
     ]
    }
   ],
   "source": [
    "target = torch.tensor([1, 2, 3, 1, 3, 2, 2])\n",
    "data = torch.randn(7, 4)\n",
    "print(target)\n",
    "print(data)"
   ],
   "metadata": {
    "collapsed": false,
    "pycharm": {
     "name": "#%%\n"
    }
   }
  },
  {
   "cell_type": "code",
   "execution_count": 82,
   "outputs": [
    {
     "name": "stdout",
     "output_type": "stream",
     "text": [
      "torch.bool\n",
      "tensor([ True, False, False,  True, False, False, False])\n"
     ]
    }
   ],
   "source": [
    "check = target == 1\n",
    "print(check.dtype)\n",
    "print(check)"
   ],
   "metadata": {
    "collapsed": false,
    "pycharm": {
     "name": "#%%\n"
    }
   }
  },
  {
   "cell_type": "code",
   "execution_count": 83,
   "outputs": [
    {
     "data": {
      "text/plain": "tensor([[ 0.9061,  1.3232,  0.6042,  0.6767],\n        [ 0.3613, -1.1792,  0.1941,  1.4430]])"
     },
     "execution_count": 83,
     "metadata": {},
     "output_type": "execute_result"
    }
   ],
   "source": [
    "data[check]  # 第零个维度布尔切片"
   ],
   "metadata": {
    "collapsed": false,
    "pycharm": {
     "name": "#%%\n"
    }
   }
  },
  {
   "cell_type": "code",
   "execution_count": 84,
   "outputs": [
    {
     "data": {
      "text/plain": "tensor([[ 0.9061,  0.6767],\n        [ 1.7679, -1.4143],\n        [-0.4579,  0.6920],\n        [ 0.3613,  1.4430],\n        [-0.7636, -0.3412],\n        [-1.6486,  0.1879],\n        [ 0.5034, -0.9517]])"
     },
     "execution_count": 84,
     "metadata": {},
     "output_type": "execute_result"
    }
   ],
   "source": [
    "data[:, check[:4]]  # 第一个维度上的布尔索引"
   ],
   "metadata": {
    "collapsed": false,
    "pycharm": {
     "name": "#%%\n"
    }
   }
  },
  {
   "cell_type": "code",
   "execution_count": 85,
   "outputs": [
    {
     "data": {
      "text/plain": "tensor([[0.6042, 0.6767],\n        [0.1941, 1.4430]])"
     },
     "execution_count": 85,
     "metadata": {},
     "output_type": "execute_result"
    }
   ],
   "source": [
    "data[target == 1, 2:]"
   ],
   "metadata": {
    "collapsed": false,
    "pycharm": {
     "name": "#%%\n"
    }
   }
  },
  {
   "cell_type": "code",
   "execution_count": 86,
   "outputs": [
    {
     "name": "stdout",
     "output_type": "stream",
     "text": [
      "tensor([False,  True,  True, False,  True,  True,  True])\n",
      "tensor([ True, False, False,  True, False, False, False])\n",
      "tensor([[ 0.9061,  1.3232,  0.6042,  0.6767],\n",
      "        [ 0.3613, -1.1792,  0.1941,  1.4430]])\n"
     ]
    }
   ],
   "source": [
    "print(target != 1)\n",
    "print(~(target != 1))  # ~:取反\n",
    "print(data[~(target != 1)])"
   ],
   "metadata": {
    "collapsed": false,
    "pycharm": {
     "name": "#%%\n"
    }
   }
  },
  {
   "cell_type": "code",
   "execution_count": 87,
   "outputs": [
    {
     "name": "stdout",
     "output_type": "stream",
     "text": [
      "tensor([ True, False,  True,  True,  True, False, False])\n",
      "tensor([[ 0.9061,  1.3232,  0.6042,  0.6767],\n",
      "        [-0.4579,  0.9693,  0.1141,  0.6920],\n",
      "        [ 0.3613, -1.1792,  0.1941,  1.4430],\n",
      "        [-0.7636, -2.2736,  0.5939, -0.3412]])\n"
     ]
    }
   ],
   "source": [
    "mask = (target == 1) | (target == 3)  # |:并集,不能使用关键字or\n",
    "print(mask)\n",
    "print(data[mask])"
   ],
   "metadata": {
    "collapsed": false,
    "pycharm": {
     "name": "#%%\n"
    }
   }
  },
  {
   "cell_type": "code",
   "execution_count": 88,
   "outputs": [
    {
     "name": "stdout",
     "output_type": "stream",
     "text": [
      "tensor([False, False, False, False, False, False, False])\n",
      "tensor([], size=(0, 4))\n"
     ]
    }
   ],
   "source": [
    "mask1 = (target == 1) & (target == 3)  # &:交集,不能使用关键字and\n",
    "print(mask1)\n",
    "print(data[mask1])"
   ],
   "metadata": {
    "collapsed": false,
    "pycharm": {
     "name": "#%%\n"
    }
   }
  },
  {
   "cell_type": "code",
   "execution_count": 89,
   "outputs": [
    {
     "data": {
      "text/plain": "tensor([[False, False, False, False],\n        [False,  True,  True,  True],\n        [ True, False, False, False],\n        [False,  True, False, False],\n        [ True,  True, False,  True],\n        [ True,  True,  True, False],\n        [False,  True, False,  True]])"
     },
     "execution_count": 89,
     "metadata": {},
     "output_type": "execute_result"
    }
   ],
   "source": [
    "s = data < 0\n",
    "s"
   ],
   "metadata": {
    "collapsed": false,
    "pycharm": {
     "name": "#%%\n"
    }
   }
  },
  {
   "cell_type": "code",
   "execution_count": 90,
   "outputs": [
    {
     "name": "stdout",
     "output_type": "stream",
     "text": [
      "torch.Size([13])\n",
      "tensor([-1.8281, -0.4181, -1.4143, -0.4579, -1.1792, -0.7636, -2.2736, -0.3412,\n",
      "        -1.6486, -0.3177, -1.1767, -1.0108, -0.9517])\n"
     ]
    }
   ],
   "source": [
    "# 所有s中不为False处的元素\n",
    "print(data[s].shape)\n",
    "print(data[s])"
   ],
   "metadata": {
    "collapsed": false,
    "pycharm": {
     "name": "#%%\n"
    }
   }
  },
  {
   "cell_type": "code",
   "execution_count": 91,
   "outputs": [
    {
     "data": {
      "text/plain": "tensor([[9.0613e-01, 1.3232e+00, 6.0421e-01, 6.7668e-01],\n        [1.7679e+00, 9.9990e+03, 9.9990e+03, 9.9990e+03],\n        [9.9990e+03, 9.6926e-01, 1.1406e-01, 6.9199e-01],\n        [3.6128e-01, 9.9990e+03, 1.9407e-01, 1.4430e+00],\n        [9.9990e+03, 9.9990e+03, 5.9392e-01, 9.9990e+03],\n        [9.9990e+03, 9.9990e+03, 9.9990e+03, 1.8786e-01],\n        [5.0337e-01, 9.9990e+03, 6.2104e-01, 9.9990e+03]])"
     },
     "execution_count": 91,
     "metadata": {},
     "output_type": "execute_result"
    }
   ],
   "source": [
    "data[s] = 9999  # 逐个元素的布尔索引\n",
    "data  # data发生改变"
   ],
   "metadata": {
    "collapsed": false,
    "pycharm": {
     "name": "#%%\n"
    }
   }
  },
  {
   "cell_type": "code",
   "execution_count": 92,
   "outputs": [
    {
     "data": {
      "text/plain": "tensor([[7.0000e+00, 7.0000e+00, 7.0000e+00, 7.0000e+00],\n        [1.7679e+00, 9.9990e+03, 9.9990e+03, 9.9990e+03],\n        [7.0000e+00, 7.0000e+00, 7.0000e+00, 7.0000e+00],\n        [7.0000e+00, 7.0000e+00, 7.0000e+00, 7.0000e+00],\n        [7.0000e+00, 7.0000e+00, 7.0000e+00, 7.0000e+00],\n        [9.9990e+03, 9.9990e+03, 9.9990e+03, 1.8786e-01],\n        [5.0337e-01, 9.9990e+03, 6.2104e-01, 9.9990e+03]])"
     },
     "execution_count": 92,
     "metadata": {},
     "output_type": "execute_result"
    }
   ],
   "source": [
    "data[target != 2] = 7  # ★★★★★和整数索引类似,只能通过对原tensor[索引/切片]直接进行赋值从而修改原tensor\n",
    "data  # data发生改变"
   ],
   "metadata": {
    "collapsed": false,
    "pycharm": {
     "name": "#%%\n"
    }
   }
  },
  {
   "cell_type": "code",
   "execution_count": 92,
   "outputs": [],
   "source": [
    "\n"
   ],
   "metadata": {
    "collapsed": false,
    "pycharm": {
     "name": "#%%\n"
    }
   }
  }
 ],
 "metadata": {
  "kernelspec": {
   "display_name": "Python 3",
   "language": "python",
   "name": "python3"
  },
  "language_info": {
   "codemirror_mode": {
    "name": "ipython",
    "version": 2
   },
   "file_extension": ".py",
   "mimetype": "text/x-python",
   "name": "python",
   "nbconvert_exporter": "python",
   "pygments_lexer": "ipython2",
   "version": "2.7.6"
  }
 },
 "nbformat": 4,
 "nbformat_minor": 0
}