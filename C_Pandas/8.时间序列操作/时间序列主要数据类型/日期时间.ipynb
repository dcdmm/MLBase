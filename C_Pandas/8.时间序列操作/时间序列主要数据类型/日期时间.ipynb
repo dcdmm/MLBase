{
 "cells": [
  {
   "cell_type": "markdown",
   "metadata": {
    "pycharm": {
     "metadata": false,
     "name": "#%% md\n"
    }
   },
   "source": [
    "## 日期时间(与datetime.datetime标准库类似)\n",
    "### 标量类(Timestamp)\n",
    "### 数组类(DatetimeIndex)"
   ]
  },
  {
   "cell_type": "code",
   "execution_count": 197,
   "metadata": {
    "pycharm": {
     "metadata": false,
     "name": "#%%\n"
    }
   },
   "outputs": [
    {
     "data": {
      "text/plain": "'\\n日期时间的主要属性:\\n属性\\t                        描述\\nyear\\t            The year of the datetime\\nmonth\\t            The month of the datetime\\nday\\t                The days of the datetime\\nhour\\t            The hour of the datetime\\nminute\\t            The minutes of the datetime\\nsecond\\t            The seconds of the datetime\\nmicrosecond\\t        The microseconds of the datetime\\nnanosecond\\t        The nanoseconds of the datetime\\ndayofyear\\t        The ordinal day of year\\nweekofyear\\t        The week ordinal of the year\\ndayofweek\\t        The number of the day of the week with Monday=0, Sunday=6\\ndays_in_month\\t    The number of days in the month of the datetime\\nquarter\\t            Quarter of the date: Jan-Mar = 1, Apr-Jun = 2, etc\\nis_month_start\\t    Logical indicating if first day of month (defined by frequency)\\nis_month_end\\t    Logical indicating if last day of month (defined by frequency)\\nis_quarter_start\\tLogical indicating if first day of quarter (defined by frequency)\\nis_quarter_end\\t    Logical indicating if last day of quarter (defined by frequency)\\nis_year_start\\t    Logical indicating if first day of year (defined by frequency)\\nis_year_end\\t        Logical indicating if last day of year (defined by frequency)\\nis_leap_year\\t    Logical indicating if the date belongs to a leap year\\n'"
     },
     "execution_count": 197,
     "metadata": {},
     "output_type": "execute_result"
    }
   ],
   "source": [
    "import  pandas as pd\n",
    "from datetime import  datetime\n",
    "'''\n",
    "日期时间的主要属性:\n",
    "属性\t                        描述\n",
    "year\t            The year of the datetime\n",
    "month\t            The month of the datetime\n",
    "day\t                The days of the datetime\n",
    "hour\t            The hour of the datetime\n",
    "minute\t            The minutes of the datetime\n",
    "second\t            The seconds of the datetime\n",
    "microsecond\t        The microseconds of the datetime\n",
    "nanosecond\t        The nanoseconds of the datetime\n",
    "dayofyear\t        The ordinal day of year\n",
    "weekofyear\t        The week ordinal of the year\n",
    "dayofweek\t        The number of the day of the week with Monday=0, Sunday=6\n",
    "days_in_month\t    The number of days in the month of the datetime\n",
    "quarter\t            Quarter of the date: Jan-Mar = 1, Apr-Jun = 2, etc\n",
    "is_month_start\t    Logical indicating if first day of month (defined by frequency)\n",
    "is_month_end\t    Logical indicating if last day of month (defined by frequency)\n",
    "is_quarter_start\tLogical indicating if first day of quarter (defined by frequency)\n",
    "is_quarter_end\t    Logical indicating if last day of quarter (defined by frequency)\n",
    "is_year_start\t    Logical indicating if first day of year (defined by frequency)\n",
    "is_year_end\t        Logical indicating if last day of year (defined by frequency)\n",
    "is_leap_year\t    Logical indicating if the date belongs to a leap year\n",
    "'''"
   ]
  },
  {
   "cell_type": "code",
   "execution_count": 198,
   "metadata": {},
   "outputs": [
    {
     "data": {
      "text/plain": "Timestamp('2011-01-03 00:00:00')"
     },
     "execution_count": 198,
     "metadata": {},
     "output_type": "execute_result"
    }
   ],
   "source": [
    "'''\n",
    "arg : integer, float, string, datetime, list, tuple, 1-d array, Series\n",
    "'''\n",
    "pd.to_datetime(arg=datetime(2011, 1, 3))"
   ]
  },
  {
   "cell_type": "code",
   "execution_count": 199,
   "metadata": {
    "pycharm": {
     "metadata": false,
     "name": "#%%\n"
    }
   },
   "outputs": [
    {
     "data": {
      "text/plain": "Timestamp('2011-07-06 12:00:00')"
     },
     "execution_count": 199,
     "metadata": {},
     "output_type": "execute_result"
    }
   ],
   "source": [
    "pd.to_datetime('2011-07-06 12:00:00')"
   ]
  },
  {
   "cell_type": "code",
   "execution_count": 200,
   "metadata": {},
   "outputs": [
    {
     "data": {
      "text/plain": "Timestamp('2011-07-06 00:00:00')"
     },
     "execution_count": 200,
     "metadata": {},
     "output_type": "execute_result"
    }
   ],
   "source": [
    "pd.to_datetime('2011-07-06', format='%Y-%m-%d') # 解析字符串的格式,默认为None,format格式参见:字符串与datetime互相转换.ipynb"
   ]
  },
  {
   "cell_type": "code",
   "execution_count": 201,
   "metadata": {},
   "outputs": [
    {
     "data": {
      "text/plain": "Timestamp('2011-07-06 00:00:00')"
     },
     "execution_count": 201,
     "metadata": {},
     "output_type": "execute_result"
    }
   ],
   "source": [
    "pd.to_datetime('2011/07/06', format='%Y/%m/%d')"
   ]
  },
  {
   "cell_type": "code",
   "execution_count": 202,
   "metadata": {},
   "outputs": [
    {
     "data": {
      "text/plain": "Timestamp('2001-08-01 00:00:00')"
     },
     "execution_count": 202,
     "metadata": {},
     "output_type": "execute_result"
    }
   ],
   "source": [
    "pd.to_datetime('Aug-2001', format='%b-%Y')"
   ]
  },
  {
   "cell_type": "code",
   "execution_count": 203,
   "metadata": {},
   "outputs": [
    {
     "data": {
      "text/plain": "Timestamp('2011-07-06 12:00:00')"
     },
     "execution_count": 203,
     "metadata": {},
     "output_type": "execute_result"
    }
   ],
   "source": [
    "pd.to_datetime('2011-07-06 12:00:00', )"
   ]
  },
  {
   "cell_type": "code",
   "execution_count": 204,
   "metadata": {
    "pycharm": {
     "metadata": false,
     "name": "#%%\n"
    }
   },
   "outputs": [
    {
     "name": "stdout",
     "output_type": "stream",
     "text": [
      "<class 'pandas._libs.tslibs.timestamps.Timestamp'> 2011-07-06 12:00:00\n",
      "<class 'pandas._libs.tslibs.timestamps.Timestamp'> 2011-08-06 00:00:00\n"
     ]
    }
   ],
   "source": [
    "datestrs = ['2011-07-06 12:00:00', '2011-08-06 00:00:00']\n",
    "for i in pd.to_datetime(arg=datestrs):\n",
    "    print(type(i), i)"
   ]
  },
  {
   "cell_type": "code",
   "execution_count": 205,
   "metadata": {
    "pycharm": {
     "metadata": false,
     "name": "#%%\n"
    }
   },
   "outputs": [
    {
     "data": {
      "text/plain": "2021-07-06 12:00:00   1970-01-01 00:00:00.000000100\n2021-08-06 00:00:00   1970-01-01 00:00:00.000000099\ndtype: datetime64[ns]"
     },
     "execution_count": 205,
     "metadata": {},
     "output_type": "execute_result"
    }
   ],
   "source": [
    "ser = pd.Series([100, 99], index=['2021-07-06 12:00:00', '2021-08-06 00:00:00'])\n",
    "pd.to_datetime(ser)"
   ]
  },
  {
   "cell_type": "code",
   "execution_count": 206,
   "metadata": {
    "pycharm": {
     "metadata": false,
     "name": "#%%\n"
    }
   },
   "outputs": [
    {
     "name": "stdout",
     "output_type": "stream",
     "text": [
      "DatetimeIndex(['2011-07-06 12:00:00', '2011-08-06 00:00:00', 'NaT'], dtype='datetime64[ns]', freq=None)\n",
      "<class 'pandas.core.indexes.datetimes.DatetimeIndex'>\n"
     ]
    }
   ],
   "source": [
    "# to_datetime可以对那些被认为是缺失值的值(None,空字符等)进行处理\n",
    "idx = pd.to_datetime(datestrs + [None])\n",
    "print(idx)\n",
    "print(type(idx))"
   ]
  },
  {
   "cell_type": "code",
   "execution_count": 221,
   "metadata": {
    "pycharm": {
     "metadata": false,
     "name": "#%%\n"
    }
   },
   "outputs": [
    {
     "name": "stdout",
     "output_type": "stream",
     "text": [
      "<class 'pandas.core.indexes.datetimes.DatetimeIndex'>\n",
      "2011-07-06 12:00:00\n"
     ]
    }
   ],
   "source": [
    "print(type(idx))\n",
    "print(idx[0]) # Timestamp数据类型"
   ]
  },
  {
   "cell_type": "code",
   "execution_count": 208,
   "metadata": {
    "pycharm": {
     "metadata": false,
     "name": "#%%\n"
    }
   },
   "outputs": [
    {
     "name": "stdout",
     "output_type": "stream",
     "text": [
      "2011-07-06 12:00:00\n",
      "2011\n",
      "6\n",
      "0\n",
      "187\n",
      "2\n",
      "3\n",
      "31\n"
     ]
    }
   ],
   "source": [
    "print(idx[0])\n",
    "print(idx[0].year)\n",
    "print(idx[0].day)\n",
    "print(idx[0].second)\n",
    "print(idx[0].dayofyear)\n",
    "print(idx[0].dayofweek)\n",
    "print(idx[0].quarter)\n",
    "print(idx[0].days_in_month)"
   ]
  },
  {
   "cell_type": "code",
   "execution_count": 209,
   "outputs": [
    {
     "name": "stdout",
     "output_type": "stream",
     "text": [
      "DatetimeIndex(['2011-07-06 12:00:00', '2011-08-06 00:00:00', 'NaT'], dtype='datetime64[ns]', freq=None)\n",
      "Float64Index([2011.0, 2011.0, nan], dtype='float64')\n",
      "Float64Index([6.0, 6.0, nan], dtype='float64')\n",
      "Float64Index([0.0, 0.0, nan], dtype='float64')\n",
      "Float64Index([187.0, 218.0, nan], dtype='float64')\n",
      "Float64Index([2.0, 5.0, nan], dtype='float64')\n",
      "Float64Index([3.0, 3.0, nan], dtype='float64')\n",
      "Float64Index([31.0, 31.0, nan], dtype='float64')\n"
     ]
    }
   ],
   "source": [
    "# 也可对DatetimeIndex进行统一处理\n",
    "print(idx)\n",
    "print(idx.year)\n",
    "print(idx.day)\n",
    "print(idx.second)\n",
    "print(idx.dayofyear)\n",
    "print(idx.dayofweek)\n",
    "print(idx.quarter)\n",
    "print(idx.days_in_month)"
   ],
   "metadata": {
    "collapsed": false,
    "pycharm": {
     "name": "#%%\n"
    }
   }
  },
  {
   "cell_type": "code",
   "execution_count": 210,
   "metadata": {
    "pycharm": {
     "metadata": false,
     "name": "#%%\n"
    }
   },
   "outputs": [
    {
     "data": {
      "text/plain": "NaT"
     },
     "execution_count": 210,
     "metadata": {},
     "output_type": "execute_result"
    }
   ],
   "source": [
    "idx[2] # NaT(Not a time)"
   ]
  },
  {
   "cell_type": "code",
   "execution_count": 211,
   "metadata": {
    "pycharm": {
     "metadata": false,
     "name": "#%%\n"
    }
   },
   "outputs": [
    {
     "data": {
      "text/plain": "DatetimeIndex(['2012-04-01', '2012-04-02', '2012-04-03', '2012-04-04',\n               '2012-04-05', '2012-04-06', '2012-04-07', '2012-04-08',\n               '2012-04-09', '2012-04-10', '2012-04-11', '2012-04-12',\n               '2012-04-13', '2012-04-14', '2012-04-15', '2012-04-16',\n               '2012-04-17', '2012-04-18', '2012-04-19', '2012-04-20',\n               '2012-04-21', '2012-04-22', '2012-04-23', '2012-04-24',\n               '2012-04-25', '2012-04-26', '2012-04-27', '2012-04-28',\n               '2012-04-29', '2012-04-30', '2012-05-01', '2012-05-02',\n               '2012-05-03', '2012-05-04', '2012-05-05', '2012-05-06',\n               '2012-05-07', '2012-05-08', '2012-05-09', '2012-05-10',\n               '2012-05-11', '2012-05-12', '2012-05-13', '2012-05-14',\n               '2012-05-15', '2012-05-16', '2012-05-17', '2012-05-18',\n               '2012-05-19', '2012-05-20', '2012-05-21', '2012-05-22',\n               '2012-05-23', '2012-05-24', '2012-05-25', '2012-05-26',\n               '2012-05-27', '2012-05-28', '2012-05-29', '2012-05-30',\n               '2012-05-31', '2012-06-01'],\n              dtype='datetime64[ns]', freq='D')"
     },
     "execution_count": 211,
     "metadata": {},
     "output_type": "execute_result"
    }
   ],
   "source": [
    "index = pd.date_range('2012-04-01', '2012-06-01') # 默认freq='D'\n",
    "index"
   ]
  },
  {
   "cell_type": "code",
   "execution_count": 212,
   "metadata": {
    "pycharm": {
     "metadata": false,
     "name": "#%%\n"
    }
   },
   "outputs": [
    {
     "data": {
      "text/plain": "DatetimeIndex(['2012-04-01', '2012-04-02', '2012-04-03', '2012-04-04',\n               '2012-04-05', '2012-04-06', '2012-04-07', '2012-04-08',\n               '2012-04-09', '2012-04-10', '2012-04-11', '2012-04-12',\n               '2012-04-13', '2012-04-14', '2012-04-15', '2012-04-16',\n               '2012-04-17', '2012-04-18', '2012-04-19', '2012-04-20'],\n              dtype='datetime64[ns]', freq='D')"
     },
     "execution_count": 212,
     "metadata": {},
     "output_type": "execute_result"
    }
   ],
   "source": [
    "pd.date_range(start='2012-04-01', periods=20)"
   ]
  },
  {
   "cell_type": "code",
   "execution_count": 213,
   "metadata": {
    "pycharm": {
     "metadata": false,
     "name": "#%%\n"
    }
   },
   "outputs": [
    {
     "data": {
      "text/plain": "Timestamp('2012-04-02 00:00:00', freq='D')"
     },
     "execution_count": 213,
     "metadata": {},
     "output_type": "execute_result"
    }
   ],
   "source": [
    "pd.date_range(start='2012-04-01', periods=20)[1]"
   ]
  },
  {
   "cell_type": "code",
   "execution_count": 214,
   "outputs": [
    {
     "data": {
      "text/plain": "DatetimeIndex(['2012-05-13', '2012-05-14', '2012-05-15', '2012-05-16',\n               '2012-05-17', '2012-05-18', '2012-05-19', '2012-05-20',\n               '2012-05-21', '2012-05-22', '2012-05-23', '2012-05-24',\n               '2012-05-25', '2012-05-26', '2012-05-27', '2012-05-28',\n               '2012-05-29', '2012-05-30', '2012-05-31', '2012-06-01'],\n              dtype='datetime64[ns]', freq='D')"
     },
     "execution_count": 214,
     "metadata": {},
     "output_type": "execute_result"
    }
   ],
   "source": [
    "# 只传递一个起始或结束日期,必须传递一个用于生成范围的数字\n",
    "pd.date_range(end='2012-06-01', periods=20)"
   ],
   "metadata": {
    "collapsed": false,
    "pycharm": {
     "name": "#%%\n"
    }
   }
  },
  {
   "cell_type": "code",
   "execution_count": 215,
   "outputs": [
    {
     "data": {
      "text/plain": "DatetimeIndex(['2000-01-01', '2000-02-01', '2000-03-01', '2000-04-01',\n               '2000-05-01', '2000-06-01', '2000-07-01', '2000-08-01',\n               '2000-09-01', '2000-10-01', '2000-11-01', '2000-12-01'],\n              dtype='datetime64[ns]', freq='MS')"
     },
     "execution_count": 215,
     "metadata": {},
     "output_type": "execute_result"
    }
   ],
   "source": [
    "pd.date_range('2000-01-01', '2000-12-01', freq='MS') # freq ： str或DateOffset，默认为'D'"
   ],
   "metadata": {
    "collapsed": false,
    "pycharm": {
     "name": "#%%\n"
    }
   }
  },
  {
   "cell_type": "code",
   "execution_count": 216,
   "outputs": [
    {
     "data": {
      "text/plain": "DatetimeIndex(['2012-05-02 12:56:31', '2012-05-03 12:56:31',\n               '2012-05-04 12:56:31', '2012-05-05 12:56:31',\n               '2012-05-06 12:56:31'],\n              dtype='datetime64[ns]', freq='D')"
     },
     "execution_count": 216,
     "metadata": {},
     "output_type": "execute_result"
    }
   ],
   "source": [
    "# 默认情况下,date_range保留开始或结束时间戳的时间(如果有的话)\n",
    "pd.date_range('2012-05-02 12:56:31', periods=5)"
   ],
   "metadata": {
    "collapsed": false,
    "pycharm": {
     "name": "#%%\n"
    }
   }
  },
  {
   "cell_type": "code",
   "execution_count": 217,
   "outputs": [
    {
     "data": {
      "text/plain": "DatetimeIndex(['2012-05-02', '2012-05-03', '2012-05-04', '2012-05-05',\n               '2012-05-06'],\n              dtype='datetime64[ns]', freq='D')"
     },
     "execution_count": 217,
     "metadata": {},
     "output_type": "execute_result"
    }
   ],
   "source": [
    "# normalize=True,生成标准化为零点的时间戳\n",
    "pd.date_range('2012-05-02 12:56:31', periods=5, normalize=True)"
   ],
   "metadata": {
    "collapsed": false,
    "pycharm": {
     "name": "#%%\n"
    }
   }
  },
  {
   "cell_type": "code",
   "execution_count": 218,
   "metadata": {
    "pycharm": {
     "metadata": false,
     "name": "#%%\n"
    }
   },
   "outputs": [
    {
     "data": {
      "text/plain": "DatetimeIndex(['2000-01-01', '2000-02-01', '2000-03-01', '2000-04-01',\n               '2000-05-01', '2000-06-01', '2000-07-01', '2000-08-01',\n               '2000-09-01', '2000-10-01', '2000-11-01', '2000-12-01'],\n              dtype='datetime64[ns]', freq='MS')"
     },
     "execution_count": 218,
     "metadata": {},
     "output_type": "execute_result"
    }
   ],
   "source": [
    "pd.date_range('2000-01-01', '2000-12-01', freq='MS') # freq ： str或DateOffset，默认为'D'"
   ]
  },
  {
   "cell_type": "code",
   "execution_count": 219,
   "metadata": {
    "pycharm": {
     "metadata": false,
     "name": "#%%\n"
    }
   },
   "outputs": [
    {
     "data": {
      "text/plain": "DatetimeIndex(['2012-05-02 12:56:31', '2012-05-03 12:56:31',\n               '2012-05-04 12:56:31', '2012-05-05 12:56:31',\n               '2012-05-06 12:56:31'],\n              dtype='datetime64[ns]', freq='D')"
     },
     "execution_count": 219,
     "metadata": {},
     "output_type": "execute_result"
    }
   ],
   "source": [
    "# 默认情况下,date_range保留开始或结束时间戳的时间(如果有的话)\n",
    "pd.date_range('2012-05-02 12:56:31', periods=5)"
   ]
  },
  {
   "cell_type": "code",
   "execution_count": 220,
   "metadata": {
    "pycharm": {
     "metadata": false,
     "name": "#%%\n"
    }
   },
   "outputs": [
    {
     "data": {
      "text/plain": "DatetimeIndex(['2012-05-02', '2012-05-03', '2012-05-04', '2012-05-05',\n               '2012-05-06'],\n              dtype='datetime64[ns]', freq='D')"
     },
     "execution_count": 220,
     "metadata": {},
     "output_type": "execute_result"
    }
   ],
   "source": [
    "# normalize=True,生成标准化为零点的时间戳\n",
    "pd.date_range('2012-05-02 12:56:31', periods=5, normalize=True)"
   ]
  },
  {
   "cell_type": "code",
   "execution_count": 220,
   "metadata": {},
   "outputs": [],
   "source": []
  }
 ],
 "metadata": {
  "kernelspec": {
   "display_name": "Python 3",
   "language": "python",
   "name": "python3"
  },
  "language_info": {
   "codemirror_mode": {
    "name": "ipython",
    "version": 3
   },
   "file_extension": ".py",
   "mimetype": "text/x-python",
   "name": "python",
   "nbconvert_exporter": "python",
   "pygments_lexer": "ipython3",
   "version": "3.7.9"
  },
  "stem_cell": {
   "cell_type": "raw",
   "metadata": {
    "pycharm": {
     "metadata": false
    }
   },
   "source": ""
  },
  "toc": {
   "base_numbering": 1,
   "nav_menu": {},
   "number_sections": true,
   "sideBar": true,
   "skip_h1_title": false,
   "title_cell": "Table of Contents",
   "title_sidebar": "Contents",
   "toc_cell": false,
   "toc_position": {},
   "toc_section_display": true,
   "toc_window_display": false
  }
 },
 "nbformat": 4,
 "nbformat_minor": 1
}