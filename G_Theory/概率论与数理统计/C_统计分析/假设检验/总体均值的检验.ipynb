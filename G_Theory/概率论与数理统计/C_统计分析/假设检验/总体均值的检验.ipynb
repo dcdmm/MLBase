{
 "cells": [
  {
   "cell_type": "markdown",
   "source": [
    "<font color='red' size=4>P值含义:</font>  \n",
    "如果原假设为真，所得到的样本结果会像实际观测结果那么<font color='red'>极端或更极端</font>的概率"
   ],
   "metadata": {
    "pycharm": {
     "metadata": false,
     "name": "#%% md\n"
    }
   }
  },
  {
   "cell_type": "code",
   "execution_count": 10,
   "metadata": {
    "pycharm": {
     "is_executing": false
    }
   },
   "outputs": [],
   "source": [
    "import pandas as pd\n",
    "import  numpy as np\n",
    "import  scipy.stats \n",
    "import warnings\n",
    "warnings.filterwarnings(\"ignore\")"
   ]
  },
  {
   "cell_type": "code",
   "execution_count": 11,
   "outputs": [],
   "source": [
    "df = pd.read_csv('normtemp.txt', sep='   ',\n",
    "                 names = ['Temperature', 'Gender', 'Heart Rate'])\n",
    "CW_mu = 98.6"
   ],
   "metadata": {
    "pycharm": {
     "metadata": false,
     "name": "#%%\n",
     "is_executing": false
    }
   }
  },
  {
   "cell_type": "code",
   "execution_count": 12,
   "metadata": {
    "pycharm": {
     "is_executing": false
    }
   },
   "outputs": [
    {
     "data": {
      "text/plain": "       Temperature      Gender  Heart Rate\ncount   130.000000  130.000000  130.000000\nmean     98.249231    1.500000   73.761538\nstd       0.733183    0.501934    7.062077\nmin      96.300000    1.000000   57.000000\n25%      97.800000    1.000000   69.000000\n50%      98.300000    1.500000   74.000000\n75%      98.700000    2.000000   79.000000\nmax     100.800000    2.000000   89.000000",
      "text/html": "<div>\n<style scoped>\n    .dataframe tbody tr th:only-of-type {\n        vertical-align: middle;\n    }\n\n    .dataframe tbody tr th {\n        vertical-align: top;\n    }\n\n    .dataframe thead th {\n        text-align: right;\n    }\n</style>\n<table border=\"1\" class=\"dataframe\">\n  <thead>\n    <tr style=\"text-align: right;\">\n      <th></th>\n      <th>Temperature</th>\n      <th>Gender</th>\n      <th>Heart Rate</th>\n    </tr>\n  </thead>\n  <tbody>\n    <tr>\n      <th>count</th>\n      <td>130.000000</td>\n      <td>130.000000</td>\n      <td>130.000000</td>\n    </tr>\n    <tr>\n      <th>mean</th>\n      <td>98.249231</td>\n      <td>1.500000</td>\n      <td>73.761538</td>\n    </tr>\n    <tr>\n      <th>std</th>\n      <td>0.733183</td>\n      <td>0.501934</td>\n      <td>7.062077</td>\n    </tr>\n    <tr>\n      <th>min</th>\n      <td>96.300000</td>\n      <td>1.000000</td>\n      <td>57.000000</td>\n    </tr>\n    <tr>\n      <th>25%</th>\n      <td>97.800000</td>\n      <td>1.000000</td>\n      <td>69.000000</td>\n    </tr>\n    <tr>\n      <th>50%</th>\n      <td>98.300000</td>\n      <td>1.500000</td>\n      <td>74.000000</td>\n    </tr>\n    <tr>\n      <th>75%</th>\n      <td>98.700000</td>\n      <td>2.000000</td>\n      <td>79.000000</td>\n    </tr>\n    <tr>\n      <th>max</th>\n      <td>100.800000</td>\n      <td>2.000000</td>\n      <td>89.000000</td>\n    </tr>\n  </tbody>\n</table>\n</div>"
     },
     "metadata": {},
     "output_type": "execute_result",
     "execution_count": 12
    }
   ],
   "source": [
    "df.describe()"
   ]
  },
  {
   "cell_type": "code",
   "execution_count": 13,
   "metadata": {
    "pycharm": {
     "is_executing": false
    }
   },
   "outputs": [
    {
     "data": {
      "text/plain": "   Temperature  Gender  Heart Rate\n0         96.3       1          70\n1         96.7       1          71\n2         96.9       1          74\n3         97.0       1          80\n4         97.1       1          73",
      "text/html": "<div>\n<style scoped>\n    .dataframe tbody tr th:only-of-type {\n        vertical-align: middle;\n    }\n\n    .dataframe tbody tr th {\n        vertical-align: top;\n    }\n\n    .dataframe thead th {\n        text-align: right;\n    }\n</style>\n<table border=\"1\" class=\"dataframe\">\n  <thead>\n    <tr style=\"text-align: right;\">\n      <th></th>\n      <th>Temperature</th>\n      <th>Gender</th>\n      <th>Heart Rate</th>\n    </tr>\n  </thead>\n  <tbody>\n    <tr>\n      <th>0</th>\n      <td>96.3</td>\n      <td>1</td>\n      <td>70</td>\n    </tr>\n    <tr>\n      <th>1</th>\n      <td>96.7</td>\n      <td>1</td>\n      <td>71</td>\n    </tr>\n    <tr>\n      <th>2</th>\n      <td>96.9</td>\n      <td>1</td>\n      <td>74</td>\n    </tr>\n    <tr>\n      <th>3</th>\n      <td>97.0</td>\n      <td>1</td>\n      <td>80</td>\n    </tr>\n    <tr>\n      <th>4</th>\n      <td>97.1</td>\n      <td>1</td>\n      <td>73</td>\n    </tr>\n  </tbody>\n</table>\n</div>"
     },
     "metadata": {},
     "output_type": "execute_result",
     "execution_count": 13
    }
   ],
   "source": [
    "df.head()\n"
   ]
  },
  {
   "cell_type": "markdown",
   "metadata": {
    "pycharm": {}
   },
   "source": [
    "有学者提出98.6是人类的平均体温，我们该这样认为吗?\n",
    "\n",
    "* $ \\sigma^2 未知:  z =  \\frac{ \\bar{x} - u_{0} }{ s  / \\sqrt{n} }$检验(大样本)"
   ]
  },
  {
   "cell_type": "code",
   "execution_count": 14,
   "outputs": [
    {
     "name": "stdout",
     "text": [
      "检验统计量和P值分别为:",
      " (-5.454823292364298, 4.9021570141073327e-08)\n"
     ],
     "output_type": "stream"
    }
   ],
   "source": [
    "def z_test(data, u):\n",
    "    mean = np.mean(data)\n",
    "    std = np.std(data, ddof=1)\n",
    "    n = len(data)\n",
    "    test_value = (mean - u) * np.sqrt(n) / std\n",
    "    p = scipy.stats.norm.cdf(test_value) * 2 #双尾检验\n",
    "\n",
    "    return test_value, p\n",
    "\n",
    "\n",
    "z_te_va = z_test(df['Temperature'], CW_mu)\n",
    "print('检验统计量和P值分别为:', z_te_va)"
   ],
   "metadata": {
    "pycharm": {
     "metadata": false,
     "name": "#%%\n",
     "is_executing": false
    }
   }
  },
  {
   "cell_type": "markdown",
   "source": [
    "* $ \\sigma^2 未知:  t =  \\frac{ \\bar{x} - u_{0} }{ s  / \\sqrt{n} } $检验(小样本)"
   ],
   "metadata": {
    "pycharm": {
     "metadata": false,
     "name": "#%% md\n"
    }
   }
  },
  {
   "cell_type": "code",
   "execution_count": 15,
   "outputs": [
    {
     "name": "stdout",
     "text": [
      "检验统计量和P值分别为:",
      " (-5.454823292364298, 2.410632041558574e-07)\n"
     ],
     "output_type": "stream"
    }
   ],
   "source": [
    "# 方法一:手工计算\n",
    "def t_test(data, u):\n",
    "    mean = np.mean(data)\n",
    "    std = np.std(data, ddof=1)\n",
    "    n = len(data)\n",
    "    v = n -1\n",
    "    test_value = (mean - u) * np.sqrt(n) / std\n",
    "    p = scipy.stats.t.cdf(test_value, df=v) * 2 # 双尾检验\n",
    "    \n",
    "    return test_value, p\n",
    "\n",
    "\n",
    "t_te_va = t_test(df['Temperature'], CW_mu)\n",
    "print('检验统计量和P值分别为:', t_te_va)"
   ],
   "metadata": {
    "pycharm": {
     "metadata": false,
     "name": "#%%\n",
     "is_executing": false
    }
   }
  },
  {
   "cell_type": "code",
   "execution_count": 16,
   "outputs": [
    {
     "name": "stdout",
     "text": [
      "检验统计量为: -5.454823292364077\nP值为: 2.410632041561008e-07\n"
     ],
     "output_type": "stream"
    }
   ],
   "source": [
    "# 方法二:scipy.stats.ttest_1samp函数\n",
    "value, p = scipy.stats.ttest_1samp(df['Temperature'], CW_mu) #Calculate the T-test for the mean of ONE group of scores.\n",
    "print('检验统计量为:', value)\n",
    "print('P值为:', p)\n"
   ],
   "metadata": {
    "pycharm": {
     "metadata": false,
     "name": "#%%\n",
     "is_executing": false
    }
   }
  }
 ],
 "metadata": {
  "kernelspec": {
   "display_name": "Python 3",
   "language": "python",
   "name": "python3"
  },
  "language_info": {
   "codemirror_mode": {
    "name": "ipython",
    "version": 3
   },
   "file_extension": ".py",
   "mimetype": "text/x-python",
   "name": "python",
   "nbconvert_exporter": "python",
   "pygments_lexer": "ipython3",
   "version": "3.6.3"
  },
  "stem_cell": {
   "cell_type": "raw",
   "source": "",
   "metadata": {
    "pycharm": {
     "metadata": false
    }
   }
  },
  "pycharm": {
   "stem_cell": {
    "cell_type": "raw",
    "source": [],
    "metadata": {
     "collapsed": false
    }
   }
  }
 },
 "nbformat": 4,
 "nbformat_minor": 1
}