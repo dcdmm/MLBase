{
 "cells": [
  {
   "cell_type": "markdown",
   "metadata": {
    "collapsed": true,
    "pycharm": {
     "name": "#%% md\n"
    }
   },
   "source": [
    "&emsp;&emsp;若$ A= [a_{ij}]$是一个$ m \\times n $矩阵,则$ A $ 的装置记作$ A^T$,是一\n",
    "个$ n \\times m $ 矩阵,其元素定义为$ [A^T]_{ij}=a_{ji} $;矩阵$ A^*$的负数共轭仍然是一\n",
    "个$ m \\times n $矩阵,其元素定义为$ [A^*]_{ij} = a^*_{ij} $;而矩阵 $A $的复共轭矩阵转置\n",
    "记作$ A^H$,它是一个$ n \\times m $矩阵,定义为    \n",
    "\n",
    "$A^H$ = \n",
    "\\begin{bmatrix}\n",
    "a^*_{11} & a^*_{21} & \\dots  & a^*_{m1} \\\\\n",
    "a^*_{12} & a^*_{22} & \\dots  & a^*_{m2} \\\\\n",
    "\\vdots   & \\vdots   & \\ddots & \\vdots   \\\\\n",
    "a^*_{1n} & a^*_{2n} & \\dots  & a^*_{mn} \n",
    "\\end{bmatrix}      \n",
    "共轭转置又叫Hermitian伴随,Hermitian转置或Hermitian共轭.   \n",
    "&emsp;&emsp;满足$ A^T = A $的正方实矩阵和$ A^H = A $的正方复矩阵分别称为对称矩阵和\n",
    "Hermitian矩阵(复共轭对称矩阵).    \n",
    "&emsp;&emsp;共轭转置与转置之间存在下列关系:   \n",
    "$$  A^H = (A^*)^T = (A^T)^*$$   \n",
    "\n",
    "<font color='red' size=4>性质</font>  \n",
    "1. $$ (A + B)^T = A ^T + B^T $$  \n",
    "2. $$  (aA)^T = (aA^T) $$\n",
    "3. $$ (AB)^T = B^T A^T $$\n",
    "4. $$ (A^T)^T = A $$\n",
    " \n",
    "</font>"
   ]
  },
  {
   "cell_type": "code",
   "execution_count": 5,
   "outputs": [
    {
     "name": "stdout",
     "text": [
      "[[ 6 10]\n [ 8 12]]\n[[ 6 10]\n [ 8 12]]\n[[19 43]\n [22 50]]\n[[19 43]\n [22 50]]\n"
     ],
     "output_type": "stream"
    }
   ],
   "source": [
    "import  numpy as np\n",
    "\n",
    "matrix1 = np.array([[1, 2], [3, 4]])\n",
    "matrix2 = np.array([[5, 6], [7, 8]])\n",
    "\n",
    "print((matrix1 + matrix2).T)\n",
    "print(matrix1.T + matrix2.T) # 与上相等\n",
    "\n",
    "print((matrix1 @ matrix2).T)\n",
    "print(matrix2.T @ matrix1.T) # 与上相等"
   ],
   "metadata": {
    "collapsed": false,
    "pycharm": {
     "name": "#%%\n",
     "is_executing": false
    }
   }
  },
  {
   "cell_type": "code",
   "execution_count": null,
   "outputs": [],
   "source": [
    "a = np.array([[1+2j, 3+4j, 5+6j], [3-4j, 8+3j, 3], [8, 11, 2+1j]])\n",
    "a"
   ],
   "metadata": {
    "collapsed": false,
    "pycharm": {
     "name": "#%%\n"
    }
   }
  },
  {
   "cell_type": "code",
   "execution_count": 4,
   "outputs": [
    {
     "data": {
      "text/plain": "array([[ 1.+2.j,  3.-4.j,  8.+0.j],\n       [ 3.+4.j,  8.+3.j, 11.+0.j],\n       [ 5.+6.j,  3.+0.j,  2.+1.j]])"
     },
     "metadata": {},
     "output_type": "execute_result",
     "execution_count": 4
    }
   ],
   "source": [
    "# 计算矩阵的转置\n",
    "a.T"
   ],
   "metadata": {
    "collapsed": false,
    "pycharm": {
     "name": "#%%\n",
     "is_executing": false
    }
   }
  },
  {
   "cell_type": "code",
   "execution_count": 5,
   "outputs": [
    {
     "data": {
      "text/plain": "array([[ 1.-2.j,  3.+4.j,  8.-0.j],\n       [ 3.-4.j,  8.-3.j, 11.-0.j],\n       [ 5.-6.j,  3.-0.j,  2.-1.j]])"
     },
     "metadata": {},
     "output_type": "execute_result",
     "execution_count": 5
    }
   ],
   "source": [
    "# 计算矩阵的共轭转置\n",
    "np.conj(a.T)"
   ],
   "metadata": {
    "collapsed": false,
    "pycharm": {
     "name": "#%%\n",
     "is_executing": false
    }
   }
  },
  {
   "cell_type": "code",
   "execution_count": 6,
   "outputs": [
    {
     "data": {
      "text/plain": "array([[ 1.-2.j,  3.+4.j,  8.-0.j],\n       [ 3.-4.j,  8.-3.j, 11.-0.j],\n       [ 5.-6.j,  3.-0.j,  2.-1.j]])"
     },
     "metadata": {},
     "output_type": "execute_result",
     "execution_count": 6
    }
   ],
   "source": [
    "\n",
    "np.conj(a).T # 与上等价"
   ],
   "metadata": {
    "collapsed": false,
    "pycharm": {
     "name": "#%%\n",
     "is_executing": false
    }
   }
  },
  {
   "cell_type": "code",
   "execution_count": null,
   "outputs": [],
   "source": [
    "\n"
   ],
   "metadata": {
    "collapsed": false,
    "pycharm": {
     "name": "#%%\n"
    }
   }
  }
 ],
 "metadata": {
  "kernelspec": {
   "display_name": "Python 3",
   "language": "python",
   "name": "python3"
  },
  "language_info": {
   "codemirror_mode": {
    "name": "ipython",
    "version": 2
   },
   "file_extension": ".py",
   "mimetype": "text/x-python",
   "name": "python",
   "nbconvert_exporter": "python",
   "pygments_lexer": "ipython2",
   "version": "2.7.6"
  },
  "pycharm": {
   "stem_cell": {
    "cell_type": "raw",
    "source": [],
    "metadata": {
     "collapsed": false
    }
   }
  }
 },
 "nbformat": 4,
 "nbformat_minor": 0
}