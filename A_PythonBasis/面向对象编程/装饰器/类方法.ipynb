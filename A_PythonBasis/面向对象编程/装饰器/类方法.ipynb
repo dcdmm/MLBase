{
 "cells": [
  {
   "cell_type": "code",
   "execution_count": 15,
   "metadata": {
    "collapsed": true
   },
   "outputs": [
    {
     "name": "stdout",
     "output_type": "stream",
     "text": [
      "111\n",
      "china\n",
      "china\n",
      "222\n",
      "<__main__.People object at 0x0000024694472448>\n"
     ]
    }
   ],
   "source": [
    "class People(object):\n",
    "    def __init__(self, age):\n",
    "        self.age = age\n",
    "        print(age)\n",
    "\n",
    "    country = 'china'\n",
    "\n",
    "    # 类方法(使用classmethod作为装饰器)\n",
    "    @classmethod\n",
    "    # 对于类方法,第一个参数必须是类对象,一般以cls作为第一个参数\n",
    "    def getCountry(cls):\n",
    "        return cls.country\n",
    "\n",
    "\n",
    "p = People(age=111)\n",
    "print(p.getCountry())  # 可以用过实例对象引用\n",
    "print(People.getCountry())  # 可以通过类对象引用\n",
    "print(People(age=222))"
   ]
  },
  {
   "cell_type": "code",
   "execution_count": 16,
   "metadata": {
    "pycharm": {
     "name": "#%%\n"
    }
   },
   "outputs": [
    {
     "name": "stdout",
     "output_type": "stream",
     "text": [
      "china\n",
      "japan\n"
     ]
    }
   ],
   "source": [
    "# 对类属性进行修改\n",
    "class People:\n",
    "    country = 'china'\n",
    "\n",
    "    @classmethod\n",
    "    def getCountry(cls):\n",
    "        return cls.country\n",
    "\n",
    "    @classmethod\n",
    "    def setCountry(cls, country):\n",
    "        cls.country = country\n",
    "\n",
    "\n",
    "print(People.getCountry())\n",
    "\n",
    "People.setCountry('japan')\n",
    "\n",
    "print(People.getCountry())\n",
    "\n",
    "\n",
    "\n"
   ]
  }
 ],
 "metadata": {
  "kernelspec": {
   "display_name": "Python 3",
   "language": "python",
   "name": "python3"
  },
  "language_info": {
   "codemirror_mode": {
    "name": "ipython",
    "version": 3
   },
   "file_extension": ".py",
   "mimetype": "text/x-python",
   "name": "python",
   "nbconvert_exporter": "python",
   "pygments_lexer": "ipython3",
   "version": "3.7.7"
  },
  "toc": {
   "base_numbering": 1,
   "nav_menu": {},
   "number_sections": true,
   "sideBar": true,
   "skip_h1_title": false,
   "title_cell": "Table of Contents",
   "title_sidebar": "Contents",
   "toc_cell": false,
   "toc_position": {},
   "toc_section_display": true,
   "toc_window_display": false
  }
 },
 "nbformat": 4,
 "nbformat_minor": 1
}