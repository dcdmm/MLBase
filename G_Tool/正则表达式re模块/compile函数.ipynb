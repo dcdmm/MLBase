{
 "cells": [
  {
   "cell_type": "code",
   "execution_count": 1,
   "metadata": {
    "collapsed": true,
    "pycharm": {
     "is_executing": false,
     "name": "#%%\n"
    }
   },
   "outputs": [
    {
     "name": "stdout",
     "text": [
      "<class 're.Pattern'>\nNone\nNone\n(3, 5)\n12\nNone\n"
     ],
     "output_type": "stream"
    }
   ],
   "source": [
    "# 建议先编译正则表达式\n",
    "\n",
    "import re\n",
    "\n",
    "pattern = re.compile(r'\\d+') # 用于编译正则表达式,生成一个正则表达式(Pattern)对象(可以指定匹配范围(★★★★★))\n",
    "print(type(pattern))\n",
    "string = \"one12twothree34fou\"\n",
    "\n",
    "m0 = pattern.match(string) # 查找头部,没有匹配\n",
    "print(m0)\n",
    "\n",
    "m1 = pattern.match(string, 2, 10) # 只匹配string[2:10]，没有匹配\n",
    "print(m1)\n",
    "\n",
    "m2 = pattern.match(string, 3, 10) # 只匹配string[3:10]，正好匹配\n",
    "print(m2.span())\n",
    "print(m2.group())\n",
    "\n",
    "m3 = pattern.search(string, 6, 10) # 只匹配string[6:10],此时没有匹配\n",
    "print(m3)"
   ]
  },
  {
   "cell_type": "code",
   "execution_count": 2,
   "outputs": [
    {
     "name": "stdout",
     "text": [
      "[':', '/', '/']\n"
     ],
     "output_type": "stream"
    }
   ],
   "source": [
    "model = re.compile(r\"\\W\")\n",
    "result1 = model.findall(\"https://docs.python.org/3/whatsnew/3.6.html\", 1, 9) # 只匹配string[1:9]\n",
    "print (result1)"
   ],
   "metadata": {
    "collapsed": false,
    "pycharm": {
     "name": "#%%\n",
     "is_executing": false
    }
   }
  },
  {
   "cell_type": "code",
   "execution_count": 3,
   "outputs": [
    {
     "name": "stdout",
     "text": [
      "['', ' ', 'w3cschool', ', ', 'w3cschool, w3cschool.']\n"
     ],
     "output_type": "stream"
    }
   ],
   "source": [
    "mode = re.compile('(\\W+)')\n",
    "result2 = mode.split(' w3cschool, w3cschool, w3cschool.', maxsplit=2)  # split函数不可以指定范围\n",
    "print(result2)"
   ],
   "metadata": {
    "collapsed": false,
    "pycharm": {
     "name": "#%%\n",
     "is_executing": false
    }
   }
  },
  {
   "cell_type": "code",
   "execution_count": 4,
   "outputs": [
    {
     "name": "stdout",
     "text": [
      "hello python \n hello java\n"
     ],
     "output_type": "stream"
    }
   ],
   "source": [
    "string = \"\"\"<table>fsdfaf\n",
    "dsfasdf</table>\"\"\"\n",
    "\n",
    "mode_sub = re.compile('<table>.*</table>', re.S)\n",
    "string_sub = mode_sub.sub('hello python \\n hello java', string)\n",
    "print(string_sub)"
   ],
   "metadata": {
    "collapsed": false,
    "pycharm": {
     "name": "#%%\n",
     "is_executing": false
    }
   }
  }
 ],
 "metadata": {
  "kernelspec": {
   "display_name": "Python 3",
   "language": "python",
   "name": "python3"
  },
  "language_info": {
   "codemirror_mode": {
    "name": "ipython",
    "version": 2
   },
   "file_extension": ".py",
   "mimetype": "text/x-python",
   "name": "python",
   "nbconvert_exporter": "python",
   "pygments_lexer": "ipython2",
   "version": "2.7.6"
  }
 },
 "nbformat": 4,
 "nbformat_minor": 0
}