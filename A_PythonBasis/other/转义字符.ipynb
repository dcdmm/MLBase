{
 "cells": [
  {
   "cell_type": "markdown",
   "source": [
    "| 转义字符 | 含义 |\n",
    "| :---: | :---: |\n",
    "| \\\\(在行尾时) | 续行符 |\n",
    "| \\\\\\ | 反斜杠符号 |\n",
    "| \\\\' | 单引号 |\n",
    "| \\\\\" | 双引号 |\n",
    "| \\\\a | 响铃 |\n",
    "| \\\\b | 退格(Backspace) |\n",
    "| \\\\0 | 表示一个空字符 |\n",
    "| \\\\n | 换行 |\n",
    "| \\\\v | 纵向制表符 |\n",
    "| \\\\t | 横向制表符(TAB) |\n",
    "| \\\\r | 回车(表示将光标的位置回退到本行的开头位置) |\n",
    "| \\\\f | 换页 |\n",
    "| \\\\oyy | 八进制数,yy代表的字符，例如：\\\\o12代表换行 |\n",
    "| \\\\xyy | 十六进制数,yy代表的字符,例如:\\\\x0a代表换行|"
   ],
   "metadata": {
    "collapsed": false
   }
  },
  {
   "cell_type": "code",
   "execution_count": 19,
   "outputs": [
    {
     "data": {
      "text/plain": "'c:\\\\now'"
     },
     "metadata": {},
     "output_type": "execute_result",
     "execution_count": 19
    }
   ],
   "source": [
    "the_str = r\"c:\\now\" # 前面加个r表示原始字符串,作用:字符串内的反斜杠(除掉末尾反斜杠)不再表示转义\n",
    "the_str"
   ],
   "metadata": {
    "collapsed": false,
    "pycharm": {
     "name": "#%%\n",
     "is_executing": false
    }
   }
  },
  {
   "cell_type": "code",
   "execution_count": 20,
   "outputs": [
    {
     "name": "stdout",
     "text": [
      "c:\\nowgood\\\n",
      "c:\\nowgood\\\n"
     ],
     "output_type": "stream"
    }
   ],
   "source": [
    "# 若输出c:\\nowgood\\\n",
    "# print(r\"c:\\nowgood\\\")  # 报错\n",
    "print('c:\\\\nowgood\\\\') # 方法1(推荐)\n",
    "print(r'c:\\nowgood''\\\\') # 方法二(字符串的拼接)"
   ],
   "metadata": {
    "collapsed": false,
    "pycharm": {
     "name": "#%%\n",
     "is_executing": false
    }
   }
  },
  {
   "cell_type": "code",
   "execution_count": 21,
   "outputs": [
    {
     "name": "stdout",
     "text": [
      "c:\\nowgood\\\\\n",
      "c:\\nowgood\\\\\\\\\n"
     ],
     "output_type": "stream"
    }
   ],
   "source": [
    "# 扩展\n",
    "# 原始字符串结尾处有单数条反斜杠(\\)则报错,偶数条则正常输出\n",
    "print(r'c:\\nowgood\\\\')\n",
    "# print(r'c:\\nowgood\\\\\\') # 报错\n",
    "print(r'c:\\nowgood\\\\\\\\')\n",
    "# print(r'c:\\nowgood\\\\\\\\\\') # 报错"
   ],
   "metadata": {
    "collapsed": false,
    "pycharm": {
     "name": "#%%\n",
     "is_executing": false
    }
   }
  },
  {
   "cell_type": "code",
   "execution_count": null,
   "outputs": [],
   "source": [
    "\n"
   ],
   "metadata": {
    "collapsed": false,
    "pycharm": {
     "name": "#%%\n"
    }
   }
  }
 ],
 "metadata": {
  "kernelspec": {
   "display_name": "Python 3",
   "language": "python",
   "name": "python3"
  },
  "language_info": {
   "codemirror_mode": {
    "name": "ipython",
    "version": 2
   },
   "file_extension": ".py",
   "mimetype": "text/x-python",
   "name": "python",
   "nbconvert_exporter": "python",
   "pygments_lexer": "ipython2",
   "version": "2.7.6"
  },
  "pycharm": {
   "stem_cell": {
    "cell_type": "raw",
    "source": [],
    "metadata": {
     "collapsed": false
    }
   }
  }
 },
 "nbformat": 4,
 "nbformat_minor": 0
}