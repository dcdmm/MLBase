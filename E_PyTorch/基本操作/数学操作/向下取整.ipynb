{
 "cells": [
  {
   "cell_type": "code",
   "execution_count": 11,
   "metadata": {
    "collapsed": true
   },
   "outputs": [
    {
     "data": {
      "text/plain": "tensor([-5.0000, -4.6552, -4.3103, -3.9655, -3.6207, -3.2759, -2.9310, -2.5862,\n        -2.2414, -1.8966, -1.5517, -1.2069, -0.8621, -0.5172, -0.1724,  0.1724,\n         0.5172,  0.8621,  1.2069,  1.5517,  1.8966,  2.2414,  2.5862,  2.9310,\n         3.2759,  3.6207,  3.9655,  4.3103,  4.6552,  5.0000])"
     },
     "execution_count": 11,
     "metadata": {},
     "output_type": "execute_result"
    }
   ],
   "source": [
    "import torch\n",
    "\n",
    "\n",
    "a = torch.linspace(-5, 5, 30)\n",
    "a"
   ]
  },
  {
   "cell_type": "code",
   "execution_count": 12,
   "outputs": [
    {
     "data": {
      "text/plain": "tensor([-5., -5., -5., -4., -4., -4., -3., -3., -3., -2., -2., -2., -1., -1.,\n        -1.,  0.,  0.,  0.,  1.,  1.,  1.,  2.,  2.,  2.,  3.,  3.,  3.,  4.,\n         4.,  5.])"
     },
     "execution_count": 12,
     "metadata": {},
     "output_type": "execute_result"
    }
   ],
   "source": [
    "torch.floor(a)"
   ],
   "metadata": {
    "collapsed": false,
    "pycharm": {
     "name": "#%%\n"
    }
   }
  }
 ],
 "metadata": {
  "kernelspec": {
   "display_name": "Python 3",
   "language": "python",
   "name": "python3"
  },
  "language_info": {
   "codemirror_mode": {
    "name": "ipython",
    "version": 2
   },
   "file_extension": ".py",
   "mimetype": "text/x-python",
   "name": "python",
   "nbconvert_exporter": "python",
   "pygments_lexer": "ipython2",
   "version": "2.7.6"
  }
 },
 "nbformat": 4,
 "nbformat_minor": 0
}