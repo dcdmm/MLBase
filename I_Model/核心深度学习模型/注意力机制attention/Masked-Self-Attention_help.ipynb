{
 "cells": [
  {
   "cell_type": "markdown",
   "metadata": {
    "collapsed": true
   },
   "source": [
    "### Self-Attention\n",
    "\n",
    "Queries,key and values come from the **same sentence**\n",
    "\n",
    "<img src=\"../../../Other/img/self-attention0.jpg\"  style=\"width:500px;height:300px;float:bottom\">\n",
    "\n",
    "### Masked Self-Attention\n",
    "\n",
    "Queries,key and values come from the **same sentence**.Queries don't attend to future positions.\n",
    "\n",
    "<img src=\"../../../Other/img/self-attention1.jpg\"  style=\"width:500px;height:300px;float:bottom\">\n",
    "\n",
    "### Masked self-attention math\n",
    "\n",
    "<img src=\"../../../Other/img/self-attention2.jpg\"  style=\"width:550px;height:300px;float:bottom\">"
   ]
  }
 ],
 "metadata": {
  "kernelspec": {
   "display_name": "Python 3",
   "language": "python",
   "name": "python3"
  },
  "language_info": {
   "codemirror_mode": {
    "name": "ipython",
    "version": 2
   },
   "file_extension": ".py",
   "mimetype": "text/x-python",
   "name": "python",
   "nbconvert_exporter": "python",
   "pygments_lexer": "ipython2",
   "version": "3.8.8"
  }
 },
 "nbformat": 4,
 "nbformat_minor": 0
}
