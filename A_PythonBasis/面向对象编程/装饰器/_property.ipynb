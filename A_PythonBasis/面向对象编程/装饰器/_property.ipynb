{
 "cells": [
  {
   "cell_type": "code",
   "execution_count": 4,
   "outputs": [
    {
     "name": "stdout",
     "output_type": "stream",
     "text": [
      "半径为: 10\n",
      "面积为: 314.1592653589793\n",
      "周长为: 62.83185307179586\n"
     ]
    }
   ],
   "source": [
    "import math\n",
    "\n",
    "\n",
    "class Circle:\n",
    "    def __init__(self, radius):\n",
    "        self.radius = radius\n",
    "\n",
    "    @property\n",
    "    def area(self):  # 计算面积\n",
    "        return math.pi * self.radius ** 2\n",
    "\n",
    "    @property\n",
    "    def perimeter(self):  # 计算周长\n",
    "        return 2 * math.pi * self.radius\n",
    "\n",
    "\n",
    "c = Circle(10)\n",
    "print('半径为:', c.radius)\n",
    "print('面积为:', c.area)\n",
    "# 可以访问数据属性一样去访问area,会触发一个函数的执行,动态计算出一个值\n",
    "print('周长为:', c.perimeter)"
   ],
   "metadata": {
    "collapsed": false,
    "pycharm": {
     "name": "#%%\n"
    }
   }
  },
  {
   "cell_type": "code",
   "execution_count": 5,
   "metadata": {
    "collapsed": true
   },
   "outputs": [
    {
     "name": "stdout",
     "output_type": "stream",
     "text": [
      "egon\n",
      "duanmengmeng\n"
     ]
    }
   ],
   "source": [
    "# 装饰器装饰\n",
    "class Foo:\n",
    "    def __init__(self, val):\n",
    "        self.__NAME = val  # __NAME 为私有属性，不能直接访问\n",
    "\n",
    "    # 使用property作为装饰器\n",
    "    @property  # 获取属性\n",
    "    def name(self):\n",
    "        return self.__NAME\n",
    "\n",
    "    @name.setter  # 修改属性\n",
    "    def name(self, value):\n",
    "        if not isinstance(value, str):\n",
    "            raise TypeError('%s must be str' % value)\n",
    "        self.__NAME = value\n",
    "\n",
    "    @name.deleter  # 删除属性\n",
    "    def name(self):\n",
    "        raise TypeError('can not delete')\n",
    "\n",
    "\n",
    "f = Foo('egon')\n",
    "print(f.name)\n",
    "f.name = 'duanmengmeng'\n",
    "print(f.name)\n",
    "# f.name = 10 #抛出异常'TypeError: 10 must be str'\n",
    "# del f.name #抛出异常'TypeError: Can not delete'"
   ]
  },
  {
   "cell_type": "code",
   "execution_count": 6,
   "metadata": {
    "collapsed": true,
    "pycharm": {
     "name": "#%%\n"
    }
   },
   "outputs": [
    {
     "name": "stdout",
     "output_type": "stream",
     "text": [
      "egon\n",
      "duanmengmeng\n"
     ]
    }
   ],
   "source": [
    "# 非装饰器装饰\n",
    "class Foo_not:\n",
    "    def __init__(self, val):\n",
    "        self.__NMAE = val\n",
    "\n",
    "    def getname(self):\n",
    "        return self.__NMAE\n",
    "\n",
    "    def setname(self, value):\n",
    "        if not isinstance(value, str):\n",
    "            raise TypeError('%s must be str' % value)\n",
    "        self.__NMAE = value\n",
    "\n",
    "    def delname(self):\n",
    "        raise TypeError('can not delete')\n",
    "\n",
    "    # 代码有一些可维护性问题\n",
    "    name = property(fget=getname, fset=setname,\n",
    "                    fdel=delname)\n",
    "\n",
    "\n",
    "f1 = Foo_not('egon')\n",
    "print(f1.name)\n",
    "f1.name = 'duanmengmeng'\n",
    "print(f1.name)\n",
    "# f.name=10 #抛出异常'TypeError: 10 must be str'\n",
    "# del f.name #抛出异常'TypeError: Can not delete'\n",
    "\n"
   ]
  }
 ],
 "metadata": {
  "kernelspec": {
   "name": "python3",
   "language": "python",
   "display_name": "Python 3"
  },
  "language_info": {
   "codemirror_mode": {
    "name": "ipython",
    "version": 2
   },
   "file_extension": ".py",
   "mimetype": "text/x-python",
   "name": "python",
   "nbconvert_exporter": "python",
   "pygments_lexer": "ipython2",
   "version": "2.7.6"
  }
 },
 "nbformat": 4,
 "nbformat_minor": 0
}