{
 "cells": [
  {
   "cell_type": "markdown",
   "metadata": {
    "collapsed": true,
    "pycharm": {
     "name": "#%% md\n"
    }
   },
   "source": [
    "&emsp;&emsp;给定一个二维图像$X \\subseteq \\mathbb{R}^{H \\times W}$和一个二维滤波器$W \\subseteq \\mathbb{R}^{FH \\times FW}$,对图像$X$进行零填充,两端各补$FH-1$和$FW-1$个零,得到全填充的图像$\\hat{X} \\subseteq \\mathbb{R}^{(H+2FH-2) \\times (N+2FW-2)}$.图像$X$和滤波器$W$的宽卷积定义为\n",
    "\n",
    "$$ W \\hat{\\otimes}  X \\buildrel \\Delta \\over = W \\otimes \\hat{X} $$\n",
    "\n",
    "其中$\\hat{\\otimes}$表示宽卷积运算.\n",
    "\n",
    "&emsp;&emsp;当输入信息和滤波器有固定长度时,它们的宽卷积依然具有交换性,即\n",
    "\n",
    "$$ \\mathrm{rot180}(W) \\hat{\\otimes} X = \\mathrm{rot180}(X) \\hat{\\otimes} W $$ \n",
    "\n",
    "全填充示意图如下: \n",
    "\n",
    "<img src=\"../../../../Other/img/全填充.png\">\n",
    "\n",
    "<img src=\"../../../../Other/img/全填充.gif\">"
   ]
  },
  {
   "cell_type": "code",
   "execution_count": null,
   "metadata": {},
   "outputs": [],
   "source": []
  }
 ],
 "metadata": {
  "kernelspec": {
   "display_name": "Python 3",
   "language": "python",
   "name": "python3"
  },
  "language_info": {
   "codemirror_mode": {
    "name": "ipython",
    "version": 3
   },
   "file_extension": ".py",
   "mimetype": "text/x-python",
   "name": "python",
   "nbconvert_exporter": "python",
   "pygments_lexer": "ipython3",
   "version": "3.7.7"
  },
  "toc": {
   "base_numbering": 1,
   "nav_menu": {},
   "number_sections": true,
   "sideBar": true,
   "skip_h1_title": false,
   "title_cell": "Table of Contents",
   "title_sidebar": "Contents",
   "toc_cell": false,
   "toc_position": {},
   "toc_section_display": true,
   "toc_window_display": false
  }
 },
 "nbformat": 4,
 "nbformat_minor": 1
}
