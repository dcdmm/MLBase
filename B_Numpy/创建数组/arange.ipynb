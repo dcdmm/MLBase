{
 "cells": [
  {
   "cell_type": "code",
   "metadata": {
    "pycharm": {
     "is_executing": false
    },
    "ExecuteTime": {
     "end_time": "2024-10-25T04:01:17.744709Z",
     "start_time": "2024-10-25T04:01:17.741676Z"
    }
   },
   "source": [
    "import numpy as np"
   ],
   "outputs": [],
   "execution_count": 6
  },
  {
   "cell_type": "code",
   "metadata": {
    "pycharm": {
     "is_executing": false
    },
    "ExecuteTime": {
     "end_time": "2024-10-25T04:01:17.760497Z",
     "start_time": "2024-10-25T04:01:17.756759Z"
    }
   },
   "source": [
    "np.arange(10)  # 创建从0到10的数组(默认从0开始,不含末尾元素10)"
   ],
   "outputs": [
    {
     "data": {
      "text/plain": [
       "array([0, 1, 2, 3, 4, 5, 6, 7, 8, 9])"
      ]
     },
     "execution_count": 7,
     "metadata": {},
     "output_type": "execute_result"
    }
   ],
   "execution_count": 7
  },
  {
   "cell_type": "code",
   "metadata": {
    "pycharm": {
     "is_executing": false,
     "metadata": false,
     "name": "#%%\n"
    },
    "ExecuteTime": {
     "end_time": "2024-10-25T04:01:17.846988Z",
     "start_time": "2024-10-25T04:01:17.842625Z"
    }
   },
   "source": [
    "np.arange(3, 8)  # 创建从3到8的数组(不含末尾元素8)"
   ],
   "outputs": [
    {
     "data": {
      "text/plain": [
       "array([3, 4, 5, 6, 7])"
      ]
     },
     "execution_count": 8,
     "metadata": {},
     "output_type": "execute_result"
    }
   ],
   "execution_count": 8
  },
  {
   "cell_type": "code",
   "metadata": {
    "pycharm": {
     "is_executing": false
    },
    "ExecuteTime": {
     "end_time": "2024-10-25T04:01:17.920308Z",
     "start_time": "2024-10-25T04:01:17.916389Z"
    }
   },
   "source": [
    "np.arange(3, 8, 2)  # 步长为2"
   ],
   "outputs": [
    {
     "data": {
      "text/plain": [
       "array([3, 5, 7])"
      ]
     },
     "execution_count": 9,
     "metadata": {},
     "output_type": "execute_result"
    }
   ],
   "execution_count": 9
  },
  {
   "cell_type": "code",
   "metadata": {
    "pycharm": {
     "is_executing": false,
     "name": "#%%\n"
    },
    "ExecuteTime": {
     "end_time": "2024-10-25T04:01:18.004047Z",
     "start_time": "2024-10-25T04:01:17.999809Z"
    }
   },
   "source": [
    "np.arange(8, 2, -2)  # 步长为-2"
   ],
   "outputs": [
    {
     "data": {
      "text/plain": [
       "array([8, 6, 4])"
      ]
     },
     "execution_count": 10,
     "metadata": {},
     "output_type": "execute_result"
    }
   ],
   "execution_count": 10
  }
 ],
 "metadata": {
  "kernelspec": {
   "display_name": "Python 3 (ipykernel)",
   "language": "python",
   "name": "python3"
  },
  "language_info": {
   "codemirror_mode": {
    "name": "ipython",
    "version": 3
   },
   "file_extension": ".py",
   "mimetype": "text/x-python",
   "name": "python",
   "nbconvert_exporter": "python",
   "pygments_lexer": "ipython3",
   "version": "3.8.11"
  }
 },
 "nbformat": 4,
 "nbformat_minor": 1
}
