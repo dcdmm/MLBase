{
 "cells": [
  {
   "cell_type": "markdown",
   "metadata": {
    "collapsed": true,
    "pycharm": {
     "name": "#%% md\n"
    }
   },
   "source": [
    "<font color='red' size=4> 元字符:</font>  \n",
    "\n",
    "|字符 |  说明 |  \n",
    "| :---:|:---:|    \n",
    "|^ | 匹配输入字符串的开始位置。要匹配 \"^\" 字符本身，请使用 \"\\\\\\^\"|\n",
    "|$ |匹配输入字符串的结尾位置。要匹配 \"$\" 字符本身，请使用 \"\\$\"|\n",
    "|( )|标记一个子表达式的开始和结束位置。要匹配小括号，请使用 \"\\\\\\(\" 和 \"\\\\\\)\"|\n",
    "|[ ]|用来自定义能够匹配 '多种字符' 的表达式。要匹配中括号，请使用\"\\\\\\[ \\\\\\[\" |\n",
    " |{ }|修饰匹配次数的符号。要匹配大括号，请使用 \"\\\\\\{\" 和 \"\\\\\\}\"|\n",
    " |.|匹配除了换行符（\\n）以外的任意一个字符。要匹配小数点本身，请使用 \"\\\\\\.\"|\n",
    " |?|修饰匹配次数为 0 次或 1 次。要匹配 \"?\" 字符本身，请使用 \"\\\\\\?\"|\n",
    " |+|修饰匹配次数为至少 1 次。要匹配 \"+\" 字符本身，请使用 \"\\\\\\+\"|\n",
    " |* |修饰匹配次数为 0 次或任意次(贪婪)。要匹配 \"\\*\" 字符本身，请使用 \"\\\\\\*\"|\n",
    " | | |左右两边表达式之间 \"或\" 关系。匹配 \"\\|\" 本身，请使用 \"\\\\\\|\"|\n",
    "\n",
    "\n",
    "</br>\n",
    "</br>\n",
    "<font color='red' size=4> 特殊字符:</font> \n",
    "\n",
    "|字符集合|说明|\n",
    "|:---:|:---:|\n",
    "|.|小数点可以匹配除了换行符（\\n）以外的任意一个字符|\n",
    "|\\w|可以匹配任何一个字母或者数字或者下划线,等价于[A-Za-z0-9_]|\n",
    "|\\W|W大写，可以匹配任何一个字母或者数字或者下划线以外的字符,[^A-Za-z0-9_]|\n",
    "|\\s|可以匹配空格、制表符、换页符等空白字符的其中任意一个,等价于[\\f\\n\\r\\t\\v]|\n",
    "|\\S|S大写，可以匹配任何一个空白字符以外的字符,等价于[^\\f\\n\\r\\t\\v]|\n",
    "|\\d| 可以匹配任何一个 0~9 数字字符,等价于[0-9]|\n",
    "|\\D| D大写，可以匹配任何一个非数字字符,等价于[^0-9]|\n",
    " \n",
    " \n",
    "</br>\n",
    "</br> \n",
    "<font color='red' size=4> 匹配次数限定符(贪婪模式):</font>  \n",
    "\n",
    "|限定符|说明|\n",
    "|:---:|:---:| \n",
    "|{n}|表达式固定重复n次，比如：\"\\w{2}\" 相当于 \"\\w\\w\":\n",
    "|{m, n}|表达式尽可能重复n次，至少重复m次：\"ba{1,3}\"可以匹配 \"ba\"或\"baa\"或\"baaa\"|\n",
    "|{m, }|表达式尽可能的多匹配，至少重复m次：\"\\w\\d{2,}\"可以匹配 \"a12\",\"x456\"...|\n",
    "|?|表达式尽可能匹配1次，也可以不匹配，相当于 {0, 1}|\n",
    "|+|表达式尽可能的多匹配，至少匹配1次，相当于 {1, }|\n",
    "|*|表达式尽可能的多匹配，最少可以不匹配，相当于 {0, }|\n",
    " \n",
    " \n",
    "</br>\n",
    "</br> \n",
    "<font color='red' size=4> 匹配次数限定符(非贪婪模式):</font>  \n",
    "\n",
    "|限定符|说明|\n",
    "|:---:|:---:| \n",
    "|{m, n}?|表达式尽量只匹配m次，最多重复n次。|\n",
    " |{m, }?|表达式尽量只匹配m次，最多可以匹配任意次。|\n",
    " |??|表达式尽量不匹配，最多匹配1次，相当于 {0, 1}?|\n",
    " |+?|表达式尽量只匹配1次，最多可匹配任意次，相当于 {1, }?|\n",
    " |*?|表达式尽量不匹配，最多可匹配任意次，相当于 {0, }?|\n",
    " \n",
    " \n",
    "</br>\n",
    "</br>\n",
    "<font color='red' size=4> 字符边界:</font> \n",
    "\n",
    "|边界条件|说明|\n",
    " |:---:|:---:|\n",
    "|^|当前位置必须是文本开始位置| \n",
    "|$|当前位置必须是文本结束位置|\n",
    "|\\b|匹配单词边界。当前位置的左右两侧，只能有一侧是字母数字或下划线,例如:'er\\b'可以匹配\"never\"中的'er',但不能匹配\"verb\"中的'er'|\n",
    "|\\B| 匹配非单词边界。'er\\B' 能匹配 \"verb\" 中的 'er'，但不能匹配\"never\"中的'er'"
   ]
  },
  {
   "cell_type": "code",
   "execution_count": 19,
   "metadata": {
    "pycharm": {
     "name": "#%%\n"
    }
   },
   "outputs": [],
   "source": [
    "import  re"
   ]
  },
  {
   "cell_type": "markdown",
   "metadata": {
    "pycharm": {
     "name": "#%% md\n"
    }
   },
   "source": [
    "### [...]举例"
   ]
  },
  {
   "cell_type": "code",
   "execution_count": 20,
   "metadata": {
    "pycharm": {
     "name": "#%%\n"
    }
   },
   "outputs": [
    {
     "name": "stdout",
     "output_type": "stream",
     "text": [
      "a\n"
     ]
    }
   ],
   "source": [
    "sb_1 = re.match('[aeiou]','abc') # 匹配a 、e 、i 、o 或u任意一个字符\n",
    "print(sb_1.group())"
   ]
  },
  {
   "cell_type": "code",
   "execution_count": 21,
   "metadata": {
    "pycharm": {
     "name": "#%%\n"
    }
   },
   "outputs": [
    {
     "name": "stdout",
     "output_type": "stream",
     "text": [
      "['b', 'c', '7', '7', '9']\n"
     ]
    }
   ],
   "source": [
    "sb_2 = re.findall(r'[^aeiou]','abc779') # 匹配除a 、e 、i 、o 、u之外的任意字符(以^开头)\n",
    "print(sb_2) "
   ]
  },
  {
   "cell_type": "code",
   "execution_count": 22,
   "metadata": {
    "pycharm": {
     "name": "#%%\n"
    }
   },
   "outputs": [
    {
     "name": "stdout",
     "output_type": "stream",
     "text": [
      "['1-1314']\n"
     ]
    }
   ],
   "source": [
    "sb_3 = re.findall(r\"1-[1-4]*\", '1-1314+') # \"-\"表示一组字符范围(若不是用在字符集“[...]”里,仅表示普通字符,即减号)\n",
    "print(sb_3)"
   ]
  },
  {
   "cell_type": "markdown",
   "metadata": {},
   "source": [
    "### *举例"
   ]
  },
  {
   "cell_type": "code",
   "execution_count": 23,
   "metadata": {
    "pycharm": {
     "name": "#%%\n"
    }
   },
   "outputs": [
    {
     "name": "stdout",
     "output_type": "stream",
     "text": [
      "abc\n"
     ]
    }
   ],
   "source": [
    "ak_1 = re.match('[^^]*','abc^abc') # 匹配除字符^外的任何字符\n",
    "print(ak_1.group())"
   ]
  },
  {
   "cell_type": "code",
   "execution_count": 24,
   "metadata": {
    "pycharm": {
     "name": "#%%\n"
    }
   },
   "outputs": [
    {
     "name": "stdout",
     "output_type": "stream",
     "text": [
      "wowoooow\n"
     ]
    }
   ],
   "source": [
    "ak_2 = re.match('w.*w','wowoooow')\n",
    "print(ak_2.group())"
   ]
  },
  {
   "cell_type": "code",
   "execution_count": 25,
   "metadata": {
    "pycharm": {
     "name": "#%%\n"
    }
   },
   "outputs": [
    {
     "name": "stdout",
     "output_type": "stream",
     "text": [
      "wow\n"
     ]
    }
   ],
   "source": [
    "ak_3 = re.match('w.*?w','wowoooow') # 取消*号贪婪模式\n",
    "print(ak_3.group())"
   ]
  },
  {
   "cell_type": "markdown",
   "metadata": {
    "pycharm": {
     "is_executing": false,
     "name": "#%% md\n"
    }
   },
   "source": [
    "### ?举例"
   ]
  },
  {
   "cell_type": "code",
   "execution_count": 26,
   "metadata": {
    "pycharm": {
     "name": "#%%\n"
    }
   },
   "outputs": [
    {
     "name": "stdout",
     "output_type": "stream",
     "text": [
      "goodjob\n"
     ]
    }
   ],
   "source": [
    "qm_1 = re.match('good-?job','goodjob') # 前一个正则(前一个字符)是可选的\n",
    "print(qm_1.group())"
   ]
  },
  {
   "cell_type": "code",
   "execution_count": 27,
   "metadata": {
    "pycharm": {
     "name": "#%%\n"
    }
   },
   "outputs": [
    {
     "name": "stdout",
     "output_type": "stream",
     "text": [
      "goodjob\n"
     ]
    }
   ],
   "source": [
    "qm_2 = re.match('good-?job','goodjob') \n",
    "print(qm_2.group())"
   ]
  },
  {
   "cell_type": "markdown",
   "metadata": {
    "pycharm": {
     "name": "#%% md\n"
    }
   },
   "source": [
    "### |举例"
   ]
  },
  {
   "cell_type": "code",
   "execution_count": 28,
   "metadata": {
    "pycharm": {
     "name": "#%%\n"
    }
   },
   "outputs": [
    {
     "name": "stdout",
     "output_type": "stream",
     "text": [
      "['abcdefga']\n",
      "['32456546545']\n",
      "['adfasf', '32456546545']\n",
      "['2356', 'safdsfa']\n"
     ]
    }
   ],
   "source": [
    "print(re.findall('[a-z]+|[2-9]+','abcdefga'))\n",
    " \n",
    "print(re.findall('[a-z]+|[2-9]+','32456546545'))\n",
    " \n",
    "print(re.findall('[a-z]+|[2-9]+','adfasf32456546545'))\n",
    " \n",
    "print(re.findall('[a-z]+|[2-9]+','2356safdsfa'))"
   ]
  },
  {
   "cell_type": "markdown",
   "metadata": {
    "pycharm": {
     "is_executing": false,
     "name": "#%% md\n"
    }
   },
   "source": [
    "### 匹配次数限定符举例"
   ]
  },
  {
   "cell_type": "code",
   "execution_count": 29,
   "metadata": {
    "pycharm": {
     "name": "#%%\n"
    }
   },
   "outputs": [
    {
     "name": "stdout",
     "output_type": "stream",
     "text": [
      "['A', 'AA', 'AA', 'AAA']\n",
      "['A', 'A', 'A', 'A', 'A', 'A', 'A', 'A']\n"
     ]
    }
   ],
   "source": [
    "limit = \"a aAx aAAy bAAz cAAAk\"\n",
    "# {0,1} 等价于?\n",
    "# {0,} 等价于*\n",
    "# {1,} 等价于+\n",
    "print(re.findall(r\"A{1,3}\", limit)) \n",
    "print(re.findall(r\"A{1,3}?\", limit)) # 非贪婪模式"
   ]
  },
  {
   "cell_type": "markdown",
   "metadata": {
    "pycharm": {
     "is_executing": false,
     "name": "#%% md\n"
    }
   },
   "source": [
    "### 反斜杠(\\\\)举例"
   ]
  },
  {
   "cell_type": "code",
   "execution_count": 30,
   "metadata": {
    "pycharm": {
     "name": "#%%\n"
    }
   },
   "outputs": [
    {
     "data": {
      "text/plain": "'\\\\'"
     },
     "execution_count": 30,
     "metadata": {},
     "output_type": "execute_result"
    }
   ],
   "source": [
    "re.match('\\\\\\\\','\\\\123').group() # 匹配反斜杠(使用\\进行转移)"
   ]
  },
  {
   "cell_type": "code",
   "execution_count": 31,
   "metadata": {
    "pycharm": {
     "name": "#%%\n"
    }
   },
   "outputs": [
    {
     "data": {
      "text/plain": "'\\\\'"
     },
     "execution_count": 31,
     "metadata": {},
     "output_type": "execute_result"
    }
   ],
   "source": [
    "re.match(r'\\\\','\\\\123').group() # 匹配反斜杠(使用原始字符串)"
   ]
  },
  {
   "cell_type": "markdown",
   "metadata": {
    "pycharm": {
     "name": "#%% md\n"
    }
   },
   "source": [
    "### 字符边界举例"
   ]
  },
  {
   "cell_type": "code",
   "execution_count": 32,
   "metadata": {
    "pycharm": {
     "name": "#%%\n"
    }
   },
   "outputs": [
    {
     "name": "stdout",
     "output_type": "stream",
     "text": [
      "[]\n"
     ]
    }
   ],
   "source": [
    "by_1 = re.findall(r'^aaa', 'xxx aaa bbb') # \"aaa\"位于字符串的开头的时候,\"^aaa\"才能匹配\n",
    "print(by_1)"
   ]
  },
  {
   "cell_type": "code",
   "execution_count": 33,
   "metadata": {
    "pycharm": {
     "name": "#%%\n"
    }
   },
   "outputs": [
    {
     "name": "stdout",
     "output_type": "stream",
     "text": [
      "[]\n"
     ]
    }
   ],
   "source": [
    "by_2 = re.findall(r'aaa$', 'xxx aaa bbb') # \"aaa\" 位于字符串的结尾的时候,\"aaa$\"才能匹配\n",
    "print(by_2)"
   ]
  },
  {
   "cell_type": "code",
   "execution_count": 34,
   "metadata": {
    "pycharm": {
     "name": "#%%\n"
    }
   },
   "outputs": [
    {
     "name": "stdout",
     "output_type": "stream",
     "text": [
      "['end']\n"
     ]
    }
   ],
   "source": [
    "by_3 = re.findall(r'\\bend\\b', 'weekend,endfor,end')\n",
    "print(by_3)"
   ]
  },
  {
   "cell_type": "code",
   "execution_count": 35,
   "metadata": {
    "pycharm": {
     "name": "#%%\n"
    }
   },
   "outputs": [
    {
     "name": "stdout",
     "output_type": "stream",
     "text": [
      "['phone']\n"
     ]
    }
   ],
   "source": [
    "by_4 = re.findall(r'^.+?\\b', 'phone no : 12345')\n",
    "print(by_4)"
   ]
  },
  {
   "cell_type": "code",
   "execution_count": 36,
   "metadata": {
    "pycharm": {
     "name": "#%%\n"
    }
   },
   "outputs": [
    {
     "name": "stdout",
     "output_type": "stream",
     "text": [
      "['234']\n"
     ]
    }
   ],
   "source": [
    "by_5 = re.findall(r'.34\\B', 'phone no : 12345') # 非单词边界\n",
    "print(by_5)"
   ]
  }
 ],
 "metadata": {
  "kernelspec": {
   "display_name": "Python 3",
   "language": "python",
   "name": "python3"
  },
  "language_info": {
   "codemirror_mode": {
    "name": "ipython",
    "version": 3
   },
   "file_extension": ".py",
   "mimetype": "text/x-python",
   "name": "python",
   "nbconvert_exporter": "python",
   "pygments_lexer": "ipython3",
   "version": "3.7.7"
  },
  "toc": {
   "base_numbering": 1,
   "nav_menu": {},
   "number_sections": true,
   "sideBar": true,
   "skip_h1_title": false,
   "title_cell": "Table of Contents",
   "title_sidebar": "Contents",
   "toc_cell": false,
   "toc_position": {},
   "toc_section_display": true,
   "toc_window_display": false
  }
 },
 "nbformat": 4,
 "nbformat_minor": 1
}