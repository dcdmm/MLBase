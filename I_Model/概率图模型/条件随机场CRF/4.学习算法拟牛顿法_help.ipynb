{
 "cells": [
  {
   "cell_type": "markdown",
   "metadata": {
    "collapsed": true,
    "pycharm": {
     "name": "#%% md\n"
    }
   },
   "source": [
    "&emsp;&emsp;对于条件随机场模型\n",
    "\n",
    "$$ P_{\\mathbf{w}}(\\mathbf{y} \\mid \\mathbf{x})=\\frac{\\exp \\left(\\sum_{i=1}^{n} w_{i} f_{i}(\\mathbf{x}, \\mathbf{y})\\right)}{\\sum_{y} \\exp \\left(\\sum_{i=1}^{n} w_{i} f_{i}(\\mathbf{x}, \\mathbf{y})\\right)} $$\n",
    "\n",
    "学习的优化目标函数是(参考最大熵模型的学习_help.ipynb使用最大似然估计导出)\n",
    "\n",
    "$$ \\min _{\\mathbf{w} \\in \\mathbf{R}^{n}} f(\\mathbf{w})=\\sum_{\\mathbf{x}} \\tilde{P}(\\mathbf{x}) \\log \\sum_{\\mathbf{y}} \\exp \\left(\\sum_{i=1}^{n} w_{i} f_{i}(\\mathbf{x}, \\mathbf{y})\\right)-\\sum_{\\mathbf{x}, \\mathbf{y}} \\tilde{P}(\\mathbf{x}, \\mathbf{y}) \\sum_{i=1}^{n} w_{i} f_{i}(\\mathbf{x}, \\mathbf{y}) $$\n",
    "\n",
    "其梯度函数是\n",
    "\n",
    "$$ g(\\mathbf{w})=\\sum_{\\mathbf{x}, \\mathbf{y}} \\tilde{P}(\\mathbf{x}) P_{\\mathbf{w}}(\\mathbf{y} \\mid \\mathbf{x}) f(\\mathbf{x}, \\mathbf{y})-E_{\\tilde{P}}(f) $$\n",
    "\n",
    "拟牛顿法的BFGS算法如下.\n",
    "\n",
    "<font size=4 color='red'>算法:</font>\n",
    "输入: 特征函数$ f_1, f_2, \\dots, f_n $;经验分布$ \\hat{P}(\\mathbf{x}, \\mathbf{y}) $, 目标函数$ f(\\mathbf{w})$,梯度$ g(\\mathbf{w}) = \\nabla f(\\mathbf{w}) $,精度要求$ \\epsilon $;\n",
    "输出:最优参数值$\\mathbf{w}^*$,最优模型$ P_{\\mathbf{w}^*} (y|\\mathbf{x}) $.\n",
    "\n",
    "1. 选定初始点$\\mathbf{w}^{0}$,取$B_0$为正定对称矩阵,置$k=0$\n",
    "2. 计算$g_k = g(\\mathbf{w}^{(k)})$,若$ ||g_k|| < \\epsilon $,则停止计算,得$ \\mathbf{w}^* = \\mathbf{w}^{(k)} $;否则转3\n",
    "3. 由$B_k p_k = - g_k$求出$p_k$\n",
    "4. 一维搜索:求$\\lambda_k$使得\n",
    "$$ f(\\mathbf{w}^{(k)} + \\lambda_k p_k) = \\min_{\\lambda \\leq 0}  f(\\mathbf{w}^{(k)} + \\lambda p_k)$$\n",
    "5. 置$ \\mathbf{w}^{(k+1)} = \\mathbf{w}^{(k)} + \\lambda_k p_k $\n",
    "6. 计算$ g_{k+1} = g(\\mathbf{w}^{(k+1)}) $,若$  || g_{k+1} < \\epsilon||$,则停止计算,得近似解$\\mathbf{w}^* = \\mathbf{w}^{(k+1)}$;否则,计算$B_{k+1}$,按下式求出$ B_{k+1} $:\n",
    "$$ B_{k+1} = B_k + \\frac{y_k y_k^T}{y_k^T \\delta_k} -\\frac{B_k \\delta_k \\delta_k^T B_k}{\\delta_k^T B_k \\delta_k} $$\n",
    "其中,\n",
    "$$ y_k = g_{k+1} -g_k, \\delta_k = \\mathbf{w}^{(k+1)} - \\mathbf{w}^{(k)} $$\n",
    "7. 置$ k=k+1$,转3\n"
   ]
  }
 ],
 "metadata": {
  "kernelspec": {
   "display_name": "Python 3",
   "language": "python",
   "name": "python3"
  },
  "language_info": {
   "codemirror_mode": {
    "name": "ipython",
    "version": 2
   },
   "file_extension": ".py",
   "mimetype": "text/x-python",
   "name": "python",
   "nbconvert_exporter": "python",
   "pygments_lexer": "ipython2",
   "version": "2.7.6"
  }
 },
 "nbformat": 4,
 "nbformat_minor": 0
}