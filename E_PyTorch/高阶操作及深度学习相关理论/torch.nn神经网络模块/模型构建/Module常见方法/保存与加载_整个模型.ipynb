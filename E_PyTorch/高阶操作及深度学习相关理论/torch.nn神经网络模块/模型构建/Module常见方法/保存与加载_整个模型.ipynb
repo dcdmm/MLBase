{
 "cells": [
  {
   "cell_type": "code",
   "execution_count": 5,
   "metadata": {
    "collapsed": true
   },
   "outputs": [],
   "source": [
    "from abc import ABC\n",
    "import torch\n",
    "import torch.nn as nn"
   ]
  },
  {
   "cell_type": "code",
   "execution_count": 6,
   "outputs": [
    {
     "name": "stdout",
     "output_type": "stream",
     "text": [
      "iteration：0,    loss: 0.664216160774231\n",
      "iteration：20,    loss: 0.21695969998836517\n",
      "iteration：40,    loss: 0.1590348184108734\n",
      "iteration：60,    loss: 0.13782227039337158\n",
      "iteration：80,    loss: 0.12419405579566956\n",
      "iteration：100,    loss: 0.11416415125131607\n",
      "iteration：120,    loss: 0.10638251155614853\n",
      "iteration：140,    loss: 0.10015667229890823\n",
      "iteration：160,    loss: 0.09506449103355408\n",
      "iteration：180,    loss: 0.09082644432783127\n",
      "iteration：200,    loss: 0.0872480496764183\n",
      "iteration：220,    loss: 0.08418921381235123\n",
      "iteration：240,    loss: 0.08154639601707458\n",
      "iteration：260,    loss: 0.07924140989780426\n",
      "iteration：280,    loss: 0.07721417397260666\n",
      "iteration：300,    loss: 0.0754178836941719\n",
      "iteration：320,    loss: 0.07381553947925568\n",
      "iteration：340,    loss: 0.07237759977579117\n",
      "iteration：360,    loss: 0.07108014822006226\n",
      "iteration：380,    loss: 0.06990370899438858\n",
      "iteration：400,    loss: 0.06883220374584198\n",
      "iteration：420,    loss: 0.06785228848457336\n",
      "iteration：440,    loss: 0.06695280969142914\n",
      "iteration：460,    loss: 0.0661243423819542\n",
      "iteration：480,    loss: 0.06535888463258743\n"
     ]
    }
   ],
   "source": [
    "x0, y0 = torch.normal(mean=1.7, std=1, size=(100, 2)) + 1, torch.zeros(100)  # 数据集1\n",
    "x1, y1 = torch.normal(mean=-1.7, std=1, size=(100, 2)) + 1, torch.ones(100)  # 数据集2\n",
    "train_x, train_y = torch.cat((x0, x1), 0), torch.cat((y0, y1), 0)\n",
    "\n",
    "\n",
    "class LR(nn.Module, ABC):\n",
    "    def __init__(self):\n",
    "        super(LR, self).__init__()\n",
    "        self.features = nn.Linear(2, 1)\n",
    "        self.sigmoid = nn.Sigmoid()\n",
    "\n",
    "    def forward(self, x):\n",
    "        x = self.features(x)\n",
    "        x = self.sigmoid(x)\n",
    "        return x\n",
    "\n",
    "\n",
    "lr_net = LR()\n",
    "loss_fn = nn.BCELoss()\n",
    "optimizer = torch.optim.SGD(lr_net.parameters(), lr=0.01, momentum=0.9)\n",
    "\n",
    "for iteration in range(500):\n",
    "    optimizer.zero_grad()  # 梯度清零\n",
    "    y_pred = lr_net(train_x)\n",
    "    loss = loss_fn(y_pred.squeeze(), train_y)\n",
    "    loss.backward()\n",
    "    optimizer.step()\n",
    "\n",
    "    if iteration % 20 == 0:\n",
    "        print(\"iteration：{iteration},    loss: {loss}\".format(iteration=iteration, loss=loss))"
   ],
   "metadata": {
    "collapsed": false,
    "pycharm": {
     "name": "#%%\n"
    }
   }
  },
  {
   "cell_type": "code",
   "execution_count": 7,
   "outputs": [],
   "source": [
    "torch.save(lr_net, 'torch_model.bin')  # 保存整个模型"
   ],
   "metadata": {
    "collapsed": false,
    "pycharm": {
     "name": "#%%\n"
    }
   }
  },
  {
   "cell_type": "code",
   "execution_count": 8,
   "outputs": [
    {
     "data": {
      "text/plain": "LR(\n  (features): Linear(in_features=2, out_features=1, bias=True)\n  (sigmoid): Sigmoid()\n)"
     },
     "execution_count": 8,
     "metadata": {},
     "output_type": "execute_result"
    }
   ],
   "source": [
    "lr_net_new = torch.load('torch_model.bin')\n",
    "lr_net_new"
   ],
   "metadata": {
    "collapsed": false,
    "pycharm": {
     "name": "#%%\n"
    }
   }
  }
 ],
 "metadata": {
  "kernelspec": {
   "display_name": "Python 3",
   "language": "python",
   "name": "python3"
  },
  "language_info": {
   "codemirror_mode": {
    "name": "ipython",
    "version": 2
   },
   "file_extension": ".py",
   "mimetype": "text/x-python",
   "name": "python",
   "nbconvert_exporter": "python",
   "pygments_lexer": "ipython2",
   "version": "2.7.6"
  }
 },
 "nbformat": 4,
 "nbformat_minor": 0
}