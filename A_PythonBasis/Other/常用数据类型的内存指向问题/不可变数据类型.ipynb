{
 "cells": [
  {
   "cell_type": "markdown",
   "metadata": {},
   "source": [
    "### 不可变数据类型:bool,int,float,string,tuple,frozenset,constant"
   ]
  },
  {
   "cell_type": "code",
   "execution_count": 12,
   "metadata": {
    "pycharm": {
     "name": "#%%\n"
    }
   },
   "outputs": [
    {
     "name": "stdout",
     "output_type": "stream",
     "text": [
      "140710655829968 140710655829968 140710655829968\n"
     ]
    }
   ],
   "source": [
    "'''\n",
    "解析:\n",
    "1. 注意:[-5, 256]之间的整数的内存地址固定环境下是固定的(这里假设3的内存地址为id_3)\n",
    "2. a指向id_3,id_3的引用计数+1\n",
    "3. b指向id_3,id_3的引用计数+1\n",
    "'''\n",
    "a = 3\n",
    "b = 3\n",
    "print(id(a), id(b), id(3))  # 内存地址相同"
   ]
  },
  {
   "cell_type": "code",
   "execution_count": 13,
   "outputs": [
    {
     "name": "stdout",
     "output_type": "stream",
     "text": [
      "2248523136560 2248523136848 2248523136304\n"
     ]
    }
   ],
   "source": [
    "a1 = 3222\n",
    "b1 = 3222\n",
    "print(id(a1), id(b1), id(3222))  # 内存地址不同"
   ],
   "metadata": {
    "collapsed": false,
    "pycharm": {
     "name": "#%%\n"
    }
   }
  },
  {
   "cell_type": "code",
   "execution_count": 14,
   "outputs": [
    {
     "name": "stdout",
     "output_type": "stream",
     "text": [
      "2248508047088\n"
     ]
    }
   ],
   "source": [
    "'''\n",
    "# 解析:\n",
    "1. 为5.5在内存中开辟一块内存(这里假设为id_5.5)\n",
    "2. a指向5.5_id,id_5.5的引用计数+1,id_3的引用计数-1\n",
    "'''\n",
    "a = 5.5\n",
    "print(id(a))  # 数据发生改变后,变量的内存地址发生了改变(不可变数据类型)"
   ],
   "metadata": {
    "collapsed": false,
    "pycharm": {
     "name": "#%%\n"
    }
   }
  },
  {
   "cell_type": "code",
   "execution_count": 15,
   "outputs": [
    {
     "name": "stdout",
     "output_type": "stream",
     "text": [
      "2248493191664 2248493191664 2248493191664\n"
     ]
    }
   ],
   "source": [
    "# 注意由字母丶数字丶下划线组成的字符串(长度不超过4096)的内存地址固定环境下是固定的(python字符串驻留机制)\n",
    "name1 = \"duan_1\"\n",
    "name2 = \"duan_1\"\n",
    "\n",
    "print(id(name1), id(name2), id('duan_1'))  # 内存地址相同"
   ],
   "metadata": {
    "collapsed": false,
    "pycharm": {
     "name": "#%%\n"
    }
   }
  },
  {
   "cell_type": "code",
   "execution_count": 16,
   "outputs": [
    {
     "name": "stdout",
     "output_type": "stream",
     "text": [
      "False\n",
      "True\n"
     ]
    }
   ],
   "source": [
    "name3 = '1' * 4097\n",
    "name4 = '1' * 4097\n",
    "print(id(name3) == id(name4))  # False\n",
    "\n",
    "name5 = '1' * 4096\n",
    "name6 = '1' * 4096\n",
    "print(id(name5) == id(name6))  # True"
   ],
   "metadata": {
    "collapsed": false,
    "pycharm": {
     "name": "#%%\n"
    }
   }
  }
 ],
 "metadata": {
  "kernelspec": {
   "display_name": "Python 3",
   "language": "python",
   "name": "python3"
  },
  "language_info": {
   "codemirror_mode": {
    "name": "ipython",
    "version": 3
   },
   "file_extension": ".py",
   "mimetype": "text/x-python",
   "name": "python",
   "nbconvert_exporter": "python",
   "pygments_lexer": "ipython3",
   "version": "3.7.7"
  },
  "toc": {
   "base_numbering": 1,
   "nav_menu": {},
   "number_sections": true,
   "sideBar": true,
   "skip_h1_title": false,
   "title_cell": "Table of Contents",
   "title_sidebar": "Contents",
   "toc_cell": false,
   "toc_position": {},
   "toc_section_display": true,
   "toc_window_display": false
  }
 },
 "nbformat": 4,
 "nbformat_minor": 1
}