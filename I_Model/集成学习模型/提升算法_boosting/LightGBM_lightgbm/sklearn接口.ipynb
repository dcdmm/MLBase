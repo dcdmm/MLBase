{
 "cells": [
  {
   "cell_type": "code",
   "execution_count": 1,
   "metadata": {
    "collapsed": true
   },
   "outputs": [],
   "source": [
    "from lightgbm import LGBMClassifier\n",
    "from sklearn import datasets\n",
    "from sklearn.model_selection import train_test_split\n",
    "import numpy as np\n",
    "from sklearn.preprocessing import OrdinalEncoder\n",
    "import lightgbm as lgb"
   ]
  },
  {
   "cell_type": "code",
   "execution_count": 2,
   "outputs": [
    {
     "name": "stdout",
     "output_type": "stream",
     "text": [
      "(2025, 54) (2025,)\n",
      "[1 2 3 4 5 6 7]\n"
     ]
    }
   ],
   "source": [
    "X = datasets.fetch_covtype().data[:3000]\n",
    "y = datasets.fetch_covtype().target[:3000]\n",
    "X_1, X_test, y_1, y_test = train_test_split(X, y, test_size=0.1)\n",
    "X_train, X_va, y_train, y_va = train_test_split(X_1, y_1)\n",
    "\n",
    "print(X_train.shape, y_train.shape)\n",
    "print(np.unique(y_train))  # 7分类任务"
   ],
   "metadata": {
    "collapsed": false,
    "pycharm": {
     "name": "#%%\n"
    }
   }
  },
  {
   "cell_type": "code",
   "execution_count": 3,
   "outputs": [
    {
     "name": "stdout",
     "output_type": "stream",
     "text": [
      "[0. 1. 2. 3. 4. 5. 6.]\n",
      "(2025,)\n"
     ]
    }
   ],
   "source": [
    "enc = OrdinalEncoder()\n",
    "\n",
    "# y*.shape = (num_sample, )\n",
    "y_train_enc = enc.fit_transform(y_train.reshape(-1, 1)).reshape(-1, )\n",
    "y_test_enc = enc.transform(y_test.reshape(-1, 1)).reshape(-1, )\n",
    "y_va_enc = enc.fit_transform(y_va.reshape(-1, 1)).reshape(-1, )\n",
    "print(np.unique(y_train_enc))\n",
    "print(y_train_enc.shape)"
   ],
   "metadata": {
    "collapsed": false,
    "pycharm": {
     "name": "#%%\n"
    }
   }
  },
  {
   "cell_type": "code",
   "execution_count": 4,
   "outputs": [],
   "source": [
    "# 不需要指定num_class参数\n",
    "model = LGBMClassifier(\n",
    "    boosting_type='gbdt',  # 对应boosting\n",
    "    objective='multiclass',\n",
    "    n_jobs=-1,\n",
    "    max_depth=-1,\n",
    "    min_child_weight=1e-3,\n",
    "    min_child_samples=20,\n",
    "    num_leaves=31,\n",
    "    subsample=1.0,\n",
    "    subsample_freq=0,\n",
    "    learning_rate=0.1,\n",
    "    colsample_bytree=1.0,\n",
    "    reg_alpha=0.0,\n",
    "    reg_lambda=0.0,\n",
    "    n_estimators=100)"
   ],
   "metadata": {
    "collapsed": false,
    "pycharm": {
     "name": "#%%\n"
    }
   }
  },
  {
   "cell_type": "code",
   "execution_count": 5,
   "outputs": [
    {
     "name": "stdout",
     "output_type": "stream",
     "text": [
      "Training until validation scores don't improve for 100 rounds\n",
      "[10]\ttraining's multi_logloss: 0.522597\tvalid_1's multi_logloss: 0.766876\n",
      "[20]\ttraining's multi_logloss: 0.296985\tvalid_1's multi_logloss: 0.591236\n",
      "[30]\ttraining's multi_logloss: 0.175756\tvalid_1's multi_logloss: 0.535998\n"
     ]
    },
    {
     "name": "stderr",
     "output_type": "stream",
     "text": [
      "C:\\Users\\dcdmm\\anaconda3\\envs\\pytorch_env\\lib\\site-packages\\lightgbm\\basic.py:2065: UserWarning: Using categorical_feature in Dataset.\n",
      "  _log_warning('Using categorical_feature in Dataset.')\n",
      "C:\\Users\\dcdmm\\anaconda3\\envs\\pytorch_env\\lib\\site-packages\\lightgbm\\basic.py:2068: UserWarning: categorical_feature in Dataset is overridden.\n",
      "New categorical_feature is [0, 1]\n",
      "  _log_warning('categorical_feature in Dataset is overridden.\\n'\n",
      "C:\\Users\\dcdmm\\anaconda3\\envs\\pytorch_env\\lib\\site-packages\\lightgbm\\basic.py:1780: UserWarning: Overriding the parameters from Reference Dataset.\n",
      "  _log_warning('Overriding the parameters from Reference Dataset.')\n",
      "C:\\Users\\dcdmm\\anaconda3\\envs\\pytorch_env\\lib\\site-packages\\lightgbm\\basic.py:1513: UserWarning: categorical_column in param dict is overridden.\n",
      "  _log_warning(f'{cat_alias} in param dict is overridden.')\n"
     ]
    },
    {
     "name": "stdout",
     "output_type": "stream",
     "text": [
      "[40]\ttraining's multi_logloss: 0.10905\tvalid_1's multi_logloss: 0.523702\n",
      "[50]\ttraining's multi_logloss: 0.0691094\tvalid_1's multi_logloss: 0.529394\n",
      "[60]\ttraining's multi_logloss: 0.0448136\tvalid_1's multi_logloss: 0.544612\n",
      "[70]\ttraining's multi_logloss: 0.0298479\tvalid_1's multi_logloss: 0.560853\n",
      "[80]\ttraining's multi_logloss: 0.0200756\tvalid_1's multi_logloss: 0.580376\n",
      "[90]\ttraining's multi_logloss: 0.0137856\tvalid_1's multi_logloss: 0.604085\n",
      "[100]\ttraining's multi_logloss: 0.00959176\tvalid_1's multi_logloss: 0.6294\n",
      "Did not meet early stopping. Best iteration is:\n",
      "[100]\ttraining's multi_logloss: 0.00959176\tvalid_1's multi_logloss: 0.6294\n"
     ]
    },
    {
     "data": {
      "text/plain": "LGBMClassifier(objective='multiclass')"
     },
     "execution_count": 5,
     "metadata": {},
     "output_type": "execute_result"
    }
   ],
   "source": [
    "model.fit(X_train, y_train_enc,\n",
    "          eval_set=[(X_train, y_train_enc), (X_va, y_va_enc)],  # 对应valid_sets\n",
    "          sample_weight=1 / (1 + y_train_enc),  # 对应Dataset(weight)\n",
    "          eval_metric='multiclass',  # 对应metric+feval\n",
    "          callbacks=[lgb.early_stopping(100),\n",
    "                     lgb.log_evaluation(10)],\n",
    "          categorical_feature=[0, 1]  # 对应Dataset(categorical_feature)\n",
    "          )"
   ],
   "metadata": {
    "collapsed": false,
    "pycharm": {
     "name": "#%%\n"
    }
   }
  },
  {
   "cell_type": "code",
   "execution_count": 6,
   "outputs": [
    {
     "data": {
      "text/plain": "array([4., 1., 0., 4., 5., 0., 4., 1., 4., 1., 1., 4., 1., 4., 5., 1., 5.,\n       3., 1., 0., 0., 4., 4., 1., 0., 2., 1., 4., 1., 5., 1., 0., 0., 0.,\n       4., 4., 1., 1., 6., 1., 0., 0., 4., 4., 6., 4., 1., 4., 2., 6., 1.,\n       1., 4., 4., 2., 1., 1., 1., 1., 0., 0., 1., 5., 0., 1., 4., 4., 4.,\n       4., 4., 4., 1., 0., 3., 1., 5., 0., 2., 4., 1., 4., 0., 4., 1., 2.,\n       4., 5., 4., 0., 2., 5., 1., 1., 0., 0., 5., 5., 4., 2., 0., 0., 4.,\n       1., 1., 6., 5., 1., 1., 1., 2., 0., 5., 1., 1., 1., 1., 6., 5., 4.,\n       0., 1., 2., 4., 1., 1., 0., 5., 0., 2., 0., 5., 2., 0., 1., 1., 3.,\n       0., 2., 4., 3., 1., 4., 1., 5., 5., 1., 0., 4., 5., 4., 1., 2., 4.,\n       1., 1., 3., 4., 6., 4., 4., 5., 4., 3., 1., 5., 1., 4., 5., 3., 6.,\n       4., 2., 4., 1., 3., 1., 0., 1., 1., 2., 1., 1., 1., 0., 0., 4., 1.,\n       0., 1., 5., 0., 4., 1., 2., 1., 4., 1., 1., 5., 5., 5., 4., 5., 1.,\n       4., 1., 1., 1., 1., 4., 2., 4., 0., 1., 0., 4., 1., 0., 5., 5., 5.,\n       1., 2., 4., 0., 5., 5., 4., 4., 2., 0., 0., 1., 5., 4., 1., 2., 0.,\n       4., 4., 3., 4., 1., 0., 1., 4., 1., 6., 0., 2., 4., 1., 5., 1., 1.,\n       0., 1., 4., 4., 2., 0., 5., 0., 4., 0., 0., 0., 1., 1., 4., 0., 1.,\n       4., 2., 1., 4., 0., 6., 4., 0., 1., 1., 1., 4., 1., 5., 1., 4., 1.,\n       4., 2., 2., 0., 1., 0., 5., 0., 4., 1., 1.])"
     },
     "execution_count": 6,
     "metadata": {},
     "output_type": "execute_result"
    }
   ],
   "source": [
    "# 预测结果(num_sample, )\n",
    "model.predict(X_test)"
   ],
   "metadata": {
    "collapsed": false,
    "pycharm": {
     "name": "#%%\n"
    }
   }
  },
  {
   "cell_type": "code",
   "execution_count": 7,
   "outputs": [
    {
     "data": {
      "text/plain": "array([[4.14927748e-06, 4.43774292e-03, 1.01616225e-07, ...,\n        9.95557770e-01, 8.07497228e-08, 1.16886862e-07],\n       [6.51950734e-02, 9.34353032e-01, 9.58009870e-06, ...,\n        4.26366977e-04, 8.15143885e-06, 2.99806518e-06],\n       [5.92898633e-01, 4.04594422e-01, 1.24625964e-05, ...,\n        2.47318147e-03, 1.22934650e-05, 3.84130186e-06],\n       ...,\n       [1.62109872e-06, 3.87569839e-04, 5.26797214e-08, ...,\n        9.99610554e-01, 1.06219211e-07, 7.67733129e-08],\n       [2.77917122e-01, 7.02543744e-01, 3.50828004e-05, ...,\n        1.94346277e-02, 2.54309786e-05, 3.29547972e-05],\n       [9.05159922e-02, 9.08398312e-01, 8.03966466e-06, ...,\n        1.04597793e-03, 2.25864043e-05, 6.05091471e-06]])"
     },
     "execution_count": 7,
     "metadata": {},
     "output_type": "execute_result"
    }
   ],
   "source": [
    "# 预测结果的概率矩阵\n",
    "model.predict_proba(X_test)"
   ],
   "metadata": {
    "collapsed": false,
    "pycharm": {
     "name": "#%%\n"
    }
   }
  },
  {
   "cell_type": "code",
   "execution_count": 8,
   "outputs": [
    {
     "data": {
      "text/plain": "0.06"
     },
     "execution_count": 8,
     "metadata": {},
     "output_type": "execute_result"
    }
   ],
   "source": [
    "# 准确率\n",
    "model.score(X_test, y_test)"
   ],
   "metadata": {
    "collapsed": false,
    "pycharm": {
     "name": "#%%\n"
    }
   }
  },
  {
   "cell_type": "code",
   "execution_count": 9,
   "outputs": [
    {
     "data": {
      "text/plain": "{'training': OrderedDict([('multi_logloss',\n               [1.1315226280296171,\n                0.9927756820625842,\n                0.8940026673228498,\n                0.8124605859988843,\n                0.7474418578930141,\n                0.6889830818514594,\n                0.6415968835663082,\n                0.5985976412004992,\n                0.5587385270250396,\n                0.5225971906959396,\n                0.4917016074511313,\n                0.4618650250609005,\n                0.4351256039664484,\n                0.4111956589324083,\n                0.3892989975119147,\n                0.36657013380182907,\n                0.3479109639717855,\n                0.33025219988401444,\n                0.3119099052127416,\n                0.2969850134980745,\n                0.28098774879750604,\n                0.2665361120826025,\n                0.25278730914053416,\n                0.23957678038442873,\n                0.22712073575646904,\n                0.21557661965426703,\n                0.20491397948064602,\n                0.1952130964889996,\n                0.1851193986467085,\n                0.17575583833394404,\n                0.16740458201195355,\n                0.15943916897614252,\n                0.15213860451014932,\n                0.1448285231433029,\n                0.13813095019176147,\n                0.13137235172607725,\n                0.12538002583876948,\n                0.11908662777701337,\n                0.11379548919434457,\n                0.1090501738163369,\n                0.10441635598127529,\n                0.100114176229753,\n                0.09565978447369329,\n                0.0913637551602534,\n                0.08720575788119386,\n                0.08324826671307031,\n                0.0796145327391218,\n                0.0757566383997947,\n                0.07259210209556499,\n                0.06910937826839225,\n                0.0658809775516077,\n                0.06305421197436817,\n                0.06010414036458752,\n                0.057492676073941935,\n                0.054973692418052826,\n                0.05264542617621598,\n                0.05062408965774159,\n                0.04860459712704017,\n                0.046844492831519785,\n                0.04481361474529596,\n                0.0428082724006358,\n                0.04108184629699992,\n                0.039675704619233934,\n                0.03811075283892275,\n                0.036590367123836176,\n                0.0351553687501232,\n                0.03386016626583591,\n                0.03248244885948239,\n                0.031109097281378263,\n                0.029847943857489897,\n                0.02870349233410913,\n                0.027591287488423887,\n                0.02643811210181279,\n                0.025439846317861708,\n                0.024336459663334482,\n                0.023348841212535564,\n                0.02258856089370974,\n                0.021844001604486896,\n                0.020986072308695713,\n                0.020075577877492066,\n                0.019312199866277482,\n                0.01856457870268937,\n                0.0179258512491639,\n                0.01730125396341779,\n                0.01665694032061427,\n                0.01603703662140196,\n                0.015427462843218727,\n                0.014811536348151254,\n                0.014278101366723061,\n                0.013785615811550156,\n                0.013282953518928413,\n                0.012839830757153848,\n                0.012353792799052311,\n                0.011886793351157617,\n                0.011475660445457008,\n                0.011014153586900784,\n                0.01068772286551907,\n                0.01025902946444363,\n                0.009947094698810216,\n                0.009591758052960019])]),\n 'valid_1': OrderedDict([('multi_logloss',\n               [1.4814087453734304,\n                1.2962231820872878,\n                1.17193589157051,\n                1.0786136161199966,\n                1.002213702843925,\n                0.9400867070491367,\n                0.8880270761944875,\n                0.8423629896211875,\n                0.8017215549314272,\n                0.7668764943484858,\n                0.7401072986444772,\n                0.7146238743421772,\n                0.6944315410183909,\n                0.674590270734811,\n                0.6573006831495165,\n                0.6408500846950647,\n                0.6264826337072348,\n                0.6126303654264819,\n                0.6013962310768662,\n                0.5912361953275646,\n                0.5821269744524769,\n                0.5762550846533504,\n                0.5687235953129932,\n                0.5616262851431953,\n                0.5527822942194258,\n                0.5480028818184497,\n                0.5447590833221484,\n                0.5422021770962484,\n                0.5394920055502838,\n                0.5359980419458461,\n                0.533122416546583,\n                0.5289173851087368,\n                0.5266552994021889,\n                0.5247527958520126,\n                0.5233528817519975,\n                0.52485218319313,\n                0.5243746372203697,\n                0.5229928239349435,\n                0.5226622284781929,\n                0.5237019921282923,\n                0.5255547930798388,\n                0.5251438005134189,\n                0.5255811472096094,\n                0.5266897567220109,\n                0.5270573488200203,\n                0.5266640538382213,\n                0.5275124790695115,\n                0.5272115742099655,\n                0.5278457077062352,\n                0.5293935204652461,\n                0.5299896345795219,\n                0.5291623799520248,\n                0.5297844887645001,\n                0.5327068272153765,\n                0.5343993353840321,\n                0.5362978545073127,\n                0.5378072728609656,\n                0.5394061599144917,\n                0.5433728616340706,\n                0.5446120656852073,\n                0.5459564277360521,\n                0.5486563186218958,\n                0.5504619550717817,\n                0.5509673420500714,\n                0.5529516895233456,\n                0.5545227235640047,\n                0.5564860855915168,\n                0.5575546030701644,\n                0.5590974152412598,\n                0.5608530230161382,\n                0.5632993246431092,\n                0.5653043327011779,\n                0.5674613934369551,\n                0.5694668618300242,\n                0.5707180369638621,\n                0.5708777895904573,\n                0.5723734478523553,\n                0.5747354264515673,\n                0.576677832193743,\n                0.5803763370495083,\n                0.582176024505782,\n                0.5851910818731468,\n                0.5868303846329309,\n                0.5870763053292932,\n                0.5885668057192547,\n                0.5915254574027351,\n                0.5946771552480967,\n                0.599341754137178,\n                0.601426341235483,\n                0.6040847522827486,\n                0.6081372245872424,\n                0.6109437431959709,\n                0.6130761499520755,\n                0.6121903397657811,\n                0.6147424544568588,\n                0.6192791275342889,\n                0.6231055912012444,\n                0.6250367547604911,\n                0.6266976396837258,\n                0.6293996053517432])])}"
     },
     "execution_count": 9,
     "metadata": {},
     "output_type": "execute_result"
    }
   ],
   "source": [
    "# 对应vals_result\n",
    "model.evals_result_"
   ],
   "metadata": {
    "collapsed": false,
    "pycharm": {
     "name": "#%%\n"
    }
   }
  },
  {
   "cell_type": "code",
   "execution_count": 10,
   "outputs": [
    {
     "data": {
      "text/plain": "array([  91,  167, 1320, 2114, 1830, 3855, 1892, 1827, 1641, 3391,  168,\n          0,   73,  271,  119,   20,    0,    0,   33,    0,    0,    0,\n          0,  116,    0,  237,   42,    0,    0,    0,   39,   19,    0,\n        159,    0,  145,   97,   25,    0,    0,    0,    0,  182,  186,\n          4,   33,   27,    0,    0,    0,    0,  148,  191,    0])"
     },
     "execution_count": 10,
     "metadata": {},
     "output_type": "execute_result"
    }
   ],
   "source": [
    "# 特征相对重要性\n",
    "model.feature_importances_"
   ],
   "metadata": {
    "collapsed": false,
    "pycharm": {
     "name": "#%%\n"
    }
   }
  },
  {
   "cell_type": "code",
   "execution_count": 11,
   "outputs": [
    {
     "data": {
      "text/plain": "<lightgbm.basic.Booster at 0x2d8807aefd0>"
     },
     "execution_count": 11,
     "metadata": {},
     "output_type": "execute_result"
    }
   ],
   "source": [
    "# The underlying Booster of this model.\n",
    "model.booster_"
   ],
   "metadata": {
    "collapsed": false,
    "pycharm": {
     "name": "#%%\n"
    }
   }
  },
  {
   "cell_type": "code",
   "execution_count": 12,
   "outputs": [
    {
     "data": {
      "text/plain": "<lightgbm.basic.Booster at 0x2d8807aefd0>"
     },
     "execution_count": 12,
     "metadata": {},
     "output_type": "execute_result"
    }
   ],
   "source": [
    "# 保存训练好的模型\n",
    "model.booster_.save_model(\"lgb1.model\")"
   ],
   "metadata": {
    "collapsed": false,
    "pycharm": {
     "name": "#%%\n"
    }
   }
  },
  {
   "cell_type": "code",
   "execution_count": 13,
   "outputs": [
    {
     "data": {
      "text/plain": "<lightgbm.basic.Booster at 0x2d88085a070>"
     },
     "execution_count": 13,
     "metadata": {},
     "output_type": "execute_result"
    }
   ],
   "source": [
    "import lightgbm as lgb\n",
    "\n",
    "# 加载训练好的模型\n",
    "bst = lgb.Booster(model_file='lgb1.model')\n",
    "bst"
   ],
   "metadata": {
    "collapsed": false,
    "pycharm": {
     "name": "#%%\n"
    }
   }
  },
  {
   "cell_type": "code",
   "execution_count": 14,
   "outputs": [
    {
     "data": {
      "text/plain": "array([[0., 0., 0., ..., 0., 0., 0.],\n       [0., 0., 0., ..., 0., 0., 0.],\n       [0., 0., 0., ..., 0., 0., 0.],\n       ...,\n       [0., 0., 0., ..., 0., 0., 0.],\n       [0., 0., 0., ..., 0., 0., 0.],\n       [0., 0., 0., ..., 0., 0., 0.]])"
     },
     "execution_count": 14,
     "metadata": {},
     "output_type": "execute_result"
    }
   ],
   "source": [
    "bst.predict(X_test) - model.predict_proba(X_test)"
   ],
   "metadata": {
    "collapsed": false,
    "pycharm": {
     "name": "#%%\n"
    }
   }
  },
  {
   "cell_type": "code",
   "execution_count": 15,
   "outputs": [
    {
     "data": {
      "text/plain": "<Figure size 432x288 with 1 Axes>",
      "image/png": "[encoded data removed]"
     },
     "metadata": {
      "needs_background": "light"
     },
     "output_type": "display_data"
    }
   ],
   "source": [
    "import matplotlib.pyplot as plt\n",
    "\n",
    "# 绘制特征的相对重要性\n",
    "lgb.plot_importance(model)\n",
    "plt.show()"
   ],
   "metadata": {
    "collapsed": false,
    "pycharm": {
     "name": "#%%\n"
    }
   }
  },
  {
   "cell_type": "code",
   "execution_count": 16,
   "outputs": [],
   "source": [
    "# 可视化lgb分割过程\n",
    "img = lgb.create_tree_digraph(model)"
   ],
   "metadata": {
    "collapsed": false,
    "pycharm": {
     "name": "#%%\n"
    }
   }
  },
  {
   "cell_type": "code",
   "execution_count": 17,
   "outputs": [
    {
     "data": {
      "text/plain": "graphviz.graphs.Digraph"
     },
     "execution_count": 17,
     "metadata": {},
     "output_type": "execute_result"
    }
   ],
   "source": [
    "type(img)"
   ],
   "metadata": {
    "collapsed": false,
    "pycharm": {
     "name": "#%%\n"
    }
   }
  },
  {
   "cell_type": "code",
   "execution_count": 19,
   "outputs": [
    {
     "data": {
      "text/plain": "   tree_index  node_depth node_index left_child right_child parent_index  \\\n0           0           1       0-S0       0-S4        0-S1         None   \n1           0           2       0-S4      0-S20        0-S5         0-S0   \n2           0           3      0-S20       0-L0       0-L21         0-S4   \n3           0           4       0-L0       None        None        0-S20   \n4           0           4      0-L21       None        None        0-S20   \n\n  split_feature  split_gain threshold decision_type missing_direction  \\\n0      Column_5  200.309006    1903.5            <=              left   \n1      Column_5   10.091700    1026.5            <=              left   \n2     Column_25    2.757360       0.0            <=              left   \n3          None         NaN      None          None              None   \n4          None         NaN      None          None              None   \n\n  missing_type     value     weight  count  \n0         None -0.902339   0.000000   2025  \n1         None -1.016170  95.469200   1131  \n2         None -1.041500  59.414500    788  \n3         None -1.046547  56.320513    769  \n4         None -0.949586   3.094018     19  ",
      "text/html": "<div>\n<style scoped>\n    .dataframe tbody tr th:only-of-type {\n        vertical-align: middle;\n    }\n\n    .dataframe tbody tr th {\n        vertical-align: top;\n    }\n\n    .dataframe thead th {\n        text-align: right;\n    }\n</style>\n<table border=\"1\" class=\"dataframe\">\n  <thead>\n    <tr style=\"text-align: right;\">\n      <th></th>\n      <th>tree_index</th>\n      <th>node_depth</th>\n      <th>node_index</th>\n      <th>left_child</th>\n      <th>right_child</th>\n      <th>parent_index</th>\n      <th>split_feature</th>\n      <th>split_gain</th>\n      <th>threshold</th>\n      <th>decision_type</th>\n      <th>missing_direction</th>\n      <th>missing_type</th>\n      <th>value</th>\n      <th>weight</th>\n      <th>count</th>\n    </tr>\n  </thead>\n  <tbody>\n    <tr>\n      <th>0</th>\n      <td>0</td>\n      <td>1</td>\n      <td>0-S0</td>\n      <td>0-S4</td>\n      <td>0-S1</td>\n      <td>None</td>\n      <td>Column_5</td>\n      <td>200.309006</td>\n      <td>1903.5</td>\n      <td>&lt;=</td>\n      <td>left</td>\n      <td>None</td>\n      <td>-0.902339</td>\n      <td>0.000000</td>\n      <td>2025</td>\n    </tr>\n    <tr>\n      <th>1</th>\n      <td>0</td>\n      <td>2</td>\n      <td>0-S4</td>\n      <td>0-S20</td>\n      <td>0-S5</td>\n      <td>0-S0</td>\n      <td>Column_5</td>\n      <td>10.091700</td>\n      <td>1026.5</td>\n      <td>&lt;=</td>\n      <td>left</td>\n      <td>None</td>\n      <td>-1.016170</td>\n      <td>95.469200</td>\n      <td>1131</td>\n    </tr>\n    <tr>\n      <th>2</th>\n      <td>0</td>\n      <td>3</td>\n      <td>0-S20</td>\n      <td>0-L0</td>\n      <td>0-L21</td>\n      <td>0-S4</td>\n      <td>Column_25</td>\n      <td>2.757360</td>\n      <td>0.0</td>\n      <td>&lt;=</td>\n      <td>left</td>\n      <td>None</td>\n      <td>-1.041500</td>\n      <td>59.414500</td>\n      <td>788</td>\n    </tr>\n    <tr>\n      <th>3</th>\n      <td>0</td>\n      <td>4</td>\n      <td>0-L0</td>\n      <td>None</td>\n      <td>None</td>\n      <td>0-S20</td>\n      <td>None</td>\n      <td>NaN</td>\n      <td>None</td>\n      <td>None</td>\n      <td>None</td>\n      <td>None</td>\n      <td>-1.046547</td>\n      <td>56.320513</td>\n      <td>769</td>\n    </tr>\n    <tr>\n      <th>4</th>\n      <td>0</td>\n      <td>4</td>\n      <td>0-L21</td>\n      <td>None</td>\n      <td>None</td>\n      <td>0-S20</td>\n      <td>None</td>\n      <td>NaN</td>\n      <td>None</td>\n      <td>None</td>\n      <td>None</td>\n      <td>None</td>\n      <td>-0.949586</td>\n      <td>3.094018</td>\n      <td>19</td>\n    </tr>\n  </tbody>\n</table>\n</div>"
     },
     "execution_count": 19,
     "metadata": {},
     "output_type": "execute_result"
    }
   ],
   "source": [
    "df = model.booster_.trees_to_dataframe()\n",
    "df.head()"
   ],
   "metadata": {
    "collapsed": false,
    "pycharm": {
     "name": "#%%\n"
    }
   }
  },
  {
   "cell_type": "code",
   "execution_count": 20,
   "outputs": [
    {
     "data": {
      "text/plain": "    tree_index  node_depth node_index left_child right_child parent_index  \\\n0            0           1       0-S0       0-S4        0-S1         None   \n1            0           2       0-S4      0-S20        0-S5         0-S0   \n2            0           3      0-S20       0-L0       0-L21         0-S4   \n3            0           4       0-L0       None        None        0-S20   \n4            0           4      0-L21       None        None        0-S20   \n..         ...         ...        ...        ...         ...          ...   \n56           0           6       0-L8       None        None        0-S23   \n57           0           6      0-L24       None        None        0-S23   \n58           0           3      0-S24       0-L2       0-L25         0-S1   \n59           0           4       0-L2       None        None        0-S24   \n60           0           4      0-L25       None        None        0-S24   \n\n   split_feature  split_gain threshold decision_type missing_direction  \\\n0       Column_5  200.309006    1903.5            <=              left   \n1       Column_5   10.091700    1026.5            <=              left   \n2      Column_25    2.757360       0.0            <=              left   \n3           None         NaN      None          None              None   \n4           None         NaN      None          None              None   \n..           ...         ...       ...           ...               ...   \n56          None         NaN      None          None              None   \n57          None         NaN      None          None              None   \n58      Column_4    2.314940      46.5            <=              left   \n59          None         NaN      None          None              None   \n60          None         NaN      None          None              None   \n\n   missing_type     value     weight  count  \n0          None -0.902339   0.000000   2025  \n1          None -1.016170  95.469200   1131  \n2          None -1.041500  59.414500    788  \n3          None -1.046547  56.320513    769  \n4          None -0.949586   3.094018     19  \n..          ...       ...        ...    ...  \n56         None -0.922114   3.214565     26  \n57         None -1.046547   3.094018     22  \n58         None -0.969445  11.672900     74  \n59         None -1.004721   7.172497     48  \n60         None -0.913225   4.500391     26  \n\n[61 rows x 15 columns]",
      "text/html": "<div>\n<style scoped>\n    .dataframe tbody tr th:only-of-type {\n        vertical-align: middle;\n    }\n\n    .dataframe tbody tr th {\n        vertical-align: top;\n    }\n\n    .dataframe thead th {\n        text-align: right;\n    }\n</style>\n<table border=\"1\" class=\"dataframe\">\n  <thead>\n    <tr style=\"text-align: right;\">\n      <th></th>\n      <th>tree_index</th>\n      <th>node_depth</th>\n      <th>node_index</th>\n      <th>left_child</th>\n      <th>right_child</th>\n      <th>parent_index</th>\n      <th>split_feature</th>\n      <th>split_gain</th>\n      <th>threshold</th>\n      <th>decision_type</th>\n      <th>missing_direction</th>\n      <th>missing_type</th>\n      <th>value</th>\n      <th>weight</th>\n      <th>count</th>\n    </tr>\n  </thead>\n  <tbody>\n    <tr>\n      <th>0</th>\n      <td>0</td>\n      <td>1</td>\n      <td>0-S0</td>\n      <td>0-S4</td>\n      <td>0-S1</td>\n      <td>None</td>\n      <td>Column_5</td>\n      <td>200.309006</td>\n      <td>1903.5</td>\n      <td>&lt;=</td>\n      <td>left</td>\n      <td>None</td>\n      <td>-0.902339</td>\n      <td>0.000000</td>\n      <td>2025</td>\n    </tr>\n    <tr>\n      <th>1</th>\n      <td>0</td>\n      <td>2</td>\n      <td>0-S4</td>\n      <td>0-S20</td>\n      <td>0-S5</td>\n      <td>0-S0</td>\n      <td>Column_5</td>\n      <td>10.091700</td>\n      <td>1026.5</td>\n      <td>&lt;=</td>\n      <td>left</td>\n      <td>None</td>\n      <td>-1.016170</td>\n      <td>95.469200</td>\n      <td>1131</td>\n    </tr>\n    <tr>\n      <th>2</th>\n      <td>0</td>\n      <td>3</td>\n      <td>0-S20</td>\n      <td>0-L0</td>\n      <td>0-L21</td>\n      <td>0-S4</td>\n      <td>Column_25</td>\n      <td>2.757360</td>\n      <td>0.0</td>\n      <td>&lt;=</td>\n      <td>left</td>\n      <td>None</td>\n      <td>-1.041500</td>\n      <td>59.414500</td>\n      <td>788</td>\n    </tr>\n    <tr>\n      <th>3</th>\n      <td>0</td>\n      <td>4</td>\n      <td>0-L0</td>\n      <td>None</td>\n      <td>None</td>\n      <td>0-S20</td>\n      <td>None</td>\n      <td>NaN</td>\n      <td>None</td>\n      <td>None</td>\n      <td>None</td>\n      <td>None</td>\n      <td>-1.046547</td>\n      <td>56.320513</td>\n      <td>769</td>\n    </tr>\n    <tr>\n      <th>4</th>\n      <td>0</td>\n      <td>4</td>\n      <td>0-L21</td>\n      <td>None</td>\n      <td>None</td>\n      <td>0-S20</td>\n      <td>None</td>\n      <td>NaN</td>\n      <td>None</td>\n      <td>None</td>\n      <td>None</td>\n      <td>None</td>\n      <td>-0.949586</td>\n      <td>3.094018</td>\n      <td>19</td>\n    </tr>\n    <tr>\n      <th>...</th>\n      <td>...</td>\n      <td>...</td>\n      <td>...</td>\n      <td>...</td>\n      <td>...</td>\n      <td>...</td>\n      <td>...</td>\n      <td>...</td>\n      <td>...</td>\n      <td>...</td>\n      <td>...</td>\n      <td>...</td>\n      <td>...</td>\n      <td>...</td>\n      <td>...</td>\n    </tr>\n    <tr>\n      <th>56</th>\n      <td>0</td>\n      <td>6</td>\n      <td>0-L8</td>\n      <td>None</td>\n      <td>None</td>\n      <td>0-S23</td>\n      <td>None</td>\n      <td>NaN</td>\n      <td>None</td>\n      <td>None</td>\n      <td>None</td>\n      <td>None</td>\n      <td>-0.922114</td>\n      <td>3.214565</td>\n      <td>26</td>\n    </tr>\n    <tr>\n      <th>57</th>\n      <td>0</td>\n      <td>6</td>\n      <td>0-L24</td>\n      <td>None</td>\n      <td>None</td>\n      <td>0-S23</td>\n      <td>None</td>\n      <td>NaN</td>\n      <td>None</td>\n      <td>None</td>\n      <td>None</td>\n      <td>None</td>\n      <td>-1.046547</td>\n      <td>3.094018</td>\n      <td>22</td>\n    </tr>\n    <tr>\n      <th>58</th>\n      <td>0</td>\n      <td>3</td>\n      <td>0-S24</td>\n      <td>0-L2</td>\n      <td>0-L25</td>\n      <td>0-S1</td>\n      <td>Column_4</td>\n      <td>2.314940</td>\n      <td>46.5</td>\n      <td>&lt;=</td>\n      <td>left</td>\n      <td>None</td>\n      <td>-0.969445</td>\n      <td>11.672900</td>\n      <td>74</td>\n    </tr>\n    <tr>\n      <th>59</th>\n      <td>0</td>\n      <td>4</td>\n      <td>0-L2</td>\n      <td>None</td>\n      <td>None</td>\n      <td>0-S24</td>\n      <td>None</td>\n      <td>NaN</td>\n      <td>None</td>\n      <td>None</td>\n      <td>None</td>\n      <td>None</td>\n      <td>-1.004721</td>\n      <td>7.172497</td>\n      <td>48</td>\n    </tr>\n    <tr>\n      <th>60</th>\n      <td>0</td>\n      <td>4</td>\n      <td>0-L25</td>\n      <td>None</td>\n      <td>None</td>\n      <td>0-S24</td>\n      <td>None</td>\n      <td>NaN</td>\n      <td>None</td>\n      <td>None</td>\n      <td>None</td>\n      <td>None</td>\n      <td>-0.913225</td>\n      <td>4.500391</td>\n      <td>26</td>\n    </tr>\n  </tbody>\n</table>\n<p>61 rows × 15 columns</p>\n</div>"
     },
     "execution_count": 20,
     "metadata": {},
     "output_type": "execute_result"
    }
   ],
   "source": [
    "# 决策路径\n",
    "df[df['tree_index'] == 0]"
   ],
   "metadata": {
    "collapsed": false,
    "pycharm": {
     "name": "#%%\n"
    }
   }
  }
 ],
 "metadata": {
  "kernelspec": {
   "display_name": "Python 3",
   "language": "python",
   "name": "python3"
  },
  "language_info": {
   "codemirror_mode": {
    "name": "ipython",
    "version": 2
   },
   "file_extension": ".py",
   "mimetype": "text/x-python",
   "name": "python",
   "nbconvert_exporter": "python",
   "pygments_lexer": "ipython2",
   "version": "2.7.6"
  }
 },
 "nbformat": 4,
 "nbformat_minor": 0
}