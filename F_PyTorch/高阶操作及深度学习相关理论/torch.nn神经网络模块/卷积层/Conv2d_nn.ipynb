{
 "cells": [
  {
   "cell_type": "markdown",
   "metadata": {
    "pycharm": {
     "name": "#%% md\n"
    }
   },
   "source": [
    "* input:$(N, C_{in}, H_{in}, W_{in})$\n",
    "\n",
    "* output:$(N, C_{out}, H_{out}, W_{out})$\n",
    "\n",
    "$$ H_{out} = \\left \\lfloor \\frac{H_{in} + 2 \\times padding[0] - dilation[0] \\times(kernel\\_size[0]-1)-1}{stride[0]} +1  \\right \\rfloor \\\\ $$\n",
    "\n",
    "$$ D_{out} = \\left \\lfloor \\frac{W_{in} + 2 \\times padding[1] - dilation[1] \\times(kernel\\_size[1]-1)-1}{stride[1]} +1  \\right \\rfloor \\\\ $$"
   ]
  },
  {
   "cell_type": "code",
   "execution_count": 8,
   "metadata": {},
   "outputs": [],
   "source": [
    "import torch.nn as nn\n",
    "import torch"
   ]
  },
  {
   "cell_type": "code",
   "execution_count": 9,
   "metadata": {
    "pycharm": {
     "name": "#%%\n"
    }
   },
   "outputs": [
    {
     "data": {
      "text/plain": [
       "torch.Size([100, 33, 24, 24])"
      ]
     },
     "execution_count": 9,
     "metadata": {},
     "output_type": "execute_result"
    }
   ],
   "source": [
    "input_tensor = torch.randn((100, 16, 50, 50)) # Input: (N, C_in, H_in, W_in)\n",
    "conv2d_c0 = nn.Conv2d(in_channels=16, # 即C_in\n",
    "                     out_channels=33, # 即C_out\n",
    "                     kernel_size=3,\n",
    "                     stride=2) # Out: (N, C_out, H_out, W_out)\n",
    "\n",
    "'''\n",
    "in_channels (int) – Number of channels in the input image\n",
    "out_channels (int) – Number of channels produced by the convolution\n",
    "kernel_size (int or tuple) – Size of the convolving kernel\n",
    "stride (int or tuple, optional) – Stride of the convolution. Default: 1\n",
    "'''\n",
    "conv2d_c0(input_tensor).shape"
   ]
  },
  {
   "cell_type": "code",
   "execution_count": 10,
   "metadata": {
    "pycharm": {
     "name": "#%%\n"
    }
   },
   "outputs": [
    {
     "data": {
      "text/plain": [
       "torch.Size([33, 16, 3, 3])"
      ]
     },
     "execution_count": 10,
     "metadata": {},
     "output_type": "execute_result"
    }
   ],
   "source": [
    "conv2d_c0.weight.shape # 形状为(out_channels,in_channels,kH,KW);内部默认实现了:init.kaiming_uniform_(self.weight, a=math.sqrt(5))"
   ]
  },
  {
   "cell_type": "code",
   "execution_count": 11,
   "metadata": {
    "pycharm": {
     "name": "#%%\n"
    }
   },
   "outputs": [
    {
     "data": {
      "text/plain": [
       "Parameter containing:\n",
       "tensor([ 0.0601,  0.0780, -0.0159,  0.0469, -0.0170,  0.0572,  0.0092, -0.0114,\n",
       "        -0.0577,  0.0275,  0.0011, -0.0367, -0.0413, -0.0797, -0.0494,  0.0358,\n",
       "         0.0808,  0.0371, -0.0644,  0.0441,  0.0698,  0.0247,  0.0618,  0.0531,\n",
       "        -0.0405, -0.0324, -0.0040,  0.0380, -0.0820, -0.0077, -0.0307, -0.0548,\n",
       "         0.0344], requires_grad=True)"
      ]
     },
     "execution_count": 11,
     "metadata": {},
     "output_type": "execute_result"
    }
   ],
   "source": [
    "conv2d_c0.bias # 内部默认进行了kaiming_uniform_初始化"
   ]
  },
  {
   "cell_type": "code",
   "execution_count": 12,
   "metadata": {
    "pycharm": {
     "name": "#%%\n"
    }
   },
   "outputs": [
    {
     "data": {
      "text/plain": [
       "torch.Size([100, 33, 26, 54])"
      ]
     },
     "execution_count": 12,
     "metadata": {},
     "output_type": "execute_result"
    }
   ],
   "source": [
    "conv2d_c1 = nn.Conv2d(in_channels=16,\n",
    "                    out_channels=33,\n",
    "                    kernel_size=(3, 5),\n",
    "                    stride=(2, 1),\n",
    "                    padding=(2, 4))\n",
    "conv2d_c1(input_tensor).shape"
   ]
  },
  {
   "cell_type": "code",
   "execution_count": 13,
   "metadata": {
    "pycharm": {
     "name": "#%%\n"
    }
   },
   "outputs": [
    {
     "data": {
      "text/plain": [
       "torch.Size([100, 33, 26, 50])"
      ]
     },
     "execution_count": 13,
     "metadata": {},
     "output_type": "execute_result"
    }
   ],
   "source": [
    "conv2d_c = nn.Conv2d(16, 33, (3, 5), stride=(2, 1), padding=(4, 2),\n",
    "                    dilation=(3, 1)) # H,W方向的膨胀率(膨胀率为1时即为普通的卷积核)\n",
    "conv2d_c(input_tensor).shape\n",
    "\n"
   ]
  }
 ],
 "metadata": {
  "kernelspec": {
   "display_name": "Python 3",
   "language": "python",
   "name": "python3"
  },
  "language_info": {
   "codemirror_mode": {
    "name": "ipython",
    "version": 3
   },
   "file_extension": ".py",
   "mimetype": "text/x-python",
   "name": "python",
   "nbconvert_exporter": "python",
   "pygments_lexer": "ipython3",
   "version": "3.7.7"
  },
  "toc": {
   "base_numbering": 1,
   "nav_menu": {},
   "number_sections": true,
   "sideBar": true,
   "skip_h1_title": false,
   "title_cell": "Table of Contents",
   "title_sidebar": "Contents",
   "toc_cell": false,
   "toc_position": {},
   "toc_section_display": true,
   "toc_window_display": false
  }
 },
 "nbformat": 4,
 "nbformat_minor": 1
}