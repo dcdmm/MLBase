{
 "cells": [
  {
   "cell_type": "code",
   "execution_count": 1,
   "outputs": [
    {
     "name": "stdout",
     "text": [
      "324 732\n",
      "(634, 732, 548)\n",
      "(4231, 242, 533, 324, 535)\n",
      "(4231, 242, 533, 324, 535, 634, 732, 548)\n",
      "(242, 324, 634)\n",
      "(548, 634, 324)\n"
     ],
     "output_type": "stream"
    }
   ],
   "source": [
    "# 元组切片索引\n",
    "tuple_number = (4231, 242, 533, 324, 535, 634, 732, 548)\n",
    "print(tuple_number[3], tuple_number[-2]) # 支持负数索引\n",
    "print(tuple_number[5:])  \n",
    "print(tuple_number[:5]) \n",
    "print(tuple_number[:])\n",
    "print(tuple_number[1:6:2])\n",
    "print(tuple_number[-1:2:-2]) # 切片,步长为-2"
   ],
   "metadata": {
    "collapsed": false,
    "pycharm": {
     "name": "#%%\n",
     "is_executing": false
    }
   }
  },
  {
   "cell_type": "code",
   "execution_count": 5,
   "outputs": [
    {
     "name": "stdout",
     "text": [
      "324\n",
      "(324,)\n"
     ],
     "output_type": "stream"
    }
   ],
   "source": [
    "print(tuple_number[3])\n",
    "print(tuple_number[3:4]) # 切片的结果为元组"
   ],
   "metadata": {
    "collapsed": false,
    "pycharm": {
     "name": "#%%\n",
     "is_executing": false
    }
   }
  },
  {
   "cell_type": "code",
   "execution_count": 2,
   "outputs": [
    {
     "name": "stdout",
     "text": [
      "(1)是: <class 'int'>\n",
      "(1,)是: <class 'tuple'>\n",
      "1是 <class 'int'>\n",
      "1,是 <class 'tuple'>\n",
      "64\n",
      "(8, 8, 8, 8, 8, 8, 8, 8)\n"
     ],
     "output_type": "stream"
    }
   ],
   "source": [
    "example_1 = (1)\n",
    "print('(1)是:', type(example_1))  # 整型类\n",
    "\n",
    "example_2 = (1,)\n",
    "print('(1,)是:', type(example_2)) # 元组类\n",
    "\n",
    "example_3 = 1\n",
    "print(\"1是\", type(example_3)) # 整型类\n",
    "\n",
    "example_4 = 1,\n",
    "print('1,是', type(example_4))  # 元组类\n",
    "\n",
    "print(8 * (8)) # 得到64,*是乘法\n",
    "print(8 * (8, )) # 得到8个8组成的元组,*是重复操作符(与列表形式)"
   ],
   "metadata": {
    "pycharm": {
     "metadata": false,
     "name": "#%%\n",
     "is_executing": false
    }
   }
  },
  {
   "cell_type": "code",
   "execution_count": 3,
   "outputs": [
    {
     "name": "stdout",
     "text": [
      "(1, 2, 3, 'a', 'b')\n"
     ],
     "output_type": "stream"
    }
   ],
   "source": [
    "print((1, 2, 3) + ('a', 'b'))             # 拼接(+)在元组中的作用"
   ],
   "metadata": {
    "pycharm": {
     "metadata": false,
     "name": "#%%\n",
     "is_executing": false
    }
   }
  },
  {
   "cell_type": "code",
   "execution_count": 4,
   "outputs": [
    {
     "name": "stdout",
     "text": [
      "(1, 2, 3)\n"
     ],
     "output_type": "stream"
    },
    {
     "traceback": [
      "\u001b[1;31m---------------------------------------------------------------------------\u001b[0m",
      "\u001b[1;31mNameError\u001b[0m                                 Traceback (most recent call last)",
      "\u001b[1;32m<ipython-input-4-f76af51ded28>\u001b[0m in \u001b[0;36m<module>\u001b[1;34m\u001b[0m\n\u001b[0;32m      2\u001b[0m \u001b[0mprint\u001b[0m\u001b[1;33m(\u001b[0m\u001b[0mtup\u001b[0m\u001b[1;33m)\u001b[0m\u001b[1;33m\u001b[0m\u001b[1;33m\u001b[0m\u001b[0m\n\u001b[0;32m      3\u001b[0m \u001b[1;32mdel\u001b[0m \u001b[0mtup\u001b[0m \u001b[1;31m# 删除元组(删除对象引用)\u001b[0m\u001b[1;33m\u001b[0m\u001b[1;33m\u001b[0m\u001b[0m\n\u001b[1;32m----> 4\u001b[1;33m \u001b[0mprint\u001b[0m\u001b[1;33m(\u001b[0m\u001b[0mtup\u001b[0m\u001b[1;33m)\u001b[0m\u001b[1;33m\u001b[0m\u001b[1;33m\u001b[0m\u001b[0m\n\u001b[0m\u001b[0;32m      5\u001b[0m \u001b[1;33m\u001b[0m\u001b[0m\n",
      "\u001b[1;31mNameError\u001b[0m: name 'tup' is not defined"
     ],
     "ename": "NameError",
     "evalue": "name 'tup' is not defined",
     "output_type": "error"
    }
   ],
   "source": [
    "tup = (1, 2, 3)\n",
    "print(tup)\n",
    "del tup # 删除元组(删除对象引用)\n",
    "print(tup) "
   ],
   "metadata": {
    "collapsed": false,
    "pycharm": {
     "name": "#%%\n",
     "is_executing": false
    }
   }
  },
  {
   "cell_type": "code",
   "execution_count": null,
   "outputs": [],
   "source": [
    "\n"
   ],
   "metadata": {
    "collapsed": false,
    "pycharm": {
     "name": "#%%\n",
     "is_executing": false
    }
   }
  }
 ],
 "metadata": {
  "kernelspec": {
   "name": "python3",
   "language": "python",
   "display_name": "Python 3"
  },
  "language_info": {
   "codemirror_mode": {
    "name": "ipython",
    "version": 2
   },
   "file_extension": ".py",
   "mimetype": "text/x-python",
   "name": "python",
   "nbconvert_exporter": "python",
   "pygments_lexer": "ipython2",
   "version": "2.7.6"
  },
  "pycharm": {
   "stem_cell": {
    "cell_type": "raw",
    "source": [],
    "metadata": {
     "collapsed": false
    }
   }
  }
 },
 "nbformat": 4,
 "nbformat_minor": 0
}